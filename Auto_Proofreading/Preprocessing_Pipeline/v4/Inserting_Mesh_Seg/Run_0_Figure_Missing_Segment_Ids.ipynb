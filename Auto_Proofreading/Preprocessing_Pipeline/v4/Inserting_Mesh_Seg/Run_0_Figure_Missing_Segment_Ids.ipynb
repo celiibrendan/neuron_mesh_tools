{
 "cells": [
  {
   "cell_type": "code",
   "execution_count": 1,
   "metadata": {},
   "outputs": [],
   "source": [
    "%load_ext autoreload\n",
    "%autoreload 2"
   ]
  },
  {
   "cell_type": "code",
   "execution_count": 2,
   "metadata": {},
   "outputs": [
    {
     "name": "stderr",
     "output_type": "stream",
     "text": [
      "INFO - 2021-05-17 16:45:01,373 - settings - Setting database.host to at-database.ad.bcm.edu\n",
      "INFO - 2021-05-17 16:45:01,375 - settings - Setting database.user to celiib\n",
      "INFO - 2021-05-17 16:45:01,376 - settings - Setting database.password to newceliipass\n",
      "INFO - 2021-05-17 16:45:01,380 - settings - Setting stores to {'minnie65': {'protocol': 'file', 'location': '/mnt/dj-stor01/platinum/minnie65', 'stage': '/mnt/dj-stor01/platinum/minnie65'}, 'meshes': {'protocol': 'file', 'location': '/mnt/dj-stor01/platinum/minnie65/02/meshes', 'stage': '/mnt/dj-stor01/platinum/minnie65/02/meshes'}, 'decimated_meshes': {'protocol': 'file', 'location': '/mnt/dj-stor01/platinum/minnie65/02/decimated_meshes', 'stage': '/mnt/dj-stor01/platinum/minnie65/02/decimated_meshes'}, 'skeletons': {'protocol': 'file', 'location': '/mnt/dj-stor01/platinum/minnie65/02/skeletons'}}\n",
      "INFO - 2021-05-17 16:45:01,381 - settings - Setting enable_python_native_blobs to True\n",
      "INFO - 2021-05-17 16:45:01,393 - connection - Connected celiib@at-database.ad.bcm.edu:3306\n"
     ]
    },
    {
     "name": "stdout",
     "output_type": "stream",
     "text": [
      "Connecting celiib@at-database.ad.bcm.edu:3306\n"
     ]
    },
    {
     "name": "stderr",
     "output_type": "stream",
     "text": [
      "INFO - 2021-05-17 16:45:01,823 - settings - Setting enable_python_native_blobs to True\n",
      "INFO - 2021-05-17 16:45:01,826 - settings - Setting database.host to at-database.ad.bcm.edu\n",
      "INFO - 2021-05-17 16:45:01,828 - settings - Setting database.user to celiib\n",
      "INFO - 2021-05-17 16:45:01,829 - settings - Setting database.password to newceliipass\n",
      "INFO - 2021-05-17 16:45:01,830 - settings - Setting database.host to at-database.ad.bcm.edu\n",
      "INFO - 2021-05-17 16:45:01,831 - settings - Setting database.user to celiib\n",
      "INFO - 2021-05-17 16:45:01,834 - settings - Setting database.password to newceliipass\n",
      "INFO - 2021-05-17 16:45:01,835 - settings - Setting enable_python_native_blobs to True\n",
      "INFO - 2021-05-17 16:45:02,323 - settings - Setting enable_python_native_blobs to True\n"
     ]
    }
   ],
   "source": [
    "import numpy as np\n",
    "import datajoint as dj\n",
    "import trimesh\n",
    "from tqdm.notebook import tqdm\n",
    "from pathlib import Path\n",
    "\n",
    "from os import sys\n",
    "sys.path.append(\"/meshAfterParty/\")\n",
    "sys.path.append(\"/meshAfterParty/meshAfterParty\")\n",
    "\n",
    "import datajoint_utils as du\n",
    "from importlib import reload"
   ]
  },
  {
   "cell_type": "code",
   "execution_count": 3,
   "metadata": {},
   "outputs": [
    {
     "name": "stderr",
     "output_type": "stream",
     "text": [
      "INFO - 2021-05-17 16:45:02,468 - settings - Setting database.host to at-database.ad.bcm.edu\n",
      "INFO - 2021-05-17 16:45:02,469 - settings - Setting database.user to celiib\n",
      "INFO - 2021-05-17 16:45:02,469 - settings - Setting database.password to newceliipass\n",
      "INFO - 2021-05-17 16:45:02,473 - settings - Setting enable_python_native_blobs to True\n",
      "INFO - 2021-05-17 16:45:02,996 - settings - Setting enable_python_native_blobs to True\n"
     ]
    }
   ],
   "source": [
    "minnie,schema = du.configure_minnie_vm()"
   ]
  },
  {
   "cell_type": "markdown",
   "metadata": {},
   "source": [
    "# Deleting all the mesh data already placed"
   ]
  },
  {
   "cell_type": "code",
   "execution_count": 4,
   "metadata": {},
   "outputs": [],
   "source": [
    "import datajoint as dj"
   ]
  },
  {
   "cell_type": "code",
   "execution_count": null,
   "metadata": {},
   "outputs": [],
   "source": [
    "# import numpy as np\n",
    "# segment_ids = np.load(\"../v88_mesh_ids_to_download.npz\")[\"segment_ids\"]\n",
    "\n",
    "# from pathlib import Path\n",
    "\n",
    "# s_exists = []\n",
    "# for s in segment_ids:\n",
    "#     if not Path(f\"/mnt/dj-stor01/platinum/minnie65/02/meshes/{s}.h5\").exists():\n",
    "#         s_exists.append(s)"
   ]
  },
  {
   "cell_type": "code",
   "execution_count": null,
   "metadata": {},
   "outputs": [],
   "source": [
    "existsing_meshes = du.version_to_segment_id_table() - minnie.Mesh()\n",
    "existsing_meshes"
   ]
  },
  {
   "cell_type": "code",
   "execution_count": null,
   "metadata": {},
   "outputs": [],
   "source": [
    "seg_ids_to_process = existsing_meshes.fetch(\"segment_id\")\n",
    "np.savez(\"seg_ids_to_process_5_15_try_2\",seg_ids_to_process=seg_ids_to_process)"
   ]
  },
  {
   "cell_type": "code",
   "execution_count": null,
   "metadata": {},
   "outputs": [],
   "source": [
    "idx = 0\n",
    "step_size = 433\n",
    "start_index = step_size*(idx)\n",
    "end_index = step_size*(idx+1)\n",
    "if end_index > len(seg_ids_to_process):\n",
    "    end_index = len(seg_ids_to_process)\n",
    "    \n",
    "du.insert_segment_ids_and_meshes(seg_ids_to_process[start_index:\n",
    "                                                    end_index]\n",
    "                                                    ,suppress_errors = False)"
   ]
  }
 ],
 "metadata": {
  "kernelspec": {
   "display_name": "Python 3",
   "language": "python",
   "name": "python3"
  },
  "language_info": {
   "codemirror_mode": {
    "name": "ipython",
    "version": 3
   },
   "file_extension": ".py",
   "mimetype": "text/x-python",
   "name": "python",
   "nbconvert_exporter": "python",
   "pygments_lexer": "ipython3",
   "version": "3.6.9"
  }
 },
 "nbformat": 4,
 "nbformat_minor": 4
}
