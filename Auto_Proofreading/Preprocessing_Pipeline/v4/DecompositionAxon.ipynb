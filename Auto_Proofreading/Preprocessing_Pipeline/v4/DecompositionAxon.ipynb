{
 "cells": [
  {
   "cell_type": "code",
   "execution_count": 1,
   "metadata": {},
   "outputs": [
    {
     "data": {
      "text/plain": [
       "'\\nPurpose: To Create the table that\\nwill store the neuron objects that have finer\\naxon preprocessing\\n\\n'"
      ]
     },
     "execution_count": 1,
     "metadata": {},
     "output_type": "execute_result"
    }
   ],
   "source": [
    "\"\"\"\n",
    "Purpose: To Create the table that\n",
    "will store the neuron objects that have finer\n",
    "axon preprocessing\n",
    "\n",
    "\"\"\""
   ]
  },
  {
   "cell_type": "code",
   "execution_count": 2,
   "metadata": {},
   "outputs": [
    {
     "name": "stderr",
     "output_type": "stream",
     "text": [
      "INFO - 2021-05-09 19:16:06,299 - settings - Setting database.host to at-database.ad.bcm.edu\n",
      "INFO - 2021-05-09 19:16:06,301 - settings - Setting database.user to celiib\n",
      "INFO - 2021-05-09 19:16:06,302 - settings - Setting database.password to newceliipass\n",
      "INFO - 2021-05-09 19:16:06,325 - settings - Setting stores to {'minnie65': {'protocol': 'file', 'location': '/mnt/dj-stor01/platinum/minnie65', 'stage': '/mnt/dj-stor01/platinum/minnie65'}, 'meshes': {'protocol': 'file', 'location': '/mnt/dj-stor01/platinum/minnie65/02/meshes', 'stage': '/mnt/dj-stor01/platinum/minnie65/02/meshes'}, 'decimated_meshes': {'protocol': 'file', 'location': '/mnt/dj-stor01/platinum/minnie65/02/decimated_meshes', 'stage': '/mnt/dj-stor01/platinum/minnie65/02/decimated_meshes'}, 'skeletons': {'protocol': 'file', 'location': '/mnt/dj-stor01/platinum/minnie65/02/skeletons'}}\n",
      "INFO - 2021-05-09 19:16:06,326 - settings - Setting enable_python_native_blobs to True\n",
      "INFO - 2021-05-09 19:16:06,340 - connection - Connected celiib@at-database.ad.bcm.edu:3306\n"
     ]
    },
    {
     "name": "stdout",
     "output_type": "stream",
     "text": [
      "Connecting celiib@at-database.ad.bcm.edu:3306\n"
     ]
    },
    {
     "name": "stderr",
     "output_type": "stream",
     "text": [
      "INFO - 2021-05-09 19:16:06,742 - settings - Setting enable_python_native_blobs to True\n",
      "INFO - 2021-05-09 19:16:06,745 - settings - Setting database.host to at-database.ad.bcm.edu\n",
      "INFO - 2021-05-09 19:16:06,746 - settings - Setting database.user to celiib\n",
      "INFO - 2021-05-09 19:16:06,747 - settings - Setting database.password to newceliipass\n",
      "INFO - 2021-05-09 19:16:06,748 - settings - Setting database.host to at-database.ad.bcm.edu\n",
      "INFO - 2021-05-09 19:16:06,749 - settings - Setting database.user to celiib\n",
      "INFO - 2021-05-09 19:16:06,749 - settings - Setting database.password to newceliipass\n",
      "INFO - 2021-05-09 19:16:06,751 - settings - Setting enable_python_native_blobs to True\n",
      "INFO - 2021-05-09 19:16:07,168 - settings - Setting enable_python_native_blobs to True\n"
     ]
    }
   ],
   "source": [
    "import numpy as np\n",
    "import datajoint as dj\n",
    "import trimesh\n",
    "from tqdm.notebook import tqdm\n",
    "from pathlib import Path\n",
    "\n",
    "from os import sys\n",
    "sys.path.append(\"/meshAfterParty/\")\n",
    "sys.path.append(\"/meshAfterParty/meshAfterParty\")\n",
    "\n",
    "import datajoint_utils as du\n",
    "from importlib import reload"
   ]
  },
  {
   "cell_type": "code",
   "execution_count": 3,
   "metadata": {},
   "outputs": [],
   "source": [
    "#so that it will have the adapter defined\n",
    "from datajoint_utils import *"
   ]
  },
  {
   "cell_type": "code",
   "execution_count": 4,
   "metadata": {},
   "outputs": [],
   "source": [
    "test_mode = True"
   ]
  },
  {
   "cell_type": "markdown",
   "metadata": {},
   "source": [
    "# Debugging the contains method"
   ]
  },
  {
   "cell_type": "code",
   "execution_count": 5,
   "metadata": {},
   "outputs": [],
   "source": [
    "import system_utils as su"
   ]
  },
  {
   "cell_type": "code",
   "execution_count": 6,
   "metadata": {},
   "outputs": [
    {
     "name": "stderr",
     "output_type": "stream",
     "text": [
      "INFO - 2021-05-09 19:16:07,539 - settings - Setting database.host to at-database.ad.bcm.edu\n",
      "INFO - 2021-05-09 19:16:07,540 - settings - Setting database.user to celiib\n",
      "INFO - 2021-05-09 19:16:07,541 - settings - Setting database.password to newceliipass\n",
      "INFO - 2021-05-09 19:16:07,542 - settings - Setting database.host to at-database.ad.bcm.edu\n",
      "INFO - 2021-05-09 19:16:07,543 - settings - Setting database.user to celiib\n",
      "INFO - 2021-05-09 19:16:07,544 - settings - Setting database.password to newceliipass\n",
      "INFO - 2021-05-09 19:16:07,549 - settings - Setting enable_python_native_blobs to True\n"
     ]
    },
    {
     "name": "stdout",
     "output_type": "stream",
     "text": [
      "Sleeping 151 sec before conneting\n",
      "Done sleeping\n",
      "Current path for external_segmentation_path = /mnt/dj-stor01/platinum/minnie65/02\n",
      "Current path for external_mesh_path = /mnt/dj-stor01/platinum/minnie65/02/meshes\n",
      "Current path for external_decimated_mesh_path = /mnt/dj-stor01/platinum/minnie65/02/decimated_meshes\n",
      "Current path for external_skeleton_path = /mnt/dj-stor01/platinum/minnie65/02/skeletons\n"
     ]
    },
    {
     "name": "stderr",
     "output_type": "stream",
     "text": [
      "INFO - 2021-05-09 19:16:08,010 - settings - Setting enable_python_native_blobs to True\n"
     ]
    }
   ],
   "source": [
    "import minfig\n",
    "import time\n",
    "import numpy as np\n",
    "#want to add in a wait for the connection part\n",
    "random_sleep_sec = np.random.randint(0, 200)\n",
    "print(f\"Sleeping {random_sleep_sec} sec before conneting\")\n",
    "if not test_mode:\n",
    "    time.sleep(random_sleep_sec)\n",
    "print(\"Done sleeping\")\n",
    "\n",
    "du.config_celii()\n",
    "du.set_minnie65_config_segmentation(minfig)\n",
    "du.print_minnie65_config_paths(minfig)\n",
    "\n",
    "#configuring will include the adapters\n",
    "minnie,schema = du.configure_minnie_vm()"
   ]
  },
  {
   "cell_type": "code",
   "execution_count": 7,
   "metadata": {},
   "outputs": [],
   "source": [
    "from importlib import reload\n",
    "\n",
    "import neuron_utils as nru\n",
    "\n",
    "import neuron\n",
    "\n",
    "import neuron_visualizations as nviz\n",
    "\n",
    "import time\n",
    "\n",
    "import datajoint_utils as du\n",
    "\n",
    "import numpy as np\n",
    "\n",
    "import proofreading_utils as pru\n",
    "\n",
    "import preprocessing_vp2 as pre\n",
    "\n",
    "# -- For the axon classification --\n",
    "\n",
    "import neuron_searching as ns\n",
    "\n",
    "import skeleton_utils as sk\n",
    "\n",
    "import numpy_utils as nu\n",
    "\n",
    "import networkx_utils as xu\n",
    "\n",
    "import system_utils as su\n",
    "\n",
    "import classification_utils as clu\n",
    "import proofreading_utils as pru\n",
    "\n",
    "import datajoint as dj\n",
    "\n",
    "from pykdtree.kdtree import KDTree\n",
    "import trimesh_utils as tu\n",
    "import proofreading_utils as pru\n",
    "import numpy as np"
   ]
  },
  {
   "cell_type": "markdown",
   "metadata": {},
   "source": [
    "# Defining the Table"
   ]
  },
  {
   "cell_type": "code",
   "execution_count": 8,
   "metadata": {},
   "outputs": [
    {
     "name": "stdout",
     "output_type": "stream",
     "text": [
      "No port chosen so picked random port 3603\n"
     ]
    }
   ],
   "source": [
    "import meshlab\n",
    "meshlab.set_meshlab_port(current_port=None)"
   ]
  },
  {
   "cell_type": "markdown",
   "metadata": {},
   "source": [
    "# Proofreading Version"
   ]
  },
  {
   "cell_type": "code",
   "execution_count": 9,
   "metadata": {},
   "outputs": [
    {
     "data": {
      "text/html": [
       "\n",
       "        \n",
       "        <style type=\"text/css\">\n",
       "            .Relation{\n",
       "                border-collapse:collapse;\n",
       "            }\n",
       "            .Relation th{\n",
       "                background: #A0A0A0; color: #ffffff; padding:4px; border:#f0e0e0 1px solid;\n",
       "                font-weight: normal; font-family: monospace; font-size: 100%;\n",
       "            }\n",
       "            .Relation td{\n",
       "                padding:4px; border:#f0e0e0 1px solid; font-size:100%;\n",
       "            }\n",
       "            .Relation tr:nth-child(odd){\n",
       "                background: #ffffff;\n",
       "            }\n",
       "            .Relation tr:nth-child(even){\n",
       "                background: #f3f1ff;\n",
       "            }\n",
       "            /* Tooltip container */\n",
       "            .djtooltip {\n",
       "            }\n",
       "            /* Tooltip text */\n",
       "            .djtooltip .djtooltiptext {\n",
       "                visibility: hidden;\n",
       "                width: 120px;\n",
       "                background-color: black;\n",
       "                color: #fff;\n",
       "                text-align: center;\n",
       "                padding: 5px 0;\n",
       "                border-radius: 6px;\n",
       "                /* Position the tooltip text - see examples below! */\n",
       "                position: absolute;\n",
       "                z-index: 1;\n",
       "            }\n",
       "            #primary {\n",
       "                font-weight: bold;\n",
       "                color: black;\n",
       "            }\n",
       "\n",
       "            #nonprimary {\n",
       "                font-weight: normal;\n",
       "                color: white;\n",
       "            }\n",
       "\n",
       "            /* Show the tooltip text when you mouse over the tooltip container */\n",
       "            .djtooltip:hover .djtooltiptext {\n",
       "                visibility: visible;\n",
       "            }\n",
       "        </style>\n",
       "        \n",
       "        <b></b>\n",
       "            <div style=\"max-height:1000px;max-width:1500px;overflow:auto;\">\n",
       "            <table border=\"1\" class=\"Relation\">\n",
       "                <thead> <tr style=\"text-align: right;\"> <th> <div class=\"djtooltip\">\n",
       "                                <p id=\"primary\">axon_version</p>\n",
       "                                <span class=\"djtooltiptext\">key by which to lookup the finer axon processing method</span>\n",
       "                            </div></th><th><div class=\"djtooltip\">\n",
       "                                <p id=\"nonprimary\">description</p>\n",
       "                                <span class=\"djtooltiptext\">new parts of the finer axon preprocessing</span>\n",
       "                            </div> </th> </tr> </thead>\n",
       "                <tbody> <tr> <td>0</td>\n",
       "<td>axon with standard meshparty</td></tr><tr><td>2</td>\n",
       "<td>axon with finer resolution</td></tr><tr><td>4</td>\n",
       "<td>even more fine resoution, axon skeleton, boutons, webbing</td> </tr> </tbody>\n",
       "            </table>\n",
       "            \n",
       "            <p>Total: 3</p></div>\n",
       "            "
      ],
      "text/plain": [
       "*axon_version  description   \n",
       "+------------+ +------------+\n",
       "0              axon with stan\n",
       "2              axon with fine\n",
       "4              even more fine\n",
       " (Total: 3)"
      ]
     },
     "execution_count": 9,
     "metadata": {},
     "output_type": "execute_result"
    }
   ],
   "source": [
    "@schema\n",
    "class DecompositonAxonVersion(dj.Manual):\n",
    "    definition=\"\"\"\n",
    "    axon_version      : tinyint unsigned  # key by which to lookup the finer axon processing method\n",
    "    ---\n",
    "    description          : varchar(256)    # new parts of the finer axon preprocessing\n",
    "    \"\"\"\n",
    "versions=[[0,\"axon with standard meshparty\"],\n",
    "          [2,\"axon with finer resolution\"],\n",
    "         [4,\"even more fine resoution, axon skeleton, boutons, webbing\"]]\n",
    "\n",
    "# dict_to_write = [dict(axon_version=k,description=v) for k,v in versions]\n",
    "# DecompositonAxonVersion.insert(dict_to_write,skip_duplicates=True)\n",
    "\n",
    "DecompositonAxonVersion()"
   ]
  },
  {
   "cell_type": "code",
   "execution_count": 10,
   "metadata": {},
   "outputs": [],
   "source": [
    "# minnie,schema = du.configure_minnie_vm()\n",
    "# minnie.DecompositionAxon.delete()\n",
    "# minnie.schema.external['decomposition'].delete(delete_external_files=True)"
   ]
  },
  {
   "cell_type": "code",
   "execution_count": 11,
   "metadata": {},
   "outputs": [],
   "source": [
    "import numpy as np\n",
    "import time\n",
    "import classification_utils as clu\n",
    "import proofreading_utils as pru\n",
    "import axon_utils as au\n",
    "\n",
    "axon_version = au.axon_version\n",
    "\n",
    "verbose = True\n",
    "\n",
    "@schema\n",
    "class DecompositionAxon(dj.Computed):\n",
    "    definition=\"\"\"\n",
    "    -> minnie.Decomposition()\n",
    "    split_index          : tinyint unsigned             # the index of the neuron object that resulted AFTER THE SPLITTING ALGORITHM\n",
    "    -> minnie.DecompositonAxonVersion()             # the version of code used for this cell typing classification\n",
    "    ---\n",
    "    decomposition        : <decomposition> # saved neuron object with high fidelity axon\n",
    "    axon_length: double  # length (in um) of the classified axon skeleton\n",
    "    run_time=NULL : double                   # the amount of time to run (seconds)\n",
    "    \"\"\"\n",
    "                             \n",
    "    \n",
    "    key_source = minnie.Decomposition() & minnie.NucleiSegmentsRun2() & \"segment_id=864691136540183458\"\n",
    "    \n",
    "    \n",
    "\n",
    "    def make(self,key):\n",
    "        \"\"\"\n",
    "        Pseudocode:\n",
    "        1) Pull Down all the Neuron Objects associated with a segment_id\n",
    "        \n",
    "        For each neuron:\n",
    "        2) Run the full axon preprocessing\n",
    "        3) Save off the neuron\n",
    "        4) Save dict entry to list\n",
    "        \n",
    "        \n",
    "        5) Write the new entry to the table\n",
    "\n",
    "        \"\"\"\n",
    "        \n",
    "        \n",
    "        # 1) Pull Down All of the Neurons\n",
    "        segment_id = key[\"segment_id\"]\n",
    "        \n",
    "        if verbose:\n",
    "            print(f\"------- Working on Neuron {segment_id} -----\")\n",
    "        \n",
    "        whole_pass_time = time.time()\n",
    "        \n",
    "        #1) Pull Down all the Neuron Objects associated with a segment_id\n",
    "        neuron_objs,neuron_split_idxs = du.decomposition_with_spine_recalculation(segment_id)\n",
    "\n",
    "        if verbose:\n",
    "            print(f\"Number of Neurons found ={len(neuron_objs)}\")\n",
    "\n",
    "        #For each neuron:\n",
    "        dict_to_write = []\n",
    "        for split_index,neuron_obj in zip(neuron_split_idxs,neuron_objs):\n",
    "            \n",
    "            if verbose:\n",
    "                print(f\"--> Working on Split Index {split_index} -----\")\n",
    "                \n",
    "            st = time.time()\n",
    "            #Run the Axon Decomposition\n",
    "            neuron_obj_with_web = au.complete_axon_processing(neuron_obj,\n",
    "                                     verbose=True)\n",
    "            \n",
    "            save_time = time.time()\n",
    "            ret_file_path = neuron_obj_with_web.save_compressed_neuron(\n",
    "                                            output_folder=str(du.get_decomposition_path()),\n",
    "                                            #output_folder = \"./\",\n",
    "            file_name=f\"{neuron_obj_with_web.segment_id}_{split_index}_split_axon_v{au.axon_version}\",\n",
    "                                              return_file_path=True,\n",
    "                                             export_mesh=False,\n",
    "                                             suppress_output=True)\n",
    "\n",
    "            ret_file_path_str = str(ret_file_path.absolute()) + \".pbz2\"\n",
    "            \n",
    "            if verbose:\n",
    "                print(f\"ret_file_path_str = {ret_file_path_str}\")\n",
    "                print(f\"Save time = {time.time() - save_time}\")\n",
    "            \n",
    "            n_dict = dict(key,\n",
    "              split_index = split_index,\n",
    "              axon_version = au.axon_version,\n",
    "             decomposition=ret_file_path_str,\n",
    "             axon_length=neuron_obj_with_web.axon_length,\n",
    "              run_time = np.round(time.time() - st,2)\n",
    "             )\n",
    "            \n",
    "            dict_to_write.append(n_dict)\n",
    "        \n",
    "        #write the\n",
    "        self.insert(dict_to_write,skip_duplicates=True,allow_direct_insert=True)\n",
    "\n",
    "        print(f\"\\n\\n ***------ Total time for {key['segment_id']} = {time.time() - whole_pass_time} ------ ***\")"
   ]
  },
  {
   "cell_type": "markdown",
   "metadata": {},
   "source": [
    "# Running the Populate"
   ]
  },
  {
   "cell_type": "code",
   "execution_count": 53,
   "metadata": {},
   "outputs": [],
   "source": [
    "curr_table = (minnie.schema.jobs & \"table_name='__decomposition_axon'\")\n",
    "(curr_table).delete()# & \"status='error'\")\n",
    "#curr_table.delete()\n",
    "#(curr_table & \"status='error'\") #& \"error_message='IndexError: list index out of range'\""
   ]
  },
  {
   "cell_type": "code",
   "execution_count": 13,
   "metadata": {},
   "outputs": [
    {
     "name": "stderr",
     "output_type": "stream",
     "text": [
      "INFO - 2021-05-09 19:16:36,674 - settings - Setting database.host to at-database.ad.bcm.edu\n",
      "INFO - 2021-05-09 19:16:36,675 - settings - Setting database.user to celiib\n",
      "INFO - 2021-05-09 19:16:36,676 - settings - Setting database.password to newceliipass\n",
      "INFO - 2021-05-09 19:16:36,676 - settings - Setting database.host to at-database.ad.bcm.edu\n",
      "INFO - 2021-05-09 19:16:36,677 - settings - Setting database.user to celiib\n",
      "INFO - 2021-05-09 19:16:36,678 - settings - Setting database.password to newceliipass\n",
      "INFO - 2021-05-09 19:16:36,682 - settings - Setting enable_python_native_blobs to True\n",
      "INFO - 2021-05-09 19:16:37,180 - settings - Setting enable_python_native_blobs to True\n",
      "INFO - 2021-05-09 19:16:37,260 - autopopulate - Found 1 keys to populate\n"
     ]
    },
    {
     "name": "stdout",
     "output_type": "stream",
     "text": [
      "Populate Started\n",
      "Populate Done\n",
      "Total time for DecompositionAxon populate = 0.04761672019958496\n"
     ]
    }
   ],
   "source": [
    "import time\n",
    "pru = reload(pru)\n",
    "nru = reload(nru)\n",
    "import neuron_searching as ns\n",
    "ns = reload(ns)\n",
    "clu = reload(clu)\n",
    "du = reload(du)\n",
    "import random\n",
    "\n",
    "start_time = time.time()\n",
    "if not test_mode:\n",
    "    time.sleep(random.randint(0, 800))\n",
    "print('Populate Started')\n",
    "if not test_mode:\n",
    "    DecompositionAxon.populate(reserve_jobs=True, suppress_errors=True, order=\"random\")\n",
    "else:\n",
    "    DecompositionAxon.populate(reserve_jobs=True, suppress_errors=False,)# order=\"random\")\n",
    "print('Populate Done')\n",
    "\n",
    "print(f\"Total time for DecompositionAxon populate = {time.time() - start_time}\")\n"
   ]
  },
  {
   "cell_type": "code",
   "execution_count": null,
   "metadata": {},
   "outputs": [],
   "source": []
  }
 ],
 "metadata": {
  "kernelspec": {
   "display_name": "Python 3",
   "language": "python",
   "name": "python3"
  },
  "language_info": {
   "codemirror_mode": {
    "name": "ipython",
    "version": 3
   },
   "file_extension": ".py",
   "mimetype": "text/x-python",
   "name": "python",
   "nbconvert_exporter": "python",
   "pygments_lexer": "ipython3",
   "version": "3.6.9"
  }
 },
 "nbformat": 4,
 "nbformat_minor": 4
}
