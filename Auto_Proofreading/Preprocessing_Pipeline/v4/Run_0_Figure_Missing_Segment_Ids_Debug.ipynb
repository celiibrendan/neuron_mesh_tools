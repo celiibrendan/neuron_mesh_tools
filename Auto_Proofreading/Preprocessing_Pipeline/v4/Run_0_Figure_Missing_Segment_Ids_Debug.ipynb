{
 "cells": [
  {
   "cell_type": "code",
   "execution_count": 1,
   "metadata": {},
   "outputs": [],
   "source": [
    "%load_ext autoreload\n",
    "%autoreload 2"
   ]
  },
  {
   "cell_type": "code",
   "execution_count": 2,
   "metadata": {},
   "outputs": [
    {
     "name": "stderr",
     "output_type": "stream",
     "text": [
      "INFO - 2021-05-17 16:49:52,222 - settings - Setting database.host to at-database.ad.bcm.edu\n",
      "INFO - 2021-05-17 16:49:52,227 - settings - Setting database.user to celiib\n",
      "INFO - 2021-05-17 16:49:52,227 - settings - Setting database.password to newceliipass\n",
      "INFO - 2021-05-17 16:49:52,230 - settings - Setting stores to {'minnie65': {'protocol': 'file', 'location': '/mnt/dj-stor01/platinum/minnie65', 'stage': '/mnt/dj-stor01/platinum/minnie65'}, 'meshes': {'protocol': 'file', 'location': '/mnt/dj-stor01/platinum/minnie65/02/meshes', 'stage': '/mnt/dj-stor01/platinum/minnie65/02/meshes'}, 'decimated_meshes': {'protocol': 'file', 'location': '/mnt/dj-stor01/platinum/minnie65/02/decimated_meshes', 'stage': '/mnt/dj-stor01/platinum/minnie65/02/decimated_meshes'}, 'skeletons': {'protocol': 'file', 'location': '/mnt/dj-stor01/platinum/minnie65/02/skeletons'}}\n",
      "INFO - 2021-05-17 16:49:52,231 - settings - Setting enable_python_native_blobs to True\n",
      "INFO - 2021-05-17 16:49:52,240 - connection - Connected celiib@at-database.ad.bcm.edu:3306\n"
     ]
    },
    {
     "name": "stdout",
     "output_type": "stream",
     "text": [
      "Connecting celiib@at-database.ad.bcm.edu:3306\n"
     ]
    },
    {
     "name": "stderr",
     "output_type": "stream",
     "text": [
      "INFO - 2021-05-17 16:49:52,656 - settings - Setting enable_python_native_blobs to True\n",
      "INFO - 2021-05-17 16:49:52,660 - settings - Setting database.host to at-database.ad.bcm.edu\n",
      "INFO - 2021-05-17 16:49:52,662 - settings - Setting database.user to celiib\n",
      "INFO - 2021-05-17 16:49:52,663 - settings - Setting database.password to newceliipass\n",
      "INFO - 2021-05-17 16:49:52,663 - settings - Setting database.host to at-database.ad.bcm.edu\n",
      "INFO - 2021-05-17 16:49:52,664 - settings - Setting database.user to celiib\n",
      "INFO - 2021-05-17 16:49:52,665 - settings - Setting database.password to newceliipass\n",
      "INFO - 2021-05-17 16:49:52,666 - settings - Setting enable_python_native_blobs to True\n",
      "INFO - 2021-05-17 16:49:53,105 - settings - Setting enable_python_native_blobs to True\n"
     ]
    }
   ],
   "source": [
    "import numpy as np\n",
    "import datajoint as dj\n",
    "import trimesh\n",
    "from tqdm.notebook import tqdm\n",
    "from pathlib import Path\n",
    "\n",
    "from os import sys\n",
    "sys.path.append(\"/meshAfterParty/\")\n",
    "sys.path.append(\"/meshAfterParty/meshAfterParty\")\n",
    "\n",
    "import datajoint_utils as du\n",
    "from importlib import reload"
   ]
  },
  {
   "cell_type": "code",
   "execution_count": 3,
   "metadata": {},
   "outputs": [
    {
     "name": "stderr",
     "output_type": "stream",
     "text": [
      "INFO - 2021-05-17 16:49:53,234 - settings - Setting database.host to at-database.ad.bcm.edu\n",
      "INFO - 2021-05-17 16:49:53,235 - settings - Setting database.user to celiib\n",
      "INFO - 2021-05-17 16:49:53,236 - settings - Setting database.password to newceliipass\n",
      "INFO - 2021-05-17 16:49:53,240 - settings - Setting enable_python_native_blobs to True\n",
      "INFO - 2021-05-17 16:49:53,733 - settings - Setting enable_python_native_blobs to True\n"
     ]
    }
   ],
   "source": [
    "import datajoint as dj\n",
    "version = 88\n",
    "nucleus_table_ids = du.nucleus_info_table(version = 88) & \"segment_id>0\"\n",
    "minnie, schema = du.configure_minnie_vm()\n"
   ]
  },
  {
   "cell_type": "code",
   "execution_count": 4,
   "metadata": {},
   "outputs": [
    {
     "data": {
      "text/html": [
       "\n",
       "        \n",
       "        <style type=\"text/css\">\n",
       "            .Relation{\n",
       "                border-collapse:collapse;\n",
       "            }\n",
       "            .Relation th{\n",
       "                background: #A0A0A0; color: #ffffff; padding:4px; border:#f0e0e0 1px solid;\n",
       "                font-weight: normal; font-family: monospace; font-size: 100%;\n",
       "            }\n",
       "            .Relation td{\n",
       "                padding:4px; border:#f0e0e0 1px solid; font-size:100%;\n",
       "            }\n",
       "            .Relation tr:nth-child(odd){\n",
       "                background: #ffffff;\n",
       "            }\n",
       "            .Relation tr:nth-child(even){\n",
       "                background: #f3f1ff;\n",
       "            }\n",
       "            /* Tooltip container */\n",
       "            .djtooltip {\n",
       "            }\n",
       "            /* Tooltip text */\n",
       "            .djtooltip .djtooltiptext {\n",
       "                visibility: hidden;\n",
       "                width: 120px;\n",
       "                background-color: black;\n",
       "                color: #fff;\n",
       "                text-align: center;\n",
       "                padding: 5px 0;\n",
       "                border-radius: 6px;\n",
       "                /* Position the tooltip text - see examples below! */\n",
       "                position: absolute;\n",
       "                z-index: 1;\n",
       "            }\n",
       "            #primary {\n",
       "                font-weight: bold;\n",
       "                color: black;\n",
       "            }\n",
       "\n",
       "            #nonprimary {\n",
       "                font-weight: normal;\n",
       "                color: white;\n",
       "            }\n",
       "\n",
       "            /* Show the tooltip text when you mouse over the tooltip container */\n",
       "            .djtooltip:hover .djtooltiptext {\n",
       "                visibility: visible;\n",
       "            }\n",
       "        </style>\n",
       "        \n",
       "        \n",
       "            <div style=\"max-height:1000px;max-width:1500px;overflow:auto;\">\n",
       "            <table border=\"1\" class=\"Relation\">\n",
       "                <thead> <tr style=\"text-align: right;\"> <th> <div class=\"djtooltip\">\n",
       "                                <p id=\"primary\">ver</p>\n",
       "                                <span class=\"djtooltiptext\">materialization version</span>\n",
       "                            </div></th><th><div class=\"djtooltip\">\n",
       "                                <p id=\"primary\">nucleus_id</p>\n",
       "                                <span class=\"djtooltiptext\">id of nucleus from the flat segmentation  Equivalent to Allen: 'id'.</span>\n",
       "                            </div></th><th><div class=\"djtooltip\">\n",
       "                                <p id=\"primary\">segment_id</p>\n",
       "                                <span class=\"djtooltiptext\">id of the segment under the nucleus centroid. Equivalent to Allen 'pt_root_id'.</span>\n",
       "                            </div> </th> </tr> </thead>\n",
       "                <tbody> <tr> <td>88.00</td>\n",
       "<td>1998</td>\n",
       "<td>864691136050815731</td></tr><tr><td>88.00</td>\n",
       "<td>2198</td>\n",
       "<td>864691135084884330</td></tr><tr><td>88.00</td>\n",
       "<td>2199</td>\n",
       "<td>864691136521572241</td></tr><tr><td>88.00</td>\n",
       "<td>2389</td>\n",
       "<td>864691135494586958</td></tr><tr><td>88.00</td>\n",
       "<td>2398</td>\n",
       "<td>864691136451074559</td></tr><tr><td>88.00</td>\n",
       "<td>2433</td>\n",
       "<td>864691135524436073</td></tr><tr><td>88.00</td>\n",
       "<td>3024</td>\n",
       "<td>864691135087399350</td></tr><tr><td>88.00</td>\n",
       "<td>3117</td>\n",
       "<td>864691134684964653</td></tr><tr><td>88.00</td>\n",
       "<td>3121</td>\n",
       "<td>864691132625568958</td></tr><tr><td>88.00</td>\n",
       "<td>3152</td>\n",
       "<td>864691135524409705</td></tr><tr><td>88.00</td>\n",
       "<td>3237</td>\n",
       "<td>864691135493381966</td></tr><tr><td>88.00</td>\n",
       "<td>3384</td>\n",
       "<td>864691134917390346</td> </tr> </tbody>\n",
       "            </table>\n",
       "            <p>...</p>\n",
       "            <p>Total: 129816</p></div>\n",
       "            "
      ],
      "text/plain": [
       "*ver      *nucleus_id    *segment_id   \n",
       "+-------+ +------------+ +------------+\n",
       "88.00     1998           86469113605081\n",
       "88.00     2198           86469113508488\n",
       "88.00     2199           86469113652157\n",
       "88.00     2389           86469113549458\n",
       "88.00     2398           86469113645107\n",
       "88.00     2433           86469113552443\n",
       "88.00     3024           86469113508739\n",
       "88.00     3117           86469113468496\n",
       "88.00     3121           86469113262556\n",
       "88.00     3152           86469113552440\n",
       "88.00     3237           86469113549338\n",
       "88.00     3384           86469113491739\n",
       "   ...\n",
       " (Total: 129816)"
      ]
     },
     "execution_count": 4,
     "metadata": {},
     "output_type": "execute_result"
    }
   ],
   "source": [
    "du.nucleus_info_table(version = 88) & \"segment_id>0\"\n",
    "nucleus_table_ids.proj(\"segment_id\")"
   ]
  },
  {
   "cell_type": "code",
   "execution_count": 19,
   "metadata": {},
   "outputs": [
    {
     "name": "stdout",
     "output_type": "stream",
     "text": [
      "segment_id           : bigint unsigned              # segment id for those to be decimated\n",
      "\n"
     ]
    },
    {
     "data": {
      "text/plain": [
       "'segment_id           : bigint unsigned              # segment id for those to be decimated\\n'"
      ]
     },
     "execution_count": 19,
     "metadata": {},
     "output_type": "execute_result"
    }
   ],
   "source": [
    "minnie.NucleiSegmentsRun2.describe()"
   ]
  },
  {
   "cell_type": "code",
   "execution_count": 24,
   "metadata": {},
   "outputs": [],
   "source": [
    "@schema\n",
    "class NucleiSegmentsRun4(dj.Manual):\n",
    "    definition=\"\"\"\n",
    "    segment_id           : bigint unsigned              # segment id for those to be decimated\n",
    "    ---\n",
    "    \"\"\"\n",
    "keys_to_insert = du.version_to_segment_id_table().fetch(as_dict=True)\n",
    "NucleiSegmentsRun4.insert(keys_to_insert,skip_duplicates=True)\n"
   ]
  },
  {
   "cell_type": "code",
   "execution_count": null,
   "metadata": {},
   "outputs": [],
   "source": [
    "minnie, schema = du.configure_minnie_vm()\n",
    "changed_ids = nucleus_table_ids.proj() - minnie.Segment\n",
    "changed_ids"
   ]
  },
  {
   "cell_type": "code",
   "execution_count": null,
   "metadata": {},
   "outputs": [],
   "source": [
    "changed_ids = nucleus_table_ids.proj() - minnie.Mesh\n",
    "changed_ids"
   ]
  },
  {
   "cell_type": "code",
   "execution_count": null,
   "metadata": {},
   "outputs": [],
   "source": []
  },
  {
   "cell_type": "code",
   "execution_count": null,
   "metadata": {},
   "outputs": [],
   "source": []
  },
  {
   "cell_type": "code",
   "execution_count": null,
   "metadata": {},
   "outputs": [],
   "source": [
    "need_to_download_mesh_ids = changed_ids.fetch(\"segment_id\")\n",
    "need_to_download_mesh_ids.shape"
   ]
  },
  {
   "cell_type": "code",
   "execution_count": null,
   "metadata": {},
   "outputs": [],
   "source": [
    "import numpy as np\n",
    "np.savez(\"v88_mesh_ids_to_download.npz\",segment_ids=need_to_download_mesh_ids)"
   ]
  },
  {
   "cell_type": "code",
   "execution_count": null,
   "metadata": {},
   "outputs": [],
   "source": [
    "meshes_to_down = np.load(\"v88_mesh_ids_to_download.npz\")[\"segment_ids\"]\n",
    "meshes_to_down"
   ]
  },
  {
   "cell_type": "code",
   "execution_count": null,
   "metadata": {},
   "outputs": [],
   "source": [
    "need_to_download_mesh_ids.shape"
   ]
  },
  {
   "cell_type": "code",
   "execution_count": null,
   "metadata": {},
   "outputs": [],
   "source": [
    "np.unique(need_to_download_mesh_ids).shape"
   ]
  },
  {
   "cell_type": "code",
   "execution_count": null,
   "metadata": {},
   "outputs": [],
   "source": [
    "meshes_to_down.shape"
   ]
  },
  {
   "cell_type": "code",
   "execution_count": null,
   "metadata": {},
   "outputs": [],
   "source": [
    "s = 864691136939680735\n",
    "Path(f\"/mnt/dj-stor01/platinum/minnie65/02/meshes/{s}.h5\").exists()"
   ]
  },
  {
   "cell_type": "markdown",
   "metadata": {},
   "source": [
    "# Trying and Filling in the IDs"
   ]
  },
  {
   "cell_type": "code",
   "execution_count": null,
   "metadata": {},
   "outputs": [],
   "source": [
    "du = reload(du)"
   ]
  },
  {
   "cell_type": "code",
   "execution_count": null,
   "metadata": {},
   "outputs": [],
   "source": [
    "import os\n",
    "external_mesh_path = du.get_external_mesh_path()\n",
    "\n",
    "external_mesh_path\n",
    "@schema\n",
    "class Mesh(dj.Imported):\n",
    "    definition = \"\"\"\n",
    "    # Platinum mesh structures\n",
    "    -> Segment\n",
    "    ---\n",
    "    n_vertices          : int unsigned       # number of vertices\n",
    "    n_faces             : int unsigned       # number of faces\n",
    "    mesh                : <mesh>             # in-place path to the hdf5 mesh file\n",
    "    \"\"\"\n",
    "\n",
    "    @classmethod\n",
    "    def fill_from_ids(cls, segment_ids, skip_duplicates=True, skip_missing=True, extra_skip_missing=True, disable_tqdm=False, suppress_errors=True):\n",
    "        if skip_missing:\n",
    "            if extra_skip_missing:\n",
    "                segment_ids = frozenset(segment_ids).difference(cls.fetch('segment_id'))\n",
    "            remaining_segments = []\n",
    "            for segment_id in tqdm(segment_ids, disable=disable_tqdm):\n",
    "                if os.path.isfile(external_mesh_path / f'{segment_id}.h5'):\n",
    "                    remaining_segments.append(segment_id)\n",
    "            segment_ids = remaining_segments\n",
    "\n",
    "        \n",
    "        for segment_id in tqdm(segment_ids, disable=disable_tqdm):\n",
    "            mesh_path = os.path.join(external_mesh_path, f'{segment_id}.h5')\n",
    "            print(f\"mesh_path = {mesh_path}\")\n",
    "            #mesh_lengths = du.adapt_mesh_hdf5(filepath=mesh_path, as_lengths=True, suppress_errors=suppress_errors)\n",
    "            mesh_lengths = du.adapt_mesh_hdf5(filepath=mesh_path, as_lengths=True,)# suppress_errors=suppress_errors)\n",
    "            if mesh_lengths is not None:\n",
    "                n_vertices, n_faces = mesh_lengths\n",
    "                cls.insert1(dict(\n",
    "                    segment_id=segment_id,\n",
    "                    n_vertices=n_vertices,\n",
    "                    n_faces=n_faces,\n",
    "                    mesh=mesh_path\n",
    "                    ),\n",
    "                    skip_duplicates=skip_duplicates,\n",
    "                    allow_direct_insert=True\n",
    "                )\n",
    "\n",
    "                \n",
    "with np.load('v88_mesh_ids_to_download.npz') as f:\n",
    "    mesh_ids = f['segment_ids']\n",
    "\n",
    "Mesh.fill_from_ids([need_to_download_mesh_ids[100]], skip_missing=False)"
   ]
  },
  {
   "cell_type": "code",
   "execution_count": null,
   "metadata": {},
   "outputs": [],
   "source": [
    "du.insert_segment_ids_and_meshes(restr_table.fetch(\"segment_id\"))"
   ]
  },
  {
   "cell_type": "code",
   "execution_count": null,
   "metadata": {},
   "outputs": [],
   "source": []
  },
  {
   "cell_type": "code",
   "execution_count": null,
   "metadata": {},
   "outputs": [],
   "source": []
  },
  {
   "cell_type": "code",
   "execution_count": null,
   "metadata": {},
   "outputs": [],
   "source": [
    "minnie.Mesh.describe()"
   ]
  },
  {
   "cell_type": "code",
   "execution_count": 10,
   "metadata": {},
   "outputs": [
    {
     "data": {
      "text/plain": [
       "[864691137053796982, 864691135403892718]"
      ]
     },
     "execution_count": 10,
     "metadata": {},
     "output_type": "execute_result"
    }
   ],
   "source": [
    "m65mat = dj.create_virtual_module('m65mat', 'microns_minnie65_materialization')\n",
    "nucleus_table_ids = m65mat.Nucleus.Info & {'ver': 88} & \"segment_id>0\"\n",
    "seg_ids_v88 = dj.U(\"segment_id\") & nucleus_table_ids.proj(\"segment_id\")\n",
    "restr_table = seg_ids_v88 - minnie.Mesh.proj()\n",
    "restr_table\n",
    "\n",
    "from pathlib import Path\n",
    "\n",
    "s_exists = []\n",
    "for s in restr_table.fetch(\"segment_id\"):\n",
    "    if Path(f\"/mnt/dj-stor01/platinum/minnie65/02/meshes/{s}.h5\").exists():\n",
    "        s_exists.append(s)\n",
    "        \n",
    "du.insert_segment_ids_and_meshes(np.array(s_exists[1:]),suppress_errors = False,\n",
    "                                insert_into_Segment=False)"
   ]
  },
  {
   "cell_type": "code",
   "execution_count": 48,
   "metadata": {},
   "outputs": [
    {
     "data": {
      "text/html": [
       "\n",
       "        \n",
       "        <style type=\"text/css\">\n",
       "            .Relation{\n",
       "                border-collapse:collapse;\n",
       "            }\n",
       "            .Relation th{\n",
       "                background: #A0A0A0; color: #ffffff; padding:4px; border:#f0e0e0 1px solid;\n",
       "                font-weight: normal; font-family: monospace; font-size: 100%;\n",
       "            }\n",
       "            .Relation td{\n",
       "                padding:4px; border:#f0e0e0 1px solid; font-size:100%;\n",
       "            }\n",
       "            .Relation tr:nth-child(odd){\n",
       "                background: #ffffff;\n",
       "            }\n",
       "            .Relation tr:nth-child(even){\n",
       "                background: #f3f1ff;\n",
       "            }\n",
       "            /* Tooltip container */\n",
       "            .djtooltip {\n",
       "            }\n",
       "            /* Tooltip text */\n",
       "            .djtooltip .djtooltiptext {\n",
       "                visibility: hidden;\n",
       "                width: 120px;\n",
       "                background-color: black;\n",
       "                color: #fff;\n",
       "                text-align: center;\n",
       "                padding: 5px 0;\n",
       "                border-radius: 6px;\n",
       "                /* Position the tooltip text - see examples below! */\n",
       "                position: absolute;\n",
       "                z-index: 1;\n",
       "            }\n",
       "            #primary {\n",
       "                font-weight: bold;\n",
       "                color: black;\n",
       "            }\n",
       "\n",
       "            #nonprimary {\n",
       "                font-weight: normal;\n",
       "                color: white;\n",
       "            }\n",
       "\n",
       "            /* Show the tooltip text when you mouse over the tooltip container */\n",
       "            .djtooltip:hover .djtooltiptext {\n",
       "                visibility: visible;\n",
       "            }\n",
       "        </style>\n",
       "        \n",
       "        <b></b>\n",
       "            <div style=\"max-height:1000px;max-width:1500px;overflow:auto;\">\n",
       "            <table border=\"1\" class=\"Relation\">\n",
       "                <thead> <tr style=\"text-align: right;\"> <th> <div class=\"djtooltip\">\n",
       "                                <p id=\"primary\">segment_id</p>\n",
       "                                <span class=\"djtooltiptext\">segment id for those to be decimated</span>\n",
       "                            </div> </th> </tr> </thead>\n",
       "                <tbody> <tr> <td>864691135181843970</td></tr><tr><td>864691135210286272</td></tr><tr><td>864691135278405537</td></tr><tr><td>864691135291790518</td></tr><tr><td>864691135323105180</td></tr><tr><td>864691135323123100</td></tr><tr><td>864691135341221573</td></tr><tr><td>864691135341243057</td></tr><tr><td>864691135341277105</td></tr><tr><td>864691135367342841</td></tr><tr><td>864691135396408865</td></tr><tr><td>864691135428580144</td> </tr> </tbody>\n",
       "            </table>\n",
       "            <p>...</p>\n",
       "            <p>Total: 64</p></div>\n",
       "            "
      ],
      "text/plain": [
       "*segment_id   \n",
       "+------------+\n",
       "86469113518184\n",
       "86469113521028\n",
       "86469113527840\n",
       "86469113529179\n",
       "86469113532310\n",
       "86469113532312\n",
       "86469113534122\n",
       "86469113534124\n",
       "86469113534127\n",
       "86469113536734\n",
       "86469113539640\n",
       "86469113542858\n",
       "   ...\n",
       " (Total: 64)"
      ]
     },
     "execution_count": 48,
     "metadata": {},
     "output_type": "execute_result"
    }
   ],
   "source": [
    "decimation_version = 0\n",
    "decimation_ratio_global = 0.25\n",
    "(du.proofreading_segment_id_restriction() - (minnie.Decimation() & dict(decimation_ratio=decimation_ratio_global)).proj()) & minnie.Mesh.proj()"
   ]
  },
  {
   "cell_type": "code",
   "execution_count": 43,
   "metadata": {},
   "outputs": [],
   "source": [
    "curr_table = (minnie.schema.jobs & \"table_name='__decimation'\")\n",
    "curr_table.delete()"
   ]
  },
  {
   "cell_type": "code",
   "execution_count": 49,
   "metadata": {},
   "outputs": [
    {
     "data": {
      "text/html": [
       "\n",
       "        \n",
       "        <style type=\"text/css\">\n",
       "            .Relation{\n",
       "                border-collapse:collapse;\n",
       "            }\n",
       "            .Relation th{\n",
       "                background: #A0A0A0; color: #ffffff; padding:4px; border:#f0e0e0 1px solid;\n",
       "                font-weight: normal; font-family: monospace; font-size: 100%;\n",
       "            }\n",
       "            .Relation td{\n",
       "                padding:4px; border:#f0e0e0 1px solid; font-size:100%;\n",
       "            }\n",
       "            .Relation tr:nth-child(odd){\n",
       "                background: #ffffff;\n",
       "            }\n",
       "            .Relation tr:nth-child(even){\n",
       "                background: #f3f1ff;\n",
       "            }\n",
       "            /* Tooltip container */\n",
       "            .djtooltip {\n",
       "            }\n",
       "            /* Tooltip text */\n",
       "            .djtooltip .djtooltiptext {\n",
       "                visibility: hidden;\n",
       "                width: 120px;\n",
       "                background-color: black;\n",
       "                color: #fff;\n",
       "                text-align: center;\n",
       "                padding: 5px 0;\n",
       "                border-radius: 6px;\n",
       "                /* Position the tooltip text - see examples below! */\n",
       "                position: absolute;\n",
       "                z-index: 1;\n",
       "            }\n",
       "            #primary {\n",
       "                font-weight: bold;\n",
       "                color: black;\n",
       "            }\n",
       "\n",
       "            #nonprimary {\n",
       "                font-weight: normal;\n",
       "                color: white;\n",
       "            }\n",
       "\n",
       "            /* Show the tooltip text when you mouse over the tooltip container */\n",
       "            .djtooltip:hover .djtooltiptext {\n",
       "                visibility: visible;\n",
       "            }\n",
       "        </style>\n",
       "        \n",
       "        <b></b>\n",
       "            <div style=\"max-height:1000px;max-width:1500px;overflow:auto;\">\n",
       "            <table border=\"1\" class=\"Relation\">\n",
       "                <thead> <tr style=\"text-align: right;\"> <th> <div class=\"djtooltip\">\n",
       "                                <p id=\"primary\">segment_id</p>\n",
       "                                <span class=\"djtooltiptext\">segment id unique within each Segmentation</span>\n",
       "                            </div></th><th><div class=\"djtooltip\">\n",
       "                                <p id=\"primary\">decimation_version</p>\n",
       "                                <span class=\"djtooltiptext\"></span>\n",
       "                            </div></th><th><div class=\"djtooltip\">\n",
       "                                <p id=\"primary\">decimation_ratio</p>\n",
       "                                <span class=\"djtooltiptext\">ratio of remaining mesh vertices/faces (which ones depends on what metric the decimation technique uses)</span>\n",
       "                            </div></th><th><div class=\"djtooltip\">\n",
       "                                <p id=\"primary\">ver</p>\n",
       "                                <span class=\"djtooltiptext\">the version number of the materializaiton</span>\n",
       "                            </div></th><th><div class=\"djtooltip\">\n",
       "                                <p id=\"primary\">process_version</p>\n",
       "                                <span class=\"djtooltiptext\">the version of the preprocessing pipeline run</span>\n",
       "                            </div></th><th><div class=\"djtooltip\">\n",
       "                                <p id=\"primary\">index</p>\n",
       "                                <span class=\"djtooltiptext\">the index of the neuron object that resulted from that mesh (indexed starting at 0)</span>\n",
       "                            </div></th><th><div class=\"djtooltip\">\n",
       "                                <p id=\"primary\">split_index</p>\n",
       "                                <span class=\"djtooltiptext\">the index of the neuron object that resulted AFTER THE SPLITTING ALGORITHM</span>\n",
       "                            </div></th><th><div class=\"djtooltip\">\n",
       "                                <p id=\"primary\">axon_version</p>\n",
       "                                <span class=\"djtooltiptext\">key by which to lookup the finer axon processing method</span>\n",
       "                            </div></th><th><div class=\"djtooltip\">\n",
       "                                <p id=\"nonprimary\">decomposition</p>\n",
       "                                <span class=\"djtooltiptext\">saved neuron object with high fidelity axon</span>\n",
       "                            </div></th><th><div class=\"djtooltip\">\n",
       "                                <p id=\"nonprimary\">axon_length</p>\n",
       "                                <span class=\"djtooltiptext\">length (in um) of the classified axon skeleton</span>\n",
       "                            </div></th><th><div class=\"djtooltip\">\n",
       "                                <p id=\"nonprimary\">run_time</p>\n",
       "                                <span class=\"djtooltiptext\">the amount of time to run (seconds)</span>\n",
       "                            </div> </th> </tr> </thead>\n",
       "                <tbody> <tr> <td>864691134219060901</td>\n",
       "<td>0</td>\n",
       "<td>0.25</td>\n",
       "<td>30.00</td>\n",
       "<td>0</td>\n",
       "<td>0</td>\n",
       "<td>0</td>\n",
       "<td>4</td>\n",
       "<td>=BLOB=</td>\n",
       "<td>0.0</td>\n",
       "<td>0.2</td></tr><tr><td>864691134221889045</td>\n",
       "<td>0</td>\n",
       "<td>0.25</td>\n",
       "<td>30.00</td>\n",
       "<td>5</td>\n",
       "<td>0</td>\n",
       "<td>0</td>\n",
       "<td>4</td>\n",
       "<td>=BLOB=</td>\n",
       "<td>0.0</td>\n",
       "<td>1.16</td></tr><tr><td>864691134242673681</td>\n",
       "<td>0</td>\n",
       "<td>0.25</td>\n",
       "<td>30.00</td>\n",
       "<td>0</td>\n",
       "<td>0</td>\n",
       "<td>0</td>\n",
       "<td>4</td>\n",
       "<td>=BLOB=</td>\n",
       "<td>0.0</td>\n",
       "<td>0.33</td></tr><tr><td>864691134252908410</td>\n",
       "<td>0</td>\n",
       "<td>0.25</td>\n",
       "<td>30.00</td>\n",
       "<td>0</td>\n",
       "<td>0</td>\n",
       "<td>0</td>\n",
       "<td>4</td>\n",
       "<td>=BLOB=</td>\n",
       "<td>0.0</td>\n",
       "<td>0.14</td></tr><tr><td>864691134316523453</td>\n",
       "<td>0</td>\n",
       "<td>0.25</td>\n",
       "<td>30.00</td>\n",
       "<td>0</td>\n",
       "<td>0</td>\n",
       "<td>0</td>\n",
       "<td>4</td>\n",
       "<td>=BLOB=</td>\n",
       "<td>0.0</td>\n",
       "<td>0.95</td></tr><tr><td>864691134384033872</td>\n",
       "<td>0</td>\n",
       "<td>0.25</td>\n",
       "<td>30.00</td>\n",
       "<td>0</td>\n",
       "<td>0</td>\n",
       "<td>0</td>\n",
       "<td>4</td>\n",
       "<td>=BLOB=</td>\n",
       "<td>0.0</td>\n",
       "<td>0.26</td></tr><tr><td>864691134391593458</td>\n",
       "<td>0</td>\n",
       "<td>0.25</td>\n",
       "<td>30.00</td>\n",
       "<td>0</td>\n",
       "<td>0</td>\n",
       "<td>0</td>\n",
       "<td>4</td>\n",
       "<td>=BLOB=</td>\n",
       "<td>0.0</td>\n",
       "<td>0.18</td></tr><tr><td>864691134409056935</td>\n",
       "<td>0</td>\n",
       "<td>0.25</td>\n",
       "<td>30.00</td>\n",
       "<td>0</td>\n",
       "<td>0</td>\n",
       "<td>0</td>\n",
       "<td>4</td>\n",
       "<td>=BLOB=</td>\n",
       "<td>0.0</td>\n",
       "<td>0.38</td></tr><tr><td>864691134428609977</td>\n",
       "<td>0</td>\n",
       "<td>0.25</td>\n",
       "<td>30.00</td>\n",
       "<td>0</td>\n",
       "<td>0</td>\n",
       "<td>0</td>\n",
       "<td>4</td>\n",
       "<td>=BLOB=</td>\n",
       "<td>0.0</td>\n",
       "<td>0.13</td></tr><tr><td>864691134441691943</td>\n",
       "<td>0</td>\n",
       "<td>0.25</td>\n",
       "<td>30.00</td>\n",
       "<td>0</td>\n",
       "<td>0</td>\n",
       "<td>0</td>\n",
       "<td>4</td>\n",
       "<td>=BLOB=</td>\n",
       "<td>0.0</td>\n",
       "<td>0.56</td></tr><tr><td>864691134484023255</td>\n",
       "<td>0</td>\n",
       "<td>0.25</td>\n",
       "<td>30.00</td>\n",
       "<td>0</td>\n",
       "<td>0</td>\n",
       "<td>0</td>\n",
       "<td>4</td>\n",
       "<td>=BLOB=</td>\n",
       "<td>0.0</td>\n",
       "<td>0.58</td></tr><tr><td>864691134488295985</td>\n",
       "<td>0</td>\n",
       "<td>0.25</td>\n",
       "<td>30.00</td>\n",
       "<td>0</td>\n",
       "<td>0</td>\n",
       "<td>0</td>\n",
       "<td>4</td>\n",
       "<td>=BLOB=</td>\n",
       "<td>0.0</td>\n",
       "<td>0.31</td> </tr> </tbody>\n",
       "            </table>\n",
       "            <p>...</p>\n",
       "            <p>Total: 57910</p></div>\n",
       "            "
      ],
      "text/plain": [
       "*segment_id    *decimation_ve *decimation_ra *ver      *process_versi *index    *split_index   *axon_version  decomposit axon_length    run_time    \n",
       "+------------+ +------------+ +------------+ +-------+ +------------+ +-------+ +------------+ +------------+ +--------+ +------------+ +----------+\n",
       "86469113421906 0              0.25           30.00     0              0         0              4              =BLOB=     0.0            0.2         \n",
       "86469113422188 0              0.25           30.00     5              0         0              4              =BLOB=     0.0            1.16        \n",
       "86469113424267 0              0.25           30.00     0              0         0              4              =BLOB=     0.0            0.33        \n",
       "86469113425290 0              0.25           30.00     0              0         0              4              =BLOB=     0.0            0.14        \n",
       "86469113431652 0              0.25           30.00     0              0         0              4              =BLOB=     0.0            0.95        \n",
       "86469113438403 0              0.25           30.00     0              0         0              4              =BLOB=     0.0            0.26        \n",
       "86469113439159 0              0.25           30.00     0              0         0              4              =BLOB=     0.0            0.18        \n",
       "86469113440905 0              0.25           30.00     0              0         0              4              =BLOB=     0.0            0.38        \n",
       "86469113442860 0              0.25           30.00     0              0         0              4              =BLOB=     0.0            0.13        \n",
       "86469113444169 0              0.25           30.00     0              0         0              4              =BLOB=     0.0            0.56        \n",
       "86469113448402 0              0.25           30.00     0              0         0              4              =BLOB=     0.0            0.58        \n",
       "86469113448829 0              0.25           30.00     0              0         0              4              =BLOB=     0.0            0.31        \n",
       "   ...\n",
       " (Total: 57910)"
      ]
     },
     "execution_count": 49,
     "metadata": {},
     "output_type": "execute_result"
    }
   ],
   "source": [
    "minnie.DecompositionAxon()"
   ]
  },
  {
   "cell_type": "code",
   "execution_count": null,
   "metadata": {},
   "outputs": [],
   "source": []
  }
 ],
 "metadata": {
  "kernelspec": {
   "display_name": "Python 3",
   "language": "python",
   "name": "python3"
  },
  "language_info": {
   "codemirror_mode": {
    "name": "ipython",
    "version": 3
   },
   "file_extension": ".py",
   "mimetype": "text/x-python",
   "name": "python",
   "nbconvert_exporter": "python",
   "pygments_lexer": "ipython3",
   "version": "3.6.9"
  }
 },
 "nbformat": 4,
 "nbformat_minor": 4
}
