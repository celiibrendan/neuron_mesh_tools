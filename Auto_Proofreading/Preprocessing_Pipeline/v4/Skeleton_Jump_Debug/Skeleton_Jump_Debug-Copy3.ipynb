{
 "cells": [
  {
   "cell_type": "code",
   "execution_count": null,
   "metadata": {},
   "outputs": [],
   "source": [
    "\"\"\"\n",
    "Purpose: To decompose the multi-somas for splitting\n",
    "using the new decomposition method\n",
    "\n",
    "\n",
    "\"\"\""
   ]
  },
  {
   "cell_type": "code",
   "execution_count": 2,
   "metadata": {},
   "outputs": [
    {
     "name": "stderr",
     "output_type": "stream",
     "text": [
      "INFO - 2021-06-15 20:28:55,410 - settings - Setting database.host to at-database.ad.bcm.edu\n",
      "INFO - 2021-06-15 20:28:55,411 - settings - Setting database.user to celiib\n",
      "INFO - 2021-06-15 20:28:55,412 - settings - Setting database.password to newceliipass\n",
      "INFO - 2021-06-15 20:28:55,412 - settings - Setting database.host to at-database.ad.bcm.edu\n",
      "INFO - 2021-06-15 20:28:55,413 - settings - Setting database.user to celiib\n",
      "INFO - 2021-06-15 20:28:55,413 - settings - Setting database.password to newceliipass\n",
      "INFO - 2021-06-15 20:28:55,439 - settings - Setting stores to {'minnie65': {'protocol': 'file', 'location': '/mnt/dj-stor01/platinum/minnie65', 'stage': '/mnt/dj-stor01/platinum/minnie65'}, 'meshes': {'protocol': 'file', 'location': '/mnt/dj-stor01/platinum/minnie65/02/meshes', 'stage': '/mnt/dj-stor01/platinum/minnie65/02/meshes'}, 'decimated_meshes': {'protocol': 'file', 'location': '/mnt/dj-stor01/platinum/minnie65/02/decimated_meshes', 'stage': '/mnt/dj-stor01/platinum/minnie65/02/decimated_meshes'}, 'skeletons': {'protocol': 'file', 'location': '/mnt/dj-stor01/platinum/minnie65/02/skeletons'}}\n",
      "INFO - 2021-06-15 20:28:55,439 - settings - Setting enable_python_native_blobs to True\n",
      "INFO - 2021-06-15 20:28:55,449 - connection - Connected celiib@at-database.ad.bcm.edu:3306\n"
     ]
    },
    {
     "name": "stdout",
     "output_type": "stream",
     "text": [
      "Connecting celiib@at-database.ad.bcm.edu:3306\n"
     ]
    },
    {
     "name": "stderr",
     "output_type": "stream",
     "text": [
      "INFO - 2021-06-15 20:28:56,042 - settings - Setting enable_python_native_blobs to True\n",
      "INFO - 2021-06-15 20:28:56,078 - settings - Setting database.host to at-database.ad.bcm.edu\n",
      "INFO - 2021-06-15 20:28:56,079 - settings - Setting database.user to celiib\n",
      "INFO - 2021-06-15 20:28:56,080 - settings - Setting database.password to newceliipass\n",
      "INFO - 2021-06-15 20:28:56,081 - settings - Setting enable_python_native_blobs to True\n",
      "INFO - 2021-06-15 20:28:56,740 - settings - Setting enable_python_native_blobs to True\n",
      "INFO - 2021-06-15 20:28:56,778 - settings - Setting database.host to at-database.ad.bcm.edu\n",
      "INFO - 2021-06-15 20:28:56,779 - settings - Setting database.user to celiib\n",
      "INFO - 2021-06-15 20:28:56,780 - settings - Setting database.password to newceliipass\n",
      "INFO - 2021-06-15 20:28:56,780 - settings - Setting database.host to at-database.ad.bcm.edu\n",
      "INFO - 2021-06-15 20:28:56,781 - settings - Setting database.user to celiib\n",
      "INFO - 2021-06-15 20:28:56,781 - settings - Setting database.password to newceliipass\n",
      "INFO - 2021-06-15 20:28:56,783 - settings - Setting enable_python_native_blobs to True\n",
      "INFO - 2021-06-15 20:28:57,461 - settings - Setting enable_python_native_blobs to True\n"
     ]
    }
   ],
   "source": [
    "import numpy as np\n",
    "import datajoint as dj\n",
    "import trimesh\n",
    "from tqdm.notebook import tqdm\n",
    "from pathlib import Path\n",
    "\n",
    "from os import sys\n",
    "sys.path.append(\"/meshAfterParty/\")\n",
    "sys.path.append(\"/meshAfterParty/meshAfterParty\")\n",
    "\n",
    "import datajoint_utils as du\n",
    "from importlib import reload"
   ]
  },
  {
   "cell_type": "code",
   "execution_count": 3,
   "metadata": {},
   "outputs": [],
   "source": [
    "#so that it will have the adapter defined\n",
    "from datajoint_utils import *"
   ]
  },
  {
   "cell_type": "code",
   "execution_count": 4,
   "metadata": {},
   "outputs": [],
   "source": [
    "test_mode = True"
   ]
  },
  {
   "cell_type": "markdown",
   "metadata": {},
   "source": [
    "# Debugging the contains method"
   ]
  },
  {
   "cell_type": "code",
   "execution_count": 5,
   "metadata": {},
   "outputs": [],
   "source": [
    "import system_utils as su"
   ]
  },
  {
   "cell_type": "code",
   "execution_count": 6,
   "metadata": {},
   "outputs": [
    {
     "name": "stderr",
     "output_type": "stream",
     "text": [
      "INFO - 2021-06-15 20:28:57,558 - settings - Setting database.host to at-database.ad.bcm.edu\n",
      "INFO - 2021-06-15 20:28:57,574 - settings - Setting database.user to celiib\n",
      "INFO - 2021-06-15 20:28:57,576 - settings - Setting database.password to newceliipass\n",
      "INFO - 2021-06-15 20:28:57,577 - settings - Setting database.host to at-database.ad.bcm.edu\n",
      "INFO - 2021-06-15 20:28:57,577 - settings - Setting database.user to celiib\n",
      "INFO - 2021-06-15 20:28:57,580 - settings - Setting database.password to newceliipass\n",
      "INFO - 2021-06-15 20:28:57,581 - settings - Setting enable_python_native_blobs to True\n"
     ]
    },
    {
     "name": "stdout",
     "output_type": "stream",
     "text": [
      "Sleeping 50 sec before conneting\n",
      "Done sleeping\n",
      "Current path for external_segmentation_path = /mnt/dj-stor01/platinum/minnie65/02\n",
      "Current path for external_mesh_path = /mnt/dj-stor01/platinum/minnie65/02/meshes\n",
      "Current path for external_decimated_mesh_path = /mnt/dj-stor01/platinum/minnie65/02/decimated_meshes\n",
      "Current path for external_skeleton_path = /mnt/dj-stor01/platinum/minnie65/02/skeletons\n"
     ]
    },
    {
     "name": "stderr",
     "output_type": "stream",
     "text": [
      "INFO - 2021-06-15 20:28:58,298 - settings - Setting enable_python_native_blobs to True\n"
     ]
    }
   ],
   "source": [
    "import minfig\n",
    "import time\n",
    "import numpy as np\n",
    "#want to add in a wait for the connection part\n",
    "random_sleep_sec = np.random.randint(0, 200)\n",
    "print(f\"Sleeping {random_sleep_sec} sec before conneting\")\n",
    "if not test_mode:\n",
    "    time.sleep(random_sleep_sec)\n",
    "print(\"Done sleeping\")\n",
    "\n",
    "du.config_celii()\n",
    "du.set_minnie65_config_segmentation(minfig)\n",
    "du.print_minnie65_config_paths(minfig)\n",
    "\n",
    "#configuring will include the adapters\n",
    "minnie,schema = du.configure_minnie_vm()"
   ]
  },
  {
   "cell_type": "code",
   "execution_count": 7,
   "metadata": {},
   "outputs": [],
   "source": [
    "from importlib import reload\n",
    "\n",
    "import neuron_utils as nru\n",
    "\n",
    "import neuron\n",
    "\n",
    "import neuron_visualizations as nviz\n",
    "\n",
    "import time\n",
    "\n",
    "import datajoint_utils as du\n",
    "\n",
    "import numpy as np\n",
    "\n",
    "import proofreading_utils as pru\n",
    "\n",
    "import preprocessing_vp2 as pre\n",
    "\n",
    "# -- For the axon classification --\n",
    "\n",
    "import neuron_searching as ns\n",
    "\n",
    "import skeleton_utils as sk\n",
    "\n",
    "import numpy_utils as nu\n",
    "\n",
    "import networkx_utils as xu\n",
    "\n",
    "import system_utils as su\n",
    "\n",
    "import classification_utils as clu\n",
    "import proofreading_utils as pru\n",
    "\n",
    "import datajoint as dj\n",
    "\n",
    "from pykdtree.kdtree import KDTree\n",
    "import trimesh_utils as tu\n",
    "import proofreading_utils as pru\n",
    "import numpy as np"
   ]
  },
  {
   "cell_type": "markdown",
   "metadata": {},
   "source": [
    "# Defining the Table"
   ]
  },
  {
   "cell_type": "code",
   "execution_count": 8,
   "metadata": {},
   "outputs": [],
   "source": [
    "import neuron_utils as nru\n",
    "import neuron\n",
    "import trimesh_utils as tu\n",
    "import numpy as np"
   ]
  },
  {
   "cell_type": "code",
   "execution_count": 9,
   "metadata": {},
   "outputs": [
    {
     "name": "stdout",
     "output_type": "stream",
     "text": [
      "No port chosen so picked random port 4484\n"
     ]
    }
   ],
   "source": [
    "import meshlab\n",
    "meshlab.set_meshlab_port(current_port=None)"
   ]
  },
  {
   "cell_type": "code",
   "execution_count": 10,
   "metadata": {},
   "outputs": [],
   "source": [
    "# minnie,schema = du.configure_minnie_vm()\n",
    "# minnie.AutoProofreadNeurons5.drop()\n",
    "# minnie.AutoProofreadStats5.drop()\n",
    "# minnie.AutoProofreadSynapse5.drop()\n",
    "# minnie.AutoProofreadSynapseErrors5.drop()\n",
    "# minnie.schema.external['faces'].delete(delete_external_files=True)\n",
    "# minnie.schema.external['skeleton'].delete(delete_external_files=True)"
   ]
  },
  {
   "cell_type": "markdown",
   "metadata": {},
   "source": [
    "# Creating the Auto Proofread Neuron Table"
   ]
  },
  {
   "cell_type": "code",
   "execution_count": 11,
   "metadata": {},
   "outputs": [
    {
     "data": {
      "text/html": [
       "\n",
       "        \n",
       "        <style type=\"text/css\">\n",
       "            .Relation{\n",
       "                border-collapse:collapse;\n",
       "            }\n",
       "            .Relation th{\n",
       "                background: #A0A0A0; color: #ffffff; padding:4px; border:#f0e0e0 1px solid;\n",
       "                font-weight: normal; font-family: monospace; font-size: 100%;\n",
       "            }\n",
       "            .Relation td{\n",
       "                padding:4px; border:#f0e0e0 1px solid; font-size:100%;\n",
       "            }\n",
       "            .Relation tr:nth-child(odd){\n",
       "                background: #ffffff;\n",
       "            }\n",
       "            .Relation tr:nth-child(even){\n",
       "                background: #f3f1ff;\n",
       "            }\n",
       "            /* Tooltip container */\n",
       "            .djtooltip {\n",
       "            }\n",
       "            /* Tooltip text */\n",
       "            .djtooltip .djtooltiptext {\n",
       "                visibility: hidden;\n",
       "                width: 120px;\n",
       "                background-color: black;\n",
       "                color: #fff;\n",
       "                text-align: center;\n",
       "                padding: 5px 0;\n",
       "                border-radius: 6px;\n",
       "                /* Position the tooltip text - see examples below! */\n",
       "                position: absolute;\n",
       "                z-index: 1;\n",
       "            }\n",
       "            #primary {\n",
       "                font-weight: bold;\n",
       "                color: black;\n",
       "            }\n",
       "\n",
       "            #nonprimary {\n",
       "                font-weight: normal;\n",
       "                color: white;\n",
       "            }\n",
       "\n",
       "            /* Show the tooltip text when you mouse over the tooltip container */\n",
       "            .djtooltip:hover .djtooltiptext {\n",
       "                visibility: visible;\n",
       "            }\n",
       "        </style>\n",
       "        \n",
       "        \n",
       "            <div style=\"max-height:1000px;max-width:1500px;overflow:auto;\">\n",
       "            <table border=\"1\" class=\"Relation\">\n",
       "                <thead> <tr style=\"text-align: right;\"> <th> <div class=\"djtooltip\">\n",
       "                                <p id=\"primary\">segment_id</p>\n",
       "                                <span class=\"djtooltiptext\">id of the segment under the nucleus centroid. Equivalent to Allen 'pt_root_id'.</span>\n",
       "                            </div> </th> </tr> </thead>\n",
       "                <tbody> <tr> <td>864691135855890478</td></tr><tr><td>864691135753932237</td></tr><tr><td>864691135609687047</td></tr><tr><td>864691136903144370</td></tr><tr><td>864691135293126156</td></tr><tr><td>864691134988722810</td></tr><tr><td>864691136023889209</td></tr><tr><td>864691136951664863</td></tr><tr><td>864691135584074360</td></tr><tr><td>864691135974639471</td></tr><tr><td>864691136108768952</td></tr><tr><td>864691135517422218</td> </tr> </tbody>\n",
       "            </table>\n",
       "            <p>...</p>\n",
       "            <p>Total: 142</p></div>\n",
       "            "
      ],
      "text/plain": [
       "*segment_id   \n",
       "+------------+\n",
       "86469113585589\n",
       "86469113575393\n",
       "86469113560968\n",
       "86469113690314\n",
       "86469113529312\n",
       "86469113498872\n",
       "86469113602388\n",
       "86469113695166\n",
       "86469113558407\n",
       "86469113597463\n",
       "86469113610876\n",
       "86469113551742\n",
       "   ...\n",
       " (Total: 142)"
      ]
     },
     "execution_count": 11,
     "metadata": {},
     "output_type": "execute_result"
    }
   ],
   "source": [
    "manual_seg_ids = dj.U(\"segment_id\") & (m65mat.Nucleus.Info * (m65mat.ProofreadSegment() & \"ver=88\"))\n",
    "manual_seg_ids"
   ]
  },
  {
   "cell_type": "code",
   "execution_count": 12,
   "metadata": {},
   "outputs": [],
   "source": [
    "import numpy as np\n",
    "import time\n",
    "import classification_utils as clu\n",
    "\n",
    "\n",
    "verbose = True\n",
    "\n",
    "@schema\n",
    "class ManualProofreadNeuronSkeletons(dj.Computed):\n",
    "    definition=\"\"\"\n",
    "    -> minnie.Decomposition()\n",
    "    split_index          : tinyint unsigned             # the index of the neuron object that resulted AFTER THE SPLITTING ALGORITHM\n",
    "    ---\n",
    "    neuron_skeleton: longblob    # the skeleton of the entire neuron\n",
    "    \"\"\"\n",
    "    key_source = (minnie.Decomposition() & manual_seg_ids\n",
    "                 & minnie.DecompositionAxon().proj() \n",
    "             ) \n",
    "\n",
    "    def make(self,key):\n",
    "        \"\"\"\n",
    "        Pseudocode:\n",
    "        1) Pull Down All of the Neurons\n",
    "        2) Get the nucleus centers and the original mesh\n",
    "\n",
    "        \"\"\"\n",
    "        \n",
    "        # 1) Pull Down All of the Neurons\n",
    "        segment_id = key[\"segment_id\"]\n",
    "        print(f\"\\n---- Working on {segment_id}----\")\n",
    "        whole_pass_time = time.time()\n",
    "        \n",
    "        neuron_objs,split_indexes = du.decomposition_with_spine_recalculation(segment_id)\n",
    "        \n",
    "        ManualProofreadNeuronSkeletons.insert([dict(key,\n",
    "                                                    split_index = sp,\n",
    "                                                    neuron_skeleton=n.skeleton) \n",
    "                                               for n,sp in zip(neuron_objs,split_indexes)],skip_duplicates=True)\n",
    "            \n",
    "\n",
    "        print(f\"\\n\\n ***------ Total time for {key['segment_id']} = {time.time() - whole_pass_time} ------ ***\")\n"
   ]
  },
  {
   "cell_type": "markdown",
   "metadata": {},
   "source": [
    "# Running the Populate"
   ]
  },
  {
   "cell_type": "code",
   "execution_count": 13,
   "metadata": {},
   "outputs": [
    {
     "data": {
      "text/html": [
       "\n",
       "        \n",
       "        <style type=\"text/css\">\n",
       "            .Relation{\n",
       "                border-collapse:collapse;\n",
       "            }\n",
       "            .Relation th{\n",
       "                background: #A0A0A0; color: #ffffff; padding:4px; border:#f0e0e0 1px solid;\n",
       "                font-weight: normal; font-family: monospace; font-size: 100%;\n",
       "            }\n",
       "            .Relation td{\n",
       "                padding:4px; border:#f0e0e0 1px solid; font-size:100%;\n",
       "            }\n",
       "            .Relation tr:nth-child(odd){\n",
       "                background: #ffffff;\n",
       "            }\n",
       "            .Relation tr:nth-child(even){\n",
       "                background: #f3f1ff;\n",
       "            }\n",
       "            /* Tooltip container */\n",
       "            .djtooltip {\n",
       "            }\n",
       "            /* Tooltip text */\n",
       "            .djtooltip .djtooltiptext {\n",
       "                visibility: hidden;\n",
       "                width: 120px;\n",
       "                background-color: black;\n",
       "                color: #fff;\n",
       "                text-align: center;\n",
       "                padding: 5px 0;\n",
       "                border-radius: 6px;\n",
       "                /* Position the tooltip text - see examples below! */\n",
       "                position: absolute;\n",
       "                z-index: 1;\n",
       "            }\n",
       "            #primary {\n",
       "                font-weight: bold;\n",
       "                color: black;\n",
       "            }\n",
       "\n",
       "            #nonprimary {\n",
       "                font-weight: normal;\n",
       "                color: white;\n",
       "            }\n",
       "\n",
       "            /* Show the tooltip text when you mouse over the tooltip container */\n",
       "            .djtooltip:hover .djtooltiptext {\n",
       "                visibility: visible;\n",
       "            }\n",
       "        </style>\n",
       "        \n",
       "        <b>job reservation table for `microns_minnie65_02`</b>\n",
       "            <div style=\"max-height:1000px;max-width:1500px;overflow:auto;\">\n",
       "            <table border=\"1\" class=\"Relation\">\n",
       "                <thead> <tr style=\"text-align: right;\"> <th> <div class=\"djtooltip\">\n",
       "                                <p id=\"primary\">table_name</p>\n",
       "                                <span class=\"djtooltiptext\">className of the table</span>\n",
       "                            </div></th><th><div class=\"djtooltip\">\n",
       "                                <p id=\"primary\">key_hash</p>\n",
       "                                <span class=\"djtooltiptext\">key hash</span>\n",
       "                            </div></th><th><div class=\"djtooltip\">\n",
       "                                <p id=\"nonprimary\">status</p>\n",
       "                                <span class=\"djtooltiptext\">if tuple is missing, the job is available</span>\n",
       "                            </div></th><th><div class=\"djtooltip\">\n",
       "                                <p id=\"nonprimary\">key</p>\n",
       "                                <span class=\"djtooltiptext\">structure containing the key</span>\n",
       "                            </div></th><th><div class=\"djtooltip\">\n",
       "                                <p id=\"nonprimary\">error_message</p>\n",
       "                                <span class=\"djtooltiptext\">error message returned if failed</span>\n",
       "                            </div></th><th><div class=\"djtooltip\">\n",
       "                                <p id=\"nonprimary\">error_stack</p>\n",
       "                                <span class=\"djtooltiptext\">error stack if failed</span>\n",
       "                            </div></th><th><div class=\"djtooltip\">\n",
       "                                <p id=\"nonprimary\">user</p>\n",
       "                                <span class=\"djtooltiptext\">database user</span>\n",
       "                            </div></th><th><div class=\"djtooltip\">\n",
       "                                <p id=\"nonprimary\">host</p>\n",
       "                                <span class=\"djtooltiptext\">system hostname</span>\n",
       "                            </div></th><th><div class=\"djtooltip\">\n",
       "                                <p id=\"nonprimary\">pid</p>\n",
       "                                <span class=\"djtooltiptext\">system process id</span>\n",
       "                            </div></th><th><div class=\"djtooltip\">\n",
       "                                <p id=\"nonprimary\">connection_id</p>\n",
       "                                <span class=\"djtooltiptext\">connection_id()</span>\n",
       "                            </div></th><th><div class=\"djtooltip\">\n",
       "                                <p id=\"nonprimary\">timestamp</p>\n",
       "                                <span class=\"djtooltiptext\">automatic timestamp</span>\n",
       "                            </div> </th> </tr> </thead>\n",
       "                <tbody> <tr> <td>__manual_proofread_neuron_skeletons</td>\n",
       "<td>689b3f4c89c5144cb26d9d22fa5b6576</td>\n",
       "<td>reserved</td>\n",
       "<td>=BLOB=</td>\n",
       "<td></td>\n",
       "<td>=BLOB=</td>\n",
       "<td>celiib@10.28.0.83</td>\n",
       "<td>at-compute004</td>\n",
       "<td>2544</td>\n",
       "<td>525054</td>\n",
       "<td>2021-06-15 15:27:42</td></tr><tr><td>__manual_proofread_neuron_skeletons</td>\n",
       "<td>75aa032b8eff7e3f1fbe14ab58ffbb95</td>\n",
       "<td>reserved</td>\n",
       "<td>=BLOB=</td>\n",
       "<td></td>\n",
       "<td>=BLOB=</td>\n",
       "<td>celiib@10.28.0.83</td>\n",
       "<td>at-compute004</td>\n",
       "<td>2229</td>\n",
       "<td>525053</td>\n",
       "<td>2021-06-15 15:27:29</td></tr><tr><td>__manual_proofread_neuron_skeletons</td>\n",
       "<td>cf0205d7ee18d196aec774d2ee934d0e</td>\n",
       "<td>reserved</td>\n",
       "<td>=BLOB=</td>\n",
       "<td></td>\n",
       "<td>=BLOB=</td>\n",
       "<td>celiib@10.28.0.83</td>\n",
       "<td>at-compute004</td>\n",
       "<td>2738</td>\n",
       "<td>525056</td>\n",
       "<td>2021-06-15 15:28:28</td> </tr> </tbody>\n",
       "            </table>\n",
       "            \n",
       "            <p>Total: 3</p></div>\n",
       "            "
      ],
      "text/plain": [
       "*table_name    *key_hash      status       key        error_message  error_stac user           host           pid      connection_id  timestamp     \n",
       "+------------+ +------------+ +----------+ +--------+ +------------+ +--------+ +------------+ +------------+ +------+ +------------+ +------------+\n",
       "__manual_proof 689b3f4c89c514 reserved     =BLOB=                    =BLOB=     celiib@10.28.0 at-compute004  2544     525054         2021-06-15 15:\n",
       "__manual_proof 75aa032b8eff7e reserved     =BLOB=                    =BLOB=     celiib@10.28.0 at-compute004  2229     525053         2021-06-15 15:\n",
       "__manual_proof cf0205d7ee18d1 reserved     =BLOB=                    =BLOB=     celiib@10.28.0 at-compute004  2738     525056         2021-06-15 15:\n",
       " (Total: 3)"
      ]
     },
     "execution_count": 13,
     "metadata": {},
     "output_type": "execute_result"
    }
   ],
   "source": [
    "curr_table = (minnie.schema.jobs & \"table_name='__manual_proofread_neuron_skeletons'\")\n",
    "(curr_table)#.delete()"
   ]
  },
  {
   "cell_type": "code",
   "execution_count": null,
   "metadata": {},
   "outputs": [
    {
     "name": "stderr",
     "output_type": "stream",
     "text": [
      "INFO - 2021-06-15 20:29:00,728 - settings - Setting database.host to at-database.ad.bcm.edu\n",
      "INFO - 2021-06-15 20:29:00,730 - settings - Setting database.user to celiib\n",
      "INFO - 2021-06-15 20:29:00,731 - settings - Setting database.password to newceliipass\n",
      "INFO - 2021-06-15 20:29:00,731 - settings - Setting database.host to at-database.ad.bcm.edu\n",
      "INFO - 2021-06-15 20:29:00,732 - settings - Setting database.user to celiib\n",
      "INFO - 2021-06-15 20:29:00,732 - settings - Setting database.password to newceliipass\n",
      "INFO - 2021-06-15 20:29:00,738 - settings - Setting enable_python_native_blobs to True\n",
      "INFO - 2021-06-15 20:29:01,702 - settings - Setting enable_python_native_blobs to True\n"
     ]
    },
    {
     "name": "stdout",
     "output_type": "stream",
     "text": [
      "Populate Started\n"
     ]
    },
    {
     "name": "stderr",
     "output_type": "stream",
     "text": [
      "INFO - 2021-06-15 20:29:05,348 - autopopulate - Found 43 keys to populate\n",
      "INFO - 2021-06-15 20:29:05,374 - connection - Transaction started\n",
      "INFO - 2021-06-15 20:29:05,376 - autopopulate - Populating: {'segment_id': 864691135445704338, 'decimation_version': 0, 'decimation_ratio': Decimal('0.25'), 'ver': Decimal('30.00'), 'process_version': 5, 'index': 0}\n"
     ]
    },
    {
     "name": "stdout",
     "output_type": "stream",
     "text": [
      "\n",
      "---- Working on 864691135445704338----\n",
      "**Using table __decomposition_axon for table_to_neuron_objs**\n",
      "Decompressing Neuron in minimal output mode...please wait\n",
      "Dont need spine recalculation\n",
      "Number of Neurons found = 1\n",
      "\n",
      "\n",
      " ***------ Total time for 864691135445704338 = 39.24082016944885 ------ ***\n",
      "\n",
      "---- Working on 864691136573079970----\n",
      "**Using table __decomposition_axon for table_to_neuron_objs**\n",
      "Decompressing Neuron in minimal output mode...please wait\n",
      "Dont need spine recalculation\n",
      "Number of Neurons found = 1\n",
      "\n",
      "\n",
      " ***------ Total time for 864691136573079970 = 105.47224497795105 ------ ***\n",
      "\n",
      "---- Working on 864691136108768952----\n",
      "**Using table __decomposition_axon for table_to_neuron_objs**\n",
      "Decompressing Neuron in minimal output mode...please wait\n",
      "Dont need spine recalculation\n",
      "Number of Neurons found = 1\n",
      "\n",
      "\n",
      " ***------ Total time for 864691136108768952 = 109.63634395599365 ------ ***\n",
      "\n",
      "---- Working on 864691135815579983----\n",
      "**Using table __decomposition_axon for table_to_neuron_objs**\n",
      "Decompressing Neuron in minimal output mode...please wait\n"
     ]
    }
   ],
   "source": [
    "import time\n",
    "pru = reload(pru)\n",
    "nru = reload(nru)\n",
    "import neuron_searching as ns\n",
    "ns = reload(ns)\n",
    "clu = reload(clu)\n",
    "du = reload(du)\n",
    "import random\n",
    "\n",
    "start_time = time.time()\n",
    "if not test_mode:\n",
    "    time.sleep(random.randint(0, 800))\n",
    "print('Populate Started')\n",
    "if not test_mode:\n",
    "    ManualProofreadNeuronSkeletons.populate(reserve_jobs=True, suppress_errors=True, order=\"random\")\n",
    "else:\n",
    "    ManualProofreadNeuronSkeletons.populate(reserve_jobs=True, suppress_errors=False, order=\"random\")\n",
    "print('Populate Done')\n",
    "\n",
    "print(f\"Total time for ManualProofreadNeuronSkeletons populate = {time.time() - start_time}\")"
   ]
  }
 ],
 "metadata": {
  "kernelspec": {
   "display_name": "Python 3",
   "language": "python",
   "name": "python3"
  },
  "language_info": {
   "codemirror_mode": {
    "name": "ipython",
    "version": 3
   },
   "file_extension": ".py",
   "mimetype": "text/x-python",
   "name": "python",
   "nbconvert_exporter": "python",
   "pygments_lexer": "ipython3",
   "version": "3.6.9"
  }
 },
 "nbformat": 4,
 "nbformat_minor": 4
}
