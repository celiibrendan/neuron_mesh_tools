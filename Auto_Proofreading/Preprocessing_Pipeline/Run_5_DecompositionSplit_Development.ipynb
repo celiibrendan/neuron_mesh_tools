{
 "cells": [
  {
   "cell_type": "code",
   "execution_count": null,
   "metadata": {},
   "outputs": [],
   "source": [
    "\"\"\"\n",
    "Purpose: To decompose the multi-somas for splitting\n",
    "using the new decomposition method\n",
    "\n",
    "\n",
    "\n",
    "\"\"\"\n"
   ]
  },
  {
   "cell_type": "code",
   "execution_count": 1,
   "metadata": {},
   "outputs": [],
   "source": [
    "%load_ext autoreload\n",
    "%autoreload 2"
   ]
  },
  {
   "cell_type": "code",
   "execution_count": 2,
   "metadata": {},
   "outputs": [
    {
     "name": "stderr",
     "output_type": "stream",
     "text": [
      "INFO - 2021-01-22 23:35:42,432 - settings - Setting database.host to at-database.ad.bcm.edu\n",
      "INFO - 2021-01-22 23:35:42,433 - settings - Setting database.user to celiib\n",
      "INFO - 2021-01-22 23:35:42,434 - settings - Setting database.password to newceliipass\n",
      "INFO - 2021-01-22 23:35:42,439 - settings - Setting stores to {'minnie65': {'protocol': 'file', 'location': '/mnt/dj-stor01/platinum/minnie65', 'stage': '/mnt/dj-stor01/platinum/minnie65'}, 'meshes': {'protocol': 'file', 'location': '/mnt/dj-stor01/platinum/minnie65/02/meshes', 'stage': '/mnt/dj-stor01/platinum/minnie65/02/meshes'}, 'decimated_meshes': {'protocol': 'file', 'location': '/mnt/dj-stor01/platinum/minnie65/02/decimated_meshes', 'stage': '/mnt/dj-stor01/platinum/minnie65/02/decimated_meshes'}, 'skeletons': {'protocol': 'file', 'location': '/mnt/dj-stor01/platinum/minnie65/02/skeletons'}}\n",
      "INFO - 2021-01-22 23:35:42,440 - settings - Setting enable_python_native_blobs to True\n",
      "INFO - 2021-01-22 23:35:42,457 - connection - Connected celiib@at-database.ad.bcm.edu:3306\n"
     ]
    },
    {
     "name": "stdout",
     "output_type": "stream",
     "text": [
      "Connecting celiib@at-database.ad.bcm.edu:3306\n"
     ]
    },
    {
     "name": "stderr",
     "output_type": "stream",
     "text": [
      "INFO - 2021-01-22 23:35:42,734 - settings - Setting enable_python_native_blobs to True\n"
     ]
    }
   ],
   "source": [
    "import numpy as np\n",
    "import datajoint as dj\n",
    "import trimesh\n",
    "from tqdm.notebook import tqdm\n",
    "from pathlib import Path\n",
    "\n",
    "from os import sys\n",
    "sys.path.append(\"/meshAfterParty/\")\n",
    "\n",
    "import datajoint_utils as du\n",
    "from importlib import reload"
   ]
  },
  {
   "cell_type": "code",
   "execution_count": 3,
   "metadata": {},
   "outputs": [],
   "source": [
    "#so that it will have the adapter defined\n",
    "from datajoint_utils import *"
   ]
  },
  {
   "cell_type": "code",
   "execution_count": 4,
   "metadata": {},
   "outputs": [],
   "source": [
    "test_mode = True"
   ]
  },
  {
   "cell_type": "markdown",
   "metadata": {},
   "source": [
    "# Debugging the contains method"
   ]
  },
  {
   "cell_type": "code",
   "execution_count": 5,
   "metadata": {},
   "outputs": [],
   "source": [
    "import system_utils as su"
   ]
  },
  {
   "cell_type": "code",
   "execution_count": 6,
   "metadata": {},
   "outputs": [
    {
     "name": "stderr",
     "output_type": "stream",
     "text": [
      "INFO - 2021-01-22 23:35:42,933 - settings - Setting database.host to at-database.ad.bcm.edu\n",
      "INFO - 2021-01-22 23:35:42,934 - settings - Setting database.user to celiib\n",
      "INFO - 2021-01-22 23:35:42,934 - settings - Setting database.password to newceliipass\n",
      "INFO - 2021-01-22 23:35:42,936 - settings - Setting enable_python_native_blobs to True\n"
     ]
    },
    {
     "name": "stdout",
     "output_type": "stream",
     "text": [
      "Sleeping 192 sec before conneting\n",
      "Done sleeping\n",
      "Current path for external_segmentation_path = /mnt/dj-stor01/platinum/minnie65/02\n",
      "Current path for external_mesh_path = /mnt/dj-stor01/platinum/minnie65/02/meshes\n",
      "Current path for external_decimated_mesh_path = /mnt/dj-stor01/platinum/minnie65/02/decimated_meshes\n",
      "Current path for external_skeleton_path = /mnt/dj-stor01/platinum/minnie65/02/skeletons\n"
     ]
    },
    {
     "name": "stderr",
     "output_type": "stream",
     "text": [
      "INFO - 2021-01-22 23:35:43,210 - settings - Setting enable_python_native_blobs to True\n"
     ]
    }
   ],
   "source": [
    "import minfig\n",
    "import time\n",
    "import numpy as np\n",
    "#want to add in a wait for the connection part\n",
    "random_sleep_sec = np.random.randint(0, 200)\n",
    "print(f\"Sleeping {random_sleep_sec} sec before conneting\")\n",
    "if not test_mode:\n",
    "    time.sleep(random_sleep_sec)\n",
    "print(\"Done sleeping\")\n",
    "\n",
    "du.config_celii()\n",
    "du.set_minnie65_config_segmentation(minfig)\n",
    "du.print_minnie65_config_paths(minfig)\n",
    "\n",
    "#configuring will include the adapters\n",
    "minnie,schema = du.configure_minnie_vm()"
   ]
  },
  {
   "cell_type": "code",
   "execution_count": 7,
   "metadata": {},
   "outputs": [],
   "source": [
    "#(schema.jobs & \"table_name='__decomposition'\").delete()"
   ]
  },
  {
   "cell_type": "markdown",
   "metadata": {},
   "source": [
    "# Defining the Table"
   ]
  },
  {
   "cell_type": "code",
   "execution_count": 8,
   "metadata": {},
   "outputs": [],
   "source": [
    "import neuron_utils as nru\n",
    "import neuron\n",
    "import trimesh_utils as tu\n",
    "import numpy as np"
   ]
  },
  {
   "cell_type": "code",
   "execution_count": 9,
   "metadata": {},
   "outputs": [
    {
     "name": "stdout",
     "output_type": "stream",
     "text": [
      "No port chosen so picked random port 5849\n"
     ]
    }
   ],
   "source": [
    "import meshlab\n",
    "meshlab.set_meshlab_port(current_port=None)"
   ]
  },
  {
   "cell_type": "code",
   "execution_count": 10,
   "metadata": {},
   "outputs": [
    {
     "data": {
      "text/html": [
       "\n",
       "        \n",
       "        <style type=\"text/css\">\n",
       "            .Relation{\n",
       "                border-collapse:collapse;\n",
       "            }\n",
       "            .Relation th{\n",
       "                background: #A0A0A0; color: #ffffff; padding:4px; border:#f0e0e0 1px solid;\n",
       "                font-weight: normal; font-family: monospace; font-size: 100%;\n",
       "            }\n",
       "            .Relation td{\n",
       "                padding:4px; border:#f0e0e0 1px solid; font-size:100%;\n",
       "            }\n",
       "            .Relation tr:nth-child(odd){\n",
       "                background: #ffffff;\n",
       "            }\n",
       "            .Relation tr:nth-child(even){\n",
       "                background: #f3f1ff;\n",
       "            }\n",
       "            /* Tooltip container */\n",
       "            .djtooltip {\n",
       "            }\n",
       "            /* Tooltip text */\n",
       "            .djtooltip .djtooltiptext {\n",
       "                visibility: hidden;\n",
       "                width: 120px;\n",
       "                background-color: black;\n",
       "                color: #fff;\n",
       "                text-align: center;\n",
       "                padding: 5px 0;\n",
       "                border-radius: 6px;\n",
       "                /* Position the tooltip text - see examples below! */\n",
       "                position: absolute;\n",
       "                z-index: 1;\n",
       "            }\n",
       "            #primary {\n",
       "                font-weight: bold;\n",
       "                color: black;\n",
       "            }\n",
       "\n",
       "            #nonprimary {\n",
       "                font-weight: normal;\n",
       "                color: white;\n",
       "            }\n",
       "\n",
       "            /* Show the tooltip text when you mouse over the tooltip container */\n",
       "            .djtooltip:hover .djtooltiptext {\n",
       "                visibility: visible;\n",
       "            }\n",
       "        </style>\n",
       "        \n",
       "        <b></b>\n",
       "            <div style=\"max-height:1000px;max-width:1500px;overflow:auto;\">\n",
       "            <table border=\"1\" class=\"Relation\">\n",
       "                <thead> <tr style=\"text-align: right;\"> <th> <div class=\"djtooltip\">\n",
       "                                <p id=\"primary\">segment_id</p>\n",
       "                                <span class=\"djtooltiptext\">segment id unique within each Segmentation</span>\n",
       "                            </div></th><th><div class=\"djtooltip\">\n",
       "                                <p id=\"primary\">decimation_version</p>\n",
       "                                <span class=\"djtooltiptext\"></span>\n",
       "                            </div></th><th><div class=\"djtooltip\">\n",
       "                                <p id=\"primary\">decimation_ratio</p>\n",
       "                                <span class=\"djtooltiptext\">ratio of remaining mesh vertices/faces (which ones depends on what metric the decimation technique uses)</span>\n",
       "                            </div></th><th><div class=\"djtooltip\">\n",
       "                                <p id=\"primary\">ver</p>\n",
       "                                <span class=\"djtooltiptext\">the version number of the materializaiton</span>\n",
       "                            </div></th><th><div class=\"djtooltip\">\n",
       "                                <p id=\"primary\">process_version</p>\n",
       "                                <span class=\"djtooltiptext\">the version of the preprocessing pipeline run</span>\n",
       "                            </div></th><th><div class=\"djtooltip\">\n",
       "                                <p id=\"primary\">index</p>\n",
       "                                <span class=\"djtooltiptext\">the index of the neuron object that resulted from that mesh (indexed starting at 0)</span>\n",
       "                            </div></th><th><div class=\"djtooltip\">\n",
       "                                <p id=\"nonprimary\">multiplicity</p>\n",
       "                                <span class=\"djtooltiptext\">the number of somas found for this base segment</span>\n",
       "                            </div></th><th><div class=\"djtooltip\">\n",
       "                                <p id=\"nonprimary\">decomposition</p>\n",
       "                                <span class=\"djtooltiptext\"></span>\n",
       "                            </div></th><th><div class=\"djtooltip\">\n",
       "                                <p id=\"nonprimary\">n_vertices</p>\n",
       "                                <span class=\"djtooltiptext\">number of vertices</span>\n",
       "                            </div></th><th><div class=\"djtooltip\">\n",
       "                                <p id=\"nonprimary\">n_faces</p>\n",
       "                                <span class=\"djtooltiptext\">number of faces</span>\n",
       "                            </div></th><th><div class=\"djtooltip\">\n",
       "                                <p id=\"nonprimary\">n_not_processed_soma_containing_meshes</p>\n",
       "                                <span class=\"djtooltiptext\">the number of meshes with somas that were not processed</span>\n",
       "                            </div></th><th><div class=\"djtooltip\">\n",
       "                                <p id=\"nonprimary\">n_error_limbs</p>\n",
       "                                <span class=\"djtooltiptext\">the number of limbs that are touching multiple somas or 1 soma in multiple places</span>\n",
       "                            </div></th><th><div class=\"djtooltip\">\n",
       "                                <p id=\"nonprimary\">n_same_soma_multi_touching_limbs</p>\n",
       "                                <span class=\"djtooltiptext\">number of limbs that touch the same soma multiple times</span>\n",
       "                            </div></th><th><div class=\"djtooltip\">\n",
       "                                <p id=\"nonprimary\">n_multi_soma_touching_limbs</p>\n",
       "                                <span class=\"djtooltiptext\">number of limbs that touch multiple somas</span>\n",
       "                            </div></th><th><div class=\"djtooltip\">\n",
       "                                <p id=\"nonprimary\">n_somas</p>\n",
       "                                <span class=\"djtooltiptext\">number of soma meshes detected</span>\n",
       "                            </div></th><th><div class=\"djtooltip\">\n",
       "                                <p id=\"nonprimary\">n_limbs</p>\n",
       "                                <span class=\"djtooltiptext\"></span>\n",
       "                            </div></th><th><div class=\"djtooltip\">\n",
       "                                <p id=\"nonprimary\">n_branches</p>\n",
       "                                <span class=\"djtooltiptext\"></span>\n",
       "                            </div></th><th><div class=\"djtooltip\">\n",
       "                                <p id=\"nonprimary\">max_limb_n_branches</p>\n",
       "                                <span class=\"djtooltiptext\"></span>\n",
       "                            </div></th><th><div class=\"djtooltip\">\n",
       "                                <p id=\"nonprimary\">skeletal_length</p>\n",
       "                                <span class=\"djtooltiptext\"></span>\n",
       "                            </div></th><th><div class=\"djtooltip\">\n",
       "                                <p id=\"nonprimary\">max_limb_skeletal_length</p>\n",
       "                                <span class=\"djtooltiptext\"></span>\n",
       "                            </div></th><th><div class=\"djtooltip\">\n",
       "                                <p id=\"nonprimary\">median_branch_length</p>\n",
       "                                <span class=\"djtooltiptext\">gives information on average skeletal length to next branch point</span>\n",
       "                            </div></th><th><div class=\"djtooltip\">\n",
       "                                <p id=\"nonprimary\">width_median</p>\n",
       "                                <span class=\"djtooltiptext\">median width from mesh center without spines removed</span>\n",
       "                            </div></th><th><div class=\"djtooltip\">\n",
       "                                <p id=\"nonprimary\">width_no_spine_median</p>\n",
       "                                <span class=\"djtooltiptext\">median width from mesh center with spines removed</span>\n",
       "                            </div></th><th><div class=\"djtooltip\">\n",
       "                                <p id=\"nonprimary\">width_90_perc</p>\n",
       "                                <span class=\"djtooltiptext\">90th percentile for width without spines removed</span>\n",
       "                            </div></th><th><div class=\"djtooltip\">\n",
       "                                <p id=\"nonprimary\">width_no_spine_90_perc</p>\n",
       "                                <span class=\"djtooltiptext\">90th percentile for width with spines removed</span>\n",
       "                            </div></th><th><div class=\"djtooltip\">\n",
       "                                <p id=\"nonprimary\">n_spines</p>\n",
       "                                <span class=\"djtooltiptext\"></span>\n",
       "                            </div></th><th><div class=\"djtooltip\">\n",
       "                                <p id=\"nonprimary\">spine_density</p>\n",
       "                                <span class=\"djtooltiptext\">n_spines/ skeletal_length</span>\n",
       "                            </div></th><th><div class=\"djtooltip\">\n",
       "                                <p id=\"nonprimary\">spines_per_branch</p>\n",
       "                                <span class=\"djtooltiptext\"></span>\n",
       "                            </div></th><th><div class=\"djtooltip\">\n",
       "                                <p id=\"nonprimary\">skeletal_length_eligible</p>\n",
       "                                <span class=\"djtooltiptext\">the skeletal length for all branches searched for spines</span>\n",
       "                            </div></th><th><div class=\"djtooltip\">\n",
       "                                <p id=\"nonprimary\">n_spine_eligible_branches</p>\n",
       "                                <span class=\"djtooltiptext\">the number of branches that were checked for spines because passed width threshold</span>\n",
       "                            </div></th><th><div class=\"djtooltip\">\n",
       "                                <p id=\"nonprimary\">spine_density_eligible</p>\n",
       "                                <span class=\"djtooltiptext\">n_spines/skeletal_length_eligible</span>\n",
       "                            </div></th><th><div class=\"djtooltip\">\n",
       "                                <p id=\"nonprimary\">spines_per_branch_eligible</p>\n",
       "                                <span class=\"djtooltiptext\">n_spines/n_spine_eligible_branches</span>\n",
       "                            </div></th><th><div class=\"djtooltip\">\n",
       "                                <p id=\"nonprimary\">total_spine_volume</p>\n",
       "                                <span class=\"djtooltiptext\">the sum of all spine volume</span>\n",
       "                            </div></th><th><div class=\"djtooltip\">\n",
       "                                <p id=\"nonprimary\">spine_volume_median</p>\n",
       "                                <span class=\"djtooltiptext\">median of the spine volume for those spines with able to calculate volume</span>\n",
       "                            </div></th><th><div class=\"djtooltip\">\n",
       "                                <p id=\"nonprimary\">spine_volume_density</p>\n",
       "                                <span class=\"djtooltiptext\">total_spine_volume/skeletal_length</span>\n",
       "                            </div></th><th><div class=\"djtooltip\">\n",
       "                                <p id=\"nonprimary\">spine_volume_density_eligible</p>\n",
       "                                <span class=\"djtooltiptext\">total_spine_volume/skeletal_length_eligible</span>\n",
       "                            </div></th><th><div class=\"djtooltip\">\n",
       "                                <p id=\"nonprimary\">spine_volume_per_branch_eligible</p>\n",
       "                                <span class=\"djtooltiptext\">total_spine_volume/n_spine_eligible_branches</span>\n",
       "                            </div></th><th><div class=\"djtooltip\">\n",
       "                                <p id=\"nonprimary\">run_time</p>\n",
       "                                <span class=\"djtooltiptext\">the amount of time to run (seconds)</span>\n",
       "                            </div> </th> </tr> </thead>\n",
       "                <tbody> <tr> <td>864691135490881732</td>\n",
       "<td>0</td>\n",
       "<td>0.25</td>\n",
       "<td>30.00</td>\n",
       "<td>0</td>\n",
       "<td>0</td>\n",
       "<td>1</td>\n",
       "<td>=BLOB=</td>\n",
       "<td>1347566</td>\n",
       "<td>2685556</td>\n",
       "<td>0</td>\n",
       "<td>1</td>\n",
       "<td>0</td>\n",
       "<td>1</td>\n",
       "<td>2</td>\n",
       "<td>11</td>\n",
       "<td>651</td>\n",
       "<td>433</td>\n",
       "<td>20319746.557783827</td>\n",
       "<td>10836214.544240803</td>\n",
       "<td>20032.079</td>\n",
       "<td>76.397</td>\n",
       "<td>76.397</td>\n",
       "<td>331.736</td>\n",
       "<td>319.774</td>\n",
       "<td>2105</td>\n",
       "<td>0.00010359381176403717</td>\n",
       "<td>3.2334869431643627</td>\n",
       "<td>7020726.017</td>\n",
       "<td>179</td>\n",
       "<td>0.0002998265414293264</td>\n",
       "<td>11.76</td>\n",
       "<td>258347147437.31827</td>\n",
       "<td>50802762.23184045</td>\n",
       "<td>12714.092998288601</td>\n",
       "<td>36797.7822823104</td>\n",
       "<td>1443280153.2811077</td>\n",
       "<td>5975.3818</td></tr><tr><td>864691135474658368</td>\n",
       "<td>0</td>\n",
       "<td>0.25</td>\n",
       "<td>30.00</td>\n",
       "<td>0</td>\n",
       "<td>0</td>\n",
       "<td>1</td>\n",
       "<td>=BLOB=</td>\n",
       "<td>965673</td>\n",
       "<td>1953444</td>\n",
       "<td>0</td>\n",
       "<td>2</td>\n",
       "<td>1</td>\n",
       "<td>1</td>\n",
       "<td>2</td>\n",
       "<td>17</td>\n",
       "<td>147</td>\n",
       "<td>25</td>\n",
       "<td>8350798.868209888</td>\n",
       "<td>1471003.3886958938</td>\n",
       "<td>47491.093</td>\n",
       "<td>318.264</td>\n",
       "<td>271.079</td>\n",
       "<td>531.603</td>\n",
       "<td>502.564</td>\n",
       "<td>4782</td>\n",
       "<td>0.0005726398247003989</td>\n",
       "<td>32.53061224489796</td>\n",
       "<td>7648735.773</td>\n",
       "<td>130</td>\n",
       "<td>0.0006252013590115686</td>\n",
       "<td>36.785</td>\n",
       "<td>824134359368.1963</td>\n",
       "<td>98927752.44496472</td>\n",
       "<td>98689.28378882883</td>\n",
       "<td>107747.78784716116</td>\n",
       "<td>6339495072.063048</td>\n",
       "<td>8255.502</td> </tr> </tbody>\n",
       "            </table>\n",
       "            \n",
       "            <p>Total: 2</p></div>\n",
       "            "
      ],
      "text/plain": [
       "*segment_id    *decimation_ve *decimation_ra *ver      *process_versi *index    multiplicity   decomposit n_vertices     n_faces     n_not_processe n_error_limbs  n_same_soma_mu n_multi_soma_t n_somas     n_limbs     n_branches     max_limb_n_bra skeletal_lengt max_limb_skele median_branch_ width_median   width_no_spine width_90_perc  width_no_spine n_spines     spine_density  spines_per_bra skeletal_lengt n_spine_eligib spine_density_ spines_per_bra total_spine_vo spine_volume_m spine_volume_d spine_volume_d spine_volume_p run_time     \n",
       "+------------+ +------------+ +------------+ +-------+ +------------+ +-------+ +------------+ +--------+ +------------+ +---------+ +------------+ +------------+ +------------+ +------------+ +---------+ +---------+ +------------+ +------------+ +------------+ +------------+ +------------+ +------------+ +------------+ +------------+ +------------+ +----------+ +------------+ +------------+ +------------+ +------------+ +------------+ +------------+ +------------+ +------------+ +------------+ +------------+ +------------+ +-----------+\n",
       "86469113549088 0              0.25           30.00     0              0         1              =BLOB=     1347566        2685556     0              1              0              1              2           11          651            433            20319746.55778 10836214.54424 20032.079      76.397         76.397         331.736        319.774        2105         0.000103593811 3.233486943164 7020726.017    179            0.000299826541 11.76          258347147437.3 50802762.23184 12714.09299828 36797.78228231 1443280153.281 5975.3818    \n",
       "86469113547465 0              0.25           30.00     0              0         1              =BLOB=     965673         1953444     0              2              1              1              2           17          147            25             8350798.868209 1471003.388695 47491.093      318.264        271.079        531.603        502.564        4782         0.000572639824 32.53061224489 7648735.773    130            0.000625201359 36.785         824134359368.1 98927752.44496 98689.28378882 107747.7878471 6339495072.063 8255.502     \n",
       " (Total: 2)"
      ]
     },
     "execution_count": 10,
     "metadata": {},
     "output_type": "execute_result"
    }
   ],
   "source": [
    "classified_table = minnie.BaylorManualCellType() & 'nucleus_version=3' & \"(cell_type = 'excitatory') or  (cell_type = 'inhibitory')\"\n",
    "key_source = minnie.Decomposition & (minnie.NeuronSplitSuggestions.proj()) & (classified_table.proj()) & \"n_somas<8\"\n",
    "key_source & \"n_multi_soma_touching_limbs>0\"\n"
   ]
  },
  {
   "cell_type": "code",
   "execution_count": 11,
   "metadata": {},
   "outputs": [
    {
     "data": {
      "text/html": [
       "\n",
       "        \n",
       "        <style type=\"text/css\">\n",
       "            .Relation{\n",
       "                border-collapse:collapse;\n",
       "            }\n",
       "            .Relation th{\n",
       "                background: #A0A0A0; color: #ffffff; padding:4px; border:#f0e0e0 1px solid;\n",
       "                font-weight: normal; font-family: monospace; font-size: 100%;\n",
       "            }\n",
       "            .Relation td{\n",
       "                padding:4px; border:#f0e0e0 1px solid; font-size:100%;\n",
       "            }\n",
       "            .Relation tr:nth-child(odd){\n",
       "                background: #ffffff;\n",
       "            }\n",
       "            .Relation tr:nth-child(even){\n",
       "                background: #f3f1ff;\n",
       "            }\n",
       "            /* Tooltip container */\n",
       "            .djtooltip {\n",
       "            }\n",
       "            /* Tooltip text */\n",
       "            .djtooltip .djtooltiptext {\n",
       "                visibility: hidden;\n",
       "                width: 120px;\n",
       "                background-color: black;\n",
       "                color: #fff;\n",
       "                text-align: center;\n",
       "                padding: 5px 0;\n",
       "                border-radius: 6px;\n",
       "                /* Position the tooltip text - see examples below! */\n",
       "                position: absolute;\n",
       "                z-index: 1;\n",
       "            }\n",
       "            #primary {\n",
       "                font-weight: bold;\n",
       "                color: black;\n",
       "            }\n",
       "\n",
       "            #nonprimary {\n",
       "                font-weight: normal;\n",
       "                color: white;\n",
       "            }\n",
       "\n",
       "            /* Show the tooltip text when you mouse over the tooltip container */\n",
       "            .djtooltip:hover .djtooltiptext {\n",
       "                visibility: visible;\n",
       "            }\n",
       "        </style>\n",
       "        \n",
       "        <b></b>\n",
       "            <div style=\"max-height:1000px;max-width:1500px;overflow:auto;\">\n",
       "            <table border=\"1\" class=\"Relation\">\n",
       "                <thead> <tr style=\"text-align: right;\"> <th> <div class=\"djtooltip\">\n",
       "                                <p id=\"primary\">nucleus_id</p>\n",
       "                                <span class=\"djtooltiptext\">id of segmented nucleus</span>\n",
       "                            </div></th><th><div class=\"djtooltip\">\n",
       "                                <p id=\"primary\">nucleus_version</p>\n",
       "                                <span class=\"djtooltiptext\">segmentation version</span>\n",
       "                            </div></th><th><div class=\"djtooltip\">\n",
       "                                <p id=\"primary\">segment_id</p>\n",
       "                                <span class=\"djtooltiptext\">segment_id merged to nucleus</span>\n",
       "                            </div></th><th><div class=\"djtooltip\">\n",
       "                                <p id=\"nonprimary\">cell_type</p>\n",
       "                                <span class=\"djtooltiptext\">morphology (valid options: 'excitatory', 'inhibitory', 'other', 'unknown')</span>\n",
       "                            </div></th><th><div class=\"djtooltip\">\n",
       "                                <p id=\"nonprimary\">classifier</p>\n",
       "                                <span class=\"djtooltiptext\">name of human classifier</span>\n",
       "                            </div></th><th><div class=\"djtooltip\">\n",
       "                                <p id=\"nonprimary\">timestamp</p>\n",
       "                                <span class=\"djtooltiptext\"></span>\n",
       "                            </div> </th> </tr> </thead>\n",
       "                <tbody> <tr> <td>43989</td>\n",
       "<td>3</td>\n",
       "<td>864691135781479503</td>\n",
       "<td>excitatory</td>\n",
       "<td>stelios</td>\n",
       "<td>2020-11-27 03:30:20</td></tr><tr><td>71096</td>\n",
       "<td>3</td>\n",
       "<td>864691135269778085</td>\n",
       "<td>excitatory</td>\n",
       "<td>stelios</td>\n",
       "<td>2020-11-27 03:36:45</td></tr><tr><td>73494</td>\n",
       "<td>3</td>\n",
       "<td>864691135776583776</td>\n",
       "<td>excitatory</td>\n",
       "<td>stelios</td>\n",
       "<td>2020-11-27 03:31:02</td></tr><tr><td>112738</td>\n",
       "<td>3</td>\n",
       "<td>864691136436394654</td>\n",
       "<td>excitatory</td>\n",
       "<td>stelios</td>\n",
       "<td>2020-11-27 04:29:27</td></tr><tr><td>119911</td>\n",
       "<td>3</td>\n",
       "<td>864691136194314572</td>\n",
       "<td>inhibitory</td>\n",
       "<td>stelios</td>\n",
       "<td>2020-11-27 04:15:37</td></tr><tr><td>120370</td>\n",
       "<td>3</td>\n",
       "<td>864691137196926529</td>\n",
       "<td>excitatory</td>\n",
       "<td>stelios</td>\n",
       "<td>2020-11-27 03:34:29</td></tr><tr><td>120382</td>\n",
       "<td>3</td>\n",
       "<td>864691136004721098</td>\n",
       "<td>excitatory</td>\n",
       "<td>stelios</td>\n",
       "<td>2020-11-27 03:08:30</td></tr><tr><td>122708</td>\n",
       "<td>3</td>\n",
       "<td>864691135523678660</td>\n",
       "<td>inhibitory</td>\n",
       "<td>stelios</td>\n",
       "<td>2020-11-27 01:17:49</td></tr><tr><td>123799</td>\n",
       "<td>3</td>\n",
       "<td>864691135725629503</td>\n",
       "<td>excitatory</td>\n",
       "<td>stelios</td>\n",
       "<td>2020-11-27 01:17:49</td></tr><tr><td>132684</td>\n",
       "<td>3</td>\n",
       "<td>864691135337703398</td>\n",
       "<td>excitatory</td>\n",
       "<td>stelios</td>\n",
       "<td>2020-11-27 01:17:49</td></tr><tr><td>133202</td>\n",
       "<td>3</td>\n",
       "<td>864691135581598573</td>\n",
       "<td>excitatory</td>\n",
       "<td>stelios</td>\n",
       "<td>2020-11-27 01:26:51</td></tr><tr><td>153554</td>\n",
       "<td>3</td>\n",
       "<td>864691136008472236</td>\n",
       "<td>excitatory</td>\n",
       "<td>stelios</td>\n",
       "<td>2020-11-27 04:28:55</td> </tr> </tbody>\n",
       "            </table>\n",
       "            <p>...</p>\n",
       "            <p>Total: 266</p></div>\n",
       "            "
      ],
      "text/plain": [
       "*nucleus_id    *nucleus_versi *segment_id    cell_type      classifier     timestamp     \n",
       "+------------+ +------------+ +------------+ +------------+ +------------+ +------------+\n",
       "43989          3              86469113578147 excitatory     stelios        2020-11-27 03:\n",
       "71096          3              86469113526977 excitatory     stelios        2020-11-27 03:\n",
       "73494          3              86469113577658 excitatory     stelios        2020-11-27 03:\n",
       "112738         3              86469113643639 excitatory     stelios        2020-11-27 04:\n",
       "119911         3              86469113619431 inhibitory     stelios        2020-11-27 04:\n",
       "120370         3              86469113719692 excitatory     stelios        2020-11-27 03:\n",
       "120382         3              86469113600472 excitatory     stelios        2020-11-27 03:\n",
       "122708         3              86469113552367 inhibitory     stelios        2020-11-27 01:\n",
       "123799         3              86469113572562 excitatory     stelios        2020-11-27 01:\n",
       "132684         3              86469113533770 excitatory     stelios        2020-11-27 01:\n",
       "133202         3              86469113558159 excitatory     stelios        2020-11-27 01:\n",
       "153554         3              86469113600847 excitatory     stelios        2020-11-27 04:\n",
       "   ...\n",
       " (Total: 266)"
      ]
     },
     "execution_count": 11,
     "metadata": {},
     "output_type": "execute_result"
    }
   ],
   "source": [
    "classified_table"
   ]
  },
  {
   "cell_type": "code",
   "execution_count": 12,
   "metadata": {},
   "outputs": [],
   "source": [
    "import proofreading_utils as pru\n",
    "pru = reload(pru)\n",
    "\n",
    "verbose = True"
   ]
  },
  {
   "cell_type": "code",
   "execution_count": 16,
   "metadata": {},
   "outputs": [
    {
     "name": "stdout",
     "output_type": "stream",
     "text": [
      "Traceback (most recent call last):\n",
      "  File \"/usr/local/lib/python3.6/dist-packages/datajoint/autopopulate.py\", line 159, in populate\n",
      "    make(dict(key))\n",
      "  File \"<ipython-input-33-8922d3cf0196>\", line 119, in make\n",
      "    limb_results=split_results,\n",
      "  File \"/meshAfterParty/proofreading_utils.py\", line 1414, in split_neuron\n",
      "    verbose=verbose)\n",
      "  File \"/meshAfterParty/proofreading_utils.py\", line 1122, in split_neuron_limbs_by_suggestions\n",
      "    verbose=verbose)\n",
      "  File \"/meshAfterParty/proofreading_utils.py\", line 950, in split_neuron_limb_by_seperated_network\n",
      "    raise Exception(f\"There were more not exactly one starting dictinoary: {curr_all_concept_network_data} \")\n",
      "Exception: There were more not exactly one starting dictinoary: [{'starting_soma': 0, 'starting_node': 52, 'starting_endpoints': array([[ 459446., 1018820.,  744838.],\n",
      "       [ 460034., 1020760.,  745755.]]), 'starting_coordinate': array([ 460034., 1020760.,  745755.]), 'touching_soma_vertices': TrackedArray([[ 459935.3, 1020870. ,  746776.8],\n",
      "              [ 460893.8, 1020825. ,  746014.8],\n",
      "              [ 461036.5, 1021092. ,  745491.3],\n",
      "              [ 460853.2, 1020677. ,  746100.9],\n",
      "              [ 460762.2, 1020734. ,  746410. ],\n",
      "              [ 460792.5, 1020842. ,  746565.8],\n",
      "              [ 460094.2, 1020796. ,  746745.9],\n",
      "              [ 460351.5, 1021629. ,  745405.5],\n",
      "              [ 460913. , 1020765. ,  745777.4],\n",
      "              [ 459990.7, 1020729. ,  746590.2],\n",
      "              [ 459640.8, 1020836. ,  746541. ],\n",
      "              [ 460193. , 1021454. ,  745470.6],\n",
      "              [ 459566.5, 1021018. ,  746453.8],\n",
      "              [ 460959.1, 1020946. ,  745591.4],\n",
      "              [ 460429.5, 1021590. ,  745306.5],\n",
      "              [ 459824.4, 1020808. ,  746601.2],\n",
      "              [ 459756.2, 1020884. ,  746678.9],\n",
      "              [ 460926.8, 1021006. ,  745405. ],\n",
      "              [ 460279.7, 1021659. ,  745527.2],\n",
      "              [ 459459. , 1021104. ,  746361. ],\n",
      "              [ 460698. , 1020831. ,  746665.5],\n",
      "              [ 460645.2, 1020697. ,  746519.1],\n",
      "              [ 460872. , 1021255. ,  745204.5],\n",
      "              [ 460702.7, 1021382. ,  745192.9],\n",
      "              [ 460532.2, 1021440. ,  745184.6],\n",
      "              [ 459480. , 1021104. ,  746235. ],\n",
      "              [ 460916.1, 1021109. ,  745307.2],\n",
      "              [ 459629.8, 1021015. ,  746626.9],\n",
      "              [ 460989.3, 1021001. ,  745783.4],\n",
      "              [ 460336.8, 1021438. ,  745205.8],\n",
      "              [ 460041.2, 1021677. ,  745546.2],\n",
      "              [ 460502.2, 1020717. ,  746629.4],\n",
      "              [ 460852.5, 1020821. ,  746216.4],\n",
      "              [ 460280.5, 1020677. ,  746633. ]]), 'soma_group_idx': 0, 'concept_network': <networkx_utils.GraphOrderedEdges object at 0x7f4bc0a75b70>}, {'starting_soma': 0, 'starting_node': 52, 'starting_endpoints': array([[ 459446., 1018820.,  744838.],\n",
      "       [ 460034., 1020760.,  745755.]]), 'starting_coordinate': array([ 460034., 1020760.,  745755.]), 'touching_soma_vertices': TrackedArray([[ 459228. , 1021713. ,  745752. ],\n",
      "              [ 459327.2, 1021814. ,  745649.6],\n",
      "              [ 459343.5, 1021293. ,  746130. ],\n",
      "              [ 459404.1, 1021825. ,  745499.2],\n",
      "              [ 459514.9, 1021812. ,  745544.9],\n",
      "              [ 459249. , 1021744. ,  745615.5],\n",
      "              [ 459249. , 1021776. ,  745626. ],\n",
      "              [ 459322.5, 1021839. ,  745573.5],\n",
      "              [ 459124.7, 1021466. ,  746041.1],\n",
      "              [ 459180.3, 1021619. ,  745846.8],\n",
      "              [ 459158.2, 1021340. ,  746166.9],\n",
      "              [ 459543. , 1021713. ,  745500. ]]), 'soma_group_idx': 1, 'concept_network': <networkx_utils.GraphOrderedEdges object at 0x7f4bc092d908>}] \n",
      "\n"
     ]
    }
   ],
   "source": [
    "curr_table = (minnie.schema.jobs & \"table_name='__decomposition_split'\")\n",
    "print(((curr_table) & \"status='error'\").fetch1(\"error_stack\"))"
   ]
  },
  {
   "cell_type": "code",
   "execution_count": 17,
   "metadata": {},
   "outputs": [
    {
     "name": "stdout",
     "output_type": "stream",
     "text": [
      "{'segment_id': 864691136020315128, 'decimation_version': 0, 'decimation_ratio': Decimal('0.25'), 'ver': Decimal('30.00'), 'process_version': 2, 'index': 0}\n"
     ]
    }
   ],
   "source": [
    "curr_table = (minnie.schema.jobs & \"table_name='__decomposition_split'\")\n",
    "print(((curr_table) & \"status='error'\").fetch1(\"key\"))"
   ]
  },
  {
   "cell_type": "markdown",
   "metadata": {},
   "source": [
    "# Testing out the procedure"
   ]
  },
  {
   "cell_type": "code",
   "execution_count": 50,
   "metadata": {},
   "outputs": [
    {
     "name": "stdout",
     "output_type": "stream",
     "text": [
      "\n",
      "\n",
      "\n",
      "---- Working on Neuron 864691136020315128 ----\n"
     ]
    },
    {
     "data": {
      "text/plain": [
       "{'segment_id': 864691136020315128,\n",
       " 'decimation_version': 0,\n",
       " 'decimation_ratio': Decimal('0.25'),\n",
       " 'ver': Decimal('30.00'),\n",
       " 'process_version': 2,\n",
       " 'index': 0}"
      ]
     },
     "execution_count": 50,
     "metadata": {},
     "output_type": "execute_result"
    }
   ],
   "source": [
    "key = (minnie.Decomposition() & \"segment_id=864691136020315128\").proj().fetch1()\n",
    "\n",
    "# 1) Get the segment id from the key\n",
    "segment_id = key[\"segment_id\"]\n",
    "print(f\"\\n\\n\\n---- Working on Neuron {key['segment_id']} ----\")\n",
    "key\n",
    "\n",
    "\n",
    "\n",
    "# 6) For each neuron object in the list:\n",
    "# - get the number of errored limbs (to indicate the success type)\n",
    "# - Change the description to include the multiplicity\n",
    "# - Compute the information on the largest soma faces and volume\n",
    "# - Save the neuron object to the external\n",
    "# - Add the new write key to a list to commit \n",
    "# 7) Write all of the keys "
   ]
  },
  {
   "cell_type": "code",
   "execution_count": 71,
   "metadata": {},
   "outputs": [
    {
     "name": "stdout",
     "output_type": "stream",
     "text": [
      "Decompressing Neuron in minimal output mode...please wait\n"
     ]
    }
   ],
   "source": [
    "# 2) Get the decomposed neuron object from Decomposition table and the split suggestions\n",
    "neuron_obj = (minnie.Decomposition & key).fetch1(\"decomposition\")"
   ]
  },
  {
   "cell_type": "code",
   "execution_count": 52,
   "metadata": {},
   "outputs": [
    {
     "data": {
      "text/html": [
       "\n",
       "        \n",
       "        <style type=\"text/css\">\n",
       "            .Relation{\n",
       "                border-collapse:collapse;\n",
       "            }\n",
       "            .Relation th{\n",
       "                background: #A0A0A0; color: #ffffff; padding:4px; border:#f0e0e0 1px solid;\n",
       "                font-weight: normal; font-family: monospace; font-size: 100%;\n",
       "            }\n",
       "            .Relation td{\n",
       "                padding:4px; border:#f0e0e0 1px solid; font-size:100%;\n",
       "            }\n",
       "            .Relation tr:nth-child(odd){\n",
       "                background: #ffffff;\n",
       "            }\n",
       "            .Relation tr:nth-child(even){\n",
       "                background: #f3f1ff;\n",
       "            }\n",
       "            /* Tooltip container */\n",
       "            .djtooltip {\n",
       "            }\n",
       "            /* Tooltip text */\n",
       "            .djtooltip .djtooltiptext {\n",
       "                visibility: hidden;\n",
       "                width: 120px;\n",
       "                background-color: black;\n",
       "                color: #fff;\n",
       "                text-align: center;\n",
       "                padding: 5px 0;\n",
       "                border-radius: 6px;\n",
       "                /* Position the tooltip text - see examples below! */\n",
       "                position: absolute;\n",
       "                z-index: 1;\n",
       "            }\n",
       "            #primary {\n",
       "                font-weight: bold;\n",
       "                color: black;\n",
       "            }\n",
       "\n",
       "            #nonprimary {\n",
       "                font-weight: normal;\n",
       "                color: white;\n",
       "            }\n",
       "\n",
       "            /* Show the tooltip text when you mouse over the tooltip container */\n",
       "            .djtooltip:hover .djtooltiptext {\n",
       "                visibility: visible;\n",
       "            }\n",
       "        </style>\n",
       "        \n",
       "        <b></b>\n",
       "            <div style=\"max-height:1000px;max-width:1500px;overflow:auto;\">\n",
       "            <table border=\"1\" class=\"Relation\">\n",
       "                <thead> <tr style=\"text-align: right;\"> <th> <div class=\"djtooltip\">\n",
       "                                <p id=\"primary\">nucleus_id</p>\n",
       "                                <span class=\"djtooltiptext\">id of segmented nucleus</span>\n",
       "                            </div></th><th><div class=\"djtooltip\">\n",
       "                                <p id=\"primary\">nucleus_version</p>\n",
       "                                <span class=\"djtooltiptext\">segmentation version</span>\n",
       "                            </div></th><th><div class=\"djtooltip\">\n",
       "                                <p id=\"primary\">segment_id</p>\n",
       "                                <span class=\"djtooltiptext\">segment_id merged to nucleus</span>\n",
       "                            </div></th><th><div class=\"djtooltip\">\n",
       "                                <p id=\"nonprimary\">cell_type</p>\n",
       "                                <span class=\"djtooltiptext\">morphology (valid options: 'excitatory', 'inhibitory', 'other', 'unknown')</span>\n",
       "                            </div></th><th><div class=\"djtooltip\">\n",
       "                                <p id=\"nonprimary\">classifier</p>\n",
       "                                <span class=\"djtooltiptext\">name of human classifier</span>\n",
       "                            </div></th><th><div class=\"djtooltip\">\n",
       "                                <p id=\"nonprimary\">timestamp</p>\n",
       "                                <span class=\"djtooltiptext\"></span>\n",
       "                            </div> </th> </tr> </thead>\n",
       "                <tbody> <tr> <td>171640</td>\n",
       "<td>3</td>\n",
       "<td>864691136020315128</td>\n",
       "<td>excitatory</td>\n",
       "<td>stelios</td>\n",
       "<td>2020-11-27 01:17:49</td> </tr> </tbody>\n",
       "            </table>\n",
       "            \n",
       "            <p>Total: 1</p></div>\n",
       "            "
      ],
      "text/plain": [
       "*nucleus_id    *nucleus_versi *segment_id    cell_type      classifier     timestamp     \n",
       "+------------+ +------------+ +------------+ +------------+ +------------+ +------------+\n",
       "171640         3              86469113602031 excitatory     stelios        2020-11-27 01:\n",
       " (Total: 1)"
      ]
     },
     "execution_count": 52,
     "metadata": {},
     "output_type": "execute_result"
    }
   ],
   "source": [
    "classified_table & \"segment_id=864691136020315128\""
   ]
  },
  {
   "cell_type": "code",
   "execution_count": 20,
   "metadata": {},
   "outputs": [
    {
     "name": "stdout",
     "output_type": "stream",
     "text": [
      "\n",
      " Working on visualization type: mesh\n",
      "\n",
      " Working on visualization type: skeleton\n"
     ]
    },
    {
     "data": {
      "application/vnd.jupyter.widget-view+json": {
       "model_id": "6dfb4c6138604628aebaa75609ff9e57",
       "version_major": 2,
       "version_minor": 0
      },
      "text/plain": [
       "VBox(children=(Figure(camera=PerspectiveCamera(fov=46.0, position=(0.0, 0.0, 2.0), quaternion=(0.0, 0.0, 0.0, …"
      ]
     },
     "metadata": {},
     "output_type": "display_data"
    }
   ],
   "source": [
    "nviz.visualize_neuron(neuron_obj,\n",
    "                     limb_branch_dict=\"all\")"
   ]
  },
  {
   "cell_type": "code",
   "execution_count": 53,
   "metadata": {},
   "outputs": [
    {
     "data": {
      "text/plain": [
       "[{'starting_soma': 0,\n",
       "  'starting_node': 52,\n",
       "  'starting_endpoints': array([[ 459446., 1018820.,  744838.],\n",
       "         [ 460034., 1020760.,  745755.]]),\n",
       "  'starting_coordinate': array([ 460034., 1020760.,  745755.]),\n",
       "  'touching_soma_vertices': TrackedArray([[ 459935.3, 1020870. ,  746776.8],\n",
       "                [ 460893.8, 1020825. ,  746014.8],\n",
       "                [ 461036.5, 1021092. ,  745491.3],\n",
       "                [ 460853.2, 1020677. ,  746100.9],\n",
       "                [ 460762.2, 1020734. ,  746410. ],\n",
       "                [ 460792.5, 1020842. ,  746565.8],\n",
       "                [ 460094.2, 1020796. ,  746745.9],\n",
       "                [ 460351.5, 1021629. ,  745405.5],\n",
       "                [ 460913. , 1020765. ,  745777.4],\n",
       "                [ 459990.7, 1020729. ,  746590.2],\n",
       "                [ 459640.8, 1020836. ,  746541. ],\n",
       "                [ 460193. , 1021454. ,  745470.6],\n",
       "                [ 459566.5, 1021018. ,  746453.8],\n",
       "                [ 460959.1, 1020946. ,  745591.4],\n",
       "                [ 460429.5, 1021590. ,  745306.5],\n",
       "                [ 459824.4, 1020808. ,  746601.2],\n",
       "                [ 459756.2, 1020884. ,  746678.9],\n",
       "                [ 460926.8, 1021006. ,  745405. ],\n",
       "                [ 460279.7, 1021659. ,  745527.2],\n",
       "                [ 459459. , 1021104. ,  746361. ],\n",
       "                [ 460698. , 1020831. ,  746665.5],\n",
       "                [ 460645.2, 1020697. ,  746519.1],\n",
       "                [ 460872. , 1021255. ,  745204.5],\n",
       "                [ 460702.7, 1021382. ,  745192.9],\n",
       "                [ 460532.2, 1021440. ,  745184.6],\n",
       "                [ 459480. , 1021104. ,  746235. ],\n",
       "                [ 460916.1, 1021109. ,  745307.2],\n",
       "                [ 459629.8, 1021015. ,  746626.9],\n",
       "                [ 460989.3, 1021001. ,  745783.4],\n",
       "                [ 460336.8, 1021438. ,  745205.8],\n",
       "                [ 460041.2, 1021677. ,  745546.2],\n",
       "                [ 460502.2, 1020717. ,  746629.4],\n",
       "                [ 460852.5, 1020821. ,  746216.4],\n",
       "                [ 460280.5, 1020677. ,  746633. ]]),\n",
       "  'soma_group_idx': 0,\n",
       "  'concept_network': <networkx_utils.GraphOrderedEdges at 0x7fcb4fde1208>},\n",
       " {'starting_soma': 0,\n",
       "  'starting_node': 52,\n",
       "  'starting_endpoints': array([[ 459446., 1018820.,  744838.],\n",
       "         [ 460034., 1020760.,  745755.]]),\n",
       "  'starting_coordinate': array([ 460034., 1020760.,  745755.]),\n",
       "  'touching_soma_vertices': TrackedArray([[ 459228. , 1021713. ,  745752. ],\n",
       "                [ 459327.2, 1021814. ,  745649.6],\n",
       "                [ 459343.5, 1021293. ,  746130. ],\n",
       "                [ 459404.1, 1021825. ,  745499.2],\n",
       "                [ 459514.9, 1021812. ,  745544.9],\n",
       "                [ 459249. , 1021744. ,  745615.5],\n",
       "                [ 459249. , 1021776. ,  745626. ],\n",
       "                [ 459322.5, 1021839. ,  745573.5],\n",
       "                [ 459124.7, 1021466. ,  746041.1],\n",
       "                [ 459180.3, 1021619. ,  745846.8],\n",
       "                [ 459158.2, 1021340. ,  746166.9],\n",
       "                [ 459543. , 1021713. ,  745500. ]]),\n",
       "  'soma_group_idx': 1,\n",
       "  'concept_network': <networkx_utils.GraphOrderedEdges at 0x7fcb4fde1518>}]"
      ]
     },
     "execution_count": 53,
     "metadata": {},
     "output_type": "execute_result"
    }
   ],
   "source": [
    "neuron_obj[0].all_concept_network_data"
   ]
  },
  {
   "cell_type": "code",
   "execution_count": 54,
   "metadata": {},
   "outputs": [
    {
     "data": {
      "text/plain": [
       "[{'starting_soma': 0,\n",
       "  'starting_node': 27,\n",
       "  'starting_endpoints': array([[ 466830.07037037, 1032170.51851852,  755336.71851852],\n",
       "         [ 469868.22660451, 1033749.13478084,  757196.29511943]]),\n",
       "  'starting_coordinate': array([ 466830.07037037, 1032170.51851852,  755336.71851852]),\n",
       "  'touching_soma_vertices': TrackedArray([[ 467335.4, 1031709. ,  755126.1],\n",
       "                [ 466550.8, 1032402. ,  754926.5],\n",
       "                [ 466894.1, 1032086. ,  755947.6],\n",
       "                [ 466683. , 1032486. ,  755748. ],\n",
       "                [ 467234.2, 1031866. ,  754771.5],\n",
       "                [ 467211.6, 1031681. ,  755385.1],\n",
       "                [ 466977. , 1032024. ,  755874. ],\n",
       "                [ 466450.5, 1032508. ,  755107.1],\n",
       "                [ 466689.5, 1032269. ,  754817.9],\n",
       "                [ 466528.9, 1032507. ,  755224.7],\n",
       "                [ 466599. , 1032444. ,  755748. ],\n",
       "                [ 466546.5, 1032434. ,  755674.5],\n",
       "                [ 467128.4, 1031946. ,  755738.6],\n",
       "                [ 467239.8, 1031717. ,  754945.6],\n",
       "                [ 466263. , 1032486. ,  755223. ],\n",
       "                [ 466391.9, 1032425. ,  754935.5],\n",
       "                [ 467197.5, 1031636. ,  755128.5],\n",
       "                [ 467328.8, 1031722. ,  755377.9],\n",
       "                [ 466872. , 1032234. ,  754761. ],\n",
       "                [ 467168.7, 1031848. ,  755591.6],\n",
       "                [ 466388.2, 1032519. ,  755433.5],\n",
       "                [ 466530.8, 1032549. ,  755485.5],\n",
       "                [ 466676.6, 1032396. ,  755815.2],\n",
       "                [ 467032.3, 1032107. ,  754756.6],\n",
       "                [ 466914. , 1032150. ,  754740. ],\n",
       "                [ 466862.6, 1032208. ,  755956.2],\n",
       "                [ 466716.8, 1032245. ,  755851.7]]),\n",
       "  'soma_group_idx': 0,\n",
       "  'concept_network': <networkx_utils.GraphOrderedEdges at 0x7fcb4fde14e0>}]"
      ]
     },
     "execution_count": 54,
     "metadata": {},
     "output_type": "execute_result"
    }
   ],
   "source": [
    "neuron_obj[1].all_concept_network_data"
   ]
  },
  {
   "cell_type": "code",
   "execution_count": 55,
   "metadata": {},
   "outputs": [
    {
     "data": {
      "text/plain": [
       "[{'starting_soma': 0,\n",
       "  'starting_node': 6,\n",
       "  'starting_endpoints': array([[ 451977.        , 1025790.        ,  756673.        ],\n",
       "         [ 452739.78275862, 1025987.4137931 ,  756100.84827586]]),\n",
       "  'starting_coordinate': array([ 452739.78275862, 1025987.4137931 ,  756100.84827586]),\n",
       "  'touching_soma_vertices': TrackedArray([[ 452863.1, 1026342. ,  756625.5],\n",
       "                [ 452488.3, 1026026. ,  755647.2],\n",
       "                [ 453061.8, 1025641. ,  756267.9],\n",
       "                [ 453193.6, 1026012. ,  756544.8],\n",
       "                [ 453180. , 1025787. ,  756393.8],\n",
       "                [ 452518.5, 1026249. ,  756073.5],\n",
       "                [ 452587.2, 1025518. ,  755591.1],\n",
       "                [ 452580.6, 1025658. ,  755408.6],\n",
       "                [ 452590.6, 1026128. ,  755797.9],\n",
       "                [ 453274.5, 1025887. ,  756451.5],\n",
       "                [ 453012. , 1025451. ,  756105. ],\n",
       "                [ 452729.1, 1025391. ,  755598.1],\n",
       "                [ 452886.8, 1025350. ,  756057.2],\n",
       "                [ 452613. , 1026585. ,  756577.5],\n",
       "                [ 452949. , 1025514. ,  756189. ],\n",
       "                [ 452697.4, 1026362. ,  755823.9],\n",
       "                [ 452500.3, 1025840. ,  755427.5],\n",
       "                [ 452527.8, 1026410. ,  756189.1],\n",
       "                [ 452426. , 1025680. ,  755577. ],\n",
       "                [ 452501.6, 1026445. ,  756428.9],\n",
       "                [ 452462.5, 1025940. ,  755591. ],\n",
       "                [ 452560.5, 1026532. ,  756483. ],\n",
       "                [ 452732. , 1026356. ,  756772.8],\n",
       "                [ 452907.4, 1026215. ,  756675.7],\n",
       "                [ 452553.1, 1026433. ,  756652.4],\n",
       "                [ 452633.7, 1026017. ,  755584.1],\n",
       "                [ 453035.8, 1026116. ,  756621.8],\n",
       "                [ 452807.8, 1025388. ,  755827. ],\n",
       "                [ 452579.7, 1026362. ,  755941.8]]),\n",
       "  'soma_group_idx': 0,\n",
       "  'concept_network': <networkx_utils.GraphOrderedEdges at 0x7fcb4fde16a0>}]"
      ]
     },
     "execution_count": 55,
     "metadata": {},
     "output_type": "execute_result"
    }
   ],
   "source": [
    "neuron_obj[2].all_concept_network_data"
   ]
  },
  {
   "cell_type": "code",
   "execution_count": 56,
   "metadata": {},
   "outputs": [
    {
     "data": {
      "text/plain": [
       "[{'starting_soma': 0,\n",
       "  'starting_node': 4,\n",
       "  'starting_endpoints': array([[ 466539., 1029820.,  748191.],\n",
       "         [ 487288., 1029140.,  734362.]]),\n",
       "  'starting_coordinate': array([ 466539., 1029820.,  748191.]),\n",
       "  'touching_soma_vertices': TrackedArray([[ 466387.1, 1029446. ,  748323.5],\n",
       "                [ 465986.9, 1029331. ,  748249.4],\n",
       "                [ 465995.2, 1029604. ,  747957. ],\n",
       "                [ 466472.9, 1029579. ,  748665.6],\n",
       "                [ 466533.4, 1029734. ,  748691.6],\n",
       "                [ 466262.9, 1029446. ,  748176.2],\n",
       "                [ 466096.8, 1029991. ,  748287.1],\n",
       "                [ 466021.8, 1029765. ,  747919.9],\n",
       "                [ 466378.6, 1030009. ,  748465.4],\n",
       "                [ 466152.8, 1029944. ,  748073.2],\n",
       "                [ 466421.2, 1029444. ,  748447.1],\n",
       "                [ 466316. , 1029468. ,  748628. ],\n",
       "                [ 466340.4, 1030034. ,  748179.8],\n",
       "                [ 466207.2, 1030011. ,  748360.8],\n",
       "                [ 466197. , 1029388. ,  748355.9],\n",
       "                [ 466506.9, 1029479. ,  748516.6],\n",
       "                [ 466194.6, 1029420. ,  748093.4],\n",
       "                [ 466389.3, 1029934. ,  748649.6],\n",
       "                [ 465949.9, 1029504. ,  748007.5],\n",
       "                [ 466021.5, 1029882. ,  748041. ],\n",
       "                [ 466260.1, 1029378. ,  748491.1]]),\n",
       "  'soma_group_idx': 0,\n",
       "  'concept_network': <networkx_utils.GraphOrderedEdges at 0x7fcb4fde1d30>}]"
      ]
     },
     "execution_count": 56,
     "metadata": {},
     "output_type": "execute_result"
    }
   ],
   "source": [
    "neuron_obj[3].all_concept_network_data"
   ]
  },
  {
   "cell_type": "code",
   "execution_count": 73,
   "metadata": {},
   "outputs": [],
   "source": [
    "nru = reload(nru)\n",
    "nru.clean_neuron_all_concept_network_data(neuron_obj,verbose=False)"
   ]
  },
  {
   "cell_type": "code",
   "execution_count": 74,
   "metadata": {},
   "outputs": [
    {
     "data": {
      "text/plain": [
       "[{'starting_soma': 0,\n",
       "  'starting_node': 52,\n",
       "  'starting_endpoints': array([[ 459446., 1018820.,  744838.],\n",
       "         [ 460034., 1020760.,  745755.]]),\n",
       "  'starting_coordinate': array([ 460034., 1020760.,  745755.]),\n",
       "  'touching_soma_vertices': TrackedArray([[ 459935.3, 1020870. ,  746776.8],\n",
       "                [ 460893.8, 1020825. ,  746014.8],\n",
       "                [ 461036.5, 1021092. ,  745491.3],\n",
       "                [ 460853.2, 1020677. ,  746100.9],\n",
       "                [ 460762.2, 1020734. ,  746410. ],\n",
       "                [ 460792.5, 1020842. ,  746565.8],\n",
       "                [ 460094.2, 1020796. ,  746745.9],\n",
       "                [ 460351.5, 1021629. ,  745405.5],\n",
       "                [ 460913. , 1020765. ,  745777.4],\n",
       "                [ 459990.7, 1020729. ,  746590.2],\n",
       "                [ 459640.8, 1020836. ,  746541. ],\n",
       "                [ 460193. , 1021454. ,  745470.6],\n",
       "                [ 459566.5, 1021018. ,  746453.8],\n",
       "                [ 460959.1, 1020946. ,  745591.4],\n",
       "                [ 460429.5, 1021590. ,  745306.5],\n",
       "                [ 459824.4, 1020808. ,  746601.2],\n",
       "                [ 459756.2, 1020884. ,  746678.9],\n",
       "                [ 460926.8, 1021006. ,  745405. ],\n",
       "                [ 460279.7, 1021659. ,  745527.2],\n",
       "                [ 459459. , 1021104. ,  746361. ],\n",
       "                [ 460698. , 1020831. ,  746665.5],\n",
       "                [ 460645.2, 1020697. ,  746519.1],\n",
       "                [ 460872. , 1021255. ,  745204.5],\n",
       "                [ 460702.7, 1021382. ,  745192.9],\n",
       "                [ 460532.2, 1021440. ,  745184.6],\n",
       "                [ 459480. , 1021104. ,  746235. ],\n",
       "                [ 460916.1, 1021109. ,  745307.2],\n",
       "                [ 459629.8, 1021015. ,  746626.9],\n",
       "                [ 460989.3, 1021001. ,  745783.4],\n",
       "                [ 460336.8, 1021438. ,  745205.8],\n",
       "                [ 460041.2, 1021677. ,  745546.2],\n",
       "                [ 460502.2, 1020717. ,  746629.4],\n",
       "                [ 460852.5, 1020821. ,  746216.4],\n",
       "                [ 460280.5, 1020677. ,  746633. ]]),\n",
       "  'soma_group_idx': 0,\n",
       "  'concept_network': <networkx_utils.GraphOrderedEdges at 0x7fcb4f5c8e80>}]"
      ]
     },
     "execution_count": 74,
     "metadata": {},
     "output_type": "execute_result"
    }
   ],
   "source": [
    "neuron_obj[0].all_concept_network_data"
   ]
  },
  {
   "cell_type": "code",
   "execution_count": null,
   "metadata": {},
   "outputs": [],
   "source": []
  },
  {
   "cell_type": "code",
   "execution_count": null,
   "metadata": {},
   "outputs": [],
   "source": []
  },
  {
   "cell_type": "code",
   "execution_count": null,
   "metadata": {},
   "outputs": [],
   "source": []
  },
  {
   "cell_type": "code",
   "execution_count": null,
   "metadata": {},
   "outputs": [],
   "source": []
  },
  {
   "cell_type": "code",
   "execution_count": null,
   "metadata": {},
   "outputs": [],
   "source": []
  },
  {
   "cell_type": "code",
   "execution_count": 42,
   "metadata": {},
   "outputs": [],
   "source": [
    "curr_limb.all_concept_network_data = nru.clean_all_concept_network_data(curr_limb.all_concept_network_data)\n",
    "curr_limb.set_concept_network_directional?"
   ]
  },
  {
   "cell_type": "code",
   "execution_count": 30,
   "metadata": {},
   "outputs": [
    {
     "data": {
      "text/plain": [
       "{0: {0: {0: {'touching_verts': TrackedArray([[ 459935.3, 1020870. ,  746776.8],\n",
       "                  [ 460893.8, 1020825. ,  746014.8],\n",
       "                  [ 461036.5, 1021092. ,  745491.3],\n",
       "                  [ 460853.2, 1020677. ,  746100.9],\n",
       "                  [ 460762.2, 1020734. ,  746410. ],\n",
       "                  [ 460792.5, 1020842. ,  746565.8],\n",
       "                  [ 460094.2, 1020796. ,  746745.9],\n",
       "                  [ 460351.5, 1021629. ,  745405.5],\n",
       "                  [ 460913. , 1020765. ,  745777.4],\n",
       "                  [ 459990.7, 1020729. ,  746590.2],\n",
       "                  [ 459640.8, 1020836. ,  746541. ],\n",
       "                  [ 460193. , 1021454. ,  745470.6],\n",
       "                  [ 459566.5, 1021018. ,  746453.8],\n",
       "                  [ 460959.1, 1020946. ,  745591.4],\n",
       "                  [ 460429.5, 1021590. ,  745306.5],\n",
       "                  [ 459824.4, 1020808. ,  746601.2],\n",
       "                  [ 459756.2, 1020884. ,  746678.9],\n",
       "                  [ 460926.8, 1021006. ,  745405. ],\n",
       "                  [ 460279.7, 1021659. ,  745527.2],\n",
       "                  [ 459459. , 1021104. ,  746361. ],\n",
       "                  [ 460698. , 1020831. ,  746665.5],\n",
       "                  [ 460645.2, 1020697. ,  746519.1],\n",
       "                  [ 460872. , 1021255. ,  745204.5],\n",
       "                  [ 460702.7, 1021382. ,  745192.9],\n",
       "                  [ 460532.2, 1021440. ,  745184.6],\n",
       "                  [ 459480. , 1021104. ,  746235. ],\n",
       "                  [ 460916.1, 1021109. ,  745307.2],\n",
       "                  [ 459629.8, 1021015. ,  746626.9],\n",
       "                  [ 460989.3, 1021001. ,  745783.4],\n",
       "                  [ 460336.8, 1021438. ,  745205.8],\n",
       "                  [ 460041.2, 1021677. ,  745546.2],\n",
       "                  [ 460502.2, 1020717. ,  746629.4],\n",
       "                  [ 460852.5, 1020821. ,  746216.4],\n",
       "                  [ 460280.5, 1020677. ,  746633. ]]),\n",
       "    'endpoint': array([ 460034., 1020760.,  745755.])},\n",
       "   1: {'touching_verts': TrackedArray([[ 459228. , 1021713. ,  745752. ],\n",
       "                  [ 459327.2, 1021814. ,  745649.6],\n",
       "                  [ 459343.5, 1021293. ,  746130. ],\n",
       "                  [ 459404.1, 1021825. ,  745499.2],\n",
       "                  [ 459514.9, 1021812. ,  745544.9],\n",
       "                  [ 459249. , 1021744. ,  745615.5],\n",
       "                  [ 459249. , 1021776. ,  745626. ],\n",
       "                  [ 459322.5, 1021839. ,  745573.5],\n",
       "                  [ 459124.7, 1021466. ,  746041.1],\n",
       "                  [ 459180.3, 1021619. ,  745846.8],\n",
       "                  [ 459158.2, 1021340. ,  746166.9],\n",
       "                  [ 459543. , 1021713. ,  745500. ]]),\n",
       "    'endpoint': array([ 460034., 1020760.,  745755.])}}},\n",
       " 1: {0: {0: {'touching_verts': TrackedArray([[ 467335.4, 1031709. ,  755126.1],\n",
       "                  [ 466550.8, 1032402. ,  754926.5],\n",
       "                  [ 466894.1, 1032086. ,  755947.6],\n",
       "                  [ 466683. , 1032486. ,  755748. ],\n",
       "                  [ 467234.2, 1031866. ,  754771.5],\n",
       "                  [ 467211.6, 1031681. ,  755385.1],\n",
       "                  [ 466977. , 1032024. ,  755874. ],\n",
       "                  [ 466450.5, 1032508. ,  755107.1],\n",
       "                  [ 466689.5, 1032269. ,  754817.9],\n",
       "                  [ 466528.9, 1032507. ,  755224.7],\n",
       "                  [ 466599. , 1032444. ,  755748. ],\n",
       "                  [ 466546.5, 1032434. ,  755674.5],\n",
       "                  [ 467128.4, 1031946. ,  755738.6],\n",
       "                  [ 467239.8, 1031717. ,  754945.6],\n",
       "                  [ 466263. , 1032486. ,  755223. ],\n",
       "                  [ 466391.9, 1032425. ,  754935.5],\n",
       "                  [ 467197.5, 1031636. ,  755128.5],\n",
       "                  [ 467328.8, 1031722. ,  755377.9],\n",
       "                  [ 466872. , 1032234. ,  754761. ],\n",
       "                  [ 467168.7, 1031848. ,  755591.6],\n",
       "                  [ 466388.2, 1032519. ,  755433.5],\n",
       "                  [ 466530.8, 1032549. ,  755485.5],\n",
       "                  [ 466676.6, 1032396. ,  755815.2],\n",
       "                  [ 467032.3, 1032107. ,  754756.6],\n",
       "                  [ 466914. , 1032150. ,  754740. ],\n",
       "                  [ 466862.6, 1032208. ,  755956.2],\n",
       "                  [ 466716.8, 1032245. ,  755851.7]]),\n",
       "    'endpoint': array([ 466830.07037037, 1032170.51851852,  755336.71851852])}}},\n",
       " 2: {0: {0: {'touching_verts': TrackedArray([[ 452863.1, 1026342. ,  756625.5],\n",
       "                  [ 452488.3, 1026026. ,  755647.2],\n",
       "                  [ 453061.8, 1025641. ,  756267.9],\n",
       "                  [ 453193.6, 1026012. ,  756544.8],\n",
       "                  [ 453180. , 1025787. ,  756393.8],\n",
       "                  [ 452518.5, 1026249. ,  756073.5],\n",
       "                  [ 452587.2, 1025518. ,  755591.1],\n",
       "                  [ 452580.6, 1025658. ,  755408.6],\n",
       "                  [ 452590.6, 1026128. ,  755797.9],\n",
       "                  [ 453274.5, 1025887. ,  756451.5],\n",
       "                  [ 453012. , 1025451. ,  756105. ],\n",
       "                  [ 452729.1, 1025391. ,  755598.1],\n",
       "                  [ 452886.8, 1025350. ,  756057.2],\n",
       "                  [ 452613. , 1026585. ,  756577.5],\n",
       "                  [ 452949. , 1025514. ,  756189. ],\n",
       "                  [ 452697.4, 1026362. ,  755823.9],\n",
       "                  [ 452500.3, 1025840. ,  755427.5],\n",
       "                  [ 452527.8, 1026410. ,  756189.1],\n",
       "                  [ 452426. , 1025680. ,  755577. ],\n",
       "                  [ 452501.6, 1026445. ,  756428.9],\n",
       "                  [ 452462.5, 1025940. ,  755591. ],\n",
       "                  [ 452560.5, 1026532. ,  756483. ],\n",
       "                  [ 452732. , 1026356. ,  756772.8],\n",
       "                  [ 452907.4, 1026215. ,  756675.7],\n",
       "                  [ 452553.1, 1026433. ,  756652.4],\n",
       "                  [ 452633.7, 1026017. ,  755584.1],\n",
       "                  [ 453035.8, 1026116. ,  756621.8],\n",
       "                  [ 452807.8, 1025388. ,  755827. ],\n",
       "                  [ 452579.7, 1026362. ,  755941.8]]),\n",
       "    'endpoint': array([ 452739.78275862, 1025987.4137931 ,  756100.84827586])}}},\n",
       " 3: {0: {0: {'touching_verts': TrackedArray([[ 466387.1, 1029446. ,  748323.5],\n",
       "                  [ 465986.9, 1029331. ,  748249.4],\n",
       "                  [ 465995.2, 1029604. ,  747957. ],\n",
       "                  [ 466472.9, 1029579. ,  748665.6],\n",
       "                  [ 466533.4, 1029734. ,  748691.6],\n",
       "                  [ 466262.9, 1029446. ,  748176.2],\n",
       "                  [ 466096.8, 1029991. ,  748287.1],\n",
       "                  [ 466021.8, 1029765. ,  747919.9],\n",
       "                  [ 466378.6, 1030009. ,  748465.4],\n",
       "                  [ 466152.8, 1029944. ,  748073.2],\n",
       "                  [ 466421.2, 1029444. ,  748447.1],\n",
       "                  [ 466316. , 1029468. ,  748628. ],\n",
       "                  [ 466340.4, 1030034. ,  748179.8],\n",
       "                  [ 466207.2, 1030011. ,  748360.8],\n",
       "                  [ 466197. , 1029388. ,  748355.9],\n",
       "                  [ 466506.9, 1029479. ,  748516.6],\n",
       "                  [ 466194.6, 1029420. ,  748093.4],\n",
       "                  [ 466389.3, 1029934. ,  748649.6],\n",
       "                  [ 465949.9, 1029504. ,  748007.5],\n",
       "                  [ 466021.5, 1029882. ,  748041. ],\n",
       "                  [ 466260.1, 1029378. ,  748491.1]]),\n",
       "    'endpoint': array([ 466539., 1029820.,  748191.])}}},\n",
       " 4: {0: {0: {'touching_verts': TrackedArray([[ 455452.3, 1031826. ,  758319.4],\n",
       "                  [ 455134.8, 1031603. ,  757941. ],\n",
       "                  [ 455495.2, 1032370. ,  758373. ],\n",
       "                  [ 455364.5, 1032433. ,  758140.7],\n",
       "                  [ 455028. , 1031846. ,  757596. ],\n",
       "                  [ 455359.5, 1032238. ,  757885.9],\n",
       "                  [ 455172.7, 1032121. ,  757829.3],\n",
       "                  [ 455165.7, 1031666. ,  757765.6],\n",
       "                  [ 455424.6, 1031701. ,  758208.2],\n",
       "                  [ 455041.1, 1031711. ,  757633.5],\n",
       "                  [ 455087.5, 1031975. ,  757674.9],\n",
       "                  [ 455289.1, 1032321. ,  758025.3],\n",
       "                  [ 455406. , 1031972. ,  758352. ],\n",
       "                  [ 455448. , 1032066. ,  758415. ],\n",
       "                  [ 455353.5, 1032538. ,  758247. ],\n",
       "                  [ 455427. , 1032381. ,  758415. ],\n",
       "                  [ 455298.7, 1031684. ,  758043. ]]),\n",
       "    'endpoint': array([ 455291.07058824, 1032026.58823529,  758050.87058824])}}}}"
      ]
     },
     "execution_count": 30,
     "metadata": {},
     "output_type": "execute_result"
    }
   ],
   "source": [
    "neuron_obj.preprocessed_data[\"limb_network_stating_info\"]"
   ]
  },
  {
   "cell_type": "code",
   "execution_count": 28,
   "metadata": {},
   "outputs": [
    {
     "data": {
      "text/plain": [
       "{0: {0: [<networkx_utils.GraphOrderedEdges at 0x7fcb44641940>,\n",
       "   <networkx_utils.GraphOrderedEdges at 0x7fcb598c5550>]},\n",
       " 1: {0: [<networkx_utils.GraphOrderedEdges at 0x7fcb598c5438>]},\n",
       " 2: {0: [<networkx_utils.GraphOrderedEdges at 0x7fcb598c55f8>]},\n",
       " 3: {0: [<networkx_utils.GraphOrderedEdges at 0x7fcb598c5630>]},\n",
       " 4: {0: [<networkx_utils.GraphOrderedEdges at 0x7fcb598c55c0>]}}"
      ]
     },
     "execution_count": 28,
     "metadata": {},
     "output_type": "execute_result"
    }
   ],
   "source": [
    "neuron_obj.preprocessed_data[\"limb_concept_networks\"]"
   ]
  },
  {
   "cell_type": "code",
   "execution_count": 32,
   "metadata": {},
   "outputs": [
    {
     "data": {
      "text/plain": [
       "dict_keys(['starting_soma', 'starting_node', 'starting_endpoints', 'starting_coordinate', 'touching_soma_vertices', 'soma_group_idx', 'concept_network'])"
      ]
     },
     "execution_count": 32,
     "metadata": {},
     "output_type": "execute_result"
    }
   ],
   "source": [
    "curr_limb.all_concept_network_data[0].keys()"
   ]
  },
  {
   "cell_type": "code",
   "execution_count": 43,
   "metadata": {},
   "outputs": [
    {
     "data": {
      "text/plain": [
       "[{'starting_soma': 0,\n",
       "  'starting_node': 52,\n",
       "  'starting_endpoints': array([[ 459446., 1018820.,  744838.],\n",
       "         [ 460034., 1020760.,  745755.]]),\n",
       "  'starting_coordinate': array([ 460034., 1020760.,  745755.]),\n",
       "  'touching_soma_vertices': TrackedArray([[ 459935.3, 1020870. ,  746776.8],\n",
       "                [ 460893.8, 1020825. ,  746014.8],\n",
       "                [ 461036.5, 1021092. ,  745491.3],\n",
       "                [ 460853.2, 1020677. ,  746100.9],\n",
       "                [ 460762.2, 1020734. ,  746410. ],\n",
       "                [ 460792.5, 1020842. ,  746565.8],\n",
       "                [ 460094.2, 1020796. ,  746745.9],\n",
       "                [ 460351.5, 1021629. ,  745405.5],\n",
       "                [ 460913. , 1020765. ,  745777.4],\n",
       "                [ 459990.7, 1020729. ,  746590.2],\n",
       "                [ 459640.8, 1020836. ,  746541. ],\n",
       "                [ 460193. , 1021454. ,  745470.6],\n",
       "                [ 459566.5, 1021018. ,  746453.8],\n",
       "                [ 460959.1, 1020946. ,  745591.4],\n",
       "                [ 460429.5, 1021590. ,  745306.5],\n",
       "                [ 459824.4, 1020808. ,  746601.2],\n",
       "                [ 459756.2, 1020884. ,  746678.9],\n",
       "                [ 460926.8, 1021006. ,  745405. ],\n",
       "                [ 460279.7, 1021659. ,  745527.2],\n",
       "                [ 459459. , 1021104. ,  746361. ],\n",
       "                [ 460698. , 1020831. ,  746665.5],\n",
       "                [ 460645.2, 1020697. ,  746519.1],\n",
       "                [ 460872. , 1021255. ,  745204.5],\n",
       "                [ 460702.7, 1021382. ,  745192.9],\n",
       "                [ 460532.2, 1021440. ,  745184.6],\n",
       "                [ 459480. , 1021104. ,  746235. ],\n",
       "                [ 460916.1, 1021109. ,  745307.2],\n",
       "                [ 459629.8, 1021015. ,  746626.9],\n",
       "                [ 460989.3, 1021001. ,  745783.4],\n",
       "                [ 460336.8, 1021438. ,  745205.8],\n",
       "                [ 460041.2, 1021677. ,  745546.2],\n",
       "                [ 460502.2, 1020717. ,  746629.4],\n",
       "                [ 460852.5, 1020821. ,  746216.4],\n",
       "                [ 460280.5, 1020677. ,  746633. ]]),\n",
       "  'soma_group_idx': 0,\n",
       "  'concept_network': <networkx_utils.GraphOrderedEdges at 0x7fcb44641940>}]"
      ]
     },
     "execution_count": 43,
     "metadata": {},
     "output_type": "execute_result"
    }
   ],
   "source": [
    "curr_limb.all_concept_network_data"
   ]
  },
  {
   "cell_type": "code",
   "execution_count": 46,
   "metadata": {},
   "outputs": [
    {
     "data": {
      "text/plain": [
       "<neuron.Limb at 0x7fcb59950550>"
      ]
     },
     "execution_count": 46,
     "metadata": {},
     "output_type": "execute_result"
    }
   ],
   "source": [
    "st_soma = curr_limb.all_concept_network_data[0][\"starting_soma\"]\n",
    "st_node = curr_limb.all_concept_network_data[0][\"starting_node\"]\n",
    "curr_limb.set_concept_network_directional(starting_soma=st_soma,\n",
    "                                         starting_node=st_node)\n"
   ]
  },
  {
   "cell_type": "code",
   "execution_count": 48,
   "metadata": {},
   "outputs": [],
   "source": [
    "nru.clean_neuron_all_concept_network_data(neuron_obj)"
   ]
  },
  {
   "cell_type": "code",
   "execution_count": 49,
   "metadata": {},
   "outputs": [
    {
     "data": {
      "text/plain": [
       "<neuron.Neuron at 0x7fcb598c5358>"
      ]
     },
     "execution_count": 49,
     "metadata": {},
     "output_type": "execute_result"
    }
   ],
   "source": [
    "neuron_obj"
   ]
  },
  {
   "cell_type": "code",
   "execution_count": null,
   "metadata": {},
   "outputs": [],
   "source": [
    "def clean_neuron_all_concept_network_data(neuron_obj):\n",
    "    \n",
    "    for curr_limb in neuron_obj:\n",
    "        curr_limb.all_concept_network = nru.clean_all_concept_network_data(curr_limb.all_concept_network_data)\n",
    "        \n",
    "        #setting the concept network\n",
    "        st_soma = curr_limb.all_concept_network_data[0][\"starting_soma\"]\n",
    "        st_node = curr_limb.all_concept_network_data[0][\"starting_node\"]\n",
    "        curr_limb.set_concept_network_directional(starting_soma=st_soma,\n",
    "                                                 starting_node=st_node)\n",
    "        "
   ]
  },
  {
   "cell_type": "code",
   "execution_count": 39,
   "metadata": {},
   "outputs": [
    {
     "data": {
      "text/plain": [
       "[{'starting_soma': 0,\n",
       "  'starting_node': 52,\n",
       "  'starting_endpoints': array([[ 459446., 1018820.,  744838.],\n",
       "         [ 460034., 1020760.,  745755.]]),\n",
       "  'starting_coordinate': array([ 460034., 1020760.,  745755.]),\n",
       "  'touching_soma_vertices': TrackedArray([[ 459935.3, 1020870. ,  746776.8],\n",
       "                [ 460893.8, 1020825. ,  746014.8],\n",
       "                [ 461036.5, 1021092. ,  745491.3],\n",
       "                [ 460853.2, 1020677. ,  746100.9],\n",
       "                [ 460762.2, 1020734. ,  746410. ],\n",
       "                [ 460792.5, 1020842. ,  746565.8],\n",
       "                [ 460094.2, 1020796. ,  746745.9],\n",
       "                [ 460351.5, 1021629. ,  745405.5],\n",
       "                [ 460913. , 1020765. ,  745777.4],\n",
       "                [ 459990.7, 1020729. ,  746590.2],\n",
       "                [ 459640.8, 1020836. ,  746541. ],\n",
       "                [ 460193. , 1021454. ,  745470.6],\n",
       "                [ 459566.5, 1021018. ,  746453.8],\n",
       "                [ 460959.1, 1020946. ,  745591.4],\n",
       "                [ 460429.5, 1021590. ,  745306.5],\n",
       "                [ 459824.4, 1020808. ,  746601.2],\n",
       "                [ 459756.2, 1020884. ,  746678.9],\n",
       "                [ 460926.8, 1021006. ,  745405. ],\n",
       "                [ 460279.7, 1021659. ,  745527.2],\n",
       "                [ 459459. , 1021104. ,  746361. ],\n",
       "                [ 460698. , 1020831. ,  746665.5],\n",
       "                [ 460645.2, 1020697. ,  746519.1],\n",
       "                [ 460872. , 1021255. ,  745204.5],\n",
       "                [ 460702.7, 1021382. ,  745192.9],\n",
       "                [ 460532.2, 1021440. ,  745184.6],\n",
       "                [ 459480. , 1021104. ,  746235. ],\n",
       "                [ 460916.1, 1021109. ,  745307.2],\n",
       "                [ 459629.8, 1021015. ,  746626.9],\n",
       "                [ 460989.3, 1021001. ,  745783.4],\n",
       "                [ 460336.8, 1021438. ,  745205.8],\n",
       "                [ 460041.2, 1021677. ,  745546.2],\n",
       "                [ 460502.2, 1020717. ,  746629.4],\n",
       "                [ 460852.5, 1020821. ,  746216.4],\n",
       "                [ 460280.5, 1020677. ,  746633. ]]),\n",
       "  'soma_group_idx': 0,\n",
       "  'concept_network': <networkx_utils.GraphOrderedEdges at 0x7fcb44641940>}]"
      ]
     },
     "execution_count": 39,
     "metadata": {},
     "output_type": "execute_result"
    }
   ],
   "source": [
    "nru = reload(nru)\n",
    "nru.clean_all_concept_network_data(curr_limb.all_concept_network_data)"
   ]
  },
  {
   "cell_type": "code",
   "execution_count": null,
   "metadata": {},
   "outputs": [],
   "source": []
  },
  {
   "cell_type": "code",
   "execution_count": null,
   "metadata": {},
   "outputs": [],
   "source": []
  },
  {
   "cell_type": "code",
   "execution_count": 25,
   "metadata": {},
   "outputs": [
    {
     "name": "stdout",
     "output_type": "stream",
     "text": [
      "\n",
      " Working on visualization type: mesh\n",
      "\n",
      " Working on visualization type: skeleton\n",
      "working on soma border vertices\n"
     ]
    },
    {
     "data": {
      "application/vnd.jupyter.widget-view+json": {
       "model_id": "f02bef18a9f54b2c9f21435b7c5829f5",
       "version_major": 2,
       "version_minor": 0
      },
      "text/plain": [
       "VBox(children=(Figure(camera=PerspectiveCamera(fov=46.0, position=(0.0, 0.0, 2.0), quaternion=(0.0, 0.0, 0.0, …"
      ]
     },
     "metadata": {},
     "output_type": "display_data"
    }
   ],
   "source": [
    "nviz.visualize_neuron(neuron_obj,\n",
    "                     limb_branch_dict=dict(L0=\"all\"),\n",
    "                     soma_border_vertices=True,\n",
    "                     soma_border_vertices_size=0.05)"
   ]
  },
  {
   "cell_type": "code",
   "execution_count": 22,
   "metadata": {},
   "outputs": [
    {
     "name": "stdout",
     "output_type": "stream",
     "text": [
      "multi_soma_limbs = []\n",
      "multi_touch_limbs = [0]\n",
      "\n",
      "\n",
      " -------- Working on limb 0------------\n",
      "Starting combinations to process = []\n",
      "Total number of graphs at the end of the split = 1: [array([ 0,  1,  2,  3,  4,  5,  6,  7,  8,  9, 10, 11, 12, 13, 14, 15, 16,\n",
      "       17, 18, 19, 20, 21, 22, 23, 24, 25, 26, 27, 28, 29, 30, 31, 32, 33,\n",
      "       34, 35, 36, 37, 38, 39, 40, 41, 42, 43, 44, 45, 46, 47, 48, 49, 50,\n",
      "       51, 52, 53, 54, 55, 56])]\n",
      "\n",
      "\n",
      "-------- Suggestions for Limb 0------\n",
      "\n",
      "\n",
      " No suggested cuts for this limb!!\n",
      "\n",
      " Working on visualization type: mesh\n",
      "\n",
      " Working on visualization type: skeleton\n"
     ]
    },
    {
     "data": {
      "application/vnd.jupyter.widget-view+json": {
       "model_id": "c88bfdfd37df454b9335a45ad9b43b34",
       "version_major": 2,
       "version_minor": 0
      },
      "text/plain": [
       "VBox(children=(Figure(camera=PerspectiveCamera(fov=46.0, position=(0.0, 0.0, 2.0), quaternion=(0.0, 0.0, 0.0, …"
      ]
     },
     "metadata": {},
     "output_type": "display_data"
    },
    {
     "data": {
      "text/plain": [
       "{0: []}"
      ]
     },
     "execution_count": 22,
     "metadata": {},
     "output_type": "execute_result"
    }
   ],
   "source": [
    "pru.multi_soma_split_suggestions(neuron_obj,\n",
    "                                 plot_intermediates=True,\n",
    "                                 plot_suggestions=True,\n",
    "                                verbose=True,\n",
    "                                )"
   ]
  },
  {
   "cell_type": "code",
   "execution_count": null,
   "metadata": {},
   "outputs": [],
   "source": []
  },
  {
   "cell_type": "code",
   "execution_count": null,
   "metadata": {},
   "outputs": [],
   "source": []
  },
  {
   "cell_type": "code",
   "execution_count": null,
   "metadata": {},
   "outputs": [],
   "source": [
    "# 3) Retrieve the multi soma suggestions\n",
    "split_results = (minnie.NeuronSplitSuggestions & key).fetch1(\"split_results\")"
   ]
  },
  {
   "cell_type": "code",
   "execution_count": null,
   "metadata": {},
   "outputs": [],
   "source": [
    "# 4) Get the number of splits required for this neuron\n",
    "n_paths_cut = pru.get_n_paths_cut(split_results)\n",
    "\n",
    "if verbose:\n",
    "    print(f\"n_paths_cut = {n_paths_cut}\")"
   ]
  },
  {
   "cell_type": "code",
   "execution_count": null,
   "metadata": {},
   "outputs": [],
   "source": [
    "neuron = reload(neuron)\n",
    "neuron_obj = neuron.Neuron(neuron_obj)"
   ]
  },
  {
   "cell_type": "code",
   "execution_count": null,
   "metadata": {},
   "outputs": [],
   "source": [
    "# 5) Split the neuron into a list of neuron objects\n",
    "neuron_list = pru.split_neuron(neuron_obj,\n",
    "                limb_results=split_results,\n",
    "                                    )"
   ]
  },
  {
   "cell_type": "code",
   "execution_count": null,
   "metadata": {
    "scrolled": false
   },
   "outputs": [],
   "source": [
    "\"\"\"\n",
    "# 6) For each neuron object in the list:\n",
    "# - get the number of errored limbs (to indicate the success type)\n",
    "# - Compute the information on the largest soma faces and volume\n",
    "# - Save the neuron object to the external\n",
    "# - Add the new write key to a list to commit \n",
    "\"\"\"\n",
    "whole_pass_time = time.time()\n",
    "\n",
    "neuron_idx = 0\n",
    "n = neuron_list[neuron_idx]\n",
    "#for n in neuron_list:\n",
    "#     nviz.visualize_neuron(n,\n",
    "#                          limb_branch_dict=\"all\")\n",
    "\n",
    "# - get the number of errored limbs (to indicate the success type)\n",
    "if n.n_error_limbs == 0:\n",
    "    split_success = 0\n",
    "elif n.multi_soma_touching_limbs == 0:\n",
    "    split_successs = 1\n",
    "elif n.same_soma_multi_touching_limbs == 0:\n",
    "    split_success = 2\n",
    "else:\n",
    "    split_success = 3\n",
    "    \n",
    "if verbose:\n",
    "    print(f\"split_success = {split_success}\")\n",
    "\n",
    "# - Compute the information on the largest soma faces and volume\n",
    "soma_volumes = [n[k].volume for k in n.get_soma_node_names()] \n",
    "soma_n_faces = [len(n[k].mesh.faces) for k in n.get_soma_node_names()] \n",
    "\n",
    "largest_n_faces = np.max(soma_n_faces)\n",
    "largest_volume = np.max(soma_volumes)\n",
    "\n",
    "if verbose:\n",
    "    print(f\"largest_n_faces = {largest_n_faces}\")\n",
    "    print(f\"largest_volume = {largest_volume}\")\n",
    "    \n",
    "    \n",
    "#6) Save the file in a certain location\n",
    "if False:\n",
    "    save_time = time.time()\n",
    "    ret_file_path = n.save_compressed_neuron(output_folder=str(du.get_decomposition_path()),\n",
    "                                      return_file_path=True,\n",
    "                                     export_mesh=False,\n",
    "                                     suppress_output=True)\n",
    "\n",
    "    ret_file_path_str = str(ret_file_path.absolute()) + \".pbz2\"\n",
    "    print(f\"Save time = {time.time() - save_time}\")\n",
    "else:\n",
    "    ret_file_path_str = \"dummy_holder\"\n",
    "\n",
    "\n",
    "    \n",
    "#7) Pass stats and file location to insert\n",
    "new_key = dict(key,\n",
    "               split_index = neuron_idx,\n",
    "               multiplicity=len(neuron_list),\n",
    "               \n",
    "               n_splits = n_paths_cut,\n",
    "               split_success = split_success,\n",
    "               \n",
    "               max_soma_n_faces = largest_n_faces,\n",
    "               max_soma_volume = largest_volume,\n",
    "               \n",
    "               \n",
    "               decomposition=ret_file_path_str,\n",
    "               n_vertices=len(n.mesh.vertices),\n",
    "               n_faces=len(n.mesh.faces),\n",
    "               run_time=np.round(time.time() - whole_pass_time,4)\n",
    "              )\n",
    "\n",
    "stats_dict = n.neuron_stats()\n",
    "new_key.update(stats_dict)\n",
    "\n",
    "new_\n",
    "    \n"
   ]
  },
  {
   "cell_type": "code",
   "execution_count": null,
   "metadata": {},
   "outputs": [],
   "source": [
    "neuron = reload(neuron)\n",
    "n = neuron.Neuron(n)"
   ]
  },
  {
   "cell_type": "code",
   "execution_count": null,
   "metadata": {},
   "outputs": [],
   "source": [
    "n[\"S0\"].volume"
   ]
  },
  {
   "cell_type": "code",
   "execution_count": null,
   "metadata": {},
   "outputs": [],
   "source": [
    "n[\"S0\"].volume"
   ]
  },
  {
   "cell_type": "code",
   "execution_count": null,
   "metadata": {},
   "outputs": [],
   "source": [
    "# 6) For each neuron object in the list:\n",
    "# - get the number of errored limbs (to indicate the success type)\n",
    "# - Change the description to include the multiplicity\n",
    "# - Compute the information on the largest soma faces and volume\n",
    "# - Save the neuron object to the external\n",
    "# - Add the new write key to a list to commit "
   ]
  },
  {
   "cell_type": "code",
   "execution_count": null,
   "metadata": {},
   "outputs": [],
   "source": [
    "import numpy as np\n",
    "import time\n",
    "\n",
    "max_n_somas=8\n",
    "\n",
    "\n",
    "\n",
    "@schema\n",
    "class DecompositionSplit(dj.Computed):\n",
    "    definition=\"\"\"\n",
    "    -> minnie.Decimation.proj(decimation_version='version')\n",
    "    ver : decimal(6,2) #the version number of the materializaiton\n",
    "    process_version : int unsigned #the version of the preprocessing pipeline run\n",
    "    index : tinyint unsigned  #the index of the neuron object that resulted from that mesh (indexed starting at 0)\n",
    "    split_index: : tinyint unsigned  #the index of the neuron object that resulted AFTER THE SPLITTING ALGORITHM\n",
    "    ---\n",
    "    multiplicity=null    : tinyint unsigned             # the number of somas found for this base segment\n",
    "    n_splits             : int unsigned                 # the number of cuts required to help split the neuron\n",
    "    split_success        : tinyint unsigned             # the successfulness of the splitting\n",
    "    decomposition: <decomposition>\n",
    "    n_vertices           : int unsigned                 # number of vertices\n",
    "    n_faces              : int unsigned                 # number of faces\n",
    "    n_not_processed_soma_containing_meshes : int unsigned  #the number of meshes with somas that were not processed\n",
    "    n_error_limbs: int #the number of limbs that are touching multiple somas or 1 soma in multiple places\n",
    "    n_same_soma_multi_touching_limbs: int # number of limbs that touch the same soma multiple times\n",
    "    n_multi_soma_touching_limbs: int # number of limbs that touch multiple somas\n",
    "    n_somas: int #number of soma meshes detected\n",
    "    max_soma_n_faces:  int unsigned                 # The largest number of faces of the somas\n",
    "    max_soma_volume:  int unsigned                 # The largest volume of the somas\n",
    "    n_limbs: int\n",
    "    n_branches: int\n",
    "    max_limb_n_branches=NULL:int\n",
    "    \n",
    "    skeletal_length=NULL: double\n",
    "    max_limb_skeletal_length=NULL:double\n",
    "    median_branch_length=NULL:double #gives information on average skeletal length to next branch point\n",
    "    \n",
    "    \n",
    "    width_median=NULL: double #median width from mesh center without spines removed\n",
    "    width_no_spine_median=NULL: double #median width from mesh center with spines removed\n",
    "    width_90_perc=NULL: double # 90th percentile for width without spines removed\n",
    "    width_no_spine_90_perc=NULL: double  # 90th percentile for width with spines removed\n",
    "    \n",
    "    \n",
    "    n_spines: bigint\n",
    "\n",
    "    spine_density=NULL: double # n_spines/ skeletal_length\n",
    "    spines_per_branch=NULL: double\n",
    "    \n",
    "    skeletal_length_eligible=NULL: double # the skeletal length for all branches searched for spines\n",
    "    n_spine_eligible_branches=NULL: int # the number of branches that were checked for spines because passed width threshold\n",
    "    \n",
    "    spine_density_eligible=NULL:double # n_spines/skeletal_length_eligible\n",
    "    spines_per_branch_eligible=NULL:double # n_spines/n_spine_eligible_branches\n",
    "    \n",
    "    total_spine_volume=NULL: double # the sum of all spine volume\n",
    "    spine_volume_median=NULL: double # median of the spine volume for those spines with able to calculate volume\n",
    "    spine_volume_density=NULL: double #total_spine_volume/skeletal_length\n",
    "    spine_volume_density_eligible=NULL: double #total_spine_volume/skeletal_length_eligible\n",
    "    spine_volume_per_branch_eligible=NULL: double #total_spine_volume/n_spine_eligible_branches\n",
    "    \n",
    "    run_time=NULL : double                   # the amount of time to run (seconds)\n",
    "\n",
    "    \n",
    "    \"\"\"\n",
    "                             \n",
    "    \n",
    "    classified_table = minnie.BaylorManualCellType() & 'nucleus_version=3'\n",
    "    key_source = minnie.Decomposition & (minnie.NeuronSplitSuggestions.proj()) & (classified_table.proj()) & f\"n_somas<{max_n_somas}\"\n",
    "    key_source\n",
    "    \n",
    "\n",
    "    def make(self,key):\n",
    "        \"\"\"\n",
    "        Pseudocode for process:\n",
    "\n",
    "        1) Get the segment id from the key\n",
    "        2) Get the decomposed neurong object from Decomposition table\n",
    "        3) Run the multi_soma split suggestions algorithm\n",
    "        4) Get the number of splits required for this neuron\n",
    "        5) Split the neuron into a list of neuron objects\n",
    "        6) For each neuron object in the list:\n",
    "        - get the number of errored limbs (to indicate the success type)\n",
    "        - Change the description to include the multiplicity\n",
    "        - Compute the information on the largest soma faces and volume\n",
    "        - Save the neuron object to the external\n",
    "        - Add the new write key to a list to commit \n",
    "        7) Write all of the keys \n",
    "        \"\"\"\n",
    "        \n",
    "        whole_pass_time = time.time()\n",
    "        \n",
    "        #1) Get the segment id from the key\n",
    "        segment_id = key[\"segment_id\"]\n",
    "        print(f\"\\n\\n\\n---- Working on Neuron {key['segment_id']} ----\")\n",
    "        global_start = time.time()\n",
    "        \n",
    "        #2) Get the decomposed neurong object from Decomposition table\n",
    "        neuron_obj = minnie.\n",
    "        \n",
    "\n",
    "        #3) Get the somas info \n",
    "        somas = du.get_soma_mesh_list(segment_id) \n",
    "        soma_ver = du.get_soma_mesh_list_ver(segment_id)\n",
    "                  \n",
    "        \n",
    "        print(f\"somas = {somas}\")\n",
    "                  \n",
    "        #3b) Get the glia and nuclei information \n",
    "        glia_faces,nuclei_faces = du.get_segment_glia_nuclei_faces(segment_id,return_empty_list=True)\n",
    "        \n",
    "                  \n",
    "        #4) Run the preprocessing\n",
    "\n",
    "\n",
    "        total_neuron_process_time = time.time()\n",
    "\n",
    "        print(f\"\\n--- Beginning preprocessing of {segment_id}---\")\n",
    "        recovered_neuron = neuron.Neuron(\n",
    "        mesh = current_neuron_mesh,\n",
    "        somas = somas,\n",
    "        segment_id=segment_id,\n",
    "        description=description,\n",
    "        suppress_preprocessing_print=False,\n",
    "        suppress_output=False,\n",
    "        calculate_spines=True,\n",
    "        widths_to_calculate=[\"no_spine_median_mesh_center\"],\n",
    "        glia_faces=glia_faces,\n",
    "        nuclei_faces = nuclei_faces,\n",
    "\n",
    "                )\n",
    "\n",
    "        print(f\"\\n\\n\\n---- Total preprocessing time = {time.time() - total_neuron_process_time}\")\n",
    "\n",
    "\n",
    "        #5) Don't have to do any of the processing anymore because will do in the neuron object\n",
    "        stats_dict = recovered_neuron.neuron_stats()\n",
    "\n",
    "\n",
    "\n",
    "        #6) Save the file in a certain location\n",
    "        save_time = time.time()\n",
    "        ret_file_path = recovered_neuron.save_compressed_neuron(output_folder=str(du.get_decomposition_path()),\n",
    "                                          return_file_path=True,\n",
    "                                         export_mesh=False,\n",
    "                                         suppress_output=True)\n",
    "\n",
    "        ret_file_path_str = str(ret_file_path.absolute()) + \".pbz2\"\n",
    "        print(f\"Save time = {time.time() - save_time}\")\n",
    "\n",
    "        #7) Pass stats and file location to insert\n",
    "        new_key = dict(key,\n",
    "                       ver = soma_ver,\n",
    "                       process_version = process_version,\n",
    "                       index = 0,\n",
    "                       multiplicity=1,\n",
    "                       decomposition=ret_file_path_str,\n",
    "                       n_vertices=len(current_neuron_mesh.vertices),\n",
    "                       n_faces=len(current_neuron_mesh.faces),\n",
    "                       run_time=np.round(time.time() - whole_pass_time,4)\n",
    "                      )\n",
    "        new_key.update(stats_dict)\n",
    "\n",
    "        self.insert1(new_key, allow_direct_insert=True, skip_duplicates=True)\n",
    "\n",
    "        print(f\"\\n\\n ------ Total time for {segment_id} = {time.time() - global_start} ------\")\n",
    "    "
   ]
  },
  {
   "cell_type": "markdown",
   "metadata": {},
   "source": [
    "# Running the Populate"
   ]
  },
  {
   "cell_type": "code",
   "execution_count": null,
   "metadata": {},
   "outputs": [],
   "source": [
    "curr_table = (minnie.schema.jobs & \"table_name='__decomposition'\")\n",
    "(curr_table).delete()# & \"status='error'\")\n",
    "#curr_table.delete()\n",
    "#(curr_table & \"error_message = 'ValueError: need at least one array to concatenate'\").delete()"
   ]
  },
  {
   "cell_type": "code",
   "execution_count": null,
   "metadata": {},
   "outputs": [],
   "source": [
    "import time\n",
    "import random\n",
    "import compartment_utils as cu\n",
    "cu = reload(cu)\n",
    "import preprocessing_vp2 as pre\n",
    "pre = reload(pre)\n",
    "import skeleton_utils as sk\n",
    "sk = reload(sk)\n",
    "nru = reload(nru)\n",
    "\n",
    "start_time = time.time()\n",
    "if not test_mode:\n",
    "    time.sleep(random.randint(0, 800))\n",
    "print('Populate Started')\n",
    "if not test_mode:\n",
    "    Decomposition.populate(reserve_jobs=True, suppress_errors=True)\n",
    "else:\n",
    "    Decomposition.populate(reserve_jobs=True, suppress_errors=False)\n",
    "print('Populate Done')\n",
    "\n",
    "print(f\"Total time for DecompositionMultiSoma populate = {time.time() - start_time}\")"
   ]
  },
  {
   "cell_type": "code",
   "execution_count": null,
   "metadata": {},
   "outputs": [],
   "source": []
  },
  {
   "cell_type": "code",
   "execution_count": null,
   "metadata": {},
   "outputs": [],
   "source": []
  }
 ],
 "metadata": {
  "kernelspec": {
   "display_name": "Python 3",
   "language": "python",
   "name": "python3"
  },
  "language_info": {
   "codemirror_mode": {
    "name": "ipython",
    "version": 3
   },
   "file_extension": ".py",
   "mimetype": "text/x-python",
   "name": "python",
   "nbconvert_exporter": "python",
   "pygments_lexer": "ipython3",
   "version": "3.6.9"
  }
 },
 "nbformat": 4,
 "nbformat_minor": 4
}
