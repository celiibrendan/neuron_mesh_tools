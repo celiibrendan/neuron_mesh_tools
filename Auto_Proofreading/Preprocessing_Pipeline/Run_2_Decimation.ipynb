{
 "cells": [
  {
   "cell_type": "code",
   "execution_count": null,
   "metadata": {},
   "outputs": [],
   "source": [
    "\"\"\"\n",
    "Purpose: To decompose the multi-somas for splitting\n",
    "using the new decomposition method\n",
    "\n",
    "\n",
    "\n",
    "\"\"\"\n"
   ]
  },
  {
   "cell_type": "code",
   "execution_count": 1,
   "metadata": {},
   "outputs": [
    {
     "name": "stderr",
     "output_type": "stream",
     "text": [
      "INFO - 2021-03-08 06:36:46,659 - settings - Setting database.host to at-database.ad.bcm.edu\n",
      "INFO - 2021-03-08 06:36:46,661 - settings - Setting database.user to celiib\n",
      "INFO - 2021-03-08 06:36:46,662 - settings - Setting database.password to newceliipass\n",
      "INFO - 2021-03-08 06:36:46,666 - settings - Setting stores to {'minnie65': {'protocol': 'file', 'location': '/mnt/dj-stor01/platinum/minnie65', 'stage': '/mnt/dj-stor01/platinum/minnie65'}, 'meshes': {'protocol': 'file', 'location': '/mnt/dj-stor01/platinum/minnie65/02/meshes', 'stage': '/mnt/dj-stor01/platinum/minnie65/02/meshes'}, 'decimated_meshes': {'protocol': 'file', 'location': '/mnt/dj-stor01/platinum/minnie65/02/decimated_meshes', 'stage': '/mnt/dj-stor01/platinum/minnie65/02/decimated_meshes'}, 'skeletons': {'protocol': 'file', 'location': '/mnt/dj-stor01/platinum/minnie65/02/skeletons'}}\n",
      "INFO - 2021-03-08 06:36:46,668 - settings - Setting enable_python_native_blobs to True\n",
      "INFO - 2021-03-08 06:36:46,684 - connection - Connected celiib@at-database.ad.bcm.edu:3306\n"
     ]
    },
    {
     "name": "stdout",
     "output_type": "stream",
     "text": [
      "Connecting celiib@at-database.ad.bcm.edu:3306\n"
     ]
    },
    {
     "name": "stderr",
     "output_type": "stream",
     "text": [
      "INFO - 2021-03-08 06:36:47,079 - settings - Setting enable_python_native_blobs to True\n",
      "INFO - 2021-03-08 06:36:47,082 - settings - Setting database.host to at-database.ad.bcm.edu\n",
      "INFO - 2021-03-08 06:36:47,083 - settings - Setting database.user to celiib\n",
      "INFO - 2021-03-08 06:36:47,084 - settings - Setting database.password to newceliipass\n",
      "INFO - 2021-03-08 06:36:47,085 - settings - Setting database.host to at-database.ad.bcm.edu\n",
      "INFO - 2021-03-08 06:36:47,086 - settings - Setting database.user to celiib\n",
      "INFO - 2021-03-08 06:36:47,087 - settings - Setting database.password to newceliipass\n",
      "INFO - 2021-03-08 06:36:47,089 - settings - Setting enable_python_native_blobs to True\n",
      "INFO - 2021-03-08 06:36:47,511 - settings - Setting enable_python_native_blobs to True\n"
     ]
    }
   ],
   "source": [
    "import numpy as np\n",
    "import datajoint as dj\n",
    "import trimesh\n",
    "from tqdm.notebook import tqdm\n",
    "from pathlib import Path\n",
    "\n",
    "from os import sys\n",
    "sys.path.append(\"/meshAfterParty/\")\n",
    "sys.path.append(\"/meshAfterParty/meshAfterParty/\")\n",
    "\n",
    "import datajoint_utils as du\n",
    "from importlib import reload"
   ]
  },
  {
   "cell_type": "code",
   "execution_count": 2,
   "metadata": {},
   "outputs": [],
   "source": [
    "test_mode = True"
   ]
  },
  {
   "cell_type": "code",
   "execution_count": 3,
   "metadata": {},
   "outputs": [
    {
     "name": "stderr",
     "output_type": "stream",
     "text": [
      "INFO - 2021-03-08 06:36:47,591 - settings - Setting database.host to at-database.ad.bcm.edu\n",
      "INFO - 2021-03-08 06:36:47,593 - settings - Setting database.user to celiib\n",
      "INFO - 2021-03-08 06:36:47,594 - settings - Setting database.password to newceliipass\n",
      "INFO - 2021-03-08 06:36:47,595 - settings - Setting database.host to at-database.ad.bcm.edu\n",
      "INFO - 2021-03-08 06:36:47,596 - settings - Setting database.user to celiib\n",
      "INFO - 2021-03-08 06:36:47,597 - settings - Setting database.password to newceliipass\n",
      "INFO - 2021-03-08 06:36:47,600 - settings - Setting enable_python_native_blobs to True\n"
     ]
    },
    {
     "name": "stdout",
     "output_type": "stream",
     "text": [
      "Sleeping 90 sec before conneting\n",
      "Done sleeping\n",
      "Current path for external_segmentation_path = /mnt/dj-stor01/platinum/minnie65/02\n",
      "Current path for external_mesh_path = /mnt/dj-stor01/platinum/minnie65/02/meshes\n",
      "Current path for external_decimated_mesh_path = /mnt/dj-stor01/platinum/minnie65/02/decimated_meshes\n",
      "Current path for external_skeleton_path = /mnt/dj-stor01/platinum/minnie65/02/skeletons\n"
     ]
    },
    {
     "name": "stderr",
     "output_type": "stream",
     "text": [
      "INFO - 2021-03-08 06:36:48,060 - settings - Setting enable_python_native_blobs to True\n"
     ]
    }
   ],
   "source": [
    "import minfig\n",
    "import time\n",
    "import numpy as np\n",
    "#want to add in a wait for the connection part\n",
    "random_sleep_sec = np.random.randint(0, 200)\n",
    "print(f\"Sleeping {random_sleep_sec} sec before conneting\")\n",
    "if not test_mode:\n",
    "    time.sleep(random_sleep_sec)\n",
    "print(\"Done sleeping\")\n",
    "\n",
    "du.config_celii()\n",
    "du.set_minnie65_config_segmentation(minfig)\n",
    "du.print_minnie65_config_paths(minfig)\n",
    "\n",
    "#configuring will include the adapters\n",
    "minnie,schema = du.configure_minnie_vm()"
   ]
  },
  {
   "cell_type": "markdown",
   "metadata": {},
   "source": [
    "# Defining the Table"
   ]
  },
  {
   "cell_type": "code",
   "execution_count": 4,
   "metadata": {},
   "outputs": [],
   "source": [
    "import neuron_utils as nru\n",
    "import neuron\n",
    "import trimesh_utils as tu\n",
    "import numpy as np"
   ]
  },
  {
   "cell_type": "code",
   "execution_count": 5,
   "metadata": {},
   "outputs": [
    {
     "name": "stdout",
     "output_type": "stream",
     "text": [
      "No port chosen so picked random port 4114\n"
     ]
    }
   ],
   "source": [
    "import meshlab\n",
    "meshlab.set_meshlab_port(current_port=None)\n",
    "temporary_folder = 'decimation_temp'\n",
    "meshlab_scripts = {}"
   ]
  },
  {
   "cell_type": "code",
   "execution_count": 6,
   "metadata": {},
   "outputs": [],
   "source": [
    "#so that it will have the adapter defined\n",
    "from datajoint_utils import *"
   ]
  },
  {
   "cell_type": "code",
   "execution_count": 12,
   "metadata": {},
   "outputs": [],
   "source": [
    "import numpy as np\n",
    "import time\n",
    "decimation_version = 0\n",
    "decimation_ratio_global = 0.25\n",
    "\n",
    "perform_mesh_segment_insert = True\n",
    "verbose=True\n",
    "\n",
    "from minfig.minnie65_config import external_decimated_mesh_path\n",
    "\n",
    "@schema\n",
    "class Decimation(dj.Computed):\n",
    "#     definition = minnie.Decimation.describe(printout=False)\n",
    "\n",
    "\n",
    "    #key_source = minnie.Mesh.proj() * (minnie.DecimationConfig & 'decimation_ratio=0.25') & minnie.MultiSomaProofread2.proj()\n",
    "    #key_source = (minnie.NucleiSegmentsRun2 - (minnie.Decimation() & dict(decimation_ratio=decimation_ratio_global)).proj())\n",
    "    key_source = minnie.Mesh() & dict(segment_id=864691136008592558)\n",
    "\n",
    "    # Creates hf file at the proper location, returns the filepath of the newly created file\n",
    "    @classmethod\n",
    "    def make_file(cls, segment_id, version, decimation_ratio, vertices, faces):\n",
    "        \"\"\"Creates hf file at the proper location, returns the filepath of the newly created file\"\"\"\n",
    "\n",
    "        assert vertices.ndim == 2 and vertices.shape[1] == 3\n",
    "        assert faces.ndim == 2 and faces.shape[1] == 3\n",
    "\n",
    "        filename = f'{segment_id}_{version}_{int(decimation_ratio*100):02}.h5'\n",
    "        filepath = os.path.join(external_decimated_mesh_path, filename)\n",
    "        with h5py.File(filepath, 'w') as hf:\n",
    "            hf.create_dataset('segment_id', data=segment_id)\n",
    "            hf.create_dataset('version', data=version)\n",
    "            hf.create_dataset('decimation_ratio', data=float(decimation_ratio))\n",
    "            hf.create_dataset('vertices', data=vertices)\n",
    "            hf.create_dataset('faces', data=faces)\n",
    "\n",
    "        return filepath\n",
    "\n",
    "    @classmethod\n",
    "    def make_entry(cls, segment_id, version, decimation_ratio, vertices, faces):\n",
    "        key = dict(\n",
    "            segment_id=segment_id,\n",
    "            version=version,\n",
    "            decimation_ratio=decimation_ratio,\n",
    "            n_vertices=len(vertices),\n",
    "            n_faces=len(faces)\n",
    "        )\n",
    "\n",
    "        filepath = cls.make_file(segment_id, version, decimation_ratio, vertices, faces)\n",
    "\n",
    "        cls.insert1(dict(key, mesh=filepath), allow_direct_insert=True)\n",
    "\n",
    "    \n",
    "\n",
    "    def make(self, key):\n",
    "        print(key)\n",
    "        segment_id = key['segment_id']\n",
    "        # -------- 1/27: Inserting the data into Mesh and Segment first ----- #\n",
    "        if perform_mesh_segment_insert:\n",
    "            #2) Manually add segmnet ids to segment tables\n",
    "            minnie.Segment.insert1(dict(segment_id=segment_id),skip_duplicates=True)\n",
    "            \n",
    "            #3) Fill in the Mesh Table\n",
    "            du.fill_from_ids(segment_ids=[segment_id])\n",
    "            \n",
    "            if verbose:\n",
    "                print(\"Done Inserting Mesh\")\n",
    "        \n",
    "        \n",
    "        \n",
    "        if \"version\" not in key.keys():\n",
    "            version = decimation_version\n",
    "        \n",
    "        if \"decimation_ratio\" not in key.keys():\n",
    "            decimation_ratio = decimation_ratio_global\n",
    "            \n",
    "        mesh = (minnie.Mesh & key).fetch1('mesh')\n",
    "        \n",
    "        \n",
    "        print(f\"Mesh size: n_vertices = {len(mesh.vertices)}, n_faces = {len(mesh.faces)}\")\n",
    "\n",
    "        if decimation_ratio not in meshlab_scripts:\n",
    "            meshlab_scripts[decimation_ratio] = meshlab.Decimator(decimation_ratio, temporary_folder, overwrite=False)\n",
    "        mls_func = meshlab_scripts[decimation_ratio]\n",
    "\n",
    "        try:\n",
    "            expected_filepath = os.path.join(external_decimated_mesh_path, f'{segment_id}_{version}.h5')\n",
    "            if not os.path.isfile(expected_filepath):\n",
    "                new_mesh, _path = mls_func(mesh.vertices, mesh.faces, segment_id)\n",
    "                new_vertices, new_faces = new_mesh.vertices, new_mesh.faces\n",
    "\n",
    "                self.make_entry(\n",
    "                    segment_id=segment_id,\n",
    "                    version=version,\n",
    "                    decimation_ratio=decimation_ratio,\n",
    "                    vertices=new_vertices,\n",
    "                    faces=new_faces,\n",
    "                    )\n",
    "            else:\n",
    "                print('File already exists.')\n",
    "                with h5py.File(expected_filepath, 'r') as hf:\n",
    "                    vertices = hf['vertices'][()].astype(np.float64)\n",
    "                    faces = hf['faces'][()].reshape(-1, 3).astype(np.uint32)\n",
    "                self.insert1(dict(key, n_vertices=len(vertices), n_faces=len(faces), mesh=expected_filepath), allow_direct_insert=True)\n",
    "        except Exception as e:\n",
    "            minnie.DecimationError.insert1(dict(key, log=str(e)))\n",
    "            print(e)\n",
    "            raise e\n",
    "    "
   ]
  },
  {
   "cell_type": "markdown",
   "metadata": {},
   "source": [
    "# Running the Populate"
   ]
  },
  {
   "cell_type": "code",
   "execution_count": 14,
   "metadata": {},
   "outputs": [],
   "source": [
    "curr_table = (minnie.schema.jobs & \"table_name='__decimation'\")\n",
    "#curr_table.delete()\n",
    "#curr_table.delete()"
   ]
  },
  {
   "cell_type": "code",
   "execution_count": 15,
   "metadata": {},
   "outputs": [
    {
     "name": "stderr",
     "output_type": "stream",
     "text": [
      "INFO - 2021-03-08 06:37:53,685 - autopopulate - Found 1 keys to populate\n",
      "INFO - 2021-03-08 06:37:53,696 - connection - Transaction started\n",
      "INFO - 2021-03-08 06:37:53,699 - autopopulate - Populating: {'segment_id': 864691136008592558}\n"
     ]
    },
    {
     "name": "stdout",
     "output_type": "stream",
     "text": [
      "Populate Started\n",
      "{'segment_id': 864691136008592558}\n",
      "filepath = /mnt/dj-stor01/platinum/minnie65/02/meshes/864691136008592558.h5\n",
      "Done Inserting Mesh\n",
      "Mesh size: n_vertices = 5112207, n_faces = 10204641\n",
      "xvfb-run -n 4114 -s \"-screen 0 800x600x24\" meshlabserver $@  -i /neuron_mesh_tools/Auto_Proofreading/Preprocessing_Pipeline/decimation_temp/neuron_864691136008592558.off -o /neuron_mesh_tools/Auto_Proofreading/Preprocessing_Pipeline/decimation_temp/neuron_864691136008592558_decimated.off -s /neuron_mesh_tools/Auto_Proofreading/Preprocessing_Pipeline/decimation_temp/decimation_meshlab_25334020.mls\n",
      "removed temporary input file: /neuron_mesh_tools/Auto_Proofreading/Preprocessing_Pipeline/decimation_temp/neuron_864691136008592558.off\n",
      "removed temporary output file: /neuron_mesh_tools/Auto_Proofreading/Preprocessing_Pipeline/decimation_temp/neuron_864691136008592558_decimated.off\n"
     ]
    },
    {
     "name": "stderr",
     "output_type": "stream",
     "text": [
      "INFO - 2021-03-08 06:43:41,792 - connection - Transaction committed and closed.\n"
     ]
    },
    {
     "name": "stdout",
     "output_type": "stream",
     "text": [
      "Populate Done\n",
      "Total time for Decimation populate = 348.1249210834503\n"
     ]
    }
   ],
   "source": [
    "import time\n",
    "import random\n",
    "\n",
    "start_time = time.time()\n",
    "if not test_mode:\n",
    "    time.sleep(random.randint(0, 800))\n",
    "print('Populate Started')\n",
    "if not test_mode:\n",
    "    Decimation.populate(reserve_jobs=True, suppress_errors=True)\n",
    "else:\n",
    "    Decimation.populate(reserve_jobs=True, suppress_errors=False)\n",
    "print('Populate Done')\n",
    "\n",
    "print(f\"Total time for Decimation populate = {time.time() - start_time}\")"
   ]
  },
  {
   "cell_type": "code",
   "execution_count": null,
   "metadata": {},
   "outputs": [],
   "source": []
  }
 ],
 "metadata": {
  "kernelspec": {
   "display_name": "Python 3",
   "language": "python",
   "name": "python3"
  },
  "language_info": {
   "codemirror_mode": {
    "name": "ipython",
    "version": 3
   },
   "file_extension": ".py",
   "mimetype": "text/x-python",
   "name": "python",
   "nbconvert_exporter": "python",
   "pygments_lexer": "ipython3",
   "version": "3.6.9"
  }
 },
 "nbformat": 4,
 "nbformat_minor": 4
}
