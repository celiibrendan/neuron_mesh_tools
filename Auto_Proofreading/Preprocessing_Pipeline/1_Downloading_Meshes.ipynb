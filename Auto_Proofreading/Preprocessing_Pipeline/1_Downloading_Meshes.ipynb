{
 "cells": [
  {
   "cell_type": "code",
   "execution_count": null,
   "metadata": {},
   "outputs": [],
   "source": [
    "\"\"\"\n",
    "Purpose: To download meshes from allen and\n",
    "insert into segment and mesh table in database\n",
    "\n",
    "\"\"\""
   ]
  },
  {
   "cell_type": "code",
   "execution_count": 1,
   "metadata": {},
   "outputs": [],
   "source": [
    "%load_ext autoreload\n",
    "%autoreload 2"
   ]
  },
  {
   "cell_type": "code",
   "execution_count": 2,
   "metadata": {},
   "outputs": [],
   "source": [
    "from os import sys\n",
    "sys.path.append(\"/meshAfterParty/\")"
   ]
  },
  {
   "cell_type": "code",
   "execution_count": 3,
   "metadata": {},
   "outputs": [
    {
     "name": "stderr",
     "output_type": "stream",
     "text": [
      "INFO - 2021-02-01 18:35:32,613 - settings - Setting database.host to at-database.ad.bcm.edu\n",
      "INFO - 2021-02-01 18:35:32,615 - settings - Setting database.user to celiib\n",
      "INFO - 2021-02-01 18:35:32,616 - settings - Setting database.password to newceliipass\n",
      "INFO - 2021-02-01 18:35:32,627 - settings - Setting stores to {'minnie65': {'protocol': 'file', 'location': '/mnt/dj-stor01/platinum/minnie65', 'stage': '/mnt/dj-stor01/platinum/minnie65'}, 'meshes': {'protocol': 'file', 'location': '/mnt/dj-stor01/platinum/minnie65/02/meshes', 'stage': '/mnt/dj-stor01/platinum/minnie65/02/meshes'}, 'decimated_meshes': {'protocol': 'file', 'location': '/mnt/dj-stor01/platinum/minnie65/02/decimated_meshes', 'stage': '/mnt/dj-stor01/platinum/minnie65/02/decimated_meshes'}, 'skeletons': {'protocol': 'file', 'location': '/mnt/dj-stor01/platinum/minnie65/02/skeletons'}}\n",
      "INFO - 2021-02-01 18:35:32,628 - settings - Setting enable_python_native_blobs to True\n",
      "INFO - 2021-02-01 18:35:32,640 - connection - Connected celiib@at-database.ad.bcm.edu:3306\n"
     ]
    },
    {
     "name": "stdout",
     "output_type": "stream",
     "text": [
      "Connecting celiib@at-database.ad.bcm.edu:3306\n"
     ]
    },
    {
     "name": "stderr",
     "output_type": "stream",
     "text": [
      "INFO - 2021-02-01 18:35:32,903 - settings - Setting enable_python_native_blobs to True\n"
     ]
    }
   ],
   "source": [
    "import datajoint_utils as du"
   ]
  },
  {
   "cell_type": "code",
   "execution_count": 4,
   "metadata": {},
   "outputs": [
    {
     "name": "stderr",
     "output_type": "stream",
     "text": [
      "INFO - 2021-02-01 18:35:32,981 - settings - Setting enable_python_native_blobs to True\n",
      "INFO - 2021-02-01 18:35:33,264 - settings - Setting enable_python_native_blobs to True\n"
     ]
    }
   ],
   "source": [
    "minnie,schema = du.configure_minnie_vm()"
   ]
  },
  {
   "cell_type": "markdown",
   "metadata": {},
   "source": [
    "# Segment to Fetch"
   ]
  },
  {
   "cell_type": "code",
   "execution_count": null,
   "metadata": {},
   "outputs": [],
   "source": [
    "two_soma_segment_ids_new = [\n",
    "    \n",
    "864691136951653599,\n",
    "864691135012571126,\n",
    "864691135609459463,\n",
    "864691136723421693,\n",
    "864691135946672225,\n",
    "864691136039382526,\n",
    "864691135012471798,\n",
    "864691135360133191,\n",
    "864691135291788214,\n",
    "864691135567752172,\n",
    "864691135718447153,\n",
    "864691135348374487,\n",
    "864691135474614848,\n",
    "864691135341171909,\n",
    "864691135538077554,\n",
    "864691135576925957,\n",
    "864691135440585800,\n",
    "864691135510504912,\n",
    "864691135609490439,\n",
    "864691135884014704,\n",
    "864691135724299179,\n",
    "864691135385207893,\n",
    "864691136577503252,\n",
    "864691136008433324,\n",
    "864691136482867756,\n",
    "864691135570745325,\n",
    "864691135866531094,\n",
    "864691135683949751,\n",
    "864691135012905110,\n",
    "864691136266415092,\n",
    "864691135440515912,\n",
    "864691135975576131,\n",
    "864691136041004886,\n",
    "864691136091147700,\n",
    "864691135771720779,\n",
    "864691135403709422,\n",
    "864691135739628180,\n",
    "864691135775809197,\n",
    "864691135081745143,\n",
    "864691135291777462,\n",
    "864691136008500908,\n",
    "864691135577002245,\n",
    "864691135210051520,\n",
    "864691135815468111,\n",
    "864691136065225112,\n",
    "864691136116159140,\n",
    "864691136370837384,\n",
    "864691135385192277,\n",
    "864691135345134239,\n",
    "864691136618586765,\n",
    "864691136725960558,\n",
    "864691135373423816,\n",
    "864691136065514648,\n",
    "864691136390485119,\n",
    "864691135065018692,\n",
    "864691135740250731,\n",
    "864691135065024068,\n",
    "864691135012398582,\n",
    "864691136922748900,\n",
    "864691136908675694,\n",
    "]"
   ]
  },
  {
   "cell_type": "code",
   "execution_count": null,
   "metadata": {},
   "outputs": [],
   "source": [
    "three_soma_segment_ids_new = [\n",
    "    \n",
    "864691135699307810,\n",
    "864691136041015382,\n",
    "864691135939303681,\n",
    "864691135815508815,\n",
    "864691136922746852,\n",
    "864691135373436616,\n",
    "864691136617159131,\n",
    "864691135837279635,\n",
    "864691136143425844,\n",
    "864691135570745581,\n",
    "864691135467600268,\n",
    "864691135382996203,\n",
    "864691135780852304,\n",
    "864691135382504922,\n",
    "864691135274155493,\n",
    "864691135617814415,\n",
    "864691136723342333,\n",
    "864691135403794158,\n",
    "864691136236789519,\n",
    "864691136617172443,\n",
    "864691135345280671,\n",
    "864691135939679654,\n",
    "864691136008595118,\n",
    "864691136333829811,\n",
    "864691134947393276,\n",
    "864691135865549445,\n",
    "864691135589917707,\n",
    "864691135155574372,\n",
    "864691135654121154,\n",
    "864691135577031173,\n",
    "864691135065032772,\n",
    "864691135654122946,\n",
    "864691136008495788,\n",
    "864691135593563947,\n",
    "864691135617824143,\n",
    "864691135974471279,\n",
    "864691136451116031,\n",
    "864691135345276831,\n",
    "864691135609493511,\n",
    "864691136023802169,\n",
    "864691135337764326,\n",
    "864691135407333321,\n",
    "864691135883918448,\n",
    "864691135337796326,\n",
    "864691135583739512,\n",
    "864691135394014197,\n",
    "864691135855566638,\n",
    "864691135730176441,\n",
    "864691135847950686,\n",
    "864691135065033540,\n",
    "864691136328919786,\n",
    "864691135576999941,\n",
    "864691135725648447,\n",
    "864691135909747369,\n",
    "864691135866433814,\n",
    "864691135526113627,\n",
    "864691135568932230,\n",
    "864691135526114907,\n",
    "864691135462301853,\n",
    "864691135758492238,\n",
    "864691135686909664,\n",
    "864691135462292893,\n",
    "864691135502075061,\n",
    "864691135873642126,\n",
    "864691135345274271,\n",
    "864691135865528197,\n",
    "864691136451095295,\n",
    "864691136309708378,\n",
    "864691136286605763,\n",
    "864691135081756919,\n",
    "864691136925391690,\n",
    "864691137196946497,\n",
    "864691135569052038,\n",
    "864691135593565995,\n",
    "864691135583731320,\n",
    "864691135654070210,\n",
    "864691135644583919,\n",
    "864691135490263655,\n",
    "864691136521606033,\n",
    "864691135210078912,\n",
    "864691135615814761,\n",
    "864691135753746381,\n",
    "864691135428492848,\n",
    "864691135609477127,\n",
    "864691135937436725,\n",
    "864691137196956993,\n",
    "    \n",
    "]"
   ]
  },
  {
   "cell_type": "code",
   "execution_count": null,
   "metadata": {},
   "outputs": [],
   "source": [
    "segment_ids = two_soma_segment_ids_new + three_soma_segment_ids_new"
   ]
  },
  {
   "cell_type": "markdown",
   "metadata": {},
   "source": [
    "# Doing the Downloading and Insertion"
   ]
  },
  {
   "cell_type": "code",
   "execution_count": null,
   "metadata": {},
   "outputs": [],
   "source": [
    "three_soma_segment_ids_new"
   ]
  },
  {
   "cell_type": "code",
   "execution_count": null,
   "metadata": {},
   "outputs": [],
   "source": [
    "minnie,_ = du.configure_minnie_vm()\n",
    "missing_ids = (minnie.MultiSomaProofread2.proj() - minnie.Mesh.proj()).fetch(\"segment_id\")\n",
    "missing_ids"
   ]
  },
  {
   "cell_type": "code",
   "execution_count": null,
   "metadata": {},
   "outputs": [],
   "source": [
    "n_threads = 9\n",
    "du.download_and_insert_allen_meshes(missing_ids,n_threads=n_threads,\n",
    "                                    insert_in_multi_soma_table=False)"
   ]
  },
  {
   "cell_type": "markdown",
   "metadata": {},
   "source": [
    "# Insert Segment IDs into a table that can control downstream analysis"
   ]
  },
  {
   "cell_type": "code",
   "execution_count": null,
   "metadata": {},
   "outputs": [],
   "source": [
    "\"\"\"  Need to insert \"\"\""
   ]
  },
  {
   "cell_type": "code",
   "execution_count": null,
   "metadata": {},
   "outputs": [],
   "source": [
    "minnie,schema = du.configure_minnie_vm()\n",
    "import datajoint as dj"
   ]
  },
  {
   "cell_type": "code",
   "execution_count": null,
   "metadata": {},
   "outputs": [],
   "source": []
  },
  {
   "cell_type": "code",
   "execution_count": null,
   "metadata": {},
   "outputs": [],
   "source": [
    "@schema\n",
    "class MultiSomaProofread2(dj.Manual):\n",
    "    definition=\"\"\"\n",
    "    segment_id : bigint unsigned  #segment id for those to be decimated\n",
    "    ---\n",
    "    n_somas : int #the number of somas associated with the neuron from the Allen Institute\n",
    "    \"\"\"\n",
    "    \n",
    "    \n",
    "dict_of_seg_2_soma = [dict(segment_id=k,n_somas=2) for k in two_soma_segment_ids_new]\n",
    "dict_of_seg_3_soma = [dict(segment_id=k,n_somas=3) for k in three_soma_segment_ids_new]\n",
    "MultiSomaProofread2.insert(dict_of_seg_2_soma + dict_of_seg_3_soma,skip_duplicates=True)\n",
    "MultiSomaProofread2()"
   ]
  },
  {
   "cell_type": "code",
   "execution_count": null,
   "metadata": {},
   "outputs": [],
   "source": [
    "minnie.Mesh & (MultiSomaProofread2 & dict(n_somas=3)).proj()"
   ]
  },
  {
   "cell_type": "code",
   "execution_count": null,
   "metadata": {},
   "outputs": [],
   "source": [
    "multi_soma_2_data = minnie.MultiSomaProofread2.fetch()"
   ]
  },
  {
   "cell_type": "code",
   "execution_count": null,
   "metadata": {},
   "outputs": [],
   "source": [
    "import pandas_utils as pu\n",
    "import pandas as pd\n",
    "import system_utils as su"
   ]
  },
  {
   "cell_type": "code",
   "execution_count": null,
   "metadata": {},
   "outputs": [],
   "source": [
    "multi_soma_2_data = minnie.MultiSomaProofread2.fetch()\n",
    "multi_soma_2_df = pd.DataFrame.from_dict(multi_soma_2_data)\n",
    "su.compressed_pickle(multi_soma_2_df,\"MultiSomaProofread2\")"
   ]
  },
  {
   "cell_type": "code",
   "execution_count": null,
   "metadata": {},
   "outputs": [],
   "source": [
    "multi_soma_2_data = minnie.MultiSomaProofread.fetch()\n",
    "multi_soma_2_df = pd.DataFrame.from_dict(multi_soma_2_data)\n",
    "su.compressed_pickle(multi_soma_2_df,\"MultiSomaProofread\")"
   ]
  },
  {
   "cell_type": "markdown",
   "metadata": {},
   "source": [
    "# Redoing the download for new segments"
   ]
  },
  {
   "cell_type": "code",
   "execution_count": null,
   "metadata": {},
   "outputs": [],
   "source": [
    "two_somas_21 = [864691136951653599,\n",
    "864691135012571126,\n",
    "864691136723421693,\n",
    "864691136039382526,\n",
    "864691136008578990,\n",
    "864691135718447153,\n",
    "864691135538077554,\n",
    "864691135440585800,\n",
    "864691135724299179,\n",
    "864691135474614848,\n",
    "864691135341171909,\n",
    "864691136091147700,\n",
    "864691135771720779,\n",
    "864691135403709422,\n",
    "864691136065225112,\n",
    "864691136008500908,\n",
    "864691135345291423,\n",
    "864691136618586765,\n",
    "864691135345134239,\n",
    "864691135975576131,\n",
    "864691136065514648,\n",
    "864691135373423816,\n",
    "864691136390485119,\n",
    "864691135065018692,\n",
    "864691135740250731,\n",
    "864691135012398582,\n",
    "864691136922748900,\n",
    "864691136908675694,\n",
    "               ]"
   ]
  },
  {
   "cell_type": "code",
   "execution_count": null,
   "metadata": {},
   "outputs": [],
   "source": [
    "three_soma_21 = [864691135699307810,\n",
    "864691135939303681,\n",
    "864691135815508815,\n",
    "864691135373436616,\n",
    "864691135837279635,\n",
    "864691135780852304,\n",
    "864691135403794158,\n",
    "864691136236789519,\n",
    "864691135345280671,\n",
    "864691135939679654,\n",
    "864691136008595118,\n",
    "864691135589917707,\n",
    "864691135654121154,\n",
    "864691135577031173,\n",
    "864691135065032772,\n",
    "864691135593563947,\n",
    "864691136617159131,\n",
    "864691135974471279,\n",
    "864691135526113627,\n",
    "864691135847950686,\n",
    "864691135568932230,\n",
    "864691135686909664,\n",
    "864691135345274271,\n",
    "864691135865528197,\n",
    "864691135866433814,\n",
    "864691135855566638,\n",
    "864691136925391690,\n",
    "864691137196946497,\n",
    "864691135593565995,\n",
    "864691135490263655,\n",
    "864691136521606033,\n",
    "864691135210078912,\n",
    "864691135615814761,\n",
    "864691135526114907,\n",
    "864691135428492848,\n",
    "864691135609477127,\n",
    "864691135937436725,\n",
    "864691137196956993,\n",
    "864691136309708378]"
   ]
  },
  {
   "cell_type": "code",
   "execution_count": null,
   "metadata": {},
   "outputs": [],
   "source": [
    "segment_ids = two_somas_21 + three_soma_21"
   ]
  },
  {
   "cell_type": "code",
   "execution_count": null,
   "metadata": {
    "scrolled": true
   },
   "outputs": [],
   "source": [
    "minnie,_ = du.configure_minnie_vm()\n",
    "missing_ids = (minnie.MultiSomaProofread2.proj() - minnie.Mesh.proj()).fetch(\"segment_id\")\n",
    "missing_ids"
   ]
  },
  {
   "cell_type": "code",
   "execution_count": null,
   "metadata": {},
   "outputs": [],
   "source": [
    "len(missing_ids)"
   ]
  },
  {
   "cell_type": "code",
   "execution_count": null,
   "metadata": {},
   "outputs": [],
   "source": [
    "minnie.MultiSomaProofread.drop()"
   ]
  },
  {
   "cell_type": "code",
   "execution_count": null,
   "metadata": {},
   "outputs": [],
   "source": [
    "import datajoint as dj"
   ]
  },
  {
   "cell_type": "code",
   "execution_count": null,
   "metadata": {},
   "outputs": [],
   "source": [
    "@schema\n",
    "class MultiSomaProofread2(dj.Manual):\n",
    "    definition=\"\"\"\n",
    "    segment_id : bigint unsigned  #segment id for those to be decimated\n",
    "    ---\n",
    "    n_somas : int #the number of somas associated with the neuron from the Allen Institute\n",
    "    \"\"\"\n",
    "    \n",
    "    \n",
    "dict_of_seg_2_soma = [dict(segment_id=k,n_somas=2) for k in two_somas_21]\n",
    "dict_of_seg_3_soma = [dict(segment_id=k,n_somas=3) for k in three_soma_21]\n",
    "MultiSomaProofread2.insert(dict_of_seg_2_soma + dict_of_seg_3_soma,skip_duplicates=True)\n",
    "MultiSomaProofread2()"
   ]
  },
  {
   "cell_type": "code",
   "execution_count": null,
   "metadata": {},
   "outputs": [],
   "source": [
    "minnie.Mesh & MultiSomaProofread2.proj()"
   ]
  },
  {
   "cell_type": "code",
   "execution_count": null,
   "metadata": {},
   "outputs": [],
   "source": [
    "import datajoint as dj\n",
    "dj.__version__"
   ]
  },
  {
   "cell_type": "code",
   "execution_count": null,
   "metadata": {},
   "outputs": [],
   "source": [
    "n_threads = 9\n",
    "du.download_and_insert_allen_meshes(missing_ids,n_threads=n_threads,\n",
    "                                    insert_in_multi_soma_table=False)"
   ]
  },
  {
   "cell_type": "code",
   "execution_count": null,
   "metadata": {},
   "outputs": [],
   "source": [
    "minnie.Mesh() & minnie.MultiSomaProofread2.proj()"
   ]
  },
  {
   "cell_type": "markdown",
   "metadata": {},
   "source": [
    "# Generating the Allen Proofread Cells 1/28"
   ]
  },
  {
   "cell_type": "code",
   "execution_count": 8,
   "metadata": {},
   "outputs": [],
   "source": [
    "double_soma_1_28 = [864691136672813959,\n",
    "864691136951653599,\n",
    "864691135696109210,\n",
    "864691136039382526,\n",
    "864691135345140895,\n",
    "864691135210077120,\n",
    "864691134964412191,\n",
    "864691136008578990,\n",
    "864691135510515408,\n",
    "864691135718447153,\n",
    "864691135162240557,\n",
    "864691135724299179,\n",
    "864691136056568536,\n",
    "864691135474614848,\n",
    "864691135341171909,\n",
    "864691136091147700,\n",
    "864691137196942401,\n",
    "864691135403709422,\n",
    "864691135609476359,\n",
    "864691135155711844,\n",
    "864691135544409384,\n",
    "864691135700441723,\n",
    "864691136065225112,\n",
    "864691135345291423,\n",
    "864691136618586765,\n",
    "864691135345134239,\n",
    "864691137196949569,\n",
    "864691135975576131,\n",
    "864691136311815229,\n",
    "864691135373423816,\n",
    "864691136311803709,\n",
    "864691136065514648,\n",
    "864691136486808850,\n",
    "864691136008511148,\n",
    "864691136296681243,\n",
    "864691135571307557,\n",
    "864691135654120898,\n",
    "864691136922900452,\n",
    "864691135012398582,\n",
    "864691136922748900,\n",
    "864691136090951092,\n",
    "864691136908675694,\n",
    "                   ]"
   ]
  },
  {
   "cell_type": "code",
   "execution_count": 9,
   "metadata": {},
   "outputs": [
    {
     "data": {
      "text/plain": [
       "23"
      ]
     },
     "execution_count": 9,
     "metadata": {},
     "output_type": "execute_result"
    }
   ],
   "source": [
    "triple_soma_1_28 = [864691136209271740,\n",
    "864691135341203141,\n",
    "864691135373436616,\n",
    "864691135837279635,\n",
    "864691135780852304,\n",
    "864691135403794158,\n",
    "864691136236789519,\n",
    "864691135345280671,\n",
    "864691136175165190,\n",
    "864691136008595118,\n",
    "864691135382504922,\n",
    "864691135654121154,\n",
    "864691136617159131,\n",
    "864691135937310468,\n",
    "864691135568932230,\n",
    "864691135462292893,\n",
    "864691135937302020,\n",
    "864691136925391690,\n",
    "864691137196946497,\n",
    "864691135462454941,\n",
    "864691135502074805,\n",
    "864691135571346725,\n",
    "864691135753746381]\n",
    "\n",
    "len(triple_soma_1_28)"
   ]
  },
  {
   "cell_type": "code",
   "execution_count": 10,
   "metadata": {},
   "outputs": [],
   "source": [
    "import datajoint as dj"
   ]
  },
  {
   "cell_type": "code",
   "execution_count": 13,
   "metadata": {},
   "outputs": [
    {
     "name": "stdout",
     "output_type": "stream",
     "text": [
      "`microns_minnie65_02`.`allen_proofreading` (0 tuples)\n",
      "Proceed? [yes, No]: yes\n"
     ]
    },
    {
     "name": "stderr",
     "output_type": "stream",
     "text": [
      "INFO - 2021-02-01 18:37:06,712 - table - Dropped table `microns_minnie65_02`.`allen_proofreading`\n"
     ]
    },
    {
     "name": "stdout",
     "output_type": "stream",
     "text": [
      "Tables dropped.  Restart kernel.\n"
     ]
    }
   ],
   "source": [
    "AllenProofreading.drop()"
   ]
  },
  {
   "cell_type": "code",
   "execution_count": 16,
   "metadata": {},
   "outputs": [
    {
     "data": {
      "text/html": [
       "\n",
       "        \n",
       "        <style type=\"text/css\">\n",
       "            .Relation{\n",
       "                border-collapse:collapse;\n",
       "            }\n",
       "            .Relation th{\n",
       "                background: #A0A0A0; color: #ffffff; padding:4px; border:#f0e0e0 1px solid;\n",
       "                font-weight: normal; font-family: monospace; font-size: 100%;\n",
       "            }\n",
       "            .Relation td{\n",
       "                padding:4px; border:#f0e0e0 1px solid; font-size:100%;\n",
       "            }\n",
       "            .Relation tr:nth-child(odd){\n",
       "                background: #ffffff;\n",
       "            }\n",
       "            .Relation tr:nth-child(even){\n",
       "                background: #f3f1ff;\n",
       "            }\n",
       "            /* Tooltip container */\n",
       "            .djtooltip {\n",
       "            }\n",
       "            /* Tooltip text */\n",
       "            .djtooltip .djtooltiptext {\n",
       "                visibility: hidden;\n",
       "                width: 120px;\n",
       "                background-color: black;\n",
       "                color: #fff;\n",
       "                text-align: center;\n",
       "                padding: 5px 0;\n",
       "                border-radius: 6px;\n",
       "                /* Position the tooltip text - see examples below! */\n",
       "                position: absolute;\n",
       "                z-index: 1;\n",
       "            }\n",
       "            #primary {\n",
       "                font-weight: bold;\n",
       "                color: black;\n",
       "            }\n",
       "\n",
       "            #nonprimary {\n",
       "                font-weight: normal;\n",
       "                color: white;\n",
       "            }\n",
       "\n",
       "            /* Show the tooltip text when you mouse over the tooltip container */\n",
       "            .djtooltip:hover .djtooltiptext {\n",
       "                visibility: visible;\n",
       "            }\n",
       "        </style>\n",
       "        \n",
       "        <b></b>\n",
       "            <div style=\"max-height:1000px;max-width:1500px;overflow:auto;\">\n",
       "            <table border=\"1\" class=\"Relation\">\n",
       "                <thead> <tr style=\"text-align: right;\"> <th> <div class=\"djtooltip\">\n",
       "                                <p id=\"primary\">segment_id</p>\n",
       "                                <span class=\"djtooltiptext\">segment id for those to be decimated</span>\n",
       "                            </div></th><th><div class=\"djtooltip\">\n",
       "                                <p id=\"primary\">month</p>\n",
       "                                <span class=\"djtooltiptext\">the month that the cell was added</span>\n",
       "                            </div></th><th><div class=\"djtooltip\">\n",
       "                                <p id=\"primary\">day</p>\n",
       "                                <span class=\"djtooltiptext\">the day that the cell was added</span>\n",
       "                            </div></th><th><div class=\"djtooltip\">\n",
       "                                <p id=\"primary\">year</p>\n",
       "                                <span class=\"djtooltiptext\">the year that the cell was added</span>\n",
       "                            </div></th><th><div class=\"djtooltip\">\n",
       "                                <p id=\"nonprimary\">n_somas</p>\n",
       "                                <span class=\"djtooltiptext\">the number of somas associated with the neuron from the Allen Institute</span>\n",
       "                            </div> </th> </tr> </thead>\n",
       "                <tbody> <tr> <td>864691134964412191</td>\n",
       "<td>1</td>\n",
       "<td>28</td>\n",
       "<td>2021</td>\n",
       "<td>2</td></tr><tr><td>864691135012398582</td>\n",
       "<td>1</td>\n",
       "<td>28</td>\n",
       "<td>2021</td>\n",
       "<td>2</td></tr><tr><td>864691135155711844</td>\n",
       "<td>1</td>\n",
       "<td>28</td>\n",
       "<td>2021</td>\n",
       "<td>2</td></tr><tr><td>864691135162240557</td>\n",
       "<td>1</td>\n",
       "<td>28</td>\n",
       "<td>2021</td>\n",
       "<td>2</td></tr><tr><td>864691135210077120</td>\n",
       "<td>1</td>\n",
       "<td>28</td>\n",
       "<td>2021</td>\n",
       "<td>2</td></tr><tr><td>864691135341171909</td>\n",
       "<td>1</td>\n",
       "<td>28</td>\n",
       "<td>2021</td>\n",
       "<td>2</td></tr><tr><td>864691135341203141</td>\n",
       "<td>1</td>\n",
       "<td>28</td>\n",
       "<td>2021</td>\n",
       "<td>3</td></tr><tr><td>864691135345134239</td>\n",
       "<td>1</td>\n",
       "<td>28</td>\n",
       "<td>2021</td>\n",
       "<td>2</td></tr><tr><td>864691135345140895</td>\n",
       "<td>1</td>\n",
       "<td>28</td>\n",
       "<td>2021</td>\n",
       "<td>2</td></tr><tr><td>864691135345280671</td>\n",
       "<td>1</td>\n",
       "<td>28</td>\n",
       "<td>2021</td>\n",
       "<td>3</td></tr><tr><td>864691135345291423</td>\n",
       "<td>1</td>\n",
       "<td>28</td>\n",
       "<td>2021</td>\n",
       "<td>2</td></tr><tr><td>864691135373423816</td>\n",
       "<td>1</td>\n",
       "<td>28</td>\n",
       "<td>2021</td>\n",
       "<td>2</td> </tr> </tbody>\n",
       "            </table>\n",
       "            <p>...</p>\n",
       "            <p>Total: 65</p></div>\n",
       "            "
      ],
      "text/plain": [
       "*segment_id    *month    *day    *year    n_somas    \n",
       "+------------+ +-------+ +-----+ +------+ +---------+\n",
       "86469113496441 1         28      2021     2          \n",
       "86469113501239 1         28      2021     2          \n",
       "86469113515571 1         28      2021     2          \n",
       "86469113516224 1         28      2021     2          \n",
       "86469113521007 1         28      2021     2          \n",
       "86469113534117 1         28      2021     2          \n",
       "86469113534120 1         28      2021     3          \n",
       "86469113534513 1         28      2021     2          \n",
       "86469113534514 1         28      2021     2          \n",
       "86469113534528 1         28      2021     3          \n",
       "86469113534529 1         28      2021     2          \n",
       "86469113537342 1         28      2021     2          \n",
       "   ...\n",
       " (Total: 65)"
      ]
     },
     "execution_count": 16,
     "metadata": {},
     "output_type": "execute_result"
    }
   ],
   "source": [
    "@schema\n",
    "class AllenProofreading(dj.Manual):\n",
    "    definition=\"\"\"\n",
    "    segment_id : bigint unsigned  #segment id for those to be decimated\n",
    "    month: tinyint #the month that the cell was added\n",
    "    day: tinyint #the day that the cell was added \n",
    "    year: int unsigned  #the year that the cell was added\n",
    "    ---\n",
    "    n_somas : int #the number of somas associated with the neuron from the Allen Institute\n",
    "    \n",
    "    \"\"\"\n",
    "month = 1\n",
    "day = 28\n",
    "year = 2021\n",
    "    \n",
    "dict_of_seg_2_soma = [dict(segment_id=k,n_somas=2,month=month,day=day,year=year) for k in double_soma_1_28]\n",
    "dict_of_seg_3_soma = [dict(segment_id=k,n_somas=3,month=month,day=day,year=year) for k in triple_soma_1_28]\n",
    "AllenProofreading.insert(dict_of_seg_2_soma + dict_of_seg_3_soma,skip_duplicates=True)\n",
    "AllenProofreading() & dict(month=1,day=28,year=2021)"
   ]
  },
  {
   "cell_type": "code",
   "execution_count": null,
   "metadata": {},
   "outputs": [],
   "source": []
  }
 ],
 "metadata": {
  "kernelspec": {
   "display_name": "Python 3",
   "language": "python",
   "name": "python3"
  },
  "language_info": {
   "codemirror_mode": {
    "name": "ipython",
    "version": 3
   },
   "file_extension": ".py",
   "mimetype": "text/x-python",
   "name": "python",
   "nbconvert_exporter": "python",
   "pygments_lexer": "ipython3",
   "version": "3.6.9"
  }
 },
 "nbformat": 4,
 "nbformat_minor": 4
}
