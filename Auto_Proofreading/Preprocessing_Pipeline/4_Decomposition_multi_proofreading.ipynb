{
 "cells": [
  {
   "cell_type": "code",
   "execution_count": null,
   "metadata": {},
   "outputs": [],
   "source": [
    "\"\"\"\n",
    "Purpose: To decompose the multi-somas for splitting\n",
    "using the new decomposition method\n",
    "\n",
    "\n",
    "\n",
    "\"\"\"\n"
   ]
  },
  {
   "cell_type": "code",
   "execution_count": 1,
   "metadata": {},
   "outputs": [
    {
     "name": "stderr",
     "output_type": "stream",
     "text": [
      "INFO - 2021-01-08 03:37:35,108 - settings - Setting database.host to at-database.ad.bcm.edu\n",
      "INFO - 2021-01-08 03:37:35,110 - settings - Setting database.user to celiib\n",
      "INFO - 2021-01-08 03:37:35,110 - settings - Setting database.password to newceliipass\n",
      "INFO - 2021-01-08 03:37:35,119 - settings - Setting stores to {'minnie65': {'protocol': 'file', 'location': '/mnt/dj-stor01/platinum/minnie65', 'stage': '/mnt/dj-stor01/platinum/minnie65'}, 'meshes': {'protocol': 'file', 'location': '/mnt/dj-stor01/platinum/minnie65/02/meshes', 'stage': '/mnt/dj-stor01/platinum/minnie65/02/meshes'}, 'decimated_meshes': {'protocol': 'file', 'location': '/mnt/dj-stor01/platinum/minnie65/02/decimated_meshes', 'stage': '/mnt/dj-stor01/platinum/minnie65/02/decimated_meshes'}, 'skeletons': {'protocol': 'file', 'location': '/mnt/dj-stor01/platinum/minnie65/02/skeletons'}}\n",
      "INFO - 2021-01-08 03:37:35,120 - settings - Setting enable_python_native_blobs to True\n",
      "INFO - 2021-01-08 03:37:35,131 - connection - Connected celiib@at-database.ad.bcm.edu:3306\n"
     ]
    },
    {
     "name": "stdout",
     "output_type": "stream",
     "text": [
      "Connecting celiib@at-database.ad.bcm.edu:3306\n"
     ]
    },
    {
     "name": "stderr",
     "output_type": "stream",
     "text": [
      "INFO - 2021-01-08 03:37:35,368 - settings - Setting enable_python_native_blobs to True\n"
     ]
    }
   ],
   "source": [
    "import numpy as np\n",
    "import datajoint as dj\n",
    "import trimesh\n",
    "from tqdm.notebook import tqdm\n",
    "from pathlib import Path\n",
    "\n",
    "from os import sys\n",
    "sys.path.append(\"/meshAfterParty/\")\n",
    "\n",
    "import datajoint_utils as du\n",
    "from importlib import reload"
   ]
  },
  {
   "cell_type": "code",
   "execution_count": 2,
   "metadata": {},
   "outputs": [],
   "source": [
    "test_mode = False"
   ]
  },
  {
   "cell_type": "code",
   "execution_count": 3,
   "metadata": {},
   "outputs": [
    {
     "name": "stderr",
     "output_type": "stream",
     "text": [
      "INFO - 2021-01-08 03:37:35,401 - settings - Setting database.host to at-database.ad.bcm.edu\n",
      "INFO - 2021-01-08 03:37:35,403 - settings - Setting database.user to celiib\n",
      "INFO - 2021-01-08 03:37:35,404 - settings - Setting database.password to newceliipass\n",
      "INFO - 2021-01-08 03:37:35,408 - settings - Setting enable_python_native_blobs to True\n"
     ]
    },
    {
     "name": "stdout",
     "output_type": "stream",
     "text": [
      "Sleeping 117 sec before conneting\n",
      "Done sleeping\n",
      "Current path for external_segmentation_path = /mnt/dj-stor01/platinum/minnie65/02\n",
      "Current path for external_mesh_path = /mnt/dj-stor01/platinum/minnie65/02/meshes\n",
      "Current path for external_decimated_mesh_path = /mnt/dj-stor01/platinum/minnie65/02/decimated_meshes\n",
      "Current path for external_skeleton_path = /mnt/dj-stor01/platinum/minnie65/02/skeletons\n"
     ]
    },
    {
     "name": "stderr",
     "output_type": "stream",
     "text": [
      "INFO - 2021-01-08 03:37:35,653 - settings - Setting enable_python_native_blobs to True\n"
     ]
    }
   ],
   "source": [
    "import minfig\n",
    "import time\n",
    "import numpy as np\n",
    "#want to add in a wait for the connection part\n",
    "random_sleep_sec = np.random.randint(0, 200)\n",
    "print(f\"Sleeping {random_sleep_sec} sec before conneting\")\n",
    "if not test_mode:\n",
    "    time.sleep(random_sleep_sec)\n",
    "print(\"Done sleeping\")\n",
    "\n",
    "du.config_celii()\n",
    "du.set_minnie65_config_segmentation(minfig)\n",
    "du.print_minnie65_config_paths(minfig)\n",
    "\n",
    "#configuring will include the adapters\n",
    "minnie,schema = du.configure_minnie_vm()"
   ]
  },
  {
   "cell_type": "markdown",
   "metadata": {},
   "source": [
    "# Defining the Table"
   ]
  },
  {
   "cell_type": "code",
   "execution_count": 4,
   "metadata": {},
   "outputs": [],
   "source": [
    "import neuron_utils as nru\n",
    "import neuron\n",
    "import trimesh_utils as tu\n",
    "import numpy as np"
   ]
  },
  {
   "cell_type": "code",
   "execution_count": 5,
   "metadata": {},
   "outputs": [
    {
     "name": "stdout",
     "output_type": "stream",
     "text": [
      "No port chosen so picked random port 4076\n"
     ]
    }
   ],
   "source": [
    "import meshlab\n",
    "meshlab.set_meshlab_port(current_port=None)"
   ]
  },
  {
   "cell_type": "code",
   "execution_count": 6,
   "metadata": {},
   "outputs": [],
   "source": [
    "#so that it will have the adapter defined\n",
    "from datajoint_utils import *"
   ]
  },
  {
   "cell_type": "code",
   "execution_count": 7,
   "metadata": {},
   "outputs": [
    {
     "data": {
      "text/html": [
       "\n",
       "        \n",
       "        <style type=\"text/css\">\n",
       "            .Relation{\n",
       "                border-collapse:collapse;\n",
       "            }\n",
       "            .Relation th{\n",
       "                background: #A0A0A0; color: #ffffff; padding:4px; border:#f0e0e0 1px solid;\n",
       "                font-weight: normal; font-family: monospace; font-size: 100%;\n",
       "            }\n",
       "            .Relation td{\n",
       "                padding:4px; border:#f0e0e0 1px solid; font-size:100%;\n",
       "            }\n",
       "            .Relation tr:nth-child(odd){\n",
       "                background: #ffffff;\n",
       "            }\n",
       "            .Relation tr:nth-child(even){\n",
       "                background: #f3f1ff;\n",
       "            }\n",
       "            /* Tooltip container */\n",
       "            .djtooltip {\n",
       "            }\n",
       "            /* Tooltip text */\n",
       "            .djtooltip .djtooltiptext {\n",
       "                visibility: hidden;\n",
       "                width: 120px;\n",
       "                background-color: black;\n",
       "                color: #fff;\n",
       "                text-align: center;\n",
       "                padding: 5px 0;\n",
       "                border-radius: 6px;\n",
       "                /* Position the tooltip text - see examples below! */\n",
       "                position: absolute;\n",
       "                z-index: 1;\n",
       "            }\n",
       "            #primary {\n",
       "                font-weight: bold;\n",
       "                color: black;\n",
       "            }\n",
       "\n",
       "            #nonprimary {\n",
       "                font-weight: normal;\n",
       "                color: white;\n",
       "            }\n",
       "\n",
       "            /* Show the tooltip text when you mouse over the tooltip container */\n",
       "            .djtooltip:hover .djtooltiptext {\n",
       "                visibility: visible;\n",
       "            }\n",
       "        </style>\n",
       "        \n",
       "        \n",
       "            <div style=\"max-height:1000px;max-width:1500px;overflow:auto;\">\n",
       "            <table border=\"1\" class=\"Relation\">\n",
       "                <thead> <tr style=\"text-align: right;\"> <th> <div class=\"djtooltip\">\n",
       "                                <p id=\"primary\">segment_id</p>\n",
       "                                <span class=\"djtooltiptext\">segment id unique within each Segmentation</span>\n",
       "                            </div></th><th><div class=\"djtooltip\">\n",
       "                                <p id=\"primary\">decimation_version</p>\n",
       "                                <span class=\"djtooltiptext\"></span>\n",
       "                            </div></th><th><div class=\"djtooltip\">\n",
       "                                <p id=\"primary\">decimation_ratio</p>\n",
       "                                <span class=\"djtooltiptext\">ratio of remaining mesh vertices/faces (which ones depends on what metric the decimation technique uses)</span>\n",
       "                            </div> </th> </tr> </thead>\n",
       "                <tbody> <tr> <td>864691134947393276</td>\n",
       "<td>0</td>\n",
       "<td>0.25</td></tr><tr><td>864691135012398582</td>\n",
       "<td>0</td>\n",
       "<td>0.25</td></tr><tr><td>864691135012571126</td>\n",
       "<td>0</td>\n",
       "<td>0.25</td></tr><tr><td>864691135012905110</td>\n",
       "<td>0</td>\n",
       "<td>0.25</td></tr><tr><td>864691135065018692</td>\n",
       "<td>0</td>\n",
       "<td>0.25</td></tr><tr><td>864691135065024068</td>\n",
       "<td>0</td>\n",
       "<td>0.25</td></tr><tr><td>864691135065032772</td>\n",
       "<td>0</td>\n",
       "<td>0.25</td></tr><tr><td>864691135065033540</td>\n",
       "<td>0</td>\n",
       "<td>0.25</td></tr><tr><td>864691135081745143</td>\n",
       "<td>0</td>\n",
       "<td>0.25</td></tr><tr><td>864691135081756919</td>\n",
       "<td>0</td>\n",
       "<td>0.25</td></tr><tr><td>864691135155574372</td>\n",
       "<td>0</td>\n",
       "<td>0.25</td></tr><tr><td>864691135210051520</td>\n",
       "<td>0</td>\n",
       "<td>0.25</td> </tr> </tbody>\n",
       "            </table>\n",
       "            <p>...</p>\n",
       "            <p>Total: 138</p></div>\n",
       "            "
      ],
      "text/plain": [
       "*segment_id    *decimation_ve *decimation_ra\n",
       "+------------+ +------------+ +------------+\n",
       "86469113494739 0              0.25          \n",
       "86469113501239 0              0.25          \n",
       "86469113501257 0              0.25          \n",
       "86469113501290 0              0.25          \n",
       "86469113506501 0              0.25          \n",
       "86469113506502 0              0.25          \n",
       "86469113506503 0              0.25          \n",
       "86469113506503 0              0.25          \n",
       "86469113508174 0              0.25          \n",
       "86469113508175 0              0.25          \n",
       "86469113515557 0              0.25          \n",
       "86469113521005 0              0.25          \n",
       "   ...\n",
       " (Total: 138)"
      ]
     },
     "execution_count": 7,
     "metadata": {},
     "output_type": "execute_result"
    }
   ],
   "source": [
    "decimation_version = 0\n",
    "decimation_ratio = 0.25\n",
    "key_source = (minnie.Decimation().proj(decimation_version='version')  & \n",
    "                  dict(decimation_version=decimation_version,decimation_ratio=decimation_ratio)  \n",
    "                  & minnie.MultiSomaProofread2() & (dj.U(\"segment_id\") & (minnie.BaylorSegmentCentroid()).proj()))\n",
    "key_source"
   ]
  },
  {
   "cell_type": "code",
   "execution_count": 8,
   "metadata": {},
   "outputs": [],
   "source": [
    "import numpy as np\n",
    "import time\n",
    "decimation_version = 0\n",
    "decimation_ratio = 0.25\n",
    "\n",
    "@schema\n",
    "class Decomposition(dj.Computed):\n",
    "    definition=\"\"\"\n",
    "    -> minnie.Decimation.proj(decimation_version='version')\n",
    "    ver : decimal(6,2) #the version number of the materializaiton\n",
    "    ---\n",
    "    decomposition: <decomposition>\n",
    "    n_vertices           : int unsigned                 # number of vertices\n",
    "    n_faces              : int unsigned                 # number of faces\n",
    "    n_error_limbs: int #the number of limbs that are touching multiple somas or 1 soma in multiple places\n",
    "    n_same_soma_multi_touching_limbs: int # number of limbs that touch the same soma multiple times\n",
    "    n_multi_soma_touching_limbs: int # number of limbs that touch multiple somas\n",
    "    n_somas: int #number of soma meshes detected\n",
    "    n_limbs: int\n",
    "    n_branches: int\n",
    "    max_limb_n_branches=NULL:int\n",
    "    \n",
    "    skeletal_length=NULL: double\n",
    "    max_limb_skeletal_length=NULL:double\n",
    "    median_branch_length=NULL:double #gives information on average skeletal length to next branch point\n",
    "    \n",
    "    \n",
    "    width_median=NULL: double #median width from mesh center without spines removed\n",
    "    width_no_spine_median=NULL: double #median width from mesh center with spines removed\n",
    "    width_90_perc=NULL: double # 90th percentile for width without spines removed\n",
    "    width_no_spine_90_perc=NULL: double  # 90th percentile for width with spines removed\n",
    "    \n",
    "    \n",
    "    n_spines: bigint\n",
    "\n",
    "    spine_density=NULL: double # n_spines/ skeletal_length\n",
    "    spines_per_branch=NULL: double\n",
    "    \n",
    "    skeletal_length_eligible=NULL: double # the skeletal length for all branches searched for spines\n",
    "    n_spine_eligible_branches=NULL: int # the number of branches that were checked for spines because passed width threshold\n",
    "    \n",
    "    spine_density_eligible=NULL:double # n_spines/skeletal_length_eligible\n",
    "    spines_per_branch_eligible=NULL:double # n_spines/n_spine_eligible_branches\n",
    "    \n",
    "    total_spine_volume=NULL: double # the sum of all spine volume\n",
    "    spine_volume_median=NULL: double # median of the spine volume for those spines with able to calculate volume\n",
    "    spine_volume_density=NULL: double #total_spine_volume/skeletal_length\n",
    "    spine_volume_density_eligible=NULL: double #total_spine_volume/skeletal_length_eligible\n",
    "    spine_volume_per_branch_eligible=NULL: double #total_spine_volume/n_spine_eligible_branches\n",
    "    \n",
    "    run_time=NULL : double                   # the amount of time to run (seconds)\n",
    "\n",
    "    \n",
    "    \"\"\"\n",
    "\n",
    "\n",
    "    \n",
    "    key_source = (minnie.Decimation().proj(decimation_version='version')  & \n",
    "                  dict(decimation_version=decimation_version,decimation_ratio=decimation_ratio)  \n",
    "                  & minnie.MultiSomaProofread2() & (dj.U(\"segment_id\") & (minnie.BaylorSegmentCentroid()).proj()) \n",
    "\n",
    "    def make(self,key):\n",
    "        \"\"\"\n",
    "        Pseudocode for process:\n",
    "\n",
    "        1) Get the segment id from the key\n",
    "        2) Get the decimated mesh\n",
    "        3) Get the somas info\n",
    "        4) Run the preprocessing\n",
    "        5) Calculate all starter stats\n",
    "        6) Save the file in a certain location\n",
    "        7) Pass stats and file location to insert\n",
    "        \"\"\"\n",
    "        whole_pass_time = time.time()\n",
    "        #1) Get the segment id from the key\n",
    "        segment_id = key[\"segment_id\"]\n",
    "        description = str(key['decimation_version']) + \"_25\"\n",
    "        print(f\"\\n\\n----- Working on {segment_id}-------\")\n",
    "        global_start = time.time()\n",
    "        \n",
    "        #2) Get the decimated mesh\n",
    "        current_neuron_mesh = du.fetch_segment_id_mesh(segment_id)\n",
    "        \n",
    "\n",
    "        #3) Get the somas info *************************** Need to change this when actually run *******************\n",
    "        somas = du.get_soma_mesh_list(segment_id) \n",
    "        soma_ver = du.get_soma_mesh_list_ver(segment_id)\n",
    "        \n",
    "        print(f\"somas = {somas}\")\n",
    "        #4) Run the preprocessing\n",
    "\n",
    "\n",
    "        total_neuron_process_time = time.time()\n",
    "\n",
    "        print(f\"\\n--- Beginning preprocessing of {segment_id}---\")\n",
    "        recovered_neuron = neuron.Neuron(\n",
    "        mesh = current_neuron_mesh,\n",
    "        somas = somas,\n",
    "        segment_id=segment_id,\n",
    "        description=description,\n",
    "        suppress_preprocessing_print=False,\n",
    "        suppress_output=False,\n",
    "        calculate_spines=True,\n",
    "        widths_to_calculate=[\"no_spine_median_mesh_center\"]\n",
    "\n",
    "                )\n",
    "\n",
    "        print(f\"\\n\\n\\n---- Total preprocessing time = {time.time() - total_neuron_process_time}\")\n",
    "\n",
    "\n",
    "        #5) Don't have to do any of the processing anymore because will do in the neuron object\n",
    "        stats_dict = recovered_neuron.neuron_stats()\n",
    "\n",
    "\n",
    "\n",
    "        #6) Save the file in a certain location\n",
    "        save_time = time.time()\n",
    "        ret_file_path = recovered_neuron.save_compressed_neuron(output_folder=str(du.get_decomposition_path()),\n",
    "                                          return_file_path=True,\n",
    "                                         export_mesh=False,\n",
    "                                         suppress_output=True)\n",
    "\n",
    "        ret_file_path_str = str(ret_file_path.absolute()) + \".pbz2\"\n",
    "        print(f\"Save time = {time.time() - save_time}\")\n",
    "\n",
    "        #7) Pass stats and file location to insert\n",
    "        new_key = dict(key,\n",
    "                       ver = soma_ver,\n",
    "                       decomposition=ret_file_path_str,\n",
    "                       n_vertices=len(current_neuron_mesh.vertices),\n",
    "                       n_faces=len(current_neuron_mesh.faces),\n",
    "                       run_time=np.round(time.time() - whole_pass_time,4)\n",
    "                      )\n",
    "        new_key.update(stats_dict)\n",
    "\n",
    "        self.insert1(new_key, allow_direct_insert=True, skip_duplicates=True)\n",
    "\n",
    "        print(f\"\\n\\n ------ Total time for {segment_id} = {time.time() - global_start} ------\")\n",
    "    "
   ]
  },
  {
   "cell_type": "markdown",
   "metadata": {},
   "source": [
    "# Running the Populate"
   ]
  },
  {
   "cell_type": "code",
   "execution_count": 9,
   "metadata": {},
   "outputs": [
    {
     "data": {
      "text/html": [
       "\n",
       "        \n",
       "        <style type=\"text/css\">\n",
       "            .Relation{\n",
       "                border-collapse:collapse;\n",
       "            }\n",
       "            .Relation th{\n",
       "                background: #A0A0A0; color: #ffffff; padding:4px; border:#f0e0e0 1px solid;\n",
       "                font-weight: normal; font-family: monospace; font-size: 100%;\n",
       "            }\n",
       "            .Relation td{\n",
       "                padding:4px; border:#f0e0e0 1px solid; font-size:100%;\n",
       "            }\n",
       "            .Relation tr:nth-child(odd){\n",
       "                background: #ffffff;\n",
       "            }\n",
       "            .Relation tr:nth-child(even){\n",
       "                background: #f3f1ff;\n",
       "            }\n",
       "            /* Tooltip container */\n",
       "            .djtooltip {\n",
       "            }\n",
       "            /* Tooltip text */\n",
       "            .djtooltip .djtooltiptext {\n",
       "                visibility: hidden;\n",
       "                width: 120px;\n",
       "                background-color: black;\n",
       "                color: #fff;\n",
       "                text-align: center;\n",
       "                padding: 5px 0;\n",
       "                border-radius: 6px;\n",
       "                /* Position the tooltip text - see examples below! */\n",
       "                position: absolute;\n",
       "                z-index: 1;\n",
       "            }\n",
       "            #primary {\n",
       "                font-weight: bold;\n",
       "                color: black;\n",
       "            }\n",
       "\n",
       "            #nonprimary {\n",
       "                font-weight: normal;\n",
       "                color: white;\n",
       "            }\n",
       "\n",
       "            /* Show the tooltip text when you mouse over the tooltip container */\n",
       "            .djtooltip:hover .djtooltiptext {\n",
       "                visibility: visible;\n",
       "            }\n",
       "        </style>\n",
       "        \n",
       "        <b>job reservation table for `microns_minnie65_02`</b>\n",
       "            <div style=\"max-height:1000px;max-width:1500px;overflow:auto;\">\n",
       "            <table border=\"1\" class=\"Relation\">\n",
       "                <thead> <tr style=\"text-align: right;\"> <th> <div class=\"djtooltip\">\n",
       "                                <p id=\"primary\">table_name</p>\n",
       "                                <span class=\"djtooltiptext\">className of the table</span>\n",
       "                            </div></th><th><div class=\"djtooltip\">\n",
       "                                <p id=\"primary\">key_hash</p>\n",
       "                                <span class=\"djtooltiptext\">key hash</span>\n",
       "                            </div></th><th><div class=\"djtooltip\">\n",
       "                                <p id=\"nonprimary\">status</p>\n",
       "                                <span class=\"djtooltiptext\">if tuple is missing, the job is available</span>\n",
       "                            </div></th><th><div class=\"djtooltip\">\n",
       "                                <p id=\"nonprimary\">key</p>\n",
       "                                <span class=\"djtooltiptext\">structure containing the key</span>\n",
       "                            </div></th><th><div class=\"djtooltip\">\n",
       "                                <p id=\"nonprimary\">error_message</p>\n",
       "                                <span class=\"djtooltiptext\">error message returned if failed</span>\n",
       "                            </div></th><th><div class=\"djtooltip\">\n",
       "                                <p id=\"nonprimary\">error_stack</p>\n",
       "                                <span class=\"djtooltiptext\">error stack if failed</span>\n",
       "                            </div></th><th><div class=\"djtooltip\">\n",
       "                                <p id=\"nonprimary\">user</p>\n",
       "                                <span class=\"djtooltiptext\">database user</span>\n",
       "                            </div></th><th><div class=\"djtooltip\">\n",
       "                                <p id=\"nonprimary\">host</p>\n",
       "                                <span class=\"djtooltiptext\">system hostname</span>\n",
       "                            </div></th><th><div class=\"djtooltip\">\n",
       "                                <p id=\"nonprimary\">pid</p>\n",
       "                                <span class=\"djtooltiptext\">system process id</span>\n",
       "                            </div></th><th><div class=\"djtooltip\">\n",
       "                                <p id=\"nonprimary\">connection_id</p>\n",
       "                                <span class=\"djtooltiptext\">connection_id()</span>\n",
       "                            </div></th><th><div class=\"djtooltip\">\n",
       "                                <p id=\"nonprimary\">timestamp</p>\n",
       "                                <span class=\"djtooltiptext\">automatic timestamp</span>\n",
       "                            </div> </th> </tr> </thead>\n",
       "                <tbody> <tr> <td>__decomposition</td>\n",
       "<td>00471f14c125b842baffaf6ebff1eed1</td>\n",
       "<td>reserved</td>\n",
       "<td>=BLOB=</td>\n",
       "<td></td>\n",
       "<td>=BLOB=</td>\n",
       "<td>celiib@10.28.0.129</td>\n",
       "<td>at-node2</td>\n",
       "<td>29</td>\n",
       "<td>25193</td>\n",
       "<td>2021-01-07 20:31:24</td></tr><tr><td>__decomposition</td>\n",
       "<td>12dc98a8b9a21eadf99f39bdbf6efd06</td>\n",
       "<td>reserved</td>\n",
       "<td>=BLOB=</td>\n",
       "<td></td>\n",
       "<td>=BLOB=</td>\n",
       "<td>celiib@10.28.0.165</td>\n",
       "<td>at-node38</td>\n",
       "<td>30</td>\n",
       "<td>25188</td>\n",
       "<td>2021-01-07 20:10:43</td></tr><tr><td>__decomposition</td>\n",
       "<td>199727e7563f1791c7d099384821361b</td>\n",
       "<td>reserved</td>\n",
       "<td>=BLOB=</td>\n",
       "<td></td>\n",
       "<td>=BLOB=</td>\n",
       "<td>celiib@10.28.0.156</td>\n",
       "<td>at-node29</td>\n",
       "<td>29</td>\n",
       "<td>25158</td>\n",
       "<td>2021-01-07 20:58:34</td></tr><tr><td>__decomposition</td>\n",
       "<td>223292d754d01c10ec97cae17b086998</td>\n",
       "<td>reserved</td>\n",
       "<td>=BLOB=</td>\n",
       "<td></td>\n",
       "<td>=BLOB=</td>\n",
       "<td>celiib@10.28.0.155</td>\n",
       "<td>at-node28</td>\n",
       "<td>29</td>\n",
       "<td>25175</td>\n",
       "<td>2021-01-07 20:16:19</td></tr><tr><td>__decomposition</td>\n",
       "<td>3494d03ffcd00736756886336ff511f2</td>\n",
       "<td>reserved</td>\n",
       "<td>=BLOB=</td>\n",
       "<td></td>\n",
       "<td>=BLOB=</td>\n",
       "<td>celiib@10.28.0.170</td>\n",
       "<td>at-node43</td>\n",
       "<td>29</td>\n",
       "<td>25209</td>\n",
       "<td>2021-01-07 21:06:52</td></tr><tr><td>__decomposition</td>\n",
       "<td>3c6b779c3fa3f7a2d5e6ae98dd02bdf1</td>\n",
       "<td>reserved</td>\n",
       "<td>=BLOB=</td>\n",
       "<td></td>\n",
       "<td>=BLOB=</td>\n",
       "<td>celiib@10.28.0.147</td>\n",
       "<td>at-node20</td>\n",
       "<td>29</td>\n",
       "<td>25176</td>\n",
       "<td>2021-01-07 20:13:15</td></tr><tr><td>__decomposition</td>\n",
       "<td>42e75b2831b8230d70728bb3dd0d5385</td>\n",
       "<td>reserved</td>\n",
       "<td>=BLOB=</td>\n",
       "<td></td>\n",
       "<td>=BLOB=</td>\n",
       "<td>celiib@10.28.0.166</td>\n",
       "<td>at-node39</td>\n",
       "<td>29</td>\n",
       "<td>25180</td>\n",
       "<td>2021-01-07 21:00:59</td></tr><tr><td>__decomposition</td>\n",
       "<td>53dbe0a55f1b2433ab9972a890d4dcac</td>\n",
       "<td>reserved</td>\n",
       "<td>=BLOB=</td>\n",
       "<td></td>\n",
       "<td>=BLOB=</td>\n",
       "<td>celiib@10.28.0.161</td>\n",
       "<td>at-node34</td>\n",
       "<td>29</td>\n",
       "<td>25186</td>\n",
       "<td>2021-01-07 21:06:29</td></tr><tr><td>__decomposition</td>\n",
       "<td>86d93ed55e0b6413ecba6b597ce7eab3</td>\n",
       "<td>reserved</td>\n",
       "<td>=BLOB=</td>\n",
       "<td></td>\n",
       "<td>=BLOB=</td>\n",
       "<td>celiib@10.28.0.158</td>\n",
       "<td>at-node31</td>\n",
       "<td>29</td>\n",
       "<td>25198</td>\n",
       "<td>2021-01-07 20:15:24</td></tr><tr><td>__decomposition</td>\n",
       "<td>89c0286c7575dad401ed45a9f2b32404</td>\n",
       "<td>reserved</td>\n",
       "<td>=BLOB=</td>\n",
       "<td></td>\n",
       "<td>=BLOB=</td>\n",
       "<td>celiib@10.28.0.138</td>\n",
       "<td>at-node11</td>\n",
       "<td>29</td>\n",
       "<td>25170</td>\n",
       "<td>2021-01-07 21:20:23</td></tr><tr><td>__decomposition</td>\n",
       "<td>8f8c2ca843c3c054b22eaec90541f00a</td>\n",
       "<td>reserved</td>\n",
       "<td>=BLOB=</td>\n",
       "<td></td>\n",
       "<td>=BLOB=</td>\n",
       "<td>celiib@10.28.0.134</td>\n",
       "<td>at-node7</td>\n",
       "<td>29</td>\n",
       "<td>25253</td>\n",
       "<td>2021-01-07 21:34:33</td></tr><tr><td>__decomposition</td>\n",
       "<td>909207c34ed0348414838c489880cb87</td>\n",
       "<td>reserved</td>\n",
       "<td>=BLOB=</td>\n",
       "<td></td>\n",
       "<td>=BLOB=</td>\n",
       "<td>celiib@10.28.0.166</td>\n",
       "<td>at-node39</td>\n",
       "<td>29</td>\n",
       "<td>25197</td>\n",
       "<td>2021-01-07 20:45:26</td> </tr> </tbody>\n",
       "            </table>\n",
       "            <p>...</p>\n",
       "            <p>Total: 25</p></div>\n",
       "            "
      ],
      "text/plain": [
       "*table_name    *key_hash      status       key        error_message  error_stac user           host          pid     connection_id  timestamp     \n",
       "+------------+ +------------+ +----------+ +--------+ +------------+ +--------+ +------------+ +-----------+ +-----+ +------------+ +------------+\n",
       "__decompositio 00471f14c125b8 reserved     =BLOB=                    =BLOB=     celiib@10.28.0 at-node2      29      25193          2021-01-07 20:\n",
       "__decompositio 12dc98a8b9a21e reserved     =BLOB=                    =BLOB=     celiib@10.28.0 at-node38     30      25188          2021-01-07 20:\n",
       "__decompositio 199727e7563f17 reserved     =BLOB=                    =BLOB=     celiib@10.28.0 at-node29     29      25158          2021-01-07 20:\n",
       "__decompositio 223292d754d01c reserved     =BLOB=                    =BLOB=     celiib@10.28.0 at-node28     29      25175          2021-01-07 20:\n",
       "__decompositio 3494d03ffcd007 reserved     =BLOB=                    =BLOB=     celiib@10.28.0 at-node43     29      25209          2021-01-07 21:\n",
       "__decompositio 3c6b779c3fa3f7 reserved     =BLOB=                    =BLOB=     celiib@10.28.0 at-node20     29      25176          2021-01-07 20:\n",
       "__decompositio 42e75b2831b823 reserved     =BLOB=                    =BLOB=     celiib@10.28.0 at-node39     29      25180          2021-01-07 21:\n",
       "__decompositio 53dbe0a55f1b24 reserved     =BLOB=                    =BLOB=     celiib@10.28.0 at-node34     29      25186          2021-01-07 21:\n",
       "__decompositio 86d93ed55e0b64 reserved     =BLOB=                    =BLOB=     celiib@10.28.0 at-node31     29      25198          2021-01-07 20:\n",
       "__decompositio 89c0286c7575da reserved     =BLOB=                    =BLOB=     celiib@10.28.0 at-node11     29      25170          2021-01-07 21:\n",
       "__decompositio 8f8c2ca843c3c0 reserved     =BLOB=                    =BLOB=     celiib@10.28.0 at-node7      29      25253          2021-01-07 21:\n",
       "__decompositio 909207c34ed034 reserved     =BLOB=                    =BLOB=     celiib@10.28.0 at-node39     29      25197          2021-01-07 20:\n",
       "   ...\n",
       " (Total: 25)"
      ]
     },
     "execution_count": 9,
     "metadata": {},
     "output_type": "execute_result"
    }
   ],
   "source": [
    "curr_table = (minnie.schema.jobs & \"table_name='__decomposition'\")\n",
    "(curr_table)# & \"status='error'\")\n",
    "#curr_table.delete()\n",
    "#(curr_table & \"error_message = 'ValueError: need at least one array to concatenate'\").delete()"
   ]
  },
  {
   "cell_type": "code",
   "execution_count": 10,
   "metadata": {},
   "outputs": [
    {
     "name": "stderr",
     "output_type": "stream",
     "text": [
      "INFO - 2021-01-08 03:37:35,840 - autopopulate - Found 1 keys to populate\n",
      "INFO - 2021-01-08 03:37:35,849 - connection - Transaction started\n",
      "INFO - 2021-01-08 03:37:35,851 - autopopulate - Populating: {'segment_id': 864691135589917707, 'decimation_version': 0, 'decimation_ratio': Decimal('0.25')}\n"
     ]
    },
    {
     "name": "stdout",
     "output_type": "stream",
     "text": [
      "Populate Started\n",
      "\n",
      "\n",
      "----- Working on 864691135589917707-------\n",
      "somas = [[<trimesh.Trimesh(vertices.shape=(15879, 3), faces.shape=(31462, 3))>, <trimesh.Trimesh(vertices.shape=(14626, 3), faces.shape=(26566, 3))>, <trimesh.Trimesh(vertices.shape=(13244, 3), faces.shape=(26342, 3))>], array([605.6347, 605.6347, 605.6347]), array([0.81 , 0.552, 0.841])]\n",
      "\n",
      "--- Beginning preprocessing of 864691135589917707---\n",
      "--- 0) Having to preprocess the Neuron becuase no preprocessed data\n",
      "Please wait this could take a while.....\n",
      "Skipping the hole filling\n",
      "use_meshafterparty = True\n",
      "Using pre-computed somas: soma_mesh_list = [<trimesh.Trimesh(vertices.shape=(15879, 3), faces.shape=(31462, 3))>, <trimesh.Trimesh(vertices.shape=(14626, 3), faces.shape=(26566, 3))>, <trimesh.Trimesh(vertices.shape=(13244, 3), faces.shape=(26342, 3))>]\n",
      "Soma List = [<trimesh.Trimesh(vertices.shape=(15879, 3), faces.shape=(31462, 3))>, <trimesh.Trimesh(vertices.shape=(14626, 3), faces.shape=(26566, 3))>, <trimesh.Trimesh(vertices.shape=(13244, 3), faces.shape=(26342, 3))>]\n",
      "soma_mesh_list_centers = [array([ 623992.0108571 ,  437493.23599093, 1056853.9824926 ]), array([ 617869.27316423,  433871.50177766, 1111245.48338575]), array([ 637802.72854122,  724088.21829508, 1081692.98950468])]\n",
      "xvfb-run -n 4076 -s \"-screen 0 800x600x24\" meshlabserver $@  -i /notebooks/Auto_Proofreading/Preprocessing_Pipeline/temp/neuron_23247.off -o /notebooks/Auto_Proofreading/Preprocessing_Pipeline/temp/neuron_23247_remove_interior.off -s /notebooks/Auto_Proofreading/Preprocessing_Pipeline/temp/remove_interior_669936.mls\n",
      "removed temporary input file: /notebooks/Auto_Proofreading/Preprocessing_Pipeline/temp/neuron_23247.off\n",
      "removed temporary output file: /notebooks/Auto_Proofreading/Preprocessing_Pipeline/temp/neuron_23247_remove_interior.off\n",
      "/notebooks/Auto_Proofreading/Preprocessing_Pipeline/temp/remove_interior_669936.mls is being deleted....\n",
      "Removing the following inside neurons: [<trimesh.Trimesh(vertices.shape=(23444, 3), faces.shape=(65086, 3))>, <trimesh.Trimesh(vertices.shape=(22909, 3), faces.shape=(52103, 3))>, <trimesh.Trimesh(vertices.shape=(2018, 3), faces.shape=(3167, 3))>, <trimesh.Trimesh(vertices.shape=(1359, 3), faces.shape=(2020, 3))>, <trimesh.Trimesh(vertices.shape=(913, 3), faces.shape=(1379, 3))>, <trimesh.Trimesh(vertices.shape=(609, 3), faces.shape=(868, 3))>, <trimesh.Trimesh(vertices.shape=(576, 3), faces.shape=(903, 3))>, <trimesh.Trimesh(vertices.shape=(509, 3), faces.shape=(789, 3))>, <trimesh.Trimesh(vertices.shape=(474, 3), faces.shape=(745, 3))>]\n",
      "Total time for removing interior = 87.53099703788757\n",
      "Total time for splitting mesh = 3.0613837242126465\n",
      "# total split meshes = 136\n",
      "There were 127 pieces found after size threshold\n",
      "\n",
      "-----Before filtering away multiple disconneted soma pieces-----\n",
      "# of soma containing seperate meshes = 1\n",
      "meshes with somas = {0: [0, 1, 2]}\n",
      "Number of not_processed_soma_containing_meshes = 0\n",
      "\n",
      "-----After filtering away multiple disconneted soma pieces-----\n",
      "# of soma containing seperate meshes = 1\n",
      "meshes with somas = {0: [0, 1, 2]}\n",
      "\n",
      "\n",
      "----Working on soma-containing mesh piece 0----\n",
      "\n",
      "inside Soma subtraction\n",
      "Total Time for soma mesh cancellation = 2.937\n",
      "Total time for Subtract Soam = 2.937873363494873\n",
      "Total time for Original_mesh_faces_map for mesh_pieces without soma= 1.751251459121704\n",
      "Total time for Original_mesh_faces_map for somas= 1.0355279445648193\n",
      "new_floating_pieces = []\n",
      "Total time for sig_non_soma_pieces= 25.357213020324707\n",
      "Total time for split= 7.3909759521484375e-06\n",
      "Total time for mesh_pieces_connectivity= 34.34941124916077\n",
      "# of insignificant_limbs = 5 with trimesh : [<trimesh.Trimesh(vertices.shape=(671, 3), faces.shape=(1327, 3))>, <trimesh.Trimesh(vertices.shape=(283, 3), faces.shape=(469, 3))>, <trimesh.Trimesh(vertices.shape=(187, 3), faces.shape=(362, 3))>, <trimesh.Trimesh(vertices.shape=(171, 3), faces.shape=(340, 3))>, <trimesh.Trimesh(vertices.shape=(137, 3), faces.shape=(255, 3))>]\n",
      "# of not_processed_soma_containing_meshes = 0 with trimesh : []\n",
      "\n",
      "\n",
      "----- Working on Proper Limb # 0 ---------\n",
      "meshparty_segment_size = 100\n",
      "root_curr = [ 623343.  429450. 1059440.]\n",
      "Time for preparing soma vertices and root: 0.0002491474151611328\n",
      "invalidation_d = 12000\n",
      "cc_vertex_thresh = 10\n"
     ]
    },
    {
     "name": "stderr",
     "output_type": "stream",
     "text": [
      "\r",
      "  0%|          | 0/1 [00:00<?, ?it/s]"
     ]
    },
    {
     "data": {
      "application/vnd.jupyter.widget-view+json": {
       "model_id": "3847076bcd4d4760a19228d5a873c4ca",
       "version_major": 2,
       "version_minor": 0
      },
      "text/plain": [
       "HBox(children=(FloatProgress(value=0.0, max=310621.0), HTML(value='')))"
      ]
     },
     "metadata": {},
     "output_type": "display_data"
    },
    {
     "name": "stderr",
     "output_type": "stream",
     "text": [
      "100%|██████████| 1/1 [00:09<00:00,  9.77s/it]"
     ]
    },
    {
     "name": "stdout",
     "output_type": "stream",
     "text": [
      "\n"
     ]
    },
    {
     "name": "stderr",
     "output_type": "stream",
     "text": [
      "\n"
     ]
    },
    {
     "name": "stdout",
     "output_type": "stream",
     "text": [
      "meshparty_segment_size = 100\n",
      "Time for 1st pass MP skeletonization: 12.318209648132324\n",
      "connecting at the root\n",
      "branches_touching_root = [79]\n",
      "length of Graph = 26362\n",
      "Working on path [16276. 16383. 16473. 16533. 16580. 16630. 16647.]\n",
      "path_degrees = [3, 2, 2, 2, 2, 2, 3]\n",
      "Working on path [17724. 17729. 17733. 17735. 17741.]\n",
      "path_degrees = [3, 2, 2, 2, 3]\n",
      "Working on path [23469. 23493. 23518. 23542. 23550.]\n",
      "path_degrees = [3, 2, 2, 2, 3]\n",
      "After combining close endpoints max(kept_branches_idx) = 79, len(kept_branches_idx) = 77\n",
      "empty_indices % = 0.0\n",
      " conflict_indices % = 0.008799377450150428\n"
     ]
    },
    {
     "data": {
      "application/vnd.jupyter.widget-view+json": {
       "model_id": "d0bc7b6eba38403593cc94f860b7f14e",
       "version_major": 2,
       "version_minor": 0
      },
      "text/plain": [
       "HBox(children=(FloatProgress(value=0.0, max=41.0), HTML(value='')))"
      ]
     },
     "metadata": {},
     "output_type": "display_data"
    },
    {
     "name": "stdout",
     "output_type": "stream",
     "text": [
      "\n",
      "AFTER face_lookup_resolved_test\n"
     ]
    },
    {
     "data": {
      "application/vnd.jupyter.widget-view+json": {
       "model_id": "60de37f4eee34460b003939a7277f555",
       "version_major": 2,
       "version_minor": 0
      },
      "text/plain": [
       "HBox(children=(FloatProgress(value=0.0, max=77.0), HTML(value='')))"
      ]
     },
     "metadata": {},
     "output_type": "display_data"
    },
    {
     "name": "stdout",
     "output_type": "stream",
     "text": [
      "\n",
      "Decomposing first pass: 30.339296102523804\n",
      "Attempting to use MeshAfterParty Skeletonization and Mesh Correspondence\n",
      "Another print\n",
      "Found len(mesh_large_idx) MAP candidates: [267, 3203, 356, 204, 633, 5929, 770, 2681, 17597, 23132, 2953, 2083, 5612, 3584, 3172, 28574, 1938, 1664, 3556, 95, 2843, 4667, 32400, 8305, 20772, 221, 6184, 18989, 2878, 1671, 50030, 7646, 4529, 35100, 5631, 8102, 4515, 4587]\n",
      "mesh_large_connectivity: 2.168646812438965\n",
      "Finding MAP candidates connected components: 0.00043487548828125\n",
      "len(filtered_pieces) = 2\n",
      "skeleton_connectivity_MP : 0.6348574161529541\n",
      "Grouping MP Sublimbs by Graph: 0.1539008617401123\n",
      "Divinding into MP and MAP pieces: 1.430511474609375e-06\n",
      "--- Working on MAP piece 0---\n",
      "MAP Filtering Soma Pieces: 0.019328832626342773\n",
      "inside skeletonize_connected_branch and use_surface_after_CGAL=False, surface_reconstruction_size=1000\n",
      "     Starting Screened Poisson\n",
      "xvfb-run -n 4076 -s \"-screen 0 800x600x24\" meshlabserver $@  -i /notebooks/Auto_Proofreading/Preprocessing_Pipeline/temp/None.off -o /notebooks/Auto_Proofreading/Preprocessing_Pipeline/temp/None_poisson.off -s /notebooks/Auto_Proofreading/Preprocessing_Pipeline/temp/poisson_637315.mls\n",
      "removed temporary input file: /notebooks/Auto_Proofreading/Preprocessing_Pipeline/temp/None.off\n",
      "removed temporary output file: /notebooks/Auto_Proofreading/Preprocessing_Pipeline/temp/None_poisson.off\n",
      "Using the close holes feature\n",
      "Mesh was manifold\n",
      "No holes needed to fill and mesh was manifold so returning original mesh\n",
      "-----Time for Screened Poisson= 68.07899022102356\n",
      "mesh_pieces = [<trimesh.Trimesh(vertices.shape=(338644, 3), faces.shape=(677348, 3))>, <trimesh.Trimesh(vertices.shape=(76171, 3), faces.shape=(152342, 3))>, <trimesh.Trimesh(vertices.shape=(2876, 3), faces.shape=(5752, 3))>]\n",
      "     Starting Calcification (Changed back where stitches large poissons)\n",
      "min_edge_length = 75\n",
      "min_edge_length = 75\n",
      "min_edge_length = 75\n",
      "node_degrees = [2 2 2 2 2 3 2 2 2 2 2 2 2 2 2 2 2 3 2 2 2 2 2 3 2 2 3 2 2 2 2]\n",
      "node_degrees = [2 2 2 2 2 4 2 2 2 2 2 4 2 2 3 2 2 3]\n",
      "node_degrees = [2 2 2 2 3 2 3 2 2 2 2 2 2 2]\n",
      "node_degrees = [3 2 2 3 2 2 4 2 2 2 2 2 4]\n",
      "node_degrees = [2 2 2 2 2 4 3]\n",
      "node_degrees = [2 3 3 2 3]\n",
      "node_degrees = [4 2 2]\n",
      "The number of cycles skipped (7) does not equal the number of cycles at the end (6)\n"
     ]
    },
    {
     "data": {
      "application/vnd.jupyter.widget-view+json": {
       "model_id": "9f25c894edb14d56bc5f691a6dd1c504",
       "version_major": 2,
       "version_minor": 0
      },
      "text/plain": [
       "HBox(children=(FloatProgress(value=1.0, bar_style='info', max=1.0), HTML(value='')))"
      ]
     },
     "metadata": {},
     "output_type": "display_data"
    },
    {
     "name": "stdout",
     "output_type": "stream",
     "text": [
      "\n",
      "No skeletons to stack so returning empty list\n",
      "len_subgraphs AT BEGINNING of the loop\n"
     ]
    },
    {
     "data": {
      "application/vnd.jupyter.widget-view+json": {
       "model_id": "dbfb77d6724240ba83c0e1ea08372220",
       "version_major": 2,
       "version_minor": 0
      },
      "text/plain": [
       "HBox(children=(FloatProgress(value=0.0, max=3.0), HTML(value='')))"
      ]
     },
     "metadata": {},
     "output_type": "display_data"
    },
    {
     "name": "stdout",
     "output_type": "stream",
     "text": [
      "all graph is one component!\n",
      "\n",
      "Total time for skeleton stitching = 0.36167335510253906\n",
      "The process was using a temp folder\n",
      "Checking connected components after skeletonize_connected_branch\n",
      "    Total time for skeletonizing branch: 121.62953209877014\n",
      "Checking connected components after removing cycles\n",
      "Total time for mesh KDTree = 1.9615705013275146\n",
      "sbv[0].reshape(-1,3) = [[ 623343.  429450. 1059440.]]\n",
      "closest_sk_pt_coord BEFORE = [ 622857.  429606. 1060420.]\n",
      "current_skeleton.shape = (10280, 2, 3)\n",
      "node_for_stitch = 6591: [ 622857.  429606. 1060420.]\n",
      "node_for_stitch AFTER = 6591: [ 622857.  429606. 1060420.]\n",
      "possible_node_loc = [   11   111   201   209   217   325   327   398   411   553   555   672\n",
      "   775   790   903   937   942   965   972  1053  1090  1095  1132  1206\n",
      "  1209  1233  1236  1259  1312  1348  1358  1382  1454  1470  1482  1532\n",
      "  1554  1561  1596  1622  1831  1838  1846  1872  1948  2007  2014  2036\n",
      "  2048  2184  2283  2304  2320  2326  2340  2353  2398  2428  2480  2569\n",
      "  2586  2618  2672  2674  2731  2935  2988  3016  3029  3065  3079  3105\n",
      "  3132  3201  3252  3277  3283  3336  3402  3419  3434  3454  3655  3815\n",
      "  3972  4155  4237  4309  4568  4629  4634  4637  4728  4753  4768  4772\n",
      "  4864  4895  5039  5048  5055  5082  5087  5096  5144  5164  5175  5186\n",
      "  5205  5223  5266  5446  5495  5512  5643  5687  5941  5944  5982  6013\n",
      "  6023  6149  6164  6331  6379  6393  6448  6464  6591  6773  6819  6934\n",
      "  6967  7097  7164  7222  7300  7401  7436  7448  7530  7552  7695  7697\n",
      "  7758  7779  7816  7818  7857  7859  7916  7927  7955  7969  8025  8039\n",
      "  8544  8566  8584  8623  8644  8653  8732  8754  8774  8949  9112  9127\n",
      "  9173  9204  9230  9294  9318  9398  9478  9527  9574  9596  9674  9805\n",
      "  9869  9914 10048 10084 10094 10119 10164 10217 10272 10275]\n",
      "possible_node_loc AFTER = [   11   111   201   209   217   325   327   398   411   553   555   672\n",
      "   775   790   903   937   942   965   972  1053  1090  1095  1132  1206\n",
      "  1209  1233  1236  1259  1312  1348  1358  1382  1454  1470  1482  1532\n",
      "  1554  1561  1596  1622  1831  1838  1846  1872  1948  2007  2014  2036\n",
      "  2048  2184  2283  2304  2320  2326  2340  2353  2398  2428  2480  2569\n",
      "  2586  2618  2672  2674  2731  2935  2988  3016  3029  3065  3079  3105\n",
      "  3132  3201  3252  3277  3283  3336  3402  3419  3434  3454  3655  3815\n",
      "  3972  4155  4237  4309  4568  4629  4634  4637  4728  4753  4768  4772\n",
      "  4864  4895  5039  5048  5055  5082  5087  5096  5144  5164  5175  5186\n",
      "  5205  5223  5266  5446  5495  5512  5643  5687  5941  5944  5982  6013\n",
      "  6023  6149  6164  6331  6379  6393  6448  6464  6591  6773  6819  6934\n",
      "  6967  7097  7164  7222  7300  7401  7436  7448  7530  7552  7695  7697\n",
      "  7758  7779  7816  7818  7857  7859  7916  7927  7955  7969  8025  8039\n",
      "  8544  8566  8584  8623  8644  8653  8732  8754  8774  8949  9112  9127\n",
      "  9173  9204  9230  9294  9318  9398  9478  9527  9574  9596  9674  9805\n",
      "  9869  9914 10048 10084 10094 10119 10164 10217 10272 10275]\n",
      "curr_shortest_path = [6591]\n",
      "Current stitch point was a branch or endpoint\n",
      "change_status for create soma extending pieces = False\n",
      "closest_sk_pt_coord AFTER = [ 622857.  429606. 1060420.]\n",
      "skipping soma 0 because closest skeleton node was already end node\n",
      "sbv[0].reshape(-1,3) = [[ 618976.5  434073.8 1105257. ]]\n",
      "closest_sk_pt_coord BEFORE = [ 619628.  433452. 1104980.]\n",
      "current_skeleton.shape = (10280, 2, 3)\n",
      "node_for_stitch = 5982: [ 619628.  433452. 1104980.]\n",
      "node_for_stitch AFTER = 5982: [ 619628.  433452. 1104980.]\n",
      "possible_node_loc = [   11   111   201   209   217   325   327   398   411   553   555   672\n",
      "   775   790   903   937   942   965   972  1053  1090  1095  1132  1206\n",
      "  1209  1233  1236  1259  1312  1348  1358  1382  1454  1470  1482  1532\n",
      "  1554  1561  1596  1622  1831  1838  1846  1872  1948  2007  2014  2036\n",
      "  2048  2184  2283  2304  2320  2326  2340  2353  2398  2428  2480  2569\n",
      "  2586  2618  2672  2674  2731  2935  2988  3016  3029  3065  3079  3105\n",
      "  3132  3201  3252  3277  3283  3336  3402  3419  3434  3454  3655  3815\n",
      "  3972  4155  4237  4309  4568  4629  4634  4637  4728  4753  4768  4772\n",
      "  4864  4895  5039  5048  5055  5082  5087  5096  5144  5164  5175  5186\n",
      "  5205  5223  5266  5446  5495  5512  5643  5687  5941  5944  5982  6013\n",
      "  6023  6149  6164  6331  6379  6393  6448  6464  6591  6773  6819  6934\n",
      "  6967  7097  7164  7222  7300  7401  7436  7448  7530  7552  7695  7697\n",
      "  7758  7779  7816  7818  7857  7859  7916  7927  7955  7969  8025  8039\n",
      "  8544  8566  8584  8623  8644  8653  8732  8754  8774  8949  9112  9127\n",
      "  9173  9204  9230  9294  9318  9398  9478  9527  9574  9596  9674  9805\n",
      "  9869  9914 10048 10084 10094 10119 10164 10217 10272 10275]\n",
      "possible_node_loc AFTER = [   11   111   201   209   217   325   327   398   411   553   555   672\n",
      "   775   790   903   937   942   965   972  1053  1090  1095  1132  1206\n",
      "  1209  1233  1236  1259  1312  1348  1358  1382  1454  1470  1482  1532\n",
      "  1554  1561  1596  1622  1831  1838  1846  1872  1948  2007  2014  2036\n",
      "  2048  2184  2283  2304  2320  2326  2340  2353  2398  2428  2480  2569\n",
      "  2586  2618  2672  2674  2731  2935  2988  3016  3029  3065  3079  3105\n",
      "  3132  3201  3252  3277  3283  3336  3402  3419  3434  3454  3655  3815\n",
      "  3972  4155  4237  4309  4568  4629  4634  4637  4728  4753  4768  4772\n",
      "  4864  4895  5039  5048  5055  5082  5087  5096  5144  5164  5175  5186\n",
      "  5205  5223  5266  5446  5495  5512  5643  5687  5941  5944  5982  6013\n",
      "  6023  6149  6164  6331  6379  6393  6448  6464  6591  6773  6819  6934\n",
      "  6967  7097  7164  7222  7300  7401  7436  7448  7530  7552  7695  7697\n",
      "  7758  7779  7816  7818  7857  7859  7916  7927  7955  7969  8025  8039\n",
      "  8544  8566  8584  8623  8644  8653  8732  8754  8774  8949  9112  9127\n",
      "  9173  9204  9230  9294  9318  9398  9478  9527  9574  9596  9674  9805\n",
      "  9869  9914 10048 10084 10094 10119 10164 10217 10272 10275]\n",
      "curr_shortest_path = [5982]\n",
      "Current stitch point was a branch or endpoint\n",
      "change_status for create soma extending pieces = False\n",
      "closest_sk_pt_coord AFTER = [ 619628.  433452. 1104980.]\n",
      "skipping soma 1 because closest skeleton node was already end node\n",
      "endpoints_must_keep = {0: array([[ 622857.,  429606., 1060420.]]), 1: array([[ 619628.,  433452., 1104980.]])}\n",
      "    Total time for Fixing Skeleton Soma Endpoint Extension : 5.294708251953125\n",
      "filter_end_node_length = 4000\n",
      "xvfb-run -n 4076 -s \"-screen 0 800x600x24\" meshlabserver $@  -i /notebooks/Auto_Proofreading/Preprocessing_Pipeline/temp/neuron_83052.off -o /notebooks/Auto_Proofreading/Preprocessing_Pipeline/temp/neuron_83052_remove_interior.off -s /notebooks/Auto_Proofreading/Preprocessing_Pipeline/temp/remove_interior_100951.mls\n",
      "removed temporary input file: /notebooks/Auto_Proofreading/Preprocessing_Pipeline/temp/neuron_83052.off\n",
      "removed temporary output file: /notebooks/Auto_Proofreading/Preprocessing_Pipeline/temp/neuron_83052_remove_interior.off\n",
      "/notebooks/Auto_Proofreading/Preprocessing_Pipeline/temp/remove_interior_100951.mls is being deleted....\n",
      "Removing the following inside neurons: [<trimesh.Trimesh(vertices.shape=(235, 3), faces.shape=(339, 3))>, <trimesh.Trimesh(vertices.shape=(103, 3), faces.shape=(168, 3))>, <trimesh.Trimesh(vertices.shape=(56, 3), faces.shape=(103, 3))>]\n",
      "Using Distance measure skeletal_distance\n",
      "endpoints_must_keep = [[ 622857.  429606. 1060420.]\n",
      " [ 619628.  433452. 1104980.]\n",
      " [ 577611.  341378. 1003850.]\n",
      " [ 588129.  409647. 1110900.]\n",
      " [ 592506.  411668. 1110730.]\n",
      " [ 614068.  422400. 1099770.]\n",
      " [ 614859.  421421. 1110460.]\n",
      " [ 636327.  425580. 1066570.]\n",
      " [ 641915.  366301. 1001920.]\n",
      " [ 647327.  351495.  979913.]\n",
      " [ 647956.  377393. 1057110.]\n",
      " [ 674034.  339292. 1065060.]]\n",
      "Number of end_nodes BEFORE filtering = 190\n",
      "all_single_nodes_to_eliminate = [128, 118, 18, 47, 62, 99, 106, 141, 156, 174, 175, 189]\n"
     ]
    },
    {
     "data": {
      "application/vnd.jupyter.widget-view+json": {
       "model_id": "4d905611fb4245a88a674d2f29f2d59e",
       "version_major": 2,
       "version_minor": 0
      },
      "text/plain": [
       "HBox(children=(FloatProgress(value=0.0, max=171.0), HTML(value='')))"
      ]
     },
     "metadata": {},
     "output_type": "display_data"
    },
    {
     "name": "stdout",
     "output_type": "stream",
     "text": [
      "\n",
      "Checking connected components after clean_skeleton\n",
      "after DISTANCE cleaning limb size of skeleton = (9313, 2, 3)\n",
      "********COMBINING CLOSE SKELETON NODES WITHIN 700 DISTANCE**********\n",
      "Found 0 valid paths to replace\n",
      "valid_paths = []\n",
      "valid_path_lengths = []\n",
      "No valid paths found so just returning the original\n",
      "node_degrees = [2 2 2 2 2 3 2 2 2 2 2 2 2 2 2 2 2 3 2 2 2 2 2 3 2 2 2 2 2 2 2]\n",
      "node_degrees = [2 2 2 3 2 2 2 2 2 2 2 2 3]\n",
      "skeletonize_and_clean_connected_branch_CGAL: 251.81050658226013\n",
      "Working on limb correspondence for #0 MAP piece\n",
      "xvfb-run -n 4076 -s \"-screen 0 800x600x24\" meshlabserver $@  -i /notebooks/Auto_Proofreading/Preprocessing_Pipeline/temp/neuron_15730.off -o /notebooks/Auto_Proofreading/Preprocessing_Pipeline/temp/neuron_15730_remove_interior.off -s /notebooks/Auto_Proofreading/Preprocessing_Pipeline/temp/remove_interior_952553.mls\n",
      "removed temporary input file: /notebooks/Auto_Proofreading/Preprocessing_Pipeline/temp/neuron_15730.off\n",
      "removed temporary output file: /notebooks/Auto_Proofreading/Preprocessing_Pipeline/temp/neuron_15730_remove_interior.off\n",
      "/notebooks/Auto_Proofreading/Preprocessing_Pipeline/temp/remove_interior_952553.mls is being deleted....\n",
      "Removing the following inside neurons: [<trimesh.Trimesh(vertices.shape=(235, 3), faces.shape=(339, 3))>, <trimesh.Trimesh(vertices.shape=(103, 3), faces.shape=(168, 3))>, <trimesh.Trimesh(vertices.shape=(56, 3), faces.shape=(103, 3))>]\n"
     ]
    },
    {
     "data": {
      "application/vnd.jupyter.widget-view+json": {
       "model_id": "fa222bac17bb4e4a8e2872cbf5235210",
       "version_major": 2,
       "version_minor": 0
      },
      "text/plain": [
       "HBox(children=(FloatProgress(value=1.0, bar_style='info', max=1.0), HTML(value='')))"
      ]
     },
     "metadata": {},
     "output_type": "display_data"
    },
    {
     "name": "stdout",
     "output_type": "stream",
     "text": [
      "\n",
      "Total time for decomposition = 60.44372034072876\n",
      "mesh_correspondence_first_pass: 60.443772077560425\n",
      "Limb decomposed into 48 branches\n",
      "divided_skeleton_graph_recovered = (9303, 2, 3) and \n",
      "current_mesh_data[0]['branch_skeletons_cleaned'].shape = (9303, 2, 3)\n",
      "\n",
      "Number of connected components in deocmposed recovered graph = 1\n",
      "Number of connected components in cleaned skeleton graph= 1\n",
      "The downsampled branches number of connected components = 1\n",
      "Empty submeshes = []\n",
      "\n",
      "\n",
      "--- Working on 1-to-1 correspondence-----\n",
      "max(original_labels),len(original_labels) = (47, 48)\n",
      "empty_indices % = 0.14906969063084885\n",
      " conflict_indices % = 0.03479655872037244\n"
     ]
    },
    {
     "data": {
      "application/vnd.jupyter.widget-view+json": {
       "model_id": "d3d1c6c0e94a4c93b161f5f013b6bcb2",
       "version_major": 2,
       "version_minor": 0
      },
      "text/plain": [
       "HBox(children=(FloatProgress(value=0.0, max=701.0), HTML(value='')))"
      ]
     },
     "metadata": {},
     "output_type": "display_data"
    },
    {
     "name": "stdout",
     "output_type": "stream",
     "text": [
      "\n",
      "AFTER face_lookup_resolved_test\n",
      "Took 0 iterations to expand the label back\n",
      "empty_indices % = 0.0\n",
      " conflict_indices % = 0.0\n"
     ]
    },
    {
     "data": {
      "application/vnd.jupyter.widget-view+json": {
       "model_id": "4fc30c9429dd4563afbd4d5aacf5d330",
       "version_major": 2,
       "version_minor": 0
      },
      "text/plain": [
       "HBox(children=(FloatProgress(value=1.0, bar_style='info', max=1.0), HTML(value='')))"
      ]
     },
     "metadata": {},
     "output_type": "display_data"
    },
    {
     "name": "stdout",
     "output_type": "stream",
     "text": [
      "\n",
      "AFTER face_lookup_resolved_test\n",
      "Took 0 iterations to expand the label back\n",
      "empty_indices % = 0.0\n",
      " conflict_indices % = 0.0\n"
     ]
    },
    {
     "data": {
      "application/vnd.jupyter.widget-view+json": {
       "model_id": "2d967fd226f34d1db421bf1bf1db2b6b",
       "version_major": 2,
       "version_minor": 0
      },
      "text/plain": [
       "HBox(children=(FloatProgress(value=1.0, bar_style='info', max=1.0), HTML(value='')))"
      ]
     },
     "metadata": {},
     "output_type": "display_data"
    },
    {
     "name": "stdout",
     "output_type": "stream",
     "text": [
      "\n",
      "AFTER face_lookup_resolved_test\n"
     ]
    },
    {
     "data": {
      "application/vnd.jupyter.widget-view+json": {
       "model_id": "3148366f8bed41b6b262befb2c1911fe",
       "version_major": 2,
       "version_minor": 0
      },
      "text/plain": [
       "HBox(children=(FloatProgress(value=0.0, max=48.0), HTML(value='')))"
      ]
     },
     "metadata": {},
     "output_type": "display_data"
    },
    {
     "name": "stdout",
     "output_type": "stream",
     "text": [
      "\n",
      "Total time for MAP sublimb #0 mesh processing = 349.52314352989197\n",
      "correspondence_1_to_1: 37.24961185455322\n",
      "--- Working on MAP piece 1---\n",
      "MAP Filtering Soma Pieces: 0.0012273788452148438\n",
      "inside skeletonize_connected_branch and use_surface_after_CGAL=False, surface_reconstruction_size=1000\n",
      "     Starting Screened Poisson\n",
      "xvfb-run -n 4076 -s \"-screen 0 800x600x24\" meshlabserver $@  -i /notebooks/Auto_Proofreading/Preprocessing_Pipeline/temp/None.off -o /notebooks/Auto_Proofreading/Preprocessing_Pipeline/temp/None_poisson.off -s /notebooks/Auto_Proofreading/Preprocessing_Pipeline/temp/poisson_75949.mls\n",
      "removed temporary input file: /notebooks/Auto_Proofreading/Preprocessing_Pipeline/temp/None.off\n",
      "removed temporary output file: /notebooks/Auto_Proofreading/Preprocessing_Pipeline/temp/None_poisson.off\n",
      "Using the close holes feature\n",
      "Mesh was manifold\n",
      "No holes needed to fill and mesh was manifold so returning original mesh\n",
      "-----Time for Screened Poisson= 6.207395315170288\n",
      "mesh_pieces = [<trimesh.Trimesh(vertices.shape=(13976, 3), faces.shape=(27996, 3))>]\n",
      "     Starting Calcification (Changed back where stitches large poissons)\n",
      "min_edge_length = 75\n",
      "node_degrees = [3 2 2 2 2 2 3 2 2 2 2 2 3 2 2 2 2 2 3 2 2 3 2]\n",
      "node_degrees = [3 2 2 3 2 2 2 3 2]\n",
      "node_degrees = [2 5 2 3 2 2 2]\n",
      "node_degrees = [3 2 2 3 2]\n",
      "node_degrees = [3 2 2 2]\n"
     ]
    },
    {
     "data": {
      "application/vnd.jupyter.widget-view+json": {
       "model_id": "d2f785f0115d4865ab5a760d516fca31",
       "version_major": 2,
       "version_minor": 0
      },
      "text/plain": [
       "HBox(children=(FloatProgress(value=1.0, bar_style='info', max=1.0), HTML(value='')))"
      ]
     },
     "metadata": {},
     "output_type": "display_data"
    },
    {
     "name": "stdout",
     "output_type": "stream",
     "text": [
      "\n",
      "No skeletons to stack so returning empty list\n",
      "len_subgraphs AT BEGINNING of the loop\n"
     ]
    },
    {
     "data": {
      "application/vnd.jupyter.widget-view+json": {
       "model_id": "46924ccefd97462093eba76961baeb3c",
       "version_major": 2,
       "version_minor": 0
      },
      "text/plain": [
       "HBox(children=(FloatProgress(value=0.0, max=1.0), HTML(value='')))"
      ]
     },
     "metadata": {},
     "output_type": "display_data"
    },
    {
     "name": "stdout",
     "output_type": "stream",
     "text": [
      "all graph is one component!\n",
      "\n",
      "Total time for skeleton stitching = 0.02801036834716797\n",
      "The process was using a temp folder\n",
      "Checking connected components after skeletonize_connected_branch\n",
      "    Total time for skeletonizing branch: 7.433789014816284\n",
      "Checking connected components after removing cycles\n",
      "    Total time for Fixing Skeleton Soma Endpoint Extension : 0.00992727279663086\n",
      "filter_end_node_length = 4000\n",
      "xvfb-run -n 4076 -s \"-screen 0 800x600x24\" meshlabserver $@  -i /notebooks/Auto_Proofreading/Preprocessing_Pipeline/temp/neuron_15316.off -o /notebooks/Auto_Proofreading/Preprocessing_Pipeline/temp/neuron_15316_remove_interior.off -s /notebooks/Auto_Proofreading/Preprocessing_Pipeline/temp/remove_interior_913434.mls\n",
      "removed temporary input file: /notebooks/Auto_Proofreading/Preprocessing_Pipeline/temp/neuron_15316.off\n",
      "removed temporary output file: /notebooks/Auto_Proofreading/Preprocessing_Pipeline/temp/neuron_15316_remove_interior.off\n",
      "/notebooks/Auto_Proofreading/Preprocessing_Pipeline/temp/remove_interior_913434.mls is being deleted....\n",
      "Removing the following inside neurons: [<trimesh.Trimesh(vertices.shape=(284, 3), faces.shape=(451, 3))>, <trimesh.Trimesh(vertices.shape=(257, 3), faces.shape=(432, 3))>, <trimesh.Trimesh(vertices.shape=(211, 3), faces.shape=(263, 3))>, <trimesh.Trimesh(vertices.shape=(132, 3), faces.shape=(218, 3))>, <trimesh.Trimesh(vertices.shape=(122, 3), faces.shape=(193, 3))>]\n",
      "Using Distance measure skeletal_distance\n",
      "endpoints_must_keep = [[ 637603.  389400. 1111870.]\n",
      " [ 640018.  382356. 1112690.]]\n",
      "Number of end_nodes BEFORE filtering = 15\n",
      "all_single_nodes_to_eliminate = [3, 10]\n"
     ]
    },
    {
     "data": {
      "application/vnd.jupyter.widget-view+json": {
       "model_id": "47c7ee09f3a64b0b84ba5674e8a4b546",
       "version_major": 2,
       "version_minor": 0
      },
      "text/plain": [
       "HBox(children=(FloatProgress(value=0.0, max=13.0), HTML(value='')))"
      ]
     },
     "metadata": {},
     "output_type": "display_data"
    },
    {
     "name": "stdout",
     "output_type": "stream",
     "text": [
      "\n",
      "Checking connected components after clean_skeleton\n",
      "after DISTANCE cleaning limb size of skeleton = (145, 2, 3)\n",
      "********COMBINING CLOSE SKELETON NODES WITHIN 700 DISTANCE**********\n",
      "Found 1 valid paths to replace\n",
      "valid_paths = [array([56., 65., 73., 71.])]\n",
      "valid_path_lengths = [664.942406298918]\n",
      "length of Graph = 143\n",
      "Working on path [56. 65. 73. 71.]\n",
      "path_degrees = [3, 2, 2, 3]\n",
      "node_degrees = [2 2 2 2 2 2 3 2 2 2 2 2 3 2 2 2 2 2 4 2]\n",
      "**** Warning: There were redundant edges in the skeleton*****\n",
      "Inside MAP decomposition and curr_limb_endpoints_must_keep was None\n",
      "skeletonize_and_clean_connected_branch_CGAL: 9.220976829528809\n",
      "Working on limb correspondence for #1 MAP piece\n",
      "xvfb-run -n 4076 -s \"-screen 0 800x600x24\" meshlabserver $@  -i /notebooks/Auto_Proofreading/Preprocessing_Pipeline/temp/neuron_33941.off -o /notebooks/Auto_Proofreading/Preprocessing_Pipeline/temp/neuron_33941_remove_interior.off -s /notebooks/Auto_Proofreading/Preprocessing_Pipeline/temp/remove_interior_429055.mls\n",
      "removed temporary input file: /notebooks/Auto_Proofreading/Preprocessing_Pipeline/temp/neuron_33941.off\n",
      "removed temporary output file: /notebooks/Auto_Proofreading/Preprocessing_Pipeline/temp/neuron_33941_remove_interior.off\n",
      "/notebooks/Auto_Proofreading/Preprocessing_Pipeline/temp/remove_interior_429055.mls is being deleted....\n",
      "Removing the following inside neurons: [<trimesh.Trimesh(vertices.shape=(284, 3), faces.shape=(451, 3))>, <trimesh.Trimesh(vertices.shape=(257, 3), faces.shape=(432, 3))>, <trimesh.Trimesh(vertices.shape=(211, 3), faces.shape=(263, 3))>, <trimesh.Trimesh(vertices.shape=(132, 3), faces.shape=(218, 3))>, <trimesh.Trimesh(vertices.shape=(122, 3), faces.shape=(193, 3))>]\n"
     ]
    },
    {
     "data": {
      "application/vnd.jupyter.widget-view+json": {
       "model_id": "d70a5c38666d4c538ebee90dd534c924",
       "version_major": 2,
       "version_minor": 0
      },
      "text/plain": [
       "HBox(children=(FloatProgress(value=1.0, bar_style='info', max=1.0), HTML(value='')))"
      ]
     },
     "metadata": {},
     "output_type": "display_data"
    },
    {
     "name": "stdout",
     "output_type": "stream",
     "text": [
      "\n",
      "Total time for decomposition = 1.9838252067565918\n",
      "mesh_correspondence_first_pass: 1.983858346939087\n",
      "Limb decomposed into 12 branches\n",
      "divided_skeleton_graph_recovered = (141, 2, 3) and \n",
      "current_mesh_data[0]['branch_skeletons_cleaned'].shape = (141, 2, 3)\n",
      "\n",
      "Number of connected components in deocmposed recovered graph = 1\n",
      "Number of connected components in cleaned skeleton graph= 1\n",
      "**** Warning: There were redundant edges in the skeleton*****\n",
      "The downsampled branches number of connected components = 1\n",
      "Empty submeshes = []\n",
      "\n",
      "\n",
      "--- Working on 1-to-1 correspondence-----\n",
      "max(original_labels),len(original_labels) = (11, 12)\n",
      "empty_indices % = 0.5297774869109948\n",
      " conflict_indices % = 0.20015270506108201\n"
     ]
    },
    {
     "data": {
      "application/vnd.jupyter.widget-view+json": {
       "model_id": "3fdef6e19b46432aa557ec5419e5625b",
       "version_major": 2,
       "version_minor": 0
      },
      "text/plain": [
       "HBox(children=(FloatProgress(value=0.0, max=18.0), HTML(value='')))"
      ]
     },
     "metadata": {},
     "output_type": "display_data"
    },
    {
     "name": "stdout",
     "output_type": "stream",
     "text": [
      "\n",
      "AFTER face_lookup_resolved_test\n"
     ]
    },
    {
     "data": {
      "application/vnd.jupyter.widget-view+json": {
       "model_id": "630783e813474674bf508a851edeebc3",
       "version_major": 2,
       "version_minor": 0
      },
      "text/plain": [
       "HBox(children=(FloatProgress(value=0.0, max=12.0), HTML(value='')))"
      ]
     },
     "metadata": {},
     "output_type": "display_data"
    },
    {
     "name": "stdout",
     "output_type": "stream",
     "text": [
      "\n",
      "Total time for MAP sublimb #1 mesh processing = 11.929342031478882\n",
      "correspondence_1_to_1: 0.7232489585876465\n",
      "Total time for MAP sublimb processing 361.452919960022\n",
      "---- Working on MP Decomposition #0 ----\n",
      "Computing the current soma touching verts dict manually\n",
      "MP filtering soma verts: 0.010337114334106445\n",
      "Do Not Need to Fix MP Decomposition 0 so just continuing\n",
      "---- Working on MP Decomposition #1 ----\n",
      "Computing the current soma touching verts dict manually\n",
      "MP filtering soma verts: 0.00428009033203125\n",
      "Do Not Need to Fix MP Decomposition 1 so just continuing\n",
      "---- Working on MP Decomposition #2 ----\n",
      "Computing the current soma touching verts dict manually\n",
      "MP filtering soma verts: 0.0009953975677490234\n",
      "Do Not Need to Fix MP Decomposition 2 so just continuing\n",
      "---- Working on MP Decomposition #3 ----\n",
      "Computing the current soma touching verts dict manually\n",
      "MP filtering soma verts: 0.0022296905517578125\n",
      "Do Not Need to Fix MP Decomposition 3 so just continuing\n",
      "---- Working on MP Decomposition #4 ----\n",
      "Computing the current soma touching verts dict manually\n",
      "MP filtering soma verts: 0.0016736984252929688\n",
      "Do Not Need to Fix MP Decomposition 4 so just continuing\n",
      "---- Working on MP Decomposition #5 ----\n",
      "Computing the current soma touching verts dict manually\n",
      "MP filtering soma verts: 0.0042705535888671875\n",
      "Do Not Need to Fix MP Decomposition 5 so just continuing\n",
      "---- Working on MP Decomposition #6 ----\n",
      "Computing the current soma touching verts dict manually\n",
      "MP filtering soma verts: 0.0024862289428710938\n",
      "Do Not Need to Fix MP Decomposition 6 so just continuing\n",
      "---- Working on MP Decomposition #7 ----\n",
      "Computing the current soma touching verts dict manually\n",
      "MP filtering soma verts: 0.0011916160583496094\n",
      "Do Not Need to Fix MP Decomposition 7 so just continuing\n",
      "---- Working on MP Decomposition #8 ----\n",
      "Computing the current soma touching verts dict manually\n",
      "MP filtering soma verts: 0.001361846923828125\n",
      "Do Not Need to Fix MP Decomposition 8 so just continuing\n",
      "---- Working on MP Decomposition #9 ----\n",
      "Computing the current soma touching verts dict manually\n",
      "MP filtering soma verts: 0.0016422271728515625\n",
      "Do Not Need to Fix MP Decomposition 9 so just continuing\n",
      "---- Working on MP Decomposition #10 ----\n",
      "Computing the current soma touching verts dict manually\n",
      "MP filtering soma verts: 0.00109100341796875\n",
      "Do Not Need to Fix MP Decomposition 10 so just continuing\n",
      "---- Working on MP Decomposition #11 ----\n",
      "Computing the current soma touching verts dict manually\n",
      "MP filtering soma verts: 0.004837989807128906\n",
      "Fixing Possible Soma Extension Branch for Sublimb 11\n",
      "Total time for mesh KDTree = 0.29902029037475586\n",
      "sbv[0].reshape(-1,3) = [[ 621920.5  433167.5 1110998. ]]\n",
      "closest_sk_pt_coord BEFORE = [ 621842.67813931  426992.66131187 1113168.09578974]\n",
      "current_skeleton.shape = (1337, 2, 3)\n",
      "node_for_stitch = 729: [ 621842.67813931  426992.66131187 1113168.09578974]\n",
      "node_for_stitch AFTER = 729: [ 621842.67813931  426992.66131187 1113168.09578974]\n",
      "possible_node_loc = [ 66 130]\n",
      "possible_node_loc AFTER = [ 66 130]\n",
      "curr_shortest_path = [729, 726.0, 723.0, 720.0, 717.0, 715.0, 712.0, 709.0, 707.0, 704.0, 702.0, 699.0, 697.0, 694.0, 692.0, 689.0, 687.0, 685.0, 683.0, 680.0, 678.0, 676.0, 674.0, 672.0, 670.0, 668.0, 666.0, 664.0, 662.0, 660.0, 658.0, 656.0, 654.0, 652.0, 649.0, 647.0, 644.0, 642.0, 639.0, 636.0, 634.0, 631.0, 628.0, 625.0, 612.0, 586.0, 555.0, 539.0, 511.0, 503.0, 494.0, 487.0, 479.0, 473.0, 447.0, 424.0, 394.0, 357.0, 317.0, 310.0, 304.0, 296.0, 290.0, 282.0, 273.0, 263.0, 256.0, 247.0, 241.0, 234.0, 225.0, 218.0, 210.0, 190.0, 179.0, 169.0, 158.0, 155.0, 153.0, 150.0, 148.0, 145.0, 143.0, 141.0, 140.0, 138.0, 137.0, 135.0, 133.0, 127.0, 117.0, 107.0, 102.0, 101.0, 100.0, 99.0, 98.0, 97.0, 96.0, 95.0, 94.0, 93.0, 92.0, 91.0, 90.0, 89.0, 88.0, 87.0, 86.0, 84.0, 75.0, 72.0, 68.0, 65.0, 63.0, 61.0, 59.0, 57.0, 56.0, 54.0, 52.0, 51.0, 49.0, 47.0, 46.0, 44.0, 42.0, 40.0, 39.0, 36.0, 34.0, 32.0, 30.0, 27.0, 24.0, 21.0, 9.0, 7.0, 4.0, 2.0, 0.0, 1.0, 3.0, 5.0, 6.0, 8.0, 10.0, 13.0, 17.0, 18.0, 15.0, 14.0, 11.0, 12.0, 16.0, 19.0, 20.0, 22.0, 23.0, 25.0, 26.0, 28.0, 29.0, 31.0, 33.0, 35.0, 37.0, 38.0, 41.0, 43.0, 45.0, 48.0, 50.0, 53.0, 55.0, 58.0, 60.0, 62.0, 64.0, 67.0, 70.0, 73.0, 76.0, 78.0, 81.0, 82.0, 85.0, 83.0, 80.0, 79.0, 77.0, 74.0, 71.0, 69.0, 66.0]\n",
      "Current stitch point was not a branch or endpoint, shortest_path_length to one = 19284.929253376733\n",
      "change_status for create soma extending pieces = False\n",
      "closest_sk_pt_coord AFTER = [ 621842.67813931  426992.66131187 1113168.09578974]\n",
      "Adding new branch to skeleton\n",
      "border_average_coordinate = [ 619945.83412698  428443.63571429 1112277.6984127 ]\n",
      "endpoints_must_keep = {1: array([[ 619945.83412698,  428443.63571429, 1112277.6984127 ]])}\n",
      "match_sk_branches = []\n",
      "orig_vertex = [ 621842.67813931  426992.66131187 1113168.09578974]\n",
      "match_sk_branches = [0]\n"
     ]
    },
    {
     "data": {
      "application/vnd.jupyter.widget-view+json": {
       "model_id": "8f354a4f8ffe4b5798c42a4436ad24c0",
       "version_major": 2,
       "version_minor": 0
      },
      "text/plain": [
       "HBox(children=(FloatProgress(value=1.0, bar_style='info', max=1.0), HTML(value='')))"
      ]
     },
     "metadata": {},
     "output_type": "display_data"
    },
    {
     "name": "stdout",
     "output_type": "stream",
     "text": [
      "\n",
      "\n",
      "\n",
      "--- Working on 1-to-1 correspondence-----\n",
      "max(original_labels),len(original_labels) = (2, 3)\n",
      "empty_indices % = 0.6285744601835641\n",
      " conflict_indices % = 0.0020690752825083558\n"
     ]
    },
    {
     "data": {
      "application/vnd.jupyter.widget-view+json": {
       "model_id": "1532e7c0e3a643e181276a9b58c96e5d",
       "version_major": 2,
       "version_minor": 0
      },
      "text/plain": [
       "HBox(children=(FloatProgress(value=0.0, max=38.0), HTML(value='')))"
      ]
     },
     "metadata": {},
     "output_type": "display_data"
    },
    {
     "name": "stdout",
     "output_type": "stream",
     "text": [
      "\n",
      "AFTER face_lookup_resolved_test\n",
      "Took 0 iterations to expand the label back\n",
      "empty_indices % = 0.0\n",
      " conflict_indices % = 0.0\n"
     ]
    },
    {
     "data": {
      "application/vnd.jupyter.widget-view+json": {
       "model_id": "4fa371b84a5a4443b85962865df42d05",
       "version_major": 2,
       "version_minor": 0
      },
      "text/plain": [
       "HBox(children=(FloatProgress(value=1.0, bar_style='info', max=1.0), HTML(value='')))"
      ]
     },
     "metadata": {},
     "output_type": "display_data"
    },
    {
     "name": "stdout",
     "output_type": "stream",
     "text": [
      "\n",
      "AFTER face_lookup_resolved_test\n"
     ]
    },
    {
     "data": {
      "application/vnd.jupyter.widget-view+json": {
       "model_id": "e5dde5631d064b31a113dc143217a2b4",
       "version_major": 2,
       "version_minor": 0
      },
      "text/plain": [
       "HBox(children=(FloatProgress(value=0.0, max=3.0), HTML(value='')))"
      ]
     },
     "metadata": {},
     "output_type": "display_data"
    },
    {
     "name": "stdout",
     "output_type": "stream",
     "text": [
      "\n",
      "curr_width_median = 225.51627434908306\n",
      "curr_width_median = 332.5463903155172\n",
      "curr_width_median = 550.0412867408938\n",
      "checked segment branches after soma add on\n",
      "Total time for mesh KDTree = 0.07850193977355957\n",
      "sbv[0].reshape(-1,3) = [[ 618344.7  423950.8 1113189. ]]\n",
      "closest_sk_pt_coord BEFORE = [ 618403.99655676  423785.61589141 1113286.50100474]\n",
      "current_skeleton.shape = (83, 2, 3)\n",
      "node_for_stitch = 35: [ 618403.99655676  423785.61589141 1113286.50100474]\n",
      "node_for_stitch AFTER = 35: [ 618403.99655676  423785.61589141 1113286.50100474]\n",
      "possible_node_loc = [ 0 83]\n",
      "possible_node_loc AFTER = [ 0 83]\n",
      "curr_shortest_path = [35, 34.0, 33.0, 32.0, 31.0, 30.0, 29.0, 28.0, 27.0, 26.0, 25.0, 24.0, 23.0, 22.0, 21.0, 20.0, 19.0, 18.0, 17.0, 16.0, 15.0, 14.0, 13.0, 12.0, 11.0, 10.0, 9.0, 8.0, 7.0, 6.0, 5.0, 4.0, 3.0, 2.0, 1.0, 0.0]\n",
      "Current stitch point was not a branch or endpoint, shortest_path_length to one = 3471.7583045578\n",
      "change_status for create soma extending pieces = False\n",
      "closest_sk_pt_coord AFTER = [ 618403.99655676  423785.61589141 1113286.50100474]\n",
      "Adding new branch to skeleton\n",
      "border_average_coordinate = [ 618341.45        423892.46666667 1113182.        ]\n",
      "endpoints_must_keep = {1: array([[ 618341.45      ,  423892.46666667, 1113182.        ]])}\n",
      "match_sk_branches = []\n",
      "orig_vertex = [ 618403.99655676  423785.61589141 1113286.50100474]\n",
      "match_sk_branches = [2]\n"
     ]
    },
    {
     "data": {
      "application/vnd.jupyter.widget-view+json": {
       "model_id": "37b1b1b952ac4d19aa9597e617de0467",
       "version_major": 2,
       "version_minor": 0
      },
      "text/plain": [
       "HBox(children=(FloatProgress(value=1.0, bar_style='info', max=1.0), HTML(value='')))"
      ]
     },
     "metadata": {},
     "output_type": "display_data"
    },
    {
     "name": "stdout",
     "output_type": "stream",
     "text": [
      "\n",
      "\n",
      "\n",
      "--- Working on 1-to-1 correspondence-----\n",
      "max(original_labels),len(original_labels) = (2, 3)\n",
      "empty_indices % = 0.46351813826146476\n",
      " conflict_indices % = 0.05010266940451746\n"
     ]
    },
    {
     "data": {
      "application/vnd.jupyter.widget-view+json": {
       "model_id": "cdce17b72941475d8b0c021a1a082359",
       "version_major": 2,
       "version_minor": 0
      },
      "text/plain": [
       "HBox(children=(FloatProgress(value=0.0, max=11.0), HTML(value='')))"
      ]
     },
     "metadata": {},
     "output_type": "display_data"
    },
    {
     "name": "stdout",
     "output_type": "stream",
     "text": [
      "\n",
      "AFTER face_lookup_resolved_test\n",
      "Took 8 iterations to expand the label back\n",
      "empty_indices % = 0.0\n",
      " conflict_indices % = 0.057357973990417525\n"
     ]
    },
    {
     "data": {
      "application/vnd.jupyter.widget-view+json": {
       "model_id": "b096cfb94a8749a1b9c2f820bbd011d9",
       "version_major": 2,
       "version_minor": 0
      },
      "text/plain": [
       "HBox(children=(FloatProgress(value=0.0, max=1.0), HTML(value='')))"
      ]
     },
     "metadata": {},
     "output_type": "display_data"
    },
    {
     "name": "stdout",
     "output_type": "stream",
     "text": [
      "\n",
      "AFTER face_lookup_resolved_test\n"
     ]
    },
    {
     "data": {
      "application/vnd.jupyter.widget-view+json": {
       "model_id": "12fe4fb4035f4a3fb7b03edc83238370",
       "version_major": 2,
       "version_minor": 0
      },
      "text/plain": [
       "HBox(children=(FloatProgress(value=0.0, max=3.0), HTML(value='')))"
      ]
     },
     "metadata": {},
     "output_type": "display_data"
    },
    {
     "name": "stdout",
     "output_type": "stream",
     "text": [
      "\n",
      "curr_width_median = 567.1340557421107\n",
      "curr_width_median = 225.99040196324486\n",
      "curr_width_median = 194.45857749439602\n",
      "checked segment branches after soma add on\n",
      "Total time for mesh KDTree = 0.21205973625183105\n",
      "sbv[0].reshape(-1,3) = [[ 622353.4  432158.2 1112017. ]]\n",
      "closest_sk_pt_coord BEFORE = [ 624588.67305282  430087.94762217 1113777.08497719]\n",
      "current_skeleton.shape = (1143, 2, 3)\n",
      "node_for_stitch = 954: [ 624588.67305282  430087.94762217 1113777.08497719]\n",
      "node_for_stitch AFTER = 954: [ 624588.67305282  430087.94762217 1113777.08497719]\n",
      "possible_node_loc = [ 24 535]\n",
      "possible_node_loc AFTER = [ 24 535]\n",
      "curr_shortest_path = [954, 940.0, 929.0, 916.0, 895.0, 870.0, 848.0, 825.0, 808.0, 782.0, 766.0, 755.0, 738.0, 716.0, 710.0, 705.0, 697.0, 689.0, 681.0, 674.0, 667.0, 660.0, 655.0, 648.0, 642.0, 636.0, 630.0, 623.0, 616.0, 609.0, 602.0, 595.0, 588.0, 581.0, 574.0, 566.0, 554.0, 549.0, 547.0, 544.0, 541.0, 538.0, 535.0]\n",
      "Current stitch point was not a branch or endpoint, shortest_path_length to one = 4199.857723757349\n",
      "change_status for create soma extending pieces = False\n",
      "closest_sk_pt_coord AFTER = [ 624588.67305282  430087.94762217 1113777.08497719]\n",
      "Adding new branch to skeleton\n",
      "border_average_coordinate = [ 622349.07894737  432513.24736842 1111954.31578947]\n",
      "endpoints_must_keep = {1: array([[ 622349.07894737,  432513.24736842, 1111954.31578947]])}\n",
      "match_sk_branches = []\n",
      "orig_vertex = [ 624588.67305282  430087.94762217 1113777.08497719]\n",
      "match_sk_branches = [1]\n"
     ]
    },
    {
     "data": {
      "application/vnd.jupyter.widget-view+json": {
       "model_id": "247d3037c63e4f39aea38adf55009ed3",
       "version_major": 2,
       "version_minor": 0
      },
      "text/plain": [
       "HBox(children=(FloatProgress(value=1.0, bar_style='info', max=1.0), HTML(value='')))"
      ]
     },
     "metadata": {},
     "output_type": "display_data"
    },
    {
     "name": "stdout",
     "output_type": "stream",
     "text": [
      "\n",
      "\n",
      "\n",
      "--- Working on 1-to-1 correspondence-----\n",
      "max(original_labels),len(original_labels) = (2, 3)\n",
      "empty_indices % = 0.5231899334607023\n",
      " conflict_indices % = 0.04585282297911589\n"
     ]
    },
    {
     "data": {
      "application/vnd.jupyter.widget-view+json": {
       "model_id": "06ab0f2ffc9d40daaa5608b37d81ea1a",
       "version_major": 2,
       "version_minor": 0
      },
      "text/plain": [
       "HBox(children=(FloatProgress(value=0.0, max=33.0), HTML(value='')))"
      ]
     },
     "metadata": {},
     "output_type": "display_data"
    },
    {
     "name": "stdout",
     "output_type": "stream",
     "text": [
      "\n",
      "AFTER face_lookup_resolved_test\n",
      "Took 5 iterations to expand the label back\n",
      "empty_indices % = 0.0\n",
      " conflict_indices % = 0.05095856117003755\n"
     ]
    },
    {
     "data": {
      "application/vnd.jupyter.widget-view+json": {
       "model_id": "fc01523c76b74ad5ba2f268933a11155",
       "version_major": 2,
       "version_minor": 0
      },
      "text/plain": [
       "HBox(children=(FloatProgress(value=0.0, max=1.0), HTML(value='')))"
      ]
     },
     "metadata": {},
     "output_type": "display_data"
    },
    {
     "name": "stdout",
     "output_type": "stream",
     "text": [
      "\n",
      "AFTER face_lookup_resolved_test\n"
     ]
    },
    {
     "data": {
      "application/vnd.jupyter.widget-view+json": {
       "model_id": "290c3988793a40f2a08e917125d54ff1",
       "version_major": 2,
       "version_minor": 0
      },
      "text/plain": [
       "HBox(children=(FloatProgress(value=0.0, max=3.0), HTML(value='')))"
      ]
     },
     "metadata": {},
     "output_type": "display_data"
    },
    {
     "name": "stdout",
     "output_type": "stream",
     "text": [
      "\n",
      "curr_width_median = 215.14587207642995\n",
      "curr_width_median = 96.34162464612749\n",
      "curr_width_median = 445.6740693279284\n",
      "checked segment branches after soma add on\n",
      "Total time for mesh KDTree = 0.11357402801513672\n",
      "sbv[0].reshape(-1,3) = [[ 623257.2  430646.  1113209. ]]\n",
      "closest_sk_pt_coord BEFORE = [ 624184.43371757  429651.24144544 1113700.58958541]\n",
      "current_skeleton.shape = (43, 2, 3)\n",
      "node_for_stitch = 37: [ 624184.43371757  429651.24144544 1113700.58958541]\n",
      "node_for_stitch AFTER = 37: [ 624184.43371757  429651.24144544 1113700.58958541]\n",
      "possible_node_loc = [0 9]\n",
      "possible_node_loc AFTER = [0 9]\n",
      "curr_shortest_path = [37, 36.0, 35.0, 34.0, 33.0, 32.0, 31.0, 30.0, 29.0, 28.0, 27.0, 26.0, 25.0, 24.0, 23.0, 22.0, 21.0, 20.0, 19.0, 18.0, 17.0, 16.0, 15.0, 14.0, 13.0, 12.0, 11.0, 10.0, 8.0, 7.0, 6.0, 5.0, 4.0, 3.0, 2.0, 1.0, 0.0]\n",
      "Current stitch point was not a branch or endpoint, shortest_path_length to one = 3599.8593192346534\n",
      "change_status for create soma extending pieces = False\n",
      "closest_sk_pt_coord AFTER = [ 624184.43371757  429651.24144544 1113700.58958541]\n",
      "Adding new branch to skeleton\n",
      "border_average_coordinate = [ 623111.42758621  430770.13103448 1113034.75862069]\n",
      "endpoints_must_keep = {1: array([[ 623111.42758621,  430770.13103448, 1113034.75862069]])}\n",
      "match_sk_branches = []\n",
      "orig_vertex = [ 624184.43371757  429651.24144544 1113700.58958541]\n",
      "match_sk_branches = [6]\n"
     ]
    },
    {
     "data": {
      "application/vnd.jupyter.widget-view+json": {
       "model_id": "1f2b51aef61644479c020c8f042f55aa",
       "version_major": 2,
       "version_minor": 0
      },
      "text/plain": [
       "HBox(children=(FloatProgress(value=1.0, bar_style='info', max=1.0), HTML(value='')))"
      ]
     },
     "metadata": {},
     "output_type": "display_data"
    },
    {
     "name": "stdout",
     "output_type": "stream",
     "text": [
      "\n",
      "\n",
      "\n",
      "--- Working on 1-to-1 correspondence-----\n",
      "max(original_labels),len(original_labels) = (2, 3)\n",
      "empty_indices % = 0.2305\n",
      " conflict_indices % = 0.12233333333333334\n"
     ]
    },
    {
     "data": {
      "application/vnd.jupyter.widget-view+json": {
       "model_id": "38edb452514b480da7c66949f0d3715f",
       "version_major": 2,
       "version_minor": 0
      },
      "text/plain": [
       "HBox(children=(FloatProgress(value=0.0, max=12.0), HTML(value='')))"
      ]
     },
     "metadata": {},
     "output_type": "display_data"
    },
    {
     "name": "stdout",
     "output_type": "stream",
     "text": [
      "\n",
      "AFTER face_lookup_resolved_test\n",
      "Took 0 iterations to expand the label back\n",
      "empty_indices % = 0.0\n",
      " conflict_indices % = 0.0\n"
     ]
    },
    {
     "data": {
      "application/vnd.jupyter.widget-view+json": {
       "model_id": "58814453fc1844c7af4a4592e907e023",
       "version_major": 2,
       "version_minor": 0
      },
      "text/plain": [
       "HBox(children=(FloatProgress(value=1.0, bar_style='info', max=1.0), HTML(value='')))"
      ]
     },
     "metadata": {},
     "output_type": "display_data"
    },
    {
     "name": "stdout",
     "output_type": "stream",
     "text": [
      "\n",
      "AFTER face_lookup_resolved_test\n"
     ]
    },
    {
     "data": {
      "application/vnd.jupyter.widget-view+json": {
       "model_id": "d0c07be3dc4f4bdfa553ab5a3366a6d6",
       "version_major": 2,
       "version_minor": 0
      },
      "text/plain": [
       "HBox(children=(FloatProgress(value=0.0, max=3.0), HTML(value='')))"
      ]
     },
     "metadata": {},
     "output_type": "display_data"
    },
    {
     "name": "stdout",
     "output_type": "stream",
     "text": [
      "\n",
      "curr_width_median = 65.6378450127687\n",
      "curr_width_median = 124.48928134991748\n",
      "curr_width_median = 393.413813290443\n",
      "checked segment branches after soma add on\n",
      "Total time for mesh KDTree = 0.08137035369873047\n",
      "sbv[0].reshape(-1,3) = [[ 622835.   431819.4 1112523. ]]\n",
      "closest_sk_pt_coord BEFORE = [ 622349.07894737  432513.24736842 1111954.31578947]\n",
      "current_skeleton.shape = (1, 2, 3)\n",
      "node_for_stitch = 0: [ 622349.07894737  432513.24736842 1111954.31578947]\n",
      "node_for_stitch AFTER = 0: [ 622349.07894737  432513.24736842 1111954.31578947]\n",
      "possible_node_loc = [0 1]\n",
      "possible_node_loc AFTER = [0 1]\n",
      "curr_shortest_path = [0]\n",
      "Current stitch point was a branch or endpoint\n",
      "change_status for create soma extending pieces = False\n",
      "closest_sk_pt_coord AFTER = [ 622349.07894737  432513.24736842 1111954.31578947]\n",
      "skipping soma 1 because closest skeleton node was already end node\n",
      "endpoints_must_keep = {1: array([[ 622349.07894737,  432513.24736842, 1111954.31578947]])}\n",
      "match_sk_branches = [6]\n",
      "The new branch info was none so skipping \n",
      "\n",
      "Total time for mesh KDTree = 0.05074191093444824\n",
      "sbv[0].reshape(-1,3) = [[ 621357.4  426542.7 1112726. ]]\n",
      "closest_sk_pt_coord BEFORE = [ 621473.21226609  426520.09135602 1113166.18135163]\n",
      "current_skeleton.shape = (48, 2, 3)\n",
      "node_for_stitch = 42: [ 621473.21226609  426520.09135602 1113166.18135163]\n",
      "node_for_stitch AFTER = 42: [ 621473.21226609  426520.09135602 1113166.18135163]\n",
      "possible_node_loc = [ 0 48]\n",
      "possible_node_loc AFTER = [ 0 48]\n",
      "curr_shortest_path = [42, 43.0, 44.0, 45.0, 46.0, 47.0, 48.0]\n",
      "Current stitch point was not a branch or endpoint, shortest_path_length to one = 599.9927401249486\n",
      "Changing the stitch point becasue the distance to end or branch node was 599.9927401249486\n",
      "New stitch point has degree 1\n",
      "change_status for create soma extending pieces = True\n",
      "closest_sk_pt_coord AFTER = [ 621842.67813931  426992.66131187 1113168.09578974]\n",
      "skipping soma 1 because closest skeleton node was already end node\n",
      "endpoints_must_keep = {1: array([[ 621842.67813931,  426992.66131187, 1113168.09578974]])}\n",
      "match_sk_branches = [1, 3, 7]\n",
      "orig_vertex = [ 621842.67813931  426992.66131187 1113168.09578974]\n",
      "match_sk_branches = [1, 3, 7]\n"
     ]
    },
    {
     "data": {
      "application/vnd.jupyter.widget-view+json": {
       "model_id": "0e420e362a4047ee8472e6540c4a1ae1",
       "version_major": 2,
       "version_minor": 0
      },
      "text/plain": [
       "HBox(children=(FloatProgress(value=1.0, bar_style='info', max=1.0), HTML(value='')))"
      ]
     },
     "metadata": {},
     "output_type": "display_data"
    },
    {
     "name": "stdout",
     "output_type": "stream",
     "text": [
      "\n",
      "\n",
      "\n",
      "--- Working on 1-to-1 correspondence-----\n",
      "max(original_labels),len(original_labels) = (3, 4)\n",
      "empty_indices % = 0.2757644394110985\n",
      " conflict_indices % = 0.044394110985277464\n"
     ]
    },
    {
     "data": {
      "application/vnd.jupyter.widget-view+json": {
       "model_id": "cbc3d2067cd145c080c8c4d9d18320aa",
       "version_major": 2,
       "version_minor": 0
      },
      "text/plain": [
       "HBox(children=(FloatProgress(value=0.0, max=14.0), HTML(value='')))"
      ]
     },
     "metadata": {},
     "output_type": "display_data"
    },
    {
     "name": "stdout",
     "output_type": "stream",
     "text": [
      "\n",
      "AFTER face_lookup_resolved_test\n",
      "Took 0 iterations to expand the label back\n",
      "empty_indices % = 0.0\n",
      " conflict_indices % = 0.0\n"
     ]
    },
    {
     "data": {
      "application/vnd.jupyter.widget-view+json": {
       "model_id": "06af76f595034559ad4690075bcc111a",
       "version_major": 2,
       "version_minor": 0
      },
      "text/plain": [
       "HBox(children=(FloatProgress(value=1.0, bar_style='info', max=1.0), HTML(value='')))"
      ]
     },
     "metadata": {},
     "output_type": "display_data"
    },
    {
     "name": "stdout",
     "output_type": "stream",
     "text": [
      "\n",
      "AFTER face_lookup_resolved_test\n"
     ]
    },
    {
     "data": {
      "application/vnd.jupyter.widget-view+json": {
       "model_id": "5effde3b69fa4d859197d5fb207426ee",
       "version_major": 2,
       "version_minor": 0
      },
      "text/plain": [
       "HBox(children=(FloatProgress(value=0.0, max=4.0), HTML(value='')))"
      ]
     },
     "metadata": {},
     "output_type": "display_data"
    },
    {
     "name": "stdout",
     "output_type": "stream",
     "text": [
      "\n",
      "curr_width_median = 562.5202729363778\n",
      "curr_width_median = 380.2020417279954\n",
      "curr_width_median = 96.42768073061058\n",
      "curr_width_median = 115.56494750926565\n",
      "checked segment branches after soma add on\n",
      "MP (because soma touching verts) soma extension add: 24.978768348693848\n",
      "---- Working on MP Decomposition #12 ----\n",
      "Computing the current soma touching verts dict manually\n",
      "MP filtering soma verts: 0.0015273094177246094\n",
      "Do Not Need to Fix MP Decomposition 12 so just continuing\n",
      "---- Working on MP Decomposition #13 ----\n",
      "Computing the current soma touching verts dict manually\n",
      "MP filtering soma verts: 0.0015385150909423828\n",
      "Do Not Need to Fix MP Decomposition 13 so just continuing\n",
      "---- Working on MP Decomposition #14 ----\n",
      "Computing the current soma touching verts dict manually\n",
      "MP filtering soma verts: 0.0009806156158447266\n",
      "Do Not Need to Fix MP Decomposition 14 so just continuing\n",
      "---- Working on MP Decomposition #15 ----\n",
      "Computing the current soma touching verts dict manually\n",
      "MP filtering soma verts: 0.0014028549194335938\n",
      "Do Not Need to Fix MP Decomposition 15 so just continuing\n",
      "Edge (0, 10) was not kept\n",
      "Successful mesh connectivity with type edges\n",
      "\n",
      "---- Working on (0, 0) connection-----\n",
      "node_for_stitch = 4031: [ 611460.  407150. 1107930.]\n",
      "node_for_stitch AFTER = 4031: [ 611460.  407150. 1107930.]\n",
      "possible_node_loc = [3995 4602]\n",
      "possible_node_loc AFTER = [3995 4602]\n",
      "curr_shortest_path = [4031, 3998.0, 3972.0, 3964.0, 3950.0, 3986.0, 4004.0, 4021.0, 4046.0, 4055.0, 4067.0, 4094.0, 4100.0, 4111.0, 4122.0, 4128.0, 4141.0, 4148.0, 4152.0, 4161.0, 4168.0, 4176.0, 4179.0, 4188.0, 4205.0, 4212.0, 4220.0, 4234.0, 4245.0, 4255.0, 4279.0, 4304.0, 4335.0, 4351.0, 4360.0, 4366.0, 4378.0, 4385.0, 4397.0, 4403.0, 4429.0, 4439.0, 4447.0, 4460.0, 4471.0, 4481.0, 4486.0, 4493.0, 4506.0, 4516.0, 4530.0, 4546.0, 4558.0, 4572.0, 4578.0, 4586.0, 4595.0, 4602.0]\n",
      "Current stitch point was not a branch or endpoint, shortest_path_length to one = 7832.271137661266\n",
      "sk_conn = [0, 1]\n",
      "conn = [0, 1]\n",
      "winning_vertex = [ 612155.2595375   406906.71958412 1109388.31038477]\n",
      "MP_branches_with_stitch_point = [0, 1]\n",
      "MAP_branches_with_stitch_point = [15]\n",
      "MAP_stitch_point_on_end_or_branch = False\n"
     ]
    },
    {
     "data": {
      "application/vnd.jupyter.widget-view+json": {
       "model_id": "79b273476db7466b83ce48c0237baeb5",
       "version_major": 2,
       "version_minor": 0
      },
      "text/plain": [
       "HBox(children=(FloatProgress(value=1.0, bar_style='info', max=1.0), HTML(value='')))"
      ]
     },
     "metadata": {},
     "output_type": "display_data"
    },
    {
     "name": "stdout",
     "output_type": "stream",
     "text": [
      "\n",
      "\n",
      "\n",
      "--- Working on 1-to-1 correspondence-----\n",
      "max(original_labels),len(original_labels) = (1, 2)\n",
      "empty_indices % = 0.24206844866350238\n",
      " conflict_indices % = 0.024231826130402197\n"
     ]
    },
    {
     "data": {
      "application/vnd.jupyter.widget-view+json": {
       "model_id": "f485cdf08a3f48499d702c46ddf3bdb4",
       "version_major": 2,
       "version_minor": 0
      },
      "text/plain": [
       "HBox(children=(FloatProgress(value=0.0, max=16.0), HTML(value='')))"
      ]
     },
     "metadata": {},
     "output_type": "display_data"
    },
    {
     "name": "stdout",
     "output_type": "stream",
     "text": [
      "\n",
      "AFTER face_lookup_resolved_test\n"
     ]
    },
    {
     "data": {
      "application/vnd.jupyter.widget-view+json": {
       "model_id": "dc8dd52ae796474a8ed361eef1a87755",
       "version_major": 2,
       "version_minor": 0
      },
      "text/plain": [
       "HBox(children=(FloatProgress(value=0.0, max=2.0), HTML(value='')))"
      ]
     },
     "metadata": {},
     "output_type": "display_data"
    },
    {
     "name": "stdout",
     "output_type": "stream",
     "text": [
      "\n"
     ]
    },
    {
     "data": {
      "application/vnd.jupyter.widget-view+json": {
       "model_id": "1167a445614a438395b9beae037995e6",
       "version_major": 2,
       "version_minor": 0
      },
      "text/plain": [
       "HBox(children=(FloatProgress(value=1.0, bar_style='info', max=1.0), HTML(value='')))"
      ]
     },
     "metadata": {},
     "output_type": "display_data"
    },
    {
     "name": "stdout",
     "output_type": "stream",
     "text": [
      "\n",
      "\n",
      "\n",
      "--- Working on 1-to-1 correspondence-----\n",
      "max(original_labels),len(original_labels) = (3, 4)\n",
      "empty_indices % = 0.4446330981057993\n",
      " conflict_indices % = 0.012840239825966998\n"
     ]
    },
    {
     "data": {
      "application/vnd.jupyter.widget-view+json": {
       "model_id": "370c2c27d8a54035a63590ded33a9c4c",
       "version_major": 2,
       "version_minor": 0
      },
      "text/plain": [
       "HBox(children=(FloatProgress(value=0.0, max=21.0), HTML(value='')))"
      ]
     },
     "metadata": {},
     "output_type": "display_data"
    },
    {
     "name": "stdout",
     "output_type": "stream",
     "text": [
      "\n",
      "AFTER face_lookup_resolved_test\n"
     ]
    },
    {
     "data": {
      "application/vnd.jupyter.widget-view+json": {
       "model_id": "a1331c8356344ab1879997ccdb131673",
       "version_major": 2,
       "version_minor": 0
      },
      "text/plain": [
       "HBox(children=(FloatProgress(value=0.0, max=4.0), HTML(value='')))"
      ]
     },
     "metadata": {},
     "output_type": "display_data"
    },
    {
     "name": "stdout",
     "output_type": "stream",
     "text": [
      "\n",
      "Deleting branches from dictionary\n",
      "MP_branches_with_stitch_point= [0, 1]\n",
      "MP_branches_for_correspondence = [0 1]\n",
      "MP_leftover = [], MP_leftover_idx = []\n",
      " Finished with (0, 0) \n",
      "\n",
      "\n",
      "\n",
      "\n",
      "---- Working on (1, 0) connection-----\n",
      "node_for_stitch = 5306: [ 619449.  414631. 1074680.]\n",
      "node_for_stitch AFTER = 5306: [ 619449.  414631. 1074680.]\n",
      "possible_node_loc = [5528 5574]\n",
      "possible_node_loc AFTER = [5528 5574]\n",
      "curr_shortest_path = [5306, 5307.0, 5312.0, 5313.0, 5317.0, 5321.0, 5327.0, 5329.0, 5333.0, 5337.0, 5340.0, 5345.0, 5348.0, 5351.0, 5353.0, 5358.0, 5362.0, 5369.0, 5371.0, 5375.0, 5378.0, 5385.0, 5391.0, 5394.0, 5401.0, 5414.0, 5426.0, 5449.0, 5469.0, 5488.0, 5528.0]\n",
      "Current stitch point was not a branch or endpoint, shortest_path_length to one = 3987.731176905119\n",
      "sk_conn = [4]\n",
      "conn = [4]\n",
      "winning_vertex = [ 619668.73450854  415063.44712746 1074501.94326029]\n",
      "MP_branches_with_stitch_point = [4]\n",
      "MAP_branches_with_stitch_point = [22]\n",
      "MAP_stitch_point_on_end_or_branch = False\n"
     ]
    },
    {
     "data": {
      "application/vnd.jupyter.widget-view+json": {
       "model_id": "1f7c4e90041d47bdbfd0994983ebe676",
       "version_major": 2,
       "version_minor": 0
      },
      "text/plain": [
       "HBox(children=(FloatProgress(value=1.0, bar_style='info', max=1.0), HTML(value='')))"
      ]
     },
     "metadata": {},
     "output_type": "display_data"
    },
    {
     "name": "stdout",
     "output_type": "stream",
     "text": [
      "\n",
      "\n",
      "\n",
      "--- Working on 1-to-1 correspondence-----\n",
      "max(original_labels),len(original_labels) = (1, 2)\n",
      "empty_indices % = 0.007860262008733625\n",
      " conflict_indices % = 0.00960698689956332\n"
     ]
    },
    {
     "data": {
      "application/vnd.jupyter.widget-view+json": {
       "model_id": "747bf0ae3a0e4b67a614352f134dfa10",
       "version_major": 2,
       "version_minor": 0
      },
      "text/plain": [
       "HBox(children=(FloatProgress(value=0.0, max=10.0), HTML(value='')))"
      ]
     },
     "metadata": {},
     "output_type": "display_data"
    },
    {
     "name": "stdout",
     "output_type": "stream",
     "text": [
      "\n",
      "AFTER face_lookup_resolved_test\n"
     ]
    },
    {
     "data": {
      "application/vnd.jupyter.widget-view+json": {
       "model_id": "9e1875f2f04f4afa8d24a5b4b350988f",
       "version_major": 2,
       "version_minor": 0
      },
      "text/plain": [
       "HBox(children=(FloatProgress(value=0.0, max=2.0), HTML(value='')))"
      ]
     },
     "metadata": {},
     "output_type": "display_data"
    },
    {
     "name": "stdout",
     "output_type": "stream",
     "text": [
      "\n"
     ]
    },
    {
     "data": {
      "application/vnd.jupyter.widget-view+json": {
       "model_id": "4630c5f09cb84d518db98bcd20db8ffd",
       "version_major": 2,
       "version_minor": 0
      },
      "text/plain": [
       "HBox(children=(FloatProgress(value=1.0, bar_style='info', max=1.0), HTML(value='')))"
      ]
     },
     "metadata": {},
     "output_type": "display_data"
    },
    {
     "name": "stdout",
     "output_type": "stream",
     "text": [
      "\n",
      "\n",
      "\n",
      "--- Working on 1-to-1 correspondence-----\n",
      "max(original_labels),len(original_labels) = (2, 3)\n",
      "empty_indices % = 0.05907050818010714\n",
      " conflict_indices % = 0.046329810337338934\n"
     ]
    },
    {
     "data": {
      "application/vnd.jupyter.widget-view+json": {
       "model_id": "9c0a4923854944d5bc89121d712629e0",
       "version_major": 2,
       "version_minor": 0
      },
      "text/plain": [
       "HBox(children=(FloatProgress(value=0.0, max=8.0), HTML(value='')))"
      ]
     },
     "metadata": {},
     "output_type": "display_data"
    },
    {
     "name": "stdout",
     "output_type": "stream",
     "text": [
      "\n",
      "AFTER face_lookup_resolved_test\n"
     ]
    },
    {
     "data": {
      "application/vnd.jupyter.widget-view+json": {
       "model_id": "01ca314524854c50a944bdbc46d07173",
       "version_major": 2,
       "version_minor": 0
      },
      "text/plain": [
       "HBox(children=(FloatProgress(value=0.0, max=3.0), HTML(value='')))"
      ]
     },
     "metadata": {},
     "output_type": "display_data"
    },
    {
     "name": "stdout",
     "output_type": "stream",
     "text": [
      "\n",
      "Deleting branches from dictionary\n",
      "MP_branches_with_stitch_point= [4]\n",
      "MP_branches_for_correspondence = [4]\n",
      "MP_leftover = [], MP_leftover_idx = []\n",
      " Finished with (1, 0) \n",
      "\n",
      "\n",
      "\n",
      "\n",
      "---- Working on (4, 0) connection-----\n",
      "node_for_stitch = 3635: [ 609583.  410188. 1099920.]\n",
      "node_for_stitch AFTER = 3635: [ 609583.  410188. 1099920.]\n",
      "possible_node_loc = [2215 3902]\n",
      "possible_node_loc AFTER = [2215 3902]\n",
      "curr_shortest_path = [3635, 3654.0, 3669.0, 3684.0, 3710.0, 3755.0, 3820.0, 3840.0, 3860.0, 3875.0, 3902.0]\n",
      "Current stitch point was not a branch or endpoint, shortest_path_length to one = 1646.4283908119173\n",
      "sk_conn = [0]\n",
      "conn = [0]\n",
      "winning_vertex = [ 609694.04370022  409947.11217946 1099324.1374985 ]\n",
      "MP_branches_with_stitch_point = [0]\n",
      "MAP_branches_with_stitch_point = [6]\n",
      "MAP_stitch_point_on_end_or_branch = False\n"
     ]
    },
    {
     "data": {
      "application/vnd.jupyter.widget-view+json": {
       "model_id": "caa2b373ee3f45b9b94ba495638ef80d",
       "version_major": 2,
       "version_minor": 0
      },
      "text/plain": [
       "HBox(children=(FloatProgress(value=1.0, bar_style='info', max=1.0), HTML(value='')))"
      ]
     },
     "metadata": {},
     "output_type": "display_data"
    },
    {
     "name": "stdout",
     "output_type": "stream",
     "text": [
      "\n",
      "\n",
      "\n",
      "--- Working on 1-to-1 correspondence-----\n",
      "max(original_labels),len(original_labels) = (1, 2)\n",
      "empty_indices % = 0.1985592907277429\n",
      " conflict_indices % = 0.007942371629109716\n"
     ]
    },
    {
     "data": {
      "application/vnd.jupyter.widget-view+json": {
       "model_id": "cbc453c489834edf9d8268246a42c46c",
       "version_major": 2,
       "version_minor": 0
      },
      "text/plain": [
       "HBox(children=(FloatProgress(value=0.0, max=19.0), HTML(value='')))"
      ]
     },
     "metadata": {},
     "output_type": "display_data"
    },
    {
     "name": "stdout",
     "output_type": "stream",
     "text": [
      "\n",
      "AFTER face_lookup_resolved_test\n"
     ]
    },
    {
     "data": {
      "application/vnd.jupyter.widget-view+json": {
       "model_id": "2aa971f81a4640d4bcabd967d100391f",
       "version_major": 2,
       "version_minor": 0
      },
      "text/plain": [
       "HBox(children=(FloatProgress(value=0.0, max=2.0), HTML(value='')))"
      ]
     },
     "metadata": {},
     "output_type": "display_data"
    },
    {
     "name": "stdout",
     "output_type": "stream",
     "text": [
      "\n"
     ]
    },
    {
     "data": {
      "application/vnd.jupyter.widget-view+json": {
       "model_id": "73248d72210445669d82ee7828222fc3",
       "version_major": 2,
       "version_minor": 0
      },
      "text/plain": [
       "HBox(children=(FloatProgress(value=1.0, bar_style='info', max=1.0), HTML(value='')))"
      ]
     },
     "metadata": {},
     "output_type": "display_data"
    },
    {
     "name": "stdout",
     "output_type": "stream",
     "text": [
      "\n",
      "\n",
      "\n",
      "--- Working on 1-to-1 correspondence-----\n",
      "max(original_labels),len(original_labels) = (2, 3)\n",
      "empty_indices % = 0.2572099628577671\n",
      " conflict_indices % = 0.017260214114048503\n"
     ]
    },
    {
     "data": {
      "application/vnd.jupyter.widget-view+json": {
       "model_id": "88c7e2a5bd844614b87bfb5880a5a9a7",
       "version_major": 2,
       "version_minor": 0
      },
      "text/plain": [
       "HBox(children=(FloatProgress(value=0.0, max=39.0), HTML(value='')))"
      ]
     },
     "metadata": {},
     "output_type": "display_data"
    },
    {
     "name": "stdout",
     "output_type": "stream",
     "text": [
      "\n",
      "AFTER face_lookup_resolved_test\n"
     ]
    },
    {
     "data": {
      "application/vnd.jupyter.widget-view+json": {
       "model_id": "bdfb2e3f0f2c4e10bef23928feda383c",
       "version_major": 2,
       "version_minor": 0
      },
      "text/plain": [
       "HBox(children=(FloatProgress(value=0.0, max=3.0), HTML(value='')))"
      ]
     },
     "metadata": {},
     "output_type": "display_data"
    },
    {
     "name": "stdout",
     "output_type": "stream",
     "text": [
      "\n",
      "Deleting branches from dictionary\n",
      "MP_branches_with_stitch_point= [0]\n",
      "MP_branches_for_correspondence = [0]\n",
      "MP_leftover = [], MP_leftover_idx = []\n",
      " Finished with (4, 0) \n",
      "\n",
      "\n",
      "\n",
      "\n",
      "---- Working on (5, 0) connection-----\n",
      "node_for_stitch = 4503: [ 614126.  402595. 1081380.]\n",
      "node_for_stitch AFTER = 4503: [ 614126.  402595. 1081380.]\n",
      "possible_node_loc = [3995 5052]\n",
      "possible_node_loc AFTER = [3995 5052]\n",
      "curr_shortest_path = [4503, 4517.0, 4535.0, 4547.0, 4567.0, 4585.0, 4606.0, 4614.0, 4623.0, 4639.0, 4649.0, 4661.0, 4672.0, 4685.0, 4696.0, 4704.0, 4710.0, 4722.0, 4732.0, 4736.0, 4746.0, 4763.0, 4779.0, 4809.0, 4820.0, 4830.0, 4841.0, 4848.0, 4864.0, 4874.0, 4881.0, 4887.0, 4892.0, 4903.0, 4907.0, 4912.0, 4920.0, 4929.0, 4937.0, 4949.0, 4961.0, 4994.0, 5014.0, 5025.0, 5052.0]\n",
      "Current stitch point was not a branch or endpoint, shortest_path_length to one = 6249.387205911678\n",
      "sk_conn = [0, 1]\n",
      "conn = [0, 1]\n",
      "winning_vertex = [ 614060.08277838  402654.49384363 1080367.90312612]\n",
      "MP_branches_with_stitch_point = [0, 1]\n",
      "MAP_branches_with_stitch_point = [11]\n",
      "MAP_stitch_point_on_end_or_branch = False\n"
     ]
    },
    {
     "data": {
      "application/vnd.jupyter.widget-view+json": {
       "model_id": "172ea6e665a64c17a6542919531776c5",
       "version_major": 2,
       "version_minor": 0
      },
      "text/plain": [
       "HBox(children=(FloatProgress(value=1.0, bar_style='info', max=1.0), HTML(value='')))"
      ]
     },
     "metadata": {},
     "output_type": "display_data"
    },
    {
     "name": "stdout",
     "output_type": "stream",
     "text": [
      "\n",
      "\n",
      "\n",
      "--- Working on 1-to-1 correspondence-----\n",
      "max(original_labels),len(original_labels) = (1, 2)\n",
      "empty_indices % = 0.23992265357727205\n",
      " conflict_indices % = 0.005503495463334821\n"
     ]
    },
    {
     "data": {
      "application/vnd.jupyter.widget-view+json": {
       "model_id": "b972e3adbab645f09122d37216503105",
       "version_major": 2,
       "version_minor": 0
      },
      "text/plain": [
       "HBox(children=(FloatProgress(value=0.0, max=15.0), HTML(value='')))"
      ]
     },
     "metadata": {},
     "output_type": "display_data"
    },
    {
     "name": "stdout",
     "output_type": "stream",
     "text": [
      "\n",
      "AFTER face_lookup_resolved_test\n"
     ]
    },
    {
     "data": {
      "application/vnd.jupyter.widget-view+json": {
       "model_id": "58f3fbe066d5470aaa3c14550bc35ed2",
       "version_major": 2,
       "version_minor": 0
      },
      "text/plain": [
       "HBox(children=(FloatProgress(value=0.0, max=2.0), HTML(value='')))"
      ]
     },
     "metadata": {},
     "output_type": "display_data"
    },
    {
     "name": "stdout",
     "output_type": "stream",
     "text": [
      "\n"
     ]
    },
    {
     "data": {
      "application/vnd.jupyter.widget-view+json": {
       "model_id": "d8750f307fa24b978b38880a80e4bb57",
       "version_major": 2,
       "version_minor": 0
      },
      "text/plain": [
       "HBox(children=(FloatProgress(value=1.0, bar_style='info', max=1.0), HTML(value='')))"
      ]
     },
     "metadata": {},
     "output_type": "display_data"
    },
    {
     "name": "stdout",
     "output_type": "stream",
     "text": [
      "\n",
      "\n",
      "\n",
      "--- Working on 1-to-1 correspondence-----\n",
      "max(original_labels),len(original_labels) = (3, 4)\n",
      "empty_indices % = 0.2167245027507406\n",
      " conflict_indices % = 0.01154464663563267\n"
     ]
    },
    {
     "data": {
      "application/vnd.jupyter.widget-view+json": {
       "model_id": "0625ea9656a7407dac479518d95cb0f7",
       "version_major": 2,
       "version_minor": 0
      },
      "text/plain": [
       "HBox(children=(FloatProgress(value=0.0, max=143.0), HTML(value='')))"
      ]
     },
     "metadata": {},
     "output_type": "display_data"
    },
    {
     "name": "stdout",
     "output_type": "stream",
     "text": [
      "\n",
      "AFTER face_lookup_resolved_test\n"
     ]
    },
    {
     "data": {
      "application/vnd.jupyter.widget-view+json": {
       "model_id": "c6a81d5a325c42b3bb4621348c345a33",
       "version_major": 2,
       "version_minor": 0
      },
      "text/plain": [
       "HBox(children=(FloatProgress(value=0.0, max=4.0), HTML(value='')))"
      ]
     },
     "metadata": {},
     "output_type": "display_data"
    },
    {
     "name": "stdout",
     "output_type": "stream",
     "text": [
      "\n",
      "Deleting branches from dictionary\n",
      "MP_branches_with_stitch_point= [0, 1]\n",
      "MP_branches_for_correspondence = [0 1]\n",
      "MP_leftover = [], MP_leftover_idx = []\n",
      " Finished with (5, 0) \n",
      "\n",
      "\n",
      "\n",
      "\n",
      "---- Working on (6, 0) connection-----\n",
      "node_for_stitch = 822: [575155. 384430. 956200.]\n",
      "node_for_stitch AFTER = 822: [575155. 384430. 956200.]\n",
      "possible_node_loc = [ 827 3144]\n",
      "possible_node_loc AFTER = [ 827 3144]\n",
      "curr_shortest_path = [822, 825.0, 827.0]\n",
      "Current stitch point was not a branch or endpoint, shortest_path_length to one = 233.65518923864997\n",
      "Changing the stitch point becasue the distance to end or branch node was 233.65518923864997\n",
      "New stitch point has degree 1\n",
      "sk_conn = [0, 1]\n",
      "conn = [0, 1]\n",
      "winning_vertex = [574952.01738301 384797.91645902 955755.35945969]\n",
      "MP_branches_with_stitch_point = [0, 1]\n",
      "MAP_branches_with_stitch_point = [1]\n",
      "MAP_stitch_point_on_end_or_branch = True\n"
     ]
    },
    {
     "data": {
      "application/vnd.jupyter.widget-view+json": {
       "model_id": "d505928ca17940d4b311e3a9641af974",
       "version_major": 2,
       "version_minor": 0
      },
      "text/plain": [
       "HBox(children=(FloatProgress(value=1.0, bar_style='info', max=1.0), HTML(value='')))"
      ]
     },
     "metadata": {},
     "output_type": "display_data"
    },
    {
     "name": "stdout",
     "output_type": "stream",
     "text": [
      "\n",
      "\n",
      "\n",
      "--- Working on 1-to-1 correspondence-----\n",
      "max(original_labels),len(original_labels) = (2, 3)\n",
      "empty_indices % = 0.2089785663008922\n",
      " conflict_indices % = 0.005999384678494513\n"
     ]
    },
    {
     "data": {
      "application/vnd.jupyter.widget-view+json": {
       "model_id": "8305356383bd4cceba61d5b2927c1ebc",
       "version_major": 2,
       "version_minor": 0
      },
      "text/plain": [
       "HBox(children=(FloatProgress(value=0.0, max=59.0), HTML(value='')))"
      ]
     },
     "metadata": {},
     "output_type": "display_data"
    },
    {
     "name": "stdout",
     "output_type": "stream",
     "text": [
      "\n",
      "AFTER face_lookup_resolved_test\n"
     ]
    },
    {
     "data": {
      "application/vnd.jupyter.widget-view+json": {
       "model_id": "7e2c77c13ae14e65ba98db0a2acb6786",
       "version_major": 2,
       "version_minor": 0
      },
      "text/plain": [
       "HBox(children=(FloatProgress(value=0.0, max=3.0), HTML(value='')))"
      ]
     },
     "metadata": {},
     "output_type": "display_data"
    },
    {
     "name": "stdout",
     "output_type": "stream",
     "text": [
      "\n",
      "MP_branches_with_stitch_point= [0, 1]\n",
      "MP_branches_for_correspondence = [0 1]\n",
      "MP_leftover = [], MP_leftover_idx = []\n",
      " Finished with (6, 0) \n",
      "\n",
      "\n",
      "\n",
      "\n",
      "---- Working on (7, 0) connection-----\n",
      "node_for_stitch = 9036: [ 661837.  359068. 1052910.]\n",
      "node_for_stitch AFTER = 9036: [ 661837.  359068. 1052910.]\n",
      "possible_node_loc = [8582 9221]\n",
      "possible_node_loc AFTER = [8582 9221]\n",
      "curr_shortest_path = [9036, 9035.0, 9034.0, 9033.0, 9030.0, 9029.0, 9028.0, 9027.0, 9026.0, 9023.0, 9021.0, 9018.0, 9019.0, 9020.0, 9024.0, 9025.0, 9022.0, 9017.0, 9015.0, 9012.0, 9011.0, 9007.0, 9001.0, 8996.0, 8990.0, 8988.0, 8987.0, 8986.0, 8985.0, 8979.0, 8983.0, 8984.0, 8982.0, 8981.0, 8980.0, 8978.0, 8977.0, 8976.0, 8975.0, 8974.0, 8973.0, 8972.0, 8971.0, 8970.0, 8969.0, 8968.0, 8967.0, 8966.0, 8965.0, 8964.0, 8961.0, 8963.0, 8962.0, 8959.0, 8960.0, 8958.0, 8957.0, 8956.0, 8955.0, 8954.0, 8953.0, 8952.0, 8951.0, 8950.0, 8949.0, 8948.0, 8947.0, 8946.0, 8945.0, 8944.0, 8943.0, 8942.0, 8941.0, 8940.0, 8939.0, 8938.0, 8937.0, 8936.0, 8935.0, 8934.0, 8933.0, 8932.0, 8931.0, 8930.0, 8929.0, 8928.0, 8927.0, 8926.0, 8925.0, 8924.0, 8923.0, 8922.0, 8921.0, 8920.0, 8919.0, 8918.0, 8917.0, 8916.0, 8915.0, 8914.0, 8913.0, 8912.0, 8911.0, 8910.0, 8909.0, 8908.0, 8907.0, 8906.0, 8905.0, 8904.0, 8903.0, 8902.0, 8901.0, 8900.0, 8899.0, 8898.0, 8897.0, 8896.0, 8895.0, 8894.0, 8893.0, 8892.0, 8891.0, 8890.0, 8889.0, 8888.0, 8887.0, 8886.0, 8885.0, 8884.0, 8883.0, 8882.0, 8881.0, 8880.0, 8879.0, 8878.0, 8877.0, 8876.0, 8870.0, 8863.0, 8855.0, 8844.0, 8836.0, 8832.0, 8829.0, 8826.0, 8821.0, 8815.0, 8812.0, 8808.0, 8803.0, 8798.0, 8791.0, 8784.0, 8778.0, 8773.0, 8767.0, 8766.0, 8763.0, 8761.0, 8757.0, 8754.0, 8751.0, 8747.0, 8744.0, 8738.0, 8734.0, 8731.0, 8728.0, 8725.0, 8722.0, 8717.0, 8712.0, 8708.0, 8702.0, 8697.0, 8694.0, 8690.0, 8686.0, 8680.0, 8676.0, 8671.0, 8666.0, 8663.0, 8660.0, 8656.0, 8650.0, 8645.0, 8640.0, 8637.0, 8632.0, 8629.0, 8624.0, 8620.0, 8615.0, 8609.0, 8600.0, 8582.0]\n",
      "Current stitch point was not a branch or endpoint, shortest_path_length to one = 26612.957655210466\n",
      "sk_conn = [0]\n",
      "conn = [0]\n",
      "winning_vertex = [ 661701.46646092  358898.77748206 1053309.51916399]\n",
      "MP_branches_with_stitch_point = [0]\n",
      "MAP_branches_with_stitch_point = [40]\n",
      "MAP_stitch_point_on_end_or_branch = False\n"
     ]
    },
    {
     "data": {
      "application/vnd.jupyter.widget-view+json": {
       "model_id": "ddae962667b34ac684ff02331569835d",
       "version_major": 2,
       "version_minor": 0
      },
      "text/plain": [
       "HBox(children=(FloatProgress(value=1.0, bar_style='info', max=1.0), HTML(value='')))"
      ]
     },
     "metadata": {},
     "output_type": "display_data"
    },
    {
     "name": "stdout",
     "output_type": "stream",
     "text": [
      "\n",
      "\n",
      "\n",
      "--- Working on 1-to-1 correspondence-----\n",
      "max(original_labels),len(original_labels) = (1, 2)\n",
      "empty_indices % = 0.13662350765091644\n",
      " conflict_indices % = 0.003194888178913738\n"
     ]
    },
    {
     "data": {
      "application/vnd.jupyter.widget-view+json": {
       "model_id": "266bc4e9fe5c41f0a37b0680a1295e13",
       "version_major": 2,
       "version_minor": 0
      },
      "text/plain": [
       "HBox(children=(FloatProgress(value=0.0, max=24.0), HTML(value='')))"
      ]
     },
     "metadata": {},
     "output_type": "display_data"
    },
    {
     "name": "stdout",
     "output_type": "stream",
     "text": [
      "\n",
      "AFTER face_lookup_resolved_test\n"
     ]
    },
    {
     "data": {
      "application/vnd.jupyter.widget-view+json": {
       "model_id": "aaf0b1902dd543068f5c4ecec7cb56de",
       "version_major": 2,
       "version_minor": 0
      },
      "text/plain": [
       "HBox(children=(FloatProgress(value=0.0, max=2.0), HTML(value='')))"
      ]
     },
     "metadata": {},
     "output_type": "display_data"
    },
    {
     "name": "stdout",
     "output_type": "stream",
     "text": [
      "\n"
     ]
    },
    {
     "data": {
      "application/vnd.jupyter.widget-view+json": {
       "model_id": "1edb6670db024635b8e6891928545b0a",
       "version_major": 2,
       "version_minor": 0
      },
      "text/plain": [
       "HBox(children=(FloatProgress(value=1.0, bar_style='info', max=1.0), HTML(value='')))"
      ]
     },
     "metadata": {},
     "output_type": "display_data"
    },
    {
     "name": "stdout",
     "output_type": "stream",
     "text": [
      "\n",
      "\n",
      "\n",
      "--- Working on 1-to-1 correspondence-----\n",
      "max(original_labels),len(original_labels) = (2, 3)\n",
      "empty_indices % = 0.16749912881867812\n",
      " conflict_indices % = 0.01893367406202811\n"
     ]
    },
    {
     "data": {
      "application/vnd.jupyter.widget-view+json": {
       "model_id": "9b9d31945d6740b28f05ef592a03d748",
       "version_major": 2,
       "version_minor": 0
      },
      "text/plain": [
       "HBox(children=(FloatProgress(value=0.0, max=15.0), HTML(value='')))"
      ]
     },
     "metadata": {},
     "output_type": "display_data"
    },
    {
     "name": "stdout",
     "output_type": "stream",
     "text": [
      "\n",
      "AFTER face_lookup_resolved_test\n"
     ]
    },
    {
     "data": {
      "application/vnd.jupyter.widget-view+json": {
       "model_id": "18965760552447689565f1d0e571f710",
       "version_major": 2,
       "version_minor": 0
      },
      "text/plain": [
       "HBox(children=(FloatProgress(value=0.0, max=3.0), HTML(value='')))"
      ]
     },
     "metadata": {},
     "output_type": "display_data"
    },
    {
     "name": "stdout",
     "output_type": "stream",
     "text": [
      "\n",
      "Deleting branches from dictionary\n",
      "MP_branches_with_stitch_point= [0]\n",
      "MP_branches_for_correspondence = [0]\n",
      "MP_leftover = [], MP_leftover_idx = []\n",
      " Finished with (7, 0) \n",
      "\n",
      "\n",
      "\n",
      "\n",
      "---- Working on (8, 0) connection-----\n",
      "node_for_stitch = 407: [564129. 390547. 979864.]\n",
      "node_for_stitch AFTER = 407: [564129. 390547. 979864.]\n",
      "possible_node_loc = [ 827 3144]\n",
      "possible_node_loc AFTER = [ 827 3144]\n",
      "curr_shortest_path = [407, 400.0, 403.0, 412.0, 415.0, 419.0, 421.0, 422.0, 425.0, 428.0, 430.0, 432.0, 431.0, 429.0, 424.0, 423.0, 418.0, 411.0, 405.0, 396.0, 392.0, 390.0, 385.0, 383.0, 381.0, 379.0, 378.0, 375.0, 376.0, 374.0, 377.0, 380.0, 382.0, 384.0, 386.0, 388.0, 389.0, 391.0, 393.0, 394.0, 397.0, 398.0, 399.0, 401.0, 402.0, 406.0, 408.0, 409.0, 413.0, 416.0, 420.0, 426.0, 433.0, 438.0, 441.0, 443.0, 448.0, 450.0, 453.0, 455.0, 459.0, 462.0, 469.0, 472.0, 477.0, 479.0, 481.0, 485.0, 489.0, 492.0, 495.0, 497.0, 499.0, 502.0, 504.0, 507.0, 510.0, 513.0, 517.0, 518.0, 522.0, 525.0, 528.0, 531.0, 534.0, 537.0, 541.0, 545.0, 553.0, 559.0, 562.0, 566.0, 570.0, 572.0, 575.0, 579.0, 580.0, 583.0, 584.0, 586.0, 589.0, 590.0, 593.0, 594.0, 596.0, 598.0, 601.0, 604.0, 606.0, 609.0, 614.0, 618.0, 620.0, 623.0, 629.0, 633.0, 635.0, 640.0, 642.0, 646.0, 648.0, 650.0, 653.0, 654.0, 657.0, 660.0, 661.0, 663.0, 664.0, 667.0, 670.0, 672.0, 675.0, 678.0, 680.0, 685.0, 689.0, 692.0, 697.0, 700.0, 703.0, 706.0, 709.0, 710.0, 712.0, 713.0, 714.0, 717.0, 718.0, 720.0, 723.0, 724.0, 726.0, 728.0, 729.0, 732.0, 733.0, 736.0, 738.0, 740.0, 741.0, 742.0, 744.0, 746.0, 747.0, 749.0, 751.0, 752.0, 753.0, 756.0, 757.0, 758.0, 761.0, 762.0, 764.0, 765.0, 767.0, 769.0, 772.0, 775.0, 777.0, 778.0, 780.0, 782.0, 784.0, 785.0, 786.0, 788.0, 789.0, 790.0, 791.0, 792.0, 793.0, 796.0, 795.0, 797.0, 799.0, 800.0, 801.0, 802.0, 803.0, 805.0, 806.0, 808.0, 811.0, 812.0, 814.0, 816.0, 819.0, 822.0, 825.0, 827.0]\n",
      "Current stitch point was not a branch or endpoint, shortest_path_length to one = 29259.85850451009\n",
      "sk_conn = [0]\n",
      "conn = [0]\n",
      "winning_vertex = [564222.0516741  390675.06772619 979445.55147983]\n",
      "MP_branches_with_stitch_point = [0]\n",
      "MAP_branches_with_stitch_point = [1]\n",
      "MAP_stitch_point_on_end_or_branch = False\n"
     ]
    },
    {
     "data": {
      "application/vnd.jupyter.widget-view+json": {
       "model_id": "0ac8445a9557413aa01cc282a902fb6a",
       "version_major": 2,
       "version_minor": 0
      },
      "text/plain": [
       "HBox(children=(FloatProgress(value=1.0, bar_style='info', max=1.0), HTML(value='')))"
      ]
     },
     "metadata": {},
     "output_type": "display_data"
    },
    {
     "name": "stdout",
     "output_type": "stream",
     "text": [
      "\n",
      "\n",
      "\n",
      "--- Working on 1-to-1 correspondence-----\n",
      "max(original_labels),len(original_labels) = (1, 2)\n",
      "empty_indices % = 0.16981897469702348\n",
      " conflict_indices % = 0.001571928401196694\n"
     ]
    },
    {
     "data": {
      "application/vnd.jupyter.widget-view+json": {
       "model_id": "6f436569970044cfbfbd576c54f325a9",
       "version_major": 2,
       "version_minor": 0
      },
      "text/plain": [
       "HBox(children=(FloatProgress(value=0.0, max=42.0), HTML(value='')))"
      ]
     },
     "metadata": {},
     "output_type": "display_data"
    },
    {
     "name": "stdout",
     "output_type": "stream",
     "text": [
      "\n",
      "AFTER face_lookup_resolved_test\n"
     ]
    },
    {
     "data": {
      "application/vnd.jupyter.widget-view+json": {
       "model_id": "643071b28c134166abe9c557a223ebef",
       "version_major": 2,
       "version_minor": 0
      },
      "text/plain": [
       "HBox(children=(FloatProgress(value=0.0, max=2.0), HTML(value='')))"
      ]
     },
     "metadata": {},
     "output_type": "display_data"
    },
    {
     "name": "stdout",
     "output_type": "stream",
     "text": [
      "\n"
     ]
    },
    {
     "data": {
      "application/vnd.jupyter.widget-view+json": {
       "model_id": "52948c0dc2a44cd99c8244c91dbd24d1",
       "version_major": 2,
       "version_minor": 0
      },
      "text/plain": [
       "HBox(children=(FloatProgress(value=1.0, bar_style='info', max=1.0), HTML(value='')))"
      ]
     },
     "metadata": {},
     "output_type": "display_data"
    },
    {
     "name": "stdout",
     "output_type": "stream",
     "text": [
      "\n",
      "\n",
      "\n",
      "--- Working on 1-to-1 correspondence-----\n",
      "max(original_labels),len(original_labels) = (2, 3)\n",
      "empty_indices % = 0.18523088913424693\n",
      " conflict_indices % = 0.01162564135870624\n"
     ]
    },
    {
     "data": {
      "application/vnd.jupyter.widget-view+json": {
       "model_id": "c9850106097f41019dc2e8bfd72527e3",
       "version_major": 2,
       "version_minor": 0
      },
      "text/plain": [
       "HBox(children=(FloatProgress(value=0.0, max=34.0), HTML(value='')))"
      ]
     },
     "metadata": {},
     "output_type": "display_data"
    },
    {
     "name": "stdout",
     "output_type": "stream",
     "text": [
      "\n",
      "AFTER face_lookup_resolved_test\n"
     ]
    },
    {
     "data": {
      "application/vnd.jupyter.widget-view+json": {
       "model_id": "3500108b9b544760a2a0c5e932cdec0d",
       "version_major": 2,
       "version_minor": 0
      },
      "text/plain": [
       "HBox(children=(FloatProgress(value=0.0, max=3.0), HTML(value='')))"
      ]
     },
     "metadata": {},
     "output_type": "display_data"
    },
    {
     "name": "stdout",
     "output_type": "stream",
     "text": [
      "\n",
      "Deleting branches from dictionary\n",
      "MP_branches_with_stitch_point= [0]\n",
      "MP_branches_for_correspondence = [0]\n",
      "MP_leftover = [], MP_leftover_idx = []\n",
      " Finished with (8, 0) \n",
      "\n",
      "\n",
      "\n",
      "\n",
      "---- Working on (9, 0) connection-----\n",
      "node_for_stitch = 6280: [ 625921.  418333. 1077120.]\n",
      "node_for_stitch AFTER = 6280: [ 625921.  418333. 1077120.]\n",
      "possible_node_loc = [5987 7995]\n",
      "possible_node_loc AFTER = [5987 7995]\n",
      "curr_shortest_path = [6280, 6264.0, 6256.0, 6249.0, 6240.0, 6235.0, 6230.0, 6227.0, 6225.0, 6224.0, 6226.0, 6228.0, 6231.0, 6232.0, 6234.0, 6236.0, 6238.0, 6239.0, 6241.0, 6243.0, 6246.0, 6247.0, 6251.0, 6252.0, 6255.0, 6258.0, 6262.0, 6263.0, 6268.0, 6270.0, 6272.0, 6274.0, 6275.0, 6277.0, 6278.0, 6281.0, 6283.0, 6284.0, 6286.0, 6287.0, 6289.0, 6291.0, 6293.0, 6296.0, 6297.0, 6299.0, 6298.0, 6294.0, 6290.0, 6288.0, 6285.0, 6279.0, 6273.0, 6269.0, 6265.0, 6260.0, 6257.0, 6253.0, 6248.0, 6242.0, 6233.0, 6223.0, 6220.0, 6205.0, 6190.0, 6180.0, 6176.0, 6171.0, 6164.0, 6154.0, 6151.0, 6143.0, 6123.0, 6108.0, 6091.0, 6066.0, 6059.0, 6052.0, 6048.0, 6039.0, 6004.0, 5998.0, 5993.0, 5987.0]\n",
      "Current stitch point was not a branch or endpoint, shortest_path_length to one = 11482.956326689757\n",
      "sk_conn = [2]\n",
      "conn = [2]\n",
      "winning_vertex = [ 625584.93466782  418184.61291919 1077531.77379437]\n",
      "MP_branches_with_stitch_point = [2]\n",
      "MAP_branches_with_stitch_point = [29]\n",
      "MAP_stitch_point_on_end_or_branch = False\n"
     ]
    },
    {
     "data": {
      "application/vnd.jupyter.widget-view+json": {
       "model_id": "87712b55c4b44c0b9f9f97223be3fd76",
       "version_major": 2,
       "version_minor": 0
      },
      "text/plain": [
       "HBox(children=(FloatProgress(value=1.0, bar_style='info', max=1.0), HTML(value='')))"
      ]
     },
     "metadata": {},
     "output_type": "display_data"
    },
    {
     "name": "stdout",
     "output_type": "stream",
     "text": [
      "\n",
      "\n",
      "\n",
      "--- Working on 1-to-1 correspondence-----\n",
      "max(original_labels),len(original_labels) = (1, 2)\n",
      "empty_indices % = 0.023783820255043518\n",
      " conflict_indices % = 0.0015518521017475204\n"
     ]
    },
    {
     "data": {
      "application/vnd.jupyter.widget-view+json": {
       "model_id": "10cc9ac1b5c44e1daf519b563377fdbe",
       "version_major": 2,
       "version_minor": 0
      },
      "text/plain": [
       "HBox(children=(FloatProgress(value=0.0, max=32.0), HTML(value='')))"
      ]
     },
     "metadata": {},
     "output_type": "display_data"
    },
    {
     "name": "stdout",
     "output_type": "stream",
     "text": [
      "\n",
      "AFTER face_lookup_resolved_test\n"
     ]
    },
    {
     "data": {
      "application/vnd.jupyter.widget-view+json": {
       "model_id": "7cbc8f54212b49dfbc170caa1252e52b",
       "version_major": 2,
       "version_minor": 0
      },
      "text/plain": [
       "HBox(children=(FloatProgress(value=0.0, max=2.0), HTML(value='')))"
      ]
     },
     "metadata": {},
     "output_type": "display_data"
    },
    {
     "name": "stdout",
     "output_type": "stream",
     "text": [
      "\n"
     ]
    },
    {
     "data": {
      "application/vnd.jupyter.widget-view+json": {
       "model_id": "fd9a5d2d6d5541be99bd3501c4a8a15a",
       "version_major": 2,
       "version_minor": 0
      },
      "text/plain": [
       "HBox(children=(FloatProgress(value=1.0, bar_style='info', max=1.0), HTML(value='')))"
      ]
     },
     "metadata": {},
     "output_type": "display_data"
    },
    {
     "name": "stdout",
     "output_type": "stream",
     "text": [
      "\n",
      "\n",
      "\n",
      "--- Working on 1-to-1 correspondence-----\n",
      "max(original_labels),len(original_labels) = (2, 3)\n",
      "empty_indices % = 0.03652130668573027\n",
      " conflict_indices % = 0.0069623597426413456\n"
     ]
    },
    {
     "data": {
      "application/vnd.jupyter.widget-view+json": {
       "model_id": "f6189288cd984843a31dc61eab174cd6",
       "version_major": 2,
       "version_minor": 0
      },
      "text/plain": [
       "HBox(children=(FloatProgress(value=0.0, max=9.0), HTML(value='')))"
      ]
     },
     "metadata": {},
     "output_type": "display_data"
    },
    {
     "name": "stdout",
     "output_type": "stream",
     "text": [
      "\n",
      "AFTER face_lookup_resolved_test\n"
     ]
    },
    {
     "data": {
      "application/vnd.jupyter.widget-view+json": {
       "model_id": "5ee5294249ab41a2877aa4397e966185",
       "version_major": 2,
       "version_minor": 0
      },
      "text/plain": [
       "HBox(children=(FloatProgress(value=0.0, max=3.0), HTML(value='')))"
      ]
     },
     "metadata": {},
     "output_type": "display_data"
    },
    {
     "name": "stdout",
     "output_type": "stream",
     "text": [
      "\n",
      "Deleting branches from dictionary\n",
      "MP_branches_with_stitch_point= [2]\n",
      "MP_branches_for_correspondence = [2]\n",
      "MP_leftover = [], MP_leftover_idx = []\n",
      " Finished with (9, 0) \n",
      "\n",
      "\n",
      "\n",
      "\n",
      "---- Working on (10, 0) connection-----\n",
      "node_for_stitch = 4031: [ 611460.  407150. 1107930.]\n",
      "node_for_stitch AFTER = 4031: [ 611460.  407150. 1107930.]\n",
      "possible_node_loc = [3995 4031 4602]\n",
      "possible_node_loc AFTER = [3995 4031 4602]\n",
      "curr_shortest_path = [4031]\n",
      "Current stitch point was a branch or endpoint\n",
      "sk_conn = [0]\n",
      "conn = [0]\n",
      "winning_vertex = [ 611669.0143048   407168.31254867 1108556.46432893]\n",
      "MP_branches_with_stitch_point = [0]\n",
      "MAP_branches_with_stitch_point = [15, 48]\n",
      "MAP_stitch_point_on_end_or_branch = True\n",
      "\n",
      "Revising the MAP pieces index:\n",
      "MAP_pieces_idx_touching_border = [15, 48], MAP_branches_with_stitch_point = [15, 48]\n",
      "MAP_pieces_for_correspondence = [15 48]\n"
     ]
    },
    {
     "data": {
      "application/vnd.jupyter.widget-view+json": {
       "model_id": "50dc4db9035b48da93c97f3235d7c3a6",
       "version_major": 2,
       "version_minor": 0
      },
      "text/plain": [
       "HBox(children=(FloatProgress(value=1.0, bar_style='info', max=1.0), HTML(value='')))"
      ]
     },
     "metadata": {},
     "output_type": "display_data"
    },
    {
     "name": "stdout",
     "output_type": "stream",
     "text": [
      "\n",
      "\n",
      "\n",
      "--- Working on 1-to-1 correspondence-----\n",
      "max(original_labels),len(original_labels) = (2, 3)\n",
      "empty_indices % = 0.40194215748363943\n",
      " conflict_indices % = 0.020793751319400464\n"
     ]
    },
    {
     "data": {
      "application/vnd.jupyter.widget-view+json": {
       "model_id": "83824e973df649d894802c8008b27177",
       "version_major": 2,
       "version_minor": 0
      },
      "text/plain": [
       "HBox(children=(FloatProgress(value=0.0, max=9.0), HTML(value='')))"
      ]
     },
     "metadata": {},
     "output_type": "display_data"
    },
    {
     "name": "stdout",
     "output_type": "stream",
     "text": [
      "\n",
      "AFTER face_lookup_resolved_test\n"
     ]
    },
    {
     "data": {
      "application/vnd.jupyter.widget-view+json": {
       "model_id": "ea1fee1474fc4051b3d82e4e9076838e",
       "version_major": 2,
       "version_minor": 0
      },
      "text/plain": [
       "HBox(children=(FloatProgress(value=0.0, max=3.0), HTML(value='')))"
      ]
     },
     "metadata": {},
     "output_type": "display_data"
    },
    {
     "name": "stdout",
     "output_type": "stream",
     "text": [
      "\n",
      "MP_branches_with_stitch_point= [0]\n",
      "MP_branches_for_correspondence = [0]\n",
      "MP_leftover = [], MP_leftover_idx = []\n",
      " Finished with (10, 0) \n",
      "\n",
      "\n",
      "\n",
      "\n",
      "---- Working on (11, 0) connection-----\n",
      "node_for_stitch = 4593: [ 614859.  421421. 1110460.]\n",
      "node_for_stitch AFTER = 4593: [ 614859.  421421. 1110460.]\n",
      "possible_node_loc = [3988 4593]\n",
      "possible_node_loc AFTER = [3988 4593]\n",
      "curr_shortest_path = [4593]\n",
      "Current stitch point was a branch or endpoint\n",
      "sk_conn = [0, 1]\n",
      "conn = [0, 1]\n",
      "winning_vertex = [ 615949.70443797  422571.58117147 1111196.89022327]\n",
      "MP_branches_with_stitch_point = [0, 1]\n",
      "MAP_branches_with_stitch_point = [17]\n",
      "MAP_stitch_point_on_end_or_branch = True\n"
     ]
    },
    {
     "data": {
      "application/vnd.jupyter.widget-view+json": {
       "model_id": "c091ad06ece04947baca52305218cb18",
       "version_major": 2,
       "version_minor": 0
      },
      "text/plain": [
       "HBox(children=(FloatProgress(value=1.0, bar_style='info', max=1.0), HTML(value='')))"
      ]
     },
     "metadata": {},
     "output_type": "display_data"
    },
    {
     "name": "stdout",
     "output_type": "stream",
     "text": [
      "\n",
      "\n",
      "\n",
      "--- Working on 1-to-1 correspondence-----\n",
      "max(original_labels),len(original_labels) = (2, 3)\n",
      "empty_indices % = 0.23126117452895062\n",
      " conflict_indices % = 0.022142758905239996\n"
     ]
    },
    {
     "data": {
      "application/vnd.jupyter.widget-view+json": {
       "model_id": "033063215494465da89bc7f9c8db443b",
       "version_major": 2,
       "version_minor": 0
      },
      "text/plain": [
       "HBox(children=(FloatProgress(value=0.0, max=17.0), HTML(value='')))"
      ]
     },
     "metadata": {},
     "output_type": "display_data"
    },
    {
     "name": "stdout",
     "output_type": "stream",
     "text": [
      "\n",
      "AFTER face_lookup_resolved_test\n"
     ]
    },
    {
     "data": {
      "application/vnd.jupyter.widget-view+json": {
       "model_id": "87f1c3f592de4758a6fb5f9355b6e2b8",
       "version_major": 2,
       "version_minor": 0
      },
      "text/plain": [
       "HBox(children=(FloatProgress(value=0.0, max=3.0), HTML(value='')))"
      ]
     },
     "metadata": {},
     "output_type": "display_data"
    },
    {
     "name": "stdout",
     "output_type": "stream",
     "text": [
      "\n",
      "MP_branches_with_stitch_point= [0, 1]\n",
      "MP_branches_for_correspondence = [0 1]\n",
      "MP_leftover = [], MP_leftover_idx = []\n",
      " Finished with (11, 0) \n",
      "\n",
      "\n",
      "\n",
      "\n",
      "---- Working on (12, 0) connection-----\n",
      "node_for_stitch = 4815: [ 616652.  413029. 1058390.]\n",
      "node_for_stitch AFTER = 4815: [ 616652.  413029. 1058390.]\n",
      "possible_node_loc = [3144 5574]\n",
      "possible_node_loc AFTER = [3144 5574]\n",
      "curr_shortest_path = [4815, 4818.0, 4822.0, 4824.0, 4827.0, 4832.0, 4837.0, 4838.0, 4845.0, 4847.0, 4853.0, 4856.0, 4861.0, 4865.0, 4867.0, 4873.0, 4878.0, 4880.0, 4886.0, 4889.0, 4893.0, 4898.0, 4901.0, 4911.0, 4914.0, 4918.0, 4922.0, 4931.0, 4936.0, 4942.0, 4951.0, 4956.0, 4964.0, 4986.0, 4996.0, 5002.0, 5011.0, 5022.0, 5040.0, 5063.0, 5071.0, 5079.0, 5088.0, 5099.0, 5112.0, 5129.0, 5146.0, 5162.0, 5201.0, 5239.0, 5281.0, 5303.0, 5316.0, 5326.0, 5338.0, 5346.0, 5352.0, 5365.0, 5387.0, 5405.0, 5417.0, 5429.0, 5438.0, 5454.0, 5467.0, 5503.0, 5532.0, 5555.0, 5574.0]\n",
      "Current stitch point was not a branch or endpoint, shortest_path_length to one = 9513.679048684198\n",
      "sk_conn = [0]\n",
      "conn = [0]\n",
      "winning_vertex = [ 616688.30729602  412484.78682211 1058049.23334698]\n",
      "MP_branches_with_stitch_point = [0]\n",
      "MAP_branches_with_stitch_point = [9]\n",
      "MAP_stitch_point_on_end_or_branch = False\n"
     ]
    },
    {
     "data": {
      "application/vnd.jupyter.widget-view+json": {
       "model_id": "f984f47e9af247bb8cb8a4059a731999",
       "version_major": 2,
       "version_minor": 0
      },
      "text/plain": [
       "HBox(children=(FloatProgress(value=1.0, bar_style='info', max=1.0), HTML(value='')))"
      ]
     },
     "metadata": {},
     "output_type": "display_data"
    },
    {
     "name": "stdout",
     "output_type": "stream",
     "text": [
      "\n",
      "\n",
      "\n",
      "--- Working on 1-to-1 correspondence-----\n",
      "max(original_labels),len(original_labels) = (1, 2)\n",
      "empty_indices % = 0.10131291028446389\n",
      " conflict_indices % = 0.003172866520787746\n"
     ]
    },
    {
     "data": {
      "application/vnd.jupyter.widget-view+json": {
       "model_id": "0d4a2d96c0a34371a740d8e8c131e9b7",
       "version_major": 2,
       "version_minor": 0
      },
      "text/plain": [
       "HBox(children=(FloatProgress(value=0.0, max=19.0), HTML(value='')))"
      ]
     },
     "metadata": {},
     "output_type": "display_data"
    },
    {
     "name": "stdout",
     "output_type": "stream",
     "text": [
      "\n",
      "AFTER face_lookup_resolved_test\n"
     ]
    },
    {
     "data": {
      "application/vnd.jupyter.widget-view+json": {
       "model_id": "9b05e6965a2c4a818332308c77e297e9",
       "version_major": 2,
       "version_minor": 0
      },
      "text/plain": [
       "HBox(children=(FloatProgress(value=0.0, max=2.0), HTML(value='')))"
      ]
     },
     "metadata": {},
     "output_type": "display_data"
    },
    {
     "name": "stdout",
     "output_type": "stream",
     "text": [
      "\n"
     ]
    },
    {
     "data": {
      "application/vnd.jupyter.widget-view+json": {
       "model_id": "40d9c5380ed04a0fb76ceb989c15a9bc",
       "version_major": 2,
       "version_minor": 0
      },
      "text/plain": [
       "HBox(children=(FloatProgress(value=1.0, bar_style='info', max=1.0), HTML(value='')))"
      ]
     },
     "metadata": {},
     "output_type": "display_data"
    },
    {
     "name": "stdout",
     "output_type": "stream",
     "text": [
      "\n",
      "\n",
      "\n",
      "--- Working on 1-to-1 correspondence-----\n",
      "max(original_labels),len(original_labels) = (2, 3)\n",
      "empty_indices % = 0.19768669188143195\n",
      " conflict_indices % = 0.014249274342510335\n"
     ]
    },
    {
     "data": {
      "application/vnd.jupyter.widget-view+json": {
       "model_id": "ad6fe8b156fb4fdd9c164ebfe4d29bcb",
       "version_major": 2,
       "version_minor": 0
      },
      "text/plain": [
       "HBox(children=(FloatProgress(value=0.0, max=36.0), HTML(value='')))"
      ]
     },
     "metadata": {},
     "output_type": "display_data"
    },
    {
     "name": "stdout",
     "output_type": "stream",
     "text": [
      "\n",
      "AFTER face_lookup_resolved_test\n"
     ]
    },
    {
     "data": {
      "application/vnd.jupyter.widget-view+json": {
       "model_id": "45c0b74499c04683a74ebbf050e3fba6",
       "version_major": 2,
       "version_minor": 0
      },
      "text/plain": [
       "HBox(children=(FloatProgress(value=0.0, max=3.0), HTML(value='')))"
      ]
     },
     "metadata": {},
     "output_type": "display_data"
    },
    {
     "name": "stdout",
     "output_type": "stream",
     "text": [
      "\n",
      "Deleting branches from dictionary\n",
      "MP_branches_with_stitch_point= [0]\n",
      "MP_branches_for_correspondence = [0]\n",
      "MP_leftover = [], MP_leftover_idx = []\n",
      " Finished with (12, 0) \n",
      "\n",
      "\n",
      "\n",
      "\n",
      "---- Working on (13, 0) connection-----\n",
      "node_for_stitch = 4138: [ 611977.  406812. 1047290.]\n",
      "node_for_stitch AFTER = 4138: [ 611977.  406812. 1047290.]\n",
      "possible_node_loc = [3144 4815]\n",
      "possible_node_loc AFTER = [3144 4815]\n",
      "curr_shortest_path = [4138, 4147.0, 4159.0, 4167.0, 4186.0, 4199.0, 4207.0, 4216.0, 4226.0, 4242.0, 4256.0, 4283.0, 4293.0, 4312.0, 4326.0, 4332.0, 4355.0, 4370.0, 4379.0, 4387.0, 4394.0, 4406.0, 4425.0, 4438.0, 4449.0, 4465.0, 4475.0, 4482.0, 4489.0, 4498.0, 4510.0, 4520.0, 4525.0, 4532.0, 4541.0, 4552.0, 4562.0, 4570.0, 4575.0, 4589.0, 4597.0, 4601.0, 4607.0, 4615.0, 4622.0, 4631.0, 4641.0, 4645.0, 4650.0, 4656.0, 4662.0, 4669.0, 4676.0, 4680.0, 4686.0, 4689.0, 4693.0, 4698.0, 4702.0, 4705.0, 4709.0, 4715.0, 4719.0, 4727.0, 4734.0, 4737.0, 4747.0, 4749.0, 4757.0, 4759.0, 4765.0, 4770.0, 4771.0, 4776.0, 4778.0, 4780.0, 4781.0, 4782.0, 4784.0, 4785.0, 4786.0, 4787.0, 4790.0, 4793.0, 4796.0, 4797.0, 4798.0, 4801.0, 4805.0, 4806.0, 4802.0, 4803.0, 4810.0, 4811.0, 4808.0, 4812.0, 4815.0]\n",
      "Current stitch point was not a branch or endpoint, shortest_path_length to one = 14176.382151547676\n",
      "sk_conn = [0]\n",
      "conn = [0]\n",
      "winning_vertex = [ 611953.11889115  407203.66829481 1047239.41894919]\n",
      "MP_branches_with_stitch_point = [0]\n",
      "MAP_branches_with_stitch_point = [9]\n",
      "MAP_stitch_point_on_end_or_branch = False\n"
     ]
    },
    {
     "data": {
      "application/vnd.jupyter.widget-view+json": {
       "model_id": "9c01e21501c143219f748665b77dfcd0",
       "version_major": 2,
       "version_minor": 0
      },
      "text/plain": [
       "HBox(children=(FloatProgress(value=1.0, bar_style='info', max=1.0), HTML(value='')))"
      ]
     },
     "metadata": {},
     "output_type": "display_data"
    },
    {
     "name": "stdout",
     "output_type": "stream",
     "text": [
      "\n",
      "\n",
      "\n",
      "--- Working on 1-to-1 correspondence-----\n",
      "max(original_labels),len(original_labels) = (1, 2)\n",
      "empty_indices % = 0.12051455653351388\n",
      " conflict_indices % = 0.0035206499661475966\n"
     ]
    },
    {
     "data": {
      "application/vnd.jupyter.widget-view+json": {
       "model_id": "529b3f60a4c947b88456d2fbbff0049d",
       "version_major": 2,
       "version_minor": 0
      },
      "text/plain": [
       "HBox(children=(FloatProgress(value=0.0, max=15.0), HTML(value='')))"
      ]
     },
     "metadata": {},
     "output_type": "display_data"
    },
    {
     "name": "stdout",
     "output_type": "stream",
     "text": [
      "\n",
      "AFTER face_lookup_resolved_test\n"
     ]
    },
    {
     "data": {
      "application/vnd.jupyter.widget-view+json": {
       "model_id": "b402f206ff114daebee898d852ce071c",
       "version_major": 2,
       "version_minor": 0
      },
      "text/plain": [
       "HBox(children=(FloatProgress(value=0.0, max=2.0), HTML(value='')))"
      ]
     },
     "metadata": {},
     "output_type": "display_data"
    },
    {
     "name": "stdout",
     "output_type": "stream",
     "text": [
      "\n"
     ]
    },
    {
     "data": {
      "application/vnd.jupyter.widget-view+json": {
       "model_id": "413bc0b7bae64b14931d5e4e2f1a4031",
       "version_major": 2,
       "version_minor": 0
      },
      "text/plain": [
       "HBox(children=(FloatProgress(value=1.0, bar_style='info', max=1.0), HTML(value='')))"
      ]
     },
     "metadata": {},
     "output_type": "display_data"
    },
    {
     "name": "stdout",
     "output_type": "stream",
     "text": [
      "\n",
      "\n",
      "\n",
      "--- Working on 1-to-1 correspondence-----\n",
      "max(original_labels),len(original_labels) = (2, 3)\n",
      "empty_indices % = 0.19442147621410066\n",
      " conflict_indices % = 0.019789427264208147\n"
     ]
    },
    {
     "data": {
      "application/vnd.jupyter.widget-view+json": {
       "model_id": "7070484d320b4eb8bc9f2383715c217d",
       "version_major": 2,
       "version_minor": 0
      },
      "text/plain": [
       "HBox(children=(FloatProgress(value=0.0, max=29.0), HTML(value='')))"
      ]
     },
     "metadata": {},
     "output_type": "display_data"
    },
    {
     "name": "stdout",
     "output_type": "stream",
     "text": [
      "\n",
      "AFTER face_lookup_resolved_test\n"
     ]
    },
    {
     "data": {
      "application/vnd.jupyter.widget-view+json": {
       "model_id": "3c8c4a623a88433d91986db5a91a32e0",
       "version_major": 2,
       "version_minor": 0
      },
      "text/plain": [
       "HBox(children=(FloatProgress(value=0.0, max=3.0), HTML(value='')))"
      ]
     },
     "metadata": {},
     "output_type": "display_data"
    },
    {
     "name": "stdout",
     "output_type": "stream",
     "text": [
      "\n",
      "Deleting branches from dictionary\n",
      "MP_branches_with_stitch_point= [0]\n",
      "MP_branches_for_correspondence = [0]\n",
      "MP_leftover = [], MP_leftover_idx = []\n",
      " Finished with (13, 0) \n",
      "\n",
      "\n",
      "\n",
      "\n",
      "---- Working on (14, 0) connection-----\n",
      "node_for_stitch = 7203: [ 639775.  375932. 1009900.]\n",
      "node_for_stitch AFTER = 7203: [ 639775.  375932. 1009900.]\n",
      "possible_node_loc = [6280 7995]\n",
      "possible_node_loc AFTER = [6280 7995]\n",
      "curr_shortest_path = [7203, 7229.0, 7234.0, 7263.0, 7284.0, 7319.0, 7337.0, 7393.0, 7415.0, 7428.0, 7443.0, 7457.0, 7476.0, 7510.0, 7521.0, 7536.0, 7619.0, 7635.0, 7643.0, 7655.0, 7673.0, 7681.0, 7689.0, 7693.0, 7703.0, 7707.0, 7723.0, 7745.0, 7756.0, 7769.0, 7780.0, 7793.0, 7800.0, 7806.0, 7815.0, 7824.0, 7831.0, 7840.0, 7846.0, 7872.0, 7889.0, 7909.0, 7922.0, 7939.0, 7958.0, 7972.0, 7992.0, 8013.0, 8030.0, 8051.0, 8081.0, 8106.0, 8129.0, 8142.0, 8153.0, 8165.0, 8180.0, 8189.0, 8199.0, 8201.0, 8207.0, 8211.0, 8206.0, 8205.0, 8198.0, 8194.0, 8186.0, 8187.0, 8188.0, 8195.0, 8204.0, 8210.0, 8216.0, 8227.0, 8235.0, 8237.0, 8236.0, 8223.0, 8219.0, 8209.0, 8182.0, 8172.0, 8160.0, 8143.0, 8134.0, 8125.0, 8120.0, 8111.0, 8108.0, 8105.0, 8104.0, 8099.0, 8098.0, 8077.0, 8048.0, 8037.0, 8023.0, 8016.0, 7995.0]\n",
      "Current stitch point was not a branch or endpoint, shortest_path_length to one = 14451.931851671481\n",
      "sk_conn = [0]\n",
      "conn = [0]\n",
      "winning_vertex = [ 639867.30616276  376277.08775941 1010831.24868579]\n",
      "MP_branches_with_stitch_point = [0]\n",
      "MAP_branches_with_stitch_point = [54]\n",
      "MAP_stitch_point_on_end_or_branch = False\n"
     ]
    },
    {
     "data": {
      "application/vnd.jupyter.widget-view+json": {
       "model_id": "21e4c1a3056d4b639aeb483a8d0aaf2c",
       "version_major": 2,
       "version_minor": 0
      },
      "text/plain": [
       "HBox(children=(FloatProgress(value=1.0, bar_style='info', max=1.0), HTML(value='')))"
      ]
     },
     "metadata": {},
     "output_type": "display_data"
    },
    {
     "name": "stdout",
     "output_type": "stream",
     "text": [
      "\n",
      "\n",
      "\n",
      "--- Working on 1-to-1 correspondence-----\n",
      "max(original_labels),len(original_labels) = (1, 2)\n",
      "empty_indices % = 0.027989179440937782\n",
      " conflict_indices % = 0.0026330027051397658\n"
     ]
    },
    {
     "data": {
      "application/vnd.jupyter.widget-view+json": {
       "model_id": "ba8f7b698cb346e4b7ea740db84ff2e7",
       "version_major": 2,
       "version_minor": 0
      },
      "text/plain": [
       "HBox(children=(FloatProgress(value=0.0, max=32.0), HTML(value='')))"
      ]
     },
     "metadata": {},
     "output_type": "display_data"
    },
    {
     "name": "stdout",
     "output_type": "stream",
     "text": [
      "\n",
      "AFTER face_lookup_resolved_test\n"
     ]
    },
    {
     "data": {
      "application/vnd.jupyter.widget-view+json": {
       "model_id": "e140e115eeda4958a4c3847aaebf1667",
       "version_major": 2,
       "version_minor": 0
      },
      "text/plain": [
       "HBox(children=(FloatProgress(value=0.0, max=2.0), HTML(value='')))"
      ]
     },
     "metadata": {},
     "output_type": "display_data"
    },
    {
     "name": "stdout",
     "output_type": "stream",
     "text": [
      "\n"
     ]
    },
    {
     "data": {
      "application/vnd.jupyter.widget-view+json": {
       "model_id": "f727783d7a3e439db03c406dc7e06f5d",
       "version_major": 2,
       "version_minor": 0
      },
      "text/plain": [
       "HBox(children=(FloatProgress(value=1.0, bar_style='info', max=1.0), HTML(value='')))"
      ]
     },
     "metadata": {},
     "output_type": "display_data"
    },
    {
     "name": "stdout",
     "output_type": "stream",
     "text": [
      "\n",
      "\n",
      "\n",
      "--- Working on 1-to-1 correspondence-----\n",
      "max(original_labels),len(original_labels) = (2, 3)\n",
      "empty_indices % = 0.028797437322263263\n",
      " conflict_indices % = 0.009740790376883602\n"
     ]
    },
    {
     "data": {
      "application/vnd.jupyter.widget-view+json": {
       "model_id": "c96245382ec3473fa6bb13201181f3a9",
       "version_major": 2,
       "version_minor": 0
      },
      "text/plain": [
       "HBox(children=(FloatProgress(value=0.0, max=9.0), HTML(value='')))"
      ]
     },
     "metadata": {},
     "output_type": "display_data"
    },
    {
     "name": "stdout",
     "output_type": "stream",
     "text": [
      "\n",
      "AFTER face_lookup_resolved_test\n"
     ]
    },
    {
     "data": {
      "application/vnd.jupyter.widget-view+json": {
       "model_id": "458f84801fe54fc6adf641feacaf48c6",
       "version_major": 2,
       "version_minor": 0
      },
      "text/plain": [
       "HBox(children=(FloatProgress(value=0.0, max=3.0), HTML(value='')))"
      ]
     },
     "metadata": {},
     "output_type": "display_data"
    },
    {
     "name": "stdout",
     "output_type": "stream",
     "text": [
      "\n",
      "Deleting branches from dictionary\n",
      "MP_branches_with_stitch_point= [0]\n",
      "MP_branches_for_correspondence = [0]\n",
      "MP_leftover = [], MP_leftover_idx = []\n",
      " Finished with (14, 0) \n",
      "\n",
      "\n",
      "\n",
      "\n",
      "---- Working on (15, 0) connection-----\n",
      "node_for_stitch = 4088: [ 611608.  410077. 1102590.]\n",
      "node_for_stitch AFTER = 4088: [ 611608.  410077. 1102590.]\n",
      "possible_node_loc = [3995 4031]\n",
      "possible_node_loc AFTER = [3995 4031]\n",
      "curr_shortest_path = [4088, 4089.0, 4087.0, 4084.0, 4076.0, 4060.0, 4052.0, 4047.0, 4042.0, 4025.0, 4015.0, 4006.0, 3995.0]\n",
      "Current stitch point was not a branch or endpoint, shortest_path_length to one = 1722.7299905859154\n",
      "sk_conn = [0]\n",
      "conn = [0]\n",
      "winning_vertex = [ 611310.88951413  409762.37161558 1102571.07345163]\n",
      "MP_branches_with_stitch_point = [0]\n",
      "MAP_branches_with_stitch_point = [15]\n",
      "MAP_stitch_point_on_end_or_branch = False\n"
     ]
    },
    {
     "data": {
      "application/vnd.jupyter.widget-view+json": {
       "model_id": "e1d884fe0e97467f98380656e10ea67f",
       "version_major": 2,
       "version_minor": 0
      },
      "text/plain": [
       "HBox(children=(FloatProgress(value=1.0, bar_style='info', max=1.0), HTML(value='')))"
      ]
     },
     "metadata": {},
     "output_type": "display_data"
    },
    {
     "name": "stdout",
     "output_type": "stream",
     "text": [
      "\n",
      "\n",
      "\n",
      "--- Working on 1-to-1 correspondence-----\n",
      "max(original_labels),len(original_labels) = (1, 2)\n",
      "empty_indices % = 0.27579666160849775\n",
      " conflict_indices % = 0.006449165402124431\n"
     ]
    },
    {
     "data": {
      "application/vnd.jupyter.widget-view+json": {
       "model_id": "6a4c87de102b4a29a7b622ca892aa9ef",
       "version_major": 2,
       "version_minor": 0
      },
      "text/plain": [
       "HBox(children=(FloatProgress(value=0.0, max=17.0), HTML(value='')))"
      ]
     },
     "metadata": {},
     "output_type": "display_data"
    },
    {
     "name": "stdout",
     "output_type": "stream",
     "text": [
      "\n",
      "AFTER face_lookup_resolved_test\n"
     ]
    },
    {
     "data": {
      "application/vnd.jupyter.widget-view+json": {
       "model_id": "368e1a57bbc94ed4966181ffb8a96be5",
       "version_major": 2,
       "version_minor": 0
      },
      "text/plain": [
       "HBox(children=(FloatProgress(value=0.0, max=2.0), HTML(value='')))"
      ]
     },
     "metadata": {},
     "output_type": "display_data"
    },
    {
     "name": "stdout",
     "output_type": "stream",
     "text": [
      "\n"
     ]
    },
    {
     "data": {
      "application/vnd.jupyter.widget-view+json": {
       "model_id": "e4db8df69f4041278149795a74093e9c",
       "version_major": 2,
       "version_minor": 0
      },
      "text/plain": [
       "HBox(children=(FloatProgress(value=1.0, bar_style='info', max=1.0), HTML(value='')))"
      ]
     },
     "metadata": {},
     "output_type": "display_data"
    },
    {
     "name": "stdout",
     "output_type": "stream",
     "text": [
      "\n",
      "\n",
      "\n",
      "--- Working on 1-to-1 correspondence-----\n",
      "max(original_labels),len(original_labels) = (2, 3)\n",
      "empty_indices % = 0.2617543859649123\n",
      " conflict_indices % = 0.04725146198830409\n"
     ]
    },
    {
     "data": {
      "application/vnd.jupyter.widget-view+json": {
       "model_id": "fd8ae801d5834e6f9c632470111b7f9e",
       "version_major": 2,
       "version_minor": 0
      },
      "text/plain": [
       "HBox(children=(FloatProgress(value=0.0, max=18.0), HTML(value='')))"
      ]
     },
     "metadata": {},
     "output_type": "display_data"
    },
    {
     "name": "stdout",
     "output_type": "stream",
     "text": [
      "\n",
      "AFTER face_lookup_resolved_test\n"
     ]
    },
    {
     "data": {
      "application/vnd.jupyter.widget-view+json": {
       "model_id": "34f717f49448427c8958177c540ea437",
       "version_major": 2,
       "version_minor": 0
      },
      "text/plain": [
       "HBox(children=(FloatProgress(value=0.0, max=3.0), HTML(value='')))"
      ]
     },
     "metadata": {},
     "output_type": "display_data"
    },
    {
     "name": "stdout",
     "output_type": "stream",
     "text": [
      "\n",
      "Deleting branches from dictionary\n",
      "MP_branches_with_stitch_point= [0]\n",
      "MP_branches_for_correspondence = [0]\n",
      "MP_leftover = [], MP_leftover_idx = []\n",
      " Finished with (15, 0) \n",
      "\n",
      "\n",
      "\n",
      "\n",
      "---- Working on (1, 1) connection-----\n",
      "node_for_stitch = 113: [ 639976.  388548. 1112070.]\n",
      "node_for_stitch AFTER = 113: [ 639976.  388548. 1112070.]\n",
      "possible_node_loc = [ 99 139]\n",
      "possible_node_loc AFTER = [ 99 139]\n",
      "curr_shortest_path = [113, 111.0, 108.0, 106.0, 99.0]\n",
      "Current stitch point was not a branch or endpoint, shortest_path_length to one = 1065.9839544596177\n",
      "sk_conn = [1, 2]\n",
      "conn = [1, 2]\n",
      "winning_vertex = [ 639883.79945969  389478.69779767 1111570.98910537]\n",
      "MP_branches_with_stitch_point = [1, 2]\n",
      "MAP_branches_with_stitch_point = [11]\n",
      "MAP_stitch_point_on_end_or_branch = False\n"
     ]
    },
    {
     "data": {
      "application/vnd.jupyter.widget-view+json": {
       "model_id": "56a6d520818a49d2aed19dc884f4f0ec",
       "version_major": 2,
       "version_minor": 0
      },
      "text/plain": [
       "HBox(children=(FloatProgress(value=1.0, bar_style='info', max=1.0), HTML(value='')))"
      ]
     },
     "metadata": {},
     "output_type": "display_data"
    },
    {
     "name": "stdout",
     "output_type": "stream",
     "text": [
      "\n",
      "\n",
      "\n",
      "--- Working on 1-to-1 correspondence-----\n",
      "max(original_labels),len(original_labels) = (1, 2)\n",
      "empty_indices % = 0.10088105726872247\n",
      " conflict_indices % = 0.08766519823788546\n"
     ]
    },
    {
     "data": {
      "application/vnd.jupyter.widget-view+json": {
       "model_id": "f9536b4afe48495cba27c3367e5d782e",
       "version_major": 2,
       "version_minor": 0
      },
      "text/plain": [
       "HBox(children=(FloatProgress(value=0.0, max=10.0), HTML(value='')))"
      ]
     },
     "metadata": {},
     "output_type": "display_data"
    },
    {
     "name": "stdout",
     "output_type": "stream",
     "text": [
      "\n",
      "AFTER face_lookup_resolved_test\n"
     ]
    },
    {
     "data": {
      "application/vnd.jupyter.widget-view+json": {
       "model_id": "956f5e9e3d50498792ec70f72a4aec82",
       "version_major": 2,
       "version_minor": 0
      },
      "text/plain": [
       "HBox(children=(FloatProgress(value=0.0, max=2.0), HTML(value='')))"
      ]
     },
     "metadata": {},
     "output_type": "display_data"
    },
    {
     "name": "stdout",
     "output_type": "stream",
     "text": [
      "\n"
     ]
    },
    {
     "data": {
      "application/vnd.jupyter.widget-view+json": {
       "model_id": "5b12aa8a234c44e0a059d5d776b36832",
       "version_major": 2,
       "version_minor": 0
      },
      "text/plain": [
       "HBox(children=(FloatProgress(value=1.0, bar_style='info', max=1.0), HTML(value='')))"
      ]
     },
     "metadata": {},
     "output_type": "display_data"
    },
    {
     "name": "stdout",
     "output_type": "stream",
     "text": [
      "\n",
      "\n",
      "\n",
      "--- Working on 1-to-1 correspondence-----\n",
      "max(original_labels),len(original_labels) = (3, 4)\n",
      "empty_indices % = 0.45921391439537484\n",
      " conflict_indices % = 0.06660836612738667\n"
     ]
    },
    {
     "data": {
      "application/vnd.jupyter.widget-view+json": {
       "model_id": "144438a800144a13a3145fe93b2026eb",
       "version_major": 2,
       "version_minor": 0
      },
      "text/plain": [
       "HBox(children=(FloatProgress(value=0.0, max=29.0), HTML(value='')))"
      ]
     },
     "metadata": {},
     "output_type": "display_data"
    },
    {
     "name": "stdout",
     "output_type": "stream",
     "text": [
      "\n",
      "AFTER face_lookup_resolved_test\n"
     ]
    },
    {
     "data": {
      "application/vnd.jupyter.widget-view+json": {
       "model_id": "fdaa1e0c8e9d4a199a56b5a2d9755674",
       "version_major": 2,
       "version_minor": 0
      },
      "text/plain": [
       "HBox(children=(FloatProgress(value=0.0, max=4.0), HTML(value='')))"
      ]
     },
     "metadata": {},
     "output_type": "display_data"
    },
    {
     "name": "stdout",
     "output_type": "stream",
     "text": [
      "\n",
      "Deleting branches from dictionary\n",
      "MP_branches_with_stitch_point= [1, 2]\n",
      "MP_branches_for_correspondence = [1 2]\n",
      "MP_leftover = [], MP_leftover_idx = []\n",
      " Finished with (1, 1) \n",
      "\n",
      "\n",
      "\n",
      "\n",
      "---- Working on (2, 1) connection-----\n",
      "node_for_stitch = 68: [ 638173.  385433. 1111700.]\n",
      "node_for_stitch AFTER = 68: [ 638173.  385433. 1111700.]\n",
      "possible_node_loc = [50 56 64]\n",
      "possible_node_loc AFTER = [50 56 64]\n",
      "curr_shortest_path = [68, 65.0, 63.0, 62.0, 60.0, 64.0]\n",
      "Current stitch point was not a branch or endpoint, shortest_path_length to one = 1016.3088007780398\n",
      "sk_conn = [0]\n",
      "conn = [0]\n",
      "winning_vertex = [ 637982.22426538  385091.4068893  1112354.27749624]\n",
      "MP_branches_with_stitch_point = [0]\n",
      "MAP_branches_with_stitch_point = [7]\n",
      "MAP_stitch_point_on_end_or_branch = False\n"
     ]
    },
    {
     "data": {
      "application/vnd.jupyter.widget-view+json": {
       "model_id": "88d7b7ec96564f4db85abae9a30b33c9",
       "version_major": 2,
       "version_minor": 0
      },
      "text/plain": [
       "HBox(children=(FloatProgress(value=1.0, bar_style='info', max=1.0), HTML(value='')))"
      ]
     },
     "metadata": {},
     "output_type": "display_data"
    },
    {
     "name": "stdout",
     "output_type": "stream",
     "text": [
      "\n",
      "\n",
      "\n",
      "--- Working on 1-to-1 correspondence-----\n",
      "max(original_labels),len(original_labels) = (1, 2)\n",
      "empty_indices % = 0.5953859804791481\n",
      " conflict_indices % = 0.009760425909494233\n"
     ]
    },
    {
     "data": {
      "application/vnd.jupyter.widget-view+json": {
       "model_id": "59665290963c43648180c5604e0a694c",
       "version_major": 2,
       "version_minor": 0
      },
      "text/plain": [
       "HBox(children=(FloatProgress(value=0.0, max=7.0), HTML(value='')))"
      ]
     },
     "metadata": {},
     "output_type": "display_data"
    },
    {
     "name": "stdout",
     "output_type": "stream",
     "text": [
      "\n",
      "AFTER face_lookup_resolved_test\n"
     ]
    },
    {
     "data": {
      "application/vnd.jupyter.widget-view+json": {
       "model_id": "baf53081856846a8943b7c9a9adae13c",
       "version_major": 2,
       "version_minor": 0
      },
      "text/plain": [
       "HBox(children=(FloatProgress(value=0.0, max=2.0), HTML(value='')))"
      ]
     },
     "metadata": {},
     "output_type": "display_data"
    },
    {
     "name": "stdout",
     "output_type": "stream",
     "text": [
      "\n"
     ]
    },
    {
     "data": {
      "application/vnd.jupyter.widget-view+json": {
       "model_id": "cac213894ee240ddaaf87a743405e2df",
       "version_major": 2,
       "version_minor": 0
      },
      "text/plain": [
       "HBox(children=(FloatProgress(value=1.0, bar_style='info', max=1.0), HTML(value='')))"
      ]
     },
     "metadata": {},
     "output_type": "display_data"
    },
    {
     "name": "stdout",
     "output_type": "stream",
     "text": [
      "\n",
      "\n",
      "\n",
      "--- Working on 1-to-1 correspondence-----\n",
      "max(original_labels),len(original_labels) = (2, 3)\n",
      "empty_indices % = 0.34725536992840095\n",
      " conflict_indices % = 0.05787589498806683\n"
     ]
    },
    {
     "data": {
      "application/vnd.jupyter.widget-view+json": {
       "model_id": "d75701e59fab48a3a87b44979b04c640",
       "version_major": 2,
       "version_minor": 0
      },
      "text/plain": [
       "HBox(children=(FloatProgress(value=0.0, max=8.0), HTML(value='')))"
      ]
     },
     "metadata": {},
     "output_type": "display_data"
    },
    {
     "name": "stdout",
     "output_type": "stream",
     "text": [
      "\n",
      "AFTER face_lookup_resolved_test\n"
     ]
    },
    {
     "data": {
      "application/vnd.jupyter.widget-view+json": {
       "model_id": "1858c7bb083f4c06afc3ced0c806cedd",
       "version_major": 2,
       "version_minor": 0
      },
      "text/plain": [
       "HBox(children=(FloatProgress(value=0.0, max=3.0), HTML(value='')))"
      ]
     },
     "metadata": {},
     "output_type": "display_data"
    },
    {
     "name": "stdout",
     "output_type": "stream",
     "text": [
      "\n",
      "Deleting branches from dictionary\n",
      "MP_branches_with_stitch_point= [0]\n",
      "MP_branches_for_correspondence = [0]\n",
      "MP_leftover = [], MP_leftover_idx = []\n",
      " Finished with (2, 1) \n",
      "\n",
      "\n",
      "\n",
      "\n",
      "---- Working on (3, 1) connection-----\n",
      "node_for_stitch = 18: [ 636963.  383392. 1112640.]\n",
      "node_for_stitch AFTER = 18: [ 636963.  383392. 1112640.]\n",
      "possible_node_loc = [12 50]\n",
      "possible_node_loc AFTER = [12 50]\n",
      "curr_shortest_path = [18, 12.0]\n",
      "Current stitch point was not a branch or endpoint, shortest_path_length to one = 198.26245232015063\n",
      "Changing the stitch point becasue the distance to end or branch node was 198.26245232015063\n",
      "New stitch point has degree 3\n",
      "sk_conn = [7, 11]\n",
      "conn = [7, 11]\n",
      "winning_vertex = [ 635312.24027065  384110.28767502 1111410.7179457 ]\n",
      "MP_branches_with_stitch_point = [7, 11]\n",
      "MAP_branches_with_stitch_point = [0, 1, 3]\n",
      "MAP_stitch_point_on_end_or_branch = True\n",
      "\n",
      "Revising the MAP pieces index:\n",
      "MAP_pieces_idx_touching_border = [3], MAP_branches_with_stitch_point = [0, 1, 3]\n",
      "MAP_pieces_for_correspondence = [3]\n"
     ]
    },
    {
     "data": {
      "application/vnd.jupyter.widget-view+json": {
       "model_id": "ab11819a180b42419f40347f2794231b",
       "version_major": 2,
       "version_minor": 0
      },
      "text/plain": [
       "HBox(children=(FloatProgress(value=1.0, bar_style='info', max=1.0), HTML(value='')))"
      ]
     },
     "metadata": {},
     "output_type": "display_data"
    },
    {
     "name": "stdout",
     "output_type": "stream",
     "text": [
      "empty mesh_correspondence_indices_2 returned so returning original mesh correspondence\n",
      "\n",
      "\n",
      "\n",
      "--- Working on 1-to-1 correspondence-----\n",
      "max(original_labels),len(original_labels) = (2, 3)\n",
      "empty_indices % = 0.40843899397214717\n",
      " conflict_indices % = 0.018499272500519644\n"
     ]
    },
    {
     "data": {
      "application/vnd.jupyter.widget-view+json": {
       "model_id": "a0dc0e6e60b448af9c675fd8f61f8bd0",
       "version_major": 2,
       "version_minor": 0
      },
      "text/plain": [
       "HBox(children=(FloatProgress(value=0.0, max=13.0), HTML(value='')))"
      ]
     },
     "metadata": {},
     "output_type": "display_data"
    },
    {
     "name": "stdout",
     "output_type": "stream",
     "text": [
      "\n",
      "AFTER face_lookup_resolved_test\n"
     ]
    },
    {
     "data": {
      "application/vnd.jupyter.widget-view+json": {
       "model_id": "35efd697027f4f13becec3cbae02d786",
       "version_major": 2,
       "version_minor": 0
      },
      "text/plain": [
       "HBox(children=(FloatProgress(value=0.0, max=3.0), HTML(value='')))"
      ]
     },
     "metadata": {},
     "output_type": "display_data"
    },
    {
     "name": "stdout",
     "output_type": "stream",
     "text": [
      "\n",
      "MP_branches_with_stitch_point= [7, 11]\n",
      "MP_branches_for_correspondence = [ 7 11]\n",
      "MP_leftover = [], MP_leftover_idx = []\n",
      " Finished with (3, 1) \n",
      "\n",
      "\n",
      "\n",
      "Time for decomp of Limb = 558.7768545150757\n",
      "Number of matching vertices = 52\n",
      "Number of matching vertices = 0\n",
      "Number of matching vertices = 0\n",
      "Number of matching vertices = 25\n",
      "Number of matching vertices = 0\n",
      "Number of matching vertices = 0\n",
      "Number of matching vertices = 0\n",
      "Number of matching vertices = 0\n",
      "Number of matching vertices = 252\n",
      "Number of matching vertices = 0\n",
      "Number of matching vertices = 0\n",
      "Number of matching vertices = 0\n",
      "Number of matching vertices = 0\n",
      "Number of matching vertices = 0\n",
      "Number of matching vertices = 0\n",
      "Number of matching vertices = 0\n",
      "Number of matching vertices = 6\n",
      "Number of matching vertices = 0\n",
      "Number of matching vertices = 0\n",
      "Number of matching vertices = 0\n",
      "Number of matching vertices = 0\n",
      "Number of matching vertices = 0\n",
      "Number of matching vertices = 0\n",
      "Number of matching vertices = 0\n",
      "Number of matching vertices = 0\n",
      "Number of matching vertices = 19\n",
      "Number of matching vertices = 0\n",
      "Number of matching vertices = 0\n",
      "Number of matching vertices = 0\n",
      "Number of matching vertices = 0\n",
      "Number of matching vertices = 0\n",
      "Number of matching vertices = 0\n",
      "Number of matching vertices = 0\n",
      "Number of matching vertices = 29\n",
      "Number of matching vertices = 0\n",
      "Number of matching vertices = 0\n",
      "Number of matching vertices = 0\n",
      "Number of matching vertices = 0\n",
      "Number of matching vertices = 0\n",
      "Number of matching vertices = 0\n",
      "Number of matching vertices = 0\n",
      "Number of matching vertices = 5\n",
      "Number of matching vertices = 0\n",
      "Number of matching vertices = 0\n",
      "Number of matching vertices = 0\n",
      "Number of matching vertices = 0\n",
      "Number of matching vertices = 0\n",
      "Number of matching vertices = 0\n",
      "Number of matching vertices = 0\n",
      "Number of matching vertices = 3\n",
      "Only one endpoint after filtering away the endpoints that are not on the skeleton\n",
      "Only one endpoint after filtering away the endpoints that are not on the skeleton\n",
      "Only one endpoint after filtering away the endpoints that are not on the skeleton\n",
      "Only one endpoint after filtering away the endpoints that are not on the skeleton\n",
      "Only one endpoint after filtering away the endpoints that are not on the skeleton\n",
      "Only one endpoint after filtering away the endpoints that are not on the skeleton\n",
      "Only one endpoint after filtering away the endpoints that are not on the skeleton\n",
      "Only one endpoint after filtering away the endpoints that are not on the skeleton\n",
      "Using Distance measure skeletal_distance\n",
      "endpoints_must_keep = [[ 618341.45        423892.46666667 1113182.        ]\n",
      " [ 619628.          433452.         1104980.        ]\n",
      " [ 619945.83412698  428443.63571429 1112277.6984127 ]\n",
      " [ 621396.66666667  426632.2        1112696.        ]\n",
      " [ 622349.07894737  432513.24736842 1111954.31578947]\n",
      " [ 622857.          429606.         1060420.        ]\n",
      " [ 623111.42758621  430770.13103448 1113034.75862069]]\n",
      "Number of end_nodes BEFORE filtering = 59\n",
      "all_single_nodes_to_eliminate = [24, 25, 27, 29, 30, 31, 32]\n"
     ]
    },
    {
     "data": {
      "application/vnd.jupyter.widget-view+json": {
       "model_id": "72ba158af7b54412ae2e6992c6271a78",
       "version_major": 2,
       "version_minor": 0
      },
      "text/plain": [
       "HBox(children=(FloatProgress(value=0.0, max=9.0), HTML(value='')))"
      ]
     },
     "metadata": {},
     "output_type": "display_data"
    },
    {
     "name": "stdout",
     "output_type": "stream",
     "text": [
      "\n",
      "Removed 9 skeletal branches\n"
     ]
    },
    {
     "data": {
      "application/vnd.jupyter.widget-view+json": {
       "model_id": "1719ebca6b1540abb02da0db4eba0799",
       "version_major": 2,
       "version_minor": 0
      },
      "text/plain": [
       "HBox(children=(FloatProgress(value=0.0, max=121.0), HTML(value='')))"
      ]
     },
     "metadata": {},
     "output_type": "display_data"
    },
    {
     "name": "stdout",
     "output_type": "stream",
     "text": [
      "\n",
      "614296 614297\n",
      "For marked faces: None\n",
      "empty_indices % = 0.002192750412259868\n",
      " conflict_indices % = 0.0\n"
     ]
    },
    {
     "data": {
      "application/vnd.jupyter.widget-view+json": {
       "model_id": "1ff0ebd66ca947a0bb81c8f3dcc7be28",
       "version_major": 2,
       "version_minor": 0
      },
      "text/plain": [
       "HBox(children=(FloatProgress(value=0.0, max=2.0), HTML(value='')))"
      ]
     },
     "metadata": {},
     "output_type": "display_data"
    },
    {
     "name": "stdout",
     "output_type": "stream",
     "text": [
      "\n",
      "AFTER face_lookup_resolved_test\n"
     ]
    },
    {
     "data": {
      "application/vnd.jupyter.widget-view+json": {
       "model_id": "a31d1fcd4fea434fa25da0767f5bdf4f",
       "version_major": 2,
       "version_minor": 0
      },
      "text/plain": [
       "HBox(children=(FloatProgress(value=0.0, max=105.0), HTML(value='')))"
      ]
     },
     "metadata": {},
     "output_type": "display_data"
    },
    {
     "name": "stdout",
     "output_type": "stream",
     "text": [
      "\n",
      "\n",
      "\n",
      "----- Working on Proper Limb # 1 ---------\n",
      "meshparty_segment_size = 100\n",
      "root_curr = [ 618120.8  439030.1 1060415. ]\n",
      "Time for preparing soma vertices and root: 0.0003077983856201172\n",
      "invalidation_d = 12000\n",
      "cc_vertex_thresh = 10\n"
     ]
    },
    {
     "name": "stderr",
     "output_type": "stream",
     "text": [
      "\r",
      "  0%|          | 0/1 [00:00<?, ?it/s]"
     ]
    },
    {
     "data": {
      "application/vnd.jupyter.widget-view+json": {
       "model_id": "0f5601774fa64d13b8923e27c9d2980a",
       "version_major": 2,
       "version_minor": 0
      },
      "text/plain": [
       "HBox(children=(FloatProgress(value=0.0, max=267582.0), HTML(value='')))"
      ]
     },
     "metadata": {},
     "output_type": "display_data"
    },
    {
     "name": "stderr",
     "output_type": "stream",
     "text": [
      "100%|██████████| 1/1 [00:06<00:00,  6.67s/it]"
     ]
    },
    {
     "name": "stdout",
     "output_type": "stream",
     "text": [
      "\n"
     ]
    },
    {
     "name": "stderr",
     "output_type": "stream",
     "text": [
      "\n"
     ]
    },
    {
     "name": "stdout",
     "output_type": "stream",
     "text": [
      "meshparty_segment_size = 100\n",
      "Time for 1st pass MP skeletonization: 8.85017991065979\n",
      "connecting at the root\n",
      "branches_touching_root = [53]\n",
      "length of Graph = 23135\n",
      "Working on path [11291. 11298. 11300. 11303. 11305. 11309. 11310.]\n",
      "path_degrees = [3, 2, 2, 2, 2, 2, 3]\n",
      "After combining close endpoints max(kept_branches_idx) = 53, len(kept_branches_idx) = 53\n",
      "empty_indices % = 0.0\n",
      " conflict_indices % = 0.004734563253012049\n"
     ]
    },
    {
     "data": {
      "application/vnd.jupyter.widget-view+json": {
       "model_id": "9fe8f08792674fb484c7f1b423925b1e",
       "version_major": 2,
       "version_minor": 0
      },
      "text/plain": [
       "HBox(children=(FloatProgress(value=0.0, max=26.0), HTML(value='')))"
      ]
     },
     "metadata": {},
     "output_type": "display_data"
    },
    {
     "name": "stdout",
     "output_type": "stream",
     "text": [
      "\n",
      "AFTER face_lookup_resolved_test\n"
     ]
    },
    {
     "data": {
      "application/vnd.jupyter.widget-view+json": {
       "model_id": "0ad352f4d1104ebea1854e4119321cd7",
       "version_major": 2,
       "version_minor": 0
      },
      "text/plain": [
       "HBox(children=(FloatProgress(value=0.0, max=53.0), HTML(value='')))"
      ]
     },
     "metadata": {},
     "output_type": "display_data"
    },
    {
     "name": "stdout",
     "output_type": "stream",
     "text": [
      "\n",
      "Decomposing first pass: 29.056640148162842\n",
      "Attempting to use MeshAfterParty Skeletonization and Mesh Correspondence\n",
      "Another print\n",
      "Found len(mesh_large_idx) MAP candidates: [3294, 2656, 12128, 1255, 16067, 3150, 4993, 14565, 49239, 723, 3958, 6331, 1474, 550, 3438, 1379, 8520, 24740, 2923, 48, 9946, 8093, 4965]\n",
      "mesh_large_connectivity: 0.7959499359130859\n",
      "Finding MAP candidates connected components: 0.0002942085266113281\n",
      "len(filtered_pieces) = 4\n",
      "skeleton_connectivity_MP : 0.7547335624694824\n",
      "Grouping MP Sublimbs by Graph: 0.18691778182983398\n",
      "Divinding into MP and MAP pieces: 9.5367431640625e-07\n",
      "--- Working on MAP piece 0---\n",
      "MAP Filtering Soma Pieces: 0.0014615058898925781\n",
      "inside skeletonize_connected_branch and use_surface_after_CGAL=False, surface_reconstruction_size=1000\n",
      "     Starting Screened Poisson\n",
      "xvfb-run -n 4076 -s \"-screen 0 800x600x24\" meshlabserver $@  -i /notebooks/Auto_Proofreading/Preprocessing_Pipeline/temp/None.off -o /notebooks/Auto_Proofreading/Preprocessing_Pipeline/temp/None_poisson.off -s /notebooks/Auto_Proofreading/Preprocessing_Pipeline/temp/poisson_928123.mls\n",
      "removed temporary input file: /notebooks/Auto_Proofreading/Preprocessing_Pipeline/temp/None.off\n",
      "removed temporary output file: /notebooks/Auto_Proofreading/Preprocessing_Pipeline/temp/None_poisson.off\n",
      "Using the close holes feature\n",
      "Mesh was manifold\n",
      "No holes needed to fill and mesh was manifold so returning original mesh\n",
      "-----Time for Screened Poisson= 7.732407569885254\n",
      "mesh_pieces = [<trimesh.Trimesh(vertices.shape=(16388, 3), faces.shape=(32772, 3))>]\n",
      "     Starting Calcification (Changed back where stitches large poissons)\n",
      "min_edge_length = 75\n"
     ]
    },
    {
     "data": {
      "application/vnd.jupyter.widget-view+json": {
       "model_id": "a97d7398f3444e3a97b9495aeffc8d0a",
       "version_major": 2,
       "version_minor": 0
      },
      "text/plain": [
       "HBox(children=(FloatProgress(value=1.0, bar_style='info', max=1.0), HTML(value='')))"
      ]
     },
     "metadata": {},
     "output_type": "display_data"
    },
    {
     "name": "stdout",
     "output_type": "stream",
     "text": [
      "\n",
      "No skeletons to stack so returning empty list\n",
      "len_subgraphs AT BEGINNING of the loop\n"
     ]
    },
    {
     "data": {
      "application/vnd.jupyter.widget-view+json": {
       "model_id": "992e0155c86149dea07e372b51b3d853",
       "version_major": 2,
       "version_minor": 0
      },
      "text/plain": [
       "HBox(children=(FloatProgress(value=0.0, max=1.0), HTML(value='')))"
      ]
     },
     "metadata": {},
     "output_type": "display_data"
    },
    {
     "name": "stdout",
     "output_type": "stream",
     "text": [
      "all graph is one component!\n",
      "\n",
      "Total time for skeleton stitching = 0.044661521911621094\n",
      "The process was using a temp folder\n",
      "Checking connected components after skeletonize_connected_branch\n",
      "    Total time for skeletonizing branch: 9.12120270729065\n",
      "Checking connected components after removing cycles\n",
      "Total time for mesh KDTree = 0.1073448657989502\n",
      "sbv[0].reshape(-1,3) = [[ 623935.   440050.1 1063175. ]]\n",
      "closest_sk_pt_coord BEFORE = [ 623968.  440792. 1063650.]\n",
      "current_skeleton.shape = (511, 2, 3)\n",
      "node_for_stitch = 216: [ 623968.  440792. 1063650.]\n",
      "node_for_stitch AFTER = 216: [ 623968.  440792. 1063650.]\n",
      "possible_node_loc = [  0  79 112 177 216 247 261 511]\n",
      "possible_node_loc AFTER = [  0  79 112 177 216 247 261 511]\n",
      "curr_shortest_path = [216]\n",
      "Current stitch point was a branch or endpoint\n",
      "change_status for create soma extending pieces = False\n",
      "closest_sk_pt_coord AFTER = [ 623968.  440792. 1063650.]\n",
      "skipping soma 0 because closest skeleton node was already end node\n",
      "endpoints_must_keep = {0: array([[ 623968.,  440792., 1063650.]])}\n",
      "    Total time for Fixing Skeleton Soma Endpoint Extension : 0.23272943496704102\n",
      "filter_end_node_length = 4000\n",
      "Using Distance measure skeletal_distance\n",
      "endpoints_must_keep = [[ 623968.  440792. 1063650.]]\n",
      "Number of end_nodes BEFORE filtering = 8\n",
      "all_single_nodes_to_eliminate = [4]\n"
     ]
    },
    {
     "data": {
      "application/vnd.jupyter.widget-view+json": {
       "model_id": "39f7e44726b647eea789bb9ecd3f4fa0",
       "version_major": 2,
       "version_minor": 0
      },
      "text/plain": [
       "HBox(children=(FloatProgress(value=0.0, max=4.0), HTML(value='')))"
      ]
     },
     "metadata": {},
     "output_type": "display_data"
    },
    {
     "name": "stdout",
     "output_type": "stream",
     "text": [
      "\n",
      "Checking connected components after clean_skeleton\n",
      "after DISTANCE cleaning limb size of skeleton = (495, 2, 3)\n",
      "********COMBINING CLOSE SKELETON NODES WITHIN 700 DISTANCE**********\n",
      "Found 0 valid paths to replace\n",
      "valid_paths = []\n",
      "valid_path_lengths = []\n",
      "No valid paths found so just returning the original\n",
      "skeletonize_and_clean_connected_branch_CGAL: 10.167618036270142\n",
      "Working on limb correspondence for #0 MAP piece\n",
      "xvfb-run -n 4076 -s \"-screen 0 800x600x24\" meshlabserver $@  -i /notebooks/Auto_Proofreading/Preprocessing_Pipeline/temp/neuron_12073.off -o /notebooks/Auto_Proofreading/Preprocessing_Pipeline/temp/neuron_12073_remove_interior.off -s /notebooks/Auto_Proofreading/Preprocessing_Pipeline/temp/remove_interior_698284.mls\n",
      "removed temporary input file: /notebooks/Auto_Proofreading/Preprocessing_Pipeline/temp/neuron_12073.off\n",
      "removed temporary output file: /notebooks/Auto_Proofreading/Preprocessing_Pipeline/temp/neuron_12073_remove_interior.off\n",
      "/notebooks/Auto_Proofreading/Preprocessing_Pipeline/temp/remove_interior_698284.mls is being deleted....\n",
      "THERE WERE NO MESH PIECES GREATER THAN THE significance_threshold\n",
      "No significant (100) interior meshes present\n",
      "largest is 82\n"
     ]
    },
    {
     "data": {
      "application/vnd.jupyter.widget-view+json": {
       "model_id": "8df08a92a03840ae8a8cf649bb870109",
       "version_major": 2,
       "version_minor": 0
      },
      "text/plain": [
       "HBox(children=(FloatProgress(value=1.0, bar_style='info', max=1.0), HTML(value='')))"
      ]
     },
     "metadata": {},
     "output_type": "display_data"
    },
    {
     "name": "stdout",
     "output_type": "stream",
     "text": [
      "\n",
      "Total time for decomposition = 2.4917993545532227\n",
      "mesh_correspondence_first_pass: 2.491830825805664\n",
      "Limb decomposed into 5 branches\n",
      "divided_skeleton_graph_recovered = (495, 2, 3) and \n",
      "current_mesh_data[0]['branch_skeletons_cleaned'].shape = (495, 2, 3)\n",
      "\n",
      "Number of connected components in deocmposed recovered graph = 1\n",
      "Number of connected components in cleaned skeleton graph= 1\n",
      "The downsampled branches number of connected components = 1\n",
      "Empty submeshes = []\n",
      "\n",
      "\n",
      "--- Working on 1-to-1 correspondence-----\n",
      "max(original_labels),len(original_labels) = (4, 5)\n",
      "empty_indices % = 0.15031098825155495\n",
      " conflict_indices % = 0.035383552176917764\n"
     ]
    },
    {
     "data": {
      "application/vnd.jupyter.widget-view+json": {
       "model_id": "444da9aa99294d17804aa734be091164",
       "version_major": 2,
       "version_minor": 0
      },
      "text/plain": [
       "HBox(children=(FloatProgress(value=0.0, max=32.0), HTML(value='')))"
      ]
     },
     "metadata": {},
     "output_type": "display_data"
    },
    {
     "name": "stdout",
     "output_type": "stream",
     "text": [
      "\n",
      "AFTER face_lookup_resolved_test\n",
      "Took 0 iterations to expand the label back\n",
      "empty_indices % = 0.0\n",
      " conflict_indices % = 0.0\n"
     ]
    },
    {
     "data": {
      "application/vnd.jupyter.widget-view+json": {
       "model_id": "9101f8f1976e49d793fa1bf034bdb5d6",
       "version_major": 2,
       "version_minor": 0
      },
      "text/plain": [
       "HBox(children=(FloatProgress(value=1.0, bar_style='info', max=1.0), HTML(value='')))"
      ]
     },
     "metadata": {},
     "output_type": "display_data"
    },
    {
     "name": "stdout",
     "output_type": "stream",
     "text": [
      "\n",
      "AFTER face_lookup_resolved_test\n"
     ]
    },
    {
     "data": {
      "application/vnd.jupyter.widget-view+json": {
       "model_id": "5e65244fa94e48d48bc41584243c72c0",
       "version_major": 2,
       "version_minor": 0
      },
      "text/plain": [
       "HBox(children=(FloatProgress(value=0.0, max=5.0), HTML(value='')))"
      ]
     },
     "metadata": {},
     "output_type": "display_data"
    },
    {
     "name": "stdout",
     "output_type": "stream",
     "text": [
      "\n",
      "Total time for MAP sublimb #0 mesh processing = 13.553237676620483\n",
      "correspondence_1_to_1: 0.892409086227417\n",
      "--- Working on MAP piece 1---\n",
      "MAP Filtering Soma Pieces: 0.0056416988372802734\n",
      "inside skeletonize_connected_branch and use_surface_after_CGAL=False, surface_reconstruction_size=1000\n",
      "     Starting Screened Poisson\n",
      "xvfb-run -n 4076 -s \"-screen 0 800x600x24\" meshlabserver $@  -i /notebooks/Auto_Proofreading/Preprocessing_Pipeline/temp/None.off -o /notebooks/Auto_Proofreading/Preprocessing_Pipeline/temp/None_poisson.off -s /notebooks/Auto_Proofreading/Preprocessing_Pipeline/temp/poisson_85131.mls\n",
      "removed temporary input file: /notebooks/Auto_Proofreading/Preprocessing_Pipeline/temp/None.off\n",
      "removed temporary output file: /notebooks/Auto_Proofreading/Preprocessing_Pipeline/temp/None_poisson.off\n",
      "Using the close holes feature\n",
      "Mesh was manifold\n",
      "No holes needed to fill and mesh was manifold so returning original mesh\n",
      "-----Time for Screened Poisson= 6.7692179679870605\n",
      "mesh_pieces = [<trimesh.Trimesh(vertices.shape=(13400, 3), faces.shape=(26800, 3))>]\n",
      "     Starting Calcification (Changed back where stitches large poissons)\n",
      "min_edge_length = 75\n"
     ]
    },
    {
     "data": {
      "application/vnd.jupyter.widget-view+json": {
       "model_id": "5189b73a6f9245dea5f5f153bd2418ae",
       "version_major": 2,
       "version_minor": 0
      },
      "text/plain": [
       "HBox(children=(FloatProgress(value=1.0, bar_style='info', max=1.0), HTML(value='')))"
      ]
     },
     "metadata": {},
     "output_type": "display_data"
    },
    {
     "name": "stdout",
     "output_type": "stream",
     "text": [
      "\n",
      "No skeletons to stack so returning empty list\n",
      "len_subgraphs AT BEGINNING of the loop\n"
     ]
    },
    {
     "data": {
      "application/vnd.jupyter.widget-view+json": {
       "model_id": "fcec6546ca5741b1a4a76cca34684210",
       "version_major": 2,
       "version_minor": 0
      },
      "text/plain": [
       "HBox(children=(FloatProgress(value=0.0, max=1.0), HTML(value='')))"
      ]
     },
     "metadata": {},
     "output_type": "display_data"
    },
    {
     "name": "stdout",
     "output_type": "stream",
     "text": [
      "all graph is one component!\n",
      "\n",
      "Total time for skeleton stitching = 0.031527042388916016\n",
      "The process was using a temp folder\n",
      "Checking connected components after skeletonize_connected_branch\n",
      "    Total time for skeletonizing branch: 7.79808235168457\n",
      "Checking connected components after removing cycles\n",
      "    Total time for Fixing Skeleton Soma Endpoint Extension : 0.015187263488769531\n",
      "filter_end_node_length = 4000\n",
      "xvfb-run -n 4076 -s \"-screen 0 800x600x24\" meshlabserver $@  -i /notebooks/Auto_Proofreading/Preprocessing_Pipeline/temp/neuron_12290.off -o /notebooks/Auto_Proofreading/Preprocessing_Pipeline/temp/neuron_12290_remove_interior.off -s /notebooks/Auto_Proofreading/Preprocessing_Pipeline/temp/remove_interior_714522.mls\n",
      "removed temporary input file: /notebooks/Auto_Proofreading/Preprocessing_Pipeline/temp/neuron_12290.off\n",
      "removed temporary output file: /notebooks/Auto_Proofreading/Preprocessing_Pipeline/temp/neuron_12290_remove_interior.off\n",
      "/notebooks/Auto_Proofreading/Preprocessing_Pipeline/temp/remove_interior_714522.mls is being deleted....\n",
      "THERE WERE NO MESH PIECES GREATER THAN THE significance_threshold\n",
      "No significant (100) interior meshes present\n",
      "largest is 38\n",
      "Using Distance measure skeletal_distance\n"
     ]
    },
    {
     "data": {
      "application/vnd.jupyter.widget-view+json": {
       "model_id": "30b2d9e43879411d8906377459f74698",
       "version_major": 2,
       "version_minor": 0
      },
      "text/plain": [
       "HBox(children=(FloatProgress(value=0.0, max=9.0), HTML(value='')))"
      ]
     },
     "metadata": {},
     "output_type": "display_data"
    },
    {
     "name": "stdout",
     "output_type": "stream",
     "text": [
      "\n",
      "Checking connected components after clean_skeleton\n",
      "after DISTANCE cleaning limb size of skeleton = (311, 2, 3)\n",
      "********COMBINING CLOSE SKELETON NODES WITHIN 700 DISTANCE**********\n",
      "Found 0 valid paths to replace\n",
      "valid_paths = []\n",
      "valid_path_lengths = []\n",
      "No valid paths found so just returning the original\n",
      "Inside MAP decomposition and curr_limb_endpoints_must_keep was None\n",
      "skeletonize_and_clean_connected_branch_CGAL: 9.655546188354492\n",
      "Working on limb correspondence for #1 MAP piece\n",
      "xvfb-run -n 4076 -s \"-screen 0 800x600x24\" meshlabserver $@  -i /notebooks/Auto_Proofreading/Preprocessing_Pipeline/temp/neuron_99716.off -o /notebooks/Auto_Proofreading/Preprocessing_Pipeline/temp/neuron_99716_remove_interior.off -s /notebooks/Auto_Proofreading/Preprocessing_Pipeline/temp/remove_interior_73627.mls\n",
      "removed temporary input file: /notebooks/Auto_Proofreading/Preprocessing_Pipeline/temp/neuron_99716.off\n",
      "removed temporary output file: /notebooks/Auto_Proofreading/Preprocessing_Pipeline/temp/neuron_99716_remove_interior.off\n",
      "/notebooks/Auto_Proofreading/Preprocessing_Pipeline/temp/remove_interior_73627.mls is being deleted....\n",
      "THERE WERE NO MESH PIECES GREATER THAN THE significance_threshold\n",
      "No significant (100) interior meshes present\n",
      "largest is 38\n"
     ]
    },
    {
     "data": {
      "application/vnd.jupyter.widget-view+json": {
       "model_id": "4d008fb0ecfd47a0a3348817c14e8353",
       "version_major": 2,
       "version_minor": 0
      },
      "text/plain": [
       "HBox(children=(FloatProgress(value=1.0, bar_style='info', max=1.0), HTML(value='')))"
      ]
     },
     "metadata": {},
     "output_type": "display_data"
    },
    {
     "name": "stdout",
     "output_type": "stream",
     "text": [
      "\n",
      "Total time for decomposition = 2.0717456340789795\n",
      "mesh_correspondence_first_pass: 2.0717742443084717\n",
      "Limb decomposed into 1 branches\n",
      "divided_skeleton_graph_recovered = (311, 2, 3) and \n",
      "current_mesh_data[0]['branch_skeletons_cleaned'].shape = (311, 2, 3)\n",
      "\n",
      "Number of connected components in deocmposed recovered graph = 1\n",
      "Number of connected components in cleaned skeleton graph= 1\n",
      "The downsampled branches number of connected components = 1\n",
      "Empty submeshes = []\n",
      "\n",
      "\n",
      "--- Working on 1-to-1 correspondence-----\n",
      "max(original_labels),len(original_labels) = (0, 1)\n",
      "empty_indices % = 0.16820580474934038\n",
      " conflict_indices % = 0.0\n"
     ]
    },
    {
     "data": {
      "application/vnd.jupyter.widget-view+json": {
       "model_id": "4d5b3b9a97484884959a40198c41f413",
       "version_major": 2,
       "version_minor": 0
      },
      "text/plain": [
       "HBox(children=(FloatProgress(value=0.0, max=23.0), HTML(value='')))"
      ]
     },
     "metadata": {},
     "output_type": "display_data"
    },
    {
     "name": "stdout",
     "output_type": "stream",
     "text": [
      "\n",
      "AFTER face_lookup_resolved_test\n"
     ]
    },
    {
     "data": {
      "application/vnd.jupyter.widget-view+json": {
       "model_id": "43410728cbef4d84aa3fe5eeed3156fe",
       "version_major": 2,
       "version_minor": 0
      },
      "text/plain": [
       "HBox(children=(FloatProgress(value=0.0, max=1.0), HTML(value='')))"
      ]
     },
     "metadata": {},
     "output_type": "display_data"
    },
    {
     "name": "stdout",
     "output_type": "stream",
     "text": [
      "\n",
      "Total time for MAP sublimb #1 mesh processing = 12.134257555007935\n",
      "correspondence_1_to_1: 0.4012339115142822\n",
      "--- Working on MAP piece 2---\n",
      "MAP Filtering Soma Pieces: 0.013495206832885742\n",
      "inside skeletonize_connected_branch and use_surface_after_CGAL=False, surface_reconstruction_size=1000\n",
      "     Starting Screened Poisson\n",
      "xvfb-run -n 4076 -s \"-screen 0 800x600x24\" meshlabserver $@  -i /notebooks/Auto_Proofreading/Preprocessing_Pipeline/temp/None.off -o /notebooks/Auto_Proofreading/Preprocessing_Pipeline/temp/None_poisson.off -s /notebooks/Auto_Proofreading/Preprocessing_Pipeline/temp/poisson_881202.mls\n",
      "removed temporary input file: /notebooks/Auto_Proofreading/Preprocessing_Pipeline/temp/None.off\n",
      "removed temporary output file: /notebooks/Auto_Proofreading/Preprocessing_Pipeline/temp/None_poisson.off\n",
      "Using the close holes feature\n",
      "Mesh was manifold\n",
      "No holes needed to fill and mesh was manifold so returning original mesh\n",
      "-----Time for Screened Poisson= 9.059905052185059\n",
      "mesh_pieces = [<trimesh.Trimesh(vertices.shape=(18072, 3), faces.shape=(36140, 3))>]\n",
      "     Starting Calcification (Changed back where stitches large poissons)\n",
      "min_edge_length = 75\n"
     ]
    },
    {
     "data": {
      "application/vnd.jupyter.widget-view+json": {
       "model_id": "181b79d01a2d44509d6290a672053e28",
       "version_major": 2,
       "version_minor": 0
      },
      "text/plain": [
       "HBox(children=(FloatProgress(value=1.0, bar_style='info', max=1.0), HTML(value='')))"
      ]
     },
     "metadata": {},
     "output_type": "display_data"
    },
    {
     "name": "stdout",
     "output_type": "stream",
     "text": [
      "\n",
      "No skeletons to stack so returning empty list\n",
      "len_subgraphs AT BEGINNING of the loop\n"
     ]
    },
    {
     "data": {
      "application/vnd.jupyter.widget-view+json": {
       "model_id": "18d3fddc9f974bac8cedb68ed7fce1da",
       "version_major": 2,
       "version_minor": 0
      },
      "text/plain": [
       "HBox(children=(FloatProgress(value=0.0, max=1.0), HTML(value='')))"
      ]
     },
     "metadata": {},
     "output_type": "display_data"
    },
    {
     "name": "stdout",
     "output_type": "stream",
     "text": [
      "all graph is one component!\n",
      "\n",
      "Total time for skeleton stitching = 0.046883583068847656\n",
      "The process was using a temp folder\n",
      "Checking connected components after skeletonize_connected_branch\n",
      "    Total time for skeletonizing branch: 10.462120771408081\n",
      "Checking connected components after removing cycles\n",
      "Total time for mesh KDTree = 0.12278246879577637\n",
      "sbv[0].reshape(-1,3) = [[ 618120.8  439030.1 1060415. ]]\n",
      "closest_sk_pt_coord BEFORE = [ 617459.  439374. 1060160.]\n",
      "current_skeleton.shape = (550, 2, 3)\n",
      "node_for_stitch = 550: [ 617459.  439374. 1060160.]\n",
      "node_for_stitch AFTER = 550: [ 617459.  439374. 1060160.]\n",
      "possible_node_loc = [  0  16  41 166 176 192 208 254 282 406 412 550]\n",
      "possible_node_loc AFTER = [  0  16  41 166 176 192 208 254 282 406 412 550]\n",
      "curr_shortest_path = [550]\n",
      "Current stitch point was a branch or endpoint\n",
      "change_status for create soma extending pieces = False\n",
      "closest_sk_pt_coord AFTER = [ 617459.  439374. 1060160.]\n",
      "skipping soma 0 because closest skeleton node was already end node\n",
      "endpoints_must_keep = {0: array([[ 617459.,  439374., 1060160.]])}\n",
      "    Total time for Fixing Skeleton Soma Endpoint Extension : 0.26310276985168457\n",
      "filter_end_node_length = 4000\n",
      "Using Distance measure skeletal_distance\n",
      "endpoints_must_keep = [[ 617459.  439374. 1060160.]]\n",
      "Number of end_nodes BEFORE filtering = 12\n",
      "all_single_nodes_to_eliminate = [11]\n"
     ]
    },
    {
     "data": {
      "application/vnd.jupyter.widget-view+json": {
       "model_id": "71fd054d4b534e54bdbe95ea44682ec9",
       "version_major": 2,
       "version_minor": 0
      },
      "text/plain": [
       "HBox(children=(FloatProgress(value=0.0, max=9.0), HTML(value='')))"
      ]
     },
     "metadata": {},
     "output_type": "display_data"
    },
    {
     "name": "stdout",
     "output_type": "stream",
     "text": [
      "\n",
      "Checking connected components after clean_skeleton\n",
      "after DISTANCE cleaning limb size of skeleton = (514, 2, 3)\n",
      "********COMBINING CLOSE SKELETON NODES WITHIN 700 DISTANCE**********\n",
      "Found 0 valid paths to replace\n",
      "valid_paths = []\n",
      "valid_path_lengths = []\n",
      "No valid paths found so just returning the original\n",
      "skeletonize_and_clean_connected_branch_CGAL: 11.65194845199585\n",
      "Working on limb correspondence for #2 MAP piece\n",
      "xvfb-run -n 4076 -s \"-screen 0 800x600x24\" meshlabserver $@  -i /notebooks/Auto_Proofreading/Preprocessing_Pipeline/temp/neuron_32278.off -o /notebooks/Auto_Proofreading/Preprocessing_Pipeline/temp/neuron_32278_remove_interior.off -s /notebooks/Auto_Proofreading/Preprocessing_Pipeline/temp/remove_interior_33843.mls\n",
      "removed temporary input file: /notebooks/Auto_Proofreading/Preprocessing_Pipeline/temp/neuron_32278.off\n",
      "removed temporary output file: /notebooks/Auto_Proofreading/Preprocessing_Pipeline/temp/neuron_32278_remove_interior.off\n",
      "/notebooks/Auto_Proofreading/Preprocessing_Pipeline/temp/remove_interior_33843.mls is being deleted....\n",
      "THERE WERE NO MESH PIECES GREATER THAN THE significance_threshold\n",
      "No significant (100) interior meshes present\n",
      "largest is 16\n"
     ]
    },
    {
     "data": {
      "application/vnd.jupyter.widget-view+json": {
       "model_id": "06d94b3615ab40e0adfe624011018874",
       "version_major": 2,
       "version_minor": 0
      },
      "text/plain": [
       "HBox(children=(FloatProgress(value=1.0, bar_style='info', max=1.0), HTML(value='')))"
      ]
     },
     "metadata": {},
     "output_type": "display_data"
    },
    {
     "name": "stdout",
     "output_type": "stream",
     "text": [
      "\n",
      "Total time for decomposition = 2.799384593963623\n",
      "mesh_correspondence_first_pass: 2.799553871154785\n",
      "Limb decomposed into 5 branches\n",
      "divided_skeleton_graph_recovered = (514, 2, 3) and \n",
      "current_mesh_data[0]['branch_skeletons_cleaned'].shape = (514, 2, 3)\n",
      "\n",
      "Number of connected components in deocmposed recovered graph = 1\n",
      "Number of connected components in cleaned skeleton graph= 1\n",
      "The downsampled branches number of connected components = 1\n",
      "Empty submeshes = []\n",
      "\n",
      "\n",
      "--- Working on 1-to-1 correspondence-----\n",
      "max(original_labels),len(original_labels) = (4, 5)\n",
      "empty_indices % = 0.15353926820927846\n",
      " conflict_indices % = 0.021885329989741253\n"
     ]
    },
    {
     "data": {
      "application/vnd.jupyter.widget-view+json": {
       "model_id": "d59b106cd5f045d593547ee566c7fb88",
       "version_major": 2,
       "version_minor": 0
      },
      "text/plain": [
       "HBox(children=(FloatProgress(value=0.0, max=57.0), HTML(value='')))"
      ]
     },
     "metadata": {},
     "output_type": "display_data"
    },
    {
     "name": "stdout",
     "output_type": "stream",
     "text": [
      "\n",
      "AFTER face_lookup_resolved_test\n",
      "Took 0 iterations to expand the label back\n",
      "empty_indices % = 0.0\n",
      " conflict_indices % = 0.0\n"
     ]
    },
    {
     "data": {
      "application/vnd.jupyter.widget-view+json": {
       "model_id": "647e95443e9049aab668d1fed6bae9b6",
       "version_major": 2,
       "version_minor": 0
      },
      "text/plain": [
       "HBox(children=(FloatProgress(value=1.0, bar_style='info', max=1.0), HTML(value='')))"
      ]
     },
     "metadata": {},
     "output_type": "display_data"
    },
    {
     "name": "stdout",
     "output_type": "stream",
     "text": [
      "\n",
      "AFTER face_lookup_resolved_test\n"
     ]
    },
    {
     "data": {
      "application/vnd.jupyter.widget-view+json": {
       "model_id": "b568077e251247a6805178db8ce247e4",
       "version_major": 2,
       "version_minor": 0
      },
      "text/plain": [
       "HBox(children=(FloatProgress(value=0.0, max=5.0), HTML(value='')))"
      ]
     },
     "metadata": {},
     "output_type": "display_data"
    },
    {
     "name": "stdout",
     "output_type": "stream",
     "text": [
      "\n",
      "Total time for MAP sublimb #2 mesh processing = 15.465986967086792\n",
      "correspondence_1_to_1: 1.0009222030639648\n",
      "--- Working on MAP piece 3---\n",
      "MAP Filtering Soma Pieces: 0.012017488479614258\n",
      "inside skeletonize_connected_branch and use_surface_after_CGAL=False, surface_reconstruction_size=1000\n",
      "     Starting Screened Poisson\n",
      "xvfb-run -n 4076 -s \"-screen 0 800x600x24\" meshlabserver $@  -i /notebooks/Auto_Proofreading/Preprocessing_Pipeline/temp/None.off -o /notebooks/Auto_Proofreading/Preprocessing_Pipeline/temp/None_poisson.off -s /notebooks/Auto_Proofreading/Preprocessing_Pipeline/temp/poisson_362805.mls\n",
      "removed temporary input file: /notebooks/Auto_Proofreading/Preprocessing_Pipeline/temp/None.off\n",
      "removed temporary output file: /notebooks/Auto_Proofreading/Preprocessing_Pipeline/temp/None_poisson.off\n",
      "Using the close holes feature\n",
      "Mesh was manifold\n",
      "No holes needed to fill and mesh was manifold so returning original mesh\n",
      "-----Time for Screened Poisson= 24.0199978351593\n",
      "mesh_pieces = [<trimesh.Trimesh(vertices.shape=(89625, 3), faces.shape=(179262, 3))>]\n",
      "     Starting Calcification (Changed back where stitches large poissons)\n",
      "min_edge_length = 75\n"
     ]
    },
    {
     "data": {
      "application/vnd.jupyter.widget-view+json": {
       "model_id": "dd9a9d26c3214aabaa22e0ab57388d30",
       "version_major": 2,
       "version_minor": 0
      },
      "text/plain": [
       "HBox(children=(FloatProgress(value=1.0, bar_style='info', max=1.0), HTML(value='')))"
      ]
     },
     "metadata": {},
     "output_type": "display_data"
    },
    {
     "name": "stdout",
     "output_type": "stream",
     "text": [
      "\n",
      "No skeletons to stack so returning empty list\n",
      "len_subgraphs AT BEGINNING of the loop\n"
     ]
    },
    {
     "data": {
      "application/vnd.jupyter.widget-view+json": {
       "model_id": "86756500cfe24716a69c1df68ff0be18",
       "version_major": 2,
       "version_minor": 0
      },
      "text/plain": [
       "HBox(children=(FloatProgress(value=0.0, max=1.0), HTML(value='')))"
      ]
     },
     "metadata": {},
     "output_type": "display_data"
    },
    {
     "name": "stdout",
     "output_type": "stream",
     "text": [
      "all graph is one component!\n",
      "\n",
      "Total time for skeleton stitching = 0.14607024192810059\n",
      "The process was using a temp folder\n",
      "Checking connected components after skeletonize_connected_branch\n",
      "    Total time for skeletonizing branch: 35.265798807144165\n",
      "Checking connected components after removing cycles\n",
      "Total time for mesh KDTree = 0.7981936931610107\n",
      "sbv[0].reshape(-1,3) = [[ 621183.3  443003.1 1113896. ]]\n",
      "closest_sk_pt_coord BEFORE = [ 620720.  443112. 1113170.]\n",
      "current_skeleton.shape = (4023, 2, 3)\n",
      "node_for_stitch = 468: [ 620720.  443112. 1113170.]\n",
      "node_for_stitch AFTER = 468: [ 620720.  443112. 1113170.]\n",
      "possible_node_loc = [   0  271  472  997 1525 1645 1919 2052 2133 2402 2437 2540 2696 2710\n",
      " 2966 2981 3064 3109 3180 3184 3226 3277 3376 3409 3445 3469 3472 3506\n",
      " 3605 3709 3727 3761 3767 3877 3918 3951 4023]\n",
      "possible_node_loc AFTER = [   0  271  472  997 1525 1645 1919 2052 2133 2402 2437 2540 2696 2710\n",
      " 2966 2981 3064 3109 3180 3184 3226 3277 3376 3409 3445 3469 3472 3506\n",
      " 3605 3709 3727 3761 3767 3877 3918 3951 4023]\n",
      "curr_shortest_path = [468, 483.0, 490.0, 501.0, 522.0, 530.0, 536.0, 538.0, 546.0, 550.0, 554.0, 551.0, 548.0, 544.0, 534.0, 526.0, 517.0, 498.0, 493.0, 488.0, 476.0, 472.0]\n",
      "Current stitch point was not a branch or endpoint, shortest_path_length to one = 3109.028020656411\n",
      "change_status for create soma extending pieces = False\n",
      "closest_sk_pt_coord AFTER = [ 620720.  443112. 1113170.]\n",
      "Adding new branch to skeleton\n",
      "border_average_coordinate = [ 620805.3626506   442837.12048193 1113093.3373494 ]\n",
      "sbv[0].reshape(-1,3) = [[ 637616.6  717133.1 1080569. ]]\n",
      "closest_sk_pt_coord BEFORE = [ 637516.  716955. 1081540.]\n",
      "current_skeleton.shape = (4024, 2, 3)\n",
      "node_for_stitch = 2695: [ 637516.  716955. 1081540.]\n",
      "node_for_stitch AFTER = 2695: [ 637516.  716955. 1081540.]\n",
      "possible_node_loc = [   0  271  472  479  998 1526 1646 1920 2053 2134 2403 2438 2541 2697\n",
      " 2711 2967 2982 3065 3110 3181 3185 3227 3278 3377 3410 3446 3470 3473\n",
      " 3507 3606 3710 3728 3762 3768 3878 3919 3952 4024]\n",
      "possible_node_loc AFTER = [   0  271  472  479  998 1526 1646 1920 2053 2134 2403 2438 2541 2697\n",
      " 2711 2967 2982 3065 3110 3181 3185 3227 3278 3377 3410 3446 3470 3473\n",
      " 3507 3606 3710 3728 3762 3768 3878 3919 3952 4024]\n",
      "curr_shortest_path = [2695, 2687.0, 2683.0, 2679.0, 2678.0, 2675.0, 2694.0, 2705.0, 2717.0, 2715.0, 2711.0]\n",
      "Current stitch point was not a branch or endpoint, shortest_path_length to one = 1984.3365946019144\n",
      "change_status for create soma extending pieces = False\n",
      "closest_sk_pt_coord AFTER = [ 637516.  716955. 1081540.]\n",
      "Adding new branch to skeleton\n",
      "border_average_coordinate = [ 637427.16515152  717437.53333333 1081520.56060606]\n",
      "endpoints_must_keep = {1: array([[ 620805.3626506 ,  442837.12048193, 1113093.3373494 ]]), 2: array([[ 637427.16515152,  717437.53333333, 1081520.56060606]])}\n",
      "    Total time for Fixing Skeleton Soma Endpoint Extension : 3.1356611251831055\n",
      "filter_end_node_length = 4000\n",
      "xvfb-run -n 4076 -s \"-screen 0 800x600x24\" meshlabserver $@  -i /notebooks/Auto_Proofreading/Preprocessing_Pipeline/temp/neuron_51140.off -o /notebooks/Auto_Proofreading/Preprocessing_Pipeline/temp/neuron_51140_remove_interior.off -s /notebooks/Auto_Proofreading/Preprocessing_Pipeline/temp/remove_interior_553063.mls\n",
      "removed temporary input file: /notebooks/Auto_Proofreading/Preprocessing_Pipeline/temp/neuron_51140.off\n",
      "removed temporary output file: /notebooks/Auto_Proofreading/Preprocessing_Pipeline/temp/neuron_51140_remove_interior.off\n",
      "/notebooks/Auto_Proofreading/Preprocessing_Pipeline/temp/remove_interior_553063.mls is being deleted....\n",
      "THERE WERE NO MESH PIECES GREATER THAN THE significance_threshold\n",
      "No significant (100) interior meshes present\n",
      "largest is 97\n",
      "Using Distance measure skeletal_distance\n",
      "endpoints_must_keep = [[ 620805.3626506   442837.12048193 1113093.3373494 ]\n",
      " [ 637427.16515152  717437.53333333 1081520.56060606]\n",
      " [ 620757.          444950.         1113130.        ]\n",
      " [ 640121.          703716.         1086900.        ]]\n",
      "Number of end_nodes BEFORE filtering = 39\n",
      "all_single_nodes_to_eliminate = [3, 13, 2, 18]\n"
     ]
    },
    {
     "data": {
      "application/vnd.jupyter.widget-view+json": {
       "model_id": "b59045365cae4998b34579ccffd372dc",
       "version_major": 2,
       "version_minor": 0
      },
      "text/plain": [
       "HBox(children=(FloatProgress(value=0.0, max=31.0), HTML(value='')))"
      ]
     },
     "metadata": {},
     "output_type": "display_data"
    },
    {
     "name": "stdout",
     "output_type": "stream",
     "text": [
      "\n",
      "Checking connected components after clean_skeleton\n",
      "after DISTANCE cleaning limb size of skeleton = (3881, 2, 3)\n",
      "********COMBINING CLOSE SKELETON NODES WITHIN 700 DISTANCE**********\n",
      "Found 0 valid paths to replace\n",
      "valid_paths = []\n",
      "valid_path_lengths = []\n",
      "No valid paths found so just returning the original\n",
      "skeletonize_and_clean_connected_branch_CGAL: 61.853338956832886\n",
      "Working on limb correspondence for #3 MAP piece\n",
      "xvfb-run -n 4076 -s \"-screen 0 800x600x24\" meshlabserver $@  -i /notebooks/Auto_Proofreading/Preprocessing_Pipeline/temp/neuron_76015.off -o /notebooks/Auto_Proofreading/Preprocessing_Pipeline/temp/neuron_76015_remove_interior.off -s /notebooks/Auto_Proofreading/Preprocessing_Pipeline/temp/remove_interior_277005.mls\n",
      "removed temporary input file: /notebooks/Auto_Proofreading/Preprocessing_Pipeline/temp/neuron_76015.off\n",
      "removed temporary output file: /notebooks/Auto_Proofreading/Preprocessing_Pipeline/temp/neuron_76015_remove_interior.off\n",
      "/notebooks/Auto_Proofreading/Preprocessing_Pipeline/temp/remove_interior_277005.mls is being deleted....\n",
      "THERE WERE NO MESH PIECES GREATER THAN THE significance_threshold\n",
      "No significant (100) interior meshes present\n",
      "largest is 97\n"
     ]
    },
    {
     "data": {
      "application/vnd.jupyter.widget-view+json": {
       "model_id": "b76475ec7138494eac65d8f067e69f83",
       "version_major": 2,
       "version_minor": 0
      },
      "text/plain": [
       "HBox(children=(FloatProgress(value=1.0, bar_style='info', max=1.0), HTML(value='')))"
      ]
     },
     "metadata": {},
     "output_type": "display_data"
    },
    {
     "name": "stdout",
     "output_type": "stream",
     "text": [
      "\n",
      "Total time for decomposition = 25.186057090759277\n",
      "mesh_correspondence_first_pass: 25.186084508895874\n",
      "Limb decomposed into 13 branches\n",
      "divided_skeleton_graph_recovered = (3881, 2, 3) and \n",
      "current_mesh_data[0]['branch_skeletons_cleaned'].shape = (3881, 2, 3)\n",
      "\n",
      "Number of connected components in deocmposed recovered graph = 1\n",
      "Number of connected components in cleaned skeleton graph= 1\n",
      "The downsampled branches number of connected components = 1\n",
      "Empty submeshes = []\n",
      "\n",
      "\n",
      "--- Working on 1-to-1 correspondence-----\n",
      "max(original_labels),len(original_labels) = (12, 13)\n",
      "empty_indices % = 0.19976334903878368\n",
      " conflict_indices % = 0.022039902773520754\n"
     ]
    },
    {
     "data": {
      "application/vnd.jupyter.widget-view+json": {
       "model_id": "588fd3a1816e4167853ff7a357a887f1",
       "version_major": 2,
       "version_minor": 0
      },
      "text/plain": [
       "HBox(children=(FloatProgress(value=0.0, max=353.0), HTML(value='')))"
      ]
     },
     "metadata": {},
     "output_type": "display_data"
    },
    {
     "name": "stdout",
     "output_type": "stream",
     "text": [
      "\n",
      "AFTER face_lookup_resolved_test\n",
      "Took 0 iterations to expand the label back\n",
      "empty_indices % = 0.0\n",
      " conflict_indices % = 0.0\n"
     ]
    },
    {
     "data": {
      "application/vnd.jupyter.widget-view+json": {
       "model_id": "e22ff54d26e94af1b20904de1cb4a588",
       "version_major": 2,
       "version_minor": 0
      },
      "text/plain": [
       "HBox(children=(FloatProgress(value=1.0, bar_style='info', max=1.0), HTML(value='')))"
      ]
     },
     "metadata": {},
     "output_type": "display_data"
    },
    {
     "name": "stdout",
     "output_type": "stream",
     "text": [
      "\n",
      "AFTER face_lookup_resolved_test\n",
      "Took 0 iterations to expand the label back\n",
      "empty_indices % = 0.0\n",
      " conflict_indices % = 0.0\n"
     ]
    },
    {
     "data": {
      "application/vnd.jupyter.widget-view+json": {
       "model_id": "45f5640a23d14ae89fc69cc30a9e32de",
       "version_major": 2,
       "version_minor": 0
      },
      "text/plain": [
       "HBox(children=(FloatProgress(value=1.0, bar_style='info', max=1.0), HTML(value='')))"
      ]
     },
     "metadata": {},
     "output_type": "display_data"
    },
    {
     "name": "stdout",
     "output_type": "stream",
     "text": [
      "\n",
      "AFTER face_lookup_resolved_test\n"
     ]
    },
    {
     "data": {
      "application/vnd.jupyter.widget-view+json": {
       "model_id": "1652a71098654fb8a4d23db2a0c75a4b",
       "version_major": 2,
       "version_minor": 0
      },
      "text/plain": [
       "HBox(children=(FloatProgress(value=0.0, max=13.0), HTML(value='')))"
      ]
     },
     "metadata": {},
     "output_type": "display_data"
    },
    {
     "name": "stdout",
     "output_type": "stream",
     "text": [
      "\n",
      "Total time for MAP sublimb #3 mesh processing = 101.85447239875793\n",
      "correspondence_1_to_1: 14.802955389022827\n",
      "Total time for MAP sublimb processing 143.00848388671875\n",
      "---- Working on MP Decomposition #0 ----\n",
      "Computing the current soma touching verts dict manually\n",
      "MP filtering soma verts: 0.0016117095947265625\n",
      "Do Not Need to Fix MP Decomposition 0 so just continuing\n",
      "---- Working on MP Decomposition #1 ----\n",
      "Computing the current soma touching verts dict manually\n",
      "MP filtering soma verts: 0.0014090538024902344\n",
      "Do Not Need to Fix MP Decomposition 1 so just continuing\n",
      "---- Working on MP Decomposition #2 ----\n",
      "Computing the current soma touching verts dict manually\n",
      "MP filtering soma verts: 0.002945423126220703\n",
      "Do Not Need to Fix MP Decomposition 2 so just continuing\n",
      "---- Working on MP Decomposition #3 ----\n",
      "Computing the current soma touching verts dict manually\n",
      "MP filtering soma verts: 0.0035452842712402344\n",
      "Do Not Need to Fix MP Decomposition 3 so just continuing\n",
      "---- Working on MP Decomposition #4 ----\n",
      "Computing the current soma touching verts dict manually\n",
      "MP filtering soma verts: 0.0006148815155029297\n",
      "Do Not Need to Fix MP Decomposition 4 so just continuing\n",
      "---- Working on MP Decomposition #5 ----\n",
      "Computing the current soma touching verts dict manually\n",
      "MP filtering soma verts: 0.0020062923431396484\n",
      "Do Not Need to Fix MP Decomposition 5 so just continuing\n",
      "---- Working on MP Decomposition #6 ----\n",
      "Computing the current soma touching verts dict manually\n",
      "MP filtering soma verts: 0.0018863677978515625\n",
      "Do Not Need to Fix MP Decomposition 6 so just continuing\n",
      "---- Working on MP Decomposition #7 ----\n",
      "Computing the current soma touching verts dict manually\n",
      "MP filtering soma verts: 0.004820585250854492\n",
      "Do Not Need to Fix MP Decomposition 7 so just continuing\n",
      "---- Working on MP Decomposition #8 ----\n",
      "Computing the current soma touching verts dict manually\n",
      "MP filtering soma verts: 0.002120494842529297\n",
      "Do Not Need to Fix MP Decomposition 8 so just continuing\n",
      "---- Working on MP Decomposition #9 ----\n",
      "Computing the current soma touching verts dict manually\n",
      "MP filtering soma verts: 0.002100706100463867\n",
      "Do Not Need to Fix MP Decomposition 9 so just continuing\n",
      "---- Working on MP Decomposition #10 ----\n",
      "Computing the current soma touching verts dict manually\n",
      "MP filtering soma verts: 0.002676725387573242\n",
      "Do Not Need to Fix MP Decomposition 10 so just continuing\n",
      "---- Working on MP Decomposition #11 ----\n",
      "Computing the current soma touching verts dict manually\n",
      "MP filtering soma verts: 0.0011034011840820312\n",
      "Do Not Need to Fix MP Decomposition 11 so just continuing\n",
      "---- Working on MP Decomposition #12 ----\n",
      "Computing the current soma touching verts dict manually\n",
      "MP filtering soma verts: 0.0018281936645507812\n",
      "Do Not Need to Fix MP Decomposition 12 so just continuing\n",
      "---- Working on MP Decomposition #13 ----\n",
      "Computing the current soma touching verts dict manually\n",
      "MP filtering soma verts: 0.0018134117126464844\n",
      "Do Not Need to Fix MP Decomposition 13 so just continuing\n",
      "---- Working on MP Decomposition #14 ----\n",
      "Computing the current soma touching verts dict manually\n",
      "MP filtering soma verts: 0.002336740493774414\n",
      "Do Not Need to Fix MP Decomposition 14 so just continuing\n",
      "---- Working on MP Decomposition #15 ----\n",
      "Computing the current soma touching verts dict manually\n",
      "MP filtering soma verts: 0.001497507095336914\n",
      "Do Not Need to Fix MP Decomposition 15 so just continuing\n",
      "---- Working on MP Decomposition #16 ----\n",
      "Computing the current soma touching verts dict manually\n",
      "MP filtering soma verts: 0.002872467041015625\n",
      "Do Not Need to Fix MP Decomposition 16 so just continuing\n",
      "---- Working on MP Decomposition #17 ----\n",
      "Computing the current soma touching verts dict manually\n",
      "MP filtering soma verts: 0.0026750564575195312\n",
      "Do Not Need to Fix MP Decomposition 17 so just continuing\n",
      "Successful mesh connectivity with type edges\n",
      "\n",
      "---- Working on (0, 0) connection-----\n",
      "node_for_stitch = 110: [ 620783.  461747. 1088660.]\n",
      "node_for_stitch AFTER = 110: [ 620783.  461747. 1088660.]\n",
      "possible_node_loc = [110 204]\n",
      "possible_node_loc AFTER = [110 204]\n",
      "curr_shortest_path = [110]\n",
      "Current stitch point was a branch or endpoint\n",
      "sk_conn = [0, 1]\n",
      "conn = [0, 1]\n",
      "winning_vertex = [ 620456.70283015  462207.78460124 1088623.78215777]\n",
      "MP_branches_with_stitch_point = [0, 1]\n",
      "MAP_branches_with_stitch_point = [1]\n",
      "MAP_stitch_point_on_end_or_branch = True\n"
     ]
    },
    {
     "data": {
      "application/vnd.jupyter.widget-view+json": {
       "model_id": "5d40cbc18ac44dde83b5584ad8867741",
       "version_major": 2,
       "version_minor": 0
      },
      "text/plain": [
       "HBox(children=(FloatProgress(value=1.0, bar_style='info', max=1.0), HTML(value='')))"
      ]
     },
     "metadata": {},
     "output_type": "display_data"
    },
    {
     "name": "stdout",
     "output_type": "stream",
     "text": [
      "\n",
      "\n",
      "\n",
      "--- Working on 1-to-1 correspondence-----\n",
      "max(original_labels),len(original_labels) = (2, 3)\n",
      "empty_indices % = 0.299385279946835\n",
      " conflict_indices % = 0.012239020878329733\n"
     ]
    },
    {
     "data": {
      "application/vnd.jupyter.widget-view+json": {
       "model_id": "792b3d9bc61441b6960cb480547619a0",
       "version_major": 2,
       "version_minor": 0
      },
      "text/plain": [
       "HBox(children=(FloatProgress(value=0.0, max=58.0), HTML(value='')))"
      ]
     },
     "metadata": {},
     "output_type": "display_data"
    },
    {
     "name": "stdout",
     "output_type": "stream",
     "text": [
      "\n",
      "AFTER face_lookup_resolved_test\n"
     ]
    },
    {
     "data": {
      "application/vnd.jupyter.widget-view+json": {
       "model_id": "84a774b4bb114d8a9a9573295fe41dc4",
       "version_major": 2,
       "version_minor": 0
      },
      "text/plain": [
       "HBox(children=(FloatProgress(value=0.0, max=3.0), HTML(value='')))"
      ]
     },
     "metadata": {},
     "output_type": "display_data"
    },
    {
     "name": "stdout",
     "output_type": "stream",
     "text": [
      "\n",
      "MP_branches_with_stitch_point= [0, 1]\n",
      "MP_branches_for_correspondence = [0 1]\n",
      "MP_leftover = [], MP_leftover_idx = []\n",
      " Finished with (0, 0) \n",
      "\n",
      "\n",
      "\n",
      "\n",
      "---- Working on (1, 0) connection-----\n",
      "node_for_stitch = 0: [ 615382.  451002. 1094560.]\n",
      "node_for_stitch AFTER = 0: [ 615382.  451002. 1094560.]\n",
      "possible_node_loc = [  0 204]\n",
      "possible_node_loc AFTER = [  0 204]\n",
      "curr_shortest_path = [0]\n",
      "Current stitch point was a branch or endpoint\n",
      "sk_conn = [0, 2]\n",
      "conn = [0, 2]\n",
      "winning_vertex = [ 615311.62950255  450754.08836833 1095198.24540181]\n",
      "MP_branches_with_stitch_point = [0, 2]\n",
      "MAP_branches_with_stitch_point = [0]\n",
      "MAP_stitch_point_on_end_or_branch = True\n"
     ]
    },
    {
     "data": {
      "application/vnd.jupyter.widget-view+json": {
       "model_id": "864b9e8e29bc4ea4a3b8a44fa53bf3a4",
       "version_major": 2,
       "version_minor": 0
      },
      "text/plain": [
       "HBox(children=(FloatProgress(value=1.0, bar_style='info', max=1.0), HTML(value='')))"
      ]
     },
     "metadata": {},
     "output_type": "display_data"
    },
    {
     "name": "stdout",
     "output_type": "stream",
     "text": [
      "\n",
      "\n",
      "\n",
      "--- Working on 1-to-1 correspondence-----\n",
      "max(original_labels),len(original_labels) = (2, 3)\n",
      "empty_indices % = 0.33870735569310495\n",
      " conflict_indices % = 0.03217216064488268\n"
     ]
    },
    {
     "data": {
      "application/vnd.jupyter.widget-view+json": {
       "model_id": "420aaa55489845c3bfaad2966d980418",
       "version_major": 2,
       "version_minor": 0
      },
      "text/plain": [
       "HBox(children=(FloatProgress(value=0.0, max=33.0), HTML(value='')))"
      ]
     },
     "metadata": {},
     "output_type": "display_data"
    },
    {
     "name": "stdout",
     "output_type": "stream",
     "text": [
      "\n",
      "AFTER face_lookup_resolved_test\n"
     ]
    },
    {
     "data": {
      "application/vnd.jupyter.widget-view+json": {
       "model_id": "ca7185f9e5294033adaccd9f2337e3d6",
       "version_major": 2,
       "version_minor": 0
      },
      "text/plain": [
       "HBox(children=(FloatProgress(value=0.0, max=3.0), HTML(value='')))"
      ]
     },
     "metadata": {},
     "output_type": "display_data"
    },
    {
     "name": "stdout",
     "output_type": "stream",
     "text": [
      "\n",
      "MP_branches_with_stitch_point= [0, 2]\n",
      "MP_branches_for_correspondence = [0 2]\n",
      "MP_leftover = [], MP_leftover_idx = []\n",
      " Finished with (1, 0) \n",
      "\n",
      "\n",
      "\n",
      "\n",
      "---- Working on (10, 0) connection-----\n",
      "node_for_stitch = 495: [ 634661.  450034. 1081620.]\n",
      "node_for_stitch AFTER = 495: [ 634661.  450034. 1081620.]\n",
      "possible_node_loc = [357 495]\n",
      "possible_node_loc AFTER = [357 495]\n",
      "curr_shortest_path = [495]\n",
      "Current stitch point was a branch or endpoint\n",
      "sk_conn = [0, 1]\n",
      "conn = [0, 1]\n",
      "winning_vertex = [ 634528.76474324  450320.19032823 1082053.13658084]\n",
      "MP_branches_with_stitch_point = [0, 1]\n",
      "MAP_branches_with_stitch_point = [4]\n",
      "MAP_stitch_point_on_end_or_branch = True\n"
     ]
    },
    {
     "data": {
      "application/vnd.jupyter.widget-view+json": {
       "model_id": "ef5748fe621545e1bb5df42e6e21fccb",
       "version_major": 2,
       "version_minor": 0
      },
      "text/plain": [
       "HBox(children=(FloatProgress(value=1.0, bar_style='info', max=1.0), HTML(value='')))"
      ]
     },
     "metadata": {},
     "output_type": "display_data"
    },
    {
     "name": "stdout",
     "output_type": "stream",
     "text": [
      "\n",
      "\n",
      "\n",
      "--- Working on 1-to-1 correspondence-----\n",
      "max(original_labels),len(original_labels) = (2, 3)\n",
      "empty_indices % = 0.4027935069837675\n",
      " conflict_indices % = 0.00888843131198737\n"
     ]
    },
    {
     "data": {
      "application/vnd.jupyter.widget-view+json": {
       "model_id": "672c0b07e3a94a9fa96d913df6004e58",
       "version_major": 2,
       "version_minor": 0
      },
      "text/plain": [
       "HBox(children=(FloatProgress(value=0.0, max=66.0), HTML(value='')))"
      ]
     },
     "metadata": {},
     "output_type": "display_data"
    },
    {
     "name": "stdout",
     "output_type": "stream",
     "text": [
      "\n",
      "AFTER face_lookup_resolved_test\n"
     ]
    },
    {
     "data": {
      "application/vnd.jupyter.widget-view+json": {
       "model_id": "c6d4f2dc21e04f278f118edeff2315d3",
       "version_major": 2,
       "version_minor": 0
      },
      "text/plain": [
       "HBox(children=(FloatProgress(value=0.0, max=3.0), HTML(value='')))"
      ]
     },
     "metadata": {},
     "output_type": "display_data"
    },
    {
     "name": "stdout",
     "output_type": "stream",
     "text": [
      "\n",
      "MP_branches_with_stitch_point= [0, 1]\n",
      "MP_branches_for_correspondence = [0 1]\n",
      "MP_leftover = [], MP_leftover_idx = []\n",
      " Finished with (10, 0) \n",
      "\n",
      "\n",
      "\n",
      "\n",
      "---- Working on (1, 1) connection-----\n",
      "node_for_stitch = 278: [ 615126.  447200. 1108680.]\n",
      "node_for_stitch AFTER = 278: [ 615126.  447200. 1108680.]\n",
      "possible_node_loc = [ 25 278]\n",
      "possible_node_loc AFTER = [ 25 278]\n",
      "curr_shortest_path = [278]\n",
      "Current stitch point was a branch or endpoint\n",
      "sk_conn = [0, 1]\n",
      "conn = [0, 1]\n",
      "winning_vertex = [ 615381.54921821  446925.83726735 1108801.23383449]\n",
      "MP_branches_with_stitch_point = [0, 1]\n",
      "MAP_branches_with_stitch_point = [0]\n",
      "MAP_stitch_point_on_end_or_branch = True\n"
     ]
    },
    {
     "data": {
      "application/vnd.jupyter.widget-view+json": {
       "model_id": "b7883a96c3ef486484425beb8dd1fb3e",
       "version_major": 2,
       "version_minor": 0
      },
      "text/plain": [
       "HBox(children=(FloatProgress(value=1.0, bar_style='info', max=1.0), HTML(value='')))"
      ]
     },
     "metadata": {},
     "output_type": "display_data"
    },
    {
     "name": "stdout",
     "output_type": "stream",
     "text": [
      "\n",
      "\n",
      "\n",
      "--- Working on 1-to-1 correspondence-----\n",
      "max(original_labels),len(original_labels) = (2, 3)\n",
      "empty_indices % = 0.2588685949036807\n",
      " conflict_indices % = 0.013823349802920113\n"
     ]
    },
    {
     "data": {
      "application/vnd.jupyter.widget-view+json": {
       "model_id": "f02d50907ab449d9b8a383ea489c3fbc",
       "version_major": 2,
       "version_minor": 0
      },
      "text/plain": [
       "HBox(children=(FloatProgress(value=0.0, max=14.0), HTML(value='')))"
      ]
     },
     "metadata": {},
     "output_type": "display_data"
    },
    {
     "name": "stdout",
     "output_type": "stream",
     "text": [
      "\n",
      "AFTER face_lookup_resolved_test\n"
     ]
    },
    {
     "data": {
      "application/vnd.jupyter.widget-view+json": {
       "model_id": "502e90fc7f3a4cafbf1eea7a4bcd13b7",
       "version_major": 2,
       "version_minor": 0
      },
      "text/plain": [
       "HBox(children=(FloatProgress(value=0.0, max=3.0), HTML(value='')))"
      ]
     },
     "metadata": {},
     "output_type": "display_data"
    },
    {
     "name": "stdout",
     "output_type": "stream",
     "text": [
      "\n",
      "MP_branches_with_stitch_point= [0, 1]\n",
      "MP_branches_for_correspondence = [0 1]\n",
      "MP_leftover = [], MP_leftover_idx = []\n",
      " Finished with (1, 1) \n",
      "\n",
      "\n",
      "\n",
      "\n",
      "---- Working on (3, 1) connection-----\n",
      "node_for_stitch = 0: [ 608217.  448228. 1067620.]\n",
      "node_for_stitch AFTER = 0: [ 608217.  448228. 1067620.]\n",
      "possible_node_loc = [ 25 278]\n",
      "possible_node_loc AFTER = [ 25 278]\n",
      "curr_shortest_path = [0, 2.0, 4.0, 6.0, 8.0, 9.0, 11.0, 13.0, 15.0, 17.0, 19.0, 20.0, 22.0, 25.0]\n",
      "Current stitch point was not a branch or endpoint, shortest_path_length to one = 1924.3035483543913\n",
      "sk_conn = [0, 1]\n",
      "conn = [0, 1]\n",
      "winning_vertex = [ 608004.77347819  448605.59957128 1066907.99359755]\n",
      "MP_branches_with_stitch_point = [0, 1]\n",
      "MAP_branches_with_stitch_point = [0]\n",
      "MAP_stitch_point_on_end_or_branch = False\n"
     ]
    },
    {
     "data": {
      "application/vnd.jupyter.widget-view+json": {
       "model_id": "e8dadf2e8da64479bbb6d8166e51b4eb",
       "version_major": 2,
       "version_minor": 0
      },
      "text/plain": [
       "HBox(children=(FloatProgress(value=1.0, bar_style='info', max=1.0), HTML(value='')))"
      ]
     },
     "metadata": {},
     "output_type": "display_data"
    },
    {
     "name": "stdout",
     "output_type": "stream",
     "text": [
      "\n",
      "\n",
      "\n",
      "--- Working on 1-to-1 correspondence-----\n",
      "max(original_labels),len(original_labels) = (1, 2)\n",
      "empty_indices % = 0.1719739981897474\n",
      " conflict_indices % = 0.006335884143832798\n"
     ]
    },
    {
     "data": {
      "application/vnd.jupyter.widget-view+json": {
       "model_id": "e8467260a4fd43c0b379d10d05bdd355",
       "version_major": 2,
       "version_minor": 0
      },
      "text/plain": [
       "HBox(children=(FloatProgress(value=0.0, max=24.0), HTML(value='')))"
      ]
     },
     "metadata": {},
     "output_type": "display_data"
    },
    {
     "name": "stdout",
     "output_type": "stream",
     "text": [
      "\n",
      "AFTER face_lookup_resolved_test\n"
     ]
    },
    {
     "data": {
      "application/vnd.jupyter.widget-view+json": {
       "model_id": "1db047a7e00b4a5bb9a2d02c592ad8a7",
       "version_major": 2,
       "version_minor": 0
      },
      "text/plain": [
       "HBox(children=(FloatProgress(value=0.0, max=2.0), HTML(value='')))"
      ]
     },
     "metadata": {},
     "output_type": "display_data"
    },
    {
     "name": "stdout",
     "output_type": "stream",
     "text": [
      "\n"
     ]
    },
    {
     "data": {
      "application/vnd.jupyter.widget-view+json": {
       "model_id": "5878edd92e31437aa1aec27ee9282897",
       "version_major": 2,
       "version_minor": 0
      },
      "text/plain": [
       "HBox(children=(FloatProgress(value=1.0, bar_style='info', max=1.0), HTML(value='')))"
      ]
     },
     "metadata": {},
     "output_type": "display_data"
    },
    {
     "name": "stdout",
     "output_type": "stream",
     "text": [
      "\n",
      "\n",
      "\n",
      "--- Working on 1-to-1 correspondence-----\n",
      "max(original_labels),len(original_labels) = (3, 4)\n",
      "empty_indices % = 0.25575652050316255\n",
      " conflict_indices % = 0.008670314831923815\n"
     ]
    },
    {
     "data": {
      "application/vnd.jupyter.widget-view+json": {
       "model_id": "e4a2852b3fba4e369c7347b18b2b48eb",
       "version_major": 2,
       "version_minor": 0
      },
      "text/plain": [
       "HBox(children=(FloatProgress(value=0.0, max=151.0), HTML(value='')))"
      ]
     },
     "metadata": {},
     "output_type": "display_data"
    },
    {
     "name": "stdout",
     "output_type": "stream",
     "text": [
      "\n",
      "AFTER face_lookup_resolved_test\n"
     ]
    },
    {
     "data": {
      "application/vnd.jupyter.widget-view+json": {
       "model_id": "3dd23935512f4d4ba89b8a415a97d706",
       "version_major": 2,
       "version_minor": 0
      },
      "text/plain": [
       "HBox(children=(FloatProgress(value=0.0, max=4.0), HTML(value='')))"
      ]
     },
     "metadata": {},
     "output_type": "display_data"
    },
    {
     "name": "stdout",
     "output_type": "stream",
     "text": [
      "\n",
      "Deleting branches from dictionary\n",
      "MP_branches_with_stitch_point= [0, 1]\n",
      "MP_branches_for_correspondence = [0 1]\n",
      "MP_leftover = [], MP_leftover_idx = []\n",
      " Finished with (3, 1) \n",
      "\n",
      "\n",
      "\n",
      "\n",
      "---- Working on (3, 2) connection-----\n",
      "node_for_stitch = 378: [ 608486.  448098. 1066580.]\n",
      "node_for_stitch AFTER = 378: [ 608486.  448098. 1066580.]\n",
      "possible_node_loc = [372 479]\n",
      "possible_node_loc AFTER = [372 479]\n",
      "curr_shortest_path = [378, 377.0, 375.0, 374.0, 372.0]\n",
      "Current stitch point was not a branch or endpoint, shortest_path_length to one = 526.6689196783146\n",
      "sk_conn = [0]\n",
      "conn = [0]\n",
      "winning_vertex = [ 608217.  448228. 1067620.]\n",
      "MP_branches_with_stitch_point = [0, 1]\n",
      "MAP_branches_with_stitch_point = [3]\n",
      "MAP_stitch_point_on_end_or_branch = False\n",
      "Not adjusting MP skeletons because keep_MP_stitch_static = True\n",
      "Not adjusting MP skeletons because keep_MP_stitch_static = True\n",
      "Only 2 skeleton nodes so cannot do smoothing\n"
     ]
    },
    {
     "data": {
      "application/vnd.jupyter.widget-view+json": {
       "model_id": "d29a5666199b41e0acffe27266904c44",
       "version_major": 2,
       "version_minor": 0
      },
      "text/plain": [
       "HBox(children=(FloatProgress(value=1.0, bar_style='info', max=1.0), HTML(value='')))"
      ]
     },
     "metadata": {},
     "output_type": "display_data"
    },
    {
     "name": "stdout",
     "output_type": "stream",
     "text": [
      "\n",
      "\n",
      "\n",
      "--- Working on 1-to-1 correspondence-----\n",
      "max(original_labels),len(original_labels) = (1, 2)\n",
      "empty_indices % = 0.19429097605893186\n",
      " conflict_indices % = 0.04189686924493554\n"
     ]
    },
    {
     "data": {
      "application/vnd.jupyter.widget-view+json": {
       "model_id": "adc4e7c2d15d488e895092cbdf697926",
       "version_major": 2,
       "version_minor": 0
      },
      "text/plain": [
       "HBox(children=(FloatProgress(value=0.0, max=10.0), HTML(value='')))"
      ]
     },
     "metadata": {},
     "output_type": "display_data"
    },
    {
     "name": "stdout",
     "output_type": "stream",
     "text": [
      "\n",
      "AFTER face_lookup_resolved_test\n"
     ]
    },
    {
     "data": {
      "application/vnd.jupyter.widget-view+json": {
       "model_id": "8a09fe0c4f5a4e88b77651b973df8d66",
       "version_major": 2,
       "version_minor": 0
      },
      "text/plain": [
       "HBox(children=(FloatProgress(value=0.0, max=2.0), HTML(value='')))"
      ]
     },
     "metadata": {},
     "output_type": "display_data"
    },
    {
     "name": "stdout",
     "output_type": "stream",
     "text": [
      "\n"
     ]
    },
    {
     "data": {
      "application/vnd.jupyter.widget-view+json": {
       "model_id": "79bd229c31e849008461bd551827195f",
       "version_major": 2,
       "version_minor": 0
      },
      "text/plain": [
       "HBox(children=(FloatProgress(value=1.0, bar_style='info', max=1.0), HTML(value='')))"
      ]
     },
     "metadata": {},
     "output_type": "display_data"
    },
    {
     "name": "stdout",
     "output_type": "stream",
     "text": [
      "\n",
      "\n",
      "\n",
      "--- Working on 1-to-1 correspondence-----\n",
      "max(original_labels),len(original_labels) = (2, 3)\n",
      "empty_indices % = 0.27774474295907886\n",
      " conflict_indices % = 0.003567760419482134\n"
     ]
    },
    {
     "data": {
      "application/vnd.jupyter.widget-view+json": {
       "model_id": "6f40b80531544f4c87f9691ffe01f089",
       "version_major": 2,
       "version_minor": 0
      },
      "text/plain": [
       "HBox(children=(FloatProgress(value=0.0, max=60.0), HTML(value='')))"
      ]
     },
     "metadata": {},
     "output_type": "display_data"
    },
    {
     "name": "stdout",
     "output_type": "stream",
     "text": [
      "\n",
      "AFTER face_lookup_resolved_test\n"
     ]
    },
    {
     "data": {
      "application/vnd.jupyter.widget-view+json": {
       "model_id": "0ddde8351a4e4421b037e9ad492d0750",
       "version_major": 2,
       "version_minor": 0
      },
      "text/plain": [
       "HBox(children=(FloatProgress(value=0.0, max=3.0), HTML(value='')))"
      ]
     },
     "metadata": {},
     "output_type": "display_data"
    },
    {
     "name": "stdout",
     "output_type": "stream",
     "text": [
      "\n",
      "Deleting branches from dictionary\n",
      "MP_branches_with_stitch_point= [0, 1]\n",
      "MP_branches_for_correspondence = [0]\n",
      "MP_leftover = [1], MP_leftover_idx = [1]\n",
      " Finished with (3, 2) \n",
      "\n",
      "\n",
      "\n",
      "\n",
      "---- Working on (4, 2) connection-----\n",
      "node_for_stitch = 485: [ 611985.21519706  442727.69273633 1065719.17623238]\n",
      "node_for_stitch AFTER = 485: [ 611985.21519706  442727.69273633 1065719.17623238]\n",
      "possible_node_loc = [385 541]\n",
      "possible_node_loc AFTER = [385 541]\n",
      "curr_shortest_path = [485, 487.0, 488.0, 489.0, 490.0, 491.0, 492.0, 494.0, 495.0, 496.0, 497.0, 499.0, 500.0, 501.0, 502.0, 503.0, 505.0, 506.0, 508.0, 509.0, 510.0, 511.0, 512.0, 518.0, 519.0, 516.0, 514.0, 513.0, 515.0, 517.0, 520.0, 521.0, 522.0, 523.0, 524.0, 526.0, 527.0, 528.0, 529.0, 531.0, 532.0, 533.0, 534.0, 535.0, 536.0, 537.0, 538.0, 539.0, 540.0, 541.0]\n",
      "Current stitch point was not a branch or endpoint, shortest_path_length to one = 4874.402024944684\n",
      "sk_conn = [0]\n",
      "conn = [0]\n",
      "winning_vertex = [ 611606.44004584  443021.75716269 1065678.03271838]\n",
      "MP_branches_with_stitch_point = [0]\n",
      "MAP_branches_with_stitch_point = [5]\n",
      "MAP_stitch_point_on_end_or_branch = False\n"
     ]
    },
    {
     "data": {
      "application/vnd.jupyter.widget-view+json": {
       "model_id": "4fe655f4a8814c01976d2d879725c399",
       "version_major": 2,
       "version_minor": 0
      },
      "text/plain": [
       "HBox(children=(FloatProgress(value=1.0, bar_style='info', max=1.0), HTML(value='')))"
      ]
     },
     "metadata": {},
     "output_type": "display_data"
    },
    {
     "name": "stdout",
     "output_type": "stream",
     "text": [
      "\n",
      "\n",
      "\n",
      "--- Working on 1-to-1 correspondence-----\n",
      "max(original_labels),len(original_labels) = (1, 2)\n",
      "empty_indices % = 0.1888111888111888\n",
      " conflict_indices % = 0.013986013986013986\n"
     ]
    },
    {
     "data": {
      "application/vnd.jupyter.widget-view+json": {
       "model_id": "2512c2242351457a83c92c1a3ef056f2",
       "version_major": 2,
       "version_minor": 0
      },
      "text/plain": [
       "HBox(children=(FloatProgress(value=0.0, max=9.0), HTML(value='')))"
      ]
     },
     "metadata": {},
     "output_type": "display_data"
    },
    {
     "name": "stdout",
     "output_type": "stream",
     "text": [
      "\n",
      "AFTER face_lookup_resolved_test\n"
     ]
    },
    {
     "data": {
      "application/vnd.jupyter.widget-view+json": {
       "model_id": "1b18a5d17e034b13b79b577db63265b6",
       "version_major": 2,
       "version_minor": 0
      },
      "text/plain": [
       "HBox(children=(FloatProgress(value=0.0, max=2.0), HTML(value='')))"
      ]
     },
     "metadata": {},
     "output_type": "display_data"
    },
    {
     "name": "stdout",
     "output_type": "stream",
     "text": [
      "\n"
     ]
    },
    {
     "data": {
      "application/vnd.jupyter.widget-view+json": {
       "model_id": "357f2fa9755a4ab08307a2565a59065c",
       "version_major": 2,
       "version_minor": 0
      },
      "text/plain": [
       "HBox(children=(FloatProgress(value=1.0, bar_style='info', max=1.0), HTML(value='')))"
      ]
     },
     "metadata": {},
     "output_type": "display_data"
    },
    {
     "name": "stdout",
     "output_type": "stream",
     "text": [
      "\n",
      "\n",
      "\n",
      "--- Working on 1-to-1 correspondence-----\n",
      "max(original_labels),len(original_labels) = (2, 3)\n",
      "empty_indices % = 0.21955330804888326\n",
      " conflict_indices % = 0.03982300884955752\n"
     ]
    },
    {
     "data": {
      "application/vnd.jupyter.widget-view+json": {
       "model_id": "c285aee90f81465394c5bd4ee2ebba2e",
       "version_major": 2,
       "version_minor": 0
      },
      "text/plain": [
       "HBox(children=(FloatProgress(value=0.0, max=6.0), HTML(value='')))"
      ]
     },
     "metadata": {},
     "output_type": "display_data"
    },
    {
     "name": "stdout",
     "output_type": "stream",
     "text": [
      "\n",
      "AFTER face_lookup_resolved_test\n"
     ]
    },
    {
     "data": {
      "application/vnd.jupyter.widget-view+json": {
       "model_id": "2658a9e96ab348cc9c9a7f92058e6d2b",
       "version_major": 2,
       "version_minor": 0
      },
      "text/plain": [
       "HBox(children=(FloatProgress(value=0.0, max=3.0), HTML(value='')))"
      ]
     },
     "metadata": {},
     "output_type": "display_data"
    },
    {
     "name": "stdout",
     "output_type": "stream",
     "text": [
      "\n",
      "Deleting branches from dictionary\n",
      "MP_branches_with_stitch_point= [0]\n",
      "MP_branches_for_correspondence = [0]\n",
      "MP_leftover = [], MP_leftover_idx = []\n",
      " Finished with (4, 2) \n",
      "\n",
      "\n",
      "\n",
      "\n",
      "---- Working on (6, 2) connection-----\n",
      "node_for_stitch = 0: [ 591382.  428410. 1088620.]\n",
      "node_for_stitch AFTER = 0: [ 591382.  428410. 1088620.]\n",
      "possible_node_loc = [  0 349]\n",
      "possible_node_loc AFTER = [  0 349]\n",
      "curr_shortest_path = [0]\n",
      "Current stitch point was a branch or endpoint\n",
      "sk_conn = [0, 1]\n",
      "conn = [0, 1]\n",
      "winning_vertex = [ 590952.88679976  428228.95881597 1088821.71667353]\n",
      "MP_branches_with_stitch_point = [0, 1]\n",
      "MAP_branches_with_stitch_point = [0]\n",
      "MAP_stitch_point_on_end_or_branch = True\n"
     ]
    },
    {
     "data": {
      "application/vnd.jupyter.widget-view+json": {
       "model_id": "c26d50e84eb24b98b0206f74893594de",
       "version_major": 2,
       "version_minor": 0
      },
      "text/plain": [
       "HBox(children=(FloatProgress(value=1.0, bar_style='info', max=1.0), HTML(value='')))"
      ]
     },
     "metadata": {},
     "output_type": "display_data"
    },
    {
     "name": "stdout",
     "output_type": "stream",
     "text": [
      "\n",
      "\n",
      "\n",
      "--- Working on 1-to-1 correspondence-----\n",
      "max(original_labels),len(original_labels) = (2, 3)\n",
      "empty_indices % = 0.18918818915118774\n",
      " conflict_indices % = 0.01383852586398283\n"
     ]
    },
    {
     "data": {
      "application/vnd.jupyter.widget-view+json": {
       "model_id": "472bb1d90016481bb1ad93137d6084bf",
       "version_major": 2,
       "version_minor": 0
      },
      "text/plain": [
       "HBox(children=(FloatProgress(value=0.0, max=51.0), HTML(value='')))"
      ]
     },
     "metadata": {},
     "output_type": "display_data"
    },
    {
     "name": "stdout",
     "output_type": "stream",
     "text": [
      "\n",
      "AFTER face_lookup_resolved_test\n"
     ]
    },
    {
     "data": {
      "application/vnd.jupyter.widget-view+json": {
       "model_id": "09105a8d3ef541c083d49ea52d635eb7",
       "version_major": 2,
       "version_minor": 0
      },
      "text/plain": [
       "HBox(children=(FloatProgress(value=0.0, max=3.0), HTML(value='')))"
      ]
     },
     "metadata": {},
     "output_type": "display_data"
    },
    {
     "name": "stdout",
     "output_type": "stream",
     "text": [
      "\n",
      "MP_branches_with_stitch_point= [0, 1]\n",
      "MP_branches_for_correspondence = [0 1]\n",
      "MP_leftover = [], MP_leftover_idx = []\n",
      " Finished with (6, 2) \n",
      "\n",
      "\n",
      "\n",
      "\n",
      "---- Working on (12, 2) connection-----\n",
      "node_for_stitch = 160: [ 598176.  444299. 1049900.]\n",
      "node_for_stitch AFTER = 160: [ 598176.  444299. 1049900.]\n",
      "possible_node_loc = [182 349]\n",
      "possible_node_loc AFTER = [182 349]\n",
      "curr_shortest_path = [160, 162.0, 166.0, 170.0, 175.0, 182.0]\n",
      "Current stitch point was not a branch or endpoint, shortest_path_length to one = 771.1481206453393\n",
      "sk_conn = [0, 1]\n",
      "conn = [0, 1]\n",
      "winning_vertex = [ 597937.71896514  444881.84140366 1049410.48885609]\n",
      "MP_branches_with_stitch_point = [0, 1]\n",
      "MAP_branches_with_stitch_point = [1]\n",
      "MAP_stitch_point_on_end_or_branch = False\n"
     ]
    },
    {
     "data": {
      "application/vnd.jupyter.widget-view+json": {
       "model_id": "a72f36696ff241b090a32738946f636c",
       "version_major": 2,
       "version_minor": 0
      },
      "text/plain": [
       "HBox(children=(FloatProgress(value=1.0, bar_style='info', max=1.0), HTML(value='')))"
      ]
     },
     "metadata": {},
     "output_type": "display_data"
    },
    {
     "name": "stdout",
     "output_type": "stream",
     "text": [
      "\n",
      "\n",
      "\n",
      "--- Working on 1-to-1 correspondence-----\n",
      "max(original_labels),len(original_labels) = (1, 2)\n",
      "empty_indices % = 0.1412894375857339\n",
      " conflict_indices % = 0.05864197530864197\n"
     ]
    },
    {
     "data": {
      "application/vnd.jupyter.widget-view+json": {
       "model_id": "4e80b897e4ba40e5ab28949e5ace2c3e",
       "version_major": 2,
       "version_minor": 0
      },
      "text/plain": [
       "HBox(children=(FloatProgress(value=0.0, max=12.0), HTML(value='')))"
      ]
     },
     "metadata": {},
     "output_type": "display_data"
    },
    {
     "name": "stdout",
     "output_type": "stream",
     "text": [
      "\n",
      "AFTER face_lookup_resolved_test\n"
     ]
    },
    {
     "data": {
      "application/vnd.jupyter.widget-view+json": {
       "model_id": "cd7c69bfe9674841b4dfa98b9f56d1f5",
       "version_major": 2,
       "version_minor": 0
      },
      "text/plain": [
       "HBox(children=(FloatProgress(value=0.0, max=2.0), HTML(value='')))"
      ]
     },
     "metadata": {},
     "output_type": "display_data"
    },
    {
     "name": "stdout",
     "output_type": "stream",
     "text": [
      "\n"
     ]
    },
    {
     "data": {
      "application/vnd.jupyter.widget-view+json": {
       "model_id": "d1bb373cc15946f78f9dd7f5d9617abe",
       "version_major": 2,
       "version_minor": 0
      },
      "text/plain": [
       "HBox(children=(FloatProgress(value=1.0, bar_style='info', max=1.0), HTML(value='')))"
      ]
     },
     "metadata": {},
     "output_type": "display_data"
    },
    {
     "name": "stdout",
     "output_type": "stream",
     "text": [
      "\n",
      "\n",
      "\n",
      "--- Working on 1-to-1 correspondence-----\n",
      "max(original_labels),len(original_labels) = (3, 4)\n",
      "empty_indices % = 0.2502415950358578\n",
      " conflict_indices % = 0.03870606785005849\n"
     ]
    },
    {
     "data": {
      "application/vnd.jupyter.widget-view+json": {
       "model_id": "c16b03dd36214944860eebacb6a8ebcf",
       "version_major": 2,
       "version_minor": 0
      },
      "text/plain": [
       "HBox(children=(FloatProgress(value=0.0, max=57.0), HTML(value='')))"
      ]
     },
     "metadata": {},
     "output_type": "display_data"
    },
    {
     "name": "stdout",
     "output_type": "stream",
     "text": [
      "\n",
      "AFTER face_lookup_resolved_test\n"
     ]
    },
    {
     "data": {
      "application/vnd.jupyter.widget-view+json": {
       "model_id": "2fda5600351649ce8ed1aa9e881da1a6",
       "version_major": 2,
       "version_minor": 0
      },
      "text/plain": [
       "HBox(children=(FloatProgress(value=0.0, max=4.0), HTML(value='')))"
      ]
     },
     "metadata": {},
     "output_type": "display_data"
    },
    {
     "name": "stdout",
     "output_type": "stream",
     "text": [
      "\n",
      "Deleting branches from dictionary\n",
      "MP_branches_with_stitch_point= [0, 1]\n",
      "MP_branches_for_correspondence = [0 1]\n",
      "MP_leftover = [], MP_leftover_idx = []\n",
      " Finished with (12, 2) \n",
      "\n",
      "\n",
      "\n",
      "\n",
      "---- Working on (13, 2) connection-----\n",
      "node_for_stitch = 283: [ 602081.  437127. 1064390.]\n",
      "node_for_stitch AFTER = 283: [ 602081.  437127. 1064390.]\n",
      "possible_node_loc = [  0 349]\n",
      "possible_node_loc AFTER = [  0 349]\n",
      "curr_shortest_path = [283, 286.0, 289.0, 293.0, 297.0, 299.0, 301.0, 304.0, 306.0, 308.0, 310.0, 312.0, 317.0, 319.0, 323.0, 325.0, 329.0, 332.0, 335.0, 338.0, 339.0, 342.0, 345.0, 349.0]\n",
      "Current stitch point was not a branch or endpoint, shortest_path_length to one = 3338.8546827161763\n",
      "sk_conn = [0]\n",
      "conn = [0]\n",
      "winning_vertex = [ 601838.73352626  437157.87515164 1065028.14078477]\n",
      "MP_branches_with_stitch_point = [0]\n",
      "MAP_branches_with_stitch_point = [0]\n",
      "MAP_stitch_point_on_end_or_branch = False\n"
     ]
    },
    {
     "data": {
      "application/vnd.jupyter.widget-view+json": {
       "model_id": "091b4a595e2d44df9ba00f39e3a3598d",
       "version_major": 2,
       "version_minor": 0
      },
      "text/plain": [
       "HBox(children=(FloatProgress(value=1.0, bar_style='info', max=1.0), HTML(value='')))"
      ]
     },
     "metadata": {},
     "output_type": "display_data"
    },
    {
     "name": "stdout",
     "output_type": "stream",
     "text": [
      "\n",
      "\n",
      "\n",
      "--- Working on 1-to-1 correspondence-----\n",
      "max(original_labels),len(original_labels) = (1, 2)\n",
      "empty_indices % = 0.2056437389770723\n",
      " conflict_indices % = 0.004467960023515579\n"
     ]
    },
    {
     "data": {
      "application/vnd.jupyter.widget-view+json": {
       "model_id": "00dad2451c6741d694ecb7bc4a56a332",
       "version_major": 2,
       "version_minor": 0
      },
      "text/plain": [
       "HBox(children=(FloatProgress(value=0.0, max=30.0), HTML(value='')))"
      ]
     },
     "metadata": {},
     "output_type": "display_data"
    },
    {
     "name": "stdout",
     "output_type": "stream",
     "text": [
      "\n",
      "AFTER face_lookup_resolved_test\n"
     ]
    },
    {
     "data": {
      "application/vnd.jupyter.widget-view+json": {
       "model_id": "d3d87ce739174e30b08d4a4392524879",
       "version_major": 2,
       "version_minor": 0
      },
      "text/plain": [
       "HBox(children=(FloatProgress(value=0.0, max=2.0), HTML(value='')))"
      ]
     },
     "metadata": {},
     "output_type": "display_data"
    },
    {
     "name": "stdout",
     "output_type": "stream",
     "text": [
      "\n"
     ]
    },
    {
     "data": {
      "application/vnd.jupyter.widget-view+json": {
       "model_id": "c4820a28b73146299ffebddbfb2a49ff",
       "version_major": 2,
       "version_minor": 0
      },
      "text/plain": [
       "HBox(children=(FloatProgress(value=1.0, bar_style='info', max=1.0), HTML(value='')))"
      ]
     },
     "metadata": {},
     "output_type": "display_data"
    },
    {
     "name": "stdout",
     "output_type": "stream",
     "text": [
      "\n",
      "\n",
      "\n",
      "--- Working on 1-to-1 correspondence-----\n",
      "max(original_labels),len(original_labels) = (2, 3)\n",
      "empty_indices % = 0.2553986226216879\n",
      " conflict_indices % = 0.010816699739309755\n"
     ]
    },
    {
     "data": {
      "application/vnd.jupyter.widget-view+json": {
       "model_id": "9bbe8779764945cea2d12b1b6d8c7bf8",
       "version_major": 2,
       "version_minor": 0
      },
      "text/plain": [
       "HBox(children=(FloatProgress(value=0.0, max=57.0), HTML(value='')))"
      ]
     },
     "metadata": {},
     "output_type": "display_data"
    },
    {
     "name": "stdout",
     "output_type": "stream",
     "text": [
      "\n",
      "AFTER face_lookup_resolved_test\n"
     ]
    },
    {
     "data": {
      "application/vnd.jupyter.widget-view+json": {
       "model_id": "b89efa404a6d4d8a82d4cdafe0555e8a",
       "version_major": 2,
       "version_minor": 0
      },
      "text/plain": [
       "HBox(children=(FloatProgress(value=0.0, max=3.0), HTML(value='')))"
      ]
     },
     "metadata": {},
     "output_type": "display_data"
    },
    {
     "name": "stdout",
     "output_type": "stream",
     "text": [
      "\n",
      "Deleting branches from dictionary\n",
      "MP_branches_with_stitch_point= [0]\n",
      "MP_branches_for_correspondence = [0]\n",
      "MP_leftover = [], MP_leftover_idx = []\n",
      " Finished with (13, 2) \n",
      "\n",
      "\n",
      "\n",
      "\n",
      "---- Working on (14, 2) connection-----\n",
      "node_for_stitch = 180: [ 598549.  437146. 1069690.]\n",
      "node_for_stitch AFTER = 180: [ 598549.  437146. 1069690.]\n",
      "possible_node_loc = [  0 283]\n",
      "possible_node_loc AFTER = [  0 283]\n",
      "curr_shortest_path = [180, 184.0, 186.0, 188.0, 191.0, 195.0, 200.0, 202.0, 204.0, 205.0, 207.0, 210.0, 213.0, 215.0, 217.0, 223.0, 226.0, 228.0, 231.0, 232.0, 234.0, 237.0, 239.0, 243.0, 245.0, 247.0, 249.0, 252.0, 256.0, 257.0, 259.0, 262.0, 265.0, 266.0, 269.0, 270.0, 272.0, 274.0, 275.0, 277.0, 278.0, 280.0, 282.0, 283.0]\n",
      "Current stitch point was not a branch or endpoint, shortest_path_length to one = 6967.277399109529\n",
      "sk_conn = [0]\n",
      "conn = [0]\n",
      "winning_vertex = [ 598149.3491236   437589.1134919  1069553.22328953]\n",
      "MP_branches_with_stitch_point = [0]\n",
      "MAP_branches_with_stitch_point = [0]\n",
      "MAP_stitch_point_on_end_or_branch = False\n"
     ]
    },
    {
     "data": {
      "application/vnd.jupyter.widget-view+json": {
       "model_id": "0cb5003db2354a95a8ee1a5548dab062",
       "version_major": 2,
       "version_minor": 0
      },
      "text/plain": [
       "HBox(children=(FloatProgress(value=1.0, bar_style='info', max=1.0), HTML(value='')))"
      ]
     },
     "metadata": {},
     "output_type": "display_data"
    },
    {
     "name": "stdout",
     "output_type": "stream",
     "text": [
      "\n",
      "\n",
      "\n",
      "--- Working on 1-to-1 correspondence-----\n",
      "max(original_labels),len(original_labels) = (1, 2)\n",
      "empty_indices % = 0.21858800296223155\n",
      " conflict_indices % = 0.0092569735867687\n"
     ]
    },
    {
     "data": {
      "application/vnd.jupyter.widget-view+json": {
       "model_id": "e87f65fa73464eacab1f1b09a10b5282",
       "version_major": 2,
       "version_minor": 0
      },
      "text/plain": [
       "HBox(children=(FloatProgress(value=0.0, max=24.0), HTML(value='')))"
      ]
     },
     "metadata": {},
     "output_type": "display_data"
    },
    {
     "name": "stdout",
     "output_type": "stream",
     "text": [
      "\n",
      "AFTER face_lookup_resolved_test\n"
     ]
    },
    {
     "data": {
      "application/vnd.jupyter.widget-view+json": {
       "model_id": "588b3daf4d38437dba90b646e862892c",
       "version_major": 2,
       "version_minor": 0
      },
      "text/plain": [
       "HBox(children=(FloatProgress(value=0.0, max=2.0), HTML(value='')))"
      ]
     },
     "metadata": {},
     "output_type": "display_data"
    },
    {
     "name": "stdout",
     "output_type": "stream",
     "text": [
      "\n"
     ]
    },
    {
     "data": {
      "application/vnd.jupyter.widget-view+json": {
       "model_id": "7df9f5764fa040eaa80e1dec5540b24f",
       "version_major": 2,
       "version_minor": 0
      },
      "text/plain": [
       "HBox(children=(FloatProgress(value=1.0, bar_style='info', max=1.0), HTML(value='')))"
      ]
     },
     "metadata": {},
     "output_type": "display_data"
    },
    {
     "name": "stdout",
     "output_type": "stream",
     "text": [
      "\n",
      "\n",
      "\n",
      "--- Working on 1-to-1 correspondence-----\n",
      "max(original_labels),len(original_labels) = (2, 3)\n",
      "empty_indices % = 0.21807199638976638\n",
      " conflict_indices % = 0.01287881417710973\n"
     ]
    },
    {
     "data": {
      "application/vnd.jupyter.widget-view+json": {
       "model_id": "27c48467ee3b43eaa0028adc1033c562",
       "version_major": 2,
       "version_minor": 0
      },
      "text/plain": [
       "HBox(children=(FloatProgress(value=0.0, max=66.0), HTML(value='')))"
      ]
     },
     "metadata": {},
     "output_type": "display_data"
    },
    {
     "name": "stdout",
     "output_type": "stream",
     "text": [
      "\n",
      "AFTER face_lookup_resolved_test\n"
     ]
    },
    {
     "data": {
      "application/vnd.jupyter.widget-view+json": {
       "model_id": "5c48be777564458ab1aaae0297c6cf3e",
       "version_major": 2,
       "version_minor": 0
      },
      "text/plain": [
       "HBox(children=(FloatProgress(value=0.0, max=3.0), HTML(value='')))"
      ]
     },
     "metadata": {},
     "output_type": "display_data"
    },
    {
     "name": "stdout",
     "output_type": "stream",
     "text": [
      "\n",
      "Deleting branches from dictionary\n",
      "MP_branches_with_stitch_point= [0]\n",
      "MP_branches_for_correspondence = [0]\n",
      "MP_leftover = [], MP_leftover_idx = []\n",
      " Finished with (14, 2) \n",
      "\n",
      "\n",
      "\n",
      "\n",
      "---- Working on (15, 2) connection-----\n",
      "node_for_stitch = 335: [ 603919.  437951. 1062860.]\n",
      "node_for_stitch AFTER = 335: [ 603919.  437951. 1062860.]\n",
      "possible_node_loc = [160 283 349 541]\n",
      "possible_node_loc AFTER = [160 283 349 541]\n",
      "curr_shortest_path = [335, 338.0, 339.0, 342.0, 345.0, 349.0]\n",
      "Current stitch point was not a branch or endpoint, shortest_path_length to one = 747.5021367846734\n",
      "sk_conn = [0]\n",
      "conn = [0]\n",
      "winning_vertex = [ 604318.79143608  438625.5087386  1062524.30005723]\n",
      "MP_branches_with_stitch_point = [0]\n",
      "MAP_branches_with_stitch_point = [8]\n",
      "MAP_stitch_point_on_end_or_branch = False\n"
     ]
    },
    {
     "data": {
      "application/vnd.jupyter.widget-view+json": {
       "model_id": "ace19516b039485fa19abc0dbb792c85",
       "version_major": 2,
       "version_minor": 0
      },
      "text/plain": [
       "HBox(children=(FloatProgress(value=1.0, bar_style='info', max=1.0), HTML(value='')))"
      ]
     },
     "metadata": {},
     "output_type": "display_data"
    },
    {
     "name": "stdout",
     "output_type": "stream",
     "text": [
      "\n",
      "\n",
      "\n",
      "--- Working on 1-to-1 correspondence-----\n",
      "max(original_labels),len(original_labels) = (1, 2)\n",
      "empty_indices % = 0.11834319526627218\n",
      " conflict_indices % = 0.02564102564102564\n"
     ]
    },
    {
     "data": {
      "application/vnd.jupyter.widget-view+json": {
       "model_id": "bbdd078017734d0cac303b746eecdfed",
       "version_major": 2,
       "version_minor": 0
      },
      "text/plain": [
       "HBox(children=(FloatProgress(value=0.0, max=5.0), HTML(value='')))"
      ]
     },
     "metadata": {},
     "output_type": "display_data"
    },
    {
     "name": "stdout",
     "output_type": "stream",
     "text": [
      "\n",
      "AFTER face_lookup_resolved_test\n"
     ]
    },
    {
     "data": {
      "application/vnd.jupyter.widget-view+json": {
       "model_id": "414b8d12b7b04c439b35de6ec2290ab5",
       "version_major": 2,
       "version_minor": 0
      },
      "text/plain": [
       "HBox(children=(FloatProgress(value=0.0, max=2.0), HTML(value='')))"
      ]
     },
     "metadata": {},
     "output_type": "display_data"
    },
    {
     "name": "stdout",
     "output_type": "stream",
     "text": [
      "\n"
     ]
    },
    {
     "data": {
      "application/vnd.jupyter.widget-view+json": {
       "model_id": "271bb2519f024ff7a47e8fe05fbbb81b",
       "version_major": 2,
       "version_minor": 0
      },
      "text/plain": [
       "HBox(children=(FloatProgress(value=1.0, bar_style='info', max=1.0), HTML(value='')))"
      ]
     },
     "metadata": {},
     "output_type": "display_data"
    },
    {
     "name": "stdout",
     "output_type": "stream",
     "text": [
      "\n",
      "\n",
      "\n",
      "--- Working on 1-to-1 correspondence-----\n",
      "max(original_labels),len(original_labels) = (2, 3)\n",
      "empty_indices % = 0.27217056021773645\n",
      " conflict_indices % = 0.04694942163755954\n"
     ]
    },
    {
     "data": {
      "application/vnd.jupyter.widget-view+json": {
       "model_id": "b6184e63665b4774bef7615d62f08073",
       "version_major": 2,
       "version_minor": 0
      },
      "text/plain": [
       "HBox(children=(FloatProgress(value=0.0, max=29.0), HTML(value='')))"
      ]
     },
     "metadata": {},
     "output_type": "display_data"
    },
    {
     "name": "stdout",
     "output_type": "stream",
     "text": [
      "\n",
      "AFTER face_lookup_resolved_test\n"
     ]
    },
    {
     "data": {
      "application/vnd.jupyter.widget-view+json": {
       "model_id": "b8e5ed2e6d824f2d834c13ddce32e0ec",
       "version_major": 2,
       "version_minor": 0
      },
      "text/plain": [
       "HBox(children=(FloatProgress(value=0.0, max=3.0), HTML(value='')))"
      ]
     },
     "metadata": {},
     "output_type": "display_data"
    },
    {
     "name": "stdout",
     "output_type": "stream",
     "text": [
      "\n",
      "Deleting branches from dictionary\n",
      "MP_branches_with_stitch_point= [0]\n",
      "MP_branches_for_correspondence = [0]\n",
      "MP_leftover = [], MP_leftover_idx = []\n",
      " Finished with (15, 2) \n",
      "\n",
      "\n",
      "\n",
      "\n",
      "---- Working on (1, 3) connection-----\n",
      "node_for_stitch = 42: [ 618287.  445154. 1110670.]\n",
      "node_for_stitch AFTER = 42: [ 618287.  445154. 1110670.]\n",
      "possible_node_loc = [ 62 462]\n",
      "possible_node_loc AFTER = [ 62 462]\n",
      "curr_shortest_path = [42, 48.0, 57.0, 72.0, 77.0, 80.0, 82.0, 116.0, 143.0, 153.0, 160.0, 172.0, 207.0, 228.0, 248.0, 267.0, 299.0, 334.0, 379.0, 386.0, 392.0, 396.0, 403.0, 410.0, 429.0, 434.0, 449.0, 462.0]\n",
      "Current stitch point was not a branch or endpoint, shortest_path_length to one = 4455.407972616968\n",
      "sk_conn = [1]\n",
      "conn = [1]\n",
      "winning_vertex = [ 617746.44574315  445749.18110319 1110310.94711807]\n",
      "MP_branches_with_stitch_point = [1]\n",
      "MAP_branches_with_stitch_point = [1]\n",
      "MAP_stitch_point_on_end_or_branch = False\n"
     ]
    },
    {
     "data": {
      "application/vnd.jupyter.widget-view+json": {
       "model_id": "ecefe5afe9d843e0aee23cb91ecb932d",
       "version_major": 2,
       "version_minor": 0
      },
      "text/plain": [
       "HBox(children=(FloatProgress(value=1.0, bar_style='info', max=1.0), HTML(value='')))"
      ]
     },
     "metadata": {},
     "output_type": "display_data"
    },
    {
     "name": "stdout",
     "output_type": "stream",
     "text": [
      "\n",
      "\n",
      "\n",
      "--- Working on 1-to-1 correspondence-----\n",
      "max(original_labels),len(original_labels) = (1, 2)\n",
      "empty_indices % = 0.09043312708234175\n",
      " conflict_indices % = 0.01285102332222751\n"
     ]
    },
    {
     "data": {
      "application/vnd.jupyter.widget-view+json": {
       "model_id": "66b090a80dec4b369fe35b469f90f33c",
       "version_major": 2,
       "version_minor": 0
      },
      "text/plain": [
       "HBox(children=(FloatProgress(value=0.0, max=19.0), HTML(value='')))"
      ]
     },
     "metadata": {},
     "output_type": "display_data"
    },
    {
     "name": "stdout",
     "output_type": "stream",
     "text": [
      "\n",
      "AFTER face_lookup_resolved_test\n"
     ]
    },
    {
     "data": {
      "application/vnd.jupyter.widget-view+json": {
       "model_id": "166a8d0a66a54cbba9c587517a298ec5",
       "version_major": 2,
       "version_minor": 0
      },
      "text/plain": [
       "HBox(children=(FloatProgress(value=0.0, max=2.0), HTML(value='')))"
      ]
     },
     "metadata": {},
     "output_type": "display_data"
    },
    {
     "name": "stdout",
     "output_type": "stream",
     "text": [
      "\n"
     ]
    },
    {
     "data": {
      "application/vnd.jupyter.widget-view+json": {
       "model_id": "76567e7d18ca420fa025b09f37626696",
       "version_major": 2,
       "version_minor": 0
      },
      "text/plain": [
       "HBox(children=(FloatProgress(value=1.0, bar_style='info', max=1.0), HTML(value='')))"
      ]
     },
     "metadata": {},
     "output_type": "display_data"
    },
    {
     "name": "stdout",
     "output_type": "stream",
     "text": [
      "\n",
      "\n",
      "\n",
      "--- Working on 1-to-1 correspondence-----\n",
      "max(original_labels),len(original_labels) = (2, 3)\n",
      "empty_indices % = 0.10214044310927525\n",
      " conflict_indices % = 0.05745399924896733\n"
     ]
    },
    {
     "data": {
      "application/vnd.jupyter.widget-view+json": {
       "model_id": "1049894c56364750ba46268aa43dbb70",
       "version_major": 2,
       "version_minor": 0
      },
      "text/plain": [
       "HBox(children=(FloatProgress(value=0.0, max=4.0), HTML(value='')))"
      ]
     },
     "metadata": {},
     "output_type": "display_data"
    },
    {
     "name": "stdout",
     "output_type": "stream",
     "text": [
      "\n",
      "AFTER face_lookup_resolved_test\n"
     ]
    },
    {
     "data": {
      "application/vnd.jupyter.widget-view+json": {
       "model_id": "0e5e0620728e4d689d6c6f56b5233337",
       "version_major": 2,
       "version_minor": 0
      },
      "text/plain": [
       "HBox(children=(FloatProgress(value=0.0, max=3.0), HTML(value='')))"
      ]
     },
     "metadata": {},
     "output_type": "display_data"
    },
    {
     "name": "stdout",
     "output_type": "stream",
     "text": [
      "\n",
      "Deleting branches from dictionary\n",
      "MP_branches_with_stitch_point= [1]\n",
      "MP_branches_for_correspondence = [1]\n",
      "MP_leftover = [], MP_leftover_idx = []\n",
      " Finished with (1, 3) \n",
      "\n",
      "\n",
      "\n",
      "\n",
      "---- Working on (2, 3) connection-----\n",
      "node_for_stitch = 265: [ 619376.  681901. 1025730.]\n",
      "node_for_stitch AFTER = 265: [ 619376.  681901. 1025730.]\n",
      "possible_node_loc = [ 265 2540]\n",
      "possible_node_loc AFTER = [ 265 2540]\n",
      "curr_shortest_path = [265]\n",
      "Current stitch point was a branch or endpoint\n",
      "sk_conn = [0, 1]\n",
      "conn = [0, 1]\n",
      "winning_vertex = [ 619078.15358299  681785.25726162 1025250.5016003 ]\n",
      "MP_branches_with_stitch_point = [0, 1]\n",
      "MAP_branches_with_stitch_point = [3]\n",
      "MAP_stitch_point_on_end_or_branch = True\n"
     ]
    },
    {
     "data": {
      "application/vnd.jupyter.widget-view+json": {
       "model_id": "c3524d482d594719af9b14dbd110704f",
       "version_major": 2,
       "version_minor": 0
      },
      "text/plain": [
       "HBox(children=(FloatProgress(value=1.0, bar_style='info', max=1.0), HTML(value='')))"
      ]
     },
     "metadata": {},
     "output_type": "display_data"
    },
    {
     "name": "stdout",
     "output_type": "stream",
     "text": [
      "\n",
      "\n",
      "\n",
      "--- Working on 1-to-1 correspondence-----\n",
      "max(original_labels),len(original_labels) = (2, 3)\n",
      "empty_indices % = 0.25474695959199684\n",
      " conflict_indices % = 0.005551196547665751\n"
     ]
    },
    {
     "data": {
      "application/vnd.jupyter.widget-view+json": {
       "model_id": "8b1e6539f8fb4c3dbb954e2be20fc72f",
       "version_major": 2,
       "version_minor": 0
      },
      "text/plain": [
       "HBox(children=(FloatProgress(value=0.0, max=98.0), HTML(value='')))"
      ]
     },
     "metadata": {},
     "output_type": "display_data"
    },
    {
     "name": "stdout",
     "output_type": "stream",
     "text": [
      "\n",
      "AFTER face_lookup_resolved_test\n"
     ]
    },
    {
     "data": {
      "application/vnd.jupyter.widget-view+json": {
       "model_id": "3c7318b77543422184cfd93acb923f06",
       "version_major": 2,
       "version_minor": 0
      },
      "text/plain": [
       "HBox(children=(FloatProgress(value=0.0, max=3.0), HTML(value='')))"
      ]
     },
     "metadata": {},
     "output_type": "display_data"
    },
    {
     "name": "stdout",
     "output_type": "stream",
     "text": [
      "\n",
      "MP_branches_with_stitch_point= [0, 1]\n",
      "MP_branches_for_correspondence = [0 1]\n",
      "MP_leftover = [], MP_leftover_idx = []\n",
      " Finished with (2, 3) \n",
      "\n",
      "\n",
      "\n",
      "\n",
      "---- Working on (5, 3) connection-----\n",
      "node_for_stitch = 3124: [ 641637.  715557. 1089440.]\n",
      "node_for_stitch AFTER = 3124: [ 641637.  715557. 1089440.]\n",
      "possible_node_loc = [2630 3139]\n",
      "possible_node_loc AFTER = [2630 3139]\n",
      "curr_shortest_path = [3124, 3129.0, 3131.0, 3133.0, 3137.0, 3139.0]\n",
      "Current stitch point was not a branch or endpoint, shortest_path_length to one = 575.7339872075999\n",
      "sk_conn = [0, 1]\n",
      "conn = [0, 1]\n",
      "winning_vertex = [ 642059.00597805  714889.45321037 1089322.41606974]\n",
      "MP_branches_with_stitch_point = [0, 1]\n",
      "MAP_branches_with_stitch_point = [9]\n",
      "MAP_stitch_point_on_end_or_branch = False\n"
     ]
    },
    {
     "data": {
      "application/vnd.jupyter.widget-view+json": {
       "model_id": "d7494643a1b747979d0c56d99e17a724",
       "version_major": 2,
       "version_minor": 0
      },
      "text/plain": [
       "HBox(children=(FloatProgress(value=1.0, bar_style='info', max=1.0), HTML(value='')))"
      ]
     },
     "metadata": {},
     "output_type": "display_data"
    },
    {
     "name": "stdout",
     "output_type": "stream",
     "text": [
      "\n",
      "\n",
      "\n",
      "--- Working on 1-to-1 correspondence-----\n",
      "max(original_labels),len(original_labels) = (1, 2)\n",
      "empty_indices % = 0.08442669709070165\n",
      " conflict_indices % = 0.013120365088419851\n"
     ]
    },
    {
     "data": {
      "application/vnd.jupyter.widget-view+json": {
       "model_id": "eb4396021edf406896f6f4404b9ff242",
       "version_major": 2,
       "version_minor": 0
      },
      "text/plain": [
       "HBox(children=(FloatProgress(value=0.0, max=5.0), HTML(value='')))"
      ]
     },
     "metadata": {},
     "output_type": "display_data"
    },
    {
     "name": "stdout",
     "output_type": "stream",
     "text": [
      "\n",
      "AFTER face_lookup_resolved_test\n"
     ]
    },
    {
     "data": {
      "application/vnd.jupyter.widget-view+json": {
       "model_id": "448bb9aa19994660b1e21ac4e7b5ed29",
       "version_major": 2,
       "version_minor": 0
      },
      "text/plain": [
       "HBox(children=(FloatProgress(value=0.0, max=2.0), HTML(value='')))"
      ]
     },
     "metadata": {},
     "output_type": "display_data"
    },
    {
     "name": "stdout",
     "output_type": "stream",
     "text": [
      "\n"
     ]
    },
    {
     "data": {
      "application/vnd.jupyter.widget-view+json": {
       "model_id": "47e86cdaf0b6475b908c35dadddbba62",
       "version_major": 2,
       "version_minor": 0
      },
      "text/plain": [
       "HBox(children=(FloatProgress(value=1.0, bar_style='info', max=1.0), HTML(value='')))"
      ]
     },
     "metadata": {},
     "output_type": "display_data"
    },
    {
     "name": "stdout",
     "output_type": "stream",
     "text": [
      "\n",
      "\n",
      "\n",
      "--- Working on 1-to-1 correspondence-----\n",
      "max(original_labels),len(original_labels) = (3, 4)\n",
      "empty_indices % = 0.24344959222627105\n",
      " conflict_indices % = 0.021516571230262016\n"
     ]
    },
    {
     "data": {
      "application/vnd.jupyter.widget-view+json": {
       "model_id": "af45d00e1a7c42889d238dfd728ff293",
       "version_major": 2,
       "version_minor": 0
      },
      "text/plain": [
       "HBox(children=(FloatProgress(value=0.0, max=37.0), HTML(value='')))"
      ]
     },
     "metadata": {},
     "output_type": "display_data"
    },
    {
     "name": "stdout",
     "output_type": "stream",
     "text": [
      "\n",
      "AFTER face_lookup_resolved_test\n"
     ]
    },
    {
     "data": {
      "application/vnd.jupyter.widget-view+json": {
       "model_id": "b3ce4828628242629bac1419e5fe0349",
       "version_major": 2,
       "version_minor": 0
      },
      "text/plain": [
       "HBox(children=(FloatProgress(value=0.0, max=4.0), HTML(value='')))"
      ]
     },
     "metadata": {},
     "output_type": "display_data"
    },
    {
     "name": "stdout",
     "output_type": "stream",
     "text": [
      "\n",
      "Deleting branches from dictionary\n",
      "MP_branches_with_stitch_point= [0, 1]\n",
      "MP_branches_for_correspondence = [0 1]\n",
      "MP_leftover = [], MP_leftover_idx = []\n",
      " Finished with (5, 3) \n",
      "\n",
      "\n",
      "\n",
      "\n",
      "---- Working on (7, 3) connection-----\n",
      "node_for_stitch = 529: [ 621384.  444506. 1113600.]\n",
      "node_for_stitch AFTER = 529: [ 621384.  444506. 1113600.]\n",
      "possible_node_loc = [462 466]\n",
      "possible_node_loc AFTER = [462 466]\n",
      "curr_shortest_path = [529, 521.0, 512.0, 493.0, 488.0, 483.0, 470.0, 466.0]\n",
      "Current stitch point was not a branch or endpoint, shortest_path_length to one = 910.2238877016938\n",
      "sk_conn = [1, 3]\n",
      "conn = [1, 3]\n",
      "winning_vertex = [ 621469.15989861  446051.60862535 1113872.26853226]\n",
      "MP_branches_with_stitch_point = [1, 3]\n",
      "MAP_branches_with_stitch_point = [4]\n",
      "MAP_stitch_point_on_end_or_branch = False\n"
     ]
    },
    {
     "data": {
      "application/vnd.jupyter.widget-view+json": {
       "model_id": "44635ebecfa0447bacb3dda371069b60",
       "version_major": 2,
       "version_minor": 0
      },
      "text/plain": [
       "HBox(children=(FloatProgress(value=1.0, bar_style='info', max=1.0), HTML(value='')))"
      ]
     },
     "metadata": {},
     "output_type": "display_data"
    },
    {
     "name": "stdout",
     "output_type": "stream",
     "text": [
      "\n",
      "\n",
      "\n",
      "--- Working on 1-to-1 correspondence-----\n",
      "max(original_labels),len(original_labels) = (1, 2)\n",
      "empty_indices % = 0.20330188679245284\n",
      " conflict_indices % = 0.18820754716981133\n"
     ]
    },
    {
     "data": {
      "application/vnd.jupyter.widget-view+json": {
       "model_id": "282acc7bd62a49eea3262bd5ddd5becb",
       "version_major": 2,
       "version_minor": 0
      },
      "text/plain": [
       "HBox(children=(FloatProgress(value=0.0, max=5.0), HTML(value='')))"
      ]
     },
     "metadata": {},
     "output_type": "display_data"
    },
    {
     "name": "stdout",
     "output_type": "stream",
     "text": [
      "\n",
      "AFTER face_lookup_resolved_test\n"
     ]
    },
    {
     "data": {
      "application/vnd.jupyter.widget-view+json": {
       "model_id": "c7f0c2d6b76d4315908788816f835fd4",
       "version_major": 2,
       "version_minor": 0
      },
      "text/plain": [
       "HBox(children=(FloatProgress(value=0.0, max=2.0), HTML(value='')))"
      ]
     },
     "metadata": {},
     "output_type": "display_data"
    },
    {
     "name": "stdout",
     "output_type": "stream",
     "text": [
      "\n"
     ]
    },
    {
     "data": {
      "application/vnd.jupyter.widget-view+json": {
       "model_id": "bf673eee8f9f4d44a49de537f3d75c91",
       "version_major": 2,
       "version_minor": 0
      },
      "text/plain": [
       "HBox(children=(FloatProgress(value=1.0, bar_style='info', max=1.0), HTML(value='')))"
      ]
     },
     "metadata": {},
     "output_type": "display_data"
    },
    {
     "name": "stdout",
     "output_type": "stream",
     "text": [
      "\n",
      "\n",
      "\n",
      "--- Working on 1-to-1 correspondence-----\n",
      "max(original_labels),len(original_labels) = (3, 4)\n",
      "empty_indices % = 0.16484704356285806\n",
      " conflict_indices % = 0.1573883904442763\n"
     ]
    },
    {
     "data": {
      "application/vnd.jupyter.widget-view+json": {
       "model_id": "3898cce79f054d70b803ddab7706f817",
       "version_major": 2,
       "version_minor": 0
      },
      "text/plain": [
       "HBox(children=(FloatProgress(value=0.0, max=13.0), HTML(value='')))"
      ]
     },
     "metadata": {},
     "output_type": "display_data"
    },
    {
     "name": "stdout",
     "output_type": "stream",
     "text": [
      "\n",
      "AFTER face_lookup_resolved_test\n"
     ]
    },
    {
     "data": {
      "application/vnd.jupyter.widget-view+json": {
       "model_id": "ecb9e1d74f1e4070af80325c9b0fbe30",
       "version_major": 2,
       "version_minor": 0
      },
      "text/plain": [
       "HBox(children=(FloatProgress(value=0.0, max=4.0), HTML(value='')))"
      ]
     },
     "metadata": {},
     "output_type": "display_data"
    },
    {
     "name": "stdout",
     "output_type": "stream",
     "text": [
      "\n",
      "Deleting branches from dictionary\n",
      "MP_branches_with_stitch_point= [1, 3]\n",
      "MP_branches_for_correspondence = [1 3]\n",
      "MP_leftover = [], MP_leftover_idx = []\n",
      " Finished with (7, 3) \n",
      "\n",
      "\n",
      "\n",
      "\n",
      "---- Working on (8, 3) connection-----\n",
      "node_for_stitch = 2187: [ 633508.  705173. 1070710.]\n",
      "node_for_stitch AFTER = 2187: [ 633508.  705173. 1070710.]\n",
      "possible_node_loc = [ 265 2540]\n",
      "possible_node_loc AFTER = [ 265 2540]\n",
      "curr_shortest_path = [2187, 2196.0, 2199.0, 2201.0, 2205.0, 2206.0, 2208.0, 2210.0, 2213.0, 2214.0, 2216.0, 2215.0, 2217.0, 2219.0, 2220.0, 2223.0, 2222.0, 2224.0, 2225.0, 2228.0, 2231.0, 2233.0, 2236.0, 2241.0, 2257.0, 2269.0, 2272.0, 2276.0, 2281.0, 2284.0, 2289.0, 2291.0, 2300.0, 2301.0, 2303.0, 2307.0, 2313.0, 2316.0, 2321.0, 2328.0, 2336.0, 2341.0, 2347.0, 2352.0, 2357.0, 2360.0, 2363.0, 2368.0, 2373.0, 2377.0, 2383.0, 2386.0, 2389.0, 2395.0, 2419.0, 2434.0, 2445.0, 2459.0, 2466.0, 2470.0, 2471.0, 2474.0, 2477.0, 2478.0, 2481.0, 2482.0, 2486.0, 2488.0, 2490.0, 2493.0, 2494.0, 2497.0, 2499.0, 2500.0, 2503.0, 2505.0, 2508.0, 2509.0, 2511.0, 2512.0, 2514.0, 2517.0, 2518.0, 2519.0, 2520.0, 2521.0, 2522.0, 2526.0, 2523.0, 2524.0, 2527.0, 2528.0, 2529.0, 2531.0, 2534.0, 2536.0, 2540.0]\n",
      "Current stitch point was not a branch or endpoint, shortest_path_length to one = 13437.816934790611\n",
      "sk_conn = [0]\n",
      "conn = [0]\n",
      "winning_vertex = [ 633749.10400839  704775.26051377 1070393.48840633]\n",
      "MP_branches_with_stitch_point = [0]\n",
      "MAP_branches_with_stitch_point = [3]\n",
      "MAP_stitch_point_on_end_or_branch = False\n"
     ]
    },
    {
     "data": {
      "application/vnd.jupyter.widget-view+json": {
       "model_id": "579c397d73084270b749924b2a6adfe4",
       "version_major": 2,
       "version_minor": 0
      },
      "text/plain": [
       "HBox(children=(FloatProgress(value=1.0, bar_style='info', max=1.0), HTML(value='')))"
      ]
     },
     "metadata": {},
     "output_type": "display_data"
    },
    {
     "name": "stdout",
     "output_type": "stream",
     "text": [
      "\n",
      "\n",
      "\n",
      "--- Working on 1-to-1 correspondence-----\n",
      "max(original_labels),len(original_labels) = (1, 2)\n",
      "empty_indices % = 0.22416204735015283\n",
      " conflict_indices % = 0.00150235714655753\n"
     ]
    },
    {
     "data": {
      "application/vnd.jupyter.widget-view+json": {
       "model_id": "7314f2b5d2554375982085cae708279d",
       "version_major": 2,
       "version_minor": 0
      },
      "text/plain": [
       "HBox(children=(FloatProgress(value=0.0, max=49.0), HTML(value='')))"
      ]
     },
     "metadata": {},
     "output_type": "display_data"
    },
    {
     "name": "stdout",
     "output_type": "stream",
     "text": [
      "\n",
      "AFTER face_lookup_resolved_test\n"
     ]
    },
    {
     "data": {
      "application/vnd.jupyter.widget-view+json": {
       "model_id": "b333eb812e114d2992d9321f1b7005ba",
       "version_major": 2,
       "version_minor": 0
      },
      "text/plain": [
       "HBox(children=(FloatProgress(value=0.0, max=2.0), HTML(value='')))"
      ]
     },
     "metadata": {},
     "output_type": "display_data"
    },
    {
     "name": "stdout",
     "output_type": "stream",
     "text": [
      "\n"
     ]
    },
    {
     "data": {
      "application/vnd.jupyter.widget-view+json": {
       "model_id": "5f18bac44a41482b9d4b05e345984e1b",
       "version_major": 2,
       "version_minor": 0
      },
      "text/plain": [
       "HBox(children=(FloatProgress(value=1.0, bar_style='info', max=1.0), HTML(value='')))"
      ]
     },
     "metadata": {},
     "output_type": "display_data"
    },
    {
     "name": "stdout",
     "output_type": "stream",
     "text": [
      "\n",
      "\n",
      "\n",
      "--- Working on 1-to-1 correspondence-----\n",
      "max(original_labels),len(original_labels) = (2, 3)\n",
      "empty_indices % = 0.27317720050202465\n",
      " conflict_indices % = 0.009827369816950437\n"
     ]
    },
    {
     "data": {
      "application/vnd.jupyter.widget-view+json": {
       "model_id": "a954d558fbf442d393799ef743f77e9a",
       "version_major": 2,
       "version_minor": 0
      },
      "text/plain": [
       "HBox(children=(FloatProgress(value=0.0, max=67.0), HTML(value='')))"
      ]
     },
     "metadata": {},
     "output_type": "display_data"
    },
    {
     "name": "stdout",
     "output_type": "stream",
     "text": [
      "\n",
      "AFTER face_lookup_resolved_test\n"
     ]
    },
    {
     "data": {
      "application/vnd.jupyter.widget-view+json": {
       "model_id": "7eda6ce43ee1448a82c7a97ef2494084",
       "version_major": 2,
       "version_minor": 0
      },
      "text/plain": [
       "HBox(children=(FloatProgress(value=0.0, max=3.0), HTML(value='')))"
      ]
     },
     "metadata": {},
     "output_type": "display_data"
    },
    {
     "name": "stdout",
     "output_type": "stream",
     "text": [
      "\n",
      "Deleting branches from dictionary\n",
      "MP_branches_with_stitch_point= [0]\n",
      "MP_branches_for_correspondence = [0]\n",
      "MP_leftover = [], MP_leftover_idx = []\n",
      " Finished with (8, 3) \n",
      "\n",
      "\n",
      "\n",
      "\n",
      "---- Working on (9, 3) connection-----\n",
      "node_for_stitch = 130: [ 618626.  454378. 1104560.]\n",
      "node_for_stitch AFTER = 130: [ 618626.  454378. 1104560.]\n",
      "possible_node_loc = [  62 3600]\n",
      "possible_node_loc AFTER = [  62 3600]\n",
      "curr_shortest_path = [130, 131.0, 118.0, 109.0, 104.0, 99.0, 96.0, 95.0, 92.0, 89.0, 87.0, 85.0, 88.0, 91.0, 90.0, 93.0, 98.0, 100.0, 108.0, 111.0, 115.0, 117.0, 113.0, 119.0, 121.0, 123.0, 129.0, 128.0, 127.0, 122.0, 110.0, 97.0, 84.0, 78.0, 74.0, 69.0, 62.0]\n",
      "Current stitch point was not a branch or endpoint, shortest_path_length to one = 6059.316752609861\n",
      "sk_conn = [0]\n",
      "conn = [0]\n",
      "winning_vertex = [ 617530.69428378  454562.83972049 1103929.65172377]\n",
      "MP_branches_with_stitch_point = [0]\n",
      "MAP_branches_with_stitch_point = [2]\n",
      "MAP_stitch_point_on_end_or_branch = False\n"
     ]
    },
    {
     "data": {
      "application/vnd.jupyter.widget-view+json": {
       "model_id": "87617f7ae7c146f793bb0f70584845b0",
       "version_major": 2,
       "version_minor": 0
      },
      "text/plain": [
       "HBox(children=(FloatProgress(value=1.0, bar_style='info', max=1.0), HTML(value='')))"
      ]
     },
     "metadata": {},
     "output_type": "display_data"
    },
    {
     "name": "stdout",
     "output_type": "stream",
     "text": [
      "\n",
      "\n",
      "\n",
      "--- Working on 1-to-1 correspondence-----\n",
      "max(original_labels),len(original_labels) = (1, 2)\n",
      "empty_indices % = 0.2063449128637119\n",
      " conflict_indices % = 0.0028981027087599987\n"
     ]
    },
    {
     "data": {
      "application/vnd.jupyter.widget-view+json": {
       "model_id": "3a01b816320c4fdc9b756a81bf85db24",
       "version_major": 2,
       "version_minor": 0
      },
      "text/plain": [
       "HBox(children=(FloatProgress(value=0.0, max=81.0), HTML(value='')))"
      ]
     },
     "metadata": {},
     "output_type": "display_data"
    },
    {
     "name": "stdout",
     "output_type": "stream",
     "text": [
      "\n",
      "AFTER face_lookup_resolved_test\n"
     ]
    },
    {
     "data": {
      "application/vnd.jupyter.widget-view+json": {
       "model_id": "3b7d34610dcd4a90b9b9860d621eb9f3",
       "version_major": 2,
       "version_minor": 0
      },
      "text/plain": [
       "HBox(children=(FloatProgress(value=0.0, max=2.0), HTML(value='')))"
      ]
     },
     "metadata": {},
     "output_type": "display_data"
    },
    {
     "name": "stdout",
     "output_type": "stream",
     "text": [
      "\n"
     ]
    },
    {
     "data": {
      "application/vnd.jupyter.widget-view+json": {
       "model_id": "064bb0cf6e8d4a568147318bc7f8b731",
       "version_major": 2,
       "version_minor": 0
      },
      "text/plain": [
       "HBox(children=(FloatProgress(value=1.0, bar_style='info', max=1.0), HTML(value='')))"
      ]
     },
     "metadata": {},
     "output_type": "display_data"
    },
    {
     "name": "stdout",
     "output_type": "stream",
     "text": [
      "\n",
      "\n",
      "\n",
      "--- Working on 1-to-1 correspondence-----\n",
      "max(original_labels),len(original_labels) = (2, 3)\n",
      "empty_indices % = 0.2633940914988196\n",
      " conflict_indices % = 0.009188165982516962\n"
     ]
    },
    {
     "data": {
      "application/vnd.jupyter.widget-view+json": {
       "model_id": "954d87e1dc2a4581a191923bb83915e3",
       "version_major": 2,
       "version_minor": 0
      },
      "text/plain": [
       "HBox(children=(FloatProgress(value=0.0, max=66.0), HTML(value='')))"
      ]
     },
     "metadata": {},
     "output_type": "display_data"
    },
    {
     "name": "stdout",
     "output_type": "stream",
     "text": [
      "\n",
      "AFTER face_lookup_resolved_test\n"
     ]
    },
    {
     "data": {
      "application/vnd.jupyter.widget-view+json": {
       "model_id": "2aad59bcb96446a893fcb327bebe668a",
       "version_major": 2,
       "version_minor": 0
      },
      "text/plain": [
       "HBox(children=(FloatProgress(value=0.0, max=3.0), HTML(value='')))"
      ]
     },
     "metadata": {},
     "output_type": "display_data"
    },
    {
     "name": "stdout",
     "output_type": "stream",
     "text": [
      "\n",
      "Deleting branches from dictionary\n",
      "MP_branches_with_stitch_point= [0]\n",
      "MP_branches_for_correspondence = [0]\n",
      "MP_leftover = [], MP_leftover_idx = []\n",
      " Finished with (9, 3) \n",
      "\n",
      "\n",
      "\n",
      "\n",
      "---- Working on (11, 3) connection-----\n",
      "node_for_stitch = 66: [ 618367.  448923. 1108350.]\n",
      "node_for_stitch AFTER = 66: [ 618367.  448923. 1108350.]\n",
      "possible_node_loc = [  42   62 2990]\n",
      "possible_node_loc AFTER = [  42   62 2990]\n",
      "curr_shortest_path = [66, 65.0, 61.0, 56.0, 62.0]\n",
      "Current stitch point was not a branch or endpoint, shortest_path_length to one = 651.2059059662179\n",
      "sk_conn = [0]\n",
      "conn = [0]\n",
      "winning_vertex = [ 618191.89290237  449251.04098899 1108546.6394771 ]\n",
      "MP_branches_with_stitch_point = [0]\n",
      "MAP_branches_with_stitch_point = [1]\n",
      "MAP_stitch_point_on_end_or_branch = False\n"
     ]
    },
    {
     "data": {
      "application/vnd.jupyter.widget-view+json": {
       "model_id": "28ac80a3230c41998524229ce0a979cc",
       "version_major": 2,
       "version_minor": 0
      },
      "text/plain": [
       "HBox(children=(FloatProgress(value=1.0, bar_style='info', max=1.0), HTML(value='')))"
      ]
     },
     "metadata": {},
     "output_type": "display_data"
    },
    {
     "name": "stdout",
     "output_type": "stream",
     "text": [
      "\n",
      "\n",
      "\n",
      "--- Working on 1-to-1 correspondence-----\n",
      "max(original_labels),len(original_labels) = (1, 2)\n",
      "empty_indices % = 0.10393258426966293\n",
      " conflict_indices % = 0.00749063670411985\n"
     ]
    },
    {
     "data": {
      "application/vnd.jupyter.widget-view+json": {
       "model_id": "20567b1e83eb4c53b988f3f41c1fce9d",
       "version_major": 2,
       "version_minor": 0
      },
      "text/plain": [
       "HBox(children=(FloatProgress(value=0.0, max=9.0), HTML(value='')))"
      ]
     },
     "metadata": {},
     "output_type": "display_data"
    },
    {
     "name": "stdout",
     "output_type": "stream",
     "text": [
      "\n",
      "AFTER face_lookup_resolved_test\n"
     ]
    },
    {
     "data": {
      "application/vnd.jupyter.widget-view+json": {
       "model_id": "8ba2a5704fd04828b1e14983242163b5",
       "version_major": 2,
       "version_minor": 0
      },
      "text/plain": [
       "HBox(children=(FloatProgress(value=0.0, max=2.0), HTML(value='')))"
      ]
     },
     "metadata": {},
     "output_type": "display_data"
    },
    {
     "name": "stdout",
     "output_type": "stream",
     "text": [
      "\n"
     ]
    },
    {
     "data": {
      "application/vnd.jupyter.widget-view+json": {
       "model_id": "4370e40baa394fa6bc102c3fbe854943",
       "version_major": 2,
       "version_minor": 0
      },
      "text/plain": [
       "HBox(children=(FloatProgress(value=1.0, bar_style='info', max=1.0), HTML(value='')))"
      ]
     },
     "metadata": {},
     "output_type": "display_data"
    },
    {
     "name": "stdout",
     "output_type": "stream",
     "text": [
      "\n",
      "\n",
      "\n",
      "--- Working on 1-to-1 correspondence-----\n",
      "max(original_labels),len(original_labels) = (2, 3)\n",
      "empty_indices % = 0.1259073143495254\n",
      " conflict_indices % = 0.05415968732551647\n"
     ]
    },
    {
     "data": {
      "application/vnd.jupyter.widget-view+json": {
       "model_id": "c4af5b7096244bd19622b8806df352ed",
       "version_major": 2,
       "version_minor": 0
      },
      "text/plain": [
       "HBox(children=(FloatProgress(value=0.0, max=10.0), HTML(value='')))"
      ]
     },
     "metadata": {},
     "output_type": "display_data"
    },
    {
     "name": "stdout",
     "output_type": "stream",
     "text": [
      "\n",
      "AFTER face_lookup_resolved_test\n"
     ]
    },
    {
     "data": {
      "application/vnd.jupyter.widget-view+json": {
       "model_id": "c887b6a208f34b189636d7851f59d7ce",
       "version_major": 2,
       "version_minor": 0
      },
      "text/plain": [
       "HBox(children=(FloatProgress(value=0.0, max=3.0), HTML(value='')))"
      ]
     },
     "metadata": {},
     "output_type": "display_data"
    },
    {
     "name": "stdout",
     "output_type": "stream",
     "text": [
      "\n",
      "Deleting branches from dictionary\n",
      "MP_branches_with_stitch_point= [0]\n",
      "MP_branches_for_correspondence = [0]\n",
      "MP_leftover = [], MP_leftover_idx = []\n",
      " Finished with (11, 3) \n",
      "\n",
      "\n",
      "\n",
      "\n",
      "---- Working on (16, 3) connection-----\n",
      "node_for_stitch = 2388: [ 635363.  660033. 1089270.]\n",
      "node_for_stitch AFTER = 2388: [ 635363.  660033. 1089270.]\n",
      "possible_node_loc = [  62 2990]\n",
      "possible_node_loc AFTER = [  62 2990]\n",
      "curr_shortest_path = [2388, 2393.0, 2405.0, 2414.0, 2422.0, 2429.0, 2433.0, 2437.0, 2444.0, 2446.0, 2448.0, 2451.0, 2454.0, 2456.0, 2460.0, 2462.0, 2463.0, 2464.0, 2465.0, 2467.0, 2469.0, 2472.0, 2476.0, 2480.0, 2483.0, 2484.0, 2487.0, 2489.0, 2492.0, 2495.0, 2498.0, 2502.0, 2504.0, 2506.0, 2510.0, 2516.0, 2515.0, 2525.0, 2530.0, 2532.0, 2535.0, 2538.0, 2539.0, 2543.0, 2551.0, 2556.0, 2561.0, 2565.0, 2568.0, 2574.0, 2576.0, 2584.0, 2587.0, 2588.0, 2592.0, 2594.0, 2600.0, 2604.0, 2608.0, 2610.0, 2613.0, 2614.0, 2619.0, 2621.0, 2622.0, 2624.0, 2626.0, 2629.0, 2631.0, 2632.0, 2635.0, 2637.0, 2638.0, 2640.0, 2643.0, 2648.0, 2651.0, 2656.0, 2660.0, 2664.0, 2666.0, 2671.0, 2673.0, 2677.0, 2681.0, 2690.0, 2699.0, 2706.0, 2710.0, 2711.0, 2713.0, 2718.0, 2723.0, 2724.0, 2727.0, 2728.0, 2732.0, 2735.0, 2738.0, 2742.0, 2744.0, 2746.0, 2748.0, 2752.0, 2754.0, 2758.0, 2763.0, 2768.0, 2774.0, 2778.0, 2785.0, 2795.0, 2801.0, 2814.0, 2824.0, 2829.0, 2834.0, 2839.0, 2844.0, 2849.0, 2855.0, 2857.0, 2860.0, 2864.0, 2869.0, 2867.0, 2868.0, 2865.0, 2862.0, 2859.0, 2858.0, 2854.0, 2846.0, 2843.0, 2838.0, 2832.0, 2830.0, 2819.0, 2816.0, 2807.0, 2805.0, 2798.0, 2796.0, 2790.0, 2787.0, 2784.0, 2779.0, 2776.0, 2772.0, 2770.0, 2766.0, 2762.0, 2759.0, 2755.0, 2749.0, 2743.0, 2740.0, 2733.0, 2729.0, 2720.0, 2716.0, 2712.0, 2708.0, 2705.0, 2702.0, 2698.0, 2696.0, 2695.0, 2689.0, 2687.0, 2683.0, 2684.0, 2685.0, 2686.0, 2692.0, 2694.0, 2697.0, 2700.0, 2704.0, 2714.0, 2722.0, 2737.0, 2756.0, 2764.0, 2773.0, 2792.0, 2811.0, 2823.0, 2840.0, 2851.0, 2873.0, 2875.0, 2882.0, 2887.0, 2893.0, 2897.0, 2904.0, 2914.0, 2926.0, 2937.0, 2949.0, 2973.0, 2978.0, 2984.0, 2988.0, 2997.0, 3004.0, 3015.0, 3018.0, 3013.0, 3011.0, 3010.0, 3007.0, 3006.0, 3008.0, 3016.0, 3026.0, 3031.0, 3039.0, 3043.0, 3048.0, 3050.0, 3052.0, 3055.0, 3060.0, 3068.0, 3069.0, 3075.0, 3078.0, 3080.0, 3085.0, 3086.0, 3081.0, 3082.0, 3084.0, 3079.0, 3073.0, 3063.0, 3059.0, 3056.0, 3053.0, 3049.0, 3047.0, 3042.0, 3041.0, 3038.0, 3037.0, 3033.0, 3030.0, 3029.0, 3028.0, 3024.0, 3022.0, 3021.0, 3019.0, 3017.0, 3014.0, 3012.0, 3009.0, 3005.0, 3001.0, 3000.0, 2999.0, 2996.0, 2993.0, 2992.0, 2991.0, 3002.0, 3025.0, 3036.0, 3034.0, 3020.0, 2994.0, 2987.0, 2986.0, 2982.0, 2979.0, 2975.0, 2972.0, 2971.0, 2969.0, 2970.0, 2966.0, 2964.0, 2963.0, 2960.0, 2957.0, 2955.0, 2951.0, 2947.0, 2945.0, 2939.0, 2931.0, 2924.0, 2919.0, 2915.0, 2911.0, 2908.0, 2905.0, 2906.0, 2913.0, 2921.0, 2929.0, 2940.0, 2943.0, 2944.0, 2958.0, 2990.0]\n",
      "Current stitch point was not a branch or endpoint, shortest_path_length to one = 43485.657479964684\n",
      "sk_conn = [0]\n",
      "conn = [0]\n",
      "winning_vertex = [ 635056.11222935  659884.39290954 1089561.08884782]\n",
      "MP_branches_with_stitch_point = [0]\n",
      "MAP_branches_with_stitch_point = [0]\n",
      "MAP_stitch_point_on_end_or_branch = False\n"
     ]
    },
    {
     "data": {
      "application/vnd.jupyter.widget-view+json": {
       "model_id": "253c324a47e14532991c006034836247",
       "version_major": 2,
       "version_minor": 0
      },
      "text/plain": [
       "HBox(children=(FloatProgress(value=1.0, bar_style='info', max=1.0), HTML(value='')))"
      ]
     },
     "metadata": {},
     "output_type": "display_data"
    },
    {
     "name": "stdout",
     "output_type": "stream",
     "text": [
      "\n",
      "\n",
      "\n",
      "--- Working on 1-to-1 correspondence-----\n",
      "max(original_labels),len(original_labels) = (1, 2)\n",
      "empty_indices % = 0.21043605693528522\n",
      " conflict_indices % = 0.0004988853031507725\n"
     ]
    },
    {
     "data": {
      "application/vnd.jupyter.widget-view+json": {
       "model_id": "513b60881bc44339b5d2778a5ddbb69f",
       "version_major": 2,
       "version_minor": 0
      },
      "text/plain": [
       "HBox(children=(FloatProgress(value=0.0, max=149.0), HTML(value='')))"
      ]
     },
     "metadata": {},
     "output_type": "display_data"
    },
    {
     "name": "stdout",
     "output_type": "stream",
     "text": [
      "\n",
      "AFTER face_lookup_resolved_test\n"
     ]
    },
    {
     "data": {
      "application/vnd.jupyter.widget-view+json": {
       "model_id": "32cd5ac0c10c40c79c00c4cfd848574b",
       "version_major": 2,
       "version_minor": 0
      },
      "text/plain": [
       "HBox(children=(FloatProgress(value=0.0, max=2.0), HTML(value='')))"
      ]
     },
     "metadata": {},
     "output_type": "display_data"
    },
    {
     "name": "stdout",
     "output_type": "stream",
     "text": [
      "\n"
     ]
    },
    {
     "data": {
      "application/vnd.jupyter.widget-view+json": {
       "model_id": "d6d1c8c5e9c84b878c4520e1c0ec49f0",
       "version_major": 2,
       "version_minor": 0
      },
      "text/plain": [
       "HBox(children=(FloatProgress(value=1.0, bar_style='info', max=1.0), HTML(value='')))"
      ]
     },
     "metadata": {},
     "output_type": "display_data"
    },
    {
     "name": "stdout",
     "output_type": "stream",
     "text": [
      "\n",
      "\n",
      "\n",
      "--- Working on 1-to-1 correspondence-----\n",
      "max(original_labels),len(original_labels) = (2, 3)\n",
      "empty_indices % = 0.21864775170608583\n",
      " conflict_indices % = 0.004253529026829952\n"
     ]
    },
    {
     "data": {
      "application/vnd.jupyter.widget-view+json": {
       "model_id": "774bb538017740aab823ca52b07c3b6a",
       "version_major": 2,
       "version_minor": 0
      },
      "text/plain": [
       "HBox(children=(FloatProgress(value=0.0, max=73.0), HTML(value='')))"
      ]
     },
     "metadata": {},
     "output_type": "display_data"
    },
    {
     "name": "stdout",
     "output_type": "stream",
     "text": [
      "\n",
      "AFTER face_lookup_resolved_test\n"
     ]
    },
    {
     "data": {
      "application/vnd.jupyter.widget-view+json": {
       "model_id": "f880261f9d6c44d3b75a3c3063f75a43",
       "version_major": 2,
       "version_minor": 0
      },
      "text/plain": [
       "HBox(children=(FloatProgress(value=0.0, max=3.0), HTML(value='')))"
      ]
     },
     "metadata": {},
     "output_type": "display_data"
    },
    {
     "name": "stdout",
     "output_type": "stream",
     "text": [
      "\n",
      "Deleting branches from dictionary\n",
      "MP_branches_with_stitch_point= [0]\n",
      "MP_branches_for_correspondence = [0]\n",
      "MP_leftover = [], MP_leftover_idx = []\n",
      " Finished with (16, 3) \n",
      "\n",
      "\n",
      "\n",
      "\n",
      "---- Working on (17, 3) connection-----\n",
      "node_for_stitch = 3564: [ 661785.  692666. 1087300.]\n",
      "node_for_stitch AFTER = 3564: [ 661785.  692666. 1087300.]\n",
      "possible_node_loc = [2990 3881]\n",
      "possible_node_loc AFTER = [2990 3881]\n",
      "curr_shortest_path = [3564, 3562.0, 3559.0, 3557.0, 3553.0, 3551.0, 3547.0, 3545.0, 3542.0, 3541.0, 3538.0, 3536.0, 3533.0, 3528.0, 3525.0, 3522.0, 3520.0, 3517.0, 3514.0, 3511.0, 3507.0, 3505.0, 3504.0, 3501.0, 3498.0, 3496.0, 3494.0, 3493.0, 3491.0, 3489.0, 3487.0, 3485.0, 3482.0, 3480.0, 3476.0, 3472.0, 3468.0, 3463.0, 3461.0, 3458.0, 3456.0, 3454.0, 3450.0, 3446.0, 3441.0, 3437.0, 3435.0, 3432.0, 3430.0, 3428.0, 3425.0, 3423.0, 3421.0, 3418.0, 3415.0, 3413.0, 3411.0, 3409.0, 3407.0, 3405.0, 3403.0, 3400.0, 3396.0, 3394.0, 3393.0, 3390.0, 3388.0, 3385.0, 3384.0, 3382.0, 3380.0, 3378.0, 3376.0, 3374.0, 3373.0, 3371.0, 3369.0, 3366.0, 3364.0, 3362.0, 3359.0, 3356.0, 3353.0, 3351.0, 3348.0, 3345.0, 3342.0, 3339.0, 3336.0, 3334.0, 3332.0, 3330.0, 3328.0, 3326.0, 3324.0, 3322.0, 3320.0, 3318.0, 3317.0, 3315.0, 3313.0, 3311.0, 3309.0, 3307.0, 3305.0, 3303.0, 3301.0, 3299.0, 3298.0, 3295.0, 3293.0, 3291.0, 3289.0, 3286.0, 3283.0, 3281.0, 3279.0, 3276.0, 3273.0, 3270.0, 3267.0, 3264.0, 3261.0, 3259.0, 3256.0, 3253.0, 3251.0, 3249.0, 3247.0, 3244.0, 3240.0, 3238.0, 3235.0, 3232.0, 3230.0, 3227.0, 3225.0, 3222.0, 3221.0, 3218.0, 3216.0, 3214.0, 3212.0, 3209.0, 3206.0, 3204.0, 3200.0, 3197.0, 3194.0, 3191.0, 3188.0, 3186.0, 3184.0, 3178.0, 3175.0, 3171.0, 3166.0, 3156.0, 3150.0, 3147.0, 3144.0, 3142.0, 3140.0, 3138.0, 3134.0, 3132.0, 3128.0, 3126.0, 3123.0, 3121.0, 3117.0, 3114.0, 3106.0, 3096.0, 3091.0, 3076.0, 3045.0, 2990.0]\n",
      "Current stitch point was not a branch or endpoint, shortest_path_length to one = 26677.240528710903\n",
      "sk_conn = [0]\n",
      "conn = [0]\n",
      "winning_vertex = [ 662012.04715514  693036.77600562 1087027.08824122]\n",
      "MP_branches_with_stitch_point = [0]\n",
      "MAP_branches_with_stitch_point = [12]\n",
      "MAP_stitch_point_on_end_or_branch = False\n"
     ]
    },
    {
     "data": {
      "application/vnd.jupyter.widget-view+json": {
       "model_id": "173e392416f14911a39dd11c569e8db3",
       "version_major": 2,
       "version_minor": 0
      },
      "text/plain": [
       "HBox(children=(FloatProgress(value=1.0, bar_style='info', max=1.0), HTML(value='')))"
      ]
     },
     "metadata": {},
     "output_type": "display_data"
    },
    {
     "name": "stdout",
     "output_type": "stream",
     "text": [
      "\n",
      "\n",
      "\n",
      "--- Working on 1-to-1 correspondence-----\n",
      "max(original_labels),len(original_labels) = (1, 2)\n",
      "empty_indices % = 0.26057130004498424\n",
      " conflict_indices % = 0.004779577147998201\n"
     ]
    },
    {
     "data": {
      "application/vnd.jupyter.widget-view+json": {
       "model_id": "87e26ab6ecc14958a156a9660a274580",
       "version_major": 2,
       "version_minor": 0
      },
      "text/plain": [
       "HBox(children=(FloatProgress(value=0.0, max=55.0), HTML(value='')))"
      ]
     },
     "metadata": {},
     "output_type": "display_data"
    },
    {
     "name": "stdout",
     "output_type": "stream",
     "text": [
      "\n",
      "AFTER face_lookup_resolved_test\n"
     ]
    },
    {
     "data": {
      "application/vnd.jupyter.widget-view+json": {
       "model_id": "ac94aba2b4b74a1da06ad5669b795681",
       "version_major": 2,
       "version_minor": 0
      },
      "text/plain": [
       "HBox(children=(FloatProgress(value=0.0, max=2.0), HTML(value='')))"
      ]
     },
     "metadata": {},
     "output_type": "display_data"
    },
    {
     "name": "stdout",
     "output_type": "stream",
     "text": [
      "\n"
     ]
    },
    {
     "data": {
      "application/vnd.jupyter.widget-view+json": {
       "model_id": "1cdeba4b8e2347bfa0944351c9284027",
       "version_major": 2,
       "version_minor": 0
      },
      "text/plain": [
       "HBox(children=(FloatProgress(value=1.0, bar_style='info', max=1.0), HTML(value='')))"
      ]
     },
     "metadata": {},
     "output_type": "display_data"
    },
    {
     "name": "stdout",
     "output_type": "stream",
     "text": [
      "\n",
      "\n",
      "\n",
      "--- Working on 1-to-1 correspondence-----\n",
      "max(original_labels),len(original_labels) = (2, 3)\n",
      "empty_indices % = 0.26676146462851047\n",
      " conflict_indices % = 0.008484417585021923\n"
     ]
    },
    {
     "data": {
      "application/vnd.jupyter.widget-view+json": {
       "model_id": "79c8f5a7a6d04a61adf4b413ce44c08f",
       "version_major": 2,
       "version_minor": 0
      },
      "text/plain": [
       "HBox(children=(FloatProgress(value=0.0, max=85.0), HTML(value='')))"
      ]
     },
     "metadata": {},
     "output_type": "display_data"
    },
    {
     "name": "stdout",
     "output_type": "stream",
     "text": [
      "\n",
      "AFTER face_lookup_resolved_test\n"
     ]
    },
    {
     "data": {
      "application/vnd.jupyter.widget-view+json": {
       "model_id": "1b0d9003971342048379f185a370057c",
       "version_major": 2,
       "version_minor": 0
      },
      "text/plain": [
       "HBox(children=(FloatProgress(value=0.0, max=3.0), HTML(value='')))"
      ]
     },
     "metadata": {},
     "output_type": "display_data"
    },
    {
     "name": "stdout",
     "output_type": "stream",
     "text": [
      "\n",
      "Deleting branches from dictionary\n",
      "MP_branches_with_stitch_point= [0]\n",
      "MP_branches_for_correspondence = [0]\n",
      "MP_leftover = [], MP_leftover_idx = []\n",
      " Finished with (17, 3) \n",
      "\n",
      "\n",
      "\n",
      "Time for decomp of Limb = 324.86964440345764\n",
      "Number of matching vertices = 0\n",
      "Number of matching vertices = 29\n",
      "Number of matching vertices = 30\n",
      "Number of matching vertices = 0\n",
      "Number of matching vertices = 83\n",
      "Number of matching vertices = 66\n",
      "Only one endpoint after filtering away the endpoints that are not on the skeleton\n",
      "Only one endpoint after filtering away the endpoints that are not on the skeleton\n",
      "Only one endpoint after filtering away the endpoints that are not on the skeleton\n",
      "Only one endpoint after filtering away the endpoints that are not on the skeleton\n",
      "Using Distance measure skeletal_distance\n",
      "endpoints_must_keep = [[ 617459.          439374.         1060160.        ]\n",
      " [ 620805.3626506   442837.12048193 1113093.3373494 ]\n",
      " [ 623968.          440792.         1063650.        ]\n",
      " [ 637427.16515152  717437.53333333 1081520.56060606]]\n",
      "Number of end_nodes BEFORE filtering = 39\n",
      "all_single_nodes_to_eliminate = [21, 23, 25, 28]\n"
     ]
    },
    {
     "data": {
      "application/vnd.jupyter.widget-view+json": {
       "model_id": "ad5fb15599a24d54812c45ff224dcb16",
       "version_major": 2,
       "version_minor": 0
      },
      "text/plain": [
       "HBox(children=(FloatProgress(value=0.0, max=6.0), HTML(value='')))"
      ]
     },
     "metadata": {},
     "output_type": "display_data"
    },
    {
     "name": "stdout",
     "output_type": "stream",
     "text": [
      "\n",
      "Removed 6 skeletal branches\n"
     ]
    },
    {
     "data": {
      "application/vnd.jupyter.widget-view+json": {
       "model_id": "48d2ec9a1c5641d39f4c9390c8caa951",
       "version_major": 2,
       "version_minor": 0
      },
      "text/plain": [
       "HBox(children=(FloatProgress(value=0.0, max=69.0), HTML(value='')))"
      ]
     },
     "metadata": {},
     "output_type": "display_data"
    },
    {
     "name": "stdout",
     "output_type": "stream",
     "text": [
      "\n",
      "531203 531204\n",
      "For marked faces: None\n",
      "empty_indices % = 0.003456299274854858\n",
      " conflict_indices % = 0.0\n"
     ]
    },
    {
     "data": {
      "application/vnd.jupyter.widget-view+json": {
       "model_id": "0d3c667b332a4089aa11be1dc4b5c20e",
       "version_major": 2,
       "version_minor": 0
      },
      "text/plain": [
       "HBox(children=(FloatProgress(value=0.0, max=5.0), HTML(value='')))"
      ]
     },
     "metadata": {},
     "output_type": "display_data"
    },
    {
     "name": "stdout",
     "output_type": "stream",
     "text": [
      "\n",
      "AFTER face_lookup_resolved_test\n"
     ]
    },
    {
     "data": {
      "application/vnd.jupyter.widget-view+json": {
       "model_id": "2e52867752034497ab473bcff09c67ec",
       "version_major": 2,
       "version_minor": 0
      },
      "text/plain": [
       "HBox(children=(FloatProgress(value=0.0, max=62.0), HTML(value='')))"
      ]
     },
     "metadata": {},
     "output_type": "display_data"
    },
    {
     "name": "stdout",
     "output_type": "stream",
     "text": [
      "\n",
      "\n",
      "\n",
      "----- Working on Proper Limb # 2 ---------\n",
      "meshparty_segment_size = 100\n",
      "root_curr = [ 624475.6  436657.3 1048499. ]\n",
      "Time for preparing soma vertices and root: 0.0003695487976074219\n",
      "invalidation_d = 12000\n"
     ]
    },
    {
     "name": "stderr",
     "output_type": "stream",
     "text": [
      "\r",
      "  0%|          | 0/1 [00:00<?, ?it/s]"
     ]
    },
    {
     "name": "stdout",
     "output_type": "stream",
     "text": [
      "cc_vertex_thresh = 10\n"
     ]
    },
    {
     "data": {
      "application/vnd.jupyter.widget-view+json": {
       "model_id": "46a0e3a39ac8460c816cae185163e1a8",
       "version_major": 2,
       "version_minor": 0
      },
      "text/plain": [
       "HBox(children=(FloatProgress(value=0.0, max=82721.0), HTML(value='')))"
      ]
     },
     "metadata": {},
     "output_type": "display_data"
    },
    {
     "name": "stderr",
     "output_type": "stream",
     "text": [
      "100%|██████████| 1/1 [00:01<00:00,  1.04s/it]"
     ]
    },
    {
     "name": "stdout",
     "output_type": "stream",
     "text": [
      "\n"
     ]
    },
    {
     "name": "stderr",
     "output_type": "stream",
     "text": [
      "\n"
     ]
    },
    {
     "name": "stdout",
     "output_type": "stream",
     "text": [
      "meshparty_segment_size = 100\n",
      "Time for 1st pass MP skeletonization: 1.778217077255249\n",
      "connecting at the root\n",
      "branches_touching_root = [18]\n",
      "length of Graph = 8966\n",
      "After combining close endpoints max(kept_branches_idx) = 18, len(kept_branches_idx) = 19\n",
      "empty_indices % = 0.0\n",
      " conflict_indices % = 0.004407342742131044\n"
     ]
    },
    {
     "data": {
      "application/vnd.jupyter.widget-view+json": {
       "model_id": "da5d3cadf2e94d6fb8332dda6f9bd2f6",
       "version_major": 2,
       "version_minor": 0
      },
      "text/plain": [
       "HBox(children=(FloatProgress(value=0.0, max=9.0), HTML(value='')))"
      ]
     },
     "metadata": {},
     "output_type": "display_data"
    },
    {
     "name": "stdout",
     "output_type": "stream",
     "text": [
      "\n",
      "AFTER face_lookup_resolved_test\n"
     ]
    },
    {
     "data": {
      "application/vnd.jupyter.widget-view+json": {
       "model_id": "62e20e0c8e7e4e649bc24f55e3e9d397",
       "version_major": 2,
       "version_minor": 0
      },
      "text/plain": [
       "HBox(children=(FloatProgress(value=0.0, max=19.0), HTML(value='')))"
      ]
     },
     "metadata": {},
     "output_type": "display_data"
    },
    {
     "name": "stdout",
     "output_type": "stream",
     "text": [
      "\n",
      "Decomposing first pass: 7.657407999038696\n",
      "Attempting to use MeshAfterParty Skeletonization and Mesh Correspondence\n",
      "Another print\n",
      "Found len(mesh_large_idx) MAP candidates: [13468, 3327, 2890, 1205, 1917]\n",
      "mesh_large_connectivity: 0.01717996597290039\n",
      "Finding MAP candidates connected components: 0.0001163482666015625\n",
      "len(filtered_pieces) = 1\n",
      "skeleton_connectivity_MP : 0.32032108306884766\n",
      "Grouping MP Sublimbs by Graph: 0.06768465042114258\n",
      "Divinding into MP and MAP pieces: 9.5367431640625e-07\n",
      "--- Working on MAP piece 0---\n",
      "MAP Filtering Soma Pieces: 0.0013535022735595703\n",
      "inside skeletonize_connected_branch and use_surface_after_CGAL=False, surface_reconstruction_size=1000\n",
      "     Starting Screened Poisson\n",
      "xvfb-run -n 4076 -s \"-screen 0 800x600x24\" meshlabserver $@  -i /notebooks/Auto_Proofreading/Preprocessing_Pipeline/temp/None.off -o /notebooks/Auto_Proofreading/Preprocessing_Pipeline/temp/None_poisson.off -s /notebooks/Auto_Proofreading/Preprocessing_Pipeline/temp/poisson_293001.mls\n",
      "removed temporary input file: /notebooks/Auto_Proofreading/Preprocessing_Pipeline/temp/None.off\n",
      "removed temporary output file: /notebooks/Auto_Proofreading/Preprocessing_Pipeline/temp/None_poisson.off\n",
      "Using the close holes feature\n",
      "Mesh was manifold\n",
      "No holes needed to fill and mesh was manifold so returning original mesh\n",
      "-----Time for Screened Poisson= 11.212015628814697\n",
      "mesh_pieces = [<trimesh.Trimesh(vertices.shape=(30400, 3), faces.shape=(60796, 3))>]\n",
      "     Starting Calcification (Changed back where stitches large poissons)\n",
      "min_edge_length = 75\n"
     ]
    },
    {
     "data": {
      "application/vnd.jupyter.widget-view+json": {
       "model_id": "4b09c3a60df74dc9af332d25c2f030ff",
       "version_major": 2,
       "version_minor": 0
      },
      "text/plain": [
       "HBox(children=(FloatProgress(value=1.0, bar_style='info', max=1.0), HTML(value='')))"
      ]
     },
     "metadata": {},
     "output_type": "display_data"
    },
    {
     "name": "stdout",
     "output_type": "stream",
     "text": [
      "\n",
      "No skeletons to stack so returning empty list\n",
      "len_subgraphs AT BEGINNING of the loop\n"
     ]
    },
    {
     "data": {
      "application/vnd.jupyter.widget-view+json": {
       "model_id": "651c5552bbd2478890220ffe63f69b7d",
       "version_major": 2,
       "version_minor": 0
      },
      "text/plain": [
       "HBox(children=(FloatProgress(value=0.0, max=1.0), HTML(value='')))"
      ]
     },
     "metadata": {},
     "output_type": "display_data"
    },
    {
     "name": "stdout",
     "output_type": "stream",
     "text": [
      "all graph is one component!\n",
      "\n",
      "Total time for skeleton stitching = 0.04409456253051758\n",
      "The process was using a temp folder\n",
      "Checking connected components after skeletonize_connected_branch\n",
      "    Total time for skeletonizing branch: 13.519694089889526\n",
      "Checking connected components after removing cycles\n",
      "Total time for mesh KDTree = 0.1620168685913086\n",
      "sbv[0].reshape(-1,3) = [[ 624475.6  436657.3 1048499. ]]\n",
      "closest_sk_pt_coord BEFORE = [ 624324.  435515. 1049000.]\n",
      "current_skeleton.shape = (747, 2, 3)\n",
      "node_for_stitch = 259: [ 624324.  435515. 1049000.]\n",
      "node_for_stitch AFTER = 259: [ 624324.  435515. 1049000.]\n",
      "possible_node_loc = [  0  17  60 144 408 553 600 658 681 733 745]\n",
      "possible_node_loc AFTER = [  0  17  60 144 408 553 600 658 681 733 745]\n",
      "curr_shortest_path = [259, 263.0, 268.0, 276.0, 295.0, 308.0, 320.0, 329.0, 331.0, 330.0, 327.0, 319.0, 313.0, 306.0, 301.0, 293.0, 283.0, 275.0, 274.0, 271.0, 272.0, 273.0, 278.0, 281.0, 284.0, 290.0, 292.0, 296.0, 297.0, 303.0, 310.0, 318.0, 332.0, 333.0, 334.0, 335.0, 337.0, 338.0, 340.0, 342.0, 343.0, 344.0, 341.0, 339.0, 336.0, 328.0, 279.0, 264.0, 256.0, 252.0, 246.0, 241.0, 222.0, 205.0, 200.0, 194.0, 182.0, 180.0, 178.0, 176.0, 173.0, 172.0, 170.0, 168.0, 167.0, 165.0, 164.0, 162.0, 161.0, 159.0, 157.0, 155.0, 154.0, 153.0, 151.0, 150.0, 148.0, 147.0, 145.0, 142.0, 141.0, 139.0, 137.0, 135.0, 132.0, 131.0, 129.0, 127.0, 126.0, 124.0, 122.0, 120.0, 118.0, 116.0, 113.0, 111.0, 112.0, 115.0, 117.0, 119.0, 123.0, 130.0, 136.0, 144.0]\n",
      "Current stitch point was not a branch or endpoint, shortest_path_length to one = 15494.1889773808\n",
      "change_status for create soma extending pieces = False\n",
      "closest_sk_pt_coord AFTER = [ 624324.  435515. 1049000.]\n",
      "Adding new branch to skeleton\n",
      "border_average_coordinate = [ 624362.215       435446.77833333 1048904.38333333]\n",
      "endpoints_must_keep = {0: array([[ 624362.215     ,  435446.77833333, 1048904.38333333]])}\n",
      "    Total time for Fixing Skeleton Soma Endpoint Extension : 0.36457085609436035\n",
      "filter_end_node_length = 4000\n",
      "Using Distance measure skeletal_distance\n",
      "endpoints_must_keep = [[ 624362.215       435446.77833333 1048904.38333333]]\n",
      "Number of end_nodes BEFORE filtering = 12\n",
      "all_single_nodes_to_eliminate = [4]\n"
     ]
    },
    {
     "data": {
      "application/vnd.jupyter.widget-view+json": {
       "model_id": "039045dce6c14442a2722db2a5243525",
       "version_major": 2,
       "version_minor": 0
      },
      "text/plain": [
       "HBox(children=(FloatProgress(value=0.0, max=8.0), HTML(value='')))"
      ]
     },
     "metadata": {},
     "output_type": "display_data"
    },
    {
     "name": "stdout",
     "output_type": "stream",
     "text": [
      "\n",
      "Checking connected components after clean_skeleton\n",
      "after DISTANCE cleaning limb size of skeleton = (712, 2, 3)\n",
      "********COMBINING CLOSE SKELETON NODES WITHIN 700 DISTANCE**********\n",
      "Found 0 valid paths to replace\n",
      "valid_paths = []\n",
      "valid_path_lengths = []\n",
      "No valid paths found so just returning the original\n",
      "skeletonize_and_clean_connected_branch_CGAL: 15.192904710769653\n",
      "Working on limb correspondence for #0 MAP piece\n",
      "xvfb-run -n 4076 -s \"-screen 0 800x600x24\" meshlabserver $@  -i /notebooks/Auto_Proofreading/Preprocessing_Pipeline/temp/neuron_68377.off -o /notebooks/Auto_Proofreading/Preprocessing_Pipeline/temp/neuron_68377_remove_interior.off -s /notebooks/Auto_Proofreading/Preprocessing_Pipeline/temp/remove_interior_277373.mls\n",
      "removed temporary input file: /notebooks/Auto_Proofreading/Preprocessing_Pipeline/temp/neuron_68377.off\n",
      "removed temporary output file: /notebooks/Auto_Proofreading/Preprocessing_Pipeline/temp/neuron_68377_remove_interior.off\n",
      "/notebooks/Auto_Proofreading/Preprocessing_Pipeline/temp/remove_interior_277373.mls is being deleted....\n",
      "THERE WERE NO MESH PIECES GREATER THAN THE significance_threshold\n",
      "No significant (100) interior meshes present\n",
      "largest is 28\n"
     ]
    },
    {
     "data": {
      "application/vnd.jupyter.widget-view+json": {
       "model_id": "23367b3464fc436f99b85ab30a6e1992",
       "version_major": 2,
       "version_minor": 0
      },
      "text/plain": [
       "HBox(children=(FloatProgress(value=1.0, bar_style='info', max=1.0), HTML(value='')))"
      ]
     },
     "metadata": {},
     "output_type": "display_data"
    },
    {
     "name": "stdout",
     "output_type": "stream",
     "text": [
      "\n",
      "Total time for decomposition = 3.5440139770507812\n",
      "mesh_correspondence_first_pass: 3.5440423488616943\n",
      "Limb decomposed into 5 branches\n",
      "divided_skeleton_graph_recovered = (712, 2, 3) and \n",
      "current_mesh_data[0]['branch_skeletons_cleaned'].shape = (712, 2, 3)\n",
      "\n",
      "Number of connected components in deocmposed recovered graph = 1\n",
      "Number of connected components in cleaned skeleton graph= 1\n",
      "The downsampled branches number of connected components = 1\n",
      "Empty submeshes = []\n",
      "\n",
      "\n",
      "--- Working on 1-to-1 correspondence-----\n",
      "max(original_labels),len(original_labels) = (4, 5)\n",
      "empty_indices % = 0.18476783443679573\n",
      " conflict_indices % = 0.015609242776340597\n"
     ]
    },
    {
     "data": {
      "application/vnd.jupyter.widget-view+json": {
       "model_id": "060fa1e0c71149d1acf01a6b25dc6bc3",
       "version_major": 2,
       "version_minor": 0
      },
      "text/plain": [
       "HBox(children=(FloatProgress(value=0.0, max=50.0), HTML(value='')))"
      ]
     },
     "metadata": {},
     "output_type": "display_data"
    },
    {
     "name": "stdout",
     "output_type": "stream",
     "text": [
      "\n",
      "AFTER face_lookup_resolved_test\n",
      "Took 1 iterations to expand the label back\n",
      "empty_indices % = 0.0\n",
      " conflict_indices % = 0.0018415398781075985\n"
     ]
    },
    {
     "data": {
      "application/vnd.jupyter.widget-view+json": {
       "model_id": "720c99bd225a428e8ac32feba5b5f3b7",
       "version_major": 2,
       "version_minor": 0
      },
      "text/plain": [
       "HBox(children=(FloatProgress(value=0.0, max=1.0), HTML(value='')))"
      ]
     },
     "metadata": {},
     "output_type": "display_data"
    },
    {
     "name": "stdout",
     "output_type": "stream",
     "text": [
      "\n",
      "AFTER face_lookup_resolved_test\n"
     ]
    },
    {
     "data": {
      "application/vnd.jupyter.widget-view+json": {
       "model_id": "1bf2952fc7e7420594be584cbf09b14c",
       "version_major": 2,
       "version_minor": 0
      },
      "text/plain": [
       "HBox(children=(FloatProgress(value=0.0, max=5.0), HTML(value='')))"
      ]
     },
     "metadata": {},
     "output_type": "display_data"
    },
    {
     "name": "stdout",
     "output_type": "stream",
     "text": [
      "\n",
      "Total time for MAP sublimb #0 mesh processing = 21.814703941345215\n",
      "correspondence_1_to_1: 3.076359987258911\n",
      "Total time for MAP sublimb processing 21.814825534820557\n",
      "---- Working on MP Decomposition #0 ----\n",
      "Computing the current soma touching verts dict manually\n",
      "MP filtering soma verts: 0.003417491912841797\n",
      "Do Not Need to Fix MP Decomposition 0 so just continuing\n",
      "---- Working on MP Decomposition #1 ----\n",
      "Computing the current soma touching verts dict manually\n",
      "MP filtering soma verts: 0.004591226577758789\n",
      "Do Not Need to Fix MP Decomposition 1 so just continuing\n",
      "---- Working on MP Decomposition #2 ----\n",
      "Computing the current soma touching verts dict manually\n",
      "MP filtering soma verts: 0.002295970916748047\n",
      "Do Not Need to Fix MP Decomposition 2 so just continuing\n",
      "---- Working on MP Decomposition #3 ----\n",
      "Computing the current soma touching verts dict manually\n",
      "MP filtering soma verts: 0.0028696060180664062\n",
      "Do Not Need to Fix MP Decomposition 3 so just continuing\n",
      "---- Working on MP Decomposition #4 ----\n",
      "Computing the current soma touching verts dict manually\n",
      "MP filtering soma verts: 0.0011301040649414062\n",
      "Do Not Need to Fix MP Decomposition 4 so just continuing\n",
      "Successful mesh connectivity with type edges\n",
      "\n",
      "---- Working on (0, 0) connection-----\n",
      "node_for_stitch = 710: [ 633497.  404578. 1005130.]\n",
      "node_for_stitch AFTER = 710: [ 633497.  404578. 1005130.]\n",
      "possible_node_loc = [338 710]\n",
      "possible_node_loc AFTER = [338 710]\n",
      "curr_shortest_path = [710]\n",
      "Current stitch point was a branch or endpoint\n",
      "sk_conn = [0, 1]\n",
      "conn = [0, 1]\n",
      "winning_vertex = [ 633307.65940549  404430.31870308 1004504.3559267 ]\n",
      "MP_branches_with_stitch_point = [0, 1]\n",
      "MAP_branches_with_stitch_point = [4]\n",
      "MAP_stitch_point_on_end_or_branch = True\n"
     ]
    },
    {
     "data": {
      "application/vnd.jupyter.widget-view+json": {
       "model_id": "ff2a122d608140ea91f7f0c0dba9dc84",
       "version_major": 2,
       "version_minor": 0
      },
      "text/plain": [
       "HBox(children=(FloatProgress(value=1.0, bar_style='info', max=1.0), HTML(value='')))"
      ]
     },
     "metadata": {},
     "output_type": "display_data"
    },
    {
     "name": "stdout",
     "output_type": "stream",
     "text": [
      "\n",
      "\n",
      "\n",
      "--- Working on 1-to-1 correspondence-----\n",
      "max(original_labels),len(original_labels) = (2, 3)\n",
      "empty_indices % = 0.21750989881214255\n",
      " conflict_indices % = 0.011321308109693503\n"
     ]
    },
    {
     "data": {
      "application/vnd.jupyter.widget-view+json": {
       "model_id": "d785a34fdfef4c73880e900b55a07564",
       "version_major": 2,
       "version_minor": 0
      },
      "text/plain": [
       "HBox(children=(FloatProgress(value=0.0, max=58.0), HTML(value='')))"
      ]
     },
     "metadata": {},
     "output_type": "display_data"
    },
    {
     "name": "stdout",
     "output_type": "stream",
     "text": [
      "\n",
      "AFTER face_lookup_resolved_test\n"
     ]
    },
    {
     "data": {
      "application/vnd.jupyter.widget-view+json": {
       "model_id": "faf9921e6ca54be8a3319de95f1f916f",
       "version_major": 2,
       "version_minor": 0
      },
      "text/plain": [
       "HBox(children=(FloatProgress(value=0.0, max=3.0), HTML(value='')))"
      ]
     },
     "metadata": {},
     "output_type": "display_data"
    },
    {
     "name": "stdout",
     "output_type": "stream",
     "text": [
      "\n",
      "MP_branches_with_stitch_point= [0, 1]\n",
      "MP_branches_for_correspondence = [0 1]\n",
      "MP_leftover = [], MP_leftover_idx = []\n",
      " Finished with (0, 0) \n",
      "\n",
      "\n",
      "\n",
      "\n",
      "---- Working on (1, 0) connection-----\n",
      "node_for_stitch = 56: [ 621903.  449713. 1037540.]\n",
      "node_for_stitch AFTER = 56: [ 621903.  449713. 1037540.]\n",
      "possible_node_loc = [ 56 252]\n",
      "possible_node_loc AFTER = [ 56 252]\n",
      "curr_shortest_path = [56]\n",
      "Current stitch point was a branch or endpoint\n",
      "sk_conn = [2, 5]\n",
      "conn = [2, 5]\n",
      "winning_vertex = [ 621322.60754686  449801.11298502 1037347.67591619]\n",
      "MP_branches_with_stitch_point = [2, 5]\n",
      "MAP_branches_with_stitch_point = [1]\n",
      "MAP_stitch_point_on_end_or_branch = True\n"
     ]
    },
    {
     "data": {
      "application/vnd.jupyter.widget-view+json": {
       "model_id": "8939090df8184dc6b1c22404ef8a0e51",
       "version_major": 2,
       "version_minor": 0
      },
      "text/plain": [
       "HBox(children=(FloatProgress(value=1.0, bar_style='info', max=1.0), HTML(value='')))"
      ]
     },
     "metadata": {},
     "output_type": "display_data"
    },
    {
     "name": "stdout",
     "output_type": "stream",
     "text": [
      "\n",
      "\n",
      "\n",
      "--- Working on 1-to-1 correspondence-----\n",
      "max(original_labels),len(original_labels) = (2, 3)\n",
      "empty_indices % = 0.23644205986008102\n",
      " conflict_indices % = 0.011993056651412341\n"
     ]
    },
    {
     "data": {
      "application/vnd.jupyter.widget-view+json": {
       "model_id": "9c08f05de7324b20946b1d18983e0dc9",
       "version_major": 2,
       "version_minor": 0
      },
      "text/plain": [
       "HBox(children=(FloatProgress(value=0.0, max=50.0), HTML(value='')))"
      ]
     },
     "metadata": {},
     "output_type": "display_data"
    },
    {
     "name": "stdout",
     "output_type": "stream",
     "text": [
      "\n",
      "AFTER face_lookup_resolved_test\n"
     ]
    },
    {
     "data": {
      "application/vnd.jupyter.widget-view+json": {
       "model_id": "cd4e9577702e4d7d8812de144e3c3396",
       "version_major": 2,
       "version_minor": 0
      },
      "text/plain": [
       "HBox(children=(FloatProgress(value=0.0, max=3.0), HTML(value='')))"
      ]
     },
     "metadata": {},
     "output_type": "display_data"
    },
    {
     "name": "stdout",
     "output_type": "stream",
     "text": [
      "\n",
      "MP_branches_with_stitch_point= [2, 5]\n",
      "MP_branches_for_correspondence = [2 5]\n",
      "MP_leftover = [], MP_leftover_idx = []\n",
      " Finished with (1, 0) \n",
      "\n",
      "\n",
      "\n",
      "\n",
      "---- Working on (2, 0) connection-----\n",
      "node_for_stitch = 183: [ 623916.  436443. 1046200.]\n",
      "node_for_stitch AFTER = 183: [ 623916.  436443. 1046200.]\n",
      "possible_node_loc = [ 56 252]\n",
      "possible_node_loc AFTER = [ 56 252]\n",
      "curr_shortest_path = [183, 179.0, 176.0, 178.0, 180.0, 181.0, 182.0, 184.0, 188.0, 190.0, 192.0, 194.0, 201.0, 211.0, 226.0, 229.0, 236.0, 243.0, 248.0, 252.0]\n",
      "Current stitch point was not a branch or endpoint, shortest_path_length to one = 3299.0386592344216\n",
      "sk_conn = [2]\n",
      "conn = [2]\n",
      "winning_vertex = [ 623530.75876407  435698.75303183 1045954.55523038]\n",
      "MP_branches_with_stitch_point = [2]\n",
      "MAP_branches_with_stitch_point = [1]\n",
      "MAP_stitch_point_on_end_or_branch = False\n"
     ]
    },
    {
     "data": {
      "application/vnd.jupyter.widget-view+json": {
       "model_id": "13125506b63b4520a504799ab94d3ff8",
       "version_major": 2,
       "version_minor": 0
      },
      "text/plain": [
       "HBox(children=(FloatProgress(value=1.0, bar_style='info', max=1.0), HTML(value='')))"
      ]
     },
     "metadata": {},
     "output_type": "display_data"
    },
    {
     "name": "stdout",
     "output_type": "stream",
     "text": [
      "\n",
      "\n",
      "\n",
      "--- Working on 1-to-1 correspondence-----\n",
      "max(original_labels),len(original_labels) = (1, 2)\n",
      "empty_indices % = 0.10119047619047619\n",
      " conflict_indices % = 0.008432539682539682\n"
     ]
    },
    {
     "data": {
      "application/vnd.jupyter.widget-view+json": {
       "model_id": "82acd27fd408409281fa4df7bc9ecd91",
       "version_major": 2,
       "version_minor": 0
      },
      "text/plain": [
       "HBox(children=(FloatProgress(value=0.0, max=9.0), HTML(value='')))"
      ]
     },
     "metadata": {},
     "output_type": "display_data"
    },
    {
     "name": "stdout",
     "output_type": "stream",
     "text": [
      "\n",
      "AFTER face_lookup_resolved_test\n"
     ]
    },
    {
     "data": {
      "application/vnd.jupyter.widget-view+json": {
       "model_id": "f74692f910004feeae49cfd2f3e40271",
       "version_major": 2,
       "version_minor": 0
      },
      "text/plain": [
       "HBox(children=(FloatProgress(value=0.0, max=2.0), HTML(value='')))"
      ]
     },
     "metadata": {},
     "output_type": "display_data"
    },
    {
     "name": "stdout",
     "output_type": "stream",
     "text": [
      "\n"
     ]
    },
    {
     "data": {
      "application/vnd.jupyter.widget-view+json": {
       "model_id": "ce54ebc94d284a85a15be2b7638908a5",
       "version_major": 2,
       "version_minor": 0
      },
      "text/plain": [
       "HBox(children=(FloatProgress(value=1.0, bar_style='info', max=1.0), HTML(value='')))"
      ]
     },
     "metadata": {},
     "output_type": "display_data"
    },
    {
     "name": "stdout",
     "output_type": "stream",
     "text": [
      "\n",
      "\n",
      "\n",
      "--- Working on 1-to-1 correspondence-----\n",
      "max(original_labels),len(original_labels) = (2, 3)\n",
      "empty_indices % = 0.18460305719921105\n",
      " conflict_indices % = 0.01245069033530572\n"
     ]
    },
    {
     "data": {
      "application/vnd.jupyter.widget-view+json": {
       "model_id": "36d586de8d51487bbf1a28aa4abd208f",
       "version_major": 2,
       "version_minor": 0
      },
      "text/plain": [
       "HBox(children=(FloatProgress(value=0.0, max=31.0), HTML(value='')))"
      ]
     },
     "metadata": {},
     "output_type": "display_data"
    },
    {
     "name": "stdout",
     "output_type": "stream",
     "text": [
      "\n",
      "AFTER face_lookup_resolved_test\n"
     ]
    },
    {
     "data": {
      "application/vnd.jupyter.widget-view+json": {
       "model_id": "7846727fc6304421868e35a011d4b06e",
       "version_major": 2,
       "version_minor": 0
      },
      "text/plain": [
       "HBox(children=(FloatProgress(value=0.0, max=3.0), HTML(value='')))"
      ]
     },
     "metadata": {},
     "output_type": "display_data"
    },
    {
     "name": "stdout",
     "output_type": "stream",
     "text": [
      "\n",
      "Deleting branches from dictionary\n",
      "MP_branches_with_stitch_point= [2]\n",
      "MP_branches_for_correspondence = [2]\n",
      "MP_leftover = [], MP_leftover_idx = []\n",
      " Finished with (2, 0) \n",
      "\n",
      "\n",
      "\n",
      "\n",
      "---- Working on (3, 0) connection-----\n",
      "node_for_stitch = 2: [ 619821.  411152. 1038950.]\n",
      "node_for_stitch AFTER = 2: [ 619821.  411152. 1038950.]\n",
      "possible_node_loc = [  0 338]\n",
      "possible_node_loc AFTER = [  0 338]\n",
      "curr_shortest_path = [2, 1.0, 0.0]\n",
      "Current stitch point was not a branch or endpoint, shortest_path_length to one = 162.01077264319758\n",
      "Changing the stitch point becasue the distance to end or branch node was 162.01077264319758\n",
      "New stitch point has degree 1\n",
      "sk_conn = [0, 1]\n",
      "conn = [0, 1]\n",
      "winning_vertex = [ 619547.51856233  410828.84381869 1039095.64786499]\n",
      "MP_branches_with_stitch_point = [0, 1]\n",
      "MAP_branches_with_stitch_point = [0]\n",
      "MAP_stitch_point_on_end_or_branch = True\n"
     ]
    },
    {
     "data": {
      "application/vnd.jupyter.widget-view+json": {
       "model_id": "cbab039973ea4ef5b7a8a2747b32fb28",
       "version_major": 2,
       "version_minor": 0
      },
      "text/plain": [
       "HBox(children=(FloatProgress(value=1.0, bar_style='info', max=1.0), HTML(value='')))"
      ]
     },
     "metadata": {},
     "output_type": "display_data"
    },
    {
     "name": "stdout",
     "output_type": "stream",
     "text": [
      "\n",
      "\n",
      "\n",
      "--- Working on 1-to-1 correspondence-----\n",
      "max(original_labels),len(original_labels) = (2, 3)\n",
      "empty_indices % = 0.18661715279573177\n",
      " conflict_indices % = 0.004136601875572896\n"
     ]
    },
    {
     "data": {
      "application/vnd.jupyter.widget-view+json": {
       "model_id": "b76308bb2a8b49bd8dd5d4ca46251a02",
       "version_major": 2,
       "version_minor": 0
      },
      "text/plain": [
       "HBox(children=(FloatProgress(value=0.0, max=95.0), HTML(value='')))"
      ]
     },
     "metadata": {},
     "output_type": "display_data"
    },
    {
     "name": "stdout",
     "output_type": "stream",
     "text": [
      "\n",
      "AFTER face_lookup_resolved_test\n"
     ]
    },
    {
     "data": {
      "application/vnd.jupyter.widget-view+json": {
       "model_id": "b3326a5ee43e4949811183ef79e34d01",
       "version_major": 2,
       "version_minor": 0
      },
      "text/plain": [
       "HBox(children=(FloatProgress(value=0.0, max=3.0), HTML(value='')))"
      ]
     },
     "metadata": {},
     "output_type": "display_data"
    },
    {
     "name": "stdout",
     "output_type": "stream",
     "text": [
      "\n",
      "MP_branches_with_stitch_point= [0, 1]\n",
      "MP_branches_for_correspondence = [0 1]\n",
      "MP_leftover = [], MP_leftover_idx = []\n",
      " Finished with (3, 0) \n",
      "\n",
      "\n",
      "\n",
      "\n",
      "---- Working on (4, 0) connection-----\n",
      "node_for_stitch = 109: [ 622632.  424730. 1041980.]\n",
      "node_for_stitch AFTER = 109: [ 622632.  424730. 1041980.]\n",
      "possible_node_loc = [  0 338]\n",
      "possible_node_loc AFTER = [  0 338]\n",
      "curr_shortest_path = [109, 112.0, 114.0, 116.0, 118.0, 120.0, 122.0, 123.0, 125.0, 126.0, 127.0, 130.0, 131.0, 133.0, 135.0, 136.0, 138.0, 140.0, 141.0, 143.0, 144.0, 146.0, 147.0, 148.0, 150.0, 152.0, 154.0, 155.0, 157.0, 158.0, 160.0, 161.0, 163.0, 165.0, 166.0, 169.0, 171.0, 173.0, 175.0, 187.0, 193.0, 198.0, 215.0, 234.0, 239.0, 245.0, 249.0, 258.0, 273.0, 322.0, 330.0, 333.0, 335.0, 338.0]\n",
      "Current stitch point was not a branch or endpoint, shortest_path_length to one = 7424.539531309347\n",
      "sk_conn = [0]\n",
      "conn = [0]\n",
      "winning_vertex = [ 622853.08764895  424575.65267961 1041957.71557962]\n",
      "MP_branches_with_stitch_point = [0]\n",
      "MAP_branches_with_stitch_point = [0]\n",
      "MAP_stitch_point_on_end_or_branch = False\n"
     ]
    },
    {
     "data": {
      "application/vnd.jupyter.widget-view+json": {
       "model_id": "48d2e3213b6348b2a4ddad538b960b40",
       "version_major": 2,
       "version_minor": 0
      },
      "text/plain": [
       "HBox(children=(FloatProgress(value=1.0, bar_style='info', max=1.0), HTML(value='')))"
      ]
     },
     "metadata": {},
     "output_type": "display_data"
    },
    {
     "name": "stdout",
     "output_type": "stream",
     "text": [
      "\n",
      "\n",
      "\n",
      "--- Working on 1-to-1 correspondence-----\n",
      "max(original_labels),len(original_labels) = (1, 2)\n",
      "empty_indices % = 0.08831710709318498\n",
      " conflict_indices % = 0.0025498377375985167\n"
     ]
    },
    {
     "data": {
      "application/vnd.jupyter.widget-view+json": {
       "model_id": "bb79711bc3e44295958f69be9a7bef9e",
       "version_major": 2,
       "version_minor": 0
      },
      "text/plain": [
       "HBox(children=(FloatProgress(value=0.0, max=11.0), HTML(value='')))"
      ]
     },
     "metadata": {},
     "output_type": "display_data"
    },
    {
     "name": "stdout",
     "output_type": "stream",
     "text": [
      "\n",
      "AFTER face_lookup_resolved_test\n"
     ]
    },
    {
     "data": {
      "application/vnd.jupyter.widget-view+json": {
       "model_id": "61f4d3c24e14436f81ddb1cf03555d74",
       "version_major": 2,
       "version_minor": 0
      },
      "text/plain": [
       "HBox(children=(FloatProgress(value=0.0, max=2.0), HTML(value='')))"
      ]
     },
     "metadata": {},
     "output_type": "display_data"
    },
    {
     "name": "stdout",
     "output_type": "stream",
     "text": [
      "\n"
     ]
    },
    {
     "data": {
      "application/vnd.jupyter.widget-view+json": {
       "model_id": "1ea2f7b6e0b740ecb4bbfbe2892a5471",
       "version_major": 2,
       "version_minor": 0
      },
      "text/plain": [
       "HBox(children=(FloatProgress(value=1.0, bar_style='info', max=1.0), HTML(value='')))"
      ]
     },
     "metadata": {},
     "output_type": "display_data"
    },
    {
     "name": "stdout",
     "output_type": "stream",
     "text": [
      "\n",
      "\n",
      "\n",
      "--- Working on 1-to-1 correspondence-----\n",
      "max(original_labels),len(original_labels) = (2, 3)\n",
      "empty_indices % = 0.24650256773508059\n",
      " conflict_indices % = 0.01239596245794227\n"
     ]
    },
    {
     "data": {
      "application/vnd.jupyter.widget-view+json": {
       "model_id": "ae8fe4bd35f242cea1d9c3b89fa9db11",
       "version_major": 2,
       "version_minor": 0
      },
      "text/plain": [
       "HBox(children=(FloatProgress(value=0.0, max=40.0), HTML(value='')))"
      ]
     },
     "metadata": {},
     "output_type": "display_data"
    },
    {
     "name": "stdout",
     "output_type": "stream",
     "text": [
      "\n",
      "AFTER face_lookup_resolved_test\n"
     ]
    },
    {
     "data": {
      "application/vnd.jupyter.widget-view+json": {
       "model_id": "f5718a7c1eca45eea106d3f46180cf65",
       "version_major": 2,
       "version_minor": 0
      },
      "text/plain": [
       "HBox(children=(FloatProgress(value=0.0, max=3.0), HTML(value='')))"
      ]
     },
     "metadata": {},
     "output_type": "display_data"
    },
    {
     "name": "stdout",
     "output_type": "stream",
     "text": [
      "\n",
      "Deleting branches from dictionary\n",
      "MP_branches_with_stitch_point= [0]\n",
      "MP_branches_for_correspondence = [0]\n",
      "MP_leftover = [], MP_leftover_idx = []\n",
      " Finished with (4, 0) \n",
      "\n",
      "\n",
      "\n",
      "Time for decomp of Limb = 63.90504455566406\n",
      "Number of matching vertices = 60\n",
      "Only one endpoint after filtering away the endpoints that are not on the skeleton\n",
      "Using Distance measure skeletal_distance\n",
      "endpoints_must_keep = [[ 624362.215       435446.77833333 1048904.38333333]]\n",
      "Number of end_nodes BEFORE filtering = 12\n",
      "all_single_nodes_to_eliminate = [8]\n",
      "no small end nodes to get rid of so returning whole skeleton\n",
      "Removed 0 skeletal branches\n"
     ]
    },
    {
     "data": {
      "application/vnd.jupyter.widget-view+json": {
       "model_id": "2724b0f3a0434097ab2d6fccff85fac7",
       "version_major": 2,
       "version_minor": 0
      },
      "text/plain": [
       "HBox(children=(FloatProgress(value=0.0, max=21.0), HTML(value='')))"
      ]
     },
     "metadata": {},
     "output_type": "display_data"
    },
    {
     "name": "stdout",
     "output_type": "stream",
     "text": [
      "\n",
      "164951 164952\n",
      "For marked faces: None\n",
      "empty_indices % = 0.0\n",
      " conflict_indices % = 0.0\n"
     ]
    },
    {
     "data": {
      "application/vnd.jupyter.widget-view+json": {
       "model_id": "d6ae0401ba884ecf8ff3878862e676c4",
       "version_major": 2,
       "version_minor": 0
      },
      "text/plain": [
       "HBox(children=(FloatProgress(value=1.0, bar_style='info', max=1.0), HTML(value='')))"
      ]
     },
     "metadata": {},
     "output_type": "display_data"
    },
    {
     "name": "stdout",
     "output_type": "stream",
     "text": [
      "\n",
      "AFTER face_lookup_resolved_test\n"
     ]
    },
    {
     "data": {
      "application/vnd.jupyter.widget-view+json": {
       "model_id": "49d2bbdd6d164f98adedbc61a288a4f0",
       "version_major": 2,
       "version_minor": 0
      },
      "text/plain": [
       "HBox(children=(FloatProgress(value=0.0, max=21.0), HTML(value='')))"
      ]
     },
     "metadata": {},
     "output_type": "display_data"
    },
    {
     "name": "stderr",
     "output_type": "stream",
     "text": [
      "\r",
      "  0%|          | 0/1 [00:00<?, ?it/s]"
     ]
    },
    {
     "name": "stdout",
     "output_type": "stream",
     "text": [
      "\n",
      "\n",
      "\n",
      "----- Working on Proper Limb # 3 ---------\n",
      "meshparty_segment_size = 100\n",
      "root_curr = [ 625716.4  444587.6 1051446. ]\n",
      "Time for preparing soma vertices and root: 0.0003924369812011719\n",
      "invalidation_d = 12000\n",
      "cc_vertex_thresh = 10\n"
     ]
    },
    {
     "data": {
      "application/vnd.jupyter.widget-view+json": {
       "model_id": "a33bd27e30514d10a7f90136713f41f4",
       "version_major": 2,
       "version_minor": 0
      },
      "text/plain": [
       "HBox(children=(FloatProgress(value=0.0, max=52011.0), HTML(value='')))"
      ]
     },
     "metadata": {},
     "output_type": "display_data"
    },
    {
     "name": "stderr",
     "output_type": "stream",
     "text": [
      "100%|██████████| 1/1 [00:00<00:00,  2.08it/s]"
     ]
    },
    {
     "name": "stdout",
     "output_type": "stream",
     "text": [
      "\n"
     ]
    },
    {
     "name": "stderr",
     "output_type": "stream",
     "text": [
      "\n"
     ]
    },
    {
     "name": "stdout",
     "output_type": "stream",
     "text": [
      "meshparty_segment_size = 100\n",
      "Time for 1st pass MP skeletonization: 0.97359299659729\n",
      "connecting at the root\n",
      "branches_touching_root = [14]\n",
      "length of Graph = 5870\n",
      "After combining close endpoints max(kept_branches_idx) = 14, len(kept_branches_idx) = 15\n",
      "empty_indices % = 0.0\n",
      " conflict_indices % = 0.0052827574261712995\n"
     ]
    },
    {
     "data": {
      "application/vnd.jupyter.widget-view+json": {
       "model_id": "3a0b34676a3a429f9c12838d765da6ec",
       "version_major": 2,
       "version_minor": 0
      },
      "text/plain": [
       "HBox(children=(FloatProgress(value=0.0, max=7.0), HTML(value='')))"
      ]
     },
     "metadata": {},
     "output_type": "display_data"
    },
    {
     "name": "stdout",
     "output_type": "stream",
     "text": [
      "\n",
      "AFTER face_lookup_resolved_test\n"
     ]
    },
    {
     "data": {
      "application/vnd.jupyter.widget-view+json": {
       "model_id": "9e769338d4b849718a761b436f9fbd8d",
       "version_major": 2,
       "version_minor": 0
      },
      "text/plain": [
       "HBox(children=(FloatProgress(value=0.0, max=15.0), HTML(value='')))"
      ]
     },
     "metadata": {},
     "output_type": "display_data"
    },
    {
     "name": "stdout",
     "output_type": "stream",
     "text": [
      "\n",
      "Decomposing first pass: 4.706439256668091\n",
      "Attempting to use MeshAfterParty Skeletonization and Mesh Correspondence\n",
      "Another print\n",
      "Found len(mesh_large_idx) MAP candidates: [789, 2875, 1236]\n",
      "mesh_large_connectivity: 0.0028476715087890625\n",
      "Finding MAP candidates connected components: 0.00010967254638671875\n",
      "len(filtered_pieces) = 1\n",
      "skeleton_connectivity_MP : 0.22113418579101562\n",
      "Grouping MP Sublimbs by Graph: 0.04657244682312012\n",
      "Divinding into MP and MAP pieces: 7.152557373046875e-07\n",
      "--- Working on MAP piece 0---\n",
      "MAP Filtering Soma Pieces: 0.003959178924560547\n",
      "inside skeletonize_connected_branch and use_surface_after_CGAL=False, surface_reconstruction_size=1000\n",
      "     Starting Screened Poisson\n",
      "xvfb-run -n 4076 -s \"-screen 0 800x600x24\" meshlabserver $@  -i /notebooks/Auto_Proofreading/Preprocessing_Pipeline/temp/None.off -o /notebooks/Auto_Proofreading/Preprocessing_Pipeline/temp/None_poisson.off -s /notebooks/Auto_Proofreading/Preprocessing_Pipeline/temp/poisson_107450.mls\n",
      "removed temporary input file: /notebooks/Auto_Proofreading/Preprocessing_Pipeline/temp/None.off\n",
      "removed temporary output file: /notebooks/Auto_Proofreading/Preprocessing_Pipeline/temp/None_poisson.off\n",
      "Using the close holes feature\n",
      "Mesh was manifold\n",
      "No holes needed to fill and mesh was manifold so returning original mesh\n",
      "-----Time for Screened Poisson= 5.712641477584839\n",
      "mesh_pieces = [<trimesh.Trimesh(vertices.shape=(6310, 3), faces.shape=(12616, 3))>]\n",
      "     Starting Calcification (Changed back where stitches large poissons)\n",
      "min_edge_length = 75\n"
     ]
    },
    {
     "data": {
      "application/vnd.jupyter.widget-view+json": {
       "model_id": "7a298bef3ffc4b38b9053009f23243b5",
       "version_major": 2,
       "version_minor": 0
      },
      "text/plain": [
       "HBox(children=(FloatProgress(value=1.0, bar_style='info', max=1.0), HTML(value='')))"
      ]
     },
     "metadata": {},
     "output_type": "display_data"
    },
    {
     "name": "stdout",
     "output_type": "stream",
     "text": [
      "\n",
      "No skeletons to stack so returning empty list\n",
      "len_subgraphs AT BEGINNING of the loop\n"
     ]
    },
    {
     "data": {
      "application/vnd.jupyter.widget-view+json": {
       "model_id": "26d0d31fd59a4c9ba524c0fc1d99dc9f",
       "version_major": 2,
       "version_minor": 0
      },
      "text/plain": [
       "HBox(children=(FloatProgress(value=0.0, max=1.0), HTML(value='')))"
      ]
     },
     "metadata": {},
     "output_type": "display_data"
    },
    {
     "name": "stdout",
     "output_type": "stream",
     "text": [
      "all graph is one component!\n",
      "\n",
      "Total time for skeleton stitching = 0.025408029556274414\n",
      "The process was using a temp folder\n",
      "Checking connected components after skeletonize_connected_branch\n",
      "    Total time for skeletonizing branch: 6.200742244720459\n",
      "Checking connected components after removing cycles\n",
      "    Total time for Fixing Skeleton Soma Endpoint Extension : 0.0074002742767333984\n",
      "filter_end_node_length = 4000\n",
      "xvfb-run -n 4076 -s \"-screen 0 800x600x24\" meshlabserver $@  -i /notebooks/Auto_Proofreading/Preprocessing_Pipeline/temp/neuron_53412.off -o /notebooks/Auto_Proofreading/Preprocessing_Pipeline/temp/neuron_53412_remove_interior.off -s /notebooks/Auto_Proofreading/Preprocessing_Pipeline/temp/remove_interior_352138.mls\n",
      "removed temporary input file: /notebooks/Auto_Proofreading/Preprocessing_Pipeline/temp/neuron_53412.off\n",
      "removed temporary output file: /notebooks/Auto_Proofreading/Preprocessing_Pipeline/temp/neuron_53412_remove_interior.off\n",
      "/notebooks/Auto_Proofreading/Preprocessing_Pipeline/temp/remove_interior_352138.mls is being deleted....\n",
      "THERE WERE NO MESH PIECES GREATER THAN THE significance_threshold\n",
      "THERE WERE NO MESH PIECES GREATER THAN THE significance_threshold\n",
      "No significant (100) interior meshes present\n",
      "Using Distance measure skeletal_distance\n",
      "endpoints_must_keep = [[ 632398.  453719. 1034800.]]\n",
      "Number of end_nodes BEFORE filtering = 4\n",
      "all_single_nodes_to_eliminate = [1]\n"
     ]
    },
    {
     "data": {
      "application/vnd.jupyter.widget-view+json": {
       "model_id": "e8a7ab2ad26c4a70907ad5f9f93367e0",
       "version_major": 2,
       "version_minor": 0
      },
      "text/plain": [
       "HBox(children=(FloatProgress(value=0.0, max=2.0), HTML(value='')))"
      ]
     },
     "metadata": {},
     "output_type": "display_data"
    },
    {
     "name": "stdout",
     "output_type": "stream",
     "text": [
      "\n",
      "Checking connected components after clean_skeleton\n",
      "after DISTANCE cleaning limb size of skeleton = (161, 2, 3)\n",
      "********COMBINING CLOSE SKELETON NODES WITHIN 700 DISTANCE**********\n",
      "Found 0 valid paths to replace\n",
      "valid_paths = []\n",
      "valid_path_lengths = []\n",
      "No valid paths found so just returning the original\n",
      "Inside MAP decomposition and curr_limb_endpoints_must_keep was None\n",
      "skeletonize_and_clean_connected_branch_CGAL: 7.46404767036438\n",
      "Working on limb correspondence for #0 MAP piece\n",
      "xvfb-run -n 4076 -s \"-screen 0 800x600x24\" meshlabserver $@  -i /notebooks/Auto_Proofreading/Preprocessing_Pipeline/temp/neuron_43121.off -o /notebooks/Auto_Proofreading/Preprocessing_Pipeline/temp/neuron_43121_remove_interior.off -s /notebooks/Auto_Proofreading/Preprocessing_Pipeline/temp/remove_interior_428934.mls\n",
      "removed temporary input file: /notebooks/Auto_Proofreading/Preprocessing_Pipeline/temp/neuron_43121.off\n",
      "removed temporary output file: /notebooks/Auto_Proofreading/Preprocessing_Pipeline/temp/neuron_43121_remove_interior.off\n",
      "/notebooks/Auto_Proofreading/Preprocessing_Pipeline/temp/remove_interior_428934.mls is being deleted....\n",
      "THERE WERE NO MESH PIECES GREATER THAN THE significance_threshold\n",
      "THERE WERE NO MESH PIECES GREATER THAN THE significance_threshold\n",
      "No significant (100) interior meshes present\n"
     ]
    },
    {
     "data": {
      "application/vnd.jupyter.widget-view+json": {
       "model_id": "568968cc69dd4ca5bc0a3074c0575f0f",
       "version_major": 2,
       "version_minor": 0
      },
      "text/plain": [
       "HBox(children=(FloatProgress(value=1.0, bar_style='info', max=1.0), HTML(value='')))"
      ]
     },
     "metadata": {},
     "output_type": "display_data"
    },
    {
     "name": "stdout",
     "output_type": "stream",
     "text": [
      "\n",
      "Total time for decomposition = 1.4172086715698242\n",
      "mesh_correspondence_first_pass: 1.4172444343566895\n",
      "Limb decomposed into 1 branches\n",
      "divided_skeleton_graph_recovered = (161, 2, 3) and \n",
      "current_mesh_data[0]['branch_skeletons_cleaned'].shape = (161, 2, 3)\n",
      "\n",
      "Number of connected components in deocmposed recovered graph = 1\n",
      "Number of connected components in cleaned skeleton graph= 1\n",
      "The downsampled branches number of connected components = 1\n",
      "Empty submeshes = []\n",
      "\n",
      "\n",
      "--- Working on 1-to-1 correspondence-----\n",
      "max(original_labels),len(original_labels) = (0, 1)\n",
      "empty_indices % = 0.15489795918367347\n",
      " conflict_indices % = 0.0\n"
     ]
    },
    {
     "data": {
      "application/vnd.jupyter.widget-view+json": {
       "model_id": "744022192f3d4fe6ae7464ef9603614a",
       "version_major": 2,
       "version_minor": 0
      },
      "text/plain": [
       "HBox(children=(FloatProgress(value=0.0, max=16.0), HTML(value='')))"
      ]
     },
     "metadata": {},
     "output_type": "display_data"
    },
    {
     "name": "stdout",
     "output_type": "stream",
     "text": [
      "\n",
      "AFTER face_lookup_resolved_test\n"
     ]
    },
    {
     "data": {
      "application/vnd.jupyter.widget-view+json": {
       "model_id": "2939d7b6b92f4ce1975484f9b7aa28bb",
       "version_major": 2,
       "version_minor": 0
      },
      "text/plain": [
       "HBox(children=(FloatProgress(value=0.0, max=1.0), HTML(value='')))"
      ]
     },
     "metadata": {},
     "output_type": "display_data"
    },
    {
     "name": "stdout",
     "output_type": "stream",
     "text": [
      "\n",
      "Total time for MAP sublimb #0 mesh processing = 9.102406024932861\n",
      "correspondence_1_to_1: 0.21709847450256348\n",
      "Total time for MAP sublimb processing 9.102517127990723\n",
      "---- Working on MP Decomposition #0 ----\n",
      "Computing the current soma touching verts dict manually\n",
      "MP filtering soma verts: 0.005011081695556641\n",
      "Fixing Possible Soma Extension Branch for Sublimb 0\n",
      "Total time for mesh KDTree = 0.13066792488098145\n",
      "sbv[0].reshape(-1,3) = [[ 625716.4  444587.6 1051446. ]]\n",
      "closest_sk_pt_coord BEFORE = [ 626777.10899578  450479.62079279 1044662.19042499]\n",
      "current_skeleton.shape = (864, 2, 3)\n",
      "node_for_stitch = 823: [ 626777.10899578  450479.62079279 1044662.19042499]\n",
      "node_for_stitch AFTER = 823: [ 626777.10899578  450479.62079279 1044662.19042499]\n",
      "possible_node_loc = [  0 864]\n",
      "possible_node_loc AFTER = [  0 864]\n",
      "curr_shortest_path = [823, 824.0, 825.0, 826.0, 827.0, 828.0, 829.0, 830.0, 831.0, 832.0, 833.0, 834.0, 835.0, 836.0, 837.0, 838.0, 839.0, 840.0, 841.0, 842.0, 843.0, 844.0, 845.0, 846.0, 847.0, 848.0, 849.0, 850.0, 851.0, 852.0, 853.0, 854.0, 855.0, 856.0, 857.0, 858.0, 859.0, 860.0, 861.0, 862.0, 863.0, 864.0]\n",
      "Current stitch point was not a branch or endpoint, shortest_path_length to one = 4054.334984594626\n",
      "change_status for create soma extending pieces = False\n",
      "closest_sk_pt_coord AFTER = [ 626777.10899578  450479.62079279 1044662.19042499]\n",
      "Adding new branch to skeleton\n",
      "border_average_coordinate = [ 626062.83666667  444228.31333333 1051475.73333333]\n",
      "endpoints_must_keep = {0: array([[ 626062.83666667,  444228.31333333, 1051475.73333333]])}\n",
      "match_sk_branches = []\n",
      "orig_vertex = [ 626777.10899578  450479.62079279 1044662.19042499]\n",
      "match_sk_branches = [6]\n"
     ]
    },
    {
     "data": {
      "application/vnd.jupyter.widget-view+json": {
       "model_id": "4df17540be7d40b8940ddea0cccdaaea",
       "version_major": 2,
       "version_minor": 0
      },
      "text/plain": [
       "HBox(children=(FloatProgress(value=1.0, bar_style='info', max=1.0), HTML(value='')))"
      ]
     },
     "metadata": {},
     "output_type": "display_data"
    },
    {
     "name": "stdout",
     "output_type": "stream",
     "text": [
      "\n",
      "\n",
      "\n",
      "--- Working on 1-to-1 correspondence-----\n",
      "max(original_labels),len(original_labels) = (2, 3)\n",
      "empty_indices % = 0.2685400260608464\n",
      " conflict_indices % = 0.011217494759503711\n"
     ]
    },
    {
     "data": {
      "application/vnd.jupyter.widget-view+json": {
       "model_id": "d60c772b2d4b4a1cbf3ba90543b519ab",
       "version_major": 2,
       "version_minor": 0
      },
      "text/plain": [
       "HBox(children=(FloatProgress(value=0.0, max=51.0), HTML(value='')))"
      ]
     },
     "metadata": {},
     "output_type": "display_data"
    },
    {
     "name": "stdout",
     "output_type": "stream",
     "text": [
      "\n",
      "AFTER face_lookup_resolved_test\n",
      "Took 0 iterations to expand the label back\n",
      "empty_indices % = 0.0\n",
      " conflict_indices % = 0.0\n"
     ]
    },
    {
     "data": {
      "application/vnd.jupyter.widget-view+json": {
       "model_id": "9a2fe8212faf46409eaba37b57395b8c",
       "version_major": 2,
       "version_minor": 0
      },
      "text/plain": [
       "HBox(children=(FloatProgress(value=1.0, bar_style='info', max=1.0), HTML(value='')))"
      ]
     },
     "metadata": {},
     "output_type": "display_data"
    },
    {
     "name": "stdout",
     "output_type": "stream",
     "text": [
      "\n",
      "AFTER face_lookup_resolved_test\n"
     ]
    },
    {
     "data": {
      "application/vnd.jupyter.widget-view+json": {
       "model_id": "e21544c70fff48c98418f3e8c72cb311",
       "version_major": 2,
       "version_minor": 0
      },
      "text/plain": [
       "HBox(children=(FloatProgress(value=0.0, max=3.0), HTML(value='')))"
      ]
     },
     "metadata": {},
     "output_type": "display_data"
    },
    {
     "name": "stdout",
     "output_type": "stream",
     "text": [
      "\n",
      "curr_width_median = 279.7473333904812\n",
      "curr_width_median = 828.8696839252932\n",
      "curr_width_median = 912.3050585351552\n",
      "checked segment branches after soma add on\n",
      "MP (because soma touching verts) soma extension add: 5.568244934082031\n",
      "---- Working on MP Decomposition #1 ----\n",
      "Computing the current soma touching verts dict manually\n",
      "MP filtering soma verts: 0.0015037059783935547\n",
      "Do Not Need to Fix MP Decomposition 1 so just continuing\n",
      "---- Working on MP Decomposition #2 ----\n",
      "Computing the current soma touching verts dict manually\n",
      "MP filtering soma verts: 0.002271413803100586\n",
      "Do Not Need to Fix MP Decomposition 2 so just continuing\n",
      "---- Working on MP Decomposition #3 ----\n",
      "Computing the current soma touching verts dict manually\n",
      "MP filtering soma verts: 0.0012862682342529297\n",
      "Do Not Need to Fix MP Decomposition 3 so just continuing\n",
      "Successful mesh connectivity with type edges\n",
      "\n",
      "---- Working on (0, 0) connection-----\n",
      "node_for_stitch = 5: [ 629420.  451799. 1042720.]\n",
      "node_for_stitch AFTER = 5: [ 629420.  451799. 1042720.]\n",
      "possible_node_loc = [ 90 154]\n",
      "possible_node_loc AFTER = [ 90 154]\n",
      "curr_shortest_path = [5, 3.0, 1.0, 0.0, 2.0, 4.0, 6.0, 7.0, 9.0, 10.0, 11.0, 13.0, 14.0, 16.0, 17.0, 19.0, 21.0, 22.0, 24.0, 26.0, 27.0, 29.0, 30.0, 32.0, 33.0, 35.0, 37.0, 40.0, 42.0, 44.0, 46.0, 48.0, 49.0, 51.0, 52.0, 54.0, 55.0, 57.0, 60.0, 61.0, 63.0, 64.0, 66.0, 68.0, 69.0, 71.0, 72.0, 73.0, 74.0, 75.0, 76.0, 77.0, 79.0, 80.0, 81.0, 82.0, 83.0, 85.0, 86.0, 87.0, 88.0, 89.0, 90.0]\n",
      "Current stitch point was not a branch or endpoint, shortest_path_length to one = 9009.870198314486\n",
      "sk_conn = [7]\n",
      "conn = [7]\n",
      "winning_vertex = [ 629463.10190309  451667.64048081 1042014.42720065]\n",
      "MP_branches_with_stitch_point = [7]\n",
      "MAP_branches_with_stitch_point = [0]\n",
      "MAP_stitch_point_on_end_or_branch = False\n"
     ]
    },
    {
     "data": {
      "application/vnd.jupyter.widget-view+json": {
       "model_id": "4b4bf2f3b1434950bacb196b9f0e685d",
       "version_major": 2,
       "version_minor": 0
      },
      "text/plain": [
       "HBox(children=(FloatProgress(value=1.0, bar_style='info', max=1.0), HTML(value='')))"
      ]
     },
     "metadata": {},
     "output_type": "display_data"
    },
    {
     "name": "stdout",
     "output_type": "stream",
     "text": [
      "\n",
      "\n",
      "\n",
      "--- Working on 1-to-1 correspondence-----\n",
      "max(original_labels),len(original_labels) = (1, 2)\n",
      "empty_indices % = 0.15836734693877552\n",
      " conflict_indices % = 0.02122448979591837\n"
     ]
    },
    {
     "data": {
      "application/vnd.jupyter.widget-view+json": {
       "model_id": "34e6e15045ef45bf8c00413ae2f73c6f",
       "version_major": 2,
       "version_minor": 0
      },
      "text/plain": [
       "HBox(children=(FloatProgress(value=0.0, max=16.0), HTML(value='')))"
      ]
     },
     "metadata": {},
     "output_type": "display_data"
    },
    {
     "name": "stdout",
     "output_type": "stream",
     "text": [
      "\n",
      "AFTER face_lookup_resolved_test\n"
     ]
    },
    {
     "data": {
      "application/vnd.jupyter.widget-view+json": {
       "model_id": "a31a49d4873e4f959cc2376f2311cb5e",
       "version_major": 2,
       "version_minor": 0
      },
      "text/plain": [
       "HBox(children=(FloatProgress(value=0.0, max=2.0), HTML(value='')))"
      ]
     },
     "metadata": {},
     "output_type": "display_data"
    },
    {
     "name": "stdout",
     "output_type": "stream",
     "text": [
      "\n"
     ]
    },
    {
     "data": {
      "application/vnd.jupyter.widget-view+json": {
       "model_id": "c9c63753d6e14ee980a8a6167d3809dd",
       "version_major": 2,
       "version_minor": 0
      },
      "text/plain": [
       "HBox(children=(FloatProgress(value=1.0, bar_style='info', max=1.0), HTML(value='')))"
      ]
     },
     "metadata": {},
     "output_type": "display_data"
    },
    {
     "name": "stdout",
     "output_type": "stream",
     "text": [
      "\n",
      "\n",
      "\n",
      "--- Working on 1-to-1 correspondence-----\n",
      "max(original_labels),len(original_labels) = (2, 3)\n",
      "empty_indices % = 0.14259829679289726\n",
      " conflict_indices % = 0.05635078818626563\n"
     ]
    },
    {
     "data": {
      "application/vnd.jupyter.widget-view+json": {
       "model_id": "1642a74c80064ed88104814b1907eae8",
       "version_major": 2,
       "version_minor": 0
      },
      "text/plain": [
       "HBox(children=(FloatProgress(value=0.0, max=3.0), HTML(value='')))"
      ]
     },
     "metadata": {},
     "output_type": "display_data"
    },
    {
     "name": "stdout",
     "output_type": "stream",
     "text": [
      "\n",
      "AFTER face_lookup_resolved_test\n"
     ]
    },
    {
     "data": {
      "application/vnd.jupyter.widget-view+json": {
       "model_id": "300fed5b961440a7b0d3f48a2712c11e",
       "version_major": 2,
       "version_minor": 0
      },
      "text/plain": [
       "HBox(children=(FloatProgress(value=0.0, max=3.0), HTML(value='')))"
      ]
     },
     "metadata": {},
     "output_type": "display_data"
    },
    {
     "name": "stdout",
     "output_type": "stream",
     "text": [
      "\n",
      "Deleting branches from dictionary\n",
      "MP_branches_with_stitch_point= [7]\n",
      "MP_branches_for_correspondence = [7]\n",
      "MP_leftover = [], MP_leftover_idx = []\n",
      " Finished with (0, 0) \n",
      "\n",
      "\n",
      "\n",
      "\n",
      "---- Working on (1, 0) connection-----\n",
      "node_for_stitch = 154: [ 639334.  460848. 1043330.]\n",
      "node_for_stitch AFTER = 154: [ 639334.  460848. 1043330.]\n",
      "possible_node_loc = [  5 154]\n",
      "possible_node_loc AFTER = [  5 154]\n",
      "curr_shortest_path = [154]\n",
      "Current stitch point was a branch or endpoint\n",
      "sk_conn = [0, 1]\n",
      "conn = [0, 1]\n",
      "winning_vertex = [ 639120.90941589  461047.57803762 1043668.88953823]\n",
      "MP_branches_with_stitch_point = [0, 1]\n",
      "MAP_branches_with_stitch_point = [1]\n",
      "MAP_stitch_point_on_end_or_branch = True\n"
     ]
    },
    {
     "data": {
      "application/vnd.jupyter.widget-view+json": {
       "model_id": "72f53bfd12d64eafa1a594b4850cf5cf",
       "version_major": 2,
       "version_minor": 0
      },
      "text/plain": [
       "HBox(children=(FloatProgress(value=1.0, bar_style='info', max=1.0), HTML(value='')))"
      ]
     },
     "metadata": {},
     "output_type": "display_data"
    },
    {
     "name": "stdout",
     "output_type": "stream",
     "text": [
      "\n",
      "\n",
      "\n",
      "--- Working on 1-to-1 correspondence-----\n",
      "max(original_labels),len(original_labels) = (2, 3)\n",
      "empty_indices % = 0.24474123539232054\n",
      " conflict_indices % = 0.015396030421072158\n"
     ]
    },
    {
     "data": {
      "application/vnd.jupyter.widget-view+json": {
       "model_id": "24b01f016dfd4338bb8aec1ee0d55dc3",
       "version_major": 2,
       "version_minor": 0
      },
      "text/plain": [
       "HBox(children=(FloatProgress(value=0.0, max=86.0), HTML(value='')))"
      ]
     },
     "metadata": {},
     "output_type": "display_data"
    },
    {
     "name": "stdout",
     "output_type": "stream",
     "text": [
      "\n",
      "AFTER face_lookup_resolved_test\n"
     ]
    },
    {
     "data": {
      "application/vnd.jupyter.widget-view+json": {
       "model_id": "825739dbf7b94a1f952137106c813b3f",
       "version_major": 2,
       "version_minor": 0
      },
      "text/plain": [
       "HBox(children=(FloatProgress(value=0.0, max=3.0), HTML(value='')))"
      ]
     },
     "metadata": {},
     "output_type": "display_data"
    },
    {
     "name": "stdout",
     "output_type": "stream",
     "text": [
      "\n",
      "MP_branches_with_stitch_point= [0, 1]\n",
      "MP_branches_for_correspondence = [0 1]\n",
      "MP_leftover = [], MP_leftover_idx = []\n",
      " Finished with (1, 0) \n",
      "\n",
      "\n",
      "\n",
      "\n",
      "---- Working on (2, 0) connection-----\n",
      "node_for_stitch = 88: [ 632396.  453634. 1034990.]\n",
      "node_for_stitch AFTER = 88: [ 632396.  453634. 1034990.]\n",
      "possible_node_loc = [ 5 90]\n",
      "possible_node_loc AFTER = [ 5 90]\n",
      "curr_shortest_path = [88, 89.0, 90.0]\n",
      "Current stitch point was not a branch or endpoint, shortest_path_length to one = 208.26813039876197\n",
      "Changing the stitch point becasue the distance to end or branch node was 208.26813039876197\n",
      "New stitch point has degree 1\n",
      "sk_conn = [0, 1]\n",
      "conn = [0, 1]\n",
      "winning_vertex = [ 632155.63868331  453876.06884843 1034644.42323593]\n",
      "MP_branches_with_stitch_point = [0, 1]\n",
      "MAP_branches_with_stitch_point = [0]\n",
      "MAP_stitch_point_on_end_or_branch = True\n"
     ]
    },
    {
     "data": {
      "application/vnd.jupyter.widget-view+json": {
       "model_id": "25577a71bac54d69b9af61c745c12c46",
       "version_major": 2,
       "version_minor": 0
      },
      "text/plain": [
       "HBox(children=(FloatProgress(value=1.0, bar_style='info', max=1.0), HTML(value='')))"
      ]
     },
     "metadata": {},
     "output_type": "display_data"
    },
    {
     "name": "stdout",
     "output_type": "stream",
     "text": [
      "\n",
      "\n",
      "\n",
      "--- Working on 1-to-1 correspondence-----\n",
      "max(original_labels),len(original_labels) = (2, 3)\n",
      "empty_indices % = 0.31254015161248877\n",
      " conflict_indices % = 0.008255171527688551\n"
     ]
    },
    {
     "data": {
      "application/vnd.jupyter.widget-view+json": {
       "model_id": "19673dd6fa27450fa5c6777087ce9321",
       "version_major": 2,
       "version_minor": 0
      },
      "text/plain": [
       "HBox(children=(FloatProgress(value=0.0, max=95.0), HTML(value='')))"
      ]
     },
     "metadata": {},
     "output_type": "display_data"
    },
    {
     "name": "stdout",
     "output_type": "stream",
     "text": [
      "\n",
      "AFTER face_lookup_resolved_test\n"
     ]
    },
    {
     "data": {
      "application/vnd.jupyter.widget-view+json": {
       "model_id": "618e5e7ed0d740acb47955076aa60e07",
       "version_major": 2,
       "version_minor": 0
      },
      "text/plain": [
       "HBox(children=(FloatProgress(value=0.0, max=3.0), HTML(value='')))"
      ]
     },
     "metadata": {},
     "output_type": "display_data"
    },
    {
     "name": "stdout",
     "output_type": "stream",
     "text": [
      "\n",
      "MP_branches_with_stitch_point= [0, 1]\n",
      "MP_branches_for_correspondence = [0 1]\n",
      "MP_leftover = [], MP_leftover_idx = []\n",
      " Finished with (2, 0) \n",
      "\n",
      "\n",
      "\n",
      "\n",
      "---- Working on (3, 0) connection-----\n",
      "node_for_stitch = 142: [ 638705.  458082. 1042080.]\n",
      "node_for_stitch AFTER = 142: [ 638705.  458082. 1042080.]\n",
      "possible_node_loc = [  5 154]\n",
      "possible_node_loc AFTER = [  5 154]\n",
      "curr_shortest_path = [142, 143.0, 144.0, 145.0, 146.0, 147.0, 148.0, 149.0, 150.0, 151.0, 152.0, 153.0, 156.0, 157.0, 160.0, 161.0, 159.0, 158.0, 155.0, 154.0]\n",
      "Current stitch point was not a branch or endpoint, shortest_path_length to one = 3157.0261606599634\n",
      "sk_conn = [0]\n",
      "conn = [0]\n",
      "winning_vertex = [ 638874.22712316  457972.64650097 1041506.25243901]\n",
      "MP_branches_with_stitch_point = [0]\n",
      "MAP_branches_with_stitch_point = [1]\n",
      "MAP_stitch_point_on_end_or_branch = False\n"
     ]
    },
    {
     "data": {
      "application/vnd.jupyter.widget-view+json": {
       "model_id": "2ff36d08bccc43f69f09f203a282970e",
       "version_major": 2,
       "version_minor": 0
      },
      "text/plain": [
       "HBox(children=(FloatProgress(value=1.0, bar_style='info', max=1.0), HTML(value='')))"
      ]
     },
     "metadata": {},
     "output_type": "display_data"
    },
    {
     "name": "stdout",
     "output_type": "stream",
     "text": [
      "\n",
      "\n",
      "\n",
      "--- Working on 1-to-1 correspondence-----\n",
      "max(original_labels),len(original_labels) = (1, 2)\n",
      "empty_indices % = 0.22750775594622544\n",
      " conflict_indices % = 0.01421923474663909\n"
     ]
    },
    {
     "data": {
      "application/vnd.jupyter.widget-view+json": {
       "model_id": "59b0529a7d3248609204712c2828e5c6",
       "version_major": 2,
       "version_minor": 0
      },
      "text/plain": [
       "HBox(children=(FloatProgress(value=0.0, max=12.0), HTML(value='')))"
      ]
     },
     "metadata": {},
     "output_type": "display_data"
    },
    {
     "name": "stdout",
     "output_type": "stream",
     "text": [
      "\n",
      "AFTER face_lookup_resolved_test\n"
     ]
    },
    {
     "data": {
      "application/vnd.jupyter.widget-view+json": {
       "model_id": "d632841808654fbe83b510f6b9d68943",
       "version_major": 2,
       "version_minor": 0
      },
      "text/plain": [
       "HBox(children=(FloatProgress(value=0.0, max=2.0), HTML(value='')))"
      ]
     },
     "metadata": {},
     "output_type": "display_data"
    },
    {
     "name": "stdout",
     "output_type": "stream",
     "text": [
      "\n"
     ]
    },
    {
     "data": {
      "application/vnd.jupyter.widget-view+json": {
       "model_id": "dcab7e26842a47b1a31254de638a8cfc",
       "version_major": 2,
       "version_minor": 0
      },
      "text/plain": [
       "HBox(children=(FloatProgress(value=1.0, bar_style='info', max=1.0), HTML(value='')))"
      ]
     },
     "metadata": {},
     "output_type": "display_data"
    },
    {
     "name": "stdout",
     "output_type": "stream",
     "text": [
      "\n",
      "\n",
      "\n",
      "--- Working on 1-to-1 correspondence-----\n",
      "max(original_labels),len(original_labels) = (2, 3)\n",
      "empty_indices % = 0.21756071523885775\n",
      " conflict_indices % = 0.018734987990392315\n"
     ]
    },
    {
     "data": {
      "application/vnd.jupyter.widget-view+json": {
       "model_id": "2c60677d2b6e42c1829c787d7e301475",
       "version_major": 2,
       "version_minor": 0
      },
      "text/plain": [
       "HBox(children=(FloatProgress(value=0.0, max=51.0), HTML(value='')))"
      ]
     },
     "metadata": {},
     "output_type": "display_data"
    },
    {
     "name": "stdout",
     "output_type": "stream",
     "text": [
      "\n",
      "AFTER face_lookup_resolved_test\n"
     ]
    },
    {
     "data": {
      "application/vnd.jupyter.widget-view+json": {
       "model_id": "2080d9303af64a79a460041e6dd8d729",
       "version_major": 2,
       "version_minor": 0
      },
      "text/plain": [
       "HBox(children=(FloatProgress(value=0.0, max=3.0), HTML(value='')))"
      ]
     },
     "metadata": {},
     "output_type": "display_data"
    },
    {
     "name": "stdout",
     "output_type": "stream",
     "text": [
      "\n",
      "Deleting branches from dictionary\n",
      "MP_branches_with_stitch_point= [0]\n",
      "MP_branches_for_correspondence = [0]\n",
      "MP_leftover = [], MP_leftover_idx = []\n",
      " Finished with (3, 0) \n",
      "\n",
      "\n",
      "\n",
      "Time for decomp of Limb = 37.33527088165283\n",
      "Number of matching vertices = 30\n",
      "Only one endpoint after filtering away the endpoints that are not on the skeleton\n",
      "Using Distance measure skeletal_distance\n",
      "endpoints_must_keep = [[ 626062.83666667  444228.31333333 1051475.73333333]]\n",
      "Number of end_nodes BEFORE filtering = 10\n",
      "all_single_nodes_to_eliminate = [5]\n",
      "no small end nodes to get rid of so returning whole skeleton\n",
      "Removed 0 skeletal branches\n"
     ]
    },
    {
     "data": {
      "application/vnd.jupyter.widget-view+json": {
       "model_id": "1b979253fbcb41e5bb1e6baaac4985a7",
       "version_major": 2,
       "version_minor": 0
      },
      "text/plain": [
       "HBox(children=(FloatProgress(value=0.0, max=17.0), HTML(value='')))"
      ]
     },
     "metadata": {},
     "output_type": "display_data"
    },
    {
     "name": "stdout",
     "output_type": "stream",
     "text": [
      "\n",
      "103922 103923\n",
      "For marked faces: None\n",
      "empty_indices % = 0.0\n",
      " conflict_indices % = 0.0\n"
     ]
    },
    {
     "data": {
      "application/vnd.jupyter.widget-view+json": {
       "model_id": "883cf53295d54d0f90346f00b55cb99e",
       "version_major": 2,
       "version_minor": 0
      },
      "text/plain": [
       "HBox(children=(FloatProgress(value=1.0, bar_style='info', max=1.0), HTML(value='')))"
      ]
     },
     "metadata": {},
     "output_type": "display_data"
    },
    {
     "name": "stdout",
     "output_type": "stream",
     "text": [
      "\n",
      "AFTER face_lookup_resolved_test\n"
     ]
    },
    {
     "data": {
      "application/vnd.jupyter.widget-view+json": {
       "model_id": "6f08416702424124949646fb04825fd5",
       "version_major": 2,
       "version_minor": 0
      },
      "text/plain": [
       "HBox(children=(FloatProgress(value=0.0, max=17.0), HTML(value='')))"
      ]
     },
     "metadata": {},
     "output_type": "display_data"
    },
    {
     "name": "stderr",
     "output_type": "stream",
     "text": [
      "\r",
      "  0%|          | 0/1 [00:00<?, ?it/s]"
     ]
    },
    {
     "name": "stdout",
     "output_type": "stream",
     "text": [
      "\n",
      "\n",
      "\n",
      "----- Working on Proper Limb # 4 ---------\n",
      "meshparty_segment_size = 100\n",
      "root_curr = [ 627850.2  432179.9 1061785. ]\n",
      "Time for preparing soma vertices and root: 0.00042700767517089844\n",
      "invalidation_d = 12000\n",
      "cc_vertex_thresh = 10\n"
     ]
    },
    {
     "data": {
      "application/vnd.jupyter.widget-view+json": {
       "model_id": "cbce645789c54e7782e25f27d79e184b",
       "version_major": 2,
       "version_minor": 0
      },
      "text/plain": [
       "HBox(children=(FloatProgress(value=0.0, max=40454.0), HTML(value='')))"
      ]
     },
     "metadata": {},
     "output_type": "display_data"
    },
    {
     "name": "stderr",
     "output_type": "stream",
     "text": [
      "100%|██████████| 1/1 [00:00<00:00,  3.86it/s]"
     ]
    },
    {
     "name": "stdout",
     "output_type": "stream",
     "text": [
      "\n"
     ]
    },
    {
     "name": "stderr",
     "output_type": "stream",
     "text": [
      "\n"
     ]
    },
    {
     "name": "stdout",
     "output_type": "stream",
     "text": [
      "meshparty_segment_size = 100\n",
      "Time for 1st pass MP skeletonization: 0.6304271221160889\n",
      "connecting at the root\n",
      "branches_touching_root = [6]\n",
      "length of Graph = 3887\n",
      "After combining close endpoints max(kept_branches_idx) = 6, len(kept_branches_idx) = 7\n",
      "empty_indices % = 0.0\n",
      " conflict_indices % = 0.0029990953142233954\n"
     ]
    },
    {
     "data": {
      "application/vnd.jupyter.widget-view+json": {
       "model_id": "7e1b7e9fe1814b09b81bfeaed00f11f8",
       "version_major": 2,
       "version_minor": 0
      },
      "text/plain": [
       "HBox(children=(FloatProgress(value=0.0, max=3.0), HTML(value='')))"
      ]
     },
     "metadata": {},
     "output_type": "display_data"
    },
    {
     "name": "stdout",
     "output_type": "stream",
     "text": [
      "\n",
      "AFTER face_lookup_resolved_test\n"
     ]
    },
    {
     "data": {
      "application/vnd.jupyter.widget-view+json": {
       "model_id": "7a7867d573ef4f1d8154dd9b3586b132",
       "version_major": 2,
       "version_minor": 0
      },
      "text/plain": [
       "HBox(children=(FloatProgress(value=0.0, max=7.0), HTML(value='')))"
      ]
     },
     "metadata": {},
     "output_type": "display_data"
    },
    {
     "name": "stdout",
     "output_type": "stream",
     "text": [
      "\n",
      "Decomposing first pass: 3.2850334644317627\n",
      "Attempting to use MeshAfterParty Skeletonization and Mesh Correspondence\n",
      "Another print\n",
      "Found len(mesh_large_idx) MAP candidates: [5016, 9413]\n",
      "mesh_large_connectivity: 0.003336191177368164\n",
      "Finding MAP candidates connected components: 8.7738037109375e-05\n",
      "len(filtered_pieces) = 1\n",
      "skeleton_connectivity_MP : 0.1335911750793457\n",
      "Grouping MP Sublimbs by Graph: 0.029465913772583008\n",
      "Divinding into MP and MAP pieces: 9.5367431640625e-07\n",
      "--- Working on MAP piece 0---\n",
      "MAP Filtering Soma Pieces: 0.0010747909545898438\n",
      "inside skeletonize_connected_branch and use_surface_after_CGAL=False, surface_reconstruction_size=1000\n",
      "     Starting Screened Poisson\n",
      "xvfb-run -n 4076 -s \"-screen 0 800x600x24\" meshlabserver $@  -i /notebooks/Auto_Proofreading/Preprocessing_Pipeline/temp/None.off -o /notebooks/Auto_Proofreading/Preprocessing_Pipeline/temp/None_poisson.off -s /notebooks/Auto_Proofreading/Preprocessing_Pipeline/temp/poisson_547300.mls\n",
      "removed temporary input file: /notebooks/Auto_Proofreading/Preprocessing_Pipeline/temp/None.off\n",
      "removed temporary output file: /notebooks/Auto_Proofreading/Preprocessing_Pipeline/temp/None_poisson.off\n",
      "Using the close holes feature\n",
      "Mesh was manifold\n",
      "No holes needed to fill and mesh was manifold so returning original mesh\n",
      "-----Time for Screened Poisson= 7.025257349014282\n",
      "mesh_pieces = [<trimesh.Trimesh(vertices.shape=(14654, 3), faces.shape=(29304, 3))>]\n",
      "     Starting Calcification (Changed back where stitches large poissons)\n",
      "min_edge_length = 75\n"
     ]
    },
    {
     "data": {
      "application/vnd.jupyter.widget-view+json": {
       "model_id": "4d10df8bed6e4a8ea246708598499549",
       "version_major": 2,
       "version_minor": 0
      },
      "text/plain": [
       "HBox(children=(FloatProgress(value=1.0, bar_style='info', max=1.0), HTML(value='')))"
      ]
     },
     "metadata": {},
     "output_type": "display_data"
    },
    {
     "name": "stdout",
     "output_type": "stream",
     "text": [
      "\n",
      "No skeletons to stack so returning empty list\n",
      "len_subgraphs AT BEGINNING of the loop\n"
     ]
    },
    {
     "data": {
      "application/vnd.jupyter.widget-view+json": {
       "model_id": "752ceeb3437442feb210d35228fa1efe",
       "version_major": 2,
       "version_minor": 0
      },
      "text/plain": [
       "HBox(children=(FloatProgress(value=0.0, max=1.0), HTML(value='')))"
      ]
     },
     "metadata": {},
     "output_type": "display_data"
    },
    {
     "name": "stdout",
     "output_type": "stream",
     "text": [
      "all graph is one component!\n",
      "\n",
      "Total time for skeleton stitching = 0.03740048408508301\n",
      "The process was using a temp folder\n",
      "Checking connected components after skeletonize_connected_branch\n",
      "    Total time for skeletonizing branch: 8.109081983566284\n",
      "Checking connected components after removing cycles\n",
      "    Total time for Fixing Skeleton Soma Endpoint Extension : 0.0201871395111084\n",
      "filter_end_node_length = 4000\n",
      "xvfb-run -n 4076 -s \"-screen 0 800x600x24\" meshlabserver $@  -i /notebooks/Auto_Proofreading/Preprocessing_Pipeline/temp/neuron_42836.off -o /notebooks/Auto_Proofreading/Preprocessing_Pipeline/temp/neuron_42836_remove_interior.off -s /notebooks/Auto_Proofreading/Preprocessing_Pipeline/temp/remove_interior_227843.mls\n",
      "removed temporary input file: /notebooks/Auto_Proofreading/Preprocessing_Pipeline/temp/neuron_42836.off\n",
      "removed temporary output file: /notebooks/Auto_Proofreading/Preprocessing_Pipeline/temp/neuron_42836_remove_interior.off\n",
      "/notebooks/Auto_Proofreading/Preprocessing_Pipeline/temp/remove_interior_227843.mls is being deleted....\n",
      "THERE WERE NO MESH PIECES GREATER THAN THE significance_threshold\n",
      "No significant (100) interior meshes present\n",
      "largest is 16\n",
      "Using Distance measure skeletal_distance\n"
     ]
    },
    {
     "data": {
      "application/vnd.jupyter.widget-view+json": {
       "model_id": "12b90a99f6cd45b5af6b32eef0dca9b1",
       "version_major": 2,
       "version_minor": 0
      },
      "text/plain": [
       "HBox(children=(FloatProgress(value=0.0, max=6.0), HTML(value='')))"
      ]
     },
     "metadata": {},
     "output_type": "display_data"
    },
    {
     "name": "stdout",
     "output_type": "stream",
     "text": [
      "\n",
      "Checking connected components after clean_skeleton\n",
      "after DISTANCE cleaning limb size of skeleton = (460, 2, 3)\n",
      "********COMBINING CLOSE SKELETON NODES WITHIN 700 DISTANCE**********\n",
      "Found 0 valid paths to replace\n",
      "valid_paths = []\n",
      "valid_path_lengths = []\n",
      "No valid paths found so just returning the original\n",
      "Inside MAP decomposition and curr_limb_endpoints_must_keep was None\n",
      "skeletonize_and_clean_connected_branch_CGAL: 10.289601564407349\n",
      "Working on limb correspondence for #0 MAP piece\n",
      "xvfb-run -n 4076 -s \"-screen 0 800x600x24\" meshlabserver $@  -i /notebooks/Auto_Proofreading/Preprocessing_Pipeline/temp/neuron_25368.off -o /notebooks/Auto_Proofreading/Preprocessing_Pipeline/temp/neuron_25368_remove_interior.off -s /notebooks/Auto_Proofreading/Preprocessing_Pipeline/temp/remove_interior_168092.mls\n",
      "removed temporary input file: /notebooks/Auto_Proofreading/Preprocessing_Pipeline/temp/neuron_25368.off\n",
      "removed temporary output file: /notebooks/Auto_Proofreading/Preprocessing_Pipeline/temp/neuron_25368_remove_interior.off\n",
      "/notebooks/Auto_Proofreading/Preprocessing_Pipeline/temp/remove_interior_168092.mls is being deleted....\n",
      "THERE WERE NO MESH PIECES GREATER THAN THE significance_threshold\n",
      "No significant (100) interior meshes present\n",
      "largest is 16\n"
     ]
    },
    {
     "data": {
      "application/vnd.jupyter.widget-view+json": {
       "model_id": "33ff208b548c40c18b7afa5d4c38c520",
       "version_major": 2,
       "version_minor": 0
      },
      "text/plain": [
       "HBox(children=(FloatProgress(value=1.0, bar_style='info', max=1.0), HTML(value='')))"
      ]
     },
     "metadata": {},
     "output_type": "display_data"
    },
    {
     "name": "stdout",
     "output_type": "stream",
     "text": [
      "\n",
      "Total time for decomposition = 2.49080228805542\n",
      "mesh_correspondence_first_pass: 2.4908323287963867\n",
      "Limb decomposed into 1 branches\n",
      "divided_skeleton_graph_recovered = (460, 2, 3) and \n",
      "current_mesh_data[0]['branch_skeletons_cleaned'].shape = (460, 2, 3)\n",
      "\n",
      "Number of connected components in deocmposed recovered graph = 1\n",
      "Number of connected components in cleaned skeleton graph= 1\n",
      "The downsampled branches number of connected components = 1\n",
      "Empty submeshes = []\n",
      "\n",
      "\n",
      "--- Working on 1-to-1 correspondence-----\n",
      "max(original_labels),len(original_labels) = (0, 1)\n",
      "empty_indices % = 0.1352831104026613\n",
      " conflict_indices % = 0.0\n"
     ]
    },
    {
     "data": {
      "application/vnd.jupyter.widget-view+json": {
       "model_id": "9f9777fb833f4b52a2753ef55374ab3a",
       "version_major": 2,
       "version_minor": 0
      },
      "text/plain": [
       "HBox(children=(FloatProgress(value=0.0, max=36.0), HTML(value='')))"
      ]
     },
     "metadata": {},
     "output_type": "display_data"
    },
    {
     "name": "stdout",
     "output_type": "stream",
     "text": [
      "\n",
      "AFTER face_lookup_resolved_test\n"
     ]
    },
    {
     "data": {
      "application/vnd.jupyter.widget-view+json": {
       "model_id": "ce4c3b59209243b7bda1b047c5d06e2e",
       "version_major": 2,
       "version_minor": 0
      },
      "text/plain": [
       "HBox(children=(FloatProgress(value=0.0, max=1.0), HTML(value='')))"
      ]
     },
     "metadata": {},
     "output_type": "display_data"
    },
    {
     "name": "stdout",
     "output_type": "stream",
     "text": [
      "\n",
      "Total time for MAP sublimb #0 mesh processing = 15.293344497680664\n",
      "correspondence_1_to_1: 2.5118088722229004\n",
      "Total time for MAP sublimb processing 15.293420791625977\n",
      "---- Working on MP Decomposition #0 ----\n",
      "Computing the current soma touching verts dict manually\n",
      "MP filtering soma verts: 0.004494905471801758\n",
      "Do Not Need to Fix MP Decomposition 0 so just continuing\n",
      "---- Working on MP Decomposition #1 ----\n",
      "Computing the current soma touching verts dict manually\n",
      "MP filtering soma verts: 0.004966020584106445\n",
      "Do Not Need to Fix MP Decomposition 1 so just continuing\n",
      "---- Working on MP Decomposition #2 ----\n",
      "Computing the current soma touching verts dict manually\n",
      "MP filtering soma verts: 0.0026769638061523438\n",
      "Fixing Possible Soma Extension Branch for Sublimb 2\n",
      "Total time for mesh KDTree = 0.118316650390625\n",
      "sbv[0].reshape(-1,3) = [[ 627850.2  432179.9 1061785. ]]\n",
      "closest_sk_pt_coord BEFORE = [ 633924.94716122  427663.9182486  1066440.42014319]\n",
      "current_skeleton.shape = (727, 2, 3)\n",
      "node_for_stitch = 4: [ 633924.94716122  427663.9182486  1066440.42014319]\n",
      "node_for_stitch AFTER = 4: [ 633924.94716122  427663.9182486  1066440.42014319]\n",
      "possible_node_loc = [149 727]\n",
      "possible_node_loc AFTER = [149 727]\n",
      "curr_shortest_path = [4, 7.0, 9.0, 12.0, 14.0, 17.0, 19.0, 22.0, 24.0, 27.0, 29.0, 32.0, 35.0, 37.0, 40.0, 43.0, 45.0, 48.0, 51.0, 54.0, 57.0, 61.0, 64.0, 68.0, 71.0, 74.0, 77.0, 80.0, 83.0, 85.0, 88.0, 90.0, 93.0, 95.0, 98.0, 101.0, 104.0, 107.0, 110.0, 114.0, 118.0, 123.0, 129.0, 135.0, 139.0, 143.0, 146.0, 149.0]\n",
      "Current stitch point was not a branch or endpoint, shortest_path_length to one = 4697.979276258505\n",
      "change_status for create soma extending pieces = False\n",
      "closest_sk_pt_coord AFTER = [ 633924.94716122  427663.9182486  1066440.42014319]\n",
      "Adding new branch to skeleton\n",
      "border_average_coordinate = [ 628135.45294118  432392.72352941 1061623.35294118]\n",
      "endpoints_must_keep = {0: array([[ 628135.45294118,  432392.72352941, 1061623.35294118]])}\n",
      "match_sk_branches = []\n",
      "orig_vertex = [ 633924.94716122  427663.9182486  1066440.42014319]\n",
      "match_sk_branches = [0]\n"
     ]
    },
    {
     "data": {
      "application/vnd.jupyter.widget-view+json": {
       "model_id": "944ac77897be4f0f8a4d562ba075c455",
       "version_major": 2,
       "version_minor": 0
      },
      "text/plain": [
       "HBox(children=(FloatProgress(value=1.0, bar_style='info', max=1.0), HTML(value='')))"
      ]
     },
     "metadata": {},
     "output_type": "display_data"
    },
    {
     "name": "stdout",
     "output_type": "stream",
     "text": [
      "\n",
      "\n",
      "\n",
      "--- Working on 1-to-1 correspondence-----\n",
      "max(original_labels),len(original_labels) = (2, 3)\n",
      "empty_indices % = 0.25271296798697773\n",
      " conflict_indices % = 0.009224091155724362\n"
     ]
    },
    {
     "data": {
      "application/vnd.jupyter.widget-view+json": {
       "model_id": "242ad62ad68b4850902060e08689b59a",
       "version_major": 2,
       "version_minor": 0
      },
      "text/plain": [
       "HBox(children=(FloatProgress(value=0.0, max=35.0), HTML(value='')))"
      ]
     },
     "metadata": {},
     "output_type": "display_data"
    },
    {
     "name": "stdout",
     "output_type": "stream",
     "text": [
      "\n",
      "AFTER face_lookup_resolved_test\n",
      "Took 0 iterations to expand the label back\n",
      "empty_indices % = 0.0\n",
      " conflict_indices % = 0.0\n"
     ]
    },
    {
     "data": {
      "application/vnd.jupyter.widget-view+json": {
       "model_id": "1edee9f2ff6848be99d56ba57af6308b",
       "version_major": 2,
       "version_minor": 0
      },
      "text/plain": [
       "HBox(children=(FloatProgress(value=1.0, bar_style='info', max=1.0), HTML(value='')))"
      ]
     },
     "metadata": {},
     "output_type": "display_data"
    },
    {
     "name": "stdout",
     "output_type": "stream",
     "text": [
      "\n",
      "AFTER face_lookup_resolved_test\n"
     ]
    },
    {
     "data": {
      "application/vnd.jupyter.widget-view+json": {
       "model_id": "0293c44d2747461ba4fa6c1d60ac5246",
       "version_major": 2,
       "version_minor": 0
      },
      "text/plain": [
       "HBox(children=(FloatProgress(value=0.0, max=3.0), HTML(value='')))"
      ]
     },
     "metadata": {},
     "output_type": "display_data"
    },
    {
     "name": "stdout",
     "output_type": "stream",
     "text": [
      "\n",
      "curr_width_median = 761.0823974058296\n",
      "curr_width_median = 374.92918691343726\n",
      "curr_width_median = 847.6651748163991\n",
      "checked segment branches after soma add on\n",
      "MP (because soma touching verts) soma extension add: 2.724463701248169\n",
      "Successful mesh connectivity with type edges\n",
      "\n",
      "---- Working on (0, 0) connection-----\n",
      "node_for_stitch = 308: [ 654994.  418632. 1059580.]\n",
      "node_for_stitch AFTER = 308: [ 654994.  418632. 1059580.]\n",
      "possible_node_loc = [312 460]\n",
      "possible_node_loc AFTER = [312 460]\n",
      "curr_shortest_path = [308, 310.0, 312.0]\n",
      "Current stitch point was not a branch or endpoint, shortest_path_length to one = 231.47079167496491\n",
      "Changing the stitch point becasue the distance to end or branch node was 231.47079167496491\n",
      "New stitch point has degree 1\n",
      "sk_conn = [0, 1]\n",
      "conn = [0, 1]\n",
      "winning_vertex = [ 655196.2871415   417999.12234546 1059508.60621132]\n",
      "MP_branches_with_stitch_point = [0, 1]\n",
      "MAP_branches_with_stitch_point = [0]\n",
      "MAP_stitch_point_on_end_or_branch = True\n"
     ]
    },
    {
     "data": {
      "application/vnd.jupyter.widget-view+json": {
       "model_id": "96c5906d8e3e4ec487b83de64bc0c71b",
       "version_major": 2,
       "version_minor": 0
      },
      "text/plain": [
       "HBox(children=(FloatProgress(value=1.0, bar_style='info', max=1.0), HTML(value='')))"
      ]
     },
     "metadata": {},
     "output_type": "display_data"
    },
    {
     "name": "stdout",
     "output_type": "stream",
     "text": [
      "\n",
      "\n",
      "\n",
      "--- Working on 1-to-1 correspondence-----\n",
      "max(original_labels),len(original_labels) = (2, 3)\n",
      "empty_indices % = 0.2140568254646443\n",
      " conflict_indices % = 0.0074556718649861145\n"
     ]
    },
    {
     "data": {
      "application/vnd.jupyter.widget-view+json": {
       "model_id": "4fce5135d97f4bdd9961c2bacdd7378d",
       "version_major": 2,
       "version_minor": 0
      },
      "text/plain": [
       "HBox(children=(FloatProgress(value=0.0, max=94.0), HTML(value='')))"
      ]
     },
     "metadata": {},
     "output_type": "display_data"
    },
    {
     "name": "stdout",
     "output_type": "stream",
     "text": [
      "\n",
      "AFTER face_lookup_resolved_test\n"
     ]
    },
    {
     "data": {
      "application/vnd.jupyter.widget-view+json": {
       "model_id": "f5b8659773af4b54adb08c68cca259ff",
       "version_major": 2,
       "version_minor": 0
      },
      "text/plain": [
       "HBox(children=(FloatProgress(value=0.0, max=3.0), HTML(value='')))"
      ]
     },
     "metadata": {},
     "output_type": "display_data"
    },
    {
     "name": "stdout",
     "output_type": "stream",
     "text": [
      "\n",
      "MP_branches_with_stitch_point= [0, 1]\n",
      "MP_branches_for_correspondence = [0 1]\n",
      "MP_leftover = [], MP_leftover_idx = []\n",
      " Finished with (0, 0) \n",
      "\n",
      "\n",
      "\n",
      "\n",
      "---- Working on (1, 0) connection-----\n",
      "node_for_stitch = 459: [ 669500.  407379. 1086610.]\n",
      "node_for_stitch AFTER = 459: [ 669500.  407379. 1086610.]\n",
      "possible_node_loc = [312 460]\n",
      "possible_node_loc AFTER = [312 460]\n",
      "curr_shortest_path = [459, 460.0]\n",
      "Current stitch point was not a branch or endpoint, shortest_path_length to one = 99.85990186255943\n",
      "Changing the stitch point becasue the distance to end or branch node was 99.85990186255943\n",
      "New stitch point has degree 1\n",
      "sk_conn = [0, 1]\n",
      "conn = [0, 1]\n",
      "winning_vertex = [ 669902.15559241  406758.13914339 1086729.83623167]\n",
      "MP_branches_with_stitch_point = [0, 1]\n",
      "MAP_branches_with_stitch_point = [0]\n",
      "MAP_stitch_point_on_end_or_branch = True\n"
     ]
    },
    {
     "data": {
      "application/vnd.jupyter.widget-view+json": {
       "model_id": "b4abf7337ac649298579801b876e3757",
       "version_major": 2,
       "version_minor": 0
      },
      "text/plain": [
       "HBox(children=(FloatProgress(value=1.0, bar_style='info', max=1.0), HTML(value='')))"
      ]
     },
     "metadata": {},
     "output_type": "display_data"
    },
    {
     "name": "stdout",
     "output_type": "stream",
     "text": [
      "\n",
      "\n",
      "\n",
      "--- Working on 1-to-1 correspondence-----\n",
      "max(original_labels),len(original_labels) = (2, 3)\n",
      "empty_indices % = 0.17719417849838456\n",
      " conflict_indices % = 0.0076473901058185375\n"
     ]
    },
    {
     "data": {
      "application/vnd.jupyter.widget-view+json": {
       "model_id": "e975e5dae63341f38a49b27b3ade230f",
       "version_major": 2,
       "version_minor": 0
      },
      "text/plain": [
       "HBox(children=(FloatProgress(value=0.0, max=49.0), HTML(value='')))"
      ]
     },
     "metadata": {},
     "output_type": "display_data"
    },
    {
     "name": "stdout",
     "output_type": "stream",
     "text": [
      "\n",
      "AFTER face_lookup_resolved_test\n"
     ]
    },
    {
     "data": {
      "application/vnd.jupyter.widget-view+json": {
       "model_id": "e92c8b20aba643d39423cadea5752a4b",
       "version_major": 2,
       "version_minor": 0
      },
      "text/plain": [
       "HBox(children=(FloatProgress(value=0.0, max=3.0), HTML(value='')))"
      ]
     },
     "metadata": {},
     "output_type": "display_data"
    },
    {
     "name": "stdout",
     "output_type": "stream",
     "text": [
      "\n",
      "MP_branches_with_stitch_point= [0, 1]\n",
      "MP_branches_for_correspondence = [0 1]\n",
      "MP_leftover = [], MP_leftover_idx = []\n",
      " Finished with (1, 0) \n",
      "\n",
      "\n",
      "\n",
      "\n",
      "---- Working on (2, 0) connection-----\n",
      "node_for_stitch = 2: [ 637348.  425452. 1065540.]\n",
      "node_for_stitch AFTER = 2: [ 637348.  425452. 1065540.]\n",
      "possible_node_loc = [312 460]\n",
      "possible_node_loc AFTER = [312 460]\n",
      "curr_shortest_path = [2, 3.0, 4.0, 6.0, 8.0, 9.0, 11.0, 15.0, 18.0, 20.0, 21.0, 23.0, 26.0, 28.0, 30.0, 31.0, 33.0, 35.0, 37.0, 38.0, 40.0, 42.0, 46.0, 48.0, 50.0, 52.0, 54.0, 58.0, 61.0, 63.0, 65.0, 67.0, 69.0, 72.0, 74.0, 77.0, 79.0, 81.0, 84.0, 86.0, 88.0, 91.0, 92.0, 95.0, 97.0, 99.0, 100.0, 102.0, 104.0, 105.0, 108.0, 110.0, 112.0, 114.0, 116.0, 118.0, 120.0, 123.0, 125.0, 127.0, 129.0, 131.0, 134.0, 136.0, 138.0, 140.0, 142.0, 145.0, 147.0, 149.0, 150.0, 153.0, 154.0, 156.0, 159.0, 163.0, 165.0, 167.0, 169.0, 171.0, 173.0, 176.0, 178.0, 180.0, 184.0, 186.0, 188.0, 191.0, 194.0, 196.0, 198.0, 202.0, 204.0, 207.0, 212.0, 214.0, 215.0, 218.0, 220.0, 222.0, 225.0, 226.0, 228.0, 231.0, 233.0, 235.0, 240.0, 242.0, 244.0, 247.0, 248.0, 250.0, 253.0, 255.0, 257.0, 260.0, 262.0, 264.0, 267.0, 269.0, 270.0, 273.0, 275.0, 277.0, 279.0, 281.0, 282.0, 284.0, 285.0, 287.0, 289.0, 291.0, 293.0, 295.0, 297.0, 300.0, 302.0, 303.0, 306.0, 308.0, 310.0, 312.0]\n",
      "Current stitch point was not a branch or endpoint, shortest_path_length to one = 21436.743106377937\n",
      "sk_conn = [0]\n",
      "conn = [0]\n",
      "winning_vertex = [ 637557.61957267  425042.44540491 1065657.57756588]\n",
      "MP_branches_with_stitch_point = [0]\n",
      "MAP_branches_with_stitch_point = [0]\n",
      "MAP_stitch_point_on_end_or_branch = False\n"
     ]
    },
    {
     "data": {
      "application/vnd.jupyter.widget-view+json": {
       "model_id": "37700873d3c3471ab61369aa1785a87f",
       "version_major": 2,
       "version_minor": 0
      },
      "text/plain": [
       "HBox(children=(FloatProgress(value=1.0, bar_style='info', max=1.0), HTML(value='')))"
      ]
     },
     "metadata": {},
     "output_type": "display_data"
    },
    {
     "name": "stdout",
     "output_type": "stream",
     "text": [
      "\n",
      "\n",
      "\n",
      "--- Working on 1-to-1 correspondence-----\n",
      "max(original_labels),len(original_labels) = (1, 2)\n",
      "empty_indices % = 0.1510062550992657\n",
      " conflict_indices % = 0.003263530051672559\n"
     ]
    },
    {
     "data": {
      "application/vnd.jupyter.widget-view+json": {
       "model_id": "f4609593c83841cb8396e30083e6995f",
       "version_major": 2,
       "version_minor": 0
      },
      "text/plain": [
       "HBox(children=(FloatProgress(value=0.0, max=37.0), HTML(value='')))"
      ]
     },
     "metadata": {},
     "output_type": "display_data"
    },
    {
     "name": "stdout",
     "output_type": "stream",
     "text": [
      "\n",
      "AFTER face_lookup_resolved_test\n"
     ]
    },
    {
     "data": {
      "application/vnd.jupyter.widget-view+json": {
       "model_id": "e7f6b66585b94d43967c8ada473fc460",
       "version_major": 2,
       "version_minor": 0
      },
      "text/plain": [
       "HBox(children=(FloatProgress(value=0.0, max=2.0), HTML(value='')))"
      ]
     },
     "metadata": {},
     "output_type": "display_data"
    },
    {
     "name": "stdout",
     "output_type": "stream",
     "text": [
      "\n"
     ]
    },
    {
     "data": {
      "application/vnd.jupyter.widget-view+json": {
       "model_id": "48a67a56c33d4b86ad8dd4fd39a5b2b2",
       "version_major": 2,
       "version_minor": 0
      },
      "text/plain": [
       "HBox(children=(FloatProgress(value=1.0, bar_style='info', max=1.0), HTML(value='')))"
      ]
     },
     "metadata": {},
     "output_type": "display_data"
    },
    {
     "name": "stdout",
     "output_type": "stream",
     "text": [
      "\n",
      "\n",
      "\n",
      "--- Working on 1-to-1 correspondence-----\n",
      "max(original_labels),len(original_labels) = (2, 3)\n",
      "empty_indices % = 0.15658499234303216\n",
      " conflict_indices % = 0.017036753445635527\n"
     ]
    },
    {
     "data": {
      "application/vnd.jupyter.widget-view+json": {
       "model_id": "a2fe1a7f74724445bcbdf57626caf762",
       "version_major": 2,
       "version_minor": 0
      },
      "text/plain": [
       "HBox(children=(FloatProgress(value=0.0, max=4.0), HTML(value='')))"
      ]
     },
     "metadata": {},
     "output_type": "display_data"
    },
    {
     "name": "stdout",
     "output_type": "stream",
     "text": [
      "\n",
      "AFTER face_lookup_resolved_test\n"
     ]
    },
    {
     "data": {
      "application/vnd.jupyter.widget-view+json": {
       "model_id": "3087da2ba516441c855049df0b3a2155",
       "version_major": 2,
       "version_minor": 0
      },
      "text/plain": [
       "HBox(children=(FloatProgress(value=0.0, max=3.0), HTML(value='')))"
      ]
     },
     "metadata": {},
     "output_type": "display_data"
    },
    {
     "name": "stdout",
     "output_type": "stream",
     "text": [
      "\n",
      "Deleting branches from dictionary\n",
      "MP_branches_with_stitch_point= [0]\n",
      "MP_branches_for_correspondence = [0]\n",
      "MP_leftover = [], MP_leftover_idx = []\n",
      " Finished with (2, 0) \n",
      "\n",
      "\n",
      "\n",
      "Time for decomp of Limb = 41.06246495246887\n",
      "Number of matching vertices = 17\n",
      "Only one endpoint after filtering away the endpoints that are not on the skeleton\n",
      "Using Distance measure skeletal_distance\n",
      "endpoints_must_keep = [[ 628135.45294118  432392.72352941 1061623.35294118]]\n",
      "Number of end_nodes BEFORE filtering = 6\n",
      "all_single_nodes_to_eliminate = [0]\n",
      "no small end nodes to get rid of so returning whole skeleton\n",
      "Removed 0 skeletal branches\n"
     ]
    },
    {
     "data": {
      "application/vnd.jupyter.widget-view+json": {
       "model_id": "917b8d1ad499486fbfee4ac544dcb551",
       "version_major": 2,
       "version_minor": 0
      },
      "text/plain": [
       "HBox(children=(FloatProgress(value=0.0, max=9.0), HTML(value='')))"
      ]
     },
     "metadata": {},
     "output_type": "display_data"
    },
    {
     "name": "stdout",
     "output_type": "stream",
     "text": [
      "\n",
      "80690 80691\n",
      "For marked faces: None\n",
      "empty_indices % = 0.0\n",
      " conflict_indices % = 0.0\n"
     ]
    },
    {
     "data": {
      "application/vnd.jupyter.widget-view+json": {
       "model_id": "65d33c2149c74d449491919fc7a53e06",
       "version_major": 2,
       "version_minor": 0
      },
      "text/plain": [
       "HBox(children=(FloatProgress(value=1.0, bar_style='info', max=1.0), HTML(value='')))"
      ]
     },
     "metadata": {},
     "output_type": "display_data"
    },
    {
     "name": "stdout",
     "output_type": "stream",
     "text": [
      "\n",
      "AFTER face_lookup_resolved_test\n"
     ]
    },
    {
     "data": {
      "application/vnd.jupyter.widget-view+json": {
       "model_id": "40d185331c6a48cd850bccd51e8e5b99",
       "version_major": 2,
       "version_minor": 0
      },
      "text/plain": [
       "HBox(children=(FloatProgress(value=0.0, max=9.0), HTML(value='')))"
      ]
     },
     "metadata": {},
     "output_type": "display_data"
    },
    {
     "name": "stderr",
     "output_type": "stream",
     "text": [
      "\r",
      "  0%|          | 0/1 [00:00<?, ?it/s]"
     ]
    },
    {
     "name": "stdout",
     "output_type": "stream",
     "text": [
      "\n",
      "\n",
      "\n",
      "----- Working on Proper Limb # 5 ---------\n",
      "meshparty_segment_size = 100\n",
      "root_curr = [ 639040.4  730774.9 1081715. ]\n",
      "Time for preparing soma vertices and root: 0.0003941059112548828\n",
      "invalidation_d = 12000\n",
      "cc_vertex_thresh = 10\n"
     ]
    },
    {
     "data": {
      "application/vnd.jupyter.widget-view+json": {
       "model_id": "eda4bed2b4c5460796785ab8ef37ffba",
       "version_major": 2,
       "version_minor": 0
      },
      "text/plain": [
       "HBox(children=(FloatProgress(value=0.0, max=31685.0), HTML(value='')))"
      ]
     },
     "metadata": {},
     "output_type": "display_data"
    },
    {
     "name": "stderr",
     "output_type": "stream",
     "text": [
      "100%|██████████| 1/1 [00:00<00:00,  1.54it/s]"
     ]
    },
    {
     "name": "stdout",
     "output_type": "stream",
     "text": [
      "\n"
     ]
    },
    {
     "name": "stderr",
     "output_type": "stream",
     "text": [
      "\n"
     ]
    },
    {
     "name": "stdout",
     "output_type": "stream",
     "text": [
      "meshparty_segment_size = 100\n",
      "Time for 1st pass MP skeletonization: 1.0081677436828613\n",
      "branches_touching_root = [11]\n",
      "length of Graph = 7848\n",
      "Working on path [2063. 2089. 2098.]\n",
      "path_degrees = [3, 2, 3]\n",
      "Working on path [3359. 3365. 3370. 3375.]\n",
      "path_degrees = [3, 2, 2, 3]\n",
      "After combining close endpoints max(kept_branches_idx) = 31, len(kept_branches_idx) = 30\n",
      "empty_indices % = 0.0\n",
      " conflict_indices % = 0.00876428356340238\n"
     ]
    },
    {
     "data": {
      "application/vnd.jupyter.widget-view+json": {
       "model_id": "a7844ffd626e4c49afd3470652a2cefd",
       "version_major": 2,
       "version_minor": 0
      },
      "text/plain": [
       "HBox(children=(FloatProgress(value=0.0, max=13.0), HTML(value='')))"
      ]
     },
     "metadata": {},
     "output_type": "display_data"
    },
    {
     "name": "stdout",
     "output_type": "stream",
     "text": [
      "\n",
      "AFTER face_lookup_resolved_test\n"
     ]
    },
    {
     "data": {
      "application/vnd.jupyter.widget-view+json": {
       "model_id": "c3a14f46e1a94f30a5f80e39683c8b51",
       "version_major": 2,
       "version_minor": 0
      },
      "text/plain": [
       "HBox(children=(FloatProgress(value=0.0, max=30.0), HTML(value='')))"
      ]
     },
     "metadata": {},
     "output_type": "display_data"
    },
    {
     "name": "stdout",
     "output_type": "stream",
     "text": [
      "\n",
      "Decomposing first pass: 6.5945234298706055\n",
      "Attempting to use MeshAfterParty Skeletonization and Mesh Correspondence\n",
      "Another print\n",
      "Divinding into MP and MAP pieces: 5.936622619628906e-05\n",
      "Total time for MAP sublimb processing 3.0994415283203125e-06\n",
      "---- Working on MP Decomposition #0 ----\n",
      "Using Quicker soma_to_piece_touching_vertices because no MAP and only one sublimb_mesh piece \n",
      "MP filtering soma verts: 5.1975250244140625e-05\n",
      "Fixing Possible Soma Extension Branch for Sublimb 0\n",
      "Total time for mesh KDTree = 0.034529685974121094\n",
      "sbv[0].reshape(-1,3) = [[ 639040.4  730774.9 1081715. ]]\n",
      "closest_sk_pt_coord BEFORE = [ 639144.44231852  731081.05909824 1082122.42152331]\n",
      "current_skeleton.shape = (266, 2, 3)\n",
      "node_for_stitch = 177: [ 639144.44231852  731081.05909824 1082122.42152331]\n",
      "node_for_stitch AFTER = 177: [ 639144.44231852  731081.05909824 1082122.42152331]\n",
      "possible_node_loc = [177 205]\n",
      "possible_node_loc AFTER = [177 205]\n",
      "curr_shortest_path = [177]\n",
      "Current stitch point was a branch or endpoint\n",
      "change_status for create soma extending pieces = False\n",
      "closest_sk_pt_coord AFTER = [ 639144.44231852  731081.05909824 1082122.42152331]\n",
      "skipping soma 2 because closest skeleton node was already end node\n",
      "endpoints_must_keep = {2: array([[ 639144.44231852,  731081.05909824, 1082122.42152331]])}\n",
      "match_sk_branches = [10]\n",
      "The new branch info was none so skipping \n",
      "\n",
      "No soma extending branch was added for this sublimb even though it had a soma border (means they already existed)\n",
      "MP (because soma touching verts) soma extension add: 0.1098780632019043\n",
      "There were not both MAP and MP pieces so skipping the stitch resolving phase\n",
      "Time for decomp of Limb = 8.011312246322632\n",
      "Number of matching vertices = 17\n",
      "Only one endpoint after filtering away the endpoints that are not on the skeleton\n",
      "Using Distance measure skeletal_distance\n",
      "endpoints_must_keep = [[ 639144.44231852  731081.05909824 1082122.42152331]]\n",
      "Number of end_nodes BEFORE filtering = 18\n",
      "all_single_nodes_to_eliminate = [5]\n",
      "no small end nodes to get rid of so returning whole skeleton\n",
      "Removed 0 skeletal branches\n"
     ]
    },
    {
     "data": {
      "application/vnd.jupyter.widget-view+json": {
       "model_id": "d665cf0498af4876b07679e872ea4c36",
       "version_major": 2,
       "version_minor": 0
      },
      "text/plain": [
       "HBox(children=(FloatProgress(value=0.0, max=30.0), HTML(value='')))"
      ]
     },
     "metadata": {},
     "output_type": "display_data"
    },
    {
     "name": "stdout",
     "output_type": "stream",
     "text": [
      "\n",
      "\n",
      "\n",
      "--- Working on 1-to-1 correspondence-----\n",
      "max(original_labels),len(original_labels) = (1, 2)\n",
      "empty_indices % = 0.42450142450142453\n",
      " conflict_indices % = 0.002849002849002849\n"
     ]
    },
    {
     "data": {
      "application/vnd.jupyter.widget-view+json": {
       "model_id": "8e7829d0f42e4b88abb5e429585e19d6",
       "version_major": 2,
       "version_minor": 0
      },
      "text/plain": [
       "HBox(children=(FloatProgress(value=0.0, max=14.0), HTML(value='')))"
      ]
     },
     "metadata": {},
     "output_type": "display_data"
    },
    {
     "name": "stdout",
     "output_type": "stream",
     "text": [
      "\n",
      "AFTER face_lookup_resolved_test\n"
     ]
    },
    {
     "data": {
      "application/vnd.jupyter.widget-view+json": {
       "model_id": "013555591da24fd59ba1141f4eb54fa1",
       "version_major": 2,
       "version_minor": 0
      },
      "text/plain": [
       "HBox(children=(FloatProgress(value=0.0, max=2.0), HTML(value='')))"
      ]
     },
     "metadata": {},
     "output_type": "display_data"
    },
    {
     "name": "stdout",
     "output_type": "stream",
     "text": [
      "\n",
      "main_branch = 78\n",
      "Status of Main limb stitch point moved = True\n",
      "Status of Main limb stitch point moved = True\n",
      "Total time for stitching floating pieces = 13.460984706878662\n",
      "Total time for Concept Networks = 37.90754222869873\n",
      "Total time for all mesh and skeletonization decomp = 1263.1358804702759\n",
      "No soma volume ratios so computing them now\n",
      "Using Poisson Surface Reconstruction for watertightness in soma_volume_ratio\n",
      "xvfb-run -n 4076 -s \"-screen 0 800x600x24\" meshlabserver $@  -i /notebooks/Auto_Proofreading/Preprocessing_Pipeline/Poisson_temp/neuron_774000.off -o /notebooks/Auto_Proofreading/Preprocessing_Pipeline/Poisson_temp/neuron_774000_poisson.off -s /notebooks/Auto_Proofreading/Preprocessing_Pipeline/Poisson_temp/poisson_374162.mls\n",
      "removed temporary input file: /notebooks/Auto_Proofreading/Preprocessing_Pipeline/Poisson_temp/neuron_774000.off\n",
      "removed temporary output file: /notebooks/Auto_Proofreading/Preprocessing_Pipeline/Poisson_temp/neuron_774000_poisson.off\n",
      "mesh.is_watertight = True\n",
      "/notebooks/Auto_Proofreading/Preprocessing_Pipeline/Poisson_temp/poisson_374162.mls is being deleted....\n",
      "Using Poisson Surface Reconstruction for watertightness in soma_volume_ratio\n",
      "xvfb-run -n 4076 -s \"-screen 0 800x600x24\" meshlabserver $@  -i /notebooks/Auto_Proofreading/Preprocessing_Pipeline/Poisson_temp/neuron_549000.off -o /notebooks/Auto_Proofreading/Preprocessing_Pipeline/Poisson_temp/neuron_549000_poisson.off -s /notebooks/Auto_Proofreading/Preprocessing_Pipeline/Poisson_temp/poisson_804506.mls\n",
      "removed temporary input file: /notebooks/Auto_Proofreading/Preprocessing_Pipeline/Poisson_temp/neuron_549000.off\n",
      "removed temporary output file: /notebooks/Auto_Proofreading/Preprocessing_Pipeline/Poisson_temp/neuron_549000_poisson.off\n",
      "mesh.is_watertight = True\n",
      "/notebooks/Auto_Proofreading/Preprocessing_Pipeline/Poisson_temp/poisson_804506.mls is being deleted....\n",
      "Using Poisson Surface Reconstruction for watertightness in soma_volume_ratio\n",
      "xvfb-run -n 4076 -s \"-screen 0 800x600x24\" meshlabserver $@  -i /notebooks/Auto_Proofreading/Preprocessing_Pipeline/Poisson_temp/neuron_499391.off -o /notebooks/Auto_Proofreading/Preprocessing_Pipeline/Poisson_temp/neuron_499391_poisson.off -s /notebooks/Auto_Proofreading/Preprocessing_Pipeline/Poisson_temp/poisson_348141.mls\n",
      "removed temporary input file: /notebooks/Auto_Proofreading/Preprocessing_Pipeline/Poisson_temp/neuron_499391.off\n",
      "removed temporary output file: /notebooks/Auto_Proofreading/Preprocessing_Pipeline/Poisson_temp/neuron_499391_poisson.off\n",
      "mesh.is_watertight = True\n",
      "/notebooks/Auto_Proofreading/Preprocessing_Pipeline/Poisson_temp/poisson_348141.mls is being deleted....\n",
      "--- 1) Finished unpacking preprocessed materials: 1458.422313451767\n",
      "total_edges = [['S0', 'L0'], ['S0', 'L1'], ['S0', 'L2'], ['S0', 'L3'], ['S0', 'L4'], ['S0', 'L10'], ['S1', 'L0'], ['S1', 'L1'], ['S2', 'L1'], ['S2', 'L5'], ['S2', 'L6'], ['S2', 'L7'], ['S2', 'L8'], ['S2', 'L9']]\n",
      "--- 2) Finished creating neuron connectivity graph: 0.000324249267578125\n",
      "Having to generate soma_meshes_face_idx because none in preprocessed data\n",
      "--- 3a) Finshed generating soma_meshes_face_idx: 1.7802553176879883\n",
      "Using precomputed volume ratio\n",
      "Using precomputed volume ratio\n",
      "Using precomputed volume ratio\n",
      "--- 3) Finshed generating soma objects and adding them to concept graph: 0.2681872844696045\n",
      "--- 4a) Finshed generating curr_limb_meshes_face_idx: 6.721228122711182\n",
      "curr_limb_concept_networks= {0: [<networkx_utils.GraphOrderedEdges object at 0x7f1c57bcdb00>], 1: [<networkx_utils.GraphOrderedEdges object at 0x7f1c307cfc18>, <networkx_utils.GraphOrderedEdges object at 0x7f1c3b1ad1d0>, <networkx_utils.GraphOrderedEdges object at 0x7f1c3b1ad978>, <networkx_utils.GraphOrderedEdges object at 0x7f1c3b1ad470>, <networkx_utils.GraphOrderedEdges object at 0x7f1b2ca43320>, <networkx_utils.GraphOrderedEdges object at 0x7f1c3b11a438>, <networkx_utils.GraphOrderedEdges object at 0x7f1c3b11ae10>]}\n",
      "curr_limb_concept_networks= {0: [<networkx_utils.GraphOrderedEdges object at 0x7f1c3b1937f0>, <networkx_utils.GraphOrderedEdges object at 0x7f1c57bb44e0>], 1: [<networkx_utils.GraphOrderedEdges object at 0x7f1c3b1ad4e0>], 2: [<networkx_utils.GraphOrderedEdges object at 0x7f1c3075a5f8>]}\n",
      "curr_limb_concept_networks= {0: [<networkx_utils.GraphOrderedEdges object at 0x7f1b19f24e80>]}\n",
      "curr_limb_concept_networks= {0: [<networkx_utils.GraphOrderedEdges object at 0x7f1c3b0affd0>]}\n",
      "curr_limb_concept_networks= {0: [<networkx_utils.GraphOrderedEdges object at 0x7f1c3b0af5f8>]}\n",
      "curr_limb_concept_networks= {2: [<networkx_utils.GraphOrderedEdges object at 0x7f1c3b0af2b0>]}\n",
      "curr_limb_concept_networks= {2: [<networkx_utils.GraphOrderedEdges object at 0x7f1c3b0af160>]}\n",
      "curr_limb_concept_networks= {2: [<networkx_utils.GraphOrderedEdges object at 0x7f1c3b0afe10>]}\n",
      "curr_limb_concept_networks= {2: [<networkx_utils.GraphOrderedEdges object at 0x7f1c3b0af748>]}\n",
      "curr_limb_concept_networks= {2: [<networkx_utils.GraphOrderedEdges object at 0x7f1c3b0afc18>]}\n",
      "curr_limb_concept_networks= {0: [<networkx_utils.GraphOrderedEdges object at 0x7f1c3b0af940>]}\n",
      "--- 4) Finshed generating Limb objects and adding them to concept graph: 9.901854515075684\n",
      "--- 5) SKIPPING Doing the adaptive mesh correspondence on the meshparty preprocessing ---\n",
      "--- 6) SKIPPING Using the computed_attribute_dict to populate neuron attributes ---\n",
      "self.n_limbs = 11\n",
      "7) Calculating the spines for the neuorn if do not already exist\n",
      "7a) calculating spines because didn't exist\n",
      "query = median_mesh_center > 140 and n_faces_branch>100\n",
      "smoothness_threshold = 0.08\n",
      "The median_mesh_center was requested but has not already been calculated so calculating now.... \n",
      "Working on limb L0 branch 55\n",
      "Working on limb L0 branch 43\n",
      "Working on limb L0 branch 47\n",
      "Working on limb L0 branch 13\n",
      "Working on limb L0 branch 36\n",
      "Working on limb L0 branch 48\n",
      "Working on limb L0 branch 50\n",
      "Working on limb L0 branch 6\n",
      "Working on limb L0 branch 17\n",
      "Working on limb L0 branch 10\n",
      "Working on limb L0 branch 54\n",
      "Working on limb L0 branch 70\n",
      "Working on limb L0 branch 71\n",
      "Working on limb L0 branch 4\n",
      "Working on limb L0 branch 15\n",
      "Working on limb L0 branch 35\n",
      "Working on limb L0 branch 56\n",
      "Working on limb L0 branch 91\n",
      "Working on limb L0 branch 93\n",
      "Working on limb L0 branch 94\n",
      "Working on limb L0 branch 108\n",
      "Assigning the old width calculation because no valid new widths\n",
      "Working on limb L0 branch 0\n",
      "Working on limb L0 branch 3\n",
      "Working on limb L0 branch 28\n",
      "Working on limb L0 branch 31\n",
      "Working on limb L0 branch 62\n",
      "Working on limb L0 branch 104\n",
      "Working on limb L0 branch 88\n",
      "Working on limb L0 branch 90\n",
      "Working on limb L0 branch 80\n",
      "Working on limb L0 branch 81\n",
      "Working on limb L0 branch 95\n",
      "Working on limb L0 branch 8\n",
      "Working on limb L0 branch 9\n",
      "Working on limb L0 branch 39\n",
      "Working on limb L0 branch 46\n",
      "Working on limb L0 branch 23\n",
      "Working on limb L0 branch 25\n",
      "Working on limb L0 branch 52\n",
      "Working on limb L0 branch 66\n",
      "Working on limb L0 branch 38\n",
      "Working on limb L0 branch 64\n",
      "Working on limb L0 branch 83\n",
      "Working on limb L0 branch 87\n",
      "Working on limb L0 branch 2\n",
      "Working on limb L0 branch 5\n",
      "Working on limb L0 branch 22\n",
      "Working on limb L0 branch 12\n",
      "Working on limb L0 branch 49\n",
      "Working on limb L0 branch 19\n",
      "Working on limb L0 branch 30\n",
      "Working on limb L0 branch 21\n",
      "Working on limb L0 branch 24\n",
      "Working on limb L0 branch 51\n",
      "Working on limb L0 branch 67\n",
      "Working on limb L0 branch 84\n",
      "Working on limb L0 branch 89\n",
      "Working on limb L0 branch 29\n",
      "Working on limb L0 branch 98\n",
      "Working on limb L0 branch 99\n",
      "Working on limb L0 branch 1\n",
      "Working on limb L0 branch 16\n",
      "Working on limb L0 branch 37\n",
      "Working on limb L0 branch 40\n",
      "Working on limb L0 branch 7\n",
      "Working on limb L0 branch 14\n",
      "Working on limb L0 branch 11\n",
      "Working on limb L0 branch 41\n",
      "Working on limb L0 branch 76\n",
      "Working on limb L0 branch 92\n",
      "Working on limb L0 branch 75\n",
      "Working on limb L0 branch 78\n",
      "Working on limb L0 branch 26\n",
      "Working on limb L0 branch 34\n",
      "Working on limb L0 branch 100\n",
      "Assigning the old width calculation because no valid new widths\n",
      "Working on limb L0 branch 101\n",
      "Working on limb L0 branch 44\n",
      "Assigning the old width calculation because no valid new widths\n",
      "Working on limb L0 branch 45\n",
      "Working on limb L0 branch 82\n",
      "Working on limb L0 branch 96\n",
      "Working on limb L0 branch 73\n",
      "Working on limb L0 branch 74\n",
      "Working on limb L0 branch 106\n"
     ]
    },
    {
     "name": "stdout",
     "output_type": "stream",
     "text": [
      "Working on limb L0 branch 107\n",
      "Working on limb L0 branch 18\n",
      "Working on limb L0 branch 27\n",
      "Working on limb L0 branch 32\n",
      "Working on limb L0 branch 33\n",
      "Working on limb L0 branch 102\n",
      "Working on limb L0 branch 53\n",
      "Assigning the old width calculation because no valid new widths\n",
      "Working on limb L0 branch 57\n",
      "Assigning the old width calculation because no valid new widths\n",
      "Working on limb L0 branch 58\n",
      "Working on limb L0 branch 85\n",
      "Working on limb L0 branch 97\n",
      "Working on limb L0 branch 72\n",
      "Working on limb L0 branch 77\n",
      "Working on limb L0 branch 60\n",
      "Working on limb L0 branch 65\n",
      "Assigning the old width calculation because no valid new widths\n",
      "Working on limb L0 branch 69\n",
      "Working on limb L0 branch 79\n",
      "Working on limb L0 branch 105\n",
      "Working on limb L0 branch 42\n",
      "Working on limb L0 branch 59\n",
      "Working on limb L0 branch 109\n",
      "Assigning the old width calculation because no valid new widths\n",
      "Working on limb L0 branch 63\n",
      "Working on limb L0 branch 68\n",
      "Working on limb L0 branch 20\n",
      "Working on limb L0 branch 61\n",
      "Working on limb L0 branch 86.0\n",
      "Working on limb L0 branch 103.0\n",
      "Working on limb L1 branch 25\n",
      "Working on limb L1 branch 18\n",
      "Working on limb L1 branch 24\n",
      "Working on limb L1 branch 13\n",
      "Working on limb L1 branch 17\n",
      "Working on limb L1 branch 19\n",
      "Working on limb L1 branch 22\n",
      "Working on limb L1 branch 3\n",
      "Working on limb L1 branch 6\n",
      "Working on limb L1 branch 8\n",
      "Working on limb L1 branch 16\n",
      "Working on limb L1 branch 5\n",
      "Working on limb L1 branch 7\n",
      "Working on limb L1 branch 20\n",
      "Working on limb L1 branch 2\n",
      "Working on limb L1 branch 14\n",
      "Working on limb L1 branch 26\n",
      "Working on limb L1 branch 27\n",
      "Working on limb L1 branch 0\n",
      "Working on limb L1 branch 11\n",
      "Working on limb L1 branch 23\n",
      "Working on limb L1 branch 29\n",
      "Working on limb L1 branch 33\n",
      "Working on limb L1 branch 34\n",
      "Working on limb L1 branch 1\n",
      "Working on limb L1 branch 10\n",
      "Working on limb L1 branch 40\n",
      "Working on limb L1 branch 45\n",
      "Working on limb L1 branch 28\n",
      "Working on limb L1 branch 35\n",
      "Working on limb L1 branch 41\n",
      "Working on limb L1 branch 42\n",
      "Working on limb L1 branch 21\n",
      "Working on limb L1 branch 39\n",
      "Working on limb L1 branch 46\n",
      "Working on limb L1 branch 47\n",
      "Working on limb L1 branch 32\n",
      "Working on limb L1 branch 36\n",
      "Working on limb L1 branch 30\n",
      "Working on limb L1 branch 43\n",
      "Working on limb L1 branch 50\n",
      "Working on limb L1 branch 51\n",
      "Working on limb L1 branch 48\n",
      "Working on limb L1 branch 52\n",
      "Working on limb L1 branch 9\n",
      "Working on limb L1 branch 37\n",
      "Working on limb L1 branch 31\n",
      "Working on limb L1 branch 44\n",
      "Working on limb L1 branch 54\n",
      "Working on limb L1 branch 57\n",
      "Working on limb L1 branch 49\n",
      "Working on limb L1 branch 53\n",
      "Working on limb L1 branch 60\n",
      "Working on limb L1 branch 61\n",
      "Working on limb L1 branch 12\n",
      "Working on limb L1 branch 38\n",
      "Working on limb L1 branch 55\n",
      "Working on limb L1 branch 56\n",
      "Working on limb L1 branch 4\n",
      "Working on limb L1 branch 15\n",
      "Working on limb L1 branch 58\n",
      "Working on limb L1 branch 59\n",
      "Working on limb L2 branch 16\n",
      "Working on limb L2 branch 15\n",
      "Working on limb L2 branch 17\n",
      "Working on limb L2 branch 5\n",
      "Working on limb L2 branch 13\n",
      "Working on limb L2 branch 14\n",
      "Working on limb L2 branch 18\n",
      "Working on limb L2 branch 0\n",
      "Working on limb L2 branch 1\n",
      "Working on limb L2 branch 4\n",
      "Working on limb L2 branch 12\n",
      "Working on limb L2 branch 2\n",
      "Working on limb L2 branch 9\n",
      "Working on limb L2 branch 19\n",
      "Working on limb L2 branch 20\n",
      "Working on limb L2 branch 8\n",
      "Working on limb L2 branch 10\n",
      "Working on limb L2 branch 3\n",
      "Working on limb L2 branch 6\n",
      "Working on limb L2 branch 7\n",
      "Working on limb L2 branch 11\n",
      "Working on limb L3 branch 8\n",
      "Working on limb L3 branch 7\n",
      "Working on limb L3 branch 9\n",
      "Working on limb L3 branch 5\n",
      "Working on limb L3 branch 6\n",
      "Working on limb L3 branch 10\n",
      "Working on limb L3 branch 11\n",
      "Working on limb L3 branch 2\n",
      "Working on limb L3 branch 4\n",
      "Working on limb L3 branch 1\n",
      "Working on limb L3 branch 13\n",
      "Working on limb L3 branch 14\n",
      "Working on limb L3 branch 15\n",
      "Working on limb L3 branch 0\n",
      "Working on limb L3 branch 3\n",
      "Working on limb L3 branch 12\n",
      "Working on limb L3 branch 16\n",
      "Working on limb L4 branch 0\n",
      "Working on limb L4 branch 1\n",
      "Working on limb L4 branch 2\n",
      "Working on limb L4 branch 3\n",
      "Working on limb L4 branch 4\n",
      "Working on limb L4 branch 7\n",
      "Working on limb L4 branch 8\n",
      "Working on limb L4 branch 5\n",
      "Working on limb L4 branch 6\n",
      "Working on limb L10 branch 1\n",
      "Working on limb L10 branch 0\n",
      "Working on limb L10 branch 2\n",
      "Working on limb L5 branch 11\n",
      "Working on limb L5 branch 13\n",
      "Working on limb L5 branch 16\n",
      "Working on limb L5 branch 18\n",
      "Working on limb L5 branch 19\n",
      "Working on limb L5 branch 20\n",
      "Working on limb L5 branch 22\n",
      "Working on limb L5 branch 9\n",
      "Working on limb L5 branch 21\n",
      "Working on limb L5 branch 6\n",
      "Working on limb L5 branch 23\n",
      "Working on limb L5 branch 4\n",
      "Working on limb L5 branch 5\n",
      "Working on limb L5 branch 7\n",
      "Working on limb L5 branch 8\n",
      "Working on limb L5 branch 10\n",
      "Working on limb L5 branch 25\n",
      "Working on limb L5 branch 26\n",
      "Working on limb L5 branch 27\n",
      "Working on limb L5 branch 17\n",
      "Working on limb L5 branch 24\n",
      "Working on limb L5 branch 3\n",
      "Working on limb L5 branch 12\n",
      "Working on limb L5 branch 28\n",
      "Working on limb L5 branch 29\n",
      "Working on limb L5 branch 1\n",
      "Working on limb L5 branch 2\n",
      "Working on limb L5 branch 0\n",
      "Working on limb L5 branch 14\n",
      "Working on limb L5 branch 15\n",
      "Working on limb L6 branch 4\n",
      "Working on limb L6 branch 0\n",
      "Working on limb L6 branch 3\n",
      "Working on limb L6 branch 1\n",
      "Working on limb L6 branch 2\n",
      "Working on limb L7 branch 0\n",
      "Working on limb L7 branch 1\n",
      "Working on limb L7 branch 3\n",
      "Working on limb L7 branch 4\n",
      "Working on limb L7 branch 6\n",
      "Working on limb L7 branch 2\n",
      "Working on limb L7 branch 5\n",
      "Working on limb L8 branch 0\n",
      "Working on limb L8 branch 1\n",
      "Working on limb L8 branch 2\n",
      "Working on limb L9 branch 2\n",
      "Assigning the old width calculation because no valid new widths\n",
      "Working on limb L9 branch 0\n",
      "Working on limb L9 branch 1\n",
      "Working on limb L9 branch 5\n",
      "Working on limb L9 branch 8\n",
      "Working on limb L9 branch 3\n",
      "Working on limb L9 branch 4\n",
      "Working on limb L9 branch 6\n",
      "Working on limb L9 branch 7\n",
      "Working on limb L9 branch 9\n",
      "functions_list = [<function median_mesh_center at 0x7f1c5c7fed08>, <function n_faces_branch at 0x7f1c5c7fe8c8>]\n"
     ]
    },
    {
     "data": {
      "application/vnd.jupyter.widget-view+json": {
       "model_id": "7103ce4fae944626907628ba691b9705",
       "version_major": 2,
       "version_minor": 0
      },
      "text/plain": [
       "HBox(children=(FloatProgress(value=0.0, max=43.0), HTML(value='')))"
      ]
     },
     "metadata": {},
     "output_type": "display_data"
    },
    {
     "name": "stdout",
     "output_type": "stream",
     "text": [
      "\n"
     ]
    },
    {
     "data": {
      "application/vnd.jupyter.widget-view+json": {
       "model_id": "39791bac0b914c059fdae7b98f4ee90a",
       "version_major": 2,
       "version_minor": 0
      },
      "text/plain": [
       "HBox(children=(FloatProgress(value=0.0, max=127.0), HTML(value='')))"
      ]
     },
     "metadata": {},
     "output_type": "display_data"
    },
    {
     "name": "stdout",
     "output_type": "stream",
     "text": [
      "\n"
     ]
    },
    {
     "data": {
      "application/vnd.jupyter.widget-view+json": {
       "model_id": "b0f15dd8a84f44288345f5675a90cce3",
       "version_major": 2,
       "version_minor": 0
      },
      "text/plain": [
       "HBox(children=(FloatProgress(value=0.0, max=97.0), HTML(value='')))"
      ]
     },
     "metadata": {},
     "output_type": "display_data"
    },
    {
     "name": "stdout",
     "output_type": "stream",
     "text": [
      "\n"
     ]
    },
    {
     "data": {
      "application/vnd.jupyter.widget-view+json": {
       "model_id": "11ee80648da4411091dd654a9f8238de",
       "version_major": 2,
       "version_minor": 0
      },
      "text/plain": [
       "HBox(children=(FloatProgress(value=0.0, max=31.0), HTML(value='')))"
      ]
     },
     "metadata": {},
     "output_type": "display_data"
    },
    {
     "name": "stdout",
     "output_type": "stream",
     "text": [
      "\n"
     ]
    },
    {
     "data": {
      "application/vnd.jupyter.widget-view+json": {
       "model_id": "5fa5035818784ac1a178d6dd5a422329",
       "version_major": 2,
       "version_minor": 0
      },
      "text/plain": [
       "HBox(children=(FloatProgress(value=0.0, max=36.0), HTML(value='')))"
      ]
     },
     "metadata": {},
     "output_type": "display_data"
    },
    {
     "name": "stdout",
     "output_type": "stream",
     "text": [
      "\n"
     ]
    },
    {
     "data": {
      "application/vnd.jupyter.widget-view+json": {
       "model_id": "6668a7a9c6304fb9b8bce41889d2f37b",
       "version_major": 2,
       "version_minor": 0
      },
      "text/plain": [
       "HBox(children=(FloatProgress(value=0.0, max=76.0), HTML(value='')))"
      ]
     },
     "metadata": {},
     "output_type": "display_data"
    },
    {
     "name": "stdout",
     "output_type": "stream",
     "text": [
      "\n"
     ]
    },
    {
     "data": {
      "application/vnd.jupyter.widget-view+json": {
       "model_id": "f3960cdb3c564fa89747b47caccf1b1e",
       "version_major": 2,
       "version_minor": 0
      },
      "text/plain": [
       "HBox(children=(FloatProgress(value=0.0, max=55.0), HTML(value='')))"
      ]
     },
     "metadata": {},
     "output_type": "display_data"
    },
    {
     "name": "stdout",
     "output_type": "stream",
     "text": [
      "\n"
     ]
    },
    {
     "data": {
      "application/vnd.jupyter.widget-view+json": {
       "model_id": "702a4551955540959b9754520375123d",
       "version_major": 2,
       "version_minor": 0
      },
      "text/plain": [
       "HBox(children=(FloatProgress(value=0.0, max=68.0), HTML(value='')))"
      ]
     },
     "metadata": {},
     "output_type": "display_data"
    },
    {
     "name": "stdout",
     "output_type": "stream",
     "text": [
      "\n"
     ]
    },
    {
     "data": {
      "application/vnd.jupyter.widget-view+json": {
       "model_id": "6b2b827d2c17449fb3a5469af566fcd5",
       "version_major": 2,
       "version_minor": 0
      },
      "text/plain": [
       "HBox(children=(FloatProgress(value=0.0, max=18.0), HTML(value='')))"
      ]
     },
     "metadata": {},
     "output_type": "display_data"
    },
    {
     "name": "stdout",
     "output_type": "stream",
     "text": [
      "\n"
     ]
    },
    {
     "data": {
      "application/vnd.jupyter.widget-view+json": {
       "model_id": "90315a53790148229a2cdcb268aca6ef",
       "version_major": 2,
       "version_minor": 0
      },
      "text/plain": [
       "HBox(children=(FloatProgress(value=0.0, max=54.0), HTML(value='')))"
      ]
     },
     "metadata": {},
     "output_type": "display_data"
    },
    {
     "name": "stdout",
     "output_type": "stream",
     "text": [
      "\n"
     ]
    },
    {
     "data": {
      "application/vnd.jupyter.widget-view+json": {
       "model_id": "61d7e134b32a4abfae6cd5e1fbda18de",
       "version_major": 2,
       "version_minor": 0
      },
      "text/plain": [
       "HBox(children=(FloatProgress(value=0.0, max=93.0), HTML(value='')))"
      ]
     },
     "metadata": {},
     "output_type": "display_data"
    },
    {
     "name": "stdout",
     "output_type": "stream",
     "text": [
      "\n"
     ]
    },
    {
     "data": {
      "application/vnd.jupyter.widget-view+json": {
       "model_id": "d5ad424e68df438a9b6ddc3f519a680a",
       "version_major": 2,
       "version_minor": 0
      },
      "text/plain": [
       "HBox(children=(FloatProgress(value=0.0, max=14.0), HTML(value='')))"
      ]
     },
     "metadata": {},
     "output_type": "display_data"
    },
    {
     "name": "stdout",
     "output_type": "stream",
     "text": [
      "\n"
     ]
    },
    {
     "data": {
      "application/vnd.jupyter.widget-view+json": {
       "model_id": "faf51346de0c4b338efc1a76daf4ebe7",
       "version_major": 2,
       "version_minor": 0
      },
      "text/plain": [
       "HBox(children=(FloatProgress(value=0.0, max=201.0), HTML(value='')))"
      ]
     },
     "metadata": {},
     "output_type": "display_data"
    },
    {
     "name": "stdout",
     "output_type": "stream",
     "text": [
      "\n"
     ]
    },
    {
     "data": {
      "application/vnd.jupyter.widget-view+json": {
       "model_id": "48991f511222423fb919558023efce46",
       "version_major": 2,
       "version_minor": 0
      },
      "text/plain": [
       "HBox(children=(FloatProgress(value=0.0, max=54.0), HTML(value='')))"
      ]
     },
     "metadata": {},
     "output_type": "display_data"
    },
    {
     "name": "stdout",
     "output_type": "stream",
     "text": [
      "\n"
     ]
    },
    {
     "data": {
      "application/vnd.jupyter.widget-view+json": {
       "model_id": "56c2b4502a1e494aacbc5b3b0bcb6bc3",
       "version_major": 2,
       "version_minor": 0
      },
      "text/plain": [
       "HBox(children=(FloatProgress(value=0.0, max=30.0), HTML(value='')))"
      ]
     },
     "metadata": {},
     "output_type": "display_data"
    },
    {
     "name": "stdout",
     "output_type": "stream",
     "text": [
      "\n"
     ]
    },
    {
     "data": {
      "application/vnd.jupyter.widget-view+json": {
       "model_id": "00d203ecbf7f4ce5b91571da72046708",
       "version_major": 2,
       "version_minor": 0
      },
      "text/plain": [
       "HBox(children=(FloatProgress(value=0.0, max=8.0), HTML(value='')))"
      ]
     },
     "metadata": {},
     "output_type": "display_data"
    },
    {
     "name": "stdout",
     "output_type": "stream",
     "text": [
      "\n"
     ]
    },
    {
     "data": {
      "application/vnd.jupyter.widget-view+json": {
       "model_id": "c0672d387bff44eb843083d4ca7a30f0",
       "version_major": 2,
       "version_minor": 0
      },
      "text/plain": [
       "HBox(children=(FloatProgress(value=0.0, max=15.0), HTML(value='')))"
      ]
     },
     "metadata": {},
     "output_type": "display_data"
    },
    {
     "name": "stdout",
     "output_type": "stream",
     "text": [
      "\n"
     ]
    },
    {
     "data": {
      "application/vnd.jupyter.widget-view+json": {
       "model_id": "27bd3dde41744491a52b2d309ef3c057",
       "version_major": 2,
       "version_minor": 0
      },
      "text/plain": [
       "HBox(children=(FloatProgress(value=0.0, max=32.0), HTML(value='')))"
      ]
     },
     "metadata": {},
     "output_type": "display_data"
    },
    {
     "name": "stdout",
     "output_type": "stream",
     "text": [
      "\n"
     ]
    },
    {
     "data": {
      "application/vnd.jupyter.widget-view+json": {
       "model_id": "409ed4d33d1f412ebeef91ef724bbe41",
       "version_major": 2,
       "version_minor": 0
      },
      "text/plain": [
       "HBox(children=(FloatProgress(value=0.0, max=18.0), HTML(value='')))"
      ]
     },
     "metadata": {},
     "output_type": "display_data"
    },
    {
     "name": "stdout",
     "output_type": "stream",
     "text": [
      "\n"
     ]
    },
    {
     "data": {
      "application/vnd.jupyter.widget-view+json": {
       "model_id": "35117c243a674e7db14b136a3e6d11d6",
       "version_major": 2,
       "version_minor": 0
      },
      "text/plain": [
       "HBox(children=(FloatProgress(value=0.0, max=10.0), HTML(value='')))"
      ]
     },
     "metadata": {},
     "output_type": "display_data"
    },
    {
     "name": "stdout",
     "output_type": "stream",
     "text": [
      "\n"
     ]
    },
    {
     "data": {
      "application/vnd.jupyter.widget-view+json": {
       "model_id": "f4465618d0cf4dfb9f209a7a54e1f52d",
       "version_major": 2,
       "version_minor": 0
      },
      "text/plain": [
       "HBox(children=(FloatProgress(value=0.0, max=4.0), HTML(value='')))"
      ]
     },
     "metadata": {},
     "output_type": "display_data"
    },
    {
     "name": "stdout",
     "output_type": "stream",
     "text": [
      "\n"
     ]
    },
    {
     "data": {
      "application/vnd.jupyter.widget-view+json": {
       "model_id": "dec2bd62d58145f6968cf76866f7a7d0",
       "version_major": 2,
       "version_minor": 0
      },
      "text/plain": [
       "HBox(children=(FloatProgress(value=0.0, max=29.0), HTML(value='')))"
      ]
     },
     "metadata": {},
     "output_type": "display_data"
    },
    {
     "name": "stdout",
     "output_type": "stream",
     "text": [
      "\n"
     ]
    },
    {
     "data": {
      "application/vnd.jupyter.widget-view+json": {
       "model_id": "412202651cb849478a3880ad4ff8df47",
       "version_major": 2,
       "version_minor": 0
      },
      "text/plain": [
       "HBox(children=(FloatProgress(value=0.0, max=5.0), HTML(value='')))"
      ]
     },
     "metadata": {},
     "output_type": "display_data"
    },
    {
     "name": "stdout",
     "output_type": "stream",
     "text": [
      "\n"
     ]
    },
    {
     "data": {
      "application/vnd.jupyter.widget-view+json": {
       "model_id": "e8b9b90580424d1b8b7425eaede0d2b4",
       "version_major": 2,
       "version_minor": 0
      },
      "text/plain": [
       "HBox(children=(FloatProgress(value=0.0, max=4.0), HTML(value='')))"
      ]
     },
     "metadata": {},
     "output_type": "display_data"
    },
    {
     "name": "stdout",
     "output_type": "stream",
     "text": [
      "\n"
     ]
    },
    {
     "data": {
      "application/vnd.jupyter.widget-view+json": {
       "model_id": "f30cdeb955194fd7a887f1f8e3e1b83c",
       "version_major": 2,
       "version_minor": 0
      },
      "text/plain": [
       "HBox(children=(FloatProgress(value=0.0, max=2.0), HTML(value='')))"
      ]
     },
     "metadata": {},
     "output_type": "display_data"
    },
    {
     "name": "stdout",
     "output_type": "stream",
     "text": [
      "\n"
     ]
    },
    {
     "data": {
      "application/vnd.jupyter.widget-view+json": {
       "model_id": "b9e3b13e95ea4e9ebb40a98d58367f6f",
       "version_major": 2,
       "version_minor": 0
      },
      "text/plain": [
       "HBox(children=(FloatProgress(value=0.0, max=13.0), HTML(value='')))"
      ]
     },
     "metadata": {},
     "output_type": "display_data"
    },
    {
     "name": "stdout",
     "output_type": "stream",
     "text": [
      "\n"
     ]
    },
    {
     "data": {
      "application/vnd.jupyter.widget-view+json": {
       "model_id": "f8294eb1f41b43f39990fb1f8aad631b",
       "version_major": 2,
       "version_minor": 0
      },
      "text/plain": [
       "HBox(children=(FloatProgress(value=0.0, max=23.0), HTML(value='')))"
      ]
     },
     "metadata": {},
     "output_type": "display_data"
    },
    {
     "name": "stdout",
     "output_type": "stream",
     "text": [
      "\n"
     ]
    },
    {
     "data": {
      "application/vnd.jupyter.widget-view+json": {
       "model_id": "37b0b3c800fb4b43beae27ca11f65536",
       "version_major": 2,
       "version_minor": 0
      },
      "text/plain": [
       "HBox(children=(FloatProgress(value=0.0, max=15.0), HTML(value='')))"
      ]
     },
     "metadata": {},
     "output_type": "display_data"
    },
    {
     "name": "stdout",
     "output_type": "stream",
     "text": [
      "\n"
     ]
    },
    {
     "data": {
      "application/vnd.jupyter.widget-view+json": {
       "model_id": "9eabbcd3c0a74ff3a9645ddb5c3e6198",
       "version_major": 2,
       "version_minor": 0
      },
      "text/plain": [
       "HBox(children=(FloatProgress(value=0.0, max=6.0), HTML(value='')))"
      ]
     },
     "metadata": {},
     "output_type": "display_data"
    },
    {
     "name": "stdout",
     "output_type": "stream",
     "text": [
      "\n"
     ]
    },
    {
     "data": {
      "application/vnd.jupyter.widget-view+json": {
       "model_id": "0f56e38100de48ed9c1e70e4ba85d8cc",
       "version_major": 2,
       "version_minor": 0
      },
      "text/plain": [
       "HBox(children=(FloatProgress(value=0.0, max=29.0), HTML(value='')))"
      ]
     },
     "metadata": {},
     "output_type": "display_data"
    },
    {
     "name": "stdout",
     "output_type": "stream",
     "text": [
      "\n"
     ]
    },
    {
     "data": {
      "application/vnd.jupyter.widget-view+json": {
       "model_id": "4d20fc1be4f341bda1f0ebeaa369f19c",
       "version_major": 2,
       "version_minor": 0
      },
      "text/plain": [
       "HBox(children=(FloatProgress(value=0.0, max=3.0), HTML(value='')))"
      ]
     },
     "metadata": {},
     "output_type": "display_data"
    },
    {
     "name": "stdout",
     "output_type": "stream",
     "text": [
      "\n"
     ]
    },
    {
     "data": {
      "application/vnd.jupyter.widget-view+json": {
       "model_id": "4541d2c310294e129504347a241c6d24",
       "version_major": 2,
       "version_minor": 0
      },
      "text/plain": [
       "HBox(children=(FloatProgress(value=0.0, max=27.0), HTML(value='')))"
      ]
     },
     "metadata": {},
     "output_type": "display_data"
    },
    {
     "name": "stdout",
     "output_type": "stream",
     "text": [
      "\n"
     ]
    },
    {
     "data": {
      "application/vnd.jupyter.widget-view+json": {
       "model_id": "88e2f28d10f44921af1812ae6927d50f",
       "version_major": 2,
       "version_minor": 0
      },
      "text/plain": [
       "HBox(children=(FloatProgress(value=0.0, max=28.0), HTML(value='')))"
      ]
     },
     "metadata": {},
     "output_type": "display_data"
    },
    {
     "name": "stdout",
     "output_type": "stream",
     "text": [
      "\n"
     ]
    },
    {
     "data": {
      "application/vnd.jupyter.widget-view+json": {
       "model_id": "2390cd0ed5954007ac3f86a14fc0f486",
       "version_major": 2,
       "version_minor": 0
      },
      "text/plain": [
       "HBox(children=(FloatProgress(value=0.0, max=13.0), HTML(value='')))"
      ]
     },
     "metadata": {},
     "output_type": "display_data"
    },
    {
     "name": "stdout",
     "output_type": "stream",
     "text": [
      "\n"
     ]
    },
    {
     "data": {
      "application/vnd.jupyter.widget-view+json": {
       "model_id": "93af903bd464494b99219b250d81d6a8",
       "version_major": 2,
       "version_minor": 0
      },
      "text/plain": [
       "HBox(children=(FloatProgress(value=0.0, max=18.0), HTML(value='')))"
      ]
     },
     "metadata": {},
     "output_type": "display_data"
    },
    {
     "name": "stdout",
     "output_type": "stream",
     "text": [
      "\n"
     ]
    },
    {
     "data": {
      "application/vnd.jupyter.widget-view+json": {
       "model_id": "12697bb3bffa46649626e1abbac410f6",
       "version_major": 2,
       "version_minor": 0
      },
      "text/plain": [
       "HBox(children=(FloatProgress(value=0.0, max=13.0), HTML(value='')))"
      ]
     },
     "metadata": {},
     "output_type": "display_data"
    },
    {
     "name": "stdout",
     "output_type": "stream",
     "text": [
      "\n"
     ]
    },
    {
     "data": {
      "application/vnd.jupyter.widget-view+json": {
       "model_id": "fde0a023839047c09191b6e7e41effea",
       "version_major": 2,
       "version_minor": 0
      },
      "text/plain": [
       "HBox(children=(FloatProgress(value=0.0, max=15.0), HTML(value='')))"
      ]
     },
     "metadata": {},
     "output_type": "display_data"
    },
    {
     "name": "stdout",
     "output_type": "stream",
     "text": [
      "\n"
     ]
    },
    {
     "data": {
      "application/vnd.jupyter.widget-view+json": {
       "model_id": "86177b38b7be45569a62d108c5ad0d22",
       "version_major": 2,
       "version_minor": 0
      },
      "text/plain": [
       "HBox(children=(FloatProgress(value=0.0, max=7.0), HTML(value='')))"
      ]
     },
     "metadata": {},
     "output_type": "display_data"
    },
    {
     "name": "stdout",
     "output_type": "stream",
     "text": [
      "\n"
     ]
    },
    {
     "data": {
      "application/vnd.jupyter.widget-view+json": {
       "model_id": "54cd1e4f868942a5a59451f49283a746",
       "version_major": 2,
       "version_minor": 0
      },
      "text/plain": [
       "HBox(children=(FloatProgress(value=0.0, max=19.0), HTML(value='')))"
      ]
     },
     "metadata": {},
     "output_type": "display_data"
    },
    {
     "name": "stdout",
     "output_type": "stream",
     "text": [
      "\n"
     ]
    },
    {
     "data": {
      "application/vnd.jupyter.widget-view+json": {
       "model_id": "a62af6f964e9442f8a89ba0bf4ece8d6",
       "version_major": 2,
       "version_minor": 0
      },
      "text/plain": [
       "HBox(children=(FloatProgress(value=0.0, max=11.0), HTML(value='')))"
      ]
     },
     "metadata": {},
     "output_type": "display_data"
    },
    {
     "name": "stdout",
     "output_type": "stream",
     "text": [
      "\n"
     ]
    },
    {
     "data": {
      "application/vnd.jupyter.widget-view+json": {
       "model_id": "c64e6833e42d4320b329f697d8204f01",
       "version_major": 2,
       "version_minor": 0
      },
      "text/plain": [
       "HBox(children=(FloatProgress(value=0.0, max=6.0), HTML(value='')))"
      ]
     },
     "metadata": {},
     "output_type": "display_data"
    },
    {
     "name": "stdout",
     "output_type": "stream",
     "text": [
      "\n"
     ]
    },
    {
     "data": {
      "application/vnd.jupyter.widget-view+json": {
       "model_id": "f446cca2d2924052ac4fe4ada0e762f9",
       "version_major": 2,
       "version_minor": 0
      },
      "text/plain": [
       "HBox(children=(FloatProgress(value=0.0, max=2.0), HTML(value='')))"
      ]
     },
     "metadata": {},
     "output_type": "display_data"
    },
    {
     "name": "stdout",
     "output_type": "stream",
     "text": [
      "\n"
     ]
    },
    {
     "data": {
      "application/vnd.jupyter.widget-view+json": {
       "model_id": "3249180cf21047f5b32f920e36b1cbd1",
       "version_major": 2,
       "version_minor": 0
      },
      "text/plain": [
       "HBox(children=(FloatProgress(value=0.0, max=9.0), HTML(value='')))"
      ]
     },
     "metadata": {},
     "output_type": "display_data"
    },
    {
     "name": "stdout",
     "output_type": "stream",
     "text": [
      "\n"
     ]
    },
    {
     "data": {
      "application/vnd.jupyter.widget-view+json": {
       "model_id": "7d84158c44434d6386ca5b95ca6a6f79",
       "version_major": 2,
       "version_minor": 0
      },
      "text/plain": [
       "HBox(children=(FloatProgress(value=0.0, max=6.0), HTML(value='')))"
      ]
     },
     "metadata": {},
     "output_type": "display_data"
    },
    {
     "name": "stdout",
     "output_type": "stream",
     "text": [
      "\n"
     ]
    },
    {
     "data": {
      "application/vnd.jupyter.widget-view+json": {
       "model_id": "913f7a0b89cc44be9f43a7f4149aee64",
       "version_major": 2,
       "version_minor": 0
      },
      "text/plain": [
       "HBox(children=(FloatProgress(value=0.0, max=6.0), HTML(value='')))"
      ]
     },
     "metadata": {},
     "output_type": "display_data"
    },
    {
     "name": "stdout",
     "output_type": "stream",
     "text": [
      "\n"
     ]
    },
    {
     "data": {
      "application/vnd.jupyter.widget-view+json": {
       "model_id": "9f24c4f871f540808277aba267308ba7",
       "version_major": 2,
       "version_minor": 0
      },
      "text/plain": [
       "HBox(children=(FloatProgress(value=0.0, max=72.0), HTML(value='')))"
      ]
     },
     "metadata": {},
     "output_type": "display_data"
    },
    {
     "name": "stdout",
     "output_type": "stream",
     "text": [
      "\n"
     ]
    },
    {
     "data": {
      "application/vnd.jupyter.widget-view+json": {
       "model_id": "b4668f4e09834076a116cc90fd8f8e9f",
       "version_major": 2,
       "version_minor": 0
      },
      "text/plain": [
       "HBox(children=(FloatProgress(value=0.0, max=7.0), HTML(value='')))"
      ]
     },
     "metadata": {},
     "output_type": "display_data"
    },
    {
     "name": "stdout",
     "output_type": "stream",
     "text": [
      "\n"
     ]
    },
    {
     "data": {
      "application/vnd.jupyter.widget-view+json": {
       "model_id": "7591b3701f9e403b8e3e1df3c3c4e81a",
       "version_major": 2,
       "version_minor": 0
      },
      "text/plain": [
       "HBox(children=(FloatProgress(value=0.0, max=7.0), HTML(value='')))"
      ]
     },
     "metadata": {},
     "output_type": "display_data"
    },
    {
     "name": "stdout",
     "output_type": "stream",
     "text": [
      "\n"
     ]
    },
    {
     "data": {
      "application/vnd.jupyter.widget-view+json": {
       "model_id": "1f08d95226434e21903b20894b7dee61",
       "version_major": 2,
       "version_minor": 0
      },
      "text/plain": [
       "HBox(children=(FloatProgress(value=0.0, max=5.0), HTML(value='')))"
      ]
     },
     "metadata": {},
     "output_type": "display_data"
    },
    {
     "name": "stdout",
     "output_type": "stream",
     "text": [
      "\n"
     ]
    },
    {
     "data": {
      "application/vnd.jupyter.widget-view+json": {
       "model_id": "f415983a00c24fe1aaf5df9ddb8bb840",
       "version_major": 2,
       "version_minor": 0
      },
      "text/plain": [
       "HBox(children=(FloatProgress(value=0.0, max=17.0), HTML(value='')))"
      ]
     },
     "metadata": {},
     "output_type": "display_data"
    },
    {
     "name": "stdout",
     "output_type": "stream",
     "text": [
      "\n"
     ]
    },
    {
     "data": {
      "application/vnd.jupyter.widget-view+json": {
       "model_id": "82d694a935034d54a1e3206c725a4acd",
       "version_major": 2,
       "version_minor": 0
      },
      "text/plain": [
       "HBox(children=(FloatProgress(value=0.0, max=7.0), HTML(value='')))"
      ]
     },
     "metadata": {},
     "output_type": "display_data"
    },
    {
     "name": "stdout",
     "output_type": "stream",
     "text": [
      "\n"
     ]
    },
    {
     "data": {
      "application/vnd.jupyter.widget-view+json": {
       "model_id": "7e80df527ea04cfe93025b3bc1fffc40",
       "version_major": 2,
       "version_minor": 0
      },
      "text/plain": [
       "HBox(children=(FloatProgress(value=0.0, max=8.0), HTML(value='')))"
      ]
     },
     "metadata": {},
     "output_type": "display_data"
    },
    {
     "name": "stdout",
     "output_type": "stream",
     "text": [
      "\n"
     ]
    },
    {
     "data": {
      "application/vnd.jupyter.widget-view+json": {
       "model_id": "c98ee64e7c484abab3941c96b32b81e1",
       "version_major": 2,
       "version_minor": 0
      },
      "text/plain": [
       "HBox(children=(FloatProgress(value=0.0, max=54.0), HTML(value='')))"
      ]
     },
     "metadata": {},
     "output_type": "display_data"
    },
    {
     "name": "stdout",
     "output_type": "stream",
     "text": [
      "\n"
     ]
    },
    {
     "data": {
      "application/vnd.jupyter.widget-view+json": {
       "model_id": "61879aebd23140bb928a29cbf4a82b7c",
       "version_major": 2,
       "version_minor": 0
      },
      "text/plain": [
       "HBox(children=(FloatProgress(value=0.0, max=17.0), HTML(value='')))"
      ]
     },
     "metadata": {},
     "output_type": "display_data"
    },
    {
     "name": "stdout",
     "output_type": "stream",
     "text": [
      "\n"
     ]
    },
    {
     "data": {
      "application/vnd.jupyter.widget-view+json": {
       "model_id": "5679de17be5d4f0a8eb6eb03ac3b4d08",
       "version_major": 2,
       "version_minor": 0
      },
      "text/plain": [
       "HBox(children=(FloatProgress(value=0.0, max=9.0), HTML(value='')))"
      ]
     },
     "metadata": {},
     "output_type": "display_data"
    },
    {
     "name": "stdout",
     "output_type": "stream",
     "text": [
      "\n"
     ]
    },
    {
     "data": {
      "application/vnd.jupyter.widget-view+json": {
       "model_id": "85be0f665fc14f5088c4db03c1597506",
       "version_major": 2,
       "version_minor": 0
      },
      "text/plain": [
       "HBox(children=(FloatProgress(value=0.0, max=8.0), HTML(value='')))"
      ]
     },
     "metadata": {},
     "output_type": "display_data"
    },
    {
     "name": "stdout",
     "output_type": "stream",
     "text": [
      "\n"
     ]
    },
    {
     "data": {
      "application/vnd.jupyter.widget-view+json": {
       "model_id": "0ccb4128b8fe462eb81a1ede8b179916",
       "version_major": 2,
       "version_minor": 0
      },
      "text/plain": [
       "HBox(children=(FloatProgress(value=0.0, max=151.0), HTML(value='')))"
      ]
     },
     "metadata": {},
     "output_type": "display_data"
    },
    {
     "name": "stdout",
     "output_type": "stream",
     "text": [
      "\n"
     ]
    },
    {
     "data": {
      "application/vnd.jupyter.widget-view+json": {
       "model_id": "5097a17e3b114e67b58b46d0f8d52b37",
       "version_major": 2,
       "version_minor": 0
      },
      "text/plain": [
       "HBox(children=(FloatProgress(value=0.0, max=48.0), HTML(value='')))"
      ]
     },
     "metadata": {},
     "output_type": "display_data"
    },
    {
     "name": "stdout",
     "output_type": "stream",
     "text": [
      "\n"
     ]
    },
    {
     "data": {
      "application/vnd.jupyter.widget-view+json": {
       "model_id": "a83c4bf8697a4aa0a1d668d5b42caebd",
       "version_major": 2,
       "version_minor": 0
      },
      "text/plain": [
       "HBox(children=(FloatProgress(value=0.0, max=32.0), HTML(value='')))"
      ]
     },
     "metadata": {},
     "output_type": "display_data"
    },
    {
     "name": "stdout",
     "output_type": "stream",
     "text": [
      "\n"
     ]
    },
    {
     "data": {
      "application/vnd.jupyter.widget-view+json": {
       "model_id": "5190d179cfd34c0e824a8542ef652586",
       "version_major": 2,
       "version_minor": 0
      },
      "text/plain": [
       "HBox(children=(FloatProgress(value=0.0, max=51.0), HTML(value='')))"
      ]
     },
     "metadata": {},
     "output_type": "display_data"
    },
    {
     "name": "stdout",
     "output_type": "stream",
     "text": [
      "\n"
     ]
    },
    {
     "data": {
      "application/vnd.jupyter.widget-view+json": {
       "model_id": "8aa504de00314cc0b9c2feeb10ed3da5",
       "version_major": 2,
       "version_minor": 0
      },
      "text/plain": [
       "HBox(children=(FloatProgress(value=0.0, max=14.0), HTML(value='')))"
      ]
     },
     "metadata": {},
     "output_type": "display_data"
    },
    {
     "name": "stdout",
     "output_type": "stream",
     "text": [
      "\n"
     ]
    },
    {
     "data": {
      "application/vnd.jupyter.widget-view+json": {
       "model_id": "514d28dc72894f8582751890259b8a6f",
       "version_major": 2,
       "version_minor": 0
      },
      "text/plain": [
       "HBox(children=(FloatProgress(value=0.0, max=13.0), HTML(value='')))"
      ]
     },
     "metadata": {},
     "output_type": "display_data"
    },
    {
     "name": "stdout",
     "output_type": "stream",
     "text": [
      "\n"
     ]
    },
    {
     "data": {
      "application/vnd.jupyter.widget-view+json": {
       "model_id": "23be3a43e0de4d069e083731fb1bf873",
       "version_major": 2,
       "version_minor": 0
      },
      "text/plain": [
       "HBox(children=(FloatProgress(value=0.0, max=10.0), HTML(value='')))"
      ]
     },
     "metadata": {},
     "output_type": "display_data"
    },
    {
     "name": "stdout",
     "output_type": "stream",
     "text": [
      "\n"
     ]
    },
    {
     "data": {
      "application/vnd.jupyter.widget-view+json": {
       "model_id": "0589ad81eaed48eca1bb335157f5e554",
       "version_major": 2,
       "version_minor": 0
      },
      "text/plain": [
       "HBox(children=(FloatProgress(value=0.0, max=4.0), HTML(value='')))"
      ]
     },
     "metadata": {},
     "output_type": "display_data"
    },
    {
     "name": "stdout",
     "output_type": "stream",
     "text": [
      "\n"
     ]
    },
    {
     "data": {
      "application/vnd.jupyter.widget-view+json": {
       "model_id": "f65814d37e59490bb52926b9cc4cb380",
       "version_major": 2,
       "version_minor": 0
      },
      "text/plain": [
       "HBox(children=(FloatProgress(value=0.0, max=20.0), HTML(value='')))"
      ]
     },
     "metadata": {},
     "output_type": "display_data"
    },
    {
     "name": "stdout",
     "output_type": "stream",
     "text": [
      "\n"
     ]
    },
    {
     "data": {
      "application/vnd.jupyter.widget-view+json": {
       "model_id": "2ce4f005b55b4fd489974af79eca6169",
       "version_major": 2,
       "version_minor": 0
      },
      "text/plain": [
       "HBox(children=(FloatProgress(value=0.0, max=8.0), HTML(value='')))"
      ]
     },
     "metadata": {},
     "output_type": "display_data"
    },
    {
     "name": "stdout",
     "output_type": "stream",
     "text": [
      "\n"
     ]
    },
    {
     "data": {
      "application/vnd.jupyter.widget-view+json": {
       "model_id": "4bfa7f5fc88d42d5a2eb51bd713ae6a3",
       "version_major": 2,
       "version_minor": 0
      },
      "text/plain": [
       "HBox(children=(FloatProgress(value=0.0, max=6.0), HTML(value='')))"
      ]
     },
     "metadata": {},
     "output_type": "display_data"
    },
    {
     "name": "stdout",
     "output_type": "stream",
     "text": [
      "\n"
     ]
    },
    {
     "data": {
      "application/vnd.jupyter.widget-view+json": {
       "model_id": "5d450caf1f4343d4bcb19c35a0a01deb",
       "version_major": 2,
       "version_minor": 0
      },
      "text/plain": [
       "HBox(children=(FloatProgress(value=0.0, max=3.0), HTML(value='')))"
      ]
     },
     "metadata": {},
     "output_type": "display_data"
    },
    {
     "name": "stdout",
     "output_type": "stream",
     "text": [
      "\n"
     ]
    },
    {
     "data": {
      "application/vnd.jupyter.widget-view+json": {
       "model_id": "b81ceb4484174144b9dd48b3c22a4b0e",
       "version_major": 2,
       "version_minor": 0
      },
      "text/plain": [
       "HBox(children=(FloatProgress(value=0.0, max=17.0), HTML(value='')))"
      ]
     },
     "metadata": {},
     "output_type": "display_data"
    },
    {
     "name": "stdout",
     "output_type": "stream",
     "text": [
      "\n"
     ]
    },
    {
     "data": {
      "application/vnd.jupyter.widget-view+json": {
       "model_id": "11ede5b5fe9a43dfb249156f4a1671ab",
       "version_major": 2,
       "version_minor": 0
      },
      "text/plain": [
       "HBox(children=(FloatProgress(value=0.0, max=13.0), HTML(value='')))"
      ]
     },
     "metadata": {},
     "output_type": "display_data"
    },
    {
     "name": "stdout",
     "output_type": "stream",
     "text": [
      "\n"
     ]
    },
    {
     "data": {
      "application/vnd.jupyter.widget-view+json": {
       "model_id": "41bd71bca1f04cc6bbb6ba05bd3a0422",
       "version_major": 2,
       "version_minor": 0
      },
      "text/plain": [
       "HBox(children=(FloatProgress(value=0.0, max=5.0), HTML(value='')))"
      ]
     },
     "metadata": {},
     "output_type": "display_data"
    },
    {
     "name": "stdout",
     "output_type": "stream",
     "text": [
      "\n"
     ]
    },
    {
     "data": {
      "application/vnd.jupyter.widget-view+json": {
       "model_id": "36d37ab2d2874381a262d1063b3eb6d7",
       "version_major": 2,
       "version_minor": 0
      },
      "text/plain": [
       "HBox(children=(FloatProgress(value=0.0, max=18.0), HTML(value='')))"
      ]
     },
     "metadata": {},
     "output_type": "display_data"
    },
    {
     "name": "stdout",
     "output_type": "stream",
     "text": [
      "\n"
     ]
    },
    {
     "data": {
      "application/vnd.jupyter.widget-view+json": {
       "model_id": "b64bd3065390489a8635ca224a3b0b1e",
       "version_major": 2,
       "version_minor": 0
      },
      "text/plain": [
       "HBox(children=(FloatProgress(value=0.0, max=37.0), HTML(value='')))"
      ]
     },
     "metadata": {},
     "output_type": "display_data"
    },
    {
     "name": "stdout",
     "output_type": "stream",
     "text": [
      "\n"
     ]
    },
    {
     "data": {
      "application/vnd.jupyter.widget-view+json": {
       "model_id": "0d795e7c84be4a99a93a90803b400540",
       "version_major": 2,
       "version_minor": 0
      },
      "text/plain": [
       "HBox(children=(FloatProgress(value=0.0, max=36.0), HTML(value='')))"
      ]
     },
     "metadata": {},
     "output_type": "display_data"
    },
    {
     "name": "stdout",
     "output_type": "stream",
     "text": [
      "\n"
     ]
    },
    {
     "data": {
      "application/vnd.jupyter.widget-view+json": {
       "model_id": "ec97a0b2b51c43bbba30f5e2f2938930",
       "version_major": 2,
       "version_minor": 0
      },
      "text/plain": [
       "HBox(children=(FloatProgress(value=0.0, max=12.0), HTML(value='')))"
      ]
     },
     "metadata": {},
     "output_type": "display_data"
    },
    {
     "name": "stdout",
     "output_type": "stream",
     "text": [
      "\n"
     ]
    },
    {
     "data": {
      "application/vnd.jupyter.widget-view+json": {
       "model_id": "b7ff24be5cc345ba8d247f66254ddd3e",
       "version_major": 2,
       "version_minor": 0
      },
      "text/plain": [
       "HBox(children=(FloatProgress(value=0.0, max=14.0), HTML(value='')))"
      ]
     },
     "metadata": {},
     "output_type": "display_data"
    },
    {
     "name": "stdout",
     "output_type": "stream",
     "text": [
      "\n"
     ]
    },
    {
     "data": {
      "application/vnd.jupyter.widget-view+json": {
       "model_id": "d97b320e356d48c8a84aa9a09577a720",
       "version_major": 2,
       "version_minor": 0
      },
      "text/plain": [
       "HBox(children=(FloatProgress(value=0.0, max=18.0), HTML(value='')))"
      ]
     },
     "metadata": {},
     "output_type": "display_data"
    },
    {
     "name": "stdout",
     "output_type": "stream",
     "text": [
      "\n"
     ]
    },
    {
     "data": {
      "application/vnd.jupyter.widget-view+json": {
       "model_id": "698dc148099f45c28cf93884a4f39d15",
       "version_major": 2,
       "version_minor": 0
      },
      "text/plain": [
       "HBox(children=(FloatProgress(value=0.0, max=23.0), HTML(value='')))"
      ]
     },
     "metadata": {},
     "output_type": "display_data"
    },
    {
     "name": "stdout",
     "output_type": "stream",
     "text": [
      "\n"
     ]
    },
    {
     "data": {
      "application/vnd.jupyter.widget-view+json": {
       "model_id": "7ded1f13414840438eae8bbabd7e232f",
       "version_major": 2,
       "version_minor": 0
      },
      "text/plain": [
       "HBox(children=(FloatProgress(value=0.0, max=2.0), HTML(value='')))"
      ]
     },
     "metadata": {},
     "output_type": "display_data"
    },
    {
     "name": "stdout",
     "output_type": "stream",
     "text": [
      "\n"
     ]
    },
    {
     "data": {
      "application/vnd.jupyter.widget-view+json": {
       "model_id": "d00238a28c0146edbd9743b25270f6fc",
       "version_major": 2,
       "version_minor": 0
      },
      "text/plain": [
       "HBox(children=(FloatProgress(value=0.0, max=10.0), HTML(value='')))"
      ]
     },
     "metadata": {},
     "output_type": "display_data"
    },
    {
     "name": "stdout",
     "output_type": "stream",
     "text": [
      "\n"
     ]
    },
    {
     "data": {
      "application/vnd.jupyter.widget-view+json": {
       "model_id": "f63cf9263dba46e69d9f2aa9c6011cdf",
       "version_major": 2,
       "version_minor": 0
      },
      "text/plain": [
       "HBox(children=(FloatProgress(value=0.0, max=6.0), HTML(value='')))"
      ]
     },
     "metadata": {},
     "output_type": "display_data"
    },
    {
     "name": "stdout",
     "output_type": "stream",
     "text": [
      "\n"
     ]
    },
    {
     "data": {
      "application/vnd.jupyter.widget-view+json": {
       "model_id": "0c2fb685250b42f3a9b337468063b8cc",
       "version_major": 2,
       "version_minor": 0
      },
      "text/plain": [
       "HBox(children=(FloatProgress(value=0.0, max=9.0), HTML(value='')))"
      ]
     },
     "metadata": {},
     "output_type": "display_data"
    },
    {
     "name": "stdout",
     "output_type": "stream",
     "text": [
      "\n"
     ]
    },
    {
     "data": {
      "application/vnd.jupyter.widget-view+json": {
       "model_id": "5f90b32c1f7f4648ad3f08eaa0653a60",
       "version_major": 2,
       "version_minor": 0
      },
      "text/plain": [
       "HBox(children=(FloatProgress(value=0.0, max=105.0), HTML(value='')))"
      ]
     },
     "metadata": {},
     "output_type": "display_data"
    },
    {
     "name": "stdout",
     "output_type": "stream",
     "text": [
      "\n"
     ]
    },
    {
     "data": {
      "application/vnd.jupyter.widget-view+json": {
       "model_id": "2896a10820874356ba1a22f870e3033d",
       "version_major": 2,
       "version_minor": 0
      },
      "text/plain": [
       "HBox(children=(FloatProgress(value=0.0, max=72.0), HTML(value='')))"
      ]
     },
     "metadata": {},
     "output_type": "display_data"
    },
    {
     "name": "stdout",
     "output_type": "stream",
     "text": [
      "\n"
     ]
    },
    {
     "data": {
      "application/vnd.jupyter.widget-view+json": {
       "model_id": "c7a658a17a9045d58d61b56a522f364b",
       "version_major": 2,
       "version_minor": 0
      },
      "text/plain": [
       "HBox(children=(FloatProgress(value=0.0, max=78.0), HTML(value='')))"
      ]
     },
     "metadata": {},
     "output_type": "display_data"
    },
    {
     "name": "stdout",
     "output_type": "stream",
     "text": [
      "\n"
     ]
    },
    {
     "data": {
      "application/vnd.jupyter.widget-view+json": {
       "model_id": "957caea4a20c41f694ae485bb2f4ae82",
       "version_major": 2,
       "version_minor": 0
      },
      "text/plain": [
       "HBox(children=(FloatProgress(value=0.0, max=43.0), HTML(value='')))"
      ]
     },
     "metadata": {},
     "output_type": "display_data"
    },
    {
     "name": "stdout",
     "output_type": "stream",
     "text": [
      "\n"
     ]
    },
    {
     "data": {
      "application/vnd.jupyter.widget-view+json": {
       "model_id": "8a1599abfb83448a86fec4c317914266",
       "version_major": 2,
       "version_minor": 0
      },
      "text/plain": [
       "HBox(children=(FloatProgress(value=0.0, max=60.0), HTML(value='')))"
      ]
     },
     "metadata": {},
     "output_type": "display_data"
    },
    {
     "name": "stdout",
     "output_type": "stream",
     "text": [
      "\n"
     ]
    },
    {
     "data": {
      "application/vnd.jupyter.widget-view+json": {
       "model_id": "ac54783145a24efabf9cd840b75cede8",
       "version_major": 2,
       "version_minor": 0
      },
      "text/plain": [
       "HBox(children=(FloatProgress(value=0.0, max=123.0), HTML(value='')))"
      ]
     },
     "metadata": {},
     "output_type": "display_data"
    },
    {
     "name": "stdout",
     "output_type": "stream",
     "text": [
      "\n"
     ]
    },
    {
     "data": {
      "application/vnd.jupyter.widget-view+json": {
       "model_id": "e42f7bda2376473ca08be670c7ceb330",
       "version_major": 2,
       "version_minor": 0
      },
      "text/plain": [
       "HBox(children=(FloatProgress(value=0.0, max=25.0), HTML(value='')))"
      ]
     },
     "metadata": {},
     "output_type": "display_data"
    },
    {
     "name": "stdout",
     "output_type": "stream",
     "text": [
      "\n"
     ]
    },
    {
     "data": {
      "application/vnd.jupyter.widget-view+json": {
       "model_id": "e1bc5e7ea1884000a1f1b829b56ab32d",
       "version_major": 2,
       "version_minor": 0
      },
      "text/plain": [
       "HBox(children=(FloatProgress(value=0.0, max=69.0), HTML(value='')))"
      ]
     },
     "metadata": {},
     "output_type": "display_data"
    },
    {
     "name": "stdout",
     "output_type": "stream",
     "text": [
      "\n"
     ]
    },
    {
     "data": {
      "application/vnd.jupyter.widget-view+json": {
       "model_id": "081ca79fa0e04beb81f3be8b4e85b153",
       "version_major": 2,
       "version_minor": 0
      },
      "text/plain": [
       "HBox(children=(FloatProgress(value=0.0, max=42.0), HTML(value='')))"
      ]
     },
     "metadata": {},
     "output_type": "display_data"
    },
    {
     "name": "stdout",
     "output_type": "stream",
     "text": [
      "\n"
     ]
    },
    {
     "data": {
      "application/vnd.jupyter.widget-view+json": {
       "model_id": "d00114eb4da54d5a87a5190986cda491",
       "version_major": 2,
       "version_minor": 0
      },
      "text/plain": [
       "HBox(children=(FloatProgress(value=0.0, max=87.0), HTML(value='')))"
      ]
     },
     "metadata": {},
     "output_type": "display_data"
    },
    {
     "name": "stdout",
     "output_type": "stream",
     "text": [
      "\n"
     ]
    },
    {
     "data": {
      "application/vnd.jupyter.widget-view+json": {
       "model_id": "6db6d3af817b4331b37e4468b3934689",
       "version_major": 2,
       "version_minor": 0
      },
      "text/plain": [
       "HBox(children=(FloatProgress(value=0.0, max=27.0), HTML(value='')))"
      ]
     },
     "metadata": {},
     "output_type": "display_data"
    },
    {
     "name": "stdout",
     "output_type": "stream",
     "text": [
      "\n"
     ]
    },
    {
     "data": {
      "application/vnd.jupyter.widget-view+json": {
       "model_id": "c11d7f0480e9488daeba38b2ac6013f7",
       "version_major": 2,
       "version_minor": 0
      },
      "text/plain": [
       "HBox(children=(FloatProgress(value=0.0, max=35.0), HTML(value='')))"
      ]
     },
     "metadata": {},
     "output_type": "display_data"
    },
    {
     "name": "stdout",
     "output_type": "stream",
     "text": [
      "\n"
     ]
    },
    {
     "data": {
      "application/vnd.jupyter.widget-view+json": {
       "model_id": "7858624966f04ecab0f24b1b2b4c8d92",
       "version_major": 2,
       "version_minor": 0
      },
      "text/plain": [
       "HBox(children=(FloatProgress(value=0.0, max=91.0), HTML(value='')))"
      ]
     },
     "metadata": {},
     "output_type": "display_data"
    },
    {
     "name": "stdout",
     "output_type": "stream",
     "text": [
      "\n"
     ]
    },
    {
     "data": {
      "application/vnd.jupyter.widget-view+json": {
       "model_id": "0b35513ebc314896bcd84ecdf7042b0b",
       "version_major": 2,
       "version_minor": 0
      },
      "text/plain": [
       "HBox(children=(FloatProgress(value=0.0, max=17.0), HTML(value='')))"
      ]
     },
     "metadata": {},
     "output_type": "display_data"
    },
    {
     "name": "stdout",
     "output_type": "stream",
     "text": [
      "\n"
     ]
    },
    {
     "data": {
      "application/vnd.jupyter.widget-view+json": {
       "model_id": "d3fb28ebcde64ac1813353995ecdbded",
       "version_major": 2,
       "version_minor": 0
      },
      "text/plain": [
       "HBox(children=(FloatProgress(value=0.0, max=7.0), HTML(value='')))"
      ]
     },
     "metadata": {},
     "output_type": "display_data"
    },
    {
     "name": "stdout",
     "output_type": "stream",
     "text": [
      "\n"
     ]
    },
    {
     "data": {
      "application/vnd.jupyter.widget-view+json": {
       "model_id": "355d5477ee36471f909b3e97d4b0ddea",
       "version_major": 2,
       "version_minor": 0
      },
      "text/plain": [
       "HBox(children=(FloatProgress(value=0.0, max=66.0), HTML(value='')))"
      ]
     },
     "metadata": {},
     "output_type": "display_data"
    },
    {
     "name": "stdout",
     "output_type": "stream",
     "text": [
      "\n"
     ]
    },
    {
     "data": {
      "application/vnd.jupyter.widget-view+json": {
       "model_id": "495dd96e390449019fe149af3d765831",
       "version_major": 2,
       "version_minor": 0
      },
      "text/plain": [
       "HBox(children=(FloatProgress(value=0.0, max=8.0), HTML(value='')))"
      ]
     },
     "metadata": {},
     "output_type": "display_data"
    },
    {
     "name": "stdout",
     "output_type": "stream",
     "text": [
      "\n"
     ]
    },
    {
     "data": {
      "application/vnd.jupyter.widget-view+json": {
       "model_id": "78130adf0bd94aadafd0cb9320818256",
       "version_major": 2,
       "version_minor": 0
      },
      "text/plain": [
       "HBox(children=(FloatProgress(value=0.0, max=7.0), HTML(value='')))"
      ]
     },
     "metadata": {},
     "output_type": "display_data"
    },
    {
     "name": "stdout",
     "output_type": "stream",
     "text": [
      "\n"
     ]
    },
    {
     "data": {
      "application/vnd.jupyter.widget-view+json": {
       "model_id": "a91c0b38afff41258a83937015c1b6b0",
       "version_major": 2,
       "version_minor": 0
      },
      "text/plain": [
       "HBox(children=(FloatProgress(value=0.0, max=6.0), HTML(value='')))"
      ]
     },
     "metadata": {},
     "output_type": "display_data"
    },
    {
     "name": "stdout",
     "output_type": "stream",
     "text": [
      "\n"
     ]
    },
    {
     "data": {
      "application/vnd.jupyter.widget-view+json": {
       "model_id": "341523b0d377427b86a8970c9a4eeb8b",
       "version_major": 2,
       "version_minor": 0
      },
      "text/plain": [
       "HBox(children=(FloatProgress(value=0.0, max=39.0), HTML(value='')))"
      ]
     },
     "metadata": {},
     "output_type": "display_data"
    },
    {
     "name": "stdout",
     "output_type": "stream",
     "text": [
      "\n"
     ]
    },
    {
     "data": {
      "application/vnd.jupyter.widget-view+json": {
       "model_id": "0cdcbea05eb441b9bcf1e2f10768a20c",
       "version_major": 2,
       "version_minor": 0
      },
      "text/plain": [
       "HBox(children=(FloatProgress(value=0.0, max=51.0), HTML(value='')))"
      ]
     },
     "metadata": {},
     "output_type": "display_data"
    },
    {
     "name": "stdout",
     "output_type": "stream",
     "text": [
      "\n"
     ]
    },
    {
     "data": {
      "application/vnd.jupyter.widget-view+json": {
       "model_id": "f0478cc32fa54de8bf36a862429ed0f8",
       "version_major": 2,
       "version_minor": 0
      },
      "text/plain": [
       "HBox(children=(FloatProgress(value=0.0, max=11.0), HTML(value='')))"
      ]
     },
     "metadata": {},
     "output_type": "display_data"
    },
    {
     "name": "stdout",
     "output_type": "stream",
     "text": [
      "\n"
     ]
    },
    {
     "data": {
      "application/vnd.jupyter.widget-view+json": {
       "model_id": "01969434f65349ca9ce76bbce3b71f96",
       "version_major": 2,
       "version_minor": 0
      },
      "text/plain": [
       "HBox(children=(FloatProgress(value=0.0, max=24.0), HTML(value='')))"
      ]
     },
     "metadata": {},
     "output_type": "display_data"
    },
    {
     "name": "stdout",
     "output_type": "stream",
     "text": [
      "\n"
     ]
    },
    {
     "data": {
      "application/vnd.jupyter.widget-view+json": {
       "model_id": "4e2ac20cd96c4fd2a5521a6341de3839",
       "version_major": 2,
       "version_minor": 0
      },
      "text/plain": [
       "HBox(children=(FloatProgress(value=0.0, max=9.0), HTML(value='')))"
      ]
     },
     "metadata": {},
     "output_type": "display_data"
    },
    {
     "name": "stdout",
     "output_type": "stream",
     "text": [
      "\n"
     ]
    },
    {
     "data": {
      "application/vnd.jupyter.widget-view+json": {
       "model_id": "fd6b5cee73be4de5982176df60393c9c",
       "version_major": 2,
       "version_minor": 0
      },
      "text/plain": [
       "HBox(children=(FloatProgress(value=0.0, max=4.0), HTML(value='')))"
      ]
     },
     "metadata": {},
     "output_type": "display_data"
    },
    {
     "name": "stdout",
     "output_type": "stream",
     "text": [
      "\n"
     ]
    },
    {
     "data": {
      "application/vnd.jupyter.widget-view+json": {
       "model_id": "7ff7ebe51d954691854e0e67825e9df5",
       "version_major": 2,
       "version_minor": 0
      },
      "text/plain": [
       "HBox(children=(FloatProgress(value=0.0, max=22.0), HTML(value='')))"
      ]
     },
     "metadata": {},
     "output_type": "display_data"
    },
    {
     "name": "stdout",
     "output_type": "stream",
     "text": [
      "\n"
     ]
    },
    {
     "data": {
      "application/vnd.jupyter.widget-view+json": {
       "model_id": "09f20537be9f47da827611621df3a4c5",
       "version_major": 2,
       "version_minor": 0
      },
      "text/plain": [
       "HBox(children=(FloatProgress(value=0.0, max=4.0), HTML(value='')))"
      ]
     },
     "metadata": {},
     "output_type": "display_data"
    },
    {
     "name": "stdout",
     "output_type": "stream",
     "text": [
      "\n"
     ]
    },
    {
     "data": {
      "application/vnd.jupyter.widget-view+json": {
       "model_id": "151f67a88bd446c4b068be2c0f1eae58",
       "version_major": 2,
       "version_minor": 0
      },
      "text/plain": [
       "HBox(children=(FloatProgress(value=0.0, max=8.0), HTML(value='')))"
      ]
     },
     "metadata": {},
     "output_type": "display_data"
    },
    {
     "name": "stdout",
     "output_type": "stream",
     "text": [
      "\n"
     ]
    },
    {
     "data": {
      "application/vnd.jupyter.widget-view+json": {
       "model_id": "45557c14c7344848b664855bfbde46de",
       "version_major": 2,
       "version_minor": 0
      },
      "text/plain": [
       "HBox(children=(FloatProgress(value=0.0, max=18.0), HTML(value='')))"
      ]
     },
     "metadata": {},
     "output_type": "display_data"
    },
    {
     "name": "stdout",
     "output_type": "stream",
     "text": [
      "\n"
     ]
    },
    {
     "data": {
      "application/vnd.jupyter.widget-view+json": {
       "model_id": "23bcb9785a5740298e803d891e1f3f64",
       "version_major": 2,
       "version_minor": 0
      },
      "text/plain": [
       "HBox(children=(FloatProgress(value=0.0, max=147.0), HTML(value='')))"
      ]
     },
     "metadata": {},
     "output_type": "display_data"
    },
    {
     "name": "stdout",
     "output_type": "stream",
     "text": [
      "\n"
     ]
    },
    {
     "data": {
      "application/vnd.jupyter.widget-view+json": {
       "model_id": "f69e12d6f1ee42cc82c6a159feb67aff",
       "version_major": 2,
       "version_minor": 0
      },
      "text/plain": [
       "HBox(children=(FloatProgress(value=0.0, max=8.0), HTML(value='')))"
      ]
     },
     "metadata": {},
     "output_type": "display_data"
    },
    {
     "name": "stdout",
     "output_type": "stream",
     "text": [
      "\n"
     ]
    },
    {
     "data": {
      "application/vnd.jupyter.widget-view+json": {
       "model_id": "f1133446ddfc4f86b2425959eae06e3b",
       "version_major": 2,
       "version_minor": 0
      },
      "text/plain": [
       "HBox(children=(FloatProgress(value=0.0, max=13.0), HTML(value='')))"
      ]
     },
     "metadata": {},
     "output_type": "display_data"
    },
    {
     "name": "stdout",
     "output_type": "stream",
     "text": [
      "\n"
     ]
    },
    {
     "data": {
      "application/vnd.jupyter.widget-view+json": {
       "model_id": "42957b7086b544b783610822e9f216e5",
       "version_major": 2,
       "version_minor": 0
      },
      "text/plain": [
       "HBox(children=(FloatProgress(value=0.0, max=9.0), HTML(value='')))"
      ]
     },
     "metadata": {},
     "output_type": "display_data"
    },
    {
     "name": "stdout",
     "output_type": "stream",
     "text": [
      "\n"
     ]
    },
    {
     "data": {
      "application/vnd.jupyter.widget-view+json": {
       "model_id": "9f61689a70784fe9851ac39188d4b0d9",
       "version_major": 2,
       "version_minor": 0
      },
      "text/plain": [
       "HBox(children=(FloatProgress(value=0.0, max=7.0), HTML(value='')))"
      ]
     },
     "metadata": {},
     "output_type": "display_data"
    },
    {
     "name": "stdout",
     "output_type": "stream",
     "text": [
      "\n"
     ]
    },
    {
     "data": {
      "application/vnd.jupyter.widget-view+json": {
       "model_id": "68afd1cb9feb4aaeb1ec0cedcfe7db64",
       "version_major": 2,
       "version_minor": 0
      },
      "text/plain": [
       "HBox(children=(FloatProgress(value=0.0, max=116.0), HTML(value='')))"
      ]
     },
     "metadata": {},
     "output_type": "display_data"
    },
    {
     "name": "stdout",
     "output_type": "stream",
     "text": [
      "\n"
     ]
    },
    {
     "data": {
      "application/vnd.jupyter.widget-view+json": {
       "model_id": "abcc70a7a7ec48699b780c43b09bae33",
       "version_major": 2,
       "version_minor": 0
      },
      "text/plain": [
       "HBox(children=(FloatProgress(value=0.0, max=52.0), HTML(value='')))"
      ]
     },
     "metadata": {},
     "output_type": "display_data"
    },
    {
     "name": "stdout",
     "output_type": "stream",
     "text": [
      "\n"
     ]
    },
    {
     "data": {
      "application/vnd.jupyter.widget-view+json": {
       "model_id": "80817c60881c42ad892869b0837415db",
       "version_major": 2,
       "version_minor": 0
      },
      "text/plain": [
       "HBox(children=(FloatProgress(value=0.0, max=24.0), HTML(value='')))"
      ]
     },
     "metadata": {},
     "output_type": "display_data"
    },
    {
     "name": "stdout",
     "output_type": "stream",
     "text": [
      "\n"
     ]
    },
    {
     "data": {
      "application/vnd.jupyter.widget-view+json": {
       "model_id": "a31bb9eb4c214264ad80e6b80be7a76b",
       "version_major": 2,
       "version_minor": 0
      },
      "text/plain": [
       "HBox(children=(FloatProgress(value=0.0, max=19.0), HTML(value='')))"
      ]
     },
     "metadata": {},
     "output_type": "display_data"
    },
    {
     "name": "stdout",
     "output_type": "stream",
     "text": [
      "\n"
     ]
    },
    {
     "data": {
      "application/vnd.jupyter.widget-view+json": {
       "model_id": "180e20878cc64c9184b842d1e330e735",
       "version_major": 2,
       "version_minor": 0
      },
      "text/plain": [
       "HBox(children=(FloatProgress(value=0.0, max=19.0), HTML(value='')))"
      ]
     },
     "metadata": {},
     "output_type": "display_data"
    },
    {
     "name": "stdout",
     "output_type": "stream",
     "text": [
      "\n"
     ]
    },
    {
     "data": {
      "application/vnd.jupyter.widget-view+json": {
       "model_id": "ba81fdffcdc8456daf3954e61ca5fb92",
       "version_major": 2,
       "version_minor": 0
      },
      "text/plain": [
       "HBox(children=(FloatProgress(value=0.0, max=24.0), HTML(value='')))"
      ]
     },
     "metadata": {},
     "output_type": "display_data"
    },
    {
     "name": "stdout",
     "output_type": "stream",
     "text": [
      "\n"
     ]
    },
    {
     "data": {
      "application/vnd.jupyter.widget-view+json": {
       "model_id": "d460f5d8be76450b81bd9891984dd2a0",
       "version_major": 2,
       "version_minor": 0
      },
      "text/plain": [
       "HBox(children=(FloatProgress(value=0.0, max=14.0), HTML(value='')))"
      ]
     },
     "metadata": {},
     "output_type": "display_data"
    },
    {
     "name": "stdout",
     "output_type": "stream",
     "text": [
      "\n"
     ]
    },
    {
     "data": {
      "application/vnd.jupyter.widget-view+json": {
       "model_id": "cdaba8b17b0e4098ae97b44df387ac4f",
       "version_major": 2,
       "version_minor": 0
      },
      "text/plain": [
       "HBox(children=(FloatProgress(value=0.0, max=3.0), HTML(value='')))"
      ]
     },
     "metadata": {},
     "output_type": "display_data"
    },
    {
     "name": "stdout",
     "output_type": "stream",
     "text": [
      "\n"
     ]
    },
    {
     "data": {
      "application/vnd.jupyter.widget-view+json": {
       "model_id": "7d87c5b5c1884ed199b69593bea72bf9",
       "version_major": 2,
       "version_minor": 0
      },
      "text/plain": [
       "HBox(children=(FloatProgress(value=0.0, max=9.0), HTML(value='')))"
      ]
     },
     "metadata": {},
     "output_type": "display_data"
    },
    {
     "name": "stdout",
     "output_type": "stream",
     "text": [
      "\n"
     ]
    },
    {
     "data": {
      "application/vnd.jupyter.widget-view+json": {
       "model_id": "6c511b7782994091b27ebb5e17956e0a",
       "version_major": 2,
       "version_minor": 0
      },
      "text/plain": [
       "HBox(children=(FloatProgress(value=0.0, max=97.0), HTML(value='')))"
      ]
     },
     "metadata": {},
     "output_type": "display_data"
    },
    {
     "name": "stdout",
     "output_type": "stream",
     "text": [
      "\n"
     ]
    },
    {
     "data": {
      "application/vnd.jupyter.widget-view+json": {
       "model_id": "4f134f570bae4d86a6ff15a94107107b",
       "version_major": 2,
       "version_minor": 0
      },
      "text/plain": [
       "HBox(children=(FloatProgress(value=0.0, max=10.0), HTML(value='')))"
      ]
     },
     "metadata": {},
     "output_type": "display_data"
    },
    {
     "name": "stdout",
     "output_type": "stream",
     "text": [
      "\n"
     ]
    },
    {
     "data": {
      "application/vnd.jupyter.widget-view+json": {
       "model_id": "2b8080e831844dd89c91a999d6329998",
       "version_major": 2,
       "version_minor": 0
      },
      "text/plain": [
       "HBox(children=(FloatProgress(value=0.0, max=58.0), HTML(value='')))"
      ]
     },
     "metadata": {},
     "output_type": "display_data"
    },
    {
     "name": "stdout",
     "output_type": "stream",
     "text": [
      "\n"
     ]
    },
    {
     "data": {
      "application/vnd.jupyter.widget-view+json": {
       "model_id": "59f9f6d0bd8b4d0bb1c2ab72e0b65262",
       "version_major": 2,
       "version_minor": 0
      },
      "text/plain": [
       "HBox(children=(FloatProgress(value=0.0, max=57.0), HTML(value='')))"
      ]
     },
     "metadata": {},
     "output_type": "display_data"
    },
    {
     "name": "stdout",
     "output_type": "stream",
     "text": [
      "\n"
     ]
    },
    {
     "data": {
      "application/vnd.jupyter.widget-view+json": {
       "model_id": "f6256cedc4b54df18be6f21c6839939b",
       "version_major": 2,
       "version_minor": 0
      },
      "text/plain": [
       "HBox(children=(FloatProgress(value=0.0, max=44.0), HTML(value='')))"
      ]
     },
     "metadata": {},
     "output_type": "display_data"
    },
    {
     "name": "stdout",
     "output_type": "stream",
     "text": [
      "\n"
     ]
    },
    {
     "data": {
      "application/vnd.jupyter.widget-view+json": {
       "model_id": "5477fd3fab464bc790af52ff616b1edd",
       "version_major": 2,
       "version_minor": 0
      },
      "text/plain": [
       "HBox(children=(FloatProgress(value=0.0, max=6.0), HTML(value='')))"
      ]
     },
     "metadata": {},
     "output_type": "display_data"
    },
    {
     "name": "stdout",
     "output_type": "stream",
     "text": [
      "\n"
     ]
    },
    {
     "data": {
      "application/vnd.jupyter.widget-view+json": {
       "model_id": "2426334f6fc64afcabbb049855b859a5",
       "version_major": 2,
       "version_minor": 0
      },
      "text/plain": [
       "HBox(children=(FloatProgress(value=0.0, max=9.0), HTML(value='')))"
      ]
     },
     "metadata": {},
     "output_type": "display_data"
    },
    {
     "name": "stdout",
     "output_type": "stream",
     "text": [
      "\n"
     ]
    },
    {
     "data": {
      "application/vnd.jupyter.widget-view+json": {
       "model_id": "b38682731bd74c4eaba207a056e7dbe2",
       "version_major": 2,
       "version_minor": 0
      },
      "text/plain": [
       "HBox(children=(FloatProgress(value=0.0, max=3.0), HTML(value='')))"
      ]
     },
     "metadata": {},
     "output_type": "display_data"
    },
    {
     "name": "stdout",
     "output_type": "stream",
     "text": [
      "\n"
     ]
    },
    {
     "data": {
      "application/vnd.jupyter.widget-view+json": {
       "model_id": "df0186fdbbf04e37a9033c6fd196e630",
       "version_major": 2,
       "version_minor": 0
      },
      "text/plain": [
       "HBox(children=(FloatProgress(value=0.0, max=5.0), HTML(value='')))"
      ]
     },
     "metadata": {},
     "output_type": "display_data"
    },
    {
     "name": "stdout",
     "output_type": "stream",
     "text": [
      "\n"
     ]
    },
    {
     "data": {
      "application/vnd.jupyter.widget-view+json": {
       "model_id": "d2d6ad0e83f94084a9d4868ca19b4f9c",
       "version_major": 2,
       "version_minor": 0
      },
      "text/plain": [
       "HBox(children=(FloatProgress(value=0.0, max=23.0), HTML(value='')))"
      ]
     },
     "metadata": {},
     "output_type": "display_data"
    },
    {
     "name": "stdout",
     "output_type": "stream",
     "text": [
      "\n"
     ]
    },
    {
     "data": {
      "application/vnd.jupyter.widget-view+json": {
       "model_id": "3d39b71157e943f3b862e59c40687ff1",
       "version_major": 2,
       "version_minor": 0
      },
      "text/plain": [
       "HBox(children=(FloatProgress(value=0.0, max=17.0), HTML(value='')))"
      ]
     },
     "metadata": {},
     "output_type": "display_data"
    },
    {
     "name": "stdout",
     "output_type": "stream",
     "text": [
      "\n"
     ]
    },
    {
     "data": {
      "application/vnd.jupyter.widget-view+json": {
       "model_id": "03f3ec43053148f5be7fe13095b864ec",
       "version_major": 2,
       "version_minor": 0
      },
      "text/plain": [
       "HBox(children=(FloatProgress(value=0.0, max=60.0), HTML(value='')))"
      ]
     },
     "metadata": {},
     "output_type": "display_data"
    },
    {
     "name": "stdout",
     "output_type": "stream",
     "text": [
      "\n"
     ]
    },
    {
     "data": {
      "application/vnd.jupyter.widget-view+json": {
       "model_id": "38b672196dd442f08ee890a1fba495a2",
       "version_major": 2,
       "version_minor": 0
      },
      "text/plain": [
       "HBox(children=(FloatProgress(value=0.0, max=47.0), HTML(value='')))"
      ]
     },
     "metadata": {},
     "output_type": "display_data"
    },
    {
     "name": "stdout",
     "output_type": "stream",
     "text": [
      "\n"
     ]
    },
    {
     "data": {
      "application/vnd.jupyter.widget-view+json": {
       "model_id": "543d0aacf0584c3f8bb6d2c5e6daa019",
       "version_major": 2,
       "version_minor": 0
      },
      "text/plain": [
       "HBox(children=(FloatProgress(value=0.0, max=118.0), HTML(value='')))"
      ]
     },
     "metadata": {},
     "output_type": "display_data"
    },
    {
     "name": "stdout",
     "output_type": "stream",
     "text": [
      "\n"
     ]
    },
    {
     "data": {
      "application/vnd.jupyter.widget-view+json": {
       "model_id": "fd76474538f64c068f977d4caf99e44e",
       "version_major": 2,
       "version_minor": 0
      },
      "text/plain": [
       "HBox(children=(FloatProgress(value=0.0, max=93.0), HTML(value='')))"
      ]
     },
     "metadata": {},
     "output_type": "display_data"
    },
    {
     "name": "stdout",
     "output_type": "stream",
     "text": [
      "\n"
     ]
    },
    {
     "data": {
      "application/vnd.jupyter.widget-view+json": {
       "model_id": "97fde714c0db454992c6c3cb019f988d",
       "version_major": 2,
       "version_minor": 0
      },
      "text/plain": [
       "HBox(children=(FloatProgress(value=0.0, max=39.0), HTML(value='')))"
      ]
     },
     "metadata": {},
     "output_type": "display_data"
    },
    {
     "name": "stdout",
     "output_type": "stream",
     "text": [
      "\n"
     ]
    },
    {
     "data": {
      "application/vnd.jupyter.widget-view+json": {
       "model_id": "4b8af3ba40b7467cbc52f208c7fd45ea",
       "version_major": 2,
       "version_minor": 0
      },
      "text/plain": [
       "HBox(children=(FloatProgress(value=0.0, max=79.0), HTML(value='')))"
      ]
     },
     "metadata": {},
     "output_type": "display_data"
    },
    {
     "name": "stdout",
     "output_type": "stream",
     "text": [
      "\n"
     ]
    },
    {
     "data": {
      "application/vnd.jupyter.widget-view+json": {
       "model_id": "626c2cf1f7e9488c94f8766d7c6179f3",
       "version_major": 2,
       "version_minor": 0
      },
      "text/plain": [
       "HBox(children=(FloatProgress(value=0.0, max=46.0), HTML(value='')))"
      ]
     },
     "metadata": {},
     "output_type": "display_data"
    },
    {
     "name": "stdout",
     "output_type": "stream",
     "text": [
      "\n"
     ]
    },
    {
     "data": {
      "application/vnd.jupyter.widget-view+json": {
       "model_id": "a6a9ad9eb14b4ec8984e0a9bc9fe2a7d",
       "version_major": 2,
       "version_minor": 0
      },
      "text/plain": [
       "HBox(children=(FloatProgress(value=0.0, max=31.0), HTML(value='')))"
      ]
     },
     "metadata": {},
     "output_type": "display_data"
    },
    {
     "name": "stdout",
     "output_type": "stream",
     "text": [
      "\n"
     ]
    },
    {
     "data": {
      "application/vnd.jupyter.widget-view+json": {
       "model_id": "8010e4e986bc4278be3d7a6a73cbab3a",
       "version_major": 2,
       "version_minor": 0
      },
      "text/plain": [
       "HBox(children=(FloatProgress(value=0.0, max=37.0), HTML(value='')))"
      ]
     },
     "metadata": {},
     "output_type": "display_data"
    },
    {
     "name": "stdout",
     "output_type": "stream",
     "text": [
      "\n"
     ]
    },
    {
     "data": {
      "application/vnd.jupyter.widget-view+json": {
       "model_id": "935e2a7911684798af219254f21aa43e",
       "version_major": 2,
       "version_minor": 0
      },
      "text/plain": [
       "HBox(children=(FloatProgress(value=0.0, max=37.0), HTML(value='')))"
      ]
     },
     "metadata": {},
     "output_type": "display_data"
    },
    {
     "name": "stdout",
     "output_type": "stream",
     "text": [
      "\n"
     ]
    },
    {
     "data": {
      "application/vnd.jupyter.widget-view+json": {
       "model_id": "30063f7764dd43d8b7da4836e5b6899f",
       "version_major": 2,
       "version_minor": 0
      },
      "text/plain": [
       "HBox(children=(FloatProgress(value=0.0, max=28.0), HTML(value='')))"
      ]
     },
     "metadata": {},
     "output_type": "display_data"
    },
    {
     "name": "stdout",
     "output_type": "stream",
     "text": [
      "\n"
     ]
    },
    {
     "data": {
      "application/vnd.jupyter.widget-view+json": {
       "model_id": "2e71d26647f04614820384c4f34a5149",
       "version_major": 2,
       "version_minor": 0
      },
      "text/plain": [
       "HBox(children=(FloatProgress(value=0.0, max=14.0), HTML(value='')))"
      ]
     },
     "metadata": {},
     "output_type": "display_data"
    },
    {
     "name": "stdout",
     "output_type": "stream",
     "text": [
      "\n"
     ]
    },
    {
     "data": {
      "application/vnd.jupyter.widget-view+json": {
       "model_id": "2e11626d6b5b497a9c311a413b6289e9",
       "version_major": 2,
       "version_minor": 0
      },
      "text/plain": [
       "HBox(children=(FloatProgress(value=0.0, max=24.0), HTML(value='')))"
      ]
     },
     "metadata": {},
     "output_type": "display_data"
    },
    {
     "name": "stdout",
     "output_type": "stream",
     "text": [
      "\n"
     ]
    },
    {
     "data": {
      "application/vnd.jupyter.widget-view+json": {
       "model_id": "5cf08c796eae488d83962b98363e02cc",
       "version_major": 2,
       "version_minor": 0
      },
      "text/plain": [
       "HBox(children=(FloatProgress(value=0.0, max=21.0), HTML(value='')))"
      ]
     },
     "metadata": {},
     "output_type": "display_data"
    },
    {
     "name": "stdout",
     "output_type": "stream",
     "text": [
      "\n"
     ]
    },
    {
     "data": {
      "application/vnd.jupyter.widget-view+json": {
       "model_id": "1ce55e3eee9644ea97afea261e51c0fb",
       "version_major": 2,
       "version_minor": 0
      },
      "text/plain": [
       "HBox(children=(FloatProgress(value=0.0, max=8.0), HTML(value='')))"
      ]
     },
     "metadata": {},
     "output_type": "display_data"
    },
    {
     "name": "stdout",
     "output_type": "stream",
     "text": [
      "\n"
     ]
    },
    {
     "data": {
      "application/vnd.jupyter.widget-view+json": {
       "model_id": "d5e6ebdde595477c8623bfae2315de1d",
       "version_major": 2,
       "version_minor": 0
      },
      "text/plain": [
       "HBox(children=(FloatProgress(value=0.0, max=8.0), HTML(value='')))"
      ]
     },
     "metadata": {},
     "output_type": "display_data"
    },
    {
     "name": "stdout",
     "output_type": "stream",
     "text": [
      "\n"
     ]
    },
    {
     "data": {
      "application/vnd.jupyter.widget-view+json": {
       "model_id": "60af06831b8443f184f888b7e73a4fc8",
       "version_major": 2,
       "version_minor": 0
      },
      "text/plain": [
       "HBox(children=(FloatProgress(value=0.0, max=7.0), HTML(value='')))"
      ]
     },
     "metadata": {},
     "output_type": "display_data"
    },
    {
     "name": "stdout",
     "output_type": "stream",
     "text": [
      "\n"
     ]
    },
    {
     "data": {
      "application/vnd.jupyter.widget-view+json": {
       "model_id": "f49ea08b9bf5427cabfbd0b7a32dec67",
       "version_major": 2,
       "version_minor": 0
      },
      "text/plain": [
       "HBox(children=(FloatProgress(value=0.0, max=6.0), HTML(value='')))"
      ]
     },
     "metadata": {},
     "output_type": "display_data"
    },
    {
     "name": "stdout",
     "output_type": "stream",
     "text": [
      "\n"
     ]
    },
    {
     "data": {
      "application/vnd.jupyter.widget-view+json": {
       "model_id": "12410bb7735540a0adcf96140b02ff18",
       "version_major": 2,
       "version_minor": 0
      },
      "text/plain": [
       "HBox(children=(FloatProgress(value=0.0, max=5.0), HTML(value='')))"
      ]
     },
     "metadata": {},
     "output_type": "display_data"
    },
    {
     "name": "stdout",
     "output_type": "stream",
     "text": [
      "\n"
     ]
    },
    {
     "data": {
      "application/vnd.jupyter.widget-view+json": {
       "model_id": "ac1506f9f0f8432eb9a6e1edb37d9c17",
       "version_major": 2,
       "version_minor": 0
      },
      "text/plain": [
       "HBox(children=(FloatProgress(value=0.0, max=44.0), HTML(value='')))"
      ]
     },
     "metadata": {},
     "output_type": "display_data"
    },
    {
     "name": "stdout",
     "output_type": "stream",
     "text": [
      "\n"
     ]
    },
    {
     "data": {
      "application/vnd.jupyter.widget-view+json": {
       "model_id": "a06008178c194775bfb751d41ae53a73",
       "version_major": 2,
       "version_minor": 0
      },
      "text/plain": [
       "HBox(children=(FloatProgress(value=0.0, max=62.0), HTML(value='')))"
      ]
     },
     "metadata": {},
     "output_type": "display_data"
    },
    {
     "name": "stdout",
     "output_type": "stream",
     "text": [
      "\n"
     ]
    },
    {
     "data": {
      "application/vnd.jupyter.widget-view+json": {
       "model_id": "d96627a76a634090bb719a4ef7ea19cb",
       "version_major": 2,
       "version_minor": 0
      },
      "text/plain": [
       "HBox(children=(FloatProgress(value=0.0, max=31.0), HTML(value='')))"
      ]
     },
     "metadata": {},
     "output_type": "display_data"
    },
    {
     "name": "stdout",
     "output_type": "stream",
     "text": [
      "\n"
     ]
    },
    {
     "data": {
      "application/vnd.jupyter.widget-view+json": {
       "model_id": "bdea346146ec48a7a043dc9c5dcfcefa",
       "version_major": 2,
       "version_minor": 0
      },
      "text/plain": [
       "HBox(children=(FloatProgress(value=0.0, max=84.0), HTML(value='')))"
      ]
     },
     "metadata": {},
     "output_type": "display_data"
    },
    {
     "name": "stdout",
     "output_type": "stream",
     "text": [
      "\n"
     ]
    },
    {
     "data": {
      "application/vnd.jupyter.widget-view+json": {
       "model_id": "7e4b4cdec33a4091a4021df509f236a2",
       "version_major": 2,
       "version_minor": 0
      },
      "text/plain": [
       "HBox(children=(FloatProgress(value=0.0, max=58.0), HTML(value='')))"
      ]
     },
     "metadata": {},
     "output_type": "display_data"
    },
    {
     "name": "stdout",
     "output_type": "stream",
     "text": [
      "\n"
     ]
    },
    {
     "data": {
      "application/vnd.jupyter.widget-view+json": {
       "model_id": "75c4544420bf48b5ac11856b176b6c62",
       "version_major": 2,
       "version_minor": 0
      },
      "text/plain": [
       "HBox(children=(FloatProgress(value=0.0, max=3.0), HTML(value='')))"
      ]
     },
     "metadata": {},
     "output_type": "display_data"
    },
    {
     "name": "stdout",
     "output_type": "stream",
     "text": [
      "\n"
     ]
    },
    {
     "data": {
      "application/vnd.jupyter.widget-view+json": {
       "model_id": "de5357c82d2c4f4f9bad2320b6a8fcf2",
       "version_major": 2,
       "version_minor": 0
      },
      "text/plain": [
       "HBox(children=(FloatProgress(value=0.0, max=7.0), HTML(value='')))"
      ]
     },
     "metadata": {},
     "output_type": "display_data"
    },
    {
     "name": "stdout",
     "output_type": "stream",
     "text": [
      "\n"
     ]
    },
    {
     "data": {
      "application/vnd.jupyter.widget-view+json": {
       "model_id": "c504f5a2b5bd4cedb4f87d6d7e625fd8",
       "version_major": 2,
       "version_minor": 0
      },
      "text/plain": [
       "HBox(children=(FloatProgress(value=0.0, max=7.0), HTML(value='')))"
      ]
     },
     "metadata": {},
     "output_type": "display_data"
    },
    {
     "name": "stdout",
     "output_type": "stream",
     "text": [
      "\n"
     ]
    },
    {
     "data": {
      "application/vnd.jupyter.widget-view+json": {
       "model_id": "20049fc2a18b4394a151d3ecc2388b64",
       "version_major": 2,
       "version_minor": 0
      },
      "text/plain": [
       "HBox(children=(FloatProgress(value=0.0, max=14.0), HTML(value='')))"
      ]
     },
     "metadata": {},
     "output_type": "display_data"
    },
    {
     "name": "stdout",
     "output_type": "stream",
     "text": [
      "\n"
     ]
    },
    {
     "data": {
      "application/vnd.jupyter.widget-view+json": {
       "model_id": "25aa3a00f82f4cbeb01fc48d24fca3dd",
       "version_major": 2,
       "version_minor": 0
      },
      "text/plain": [
       "HBox(children=(FloatProgress(value=0.0, max=73.0), HTML(value='')))"
      ]
     },
     "metadata": {},
     "output_type": "display_data"
    },
    {
     "name": "stdout",
     "output_type": "stream",
     "text": [
      "\n"
     ]
    },
    {
     "data": {
      "application/vnd.jupyter.widget-view+json": {
       "model_id": "53f4d17cbc3045edb7572cde6b629439",
       "version_major": 2,
       "version_minor": 0
      },
      "text/plain": [
       "HBox(children=(FloatProgress(value=0.0, max=37.0), HTML(value='')))"
      ]
     },
     "metadata": {},
     "output_type": "display_data"
    },
    {
     "name": "stdout",
     "output_type": "stream",
     "text": [
      "\n"
     ]
    },
    {
     "data": {
      "application/vnd.jupyter.widget-view+json": {
       "model_id": "ff03a61bd1d54ae1995daf29a5a6837a",
       "version_major": 2,
       "version_minor": 0
      },
      "text/plain": [
       "HBox(children=(FloatProgress(value=0.0, max=66.0), HTML(value='')))"
      ]
     },
     "metadata": {},
     "output_type": "display_data"
    },
    {
     "name": "stdout",
     "output_type": "stream",
     "text": [
      "\n"
     ]
    },
    {
     "data": {
      "application/vnd.jupyter.widget-view+json": {
       "model_id": "000af105ab894240ba12672ea6ed7787",
       "version_major": 2,
       "version_minor": 0
      },
      "text/plain": [
       "HBox(children=(FloatProgress(value=0.0, max=7.0), HTML(value='')))"
      ]
     },
     "metadata": {},
     "output_type": "display_data"
    },
    {
     "name": "stdout",
     "output_type": "stream",
     "text": [
      "\n"
     ]
    },
    {
     "data": {
      "application/vnd.jupyter.widget-view+json": {
       "model_id": "f6f339b24f18425995dc18c2d914bb56",
       "version_major": 2,
       "version_minor": 0
      },
      "text/plain": [
       "HBox(children=(FloatProgress(value=0.0, max=43.0), HTML(value='')))"
      ]
     },
     "metadata": {},
     "output_type": "display_data"
    },
    {
     "name": "stdout",
     "output_type": "stream",
     "text": [
      "\n"
     ]
    },
    {
     "data": {
      "application/vnd.jupyter.widget-view+json": {
       "model_id": "70d46df95314465ca22af3e8b7b3bfd2",
       "version_major": 2,
       "version_minor": 0
      },
      "text/plain": [
       "HBox(children=(FloatProgress(value=0.0, max=7.0), HTML(value='')))"
      ]
     },
     "metadata": {},
     "output_type": "display_data"
    },
    {
     "name": "stdout",
     "output_type": "stream",
     "text": [
      "\n"
     ]
    },
    {
     "data": {
      "application/vnd.jupyter.widget-view+json": {
       "model_id": "e15e1c3d263d45ed87d0349b74f0c145",
       "version_major": 2,
       "version_minor": 0
      },
      "text/plain": [
       "HBox(children=(FloatProgress(value=0.0, max=43.0), HTML(value='')))"
      ]
     },
     "metadata": {},
     "output_type": "display_data"
    },
    {
     "name": "stdout",
     "output_type": "stream",
     "text": [
      "\n"
     ]
    },
    {
     "data": {
      "application/vnd.jupyter.widget-view+json": {
       "model_id": "8ebedb0059c24114b57eff3626226cf7",
       "version_major": 2,
       "version_minor": 0
      },
      "text/plain": [
       "HBox(children=(FloatProgress(value=0.0, max=4.0), HTML(value='')))"
      ]
     },
     "metadata": {},
     "output_type": "display_data"
    },
    {
     "name": "stdout",
     "output_type": "stream",
     "text": [
      "\n"
     ]
    },
    {
     "data": {
      "application/vnd.jupyter.widget-view+json": {
       "model_id": "00cc4d3484d5446eac898611956cf42a",
       "version_major": 2,
       "version_minor": 0
      },
      "text/plain": [
       "HBox(children=(FloatProgress(value=0.0, max=34.0), HTML(value='')))"
      ]
     },
     "metadata": {},
     "output_type": "display_data"
    },
    {
     "name": "stdout",
     "output_type": "stream",
     "text": [
      "\n"
     ]
    },
    {
     "data": {
      "application/vnd.jupyter.widget-view+json": {
       "model_id": "ac63645c5aed4fa1ba3d447a9ef63e66",
       "version_major": 2,
       "version_minor": 0
      },
      "text/plain": [
       "HBox(children=(FloatProgress(value=0.0, max=24.0), HTML(value='')))"
      ]
     },
     "metadata": {},
     "output_type": "display_data"
    },
    {
     "name": "stdout",
     "output_type": "stream",
     "text": [
      "\n"
     ]
    },
    {
     "data": {
      "application/vnd.jupyter.widget-view+json": {
       "model_id": "5ab209b6b49e419cbbf2d41b6facc039",
       "version_major": 2,
       "version_minor": 0
      },
      "text/plain": [
       "HBox(children=(FloatProgress(value=0.0, max=102.0), HTML(value='')))"
      ]
     },
     "metadata": {},
     "output_type": "display_data"
    },
    {
     "name": "stdout",
     "output_type": "stream",
     "text": [
      "\n"
     ]
    },
    {
     "data": {
      "application/vnd.jupyter.widget-view+json": {
       "model_id": "378b0cdcca1b40dcafc013f376f92865",
       "version_major": 2,
       "version_minor": 0
      },
      "text/plain": [
       "HBox(children=(FloatProgress(value=0.0, max=54.0), HTML(value='')))"
      ]
     },
     "metadata": {},
     "output_type": "display_data"
    },
    {
     "name": "stdout",
     "output_type": "stream",
     "text": [
      "\n"
     ]
    },
    {
     "data": {
      "application/vnd.jupyter.widget-view+json": {
       "model_id": "f012beec08ed4baa9251bbb2136bb2a2",
       "version_major": 2,
       "version_minor": 0
      },
      "text/plain": [
       "HBox(children=(FloatProgress(value=0.0, max=29.0), HTML(value='')))"
      ]
     },
     "metadata": {},
     "output_type": "display_data"
    },
    {
     "name": "stdout",
     "output_type": "stream",
     "text": [
      "\n"
     ]
    },
    {
     "data": {
      "application/vnd.jupyter.widget-view+json": {
       "model_id": "7423e9158b374b09b8cd5166f083cb16",
       "version_major": 2,
       "version_minor": 0
      },
      "text/plain": [
       "HBox(children=(FloatProgress(value=0.0, max=50.0), HTML(value='')))"
      ]
     },
     "metadata": {},
     "output_type": "display_data"
    },
    {
     "name": "stdout",
     "output_type": "stream",
     "text": [
      "\n"
     ]
    },
    {
     "data": {
      "application/vnd.jupyter.widget-view+json": {
       "model_id": "d490596d24d446ffa5fbea956cd2f722",
       "version_major": 2,
       "version_minor": 0
      },
      "text/plain": [
       "HBox(children=(FloatProgress(value=0.0, max=3.0), HTML(value='')))"
      ]
     },
     "metadata": {},
     "output_type": "display_data"
    },
    {
     "name": "stdout",
     "output_type": "stream",
     "text": [
      "\n"
     ]
    },
    {
     "data": {
      "application/vnd.jupyter.widget-view+json": {
       "model_id": "deb9eeb8f7e44a328853e7856ee0f982",
       "version_major": 2,
       "version_minor": 0
      },
      "text/plain": [
       "HBox(children=(FloatProgress(value=0.0, max=107.0), HTML(value='')))"
      ]
     },
     "metadata": {},
     "output_type": "display_data"
    },
    {
     "name": "stdout",
     "output_type": "stream",
     "text": [
      "\n"
     ]
    },
    {
     "data": {
      "application/vnd.jupyter.widget-view+json": {
       "model_id": "e01954a3feb2405eb212ba563e9e6b39",
       "version_major": 2,
       "version_minor": 0
      },
      "text/plain": [
       "HBox(children=(FloatProgress(value=0.0, max=134.0), HTML(value='')))"
      ]
     },
     "metadata": {},
     "output_type": "display_data"
    },
    {
     "name": "stdout",
     "output_type": "stream",
     "text": [
      "\n"
     ]
    },
    {
     "data": {
      "application/vnd.jupyter.widget-view+json": {
       "model_id": "98148dc130184b49bfc34bb2413b87fb",
       "version_major": 2,
       "version_minor": 0
      },
      "text/plain": [
       "HBox(children=(FloatProgress(value=0.0, max=6.0), HTML(value='')))"
      ]
     },
     "metadata": {},
     "output_type": "display_data"
    },
    {
     "name": "stdout",
     "output_type": "stream",
     "text": [
      "\n"
     ]
    },
    {
     "data": {
      "application/vnd.jupyter.widget-view+json": {
       "model_id": "ca9dfdbcc25747eaa3573fbc68342e5d",
       "version_major": 2,
       "version_minor": 0
      },
      "text/plain": [
       "HBox(children=(FloatProgress(value=0.0, max=2.0), HTML(value='')))"
      ]
     },
     "metadata": {},
     "output_type": "display_data"
    },
    {
     "name": "stdout",
     "output_type": "stream",
     "text": [
      "\n"
     ]
    },
    {
     "data": {
      "application/vnd.jupyter.widget-view+json": {
       "model_id": "dcb93a2d2b22487ea3069bc18b93a494",
       "version_major": 2,
       "version_minor": 0
      },
      "text/plain": [
       "HBox(children=(FloatProgress(value=0.0, max=20.0), HTML(value='')))"
      ]
     },
     "metadata": {},
     "output_type": "display_data"
    },
    {
     "name": "stdout",
     "output_type": "stream",
     "text": [
      "\n"
     ]
    },
    {
     "data": {
      "application/vnd.jupyter.widget-view+json": {
       "model_id": "206f0a101d254864a6dc0ba918923f11",
       "version_major": 2,
       "version_minor": 0
      },
      "text/plain": [
       "HBox(children=(FloatProgress(value=0.0, max=14.0), HTML(value='')))"
      ]
     },
     "metadata": {},
     "output_type": "display_data"
    },
    {
     "name": "stdout",
     "output_type": "stream",
     "text": [
      "\n"
     ]
    },
    {
     "data": {
      "application/vnd.jupyter.widget-view+json": {
       "model_id": "52017834b2f54c3b9ba3b9a25b3063f6",
       "version_major": 2,
       "version_minor": 0
      },
      "text/plain": [
       "HBox(children=(FloatProgress(value=0.0, max=11.0), HTML(value='')))"
      ]
     },
     "metadata": {},
     "output_type": "display_data"
    },
    {
     "name": "stdout",
     "output_type": "stream",
     "text": [
      "\n"
     ]
    },
    {
     "data": {
      "application/vnd.jupyter.widget-view+json": {
       "model_id": "3fc00a983bed4f76b1c60425a1a6d3dc",
       "version_major": 2,
       "version_minor": 0
      },
      "text/plain": [
       "HBox(children=(FloatProgress(value=0.0, max=14.0), HTML(value='')))"
      ]
     },
     "metadata": {},
     "output_type": "display_data"
    },
    {
     "name": "stdout",
     "output_type": "stream",
     "text": [
      "\n"
     ]
    },
    {
     "data": {
      "application/vnd.jupyter.widget-view+json": {
       "model_id": "bceff387c7a74cb6a8ca4068886c15c8",
       "version_major": 2,
       "version_minor": 0
      },
      "text/plain": [
       "HBox(children=(FloatProgress(value=0.0, max=51.0), HTML(value='')))"
      ]
     },
     "metadata": {},
     "output_type": "display_data"
    },
    {
     "name": "stdout",
     "output_type": "stream",
     "text": [
      "\n"
     ]
    },
    {
     "data": {
      "application/vnd.jupyter.widget-view+json": {
       "model_id": "d19e450423264578a98ad86661cd0323",
       "version_major": 2,
       "version_minor": 0
      },
      "text/plain": [
       "HBox(children=(FloatProgress(value=0.0, max=26.0), HTML(value='')))"
      ]
     },
     "metadata": {},
     "output_type": "display_data"
    },
    {
     "name": "stdout",
     "output_type": "stream",
     "text": [
      "\n"
     ]
    },
    {
     "data": {
      "application/vnd.jupyter.widget-view+json": {
       "model_id": "b6b8fff103ce44ee833520af67ab7668",
       "version_major": 2,
       "version_minor": 0
      },
      "text/plain": [
       "HBox(children=(FloatProgress(value=0.0, max=4.0), HTML(value='')))"
      ]
     },
     "metadata": {},
     "output_type": "display_data"
    },
    {
     "name": "stdout",
     "output_type": "stream",
     "text": [
      "\n"
     ]
    },
    {
     "data": {
      "application/vnd.jupyter.widget-view+json": {
       "model_id": "ce416e9538fc4a5e9431693ef25d1a43",
       "version_major": 2,
       "version_minor": 0
      },
      "text/plain": [
       "HBox(children=(FloatProgress(value=0.0, max=10.0), HTML(value='')))"
      ]
     },
     "metadata": {},
     "output_type": "display_data"
    },
    {
     "name": "stdout",
     "output_type": "stream",
     "text": [
      "\n",
      "Working on limb L0 branch 55\n",
      "Working on limb L0 branch 43\n",
      "No spines and using precomputed width\n",
      "Working on limb L0 branch 47\n",
      "No spines and using precomputed width\n",
      "Working on limb L0 branch 13\n",
      "Working on limb L0 branch 36\n",
      "Working on limb L0 branch 48\n",
      "No spines and using precomputed width\n",
      "Working on limb L0 branch 50\n",
      "Working on limb L0 branch 6\n",
      "Working on limb L0 branch 17\n",
      "Working on limb L0 branch 10\n",
      "Working on limb L0 branch 54\n",
      "No spines and using precomputed width\n",
      "Working on limb L0 branch 70\n",
      "Working on limb L0 branch 71\n",
      "Working on limb L0 branch 4\n",
      "Working on limb L0 branch 15\n",
      "Working on limb L0 branch 35\n",
      "Working on limb L0 branch 56\n",
      "Working on limb L0 branch 91\n",
      "Working on limb L0 branch 93\n",
      "Working on limb L0 branch 94\n",
      "Working on limb L0 branch 108\n",
      "No spines and using precomputed width\n",
      "Working on limb L0 branch 0\n",
      "Working on limb L0 branch 3\n",
      "Working on limb L0 branch 28\n",
      "Working on limb L0 branch 31\n",
      "No spines and using precomputed width\n",
      "Working on limb L0 branch 62\n",
      "No spines and using precomputed width\n",
      "Working on limb L0 branch 104\n",
      "Working on limb L0 branch 88\n",
      "No spines and using precomputed width\n",
      "Working on limb L0 branch 90\n",
      "No spines and using precomputed width\n",
      "Working on limb L0 branch 80\n",
      "No spines and using precomputed width\n",
      "Working on limb L0 branch 81\n",
      "No spines and using precomputed width\n",
      "Working on limb L0 branch 95\n",
      "No spines and using precomputed width\n",
      "Working on limb L0 branch 8\n",
      "Working on limb L0 branch 9\n",
      "Working on limb L0 branch 39\n",
      "Working on limb L0 branch 46\n",
      "No spines and using precomputed width\n",
      "Working on limb L0 branch 23\n",
      "Working on limb L0 branch 25\n",
      "No spines and using precomputed width\n",
      "Working on limb L0 branch 52\n",
      "Working on limb L0 branch 66\n",
      "Working on limb L0 branch 38\n",
      "Working on limb L0 branch 64\n",
      "Working on limb L0 branch 83\n",
      "No spines and using precomputed width\n",
      "Working on limb L0 branch 87\n",
      "No spines and using precomputed width\n",
      "Working on limb L0 branch 2\n",
      "Working on limb L0 branch 5\n",
      "Working on limb L0 branch 22\n",
      "Working on limb L0 branch 12\n",
      "Working on limb L0 branch 49\n",
      "Working on limb L0 branch 19\n",
      "No spines and using precomputed width\n",
      "Working on limb L0 branch 30\n",
      "Working on limb L0 branch 21\n",
      "No spines and using precomputed width\n",
      "Working on limb L0 branch 24\n",
      "No spines and using precomputed width\n",
      "Working on limb L0 branch 51\n",
      "Working on limb L0 branch 67\n",
      "Working on limb L0 branch 84\n",
      "Working on limb L0 branch 89\n",
      "Working on limb L0 branch 29\n",
      "No spines and using precomputed width\n",
      "Working on limb L0 branch 98\n",
      "Working on limb L0 branch 99\n",
      "Working on limb L0 branch 1\n",
      "Working on limb L0 branch 16\n",
      "Working on limb L0 branch 37\n",
      "Working on limb L0 branch 40\n",
      "Working on limb L0 branch 7\n",
      "Working on limb L0 branch 14\n",
      "Working on limb L0 branch 11\n",
      "Working on limb L0 branch 41\n",
      "Working on limb L0 branch 76\n",
      "Working on limb L0 branch 92\n",
      "Working on limb L0 branch 75\n",
      "Working on limb L0 branch 78\n",
      "No spines and using precomputed width\n",
      "Working on limb L0 branch 26\n",
      "Working on limb L0 branch 34\n",
      "Working on limb L0 branch 100\n",
      "No spines and using precomputed width\n",
      "Working on limb L0 branch 101\n",
      "No spines and using precomputed width\n",
      "Working on limb L0 branch 44\n",
      "No spines and using precomputed width\n",
      "Working on limb L0 branch 45\n",
      "No spines and using precomputed width\n",
      "Working on limb L0 branch 82\n",
      "Working on limb L0 branch 96\n",
      "No spines and using precomputed width\n",
      "Working on limb L0 branch 73\n",
      "No spines and using precomputed width\n",
      "Working on limb L0 branch 74\n",
      "No spines and using precomputed width\n",
      "Working on limb L0 branch 106\n",
      "No spines and using precomputed width\n",
      "Working on limb L0 branch 107\n",
      "No spines and using precomputed width\n",
      "Working on limb L0 branch 18\n",
      "Working on limb L0 branch 27\n",
      "Working on limb L0 branch 32\n",
      "No spines and using precomputed width\n",
      "Working on limb L0 branch 33\n",
      "Working on limb L0 branch 102\n",
      "Working on limb L0 branch 53\n",
      "No spines and using precomputed width\n",
      "Working on limb L0 branch 57\n",
      "No spines and using precomputed width\n",
      "Working on limb L0 branch 58\n",
      "No spines and using precomputed width\n",
      "Working on limb L0 branch 85\n",
      "Working on limb L0 branch 97\n",
      "Working on limb L0 branch 72\n",
      "No spines and using precomputed width\n",
      "Working on limb L0 branch 77\n",
      "No spines and using precomputed width\n",
      "Working on limb L0 branch 60\n",
      "No spines and using precomputed width\n",
      "Working on limb L0 branch 65\n",
      "No spines and using precomputed width\n",
      "Working on limb L0 branch 69\n",
      "No spines and using precomputed width\n",
      "Working on limb L0 branch 79\n",
      "No spines and using precomputed width\n",
      "Working on limb L0 branch 105\n",
      "No spines and using precomputed width\n",
      "Working on limb L0 branch 42\n",
      "No spines and using precomputed width\n",
      "Working on limb L0 branch 59\n",
      "Working on limb L0 branch 109\n",
      "No spines and using precomputed width\n",
      "Working on limb L0 branch 63\n",
      "No spines and using precomputed width\n",
      "Working on limb L0 branch 68\n",
      "No spines and using precomputed width\n",
      "Working on limb L0 branch 20\n",
      "No spines and using precomputed width\n",
      "Working on limb L0 branch 61\n",
      "No spines and using precomputed width\n",
      "Working on limb L0 branch 86.0\n",
      "No spines and using precomputed width\n",
      "Working on limb L0 branch 103.0\n",
      "Working on limb L1 branch 25\n",
      "No spines and using precomputed width\n",
      "Working on limb L1 branch 18\n",
      "Working on limb L1 branch 24\n",
      "Working on limb L1 branch 13\n",
      "Working on limb L1 branch 17\n",
      "No spines and using precomputed width\n",
      "Working on limb L1 branch 19\n",
      "Working on limb L1 branch 22\n",
      "Working on limb L1 branch 3\n",
      "Working on limb L1 branch 6\n",
      "Working on limb L1 branch 8\n",
      "Working on limb L1 branch 16\n",
      "No spines and using precomputed width\n",
      "Working on limb L1 branch 5\n",
      "Working on limb L1 branch 7\n",
      "Working on limb L1 branch 20\n",
      "Working on limb L1 branch 2\n",
      "Working on limb L1 branch 14\n",
      "Working on limb L1 branch 26\n",
      "Working on limb L1 branch 27\n",
      "Working on limb L1 branch 0\n",
      "Working on limb L1 branch 11\n",
      "Working on limb L1 branch 23\n",
      "Working on limb L1 branch 29\n",
      "Working on limb L1 branch 33\n",
      "No spines and using precomputed width\n",
      "Working on limb L1 branch 34\n",
      "No spines and using precomputed width\n",
      "Working on limb L1 branch 1\n",
      "Working on limb L1 branch 10\n",
      "Working on limb L1 branch 40\n",
      "Working on limb L1 branch 45\n",
      "Working on limb L1 branch 28\n",
      "No spines and using precomputed width\n",
      "Working on limb L1 branch 35\n",
      "No spines and using precomputed width\n",
      "Working on limb L1 branch 41\n",
      "No spines and using precomputed width\n",
      "Working on limb L1 branch 42\n",
      "Working on limb L1 branch 21\n",
      "Working on limb L1 branch 39\n",
      "Working on limb L1 branch 46\n",
      "No spines and using precomputed width\n",
      "Working on limb L1 branch 47\n",
      "Working on limb L1 branch 32\n",
      "Working on limb L1 branch 36\n",
      "Working on limb L1 branch 30\n",
      "No spines and using precomputed width\n",
      "Working on limb L1 branch 43\n",
      "Working on limb L1 branch 50\n",
      "Working on limb L1 branch 51\n",
      "Working on limb L1 branch 48\n",
      "Working on limb L1 branch 52\n",
      "Working on limb L1 branch 9\n",
      "Working on limb L1 branch 37\n",
      "Working on limb L1 branch 31\n",
      "No spines and using precomputed width\n",
      "Working on limb L1 branch 44\n",
      "No spines and using precomputed width\n",
      "Working on limb L1 branch 54\n",
      "Working on limb L1 branch 57\n",
      "Working on limb L1 branch 49\n",
      "Working on limb L1 branch 53\n",
      "Working on limb L1 branch 60\n",
      "Working on limb L1 branch 61\n",
      "Working on limb L1 branch 12\n",
      "Working on limb L1 branch 38\n",
      "Working on limb L1 branch 55\n",
      "No spines and using precomputed width\n",
      "Working on limb L1 branch 56\n",
      "Working on limb L1 branch 4\n",
      "Working on limb L1 branch 15\n",
      "Working on limb L1 branch 58\n",
      "Working on limb L1 branch 59\n",
      "Working on limb L2 branch 16\n",
      "No spines and using precomputed width\n",
      "Working on limb L2 branch 15\n",
      "No spines and using precomputed width\n",
      "Working on limb L2 branch 17\n",
      "No spines and using precomputed width\n",
      "Working on limb L2 branch 5\n",
      "Working on limb L2 branch 13\n",
      "Working on limb L2 branch 14\n",
      "Working on limb L2 branch 18\n",
      "Working on limb L2 branch 0\n",
      "Working on limb L2 branch 1\n",
      "No spines and using precomputed width\n",
      "Working on limb L2 branch 4\n",
      "Working on limb L2 branch 12\n",
      "Working on limb L2 branch 2\n",
      "Working on limb L2 branch 9\n",
      "Working on limb L2 branch 19\n",
      "Working on limb L2 branch 20\n",
      "Working on limb L2 branch 8\n",
      "Working on limb L2 branch 10\n",
      "Working on limb L2 branch 3\n",
      "Working on limb L2 branch 6\n",
      "Working on limb L2 branch 7\n",
      "Working on limb L2 branch 11\n",
      "Working on limb L3 branch 8\n",
      "No spines and using precomputed width\n",
      "Working on limb L3 branch 7\n",
      "Working on limb L3 branch 9\n",
      "No spines and using precomputed width\n",
      "Working on limb L3 branch 5\n",
      "No spines and using precomputed width\n",
      "Working on limb L3 branch 6\n",
      "No spines and using precomputed width\n",
      "Working on limb L3 branch 10\n",
      "Working on limb L3 branch 11\n",
      "Working on limb L3 branch 2\n",
      "No spines and using precomputed width\n",
      "Working on limb L3 branch 4\n",
      "No spines and using precomputed width\n",
      "Working on limb L3 branch 1\n"
     ]
    },
    {
     "name": "stdout",
     "output_type": "stream",
     "text": [
      "Working on limb L3 branch 13\n",
      "Working on limb L3 branch 14\n",
      "Working on limb L3 branch 15\n",
      "Working on limb L3 branch 0\n",
      "No spines and using precomputed width\n",
      "Working on limb L3 branch 3\n",
      "No spines and using precomputed width\n",
      "Working on limb L3 branch 12\n",
      "Working on limb L3 branch 16\n",
      "Working on limb L4 branch 0\n",
      "No spines and using precomputed width\n",
      "Working on limb L4 branch 1\n",
      "Working on limb L4 branch 2\n",
      "No spines and using precomputed width\n",
      "Working on limb L4 branch 3\n",
      "Working on limb L4 branch 4\n",
      "Working on limb L4 branch 7\n",
      "Working on limb L4 branch 8\n",
      "Working on limb L4 branch 5\n",
      "Working on limb L4 branch 6\n",
      "Working on limb L10 branch 1\n",
      "Working on limb L10 branch 0\n",
      "No spines and using precomputed width\n",
      "Working on limb L10 branch 2\n",
      "No spines and using precomputed width\n",
      "Working on limb L5 branch 11\n",
      "No spines and using precomputed width\n",
      "Working on limb L5 branch 13\n",
      "No spines and using precomputed width\n",
      "Working on limb L5 branch 16\n",
      "No spines and using precomputed width\n",
      "Working on limb L5 branch 18\n",
      "No spines and using precomputed width\n",
      "Working on limb L5 branch 19\n",
      "No spines and using precomputed width\n",
      "Working on limb L5 branch 20\n",
      "No spines and using precomputed width\n",
      "Working on limb L5 branch 22\n",
      "No spines and using precomputed width\n",
      "Working on limb L5 branch 9\n",
      "No spines and using precomputed width\n",
      "Working on limb L5 branch 21\n",
      "No spines and using precomputed width\n",
      "Working on limb L5 branch 6\n",
      "No spines and using precomputed width\n",
      "Working on limb L5 branch 23\n",
      "No spines and using precomputed width\n",
      "Working on limb L5 branch 4\n",
      "No spines and using precomputed width\n",
      "Working on limb L5 branch 5\n",
      "No spines and using precomputed width\n",
      "Working on limb L5 branch 7\n",
      "No spines and using precomputed width\n",
      "Working on limb L5 branch 8\n",
      "No spines and using precomputed width\n",
      "Working on limb L5 branch 10\n",
      "No spines and using precomputed width\n",
      "Working on limb L5 branch 25\n",
      "No spines and using precomputed width\n",
      "Working on limb L5 branch 26\n",
      "No spines and using precomputed width\n",
      "Working on limb L5 branch 27\n",
      "No spines and using precomputed width\n",
      "Working on limb L5 branch 17\n",
      "No spines and using precomputed width\n",
      "Working on limb L5 branch 24\n",
      "No spines and using precomputed width\n",
      "Working on limb L5 branch 3\n",
      "No spines and using precomputed width\n",
      "Working on limb L5 branch 12\n",
      "No spines and using precomputed width\n",
      "Working on limb L5 branch 28\n",
      "No spines and using precomputed width\n",
      "Working on limb L5 branch 29\n",
      "No spines and using precomputed width\n",
      "Working on limb L5 branch 1\n",
      "No spines and using precomputed width\n",
      "Working on limb L5 branch 2\n",
      "No spines and using precomputed width\n",
      "Working on limb L5 branch 0\n",
      "No spines and using precomputed width\n",
      "Working on limb L5 branch 14\n",
      "No spines and using precomputed width\n",
      "Working on limb L5 branch 15\n",
      "No spines and using precomputed width\n",
      "Working on limb L6 branch 4\n",
      "No spines and using precomputed width\n",
      "Working on limb L6 branch 0\n",
      "Working on limb L6 branch 3\n",
      "Working on limb L6 branch 1\n",
      "Working on limb L6 branch 2\n",
      "No spines and using precomputed width\n",
      "Working on limb L7 branch 0\n",
      "Working on limb L7 branch 1\n",
      "Working on limb L7 branch 3\n",
      "Working on limb L7 branch 4\n",
      "Working on limb L7 branch 6\n",
      "Working on limb L7 branch 2\n",
      "Working on limb L7 branch 5\n",
      "Working on limb L8 branch 0\n",
      "No spines and using precomputed width\n",
      "Working on limb L8 branch 1\n",
      "No spines and using precomputed width\n",
      "Working on limb L8 branch 2\n",
      "No spines and using precomputed width\n",
      "Working on limb L9 branch 2\n",
      "No spines and using precomputed width\n",
      "Working on limb L9 branch 0\n",
      "No spines and using precomputed width\n",
      "Working on limb L9 branch 1\n",
      "No spines and using precomputed width\n",
      "Working on limb L9 branch 5\n",
      "No spines and using precomputed width\n",
      "Working on limb L9 branch 8\n",
      "No spines and using precomputed width\n",
      "Working on limb L9 branch 3\n",
      "No spines and using precomputed width\n",
      "Working on limb L9 branch 4\n",
      "No spines and using precomputed width\n",
      "Working on limb L9 branch 6\n",
      "No spines and using precomputed width\n",
      "Working on limb L9 branch 7\n",
      "No spines and using precomputed width\n",
      "Working on limb L9 branch 9\n",
      "No spines and using precomputed width\n",
      "Total time for neuron instance creation = 2084.609267950058\n",
      "\n",
      "\n",
      "\n",
      "---- Total preprocessing time = 2084.609341621399\n",
      "Saving Neuorn in suppress_output mode...please wait\n",
      "Saved File at location: /mnt/dj-stor01/platinum/minnie65/02/decomposition/864691135589917707_0_25\n",
      "Save time = 75.05837798118591\n",
      "\n",
      "\n",
      " ------ Total time for 864691135589917707 = 2183.9410185813904 ------\n",
      "Populate Done\n",
      "Total time for DecompositionMultiSoma populate = 2183.9829440116882\n"
     ]
    }
   ],
   "source": [
    "import time\n",
    "import random\n",
    "import compartment_utils as cu\n",
    "cu = reload(cu)\n",
    "import preprocessing_vp2 as pre\n",
    "pre = reload(pre)\n",
    "import skeleton_utils as sk\n",
    "sk = reload(sk)\n",
    "nru = reload(nru)\n",
    "\n",
    "start_time = time.time()\n",
    "if not test_mode:\n",
    "    time.sleep(random.randint(0, 800))\n",
    "print('Populate Started')\n",
    "if not test_mode:\n",
    "    Decomposition.populate(reserve_jobs=True, suppress_errors=True)\n",
    "else:\n",
    "    Decomposition.populate(reserve_jobs=True, suppress_errors=False)\n",
    "print('Populate Done')\n",
    "\n",
    "print(f\"Total time for DecompositionMultiSoma populate = {time.time() - start_time}\")"
   ]
  },
  {
   "cell_type": "code",
   "execution_count": null,
   "metadata": {},
   "outputs": [],
   "source": []
  }
 ],
 "metadata": {
  "kernelspec": {
   "display_name": "Python 3",
   "language": "python",
   "name": "python3"
  },
  "language_info": {
   "codemirror_mode": {
    "name": "ipython",
    "version": 3
   },
   "file_extension": ".py",
   "mimetype": "text/x-python",
   "name": "python",
   "nbconvert_exporter": "python",
   "pygments_lexer": "ipython3",
   "version": "3.6.9"
  }
 },
 "nbformat": 4,
 "nbformat_minor": 4
}
