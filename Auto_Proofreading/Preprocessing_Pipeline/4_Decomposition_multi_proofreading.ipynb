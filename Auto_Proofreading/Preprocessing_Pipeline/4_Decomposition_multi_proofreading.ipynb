{
 "cells": [
  {
   "cell_type": "code",
   "execution_count": 1,
   "metadata": {},
   "outputs": [
    {
     "data": {
      "text/plain": [
       "'\\nPurpose: To decompose the multi-somas for splitting\\nusing the new decomposition method\\n\\n\\n\\n'"
      ]
     },
     "execution_count": 1,
     "metadata": {},
     "output_type": "execute_result"
    }
   ],
   "source": [
    "\"\"\"\n",
    "Purpose: To decompose the multi-somas for splitting\n",
    "using the new decomposition method\n",
    "\n",
    "\n",
    "\n",
    "\"\"\"\n"
   ]
  },
  {
   "cell_type": "code",
   "execution_count": 15,
   "metadata": {},
   "outputs": [],
   "source": [
    "import numpy as np\n",
    "import datajoint as dj\n",
    "import trimesh\n",
    "from tqdm.notebook import tqdm\n",
    "from pathlib import Path\n",
    "\n",
    "from os import sys\n",
    "sys.path.append(\"/meshAfterParty/\")\n",
    "\n",
    "import datajoint_utils as du\n",
    "from importlib import reload"
   ]
  },
  {
   "cell_type": "code",
   "execution_count": 18,
   "metadata": {},
   "outputs": [],
   "source": [
    "test_mode = False"
   ]
  },
  {
   "cell_type": "code",
   "execution_count": 38,
   "metadata": {},
   "outputs": [
    {
     "name": "stderr",
     "output_type": "stream",
     "text": [
      "INFO - 2021-01-13 08:18:55,655 - settings - Setting database.host to at-database.ad.bcm.edu\n",
      "INFO - 2021-01-13 08:18:55,656 - settings - Setting database.user to celiib\n",
      "INFO - 2021-01-13 08:18:55,657 - settings - Setting database.password to newceliipass\n",
      "INFO - 2021-01-13 08:18:55,662 - settings - Setting enable_python_native_blobs to True\n"
     ]
    },
    {
     "name": "stdout",
     "output_type": "stream",
     "text": [
      "Sleeping 100 sec before conneting\n",
      "Done sleeping\n",
      "Current path for external_segmentation_path = /mnt/dj-stor01/platinum/minnie65/02\n",
      "Current path for external_mesh_path = /mnt/dj-stor01/platinum/minnie65/02/meshes\n",
      "Current path for external_decimated_mesh_path = /mnt/dj-stor01/platinum/minnie65/02/decimated_meshes\n",
      "Current path for external_skeleton_path = /mnt/dj-stor01/platinum/minnie65/02/skeletons\n"
     ]
    },
    {
     "name": "stderr",
     "output_type": "stream",
     "text": [
      "INFO - 2021-01-13 08:18:55,968 - settings - Setting enable_python_native_blobs to True\n"
     ]
    }
   ],
   "source": [
    "import minfig\n",
    "import time\n",
    "import numpy as np\n",
    "#want to add in a wait for the connection part\n",
    "random_sleep_sec = np.random.randint(0, 200)\n",
    "print(f\"Sleeping {random_sleep_sec} sec before conneting\")\n",
    "if not test_mode:\n",
    "    time.sleep(random_sleep_sec)\n",
    "print(\"Done sleeping\")\n",
    "\n",
    "du.config_celii()\n",
    "du.set_minnie65_config_segmentation(minfig)\n",
    "du.print_minnie65_config_paths(minfig)\n",
    "\n",
    "#configuring will include the adapters\n",
    "minnie,schema = du.configure_minnie_vm()"
   ]
  },
  {
   "cell_type": "markdown",
   "metadata": {},
   "source": [
    "# Defining the Table"
   ]
  },
  {
   "cell_type": "code",
   "execution_count": 30,
   "metadata": {},
   "outputs": [],
   "source": [
    "import neuron_utils as nru\n",
    "import neuron\n",
    "import trimesh_utils as tu\n",
    "import numpy as np"
   ]
  },
  {
   "cell_type": "code",
   "execution_count": 31,
   "metadata": {},
   "outputs": [
    {
     "name": "stdout",
     "output_type": "stream",
     "text": [
      "No port chosen so picked random port 4130\n"
     ]
    }
   ],
   "source": [
    "import meshlab\n",
    "meshlab.set_meshlab_port(current_port=None)"
   ]
  },
  {
   "cell_type": "code",
   "execution_count": 32,
   "metadata": {},
   "outputs": [],
   "source": [
    "#so that it will have the adapter defined\n",
    "from datajoint_utils import *"
   ]
  },
  {
   "cell_type": "code",
   "execution_count": 33,
   "metadata": {},
   "outputs": [
    {
     "data": {
      "text/html": [
       "\n",
       "        \n",
       "        <style type=\"text/css\">\n",
       "            .Relation{\n",
       "                border-collapse:collapse;\n",
       "            }\n",
       "            .Relation th{\n",
       "                background: #A0A0A0; color: #ffffff; padding:4px; border:#f0e0e0 1px solid;\n",
       "                font-weight: normal; font-family: monospace; font-size: 100%;\n",
       "            }\n",
       "            .Relation td{\n",
       "                padding:4px; border:#f0e0e0 1px solid; font-size:100%;\n",
       "            }\n",
       "            .Relation tr:nth-child(odd){\n",
       "                background: #ffffff;\n",
       "            }\n",
       "            .Relation tr:nth-child(even){\n",
       "                background: #f3f1ff;\n",
       "            }\n",
       "            /* Tooltip container */\n",
       "            .djtooltip {\n",
       "            }\n",
       "            /* Tooltip text */\n",
       "            .djtooltip .djtooltiptext {\n",
       "                visibility: hidden;\n",
       "                width: 120px;\n",
       "                background-color: black;\n",
       "                color: #fff;\n",
       "                text-align: center;\n",
       "                padding: 5px 0;\n",
       "                border-radius: 6px;\n",
       "                /* Position the tooltip text - see examples below! */\n",
       "                position: absolute;\n",
       "                z-index: 1;\n",
       "            }\n",
       "            #primary {\n",
       "                font-weight: bold;\n",
       "                color: black;\n",
       "            }\n",
       "\n",
       "            #nonprimary {\n",
       "                font-weight: normal;\n",
       "                color: white;\n",
       "            }\n",
       "\n",
       "            /* Show the tooltip text when you mouse over the tooltip container */\n",
       "            .djtooltip:hover .djtooltiptext {\n",
       "                visibility: visible;\n",
       "            }\n",
       "        </style>\n",
       "        \n",
       "        \n",
       "            <div style=\"max-height:1000px;max-width:1500px;overflow:auto;\">\n",
       "            <table border=\"1\" class=\"Relation\">\n",
       "                <thead> <tr style=\"text-align: right;\"> <th> <div class=\"djtooltip\">\n",
       "                                <p id=\"primary\">segment_id</p>\n",
       "                                <span class=\"djtooltiptext\">segment id unique within each Segmentation</span>\n",
       "                            </div></th><th><div class=\"djtooltip\">\n",
       "                                <p id=\"primary\">decimation_version</p>\n",
       "                                <span class=\"djtooltiptext\"></span>\n",
       "                            </div></th><th><div class=\"djtooltip\">\n",
       "                                <p id=\"primary\">decimation_ratio</p>\n",
       "                                <span class=\"djtooltiptext\">ratio of remaining mesh vertices/faces (which ones depends on what metric the decimation technique uses)</span>\n",
       "                            </div> </th> </tr> </thead>\n",
       "                <tbody> <tr> <td>864691134947393276</td>\n",
       "<td>0</td>\n",
       "<td>0.25</td></tr><tr><td>864691135012398582</td>\n",
       "<td>0</td>\n",
       "<td>0.25</td></tr><tr><td>864691135012471798</td>\n",
       "<td>0</td>\n",
       "<td>0.25</td></tr><tr><td>864691135012571126</td>\n",
       "<td>0</td>\n",
       "<td>0.25</td></tr><tr><td>864691135012905110</td>\n",
       "<td>0</td>\n",
       "<td>0.25</td></tr><tr><td>864691135065018692</td>\n",
       "<td>0</td>\n",
       "<td>0.25</td></tr><tr><td>864691135065024068</td>\n",
       "<td>0</td>\n",
       "<td>0.25</td></tr><tr><td>864691135065032772</td>\n",
       "<td>0</td>\n",
       "<td>0.25</td></tr><tr><td>864691135065033540</td>\n",
       "<td>0</td>\n",
       "<td>0.25</td></tr><tr><td>864691135081745143</td>\n",
       "<td>0</td>\n",
       "<td>0.25</td></tr><tr><td>864691135081756919</td>\n",
       "<td>0</td>\n",
       "<td>0.25</td></tr><tr><td>864691135155574372</td>\n",
       "<td>0</td>\n",
       "<td>0.25</td> </tr> </tbody>\n",
       "            </table>\n",
       "            <p>...</p>\n",
       "            <p>Total: 143</p></div>\n",
       "            "
      ],
      "text/plain": [
       "*segment_id    *decimation_ve *decimation_ra\n",
       "+------------+ +------------+ +------------+\n",
       "86469113494739 0              0.25          \n",
       "86469113501239 0              0.25          \n",
       "86469113501247 0              0.25          \n",
       "86469113501257 0              0.25          \n",
       "86469113501290 0              0.25          \n",
       "86469113506501 0              0.25          \n",
       "86469113506502 0              0.25          \n",
       "86469113506503 0              0.25          \n",
       "86469113506503 0              0.25          \n",
       "86469113508174 0              0.25          \n",
       "86469113508175 0              0.25          \n",
       "86469113515557 0              0.25          \n",
       "   ...\n",
       " (Total: 143)"
      ]
     },
     "execution_count": 33,
     "metadata": {},
     "output_type": "execute_result"
    }
   ],
   "source": [
    "decimation_version = 0\n",
    "decimation_ratio = 0.25\n",
    "key_source = (minnie.Decimation().proj(decimation_version='version')  & \n",
    "                  dict(decimation_version=decimation_version,decimation_ratio=decimation_ratio)  \n",
    "                  & minnie.MultiSomaProofread2() & (dj.U(\"segment_id\") & (minnie.BaylorSegmentCentroid()).proj()))\n",
    "key_source"
   ]
  },
  {
   "cell_type": "code",
   "execution_count": 34,
   "metadata": {},
   "outputs": [],
   "source": [
    "#schema.external['decomposition'].delete(delete_external_files=True)"
   ]
  },
  {
   "cell_type": "code",
   "execution_count": 35,
   "metadata": {},
   "outputs": [],
   "source": [
    "#minnie.Decomposition.drop()"
   ]
  },
  {
   "cell_type": "code",
   "execution_count": 40,
   "metadata": {},
   "outputs": [],
   "source": [
    "import numpy as np\n",
    "import time\n",
    "decimation_version = 0\n",
    "decimation_ratio = 0.25\n",
    "process_version = 0\n",
    "\n",
    "@schema\n",
    "class Decomposition(dj.Computed):\n",
    "    definition=\"\"\"\n",
    "    -> minnie.Decimation.proj(decimation_version='version')\n",
    "    ver : decimal(6,2) #the version number of the materializaiton\n",
    "    process_version : int unsigned #the version of the preprocessing pipeline run\n",
    "    index : tinyint unsigned  #the index of the neuron object that resulted from that mesh (indexed starting at 0)\n",
    "    ---\n",
    "    multiplicity=null    : tinyint unsigned             # the number of somas found for this base segment\n",
    "    decomposition: <decomposition>\n",
    "    n_vertices           : int unsigned                 # number of vertices\n",
    "    n_faces              : int unsigned                 # number of faces\n",
    "    n_not_processed_soma_containing_meshes : int unsigned  #the number of meshes with somas that were not processed\n",
    "    n_error_limbs: int #the number of limbs that are touching multiple somas or 1 soma in multiple places\n",
    "    n_same_soma_multi_touching_limbs: int # number of limbs that touch the same soma multiple times\n",
    "    n_multi_soma_touching_limbs: int # number of limbs that touch multiple somas\n",
    "    n_somas: int #number of soma meshes detected\n",
    "    n_limbs: int\n",
    "    n_branches: int\n",
    "    max_limb_n_branches=NULL:int\n",
    "    \n",
    "    skeletal_length=NULL: double\n",
    "    max_limb_skeletal_length=NULL:double\n",
    "    median_branch_length=NULL:double #gives information on average skeletal length to next branch point\n",
    "    \n",
    "    \n",
    "    width_median=NULL: double #median width from mesh center without spines removed\n",
    "    width_no_spine_median=NULL: double #median width from mesh center with spines removed\n",
    "    width_90_perc=NULL: double # 90th percentile for width without spines removed\n",
    "    width_no_spine_90_perc=NULL: double  # 90th percentile for width with spines removed\n",
    "    \n",
    "    \n",
    "    n_spines: bigint\n",
    "\n",
    "    spine_density=NULL: double # n_spines/ skeletal_length\n",
    "    spines_per_branch=NULL: double\n",
    "    \n",
    "    skeletal_length_eligible=NULL: double # the skeletal length for all branches searched for spines\n",
    "    n_spine_eligible_branches=NULL: int # the number of branches that were checked for spines because passed width threshold\n",
    "    \n",
    "    spine_density_eligible=NULL:double # n_spines/skeletal_length_eligible\n",
    "    spines_per_branch_eligible=NULL:double # n_spines/n_spine_eligible_branches\n",
    "    \n",
    "    total_spine_volume=NULL: double # the sum of all spine volume\n",
    "    spine_volume_median=NULL: double # median of the spine volume for those spines with able to calculate volume\n",
    "    spine_volume_density=NULL: double #total_spine_volume/skeletal_length\n",
    "    spine_volume_density_eligible=NULL: double #total_spine_volume/skeletal_length_eligible\n",
    "    spine_volume_per_branch_eligible=NULL: double #total_spine_volume/n_spine_eligible_branches\n",
    "    \n",
    "    run_time=NULL : double                   # the amount of time to run (seconds)\n",
    "\n",
    "    \n",
    "    \"\"\"\n",
    "\n",
    "\n",
    "    \n",
    "    key_source = (minnie.Decimation().proj(decimation_version='version')  & \n",
    "                  dict(decimation_version=decimation_version,decimation_ratio=decimation_ratio)  \n",
    "                  & minnie.MultiSomaProofread2() & (dj.U(\"segment_id\") & (minnie.BaylorSegmentCentroid()).proj()))\n",
    "    \n",
    "\n",
    "    def make(self,key):\n",
    "        \"\"\"\n",
    "        Pseudocode for process:\n",
    "\n",
    "        1) Get the segment id from the key\n",
    "        2) Get the decimated mesh\n",
    "        3) Get the somas info\n",
    "        4) Run the preprocessing\n",
    "        5) Calculate all starter stats\n",
    "        6) Save the file in a certain location\n",
    "        7) Pass stats and file location to insert\n",
    "        \"\"\"\n",
    "        whole_pass_time = time.time()\n",
    "        #1) Get the segment id from the key\n",
    "        segment_id = key[\"segment_id\"]\n",
    "        description = str(key['decimation_version']) + \"_25\"\n",
    "        print(f\"\\n\\n\\n---- Working on Neuron {key['segment_id']} ----\")\n",
    "        global_start = time.time()\n",
    "        \n",
    "        #2) Get the decimated mesh\n",
    "        current_neuron_mesh = du.fetch_segment_id_mesh(segment_id)\n",
    "        \n",
    "\n",
    "        #3) Get the somas info \n",
    "        somas = du.get_soma_mesh_list(segment_id) \n",
    "        soma_ver = du.get_soma_mesh_list_ver(segment_id)\n",
    "                  \n",
    "        \n",
    "        print(f\"somas = {somas}\")\n",
    "                  \n",
    "        #3b) Get the glia and nuclei information \n",
    "        glia_faces,nuclei_faces = du.get_segment_glia_nuclei_faces(segment_id,return_empty_list=True)\n",
    "        \n",
    "                  \n",
    "        #4) Run the preprocessing\n",
    "\n",
    "\n",
    "        total_neuron_process_time = time.time()\n",
    "\n",
    "        print(f\"\\n--- Beginning preprocessing of {segment_id}---\")\n",
    "        recovered_neuron = neuron.Neuron(\n",
    "        mesh = current_neuron_mesh,\n",
    "        somas = somas,\n",
    "        segment_id=segment_id,\n",
    "        description=description,\n",
    "        suppress_preprocessing_print=False,\n",
    "        suppress_output=False,\n",
    "        calculate_spines=True,\n",
    "        widths_to_calculate=[\"no_spine_median_mesh_center\"],\n",
    "        glia_faces=glia_faces,\n",
    "        nuclei_faces = nuclei_faces,\n",
    "\n",
    "                )\n",
    "\n",
    "        print(f\"\\n\\n\\n---- Total preprocessing time = {time.time() - total_neuron_process_time}\")\n",
    "\n",
    "\n",
    "        #5) Don't have to do any of the processing anymore because will do in the neuron object\n",
    "        stats_dict = recovered_neuron.neuron_stats()\n",
    "\n",
    "\n",
    "\n",
    "        #6) Save the file in a certain location\n",
    "        save_time = time.time()\n",
    "        ret_file_path = recovered_neuron.save_compressed_neuron(output_folder=str(du.get_decomposition_path()),\n",
    "                                          return_file_path=True,\n",
    "                                         export_mesh=False,\n",
    "                                         suppress_output=True)\n",
    "\n",
    "        ret_file_path_str = str(ret_file_path.absolute()) + \".pbz2\"\n",
    "        print(f\"Save time = {time.time() - save_time}\")\n",
    "\n",
    "        #7) Pass stats and file location to insert\n",
    "        new_key = dict(key,\n",
    "                       ver = soma_ver,\n",
    "                       process_version = process_version,\n",
    "                       index = 0,\n",
    "                       multiplicity=1,\n",
    "                       decomposition=ret_file_path_str,\n",
    "                       n_vertices=len(current_neuron_mesh.vertices),\n",
    "                       n_faces=len(current_neuron_mesh.faces),\n",
    "                       run_time=np.round(time.time() - whole_pass_time,4)\n",
    "                      )\n",
    "        new_key.update(stats_dict)\n",
    "\n",
    "        self.insert1(new_key, allow_direct_insert=True, skip_duplicates=True)\n",
    "\n",
    "        print(f\"\\n\\n ------ Total time for {segment_id} = {time.time() - global_start} ------\")\n",
    "    "
   ]
  },
  {
   "cell_type": "markdown",
   "metadata": {},
   "source": [
    "# Running the Populate"
   ]
  },
  {
   "cell_type": "code",
   "execution_count": 41,
   "metadata": {},
   "outputs": [
    {
     "data": {
      "text/html": [
       "\n",
       "        \n",
       "        <style type=\"text/css\">\n",
       "            .Relation{\n",
       "                border-collapse:collapse;\n",
       "            }\n",
       "            .Relation th{\n",
       "                background: #A0A0A0; color: #ffffff; padding:4px; border:#f0e0e0 1px solid;\n",
       "                font-weight: normal; font-family: monospace; font-size: 100%;\n",
       "            }\n",
       "            .Relation td{\n",
       "                padding:4px; border:#f0e0e0 1px solid; font-size:100%;\n",
       "            }\n",
       "            .Relation tr:nth-child(odd){\n",
       "                background: #ffffff;\n",
       "            }\n",
       "            .Relation tr:nth-child(even){\n",
       "                background: #f3f1ff;\n",
       "            }\n",
       "            /* Tooltip container */\n",
       "            .djtooltip {\n",
       "            }\n",
       "            /* Tooltip text */\n",
       "            .djtooltip .djtooltiptext {\n",
       "                visibility: hidden;\n",
       "                width: 120px;\n",
       "                background-color: black;\n",
       "                color: #fff;\n",
       "                text-align: center;\n",
       "                padding: 5px 0;\n",
       "                border-radius: 6px;\n",
       "                /* Position the tooltip text - see examples below! */\n",
       "                position: absolute;\n",
       "                z-index: 1;\n",
       "            }\n",
       "            #primary {\n",
       "                font-weight: bold;\n",
       "                color: black;\n",
       "            }\n",
       "\n",
       "            #nonprimary {\n",
       "                font-weight: normal;\n",
       "                color: white;\n",
       "            }\n",
       "\n",
       "            /* Show the tooltip text when you mouse over the tooltip container */\n",
       "            .djtooltip:hover .djtooltiptext {\n",
       "                visibility: visible;\n",
       "            }\n",
       "        </style>\n",
       "        \n",
       "        <b>job reservation table for `microns_minnie65_02`</b>\n",
       "            <div style=\"max-height:1000px;max-width:1500px;overflow:auto;\">\n",
       "            <table border=\"1\" class=\"Relation\">\n",
       "                <thead> <tr style=\"text-align: right;\"> <th> <div class=\"djtooltip\">\n",
       "                                <p id=\"primary\">table_name</p>\n",
       "                                <span class=\"djtooltiptext\">className of the table</span>\n",
       "                            </div></th><th><div class=\"djtooltip\">\n",
       "                                <p id=\"primary\">key_hash</p>\n",
       "                                <span class=\"djtooltiptext\">key hash</span>\n",
       "                            </div></th><th><div class=\"djtooltip\">\n",
       "                                <p id=\"nonprimary\">status</p>\n",
       "                                <span class=\"djtooltiptext\">if tuple is missing, the job is available</span>\n",
       "                            </div></th><th><div class=\"djtooltip\">\n",
       "                                <p id=\"nonprimary\">key</p>\n",
       "                                <span class=\"djtooltiptext\">structure containing the key</span>\n",
       "                            </div></th><th><div class=\"djtooltip\">\n",
       "                                <p id=\"nonprimary\">error_message</p>\n",
       "                                <span class=\"djtooltiptext\">error message returned if failed</span>\n",
       "                            </div></th><th><div class=\"djtooltip\">\n",
       "                                <p id=\"nonprimary\">error_stack</p>\n",
       "                                <span class=\"djtooltiptext\">error stack if failed</span>\n",
       "                            </div></th><th><div class=\"djtooltip\">\n",
       "                                <p id=\"nonprimary\">user</p>\n",
       "                                <span class=\"djtooltiptext\">database user</span>\n",
       "                            </div></th><th><div class=\"djtooltip\">\n",
       "                                <p id=\"nonprimary\">host</p>\n",
       "                                <span class=\"djtooltiptext\">system hostname</span>\n",
       "                            </div></th><th><div class=\"djtooltip\">\n",
       "                                <p id=\"nonprimary\">pid</p>\n",
       "                                <span class=\"djtooltiptext\">system process id</span>\n",
       "                            </div></th><th><div class=\"djtooltip\">\n",
       "                                <p id=\"nonprimary\">connection_id</p>\n",
       "                                <span class=\"djtooltiptext\">connection_id()</span>\n",
       "                            </div></th><th><div class=\"djtooltip\">\n",
       "                                <p id=\"nonprimary\">timestamp</p>\n",
       "                                <span class=\"djtooltiptext\">automatic timestamp</span>\n",
       "                            </div> </th> </tr> </thead>\n",
       "                <tbody> <tr>  </tr> </tbody>\n",
       "            </table>\n",
       "            \n",
       "            <p>Total: 0</p></div>\n",
       "            "
      ],
      "text/plain": [
       "*table_name    *key_hash    status     key        error_message  error_stac user     host     pid     connection_id  timestamp    \n",
       "+------------+ +----------+ +--------+ +--------+ +------------+ +--------+ +------+ +------+ +-----+ +------------+ +-----------+\n",
       "\n",
       " (Total: 0)"
      ]
     },
     "execution_count": 41,
     "metadata": {},
     "output_type": "execute_result"
    }
   ],
   "source": [
    "curr_table = (minnie.schema.jobs & \"table_name='__decomposition'\")\n",
    "(curr_table)#.delete()# & \"status='error'\")\n",
    "#curr_table.delete()\n",
    "#(curr_table & \"error_message = 'ValueError: need at least one array to concatenate'\").delete()"
   ]
  },
  {
   "cell_type": "code",
   "execution_count": null,
   "metadata": {},
   "outputs": [
    {
     "name": "stderr",
     "output_type": "stream",
     "text": [
      "INFO - 2021-01-13 08:19:21,122 - autopopulate - Found 143 keys to populate\n",
      "INFO - 2021-01-13 08:19:21,132 - connection - Transaction started\n",
      "INFO - 2021-01-13 08:19:21,134 - autopopulate - Populating: {'segment_id': 864691134947393276, 'decimation_version': 0, 'decimation_ratio': Decimal('0.25')}\n"
     ]
    },
    {
     "name": "stdout",
     "output_type": "stream",
     "text": [
      "Populate Started\n",
      "\n",
      "\n",
      "\n",
      "---- Working on Neuron 864691134947393276 ----\n",
      "somas = [[<trimesh.Trimesh(vertices.shape=(19028, 3), faces.shape=(37767, 3))>], array([547.5166]), array([0.818])]\n",
      "\n",
      "--- Beginning preprocessing of 864691134947393276---\n",
      "--- 0) Having to preprocess the Neuron becuase no preprocessed data\n",
      "Please wait this could take a while.....\n",
      "Skipping the hole filling\n",
      "use_meshafterparty = True\n",
      "Using pre-computed somas: soma_mesh_list = [<trimesh.Trimesh(vertices.shape=(19028, 3), faces.shape=(37767, 3))>]\n",
      "Soma List = [<trimesh.Trimesh(vertices.shape=(19028, 3), faces.shape=(37767, 3))>]\n",
      "soma_mesh_list_centers = [array([604782.36627076, 817703.83371873, 923126.39603741])]\n",
      "Getting Glia and Nuclei Pieces Subtracted Away 1.0773143768310547\n",
      " Splitting mesh after soma cancellation 1.4604737758636475\n",
      "# of split_meshes = 19\n",
      " Containing Mesh Indices 0.04474449157714844\n",
      " non_soma_touching_meshes 2.1696090698242188e-05\n",
      "There were 18 pieces found after size threshold\n",
      " Finding inside pieces and non_soma_touching meshes 1.872117042541504\n",
      "\n",
      "-----Before filtering away multiple disconneted soma pieces-----\n",
      "# of soma containing seperate meshes = 1\n",
      "meshes with somas = {0: [0]}\n",
      "Number of not_processed_soma_containing_meshes = 0\n",
      "\n",
      "-----After filtering away multiple disconneted soma pieces-----\n",
      "# of soma containing seperate meshes = 1\n",
      "meshes with somas = {0: [0]}\n",
      " Filtering Away Disconnected Soma Pieces 0.0005919933319091797\n",
      "\n",
      "\n",
      "----Working on soma-containing mesh piece 0----\n",
      "Total time for Subtract Soma and Original_mesh_faces_map for somas= 1.0804755687713623\n",
      "new_floating_pieces = []\n",
      "Total time for sig_non_soma_pieces= 5.778950214385986\n",
      "Total time for split= 1.430511474609375e-06\n",
      "Total time for mesh_pieces_connectivity= 11.935150623321533\n",
      "# of insignificant_limbs = 2 with trimesh : [<trimesh.Trimesh(vertices.shape=(212, 3), faces.shape=(395, 3))>, <trimesh.Trimesh(vertices.shape=(18, 3), faces.shape=(27, 3))>]\n",
      "# of not_processed_soma_containing_meshes = 0 with trimesh : []\n",
      "\n",
      "\n",
      "----- Working on Proper Limb # 0 ---------\n",
      "meshparty_segment_size = 100\n",
      "root_curr = [603951.8 807448.8 923483.1]\n",
      "Time for preparing soma vertices and root: 0.0003685951232910156\n",
      "invalidation_d = 12000\n",
      "cc_vertex_thresh = 10\n"
     ]
    },
    {
     "name": "stderr",
     "output_type": "stream",
     "text": [
      "\r",
      "  0%|          | 0/1 [00:00<?, ?it/s]"
     ]
    },
    {
     "data": {
      "application/vnd.jupyter.widget-view+json": {
       "model_id": "54abed1c0843472895acebc04fd2cc1d",
       "version_major": 2,
       "version_minor": 0
      },
      "text/plain": [
       "HBox(children=(FloatProgress(value=0.0, max=295340.0), HTML(value='')))"
      ]
     },
     "metadata": {},
     "output_type": "display_data"
    },
    {
     "name": "stderr",
     "output_type": "stream",
     "text": [
      "100%|██████████| 1/1 [00:09<00:00,  9.45s/it]"
     ]
    },
    {
     "name": "stdout",
     "output_type": "stream",
     "text": [
      "\n"
     ]
    },
    {
     "name": "stderr",
     "output_type": "stream",
     "text": [
      "\n"
     ]
    },
    {
     "name": "stdout",
     "output_type": "stream",
     "text": [
      "meshparty_segment_size = 100\n",
      "Time for 1st pass MP skeletonization: 11.91020131111145\n",
      "connecting at the root\n",
      "branches_touching_root = [98]\n",
      "length of Graph = 36893\n",
      "Working on path [3129. 3161. 3184. 3208. 3226. 3246. 3264.]\n",
      "path_degrees = [3, 2, 2, 2, 2, 2, 3]\n",
      "Working on path [36893.  3315.  3349.  3384.  3418.  3452.  3490.  3502.]\n",
      "path_degrees = [4, 2, 2, 2, 2, 2, 2, 3]\n",
      "Working on path [36894.  3517.  3536.  3565.  3593.  3634.  3645.  3650.]\n",
      "path_degrees = [5, 2, 2, 2, 2, 2, 2, 3]\n",
      "Working on path [24841. 24843. 24848. 24850. 24855. 24857.]\n",
      "path_degrees = [3, 2, 2, 2, 2, 3]\n",
      "Working on path [28920. 28946. 28972. 28999. 29027. 29029.]\n",
      "path_degrees = [3, 2, 2, 2, 2, 3]\n",
      "Working on path [30188. 30215. 30242. 30265. 30274.]\n",
      "path_degrees = [3, 2, 2, 2, 3]\n",
      "Working on path [31389. 31403. 31417. 31432. 31446.]\n",
      "path_degrees = [3, 2, 2, 2, 3]\n",
      "After combining close endpoints max(kept_branches_idx) = 98, len(kept_branches_idx) = 92\n",
      "empty_indices % = 0.0\n",
      " conflict_indices % = 0.005023365876131107\n"
     ]
    },
    {
     "data": {
      "application/vnd.jupyter.widget-view+json": {
       "model_id": "52909ff03728484fb76457022d57fa49",
       "version_major": 2,
       "version_minor": 0
      },
      "text/plain": [
       "HBox(children=(FloatProgress(value=0.0, max=42.0), HTML(value='')))"
      ]
     },
     "metadata": {},
     "output_type": "display_data"
    },
    {
     "name": "stdout",
     "output_type": "stream",
     "text": [
      "\n",
      "AFTER face_lookup_resolved_test\n"
     ]
    },
    {
     "data": {
      "application/vnd.jupyter.widget-view+json": {
       "model_id": "fad2880ab09944a7971061ee5d70d185",
       "version_major": 2,
       "version_minor": 0
      },
      "text/plain": [
       "HBox(children=(FloatProgress(value=0.0, max=92.0), HTML(value='')))"
      ]
     },
     "metadata": {},
     "output_type": "display_data"
    },
    {
     "name": "stdout",
     "output_type": "stream",
     "text": [
      "\n",
      "Decomposing first pass: 36.37863850593567\n",
      "Attempting to use MeshAfterParty Skeletonization and Mesh Correspondence\n",
      "Another print\n",
      "Found len(mesh_large_idx) MAP candidates: [3647, 8033, 6009, 5217, 3501, 7144, 7675, 9332, 8781, 41187, 20059, 2436, 22811, 4219, 8353, 28360, 16279, 17723, 20929, 2653, 22934, 14409, 15788]\n",
      "mesh_large_connectivity: 1.1677863597869873\n",
      "Finding MAP candidates connected components: 0.0002732276916503906\n",
      "len(filtered_pieces) = 1\n",
      "skeleton_connectivity_MP : 1.0657496452331543\n",
      "Grouping MP Sublimbs by Graph: 0.1675257682800293\n",
      "Divinding into MP and MAP pieces: 1.1920928955078125e-06\n",
      "--- Working on MAP piece 0---\n",
      "MAP Filtering Soma Pieces: 0.018370628356933594\n",
      "inside skeletonize_connected_branch and use_surface_after_CGAL=False, surface_reconstruction_size=1000\n",
      "     Starting Screened Poisson\n",
      "xvfb-run -n 4130 -s \"-screen 0 800x600x24\" meshlabserver $@  -i /notebooks/Auto_Proofreading/Preprocessing_Pipeline/temp/None.off -o /notebooks/Auto_Proofreading/Preprocessing_Pipeline/temp/None_poisson.off -s /notebooks/Auto_Proofreading/Preprocessing_Pipeline/temp/poisson_63862.mls\n",
      "removed temporary input file: /notebooks/Auto_Proofreading/Preprocessing_Pipeline/temp/None.off\n",
      "removed temporary output file: /notebooks/Auto_Proofreading/Preprocessing_Pipeline/temp/None_poisson.off\n",
      "Using the close holes feature\n",
      "Mesh was manifold\n",
      "No holes needed to fill and mesh was manifold so returning original mesh\n",
      "-----Time for Screened Poisson= 24.680742740631104\n",
      "mesh_pieces = [<trimesh.Trimesh(vertices.shape=(73290, 3), faces.shape=(146584, 3))>, <trimesh.Trimesh(vertices.shape=(9719, 3), faces.shape=(19434, 3))>, <trimesh.Trimesh(vertices.shape=(3481, 3), faces.shape=(6958, 3))>]\n",
      "     Starting Calcification (Changed back where stitches large poissons)\n",
      "min_edge_length = 75\n",
      "min_edge_length = 75\n",
      "min_edge_length = 75\n"
     ]
    },
    {
     "data": {
      "application/vnd.jupyter.widget-view+json": {
       "model_id": "0c39d6b1b998403e98fbc2c3bcebd330",
       "version_major": 2,
       "version_minor": 0
      },
      "text/plain": [
       "HBox(children=(FloatProgress(value=1.0, bar_style='info', max=1.0), HTML(value='')))"
      ]
     },
     "metadata": {},
     "output_type": "display_data"
    },
    {
     "name": "stdout",
     "output_type": "stream",
     "text": [
      "\n",
      "No skeletons to stack so returning empty list\n",
      "len_subgraphs AT BEGINNING of the loop\n"
     ]
    },
    {
     "data": {
      "application/vnd.jupyter.widget-view+json": {
       "model_id": "c185e5a5908c457eb8d39948cd648a91",
       "version_major": 2,
       "version_minor": 0
      },
      "text/plain": [
       "HBox(children=(FloatProgress(value=0.0, max=3.0), HTML(value='')))"
      ]
     },
     "metadata": {},
     "output_type": "display_data"
    },
    {
     "name": "stdout",
     "output_type": "stream",
     "text": [
      "all graph is one component!\n",
      "\n",
      "Total time for skeleton stitching = 0.21471428871154785\n",
      "The process was using a temp folder\n",
      "Checking connected components after skeletonize_connected_branch\n",
      "    Total time for skeletonizing branch: 39.72948956489563\n",
      "Checking connected components after removing cycles\n",
      "Total time for mesh KDTree = 2.674896240234375\n",
      "sbv[0].reshape(-1,3) = [[603951.8 807448.8 923483.1]]\n",
      "closest_sk_pt_coord BEFORE = [602752. 807552. 924836.]\n",
      "current_skeleton.shape = (6324, 2, 3)\n",
      "node_for_stitch = 4993: [602752. 807552. 924836.]\n",
      "node_for_stitch AFTER = 4993: [602752. 807552. 924836.]\n",
      "possible_node_loc = [   0  145  189  228  236  297  317  336  396  433  437  489  496  626\n",
      "  669  710  729  738  750  889  907  950 1049 1063 1081 1115 1228 1243\n",
      " 1244 1337 1400 1443 1444 1523 1560 1577 1592 1627 1648 1682 1693 1734\n",
      " 1776 1815 1819 1987 2115 2124 2222 2449 2466 2473 2583 2605 2658 2690\n",
      " 2706 2953 3043 3050 3121 3127 3206 3238 3385 3428 3433 3437 3503 3539\n",
      " 3599 3782 3847 3857 4134 4202 4240 4289 4336 4441 4453 4508 4598 4689\n",
      " 4694 4727 4740 4889 4895 4897 4993 5191 5229 5230 5264 5288 5340 5385\n",
      " 5407 5450 5504 5549 5588 5606 5639 5701 5732 5743 5775 5807 5817 5869\n",
      " 5882 5894 5915 5926 5938 5943 5995 6022 6075 6094 6127 6136 6212 6245\n",
      " 6324]\n",
      "possible_node_loc AFTER = [   0  145  189  228  236  297  317  336  396  433  437  489  496  626\n",
      "  669  710  729  738  750  889  907  950 1049 1063 1081 1115 1228 1243\n",
      " 1244 1337 1400 1443 1444 1523 1560 1577 1592 1627 1648 1682 1693 1734\n",
      " 1776 1815 1819 1987 2115 2124 2222 2449 2466 2473 2583 2605 2658 2690\n",
      " 2706 2953 3043 3050 3121 3127 3206 3238 3385 3428 3433 3437 3503 3539\n",
      " 3599 3782 3847 3857 4134 4202 4240 4289 4336 4441 4453 4508 4598 4689\n",
      " 4694 4727 4740 4889 4895 4897 4993 5191 5229 5230 5264 5288 5340 5385\n",
      " 5407 5450 5504 5549 5588 5606 5639 5701 5732 5743 5775 5807 5817 5869\n",
      " 5882 5894 5915 5926 5938 5943 5995 6022 6075 6094 6127 6136 6212 6245\n",
      " 6324]\n",
      "curr_shortest_path = [4993]\n",
      "Current stitch point was a branch or endpoint\n",
      "change_status for create soma extending pieces = False\n",
      "closest_sk_pt_coord AFTER = [602752. 807552. 924836.]\n",
      "skipping soma 0 because closest skeleton node was already end node\n",
      "endpoints_must_keep = {0: array([[602752., 807552., 924836.]])}\n",
      "    Total time for Fixing Skeleton Soma Endpoint Extension : 6.227016925811768\n",
      "filter_end_node_length = 4000\n",
      "xvfb-run -n 4130 -s \"-screen 0 800x600x24\" meshlabserver $@  -i /notebooks/Auto_Proofreading/Preprocessing_Pipeline/temp/neuron_84062.off -o /notebooks/Auto_Proofreading/Preprocessing_Pipeline/temp/neuron_84062_remove_interior.off -s /notebooks/Auto_Proofreading/Preprocessing_Pipeline/temp/remove_interior_892120.mls\n",
      "removed temporary input file: /notebooks/Auto_Proofreading/Preprocessing_Pipeline/temp/neuron_84062.off\n",
      "removed temporary output file: /notebooks/Auto_Proofreading/Preprocessing_Pipeline/temp/neuron_84062_remove_interior.off\n",
      "/notebooks/Auto_Proofreading/Preprocessing_Pipeline/temp/remove_interior_892120.mls is being deleted....\n",
      "THERE WERE NO MESH PIECES GREATER THAN THE significance_threshold\n",
      "No significant (100) interior meshes present\n",
      "largest is 55\n",
      "Using Distance measure skeletal_distance\n",
      "endpoints_must_keep = [[ 602752.  807552.  924836.]\n",
      " [ 565837.  808650. 1049280.]\n",
      " [ 600552.  738155.  873968.]]\n",
      "Number of end_nodes BEFORE filtering = 127\n",
      "all_single_nodes_to_eliminate = [90, 32, 84]\n"
     ]
    },
    {
     "data": {
      "application/vnd.jupyter.widget-view+json": {
       "model_id": "8769ad6ced664a91b58b105d410fceec",
       "version_major": 2,
       "version_minor": 0
      },
      "text/plain": [
       "HBox(children=(FloatProgress(value=0.0, max=119.0), HTML(value='')))"
      ]
     },
     "metadata": {},
     "output_type": "display_data"
    },
    {
     "name": "stdout",
     "output_type": "stream",
     "text": [
      "\n",
      "Checking connected components after clean_skeleton\n",
      "after DISTANCE cleaning limb size of skeleton = (5815, 2, 3)\n",
      "********COMBINING CLOSE SKELETON NODES WITHIN 700 DISTANCE**********\n",
      "Found 0 valid paths to replace\n",
      "valid_paths = []\n",
      "valid_path_lengths = []\n",
      "No valid paths found so just returning the original\n",
      "skeletonize_and_clean_connected_branch_CGAL: 107.54272079467773\n",
      "Working on limb correspondence for #0 MAP piece\n",
      "xvfb-run -n 4130 -s \"-screen 0 800x600x24\" meshlabserver $@  -i /notebooks/Auto_Proofreading/Preprocessing_Pipeline/temp/neuron_29818.off -o /notebooks/Auto_Proofreading/Preprocessing_Pipeline/temp/neuron_29818_remove_interior.off -s /notebooks/Auto_Proofreading/Preprocessing_Pipeline/temp/remove_interior_516082.mls\n",
      "removed temporary input file: /notebooks/Auto_Proofreading/Preprocessing_Pipeline/temp/neuron_29818.off\n",
      "removed temporary output file: /notebooks/Auto_Proofreading/Preprocessing_Pipeline/temp/neuron_29818_remove_interior.off\n",
      "/notebooks/Auto_Proofreading/Preprocessing_Pipeline/temp/remove_interior_516082.mls is being deleted....\n",
      "THERE WERE NO MESH PIECES GREATER THAN THE significance_threshold\n",
      "No significant (100) interior meshes present\n",
      "largest is 55\n"
     ]
    },
    {
     "data": {
      "application/vnd.jupyter.widget-view+json": {
       "model_id": "2827d61787e34d92978a0f96ec9346f8",
       "version_major": 2,
       "version_minor": 0
      },
      "text/plain": [
       "HBox(children=(FloatProgress(value=1.0, bar_style='info', max=1.0), HTML(value='')))"
      ]
     },
     "metadata": {},
     "output_type": "display_data"
    },
    {
     "name": "stdout",
     "output_type": "stream",
     "text": [
      "\n",
      "Total time for decomposition = 50.3155734539032\n",
      "mesh_correspondence_first_pass: 50.3156054019928\n",
      "Limb decomposed into 17 branches\n",
      "divided_skeleton_graph_recovered = (5815, 2, 3) and \n",
      "current_mesh_data[0]['branch_skeletons_cleaned'].shape = (5815, 2, 3)\n",
      "\n",
      "Number of connected components in deocmposed recovered graph = 1\n",
      "Number of connected components in cleaned skeleton graph= 1\n",
      "The downsampled branches number of connected components = 1\n",
      "Empty submeshes = []\n",
      "\n",
      "\n",
      "--- Working on 1-to-1 correspondence-----\n",
      "max(original_labels),len(original_labels) = (16, 17)\n",
      "empty_indices % = 0.19099499460466116\n",
      " conflict_indices % = 0.01573556452724394\n"
     ]
    },
    {
     "data": {
      "application/vnd.jupyter.widget-view+json": {
       "model_id": "2a218b19f758409e847955c9e40b658d",
       "version_major": 2,
       "version_minor": 0
      },
      "text/plain": [
       "HBox(children=(FloatProgress(value=0.0, max=585.0), HTML(value='')))"
      ]
     },
     "metadata": {},
     "output_type": "display_data"
    },
    {
     "name": "stdout",
     "output_type": "stream",
     "text": [
      "\n",
      "AFTER face_lookup_resolved_test\n",
      "Took 0 iterations to expand the label back\n",
      "empty_indices % = 0.0\n",
      " conflict_indices % = 0.0\n"
     ]
    },
    {
     "data": {
      "application/vnd.jupyter.widget-view+json": {
       "model_id": "9c3f514749e747b99400b5d1c06ff592",
       "version_major": 2,
       "version_minor": 0
      },
      "text/plain": [
       "HBox(children=(FloatProgress(value=1.0, bar_style='info', max=1.0), HTML(value='')))"
      ]
     },
     "metadata": {},
     "output_type": "display_data"
    },
    {
     "name": "stdout",
     "output_type": "stream",
     "text": [
      "\n",
      "AFTER face_lookup_resolved_test\n"
     ]
    },
    {
     "data": {
      "application/vnd.jupyter.widget-view+json": {
       "model_id": "95ae978afc3246ff85e60099a4f6cfba",
       "version_major": 2,
       "version_minor": 0
      },
      "text/plain": [
       "HBox(children=(FloatProgress(value=0.0, max=17.0), HTML(value='')))"
      ]
     },
     "metadata": {},
     "output_type": "display_data"
    },
    {
     "name": "stdout",
     "output_type": "stream",
     "text": [
      "\n",
      "Total time for MAP sublimb #0 mesh processing = 181.1739580631256\n",
      "correspondence_1_to_1: 23.29722237586975\n",
      "Total time for MAP sublimb processing 181.17408847808838\n",
      "---- Working on MP Decomposition #0 ----\n",
      "Computing the current soma touching verts dict manually\n",
      "MP filtering soma verts: 0.007558345794677734\n",
      "Do Not Need to Fix MP Decomposition 0 so just continuing\n",
      "---- Working on MP Decomposition #1 ----\n",
      "Computing the current soma touching verts dict manually\n",
      "MP filtering soma verts: 0.0016524791717529297\n",
      "Do Not Need to Fix MP Decomposition 1 so just continuing\n",
      "---- Working on MP Decomposition #2 ----\n",
      "Computing the current soma touching verts dict manually\n",
      "MP filtering soma verts: 0.0011143684387207031\n",
      "Do Not Need to Fix MP Decomposition 2 so just continuing\n",
      "---- Working on MP Decomposition #3 ----\n",
      "Computing the current soma touching verts dict manually\n",
      "MP filtering soma verts: 0.003261089324951172\n",
      "Do Not Need to Fix MP Decomposition 3 so just continuing\n",
      "---- Working on MP Decomposition #4 ----\n",
      "Computing the current soma touching verts dict manually\n",
      "MP filtering soma verts: 0.0016870498657226562\n",
      "Do Not Need to Fix MP Decomposition 4 so just continuing\n",
      "---- Working on MP Decomposition #5 ----\n",
      "Computing the current soma touching verts dict manually\n",
      "MP filtering soma verts: 0.0009238719940185547\n",
      "Do Not Need to Fix MP Decomposition 5 so just continuing\n",
      "---- Working on MP Decomposition #6 ----\n",
      "Computing the current soma touching verts dict manually\n",
      "MP filtering soma verts: 0.0012199878692626953\n",
      "Do Not Need to Fix MP Decomposition 6 so just continuing\n",
      "---- Working on MP Decomposition #7 ----\n",
      "Computing the current soma touching verts dict manually\n",
      "MP filtering soma verts: 0.0038526058197021484\n",
      "Do Not Need to Fix MP Decomposition 7 so just continuing\n",
      "---- Working on MP Decomposition #8 ----\n",
      "Computing the current soma touching verts dict manually\n",
      "MP filtering soma verts: 0.0018525123596191406\n",
      "Do Not Need to Fix MP Decomposition 8 so just continuing\n",
      "---- Working on MP Decomposition #9 ----\n",
      "Computing the current soma touching verts dict manually\n",
      "MP filtering soma verts: 0.001318216323852539\n",
      "Do Not Need to Fix MP Decomposition 9 so just continuing\n",
      "---- Working on MP Decomposition #10 ----\n",
      "Computing the current soma touching verts dict manually\n",
      "MP filtering soma verts: 0.0006587505340576172\n",
      "Do Not Need to Fix MP Decomposition 10 so just continuing\n",
      "Successful mesh connectivity with type edges\n",
      "\n",
      "---- Working on (0, 0) connection-----\n",
      "sk_conn = [7]\n",
      "conn = [7]\n",
      "winning_vertex = [603135.74903851 742788.78554442 889730.81694418]\n",
      "MP_branches_with_stitch_point = [7]\n",
      "MAP_branches_with_stitch_point = [12]\n",
      "MAP_stitch_point_on_end_or_branch = False\n"
     ]
    },
    {
     "data": {
      "application/vnd.jupyter.widget-view+json": {
       "model_id": "4c929ed17fe64388ad143be11731ead2",
       "version_major": 2,
       "version_minor": 0
      },
      "text/plain": [
       "HBox(children=(FloatProgress(value=1.0, bar_style='info', max=1.0), HTML(value='')))"
      ]
     },
     "metadata": {},
     "output_type": "display_data"
    },
    {
     "name": "stdout",
     "output_type": "stream",
     "text": [
      "\n",
      "\n",
      "\n",
      "--- Working on 1-to-1 correspondence-----\n",
      "max(original_labels),len(original_labels) = (1, 2)\n",
      "empty_indices % = 0.3597148736037625\n",
      " conflict_indices % = 0.003233392122281011\n"
     ]
    },
    {
     "data": {
      "application/vnd.jupyter.widget-view+json": {
       "model_id": "44439f98677f4123bfa9b4ff3e2e4629",
       "version_major": 2,
       "version_minor": 0
      },
      "text/plain": [
       "HBox(children=(FloatProgress(value=0.0, max=33.0), HTML(value='')))"
      ]
     },
     "metadata": {},
     "output_type": "display_data"
    },
    {
     "name": "stdout",
     "output_type": "stream",
     "text": [
      "\n",
      "AFTER face_lookup_resolved_test\n"
     ]
    },
    {
     "data": {
      "application/vnd.jupyter.widget-view+json": {
       "model_id": "4218abacdb3b4619b4d4e4aff5da7c76",
       "version_major": 2,
       "version_minor": 0
      },
      "text/plain": [
       "HBox(children=(FloatProgress(value=0.0, max=2.0), HTML(value='')))"
      ]
     },
     "metadata": {},
     "output_type": "display_data"
    },
    {
     "name": "stdout",
     "output_type": "stream",
     "text": [
      "\n"
     ]
    },
    {
     "data": {
      "application/vnd.jupyter.widget-view+json": {
       "model_id": "a413d6646b4c4db190b1ecfd5731284d",
       "version_major": 2,
       "version_minor": 0
      },
      "text/plain": [
       "HBox(children=(FloatProgress(value=1.0, bar_style='info', max=1.0), HTML(value='')))"
      ]
     },
     "metadata": {},
     "output_type": "display_data"
    },
    {
     "name": "stdout",
     "output_type": "stream",
     "text": [
      "\n",
      "\n",
      "\n",
      "--- Working on 1-to-1 correspondence-----\n",
      "max(original_labels),len(original_labels) = (2, 3)\n",
      "empty_indices % = 0.5555812554933617\n",
      " conflict_indices % = 0.00101771753712356\n"
     ]
    },
    {
     "data": {
      "application/vnd.jupyter.widget-view+json": {
       "model_id": "656cc0c41abd48aebabe148667749331",
       "version_major": 2,
       "version_minor": 0
      },
      "text/plain": [
       "HBox(children=(FloatProgress(value=0.0, max=11.0), HTML(value='')))"
      ]
     },
     "metadata": {},
     "output_type": "display_data"
    },
    {
     "name": "stdout",
     "output_type": "stream",
     "text": [
      "\n",
      "AFTER face_lookup_resolved_test\n"
     ]
    },
    {
     "data": {
      "application/vnd.jupyter.widget-view+json": {
       "model_id": "c27b75a681144899b6e4b0a2de875edb",
       "version_major": 2,
       "version_minor": 0
      },
      "text/plain": [
       "HBox(children=(FloatProgress(value=0.0, max=3.0), HTML(value='')))"
      ]
     },
     "metadata": {},
     "output_type": "display_data"
    },
    {
     "name": "stdout",
     "output_type": "stream",
     "text": [
      "\n",
      "Deleting branches from dictionary\n",
      "MP_branches_with_stitch_point= [7]\n",
      "MP_branches_for_correspondence = [7]\n",
      "MP_leftover = [], MP_leftover_idx = []\n",
      " Finished with (0, 0) \n",
      "\n",
      "\n",
      "\n",
      "\n",
      "---- Working on (1, 0) connection-----\n",
      "sk_conn = [0]\n",
      "conn = [0]\n",
      "winning_vertex = [600681.60681221 705205.74853506 896089.19052625]\n",
      "MP_branches_with_stitch_point = [0]\n",
      "MAP_branches_with_stitch_point = [3]\n",
      "MAP_stitch_point_on_end_or_branch = False\n"
     ]
    },
    {
     "data": {
      "application/vnd.jupyter.widget-view+json": {
       "model_id": "547970985148450aad6da0b86577887c",
       "version_major": 2,
       "version_minor": 0
      },
      "text/plain": [
       "HBox(children=(FloatProgress(value=1.0, bar_style='info', max=1.0), HTML(value='')))"
      ]
     },
     "metadata": {},
     "output_type": "display_data"
    },
    {
     "name": "stdout",
     "output_type": "stream",
     "text": [
      "\n",
      "\n",
      "\n",
      "--- Working on 1-to-1 correspondence-----\n",
      "max(original_labels),len(original_labels) = (1, 2)\n",
      "empty_indices % = 0.08862581986882098\n",
      " conflict_indices % = 0.0003626086492827814\n"
     ]
    },
    {
     "data": {
      "application/vnd.jupyter.widget-view+json": {
       "model_id": "8964971c2c9c42679e50d6250637a429",
       "version_major": 2,
       "version_minor": 0
      },
      "text/plain": [
       "HBox(children=(FloatProgress(value=0.0, max=203.0), HTML(value='')))"
      ]
     },
     "metadata": {},
     "output_type": "display_data"
    },
    {
     "name": "stdout",
     "output_type": "stream",
     "text": [
      "\n",
      "AFTER face_lookup_resolved_test\n"
     ]
    },
    {
     "data": {
      "application/vnd.jupyter.widget-view+json": {
       "model_id": "1bb76341b68c42439b750b7f92b991c6",
       "version_major": 2,
       "version_minor": 0
      },
      "text/plain": [
       "HBox(children=(FloatProgress(value=0.0, max=2.0), HTML(value='')))"
      ]
     },
     "metadata": {},
     "output_type": "display_data"
    },
    {
     "name": "stdout",
     "output_type": "stream",
     "text": [
      "\n"
     ]
    },
    {
     "data": {
      "application/vnd.jupyter.widget-view+json": {
       "model_id": "0705ce260b7b40559839b598fde3e843",
       "version_major": 2,
       "version_minor": 0
      },
      "text/plain": [
       "HBox(children=(FloatProgress(value=1.0, bar_style='info', max=1.0), HTML(value='')))"
      ]
     },
     "metadata": {},
     "output_type": "display_data"
    },
    {
     "name": "stdout",
     "output_type": "stream",
     "text": [
      "\n",
      "\n",
      "\n",
      "--- Working on 1-to-1 correspondence-----\n",
      "max(original_labels),len(original_labels) = (2, 3)\n",
      "empty_indices % = 0.10343930582136421\n",
      " conflict_indices % = 0.005797209164049871\n"
     ]
    },
    {
     "data": {
      "application/vnd.jupyter.widget-view+json": {
       "model_id": "be649593ee4a42dd9cd1e526c98a8395",
       "version_major": 2,
       "version_minor": 0
      },
      "text/plain": [
       "HBox(children=(FloatProgress(value=0.0, max=54.0), HTML(value='')))"
      ]
     },
     "metadata": {},
     "output_type": "display_data"
    },
    {
     "name": "stdout",
     "output_type": "stream",
     "text": [
      "\n",
      "AFTER face_lookup_resolved_test\n"
     ]
    },
    {
     "data": {
      "application/vnd.jupyter.widget-view+json": {
       "model_id": "010f8aa8ca7145218c130cad71007017",
       "version_major": 2,
       "version_minor": 0
      },
      "text/plain": [
       "HBox(children=(FloatProgress(value=0.0, max=3.0), HTML(value='')))"
      ]
     },
     "metadata": {},
     "output_type": "display_data"
    },
    {
     "name": "stdout",
     "output_type": "stream",
     "text": [
      "\n",
      "Deleting branches from dictionary\n",
      "MP_branches_with_stitch_point= [0]\n",
      "MP_branches_for_correspondence = [0]\n",
      "MP_leftover = [], MP_leftover_idx = []\n",
      " Finished with (1, 0) \n",
      "\n",
      "\n",
      "\n",
      "\n",
      "---- Working on (2, 0) connection-----\n",
      "sk_conn = [0, 1]\n",
      "conn = [0, 1]\n",
      "winning_vertex = [589888.46394605 379178.23861797 923119.35177624]\n",
      "MP_branches_with_stitch_point = [0, 1]\n",
      "MAP_branches_with_stitch_point = [5]\n",
      "MAP_stitch_point_on_end_or_branch = True\n"
     ]
    },
    {
     "data": {
      "application/vnd.jupyter.widget-view+json": {
       "model_id": "5c12a9e319474401b3e0abe5ec1a93a3",
       "version_major": 2,
       "version_minor": 0
      },
      "text/plain": [
       "HBox(children=(FloatProgress(value=1.0, bar_style='info', max=1.0), HTML(value='')))"
      ]
     },
     "metadata": {},
     "output_type": "display_data"
    },
    {
     "name": "stdout",
     "output_type": "stream",
     "text": [
      "\n",
      "\n",
      "\n",
      "--- Working on 1-to-1 correspondence-----\n",
      "max(original_labels),len(original_labels) = (2, 3)\n",
      "empty_indices % = 0.2619299674267101\n",
      " conflict_indices % = 0.0\n"
     ]
    },
    {
     "data": {
      "application/vnd.jupyter.widget-view+json": {
       "model_id": "e263bdc78b014204a0a30d6517498657",
       "version_major": 2,
       "version_minor": 0
      },
      "text/plain": [
       "HBox(children=(FloatProgress(value=0.0, max=19.0), HTML(value='')))"
      ]
     },
     "metadata": {},
     "output_type": "display_data"
    },
    {
     "name": "stdout",
     "output_type": "stream",
     "text": [
      "\n",
      "AFTER face_lookup_resolved_test\n"
     ]
    },
    {
     "data": {
      "application/vnd.jupyter.widget-view+json": {
       "model_id": "7f9dc6fcf8974777bcf224cac041ab62",
       "version_major": 2,
       "version_minor": 0
      },
      "text/plain": [
       "HBox(children=(FloatProgress(value=0.0, max=3.0), HTML(value='')))"
      ]
     },
     "metadata": {},
     "output_type": "display_data"
    },
    {
     "name": "stdout",
     "output_type": "stream",
     "text": [
      "\n",
      "MP_branches_with_stitch_point= [0, 1]\n",
      "MP_branches_for_correspondence = [0 1]\n",
      "MP_leftover = [], MP_leftover_idx = []\n",
      " Finished with (2, 0) \n",
      "\n",
      "\n",
      "\n",
      "\n",
      "---- Working on (3, 0) connection-----\n",
      "sk_conn = [11]\n",
      "conn = [11]\n",
      "winning_vertex = [562654.31349009 798124.16269965 977558.71613419]\n",
      "MP_branches_with_stitch_point = [11]\n",
      "MAP_branches_with_stitch_point = [2]\n",
      "MAP_stitch_point_on_end_or_branch = False\n"
     ]
    },
    {
     "data": {
      "application/vnd.jupyter.widget-view+json": {
       "model_id": "c2cffe9fb8594e5ca61be01f60cfcccd",
       "version_major": 2,
       "version_minor": 0
      },
      "text/plain": [
       "HBox(children=(FloatProgress(value=1.0, bar_style='info', max=1.0), HTML(value='')))"
      ]
     },
     "metadata": {},
     "output_type": "display_data"
    },
    {
     "name": "stdout",
     "output_type": "stream",
     "text": [
      "\n",
      "\n",
      "\n",
      "--- Working on 1-to-1 correspondence-----\n",
      "max(original_labels),len(original_labels) = (1, 2)\n",
      "empty_indices % = 0.17357106727364693\n",
      " conflict_indices % = 0.000278199291856348\n"
     ]
    },
    {
     "data": {
      "application/vnd.jupyter.widget-view+json": {
       "model_id": "90e82125cfef4ca796d04760eccee60a",
       "version_major": 2,
       "version_minor": 0
      },
      "text/plain": [
       "HBox(children=(FloatProgress(value=0.0, max=93.0), HTML(value='')))"
      ]
     },
     "metadata": {},
     "output_type": "display_data"
    },
    {
     "name": "stdout",
     "output_type": "stream",
     "text": [
      "\n",
      "AFTER face_lookup_resolved_test\n"
     ]
    },
    {
     "data": {
      "application/vnd.jupyter.widget-view+json": {
       "model_id": "ceb75596c75e41869999063d7d0329c7",
       "version_major": 2,
       "version_minor": 0
      },
      "text/plain": [
       "HBox(children=(FloatProgress(value=0.0, max=2.0), HTML(value='')))"
      ]
     },
     "metadata": {},
     "output_type": "display_data"
    },
    {
     "name": "stdout",
     "output_type": "stream",
     "text": [
      "\n"
     ]
    },
    {
     "data": {
      "application/vnd.jupyter.widget-view+json": {
       "model_id": "abdaa74deb0a4adcbe4649325edb7135",
       "version_major": 2,
       "version_minor": 0
      },
      "text/plain": [
       "HBox(children=(FloatProgress(value=1.0, bar_style='info', max=1.0), HTML(value='')))"
      ]
     },
     "metadata": {},
     "output_type": "display_data"
    },
    {
     "name": "stdout",
     "output_type": "stream",
     "text": [
      "\n",
      "\n",
      "\n",
      "--- Working on 1-to-1 correspondence-----\n",
      "max(original_labels),len(original_labels) = (2, 3)\n",
      "empty_indices % = 0.18510320815717482\n",
      " conflict_indices % = 0.0015916438696841582\n"
     ]
    },
    {
     "data": {
      "application/vnd.jupyter.widget-view+json": {
       "model_id": "db4195e7be204ebfb6ccf9b7be177a6b",
       "version_major": 2,
       "version_minor": 0
      },
      "text/plain": [
       "HBox(children=(FloatProgress(value=0.0, max=3.0), HTML(value='')))"
      ]
     },
     "metadata": {},
     "output_type": "display_data"
    },
    {
     "name": "stdout",
     "output_type": "stream",
     "text": [
      "\n",
      "AFTER face_lookup_resolved_test\n"
     ]
    },
    {
     "data": {
      "application/vnd.jupyter.widget-view+json": {
       "model_id": "163f5435f378445ab71c1ace0033970b",
       "version_major": 2,
       "version_minor": 0
      },
      "text/plain": [
       "HBox(children=(FloatProgress(value=0.0, max=3.0), HTML(value='')))"
      ]
     },
     "metadata": {},
     "output_type": "display_data"
    },
    {
     "name": "stdout",
     "output_type": "stream",
     "text": [
      "\n",
      "Deleting branches from dictionary\n",
      "MP_branches_with_stitch_point= [11]\n",
      "MP_branches_for_correspondence = [11]\n",
      "MP_leftover = [], MP_leftover_idx = []\n",
      " Finished with (3, 0) \n",
      "\n",
      "\n",
      "\n",
      "\n",
      "---- Working on (4, 0) connection-----\n",
      "sk_conn = [0]\n",
      "conn = [0]\n",
      "winning_vertex = [590995.76259516 639171.24516773 897215.6642029 ]\n",
      "MP_branches_with_stitch_point = [0]\n",
      "MAP_branches_with_stitch_point = [3]\n",
      "MAP_stitch_point_on_end_or_branch = False\n"
     ]
    },
    {
     "data": {
      "application/vnd.jupyter.widget-view+json": {
       "model_id": "de41c544c59d42bca65fa5f4bd31d6f3",
       "version_major": 2,
       "version_minor": 0
      },
      "text/plain": [
       "HBox(children=(FloatProgress(value=1.0, bar_style='info', max=1.0), HTML(value='')))"
      ]
     },
     "metadata": {},
     "output_type": "display_data"
    },
    {
     "name": "stdout",
     "output_type": "stream",
     "text": [
      "\n",
      "\n",
      "\n",
      "--- Working on 1-to-1 correspondence-----\n",
      "max(original_labels),len(original_labels) = (1, 2)\n",
      "empty_indices % = 0.0856769659349678\n",
      " conflict_indices % = 0.0007629087630474737\n"
     ]
    },
    {
     "data": {
      "application/vnd.jupyter.widget-view+json": {
       "model_id": "741e3b5877a74347b8483b02f909d87b",
       "version_major": 2,
       "version_minor": 0
      },
      "text/plain": [
       "HBox(children=(FloatProgress(value=0.0, max=184.0), HTML(value='')))"
      ]
     },
     "metadata": {},
     "output_type": "display_data"
    },
    {
     "name": "stdout",
     "output_type": "stream",
     "text": [
      "\n",
      "AFTER face_lookup_resolved_test\n"
     ]
    },
    {
     "data": {
      "application/vnd.jupyter.widget-view+json": {
       "model_id": "559db81b0b59454ebe4d3fa568b085fe",
       "version_major": 2,
       "version_minor": 0
      },
      "text/plain": [
       "HBox(children=(FloatProgress(value=0.0, max=2.0), HTML(value='')))"
      ]
     },
     "metadata": {},
     "output_type": "display_data"
    },
    {
     "name": "stdout",
     "output_type": "stream",
     "text": [
      "\n"
     ]
    },
    {
     "data": {
      "application/vnd.jupyter.widget-view+json": {
       "model_id": "e1a47e3c74664e27989915b87b5a6a38",
       "version_major": 2,
       "version_minor": 0
      },
      "text/plain": [
       "HBox(children=(FloatProgress(value=1.0, bar_style='info', max=1.0), HTML(value='')))"
      ]
     },
     "metadata": {},
     "output_type": "display_data"
    },
    {
     "name": "stdout",
     "output_type": "stream",
     "text": [
      "\n",
      "\n",
      "\n",
      "--- Working on 1-to-1 correspondence-----\n",
      "max(original_labels),len(original_labels) = (2, 3)\n",
      "empty_indices % = 0.09221620219315313\n",
      " conflict_indices % = 0.0037417307749872783\n"
     ]
    },
    {
     "data": {
      "application/vnd.jupyter.widget-view+json": {
       "model_id": "f7bc486a238d4ab289207093439b53c6",
       "version_major": 2,
       "version_minor": 0
      },
      "text/plain": [
       "HBox(children=(FloatProgress(value=0.0, max=37.0), HTML(value='')))"
      ]
     },
     "metadata": {},
     "output_type": "display_data"
    },
    {
     "name": "stdout",
     "output_type": "stream",
     "text": [
      "\n",
      "AFTER face_lookup_resolved_test\n"
     ]
    },
    {
     "data": {
      "application/vnd.jupyter.widget-view+json": {
       "model_id": "c8e7c9342a094694807c9572ee8fc3dc",
       "version_major": 2,
       "version_minor": 0
      },
      "text/plain": [
       "HBox(children=(FloatProgress(value=0.0, max=3.0), HTML(value='')))"
      ]
     },
     "metadata": {},
     "output_type": "display_data"
    },
    {
     "name": "stdout",
     "output_type": "stream",
     "text": [
      "\n",
      "Deleting branches from dictionary\n",
      "MP_branches_with_stitch_point= [0]\n",
      "MP_branches_for_correspondence = [0]\n",
      "MP_leftover = [], MP_leftover_idx = []\n",
      " Finished with (4, 0) \n",
      "\n",
      "\n",
      "\n",
      "\n",
      "---- Working on (5, 0) connection-----\n",
      "sk_conn = [0, 1]\n",
      "conn = [0, 1]\n",
      "winning_vertex = [ 695093.31338795  773675.12013922 1003698.53947622]\n",
      "MP_branches_with_stitch_point = [0, 1]\n",
      "MAP_branches_with_stitch_point = [15]\n",
      "MAP_stitch_point_on_end_or_branch = True\n"
     ]
    },
    {
     "data": {
      "application/vnd.jupyter.widget-view+json": {
       "model_id": "72d5fef217cb4d6fa35bfe86616cc8d8",
       "version_major": 2,
       "version_minor": 0
      },
      "text/plain": [
       "HBox(children=(FloatProgress(value=1.0, bar_style='info', max=1.0), HTML(value='')))"
      ]
     },
     "metadata": {},
     "output_type": "display_data"
    },
    {
     "name": "stdout",
     "output_type": "stream",
     "text": [
      "\n",
      "\n",
      "\n",
      "--- Working on 1-to-1 correspondence-----\n",
      "max(original_labels),len(original_labels) = (2, 3)\n",
      "empty_indices % = 0.26410855233984687\n",
      " conflict_indices % = 0.0\n"
     ]
    },
    {
     "data": {
      "application/vnd.jupyter.widget-view+json": {
       "model_id": "c3d08f8939a84bbf94219935ff243742",
       "version_major": 2,
       "version_minor": 0
      },
      "text/plain": [
       "HBox(children=(FloatProgress(value=0.0, max=18.0), HTML(value='')))"
      ]
     },
     "metadata": {},
     "output_type": "display_data"
    },
    {
     "name": "stdout",
     "output_type": "stream",
     "text": [
      "\n",
      "AFTER face_lookup_resolved_test\n"
     ]
    },
    {
     "data": {
      "application/vnd.jupyter.widget-view+json": {
       "model_id": "8e07d6b1c0e44cccb1b8fffa72d7c742",
       "version_major": 2,
       "version_minor": 0
      },
      "text/plain": [
       "HBox(children=(FloatProgress(value=0.0, max=3.0), HTML(value='')))"
      ]
     },
     "metadata": {},
     "output_type": "display_data"
    },
    {
     "name": "stdout",
     "output_type": "stream",
     "text": [
      "\n",
      "MP_branches_with_stitch_point= [0, 1]\n",
      "MP_branches_for_correspondence = [0 1]\n",
      "MP_leftover = [], MP_leftover_idx = []\n",
      " Finished with (5, 0) \n",
      "\n",
      "\n",
      "\n",
      "\n",
      "---- Working on (6, 0) connection-----\n",
      "sk_conn = [0]\n",
      "conn = [0]\n",
      "winning_vertex = [592319.23514513 647352.35401891 897835.9063362 ]\n",
      "MP_branches_with_stitch_point = [0]\n",
      "MAP_branches_with_stitch_point = [20]\n",
      "MAP_stitch_point_on_end_or_branch = False\n"
     ]
    },
    {
     "data": {
      "application/vnd.jupyter.widget-view+json": {
       "model_id": "28ea07534cec4ff293a26f8f87f5db74",
       "version_major": 2,
       "version_minor": 0
      },
      "text/plain": [
       "HBox(children=(FloatProgress(value=1.0, bar_style='info', max=1.0), HTML(value='')))"
      ]
     },
     "metadata": {},
     "output_type": "display_data"
    },
    {
     "name": "stdout",
     "output_type": "stream",
     "text": [
      "\n",
      "\n",
      "\n",
      "--- Working on 1-to-1 correspondence-----\n",
      "max(original_labels),len(original_labels) = (1, 2)\n",
      "empty_indices % = 0.0850175575497464\n",
      " conflict_indices % = 0.0003901677721420211\n"
     ]
    },
    {
     "data": {
      "application/vnd.jupyter.widget-view+json": {
       "model_id": "cfca00db85f34d5385e980995c51660c",
       "version_major": 2,
       "version_minor": 0
      },
      "text/plain": [
       "HBox(children=(FloatProgress(value=0.0, max=57.0), HTML(value='')))"
      ]
     },
     "metadata": {},
     "output_type": "display_data"
    },
    {
     "name": "stdout",
     "output_type": "stream",
     "text": [
      "\n",
      "AFTER face_lookup_resolved_test\n"
     ]
    },
    {
     "data": {
      "application/vnd.jupyter.widget-view+json": {
       "model_id": "4850858cf2ae4b9bbfba2c93ea656d3f",
       "version_major": 2,
       "version_minor": 0
      },
      "text/plain": [
       "HBox(children=(FloatProgress(value=0.0, max=2.0), HTML(value='')))"
      ]
     },
     "metadata": {},
     "output_type": "display_data"
    },
    {
     "name": "stdout",
     "output_type": "stream",
     "text": [
      "\n"
     ]
    },
    {
     "data": {
      "application/vnd.jupyter.widget-view+json": {
       "model_id": "32a7204c673e4bf8b2af0fe82ad95d69",
       "version_major": 2,
       "version_minor": 0
      },
      "text/plain": [
       "HBox(children=(FloatProgress(value=1.0, bar_style='info', max=1.0), HTML(value='')))"
      ]
     },
     "metadata": {},
     "output_type": "display_data"
    },
    {
     "name": "stdout",
     "output_type": "stream",
     "text": [
      "\n",
      "\n",
      "\n",
      "--- Working on 1-to-1 correspondence-----\n",
      "max(original_labels),len(original_labels) = (2, 3)\n",
      "empty_indices % = 0.16117417612641896\n",
      " conflict_indices % = 0.007301095164274641\n"
     ]
    },
    {
     "data": {
      "application/vnd.jupyter.widget-view+json": {
       "model_id": "67164658e1a04fb2b2ccc19bee0f9d26",
       "version_major": 2,
       "version_minor": 0
      },
      "text/plain": [
       "HBox(children=(FloatProgress(value=0.0, max=55.0), HTML(value='')))"
      ]
     },
     "metadata": {},
     "output_type": "display_data"
    },
    {
     "name": "stdout",
     "output_type": "stream",
     "text": [
      "\n",
      "AFTER face_lookup_resolved_test\n"
     ]
    },
    {
     "data": {
      "application/vnd.jupyter.widget-view+json": {
       "model_id": "fa856f9e8bbb45749d46b208f25833b6",
       "version_major": 2,
       "version_minor": 0
      },
      "text/plain": [
       "HBox(children=(FloatProgress(value=0.0, max=3.0), HTML(value='')))"
      ]
     },
     "metadata": {},
     "output_type": "display_data"
    },
    {
     "name": "stdout",
     "output_type": "stream",
     "text": [
      "\n",
      "Deleting branches from dictionary\n",
      "MP_branches_with_stitch_point= [0]\n",
      "MP_branches_for_correspondence = [0]\n",
      "MP_leftover = [], MP_leftover_idx = []\n",
      " Finished with (6, 0) \n",
      "\n",
      "\n",
      "\n",
      "\n",
      "---- Working on (7, 0) connection-----\n",
      "sk_conn = [0, 1]\n",
      "conn = [0, 1]\n",
      "winning_vertex = [613683.46083696 720058.24290574 903402.95527664]\n",
      "MP_branches_with_stitch_point = [0, 1]\n",
      "MAP_branches_with_stitch_point = [16]\n",
      "MAP_stitch_point_on_end_or_branch = True\n"
     ]
    },
    {
     "data": {
      "application/vnd.jupyter.widget-view+json": {
       "model_id": "f626ca6b5ac241eb8dc824b16a926666",
       "version_major": 2,
       "version_minor": 0
      },
      "text/plain": [
       "HBox(children=(FloatProgress(value=1.0, bar_style='info', max=1.0), HTML(value='')))"
      ]
     },
     "metadata": {},
     "output_type": "display_data"
    },
    {
     "name": "stdout",
     "output_type": "stream",
     "text": [
      "\n",
      "\n",
      "\n",
      "--- Working on 1-to-1 correspondence-----\n",
      "max(original_labels),len(original_labels) = (2, 3)\n",
      "empty_indices % = 0.13112486348744085\n",
      " conflict_indices % = 0.011831088460138332\n"
     ]
    },
    {
     "data": {
      "application/vnd.jupyter.widget-view+json": {
       "model_id": "5c18ba305cac4a8686e572b58ac80900",
       "version_major": 2,
       "version_minor": 0
      },
      "text/plain": [
       "HBox(children=(FloatProgress(value=0.0, max=74.0), HTML(value='')))"
      ]
     },
     "metadata": {},
     "output_type": "display_data"
    },
    {
     "name": "stdout",
     "output_type": "stream",
     "text": [
      "\n",
      "AFTER face_lookup_resolved_test\n"
     ]
    },
    {
     "data": {
      "application/vnd.jupyter.widget-view+json": {
       "model_id": "044f75c48b934b0c8eff873e5af3f306",
       "version_major": 2,
       "version_minor": 0
      },
      "text/plain": [
       "HBox(children=(FloatProgress(value=0.0, max=3.0), HTML(value='')))"
      ]
     },
     "metadata": {},
     "output_type": "display_data"
    },
    {
     "name": "stdout",
     "output_type": "stream",
     "text": [
      "\n",
      "MP_branches_with_stitch_point= [0, 1]\n",
      "MP_branches_for_correspondence = [0 1]\n",
      "MP_leftover = [], MP_leftover_idx = []\n",
      " Finished with (7, 0) \n",
      "\n",
      "\n",
      "\n",
      "\n",
      "---- Working on (8, 0) connection-----\n",
      "sk_conn = [0]\n",
      "conn = [0]\n",
      "winning_vertex = [619100.61219487 795382.76395145 958418.0067642 ]\n",
      "MP_branches_with_stitch_point = [0]\n",
      "MAP_branches_with_stitch_point = [15]\n",
      "MAP_stitch_point_on_end_or_branch = False\n"
     ]
    },
    {
     "data": {
      "application/vnd.jupyter.widget-view+json": {
       "model_id": "34e94fdfa7884705a721a3cb8e550d74",
       "version_major": 2,
       "version_minor": 0
      },
      "text/plain": [
       "HBox(children=(FloatProgress(value=1.0, bar_style='info', max=1.0), HTML(value='')))"
      ]
     },
     "metadata": {},
     "output_type": "display_data"
    },
    {
     "name": "stdout",
     "output_type": "stream",
     "text": [
      "\n",
      "\n",
      "\n",
      "--- Working on 1-to-1 correspondence-----\n",
      "max(original_labels),len(original_labels) = (1, 2)\n",
      "empty_indices % = 0.25028312570781425\n",
      " conflict_indices % = 0.0014560750687591004\n"
     ]
    },
    {
     "data": {
      "application/vnd.jupyter.widget-view+json": {
       "model_id": "87039955669142979ad14da302c5410b",
       "version_major": 2,
       "version_minor": 0
      },
      "text/plain": [
       "HBox(children=(FloatProgress(value=0.0, max=46.0), HTML(value='')))"
      ]
     },
     "metadata": {},
     "output_type": "display_data"
    },
    {
     "name": "stdout",
     "output_type": "stream",
     "text": [
      "\n",
      "AFTER face_lookup_resolved_test\n"
     ]
    },
    {
     "data": {
      "application/vnd.jupyter.widget-view+json": {
       "model_id": "8145063a212540f8a19eef68039ef620",
       "version_major": 2,
       "version_minor": 0
      },
      "text/plain": [
       "HBox(children=(FloatProgress(value=0.0, max=2.0), HTML(value='')))"
      ]
     },
     "metadata": {},
     "output_type": "display_data"
    },
    {
     "name": "stdout",
     "output_type": "stream",
     "text": [
      "\n"
     ]
    },
    {
     "data": {
      "application/vnd.jupyter.widget-view+json": {
       "model_id": "3bbd98c4323145bf9b5c76bd6ad5ee22",
       "version_major": 2,
       "version_minor": 0
      },
      "text/plain": [
       "HBox(children=(FloatProgress(value=1.0, bar_style='info', max=1.0), HTML(value='')))"
      ]
     },
     "metadata": {},
     "output_type": "display_data"
    },
    {
     "name": "stdout",
     "output_type": "stream",
     "text": [
      "\n",
      "\n",
      "\n",
      "--- Working on 1-to-1 correspondence-----\n",
      "max(original_labels),len(original_labels) = (2, 3)\n",
      "empty_indices % = 0.27684436301890164\n",
      " conflict_indices % = 0.009718932928191608\n"
     ]
    },
    {
     "data": {
      "application/vnd.jupyter.widget-view+json": {
       "model_id": "af438f635f5c476bb1aaf79510e43cd8",
       "version_major": 2,
       "version_minor": 0
      },
      "text/plain": [
       "HBox(children=(FloatProgress(value=0.0, max=49.0), HTML(value='')))"
      ]
     },
     "metadata": {},
     "output_type": "display_data"
    },
    {
     "name": "stdout",
     "output_type": "stream",
     "text": [
      "\n",
      "AFTER face_lookup_resolved_test\n"
     ]
    },
    {
     "data": {
      "application/vnd.jupyter.widget-view+json": {
       "model_id": "701c7fbc332547b6a1c4f3933af578ee",
       "version_major": 2,
       "version_minor": 0
      },
      "text/plain": [
       "HBox(children=(FloatProgress(value=0.0, max=3.0), HTML(value='')))"
      ]
     },
     "metadata": {},
     "output_type": "display_data"
    },
    {
     "name": "stdout",
     "output_type": "stream",
     "text": [
      "\n",
      "Deleting branches from dictionary\n",
      "MP_branches_with_stitch_point= [0]\n",
      "MP_branches_for_correspondence = [0]\n",
      "MP_leftover = [], MP_leftover_idx = []\n",
      " Finished with (8, 0) \n",
      "\n",
      "\n",
      "\n",
      "\n",
      "---- Working on (9, 0) connection-----\n",
      "sk_conn = [0]\n",
      "conn = [0]\n",
      "winning_vertex = [592988.65290932 583162.35783225 893295.61381551]\n",
      "MP_branches_with_stitch_point = [0]\n",
      "MAP_branches_with_stitch_point = [3]\n",
      "MAP_stitch_point_on_end_or_branch = False\n"
     ]
    },
    {
     "data": {
      "application/vnd.jupyter.widget-view+json": {
       "model_id": "42791991c48f4ef4be36aefa69fb178f",
       "version_major": 2,
       "version_minor": 0
      },
      "text/plain": [
       "HBox(children=(FloatProgress(value=1.0, bar_style='info', max=1.0), HTML(value='')))"
      ]
     },
     "metadata": {},
     "output_type": "display_data"
    },
    {
     "name": "stdout",
     "output_type": "stream",
     "text": [
      "\n",
      "\n",
      "\n",
      "--- Working on 1-to-1 correspondence-----\n",
      "max(original_labels),len(original_labels) = (1, 2)\n",
      "empty_indices % = 0.09989580619953113\n",
      " conflict_indices % = 0.00030932534514196405\n"
     ]
    },
    {
     "data": {
      "application/vnd.jupyter.widget-view+json": {
       "model_id": "d49ed9656f6542338a13824fd74c7b4e",
       "version_major": 2,
       "version_minor": 0
      },
      "text/plain": [
       "HBox(children=(FloatProgress(value=0.0, max=113.0), HTML(value='')))"
      ]
     },
     "metadata": {},
     "output_type": "display_data"
    },
    {
     "name": "stdout",
     "output_type": "stream",
     "text": [
      "\n",
      "AFTER face_lookup_resolved_test\n"
     ]
    },
    {
     "data": {
      "application/vnd.jupyter.widget-view+json": {
       "model_id": "cf3eb7e202d84355940ed0f0eec7a718",
       "version_major": 2,
       "version_minor": 0
      },
      "text/plain": [
       "HBox(children=(FloatProgress(value=0.0, max=2.0), HTML(value='')))"
      ]
     },
     "metadata": {},
     "output_type": "display_data"
    },
    {
     "name": "stdout",
     "output_type": "stream",
     "text": [
      "\n"
     ]
    },
    {
     "data": {
      "application/vnd.jupyter.widget-view+json": {
       "model_id": "0799c21890b648d593fae7b7066d551f",
       "version_major": 2,
       "version_minor": 0
      },
      "text/plain": [
       "HBox(children=(FloatProgress(value=1.0, bar_style='info', max=1.0), HTML(value='')))"
      ]
     },
     "metadata": {},
     "output_type": "display_data"
    },
    {
     "name": "stdout",
     "output_type": "stream",
     "text": [
      "\n",
      "\n",
      "\n",
      "--- Working on 1-to-1 correspondence-----\n",
      "max(original_labels),len(original_labels) = (2, 3)\n",
      "empty_indices % = 0.11049168464641321\n",
      " conflict_indices % = 0.002881226464400102\n"
     ]
    },
    {
     "data": {
      "application/vnd.jupyter.widget-view+json": {
       "model_id": "eb49a3f250d24c6e8a712391d830586c",
       "version_major": 2,
       "version_minor": 0
      },
      "text/plain": [
       "HBox(children=(FloatProgress(value=0.0, max=34.0), HTML(value='')))"
      ]
     },
     "metadata": {},
     "output_type": "display_data"
    },
    {
     "name": "stdout",
     "output_type": "stream",
     "text": [
      "\n",
      "AFTER face_lookup_resolved_test\n"
     ]
    },
    {
     "data": {
      "application/vnd.jupyter.widget-view+json": {
       "model_id": "c4a408eba5764749b5e41903e579c186",
       "version_major": 2,
       "version_minor": 0
      },
      "text/plain": [
       "HBox(children=(FloatProgress(value=0.0, max=3.0), HTML(value='')))"
      ]
     },
     "metadata": {},
     "output_type": "display_data"
    },
    {
     "name": "stdout",
     "output_type": "stream",
     "text": [
      "\n",
      "Deleting branches from dictionary\n",
      "MP_branches_with_stitch_point= [0]\n",
      "MP_branches_for_correspondence = [0]\n",
      "MP_leftover = [], MP_leftover_idx = []\n",
      " Finished with (9, 0) \n",
      "\n",
      "\n",
      "\n",
      "\n",
      "---- Working on (10, 0) connection-----\n",
      "sk_conn = [0]\n",
      "conn = [0]\n",
      "winning_vertex = [592322.49174089 401754.95694618 907327.98191384]\n",
      "MP_branches_with_stitch_point = [0]\n",
      "MAP_branches_with_stitch_point = [5]\n",
      "MAP_stitch_point_on_end_or_branch = False\n"
     ]
    },
    {
     "data": {
      "application/vnd.jupyter.widget-view+json": {
       "model_id": "7caa76b8a8c543d8b8d3c097912af674",
       "version_major": 2,
       "version_minor": 0
      },
      "text/plain": [
       "HBox(children=(FloatProgress(value=1.0, bar_style='info', max=1.0), HTML(value='')))"
      ]
     },
     "metadata": {},
     "output_type": "display_data"
    },
    {
     "name": "stdout",
     "output_type": "stream",
     "text": [
      "\n",
      "\n",
      "\n",
      "--- Working on 1-to-1 correspondence-----\n",
      "max(original_labels),len(original_labels) = (1, 2)\n",
      "empty_indices % = 0.3397136513283822\n",
      " conflict_indices % = 0.0025266059260393536\n"
     ]
    },
    {
     "data": {
      "application/vnd.jupyter.widget-view+json": {
       "model_id": "083a494ba7d84783b061dc4c99a73a26",
       "version_major": 2,
       "version_minor": 0
      },
      "text/plain": [
       "HBox(children=(FloatProgress(value=0.0, max=21.0), HTML(value='')))"
      ]
     },
     "metadata": {},
     "output_type": "display_data"
    },
    {
     "name": "stdout",
     "output_type": "stream",
     "text": [
      "\n",
      "AFTER face_lookup_resolved_test\n"
     ]
    },
    {
     "data": {
      "application/vnd.jupyter.widget-view+json": {
       "model_id": "f3ce90f5cbb14f33b6a5cd1dc4c2f16f",
       "version_major": 2,
       "version_minor": 0
      },
      "text/plain": [
       "HBox(children=(FloatProgress(value=0.0, max=2.0), HTML(value='')))"
      ]
     },
     "metadata": {},
     "output_type": "display_data"
    },
    {
     "name": "stdout",
     "output_type": "stream",
     "text": [
      "\n"
     ]
    },
    {
     "data": {
      "application/vnd.jupyter.widget-view+json": {
       "model_id": "65164ae2d4c847f5b3a8813a7440afad",
       "version_major": 2,
       "version_minor": 0
      },
      "text/plain": [
       "HBox(children=(FloatProgress(value=1.0, bar_style='info', max=1.0), HTML(value='')))"
      ]
     },
     "metadata": {},
     "output_type": "display_data"
    },
    {
     "name": "stdout",
     "output_type": "stream",
     "text": [
      "\n",
      "\n",
      "\n",
      "--- Working on 1-to-1 correspondence-----\n",
      "max(original_labels),len(original_labels) = (2, 3)\n",
      "empty_indices % = 0.25511106487020757\n",
      " conflict_indices % = 0.008063257556052646\n"
     ]
    },
    {
     "data": {
      "application/vnd.jupyter.widget-view+json": {
       "model_id": "60b884e128ec441a8b6507812834d646",
       "version_major": 2,
       "version_minor": 0
      },
      "text/plain": [
       "HBox(children=(FloatProgress(value=0.0, max=9.0), HTML(value='')))"
      ]
     },
     "metadata": {},
     "output_type": "display_data"
    },
    {
     "name": "stdout",
     "output_type": "stream",
     "text": [
      "\n",
      "AFTER face_lookup_resolved_test\n"
     ]
    },
    {
     "data": {
      "application/vnd.jupyter.widget-view+json": {
       "model_id": "470546b976654c4d82b9891107f49209",
       "version_major": 2,
       "version_minor": 0
      },
      "text/plain": [
       "HBox(children=(FloatProgress(value=0.0, max=3.0), HTML(value='')))"
      ]
     },
     "metadata": {},
     "output_type": "display_data"
    },
    {
     "name": "stdout",
     "output_type": "stream",
     "text": [
      "\n",
      "Deleting branches from dictionary\n",
      "MP_branches_with_stitch_point= [0]\n",
      "MP_branches_for_correspondence = [0]\n",
      "MP_leftover = [], MP_leftover_idx = []\n",
      " Finished with (10, 0) \n",
      "\n",
      "\n",
      "\n",
      "Time for decomp of Limb = 412.2134048938751\n",
      "Number of matching vertices = 69\n",
      "Only one endpoint after filtering away the endpoints that are not on the skeleton\n",
      "Using Distance measure skeletal_distance\n",
      "endpoints_must_keep = [[602752. 807552. 924836.]]\n",
      "Number of end_nodes BEFORE filtering = 52\n",
      "all_single_nodes_to_eliminate = [19]\n",
      "no small end nodes to get rid of so returning whole skeleton\n",
      "Removed 0 skeletal branches\n"
     ]
    },
    {
     "data": {
      "application/vnd.jupyter.widget-view+json": {
       "model_id": "b4a93fb820fa41beaf3c0abae2380e95",
       "version_major": 2,
       "version_minor": 0
      },
      "text/plain": [
       "HBox(children=(FloatProgress(value=0.0, max=94.0), HTML(value='')))"
      ]
     },
     "metadata": {},
     "output_type": "display_data"
    },
    {
     "name": "stdout",
     "output_type": "stream",
     "text": [
      "\n",
      "588320 588321\n",
      "For marked faces: None\n",
      "empty_indices % = 0.0\n",
      " conflict_indices % = 0.0\n"
     ]
    },
    {
     "data": {
      "application/vnd.jupyter.widget-view+json": {
       "model_id": "84dfe7d4cde94ff9ad43a0c3604fc906",
       "version_major": 2,
       "version_minor": 0
      },
      "text/plain": [
       "HBox(children=(FloatProgress(value=1.0, bar_style='info', max=1.0), HTML(value='')))"
      ]
     },
     "metadata": {},
     "output_type": "display_data"
    },
    {
     "name": "stdout",
     "output_type": "stream",
     "text": [
      "\n",
      "AFTER face_lookup_resolved_test\n"
     ]
    },
    {
     "data": {
      "application/vnd.jupyter.widget-view+json": {
       "model_id": "0b4a3f380f674ae29a12f9a814bd820e",
       "version_major": 2,
       "version_minor": 0
      },
      "text/plain": [
       "HBox(children=(FloatProgress(value=0.0, max=94.0), HTML(value='')))"
      ]
     },
     "metadata": {},
     "output_type": "display_data"
    },
    {
     "name": "stderr",
     "output_type": "stream",
     "text": [
      "\r",
      "  0%|          | 0/1 [00:00<?, ?it/s]"
     ]
    },
    {
     "name": "stdout",
     "output_type": "stream",
     "text": [
      "\n",
      "\n",
      "\n",
      "----- Working on Proper Limb # 1 ---------\n",
      "meshparty_segment_size = 100\n",
      "root_curr = [602385. 827085. 925890.]\n",
      "Time for preparing soma vertices and root: 0.00026607513427734375\n",
      "invalidation_d = 12000\n",
      "cc_vertex_thresh = 10\n"
     ]
    },
    {
     "data": {
      "application/vnd.jupyter.widget-view+json": {
       "model_id": "3b8df5b839834db3b0eeef4e8c06bea8",
       "version_major": 2,
       "version_minor": 0
      },
      "text/plain": [
       "HBox(children=(FloatProgress(value=0.0, max=90059.0), HTML(value='')))"
      ]
     },
     "metadata": {},
     "output_type": "display_data"
    },
    {
     "name": "stderr",
     "output_type": "stream",
     "text": [
      "100%|██████████| 1/1 [00:02<00:00,  2.24s/it]"
     ]
    },
    {
     "name": "stdout",
     "output_type": "stream",
     "text": [
      "\n"
     ]
    },
    {
     "name": "stderr",
     "output_type": "stream",
     "text": [
      "\n"
     ]
    },
    {
     "name": "stdout",
     "output_type": "stream",
     "text": [
      "meshparty_segment_size = 100\n",
      "Time for 1st pass MP skeletonization: 3.073678731918335\n",
      "branches_touching_root = [8]\n",
      "length of Graph = 20408\n",
      "Working on path [7434. 7496. 7543. 7575.]\n",
      "path_degrees = [3, 2, 2, 3]\n",
      "Working on path [7782. 7788. 7796. 7801. 7807.]\n",
      "path_degrees = [3, 2, 2, 2, 3]\n",
      "Working on path [18655. 18656. 18659. 18661.]\n",
      "path_degrees = [3, 2, 2, 3]\n",
      "After combining close endpoints max(kept_branches_idx) = 51, len(kept_branches_idx) = 49\n",
      "empty_indices % = 0.0\n",
      " conflict_indices % = 0.008098045991104969\n"
     ]
    },
    {
     "data": {
      "application/vnd.jupyter.widget-view+json": {
       "model_id": "ea095ee4bcc948e2bb359c9a846772bf",
       "version_major": 2,
       "version_minor": 0
      },
      "text/plain": [
       "HBox(children=(FloatProgress(value=0.0, max=22.0), HTML(value='')))"
      ]
     },
     "metadata": {},
     "output_type": "display_data"
    },
    {
     "name": "stdout",
     "output_type": "stream",
     "text": [
      "\n",
      "AFTER face_lookup_resolved_test\n"
     ]
    },
    {
     "data": {
      "application/vnd.jupyter.widget-view+json": {
       "model_id": "6f6a804b9abb46fb9f7194677328f918",
       "version_major": 2,
       "version_minor": 0
      },
      "text/plain": [
       "HBox(children=(FloatProgress(value=0.0, max=49.0), HTML(value='')))"
      ]
     },
     "metadata": {},
     "output_type": "display_data"
    },
    {
     "name": "stdout",
     "output_type": "stream",
     "text": [
      "\n",
      "Decomposing first pass: 12.682257413864136\n",
      "Attempting to use MeshAfterParty Skeletonization and Mesh Correspondence\n",
      "Another print\n",
      "Found len(mesh_large_idx) MAP candidates: [3866, 5458, 21836]\n",
      "mesh_large_connectivity: 0.011780261993408203\n",
      "Finding MAP candidates connected components: 0.000102996826171875\n",
      "len(filtered_pieces) = 2\n",
      "skeleton_connectivity_MP : 0.8315918445587158\n",
      "Grouping MP Sublimbs by Graph: 0.08358073234558105\n",
      "Divinding into MP and MAP pieces: 9.5367431640625e-07\n",
      "--- Working on MAP piece 0---\n",
      "MAP Filtering Soma Pieces: 0.0009722709655761719\n",
      "inside skeletonize_connected_branch and use_surface_after_CGAL=False, surface_reconstruction_size=1000\n",
      "     Starting Screened Poisson\n",
      "xvfb-run -n 4130 -s \"-screen 0 800x600x24\" meshlabserver $@  -i /notebooks/Auto_Proofreading/Preprocessing_Pipeline/temp/None.off -o /notebooks/Auto_Proofreading/Preprocessing_Pipeline/temp/None_poisson.off -s /notebooks/Auto_Proofreading/Preprocessing_Pipeline/temp/poisson_505106.mls\n",
      "removed temporary input file: /notebooks/Auto_Proofreading/Preprocessing_Pipeline/temp/None.off\n",
      "removed temporary output file: /notebooks/Auto_Proofreading/Preprocessing_Pipeline/temp/None_poisson.off\n",
      "Using the close holes feature\n",
      "Mesh was manifold\n",
      "No holes needed to fill and mesh was manifold so returning original mesh\n",
      "-----Time for Screened Poisson= 6.059042930603027\n",
      "mesh_pieces = [<trimesh.Trimesh(vertices.shape=(11689, 3), faces.shape=(23374, 3))>]\n",
      "     Starting Calcification (Changed back where stitches large poissons)\n",
      "min_edge_length = 75\n"
     ]
    },
    {
     "data": {
      "application/vnd.jupyter.widget-view+json": {
       "model_id": "f69da969109c494993c937de451c4bc2",
       "version_major": 2,
       "version_minor": 0
      },
      "text/plain": [
       "HBox(children=(FloatProgress(value=1.0, bar_style='info', max=1.0), HTML(value='')))"
      ]
     },
     "metadata": {},
     "output_type": "display_data"
    },
    {
     "name": "stdout",
     "output_type": "stream",
     "text": [
      "\n",
      "No skeletons to stack so returning empty list\n",
      "len_subgraphs AT BEGINNING of the loop\n"
     ]
    },
    {
     "data": {
      "application/vnd.jupyter.widget-view+json": {
       "model_id": "9aa14e4ef7154dc5b75e49a3bc2566f4",
       "version_major": 2,
       "version_minor": 0
      },
      "text/plain": [
       "HBox(children=(FloatProgress(value=0.0, max=1.0), HTML(value='')))"
      ]
     },
     "metadata": {},
     "output_type": "display_data"
    },
    {
     "name": "stdout",
     "output_type": "stream",
     "text": [
      "all graph is one component!\n",
      "\n",
      "Total time for skeleton stitching = 0.02727794647216797\n",
      "The process was using a temp folder\n",
      "Checking connected components after skeletonize_connected_branch\n",
      "    Total time for skeletonizing branch: 6.793422222137451\n",
      "Checking connected components after removing cycles\n",
      "    Total time for Fixing Skeleton Soma Endpoint Extension : 0.009155750274658203\n",
      "filter_end_node_length = 4000\n",
      "Using Distance measure skeletal_distance\n",
      "no small end nodes to get rid of so returning whole skeleton\n",
      "Checking connected components after clean_skeleton\n",
      "after DISTANCE cleaning limb size of skeleton = (209, 2, 3)\n",
      "********COMBINING CLOSE SKELETON NODES WITHIN 700 DISTANCE**********\n",
      "Found 0 valid paths to replace\n",
      "valid_paths = []\n",
      "valid_path_lengths = []\n",
      "No valid paths found so just returning the original\n",
      "Inside MAP decomposition and curr_limb_endpoints_must_keep was None\n",
      "skeletonize_and_clean_connected_branch_CGAL: 7.06394624710083\n",
      "Working on limb correspondence for #0 MAP piece\n",
      "xvfb-run -n 4130 -s \"-screen 0 800x600x24\" meshlabserver $@  -i /notebooks/Auto_Proofreading/Preprocessing_Pipeline/temp/neuron_87585.off -o /notebooks/Auto_Proofreading/Preprocessing_Pipeline/temp/neuron_87585_remove_interior.off -s /notebooks/Auto_Proofreading/Preprocessing_Pipeline/temp/remove_interior_625985.mls\n",
      "removed temporary input file: /notebooks/Auto_Proofreading/Preprocessing_Pipeline/temp/neuron_87585.off\n",
      "removed temporary output file: /notebooks/Auto_Proofreading/Preprocessing_Pipeline/temp/neuron_87585_remove_interior.off\n",
      "/notebooks/Auto_Proofreading/Preprocessing_Pipeline/temp/remove_interior_625985.mls is being deleted....\n",
      "THERE WERE NO MESH PIECES GREATER THAN THE significance_threshold\n",
      "No significant (100) interior meshes present\n",
      "largest is 4\n"
     ]
    },
    {
     "data": {
      "application/vnd.jupyter.widget-view+json": {
       "model_id": "6577d5f8cff646d0bf12a9aa83571eac",
       "version_major": 2,
       "version_minor": 0
      },
      "text/plain": [
       "HBox(children=(FloatProgress(value=1.0, bar_style='info', max=1.0), HTML(value='')))"
      ]
     },
     "metadata": {},
     "output_type": "display_data"
    },
    {
     "name": "stdout",
     "output_type": "stream",
     "text": [
      "\n",
      "Total time for decomposition = 1.3735320568084717\n",
      "mesh_correspondence_first_pass: 1.3736021518707275\n",
      "Limb decomposed into 1 branches\n",
      "divided_skeleton_graph_recovered = (209, 2, 3) and \n",
      "current_mesh_data[0]['branch_skeletons_cleaned'].shape = (209, 2, 3)\n",
      "\n",
      "Number of connected components in deocmposed recovered graph = 1\n",
      "Number of connected components in cleaned skeleton graph= 1\n",
      "The downsampled branches number of connected components = 1\n",
      "Empty submeshes = []\n",
      "\n",
      "\n",
      "--- Working on 1-to-1 correspondence-----\n",
      "max(original_labels),len(original_labels) = (0, 1)\n",
      "empty_indices % = 0.0173305742369374\n",
      " conflict_indices % = 0.0\n"
     ]
    },
    {
     "data": {
      "application/vnd.jupyter.widget-view+json": {
       "model_id": "d52f0da6201440b2b72db8420c911216",
       "version_major": 2,
       "version_minor": 0
      },
      "text/plain": [
       "HBox(children=(FloatProgress(value=0.0, max=5.0), HTML(value='')))"
      ]
     },
     "metadata": {},
     "output_type": "display_data"
    },
    {
     "name": "stdout",
     "output_type": "stream",
     "text": [
      "\n",
      "AFTER face_lookup_resolved_test\n"
     ]
    },
    {
     "data": {
      "application/vnd.jupyter.widget-view+json": {
       "model_id": "731ae14f652248d799ddb9d18c40463d",
       "version_major": 2,
       "version_minor": 0
      },
      "text/plain": [
       "HBox(children=(FloatProgress(value=0.0, max=1.0), HTML(value='')))"
      ]
     },
     "metadata": {},
     "output_type": "display_data"
    },
    {
     "name": "stdout",
     "output_type": "stream",
     "text": [
      "\n",
      "Total time for MAP sublimb #0 mesh processing = 8.62415361404419\n",
      "correspondence_1_to_1: 0.18573570251464844\n",
      "--- Working on MAP piece 1---\n",
      "MAP Filtering Soma Pieces: 0.0029900074005126953\n",
      "inside skeletonize_connected_branch and use_surface_after_CGAL=False, surface_reconstruction_size=1000\n",
      "     Starting Screened Poisson\n",
      "xvfb-run -n 4130 -s \"-screen 0 800x600x24\" meshlabserver $@  -i /notebooks/Auto_Proofreading/Preprocessing_Pipeline/temp/None.off -o /notebooks/Auto_Proofreading/Preprocessing_Pipeline/temp/None_poisson.off -s /notebooks/Auto_Proofreading/Preprocessing_Pipeline/temp/poisson_289582.mls\n",
      "removed temporary input file: /notebooks/Auto_Proofreading/Preprocessing_Pipeline/temp/None.off\n",
      "removed temporary output file: /notebooks/Auto_Proofreading/Preprocessing_Pipeline/temp/None_poisson.off\n",
      "Using the close holes feature\n",
      "Mesh was manifold\n",
      "No holes needed to fill and mesh was manifold so returning original mesh\n",
      "-----Time for Screened Poisson= 11.47861933708191\n",
      "mesh_pieces = [<trimesh.Trimesh(vertices.shape=(37852, 3), faces.shape=(75700, 3))>, <trimesh.Trimesh(vertices.shape=(10636, 3), faces.shape=(21268, 3))>]\n",
      "     Starting Calcification (Changed back where stitches large poissons)\n",
      "min_edge_length = 75\n",
      "min_edge_length = 75\n"
     ]
    },
    {
     "data": {
      "application/vnd.jupyter.widget-view+json": {
       "model_id": "a4bde57520f643aeaead80020ff6a63f",
       "version_major": 2,
       "version_minor": 0
      },
      "text/plain": [
       "HBox(children=(FloatProgress(value=1.0, bar_style='info', max=1.0), HTML(value='')))"
      ]
     },
     "metadata": {},
     "output_type": "display_data"
    },
    {
     "name": "stdout",
     "output_type": "stream",
     "text": [
      "\n",
      "No skeletons to stack so returning empty list\n",
      "len_subgraphs AT BEGINNING of the loop\n"
     ]
    },
    {
     "data": {
      "application/vnd.jupyter.widget-view+json": {
       "model_id": "73ac53fc01d14a5997ccb34ea1deff04",
       "version_major": 2,
       "version_minor": 0
      },
      "text/plain": [
       "HBox(children=(FloatProgress(value=0.0, max=2.0), HTML(value='')))"
      ]
     },
     "metadata": {},
     "output_type": "display_data"
    },
    {
     "name": "stdout",
     "output_type": "stream",
     "text": [
      "all graph is one component!\n",
      "\n",
      "Total time for skeleton stitching = 0.07867193222045898\n",
      "The process was using a temp folder\n",
      "Checking connected components after skeletonize_connected_branch\n",
      "    Total time for skeletonizing branch: 15.296190738677979\n",
      "Checking connected components after removing cycles\n",
      "    Total time for Fixing Skeleton Soma Endpoint Extension : 0.0942850112915039\n",
      "filter_end_node_length = 4000\n",
      "Using Distance measure skeletal_distance\n"
     ]
    },
    {
     "data": {
      "application/vnd.jupyter.widget-view+json": {
       "model_id": "dba5ca41f99e4a2a89c5da93836e8e2b",
       "version_major": 2,
       "version_minor": 0
      },
      "text/plain": [
       "HBox(children=(FloatProgress(value=0.0, max=5.0), HTML(value='')))"
      ]
     },
     "metadata": {},
     "output_type": "display_data"
    },
    {
     "name": "stdout",
     "output_type": "stream",
     "text": [
      "\n",
      "Checking connected components after clean_skeleton\n",
      "after DISTANCE cleaning limb size of skeleton = (1704, 2, 3)\n",
      "********COMBINING CLOSE SKELETON NODES WITHIN 700 DISTANCE**********\n",
      "Found 0 valid paths to replace\n",
      "valid_paths = []\n",
      "valid_path_lengths = []\n",
      "No valid paths found so just returning the original\n",
      "Inside MAP decomposition and curr_limb_endpoints_must_keep was None\n",
      "skeletonize_and_clean_connected_branch_CGAL: 19.49049472808838\n",
      "Working on limb correspondence for #1 MAP piece\n",
      "xvfb-run -n 4130 -s \"-screen 0 800x600x24\" meshlabserver $@  -i /notebooks/Auto_Proofreading/Preprocessing_Pipeline/temp/neuron_86154.off -o /notebooks/Auto_Proofreading/Preprocessing_Pipeline/temp/neuron_86154_remove_interior.off -s /notebooks/Auto_Proofreading/Preprocessing_Pipeline/temp/remove_interior_205665.mls\n",
      "removed temporary input file: /notebooks/Auto_Proofreading/Preprocessing_Pipeline/temp/neuron_86154.off\n",
      "removed temporary output file: /notebooks/Auto_Proofreading/Preprocessing_Pipeline/temp/neuron_86154_remove_interior.off\n",
      "/notebooks/Auto_Proofreading/Preprocessing_Pipeline/temp/remove_interior_205665.mls is being deleted....\n",
      "THERE WERE NO MESH PIECES GREATER THAN THE significance_threshold\n",
      "No significant (100) interior meshes present\n",
      "largest is 29\n"
     ]
    },
    {
     "data": {
      "application/vnd.jupyter.widget-view+json": {
       "model_id": "536d52d26a8a4c3cb4d1610c8a42e8ca",
       "version_major": 2,
       "version_minor": 0
      },
      "text/plain": [
       "HBox(children=(FloatProgress(value=1.0, bar_style='info', max=1.0), HTML(value='')))"
      ]
     },
     "metadata": {},
     "output_type": "display_data"
    },
    {
     "name": "stdout",
     "output_type": "stream",
     "text": [
      "\n",
      "Total time for decomposition = 8.193649053573608\n",
      "mesh_correspondence_first_pass: 8.19368290901184\n",
      "Limb decomposed into 1 branches\n",
      "divided_skeleton_graph_recovered = (1704, 2, 3) and \n",
      "current_mesh_data[0]['branch_skeletons_cleaned'].shape = (1704, 2, 3)\n",
      "\n",
      "Number of connected components in deocmposed recovered graph = 1\n",
      "Number of connected components in cleaned skeleton graph= 1\n",
      "The downsampled branches number of connected components = 1\n",
      "Empty submeshes = []\n",
      "\n",
      "\n",
      "--- Working on 1-to-1 correspondence-----\n",
      "max(original_labels),len(original_labels) = (0, 1)\n",
      "empty_indices % = 0.06561881732248846\n",
      " conflict_indices % = 0.0\n"
     ]
    },
    {
     "data": {
      "application/vnd.jupyter.widget-view+json": {
       "model_id": "4f085aa6775e47a09d436bb6841c6357",
       "version_major": 2,
       "version_minor": 0
      },
      "text/plain": [
       "HBox(children=(FloatProgress(value=0.0, max=17.0), HTML(value='')))"
      ]
     },
     "metadata": {},
     "output_type": "display_data"
    },
    {
     "name": "stdout",
     "output_type": "stream",
     "text": [
      "\n",
      "AFTER face_lookup_resolved_test\n"
     ]
    },
    {
     "data": {
      "application/vnd.jupyter.widget-view+json": {
       "model_id": "2b6ce715e76646df846577fb14615b4b",
       "version_major": 2,
       "version_minor": 0
      },
      "text/plain": [
       "HBox(children=(FloatProgress(value=0.0, max=1.0), HTML(value='')))"
      ]
     },
     "metadata": {},
     "output_type": "display_data"
    },
    {
     "name": "stdout",
     "output_type": "stream",
     "text": [
      "\n",
      "Total time for MAP sublimb #1 mesh processing = 28.759309768676758\n",
      "correspondence_1_to_1: 1.0721282958984375\n",
      "Total time for MAP sublimb processing 37.383768796920776\n",
      "---- Working on MP Decomposition #0 ----\n",
      "Computing the current soma touching verts dict manually\n",
      "MP filtering soma verts: 0.012500762939453125\n",
      "Do Not Need to Fix MP Decomposition 0 so just continuing\n",
      "---- Working on MP Decomposition #1 ----\n",
      "Computing the current soma touching verts dict manually\n",
      "MP filtering soma verts: 0.003586292266845703\n",
      "Fixing Possible Soma Extension Branch for Sublimb 1\n",
      "Total time for mesh KDTree = 0.09050369262695312\n",
      "sbv[0].reshape(-1,3) = [[602385. 827085. 925890.]]\n",
      "closest_sk_pt_coord BEFORE = [603361.1472319  827358.94085163 925854.33348441]\n",
      "current_skeleton.shape = (836, 2, 3)\n",
      "node_for_stitch = 0: [603361.1472319  827358.94085163 925854.33348441]\n",
      "node_for_stitch AFTER = 0: [603361.1472319  827358.94085163 925854.33348441]\n",
      "possible_node_loc = [  0 366]\n",
      "possible_node_loc AFTER = [  0 366]\n",
      "curr_shortest_path = [0]\n",
      "Current stitch point was a branch or endpoint\n",
      "change_status for create soma extending pieces = False\n",
      "closest_sk_pt_coord AFTER = [603361.1472319  827358.94085163 925854.33348441]\n",
      "skipping soma 0 because closest skeleton node was already end node\n",
      "endpoints_must_keep = {0: array([[603361.1472319 , 827358.94085163, 925854.33348441]])}\n",
      "match_sk_branches = [3]\n",
      "The new branch info was none so skipping \n",
      "\n",
      "No soma extending branch was added for this sublimb even though it had a soma border (means they already existed)\n",
      "MP (because soma touching verts) soma extension add: 0.21879243850708008\n",
      "---- Working on MP Decomposition #2 ----\n",
      "Computing the current soma touching verts dict manually\n",
      "MP filtering soma verts: 0.0021889209747314453\n",
      "Do Not Need to Fix MP Decomposition 2 so just continuing\n",
      "Successful mesh connectivity with type edges\n",
      "\n",
      "---- Working on (0, 0) connection-----\n",
      "sk_conn = [5, 24]\n",
      "conn = [5, 24]\n",
      "winning_vertex = [612627.84497421 931802.8000052  955446.55137758]\n",
      "MP_branches_with_stitch_point = [5, 24]\n",
      "MAP_branches_with_stitch_point = [0]\n",
      "MAP_stitch_point_on_end_or_branch = True\n"
     ]
    },
    {
     "data": {
      "application/vnd.jupyter.widget-view+json": {
       "model_id": "9eb4cc5cf72d4bb793377eb5f7008996",
       "version_major": 2,
       "version_minor": 0
      },
      "text/plain": [
       "HBox(children=(FloatProgress(value=1.0, bar_style='info', max=1.0), HTML(value='')))"
      ]
     },
     "metadata": {},
     "output_type": "display_data"
    },
    {
     "name": "stdout",
     "output_type": "stream",
     "text": [
      "\n",
      "\n",
      "\n",
      "--- Working on 1-to-1 correspondence-----\n",
      "max(original_labels),len(original_labels) = (2, 3)\n",
      "empty_indices % = 0.19388784777281245\n",
      " conflict_indices % = 0.00014415453366008361\n"
     ]
    },
    {
     "data": {
      "application/vnd.jupyter.widget-view+json": {
       "model_id": "f619a15de60f4215a386f598c39db5d6",
       "version_major": 2,
       "version_minor": 0
      },
      "text/plain": [
       "HBox(children=(FloatProgress(value=0.0, max=13.0), HTML(value='')))"
      ]
     },
     "metadata": {},
     "output_type": "display_data"
    },
    {
     "name": "stdout",
     "output_type": "stream",
     "text": [
      "\n",
      "AFTER face_lookup_resolved_test\n"
     ]
    },
    {
     "data": {
      "application/vnd.jupyter.widget-view+json": {
       "model_id": "cc9f0b1b1a3b4622bedb604ba4e5fcc8",
       "version_major": 2,
       "version_minor": 0
      },
      "text/plain": [
       "HBox(children=(FloatProgress(value=0.0, max=3.0), HTML(value='')))"
      ]
     },
     "metadata": {},
     "output_type": "display_data"
    },
    {
     "name": "stdout",
     "output_type": "stream",
     "text": [
      "\n",
      "MP_branches_with_stitch_point= [5, 24]\n",
      "MP_branches_for_correspondence = [ 5 24]\n",
      "MP_leftover = [], MP_leftover_idx = []\n",
      " Finished with (0, 0) \n",
      "\n",
      "\n",
      "\n",
      "\n",
      "---- Working on (0, 1) connection-----\n",
      "sk_conn = [4, 5]\n",
      "conn = [4, 5]\n",
      "winning_vertex = [615038.58474086 939230.06096386 956737.61579404]\n",
      "MP_branches_with_stitch_point = [4, 5]\n",
      "MAP_branches_with_stitch_point = [0]\n",
      "MAP_stitch_point_on_end_or_branch = False\n"
     ]
    },
    {
     "data": {
      "application/vnd.jupyter.widget-view+json": {
       "model_id": "ddf71508f3f34329ba06857a9e763478",
       "version_major": 2,
       "version_minor": 0
      },
      "text/plain": [
       "HBox(children=(FloatProgress(value=1.0, bar_style='info', max=1.0), HTML(value='')))"
      ]
     },
     "metadata": {},
     "output_type": "display_data"
    },
    {
     "name": "stdout",
     "output_type": "stream",
     "text": [
      "\n",
      "\n",
      "\n",
      "--- Working on 1-to-1 correspondence-----\n",
      "max(original_labels),len(original_labels) = (1, 2)\n",
      "empty_indices % = 0.05810800908624606\n",
      " conflict_indices % = 0.0005129332454019198\n"
     ]
    },
    {
     "data": {
      "application/vnd.jupyter.widget-view+json": {
       "model_id": "300697ea06764f14aabaf4b92dabe6b6",
       "version_major": 2,
       "version_minor": 0
      },
      "text/plain": [
       "HBox(children=(FloatProgress(value=0.0, max=14.0), HTML(value='')))"
      ]
     },
     "metadata": {},
     "output_type": "display_data"
    },
    {
     "name": "stdout",
     "output_type": "stream",
     "text": [
      "\n",
      "AFTER face_lookup_resolved_test\n"
     ]
    },
    {
     "data": {
      "application/vnd.jupyter.widget-view+json": {
       "model_id": "daedea22172748f48ff7e5db223e1585",
       "version_major": 2,
       "version_minor": 0
      },
      "text/plain": [
       "HBox(children=(FloatProgress(value=0.0, max=2.0), HTML(value='')))"
      ]
     },
     "metadata": {},
     "output_type": "display_data"
    },
    {
     "name": "stdout",
     "output_type": "stream",
     "text": [
      "\n"
     ]
    },
    {
     "data": {
      "application/vnd.jupyter.widget-view+json": {
       "model_id": "9e9496ac535d49f08b8003b1a5f4a2f1",
       "version_major": 2,
       "version_minor": 0
      },
      "text/plain": [
       "HBox(children=(FloatProgress(value=1.0, bar_style='info', max=1.0), HTML(value='')))"
      ]
     },
     "metadata": {},
     "output_type": "display_data"
    },
    {
     "name": "stdout",
     "output_type": "stream",
     "text": [
      "\n",
      "\n",
      "\n",
      "--- Working on 1-to-1 correspondence-----\n",
      "max(original_labels),len(original_labels) = (3, 4)\n",
      "empty_indices % = 0.10014463806047248\n",
      " conflict_indices % = 0.0006887526689165921\n"
     ]
    },
    {
     "data": {
      "application/vnd.jupyter.widget-view+json": {
       "model_id": "e4b4151fc04841be84fd662e581b7b36",
       "version_major": 2,
       "version_minor": 0
      },
      "text/plain": [
       "HBox(children=(FloatProgress(value=0.0, max=9.0), HTML(value='')))"
      ]
     },
     "metadata": {},
     "output_type": "display_data"
    },
    {
     "name": "stdout",
     "output_type": "stream",
     "text": [
      "\n",
      "AFTER face_lookup_resolved_test\n"
     ]
    },
    {
     "data": {
      "application/vnd.jupyter.widget-view+json": {
       "model_id": "5463af9a52f24e369fc6e4e3dc8c3a12",
       "version_major": 2,
       "version_minor": 0
      },
      "text/plain": [
       "HBox(children=(FloatProgress(value=0.0, max=4.0), HTML(value='')))"
      ]
     },
     "metadata": {},
     "output_type": "display_data"
    },
    {
     "name": "stdout",
     "output_type": "stream",
     "text": [
      "\n",
      "Deleting branches from dictionary\n",
      "MP_branches_with_stitch_point= [4, 5]\n",
      "MP_branches_for_correspondence = [4 5]\n",
      "MP_leftover = [], MP_leftover_idx = []\n",
      " Finished with (0, 1) \n",
      "\n",
      "\n",
      "\n",
      "\n",
      "---- Working on (1, 0) connection-----\n",
      "sk_conn = [1, 3]\n",
      "conn = [1, 3]\n",
      "winning_vertex = [614304.10149557 905017.35661518 940679.75767636]\n",
      "MP_branches_with_stitch_point = [1, 3]\n",
      "MAP_branches_with_stitch_point = [0]\n",
      "MAP_stitch_point_on_end_or_branch = True\n"
     ]
    },
    {
     "data": {
      "application/vnd.jupyter.widget-view+json": {
       "model_id": "5ccd23a42d694d818954df9458bb39cc",
       "version_major": 2,
       "version_minor": 0
      },
      "text/plain": [
       "HBox(children=(FloatProgress(value=1.0, bar_style='info', max=1.0), HTML(value='')))"
      ]
     },
     "metadata": {},
     "output_type": "display_data"
    },
    {
     "name": "stdout",
     "output_type": "stream",
     "text": [
      "\n",
      "\n",
      "\n",
      "--- Working on 1-to-1 correspondence-----\n",
      "max(original_labels),len(original_labels) = (2, 3)\n",
      "empty_indices % = 0.07855640283986326\n",
      " conflict_indices % = 0.00848014725216934\n"
     ]
    },
    {
     "data": {
      "application/vnd.jupyter.widget-view+json": {
       "model_id": "e0199f53d6fc484f8fac8692c7301e7d",
       "version_major": 2,
       "version_minor": 0
      },
      "text/plain": [
       "HBox(children=(FloatProgress(value=0.0, max=26.0), HTML(value='')))"
      ]
     },
     "metadata": {},
     "output_type": "display_data"
    },
    {
     "name": "stdout",
     "output_type": "stream",
     "text": [
      "\n",
      "AFTER face_lookup_resolved_test\n"
     ]
    },
    {
     "data": {
      "application/vnd.jupyter.widget-view+json": {
       "model_id": "55b787c99afb4b97ae414b57444ac9a5",
       "version_major": 2,
       "version_minor": 0
      },
      "text/plain": [
       "HBox(children=(FloatProgress(value=0.0, max=3.0), HTML(value='')))"
      ]
     },
     "metadata": {},
     "output_type": "display_data"
    },
    {
     "name": "stdout",
     "output_type": "stream",
     "text": [
      "\n",
      "MP_branches_with_stitch_point= [1, 3]\n",
      "MP_branches_for_correspondence = [1 3]\n",
      "MP_leftover = [], MP_leftover_idx = []\n",
      " Finished with (1, 0) \n",
      "\n",
      "\n",
      "\n",
      "\n",
      "---- Working on (2, 1) connection-----\n",
      "sk_conn = [0]\n",
      "conn = [0]\n",
      "winning_vertex = [634944.22262841 982016.32245096 977359.37688788]\n",
      "MP_branches_with_stitch_point = [0]\n",
      "MAP_branches_with_stitch_point = [1]\n",
      "MAP_stitch_point_on_end_or_branch = False\n"
     ]
    },
    {
     "data": {
      "application/vnd.jupyter.widget-view+json": {
       "model_id": "99131a5871674bde8eb5933441d1687f",
       "version_major": 2,
       "version_minor": 0
      },
      "text/plain": [
       "HBox(children=(FloatProgress(value=1.0, bar_style='info', max=1.0), HTML(value='')))"
      ]
     },
     "metadata": {},
     "output_type": "display_data"
    },
    {
     "name": "stdout",
     "output_type": "stream",
     "text": [
      "\n",
      "\n",
      "\n",
      "--- Working on 1-to-1 correspondence-----\n",
      "max(original_labels),len(original_labels) = (1, 2)\n",
      "empty_indices % = 0.07944500796985944\n",
      " conflict_indices % = 0.000326039704390668\n"
     ]
    },
    {
     "data": {
      "application/vnd.jupyter.widget-view+json": {
       "model_id": "ede0391beafe416f9b9951c07ee5e7f3",
       "version_major": 2,
       "version_minor": 0
      },
      "text/plain": [
       "HBox(children=(FloatProgress(value=0.0, max=19.0), HTML(value='')))"
      ]
     },
     "metadata": {},
     "output_type": "display_data"
    },
    {
     "name": "stdout",
     "output_type": "stream",
     "text": [
      "\n",
      "AFTER face_lookup_resolved_test\n"
     ]
    },
    {
     "data": {
      "application/vnd.jupyter.widget-view+json": {
       "model_id": "787cfcc2fcc849f38313f9bcd53b5ecf",
       "version_major": 2,
       "version_minor": 0
      },
      "text/plain": [
       "HBox(children=(FloatProgress(value=0.0, max=2.0), HTML(value='')))"
      ]
     },
     "metadata": {},
     "output_type": "display_data"
    },
    {
     "name": "stdout",
     "output_type": "stream",
     "text": [
      "\n"
     ]
    },
    {
     "data": {
      "application/vnd.jupyter.widget-view+json": {
       "model_id": "78ee78e255104b6a87e664b4222d2b7a",
       "version_major": 2,
       "version_minor": 0
      },
      "text/plain": [
       "HBox(children=(FloatProgress(value=1.0, bar_style='info', max=1.0), HTML(value='')))"
      ]
     },
     "metadata": {},
     "output_type": "display_data"
    },
    {
     "name": "stdout",
     "output_type": "stream",
     "text": [
      "\n",
      "\n",
      "\n",
      "--- Working on 1-to-1 correspondence-----\n",
      "max(original_labels),len(original_labels) = (2, 3)\n",
      "empty_indices % = 0.09599024654565158\n",
      " conflict_indices % = 0.005012191817935519\n"
     ]
    },
    {
     "data": {
      "application/vnd.jupyter.widget-view+json": {
       "model_id": "cf94160097bf493b8913bdae5ad0e753",
       "version_major": 2,
       "version_minor": 0
      },
      "text/plain": [
       "HBox(children=(FloatProgress(value=0.0, max=20.0), HTML(value='')))"
      ]
     },
     "metadata": {},
     "output_type": "display_data"
    },
    {
     "name": "stdout",
     "output_type": "stream",
     "text": [
      "\n",
      "AFTER face_lookup_resolved_test\n"
     ]
    },
    {
     "data": {
      "application/vnd.jupyter.widget-view+json": {
       "model_id": "dc99048f07a243589fb70d3785404e84",
       "version_major": 2,
       "version_minor": 0
      },
      "text/plain": [
       "HBox(children=(FloatProgress(value=0.0, max=3.0), HTML(value='')))"
      ]
     },
     "metadata": {},
     "output_type": "display_data"
    },
    {
     "name": "stdout",
     "output_type": "stream",
     "text": [
      "\n",
      "Deleting branches from dictionary\n",
      "MP_branches_with_stitch_point= [0]\n",
      "MP_branches_for_correspondence = [0]\n",
      "MP_leftover = [], MP_leftover_idx = []\n",
      " Finished with (2, 1) \n",
      "\n",
      "\n",
      "\n",
      "Time for decomp of Limb = 95.35267305374146\n",
      "Number of matching vertices = 22\n",
      "Only one endpoint after filtering away the endpoints that are not on the skeleton\n",
      "Using Distance measure skeletal_distance\n",
      "endpoints_must_keep = [[603361.1472319  827358.94085163 925854.33348441]]\n",
      "Number of end_nodes BEFORE filtering = 29\n",
      "all_single_nodes_to_eliminate = [1]\n"
     ]
    },
    {
     "data": {
      "application/vnd.jupyter.widget-view+json": {
       "model_id": "73749823b970456db7b8300fd86e8ccf",
       "version_major": 2,
       "version_minor": 0
      },
      "text/plain": [
       "HBox(children=(FloatProgress(value=0.0, max=1.0), HTML(value='')))"
      ]
     },
     "metadata": {},
     "output_type": "display_data"
    },
    {
     "name": "stdout",
     "output_type": "stream",
     "text": [
      "\n",
      "Removed 1 skeletal branches\n"
     ]
    },
    {
     "data": {
      "application/vnd.jupyter.widget-view+json": {
       "model_id": "1a625c01a4b648fab960cf7cbf86233e",
       "version_major": 2,
       "version_minor": 0
      },
      "text/plain": [
       "HBox(children=(FloatProgress(value=0.0, max=50.0), HTML(value='')))"
      ]
     },
     "metadata": {},
     "output_type": "display_data"
    },
    {
     "name": "stdout",
     "output_type": "stream",
     "text": [
      "\n",
      "179434 179435\n",
      "For marked faces: None\n",
      "empty_indices % = 0.0016886337671022933\n",
      " conflict_indices % = 0.0\n"
     ]
    },
    {
     "data": {
      "application/vnd.jupyter.widget-view+json": {
       "model_id": "6be7353aade64a77a93ac54ed81b2cdf",
       "version_major": 2,
       "version_minor": 0
      },
      "text/plain": [
       "HBox(children=(FloatProgress(value=0.0, max=1.0), HTML(value='')))"
      ]
     },
     "metadata": {},
     "output_type": "display_data"
    },
    {
     "name": "stdout",
     "output_type": "stream",
     "text": [
      "\n",
      "AFTER face_lookup_resolved_test\n"
     ]
    },
    {
     "data": {
      "application/vnd.jupyter.widget-view+json": {
       "model_id": "4f0680ebf7fc478f936744dce67f010c",
       "version_major": 2,
       "version_minor": 0
      },
      "text/plain": [
       "HBox(children=(FloatProgress(value=0.0, max=49.0), HTML(value='')))"
      ]
     },
     "metadata": {},
     "output_type": "display_data"
    },
    {
     "name": "stderr",
     "output_type": "stream",
     "text": [
      "\r",
      "  0%|          | 0/1 [00:00<?, ?it/s]"
     ]
    },
    {
     "name": "stdout",
     "output_type": "stream",
     "text": [
      "\n",
      "\n",
      "\n",
      "----- Working on Proper Limb # 2 ---------\n",
      "meshparty_segment_size = 100\n",
      "root_curr = [604044. 822738. 915012.]\n",
      "Time for preparing soma vertices and root: 0.0002961158752441406\n",
      "invalidation_d = 12000\n",
      "cc_vertex_thresh = 10\n"
     ]
    },
    {
     "data": {
      "application/vnd.jupyter.widget-view+json": {
       "model_id": "783d739de55b4d2b94e6ab5cc3325bdc",
       "version_major": 2,
       "version_minor": 0
      },
      "text/plain": [
       "HBox(children=(FloatProgress(value=0.0, max=45996.0), HTML(value='')))"
      ]
     },
     "metadata": {},
     "output_type": "display_data"
    },
    {
     "name": "stderr",
     "output_type": "stream",
     "text": [
      "100%|██████████| 1/1 [00:00<00:00,  3.42it/s]"
     ]
    },
    {
     "name": "stdout",
     "output_type": "stream",
     "text": [
      "\n"
     ]
    },
    {
     "name": "stderr",
     "output_type": "stream",
     "text": [
      "\n"
     ]
    },
    {
     "name": "stdout",
     "output_type": "stream",
     "text": [
      "meshparty_segment_size = 100\n",
      "Time for 1st pass MP skeletonization: 0.7212939262390137\n",
      "connecting at the root\n",
      "branches_touching_root = [10]\n",
      "length of Graph = 4866\n",
      "After combining close endpoints max(kept_branches_idx) = 10, len(kept_branches_idx) = 11\n",
      "empty_indices % = 0.0\n",
      " conflict_indices % = 0.0038832833378783745\n"
     ]
    },
    {
     "data": {
      "application/vnd.jupyter.widget-view+json": {
       "model_id": "016320ea60e54c4db274ed03c8386b7f",
       "version_major": 2,
       "version_minor": 0
      },
      "text/plain": [
       "HBox(children=(FloatProgress(value=0.0, max=6.0), HTML(value='')))"
      ]
     },
     "metadata": {},
     "output_type": "display_data"
    },
    {
     "name": "stdout",
     "output_type": "stream",
     "text": [
      "\n",
      "AFTER face_lookup_resolved_test\n"
     ]
    },
    {
     "data": {
      "application/vnd.jupyter.widget-view+json": {
       "model_id": "1304065c30a748f4b05469e4c222d3a2",
       "version_major": 2,
       "version_minor": 0
      },
      "text/plain": [
       "HBox(children=(FloatProgress(value=0.0, max=11.0), HTML(value='')))"
      ]
     },
     "metadata": {},
     "output_type": "display_data"
    },
    {
     "name": "stdout",
     "output_type": "stream",
     "text": [
      "\n",
      "Decomposing first pass: 3.8867545127868652\n",
      "Attempting to use MeshAfterParty Skeletonization and Mesh Correspondence\n",
      "Another print\n",
      "Found len(mesh_large_idx) MAP candidates: [9021, 15909, 18668, 15598, 16693]\n",
      "mesh_large_connectivity: 0.0553441047668457\n",
      "Finding MAP candidates connected components: 0.00010275840759277344\n",
      "len(filtered_pieces) = 1\n",
      "skeleton_connectivity_MP : 0.060408830642700195\n",
      "Grouping MP Sublimbs by Graph: 0.009791851043701172\n",
      "Divinding into MP and MAP pieces: 7.152557373046875e-07\n",
      "--- Working on MAP piece 0---\n",
      "MAP Filtering Soma Pieces: 0.004845380783081055\n",
      "inside skeletonize_connected_branch and use_surface_after_CGAL=False, surface_reconstruction_size=1000\n",
      "     Starting Screened Poisson\n",
      "xvfb-run -n 4130 -s \"-screen 0 800x600x24\" meshlabserver $@  -i /notebooks/Auto_Proofreading/Preprocessing_Pipeline/temp/None.off -o /notebooks/Auto_Proofreading/Preprocessing_Pipeline/temp/None_poisson.off -s /notebooks/Auto_Proofreading/Preprocessing_Pipeline/temp/poisson_229700.mls\n",
      "removed temporary input file: /notebooks/Auto_Proofreading/Preprocessing_Pipeline/temp/None.off\n",
      "removed temporary output file: /notebooks/Auto_Proofreading/Preprocessing_Pipeline/temp/None_poisson.off\n",
      "Using the close holes feature\n",
      "Mesh was manifold\n",
      "No holes needed to fill and mesh was manifold so returning original mesh\n",
      "-----Time for Screened Poisson= 22.577776670455933\n",
      "mesh_pieces = [<trimesh.Trimesh(vertices.shape=(117165, 3), faces.shape=(234358, 3))>, <trimesh.Trimesh(vertices.shape=(4505, 3), faces.shape=(9006, 3))>]\n",
      "     Starting Calcification (Changed back where stitches large poissons)\n",
      "min_edge_length = 75\n",
      "min_edge_length = 75\n",
      "node_degrees = [2 3 2 2 3 3 2 2 2 2 3 2 2]\n",
      "node_degrees = [2 2 2 3]\n"
     ]
    },
    {
     "data": {
      "application/vnd.jupyter.widget-view+json": {
       "model_id": "84a9906470cf484fa047397118b52b74",
       "version_major": 2,
       "version_minor": 0
      },
      "text/plain": [
       "HBox(children=(FloatProgress(value=1.0, bar_style='info', max=1.0), HTML(value='')))"
      ]
     },
     "metadata": {},
     "output_type": "display_data"
    },
    {
     "name": "stdout",
     "output_type": "stream",
     "text": [
      "\n",
      "No skeletons to stack so returning empty list\n",
      "len_subgraphs AT BEGINNING of the loop\n"
     ]
    },
    {
     "data": {
      "application/vnd.jupyter.widget-view+json": {
       "model_id": "af8a7a22be1a4b55bb56a352cd3dedce",
       "version_major": 2,
       "version_minor": 0
      },
      "text/plain": [
       "HBox(children=(FloatProgress(value=0.0, max=2.0), HTML(value='')))"
      ]
     },
     "metadata": {},
     "output_type": "display_data"
    },
    {
     "name": "stdout",
     "output_type": "stream",
     "text": [
      "all graph is one component!\n",
      "\n",
      "Total time for skeleton stitching = 0.12225461006164551\n",
      "The process was using a temp folder\n",
      "Checking connected components after skeletonize_connected_branch\n",
      "    Total time for skeletonizing branch: 33.17242360115051\n",
      "Checking connected components after removing cycles\n",
      "Total time for mesh KDTree = 0.4280424118041992\n",
      "sbv[0].reshape(-1,3) = [[604044. 822738. 915012.]]\n",
      "closest_sk_pt_coord BEFORE = [604005. 823385. 914919.]\n",
      "current_skeleton.shape = (2957, 2, 3)\n",
      "node_for_stitch = 764: [604005. 823385. 914919.]\n",
      "node_for_stitch AFTER = 764: [604005. 823385. 914919.]\n",
      "possible_node_loc = [  55   67   83  108  117  139  159  208  250  260  305  314  322  345\n",
      "  405  406  433  495  532  542  547  558  611  612  632  648  672  720\n",
      "  764  840  844  880  891  914 1038 1057 1108 1112 1175 1308 1321 1325\n",
      " 1329 1350 1382 1437 1444 1453 1461 1487 1533 1623 1624 1665 1705 1710\n",
      " 1737 1744 1765 1769 1822 1831 1883 1888 1944 1963 1966 1967 1983 2074\n",
      " 2076 2110 2123 2161 2167 2182 2274 2283 2296 2346 2386 2411 2430 2488\n",
      " 2517 2522 2578 2586 2606 2611 2653 2679 2691 2744 2821 2825 2857 2862\n",
      " 2893 2956]\n",
      "possible_node_loc AFTER = [  55   67   83  108  117  139  159  208  250  260  305  314  322  345\n",
      "  405  406  433  495  532  542  547  558  611  612  632  648  672  720\n",
      "  764  840  844  880  891  914 1038 1057 1108 1112 1175 1308 1321 1325\n",
      " 1329 1350 1382 1437 1444 1453 1461 1487 1533 1623 1624 1665 1705 1710\n",
      " 1737 1744 1765 1769 1822 1831 1883 1888 1944 1963 1966 1967 1983 2074\n",
      " 2076 2110 2123 2161 2167 2182 2274 2283 2296 2346 2386 2411 2430 2488\n",
      " 2517 2522 2578 2586 2606 2611 2653 2679 2691 2744 2821 2825 2857 2862\n",
      " 2893 2956]\n",
      "curr_shortest_path = [764]\n",
      "Current stitch point was a branch or endpoint\n",
      "change_status for create soma extending pieces = False\n",
      "closest_sk_pt_coord AFTER = [604005. 823385. 914919.]\n",
      "skipping soma 0 because closest skeleton node was already end node\n",
      "endpoints_must_keep = {0: array([[604005., 823385., 914919.]])}\n",
      "    Total time for Fixing Skeleton Soma Endpoint Extension : 1.3785805702209473\n",
      "filter_end_node_length = 4000\n",
      "xvfb-run -n 4130 -s \"-screen 0 800x600x24\" meshlabserver $@  -i /notebooks/Auto_Proofreading/Preprocessing_Pipeline/temp/neuron_49660.off -o /notebooks/Auto_Proofreading/Preprocessing_Pipeline/temp/neuron_49660_remove_interior.off -s /notebooks/Auto_Proofreading/Preprocessing_Pipeline/temp/remove_interior_443854.mls\n",
      "removed temporary input file: /notebooks/Auto_Proofreading/Preprocessing_Pipeline/temp/neuron_49660.off\n",
      "removed temporary output file: /notebooks/Auto_Proofreading/Preprocessing_Pipeline/temp/neuron_49660_remove_interior.off\n",
      "/notebooks/Auto_Proofreading/Preprocessing_Pipeline/temp/remove_interior_443854.mls is being deleted....\n",
      "Removing the following inside neurons: [<trimesh.Trimesh(vertices.shape=(67, 3), faces.shape=(118, 3))>]\n",
      "Using Distance measure skeletal_distance\n",
      "endpoints_must_keep = [[604005. 823385. 914919.]\n",
      " [604005. 823385. 914919.]\n",
      " [610626. 872408. 899973.]\n",
      " [614161. 846658. 872928.]\n",
      " [662359. 860636. 834725.]]\n",
      "Number of end_nodes BEFORE filtering = 100\n",
      "all_single_nodes_to_eliminate = [28, 28, 42, 49, 97]\n"
     ]
    },
    {
     "data": {
      "application/vnd.jupyter.widget-view+json": {
       "model_id": "d5ab895196e44a4d894a5daa5766f7cb",
       "version_major": 2,
       "version_minor": 0
      },
      "text/plain": [
       "HBox(children=(FloatProgress(value=0.0, max=95.0), HTML(value='')))"
      ]
     },
     "metadata": {},
     "output_type": "display_data"
    },
    {
     "name": "stdout",
     "output_type": "stream",
     "text": [
      "\n",
      "Checking connected components after clean_skeleton\n",
      "after DISTANCE cleaning limb size of skeleton = (2485, 2, 3)\n",
      "********COMBINING CLOSE SKELETON NODES WITHIN 700 DISTANCE**********\n",
      "Found 2 valid paths to replace\n",
      "valid_paths = [array([1179., 1185., 1189., 1199.]), array([1199., 1204.])]\n",
      "valid_path_lengths = [636.9187581336379, 257.82552239838475]\n",
      "length of Graph = 2485\n",
      "Working on path [1179. 1185. 1189. 1199.]\n",
      "path_degrees = [3, 2, 2, 3]\n",
      "Working on path [2485. 1204.]\n",
      "path_degrees = [4, 3]\n",
      "node_degrees = [2 2 2 2 2 2 2 2 5]\n",
      "skeletonize_and_clean_connected_branch_CGAL: 54.39154100418091\n",
      "Working on limb correspondence for #0 MAP piece\n",
      "xvfb-run -n 4130 -s \"-screen 0 800x600x24\" meshlabserver $@  -i /notebooks/Auto_Proofreading/Preprocessing_Pipeline/temp/neuron_4806.off -o /notebooks/Auto_Proofreading/Preprocessing_Pipeline/temp/neuron_4806_remove_interior.off -s /notebooks/Auto_Proofreading/Preprocessing_Pipeline/temp/remove_interior_445658.mls\n",
      "removed temporary input file: /notebooks/Auto_Proofreading/Preprocessing_Pipeline/temp/neuron_4806.off\n",
      "removed temporary output file: /notebooks/Auto_Proofreading/Preprocessing_Pipeline/temp/neuron_4806_remove_interior.off\n",
      "/notebooks/Auto_Proofreading/Preprocessing_Pipeline/temp/remove_interior_445658.mls is being deleted....\n",
      "Removing the following inside neurons: [<trimesh.Trimesh(vertices.shape=(67, 3), faces.shape=(118, 3))>]\n"
     ]
    },
    {
     "data": {
      "application/vnd.jupyter.widget-view+json": {
       "model_id": "f4a7ce1994274cc49159f36e58c29859",
       "version_major": 2,
       "version_minor": 0
      },
      "text/plain": [
       "HBox(children=(FloatProgress(value=1.0, bar_style='info', max=1.0), HTML(value='')))"
      ]
     },
     "metadata": {},
     "output_type": "display_data"
    },
    {
     "name": "stdout",
     "output_type": "stream",
     "text": [
      "\n",
      "Total time for decomposition = 13.658031463623047\n",
      "mesh_correspondence_first_pass: 13.658065557479858\n",
      "Limb decomposed into 11 branches\n",
      "divided_skeleton_graph_recovered = (2472, 2, 3) and \n",
      "current_mesh_data[0]['branch_skeletons_cleaned'].shape = (2472, 2, 3)\n",
      "\n",
      "Number of connected components in deocmposed recovered graph = 1\n",
      "Number of connected components in cleaned skeleton graph= 1\n",
      "The downsampled branches number of connected components = 1\n",
      "Empty submeshes = []\n",
      "\n",
      "\n",
      "--- Working on 1-to-1 correspondence-----\n",
      "max(original_labels),len(original_labels) = (10, 11)\n",
      "empty_indices % = 0.1612091343936539\n",
      " conflict_indices % = 0.022387961364624648\n"
     ]
    },
    {
     "data": {
      "application/vnd.jupyter.widget-view+json": {
       "model_id": "90f3ebae31fa41d089013af193247667",
       "version_major": 2,
       "version_minor": 0
      },
      "text/plain": [
       "HBox(children=(FloatProgress(value=0.0, max=209.0), HTML(value='')))"
      ]
     },
     "metadata": {},
     "output_type": "display_data"
    },
    {
     "name": "stdout",
     "output_type": "stream",
     "text": [
      "\n",
      "AFTER face_lookup_resolved_test\n",
      "Took 0 iterations to expand the label back\n",
      "empty_indices % = 0.0\n",
      " conflict_indices % = 0.0\n"
     ]
    },
    {
     "data": {
      "application/vnd.jupyter.widget-view+json": {
       "model_id": "45cf79e286aa46969aa63c808fdbf358",
       "version_major": 2,
       "version_minor": 0
      },
      "text/plain": [
       "HBox(children=(FloatProgress(value=1.0, bar_style='info', max=1.0), HTML(value='')))"
      ]
     },
     "metadata": {},
     "output_type": "display_data"
    },
    {
     "name": "stdout",
     "output_type": "stream",
     "text": [
      "\n",
      "AFTER face_lookup_resolved_test\n"
     ]
    },
    {
     "data": {
      "application/vnd.jupyter.widget-view+json": {
       "model_id": "ae58d808d4af4c92bc48ce9af35f2ebb",
       "version_major": 2,
       "version_minor": 0
      },
      "text/plain": [
       "HBox(children=(FloatProgress(value=0.0, max=11.0), HTML(value='')))"
      ]
     },
     "metadata": {},
     "output_type": "display_data"
    },
    {
     "name": "stdout",
     "output_type": "stream",
     "text": [
      "\n",
      "Total time for MAP sublimb #0 mesh processing = 73.4520959854126\n",
      "correspondence_1_to_1: 5.39760160446167\n",
      "Total time for MAP sublimb processing 73.45222067832947\n",
      "---- Working on MP Decomposition #0 ----\n",
      "Computing the current soma touching verts dict manually\n",
      "MP filtering soma verts: 0.0026960372924804688\n",
      "Do Not Need to Fix MP Decomposition 0 so just continuing\n",
      "Successful mesh connectivity with type edges\n",
      "\n",
      "---- Working on (0, 0) connection-----\n",
      "sk_conn = [1, 3]\n",
      "conn = [1, 3]\n",
      "winning_vertex = [627789.137349   865419.30230339 839837.81036106]\n",
      "MP_branches_with_stitch_point = [1, 3]\n",
      "MAP_branches_with_stitch_point = [9]\n",
      "MAP_stitch_point_on_end_or_branch = True\n"
     ]
    },
    {
     "data": {
      "application/vnd.jupyter.widget-view+json": {
       "model_id": "e66ff0d762d1495c98047d4d0e9ab9a4",
       "version_major": 2,
       "version_minor": 0
      },
      "text/plain": [
       "HBox(children=(FloatProgress(value=1.0, bar_style='info', max=1.0), HTML(value='')))"
      ]
     },
     "metadata": {},
     "output_type": "display_data"
    },
    {
     "name": "stdout",
     "output_type": "stream",
     "text": [
      "\n",
      "\n",
      "\n",
      "--- Working on 1-to-1 correspondence-----\n",
      "max(original_labels),len(original_labels) = (2, 3)\n",
      "empty_indices % = 0.1421957152946716\n",
      " conflict_indices % = 0.023777760339009652\n"
     ]
    },
    {
     "data": {
      "application/vnd.jupyter.widget-view+json": {
       "model_id": "de8be76f9414489e920c4587688553fb",
       "version_major": 2,
       "version_minor": 0
      },
      "text/plain": [
       "HBox(children=(FloatProgress(value=0.0, max=11.0), HTML(value='')))"
      ]
     },
     "metadata": {},
     "output_type": "display_data"
    },
    {
     "name": "stdout",
     "output_type": "stream",
     "text": [
      "\n",
      "AFTER face_lookup_resolved_test\n"
     ]
    },
    {
     "data": {
      "application/vnd.jupyter.widget-view+json": {
       "model_id": "ffdaf54a70d34e0d885876a30931aea4",
       "version_major": 2,
       "version_minor": 0
      },
      "text/plain": [
       "HBox(children=(FloatProgress(value=0.0, max=3.0), HTML(value='')))"
      ]
     },
     "metadata": {},
     "output_type": "display_data"
    },
    {
     "name": "stdout",
     "output_type": "stream",
     "text": [
      "\n",
      "MP_branches_with_stitch_point= [1, 3]\n",
      "MP_branches_for_correspondence = [1 3]\n",
      "MP_leftover = [], MP_leftover_idx = []\n",
      " Finished with (0, 0) \n",
      "\n",
      "\n",
      "\n",
      "Time for decomp of Limb = 82.29694533348083\n",
      "Number of matching vertices = 31\n",
      "Only one endpoint after filtering away the endpoints that are not on the skeleton\n",
      "Using Distance measure skeletal_distance\n",
      "endpoints_must_keep = [[604005. 823385. 914919.]]\n",
      "Number of end_nodes BEFORE filtering = 10\n",
      "all_single_nodes_to_eliminate = [1]\n"
     ]
    },
    {
     "data": {
      "application/vnd.jupyter.widget-view+json": {
       "model_id": "2d90e011370447b18cc2c24b4f22ddec",
       "version_major": 2,
       "version_minor": 0
      },
      "text/plain": [
       "HBox(children=(FloatProgress(value=0.0, max=2.0), HTML(value='')))"
      ]
     },
     "metadata": {},
     "output_type": "display_data"
    },
    {
     "name": "stdout",
     "output_type": "stream",
     "text": [
      "\n",
      "Removed 2 skeletal branches\n"
     ]
    },
    {
     "data": {
      "application/vnd.jupyter.widget-view+json": {
       "model_id": "416038285b4a4059a87232f4765e0d39",
       "version_major": 2,
       "version_minor": 0
      },
      "text/plain": [
       "HBox(children=(FloatProgress(value=0.0, max=17.0), HTML(value='')))"
      ]
     },
     "metadata": {},
     "output_type": "display_data"
    },
    {
     "name": "stdout",
     "output_type": "stream",
     "text": [
      "\n",
      "91674 91675\n",
      "For marked faces: None\n",
      "empty_indices % = 0.0\n",
      " conflict_indices % = 0.0\n"
     ]
    },
    {
     "data": {
      "application/vnd.jupyter.widget-view+json": {
       "model_id": "1c339943468b4234af617bd50e4c30f0",
       "version_major": 2,
       "version_minor": 0
      },
      "text/plain": [
       "HBox(children=(FloatProgress(value=1.0, bar_style='info', max=1.0), HTML(value='')))"
      ]
     },
     "metadata": {},
     "output_type": "display_data"
    },
    {
     "name": "stdout",
     "output_type": "stream",
     "text": [
      "\n",
      "AFTER face_lookup_resolved_test\n"
     ]
    },
    {
     "data": {
      "application/vnd.jupyter.widget-view+json": {
       "model_id": "675723f2c5b54607a1aafd7369ec9f0d",
       "version_major": 2,
       "version_minor": 0
      },
      "text/plain": [
       "HBox(children=(FloatProgress(value=0.0, max=13.0), HTML(value='')))"
      ]
     },
     "metadata": {},
     "output_type": "display_data"
    },
    {
     "name": "stderr",
     "output_type": "stream",
     "text": [
      "\r",
      "  0%|          | 0/1 [00:00<?, ?it/s]"
     ]
    },
    {
     "name": "stdout",
     "output_type": "stream",
     "text": [
      "\n",
      "\n",
      "\n",
      "----- Working on Proper Limb # 3 ---------\n",
      "meshparty_segment_size = 100\n",
      "root_curr = [597672.9 821864.4 917234.5]\n",
      "Time for preparing soma vertices and root: 0.00033736228942871094\n",
      "invalidation_d = 12000\n",
      "cc_vertex_thresh = 10\n"
     ]
    },
    {
     "data": {
      "application/vnd.jupyter.widget-view+json": {
       "model_id": "5e42e68800624888b6536a8be31a9bb5",
       "version_major": 2,
       "version_minor": 0
      },
      "text/plain": [
       "HBox(children=(FloatProgress(value=0.0, max=34669.0), HTML(value='')))"
      ]
     },
     "metadata": {},
     "output_type": "display_data"
    },
    {
     "name": "stderr",
     "output_type": "stream",
     "text": [
      "100%|██████████| 1/1 [00:00<00:00,  4.54it/s]"
     ]
    },
    {
     "name": "stdout",
     "output_type": "stream",
     "text": [
      "\n"
     ]
    },
    {
     "name": "stderr",
     "output_type": "stream",
     "text": [
      "\n"
     ]
    },
    {
     "name": "stdout",
     "output_type": "stream",
     "text": [
      "meshparty_segment_size = 100\n",
      "Time for 1st pass MP skeletonization: 0.5934789180755615\n",
      "branches_touching_root = [3]\n",
      "length of Graph = 4482\n",
      "After combining close endpoints max(kept_branches_idx) = 8, len(kept_branches_idx) = 9\n",
      "empty_indices % = 0.0\n",
      " conflict_indices % = 0.005272000463472568\n"
     ]
    },
    {
     "data": {
      "application/vnd.jupyter.widget-view+json": {
       "model_id": "ee0a8d06e4ef4a8a93254d73e653ff69",
       "version_major": 2,
       "version_minor": 0
      },
      "text/plain": [
       "HBox(children=(FloatProgress(value=0.0, max=4.0), HTML(value='')))"
      ]
     },
     "metadata": {},
     "output_type": "display_data"
    },
    {
     "name": "stdout",
     "output_type": "stream",
     "text": [
      "\n",
      "AFTER face_lookup_resolved_test\n"
     ]
    },
    {
     "data": {
      "application/vnd.jupyter.widget-view+json": {
       "model_id": "4440e5f72775481094a314f655ed7208",
       "version_major": 2,
       "version_minor": 0
      },
      "text/plain": [
       "HBox(children=(FloatProgress(value=0.0, max=9.0), HTML(value='')))"
      ]
     },
     "metadata": {},
     "output_type": "display_data"
    },
    {
     "name": "stdout",
     "output_type": "stream",
     "text": [
      "\n",
      "Decomposing first pass: 3.196657419204712\n",
      "Attempting to use MeshAfterParty Skeletonization and Mesh Correspondence\n",
      "Another print\n",
      "Found len(mesh_large_idx) MAP candidates: [9396, 5316, 23307, 3610]\n",
      "mesh_large_connectivity: 0.02387237548828125\n",
      "Finding MAP candidates connected components: 9.775161743164062e-05\n",
      "len(filtered_pieces) = 1\n",
      "skeleton_connectivity_MP : 0.12597060203552246\n",
      "Grouping MP Sublimbs by Graph: 0.01496267318725586\n",
      "Divinding into MP and MAP pieces: 1.1920928955078125e-06\n",
      "--- Working on MAP piece 0---\n",
      "MAP Filtering Soma Pieces: 0.0026443004608154297\n",
      "inside skeletonize_connected_branch and use_surface_after_CGAL=False, surface_reconstruction_size=1000\n",
      "     Starting Screened Poisson\n",
      "xvfb-run -n 4130 -s \"-screen 0 800x600x24\" meshlabserver $@  -i /notebooks/Auto_Proofreading/Preprocessing_Pipeline/temp/None.off -o /notebooks/Auto_Proofreading/Preprocessing_Pipeline/temp/None_poisson.off -s /notebooks/Auto_Proofreading/Preprocessing_Pipeline/temp/poisson_746795.mls\n",
      "removed temporary input file: /notebooks/Auto_Proofreading/Preprocessing_Pipeline/temp/None.off\n",
      "removed temporary output file: /notebooks/Auto_Proofreading/Preprocessing_Pipeline/temp/None_poisson.off\n",
      "Using the close holes feature\n",
      "Mesh was manifold\n",
      "No holes needed to fill and mesh was manifold so returning original mesh\n",
      "-----Time for Screened Poisson= 15.225674152374268\n",
      "mesh_pieces = [<trimesh.Trimesh(vertices.shape=(71261, 3), faces.shape=(142542, 3))>]\n",
      "     Starting Calcification (Changed back where stitches large poissons)\n",
      "min_edge_length = 75\n",
      "node_degrees = [2 2 2 2 2 2 2 3 2 2 2 2 2 3 2 2]\n",
      "node_degrees = [3 2 3 3]\n",
      "node_degrees = [2 3 2 4]\n"
     ]
    },
    {
     "data": {
      "application/vnd.jupyter.widget-view+json": {
       "model_id": "68267820e7f147e2ab3c53ce3656e45c",
       "version_major": 2,
       "version_minor": 0
      },
      "text/plain": [
       "HBox(children=(FloatProgress(value=1.0, bar_style='info', max=1.0), HTML(value='')))"
      ]
     },
     "metadata": {},
     "output_type": "display_data"
    },
    {
     "name": "stdout",
     "output_type": "stream",
     "text": [
      "\n",
      "No skeletons to stack so returning empty list\n",
      "len_subgraphs AT BEGINNING of the loop\n"
     ]
    },
    {
     "data": {
      "application/vnd.jupyter.widget-view+json": {
       "model_id": "9da6a0e715664d47a2094267d0a0653b",
       "version_major": 2,
       "version_minor": 0
      },
      "text/plain": [
       "HBox(children=(FloatProgress(value=0.0, max=1.0), HTML(value='')))"
      ]
     },
     "metadata": {},
     "output_type": "display_data"
    },
    {
     "name": "stdout",
     "output_type": "stream",
     "text": [
      "all graph is one component!\n",
      "\n",
      "Total time for skeleton stitching = 0.08319234848022461\n",
      "The process was using a temp folder\n",
      "Checking connected components after skeletonize_connected_branch\n",
      "    Total time for skeletonizing branch: 21.270527124404907\n",
      "Checking connected components after removing cycles\n",
      "Total time for mesh KDTree = 0.2479708194732666\n",
      "sbv[0].reshape(-1,3) = [[597672.9 821864.4 917234.5]]\n",
      "closest_sk_pt_coord BEFORE = [597271. 821862. 917430.]\n",
      "current_skeleton.shape = (1608, 2, 3)\n",
      "node_for_stitch = 1607: [597271. 821862. 917430.]\n",
      "node_for_stitch AFTER = 1607: [597271. 821862. 917430.]\n",
      "possible_node_loc = [   0    8   54  134  138  151  158  164  197  221  258  268  301  337\n",
      "  371  397  402  431  458  470  485  488  495  526  532  539  565  575\n",
      "  576  582  603  624  638  656  667  689  697  708  738  743  791  793\n",
      "  871  888  900  942  973 1015 1029 1033 1050 1083 1104 1106 1149 1157\n",
      " 1170 1233 1262 1332 1363 1372 1386 1416 1437 1455 1493 1607]\n",
      "possible_node_loc AFTER = [   0    8   54  134  138  151  158  164  197  221  258  268  301  337\n",
      "  371  397  402  431  458  470  485  488  495  526  532  539  565  575\n",
      "  576  582  603  624  638  656  667  689  697  708  738  743  791  793\n",
      "  871  888  900  942  973 1015 1029 1033 1050 1083 1104 1106 1149 1157\n",
      " 1170 1233 1262 1332 1363 1372 1386 1416 1437 1455 1493 1607]\n",
      "curr_shortest_path = [1607]\n",
      "Current stitch point was a branch or endpoint\n",
      "change_status for create soma extending pieces = False\n",
      "closest_sk_pt_coord AFTER = [597271. 821862. 917430.]\n",
      "skipping soma 0 because closest skeleton node was already end node\n",
      "endpoints_must_keep = {0: array([[597271., 821862., 917430.]])}\n",
      "    Total time for Fixing Skeleton Soma Endpoint Extension : 0.6530838012695312\n",
      "filter_end_node_length = 4000\n",
      "xvfb-run -n 4130 -s \"-screen 0 800x600x24\" meshlabserver $@  -i /notebooks/Auto_Proofreading/Preprocessing_Pipeline/temp/neuron_47659.off -o /notebooks/Auto_Proofreading/Preprocessing_Pipeline/temp/neuron_47659_remove_interior.off -s /notebooks/Auto_Proofreading/Preprocessing_Pipeline/temp/remove_interior_646673.mls\n",
      "removed temporary input file: /notebooks/Auto_Proofreading/Preprocessing_Pipeline/temp/neuron_47659.off\n",
      "removed temporary output file: /notebooks/Auto_Proofreading/Preprocessing_Pipeline/temp/neuron_47659_remove_interior.off\n",
      "/notebooks/Auto_Proofreading/Preprocessing_Pipeline/temp/remove_interior_646673.mls is being deleted....\n",
      "Removing the following inside neurons: [<trimesh.Trimesh(vertices.shape=(119, 3), faces.shape=(245, 3))>, <trimesh.Trimesh(vertices.shape=(57, 3), faces.shape=(108, 3))>]\n",
      "Using Distance measure skeletal_distance\n",
      "endpoints_must_keep = [[597271. 821862. 917430.]]\n",
      "Number of end_nodes BEFORE filtering = 68\n",
      "all_single_nodes_to_eliminate = [67]\n"
     ]
    },
    {
     "data": {
      "application/vnd.jupyter.widget-view+json": {
       "model_id": "6d61477ab67645c8a8598ab5e4eed8c2",
       "version_major": 2,
       "version_minor": 0
      },
      "text/plain": [
       "HBox(children=(FloatProgress(value=0.0, max=66.0), HTML(value='')))"
      ]
     },
     "metadata": {},
     "output_type": "display_data"
    },
    {
     "name": "stdout",
     "output_type": "stream",
     "text": [
      "\n",
      "Checking connected components after clean_skeleton\n",
      "after DISTANCE cleaning limb size of skeleton = (1278, 2, 3)\n",
      "********COMBINING CLOSE SKELETON NODES WITHIN 700 DISTANCE**********\n",
      "Found 1 valid paths to replace\n",
      "valid_paths = [array([402., 404., 408.])]\n",
      "valid_path_lengths = [459.19286054493557]\n",
      "length of Graph = 1278\n",
      "Working on path [402. 404. 408.]\n",
      "path_degrees = [3, 2, 3]\n",
      "skeletonize_and_clean_connected_branch_CGAL: 30.051587343215942\n",
      "Working on limb correspondence for #0 MAP piece\n",
      "xvfb-run -n 4130 -s \"-screen 0 800x600x24\" meshlabserver $@  -i /notebooks/Auto_Proofreading/Preprocessing_Pipeline/temp/neuron_77124.off -o /notebooks/Auto_Proofreading/Preprocessing_Pipeline/temp/neuron_77124_remove_interior.off -s /notebooks/Auto_Proofreading/Preprocessing_Pipeline/temp/remove_interior_277563.mls\n",
      "removed temporary input file: /notebooks/Auto_Proofreading/Preprocessing_Pipeline/temp/neuron_77124.off\n",
      "removed temporary output file: /notebooks/Auto_Proofreading/Preprocessing_Pipeline/temp/neuron_77124_remove_interior.off\n",
      "/notebooks/Auto_Proofreading/Preprocessing_Pipeline/temp/remove_interior_277563.mls is being deleted....\n",
      "Removing the following inside neurons: [<trimesh.Trimesh(vertices.shape=(119, 3), faces.shape=(245, 3))>, <trimesh.Trimesh(vertices.shape=(57, 3), faces.shape=(108, 3))>]\n"
     ]
    },
    {
     "data": {
      "application/vnd.jupyter.widget-view+json": {
       "model_id": "092318ce59fe4f2c938a8b97da1a54e2",
       "version_major": 2,
       "version_minor": 0
      },
      "text/plain": [
       "HBox(children=(FloatProgress(value=1.0, bar_style='info', max=1.0), HTML(value='')))"
      ]
     },
     "metadata": {},
     "output_type": "display_data"
    },
    {
     "name": "stdout",
     "output_type": "stream",
     "text": [
      "\n",
      "Total time for decomposition = 7.802264213562012\n",
      "mesh_correspondence_first_pass: 7.802295923233032\n",
      "Limb decomposed into 5 branches\n",
      "divided_skeleton_graph_recovered = (1275, 2, 3) and \n",
      "current_mesh_data[0]['branch_skeletons_cleaned'].shape = (1275, 2, 3)\n",
      "\n",
      "Number of connected components in deocmposed recovered graph = 1\n",
      "Number of connected components in cleaned skeleton graph= 1\n",
      "The downsampled branches number of connected components = 1\n",
      "Empty submeshes = []\n",
      "\n",
      "\n",
      "--- Working on 1-to-1 correspondence-----\n",
      "max(original_labels),len(original_labels) = (4, 5)\n",
      "empty_indices % = 0.11902760095125994\n",
      " conflict_indices % = 0.008815969636551442\n"
     ]
    },
    {
     "data": {
      "application/vnd.jupyter.widget-view+json": {
       "model_id": "5f664c2c39fa4b1daac7d106dba6f857",
       "version_major": 2,
       "version_minor": 0
      },
      "text/plain": [
       "HBox(children=(FloatProgress(value=0.0, max=93.0), HTML(value='')))"
      ]
     },
     "metadata": {},
     "output_type": "display_data"
    },
    {
     "name": "stdout",
     "output_type": "stream",
     "text": [
      "\n",
      "AFTER face_lookup_resolved_test\n",
      "Took 0 iterations to expand the label back\n",
      "empty_indices % = 0.0\n",
      " conflict_indices % = 0.0\n"
     ]
    },
    {
     "data": {
      "application/vnd.jupyter.widget-view+json": {
       "model_id": "10349108a2a549edb1d20588bda9cd75",
       "version_major": 2,
       "version_minor": 0
      },
      "text/plain": [
       "HBox(children=(FloatProgress(value=1.0, bar_style='info', max=1.0), HTML(value='')))"
      ]
     },
     "metadata": {},
     "output_type": "display_data"
    },
    {
     "name": "stdout",
     "output_type": "stream",
     "text": [
      "\n",
      "AFTER face_lookup_resolved_test\n"
     ]
    },
    {
     "data": {
      "application/vnd.jupyter.widget-view+json": {
       "model_id": "50e45fcc76024efcb73108668e9c3e47",
       "version_major": 2,
       "version_minor": 0
      },
      "text/plain": [
       "HBox(children=(FloatProgress(value=0.0, max=5.0), HTML(value='')))"
      ]
     },
     "metadata": {},
     "output_type": "display_data"
    },
    {
     "name": "stdout",
     "output_type": "stream",
     "text": [
      "\n",
      "Total time for MAP sublimb #0 mesh processing = 40.1496844291687\n",
      "correspondence_1_to_1: 2.293095588684082\n",
      "Total time for MAP sublimb processing 40.14979124069214\n",
      "---- Working on MP Decomposition #0 ----\n",
      "Computing the current soma touching verts dict manually\n",
      "MP filtering soma verts: 0.0027670860290527344\n",
      "Do Not Need to Fix MP Decomposition 0 so just continuing\n",
      "---- Working on MP Decomposition #1 ----\n",
      "Computing the current soma touching verts dict manually\n",
      "MP filtering soma verts: 0.002852916717529297\n",
      "Do Not Need to Fix MP Decomposition 1 so just continuing\n",
      "Successful mesh connectivity with type edges\n",
      "\n",
      "---- Working on (0, 0) connection-----\n",
      "sk_conn = [1]\n",
      "conn = [1]\n",
      "winning_vertex = [561421.78341996 824546.98975696 858062.84628584]\n",
      "MP_branches_with_stitch_point = [1]\n",
      "MAP_branches_with_stitch_point = [1]\n",
      "MAP_stitch_point_on_end_or_branch = False\n"
     ]
    },
    {
     "data": {
      "application/vnd.jupyter.widget-view+json": {
       "model_id": "2f6606a0ab004f60a7ac917cdef00699",
       "version_major": 2,
       "version_minor": 0
      },
      "text/plain": [
       "HBox(children=(FloatProgress(value=1.0, bar_style='info', max=1.0), HTML(value='')))"
      ]
     },
     "metadata": {},
     "output_type": "display_data"
    },
    {
     "name": "stdout",
     "output_type": "stream",
     "text": [
      "\n",
      "\n",
      "\n",
      "--- Working on 1-to-1 correspondence-----\n",
      "max(original_labels),len(original_labels) = (1, 2)\n",
      "empty_indices % = 0.12188959497741367\n",
      " conflict_indices % = 0.0026797335579205267\n"
     ]
    },
    {
     "data": {
      "application/vnd.jupyter.widget-view+json": {
       "model_id": "bb7eb0e3849b4336a6cde16339dc3b9e",
       "version_major": 2,
       "version_minor": 0
      },
      "text/plain": [
       "HBox(children=(FloatProgress(value=0.0, max=35.0), HTML(value='')))"
      ]
     },
     "metadata": {},
     "output_type": "display_data"
    },
    {
     "name": "stdout",
     "output_type": "stream",
     "text": [
      "\n",
      "AFTER face_lookup_resolved_test\n"
     ]
    },
    {
     "data": {
      "application/vnd.jupyter.widget-view+json": {
       "model_id": "883a0234f40a4d7e94d4647244ad332f",
       "version_major": 2,
       "version_minor": 0
      },
      "text/plain": [
       "HBox(children=(FloatProgress(value=0.0, max=2.0), HTML(value='')))"
      ]
     },
     "metadata": {},
     "output_type": "display_data"
    },
    {
     "name": "stdout",
     "output_type": "stream",
     "text": [
      "\n"
     ]
    },
    {
     "data": {
      "application/vnd.jupyter.widget-view+json": {
       "model_id": "cd840be2d17e4231b2314775c3c4dbed",
       "version_major": 2,
       "version_minor": 0
      },
      "text/plain": [
       "HBox(children=(FloatProgress(value=1.0, bar_style='info', max=1.0), HTML(value='')))"
      ]
     },
     "metadata": {},
     "output_type": "display_data"
    },
    {
     "name": "stdout",
     "output_type": "stream",
     "text": [
      "\n",
      "\n",
      "\n",
      "--- Working on 1-to-1 correspondence-----\n",
      "max(original_labels),len(original_labels) = (2, 3)\n",
      "empty_indices % = 0.3571549305297319\n",
      " conflict_indices % = 0.0011831919137284068\n"
     ]
    },
    {
     "data": {
      "application/vnd.jupyter.widget-view+json": {
       "model_id": "d8b1ab22224c45aa953222f9dc7a2844",
       "version_major": 2,
       "version_minor": 0
      },
      "text/plain": [
       "HBox(children=(FloatProgress(value=0.0, max=24.0), HTML(value='')))"
      ]
     },
     "metadata": {},
     "output_type": "display_data"
    },
    {
     "name": "stdout",
     "output_type": "stream",
     "text": [
      "\n",
      "AFTER face_lookup_resolved_test\n"
     ]
    },
    {
     "data": {
      "application/vnd.jupyter.widget-view+json": {
       "model_id": "3814d23365184bd689634a9288026c22",
       "version_major": 2,
       "version_minor": 0
      },
      "text/plain": [
       "HBox(children=(FloatProgress(value=0.0, max=3.0), HTML(value='')))"
      ]
     },
     "metadata": {},
     "output_type": "display_data"
    },
    {
     "name": "stdout",
     "output_type": "stream",
     "text": [
      "\n",
      "Deleting branches from dictionary\n",
      "MP_branches_with_stitch_point= [1]\n",
      "MP_branches_for_correspondence = [1]\n",
      "MP_leftover = [], MP_leftover_idx = []\n",
      " Finished with (0, 0) \n",
      "\n",
      "\n",
      "\n",
      "\n",
      "---- Working on (1, 0) connection-----\n",
      "sk_conn = [0, 1]\n",
      "conn = [0, 1]\n",
      "winning_vertex = [554672.45529903 825332.96555584 841083.51359406]\n",
      "MP_branches_with_stitch_point = [0, 1]\n",
      "MAP_branches_with_stitch_point = [1]\n",
      "MAP_stitch_point_on_end_or_branch = True\n"
     ]
    },
    {
     "data": {
      "application/vnd.jupyter.widget-view+json": {
       "model_id": "56a798a905934a15ab673d86c4c48bfe",
       "version_major": 2,
       "version_minor": 0
      },
      "text/plain": [
       "HBox(children=(FloatProgress(value=1.0, bar_style='info', max=1.0), HTML(value='')))"
      ]
     },
     "metadata": {},
     "output_type": "display_data"
    },
    {
     "name": "stdout",
     "output_type": "stream",
     "text": [
      "\n",
      "\n",
      "\n",
      "--- Working on 1-to-1 correspondence-----\n",
      "max(original_labels),len(original_labels) = (2, 3)\n",
      "empty_indices % = 0.4445447828585502\n",
      " conflict_indices % = 0.006649700353008784\n"
     ]
    },
    {
     "data": {
      "application/vnd.jupyter.widget-view+json": {
       "model_id": "fbf0e704ec9a49b68a5fae75f515dedf",
       "version_major": 2,
       "version_minor": 0
      },
      "text/plain": [
       "HBox(children=(FloatProgress(value=0.0, max=15.0), HTML(value='')))"
      ]
     },
     "metadata": {},
     "output_type": "display_data"
    },
    {
     "name": "stdout",
     "output_type": "stream",
     "text": [
      "\n",
      "AFTER face_lookup_resolved_test\n"
     ]
    },
    {
     "data": {
      "application/vnd.jupyter.widget-view+json": {
       "model_id": "08753e6722c84d0e93aff9a522c87086",
       "version_major": 2,
       "version_minor": 0
      },
      "text/plain": [
       "HBox(children=(FloatProgress(value=0.0, max=3.0), HTML(value='')))"
      ]
     },
     "metadata": {},
     "output_type": "display_data"
    },
    {
     "name": "stdout",
     "output_type": "stream",
     "text": [
      "\n",
      "MP_branches_with_stitch_point= [0, 1]\n",
      "MP_branches_for_correspondence = [0 1]\n",
      "MP_leftover = [], MP_leftover_idx = []\n",
      " Finished with (1, 0) \n",
      "\n",
      "\n",
      "\n",
      "Time for decomp of Limb = 66.65671873092651\n",
      "Number of matching vertices = 16\n",
      "Only one endpoint after filtering away the endpoints that are not on the skeleton\n",
      "Using Distance measure skeletal_distance\n",
      "endpoints_must_keep = [[597271. 821862. 917430.]]\n",
      "Number of end_nodes BEFORE filtering = 7\n",
      "all_single_nodes_to_eliminate = [6]\n"
     ]
    },
    {
     "data": {
      "application/vnd.jupyter.widget-view+json": {
       "model_id": "12f0022481c847efb077b2caffb0a013",
       "version_major": 2,
       "version_minor": 0
      },
      "text/plain": [
       "HBox(children=(FloatProgress(value=0.0, max=1.0), HTML(value='')))"
      ]
     },
     "metadata": {},
     "output_type": "display_data"
    },
    {
     "name": "stdout",
     "output_type": "stream",
     "text": [
      "\n",
      "Removed 1 skeletal branches\n"
     ]
    },
    {
     "data": {
      "application/vnd.jupyter.widget-view+json": {
       "model_id": "a6de5be048454562b6df091bbada8564",
       "version_major": 2,
       "version_minor": 0
      },
      "text/plain": [
       "HBox(children=(FloatProgress(value=0.0, max=11.0), HTML(value='')))"
      ]
     },
     "metadata": {},
     "output_type": "display_data"
    },
    {
     "name": "stdout",
     "output_type": "stream",
     "text": [
      "\n",
      "69043 69044\n",
      "For marked faces: None\n",
      "empty_indices % = 0.0\n",
      " conflict_indices % = 0.0\n"
     ]
    },
    {
     "data": {
      "application/vnd.jupyter.widget-view+json": {
       "model_id": "1ecb51a4108241b1920332743875acca",
       "version_major": 2,
       "version_minor": 0
      },
      "text/plain": [
       "HBox(children=(FloatProgress(value=1.0, bar_style='info', max=1.0), HTML(value='')))"
      ]
     },
     "metadata": {},
     "output_type": "display_data"
    },
    {
     "name": "stdout",
     "output_type": "stream",
     "text": [
      "\n",
      "AFTER face_lookup_resolved_test\n"
     ]
    },
    {
     "data": {
      "application/vnd.jupyter.widget-view+json": {
       "model_id": "7c49bca670384a3499b2ac556db257e1",
       "version_major": 2,
       "version_minor": 0
      },
      "text/plain": [
       "HBox(children=(FloatProgress(value=0.0, max=9.0), HTML(value='')))"
      ]
     },
     "metadata": {},
     "output_type": "display_data"
    },
    {
     "name": "stderr",
     "output_type": "stream",
     "text": [
      "\r",
      "  0%|          | 0/1 [00:00<?, ?it/s]"
     ]
    },
    {
     "name": "stdout",
     "output_type": "stream",
     "text": [
      "\n",
      "\n",
      "\n",
      "----- Working on Proper Limb # 4 ---------\n",
      "meshparty_segment_size = 100\n",
      "root_curr = [596925. 823935. 921669.]\n",
      "Time for preparing soma vertices and root: 0.0003476142883300781\n",
      "invalidation_d = 12000\n",
      "cc_vertex_thresh = 10\n"
     ]
    },
    {
     "data": {
      "application/vnd.jupyter.widget-view+json": {
       "model_id": "5379ed5b6cdf434e9cc7edd282a02e8d",
       "version_major": 2,
       "version_minor": 0
      },
      "text/plain": [
       "HBox(children=(FloatProgress(value=0.0, max=29220.0), HTML(value='')))"
      ]
     },
     "metadata": {},
     "output_type": "display_data"
    },
    {
     "name": "stderr",
     "output_type": "stream",
     "text": [
      "100%|██████████| 1/1 [00:00<00:00,  6.09it/s]\n"
     ]
    },
    {
     "name": "stdout",
     "output_type": "stream",
     "text": [
      "\n",
      "meshparty_segment_size = 100\n",
      "Time for 1st pass MP skeletonization: 0.4519956111907959\n",
      "branches_touching_root = [2]\n",
      "length of Graph = 2968\n",
      "After combining close endpoints max(kept_branches_idx) = 6, len(kept_branches_idx) = 7\n",
      "empty_indices % = 0.0\n",
      " conflict_indices % = 0.003644490287089565\n"
     ]
    },
    {
     "data": {
      "application/vnd.jupyter.widget-view+json": {
       "model_id": "5f31754da80d421cb2d3b0035cdff13d",
       "version_major": 2,
       "version_minor": 0
      },
      "text/plain": [
       "HBox(children=(FloatProgress(value=0.0, max=3.0), HTML(value='')))"
      ]
     },
     "metadata": {},
     "output_type": "display_data"
    },
    {
     "name": "stdout",
     "output_type": "stream",
     "text": [
      "\n",
      "AFTER face_lookup_resolved_test\n"
     ]
    },
    {
     "data": {
      "application/vnd.jupyter.widget-view+json": {
       "model_id": "a7421fca3e8242ffa4da13e5ba3fa5ce",
       "version_major": 2,
       "version_minor": 0
      },
      "text/plain": [
       "HBox(children=(FloatProgress(value=0.0, max=7.0), HTML(value='')))"
      ]
     },
     "metadata": {},
     "output_type": "display_data"
    },
    {
     "name": "stdout",
     "output_type": "stream",
     "text": [
      "\n",
      "Decomposing first pass: 3.462709903717041\n",
      "Attempting to use MeshAfterParty Skeletonization and Mesh Correspondence\n",
      "Another print\n",
      "Found len(mesh_large_idx) MAP candidates: [7519, 4656, 18647, 5828]\n",
      "mesh_large_connectivity: 0.02113175392150879\n",
      "Finding MAP candidates connected components: 9.632110595703125e-05\n",
      "len(filtered_pieces) = 1\n",
      "skeleton_connectivity_MP : 0.05642056465148926\n",
      "Grouping MP Sublimbs by Graph: 0.010788917541503906\n",
      "Divinding into MP and MAP pieces: 1.1920928955078125e-06\n",
      "--- Working on MAP piece 0---\n",
      "MAP Filtering Soma Pieces: 0.0022690296173095703\n",
      "inside skeletonize_connected_branch and use_surface_after_CGAL=False, surface_reconstruction_size=1000\n",
      "     Starting Screened Poisson\n",
      "xvfb-run -n 4130 -s \"-screen 0 800x600x24\" meshlabserver $@  -i /notebooks/Auto_Proofreading/Preprocessing_Pipeline/temp/None.off -o /notebooks/Auto_Proofreading/Preprocessing_Pipeline/temp/None_poisson.off -s /notebooks/Auto_Proofreading/Preprocessing_Pipeline/temp/poisson_215886.mls\n",
      "removed temporary input file: /notebooks/Auto_Proofreading/Preprocessing_Pipeline/temp/None.off\n",
      "removed temporary output file: /notebooks/Auto_Proofreading/Preprocessing_Pipeline/temp/None_poisson.off\n",
      "Using the close holes feature\n",
      "Mesh was manifold\n",
      "No holes needed to fill and mesh was manifold so returning original mesh\n",
      "-----Time for Screened Poisson= 13.200381994247437\n",
      "mesh_pieces = [<trimesh.Trimesh(vertices.shape=(59802, 3), faces.shape=(119612, 3))>]\n",
      "     Starting Calcification (Changed back where stitches large poissons)\n",
      "min_edge_length = 75\n",
      "node_degrees = [2 2 2 2 3 2 3 2]\n"
     ]
    },
    {
     "data": {
      "application/vnd.jupyter.widget-view+json": {
       "model_id": "0918bdba9f034f2b98ef1b97102ffdab",
       "version_major": 2,
       "version_minor": 0
      },
      "text/plain": [
       "HBox(children=(FloatProgress(value=1.0, bar_style='info', max=1.0), HTML(value='')))"
      ]
     },
     "metadata": {},
     "output_type": "display_data"
    },
    {
     "name": "stdout",
     "output_type": "stream",
     "text": [
      "\n",
      "No skeletons to stack so returning empty list\n",
      "len_subgraphs AT BEGINNING of the loop\n"
     ]
    },
    {
     "data": {
      "application/vnd.jupyter.widget-view+json": {
       "model_id": "214879ac1d2e42728c1bfd1678de9a28",
       "version_major": 2,
       "version_minor": 0
      },
      "text/plain": [
       "HBox(children=(FloatProgress(value=0.0, max=1.0), HTML(value='')))"
      ]
     },
     "metadata": {},
     "output_type": "display_data"
    },
    {
     "name": "stdout",
     "output_type": "stream",
     "text": [
      "all graph is one component!\n",
      "\n",
      "Total time for skeleton stitching = 0.06474733352661133\n",
      "The process was using a temp folder\n",
      "Checking connected components after skeletonize_connected_branch\n",
      "    Total time for skeletonizing branch: 18.07267165184021\n",
      "Checking connected components after removing cycles\n",
      "Total time for mesh KDTree = 0.21586012840270996\n",
      "sbv[0].reshape(-1,3) = [[596925. 823935. 921669.]]\n",
      "closest_sk_pt_coord BEFORE = [596586. 823854. 921192.]\n",
      "current_skeleton.shape = (1422, 2, 3)\n",
      "node_for_stitch = 1422: [596586. 823854. 921192.]\n",
      "node_for_stitch AFTER = 1422: [596586. 823854. 921192.]\n",
      "possible_node_loc = [   0    9   17   20   82   89  104  113  179  258  296  309  318  319\n",
      "  328  333  371  405  422  432  461  504  521  527  535  579  590  620\n",
      "  634  647  655  668  704  716  744  760  767  792  854  856  916  958\n",
      " 1017 1037 1040 1072 1075 1102 1142 1154 1185 1221 1237 1422]\n",
      "possible_node_loc AFTER = [   0    9   17   20   82   89  104  113  179  258  296  309  318  319\n",
      "  328  333  371  405  422  432  461  504  521  527  535  579  590  620\n",
      "  634  647  655  668  704  716  744  760  767  792  854  856  916  958\n",
      " 1017 1037 1040 1072 1075 1102 1142 1154 1185 1221 1237 1422]\n",
      "curr_shortest_path = [1422]\n",
      "Current stitch point was a branch or endpoint\n",
      "change_status for create soma extending pieces = False\n",
      "closest_sk_pt_coord AFTER = [596586. 823854. 921192.]\n",
      "skipping soma 0 because closest skeleton node was already end node\n",
      "endpoints_must_keep = {0: array([[596586., 823854., 921192.]])}\n",
      "    Total time for Fixing Skeleton Soma Endpoint Extension : 0.5702857971191406\n",
      "filter_end_node_length = 4000\n",
      "xvfb-run -n 4130 -s \"-screen 0 800x600x24\" meshlabserver $@  -i /notebooks/Auto_Proofreading/Preprocessing_Pipeline/temp/neuron_58963.off -o /notebooks/Auto_Proofreading/Preprocessing_Pipeline/temp/neuron_58963_remove_interior.off -s /notebooks/Auto_Proofreading/Preprocessing_Pipeline/temp/remove_interior_687127.mls\n",
      "removed temporary input file: /notebooks/Auto_Proofreading/Preprocessing_Pipeline/temp/neuron_58963.off\n",
      "removed temporary output file: /notebooks/Auto_Proofreading/Preprocessing_Pipeline/temp/neuron_58963_remove_interior.off\n",
      "/notebooks/Auto_Proofreading/Preprocessing_Pipeline/temp/remove_interior_687127.mls is being deleted....\n",
      "THERE WERE NO MESH PIECES GREATER THAN THE significance_threshold\n",
      "No significant (100) interior meshes present\n",
      "largest is 85\n",
      "Using Distance measure skeletal_distance\n",
      "endpoints_must_keep = [[596586. 823854. 921192.]\n",
      " [544979. 923632. 895444.]\n",
      " [555102. 856007. 894294.]]\n",
      "Number of end_nodes BEFORE filtering = 54\n",
      "all_single_nodes_to_eliminate = [53, 2, 13]\n"
     ]
    },
    {
     "data": {
      "application/vnd.jupyter.widget-view+json": {
       "model_id": "ce31b6284b2244ecbbd0d0c3f0a535c2",
       "version_major": 2,
       "version_minor": 0
      },
      "text/plain": [
       "HBox(children=(FloatProgress(value=0.0, max=51.0), HTML(value='')))"
      ]
     },
     "metadata": {},
     "output_type": "display_data"
    },
    {
     "name": "stdout",
     "output_type": "stream",
     "text": [
      "\n",
      "Checking connected components after clean_skeleton\n",
      "after DISTANCE cleaning limb size of skeleton = (1112, 2, 3)\n",
      "********COMBINING CLOSE SKELETON NODES WITHIN 700 DISTANCE**********\n",
      "Found 0 valid paths to replace\n",
      "valid_paths = []\n",
      "valid_path_lengths = []\n",
      "No valid paths found so just returning the original\n",
      "skeletonize_and_clean_connected_branch_CGAL: 26.739638566970825\n",
      "Working on limb correspondence for #0 MAP piece\n",
      "xvfb-run -n 4130 -s \"-screen 0 800x600x24\" meshlabserver $@  -i /notebooks/Auto_Proofreading/Preprocessing_Pipeline/temp/neuron_41797.off -o /notebooks/Auto_Proofreading/Preprocessing_Pipeline/temp/neuron_41797_remove_interior.off -s /notebooks/Auto_Proofreading/Preprocessing_Pipeline/temp/remove_interior_140036.mls\n",
      "removed temporary input file: /notebooks/Auto_Proofreading/Preprocessing_Pipeline/temp/neuron_41797.off\n",
      "removed temporary output file: /notebooks/Auto_Proofreading/Preprocessing_Pipeline/temp/neuron_41797_remove_interior.off\n",
      "/notebooks/Auto_Proofreading/Preprocessing_Pipeline/temp/remove_interior_140036.mls is being deleted....\n",
      "THERE WERE NO MESH PIECES GREATER THAN THE significance_threshold\n",
      "No significant (100) interior meshes present\n",
      "largest is 85\n"
     ]
    },
    {
     "data": {
      "application/vnd.jupyter.widget-view+json": {
       "model_id": "cb558e0d971d4d209e8efc41c7417cfa",
       "version_major": 2,
       "version_minor": 0
      },
      "text/plain": [
       "HBox(children=(FloatProgress(value=1.0, bar_style='info', max=1.0), HTML(value='')))"
      ]
     },
     "metadata": {},
     "output_type": "display_data"
    },
    {
     "name": "stdout",
     "output_type": "stream",
     "text": [
      "\n",
      "Total time for decomposition = 6.065084457397461\n",
      "mesh_correspondence_first_pass: 6.065117597579956\n",
      "Limb decomposed into 3 branches\n",
      "divided_skeleton_graph_recovered = (1112, 2, 3) and \n",
      "current_mesh_data[0]['branch_skeletons_cleaned'].shape = (1112, 2, 3)\n",
      "\n",
      "Number of connected components in deocmposed recovered graph = 1\n",
      "Number of connected components in cleaned skeleton graph= 1\n",
      "The downsampled branches number of connected components = 1\n",
      "Empty submeshes = []\n",
      "\n",
      "\n",
      "--- Working on 1-to-1 correspondence-----\n",
      "max(original_labels),len(original_labels) = (2, 3)\n",
      "empty_indices % = 0.15025920873124146\n",
      " conflict_indices % = 0.010231923601637109\n"
     ]
    },
    {
     "data": {
      "application/vnd.jupyter.widget-view+json": {
       "model_id": "1794c2156c6a470d92104ecfd3a146f6",
       "version_major": 2,
       "version_minor": 0
      },
      "text/plain": [
       "HBox(children=(FloatProgress(value=0.0, max=93.0), HTML(value='')))"
      ]
     },
     "metadata": {},
     "output_type": "display_data"
    },
    {
     "name": "stdout",
     "output_type": "stream",
     "text": [
      "\n",
      "AFTER face_lookup_resolved_test\n",
      "Took 0 iterations to expand the label back\n",
      "empty_indices % = 0.0\n",
      " conflict_indices % = 0.0\n"
     ]
    },
    {
     "data": {
      "application/vnd.jupyter.widget-view+json": {
       "model_id": "0c6903c7bf0d44a0a393b2349bd28350",
       "version_major": 2,
       "version_minor": 0
      },
      "text/plain": [
       "HBox(children=(FloatProgress(value=1.0, bar_style='info', max=1.0), HTML(value='')))"
      ]
     },
     "metadata": {},
     "output_type": "display_data"
    },
    {
     "name": "stdout",
     "output_type": "stream",
     "text": [
      "\n",
      "AFTER face_lookup_resolved_test\n"
     ]
    },
    {
     "data": {
      "application/vnd.jupyter.widget-view+json": {
       "model_id": "8c7b663fcc1e44288c9ea018d168db17",
       "version_major": 2,
       "version_minor": 0
      },
      "text/plain": [
       "HBox(children=(FloatProgress(value=0.0, max=3.0), HTML(value='')))"
      ]
     },
     "metadata": {},
     "output_type": "display_data"
    },
    {
     "name": "stdout",
     "output_type": "stream",
     "text": [
      "\n",
      "Total time for MAP sublimb #0 mesh processing = 35.91443228721619\n",
      "correspondence_1_to_1: 3.1073412895202637\n",
      "Total time for MAP sublimb processing 35.91453456878662\n",
      "---- Working on MP Decomposition #0 ----\n",
      "Computing the current soma touching verts dict manually\n",
      "MP filtering soma verts: 0.0011472702026367188\n",
      "Do Not Need to Fix MP Decomposition 0 so just continuing\n",
      "---- Working on MP Decomposition #1 ----\n",
      "Computing the current soma touching verts dict manually\n",
      "MP filtering soma verts: 0.0006651878356933594\n",
      "Do Not Need to Fix MP Decomposition 1 so just continuing\n",
      "Successful mesh connectivity with type edges\n",
      "\n",
      "---- Working on (0, 0) connection-----\n",
      "sk_conn = [0, 1]\n",
      "conn = [0, 1]\n",
      "winning_vertex = [555148.89384564 855974.12974319 893808.62756725]\n",
      "MP_branches_with_stitch_point = [0, 1]\n",
      "MAP_branches_with_stitch_point = [1]\n",
      "MAP_stitch_point_on_end_or_branch = True\n"
     ]
    },
    {
     "data": {
      "application/vnd.jupyter.widget-view+json": {
       "model_id": "9444300a36714fb8968293d8961e6eed",
       "version_major": 2,
       "version_minor": 0
      },
      "text/plain": [
       "HBox(children=(FloatProgress(value=1.0, bar_style='info', max=1.0), HTML(value='')))"
      ]
     },
     "metadata": {},
     "output_type": "display_data"
    },
    {
     "name": "stdout",
     "output_type": "stream",
     "text": [
      "\n",
      "\n",
      "\n",
      "--- Working on 1-to-1 correspondence-----\n",
      "max(original_labels),len(original_labels) = (2, 3)\n",
      "empty_indices % = 0.1404702181029718\n",
      " conflict_indices % = 0.009055737426129841\n"
     ]
    },
    {
     "data": {
      "application/vnd.jupyter.widget-view+json": {
       "model_id": "59f463223db24754bf7825ea1babb1d9",
       "version_major": 2,
       "version_minor": 0
      },
      "text/plain": [
       "HBox(children=(FloatProgress(value=0.0, max=58.0), HTML(value='')))"
      ]
     },
     "metadata": {},
     "output_type": "display_data"
    },
    {
     "name": "stdout",
     "output_type": "stream",
     "text": [
      "\n",
      "AFTER face_lookup_resolved_test\n"
     ]
    },
    {
     "data": {
      "application/vnd.jupyter.widget-view+json": {
       "model_id": "ffc18ecb28df46909dab9acff8c75a7a",
       "version_major": 2,
       "version_minor": 0
      },
      "text/plain": [
       "HBox(children=(FloatProgress(value=0.0, max=3.0), HTML(value='')))"
      ]
     },
     "metadata": {},
     "output_type": "display_data"
    },
    {
     "name": "stdout",
     "output_type": "stream",
     "text": [
      "\n",
      "MP_branches_with_stitch_point= [0, 1]\n",
      "MP_branches_for_correspondence = [0 1]\n",
      "MP_leftover = [], MP_leftover_idx = []\n",
      " Finished with (0, 0) \n",
      "\n",
      "\n",
      "\n",
      "\n",
      "---- Working on (1, 0) connection-----\n",
      "sk_conn = [0]\n",
      "conn = [0]\n",
      "winning_vertex = [571727.30409185 861919.40488365 915911.47868893]\n",
      "MP_branches_with_stitch_point = [0]\n",
      "MAP_branches_with_stitch_point = [0]\n",
      "MAP_stitch_point_on_end_or_branch = False\n"
     ]
    },
    {
     "data": {
      "application/vnd.jupyter.widget-view+json": {
       "model_id": "d500c673a58f4968ba740b007673d177",
       "version_major": 2,
       "version_minor": 0
      },
      "text/plain": [
       "HBox(children=(FloatProgress(value=1.0, bar_style='info', max=1.0), HTML(value='')))"
      ]
     },
     "metadata": {},
     "output_type": "display_data"
    },
    {
     "name": "stdout",
     "output_type": "stream",
     "text": [
      "\n",
      "\n",
      "\n",
      "--- Working on 1-to-1 correspondence-----\n",
      "max(original_labels),len(original_labels) = (1, 2)\n",
      "empty_indices % = 0.18727354150551642\n",
      " conflict_indices % = 0.0006106745918658145\n"
     ]
    },
    {
     "data": {
      "application/vnd.jupyter.widget-view+json": {
       "model_id": "7b24039126b9413abaea473478cdea96",
       "version_major": 2,
       "version_minor": 0
      },
      "text/plain": [
       "HBox(children=(FloatProgress(value=0.0, max=68.0), HTML(value='')))"
      ]
     },
     "metadata": {},
     "output_type": "display_data"
    },
    {
     "name": "stdout",
     "output_type": "stream",
     "text": [
      "\n",
      "AFTER face_lookup_resolved_test\n"
     ]
    },
    {
     "data": {
      "application/vnd.jupyter.widget-view+json": {
       "model_id": "38b2562038b24fd39f7de860b68b5458",
       "version_major": 2,
       "version_minor": 0
      },
      "text/plain": [
       "HBox(children=(FloatProgress(value=0.0, max=2.0), HTML(value='')))"
      ]
     },
     "metadata": {},
     "output_type": "display_data"
    },
    {
     "name": "stdout",
     "output_type": "stream",
     "text": [
      "\n"
     ]
    },
    {
     "data": {
      "application/vnd.jupyter.widget-view+json": {
       "model_id": "00bb50c6088e47da8c7ae50d06442203",
       "version_major": 2,
       "version_minor": 0
      },
      "text/plain": [
       "HBox(children=(FloatProgress(value=1.0, bar_style='info', max=1.0), HTML(value='')))"
      ]
     },
     "metadata": {},
     "output_type": "display_data"
    },
    {
     "name": "stdout",
     "output_type": "stream",
     "text": [
      "\n",
      "\n",
      "\n",
      "--- Working on 1-to-1 correspondence-----\n",
      "max(original_labels),len(original_labels) = (2, 3)\n",
      "empty_indices % = 0.18275896381306178\n",
      " conflict_indices % = 0.012471392085973\n"
     ]
    },
    {
     "data": {
      "application/vnd.jupyter.widget-view+json": {
       "model_id": "541cffa125604456b3d82e1fff5b0ebe",
       "version_major": 2,
       "version_minor": 0
      },
      "text/plain": [
       "HBox(children=(FloatProgress(value=0.0, max=22.0), HTML(value='')))"
      ]
     },
     "metadata": {},
     "output_type": "display_data"
    },
    {
     "name": "stdout",
     "output_type": "stream",
     "text": [
      "\n",
      "AFTER face_lookup_resolved_test\n"
     ]
    },
    {
     "data": {
      "application/vnd.jupyter.widget-view+json": {
       "model_id": "d1c5ba4ac8a742e5b2b02def4043e51f",
       "version_major": 2,
       "version_minor": 0
      },
      "text/plain": [
       "HBox(children=(FloatProgress(value=0.0, max=3.0), HTML(value='')))"
      ]
     },
     "metadata": {},
     "output_type": "display_data"
    },
    {
     "name": "stdout",
     "output_type": "stream",
     "text": [
      "\n",
      "Deleting branches from dictionary\n",
      "MP_branches_with_stitch_point= [0]\n",
      "MP_branches_for_correspondence = [0]\n",
      "MP_leftover = [], MP_leftover_idx = []\n",
      " Finished with (1, 0) \n",
      "\n",
      "\n",
      "\n",
      "Time for decomp of Limb = 51.56703162193298\n",
      "Number of matching vertices = 25\n",
      "Only one endpoint after filtering away the endpoints that are not on the skeleton\n",
      "Using Distance measure skeletal_distance\n",
      "endpoints_must_keep = [[596586. 823854. 921192.]]\n",
      "Number of end_nodes BEFORE filtering = 5\n",
      "all_single_nodes_to_eliminate = [4]\n",
      "no small end nodes to get rid of so returning whole skeleton\n",
      "Removed 0 skeletal branches\n"
     ]
    },
    {
     "data": {
      "application/vnd.jupyter.widget-view+json": {
       "model_id": "2eac9b6a498b470b801e7a87c27d7e93",
       "version_major": 2,
       "version_minor": 0
      },
      "text/plain": [
       "HBox(children=(FloatProgress(value=0.0, max=7.0), HTML(value='')))"
      ]
     },
     "metadata": {},
     "output_type": "display_data"
    },
    {
     "name": "stdout",
     "output_type": "stream",
     "text": [
      "\n",
      "58169 58170\n",
      "For marked faces: None\n",
      "empty_indices % = 0.0\n",
      " conflict_indices % = 0.0\n"
     ]
    },
    {
     "data": {
      "application/vnd.jupyter.widget-view+json": {
       "model_id": "059c4249f1274675af3570adcd7b0388",
       "version_major": 2,
       "version_minor": 0
      },
      "text/plain": [
       "HBox(children=(FloatProgress(value=1.0, bar_style='info', max=1.0), HTML(value='')))"
      ]
     },
     "metadata": {},
     "output_type": "display_data"
    },
    {
     "name": "stdout",
     "output_type": "stream",
     "text": [
      "\n",
      "AFTER face_lookup_resolved_test\n"
     ]
    },
    {
     "data": {
      "application/vnd.jupyter.widget-view+json": {
       "model_id": "6f5dc4116a764363abbca48ee1fe9bf4",
       "version_major": 2,
       "version_minor": 0
      },
      "text/plain": [
       "HBox(children=(FloatProgress(value=0.0, max=7.0), HTML(value='')))"
      ]
     },
     "metadata": {},
     "output_type": "display_data"
    },
    {
     "name": "stderr",
     "output_type": "stream",
     "text": [
      "\r",
      "  0%|          | 0/1 [00:00<?, ?it/s]"
     ]
    },
    {
     "name": "stdout",
     "output_type": "stream",
     "text": [
      "\n",
      "\n",
      "\n",
      "----- Working on Proper Limb # 5 ---------\n",
      "meshparty_segment_size = 100\n",
      "root_curr = [614772.1 818025.6 921764.9]\n",
      "Time for preparing soma vertices and root: 0.00024390220642089844\n",
      "invalidation_d = 12000\n",
      "cc_vertex_thresh = 10\n"
     ]
    },
    {
     "data": {
      "application/vnd.jupyter.widget-view+json": {
       "model_id": "cb526ed06d4145419f7ef00c33689d8c",
       "version_major": 2,
       "version_minor": 0
      },
      "text/plain": [
       "HBox(children=(FloatProgress(value=0.0, max=28582.0), HTML(value='')))"
      ]
     },
     "metadata": {},
     "output_type": "display_data"
    },
    {
     "name": "stderr",
     "output_type": "stream",
     "text": [
      "100%|██████████| 1/1 [00:00<00:00,  7.13it/s]\n"
     ]
    },
    {
     "name": "stdout",
     "output_type": "stream",
     "text": [
      "\n",
      "meshparty_segment_size = 100\n",
      "Time for 1st pass MP skeletonization: 0.46420836448669434\n",
      "connecting at the root\n",
      "branches_touching_root = [2]\n",
      "length of Graph = 3180\n",
      "After combining close endpoints max(kept_branches_idx) = 2, len(kept_branches_idx) = 3\n",
      "empty_indices % = 0.0\n",
      " conflict_indices % = 0.0013855516775698475\n"
     ]
    },
    {
     "data": {
      "application/vnd.jupyter.widget-view+json": {
       "model_id": "e7246a075e8d4a0c89c09277441bca06",
       "version_major": 2,
       "version_minor": 0
      },
      "text/plain": [
       "HBox(children=(FloatProgress(value=0.0, max=1.0), HTML(value='')))"
      ]
     },
     "metadata": {},
     "output_type": "display_data"
    },
    {
     "name": "stdout",
     "output_type": "stream",
     "text": [
      "\n",
      "AFTER face_lookup_resolved_test\n"
     ]
    },
    {
     "data": {
      "application/vnd.jupyter.widget-view+json": {
       "model_id": "ac46e2910056421e9920ca3d112546bc",
       "version_major": 2,
       "version_minor": 0
      },
      "text/plain": [
       "HBox(children=(FloatProgress(value=0.0, max=3.0), HTML(value='')))"
      ]
     },
     "metadata": {},
     "output_type": "display_data"
    },
    {
     "name": "stdout",
     "output_type": "stream",
     "text": [
      "\n",
      "Decomposing first pass: 3.563711166381836\n",
      "Attempting to use MeshAfterParty Skeletonization and Mesh Correspondence\n",
      "Another print\n",
      "Found len(mesh_large_idx) MAP candidates: [23605, 25822]\n",
      "mesh_large_connectivity: 0.01053929328918457\n",
      "Finding MAP candidates connected components: 0.00010251998901367188\n",
      "len(filtered_pieces) = 1\n",
      "skeleton_connectivity_MP : 0.0327601432800293\n",
      "Grouping MP Sublimbs by Graph: 0.004033327102661133\n",
      "Divinding into MP and MAP pieces: 9.5367431640625e-07\n",
      "--- Working on MAP piece 0---\n",
      "MAP Filtering Soma Pieces: 0.004187583923339844\n",
      "inside skeletonize_connected_branch and use_surface_after_CGAL=False, surface_reconstruction_size=1000\n",
      "     Starting Screened Poisson\n",
      "xvfb-run -n 4130 -s \"-screen 0 800x600x24\" meshlabserver $@  -i /notebooks/Auto_Proofreading/Preprocessing_Pipeline/temp/None.off -o /notebooks/Auto_Proofreading/Preprocessing_Pipeline/temp/None_poisson.off -s /notebooks/Auto_Proofreading/Preprocessing_Pipeline/temp/poisson_161234.mls\n",
      "removed temporary input file: /notebooks/Auto_Proofreading/Preprocessing_Pipeline/temp/None.off\n",
      "removed temporary output file: /notebooks/Auto_Proofreading/Preprocessing_Pipeline/temp/None_poisson.off\n",
      "Using the close holes feature\n",
      "Mesh was manifold\n",
      "No holes needed to fill and mesh was manifold so returning original mesh\n",
      "-----Time for Screened Poisson= 15.135194301605225\n",
      "mesh_pieces = [<trimesh.Trimesh(vertices.shape=(78817, 3), faces.shape=(157654, 3))>]\n",
      "     Starting Calcification (Changed back where stitches large poissons)\n",
      "min_edge_length = 75\n"
     ]
    },
    {
     "data": {
      "application/vnd.jupyter.widget-view+json": {
       "model_id": "c5ab749971f44c9a80eb30d57e6d6079",
       "version_major": 2,
       "version_minor": 0
      },
      "text/plain": [
       "HBox(children=(FloatProgress(value=1.0, bar_style='info', max=1.0), HTML(value='')))"
      ]
     },
     "metadata": {},
     "output_type": "display_data"
    },
    {
     "name": "stdout",
     "output_type": "stream",
     "text": [
      "\n",
      "No skeletons to stack so returning empty list\n",
      "len_subgraphs AT BEGINNING of the loop\n"
     ]
    },
    {
     "data": {
      "application/vnd.jupyter.widget-view+json": {
       "model_id": "6a54cd15a0694c32b00295fdd652060b",
       "version_major": 2,
       "version_minor": 0
      },
      "text/plain": [
       "HBox(children=(FloatProgress(value=0.0, max=1.0), HTML(value='')))"
      ]
     },
     "metadata": {},
     "output_type": "display_data"
    },
    {
     "name": "stdout",
     "output_type": "stream",
     "text": [
      "all graph is one component!\n",
      "\n",
      "Total time for skeleton stitching = 0.09308910369873047\n",
      "The process was using a temp folder\n",
      "Checking connected components after skeletonize_connected_branch\n",
      "    Total time for skeletonizing branch: 21.65604281425476\n",
      "Checking connected components after removing cycles\n",
      "Total time for mesh KDTree = 0.279921293258667\n",
      "sbv[0].reshape(-1,3) = [[614772.1 818025.6 921764.9]]\n",
      "closest_sk_pt_coord BEFORE = [615359. 818705. 920983.]\n",
      "current_skeleton.shape = (2117, 2, 3)\n",
      "node_for_stitch = 0: [615359. 818705. 920983.]\n",
      "node_for_stitch AFTER = 0: [615359. 818705. 920983.]\n",
      "possible_node_loc = [   0  226  227  258  260  327  342  356  359  391  405  452  461  469\n",
      "  614  683  709  724  744  838  882  893  929  937  939  940  946  962\n",
      " 1018 1088 1094 1104 1155 1186 1188 1190 1200 1216 1242 1259 1288 1305\n",
      " 1333 1396 1409 1424 1451 1499 1500 1537 1555 1567 1580 1599 1651 1681\n",
      " 1768 1790 1796 1798 1863 1886 1910 1958 1960 1963 1995 2027 2064 2068\n",
      " 2087 2116]\n",
      "possible_node_loc AFTER = [   0  226  227  258  260  327  342  356  359  391  405  452  461  469\n",
      "  614  683  709  724  744  838  882  893  929  937  939  940  946  962\n",
      " 1018 1088 1094 1104 1155 1186 1188 1190 1200 1216 1242 1259 1288 1305\n",
      " 1333 1396 1409 1424 1451 1499 1500 1537 1555 1567 1580 1599 1651 1681\n",
      " 1768 1790 1796 1798 1863 1886 1910 1958 1960 1963 1995 2027 2064 2068\n",
      " 2087 2116]\n",
      "curr_shortest_path = [0]\n",
      "Current stitch point was a branch or endpoint\n",
      "change_status for create soma extending pieces = False\n",
      "closest_sk_pt_coord AFTER = [615359. 818705. 920983.]\n",
      "skipping soma 0 because closest skeleton node was already end node\n",
      "endpoints_must_keep = {0: array([[615359., 818705., 920983.]])}\n",
      "    Total time for Fixing Skeleton Soma Endpoint Extension : 0.845752477645874\n",
      "filter_end_node_length = 4000\n",
      "xvfb-run -n 4130 -s \"-screen 0 800x600x24\" meshlabserver $@  -i /notebooks/Auto_Proofreading/Preprocessing_Pipeline/temp/neuron_81610.off -o /notebooks/Auto_Proofreading/Preprocessing_Pipeline/temp/neuron_81610_remove_interior.off -s /notebooks/Auto_Proofreading/Preprocessing_Pipeline/temp/remove_interior_602998.mls\n",
      "removed temporary input file: /notebooks/Auto_Proofreading/Preprocessing_Pipeline/temp/neuron_81610.off\n",
      "removed temporary output file: /notebooks/Auto_Proofreading/Preprocessing_Pipeline/temp/neuron_81610_remove_interior.off\n",
      "/notebooks/Auto_Proofreading/Preprocessing_Pipeline/temp/remove_interior_602998.mls is being deleted....\n",
      "THERE WERE NO MESH PIECES GREATER THAN THE significance_threshold\n",
      "No significant (100) interior meshes present\n",
      "largest is 78\n",
      "Using Distance measure skeletal_distance\n",
      "endpoints_must_keep = [[615359. 818705. 920983.]\n",
      " [615359. 818705. 920983.]\n",
      " [697180. 867441. 975335.]]\n",
      "Number of end_nodes BEFORE filtering = 72\n",
      "all_single_nodes_to_eliminate = [0, 0, 71]\n"
     ]
    },
    {
     "data": {
      "application/vnd.jupyter.widget-view+json": {
       "model_id": "ec93d20b29744297a3f5a66c445a7977",
       "version_major": 2,
       "version_minor": 0
      },
      "text/plain": [
       "HBox(children=(FloatProgress(value=0.0, max=69.0), HTML(value='')))"
      ]
     },
     "metadata": {},
     "output_type": "display_data"
    },
    {
     "name": "stdout",
     "output_type": "stream",
     "text": [
      "\n",
      "Checking connected components after clean_skeleton\n",
      "after DISTANCE cleaning limb size of skeleton = (1783, 2, 3)\n",
      "********COMBINING CLOSE SKELETON NODES WITHIN 700 DISTANCE**********\n",
      "Found 0 valid paths to replace\n",
      "valid_paths = []\n",
      "valid_path_lengths = []\n",
      "No valid paths found so just returning the original\n",
      "skeletonize_and_clean_connected_branch_CGAL: 35.508174896240234\n",
      "Working on limb correspondence for #0 MAP piece\n",
      "xvfb-run -n 4130 -s \"-screen 0 800x600x24\" meshlabserver $@  -i /notebooks/Auto_Proofreading/Preprocessing_Pipeline/temp/neuron_15447.off -o /notebooks/Auto_Proofreading/Preprocessing_Pipeline/temp/neuron_15447_remove_interior.off -s /notebooks/Auto_Proofreading/Preprocessing_Pipeline/temp/remove_interior_348923.mls\n",
      "removed temporary input file: /notebooks/Auto_Proofreading/Preprocessing_Pipeline/temp/neuron_15447.off\n",
      "removed temporary output file: /notebooks/Auto_Proofreading/Preprocessing_Pipeline/temp/neuron_15447_remove_interior.off\n",
      "/notebooks/Auto_Proofreading/Preprocessing_Pipeline/temp/remove_interior_348923.mls is being deleted....\n",
      "THERE WERE NO MESH PIECES GREATER THAN THE significance_threshold\n",
      "No significant (100) interior meshes present\n",
      "largest is 78\n"
     ]
    },
    {
     "data": {
      "application/vnd.jupyter.widget-view+json": {
       "model_id": "07117d19eaa4417f8af2736732238688",
       "version_major": 2,
       "version_minor": 0
      },
      "text/plain": [
       "HBox(children=(FloatProgress(value=1.0, bar_style='info', max=1.0), HTML(value='')))"
      ]
     },
     "metadata": {},
     "output_type": "display_data"
    },
    {
     "name": "stdout",
     "output_type": "stream",
     "text": [
      "\n",
      "Total time for decomposition = 9.210224628448486\n",
      "mesh_correspondence_first_pass: 9.210259914398193\n",
      "Limb decomposed into 3 branches\n",
      "divided_skeleton_graph_recovered = (1783, 2, 3) and \n",
      "current_mesh_data[0]['branch_skeletons_cleaned'].shape = (1783, 2, 3)\n",
      "\n",
      "Number of connected components in deocmposed recovered graph = 1\n",
      "Number of connected components in cleaned skeleton graph= 1\n",
      "The downsampled branches number of connected components = 1\n",
      "Empty submeshes = []\n",
      "\n",
      "\n",
      "--- Working on 1-to-1 correspondence-----\n",
      "max(original_labels),len(original_labels) = (2, 3)\n",
      "empty_indices % = 0.15291237582697717\n",
      " conflict_indices % = 0.009165031258219191\n"
     ]
    },
    {
     "data": {
      "application/vnd.jupyter.widget-view+json": {
       "model_id": "d442d0743d074505853e6c08ed34a9fc",
       "version_major": 2,
       "version_minor": 0
      },
      "text/plain": [
       "HBox(children=(FloatProgress(value=0.0, max=131.0), HTML(value='')))"
      ]
     },
     "metadata": {},
     "output_type": "display_data"
    },
    {
     "name": "stdout",
     "output_type": "stream",
     "text": [
      "\n",
      "AFTER face_lookup_resolved_test\n",
      "Took 0 iterations to expand the label back\n",
      "empty_indices % = 0.0\n",
      " conflict_indices % = 0.0\n"
     ]
    },
    {
     "data": {
      "application/vnd.jupyter.widget-view+json": {
       "model_id": "85aa43acf4d041408938735945dd9444",
       "version_major": 2,
       "version_minor": 0
      },
      "text/plain": [
       "HBox(children=(FloatProgress(value=1.0, bar_style='info', max=1.0), HTML(value='')))"
      ]
     },
     "metadata": {},
     "output_type": "display_data"
    },
    {
     "name": "stdout",
     "output_type": "stream",
     "text": [
      "\n",
      "AFTER face_lookup_resolved_test\n"
     ]
    },
    {
     "data": {
      "application/vnd.jupyter.widget-view+json": {
       "model_id": "2ec5503ed16247a09aea537af6af61cd",
       "version_major": 2,
       "version_minor": 0
      },
      "text/plain": [
       "HBox(children=(FloatProgress(value=0.0, max=3.0), HTML(value='')))"
      ]
     },
     "metadata": {},
     "output_type": "display_data"
    },
    {
     "name": "stdout",
     "output_type": "stream",
     "text": [
      "\n",
      "Total time for MAP sublimb #0 mesh processing = 48.671783447265625\n",
      "correspondence_1_to_1: 3.9491000175476074\n",
      "Total time for MAP sublimb processing 48.671891927719116\n",
      "---- Working on MP Decomposition #0 ----\n",
      "Computing the current soma touching verts dict manually\n",
      "MP filtering soma verts: 0.005158901214599609\n",
      "Do Not Need to Fix MP Decomposition 0 so just continuing\n",
      "Successful mesh connectivity with type edges\n",
      "\n",
      "---- Working on (0, 0) connection-----\n",
      "sk_conn = [0]\n",
      "conn = [0]\n",
      "winning_vertex = [617654.43277847 836958.21655021 910576.18479659]\n",
      "MP_branches_with_stitch_point = [0]\n",
      "MAP_branches_with_stitch_point = [1]\n",
      "MAP_stitch_point_on_end_or_branch = False\n"
     ]
    },
    {
     "data": {
      "application/vnd.jupyter.widget-view+json": {
       "model_id": "96cf881982e44e1cae501afa7b9ef4dd",
       "version_major": 2,
       "version_minor": 0
      },
      "text/plain": [
       "HBox(children=(FloatProgress(value=1.0, bar_style='info', max=1.0), HTML(value='')))"
      ]
     },
     "metadata": {},
     "output_type": "display_data"
    },
    {
     "name": "stdout",
     "output_type": "stream",
     "text": [
      "\n",
      "\n",
      "\n",
      "--- Working on 1-to-1 correspondence-----\n",
      "max(original_labels),len(original_labels) = (1, 2)\n",
      "empty_indices % = 0.14131689023510746\n",
      " conflict_indices % = 0.003209288908120583\n"
     ]
    },
    {
     "data": {
      "application/vnd.jupyter.widget-view+json": {
       "model_id": "034762386ada4e5196d639513699aac7",
       "version_major": 2,
       "version_minor": 0
      },
      "text/plain": [
       "HBox(children=(FloatProgress(value=0.0, max=67.0), HTML(value='')))"
      ]
     },
     "metadata": {},
     "output_type": "display_data"
    },
    {
     "name": "stdout",
     "output_type": "stream",
     "text": [
      "\n",
      "AFTER face_lookup_resolved_test\n"
     ]
    },
    {
     "data": {
      "application/vnd.jupyter.widget-view+json": {
       "model_id": "00823b55d88f4b2d855111e636977b55",
       "version_major": 2,
       "version_minor": 0
      },
      "text/plain": [
       "HBox(children=(FloatProgress(value=0.0, max=2.0), HTML(value='')))"
      ]
     },
     "metadata": {},
     "output_type": "display_data"
    },
    {
     "name": "stdout",
     "output_type": "stream",
     "text": [
      "\n"
     ]
    },
    {
     "data": {
      "application/vnd.jupyter.widget-view+json": {
       "model_id": "b9f55c64a682464a9fd2af66d4ed4a0e",
       "version_major": 2,
       "version_minor": 0
      },
      "text/plain": [
       "HBox(children=(FloatProgress(value=1.0, bar_style='info', max=1.0), HTML(value='')))"
      ]
     },
     "metadata": {},
     "output_type": "display_data"
    },
    {
     "name": "stdout",
     "output_type": "stream",
     "text": [
      "\n",
      "\n",
      "\n",
      "--- Working on 1-to-1 correspondence-----\n",
      "max(original_labels),len(original_labels) = (2, 3)\n",
      "empty_indices % = 0.16451503312383217\n",
      " conflict_indices % = 0.010220259328463847\n"
     ]
    },
    {
     "data": {
      "application/vnd.jupyter.widget-view+json": {
       "model_id": "b5bb6dfcec1b4209bbd81edb22be02bd",
       "version_major": 2,
       "version_minor": 0
      },
      "text/plain": [
       "HBox(children=(FloatProgress(value=0.0, max=32.0), HTML(value='')))"
      ]
     },
     "metadata": {},
     "output_type": "display_data"
    },
    {
     "name": "stdout",
     "output_type": "stream",
     "text": [
      "\n",
      "AFTER face_lookup_resolved_test\n"
     ]
    },
    {
     "data": {
      "application/vnd.jupyter.widget-view+json": {
       "model_id": "b2123640c65d47de9629c0ff8f04e67e",
       "version_major": 2,
       "version_minor": 0
      },
      "text/plain": [
       "HBox(children=(FloatProgress(value=0.0, max=3.0), HTML(value='')))"
      ]
     },
     "metadata": {},
     "output_type": "display_data"
    },
    {
     "name": "stdout",
     "output_type": "stream",
     "text": [
      "\n",
      "Deleting branches from dictionary\n",
      "MP_branches_with_stitch_point= [0]\n",
      "MP_branches_for_correspondence = [0]\n",
      "MP_leftover = [], MP_leftover_idx = []\n",
      " Finished with (0, 0) \n",
      "\n",
      "\n",
      "\n",
      "Time for decomp of Limb = 64.3242998123169\n",
      "Number of matching vertices = 23\n",
      "Only one endpoint after filtering away the endpoints that are not on the skeleton\n",
      "Using Distance measure skeletal_distance\n",
      "endpoints_must_keep = [[615359. 818705. 920983.]]\n",
      "Number of end_nodes BEFORE filtering = 4\n",
      "all_single_nodes_to_eliminate = [1]\n",
      "no small end nodes to get rid of so returning whole skeleton\n",
      "Removed 0 skeletal branches\n"
     ]
    },
    {
     "data": {
      "application/vnd.jupyter.widget-view+json": {
       "model_id": "0691680bb6b54bf484483e52fbc4b3a3",
       "version_major": 2,
       "version_minor": 0
      },
      "text/plain": [
       "HBox(children=(FloatProgress(value=0.0, max=5.0), HTML(value='')))"
      ]
     },
     "metadata": {},
     "output_type": "display_data"
    },
    {
     "name": "stdout",
     "output_type": "stream",
     "text": [
      "\n",
      "57016 57017\n",
      "For marked faces: None\n",
      "empty_indices % = 0.0\n",
      " conflict_indices % = 0.0\n"
     ]
    },
    {
     "data": {
      "application/vnd.jupyter.widget-view+json": {
       "model_id": "5d97e50581f24a0299f9bbbd1200982a",
       "version_major": 2,
       "version_minor": 0
      },
      "text/plain": [
       "HBox(children=(FloatProgress(value=1.0, bar_style='info', max=1.0), HTML(value='')))"
      ]
     },
     "metadata": {},
     "output_type": "display_data"
    },
    {
     "name": "stdout",
     "output_type": "stream",
     "text": [
      "\n",
      "AFTER face_lookup_resolved_test\n"
     ]
    },
    {
     "data": {
      "application/vnd.jupyter.widget-view+json": {
       "model_id": "07ed1ef148fa44909644b6d80e0575cb",
       "version_major": 2,
       "version_minor": 0
      },
      "text/plain": [
       "HBox(children=(FloatProgress(value=0.0, max=5.0), HTML(value='')))"
      ]
     },
     "metadata": {},
     "output_type": "display_data"
    },
    {
     "name": "stderr",
     "output_type": "stream",
     "text": [
      "\r",
      "  0%|          | 0/1 [00:00<?, ?it/s]"
     ]
    },
    {
     "name": "stdout",
     "output_type": "stream",
     "text": [
      "\n",
      "\n",
      "\n",
      "----- Working on Proper Limb # 6 ---------\n",
      "meshparty_segment_size = 100\n",
      "root_curr = [599319. 809277. 927507.]\n",
      "Time for preparing soma vertices and root: 0.00033354759216308594\n",
      "invalidation_d = 12000\n",
      "cc_vertex_thresh = 10\n"
     ]
    },
    {
     "data": {
      "application/vnd.jupyter.widget-view+json": {
       "model_id": "5794185a15954f2db9e36cb55d623b44",
       "version_major": 2,
       "version_minor": 0
      },
      "text/plain": [
       "HBox(children=(FloatProgress(value=0.0, max=23043.0), HTML(value='')))"
      ]
     },
     "metadata": {},
     "output_type": "display_data"
    },
    {
     "name": "stderr",
     "output_type": "stream",
     "text": [
      "100%|██████████| 1/1 [00:00<00:00,  8.50it/s]"
     ]
    },
    {
     "name": "stdout",
     "output_type": "stream",
     "text": [
      "\n"
     ]
    },
    {
     "name": "stderr",
     "output_type": "stream",
     "text": [
      "\n"
     ]
    },
    {
     "name": "stdout",
     "output_type": "stream",
     "text": [
      "meshparty_segment_size = 100\n",
      "Time for 1st pass MP skeletonization: 0.3718383312225342\n",
      "branches_touching_root = [1]\n",
      "length of Graph = 2413\n",
      "After combining close endpoints max(kept_branches_idx) = 2, len(kept_branches_idx) = 3\n",
      "empty_indices % = 0.0\n",
      " conflict_indices % = 0.0015226328497161378\n"
     ]
    },
    {
     "data": {
      "application/vnd.jupyter.widget-view+json": {
       "model_id": "20c7b620cc944e0b82fcc7a9b28cee5f",
       "version_major": 2,
       "version_minor": 0
      },
      "text/plain": [
       "HBox(children=(FloatProgress(value=0.0, max=1.0), HTML(value='')))"
      ]
     },
     "metadata": {},
     "output_type": "display_data"
    },
    {
     "name": "stdout",
     "output_type": "stream",
     "text": [
      "\n",
      "AFTER face_lookup_resolved_test\n"
     ]
    },
    {
     "data": {
      "application/vnd.jupyter.widget-view+json": {
       "model_id": "14045a3d57a34068ad4373dd5b05d3e5",
       "version_major": 2,
       "version_minor": 0
      },
      "text/plain": [
       "HBox(children=(FloatProgress(value=0.0, max=3.0), HTML(value='')))"
      ]
     },
     "metadata": {},
     "output_type": "display_data"
    },
    {
     "name": "stdout",
     "output_type": "stream",
     "text": [
      "\n",
      "Decomposing first pass: 3.1192774772644043\n",
      "Attempting to use MeshAfterParty Skeletonization and Mesh Correspondence\n",
      "Another print\n",
      "Found len(mesh_large_idx) MAP candidates: [19118, 5586, 21269]\n",
      "mesh_large_connectivity: 0.01838397979736328\n",
      "Finding MAP candidates connected components: 8.7738037109375e-05\n",
      "len(filtered_pieces) = 1\n",
      "skeleton_connectivity_MP : 0.010395288467407227\n",
      "Grouping MP Sublimbs by Graph: 3.528594970703125e-05\n",
      "Divinding into MP and MAP pieces: 7.152557373046875e-07\n",
      "--- Working on MAP piece 0---\n",
      "MAP Filtering Soma Pieces: 0.0074846744537353516\n",
      "inside skeletonize_connected_branch and use_surface_after_CGAL=False, surface_reconstruction_size=1000\n",
      "     Starting Screened Poisson\n",
      "xvfb-run -n 4130 -s \"-screen 0 800x600x24\" meshlabserver $@  -i /notebooks/Auto_Proofreading/Preprocessing_Pipeline/temp/None.off -o /notebooks/Auto_Proofreading/Preprocessing_Pipeline/temp/None_poisson.off -s /notebooks/Auto_Proofreading/Preprocessing_Pipeline/temp/poisson_699104.mls\n",
      "removed temporary input file: /notebooks/Auto_Proofreading/Preprocessing_Pipeline/temp/None.off\n",
      "removed temporary output file: /notebooks/Auto_Proofreading/Preprocessing_Pipeline/temp/None_poisson.off\n",
      "Using the close holes feature\n",
      "Mesh was manifold\n",
      "No holes needed to fill and mesh was manifold so returning original mesh\n",
      "-----Time for Screened Poisson= 15.13343358039856\n",
      "mesh_pieces = [<trimesh.Trimesh(vertices.shape=(76934, 3), faces.shape=(153876, 3))>]\n",
      "     Starting Calcification (Changed back where stitches large poissons)\n",
      "min_edge_length = 75\n"
     ]
    },
    {
     "data": {
      "application/vnd.jupyter.widget-view+json": {
       "model_id": "bff25766c67e495a9a2ce317bc1297a2",
       "version_major": 2,
       "version_minor": 0
      },
      "text/plain": [
       "HBox(children=(FloatProgress(value=1.0, bar_style='info', max=1.0), HTML(value='')))"
      ]
     },
     "metadata": {},
     "output_type": "display_data"
    },
    {
     "name": "stdout",
     "output_type": "stream",
     "text": [
      "\n",
      "No skeletons to stack so returning empty list\n",
      "len_subgraphs AT BEGINNING of the loop\n"
     ]
    },
    {
     "data": {
      "application/vnd.jupyter.widget-view+json": {
       "model_id": "1675b59ab7054667b29f914f896df4d5",
       "version_major": 2,
       "version_minor": 0
      },
      "text/plain": [
       "HBox(children=(FloatProgress(value=0.0, max=1.0), HTML(value='')))"
      ]
     },
     "metadata": {},
     "output_type": "display_data"
    },
    {
     "name": "stdout",
     "output_type": "stream",
     "text": [
      "all graph is one component!\n",
      "\n",
      "Total time for skeleton stitching = 0.07991409301757812\n",
      "The process was using a temp folder\n",
      "Checking connected components after skeletonize_connected_branch\n",
      "    Total time for skeletonizing branch: 21.47263813018799\n",
      "Checking connected components after removing cycles\n",
      "Total time for mesh KDTree = 0.263761043548584\n",
      "sbv[0].reshape(-1,3) = [[599319. 809277. 927507.]]\n",
      "closest_sk_pt_coord BEFORE = [598778. 809647. 928048.]\n",
      "current_skeleton.shape = (1993, 2, 3)\n",
      "node_for_stitch = 1993: [598778. 809647. 928048.]\n",
      "node_for_stitch AFTER = 1993: [598778. 809647. 928048.]\n",
      "possible_node_loc = [   0   52   64  100  110  118  123  169  228  240  284  291  332  342\n",
      "  389  410  418  441  462  504  506  526  543  558  568  581  600  607\n",
      "  637  644  651  686  733  764  790  811  822  832  835  868  873  895\n",
      "  934  935  964  976  994 1043 1107 1146 1195 1206 1212 1284 1288 1307\n",
      " 1350 1380 1403 1445 1477 1495 1519 1531 1556 1582 1624 1640 1674 1675\n",
      " 1681 1716 1717 1733 1749 1772 1793 1821 1874 1993]\n",
      "possible_node_loc AFTER = [   0   52   64  100  110  118  123  169  228  240  284  291  332  342\n",
      "  389  410  418  441  462  504  506  526  543  558  568  581  600  607\n",
      "  637  644  651  686  733  764  790  811  822  832  835  868  873  895\n",
      "  934  935  964  976  994 1043 1107 1146 1195 1206 1212 1284 1288 1307\n",
      " 1350 1380 1403 1445 1477 1495 1519 1531 1556 1582 1624 1640 1674 1675\n",
      " 1681 1716 1717 1733 1749 1772 1793 1821 1874 1993]\n",
      "curr_shortest_path = [1993]\n",
      "Current stitch point was a branch or endpoint\n",
      "change_status for create soma extending pieces = False\n",
      "closest_sk_pt_coord AFTER = [598778. 809647. 928048.]\n",
      "skipping soma 0 because closest skeleton node was already end node\n",
      "endpoints_must_keep = {0: array([[598778., 809647., 928048.]])}\n",
      "    Total time for Fixing Skeleton Soma Endpoint Extension : 0.7882680892944336\n",
      "filter_end_node_length = 4000\n",
      "xvfb-run -n 4130 -s \"-screen 0 800x600x24\" meshlabserver $@  -i /notebooks/Auto_Proofreading/Preprocessing_Pipeline/temp/neuron_53168.off -o /notebooks/Auto_Proofreading/Preprocessing_Pipeline/temp/neuron_53168_remove_interior.off -s /notebooks/Auto_Proofreading/Preprocessing_Pipeline/temp/remove_interior_343093.mls\n",
      "removed temporary input file: /notebooks/Auto_Proofreading/Preprocessing_Pipeline/temp/neuron_53168.off\n",
      "removed temporary output file: /notebooks/Auto_Proofreading/Preprocessing_Pipeline/temp/neuron_53168_remove_interior.off\n",
      "/notebooks/Auto_Proofreading/Preprocessing_Pipeline/temp/remove_interior_343093.mls is being deleted....\n",
      "THERE WERE NO MESH PIECES GREATER THAN THE significance_threshold\n",
      "No significant (100) interior meshes present\n",
      "largest is 81\n",
      "Using Distance measure skeletal_distance\n",
      "endpoints_must_keep = [[598778. 809647. 928048.]]\n",
      "Number of end_nodes BEFORE filtering = 80\n",
      "all_single_nodes_to_eliminate = [79]\n"
     ]
    },
    {
     "data": {
      "application/vnd.jupyter.widget-view+json": {
       "model_id": "0ba2e13042b4444b87825490579c4005",
       "version_major": 2,
       "version_minor": 0
      },
      "text/plain": [
       "HBox(children=(FloatProgress(value=0.0, max=77.0), HTML(value='')))"
      ]
     },
     "metadata": {},
     "output_type": "display_data"
    },
    {
     "name": "stdout",
     "output_type": "stream",
     "text": [
      "\n",
      "Checking connected components after clean_skeleton\n",
      "after DISTANCE cleaning limb size of skeleton = (1568, 2, 3)\n",
      "********COMBINING CLOSE SKELETON NODES WITHIN 700 DISTANCE**********\n",
      "Found 0 valid paths to replace\n",
      "valid_paths = []\n",
      "valid_path_lengths = []\n",
      "No valid paths found so just returning the original\n",
      "skeletonize_and_clean_connected_branch_CGAL: 33.971853494644165\n",
      "Working on limb correspondence for #0 MAP piece\n",
      "xvfb-run -n 4130 -s \"-screen 0 800x600x24\" meshlabserver $@  -i /notebooks/Auto_Proofreading/Preprocessing_Pipeline/temp/neuron_47847.off -o /notebooks/Auto_Proofreading/Preprocessing_Pipeline/temp/neuron_47847_remove_interior.off -s /notebooks/Auto_Proofreading/Preprocessing_Pipeline/temp/remove_interior_93816.mls\n",
      "removed temporary input file: /notebooks/Auto_Proofreading/Preprocessing_Pipeline/temp/neuron_47847.off\n",
      "removed temporary output file: /notebooks/Auto_Proofreading/Preprocessing_Pipeline/temp/neuron_47847_remove_interior.off\n",
      "/notebooks/Auto_Proofreading/Preprocessing_Pipeline/temp/remove_interior_93816.mls is being deleted....\n",
      "THERE WERE NO MESH PIECES GREATER THAN THE significance_threshold\n",
      "No significant (100) interior meshes present\n",
      "largest is 81\n"
     ]
    },
    {
     "data": {
      "application/vnd.jupyter.widget-view+json": {
       "model_id": "105720af99fb4abda705a57b27e2881e",
       "version_major": 2,
       "version_minor": 0
      },
      "text/plain": [
       "HBox(children=(FloatProgress(value=1.0, bar_style='info', max=1.0), HTML(value='')))"
      ]
     },
     "metadata": {},
     "output_type": "display_data"
    },
    {
     "name": "stdout",
     "output_type": "stream",
     "text": [
      "\n",
      "Total time for decomposition = 9.487230777740479\n",
      "mesh_correspondence_first_pass: 9.487266063690186\n",
      "Limb decomposed into 3 branches\n",
      "divided_skeleton_graph_recovered = (1568, 2, 3) and \n",
      "current_mesh_data[0]['branch_skeletons_cleaned'].shape = (1568, 2, 3)\n",
      "\n",
      "Number of connected components in deocmposed recovered graph = 1\n",
      "Number of connected components in cleaned skeleton graph= 1\n",
      "The downsampled branches number of connected components = 1\n",
      "Empty submeshes = []\n",
      "\n",
      "\n",
      "--- Working on 1-to-1 correspondence-----\n",
      "max(original_labels),len(original_labels) = (2, 3)\n",
      "empty_indices % = 0.12048376220825267\n",
      " conflict_indices % = 0.00854849585626346\n"
     ]
    },
    {
     "data": {
      "application/vnd.jupyter.widget-view+json": {
       "model_id": "8886427665d74881b0ece5f51128a374",
       "version_major": 2,
       "version_minor": 0
      },
      "text/plain": [
       "HBox(children=(FloatProgress(value=0.0, max=117.0), HTML(value='')))"
      ]
     },
     "metadata": {},
     "output_type": "display_data"
    },
    {
     "name": "stdout",
     "output_type": "stream",
     "text": [
      "\n",
      "AFTER face_lookup_resolved_test\n",
      "Took 0 iterations to expand the label back\n",
      "empty_indices % = 0.0\n",
      " conflict_indices % = 0.0\n"
     ]
    },
    {
     "data": {
      "application/vnd.jupyter.widget-view+json": {
       "model_id": "757cde5394d8454f81a230542b852aa8",
       "version_major": 2,
       "version_minor": 0
      },
      "text/plain": [
       "HBox(children=(FloatProgress(value=1.0, bar_style='info', max=1.0), HTML(value='')))"
      ]
     },
     "metadata": {},
     "output_type": "display_data"
    },
    {
     "name": "stdout",
     "output_type": "stream",
     "text": [
      "\n",
      "AFTER face_lookup_resolved_test\n"
     ]
    },
    {
     "data": {
      "application/vnd.jupyter.widget-view+json": {
       "model_id": "e6e857546a55436c9787606e387dcf7c",
       "version_major": 2,
       "version_minor": 0
      },
      "text/plain": [
       "HBox(children=(FloatProgress(value=0.0, max=3.0), HTML(value='')))"
      ]
     },
     "metadata": {},
     "output_type": "display_data"
    },
    {
     "name": "stdout",
     "output_type": "stream",
     "text": [
      "\n",
      "Total time for MAP sublimb #0 mesh processing = 45.971137285232544\n",
      "correspondence_1_to_1: 2.5045864582061768\n",
      "Total time for MAP sublimb processing 45.97136306762695\n",
      "There were not both MAP and MP pieces so skipping the stitch resolving phase\n",
      "Time for decomp of Limb = 49.55634093284607\n",
      "Number of matching vertices = 17\n",
      "Only one endpoint after filtering away the endpoints that are not on the skeleton\n",
      "Using Distance measure skeletal_distance\n",
      "endpoints_must_keep = [[598778. 809647. 928048.]]\n",
      "Number of end_nodes BEFORE filtering = 3\n",
      "all_single_nodes_to_eliminate = [2]\n",
      "no small end nodes to get rid of so returning whole skeleton\n",
      "Removed 0 skeletal branches\n"
     ]
    },
    {
     "data": {
      "application/vnd.jupyter.widget-view+json": {
       "model_id": "2249c044c7f24dbbab9412fa88628737",
       "version_major": 2,
       "version_minor": 0
      },
      "text/plain": [
       "HBox(children=(FloatProgress(value=0.0, max=3.0), HTML(value='')))"
      ]
     },
     "metadata": {},
     "output_type": "display_data"
    },
    {
     "name": "stdout",
     "output_type": "stream",
     "text": [
      "\n",
      "45972 45973\n",
      "For marked faces: None\n",
      "empty_indices % = 0.0\n",
      " conflict_indices % = 0.0\n"
     ]
    },
    {
     "data": {
      "application/vnd.jupyter.widget-view+json": {
       "model_id": "2d2a6fe326684e72a3eaca6b0f5ec0e6",
       "version_major": 2,
       "version_minor": 0
      },
      "text/plain": [
       "HBox(children=(FloatProgress(value=1.0, bar_style='info', max=1.0), HTML(value='')))"
      ]
     },
     "metadata": {},
     "output_type": "display_data"
    },
    {
     "name": "stdout",
     "output_type": "stream",
     "text": [
      "\n",
      "AFTER face_lookup_resolved_test\n"
     ]
    },
    {
     "data": {
      "application/vnd.jupyter.widget-view+json": {
       "model_id": "90b518a875db471caa03e7f0eb058c2c",
       "version_major": 2,
       "version_minor": 0
      },
      "text/plain": [
       "HBox(children=(FloatProgress(value=0.0, max=3.0), HTML(value='')))"
      ]
     },
     "metadata": {},
     "output_type": "display_data"
    },
    {
     "name": "stderr",
     "output_type": "stream",
     "text": [
      "\r",
      "  0%|          | 0/1 [00:00<?, ?it/s]"
     ]
    },
    {
     "name": "stdout",
     "output_type": "stream",
     "text": [
      "\n",
      "\n",
      "\n",
      "----- Working on Proper Limb # 7 ---------\n",
      "meshparty_segment_size = 100\n",
      "root_curr = [613383.8 813834.7 923499.7]\n",
      "Time for preparing soma vertices and root: 0.0002865791320800781\n",
      "invalidation_d = 12000\n",
      "cc_vertex_thresh = 10\n"
     ]
    },
    {
     "data": {
      "application/vnd.jupyter.widget-view+json": {
       "model_id": "b5e5eb9f7edf4b2c98ec57c1c07bf428",
       "version_major": 2,
       "version_minor": 0
      },
      "text/plain": [
       "HBox(children=(FloatProgress(value=0.0, max=20940.0), HTML(value='')))"
      ]
     },
     "metadata": {},
     "output_type": "display_data"
    },
    {
     "name": "stderr",
     "output_type": "stream",
     "text": [
      "100%|██████████| 1/1 [00:00<00:00,  8.85it/s]"
     ]
    },
    {
     "name": "stdout",
     "output_type": "stream",
     "text": [
      "\n"
     ]
    },
    {
     "name": "stderr",
     "output_type": "stream",
     "text": [
      "\n"
     ]
    },
    {
     "name": "stdout",
     "output_type": "stream",
     "text": [
      "meshparty_segment_size = 100\n",
      "Time for 1st pass MP skeletonization: 0.350034236907959\n",
      "branches_touching_root = [1]\n",
      "length of Graph = 2153\n",
      "After combining close endpoints max(kept_branches_idx) = 2, len(kept_branches_idx) = 3\n",
      "empty_indices % = 0.0\n",
      " conflict_indices % = 0.002549915804666827\n"
     ]
    },
    {
     "data": {
      "application/vnd.jupyter.widget-view+json": {
       "model_id": "4059651feedf4dc5970c2380a4e1a89d",
       "version_major": 2,
       "version_minor": 0
      },
      "text/plain": [
       "HBox(children=(FloatProgress(value=0.0, max=1.0), HTML(value='')))"
      ]
     },
     "metadata": {},
     "output_type": "display_data"
    },
    {
     "name": "stdout",
     "output_type": "stream",
     "text": [
      "\n",
      "AFTER face_lookup_resolved_test\n"
     ]
    },
    {
     "data": {
      "application/vnd.jupyter.widget-view+json": {
       "model_id": "877c561063fe4adc81c0a5d89f871f64",
       "version_major": 2,
       "version_minor": 0
      },
      "text/plain": [
       "HBox(children=(FloatProgress(value=0.0, max=3.0), HTML(value='')))"
      ]
     },
     "metadata": {},
     "output_type": "display_data"
    },
    {
     "name": "stdout",
     "output_type": "stream",
     "text": [
      "\n",
      "Decomposing first pass: 1.7006006240844727\n",
      "Attempting to use MeshAfterParty Skeletonization and Mesh Correspondence\n",
      "Another print\n",
      "Found len(mesh_large_idx) MAP candidates: [8698, 21544]\n",
      "mesh_large_connectivity: 0.006494283676147461\n",
      "Finding MAP candidates connected components: 8.0108642578125e-05\n",
      "len(filtered_pieces) = 1\n",
      "skeleton_connectivity_MP : 0.035246849060058594\n",
      "Grouping MP Sublimbs by Graph: 0.0057713985443115234\n",
      "Divinding into MP and MAP pieces: 7.152557373046875e-07\n",
      "--- Working on MAP piece 0---\n",
      "MAP Filtering Soma Pieces: 0.003267526626586914\n",
      "inside skeletonize_connected_branch and use_surface_after_CGAL=False, surface_reconstruction_size=1000\n",
      "     Starting Screened Poisson\n",
      "xvfb-run -n 4130 -s \"-screen 0 800x600x24\" meshlabserver $@  -i /notebooks/Auto_Proofreading/Preprocessing_Pipeline/temp/None.off -o /notebooks/Auto_Proofreading/Preprocessing_Pipeline/temp/None_poisson.off -s /notebooks/Auto_Proofreading/Preprocessing_Pipeline/temp/poisson_98121.mls\n",
      "removed temporary input file: /notebooks/Auto_Proofreading/Preprocessing_Pipeline/temp/None.off\n",
      "removed temporary output file: /notebooks/Auto_Proofreading/Preprocessing_Pipeline/temp/None_poisson.off\n",
      "Using the close holes feature\n",
      "Mesh was manifold\n",
      "No holes needed to fill and mesh was manifold so returning original mesh\n",
      "-----Time for Screened Poisson= 12.115639925003052\n",
      "mesh_pieces = [<trimesh.Trimesh(vertices.shape=(48631, 3), faces.shape=(97266, 3))>]\n",
      "     Starting Calcification (Changed back where stitches large poissons)\n",
      "min_edge_length = 75\n"
     ]
    },
    {
     "data": {
      "application/vnd.jupyter.widget-view+json": {
       "model_id": "90d7dfba5846422188516de21acaa9a2",
       "version_major": 2,
       "version_minor": 0
      },
      "text/plain": [
       "HBox(children=(FloatProgress(value=1.0, bar_style='info', max=1.0), HTML(value='')))"
      ]
     },
     "metadata": {},
     "output_type": "display_data"
    },
    {
     "name": "stdout",
     "output_type": "stream",
     "text": [
      "\n",
      "No skeletons to stack so returning empty list\n",
      "len_subgraphs AT BEGINNING of the loop\n"
     ]
    },
    {
     "data": {
      "application/vnd.jupyter.widget-view+json": {
       "model_id": "b2dffa1d4bbb4890b091d8b0cca29a14",
       "version_major": 2,
       "version_minor": 0
      },
      "text/plain": [
       "HBox(children=(FloatProgress(value=0.0, max=1.0), HTML(value='')))"
      ]
     },
     "metadata": {},
     "output_type": "display_data"
    },
    {
     "name": "stdout",
     "output_type": "stream",
     "text": [
      "all graph is one component!\n",
      "\n",
      "Total time for skeleton stitching = 0.056171417236328125\n",
      "The process was using a temp folder\n",
      "Checking connected components after skeletonize_connected_branch\n",
      "    Total time for skeletonizing branch: 15.957038640975952\n",
      "Checking connected components after removing cycles\n",
      "Total time for mesh KDTree = 0.18467497825622559\n",
      "sbv[0].reshape(-1,3) = [[613383.8 813834.7 923499.7]]\n",
      "closest_sk_pt_coord BEFORE = [613865. 814225. 923637.]\n",
      "current_skeleton.shape = (1235, 2, 3)\n",
      "node_for_stitch = 0: [613865. 814225. 923637.]\n",
      "node_for_stitch AFTER = 0: [613865. 814225. 923637.]\n",
      "possible_node_loc = [   0  115  145  201  207  239  265  295  345  358  381  394  400  424\n",
      "  432  445  484  507  558  565  576  632  647  660  675  692  702  739\n",
      "  740  780  793  822  836  867  872  880  885  887  927  964  972  982\n",
      " 1047 1053 1084 1101 1167 1197 1214 1232]\n",
      "possible_node_loc AFTER = [   0  115  145  201  207  239  265  295  345  358  381  394  400  424\n",
      "  432  445  484  507  558  565  576  632  647  660  675  692  702  739\n",
      "  740  780  793  822  836  867  872  880  885  887  927  964  972  982\n",
      " 1047 1053 1084 1101 1167 1197 1214 1232]\n",
      "curr_shortest_path = [0]\n",
      "Current stitch point was a branch or endpoint\n",
      "change_status for create soma extending pieces = False\n",
      "closest_sk_pt_coord AFTER = [613865. 814225. 923637.]\n",
      "skipping soma 0 because closest skeleton node was already end node\n",
      "endpoints_must_keep = {0: array([[613865., 814225., 923637.]])}\n",
      "    Total time for Fixing Skeleton Soma Endpoint Extension : 0.47676634788513184\n",
      "filter_end_node_length = 4000\n",
      "xvfb-run -n 4130 -s \"-screen 0 800x600x24\" meshlabserver $@  -i /notebooks/Auto_Proofreading/Preprocessing_Pipeline/temp/neuron_65273.off -o /notebooks/Auto_Proofreading/Preprocessing_Pipeline/temp/neuron_65273_remove_interior.off -s /notebooks/Auto_Proofreading/Preprocessing_Pipeline/temp/remove_interior_168159.mls\n",
      "removed temporary input file: /notebooks/Auto_Proofreading/Preprocessing_Pipeline/temp/neuron_65273.off\n",
      "removed temporary output file: /notebooks/Auto_Proofreading/Preprocessing_Pipeline/temp/neuron_65273_remove_interior.off\n",
      "/notebooks/Auto_Proofreading/Preprocessing_Pipeline/temp/remove_interior_168159.mls is being deleted....\n",
      "THERE WERE NO MESH PIECES GREATER THAN THE significance_threshold\n",
      "No significant (100) interior meshes present\n",
      "largest is 40\n",
      "Using Distance measure skeletal_distance\n",
      "endpoints_must_keep = [[613865. 814225. 923637.]\n",
      " [669403. 843636. 955216.]\n",
      " [700811. 886863. 970152.]]\n",
      "Number of end_nodes BEFORE filtering = 50\n",
      "all_single_nodes_to_eliminate = [0, 22, 49]\n"
     ]
    },
    {
     "data": {
      "application/vnd.jupyter.widget-view+json": {
       "model_id": "ae0eddaae32747d2b7d5dbf7b2bf1e0d",
       "version_major": 2,
       "version_minor": 0
      },
      "text/plain": [
       "HBox(children=(FloatProgress(value=0.0, max=47.0), HTML(value='')))"
      ]
     },
     "metadata": {},
     "output_type": "display_data"
    },
    {
     "name": "stdout",
     "output_type": "stream",
     "text": [
      "\n",
      "Checking connected components after clean_skeleton\n",
      "after DISTANCE cleaning limb size of skeleton = (976, 2, 3)\n",
      "********COMBINING CLOSE SKELETON NODES WITHIN 700 DISTANCE**********\n",
      "Found 0 valid paths to replace\n",
      "valid_paths = []\n",
      "valid_path_lengths = []\n",
      "No valid paths found so just returning the original\n",
      "skeletonize_and_clean_connected_branch_CGAL: 23.56241226196289\n",
      "Working on limb correspondence for #0 MAP piece\n",
      "xvfb-run -n 4130 -s \"-screen 0 800x600x24\" meshlabserver $@  -i /notebooks/Auto_Proofreading/Preprocessing_Pipeline/temp/neuron_12456.off -o /notebooks/Auto_Proofreading/Preprocessing_Pipeline/temp/neuron_12456_remove_interior.off -s /notebooks/Auto_Proofreading/Preprocessing_Pipeline/temp/remove_interior_188937.mls\n",
      "removed temporary input file: /notebooks/Auto_Proofreading/Preprocessing_Pipeline/temp/neuron_12456.off\n",
      "removed temporary output file: /notebooks/Auto_Proofreading/Preprocessing_Pipeline/temp/neuron_12456_remove_interior.off\n",
      "/notebooks/Auto_Proofreading/Preprocessing_Pipeline/temp/remove_interior_188937.mls is being deleted....\n",
      "THERE WERE NO MESH PIECES GREATER THAN THE significance_threshold\n",
      "No significant (100) interior meshes present\n",
      "largest is 40\n"
     ]
    },
    {
     "data": {
      "application/vnd.jupyter.widget-view+json": {
       "model_id": "baaff25ab6604050b30d114e1fe74a0d",
       "version_major": 2,
       "version_minor": 0
      },
      "text/plain": [
       "HBox(children=(FloatProgress(value=1.0, bar_style='info', max=1.0), HTML(value='')))"
      ]
     },
     "metadata": {},
     "output_type": "display_data"
    },
    {
     "name": "stdout",
     "output_type": "stream",
     "text": [
      "\n",
      "Total time for decomposition = 5.446057558059692\n",
      "mesh_correspondence_first_pass: 5.446089506149292\n",
      "Limb decomposed into 3 branches\n",
      "divided_skeleton_graph_recovered = (976, 2, 3) and \n",
      "current_mesh_data[0]['branch_skeletons_cleaned'].shape = (976, 2, 3)\n",
      "\n",
      "Number of connected components in deocmposed recovered graph = 1\n",
      "Number of connected components in cleaned skeleton graph= 1\n",
      "The downsampled branches number of connected components = 1\n",
      "Empty submeshes = []\n",
      "\n",
      "\n",
      "--- Working on 1-to-1 correspondence-----\n",
      "max(original_labels),len(original_labels) = (2, 3)\n",
      "empty_indices % = 0.1546855366708551\n",
      " conflict_indices % = 0.016103432312677732\n"
     ]
    },
    {
     "data": {
      "application/vnd.jupyter.widget-view+json": {
       "model_id": "65ff4fd1f1184481ba964409b7d058ac",
       "version_major": 2,
       "version_minor": 0
      },
      "text/plain": [
       "HBox(children=(FloatProgress(value=0.0, max=81.0), HTML(value='')))"
      ]
     },
     "metadata": {},
     "output_type": "display_data"
    },
    {
     "name": "stdout",
     "output_type": "stream",
     "text": [
      "\n",
      "AFTER face_lookup_resolved_test\n",
      "Took 0 iterations to expand the label back\n",
      "empty_indices % = 0.0\n",
      " conflict_indices % = 0.0\n"
     ]
    },
    {
     "data": {
      "application/vnd.jupyter.widget-view+json": {
       "model_id": "50bf3e6c188344c092c48b4135857ab0",
       "version_major": 2,
       "version_minor": 0
      },
      "text/plain": [
       "HBox(children=(FloatProgress(value=1.0, bar_style='info', max=1.0), HTML(value='')))"
      ]
     },
     "metadata": {},
     "output_type": "display_data"
    },
    {
     "name": "stdout",
     "output_type": "stream",
     "text": [
      "\n",
      "AFTER face_lookup_resolved_test\n"
     ]
    },
    {
     "data": {
      "application/vnd.jupyter.widget-view+json": {
       "model_id": "26cc9bf1d2844c1fa47d384917d3277f",
       "version_major": 2,
       "version_minor": 0
      },
      "text/plain": [
       "HBox(children=(FloatProgress(value=0.0, max=3.0), HTML(value='')))"
      ]
     },
     "metadata": {},
     "output_type": "display_data"
    },
    {
     "name": "stdout",
     "output_type": "stream",
     "text": [
      "\n",
      "Total time for MAP sublimb #0 mesh processing = 32.32608151435852\n",
      "correspondence_1_to_1: 3.314286231994629\n",
      "Total time for MAP sublimb processing 32.326252937316895\n",
      "---- Working on MP Decomposition #0 ----\n",
      "Computing the current soma touching verts dict manually\n",
      "MP filtering soma verts: 0.005162477493286133\n",
      "Do Not Need to Fix MP Decomposition 0 so just continuing\n",
      "Successful mesh connectivity with type edges\n",
      "\n",
      "---- Working on (0, 0) connection-----\n",
      "sk_conn = [0]\n",
      "conn = [0]\n",
      "winning_vertex = [647080.7203491  829597.36832279 947023.16170874]\n",
      "MP_branches_with_stitch_point = [0]\n",
      "MAP_branches_with_stitch_point = [0]\n",
      "MAP_stitch_point_on_end_or_branch = False\n"
     ]
    },
    {
     "data": {
      "application/vnd.jupyter.widget-view+json": {
       "model_id": "92e66285437d42848cfe894f89c3b734",
       "version_major": 2,
       "version_minor": 0
      },
      "text/plain": [
       "HBox(children=(FloatProgress(value=1.0, bar_style='info', max=1.0), HTML(value='')))"
      ]
     },
     "metadata": {},
     "output_type": "display_data"
    },
    {
     "name": "stdout",
     "output_type": "stream",
     "text": [
      "\n",
      "\n",
      "\n",
      "--- Working on 1-to-1 correspondence-----\n",
      "max(original_labels),len(original_labels) = (1, 2)\n",
      "empty_indices % = 0.12363705923611554\n",
      " conflict_indices % = 0.0025505324236434358\n"
     ]
    },
    {
     "data": {
      "application/vnd.jupyter.widget-view+json": {
       "model_id": "67ec4bc649c7496e933d6a73e41f4f2c",
       "version_major": 2,
       "version_minor": 0
      },
      "text/plain": [
       "HBox(children=(FloatProgress(value=0.0, max=41.0), HTML(value='')))"
      ]
     },
     "metadata": {},
     "output_type": "display_data"
    },
    {
     "name": "stdout",
     "output_type": "stream",
     "text": [
      "\n",
      "AFTER face_lookup_resolved_test\n"
     ]
    },
    {
     "data": {
      "application/vnd.jupyter.widget-view+json": {
       "model_id": "12740deee9fc42a3b697826833cba659",
       "version_major": 2,
       "version_minor": 0
      },
      "text/plain": [
       "HBox(children=(FloatProgress(value=0.0, max=2.0), HTML(value='')))"
      ]
     },
     "metadata": {},
     "output_type": "display_data"
    },
    {
     "name": "stdout",
     "output_type": "stream",
     "text": [
      "\n"
     ]
    },
    {
     "data": {
      "application/vnd.jupyter.widget-view+json": {
       "model_id": "e2231b32c6cb4a89a1d85035f9bd1b2e",
       "version_major": 2,
       "version_minor": 0
      },
      "text/plain": [
       "HBox(children=(FloatProgress(value=1.0, bar_style='info', max=1.0), HTML(value='')))"
      ]
     },
     "metadata": {},
     "output_type": "display_data"
    },
    {
     "name": "stdout",
     "output_type": "stream",
     "text": [
      "\n",
      "\n",
      "\n",
      "--- Working on 1-to-1 correspondence-----\n",
      "max(original_labels),len(original_labels) = (2, 3)\n",
      "empty_indices % = 0.12172818481359446\n",
      " conflict_indices % = 0.016363703676280036\n"
     ]
    },
    {
     "data": {
      "application/vnd.jupyter.widget-view+json": {
       "model_id": "a6c8e4e16b1d4c3daf0156f4a26c4a1e",
       "version_major": 2,
       "version_minor": 0
      },
      "text/plain": [
       "HBox(children=(FloatProgress(value=0.0, max=33.0), HTML(value='')))"
      ]
     },
     "metadata": {},
     "output_type": "display_data"
    },
    {
     "name": "stdout",
     "output_type": "stream",
     "text": [
      "\n",
      "AFTER face_lookup_resolved_test\n"
     ]
    },
    {
     "data": {
      "application/vnd.jupyter.widget-view+json": {
       "model_id": "5c7628d138674bdbba450ed49999b2e9",
       "version_major": 2,
       "version_minor": 0
      },
      "text/plain": [
       "HBox(children=(FloatProgress(value=0.0, max=3.0), HTML(value='')))"
      ]
     },
     "metadata": {},
     "output_type": "display_data"
    },
    {
     "name": "stdout",
     "output_type": "stream",
     "text": [
      "\n",
      "Deleting branches from dictionary\n",
      "MP_branches_with_stitch_point= [0]\n",
      "MP_branches_for_correspondence = [0]\n",
      "MP_leftover = [], MP_leftover_idx = []\n",
      " Finished with (0, 0) \n",
      "\n",
      "\n",
      "\n",
      "Time for decomp of Limb = 40.53995180130005\n",
      "Number of matching vertices = 9\n",
      "Only one endpoint after filtering away the endpoints that are not on the skeleton\n",
      "Using Distance measure skeletal_distance\n",
      "endpoints_must_keep = [[613865. 814225. 923637.]]\n",
      "Number of end_nodes BEFORE filtering = 4\n",
      "all_single_nodes_to_eliminate = [0]\n"
     ]
    },
    {
     "data": {
      "application/vnd.jupyter.widget-view+json": {
       "model_id": "4e233f79be254983ba42420024bd8d08",
       "version_major": 2,
       "version_minor": 0
      },
      "text/plain": [
       "HBox(children=(FloatProgress(value=0.0, max=1.0), HTML(value='')))"
      ]
     },
     "metadata": {},
     "output_type": "display_data"
    },
    {
     "name": "stdout",
     "output_type": "stream",
     "text": [
      "\n",
      "Removed 1 skeletal branches\n"
     ]
    },
    {
     "data": {
      "application/vnd.jupyter.widget-view+json": {
       "model_id": "aae453c2f1cf404bbb448799244c7514",
       "version_major": 2,
       "version_minor": 0
      },
      "text/plain": [
       "HBox(children=(FloatProgress(value=0.0, max=5.0), HTML(value='')))"
      ]
     },
     "metadata": {},
     "output_type": "display_data"
    },
    {
     "name": "stdout",
     "output_type": "stream",
     "text": [
      "\n",
      "41569 41570\n",
      "For marked faces: None\n",
      "empty_indices % = 0.0\n",
      " conflict_indices % = 0.0\n"
     ]
    },
    {
     "data": {
      "application/vnd.jupyter.widget-view+json": {
       "model_id": "67aecedabf884a62aebbe07f893b8cba",
       "version_major": 2,
       "version_minor": 0
      },
      "text/plain": [
       "HBox(children=(FloatProgress(value=1.0, bar_style='info', max=1.0), HTML(value='')))"
      ]
     },
     "metadata": {},
     "output_type": "display_data"
    },
    {
     "name": "stdout",
     "output_type": "stream",
     "text": [
      "\n",
      "AFTER face_lookup_resolved_test\n"
     ]
    },
    {
     "data": {
      "application/vnd.jupyter.widget-view+json": {
       "model_id": "8f8d87c6d53a4e73bc74cf19fb0b36e9",
       "version_major": 2,
       "version_minor": 0
      },
      "text/plain": [
       "HBox(children=(FloatProgress(value=0.0, max=3.0), HTML(value='')))"
      ]
     },
     "metadata": {},
     "output_type": "display_data"
    },
    {
     "name": "stdout",
     "output_type": "stream",
     "text": [
      "\n",
      "Total time for Skeletonization and Mesh Correspondence = 930.5024933815002\n",
      "\n",
      "\n",
      " ----- Working on Stitching ----------\n",
      "Status of Main limb stitch point moved = False\n",
      "Status of Main limb stitch point moved = True\n",
      "The closest float distance was 19734.828848609515 which was greater than the maximum stitch distance 8000\n",
      " --> so ending the floating mesh stitch processs\n",
      "Total time for stitching floating pieces = 9.858852624893188\n",
      "Total time for Concept Networks = 9.362931728363037\n",
      "Total time for all mesh and skeletonization decomp = 949.7247850894928\n",
      "No soma volume ratios so computing them now\n",
      "Using Poisson Surface Reconstruction for watertightness in soma_volume_ratio\n",
      "xvfb-run -n 4130 -s \"-screen 0 800x600x24\" meshlabserver $@  -i /notebooks/Auto_Proofreading/Preprocessing_Pipeline/Poisson_temp/neuron_402444.off -o /notebooks/Auto_Proofreading/Preprocessing_Pipeline/Poisson_temp/neuron_402444_poisson.off -s /notebooks/Auto_Proofreading/Preprocessing_Pipeline/Poisson_temp/poisson_912860.mls\n",
      "removed temporary input file: /notebooks/Auto_Proofreading/Preprocessing_Pipeline/Poisson_temp/neuron_402444.off\n",
      "removed temporary output file: /notebooks/Auto_Proofreading/Preprocessing_Pipeline/Poisson_temp/neuron_402444_poisson.off\n",
      "mesh.is_watertight = True\n",
      "/notebooks/Auto_Proofreading/Preprocessing_Pipeline/Poisson_temp/poisson_912860.mls is being deleted....\n",
      "--- 1) Finished unpacking preprocessed materials: 988.880125284195\n",
      "total_edges = [['S0', 'L0'], ['S0', 'L1'], ['S0', 'L2'], ['S0', 'L3'], ['S0', 'L4'], ['S0', 'L5'], ['S0', 'L6'], ['S0', 'L7']]\n",
      "--- 2) Finished creating neuron connectivity graph: 0.00017642974853515625\n",
      "Having to generate soma_meshes_face_idx because none in preprocessed data\n",
      "--- 3a) Finshed generating soma_meshes_face_idx: 2.37650465965271\n",
      "Using precomputed volume ratio\n",
      "--- 3) Finshed generating soma objects and adding them to concept graph: 0.09147191047668457\n",
      "--- 4a) Finshed generating curr_limb_meshes_face_idx: 9.188068389892578\n",
      "curr_limb_concept_networks= {0: [<networkx_utils.GraphOrderedEdges object at 0x7f297be020f0>]}\n",
      "curr_limb_concept_networks= {0: [<networkx_utils.GraphOrderedEdges object at 0x7f297be02c18>]}\n",
      "curr_limb_concept_networks= {0: [<networkx_utils.GraphOrderedEdges object at 0x7f297be026a0>]}\n",
      "curr_limb_concept_networks= {0: [<networkx_utils.GraphOrderedEdges object at 0x7f297be024e0>]}\n",
      "curr_limb_concept_networks= {0: [<networkx_utils.GraphOrderedEdges object at 0x7f297be02dd8>]}\n",
      "curr_limb_concept_networks= {0: [<networkx_utils.GraphOrderedEdges object at 0x7f297be02278>]}\n",
      "curr_limb_concept_networks= {0: [<networkx_utils.GraphOrderedEdges object at 0x7f297be02a58>]}\n",
      "curr_limb_concept_networks= {0: [<networkx_utils.GraphOrderedEdges object at 0x7f297be02eb8>]}\n",
      "--- 4) Finshed generating Limb objects and adding them to concept graph: 9.119791984558105\n",
      "--- 5) SKIPPING Doing the adaptive mesh correspondence on the meshparty preprocessing ---\n",
      "--- 6) SKIPPING Using the computed_attribute_dict to populate neuron attributes ---\n",
      "self.n_limbs = 8\n",
      "7) Calculating the spines for the neuorn if do not already exist\n",
      "7a) calculating spines because didn't exist\n",
      "query = median_mesh_center > 140 and n_faces_branch>100\n",
      "smoothness_threshold = 0.08\n",
      "The median_mesh_center was requested but has not already been calculated so calculating now.... \n",
      "Working on limb L0 branch 43\n",
      "Working on limb L0 branch 37\n",
      "Working on limb L0 branch 46\n",
      "Working on limb L0 branch 10\n",
      "Working on limb L0 branch 36\n",
      "Working on limb L0 branch 51\n",
      "Working on limb L0 branch 52\n",
      "Working on limb L0 branch 6\n",
      "Working on limb L0 branch 12\n",
      "Working on limb L0 branch 0\n",
      "Working on limb L0 branch 35\n",
      "Working on limb L0 branch 85\n",
      "Working on limb L0 branch 86\n",
      "Assigning the old width calculation because no valid new widths\n",
      "Working on limb L0 branch 5\n",
      "Working on limb L0 branch 9\n",
      "Working on limb L0 branch 11\n",
      "Working on limb L0 branch 13\n",
      "Working on limb L0 branch 14\n",
      "Working on limb L0 branch 2\n",
      "Working on limb L0 branch 34\n",
      "Working on limb L0 branch 7\n",
      "Working on limb L0 branch 8\n",
      "Working on limb L0 branch 24\n",
      "Working on limb L0 branch 26\n",
      "Working on limb L0 branch 17\n",
      "Working on limb L0 branch 19\n",
      "Working on limb L0 branch 38\n",
      "Working on limb L0 branch 39\n",
      "Working on limb L0 branch 1\n"
     ]
    }
   ],
   "source": [
    "import time\n",
    "import random\n",
    "import compartment_utils as cu\n",
    "cu = reload(cu)\n",
    "import preprocessing_vp2 as pre\n",
    "pre = reload(pre)\n",
    "import skeleton_utils as sk\n",
    "sk = reload(sk)\n",
    "nru = reload(nru)\n",
    "\n",
    "start_time = time.time()\n",
    "if not test_mode:\n",
    "    time.sleep(random.randint(0, 800))\n",
    "print('Populate Started')\n",
    "if not test_mode:\n",
    "    Decomposition.populate(reserve_jobs=True, suppress_errors=True)\n",
    "else:\n",
    "    Decomposition.populate(reserve_jobs=True, suppress_errors=False)\n",
    "print('Populate Done')\n",
    "\n",
    "print(f\"Total time for DecompositionMultiSoma populate = {time.time() - start_time}\")"
   ]
  },
  {
   "cell_type": "code",
   "execution_count": null,
   "metadata": {},
   "outputs": [],
   "source": []
  }
 ],
 "metadata": {
  "kernelspec": {
   "display_name": "Python 3",
   "language": "python",
   "name": "python3"
  },
  "language_info": {
   "codemirror_mode": {
    "name": "ipython",
    "version": 3
   },
   "file_extension": ".py",
   "mimetype": "text/x-python",
   "name": "python",
   "nbconvert_exporter": "python",
   "pygments_lexer": "ipython3",
   "version": "3.6.9"
  }
 },
 "nbformat": 4,
 "nbformat_minor": 4
}
