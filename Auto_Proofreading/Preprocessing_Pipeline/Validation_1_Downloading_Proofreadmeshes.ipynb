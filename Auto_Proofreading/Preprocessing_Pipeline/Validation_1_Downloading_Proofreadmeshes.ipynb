{
 "cells": [
  {
   "cell_type": "code",
   "execution_count": null,
   "metadata": {},
   "outputs": [],
   "source": [
    "\"\"\"\n",
    "Purpose: To download meshes from allen and\n",
    "insert into segment and mesh table in database\n",
    "\n",
    "\"\"\""
   ]
  },
  {
   "cell_type": "code",
   "execution_count": 1,
   "metadata": {},
   "outputs": [],
   "source": [
    "%load_ext autoreload\n",
    "%autoreload 2"
   ]
  },
  {
   "cell_type": "code",
   "execution_count": 2,
   "metadata": {},
   "outputs": [],
   "source": [
    "\n",
    "\n",
    "from os import sys\n",
    "sys.path.append(\"/meshAfterParty/\")\n",
    "sys.path.append(\"/meshAfterParty/meshAfterParty\")"
   ]
  },
  {
   "cell_type": "code",
   "execution_count": 3,
   "metadata": {},
   "outputs": [
    {
     "name": "stderr",
     "output_type": "stream",
     "text": [
      "INFO - 2021-03-04 04:20:32,929 - settings - Setting database.host to at-database.ad.bcm.edu\n",
      "INFO - 2021-03-04 04:20:32,931 - settings - Setting database.user to celiib\n",
      "INFO - 2021-03-04 04:20:32,931 - settings - Setting database.password to newceliipass\n",
      "INFO - 2021-03-04 04:20:32,935 - settings - Setting stores to {'minnie65': {'protocol': 'file', 'location': '/mnt/dj-stor01/platinum/minnie65', 'stage': '/mnt/dj-stor01/platinum/minnie65'}, 'meshes': {'protocol': 'file', 'location': '/mnt/dj-stor01/platinum/minnie65/02/meshes', 'stage': '/mnt/dj-stor01/platinum/minnie65/02/meshes'}, 'decimated_meshes': {'protocol': 'file', 'location': '/mnt/dj-stor01/platinum/minnie65/02/decimated_meshes', 'stage': '/mnt/dj-stor01/platinum/minnie65/02/decimated_meshes'}, 'skeletons': {'protocol': 'file', 'location': '/mnt/dj-stor01/platinum/minnie65/02/skeletons'}}\n",
      "INFO - 2021-03-04 04:20:32,937 - settings - Setting enable_python_native_blobs to True\n",
      "INFO - 2021-03-04 04:20:32,951 - connection - Connected celiib@at-database.ad.bcm.edu:3306\n"
     ]
    },
    {
     "name": "stdout",
     "output_type": "stream",
     "text": [
      "Connecting celiib@at-database.ad.bcm.edu:3306\n"
     ]
    },
    {
     "name": "stderr",
     "output_type": "stream",
     "text": [
      "INFO - 2021-03-04 04:20:33,301 - settings - Setting enable_python_native_blobs to True\n",
      "INFO - 2021-03-04 04:20:33,305 - settings - Setting database.host to at-database.ad.bcm.edu\n",
      "INFO - 2021-03-04 04:20:33,306 - settings - Setting database.user to celiib\n",
      "INFO - 2021-03-04 04:20:33,307 - settings - Setting database.password to newceliipass\n",
      "INFO - 2021-03-04 04:20:33,308 - settings - Setting database.host to at-database.ad.bcm.edu\n",
      "INFO - 2021-03-04 04:20:33,309 - settings - Setting database.user to celiib\n",
      "INFO - 2021-03-04 04:20:33,311 - settings - Setting database.password to newceliipass\n",
      "INFO - 2021-03-04 04:20:33,313 - settings - Setting enable_python_native_blobs to True\n",
      "INFO - 2021-03-04 04:20:33,683 - settings - Setting enable_python_native_blobs to True\n"
     ]
    }
   ],
   "source": [
    "import datajoint_utils as du"
   ]
  },
  {
   "cell_type": "code",
   "execution_count": 4,
   "metadata": {},
   "outputs": [
    {
     "name": "stderr",
     "output_type": "stream",
     "text": [
      "INFO - 2021-03-04 04:20:33,811 - settings - Setting database.host to at-database.ad.bcm.edu\n",
      "INFO - 2021-03-04 04:20:33,812 - settings - Setting database.user to celiib\n",
      "INFO - 2021-03-04 04:20:33,813 - settings - Setting database.password to newceliipass\n",
      "INFO - 2021-03-04 04:20:33,814 - settings - Setting enable_python_native_blobs to True\n",
      "INFO - 2021-03-04 04:20:34,242 - settings - Setting enable_python_native_blobs to True\n"
     ]
    }
   ],
   "source": [
    "minnie,schema = du.configure_minnie_vm()"
   ]
  },
  {
   "cell_type": "markdown",
   "metadata": {},
   "source": [
    "# Segment to Fetch"
   ]
  },
  {
   "cell_type": "code",
   "execution_count": 5,
   "metadata": {},
   "outputs": [],
   "source": [
    "two_soma_segment_ids_new = [\n",
    "    \n",
    "864691136672813959,\n",
    "864691135472075826,\n",
    "864691136311833405,\n",
    "864691135564804951,\n",
    "864691135758491982,\n",
    "864691135945417764,\n",
    "864691135644807919,\n",
    "864691136008578990,\n",
    "864691135510515408,\n",
    "864691135815482447,\n",
    "864691136236730639,\n",
    "864691134988608634,\n",
    "864691135382990571,\n",
    "864691136617134811,\n",
    "864691135753592525,\n",
    "864691135841095907,\n",
    "864691136056568536,\n",
    "864691135609490439,\n",
    "864691135926327508,\n",
    "864691135474614848,\n",
    "864691135341057989,\n",
    "864691137196942401,\n",
    "864691135939404545,\n",
    "864691135155711844,\n",
    "864691136008496556,\n",
    "864691136008729518,\n",
    "864691135883914352,\n",
    "864691135345291423,\n",
    "864691136041004886,\n",
    "864691137196949569,\n",
    "864691135975576131,\n",
    "864691135463533125,\n",
    "864691135653543364,\n",
    "864691135373423816,\n",
    "864691135850470343,\n",
    "864691135210232512,\n",
    "864691135775809453,\n",
    "864691136486808850,\n",
    "864691136008511148,\n",
    "864691136031686843,\n",
    "864691135576995845,\n",
    "864691135490245479,\n",
    "864691136008436140,\n",
    "864691135571307557,\n",
    "864691135753669837,\n",
    "864691136090951092,\n",
    "864691135065024068,\n",
    "864691136922900452,\n",
    "864691135807230237,\n",
    "864691135373676873,\n",
    "864691135782479155,\n",
    "864691136922748900,\n",
    "864691135850464967,\n",
    "]\n",
    "\n",
    "three_soma_segment_ids_new = []"
   ]
  },
  {
   "cell_type": "code",
   "execution_count": 6,
   "metadata": {},
   "outputs": [
    {
     "data": {
      "text/plain": [
       "53"
      ]
     },
     "execution_count": 6,
     "metadata": {},
     "output_type": "execute_result"
    }
   ],
   "source": [
    "segment_ids = two_soma_segment_ids_new\n",
    "len(segment_ids)"
   ]
  },
  {
   "cell_type": "markdown",
   "metadata": {},
   "source": [
    "# Insert Segment IDs into a table that can control downstream analysis"
   ]
  },
  {
   "cell_type": "code",
   "execution_count": 7,
   "metadata": {},
   "outputs": [
    {
     "data": {
      "text/plain": [
       "'  Need to insert '"
      ]
     },
     "execution_count": 7,
     "metadata": {},
     "output_type": "execute_result"
    }
   ],
   "source": [
    "\"\"\"  Need to insert \"\"\""
   ]
  },
  {
   "cell_type": "code",
   "execution_count": 8,
   "metadata": {},
   "outputs": [],
   "source": [
    "import datajoint as dj"
   ]
  },
  {
   "cell_type": "code",
   "execution_count": 9,
   "metadata": {},
   "outputs": [],
   "source": [
    "# @schema\n",
    "# class MultiSomaProofread2(dj.Manual):\n",
    "#     definition=\"\"\"\n",
    "#     segment_id : bigint unsigned  #segment id for those to be decimated\n",
    "#     ---\n",
    "#     n_somas : int #the number of somas associated with the neuron from the Allen Institute\n",
    "#     \"\"\"\n",
    "    \n",
    "    \n",
    "# dict_of_seg_2_soma = [dict(segment_id=k,n_somas=2) for k in two_soma_segment_ids_new]\n",
    "# dict_of_seg_3_soma = [dict(segment_id=k,n_somas=3) for k in three_soma_segment_ids_new]\n",
    "# MultiSomaProofread2.insert(dict_of_seg_2_soma + dict_of_seg_3_soma,skip_duplicates=True)\n",
    "# MultiSomaProofread2()"
   ]
  },
  {
   "cell_type": "code",
   "execution_count": 10,
   "metadata": {},
   "outputs": [
    {
     "data": {
      "text/html": [
       "\n",
       "        \n",
       "        <style type=\"text/css\">\n",
       "            .Relation{\n",
       "                border-collapse:collapse;\n",
       "            }\n",
       "            .Relation th{\n",
       "                background: #A0A0A0; color: #ffffff; padding:4px; border:#f0e0e0 1px solid;\n",
       "                font-weight: normal; font-family: monospace; font-size: 100%;\n",
       "            }\n",
       "            .Relation td{\n",
       "                padding:4px; border:#f0e0e0 1px solid; font-size:100%;\n",
       "            }\n",
       "            .Relation tr:nth-child(odd){\n",
       "                background: #ffffff;\n",
       "            }\n",
       "            .Relation tr:nth-child(even){\n",
       "                background: #f3f1ff;\n",
       "            }\n",
       "            /* Tooltip container */\n",
       "            .djtooltip {\n",
       "            }\n",
       "            /* Tooltip text */\n",
       "            .djtooltip .djtooltiptext {\n",
       "                visibility: hidden;\n",
       "                width: 120px;\n",
       "                background-color: black;\n",
       "                color: #fff;\n",
       "                text-align: center;\n",
       "                padding: 5px 0;\n",
       "                border-radius: 6px;\n",
       "                /* Position the tooltip text - see examples below! */\n",
       "                position: absolute;\n",
       "                z-index: 1;\n",
       "            }\n",
       "            #primary {\n",
       "                font-weight: bold;\n",
       "                color: black;\n",
       "            }\n",
       "\n",
       "            #nonprimary {\n",
       "                font-weight: normal;\n",
       "                color: white;\n",
       "            }\n",
       "\n",
       "            /* Show the tooltip text when you mouse over the tooltip container */\n",
       "            .djtooltip:hover .djtooltiptext {\n",
       "                visibility: visible;\n",
       "            }\n",
       "        </style>\n",
       "        \n",
       "        <b></b>\n",
       "            <div style=\"max-height:1000px;max-width:1500px;overflow:auto;\">\n",
       "            <table border=\"1\" class=\"Relation\">\n",
       "                <thead> <tr style=\"text-align: right;\"> <th> <div class=\"djtooltip\">\n",
       "                                <p id=\"primary\">segment_id</p>\n",
       "                                <span class=\"djtooltiptext\">segment id for those to be decimated</span>\n",
       "                            </div></th><th><div class=\"djtooltip\">\n",
       "                                <p id=\"primary\">month</p>\n",
       "                                <span class=\"djtooltiptext\">the month that the cell was added</span>\n",
       "                            </div></th><th><div class=\"djtooltip\">\n",
       "                                <p id=\"primary\">day</p>\n",
       "                                <span class=\"djtooltiptext\">the day that the cell was added</span>\n",
       "                            </div></th><th><div class=\"djtooltip\">\n",
       "                                <p id=\"primary\">year</p>\n",
       "                                <span class=\"djtooltiptext\">the year that the cell was added</span>\n",
       "                            </div></th><th><div class=\"djtooltip\">\n",
       "                                <p id=\"nonprimary\">n_somas</p>\n",
       "                                <span class=\"djtooltiptext\">the number of somas associated with the neuron from the Allen Institute</span>\n",
       "                            </div> </th> </tr> </thead>\n",
       "                <tbody> <tr> <td>864691134964412191</td>\n",
       "<td>1</td>\n",
       "<td>28</td>\n",
       "<td>2021</td>\n",
       "<td>2</td></tr><tr><td>864691134988608634</td>\n",
       "<td>1</td>\n",
       "<td>28</td>\n",
       "<td>2021</td>\n",
       "<td>2</td></tr><tr><td>864691135012398582</td>\n",
       "<td>1</td>\n",
       "<td>28</td>\n",
       "<td>2021</td>\n",
       "<td>2</td></tr><tr><td>864691135065024068</td>\n",
       "<td>1</td>\n",
       "<td>28</td>\n",
       "<td>2021</td>\n",
       "<td>2</td></tr><tr><td>864691135155711844</td>\n",
       "<td>1</td>\n",
       "<td>28</td>\n",
       "<td>2021</td>\n",
       "<td>2</td></tr><tr><td>864691135162240557</td>\n",
       "<td>1</td>\n",
       "<td>28</td>\n",
       "<td>2021</td>\n",
       "<td>2</td></tr><tr><td>864691135210077120</td>\n",
       "<td>1</td>\n",
       "<td>28</td>\n",
       "<td>2021</td>\n",
       "<td>2</td></tr><tr><td>864691135210232512</td>\n",
       "<td>1</td>\n",
       "<td>28</td>\n",
       "<td>2021</td>\n",
       "<td>2</td></tr><tr><td>864691135341057989</td>\n",
       "<td>1</td>\n",
       "<td>28</td>\n",
       "<td>2021</td>\n",
       "<td>2</td></tr><tr><td>864691135341171909</td>\n",
       "<td>1</td>\n",
       "<td>28</td>\n",
       "<td>2021</td>\n",
       "<td>2</td></tr><tr><td>864691135341203141</td>\n",
       "<td>1</td>\n",
       "<td>28</td>\n",
       "<td>2021</td>\n",
       "<td>3</td></tr><tr><td>864691135345134239</td>\n",
       "<td>1</td>\n",
       "<td>28</td>\n",
       "<td>2021</td>\n",
       "<td>2</td> </tr> </tbody>\n",
       "            </table>\n",
       "            <p>...</p>\n",
       "            <p>Total: 101</p></div>\n",
       "            "
      ],
      "text/plain": [
       "*segment_id    *month    *day    *year    n_somas    \n",
       "+------------+ +-------+ +-----+ +------+ +---------+\n",
       "86469113496441 1         28      2021     2          \n",
       "86469113498860 1         28      2021     2          \n",
       "86469113501239 1         28      2021     2          \n",
       "86469113506502 1         28      2021     2          \n",
       "86469113515571 1         28      2021     2          \n",
       "86469113516224 1         28      2021     2          \n",
       "86469113521007 1         28      2021     2          \n",
       "86469113521023 1         28      2021     2          \n",
       "86469113534105 1         28      2021     2          \n",
       "86469113534117 1         28      2021     2          \n",
       "86469113534120 1         28      2021     3          \n",
       "86469113534513 1         28      2021     2          \n",
       "   ...\n",
       " (Total: 101)"
      ]
     },
     "execution_count": 10,
     "metadata": {},
     "output_type": "execute_result"
    }
   ],
   "source": [
    "@schema\n",
    "class AllenProofreading(dj.Manual):\n",
    "    definition=\"\"\"\n",
    "    segment_id : bigint unsigned  #segment id for those to be decimated\n",
    "    month: tinyint #the month that the cell was added\n",
    "    day: tinyint #the day that the cell was added \n",
    "    year: int unsigned  #the year that the cell was added\n",
    "    ---\n",
    "    n_somas : int #the number of somas associated with the neuron from the Allen Institute\n",
    "    \n",
    "    \"\"\"\n",
    "month = 1\n",
    "day = 28\n",
    "year = 2021\n",
    "\n",
    "double_somas =two_soma_segment_ids_new\n",
    "triple_somas = three_soma_segment_ids_new\n",
    "    \n",
    "dict_of_seg_2_soma = [dict(segment_id=k,n_somas=2,month=month,day=day,year=year) for k in double_somas]\n",
    "dict_of_seg_3_soma = [dict(segment_id=k,n_somas=3,month=month,day=day,year=year) for k in triple_somas]\n",
    "AllenProofreading.insert(dict_of_seg_2_soma + dict_of_seg_3_soma,skip_duplicates=True)\n",
    "AllenProofreading() & dict(month=1,day=28,year=2021)"
   ]
  },
  {
   "cell_type": "markdown",
   "metadata": {},
   "source": [
    "# Doing the Downloading and Insertion"
   ]
  },
  {
   "cell_type": "code",
   "execution_count": 11,
   "metadata": {},
   "outputs": [
    {
     "name": "stderr",
     "output_type": "stream",
     "text": [
      "INFO - 2021-03-04 04:23:02,094 - settings - Setting database.host to at-database.ad.bcm.edu\n",
      "INFO - 2021-03-04 04:23:02,095 - settings - Setting database.user to celiib\n",
      "INFO - 2021-03-04 04:23:02,096 - settings - Setting database.password to newceliipass\n",
      "INFO - 2021-03-04 04:23:02,100 - settings - Setting enable_python_native_blobs to True\n",
      "INFO - 2021-03-04 04:23:02,573 - settings - Setting enable_python_native_blobs to True\n"
     ]
    },
    {
     "data": {
      "text/plain": [
       "array([864691135155711844, 864691135210232512, 864691135564804951,\n",
       "       864691135700441723, 864691135850470343, 864691136008729518,\n",
       "       864691136056568536, 864691136175165190, 864691136311803709,\n",
       "       864691136922900452])"
      ]
     },
     "execution_count": 11,
     "metadata": {},
     "output_type": "execute_result"
    }
   ],
   "source": [
    "minnie,_ = du.configure_minnie_vm()\n",
    "missing_ids = (minnie.AllenProofreading.proj() - minnie.Mesh.proj()).fetch(\"segment_id\")\n",
    "missing_ids"
   ]
  },
  {
   "cell_type": "code",
   "execution_count": 12,
   "metadata": {},
   "outputs": [
    {
     "data": {
      "text/plain": [
       "array([864691135724333739, 864691135293126156, 864691136023889209,\n",
       "       864691136951664863, 864691135462463389, 864691136108768952,\n",
       "       864691135517422218, 864691136194248918, 864691136116205476,\n",
       "       864691135446675028, 864691135564752471, 864691136378815445,\n",
       "       864691135953898760, 864691137019596142, 864691135367058169,\n",
       "       864691135617953423, 864691135508879113, 864691135272206865,\n",
       "       864691135440543560, 864691135865773189, 864691135117980637,\n",
       "       864691135644809967, 864691134884807418, 864691135415666362,\n",
       "       864691135583884664, 864691135776732256, 864691135385422677,\n",
       "       864691136811995507, 864691135233242713, 864691135775906989,\n",
       "       864691136925601354, 864691135761634358, 864691135937286404,\n",
       "       864691135848030814, 864691135718541617, 864691135700409211,\n",
       "       864691135593659947, 864691136378859477, 864691135462420637,\n",
       "       864691135975633475, 864691135809608652, 864691135782544435,\n",
       "       864691136436509342, 864691135334584297, 864691136812081779,\n",
       "       864691135975539779, 864691135815579983, 864691135517531786,\n",
       "       864691135497743635, 864691135564739159, 864691135915343462,\n",
       "       864691135761725238, 864691135358985048, 864691135337845734,\n",
       "       864691135724393131])"
      ]
     },
     "execution_count": 12,
     "metadata": {},
     "output_type": "execute_result"
    }
   ],
   "source": [
    "proofread_segment_ids = minnie.AutoProofreadValidationSegmentMap().fetch(\"segment_id\")\n",
    "proofread_segment_ids"
   ]
  },
  {
   "cell_type": "code",
   "execution_count": 18,
   "metadata": {},
   "outputs": [],
   "source": [
    "import meshparty\n",
    "meshparty.trimesh_repair.get_link_edges?"
   ]
  },
  {
   "cell_type": "code",
   "execution_count": null,
   "metadata": {},
   "outputs": [],
   "source": [
    "minnie.Decimation() & \"segment_id='864691136378815445'\""
   ]
  },
  {
   "cell_type": "code",
   "execution_count": 19,
   "metadata": {},
   "outputs": [
    {
     "name": "stdout",
     "output_type": "stream",
     "text": [
      "Computing 1 parameters with 1 cpus.\n"
     ]
    },
    {
     "name": "stderr",
     "output_type": "stream",
     "text": [
      "\r",
      "Downloading Meshes:   0%|          | 0/1 [00:00<?, ?it/s]"
     ]
    },
    {
     "name": "stdout",
     "output_type": "stream",
     "text": [
      "downloading 864691135337845734\n",
      "file does not exist ./864691135337845734.h5\n"
     ]
    },
    {
     "name": "stderr",
     "output_type": "stream",
     "text": [
      "\n",
      "  0%|          | 0/349 [00:00<?, ?it/s]\u001b[A\n",
      "  0%|          | 1/349 [00:00<00:48,  7.21it/s]\u001b[A\n",
      "  6%|▌         | 20/349 [00:00<00:02, 123.79it/s]\u001b[A\n",
      "  6%|▌         | 20/349 [00:00<00:02, 123.79it/s]\u001b[A\n",
      " 11%|█         | 39/349 [00:00<00:02, 116.55it/s]\u001b[A\n",
      " 11%|█▏        | 40/349 [00:00<00:02, 119.41it/s]\u001b[A\n",
      " 11%|█▏        | 40/349 [00:00<00:02, 119.41it/s]\u001b[A\n",
      " 11%|█▏        | 40/349 [00:00<00:02, 119.41it/s]\u001b[A\n",
      " 11%|█▏        | 40/349 [00:00<00:02, 119.41it/s]\u001b[A\n",
      " 11%|█▏        | 40/349 [00:00<00:02, 119.41it/s]\u001b[A\n",
      " 12%|█▏        | 41/349 [00:00<00:02, 119.41it/s]\u001b[A\n",
      " 12%|█▏        | 41/349 [00:00<00:02, 119.41it/s]\u001b[A\n",
      " 16%|█▌        | 55/349 [00:00<00:02, 103.87it/s]\u001b[A\n",
      " 16%|█▌        | 56/349 [00:00<00:02, 102.89it/s]\u001b[A\n",
      " 17%|█▋        | 60/349 [00:00<00:02, 102.89it/s]\u001b[A\n",
      " 17%|█▋        | 60/349 [00:00<00:02, 102.89it/s]\u001b[A\n",
      " 21%|██▏       | 75/349 [00:03<00:41,  6.65it/s] \u001b[A\n",
      " 22%|██▏       | 76/349 [00:03<00:41,  6.65it/s]\u001b[A\n",
      " 23%|██▎       | 79/349 [00:03<00:40,  6.65it/s]\u001b[A\n",
      " 23%|██▎       | 79/349 [00:03<00:40,  6.65it/s]\u001b[A\n",
      " 23%|██▎       | 80/349 [00:03<00:40,  6.65it/s]\u001b[A\n",
      " 24%|██▍       | 84/349 [00:03<00:36,  7.32it/s]\u001b[A\n",
      " 26%|██▌       | 89/349 [00:03<00:24, 10.41it/s]\u001b[A\n",
      " 28%|██▊       | 99/349 [00:03<00:24, 10.41it/s]\u001b[A\n",
      " 30%|██▉       | 103/349 [00:03<00:10, 23.23it/s]\u001b[A\n",
      " 30%|██▉       | 104/349 [00:03<00:10, 23.23it/s]\u001b[A\n",
      " 30%|██▉       | 104/349 [00:03<00:10, 23.23it/s]\u001b[A\n",
      " 31%|███       | 108/349 [00:03<00:10, 23.23it/s]\u001b[A\n",
      " 34%|███▍      | 119/349 [00:03<00:03, 60.43it/s]\u001b[A\n",
      " 34%|███▍      | 120/349 [00:03<00:03, 67.88it/s]\u001b[A\n",
      " 35%|███▍      | 121/349 [00:03<00:03, 67.88it/s]\u001b[A\n",
      " 35%|███▌      | 123/349 [00:03<00:03, 67.88it/s]\u001b[A\n",
      " 36%|███▌      | 126/349 [00:03<00:03, 67.88it/s]\u001b[A\n",
      " 39%|███▊      | 135/349 [00:03<00:02, 72.88it/s]\u001b[A\n",
      " 39%|███▉      | 136/349 [00:03<00:02, 72.88it/s]\u001b[A\n",
      " 40%|████      | 141/349 [00:03<00:02, 72.88it/s]\u001b[A\n",
      " 42%|████▏     | 145/349 [00:03<00:02, 72.88it/s]\u001b[A\n",
      " 44%|████▎     | 152/349 [00:03<00:02, 72.88it/s]\u001b[A\n",
      " 47%|████▋     | 164/349 [00:03<00:04, 41.93it/s]\u001b[A\n",
      " 49%|████▉     | 171/349 [00:03<00:04, 41.93it/s]\u001b[A\n",
      " 49%|████▉     | 172/349 [00:03<00:04, 41.93it/s]\u001b[A\n",
      " 50%|████▉     | 173/349 [00:03<00:04, 41.93it/s]\u001b[A\n",
      " 51%|█████▏    | 179/349 [00:03<00:03, 47.82it/s]\u001b[A\n",
      " 51%|█████▏    | 179/349 [00:03<00:03, 47.82it/s]\u001b[A\n",
      " 56%|█████▌    | 194/349 [00:04<00:01, 78.30it/s]\u001b[A\n",
      " 57%|█████▋    | 198/349 [00:04<00:01, 101.77it/s]\u001b[A\n",
      " 57%|█████▋    | 198/349 [00:04<00:01, 101.77it/s]\u001b[A\n",
      " 57%|█████▋    | 198/349 [00:04<00:01, 101.77it/s]\u001b[A\n",
      " 58%|█████▊    | 204/349 [00:04<00:01, 101.77it/s]\u001b[A\n",
      " 58%|█████▊    | 204/349 [00:04<00:01, 101.77it/s]\u001b[A\n",
      " 62%|██████▏   | 215/349 [00:04<00:02, 64.73it/s] \u001b[A\n",
      " 64%|██████▍   | 224/349 [00:04<00:01, 63.05it/s]\u001b[A\n",
      " 66%|██████▋   | 232/349 [00:04<00:01, 64.69it/s]\u001b[A\n",
      " 69%|██████▉   | 242/349 [00:04<00:01, 71.46it/s]\u001b[A\n",
      " 72%|███████▏  | 252/349 [00:04<00:01, 59.43it/s]\u001b[A\n",
      " 72%|███████▏  | 252/349 [00:04<00:01, 59.43it/s]\u001b[A\n",
      " 75%|███████▍  | 261/349 [00:05<00:01, 64.73it/s]\u001b[A\n",
      " 77%|███████▋  | 269/349 [00:05<00:01, 63.89it/s]\u001b[A\n",
      " 80%|████████  | 280/349 [00:05<00:00, 72.77it/s]\u001b[A\n",
      " 83%|████████▎ | 288/349 [00:05<00:00, 67.33it/s]\u001b[A\n",
      " 86%|████████▌ | 300/349 [00:05<00:00, 77.57it/s]\u001b[A\n",
      " 87%|████████▋ | 303/349 [00:05<00:00, 101.85it/s]\u001b[A\n",
      " 87%|████████▋ | 303/349 [00:05<00:00, 101.85it/s]\u001b[A\n",
      " 87%|████████▋ | 303/349 [00:05<00:00, 101.85it/s]\u001b[A\n",
      " 90%|████████▉ | 314/349 [00:05<00:00, 79.69it/s] \u001b[A\n",
      " 93%|█████████▎| 326/349 [00:05<00:00, 84.11it/s]\u001b[A\n",
      " 97%|█████████▋| 337/349 [00:06<00:00, 70.78it/s]\u001b[A\n",
      " 97%|█████████▋| 337/349 [00:06<00:00, 70.78it/s]\u001b[A\n",
      "100%|██████████| 349/349 [00:06<00:00, 70.60it/s]\u001b[A\n",
      "\n",
      "Shard Indices: 0it [00:00, ?it/s]\u001b[A\u001b[A\n",
      "\n",
      "Shard Indices: 1it [00:00,  3.51it/s]\u001b[A\u001b[A\n",
      "\n",
      "Shard Indices: 18it [00:00, 54.48it/s]\u001b[A\u001b[A\n",
      "\n",
      "Shard Indices: 29it [00:00, 46.74it/s]\u001b[A\u001b[A\n",
      "\n",
      "Shard Indices: 29it [00:00, 46.74it/s]\u001b[A\u001b[A\n",
      "\n",
      "Shard Indices: 29it [00:00, 46.74it/s]\u001b[A\u001b[A\n",
      "\n",
      "Shard Indices: 38it [00:00, 54.12it/s]\u001b[A\u001b[A\n",
      "\n",
      "Shard Indices: 45it [00:00, 53.88it/s]\u001b[A\u001b[A\n",
      "\n",
      "Shard Indices: 46it [00:00, 55.15it/s]\u001b[A\u001b[A\n",
      "\n",
      "Shard Indices: 54it [00:00, 58.08it/s]\u001b[A\u001b[A\n",
      "\n",
      "Shard Indices: 54it [00:01, 58.08it/s]\u001b[A\u001b[A\n",
      "\n",
      "Shard Indices: 62it [00:01, 61.71it/s]\u001b[A\u001b[A\n",
      "\n",
      "Shard Indices: 69it [00:01, 62.81it/s]\u001b[A\u001b[A\n",
      "\n",
      "Shard Indices: 79it [00:01, 71.95it/s]\u001b[A\u001b[A\n",
      "\n",
      "Shard Indices: 79it [00:01, 71.95it/s]\u001b[A\u001b[A\n",
      "\n",
      "\n",
      "Minishard Indices: 0it [00:00, ?it/s]\u001b[A\u001b[A\u001b[A\n",
      "\n",
      "\n",
      "Minishard Indices: 1it [00:00,  6.00it/s]\u001b[A\u001b[A\u001b[A\n",
      "\n",
      "\n",
      "Minishard Indices: 12it [00:00, 81.78it/s]\u001b[A\u001b[A\u001b[A\n",
      "\n",
      "\n",
      "Minishard Indices: 16it [00:00, 105.87it/s]\u001b[A\u001b[A\u001b[A\n",
      "\n",
      "\n",
      "Minishard Indices: 16it [00:00, 105.87it/s]\u001b[A\u001b[A\u001b[A\n",
      "\n",
      "\n",
      "Minishard Indices: 17it [00:00, 105.87it/s]\u001b[A\u001b[A\u001b[A\n",
      "\n",
      "\n",
      "Minishard Indices: 17it [00:00, 105.87it/s]\u001b[A\u001b[A\u001b[A\n",
      "\n",
      "\n",
      "Minishard Indices: 18it [00:00, 105.87it/s]\u001b[A\u001b[A\u001b[A\n",
      "\n",
      "\n",
      "Minishard Indices: 18it [00:00, 105.87it/s]\u001b[A\u001b[A\u001b[A\n",
      "\n",
      "\n",
      "Shard Indices: 83it [00:01, 45.57it/s]it/s]\u001b[A\u001b[A\u001b[A\n",
      "\n",
      "\n",
      "\n",
      "Minishard Indices: 29it [00:00, 74.98it/s] \u001b[A\u001b[A\u001b[A\n",
      "\n",
      "\n",
      "Minishard Indices: 35it [00:00, 57.59it/s]\u001b[A\u001b[A\u001b[A\n",
      "\n",
      "\n",
      "Minishard Indices: 36it [00:00, 57.59it/s]\u001b[A\u001b[A\u001b[A\n",
      "\n",
      "\n",
      "Minishard Indices: 37it [00:00, 57.59it/s]\u001b[A\u001b[A\u001b[A\n",
      "\n",
      "\n",
      "Minishard Indices: 39it [00:00, 57.59it/s]\u001b[A\u001b[A\u001b[A\n",
      "\n",
      "\n",
      "Minishard Indices: 39it [00:00, 57.59it/s]\u001b[A\u001b[A\u001b[A\n",
      "\n",
      "\n",
      "Minishard Indices: 52it [00:00, 37.26it/s]\u001b[A\u001b[A\u001b[A\n",
      "\n",
      "\n",
      "Minishard Indices: 52it [00:00, 37.26it/s]\u001b[A\u001b[A\u001b[A\n",
      "\n",
      "\n",
      "Minishard Indices: 53it [00:00, 37.26it/s]\u001b[A\u001b[A\u001b[A\n",
      "\n",
      "\n",
      "Minishard Indices: 53it [00:00, 37.26it/s]\u001b[A\u001b[A\u001b[A\n",
      "\n",
      "\n",
      "Minishard Indices: 54it [00:00, 37.26it/s]\u001b[A\u001b[A\u001b[A\n",
      "\n",
      "\n",
      "Minishard Indices: 54it [00:00, 37.26it/s]\u001b[A\u001b[A\u001b[A\n",
      "\n",
      "\n",
      "Minishard Indices: 54it [00:00, 37.26it/s]\u001b[A\u001b[A\u001b[A\n",
      "\n",
      "\n",
      "Minishard Indices: 54it [00:00, 37.26it/s]\u001b[A\u001b[A\u001b[A\n",
      "\n",
      "\n",
      "100%|██████████| 349/349 [00:08<00:00, 40.21it/s][A\n",
      "\n",
      "\n",
      "\n",
      "Minishard Indices: 58it [00:01, 34.92it/s]\u001b[A\u001b[A\u001b[A\n",
      "\n",
      "\n",
      "Minishard Indices: 71it [00:01, 69.65it/s]\u001b[A\u001b[A\u001b[A\n",
      "\n",
      "\n",
      "Minishard Indices: 72it [00:01, 81.35it/s]\u001b[A\u001b[A\u001b[A\n",
      "\n",
      "\n",
      "Minishard Indices: 72it [00:01, 81.35it/s]\u001b[A\u001b[A\u001b[A\n",
      "\n",
      "\n",
      "Minishard Indices: 74it [00:01, 81.35it/s]\u001b[A\u001b[A\u001b[A\n",
      "\n",
      "\n",
      "Minishard Indices: 85it [00:01, 60.85it/s]\u001b[A\u001b[A\u001b[A\n",
      "\n",
      "\n",
      "Minishard Indices: 85it [00:01, 60.85it/s]\u001b[A\u001b[A\u001b[A\n",
      "\n",
      "\n",
      "Minishard Indices: 93it [00:01, 63.06it/s]\u001b[A\u001b[A\u001b[A\n",
      "  0%|          | 0/82 [00:00<?, ?it/s]\u001b[A\n",
      "  1%|          | 1/82 [00:00<00:13,  6.00it/s]\u001b[A\n",
      " 21%|██        | 17/82 [00:00<00:00, 119.27it/s]\u001b[A\n",
      " 23%|██▎       | 19/82 [00:00<00:00, 129.43it/s]\u001b[A\n",
      " 23%|██▎       | 19/82 [00:00<00:00, 129.43it/s]\u001b[A\n",
      " 23%|██▎       | 19/82 [00:00<00:00, 129.43it/s]\u001b[A\n",
      " 23%|██▎       | 19/82 [00:00<00:00, 129.43it/s]\u001b[A\n",
      " 23%|██▎       | 19/82 [00:00<00:00, 129.43it/s]\u001b[A\n",
      " 23%|██▎       | 19/82 [00:00<00:00, 129.43it/s]\u001b[A\n",
      " 26%|██▌       | 21/82 [00:00<00:00, 129.43it/s]\u001b[A\n",
      " 28%|██▊       | 23/82 [00:00<00:00, 129.43it/s]\u001b[A\n",
      " 45%|████▌     | 37/82 [00:00<00:00, 74.47it/s] \u001b[A\n",
      " 45%|████▌     | 37/82 [00:00<00:00, 74.47it/s]\u001b[A\n",
      " 59%|█████▊    | 48/82 [00:00<00:00, 79.29it/s]\u001b[A\n",
      " 71%|███████   | 58/82 [00:00<00:00, 83.31it/s]\u001b[A\n",
      " 85%|████████▌ | 70/82 [00:00<00:00, 95.74it/s]\u001b[A\n",
      " 87%|████████▋ | 71/82 [00:00<00:00, 102.69it/s]\u001b[A\n",
      " 87%|████████▋ | 71/82 [00:00<00:00, 102.69it/s]\u001b[A\n",
      "100%|██████████| 82/82 [00:01<00:00, 61.79it/s] \u001b[A\n",
      "\n",
      "Shard Indices: 0it [00:00, ?it/s]\u001b[A\u001b[A\n",
      "\n",
      "Shard Indices: 1it [00:00,  3.36it/s]\u001b[A\u001b[A\n",
      "\n",
      "Shard Indices: 14it [00:00, 44.15it/s]\u001b[A\u001b[A\n",
      "\n",
      "Shard Indices: 22it [00:00, 39.37it/s]\u001b[A\u001b[A\n",
      "\n",
      "\n",
      "\n",
      "100%|██████████| 82/82 [00:02<00:00, 37.72it/s][A\n",
      "Shard Indices: 27it [00:00, 29.59it/s]\n",
      "\n",
      "\n",
      "\n",
      "\n",
      "Minishard Indices: 1it [00:00,  3.74it/s]\u001b[A\u001b[A\u001b[A\u001b[A\n",
      "\n",
      "\n",
      "\n",
      "Minishard Indices: 18it [00:00, 85.80it/s]\u001b[A\u001b[A\u001b[A\u001b[A\n",
      "\n",
      "\n",
      "\n",
      "Minishard Indices: 18it [00:00, 85.80it/s]\u001b[A\u001b[A\u001b[A\u001b[A\n",
      "  0%|          | 0/28 [00:00<?, ?it/s]\u001b[A\n",
      "  4%|▎         | 1/28 [00:00<00:07,  3.42it/s]\u001b[A\n",
      " 46%|████▋     | 13/28 [00:00<00:00, 39.30it/s]\u001b[A\n",
      " 71%|███████▏  | 20/28 [00:00<00:00, 43.25it/s]\u001b[A\n",
      " 93%|█████████▎| 26/28 [00:00<00:00, 45.56it/s]\u001b[A\n",
      "\n",
      "Shard Indices: 0it [00:00, ?it/s]\u001b[A\u001b[A\n",
      "\n",
      "Shard Indices: 1it [00:00,  2.71it/s]\u001b[A\u001b[A\n",
      "\n",
      "Shard Indices: 7it [00:00,  9.69it/s]\u001b[A\u001b[A\n",
      "\n",
      "Shard Indices: 8it [00:00,  9.69it/s]\u001b[A\u001b[A\n",
      "\n",
      "Shard Indices: 10it [00:00,  9.69it/s]\u001b[A\u001b[A\n",
      "\n",
      "Shard Indices: 11it [00:00,  9.69it/s]\u001b[A\u001b[A\n",
      "\n",
      "Shard Indices: 19it [00:00, 17.45it/s]\u001b[A\u001b[A\n",
      "\n",
      "Shard Indices: 22it [00:00, 17.62it/s]\u001b[A\u001b[A\n",
      "\n",
      "Shard Indices: 23it [00:00, 19.02it/s]\u001b[A\u001b[A\n",
      "\n",
      "\n",
      "\n",
      "\n",
      "100%|██████████| 28/28 [00:02<00:00, 12.46it/s][A\u001b[A\n",
      "Shard Indices: 25it [00:00, 29.00it/s]\n",
      "\n",
      "\n",
      "\n",
      "\n",
      "\n",
      "Minishard Indices: 1it [00:00,  3.29it/s]\u001b[A\u001b[A\u001b[A\u001b[A\u001b[A\n",
      "\n",
      "\n",
      "\n",
      "\n",
      "Minishard Indices: 16it [00:00, 49.71it/s]\u001b[A\u001b[A\u001b[A\u001b[A\u001b[A\n",
      "\n",
      "\n",
      "\n",
      "\n",
      "Minishard Indices: 25it [00:00, 47.16it/s]\u001b[A\u001b[A\u001b[A\u001b[A\u001b[A\n",
      "  0%|          | 0/27 [00:00<?, ?it/s]\u001b[A\n",
      "  4%|▎         | 1/27 [00:00<00:07,  3.65it/s]\u001b[A\n",
      " 11%|█         | 3/27 [00:00<00:02,  8.00it/s]\u001b[A\n",
      " 11%|█         | 3/27 [00:00<00:02,  8.00it/s]\u001b[A\n",
      " 48%|████▊     | 13/27 [00:00<00:00, 25.17it/s]\u001b[A\n",
      " 67%|██████▋   | 18/27 [00:00<00:00, 29.92it/s]\u001b[A\n",
      " 85%|████████▌ | 23/27 [00:00<00:00, 31.93it/s]\u001b[A\n",
      "\n",
      "Shard Indices: 0it [00:00, ?it/s]\u001b[A\u001b[A\n",
      "\n",
      "Shard Indices: 1it [00:00,  3.15it/s]\u001b[A\u001b[A\n",
      "\n",
      "Shard Indices: 11it [00:00, 28.92it/s]\u001b[A\u001b[A\n",
      "\n",
      "Shard Indices: 12it [00:00, 44.83it/s]\u001b[A\u001b[A\n",
      "\n",
      "\n",
      "\n",
      "\n",
      "\n",
      "100%|██████████| 27/27 [00:01<00:00, 15.49it/s][A\u001b[A\u001b[A\n",
      "Shard Indices: 14it [00:00, 20.95it/s]\n",
      "\n",
      "\n",
      "\n",
      "\n",
      "\n",
      "\n",
      "Minishard Indices: 1it [00:00,  4.13it/s]\u001b[A\u001b[A\u001b[A\u001b[A\u001b[A\u001b[A\n",
      "\n",
      "\n",
      "\n",
      "\n",
      "\n",
      "Minishard Indices: 13it [00:00, 46.78it/s]\u001b[A\u001b[A\u001b[A\u001b[A\u001b[A\u001b[A\n",
      "  0%|          | 0/15 [00:00<?, ?it/s]\u001b[A\n",
      "  7%|▋         | 1/15 [00:00<00:02,  5.63it/s]\u001b[A\n",
      " 27%|██▋       | 4/15 [00:00<00:00, 16.47it/s]\u001b[A\n",
      " 87%|████████▋ | 13/15 [00:00<00:00, 33.13it/s]\u001b[A\n",
      "\n",
      "Shard Indices: 0it [00:00, ?it/s]\u001b[A\u001b[A\n",
      "\n",
      "Shard Indices: 1it [00:00,  3.26it/s]\u001b[A\u001b[A\n",
      "\n",
      "Shard Indices: 11it [00:00, 32.64it/s]\u001b[A\u001b[A\n",
      "\n",
      "Shard Indices: 17it [00:00, 34.78it/s]\u001b[A\u001b[A\n",
      "\n",
      "\n",
      "\n",
      "\n",
      "\n",
      "\n",
      "100%|██████████| 15/15 [00:01<00:00,  9.59it/s][A\u001b[A\u001b[A\u001b[A\n",
      "Shard Indices: 20it [00:00, 21.46it/s]\n",
      "\n",
      "\n",
      "\n",
      "\n",
      "\n",
      "\n",
      "\n",
      "Minishard Indices: 1it [00:00,  4.09it/s]\u001b[A\u001b[A\u001b[A\u001b[A\u001b[A\u001b[A\u001b[A\n",
      "\n",
      "\n",
      "\n",
      "\n",
      "\n",
      "\n",
      "Minishard Indices: 14it [00:00, 49.25it/s]\u001b[A\u001b[A\u001b[A\u001b[A\u001b[A\u001b[A\u001b[A\n",
      "  0%|          | 0/20 [00:00<?, ?it/s]\u001b[A\n",
      "  5%|▌         | 1/20 [00:00<00:03,  6.07it/s]\u001b[A\n",
      " 70%|███████   | 14/20 [00:00<00:00, 62.67it/s]\u001b[A\n",
      "\n",
      "Shard Indices: 0it [00:00, ?it/s]\u001b[A\u001b[A\n",
      "\n",
      "Shard Indices: 1it [00:00,  3.13it/s]\u001b[A\u001b[A\n",
      "\n",
      "Shard Indices: 10it [00:00, 29.87it/s]\u001b[A\u001b[A\n",
      "\n",
      "\n",
      "\n",
      "\n",
      "\n",
      "\n",
      "\n",
      "Minishard Indices: 0it [00:00, ?it/s]\u001b[A\u001b[A\u001b[A\u001b[A\u001b[A\u001b[A\u001b[A\u001b[A\n",
      "\n",
      "\n",
      "\n",
      "\n",
      "\n",
      "\n",
      "\n",
      "Minishard Indices: 1it [00:00,  3.86it/s]\u001b[A\u001b[A\u001b[A\u001b[A\u001b[A\u001b[A\u001b[A\u001b[A\n",
      "\n",
      "\n",
      "\n",
      "\n",
      "\n",
      "\n",
      "\n",
      "Minishard Indices: 10it [00:00, 33.42it/s]\u001b[A\u001b[A\u001b[A\u001b[A\u001b[A\u001b[A\u001b[A\u001b[A\n",
      "\n",
      "\n",
      "\n",
      "\n",
      "\n",
      "\n",
      "\n",
      "\n",
      "100%|██████████| 20/20 [00:01<00:00, 11.43it/s]\u001b[A\u001b[A\u001b[A\u001b[A\u001b[A\u001b[A\n",
      "Shard Indices: 11it [00:01,  9.18it/s]\n",
      "Minishard Indices: 12it [00:00, 18.12it/s]\n",
      "\n",
      "\n",
      "\n",
      "\n",
      "\n",
      "\n",
      "\n",
      "\n",
      "\n",
      "  8%|▊         | 1/12 [00:00<00:03,  3.25it/s]\u001b[A\u001b[A\u001b[A\u001b[A\u001b[A\u001b[A\u001b[A\u001b[A\u001b[A\n",
      "\n",
      "\n",
      "\n",
      "\n",
      "\n",
      "\n",
      "\n",
      "\n",
      " 25%|██▌       | 3/12 [00:00<00:01,  7.14it/s]\u001b[A\u001b[A\u001b[A\u001b[A\u001b[A\u001b[A\u001b[A\u001b[A\u001b[A\n",
      "\n",
      "\n",
      "\n",
      "\n",
      "\n",
      "\n",
      "\n",
      "\n",
      " 25%|██▌       | 3/12 [00:00<00:01,  7.14it/s]\u001b[A\u001b[A\u001b[A\u001b[A\u001b[A\u001b[A\u001b[A\u001b[A\u001b[A\n",
      "\n",
      "\n",
      "\n",
      "\n",
      "\n",
      "\n",
      "\n",
      "\n",
      " 58%|█████▊    | 7/12 [00:00<00:00, 12.78it/s]\u001b[A\u001b[A\u001b[A\u001b[A\u001b[A\u001b[A\u001b[A\u001b[A\u001b[A\n",
      "\n",
      "\n",
      "\n",
      "\n",
      "\n",
      "\n",
      "\n",
      "\n",
      " 83%|████████▎ | 10/12 [00:00<00:00, 14.76it/s]\u001b[A\u001b[A\u001b[A\u001b[A\u001b[A\u001b[A\u001b[A\u001b[A\u001b[A\n",
      "\n",
      "\n",
      "\n",
      "\n",
      "\n",
      "\n",
      "\n",
      "\n",
      "100%|██████████| 12/12 [00:00<00:00, 14.29it/s]\u001b[A\u001b[A\u001b[A\u001b[A\u001b[A\u001b[A\u001b[A\u001b[A\u001b[A\n",
      "\n",
      "\n",
      "\n",
      "\n",
      "\n",
      "\n",
      "Minishard Indices: 20it [00:10, 49.25it/s]\u001b[A\u001b[A\u001b[A\u001b[A\u001b[A\u001b[A\u001b[A\n",
      "\n",
      "\n",
      "\n",
      "\n",
      "Minishard Indices: 27it [00:15, 47.16it/s]\u001b[A\u001b[A\u001b[A\u001b[A\u001b[A\n",
      "\n",
      "\n",
      "Minishard Indices: 93it [00:21, 63.06it/s]\u001b[A\u001b[A\u001b[A\n",
      "\n",
      "\n",
      "\n",
      "Minishard Indices: 28it [00:18, 85.80it/s]\u001b[A\u001b[A\u001b[A\u001b[A\n",
      "\n",
      "\n",
      "\n",
      "\n",
      "\n",
      "Minishard Indices: 15it [00:12, 46.78it/s]\u001b[A\u001b[A\u001b[A\u001b[A\u001b[A\u001b[A\n",
      "\n",
      "\n",
      "\n",
      "\n",
      "\n",
      "\n",
      "\n",
      "\n",
      "Downloading Meshes: 100%|██████████| 1/1 [01:01<00:00, 61.97s/it]\u001b[A\u001b[A\u001b[A"
     ]
    },
    {
     "name": "stdout",
     "output_type": "stream",
     "text": [
      "Warning: deduplication not currently supported for this layer's variable layered draco meshes\n"
     ]
    },
    {
     "name": "stderr",
     "output_type": "stream",
     "text": [
      "\n"
     ]
    },
    {
     "name": "stdout",
     "output_type": "stream",
     "text": [
      "\n",
      "Time to compute grid: 68.478s\n"
     ]
    }
   ],
   "source": [
    "overwrite = False\n",
    "target_dir = \"./\"\n",
    "cloudvolume_path = \"graphene://https://minniev1.microns-daf.com/segmentation/table/minnie3_v1\"\n",
    "download_each_supress_errors = False\n",
    "stitch_mesh_chunks = True\n",
    "n_threads= 1\n",
    "verbose=True\n",
    "\n",
    "from meshparty import trimesh_io\n",
    "\n",
    "trimesh_io.download_meshes(\n",
    "            seg_ids=[864691135337845734], #segment that was a proofread mesh\n",
    "            target_dir=target_dir,\n",
    "            cv_path=cloudvolume_path,\n",
    "            overwrite=overwrite,\n",
    "            n_threads=n_threads,\n",
    "            verbose=verbose,\n",
    "            stitch_mesh_chunks=stitch_mesh_chunks,\n",
    "        )\n"
   ]
  },
  {
   "cell_type": "code",
   "execution_count": 42,
   "metadata": {},
   "outputs": [],
   "source": [
    "segment_id=864691135337845734"
   ]
  },
  {
   "cell_type": "code",
   "execution_count": 32,
   "metadata": {},
   "outputs": [],
   "source": [
    "from pathlib import Path\n",
    "p = Path(\"./864691135337845734.h5\")"
   ]
  },
  {
   "cell_type": "code",
   "execution_count": 36,
   "metadata": {},
   "outputs": [],
   "source": [
    "vertices,faces,_,_,_ = trimesh_io.read_mesh_h5(p)\n"
   ]
  },
  {
   "cell_type": "code",
   "execution_count": 65,
   "metadata": {},
   "outputs": [
    {
     "data": {
      "text/plain": [
       "(4334983, 3)"
      ]
     },
     "execution_count": 65,
     "metadata": {},
     "output_type": "execute_result"
    }
   ],
   "source": [
    "vertices.shape"
   ]
  },
  {
   "cell_type": "code",
   "execution_count": 70,
   "metadata": {},
   "outputs": [
    {
     "data": {
      "text/plain": [
       "<trimesh.Mesh(vertices.shape=(4334983, 3), faces.shape=(8650017, 3))>"
      ]
     },
     "execution_count": 70,
     "metadata": {},
     "output_type": "execute_result"
    }
   ],
   "source": [
    "limb_obj_tr_io_new  = trimesh_io.Mesh(vertices = vertices,\n",
    "                                                           faces = faces,\n",
    "                                                           normals=None)\n",
    "limb_obj_tr_io_new"
   ]
  },
  {
   "cell_type": "code",
   "execution_count": 73,
   "metadata": {},
   "outputs": [
    {
     "data": {
      "text/plain": [
       "(25950051, 2)"
      ]
     },
     "execution_count": 73,
     "metadata": {},
     "output_type": "execute_result"
    }
   ],
   "source": [
    "limb_obj_tr_io_new.graph_edges.shape"
   ]
  },
  {
   "cell_type": "code",
   "execution_count": 48,
   "metadata": {},
   "outputs": [
    {
     "name": "stdout",
     "output_type": "stream",
     "text": [
      "230 512\n"
     ]
    }
   ],
   "source": [
    "limb_obj_tr_io.add_link_edges(seg_id = segment_id,\n",
    "                             datastack_name=\"minnie65_phase3_v1\",\n",
    "                             verbose=True)"
   ]
  },
  {
   "cell_type": "code",
   "execution_count": 69,
   "metadata": {},
   "outputs": [
    {
     "data": {
      "text/plain": [
       "(25950051, 2)"
      ]
     },
     "execution_count": 69,
     "metadata": {},
     "output_type": "execute_result"
    }
   ],
   "source": [
    "limb_obj_tr_io.edges.shape"
   ]
  },
  {
   "cell_type": "code",
   "execution_count": 68,
   "metadata": {},
   "outputs": [
    {
     "data": {
      "text/plain": [
       "(25950511, 2)"
      ]
     },
     "execution_count": 68,
     "metadata": {},
     "output_type": "execute_result"
    }
   ],
   "source": [
    "limb_obj_tr_io.graph_edges.shape"
   ]
  },
  {
   "cell_type": "code",
   "execution_count": 52,
   "metadata": {},
   "outputs": [
    {
     "data": {
      "text/plain": [
       "['ScalingManagement',\n",
       " '_MeshIndex',\n",
       " '__abstractmethods__',\n",
       " '__add__',\n",
       " '__class__',\n",
       " '__copy__',\n",
       " '__deepcopy__',\n",
       " '__delattr__',\n",
       " '__dict__',\n",
       " '__dir__',\n",
       " '__doc__',\n",
       " '__eq__',\n",
       " '__format__',\n",
       " '__ge__',\n",
       " '__getattribute__',\n",
       " '__gt__',\n",
       " '__hash__',\n",
       " '__init__',\n",
       " '__init_subclass__',\n",
       " '__le__',\n",
       " '__lt__',\n",
       " '__module__',\n",
       " '__ne__',\n",
       " '__new__',\n",
       " '__radd__',\n",
       " '__reduce__',\n",
       " '__reduce_ex__',\n",
       " '__repr__',\n",
       " '__setattr__',\n",
       " '__sizeof__',\n",
       " '__str__',\n",
       " '__subclasshook__',\n",
       " '__weakref__',\n",
       " '_abc_cache',\n",
       " '_abc_negative_cache',\n",
       " '_abc_negative_cache_version',\n",
       " '_abc_registry',\n",
       " '_apply_new_mask_in_place',\n",
       " '_cache',\n",
       " '_calc_pc_align',\n",
       " '_center_mass',\n",
       " '_clear_extra_cached_vertex_keys',\n",
       " '_create_csgraph',\n",
       " '_create_nxgraph',\n",
       " '_data',\n",
       " '_density',\n",
       " '_filter_faces',\n",
       " '_filter_graph_edges',\n",
       " '_index_map',\n",
       " '_kwargs',\n",
       " '_node_mask',\n",
       " '_unmasked_size',\n",
       " '_update_voxel_scaling',\n",
       " '_visual',\n",
       " '_voxel_scaling',\n",
       " 'add_link_edges',\n",
       " 'apply_mask',\n",
       " 'apply_obb',\n",
       " 'apply_scale',\n",
       " 'apply_transform',\n",
       " 'apply_translation',\n",
       " 'area',\n",
       " 'area_faces',\n",
       " 'as_open3d',\n",
       " 'body_count',\n",
       " 'bounding_box',\n",
       " 'bounding_box_oriented',\n",
       " 'bounding_cylinder',\n",
       " 'bounding_primitive',\n",
       " 'bounding_sphere',\n",
       " 'bounds',\n",
       " 'center_mass',\n",
       " 'centroid',\n",
       " 'compute_stable_poses',\n",
       " 'contains',\n",
       " 'convert_units',\n",
       " 'convex_decomposition',\n",
       " 'convex_hull',\n",
       " 'copy',\n",
       " 'crc',\n",
       " 'csgraph',\n",
       " 'density',\n",
       " 'difference',\n",
       " 'edges',\n",
       " 'edges_face',\n",
       " 'edges_sorted',\n",
       " 'edges_sorted_tree',\n",
       " 'edges_sparse',\n",
       " 'edges_unique',\n",
       " 'edges_unique_inverse',\n",
       " 'edges_unique_length',\n",
       " 'euler_number',\n",
       " 'eval_cached',\n",
       " 'export',\n",
       " 'extents',\n",
       " 'face_adjacency',\n",
       " 'face_adjacency_angles',\n",
       " 'face_adjacency_convex',\n",
       " 'face_adjacency_edges',\n",
       " 'face_adjacency_edges_tree',\n",
       " 'face_adjacency_projections',\n",
       " 'face_adjacency_radius',\n",
       " 'face_adjacency_span',\n",
       " 'face_adjacency_tree',\n",
       " 'face_adjacency_unshared',\n",
       " 'face_angles',\n",
       " 'face_angles_sparse',\n",
       " 'face_attributes',\n",
       " 'face_normals',\n",
       " 'faces',\n",
       " 'faces_sparse',\n",
       " 'faces_unique_edges',\n",
       " 'facets',\n",
       " 'facets_area',\n",
       " 'facets_boundary',\n",
       " 'facets_normal',\n",
       " 'facets_on_hull',\n",
       " 'facets_origin',\n",
       " 'fill_holes',\n",
       " 'filter_unmasked_boolean',\n",
       " 'filter_unmasked_indices',\n",
       " 'filter_unmasked_indices_padded',\n",
       " 'fix_mesh',\n",
       " 'fix_normals',\n",
       " 'get_local_mesh',\n",
       " 'get_local_meshes',\n",
       " 'get_local_view',\n",
       " 'get_local_views',\n",
       " 'graph_edges',\n",
       " 'identifier',\n",
       " 'identifier_md5',\n",
       " 'index_map',\n",
       " 'indices_unmasked',\n",
       " 'intersection',\n",
       " 'inverse_voxel_scaling',\n",
       " 'invert',\n",
       " 'is_convex',\n",
       " 'is_empty',\n",
       " 'is_volume',\n",
       " 'is_watertight',\n",
       " 'is_winding_consistent',\n",
       " 'kdtree',\n",
       " 'link_edges',\n",
       " 'map_boolean_to_unmasked',\n",
       " 'map_indices_to_unmasked',\n",
       " 'mass',\n",
       " 'mass_properties',\n",
       " 'md5',\n",
       " 'merge_large_components',\n",
       " 'merge_vertices',\n",
       " 'metadata',\n",
       " 'moment_inertia',\n",
       " 'n_faces',\n",
       " 'n_vertices',\n",
       " 'nearest',\n",
       " 'node_mask',\n",
       " 'nxgraph',\n",
       " 'outline',\n",
       " 'permutate',\n",
       " 'principal_inertia_components',\n",
       " 'principal_inertia_transform',\n",
       " 'principal_inertia_vectors',\n",
       " 'process',\n",
       " 'pykdtree',\n",
       " 'ray',\n",
       " 'referenced_vertices',\n",
       " 'register',\n",
       " 'remove_degenerate_faces',\n",
       " 'remove_duplicate_faces',\n",
       " 'remove_infinite_values',\n",
       " 'remove_unreferenced_vertices',\n",
       " 'rezero',\n",
       " 'sample',\n",
       " 'scale',\n",
       " 'scene',\n",
       " 'section',\n",
       " 'section_multiplane',\n",
       " 'show',\n",
       " 'simplify_quadratic_decimation',\n",
       " 'slice_plane',\n",
       " 'smoothed',\n",
       " 'split',\n",
       " 'subdivide',\n",
       " 'submesh',\n",
       " 'symmetry',\n",
       " 'symmetry_axis',\n",
       " 'symmetry_section',\n",
       " 'to_dict',\n",
       " 'triangles',\n",
       " 'triangles_center',\n",
       " 'triangles_cross',\n",
       " 'triangles_tree',\n",
       " 'union',\n",
       " 'units',\n",
       " 'unmasked_size',\n",
       " 'unmerge_vertices',\n",
       " 'unwrap',\n",
       " 'update_faces',\n",
       " 'update_vertices',\n",
       " 'vertex_adjacency_graph',\n",
       " 'vertex_attributes',\n",
       " 'vertex_defects',\n",
       " 'vertex_degree',\n",
       " 'vertex_faces',\n",
       " 'vertex_neighbors',\n",
       " 'vertex_normals',\n",
       " 'vertices',\n",
       " 'visual',\n",
       " 'volume',\n",
       " 'voxel_scaling',\n",
       " 'voxelized',\n",
       " 'write_to_file']"
      ]
     },
     "execution_count": 52,
     "metadata": {},
     "output_type": "execute_result"
    }
   ],
   "source": [
    "dir(limb_obj_tr_io)"
   ]
  },
  {
   "cell_type": "code",
   "execution_count": 53,
   "metadata": {},
   "outputs": [],
   "source": [
    "import trimesh\n",
    "\n",
    "new_proofread_mesh = trimesh.Trimesh(vertices=limb_obj_tr_io.vertices,\n",
    "                        faces=limb_obj_tr_io.faces)\n",
    "\n"
   ]
  },
  {
   "cell_type": "code",
   "execution_count": 56,
   "metadata": {},
   "outputs": [],
   "source": [
    "import neuron_visualizations as nviz\n",
    "import trimesh_utils as tu"
   ]
  },
  {
   "cell_type": "code",
   "execution_count": 60,
   "metadata": {},
   "outputs": [
    {
     "name": "stderr",
     "output_type": "stream",
     "text": [
      "/meshAfterParty/meshAfterParty/trimesh_utils.py:685: VisibleDeprecationWarning: Creating an ndarray from ragged nested sequences (which is a list-or-tuple of lists-or-tuples-or ndarrays with different lengths or shapes) is deprecated. If you meant to do this, you must specify 'dtype=object' when creating the ndarray\n",
      "  ordered_comp_indices = np.array([k.astype(\"int\") for k in ordered_components])\n"
     ]
    }
   ],
   "source": [
    "split_meshes = tu.split_significant_pieces(new_proofread_mesh,2000,\n",
    "                                          connectivity=\"edges\")"
   ]
  },
  {
   "cell_type": "code",
   "execution_count": 64,
   "metadata": {},
   "outputs": [
    {
     "name": "stderr",
     "output_type": "stream",
     "text": [
      "/usr/local/lib/python3.6/dist-packages/traittypes/traittypes.py:101: UserWarning: Given trait value dtype \"float64\" does not match required type \"float64\". A coerced copy has been created.\n",
      "  np.dtype(self.dtype).name))\n"
     ]
    },
    {
     "data": {
      "application/vnd.jupyter.widget-view+json": {
       "model_id": "060b78833f194fe4abc225f9ac894c3a",
       "version_major": 2,
       "version_minor": 0
      },
      "text/plain": [
       "VBox(children=(Figure(camera=PerspectiveCamera(fov=46.0, position=(0.0, 0.0, 2.0), projectionMatrix=(1.0, 0.0,…"
      ]
     },
     "metadata": {},
     "output_type": "display_data"
    }
   ],
   "source": [
    "nviz.plot_objects(meshes=split_meshes,\n",
    "                  meshes_colors=\"random\",\n",
    "                 mesh_alpha=1)"
   ]
  },
  {
   "cell_type": "code",
   "execution_count": null,
   "metadata": {},
   "outputs": [],
   "source": []
  },
  {
   "cell_type": "code",
   "execution_count": null,
   "metadata": {},
   "outputs": [],
   "source": [
    "print(\"***********************************\")"
   ]
  },
  {
   "cell_type": "markdown",
   "metadata": {},
   "source": [
    "# Segment Id to check downloaded correctly"
   ]
  },
  {
   "cell_type": "code",
   "execution_count": 76,
   "metadata": {},
   "outputs": [],
   "source": [
    "import classification_utils as clu"
   ]
  },
  {
   "cell_type": "code",
   "execution_count": 77,
   "metadata": {},
   "outputs": [
    {
     "name": "stdout",
     "output_type": "stream",
     "text": [
      "\n",
      "Part 1: Axon like branchese \n",
      "{'L0': array([ 0,  3,  7,  8, 11, 15, 16, 52, 53, 56]), 'L1': array([ 0,  1,  2,  3,  4,  5,  6,  7,  8,  9, 10, 11, 14, 15, 16, 17, 19,\n",
      "       20, 21, 22, 23, 24, 25, 26, 27, 28, 29, 30, 31, 32, 33, 34, 35, 36,\n",
      "       37, 38, 39, 40, 41, 42, 43, 44, 45, 46, 47, 48, 49, 50, 51, 52, 53,\n",
      "       54, 55, 56, 57, 58, 59, 60, 61, 62, 63, 64, 65, 66, 67, 68, 69, 70,\n",
      "       71]), 'L5': array([5]), 'L6': array([10, 11]), 'L9': array([ 5,  6,  7,  8,  9, 10, 11])}\n",
      "Limb L0 soma angle: 13.83 \n",
      "Limb L1 soma angle: 147.72 \n",
      "Limb L2 soma angle: 137.85 \n",
      "Limb L3 soma angle: 95.28 \n",
      "Limb L4 soma angle: 103.36 \n",
      "Limb L5 soma angle: 86.72 \n",
      "Limb L6 soma angle: 115.86 \n",
      "Limb L7 soma angle: 112.12 \n",
      "Limb L8 soma angle: 114.05 \n",
      "Limb L9 soma angle: 28.68 \n",
      "\n",
      "Part 2: possible_axon_limbs = [1, 2, 3, 4, 5, 6, 7, 8]\n",
      "\n",
      "Phase 2: Working on Limb L1\n",
      "nodes_to_eliminate = []\n",
      "\n",
      "Phase 2: Working on Limb L2\n",
      "nodes_to_eliminate = [1]\n",
      "\n",
      "Phase 2: Working on Limb L3\n",
      "nodes_to_eliminate = [3]\n",
      "\n",
      "Phase 2: Working on Limb L4\n",
      "nodes_to_eliminate = []\n",
      "\n",
      "Phase 2: Working on Limb L5\n",
      "nodes_to_eliminate = [0]\n",
      "\n",
      "Phase 2: Working on Limb L6\n",
      "nodes_to_eliminate = [1]\n",
      "\n",
      "Phase 2: Working on Limb L7\n",
      "nodes_to_eliminate = []\n",
      "\n",
      "Phase 2: Working on Limb L8\n",
      "nodes_to_eliminate = []\n",
      "\n",
      "----Working on Limb L1-----\n",
      "No nodes were eliminated so don't need to add back any candidates\n",
      "\n",
      "----Working on Limb L2-----\n",
      "No endpoints were eliminated so don't need to add back any candidates\n",
      "\n",
      "----Working on Limb L3-----\n",
      "No endpoints were eliminated so don't need to add back any candidates\n",
      "\n",
      "----Working on Limb L4-----\n",
      "No nodes were eliminated so don't need to add back any candidates\n",
      "\n",
      "----Working on Limb L5-----\n",
      "No endpoints were eliminated so don't need to add back any candidates\n",
      "\n",
      "----Working on Limb L6-----\n",
      "No endpoints were eliminated so don't need to add back any candidates\n",
      "\n",
      "----Working on Limb L7-----\n",
      "No nodes were eliminated so don't need to add back any candidates\n",
      "\n",
      "----Working on Limb L8-----\n",
      "No nodes were eliminated so don't need to add back any candidates\n",
      "Final Candidates\n",
      "\n",
      "Limb 1\n",
      "Candidate 0 (crimson): array([ 0,  1,  2,  3,  4,  5,  6,  7,  8,  9, 10, 11, 12, 13, 14, 15, 16,\n",
      "       17, 18, 19, 20, 21, 22, 23, 24, 25, 26, 27, 28, 29, 30, 31, 32, 33,\n",
      "       34, 35, 36, 37, 38, 39, 40, 41, 42, 43, 44, 45, 46, 47, 48, 49, 50,\n",
      "       51, 52, 53, 54, 55, 56, 57, 58, 59, 60, 61, 62, 63, 64, 65, 66, 67,\n",
      "       68, 69, 70, 71])\n",
      "\n",
      "Limb 2\n",
      "Candidate 0 (cyan): array([0])\n",
      "Candidate 1 (palegreen): array([2, 3, 4, 5])\n",
      "\n",
      "Limb 3\n",
      "Candidate 0 (gray): array([0, 4, 5, 7])\n",
      "Candidate 1 (magenta): array([1, 2, 6])\n",
      "\n",
      "Limb 4\n",
      "Candidate 0 (blue): array([0, 1, 2, 3, 4, 5])\n",
      "\n",
      "Limb 5\n",
      "Candidate 0 (brown): array([1, 9])\n",
      "Candidate 1 (olive): array([ 2.,  3.,  4.,  5.,  6.,  7.,  8., 10.])\n",
      "\n",
      "Limb 6\n",
      "Candidate 0 (tan): array([0, 2, 4, 5, 6])\n",
      "Candidate 1 (pink): array([ 3,  7,  8,  9, 10, 11, 12])\n",
      "\n",
      "Limb 7\n",
      "Candidate 0 (blue): array([0, 1, 2])\n",
      "\n",
      "Limb 8\n",
      "Candidate 0 (olive): array([0])\n",
      "Part 3: axon_subgraph_candidates = {1: [[0, 1, 2, 3, 4, 5, 6, 7, 8, 9, 10, 11, 12, 13, 14, 15, 16, 17, 18, 19, 20, 21, 22, 23, 24, 25, 26, 27, 28, 29, 30, 31, 32, 33, 34, 35, 36, 37, 38, 39, 40, 41, 42, 43, 44, 45, 46, 47, 48, 49, 50, 51, 52, 53, 54, 55, 56, 57, 58, 59, 60, 61, 62, 63, 64, 65, 66, 67, 68, 69, 70, 71]], 2: [[0], [2, 3, 4, 5]], 3: [[0, 4, 5, 7], [1, 2, 6]], 4: [[0, 1, 2, 3, 4, 5]], 5: [[1, 9], [2, 3, 4, 5, 6.0, 7, 8, 10]], 6: [[0, 2, 4, 5, 6], [3, 7, 8, 9, 10, 11, 12]], 7: [[0, 1, 2]], 8: [[0]]}\n",
      "\n",
      "\n",
      " --- Working on limb 1, candidate # 0\n",
      "69 out of 72 branches are axons\n",
      "Axon percentage = 0.9583333333333334\n",
      "curr_axon_angle_threshold = 95\n",
      "candidate_nodes = [ 0  1  2  3  4  5  6  7  8  9 10 11 12 13 14 15 16 17 18 19 20 21 22 23\n",
      " 24 25 26 27 28 29 30 31 32 33 34 35 36 37 38 39 40 41 42 43 44 45 46 47\n",
      " 48 49 50 51 52 53 54 55 56 57 58 59 60 61 62 63 64 65 66 67 68 69 70 71]\n",
      "non_axon_branches_on_subgraph = [12 13 18]\n",
      "endnodes_to_test = [36179]\n",
      "Skeleton paths distances = [24993.17456895]\n",
      "Filtered indexes = [0]\n",
      "len(filtered_skeletons) = 1\n",
      "sk_angles = [160.54442733]\n",
      "base_final_widths = [594.08684579 545.18596646 537.12956431]\n",
      "overall_ais_width = 296.02291902418193\n",
      "ais_width = 558.800792182608\n",
      "Adding the following branches as true axons: [ 0.  1.  2.  3.  4.  5.  6.  7.  8.  9. 10. 11. 12. 13. 14. 15. 16. 17.\n",
      " 18. 19. 20. 21. 22. 23. 24. 25. 26. 27. 28. 29. 30. 31. 32. 33. 34. 35.\n",
      " 36. 37. 38. 39. 40. 41. 42. 43. 44. 45. 46. 47. 48. 49. 50. 51. 52. 53.\n",
      " 54. 55. 56. 57. 58. 59. 60. 61. 62. 63. 64. 65. 66. 67. 68. 69. 70. 71.]\n",
      "curr_soma_angle = 147.72\n",
      "max_axon_angle = 160.5444273333644\n",
      "Changing to a better axon candidate\n",
      "\n",
      "\n",
      " --- Working on limb 2, candidate # 0\n",
      "0 out of 1 branches are axons\n",
      "Axon percentage = 0.0\n",
      "Not adding candidate no axon branches detected \n",
      "\n",
      "\n",
      " --- Working on limb 2, candidate # 1\n",
      "0 out of 4 branches are axons\n",
      "Axon percentage = 0.0\n",
      "Not adding candidate no axon branches detected \n",
      "\n",
      "\n",
      " --- Working on limb 3, candidate # 0\n",
      "0 out of 4 branches are axons\n",
      "Axon percentage = 0.0\n",
      "Not adding candidate no axon branches detected \n",
      "\n",
      "\n",
      " --- Working on limb 3, candidate # 1\n",
      "0 out of 3 branches are axons\n",
      "Axon percentage = 0.0\n",
      "Not adding candidate no axon branches detected \n",
      "\n",
      "\n",
      " --- Working on limb 4, candidate # 0\n",
      "0 out of 6 branches are axons\n",
      "Axon percentage = 0.0\n",
      "Not adding candidate no axon branches detected \n",
      "\n",
      "\n",
      " --- Working on limb 5, candidate # 0\n",
      "0 out of 2 branches are axons\n",
      "Axon percentage = 0.0\n",
      "Not adding candidate no axon branches detected \n",
      "\n",
      "\n",
      " --- Working on limb 5, candidate # 1\n",
      "1 out of 8 branches are axons\n",
      "Axon percentage = 0.125\n",
      "curr_axon_angle_threshold = 120\n",
      "candidate_nodes = [ 0.  2.  3.  4.  5.  6.  7.  8. 10.]\n",
      "non_axon_branches_on_subgraph = [ 0.  2.  3.  4.  6.  7.  8. 10.]\n",
      "endnodes_to_test = []\n",
      "Not adding candidate because no angles (None) passed the threhold 120 \n",
      "\n",
      "\n",
      " --- Working on limb 6, candidate # 0\n",
      "0 out of 5 branches are axons\n",
      "Axon percentage = 0.0\n",
      "Not adding candidate no axon branches detected \n",
      "\n",
      "\n",
      " --- Working on limb 6, candidate # 1\n",
      "2 out of 7 branches are axons\n",
      "Axon percentage = 0.2857142857142857\n",
      "curr_axon_angle_threshold = 120\n",
      "candidate_nodes = [ 1  3  7  8  9 10 11 12]\n",
      "non_axon_branches_on_subgraph = [ 1  3  7  8  9 12]\n",
      "endnodes_to_test = []\n",
      "Not adding candidate because no angles (None) passed the threhold 120 \n",
      "\n",
      "\n",
      " --- Working on limb 7, candidate # 0\n",
      "0 out of 3 branches are axons\n",
      "Axon percentage = 0.0\n",
      "Not adding candidate no axon branches detected \n",
      "\n",
      "\n",
      " --- Working on limb 8, candidate # 0\n",
      "0 out of 1 branches are axons\n",
      "Axon percentage = 0.0\n",
      "Not adding candidate no axon branches detected \n",
      "Using the best axon approach\n",
      "Using True\n",
      "Limb L1: Axon branches before dendritic path filter = [ 0.  1.  2.  3.  4.  5.  6.  7.  8.  9. 10. 11. 12. 13. 14. 15. 16. 17.\n",
      " 18. 19. 20. 21. 22. 23. 24. 25. 26. 27. 28. 29. 30. 31. 32. 33. 34. 35.\n",
      " 36. 37. 38. 39. 40. 41. 42. 43. 44. 45. 46. 47. 48. 49. 50. 51. 52. 53.\n",
      " 54. 55. 56. 57. 58. 59. 60. 61. 62. 63. 64. 65. 66. 67. 68. 69. 70. 71.]\n",
      "Limb L1: Axon branches AFTER dendritic path filter = [ 0.  1.  2.  3.  4.  5.  6.  7.  8.  9. 10. 11. 12. 13. 14. 15. 16. 17.\n",
      " 18. 19. 20. 21. 22. 23. 24. 25. 26. 27. 28. 29. 30. 31. 32. 33. 34. 35.\n",
      " 36. 37. 38. 39. 40. 41. 42. 43. 44. 45. 46. 47. 48. 49. 50. 51. 52. 53.\n",
      " 54. 55. 56. 57. 58. 59. 60. 61. 62. 63. 64. 65. 66. 67. 68. 69. 70. 71.]\n",
      "\n",
      "\n",
      "Part 4: final_true_axons = {'L1': array([ 0.,  1.,  2.,  3.,  4.,  5.,  6.,  7.,  8.,  9., 10., 11., 12.,\n",
      "       13., 14., 15., 16., 17., 18., 19., 20., 21., 22., 23., 24., 25.,\n",
      "       26., 27., 28., 29., 30., 31., 32., 33., 34., 35., 36., 37., 38.,\n",
      "       39., 40., 41., 42., 43., 44., 45., 46., 47., 48., 49., 50., 51.,\n",
      "       52., 53., 54., 55., 56., 57., 58., 59., 60., 61., 62., 63., 64.,\n",
      "       65., 66., 67., 68., 69., 70., 71.])}\n"
     ]
    },
    {
     "data": {
      "text/plain": [
       "({'L1': array([ 0.,  1.,  2.,  3.,  4.,  5.,  6.,  7.,  8.,  9., 10., 11., 12.,\n",
       "         13., 14., 15., 16., 17., 18., 19., 20., 21., 22., 23., 24., 25.,\n",
       "         26., 27., 28., 29., 30., 31., 32., 33., 34., 35., 36., 37., 38.,\n",
       "         39., 40., 41., 42., 43., 44., 45., 46., 47., 48., 49., 50., 51.,\n",
       "         52., 53., 54., 55., 56., 57., 58., 59., 60., 61., 62., 63., 64.,\n",
       "         65., 66., 67., 68., 69., 70., 71.])},\n",
       " {'L0': array([ 0,  3,  8, 11, 52]),\n",
       "  'L6': array([11]),\n",
       "  'L9': array([ 5,  6,  7,  8,  9, 10, 11])})"
      ]
     },
     "execution_count": 77,
     "metadata": {},
     "output_type": "execute_result"
    }
   ],
   "source": [
    "clu.axon_classification(neuron_obj,\n",
    "                       verbose=True)"
   ]
  },
  {
   "cell_type": "code",
   "execution_count": 78,
   "metadata": {},
   "outputs": [
    {
     "name": "stdout",
     "output_type": "stream",
     "text": [
      "\n",
      " Working on visualization type: mesh\n"
     ]
    },
    {
     "data": {
      "application/vnd.jupyter.widget-view+json": {
       "model_id": "26e10c55927c451e817851b59fe86230",
       "version_major": 2,
       "version_minor": 0
      },
      "text/plain": [
       "VBox(children=(Figure(camera=PerspectiveCamera(fov=46.0, position=(0.0, 0.0, 2.0), projectionMatrix=(1.0, 0.0,…"
      ]
     },
     "metadata": {},
     "output_type": "display_data"
    }
   ],
   "source": [
    "nviz.plot_axon(neuron_obj)"
   ]
  },
  {
   "cell_type": "code",
   "execution_count": 75,
   "metadata": {},
   "outputs": [
    {
     "name": "stdout",
     "output_type": "stream",
     "text": [
      "Decompressing Neuron in minimal output mode...please wait\n",
      "\n",
      " Working on visualization type: mesh\n",
      "\n",
      " Working on visualization type: skeleton\n"
     ]
    },
    {
     "data": {
      "application/vnd.jupyter.widget-view+json": {
       "model_id": "859491b7e25d4b2190d1c60c0c1dc1d4",
       "version_major": 2,
       "version_minor": 0
      },
      "text/plain": [
       "VBox(children=(Figure(camera=PerspectiveCamera(fov=46.0, position=(0.0, 0.0, 2.0), projectionMatrix=(1.0, 0.0,…"
      ]
     },
     "metadata": {},
     "output_type": "display_data"
    }
   ],
   "source": [
    "neuron_obj = (minnie.Decomposition() & dict(segment_id=864691135337845734)).fetch1(\"decomposition\")\n",
    "nviz.visualize_neuron(neuron_obj,\n",
    "                     limb_branch_dict=\"all\")"
   ]
  },
  {
   "cell_type": "code",
   "execution_count": null,
   "metadata": {},
   "outputs": [],
   "source": [
    "import meshparty"
   ]
  },
  {
   "cell_type": "code",
   "execution_count": null,
   "metadata": {},
   "outputs": [],
   "source": [
    "dir(meshparty)"
   ]
  },
  {
   "cell_type": "code",
   "execution_count": null,
   "metadata": {},
   "outputs": [],
   "source": []
  },
  {
   "cell_type": "code",
   "execution_count": null,
   "metadata": {},
   "outputs": [],
   "source": [
    "from pathlib import Path\n",
    "Path(\"/mnt/dj-stor01/platinum/minnie65/02/meshes/864691136311803709.h5\").exists()"
   ]
  },
  {
   "cell_type": "code",
   "execution_count": null,
   "metadata": {},
   "outputs": [],
   "source": [
    "meshparty.__version__"
   ]
  },
  {
   "cell_type": "code",
   "execution_count": null,
   "metadata": {},
   "outputs": [],
   "source": []
  }
 ],
 "metadata": {
  "kernelspec": {
   "display_name": "Python 3",
   "language": "python",
   "name": "python3"
  },
  "language_info": {
   "codemirror_mode": {
    "name": "ipython",
    "version": 3
   },
   "file_extension": ".py",
   "mimetype": "text/x-python",
   "name": "python",
   "nbconvert_exporter": "python",
   "pygments_lexer": "ipython3",
   "version": "3.6.9"
  }
 },
 "nbformat": 4,
 "nbformat_minor": 4
}
