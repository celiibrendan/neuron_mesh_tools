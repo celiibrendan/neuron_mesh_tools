{
 "cells": [
  {
   "cell_type": "code",
   "execution_count": null,
   "metadata": {},
   "outputs": [],
   "source": [
    "\"\"\"\n",
    "To \n",
    "\n",
    "\n",
    "\"\"\""
   ]
  },
  {
   "cell_type": "code",
   "execution_count": 117,
   "metadata": {},
   "outputs": [
    {
     "name": "stdout",
     "output_type": "stream",
     "text": [
      "The autoreload extension is already loaded. To reload it, use:\n",
      "  %reload_ext autoreload\n"
     ]
    }
   ],
   "source": [
    "%load_ext autoreload\n",
    "%autoreload 2"
   ]
  },
  {
   "cell_type": "code",
   "execution_count": 1,
   "metadata": {},
   "outputs": [],
   "source": [
    "from os import sys\n",
    "sys.path.append(\"/meshAfterParty/\")"
   ]
  },
  {
   "cell_type": "code",
   "execution_count": 73,
   "metadata": {},
   "outputs": [],
   "source": [
    "import datajoint_utils as du"
   ]
  },
  {
   "cell_type": "code",
   "execution_count": 74,
   "metadata": {},
   "outputs": [
    {
     "name": "stderr",
     "output_type": "stream",
     "text": [
      "INFO - 2021-01-08 01:14:40,968 - settings - Setting enable_python_native_blobs to True\n",
      "INFO - 2021-01-08 01:14:41,242 - settings - Setting enable_python_native_blobs to True\n"
     ]
    }
   ],
   "source": [
    "minnie,schema = du.configure_minnie_vm()"
   ]
  },
  {
   "cell_type": "markdown",
   "metadata": {},
   "source": [
    "# Inspecting Decimation"
   ]
  },
  {
   "cell_type": "code",
   "execution_count": 10,
   "metadata": {},
   "outputs": [
    {
     "data": {
      "text/html": [
       "\n",
       "        \n",
       "        <style type=\"text/css\">\n",
       "            .Relation{\n",
       "                border-collapse:collapse;\n",
       "            }\n",
       "            .Relation th{\n",
       "                background: #A0A0A0; color: #ffffff; padding:4px; border:#f0e0e0 1px solid;\n",
       "                font-weight: normal; font-family: monospace; font-size: 100%;\n",
       "            }\n",
       "            .Relation td{\n",
       "                padding:4px; border:#f0e0e0 1px solid; font-size:100%;\n",
       "            }\n",
       "            .Relation tr:nth-child(odd){\n",
       "                background: #ffffff;\n",
       "            }\n",
       "            .Relation tr:nth-child(even){\n",
       "                background: #f3f1ff;\n",
       "            }\n",
       "            /* Tooltip container */\n",
       "            .djtooltip {\n",
       "            }\n",
       "            /* Tooltip text */\n",
       "            .djtooltip .djtooltiptext {\n",
       "                visibility: hidden;\n",
       "                width: 120px;\n",
       "                background-color: black;\n",
       "                color: #fff;\n",
       "                text-align: center;\n",
       "                padding: 5px 0;\n",
       "                border-radius: 6px;\n",
       "                /* Position the tooltip text - see examples below! */\n",
       "                position: absolute;\n",
       "                z-index: 1;\n",
       "            }\n",
       "            #primary {\n",
       "                font-weight: bold;\n",
       "                color: black;\n",
       "            }\n",
       "\n",
       "            #nonprimary {\n",
       "                font-weight: normal;\n",
       "                color: white;\n",
       "            }\n",
       "\n",
       "            /* Show the tooltip text when you mouse over the tooltip container */\n",
       "            .djtooltip:hover .djtooltiptext {\n",
       "                visibility: visible;\n",
       "            }\n",
       "        </style>\n",
       "        \n",
       "        <b></b>\n",
       "            <div style=\"max-height:1000px;max-width:1500px;overflow:auto;\">\n",
       "            <table border=\"1\" class=\"Relation\">\n",
       "                <thead> <tr style=\"text-align: right;\"> <th> <div class=\"djtooltip\">\n",
       "                                <p id=\"primary\">segment_id</p>\n",
       "                                <span class=\"djtooltiptext\">segment id for those to be decimated</span>\n",
       "                            </div></th><th><div class=\"djtooltip\">\n",
       "                                <p id=\"nonprimary\">n_somas</p>\n",
       "                                <span class=\"djtooltiptext\">the number of somas associated with the neuron from the Allen Institute</span>\n",
       "                            </div> </th> </tr> </thead>\n",
       "                <tbody> <tr> <td>864691134947393276</td>\n",
       "<td>3</td></tr><tr><td>864691135012398582</td>\n",
       "<td>2</td></tr><tr><td>864691135012471798</td>\n",
       "<td>2</td></tr><tr><td>864691135012571126</td>\n",
       "<td>2</td></tr><tr><td>864691135012905110</td>\n",
       "<td>2</td></tr><tr><td>864691135065018692</td>\n",
       "<td>2</td></tr><tr><td>864691135065024068</td>\n",
       "<td>2</td></tr><tr><td>864691135065032772</td>\n",
       "<td>3</td></tr><tr><td>864691135065033540</td>\n",
       "<td>3</td></tr><tr><td>864691135081745143</td>\n",
       "<td>2</td></tr><tr><td>864691135081756919</td>\n",
       "<td>3</td></tr><tr><td>864691135155574372</td>\n",
       "<td>3</td> </tr> </tbody>\n",
       "            </table>\n",
       "            <p>...</p>\n",
       "            <p>Total: 146</p></div>\n",
       "            "
      ],
      "text/plain": [
       "*segment_id    n_somas    \n",
       "+------------+ +---------+\n",
       "86469113494739 3          \n",
       "86469113501239 2          \n",
       "86469113501247 2          \n",
       "86469113501257 2          \n",
       "86469113501290 2          \n",
       "86469113506501 2          \n",
       "86469113506502 2          \n",
       "86469113506503 3          \n",
       "86469113506503 3          \n",
       "86469113508174 2          \n",
       "86469113508175 3          \n",
       "86469113515557 3          \n",
       "   ...\n",
       " (Total: 146)"
      ]
     },
     "execution_count": 10,
     "metadata": {},
     "output_type": "execute_result"
    }
   ],
   "source": [
    "minnie.MultiSomaProofread2()"
   ]
  },
  {
   "cell_type": "code",
   "execution_count": 17,
   "metadata": {},
   "outputs": [
    {
     "data": {
      "text/html": [
       "\n",
       "        \n",
       "        <style type=\"text/css\">\n",
       "            .Relation{\n",
       "                border-collapse:collapse;\n",
       "            }\n",
       "            .Relation th{\n",
       "                background: #A0A0A0; color: #ffffff; padding:4px; border:#f0e0e0 1px solid;\n",
       "                font-weight: normal; font-family: monospace; font-size: 100%;\n",
       "            }\n",
       "            .Relation td{\n",
       "                padding:4px; border:#f0e0e0 1px solid; font-size:100%;\n",
       "            }\n",
       "            .Relation tr:nth-child(odd){\n",
       "                background: #ffffff;\n",
       "            }\n",
       "            .Relation tr:nth-child(even){\n",
       "                background: #f3f1ff;\n",
       "            }\n",
       "            /* Tooltip container */\n",
       "            .djtooltip {\n",
       "            }\n",
       "            /* Tooltip text */\n",
       "            .djtooltip .djtooltiptext {\n",
       "                visibility: hidden;\n",
       "                width: 120px;\n",
       "                background-color: black;\n",
       "                color: #fff;\n",
       "                text-align: center;\n",
       "                padding: 5px 0;\n",
       "                border-radius: 6px;\n",
       "                /* Position the tooltip text - see examples below! */\n",
       "                position: absolute;\n",
       "                z-index: 1;\n",
       "            }\n",
       "            #primary {\n",
       "                font-weight: bold;\n",
       "                color: black;\n",
       "            }\n",
       "\n",
       "            #nonprimary {\n",
       "                font-weight: normal;\n",
       "                color: white;\n",
       "            }\n",
       "\n",
       "            /* Show the tooltip text when you mouse over the tooltip container */\n",
       "            .djtooltip:hover .djtooltiptext {\n",
       "                visibility: visible;\n",
       "            }\n",
       "        </style>\n",
       "        \n",
       "        \n",
       "            <div style=\"max-height:1000px;max-width:1500px;overflow:auto;\">\n",
       "            <table border=\"1\" class=\"Relation\">\n",
       "                <thead> <tr style=\"text-align: right;\"> <th> <div class=\"djtooltip\">\n",
       "                                <p id=\"primary\">segment_id</p>\n",
       "                                <span class=\"djtooltiptext\">segment id for those to be decimated</span>\n",
       "                            </div> </th> </tr> </thead>\n",
       "                <tbody> <tr> <td>864691134947393276</td></tr><tr><td>864691135012398582</td></tr><tr><td>864691135012471798</td></tr><tr><td>864691135012571126</td></tr><tr><td>864691135012905110</td></tr><tr><td>864691135065018692</td></tr><tr><td>864691135065024068</td></tr><tr><td>864691135065032772</td></tr><tr><td>864691135065033540</td></tr><tr><td>864691135081745143</td></tr><tr><td>864691135081756919</td></tr><tr><td>864691135155574372</td> </tr> </tbody>\n",
       "            </table>\n",
       "            <p>...</p>\n",
       "            <p>Total: 146</p></div>\n",
       "            "
      ],
      "text/plain": [
       "*segment_id   \n",
       "+------------+\n",
       "86469113494739\n",
       "86469113501239\n",
       "86469113501247\n",
       "86469113501257\n",
       "86469113501290\n",
       "86469113506501\n",
       "86469113506502\n",
       "86469113506503\n",
       "86469113506503\n",
       "86469113508174\n",
       "86469113508175\n",
       "86469113515557\n",
       "   ...\n",
       " (Total: 146)"
      ]
     },
     "execution_count": 17,
     "metadata": {},
     "output_type": "execute_result"
    }
   ],
   "source": [
    "minnie.MultiSomaProofread2.proj()"
   ]
  },
  {
   "cell_type": "code",
   "execution_count": 42,
   "metadata": {},
   "outputs": [
    {
     "data": {
      "text/html": [
       "\n",
       "        \n",
       "        <style type=\"text/css\">\n",
       "            .Relation{\n",
       "                border-collapse:collapse;\n",
       "            }\n",
       "            .Relation th{\n",
       "                background: #A0A0A0; color: #ffffff; padding:4px; border:#f0e0e0 1px solid;\n",
       "                font-weight: normal; font-family: monospace; font-size: 100%;\n",
       "            }\n",
       "            .Relation td{\n",
       "                padding:4px; border:#f0e0e0 1px solid; font-size:100%;\n",
       "            }\n",
       "            .Relation tr:nth-child(odd){\n",
       "                background: #ffffff;\n",
       "            }\n",
       "            .Relation tr:nth-child(even){\n",
       "                background: #f3f1ff;\n",
       "            }\n",
       "            /* Tooltip container */\n",
       "            .djtooltip {\n",
       "            }\n",
       "            /* Tooltip text */\n",
       "            .djtooltip .djtooltiptext {\n",
       "                visibility: hidden;\n",
       "                width: 120px;\n",
       "                background-color: black;\n",
       "                color: #fff;\n",
       "                text-align: center;\n",
       "                padding: 5px 0;\n",
       "                border-radius: 6px;\n",
       "                /* Position the tooltip text - see examples below! */\n",
       "                position: absolute;\n",
       "                z-index: 1;\n",
       "            }\n",
       "            #primary {\n",
       "                font-weight: bold;\n",
       "                color: black;\n",
       "            }\n",
       "\n",
       "            #nonprimary {\n",
       "                font-weight: normal;\n",
       "                color: white;\n",
       "            }\n",
       "\n",
       "            /* Show the tooltip text when you mouse over the tooltip container */\n",
       "            .djtooltip:hover .djtooltiptext {\n",
       "                visibility: visible;\n",
       "            }\n",
       "        </style>\n",
       "        \n",
       "        \n",
       "            <div style=\"max-height:1000px;max-width:1500px;overflow:auto;\">\n",
       "            <table border=\"1\" class=\"Relation\">\n",
       "                <thead> <tr style=\"text-align: right;\"> <th> <div class=\"djtooltip\">\n",
       "                                <p id=\"primary\">segment_id</p>\n",
       "                                <span class=\"djtooltiptext\">segment id for those to be decimated</span>\n",
       "                            </div> </th> </tr> </thead>\n",
       "                <tbody> <tr>  </tr> </tbody>\n",
       "            </table>\n",
       "            \n",
       "            <p>Total: 0</p></div>\n",
       "            "
      ],
      "text/plain": [
       "*segment_id   \n",
       "+------------+\n",
       "\n",
       " (Total: 0)"
      ]
     },
     "execution_count": 42,
     "metadata": {},
     "output_type": "execute_result"
    }
   ],
   "source": [
    "minnie.MultiSomaProofread2.proj() - minnie.Mesh.proj()"
   ]
  },
  {
   "cell_type": "code",
   "execution_count": 129,
   "metadata": {},
   "outputs": [
    {
     "data": {
      "text/html": [
       "\n",
       "        \n",
       "        <style type=\"text/css\">\n",
       "            .Relation{\n",
       "                border-collapse:collapse;\n",
       "            }\n",
       "            .Relation th{\n",
       "                background: #A0A0A0; color: #ffffff; padding:4px; border:#f0e0e0 1px solid;\n",
       "                font-weight: normal; font-family: monospace; font-size: 100%;\n",
       "            }\n",
       "            .Relation td{\n",
       "                padding:4px; border:#f0e0e0 1px solid; font-size:100%;\n",
       "            }\n",
       "            .Relation tr:nth-child(odd){\n",
       "                background: #ffffff;\n",
       "            }\n",
       "            .Relation tr:nth-child(even){\n",
       "                background: #f3f1ff;\n",
       "            }\n",
       "            /* Tooltip container */\n",
       "            .djtooltip {\n",
       "            }\n",
       "            /* Tooltip text */\n",
       "            .djtooltip .djtooltiptext {\n",
       "                visibility: hidden;\n",
       "                width: 120px;\n",
       "                background-color: black;\n",
       "                color: #fff;\n",
       "                text-align: center;\n",
       "                padding: 5px 0;\n",
       "                border-radius: 6px;\n",
       "                /* Position the tooltip text - see examples below! */\n",
       "                position: absolute;\n",
       "                z-index: 1;\n",
       "            }\n",
       "            #primary {\n",
       "                font-weight: bold;\n",
       "                color: black;\n",
       "            }\n",
       "\n",
       "            #nonprimary {\n",
       "                font-weight: normal;\n",
       "                color: white;\n",
       "            }\n",
       "\n",
       "            /* Show the tooltip text when you mouse over the tooltip container */\n",
       "            .djtooltip:hover .djtooltiptext {\n",
       "                visibility: visible;\n",
       "            }\n",
       "        </style>\n",
       "        \n",
       "        <b>Decimated meshes</b>\n",
       "            <div style=\"max-height:1000px;max-width:1500px;overflow:auto;\">\n",
       "            <table border=\"1\" class=\"Relation\">\n",
       "                <thead> <tr style=\"text-align: right;\"> <th> <div class=\"djtooltip\">\n",
       "                                <p id=\"primary\">segment_id</p>\n",
       "                                <span class=\"djtooltiptext\">segment id unique within each Segmentation</span>\n",
       "                            </div></th><th><div class=\"djtooltip\">\n",
       "                                <p id=\"primary\">version</p>\n",
       "                                <span class=\"djtooltiptext\"></span>\n",
       "                            </div></th><th><div class=\"djtooltip\">\n",
       "                                <p id=\"primary\">decimation_ratio</p>\n",
       "                                <span class=\"djtooltiptext\">ratio of remaining mesh vertices/faces (which ones depends on what metric the decimation technique uses)</span>\n",
       "                            </div></th><th><div class=\"djtooltip\">\n",
       "                                <p id=\"nonprimary\">n_vertices</p>\n",
       "                                <span class=\"djtooltiptext\"></span>\n",
       "                            </div></th><th><div class=\"djtooltip\">\n",
       "                                <p id=\"nonprimary\">n_faces</p>\n",
       "                                <span class=\"djtooltiptext\"></span>\n",
       "                            </div></th><th><div class=\"djtooltip\">\n",
       "                                <p id=\"nonprimary\">mesh</p>\n",
       "                                <span class=\"djtooltiptext\">in-place path to the hdf5 (decimated) mesh file</span>\n",
       "                            </div> </th> </tr> </thead>\n",
       "                <tbody> <tr> <td>864691134947393276</td>\n",
       "<td>0</td>\n",
       "<td>0.25</td>\n",
       "<td>1400375</td>\n",
       "<td>2824255</td>\n",
       "<td>=BLOB=</td></tr><tr><td>864691135012398582</td>\n",
       "<td>0</td>\n",
       "<td>0.25</td>\n",
       "<td>1376990</td>\n",
       "<td>2794781</td>\n",
       "<td>=BLOB=</td></tr><tr><td>864691135012471798</td>\n",
       "<td>0</td>\n",
       "<td>0.25</td>\n",
       "<td>879119</td>\n",
       "<td>1793791</td>\n",
       "<td>=BLOB=</td></tr><tr><td>864691135012571126</td>\n",
       "<td>0</td>\n",
       "<td>0.25</td>\n",
       "<td>1405952</td>\n",
       "<td>2834699</td>\n",
       "<td>=BLOB=</td></tr><tr><td>864691135012905110</td>\n",
       "<td>0</td>\n",
       "<td>0.25</td>\n",
       "<td>816541</td>\n",
       "<td>1676641</td>\n",
       "<td>=BLOB=</td></tr><tr><td>864691135065018692</td>\n",
       "<td>0</td>\n",
       "<td>0.25</td>\n",
       "<td>927599</td>\n",
       "<td>1896021</td>\n",
       "<td>=BLOB=</td></tr><tr><td>864691135065024068</td>\n",
       "<td>0</td>\n",
       "<td>0.25</td>\n",
       "<td>1683573</td>\n",
       "<td>3378174</td>\n",
       "<td>=BLOB=</td></tr><tr><td>864691135065032772</td>\n",
       "<td>0</td>\n",
       "<td>0.25</td>\n",
       "<td>1284918</td>\n",
       "<td>2610256</td>\n",
       "<td>=BLOB=</td></tr><tr><td>864691135065033540</td>\n",
       "<td>0</td>\n",
       "<td>0.25</td>\n",
       "<td>788810</td>\n",
       "<td>1618020</td>\n",
       "<td>=BLOB=</td></tr><tr><td>864691135081745143</td>\n",
       "<td>0</td>\n",
       "<td>0.25</td>\n",
       "<td>863788</td>\n",
       "<td>1773581</td>\n",
       "<td>=BLOB=</td></tr><tr><td>864691135081756919</td>\n",
       "<td>0</td>\n",
       "<td>0.25</td>\n",
       "<td>2990029</td>\n",
       "<td>6102497</td>\n",
       "<td>=BLOB=</td></tr><tr><td>864691135155574372</td>\n",
       "<td>0</td>\n",
       "<td>0.25</td>\n",
       "<td>1197540</td>\n",
       "<td>2442184</td>\n",
       "<td>=BLOB=</td> </tr> </tbody>\n",
       "            </table>\n",
       "            <p>...</p>\n",
       "            <p>Total: 146</p></div>\n",
       "            "
      ],
      "text/plain": [
       "*segment_id    *version    *decimation_ra n_vertices     n_faces     mesh      \n",
       "+------------+ +---------+ +------------+ +------------+ +---------+ +--------+\n",
       "86469113494739 0           0.25           1400375        2824255     =BLOB=    \n",
       "86469113501239 0           0.25           1376990        2794781     =BLOB=    \n",
       "86469113501247 0           0.25           879119         1793791     =BLOB=    \n",
       "86469113501257 0           0.25           1405952        2834699     =BLOB=    \n",
       "86469113501290 0           0.25           816541         1676641     =BLOB=    \n",
       "86469113506501 0           0.25           927599         1896021     =BLOB=    \n",
       "86469113506502 0           0.25           1683573        3378174     =BLOB=    \n",
       "86469113506503 0           0.25           1284918        2610256     =BLOB=    \n",
       "86469113506503 0           0.25           788810         1618020     =BLOB=    \n",
       "86469113508174 0           0.25           863788         1773581     =BLOB=    \n",
       "86469113508175 0           0.25           2990029        6102497     =BLOB=    \n",
       "86469113515557 0           0.25           1197540        2442184     =BLOB=    \n",
       "   ...\n",
       " (Total: 146)"
      ]
     },
     "execution_count": 129,
     "metadata": {},
     "output_type": "execute_result"
    }
   ],
   "source": [
    "minnie.Decimation() & minnie.MultiSomaProofread2.proj()"
   ]
  },
  {
   "cell_type": "code",
   "execution_count": 460,
   "metadata": {},
   "outputs": [
    {
     "data": {
      "text/html": [
       "\n",
       "        \n",
       "        <style type=\"text/css\">\n",
       "            .Relation{\n",
       "                border-collapse:collapse;\n",
       "            }\n",
       "            .Relation th{\n",
       "                background: #A0A0A0; color: #ffffff; padding:4px; border:#f0e0e0 1px solid;\n",
       "                font-weight: normal; font-family: monospace; font-size: 100%;\n",
       "            }\n",
       "            .Relation td{\n",
       "                padding:4px; border:#f0e0e0 1px solid; font-size:100%;\n",
       "            }\n",
       "            .Relation tr:nth-child(odd){\n",
       "                background: #ffffff;\n",
       "            }\n",
       "            .Relation tr:nth-child(even){\n",
       "                background: #f3f1ff;\n",
       "            }\n",
       "            /* Tooltip container */\n",
       "            .djtooltip {\n",
       "            }\n",
       "            /* Tooltip text */\n",
       "            .djtooltip .djtooltiptext {\n",
       "                visibility: hidden;\n",
       "                width: 120px;\n",
       "                background-color: black;\n",
       "                color: #fff;\n",
       "                text-align: center;\n",
       "                padding: 5px 0;\n",
       "                border-radius: 6px;\n",
       "                /* Position the tooltip text - see examples below! */\n",
       "                position: absolute;\n",
       "                z-index: 1;\n",
       "            }\n",
       "            #primary {\n",
       "                font-weight: bold;\n",
       "                color: black;\n",
       "            }\n",
       "\n",
       "            #nonprimary {\n",
       "                font-weight: normal;\n",
       "                color: white;\n",
       "            }\n",
       "\n",
       "            /* Show the tooltip text when you mouse over the tooltip container */\n",
       "            .djtooltip:hover .djtooltiptext {\n",
       "                visibility: visible;\n",
       "            }\n",
       "        </style>\n",
       "        \n",
       "        <b>job reservation table for `microns_minnie65_02`</b>\n",
       "            <div style=\"max-height:1000px;max-width:1500px;overflow:auto;\">\n",
       "            <table border=\"1\" class=\"Relation\">\n",
       "                <thead> <tr style=\"text-align: right;\"> <th> <div class=\"djtooltip\">\n",
       "                                <p id=\"primary\">table_name</p>\n",
       "                                <span class=\"djtooltiptext\">className of the table</span>\n",
       "                            </div></th><th><div class=\"djtooltip\">\n",
       "                                <p id=\"primary\">key_hash</p>\n",
       "                                <span class=\"djtooltiptext\">key hash</span>\n",
       "                            </div></th><th><div class=\"djtooltip\">\n",
       "                                <p id=\"nonprimary\">status</p>\n",
       "                                <span class=\"djtooltiptext\">if tuple is missing, the job is available</span>\n",
       "                            </div></th><th><div class=\"djtooltip\">\n",
       "                                <p id=\"nonprimary\">key</p>\n",
       "                                <span class=\"djtooltiptext\">structure containing the key</span>\n",
       "                            </div></th><th><div class=\"djtooltip\">\n",
       "                                <p id=\"nonprimary\">error_message</p>\n",
       "                                <span class=\"djtooltiptext\">error message returned if failed</span>\n",
       "                            </div></th><th><div class=\"djtooltip\">\n",
       "                                <p id=\"nonprimary\">error_stack</p>\n",
       "                                <span class=\"djtooltiptext\">error stack if failed</span>\n",
       "                            </div></th><th><div class=\"djtooltip\">\n",
       "                                <p id=\"nonprimary\">user</p>\n",
       "                                <span class=\"djtooltiptext\">database user</span>\n",
       "                            </div></th><th><div class=\"djtooltip\">\n",
       "                                <p id=\"nonprimary\">host</p>\n",
       "                                <span class=\"djtooltiptext\">system hostname</span>\n",
       "                            </div></th><th><div class=\"djtooltip\">\n",
       "                                <p id=\"nonprimary\">pid</p>\n",
       "                                <span class=\"djtooltiptext\">system process id</span>\n",
       "                            </div></th><th><div class=\"djtooltip\">\n",
       "                                <p id=\"nonprimary\">connection_id</p>\n",
       "                                <span class=\"djtooltiptext\">connection_id()</span>\n",
       "                            </div></th><th><div class=\"djtooltip\">\n",
       "                                <p id=\"nonprimary\">timestamp</p>\n",
       "                                <span class=\"djtooltiptext\">automatic timestamp</span>\n",
       "                            </div> </th> </tr> </thead>\n",
       "                <tbody> <tr>  </tr> </tbody>\n",
       "            </table>\n",
       "            \n",
       "            <p>Total: 0</p></div>\n",
       "            "
      ],
      "text/plain": [
       "*table_name    *key_hash    status     key        error_message  error_stac user     host     pid     connection_id  timestamp    \n",
       "+------------+ +----------+ +--------+ +--------+ +------------+ +--------+ +------+ +------+ +-----+ +------------+ +-----------+\n",
       "\n",
       " (Total: 0)"
      ]
     },
     "execution_count": 460,
     "metadata": {},
     "output_type": "execute_result"
    }
   ],
   "source": [
    "(schema.jobs & \"table_name='__baylor_segment_centroid'\")#.delete()"
   ]
  },
  {
   "cell_type": "code",
   "execution_count": 461,
   "metadata": {},
   "outputs": [
    {
     "name": "stderr",
     "output_type": "stream",
     "text": [
      "INFO - 2021-01-08 09:23:22,823 - settings - Setting database.host to at-database.ad.bcm.edu\n",
      "INFO - 2021-01-08 09:23:22,824 - settings - Setting database.user to celiib\n",
      "INFO - 2021-01-08 09:23:22,825 - settings - Setting database.password to newceliipass\n",
      "INFO - 2021-01-08 09:23:22,836 - settings - Setting enable_python_native_blobs to True\n",
      "INFO - 2021-01-08 09:23:23,129 - settings - Setting enable_python_native_blobs to True\n",
      "100%|██████████| 317/317 [00:04<00:00, 76.75it/s]\n"
     ]
    },
    {
     "data": {
      "text/plain": [
       "[]"
      ]
     },
     "execution_count": 461,
     "metadata": {},
     "output_type": "execute_result"
    }
   ],
   "source": [
    "schema.external['somas'].delete(delete_external_files=True)"
   ]
  },
  {
   "cell_type": "markdown",
   "metadata": {},
   "source": [
    "# Inspecting Soma Extraction"
   ]
  },
  {
   "cell_type": "code",
   "execution_count": 459,
   "metadata": {},
   "outputs": [
    {
     "name": "stderr",
     "output_type": "stream",
     "text": [
      "INFO - 2021-01-08 09:21:37,932 - connection - Transaction started\n"
     ]
    },
    {
     "name": "stdout",
     "output_type": "stream",
     "text": [
      "About to delete:\n",
      "`microns_minnie65_02`.`__baylor_segment_centroid`: 317 items\n",
      "Proceed? [yes, No]: yes\n"
     ]
    },
    {
     "name": "stderr",
     "output_type": "stream",
     "text": [
      "INFO - 2021-01-08 09:21:39,761 - connection - Transaction committed and closed.\n"
     ]
    },
    {
     "name": "stdout",
     "output_type": "stream",
     "text": [
      "Committed.\n"
     ]
    }
   ],
   "source": [
    "minnie.BaylorSegmentCentroid.delete()"
   ]
  },
  {
   "cell_type": "code",
   "execution_count": 143,
   "metadata": {},
   "outputs": [
    {
     "data": {
      "text/plain": [
       "array([864691134947393276, 864691135012398582, 864691135012571126,\n",
       "       864691135012905110, 864691135065018692, 864691135065024068,\n",
       "       864691135065032772, 864691135065033540, 864691135081745143,\n",
       "       864691135081756919, 864691135155574372, 864691135210051520,\n",
       "       864691135210078912, 864691135274155493, 864691135291777462,\n",
       "       864691135291788214, 864691135337764326, 864691135337796326,\n",
       "       864691135341171909, 864691135345134239, 864691135345274271,\n",
       "       864691135345276831, 864691135345280671, 864691135348374487,\n",
       "       864691135360133191, 864691135373423816, 864691135373436616,\n",
       "       864691135382504922, 864691135382996203, 864691135385192277,\n",
       "       864691135385207893, 864691135394014197, 864691135403709422,\n",
       "       864691135403794158, 864691135407333321, 864691135428492848,\n",
       "       864691135440515912, 864691135440585800, 864691135462292893,\n",
       "       864691135462301853, 864691135467600268, 864691135474614848,\n",
       "       864691135490263655, 864691135502075061, 864691135510504912,\n",
       "       864691135526113627, 864691135526114907, 864691135538077554,\n",
       "       864691135567752172, 864691135568932230, 864691135569052038,\n",
       "       864691135570745325, 864691135570745581, 864691135576925957,\n",
       "       864691135576999941, 864691135577002245, 864691135577031173,\n",
       "       864691135583731320, 864691135583739512, 864691135589917707,\n",
       "       864691135593563947, 864691135593565995, 864691135609459463,\n",
       "       864691135609477127, 864691135609490439, 864691135609493511,\n",
       "       864691135615814761, 864691135617814415, 864691135617824143,\n",
       "       864691135644583919, 864691135654070210, 864691135654121154,\n",
       "       864691135654122946, 864691135683949751, 864691135686909664,\n",
       "       864691135699307810, 864691135718447153, 864691135724299179,\n",
       "       864691135725648447, 864691135730176441, 864691135739628180,\n",
       "       864691135740250731, 864691135753746381, 864691135758492238,\n",
       "       864691135771720779, 864691135775809197, 864691135780852304,\n",
       "       864691135815468111, 864691135815508815, 864691135837279635,\n",
       "       864691135847950686, 864691135855566638, 864691135865528197,\n",
       "       864691135865549445, 864691135866433814, 864691135873642126,\n",
       "       864691135883918448, 864691135884014704, 864691135909747369,\n",
       "       864691135937436725, 864691135939303681, 864691135939679654,\n",
       "       864691135946672225, 864691135974471279, 864691135975576131,\n",
       "       864691136008495788, 864691136008500908, 864691136008595118,\n",
       "       864691136023802169, 864691136041004886, 864691136041015382,\n",
       "       864691136065225112, 864691136065514648, 864691136091147700,\n",
       "       864691136116159140, 864691136143425844, 864691136236789519,\n",
       "       864691136266415092, 864691136286605763, 864691136328919786,\n",
       "       864691136333829811, 864691136370837384, 864691136390485119,\n",
       "       864691136451095295, 864691136451116031, 864691136482867756,\n",
       "       864691136521606033, 864691136577503252, 864691136617159131,\n",
       "       864691136617172443, 864691136618586765, 864691136723342333,\n",
       "       864691136723421693, 864691136908675694, 864691136922746852,\n",
       "       864691136925391690, 864691136951653599, 864691137196956993])"
      ]
     },
     "execution_count": 143,
     "metadata": {},
     "output_type": "execute_result"
    }
   ],
   "source": [
    "segment_id = np.unique(minnie.BaylorSegmentCentroid.fetch(\"segment_id\"))\n",
    "segment_id"
   ]
  },
  {
   "cell_type": "code",
   "execution_count": 162,
   "metadata": {},
   "outputs": [
    {
     "data": {
      "text/plain": [
       "138"
      ]
     },
     "execution_count": 162,
     "metadata": {},
     "output_type": "execute_result"
    }
   ],
   "source": [
    "len(segment_id)"
   ]
  },
  {
   "cell_type": "code",
   "execution_count": 453,
   "metadata": {},
   "outputs": [
    {
     "data": {
      "text/html": [
       "\n",
       "        \n",
       "        <style type=\"text/css\">\n",
       "            .Relation{\n",
       "                border-collapse:collapse;\n",
       "            }\n",
       "            .Relation th{\n",
       "                background: #A0A0A0; color: #ffffff; padding:4px; border:#f0e0e0 1px solid;\n",
       "                font-weight: normal; font-family: monospace; font-size: 100%;\n",
       "            }\n",
       "            .Relation td{\n",
       "                padding:4px; border:#f0e0e0 1px solid; font-size:100%;\n",
       "            }\n",
       "            .Relation tr:nth-child(odd){\n",
       "                background: #ffffff;\n",
       "            }\n",
       "            .Relation tr:nth-child(even){\n",
       "                background: #f3f1ff;\n",
       "            }\n",
       "            /* Tooltip container */\n",
       "            .djtooltip {\n",
       "            }\n",
       "            /* Tooltip text */\n",
       "            .djtooltip .djtooltiptext {\n",
       "                visibility: hidden;\n",
       "                width: 120px;\n",
       "                background-color: black;\n",
       "                color: #fff;\n",
       "                text-align: center;\n",
       "                padding: 5px 0;\n",
       "                border-radius: 6px;\n",
       "                /* Position the tooltip text - see examples below! */\n",
       "                position: absolute;\n",
       "                z-index: 1;\n",
       "            }\n",
       "            #primary {\n",
       "                font-weight: bold;\n",
       "                color: black;\n",
       "            }\n",
       "\n",
       "            #nonprimary {\n",
       "                font-weight: normal;\n",
       "                color: white;\n",
       "            }\n",
       "\n",
       "            /* Show the tooltip text when you mouse over the tooltip container */\n",
       "            .djtooltip:hover .djtooltiptext {\n",
       "                visibility: visible;\n",
       "            }\n",
       "        </style>\n",
       "        \n",
       "        <b></b>\n",
       "            <div style=\"max-height:1000px;max-width:1500px;overflow:auto;\">\n",
       "            <table border=\"1\" class=\"Relation\">\n",
       "                <thead> <tr style=\"text-align: right;\"> <th> <div class=\"djtooltip\">\n",
       "                                <p id=\"primary\">segment_id</p>\n",
       "                                <span class=\"djtooltiptext\">segment id unique within each Segmentation</span>\n",
       "                            </div></th><th><div class=\"djtooltip\">\n",
       "                                <p id=\"primary\">decimation_version</p>\n",
       "                                <span class=\"djtooltiptext\"></span>\n",
       "                            </div></th><th><div class=\"djtooltip\">\n",
       "                                <p id=\"primary\">decimation_ratio</p>\n",
       "                                <span class=\"djtooltiptext\">ratio of remaining mesh vertices/faces (which ones depends on what metric the decimation technique uses)</span>\n",
       "                            </div></th><th><div class=\"djtooltip\">\n",
       "                                <p id=\"primary\">soma_index</p>\n",
       "                                <span class=\"djtooltiptext\">index given to this soma to account for multiple somas in one base semgnet</span>\n",
       "                            </div></th><th><div class=\"djtooltip\">\n",
       "                                <p id=\"primary\">ver</p>\n",
       "                                <span class=\"djtooltiptext\">the version number of the materializaiton</span>\n",
       "                            </div></th><th><div class=\"djtooltip\">\n",
       "                                <p id=\"nonprimary\">centroid_x</p>\n",
       "                                <span class=\"djtooltiptext\">(EM voxels)</span>\n",
       "                            </div></th><th><div class=\"djtooltip\">\n",
       "                                <p id=\"nonprimary\">centroid_y</p>\n",
       "                                <span class=\"djtooltiptext\">(EM voxels)</span>\n",
       "                            </div></th><th><div class=\"djtooltip\">\n",
       "                                <p id=\"nonprimary\">centroid_z</p>\n",
       "                                <span class=\"djtooltiptext\">(EM voxels)</span>\n",
       "                            </div></th><th><div class=\"djtooltip\">\n",
       "                                <p id=\"nonprimary\">n_vertices</p>\n",
       "                                <span class=\"djtooltiptext\">number of vertices</span>\n",
       "                            </div></th><th><div class=\"djtooltip\">\n",
       "                                <p id=\"nonprimary\">n_faces</p>\n",
       "                                <span class=\"djtooltiptext\">number of faces</span>\n",
       "                            </div></th><th><div class=\"djtooltip\">\n",
       "                                <p id=\"nonprimary\">mesh</p>\n",
       "                                <span class=\"djtooltiptext\">datajoint adapter to get the somas mesh objects</span>\n",
       "                            </div></th><th><div class=\"djtooltip\">\n",
       "                                <p id=\"nonprimary\">multiplicity</p>\n",
       "                                <span class=\"djtooltiptext\">the number of somas found for this base segment</span>\n",
       "                            </div></th><th><div class=\"djtooltip\">\n",
       "                                <p id=\"nonprimary\">sdf</p>\n",
       "                                <span class=\"djtooltiptext\">sdf width value for the soma</span>\n",
       "                            </div></th><th><div class=\"djtooltip\">\n",
       "                                <p id=\"nonprimary\">max_side_ratio</p>\n",
       "                                <span class=\"djtooltiptext\">the maximum of the side length ratios used for check if soma</span>\n",
       "                            </div></th><th><div class=\"djtooltip\">\n",
       "                                <p id=\"nonprimary\">bbox_volume_ratio</p>\n",
       "                                <span class=\"djtooltiptext\">ratio of bbox (axis aligned) volume to mesh volume to use for check if soma</span>\n",
       "                            </div></th><th><div class=\"djtooltip\">\n",
       "                                <p id=\"nonprimary\">max_hole_length</p>\n",
       "                                <span class=\"djtooltiptext\">euclidean distance of the maximum hole size</span>\n",
       "                            </div></th><th><div class=\"djtooltip\">\n",
       "                                <p id=\"nonprimary\">run_time</p>\n",
       "                                <span class=\"djtooltiptext\">the amount of time to run (seconds)</span>\n",
       "                            </div> </th> </tr> </thead>\n",
       "                <tbody> <tr> <td>864691135873642126</td>\n",
       "<td>0</td>\n",
       "<td>0.25</td>\n",
       "<td>1</td>\n",
       "<td>29</td>\n",
       "<td>234831</td>\n",
       "<td>159070</td>\n",
       "<td>24563</td>\n",
       "<td>15834</td>\n",
       "<td>31437</td>\n",
       "<td>=BLOB=</td>\n",
       "<td>2</td>\n",
       "<td>0.94</td>\n",
       "<td>1.041</td>\n",
       "<td>4.127</td>\n",
       "<td>49200.409</td>\n",
       "<td>717.9787</td></tr><tr><td>864691135873642126</td>\n",
       "<td>0</td>\n",
       "<td>0.25</td>\n",
       "<td>2</td>\n",
       "<td>29</td>\n",
       "<td>217133</td>\n",
       "<td>165382</td>\n",
       "<td>24805</td>\n",
       "<td>14328</td>\n",
       "<td>28280</td>\n",
       "<td>=BLOB=</td>\n",
       "<td>2</td>\n",
       "<td>0.844</td>\n",
       "<td>1.113</td>\n",
       "<td>3.756</td>\n",
       "<td>981041.679</td>\n",
       "<td>717.9787</td> </tr> </tbody>\n",
       "            </table>\n",
       "            \n",
       "            <p>Total: 2</p></div>\n",
       "            "
      ],
      "text/plain": [
       "*segment_id    *decimation_ve *decimation_ra *soma_index    *ver    centroid_x     centroid_y     centroid_z     n_vertices     n_faces     mesh       multiplicity   sdf       max_side_ratio bbox_volume_ra max_hole_lengt run_time    \n",
       "+------------+ +------------+ +------------+ +------------+ +-----+ +------------+ +------------+ +------------+ +------------+ +---------+ +--------+ +------------+ +-------+ +------------+ +------------+ +------------+ +----------+\n",
       "86469113587364 0              0.25           1              29      234831         159070         24563          15834          31437       =BLOB=     2              0.94      1.041          4.127          49200.409      717.9787    \n",
       "86469113587364 0              0.25           2              29      217133         165382         24805          14328          28280       =BLOB=     2              0.844     1.113          3.756          981041.679     717.9787    \n",
       " (Total: 2)"
      ]
     },
     "execution_count": 453,
     "metadata": {},
     "output_type": "execute_result"
    }
   ],
   "source": [
    "curr_index = 95\n",
    "curr_segment_id = segment_id[curr_index]\n",
    "curr_table = minnie.BaylorSegmentCentroid() & dict(segment_id=curr_segment_id)\n",
    "curr_table"
   ]
  },
  {
   "cell_type": "code",
   "execution_count": 454,
   "metadata": {},
   "outputs": [
    {
     "data": {
      "text/html": [
       "\n",
       "        \n",
       "        <style type=\"text/css\">\n",
       "            .Relation{\n",
       "                border-collapse:collapse;\n",
       "            }\n",
       "            .Relation th{\n",
       "                background: #A0A0A0; color: #ffffff; padding:4px; border:#f0e0e0 1px solid;\n",
       "                font-weight: normal; font-family: monospace; font-size: 100%;\n",
       "            }\n",
       "            .Relation td{\n",
       "                padding:4px; border:#f0e0e0 1px solid; font-size:100%;\n",
       "            }\n",
       "            .Relation tr:nth-child(odd){\n",
       "                background: #ffffff;\n",
       "            }\n",
       "            .Relation tr:nth-child(even){\n",
       "                background: #f3f1ff;\n",
       "            }\n",
       "            /* Tooltip container */\n",
       "            .djtooltip {\n",
       "            }\n",
       "            /* Tooltip text */\n",
       "            .djtooltip .djtooltiptext {\n",
       "                visibility: hidden;\n",
       "                width: 120px;\n",
       "                background-color: black;\n",
       "                color: #fff;\n",
       "                text-align: center;\n",
       "                padding: 5px 0;\n",
       "                border-radius: 6px;\n",
       "                /* Position the tooltip text - see examples below! */\n",
       "                position: absolute;\n",
       "                z-index: 1;\n",
       "            }\n",
       "            #primary {\n",
       "                font-weight: bold;\n",
       "                color: black;\n",
       "            }\n",
       "\n",
       "            #nonprimary {\n",
       "                font-weight: normal;\n",
       "                color: white;\n",
       "            }\n",
       "\n",
       "            /* Show the tooltip text when you mouse over the tooltip container */\n",
       "            .djtooltip:hover .djtooltiptext {\n",
       "                visibility: visible;\n",
       "            }\n",
       "        </style>\n",
       "        \n",
       "        <b></b>\n",
       "            <div style=\"max-height:1000px;max-width:1500px;overflow:auto;\">\n",
       "            <table border=\"1\" class=\"Relation\">\n",
       "                <thead> <tr style=\"text-align: right;\"> <th> <div class=\"djtooltip\">\n",
       "                                <p id=\"primary\">segment_id</p>\n",
       "                                <span class=\"djtooltiptext\">segment id for those to be decimated</span>\n",
       "                            </div></th><th><div class=\"djtooltip\">\n",
       "                                <p id=\"nonprimary\">n_somas</p>\n",
       "                                <span class=\"djtooltiptext\">the number of somas associated with the neuron from the Allen Institute</span>\n",
       "                            </div> </th> </tr> </thead>\n",
       "                <tbody> <tr> <td>864691135873642126</td>\n",
       "<td>3</td> </tr> </tbody>\n",
       "            </table>\n",
       "            \n",
       "            <p>Total: 1</p></div>\n",
       "            "
      ],
      "text/plain": [
       "*segment_id    n_somas    \n",
       "+------------+ +---------+\n",
       "86469113587364 3          \n",
       " (Total: 1)"
      ]
     },
     "execution_count": 454,
     "metadata": {},
     "output_type": "execute_result"
    }
   ],
   "source": [
    "minnie.MultiSomaProofread2 & dict(segment_id=curr_segment_id)"
   ]
  },
  {
   "cell_type": "code",
   "execution_count": 455,
   "metadata": {},
   "outputs": [
    {
     "name": "stderr",
     "output_type": "stream",
     "text": [
      "/usr/local/lib/python3.6/dist-packages/traittypes/traittypes.py:101: UserWarning: Given trait value dtype \"float64\" does not match required type \"float64\". A coerced copy has been created.\n",
      "  np.dtype(self.dtype).name))\n"
     ]
    },
    {
     "data": {
      "application/vnd.jupyter.widget-view+json": {
       "model_id": "3a532534f0d846b99cbc90c70cf92cf4",
       "version_major": 2,
       "version_minor": 0
      },
      "text/plain": [
       "VBox(children=(Figure(camera=PerspectiveCamera(fov=46.0, position=(0.0, 0.0, 2.0), quaternion=(0.0, 0.0, 0.0, …"
      ]
     },
     "metadata": {},
     "output_type": "display_data"
    }
   ],
   "source": [
    "import neuron_visualizations as nviz\n",
    "nviz.plot_objects(meshes=du.get_seg_extracted_somas(curr_segment_id),\n",
    "                 meshes_colors=\"random\")"
   ]
  },
  {
   "cell_type": "code",
   "execution_count": 456,
   "metadata": {},
   "outputs": [
    {
     "name": "stdout",
     "output_type": "stream",
     "text": [
      "number of somas = 2\n",
      "Segment_id = 864691135873642126\n",
      "vertices = 1153434, faces= = 2338661\n"
     ]
    },
    {
     "name": "stderr",
     "output_type": "stream",
     "text": [
      "/usr/local/lib/python3.6/dist-packages/traittypes/traittypes.py:101: UserWarning: Given trait value dtype \"float64\" does not match required type \"float64\". A coerced copy has been created.\n",
      "  np.dtype(self.dtype).name))\n"
     ]
    },
    {
     "data": {
      "application/vnd.jupyter.widget-view+json": {
       "model_id": "16198daee6fc427c83b0ec35b61a639c",
       "version_major": 2,
       "version_minor": 0
      },
      "text/plain": [
       "VBox(children=(Figure(camera=PerspectiveCamera(fov=46.0, position=(0.0, 0.0, 2.0), quaternion=(0.0, 0.0, 0.0, …"
      ]
     },
     "metadata": {},
     "output_type": "display_data"
    }
   ],
   "source": [
    "print(f\"number of somas = {np.unique(curr_table.fetch('multiplicity'))[0]}\")\n",
    "du.plot_decimated_mesh_with_somas(curr_segment_id)"
   ]
  },
  {
   "cell_type": "code",
   "execution_count": 119,
   "metadata": {},
   "outputs": [
    {
     "name": "stderr",
     "output_type": "stream",
     "text": [
      "INFO - 2021-01-08 01:43:03,778 - settings - Setting database.host to at-database.ad.bcm.edu\n",
      "INFO - 2021-01-08 01:43:03,779 - settings - Setting database.user to celiib\n",
      "INFO - 2021-01-08 01:43:03,780 - settings - Setting database.password to newceliipass\n",
      "INFO - 2021-01-08 01:43:03,783 - settings - Setting enable_python_native_blobs to True\n",
      "INFO - 2021-01-08 01:43:04,067 - settings - Setting enable_python_native_blobs to True\n"
     ]
    }
   ],
   "source": [
    "from importlib import reload\n",
    "du = reload(du)"
   ]
  },
  {
   "cell_type": "code",
   "execution_count": 457,
   "metadata": {},
   "outputs": [
    {
     "name": "stderr",
     "output_type": "stream",
     "text": [
      "/usr/local/lib/python3.6/dist-packages/traittypes/traittypes.py:101: UserWarning: Given trait value dtype \"float64\" does not match required type \"float64\". A coerced copy has been created.\n",
      "  np.dtype(self.dtype).name))\n"
     ]
    },
    {
     "data": {
      "application/vnd.jupyter.widget-view+json": {
       "model_id": "968ca217f349474ba9c92be451451cb4",
       "version_major": 2,
       "version_minor": 0
      },
      "text/plain": [
       "VBox(children=(Figure(camera=PerspectiveCamera(fov=46.0, position=(0.0, 0.0, 2.0), quaternion=(0.0, 0.0, 0.0, …"
      ]
     },
     "metadata": {},
     "output_type": "display_data"
    }
   ],
   "source": [
    "nviz.plot_objects(du.fetch_undecimated_segment_id_mesh(864691135345134239))"
   ]
  },
  {
   "cell_type": "code",
   "execution_count": 113,
   "metadata": {},
   "outputs": [
    {
     "data": {
      "text/plain": [
       "29"
      ]
     },
     "execution_count": 113,
     "metadata": {},
     "output_type": "execute_result"
    }
   ],
   "source": [
    "import numpy as np\n",
    "np.unique((minnie.BaylorSegmentCentroid & \"segment_id=864691135210051520\").fetch(\"ver\"))[0]"
   ]
  },
  {
   "cell_type": "code",
   "execution_count": 126,
   "metadata": {},
   "outputs": [
    {
     "data": {
      "text/html": [
       "\n",
       "        \n",
       "        <style type=\"text/css\">\n",
       "            .Relation{\n",
       "                border-collapse:collapse;\n",
       "            }\n",
       "            .Relation th{\n",
       "                background: #A0A0A0; color: #ffffff; padding:4px; border:#f0e0e0 1px solid;\n",
       "                font-weight: normal; font-family: monospace; font-size: 100%;\n",
       "            }\n",
       "            .Relation td{\n",
       "                padding:4px; border:#f0e0e0 1px solid; font-size:100%;\n",
       "            }\n",
       "            .Relation tr:nth-child(odd){\n",
       "                background: #ffffff;\n",
       "            }\n",
       "            .Relation tr:nth-child(even){\n",
       "                background: #f3f1ff;\n",
       "            }\n",
       "            /* Tooltip container */\n",
       "            .djtooltip {\n",
       "            }\n",
       "            /* Tooltip text */\n",
       "            .djtooltip .djtooltiptext {\n",
       "                visibility: hidden;\n",
       "                width: 120px;\n",
       "                background-color: black;\n",
       "                color: #fff;\n",
       "                text-align: center;\n",
       "                padding: 5px 0;\n",
       "                border-radius: 6px;\n",
       "                /* Position the tooltip text - see examples below! */\n",
       "                position: absolute;\n",
       "                z-index: 1;\n",
       "            }\n",
       "            #primary {\n",
       "                font-weight: bold;\n",
       "                color: black;\n",
       "            }\n",
       "\n",
       "            #nonprimary {\n",
       "                font-weight: normal;\n",
       "                color: white;\n",
       "            }\n",
       "\n",
       "            /* Show the tooltip text when you mouse over the tooltip container */\n",
       "            .djtooltip:hover .djtooltiptext {\n",
       "                visibility: visible;\n",
       "            }\n",
       "        </style>\n",
       "        \n",
       "        <b>job reservation table for `microns_minnie65_02`</b>\n",
       "            <div style=\"max-height:1000px;max-width:1500px;overflow:auto;\">\n",
       "            <table border=\"1\" class=\"Relation\">\n",
       "                <thead> <tr style=\"text-align: right;\"> <th> <div class=\"djtooltip\">\n",
       "                                <p id=\"primary\">table_name</p>\n",
       "                                <span class=\"djtooltiptext\">className of the table</span>\n",
       "                            </div></th><th><div class=\"djtooltip\">\n",
       "                                <p id=\"primary\">key_hash</p>\n",
       "                                <span class=\"djtooltiptext\">key hash</span>\n",
       "                            </div></th><th><div class=\"djtooltip\">\n",
       "                                <p id=\"nonprimary\">status</p>\n",
       "                                <span class=\"djtooltiptext\">if tuple is missing, the job is available</span>\n",
       "                            </div></th><th><div class=\"djtooltip\">\n",
       "                                <p id=\"nonprimary\">key</p>\n",
       "                                <span class=\"djtooltiptext\">structure containing the key</span>\n",
       "                            </div></th><th><div class=\"djtooltip\">\n",
       "                                <p id=\"nonprimary\">error_message</p>\n",
       "                                <span class=\"djtooltiptext\">error message returned if failed</span>\n",
       "                            </div></th><th><div class=\"djtooltip\">\n",
       "                                <p id=\"nonprimary\">error_stack</p>\n",
       "                                <span class=\"djtooltiptext\">error stack if failed</span>\n",
       "                            </div></th><th><div class=\"djtooltip\">\n",
       "                                <p id=\"nonprimary\">user</p>\n",
       "                                <span class=\"djtooltiptext\">database user</span>\n",
       "                            </div></th><th><div class=\"djtooltip\">\n",
       "                                <p id=\"nonprimary\">host</p>\n",
       "                                <span class=\"djtooltiptext\">system hostname</span>\n",
       "                            </div></th><th><div class=\"djtooltip\">\n",
       "                                <p id=\"nonprimary\">pid</p>\n",
       "                                <span class=\"djtooltiptext\">system process id</span>\n",
       "                            </div></th><th><div class=\"djtooltip\">\n",
       "                                <p id=\"nonprimary\">connection_id</p>\n",
       "                                <span class=\"djtooltiptext\">connection_id()</span>\n",
       "                            </div></th><th><div class=\"djtooltip\">\n",
       "                                <p id=\"nonprimary\">timestamp</p>\n",
       "                                <span class=\"djtooltiptext\">automatic timestamp</span>\n",
       "                            </div> </th> </tr> </thead>\n",
       "                <tbody> <tr> <td>__baylor_segment_centroid</td>\n",
       "<td>ca15fbed1b5c1061ce8e8a2724dc6c99</td>\n",
       "<td>error</td>\n",
       "<td>=BLOB=</td>\n",
       "<td>UnboundLocalError: local variable 'filtered_soma_list_components' referenced before assignment</td>\n",
       "<td>=BLOB=</td>\n",
       "<td>celiib@10.28.0.136</td>\n",
       "<td>at-node9</td>\n",
       "<td>29</td>\n",
       "<td>25110</td>\n",
       "<td>2021-01-07 19:29:23</td> </tr> </tbody>\n",
       "            </table>\n",
       "            \n",
       "            <p>Total: 1</p></div>\n",
       "            "
      ],
      "text/plain": [
       "*table_name    *key_hash      status     key        error_message  error_stac user           host         pid     connection_id  timestamp     \n",
       "+------------+ +------------+ +--------+ +--------+ +------------+ +--------+ +------------+ +----------+ +-----+ +------------+ +------------+\n",
       "__baylor_segme ca15fbed1b5c10 error      =BLOB=     UnboundLocalEr =BLOB=     celiib@10.28.0 at-node9     29      25110          2021-01-07 19:\n",
       " (Total: 1)"
      ]
     },
     "execution_count": 126,
     "metadata": {},
     "output_type": "execute_result"
    }
   ],
   "source": [
    "(schema.jobs & \"table_name='__baylor_segment_centroid'\") & \"status='error'\""
   ]
  },
  {
   "cell_type": "code",
   "execution_count": 140,
   "metadata": {},
   "outputs": [],
   "source": [
    "((schema.jobs & \"table_name='__baylor_segment_centroid'\") ).delete()#& \"status='error'\").fetch(\"key\")#.delete()"
   ]
  },
  {
   "cell_type": "code",
   "execution_count": 52,
   "metadata": {},
   "outputs": [
    {
     "name": "stdout",
     "output_type": "stream",
     "text": [
      "Traceback (most recent call last):\n",
      "  File \"/usr/local/lib/python3.6/dist-packages/datajoint/autopopulate.py\", line 159, in populate\n",
      "    make(dict(key))\n",
      "  File \"3_BaylorSegmentCentroid_multi_proofreading.py\", line 257, in make\n",
      "    self.insert(dicts_to_insert,skip_duplicates=True)\n",
      "  File \"/usr/local/lib/python3.6/dist-packages/datajoint/table.py\", line 347, in insert\n",
      "    itertools.chain.from_iterable((v for v in r['values'] if v is not None) for r in rows)))\n",
      "  File \"/usr/local/lib/python3.6/dist-packages/datajoint/connection.py\", line 214, in query\n",
      "    self._execute_query(cursor, query, args, cursor_class, suppress_warnings)\n",
      "  File \"/usr/local/lib/python3.6/dist-packages/datajoint/connection.py\", line 196, in _execute_query\n",
      "    raise translate_query_error(err, query) from None\n",
      "  File \"/usr/local/lib/python3.6/dist-packages/datajoint/connection.py\", line 194, in _execute_query\n",
      "    cursor.execute(query, args)\n",
      "  File \"/usr/local/lib/python3.6/dist-packages/pymysql/cursors.py\", line 163, in execute\n",
      "    result = self._query(query)\n",
      "  File \"/usr/local/lib/python3.6/dist-packages/pymysql/cursors.py\", line 321, in _query\n",
      "    conn.query(q)\n",
      "  File \"/usr/local/lib/python3.6/dist-packages/pymysql/connections.py\", line 505, in query\n",
      "    self._affected_rows = self._read_query_result(unbuffered=unbuffered)\n",
      "  File \"/usr/local/lib/python3.6/dist-packages/pymysql/connections.py\", line 724, in _read_query_result\n",
      "    result.read()\n",
      "  File \"/usr/local/lib/python3.6/dist-packages/pymysql/connections.py\", line 1069, in read\n",
      "    first_packet = self.connection._read_packet()\n",
      "  File \"/usr/local/lib/python3.6/dist-packages/pymysql/connections.py\", line 676, in _read_packet\n",
      "    packet.raise_for_error()\n",
      "  File \"/usr/local/lib/python3.6/dist-packages/pymysql/protocol.py\", line 223, in raise_for_error\n",
      "    err.raise_mysql_exception(self._data)\n",
      "  File \"/usr/local/lib/python3.6/dist-packages/pymysql/err.py\", line 107, in raise_mysql_exception\n",
      "    raise errorclass(errno, errval)\n",
      "pymysql.err.OperationalError: (1364, \"Field 'ver' doesn't have a default value\")\n",
      "\n"
     ]
    }
   ],
   "source": [
    "print((schema.jobs & \"key_hash = '7d2b393cf9636f6c0b4c6af25915ab9f'\").fetch1(\"error_stack\"))"
   ]
  },
  {
   "cell_type": "code",
   "execution_count": 75,
   "metadata": {},
   "outputs": [
    {
     "data": {
      "text/html": [
       "\n",
       "        \n",
       "        <style type=\"text/css\">\n",
       "            .Relation{\n",
       "                border-collapse:collapse;\n",
       "            }\n",
       "            .Relation th{\n",
       "                background: #A0A0A0; color: #ffffff; padding:4px; border:#f0e0e0 1px solid;\n",
       "                font-weight: normal; font-family: monospace; font-size: 100%;\n",
       "            }\n",
       "            .Relation td{\n",
       "                padding:4px; border:#f0e0e0 1px solid; font-size:100%;\n",
       "            }\n",
       "            .Relation tr:nth-child(odd){\n",
       "                background: #ffffff;\n",
       "            }\n",
       "            .Relation tr:nth-child(even){\n",
       "                background: #f3f1ff;\n",
       "            }\n",
       "            /* Tooltip container */\n",
       "            .djtooltip {\n",
       "            }\n",
       "            /* Tooltip text */\n",
       "            .djtooltip .djtooltiptext {\n",
       "                visibility: hidden;\n",
       "                width: 120px;\n",
       "                background-color: black;\n",
       "                color: #fff;\n",
       "                text-align: center;\n",
       "                padding: 5px 0;\n",
       "                border-radius: 6px;\n",
       "                /* Position the tooltip text - see examples below! */\n",
       "                position: absolute;\n",
       "                z-index: 1;\n",
       "            }\n",
       "            #primary {\n",
       "                font-weight: bold;\n",
       "                color: black;\n",
       "            }\n",
       "\n",
       "            #nonprimary {\n",
       "                font-weight: normal;\n",
       "                color: white;\n",
       "            }\n",
       "\n",
       "            /* Show the tooltip text when you mouse over the tooltip container */\n",
       "            .djtooltip:hover .djtooltiptext {\n",
       "                visibility: visible;\n",
       "            }\n",
       "        </style>\n",
       "        \n",
       "        <b></b>\n",
       "            <div style=\"max-height:1000px;max-width:1500px;overflow:auto;\">\n",
       "            <table border=\"1\" class=\"Relation\">\n",
       "                <thead> <tr style=\"text-align: right;\"> <th> <div class=\"djtooltip\">\n",
       "                                <p id=\"primary\">segment_id</p>\n",
       "                                <span class=\"djtooltiptext\">segment id unique within each Segmentation</span>\n",
       "                            </div></th><th><div class=\"djtooltip\">\n",
       "                                <p id=\"primary\">decimation_version</p>\n",
       "                                <span class=\"djtooltiptext\"></span>\n",
       "                            </div></th><th><div class=\"djtooltip\">\n",
       "                                <p id=\"primary\">decimation_ratio</p>\n",
       "                                <span class=\"djtooltiptext\">ratio of remaining mesh vertices/faces (which ones depends on what metric the decimation technique uses)</span>\n",
       "                            </div></th><th><div class=\"djtooltip\">\n",
       "                                <p id=\"primary\">soma_index</p>\n",
       "                                <span class=\"djtooltiptext\">index given to this soma to account for multiple somas in one base semgnet</span>\n",
       "                            </div></th><th><div class=\"djtooltip\">\n",
       "                                <p id=\"primary\">ver</p>\n",
       "                                <span class=\"djtooltiptext\">the version number of the materializaiton</span>\n",
       "                            </div></th><th><div class=\"djtooltip\">\n",
       "                                <p id=\"nonprimary\">centroid_x</p>\n",
       "                                <span class=\"djtooltiptext\">(EM voxels)</span>\n",
       "                            </div></th><th><div class=\"djtooltip\">\n",
       "                                <p id=\"nonprimary\">centroid_y</p>\n",
       "                                <span class=\"djtooltiptext\">(EM voxels)</span>\n",
       "                            </div></th><th><div class=\"djtooltip\">\n",
       "                                <p id=\"nonprimary\">centroid_z</p>\n",
       "                                <span class=\"djtooltiptext\">(EM voxels)</span>\n",
       "                            </div></th><th><div class=\"djtooltip\">\n",
       "                                <p id=\"nonprimary\">n_vertices</p>\n",
       "                                <span class=\"djtooltiptext\">number of vertices</span>\n",
       "                            </div></th><th><div class=\"djtooltip\">\n",
       "                                <p id=\"nonprimary\">n_faces</p>\n",
       "                                <span class=\"djtooltiptext\">number of faces</span>\n",
       "                            </div></th><th><div class=\"djtooltip\">\n",
       "                                <p id=\"nonprimary\">mesh</p>\n",
       "                                <span class=\"djtooltiptext\">datajoint adapter to get the somas mesh objects</span>\n",
       "                            </div></th><th><div class=\"djtooltip\">\n",
       "                                <p id=\"nonprimary\">multiplicity</p>\n",
       "                                <span class=\"djtooltiptext\">the number of somas found for this base segment</span>\n",
       "                            </div></th><th><div class=\"djtooltip\">\n",
       "                                <p id=\"nonprimary\">sdf</p>\n",
       "                                <span class=\"djtooltiptext\">sdf width value for the soma</span>\n",
       "                            </div></th><th><div class=\"djtooltip\">\n",
       "                                <p id=\"nonprimary\">max_side_ratio</p>\n",
       "                                <span class=\"djtooltiptext\">the maximum of the side length ratios used for check if soma</span>\n",
       "                            </div></th><th><div class=\"djtooltip\">\n",
       "                                <p id=\"nonprimary\">bbox_volume_ratio</p>\n",
       "                                <span class=\"djtooltiptext\">ratio of bbox (axis aligned) volume to mesh volume to use for check if soma</span>\n",
       "                            </div></th><th><div class=\"djtooltip\">\n",
       "                                <p id=\"nonprimary\">max_hole_length</p>\n",
       "                                <span class=\"djtooltiptext\">euclidean distance of the maximum hole size</span>\n",
       "                            </div></th><th><div class=\"djtooltip\">\n",
       "                                <p id=\"nonprimary\">run_time</p>\n",
       "                                <span class=\"djtooltiptext\">the amount of time to run (seconds)</span>\n",
       "                            </div> </th> </tr> </thead>\n",
       "                <tbody> <tr>  </tr> </tbody>\n",
       "            </table>\n",
       "            \n",
       "            <p>Total: 0</p></div>\n",
       "            "
      ],
      "text/plain": [
       "*segment_id    *decimation_ve *decimation_ra *soma_index    *ver    centroid_x     centroid_y     centroid_z     n_vertices     n_faces     mesh       multiplicity   sdf     max_side_ratio bbox_volume_ra max_hole_lengt run_time    \n",
       "+------------+ +------------+ +------------+ +------------+ +-----+ +------------+ +------------+ +------------+ +------------+ +---------+ +--------+ +------------+ +-----+ +------------+ +------------+ +------------+ +----------+\n",
       "\n",
       " (Total: 0)"
      ]
     },
     "execution_count": 75,
     "metadata": {},
     "output_type": "execute_result"
    }
   ],
   "source": [
    "minnie.BaylorSegmentCentroid()"
   ]
  },
  {
   "cell_type": "code",
   "execution_count": 61,
   "metadata": {},
   "outputs": [
    {
     "name": "stdout",
     "output_type": "stream",
     "text": [
      "# version and timestamp of Minnie65 materialization\n",
      "ver                  : decimal(6,2)                 # materialization version\n",
      "---\n",
      "valid=1              : tinyint                      # marks whether the materialization is valid. Defaults to 1.\n",
      "timestamp=CURRENT_TIMESTAMP : timestamp                    # marks the time at which the materialization service was started\n",
      "\n"
     ]
    },
    {
     "data": {
      "text/plain": [
       "'# version and timestamp of Minnie65 materialization\\nver                  : decimal(6,2)                 # materialization version\\n---\\nvalid=1              : tinyint                      # marks whether the materialization is valid. Defaults to 1.\\ntimestamp=CURRENT_TIMESTAMP : timestamp                    # marks the time at which the materialization service was started\\n'"
      ]
     },
     "execution_count": 61,
     "metadata": {},
     "output_type": "execute_result"
    }
   ],
   "source": [
    "import datajoint as dj\n",
    "m65mat = dj.create_virtual_module('m65mat', 'microns_minnie65_materialization')\n",
    "m65mat.Materialization.describe()"
   ]
  },
  {
   "cell_type": "code",
   "execution_count": 65,
   "metadata": {},
   "outputs": [
    {
     "name": "stderr",
     "output_type": "stream",
     "text": [
      "100%|██████████| 1/1 [00:00<00:00, 148.38it/s]\n"
     ]
    },
    {
     "data": {
      "text/plain": [
       "[]"
      ]
     },
     "execution_count": 65,
     "metadata": {},
     "output_type": "execute_result"
    }
   ],
   "source": [
    "schema.external['somas'].delete(delete_external_files=True)"
   ]
  },
  {
   "cell_type": "code",
   "execution_count": 62,
   "metadata": {},
   "outputs": [
    {
     "data": {
      "text/html": [
       "\n",
       "        \n",
       "        <style type=\"text/css\">\n",
       "            .Relation{\n",
       "                border-collapse:collapse;\n",
       "            }\n",
       "            .Relation th{\n",
       "                background: #A0A0A0; color: #ffffff; padding:4px; border:#f0e0e0 1px solid;\n",
       "                font-weight: normal; font-family: monospace; font-size: 100%;\n",
       "            }\n",
       "            .Relation td{\n",
       "                padding:4px; border:#f0e0e0 1px solid; font-size:100%;\n",
       "            }\n",
       "            .Relation tr:nth-child(odd){\n",
       "                background: #ffffff;\n",
       "            }\n",
       "            .Relation tr:nth-child(even){\n",
       "                background: #f3f1ff;\n",
       "            }\n",
       "            /* Tooltip container */\n",
       "            .djtooltip {\n",
       "            }\n",
       "            /* Tooltip text */\n",
       "            .djtooltip .djtooltiptext {\n",
       "                visibility: hidden;\n",
       "                width: 120px;\n",
       "                background-color: black;\n",
       "                color: #fff;\n",
       "                text-align: center;\n",
       "                padding: 5px 0;\n",
       "                border-radius: 6px;\n",
       "                /* Position the tooltip text - see examples below! */\n",
       "                position: absolute;\n",
       "                z-index: 1;\n",
       "            }\n",
       "            #primary {\n",
       "                font-weight: bold;\n",
       "                color: black;\n",
       "            }\n",
       "\n",
       "            #nonprimary {\n",
       "                font-weight: normal;\n",
       "                color: white;\n",
       "            }\n",
       "\n",
       "            /* Show the tooltip text when you mouse over the tooltip container */\n",
       "            .djtooltip:hover .djtooltiptext {\n",
       "                visibility: visible;\n",
       "            }\n",
       "        </style>\n",
       "        \n",
       "        <b>version and timestamp of Minnie65 materialization</b>\n",
       "            <div style=\"max-height:1000px;max-width:1500px;overflow:auto;\">\n",
       "            <table border=\"1\" class=\"Relation\">\n",
       "                <thead> <tr style=\"text-align: right;\"> <th> <div class=\"djtooltip\">\n",
       "                                <p id=\"primary\">ver</p>\n",
       "                                <span class=\"djtooltiptext\">materialization version</span>\n",
       "                            </div></th><th><div class=\"djtooltip\">\n",
       "                                <p id=\"nonprimary\">valid</p>\n",
       "                                <span class=\"djtooltiptext\">marks whether the materialization is valid. Defaults to 1.</span>\n",
       "                            </div></th><th><div class=\"djtooltip\">\n",
       "                                <p id=\"nonprimary\">timestamp</p>\n",
       "                                <span class=\"djtooltiptext\">marks the time at which the materialization service was started</span>\n",
       "                            </div> </th> </tr> </thead>\n",
       "                <tbody> <tr> <td>0.01</td>\n",
       "<td>1</td>\n",
       "<td>2020-07-10 00:19:09</td></tr><tr><td>0.08</td>\n",
       "<td>1</td>\n",
       "<td>2020-08-01 02:20:00</td></tr><tr><td>0.10</td>\n",
       "<td>1</td>\n",
       "<td>2020-08-15 14:00:00</td></tr><tr><td>0.20</td>\n",
       "<td>1</td>\n",
       "<td>2020-09-12 18:14:42</td></tr><tr><td>0.30</td>\n",
       "<td>1</td>\n",
       "<td>2020-11-02 07:23:42</td></tr><tr><td>8.00</td>\n",
       "<td>1</td>\n",
       "<td>2020-12-02 03:39:30</td></tr><tr><td>9.00</td>\n",
       "<td>1</td>\n",
       "<td>2020-12-09 00:51:00</td></tr><tr><td>29.00</td>\n",
       "<td>1</td>\n",
       "<td>2020-12-22 23:07:22</td> </tr> </tbody>\n",
       "            </table>\n",
       "            \n",
       "            <p>Total: 8</p></div>\n",
       "            "
      ],
      "text/plain": [
       "*ver      valid     timestamp     \n",
       "+-------+ +-------+ +------------+\n",
       "0.01      1         2020-07-10 00:\n",
       "0.08      1         2020-08-01 02:\n",
       "0.10      1         2020-08-15 14:\n",
       "0.20      1         2020-09-12 18:\n",
       "0.30      1         2020-11-02 07:\n",
       "8.00      1         2020-12-02 03:\n",
       "9.00      1         2020-12-09 00:\n",
       "29.00     1         2020-12-22 23:\n",
       " (Total: 8)"
      ]
     },
     "execution_count": 62,
     "metadata": {},
     "output_type": "execute_result"
    }
   ],
   "source": [
    "m65mat.Materialization()"
   ]
  },
  {
   "cell_type": "markdown",
   "metadata": {},
   "source": [
    "# Inspecting Decomposition"
   ]
  },
  {
   "cell_type": "code",
   "execution_count": 463,
   "metadata": {},
   "outputs": [
    {
     "name": "stderr",
     "output_type": "stream",
     "text": [
      "INFO - 2021-01-08 09:23:43,642 - connection - Transaction started\n"
     ]
    },
    {
     "name": "stdout",
     "output_type": "stream",
     "text": [
      "About to delete:\n",
      "`microns_minnie65_02`.`__decomposition`: 19 items\n",
      "Proceed? [yes, No]: yes\n"
     ]
    },
    {
     "name": "stderr",
     "output_type": "stream",
     "text": [
      "INFO - 2021-01-08 09:23:45,072 - connection - Transaction committed and closed.\n"
     ]
    },
    {
     "name": "stdout",
     "output_type": "stream",
     "text": [
      "Committed.\n"
     ]
    }
   ],
   "source": [
    "minnie.Decomposition.delete()"
   ]
  },
  {
   "cell_type": "code",
   "execution_count": 464,
   "metadata": {},
   "outputs": [
    {
     "name": "stderr",
     "output_type": "stream",
     "text": [
      "100%|██████████| 19/19 [00:00<00:00, 75.73it/s]\n"
     ]
    },
    {
     "data": {
      "text/plain": [
       "[]"
      ]
     },
     "execution_count": 464,
     "metadata": {},
     "output_type": "execute_result"
    }
   ],
   "source": [
    "schema.external['decomposition'].delete(delete_external_files=True)"
   ]
  },
  {
   "cell_type": "code",
   "execution_count": 137,
   "metadata": {},
   "outputs": [],
   "source": [
    "curr_table = (minnie.schema.jobs & \"table_name='__decomposition'\")\n",
    "(curr_table & \"status='error'\").delete()"
   ]
  },
  {
   "cell_type": "code",
   "execution_count": 136,
   "metadata": {},
   "outputs": [
    {
     "name": "stdout",
     "output_type": "stream",
     "text": [
      "{'segment_id': 864691135589917707, 'decimation_version': 0, 'decimation_ratio': Decimal('0.25')}\n"
     ]
    }
   ],
   "source": [
    "print((curr_table & \"key_hash='1c7677a63d052676dc2a5d0e819b9425'\").fetch1(\"key\"))"
   ]
  },
  {
   "cell_type": "code",
   "execution_count": 468,
   "metadata": {},
   "outputs": [],
   "source": [
    "(minnie.schema.jobs & \"table_name='__baylor_segment_centroid'\")#.delete()"
   ]
  },
  {
   "cell_type": "code",
   "execution_count": null,
   "metadata": {},
   "outputs": [],
   "source": []
  }
 ],
 "metadata": {
  "kernelspec": {
   "display_name": "Python 3",
   "language": "python",
   "name": "python3"
  },
  "language_info": {
   "codemirror_mode": {
    "name": "ipython",
    "version": 3
   },
   "file_extension": ".py",
   "mimetype": "text/x-python",
   "name": "python",
   "nbconvert_exporter": "python",
   "pygments_lexer": "ipython3",
   "version": "3.6.9"
  }
 },
 "nbformat": 4,
 "nbformat_minor": 4
}
