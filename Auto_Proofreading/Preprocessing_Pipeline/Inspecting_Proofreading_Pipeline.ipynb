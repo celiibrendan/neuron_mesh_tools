{
 "cells": [
  {
   "cell_type": "code",
   "execution_count": null,
   "metadata": {},
   "outputs": [],
   "source": [
    "\"\"\"\n",
    "To \n",
    "\n",
    "\n",
    "\"\"\""
   ]
  },
  {
   "cell_type": "code",
   "execution_count": 1,
   "metadata": {},
   "outputs": [],
   "source": [
    "%load_ext autoreload\n",
    "%autoreload 2"
   ]
  },
  {
   "cell_type": "code",
   "execution_count": 2,
   "metadata": {},
   "outputs": [],
   "source": [
    "from os import sys\n",
    "sys.path.append(\"/meshAfterParty/\")"
   ]
  },
  {
   "cell_type": "code",
   "execution_count": 3,
   "metadata": {},
   "outputs": [
    {
     "name": "stderr",
     "output_type": "stream",
     "text": [
      "INFO - 2021-02-07 22:18:35,766 - settings - Setting database.host to at-database.ad.bcm.edu\n",
      "INFO - 2021-02-07 22:18:35,768 - settings - Setting database.user to celiib\n",
      "INFO - 2021-02-07 22:18:35,769 - settings - Setting database.password to newceliipass\n",
      "INFO - 2021-02-07 22:18:35,781 - settings - Setting stores to {'minnie65': {'protocol': 'file', 'location': '/mnt/dj-stor01/platinum/minnie65', 'stage': '/mnt/dj-stor01/platinum/minnie65'}, 'meshes': {'protocol': 'file', 'location': '/mnt/dj-stor01/platinum/minnie65/02/meshes', 'stage': '/mnt/dj-stor01/platinum/minnie65/02/meshes'}, 'decimated_meshes': {'protocol': 'file', 'location': '/mnt/dj-stor01/platinum/minnie65/02/decimated_meshes', 'stage': '/mnt/dj-stor01/platinum/minnie65/02/decimated_meshes'}, 'skeletons': {'protocol': 'file', 'location': '/mnt/dj-stor01/platinum/minnie65/02/skeletons'}}\n",
      "INFO - 2021-02-07 22:18:35,781 - settings - Setting enable_python_native_blobs to True\n",
      "INFO - 2021-02-07 22:18:35,795 - connection - Connected celiib@at-database.ad.bcm.edu:3306\n"
     ]
    },
    {
     "name": "stdout",
     "output_type": "stream",
     "text": [
      "Connecting celiib@at-database.ad.bcm.edu:3306\n"
     ]
    },
    {
     "name": "stderr",
     "output_type": "stream",
     "text": [
      "INFO - 2021-02-07 22:18:36,068 - settings - Setting enable_python_native_blobs to True\n"
     ]
    }
   ],
   "source": [
    "import datajoint_utils as du"
   ]
  },
  {
   "cell_type": "code",
   "execution_count": 4,
   "metadata": {},
   "outputs": [
    {
     "name": "stderr",
     "output_type": "stream",
     "text": [
      "INFO - 2021-02-07 22:18:36,172 - settings - Setting enable_python_native_blobs to True\n",
      "INFO - 2021-02-07 22:18:36,462 - settings - Setting enable_python_native_blobs to True\n"
     ]
    }
   ],
   "source": [
    "minnie,schema = du.configure_minnie_vm()"
   ]
  },
  {
   "cell_type": "markdown",
   "metadata": {},
   "source": [
    "# Inspecting Decimation"
   ]
  },
  {
   "cell_type": "code",
   "execution_count": null,
   "metadata": {},
   "outputs": [],
   "source": [
    "minnie.MultiSomaProofread2()"
   ]
  },
  {
   "cell_type": "code",
   "execution_count": null,
   "metadata": {},
   "outputs": [],
   "source": [
    "minnie.MultiSomaProofread2.proj()"
   ]
  },
  {
   "cell_type": "code",
   "execution_count": null,
   "metadata": {},
   "outputs": [],
   "source": [
    "minnie.MultiSomaProofread2.proj() - minnie.Mesh.proj()"
   ]
  },
  {
   "cell_type": "code",
   "execution_count": null,
   "metadata": {},
   "outputs": [],
   "source": [
    "minnie.Decimation() & minnie.MultiSomaProofread2.proj()"
   ]
  },
  {
   "cell_type": "code",
   "execution_count": null,
   "metadata": {},
   "outputs": [],
   "source": [
    "du.get_seg_extracted_somas(864691134947393276)"
   ]
  },
  {
   "cell_type": "code",
   "execution_count": null,
   "metadata": {},
   "outputs": [],
   "source": [
    "minnie.BaylorSegmentCentroid()"
   ]
  },
  {
   "cell_type": "code",
   "execution_count": null,
   "metadata": {},
   "outputs": [],
   "source": [
    "minnie.NeuronGliaNuclei()"
   ]
  },
  {
   "cell_type": "code",
   "execution_count": null,
   "metadata": {},
   "outputs": [],
   "source": [
    "curr_table = (schema.jobs & \"table_name='__baylor_segment_centroid'\")# & \"status='error'\"#.delete()\n",
    "curr_table"
   ]
  },
  {
   "cell_type": "code",
   "execution_count": null,
   "metadata": {},
   "outputs": [],
   "source": [
    "(curr_table & \"key_hash = '8de77354e83e5c8764c3791b865c7033'\").delete()#.fetch1(\"key\")"
   ]
  },
  {
   "cell_type": "code",
   "execution_count": null,
   "metadata": {},
   "outputs": [],
   "source": [
    "print((curr_table & \"key_hash = '3415f98d1d6285f5a403a6b83ddae5ef'\").fetch1(\"error_stack\"))"
   ]
  },
  {
   "cell_type": "code",
   "execution_count": null,
   "metadata": {},
   "outputs": [],
   "source": [
    "minnie,schema = du.configure_minnie_vm()"
   ]
  },
  {
   "cell_type": "markdown",
   "metadata": {},
   "source": [
    "# Inspecting Soma Extraction"
   ]
  },
  {
   "cell_type": "code",
   "execution_count": null,
   "metadata": {},
   "outputs": [],
   "source": [
    "import datajoint as dj\n",
    "segment_id = (dj.U(\"segment_id\") & minnie.BaylorSegmentCentroid.proj() & minnie.MultiSomaProofread2.proj()).fetch(\"segment_id\")\n",
    "len(segment_id)"
   ]
  },
  {
   "cell_type": "code",
   "execution_count": null,
   "metadata": {},
   "outputs": [],
   "source": [
    "curr_index = 53\n",
    "curr_segment_id = segment_id[curr_index]\n",
    "curr_segment_id"
   ]
  },
  {
   "cell_type": "code",
   "execution_count": null,
   "metadata": {},
   "outputs": [],
   "source": [
    "curr_table = minnie.BaylorSegmentCentroid() & dict(segment_id=curr_segment_id)\n",
    "curr_table"
   ]
  },
  {
   "cell_type": "code",
   "execution_count": null,
   "metadata": {},
   "outputs": [],
   "source": [
    "minnie.NeuronGliaNuclei() & dict(segment_id=curr_segment_id)"
   ]
  },
  {
   "cell_type": "code",
   "execution_count": null,
   "metadata": {},
   "outputs": [],
   "source": [
    "minnie.MultiSomaProofread2 & dict(segment_id=curr_segment_id)"
   ]
  },
  {
   "cell_type": "code",
   "execution_count": null,
   "metadata": {},
   "outputs": [],
   "source": [
    "import neuron_visualizations as nviz\n",
    "nviz.plot_objects(meshes=du.get_seg_extracted_somas(curr_segment_id),\n",
    "                 meshes_colors=\"random\")"
   ]
  },
  {
   "cell_type": "code",
   "execution_count": null,
   "metadata": {},
   "outputs": [],
   "source": [
    "du.plot_decimated_mesh_with_somas(curr_segment_id,\n",
    "                                 plot_glia_nuclei=False)"
   ]
  },
  {
   "cell_type": "code",
   "execution_count": null,
   "metadata": {},
   "outputs": [],
   "source": [
    "import system_utils as su"
   ]
  },
  {
   "cell_type": "code",
   "execution_count": null,
   "metadata": {},
   "outputs": [],
   "source": [
    "su.decompress_pickle"
   ]
  },
  {
   "cell_type": "markdown",
   "metadata": {},
   "source": [
    "# Inspecting Decomposition"
   ]
  },
  {
   "cell_type": "code",
   "execution_count": null,
   "metadata": {},
   "outputs": [],
   "source": [
    "len(minnie.Decomposition())"
   ]
  },
  {
   "cell_type": "code",
   "execution_count": null,
   "metadata": {},
   "outputs": [],
   "source": [
    "minnie.Decomposition"
   ]
  },
  {
   "cell_type": "code",
   "execution_count": null,
   "metadata": {},
   "outputs": [],
   "source": [
    "minnie.Decomposition() & \"n_error_limbs>3\""
   ]
  },
  {
   "cell_type": "code",
   "execution_count": null,
   "metadata": {},
   "outputs": [],
   "source": [
    "schema.external['decomposition'].delete(delete_external_files=True)"
   ]
  },
  {
   "cell_type": "code",
   "execution_count": null,
   "metadata": {},
   "outputs": [],
   "source": [
    "curr_table = (minnie.schema.jobs & \"table_name='__decomposition'\")\n",
    "error_table = (curr_table & \"status='error'\")#.delete()\n",
    "error_table"
   ]
  },
  {
   "cell_type": "code",
   "execution_count": null,
   "metadata": {},
   "outputs": [],
   "source": [
    "print((error_table & \"key_hash='2fce6f814c2680709bb844fc65ac2a5b'\").fetch1(\"key\"))"
   ]
  },
  {
   "cell_type": "code",
   "execution_count": null,
   "metadata": {},
   "outputs": [],
   "source": [
    "error_table = ((minnie.schema.jobs & \"table_name='__decomposition'\") & \"status='error'\")#.delete()"
   ]
  },
  {
   "cell_type": "markdown",
   "metadata": {},
   "source": [
    "# Checking the Splitting"
   ]
  },
  {
   "cell_type": "code",
   "execution_count": null,
   "metadata": {},
   "outputs": [],
   "source": [
    "(schema.jobs & \"table_name = '__decomposition_split'\" & \"status='error'\")"
   ]
  },
  {
   "cell_type": "code",
   "execution_count": null,
   "metadata": {},
   "outputs": [],
   "source": [
    "print((schema.jobs & \"table_name = '__decomposition_split'\" & \"status='error'\" & \"key_hash='60adf6d2c754098d0cfa6c7cee7bbf21'\").fetch1(\"error_stack\"))"
   ]
  },
  {
   "cell_type": "code",
   "execution_count": null,
   "metadata": {},
   "outputs": [],
   "source": [
    "schema.jobs & \"table_name = '__decomposition_split'\""
   ]
  },
  {
   "cell_type": "code",
   "execution_count": null,
   "metadata": {},
   "outputs": [],
   "source": [
    "import datajoint as dj\n",
    "len(dj.U(\"segment_id\") & minnie.DecompositionSplit())"
   ]
  },
  {
   "cell_type": "code",
   "execution_count": null,
   "metadata": {},
   "outputs": [],
   "source": [
    "key_source = minnie.Decomposition() & \"n_somas>1 OR n_error_limbs>0\"\n",
    "len(key_source)"
   ]
  },
  {
   "cell_type": "code",
   "execution_count": null,
   "metadata": {},
   "outputs": [],
   "source": [
    "minnie.DecompositionSplit() & \"n_limbs>6\" & \"multiplicity > 1\""
   ]
  },
  {
   "cell_type": "code",
   "execution_count": null,
   "metadata": {
    "scrolled": true
   },
   "outputs": [],
   "source": [
    "neuron_objs = (minnie.DecompositionSplit() & \"segment_id=864691134884798458\").fetch(\"decomposition\")"
   ]
  },
  {
   "cell_type": "code",
   "execution_count": null,
   "metadata": {},
   "outputs": [],
   "source": [
    "neuron_objs"
   ]
  },
  {
   "cell_type": "code",
   "execution_count": null,
   "metadata": {},
   "outputs": [],
   "source": [
    "import proofreading_utils as pru\n",
    "import classification_utils as clu"
   ]
  },
  {
   "cell_type": "markdown",
   "metadata": {},
   "source": [
    "# Developing the Dendrite to Axon Flip Function"
   ]
  },
  {
   "cell_type": "code",
   "execution_count": null,
   "metadata": {},
   "outputs": [],
   "source": [
    "current_axon_limb_branch_dict = clu.axon_like_limb_branch_dict(neuron_objs[0],\n",
    "                                                              plot_axon_like=True)"
   ]
  },
  {
   "cell_type": "code",
   "execution_count": null,
   "metadata": {},
   "outputs": [],
   "source": [
    "current_axon_limb_branch_dict = clu.axon_like_limb_branch_dict(neuron_objs[1],\n",
    "                                                              plot_axon_like=True)"
   ]
  },
  {
   "cell_type": "code",
   "execution_count": null,
   "metadata": {},
   "outputs": [],
   "source": []
  },
  {
   "cell_type": "code",
   "execution_count": null,
   "metadata": {},
   "outputs": [],
   "source": []
  },
  {
   "cell_type": "code",
   "execution_count": null,
   "metadata": {},
   "outputs": [],
   "source": []
  },
  {
   "cell_type": "code",
   "execution_count": null,
   "metadata": {},
   "outputs": [],
   "source": []
  },
  {
   "cell_type": "code",
   "execution_count": null,
   "metadata": {},
   "outputs": [],
   "source": []
  },
  {
   "cell_type": "code",
   "execution_count": null,
   "metadata": {},
   "outputs": [],
   "source": []
  },
  {
   "cell_type": "markdown",
   "metadata": {},
   "source": [
    "# Testing the Neuron"
   ]
  },
  {
   "cell_type": "code",
   "execution_count": null,
   "metadata": {
    "scrolled": true
   },
   "outputs": [],
   "source": [
    "clu.axon_classification(neuron_objs[2],\n",
    "                        plot_axon_like_segments=False,\n",
    "                        plot_candidates=False,\n",
    "                       plot_axons=True,\n",
    "                       verbose=True)"
   ]
  },
  {
   "cell_type": "code",
   "execution_count": null,
   "metadata": {},
   "outputs": [],
   "source": [
    "print(\"hi\")"
   ]
  },
  {
   "cell_type": "code",
   "execution_count": null,
   "metadata": {},
   "outputs": [],
   "source": []
  },
  {
   "cell_type": "code",
   "execution_count": null,
   "metadata": {
    "scrolled": true
   },
   "outputs": [],
   "source": [
    "output_list = pru.proofread_neuron(\n",
    "    \n",
    "    input_neuron = neuron_objs[1],\n",
    "\n",
    "    attempt_to_split_neuron = False,\n",
    "    plot_neuron_split_results = False,\n",
    "\n",
    "    plot_neuron_before_filtering = False,\n",
    "\n",
    "    plot_axon = False,\n",
    "    plot_axon_like = False,\n",
    "\n",
    "    # -- for the filtering loop\n",
    "    plot_limb_branch_filter_with_disconnect_effect = True,\n",
    "    plot_final_filtered_neuron = True,\n",
    "\n",
    "    # -- for the output --\n",
    "    return_process_info = True,\n",
    "\n",
    "    debug_time = True,\n",
    "    verbose = True,\n",
    "    verbose_outline=True\n",
    "\n",
    "    )"
   ]
  },
  {
   "cell_type": "code",
   "execution_count": null,
   "metadata": {},
   "outputs": [],
   "source": [
    "nru.low_branch_length_clusters(neuron_objs[2],\n",
    "                              verbose=True)"
   ]
  },
  {
   "cell_type": "code",
   "execution_count": null,
   "metadata": {},
   "outputs": [],
   "source": [
    "minnie,schema = du.configure_minnie_vm()"
   ]
  },
  {
   "cell_type": "code",
   "execution_count": null,
   "metadata": {},
   "outputs": [],
   "source": [
    "minnie.NeuronSplitSuggestions()"
   ]
  },
  {
   "cell_type": "code",
   "execution_count": null,
   "metadata": {},
   "outputs": [],
   "source": [
    "(schema.jobs & \"table_name = '__neuron_split_suggestions'\")#.delete()"
   ]
  },
  {
   "cell_type": "code",
   "execution_count": null,
   "metadata": {},
   "outputs": [],
   "source": [
    "minnie.NeuronSplitSuggestions.fetch1(\"split_results\")"
   ]
  },
  {
   "cell_type": "markdown",
   "metadata": {},
   "source": [
    "# Saving off the split results (becuase redoing)"
   ]
  },
  {
   "cell_type": "code",
   "execution_count": null,
   "metadata": {},
   "outputs": [],
   "source": [
    "split_info = minnie.NeuronSplitSuggestions.fetch(as_dict=True)"
   ]
  },
  {
   "cell_type": "code",
   "execution_count": null,
   "metadata": {},
   "outputs": [],
   "source": [
    "import pandas as pd\n",
    "split_table = pd.DataFrame.from_dict(split_info)\n",
    "split_table"
   ]
  },
  {
   "cell_type": "code",
   "execution_count": null,
   "metadata": {},
   "outputs": [],
   "source": [
    "import system_utils as su\n",
    "su.compressed_pickle(split_table,\"split_table\")"
   ]
  },
  {
   "cell_type": "markdown",
   "metadata": {},
   "source": [
    "# Saving and Clearing all of the tables so we can redo"
   ]
  },
  {
   "cell_type": "code",
   "execution_count": null,
   "metadata": {},
   "outputs": [],
   "source": [
    "minnie.BaylorSegmentCentroid()"
   ]
  },
  {
   "cell_type": "code",
   "execution_count": null,
   "metadata": {},
   "outputs": [],
   "source": [
    "col_to_keep_soma = [           \n",
    "\"centroid_x\",\n",
    "\"centroid_y\",\n",
    "\"centroid_z\",\n",
    "\"n_vertices\",\n",
    "\"n_faces\",\n",
    "\"multiplicity\",\n",
    "\"sdf\",\n",
    "\"max_side_ratio\",\n",
    "\"bbox_volume_ratio\",\n",
    "\"max_hole_length\",\n",
    "\"run_time\",\n",
    "              ]\n",
    "minnie.BaylorSegmentCentroid.proj(*col_to_keep_soma)"
   ]
  },
  {
   "cell_type": "code",
   "execution_count": null,
   "metadata": {},
   "outputs": [],
   "source": [
    "soma_saved_data = minnie.BaylorSegmentCentroid.proj(*col_to_keep_soma).fetch(as_dict=True)\n",
    "new_data_frame_soma = pd.DataFrame.from_dict(soma_saved_data)\n",
    "new_data_frame_soma"
   ]
  },
  {
   "cell_type": "code",
   "execution_count": null,
   "metadata": {},
   "outputs": [],
   "source": [
    "su.compressed_pickle(new_data_frame_soma,\"BaylorSegmentCentroid_saved_1_9\")"
   ]
  },
  {
   "cell_type": "code",
   "execution_count": null,
   "metadata": {},
   "outputs": [],
   "source": [
    "minnie.BaylorSegmentCentroid().delete()"
   ]
  },
  {
   "cell_type": "code",
   "execution_count": null,
   "metadata": {},
   "outputs": [],
   "source": [
    "schema.external['somas'].delete(delete_external_files=True)"
   ]
  },
  {
   "cell_type": "code",
   "execution_count": null,
   "metadata": {},
   "outputs": [],
   "source": [
    "(schema.jobs & \"table_name='__baylor_segment_centroid'\")"
   ]
  },
  {
   "cell_type": "code",
   "execution_count": null,
   "metadata": {},
   "outputs": [],
   "source": [
    "(schema.jobs & \"table_name='__baylor_segment_centroid'\") & 'error_message =\"TypeError: object of type \\'Trimesh\\' has no len()\"'"
   ]
  },
  {
   "cell_type": "code",
   "execution_count": null,
   "metadata": {},
   "outputs": [],
   "source": [
    "nu.all_unique_choose_2_combinations(np.arange(5))"
   ]
  },
  {
   "cell_type": "code",
   "execution_count": null,
   "metadata": {},
   "outputs": [],
   "source": [
    "minnie.BaylorSegmentCentroid()"
   ]
  },
  {
   "cell_type": "code",
   "execution_count": null,
   "metadata": {},
   "outputs": [],
   "source": [
    "(schema.jobs & \"table_name='__baylor_segment_centroid'\") #& \"status='error'\"#.delete()"
   ]
  },
  {
   "cell_type": "code",
   "execution_count": null,
   "metadata": {},
   "outputs": [],
   "source": [
    "print((schema.jobs & \"table_name='__baylor_segment_centroid'\" & 'key_hash=\"00471f14c125b842baffaf6ebff1eed1\"').fetch1(\"error_stack\"))"
   ]
  },
  {
   "cell_type": "markdown",
   "metadata": {},
   "source": [
    "# Getting a histogram of the somas"
   ]
  },
  {
   "cell_type": "code",
   "execution_count": null,
   "metadata": {},
   "outputs": [],
   "source": [
    "import matplotlib.pyplot as plt\n",
    "soma_faces_array = new_data_frame_soma[\"n_faces\"].to_numpy()\n",
    "soma_faces_array_filtered = soma_faces_array[soma_faces_array!=0]\n",
    "soma_faces_array_filtered"
   ]
  },
  {
   "cell_type": "code",
   "execution_count": null,
   "metadata": {},
   "outputs": [],
   "source": [
    "plt.hist(soma_faces_array_filtered,bins=100)"
   ]
  },
  {
   "cell_type": "code",
   "execution_count": null,
   "metadata": {},
   "outputs": [],
   "source": [
    "import numpy_utils as nu"
   ]
  },
  {
   "cell_type": "code",
   "execution_count": null,
   "metadata": {},
   "outputs": [],
   "source": [
    "minnie.BaylorSegmentCentroid()"
   ]
  },
  {
   "cell_type": "code",
   "execution_count": null,
   "metadata": {},
   "outputs": [],
   "source": [
    "minnie,schema = du.configure_minnie_vm()"
   ]
  },
  {
   "cell_type": "code",
   "execution_count": null,
   "metadata": {},
   "outputs": [],
   "source": [
    "minnie.NeuronGliaNuclei()"
   ]
  },
  {
   "cell_type": "code",
   "execution_count": null,
   "metadata": {},
   "outputs": [],
   "source": [
    "curr_seg_id = 864691134947393276"
   ]
  },
  {
   "cell_type": "code",
   "execution_count": null,
   "metadata": {},
   "outputs": [],
   "source": [
    "nuclei_faces = (minnie.NeuronGliaNuclei() & f\"segment_id={curr_seg_id}\").fetch1(\"nuclei_faces\")"
   ]
  },
  {
   "cell_type": "code",
   "execution_count": null,
   "metadata": {},
   "outputs": [],
   "source": [
    "current_neuron_mesh = du.fetch_segment_id_mesh(864691134947393276)"
   ]
  },
  {
   "cell_type": "code",
   "execution_count": null,
   "metadata": {},
   "outputs": [],
   "source": [
    "nuclei_mesh = current_neuron_mesh.submesh([nuclei_faces],append=True,repair=False)\n",
    "nuclei_mesh"
   ]
  },
  {
   "cell_type": "code",
   "execution_count": null,
   "metadata": {},
   "outputs": [],
   "source": [
    "nviz.plot_objects(nuclei_mesh)"
   ]
  },
  {
   "cell_type": "code",
   "execution_count": null,
   "metadata": {},
   "outputs": [],
   "source": [
    "soma_meshes = np.array(du.get_seg_extracted_somas(curr_seg_id))\n",
    "soma_meshes"
   ]
  },
  {
   "cell_type": "code",
   "execution_count": null,
   "metadata": {},
   "outputs": [],
   "source": [
    "nviz.plot_objects(meshes=soma_meshes[3:4])"
   ]
  },
  {
   "cell_type": "code",
   "execution_count": null,
   "metadata": {},
   "outputs": [],
   "source": [
    "minnie.NeuronGliaNuclei()"
   ]
  },
  {
   "cell_type": "code",
   "execution_count": null,
   "metadata": {},
   "outputs": [],
   "source": [
    "minnie.BaylorSegmentCentroid()"
   ]
  },
  {
   "cell_type": "code",
   "execution_count": null,
   "metadata": {},
   "outputs": [],
   "source": [
    "minnie.BaylorSegmentCentroid"
   ]
  },
  {
   "cell_type": "code",
   "execution_count": null,
   "metadata": {},
   "outputs": [],
   "source": [
    "minnie.NeuronGliaNuclei()"
   ]
  },
  {
   "cell_type": "code",
   "execution_count": null,
   "metadata": {},
   "outputs": [],
   "source": [
    "from importlib import reload\n",
    "du = reload(du)"
   ]
  },
  {
   "cell_type": "code",
   "execution_count": null,
   "metadata": {},
   "outputs": [],
   "source": [
    "du.plot_decimated_mesh_with_somas(864691135012398582)"
   ]
  },
  {
   "cell_type": "markdown",
   "metadata": {},
   "source": [
    "# Saving off the nuclei and glia information"
   ]
  },
  {
   "cell_type": "code",
   "execution_count": null,
   "metadata": {},
   "outputs": [],
   "source": [
    "glia_nuclei_info = minnie.NeuronGliaNuclei.fetch(as_dict=True)"
   ]
  },
  {
   "cell_type": "code",
   "execution_count": null,
   "metadata": {},
   "outputs": [],
   "source": [
    "glia_nuclei_info"
   ]
  },
  {
   "cell_type": "code",
   "execution_count": null,
   "metadata": {},
   "outputs": [],
   "source": [
    "du.save_glia_nuclei_files?"
   ]
  },
  {
   "cell_type": "code",
   "execution_count": null,
   "metadata": {},
   "outputs": [],
   "source": [
    "# Now do the table insert\n",
    "import copy\n",
    "import datajoint_utils as du\n",
    "keys_to_insert = []\n",
    "for k in glia_nuclei_info:\n",
    "    g_path, n_path = du.save_glia_nuclei_files(k[\"glia_faces\"],\n",
    "                             k[\"nuclei_faces\"],\n",
    "                             k[\"segment_id\"])\n",
    "    new_key = copy.deepcopy(k)\n",
    "    new_key[\"glia_faces\"] = g_path\n",
    "    new_key[\"nuclei_faces\"] = n_path\n",
    "    keys_to_insert.append(new_key)\n",
    "    "
   ]
  },
  {
   "cell_type": "code",
   "execution_count": null,
   "metadata": {},
   "outputs": [],
   "source": [
    "#so that it will have the adapter defined\n",
    "from datajoint_utils import *\n",
    "\n",
    "minnie.NeuronGliaNuclei.insert(keys_to_insert)"
   ]
  },
  {
   "cell_type": "code",
   "execution_count": null,
   "metadata": {},
   "outputs": [],
   "source": [
    "minnie.NeuronGliaNuclei()"
   ]
  },
  {
   "cell_type": "markdown",
   "metadata": {},
   "source": [
    "# Saving off the Decomposition Table"
   ]
  },
  {
   "cell_type": "code",
   "execution_count": null,
   "metadata": {},
   "outputs": [],
   "source": [
    "col_to_keep = [\"n_vertices\",           \n",
    "\"n_faces\",              \n",
    "\"n_error_limbs\",        \n",
    "\"n_same_soma_multi_touching_limbs\",\n",
    "\"n_multi_soma_touching_limbs\",\n",
    "\"n_somas\",\n",
    "\"n_limbs\",\n",
    "\"n_branches\",\n",
    "\"max_limb_n_branches\",\n",
    "\"skeletal_length\",\n",
    "\"max_limb_skeletal_length\",\n",
    "\"median_branch_length\",\n",
    "\"width_median\",\n",
    "\"width_no_spine_median\",\n",
    "\"width_90_perc\",\n",
    "\"width_no_spine_90_perc\",\n",
    "\"n_spines\",\n",
    "\"spine_density\",\n",
    "\"spines_per_branch\",\n",
    "\"skeletal_length_eligible\",\n",
    "\"n_spine_eligible_branches\",\n",
    "\"spine_density_eligible\",\n",
    "\"spines_per_branch_eligible\",\n",
    "\"total_spine_volume\",\n",
    "\"spine_volume_median\",\n",
    "\"spine_volume_density\",\n",
    "\"spine_volume_density_eligible\",\n",
    "\"spine_volume_per_branch_eligible\",\n",
    "\"run_time\"]"
   ]
  },
  {
   "cell_type": "code",
   "execution_count": null,
   "metadata": {},
   "outputs": [],
   "source": [
    "decomp_saved_data = minnie.Decomposition.proj(*col_to_keep).fetch(as_dict=True)\n",
    "decomp_saved_data"
   ]
  },
  {
   "cell_type": "code",
   "execution_count": null,
   "metadata": {},
   "outputs": [],
   "source": [
    "new_data_frame"
   ]
  },
  {
   "cell_type": "code",
   "execution_count": null,
   "metadata": {},
   "outputs": [],
   "source": [
    "new_data_frame = pd.DataFrame.from_dict(decomp_saved_data)\n",
    "su.compressed_pickle(new_data_frame,\"Decomposition_saved_1_11\")"
   ]
  },
  {
   "cell_type": "markdown",
   "metadata": {},
   "source": [
    "# Inspecting Decomposition"
   ]
  },
  {
   "cell_type": "code",
   "execution_count": null,
   "metadata": {},
   "outputs": [],
   "source": [
    "curr_table = (schema.jobs & \"table_name='__decomposition'\") & \"status='error'\"#.delete()\n",
    "curr_table"
   ]
  },
  {
   "cell_type": "code",
   "execution_count": null,
   "metadata": {},
   "outputs": [],
   "source": [
    "(minnie.NeuronGliaNuclei() & \"n_glia_faces>0\").proj()"
   ]
  },
  {
   "cell_type": "code",
   "execution_count": null,
   "metadata": {},
   "outputs": [],
   "source": [
    "minnie.Decomposition() #& (minnie.NeuronGliaNuclei() & \"n_glia_faces>0\").proj()"
   ]
  },
  {
   "cell_type": "code",
   "execution_count": null,
   "metadata": {},
   "outputs": [],
   "source": [
    "segment_id = 864691135065018692"
   ]
  },
  {
   "cell_type": "code",
   "execution_count": null,
   "metadata": {},
   "outputs": [],
   "source": [
    "neuron_obj = (minnie.Decomposition & dict(segment_id=segment_id)).fetch1(\"decomposition\")\n",
    "\n",
    "nviz.visualize_neuron(neuron_obj,\n",
    "                      visualize_type=[\"mesh\",\"skeleton\"],\n",
    "                     limb_branch_dict=\"all\")"
   ]
  },
  {
   "cell_type": "code",
   "execution_count": null,
   "metadata": {},
   "outputs": [],
   "source": []
  },
  {
   "cell_type": "markdown",
   "metadata": {},
   "source": [
    "# Inspecting Decomposition Split"
   ]
  },
  {
   "cell_type": "code",
   "execution_count": 6,
   "metadata": {},
   "outputs": [],
   "source": [
    "import numpy as np"
   ]
  },
  {
   "cell_type": "code",
   "execution_count": 10,
   "metadata": {},
   "outputs": [
    {
     "name": "stdout",
     "output_type": "stream",
     "text": [
      "49 : \n",
      "107 : Exception: after loop in directed concept graph, not all nodes have incoming edges (except starter node)\n",
      "39 : IndexError: list index out of range\n",
      "29 : IndexError: only integers, slices (`:`), ellipsis (`...`), numpy.newaxis (`None`) and integer or boolean arrays are valid indices\n",
      "33 : SystemExit: SIGTERM received\n"
     ]
    }
   ],
   "source": [
    "err_table = (schema.jobs & \"table_name='__decomposition_split'\")\n",
    "err_messages = (err_table).fetch(\"error_message\")\n",
    "unique_errors,unique_counts = np.unique(err_messages,return_counts=True)\n",
    "high_frequency_errors = np.where(unique_counts>20)[0]\n",
    "\n",
    "for h_e in high_frequency_errors:\n",
    "    print(f\"{unique_counts[h_e]} : {unique_errors[h_e]}\")"
   ]
  },
  {
   "cell_type": "code",
   "execution_count": 11,
   "metadata": {},
   "outputs": [
    {
     "name": "stdout",
     "output_type": "stream",
     "text": [
      "Found 107 matching entries with substring after loop in directed concept graph, not all nodes have incoming edges\n"
     ]
    },
    {
     "data": {
      "text/html": [
       "\n",
       "        \n",
       "        <style type=\"text/css\">\n",
       "            .Relation{\n",
       "                border-collapse:collapse;\n",
       "            }\n",
       "            .Relation th{\n",
       "                background: #A0A0A0; color: #ffffff; padding:4px; border:#f0e0e0 1px solid;\n",
       "                font-weight: normal; font-family: monospace; font-size: 100%;\n",
       "            }\n",
       "            .Relation td{\n",
       "                padding:4px; border:#f0e0e0 1px solid; font-size:100%;\n",
       "            }\n",
       "            .Relation tr:nth-child(odd){\n",
       "                background: #ffffff;\n",
       "            }\n",
       "            .Relation tr:nth-child(even){\n",
       "                background: #f3f1ff;\n",
       "            }\n",
       "            /* Tooltip container */\n",
       "            .djtooltip {\n",
       "            }\n",
       "            /* Tooltip text */\n",
       "            .djtooltip .djtooltiptext {\n",
       "                visibility: hidden;\n",
       "                width: 120px;\n",
       "                background-color: black;\n",
       "                color: #fff;\n",
       "                text-align: center;\n",
       "                padding: 5px 0;\n",
       "                border-radius: 6px;\n",
       "                /* Position the tooltip text - see examples below! */\n",
       "                position: absolute;\n",
       "                z-index: 1;\n",
       "            }\n",
       "            #primary {\n",
       "                font-weight: bold;\n",
       "                color: black;\n",
       "            }\n",
       "\n",
       "            #nonprimary {\n",
       "                font-weight: normal;\n",
       "                color: white;\n",
       "            }\n",
       "\n",
       "            /* Show the tooltip text when you mouse over the tooltip container */\n",
       "            .djtooltip:hover .djtooltiptext {\n",
       "                visibility: visible;\n",
       "            }\n",
       "        </style>\n",
       "        \n",
       "        <b>job reservation table for `microns_minnie65_02`</b>\n",
       "            <div style=\"max-height:1000px;max-width:1500px;overflow:auto;\">\n",
       "            <table border=\"1\" class=\"Relation\">\n",
       "                <thead> <tr style=\"text-align: right;\"> <th> <div class=\"djtooltip\">\n",
       "                                <p id=\"primary\">table_name</p>\n",
       "                                <span class=\"djtooltiptext\">className of the table</span>\n",
       "                            </div></th><th><div class=\"djtooltip\">\n",
       "                                <p id=\"primary\">key_hash</p>\n",
       "                                <span class=\"djtooltiptext\">key hash</span>\n",
       "                            </div></th><th><div class=\"djtooltip\">\n",
       "                                <p id=\"nonprimary\">status</p>\n",
       "                                <span class=\"djtooltiptext\">if tuple is missing, the job is available</span>\n",
       "                            </div></th><th><div class=\"djtooltip\">\n",
       "                                <p id=\"nonprimary\">key</p>\n",
       "                                <span class=\"djtooltiptext\">structure containing the key</span>\n",
       "                            </div></th><th><div class=\"djtooltip\">\n",
       "                                <p id=\"nonprimary\">error_message</p>\n",
       "                                <span class=\"djtooltiptext\">error message returned if failed</span>\n",
       "                            </div></th><th><div class=\"djtooltip\">\n",
       "                                <p id=\"nonprimary\">error_stack</p>\n",
       "                                <span class=\"djtooltiptext\">error stack if failed</span>\n",
       "                            </div></th><th><div class=\"djtooltip\">\n",
       "                                <p id=\"nonprimary\">user</p>\n",
       "                                <span class=\"djtooltiptext\">database user</span>\n",
       "                            </div></th><th><div class=\"djtooltip\">\n",
       "                                <p id=\"nonprimary\">host</p>\n",
       "                                <span class=\"djtooltiptext\">system hostname</span>\n",
       "                            </div></th><th><div class=\"djtooltip\">\n",
       "                                <p id=\"nonprimary\">pid</p>\n",
       "                                <span class=\"djtooltiptext\">system process id</span>\n",
       "                            </div></th><th><div class=\"djtooltip\">\n",
       "                                <p id=\"nonprimary\">connection_id</p>\n",
       "                                <span class=\"djtooltiptext\">connection_id()</span>\n",
       "                            </div></th><th><div class=\"djtooltip\">\n",
       "                                <p id=\"nonprimary\">timestamp</p>\n",
       "                                <span class=\"djtooltiptext\">automatic timestamp</span>\n",
       "                            </div> </th> </tr> </thead>\n",
       "                <tbody> <tr> <td>__decomposition_split</td>\n",
       "<td>01c74daca008117152a53ca441a71306</td>\n",
       "<td>error</td>\n",
       "<td>=BLOB=</td>\n",
       "<td>Exception: after loop in directed concept graph, not all nodes have incoming edges (except starter node)</td>\n",
       "<td>=BLOB=</td>\n",
       "<td>celiib@10.28.0.144</td>\n",
       "<td>at-node17</td>\n",
       "<td>1</td>\n",
       "<td>112052</td>\n",
       "<td>2021-02-03 07:01:44</td></tr><tr><td>__decomposition_split</td>\n",
       "<td>03333b84aebe25314db2b2eef70f6e2e</td>\n",
       "<td>error</td>\n",
       "<td>=BLOB=</td>\n",
       "<td>Exception: after loop in directed concept graph, not all nodes have incoming edges (except starter node)</td>\n",
       "<td>=BLOB=</td>\n",
       "<td>celiib@10.28.0.147</td>\n",
       "<td>at-node20</td>\n",
       "<td>1</td>\n",
       "<td>112086</td>\n",
       "<td>2021-02-03 04:15:53</td></tr><tr><td>__decomposition_split</td>\n",
       "<td>0526605b148dd5629d420781702b32f7</td>\n",
       "<td>error</td>\n",
       "<td>=BLOB=</td>\n",
       "<td>Exception: after loop in directed concept graph, not all nodes have incoming edges (except starter node)</td>\n",
       "<td>=BLOB=</td>\n",
       "<td>celiib@10.28.0.81</td>\n",
       "<td>at-compute003</td>\n",
       "<td>1</td>\n",
       "<td>112252</td>\n",
       "<td>2021-02-03 04:59:41</td></tr><tr><td>__decomposition_split</td>\n",
       "<td>08d49c4fcbe70799ca7104b2f3b9f93f</td>\n",
       "<td>error</td>\n",
       "<td>=BLOB=</td>\n",
       "<td>Exception: after loop in directed concept graph, not all nodes have incoming edges (except starter node)</td>\n",
       "<td>=BLOB=</td>\n",
       "<td>celiib@10.28.0.132</td>\n",
       "<td>at-node5</td>\n",
       "<td>1</td>\n",
       "<td>112053</td>\n",
       "<td>2021-02-03 03:59:45</td></tr><tr><td>__decomposition_split</td>\n",
       "<td>0b955490bff8a69e1f3b40c1402b9357</td>\n",
       "<td>error</td>\n",
       "<td>=BLOB=</td>\n",
       "<td>Exception: after loop in directed concept graph, not all nodes have incoming edges (except starter node)</td>\n",
       "<td>=BLOB=</td>\n",
       "<td>celiib@10.28.0.132</td>\n",
       "<td>at-node5</td>\n",
       "<td>1</td>\n",
       "<td>111972</td>\n",
       "<td>2021-02-03 10:40:31</td></tr><tr><td>__decomposition_split</td>\n",
       "<td>11a0e7e03b3c2160733025bf29245e40</td>\n",
       "<td>error</td>\n",
       "<td>=BLOB=</td>\n",
       "<td>Exception: after loop in directed concept graph, not all nodes have incoming edges (except starter node)</td>\n",
       "<td>=BLOB=</td>\n",
       "<td>celiib@10.28.0.139</td>\n",
       "<td>at-node12</td>\n",
       "<td>1</td>\n",
       "<td>112011</td>\n",
       "<td>2021-02-03 04:47:39</td></tr><tr><td>__decomposition_split</td>\n",
       "<td>14849e726edfcf115a1bc4401202b602</td>\n",
       "<td>error</td>\n",
       "<td>=BLOB=</td>\n",
       "<td>Exception: after loop in directed concept graph, not all nodes have incoming edges (except starter node)</td>\n",
       "<td>=BLOB=</td>\n",
       "<td>celiib@10.28.0.81</td>\n",
       "<td>at-compute003</td>\n",
       "<td>1</td>\n",
       "<td>112253</td>\n",
       "<td>2021-02-03 05:57:46</td></tr><tr><td>__decomposition_split</td>\n",
       "<td>1825c76d0b45d1c0c26a20201d6871a9</td>\n",
       "<td>error</td>\n",
       "<td>=BLOB=</td>\n",
       "<td>Exception: after loop in directed concept graph, not all nodes have incoming edges (except starter node)</td>\n",
       "<td>=BLOB=</td>\n",
       "<td>celiib@10.66.4.64</td>\n",
       "<td>jr-compute001</td>\n",
       "<td>1</td>\n",
       "<td>112207</td>\n",
       "<td>2021-02-03 04:39:58</td></tr><tr><td>__decomposition_split</td>\n",
       "<td>187a97d705efcfb407d4d9a1adcc24a5</td>\n",
       "<td>error</td>\n",
       "<td>=BLOB=</td>\n",
       "<td>Exception: after loop in directed concept graph, not all nodes have incoming edges (except starter node)</td>\n",
       "<td>=BLOB=</td>\n",
       "<td>celiib@10.28.0.154</td>\n",
       "<td>at-node27</td>\n",
       "<td>1</td>\n",
       "<td>112953</td>\n",
       "<td>2021-02-03 15:01:00</td></tr><tr><td>__decomposition_split</td>\n",
       "<td>1bf5bbaa622f3200d1ac808f69c31e7c</td>\n",
       "<td>error</td>\n",
       "<td>=BLOB=</td>\n",
       "<td>Exception: after loop in directed concept graph, not all nodes have incoming edges (except starter node)</td>\n",
       "<td>=BLOB=</td>\n",
       "<td>celiib@10.28.0.160</td>\n",
       "<td>at-node33</td>\n",
       "<td>1</td>\n",
       "<td>112076</td>\n",
       "<td>2021-02-03 06:58:57</td></tr><tr><td>__decomposition_split</td>\n",
       "<td>1c29367bc7ec46b75c24a1012fb1245a</td>\n",
       "<td>error</td>\n",
       "<td>=BLOB=</td>\n",
       "<td>Exception: after loop in directed concept graph, not all nodes have incoming edges (except starter node)</td>\n",
       "<td>=BLOB=</td>\n",
       "<td>celiib@10.28.0.130</td>\n",
       "<td>at-node3</td>\n",
       "<td>1</td>\n",
       "<td>111963</td>\n",
       "<td>2021-02-03 04:42:04</td></tr><tr><td>__decomposition_split</td>\n",
       "<td>1e4359acd1cebf4e16c6ec1b9ac4367d</td>\n",
       "<td>error</td>\n",
       "<td>=BLOB=</td>\n",
       "<td>Exception: after loop in directed concept graph, not all nodes have incoming edges (except starter node)</td>\n",
       "<td>=BLOB=</td>\n",
       "<td>celiib@10.66.4.64</td>\n",
       "<td>jr-compute001</td>\n",
       "<td>1</td>\n",
       "<td>112199</td>\n",
       "<td>2021-02-03 11:15:25</td> </tr> </tbody>\n",
       "            </table>\n",
       "            <p>...</p>\n",
       "            <p>Total: 107</p></div>\n",
       "            "
      ],
      "text/plain": [
       "*table_name    *key_hash      status     key        error_message  error_stac user           host           pid     connection_id  timestamp     \n",
       "+------------+ +------------+ +--------+ +--------+ +------------+ +--------+ +------------+ +------------+ +-----+ +------------+ +------------+\n",
       "__decompositio 01c74daca00811 error      =BLOB=     Exception: aft =BLOB=     celiib@10.28.0 at-node17      1       112052         2021-02-03 07:\n",
       "__decompositio 03333b84aebe25 error      =BLOB=     Exception: aft =BLOB=     celiib@10.28.0 at-node20      1       112086         2021-02-03 04:\n",
       "__decompositio 0526605b148dd5 error      =BLOB=     Exception: aft =BLOB=     celiib@10.28.0 at-compute003  1       112252         2021-02-03 04:\n",
       "__decompositio 08d49c4fcbe707 error      =BLOB=     Exception: aft =BLOB=     celiib@10.28.0 at-node5       1       112053         2021-02-03 03:\n",
       "__decompositio 0b955490bff8a6 error      =BLOB=     Exception: aft =BLOB=     celiib@10.28.0 at-node5       1       111972         2021-02-03 10:\n",
       "__decompositio 11a0e7e03b3c21 error      =BLOB=     Exception: aft =BLOB=     celiib@10.28.0 at-node12      1       112011         2021-02-03 04:\n",
       "__decompositio 14849e726edfcf error      =BLOB=     Exception: aft =BLOB=     celiib@10.28.0 at-compute003  1       112253         2021-02-03 05:\n",
       "__decompositio 1825c76d0b45d1 error      =BLOB=     Exception: aft =BLOB=     celiib@10.66.4 jr-compute001  1       112207         2021-02-03 04:\n",
       "__decompositio 187a97d705efcf error      =BLOB=     Exception: aft =BLOB=     celiib@10.28.0 at-node27      1       112953         2021-02-03 15:\n",
       "__decompositio 1bf5bbaa622f32 error      =BLOB=     Exception: aft =BLOB=     celiib@10.28.0 at-node33      1       112076         2021-02-03 06:\n",
       "__decompositio 1c29367bc7ec46 error      =BLOB=     Exception: aft =BLOB=     celiib@10.28.0 at-node3       1       111963         2021-02-03 04:\n",
       "__decompositio 1e4359acd1cebf error      =BLOB=     Exception: aft =BLOB=     celiib@10.66.4 jr-compute001  1       112199         2021-02-03 11:\n",
       "   ...\n",
       " (Total: 107)"
      ]
     },
     "execution_count": 11,
     "metadata": {},
     "output_type": "execute_result"
    }
   ],
   "source": [
    "du.restrict_jobs_table_by_error_substring(err_table,\n",
    "                                         message_in_error=\"after loop in directed concept graph, not all nodes have incoming edges\")"
   ]
  },
  {
   "cell_type": "code",
   "execution_count": 12,
   "metadata": {},
   "outputs": [
    {
     "data": {
      "text/html": [
       "\n",
       "        \n",
       "        <style type=\"text/css\">\n",
       "            .Relation{\n",
       "                border-collapse:collapse;\n",
       "            }\n",
       "            .Relation th{\n",
       "                background: #A0A0A0; color: #ffffff; padding:4px; border:#f0e0e0 1px solid;\n",
       "                font-weight: normal; font-family: monospace; font-size: 100%;\n",
       "            }\n",
       "            .Relation td{\n",
       "                padding:4px; border:#f0e0e0 1px solid; font-size:100%;\n",
       "            }\n",
       "            .Relation tr:nth-child(odd){\n",
       "                background: #ffffff;\n",
       "            }\n",
       "            .Relation tr:nth-child(even){\n",
       "                background: #f3f1ff;\n",
       "            }\n",
       "            /* Tooltip container */\n",
       "            .djtooltip {\n",
       "            }\n",
       "            /* Tooltip text */\n",
       "            .djtooltip .djtooltiptext {\n",
       "                visibility: hidden;\n",
       "                width: 120px;\n",
       "                background-color: black;\n",
       "                color: #fff;\n",
       "                text-align: center;\n",
       "                padding: 5px 0;\n",
       "                border-radius: 6px;\n",
       "                /* Position the tooltip text - see examples below! */\n",
       "                position: absolute;\n",
       "                z-index: 1;\n",
       "            }\n",
       "            #primary {\n",
       "                font-weight: bold;\n",
       "                color: black;\n",
       "            }\n",
       "\n",
       "            #nonprimary {\n",
       "                font-weight: normal;\n",
       "                color: white;\n",
       "            }\n",
       "\n",
       "            /* Show the tooltip text when you mouse over the tooltip container */\n",
       "            .djtooltip:hover .djtooltiptext {\n",
       "                visibility: visible;\n",
       "            }\n",
       "        </style>\n",
       "        \n",
       "        <b>job reservation table for `microns_minnie65_02`</b>\n",
       "            <div style=\"max-height:1000px;max-width:1500px;overflow:auto;\">\n",
       "            <table border=\"1\" class=\"Relation\">\n",
       "                <thead> <tr style=\"text-align: right;\"> <th> <div class=\"djtooltip\">\n",
       "                                <p id=\"primary\">table_name</p>\n",
       "                                <span class=\"djtooltiptext\">className of the table</span>\n",
       "                            </div></th><th><div class=\"djtooltip\">\n",
       "                                <p id=\"primary\">key_hash</p>\n",
       "                                <span class=\"djtooltiptext\">key hash</span>\n",
       "                            </div></th><th><div class=\"djtooltip\">\n",
       "                                <p id=\"nonprimary\">status</p>\n",
       "                                <span class=\"djtooltiptext\">if tuple is missing, the job is available</span>\n",
       "                            </div></th><th><div class=\"djtooltip\">\n",
       "                                <p id=\"nonprimary\">key</p>\n",
       "                                <span class=\"djtooltiptext\">structure containing the key</span>\n",
       "                            </div></th><th><div class=\"djtooltip\">\n",
       "                                <p id=\"nonprimary\">error_message</p>\n",
       "                                <span class=\"djtooltiptext\">error message returned if failed</span>\n",
       "                            </div></th><th><div class=\"djtooltip\">\n",
       "                                <p id=\"nonprimary\">error_stack</p>\n",
       "                                <span class=\"djtooltiptext\">error stack if failed</span>\n",
       "                            </div></th><th><div class=\"djtooltip\">\n",
       "                                <p id=\"nonprimary\">user</p>\n",
       "                                <span class=\"djtooltiptext\">database user</span>\n",
       "                            </div></th><th><div class=\"djtooltip\">\n",
       "                                <p id=\"nonprimary\">host</p>\n",
       "                                <span class=\"djtooltiptext\">system hostname</span>\n",
       "                            </div></th><th><div class=\"djtooltip\">\n",
       "                                <p id=\"nonprimary\">pid</p>\n",
       "                                <span class=\"djtooltiptext\">system process id</span>\n",
       "                            </div></th><th><div class=\"djtooltip\">\n",
       "                                <p id=\"nonprimary\">connection_id</p>\n",
       "                                <span class=\"djtooltiptext\">connection_id()</span>\n",
       "                            </div></th><th><div class=\"djtooltip\">\n",
       "                                <p id=\"nonprimary\">timestamp</p>\n",
       "                                <span class=\"djtooltiptext\">automatic timestamp</span>\n",
       "                            </div> </th> </tr> </thead>\n",
       "                <tbody> <tr> <td>__decomposition_split</td>\n",
       "<td>187a97d705efcfb407d4d9a1adcc24a5</td>\n",
       "<td>error</td>\n",
       "<td>=BLOB=</td>\n",
       "<td>Exception: after loop in directed concept graph, not all nodes have incoming edges (except starter node)</td>\n",
       "<td>=BLOB=</td>\n",
       "<td>celiib@10.28.0.154</td>\n",
       "<td>at-node27</td>\n",
       "<td>1</td>\n",
       "<td>112953</td>\n",
       "<td>2021-02-03 15:01:00</td> </tr> </tbody>\n",
       "            </table>\n",
       "            \n",
       "            <p>Total: 1</p></div>\n",
       "            "
      ],
      "text/plain": [
       "*table_name    *key_hash      status     key        error_message  error_stac user           host          pid     connection_id  timestamp     \n",
       "+------------+ +------------+ +--------+ +--------+ +------------+ +--------+ +------------+ +-----------+ +-----+ +------------+ +------------+\n",
       "__decompositio 187a97d705efcf error      =BLOB=     Exception: aft =BLOB=     celiib@10.28.0 at-node27     1       112953         2021-02-03 15:\n",
       " (Total: 1)"
      ]
     },
     "execution_count": 12,
     "metadata": {},
     "output_type": "execute_result"
    }
   ],
   "source": [
    "specific_error = (err_table & \"key_hash='187a97d705efcfb407d4d9a1adcc24a5'\")\n",
    "specific_error"
   ]
  },
  {
   "cell_type": "code",
   "execution_count": 13,
   "metadata": {},
   "outputs": [
    {
     "name": "stdout",
     "output_type": "stream",
     "text": [
      "Traceback (most recent call last):\n",
      "  File \"/usr/local/lib/python3.6/dist-packages/datajoint/autopopulate.py\", line 159, in populate\n",
      "    make(dict(key))\n",
      "  File \"Run_6_DecompositionSplit.py\", line 252, in make\n",
      "    return_error_info=True\n",
      "  File \"/meshAfterParty/proofreading_utils.py\", line 1680, in split_neuron\n",
      "    nru.clean_neuron_all_concept_network_data(split_neuron_obj)\n",
      "  File \"/meshAfterParty/neuron_utils.py\", line 4111, in clean_neuron_all_concept_network_data\n",
      "    starting_node=st_node)\n",
      "  File \"/meshAfterParty/neuron.py\", line 870, in set_concept_network_directional\n",
      "    **kwargs)\n",
      "  File \"/meshAfterParty/neuron.py\", line 706, in convert_concept_network_to_directional\n",
      "    suppress_disconnected_errors =suppress_disconnected_errors)\n",
      "  File \"/meshAfterParty/neuron_utils.py\", line 597, in convert_concept_network_to_directional\n",
      "    raise Exception(\"after loop in directed concept graph, not all nodes have incoming edges (except starter node)\")\n",
      "Exception: after loop in directed concept graph, not all nodes have incoming edges (except starter node)\n",
      "\n"
     ]
    }
   ],
   "source": [
    "print(specific_error.fetch1(\"error_stack\"))"
   ]
  },
  {
   "cell_type": "code",
   "execution_count": 14,
   "metadata": {},
   "outputs": [
    {
     "name": "stdout",
     "output_type": "stream",
     "text": [
      "{'segment_id': 864691135883900016, 'decimation_version': 0, 'decimation_ratio': Decimal('0.25'), 'ver': Decimal('30.00'), 'process_version': 5, 'index': 0}\n"
     ]
    }
   ],
   "source": [
    "print(specific_error.fetch1(\"key\"))"
   ]
  },
  {
   "cell_type": "code",
   "execution_count": 16,
   "metadata": {},
   "outputs": [
    {
     "name": "stdout",
     "output_type": "stream",
     "text": [
      "Decompressing Neuron in minimal output mode...please wait\n"
     ]
    }
   ],
   "source": [
    "neur_obj = (minnie.Decomposition() & dict(segment_id=864691135883900016)).fetch1(\"decomposition\")"
   ]
  },
  {
   "cell_type": "code",
   "execution_count": 17,
   "metadata": {},
   "outputs": [],
   "source": [
    "specific_error.delete()"
   ]
  },
  {
   "cell_type": "code",
   "execution_count": null,
   "metadata": {},
   "outputs": [],
   "source": []
  },
  {
   "cell_type": "markdown",
   "metadata": {},
   "source": [
    "# Spine Recalculation"
   ]
  },
  {
   "cell_type": "code",
   "execution_count": null,
   "metadata": {},
   "outputs": [],
   "source": [
    "minnie.DecompositionSplit.describe()"
   ]
  },
  {
   "cell_type": "code",
   "execution_count": null,
   "metadata": {
    "scrolled": true
   },
   "outputs": [],
   "source": [
    "len(minnie.SpineRecalculation())"
   ]
  },
  {
   "cell_type": "code",
   "execution_count": null,
   "metadata": {},
   "outputs": [],
   "source": [
    "schema.jobs & \"table_name='__spine_recalculation'\""
   ]
  },
  {
   "cell_type": "code",
   "execution_count": null,
   "metadata": {},
   "outputs": [],
   "source": [
    "(schema.jobs & \"table_name='__spine_recalculation'\" & \"status='error'\")"
   ]
  },
  {
   "cell_type": "markdown",
   "metadata": {},
   "source": [
    "# Inspeting the Auto Proofreading"
   ]
  },
  {
   "cell_type": "code",
   "execution_count": 40,
   "metadata": {},
   "outputs": [
    {
     "data": {
      "text/plain": [
       "76696"
      ]
     },
     "execution_count": 40,
     "metadata": {},
     "output_type": "execute_result"
    }
   ],
   "source": [
    "len(minnie.AutoProofreadNeurons())"
   ]
  },
  {
   "cell_type": "code",
   "execution_count": 15,
   "metadata": {},
   "outputs": [],
   "source": [
    "import numpy as np"
   ]
  },
  {
   "cell_type": "code",
   "execution_count": 21,
   "metadata": {},
   "outputs": [
    {
     "data": {
      "text/plain": [
       "[1j, 3j, 2j]"
      ]
     },
     "execution_count": 21,
     "metadata": {},
     "output_type": "execute_result"
    }
   ],
   "source": [
    "[j,3*j,2*j]"
   ]
  },
  {
   "cell_type": "code",
   "execution_count": 24,
   "metadata": {},
   "outputs": [
    {
     "data": {
      "text/plain": [
       "array([0.+2.j, 0.+3.j, 0.+1.j])"
      ]
     },
     "execution_count": 24,
     "metadata": {},
     "output_type": "execute_result"
    }
   ],
   "source": [
    "np.flip([j,3*j,2*j])"
   ]
  },
  {
   "cell_type": "code",
   "execution_count": 25,
   "metadata": {
    "scrolled": false
   },
   "outputs": [],
   "source": [
    "j = np.complex(0,1)\n",
    "roots = np.roots(np.flip([j,3*j,2*j]))"
   ]
  },
  {
   "cell_type": "code",
   "execution_count": 26,
   "metadata": {},
   "outputs": [
    {
     "data": {
      "text/plain": [
       "array([1. , 1.5, 0.5])"
      ]
     },
     "execution_count": 26,
     "metadata": {},
     "output_type": "execute_result"
    }
   ],
   "source": [
    "np.poly(roots)"
   ]
  },
  {
   "cell_type": "code",
   "execution_count": null,
   "metadata": {},
   "outputs": [],
   "source": []
  },
  {
   "cell_type": "code",
   "execution_count": 32,
   "metadata": {},
   "outputs": [
    {
     "data": {
      "text/plain": [
       "3444"
      ]
     },
     "execution_count": 32,
     "metadata": {},
     "output_type": "execute_result"
    }
   ],
   "source": [
    "len(schema.jobs & \"table_name = '__auto_proofread_neurons'\" & \"status='error'\")#.delete()"
   ]
  },
  {
   "cell_type": "code",
   "execution_count": null,
   "metadata": {},
   "outputs": [],
   "source": [
    "curr_table = (schema.jobs & \"table_name = '__auto_proofread_neurons'\" & \"status='error'\")#.delete()\n",
    "curr_table_errors = du.restrict_jobs_table_by_error_substring(curr_table,\"skeletal_length\")"
   ]
  },
  {
   "cell_type": "code",
   "execution_count": null,
   "metadata": {},
   "outputs": [],
   "source": [
    "print((schema.jobs & \"table_name = '__auto_proofread_neurons'\" & 'key_hash=\"5f108f5f1ef6e72e98b8796389e124e2\"').fetch1(\"error_stack\"))"
   ]
  },
  {
   "cell_type": "code",
   "execution_count": null,
   "metadata": {},
   "outputs": [],
   "source": [
    "presyn_table = minnie.SynapseProofread & \"synapse_type='presyn'\"\n",
    "postsyn_table = minnie.SynapseProofread & \"synapse_type='postsyn'\""
   ]
  },
  {
   "cell_type": "code",
   "execution_count": null,
   "metadata": {},
   "outputs": [],
   "source": [
    "presyn_table_renamed = presyn_table.proj(presyn=\"segment_id\",\n",
    "                                         presyn_split_index = \"split_index\",\n",
    "                                         presyn_nucleus=\"nucleus_id\",\n",
    "                                         presyn_label=\"synapse_type\")\n",
    "\n",
    "postsyn_table_renamed = postsyn_table.proj(postsyn=\"segment_id\",\n",
    "                                           postsyn_split_index=\"split_inadex\",\n",
    "                                            postsyn_nucleus=\"nucleus_id\",\n",
    "                                           postsyn_label=\"synapse_type\")\n",
    "\n",
    "direct_conn_with_labels = presyn_table_renamed * postsyn_table_renamed\n",
    "direct_conn_with_labels"
   ]
  },
  {
   "cell_type": "code",
   "execution_count": null,
   "metadata": {},
   "outputs": [],
   "source": [
    "du.m65mat.NucleusSynapse.describe()"
   ]
  },
  {
   "cell_type": "code",
   "execution_count": null,
   "metadata": {},
   "outputs": [],
   "source": [
    "import datajoint as dj\n",
    "just_synapses_id_and_size = dj.U(\"synapse_id\",\"synapse_size\") & du.m65mat.NucleusSynapse.proj(\"synapse_size\")\n",
    "\n",
    "# want to get the synapse table as well\n",
    "direct_conn_with_labels_and_sizes = just_synapses_id_and_size * direct_conn_with_labels\n",
    "direct_conn_with_labels_and_sizes"
   ]
  },
  {
   "cell_type": "code",
   "execution_count": null,
   "metadata": {},
   "outputs": [],
   "source": []
  },
  {
   "cell_type": "code",
   "execution_count": null,
   "metadata": {},
   "outputs": [],
   "source": []
  },
  {
   "cell_type": "code",
   "execution_count": null,
   "metadata": {},
   "outputs": [],
   "source": []
  },
  {
   "cell_type": "code",
   "execution_count": null,
   "metadata": {},
   "outputs": [],
   "source": []
  },
  {
   "cell_type": "code",
   "execution_count": null,
   "metadata": {},
   "outputs": [],
   "source": [
    "synapse_direct_connections = du.m65mat.NucleusSynapse * direct_conn_with_labels\n",
    "synapse_direct_connections"
   ]
  },
  {
   "cell_type": "code",
   "execution_count": null,
   "metadata": {},
   "outputs": [],
   "source": []
  },
  {
   "cell_type": "code",
   "execution_count": null,
   "metadata": {},
   "outputs": [],
   "source": []
  },
  {
   "cell_type": "code",
   "execution_count": null,
   "metadata": {},
   "outputs": [],
   "source": [
    "minnie.AutoProofreadNeurons() & \"cell_type_predicted='excitatory'\" & \"spine_category='sparsely_spined'\" & \"n_branches>4\""
   ]
  },
  {
   "cell_type": "code",
   "execution_count": null,
   "metadata": {},
   "outputs": [],
   "source": [
    "minnie.AutoProofreadNeurons() & \"cell_type_predicted='inhibitory'\""
   ]
  },
  {
   "cell_type": "code",
   "execution_count": null,
   "metadata": {},
   "outputs": [],
   "source": []
  }
 ],
 "metadata": {
  "kernelspec": {
   "display_name": "Python 3",
   "language": "python",
   "name": "python3"
  },
  "language_info": {
   "codemirror_mode": {
    "name": "ipython",
    "version": 3
   },
   "file_extension": ".py",
   "mimetype": "text/x-python",
   "name": "python",
   "nbconvert_exporter": "python",
   "pygments_lexer": "ipython3",
   "version": "3.6.9"
  }
 },
 "nbformat": 4,
 "nbformat_minor": 4
}
