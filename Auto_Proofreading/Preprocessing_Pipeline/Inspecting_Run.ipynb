{
 "cells": [
  {
   "cell_type": "code",
   "execution_count": null,
   "metadata": {},
   "outputs": [],
   "source": [
    "%load_ext autoreload\n",
    "%autoreload 2"
   ]
  },
  {
   "cell_type": "code",
   "execution_count": 1,
   "metadata": {},
   "outputs": [],
   "source": [
    "from os import sys\n",
    "sys.path.append(\"/meshAfterParty/\")"
   ]
  },
  {
   "cell_type": "code",
   "execution_count": 2,
   "metadata": {},
   "outputs": [
    {
     "name": "stderr",
     "output_type": "stream",
     "text": [
      "INFO - 2021-01-14 04:49:00,606 - settings - Setting database.host to at-database.ad.bcm.edu\n",
      "INFO - 2021-01-14 04:49:00,607 - settings - Setting database.user to celiib\n",
      "INFO - 2021-01-14 04:49:00,608 - settings - Setting database.password to newceliipass\n",
      "INFO - 2021-01-14 04:49:00,700 - settings - Setting stores to {'minnie65': {'protocol': 'file', 'location': '/mnt/dj-stor01/platinum/minnie65', 'stage': '/mnt/dj-stor01/platinum/minnie65'}, 'meshes': {'protocol': 'file', 'location': '/mnt/dj-stor01/platinum/minnie65/02/meshes', 'stage': '/mnt/dj-stor01/platinum/minnie65/02/meshes'}, 'decimated_meshes': {'protocol': 'file', 'location': '/mnt/dj-stor01/platinum/minnie65/02/decimated_meshes', 'stage': '/mnt/dj-stor01/platinum/minnie65/02/decimated_meshes'}, 'skeletons': {'protocol': 'file', 'location': '/mnt/dj-stor01/platinum/minnie65/02/skeletons'}}\n",
      "INFO - 2021-01-14 04:49:00,701 - settings - Setting enable_python_native_blobs to True\n",
      "INFO - 2021-01-14 04:49:00,716 - connection - Connected celiib@at-database.ad.bcm.edu:3306\n"
     ]
    },
    {
     "name": "stdout",
     "output_type": "stream",
     "text": [
      "Connecting celiib@at-database.ad.bcm.edu:3306\n"
     ]
    },
    {
     "name": "stderr",
     "output_type": "stream",
     "text": [
      "INFO - 2021-01-14 04:49:01,021 - settings - Setting enable_python_native_blobs to True\n"
     ]
    }
   ],
   "source": [
    "import datajoint_utils as du\n",
    "import datajoint as dj"
   ]
  },
  {
   "cell_type": "code",
   "execution_count": 3,
   "metadata": {},
   "outputs": [
    {
     "name": "stderr",
     "output_type": "stream",
     "text": [
      "INFO - 2021-01-14 04:49:03,240 - settings - Setting enable_python_native_blobs to True\n",
      "INFO - 2021-01-14 04:49:03,546 - settings - Setting enable_python_native_blobs to True\n"
     ]
    }
   ],
   "source": [
    "minnie,schema = du.configure_minnie_vm()"
   ]
  },
  {
   "cell_type": "markdown",
   "metadata": {},
   "source": [
    "# Inspecting Deimation"
   ]
  },
  {
   "cell_type": "code",
   "execution_count": 17,
   "metadata": {},
   "outputs": [
    {
     "data": {
      "text/html": [
       "\n",
       "        \n",
       "        <style type=\"text/css\">\n",
       "            .Relation{\n",
       "                border-collapse:collapse;\n",
       "            }\n",
       "            .Relation th{\n",
       "                background: #A0A0A0; color: #ffffff; padding:4px; border:#f0e0e0 1px solid;\n",
       "                font-weight: normal; font-family: monospace; font-size: 100%;\n",
       "            }\n",
       "            .Relation td{\n",
       "                padding:4px; border:#f0e0e0 1px solid; font-size:100%;\n",
       "            }\n",
       "            .Relation tr:nth-child(odd){\n",
       "                background: #ffffff;\n",
       "            }\n",
       "            .Relation tr:nth-child(even){\n",
       "                background: #f3f1ff;\n",
       "            }\n",
       "            /* Tooltip container */\n",
       "            .djtooltip {\n",
       "            }\n",
       "            /* Tooltip text */\n",
       "            .djtooltip .djtooltiptext {\n",
       "                visibility: hidden;\n",
       "                width: 120px;\n",
       "                background-color: black;\n",
       "                color: #fff;\n",
       "                text-align: center;\n",
       "                padding: 5px 0;\n",
       "                border-radius: 6px;\n",
       "                /* Position the tooltip text - see examples below! */\n",
       "                position: absolute;\n",
       "                z-index: 1;\n",
       "            }\n",
       "            #primary {\n",
       "                font-weight: bold;\n",
       "                color: black;\n",
       "            }\n",
       "\n",
       "            #nonprimary {\n",
       "                font-weight: normal;\n",
       "                color: white;\n",
       "            }\n",
       "\n",
       "            /* Show the tooltip text when you mouse over the tooltip container */\n",
       "            .djtooltip:hover .djtooltiptext {\n",
       "                visibility: visible;\n",
       "            }\n",
       "        </style>\n",
       "        \n",
       "        <b>Decimated meshes</b>\n",
       "            <div style=\"max-height:1000px;max-width:1500px;overflow:auto;\">\n",
       "            <table border=\"1\" class=\"Relation\">\n",
       "                <thead> <tr style=\"text-align: right;\"> <th> <div class=\"djtooltip\">\n",
       "                                <p id=\"primary\">segment_id</p>\n",
       "                                <span class=\"djtooltiptext\">segment id unique within each Segmentation</span>\n",
       "                            </div></th><th><div class=\"djtooltip\">\n",
       "                                <p id=\"primary\">version</p>\n",
       "                                <span class=\"djtooltiptext\"></span>\n",
       "                            </div></th><th><div class=\"djtooltip\">\n",
       "                                <p id=\"primary\">decimation_ratio</p>\n",
       "                                <span class=\"djtooltiptext\">ratio of remaining mesh vertices/faces (which ones depends on what metric the decimation technique uses)</span>\n",
       "                            </div></th><th><div class=\"djtooltip\">\n",
       "                                <p id=\"nonprimary\">n_vertices</p>\n",
       "                                <span class=\"djtooltiptext\"></span>\n",
       "                            </div></th><th><div class=\"djtooltip\">\n",
       "                                <p id=\"nonprimary\">n_faces</p>\n",
       "                                <span class=\"djtooltiptext\"></span>\n",
       "                            </div></th><th><div class=\"djtooltip\">\n",
       "                                <p id=\"nonprimary\">mesh</p>\n",
       "                                <span class=\"djtooltiptext\">in-place path to the hdf5 (decimated) mesh file</span>\n",
       "                            </div> </th> </tr> </thead>\n",
       "                <tbody> <tr> <td>864691135654122946</td>\n",
       "<td>0</td>\n",
       "<td>0.25</td>\n",
       "<td>1829353</td>\n",
       "<td>3693265</td>\n",
       "<td>=BLOB=</td> </tr> </tbody>\n",
       "            </table>\n",
       "            \n",
       "            <p>Total: 1</p></div>\n",
       "            "
      ],
      "text/plain": [
       "*segment_id    *version    *decimation_ra n_vertices     n_faces     mesh      \n",
       "+------------+ +---------+ +------------+ +------------+ +---------+ +--------+\n",
       "86469113565412 0           0.25           1829353        3693265     =BLOB=    \n",
       " (Total: 1)"
      ]
     },
     "execution_count": 17,
     "metadata": {},
     "output_type": "execute_result"
    }
   ],
   "source": [
    "\n",
    "\"\"\"864691135654122946\n",
    "864691135583731320\"\"\"\n",
    "\n",
    "minnie.Decimation() & dict(segment_id=864691135654122946)"
   ]
  },
  {
   "cell_type": "code",
   "execution_count": 18,
   "metadata": {},
   "outputs": [
    {
     "data": {
      "text/html": [
       "\n",
       "        \n",
       "        <style type=\"text/css\">\n",
       "            .Relation{\n",
       "                border-collapse:collapse;\n",
       "            }\n",
       "            .Relation th{\n",
       "                background: #A0A0A0; color: #ffffff; padding:4px; border:#f0e0e0 1px solid;\n",
       "                font-weight: normal; font-family: monospace; font-size: 100%;\n",
       "            }\n",
       "            .Relation td{\n",
       "                padding:4px; border:#f0e0e0 1px solid; font-size:100%;\n",
       "            }\n",
       "            .Relation tr:nth-child(odd){\n",
       "                background: #ffffff;\n",
       "            }\n",
       "            .Relation tr:nth-child(even){\n",
       "                background: #f3f1ff;\n",
       "            }\n",
       "            /* Tooltip container */\n",
       "            .djtooltip {\n",
       "            }\n",
       "            /* Tooltip text */\n",
       "            .djtooltip .djtooltiptext {\n",
       "                visibility: hidden;\n",
       "                width: 120px;\n",
       "                background-color: black;\n",
       "                color: #fff;\n",
       "                text-align: center;\n",
       "                padding: 5px 0;\n",
       "                border-radius: 6px;\n",
       "                /* Position the tooltip text - see examples below! */\n",
       "                position: absolute;\n",
       "                z-index: 1;\n",
       "            }\n",
       "            #primary {\n",
       "                font-weight: bold;\n",
       "                color: black;\n",
       "            }\n",
       "\n",
       "            #nonprimary {\n",
       "                font-weight: normal;\n",
       "                color: white;\n",
       "            }\n",
       "\n",
       "            /* Show the tooltip text when you mouse over the tooltip container */\n",
       "            .djtooltip:hover .djtooltiptext {\n",
       "                visibility: visible;\n",
       "            }\n",
       "        </style>\n",
       "        \n",
       "        <b>Decimated meshes</b>\n",
       "            <div style=\"max-height:1000px;max-width:1500px;overflow:auto;\">\n",
       "            <table border=\"1\" class=\"Relation\">\n",
       "                <thead> <tr style=\"text-align: right;\"> <th> <div class=\"djtooltip\">\n",
       "                                <p id=\"primary\">segment_id</p>\n",
       "                                <span class=\"djtooltiptext\">segment id unique within each Segmentation</span>\n",
       "                            </div></th><th><div class=\"djtooltip\">\n",
       "                                <p id=\"primary\">version</p>\n",
       "                                <span class=\"djtooltiptext\"></span>\n",
       "                            </div></th><th><div class=\"djtooltip\">\n",
       "                                <p id=\"primary\">decimation_ratio</p>\n",
       "                                <span class=\"djtooltiptext\">ratio of remaining mesh vertices/faces (which ones depends on what metric the decimation technique uses)</span>\n",
       "                            </div></th><th><div class=\"djtooltip\">\n",
       "                                <p id=\"nonprimary\">n_vertices</p>\n",
       "                                <span class=\"djtooltiptext\"></span>\n",
       "                            </div></th><th><div class=\"djtooltip\">\n",
       "                                <p id=\"nonprimary\">n_faces</p>\n",
       "                                <span class=\"djtooltiptext\"></span>\n",
       "                            </div></th><th><div class=\"djtooltip\">\n",
       "                                <p id=\"nonprimary\">mesh</p>\n",
       "                                <span class=\"djtooltiptext\">in-place path to the hdf5 (decimated) mesh file</span>\n",
       "                            </div> </th> </tr> </thead>\n",
       "                <tbody> <tr> <td>864691135583731320</td>\n",
       "<td>0</td>\n",
       "<td>0.25</td>\n",
       "<td>2710109</td>\n",
       "<td>5474056</td>\n",
       "<td>=BLOB=</td> </tr> </tbody>\n",
       "            </table>\n",
       "            \n",
       "            <p>Total: 1</p></div>\n",
       "            "
      ],
      "text/plain": [
       "*segment_id    *version    *decimation_ra n_vertices     n_faces     mesh      \n",
       "+------------+ +---------+ +------------+ +------------+ +---------+ +--------+\n",
       "86469113558373 0           0.25           2710109        5474056     =BLOB=    \n",
       " (Total: 1)"
      ]
     },
     "execution_count": 18,
     "metadata": {},
     "output_type": "execute_result"
    }
   ],
   "source": [
    "minnie.Decimation() & dict(segment_id=864691135583731320)"
   ]
  },
  {
   "cell_type": "code",
   "execution_count": 19,
   "metadata": {},
   "outputs": [
    {
     "data": {
      "text/html": [
       "\n",
       "        \n",
       "        <style type=\"text/css\">\n",
       "            .Relation{\n",
       "                border-collapse:collapse;\n",
       "            }\n",
       "            .Relation th{\n",
       "                background: #A0A0A0; color: #ffffff; padding:4px; border:#f0e0e0 1px solid;\n",
       "                font-weight: normal; font-family: monospace; font-size: 100%;\n",
       "            }\n",
       "            .Relation td{\n",
       "                padding:4px; border:#f0e0e0 1px solid; font-size:100%;\n",
       "            }\n",
       "            .Relation tr:nth-child(odd){\n",
       "                background: #ffffff;\n",
       "            }\n",
       "            .Relation tr:nth-child(even){\n",
       "                background: #f3f1ff;\n",
       "            }\n",
       "            /* Tooltip container */\n",
       "            .djtooltip {\n",
       "            }\n",
       "            /* Tooltip text */\n",
       "            .djtooltip .djtooltiptext {\n",
       "                visibility: hidden;\n",
       "                width: 120px;\n",
       "                background-color: black;\n",
       "                color: #fff;\n",
       "                text-align: center;\n",
       "                padding: 5px 0;\n",
       "                border-radius: 6px;\n",
       "                /* Position the tooltip text - see examples below! */\n",
       "                position: absolute;\n",
       "                z-index: 1;\n",
       "            }\n",
       "            #primary {\n",
       "                font-weight: bold;\n",
       "                color: black;\n",
       "            }\n",
       "\n",
       "            #nonprimary {\n",
       "                font-weight: normal;\n",
       "                color: white;\n",
       "            }\n",
       "\n",
       "            /* Show the tooltip text when you mouse over the tooltip container */\n",
       "            .djtooltip:hover .djtooltiptext {\n",
       "                visibility: visible;\n",
       "            }\n",
       "        </style>\n",
       "        \n",
       "        <b>Decimated meshes</b>\n",
       "            <div style=\"max-height:1000px;max-width:1500px;overflow:auto;\">\n",
       "            <table border=\"1\" class=\"Relation\">\n",
       "                <thead> <tr style=\"text-align: right;\"> <th> <div class=\"djtooltip\">\n",
       "                                <p id=\"primary\">segment_id</p>\n",
       "                                <span class=\"djtooltiptext\">segment id unique within each Segmentation</span>\n",
       "                            </div></th><th><div class=\"djtooltip\">\n",
       "                                <p id=\"primary\">version</p>\n",
       "                                <span class=\"djtooltiptext\"></span>\n",
       "                            </div></th><th><div class=\"djtooltip\">\n",
       "                                <p id=\"primary\">decimation_ratio</p>\n",
       "                                <span class=\"djtooltiptext\">ratio of remaining mesh vertices/faces (which ones depends on what metric the decimation technique uses)</span>\n",
       "                            </div></th><th><div class=\"djtooltip\">\n",
       "                                <p id=\"nonprimary\">n_vertices</p>\n",
       "                                <span class=\"djtooltiptext\"></span>\n",
       "                            </div></th><th><div class=\"djtooltip\">\n",
       "                                <p id=\"nonprimary\">n_faces</p>\n",
       "                                <span class=\"djtooltiptext\"></span>\n",
       "                            </div></th><th><div class=\"djtooltip\">\n",
       "                                <p id=\"nonprimary\">mesh</p>\n",
       "                                <span class=\"djtooltiptext\">in-place path to the hdf5 (decimated) mesh file</span>\n",
       "                            </div> </th> </tr> </thead>\n",
       "                <tbody> <tr> <td>864691135474614848</td>\n",
       "<td>0</td>\n",
       "<td>0.25</td>\n",
       "<td>2377488</td>\n",
       "<td>4762293</td>\n",
       "<td>=BLOB=</td> </tr> </tbody>\n",
       "            </table>\n",
       "            \n",
       "            <p>Total: 1</p></div>\n",
       "            "
      ],
      "text/plain": [
       "*segment_id    *version    *decimation_ra n_vertices     n_faces     mesh      \n",
       "+------------+ +---------+ +------------+ +------------+ +---------+ +--------+\n",
       "86469113547461 0           0.25           2377488        4762293     =BLOB=    \n",
       " (Total: 1)"
      ]
     },
     "execution_count": 19,
     "metadata": {},
     "output_type": "execute_result"
    }
   ],
   "source": [
    "minnie.Decimation() & dict(segment_id=864691135474614848)"
   ]
  },
  {
   "cell_type": "markdown",
   "metadata": {},
   "source": [
    "# Inspecting Baylor Soma"
   ]
  },
  {
   "cell_type": "code",
   "execution_count": 20,
   "metadata": {},
   "outputs": [
    {
     "data": {
      "text/html": [
       "\n",
       "        \n",
       "        <style type=\"text/css\">\n",
       "            .Relation{\n",
       "                border-collapse:collapse;\n",
       "            }\n",
       "            .Relation th{\n",
       "                background: #A0A0A0; color: #ffffff; padding:4px; border:#f0e0e0 1px solid;\n",
       "                font-weight: normal; font-family: monospace; font-size: 100%;\n",
       "            }\n",
       "            .Relation td{\n",
       "                padding:4px; border:#f0e0e0 1px solid; font-size:100%;\n",
       "            }\n",
       "            .Relation tr:nth-child(odd){\n",
       "                background: #ffffff;\n",
       "            }\n",
       "            .Relation tr:nth-child(even){\n",
       "                background: #f3f1ff;\n",
       "            }\n",
       "            /* Tooltip container */\n",
       "            .djtooltip {\n",
       "            }\n",
       "            /* Tooltip text */\n",
       "            .djtooltip .djtooltiptext {\n",
       "                visibility: hidden;\n",
       "                width: 120px;\n",
       "                background-color: black;\n",
       "                color: #fff;\n",
       "                text-align: center;\n",
       "                padding: 5px 0;\n",
       "                border-radius: 6px;\n",
       "                /* Position the tooltip text - see examples below! */\n",
       "                position: absolute;\n",
       "                z-index: 1;\n",
       "            }\n",
       "            #primary {\n",
       "                font-weight: bold;\n",
       "                color: black;\n",
       "            }\n",
       "\n",
       "            #nonprimary {\n",
       "                font-weight: normal;\n",
       "                color: white;\n",
       "            }\n",
       "\n",
       "            /* Show the tooltip text when you mouse over the tooltip container */\n",
       "            .djtooltip:hover .djtooltiptext {\n",
       "                visibility: visible;\n",
       "            }\n",
       "        </style>\n",
       "        \n",
       "        <b>job reservation table for `microns_minnie65_02`</b>\n",
       "            <div style=\"max-height:1000px;max-width:1500px;overflow:auto;\">\n",
       "            <table border=\"1\" class=\"Relation\">\n",
       "                <thead> <tr style=\"text-align: right;\"> <th> <div class=\"djtooltip\">\n",
       "                                <p id=\"primary\">table_name</p>\n",
       "                                <span class=\"djtooltiptext\">className of the table</span>\n",
       "                            </div></th><th><div class=\"djtooltip\">\n",
       "                                <p id=\"primary\">key_hash</p>\n",
       "                                <span class=\"djtooltiptext\">key hash</span>\n",
       "                            </div></th><th><div class=\"djtooltip\">\n",
       "                                <p id=\"nonprimary\">status</p>\n",
       "                                <span class=\"djtooltiptext\">if tuple is missing, the job is available</span>\n",
       "                            </div></th><th><div class=\"djtooltip\">\n",
       "                                <p id=\"nonprimary\">key</p>\n",
       "                                <span class=\"djtooltiptext\">structure containing the key</span>\n",
       "                            </div></th><th><div class=\"djtooltip\">\n",
       "                                <p id=\"nonprimary\">error_message</p>\n",
       "                                <span class=\"djtooltiptext\">error message returned if failed</span>\n",
       "                            </div></th><th><div class=\"djtooltip\">\n",
       "                                <p id=\"nonprimary\">error_stack</p>\n",
       "                                <span class=\"djtooltiptext\">error stack if failed</span>\n",
       "                            </div></th><th><div class=\"djtooltip\">\n",
       "                                <p id=\"nonprimary\">user</p>\n",
       "                                <span class=\"djtooltiptext\">database user</span>\n",
       "                            </div></th><th><div class=\"djtooltip\">\n",
       "                                <p id=\"nonprimary\">host</p>\n",
       "                                <span class=\"djtooltiptext\">system hostname</span>\n",
       "                            </div></th><th><div class=\"djtooltip\">\n",
       "                                <p id=\"nonprimary\">pid</p>\n",
       "                                <span class=\"djtooltiptext\">system process id</span>\n",
       "                            </div></th><th><div class=\"djtooltip\">\n",
       "                                <p id=\"nonprimary\">connection_id</p>\n",
       "                                <span class=\"djtooltiptext\">connection_id()</span>\n",
       "                            </div></th><th><div class=\"djtooltip\">\n",
       "                                <p id=\"nonprimary\">timestamp</p>\n",
       "                                <span class=\"djtooltiptext\">automatic timestamp</span>\n",
       "                            </div> </th> </tr> </thead>\n",
       "                <tbody> <tr> <td>__baylor_segment_centroid</td>\n",
       "<td>002d1754f817477b388ae89754951316</td>\n",
       "<td>reserved</td>\n",
       "<td>=BLOB=</td>\n",
       "<td></td>\n",
       "<td>=BLOB=</td>\n",
       "<td>celiib@10.28.0.156</td>\n",
       "<td>at-node29</td>\n",
       "<td>19</td>\n",
       "<td>35921</td>\n",
       "<td>2021-01-14 13:15:52</td></tr><tr><td>__baylor_segment_centroid</td>\n",
       "<td>00465d10aae39f80a748ff5dc0b72437</td>\n",
       "<td>reserved</td>\n",
       "<td>=BLOB=</td>\n",
       "<td></td>\n",
       "<td>=BLOB=</td>\n",
       "<td>celiib@10.28.0.83</td>\n",
       "<td>at-compute004</td>\n",
       "<td>19</td>\n",
       "<td>36053</td>\n",
       "<td>2021-01-14 13:23:52</td></tr><tr><td>__baylor_segment_centroid</td>\n",
       "<td>018353e2df71045e714cbabcb84c61c6</td>\n",
       "<td>reserved</td>\n",
       "<td>=BLOB=</td>\n",
       "<td></td>\n",
       "<td>=BLOB=</td>\n",
       "<td>celiib@10.28.0.129</td>\n",
       "<td>at-node2</td>\n",
       "<td>19</td>\n",
       "<td>37997</td>\n",
       "<td>2021-01-14 08:58:01</td></tr><tr><td>__baylor_segment_centroid</td>\n",
       "<td>019f1f77b4a17e38e79ed3f6a1d16ea8</td>\n",
       "<td>reserved</td>\n",
       "<td>=BLOB=</td>\n",
       "<td></td>\n",
       "<td>=BLOB=</td>\n",
       "<td>celiib@10.28.0.164</td>\n",
       "<td>at-node37</td>\n",
       "<td>20</td>\n",
       "<td>37894</td>\n",
       "<td>2021-01-14 13:16:04</td></tr><tr><td>__baylor_segment_centroid</td>\n",
       "<td>02215f334440dbb048ba5c459e0f08c0</td>\n",
       "<td>reserved</td>\n",
       "<td>=BLOB=</td>\n",
       "<td></td>\n",
       "<td>=BLOB=</td>\n",
       "<td>celiib@10.28.0.168</td>\n",
       "<td>at-node41</td>\n",
       "<td>24</td>\n",
       "<td>38140</td>\n",
       "<td>2021-01-14 13:24:53</td></tr><tr><td>__baylor_segment_centroid</td>\n",
       "<td>0265f2033d616e19e8fae8012d27086c</td>\n",
       "<td>error</td>\n",
       "<td>=BLOB=</td>\n",
       "<td>Exception: neuron 864691135688142102 did not fix the manifold edges (meshlab script failed) with output: </td>\n",
       "<td>=BLOB=</td>\n",
       "<td>celiib@10.28.0.83</td>\n",
       "<td>at-compute004</td>\n",
       "<td>19</td>\n",
       "<td>36067</td>\n",
       "<td>2021-01-14 02:17:03</td></tr><tr><td>__baylor_segment_centroid</td>\n",
       "<td>04add0cdb154e0b5c05d5f0c7a9a4bd2</td>\n",
       "<td>reserved</td>\n",
       "<td>=BLOB=</td>\n",
       "<td></td>\n",
       "<td>=BLOB=</td>\n",
       "<td>celiib@10.66.4.64</td>\n",
       "<td>jr-compute001</td>\n",
       "<td>19</td>\n",
       "<td>38126</td>\n",
       "<td>2021-01-14 13:23:53</td></tr><tr><td>__baylor_segment_centroid</td>\n",
       "<td>050f9b0280495daf2ef2f079a58c6721</td>\n",
       "<td>reserved</td>\n",
       "<td>=BLOB=</td>\n",
       "<td></td>\n",
       "<td>=BLOB=</td>\n",
       "<td>celiib@10.28.0.152</td>\n",
       "<td>at-node25</td>\n",
       "<td>19</td>\n",
       "<td>35977</td>\n",
       "<td>2021-01-14 13:15:22</td></tr><tr><td>__baylor_segment_centroid</td>\n",
       "<td>05be65a239aeb96c628ce7a3226a511b</td>\n",
       "<td>reserved</td>\n",
       "<td>=BLOB=</td>\n",
       "<td></td>\n",
       "<td>=BLOB=</td>\n",
       "<td>celiib@10.28.0.148</td>\n",
       "<td>at-node21</td>\n",
       "<td>19</td>\n",
       "<td>36903</td>\n",
       "<td>2021-01-14 08:59:44</td></tr><tr><td>__baylor_segment_centroid</td>\n",
       "<td>05c99f5329b111da88fb0f359f97252f</td>\n",
       "<td>error</td>\n",
       "<td>=BLOB=</td>\n",
       "<td>Exception: neuron 864691135968871013 did not fix the manifold edges (meshlab script failed) with output: </td>\n",
       "<td>=BLOB=</td>\n",
       "<td>celiib@10.28.0.148</td>\n",
       "<td>at-node21</td>\n",
       "<td>19</td>\n",
       "<td>36092</td>\n",
       "<td>2021-01-14 08:01:37</td></tr><tr><td>__baylor_segment_centroid</td>\n",
       "<td>065fdf091a7099ac9042841ba8a07909</td>\n",
       "<td>reserved</td>\n",
       "<td>=BLOB=</td>\n",
       "<td></td>\n",
       "<td>=BLOB=</td>\n",
       "<td>celiib@10.28.0.83</td>\n",
       "<td>at-compute004</td>\n",
       "<td>19</td>\n",
       "<td>36838</td>\n",
       "<td>2021-01-14 08:59:39</td></tr><tr><td>__baylor_segment_centroid</td>\n",
       "<td>06ad7dc15c8b58ba86eebdbafcbe1667</td>\n",
       "<td>reserved</td>\n",
       "<td>=BLOB=</td>\n",
       "<td></td>\n",
       "<td>=BLOB=</td>\n",
       "<td>celiib@10.28.0.83</td>\n",
       "<td>at-compute004</td>\n",
       "<td>19</td>\n",
       "<td>36085</td>\n",
       "<td>2021-01-14 13:21:36</td> </tr> </tbody>\n",
       "            </table>\n",
       "            <p>...</p>\n",
       "            <p>Total: 465</p></div>\n",
       "            "
      ],
      "text/plain": [
       "*table_name    *key_hash      status       key        error_message  error_stac user           host           pid     connection_id  timestamp     \n",
       "+------------+ +------------+ +----------+ +--------+ +------------+ +--------+ +------------+ +------------+ +-----+ +------------+ +------------+\n",
       "__baylor_segme 002d1754f81747 reserved     =BLOB=                    =BLOB=     celiib@10.28.0 at-node29      19      35921          2021-01-14 13:\n",
       "__baylor_segme 00465d10aae39f reserved     =BLOB=                    =BLOB=     celiib@10.28.0 at-compute004  19      36053          2021-01-14 13:\n",
       "__baylor_segme 018353e2df7104 reserved     =BLOB=                    =BLOB=     celiib@10.28.0 at-node2       19      37997          2021-01-14 08:\n",
       "__baylor_segme 019f1f77b4a17e reserved     =BLOB=                    =BLOB=     celiib@10.28.0 at-node37      20      37894          2021-01-14 13:\n",
       "__baylor_segme 02215f334440db reserved     =BLOB=                    =BLOB=     celiib@10.28.0 at-node41      24      38140          2021-01-14 13:\n",
       "__baylor_segme 0265f2033d616e error        =BLOB=     Exception: neu =BLOB=     celiib@10.28.0 at-compute004  19      36067          2021-01-14 02:\n",
       "__baylor_segme 04add0cdb154e0 reserved     =BLOB=                    =BLOB=     celiib@10.66.4 jr-compute001  19      38126          2021-01-14 13:\n",
       "__baylor_segme 04fb37ffdb82a8 reserved     =BLOB=                    =BLOB=     celiib@10.28.0 at-node9       19      36128          2021-01-14 13:\n",
       "__baylor_segme 050f9b0280495d reserved     =BLOB=                    =BLOB=     celiib@10.28.0 at-node25      19      35977          2021-01-14 13:\n",
       "__baylor_segme 05be65a239aeb9 reserved     =BLOB=                    =BLOB=     celiib@10.28.0 at-node21      19      36903          2021-01-14 08:\n",
       "__baylor_segme 05c99f5329b111 error        =BLOB=     Exception: neu =BLOB=     celiib@10.28.0 at-node21      19      36092          2021-01-14 08:\n",
       "__baylor_segme 065fdf091a7099 reserved     =BLOB=                    =BLOB=     celiib@10.28.0 at-compute004  19      36838          2021-01-14 08:\n",
       "   ...\n",
       " (Total: 464)"
      ]
     },
     "execution_count": 20,
     "metadata": {},
     "output_type": "execute_result"
    }
   ],
   "source": [
    "((schema.jobs & \"table_name='__baylor_segment_centroid'\"))#.delete()#& \"status='error'\" & \"key_hash='d97066fa7288bd42364bbdc01f5062b7'\").delete()#.fetch1(\"key\"))"
   ]
  },
  {
   "cell_type": "code",
   "execution_count": 47,
   "metadata": {},
   "outputs": [
    {
     "data": {
      "text/html": [
       "\n",
       "        \n",
       "        <style type=\"text/css\">\n",
       "            .Relation{\n",
       "                border-collapse:collapse;\n",
       "            }\n",
       "            .Relation th{\n",
       "                background: #A0A0A0; color: #ffffff; padding:4px; border:#f0e0e0 1px solid;\n",
       "                font-weight: normal; font-family: monospace; font-size: 100%;\n",
       "            }\n",
       "            .Relation td{\n",
       "                padding:4px; border:#f0e0e0 1px solid; font-size:100%;\n",
       "            }\n",
       "            .Relation tr:nth-child(odd){\n",
       "                background: #ffffff;\n",
       "            }\n",
       "            .Relation tr:nth-child(even){\n",
       "                background: #f3f1ff;\n",
       "            }\n",
       "            /* Tooltip container */\n",
       "            .djtooltip {\n",
       "            }\n",
       "            /* Tooltip text */\n",
       "            .djtooltip .djtooltiptext {\n",
       "                visibility: hidden;\n",
       "                width: 120px;\n",
       "                background-color: black;\n",
       "                color: #fff;\n",
       "                text-align: center;\n",
       "                padding: 5px 0;\n",
       "                border-radius: 6px;\n",
       "                /* Position the tooltip text - see examples below! */\n",
       "                position: absolute;\n",
       "                z-index: 1;\n",
       "            }\n",
       "            #primary {\n",
       "                font-weight: bold;\n",
       "                color: black;\n",
       "            }\n",
       "\n",
       "            #nonprimary {\n",
       "                font-weight: normal;\n",
       "                color: white;\n",
       "            }\n",
       "\n",
       "            /* Show the tooltip text when you mouse over the tooltip container */\n",
       "            .djtooltip:hover .djtooltiptext {\n",
       "                visibility: visible;\n",
       "            }\n",
       "        </style>\n",
       "        \n",
       "        \n",
       "            <div style=\"max-height:1000px;max-width:1500px;overflow:auto;\">\n",
       "            <table border=\"1\" class=\"Relation\">\n",
       "                <thead> <tr style=\"text-align: right;\"> <th> <div class=\"djtooltip\">\n",
       "                                <p id=\"primary\">segment_id</p>\n",
       "                                <span class=\"djtooltiptext\">segment id unique within each Segmentation</span>\n",
       "                            </div></th><th><div class=\"djtooltip\">\n",
       "                                <p id=\"primary\">decimation_version</p>\n",
       "                                <span class=\"djtooltiptext\"></span>\n",
       "                            </div></th><th><div class=\"djtooltip\">\n",
       "                                <p id=\"primary\">decimation_ratio</p>\n",
       "                                <span class=\"djtooltiptext\">ratio of remaining mesh vertices/faces (which ones depends on what metric the decimation technique uses)</span>\n",
       "                            </div> </th> </tr> </thead>\n",
       "                <tbody> <tr> <td>864691134026921572</td>\n",
       "<td>0</td>\n",
       "<td>0.25</td></tr><tr><td>864691134141481226</td>\n",
       "<td>0</td>\n",
       "<td>0.25</td></tr><tr><td>864691134219060901</td>\n",
       "<td>0</td>\n",
       "<td>0.25</td></tr><tr><td>864691134221889045</td>\n",
       "<td>0</td>\n",
       "<td>0.25</td></tr><tr><td>864691134242673681</td>\n",
       "<td>0</td>\n",
       "<td>0.25</td></tr><tr><td>864691134252908410</td>\n",
       "<td>0</td>\n",
       "<td>0.25</td></tr><tr><td>864691134316523453</td>\n",
       "<td>0</td>\n",
       "<td>0.25</td></tr><tr><td>864691134351340112</td>\n",
       "<td>0</td>\n",
       "<td>0.25</td></tr><tr><td>864691134384033872</td>\n",
       "<td>0</td>\n",
       "<td>0.25</td></tr><tr><td>864691134391593458</td>\n",
       "<td>0</td>\n",
       "<td>0.25</td></tr><tr><td>864691134409056935</td>\n",
       "<td>0</td>\n",
       "<td>0.25</td></tr><tr><td>864691134428609977</td>\n",
       "<td>0</td>\n",
       "<td>0.25</td> </tr> </tbody>\n",
       "            </table>\n",
       "            <p>...</p>\n",
       "            <p>Total: 76865</p></div>\n",
       "            "
      ],
      "text/plain": [
       "*segment_id    *decimation_ve *decimation_ra\n",
       "+------------+ +------------+ +------------+\n",
       "86469113402692 0              0.25          \n",
       "86469113414148 0              0.25          \n",
       "86469113421906 0              0.25          \n",
       "86469113422188 0              0.25          \n",
       "86469113424267 0              0.25          \n",
       "86469113425290 0              0.25          \n",
       "86469113431652 0              0.25          \n",
       "86469113435134 0              0.25          \n",
       "86469113438403 0              0.25          \n",
       "86469113439159 0              0.25          \n",
       "86469113440905 0              0.25          \n",
       "86469113442860 0              0.25          \n",
       "   ...\n",
       " (Total: 76865)"
      ]
     },
     "execution_count": 47,
     "metadata": {},
     "output_type": "execute_result"
    }
   ],
   "source": [
    "key_source =  (((minnie.Decimation & f\"n_vertices > {verts_min}\").proj(decimation_version='version') & \n",
    "                            \"decimation_version=\" + str(decimation_version) &\n",
    "                       f\"decimation_ratio={decimation_ratio}\") & (dj.U(\"segment_id\") & minnie.NucleiSegmentsRun2()))\n",
    "key_source"
   ]
  },
  {
   "cell_type": "code",
   "execution_count": 57,
   "metadata": {},
   "outputs": [
    {
     "data": {
      "text/plain": [
       "76843"
      ]
     },
     "execution_count": 57,
     "metadata": {},
     "output_type": "execute_result"
    }
   ],
   "source": [
    "len((dj.U(\"segment_id\") & minnie.BaylorSegmentCentroid.proj()) & minnie.NucleiSegmentsRun2.proj())"
   ]
  },
  {
   "cell_type": "code",
   "execution_count": 33,
   "metadata": {},
   "outputs": [
    {
     "data": {
      "text/html": [
       "\n",
       "        \n",
       "        <style type=\"text/css\">\n",
       "            .Relation{\n",
       "                border-collapse:collapse;\n",
       "            }\n",
       "            .Relation th{\n",
       "                background: #A0A0A0; color: #ffffff; padding:4px; border:#f0e0e0 1px solid;\n",
       "                font-weight: normal; font-family: monospace; font-size: 100%;\n",
       "            }\n",
       "            .Relation td{\n",
       "                padding:4px; border:#f0e0e0 1px solid; font-size:100%;\n",
       "            }\n",
       "            .Relation tr:nth-child(odd){\n",
       "                background: #ffffff;\n",
       "            }\n",
       "            .Relation tr:nth-child(even){\n",
       "                background: #f3f1ff;\n",
       "            }\n",
       "            /* Tooltip container */\n",
       "            .djtooltip {\n",
       "            }\n",
       "            /* Tooltip text */\n",
       "            .djtooltip .djtooltiptext {\n",
       "                visibility: hidden;\n",
       "                width: 120px;\n",
       "                background-color: black;\n",
       "                color: #fff;\n",
       "                text-align: center;\n",
       "                padding: 5px 0;\n",
       "                border-radius: 6px;\n",
       "                /* Position the tooltip text - see examples below! */\n",
       "                position: absolute;\n",
       "                z-index: 1;\n",
       "            }\n",
       "            #primary {\n",
       "                font-weight: bold;\n",
       "                color: black;\n",
       "            }\n",
       "\n",
       "            #nonprimary {\n",
       "                font-weight: normal;\n",
       "                color: white;\n",
       "            }\n",
       "\n",
       "            /* Show the tooltip text when you mouse over the tooltip container */\n",
       "            .djtooltip:hover .djtooltiptext {\n",
       "                visibility: visible;\n",
       "            }\n",
       "        </style>\n",
       "        \n",
       "        \n",
       "            <div style=\"max-height:1000px;max-width:1500px;overflow:auto;\">\n",
       "            <table border=\"1\" class=\"Relation\">\n",
       "                <thead> <tr style=\"text-align: right;\"> <th> <div class=\"djtooltip\">\n",
       "                                <p id=\"primary\">segment_id</p>\n",
       "                                <span class=\"djtooltiptext\">segment id unique within each Segmentation</span>\n",
       "                            </div> </th> </tr> </thead>\n",
       "                <tbody> <tr> <td>864691134026921572</td></tr><tr><td>864691134141481226</td></tr><tr><td>864691134219060901</td></tr><tr><td>864691134221889045</td></tr><tr><td>864691134242673681</td></tr><tr><td>864691134252908410</td></tr><tr><td>864691134316523453</td></tr><tr><td>864691134351340112</td></tr><tr><td>864691134384033872</td></tr><tr><td>864691134391593458</td></tr><tr><td>864691134409056935</td></tr><tr><td>864691134428609977</td> </tr> </tbody>\n",
       "            </table>\n",
       "            <p>...</p>\n",
       "            <p>Total: 67250</p></div>\n",
       "            "
      ],
      "text/plain": [
       "*segment_id   \n",
       "+------------+\n",
       "86469113402692\n",
       "86469113414148\n",
       "86469113421906\n",
       "86469113422188\n",
       "86469113424267\n",
       "86469113425290\n",
       "86469113431652\n",
       "86469113435134\n",
       "86469113438403\n",
       "86469113439159\n",
       "86469113440905\n",
       "86469113442860\n",
       "   ...\n",
       " (Total: 67250)"
      ]
     },
     "execution_count": 33,
     "metadata": {},
     "output_type": "execute_result"
    }
   ],
   "source": [
    "dj.U(\"segment_id\") & minnie.BaylorSegmentCentroid()"
   ]
  },
  {
   "cell_type": "code",
   "execution_count": 16,
   "metadata": {},
   "outputs": [
    {
     "ename": "AssertionError",
     "evalue": "Declaration context is not set",
     "output_type": "error",
     "traceback": [
      "\u001b[0;31m---------------------------------------------------------------------------\u001b[0m",
      "\u001b[0;31mAssertionError\u001b[0m                            Traceback (most recent call last)",
      "\u001b[0;32m<ipython-input-16-d8fea5837705>\u001b[0m in \u001b[0;36m<module>\u001b[0;34m\u001b[0m\n\u001b[0;32m----> 1\u001b[0;31m \u001b[0;34m(\u001b[0m\u001b[0mminnie\u001b[0m\u001b[0;34m.\u001b[0m\u001b[0mBaylorSegmentCentroid\u001b[0m \u001b[0;34m&\u001b[0m \u001b[0mminnie\u001b[0m\u001b[0;34m.\u001b[0m\u001b[0mMultiSomaProofread2\u001b[0m\u001b[0;34m.\u001b[0m\u001b[0mproj\u001b[0m\u001b[0;34m(\u001b[0m\u001b[0;34m)\u001b[0m\u001b[0;34m)\u001b[0m\u001b[0;34m.\u001b[0m\u001b[0mdelete\u001b[0m\u001b[0;34m(\u001b[0m\u001b[0;34m)\u001b[0m\u001b[0;34m\u001b[0m\u001b[0;34m\u001b[0m\u001b[0m\n\u001b[0m",
      "\u001b[0;32m/usr/local/lib/python3.6/dist-packages/datajoint/table.py\u001b[0m in \u001b[0;36mdelete\u001b[0;34m(self, verbose)\u001b[0m\n\u001b[1;32m    407\u001b[0m                         \u001b[0mdelete_list\u001b[0m\u001b[0;34m[\u001b[0m\u001b[0mr\u001b[0m\u001b[0;34m[\u001b[0m\u001b[0;36m0\u001b[0m\u001b[0;34m]\u001b[0m\u001b[0;34m]\u001b[0m\u001b[0;34m.\u001b[0m\u001b[0mproj\u001b[0m\u001b[0;34m(\u001b[0m\u001b[0;34m**\u001b[0m\u001b[0;34m{\u001b[0m\u001b[0ma\u001b[0m\u001b[0;34m:\u001b[0m \u001b[0mb\u001b[0m \u001b[0;32mfor\u001b[0m \u001b[0ma\u001b[0m\u001b[0;34m,\u001b[0m \u001b[0mb\u001b[0m \u001b[0;32min\u001b[0m \u001b[0mr\u001b[0m\u001b[0;34m[\u001b[0m\u001b[0;36m1\u001b[0m\u001b[0;34m]\u001b[0m\u001b[0;34m[\u001b[0m\u001b[0;34m'attr_map'\u001b[0m\u001b[0;34m]\u001b[0m\u001b[0;34m.\u001b[0m\u001b[0mitems\u001b[0m\u001b[0;34m(\u001b[0m\u001b[0;34m)\u001b[0m\u001b[0;34m}\u001b[0m\u001b[0;34m)\u001b[0m\u001b[0;34m\u001b[0m\u001b[0;34m\u001b[0m\u001b[0m\n\u001b[1;32m    408\u001b[0m                         if isinstance(r, _RenameMap) else r)\n\u001b[0;32m--> 409\u001b[0;31m                     for r in restrictions[name]])\n\u001b[0m\u001b[1;32m    410\u001b[0m         \u001b[0;32mif\u001b[0m \u001b[0msafe\u001b[0m\u001b[0;34m:\u001b[0m\u001b[0;34m\u001b[0m\u001b[0;34m\u001b[0m\u001b[0m\n\u001b[1;32m    411\u001b[0m             \u001b[0mprint\u001b[0m\u001b[0;34m(\u001b[0m\u001b[0;34m'About to delete:'\u001b[0m\u001b[0;34m)\u001b[0m\u001b[0;34m\u001b[0m\u001b[0;34m\u001b[0m\u001b[0m\n",
      "\u001b[0;32m/usr/local/lib/python3.6/dist-packages/datajoint/expression.py\u001b[0m in \u001b[0;36mrestrict\u001b[0;34m(self, restriction)\u001b[0m\n\u001b[1;32m    349\u001b[0m         \u001b[0mstring\u001b[0m\u001b[0;34m,\u001b[0m \u001b[0;32mor\u001b[0m \u001b[0man\u001b[0m \u001b[0mAndList\u001b[0m\u001b[0;34m.\u001b[0m\u001b[0;34m\u001b[0m\u001b[0;34m\u001b[0m\u001b[0m\n\u001b[1;32m    350\u001b[0m         \"\"\"\n\u001b[0;32m--> 351\u001b[0;31m         \u001b[0;32massert\u001b[0m \u001b[0mis_true\u001b[0m\u001b[0;34m(\u001b[0m\u001b[0mrestriction\u001b[0m\u001b[0;34m)\u001b[0m \u001b[0;32mor\u001b[0m \u001b[0;32mnot\u001b[0m \u001b[0mself\u001b[0m\u001b[0;34m.\u001b[0m\u001b[0mheading\u001b[0m\u001b[0;34m.\u001b[0m\u001b[0mexpressions\u001b[0m \u001b[0;32mor\u001b[0m \u001b[0misinstance\u001b[0m\u001b[0;34m(\u001b[0m\u001b[0mself\u001b[0m\u001b[0;34m,\u001b[0m \u001b[0mGroupBy\u001b[0m\u001b[0;34m)\u001b[0m\u001b[0;34m,\u001b[0m\u001b[0;31m \u001b[0m\u001b[0;31m\\\u001b[0m\u001b[0;34m\u001b[0m\u001b[0;34m\u001b[0m\u001b[0m\n\u001b[0m\u001b[1;32m    352\u001b[0m             \u001b[0;34m\"Cannot restrict a projection with renamed attributes in place.\"\u001b[0m\u001b[0;34m\u001b[0m\u001b[0;34m\u001b[0m\u001b[0m\n\u001b[1;32m    353\u001b[0m         \u001b[0mself\u001b[0m\u001b[0;34m.\u001b[0m\u001b[0mrestriction\u001b[0m\u001b[0;34m.\u001b[0m\u001b[0mappend\u001b[0m\u001b[0;34m(\u001b[0m\u001b[0mrestriction\u001b[0m\u001b[0;34m)\u001b[0m\u001b[0;34m\u001b[0m\u001b[0;34m\u001b[0m\u001b[0m\n",
      "\u001b[0;32m/usr/local/lib/python3.6/dist-packages/datajoint/table.py\u001b[0m in \u001b[0;36mheading\u001b[0;34m(self)\u001b[0m\n\u001b[1;32m     48\u001b[0m         \u001b[0;32mif\u001b[0m \u001b[0;32mnot\u001b[0m \u001b[0mself\u001b[0m\u001b[0;34m.\u001b[0m\u001b[0m_heading\u001b[0m \u001b[0;32mand\u001b[0m \u001b[0mself\u001b[0m\u001b[0;34m.\u001b[0m\u001b[0mconnection\u001b[0m \u001b[0;32mis\u001b[0m \u001b[0;32mnot\u001b[0m \u001b[0;32mNone\u001b[0m\u001b[0;34m:\u001b[0m  \u001b[0;31m# lazy loading of heading\u001b[0m\u001b[0;34m\u001b[0m\u001b[0;34m\u001b[0m\u001b[0m\n\u001b[1;32m     49\u001b[0m             self._heading.init_from_database(\n\u001b[0;32m---> 50\u001b[0;31m                 self.connection, self.database, self.table_name, self.declaration_context)\n\u001b[0m\u001b[1;32m     51\u001b[0m         \u001b[0;32mreturn\u001b[0m \u001b[0mself\u001b[0m\u001b[0;34m.\u001b[0m\u001b[0m_heading\u001b[0m\u001b[0;34m\u001b[0m\u001b[0;34m\u001b[0m\u001b[0m\n\u001b[1;32m     52\u001b[0m \u001b[0;34m\u001b[0m\u001b[0m\n",
      "\u001b[0;32m/usr/local/lib/python3.6/dist-packages/datajoint/heading.py\u001b[0m in \u001b[0;36minit_from_database\u001b[0;34m(self, conn, database, table_name, context)\u001b[0m\n\u001b[1;32m    228\u001b[0m             \u001b[0;31m# process adapted attribute types\u001b[0m\u001b[0;34m\u001b[0m\u001b[0;34m\u001b[0m\u001b[0;34m\u001b[0m\u001b[0m\n\u001b[1;32m    229\u001b[0m             \u001b[0;32mif\u001b[0m \u001b[0mspecial\u001b[0m \u001b[0;32mand\u001b[0m \u001b[0mTYPE_PATTERN\u001b[0m\u001b[0;34m[\u001b[0m\u001b[0;34m'ADAPTED'\u001b[0m\u001b[0;34m]\u001b[0m\u001b[0;34m.\u001b[0m\u001b[0mmatch\u001b[0m\u001b[0;34m(\u001b[0m\u001b[0mattr\u001b[0m\u001b[0;34m[\u001b[0m\u001b[0;34m'type'\u001b[0m\u001b[0;34m]\u001b[0m\u001b[0;34m)\u001b[0m\u001b[0;34m:\u001b[0m\u001b[0;34m\u001b[0m\u001b[0;34m\u001b[0m\u001b[0m\n\u001b[0;32m--> 230\u001b[0;31m                 \u001b[0;32massert\u001b[0m \u001b[0mcontext\u001b[0m \u001b[0;32mis\u001b[0m \u001b[0;32mnot\u001b[0m \u001b[0;32mNone\u001b[0m\u001b[0;34m,\u001b[0m \u001b[0;34m'Declaration context is not set'\u001b[0m\u001b[0;34m\u001b[0m\u001b[0;34m\u001b[0m\u001b[0m\n\u001b[0m\u001b[1;32m    231\u001b[0m                 \u001b[0madapter_name\u001b[0m \u001b[0;34m=\u001b[0m \u001b[0mspecial\u001b[0m\u001b[0;34m[\u001b[0m\u001b[0;34m'type'\u001b[0m\u001b[0;34m]\u001b[0m\u001b[0;34m\u001b[0m\u001b[0;34m\u001b[0m\u001b[0m\n\u001b[1;32m    232\u001b[0m                 \u001b[0;32mtry\u001b[0m\u001b[0;34m:\u001b[0m\u001b[0;34m\u001b[0m\u001b[0;34m\u001b[0m\u001b[0m\n",
      "\u001b[0;31mAssertionError\u001b[0m: Declaration context is not set"
     ]
    }
   ],
   "source": [
    "(minnie.BaylorSegmentCentroid & minnie.MultiSomaProofread2.proj()).delete()"
   ]
  },
  {
   "cell_type": "markdown",
   "metadata": {},
   "source": [
    "# Checking multi-somas"
   ]
  },
  {
   "cell_type": "code",
   "execution_count": 87,
   "metadata": {},
   "outputs": [
    {
     "data": {
      "text/plain": [
       "array([864691134219060901, 864691134221889045, 864691134242673681, ...,\n",
       "       864691137196930113, 864691137196930881, 864691137196931137])"
      ]
     },
     "execution_count": 87,
     "metadata": {},
     "output_type": "execute_result"
    }
   ],
   "source": [
    "one_soma_segment_ids = (dj.U(\"segment_id\") & (minnie.BaylorSegmentCentroid() & \"multiplicity = 1\")).fetch(\"segment_id\")\n",
    "one_soma_segment_ids"
   ]
  },
  {
   "cell_type": "code",
   "execution_count": 94,
   "metadata": {},
   "outputs": [],
   "source": [
    "import datajoint_utils as du"
   ]
  },
  {
   "cell_type": "code",
   "execution_count": 149,
   "metadata": {},
   "outputs": [
    {
     "data": {
      "text/plain": [
       "864691137196922433"
      ]
     },
     "execution_count": 149,
     "metadata": {},
     "output_type": "execute_result"
    }
   ],
   "source": [
    "curr_index = -27\n",
    "curr_segment_id = one_soma_segment_ids[curr_index]\n",
    "curr_segment_id"
   ]
  },
  {
   "cell_type": "code",
   "execution_count": 150,
   "metadata": {},
   "outputs": [
    {
     "name": "stdout",
     "output_type": "stream",
     "text": [
      "Segment_id = 864691137196922433\n",
      "vertices = 468787, faces= = 959349\n",
      "No glia to plot\n",
      "subtracting glia and nuclei\n",
      "curr_colors = ['red']\n",
      "curr_soma_meshes = [<trimesh.Trimesh(vertices.shape=(16475, 3), faces.shape=(32352, 3))>]\n",
      "other_meshes_to_plot = []\n"
     ]
    },
    {
     "data": {
      "application/vnd.jupyter.widget-view+json": {
       "model_id": "5f2a0d1a908949baa802915600a15c65",
       "version_major": 2,
       "version_minor": 0
      },
      "text/plain": [
       "VBox(children=(Figure(camera=PerspectiveCamera(fov=46.0, position=(0.0, 0.0, 2.0), quaternion=(0.0, 0.0, 0.0, …"
      ]
     },
     "metadata": {},
     "output_type": "display_data"
    }
   ],
   "source": [
    "du.plot_decimated_mesh_with_somas(curr_segment_id)"
   ]
  },
  {
   "cell_type": "code",
   "execution_count": 152,
   "metadata": {},
   "outputs": [],
   "source": [
    "n_faces = (minnie.BaylorSegmentCentroid() & \"multiplicity = 1\").fetch(\"n_faces\")"
   ]
  },
  {
   "cell_type": "code",
   "execution_count": 155,
   "metadata": {},
   "outputs": [
    {
     "data": {
      "image/png": "[encoded data removed]",
      "text/plain": [
       "<Figure size 432x288 with 1 Axes>"
      ]
     },
     "metadata": {
      "needs_background": "light"
     },
     "output_type": "display_data"
    }
   ],
   "source": [
    "from matplotlib import pyplot as plt\n",
    "_ = plt.hist(n_faces,bins=100)"
   ]
  },
  {
   "cell_type": "code",
   "execution_count": 158,
   "metadata": {},
   "outputs": [],
   "source": [
    " small_soma_ids = (minnie.BaylorSegmentCentroid() & \"multiplicity = 1\" & \"n_faces<20000\").fetch(\"segment_id\")"
   ]
  },
  {
   "cell_type": "code",
   "execution_count": 170,
   "metadata": {},
   "outputs": [
    {
     "name": "stdout",
     "output_type": "stream",
     "text": [
      "Segment_id = 864691137196894273\n",
      "vertices = 177486, faces= = 353560\n",
      "No glia to plot\n",
      "subtracting glia and nuclei\n",
      "curr_colors = ['red']\n",
      "curr_soma_meshes = [<trimesh.Trimesh(vertices.shape=(5518, 3), faces.shape=(10645, 3))>]\n",
      "other_meshes_to_plot = []\n"
     ]
    },
    {
     "data": {
      "application/vnd.jupyter.widget-view+json": {
       "model_id": "07c4497302a54793935d8ad7eee8808c",
       "version_major": 2,
       "version_minor": 0
      },
      "text/plain": [
       "VBox(children=(Figure(camera=PerspectiveCamera(fov=46.0, position=(0.0, 0.0, 2.0), quaternion=(0.0, 0.0, 0.0, …"
      ]
     },
     "metadata": {},
     "output_type": "display_data"
    }
   ],
   "source": [
    "du.plot_decimated_mesh_with_somas(small_soma_ids[-10])"
   ]
  },
  {
   "cell_type": "code",
   "execution_count": 179,
   "metadata": {},
   "outputs": [
    {
     "data": {
      "text/plain": [
       "(1428,)"
      ]
     },
     "execution_count": 179,
     "metadata": {},
     "output_type": "execute_result"
    }
   ],
   "source": [
    "# Doing the bigger somas\n",
    "\n",
    "big_soma_ids = (minnie.BaylorSegmentCentroid() & \"multiplicity = 1\" & \"n_faces>60000\").fetch(\"segment_id\")\n",
    "big_soma_ids.shape"
   ]
  },
  {
   "cell_type": "code",
   "execution_count": 183,
   "metadata": {},
   "outputs": [
    {
     "name": "stdout",
     "output_type": "stream",
     "text": [
      "Segment_id = 864691137019570286\n",
      "vertices = 1181187, faces= = 2379931\n",
      "No glia to plot\n",
      "subtracting glia and nuclei\n",
      "curr_colors = ['red']\n",
      "curr_soma_meshes = [<trimesh.Trimesh(vertices.shape=(45159, 3), faces.shape=(88772, 3))>]\n",
      "other_meshes_to_plot = []\n"
     ]
    },
    {
     "data": {
      "application/vnd.jupyter.widget-view+json": {
       "model_id": "bd574cf4a99945489c63bbb0942dd918",
       "version_major": 2,
       "version_minor": 0
      },
      "text/plain": [
       "VBox(children=(Figure(camera=PerspectiveCamera(fov=46.0, position=(0.0, 0.0, 2.0), quaternion=(0.0, 0.0, 0.0, …"
      ]
     },
     "metadata": {},
     "output_type": "display_data"
    }
   ],
   "source": [
    "du.plot_decimated_mesh_with_somas(big_soma_ids[-4])"
   ]
  },
  {
   "cell_type": "code",
   "execution_count": 185,
   "metadata": {},
   "outputs": [
    {
     "data": {
      "text/plain": [
       "<trimesh.Trimesh(vertices.shape=(45159, 3), faces.shape=(88772, 3))>"
      ]
     },
     "execution_count": 185,
     "metadata": {},
     "output_type": "execute_result"
    }
   ],
   "source": [
    "curr_soma = du.get_soma_mesh_list(big_soma_ids[-4])[0][0]\n",
    "curr_soma"
   ]
  },
  {
   "cell_type": "code",
   "execution_count": 186,
   "metadata": {},
   "outputs": [],
   "source": [
    "import trimesh_utils as tu"
   ]
  },
  {
   "cell_type": "code",
   "execution_count": 189,
   "metadata": {},
   "outputs": [
    {
     "data": {
      "application/vnd.jupyter.widget-view+json": {
       "model_id": "2ff16db6a4184b3b821b2ae7ec3aabbc",
       "version_major": 2,
       "version_minor": 0
      },
      "text/plain": [
       "HBox(children=(FloatProgress(value=0.0, max=58.0), HTML(value='')))"
      ]
     },
     "metadata": {},
     "output_type": "display_data"
    },
    {
     "name": "stdout",
     "output_type": "stream",
     "text": [
      "\n"
     ]
    }
   ],
   "source": [
    "div_meshes,div_meshes_sdf = tu.mesh_segmentation(curr_soma,clusters=4,smoothness=0.2)"
   ]
  },
  {
   "cell_type": "code",
   "execution_count": 192,
   "metadata": {},
   "outputs": [],
   "source": [
    "import skeleton_utils as sk"
   ]
  },
  {
   "cell_type": "code",
   "execution_count": 195,
   "metadata": {},
   "outputs": [
    {
     "name": "stderr",
     "output_type": "stream",
     "text": [
      "\r",
      "  0%|          | 0/3 [00:00<?, ?it/s]"
     ]
    },
    {
     "name": "stdout",
     "output_type": "stream",
     "text": [
      "invalidation_d = 12000\n",
      "cc_vertex_thresh = 10\n"
     ]
    },
    {
     "data": {
      "application/vnd.jupyter.widget-view+json": {
       "model_id": "e7a746e24c6649e08a5a7e15ca481548",
       "version_major": 2,
       "version_minor": 0
      },
      "text/plain": [
       "HBox(children=(FloatProgress(value=0.0, max=45100.0), HTML(value='')))"
      ]
     },
     "metadata": {},
     "output_type": "display_data"
    },
    {
     "name": "stderr",
     "output_type": "stream",
     "text": [
      "\r",
      " 33%|███▎      | 1/3 [00:00<00:00,  2.88it/s]"
     ]
    },
    {
     "name": "stdout",
     "output_type": "stream",
     "text": [
      "\n"
     ]
    },
    {
     "data": {
      "application/vnd.jupyter.widget-view+json": {
       "model_id": "739a104a881141c8a38dbe0ee3e6592b",
       "version_major": 2,
       "version_minor": 0
      },
      "text/plain": [
       "HBox(children=(FloatProgress(value=0.0, max=53.0), HTML(value='')))"
      ]
     },
     "metadata": {},
     "output_type": "display_data"
    },
    {
     "name": "stderr",
     "output_type": "stream",
     "text": [
      "\r",
      "100%|██████████| 3/3 [00:00<00:00,  7.08it/s]"
     ]
    },
    {
     "name": "stdout",
     "output_type": "stream",
     "text": [
      "\n"
     ]
    },
    {
     "name": "stderr",
     "output_type": "stream",
     "text": [
      "\n"
     ]
    },
    {
     "name": "stdout",
     "output_type": "stream",
     "text": [
      "branches_touching_root = [5]\n"
     ]
    },
    {
     "data": {
      "application/vnd.jupyter.widget-view+json": {
       "model_id": "70964176384c493d9738f0c0441057dc",
       "version_major": 2,
       "version_minor": 0
      },
      "text/plain": [
       "VBox(children=(Figure(camera=PerspectiveCamera(fov=46.0, position=(0.0, 0.0, 2.0), quaternion=(0.0, 0.0, 0.0, …"
      ]
     },
     "metadata": {},
     "output_type": "display_data"
    }
   ],
   "source": [
    "ret_sk = sk.skeletonize_connected_branch_meshparty(curr_soma)\n",
    "nviz.plot_objects(skeletons = [ret_sk],\n",
    "                 meshes=[curr_soma])"
   ]
  },
  {
   "cell_type": "code",
   "execution_count": 191,
   "metadata": {},
   "outputs": [
    {
     "data": {
      "application/vnd.jupyter.widget-view+json": {
       "model_id": "35d4c01e4ed64d9d9cca8fb2a49e3270",
       "version_major": 2,
       "version_minor": 0
      },
      "text/plain": [
       "VBox(children=(Figure(camera=PerspectiveCamera(fov=46.0, position=(0.0, 0.0, 2.0), quaternion=(0.0, 0.0, 0.0, …"
      ]
     },
     "metadata": {},
     "output_type": "display_data"
    }
   ],
   "source": [
    "nviz.plot_objects(div_meshes[0])"
   ]
  },
  {
   "cell_type": "code",
   "execution_count": 190,
   "metadata": {},
   "outputs": [
    {
     "data": {
      "application/vnd.jupyter.widget-view+json": {
       "model_id": "6c0dd64e1f8a4879bfc1b7adb280caad",
       "version_major": 2,
       "version_minor": 0
      },
      "text/plain": [
       "VBox(children=(Figure(camera=PerspectiveCamera(fov=46.0, position=(0.0, 0.0, 2.0), quaternion=(0.0, 0.0, 0.0, …"
      ]
     },
     "metadata": {},
     "output_type": "display_data"
    }
   ],
   "source": [
    "nviz.plot_objects(meshes=div_meshes,\n",
    "                 meshes_colors=\"random\")"
   ]
  },
  {
   "cell_type": "code",
   "execution_count": null,
   "metadata": {},
   "outputs": [],
   "source": []
  },
  {
   "cell_type": "code",
   "execution_count": 261,
   "metadata": {},
   "outputs": [
    {
     "data": {
      "application/vnd.jupyter.widget-view+json": {
       "model_id": "eac949d46be64ec6ac5ed020ed22202e",
       "version_major": 2,
       "version_minor": 0
      },
      "text/plain": [
       "VBox(children=(Figure(camera=PerspectiveCamera(fov=46.0, position=(0.0, 0.0, 2.0), quaternion=(0.0, 0.0, 0.0, …"
      ]
     },
     "metadata": {},
     "output_type": "display_data"
    }
   ],
   "source": [
    "nviz.plot_objects(curr_soma)"
   ]
  },
  {
   "cell_type": "code",
   "execution_count": 263,
   "metadata": {},
   "outputs": [],
   "source": [
    "import trimesh_utils as tu"
   ]
  },
  {
   "cell_type": "code",
   "execution_count": 264,
   "metadata": {},
   "outputs": [
    {
     "data": {
      "text/plain": [
       "False"
      ]
     },
     "execution_count": 264,
     "metadata": {},
     "output_type": "execute_result"
    }
   ],
   "source": [
    "tu.is_manifold(curr_soma)"
   ]
  },
  {
   "cell_type": "code",
   "execution_count": 267,
   "metadata": {},
   "outputs": [],
   "source": [
    "from importlib import reload\n",
    "tu = reload(tu)"
   ]
  },
  {
   "cell_type": "code",
   "execution_count": 268,
   "metadata": {},
   "outputs": [
    {
     "name": "stdout",
     "output_type": "stream",
     "text": [
      "xvfb-run -n 2024 -s \"-screen 0 800x600x24\" meshlabserver $@  -i /notebooks/Auto_Proofreading/Preprocessing_Pipeline/temp/mesh_41.off -o /notebooks/Auto_Proofreading/Preprocessing_Pipeline/temp/mesh_41_poisson.off -s /notebooks/Auto_Proofreading/Preprocessing_Pipeline/temp/poisson_645153.mls\n",
      "removed temporary input file: /notebooks/Auto_Proofreading/Preprocessing_Pipeline/temp/mesh_41.off\n",
      "removed temporary output file: /notebooks/Auto_Proofreading/Preprocessing_Pipeline/temp/mesh_41_poisson.off\n"
     ]
    },
    {
     "data": {
      "text/plain": [
       "[<trimesh.Trimesh(vertices.shape=(168004, 3), faces.shape=(336004, 3))>]"
      ]
     },
     "execution_count": 268,
     "metadata": {},
     "output_type": "execute_result"
    }
   ],
   "source": [
    "curr_soma_poisson_meshes = tu.poisson_surface_reconstruction(curr_soma,return_significant_meshes=True,\n",
    "                                                     significant_mesh_threshold=1000)\n",
    "curr_soma_poisson_meshes"
   ]
  },
  {
   "cell_type": "code",
   "execution_count": 269,
   "metadata": {},
   "outputs": [
    {
     "data": {
      "text/plain": [
       "<trimesh.Trimesh(vertices.shape=(45159, 3), faces.shape=(88772, 3))>"
      ]
     },
     "execution_count": 269,
     "metadata": {},
     "output_type": "execute_result"
    }
   ],
   "source": [
    "curr_soma"
   ]
  },
  {
   "cell_type": "code",
   "execution_count": 272,
   "metadata": {},
   "outputs": [
    {
     "data": {
      "text/plain": [
       "True"
      ]
     },
     "execution_count": 272,
     "metadata": {},
     "output_type": "execute_result"
    }
   ],
   "source": [
    "poisson_mesh = curr_soma_poisson_meshes[0]\n",
    "tu.is_manifold(poisson_mesh)"
   ]
  },
  {
   "cell_type": "code",
   "execution_count": 273,
   "metadata": {},
   "outputs": [],
   "source": [
    "import skeleton_utils as sk"
   ]
  },
  {
   "cell_type": "code",
   "execution_count": 280,
   "metadata": {},
   "outputs": [
    {
     "name": "stdout",
     "output_type": "stream",
     "text": [
      "min_edge_length = 1000\n",
      "Total time for skeletonizing 23.694881677627563\n",
      "Returning skeleton of size (15, 2, 3)\n"
     ]
    }
   ],
   "source": [
    "poisson_sk = sk.skeleton_cgal(poisson_mesh,\n",
    "                verbose=True,\n",
    "                             min_edge_length=1000)"
   ]
  },
  {
   "cell_type": "code",
   "execution_count": 281,
   "metadata": {},
   "outputs": [
    {
     "data": {
      "application/vnd.jupyter.widget-view+json": {
       "model_id": "d11b03d0a67c47c683ba49a878a45bac",
       "version_major": 2,
       "version_minor": 0
      },
      "text/plain": [
       "VBox(children=(Figure(camera=PerspectiveCamera(fov=46.0, position=(0.0, 0.0, 2.0), quaternion=(0.0, 0.0, 0.0, …"
      ]
     },
     "metadata": {},
     "output_type": "display_data"
    }
   ],
   "source": [
    "nviz.plot_objects(poisson_mesh,\n",
    "                 skeletons=[poisson_sk])"
   ]
  },
  {
   "cell_type": "code",
   "execution_count": 270,
   "metadata": {},
   "outputs": [
    {
     "data": {
      "application/vnd.jupyter.widget-view+json": {
       "model_id": "b28ed4eb360649febb45b3d491fb3dc0",
       "version_major": 2,
       "version_minor": 0
      },
      "text/plain": [
       "VBox(children=(Figure(camera=PerspectiveCamera(fov=46.0, position=(0.0, 0.0, 2.0), quaternion=(0.0, 0.0, 0.0, …"
      ]
     },
     "metadata": {},
     "output_type": "display_data"
    }
   ],
   "source": [
    "nviz.plot_objects(curr_soma_poisson_meshes[0])"
   ]
  },
  {
   "cell_type": "markdown",
   "metadata": {},
   "source": [
    "# Inspecting Decomposition"
   ]
  },
  {
   "cell_type": "code",
   "execution_count": 201,
   "metadata": {},
   "outputs": [
    {
     "data": {
      "text/plain": [
       "array(['',\n",
       "       \"DataJointError: A different version of '864691134221889045_0_25.pbz2' has already been placed.\",\n",
       "       'Exception: Branch that we are skipping is too large with skip distance: 26840.28244673132',\n",
       "       'Exception: Mesh passed to correspondence_1_to_1 is not just one mesh',\n",
       "       'Exception: Something went wrong in the connectivity',\n",
       "       'Exception: The number of nodes in the concept graph and number of branches passed to it did not match\\nlen(curr_limb_concept_network.nodes())=103, len(curr_limb_divided_skeletons)= 104',\n",
       "       'Exception: The number of nodes in the concept graph and number of branches passed to it did not match\\nlen(curr_limb_concept_network.nodes())=11, len(curr_limb_divided_skeletons)= 12',\n",
       "       'Exception: The number of nodes in the concept graph and number of branches passed to it did not match\\nlen(curr_limb_concept_network.nodes())=12, len(curr_limb_divided_skeletons)= 13',\n",
       "       'Exception: The number of nodes in the concept graph and number of branches passed to it did not match\\nlen(curr_limb_concept_network.nodes())=13, len(curr_limb_divided_skeletons)= 33',\n",
       "       'Exception: The number of nodes in the concept graph and number of branches passed to it did not match\\nlen(curr_limb_concept_network.nodes())=134, len(curr_limb_divided_skeletons)= 135',\n",
       "       'Exception: The number of nodes in the concept graph and number of branches passed to it did not match\\nlen(curr_limb_concept_network.nodes())=14, len(curr_limb_divided_skeletons)= 15',\n",
       "       'Exception: The number of nodes in the concept graph and number of branches passed to it did not match\\nlen(curr_limb_concept_network.nodes())=148, len(curr_limb_divided_skeletons)= 149',\n",
       "       'Exception: The number of nodes in the concept graph and number of branches passed to it did not match\\nlen(curr_limb_concept_network.nodes())=16, len(curr_limb_divided_skeletons)= 17',\n",
       "       'Exception: The number of nodes in the concept graph and number of branches passed to it did not match\\nlen(curr_limb_concept_network.nodes())=163, len(curr_limb_divided_skeletons)= 164',\n",
       "       'Exception: The number of nodes in the concept graph and number of branches passed to it did not match\\nlen(curr_limb_concept_network.nodes())=17, len(curr_limb_divided_skeletons)= 18',\n",
       "       'Exception: The number of nodes in the concept graph and number of branches passed to it did not match\\nlen(curr_limb_concept_network.nodes())=18, len(curr_limb_divided_skeletons)= 19',\n",
       "       'Exception: The number of nodes in the concept graph and number of branches passed to it did not match\\nlen(curr_limb_concept_network.nodes())=20, len(curr_limb_divided_skeletons)= 21',\n",
       "       'Exception: The number of nodes in the concept graph and number of branches passed to it did not match\\nlen(curr_limb_concept_network.nodes())=21, len(curr_limb_divided_skeletons)= 22',\n",
       "       'Exception: The number of nodes in the concept graph and number of branches passed to it did not match\\nlen(curr_limb_concept_network.nodes())=221, len(curr_limb_divided_skeletons)= 222',\n",
       "       'Exception: The number of nodes in the concept graph and number of branches passed to it did not match\\nlen(curr_limb_concept_network.nodes())=23, len(curr_limb_divided_skeletons)= 24',\n",
       "       'Exception: The number of nodes in the concept graph and number of branches passed to it did not match\\nlen(curr_limb_concept_network.nodes())=238, len(curr_limb_divided_skeletons)= 258',\n",
       "       'Exception: The number of nodes in the concept graph and number of branches passed to it did not match\\nlen(curr_limb_concept_network.nodes())=24, len(curr_limb_divided_skeletons)= 25',\n",
       "       'Exception: The number of nodes in the concept graph and number of branches passed to it did not match\\nlen(curr_limb_concept_network.nodes())=28, len(curr_limb_divided_skeletons)= 29',\n",
       "       'Exception: The number of nodes in the concept graph and number of branches passed to it did not match\\nlen(curr_limb_concept_network.nodes())=29, len(curr_limb_divided_skeletons)= 30',\n",
       "       'Exception: The number of nodes in the concept graph and number of branches passed to it did not match\\nlen(curr_limb_concept_network.nodes())=3, len(curr_limb_divided_skeletons)= 4',\n",
       "       'Exception: The number of nodes in the concept graph and number of branches passed to it did not match\\nlen(curr_limb_concept_network.nodes())=33, len(curr_limb_divided_skeletons)= 34',\n",
       "       'Exception: The number of nodes in the concept graph and number of branches passed to it did not match\\nlen(curr_limb_concept_network.nodes())=4, len(curr_limb_divided_skeletons)= 5',\n",
       "       'Exception: The number of nodes in the concept graph and number of branches passed to it did not match\\nlen(curr_limb_concept_network.nodes())=43, len(curr_limb_divided_skeletons)= 44',\n",
       "       'Exception: The number of nodes in the concept graph and number of branches passed to it did not match\\nlen(curr_limb_concept_network.nodes())=44, len(curr_limb_divided_skeletons)= 45',\n",
       "       'Exception: The number of nodes in the concept graph and number of branches passed to it did not match\\nlen(curr_limb_concept_network.nodes())=45, len(curr_limb_divided_skeletons)= 46',\n",
       "       'Exception: The number of nodes in the concept graph and number of branches passed to it did not match\\nlen(curr_limb_concept_network.nodes())=458, len(curr_limb_divided_skeletons)= 508',\n",
       "       'Exception: The number of nodes in the concept graph and number of branches passed to it did not match\\nlen(curr_limb_concept_network.nodes())=49, len(curr_limb_divided_skeletons)= 50',\n",
       "       'Exception: The number of nodes in the concept graph and number of branches passed to it did not match\\nlen(curr_limb_concept_network.nodes())=52, len(curr_limb_divided_skeletons)= 53',\n",
       "       'Exception: The number of nodes in the concept graph and number of branches passed to it did not match\\nlen(curr_limb_concept_network.nodes())=59, len(curr_limb_divided_skeletons)= 60',\n",
       "       'Exception: The number of nodes in the concept graph and number of branches passed to it did not match\\nlen(curr_limb_concept_network.nodes())=6, len(curr_limb_divided_skeletons)= 7',\n",
       "       'Exception: The number of nodes in the concept graph and number of branches passed to it did not match\\nlen(curr_limb_concept_network.nodes())=6, len(curr_limb_divided_skeletons)= 8',\n",
       "       'Exception: The number of nodes in the concept graph and number of branches passed to it did not match\\nlen(curr_limb_concept_network.nodes())=60, len(curr_limb_divided_skeletons)= 61',\n",
       "       'Exception: The number of nodes in the concept graph and number of branches passed to it did not match\\nlen(curr_limb_concept_network.nodes())=61, len(curr_limb_divided_skeletons)= 62',\n",
       "       'Exception: The number of nodes in the concept graph and number of branches passed to it did not match\\nlen(curr_limb_concept_network.nodes())=61, len(curr_limb_divided_skeletons)= 66',\n",
       "       'Exception: The number of nodes in the concept graph and number of branches passed to it did not match\\nlen(curr_limb_concept_network.nodes())=62, len(curr_limb_divided_skeletons)= 63',\n",
       "       'Exception: The number of nodes in the concept graph and number of branches passed to it did not match\\nlen(curr_limb_concept_network.nodes())=65, len(curr_limb_divided_skeletons)= 68',\n",
       "       'Exception: The number of nodes in the concept graph and number of branches passed to it did not match\\nlen(curr_limb_concept_network.nodes())=7, len(curr_limb_divided_skeletons)= 8',\n",
       "       'Exception: The number of nodes in the concept graph and number of branches passed to it did not match\\nlen(curr_limb_concept_network.nodes())=74, len(curr_limb_divided_skeletons)= 75',\n",
       "       'Exception: The number of nodes in the concept graph and number of branches passed to it did not match\\nlen(curr_limb_concept_network.nodes())=80, len(curr_limb_divided_skeletons)= 81',\n",
       "       'Exception: The number of nodes in the concept graph and number of branches passed to it did not match\\nlen(curr_limb_concept_network.nodes())=84, len(curr_limb_divided_skeletons)= 85',\n",
       "       'Exception: The number of nodes in the concept graph and number of branches passed to it did not match\\nlen(curr_limb_concept_network.nodes())=86, len(curr_limb_divided_skeletons)= 87',\n",
       "       'Exception: The number of nodes in the concept graph and number of branches passed to it did not match\\nlen(curr_limb_concept_network.nodes())=88, len(curr_limb_divided_skeletons)= 89',\n",
       "       'Exception: The number of nodes in the concept graph and number of branches passed to it did not match\\nlen(curr_limb_concept_network.nodes())=898, len(curr_limb_divided_skeletons)= 903',\n",
       "       'Exception: The number of nodes in the concept graph and number of branches passed to it did not match\\nlen(curr_limb_concept_network.nodes())=9, len(curr_limb_divided_skeletons)= 10',\n",
       "       'Exception: The number of nodes in the concept graph and number of branches passed to it did not match\\nlen(curr_limb_concept_network.nodes())=95, len(curr_limb_divided_skeletons)= 96',\n",
       "       'Exception: The number of nodes in the concept graph and number of branches passed to it did not match\\nlen(curr_limb_concept_network.nodes())=96, len(curr_limb_divided_skeletons)= 97',\n",
       "       'Exception: The number of nodes in the concept graph and number of branches passed to it did not match\\nlen(curr_limb_concept_network.nodes())=98, len(curr_limb_divided_skeletons)= 99',\n",
       "       'Exception: The number of starting nodes found was not exactly one: []',\n",
       "       'Exception: missing labels was not resolved',\n",
       "       'Exception: neuron 33920 did not fix the manifold edges (meshlab script failed) with output: ',\n",
       "       'Exception: neuron 37584 did not finish filterfill_holes: ',\n",
       "       'Exception: neuron 61091 did not fix the manifold edges (meshlab script failed) with output: ',\n",
       "       \"Exception: neuron 722719 did not fix the manifold edges (meshlab script failed) with output:QStandardPaths: XDG_RUNTIME_DIR not set, defaulting to '/tmp/runtime-root'\\nCurrent Plugins Dir is: /meshlab/src/distrib/plugins \\nError While parsing the XML filter plugin descriptors: We are trying to load a xml file that does not correspond to any dll or javascript code; please delete all the spurious xml files\\nError While parsing the XML filter plugin descriptors: We are trying to load a xml file that does not correspond to any dll or javascript code; please delete all the spurious xml files\\nOpening a file with extention off\\nFilterScript\\nReading filter with name Remove Duplicate Vertices\\nReading filter with name Smooths normals on a point sets\\n    Reading Param with name K : RichInt\\n    Reading Param with name useDist : RichBool\\nReading filter with name Surface Reconstruction: Screened Poisson\\nReading filter with name Delete Current Mesh\\nLoading Plugins:\\nTotal 104 filtering actions\\nTotal 1 io plugins\\nMesh /notebooks/Auto_Proofreading/Preprocessing_Pipeline/Poisson_temp/neuron_722719.off loaded has 8141 vn 16082 fn\\noutput mesh  /notebooks/Auto_Proofreading/Preprocessing_Pipeline/Poisson_temp/neuron_722719_poisson.off\\nApply FilterScript: '/notebooks/Auto_Proofreading/Preprocessing_Pipeline/Poisson_temp/poisson_583284.mls'\\nStarting Script of 4 actionsfilter: Remove Duplicate Vertices\\nno additional memory available!!! memory required: 388368\\nLOG: 2 Removed 0 duplicated vertices\\nRemoved 0 duplicated vertices\\nfilter: Smooths normals on a point sets\\nno additional memory available!!! memory required: 388368\\nRemoved 0 duplicated vertices\\nfilter: Surface Reconstruction: Screened Poisson\\nno additional memory available!!! memory required: 388368\\nRemoved 0 duplicated vertices\\nProblem with filter: Surface Reconstruction: Screened Poisson\\nFailed to apply script file /notebooks/Auto_Proofreading/Preprocessing_Pipeline/Poisson_temp/poisson_583284.mls\\n \",\n",
       "       'Exception: neuron 75360 did not finish filterfill_holes: ',\n",
       "       'Exception: neuron 75620 did not fix the manifold edges (meshlab script failed) with output: ',\n",
       "       'Exception: neuron 82627 did not fix the manifold edges (meshlab script failed) with output: ',\n",
       "       'Exception: neuron 86505 did not finish filterfill_holes: ',\n",
       "       'Exception: neuron 88211 did not fix the manifold edges (meshlab script failed) with output: ',\n",
       "       'IndexError: list index out of range',\n",
       "       'NetworkXNoPath: No path to 1219.',\n",
       "       'NetworkXNoPath: No path to 1377.',\n",
       "       'NetworkXNoPath: No path to 185.',\n",
       "       'NetworkXNoPath: No path to 194.',\n",
       "       'NetworkXNoPath: No path to 2025.',\n",
       "       'NetworkXNoPath: No path to 358.',\n",
       "       'NetworkXNoPath: No path to 696.',\n",
       "       'NetworkXNoPath: No path to 76.', 'NetworkXNoPath: No path to 92.',\n",
       "       \"QhullError: QH6022 qhull input error: 2'th dimension's new bounds [-0.5, 0.5] too wide for\\nexisting bounds [6.1e+05, 6.1e+05]\\n\\nWhile executing:  | qhull i Pp QbB Qt\\nOptions selected for Qhull 2019.1.r 2019/06/21:\\n  run-id 1903541886  incidence  Pprecision-ignore  QbBound-unit-box 0.5\\n  Qtriangulate  _pre-merge  _zero-centrum  _maxoutside  0\\n\",\n",
       "       \"QhullError: QH6022 qhull input error: 2'th dimension's new bounds [-0.5, 0.5] too wide for\\nexisting bounds [8.7e+05, 8.7e+05]\\n\\nWhile executing:  | qhull i QbB Qt Pp\\nOptions selected for Qhull 2019.1.r 2019/06/21:\\n  run-id 827221606  incidence  QbBound-unit-box 0.5  Qtriangulate\\n  Pprecision-ignore  _pre-merge  _zero-centrum  _maxoutside  0\\n\",\n",
       "       \"QhullError: QH6022 qhull input error: 2'th dimension's new bounds [-0.5, 0.5] too wide for\\nexisting bounds [9.7e+05, 9.7e+05]\\n\\nWhile executing:  | qhull i QbB Qt Pp\\nOptions selected for Qhull 2019.1.r 2019/06/21:\\n  run-id 1928130527  incidence  QbBound-unit-box 0.5  Qtriangulate\\n  Pprecision-ignore  _pre-merge  _zero-centrum  _maxoutside  0\\n\",\n",
       "       'ZeroDivisionError: division by zero'], dtype=object)"
      ]
     },
     "execution_count": 201,
     "metadata": {},
     "output_type": "execute_result"
    }
   ],
   "source": [
    "np.unique((schema.jobs & \"table_name='__decomposition'\").fetch(\"error_message\"))"
   ]
  },
  {
   "cell_type": "code",
   "execution_count": 240,
   "metadata": {},
   "outputs": [],
   "source": [
    "seg_ids_non_soma = (minnie.Decomposition() & \"n_not_processed_soma_containing_meshes=1\").fetch(\"segment_id\")"
   ]
  },
  {
   "cell_type": "code",
   "execution_count": 282,
   "metadata": {},
   "outputs": [
    {
     "data": {
      "text/plain": [
       "30667"
      ]
     },
     "execution_count": 282,
     "metadata": {},
     "output_type": "execute_result"
    }
   ],
   "source": [
    "len(minnie.Decomposition())"
   ]
  },
  {
   "cell_type": "code",
   "execution_count": 215,
   "metadata": {},
   "outputs": [
    {
     "data": {
      "text/html": [
       "\n",
       "        \n",
       "        <style type=\"text/css\">\n",
       "            .Relation{\n",
       "                border-collapse:collapse;\n",
       "            }\n",
       "            .Relation th{\n",
       "                background: #A0A0A0; color: #ffffff; padding:4px; border:#f0e0e0 1px solid;\n",
       "                font-weight: normal; font-family: monospace; font-size: 100%;\n",
       "            }\n",
       "            .Relation td{\n",
       "                padding:4px; border:#f0e0e0 1px solid; font-size:100%;\n",
       "            }\n",
       "            .Relation tr:nth-child(odd){\n",
       "                background: #ffffff;\n",
       "            }\n",
       "            .Relation tr:nth-child(even){\n",
       "                background: #f3f1ff;\n",
       "            }\n",
       "            /* Tooltip container */\n",
       "            .djtooltip {\n",
       "            }\n",
       "            /* Tooltip text */\n",
       "            .djtooltip .djtooltiptext {\n",
       "                visibility: hidden;\n",
       "                width: 120px;\n",
       "                background-color: black;\n",
       "                color: #fff;\n",
       "                text-align: center;\n",
       "                padding: 5px 0;\n",
       "                border-radius: 6px;\n",
       "                /* Position the tooltip text - see examples below! */\n",
       "                position: absolute;\n",
       "                z-index: 1;\n",
       "            }\n",
       "            #primary {\n",
       "                font-weight: bold;\n",
       "                color: black;\n",
       "            }\n",
       "\n",
       "            #nonprimary {\n",
       "                font-weight: normal;\n",
       "                color: white;\n",
       "            }\n",
       "\n",
       "            /* Show the tooltip text when you mouse over the tooltip container */\n",
       "            .djtooltip:hover .djtooltiptext {\n",
       "                visibility: visible;\n",
       "            }\n",
       "        </style>\n",
       "        \n",
       "        \n",
       "            <div style=\"max-height:1000px;max-width:1500px;overflow:auto;\">\n",
       "            <table border=\"1\" class=\"Relation\">\n",
       "                <thead> <tr style=\"text-align: right;\"> <th> <div class=\"djtooltip\">\n",
       "                                <p id=\"primary\">segment_id</p>\n",
       "                                <span class=\"djtooltiptext\">segment id unique within each Segmentation</span>\n",
       "                            </div></th><th><div class=\"djtooltip\">\n",
       "                                <p id=\"primary\">decimation_version</p>\n",
       "                                <span class=\"djtooltiptext\"></span>\n",
       "                            </div></th><th><div class=\"djtooltip\">\n",
       "                                <p id=\"primary\">decimation_ratio</p>\n",
       "                                <span class=\"djtooltiptext\">ratio of remaining mesh vertices/faces (which ones depends on what metric the decimation technique uses)</span>\n",
       "                            </div> </th> </tr> </thead>\n",
       "                <tbody> <tr> <td>864691134219060901</td>\n",
       "<td>0</td>\n",
       "<td>0.25</td></tr><tr><td>864691134221889045</td>\n",
       "<td>0</td>\n",
       "<td>0.25</td></tr><tr><td>864691134242673681</td>\n",
       "<td>0</td>\n",
       "<td>0.25</td></tr><tr><td>864691134252908410</td>\n",
       "<td>0</td>\n",
       "<td>0.25</td></tr><tr><td>864691134316523453</td>\n",
       "<td>0</td>\n",
       "<td>0.25</td></tr><tr><td>864691134384033872</td>\n",
       "<td>0</td>\n",
       "<td>0.25</td></tr><tr><td>864691134391593458</td>\n",
       "<td>0</td>\n",
       "<td>0.25</td></tr><tr><td>864691134409056935</td>\n",
       "<td>0</td>\n",
       "<td>0.25</td></tr><tr><td>864691134428609977</td>\n",
       "<td>0</td>\n",
       "<td>0.25</td></tr><tr><td>864691134441691943</td>\n",
       "<td>0</td>\n",
       "<td>0.25</td></tr><tr><td>864691134484023255</td>\n",
       "<td>0</td>\n",
       "<td>0.25</td></tr><tr><td>864691134488295985</td>\n",
       "<td>0</td>\n",
       "<td>0.25</td> </tr> </tbody>\n",
       "            </table>\n",
       "            <p>...</p>\n",
       "            <p>Total: 65519</p></div>\n",
       "            "
      ],
      "text/plain": [
       "*segment_id    *decimation_ve *decimation_ra\n",
       "+------------+ +------------+ +------------+\n",
       "86469113421906 0              0.25          \n",
       "86469113422188 0              0.25          \n",
       "86469113424267 0              0.25          \n",
       "86469113425290 0              0.25          \n",
       "86469113431652 0              0.25          \n",
       "86469113438403 0              0.25          \n",
       "86469113439159 0              0.25          \n",
       "86469113440905 0              0.25          \n",
       "86469113442860 0              0.25          \n",
       "86469113444169 0              0.25          \n",
       "86469113448402 0              0.25          \n",
       "86469113448829 0              0.25          \n",
       "   ...\n",
       " (Total: 65519)"
      ]
     },
     "execution_count": 215,
     "metadata": {},
     "output_type": "execute_result"
    }
   ],
   "source": [
    "decimation_version = 0\n",
    "decimation_ratio = 0.25\n",
    "# key_source = (minnie.Decimation().proj(decimation_version='version')  & \n",
    "#                   dict(decimation_version=decimation_version,decimation_ratio=decimation_ratio)  \n",
    "#                   & minnie.MultiSomaProofread2() & (dj.U(\"segment_id\") & (minnie.BaylorSegmentCentroid()).proj()))\n",
    "\n",
    "key_source = ((minnie.Decimation).proj(decimation_version='version') & \n",
    "                            \"decimation_version=\" + str(decimation_version) &\n",
    "                       f\"decimation_ratio={decimation_ratio}\" &  (minnie.BaylorSegmentCentroid() & \"multiplicity>0\" & \"multiplicity<4\"))\n",
    "                                                                  \n",
    "key_source"
   ]
  },
  {
   "cell_type": "code",
   "execution_count": 71,
   "metadata": {},
   "outputs": [
    {
     "data": {
      "text/html": [
       "\n",
       "        \n",
       "        <style type=\"text/css\">\n",
       "            .Relation{\n",
       "                border-collapse:collapse;\n",
       "            }\n",
       "            .Relation th{\n",
       "                background: #A0A0A0; color: #ffffff; padding:4px; border:#f0e0e0 1px solid;\n",
       "                font-weight: normal; font-family: monospace; font-size: 100%;\n",
       "            }\n",
       "            .Relation td{\n",
       "                padding:4px; border:#f0e0e0 1px solid; font-size:100%;\n",
       "            }\n",
       "            .Relation tr:nth-child(odd){\n",
       "                background: #ffffff;\n",
       "            }\n",
       "            .Relation tr:nth-child(even){\n",
       "                background: #f3f1ff;\n",
       "            }\n",
       "            /* Tooltip container */\n",
       "            .djtooltip {\n",
       "            }\n",
       "            /* Tooltip text */\n",
       "            .djtooltip .djtooltiptext {\n",
       "                visibility: hidden;\n",
       "                width: 120px;\n",
       "                background-color: black;\n",
       "                color: #fff;\n",
       "                text-align: center;\n",
       "                padding: 5px 0;\n",
       "                border-radius: 6px;\n",
       "                /* Position the tooltip text - see examples below! */\n",
       "                position: absolute;\n",
       "                z-index: 1;\n",
       "            }\n",
       "            #primary {\n",
       "                font-weight: bold;\n",
       "                color: black;\n",
       "            }\n",
       "\n",
       "            #nonprimary {\n",
       "                font-weight: normal;\n",
       "                color: white;\n",
       "            }\n",
       "\n",
       "            /* Show the tooltip text when you mouse over the tooltip container */\n",
       "            .djtooltip:hover .djtooltiptext {\n",
       "                visibility: visible;\n",
       "            }\n",
       "        </style>\n",
       "        \n",
       "        <b></b>\n",
       "            <div style=\"max-height:1000px;max-width:1500px;overflow:auto;\">\n",
       "            <table border=\"1\" class=\"Relation\">\n",
       "                <thead> <tr style=\"text-align: right;\"> <th> <div class=\"djtooltip\">\n",
       "                                <p id=\"primary\">segment_id</p>\n",
       "                                <span class=\"djtooltiptext\">segment id unique within each Segmentation</span>\n",
       "                            </div></th><th><div class=\"djtooltip\">\n",
       "                                <p id=\"primary\">decimation_version</p>\n",
       "                                <span class=\"djtooltiptext\"></span>\n",
       "                            </div></th><th><div class=\"djtooltip\">\n",
       "                                <p id=\"primary\">decimation_ratio</p>\n",
       "                                <span class=\"djtooltiptext\">ratio of remaining mesh vertices/faces (which ones depends on what metric the decimation technique uses)</span>\n",
       "                            </div></th><th><div class=\"djtooltip\">\n",
       "                                <p id=\"primary\">ver</p>\n",
       "                                <span class=\"djtooltiptext\">the version number of the materializaiton</span>\n",
       "                            </div></th><th><div class=\"djtooltip\">\n",
       "                                <p id=\"primary\">process_version</p>\n",
       "                                <span class=\"djtooltiptext\">the version of the preprocessing pipeline run</span>\n",
       "                            </div></th><th><div class=\"djtooltip\">\n",
       "                                <p id=\"primary\">index</p>\n",
       "                                <span class=\"djtooltiptext\">the index of the neuron object that resulted from that mesh (indexed starting at 0)</span>\n",
       "                            </div></th><th><div class=\"djtooltip\">\n",
       "                                <p id=\"nonprimary\">multiplicity</p>\n",
       "                                <span class=\"djtooltiptext\">the number of somas found for this base segment</span>\n",
       "                            </div></th><th><div class=\"djtooltip\">\n",
       "                                <p id=\"nonprimary\">decomposition</p>\n",
       "                                <span class=\"djtooltiptext\"></span>\n",
       "                            </div></th><th><div class=\"djtooltip\">\n",
       "                                <p id=\"nonprimary\">n_vertices</p>\n",
       "                                <span class=\"djtooltiptext\">number of vertices</span>\n",
       "                            </div></th><th><div class=\"djtooltip\">\n",
       "                                <p id=\"nonprimary\">n_faces</p>\n",
       "                                <span class=\"djtooltiptext\">number of faces</span>\n",
       "                            </div></th><th><div class=\"djtooltip\">\n",
       "                                <p id=\"nonprimary\">n_not_processed_soma_containing_meshes</p>\n",
       "                                <span class=\"djtooltiptext\">the number of meshes with somas that were not processed</span>\n",
       "                            </div></th><th><div class=\"djtooltip\">\n",
       "                                <p id=\"nonprimary\">n_error_limbs</p>\n",
       "                                <span class=\"djtooltiptext\">the number of limbs that are touching multiple somas or 1 soma in multiple places</span>\n",
       "                            </div></th><th><div class=\"djtooltip\">\n",
       "                                <p id=\"nonprimary\">n_same_soma_multi_touching_limbs</p>\n",
       "                                <span class=\"djtooltiptext\">number of limbs that touch the same soma multiple times</span>\n",
       "                            </div></th><th><div class=\"djtooltip\">\n",
       "                                <p id=\"nonprimary\">n_multi_soma_touching_limbs</p>\n",
       "                                <span class=\"djtooltiptext\">number of limbs that touch multiple somas</span>\n",
       "                            </div></th><th><div class=\"djtooltip\">\n",
       "                                <p id=\"nonprimary\">n_somas</p>\n",
       "                                <span class=\"djtooltiptext\">number of soma meshes detected</span>\n",
       "                            </div></th><th><div class=\"djtooltip\">\n",
       "                                <p id=\"nonprimary\">n_limbs</p>\n",
       "                                <span class=\"djtooltiptext\"></span>\n",
       "                            </div></th><th><div class=\"djtooltip\">\n",
       "                                <p id=\"nonprimary\">n_branches</p>\n",
       "                                <span class=\"djtooltiptext\"></span>\n",
       "                            </div></th><th><div class=\"djtooltip\">\n",
       "                                <p id=\"nonprimary\">max_limb_n_branches</p>\n",
       "                                <span class=\"djtooltiptext\"></span>\n",
       "                            </div></th><th><div class=\"djtooltip\">\n",
       "                                <p id=\"nonprimary\">skeletal_length</p>\n",
       "                                <span class=\"djtooltiptext\"></span>\n",
       "                            </div></th><th><div class=\"djtooltip\">\n",
       "                                <p id=\"nonprimary\">max_limb_skeletal_length</p>\n",
       "                                <span class=\"djtooltiptext\"></span>\n",
       "                            </div></th><th><div class=\"djtooltip\">\n",
       "                                <p id=\"nonprimary\">median_branch_length</p>\n",
       "                                <span class=\"djtooltiptext\">gives information on average skeletal length to next branch point</span>\n",
       "                            </div></th><th><div class=\"djtooltip\">\n",
       "                                <p id=\"nonprimary\">width_median</p>\n",
       "                                <span class=\"djtooltiptext\">median width from mesh center without spines removed</span>\n",
       "                            </div></th><th><div class=\"djtooltip\">\n",
       "                                <p id=\"nonprimary\">width_no_spine_median</p>\n",
       "                                <span class=\"djtooltiptext\">median width from mesh center with spines removed</span>\n",
       "                            </div></th><th><div class=\"djtooltip\">\n",
       "                                <p id=\"nonprimary\">width_90_perc</p>\n",
       "                                <span class=\"djtooltiptext\">90th percentile for width without spines removed</span>\n",
       "                            </div></th><th><div class=\"djtooltip\">\n",
       "                                <p id=\"nonprimary\">width_no_spine_90_perc</p>\n",
       "                                <span class=\"djtooltiptext\">90th percentile for width with spines removed</span>\n",
       "                            </div></th><th><div class=\"djtooltip\">\n",
       "                                <p id=\"nonprimary\">n_spines</p>\n",
       "                                <span class=\"djtooltiptext\"></span>\n",
       "                            </div></th><th><div class=\"djtooltip\">\n",
       "                                <p id=\"nonprimary\">spine_density</p>\n",
       "                                <span class=\"djtooltiptext\">n_spines/ skeletal_length</span>\n",
       "                            </div></th><th><div class=\"djtooltip\">\n",
       "                                <p id=\"nonprimary\">spines_per_branch</p>\n",
       "                                <span class=\"djtooltiptext\"></span>\n",
       "                            </div></th><th><div class=\"djtooltip\">\n",
       "                                <p id=\"nonprimary\">skeletal_length_eligible</p>\n",
       "                                <span class=\"djtooltiptext\">the skeletal length for all branches searched for spines</span>\n",
       "                            </div></th><th><div class=\"djtooltip\">\n",
       "                                <p id=\"nonprimary\">n_spine_eligible_branches</p>\n",
       "                                <span class=\"djtooltiptext\">the number of branches that were checked for spines because passed width threshold</span>\n",
       "                            </div></th><th><div class=\"djtooltip\">\n",
       "                                <p id=\"nonprimary\">spine_density_eligible</p>\n",
       "                                <span class=\"djtooltiptext\">n_spines/skeletal_length_eligible</span>\n",
       "                            </div></th><th><div class=\"djtooltip\">\n",
       "                                <p id=\"nonprimary\">spines_per_branch_eligible</p>\n",
       "                                <span class=\"djtooltiptext\">n_spines/n_spine_eligible_branches</span>\n",
       "                            </div></th><th><div class=\"djtooltip\">\n",
       "                                <p id=\"nonprimary\">total_spine_volume</p>\n",
       "                                <span class=\"djtooltiptext\">the sum of all spine volume</span>\n",
       "                            </div></th><th><div class=\"djtooltip\">\n",
       "                                <p id=\"nonprimary\">spine_volume_median</p>\n",
       "                                <span class=\"djtooltiptext\">median of the spine volume for those spines with able to calculate volume</span>\n",
       "                            </div></th><th><div class=\"djtooltip\">\n",
       "                                <p id=\"nonprimary\">spine_volume_density</p>\n",
       "                                <span class=\"djtooltiptext\">total_spine_volume/skeletal_length</span>\n",
       "                            </div></th><th><div class=\"djtooltip\">\n",
       "                                <p id=\"nonprimary\">spine_volume_density_eligible</p>\n",
       "                                <span class=\"djtooltiptext\">total_spine_volume/skeletal_length_eligible</span>\n",
       "                            </div></th><th><div class=\"djtooltip\">\n",
       "                                <p id=\"nonprimary\">spine_volume_per_branch_eligible</p>\n",
       "                                <span class=\"djtooltiptext\">total_spine_volume/n_spine_eligible_branches</span>\n",
       "                            </div></th><th><div class=\"djtooltip\">\n",
       "                                <p id=\"nonprimary\">run_time</p>\n",
       "                                <span class=\"djtooltiptext\">the amount of time to run (seconds)</span>\n",
       "                            </div> </th> </tr> </thead>\n",
       "                <tbody> <tr> <td>864691134884741370</td>\n",
       "<td>0</td>\n",
       "<td>0.25</td>\n",
       "<td>30.00</td>\n",
       "<td>0</td>\n",
       "<td>0</td>\n",
       "<td>1</td>\n",
       "<td>=BLOB=</td>\n",
       "<td>380482</td>\n",
       "<td>782797</td>\n",
       "<td>0</td>\n",
       "<td>0</td>\n",
       "<td>0</td>\n",
       "<td>0</td>\n",
       "<td>1</td>\n",
       "<td>9</td>\n",
       "<td>155</td>\n",
       "<td>111</td>\n",
       "<td>4957951.094062191</td>\n",
       "<td>3258375.4424227052</td>\n",
       "<td>18747.22</td>\n",
       "<td>86.29</td>\n",
       "<td>86.29</td>\n",
       "<td>304.834</td>\n",
       "<td>264.235</td>\n",
       "<td>888</td>\n",
       "<td>0.0001791062443240916</td>\n",
       "<td>5.7290322580645165</td>\n",
       "<td>2182315.787</td>\n",
       "<td>47</td>\n",
       "<td>0.000406907197065518</td>\n",
       "<td>18.894</td>\n",
       "<td>246174952917.70355</td>\n",
       "<td>148392566.49754968</td>\n",
       "<td>49652.55772944815</td>\n",
       "<td>112804.4595489624</td>\n",
       "<td>5237764955.69582</td>\n",
       "<td>2997.7505</td></tr><tr><td>864691134884744698</td>\n",
       "<td>0</td>\n",
       "<td>0.25</td>\n",
       "<td>30.00</td>\n",
       "<td>0</td>\n",
       "<td>0</td>\n",
       "<td>1</td>\n",
       "<td>=BLOB=</td>\n",
       "<td>304543</td>\n",
       "<td>628181</td>\n",
       "<td>0</td>\n",
       "<td>0</td>\n",
       "<td>0</td>\n",
       "<td>0</td>\n",
       "<td>1</td>\n",
       "<td>10</td>\n",
       "<td>45</td>\n",
       "<td>19</td>\n",
       "<td>2572240.2636876525</td>\n",
       "<td>859945.1719564002</td>\n",
       "<td>47557.428</td>\n",
       "<td>371.006</td>\n",
       "<td>303.317</td>\n",
       "<td>598.593</td>\n",
       "<td>506.099</td>\n",
       "<td>1394</td>\n",
       "<td>0.000541940043346306</td>\n",
       "<td>30.977777777777778</td>\n",
       "<td>2502807.014</td>\n",
       "<td>41</td>\n",
       "<td>0.0005569746257711263</td>\n",
       "<td>34.0</td>\n",
       "<td>245013023955.07565</td>\n",
       "<td>123742902.31608549</td>\n",
       "<td>95252.77533904104</td>\n",
       "<td>97895.29219973476</td>\n",
       "<td>5975927413.53843</td>\n",
       "<td>1616.7387</td></tr><tr><td>864691134884748026</td>\n",
       "<td>0</td>\n",
       "<td>0.25</td>\n",
       "<td>30.00</td>\n",
       "<td>0</td>\n",
       "<td>0</td>\n",
       "<td>1</td>\n",
       "<td>=BLOB=</td>\n",
       "<td>420027</td>\n",
       "<td>845933</td>\n",
       "<td>0</td>\n",
       "<td>0</td>\n",
       "<td>0</td>\n",
       "<td>0</td>\n",
       "<td>1</td>\n",
       "<td>9</td>\n",
       "<td>83</td>\n",
       "<td>29</td>\n",
       "<td>4264839.614019831</td>\n",
       "<td>1233064.320639635</td>\n",
       "<td>34585.162</td>\n",
       "<td>266.767</td>\n",
       "<td>240.558</td>\n",
       "<td>445.096</td>\n",
       "<td>432.024</td>\n",
       "<td>1837</td>\n",
       "<td>0.00043073132081244503</td>\n",
       "<td>22.132530120481928</td>\n",
       "<td>3126272.098</td>\n",
       "<td>52</td>\n",
       "<td>0.0005876008045413582</td>\n",
       "<td>35.327</td>\n",
       "<td>455990220238.503</td>\n",
       "<td>167251658.6566677</td>\n",
       "<td>106918.49202008062</td>\n",
       "<td>145857.49606703073</td>\n",
       "<td>8769042696.894289</td>\n",
       "<td>2258.0372</td></tr><tr><td>864691134884749306</td>\n",
       "<td>0</td>\n",
       "<td>0.25</td>\n",
       "<td>30.00</td>\n",
       "<td>0</td>\n",
       "<td>0</td>\n",
       "<td>1</td>\n",
       "<td>=BLOB=</td>\n",
       "<td>128236</td>\n",
       "<td>263233</td>\n",
       "<td>0</td>\n",
       "<td>0</td>\n",
       "<td>0</td>\n",
       "<td>0</td>\n",
       "<td>1</td>\n",
       "<td>11</td>\n",
       "<td>123</td>\n",
       "<td>69</td>\n",
       "<td>2825436.2442786554</td>\n",
       "<td>1960400.1846538119</td>\n",
       "<td>15389.194</td>\n",
       "<td>68.438</td>\n",
       "<td>68.438</td>\n",
       "<td>151.048</td>\n",
       "<td>151.048</td>\n",
       "<td>1</td>\n",
       "<td>3.5392764640325616e-07</td>\n",
       "<td>0.008130081300813009</td>\n",
       "<td>92419.698</td>\n",
       "<td>14</td>\n",
       "<td>1.082020415171666e-05</td>\n",
       "<td>0.071</td>\n",
       "<td>343257071.9985161</td>\n",
       "<td>343257071.9985161</td>\n",
       "<td>121.48816760370784</td>\n",
       "<td>3714.1115955444484</td>\n",
       "<td>24518362.28560829</td>\n",
       "<td>299.2331</td></tr><tr><td>864691134884749562</td>\n",
       "<td>0</td>\n",
       "<td>0.25</td>\n",
       "<td>30.00</td>\n",
       "<td>0</td>\n",
       "<td>0</td>\n",
       "<td>1</td>\n",
       "<td>=BLOB=</td>\n",
       "<td>601749</td>\n",
       "<td>1218939</td>\n",
       "<td>0</td>\n",
       "<td>0</td>\n",
       "<td>0</td>\n",
       "<td>0</td>\n",
       "<td>1</td>\n",
       "<td>9</td>\n",
       "<td>222</td>\n",
       "<td>81</td>\n",
       "<td>9300257.982468953</td>\n",
       "<td>3628687.696599574</td>\n",
       "<td>27525.157</td>\n",
       "<td>81.04</td>\n",
       "<td>81.04</td>\n",
       "<td>347.243</td>\n",
       "<td>312.489</td>\n",
       "<td>1303</td>\n",
       "<td>0.000140103640399671</td>\n",
       "<td>5.86936936936937</td>\n",
       "<td>3473456.532</td>\n",
       "<td>60</td>\n",
       "<td>0.00037513064810105416</td>\n",
       "<td>21.717</td>\n",
       "<td>153643447566.38287</td>\n",
       "<td>56863176.80465126</td>\n",
       "<td>16520.3425384545</td>\n",
       "<td>44233.588689222976</td>\n",
       "<td>2560724126.1063814</td>\n",
       "<td>2454.3775</td></tr><tr><td>864691134884751866</td>\n",
       "<td>0</td>\n",
       "<td>0.25</td>\n",
       "<td>30.00</td>\n",
       "<td>0</td>\n",
       "<td>0</td>\n",
       "<td>1</td>\n",
       "<td>=BLOB=</td>\n",
       "<td>133028</td>\n",
       "<td>266987</td>\n",
       "<td>0</td>\n",
       "<td>0</td>\n",
       "<td>0</td>\n",
       "<td>0</td>\n",
       "<td>1</td>\n",
       "<td>12</td>\n",
       "<td>146</td>\n",
       "<td>53</td>\n",
       "<td>3165582.065360753</td>\n",
       "<td>1534226.1075221612</td>\n",
       "<td>14816.126</td>\n",
       "<td>76.707</td>\n",
       "<td>76.707</td>\n",
       "<td>160.869</td>\n",
       "<td>160.869</td>\n",
       "<td>0</td>\n",
       "<td>0.0</td>\n",
       "<td>0.0</td>\n",
       "<td>105642.5</td>\n",
       "<td>18</td>\n",
       "<td>0.0</td>\n",
       "<td>0.0</td>\n",
       "<td>0.0</td>\n",
       "<td>0.0</td>\n",
       "<td>0.0</td>\n",
       "<td>0.0</td>\n",
       "<td>0.0</td>\n",
       "<td>249.2082</td></tr><tr><td>864691134884760058</td>\n",
       "<td>0</td>\n",
       "<td>0.25</td>\n",
       "<td>30.00</td>\n",
       "<td>0</td>\n",
       "<td>0</td>\n",
       "<td>1</td>\n",
       "<td>=BLOB=</td>\n",
       "<td>181318</td>\n",
       "<td>370262</td>\n",
       "<td>0</td>\n",
       "<td>1</td>\n",
       "<td>1</td>\n",
       "<td>0</td>\n",
       "<td>1</td>\n",
       "<td>12</td>\n",
       "<td>186</td>\n",
       "<td>50</td>\n",
       "<td>4427506.206342143</td>\n",
       "<td>969042.8900910865</td>\n",
       "<td>16929.951</td>\n",
       "<td>70.932</td>\n",
       "<td>70.932</td>\n",
       "<td>167.199</td>\n",
       "<td>167.199</td>\n",
       "<td>0</td>\n",
       "<td>0.0</td>\n",
       "<td>0.0</td>\n",
       "<td>116979.204</td>\n",
       "<td>23</td>\n",
       "<td>0.0</td>\n",
       "<td>0.0</td>\n",
       "<td>0.0</td>\n",
       "<td>0.0</td>\n",
       "<td>0.0</td>\n",
       "<td>0.0</td>\n",
       "<td>0.0</td>\n",
       "<td>402.6901</td></tr><tr><td>864691134884763642</td>\n",
       "<td>0</td>\n",
       "<td>0.25</td>\n",
       "<td>30.00</td>\n",
       "<td>0</td>\n",
       "<td>0</td>\n",
       "<td>1</td>\n",
       "<td>=BLOB=</td>\n",
       "<td>436830</td>\n",
       "<td>882644</td>\n",
       "<td>0</td>\n",
       "<td>0</td>\n",
       "<td>0</td>\n",
       "<td>0</td>\n",
       "<td>1</td>\n",
       "<td>9</td>\n",
       "<td>122</td>\n",
       "<td>40</td>\n",
       "<td>4666558.164074776</td>\n",
       "<td>1392501.5703219445</td>\n",
       "<td>29358.668</td>\n",
       "<td>240.983</td>\n",
       "<td>218.842</td>\n",
       "<td>414.238</td>\n",
       "<td>395.204</td>\n",
       "<td>2101</td>\n",
       "<td>0.00045022475368986615</td>\n",
       "<td>17.221311475409838</td>\n",
       "<td>3705659.371</td>\n",
       "<td>92</td>\n",
       "<td>0.0005669706224058661</td>\n",
       "<td>22.837</td>\n",
       "<td>378353767860.76514</td>\n",
       "<td>118190730.74450684</td>\n",
       "<td>81077.69250011699</td>\n",
       "<td>102101.60459477514</td>\n",
       "<td>4112540955.0083165</td>\n",
       "<td>3697.0081</td></tr><tr><td>864691134884768762</td>\n",
       "<td>0</td>\n",
       "<td>0.25</td>\n",
       "<td>30.00</td>\n",
       "<td>0</td>\n",
       "<td>0</td>\n",
       "<td>1</td>\n",
       "<td>=BLOB=</td>\n",
       "<td>92654</td>\n",
       "<td>189491</td>\n",
       "<td>0</td>\n",
       "<td>0</td>\n",
       "<td>0</td>\n",
       "<td>0</td>\n",
       "<td>1</td>\n",
       "<td>9</td>\n",
       "<td>100</td>\n",
       "<td>33</td>\n",
       "<td>2014720.089946183</td>\n",
       "<td>630903.0462469517</td>\n",
       "<td>14708.677</td>\n",
       "<td>71.145</td>\n",
       "<td>71.145</td>\n",
       "<td>171.587</td>\n",
       "<td>171.587</td>\n",
       "<td>53</td>\n",
       "<td>2.630638383191768e-05</td>\n",
       "<td>0.53</td>\n",
       "<td>137447.68</td>\n",
       "<td>12</td>\n",
       "<td>0.00038560127024333916</td>\n",
       "<td>4.417</td>\n",
       "<td>6085214049.869992</td>\n",
       "<td>68697872.8866736</td>\n",
       "<td>3020.376915004873</td>\n",
       "<td>44272.94844023553</td>\n",
       "<td>507101170.82249933</td>\n",
       "<td>192.0618</td></tr><tr><td>864691134884769018</td>\n",
       "<td>0</td>\n",
       "<td>0.25</td>\n",
       "<td>30.00</td>\n",
       "<td>0</td>\n",
       "<td>0</td>\n",
       "<td>1</td>\n",
       "<td>=BLOB=</td>\n",
       "<td>1528011</td>\n",
       "<td>3078802</td>\n",
       "<td>0</td>\n",
       "<td>7</td>\n",
       "<td>5</td>\n",
       "<td>2</td>\n",
       "<td>3</td>\n",
       "<td>20</td>\n",
       "<td>421</td>\n",
       "<td>129</td>\n",
       "<td>15358033.818095537</td>\n",
       "<td>6359831.284514944</td>\n",
       "<td>19558.966</td>\n",
       "<td>117.674</td>\n",
       "<td>117.674</td>\n",
       "<td>462.331</td>\n",
       "<td>428.373</td>\n",
       "<td>3853</td>\n",
       "<td>0.0002508784682750353</td>\n",
       "<td>9.152019002375297</td>\n",
       "<td>8180017.673</td>\n",
       "<td>186</td>\n",
       "<td>0.00047102587720778387</td>\n",
       "<td>20.715</td>\n",
       "<td>818307027581.6089</td>\n",
       "<td>118226275.54461034</td>\n",
       "<td>53282.01755991983</td>\n",
       "<td>100037.31780221165</td>\n",
       "<td>4399500148.288219</td>\n",
       "<td>8443.518</td></tr><tr><td>864691134884770298</td>\n",
       "<td>0</td>\n",
       "<td>0.25</td>\n",
       "<td>30.00</td>\n",
       "<td>0</td>\n",
       "<td>0</td>\n",
       "<td>1</td>\n",
       "<td>=BLOB=</td>\n",
       "<td>79717</td>\n",
       "<td>167402</td>\n",
       "<td>0</td>\n",
       "<td>0</td>\n",
       "<td>0</td>\n",
       "<td>0</td>\n",
       "<td>1</td>\n",
       "<td>11</td>\n",
       "<td>83</td>\n",
       "<td>43</td>\n",
       "<td>1745435.4237335543</td>\n",
       "<td>865218.7633800539</td>\n",
       "<td>16800.761</td>\n",
       "<td>69.779</td>\n",
       "<td>69.779</td>\n",
       "<td>200.801</td>\n",
       "<td>200.801</td>\n",
       "<td>2</td>\n",
       "<td>1.145845886249932e-06</td>\n",
       "<td>0.024096385542168676</td>\n",
       "<td>106947.439</td>\n",
       "<td>17</td>\n",
       "<td>1.870077506016764e-05</td>\n",
       "<td>0.118</td>\n",
       "<td>3978758135.8654785</td>\n",
       "<td>1989379067.9327393</td>\n",
       "<td>2279.521821182453</td>\n",
       "<td>37202.93045881612</td>\n",
       "<td>234044596.22738108</td>\n",
       "<td>1741.2844</td></tr><tr><td>864691134884772346</td>\n",
       "<td>0</td>\n",
       "<td>0.25</td>\n",
       "<td>30.00</td>\n",
       "<td>0</td>\n",
       "<td>0</td>\n",
       "<td>1</td>\n",
       "<td>=BLOB=</td>\n",
       "<td>385614</td>\n",
       "<td>805879</td>\n",
       "<td>0</td>\n",
       "<td>1</td>\n",
       "<td>1</td>\n",
       "<td>1</td>\n",
       "<td>2</td>\n",
       "<td>10</td>\n",
       "<td>106</td>\n",
       "<td>51</td>\n",
       "<td>3416069.9194424567</td>\n",
       "<td>1568051.5996385978</td>\n",
       "<td>22918.888</td>\n",
       "<td>186.605</td>\n",
       "<td>186.605</td>\n",
       "<td>506.188</td>\n",
       "<td>456.498</td>\n",
       "<td>1063</td>\n",
       "<td>0.0003111763005639809</td>\n",
       "<td>10.028301886792454</td>\n",
       "<td>2126475.354</td>\n",
       "<td>56</td>\n",
       "<td>0.0004998882296004264</td>\n",
       "<td>18.982</td>\n",
       "<td>207947661950.84503</td>\n",
       "<td>109383813.78330484</td>\n",
       "<td>60873.36233000306</td>\n",
       "<td>97789.82933410713</td>\n",
       "<td>3713351106.26509</td>\n",
       "<td>1702.3648</td> </tr> </tbody>\n",
       "            </table>\n",
       "            <p>...</p>\n",
       "            <p>Total: 199</p></div>\n",
       "            "
      ],
      "text/plain": [
       "*segment_id    *decimation_ve *decimation_ra *ver      *process_versi *index    multiplicity   decomposit n_vertices     n_faces     n_not_processe n_error_limbs  n_same_soma_mu n_multi_soma_t n_somas     n_limbs     n_branches     max_limb_n_bra skeletal_lengt max_limb_skele median_branch_ width_median   width_no_spine width_90_perc  width_no_spine n_spines     spine_density  spines_per_bra skeletal_lengt n_spine_eligib spine_density_ spines_per_bra total_spine_vo spine_volume_m spine_volume_d spine_volume_d spine_volume_p run_time     \n",
       "+------------+ +------------+ +------------+ +-------+ +------------+ +-------+ +------------+ +--------+ +------------+ +---------+ +------------+ +------------+ +------------+ +------------+ +---------+ +---------+ +------------+ +------------+ +------------+ +------------+ +------------+ +------------+ +------------+ +------------+ +------------+ +----------+ +------------+ +------------+ +------------+ +------------+ +------------+ +------------+ +------------+ +------------+ +------------+ +------------+ +------------+ +-----------+\n",
       "86469113488474 0              0.25           30.00     0              0         1              =BLOB=     380482         782797      0              0              0              0              1           9           155            111            4957951.094062 3258375.442422 18747.22       86.29          86.29          304.834        264.235        888          0.000179106244 5.729032258064 2182315.787    47             0.000406907197 18.894         246174952917.7 148392566.4975 49652.55772944 112804.4595489 5237764955.695 2997.7505    \n",
       "86469113488474 0              0.25           30.00     0              0         1              =BLOB=     304543         628181      0              0              0              0              1           10          45             19             2572240.263687 859945.1719564 47557.428      371.006        303.317        598.593        506.099        1394         0.000541940043 30.97777777777 2502807.014    41             0.000556974625 34.0           245013023955.0 123742902.3160 95252.77533904 97895.29219973 5975927413.538 1616.7387    \n",
       "86469113488474 0              0.25           30.00     0              0         1              =BLOB=     420027         845933      0              0              0              0              1           9           83             29             4264839.614019 1233064.320639 34585.162      266.767        240.558        445.096        432.024        1837         0.000430731320 22.13253012048 3126272.098    52             0.000587600804 35.327         455990220238.5 167251658.6566 106918.4920200 145857.4960670 8769042696.894 2258.0372    \n",
       "86469113488474 0              0.25           30.00     0              0         1              =BLOB=     128236         263233      0              0              0              0              1           11          123            69             2825436.244278 1960400.184653 15389.194      68.438         68.438         151.048        151.048        1            3.539276464032 0.008130081300 92419.698      14             1.082020415171 0.071          343257071.9985 343257071.9985 121.4881676037 3714.111595544 24518362.28560 299.2331     \n",
       "86469113488474 0              0.25           30.00     0              0         1              =BLOB=     601749         1218939     0              0              0              0              1           9           222            81             9300257.982468 3628687.696599 27525.157      81.04          81.04          347.243        312.489        1303         0.000140103640 5.869369369369 3473456.532    60             0.000375130648 21.717         153643447566.3 56863176.80465 16520.34253845 44233.58868922 2560724126.106 2454.3775    \n",
       "86469113488475 0              0.25           30.00     0              0         1              =BLOB=     133028         266987      0              0              0              0              1           12          146            53             3165582.065360 1534226.107522 14816.126      76.707         76.707         160.869        160.869        0            0.0            0.0            105642.5       18             0.0            0.0            0.0            0.0            0.0            0.0            0.0            249.2082     \n",
       "86469113488476 0              0.25           30.00     0              0         1              =BLOB=     181318         370262      0              1              1              0              1           12          186            50             4427506.206342 969042.8900910 16929.951      70.932         70.932         167.199        167.199        0            0.0            0.0            116979.204     23             0.0            0.0            0.0            0.0            0.0            0.0            0.0            402.6901     \n",
       "86469113488476 0              0.25           30.00     0              0         1              =BLOB=     436830         882644      0              0              0              0              1           9           122            40             4666558.164074 1392501.570321 29358.668      240.983        218.842        414.238        395.204        2101         0.000450224753 17.22131147540 3705659.371    92             0.000566970622 22.837         378353767860.7 118190730.7445 81077.69250011 102101.6045947 4112540955.008 3697.0081    \n",
       "86469113488476 0              0.25           30.00     0              0         1              =BLOB=     92654          189491      0              0              0              0              1           9           100            33             2014720.089946 630903.0462469 14708.677      71.145         71.145         171.587        171.587        53           2.630638383191 0.53           137447.68      12             0.000385601270 4.417          6085214049.869 68697872.88667 3020.376915004 44272.94844023 507101170.8224 192.0618     \n",
       "86469113488476 0              0.25           30.00     0              0         1              =BLOB=     1528011        3078802     0              7              5              2              3           20          421            129            15358033.81809 6359831.284514 19558.966      117.674        117.674        462.331        428.373        3853         0.000250878468 9.152019002375 8180017.673    186            0.000471025877 20.715         818307027581.6 118226275.5446 53282.01755991 100037.3178022 4399500148.288 8443.518     \n",
       "86469113488477 0              0.25           30.00     0              0         1              =BLOB=     79717          167402      0              0              0              0              1           11          83             43             1745435.423733 865218.7633800 16800.761      69.779         69.779         200.801        200.801        2            1.145845886249 0.024096385542 106947.439     17             1.870077506016 0.118          3978758135.865 1989379067.932 2279.521821182 37202.93045881 234044596.2273 1741.2844    \n",
       "86469113488477 0              0.25           30.00     0              0         1              =BLOB=     385614         805879      0              1              1              1              2           10          106            51             3416069.919442 1568051.599638 22918.888      186.605        186.605        506.188        456.498        1063         0.000311176300 10.02830188679 2126475.354    56             0.000499888229 18.982         207947661950.8 109383813.7833 60873.36233000 97789.82933410 3713351106.265 1702.3648    \n",
       "   ...\n",
       " (Total: 199)"
      ]
     },
     "execution_count": 71,
     "metadata": {},
     "output_type": "execute_result"
    }
   ],
   "source": [
    "minnie.Decomposition() & \"n_limbs>8\""
   ]
  },
  {
   "cell_type": "code",
   "execution_count": 79,
   "metadata": {},
   "outputs": [
    {
     "data": {
      "text/html": [
       "\n",
       "        \n",
       "        <style type=\"text/css\">\n",
       "            .Relation{\n",
       "                border-collapse:collapse;\n",
       "            }\n",
       "            .Relation th{\n",
       "                background: #A0A0A0; color: #ffffff; padding:4px; border:#f0e0e0 1px solid;\n",
       "                font-weight: normal; font-family: monospace; font-size: 100%;\n",
       "            }\n",
       "            .Relation td{\n",
       "                padding:4px; border:#f0e0e0 1px solid; font-size:100%;\n",
       "            }\n",
       "            .Relation tr:nth-child(odd){\n",
       "                background: #ffffff;\n",
       "            }\n",
       "            .Relation tr:nth-child(even){\n",
       "                background: #f3f1ff;\n",
       "            }\n",
       "            /* Tooltip container */\n",
       "            .djtooltip {\n",
       "            }\n",
       "            /* Tooltip text */\n",
       "            .djtooltip .djtooltiptext {\n",
       "                visibility: hidden;\n",
       "                width: 120px;\n",
       "                background-color: black;\n",
       "                color: #fff;\n",
       "                text-align: center;\n",
       "                padding: 5px 0;\n",
       "                border-radius: 6px;\n",
       "                /* Position the tooltip text - see examples below! */\n",
       "                position: absolute;\n",
       "                z-index: 1;\n",
       "            }\n",
       "            #primary {\n",
       "                font-weight: bold;\n",
       "                color: black;\n",
       "            }\n",
       "\n",
       "            #nonprimary {\n",
       "                font-weight: normal;\n",
       "                color: white;\n",
       "            }\n",
       "\n",
       "            /* Show the tooltip text when you mouse over the tooltip container */\n",
       "            .djtooltip:hover .djtooltiptext {\n",
       "                visibility: visible;\n",
       "            }\n",
       "        </style>\n",
       "        \n",
       "        <b></b>\n",
       "            <div style=\"max-height:1000px;max-width:1500px;overflow:auto;\">\n",
       "            <table border=\"1\" class=\"Relation\">\n",
       "                <thead> <tr style=\"text-align: right;\"> <th> <div class=\"djtooltip\">\n",
       "                                <p id=\"primary\">segment_id</p>\n",
       "                                <span class=\"djtooltiptext\">segment id unique within each Segmentation</span>\n",
       "                            </div></th><th><div class=\"djtooltip\">\n",
       "                                <p id=\"primary\">decimation_version</p>\n",
       "                                <span class=\"djtooltiptext\"></span>\n",
       "                            </div></th><th><div class=\"djtooltip\">\n",
       "                                <p id=\"primary\">decimation_ratio</p>\n",
       "                                <span class=\"djtooltiptext\">ratio of remaining mesh vertices/faces (which ones depends on what metric the decimation technique uses)</span>\n",
       "                            </div></th><th><div class=\"djtooltip\">\n",
       "                                <p id=\"primary\">ver</p>\n",
       "                                <span class=\"djtooltiptext\">the version number of the materializaiton</span>\n",
       "                            </div></th><th><div class=\"djtooltip\">\n",
       "                                <p id=\"primary\">process_version</p>\n",
       "                                <span class=\"djtooltiptext\">the version of the preprocessing pipeline run</span>\n",
       "                            </div></th><th><div class=\"djtooltip\">\n",
       "                                <p id=\"primary\">index</p>\n",
       "                                <span class=\"djtooltiptext\">the index of the neuron object that resulted from that mesh (indexed starting at 0)</span>\n",
       "                            </div></th><th><div class=\"djtooltip\">\n",
       "                                <p id=\"nonprimary\">multiplicity</p>\n",
       "                                <span class=\"djtooltiptext\">the number of somas found for this base segment</span>\n",
       "                            </div></th><th><div class=\"djtooltip\">\n",
       "                                <p id=\"nonprimary\">decomposition</p>\n",
       "                                <span class=\"djtooltiptext\"></span>\n",
       "                            </div></th><th><div class=\"djtooltip\">\n",
       "                                <p id=\"nonprimary\">n_vertices</p>\n",
       "                                <span class=\"djtooltiptext\">number of vertices</span>\n",
       "                            </div></th><th><div class=\"djtooltip\">\n",
       "                                <p id=\"nonprimary\">n_faces</p>\n",
       "                                <span class=\"djtooltiptext\">number of faces</span>\n",
       "                            </div></th><th><div class=\"djtooltip\">\n",
       "                                <p id=\"nonprimary\">n_not_processed_soma_containing_meshes</p>\n",
       "                                <span class=\"djtooltiptext\">the number of meshes with somas that were not processed</span>\n",
       "                            </div></th><th><div class=\"djtooltip\">\n",
       "                                <p id=\"nonprimary\">n_error_limbs</p>\n",
       "                                <span class=\"djtooltiptext\">the number of limbs that are touching multiple somas or 1 soma in multiple places</span>\n",
       "                            </div></th><th><div class=\"djtooltip\">\n",
       "                                <p id=\"nonprimary\">n_same_soma_multi_touching_limbs</p>\n",
       "                                <span class=\"djtooltiptext\">number of limbs that touch the same soma multiple times</span>\n",
       "                            </div></th><th><div class=\"djtooltip\">\n",
       "                                <p id=\"nonprimary\">n_multi_soma_touching_limbs</p>\n",
       "                                <span class=\"djtooltiptext\">number of limbs that touch multiple somas</span>\n",
       "                            </div></th><th><div class=\"djtooltip\">\n",
       "                                <p id=\"nonprimary\">n_somas</p>\n",
       "                                <span class=\"djtooltiptext\">number of soma meshes detected</span>\n",
       "                            </div></th><th><div class=\"djtooltip\">\n",
       "                                <p id=\"nonprimary\">n_limbs</p>\n",
       "                                <span class=\"djtooltiptext\"></span>\n",
       "                            </div></th><th><div class=\"djtooltip\">\n",
       "                                <p id=\"nonprimary\">n_branches</p>\n",
       "                                <span class=\"djtooltiptext\"></span>\n",
       "                            </div></th><th><div class=\"djtooltip\">\n",
       "                                <p id=\"nonprimary\">max_limb_n_branches</p>\n",
       "                                <span class=\"djtooltiptext\"></span>\n",
       "                            </div></th><th><div class=\"djtooltip\">\n",
       "                                <p id=\"nonprimary\">skeletal_length</p>\n",
       "                                <span class=\"djtooltiptext\"></span>\n",
       "                            </div></th><th><div class=\"djtooltip\">\n",
       "                                <p id=\"nonprimary\">max_limb_skeletal_length</p>\n",
       "                                <span class=\"djtooltiptext\"></span>\n",
       "                            </div></th><th><div class=\"djtooltip\">\n",
       "                                <p id=\"nonprimary\">median_branch_length</p>\n",
       "                                <span class=\"djtooltiptext\">gives information on average skeletal length to next branch point</span>\n",
       "                            </div></th><th><div class=\"djtooltip\">\n",
       "                                <p id=\"nonprimary\">width_median</p>\n",
       "                                <span class=\"djtooltiptext\">median width from mesh center without spines removed</span>\n",
       "                            </div></th><th><div class=\"djtooltip\">\n",
       "                                <p id=\"nonprimary\">width_no_spine_median</p>\n",
       "                                <span class=\"djtooltiptext\">median width from mesh center with spines removed</span>\n",
       "                            </div></th><th><div class=\"djtooltip\">\n",
       "                                <p id=\"nonprimary\">width_90_perc</p>\n",
       "                                <span class=\"djtooltiptext\">90th percentile for width without spines removed</span>\n",
       "                            </div></th><th><div class=\"djtooltip\">\n",
       "                                <p id=\"nonprimary\">width_no_spine_90_perc</p>\n",
       "                                <span class=\"djtooltiptext\">90th percentile for width with spines removed</span>\n",
       "                            </div></th><th><div class=\"djtooltip\">\n",
       "                                <p id=\"nonprimary\">n_spines</p>\n",
       "                                <span class=\"djtooltiptext\"></span>\n",
       "                            </div></th><th><div class=\"djtooltip\">\n",
       "                                <p id=\"nonprimary\">spine_density</p>\n",
       "                                <span class=\"djtooltiptext\">n_spines/ skeletal_length</span>\n",
       "                            </div></th><th><div class=\"djtooltip\">\n",
       "                                <p id=\"nonprimary\">spines_per_branch</p>\n",
       "                                <span class=\"djtooltiptext\"></span>\n",
       "                            </div></th><th><div class=\"djtooltip\">\n",
       "                                <p id=\"nonprimary\">skeletal_length_eligible</p>\n",
       "                                <span class=\"djtooltiptext\">the skeletal length for all branches searched for spines</span>\n",
       "                            </div></th><th><div class=\"djtooltip\">\n",
       "                                <p id=\"nonprimary\">n_spine_eligible_branches</p>\n",
       "                                <span class=\"djtooltiptext\">the number of branches that were checked for spines because passed width threshold</span>\n",
       "                            </div></th><th><div class=\"djtooltip\">\n",
       "                                <p id=\"nonprimary\">spine_density_eligible</p>\n",
       "                                <span class=\"djtooltiptext\">n_spines/skeletal_length_eligible</span>\n",
       "                            </div></th><th><div class=\"djtooltip\">\n",
       "                                <p id=\"nonprimary\">spines_per_branch_eligible</p>\n",
       "                                <span class=\"djtooltiptext\">n_spines/n_spine_eligible_branches</span>\n",
       "                            </div></th><th><div class=\"djtooltip\">\n",
       "                                <p id=\"nonprimary\">total_spine_volume</p>\n",
       "                                <span class=\"djtooltiptext\">the sum of all spine volume</span>\n",
       "                            </div></th><th><div class=\"djtooltip\">\n",
       "                                <p id=\"nonprimary\">spine_volume_median</p>\n",
       "                                <span class=\"djtooltiptext\">median of the spine volume for those spines with able to calculate volume</span>\n",
       "                            </div></th><th><div class=\"djtooltip\">\n",
       "                                <p id=\"nonprimary\">spine_volume_density</p>\n",
       "                                <span class=\"djtooltiptext\">total_spine_volume/skeletal_length</span>\n",
       "                            </div></th><th><div class=\"djtooltip\">\n",
       "                                <p id=\"nonprimary\">spine_volume_density_eligible</p>\n",
       "                                <span class=\"djtooltiptext\">total_spine_volume/skeletal_length_eligible</span>\n",
       "                            </div></th><th><div class=\"djtooltip\">\n",
       "                                <p id=\"nonprimary\">spine_volume_per_branch_eligible</p>\n",
       "                                <span class=\"djtooltiptext\">total_spine_volume/n_spine_eligible_branches</span>\n",
       "                            </div></th><th><div class=\"djtooltip\">\n",
       "                                <p id=\"nonprimary\">run_time</p>\n",
       "                                <span class=\"djtooltiptext\">the amount of time to run (seconds)</span>\n",
       "                            </div> </th> </tr> </thead>\n",
       "                <tbody> <tr> <td>864691134884769018</td>\n",
       "<td>0</td>\n",
       "<td>0.25</td>\n",
       "<td>30.00</td>\n",
       "<td>0</td>\n",
       "<td>0</td>\n",
       "<td>1</td>\n",
       "<td>=BLOB=</td>\n",
       "<td>1528011</td>\n",
       "<td>3078802</td>\n",
       "<td>0</td>\n",
       "<td>7</td>\n",
       "<td>5</td>\n",
       "<td>2</td>\n",
       "<td>3</td>\n",
       "<td>20</td>\n",
       "<td>421</td>\n",
       "<td>129</td>\n",
       "<td>15358033.818095537</td>\n",
       "<td>6359831.284514944</td>\n",
       "<td>19558.966</td>\n",
       "<td>117.674</td>\n",
       "<td>117.674</td>\n",
       "<td>462.331</td>\n",
       "<td>428.373</td>\n",
       "<td>3853</td>\n",
       "<td>0.0002508784682750353</td>\n",
       "<td>9.152019002375297</td>\n",
       "<td>8180017.673</td>\n",
       "<td>186</td>\n",
       "<td>0.00047102587720778387</td>\n",
       "<td>20.715</td>\n",
       "<td>818307027581.6089</td>\n",
       "<td>118226275.54461034</td>\n",
       "<td>53282.01755991983</td>\n",
       "<td>100037.31780221165</td>\n",
       "<td>4399500148.288219</td>\n",
       "<td>8443.518</td></tr><tr><td>864691134884780794</td>\n",
       "<td>0</td>\n",
       "<td>0.25</td>\n",
       "<td>30.00</td>\n",
       "<td>0</td>\n",
       "<td>0</td>\n",
       "<td>1</td>\n",
       "<td>=BLOB=</td>\n",
       "<td>681209</td>\n",
       "<td>1398786</td>\n",
       "<td>0</td>\n",
       "<td>3</td>\n",
       "<td>2</td>\n",
       "<td>2</td>\n",
       "<td>3</td>\n",
       "<td>11</td>\n",
       "<td>233</td>\n",
       "<td>92</td>\n",
       "<td>7885636.26483033</td>\n",
       "<td>3525507.8928005793</td>\n",
       "<td>19971.03</td>\n",
       "<td>103.952</td>\n",
       "<td>103.952</td>\n",
       "<td>473.694</td>\n",
       "<td>441.382</td>\n",
       "<td>1882</td>\n",
       "<td>0.00023866178159822767</td>\n",
       "<td>8.07725321888412</td>\n",
       "<td>3342305.966</td>\n",
       "<td>105</td>\n",
       "<td>0.0005630842954370025</td>\n",
       "<td>17.924</td>\n",
       "<td>351748824256.1687</td>\n",
       "<td>93978369.95831957</td>\n",
       "<td>44606.27049524926</td>\n",
       "<td>105241.35965838404</td>\n",
       "<td>3349988802.439702</td>\n",
       "<td>3003.3271</td></tr><tr><td>864691134947446012</td>\n",
       "<td>0</td>\n",
       "<td>0.25</td>\n",
       "<td>30.00</td>\n",
       "<td>0</td>\n",
       "<td>0</td>\n",
       "<td>1</td>\n",
       "<td>=BLOB=</td>\n",
       "<td>1533949</td>\n",
       "<td>3083820</td>\n",
       "<td>0</td>\n",
       "<td>4</td>\n",
       "<td>2</td>\n",
       "<td>3</td>\n",
       "<td>3</td>\n",
       "<td>15</td>\n",
       "<td>407</td>\n",
       "<td>121</td>\n",
       "<td>14551799.145926123</td>\n",
       "<td>5257863.902275589</td>\n",
       "<td>19777.187</td>\n",
       "<td>255.851</td>\n",
       "<td>240.266</td>\n",
       "<td>531.752</td>\n",
       "<td>513.253</td>\n",
       "<td>6264</td>\n",
       "<td>0.00043046223612519074</td>\n",
       "<td>15.390663390663391</td>\n",
       "<td>10084186.037</td>\n",
       "<td>265</td>\n",
       "<td>0.000621170610797608</td>\n",
       "<td>23.638</td>\n",
       "<td>984943846476.0198</td>\n",
       "<td>73484385.19085026</td>\n",
       "<td>67685.3656787698</td>\n",
       "<td>97672.12176194997</td>\n",
       "<td>3716769231.98498</td>\n",
       "<td>7167.7807</td></tr><tr><td>864691134964424479</td>\n",
       "<td>0</td>\n",
       "<td>0.25</td>\n",
       "<td>30.00</td>\n",
       "<td>0</td>\n",
       "<td>0</td>\n",
       "<td>1</td>\n",
       "<td>=BLOB=</td>\n",
       "<td>963882</td>\n",
       "<td>1956436</td>\n",
       "<td>0</td>\n",
       "<td>3</td>\n",
       "<td>0</td>\n",
       "<td>3</td>\n",
       "<td>3</td>\n",
       "<td>20</td>\n",
       "<td>255</td>\n",
       "<td>43</td>\n",
       "<td>9501773.837251363</td>\n",
       "<td>2031206.9176922876</td>\n",
       "<td>24472.749</td>\n",
       "<td>233.081</td>\n",
       "<td>227.948</td>\n",
       "<td>487.938</td>\n",
       "<td>461.487</td>\n",
       "<td>3659</td>\n",
       "<td>0.0003850859915919091</td>\n",
       "<td>14.349019607843138</td>\n",
       "<td>7181599.939</td>\n",
       "<td>165</td>\n",
       "<td>0.000509496495360266</td>\n",
       "<td>22.176</td>\n",
       "<td>531987450744.69336</td>\n",
       "<td>84445028.24019113</td>\n",
       "<td>55988.2249205991</td>\n",
       "<td>74076.45305549697</td>\n",
       "<td>3224166368.149657</td>\n",
       "<td>4064.355</td></tr><tr><td>864691135012361718</td>\n",
       "<td>0</td>\n",
       "<td>0.25</td>\n",
       "<td>30.00</td>\n",
       "<td>0</td>\n",
       "<td>0</td>\n",
       "<td>1</td>\n",
       "<td>=BLOB=</td>\n",
       "<td>1136515</td>\n",
       "<td>2273230</td>\n",
       "<td>0</td>\n",
       "<td>2</td>\n",
       "<td>1</td>\n",
       "<td>2</td>\n",
       "<td>3</td>\n",
       "<td>18</td>\n",
       "<td>476</td>\n",
       "<td>310</td>\n",
       "<td>16637504.667719828</td>\n",
       "<td>9720047.043807274</td>\n",
       "<td>24658.452</td>\n",
       "<td>95.525</td>\n",
       "<td>95.525</td>\n",
       "<td>310.964</td>\n",
       "<td>297.902</td>\n",
       "<td>2129</td>\n",
       "<td>0.00012796390098875204</td>\n",
       "<td>4.472689075630252</td>\n",
       "<td>7296919.847</td>\n",
       "<td>152</td>\n",
       "<td>0.0002917669434008242</td>\n",
       "<td>14.007</td>\n",
       "<td>336279375060.5924</td>\n",
       "<td>72137347.02216592</td>\n",
       "<td>20212.128067079877</td>\n",
       "<td>46085.11291224444</td>\n",
       "<td>2212364309.6091604</td>\n",
       "<td>6327.7209</td></tr><tr><td>864691135012437750</td>\n",
       "<td>0</td>\n",
       "<td>0.25</td>\n",
       "<td>30.00</td>\n",
       "<td>0</td>\n",
       "<td>0</td>\n",
       "<td>1</td>\n",
       "<td>=BLOB=</td>\n",
       "<td>765481</td>\n",
       "<td>1579185</td>\n",
       "<td>0</td>\n",
       "<td>1</td>\n",
       "<td>1</td>\n",
       "<td>1</td>\n",
       "<td>3</td>\n",
       "<td>3</td>\n",
       "<td>215</td>\n",
       "<td>195</td>\n",
       "<td>7716296.078214913</td>\n",
       "<td>7238487.403902148</td>\n",
       "<td>21206.537</td>\n",
       "<td>118.186</td>\n",
       "<td>118.186</td>\n",
       "<td>500.93</td>\n",
       "<td>459.962</td>\n",
       "<td>2373</td>\n",
       "<td>0.00030753096770088815</td>\n",
       "<td>11.037209302325582</td>\n",
       "<td>4359935.448</td>\n",
       "<td>97</td>\n",
       "<td>0.0005442741132987527</td>\n",
       "<td>24.464</td>\n",
       "<td>488861423562.4241</td>\n",
       "<td>97577068.05332613</td>\n",
       "<td>63354.414943019816</td>\n",
       "<td>112125.83979578775</td>\n",
       "<td>5039808490.334269</td>\n",
       "<td>2420.7647</td></tr><tr><td>864691135012481014</td>\n",
       "<td>0</td>\n",
       "<td>0.25</td>\n",
       "<td>30.00</td>\n",
       "<td>0</td>\n",
       "<td>0</td>\n",
       "<td>1</td>\n",
       "<td>=BLOB=</td>\n",
       "<td>1408480</td>\n",
       "<td>2828519</td>\n",
       "<td>0</td>\n",
       "<td>1</td>\n",
       "<td>1</td>\n",
       "<td>1</td>\n",
       "<td>3</td>\n",
       "<td>16</td>\n",
       "<td>352</td>\n",
       "<td>155</td>\n",
       "<td>11396675.53787898</td>\n",
       "<td>5224069.955076697</td>\n",
       "<td>16695.481</td>\n",
       "<td>302.031</td>\n",
       "<td>266.063</td>\n",
       "<td>518.322</td>\n",
       "<td>478.981</td>\n",
       "<td>6619</td>\n",
       "<td>0.0005807834028441467</td>\n",
       "<td>18.803977272727273</td>\n",
       "<td>9639053.404</td>\n",
       "<td>270</td>\n",
       "<td>0.0006866856860916714</td>\n",
       "<td>24.515</td>\n",
       "<td>1261053044101.4534</td>\n",
       "<td>101418490.85826237</td>\n",
       "<td>110650.95605381657</td>\n",
       "<td>130827.4776834563</td>\n",
       "<td>4670566830.005383</td>\n",
       "<td>9564.4742</td></tr><tr><td>864691135058565787</td>\n",
       "<td>0</td>\n",
       "<td>0.25</td>\n",
       "<td>30.00</td>\n",
       "<td>0</td>\n",
       "<td>0</td>\n",
       "<td>1</td>\n",
       "<td>=BLOB=</td>\n",
       "<td>889381</td>\n",
       "<td>1795477</td>\n",
       "<td>0</td>\n",
       "<td>2</td>\n",
       "<td>0</td>\n",
       "<td>2</td>\n",
       "<td>3</td>\n",
       "<td>17</td>\n",
       "<td>235</td>\n",
       "<td>102</td>\n",
       "<td>9185818.723539244</td>\n",
       "<td>2474141.4163154303</td>\n",
       "<td>23732.356</td>\n",
       "<td>98.383</td>\n",
       "<td>98.383</td>\n",
       "<td>463.285</td>\n",
       "<td>423.107</td>\n",
       "<td>3173</td>\n",
       "<td>0.00034542375540995445</td>\n",
       "<td>13.502127659574468</td>\n",
       "<td>5700509.959</td>\n",
       "<td>99</td>\n",
       "<td>0.0005566168681085187</td>\n",
       "<td>32.051</td>\n",
       "<td>476192185094.55286</td>\n",
       "<td>86719273.93997987</td>\n",
       "<td>51839.92841860466</td>\n",
       "<td>83535.01502839017</td>\n",
       "<td>4810022071.66215</td>\n",
       "<td>3899.1818</td></tr><tr><td>864691135080303192</td>\n",
       "<td>0</td>\n",
       "<td>0.25</td>\n",
       "<td>30.00</td>\n",
       "<td>0</td>\n",
       "<td>0</td>\n",
       "<td>1</td>\n",
       "<td>=BLOB=</td>\n",
       "<td>137838</td>\n",
       "<td>282536</td>\n",
       "<td>0</td>\n",
       "<td>3</td>\n",
       "<td>2</td>\n",
       "<td>2</td>\n",
       "<td>3</td>\n",
       "<td>5</td>\n",
       "<td>14</td>\n",
       "<td>8</td>\n",
       "<td>189554.21897387787</td>\n",
       "<td>130564.1111033279</td>\n",
       "<td>9821.523</td>\n",
       "<td>126.371</td>\n",
       "<td>126.371</td>\n",
       "<td>1264.235</td>\n",
       "<td>1249.975</td>\n",
       "<td>7</td>\n",
       "<td>3.692874808006599e-05</td>\n",
       "<td>0.5</td>\n",
       "<td>42461.404</td>\n",
       "<td>5</td>\n",
       "<td>0.00016485559450648405</td>\n",
       "<td>1.4</td>\n",
       "<td>386299027.9532445</td>\n",
       "<td>16375354.241672516</td>\n",
       "<td>2037.9342124085335</td>\n",
       "<td>9097.650844358432</td>\n",
       "<td>77259805.5906489</td>\n",
       "<td>156.33</td></tr><tr><td>864691135089629984</td>\n",
       "<td>0</td>\n",
       "<td>0.25</td>\n",
       "<td>30.00</td>\n",
       "<td>0</td>\n",
       "<td>0</td>\n",
       "<td>1</td>\n",
       "<td>=BLOB=</td>\n",
       "<td>247148</td>\n",
       "<td>504695</td>\n",
       "<td>0</td>\n",
       "<td>3</td>\n",
       "<td>3</td>\n",
       "<td>2</td>\n",
       "<td>4</td>\n",
       "<td>4</td>\n",
       "<td>25</td>\n",
       "<td>14</td>\n",
       "<td>181128.90295773832</td>\n",
       "<td>128626.66333573594</td>\n",
       "<td>6541.313</td>\n",
       "<td>91.733</td>\n",
       "<td>91.733</td>\n",
       "<td>218.253</td>\n",
       "<td>218.253</td>\n",
       "<td>11</td>\n",
       "<td>6.073023035184264e-05</td>\n",
       "<td>0.44</td>\n",
       "<td>27866.182</td>\n",
       "<td>4</td>\n",
       "<td>0.0003947437076238144</td>\n",
       "<td>2.75</td>\n",
       "<td>1627672915.5500157</td>\n",
       "<td>117624528.56665039</td>\n",
       "<td>8986.268281709798</td>\n",
       "<td>58410.331043916085</td>\n",
       "<td>406918228.8875039</td>\n",
       "<td>149.7875</td></tr><tr><td>864691135099077664</td>\n",
       "<td>0</td>\n",
       "<td>0.25</td>\n",
       "<td>30.00</td>\n",
       "<td>0</td>\n",
       "<td>0</td>\n",
       "<td>1</td>\n",
       "<td>=BLOB=</td>\n",
       "<td>442459</td>\n",
       "<td>887878</td>\n",
       "<td>1</td>\n",
       "<td>4</td>\n",
       "<td>3</td>\n",
       "<td>3</td>\n",
       "<td>4</td>\n",
       "<td>12</td>\n",
       "<td>263</td>\n",
       "<td>144</td>\n",
       "<td>4130240.3956072866</td>\n",
       "<td>2225279.3631645404</td>\n",
       "<td>12371.896</td>\n",
       "<td>117.276</td>\n",
       "<td>117.276</td>\n",
       "<td>385.435</td>\n",
       "<td>386.284</td>\n",
       "<td>179</td>\n",
       "<td>4.333888172474786e-05</td>\n",
       "<td>0.6806083650190115</td>\n",
       "<td>1338155.99</td>\n",
       "<td>100</td>\n",
       "<td>0.00013376616877080227</td>\n",
       "<td>1.79</td>\n",
       "<td>32621788764.966835</td>\n",
       "<td>60382738.33164469</td>\n",
       "<td>7898.2784633218225</td>\n",
       "<td>24378.165930391147</td>\n",
       "<td>326217887.64966834</td>\n",
       "<td>861.9609</td></tr><tr><td>864691135103979085</td>\n",
       "<td>0</td>\n",
       "<td>0.25</td>\n",
       "<td>30.00</td>\n",
       "<td>0</td>\n",
       "<td>0</td>\n",
       "<td>1</td>\n",
       "<td>=BLOB=</td>\n",
       "<td>1028597</td>\n",
       "<td>2091731</td>\n",
       "<td>0</td>\n",
       "<td>1</td>\n",
       "<td>1</td>\n",
       "<td>1</td>\n",
       "<td>3</td>\n",
       "<td>14</td>\n",
       "<td>453</td>\n",
       "<td>264</td>\n",
       "<td>12165978.64806709</td>\n",
       "<td>6502182.867650075</td>\n",
       "<td>17482.581</td>\n",
       "<td>84.688</td>\n",
       "<td>84.688</td>\n",
       "<td>365.144</td>\n",
       "<td>332.104</td>\n",
       "<td>2456</td>\n",
       "<td>0.000201874429591425</td>\n",
       "<td>5.421633554083885</td>\n",
       "<td>5000053.037</td>\n",
       "<td>141</td>\n",
       "<td>0.0004911947897003878</td>\n",
       "<td>17.418</td>\n",
       "<td>436095055114.1911</td>\n",
       "<td>85891281.55957031</td>\n",
       "<td>35845.456229160576</td>\n",
       "<td>87218.08586571421</td>\n",
       "<td>3092872731.3063197</td>\n",
       "<td>8295.9475</td> </tr> </tbody>\n",
       "            </table>\n",
       "            <p>...</p>\n",
       "            <p>Total: 48</p></div>\n",
       "            "
      ],
      "text/plain": [
       "*segment_id    *decimation_ve *decimation_ra *ver      *process_versi *index    multiplicity   decomposit n_vertices     n_faces     n_not_processe n_error_limbs  n_same_soma_mu n_multi_soma_t n_somas     n_limbs     n_branches     max_limb_n_bra skeletal_lengt max_limb_skele median_branch_ width_median   width_no_spine width_90_perc  width_no_spine n_spines     spine_density  spines_per_bra skeletal_lengt n_spine_eligib spine_density_ spines_per_bra total_spine_vo spine_volume_m spine_volume_d spine_volume_d spine_volume_p run_time     \n",
       "+------------+ +------------+ +------------+ +-------+ +------------+ +-------+ +------------+ +--------+ +------------+ +---------+ +------------+ +------------+ +------------+ +------------+ +---------+ +---------+ +------------+ +------------+ +------------+ +------------+ +------------+ +------------+ +------------+ +------------+ +------------+ +----------+ +------------+ +------------+ +------------+ +------------+ +------------+ +------------+ +------------+ +------------+ +------------+ +------------+ +------------+ +-----------+\n",
       "86469113488476 0              0.25           30.00     0              0         1              =BLOB=     1528011        3078802     0              7              5              2              3           20          421            129            15358033.81809 6359831.284514 19558.966      117.674        117.674        462.331        428.373        3853         0.000250878468 9.152019002375 8180017.673    186            0.000471025877 20.715         818307027581.6 118226275.5446 53282.01755991 100037.3178022 4399500148.288 8443.518     \n",
       "86469113488478 0              0.25           30.00     0              0         1              =BLOB=     681209         1398786     0              3              2              2              3           11          233            92             7885636.264830 3525507.892800 19971.03       103.952        103.952        473.694        441.382        1882         0.000238661781 8.077253218884 3342305.966    105            0.000563084295 17.924         351748824256.1 93978369.95831 44606.27049524 105241.3596583 3349988802.439 3003.3271    \n",
       "86469113494744 0              0.25           30.00     0              0         1              =BLOB=     1533949        3083820     0              4              2              3              3           15          407            121            14551799.14592 5257863.902275 19777.187      255.851        240.266        531.752        513.253        6264         0.000430462236 15.39066339066 10084186.037   265            0.000621170610 23.638         984943846476.0 73484385.19085 67685.36567876 97672.12176194 3716769231.984 7167.7807    \n",
       "86469113496442 0              0.25           30.00     0              0         1              =BLOB=     963882         1956436     0              3              0              3              3           20          255            43             9501773.837251 2031206.917692 24472.749      233.081        227.948        487.938        461.487        3659         0.000385085991 14.34901960784 7181599.939    165            0.000509496495 22.176         531987450744.6 84445028.24019 55988.22492059 74076.45305549 3224166368.149 4064.355     \n",
       "86469113501236 0              0.25           30.00     0              0         1              =BLOB=     1136515        2273230     0              2              1              2              3           18          476            310            16637504.66771 9720047.043807 24658.452      95.525         95.525         310.964        297.902        2129         0.000127963900 4.472689075630 7296919.847    152            0.000291766943 14.007         336279375060.5 72137347.02216 20212.12806707 46085.11291224 2212364309.609 6327.7209    \n",
       "86469113501243 0              0.25           30.00     0              0         1              =BLOB=     765481         1579185     0              1              1              1              3           3           215            195            7716296.078214 7238487.403902 21206.537      118.186        118.186        500.93         459.962        2373         0.000307530967 11.03720930232 4359935.448    97             0.000544274113 24.464         488861423562.4 97577068.05332 63354.41494301 112125.8397957 5039808490.334 2420.7647    \n",
       "86469113501248 0              0.25           30.00     0              0         1              =BLOB=     1408480        2828519     0              1              1              1              3           16          352            155            11396675.53787 5224069.955076 16695.481      302.031        266.063        518.322        478.981        6619         0.000580783402 18.80397727272 9639053.404    270            0.000686685686 24.515         1261053044101. 101418490.8582 110650.9560538 130827.4776834 4670566830.005 9564.4742    \n",
       "86469113505856 0              0.25           30.00     0              0         1              =BLOB=     889381         1795477     0              2              0              2              3           17          235            102            9185818.723539 2474141.416315 23732.356      98.383         98.383         463.285        423.107        3173         0.000345423755 13.50212765957 5700509.959    99             0.000556616868 32.051         476192185094.5 86719273.93997 51839.92841860 83535.01502839 4810022071.662 3899.1818    \n",
       "86469113508030 0              0.25           30.00     0              0         1              =BLOB=     137838         282536      0              3              2              2              3           5           14             8              189554.2189738 130564.1111033 9821.523       126.371        126.371        1264.235       1249.975       7            3.692874808006 0.5            42461.404      5              0.000164855594 1.4            386299027.9532 16375354.24167 2037.934212408 9097.650844358 77259805.59064 156.33       \n",
       "86469113508962 0              0.25           30.00     0              0         1              =BLOB=     247148         504695      0              3              3              2              4           4           25             14             181128.9029577 128626.6633357 6541.313       91.733         91.733         218.253        218.253        11           6.073023035184 0.44           27866.182      4              0.000394743707 2.75           1627672915.550 117624528.5666 8986.268281709 58410.33104391 406918228.8875 149.7875     \n",
       "86469113509907 0              0.25           30.00     0              0         1              =BLOB=     442459         887878      1              4              3              3              4           12          263            144            4130240.395607 2225279.363164 12371.896      117.276        117.276        385.435        386.284        179          4.333888172474 0.680608365019 1338155.99     100            0.000133766168 1.79           32621788764.96 60382738.33164 7898.278463321 24378.16593039 326217887.6496 861.9609     \n",
       "86469113510397 0              0.25           30.00     0              0         1              =BLOB=     1028597        2091731     0              1              1              1              3           14          453            264            12165978.64806 6502182.867650 17482.581      84.688         84.688         365.144        332.104        2456         0.000201874429 5.421633554083 5000053.037    141            0.000491194789 17.418         436095055114.1 85891281.55957 35845.45622916 87218.08586571 3092872731.306 8295.9475    \n",
       "   ...\n",
       " (Total: 48)"
      ]
     },
     "execution_count": 79,
     "metadata": {},
     "output_type": "execute_result"
    }
   ],
   "source": [
    "minnie.Decomposition() & \"n_somas > 2\""
   ]
  },
  {
   "cell_type": "code",
   "execution_count": 11,
   "metadata": {},
   "outputs": [
    {
     "name": "stdout",
     "output_type": "stream",
     "text": [
      "`microns_minnie65_02`.`__decomposition` (121 tuples)\n",
      "Proceed? [yes, No]: yes\n"
     ]
    },
    {
     "name": "stderr",
     "output_type": "stream",
     "text": [
      "INFO - 2021-01-14 05:02:55,202 - table - Dropped table `microns_minnie65_02`.`__decomposition`\n"
     ]
    },
    {
     "name": "stdout",
     "output_type": "stream",
     "text": [
      "Tables dropped.  Restart kernel.\n"
     ]
    }
   ],
   "source": [
    "# minnie.Decomposition.drop()\n",
    "# schema.external['decomposition'].delete(delete_external_files=True)"
   ]
  },
  {
   "cell_type": "code",
   "execution_count": 45,
   "metadata": {},
   "outputs": [],
   "source": [
    "from datajoint_utils import *"
   ]
  },
  {
   "cell_type": "code",
   "execution_count": null,
   "metadata": {},
   "outputs": [],
   "source": [
    "(minnie.Decomposition() & \"n_somas>1\") & (minnie.NeuronGliaNuclei() & \"n_glia_faces>0\")"
   ]
  },
  {
   "cell_type": "code",
   "execution_count": null,
   "metadata": {},
   "outputs": [],
   "source": [
    "((schema.jobs & \"table_name='__decomposition'\") & \"status='error'\")#.delete()"
   ]
  },
  {
   "cell_type": "code",
   "execution_count": 252,
   "metadata": {},
   "outputs": [
    {
     "data": {
      "text/plain": [
       "864691135526084699"
      ]
     },
     "execution_count": 252,
     "metadata": {},
     "output_type": "execute_result"
    }
   ],
   "source": [
    "curr_segment_id = seg_ids_non_soma[-50]\n",
    "curr_segment_id"
   ]
  },
  {
   "cell_type": "code",
   "execution_count": 258,
   "metadata": {},
   "outputs": [
    {
     "data": {
      "text/html": [
       "\n",
       "        \n",
       "        <style type=\"text/css\">\n",
       "            .Relation{\n",
       "                border-collapse:collapse;\n",
       "            }\n",
       "            .Relation th{\n",
       "                background: #A0A0A0; color: #ffffff; padding:4px; border:#f0e0e0 1px solid;\n",
       "                font-weight: normal; font-family: monospace; font-size: 100%;\n",
       "            }\n",
       "            .Relation td{\n",
       "                padding:4px; border:#f0e0e0 1px solid; font-size:100%;\n",
       "            }\n",
       "            .Relation tr:nth-child(odd){\n",
       "                background: #ffffff;\n",
       "            }\n",
       "            .Relation tr:nth-child(even){\n",
       "                background: #f3f1ff;\n",
       "            }\n",
       "            /* Tooltip container */\n",
       "            .djtooltip {\n",
       "            }\n",
       "            /* Tooltip text */\n",
       "            .djtooltip .djtooltiptext {\n",
       "                visibility: hidden;\n",
       "                width: 120px;\n",
       "                background-color: black;\n",
       "                color: #fff;\n",
       "                text-align: center;\n",
       "                padding: 5px 0;\n",
       "                border-radius: 6px;\n",
       "                /* Position the tooltip text - see examples below! */\n",
       "                position: absolute;\n",
       "                z-index: 1;\n",
       "            }\n",
       "            #primary {\n",
       "                font-weight: bold;\n",
       "                color: black;\n",
       "            }\n",
       "\n",
       "            #nonprimary {\n",
       "                font-weight: normal;\n",
       "                color: white;\n",
       "            }\n",
       "\n",
       "            /* Show the tooltip text when you mouse over the tooltip container */\n",
       "            .djtooltip:hover .djtooltiptext {\n",
       "                visibility: visible;\n",
       "            }\n",
       "        </style>\n",
       "        \n",
       "        <b></b>\n",
       "            <div style=\"max-height:1000px;max-width:1500px;overflow:auto;\">\n",
       "            <table border=\"1\" class=\"Relation\">\n",
       "                <thead> <tr style=\"text-align: right;\"> <th> <div class=\"djtooltip\">\n",
       "                                <p id=\"primary\">segment_id</p>\n",
       "                                <span class=\"djtooltiptext\">segment id unique within each Segmentation</span>\n",
       "                            </div></th><th><div class=\"djtooltip\">\n",
       "                                <p id=\"primary\">decimation_version</p>\n",
       "                                <span class=\"djtooltiptext\"></span>\n",
       "                            </div></th><th><div class=\"djtooltip\">\n",
       "                                <p id=\"primary\">decimation_ratio</p>\n",
       "                                <span class=\"djtooltiptext\">ratio of remaining mesh vertices/faces (which ones depends on what metric the decimation technique uses)</span>\n",
       "                            </div></th><th><div class=\"djtooltip\">\n",
       "                                <p id=\"primary\">ver</p>\n",
       "                                <span class=\"djtooltiptext\">the version number of the materializaiton</span>\n",
       "                            </div></th><th><div class=\"djtooltip\">\n",
       "                                <p id=\"nonprimary\">n_glia_faces</p>\n",
       "                                <span class=\"djtooltiptext\">The number of faces that were saved off as belonging to glia</span>\n",
       "                            </div></th><th><div class=\"djtooltip\">\n",
       "                                <p id=\"nonprimary\">glia_faces</p>\n",
       "                                <span class=\"djtooltiptext\">faces indices that were saved off as belonging to glia (external storage)</span>\n",
       "                            </div></th><th><div class=\"djtooltip\">\n",
       "                                <p id=\"nonprimary\">n_nuclei_faces</p>\n",
       "                                <span class=\"djtooltiptext\">The number of faces that were saved off as belonging to nuclie</span>\n",
       "                            </div></th><th><div class=\"djtooltip\">\n",
       "                                <p id=\"nonprimary\">nuclei_faces</p>\n",
       "                                <span class=\"djtooltiptext\">faces indices that were saved off as belonging to nuclei (external storage)</span>\n",
       "                            </div> </th> </tr> </thead>\n",
       "                <tbody> <tr> <td>864691135526084699</td>\n",
       "<td>0</td>\n",
       "<td>0.25</td>\n",
       "<td>30.00</td>\n",
       "<td>2900725</td>\n",
       "<td>=BLOB=</td>\n",
       "<td>66589</td>\n",
       "<td>=BLOB=</td> </tr> </tbody>\n",
       "            </table>\n",
       "            \n",
       "            <p>Total: 1</p></div>\n",
       "            "
      ],
      "text/plain": [
       "*segment_id    *decimation_ve *decimation_ra *ver      n_glia_faces   glia_faces n_nuclei_faces nuclei_fac\n",
       "+------------+ +------------+ +------------+ +-------+ +------------+ +--------+ +------------+ +--------+\n",
       "86469113552608 0              0.25           30.00     2900725        =BLOB=     66589          =BLOB=    \n",
       " (Total: 1)"
      ]
     },
     "execution_count": 258,
     "metadata": {},
     "output_type": "execute_result"
    }
   ],
   "source": [
    "minnie.NeuronGliaNuclei() & dict(segment_id=curr_segment_id)"
   ]
  },
  {
   "cell_type": "code",
   "execution_count": 254,
   "metadata": {},
   "outputs": [
    {
     "name": "stdout",
     "output_type": "stream",
     "text": [
      "Decompressing Neuron in minimal output mode...please wait\n"
     ]
    }
   ],
   "source": [
    "neuron_obj = (minnie.Decomposition & dict(segment_id=curr_segment_id)).fetch1(\"decomposition\")"
   ]
  },
  {
   "cell_type": "code",
   "execution_count": 255,
   "metadata": {},
   "outputs": [],
   "source": [
    "import neuron_visualizations as nviz"
   ]
  },
  {
   "cell_type": "code",
   "execution_count": 256,
   "metadata": {},
   "outputs": [
    {
     "data": {
      "text/plain": [
       "[[<trimesh.Trimesh(vertices.shape=(25861, 3), faces.shape=(51199, 3))>,\n",
       "  <trimesh.Trimesh(vertices.shape=(18119, 3), faces.shape=(41623, 3))>,\n",
       "  <trimesh.Trimesh(vertices.shape=(6525, 3), faces.shape=(12586, 3))>],\n",
       " array([1212.7993, 1212.7993, 1212.7993]),\n",
       " array([0.664, 0.607, 0.763])]"
      ]
     },
     "execution_count": 256,
     "metadata": {},
     "output_type": "execute_result"
    }
   ],
   "source": [
    "curr_somas = du.get_soma_mesh_list(curr_segment_id)\n",
    "curr_somas"
   ]
  },
  {
   "cell_type": "code",
   "execution_count": 260,
   "metadata": {},
   "outputs": [
    {
     "data": {
      "text/plain": [
       "864691135526084699"
      ]
     },
     "execution_count": 260,
     "metadata": {},
     "output_type": "execute_result"
    }
   ],
   "source": [
    "neuron_obj.segment_id"
   ]
  },
  {
   "cell_type": "code",
   "execution_count": 257,
   "metadata": {},
   "outputs": [
    {
     "data": {
      "application/vnd.jupyter.widget-view+json": {
       "model_id": "68a885834dbb410ab2b71da7421a15a0",
       "version_major": 2,
       "version_minor": 0
      },
      "text/plain": [
       "VBox(children=(Figure(camera=PerspectiveCamera(fov=46.0, position=(0.0, 0.0, 2.0), quaternion=(0.0, 0.0, 0.0, …"
      ]
     },
     "metadata": {},
     "output_type": "display_data"
    }
   ],
   "source": [
    "nviz.plot_objects(neuron_obj.not_processed_soma_containing_meshes[0],\n",
    "                  meshes=curr_somas[0],\n",
    "                 meshes_colors=\"red\")"
   ]
  },
  {
   "cell_type": "code",
   "execution_count": 259,
   "metadata": {},
   "outputs": [],
   "source": [
    "import trimesh_utils as tu"
   ]
  },
  {
   "cell_type": "code",
   "execution_count": null,
   "metadata": {},
   "outputs": [],
   "source": [
    "tu.combine_meshes"
   ]
  },
  {
   "cell_type": "code",
   "execution_count": 251,
   "metadata": {},
   "outputs": [
    {
     "name": "stdout",
     "output_type": "stream",
     "text": [
      "\n",
      " Working on visualization type: mesh\n"
     ]
    },
    {
     "data": {
      "application/vnd.jupyter.widget-view+json": {
       "model_id": "57226617dd5a402b9980349eb929e8ad",
       "version_major": 2,
       "version_minor": 0
      },
      "text/plain": [
       "VBox(children=(Figure(camera=PerspectiveCamera(fov=46.0, position=(0.0, 0.0, 2.0), quaternion=(0.0, 0.0, 0.0, …"
      ]
     },
     "metadata": {},
     "output_type": "display_data"
    }
   ],
   "source": [
    "nviz.visualize_neuron(neuron_obj,\n",
    "                      visualize_type=[\"mesh\"],\n",
    "                     limb_branch_dict=\"all\")"
   ]
  },
  {
   "cell_type": "code",
   "execution_count": null,
   "metadata": {},
   "outputs": [],
   "source": [
    "import proofreading_utils as pru"
   ]
  },
  {
   "cell_type": "code",
   "execution_count": null,
   "metadata": {
    "scrolled": true
   },
   "outputs": [],
   "source": [
    "limb_results = pru.multi_soma_split_suggestions(neuron_obj)"
   ]
  },
  {
   "cell_type": "code",
   "execution_count": null,
   "metadata": {},
   "outputs": [],
   "source": [
    "seperated_neurons_list= pru.split_neuron(neuron_obj = neuron_obj,\n",
    "                limb_results=limb_results,\n",
    "                plot_seperated_neurons=True)"
   ]
  },
  {
   "cell_type": "code",
   "execution_count": null,
   "metadata": {},
   "outputs": [],
   "source": [
    "curr_limb = seperated_neurons_list[0][0]"
   ]
  },
  {
   "cell_type": "code",
   "execution_count": null,
   "metadata": {},
   "outputs": [],
   "source": [
    "curr_limb.get_branch_names()"
   ]
  },
  {
   "cell_type": "code",
   "execution_count": null,
   "metadata": {},
   "outputs": [],
   "source": [
    "nviz.plot_soma_limb_concept_network(neuron_obj)"
   ]
  },
  {
   "cell_type": "code",
   "execution_count": null,
   "metadata": {},
   "outputs": [],
   "source": [
    "curr_limb = neuron_obj[0]"
   ]
  },
  {
   "cell_type": "code",
   "execution_count": null,
   "metadata": {},
   "outputs": [],
   "source": [
    " (74,61)"
   ]
  },
  {
   "cell_type": "code",
   "execution_count": null,
   "metadata": {},
   "outputs": [],
   "source": [
    "import networkx as nx\n",
    "nx.shortest_path(curr_limb.concept_network,74,61)"
   ]
  },
  {
   "cell_type": "code",
   "execution_count": null,
   "metadata": {},
   "outputs": [],
   "source": [
    "import neuron_utils as nru"
   ]
  },
  {
   "cell_type": "code",
   "execution_count": null,
   "metadata": {
    "scrolled": true
   },
   "outputs": [],
   "source": [
    "points_to_show = nru.skeleton_points_along_path(curr_limb,branch_path=[74, 73, 36, 34, 28, 21, 32, 41, 54, 55, 58, 61],\n",
    "                              skeletal_distance_per_coordinate = 5000)\n",
    "points_to_show"
   ]
  },
  {
   "cell_type": "code",
   "execution_count": null,
   "metadata": {},
   "outputs": [],
   "source": [
    "nviz.plot_objects(skeletons=[curr_limb.skeleton],\n",
    "                 meshes=[neuron_obj[\"S0\"].mesh,neuron_obj[\"S1\"].mesh],\n",
    "                 scatters=[points_to_show])"
   ]
  },
  {
   "cell_type": "code",
   "execution_count": null,
   "metadata": {
    "scrolled": true
   },
   "outputs": [],
   "source": [
    "nviz.visualize_neuron(neuron_obj,\n",
    "                     visualize_type=[\"mesh\",\"skeleton\"],\n",
    "                     limb_branch_dict=dict(),\n",
    "                     mesh_whole_neuron=True,\n",
    "                      subtract_glia=False\n",
    "                     )"
   ]
  },
  {
   "cell_type": "code",
   "execution_count": null,
   "metadata": {
    "scrolled": true
   },
   "outputs": [],
   "source": [
    "import neuron_visualizations as nviz\n",
    "nviz.visualize_neuron(neuron_obj,\n",
    "                     visualize_type=[\"mesh\",\"skeleton\"],\n",
    "                     limb_branch_dict=\"all\",\n",
    "                     mesh_whole_neuron=True,\n",
    "                     subtract_glia=True)"
   ]
  },
  {
   "cell_type": "code",
   "execution_count": null,
   "metadata": {},
   "outputs": [],
   "source": [
    "nviz.plot_soma_limb_concept_network(neuron_obj)"
   ]
  },
  {
   "cell_type": "code",
   "execution_count": null,
   "metadata": {},
   "outputs": [],
   "source": [
    "pru.split_info_to_neuroglancer_link(segment_id=neuron_obj.segment_id,\n",
    "                                   split_info=limb_results,\n",
    "                                   output_type='server')"
   ]
  },
  {
   "cell_type": "markdown",
   "metadata": {},
   "source": [
    "# Inspecting Split Suggestions"
   ]
  },
  {
   "cell_type": "code",
   "execution_count": 9,
   "metadata": {},
   "outputs": [
    {
     "name": "stdout",
     "output_type": "stream",
     "text": [
      "`microns_minnie65_02`.`__neuron_split_suggestions` (107 tuples)\n",
      "Proceed? [yes, No]: yes\n"
     ]
    },
    {
     "name": "stderr",
     "output_type": "stream",
     "text": [
      "INFO - 2021-01-14 05:02:11,151 - table - Dropped table `microns_minnie65_02`.`__neuron_split_suggestions`\n"
     ]
    },
    {
     "name": "stdout",
     "output_type": "stream",
     "text": [
      "Tables dropped.  Restart kernel.\n"
     ]
    }
   ],
   "source": [
    "#minnie.NeuronSplitSuggestions.drop()"
   ]
  },
  {
   "cell_type": "code",
   "execution_count": null,
   "metadata": {},
   "outputs": [],
   "source": [
    "minnie,schema = du.configure_minnie_vm()"
   ]
  },
  {
   "cell_type": "code",
   "execution_count": null,
   "metadata": {},
   "outputs": [],
   "source": [
    "minnie.NeuronSplitSuggestions() & \"segment_id=864691135847950686\""
   ]
  },
  {
   "cell_type": "code",
   "execution_count": null,
   "metadata": {},
   "outputs": [],
   "source": [
    "(schema.jobs & \"table_name='__neuron_split_suggestions'\")# & \"status='error'\""
   ]
  },
  {
   "cell_type": "code",
   "execution_count": null,
   "metadata": {},
   "outputs": [],
   "source": []
  },
  {
   "cell_type": "code",
   "execution_count": null,
   "metadata": {},
   "outputs": [],
   "source": [
    "limb_results = (minnie.NeuronSplitSuggestions() & dict(segment_id=864691135065033540)).fetch1(\"split_results\")"
   ]
  },
  {
   "cell_type": "code",
   "execution_count": null,
   "metadata": {},
   "outputs": [],
   "source": [
    "pru.split_info_to_neuroglancer_link(864691135065033540,split_info=limb_results,output_type=\"server\")"
   ]
  },
  {
   "cell_type": "code",
   "execution_count": 4,
   "metadata": {},
   "outputs": [
    {
     "data": {
      "application/vnd.jupyter.widget-view+json": {
       "model_id": "798cfaa5b4fe48adb9f8062e6212035e",
       "version_major": 2,
       "version_minor": 0
      },
      "text/plain": [
       "HBox(children=(FloatProgress(value=0.0, max=107.0), HTML(value='')))"
      ]
     },
     "metadata": {},
     "output_type": "display_data"
    },
    {
     "name": "stdout",
     "output_type": "stream",
     "text": [
      "segment_id = 864691134947393276\n",
      "segment_id = 864691135012471798\n",
      "segment_id = 864691135012571126\n",
      "segment_id = 864691135012905110\n",
      "segment_id = 864691135065018692\n",
      "segment_id = 864691135065024068\n",
      "segment_id = 864691135065032772\n",
      "segment_id = 864691135065033540\n",
      "segment_id = 864691135081745143\n",
      "segment_id = 864691135155574372\n",
      "segment_id = 864691135210051520\n",
      "segment_id = 864691135274155493\n",
      "segment_id = 864691135291777462\n",
      "segment_id = 864691135291788214\n",
      "segment_id = 864691135337764326\n",
      "segment_id = 864691135341171909\n",
      "segment_id = 864691135345134239\n",
      "segment_id = 864691135345274271\n",
      "segment_id = 864691135345276831\n",
      "segment_id = 864691135348374487\n",
      "segment_id = 864691135360133191\n",
      "segment_id = 864691135373423816\n",
      "segment_id = 864691135382504922\n",
      "segment_id = 864691135382996203\n",
      "segment_id = 864691135385192277\n",
      "segment_id = 864691135385207893\n",
      "segment_id = 864691135394014197\n",
      "segment_id = 864691135403709422\n",
      "segment_id = 864691135407333321\n",
      "segment_id = 864691135428492848\n",
      "segment_id = 864691135440515912\n",
      "segment_id = 864691135440585800\n",
      "segment_id = 864691135462292893\n",
      "segment_id = 864691135462301853\n",
      "segment_id = 864691135467600268\n",
      "segment_id = 864691135490263655\n",
      "segment_id = 864691135502075061\n",
      "segment_id = 864691135526113627\n",
      "segment_id = 864691135526114907\n",
      "segment_id = 864691135567752172\n",
      "segment_id = 864691135569052038\n",
      "segment_id = 864691135570745325\n",
      "segment_id = 864691135570745581\n",
      "segment_id = 864691135576925957\n",
      "segment_id = 864691135576999941\n",
      "segment_id = 864691135577002245\n",
      "segment_id = 864691135577031173\n",
      "segment_id = 864691135583739512\n",
      "segment_id = 864691135593563947\n",
      "segment_id = 864691135593565995\n",
      "segment_id = 864691135609459463\n",
      "segment_id = 864691135609477127\n",
      "segment_id = 864691135609490439\n",
      "segment_id = 864691135609493511\n",
      "segment_id = 864691135615814761\n",
      "segment_id = 864691135617814415\n",
      "segment_id = 864691135617824143\n",
      "segment_id = 864691135644583919\n",
      "segment_id = 864691135683949751\n",
      "segment_id = 864691135686909664\n",
      "segment_id = 864691135699307810\n",
      "segment_id = 864691135718447153\n",
      "segment_id = 864691135724299179\n",
      "segment_id = 864691135725648447\n",
      "segment_id = 864691135739628180\n",
      "segment_id = 864691135740250731\n",
      "segment_id = 864691135758492238\n",
      "segment_id = 864691135771720779\n",
      "segment_id = 864691135775809197\n",
      "segment_id = 864691135780852304\n",
      "segment_id = 864691135815468111\n",
      "segment_id = 864691135815508815\n",
      "segment_id = 864691135865528197\n",
      "segment_id = 864691135866433814\n",
      "segment_id = 864691135883918448\n",
      "segment_id = 864691135884014704\n",
      "segment_id = 864691135909747369\n",
      "segment_id = 864691135939303681\n",
      "segment_id = 864691135939679654\n",
      "segment_id = 864691135946672225\n",
      "segment_id = 864691135974471279\n",
      "segment_id = 864691136008433324\n",
      "segment_id = 864691136008495788\n",
      "segment_id = 864691136008500908\n",
      "segment_id = 864691136008595118\n",
      "segment_id = 864691136039382526\n",
      "segment_id = 864691136041004886\n",
      "segment_id = 864691136065225112\n",
      "segment_id = 864691136065514648\n",
      "segment_id = 864691136091147700\n",
      "segment_id = 864691136116159140\n",
      "segment_id = 864691136143425844\n",
      "segment_id = 864691136286605763\n",
      "segment_id = 864691136328919786\n",
      "segment_id = 864691136370837384\n",
      "segment_id = 864691136390485119\n",
      "segment_id = 864691136451095295\n",
      "segment_id = 864691136577503252\n",
      "segment_id = 864691136617159131\n",
      "segment_id = 864691136617172443\n",
      "segment_id = 864691136618586765\n",
      "segment_id = 864691136723421693\n",
      "segment_id = 864691136725960558\n",
      "segment_id = 864691136908675694\n",
      "segment_id = 864691136925391690\n",
      "segment_id = 864691136951653599\n",
      "segment_id = 864691137196956993\n",
      "\n"
     ]
    }
   ],
   "source": [
    "du.create_suggested_splits_neuroglancer_spreadsheet(output_filename='allen_spreadsheet_transparent_paths.csv',\n",
    "                                                   output_type=\"server\")"
   ]
  },
  {
   "cell_type": "code",
   "execution_count": null,
   "metadata": {},
   "outputs": [],
   "source": [
    "debug"
   ]
  },
  {
   "cell_type": "code",
   "execution_count": null,
   "metadata": {},
   "outputs": [],
   "source": [
    "neuron_obj.save_compressed_neuron?"
   ]
  },
  {
   "cell_type": "code",
   "execution_count": null,
   "metadata": {},
   "outputs": [],
   "source": [
    "import datajoint_utils as du"
   ]
  },
  {
   "cell_type": "code",
   "execution_count": null,
   "metadata": {},
   "outputs": [],
   "source": [
    "minnie,schema = du.configure_minnie_vm()"
   ]
  },
  {
   "cell_type": "code",
   "execution_count": null,
   "metadata": {},
   "outputs": [],
   "source": [
    "import datajoint_utils as du"
   ]
  },
  {
   "cell_type": "code",
   "execution_count": null,
   "metadata": {},
   "outputs": [],
   "source": []
  },
  {
   "cell_type": "code",
   "execution_count": null,
   "metadata": {},
   "outputs": [],
   "source": [
    "minnie.Decom"
   ]
  }
 ],
 "metadata": {
  "kernelspec": {
   "display_name": "Python 3",
   "language": "python",
   "name": "python3"
  },
  "language_info": {
   "codemirror_mode": {
    "name": "ipython",
    "version": 3
   },
   "file_extension": ".py",
   "mimetype": "text/x-python",
   "name": "python",
   "nbconvert_exporter": "python",
   "pygments_lexer": "ipython3",
   "version": "3.6.9"
  }
 },
 "nbformat": 4,
 "nbformat_minor": 4
}
