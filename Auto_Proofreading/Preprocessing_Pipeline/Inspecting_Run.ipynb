{
 "cells": [
  {
   "cell_type": "code",
   "execution_count": 1,
   "metadata": {},
   "outputs": [],
   "source": [
    "%load_ext autoreload\n",
    "%autoreload 2"
   ]
  },
  {
   "cell_type": "code",
   "execution_count": 2,
   "metadata": {},
   "outputs": [],
   "source": [
    "from os import sys\n",
    "sys.path.append(\"/meshAfterParty/\")"
   ]
  },
  {
   "cell_type": "code",
   "execution_count": 3,
   "metadata": {},
   "outputs": [
    {
     "name": "stderr",
     "output_type": "stream",
     "text": [
      "INFO - 2021-02-02 08:45:19,808 - settings - Setting database.host to at-database.ad.bcm.edu\n",
      "INFO - 2021-02-02 08:45:19,809 - settings - Setting database.user to celiib\n",
      "INFO - 2021-02-02 08:45:19,810 - settings - Setting database.password to newceliipass\n",
      "INFO - 2021-02-02 08:45:19,818 - settings - Setting stores to {'minnie65': {'protocol': 'file', 'location': '/mnt/dj-stor01/platinum/minnie65', 'stage': '/mnt/dj-stor01/platinum/minnie65'}, 'meshes': {'protocol': 'file', 'location': '/mnt/dj-stor01/platinum/minnie65/02/meshes', 'stage': '/mnt/dj-stor01/platinum/minnie65/02/meshes'}, 'decimated_meshes': {'protocol': 'file', 'location': '/mnt/dj-stor01/platinum/minnie65/02/decimated_meshes', 'stage': '/mnt/dj-stor01/platinum/minnie65/02/decimated_meshes'}, 'skeletons': {'protocol': 'file', 'location': '/mnt/dj-stor01/platinum/minnie65/02/skeletons'}}\n",
      "INFO - 2021-02-02 08:45:19,818 - settings - Setting enable_python_native_blobs to True\n",
      "INFO - 2021-02-02 08:45:19,831 - connection - Connected celiib@at-database.ad.bcm.edu:3306\n"
     ]
    },
    {
     "name": "stdout",
     "output_type": "stream",
     "text": [
      "Connecting celiib@at-database.ad.bcm.edu:3306\n"
     ]
    },
    {
     "name": "stderr",
     "output_type": "stream",
     "text": [
      "INFO - 2021-02-02 08:45:20,113 - settings - Setting enable_python_native_blobs to True\n"
     ]
    }
   ],
   "source": [
    "import datajoint_utils as du\n",
    "import datajoint as dj"
   ]
  },
  {
   "cell_type": "code",
   "execution_count": 4,
   "metadata": {},
   "outputs": [
    {
     "name": "stderr",
     "output_type": "stream",
     "text": [
      "INFO - 2021-02-02 08:45:20,189 - settings - Setting enable_python_native_blobs to True\n",
      "INFO - 2021-02-02 08:45:20,483 - settings - Setting enable_python_native_blobs to True\n"
     ]
    }
   ],
   "source": [
    "minnie,schema = du.configure_minnie_vm()"
   ]
  },
  {
   "cell_type": "markdown",
   "metadata": {},
   "source": [
    "# Inspecting Deimation"
   ]
  },
  {
   "cell_type": "code",
   "execution_count": null,
   "metadata": {},
   "outputs": [],
   "source": [
    "# the keysource used\n",
    "key_source = minnie.NucleiSegmentsRun2 - (minnie.Decimation() & dict(decimation_ratio=decimation_ratio_global)).proj()"
   ]
  },
  {
   "cell_type": "code",
   "execution_count": null,
   "metadata": {},
   "outputs": [],
   "source": [
    "len(minnie.NucleiSegmentsRun2())"
   ]
  },
  {
   "cell_type": "code",
   "execution_count": null,
   "metadata": {},
   "outputs": [],
   "source": [
    "len(minnie.Decimation() & \"decimation_ratio=0.25\" & minnie.NucleiSegmentsRun2())"
   ]
  },
  {
   "cell_type": "markdown",
   "metadata": {},
   "source": [
    "# Inspecting Baylor Soma"
   ]
  },
  {
   "cell_type": "code",
   "execution_count": null,
   "metadata": {},
   "outputs": [],
   "source": [
    "len(dj.U(\"segment_id\") & minnie.BaylorSegmentCentroid())"
   ]
  },
  {
   "cell_type": "code",
   "execution_count": null,
   "metadata": {},
   "outputs": [],
   "source": [
    "decimation_version = 0\n",
    "decimation_ratio = 0.25\n",
    "verts_min = 10000\n",
    "current_version = 30\n",
    "\n",
    "key_source =  (((minnie.Decimation & f\"n_vertices > {verts_min}\").proj(decimation_version='version') & \n",
    "                            \"decimation_version=\" + str(decimation_version) &\n",
    "                       f\"decimation_ratio={decimation_ratio}\") & (dj.U(\"segment_id\") & minnie.NucleiSegmentsRun2()))\n",
    "                                                                 \n",
    "     \n",
    "key_source"
   ]
  },
  {
   "cell_type": "code",
   "execution_count": null,
   "metadata": {},
   "outputs": [],
   "source": [
    "segment_id = 864691135771738699"
   ]
  },
  {
   "cell_type": "code",
   "execution_count": null,
   "metadata": {},
   "outputs": [],
   "source": [
    "minnie.NeuronGliaNuclei() & dict(segment_id=segment_id)"
   ]
  },
  {
   "cell_type": "code",
   "execution_count": null,
   "metadata": {},
   "outputs": [],
   "source": [
    "minnie.BaylorSegmentCentroid()  & dict(segment_id=segment_id)"
   ]
  },
  {
   "cell_type": "code",
   "execution_count": null,
   "metadata": {},
   "outputs": [],
   "source": [
    "minnie.Decimation() & key_source #& \"n_faces>8000000\""
   ]
  },
  {
   "cell_type": "code",
   "execution_count": null,
   "metadata": {},
   "outputs": [],
   "source": [
    "(curr_table & \"key_hash='035e97d66228b147435ed67c87a7f29d'\").fetch1(\"key\")"
   ]
  },
  {
   "cell_type": "code",
   "execution_count": null,
   "metadata": {},
   "outputs": [],
   "source": [
    "curr_table = (schema.jobs & \"table_name='__baylor_segment_centroid'\")\n",
    "curr_table"
   ]
  },
  {
   "cell_type": "markdown",
   "metadata": {},
   "source": [
    "# Checking multi-somas"
   ]
  },
  {
   "cell_type": "code",
   "execution_count": null,
   "metadata": {},
   "outputs": [],
   "source": [
    "one_soma_segment_ids = (dj.U(\"segment_id\") & (minnie.BaylorSegmentCentroid() & \"multiplicity = 1\")).fetch(\"segment_id\")\n",
    "one_soma_segment_ids"
   ]
  },
  {
   "cell_type": "code",
   "execution_count": null,
   "metadata": {},
   "outputs": [],
   "source": [
    "n_faces = (minnie.BaylorSegmentCentroid() & \"multiplicity = 1\").fetch(\"n_faces\")"
   ]
  },
  {
   "cell_type": "code",
   "execution_count": null,
   "metadata": {},
   "outputs": [],
   "source": [
    "from matplotlib import pyplot as plt\n",
    "_ = plt.hist(n_faces,bins=100)"
   ]
  },
  {
   "cell_type": "code",
   "execution_count": null,
   "metadata": {},
   "outputs": [],
   "source": [
    " small_soma_ids = (minnie.BaylorSegmentCentroid() & \"multiplicity = 1\" & \"n_faces<20000\").fetch(\"segment_id\")"
   ]
  },
  {
   "cell_type": "code",
   "execution_count": null,
   "metadata": {},
   "outputs": [],
   "source": [
    "du.plot_decimated_mesh_with_somas(small_soma_ids[-101])"
   ]
  },
  {
   "cell_type": "code",
   "execution_count": null,
   "metadata": {},
   "outputs": [],
   "source": [
    "# Doing the bigger somas\n",
    "\n",
    "big_soma_ids = (minnie.BaylorSegmentCentroid() & \"multiplicity = 1\" & \"n_faces>60000\").fetch(\"segment_id\")\n",
    "big_soma_ids.shape"
   ]
  },
  {
   "cell_type": "code",
   "execution_count": null,
   "metadata": {},
   "outputs": [],
   "source": [
    "du.plot_decimated_mesh_with_somas(big_soma_ids[-4])"
   ]
  },
  {
   "cell_type": "code",
   "execution_count": null,
   "metadata": {},
   "outputs": [],
   "source": []
  },
  {
   "cell_type": "markdown",
   "metadata": {},
   "source": [
    "# Inspecting Decomposition"
   ]
  },
  {
   "cell_type": "code",
   "execution_count": 15,
   "metadata": {},
   "outputs": [
    {
     "data": {
      "text/html": [
       "\n",
       "        \n",
       "        <style type=\"text/css\">\n",
       "            .Relation{\n",
       "                border-collapse:collapse;\n",
       "            }\n",
       "            .Relation th{\n",
       "                background: #A0A0A0; color: #ffffff; padding:4px; border:#f0e0e0 1px solid;\n",
       "                font-weight: normal; font-family: monospace; font-size: 100%;\n",
       "            }\n",
       "            .Relation td{\n",
       "                padding:4px; border:#f0e0e0 1px solid; font-size:100%;\n",
       "            }\n",
       "            .Relation tr:nth-child(odd){\n",
       "                background: #ffffff;\n",
       "            }\n",
       "            .Relation tr:nth-child(even){\n",
       "                background: #f3f1ff;\n",
       "            }\n",
       "            /* Tooltip container */\n",
       "            .djtooltip {\n",
       "            }\n",
       "            /* Tooltip text */\n",
       "            .djtooltip .djtooltiptext {\n",
       "                visibility: hidden;\n",
       "                width: 120px;\n",
       "                background-color: black;\n",
       "                color: #fff;\n",
       "                text-align: center;\n",
       "                padding: 5px 0;\n",
       "                border-radius: 6px;\n",
       "                /* Position the tooltip text - see examples below! */\n",
       "                position: absolute;\n",
       "                z-index: 1;\n",
       "            }\n",
       "            #primary {\n",
       "                font-weight: bold;\n",
       "                color: black;\n",
       "            }\n",
       "\n",
       "            #nonprimary {\n",
       "                font-weight: normal;\n",
       "                color: white;\n",
       "            }\n",
       "\n",
       "            /* Show the tooltip text when you mouse over the tooltip container */\n",
       "            .djtooltip:hover .djtooltiptext {\n",
       "                visibility: visible;\n",
       "            }\n",
       "        </style>\n",
       "        \n",
       "        <b></b>\n",
       "            <div style=\"max-height:1000px;max-width:1500px;overflow:auto;\">\n",
       "            <table border=\"1\" class=\"Relation\">\n",
       "                <thead> <tr style=\"text-align: right;\"> <th> <div class=\"djtooltip\">\n",
       "                                <p id=\"primary\">segment_id</p>\n",
       "                                <span class=\"djtooltiptext\">segment id unique within each Segmentation</span>\n",
       "                            </div></th><th><div class=\"djtooltip\">\n",
       "                                <p id=\"primary\">decimation_version</p>\n",
       "                                <span class=\"djtooltiptext\"></span>\n",
       "                            </div></th><th><div class=\"djtooltip\">\n",
       "                                <p id=\"primary\">decimation_ratio</p>\n",
       "                                <span class=\"djtooltiptext\">ratio of remaining mesh vertices/faces (which ones depends on what metric the decimation technique uses)</span>\n",
       "                            </div></th><th><div class=\"djtooltip\">\n",
       "                                <p id=\"primary\">ver</p>\n",
       "                                <span class=\"djtooltiptext\">the version number of the materializaiton</span>\n",
       "                            </div></th><th><div class=\"djtooltip\">\n",
       "                                <p id=\"primary\">process_version</p>\n",
       "                                <span class=\"djtooltiptext\">the version of the preprocessing pipeline run</span>\n",
       "                            </div></th><th><div class=\"djtooltip\">\n",
       "                                <p id=\"primary\">index</p>\n",
       "                                <span class=\"djtooltiptext\">the index of the neuron object that resulted from that mesh (indexed starting at 0)</span>\n",
       "                            </div></th><th><div class=\"djtooltip\">\n",
       "                                <p id=\"nonprimary\">multiplicity</p>\n",
       "                                <span class=\"djtooltiptext\">the number of somas found for this base segment</span>\n",
       "                            </div></th><th><div class=\"djtooltip\">\n",
       "                                <p id=\"nonprimary\">decomposition</p>\n",
       "                                <span class=\"djtooltiptext\"></span>\n",
       "                            </div></th><th><div class=\"djtooltip\">\n",
       "                                <p id=\"nonprimary\">n_vertices</p>\n",
       "                                <span class=\"djtooltiptext\">number of vertices</span>\n",
       "                            </div></th><th><div class=\"djtooltip\">\n",
       "                                <p id=\"nonprimary\">n_faces</p>\n",
       "                                <span class=\"djtooltiptext\">number of faces</span>\n",
       "                            </div></th><th><div class=\"djtooltip\">\n",
       "                                <p id=\"nonprimary\">n_not_processed_soma_containing_meshes</p>\n",
       "                                <span class=\"djtooltiptext\">the number of meshes with somas that were not processed</span>\n",
       "                            </div></th><th><div class=\"djtooltip\">\n",
       "                                <p id=\"nonprimary\">n_error_limbs</p>\n",
       "                                <span class=\"djtooltiptext\">the number of limbs that are touching multiple somas or 1 soma in multiple places</span>\n",
       "                            </div></th><th><div class=\"djtooltip\">\n",
       "                                <p id=\"nonprimary\">n_same_soma_multi_touching_limbs</p>\n",
       "                                <span class=\"djtooltiptext\">number of limbs that touch the same soma multiple times</span>\n",
       "                            </div></th><th><div class=\"djtooltip\">\n",
       "                                <p id=\"nonprimary\">n_multi_soma_touching_limbs</p>\n",
       "                                <span class=\"djtooltiptext\">number of limbs that touch multiple somas</span>\n",
       "                            </div></th><th><div class=\"djtooltip\">\n",
       "                                <p id=\"nonprimary\">n_somas</p>\n",
       "                                <span class=\"djtooltiptext\">number of soma meshes detected</span>\n",
       "                            </div></th><th><div class=\"djtooltip\">\n",
       "                                <p id=\"nonprimary\">n_limbs</p>\n",
       "                                <span class=\"djtooltiptext\"></span>\n",
       "                            </div></th><th><div class=\"djtooltip\">\n",
       "                                <p id=\"nonprimary\">n_branches</p>\n",
       "                                <span class=\"djtooltiptext\"></span>\n",
       "                            </div></th><th><div class=\"djtooltip\">\n",
       "                                <p id=\"nonprimary\">max_limb_n_branches</p>\n",
       "                                <span class=\"djtooltiptext\"></span>\n",
       "                            </div></th><th><div class=\"djtooltip\">\n",
       "                                <p id=\"nonprimary\">skeletal_length</p>\n",
       "                                <span class=\"djtooltiptext\"></span>\n",
       "                            </div></th><th><div class=\"djtooltip\">\n",
       "                                <p id=\"nonprimary\">max_limb_skeletal_length</p>\n",
       "                                <span class=\"djtooltiptext\"></span>\n",
       "                            </div></th><th><div class=\"djtooltip\">\n",
       "                                <p id=\"nonprimary\">median_branch_length</p>\n",
       "                                <span class=\"djtooltiptext\">gives information on average skeletal length to next branch point</span>\n",
       "                            </div></th><th><div class=\"djtooltip\">\n",
       "                                <p id=\"nonprimary\">width_median</p>\n",
       "                                <span class=\"djtooltiptext\">median width from mesh center without spines removed</span>\n",
       "                            </div></th><th><div class=\"djtooltip\">\n",
       "                                <p id=\"nonprimary\">width_no_spine_median</p>\n",
       "                                <span class=\"djtooltiptext\">median width from mesh center with spines removed</span>\n",
       "                            </div></th><th><div class=\"djtooltip\">\n",
       "                                <p id=\"nonprimary\">width_90_perc</p>\n",
       "                                <span class=\"djtooltiptext\">90th percentile for width without spines removed</span>\n",
       "                            </div></th><th><div class=\"djtooltip\">\n",
       "                                <p id=\"nonprimary\">width_no_spine_90_perc</p>\n",
       "                                <span class=\"djtooltiptext\">90th percentile for width with spines removed</span>\n",
       "                            </div></th><th><div class=\"djtooltip\">\n",
       "                                <p id=\"nonprimary\">n_spines</p>\n",
       "                                <span class=\"djtooltiptext\"></span>\n",
       "                            </div></th><th><div class=\"djtooltip\">\n",
       "                                <p id=\"nonprimary\">spine_density</p>\n",
       "                                <span class=\"djtooltiptext\">n_spines/ skeletal_length</span>\n",
       "                            </div></th><th><div class=\"djtooltip\">\n",
       "                                <p id=\"nonprimary\">spines_per_branch</p>\n",
       "                                <span class=\"djtooltiptext\"></span>\n",
       "                            </div></th><th><div class=\"djtooltip\">\n",
       "                                <p id=\"nonprimary\">skeletal_length_eligible</p>\n",
       "                                <span class=\"djtooltiptext\">the skeletal length for all branches searched for spines</span>\n",
       "                            </div></th><th><div class=\"djtooltip\">\n",
       "                                <p id=\"nonprimary\">n_spine_eligible_branches</p>\n",
       "                                <span class=\"djtooltiptext\">the number of branches that were checked for spines because passed width threshold</span>\n",
       "                            </div></th><th><div class=\"djtooltip\">\n",
       "                                <p id=\"nonprimary\">spine_density_eligible</p>\n",
       "                                <span class=\"djtooltiptext\">n_spines/skeletal_length_eligible</span>\n",
       "                            </div></th><th><div class=\"djtooltip\">\n",
       "                                <p id=\"nonprimary\">spines_per_branch_eligible</p>\n",
       "                                <span class=\"djtooltiptext\">n_spines/n_spine_eligible_branches</span>\n",
       "                            </div></th><th><div class=\"djtooltip\">\n",
       "                                <p id=\"nonprimary\">total_spine_volume</p>\n",
       "                                <span class=\"djtooltiptext\">the sum of all spine volume</span>\n",
       "                            </div></th><th><div class=\"djtooltip\">\n",
       "                                <p id=\"nonprimary\">spine_volume_median</p>\n",
       "                                <span class=\"djtooltiptext\">median of the spine volume for those spines with able to calculate volume</span>\n",
       "                            </div></th><th><div class=\"djtooltip\">\n",
       "                                <p id=\"nonprimary\">spine_volume_density</p>\n",
       "                                <span class=\"djtooltiptext\">total_spine_volume/skeletal_length</span>\n",
       "                            </div></th><th><div class=\"djtooltip\">\n",
       "                                <p id=\"nonprimary\">spine_volume_density_eligible</p>\n",
       "                                <span class=\"djtooltiptext\">total_spine_volume/skeletal_length_eligible</span>\n",
       "                            </div></th><th><div class=\"djtooltip\">\n",
       "                                <p id=\"nonprimary\">spine_volume_per_branch_eligible</p>\n",
       "                                <span class=\"djtooltiptext\">total_spine_volume/n_spine_eligible_branches</span>\n",
       "                            </div></th><th><div class=\"djtooltip\">\n",
       "                                <p id=\"nonprimary\">run_time</p>\n",
       "                                <span class=\"djtooltiptext\">the amount of time to run (seconds)</span>\n",
       "                            </div> </th> </tr> </thead>\n",
       "                <tbody> <tr> <td>864691134765143804</td>\n",
       "<td>0</td>\n",
       "<td>0.25</td>\n",
       "<td>30.00</td>\n",
       "<td>0</td>\n",
       "<td>0</td>\n",
       "<td>1</td>\n",
       "<td>=BLOB=</td>\n",
       "<td>44570</td>\n",
       "<td>90882</td>\n",
       "<td>0</td>\n",
       "<td>1</td>\n",
       "<td>1</td>\n",
       "<td>1</td>\n",
       "<td>2</td>\n",
       "<td>1</td>\n",
       "<td>1</td>\n",
       "<td>1</td>\n",
       "<td>28585.105732166514</td>\n",
       "<td>28585.105732166514</td>\n",
       "<td>28585.106</td>\n",
       "<td>1726.047</td>\n",
       "<td>1726.047</td>\n",
       "<td>1726.047</td>\n",
       "<td>1726.047</td>\n",
       "<td>4</td>\n",
       "<td>0.00013993301397863443</td>\n",
       "<td>4.0</td>\n",
       "<td>28585.106</td>\n",
       "<td>1</td>\n",
       "<td>0.00013993301266750595</td>\n",
       "<td>4.0</td>\n",
       "<td>174766472.25666714</td>\n",
       "<td>13946453.78167041</td>\n",
       "<td>6113.899801322207</td>\n",
       "<td>6113.899744036882</td>\n",
       "<td>174766472.25666714</td>\n",
       "<td>89.0604</td></tr><tr><td>864691134768966140</td>\n",
       "<td>0</td>\n",
       "<td>0.25</td>\n",
       "<td>30.00</td>\n",
       "<td>5</td>\n",
       "<td>0</td>\n",
       "<td>1</td>\n",
       "<td>=BLOB=</td>\n",
       "<td>81637</td>\n",
       "<td>164711</td>\n",
       "<td>0</td>\n",
       "<td>1</td>\n",
       "<td>1</td>\n",
       "<td>1</td>\n",
       "<td>2</td>\n",
       "<td>2</td>\n",
       "<td>5</td>\n",
       "<td>4</td>\n",
       "<td>61206.675450776704</td>\n",
       "<td>40401.85629631666</td>\n",
       "<td>4713.508</td>\n",
       "<td>108.165</td>\n",
       "<td>108.165</td>\n",
       "<td>1174.845</td>\n",
       "<td>1135.231</td>\n",
       "<td>2</td>\n",
       "<td>3.2676174375921285e-05</td>\n",
       "<td>0.4</td>\n",
       "<td>6413.497</td>\n",
       "<td>2</td>\n",
       "<td>0.0003118423537112436</td>\n",
       "<td>1.0</td>\n",
       "<td>806371663.6001841</td>\n",
       "<td>403185831.80009204</td>\n",
       "<td>13174.570545800676</td>\n",
       "<td>125730.41877156628</td>\n",
       "<td>403185831.80009204</td>\n",
       "<td>58.3114</td></tr><tr><td>864691134831878402</td>\n",
       "<td>0</td>\n",
       "<td>0.25</td>\n",
       "<td>30.00</td>\n",
       "<td>0</td>\n",
       "<td>0</td>\n",
       "<td>1</td>\n",
       "<td>=BLOB=</td>\n",
       "<td>141431</td>\n",
       "<td>288006</td>\n",
       "<td>0</td>\n",
       "<td>1</td>\n",
       "<td>0</td>\n",
       "<td>1</td>\n",
       "<td>2</td>\n",
       "<td>3</td>\n",
       "<td>5</td>\n",
       "<td>3</td>\n",
       "<td>167837.6994974118</td>\n",
       "<td>105050.86635215634</td>\n",
       "<td>42893.926</td>\n",
       "<td>114.293</td>\n",
       "<td>114.293</td>\n",
       "<td>1035.029</td>\n",
       "<td>1035.029</td>\n",
       "<td>0</td>\n",
       "<td>0.0</td>\n",
       "<td>0.0</td>\n",
       "<td>19892.907</td>\n",
       "<td>1</td>\n",
       "<td>0.0</td>\n",
       "<td>0.0</td>\n",
       "<td>0.0</td>\n",
       "<td>0.0</td>\n",
       "<td>0.0</td>\n",
       "<td>0.0</td>\n",
       "<td>0.0</td>\n",
       "<td>126.6019</td></tr><tr><td>864691134874936141</td>\n",
       "<td>0</td>\n",
       "<td>0.25</td>\n",
       "<td>30.00</td>\n",
       "<td>0</td>\n",
       "<td>0</td>\n",
       "<td>1</td>\n",
       "<td>=BLOB=</td>\n",
       "<td>64451</td>\n",
       "<td>129722</td>\n",
       "<td>0</td>\n",
       "<td>2</td>\n",
       "<td>2</td>\n",
       "<td>1</td>\n",
       "<td>2</td>\n",
       "<td>3</td>\n",
       "<td>7</td>\n",
       "<td>3</td>\n",
       "<td>69751.43119438276</td>\n",
       "<td>56515.80323426945</td>\n",
       "<td>5610.567</td>\n",
       "<td>124.571</td>\n",
       "<td>124.571</td>\n",
       "<td>1568.841</td>\n",
       "<td>1568.841</td>\n",
       "<td>4</td>\n",
       "<td>5.7346493563018516e-05</td>\n",
       "<td>0.5714285714285714</td>\n",
       "<td>41954.196</td>\n",
       "<td>3</td>\n",
       "<td>9.534207257839e-05</td>\n",
       "<td>1.333</td>\n",
       "<td>123117238.4626452</td>\n",
       "<td>18270225.275904972</td>\n",
       "<td>1765.0854807486746</td>\n",
       "<td>2934.5631712891172</td>\n",
       "<td>41039079.4875484</td>\n",
       "<td>143.5662</td></tr><tr><td>864691134884769018</td>\n",
       "<td>0</td>\n",
       "<td>0.25</td>\n",
       "<td>30.00</td>\n",
       "<td>0</td>\n",
       "<td>0</td>\n",
       "<td>1</td>\n",
       "<td>=BLOB=</td>\n",
       "<td>1528011</td>\n",
       "<td>3078802</td>\n",
       "<td>0</td>\n",
       "<td>7</td>\n",
       "<td>5</td>\n",
       "<td>2</td>\n",
       "<td>3</td>\n",
       "<td>20</td>\n",
       "<td>421</td>\n",
       "<td>129</td>\n",
       "<td>15358033.818095537</td>\n",
       "<td>6359831.284514944</td>\n",
       "<td>19558.966</td>\n",
       "<td>117.674</td>\n",
       "<td>117.674</td>\n",
       "<td>462.331</td>\n",
       "<td>428.373</td>\n",
       "<td>3853</td>\n",
       "<td>0.0002508784682750353</td>\n",
       "<td>9.152019002375297</td>\n",
       "<td>8180017.673</td>\n",
       "<td>186</td>\n",
       "<td>0.00047102587720778387</td>\n",
       "<td>20.715</td>\n",
       "<td>818307027581.6089</td>\n",
       "<td>118226275.54461034</td>\n",
       "<td>53282.01755991983</td>\n",
       "<td>100037.31780221165</td>\n",
       "<td>4399500148.288219</td>\n",
       "<td>8443.518</td></tr><tr><td>864691134884772346</td>\n",
       "<td>0</td>\n",
       "<td>0.25</td>\n",
       "<td>30.00</td>\n",
       "<td>0</td>\n",
       "<td>0</td>\n",
       "<td>1</td>\n",
       "<td>=BLOB=</td>\n",
       "<td>385614</td>\n",
       "<td>805879</td>\n",
       "<td>0</td>\n",
       "<td>1</td>\n",
       "<td>1</td>\n",
       "<td>1</td>\n",
       "<td>2</td>\n",
       "<td>10</td>\n",
       "<td>106</td>\n",
       "<td>51</td>\n",
       "<td>3416069.9194424567</td>\n",
       "<td>1568051.5996385978</td>\n",
       "<td>22918.888</td>\n",
       "<td>186.605</td>\n",
       "<td>186.605</td>\n",
       "<td>506.188</td>\n",
       "<td>456.498</td>\n",
       "<td>1063</td>\n",
       "<td>0.0003111763005639809</td>\n",
       "<td>10.028301886792454</td>\n",
       "<td>2126475.354</td>\n",
       "<td>56</td>\n",
       "<td>0.0004998882296004264</td>\n",
       "<td>18.982</td>\n",
       "<td>207947661950.84503</td>\n",
       "<td>109383813.78330484</td>\n",
       "<td>60873.36233000306</td>\n",
       "<td>97789.82933410713</td>\n",
       "<td>3713351106.26509</td>\n",
       "<td>1702.3648</td></tr><tr><td>864691134884780538</td>\n",
       "<td>0</td>\n",
       "<td>0.25</td>\n",
       "<td>30.00</td>\n",
       "<td>0</td>\n",
       "<td>0</td>\n",
       "<td>1</td>\n",
       "<td>=BLOB=</td>\n",
       "<td>368083</td>\n",
       "<td>762245</td>\n",
       "<td>0</td>\n",
       "<td>3</td>\n",
       "<td>3</td>\n",
       "<td>1</td>\n",
       "<td>2</td>\n",
       "<td>9</td>\n",
       "<td>113</td>\n",
       "<td>58</td>\n",
       "<td>2596256.398943132</td>\n",
       "<td>1236697.6953156113</td>\n",
       "<td>18046.919</td>\n",
       "<td>349.046</td>\n",
       "<td>300.773</td>\n",
       "<td>604.522</td>\n",
       "<td>586.524</td>\n",
       "<td>1347</td>\n",
       "<td>0.0005188239499566871</td>\n",
       "<td>11.920353982300885</td>\n",
       "<td>2333114.813</td>\n",
       "<td>95</td>\n",
       "<td>0.0005773397830636464</td>\n",
       "<td>14.179</td>\n",
       "<td>226915259840.80365</td>\n",
       "<td>94399194.066775</td>\n",
       "<td>87400.94388719655</td>\n",
       "<td>97258.50548650374</td>\n",
       "<td>2388581682.5347753</td>\n",
       "<td>1549.6274</td></tr><tr><td>864691134884780794</td>\n",
       "<td>0</td>\n",
       "<td>0.25</td>\n",
       "<td>30.00</td>\n",
       "<td>0</td>\n",
       "<td>0</td>\n",
       "<td>1</td>\n",
       "<td>=BLOB=</td>\n",
       "<td>681209</td>\n",
       "<td>1398786</td>\n",
       "<td>0</td>\n",
       "<td>3</td>\n",
       "<td>2</td>\n",
       "<td>2</td>\n",
       "<td>3</td>\n",
       "<td>11</td>\n",
       "<td>233</td>\n",
       "<td>92</td>\n",
       "<td>7885636.26483033</td>\n",
       "<td>3525507.8928005793</td>\n",
       "<td>19971.03</td>\n",
       "<td>103.952</td>\n",
       "<td>103.952</td>\n",
       "<td>473.694</td>\n",
       "<td>441.382</td>\n",
       "<td>1882</td>\n",
       "<td>0.00023866178159822767</td>\n",
       "<td>8.07725321888412</td>\n",
       "<td>3342305.966</td>\n",
       "<td>105</td>\n",
       "<td>0.0005630842954370025</td>\n",
       "<td>17.924</td>\n",
       "<td>351748824256.1687</td>\n",
       "<td>93978369.95831957</td>\n",
       "<td>44606.27049524926</td>\n",
       "<td>105241.35965838404</td>\n",
       "<td>3349988802.439702</td>\n",
       "<td>3003.3271</td></tr><tr><td>864691134884781306</td>\n",
       "<td>0</td>\n",
       "<td>0.25</td>\n",
       "<td>30.00</td>\n",
       "<td>0</td>\n",
       "<td>0</td>\n",
       "<td>1</td>\n",
       "<td>=BLOB=</td>\n",
       "<td>857838</td>\n",
       "<td>1751483</td>\n",
       "<td>0</td>\n",
       "<td>1</td>\n",
       "<td>0</td>\n",
       "<td>1</td>\n",
       "<td>2</td>\n",
       "<td>16</td>\n",
       "<td>167</td>\n",
       "<td>53</td>\n",
       "<td>8510627.731801325</td>\n",
       "<td>1804808.03047507</td>\n",
       "<td>29261.409</td>\n",
       "<td>271.65</td>\n",
       "<td>250.837</td>\n",
       "<td>542.942</td>\n",
       "<td>533.277</td>\n",
       "<td>2917</td>\n",
       "<td>0.00034274792552612326</td>\n",
       "<td>17.46706586826347</td>\n",
       "<td>6939136.251</td>\n",
       "<td>107</td>\n",
       "<td>0.00042036932184169617</td>\n",
       "<td>27.262</td>\n",
       "<td>459875580076.8102</td>\n",
       "<td>98808306.92335</td>\n",
       "<td>54035.44774475464</td>\n",
       "<td>66272.74107934361</td>\n",
       "<td>4297902617.540282</td>\n",
       "<td>4626.8613</td></tr><tr><td>864691134884794106</td>\n",
       "<td>0</td>\n",
       "<td>0.25</td>\n",
       "<td>30.00</td>\n",
       "<td>5</td>\n",
       "<td>0</td>\n",
       "<td>1</td>\n",
       "<td>=BLOB=</td>\n",
       "<td>1456380</td>\n",
       "<td>2952856</td>\n",
       "<td>0</td>\n",
       "<td>3</td>\n",
       "<td>2</td>\n",
       "<td>1</td>\n",
       "<td>3</td>\n",
       "<td>19</td>\n",
       "<td>511</td>\n",
       "<td>128</td>\n",
       "<td>13296058.543850346</td>\n",
       "<td>3049336.9819787596</td>\n",
       "<td>14863.182</td>\n",
       "<td>130.13</td>\n",
       "<td>130.13</td>\n",
       "<td>483.625</td>\n",
       "<td>454.296</td>\n",
       "<td>2977</td>\n",
       "<td>0.00022390093952894886</td>\n",
       "<td>5.825831702544031</td>\n",
       "<td>8745903.641</td>\n",
       "<td>273</td>\n",
       "<td>0.0003403879258449744</td>\n",
       "<td>10.905</td>\n",
       "<td>662268050194.7452</td>\n",
       "<td>127890977.15665689</td>\n",
       "<td>49809.35124575362</td>\n",
       "<td>75723.22739643425</td>\n",
       "<td>2425890293.7536454</td>\n",
       "<td>5357.3045</td></tr><tr><td>864691134884795130</td>\n",
       "<td>0</td>\n",
       "<td>0.25</td>\n",
       "<td>30.00</td>\n",
       "<td>5</td>\n",
       "<td>0</td>\n",
       "<td>1</td>\n",
       "<td>=BLOB=</td>\n",
       "<td>581026</td>\n",
       "<td>1182537</td>\n",
       "<td>0</td>\n",
       "<td>2</td>\n",
       "<td>1</td>\n",
       "<td>1</td>\n",
       "<td>2</td>\n",
       "<td>11</td>\n",
       "<td>148</td>\n",
       "<td>50</td>\n",
       "<td>4360560.674597744</td>\n",
       "<td>1558757.0555588175</td>\n",
       "<td>18085.718</td>\n",
       "<td>369.07</td>\n",
       "<td>293.788</td>\n",
       "<td>532.009</td>\n",
       "<td>487.336</td>\n",
       "<td>2662</td>\n",
       "<td>0.0006104719550188499</td>\n",
       "<td>17.986486486486488</td>\n",
       "<td>3519799.216</td>\n",
       "<td>105</td>\n",
       "<td>0.0007562931396482247</td>\n",
       "<td>25.352</td>\n",
       "<td>525795825376.7352</td>\n",
       "<td>122745865.6290834</td>\n",
       "<td>120579.86681385628</td>\n",
       "<td>149382.3349316682</td>\n",
       "<td>5007579289.30224</td>\n",
       "<td>1952.0849</td></tr><tr><td>864691134884796410</td>\n",
       "<td>0</td>\n",
       "<td>0.25</td>\n",
       "<td>30.00</td>\n",
       "<td>5</td>\n",
       "<td>0</td>\n",
       "<td>1</td>\n",
       "<td>=BLOB=</td>\n",
       "<td>1010599</td>\n",
       "<td>2050144</td>\n",
       "<td>0</td>\n",
       "<td>2</td>\n",
       "<td>0</td>\n",
       "<td>2</td>\n",
       "<td>3</td>\n",
       "<td>13</td>\n",
       "<td>259</td>\n",
       "<td>88</td>\n",
       "<td>9507867.244773822</td>\n",
       "<td>2620528.401095896</td>\n",
       "<td>27986.844</td>\n",
       "<td>268.392</td>\n",
       "<td>246.219</td>\n",
       "<td>498.433</td>\n",
       "<td>444.231</td>\n",
       "<td>4561</td>\n",
       "<td>0.00047970800207660025</td>\n",
       "<td>17.61003861003861</td>\n",
       "<td>6586345.415</td>\n",
       "<td>156</td>\n",
       "<td>0.0006924932891634564</td>\n",
       "<td>29.237</td>\n",
       "<td>868123025640.09</td>\n",
       "<td>112598232.18714722</td>\n",
       "<td>91305.75798870878</td>\n",
       "<td>131806.48310108253</td>\n",
       "<td>5564891190.000577</td>\n",
       "<td>3776.0035</td> </tr> </tbody>\n",
       "            </table>\n",
       "            <p>...</p>\n",
       "            <p>Total: 5592</p></div>\n",
       "            "
      ],
      "text/plain": [
       "*segment_id    *decimation_ve *decimation_ra *ver      *process_versi *index    multiplicity   decomposit n_vertices     n_faces     n_not_processe n_error_limbs  n_same_soma_mu n_multi_soma_t n_somas     n_limbs     n_branches     max_limb_n_bra skeletal_lengt max_limb_skele median_branch_ width_median   width_no_spine width_90_perc  width_no_spine n_spines     spine_density  spines_per_bra skeletal_lengt n_spine_eligib spine_density_ spines_per_bra total_spine_vo spine_volume_m spine_volume_d spine_volume_d spine_volume_p run_time     \n",
       "+------------+ +------------+ +------------+ +-------+ +------------+ +-------+ +------------+ +--------+ +------------+ +---------+ +------------+ +------------+ +------------+ +------------+ +---------+ +---------+ +------------+ +------------+ +------------+ +------------+ +------------+ +------------+ +------------+ +------------+ +------------+ +----------+ +------------+ +------------+ +------------+ +------------+ +------------+ +------------+ +------------+ +------------+ +------------+ +------------+ +------------+ +-----------+\n",
       "86469113476514 0              0.25           30.00     0              0         1              =BLOB=     44570          90882       0              1              1              1              2           1           1              1              28585.10573216 28585.10573216 28585.106      1726.047       1726.047       1726.047       1726.047       4            0.000139933013 4.0            28585.106      1              0.000139933012 4.0            174766472.2566 13946453.78167 6113.899801322 6113.899744036 174766472.2566 89.0604      \n",
       "86469113476896 0              0.25           30.00     5              0         1              =BLOB=     81637          164711      0              1              1              1              2           2           5              4              61206.67545077 40401.85629631 4713.508       108.165        108.165        1174.845       1135.231       2            3.267617437592 0.4            6413.497       2              0.000311842353 1.0            806371663.6001 403185831.8000 13174.57054580 125730.4187715 403185831.8000 58.3114      \n",
       "86469113483187 0              0.25           30.00     0              0         1              =BLOB=     141431         288006      0              1              0              1              2           3           5              3              167837.6994974 105050.8663521 42893.926      114.293        114.293        1035.029       1035.029       0            0.0            0.0            19892.907      1              0.0            0.0            0.0            0.0            0.0            0.0            0.0            126.6019     \n",
       "86469113487493 0              0.25           30.00     0              0         1              =BLOB=     64451          129722      0              2              2              1              2           3           7              3              69751.43119438 56515.80323426 5610.567       124.571        124.571        1568.841       1568.841       4            5.734649356301 0.571428571428 41954.196      3              9.534207257839 1.333          123117238.4626 18270225.27590 1765.085480748 2934.563171289 41039079.48754 143.5662     \n",
       "86469113488476 0              0.25           30.00     0              0         1              =BLOB=     1528011        3078802     0              7              5              2              3           20          421            129            15358033.81809 6359831.284514 19558.966      117.674        117.674        462.331        428.373        3853         0.000250878468 9.152019002375 8180017.673    186            0.000471025877 20.715         818307027581.6 118226275.5446 53282.01755991 100037.3178022 4399500148.288 8443.518     \n",
       "86469113488477 0              0.25           30.00     0              0         1              =BLOB=     385614         805879      0              1              1              1              2           10          106            51             3416069.919442 1568051.599638 22918.888      186.605        186.605        506.188        456.498        1063         0.000311176300 10.02830188679 2126475.354    56             0.000499888229 18.982         207947661950.8 109383813.7833 60873.36233000 97789.82933410 3713351106.265 1702.3648    \n",
       "86469113488478 0              0.25           30.00     0              0         1              =BLOB=     368083         762245      0              3              3              1              2           9           113            58             2596256.398943 1236697.695315 18046.919      349.046        300.773        604.522        586.524        1347         0.000518823949 11.92035398230 2333114.813    95             0.000577339783 14.179         226915259840.8 94399194.06677 87400.94388719 97258.50548650 2388581682.534 1549.6274    \n",
       "86469113488478 0              0.25           30.00     0              0         1              =BLOB=     681209         1398786     0              3              2              2              3           11          233            92             7885636.264830 3525507.892800 19971.03       103.952        103.952        473.694        441.382        1882         0.000238661781 8.077253218884 3342305.966    105            0.000563084295 17.924         351748824256.1 93978369.95831 44606.27049524 105241.3596583 3349988802.439 3003.3271    \n",
       "86469113488478 0              0.25           30.00     0              0         1              =BLOB=     857838         1751483     0              1              0              1              2           16          167            53             8510627.731801 1804808.030475 29261.409      271.65         250.837        542.942        533.277        2917         0.000342747925 17.46706586826 6939136.251    107            0.000420369321 27.262         459875580076.8 98808306.92335 54035.44774475 66272.74107934 4297902617.540 4626.8613    \n",
       "86469113488479 0              0.25           30.00     5              0         1              =BLOB=     1456380        2952856     0              3              2              1              3           19          511            128            13296058.54385 3049336.981978 14863.182      130.13         130.13         483.625        454.296        2977         0.000223900939 5.825831702544 8745903.641    273            0.000340387925 10.905         662268050194.7 127890977.1566 49809.35124575 75723.22739643 2425890293.753 5357.3045    \n",
       "86469113488479 0              0.25           30.00     5              0         1              =BLOB=     581026         1182537     0              2              1              1              2           11          148            50             4360560.674597 1558757.055558 18085.718      369.07         293.788        532.009        487.336        2662         0.000610471955 17.98648648648 3519799.216    105            0.000756293139 25.352         525795825376.7 122745865.6290 120579.8668138 149382.3349316 5007579289.302 1952.0849    \n",
       "86469113488479 0              0.25           30.00     5              0         1              =BLOB=     1010599        2050144     0              2              0              2              3           13          259            88             9507867.244773 2620528.401095 27986.844      268.392        246.219        498.433        444.231        4561         0.000479708002 17.61003861003 6586345.415    156            0.000692493289 29.237         868123025640.0 112598232.1871 91305.75798870 131806.4831010 5564891190.000 3776.0035    \n",
       "   ...\n",
       " (Total: 5592)"
      ]
     },
     "execution_count": 15,
     "metadata": {},
     "output_type": "execute_result"
    }
   ],
   "source": [
    "(minnie.Decomposition() & \"n_somas>1\")"
   ]
  },
  {
   "cell_type": "code",
   "execution_count": 22,
   "metadata": {},
   "outputs": [
    {
     "data": {
      "text/plain": [
       "74696"
      ]
     },
     "execution_count": 22,
     "metadata": {},
     "output_type": "execute_result"
    }
   ],
   "source": [
    "len(minnie.Decomposition())"
   ]
  },
  {
   "cell_type": "code",
   "execution_count": 14,
   "metadata": {},
   "outputs": [
    {
     "data": {
      "text/plain": [
       "12647"
      ]
     },
     "execution_count": 14,
     "metadata": {},
     "output_type": "execute_result"
    }
   ],
   "source": [
    "import numpy as np\n",
    "multiplicity = (minnie.Decomposition() & \"n_somas>1\").fetch(\"n_somas\")\n",
    "np.sum(multiplicity)"
   ]
  },
  {
   "cell_type": "code",
   "execution_count": 13,
   "metadata": {},
   "outputs": [
    {
     "data": {
      "text/plain": [
       "array([1, 1, 1, ..., 1, 1, 1], dtype=object)"
      ]
     },
     "execution_count": 13,
     "metadata": {},
     "output_type": "execute_result"
    }
   ],
   "source": [
    "multiplicity"
   ]
  },
  {
   "cell_type": "code",
   "execution_count": 9,
   "metadata": {
    "scrolled": false
   },
   "outputs": [
    {
     "data": {
      "text/plain": [
       "74437"
      ]
     },
     "execution_count": 9,
     "metadata": {},
     "output_type": "execute_result"
    }
   ],
   "source": [
    "len(minnie.Decomposition())"
   ]
  },
  {
   "cell_type": "code",
   "execution_count": null,
   "metadata": {
    "scrolled": true
   },
   "outputs": [],
   "source": [
    "curr_table = (schema.jobs & \"table_name='__decomposition'\")\n",
    "curr_table & \"status='error'\""
   ]
  },
  {
   "cell_type": "code",
   "execution_count": null,
   "metadata": {},
   "outputs": [],
   "source": [
    "curr_table = (minnie.Decomposition() & \"process_version = 5\" & \"n_limbs > 5\" & dict(segment_id=864691134884800506))"
   ]
  },
  {
   "cell_type": "code",
   "execution_count": null,
   "metadata": {},
   "outputs": [],
   "source": [
    "neuron_obj = curr_table.fetch1(\"decomposition\")"
   ]
  },
  {
   "cell_type": "code",
   "execution_count": null,
   "metadata": {},
   "outputs": [],
   "source": [
    "import neuron_visualizations as nviz"
   ]
  },
  {
   "cell_type": "code",
   "execution_count": null,
   "metadata": {},
   "outputs": [],
   "source": [
    "nviz.visualize_neuron(neuron_obj,\n",
    "                     visualize_type=[\"mesh\",\"skeleton\"],\n",
    "                     limb_branch_dict=\"all\")"
   ]
  },
  {
   "cell_type": "code",
   "execution_count": null,
   "metadata": {},
   "outputs": [],
   "source": [
    "nviz.plot_soma_limb_concept_network(neuron_obj)"
   ]
  },
  {
   "cell_type": "code",
   "execution_count": null,
   "metadata": {
    "scrolled": true
   },
   "outputs": [],
   "source": [
    "limb_results = pru.multi_soma_split_suggestions(neuron_obj)"
   ]
  },
  {
   "cell_type": "code",
   "execution_count": null,
   "metadata": {},
   "outputs": [],
   "source": [
    "nviz."
   ]
  },
  {
   "cell_type": "code",
   "execution_count": null,
   "metadata": {},
   "outputs": [],
   "source": []
  },
  {
   "cell_type": "code",
   "execution_count": null,
   "metadata": {},
   "outputs": [],
   "source": []
  },
  {
   "cell_type": "code",
   "execution_count": null,
   "metadata": {
    "scrolled": false
   },
   "outputs": [],
   "source": [
    "import proofreading_utils as pru\n",
    "neuron_objs = pru.split_neuron(neuron_obj)"
   ]
  },
  {
   "cell_type": "code",
   "execution_count": null,
   "metadata": {},
   "outputs": [],
   "source": [
    "n1,n2,n3 = neuron_objs"
   ]
  },
  {
   "cell_type": "code",
   "execution_count": null,
   "metadata": {},
   "outputs": [],
   "source": [
    "nviz.visualize_neuron(n1,\n",
    "                     limb_branch_dict=\"all\")"
   ]
  },
  {
   "cell_type": "code",
   "execution_count": null,
   "metadata": {},
   "outputs": [],
   "source": [
    "nviz.visualize_neuron(n3,\n",
    "                     limb_branch_dict=\"all\")"
   ]
  },
  {
   "cell_type": "code",
   "execution_count": null,
   "metadata": {},
   "outputs": [],
   "source": [
    "len(minnie.Decomposition())"
   ]
  },
  {
   "cell_type": "code",
   "execution_count": null,
   "metadata": {},
   "outputs": [],
   "source": [
    "minnie.Decomposition & \"n_somas>4\""
   ]
  },
  {
   "cell_type": "code",
   "execution_count": null,
   "metadata": {
    "scrolled": true
   },
   "outputs": [],
   "source": [
    "np.unique((schema.jobs & \"table_name='__decomposition'\").fetch(\"error_message\"))"
   ]
  },
  {
   "cell_type": "code",
   "execution_count": null,
   "metadata": {},
   "outputs": [],
   "source": [
    "minnie.Decomposition() & \"n_somas > 2\""
   ]
  },
  {
   "cell_type": "markdown",
   "metadata": {},
   "source": [
    "# Inspecting the Multi-Soma Splitting"
   ]
  },
  {
   "cell_type": "code",
   "execution_count": null,
   "metadata": {},
   "outputs": [],
   "source": [
    "minnie.Decomposition() & minnie.MultiSomaProofread2.proj()"
   ]
  },
  {
   "cell_type": "markdown",
   "metadata": {},
   "source": [
    "# Deleting all the multi_soma splitting because made refinements"
   ]
  },
  {
   "cell_type": "code",
   "execution_count": null,
   "metadata": {},
   "outputs": [],
   "source": [
    "(minnie.Decomposition() & \"n_error_limbs>0 OR n_somas>1\")"
   ]
  },
  {
   "cell_type": "code",
   "execution_count": null,
   "metadata": {},
   "outputs": [],
   "source": [
    "(minnie.DecompositionSplit() & minnie.MultiSomaProofread2.proj())"
   ]
  },
  {
   "cell_type": "code",
   "execution_count": null,
   "metadata": {},
   "outputs": [],
   "source": []
  },
  {
   "cell_type": "markdown",
   "metadata": {},
   "source": [
    "# Inspecting Split Suggestions"
   ]
  },
  {
   "cell_type": "code",
   "execution_count": null,
   "metadata": {},
   "outputs": [],
   "source": [
    "minnie,schema = du.configure_minnie_vm()"
   ]
  },
  {
   "cell_type": "code",
   "execution_count": null,
   "metadata": {},
   "outputs": [],
   "source": [
    "split_table = schema.jobs & \"table_name='__neuron_split_suggestions'\"\n",
    "split_table"
   ]
  },
  {
   "cell_type": "markdown",
   "metadata": {},
   "source": [
    "# Decomposition Explaination"
   ]
  },
  {
   "cell_type": "code",
   "execution_count": null,
   "metadata": {},
   "outputs": [],
   "source": [
    "minnie,schema = du.configure_minnie_vm()"
   ]
  },
  {
   "cell_type": "code",
   "execution_count": null,
   "metadata": {},
   "outputs": [],
   "source": [
    "minnie.Decomposition()"
   ]
  },
  {
   "cell_type": "code",
   "execution_count": null,
   "metadata": {},
   "outputs": [],
   "source": [
    "@schema\n",
    "class DecompositionVersions(dj.Manual):\n",
    "    definition=\"\"\"\n",
    "    # Descriptions of decomposition vertsion\n",
    "    process_version          : int unsigned                 # key by which to lookup the decomposition process version\n",
    "    ---\n",
    "    description        : varchar(256)                  # new parts of the iteration of the decomposition process\n",
    "    \n",
    "    \"\"\""
   ]
  },
  {
   "cell_type": "code",
   "execution_count": null,
   "metadata": {},
   "outputs": [],
   "source": [
    "DecompositionVersions()"
   ]
  },
  {
   "cell_type": "code",
   "execution_count": null,
   "metadata": {},
   "outputs": [],
   "source": [
    "explainations_dict = [dict(process_version=0,description=\"1/15: First version\"),\n",
    "                      dict(process_version=1,description=\"1/18: Processed all Soma Containing Meshes\"),\n",
    "                      dict(process_version=2,description=\"1/20: Improved spine extraction\"),\n",
    "                      dict(process_version=3,description=\"1/20: Improved spine extraction\")]\n",
    "explainations_dict"
   ]
  },
  {
   "cell_type": "code",
   "execution_count": null,
   "metadata": {},
   "outputs": [],
   "source": [
    "explainations_dict = [dict(process_version=4,description=\"1/25: Cleaned all_concept_starting_info\")]\n",
    "minnie.DecompositionVersions.insert(explainations_dict)"
   ]
  },
  {
   "cell_type": "code",
   "execution_count": null,
   "metadata": {},
   "outputs": [],
   "source": [
    "DecompositionVersions"
   ]
  },
  {
   "cell_type": "markdown",
   "metadata": {},
   "source": [
    "# Checking the Splitting For Allen"
   ]
  },
  {
   "cell_type": "markdown",
   "metadata": {},
   "source": [
    "# 1/28 Segment Ids"
   ]
  },
  {
   "cell_type": "code",
   "execution_count": null,
   "metadata": {},
   "outputs": [],
   "source": [
    "double_soma_1_28 = [864691136672813959,\n",
    "864691136951653599,\n",
    "864691135696109210,\n",
    "864691136039382526,\n",
    "864691135345140895,\n",
    "864691135210077120,\n",
    "864691134964412191,\n",
    "864691136008578990,\n",
    "864691135510515408,\n",
    "864691135718447153,\n",
    "864691135162240557,\n",
    "864691135724299179,\n",
    "864691136056568536,\n",
    "864691135474614848,\n",
    "864691135341171909,\n",
    "864691136091147700,\n",
    "864691137196942401,\n",
    "864691135403709422,\n",
    "864691135609476359,\n",
    "864691135155711844,\n",
    "864691135544409384,\n",
    "864691135700441723,\n",
    "864691136065225112,\n",
    "864691135345291423,\n",
    "864691136618586765,\n",
    "864691135345134239,\n",
    "864691137196949569,\n",
    "864691135975576131,\n",
    "864691136311815229,\n",
    "864691135373423816,\n",
    "864691136311803709,\n",
    "864691136065514648,\n",
    "864691136486808850,\n",
    "864691136008511148,\n",
    "864691136296681243,\n",
    "864691135571307557,\n",
    "864691135654120898,\n",
    "864691136922900452,\n",
    "864691135012398582,\n",
    "864691136922748900,\n",
    "864691136090951092,\n",
    "864691136908675694,\n",
    "                   ]\n",
    "len(double_soma_1_28)"
   ]
  },
  {
   "cell_type": "code",
   "execution_count": null,
   "metadata": {},
   "outputs": [],
   "source": [
    "len(minnie.Decomposition() & [dict(segment_id=k) for k in double_soma_1_28]"
   ]
  },
  {
   "cell_type": "code",
   "execution_count": null,
   "metadata": {},
   "outputs": [],
   "source": [
    "triple_soma_1_28 = [864691136209271740,\n",
    "864691135341203141,\n",
    "864691135373436616,\n",
    "864691135837279635,\n",
    "864691135780852304,\n",
    "864691135403794158,\n",
    "864691136236789519,\n",
    "864691135345280671,\n",
    "864691136175165190,\n",
    "864691136008595118,\n",
    "864691135382504922,\n",
    "864691135654121154,\n",
    "864691136617159131,\n",
    "864691135937310468,\n",
    "864691135568932230,\n",
    "864691135462292893,\n",
    "864691135937302020,\n",
    "864691136925391690,\n",
    "864691137196946497,\n",
    "864691135462454941,\n",
    "864691135502074805,\n",
    "864691135571346725,\n",
    "864691135753746381]\n",
    "\n",
    "len(triple_soma_1_28)"
   ]
  },
  {
   "cell_type": "code",
   "execution_count": null,
   "metadata": {},
   "outputs": [],
   "source": [
    "minnie.Decomposition() & [dict(segment_id=k) for k in triple_soma_1_28]"
   ]
  },
  {
   "cell_type": "code",
   "execution_count": null,
   "metadata": {},
   "outputs": [],
   "source": [
    "minnie,schema = du.configure_minnie_vm()"
   ]
  },
  {
   "cell_type": "code",
   "execution_count": null,
   "metadata": {},
   "outputs": [],
   "source": [
    "key_source = minnie.DecompositionSplit() & (minnie.AllenProofreading() & dict(month=1,day=28,year=2021)).proj()\n",
    "dj.U(\"segment_id\") & key_source"
   ]
  },
  {
   "cell_type": "code",
   "execution_count": null,
   "metadata": {},
   "outputs": [],
   "source": [
    "(schema.jobs & \"table_name='__decomposition_split'\" & \"status='error'\").delete()"
   ]
  },
  {
   "cell_type": "code",
   "execution_count": null,
   "metadata": {},
   "outputs": [],
   "source": [
    "(schema.jobs & \"table_name='__decomposition_split'\" & \"status='error'\").fetch(\"key\")"
   ]
  },
  {
   "cell_type": "code",
   "execution_count": null,
   "metadata": {},
   "outputs": [],
   "source": [
    "print((schema.jobs & \"table_name='__decomposition_split'\" & \"key_hash='1b66db350ea9742bfb564275904863c2'\").fetch1(\"key\"))"
   ]
  },
  {
   "cell_type": "code",
   "execution_count": null,
   "metadata": {},
   "outputs": [],
   "source": [
    "import numpy as np\n",
    "seg_ids_to_export = np.unique((minnie.DecompositionSplit() & (minnie.AllenProofreading() & dict(month=1,day=28,year=2021)).proj() ).fetch(\"segment_id\"))\n",
    "seg_ids_to_export.shape"
   ]
  },
  {
   "cell_type": "code",
   "execution_count": null,
   "metadata": {},
   "outputs": [],
   "source": [
    "du.create_suggested_splits_neuroglancer_spreadsheet(segment_ids=seg_ids_to_export,\n",
    "                                                   output_type=\"server\",\n",
    "                                                   output_filename=\"allen_spreadsheet_1_28.csv\")"
   ]
  },
  {
   "cell_type": "code",
   "execution_count": null,
   "metadata": {},
   "outputs": [],
   "source": []
  }
 ],
 "metadata": {
  "kernelspec": {
   "display_name": "Python 3",
   "language": "python",
   "name": "python3"
  },
  "language_info": {
   "codemirror_mode": {
    "name": "ipython",
    "version": 3
   },
   "file_extension": ".py",
   "mimetype": "text/x-python",
   "name": "python",
   "nbconvert_exporter": "python",
   "pygments_lexer": "ipython3",
   "version": "3.6.9"
  }
 },
 "nbformat": 4,
 "nbformat_minor": 4
}
