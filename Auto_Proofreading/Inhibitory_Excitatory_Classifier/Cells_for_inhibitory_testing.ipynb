{
 "cells": [
  {
   "cell_type": "code",
   "execution_count": null,
   "metadata": {},
   "outputs": [],
   "source": [
    "\"\"\"\n",
    "Purpose: To explore the cells that have\n",
    "already been labeled as excitatory and inhibitory\n",
    "\n",
    "\n",
    "\"\"\""
   ]
  },
  {
   "cell_type": "code",
   "execution_count": 1,
   "metadata": {},
   "outputs": [],
   "source": [
    "%load_ext autoreload\n",
    "%autoreload 2"
   ]
  },
  {
   "cell_type": "code",
   "execution_count": 2,
   "metadata": {},
   "outputs": [],
   "source": [
    "from os import sys\n",
    "sys.path.append(\"/meshAfterParty/\")"
   ]
  },
  {
   "cell_type": "code",
   "execution_count": 3,
   "metadata": {},
   "outputs": [
    {
     "name": "stderr",
     "output_type": "stream",
     "text": [
      "INFO - 2021-01-22 07:35:15,134 - settings - Setting database.host to at-database.ad.bcm.edu\n",
      "INFO - 2021-01-22 07:35:15,135 - settings - Setting database.user to celiib\n",
      "INFO - 2021-01-22 07:35:15,136 - settings - Setting database.password to newceliipass\n",
      "INFO - 2021-01-22 07:35:15,139 - settings - Setting stores to {'minnie65': {'protocol': 'file', 'location': '/mnt/dj-stor01/platinum/minnie65', 'stage': '/mnt/dj-stor01/platinum/minnie65'}, 'meshes': {'protocol': 'file', 'location': '/mnt/dj-stor01/platinum/minnie65/02/meshes', 'stage': '/mnt/dj-stor01/platinum/minnie65/02/meshes'}, 'decimated_meshes': {'protocol': 'file', 'location': '/mnt/dj-stor01/platinum/minnie65/02/decimated_meshes', 'stage': '/mnt/dj-stor01/platinum/minnie65/02/decimated_meshes'}, 'skeletons': {'protocol': 'file', 'location': '/mnt/dj-stor01/platinum/minnie65/02/skeletons'}}\n",
      "INFO - 2021-01-22 07:35:15,140 - settings - Setting enable_python_native_blobs to True\n",
      "INFO - 2021-01-22 07:35:15,150 - connection - Connected celiib@at-database.ad.bcm.edu:3306\n"
     ]
    },
    {
     "name": "stdout",
     "output_type": "stream",
     "text": [
      "Connecting celiib@at-database.ad.bcm.edu:3306\n"
     ]
    },
    {
     "name": "stderr",
     "output_type": "stream",
     "text": [
      "INFO - 2021-01-22 07:35:15,444 - settings - Setting enable_python_native_blobs to True\n"
     ]
    }
   ],
   "source": [
    "from importlib import reload\n",
    "\n",
    "import neuron_utils as nru\n",
    "\n",
    "import neuron\n",
    "\n",
    "import neuron_visualizations as nviz\n",
    "\n",
    "import time\n",
    "\n",
    "import datajoint_utils as du\n",
    "\n",
    "import numpy as np\n",
    "\n",
    "import proofreading_utils as pru\n",
    "\n",
    "import preprocessing_vp2 as pre\n",
    "\n",
    "# -- For the axon classification --\n",
    "\n",
    "import neuron_searching as ns\n",
    "\n",
    "import skeleton_utils as sk\n",
    "\n",
    "import numpy_utils as nu\n",
    "\n",
    "import networkx_utils as xu"
   ]
  },
  {
   "cell_type": "code",
   "execution_count": 4,
   "metadata": {},
   "outputs": [
    {
     "name": "stderr",
     "output_type": "stream",
     "text": [
      "INFO - 2021-01-22 07:35:15,529 - settings - Setting enable_python_native_blobs to True\n",
      "INFO - 2021-01-22 07:35:15,809 - settings - Setting enable_python_native_blobs to True\n"
     ]
    }
   ],
   "source": [
    "minnie,_ = du.configure_minnie_vm()"
   ]
  },
  {
   "cell_type": "markdown",
   "metadata": {},
   "source": [
    "# The tables for inhibitory, excitatory cells"
   ]
  },
  {
   "cell_type": "code",
   "execution_count": 5,
   "metadata": {},
   "outputs": [
    {
     "data": {
      "text/html": [
       "\n",
       "        \n",
       "        <style type=\"text/css\">\n",
       "            .Relation{\n",
       "                border-collapse:collapse;\n",
       "            }\n",
       "            .Relation th{\n",
       "                background: #A0A0A0; color: #ffffff; padding:4px; border:#f0e0e0 1px solid;\n",
       "                font-weight: normal; font-family: monospace; font-size: 100%;\n",
       "            }\n",
       "            .Relation td{\n",
       "                padding:4px; border:#f0e0e0 1px solid; font-size:100%;\n",
       "            }\n",
       "            .Relation tr:nth-child(odd){\n",
       "                background: #ffffff;\n",
       "            }\n",
       "            .Relation tr:nth-child(even){\n",
       "                background: #f3f1ff;\n",
       "            }\n",
       "            /* Tooltip container */\n",
       "            .djtooltip {\n",
       "            }\n",
       "            /* Tooltip text */\n",
       "            .djtooltip .djtooltiptext {\n",
       "                visibility: hidden;\n",
       "                width: 120px;\n",
       "                background-color: black;\n",
       "                color: #fff;\n",
       "                text-align: center;\n",
       "                padding: 5px 0;\n",
       "                border-radius: 6px;\n",
       "                /* Position the tooltip text - see examples below! */\n",
       "                position: absolute;\n",
       "                z-index: 1;\n",
       "            }\n",
       "            #primary {\n",
       "                font-weight: bold;\n",
       "                color: black;\n",
       "            }\n",
       "\n",
       "            #nonprimary {\n",
       "                font-weight: normal;\n",
       "                color: white;\n",
       "            }\n",
       "\n",
       "            /* Show the tooltip text when you mouse over the tooltip container */\n",
       "            .djtooltip:hover .djtooltiptext {\n",
       "                visibility: visible;\n",
       "            }\n",
       "        </style>\n",
       "        \n",
       "        <b></b>\n",
       "            <div style=\"max-height:1000px;max-width:1500px;overflow:auto;\">\n",
       "            <table border=\"1\" class=\"Relation\">\n",
       "                <thead> <tr style=\"text-align: right;\"> <th> <div class=\"djtooltip\">\n",
       "                                <p id=\"primary\">nucleus_id</p>\n",
       "                                <span class=\"djtooltiptext\">id of segmented nucleus</span>\n",
       "                            </div></th><th><div class=\"djtooltip\">\n",
       "                                <p id=\"primary\">nucleus_version</p>\n",
       "                                <span class=\"djtooltiptext\">segmentation version</span>\n",
       "                            </div></th><th><div class=\"djtooltip\">\n",
       "                                <p id=\"primary\">segment_id</p>\n",
       "                                <span class=\"djtooltiptext\">segment_id merged to nucleus</span>\n",
       "                            </div></th><th><div class=\"djtooltip\">\n",
       "                                <p id=\"nonprimary\">cell_type</p>\n",
       "                                <span class=\"djtooltiptext\">morphology (valid options: 'excitatory', 'inhibitory', 'other', 'unknown')</span>\n",
       "                            </div></th><th><div class=\"djtooltip\">\n",
       "                                <p id=\"nonprimary\">classifier</p>\n",
       "                                <span class=\"djtooltiptext\">name of human classifier</span>\n",
       "                            </div></th><th><div class=\"djtooltip\">\n",
       "                                <p id=\"nonprimary\">timestamp</p>\n",
       "                                <span class=\"djtooltiptext\"></span>\n",
       "                            </div> </th> </tr> </thead>\n",
       "                <tbody> <tr> <td>43915</td>\n",
       "<td>3</td>\n",
       "<td>864691135272175377</td>\n",
       "<td>unknown</td>\n",
       "<td>stelios</td>\n",
       "<td>2020-11-27 03:35:00</td></tr><tr><td>43989</td>\n",
       "<td>3</td>\n",
       "<td>864691135781479503</td>\n",
       "<td>excitatory</td>\n",
       "<td>stelios</td>\n",
       "<td>2020-11-27 03:30:20</td></tr><tr><td>71096</td>\n",
       "<td>3</td>\n",
       "<td>864691135269778085</td>\n",
       "<td>excitatory</td>\n",
       "<td>stelios</td>\n",
       "<td>2020-11-27 03:36:45</td></tr><tr><td>73494</td>\n",
       "<td>3</td>\n",
       "<td>864691135776583776</td>\n",
       "<td>excitatory</td>\n",
       "<td>stelios</td>\n",
       "<td>2020-11-27 03:31:02</td></tr><tr><td>76763</td>\n",
       "<td>3</td>\n",
       "<td>864691136333770163</td>\n",
       "<td>other</td>\n",
       "<td>stelios</td>\n",
       "<td>2020-11-27 02:22:03</td></tr><tr><td>81095</td>\n",
       "<td>3</td>\n",
       "<td>864691135462264733</td>\n",
       "<td>other</td>\n",
       "<td>stelios</td>\n",
       "<td>2020-11-27 02:21:50</td></tr><tr><td>81844</td>\n",
       "<td>3</td>\n",
       "<td>864691135570922063</td>\n",
       "<td>unknown</td>\n",
       "<td>stelios</td>\n",
       "<td>2020-11-27 03:33:13</td></tr><tr><td>85823</td>\n",
       "<td>3</td>\n",
       "<td>864691135859328688</td>\n",
       "<td>other</td>\n",
       "<td>stelios</td>\n",
       "<td>2020-11-27 03:35:47</td></tr><tr><td>106594</td>\n",
       "<td>3</td>\n",
       "<td>864691135617716623</td>\n",
       "<td>other</td>\n",
       "<td>stelios</td>\n",
       "<td>2020-11-27 02:21:38</td></tr><tr><td>112738</td>\n",
       "<td>3</td>\n",
       "<td>864691136436394654</td>\n",
       "<td>excitatory</td>\n",
       "<td>stelios</td>\n",
       "<td>2020-11-27 04:29:27</td></tr><tr><td>119911</td>\n",
       "<td>3</td>\n",
       "<td>864691136194314572</td>\n",
       "<td>inhibitory</td>\n",
       "<td>stelios</td>\n",
       "<td>2020-11-27 04:15:37</td></tr><tr><td>120370</td>\n",
       "<td>3</td>\n",
       "<td>864691137196926529</td>\n",
       "<td>excitatory</td>\n",
       "<td>stelios</td>\n",
       "<td>2020-11-27 03:34:29</td> </tr> </tbody>\n",
       "            </table>\n",
       "            <p>...</p>\n",
       "            <p>Total: 368</p></div>\n",
       "            "
      ],
      "text/plain": [
       "*nucleus_id    *nucleus_versi *segment_id    cell_type      classifier     timestamp     \n",
       "+------------+ +------------+ +------------+ +------------+ +------------+ +------------+\n",
       "43915          3              86469113527217 unknown        stelios        2020-11-27 03:\n",
       "43989          3              86469113578147 excitatory     stelios        2020-11-27 03:\n",
       "71096          3              86469113526977 excitatory     stelios        2020-11-27 03:\n",
       "73494          3              86469113577658 excitatory     stelios        2020-11-27 03:\n",
       "76763          3              86469113633377 other          stelios        2020-11-27 02:\n",
       "81095          3              86469113546226 other          stelios        2020-11-27 02:\n",
       "81844          3              86469113557092 unknown        stelios        2020-11-27 03:\n",
       "85823          3              86469113585932 other          stelios        2020-11-27 03:\n",
       "106594         3              86469113561771 other          stelios        2020-11-27 02:\n",
       "112738         3              86469113643639 excitatory     stelios        2020-11-27 04:\n",
       "119911         3              86469113619431 inhibitory     stelios        2020-11-27 04:\n",
       "120370         3              86469113719692 excitatory     stelios        2020-11-27 03:\n",
       "   ...\n",
       " (Total: 368)"
      ]
     },
     "execution_count": 5,
     "metadata": {},
     "output_type": "execute_result"
    }
   ],
   "source": [
    "classified_table = minnie.BaylorManualCellType() & 'nucleus_version=3'\n",
    "classified_table"
   ]
  },
  {
   "cell_type": "code",
   "execution_count": 6,
   "metadata": {},
   "outputs": [
    {
     "data": {
      "text/html": [
       "\n",
       "        \n",
       "        <style type=\"text/css\">\n",
       "            .Relation{\n",
       "                border-collapse:collapse;\n",
       "            }\n",
       "            .Relation th{\n",
       "                background: #A0A0A0; color: #ffffff; padding:4px; border:#f0e0e0 1px solid;\n",
       "                font-weight: normal; font-family: monospace; font-size: 100%;\n",
       "            }\n",
       "            .Relation td{\n",
       "                padding:4px; border:#f0e0e0 1px solid; font-size:100%;\n",
       "            }\n",
       "            .Relation tr:nth-child(odd){\n",
       "                background: #ffffff;\n",
       "            }\n",
       "            .Relation tr:nth-child(even){\n",
       "                background: #f3f1ff;\n",
       "            }\n",
       "            /* Tooltip container */\n",
       "            .djtooltip {\n",
       "            }\n",
       "            /* Tooltip text */\n",
       "            .djtooltip .djtooltiptext {\n",
       "                visibility: hidden;\n",
       "                width: 120px;\n",
       "                background-color: black;\n",
       "                color: #fff;\n",
       "                text-align: center;\n",
       "                padding: 5px 0;\n",
       "                border-radius: 6px;\n",
       "                /* Position the tooltip text - see examples below! */\n",
       "                position: absolute;\n",
       "                z-index: 1;\n",
       "            }\n",
       "            #primary {\n",
       "                font-weight: bold;\n",
       "                color: black;\n",
       "            }\n",
       "\n",
       "            #nonprimary {\n",
       "                font-weight: normal;\n",
       "                color: white;\n",
       "            }\n",
       "\n",
       "            /* Show the tooltip text when you mouse over the tooltip container */\n",
       "            .djtooltip:hover .djtooltiptext {\n",
       "                visibility: visible;\n",
       "            }\n",
       "        </style>\n",
       "        \n",
       "        <b>Decimated meshes</b>\n",
       "            <div style=\"max-height:1000px;max-width:1500px;overflow:auto;\">\n",
       "            <table border=\"1\" class=\"Relation\">\n",
       "                <thead> <tr style=\"text-align: right;\"> <th> <div class=\"djtooltip\">\n",
       "                                <p id=\"primary\">segment_id</p>\n",
       "                                <span class=\"djtooltiptext\">segment id unique within each Segmentation</span>\n",
       "                            </div></th><th><div class=\"djtooltip\">\n",
       "                                <p id=\"primary\">version</p>\n",
       "                                <span class=\"djtooltiptext\"></span>\n",
       "                            </div></th><th><div class=\"djtooltip\">\n",
       "                                <p id=\"primary\">decimation_ratio</p>\n",
       "                                <span class=\"djtooltiptext\">ratio of remaining mesh vertices/faces (which ones depends on what metric the decimation technique uses)</span>\n",
       "                            </div></th><th><div class=\"djtooltip\">\n",
       "                                <p id=\"nonprimary\">n_vertices</p>\n",
       "                                <span class=\"djtooltiptext\"></span>\n",
       "                            </div></th><th><div class=\"djtooltip\">\n",
       "                                <p id=\"nonprimary\">n_faces</p>\n",
       "                                <span class=\"djtooltiptext\"></span>\n",
       "                            </div></th><th><div class=\"djtooltip\">\n",
       "                                <p id=\"nonprimary\">mesh</p>\n",
       "                                <span class=\"djtooltiptext\">in-place path to the hdf5 (decimated) mesh file</span>\n",
       "                            </div> </th> </tr> </thead>\n",
       "                <tbody> <tr> <td>864691135272175377</td>\n",
       "<td>0</td>\n",
       "<td>0.25</td>\n",
       "<td>49415</td>\n",
       "<td>116541</td>\n",
       "<td>=BLOB=</td></tr><tr><td>864691135781479503</td>\n",
       "<td>0</td>\n",
       "<td>0.25</td>\n",
       "<td>49896</td>\n",
       "<td>99336</td>\n",
       "<td>=BLOB=</td></tr><tr><td>864691135269778085</td>\n",
       "<td>0</td>\n",
       "<td>0.25</td>\n",
       "<td>54886</td>\n",
       "<td>137249</td>\n",
       "<td>=BLOB=</td></tr><tr><td>864691135776583776</td>\n",
       "<td>0</td>\n",
       "<td>0.25</td>\n",
       "<td>38756</td>\n",
       "<td>93834</td>\n",
       "<td>=BLOB=</td></tr><tr><td>864691136333770163</td>\n",
       "<td>0</td>\n",
       "<td>0.25</td>\n",
       "<td>443884</td>\n",
       "<td>914559</td>\n",
       "<td>=BLOB=</td></tr><tr><td>864691135462264733</td>\n",
       "<td>0</td>\n",
       "<td>0.25</td>\n",
       "<td>383607</td>\n",
       "<td>786834</td>\n",
       "<td>=BLOB=</td></tr><tr><td>864691135570922063</td>\n",
       "<td>0</td>\n",
       "<td>0.25</td>\n",
       "<td>12729</td>\n",
       "<td>25588</td>\n",
       "<td>=BLOB=</td></tr><tr><td>864691135859328688</td>\n",
       "<td>0</td>\n",
       "<td>0.25</td>\n",
       "<td>15508</td>\n",
       "<td>31041</td>\n",
       "<td>=BLOB=</td></tr><tr><td>864691135617716623</td>\n",
       "<td>0</td>\n",
       "<td>0.25</td>\n",
       "<td>1429227</td>\n",
       "<td>2911995</td>\n",
       "<td>=BLOB=</td></tr><tr><td>864691136436394654</td>\n",
       "<td>0</td>\n",
       "<td>0.25</td>\n",
       "<td>414218</td>\n",
       "<td>847287</td>\n",
       "<td>=BLOB=</td></tr><tr><td>864691136194314572</td>\n",
       "<td>0</td>\n",
       "<td>0.25</td>\n",
       "<td>647489</td>\n",
       "<td>1307673</td>\n",
       "<td>=BLOB=</td></tr><tr><td>864691137196926529</td>\n",
       "<td>0</td>\n",
       "<td>0.25</td>\n",
       "<td>100755</td>\n",
       "<td>216197</td>\n",
       "<td>=BLOB=</td> </tr> </tbody>\n",
       "            </table>\n",
       "            <p>...</p>\n",
       "            <p>Total: 355</p></div>\n",
       "            "
      ],
      "text/plain": [
       "*segment_id    *version    *decimation_ra n_vertices     n_faces     mesh      \n",
       "+------------+ +---------+ +------------+ +------------+ +---------+ +--------+\n",
       "86469113527217 0           0.25           49415          116541      =BLOB=    \n",
       "86469113578147 0           0.25           49896          99336       =BLOB=    \n",
       "86469113526977 0           0.25           54886          137249      =BLOB=    \n",
       "86469113577658 0           0.25           38756          93834       =BLOB=    \n",
       "86469113633377 0           0.25           443884         914559      =BLOB=    \n",
       "86469113546226 0           0.25           383607         786834      =BLOB=    \n",
       "86469113557092 0           0.25           12729          25588       =BLOB=    \n",
       "86469113585932 0           0.25           15508          31041       =BLOB=    \n",
       "86469113561771 0           0.25           1429227        2911995     =BLOB=    \n",
       "86469113643639 0           0.25           414218         847287      =BLOB=    \n",
       "86469113619431 0           0.25           647489         1307673     =BLOB=    \n",
       "86469113719692 0           0.25           100755         216197      =BLOB=    \n",
       "   ...\n",
       " (Total: 355)"
      ]
     },
     "execution_count": 6,
     "metadata": {},
     "output_type": "execute_result"
    }
   ],
   "source": [
    "# looking at how many of these neurons are in decimation already\n",
    "(minnie.Decimation() & dict(decimation_ratio=0.25)) & classified_table.proj()"
   ]
  },
  {
   "cell_type": "code",
   "execution_count": 7,
   "metadata": {},
   "outputs": [
    {
     "data": {
      "text/html": [
       "\n",
       "        \n",
       "        <style type=\"text/css\">\n",
       "            .Relation{\n",
       "                border-collapse:collapse;\n",
       "            }\n",
       "            .Relation th{\n",
       "                background: #A0A0A0; color: #ffffff; padding:4px; border:#f0e0e0 1px solid;\n",
       "                font-weight: normal; font-family: monospace; font-size: 100%;\n",
       "            }\n",
       "            .Relation td{\n",
       "                padding:4px; border:#f0e0e0 1px solid; font-size:100%;\n",
       "            }\n",
       "            .Relation tr:nth-child(odd){\n",
       "                background: #ffffff;\n",
       "            }\n",
       "            .Relation tr:nth-child(even){\n",
       "                background: #f3f1ff;\n",
       "            }\n",
       "            /* Tooltip container */\n",
       "            .djtooltip {\n",
       "            }\n",
       "            /* Tooltip text */\n",
       "            .djtooltip .djtooltiptext {\n",
       "                visibility: hidden;\n",
       "                width: 120px;\n",
       "                background-color: black;\n",
       "                color: #fff;\n",
       "                text-align: center;\n",
       "                padding: 5px 0;\n",
       "                border-radius: 6px;\n",
       "                /* Position the tooltip text - see examples below! */\n",
       "                position: absolute;\n",
       "                z-index: 1;\n",
       "            }\n",
       "            #primary {\n",
       "                font-weight: bold;\n",
       "                color: black;\n",
       "            }\n",
       "\n",
       "            #nonprimary {\n",
       "                font-weight: normal;\n",
       "                color: white;\n",
       "            }\n",
       "\n",
       "            /* Show the tooltip text when you mouse over the tooltip container */\n",
       "            .djtooltip:hover .djtooltiptext {\n",
       "                visibility: visible;\n",
       "            }\n",
       "        </style>\n",
       "        \n",
       "        \n",
       "            <div style=\"max-height:1000px;max-width:1500px;overflow:auto;\">\n",
       "            <table border=\"1\" class=\"Relation\">\n",
       "                <thead> <tr style=\"text-align: right;\"> <th> <div class=\"djtooltip\">\n",
       "                                <p id=\"primary\">segment_id</p>\n",
       "                                <span class=\"djtooltiptext\">segment id unique within each Segmentation</span>\n",
       "                            </div> </th> </tr> </thead>\n",
       "                <tbody> <tr> <td>864691135272175377</td></tr><tr><td>864691135781479503</td></tr><tr><td>864691135269778085</td></tr><tr><td>864691135776583776</td></tr><tr><td>864691136333770163</td></tr><tr><td>864691135462264733</td></tr><tr><td>864691135570922063</td></tr><tr><td>864691135859328688</td></tr><tr><td>864691135617716623</td></tr><tr><td>864691136436394654</td></tr><tr><td>864691136194314572</td></tr><tr><td>864691137196926529</td> </tr> </tbody>\n",
       "            </table>\n",
       "            <p>...</p>\n",
       "            <p>Total: 350</p></div>\n",
       "            "
      ],
      "text/plain": [
       "*segment_id   \n",
       "+------------+\n",
       "86469113527217\n",
       "86469113578147\n",
       "86469113526977\n",
       "86469113577658\n",
       "86469113633377\n",
       "86469113546226\n",
       "86469113557092\n",
       "86469113585932\n",
       "86469113561771\n",
       "86469113643639\n",
       "86469113619431\n",
       "86469113719692\n",
       "   ...\n",
       " (Total: 350)"
      ]
     },
     "execution_count": 7,
     "metadata": {},
     "output_type": "execute_result"
    }
   ],
   "source": [
    "import datajoint as dj\n",
    "dj.U(\"segment_id\") & (minnie.BaylorSegmentCentroid()  & classified_table.proj())"
   ]
  },
  {
   "cell_type": "code",
   "execution_count": 8,
   "metadata": {},
   "outputs": [
    {
     "data": {
      "text/html": [
       "\n",
       "        \n",
       "        <style type=\"text/css\">\n",
       "            .Relation{\n",
       "                border-collapse:collapse;\n",
       "            }\n",
       "            .Relation th{\n",
       "                background: #A0A0A0; color: #ffffff; padding:4px; border:#f0e0e0 1px solid;\n",
       "                font-weight: normal; font-family: monospace; font-size: 100%;\n",
       "            }\n",
       "            .Relation td{\n",
       "                padding:4px; border:#f0e0e0 1px solid; font-size:100%;\n",
       "            }\n",
       "            .Relation tr:nth-child(odd){\n",
       "                background: #ffffff;\n",
       "            }\n",
       "            .Relation tr:nth-child(even){\n",
       "                background: #f3f1ff;\n",
       "            }\n",
       "            /* Tooltip container */\n",
       "            .djtooltip {\n",
       "            }\n",
       "            /* Tooltip text */\n",
       "            .djtooltip .djtooltiptext {\n",
       "                visibility: hidden;\n",
       "                width: 120px;\n",
       "                background-color: black;\n",
       "                color: #fff;\n",
       "                text-align: center;\n",
       "                padding: 5px 0;\n",
       "                border-radius: 6px;\n",
       "                /* Position the tooltip text - see examples below! */\n",
       "                position: absolute;\n",
       "                z-index: 1;\n",
       "            }\n",
       "            #primary {\n",
       "                font-weight: bold;\n",
       "                color: black;\n",
       "            }\n",
       "\n",
       "            #nonprimary {\n",
       "                font-weight: normal;\n",
       "                color: white;\n",
       "            }\n",
       "\n",
       "            /* Show the tooltip text when you mouse over the tooltip container */\n",
       "            .djtooltip:hover .djtooltiptext {\n",
       "                visibility: visible;\n",
       "            }\n",
       "        </style>\n",
       "        \n",
       "        \n",
       "            <div style=\"max-height:1000px;max-width:1500px;overflow:auto;\">\n",
       "            <table border=\"1\" class=\"Relation\">\n",
       "                <thead> <tr style=\"text-align: right;\"> <th> <div class=\"djtooltip\">\n",
       "                                <p id=\"primary\">segment_id</p>\n",
       "                                <span class=\"djtooltiptext\">segment id unique within each Segmentation</span>\n",
       "                            </div> </th> </tr> </thead>\n",
       "                <tbody> <tr> <td>864691135272175377</td></tr><tr><td>864691135781479503</td></tr><tr><td>864691135269778085</td></tr><tr><td>864691135570922063</td></tr><tr><td>864691135859328688</td></tr><tr><td>864691136004721098</td></tr><tr><td>864691135523678660</td></tr><tr><td>864691135382160370</td></tr><tr><td>864691135725629503</td></tr><tr><td>864691135337703398</td></tr><tr><td>864691135581598573</td></tr><tr><td>864691136008472236</td> </tr> </tbody>\n",
       "            </table>\n",
       "            <p>...</p>\n",
       "            <p>Total: 186</p></div>\n",
       "            "
      ],
      "text/plain": [
       "*segment_id   \n",
       "+------------+\n",
       "86469113527217\n",
       "86469113578147\n",
       "86469113526977\n",
       "86469113557092\n",
       "86469113585932\n",
       "86469113600472\n",
       "86469113552367\n",
       "86469113538216\n",
       "86469113572562\n",
       "86469113533770\n",
       "86469113558159\n",
       "86469113600847\n",
       "   ...\n",
       " (Total: 186)"
      ]
     },
     "execution_count": 8,
     "metadata": {},
     "output_type": "execute_result"
    }
   ],
   "source": [
    "classified_decomp = dj.U(\"segment_id\") & (minnie.Decomposition()  & classified_table.proj())\n",
    "classified_decomp"
   ]
  },
  {
   "cell_type": "code",
   "execution_count": 9,
   "metadata": {},
   "outputs": [
    {
     "data": {
      "text/html": [
       "\n",
       "        \n",
       "        <style type=\"text/css\">\n",
       "            .Relation{\n",
       "                border-collapse:collapse;\n",
       "            }\n",
       "            .Relation th{\n",
       "                background: #A0A0A0; color: #ffffff; padding:4px; border:#f0e0e0 1px solid;\n",
       "                font-weight: normal; font-family: monospace; font-size: 100%;\n",
       "            }\n",
       "            .Relation td{\n",
       "                padding:4px; border:#f0e0e0 1px solid; font-size:100%;\n",
       "            }\n",
       "            .Relation tr:nth-child(odd){\n",
       "                background: #ffffff;\n",
       "            }\n",
       "            .Relation tr:nth-child(even){\n",
       "                background: #f3f1ff;\n",
       "            }\n",
       "            /* Tooltip container */\n",
       "            .djtooltip {\n",
       "            }\n",
       "            /* Tooltip text */\n",
       "            .djtooltip .djtooltiptext {\n",
       "                visibility: hidden;\n",
       "                width: 120px;\n",
       "                background-color: black;\n",
       "                color: #fff;\n",
       "                text-align: center;\n",
       "                padding: 5px 0;\n",
       "                border-radius: 6px;\n",
       "                /* Position the tooltip text - see examples below! */\n",
       "                position: absolute;\n",
       "                z-index: 1;\n",
       "            }\n",
       "            #primary {\n",
       "                font-weight: bold;\n",
       "                color: black;\n",
       "            }\n",
       "\n",
       "            #nonprimary {\n",
       "                font-weight: normal;\n",
       "                color: white;\n",
       "            }\n",
       "\n",
       "            /* Show the tooltip text when you mouse over the tooltip container */\n",
       "            .djtooltip:hover .djtooltiptext {\n",
       "                visibility: visible;\n",
       "            }\n",
       "        </style>\n",
       "        \n",
       "        <b></b>\n",
       "            <div style=\"max-height:1000px;max-width:1500px;overflow:auto;\">\n",
       "            <table border=\"1\" class=\"Relation\">\n",
       "                <thead> <tr style=\"text-align: right;\"> <th> <div class=\"djtooltip\">\n",
       "                                <p id=\"primary\">segment_id</p>\n",
       "                                <span class=\"djtooltiptext\">segment id unique within each Segmentation</span>\n",
       "                            </div></th><th><div class=\"djtooltip\">\n",
       "                                <p id=\"primary\">decimation_version</p>\n",
       "                                <span class=\"djtooltiptext\"></span>\n",
       "                            </div></th><th><div class=\"djtooltip\">\n",
       "                                <p id=\"primary\">decimation_ratio</p>\n",
       "                                <span class=\"djtooltiptext\">ratio of remaining mesh vertices/faces (which ones depends on what metric the decimation technique uses)</span>\n",
       "                            </div></th><th><div class=\"djtooltip\">\n",
       "                                <p id=\"primary\">ver</p>\n",
       "                                <span class=\"djtooltiptext\">the version number of the materializaiton</span>\n",
       "                            </div></th><th><div class=\"djtooltip\">\n",
       "                                <p id=\"primary\">process_version</p>\n",
       "                                <span class=\"djtooltiptext\">the version of the preprocessing pipeline run</span>\n",
       "                            </div></th><th><div class=\"djtooltip\">\n",
       "                                <p id=\"primary\">index</p>\n",
       "                                <span class=\"djtooltiptext\">the index of the neuron object that resulted from that mesh (indexed starting at 0)</span>\n",
       "                            </div></th><th><div class=\"djtooltip\">\n",
       "                                <p id=\"nonprimary\">multiplicity</p>\n",
       "                                <span class=\"djtooltiptext\">the number of somas found for this base segment</span>\n",
       "                            </div></th><th><div class=\"djtooltip\">\n",
       "                                <p id=\"nonprimary\">decomposition</p>\n",
       "                                <span class=\"djtooltiptext\"></span>\n",
       "                            </div></th><th><div class=\"djtooltip\">\n",
       "                                <p id=\"nonprimary\">n_vertices</p>\n",
       "                                <span class=\"djtooltiptext\">number of vertices</span>\n",
       "                            </div></th><th><div class=\"djtooltip\">\n",
       "                                <p id=\"nonprimary\">n_faces</p>\n",
       "                                <span class=\"djtooltiptext\">number of faces</span>\n",
       "                            </div></th><th><div class=\"djtooltip\">\n",
       "                                <p id=\"nonprimary\">n_not_processed_soma_containing_meshes</p>\n",
       "                                <span class=\"djtooltiptext\">the number of meshes with somas that were not processed</span>\n",
       "                            </div></th><th><div class=\"djtooltip\">\n",
       "                                <p id=\"nonprimary\">n_error_limbs</p>\n",
       "                                <span class=\"djtooltiptext\">the number of limbs that are touching multiple somas or 1 soma in multiple places</span>\n",
       "                            </div></th><th><div class=\"djtooltip\">\n",
       "                                <p id=\"nonprimary\">n_same_soma_multi_touching_limbs</p>\n",
       "                                <span class=\"djtooltiptext\">number of limbs that touch the same soma multiple times</span>\n",
       "                            </div></th><th><div class=\"djtooltip\">\n",
       "                                <p id=\"nonprimary\">n_multi_soma_touching_limbs</p>\n",
       "                                <span class=\"djtooltiptext\">number of limbs that touch multiple somas</span>\n",
       "                            </div></th><th><div class=\"djtooltip\">\n",
       "                                <p id=\"nonprimary\">n_somas</p>\n",
       "                                <span class=\"djtooltiptext\">number of soma meshes detected</span>\n",
       "                            </div></th><th><div class=\"djtooltip\">\n",
       "                                <p id=\"nonprimary\">n_limbs</p>\n",
       "                                <span class=\"djtooltiptext\"></span>\n",
       "                            </div></th><th><div class=\"djtooltip\">\n",
       "                                <p id=\"nonprimary\">n_branches</p>\n",
       "                                <span class=\"djtooltiptext\"></span>\n",
       "                            </div></th><th><div class=\"djtooltip\">\n",
       "                                <p id=\"nonprimary\">max_limb_n_branches</p>\n",
       "                                <span class=\"djtooltiptext\"></span>\n",
       "                            </div></th><th><div class=\"djtooltip\">\n",
       "                                <p id=\"nonprimary\">skeletal_length</p>\n",
       "                                <span class=\"djtooltiptext\"></span>\n",
       "                            </div></th><th><div class=\"djtooltip\">\n",
       "                                <p id=\"nonprimary\">max_limb_skeletal_length</p>\n",
       "                                <span class=\"djtooltiptext\"></span>\n",
       "                            </div></th><th><div class=\"djtooltip\">\n",
       "                                <p id=\"nonprimary\">median_branch_length</p>\n",
       "                                <span class=\"djtooltiptext\">gives information on average skeletal length to next branch point</span>\n",
       "                            </div></th><th><div class=\"djtooltip\">\n",
       "                                <p id=\"nonprimary\">width_median</p>\n",
       "                                <span class=\"djtooltiptext\">median width from mesh center without spines removed</span>\n",
       "                            </div></th><th><div class=\"djtooltip\">\n",
       "                                <p id=\"nonprimary\">width_no_spine_median</p>\n",
       "                                <span class=\"djtooltiptext\">median width from mesh center with spines removed</span>\n",
       "                            </div></th><th><div class=\"djtooltip\">\n",
       "                                <p id=\"nonprimary\">width_90_perc</p>\n",
       "                                <span class=\"djtooltiptext\">90th percentile for width without spines removed</span>\n",
       "                            </div></th><th><div class=\"djtooltip\">\n",
       "                                <p id=\"nonprimary\">width_no_spine_90_perc</p>\n",
       "                                <span class=\"djtooltiptext\">90th percentile for width with spines removed</span>\n",
       "                            </div></th><th><div class=\"djtooltip\">\n",
       "                                <p id=\"nonprimary\">n_spines</p>\n",
       "                                <span class=\"djtooltiptext\"></span>\n",
       "                            </div></th><th><div class=\"djtooltip\">\n",
       "                                <p id=\"nonprimary\">spine_density</p>\n",
       "                                <span class=\"djtooltiptext\">n_spines/ skeletal_length</span>\n",
       "                            </div></th><th><div class=\"djtooltip\">\n",
       "                                <p id=\"nonprimary\">spines_per_branch</p>\n",
       "                                <span class=\"djtooltiptext\"></span>\n",
       "                            </div></th><th><div class=\"djtooltip\">\n",
       "                                <p id=\"nonprimary\">skeletal_length_eligible</p>\n",
       "                                <span class=\"djtooltiptext\">the skeletal length for all branches searched for spines</span>\n",
       "                            </div></th><th><div class=\"djtooltip\">\n",
       "                                <p id=\"nonprimary\">n_spine_eligible_branches</p>\n",
       "                                <span class=\"djtooltiptext\">the number of branches that were checked for spines because passed width threshold</span>\n",
       "                            </div></th><th><div class=\"djtooltip\">\n",
       "                                <p id=\"nonprimary\">spine_density_eligible</p>\n",
       "                                <span class=\"djtooltiptext\">n_spines/skeletal_length_eligible</span>\n",
       "                            </div></th><th><div class=\"djtooltip\">\n",
       "                                <p id=\"nonprimary\">spines_per_branch_eligible</p>\n",
       "                                <span class=\"djtooltiptext\">n_spines/n_spine_eligible_branches</span>\n",
       "                            </div></th><th><div class=\"djtooltip\">\n",
       "                                <p id=\"nonprimary\">total_spine_volume</p>\n",
       "                                <span class=\"djtooltiptext\">the sum of all spine volume</span>\n",
       "                            </div></th><th><div class=\"djtooltip\">\n",
       "                                <p id=\"nonprimary\">spine_volume_median</p>\n",
       "                                <span class=\"djtooltiptext\">median of the spine volume for those spines with able to calculate volume</span>\n",
       "                            </div></th><th><div class=\"djtooltip\">\n",
       "                                <p id=\"nonprimary\">spine_volume_density</p>\n",
       "                                <span class=\"djtooltiptext\">total_spine_volume/skeletal_length</span>\n",
       "                            </div></th><th><div class=\"djtooltip\">\n",
       "                                <p id=\"nonprimary\">spine_volume_density_eligible</p>\n",
       "                                <span class=\"djtooltiptext\">total_spine_volume/skeletal_length_eligible</span>\n",
       "                            </div></th><th><div class=\"djtooltip\">\n",
       "                                <p id=\"nonprimary\">spine_volume_per_branch_eligible</p>\n",
       "                                <span class=\"djtooltiptext\">total_spine_volume/n_spine_eligible_branches</span>\n",
       "                            </div></th><th><div class=\"djtooltip\">\n",
       "                                <p id=\"nonprimary\">run_time</p>\n",
       "                                <span class=\"djtooltiptext\">the amount of time to run (seconds)</span>\n",
       "                            </div> </th> </tr> </thead>\n",
       "                <tbody> <tr> <td>864691135781479503</td>\n",
       "<td>0</td>\n",
       "<td>0.25</td>\n",
       "<td>30.00</td>\n",
       "<td>1</td>\n",
       "<td>0</td>\n",
       "<td>1</td>\n",
       "<td>=BLOB=</td>\n",
       "<td>49896</td>\n",
       "<td>99336</td>\n",
       "<td>0</td>\n",
       "<td>0</td>\n",
       "<td>0</td>\n",
       "<td>0</td>\n",
       "<td>1</td>\n",
       "<td>5</td>\n",
       "<td>17</td>\n",
       "<td>5</td>\n",
       "<td>226672.13053857177</td>\n",
       "<td>75504.12284558205</td>\n",
       "<td>10157.276</td>\n",
       "<td>382.387</td>\n",
       "<td>377.228</td>\n",
       "<td>625.586</td>\n",
       "<td>625.586</td>\n",
       "<td>41</td>\n",
       "<td>0.00018087799281977992</td>\n",
       "<td>2.411764705882353</td>\n",
       "<td>226672.131</td>\n",
       "<td>17</td>\n",
       "<td>0.00018087799245157315</td>\n",
       "<td>2.412</td>\n",
       "<td>8161926611.552537</td>\n",
       "<td>118414501.81582816</td>\n",
       "<td>36007.63178146269</td>\n",
       "<td>36007.631708163266</td>\n",
       "<td>480113330.0913257</td>\n",
       "<td>161.4672</td></tr><tr><td>864691135269778085</td>\n",
       "<td>0</td>\n",
       "<td>0.25</td>\n",
       "<td>30.00</td>\n",
       "<td>0</td>\n",
       "<td>0</td>\n",
       "<td>1</td>\n",
       "<td>=BLOB=</td>\n",
       "<td>54886</td>\n",
       "<td>137249</td>\n",
       "<td>0</td>\n",
       "<td>0</td>\n",
       "<td>0</td>\n",
       "<td>0</td>\n",
       "<td>1</td>\n",
       "<td>1</td>\n",
       "<td>9</td>\n",
       "<td>9</td>\n",
       "<td>259616.22842272613</td>\n",
       "<td>259616.22842272613</td>\n",
       "<td>31382.993</td>\n",
       "<td>375.898</td>\n",
       "<td>337.387</td>\n",
       "<td>532.281</td>\n",
       "<td>497.674</td>\n",
       "<td>126</td>\n",
       "<td>0.000485331755897931</td>\n",
       "<td>14.0</td>\n",
       "<td>259616.228</td>\n",
       "<td>9</td>\n",
       "<td>0.0004853317566881836</td>\n",
       "<td>14.0</td>\n",
       "<td>21692088970.324295</td>\n",
       "<td>130208319.59808476</td>\n",
       "<td>83554.44150048913</td>\n",
       "<td>83554.44163653858</td>\n",
       "<td>2410232107.8138103</td>\n",
       "<td>121.7504</td></tr><tr><td>864691136004721098</td>\n",
       "<td>0</td>\n",
       "<td>0.25</td>\n",
       "<td>30.00</td>\n",
       "<td>1</td>\n",
       "<td>0</td>\n",
       "<td>1</td>\n",
       "<td>=BLOB=</td>\n",
       "<td>104080</td>\n",
       "<td>224182</td>\n",
       "<td>0</td>\n",
       "<td>0</td>\n",
       "<td>0</td>\n",
       "<td>0</td>\n",
       "<td>1</td>\n",
       "<td>6</td>\n",
       "<td>26</td>\n",
       "<td>11</td>\n",
       "<td>1002176.4388136197</td>\n",
       "<td>448367.4893572848</td>\n",
       "<td>29443.614</td>\n",
       "<td>265.921</td>\n",
       "<td>247.11</td>\n",
       "<td>418.725</td>\n",
       "<td>402.884</td>\n",
       "<td>297</td>\n",
       "<td>0.00029635500147218565</td>\n",
       "<td>11.423076923076923</td>\n",
       "<td>941501.121</td>\n",
       "<td>24</td>\n",
       "<td>0.00031545368707001253</td>\n",
       "<td>12.375</td>\n",
       "<td>72894254146.9965</td>\n",
       "<td>129506109.23066711</td>\n",
       "<td>72735.94880487213</td>\n",
       "<td>77423.43850804241</td>\n",
       "<td>3037260589.4581876</td>\n",
       "<td>321.2925</td></tr><tr><td>864691135725629503</td>\n",
       "<td>0</td>\n",
       "<td>0.25</td>\n",
       "<td>30.00</td>\n",
       "<td>0</td>\n",
       "<td>0</td>\n",
       "<td>1</td>\n",
       "<td>=BLOB=</td>\n",
       "<td>294527</td>\n",
       "<td>605009</td>\n",
       "<td>0</td>\n",
       "<td>0</td>\n",
       "<td>0</td>\n",
       "<td>0</td>\n",
       "<td>1</td>\n",
       "<td>7</td>\n",
       "<td>122</td>\n",
       "<td>90</td>\n",
       "<td>3983774.4188000374</td>\n",
       "<td>3075868.689500789</td>\n",
       "<td>16642.287</td>\n",
       "<td>72.56</td>\n",
       "<td>72.56</td>\n",
       "<td>302.027</td>\n",
       "<td>278.202</td>\n",
       "<td>354</td>\n",
       "<td>8.88604531244089e-05</td>\n",
       "<td>2.901639344262295</td>\n",
       "<td>1951991.164</td>\n",
       "<td>29</td>\n",
       "<td>0.0001813532799372856</td>\n",
       "<td>12.207</td>\n",
       "<td>40042327195.412094</td>\n",
       "<td>57745238.84199929</td>\n",
       "<td>10051.35406423774</td>\n",
       "<td>20513.580150310605</td>\n",
       "<td>1380769903.2900722</td>\n",
       "<td>1061.656</td></tr><tr><td>864691135337703398</td>\n",
       "<td>0</td>\n",
       "<td>0.25</td>\n",
       "<td>30.00</td>\n",
       "<td>0</td>\n",
       "<td>0</td>\n",
       "<td>1</td>\n",
       "<td>=BLOB=</td>\n",
       "<td>315689</td>\n",
       "<td>646904</td>\n",
       "<td>0</td>\n",
       "<td>0</td>\n",
       "<td>0</td>\n",
       "<td>0</td>\n",
       "<td>1</td>\n",
       "<td>6</td>\n",
       "<td>195</td>\n",
       "<td>132</td>\n",
       "<td>5107623.215336702</td>\n",
       "<td>3433465.2233310975</td>\n",
       "<td>17308.591</td>\n",
       "<td>74.907</td>\n",
       "<td>74.907</td>\n",
       "<td>286.098</td>\n",
       "<td>267.271</td>\n",
       "<td>521</td>\n",
       "<td>0.00010200439187361923</td>\n",
       "<td>2.6717948717948716</td>\n",
       "<td>1342610.209</td>\n",
       "<td>33</td>\n",
       "<td>0.00038805008073642614</td>\n",
       "<td>15.788</td>\n",
       "<td>119660747349.65529</td>\n",
       "<td>173817254.91832542</td>\n",
       "<td>23427.872868607257</td>\n",
       "<td>89125.45618045072</td>\n",
       "<td>3626083253.0198574</td>\n",
       "<td>21460.8731</td></tr><tr><td>864691135581598573</td>\n",
       "<td>0</td>\n",
       "<td>0.25</td>\n",
       "<td>30.00</td>\n",
       "<td>0</td>\n",
       "<td>0</td>\n",
       "<td>1</td>\n",
       "<td>=BLOB=</td>\n",
       "<td>260826</td>\n",
       "<td>539242</td>\n",
       "<td>0</td>\n",
       "<td>0</td>\n",
       "<td>0</td>\n",
       "<td>0</td>\n",
       "<td>1</td>\n",
       "<td>6</td>\n",
       "<td>97</td>\n",
       "<td>76</td>\n",
       "<td>3135944.7738076993</td>\n",
       "<td>2357792.352163731</td>\n",
       "<td>25575.906</td>\n",
       "<td>75.863</td>\n",
       "<td>75.863</td>\n",
       "<td>415.919</td>\n",
       "<td>385.193</td>\n",
       "<td>632</td>\n",
       "<td>0.00020153416134067263</td>\n",
       "<td>6.515463917525773</td>\n",
       "<td>1121840.112</td>\n",
       "<td>31</td>\n",
       "<td>0.0005633601377234406</td>\n",
       "<td>20.387</td>\n",
       "<td>113566305399.06818</td>\n",
       "<td>124505629.14031442</td>\n",
       "<td>36214.383093607445</td>\n",
       "<td>101232.1668518376</td>\n",
       "<td>3663429206.421554</td>\n",
       "<td>1023.9986</td></tr><tr><td>864691136008472236</td>\n",
       "<td>0</td>\n",
       "<td>0.25</td>\n",
       "<td>30.00</td>\n",
       "<td>2</td>\n",
       "<td>0</td>\n",
       "<td>1</td>\n",
       "<td>=BLOB=</td>\n",
       "<td>373892</td>\n",
       "<td>759363</td>\n",
       "<td>0</td>\n",
       "<td>0</td>\n",
       "<td>0</td>\n",
       "<td>0</td>\n",
       "<td>1</td>\n",
       "<td>9</td>\n",
       "<td>89</td>\n",
       "<td>15</td>\n",
       "<td>3405963.9562026164</td>\n",
       "<td>684900.0407284803</td>\n",
       "<td>27332.871</td>\n",
       "<td>330.316</td>\n",
       "<td>267.537</td>\n",
       "<td>457.503</td>\n",
       "<td>456.135</td>\n",
       "<td>1902</td>\n",
       "<td>0.0005584322160944361</td>\n",
       "<td>21.370786516853933</td>\n",
       "<td>3280390.37</td>\n",
       "<td>84</td>\n",
       "<td>0.0005798090426658581</td>\n",
       "<td>22.643</td>\n",
       "<td>378288941828.79767</td>\n",
       "<td>110073772.03885236</td>\n",
       "<td>111066.63097238418</td>\n",
       "<td>115318.2698279893</td>\n",
       "<td>4503439783.676163</td>\n",
       "<td>3430.1694</td></tr><tr><td>864691135660534512</td>\n",
       "<td>0</td>\n",
       "<td>0.25</td>\n",
       "<td>30.00</td>\n",
       "<td>0</td>\n",
       "<td>0</td>\n",
       "<td>1</td>\n",
       "<td>=BLOB=</td>\n",
       "<td>342731</td>\n",
       "<td>703249</td>\n",
       "<td>0</td>\n",
       "<td>1</td>\n",
       "<td>1</td>\n",
       "<td>0</td>\n",
       "<td>1</td>\n",
       "<td>6</td>\n",
       "<td>84</td>\n",
       "<td>35</td>\n",
       "<td>3370253.029046208</td>\n",
       "<td>1147762.6421870925</td>\n",
       "<td>21537.697</td>\n",
       "<td>219.563</td>\n",
       "<td>217.801</td>\n",
       "<td>464.768</td>\n",
       "<td>449.528</td>\n",
       "<td>1239</td>\n",
       "<td>0.0003676281837956365</td>\n",
       "<td>14.75</td>\n",
       "<td>2579401.661</td>\n",
       "<td>53</td>\n",
       "<td>0.0004803439567917686</td>\n",
       "<td>23.377</td>\n",
       "<td>287402074316.8515</td>\n",
       "<td>140506469.05680433</td>\n",
       "<td>85276.11186457035</td>\n",
       "<td>111421.99319412299</td>\n",
       "<td>5422680647.487764</td>\n",
       "<td>1259.3627</td></tr><tr><td>864691135511328708</td>\n",
       "<td>0</td>\n",
       "<td>0.25</td>\n",
       "<td>30.00</td>\n",
       "<td>0</td>\n",
       "<td>0</td>\n",
       "<td>1</td>\n",
       "<td>=BLOB=</td>\n",
       "<td>259696</td>\n",
       "<td>518137</td>\n",
       "<td>0</td>\n",
       "<td>0</td>\n",
       "<td>0</td>\n",
       "<td>0</td>\n",
       "<td>1</td>\n",
       "<td>5</td>\n",
       "<td>109</td>\n",
       "<td>83</td>\n",
       "<td>3337021.992361157</td>\n",
       "<td>2028335.0329865844</td>\n",
       "<td>17248.028</td>\n",
       "<td>85.379</td>\n",
       "<td>85.379</td>\n",
       "<td>368.509</td>\n",
       "<td>349.525</td>\n",
       "<td>647</td>\n",
       "<td>0.00019388544680887942</td>\n",
       "<td>5.935779816513762</td>\n",
       "<td>1415235.246</td>\n",
       "<td>33</td>\n",
       "<td>0.0004571678113788299</td>\n",
       "<td>19.606</td>\n",
       "<td>119243156451.78996</td>\n",
       "<td>110556646.60101318</td>\n",
       "<td>35733.404432081006</td>\n",
       "<td>84256.7741220529</td>\n",
       "<td>3613428983.3875747</td>\n",
       "<td>869.4934</td></tr><tr><td>864691135502012853</td>\n",
       "<td>0</td>\n",
       "<td>0.25</td>\n",
       "<td>30.00</td>\n",
       "<td>0</td>\n",
       "<td>0</td>\n",
       "<td>1</td>\n",
       "<td>=BLOB=</td>\n",
       "<td>324714</td>\n",
       "<td>662466</td>\n",
       "<td>0</td>\n",
       "<td>0</td>\n",
       "<td>0</td>\n",
       "<td>0</td>\n",
       "<td>1</td>\n",
       "<td>7</td>\n",
       "<td>54</td>\n",
       "<td>28</td>\n",
       "<td>2725855.3479327983</td>\n",
       "<td>935744.2466141125</td>\n",
       "<td>36387.928</td>\n",
       "<td>291.079</td>\n",
       "<td>251.763</td>\n",
       "<td>538.031</td>\n",
       "<td>465.563</td>\n",
       "<td>1358</td>\n",
       "<td>0.0004981922467125279</td>\n",
       "<td>25.14814814814815</td>\n",
       "<td>2144106.961</td>\n",
       "<td>33</td>\n",
       "<td>0.0006333639247953544</td>\n",
       "<td>41.152</td>\n",
       "<td>242951234791.42743</td>\n",
       "<td>125630898.03866</td>\n",
       "<td>89128.43998698387</td>\n",
       "<td>113311.1543456378</td>\n",
       "<td>7362158630.043256</td>\n",
       "<td>30695.7028</td></tr><tr><td>864691136020315128</td>\n",
       "<td>0</td>\n",
       "<td>0.25</td>\n",
       "<td>30.00</td>\n",
       "<td>2</td>\n",
       "<td>0</td>\n",
       "<td>1</td>\n",
       "<td>=BLOB=</td>\n",
       "<td>295494</td>\n",
       "<td>605215</td>\n",
       "<td>0</td>\n",
       "<td>1</td>\n",
       "<td>1</td>\n",
       "<td>0</td>\n",
       "<td>1</td>\n",
       "<td>5</td>\n",
       "<td>131</td>\n",
       "<td>57</td>\n",
       "<td>3772374.7076158</td>\n",
       "<td>1693650.418511337</td>\n",
       "<td>22946.82</td>\n",
       "<td>77.491</td>\n",
       "<td>77.491</td>\n",
       "<td>407.697</td>\n",
       "<td>358.996</td>\n",
       "<td>875</td>\n",
       "<td>0.00023194938674398377</td>\n",
       "<td>6.679389312977099</td>\n",
       "<td>1467485.912</td>\n",
       "<td>37</td>\n",
       "<td>0.000596257853547285</td>\n",
       "<td>23.649</td>\n",
       "<td>171142811010.39908</td>\n",
       "<td>106513844.3133405</td>\n",
       "<td>45367.39435371838</td>\n",
       "<td>116623.13730641053</td>\n",
       "<td>4625481378.659434</td>\n",
       "<td>882.9382</td></tr><tr><td>864691135373417928</td>\n",
       "<td>0</td>\n",
       "<td>0.25</td>\n",
       "<td>30.00</td>\n",
       "<td>0</td>\n",
       "<td>0</td>\n",
       "<td>1</td>\n",
       "<td>=BLOB=</td>\n",
       "<td>255097</td>\n",
       "<td>521810</td>\n",
       "<td>0</td>\n",
       "<td>0</td>\n",
       "<td>0</td>\n",
       "<td>0</td>\n",
       "<td>1</td>\n",
       "<td>7</td>\n",
       "<td>149</td>\n",
       "<td>109</td>\n",
       "<td>4112642.589896356</td>\n",
       "<td>3070739.783177175</td>\n",
       "<td>20311.733</td>\n",
       "<td>68.672</td>\n",
       "<td>68.672</td>\n",
       "<td>204.826</td>\n",
       "<td>182.961</td>\n",
       "<td>495</td>\n",
       "<td>0.00012036056846176721</td>\n",
       "<td>3.3221476510067114</td>\n",
       "<td>1028480.406</td>\n",
       "<td>21</td>\n",
       "<td>0.0004812925915868153</td>\n",
       "<td>23.571</td>\n",
       "<td>79913942137.15797</td>\n",
       "<td>84855883.59000206</td>\n",
       "<td>19431.28788615981</td>\n",
       "<td>77700.98649517488</td>\n",
       "<td>3805425816.0551414</td>\n",
       "<td>815.2132</td> </tr> </tbody>\n",
       "            </table>\n",
       "            <p>...</p>\n",
       "            <p>Total: 113</p></div>\n",
       "            "
      ],
      "text/plain": [
       "*segment_id    *decimation_ve *decimation_ra *ver      *process_versi *index    multiplicity   decomposit n_vertices     n_faces     n_not_processe n_error_limbs  n_same_soma_mu n_multi_soma_t n_somas     n_limbs     n_branches     max_limb_n_bra skeletal_lengt max_limb_skele median_branch_ width_median   width_no_spine width_90_perc  width_no_spine n_spines     spine_density  spines_per_bra skeletal_lengt n_spine_eligib spine_density_ spines_per_bra total_spine_vo spine_volume_m spine_volume_d spine_volume_d spine_volume_p run_time      \n",
       "+------------+ +------------+ +------------+ +-------+ +------------+ +-------+ +------------+ +--------+ +------------+ +---------+ +------------+ +------------+ +------------+ +------------+ +---------+ +---------+ +------------+ +------------+ +------------+ +------------+ +------------+ +------------+ +------------+ +------------+ +------------+ +----------+ +------------+ +------------+ +------------+ +------------+ +------------+ +------------+ +------------+ +------------+ +------------+ +------------+ +------------+ +------------+\n",
       "86469113578147 0              0.25           30.00     1              0         1              =BLOB=     49896          99336       0              0              0              0              1           5           17             5              226672.1305385 75504.12284558 10157.276      382.387        377.228        625.586        625.586        41           0.000180877992 2.411764705882 226672.131     17             0.000180877992 2.412          8161926611.552 118414501.8158 36007.63178146 36007.63170816 480113330.0913 161.4672      \n",
       "86469113526977 0              0.25           30.00     0              0         1              =BLOB=     54886          137249      0              0              0              0              1           1           9              9              259616.2284227 259616.2284227 31382.993      375.898        337.387        532.281        497.674        126          0.000485331755 14.0           259616.228     9              0.000485331756 14.0           21692088970.32 130208319.5980 83554.44150048 83554.44163653 2410232107.813 121.7504      \n",
       "86469113600472 0              0.25           30.00     1              0         1              =BLOB=     104080         224182      0              0              0              0              1           6           26             11             1002176.438813 448367.4893572 29443.614      265.921        247.11         418.725        402.884        297          0.000296355001 11.42307692307 941501.121     24             0.000315453687 12.375         72894254146.99 129506109.2306 72735.94880487 77423.43850804 3037260589.458 321.2925      \n",
       "86469113572562 0              0.25           30.00     0              0         1              =BLOB=     294527         605009      0              0              0              0              1           7           122            90             3983774.418800 3075868.689500 16642.287      72.56          72.56          302.027        278.202        354          8.886045312440 2.901639344262 1951991.164    29             0.000181353279 12.207         40042327195.41 57745238.84199 10051.35406423 20513.58015031 1380769903.290 1061.656      \n",
       "86469113533770 0              0.25           30.00     0              0         1              =BLOB=     315689         646904      0              0              0              0              1           6           195            132            5107623.215336 3433465.223331 17308.591      74.907         74.907         286.098        267.271        521          0.000102004391 2.671794871794 1342610.209    33             0.000388050080 15.788         119660747349.6 173817254.9183 23427.87286860 89125.45618045 3626083253.019 21460.8731    \n",
       "86469113558159 0              0.25           30.00     0              0         1              =BLOB=     260826         539242      0              0              0              0              1           6           97             76             3135944.773807 2357792.352163 25575.906      75.863         75.863         415.919        385.193        632          0.000201534161 6.515463917525 1121840.112    31             0.000563360137 20.387         113566305399.0 124505629.1403 36214.38309360 101232.1668518 3663429206.421 1023.9986     \n",
       "86469113600847 0              0.25           30.00     2              0         1              =BLOB=     373892         759363      0              0              0              0              1           9           89             15             3405963.956202 684900.0407284 27332.871      330.316        267.537        457.503        456.135        1902         0.000558432216 21.37078651685 3280390.37     84             0.000579809042 22.643         378288941828.7 110073772.0388 111066.6309723 115318.2698279 4503439783.676 3430.1694     \n",
       "86469113566053 0              0.25           30.00     0              0         1              =BLOB=     342731         703249      0              1              1              0              1           6           84             35             3370253.029046 1147762.642187 21537.697      219.563        217.801        464.768        449.528        1239         0.000367628183 14.75          2579401.661    53             0.000480343956 23.377         287402074316.8 140506469.0568 85276.11186457 111421.9931941 5422680647.487 1259.3627     \n",
       "86469113551132 0              0.25           30.00     0              0         1              =BLOB=     259696         518137      0              0              0              0              1           5           109            83             3337021.992361 2028335.032986 17248.028      85.379         85.379         368.509        349.525        647          0.000193885446 5.935779816513 1415235.246    33             0.000457167811 19.606         119243156451.7 110556646.6010 35733.40443208 84256.77412205 3613428983.387 869.4934      \n",
       "86469113550201 0              0.25           30.00     0              0         1              =BLOB=     324714         662466      0              0              0              0              1           7           54             28             2725855.347932 935744.2466141 36387.928      291.079        251.763        538.031        465.563        1358         0.000498192246 25.14814814814 2144106.961    33             0.000633363924 41.152         242951234791.4 125630898.0386 89128.43998698 113311.1543456 7362158630.043 30695.7028    \n",
       "86469113602031 0              0.25           30.00     2              0         1              =BLOB=     295494         605215      0              1              1              0              1           5           131            57             3772374.707615 1693650.418511 22946.82       77.491         77.491         407.697        358.996        875          0.000231949386 6.679389312977 1467485.912    37             0.000596257853 23.649         171142811010.3 106513844.3133 45367.39435371 116623.1373064 4625481378.659 882.9382      \n",
       "86469113537341 0              0.25           30.00     0              0         1              =BLOB=     255097         521810      0              0              0              0              1           7           149            109            4112642.589896 3070739.783177 20311.733      68.672         68.672         204.826        182.961        495          0.000120360568 3.322147651006 1028480.406    21             0.000481292591 23.571         79913942137.15 84855883.59000 19431.28788615 77700.98649517 3805425816.055 815.2132      \n",
       "   ...\n",
       " (Total: 113)"
      ]
     },
     "execution_count": 9,
     "metadata": {},
     "output_type": "execute_result"
    }
   ],
   "source": [
    "excitatory_neurons = minnie.Decomposition & (classified_table & dict(cell_type='excitatory'))\n",
    "excitatory_neurons"
   ]
  },
  {
   "cell_type": "code",
   "execution_count": 10,
   "metadata": {},
   "outputs": [
    {
     "data": {
      "text/html": [
       "\n",
       "        \n",
       "        <style type=\"text/css\">\n",
       "            .Relation{\n",
       "                border-collapse:collapse;\n",
       "            }\n",
       "            .Relation th{\n",
       "                background: #A0A0A0; color: #ffffff; padding:4px; border:#f0e0e0 1px solid;\n",
       "                font-weight: normal; font-family: monospace; font-size: 100%;\n",
       "            }\n",
       "            .Relation td{\n",
       "                padding:4px; border:#f0e0e0 1px solid; font-size:100%;\n",
       "            }\n",
       "            .Relation tr:nth-child(odd){\n",
       "                background: #ffffff;\n",
       "            }\n",
       "            .Relation tr:nth-child(even){\n",
       "                background: #f3f1ff;\n",
       "            }\n",
       "            /* Tooltip container */\n",
       "            .djtooltip {\n",
       "            }\n",
       "            /* Tooltip text */\n",
       "            .djtooltip .djtooltiptext {\n",
       "                visibility: hidden;\n",
       "                width: 120px;\n",
       "                background-color: black;\n",
       "                color: #fff;\n",
       "                text-align: center;\n",
       "                padding: 5px 0;\n",
       "                border-radius: 6px;\n",
       "                /* Position the tooltip text - see examples below! */\n",
       "                position: absolute;\n",
       "                z-index: 1;\n",
       "            }\n",
       "            #primary {\n",
       "                font-weight: bold;\n",
       "                color: black;\n",
       "            }\n",
       "\n",
       "            #nonprimary {\n",
       "                font-weight: normal;\n",
       "                color: white;\n",
       "            }\n",
       "\n",
       "            /* Show the tooltip text when you mouse over the tooltip container */\n",
       "            .djtooltip:hover .djtooltiptext {\n",
       "                visibility: visible;\n",
       "            }\n",
       "        </style>\n",
       "        \n",
       "        <b></b>\n",
       "            <div style=\"max-height:1000px;max-width:1500px;overflow:auto;\">\n",
       "            <table border=\"1\" class=\"Relation\">\n",
       "                <thead> <tr style=\"text-align: right;\"> <th> <div class=\"djtooltip\">\n",
       "                                <p id=\"primary\">segment_id</p>\n",
       "                                <span class=\"djtooltiptext\">segment id unique within each Segmentation</span>\n",
       "                            </div></th><th><div class=\"djtooltip\">\n",
       "                                <p id=\"primary\">decimation_version</p>\n",
       "                                <span class=\"djtooltiptext\"></span>\n",
       "                            </div></th><th><div class=\"djtooltip\">\n",
       "                                <p id=\"primary\">decimation_ratio</p>\n",
       "                                <span class=\"djtooltiptext\">ratio of remaining mesh vertices/faces (which ones depends on what metric the decimation technique uses)</span>\n",
       "                            </div></th><th><div class=\"djtooltip\">\n",
       "                                <p id=\"primary\">ver</p>\n",
       "                                <span class=\"djtooltiptext\">the version number of the materializaiton</span>\n",
       "                            </div></th><th><div class=\"djtooltip\">\n",
       "                                <p id=\"primary\">process_version</p>\n",
       "                                <span class=\"djtooltiptext\">the version of the preprocessing pipeline run</span>\n",
       "                            </div></th><th><div class=\"djtooltip\">\n",
       "                                <p id=\"primary\">index</p>\n",
       "                                <span class=\"djtooltiptext\">the index of the neuron object that resulted from that mesh (indexed starting at 0)</span>\n",
       "                            </div></th><th><div class=\"djtooltip\">\n",
       "                                <p id=\"nonprimary\">multiplicity</p>\n",
       "                                <span class=\"djtooltiptext\">the number of somas found for this base segment</span>\n",
       "                            </div></th><th><div class=\"djtooltip\">\n",
       "                                <p id=\"nonprimary\">decomposition</p>\n",
       "                                <span class=\"djtooltiptext\"></span>\n",
       "                            </div></th><th><div class=\"djtooltip\">\n",
       "                                <p id=\"nonprimary\">n_vertices</p>\n",
       "                                <span class=\"djtooltiptext\">number of vertices</span>\n",
       "                            </div></th><th><div class=\"djtooltip\">\n",
       "                                <p id=\"nonprimary\">n_faces</p>\n",
       "                                <span class=\"djtooltiptext\">number of faces</span>\n",
       "                            </div></th><th><div class=\"djtooltip\">\n",
       "                                <p id=\"nonprimary\">n_not_processed_soma_containing_meshes</p>\n",
       "                                <span class=\"djtooltiptext\">the number of meshes with somas that were not processed</span>\n",
       "                            </div></th><th><div class=\"djtooltip\">\n",
       "                                <p id=\"nonprimary\">n_error_limbs</p>\n",
       "                                <span class=\"djtooltiptext\">the number of limbs that are touching multiple somas or 1 soma in multiple places</span>\n",
       "                            </div></th><th><div class=\"djtooltip\">\n",
       "                                <p id=\"nonprimary\">n_same_soma_multi_touching_limbs</p>\n",
       "                                <span class=\"djtooltiptext\">number of limbs that touch the same soma multiple times</span>\n",
       "                            </div></th><th><div class=\"djtooltip\">\n",
       "                                <p id=\"nonprimary\">n_multi_soma_touching_limbs</p>\n",
       "                                <span class=\"djtooltiptext\">number of limbs that touch multiple somas</span>\n",
       "                            </div></th><th><div class=\"djtooltip\">\n",
       "                                <p id=\"nonprimary\">n_somas</p>\n",
       "                                <span class=\"djtooltiptext\">number of soma meshes detected</span>\n",
       "                            </div></th><th><div class=\"djtooltip\">\n",
       "                                <p id=\"nonprimary\">n_limbs</p>\n",
       "                                <span class=\"djtooltiptext\"></span>\n",
       "                            </div></th><th><div class=\"djtooltip\">\n",
       "                                <p id=\"nonprimary\">n_branches</p>\n",
       "                                <span class=\"djtooltiptext\"></span>\n",
       "                            </div></th><th><div class=\"djtooltip\">\n",
       "                                <p id=\"nonprimary\">max_limb_n_branches</p>\n",
       "                                <span class=\"djtooltiptext\"></span>\n",
       "                            </div></th><th><div class=\"djtooltip\">\n",
       "                                <p id=\"nonprimary\">skeletal_length</p>\n",
       "                                <span class=\"djtooltiptext\"></span>\n",
       "                            </div></th><th><div class=\"djtooltip\">\n",
       "                                <p id=\"nonprimary\">max_limb_skeletal_length</p>\n",
       "                                <span class=\"djtooltiptext\"></span>\n",
       "                            </div></th><th><div class=\"djtooltip\">\n",
       "                                <p id=\"nonprimary\">median_branch_length</p>\n",
       "                                <span class=\"djtooltiptext\">gives information on average skeletal length to next branch point</span>\n",
       "                            </div></th><th><div class=\"djtooltip\">\n",
       "                                <p id=\"nonprimary\">width_median</p>\n",
       "                                <span class=\"djtooltiptext\">median width from mesh center without spines removed</span>\n",
       "                            </div></th><th><div class=\"djtooltip\">\n",
       "                                <p id=\"nonprimary\">width_no_spine_median</p>\n",
       "                                <span class=\"djtooltiptext\">median width from mesh center with spines removed</span>\n",
       "                            </div></th><th><div class=\"djtooltip\">\n",
       "                                <p id=\"nonprimary\">width_90_perc</p>\n",
       "                                <span class=\"djtooltiptext\">90th percentile for width without spines removed</span>\n",
       "                            </div></th><th><div class=\"djtooltip\">\n",
       "                                <p id=\"nonprimary\">width_no_spine_90_perc</p>\n",
       "                                <span class=\"djtooltiptext\">90th percentile for width with spines removed</span>\n",
       "                            </div></th><th><div class=\"djtooltip\">\n",
       "                                <p id=\"nonprimary\">n_spines</p>\n",
       "                                <span class=\"djtooltiptext\"></span>\n",
       "                            </div></th><th><div class=\"djtooltip\">\n",
       "                                <p id=\"nonprimary\">spine_density</p>\n",
       "                                <span class=\"djtooltiptext\">n_spines/ skeletal_length</span>\n",
       "                            </div></th><th><div class=\"djtooltip\">\n",
       "                                <p id=\"nonprimary\">spines_per_branch</p>\n",
       "                                <span class=\"djtooltiptext\"></span>\n",
       "                            </div></th><th><div class=\"djtooltip\">\n",
       "                                <p id=\"nonprimary\">skeletal_length_eligible</p>\n",
       "                                <span class=\"djtooltiptext\">the skeletal length for all branches searched for spines</span>\n",
       "                            </div></th><th><div class=\"djtooltip\">\n",
       "                                <p id=\"nonprimary\">n_spine_eligible_branches</p>\n",
       "                                <span class=\"djtooltiptext\">the number of branches that were checked for spines because passed width threshold</span>\n",
       "                            </div></th><th><div class=\"djtooltip\">\n",
       "                                <p id=\"nonprimary\">spine_density_eligible</p>\n",
       "                                <span class=\"djtooltiptext\">n_spines/skeletal_length_eligible</span>\n",
       "                            </div></th><th><div class=\"djtooltip\">\n",
       "                                <p id=\"nonprimary\">spines_per_branch_eligible</p>\n",
       "                                <span class=\"djtooltiptext\">n_spines/n_spine_eligible_branches</span>\n",
       "                            </div></th><th><div class=\"djtooltip\">\n",
       "                                <p id=\"nonprimary\">total_spine_volume</p>\n",
       "                                <span class=\"djtooltiptext\">the sum of all spine volume</span>\n",
       "                            </div></th><th><div class=\"djtooltip\">\n",
       "                                <p id=\"nonprimary\">spine_volume_median</p>\n",
       "                                <span class=\"djtooltiptext\">median of the spine volume for those spines with able to calculate volume</span>\n",
       "                            </div></th><th><div class=\"djtooltip\">\n",
       "                                <p id=\"nonprimary\">spine_volume_density</p>\n",
       "                                <span class=\"djtooltiptext\">total_spine_volume/skeletal_length</span>\n",
       "                            </div></th><th><div class=\"djtooltip\">\n",
       "                                <p id=\"nonprimary\">spine_volume_density_eligible</p>\n",
       "                                <span class=\"djtooltiptext\">total_spine_volume/skeletal_length_eligible</span>\n",
       "                            </div></th><th><div class=\"djtooltip\">\n",
       "                                <p id=\"nonprimary\">spine_volume_per_branch_eligible</p>\n",
       "                                <span class=\"djtooltiptext\">total_spine_volume/n_spine_eligible_branches</span>\n",
       "                            </div></th><th><div class=\"djtooltip\">\n",
       "                                <p id=\"nonprimary\">run_time</p>\n",
       "                                <span class=\"djtooltiptext\">the amount of time to run (seconds)</span>\n",
       "                            </div> </th> </tr> </thead>\n",
       "                <tbody> <tr> <td>864691135523678660</td>\n",
       "<td>0</td>\n",
       "<td>0.25</td>\n",
       "<td>30.00</td>\n",
       "<td>0</td>\n",
       "<td>0</td>\n",
       "<td>1</td>\n",
       "<td>=BLOB=</td>\n",
       "<td>303484</td>\n",
       "<td>604221</td>\n",
       "<td>0</td>\n",
       "<td>0</td>\n",
       "<td>0</td>\n",
       "<td>0</td>\n",
       "<td>1</td>\n",
       "<td>7</td>\n",
       "<td>101</td>\n",
       "<td>71</td>\n",
       "<td>3942156.6847181707</td>\n",
       "<td>2832232.158793305</td>\n",
       "<td>20981.081</td>\n",
       "<td>87.35</td>\n",
       "<td>87.35</td>\n",
       "<td>448.591</td>\n",
       "<td>435.089</td>\n",
       "<td>524</td>\n",
       "<td>0.00013292216466973366</td>\n",
       "<td>5.188118811881188</td>\n",
       "<td>1977146.733</td>\n",
       "<td>40</td>\n",
       "<td>0.00026502838219038746</td>\n",
       "<td>13.1</td>\n",
       "<td>91867403514.80359</td>\n",
       "<td>113411558.9594806</td>\n",
       "<td>23303.8437743809</td>\n",
       "<td>46464.63612511434</td>\n",
       "<td>2296685087.8700895</td>\n",
       "<td>945.1412</td></tr><tr><td>864691134884755962</td>\n",
       "<td>0</td>\n",
       "<td>0.25</td>\n",
       "<td>30.00</td>\n",
       "<td>0</td>\n",
       "<td>0</td>\n",
       "<td>1</td>\n",
       "<td>=BLOB=</td>\n",
       "<td>974236</td>\n",
       "<td>1972411</td>\n",
       "<td>0</td>\n",
       "<td>0</td>\n",
       "<td>0</td>\n",
       "<td>0</td>\n",
       "<td>1</td>\n",
       "<td>6</td>\n",
       "<td>506</td>\n",
       "<td>433</td>\n",
       "<td>15259377.389223402</td>\n",
       "<td>12144163.476963362</td>\n",
       "<td>21315.999</td>\n",
       "<td>103.155</td>\n",
       "<td>103.155</td>\n",
       "<td>330.533</td>\n",
       "<td>329.54</td>\n",
       "<td>733</td>\n",
       "<td>4.803603589473218e-05</td>\n",
       "<td>1.448616600790514</td>\n",
       "<td>6096199.955</td>\n",
       "<td>184</td>\n",
       "<td>0.00012023883819604798</td>\n",
       "<td>3.984</td>\n",
       "<td>93290513367.66779</td>\n",
       "<td>40734343.56715155</td>\n",
       "<td>6113.651362574737</td>\n",
       "<td>15303.05994821454</td>\n",
       "<td>507013659.60689014</td>\n",
       "<td>5584.3764</td></tr><tr><td>864691135181813250</td>\n",
       "<td>0</td>\n",
       "<td>0.25</td>\n",
       "<td>30.00</td>\n",
       "<td>0</td>\n",
       "<td>0</td>\n",
       "<td>1</td>\n",
       "<td>=BLOB=</td>\n",
       "<td>367143</td>\n",
       "<td>736669</td>\n",
       "<td>0</td>\n",
       "<td>1</td>\n",
       "<td>1</td>\n",
       "<td>0</td>\n",
       "<td>1</td>\n",
       "<td>13</td>\n",
       "<td>341</td>\n",
       "<td>67</td>\n",
       "<td>8601754.353709135</td>\n",
       "<td>1592600.2628614653</td>\n",
       "<td>16913.445</td>\n",
       "<td>72.507</td>\n",
       "<td>72.507</td>\n",
       "<td>119.729</td>\n",
       "<td>119.729</td>\n",
       "<td>14</td>\n",
       "<td>1.6275749602129832e-06</td>\n",
       "<td>0.04105571847507331</td>\n",
       "<td>366681.345</td>\n",
       "<td>21</td>\n",
       "<td>3.8180289755400565e-05</td>\n",
       "<td>0.667</td>\n",
       "<td>3578468037.248188</td>\n",
       "<td>101376868.89817174</td>\n",
       "<td>416.01606952483223</td>\n",
       "<td>9759.067610183954</td>\n",
       "<td>170403239.86896133</td>\n",
       "<td>611.0495</td></tr><tr><td>864691135348317426</td>\n",
       "<td>0</td>\n",
       "<td>0.25</td>\n",
       "<td>30.00</td>\n",
       "<td>0</td>\n",
       "<td>0</td>\n",
       "<td>1</td>\n",
       "<td>=BLOB=</td>\n",
       "<td>244198</td>\n",
       "<td>487468</td>\n",
       "<td>0</td>\n",
       "<td>0</td>\n",
       "<td>0</td>\n",
       "<td>0</td>\n",
       "<td>1</td>\n",
       "<td>10</td>\n",
       "<td>64</td>\n",
       "<td>23</td>\n",
       "<td>2328781.4672830035</td>\n",
       "<td>760834.6556884258</td>\n",
       "<td>16454.513</td>\n",
       "<td>217.548</td>\n",
       "<td>217.548</td>\n",
       "<td>432.842</td>\n",
       "<td>430.804</td>\n",
       "<td>303</td>\n",
       "<td>0.00013011096328996083</td>\n",
       "<td>4.734375</td>\n",
       "<td>2008227.523</td>\n",
       "<td>42</td>\n",
       "<td>0.0001508793184685379</td>\n",
       "<td>7.214</td>\n",
       "<td>55057316356.31905</td>\n",
       "<td>92279514.65500386</td>\n",
       "<td>23642.113753401944</td>\n",
       "<td>27415.875803789117</td>\n",
       "<td>1310888484.6742632</td>\n",
       "<td>784.7755</td></tr><tr><td>864691135500208836</td>\n",
       "<td>0</td>\n",
       "<td>0.25</td>\n",
       "<td>30.00</td>\n",
       "<td>0</td>\n",
       "<td>0</td>\n",
       "<td>1</td>\n",
       "<td>=BLOB=</td>\n",
       "<td>283828</td>\n",
       "<td>565772</td>\n",
       "<td>0</td>\n",
       "<td>0</td>\n",
       "<td>0</td>\n",
       "<td>0</td>\n",
       "<td>1</td>\n",
       "<td>3</td>\n",
       "<td>169</td>\n",
       "<td>140</td>\n",
       "<td>5533640.1423449</td>\n",
       "<td>4579212.255149077</td>\n",
       "<td>23109.866</td>\n",
       "<td>75.784</td>\n",
       "<td>75.784</td>\n",
       "<td>224.012</td>\n",
       "<td>222.812</td>\n",
       "<td>270</td>\n",
       "<td>4.8792475306423976e-05</td>\n",
       "<td>1.5976331360946745</td>\n",
       "<td>1017098.678</td>\n",
       "<td>25</td>\n",
       "<td>0.00026546096838010047</td>\n",
       "<td>10.8</td>\n",
       "<td>35743148103.013695</td>\n",
       "<td>58544318.92308088</td>\n",
       "<td>6459.246930333891</td>\n",
       "<td>35142.261882886545</td>\n",
       "<td>1429725924.1205478</td>\n",
       "<td>802.9508</td></tr><tr><td>864691135937157636</td>\n",
       "<td>0</td>\n",
       "<td>0.25</td>\n",
       "<td>30.00</td>\n",
       "<td>1</td>\n",
       "<td>0</td>\n",
       "<td>1</td>\n",
       "<td>=BLOB=</td>\n",
       "<td>105603</td>\n",
       "<td>222884</td>\n",
       "<td>0</td>\n",
       "<td>1</td>\n",
       "<td>1</td>\n",
       "<td>0</td>\n",
       "<td>1</td>\n",
       "<td>5</td>\n",
       "<td>46</td>\n",
       "<td>24</td>\n",
       "<td>1343016.9446939288</td>\n",
       "<td>763308.5726518938</td>\n",
       "<td>22759.187</td>\n",
       "<td>231.717</td>\n",
       "<td>231.717</td>\n",
       "<td>398.179</td>\n",
       "<td>398.179</td>\n",
       "<td>97</td>\n",
       "<td>7.222544762613262e-05</td>\n",
       "<td>2.108695652173913</td>\n",
       "<td>1343016.945</td>\n",
       "<td>46</td>\n",
       "<td>7.222544760967256e-05</td>\n",
       "<td>2.109</td>\n",
       "<td>7784043055.09739</td>\n",
       "<td>39296287.71998087</td>\n",
       "<td>5795.938082427813</td>\n",
       "<td>5795.938081106929</td>\n",
       "<td>169218327.28472587</td>\n",
       "<td>299.0208</td></tr><tr><td>864691135567721964</td>\n",
       "<td>0</td>\n",
       "<td>0.25</td>\n",
       "<td>30.00</td>\n",
       "<td>0</td>\n",
       "<td>0</td>\n",
       "<td>1</td>\n",
       "<td>=BLOB=</td>\n",
       "<td>451453</td>\n",
       "<td>899885</td>\n",
       "<td>0</td>\n",
       "<td>0</td>\n",
       "<td>0</td>\n",
       "<td>0</td>\n",
       "<td>1</td>\n",
       "<td>5</td>\n",
       "<td>203</td>\n",
       "<td>156</td>\n",
       "<td>7239712.944666794</td>\n",
       "<td>4855578.185766825</td>\n",
       "<td>22137.501</td>\n",
       "<td>114.027</td>\n",
       "<td>114.027</td>\n",
       "<td>307.598</td>\n",
       "<td>306.648</td>\n",
       "<td>465</td>\n",
       "<td>6.422906592485092e-05</td>\n",
       "<td>2.29064039408867</td>\n",
       "<td>3536955.537</td>\n",
       "<td>78</td>\n",
       "<td>0.00013146899788127022</td>\n",
       "<td>5.962</td>\n",
       "<td>56574204937.06977</td>\n",
       "<td>58192743.75067265</td>\n",
       "<td>7814.426534514151</td>\n",
       "<td>15995.169954851986</td>\n",
       "<td>725310319.7060227</td>\n",
       "<td>1755.4021</td></tr><tr><td>864691135490141124</td>\n",
       "<td>0</td>\n",
       "<td>0.25</td>\n",
       "<td>30.00</td>\n",
       "<td>0</td>\n",
       "<td>0</td>\n",
       "<td>1</td>\n",
       "<td>=BLOB=</td>\n",
       "<td>979974</td>\n",
       "<td>1952951</td>\n",
       "<td>0</td>\n",
       "<td>0</td>\n",
       "<td>0</td>\n",
       "<td>0</td>\n",
       "<td>1</td>\n",
       "<td>5</td>\n",
       "<td>515</td>\n",
       "<td>471</td>\n",
       "<td>17916001.95730777</td>\n",
       "<td>15723466.634079643</td>\n",
       "<td>24049.533</td>\n",
       "<td>71.977</td>\n",
       "<td>71.977</td>\n",
       "<td>240.608</td>\n",
       "<td>237.643</td>\n",
       "<td>696</td>\n",
       "<td>3.884795288918285e-05</td>\n",
       "<td>1.3514563106796116</td>\n",
       "<td>3886849.934</td>\n",
       "<td>70</td>\n",
       "<td>0.00017906531299595062</td>\n",
       "<td>9.943</td>\n",
       "<td>65327345035.32201</td>\n",
       "<td>33359194.383576073</td>\n",
       "<td>3646.3126757292853</td>\n",
       "<td>16807.272249920108</td>\n",
       "<td>933247786.2188858</td>\n",
       "<td>3951.943</td></tr><tr><td>864691135256136111</td>\n",
       "<td>0</td>\n",
       "<td>0.25</td>\n",
       "<td>30.00</td>\n",
       "<td>0</td>\n",
       "<td>0</td>\n",
       "<td>1</td>\n",
       "<td>=BLOB=</td>\n",
       "<td>290663</td>\n",
       "<td>601265</td>\n",
       "<td>0</td>\n",
       "<td>0</td>\n",
       "<td>0</td>\n",
       "<td>0</td>\n",
       "<td>1</td>\n",
       "<td>2</td>\n",
       "<td>117</td>\n",
       "<td>96</td>\n",
       "<td>4140751.1625016914</td>\n",
       "<td>3335199.0816700654</td>\n",
       "<td>27824.85</td>\n",
       "<td>171.201</td>\n",
       "<td>171.201</td>\n",
       "<td>357.055</td>\n",
       "<td>349.286</td>\n",
       "<td>399</td>\n",
       "<td>9.635932813671873e-05</td>\n",
       "<td>3.41025641025641</td>\n",
       "<td>2617811.651</td>\n",
       "<td>65</td>\n",
       "<td>0.0001524173826056518</td>\n",
       "<td>6.138</td>\n",
       "<td>31205709435.03671</td>\n",
       "<td>36161676.15500212</td>\n",
       "<td>7536.243596966921</td>\n",
       "<td>11920.53271789671</td>\n",
       "<td>480087837.4621032</td>\n",
       "<td>782.2748</td></tr><tr><td>864691135576933381</td>\n",
       "<td>0</td>\n",
       "<td>0.25</td>\n",
       "<td>30.00</td>\n",
       "<td>0</td>\n",
       "<td>0</td>\n",
       "<td>1</td>\n",
       "<td>=BLOB=</td>\n",
       "<td>686021</td>\n",
       "<td>1401892</td>\n",
       "<td>0</td>\n",
       "<td>0</td>\n",
       "<td>0</td>\n",
       "<td>0</td>\n",
       "<td>1</td>\n",
       "<td>6</td>\n",
       "<td>349</td>\n",
       "<td>284</td>\n",
       "<td>11366663.373740971</td>\n",
       "<td>8642891.840747071</td>\n",
       "<td>24496.224</td>\n",
       "<td>101.338</td>\n",
       "<td>101.338</td>\n",
       "<td>308.806</td>\n",
       "<td>307.061</td>\n",
       "<td>323</td>\n",
       "<td>2.8416430519635858e-05</td>\n",
       "<td>0.9255014326647565</td>\n",
       "<td>3766259.991</td>\n",
       "<td>103</td>\n",
       "<td>8.576147179744713e-05</td>\n",
       "<td>3.136</td>\n",
       "<td>32377320364.5196</td>\n",
       "<td>41915438.6516927</td>\n",
       "<td>2848.445432044465</td>\n",
       "<td>8596.676926683152</td>\n",
       "<td>314342916.1603845</td>\n",
       "<td>3264.8169</td></tr><tr><td>864691135354903503</td>\n",
       "<td>0</td>\n",
       "<td>0.25</td>\n",
       "<td>30.00</td>\n",
       "<td>0</td>\n",
       "<td>0</td>\n",
       "<td>1</td>\n",
       "<td>=BLOB=</td>\n",
       "<td>576938</td>\n",
       "<td>1169560</td>\n",
       "<td>0</td>\n",
       "<td>0</td>\n",
       "<td>0</td>\n",
       "<td>0</td>\n",
       "<td>1</td>\n",
       "<td>3</td>\n",
       "<td>348</td>\n",
       "<td>326</td>\n",
       "<td>9359027.228823846</td>\n",
       "<td>8698533.887724971</td>\n",
       "<td>19735.456</td>\n",
       "<td>103.833</td>\n",
       "<td>103.833</td>\n",
       "<td>298.778</td>\n",
       "<td>293.717</td>\n",
       "<td>533</td>\n",
       "<td>5.695036321279967e-05</td>\n",
       "<td>1.5316091954022988</td>\n",
       "<td>3078675.015</td>\n",
       "<td>117</td>\n",
       "<td>0.00017312642529760484</td>\n",
       "<td>4.556</td>\n",
       "<td>81439186570.70789</td>\n",
       "<td>55817145.75881958</td>\n",
       "<td>8701.672148136531</td>\n",
       "<td>26452.67401525584</td>\n",
       "<td>696061423.6812639</td>\n",
       "<td>2743.2253</td></tr><tr><td>864691134884747002</td>\n",
       "<td>0</td>\n",
       "<td>0.25</td>\n",
       "<td>30.00</td>\n",
       "<td>0</td>\n",
       "<td>0</td>\n",
       "<td>1</td>\n",
       "<td>=BLOB=</td>\n",
       "<td>286615</td>\n",
       "<td>585358</td>\n",
       "<td>0</td>\n",
       "<td>0</td>\n",
       "<td>0</td>\n",
       "<td>0</td>\n",
       "<td>1</td>\n",
       "<td>5</td>\n",
       "<td>101</td>\n",
       "<td>35</td>\n",
       "<td>3838485.455813374</td>\n",
       "<td>1313593.5267193976</td>\n",
       "<td>23529.542</td>\n",
       "<td>216.453</td>\n",
       "<td>215.526</td>\n",
       "<td>405.456</td>\n",
       "<td>405.456</td>\n",
       "<td>539</td>\n",
       "<td>0.00014041996673028583</td>\n",
       "<td>5.336633663366337</td>\n",
       "<td>3063706.05</td>\n",
       "<td>71</td>\n",
       "<td>0.00017593071632965573</td>\n",
       "<td>7.592</td>\n",
       "<td>60558241439.87932</td>\n",
       "<td>55066342.58365758</td>\n",
       "<td>15776.59786314002</td>\n",
       "<td>19766.335428909482</td>\n",
       "<td>852932978.0264692</td>\n",
       "<td>1328.5337</td> </tr> </tbody>\n",
       "            </table>\n",
       "            <p>...</p>\n",
       "            <p>Total: 35</p></div>\n",
       "            "
      ],
      "text/plain": [
       "*segment_id    *decimation_ve *decimation_ra *ver      *process_versi *index    multiplicity   decomposit n_vertices     n_faces     n_not_processe n_error_limbs  n_same_soma_mu n_multi_soma_t n_somas     n_limbs     n_branches     max_limb_n_bra skeletal_lengt max_limb_skele median_branch_ width_median   width_no_spine width_90_perc  width_no_spine n_spines     spine_density  spines_per_bra skeletal_lengt n_spine_eligib spine_density_ spines_per_bra total_spine_vo spine_volume_m spine_volume_d spine_volume_d spine_volume_p run_time     \n",
       "+------------+ +------------+ +------------+ +-------+ +------------+ +-------+ +------------+ +--------+ +------------+ +---------+ +------------+ +------------+ +------------+ +------------+ +---------+ +---------+ +------------+ +------------+ +------------+ +------------+ +------------+ +------------+ +------------+ +------------+ +------------+ +----------+ +------------+ +------------+ +------------+ +------------+ +------------+ +------------+ +------------+ +------------+ +------------+ +------------+ +------------+ +-----------+\n",
       "86469113552367 0              0.25           30.00     0              0         1              =BLOB=     303484         604221      0              0              0              0              1           7           101            71             3942156.684718 2832232.158793 20981.081      87.35          87.35          448.591        435.089        524          0.000132922164 5.188118811881 1977146.733    40             0.000265028382 13.1           91867403514.80 113411558.9594 23303.84377438 46464.63612511 2296685087.870 945.1412     \n",
       "86469113488475 0              0.25           30.00     0              0         1              =BLOB=     974236         1972411     0              0              0              0              1           6           506            433            15259377.38922 12144163.47696 21315.999      103.155        103.155        330.533        329.54         733          4.803603589473 1.448616600790 6096199.955    184            0.000120238838 3.984          93290513367.66 40734343.56715 6113.651362574 15303.05994821 507013659.6068 5584.3764    \n",
       "86469113518181 0              0.25           30.00     0              0         1              =BLOB=     367143         736669      0              1              1              0              1           13          341            67             8601754.353709 1592600.262861 16913.445      72.507         72.507         119.729        119.729        14           1.627574960212 0.041055718475 366681.345     21             3.818028975540 0.667          3578468037.248 101376868.8981 416.0160695248 9759.067610183 170403239.8689 611.0495     \n",
       "86469113534831 0              0.25           30.00     0              0         1              =BLOB=     244198         487468      0              0              0              0              1           10          64             23             2328781.467283 760834.6556884 16454.513      217.548        217.548        432.842        430.804        303          0.000130110963 4.734375       2008227.523    42             0.000150879318 7.214          55057316356.31 92279514.65500 23642.11375340 27415.87580378 1310888484.674 784.7755     \n",
       "86469113550020 0              0.25           30.00     0              0         1              =BLOB=     283828         565772      0              0              0              0              1           3           169            140            5533640.142344 4579212.255149 23109.866      75.784         75.784         224.012        222.812        270          4.879247530642 1.597633136094 1017098.678    25             0.000265460968 10.8           35743148103.01 58544318.92308 6459.246930333 35142.26188288 1429725924.120 802.9508     \n",
       "86469113593715 0              0.25           30.00     1              0         1              =BLOB=     105603         222884      0              1              1              0              1           5           46             24             1343016.944693 763308.5726518 22759.187      231.717        231.717        398.179        398.179        97           7.222544762613 2.108695652173 1343016.945    46             7.222544760967 2.109          7784043055.097 39296287.71998 5795.938082427 5795.938081106 169218327.2847 299.0208     \n",
       "86469113556772 0              0.25           30.00     0              0         1              =BLOB=     451453         899885      0              0              0              0              1           5           203            156            7239712.944666 4855578.185766 22137.501      114.027        114.027        307.598        306.648        465          6.422906592485 2.290640394088 3536955.537    78             0.000131468997 5.962          56574204937.06 58192743.75067 7814.426534514 15995.16995485 725310319.7060 1755.4021    \n",
       "86469113549014 0              0.25           30.00     0              0         1              =BLOB=     979974         1952951     0              0              0              0              1           5           515            471            17916001.95730 15723466.63407 24049.533      71.977         71.977         240.608        237.643        696          3.884795288918 1.351456310679 3886849.934    70             0.000179065312 9.943          65327345035.32 33359194.38357 3646.312675729 16807.27224992 933247786.2188 3951.943     \n",
       "86469113525613 0              0.25           30.00     0              0         1              =BLOB=     290663         601265      0              0              0              0              1           2           117            96             4140751.162501 3335199.081670 27824.85       171.201        171.201        357.055        349.286        399          9.635932813671 3.410256410256 2617811.651    65             0.000152417382 6.138          31205709435.03 36161676.15500 7536.243596966 11920.53271789 480087837.4621 782.2748     \n",
       "86469113557693 0              0.25           30.00     0              0         1              =BLOB=     686021         1401892     0              0              0              0              1           6           349            284            11366663.37374 8642891.840747 24496.224      101.338        101.338        308.806        307.061        323          2.841643051963 0.925501432664 3766259.991    103            8.576147179744 3.136          32377320364.51 41915438.65169 2848.445432044 8596.676926683 314342916.1603 3264.8169    \n",
       "86469113535490 0              0.25           30.00     0              0         1              =BLOB=     576938         1169560     0              0              0              0              1           3           348            326            9359027.228823 8698533.887724 19735.456      103.833        103.833        298.778        293.717        533          5.695036321279 1.531609195402 3078675.015    117            0.000173126425 4.556          81439186570.70 55817145.75881 8701.672148136 26452.67401525 696061423.6812 2743.2253    \n",
       "86469113488474 0              0.25           30.00     0              0         1              =BLOB=     286615         585358      0              0              0              0              1           5           101            35             3838485.455813 1313593.526719 23529.542      216.453        215.526        405.456        405.456        539          0.000140419966 5.336633663366 3063706.05     71             0.000175930716 7.592          60558241439.87 55066342.58365 15776.59786314 19766.33542890 852932978.0264 1328.5337    \n",
       "   ...\n",
       " (Total: 35)"
      ]
     },
     "execution_count": 10,
     "metadata": {},
     "output_type": "execute_result"
    }
   ],
   "source": [
    "inhibitory_neurons = minnie.Decomposition & (classified_table & dict(cell_type='inhibitory'))\n",
    "inhibitory_neurons"
   ]
  },
  {
   "cell_type": "code",
   "execution_count": null,
   "metadata": {},
   "outputs": [],
   "source": [
    "classified_table & dict(segment_id=864691135269732773)"
   ]
  },
  {
   "cell_type": "markdown",
   "metadata": {},
   "source": [
    "# visualizing the inhibitory neurons"
   ]
  },
  {
   "cell_type": "code",
   "execution_count": 11,
   "metadata": {},
   "outputs": [
    {
     "data": {
      "text/plain": [
       "864691135644605167"
      ]
     },
     "execution_count": 11,
     "metadata": {},
     "output_type": "execute_result"
    }
   ],
   "source": [
    "#visualizing inhibitory neurons\n",
    "inhib_segs = inhibitory_neurons.fetch(\"segment_id\")\n",
    "inhib_segment_id = inhib_segs[-22]\n",
    "inhib_segment_id = 864691135644605167\n",
    "inhib_segment_id"
   ]
  },
  {
   "cell_type": "code",
   "execution_count": null,
   "metadata": {},
   "outputs": [],
   "source": [
    "neuron = reload(neuron)\n",
    "inh_obj = (minnie.Decomposition & dict(segment_id=inhib_segment_id)).fetch1(\"decomposition\")\n",
    "inh_obj.calculate_spines()"
   ]
  },
  {
   "cell_type": "code",
   "execution_count": null,
   "metadata": {},
   "outputs": [],
   "source": [
    "inh_obj.segment_id"
   ]
  },
  {
   "cell_type": "code",
   "execution_count": null,
   "metadata": {},
   "outputs": [],
   "source": [
    "nviz.plot_spines(inh_obj)"
   ]
  },
  {
   "cell_type": "code",
   "execution_count": null,
   "metadata": {},
   "outputs": [],
   "source": [
    "ret_col = nviz.visualize_neuron(inh_obj,\n",
    "                     limb_branch_dict=dict(L0=\"all\"),\n",
    "                     return_color_dict=True)"
   ]
  },
  {
   "cell_type": "code",
   "execution_count": null,
   "metadata": {},
   "outputs": [],
   "source": [
    "nviz.plot_limb_concept_network_2D(inh_obj,\n",
    "                                 node_colors=ret_col)"
   ]
  },
  {
   "cell_type": "code",
   "execution_count": null,
   "metadata": {},
   "outputs": [],
   "source": [
    "neuron_obj = inh_obj\n",
    "\n",
    "neuron_obj.spine_density_eligible"
   ]
  },
  {
   "cell_type": "code",
   "execution_count": null,
   "metadata": {},
   "outputs": [],
   "source": [
    "curr_branch = neuron_obj[0][24]\n",
    "print(f\"spine_density = {curr_branch.spine_density}, n_spines = {curr_branch.n_spines},\"\n",
    "      f\"\\n median_mesh_center = {curr_branch.width_new['median_mesh_center']},no_spine_median_mesh_center = {curr_branch.width_new['no_spine_median_mesh_center']}\")\n",
    "nviz.plot_branches_with_spines(curr_branch)"
   ]
  },
  {
   "cell_type": "code",
   "execution_count": null,
   "metadata": {},
   "outputs": [],
   "source": []
  },
  {
   "cell_type": "code",
   "execution_count": null,
   "metadata": {},
   "outputs": [],
   "source": []
  },
  {
   "cell_type": "code",
   "execution_count": null,
   "metadata": {},
   "outputs": [],
   "source": [
    "import neuron_searching as ns\n",
    "axon_like_limb_branch_dict = ns.query_neuron(inh_obj,\n",
    "               functions_list=[\"n_spines\",\"median_mesh_center\"],\n",
    "               query = \"(median_mesh_center < 140) and (n_spines < 2)\")\n",
    "axon_like_limb_branch_dict"
   ]
  },
  {
   "cell_type": "code",
   "execution_count": null,
   "metadata": {},
   "outputs": [],
   "source": [
    "nviz.visualize_neuron(inh_obj,\n",
    "                     visualize_type=[\"mesh\"],\n",
    "                     limb_branch_dict=axon_like_limb_branch_dict,\n",
    "                     mesh_color=\"red\",\n",
    "                     mesh_whole_neuron=True)"
   ]
  },
  {
   "cell_type": "markdown",
   "metadata": {},
   "source": [
    "# The Brainstorming on Classification"
   ]
  },
  {
   "cell_type": "code",
   "execution_count": null,
   "metadata": {},
   "outputs": [],
   "source": [
    "\"\"\"\n",
    "Have 3 Groups: 1) Sparsely spined, 2) Densely spined 3) No spine\n",
    "\n",
    "For the sparsely spined group: \n",
    "1) Look for axon (Excitatory)\n",
    "2) Look for long apical up (Excitatory)\n",
    "\n",
    "--> then can also error out some axon like parts\n",
    "\n",
    "\n",
    "\n",
    "\n",
    "\"\"\""
   ]
  },
  {
   "cell_type": "code",
   "execution_count": null,
   "metadata": {},
   "outputs": [],
   "source": [
    "len(minnie.Decomposition())"
   ]
  },
  {
   "cell_type": "code",
   "execution_count": null,
   "metadata": {},
   "outputs": [],
   "source": []
  },
  {
   "cell_type": "markdown",
   "metadata": {},
   "source": [
    "# Finding all 4 crossovers"
   ]
  },
  {
   "cell_type": "code",
   "execution_count": null,
   "metadata": {},
   "outputs": [],
   "source": [
    "nviz.visualize_neuron(inh_obj,\n",
    "                      visualize_type=[\"mesh\",\"skeleton\"],\n",
    "                      limb_branch_dict=dict(L0=\"all\"),\n",
    "                      mesh_color=\"green\",\n",
    "                      skeleton_color=\"blue\",)"
   ]
  },
  {
   "cell_type": "code",
   "execution_count": null,
   "metadata": {},
   "outputs": [],
   "source": [
    "nviz.plot_objects(meshes_colors=)"
   ]
  },
  {
   "cell_type": "code",
   "execution_count": 41,
   "metadata": {},
   "outputs": [
    {
     "data": {
      "text/plain": [
       "49742"
      ]
     },
     "execution_count": 41,
     "metadata": {},
     "output_type": "execute_result"
    }
   ],
   "source": [
    "len(minnie.Decomposition())"
   ]
  },
  {
   "cell_type": "code",
   "execution_count": 48,
   "metadata": {},
   "outputs": [
    {
     "name": "stdout",
     "output_type": "stream",
     "text": [
      "Segment_id = 864691135428521008\n",
      "vertices = 328724, faces= = 662582\n",
      "No glia to plot\n",
      "subtracting glia and nuclei\n",
      "curr_colors = ['red']\n",
      "curr_soma_meshes = [<trimesh.Trimesh(vertices.shape=(8126, 3), faces.shape=(15886, 3))>]\n",
      "other_meshes_to_plot = []\n"
     ]
    },
    {
     "data": {
      "application/vnd.jupyter.widget-view+json": {
       "model_id": "38e8e5c5ad924e4cb5f46827addf1b8c",
       "version_major": 2,
       "version_minor": 0
      },
      "text/plain": [
       "VBox(children=(Figure(camera=PerspectiveCamera(fov=46.0, position=(0.0, 0.0, 2.0), quaternion=(0.0, 0.0, 0.0, …"
      ]
     },
     "metadata": {},
     "output_type": "display_data"
    }
   ],
   "source": [
    "du.plot_decimated_mesh_with_somas(864691135428521008,\n",
    "                                  main_mesh_color=[1,0,0,0.8],)"
   ]
  },
  {
   "cell_type": "code",
   "execution_count": null,
   "metadata": {},
   "outputs": [],
   "source": []
  },
  {
   "cell_type": "code",
   "execution_count": null,
   "metadata": {},
   "outputs": [],
   "source": [
    "clu.axon_classification(inh_obj)"
   ]
  },
  {
   "cell_type": "markdown",
   "metadata": {},
   "source": [
    "# Viewing the excitatoy neuons"
   ]
  },
  {
   "cell_type": "code",
   "execution_count": 38,
   "metadata": {},
   "outputs": [],
   "source": [
    "#visualizing inhibitory neurons\n",
    "excitatory_segs = excitatory_neurons.fetch(\"segment_id\")\n",
    "excitatory_seg = excitatory_segs[-75]"
   ]
  },
  {
   "cell_type": "code",
   "execution_count": 39,
   "metadata": {},
   "outputs": [
    {
     "name": "stdout",
     "output_type": "stream",
     "text": [
      "Segment_id = 864691135657796994\n",
      "vertices = 387661, faces= = 791439\n",
      "No glia to plot\n",
      "subtracting glia and nuclei\n",
      "curr_colors = ['red']\n",
      "curr_soma_meshes = [<trimesh.Trimesh(vertices.shape=(22051, 3), faces.shape=(43349, 3))>]\n",
      "other_meshes_to_plot = []\n"
     ]
    },
    {
     "data": {
      "application/vnd.jupyter.widget-view+json": {
       "model_id": "059cb037975444599d83484bc7b058e7",
       "version_major": 2,
       "version_minor": 0
      },
      "text/plain": [
       "VBox(children=(Figure(camera=PerspectiveCamera(fov=46.0, position=(0.0, 0.0, 2.0), quaternion=(0.0, 0.0, 0.0, …"
      ]
     },
     "metadata": {},
     "output_type": "display_data"
    }
   ],
   "source": [
    "du.plot_decimated_mesh_with_somas(excitatory_seg)"
   ]
  },
  {
   "cell_type": "code",
   "execution_count": 13,
   "metadata": {},
   "outputs": [
    {
     "name": "stdout",
     "output_type": "stream",
     "text": [
      "Decompressing Neuron in minimal output mode...please wait\n"
     ]
    }
   ],
   "source": [
    "exc_obj = (minnie.Decomposition & dict(segment_id=excitatory_seg)).fetch1(\"decomposition\")"
   ]
  },
  {
   "cell_type": "code",
   "execution_count": 14,
   "metadata": {
    "scrolled": true
   },
   "outputs": [
    {
     "name": "stdout",
     "output_type": "stream",
     "text": [
      "query = median_mesh_center > 115 and n_faces_branch>100\n",
      "smoothness_threshold = 0.12\n",
      "The median_mesh_center was requested and HAS already been calculated\n",
      "functions_list = [<function median_mesh_center at 0x7f46ba9210d0>, <function n_faces_branch at 0x7f46ba920b70>]\n",
      "segment_name before cgal = L0_0\n"
     ]
    },
    {
     "data": {
      "application/vnd.jupyter.widget-view+json": {
       "model_id": "804948b8bc724db8b010bd233d537644",
       "version_major": 2,
       "version_minor": 0
      },
      "text/plain": [
       "HBox(children=(FloatProgress(value=0.0, max=68.0), HTML(value='')))"
      ]
     },
     "metadata": {},
     "output_type": "display_data"
    },
    {
     "name": "stdout",
     "output_type": "stream",
     "text": [
      "\n",
      "segment_name before cgal = L0_1\n"
     ]
    },
    {
     "data": {
      "application/vnd.jupyter.widget-view+json": {
       "model_id": "9c2cb64944f94ad1a7d2cc49c684c8be",
       "version_major": 2,
       "version_minor": 0
      },
      "text/plain": [
       "HBox(children=(FloatProgress(value=0.0, max=3.0), HTML(value='')))"
      ]
     },
     "metadata": {},
     "output_type": "display_data"
    },
    {
     "name": "stdout",
     "output_type": "stream",
     "text": [
      "\n",
      "segment_name before cgal = L0_2\n"
     ]
    },
    {
     "data": {
      "application/vnd.jupyter.widget-view+json": {
       "model_id": "e07176e2e2ec48e685d643b982529db3",
       "version_major": 2,
       "version_minor": 0
      },
      "text/plain": [
       "HBox(children=(FloatProgress(value=0.0, max=4.0), HTML(value='')))"
      ]
     },
     "metadata": {},
     "output_type": "display_data"
    },
    {
     "name": "stdout",
     "output_type": "stream",
     "text": [
      "\n",
      "Removed 1 spines because of side length greater than 5000\n",
      "segment_name before cgal = L0_3\n"
     ]
    },
    {
     "data": {
      "application/vnd.jupyter.widget-view+json": {
       "model_id": "340f3f3f986047469d5f30110809466e",
       "version_major": 2,
       "version_minor": 0
      },
      "text/plain": [
       "HBox(children=(FloatProgress(value=0.0, max=24.0), HTML(value='')))"
      ]
     },
     "metadata": {},
     "output_type": "display_data"
    },
    {
     "name": "stdout",
     "output_type": "stream",
     "text": [
      "\n",
      "Removed 1 spines because of side length greater than 5000\n",
      "segment_name before cgal = L0_4\n"
     ]
    },
    {
     "data": {
      "application/vnd.jupyter.widget-view+json": {
       "model_id": "9e8e229a83964a83a7fe897d19dd8e0a",
       "version_major": 2,
       "version_minor": 0
      },
      "text/plain": [
       "HBox(children=(FloatProgress(value=0.0, max=2.0), HTML(value='')))"
      ]
     },
     "metadata": {},
     "output_type": "display_data"
    },
    {
     "name": "stdout",
     "output_type": "stream",
     "text": [
      "\n",
      "segment_name before cgal = L0_5\n"
     ]
    },
    {
     "data": {
      "application/vnd.jupyter.widget-view+json": {
       "model_id": "e98c3514dda6434eb894a680a8797eca",
       "version_major": 2,
       "version_minor": 0
      },
      "text/plain": [
       "HBox(children=(FloatProgress(value=0.0, max=11.0), HTML(value='')))"
      ]
     },
     "metadata": {},
     "output_type": "display_data"
    },
    {
     "name": "stdout",
     "output_type": "stream",
     "text": [
      "\n",
      "segment_name before cgal = L0_6\n"
     ]
    },
    {
     "data": {
      "application/vnd.jupyter.widget-view+json": {
       "model_id": "6531714374204703b347364bdef49528",
       "version_major": 2,
       "version_minor": 0
      },
      "text/plain": [
       "HBox(children=(FloatProgress(value=0.0, max=22.0), HTML(value='')))"
      ]
     },
     "metadata": {},
     "output_type": "display_data"
    },
    {
     "name": "stdout",
     "output_type": "stream",
     "text": [
      "\n",
      "segment_name before cgal = L0_7\n"
     ]
    },
    {
     "data": {
      "application/vnd.jupyter.widget-view+json": {
       "model_id": "80bd66ead1814bd4825fb48a0b41ac94",
       "version_major": 2,
       "version_minor": 0
      },
      "text/plain": [
       "HBox(children=(FloatProgress(value=0.0, max=37.0), HTML(value='')))"
      ]
     },
     "metadata": {},
     "output_type": "display_data"
    },
    {
     "name": "stdout",
     "output_type": "stream",
     "text": [
      "\n",
      "Removed 1 spines because of side length greater than 5000\n",
      "segment_name before cgal = L0_8\n"
     ]
    },
    {
     "data": {
      "application/vnd.jupyter.widget-view+json": {
       "model_id": "74e4f71cb30a4c99b840ed2af21378fb",
       "version_major": 2,
       "version_minor": 0
      },
      "text/plain": [
       "HBox(children=(FloatProgress(value=0.0, max=82.0), HTML(value='')))"
      ]
     },
     "metadata": {},
     "output_type": "display_data"
    },
    {
     "name": "stdout",
     "output_type": "stream",
     "text": [
      "\n",
      "segment_name before cgal = L0_9\n"
     ]
    },
    {
     "data": {
      "application/vnd.jupyter.widget-view+json": {
       "model_id": "20778b0e82ef4da89ad200afa426e1ed",
       "version_major": 2,
       "version_minor": 0
      },
      "text/plain": [
       "HBox(children=(FloatProgress(value=0.0, max=7.0), HTML(value='')))"
      ]
     },
     "metadata": {},
     "output_type": "display_data"
    },
    {
     "name": "stdout",
     "output_type": "stream",
     "text": [
      "\n",
      "segment_name before cgal = L0_10\n"
     ]
    },
    {
     "data": {
      "application/vnd.jupyter.widget-view+json": {
       "model_id": "1bb1feb72cdf4a3da84a0464c0d1afa8",
       "version_major": 2,
       "version_minor": 0
      },
      "text/plain": [
       "HBox(children=(FloatProgress(value=0.0, max=20.0), HTML(value='')))"
      ]
     },
     "metadata": {},
     "output_type": "display_data"
    },
    {
     "name": "stdout",
     "output_type": "stream",
     "text": [
      "\n",
      "segment_name before cgal = L0_11\n"
     ]
    },
    {
     "data": {
      "application/vnd.jupyter.widget-view+json": {
       "model_id": "4a0c0883c3bb43a29a645863c363c36c",
       "version_major": 2,
       "version_minor": 0
      },
      "text/plain": [
       "HBox(children=(FloatProgress(value=0.0, max=53.0), HTML(value='')))"
      ]
     },
     "metadata": {},
     "output_type": "display_data"
    },
    {
     "name": "stdout",
     "output_type": "stream",
     "text": [
      "\n",
      "segment_name before cgal = L0_12\n"
     ]
    },
    {
     "data": {
      "application/vnd.jupyter.widget-view+json": {
       "model_id": "0127a8a9489449509378e0ec357070fc",
       "version_major": 2,
       "version_minor": 0
      },
      "text/plain": [
       "HBox(children=(FloatProgress(value=0.0, max=40.0), HTML(value='')))"
      ]
     },
     "metadata": {},
     "output_type": "display_data"
    },
    {
     "name": "stdout",
     "output_type": "stream",
     "text": [
      "\n",
      "segment_name before cgal = L0_13\n"
     ]
    },
    {
     "data": {
      "application/vnd.jupyter.widget-view+json": {
       "model_id": "269ad993cff949869d33ed150e1d95d7",
       "version_major": 2,
       "version_minor": 0
      },
      "text/plain": [
       "HBox(children=(FloatProgress(value=0.0, max=23.0), HTML(value='')))"
      ]
     },
     "metadata": {},
     "output_type": "display_data"
    },
    {
     "name": "stdout",
     "output_type": "stream",
     "text": [
      "\n",
      "segment_name before cgal = L0_14\n"
     ]
    },
    {
     "data": {
      "application/vnd.jupyter.widget-view+json": {
       "model_id": "8e02127c4f114bd3a20eaede2bcdc776",
       "version_major": 2,
       "version_minor": 0
      },
      "text/plain": [
       "HBox(children=(FloatProgress(value=0.0, max=7.0), HTML(value='')))"
      ]
     },
     "metadata": {},
     "output_type": "display_data"
    },
    {
     "name": "stdout",
     "output_type": "stream",
     "text": [
      "\n",
      "segment_name before cgal = L0_15\n"
     ]
    },
    {
     "data": {
      "application/vnd.jupyter.widget-view+json": {
       "model_id": "14f8bfc8d8884c23b8636b2b8aede5bc",
       "version_major": 2,
       "version_minor": 0
      },
      "text/plain": [
       "HBox(children=(FloatProgress(value=0.0, max=30.0), HTML(value='')))"
      ]
     },
     "metadata": {},
     "output_type": "display_data"
    },
    {
     "name": "stdout",
     "output_type": "stream",
     "text": [
      "\n",
      "segment_name before cgal = L1_0\n"
     ]
    },
    {
     "data": {
      "application/vnd.jupyter.widget-view+json": {
       "model_id": "7f221be0e6844799b40e85edc51fd2cd",
       "version_major": 2,
       "version_minor": 0
      },
      "text/plain": [
       "HBox(children=(FloatProgress(value=0.0, max=177.0), HTML(value='')))"
      ]
     },
     "metadata": {},
     "output_type": "display_data"
    },
    {
     "name": "stdout",
     "output_type": "stream",
     "text": [
      "\n",
      "Removed 1 spines because of side length greater than 5000\n",
      "segment_name before cgal = L1_1\n"
     ]
    },
    {
     "data": {
      "application/vnd.jupyter.widget-view+json": {
       "model_id": "baf2e1f67303438283f9fbc22bd76a40",
       "version_major": 2,
       "version_minor": 0
      },
      "text/plain": [
       "HBox(children=(FloatProgress(value=0.0, max=52.0), HTML(value='')))"
      ]
     },
     "metadata": {},
     "output_type": "display_data"
    },
    {
     "name": "stdout",
     "output_type": "stream",
     "text": [
      "\n",
      "segment_name before cgal = L1_3\n"
     ]
    },
    {
     "data": {
      "application/vnd.jupyter.widget-view+json": {
       "model_id": "b58f811e54ee45e988d282592ec1e87c",
       "version_major": 2,
       "version_minor": 0
      },
      "text/plain": [
       "HBox(children=(FloatProgress(value=0.0, max=14.0), HTML(value='')))"
      ]
     },
     "metadata": {},
     "output_type": "display_data"
    },
    {
     "name": "stdout",
     "output_type": "stream",
     "text": [
      "\n",
      "Removed 2 spines because of side length greater than 5000\n",
      "segment_name before cgal = L1_5\n"
     ]
    },
    {
     "data": {
      "application/vnd.jupyter.widget-view+json": {
       "model_id": "4bced76cd3dd4c97b267bd6398d4264d",
       "version_major": 2,
       "version_minor": 0
      },
      "text/plain": [
       "HBox(children=(FloatProgress(value=0.0, max=19.0), HTML(value='')))"
      ]
     },
     "metadata": {},
     "output_type": "display_data"
    },
    {
     "name": "stdout",
     "output_type": "stream",
     "text": [
      "\n",
      "segment_name before cgal = L1_6\n"
     ]
    },
    {
     "data": {
      "application/vnd.jupyter.widget-view+json": {
       "model_id": "e9fc2c7388e946e38e9a93bc25045e4a",
       "version_major": 2,
       "version_minor": 0
      },
      "text/plain": [
       "HBox(children=(FloatProgress(value=0.0, max=16.0), HTML(value='')))"
      ]
     },
     "metadata": {},
     "output_type": "display_data"
    },
    {
     "name": "stdout",
     "output_type": "stream",
     "text": [
      "\n",
      "segment_name before cgal = L1_7\n"
     ]
    },
    {
     "data": {
      "application/vnd.jupyter.widget-view+json": {
       "model_id": "1c8d3eaebdc14ae598629f828b32279c",
       "version_major": 2,
       "version_minor": 0
      },
      "text/plain": [
       "HBox(children=(FloatProgress(value=0.0, max=6.0), HTML(value='')))"
      ]
     },
     "metadata": {},
     "output_type": "display_data"
    },
    {
     "name": "stdout",
     "output_type": "stream",
     "text": [
      "\n",
      "segment_name before cgal = L1_9\n"
     ]
    },
    {
     "data": {
      "application/vnd.jupyter.widget-view+json": {
       "model_id": "bfe5f97c43bd4654a066197d7a6bc0d6",
       "version_major": 2,
       "version_minor": 0
      },
      "text/plain": [
       "HBox(children=(FloatProgress(value=0.0, max=6.0), HTML(value='')))"
      ]
     },
     "metadata": {},
     "output_type": "display_data"
    },
    {
     "name": "stdout",
     "output_type": "stream",
     "text": [
      "\n",
      "segment_name before cgal = L1_10\n"
     ]
    },
    {
     "data": {
      "application/vnd.jupyter.widget-view+json": {
       "model_id": "e5867bd697844e528b093af82081c737",
       "version_major": 2,
       "version_minor": 0
      },
      "text/plain": [
       "HBox(children=(FloatProgress(value=0.0, max=21.0), HTML(value='')))"
      ]
     },
     "metadata": {},
     "output_type": "display_data"
    },
    {
     "name": "stdout",
     "output_type": "stream",
     "text": [
      "\n",
      "Removed 1 spines because of side length greater than 5000\n",
      "segment_name before cgal = L1_11\n"
     ]
    },
    {
     "data": {
      "application/vnd.jupyter.widget-view+json": {
       "model_id": "bde59192f5fb45beb4c0c2ed4cb37ca2",
       "version_major": 2,
       "version_minor": 0
      },
      "text/plain": [
       "HBox(children=(FloatProgress(value=0.0, max=20.0), HTML(value='')))"
      ]
     },
     "metadata": {},
     "output_type": "display_data"
    },
    {
     "name": "stdout",
     "output_type": "stream",
     "text": [
      "\n",
      "segment_name before cgal = L1_12\n"
     ]
    },
    {
     "data": {
      "application/vnd.jupyter.widget-view+json": {
       "model_id": "11f06fc4b128443db87b1c60b77cb003",
       "version_major": 2,
       "version_minor": 0
      },
      "text/plain": [
       "HBox(children=(FloatProgress(value=0.0, max=23.0), HTML(value='')))"
      ]
     },
     "metadata": {},
     "output_type": "display_data"
    },
    {
     "name": "stdout",
     "output_type": "stream",
     "text": [
      "\n",
      "segment_name before cgal = L1_13\n"
     ]
    },
    {
     "data": {
      "application/vnd.jupyter.widget-view+json": {
       "model_id": "3f25b148c1974df4bfc7977b1f2b55da",
       "version_major": 2,
       "version_minor": 0
      },
      "text/plain": [
       "HBox(children=(FloatProgress(value=0.0, max=8.0), HTML(value='')))"
      ]
     },
     "metadata": {},
     "output_type": "display_data"
    },
    {
     "name": "stdout",
     "output_type": "stream",
     "text": [
      "\n",
      "segment_name before cgal = L1_14\n"
     ]
    },
    {
     "data": {
      "application/vnd.jupyter.widget-view+json": {
       "model_id": "1bd1bdaf9b5b473a99229342b689de88",
       "version_major": 2,
       "version_minor": 0
      },
      "text/plain": [
       "HBox(children=(FloatProgress(value=0.0, max=9.0), HTML(value='')))"
      ]
     },
     "metadata": {},
     "output_type": "display_data"
    },
    {
     "name": "stdout",
     "output_type": "stream",
     "text": [
      "\n",
      "segment_name before cgal = L1_15\n"
     ]
    },
    {
     "data": {
      "application/vnd.jupyter.widget-view+json": {
       "model_id": "a411983645a2436ebd31c3758343aa66",
       "version_major": 2,
       "version_minor": 0
      },
      "text/plain": [
       "HBox(children=(FloatProgress(value=0.0, max=2.0), HTML(value='')))"
      ]
     },
     "metadata": {},
     "output_type": "display_data"
    },
    {
     "name": "stdout",
     "output_type": "stream",
     "text": [
      "\n",
      "segment_name before cgal = L2_1\n"
     ]
    },
    {
     "data": {
      "application/vnd.jupyter.widget-view+json": {
       "model_id": "cf6069e1914e4fdf9353ff9eef622106",
       "version_major": 2,
       "version_minor": 0
      },
      "text/plain": [
       "HBox(children=(FloatProgress(value=0.0, max=41.0), HTML(value='')))"
      ]
     },
     "metadata": {},
     "output_type": "display_data"
    },
    {
     "name": "stdout",
     "output_type": "stream",
     "text": [
      "\n",
      "segment_name before cgal = L2_3\n"
     ]
    },
    {
     "data": {
      "application/vnd.jupyter.widget-view+json": {
       "model_id": "e9af80c6db89432d990c34b5cfdbef82",
       "version_major": 2,
       "version_minor": 0
      },
      "text/plain": [
       "HBox(children=(FloatProgress(value=0.0, max=79.0), HTML(value='')))"
      ]
     },
     "metadata": {},
     "output_type": "display_data"
    },
    {
     "name": "stdout",
     "output_type": "stream",
     "text": [
      "\n",
      "segment_name before cgal = L2_4\n"
     ]
    },
    {
     "data": {
      "application/vnd.jupyter.widget-view+json": {
       "model_id": "9c7977c3b8f0488da3ff6e540c577991",
       "version_major": 2,
       "version_minor": 0
      },
      "text/plain": [
       "HBox(children=(FloatProgress(value=0.0, max=9.0), HTML(value='')))"
      ]
     },
     "metadata": {},
     "output_type": "display_data"
    },
    {
     "name": "stdout",
     "output_type": "stream",
     "text": [
      "\n",
      "segment_name before cgal = L3_0\n"
     ]
    },
    {
     "data": {
      "application/vnd.jupyter.widget-view+json": {
       "model_id": "bc830e29df5a49b9bfe1e615292b0e32",
       "version_major": 2,
       "version_minor": 0
      },
      "text/plain": [
       "HBox(children=(FloatProgress(value=0.0, max=86.0), HTML(value='')))"
      ]
     },
     "metadata": {},
     "output_type": "display_data"
    },
    {
     "name": "stdout",
     "output_type": "stream",
     "text": [
      "\n",
      "Removed 1 spines because of side length greater than 5000\n",
      "segment_name before cgal = L4_0\n"
     ]
    },
    {
     "data": {
      "application/vnd.jupyter.widget-view+json": {
       "model_id": "e96a0c9837454cce9cc1e5d06971ceb8",
       "version_major": 2,
       "version_minor": 0
      },
      "text/plain": [
       "HBox(children=(FloatProgress(value=0.0, max=62.0), HTML(value='')))"
      ]
     },
     "metadata": {},
     "output_type": "display_data"
    },
    {
     "name": "stdout",
     "output_type": "stream",
     "text": [
      "\n",
      "Removed 1 spines because of side length greater than 5000\n",
      "segment_name before cgal = L4_1\n"
     ]
    },
    {
     "data": {
      "application/vnd.jupyter.widget-view+json": {
       "model_id": "69b523da91c74d388da7fba5268290e1",
       "version_major": 2,
       "version_minor": 0
      },
      "text/plain": [
       "HBox(children=(FloatProgress(value=0.0, max=20.0), HTML(value='')))"
      ]
     },
     "metadata": {},
     "output_type": "display_data"
    },
    {
     "name": "stdout",
     "output_type": "stream",
     "text": [
      "\n",
      "segment_name before cgal = L4_2\n"
     ]
    },
    {
     "data": {
      "application/vnd.jupyter.widget-view+json": {
       "model_id": "7049318dc4164acf86226ff216090efc",
       "version_major": 2,
       "version_minor": 0
      },
      "text/plain": [
       "HBox(children=(FloatProgress(value=0.0, max=9.0), HTML(value='')))"
      ]
     },
     "metadata": {},
     "output_type": "display_data"
    },
    {
     "name": "stdout",
     "output_type": "stream",
     "text": [
      "\n",
      "segment_name before cgal = L5_0\n"
     ]
    },
    {
     "data": {
      "application/vnd.jupyter.widget-view+json": {
       "model_id": "b796c35ca6fd4ed5a432134efb4df81f",
       "version_major": 2,
       "version_minor": 0
      },
      "text/plain": [
       "HBox(children=(FloatProgress(value=0.0, max=33.0), HTML(value='')))"
      ]
     },
     "metadata": {},
     "output_type": "display_data"
    },
    {
     "name": "stdout",
     "output_type": "stream",
     "text": [
      "\n",
      "segment_name before cgal = L5_1\n"
     ]
    },
    {
     "data": {
      "application/vnd.jupyter.widget-view+json": {
       "model_id": "5260d741d29a4343b281d35a0fd9a4bb",
       "version_major": 2,
       "version_minor": 0
      },
      "text/plain": [
       "HBox(children=(FloatProgress(value=0.0, max=52.0), HTML(value='')))"
      ]
     },
     "metadata": {},
     "output_type": "display_data"
    },
    {
     "name": "stdout",
     "output_type": "stream",
     "text": [
      "\n",
      "Removed 1 spines because of side length greater than 5000\n",
      "segment_name before cgal = L5_2\n"
     ]
    },
    {
     "data": {
      "application/vnd.jupyter.widget-view+json": {
       "model_id": "b2d5d60df14749fd864484f8f34f3f1c",
       "version_major": 2,
       "version_minor": 0
      },
      "text/plain": [
       "HBox(children=(FloatProgress(value=0.0, max=9.0), HTML(value='')))"
      ]
     },
     "metadata": {},
     "output_type": "display_data"
    },
    {
     "name": "stdout",
     "output_type": "stream",
     "text": [
      "\n",
      "segment_name before cgal = L6_0\n"
     ]
    },
    {
     "data": {
      "application/vnd.jupyter.widget-view+json": {
       "model_id": "c9d4bb0c5f094fe088c6de40db2640a4",
       "version_major": 2,
       "version_minor": 0
      },
      "text/plain": [
       "HBox(children=(FloatProgress(value=0.0, max=20.0), HTML(value='')))"
      ]
     },
     "metadata": {},
     "output_type": "display_data"
    },
    {
     "name": "stdout",
     "output_type": "stream",
     "text": [
      "\n",
      "Removed 1 spines because of side length greater than 5000\n",
      "segment_name before cgal = L7_0\n"
     ]
    },
    {
     "data": {
      "application/vnd.jupyter.widget-view+json": {
       "model_id": "b101fb6ea5304b19b958a4cc36cc5644",
       "version_major": 2,
       "version_minor": 0
      },
      "text/plain": [
       "HBox(children=(FloatProgress(value=0.0, max=6.0), HTML(value='')))"
      ]
     },
     "metadata": {},
     "output_type": "display_data"
    },
    {
     "name": "stdout",
     "output_type": "stream",
     "text": [
      "\n"
     ]
    }
   ],
   "source": [
    "exc_obj.calculate_spines()"
   ]
  },
  {
   "cell_type": "code",
   "execution_count": 15,
   "metadata": {
    "scrolled": false
   },
   "outputs": [
    {
     "name": "stdout",
     "output_type": "stream",
     "text": [
      "\n",
      " Working on visualization type: mesh\n",
      "\n",
      " Working on visualization type: skeleton\n"
     ]
    },
    {
     "data": {
      "application/vnd.jupyter.widget-view+json": {
       "model_id": "673af4bb8f0d4d6aa0b9321c3c1a82b4",
       "version_major": 2,
       "version_minor": 0
      },
      "text/plain": [
       "VBox(children=(Figure(camera=PerspectiveCamera(fov=46.0, position=(0.0, 0.0, 2.0), quaternion=(0.0, 0.0, 0.0, …"
      ]
     },
     "metadata": {},
     "output_type": "display_data"
    }
   ],
   "source": [
    "nviz.plot_spines(exc_obj)"
   ]
  },
  {
   "cell_type": "code",
   "execution_count": 16,
   "metadata": {},
   "outputs": [
    {
     "name": "stdout",
     "output_type": "stream",
     "text": [
      "\n",
      " Working on visualization type: mesh\n"
     ]
    },
    {
     "data": {
      "application/vnd.jupyter.widget-view+json": {
       "model_id": "935bb2a4e14445c083048314c071d7da",
       "version_major": 2,
       "version_minor": 0
      },
      "text/plain": [
       "VBox(children=(Figure(camera=PerspectiveCamera(fov=46.0, position=(0.0, 0.0, 2.0), quaternion=(0.0, 0.0, 0.0, …"
      ]
     },
     "metadata": {},
     "output_type": "display_data"
    }
   ],
   "source": [
    "ret_col = nviz.visualize_neuron(exc_obj,\n",
    "                      visualize_type=[\"mesh\"],\n",
    "                     limb_branch_dict=\"all\",\n",
    "                     mesh_resolution=\"limb\",\n",
    "                     return_color_dict=True)"
   ]
  },
  {
   "cell_type": "code",
   "execution_count": 17,
   "metadata": {},
   "outputs": [],
   "source": [
    "import neuron_searching as ns"
   ]
  },
  {
   "cell_type": "code",
   "execution_count": 23,
   "metadata": {},
   "outputs": [
    {
     "name": "stdout",
     "output_type": "stream",
     "text": [
      "current_query = ((n_spines < 6) and ((median_mesh_center < 600)) and spine_density <= 0.00007)\n",
      "functions_list = [<function median_mesh_center at 0x7f469af4d0d0>, <function n_spines at 0x7f4698021c80>, <function spine_density at 0x7f469af4d400>]\n"
     ]
    },
    {
     "data": {
      "text/plain": [
       "{'L0': array([10, 16]),\n",
       " 'L1': array([ 1,  2,  3,  4,  7,  8, 11, 13, 14, 15]),\n",
       " 'L2': array([0, 2, 4]),\n",
       " 'L4': array([2]),\n",
       " 'L5': array([0, 2]),\n",
       " 'L7': array([0])}"
      ]
     },
     "execution_count": 23,
     "metadata": {},
     "output_type": "execute_result"
    }
   ],
   "source": [
    "ax_limb_branch = ns.axon_width_like_segments(exc_obj,include_ais=True)\n",
    "ax_limb_branch"
   ]
  },
  {
   "cell_type": "code",
   "execution_count": 24,
   "metadata": {},
   "outputs": [
    {
     "name": "stdout",
     "output_type": "stream",
     "text": [
      "\n",
      " Working on visualization type: mesh\n"
     ]
    },
    {
     "data": {
      "application/vnd.jupyter.widget-view+json": {
       "model_id": "4ace4b4027474bc2ba59dfb0434b973e",
       "version_major": 2,
       "version_minor": 0
      },
      "text/plain": [
       "VBox(children=(Figure(camera=PerspectiveCamera(fov=46.0, position=(0.0, 0.0, 2.0), quaternion=(0.0, 0.0, 0.0, …"
      ]
     },
     "metadata": {},
     "output_type": "display_data"
    }
   ],
   "source": [
    "nviz.visualize_neuron(exc_obj,\n",
    "                      visualize_type=[\"mesh\"],\n",
    "                     limb_branch_dict=ax_limb_branch,\n",
    "                     mesh_color=\"red\",\n",
    "                     mesh_whole_neuron=True)"
   ]
  },
  {
   "cell_type": "code",
   "execution_count": 29,
   "metadata": {},
   "outputs": [],
   "source": [
    "import neuron_utils as nru"
   ]
  },
  {
   "cell_type": "code",
   "execution_count": 33,
   "metadata": {},
   "outputs": [
    {
     "name": "stdout",
     "output_type": "stream",
     "text": [
      "functions_list = [<function soma_starting_angle at 0x7f469af4c0d0>]\n",
      "Limb L0 soma angle: 31.96 \n",
      "Limb L1 soma angle: 120.57 \n",
      "Limb L2 soma angle: 112.62 \n",
      "Limb L3 soma angle: 134.92 \n",
      "Limb L4 soma angle: 100.5 \n",
      "Limb L5 soma angle: 120.96 \n",
      "Limb L6 soma angle: 126.82 \n",
      "Limb L7 soma angle: 151.97 \n"
     ]
    },
    {
     "data": {
      "text/plain": [
       "[0]"
      ]
     },
     "execution_count": 33,
     "metadata": {},
     "output_type": "execute_result"
    }
   ],
   "source": [
    "nru.viable_axon_limbs_by_starting_angle(exc_obj,\n",
    "                                           verbose=True,\n",
    "                                            above_threshold = False,\n",
    "                                           soma_angle_threshold = 45)"
   ]
  },
  {
   "cell_type": "code",
   "execution_count": null,
   "metadata": {},
   "outputs": [],
   "source": []
  },
  {
   "cell_type": "code",
   "execution_count": 25,
   "metadata": {},
   "outputs": [],
   "source": [
    "import classification_utils as clu"
   ]
  },
  {
   "cell_type": "code",
   "execution_count": 28,
   "metadata": {
    "scrolled": false
   },
   "outputs": [
    {
     "name": "stdout",
     "output_type": "stream",
     "text": [
      "current_query = ((n_spines < 6) and ((median_mesh_center < 600)) and spine_density <= 0.00007)\n",
      "functions_list = [<function median_mesh_center at 0x7f469af4d0d0>, <function n_spines at 0x7f4698021c80>, <function spine_density at 0x7f469af4d400>]\n",
      "functions_list = [<function axon_segment at 0x7f469af4dea0>]\n",
      "\n",
      "Part 1: Axon like branchese \n",
      "{'L0': array([10, 16]), 'L1': array([ 1,  2,  3,  4,  7,  8, 11, 13]), 'L2': array([0, 2]), 'L5': array([0]), 'L7': array([0])}\n",
      "functions_list = [<function soma_starting_angle at 0x7f469af4c0d0>]\n",
      "Limb L0 soma angle: 31.96 \n",
      "Limb L1 soma angle: 120.57 \n",
      "Limb L2 soma angle: 112.62 \n",
      "Limb L3 soma angle: 134.92 \n",
      "Limb L4 soma angle: 100.5 \n",
      "Limb L5 soma angle: 120.96 \n",
      "Limb L6 soma angle: 126.82 \n",
      "Limb L7 soma angle: 151.97 \n",
      "\n",
      "Part 2: possible_axon_limbs = [1, 2, 3, 4, 5, 6, 7]\n",
      "functions_list = [<function skeletal_distance_from_soma at 0x7f469af4db70>]\n",
      "functions_list = [<function skeletal_distance_from_soma at 0x7f469af4db70>]\n",
      "\n",
      "Working on Limb L1\n",
      "nodes_to_eliminate = [15]\n",
      "\n",
      "Working on Limb L2\n",
      "nodes_to_eliminate = []\n",
      "\n",
      "Working on Limb L3\n",
      "nodes_to_eliminate = []\n",
      "\n",
      "Working on Limb L4\n",
      "nodes_to_eliminate = []\n",
      "\n",
      "Working on Limb L5\n",
      "nodes_to_eliminate = []\n",
      "\n",
      "Working on Limb L6\n",
      "nodes_to_eliminate = []\n",
      "\n",
      "Working on Limb L7\n",
      "nodes_to_eliminate = []\n",
      "\n",
      "----Working on Limb L1-----\n",
      "No endpoints were eliminated so don't need to add back any candidates\n",
      "\n",
      "----Working on Limb L2-----\n",
      "No nodes were eliminated so don't need to add back any candidates\n",
      "\n",
      "----Working on Limb L3-----\n",
      "No nodes were eliminated so don't need to add back any candidates\n",
      "\n",
      "----Working on Limb L4-----\n",
      "No nodes were eliminated so don't need to add back any candidates\n",
      "\n",
      "----Working on Limb L5-----\n",
      "No nodes were eliminated so don't need to add back any candidates\n",
      "\n",
      "----Working on Limb L6-----\n",
      "No nodes were eliminated so don't need to add back any candidates\n",
      "\n",
      "----Working on Limb L7-----\n",
      "No nodes were eliminated so don't need to add back any candidates\n",
      "Final Candidates\n",
      "\n",
      "Limb 1\n",
      "array([11])\n",
      "array([ 0,  1,  2,  3,  4,  5,  6,  7,  8,  9, 10, 12, 13, 14])\n",
      "\n",
      "Limb 2\n",
      "array([0, 1, 2, 3, 4])\n",
      "\n",
      "Limb 3\n",
      "array([0])\n",
      "\n",
      "Limb 4\n",
      "array([0, 1, 2])\n",
      "\n",
      "Limb 5\n",
      "array([0, 1, 2])\n",
      "\n",
      "Limb 6\n",
      "array([0])\n",
      "\n",
      "Limb 7\n",
      "array([0])\n",
      "Part 3: axon_subgraph_candidates = {1: [[11], [0, 1, 2, 3, 4, 5, 6, 7, 8, 9, 10, 12, 13, 14]], 2: [[0, 1, 2, 3, 4]], 3: [[0]], 4: [[0, 1, 2]], 5: [[0, 1, 2]], 6: [[0]], 7: [[0]]}\n",
      "\n",
      "\n",
      " --- Working on limb 1, candidate # 0\n",
      "1 out of 1 branches are axons\n",
      "Axon percentage = 1.0\n",
      "curr_axon_angle_threshold = 90\n",
      "endnodes_to_test = [298]\n",
      "Skeleton paths distances = [24992.89704681]\n",
      "Filtered indexes = [0]\n",
      "len(filtered_skeletons) = 1\n",
      "sk_angles = [59.96356956]\n",
      "Not adding candidate because no angles ([59.96356956]) passed the threhold 90 \n",
      "\n",
      "\n",
      " --- Working on limb 1, candidate # 1\n",
      "7 out of 14 branches are axons\n",
      "Axon percentage = 0.5\n",
      "curr_axon_angle_threshold = 120\n",
      "endnodes_to_test = [6623]\n",
      "Skeleton paths distances = [24996.57494886]\n",
      "Filtered indexes = [0]\n",
      "len(filtered_skeletons) = 1\n",
      "sk_angles = [147.44183325]\n",
      "Not adding candidate the first branch was not an axon \n",
      "\n",
      "\n",
      " --- Working on limb 2, candidate # 0\n",
      "2 out of 5 branches are axons\n",
      "Axon percentage = 0.4\n",
      "curr_axon_angle_threshold = 120\n",
      "endnodes_to_test = [2140]\n",
      "Skeleton paths distances = [24880.0612162]\n",
      "Filtered indexes = [0]\n",
      "len(filtered_skeletons) = 1\n",
      "sk_angles = [147.14148882]\n",
      "Not adding candidate the first branch was not an axon \n",
      "\n",
      "\n",
      " --- Working on limb 3, candidate # 0\n",
      "0 out of 1 branches are axons\n",
      "Axon percentage = 0.0\n",
      "Not adding candidate no axon branches detected \n",
      "\n",
      "\n",
      " --- Working on limb 4, candidate # 0\n",
      "0 out of 3 branches are axons\n",
      "Axon percentage = 0.0\n",
      "Not adding candidate no axon branches detected \n",
      "\n",
      "\n",
      " --- Working on limb 5, candidate # 0\n",
      "1 out of 3 branches are axons\n",
      "Axon percentage = 0.3333333333333333\n",
      "curr_axon_angle_threshold = 120\n",
      "endnodes_to_test = [1499 1565]\n",
      "Skeleton paths distances = [24946.15176181 24916.93944855]\n",
      "Filtered indexes = [0 1]\n",
      "len(filtered_skeletons) = 2\n",
      "sk_angles = [128.59581628  93.1763998 ]\n",
      "Not adding candidate the first branch was not an axon \n",
      "\n",
      "\n",
      " --- Working on limb 6, candidate # 0\n",
      "0 out of 1 branches are axons\n",
      "Axon percentage = 0.0\n",
      "Not adding candidate no axon branches detected \n",
      "\n",
      "\n",
      " --- Working on limb 7, candidate # 0\n",
      "1 out of 1 branches are axons\n",
      "Axon percentage = 1.0\n",
      "curr_axon_angle_threshold = 90\n",
      "endnodes_to_test = [1]\n",
      "Skeleton paths distances = [24966.48072768]\n",
      "Filtered indexes = [0]\n",
      "len(filtered_skeletons) = 1\n",
      "sk_angles = [132.74672827]\n",
      "Adding the following branches as true axons: [0.]\n",
      "\n",
      "\n",
      "Part 4: final_true_axons = {'L7': array([0.])}\n",
      "\n",
      " Working on visualization type: mesh\n"
     ]
    },
    {
     "data": {
      "application/vnd.jupyter.widget-view+json": {
       "model_id": "bd1289bda46745689132a8494ef66951",
       "version_major": 2,
       "version_minor": 0
      },
      "text/plain": [
       "VBox(children=(Figure(camera=PerspectiveCamera(fov=46.0, position=(0.0, 0.0, 2.0), quaternion=(0.0, 0.0, 0.0, …"
      ]
     },
     "metadata": {},
     "output_type": "display_data"
    },
    {
     "name": "stdout",
     "output_type": "stream",
     "text": [
      "current_query = ((n_spines < 6) and ((median_mesh_center < 200)) and spine_density <= 0.00007)\n",
      "functions_list = [<function median_mesh_center at 0x7f469af4d0d0>, <function n_spines at 0x7f4698021c80>, <function spine_density at 0x7f469af4d400>]\n",
      "functions_list = [<function axon_segment at 0x7f469af4dea0>]\n",
      "functions_list = [<function labels_restriction at 0x7f469af4d510>, <function median_mesh_center at 0x7f469af4d0d0>]\n",
      "\n",
      " Working on visualization type: mesh\n"
     ]
    },
    {
     "data": {
      "application/vnd.jupyter.widget-view+json": {
       "model_id": "fd9197bc6dc941d1854b6d0ab7b5ac4a",
       "version_major": 2,
       "version_minor": 0
      },
      "text/plain": [
       "VBox(children=(Figure(camera=PerspectiveCamera(fov=46.0, position=(0.0, 0.0, 2.0), quaternion=(0.0, 0.0, 0.0, …"
      ]
     },
     "metadata": {},
     "output_type": "display_data"
    },
    {
     "data": {
      "text/plain": [
       "({'L7': array([0.])},\n",
       " {'L0': array([16]), 'L1': array([2, 4, 8]), 'L2': array([0, 2])})"
      ]
     },
     "execution_count": 28,
     "metadata": {},
     "output_type": "execute_result"
    }
   ],
   "source": [
    "clu.axon_classification(exc_obj,\n",
    "                       plot_axons=True,\n",
    "                       plot_axon_errors=True)"
   ]
  },
  {
   "cell_type": "markdown",
   "metadata": {},
   "source": [
    "# How to get a number to classify the sparsely spiny neurons from fully spiney"
   ]
  },
  {
   "cell_type": "code",
   "execution_count": null,
   "metadata": {},
   "outputs": [],
   "source": [
    "messy_inh = (minnie.Decomposition & dict(segment_id=864691135510477264)).fetch1(\"decomposition\")\n",
    "messy_inh.calculate_spines()"
   ]
  },
  {
   "cell_type": "code",
   "execution_count": null,
   "metadata": {},
   "outputs": [],
   "source": [
    "exc_obj_2 =  (minnie.Decomposition & dict(segment_id=864691135847929438)).fetch1(\"decomposition\")\n",
    "exc_obj_2.calculate_spines()"
   ]
  },
  {
   "cell_type": "code",
   "execution_count": null,
   "metadata": {},
   "outputs": [],
   "source": [
    "nviz.plot_spines(exc_obj_2)"
   ]
  },
  {
   "cell_type": "code",
   "execution_count": null,
   "metadata": {},
   "outputs": [],
   "source": [
    "ns = reload(ns)"
   ]
  },
  {
   "cell_type": "code",
   "execution_count": null,
   "metadata": {},
   "outputs": [],
   "source": [
    "curr_neuron_obj  = exc_obj#sparsely_spined_excitatory#messy_inh\n",
    "curr_neuron_obj = sparsely_spined_excitatory\n",
    "curr_neuron_obj = exc_obj\n",
    "curr_neurong_obj = exc_obj_2\n",
    "\n",
    "lower_width_bound = 140\n",
    "upper_width_bound = 380\n",
    "spine_threshold = 2\n",
    "skeletal_distance_threshold = 30000\n",
    "skeletal_length_threshold = 10000\n",
    "min_branches_to_process = 4\n",
    "\n",
    "return_dataframe = False\n",
    "\n",
    "close_limb_branch_dict = ns.query_neuron(curr_neuron_obj,\n",
    "                                            functions_list=[\"skeletal_distance_from_soma_excluding_node\",\"no_spine_median_mesh_center\",\n",
    "                                                            \"n_spines\",\"spine_density\",\"skeletal_length\"],\n",
    "                                            query=(f\"(skeletal_distance_from_soma_excluding_node<{skeletal_distance_threshold})\"\n",
    "                                                   f\" and (no_spine_median_mesh_center > {lower_width_bound})\"\n",
    "                                                   f\" and (no_spine_median_mesh_center < {upper_width_bound})\"\n",
    "                                                  f\" and (n_spines > {spine_threshold})\"\n",
    "                                                   f\" and skeletal_length > {skeletal_length_threshold} \"\n",
    "                                                  ),\n",
    "                                             return_dataframe=return_dataframe\n",
    "\n",
    "\n",
    "                                          )\n",
    "\n",
    "if return_dataframe is False:\n",
    "    nviz.visualize_neuron(curr_neuron_obj,\n",
    "                          visualize_type=[\"mesh\"],\n",
    "                         limb_branch_dict=close_limb_branch_dict,\n",
    "                          mesh_color=\"red\",\n",
    "                          mesh_whole_neuron=True)\n",
    "else:\n",
    "    print(f\"Number of branches = {len(close_limb_branch_dict)}\")\n",
    "    if len(close_limb_branch_dict)>min_branches_to_process:                          \n",
    "        print(f'median spine density = {np.median(close_limb_branch_dict[\"spine_density\"].to_numpy())}')\n",
    "    else:\n",
    "        print(f\"Not enough branches to process: only {len(close_limb_branch_dict)} and threshold set as {min_branches_to_process}\")"
   ]
  },
  {
   "cell_type": "code",
   "execution_count": null,
   "metadata": {},
   "outputs": [],
   "source": [
    "ret_col = nviz.visualize_neuron(curr_neuron_obj,\n",
    "                     limb_branch_dict=dict(L0=\"all\"),\n",
    "                     return_color_dict=True)"
   ]
  },
  {
   "cell_type": "code",
   "execution_count": null,
   "metadata": {},
   "outputs": [],
   "source": [
    "nviz.plot_spines(inh_obj)"
   ]
  },
  {
   "cell_type": "code",
   "execution_count": null,
   "metadata": {
    "scrolled": false
   },
   "outputs": [],
   "source": [
    "ret_color_limb = nviz.visualize_neuron(sparsely_spined_excitatory,\n",
    "                      visualize_type=[\"mesh\"],\n",
    "                     limb_branch_dict=\"all\",\n",
    "                     mesh_resolution=\"limb\",\n",
    "                     return_color_dict=True)"
   ]
  },
  {
   "cell_type": "code",
   "execution_count": null,
   "metadata": {},
   "outputs": [],
   "source": [
    "nviz.plot_soma_limb_concept_network(sparsely_spined_excitatory,\n",
    "                                   node_colors=ret_color_limb)"
   ]
  },
  {
   "cell_type": "code",
   "execution_count": null,
   "metadata": {},
   "outputs": [],
   "source": [
    "ret_col_branches = nviz.visualize_neuron(sparsely_spined_excitatory,\n",
    "                     limb_branch_dict=dict(L2=\"all\"),\n",
    "                     return_color_dict=True)"
   ]
  },
  {
   "cell_type": "code",
   "execution_count": null,
   "metadata": {},
   "outputs": [],
   "source": [
    "import spine_utils as spu"
   ]
  },
  {
   "cell_type": "code",
   "execution_count": null,
   "metadata": {},
   "outputs": [],
   "source": [
    "curr_spines = spu.get_spine_meshes_unfiltered_from_mesh(curr_branch.mesh)"
   ]
  },
  {
   "cell_type": "code",
   "execution_count": null,
   "metadata": {},
   "outputs": [],
   "source": [
    "curr_branch = sparsely_spined_excitatory[2][3]\n",
    "nviz.plot_branches_with_spines(curr_branch)"
   ]
  },
  {
   "cell_type": "code",
   "execution_count": null,
   "metadata": {},
   "outputs": [],
   "source": [
    "import neuron_searching as ns"
   ]
  },
  {
   "cell_type": "code",
   "execution_count": null,
   "metadata": {},
   "outputs": [],
   "source": [
    "axon_like_limb_branch_dict = ns.axon_width_like_segments(sparsely_spined_excitatory)\n",
    "axon_like_limb_branch_dict"
   ]
  },
  {
   "cell_type": "code",
   "execution_count": null,
   "metadata": {},
   "outputs": [],
   "source": [
    "nviz.visualize_neuron(sparsely_spined_excitatory,\n",
    "                      visualize_type=[\"mesh\"],\n",
    "                     limb_branch_dict=axon_like_limb_branch_dict,\n",
    "                     mesh_color=\"red\",\n",
    "                     mesh_whole_neuron=True)"
   ]
  },
  {
   "cell_type": "markdown",
   "metadata": {},
   "source": [
    "# Redefining the characteristics of an axon finding"
   ]
  },
  {
   "cell_type": "code",
   "execution_count": null,
   "metadata": {},
   "outputs": [],
   "source": []
  },
  {
   "cell_type": "code",
   "execution_count": null,
   "metadata": {},
   "outputs": [],
   "source": []
  },
  {
   "cell_type": "code",
   "execution_count": null,
   "metadata": {},
   "outputs": [],
   "source": []
  },
  {
   "cell_type": "code",
   "execution_count": null,
   "metadata": {},
   "outputs": [],
   "source": [
    "curr_neuron_obj = exc_obj\n",
    "axon_like_limb_branch_dict = ns.axon_width_like_segments(curr_neuron_obj,\n",
    "                                                        include_ais=True)\n",
    "\n",
    "nviz.visualize_neuron(curr_neuron_obj,\n",
    "                      visualize_type=[\"mesh\"],\n",
    "                     limb_branch_dict=axon_like_limb_branch_dict,\n",
    "                     mesh_color=\"red\",\n",
    "                      mesh_color_alpha=1,\n",
    "                     mesh_whole_neuron=True)"
   ]
  },
  {
   "cell_type": "code",
   "execution_count": null,
   "metadata": {},
   "outputs": [],
   "source": [
    "current_functions_list = [\"axon_segment\"]\n",
    "final_axon_like_classification = ns.query_neuron(curr_neuron_obj,\n",
    "\n",
    "                                   query=\"axon_segment==True\",\n",
    "                                   function_kwargs=dict(limb_branch_dict =axon_like_limb_branch_dict,\n",
    "                                                        downstream_face_threshold=downstream_face_threshold,\n",
    "                                                        width_match_threshold=width_match_threshold,\n",
    "                                                       print_flag=False),\n",
    "                                   functions_list=current_functions_list)\n",
    "\n",
    "if plot_axon_like_segments:\n",
    "    nviz.visualize_neuron(curr_neuron_obj,\n",
    "                          visualize_type=[\"mesh\"],\n",
    "                         limb_branch_dict=final_axon_like_classification,\n",
    "                         mesh_color=\"red\",\n",
    "                          mesh_color_alpha=1,\n",
    "                         mesh_whole_neuron=True)"
   ]
  },
  {
   "cell_type": "code",
   "execution_count": null,
   "metadata": {},
   "outputs": [],
   "source": []
  },
  {
   "cell_type": "code",
   "execution_count": null,
   "metadata": {},
   "outputs": [],
   "source": []
  },
  {
   "cell_type": "code",
   "execution_count": null,
   "metadata": {},
   "outputs": [],
   "source": [
    "ret_col = nviz.visualize_neuron(exc_obj,\n",
    "                     limb_branch_dict=dict(L0=\"all\"),\n",
    "                     return_color_dict=True)"
   ]
  },
  {
   "cell_type": "code",
   "execution_count": null,
   "metadata": {},
   "outputs": [],
   "source": [
    "nviz.plot_limb_concept_network_2D(exc_obj,\n",
    "                                  node_colors=ret_col,\n",
    "                                 starting_soma_group=1)"
   ]
  },
  {
   "cell_type": "code",
   "execution_count": null,
   "metadata": {},
   "outputs": [],
   "source": [
    "\"\"\"\n",
    "good spine: 66117646.61667633\n",
    "\n",
    "\n",
    "\"\"\""
   ]
  },
  {
   "cell_type": "code",
   "execution_count": null,
   "metadata": {},
   "outputs": [],
   "source": [
    "tu.mesh_volume(exc_obj[0][65].spines[0])"
   ]
  },
  {
   "cell_type": "code",
   "execution_count": null,
   "metadata": {},
   "outputs": [],
   "source": [
    "nviz.plot_objects(curr_branch.spines[2])"
   ]
  },
  {
   "cell_type": "code",
   "execution_count": null,
   "metadata": {},
   "outputs": [],
   "source": [
    "66117646.61667633*0.3"
   ]
  },
  {
   "cell_type": "code",
   "execution_count": null,
   "metadata": {},
   "outputs": [],
   "source": [
    "np.array(curr_branch.spines_volume)/ 66117646.61667633"
   ]
  },
  {
   "cell_type": "code",
   "execution_count": null,
   "metadata": {},
   "outputs": [],
   "source": [
    "curr_branch.spines_volume"
   ]
  },
  {
   "cell_type": "code",
   "execution_count": null,
   "metadata": {},
   "outputs": [],
   "source": [
    "curr_branch = exc_obj[0][27]\n",
    "nviz.plot_branches_with_spines(curr_branch)"
   ]
  },
  {
   "cell_type": "code",
   "execution_count": null,
   "metadata": {},
   "outputs": [],
   "source": []
  },
  {
   "cell_type": "code",
   "execution_count": null,
   "metadata": {},
   "outputs": [],
   "source": [
    "curr_branch = exc_obj[0][5]"
   ]
  },
  {
   "cell_type": "code",
   "execution_count": null,
   "metadata": {},
   "outputs": [],
   "source": [
    "import skeleton_utils as sk"
   ]
  },
  {
   "cell_type": "code",
   "execution_count": null,
   "metadata": {},
   "outputs": [],
   "source": []
  },
  {
   "cell_type": "code",
   "execution_count": null,
   "metadata": {},
   "outputs": [],
   "source": [
    "import trimesh_utils as tu\n",
    "leftover_spines = tu.filter_meshes_by_containing_coordinates(curr_branch.spines,\n",
    "                                        sk.find_branch_endpoints(curr_branch.skeleton),\n",
    "                                                filter_away=True,\n",
    "                                           method=\"distance\",\n",
    "                                           distance_threshold=1500,\n",
    "                                           verbose=False,\n",
    "                                           return_indices=False)"
   ]
  },
  {
   "cell_type": "code",
   "execution_count": null,
   "metadata": {},
   "outputs": [],
   "source": []
  },
  {
   "cell_type": "code",
   "execution_count": null,
   "metadata": {},
   "outputs": [],
   "source": [
    "curr_branch.spines"
   ]
  },
  {
   "cell_type": "code",
   "execution_count": null,
   "metadata": {},
   "outputs": [],
   "source": [
    "nviz.plot_branches_with_spines(exc_obj[0][5])"
   ]
  },
  {
   "cell_type": "code",
   "execution_count": null,
   "metadata": {},
   "outputs": [],
   "source": [
    "plot_branches_with_spines"
   ]
  },
  {
   "cell_type": "code",
   "execution_count": null,
   "metadata": {},
   "outputs": [],
   "source": [
    "nviz.plot_spines(exc_obj)"
   ]
  },
  {
   "cell_type": "code",
   "execution_count": null,
   "metadata": {},
   "outputs": [],
   "source": [
    "curr_neuron_obj = exc_obj\n",
    "axon_like_limb_branch_dict = ns.axon_width_like_segments(curr_neuron_obj,\n",
    "                                                        include_ais=True)\n",
    "\n",
    "nviz.visualize_neuron(curr_neuron_obj,\n",
    "                          visualize_type=[\"mesh\"],\n",
    "                         limb_branch_dict=axon_like_limb_branch_dict,\n",
    "                         mesh_color=\"red\",\n",
    "                          mesh_color_alpha=1,\n",
    "                         mesh_whole_neuron=True)\n",
    ")"
   ]
  },
  {
   "cell_type": "code",
   "execution_count": null,
   "metadata": {},
   "outputs": [],
   "source": [
    "current_functions_list = [\"axon_segment\"]\n",
    "final_axon_like_classification = ns.query_neuron(curr_neuron_obj,\n",
    "\n",
    "                                   query=\"axon_segment==True\",\n",
    "                                   function_kwargs=dict(limb_branch_dict =axon_like_limb_branch_dict,\n",
    "                                                        downstream_face_threshold=5000,\n",
    "                                                        width_match_threshold=50,\n",
    "                                                       print_flag=False),\n",
    "                                   functions_list=current_functions_list)\n",
    "\n",
    "\n",
    "nviz.visualize_neuron(curr_neuron_obj,\n",
    "                      visualize_type=[\"mesh\"],\n",
    "                     limb_branch_dict=final_axon_like_classification,\n",
    "                     mesh_color=\"red\",\n",
    "                      mesh_color_alpha=1,\n",
    "                     mesh_whole_neuron=True)"
   ]
  },
  {
   "cell_type": "code",
   "execution_count": null,
   "metadata": {},
   "outputs": [],
   "source": []
  }
 ],
 "metadata": {
  "kernelspec": {
   "display_name": "Python 3",
   "language": "python",
   "name": "python3"
  },
  "language_info": {
   "codemirror_mode": {
    "name": "ipython",
    "version": 3
   },
   "file_extension": ".py",
   "mimetype": "text/x-python",
   "name": "python",
   "nbconvert_exporter": "python",
   "pygments_lexer": "ipython3",
   "version": "3.6.9"
  }
 },
 "nbformat": 4,
 "nbformat_minor": 4
}
