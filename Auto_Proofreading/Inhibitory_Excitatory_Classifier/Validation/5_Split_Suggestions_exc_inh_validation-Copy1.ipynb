{
 "cells": [
  {
   "cell_type": "code",
   "execution_count": 1,
   "metadata": {},
   "outputs": [
    {
     "data": {
      "text/plain": [
       "'\\nPurpose: To run the soma splitting \\non the processed neurons\\n\\n'"
      ]
     },
     "execution_count": 1,
     "metadata": {},
     "output_type": "execute_result"
    }
   ],
   "source": [
    "\"\"\"\n",
    "Purpose: To run the soma splitting \n",
    "on the processed neurons\n",
    "\n",
    "\"\"\"\n"
   ]
  },
  {
   "cell_type": "code",
   "execution_count": 2,
   "metadata": {},
   "outputs": [],
   "source": [
    "import numpy as np\n",
    "import datajoint as dj\n",
    "import trimesh\n",
    "from tqdm.notebook import tqdm\n",
    "from pathlib import Path\n",
    "\n",
    "from os import sys\n",
    "sys.path.append(\"/meshAfterParty/\")\n",
    "\n",
    "from importlib import reload"
   ]
  },
  {
   "cell_type": "code",
   "execution_count": 3,
   "metadata": {},
   "outputs": [
    {
     "name": "stderr",
     "output_type": "stream",
     "text": [
      "INFO - 2021-01-22 19:09:10,391 - settings - Setting database.host to at-database.ad.bcm.edu\n",
      "INFO - 2021-01-22 19:09:10,392 - settings - Setting database.user to celiib\n",
      "INFO - 2021-01-22 19:09:10,393 - settings - Setting database.password to newceliipass\n",
      "INFO - 2021-01-22 19:09:10,397 - settings - Setting stores to {'minnie65': {'protocol': 'file', 'location': '/mnt/dj-stor01/platinum/minnie65', 'stage': '/mnt/dj-stor01/platinum/minnie65'}, 'meshes': {'protocol': 'file', 'location': '/mnt/dj-stor01/platinum/minnie65/02/meshes', 'stage': '/mnt/dj-stor01/platinum/minnie65/02/meshes'}, 'decimated_meshes': {'protocol': 'file', 'location': '/mnt/dj-stor01/platinum/minnie65/02/decimated_meshes', 'stage': '/mnt/dj-stor01/platinum/minnie65/02/decimated_meshes'}, 'skeletons': {'protocol': 'file', 'location': '/mnt/dj-stor01/platinum/minnie65/02/skeletons'}}\n",
      "INFO - 2021-01-22 19:09:10,399 - settings - Setting enable_python_native_blobs to True\n",
      "INFO - 2021-01-22 19:09:10,414 - connection - Connected celiib@at-database.ad.bcm.edu:3306\n"
     ]
    },
    {
     "name": "stdout",
     "output_type": "stream",
     "text": [
      "Connecting celiib@at-database.ad.bcm.edu:3306\n"
     ]
    },
    {
     "name": "stderr",
     "output_type": "stream",
     "text": [
      "INFO - 2021-01-22 19:09:10,660 - settings - Setting enable_python_native_blobs to True\n"
     ]
    }
   ],
   "source": [
    "import datajoint_utils as du"
   ]
  },
  {
   "cell_type": "code",
   "execution_count": 4,
   "metadata": {},
   "outputs": [],
   "source": [
    "test_mode = True"
   ]
  },
  {
   "cell_type": "code",
   "execution_count": 5,
   "metadata": {},
   "outputs": [
    {
     "name": "stderr",
     "output_type": "stream",
     "text": [
      "INFO - 2021-01-22 19:09:10,691 - settings - Setting database.host to at-database.ad.bcm.edu\n",
      "INFO - 2021-01-22 19:09:10,692 - settings - Setting database.user to celiib\n",
      "INFO - 2021-01-22 19:09:10,693 - settings - Setting database.password to newceliipass\n",
      "INFO - 2021-01-22 19:09:10,694 - settings - Setting enable_python_native_blobs to True\n"
     ]
    },
    {
     "name": "stdout",
     "output_type": "stream",
     "text": [
      "Sleeping 198 sec before conneting\n",
      "Done sleeping\n",
      "Current path for external_segmentation_path = /mnt/dj-stor01/platinum/minnie65/02\n",
      "Current path for external_mesh_path = /mnt/dj-stor01/platinum/minnie65/02/meshes\n",
      "Current path for external_decimated_mesh_path = /mnt/dj-stor01/platinum/minnie65/02/decimated_meshes\n",
      "Current path for external_skeleton_path = /mnt/dj-stor01/platinum/minnie65/02/skeletons\n"
     ]
    },
    {
     "name": "stderr",
     "output_type": "stream",
     "text": [
      "INFO - 2021-01-22 19:09:10,956 - settings - Setting enable_python_native_blobs to True\n"
     ]
    }
   ],
   "source": [
    "import minfig\n",
    "import time\n",
    "import numpy as np\n",
    "#want to add in a wait for the connection part\n",
    "random_sleep_sec = np.random.randint(0, 200)\n",
    "print(f\"Sleeping {random_sleep_sec} sec before conneting\")\n",
    "if not test_mode:\n",
    "    time.sleep(random_sleep_sec)\n",
    "print(\"Done sleeping\")\n",
    "\n",
    "du.config_celii()\n",
    "du.set_minnie65_config_segmentation(minfig)\n",
    "du.print_minnie65_config_paths(minfig)\n",
    "\n",
    "#configuring will include the adapters\n",
    "minnie,schema = du.configure_minnie_vm()"
   ]
  },
  {
   "cell_type": "markdown",
   "metadata": {},
   "source": [
    "# Defining the Table"
   ]
  },
  {
   "cell_type": "code",
   "execution_count": 6,
   "metadata": {},
   "outputs": [],
   "source": [
    "import neuron_utils as nru\n",
    "import neuron\n",
    "import trimesh_utils as tu\n",
    "import numpy as np"
   ]
  },
  {
   "cell_type": "code",
   "execution_count": 7,
   "metadata": {},
   "outputs": [
    {
     "name": "stdout",
     "output_type": "stream",
     "text": [
      "No port chosen so picked random port 4846\n"
     ]
    }
   ],
   "source": [
    "import meshlab\n",
    "meshlab.set_meshlab_port(current_port=None)"
   ]
  },
  {
   "cell_type": "code",
   "execution_count": 8,
   "metadata": {},
   "outputs": [],
   "source": [
    "#so that it will have the adapter defined\n",
    "from datajoint_utils import *"
   ]
  },
  {
   "cell_type": "code",
   "execution_count": 9,
   "metadata": {},
   "outputs": [],
   "source": [
    "import numpy as np\n",
    "import time\n",
    "import proofreading_utils as pru\n",
    "\n",
    "@schema\n",
    "class NeuronSplitSuggestions(dj.Computed):\n",
    "    definition=\"\"\"\n",
    "    -> minnie.Decomposition\n",
    "    ---\n",
    "    split_results: longblob #will store the results of how to split the limbs of neuron objects\n",
    "    run_time=NULL : double                   # the amount of time to run (seconds)\n",
    "\n",
    "    \"\"\"\n",
    "\n",
    "#     key_source = minnie.Decomposition() & minnie.MultiSomaProofread2.proj()\n",
    "    classified_table = minnie.BaylorManualCellType() & 'nucleus_version=3'\n",
    "    key_source = (minnie.Decomposition()  & classified_table.proj())\n",
    "    key_source\n",
    "    \n",
    "    def make(self,key):\n",
    "        \"\"\"\n",
    "        Pseudocode for process:\n",
    "\n",
    "        1) Fetch the neuron object\n",
    "        2) Run the mutli-split suggestions\n",
    "        3) Calculate the total time\n",
    "        4) Write the results to the table\n",
    "        \"\"\"\n",
    "        whole_pass_time = time.time()\n",
    "        #1) Get the segment id from the key\n",
    "        segment_id = key[\"segment_id\"]\n",
    "        print(f\"\\n\\n----- Working on Neuron {segment_id}-------\")\n",
    "        \n",
    "        neuron_obj = (minnie.Decomposition & key).fetch1(\"decomposition\")\n",
    "        \n",
    "        limb_results = pru.multi_soma_split_suggestions(neuron_obj,plot_intermediates=False)\n",
    "        \n",
    "        #7) Pass stats and file location to insert\n",
    "        new_key = dict(key,\n",
    "                       split_results = limb_results,\n",
    "                       run_time=np.round(time.time() - whole_pass_time,4)\n",
    "                      )\n",
    "\n",
    "        self.insert1(new_key, allow_direct_insert=True, skip_duplicates=True)\n",
    "\n",
    "        print(f\"\\n\\n ------ Total time for Splitting {segment_id} = {time.time() - whole_pass_time} ------\")\n",
    "    "
   ]
  },
  {
   "cell_type": "markdown",
   "metadata": {},
   "source": [
    "# Running the Populate"
   ]
  },
  {
   "cell_type": "code",
   "execution_count": 10,
   "metadata": {},
   "outputs": [
    {
     "data": {
      "text/html": [
       "\n",
       "        \n",
       "        <style type=\"text/css\">\n",
       "            .Relation{\n",
       "                border-collapse:collapse;\n",
       "            }\n",
       "            .Relation th{\n",
       "                background: #A0A0A0; color: #ffffff; padding:4px; border:#f0e0e0 1px solid;\n",
       "                font-weight: normal; font-family: monospace; font-size: 100%;\n",
       "            }\n",
       "            .Relation td{\n",
       "                padding:4px; border:#f0e0e0 1px solid; font-size:100%;\n",
       "            }\n",
       "            .Relation tr:nth-child(odd){\n",
       "                background: #ffffff;\n",
       "            }\n",
       "            .Relation tr:nth-child(even){\n",
       "                background: #f3f1ff;\n",
       "            }\n",
       "            /* Tooltip container */\n",
       "            .djtooltip {\n",
       "            }\n",
       "            /* Tooltip text */\n",
       "            .djtooltip .djtooltiptext {\n",
       "                visibility: hidden;\n",
       "                width: 120px;\n",
       "                background-color: black;\n",
       "                color: #fff;\n",
       "                text-align: center;\n",
       "                padding: 5px 0;\n",
       "                border-radius: 6px;\n",
       "                /* Position the tooltip text - see examples below! */\n",
       "                position: absolute;\n",
       "                z-index: 1;\n",
       "            }\n",
       "            #primary {\n",
       "                font-weight: bold;\n",
       "                color: black;\n",
       "            }\n",
       "\n",
       "            #nonprimary {\n",
       "                font-weight: normal;\n",
       "                color: white;\n",
       "            }\n",
       "\n",
       "            /* Show the tooltip text when you mouse over the tooltip container */\n",
       "            .djtooltip:hover .djtooltiptext {\n",
       "                visibility: visible;\n",
       "            }\n",
       "        </style>\n",
       "        \n",
       "        <b>job reservation table for `microns_minnie65_02`</b>\n",
       "            <div style=\"max-height:1000px;max-width:1500px;overflow:auto;\">\n",
       "            <table border=\"1\" class=\"Relation\">\n",
       "                <thead> <tr style=\"text-align: right;\"> <th> <div class=\"djtooltip\">\n",
       "                                <p id=\"primary\">table_name</p>\n",
       "                                <span class=\"djtooltiptext\">className of the table</span>\n",
       "                            </div></th><th><div class=\"djtooltip\">\n",
       "                                <p id=\"primary\">key_hash</p>\n",
       "                                <span class=\"djtooltiptext\">key hash</span>\n",
       "                            </div></th><th><div class=\"djtooltip\">\n",
       "                                <p id=\"nonprimary\">status</p>\n",
       "                                <span class=\"djtooltiptext\">if tuple is missing, the job is available</span>\n",
       "                            </div></th><th><div class=\"djtooltip\">\n",
       "                                <p id=\"nonprimary\">key</p>\n",
       "                                <span class=\"djtooltiptext\">structure containing the key</span>\n",
       "                            </div></th><th><div class=\"djtooltip\">\n",
       "                                <p id=\"nonprimary\">error_message</p>\n",
       "                                <span class=\"djtooltiptext\">error message returned if failed</span>\n",
       "                            </div></th><th><div class=\"djtooltip\">\n",
       "                                <p id=\"nonprimary\">error_stack</p>\n",
       "                                <span class=\"djtooltiptext\">error stack if failed</span>\n",
       "                            </div></th><th><div class=\"djtooltip\">\n",
       "                                <p id=\"nonprimary\">user</p>\n",
       "                                <span class=\"djtooltiptext\">database user</span>\n",
       "                            </div></th><th><div class=\"djtooltip\">\n",
       "                                <p id=\"nonprimary\">host</p>\n",
       "                                <span class=\"djtooltiptext\">system hostname</span>\n",
       "                            </div></th><th><div class=\"djtooltip\">\n",
       "                                <p id=\"nonprimary\">pid</p>\n",
       "                                <span class=\"djtooltiptext\">system process id</span>\n",
       "                            </div></th><th><div class=\"djtooltip\">\n",
       "                                <p id=\"nonprimary\">connection_id</p>\n",
       "                                <span class=\"djtooltiptext\">connection_id()</span>\n",
       "                            </div></th><th><div class=\"djtooltip\">\n",
       "                                <p id=\"nonprimary\">timestamp</p>\n",
       "                                <span class=\"djtooltiptext\">automatic timestamp</span>\n",
       "                            </div> </th> </tr> </thead>\n",
       "                <tbody> <tr> <td>__neuron_split_suggestions</td>\n",
       "<td>5c14dfc89c7bc3140ae04da3e3669d52</td>\n",
       "<td>reserved</td>\n",
       "<td>=BLOB=</td>\n",
       "<td></td>\n",
       "<td>=BLOB=</td>\n",
       "<td>celiib@10.21.18.111</td>\n",
       "<td>71caefafdeec</td>\n",
       "<td>17876</td>\n",
       "<td>66167</td>\n",
       "<td>2021-01-22 13:09:01</td> </tr> </tbody>\n",
       "            </table>\n",
       "            \n",
       "            <p>Total: 1</p></div>\n",
       "            "
      ],
      "text/plain": [
       "*table_name    *key_hash      status       key        error_message  error_stac user           host           pid       connection_id  timestamp     \n",
       "+------------+ +------------+ +----------+ +--------+ +------------+ +--------+ +------------+ +------------+ +-------+ +------------+ +------------+\n",
       "__neuron_split 5c14dfc89c7bc3 reserved     =BLOB=                    =BLOB=     celiib@10.21.1 71caefafdeec   17876     66167          2021-01-22 13:\n",
       " (Total: 1)"
      ]
     },
     "execution_count": 10,
     "metadata": {},
     "output_type": "execute_result"
    }
   ],
   "source": [
    "curr_table = (minnie.schema.jobs & \"table_name='__neuron_split_suggestions'\")\n",
    "(curr_table)#.delete()# & \"status='error'\")\n",
    "#curr_table.delete()\n",
    "#(curr_table & \"error_message = 'ValueError: need at least one array to concatenate'\").delete()"
   ]
  },
  {
   "cell_type": "code",
   "execution_count": 11,
   "metadata": {},
   "outputs": [
    {
     "name": "stderr",
     "output_type": "stream",
     "text": [
      "INFO - 2021-01-22 19:09:11,075 - autopopulate - Found 165 keys to populate\n",
      "INFO - 2021-01-22 19:09:11,083 - connection - Transaction started\n",
      "INFO - 2021-01-22 19:09:11,085 - autopopulate - Populating: {'segment_id': 864691136293271959, 'decimation_version': 0, 'decimation_ratio': Decimal('0.25'), 'ver': Decimal('30.00'), 'process_version': 3, 'index': 0}\n"
     ]
    },
    {
     "name": "stdout",
     "output_type": "stream",
     "text": [
      "Populate Started\n",
      "\n",
      "\n",
      "----- Working on Neuron 864691136293271959-------\n",
      "Decompressing Neuron in minimal output mode...please wait\n",
      "multi_soma_limbs = []\n",
      "multi_touch_limbs = []\n",
      "\n",
      "\n",
      " ------ Total time for Splitting 864691136293271959 = 25.776312828063965 ------\n",
      "\n",
      "\n",
      "----- Working on Neuron 864691136296658203-------\n",
      "Decompressing Neuron in minimal output mode...please wait\n",
      "multi_soma_limbs = []\n",
      "multi_touch_limbs = []\n",
      "\n",
      "\n",
      " ------ Total time for Splitting 864691136296658203 = 19.763572692871094 ------\n",
      "\n",
      "\n",
      "----- Working on Neuron 864691136289538957-------\n",
      "Decompressing Neuron in minimal output mode...please wait\n",
      "multi_soma_limbs = []\n",
      "multi_touch_limbs = []\n",
      "\n",
      "\n",
      " ------ Total time for Splitting 864691136289538957 = 22.975101947784424 ------\n",
      "\n",
      "\n",
      "----- Working on Neuron 864691135256136111-------\n",
      "Decompressing Neuron in minimal output mode...please wait\n",
      "multi_soma_limbs = []\n",
      "multi_touch_limbs = []\n",
      "\n",
      "\n",
      " ------ Total time for Splitting 864691135256136111 = 24.58149003982544 ------\n",
      "\n",
      "\n",
      "----- Working on Neuron 864691135212718464-------\n",
      "Decompressing Neuron in minimal output mode...please wait\n",
      "multi_soma_limbs = []\n",
      "multi_touch_limbs = []\n",
      "\n",
      "\n",
      " ------ Total time for Splitting 864691135212718464 = 38.47539925575256 ------\n",
      "\n",
      "\n",
      "----- Working on Neuron 864691135576933381-------\n",
      "Decompressing Neuron in minimal output mode...please wait\n",
      "multi_soma_limbs = []\n",
      "multi_touch_limbs = []\n",
      "\n",
      "\n",
      " ------ Total time for Splitting 864691135576933381 = 79.23799920082092 ------\n",
      "\n",
      "\n",
      "----- Working on Neuron 864691135490222951-------\n",
      "Decompressing Neuron in minimal output mode...please wait\n",
      "multi_soma_limbs = []\n",
      "multi_touch_limbs = []\n",
      "\n",
      "\n",
      " ------ Total time for Splitting 864691135490222951 = 10.466095447540283 ------\n",
      "\n",
      "\n",
      "----- Working on Neuron 864691135491024068-------\n",
      "Decompressing Neuron in minimal output mode...please wait\n",
      "multi_soma_limbs = []\n",
      "multi_touch_limbs = []\n",
      "\n",
      "\n",
      " ------ Total time for Splitting 864691135491024068 = 19.59356117248535 ------\n",
      "\n",
      "\n",
      "----- Working on Neuron 864691135394012149-------\n",
      "Decompressing Neuron in minimal output mode...please wait\n",
      "multi_soma_limbs = []\n",
      "multi_touch_limbs = []\n",
      "\n",
      "\n",
      " ------ Total time for Splitting 864691135394012149 = 28.856935262680054 ------\n",
      "\n",
      "\n",
      "----- Working on Neuron 864691135415446202-------\n",
      "Decompressing Neuron in minimal output mode...please wait\n",
      "multi_soma_limbs = []\n",
      "multi_touch_limbs = []\n",
      "\n",
      "\n",
      " ------ Total time for Splitting 864691135415446202 = 15.551483631134033 ------\n",
      "\n",
      "\n",
      "----- Working on Neuron 864691135440499016-------\n",
      "Decompressing Neuron in minimal output mode...please wait\n",
      "multi_soma_limbs = []\n",
      "multi_touch_limbs = []\n",
      "\n",
      "\n",
      " ------ Total time for Splitting 864691135440499016 = 15.490806818008423 ------\n",
      "\n",
      "\n",
      "----- Working on Neuron 864691135354903503-------\n",
      "Decompressing Neuron in minimal output mode...please wait\n",
      "multi_soma_limbs = []\n",
      "multi_touch_limbs = []\n",
      "\n",
      "\n",
      " ------ Total time for Splitting 864691135354903503 = 71.8877363204956 ------\n",
      "\n",
      "\n",
      "----- Working on Neuron 864691134884747002-------\n",
      "Decompressing Neuron in minimal output mode...please wait\n",
      "multi_soma_limbs = []\n",
      "multi_touch_limbs = []\n",
      "\n",
      "\n",
      " ------ Total time for Splitting 864691134884747002 = 21.671679973602295 ------\n",
      "\n",
      "\n",
      "----- Working on Neuron 864691135461969906-------\n",
      "Decompressing Neuron in minimal output mode...please wait\n",
      "multi_soma_limbs = []\n",
      "multi_touch_limbs = []\n",
      "\n",
      "\n",
      " ------ Total time for Splitting 864691135461969906 = 23.339253425598145 ------\n",
      "\n",
      "\n",
      "----- Working on Neuron 864691135873618318-------\n",
      "Decompressing Neuron in minimal output mode...please wait\n",
      "multi_soma_limbs = []\n",
      "multi_touch_limbs = []\n",
      "\n",
      "\n",
      " ------ Total time for Splitting 864691135873618318 = 29.204996824264526 ------\n",
      "\n",
      "\n",
      "----- Working on Neuron 864691135558613700-------\n",
      "Decompressing Neuron in minimal output mode...please wait\n",
      "multi_soma_limbs = []\n",
      "multi_touch_limbs = []\n",
      "\n",
      "\n",
      " ------ Total time for Splitting 864691135558613700 = 30.992889165878296 ------\n",
      "\n",
      "\n",
      "----- Working on Neuron 864691135373702729-------\n",
      "Decompressing Neuron in minimal output mode...please wait\n",
      "multi_soma_limbs = []\n",
      "multi_touch_limbs = [1]\n",
      "\n",
      "\n",
      " -------- Working on limb 1------------\n",
      "Starting combinations to process = [[11 16]]\n",
      "\n",
      "\n",
      "---- working on disconnecting 11 and 16\n",
      "---- This disconnects S0_1 from S0_0  \n",
      " Cut iteration 0\n",
      "Total number of graphs at the end of the split BEFORE DIRECTIONAL = 1\n",
      "Total number of graphs at the end of the split AFTER DIRECTIONAL = 1\n",
      "Shortest path = [11, 9, 10, 13, 16]\n",
      "\n",
      " --------- START OF GET BEST EDGE --------- \n",
      "curr_limb.deleted_edges=[]\n",
      "consider_path_neighbors_for_removal is set so segments_to_consider = [ 6  8  9 10 13 14 15]\n",
      "Short segments to combine = [8]\n",
      "\n",
      "\n",
      "-------- Removing Segments -------------\n",
      "curr_short_seg_revised = 8\n",
      "np.sum(touch_len>0) = 2\n",
      "Using average stitch point\n",
      "touching_endpoints = [[ 825359.  606857. 1055630.]\n",
      " [ 825657.  606654. 1056110.]]\n",
      "new_stitch_point = [ 825508.   606755.5 1055870. ]\n",
      "Angles for [ 4  5 10  9] are [40.53, 20.17, 29.58, 16.41]\n",
      "Branch that will absorb mesh of 8 is 9 \n",
      "curr_limb.deleted_edges 2=[]\n",
      "curr_limb.deleted_edges 3=[]\n",
      "Revised cut path = [11  9 10 13 16]\n",
      "\n",
      "-------- Done Removing Segments -------------\n",
      "\n",
      "\n",
      "Found 1 high degree coordinates to cut\n",
      "Picking [ 825508.   606755.5 1055870. ] high degree coordinates to cut\n",
      "curr_limb.deleted_edges 4=[]\n",
      "***inside resolve crossover!!!!****\n",
      "coordinate_branches = [4, 5, 9, 10]\n",
      "4 = red\n",
      "5 = aqua\n",
      "9 = purple\n",
      "10 = green\n",
      "Angle between 4 and 5 = 123.75 \n",
      "Angle between 4 and 9 = 19.97 \n",
      "Angle between 4 and 10 = 71.79 \n",
      "Angle between 5 and 9 = 37.03 \n",
      "Angle between 5 and 10 = 25.64 \n",
      "Angle between 9 and 10 = 127.86 \n",
      "Final Matches = [[4, 9], [5, 10]]\n",
      "matched_branches_revised = [[4, 9], [5, 10]]\n",
      "Original graph\n"
     ]
    },
    {
     "data": {
      "image/png": "[encoded data removed]",
      "text/plain": [
       "<Figure size 432x288 with 1 Axes>"
      ]
     },
     "metadata": {},
     "output_type": "display_data"
    },
    {
     "name": "stdout",
     "output_type": "stream",
     "text": [
      "match_branches = [[4, 9], [5, 10]]\n",
      "edges_to_delete (resolve crossover) = [[4, 5], [4, 10], [5, 9], [9, 10]]\n",
      "edges_to_create (resolve crossover) = [[4, 9], [5, 10]]\n",
      "curr_limb.deleted_edges 5 =[]\n",
      "NOT USING the resolve crossover delete edges because not help resolve the cut\n",
      "skip_nodes = []\n",
      "\n",
      "Attempting the doubling back check (symmetrical so don't need to check from both sides)\n"
     ]
    },
    {
     "data": {
      "application/vnd.jupyter.widget-view+json": {
       "model_id": "e7346b4a4fc54a32a20872f860a582be",
       "version_major": 2,
       "version_minor": 0
      },
      "text/plain": [
       "HBox(children=(FloatProgress(value=0.0, max=4.0), HTML(value='')))"
      ]
     },
     "metadata": {},
     "output_type": "display_data"
    },
    {
     "name": "stdout",
     "output_type": "stream",
     "text": [
      "  Edge: [11  9]: curr_angle = 23.87\n",
      "  Edge: [ 9 10]: curr_angle = 130.86\n",
      "  Edge: [10 13]: curr_angle = 0.78\n",
      "  Edge: [13 16]: curr_angle = 20.88\n",
      "\n",
      "Total time for doubling_back = 0.14618158340454102\n",
      "There were 1 edges that passed doubling back threshold of 80\n",
      "Winning edge [ 9 10] had a doubling back of 130.85689683743755\n",
      "***inside resolve crossover!!!!****\n",
      "coordinate_branches = [4, 5, 9, 10]\n",
      "4 = red\n",
      "5 = aqua\n",
      "9 = purple\n",
      "10 = green\n",
      "Angle between 4 and 5 = 125.91 \n",
      "Angle between 4 and 9 = 27.66 \n",
      "Angle between 4 and 10 = 60.0 \n",
      "Angle between 5 and 9 = 30.13 \n",
      "Angle between 5 and 10 = 18.94 \n",
      "Angle between 9 and 10 = 136.75 \n",
      "Final Matches = [[4, 9], [5, 9], [5, 10]]\n",
      "matched_branches_revised = [[5, 10], [4, 9]]\n",
      "Original graph\n"
     ]
    },
    {
     "data": {
      "image/png": "[encoded data removed]",
      "text/plain": [
       "<Figure size 432x288 with 1 Axes>"
      ]
     },
     "metadata": {},
     "output_type": "display_data"
    },
    {
     "name": "stdout",
     "output_type": "stream",
     "text": [
      "match_branches = [[5, 10], [4, 9]]\n",
      "edges_to_delete (resolve crossover) = [[4, 5], [4, 10], [5, 9], [9, 10]]\n",
      "edges_to_create (resolve crossover) = [[5, 10], [4, 9]]\n",
      "edges_to_delete (cut_limb_network) = [array([4, 5]), array([ 4, 10]), array([5, 9]), array([ 9, 10])]\n",
      "edges_to_create = [[5, 10], [4, 9]]\n",
      "Number of connected components = 3\n",
      "Comp 0 = {0, 1, 5, 7, 10, 12, 13, 14, 15, 16, 17, 18}\n",
      "Comp 1 = {2, 3, 4, 6, 9, 11}\n",
      "Comp 2 = {8}\n",
      "curr_limb_copy.deleted_edges = [array([4, 5]), array([ 4, 10]), array([5, 9]), array([ 9, 10])]\n",
      "curr_limb_copy.created_edges = [[5, 10], [4, 9]]\n",
      "After get best cut: cut_edges = [array([4, 5]), array([ 4, 10]), array([5, 9]), array([ 9, 10])], added_edges = [[5, 10], [4, 9]]\n",
      "total_soma_paths_to_cut = []\n",
      "\n",
      "\n",
      "suggested_cut_points = [[ 825508.   606755.5 1055870. ]]\n",
      "\n",
      "\n"
     ]
    },
    {
     "data": {
      "application/vnd.jupyter.widget-view+json": {
       "model_id": "1639ef0e222649fe8878902a9ca4fdb0",
       "version_major": 2,
       "version_minor": 0
      },
      "text/plain": [
       "VBox(children=(Figure(camera=PerspectiveCamera(fov=46.0, position=(0.0, 0.0, 2.0), quaternion=(0.0, 0.0, 0.0, …"
      ]
     },
     "metadata": {},
     "output_type": "display_data"
    },
    {
     "name": "stdout",
     "output_type": "stream",
     "text": [
      "-----------counter = 0------------\n",
      " Cut iteration 1\n",
      "Total number of graphs at the end of the split BEFORE DIRECTIONAL = 3\n",
      "Total number of graphs at the end of the split AFTER DIRECTIONAL = 3\n",
      "No valid path so moving onto the next connection\n",
      "Total number of graphs at the end of the split = 3: [array([ 0,  1,  5,  7, 10, 12, 13, 14, 15, 16, 17, 18]), array([ 2,  3,  4,  6,  9, 11]), array([8])]\n",
      "\n",
      "\n",
      " ------ Total time for Splitting 864691135373702729 = 45.48052215576172 ------\n",
      "\n",
      "\n",
      "----- Working on Neuron 864691135968888677-------\n",
      "Decompressing Neuron in minimal output mode...please wait\n",
      "multi_soma_limbs = []\n",
      "multi_touch_limbs = []\n",
      "\n",
      "\n",
      " ------ Total time for Splitting 864691135968888677 = 26.041675806045532 ------\n",
      "\n",
      "\n",
      "----- Working on Neuron 864691135472013106-------\n",
      "Decompressing Neuron in minimal output mode...please wait\n",
      "multi_soma_limbs = []\n",
      "multi_touch_limbs = [1]\n",
      "\n",
      "\n",
      " -------- Working on limb 1------------\n",
      "Starting combinations to process = [[10 21]]\n",
      "\n",
      "\n",
      "---- working on disconnecting 10 and 21\n",
      "---- This disconnects S0_0 from S0_1  \n",
      " Cut iteration 0\n",
      "Total number of graphs at the end of the split BEFORE DIRECTIONAL = 1\n",
      "Total number of graphs at the end of the split AFTER DIRECTIONAL = 1\n",
      "Shortest path = [10, 12, 20, 19, 23, 18, 31, 44, 52, 53, 38, 34, 21]\n",
      "\n",
      " --------- START OF GET BEST EDGE --------- \n",
      "curr_limb.deleted_edges=[]\n",
      "consider_path_neighbors_for_removal is set so segments_to_consider = [ 1  7 12 14 16 18 19 20 22 23 25 26 28 30 31 33 34 37 38 43 44 45 52 53\n",
      " 54 55]\n",
      "Short segments to combine = [26 52 55]\n",
      "\n",
      "\n",
      "-------- Removing Segments -------------\n",
      "curr_short_seg_revised = 26\n",
      "np.sum(touch_len>0) = 2\n",
      "Using average stitch point\n",
      "touching_endpoints = [[ 847467.98209225  832515.52006956 1054106.13366343]\n",
      " [ 848130.48578305  832750.1397911  1054553.73719862]]\n",
      "new_stitch_point = [ 847799.23393765  832632.82993033 1054329.93543103]\n",
      "Angles for [ 9 24 18 28 30 31] are [69.67, 127.95, 96.51, 85.86, 35.46, 37.33]\n",
      "Branch that will absorb mesh of 26 is 30 \n",
      "curr_short_seg_revised = 52\n",
      "np.sum(touch_len>0) = 2\n",
      "Using average stitch point\n",
      "touching_endpoints = [[ 900509.99099201  830415.42619076 1055124.2066827 ]\n",
      " [ 900922.30586671  830239.26386206 1056418.18694989]]\n",
      "new_stitch_point = [ 900716.14842936  830327.34502641 1055771.1968163 ]\n",
      "Angles for [45 53 44 54] are [67.56, 98.78, 89.43, 78.79]\n",
      "Branch that will absorb mesh of 52 is 45 \n",
      "curr_short_seg_revised = 55\n",
      "np.sum(touch_len>0) = 2\n",
      "Using average stitch point\n",
      "touching_endpoints = [[ 903933.09407861  830643.83136002 1054489.27238895]\n",
      " [ 905066.67969055  830788.03877515 1054239.59624585]]\n",
      "new_stitch_point = [ 904499.88688458  830715.93506759 1054364.4343174 ]\n",
      "Angles for [53 38 51 56] are [11.24, 42.5, 94.53, 27.67]\n",
      "Branch that will absorb mesh of 55 is 53 \n",
      "curr_limb.deleted_edges 2=[]\n",
      "curr_limb.deleted_edges 3=[]\n",
      "Revised cut path = [10 12 20 19 23 18 31 44 53 38 34 21]\n",
      "\n",
      "-------- Done Removing Segments -------------\n",
      "\n",
      "\n",
      "Found 4 high degree coordinates to cut\n",
      "Picking [ 842622.17334871  854493.23156284 1029678.37653602] high degree coordinates to cut\n",
      "curr_limb.deleted_edges 4=[]\n",
      "***inside resolve crossover!!!!****\n",
      "coordinate_branches = [7, 10, 12, 14]\n",
      "7 = red\n",
      "10 = aqua\n",
      "12 = purple\n",
      "14 = green\n",
      "Angle between 7 and 10 = 149.74 \n",
      "Angle between 7 and 12 = 77.98 \n",
      "Angle between 7 and 14 = 24.75 \n",
      "Angle between 10 and 12 = 47.78 \n",
      "Angle between 10 and 14 = 21.51 \n",
      "Angle between 12 and 14 = 119.28 \n",
      "Final Matches = [[7, 14], [10, 14]]\n",
      "matched_branches_revised = [[10, 14]]\n",
      "Original graph\n"
     ]
    },
    {
     "data": {
      "image/png": "[encoded data removed]",
      "text/plain": [
       "<Figure size 432x288 with 1 Axes>"
      ]
     },
     "metadata": {},
     "output_type": "display_data"
    },
    {
     "name": "stdout",
     "output_type": "stream",
     "text": [
      "match_branches = [[10, 14]]\n",
      "edges_to_delete (resolve crossover) = [[7, 10], [7, 12], [7, 14], [10, 12], [12, 14]]\n",
      "edges_to_create (resolve crossover) = [[10, 14]]\n",
      "curr_limb.deleted_edges 5 =[]\n",
      "NOT USING the resolve crossover delete edges because not help resolve the cut\n",
      "Picking [ 847799.23393765  832632.82993033 1054329.93543103] high degree coordinates to cut\n",
      "curr_limb.deleted_edges 4=[]\n",
      "***inside resolve crossover!!!!****\n",
      "coordinate_branches = [9, 18, 24, 28, 30, 31]\n",
      "9 = red\n",
      "18 = aqua\n",
      "24 = purple\n",
      "28 = green\n",
      "Angle between 9 and 18 = 75.27 \n",
      "Angle between 9 and 24 = 64.16 \n",
      "Angle between 9 and 28 = 117.99 \n",
      "Angle between 9 and 30 = 53.72 \n",
      "Angle between 9 and 31 = 79.09 \n",
      "Angle between 18 and 24 = 43.3 \n",
      "Angle between 18 and 28 = 15.57 \n",
      "Angle between 18 and 30 = 118.44 \n",
      "Angle between 18 and 31 = 47.03 \n",
      "Angle between 24 and 28 = 125.78 \n",
      "Angle between 24 and 30 = 98.18 \n",
      "Angle between 24 and 31 = 152.64 \n",
      "Angle between 28 and 30 = 61.78 \n",
      "Angle between 28 and 31 = 130.88 \n",
      "Angle between 30 and 31 = 108.54 \n",
      "Final Matches = [[18, 28]]\n",
      "matched_branches_revised = [[18, 28]]\n",
      "Original graph\n"
     ]
    },
    {
     "data": {
      "image/png": "[encoded data removed]",
      "text/plain": [
       "<Figure size 432x288 with 1 Axes>"
      ]
     },
     "metadata": {},
     "output_type": "display_data"
    },
    {
     "name": "stdout",
     "output_type": "stream",
     "text": [
      "match_branches = [[18, 28]]\n",
      "edges_to_delete (resolve crossover) = [[9, 18], [9, 24], [9, 28], [9, 30], [9, 31], [18, 24], [18, 30], [18, 31], [24, 28], [24, 30], [24, 31], [28, 30], [28, 31], [30, 31]]\n",
      "edges_to_create (resolve crossover) = [[18, 28]]\n",
      "curr_limb.deleted_edges 5 =[]\n",
      "NOT USING the resolve crossover delete edges because not help resolve the cut\n",
      "Picking [ 900716.14842936  830327.34502641 1055771.1968163 ] high degree coordinates to cut\n",
      "curr_limb.deleted_edges 4=[]\n",
      "***inside resolve crossover!!!!****\n",
      "coordinate_branches = [44, 45, 53, 54]\n",
      "44 = red\n",
      "45 = aqua\n",
      "53 = purple\n",
      "54 = green\n",
      "Angle between 44 and 45 = 140.82 \n",
      "Angle between 44 and 53 = 16.77 \n",
      "Angle between 44 and 54 = 27.81 \n",
      "Angle between 45 and 53 = 39.02 \n",
      "Angle between 45 and 54 = 47.55 \n",
      "Angle between 53 and 54 = 167.96 \n",
      "Final Matches = [[44, 53], [44, 54]]\n",
      "matched_branches_revised = [[44, 53]]\n",
      "Original graph\n"
     ]
    },
    {
     "data": {
      "image/png": "[encoded data removed]",
      "text/plain": [
       "<Figure size 432x288 with 1 Axes>"
      ]
     },
     "metadata": {},
     "output_type": "display_data"
    },
    {
     "name": "stdout",
     "output_type": "stream",
     "text": [
      "match_branches = [[44, 53]]\n",
      "edges_to_delete (resolve crossover) = [[44, 45], [44, 54], [45, 53], [45, 54], [53, 54]]\n",
      "edges_to_create (resolve crossover) = [[44, 53]]\n",
      "curr_limb.deleted_edges 5 =[]\n",
      "NOT USING the resolve crossover delete edges because not help resolve the cut\n",
      "Picking [ 904499.88688458  830715.93506759 1054364.4343174 ] high degree coordinates to cut\n",
      "curr_limb.deleted_edges 4=[]\n",
      "***inside resolve crossover!!!!****\n",
      "coordinate_branches = [38, 51, 53, 56]\n",
      "38 = red\n",
      "51 = aqua\n",
      "53 = purple\n",
      "56 = green\n",
      "Angle between 38 and 51 = 86.9 \n",
      "Angle between 38 and 53 = 149.39 \n",
      "Angle between 38 and 56 = 30.71 \n",
      "Angle between 51 and 53 = 83.75 \n",
      "Angle between 51 and 56 = 76.2 \n",
      "Angle between 53 and 56 = 20.58 \n",
      "Final Matches = [[38, 56], [53, 56]]\n",
      "matched_branches_revised = [[53, 56]]\n",
      "Original graph\n"
     ]
    },
    {
     "data": {
      "image/png": "[encoded data removed]",
      "text/plain": [
       "<Figure size 432x288 with 1 Axes>"
      ]
     },
     "metadata": {},
     "output_type": "display_data"
    },
    {
     "name": "stdout",
     "output_type": "stream",
     "text": [
      "match_branches = [[53, 56]]\n",
      "edges_to_delete (resolve crossover) = [[38, 51], [38, 53], [38, 56], [51, 53], [51, 56]]\n",
      "edges_to_create (resolve crossover) = [[53, 56]]\n",
      "curr_limb.deleted_edges 5 =[]\n",
      "NOT USING the resolve crossover delete edges because not help resolve the cut\n",
      "skip_nodes = []\n",
      "\n",
      "Attempting the doubling back check (symmetrical so don't need to check from both sides)\n"
     ]
    },
    {
     "data": {
      "application/vnd.jupyter.widget-view+json": {
       "model_id": "560c5867369b4682ba1e92a5aa482f90",
       "version_major": 2,
       "version_minor": 0
      },
      "text/plain": [
       "HBox(children=(FloatProgress(value=0.0, max=11.0), HTML(value='')))"
      ]
     },
     "metadata": {},
     "output_type": "display_data"
    },
    {
     "name": "stdout",
     "output_type": "stream",
     "text": [
      "  Edge: [10 12]: curr_angle = 38.52\n",
      "  Edge: [12 20]: curr_angle = 35.92\n",
      "  Edge: [20 19]: curr_angle = 101.63\n",
      "  Edge: [19 23]: curr_angle = 100.13\n",
      "  Edge: [23 18]: curr_angle = 23.59\n",
      "  Edge: [18 31]: curr_angle = 47.16\n",
      "  Edge: [31 44]: curr_angle = 19.43\n",
      "  Edge: [44 53]: curr_angle = 22.15\n",
      "  Edge: [53 38]: curr_angle = 167.0\n",
      "  Edge: [38 34]: curr_angle = 12.45\n",
      "  Edge: [34 21]: curr_angle = 12.77\n",
      "\n",
      "Total time for doubling_back = 1.055863618850708\n",
      "There were 3 edges that passed doubling back threshold of 80\n",
      "Winning edge [53 38] had a doubling back of 167.0040129698349\n",
      "***inside resolve crossover!!!!****\n",
      "coordinate_branches = [38, 51, 53, 56]\n",
      "38 = red\n",
      "51 = aqua\n",
      "53 = purple\n",
      "56 = green\n",
      "Angle between 38 and 51 = 95.24 \n",
      "Angle between 38 and 53 = 126.58 \n",
      "Angle between 38 and 56 = 38.1 \n",
      "Angle between 51 and 53 = 91.92 \n",
      "Angle between 51 and 56 = 75.71 \n",
      "Angle between 53 and 56 = 19.93 \n",
      "Final Matches = [[53, 56]]\n",
      "matched_branches_revised = [[53, 56]]\n",
      "Original graph\n"
     ]
    },
    {
     "data": {
      "image/png": "[encoded data removed]",
      "text/plain": [
       "<Figure size 432x288 with 1 Axes>"
      ]
     },
     "metadata": {},
     "output_type": "display_data"
    },
    {
     "name": "stdout",
     "output_type": "stream",
     "text": [
      "match_branches = [[53, 56]]\n",
      "edges_to_delete (resolve crossover) = [[38, 51], [38, 53], [38, 56], [51, 53], [51, 56]]\n",
      "edges_to_create (resolve crossover) = [[53, 56]]\n",
      "edges_to_delete (cut_limb_network) = [array([38, 51]), array([38, 53]), array([38, 56]), array([51, 53]), array([51, 56])]\n",
      "edges_to_create = [[53, 56]]\n",
      "Number of connected components = 6\n",
      "Comp 0 = {0, 1, 2, 4, 5, 6, 7, 8, 9, 10, 11, 12, 13, 14, 15, 16, 17, 18, 19, 20, 22, 23, 24, 25, 27, 28, 29, 30, 31, 32, 35, 39, 40, 41, 42, 43, 44, 45, 46, 47, 48, 49, 50, 53, 54, 56, 57, 58, 59, 60, 61, 62, 63, 64, 65, 66, 67}\n",
      "Comp 1 = {33, 34, 3, 36, 37, 38, 21}\n",
      "Comp 2 = {51}\n",
      "Comp 3 = {26}\n",
      "Comp 4 = {52}\n",
      "Comp 5 = {55}\n",
      "curr_limb_copy.deleted_edges = [array([38, 51]), array([38, 53]), array([38, 56]), array([51, 53]), array([51, 56])]\n",
      "curr_limb_copy.created_edges = [[53, 56]]\n",
      "After get best cut: cut_edges = [array([38, 51]), array([38, 53]), array([38, 56]), array([51, 53]), array([51, 56])], added_edges = [[53, 56]]\n",
      "total_soma_paths_to_cut = []\n",
      "\n",
      "\n",
      "suggested_cut_points = [[ 904499.88688458  830715.93506759 1054364.4343174 ]]\n",
      "\n",
      "\n"
     ]
    },
    {
     "data": {
      "application/vnd.jupyter.widget-view+json": {
       "model_id": "e534a813372846eab17a2abf84286e22",
       "version_major": 2,
       "version_minor": 0
      },
      "text/plain": [
       "VBox(children=(Figure(camera=PerspectiveCamera(fov=46.0, position=(0.0, 0.0, 2.0), quaternion=(0.0, 0.0, 0.0, …"
      ]
     },
     "metadata": {},
     "output_type": "display_data"
    },
    {
     "name": "stdout",
     "output_type": "stream",
     "text": [
      "-----------counter = 0------------\n",
      " Cut iteration 1\n",
      "Total number of graphs at the end of the split BEFORE DIRECTIONAL = 6\n",
      "Total number of graphs at the end of the split AFTER DIRECTIONAL = 6\n",
      "No valid path so moving onto the next connection\n",
      "Total number of graphs at the end of the split = 6: [array([ 0,  1,  2,  4,  5,  6,  7,  8,  9, 10, 11, 12, 13, 14, 15, 16, 17,\n",
      "       18, 19, 20, 22, 23, 24, 25, 27, 28, 29, 30, 31, 32, 35, 39, 40, 41,\n",
      "       42, 43, 44, 45, 46, 47, 48, 49, 50, 53, 54, 56, 57, 58, 59, 60, 61,\n",
      "       62, 63, 64, 65, 66, 67]), array([33, 34,  3, 36, 37, 38, 21]), array([51]), array([26]), array([52]), array([55])]\n",
      "\n",
      "\n",
      " ------ Total time for Splitting 864691135472013106 = 66.93638634681702 ------\n",
      "\n",
      "\n",
      "----- Working on Neuron 864691135355527666-------\n",
      "Decompressing Neuron in minimal output mode...please wait\n",
      "multi_soma_limbs = []\n",
      "multi_touch_limbs = []\n",
      "\n",
      "\n",
      " ------ Total time for Splitting 864691135355527666 = 13.846132040023804 ------\n",
      "\n",
      "\n",
      "----- Working on Neuron 864691134953427191-------\n",
      "Decompressing Neuron in minimal output mode...please wait\n",
      "multi_soma_limbs = []\n",
      "multi_touch_limbs = []\n",
      "\n",
      "\n",
      " ------ Total time for Splitting 864691134953427191 = 1.182537317276001 ------\n",
      "\n",
      "\n",
      "----- Working on Neuron 864691135609423623-------\n",
      "Decompressing Neuron in minimal output mode...please wait\n",
      "multi_soma_limbs = []\n",
      "multi_touch_limbs = [0]\n",
      "\n",
      "\n",
      " -------- Working on limb 0------------\n",
      "Starting combinations to process = [[103 109]\n",
      " [103 119]\n",
      " [109 119]]\n",
      "\n",
      "\n",
      "---- working on disconnecting 103 and 109\n",
      "---- This disconnects S0_0 from S0_1  \n",
      " Cut iteration 0\n",
      "Total number of graphs at the end of the split BEFORE DIRECTIONAL = 1\n",
      "Total number of graphs at the end of the split AFTER DIRECTIONAL = 1\n",
      "Shortest path = [103, 72, 64, 65, 75, 109]\n",
      "\n",
      " --------- START OF GET BEST EDGE --------- \n",
      "curr_limb.deleted_edges=[]\n",
      "consider_path_neighbors_for_removal is set so segments_to_consider = [ 22  47  54  59  64  65  72  75  76  78  93 100]\n",
      "Short segments to combine = []\n",
      "Found 3 high degree coordinates to cut\n",
      "Picking [ 809470.40772895 1048208.15000674  933171.90827963] high degree coordinates to cut\n",
      "curr_limb.deleted_edges 4=[]\n",
      "***inside resolve crossover!!!!****\n",
      "coordinate_branches = [22, 54, 64, 65]\n",
      "22 = red\n",
      "54 = aqua\n",
      "64 = purple\n",
      "65 = green\n",
      "Angle between 22 and 54 = 109.91 \n",
      "Angle between 22 and 64 = 11.25 \n",
      "Angle between 22 and 65 = 27.5 \n",
      "Angle between 54 and 64 = 80.7 \n",
      "Angle between 54 and 65 = 57.65 \n",
      "Angle between 64 and 65 = 142.99 \n",
      "Final Matches = [[22, 64], [22, 65]]\n",
      "matched_branches_revised = [[22, 64]]\n",
      "Original graph\n"
     ]
    },
    {
     "data": {
      "image/png": "[encoded data removed]",
      "text/plain": [
       "<Figure size 432x288 with 1 Axes>"
      ]
     },
     "metadata": {},
     "output_type": "display_data"
    },
    {
     "name": "stdout",
     "output_type": "stream",
     "text": [
      "match_branches = [[22, 64]]\n",
      "edges_to_delete (resolve crossover) = [[22, 54], [22, 65], [54, 64], [54, 65], [64, 65]]\n",
      "edges_to_create (resolve crossover) = [[22, 64]]\n",
      "curr_limb.deleted_edges 5 =[]\n",
      "NOT USING the resolve crossover delete edges because not help resolve the cut\n",
      "Picking [ 811720.6858155  1046966.70994977  933091.42345004] high degree coordinates to cut\n",
      "curr_limb.deleted_edges 4=[]\n",
      "***inside resolve crossover!!!!****\n",
      "coordinate_branches = [65, 75, 76, 78]\n",
      "65 = red\n",
      "75 = aqua\n",
      "76 = purple\n",
      "78 = green\n",
      "Angle between 65 and 75 = 36.55 \n",
      "Angle between 65 and 76 = 30.74 \n",
      "Angle between 65 and 78 = 91.37 \n",
      "Angle between 75 and 76 = 163.02 \n",
      "Angle between 75 and 78 = 80.79 \n",
      "Angle between 76 and 78 = 68.42 \n",
      "Final Matches = [[65, 76]]\n",
      "matched_branches_revised = [[65, 76]]\n",
      "Original graph\n"
     ]
    },
    {
     "data": {
      "image/png": "[encoded data removed]",
      "text/plain": [
       "<Figure size 432x288 with 1 Axes>"
      ]
     },
     "metadata": {},
     "output_type": "display_data"
    },
    {
     "name": "stdout",
     "output_type": "stream",
     "text": [
      "match_branches = [[65, 76]]\n",
      "edges_to_delete (resolve crossover) = [[65, 75], [65, 78], [75, 76], [75, 78], [76, 78]]\n",
      "edges_to_create (resolve crossover) = [[65, 76]]\n",
      "curr_limb.deleted_edges 5 =[]\n",
      "NOT USING the resolve crossover delete edges because not help resolve the cut\n",
      "Picking [ 818111.19729674 1046791.3966887   930795.2879548 ] high degree coordinates to cut\n",
      "curr_limb.deleted_edges 4=[]\n",
      "***inside resolve crossover!!!!****\n",
      "coordinate_branches = [59, 64, 72, 93]\n",
      "59 = red\n",
      "64 = aqua\n",
      "72 = purple\n",
      "93 = green\n",
      "Angle between 59 and 64 = 110.88 \n",
      "Angle between 59 and 72 = 163.55 \n",
      "Angle between 59 and 93 = 111.14 \n",
      "Angle between 64 and 72 = 110.08 \n",
      "Angle between 64 and 93 = 50.17 \n",
      "Angle between 72 and 93 = 117.95 \n",
      "Final Matches = []\n",
      "matched_branches_revised = []\n",
      "Original graph\n"
     ]
    },
    {
     "data": {
      "image/png": "[encoded data removed]",
      "text/plain": [
       "<Figure size 432x288 with 1 Axes>"
      ]
     },
     "metadata": {},
     "output_type": "display_data"
    },
    {
     "name": "stdout",
     "output_type": "stream",
     "text": [
      "match_branches = []\n",
      "edges_to_delete (resolve crossover) = [[59, 64], [59, 72], [59, 93], [64, 72], [64, 93], [72, 93]]\n",
      "edges_to_create (resolve crossover) = []\n",
      "curr_limb.deleted_edges 5 =[]\n",
      "NOT USING the resolve crossover delete edges because not help resolve the cut\n",
      "Skipping endnode 109 because skeletal distance was 987.0278814135548 and threshold was 2500\n",
      "skip_nodes = [109]\n",
      "\n",
      "Attempting the doubling back check (symmetrical so don't need to check from both sides)\n"
     ]
    },
    {
     "data": {
      "application/vnd.jupyter.widget-view+json": {
       "model_id": "b98aa012520842d79aaf3adcd1e4bb97",
       "version_major": 2,
       "version_minor": 0
      },
      "text/plain": [
       "HBox(children=(FloatProgress(value=0.0, max=4.0), HTML(value='')))"
      ]
     },
     "metadata": {},
     "output_type": "display_data"
    },
    {
     "name": "stdout",
     "output_type": "stream",
     "text": [
      "  Edge: [103  72]: curr_angle = 13.73\n",
      "  Edge: [72 64]: curr_angle = 100.08\n",
      "  Edge: [64 65]: curr_angle = 151.18\n",
      "  Edge: [65 75]: curr_angle = 169.28\n",
      "\n",
      "Total time for doubling_back = 0.1974492073059082\n",
      "There were 3 edges that passed doubling back threshold of 80\n",
      "Winning edge [65 75] had a doubling back of 169.2815670705806\n",
      "***inside resolve crossover!!!!****\n",
      "coordinate_branches = [65, 75, 76, 78]\n",
      "65 = red\n",
      "75 = aqua\n",
      "76 = purple\n",
      "78 = green\n",
      "Angle between 65 and 75 = 23.5 \n",
      "Angle between 65 and 76 = 27.33 \n",
      "Angle between 65 and 78 = 75.12 \n",
      "Angle between 75 and 76 = 159.29 \n",
      "Angle between 75 and 78 = 89.92 \n",
      "Angle between 76 and 78 = 77.59 \n",
      "Final Matches = [[65, 75], [65, 76]]\n",
      "matched_branches_revised = [[65, 75]]\n",
      "Original graph\n"
     ]
    },
    {
     "data": {
      "image/png": "[encoded data removed]",
      "text/plain": [
       "<Figure size 432x288 with 1 Axes>"
      ]
     },
     "metadata": {},
     "output_type": "display_data"
    },
    {
     "name": "stdout",
     "output_type": "stream",
     "text": [
      "match_branches = [[65, 75]]\n",
      "edges_to_delete (resolve crossover) = [[65, 76], [65, 78], [75, 76], [75, 78], [76, 78]]\n",
      "edges_to_create (resolve crossover) = [[65, 75]]\n",
      "Rejecting creating edge [65, 75] becuase did not involve only 1 node in the deleted edge\n",
      "edges_to_delete (cut_limb_network) = [array([65, 75]), array([65, 76]), array([65, 78]), array([75, 76]), array([75, 78]), array([76, 78])]\n",
      "edges_to_create = []\n",
      "Number of connected components = 4\n",
      "Comp 0 = {8, 138, 139, 11, 16, 17, 18, 21, 22, 23, 26, 28, 30, 47, 54, 59, 60, 64, 65, 67, 72, 74, 79, 93, 103}\n",
      "Comp 1 = {0, 1, 2, 3, 4, 5, 6, 9, 10, 12, 13, 14, 15, 20, 25, 27, 32, 33, 34, 35, 36, 37, 38, 40, 41, 42, 43, 44, 45, 46, 48, 49, 50, 51, 52, 53, 55, 56, 58, 61, 62, 63, 66, 68, 69, 70, 73, 75, 80, 84, 85, 87, 88, 89, 90, 91, 94, 95, 96, 97, 98, 99, 100, 101, 102, 105, 106, 109, 110, 111, 112, 113, 114, 115, 116, 117, 118, 121, 122, 123, 124, 125, 126, 127, 130, 131}\n",
      "Comp 2 = {128, 129, 132, 133, 134, 7, 135, 137, 136, 39, 57, 76, 81, 82, 86, 92, 104, 107, 108, 119, 120}\n",
      "Comp 3 = {71, 77, 78, 83, 19, 24, 29, 31}\n",
      "curr_limb_copy.deleted_edges = [array([65, 75]), array([65, 76]), array([65, 78]), array([75, 76]), array([75, 78]), array([76, 78])]\n",
      "curr_limb_copy.created_edges = []\n",
      "After get best cut: cut_edges = [array([65, 75]), array([65, 76]), array([65, 78]), array([75, 76]), array([75, 78]), array([76, 78])], added_edges = []\n",
      "total_soma_paths_to_cut = []\n",
      "\n",
      "\n",
      "suggested_cut_points = [[ 811720.6858155  1046966.70994977  933091.42345004]]\n",
      "\n",
      "\n"
     ]
    },
    {
     "data": {
      "application/vnd.jupyter.widget-view+json": {
       "model_id": "ead13a6f141543febd3af4d89b7b883f",
       "version_major": 2,
       "version_minor": 0
      },
      "text/plain": [
       "VBox(children=(Figure(camera=PerspectiveCamera(fov=46.0, position=(0.0, 0.0, 2.0), quaternion=(0.0, 0.0, 0.0, …"
      ]
     },
     "metadata": {},
     "output_type": "display_data"
    },
    {
     "name": "stdout",
     "output_type": "stream",
     "text": [
      "-----------counter = 0------------\n",
      " Cut iteration 1\n",
      "Total number of graphs at the end of the split BEFORE DIRECTIONAL = 4\n",
      "Total number of graphs at the end of the split AFTER DIRECTIONAL = 4\n",
      "No valid path so moving onto the next connection\n",
      "\n",
      "\n",
      "---- working on disconnecting 103 and 119\n",
      "---- This disconnects S0_0 from S0_2  \n",
      " Cut iteration 0\n",
      "Total number of graphs at the end of the split BEFORE DIRECTIONAL = 4\n",
      "Total number of graphs at the end of the split AFTER DIRECTIONAL = 4\n",
      "No valid path so moving onto the next connection\n",
      "\n",
      "\n",
      "---- working on disconnecting 109 and 119\n",
      "---- This disconnects S0_1 from S0_2  \n",
      " Cut iteration 0\n",
      "Total number of graphs at the end of the split BEFORE DIRECTIONAL = 4\n",
      "Total number of graphs at the end of the split AFTER DIRECTIONAL = 4\n",
      "No valid path so moving onto the next connection\n",
      "Total number of graphs at the end of the split = 4: [array([  8, 138, 139,  11,  16,  17,  18,  21,  22,  23,  26,  28,  30,\n",
      "        47,  54,  59,  60,  64,  65,  67,  72,  74,  79,  93, 103]), array([  0,   1,   2,   3,   4,   5,   6,   9,  10,  12,  13,  14,  15,\n",
      "        20,  25,  27,  32,  33,  34,  35,  36,  37,  38,  40,  41,  42,\n",
      "        43,  44,  45,  46,  48,  49,  50,  51,  52,  53,  55,  56,  58,\n",
      "        61,  62,  63,  66,  68,  69,  70,  73,  75,  80,  84,  85,  87,\n",
      "        88,  89,  90,  91,  94,  95,  96,  97,  98,  99, 100, 101, 102,\n",
      "       105, 106, 109, 110, 111, 112, 113, 114, 115, 116, 117, 118, 121,\n",
      "       122, 123, 124, 125, 126, 127, 130, 131]), array([128, 129, 132, 133, 134,   7, 135, 137, 136,  39,  57,  76,  81,\n",
      "        82,  86,  92, 104, 107, 108, 119, 120]), array([71, 77, 78, 83, 19, 24, 29, 31])]\n",
      "\n",
      "\n",
      " ------ Total time for Splitting 864691135609423623 = 58.97821664810181 ------\n",
      "\n",
      "\n",
      "----- Working on Neuron 864691135730156473-------\n",
      "Decompressing Neuron in minimal output mode...please wait\n",
      "multi_soma_limbs = []\n",
      "multi_touch_limbs = []\n",
      "\n",
      "\n",
      " ------ Total time for Splitting 864691135730156473 = 15.05168867111206 ------\n",
      "\n",
      "\n",
      "----- Working on Neuron 864691135474597696-------\n",
      "Decompressing Neuron in minimal output mode...please wait\n",
      "multi_soma_limbs = []\n",
      "multi_touch_limbs = [0]\n",
      "\n",
      "\n",
      " -------- Working on limb 0------------\n",
      "Starting combinations to process = [[41 56]]\n",
      "\n",
      "\n",
      "---- working on disconnecting 41 and 56\n",
      "---- This disconnects S0_1 from S0_0  \n",
      " Cut iteration 0\n",
      "Total number of graphs at the end of the split BEFORE DIRECTIONAL = 1\n",
      "Total number of graphs at the end of the split AFTER DIRECTIONAL = 1\n",
      "Shortest path = [41, 31, 13, 83, 15, 35, 56]\n",
      "\n",
      " --------- START OF GET BEST EDGE --------- \n",
      "curr_limb.deleted_edges=[]\n",
      "consider_path_neighbors_for_removal is set so segments_to_consider = [ 5  6  9 11 13 15 20 31 35 55 83]\n",
      "Short segments to combine = []\n",
      "Found 0 high degree coordinates to cut\n",
      "Skipping endnode 41 because skeletal distance was 2390.2123759370443 and threshold was 2500\n",
      "skip_nodes = [41]\n",
      "\n",
      "Attempting the doubling back check (symmetrical so don't need to check from both sides)\n"
     ]
    },
    {
     "data": {
      "application/vnd.jupyter.widget-view+json": {
       "model_id": "3340ec4714964a6f86a80f12ef41a012",
       "version_major": 2,
       "version_minor": 0
      },
      "text/plain": [
       "HBox(children=(FloatProgress(value=0.0, max=5.0), HTML(value='')))"
      ]
     },
     "metadata": {},
     "output_type": "display_data"
    },
    {
     "name": "stdout",
     "output_type": "stream",
     "text": [
      "  Edge: [31 13]: curr_angle = 60.74\n",
      "  Edge: [13 83]: curr_angle = 116.01\n",
      "  Edge: [83 15]: curr_angle = 100.42\n",
      "  Edge: [15 35]: curr_angle = 70.11\n",
      "  Edge: [35 56]: curr_angle = 57.54\n",
      "\n",
      "Total time for doubling_back = 0.3817436695098877\n",
      "There were 2 edges that passed doubling back threshold of 80\n",
      "Winning edge [13 83] had a doubling back of 116.009111538645\n",
      "***inside resolve crossover!!!!****\n",
      "coordinate_branches = [5, 13, 83]\n",
      "5 = red\n",
      "13 = aqua\n",
      "83 = purple\n",
      "Angle between 5 and 13 = 17.3 \n",
      "Angle between 5 and 83 = 80.42 \n",
      "Angle between 13 and 83 = 92.14 \n",
      "Final Matches = [[5, 13]]\n",
      "matched_branches_revised = [[5, 13]]\n",
      "Original graph\n"
     ]
    },
    {
     "data": {
      "image/png": "[encoded data removed]",
      "text/plain": [
       "<Figure size 432x288 with 1 Axes>"
      ]
     },
     "metadata": {},
     "output_type": "display_data"
    },
    {
     "name": "stdout",
     "output_type": "stream",
     "text": [
      "match_branches = [[5, 13]]\n",
      "edges_to_delete (resolve crossover) = [[5, 83], [13, 83]]\n",
      "edges_to_create (resolve crossover) = [[5, 13]]\n",
      "edges_to_delete (cut_limb_network) = [array([ 5, 83]), array([13, 83])]\n",
      "edges_to_create = [[5, 13]]\n",
      "Number of connected components = 2\n",
      "Comp 0 = {0, 1, 2, 4, 6, 7, 9, 10, 12, 14, 15, 16, 17, 18, 19, 21, 22, 23, 24, 25, 26, 27, 28, 29, 30, 32, 33, 34, 35, 36, 37, 38, 39, 40, 42, 43, 44, 45, 46, 47, 48, 49, 50, 51, 52, 53, 54, 55, 56, 57, 58, 59, 60, 61, 62, 63, 64, 65, 66, 67, 68, 69, 70, 71, 72, 73, 74, 75, 76, 77, 78, 79, 80, 81, 82, 83}\n",
      "Comp 1 = {3, 5, 8, 41, 11, 13, 20, 31}\n",
      "curr_limb_copy.deleted_edges = [array([ 5, 83]), array([13, 83])]\n",
      "curr_limb_copy.created_edges = [[5, 13]]\n",
      "After get best cut: cut_edges = [array([ 5, 83]), array([13, 83])], added_edges = [[5, 13]]\n",
      "total_soma_paths_to_cut = []\n",
      "\n",
      "\n",
      "suggested_cut_points = [[ 811752.  529796. 1068710.]]\n",
      "\n",
      "\n"
     ]
    },
    {
     "data": {
      "application/vnd.jupyter.widget-view+json": {
       "model_id": "503dc8ec3da046efa0e5f78e1ca70a0b",
       "version_major": 2,
       "version_minor": 0
      },
      "text/plain": [
       "VBox(children=(Figure(camera=PerspectiveCamera(fov=46.0, position=(0.0, 0.0, 2.0), quaternion=(0.0, 0.0, 0.0, …"
      ]
     },
     "metadata": {},
     "output_type": "display_data"
    },
    {
     "name": "stdout",
     "output_type": "stream",
     "text": [
      "-----------counter = 0------------\n",
      " Cut iteration 1\n",
      "Total number of graphs at the end of the split BEFORE DIRECTIONAL = 2\n",
      "Total number of graphs at the end of the split AFTER DIRECTIONAL = 2\n",
      "No valid path so moving onto the next connection\n",
      "Total number of graphs at the end of the split = 2: [array([ 0,  1,  2,  4,  6,  7,  9, 10, 12, 14, 15, 16, 17, 18, 19, 21, 22,\n",
      "       23, 24, 25, 26, 27, 28, 29, 30, 32, 33, 34, 35, 36, 37, 38, 39, 40,\n",
      "       42, 43, 44, 45, 46, 47, 48, 49, 50, 51, 52, 53, 54, 55, 56, 57, 58,\n",
      "       59, 60, 61, 62, 63, 64, 65, 66, 67, 68, 69, 70, 71, 72, 73, 74, 75,\n",
      "       76, 77, 78, 79, 80, 81, 82, 83]), array([ 3,  5,  8, 41, 11, 13, 20, 31])]\n",
      "\n",
      "\n",
      " ------ Total time for Splitting 864691135474597696 = 80.0328733921051 ------\n",
      "\n",
      "\n",
      "----- Working on Neuron 864691135513808626-------\n",
      "Decompressing Neuron in minimal output mode...please wait\n",
      "multi_soma_limbs = []\n",
      "multi_touch_limbs = []\n",
      "\n",
      "\n",
      " ------ Total time for Splitting 864691135513808626 = 34.62691044807434 ------\n",
      "\n",
      "\n",
      "----- Working on Neuron 864691135655037892-------\n",
      "Decompressing Neuron in minimal output mode...please wait\n",
      "multi_soma_limbs = []\n",
      "multi_touch_limbs = []\n",
      "\n",
      "\n",
      " ------ Total time for Splitting 864691135655037892 = 27.418863773345947 ------\n",
      "\n",
      "\n",
      "----- Working on Neuron 864691136400919084-------\n",
      "Decompressing Neuron in minimal output mode...please wait\n",
      "multi_soma_limbs = []\n",
      "multi_touch_limbs = [0]\n",
      "\n",
      "\n",
      " -------- Working on limb 0------------\n",
      "Starting combinations to process = [[0 1]\n",
      " [0 2]\n",
      " [1 2]]\n",
      "\n",
      "\n",
      "---- working on disconnecting 0 and 1\n",
      "---- This disconnects S0_0 from S0_2  \n",
      " Cut iteration 0\n",
      "Total number of graphs at the end of the split BEFORE DIRECTIONAL = 1\n",
      "Total number of graphs at the end of the split AFTER DIRECTIONAL = 1\n",
      "Shortest path = [0, 1]\n",
      "\n",
      " --------- START OF GET BEST EDGE --------- \n",
      "curr_limb.deleted_edges=[]\n",
      "consider_path_neighbors_for_removal is set so segments_to_consider = []\n",
      "Short segments to combine = []\n",
      "Found 0 high degree coordinates to cut\n",
      "skip_nodes = []\n",
      "\n",
      "Attempting the doubling back check (symmetrical so don't need to check from both sides)\n"
     ]
    },
    {
     "data": {
      "application/vnd.jupyter.widget-view+json": {
       "model_id": "f1358176aa8b4af5aa63b9ee1331c43b",
       "version_major": 2,
       "version_minor": 0
      },
      "text/plain": [
       "HBox(children=(FloatProgress(value=0.0, max=1.0), HTML(value='')))"
      ]
     },
     "metadata": {},
     "output_type": "display_data"
    },
    {
     "name": "stdout",
     "output_type": "stream",
     "text": [
      "  Edge: [0 1]: curr_angle = 135.59\n",
      "\n",
      "Total time for doubling_back = 0.04400920867919922\n",
      "There were 1 edges that passed doubling back threshold of 80\n",
      "Winning edge [0 1] had a doubling back of 135.59216229780895\n",
      "***inside resolve crossover!!!!****\n",
      "coordinate_branches = [0, 1, 2]\n",
      "0 = red\n",
      "1 = aqua\n",
      "2 = purple\n",
      "Angle between 0 and 1 = 107.91 \n",
      "Angle between 0 and 2 = 119.01 \n",
      "Angle between 1 and 2 = 122.65 \n",
      "Final Matches = []\n",
      "matched_branches_revised = []\n",
      "Original graph\n"
     ]
    },
    {
     "data": {
      "image/png": "[encoded data removed]",
      "text/plain": [
       "<Figure size 432x288 with 1 Axes>"
      ]
     },
     "metadata": {},
     "output_type": "display_data"
    },
    {
     "name": "stdout",
     "output_type": "stream",
     "text": [
      "match_branches = []\n",
      "edges_to_delete (resolve crossover) = [[0, 1], [0, 2], [1, 2]]\n",
      "edges_to_create (resolve crossover) = []\n",
      "edges_to_delete (cut_limb_network) = [array([0, 1]), array([0, 2]), array([1, 2])]\n",
      "edges_to_create = []\n",
      "Number of connected components = 3\n",
      "Comp 0 = {0}\n",
      "Comp 1 = {1}\n",
      "Comp 2 = {2}\n",
      "curr_limb_copy.deleted_edges = [array([0, 1]), array([0, 2]), array([1, 2])]\n",
      "curr_limb_copy.created_edges = []\n",
      "After get best cut: cut_edges = [array([0, 1]), array([0, 2]), array([1, 2])], added_edges = []\n",
      "total_soma_paths_to_cut = []\n",
      "\n",
      "\n",
      "suggested_cut_points = [[ 873396.39760111 1084471.80481115  614838.90014414]]\n",
      "\n",
      "\n"
     ]
    },
    {
     "data": {
      "application/vnd.jupyter.widget-view+json": {
       "model_id": "9e10618355614bceaea6989cfeaabb5f",
       "version_major": 2,
       "version_minor": 0
      },
      "text/plain": [
       "VBox(children=(Figure(camera=PerspectiveCamera(fov=46.0, position=(0.0, 0.0, 2.0), quaternion=(0.0, 0.0, 0.0, …"
      ]
     },
     "metadata": {},
     "output_type": "display_data"
    },
    {
     "name": "stdout",
     "output_type": "stream",
     "text": [
      "-----------counter = 0------------\n",
      " Cut iteration 1\n",
      "Total number of graphs at the end of the split BEFORE DIRECTIONAL = 3\n",
      "Total number of graphs at the end of the split AFTER DIRECTIONAL = 3\n",
      "No valid path so moving onto the next connection\n",
      "\n",
      "\n",
      "---- working on disconnecting 0 and 2\n",
      "---- This disconnects S0_0 from S0_3  \n",
      " Cut iteration 0\n",
      "Total number of graphs at the end of the split BEFORE DIRECTIONAL = 3\n",
      "Total number of graphs at the end of the split AFTER DIRECTIONAL = 3\n",
      "No valid path so moving onto the next connection\n",
      "\n",
      "\n",
      "---- working on disconnecting 1 and 2\n",
      "---- This disconnects S0_2 from S0_3  \n",
      " Cut iteration 0\n",
      "Total number of graphs at the end of the split BEFORE DIRECTIONAL = 3\n",
      "Total number of graphs at the end of the split AFTER DIRECTIONAL = 3\n",
      "No valid path so moving onto the next connection\n",
      "Total number of graphs at the end of the split = 3: [array([0]), array([1]), array([2])]\n",
      "\n",
      "\n",
      " ------ Total time for Splitting 864691136400919084 = 2.2746975421905518 ------\n",
      "\n",
      "\n",
      "----- Working on Neuron 864691135758497870-------\n",
      "Decompressing Neuron in minimal output mode...please wait\n",
      "multi_soma_limbs = []\n",
      "multi_touch_limbs = []\n",
      "\n",
      "\n",
      " ------ Total time for Splitting 864691135758497870 = 6.998784303665161 ------\n",
      "\n",
      "\n",
      "----- Working on Neuron 864691135589899787-------\n",
      "Decompressing Neuron in minimal output mode...please wait\n",
      "multi_soma_limbs = []\n",
      "multi_touch_limbs = [0]\n",
      "\n",
      "\n",
      " -------- Working on limb 0------------\n",
      "Starting combinations to process = [[30 35]]\n",
      "\n",
      "\n",
      "---- working on disconnecting 30 and 35\n",
      "---- This disconnects S0_0 from S0_1  \n",
      " Cut iteration 0\n",
      "Total number of graphs at the end of the split BEFORE DIRECTIONAL = 1\n",
      "Total number of graphs at the end of the split AFTER DIRECTIONAL = 1\n",
      "Shortest path = [30, 31, 39, 41, 35]\n",
      "\n",
      " --------- START OF GET BEST EDGE --------- \n",
      "curr_limb.deleted_edges=[]\n",
      "consider_path_neighbors_for_removal is set so segments_to_consider = [25 31 38 39 40 41 42 47]\n",
      "Short segments to combine = []\n",
      "Found 1 high degree coordinates to cut\n",
      "Picking [ 958698.  458126. 1019060.] high degree coordinates to cut\n",
      "curr_limb.deleted_edges 4=[]\n",
      "***inside resolve crossover!!!!****\n",
      "coordinate_branches = [35, 40, 41, 42]\n",
      "35 = red\n",
      "40 = aqua\n",
      "41 = purple\n",
      "42 = green\n",
      "Angle between 35 and 40 = 32.43 \n",
      "Angle between 35 and 41 = 75.93 \n",
      "Angle between 35 and 42 = 65.57 \n",
      "Angle between 40 and 41 = 100.38 \n",
      "Angle between 40 and 42 = 88.55 \n",
      "Angle between 41 and 42 = 64.34 \n",
      "Final Matches = [[35, 40]]\n",
      "matched_branches_revised = [[35, 40]]\n",
      "Original graph\n"
     ]
    },
    {
     "data": {
      "image/png": "[encoded data removed]",
      "text/plain": [
       "<Figure size 432x288 with 1 Axes>"
      ]
     },
     "metadata": {},
     "output_type": "display_data"
    },
    {
     "name": "stdout",
     "output_type": "stream",
     "text": [
      "match_branches = [[35, 40]]\n",
      "edges_to_delete (resolve crossover) = [[35, 41], [35, 42], [40, 41], [40, 42], [41, 42]]\n",
      "edges_to_create (resolve crossover) = [[35, 40]]\n",
      "curr_limb.deleted_edges 5 =[]\n",
      "NOT USING the resolve crossover delete edges because not help resolve the cut\n",
      "skip_nodes = []\n",
      "\n",
      "Attempting the doubling back check (symmetrical so don't need to check from both sides)\n"
     ]
    },
    {
     "data": {
      "application/vnd.jupyter.widget-view+json": {
       "model_id": "ab9a7d2e956a4a23a2e7f8cda36da1dd",
       "version_major": 2,
       "version_minor": 0
      },
      "text/plain": [
       "HBox(children=(FloatProgress(value=0.0, max=4.0), HTML(value='')))"
      ]
     },
     "metadata": {},
     "output_type": "display_data"
    },
    {
     "name": "stdout",
     "output_type": "stream",
     "text": [
      "  Edge: [30 31]: curr_angle = 91.95\n",
      "  Edge: [31 39]: curr_angle = 31.69\n",
      "  Edge: [39 41]: curr_angle = 127.16\n",
      "  Edge: [41 35]: curr_angle = 67.59\n",
      "\n",
      "Total time for doubling_back = 0.3424651622772217\n",
      "There were 2 edges that passed doubling back threshold of 80\n",
      "Winning edge [39 41] had a doubling back of 127.15503567271672\n",
      "***inside resolve crossover!!!!****\n",
      "coordinate_branches = [39, 41, 47]\n",
      "39 = red\n",
      "41 = aqua\n",
      "47 = purple\n",
      "Angle between 39 and 41 = 121.65 \n",
      "Angle between 39 and 47 = 35.2 \n",
      "Angle between 41 and 47 = 23.63 \n",
      "Final Matches = [[41, 47]]\n",
      "matched_branches_revised = [[41, 47]]\n",
      "Original graph\n"
     ]
    },
    {
     "data": {
      "image/png": "[encoded data removed]",
      "text/plain": [
       "<Figure size 432x288 with 1 Axes>"
      ]
     },
     "metadata": {},
     "output_type": "display_data"
    },
    {
     "name": "stdout",
     "output_type": "stream",
     "text": [
      "match_branches = [[41, 47]]\n",
      "edges_to_delete (resolve crossover) = [[39, 41], [39, 47]]\n",
      "edges_to_create (resolve crossover) = [[41, 47]]\n",
      "edges_to_delete (cut_limb_network) = [array([39, 41]), array([39, 47])]\n",
      "edges_to_create = [[41, 47]]\n",
      "Number of connected components = 2\n",
      "Comp 0 = {0, 1, 2, 3, 4, 5, 6, 7, 8, 9, 10, 11, 12, 13, 14, 15, 16, 17, 18, 19, 20, 21, 22, 23, 24, 25, 26, 27, 28, 29, 30, 31, 32, 33, 34, 36, 37, 38, 39, 45, 46, 48, 49, 50, 51}\n",
      "Comp 1 = {35, 40, 41, 42, 43, 44, 47}\n",
      "curr_limb_copy.deleted_edges = [array([39, 41]), array([39, 47])]\n",
      "curr_limb_copy.created_edges = [[41, 47]]\n",
      "After get best cut: cut_edges = [array([39, 41]), array([39, 47])], added_edges = [[41, 47]]\n",
      "total_soma_paths_to_cut = []\n",
      "\n",
      "\n",
      "suggested_cut_points = [[982848. 435014. 999134.]]\n",
      "\n",
      "\n"
     ]
    },
    {
     "data": {
      "application/vnd.jupyter.widget-view+json": {
       "model_id": "1e3e2d2c441f45ad914b47ab1a550ee1",
       "version_major": 2,
       "version_minor": 0
      },
      "text/plain": [
       "VBox(children=(Figure(camera=PerspectiveCamera(fov=46.0, position=(0.0, 0.0, 2.0), quaternion=(0.0, 0.0, 0.0, …"
      ]
     },
     "metadata": {},
     "output_type": "display_data"
    },
    {
     "name": "stdout",
     "output_type": "stream",
     "text": [
      "-----------counter = 0------------\n",
      " Cut iteration 1\n",
      "Total number of graphs at the end of the split BEFORE DIRECTIONAL = 2\n",
      "Total number of graphs at the end of the split AFTER DIRECTIONAL = 2\n",
      "No valid path so moving onto the next connection\n",
      "Total number of graphs at the end of the split = 2: [array([ 0,  1,  2,  3,  4,  5,  6,  7,  8,  9, 10, 11, 12, 13, 14, 15, 16,\n",
      "       17, 18, 19, 20, 21, 22, 23, 24, 25, 26, 27, 28, 29, 30, 31, 32, 33,\n",
      "       34, 36, 37, 38, 39, 45, 46, 48, 49, 50, 51]), array([35, 40, 41, 42, 43, 44, 47])]\n",
      "\n",
      "\n",
      " ------ Total time for Splitting 864691135589899787 = 54.90035367012024 ------\n",
      "\n",
      "\n",
      "----- Working on Neuron 864691135012910998-------\n",
      "Decompressing Neuron in minimal output mode...please wait\n",
      "multi_soma_limbs = []\n",
      "multi_touch_limbs = []\n",
      "\n",
      "\n",
      " ------ Total time for Splitting 864691135012910998 = 21.242177963256836 ------\n",
      "\n",
      "\n",
      "----- Working on Neuron 864691135672812228-------\n",
      "Decompressing Neuron in minimal output mode...please wait\n",
      "multi_soma_limbs = []\n",
      "multi_touch_limbs = []\n",
      "\n",
      "\n",
      " ------ Total time for Splitting 864691135672812228 = 34.414026498794556 ------\n",
      "\n",
      "\n",
      "----- Working on Neuron 864691135637409476-------\n",
      "Decompressing Neuron in minimal output mode...please wait\n",
      "multi_soma_limbs = []\n",
      "multi_touch_limbs = []\n",
      "\n",
      "\n",
      " ------ Total time for Splitting 864691135637409476 = 33.34911751747131 ------\n",
      "\n",
      "\n",
      "----- Working on Neuron 864691135517350282-------\n",
      "Decompressing Neuron in minimal output mode...please wait\n",
      "multi_soma_limbs = []\n",
      "multi_touch_limbs = []\n",
      "\n",
      "\n",
      " ------ Total time for Splitting 864691135517350282 = 25.206138372421265 ------\n",
      "\n",
      "\n",
      "----- Working on Neuron 864691135454621170-------\n",
      "Decompressing Neuron in minimal output mode...please wait\n",
      "multi_soma_limbs = []\n",
      "multi_touch_limbs = []\n",
      "\n",
      "\n",
      " ------ Total time for Splitting 864691135454621170 = 30.282860279083252 ------\n",
      "\n",
      "\n",
      "----- Working on Neuron 864691135946646369-------\n",
      "Decompressing Neuron in minimal output mode...please wait\n",
      "multi_soma_limbs = []\n",
      "multi_touch_limbs = []\n",
      "\n",
      "\n",
      " ------ Total time for Splitting 864691135946646369 = 24.140101432800293 ------\n",
      "\n",
      "\n",
      "----- Working on Neuron 864691135348258519-------\n",
      "Decompressing Neuron in minimal output mode...please wait\n",
      "multi_soma_limbs = []\n",
      "multi_touch_limbs = []\n",
      "\n",
      "\n",
      " ------ Total time for Splitting 864691135348258519 = 28.58176326751709 ------\n",
      "\n",
      "\n",
      "----- Working on Neuron 864691135334494953-------\n",
      "Decompressing Neuron in minimal output mode...please wait\n",
      "multi_soma_limbs = []\n",
      "multi_touch_limbs = []\n",
      "\n",
      "\n",
      " ------ Total time for Splitting 864691135334494953 = 30.954320907592773 ------\n",
      "\n",
      "\n",
      "----- Working on Neuron 864691135941158772-------\n",
      "Decompressing Neuron in minimal output mode...please wait\n",
      "multi_soma_limbs = []\n",
      "multi_touch_limbs = []\n",
      "\n",
      "\n",
      " ------ Total time for Splitting 864691135941158772 = 9.879652738571167 ------\n",
      "\n",
      "\n",
      "----- Working on Neuron 864691136040991574-------\n",
      "Decompressing Neuron in minimal output mode...please wait\n",
      "multi_soma_limbs = []\n",
      "multi_touch_limbs = []\n",
      "\n",
      "\n",
      " ------ Total time for Splitting 864691136040991574 = 16.36222195625305 ------\n",
      "\n",
      "\n",
      "----- Working on Neuron 864691135212609920-------\n",
      "Decompressing Neuron in minimal output mode...please wait\n",
      "multi_soma_limbs = []\n",
      "multi_touch_limbs = []\n",
      "\n",
      "\n",
      " ------ Total time for Splitting 864691135212609920 = 28.64597773551941 ------\n",
      "\n",
      "\n",
      "----- Working on Neuron 864691135506483954-------\n",
      "Decompressing Neuron in minimal output mode...please wait\n",
      "multi_soma_limbs = []\n",
      "multi_touch_limbs = []\n",
      "\n",
      "\n",
      " ------ Total time for Splitting 864691135506483954 = 23.032379627227783 ------\n",
      "\n",
      "\n",
      "----- Working on Neuron 864691135603147843-------\n",
      "Decompressing Neuron in minimal output mode...please wait\n",
      "multi_soma_limbs = []\n",
      "multi_touch_limbs = [0]\n",
      "\n",
      "\n",
      " -------- Working on limb 0------------\n",
      "Starting combinations to process = [[0 1]]\n",
      "\n",
      "\n",
      "---- working on disconnecting 0 and 1\n",
      "---- This disconnects S0_0 from S0_1  \n",
      " Cut iteration 0\n",
      "Total number of graphs at the end of the split BEFORE DIRECTIONAL = 1\n",
      "Total number of graphs at the end of the split AFTER DIRECTIONAL = 1\n",
      "Shortest path = [0, 4, 21, 35, 34, 10, 1]\n",
      "\n",
      " --------- START OF GET BEST EDGE --------- \n",
      "curr_limb.deleted_edges=[]\n",
      "consider_path_neighbors_for_removal is set so segments_to_consider = [ 3  4  9 10 21 22 31 34 35 36 37]\n",
      "Short segments to combine = [9]\n",
      "\n",
      "\n",
      "-------- Removing Segments -------------\n",
      "curr_short_seg_revised = 9\n",
      "np.sum(touch_len>0) = 2\n",
      "Using average stitch point\n",
      "touching_endpoints = [[1079770.  380543.  640762.]\n",
      " [1080470.  380882.  641631.]]\n",
      "new_stitch_point = [1080120.   380712.5  641196.5]\n",
      "Angles for [10.  1. 11. 12.] are [79.59, 22.17, 48.08, 18.34]\n",
      "Branch that will absorb mesh of 9 is 12.0 \n",
      "curr_limb.deleted_edges 2=[]\n",
      "curr_limb.deleted_edges 3=[]\n",
      "Revised cut path = [ 0  4 21 35 34 10  1]\n",
      "\n",
      "-------- Done Removing Segments -------------\n",
      "\n",
      "\n",
      "Found 1 high degree coordinates to cut\n",
      "Picking [1080120.   380712.5  641196.5] high degree coordinates to cut\n",
      "curr_limb.deleted_edges 4=[]\n",
      "***inside resolve crossover!!!!****\n",
      "coordinate_branches = [1, 10, 11, 12]\n",
      "1 = red\n",
      "10 = aqua\n",
      "11 = purple\n",
      "12 = green\n",
      "Angle between 1 and 10 = 79.68 \n",
      "Angle between 1 and 11 = 56.41 \n",
      "Angle between 1 and 12 = 18.87 \n",
      "Angle between 10 and 11 = 76.17 \n",
      "Angle between 10 and 12 = 86.45 \n",
      "Angle between 11 and 12 = 115.85 \n",
      "Final Matches = [[1, 12]]\n",
      "matched_branches_revised = [[1, 12]]\n",
      "Original graph\n"
     ]
    },
    {
     "data": {
      "image/png": "[encoded data removed]",
      "text/plain": [
       "<Figure size 432x288 with 1 Axes>"
      ]
     },
     "metadata": {},
     "output_type": "display_data"
    },
    {
     "name": "stdout",
     "output_type": "stream",
     "text": [
      "match_branches = [[1, 12]]\n",
      "edges_to_delete (resolve crossover) = [[1, 10], [1, 11], [10, 11], [10, 12], [11, 12]]\n",
      "edges_to_create (resolve crossover) = [[1, 12]]\n",
      "curr_limb.deleted_edges 5 =[]\n",
      "NOT USING the resolve crossover delete edges because not help resolve the cut\n",
      "skip_nodes = []\n",
      "\n",
      "Attempting the doubling back check (symmetrical so don't need to check from both sides)\n"
     ]
    },
    {
     "data": {
      "application/vnd.jupyter.widget-view+json": {
       "model_id": "ac05aacea699429c954ecacef53fa179",
       "version_major": 2,
       "version_minor": 0
      },
      "text/plain": [
       "HBox(children=(FloatProgress(value=0.0, max=6.0), HTML(value='')))"
      ]
     },
     "metadata": {},
     "output_type": "display_data"
    },
    {
     "name": "stdout",
     "output_type": "stream",
     "text": [
      "  Edge: [0 4]: curr_angle = 67.92\n",
      "  Edge: [ 4 21]: curr_angle = 62.21\n",
      "  Edge: [21 35]: curr_angle = 67.63\n",
      "  Edge: [35 34]: curr_angle = 114.35\n",
      "  Edge: [34 10]: curr_angle = 28.47\n",
      "  Edge: [10  1]: curr_angle = 86.87\n",
      "\n",
      "Total time for doubling_back = 0.24441790580749512\n",
      "There were 2 edges that passed doubling back threshold of 80\n",
      "Winning edge [35 34] had a doubling back of 114.35340661580025\n",
      "***inside resolve crossover!!!!****\n",
      "coordinate_branches = [34, 35, 37]\n",
      "34 = red\n",
      "35 = aqua\n",
      "37 = purple\n",
      "Angle between 34 and 35 = 61.47 \n",
      "Angle between 34 and 37 = 17.38 \n",
      "Angle between 35 and 37 = 109.98 \n",
      "Final Matches = [[34, 37]]\n",
      "matched_branches_revised = [[34, 37]]\n",
      "Original graph\n"
     ]
    },
    {
     "data": {
      "image/png": "[encoded data removed]",
      "text/plain": [
       "<Figure size 432x288 with 1 Axes>"
      ]
     },
     "metadata": {},
     "output_type": "display_data"
    },
    {
     "name": "stdout",
     "output_type": "stream",
     "text": [
      "match_branches = [[34, 37]]\n",
      "edges_to_delete (resolve crossover) = [[34, 35], [35, 37]]\n",
      "edges_to_create (resolve crossover) = [[34, 37]]\n",
      "edges_to_delete (cut_limb_network) = [array([34, 35]), array([35, 37])]\n",
      "edges_to_create = [[34, 37]]\n",
      "Number of connected components = 3\n",
      "Comp 0 = {0, 3, 4, 35, 6, 7, 36, 41, 42, 43, 38, 21, 22}\n",
      "Comp 1 = {1, 2, 5, 8, 10, 11, 12, 13, 14, 15, 16, 17, 18, 19, 20, 23, 24, 25, 26, 27, 28, 29, 30, 31, 32, 33, 34, 37, 39, 40, 44, 45, 46, 47, 48.0, 49, 50, 51, 52, 53, 54, 55, 56, 57, 58, 59, 60, 61, 62, 63, 64, 65, 66, 67}\n",
      "Comp 2 = {9}\n",
      "curr_limb_copy.deleted_edges = [array([34, 35]), array([35, 37])]\n",
      "curr_limb_copy.created_edges = [[34, 37]]\n",
      "After get best cut: cut_edges = [array([34, 35]), array([35, 37])], added_edges = [[34, 37]]\n",
      "total_soma_paths_to_cut = []\n",
      "\n",
      "\n",
      "suggested_cut_points = [[1095280.  390752.  616813.]]\n",
      "\n",
      "\n"
     ]
    },
    {
     "data": {
      "application/vnd.jupyter.widget-view+json": {
       "model_id": "ca79fc4fcc1146ca98aedb617e5483d7",
       "version_major": 2,
       "version_minor": 0
      },
      "text/plain": [
       "VBox(children=(Figure(camera=PerspectiveCamera(fov=46.0, position=(0.0, 0.0, 2.0), quaternion=(0.0, 0.0, 0.0, …"
      ]
     },
     "metadata": {},
     "output_type": "display_data"
    },
    {
     "name": "stdout",
     "output_type": "stream",
     "text": [
      "-----------counter = 0------------\n",
      " Cut iteration 1\n",
      "Total number of graphs at the end of the split BEFORE DIRECTIONAL = 3\n",
      "Total number of graphs at the end of the split AFTER DIRECTIONAL = 3\n",
      "No valid path so moving onto the next connection\n",
      "Total number of graphs at the end of the split = 3: [array([ 0,  3,  4, 35,  6,  7, 36, 41, 42, 43, 38, 21, 22]), array([ 1.,  2.,  5.,  8., 10., 11., 12., 13., 14., 15., 16., 17., 18.,\n",
      "       19., 20., 23., 24., 25., 26., 27., 28., 29., 30., 31., 32., 33.,\n",
      "       34., 37., 39., 40., 44., 45., 46., 47., 48., 49., 50., 51., 52.,\n",
      "       53., 54., 55., 56., 57., 58., 59., 60., 61., 62., 63., 64., 65.,\n",
      "       66., 67.]), array([9])]\n",
      "\n",
      "\n",
      " ------ Total time for Splitting 864691135603147843 = 59.52576041221619 ------\n",
      "\n",
      "\n",
      "----- Working on Neuron 864691135864719580-------\n",
      "Decompressing Neuron in minimal output mode...please wait\n",
      "multi_soma_limbs = []\n",
      "multi_touch_limbs = []\n",
      "\n",
      "\n",
      " ------ Total time for Splitting 864691135864719580 = 32.16470265388489 ------\n",
      "\n",
      "\n",
      "----- Working on Neuron 864691135609460999-------\n",
      "Decompressing Neuron in minimal output mode...please wait\n",
      "multi_soma_limbs = []\n",
      "multi_touch_limbs = []\n",
      "\n",
      "\n",
      " ------ Total time for Splitting 864691135609460999 = 38.16032838821411 ------\n",
      "\n",
      "\n",
      "----- Working on Neuron 864691135497643795-------\n",
      "Decompressing Neuron in minimal output mode...please wait\n",
      "multi_soma_limbs = []\n",
      "multi_touch_limbs = []\n",
      "\n",
      "\n",
      " ------ Total time for Splitting 864691135497643795 = 19.953936338424683 ------\n",
      "\n",
      "\n",
      "----- Working on Neuron 864691135526069083-------\n",
      "Decompressing Neuron in minimal output mode...please wait\n",
      "multi_soma_limbs = []\n",
      "multi_touch_limbs = [0]\n",
      "\n",
      "\n",
      " -------- Working on limb 0------------\n",
      "Starting combinations to process = []\n",
      "Total number of graphs at the end of the split = 1: [array([ 0,  1,  2,  3,  4,  5,  6,  7,  8,  9, 10, 11, 12, 13, 14, 15, 16,\n",
      "       17, 18, 19, 20, 21, 22, 23, 24, 25, 26, 27, 28, 29, 30, 31, 32, 33,\n",
      "       34, 35, 36, 37, 38, 39, 40])]\n",
      "\n",
      "\n",
      " ------ Total time for Splitting 864691135526069083 = 55.73314881324768 ------\n",
      "\n",
      "\n",
      "----- Working on Neuron 864691135876003667-------\n",
      "Decompressing Neuron in minimal output mode...please wait\n",
      "multi_soma_limbs = []\n",
      "multi_touch_limbs = [0]\n",
      "\n",
      "\n",
      " -------- Working on limb 0------------\n",
      "Starting combinations to process = [[13 17]]\n",
      "\n",
      "\n",
      "---- working on disconnecting 13 and 17\n",
      "---- This disconnects S0_0 from S0_1  \n",
      " Cut iteration 0\n",
      "Total number of graphs at the end of the split BEFORE DIRECTIONAL = 1\n",
      "Total number of graphs at the end of the split AFTER DIRECTIONAL = 1\n",
      "Shortest path = [13, 14, 16, 30, 34, 25, 19, 17]\n",
      "\n",
      " --------- START OF GET BEST EDGE --------- \n",
      "curr_limb.deleted_edges=[]\n",
      "consider_path_neighbors_for_removal is set so segments_to_consider = [12 14 15 16 18 19 24 25 30 31 34 35 36]\n",
      "Short segments to combine = []\n",
      "Found 0 high degree coordinates to cut\n",
      "skip_nodes = []\n",
      "\n",
      "Attempting the doubling back check (symmetrical so don't need to check from both sides)\n"
     ]
    },
    {
     "data": {
      "application/vnd.jupyter.widget-view+json": {
       "model_id": "b9f0d840335d4bfa87b2cf93983d2ec4",
       "version_major": 2,
       "version_minor": 0
      },
      "text/plain": [
       "HBox(children=(FloatProgress(value=0.0, max=7.0), HTML(value='')))"
      ]
     },
     "metadata": {},
     "output_type": "display_data"
    },
    {
     "name": "stdout",
     "output_type": "stream",
     "text": [
      "  Edge: [13 14]: curr_angle = 22.45\n",
      "  Edge: [14 16]: curr_angle = 74.69\n",
      "  Edge: [16 30]: curr_angle = 45.36\n",
      "  Edge: [30 34]: curr_angle = 75.19\n",
      "  Edge: [34 25]: curr_angle = 160.28\n",
      "  Edge: [25 19]: curr_angle = 80.83\n",
      "  Edge: [19 17]: curr_angle = 24.8\n",
      "\n",
      "Total time for doubling_back = 0.44933009147644043\n",
      "There were 2 edges that passed doubling back threshold of 80\n",
      "Winning edge [34 25] had a doubling back of 160.27608535163156\n",
      "***inside resolve crossover!!!!****\n",
      "coordinate_branches = [25, 34, 36]\n",
      "25 = red\n",
      "34 = aqua\n",
      "36 = purple\n",
      "Angle between 25 and 34 = 82.4 \n",
      "Angle between 25 and 36 = 12.85 \n",
      "Angle between 34 and 36 = 87.87 \n",
      "Final Matches = [[25, 36]]\n",
      "matched_branches_revised = [[25, 36]]\n",
      "Original graph\n"
     ]
    },
    {
     "data": {
      "image/png": "[encoded data removed]",
      "text/plain": [
       "<Figure size 432x288 with 1 Axes>"
      ]
     },
     "metadata": {},
     "output_type": "display_data"
    },
    {
     "name": "stdout",
     "output_type": "stream",
     "text": [
      "match_branches = [[25, 36]]\n",
      "edges_to_delete (resolve crossover) = [[25, 34], [34, 36]]\n",
      "edges_to_create (resolve crossover) = [[25, 36]]\n",
      "edges_to_delete (cut_limb_network) = [array([25, 34]), array([34, 36])]\n",
      "edges_to_create = [[25, 36]]\n",
      "Number of connected components = 2\n",
      "Comp 0 = {0, 1, 2, 3, 4, 5, 6, 7, 8, 9, 10, 11, 12, 13, 14, 15, 16, 22, 23, 26, 27, 30, 31, 34, 35}\n",
      "Comp 1 = {17, 18, 19, 20, 21, 24, 25, 28, 29, 32, 33, 36, 37, 38, 39, 40, 41, 42, 43, 44, 45, 46, 47, 48, 49, 50}\n",
      "curr_limb_copy.deleted_edges = [array([25, 34]), array([34, 36])]\n",
      "curr_limb_copy.created_edges = [[25, 36]]\n",
      "After get best cut: cut_edges = [array([25, 34]), array([34, 36])], added_edges = [[25, 36]]\n",
      "total_soma_paths_to_cut = []\n",
      "\n",
      "\n",
      "suggested_cut_points = [[1102080.  513555.  611486.]]\n",
      "\n",
      "\n"
     ]
    },
    {
     "data": {
      "application/vnd.jupyter.widget-view+json": {
       "model_id": "7427cd649bfe494393f287e8024797b6",
       "version_major": 2,
       "version_minor": 0
      },
      "text/plain": [
       "VBox(children=(Figure(camera=PerspectiveCamera(fov=46.0, position=(0.0, 0.0, 2.0), quaternion=(0.0, 0.0, 0.0, …"
      ]
     },
     "metadata": {},
     "output_type": "display_data"
    },
    {
     "name": "stdout",
     "output_type": "stream",
     "text": [
      "-----------counter = 0------------\n",
      " Cut iteration 1\n",
      "Total number of graphs at the end of the split BEFORE DIRECTIONAL = 2\n",
      "Total number of graphs at the end of the split AFTER DIRECTIONAL = 2\n",
      "No valid path so moving onto the next connection\n",
      "Total number of graphs at the end of the split = 2: [array([ 0,  1,  2,  3,  4,  5,  6,  7,  8,  9, 10, 11, 12, 13, 14, 15, 16,\n",
      "       22, 23, 26, 27, 30, 31, 34, 35]), array([17, 18, 19, 20, 21, 24, 25, 28, 29, 32, 33, 36, 37, 38, 39, 40, 41,\n",
      "       42, 43, 44, 45, 46, 47, 48, 49, 50])]\n",
      "\n",
      "\n",
      " ------ Total time for Splitting 864691135876003667 = 43.45621609687805 ------\n",
      "\n",
      "\n",
      "----- Working on Neuron 864691135274119397-------\n",
      "Decompressing Neuron in minimal output mode...please wait\n",
      "multi_soma_limbs = []\n",
      "multi_touch_limbs = [2]\n",
      "\n",
      "\n",
      " -------- Working on limb 2------------\n",
      "Starting combinations to process = [[40 45]]\n",
      "\n",
      "\n",
      "---- working on disconnecting 40 and 45\n",
      "---- This disconnects S0_0 from S0_1  \n",
      " Cut iteration 0\n",
      "Total number of graphs at the end of the split BEFORE DIRECTIONAL = 1\n",
      "Total number of graphs at the end of the split AFTER DIRECTIONAL = 1\n",
      "Shortest path = [40, 36, 27, 25, 26, 56, 48, 45]\n",
      "\n",
      " --------- START OF GET BEST EDGE --------- \n",
      "curr_limb.deleted_edges=[]\n",
      "consider_path_neighbors_for_removal is set so segments_to_consider = [21 22 23 25 26 27 36 39 46 48 54 56 61]\n",
      "Short segments to combine = []\n",
      "Found 0 high degree coordinates to cut\n",
      "Skipping endnode 40 because skeletal distance was 2265.0522145642467 and threshold was 2500\n",
      "Skipping endnode 45 because skeletal distance was 937.5345662979549 and threshold was 2500\n",
      "skip_nodes = [40, 45]\n",
      "\n",
      "Attempting the doubling back check (symmetrical so don't need to check from both sides)\n"
     ]
    },
    {
     "data": {
      "application/vnd.jupyter.widget-view+json": {
       "model_id": "8ca73d0c672c4482bce2869a01f743c6",
       "version_major": 2,
       "version_minor": 0
      },
      "text/plain": [
       "HBox(children=(FloatProgress(value=0.0, max=5.0), HTML(value='')))"
      ]
     },
     "metadata": {},
     "output_type": "display_data"
    },
    {
     "name": "stdout",
     "output_type": "stream",
     "text": [
      "  Edge: [36 27]: curr_angle = 30.82\n",
      "  Edge: [27 25]: curr_angle = 50.53\n",
      "  Edge: [25 26]: curr_angle = 151.78\n",
      "  Edge: [26 56]: curr_angle = 115.28\n",
      "  Edge: [56 48]: curr_angle = 23.21\n",
      "\n",
      "Total time for doubling_back = 0.2666492462158203\n",
      "There were 2 edges that passed doubling back threshold of 80\n",
      "Winning edge [25 26] had a doubling back of 151.77857706137283\n",
      "***inside resolve crossover!!!!****\n",
      "coordinate_branches = [22, 25, 26]\n",
      "22 = red\n",
      "25 = aqua\n",
      "26 = purple\n",
      "Angle between 22 and 25 = 20.19 \n",
      "Angle between 22 and 26 = 47.22 \n",
      "Angle between 25 and 26 = 125.33 \n",
      "Final Matches = [[22, 25]]\n",
      "matched_branches_revised = [[22, 25]]\n",
      "Original graph\n"
     ]
    },
    {
     "data": {
      "image/png": "[encoded data removed]",
      "text/plain": [
       "<Figure size 432x288 with 1 Axes>"
      ]
     },
     "metadata": {},
     "output_type": "display_data"
    },
    {
     "name": "stdout",
     "output_type": "stream",
     "text": [
      "match_branches = [[22, 25]]\n",
      "edges_to_delete (resolve crossover) = [[22, 26], [25, 26]]\n",
      "edges_to_create (resolve crossover) = [[22, 25]]\n",
      "edges_to_delete (cut_limb_network) = [array([22, 26]), array([25, 26])]\n",
      "edges_to_create = [[22, 25]]\n",
      "Number of connected components = 2\n",
      "Comp 0 = {0, 1, 2, 3, 4, 5, 6, 7, 8, 9, 10, 11, 13, 14, 15, 16, 17, 18, 19, 20, 21, 22, 23, 24, 25, 27, 28, 29, 30, 31, 32, 33, 34, 35, 36, 37, 38, 39, 40, 41, 42, 43}\n",
      "Comp 1 = {12, 26, 44, 45, 46, 47, 48, 49, 50, 51, 52, 53, 54, 55, 56, 57, 58, 59, 60, 61, 62, 63, 64, 65, 66, 67, 68, 69, 70, 71, 72}\n",
      "curr_limb_copy.deleted_edges = [array([22, 26]), array([25, 26])]\n",
      "curr_limb_copy.created_edges = [[22, 25]]\n",
      "After get best cut: cut_edges = [array([22, 26]), array([25, 26])], added_edges = [[22, 25]]\n",
      "total_soma_paths_to_cut = []\n",
      "\n",
      "\n",
      "suggested_cut_points = [[1044698.02131383  552855.31683172  619724.84953974]]\n",
      "\n",
      "\n"
     ]
    },
    {
     "data": {
      "application/vnd.jupyter.widget-view+json": {
       "model_id": "778cba9a57494537bd137ae6d5446382",
       "version_major": 2,
       "version_minor": 0
      },
      "text/plain": [
       "VBox(children=(Figure(camera=PerspectiveCamera(fov=46.0, position=(0.0, 0.0, 2.0), quaternion=(0.0, 0.0, 0.0, …"
      ]
     },
     "metadata": {},
     "output_type": "display_data"
    },
    {
     "name": "stdout",
     "output_type": "stream",
     "text": [
      "-----------counter = 0------------\n",
      " Cut iteration 1\n",
      "Total number of graphs at the end of the split BEFORE DIRECTIONAL = 2\n",
      "Total number of graphs at the end of the split AFTER DIRECTIONAL = 2\n",
      "No valid path so moving onto the next connection\n",
      "Total number of graphs at the end of the split = 2: [array([ 0,  1,  2,  3,  4,  5,  6,  7,  8,  9, 10, 11, 13, 14, 15, 16, 17,\n",
      "       18, 19, 20, 21, 22, 23, 24, 25, 27, 28, 29, 30, 31, 32, 33, 34, 35,\n",
      "       36, 37, 38, 39, 40, 41, 42, 43]), array([12, 26, 44, 45, 46, 47, 48, 49, 50, 51, 52, 53, 54, 55, 56, 57, 58,\n",
      "       59, 60, 61, 62, 63, 64, 65, 66, 67, 68, 69, 70, 71, 72])]\n",
      "\n",
      "\n",
      " ------ Total time for Splitting 864691135274119397 = 43.55631899833679 ------\n",
      "\n",
      "\n",
      "----- Working on Neuron 864691135181768706-------\n",
      "Decompressing Neuron in minimal output mode...please wait\n",
      "multi_soma_limbs = []\n",
      "multi_touch_limbs = []\n",
      "\n",
      "\n",
      " ------ Total time for Splitting 864691135181768706 = 45.01134991645813 ------\n",
      "\n",
      "\n",
      "----- Working on Neuron 864691135975461443-------\n",
      "Decompressing Neuron in minimal output mode...please wait\n",
      "multi_soma_limbs = []\n",
      "multi_touch_limbs = []\n",
      "\n",
      "\n",
      " ------ Total time for Splitting 864691135975461443 = 19.154508113861084 ------\n",
      "\n",
      "\n",
      "----- Working on Neuron 864691136040980822-------\n",
      "Decompressing Neuron in minimal output mode...please wait\n",
      "multi_soma_limbs = []\n",
      "multi_touch_limbs = []\n",
      "\n",
      "\n",
      " ------ Total time for Splitting 864691136040980822 = 32.40890669822693 ------\n",
      "\n",
      "\n",
      "----- Working on Neuron 864691134964453919-------\n",
      "Decompressing Neuron in minimal output mode...please wait\n",
      "multi_soma_limbs = []\n",
      "multi_touch_limbs = []\n",
      "\n",
      "\n",
      " ------ Total time for Splitting 864691134964453919 = 52.238672971725464 ------\n",
      "\n",
      "\n",
      "----- Working on Neuron 864691135686913504-------\n",
      "Decompressing Neuron in minimal output mode...please wait\n",
      "multi_soma_limbs = []\n",
      "multi_touch_limbs = []\n",
      "\n",
      "\n",
      " ------ Total time for Splitting 864691135686913504 = 56.71027231216431 ------\n",
      "\n",
      "\n",
      "----- Working on Neuron 864691136059934344-------\n",
      "Decompressing Neuron in minimal output mode...please wait\n",
      "multi_soma_limbs = []\n",
      "multi_touch_limbs = []\n",
      "\n",
      "\n",
      " ------ Total time for Splitting 864691136059934344 = 17.790076971054077 ------\n",
      "\n",
      "\n",
      "----- Working on Neuron 864691136037941896-------\n",
      "Decompressing Neuron in minimal output mode...please wait\n",
      "multi_soma_limbs = []\n",
      "multi_touch_limbs = []\n",
      "\n",
      "\n",
      " ------ Total time for Splitting 864691136037941896 = 22.2827570438385 ------\n",
      "\n",
      "\n",
      "----- Working on Neuron 864691135476147880-------\n",
      "Decompressing Neuron in minimal output mode...please wait\n",
      "multi_soma_limbs = []\n",
      "multi_touch_limbs = []\n",
      "\n",
      "\n",
      " ------ Total time for Splitting 864691135476147880 = 3.688504457473755 ------\n",
      "\n",
      "\n",
      "----- Working on Neuron 864691135334493929-------\n",
      "Decompressing Neuron in minimal output mode...please wait\n",
      "multi_soma_limbs = []\n",
      "multi_touch_limbs = []\n",
      "\n",
      "\n",
      " ------ Total time for Splitting 864691135334493929 = 13.413995742797852 ------\n",
      "\n",
      "\n",
      "----- Working on Neuron 864691135683952567-------\n",
      "Decompressing Neuron in minimal output mode...please wait\n",
      "multi_soma_limbs = []\n",
      "multi_touch_limbs = []\n",
      "\n",
      "\n",
      " ------ Total time for Splitting 864691135683952567 = 20.77592158317566 ------\n",
      "\n",
      "\n",
      "----- Working on Neuron 864691135560487649-------\n",
      "Decompressing Neuron in minimal output mode...please wait\n",
      "multi_soma_limbs = []\n",
      "multi_touch_limbs = [1]\n",
      "\n",
      "\n",
      " -------- Working on limb 1------------\n",
      "Starting combinations to process = [[15 16]]\n",
      "\n",
      "\n",
      "---- working on disconnecting 15 and 16\n",
      "---- This disconnects S0_0 from S0_1  \n",
      " Cut iteration 0\n",
      "Total number of graphs at the end of the split BEFORE DIRECTIONAL = 1\n",
      "Total number of graphs at the end of the split AFTER DIRECTIONAL = 1\n",
      "Shortest path = [15, 12, 13, 16]\n",
      "\n",
      " --------- START OF GET BEST EDGE --------- \n",
      "curr_limb.deleted_edges=[]\n",
      "consider_path_neighbors_for_removal is set so segments_to_consider = [10 11 12 13 14]\n",
      "Short segments to combine = []\n",
      "Found 0 high degree coordinates to cut\n",
      "skip_nodes = []\n",
      "\n",
      "Attempting the doubling back check (symmetrical so don't need to check from both sides)\n"
     ]
    },
    {
     "data": {
      "application/vnd.jupyter.widget-view+json": {
       "model_id": "5630ee056be34a5f973f51c26917f6f8",
       "version_major": 2,
       "version_minor": 0
      },
      "text/plain": [
       "HBox(children=(FloatProgress(value=0.0, max=3.0), HTML(value='')))"
      ]
     },
     "metadata": {},
     "output_type": "display_data"
    },
    {
     "name": "stdout",
     "output_type": "stream",
     "text": [
      "  Edge: [15 12]: curr_angle = 32.99\n",
      "  Edge: [12 13]: curr_angle = 158.29\n",
      "  Edge: [13 16]: curr_angle = 32.33\n",
      "\n",
      "Total time for doubling_back = 0.22109198570251465\n",
      "There were 1 edges that passed doubling back threshold of 80\n",
      "Winning edge [12 13] had a doubling back of 158.28748065692497\n",
      "***inside resolve crossover!!!!****\n",
      "coordinate_branches = [11, 12, 13]\n",
      "11 = red\n",
      "12 = aqua\n",
      "13 = purple\n",
      "Angle between 11 and 12 = 28.74 \n",
      "Angle between 11 and 13 = 34.04 \n",
      "Angle between 12 and 13 = 171.58 \n",
      "Final Matches = [[11, 12], [11, 13]]\n",
      "matched_branches_revised = [[11, 12]]\n",
      "Original graph\n"
     ]
    },
    {
     "data": {
      "image/png": "[encoded data removed]",
      "text/plain": [
       "<Figure size 432x288 with 1 Axes>"
      ]
     },
     "metadata": {},
     "output_type": "display_data"
    },
    {
     "name": "stdout",
     "output_type": "stream",
     "text": [
      "match_branches = [[11, 12]]\n",
      "edges_to_delete (resolve crossover) = [[11, 13], [12, 13]]\n",
      "edges_to_create (resolve crossover) = [[11, 12]]\n",
      "edges_to_delete (cut_limb_network) = [array([11, 13]), array([12, 13])]\n",
      "edges_to_create = [[11, 12]]\n",
      "Number of connected components = 2\n",
      "Comp 0 = {0, 1, 2, 3, 4, 5, 6, 7, 8, 9, 11, 12, 14, 15}\n",
      "Comp 1 = {16, 10, 13}\n",
      "curr_limb_copy.deleted_edges = [array([11, 13]), array([12, 13])]\n",
      "curr_limb_copy.created_edges = [[11, 12]]\n",
      "After get best cut: cut_edges = [array([11, 13]), array([12, 13])], added_edges = [[11, 12]]\n",
      "total_soma_paths_to_cut = []\n",
      "\n",
      "\n",
      "suggested_cut_points = [[1108130.  777820.  665904.]]\n",
      "\n",
      "\n"
     ]
    },
    {
     "data": {
      "application/vnd.jupyter.widget-view+json": {
       "model_id": "69518f488e4b4c95baf1f481bd926e47",
       "version_major": 2,
       "version_minor": 0
      },
      "text/plain": [
       "VBox(children=(Figure(camera=PerspectiveCamera(fov=46.0, position=(0.0, 0.0, 2.0), quaternion=(0.0, 0.0, 0.0, …"
      ]
     },
     "metadata": {},
     "output_type": "display_data"
    },
    {
     "name": "stdout",
     "output_type": "stream",
     "text": [
      "-----------counter = 0------------\n",
      " Cut iteration 1\n",
      "Total number of graphs at the end of the split BEFORE DIRECTIONAL = 2\n",
      "Total number of graphs at the end of the split AFTER DIRECTIONAL = 2\n",
      "No valid path so moving onto the next connection\n",
      "Total number of graphs at the end of the split = 2: [array([ 0,  1,  2,  3,  4,  5,  6,  7,  8,  9, 11, 12, 14, 15]), array([16, 10, 13])]\n",
      "\n",
      "\n",
      " ------ Total time for Splitting 864691135560487649 = 31.654637813568115 ------\n",
      "\n",
      "\n",
      "----- Working on Neuron 864691135510810610-------\n",
      "Decompressing Neuron in minimal output mode...please wait\n",
      "multi_soma_limbs = []\n",
      "multi_touch_limbs = [0]\n",
      "\n",
      "\n",
      " -------- Working on limb 0------------\n",
      "Starting combinations to process = [[110 118]\n",
      " [110 133]\n",
      " [110 142]\n",
      " [118 133]\n",
      " [118 142]\n",
      " [133 142]]\n",
      "\n",
      "\n",
      "---- working on disconnecting 110 and 118\n",
      "---- This disconnects S0_2 from S0_1  \n",
      " Cut iteration 0\n",
      "Total number of graphs at the end of the split BEFORE DIRECTIONAL = 1\n",
      "Total number of graphs at the end of the split AFTER DIRECTIONAL = 1\n",
      "Shortest path = [110, 116, 122, 140, 109, 96, 58, 55, 40, 17, 16, 25, 50, 118]\n",
      "\n",
      " --------- START OF GET BEST EDGE --------- \n",
      "curr_limb.deleted_edges=[]\n",
      "consider_path_neighbors_for_removal is set so segments_to_consider = [  2  12  14  16  17  21  25  28  33  40  50  55  58  59  75  96 104 107\n",
      " 109 116 117 122 123 139 140 147]\n",
      "Short segments to combine = []\n",
      "Found 1 high degree coordinates to cut\n",
      "Picking [1091858.94013105  835099.26527788 1036007.16081787] high degree coordinates to cut\n",
      "curr_limb.deleted_edges 4=[]\n",
      "***inside resolve crossover!!!!****\n",
      "coordinate_branches = [12, 14, 16, 17]\n",
      "12 = red\n",
      "14 = aqua\n",
      "16 = purple\n",
      "17 = green\n",
      "Angle between 12 and 14 = 156.14 \n",
      "Angle between 12 and 16 = 22.08 \n",
      "Angle between 12 and 17 = 49.83 \n",
      "Angle between 14 and 16 = 5.37 \n",
      "Angle between 14 and 17 = 28.86 \n",
      "Angle between 16 and 17 = 146.3 \n",
      "Final Matches = [[12, 16], [14, 16], [14, 17]]\n",
      "matched_branches_revised = [[14, 16]]\n",
      "Original graph\n"
     ]
    },
    {
     "data": {
      "image/png": "[encoded data removed]",
      "text/plain": [
       "<Figure size 432x288 with 1 Axes>"
      ]
     },
     "metadata": {},
     "output_type": "display_data"
    },
    {
     "name": "stdout",
     "output_type": "stream",
     "text": [
      "match_branches = [[14, 16]]\n",
      "edges_to_delete (resolve crossover) = [[12, 14], [12, 16], [12, 17], [14, 17], [16, 17]]\n",
      "edges_to_create (resolve crossover) = [[14, 16]]\n",
      "curr_limb.deleted_edges 5 =[]\n",
      "NOT USING the resolve crossover delete edges because not help resolve the cut\n",
      "Skipping endnode 118 because skeletal distance was 538.3651653496389 and threshold was 2500\n",
      "skip_nodes = [118]\n",
      "\n",
      "Attempting the doubling back check (symmetrical so don't need to check from both sides)\n"
     ]
    },
    {
     "data": {
      "application/vnd.jupyter.widget-view+json": {
       "model_id": "eb0479cb9cdd4369851a0da397e64ec9",
       "version_major": 2,
       "version_minor": 0
      },
      "text/plain": [
       "HBox(children=(FloatProgress(value=0.0, max=12.0), HTML(value='')))"
      ]
     },
     "metadata": {},
     "output_type": "display_data"
    },
    {
     "name": "stdout",
     "output_type": "stream",
     "text": [
      "  Edge: [110 116]: curr_angle = 62.45\n",
      "  Edge: [116 122]: curr_angle = 37.78\n",
      "  Edge: [122 140]: curr_angle = 42.44\n",
      "  Edge: [140 109]: curr_angle = 103.49\n",
      "  Edge: [109  96]: curr_angle = 20.84\n",
      "  Edge: [96 58]: curr_angle = 3.47\n",
      "  Edge: [58 55]: curr_angle = 12.28\n",
      "  Edge: [55 40]: curr_angle = 20.52\n",
      "  Edge: [40 17]: curr_angle = 64.2\n",
      "  Edge: [17 16]: curr_angle = 149.94\n",
      "  Edge: [16 25]: curr_angle = 44.09\n",
      "  Edge: [25 50]: curr_angle = 10.7\n",
      "\n",
      "Total time for doubling_back = 0.8524885177612305\n",
      "There were 2 edges that passed doubling back threshold of 80\n",
      "Winning edge [17 16] had a doubling back of 149.94242342008002\n",
      "***inside resolve crossover!!!!****\n",
      "coordinate_branches = [12, 14, 16, 17]\n",
      "12 = red\n",
      "14 = aqua\n",
      "16 = purple\n",
      "17 = green\n",
      "Angle between 12 and 14 = 167.41 \n",
      "Angle between 12 and 16 = 16.76 \n",
      "Angle between 12 and 17 = 40.95 \n",
      "Angle between 14 and 16 = 13.95 \n",
      "Angle between 14 and 17 = 30.04 \n",
      "Angle between 16 and 17 = 138.85 \n",
      "Final Matches = [[12, 16], [14, 16], [14, 17]]\n",
      "matched_branches_revised = [[14, 16]]\n",
      "Original graph\n"
     ]
    },
    {
     "data": {
      "image/png": "[encoded data removed]",
      "text/plain": [
       "<Figure size 432x288 with 1 Axes>"
      ]
     },
     "metadata": {},
     "output_type": "display_data"
    },
    {
     "name": "stdout",
     "output_type": "stream",
     "text": [
      "match_branches = [[14, 16]]\n",
      "edges_to_delete (resolve crossover) = [[12, 14], [12, 16], [12, 17], [14, 17], [16, 17]]\n",
      "edges_to_create (resolve crossover) = [[14, 16]]\n",
      "edges_to_delete (cut_limb_network) = [array([12, 14]), array([12, 16]), array([12, 17]), array([14, 17]), array([16, 17])]\n",
      "edges_to_create = [[14, 16]]\n",
      "Number of connected components = 3\n",
      "Comp 0 = {0, 1, 5, 6, 7, 8, 9, 10, 11, 13, 15, 17, 18, 19, 20, 22, 23, 24, 26, 27, 28, 29, 30, 31, 33, 34, 35, 36, 37, 38, 39, 40, 41, 42, 43, 44, 45, 46, 47, 48, 49, 51, 52, 53, 54, 55, 56, 57, 58, 59, 60, 61, 62, 63, 64, 65, 66, 67, 68, 69, 70, 71, 72, 73, 74, 75, 76, 77, 78, 79, 80, 81, 82, 83, 84, 85, 86, 87, 88, 89, 90, 91, 92, 93, 94, 95, 96, 98, 99, 100, 101, 104, 105, 107, 108, 109, 110, 112, 113, 114, 115, 116, 119, 120, 121, 122, 123, 124, 125, 126, 127, 128, 129, 130, 131, 132, 133, 134, 135, 136, 137, 138, 139, 140, 141, 142, 143, 144, 145, 146, 147, 148, 149, 150, 151, 152, 153, 154, 155, 156, 157, 158, 159, 160, 161, 162, 163, 164, 165, 166, 167, 168, 169, 170, 171, 172, 173, 174, 175, 176, 177, 178, 179, 180, 181, 182, 183, 186, 187, 188, 189, 190, 191, 192, 193, 194, 195, 196, 197, 198, 199, 200, 201, 202, 203, 204, 205, 206, 207, 208, 209, 210, 211, 212, 213, 214, 215, 216, 217, 218, 219, 220, 221, 222, 223, 224, 225, 226, 227, 228, 229, 230, 231, 232, 233, 234, 235, 236, 237, 238, 239, 240, 241, 242, 243, 244, 245, 246, 247, 248, 249, 250, 251, 252, 253, 254, 255, 256, 257, 258, 259, 260, 261, 262, 263, 264, 265, 266, 267, 268, 269, 270, 271}\n",
      "Comp 1 = {12}\n",
      "Comp 2 = {32, 97, 2, 3, 4, 185, 102, 103, 106, 14, 111, 16, 50, 21, 117, 118, 184, 25}\n",
      "curr_limb_copy.deleted_edges = [array([12, 14]), array([12, 16]), array([12, 17]), array([14, 17]), array([16, 17])]\n",
      "curr_limb_copy.created_edges = [[14, 16]]\n",
      "After get best cut: cut_edges = [array([12, 14]), array([12, 16]), array([12, 17]), array([14, 17]), array([16, 17])], added_edges = [[14, 16]]\n",
      "total_soma_paths_to_cut = []\n",
      "\n",
      "\n",
      "suggested_cut_points = [[1091858.94013105  835099.26527788 1036007.16081787]]\n",
      "\n",
      "\n"
     ]
    },
    {
     "data": {
      "application/vnd.jupyter.widget-view+json": {
       "model_id": "c41247b15cb04a528dd359a5e44129fd",
       "version_major": 2,
       "version_minor": 0
      },
      "text/plain": [
       "VBox(children=(Figure(camera=PerspectiveCamera(fov=46.0, position=(0.0, 0.0, 2.0), quaternion=(0.0, 0.0, 0.0, …"
      ]
     },
     "metadata": {},
     "output_type": "display_data"
    },
    {
     "name": "stdout",
     "output_type": "stream",
     "text": [
      "-----------counter = 0------------\n",
      " Cut iteration 1\n",
      "Total number of graphs at the end of the split BEFORE DIRECTIONAL = 3\n",
      "Total number of graphs at the end of the split AFTER DIRECTIONAL = 3\n",
      "No valid path so moving onto the next connection\n",
      "\n",
      "\n",
      "---- working on disconnecting 110 and 133\n",
      "---- This disconnects S0_2 from S0_3  \n",
      " Cut iteration 0\n",
      "Total number of graphs at the end of the split BEFORE DIRECTIONAL = 3\n",
      "Total number of graphs at the end of the split AFTER DIRECTIONAL = 3\n",
      "Shortest path = [110, 116, 123, 131, 135, 144, 143, 132, 134, 137, 133]\n",
      "\n",
      " --------- START OF GET BEST EDGE --------- \n",
      "curr_limb.deleted_edges=[array([12, 14]), array([12, 16]), array([12, 17]), array([14, 17]), array([16, 17])]\n",
      "consider_path_neighbors_for_removal is set so segments_to_consider = [ 83 104 116 120 122 123 126 131 132 134 135 136 137 138 143 144 145 146\n",
      " 153]\n",
      "Short segments to combine = [143]\n",
      "\n",
      "\n",
      "-------- Removing Segments -------------\n",
      "curr_short_seg_revised = 143\n",
      "np.sum(touch_len>0) = 2\n",
      "Using average stitch point\n",
      "touching_endpoints = [[1160151.46364244  804288.46322167 1075083.47946909]\n",
      " [1160466.91365323  803508.48821534 1074862.29713018]]\n",
      "new_stitch_point = [1160309.18864783  803898.47571851 1074972.88829963]\n",
      "Angles for [132 136 144 145] are [29.2, 19.13, 17.38, 48.03]\n",
      "Branch that will absorb mesh of 143 is 144 \n",
      "curr_limb.deleted_edges 2=[array([12, 14]), array([12, 16]), array([12, 17]), array([14, 17]), array([16, 17])]\n",
      "curr_limb.deleted_edges 3=[array([12, 14]), array([12, 16]), array([12, 17]), array([14, 17]), array([16, 17])]\n",
      "Revised cut path = [110 116 123 131 135 144 132 134 137 133]\n",
      "\n",
      "-------- Done Removing Segments -------------\n",
      "\n",
      "\n",
      "Found 1 high degree coordinates to cut\n",
      "Picking [1160309.18864783  803898.47571851 1074972.88829963] high degree coordinates to cut\n",
      "curr_limb.deleted_edges 4=[array([12, 14]), array([12, 16]), array([12, 17]), array([14, 17]), array([16, 17])]\n",
      "***inside resolve crossover!!!!****\n",
      "coordinate_branches = [132, 136, 144, 145]\n",
      "132 = red\n",
      "136 = aqua\n",
      "144 = purple\n",
      "145 = green\n",
      "Angle between 132 and 136 = 137.89 \n",
      "Angle between 132 and 144 = 44.89 \n",
      "Angle between 132 and 145 = 55.48 \n",
      "Angle between 136 and 144 = 11.67 \n",
      "Angle between 136 and 145 = 64.37 \n",
      "Angle between 144 and 145 = 125.37 \n",
      "Final Matches = [[136, 144]]\n",
      "matched_branches_revised = [[136, 144]]\n",
      "Original graph\n"
     ]
    },
    {
     "data": {
      "image/png": "[encoded data removed]",
      "text/plain": [
       "<Figure size 432x288 with 1 Axes>"
      ]
     },
     "metadata": {},
     "output_type": "display_data"
    },
    {
     "name": "stdout",
     "output_type": "stream",
     "text": [
      "match_branches = [[136, 144]]\n",
      "edges_to_delete (resolve crossover) = [[132, 136], [132, 144], [132, 145], [136, 145], [144, 145]]\n",
      "edges_to_create (resolve crossover) = [[136, 144]]\n",
      "curr_limb.deleted_edges 5 =[array([12, 14]), array([12, 16]), array([12, 17]), array([14, 17]), array([16, 17])]\n",
      "NOT USING the resolve crossover delete edges because not help resolve the cut\n",
      "Skipping endnode 133 because skeletal distance was 975.1731696067975 and threshold was 2500\n",
      "skip_nodes = [133]\n",
      "\n",
      "Attempting the doubling back check (symmetrical so don't need to check from both sides)\n"
     ]
    },
    {
     "data": {
      "application/vnd.jupyter.widget-view+json": {
       "model_id": "d79fd5e7386843408bc48303d3d768a3",
       "version_major": 2,
       "version_minor": 0
      },
      "text/plain": [
       "HBox(children=(FloatProgress(value=0.0, max=8.0), HTML(value='')))"
      ]
     },
     "metadata": {},
     "output_type": "display_data"
    },
    {
     "name": "stdout",
     "output_type": "stream",
     "text": [
      "  Edge: [110 116]: curr_angle = 62.45\n",
      "  Edge: [116 123]: curr_angle = 99.94\n",
      "  Edge: [123 131]: curr_angle = 18.52\n",
      "  Edge: [131 135]: curr_angle = 9.25\n",
      "  Edge: [135 144]: curr_angle = 9.49\n",
      "  Edge: [144 132]: curr_angle = 43.34\n",
      "  Edge: [132 134]: curr_angle = 104.03\n",
      "  Edge: [134 137]: curr_angle = 42.72\n",
      "\n",
      "Total time for doubling_back = 0.6905877590179443\n",
      "There were 2 edges that passed doubling back threshold of 80\n",
      "Winning edge [132 134] had a doubling back of 104.03238949289037\n",
      "***inside resolve crossover!!!!****\n",
      "coordinate_branches = [126, 132, 134]\n",
      "126 = red\n",
      "132 = aqua\n",
      "134 = purple\n",
      "Angle between 126 and 132 = 107.86 \n",
      "Angle between 126 and 134 = 3.92 \n",
      "Angle between 132 and 134 = 68.75 \n",
      "Final Matches = [[126, 134]]\n",
      "matched_branches_revised = [[126, 134]]\n",
      "Original graph\n"
     ]
    },
    {
     "data": {
      "image/png": "[encoded data removed]",
      "text/plain": [
       "<Figure size 432x288 with 1 Axes>"
      ]
     },
     "metadata": {},
     "output_type": "display_data"
    },
    {
     "name": "stdout",
     "output_type": "stream",
     "text": [
      "match_branches = [[126, 134]]\n",
      "edges_to_delete (resolve crossover) = [[126, 132], [132, 134]]\n",
      "edges_to_create (resolve crossover) = [[126, 134]]\n",
      "edges_to_delete (cut_limb_network) = [array([126, 132]), array([132, 134])]\n",
      "edges_to_create = [[126, 134]]\n",
      "Number of connected components = 5\n",
      "Comp 0 = {0, 1, 5, 6, 7, 8, 9, 10, 11, 13, 15, 17, 18, 19, 20, 22, 23, 24, 26, 27, 28, 29, 30, 31, 33, 34, 35, 36, 37, 38, 39, 40, 41, 42, 43, 44, 45, 46, 47, 48, 49, 51, 52, 53, 54, 55, 56, 57, 58, 59, 60, 61, 62, 63, 64, 65, 66, 67, 68, 69, 70, 71, 72, 73, 74, 75, 76, 77, 78, 79, 80, 81, 82, 83, 84, 85, 86, 87, 88, 89, 90, 91, 92, 93, 94, 95, 96, 98, 99, 100, 101, 104, 105, 107, 108, 109, 110, 112, 113, 114, 115, 116, 119, 120, 121, 122, 123, 124, 125, 127, 128, 129, 130, 131, 132, 135, 136, 139, 140, 141, 142, 144, 145, 146, 147, 148, 149, 150, 151, 152, 154, 155, 156, 157, 158, 159, 160, 161, 162, 163, 164, 165, 168, 169, 170, 171, 172, 173, 174, 175, 176, 177, 178, 179, 180, 181, 182, 183, 186, 187, 188, 189, 190, 191, 192, 193, 194, 195, 196, 197, 198, 199, 200, 201, 202, 203, 204, 205, 206, 207, 208, 209, 210, 211, 212, 213, 214, 215, 216, 217, 218, 219, 220, 221, 222, 223, 224, 225, 226, 227, 228, 229, 230, 231, 232, 233, 234, 235, 236, 237, 238, 239, 240, 241, 242, 243, 244, 245, 246, 247, 248, 249, 250, 251, 252, 253, 254, 255, 256, 257, 258, 259, 260, 261, 262, 263, 264, 265, 266, 267, 268, 269, 270, 271}\n",
      "Comp 1 = {133, 134, 166, 167, 137, 138, 153, 126}\n",
      "Comp 2 = {12}\n",
      "Comp 3 = {32, 97, 2, 3, 4, 185, 102, 103, 106, 14, 111, 16, 50, 21, 117, 118, 184, 25}\n",
      "Comp 4 = {143}\n",
      "curr_limb_copy.deleted_edges = [array([12, 14]), array([12, 16]), array([12, 17]), array([14, 17]), array([16, 17]), array([126, 132]), array([132, 134])]\n",
      "curr_limb_copy.created_edges = [[14, 16], [126, 134]]\n",
      "After get best cut: cut_edges = [array([126, 132]), array([132, 134])], added_edges = [[126, 134]]\n",
      "total_soma_paths_to_cut = []\n",
      "\n",
      "\n",
      "suggested_cut_points = [[1157680.  809696. 1073160.]]\n",
      "\n",
      "\n"
     ]
    },
    {
     "data": {
      "application/vnd.jupyter.widget-view+json": {
       "model_id": "5b003a95cf0c49a58e8cdacc3c0929f8",
       "version_major": 2,
       "version_minor": 0
      },
      "text/plain": [
       "VBox(children=(Figure(camera=PerspectiveCamera(fov=46.0, position=(0.0, 0.0, 2.0), quaternion=(0.0, 0.0, 0.0, …"
      ]
     },
     "metadata": {},
     "output_type": "display_data"
    },
    {
     "name": "stdout",
     "output_type": "stream",
     "text": [
      "-----------counter = 0------------\n",
      " Cut iteration 1\n",
      "Total number of graphs at the end of the split BEFORE DIRECTIONAL = 5\n",
      "Total number of graphs at the end of the split AFTER DIRECTIONAL = 5\n",
      "No valid path so moving onto the next connection\n",
      "\n",
      "\n",
      "---- working on disconnecting 110 and 142\n",
      "---- This disconnects S0_2 from S0_0  \n",
      " Cut iteration 0\n",
      "Total number of graphs at the end of the split BEFORE DIRECTIONAL = 5\n",
      "Total number of graphs at the end of the split AFTER DIRECTIONAL = 5\n",
      "Shortest path = [110, 116, 122, 140, 147, 170, 172, 188, 193, 235, 241, 240, 234, 162, 142]\n",
      "\n",
      " --------- START OF GET BEST EDGE --------- \n",
      "curr_limb.deleted_edges=[array([12, 14]), array([12, 16]), array([12, 17]), array([14, 17]), array([16, 17]), array([126, 132]), array([132, 134])]\n",
      "consider_path_neighbors_for_removal is set so segments_to_consider = [104 108 109 116 122 123 139 140 147 150 161 162 170 172 188 189 192 193\n",
      " 232 233 234 235 236 239 240 241 245]\n",
      "Short segments to combine = [245]\n",
      "\n",
      "\n",
      "-------- Removing Segments -------------\n",
      "curr_short_seg_revised = 245\n",
      "np.sum(touch_len>0) = 2\n",
      "Using average stitch point\n",
      "touching_endpoints = [[1283851.18906319  797304.22894307  977112.36840676]\n",
      " [1284986.52201292  796880.87551332  977254.09740102]]\n",
      "new_stitch_point = [1284418.85553806  797092.55222819  977183.23290389]\n",
      "Angles for [241 240 246 247] are [53.99, 15.22, 19.76, 73.11]\n",
      "Branch that will absorb mesh of 245 is 240 \n",
      "curr_limb.deleted_edges 2=[array([12, 14]), array([12, 16]), array([12, 17]), array([14, 17]), array([16, 17]), array([126, 132]), array([132, 134])]\n",
      "curr_limb.deleted_edges 3=[array([12, 14]), array([12, 16]), array([12, 17]), array([14, 17]), array([16, 17]), array([126, 132]), array([132, 134])]\n",
      "Revised cut path = [110 116 122 140 147 170 172 188 193 235 241 240 234 162 142]\n",
      "\n",
      "-------- Done Removing Segments -------------\n",
      "\n",
      "\n",
      "Found 1 high degree coordinates to cut\n",
      "Picking [1284418.85553806  797092.55222819  977183.23290389] high degree coordinates to cut\n",
      "curr_limb.deleted_edges 4=[array([12, 14]), array([12, 16]), array([12, 17]), array([14, 17]), array([16, 17]), array([126, 132]), array([132, 134])]\n",
      "***inside resolve crossover!!!!****\n",
      "coordinate_branches = [240, 241, 246, 247]\n",
      "240 = red\n",
      "241 = aqua\n",
      "246 = purple\n",
      "247 = green\n",
      "Angle between 240 and 241 = 134.91 \n",
      "Angle between 240 and 246 = 30.04 \n",
      "Angle between 240 and 247 = 57.09 \n",
      "Angle between 241 and 246 = 53.37 \n",
      "Angle between 241 and 247 = 12.89 \n",
      "Angle between 246 and 247 = 114.12 \n",
      "Final Matches = [[240, 246], [241, 247]]\n",
      "matched_branches_revised = [[241, 247], [240, 246]]\n",
      "Original graph\n"
     ]
    },
    {
     "data": {
      "image/png": "[encoded data removed]",
      "text/plain": [
       "<Figure size 432x288 with 1 Axes>"
      ]
     },
     "metadata": {},
     "output_type": "display_data"
    },
    {
     "name": "stdout",
     "output_type": "stream",
     "text": [
      "match_branches = [[241, 247], [240, 246]]\n",
      "edges_to_delete (resolve crossover) = [[240, 241], [240, 247], [241, 246], [246, 247]]\n",
      "edges_to_create (resolve crossover) = [[241, 247], [240, 246]]\n",
      "curr_limb.deleted_edges 5 =[array([12, 14]), array([12, 16]), array([12, 17]), array([14, 17]), array([16, 17]), array([126, 132]), array([132, 134])]\n",
      "NOT USING the resolve crossover delete edges because not help resolve the cut\n",
      "skip_nodes = []\n",
      "\n",
      "Attempting the doubling back check (symmetrical so don't need to check from both sides)\n"
     ]
    },
    {
     "data": {
      "application/vnd.jupyter.widget-view+json": {
       "model_id": "5d4d82399208473e93b7e13303f613ab",
       "version_major": 2,
       "version_minor": 0
      },
      "text/plain": [
       "HBox(children=(FloatProgress(value=0.0, max=14.0), HTML(value='')))"
      ]
     },
     "metadata": {},
     "output_type": "display_data"
    },
    {
     "name": "stdout",
     "output_type": "stream",
     "text": [
      "  Edge: [110 116]: curr_angle = 62.45\n",
      "  Edge: [116 122]: curr_angle = 37.78\n",
      "  Edge: [122 140]: curr_angle = 42.44\n",
      "  Edge: [140 147]: curr_angle = 9.46\n",
      "  Edge: [147 170]: curr_angle = 2.03\n",
      "  Edge: [170 172]: curr_angle = 81.23\n",
      "  Edge: [172 188]: curr_angle = 21.05\n",
      "  Edge: [188 193]: curr_angle = 17.99\n",
      "  Edge: [193 235]: curr_angle = 37.7\n",
      "  Edge: [235 241]: curr_angle = 16.45\n",
      "  Edge: [241 240]: curr_angle = 123.04\n",
      "  Edge: [240 234]: curr_angle = 33.48\n",
      "  Edge: [234 162]: curr_angle = 24.27\n",
      "  Edge: [162 142]: curr_angle = 24.6\n",
      "\n",
      "Total time for doubling_back = 1.2949087619781494\n",
      "There were 2 edges that passed doubling back threshold of 80\n",
      "Winning edge [241 240] had a doubling back of 123.0444192048337\n",
      "***inside resolve crossover!!!!****\n",
      "coordinate_branches = [240, 241, 246, 247]\n",
      "240 = red\n",
      "241 = aqua\n",
      "246 = purple\n",
      "247 = green\n",
      "Angle between 240 and 241 = 123.56 \n",
      "Angle between 240 and 246 = 41.08 \n",
      "Angle between 240 and 247 = 42.43 \n",
      "Angle between 241 and 246 = 24.18 \n",
      "Angle between 241 and 247 = 16.34 \n",
      "Angle between 246 and 247 = 155.99 \n",
      "Final Matches = [[241, 246], [241, 247]]\n",
      "matched_branches_revised = [[241, 247]]\n",
      "Original graph\n"
     ]
    },
    {
     "data": {
      "image/png": "[encoded data removed]",
      "text/plain": [
       "<Figure size 432x288 with 1 Axes>"
      ]
     },
     "metadata": {},
     "output_type": "display_data"
    },
    {
     "name": "stdout",
     "output_type": "stream",
     "text": [
      "match_branches = [[241, 247]]\n",
      "edges_to_delete (resolve crossover) = [[240, 241], [240, 246], [240, 247], [241, 246], [246, 247]]\n",
      "edges_to_create (resolve crossover) = [[241, 247]]\n",
      "edges_to_delete (cut_limb_network) = [array([240, 241]), array([240, 246]), array([240, 247]), array([241, 246]), array([246, 247])]\n",
      "edges_to_create = [[241, 247]]\n",
      "Number of connected components = 8\n",
      "Comp 0 = {0, 1, 5, 6, 7, 8, 9, 10, 11, 13, 15, 17, 18, 19, 20, 22, 23, 24, 26, 27, 28, 29, 30, 31, 33, 34, 35, 36, 37, 38, 39, 40, 41, 42, 43, 44, 45, 46, 47, 48, 49, 51, 52, 53, 54, 55, 56, 57, 58, 59, 60, 61, 62, 63, 64, 65, 66, 67, 68, 69, 70, 71, 72, 73, 74, 75, 76, 77, 78, 79, 80, 81, 82, 83, 84, 85, 86, 87, 88, 89, 90, 91, 92, 93, 94, 95, 96, 98, 99, 100, 101, 104, 105, 107, 108, 109, 110, 112, 113, 114, 115, 116, 119, 120, 121, 122, 123, 124, 125, 127, 128, 129, 130, 131, 132, 135, 136, 139, 140, 141, 144, 145, 146, 147, 148, 149, 150, 151, 152, 154, 155, 156, 157, 158, 159, 160, 163, 164, 165, 168, 169, 170, 171, 172, 173, 174, 175, 176, 177, 180, 181, 182, 183, 186, 187, 188, 189, 190, 191, 192, 193, 194, 195, 196, 197, 198, 199, 200, 201, 202, 203, 204, 205, 206, 207, 208, 209, 210, 211, 212, 213, 214, 215, 216, 217, 218, 219, 220, 221, 222, 223, 224, 225, 226, 227, 228, 229, 230, 231, 235, 236, 239, 241, 247, 257, 258, 259, 260, 261, 262, 263, 264, 265, 266, 267, 268, 269, 270, 271}\n",
      "Comp 1 = {133, 134, 166, 167, 137, 138, 153, 126}\n",
      "Comp 2 = {12}\n",
      "Comp 3 = {32, 97, 2, 3, 4, 185, 102, 103, 106, 14, 111, 16, 50, 21, 117, 118, 184, 25}\n",
      "Comp 4 = {161, 162, 232, 233, 234, 142, 240, 178, 179}\n",
      "Comp 5 = {256, 237, 238, 242, 243, 244, 246, 248, 249, 250, 251, 252, 253, 254, 255}\n",
      "Comp 6 = {143}\n",
      "Comp 7 = {245}\n",
      "curr_limb_copy.deleted_edges = [array([12, 14]), array([12, 16]), array([12, 17]), array([14, 17]), array([16, 17]), array([126, 132]), array([132, 134]), array([240, 241]), array([240, 246]), array([240, 247]), array([241, 246]), array([246, 247])]\n",
      "curr_limb_copy.created_edges = [[14, 16], [126, 134], [241, 247]]\n",
      "After get best cut: cut_edges = [array([240, 241]), array([240, 246]), array([240, 247]), array([241, 246]), array([246, 247])], added_edges = [[241, 247]]\n",
      "total_soma_paths_to_cut = []\n",
      "\n",
      "\n",
      "suggested_cut_points = [[1284418.85553806  797092.55222819  977183.23290389]]\n",
      "\n",
      "\n"
     ]
    },
    {
     "data": {
      "application/vnd.jupyter.widget-view+json": {
       "model_id": "963121328c1648829f821c65d9b60b59",
       "version_major": 2,
       "version_minor": 0
      },
      "text/plain": [
       "VBox(children=(Figure(camera=PerspectiveCamera(fov=46.0, position=(0.0, 0.0, 2.0), quaternion=(0.0, 0.0, 0.0, …"
      ]
     },
     "metadata": {},
     "output_type": "display_data"
    },
    {
     "name": "stdout",
     "output_type": "stream",
     "text": [
      "-----------counter = 0------------\n",
      " Cut iteration 1\n",
      "Total number of graphs at the end of the split BEFORE DIRECTIONAL = 8\n",
      "Total number of graphs at the end of the split AFTER DIRECTIONAL = 8\n",
      "No valid path so moving onto the next connection\n",
      "\n",
      "\n",
      "---- working on disconnecting 118 and 133\n",
      "---- This disconnects S0_1 from S0_3  \n",
      " Cut iteration 0\n",
      "Total number of graphs at the end of the split BEFORE DIRECTIONAL = 8\n",
      "Total number of graphs at the end of the split AFTER DIRECTIONAL = 8\n",
      "No valid path so moving onto the next connection\n",
      "\n",
      "\n",
      "---- working on disconnecting 118 and 142\n",
      "---- This disconnects S0_1 from S0_0  \n",
      " Cut iteration 0\n",
      "Total number of graphs at the end of the split BEFORE DIRECTIONAL = 8\n",
      "Total number of graphs at the end of the split AFTER DIRECTIONAL = 8\n",
      "No valid path so moving onto the next connection\n",
      "\n",
      "\n",
      "---- working on disconnecting 133 and 142\n",
      "---- This disconnects S0_3 from S0_0  \n",
      " Cut iteration 0\n",
      "Total number of graphs at the end of the split BEFORE DIRECTIONAL = 8\n",
      "Total number of graphs at the end of the split AFTER DIRECTIONAL = 8\n",
      "No valid path so moving onto the next connection\n",
      "Total number of graphs at the end of the split = 8: [array([  0,   1,   5,   6,   7,   8,   9,  10,  11,  13,  15,  17,  18,\n",
      "        19,  20,  22,  23,  24,  26,  27,  28,  29,  30,  31,  33,  34,\n",
      "        35,  36,  37,  38,  39,  40,  41,  42,  43,  44,  45,  46,  47,\n",
      "        48,  49,  51,  52,  53,  54,  55,  56,  57,  58,  59,  60,  61,\n",
      "        62,  63,  64,  65,  66,  67,  68,  69,  70,  71,  72,  73,  74,\n",
      "        75,  76,  77,  78,  79,  80,  81,  82,  83,  84,  85,  86,  87,\n",
      "        88,  89,  90,  91,  92,  93,  94,  95,  96,  98,  99, 100, 101,\n",
      "       104, 105, 107, 108, 109, 110, 112, 113, 114, 115, 116, 119, 120,\n",
      "       121, 122, 123, 124, 125, 127, 128, 129, 130, 131, 132, 135, 136,\n",
      "       139, 140, 141, 144, 145, 146, 147, 148, 149, 150, 151, 152, 154,\n",
      "       155, 156, 157, 158, 159, 160, 163, 164, 165, 168, 169, 170, 171,\n",
      "       172, 173, 174, 175, 176, 177, 180, 181, 182, 183, 186, 187, 188,\n",
      "       189, 190, 191, 192, 193, 194, 195, 196, 197, 198, 199, 200, 201,\n",
      "       202, 203, 204, 205, 206, 207, 208, 209, 210, 211, 212, 213, 214,\n",
      "       215, 216, 217, 218, 219, 220, 221, 222, 223, 224, 225, 226, 227,\n",
      "       228, 229, 230, 231, 235, 236, 239, 241, 247, 257, 258, 259, 260,\n",
      "       261, 262, 263, 264, 265, 266, 267, 268, 269, 270, 271]), array([133, 134, 166, 167, 137, 138, 153, 126]), array([12]), array([ 32,  97,   2,   3,   4, 185, 102, 103, 106,  14, 111,  16,  50,\n",
      "        21, 117, 118, 184,  25]), array([161, 162, 232, 233, 234, 142, 240, 178, 179]), array([256, 237, 238, 242, 243, 244, 246, 248, 249, 250, 251, 252, 253,\n",
      "       254, 255]), array([143]), array([245])]\n",
      "\n",
      "\n",
      " ------ Total time for Splitting 864691135510810610 = 1060.102852344513 ------\n",
      "\n",
      "\n",
      "----- Working on Neuron 864691136143367732-------\n",
      "Decompressing Neuron in minimal output mode...please wait\n",
      "multi_soma_limbs = []\n",
      "multi_touch_limbs = []\n",
      "\n",
      "\n",
      " ------ Total time for Splitting 864691136143367732 = 64.96840977668762 ------\n",
      "\n",
      "\n",
      "----- Working on Neuron 864691135686907360-------\n",
      "Decompressing Neuron in minimal output mode...please wait\n",
      "multi_soma_limbs = []\n",
      "multi_touch_limbs = []\n",
      "\n",
      "\n",
      " ------ Total time for Splitting 864691135686907360 = 8.231185674667358 ------\n",
      "\n",
      "\n",
      "----- Working on Neuron 864691135012380662-------\n",
      "Decompressing Neuron in minimal output mode...please wait\n",
      "multi_soma_limbs = []\n",
      "multi_touch_limbs = []\n",
      "\n",
      "\n",
      " ------ Total time for Splitting 864691135012380662 = 22.89407777786255 ------\n",
      "\n",
      "\n",
      "----- Working on Neuron 864691135337729510-------\n",
      "Decompressing Neuron in minimal output mode...please wait\n",
      "multi_soma_limbs = []\n",
      "multi_touch_limbs = []\n",
      "\n",
      "\n",
      " ------ Total time for Splitting 864691135337729510 = 11.447399377822876 ------\n",
      "\n",
      "\n",
      "----- Working on Neuron 864691135999179466-------\n",
      "Decompressing Neuron in minimal output mode...please wait\n",
      "multi_soma_limbs = []\n",
      "multi_touch_limbs = []\n",
      "\n",
      "\n",
      " ------ Total time for Splitting 864691135999179466 = 17.525469064712524 ------\n",
      "\n",
      "\n",
      "----- Working on Neuron 864691135467566476-------\n",
      "Decompressing Neuron in minimal output mode...please wait\n",
      "multi_soma_limbs = []\n",
      "multi_touch_limbs = []\n",
      "\n",
      "\n",
      " ------ Total time for Splitting 864691135467566476 = 23.777790307998657 ------\n",
      "\n",
      "\n",
      "----- Working on Neuron 864691135518395122-------\n",
      "Decompressing Neuron in minimal output mode...please wait\n",
      "multi_soma_limbs = []\n",
      "multi_touch_limbs = [1]\n",
      "\n",
      "\n",
      " -------- Working on limb 1------------\n",
      "Starting combinations to process = [[11 16]]\n",
      "\n",
      "\n",
      "---- working on disconnecting 11 and 16\n",
      "---- This disconnects S0_1 from S0_0  \n",
      " Cut iteration 0\n",
      "Total number of graphs at the end of the split BEFORE DIRECTIONAL = 1\n",
      "Total number of graphs at the end of the split AFTER DIRECTIONAL = 1\n",
      "Shortest path = [11, 12, 14, 15, 20, 28, 17, 16]\n",
      "\n",
      " --------- START OF GET BEST EDGE --------- \n",
      "curr_limb.deleted_edges=[]\n",
      "consider_path_neighbors_for_removal is set so segments_to_consider = [ 5  9 10 12 13 14 15 17 18 19 20 27 28 29]\n",
      "Short segments to combine = []\n",
      "Found 1 high degree coordinates to cut\n",
      "Picking [1347875.   419988.   689703.5] high degree coordinates to cut\n",
      "curr_limb.deleted_edges 4=[]\n",
      "***inside resolve crossover!!!!****\n",
      "coordinate_branches = [9, 10, 11, 12]\n",
      "9 = red\n",
      "10 = aqua\n",
      "11 = purple\n",
      "12 = green\n",
      "Angle between 9 and 10 = 152.27 \n",
      "Angle between 9 and 11 = 116.49 \n",
      "Angle between 9 and 12 = 98.47 \n",
      "Angle between 10 and 11 = 123.22 \n",
      "Angle between 10 and 12 = 86.74 \n",
      "Angle between 11 and 12 = 133.28 \n",
      "Final Matches = []\n",
      "matched_branches_revised = []\n",
      "Original graph\n"
     ]
    },
    {
     "data": {
      "image/png": "[encoded data removed]",
      "text/plain": [
       "<Figure size 432x288 with 1 Axes>"
      ]
     },
     "metadata": {},
     "output_type": "display_data"
    },
    {
     "name": "stdout",
     "output_type": "stream",
     "text": [
      "match_branches = []\n",
      "edges_to_delete (resolve crossover) = [[9, 10], [9, 11], [9, 12], [10, 11], [10, 12], [11, 12]]\n",
      "edges_to_create (resolve crossover) = []\n",
      "curr_limb.deleted_edges 5 =[]\n",
      "NOT USING the resolve crossover delete edges because not help resolve the cut\n",
      "Skipping endnode 11 because skeletal distance was 469.6778333207748 and threshold was 2500\n",
      "skip_nodes = [11]\n",
      "\n",
      "Attempting the doubling back check (symmetrical so don't need to check from both sides)\n"
     ]
    },
    {
     "data": {
      "application/vnd.jupyter.widget-view+json": {
       "model_id": "43921167d2be4175897c1ef2be7331d8",
       "version_major": 2,
       "version_minor": 0
      },
      "text/plain": [
       "HBox(children=(FloatProgress(value=0.0, max=6.0), HTML(value='')))"
      ]
     },
     "metadata": {},
     "output_type": "display_data"
    },
    {
     "name": "stdout",
     "output_type": "stream",
     "text": [
      "  Edge: [12 14]: curr_angle = 14.13\n",
      "  Edge: [14 15]: curr_angle = 18.25\n",
      "  Edge: [15 20]: curr_angle = 64.74\n",
      "  Edge: [20 28]: curr_angle = 116.97\n",
      "  Edge: [28 17]: curr_angle = 111.4\n",
      "  Edge: [17 16]: curr_angle = 36.14\n",
      "\n",
      "Total time for doubling_back = 0.21983695030212402\n",
      "There were 2 edges that passed doubling back threshold of 80\n",
      "Winning edge [20 28] had a doubling back of 116.97352424706898\n",
      "***inside resolve crossover!!!!****\n",
      "coordinate_branches = [20, 28, 29]\n",
      "20 = red\n",
      "28 = aqua\n",
      "29 = purple\n",
      "Angle between 20 and 28 = 104.44 \n",
      "Angle between 20 and 29 = 10.07 \n",
      "Angle between 28 and 29 = 76.69 \n",
      "Final Matches = [[20, 29]]\n",
      "matched_branches_revised = [[20, 29]]\n",
      "Original graph\n"
     ]
    },
    {
     "data": {
      "image/png": "[encoded data removed]",
      "text/plain": [
       "<Figure size 432x288 with 1 Axes>"
      ]
     },
     "metadata": {},
     "output_type": "display_data"
    },
    {
     "name": "stdout",
     "output_type": "stream",
     "text": [
      "match_branches = [[20, 29]]\n",
      "edges_to_delete (resolve crossover) = [[20, 28], [28, 29]]\n",
      "edges_to_create (resolve crossover) = [[20, 29]]\n",
      "edges_to_delete (cut_limb_network) = [array([20, 28]), array([28, 29])]\n",
      "edges_to_create = [[20, 29]]\n",
      "Number of connected components = 2\n",
      "Comp 0 = {16, 17, 18, 21, 22, 23, 24, 25, 26, 27, 28}\n",
      "Comp 1 = {0, 1, 2, 3, 4, 5, 6, 7, 8, 9, 10, 11, 12, 13, 14, 15, 19, 20, 29}\n",
      "curr_limb_copy.deleted_edges = [array([20, 28]), array([28, 29])]\n",
      "curr_limb_copy.created_edges = [[20, 29]]\n",
      "After get best cut: cut_edges = [array([20, 28]), array([28, 29])], added_edges = [[20, 29]]\n",
      "total_soma_paths_to_cut = []\n",
      "\n",
      "\n",
      "suggested_cut_points = [[1376910.  408967.  680502.]]\n",
      "\n",
      "\n"
     ]
    },
    {
     "data": {
      "application/vnd.jupyter.widget-view+json": {
       "model_id": "7703cf17981f4310a79d7e4031ffb788",
       "version_major": 2,
       "version_minor": 0
      },
      "text/plain": [
       "VBox(children=(Figure(camera=PerspectiveCamera(fov=46.0, position=(0.0, 0.0, 2.0), quaternion=(0.0, 0.0, 0.0, …"
      ]
     },
     "metadata": {},
     "output_type": "display_data"
    },
    {
     "name": "stdout",
     "output_type": "stream",
     "text": [
      "-----------counter = 0------------\n",
      " Cut iteration 1\n",
      "Total number of graphs at the end of the split BEFORE DIRECTIONAL = 2\n",
      "Total number of graphs at the end of the split AFTER DIRECTIONAL = 2\n",
      "No valid path so moving onto the next connection\n",
      "Total number of graphs at the end of the split = 2: [array([16, 17, 18, 21, 22, 23, 24, 25, 26, 27, 28]), array([ 0,  1,  2,  3,  4,  5,  6,  7,  8,  9, 10, 11, 12, 13, 14, 15, 19,\n",
      "       20, 29])]\n",
      "\n",
      "\n",
      " ------ Total time for Splitting 864691135518395122 = 42.64833950996399 ------\n",
      "\n",
      "\n",
      "----- Working on Neuron 864691135099874336-------\n",
      "Decompressing Neuron in minimal output mode...please wait\n",
      "multi_soma_limbs = []\n",
      "multi_touch_limbs = []\n",
      "\n",
      "\n",
      " ------ Total time for Splitting 864691135099874336 = 33.989386320114136 ------\n",
      "\n",
      "\n",
      "----- Working on Neuron 864691135945454116-------\n",
      "Decompressing Neuron in minimal output mode...please wait\n",
      "multi_soma_limbs = []\n",
      "multi_touch_limbs = [0]\n",
      "\n",
      "\n",
      " -------- Working on limb 0------------\n",
      "Starting combinations to process = [[53 65]]\n",
      "\n",
      "\n",
      "---- working on disconnecting 53 and 65\n",
      "---- This disconnects S0_1 from S0_0  \n",
      " Cut iteration 0\n",
      "Total number of graphs at the end of the split BEFORE DIRECTIONAL = 1\n",
      "Total number of graphs at the end of the split AFTER DIRECTIONAL = 1\n",
      "Shortest path = [53, 54, 56, 107, 98, 75, 65]\n",
      "\n",
      " --------- START OF GET BEST EDGE --------- \n",
      "curr_limb.deleted_edges=[]\n",
      "consider_path_neighbors_for_removal is set so segments_to_consider = [ 50  54  56  57  63  75  92  98 107 108 109]\n",
      "Short segments to combine = [107]\n",
      "\n",
      "\n",
      "-------- Removing Segments -------------\n",
      "curr_short_seg_revised = 107\n",
      "np.sum(touch_len>0) = 2\n",
      "Using average stitch point\n",
      "touching_endpoints = [[1344050.          540255.         1061730.        ]\n",
      " [1344394.84749123  539610.66938253 1062611.54002569]]\n",
      "new_stitch_point = [1344222.42374562  539932.83469126 1062170.77001285]\n",
      "Angles for [ 98. 108.  56. 109.] are [80.62, 89.6, 112.38, 89.39]\n",
      "Branch that will absorb mesh of 107 is 98.0 \n",
      "curr_limb.deleted_edges 2=[]\n",
      "curr_limb.deleted_edges 3=[]\n",
      "Revised cut path = [53 54 56 98 75 65]\n",
      "\n",
      "-------- Done Removing Segments -------------\n",
      "\n",
      "\n",
      "Found 1 high degree coordinates to cut\n",
      "Picking [1344222.42374562  539932.83469126 1062170.77001285] high degree coordinates to cut\n",
      "curr_limb.deleted_edges 4=[]\n",
      "***inside resolve crossover!!!!****\n",
      "coordinate_branches = [56, 98, 108, 109]\n",
      "56 = red\n",
      "98 = aqua\n",
      "108 = purple\n",
      "109 = green\n",
      "Angle between 56 and 98 = 94.32 \n",
      "Angle between 56 and 108 = 91.06 \n",
      "Angle between 56 and 109 = 28.38 \n",
      "Angle between 98 and 108 = 9.07 \n",
      "Angle between 98 and 109 = 76.73 \n",
      "Angle between 108 and 109 = 101.7 \n",
      "Final Matches = [[56, 109], [98, 108]]\n",
      "matched_branches_revised = [[98, 108], [56, 109]]\n",
      "Original graph\n"
     ]
    },
    {
     "data": {
      "image/png": "[encoded data removed]",
      "text/plain": [
       "<Figure size 432x288 with 1 Axes>"
      ]
     },
     "metadata": {},
     "output_type": "display_data"
    },
    {
     "name": "stdout",
     "output_type": "stream",
     "text": [
      "match_branches = [[98, 108], [56, 109]]\n",
      "edges_to_delete (resolve crossover) = [[56, 98], [56, 108], [98, 109], [108, 109]]\n",
      "edges_to_create (resolve crossover) = [[98, 108], [56, 109]]\n",
      "curr_limb.deleted_edges 5 =[]\n",
      "NOT USING the resolve crossover delete edges because not help resolve the cut\n",
      "skip_nodes = []\n",
      "\n",
      "Attempting the doubling back check (symmetrical so don't need to check from both sides)\n"
     ]
    },
    {
     "data": {
      "application/vnd.jupyter.widget-view+json": {
       "model_id": "201d0254878e41e08298c7ba8fa70cf3",
       "version_major": 2,
       "version_minor": 0
      },
      "text/plain": [
       "HBox(children=(FloatProgress(value=0.0, max=5.0), HTML(value='')))"
      ]
     },
     "metadata": {},
     "output_type": "display_data"
    },
    {
     "name": "stdout",
     "output_type": "stream",
     "text": [
      "  Edge: [53 54]: curr_angle = 114.59\n",
      "  Edge: [54 56]: curr_angle = 96.88\n",
      "  Edge: [56 98]: curr_angle = 104.34\n",
      "  Edge: [98 75]: curr_angle = 76.96\n",
      "  Edge: [75 65]: curr_angle = 33.5\n",
      "\n",
      "Total time for doubling_back = 0.5064225196838379\n",
      "There were 3 edges that passed doubling back threshold of 80\n",
      "Winning edge [53 54] had a doubling back of 114.587122041606\n",
      "***inside resolve crossover!!!!****\n",
      "coordinate_branches = [50, 53, 54]\n",
      "50 = red\n",
      "53 = aqua\n",
      "54 = purple\n",
      "Angle between 50 and 53 = 12.68 \n",
      "Angle between 50 and 54 = 59.99 \n",
      "Angle between 53 and 54 = 110.76 \n",
      "Final Matches = [[50, 53]]\n",
      "matched_branches_revised = [[50, 53]]\n",
      "Original graph\n"
     ]
    },
    {
     "data": {
      "image/png": "[encoded data removed]",
      "text/plain": [
       "<Figure size 432x288 with 1 Axes>"
      ]
     },
     "metadata": {},
     "output_type": "display_data"
    },
    {
     "name": "stdout",
     "output_type": "stream",
     "text": [
      "match_branches = [[50, 53]]\n",
      "edges_to_delete (resolve crossover) = [[50, 54], [53, 54]]\n",
      "edges_to_create (resolve crossover) = [[50, 53]]\n",
      "edges_to_delete (cut_limb_network) = [array([50, 54]), array([53, 54])]\n",
      "edges_to_create = [[50, 53]]\n",
      "Number of connected components = 3\n",
      "Comp 0 = {54, 56, 57, 58, 59, 63, 64, 65, 73, 74, 75, 77, 78, 79, 80, 81, 82, 83, 84, 85, 89, 90, 91, 92, 93, 94, 95, 96, 97, 98, 99, 100, 101, 102, 103, 104, 106, 108, 109}\n",
      "Comp 1 = {0, 1, 2, 3, 4, 5, 6, 7, 8, 9, 10, 11, 12, 13, 14, 15, 16, 17, 18, 19, 20, 21, 22, 23, 24, 25, 26, 27, 28, 29, 30, 31, 32, 33, 34, 35, 36, 37, 38, 39, 40, 41, 42, 43, 44.0, 45, 46, 47, 48, 49, 50, 51, 52, 53, 55, 60, 61, 62, 66, 67, 68, 69, 70, 71, 72, 76, 86, 87, 88, 105, 110, 111, 112, 113, 114, 115, 116, 117, 118, 119, 120, 121, 122}\n",
      "Comp 2 = {107}\n",
      "curr_limb_copy.deleted_edges = [array([50, 54]), array([53, 54])]\n",
      "curr_limb_copy.created_edges = [[50, 53]]\n",
      "After get best cut: cut_edges = [array([50, 54]), array([53, 54])], added_edges = [[50, 53]]\n",
      "total_soma_paths_to_cut = []\n",
      "\n",
      "\n",
      "suggested_cut_points = [[1312180.  576709. 1085760.]]\n",
      "\n",
      "\n"
     ]
    },
    {
     "data": {
      "application/vnd.jupyter.widget-view+json": {
       "model_id": "d44c60b8a4b241ccbd7cb63d72de1d15",
       "version_major": 2,
       "version_minor": 0
      },
      "text/plain": [
       "VBox(children=(Figure(camera=PerspectiveCamera(fov=46.0, position=(0.0, 0.0, 2.0), quaternion=(0.0, 0.0, 0.0, …"
      ]
     },
     "metadata": {},
     "output_type": "display_data"
    },
    {
     "name": "stdout",
     "output_type": "stream",
     "text": [
      "-----------counter = 0------------\n",
      " Cut iteration 1\n",
      "Total number of graphs at the end of the split BEFORE DIRECTIONAL = 3\n",
      "Total number of graphs at the end of the split AFTER DIRECTIONAL = 3\n",
      "No valid path so moving onto the next connection\n",
      "Total number of graphs at the end of the split = 3: [array([ 54,  56,  57,  58,  59,  63,  64,  65,  73,  74,  75,  77,  78,\n",
      "        79,  80,  81,  82,  83,  84,  85,  89,  90,  91,  92,  93,  94,\n",
      "        95,  96,  97,  98,  99, 100, 101, 102, 103, 104, 106, 108, 109]), array([  0.,   1.,   2.,   3.,   4.,   5.,   6.,   7.,   8.,   9.,  10.,\n",
      "        11.,  12.,  13.,  14.,  15.,  16.,  17.,  18.,  19.,  20.,  21.,\n",
      "        22.,  23.,  24.,  25.,  26.,  27.,  28.,  29.,  30.,  31.,  32.,\n",
      "        33.,  34.,  35.,  36.,  37.,  38.,  39.,  40.,  41.,  42.,  43.,\n",
      "        44.,  45.,  46.,  47.,  48.,  49.,  50.,  51.,  52.,  53.,  55.,\n",
      "        60.,  61.,  62.,  66.,  67.,  68.,  69.,  70.,  71.,  72.,  76.,\n",
      "        86.,  87.,  88., 105., 110., 111., 112., 113., 114., 115., 116.,\n",
      "       117., 118., 119., 120., 121., 122.]), array([107])]\n",
      "\n",
      "\n",
      " ------ Total time for Splitting 864691135945454116 = 165.08486557006836 ------\n",
      "\n",
      "\n",
      "----- Working on Neuron 864691135474658368-------\n",
      "Decompressing Neuron in minimal output mode...please wait\n",
      "multi_soma_limbs = [1]\n",
      "multi_touch_limbs = [3]\n",
      "\n",
      "\n",
      " -------- Working on limb 1------------\n",
      "Starting combinations to process = [[ 5 10]]\n",
      "\n",
      "\n",
      "---- working on disconnecting 5 and 10\n",
      "---- This disconnects S1_0 from S0_0  \n",
      " Cut iteration 0\n",
      "Total number of graphs at the end of the split BEFORE DIRECTIONAL = 1\n",
      "Total number of graphs at the end of the split AFTER DIRECTIONAL = 1\n",
      "Shortest path = [5, 6, 9, 14, 17, 13, 11, 10]\n",
      "\n",
      " --------- START OF GET BEST EDGE --------- \n",
      "curr_limb.deleted_edges=[]\n",
      "consider_path_neighbors_for_removal is set so segments_to_consider = [ 4  6  7  8  9 11 12 13 14 17 18 19 22 23]\n",
      "Short segments to combine = []\n",
      "Found 1 high degree coordinates to cut\n",
      "Picking [1388770.  636665.  890654.] high degree coordinates to cut\n",
      "curr_limb.deleted_edges 4=[]\n",
      "***inside resolve crossover!!!!****\n",
      "coordinate_branches = [9, 14, 22, 23]\n",
      "9 = red\n",
      "14 = aqua\n",
      "22 = purple\n",
      "23 = green\n",
      "Angle between 9 and 14 = 114.41 \n",
      "Angle between 9 and 22 = 90.58 \n",
      "Angle between 9 and 23 = 12.42 \n",
      "Angle between 14 and 22 = 31.22 \n",
      "Angle between 14 and 23 = 59.42 \n",
      "Angle between 22 and 23 = 99.15 \n",
      "Final Matches = [[9, 23], [14, 22]]\n",
      "matched_branches_revised = [[9, 23], [14, 22]]\n",
      "Original graph\n"
     ]
    },
    {
     "data": {
      "image/png": "[encoded data removed]",
      "text/plain": [
       "<Figure size 432x288 with 1 Axes>"
      ]
     },
     "metadata": {},
     "output_type": "display_data"
    },
    {
     "name": "stdout",
     "output_type": "stream",
     "text": [
      "match_branches = [[9, 23], [14, 22]]\n",
      "edges_to_delete (resolve crossover) = [[9, 14], [9, 22], [14, 23], [22, 23]]\n",
      "edges_to_create (resolve crossover) = [[9, 23], [14, 22]]\n",
      "curr_limb.deleted_edges 5 =[]\n",
      "NOT USING the resolve crossover delete edges because not help resolve the cut\n",
      "skip_nodes = []\n",
      "\n",
      "Attempting the doubling back check (symmetrical so don't need to check from both sides)\n"
     ]
    },
    {
     "data": {
      "application/vnd.jupyter.widget-view+json": {
       "model_id": "6fb153dbe28c4b7192937a89e17dcb7f",
       "version_major": 2,
       "version_minor": 0
      },
      "text/plain": [
       "HBox(children=(FloatProgress(value=0.0, max=7.0), HTML(value='')))"
      ]
     },
     "metadata": {},
     "output_type": "display_data"
    },
    {
     "name": "stdout",
     "output_type": "stream",
     "text": [
      "  Edge: [5 6]: curr_angle = 41.33\n",
      "  Edge: [6 9]: curr_angle = 56.06\n",
      "  Edge: [ 9 14]: curr_angle = 95.25\n",
      "  Edge: [14 17]: curr_angle = 43.06\n",
      "  Edge: [17 13]: curr_angle = 26.19\n",
      "  Edge: [13 11]: curr_angle = 38.31\n",
      "  Edge: [11 10]: curr_angle = 10.43\n",
      "\n",
      "Total time for doubling_back = 0.5568835735321045\n",
      "There were 1 edges that passed doubling back threshold of 80\n",
      "Winning edge [ 9 14] had a doubling back of 95.25137200184814\n",
      "***inside resolve crossover!!!!****\n",
      "coordinate_branches = [9, 14, 22, 23]\n",
      "9 = red\n",
      "14 = aqua\n",
      "22 = purple\n",
      "23 = green\n",
      "Angle between 9 and 14 = 114.31 \n",
      "Angle between 9 and 22 = 73.91 \n",
      "Angle between 9 and 23 = 9.29 \n",
      "Angle between 14 and 22 = 16.3 \n",
      "Angle between 14 and 23 = 58.35 \n",
      "Angle between 22 and 23 = 114.71 \n",
      "Final Matches = [[9, 23], [14, 22]]\n",
      "matched_branches_revised = [[9, 23], [14, 22]]\n",
      "Original graph\n"
     ]
    },
    {
     "data": {
      "image/png": "[encoded data removed]",
      "text/plain": [
       "<Figure size 432x288 with 1 Axes>"
      ]
     },
     "metadata": {},
     "output_type": "display_data"
    },
    {
     "name": "stdout",
     "output_type": "stream",
     "text": [
      "match_branches = [[9, 23], [14, 22]]\n",
      "edges_to_delete (resolve crossover) = [[9, 14], [9, 22], [14, 23], [22, 23]]\n",
      "edges_to_create (resolve crossover) = [[9, 23], [14, 22]]\n",
      "edges_to_delete (cut_limb_network) = [array([ 9, 14]), array([ 9, 22]), array([14, 23]), array([22, 23])]\n",
      "edges_to_create = [[9, 23], [14, 22]]\n",
      "Number of connected components = 2\n",
      "Comp 0 = {0, 1, 2, 3, 4, 5, 6, 8, 9, 15, 16, 23}\n",
      "Comp 1 = {7, 10, 11, 12, 13, 14, 17, 18, 19, 20, 21, 22}\n",
      "curr_limb_copy.deleted_edges = [array([ 9, 14]), array([ 9, 22]), array([14, 23]), array([22, 23])]\n",
      "curr_limb_copy.created_edges = [[9, 23], [14, 22]]\n",
      "After get best cut: cut_edges = [array([ 9, 14]), array([ 9, 22]), array([14, 23]), array([22, 23])], added_edges = [[9, 23], [14, 22]]\n",
      "total_soma_paths_to_cut = []\n",
      "\n",
      "\n",
      "suggested_cut_points = [[1388770.  636665.  890654.]]\n",
      "\n",
      "\n"
     ]
    },
    {
     "data": {
      "application/vnd.jupyter.widget-view+json": {
       "model_id": "a58413ff4cd4447894338a3ea19cac53",
       "version_major": 2,
       "version_minor": 0
      },
      "text/plain": [
       "VBox(children=(Figure(camera=PerspectiveCamera(fov=46.0, position=(0.0, 0.0, 2.0), quaternion=(0.0, 0.0, 0.0, …"
      ]
     },
     "metadata": {},
     "output_type": "display_data"
    },
    {
     "name": "stdout",
     "output_type": "stream",
     "text": [
      "-----------counter = 0------------\n",
      " Cut iteration 1\n",
      "Total number of graphs at the end of the split BEFORE DIRECTIONAL = 2\n",
      "Total number of graphs at the end of the split AFTER DIRECTIONAL = 2\n",
      "No valid path so moving onto the next connection\n",
      "Total number of graphs at the end of the split = 2: [array([ 0,  1,  2,  3,  4,  5,  6,  8,  9, 15, 16, 23]), array([ 7, 10, 11, 12, 13, 14, 17, 18, 19, 20, 21, 22])]\n",
      "\n",
      "\n",
      " -------- Working on limb 3------------\n",
      "Starting combinations to process = [[10 12]]\n",
      "\n",
      "\n",
      "---- working on disconnecting 10 and 12\n",
      "---- This disconnects S0_1 from S0_0  \n",
      " Cut iteration 0\n",
      "Total number of graphs at the end of the split BEFORE DIRECTIONAL = 1\n",
      "Total number of graphs at the end of the split AFTER DIRECTIONAL = 1\n",
      "Shortest path = [10, 9, 8, 11, 12]\n",
      "\n",
      " --------- START OF GET BEST EDGE --------- \n",
      "curr_limb.deleted_edges=[]\n",
      "consider_path_neighbors_for_removal is set so segments_to_consider = [ 0  2  3  7  8  9 11]\n",
      "Short segments to combine = [7]\n",
      "\n",
      "\n",
      "-------- Removing Segments -------------\n",
      "curr_short_seg_revised = 7\n",
      "np.sum(touch_len>0) = 2\n",
      "Using average stitch point\n",
      "touching_endpoints = [[1319186.52640387  616958.45877592  702603.5774168 ]\n",
      " [1319630.          617481.          703518.        ]]\n",
      "new_stitch_point = [1319408.26320193  617219.72938796  703060.7887084 ]\n",
      "Angles for [5 6 8 9] are [31.6, 46.63, 25.6, 56.43]\n",
      "Branch that will absorb mesh of 7 is 8 \n",
      "curr_limb.deleted_edges 2=[]\n",
      "curr_limb.deleted_edges 3=[]\n",
      "Revised cut path = [10  9  8 11 12]\n",
      "\n",
      "-------- Done Removing Segments -------------\n",
      "\n",
      "\n",
      "Found 1 high degree coordinates to cut\n",
      "Picking [1319408.26320193  617219.72938796  703060.7887084 ] high degree coordinates to cut\n",
      "curr_limb.deleted_edges 4=[]\n",
      "***inside resolve crossover!!!!****\n",
      "coordinate_branches = [5, 6, 8, 9]\n",
      "5 = red\n",
      "6 = aqua\n",
      "8 = purple\n",
      "9 = green\n",
      "Angle between 5 and 6 = 125.12 \n",
      "Angle between 5 and 8 = 38.32 \n",
      "Angle between 5 and 9 = 22.17 \n",
      "Angle between 6 and 8 = 19.61 \n",
      "Angle between 6 and 9 = 65.9 \n",
      "Angle between 8 and 9 = 125.53 \n",
      "Final Matches = [[5, 9], [6, 8]]\n",
      "matched_branches_revised = [[6, 8], [5, 9]]\n",
      "Original graph\n"
     ]
    },
    {
     "data": {
      "image/png": "[encoded data removed]",
      "text/plain": [
       "<Figure size 432x288 with 1 Axes>"
      ]
     },
     "metadata": {},
     "output_type": "display_data"
    },
    {
     "name": "stdout",
     "output_type": "stream",
     "text": [
      "match_branches = [[6, 8], [5, 9]]\n",
      "edges_to_delete (resolve crossover) = [[5, 6], [5, 8], [6, 9], [8, 9]]\n",
      "edges_to_create (resolve crossover) = [[6, 8], [5, 9]]\n",
      "curr_limb.deleted_edges 5 =[]\n",
      "NOT USING the resolve crossover delete edges because not help resolve the cut\n",
      "skip_nodes = []\n",
      "\n",
      "Attempting the doubling back check (symmetrical so don't need to check from both sides)\n"
     ]
    },
    {
     "data": {
      "application/vnd.jupyter.widget-view+json": {
       "model_id": "db21b54a214a4278b53d298ed98a7a3f",
       "version_major": 2,
       "version_minor": 0
      },
      "text/plain": [
       "HBox(children=(FloatProgress(value=0.0, max=4.0), HTML(value='')))"
      ]
     },
     "metadata": {},
     "output_type": "display_data"
    },
    {
     "name": "stdout",
     "output_type": "stream",
     "text": [
      "  Edge: [10  9]: curr_angle = 17.29\n",
      "  Edge: [9 8]: curr_angle = 136.3\n",
      "  Edge: [ 8 11]: curr_angle = 36.69\n",
      "  Edge: [11 12]: curr_angle = 29.55\n",
      "\n",
      "Total time for doubling_back = 0.3637712001800537\n",
      "There were 1 edges that passed doubling back threshold of 80\n",
      "Winning edge [9 8] had a doubling back of 136.2965230684155\n",
      "***inside resolve crossover!!!!****\n",
      "coordinate_branches = [5, 6, 8, 9]\n",
      "5 = red\n",
      "6 = aqua\n",
      "8 = purple\n",
      "9 = green\n",
      "Angle between 5 and 6 = 124.74 \n",
      "Angle between 5 and 8 = 32.76 \n",
      "Angle between 5 and 9 = 40.24 \n",
      "Angle between 6 and 8 = 28.07 \n",
      "Angle between 6 and 9 = 65.4 \n",
      "Angle between 8 and 9 = 118.9 \n",
      "Final Matches = [[5, 8], [6, 8]]\n",
      "matched_branches_revised = [[6, 8]]\n",
      "Original graph\n"
     ]
    },
    {
     "data": {
      "image/png": "[encoded data removed]",
      "text/plain": [
       "<Figure size 432x288 with 1 Axes>"
      ]
     },
     "metadata": {},
     "output_type": "display_data"
    },
    {
     "name": "stdout",
     "output_type": "stream",
     "text": [
      "match_branches = [[6, 8]]\n",
      "edges_to_delete (resolve crossover) = [[5, 6], [5, 8], [5, 9], [6, 9], [8, 9]]\n",
      "edges_to_create (resolve crossover) = [[6, 8]]\n",
      "edges_to_delete (cut_limb_network) = [array([5, 6]), array([5, 8]), array([5, 9]), array([6, 9]), array([8, 9])]\n",
      "edges_to_create = [[6, 8]]\n",
      "Number of connected components = 4\n",
      "Comp 0 = {0, 2, 6, 8, 11, 12}\n",
      "Comp 1 = {1, 4, 5}\n",
      "Comp 2 = {9, 10, 3}\n",
      "Comp 3 = {7}\n",
      "curr_limb_copy.deleted_edges = [array([5, 6]), array([5, 8]), array([5, 9]), array([6, 9]), array([8, 9])]\n",
      "curr_limb_copy.created_edges = [[6, 8]]\n",
      "After get best cut: cut_edges = [array([5, 6]), array([5, 8]), array([5, 9]), array([6, 9]), array([8, 9])], added_edges = [[6, 8]]\n",
      "total_soma_paths_to_cut = []\n",
      "\n",
      "\n",
      "suggested_cut_points = [[1319408.26320193  617219.72938796  703060.7887084 ]]\n",
      "\n",
      "\n"
     ]
    },
    {
     "data": {
      "application/vnd.jupyter.widget-view+json": {
       "model_id": "cf724969fdce48648dab02cd818b0e03",
       "version_major": 2,
       "version_minor": 0
      },
      "text/plain": [
       "VBox(children=(Figure(camera=PerspectiveCamera(fov=46.0, position=(0.0, 0.0, 2.0), quaternion=(0.0, 0.0, 0.0, …"
      ]
     },
     "metadata": {},
     "output_type": "display_data"
    },
    {
     "name": "stdout",
     "output_type": "stream",
     "text": [
      "-----------counter = 0------------\n",
      " Cut iteration 1\n",
      "Total number of graphs at the end of the split BEFORE DIRECTIONAL = 4\n",
      "Total number of graphs at the end of the split AFTER DIRECTIONAL = 4\n",
      "No valid path so moving onto the next connection\n",
      "Total number of graphs at the end of the split = 4: [array([ 0,  2,  6,  8, 11, 12]), array([1, 4, 5]), array([ 9, 10,  3]), array([7])]\n",
      "\n",
      "\n",
      " ------ Total time for Splitting 864691135474658368 = 93.38321685791016 ------\n",
      "\n",
      "\n",
      "----- Working on Neuron 864691135303196071-------\n",
      "Decompressing Neuron in minimal output mode...please wait\n",
      "multi_soma_limbs = []\n",
      "multi_touch_limbs = []\n",
      "\n",
      "\n",
      " ------ Total time for Splitting 864691135303196071 = 18.35332202911377 ------\n",
      "\n",
      "\n",
      "----- Working on Neuron 864691135501548866-------\n",
      "Decompressing Neuron in minimal output mode...please wait\n",
      "multi_soma_limbs = []\n",
      "multi_touch_limbs = [3]\n",
      "\n",
      "\n",
      " -------- Working on limb 3------------\n",
      "Starting combinations to process = [[7 8]]\n",
      "\n",
      "\n",
      "---- working on disconnecting 7 and 8\n",
      "---- This disconnects S0_1 from S0_0  \n",
      " Cut iteration 0\n",
      "Total number of graphs at the end of the split BEFORE DIRECTIONAL = 1\n",
      "Total number of graphs at the end of the split AFTER DIRECTIONAL = 1\n",
      "Shortest path = [7, 6, 8]\n",
      "\n",
      " --------- START OF GET BEST EDGE --------- \n",
      "curr_limb.deleted_edges=[]\n",
      "consider_path_neighbors_for_removal is set so segments_to_consider = [4 5 6]\n",
      "Short segments to combine = []\n",
      "Found 0 high degree coordinates to cut\n",
      "skip_nodes = []\n",
      "\n",
      "Attempting the doubling back check (symmetrical so don't need to check from both sides)\n"
     ]
    },
    {
     "data": {
      "application/vnd.jupyter.widget-view+json": {
       "model_id": "1b78f3a0c6f242728f1833aec5b3e467",
       "version_major": 2,
       "version_minor": 0
      },
      "text/plain": [
       "HBox(children=(FloatProgress(value=0.0, max=2.0), HTML(value='')))"
      ]
     },
     "metadata": {},
     "output_type": "display_data"
    },
    {
     "name": "stdout",
     "output_type": "stream",
     "text": [
      "  Edge: [7 6]: curr_angle = 63.86\n",
      "  Edge: [6 8]: curr_angle = 116.53\n",
      "\n",
      "Total time for doubling_back = 0.0479276180267334\n",
      "There were 1 edges that passed doubling back threshold of 80\n",
      "Winning edge [6 8] had a doubling back of 116.52561612838215\n",
      "***inside resolve crossover!!!!****\n",
      "coordinate_branches = [5, 6, 8]\n",
      "5 = red\n",
      "6 = aqua\n",
      "8 = purple\n",
      "Angle between 5 and 6 = 36.22 \n",
      "Angle between 5 and 8 = 86.7 \n",
      "Angle between 6 and 8 = 74.57 \n",
      "Final Matches = []\n",
      "matched_branches_revised = []\n",
      "Original graph\n"
     ]
    },
    {
     "data": {
      "image/png": "[encoded data removed]",
      "text/plain": [
       "<Figure size 432x288 with 1 Axes>"
      ]
     },
     "metadata": {},
     "output_type": "display_data"
    },
    {
     "name": "stdout",
     "output_type": "stream",
     "text": [
      "match_branches = []\n",
      "edges_to_delete (resolve crossover) = [[5, 6], [5, 8], [6, 8]]\n",
      "edges_to_create (resolve crossover) = []\n",
      "edges_to_delete (cut_limb_network) = [array([5, 6]), array([5, 8]), array([6, 8])]\n",
      "edges_to_create = []\n",
      "Number of connected components = 3\n",
      "Comp 0 = {8}\n",
      "Comp 1 = {5}\n",
      "Comp 2 = {0, 1, 2, 3, 4, 6, 7}\n",
      "curr_limb_copy.deleted_edges = [array([5, 6]), array([5, 8]), array([6, 8])]\n",
      "curr_limb_copy.created_edges = []\n",
      "After get best cut: cut_edges = [array([5, 6]), array([5, 8]), array([6, 8])], added_edges = []\n",
      "total_soma_paths_to_cut = []\n",
      "\n",
      "\n",
      "suggested_cut_points = [[1346859.56022013  776807.34755105  830426.58514704]]\n",
      "\n",
      "\n"
     ]
    },
    {
     "data": {
      "application/vnd.jupyter.widget-view+json": {
       "model_id": "e2238ce8004748f08a87b1c12cac0213",
       "version_major": 2,
       "version_minor": 0
      },
      "text/plain": [
       "VBox(children=(Figure(camera=PerspectiveCamera(fov=46.0, position=(0.0, 0.0, 2.0), quaternion=(0.0, 0.0, 0.0, …"
      ]
     },
     "metadata": {},
     "output_type": "display_data"
    },
    {
     "name": "stdout",
     "output_type": "stream",
     "text": [
      "-----------counter = 0------------\n",
      " Cut iteration 1\n",
      "Total number of graphs at the end of the split BEFORE DIRECTIONAL = 3\n",
      "Total number of graphs at the end of the split AFTER DIRECTIONAL = 3\n",
      "No valid path so moving onto the next connection\n",
      "Total number of graphs at the end of the split = 3: [array([8]), array([5]), array([0, 1, 2, 3, 4, 6, 7])]\n",
      "\n",
      "\n",
      " ------ Total time for Splitting 864691135501548866 = 14.393541812896729 ------\n",
      "\n",
      "\n",
      "----- Working on Neuron 864691135210028992-------\n",
      "Decompressing Neuron in minimal output mode...please wait\n",
      "multi_soma_limbs = []\n",
      "multi_touch_limbs = []\n",
      "\n",
      "\n",
      " ------ Total time for Splitting 864691135210028992 = 23.488850593566895 ------\n",
      "\n",
      "\n",
      "----- Working on Neuron 864691135855610670-------\n",
      "Decompressing Neuron in minimal output mode...please wait\n",
      "multi_soma_limbs = []\n",
      "multi_touch_limbs = []\n",
      "\n",
      "\n",
      " ------ Total time for Splitting 864691135855610670 = 46.77518391609192 ------\n",
      "\n",
      "\n",
      "----- Working on Neuron 864691135861174625-------\n",
      "Decompressing Neuron in minimal output mode...please wait\n",
      "multi_soma_limbs = [0]\n",
      "multi_touch_limbs = [0 4]\n",
      "\n",
      "\n",
      " -------- Working on limb 0------------\n",
      "Starting combinations to process = [[3 5]\n",
      " [3 6]\n",
      " [5 6]]\n",
      "\n",
      "\n",
      "---- working on disconnecting 3 and 5\n",
      "---- This disconnects S0_0 from S1_0  \n",
      " Cut iteration 0\n",
      "Total number of graphs at the end of the split BEFORE DIRECTIONAL = 1\n",
      "Total number of graphs at the end of the split AFTER DIRECTIONAL = 1\n",
      "Shortest path = [3, 2, 5]\n",
      "\n",
      " --------- START OF GET BEST EDGE --------- \n",
      "curr_limb.deleted_edges=[]\n",
      "consider_path_neighbors_for_removal is set so segments_to_consider = [1 2]\n",
      "Short segments to combine = []\n",
      "Found 0 high degree coordinates to cut\n",
      "skip_nodes = []\n",
      "\n",
      "Attempting the doubling back check (symmetrical so don't need to check from both sides)\n"
     ]
    },
    {
     "data": {
      "application/vnd.jupyter.widget-view+json": {
       "model_id": "8865a0ba1b7b463e8519e9aac3fde104",
       "version_major": 2,
       "version_minor": 0
      },
      "text/plain": [
       "HBox(children=(FloatProgress(value=0.0, max=2.0), HTML(value='')))"
      ]
     },
     "metadata": {},
     "output_type": "display_data"
    },
    {
     "name": "stdout",
     "output_type": "stream",
     "text": [
      "  Edge: [3 2]: curr_angle = 39.42\n",
      "  Edge: [2 5]: curr_angle = 28.22\n",
      "\n",
      "Total time for doubling_back = 0.2879507541656494\n",
      "\n",
      "Attempting the width jump check (ARTIFICIALLY ATTEMPTING FROM BOTH SIDES)\n",
      "width_jump_threshold = 200\n",
      "  Edge: [3 2]: jump = 216.14\n",
      "Adding error edge [3 2] because width jump was 216.13733358305785\n",
      "  Edge: [2 5]: jump = -40.39\n",
      "Total time for width = 0.2643427848815918\n",
      "Did not find an error edge in either of the paths\n",
      "Number of connected components = 1\n",
      "Comp 0 = {0, 1, 2, 3, 4, 5, 6}\n",
      "curr_limb_copy.deleted_edges = []\n",
      "curr_limb_copy.created_edges = []\n",
      "After get best cut: cut_edges = None, added_edges = []\n",
      "***** there was no suggested cut for this limb even though it is still connnected***\n",
      "\n",
      "\n",
      "---- working on disconnecting 3 and 6\n",
      "---- This disconnects S0_0 from S1_1  \n",
      " Cut iteration 0\n",
      "Total number of graphs at the end of the split BEFORE DIRECTIONAL = 1\n",
      "Total number of graphs at the end of the split AFTER DIRECTIONAL = 1\n",
      "Shortest path = [3, 2, 6]\n",
      "\n",
      " --------- START OF GET BEST EDGE --------- \n",
      "curr_limb.deleted_edges=[]\n",
      "consider_path_neighbors_for_removal is set so segments_to_consider = [1 2]\n",
      "Short segments to combine = []\n",
      "Found 0 high degree coordinates to cut\n",
      "Skipping endnode 6 because skeletal distance was 2310.664541598427 and threshold was 2500\n",
      "skip_nodes = [6]\n",
      "\n",
      "Attempting the doubling back check (symmetrical so don't need to check from both sides)\n"
     ]
    },
    {
     "data": {
      "application/vnd.jupyter.widget-view+json": {
       "model_id": "980a3657f3554131ac755f81dc01c371",
       "version_major": 2,
       "version_minor": 0
      },
      "text/plain": [
       "HBox(children=(FloatProgress(value=0.0, max=1.0), HTML(value='')))"
      ]
     },
     "metadata": {},
     "output_type": "display_data"
    },
    {
     "name": "stdout",
     "output_type": "stream",
     "text": [
      "  Edge: [3 2]: curr_angle = 39.42\n",
      "\n",
      "Total time for doubling_back = 0.1773056983947754\n",
      "\n",
      "Attempting the width jump check (ARTIFICIALLY ATTEMPTING FROM BOTH SIDES)\n",
      "width_jump_threshold = 200\n",
      "  Edge: [3 2]: jump = 216.14\n",
      "Adding error edge [3 2] because width jump was 216.13733358305785\n",
      "Total time for width = 0.14443731307983398\n",
      "Did not find an error edge in either of the paths\n",
      "Number of connected components = 1\n",
      "Comp 0 = {0, 1, 2, 3, 4, 5, 6}\n",
      "curr_limb_copy.deleted_edges = []\n",
      "curr_limb_copy.created_edges = []\n",
      "After get best cut: cut_edges = None, added_edges = []\n",
      "***** there was no suggested cut for this limb even though it is still connnected***\n",
      "\n",
      "\n",
      "---- working on disconnecting 5 and 6\n",
      "---- This disconnects S1_0 from S1_1  \n",
      " Cut iteration 0\n",
      "Total number of graphs at the end of the split BEFORE DIRECTIONAL = 1\n",
      "Total number of graphs at the end of the split AFTER DIRECTIONAL = 1\n",
      "Shortest path = [5, 6]\n",
      "\n",
      " --------- START OF GET BEST EDGE --------- \n",
      "curr_limb.deleted_edges=[]\n",
      "consider_path_neighbors_for_removal is set so segments_to_consider = [2]\n",
      "Short segments to combine = []\n",
      "Found 0 high degree coordinates to cut\n",
      "Skipping endnode 6 because skeletal distance was 2310.664541598427 and threshold was 2500\n",
      "Could not used the revised endnodes path because empty\n",
      "skip_nodes = []\n",
      "\n",
      "Attempting the doubling back check (symmetrical so don't need to check from both sides)\n"
     ]
    },
    {
     "data": {
      "application/vnd.jupyter.widget-view+json": {
       "model_id": "b553045070c94f848109ea36b62987be",
       "version_major": 2,
       "version_minor": 0
      },
      "text/plain": [
       "HBox(children=(FloatProgress(value=0.0, max=1.0), HTML(value='')))"
      ]
     },
     "metadata": {},
     "output_type": "display_data"
    },
    {
     "name": "stdout",
     "output_type": "stream",
     "text": [
      "  Edge: [5 6]: curr_angle = 109.52\n",
      "\n",
      "Total time for doubling_back = 0.0391542911529541\n",
      "There were 1 edges that passed doubling back threshold of 80\n",
      "Winning edge [5 6] had a doubling back of 109.52423430740184\n",
      "***inside resolve crossover!!!!****\n",
      "coordinate_branches = [2, 5, 6]\n",
      "2 = red\n",
      "5 = aqua\n",
      "6 = purple\n",
      "Angle between 2 and 5 = 20.46 \n",
      "Angle between 2 and 6 = 83.49 \n",
      "Angle between 5 and 6 = 110.11 \n",
      "Final Matches = [[2, 5]]\n",
      "matched_branches_revised = [[2, 5]]\n",
      "Original graph\n"
     ]
    },
    {
     "data": {
      "image/png": "[encoded data removed]",
      "text/plain": [
       "<Figure size 432x288 with 1 Axes>"
      ]
     },
     "metadata": {},
     "output_type": "display_data"
    },
    {
     "name": "stdout",
     "output_type": "stream",
     "text": [
      "match_branches = [[2, 5]]\n",
      "edges_to_delete (resolve crossover) = [[2, 6], [5, 6]]\n",
      "edges_to_create (resolve crossover) = [[2, 5]]\n",
      "edges_to_delete (cut_limb_network) = [array([2, 6]), array([5, 6])]\n",
      "edges_to_create = [[2, 5]]\n",
      "Number of connected components = 2\n",
      "Comp 0 = {0, 1, 2, 3, 4, 5}\n",
      "Comp 1 = {6}\n",
      "curr_limb_copy.deleted_edges = [array([2, 6]), array([5, 6])]\n",
      "curr_limb_copy.created_edges = [[2, 5]]\n",
      "After get best cut: cut_edges = [array([2, 6]), array([5, 6])], added_edges = [[2, 5]]\n",
      "total_soma_paths_to_cut = []\n",
      "\n",
      "\n",
      "suggested_cut_points = [[1349973.70972717 1028617.67686514  965275.87238944]]\n",
      "\n",
      "\n"
     ]
    },
    {
     "data": {
      "application/vnd.jupyter.widget-view+json": {
       "model_id": "3847f18e0b614c24a828901014c27d6a",
       "version_major": 2,
       "version_minor": 0
      },
      "text/plain": [
       "VBox(children=(Figure(camera=PerspectiveCamera(fov=46.0, position=(0.0, 0.0, 2.0), quaternion=(0.0, 0.0, 0.0, …"
      ]
     },
     "metadata": {},
     "output_type": "display_data"
    },
    {
     "name": "stdout",
     "output_type": "stream",
     "text": [
      "-----------counter = 0------------\n",
      " Cut iteration 1\n",
      "Total number of graphs at the end of the split BEFORE DIRECTIONAL = 2\n",
      "Total number of graphs at the end of the split AFTER DIRECTIONAL = 2\n",
      "No valid path so moving onto the next connection\n",
      "Total number of graphs at the end of the split = 2: [array([0, 1, 2, 3, 4, 5]), array([6])]\n",
      "\n",
      "\n",
      " -------- Working on limb 4------------\n",
      "Starting combinations to process = [[0 1]\n",
      " [0 2]\n",
      " [1 2]]\n",
      "\n",
      "\n",
      "---- working on disconnecting 0 and 1\n",
      "---- This disconnects S0_2 from S0_0  \n",
      " Cut iteration 0\n",
      "Total number of graphs at the end of the split BEFORE DIRECTIONAL = 1\n",
      "Total number of graphs at the end of the split AFTER DIRECTIONAL = 1\n",
      "Shortest path = [0, 1]\n",
      "\n",
      " --------- START OF GET BEST EDGE --------- \n",
      "curr_limb.deleted_edges=[]\n",
      "consider_path_neighbors_for_removal is set so segments_to_consider = [3]\n",
      "Short segments to combine = []\n",
      "Found 1 high degree coordinates to cut\n",
      "Picking [1369509.49503271 1097601.03930738  965270.62394277] high degree coordinates to cut\n",
      "curr_limb.deleted_edges 4=[]\n",
      "***inside resolve crossover!!!!****\n",
      "coordinate_branches = [0, 1, 2, 3]\n",
      "0 = red\n",
      "1 = aqua\n",
      "2 = purple\n",
      "3 = green\n",
      "Angle between 0 and 1 = 130.81 \n",
      "Angle between 0 and 2 = 111.11 \n",
      "Angle between 0 and 3 = 44.55 \n",
      "Angle between 1 and 2 = 87.86 \n",
      "Angle between 1 and 3 = 87.85 \n",
      "Angle between 2 and 3 = 35.16 \n",
      "Final Matches = []\n",
      "matched_branches_revised = []\n",
      "Original graph\n"
     ]
    },
    {
     "data": {
      "image/png": "[encoded data removed]",
      "text/plain": [
       "<Figure size 432x288 with 1 Axes>"
      ]
     },
     "metadata": {},
     "output_type": "display_data"
    },
    {
     "name": "stdout",
     "output_type": "stream",
     "text": [
      "match_branches = []\n",
      "edges_to_delete (resolve crossover) = [[0, 1], [0, 2], [0, 3], [1, 2], [1, 3], [2, 3]]\n",
      "edges_to_create (resolve crossover) = []\n",
      "curr_limb.deleted_edges 5 =[]\n",
      "NOT USING the resolve crossover delete edges because not help resolve the cut\n",
      "Skipping endnode 0 because skeletal distance was 2382.8816766311857 and threshold was 2500\n",
      "Could not used the revised endnodes path because empty\n",
      "skip_nodes = []\n",
      "\n",
      "Attempting the doubling back check (symmetrical so don't need to check from both sides)\n"
     ]
    },
    {
     "data": {
      "application/vnd.jupyter.widget-view+json": {
       "model_id": "92f5c7cb16cc436aa496a98b8e0447b7",
       "version_major": 2,
       "version_minor": 0
      },
      "text/plain": [
       "HBox(children=(FloatProgress(value=0.0, max=1.0), HTML(value='')))"
      ]
     },
     "metadata": {},
     "output_type": "display_data"
    },
    {
     "name": "stdout",
     "output_type": "stream",
     "text": [
      "  Edge: [0 1]: curr_angle = 130.81\n",
      "\n",
      "Total time for doubling_back = 0.030440330505371094\n",
      "There were 1 edges that passed doubling back threshold of 80\n",
      "Winning edge [0 1] had a doubling back of 130.81011928926935\n",
      "***inside resolve crossover!!!!****\n",
      "coordinate_branches = [0, 1, 2, 3]\n",
      "0 = red\n",
      "1 = aqua\n",
      "2 = purple\n",
      "3 = green\n",
      "Angle between 0 and 1 = 130.81 \n",
      "Angle between 0 and 2 = 111.11 \n",
      "Angle between 0 and 3 = 56.39 \n",
      "Angle between 1 and 2 = 87.86 \n",
      "Angle between 1 and 3 = 95.37 \n",
      "Angle between 2 and 3 = 24.26 \n",
      "Final Matches = [[2, 3]]\n",
      "matched_branches_revised = [[2, 3]]\n",
      "Original graph\n"
     ]
    },
    {
     "data": {
      "image/png": "[encoded data removed]",
      "text/plain": [
       "<Figure size 432x288 with 1 Axes>"
      ]
     },
     "metadata": {},
     "output_type": "display_data"
    },
    {
     "name": "stdout",
     "output_type": "stream",
     "text": [
      "match_branches = [[2, 3]]\n",
      "edges_to_delete (resolve crossover) = [[0, 1], [0, 2], [0, 3], [1, 2], [1, 3]]\n",
      "edges_to_create (resolve crossover) = [[2, 3]]\n",
      "Rejecting creating edge [2, 3] becuase did not involve only 1 node in the deleted edge\n",
      "edges_to_delete (cut_limb_network) = [array([0, 1]), array([0, 2]), array([0, 3]), array([1, 2]), array([1, 3])]\n",
      "edges_to_create = []\n",
      "Number of connected components = 4\n",
      "Comp 0 = {1}\n",
      "Comp 1 = {0}\n",
      "Comp 2 = {2}\n",
      "Comp 3 = {3}\n",
      "curr_limb_copy.deleted_edges = [array([0, 1]), array([0, 2]), array([0, 3]), array([1, 2]), array([1, 3])]\n",
      "curr_limb_copy.created_edges = []\n",
      "After get best cut: cut_edges = [array([0, 1]), array([0, 2]), array([0, 3]), array([1, 2]), array([1, 3])], added_edges = []\n",
      "total_soma_paths_to_cut = []\n",
      "\n",
      "\n",
      "suggested_cut_points = [[1369509.49503271 1097601.03930738  965270.62394277]]\n",
      "\n",
      "\n"
     ]
    },
    {
     "data": {
      "application/vnd.jupyter.widget-view+json": {
       "model_id": "b83410cd6db34bb595fa9b2ecfb299e3",
       "version_major": 2,
       "version_minor": 0
      },
      "text/plain": [
       "VBox(children=(Figure(camera=PerspectiveCamera(fov=46.0, position=(0.0, 0.0, 2.0), quaternion=(0.0, 0.0, 0.0, …"
      ]
     },
     "metadata": {},
     "output_type": "display_data"
    },
    {
     "name": "stdout",
     "output_type": "stream",
     "text": [
      "-----------counter = 0------------\n",
      " Cut iteration 1\n",
      "Total number of graphs at the end of the split BEFORE DIRECTIONAL = 4\n",
      "Total number of graphs at the end of the split AFTER DIRECTIONAL = 4\n",
      "No valid path so moving onto the next connection\n",
      "\n",
      "\n",
      "---- working on disconnecting 0 and 2\n",
      "---- This disconnects S0_2 from S0_3  \n",
      " Cut iteration 0\n",
      "Total number of graphs at the end of the split BEFORE DIRECTIONAL = 4\n",
      "Total number of graphs at the end of the split AFTER DIRECTIONAL = 4\n",
      "No valid path so moving onto the next connection\n",
      "\n",
      "\n",
      "---- working on disconnecting 1 and 2\n",
      "---- This disconnects S0_0 from S0_3  \n",
      " Cut iteration 0\n",
      "Total number of graphs at the end of the split BEFORE DIRECTIONAL = 4\n",
      "Total number of graphs at the end of the split AFTER DIRECTIONAL = 4\n",
      "No valid path so moving onto the next connection\n",
      "Total number of graphs at the end of the split = 4: [array([1]), array([0]), array([2]), array([3])]\n",
      "\n",
      "\n",
      " ------ Total time for Splitting 864691135861174625 = 13.76500391960144 ------\n",
      "\n",
      "\n",
      "----- Working on Neuron 864691135771628795-------\n",
      "Decompressing Neuron in minimal output mode...please wait\n",
      "multi_soma_limbs = []\n",
      "multi_touch_limbs = []\n",
      "\n",
      "\n",
      " ------ Total time for Splitting 864691135771628795 = 6.852788925170898 ------\n",
      "\n",
      "\n",
      "----- Working on Neuron 864691136218227902-------\n",
      "Decompressing Neuron in minimal output mode...please wait\n",
      "multi_soma_limbs = []\n",
      "multi_touch_limbs = []\n",
      "\n",
      "\n",
      " ------ Total time for Splitting 864691136218227902 = 21.350224494934082 ------\n",
      "\n",
      "\n",
      "----- Working on Neuron 864691134884749050-------\n",
      "Decompressing Neuron in minimal output mode...please wait\n",
      "multi_soma_limbs = []\n",
      "multi_touch_limbs = [0]\n",
      "\n",
      "\n",
      " -------- Working on limb 0------------\n",
      "Starting combinations to process = []\n",
      "Total number of graphs at the end of the split = 1: [array([  0,   1,   2,   3,   4,   5,   6,   7,   8,   9,  10,  11,  12,\n",
      "        13,  14,  15,  16,  17,  18,  19,  20,  21,  22,  23,  24,  25,\n",
      "        26,  27,  28,  29,  30,  31,  32,  33,  34,  35,  36,  37,  38,\n",
      "        39,  40,  41,  42,  43,  44,  45,  46,  47,  48,  49,  50,  51,\n",
      "        52,  53,  54,  55,  56,  57,  58,  59,  60,  61,  62,  63,  64,\n",
      "        65,  66,  67,  68,  69,  70,  71,  72,  73,  74,  75,  76,  77,\n",
      "        78,  79,  80,  81,  82,  83,  84,  85,  86,  87,  88,  89,  90,\n",
      "        91,  92,  93,  94,  95,  96,  97,  98,  99, 100, 101, 102, 103,\n",
      "       104])]\n",
      "\n",
      "\n",
      " ------ Total time for Splitting 864691134884749050 = 41.25729012489319 ------\n",
      "\n",
      "\n",
      "----- Working on Neuron 864691136009369763-------\n",
      "Decompressing Neuron in minimal output mode...please wait\n",
      "multi_soma_limbs = []\n",
      "multi_touch_limbs = []\n",
      "\n",
      "\n",
      " ------ Total time for Splitting 864691136009369763 = 16.164963960647583 ------\n",
      "\n",
      "\n",
      "----- Working on Neuron 864691135644610031-------\n",
      "Decompressing Neuron in minimal output mode...please wait\n",
      "multi_soma_limbs = []\n",
      "multi_touch_limbs = []\n",
      "\n",
      "\n",
      " ------ Total time for Splitting 864691135644610031 = 31.078964948654175 ------\n",
      "\n",
      "\n",
      "----- Working on Neuron 864691135926333396-------\n",
      "Decompressing Neuron in minimal output mode...please wait\n",
      "multi_soma_limbs = []\n",
      "multi_touch_limbs = []\n",
      "\n",
      "\n",
      " ------ Total time for Splitting 864691135926333396 = 5.6453564167022705 ------\n",
      "\n",
      "\n",
      "----- Working on Neuron 864691136041042774-------\n",
      "Decompressing Neuron in minimal output mode...please wait\n",
      "multi_soma_limbs = []\n",
      "multi_touch_limbs = []\n",
      "\n",
      "\n",
      " ------ Total time for Splitting 864691136041042774 = 15.82632040977478 ------\n",
      "\n",
      "\n",
      "----- Working on Neuron 864691135757468349-------\n",
      "Decompressing Neuron in minimal output mode...please wait\n",
      "multi_soma_limbs = []\n",
      "multi_touch_limbs = [0]\n",
      "\n",
      "\n",
      " -------- Working on limb 0------------\n",
      "Starting combinations to process = [[213 214]]\n",
      "\n",
      "\n",
      "---- working on disconnecting 213 and 214\n",
      "---- This disconnects S0_1 from S0_0  \n",
      " Cut iteration 0\n",
      "Total number of graphs at the end of the split BEFORE DIRECTIONAL = 1\n",
      "Total number of graphs at the end of the split AFTER DIRECTIONAL = 1\n",
      "Shortest path = [213, 163, 195, 182, 148, 94, 90, 71, 72, 68, 58, 89, 100, 217, 218, 214]\n",
      "\n",
      " --------- START OF GET BEST EDGE --------- \n",
      "curr_limb.deleted_edges=[]\n",
      "consider_path_neighbors_for_removal is set so segments_to_consider = [ 54  58  68  70  71  72  74  86  87  88  89  90  94 100 101 123 148 163\n",
      " 181 182 189 195 196 201 216 217 218 220 241 242]\n",
      "Short segments to combine = [241]\n",
      "\n",
      "\n",
      "-------- Removing Segments -------------\n",
      "curr_short_seg_revised = 241\n",
      "np.sum(touch_len>0) = 2\n",
      "Using average stitch point\n",
      "touching_endpoints = [[1468464.44012241  688430.29925547  890792.46436831]\n",
      " [1468714.60218588  688475.6947398   889710.80184482]]\n",
      "new_stitch_point = [1468589.52115414  688452.99699764  890251.63310657]\n",
      "Angles for [218 217 242 240 243] are [83.34, 21.76, 81.0, 81.01, 54.2]\n",
      "Branch that will absorb mesh of 241 is 217 \n",
      "curr_limb.deleted_edges 2=[]\n",
      "curr_limb.deleted_edges 3=[]\n",
      "Revised cut path = [213 163 195 182 148  94  90  71  72  68  58  89 100 217 218 214]\n",
      "\n",
      "-------- Done Removing Segments -------------\n",
      "\n",
      "\n",
      "Found 1 high degree coordinates to cut\n",
      "Picking [1468589.52115414  688452.99699764  890251.63310657] high degree coordinates to cut\n",
      "curr_limb.deleted_edges 4=[]\n",
      "***inside resolve crossover!!!!****\n",
      "coordinate_branches = [217, 218, 240, 242, 243]\n",
      "217 = red\n",
      "218 = aqua\n",
      "240 = purple\n",
      "242 = green\n",
      "Angle between 217 and 218 = 78.02 \n",
      "Angle between 217 and 240 = 106.12 \n",
      "Angle between 217 and 242 = 112.39 \n",
      "Angle between 217 and 243 = 56.33 \n",
      "Angle between 218 and 240 = 9.79 \n",
      "Angle between 218 and 242 = 15.59 \n",
      "Angle between 218 and 243 = 57.12 \n",
      "Angle between 240 and 242 = 158.95 \n",
      "Angle between 240 and 243 = 114.15 \n",
      "Angle between 242 and 243 = 119.49 \n",
      "Final Matches = [[218, 240], [218, 242]]\n",
      "matched_branches_revised = [[218, 240]]\n",
      "Original graph\n"
     ]
    },
    {
     "data": {
      "image/png": "[encoded data removed]",
      "text/plain": [
       "<Figure size 432x288 with 1 Axes>"
      ]
     },
     "metadata": {},
     "output_type": "display_data"
    },
    {
     "name": "stdout",
     "output_type": "stream",
     "text": [
      "match_branches = [[218, 240]]\n",
      "edges_to_delete (resolve crossover) = [[217, 218], [217, 240], [217, 242], [217, 243], [218, 242], [218, 243], [240, 242], [240, 243], [242, 243]]\n",
      "edges_to_create (resolve crossover) = [[218, 240]]\n",
      "curr_limb.deleted_edges 5 =[]\n",
      "NOT USING the resolve crossover delete edges because not help resolve the cut\n",
      "skip_nodes = []\n",
      "\n",
      "Attempting the doubling back check (symmetrical so don't need to check from both sides)\n"
     ]
    },
    {
     "data": {
      "application/vnd.jupyter.widget-view+json": {
       "model_id": "2c8915dea65c4bb2b1feb309532775ce",
       "version_major": 2,
       "version_minor": 0
      },
      "text/plain": [
       "HBox(children=(FloatProgress(value=0.0, max=15.0), HTML(value='')))"
      ]
     },
     "metadata": {},
     "output_type": "display_data"
    },
    {
     "name": "stdout",
     "output_type": "stream",
     "text": [
      "  Edge: [213 163]: curr_angle = 46.17\n",
      "  Edge: [163 195]: curr_angle = 23.46\n",
      "  Edge: [195 182]: curr_angle = 29.19\n",
      "  Edge: [182 148]: curr_angle = 74.71\n",
      "  Edge: [148  94]: curr_angle = 61.73\n",
      "  Edge: [94 90]: curr_angle = 23.52\n",
      "  Edge: [90 71]: curr_angle = 14.77\n",
      "  Edge: [71 72]: curr_angle = 36.01\n",
      "  Edge: [72 68]: curr_angle = 14.13\n",
      "  Edge: [68 58]: curr_angle = 18.15\n",
      "  Edge: [58 89]: curr_angle = 12.29\n",
      "  Edge: [ 89 100]: curr_angle = 12.64\n",
      "  Edge: [100 217]: curr_angle = 15.45\n",
      "  Edge: [217 218]: curr_angle = 99.99\n",
      "  Edge: [218 214]: curr_angle = 62.38\n",
      "\n",
      "Total time for doubling_back = 1.5447864532470703\n",
      "There were 1 edges that passed doubling back threshold of 80\n",
      "Winning edge [217 218] had a doubling back of 99.98957431541037\n",
      "***inside resolve crossover!!!!****\n",
      "coordinate_branches = [217, 218, 240, 242, 243]\n",
      "217 = red\n",
      "218 = aqua\n",
      "240 = purple\n",
      "242 = green\n",
      "Angle between 217 and 218 = 108.04 \n",
      "Angle between 217 and 240 = 73.78 \n",
      "Angle between 217 and 242 = 118.75 \n",
      "Angle between 217 and 243 = 41.45 \n",
      "Angle between 218 and 240 = 48.93 \n",
      "Angle between 218 and 242 = 48.8 \n",
      "Angle between 218 and 243 = 48.46 \n",
      "Angle between 240 and 242 = 102.28 \n",
      "Angle between 240 and 243 = 96.87 \n",
      "Angle between 242 and 243 = 97.42 \n",
      "Final Matches = []\n",
      "matched_branches_revised = []\n",
      "Original graph\n"
     ]
    },
    {
     "data": {
      "image/png": "[encoded data removed]",
      "text/plain": [
       "<Figure size 432x288 with 1 Axes>"
      ]
     },
     "metadata": {},
     "output_type": "display_data"
    },
    {
     "name": "stdout",
     "output_type": "stream",
     "text": [
      "match_branches = []\n",
      "edges_to_delete (resolve crossover) = [[217, 218], [217, 240], [217, 242], [217, 243], [218, 240], [218, 242], [218, 243], [240, 242], [240, 243], [242, 243]]\n",
      "edges_to_create (resolve crossover) = []\n",
      "edges_to_delete (cut_limb_network) = [array([217, 218]), array([217, 240]), array([217, 242]), array([217, 243]), array([218, 240]), array([218, 242]), array([218, 243]), array([240, 242]), array([240, 243]), array([242, 243])]\n",
      "edges_to_create = []\n",
      "Number of connected components = 6\n",
      "Comp 0 = {225, 232, 299, 268, 300, 214, 218, 251, 220}\n",
      "Comp 1 = {0, 1, 2, 3, 4, 5, 6, 7, 8, 9, 10, 11, 12, 13, 14, 15, 16, 17, 18, 19, 20, 21, 22, 23, 24, 25, 26, 27, 28, 29, 30, 31, 32, 33, 34, 35, 36, 37, 38, 39, 40, 41, 42, 43, 44, 45, 46, 47, 48, 49, 50, 51, 52, 53, 54, 55, 56, 57, 58, 59, 60, 61, 62, 63, 64, 65, 66, 67, 68, 69, 70, 71, 72, 73, 74, 75, 76, 77, 78, 79, 80, 81, 82, 83, 84, 85, 86, 87, 88, 89, 90, 91, 92, 93, 94, 95, 96, 97, 98, 99, 100, 101, 102, 103, 104, 105, 106, 107, 108, 109, 110, 111, 112, 113, 114, 115, 116, 117, 118, 119, 120, 121, 122, 123, 124, 125, 126, 127, 128, 129, 130, 131, 132, 133, 134, 135, 136, 137, 138, 139, 140, 141, 142, 143, 144, 145, 146, 147, 148, 149, 150, 151, 152, 153, 154, 155, 156, 157, 158, 159, 160, 161, 162, 163, 164, 165, 166, 167, 168, 169, 170, 171, 172, 173, 174, 175, 176, 177, 178, 179, 180, 181, 182, 183, 184, 185, 186, 187, 188, 189, 190, 191, 192, 193, 194, 195, 196, 197, 198, 199, 200, 201, 202, 203, 204, 205, 206, 207, 208, 209, 210, 211, 212, 213, 215, 216, 217, 219, 221, 222, 223, 224, 226, 227, 229, 230, 231, 234, 235, 236, 237, 238, 239, 244, 245, 249, 250, 252, 253, 255, 256, 257, 258, 259, 260, 262, 263, 264, 265, 266, 267, 269, 270, 271, 272, 273, 274, 275, 276, 277, 278, 280, 281, 282, 283, 284, 285, 286, 287, 288, 289, 290, 291, 292, 293, 294, 295, 296, 297, 298, 301, 302, 303, 304, 305, 306, 307, 308, 309, 310, 311, 312, 313, 314, 315, 316, 317, 318, 319}\n",
      "Comp 2 = {240, 248, 279}\n",
      "Comp 3 = {242}\n",
      "Comp 4 = {228, 261, 233, 243, 246, 247, 254}\n",
      "Comp 5 = {241}\n",
      "curr_limb_copy.deleted_edges = [array([217, 218]), array([217, 240]), array([217, 242]), array([217, 243]), array([218, 240]), array([218, 242]), array([218, 243]), array([240, 242]), array([240, 243]), array([242, 243])]\n",
      "curr_limb_copy.created_edges = []\n",
      "After get best cut: cut_edges = [array([217, 218]), array([217, 240]), array([217, 242]), array([217, 243]), array([218, 240]), array([218, 242]), array([218, 243]), array([240, 242]), array([240, 243]), array([242, 243])], added_edges = []\n",
      "total_soma_paths_to_cut = []\n",
      "\n",
      "\n",
      "suggested_cut_points = [[1468589.52115414  688452.99699764  890251.63310657]]\n",
      "\n",
      "\n"
     ]
    },
    {
     "data": {
      "application/vnd.jupyter.widget-view+json": {
       "model_id": "afa5197ca8684f8199e344292e1e6a30",
       "version_major": 2,
       "version_minor": 0
      },
      "text/plain": [
       "VBox(children=(Figure(camera=PerspectiveCamera(fov=46.0, position=(0.0, 0.0, 2.0), quaternion=(0.0, 0.0, 0.0, …"
      ]
     },
     "metadata": {},
     "output_type": "display_data"
    },
    {
     "name": "stdout",
     "output_type": "stream",
     "text": [
      "-----------counter = 0------------\n",
      " Cut iteration 1\n",
      "Total number of graphs at the end of the split BEFORE DIRECTIONAL = 6\n",
      "Total number of graphs at the end of the split AFTER DIRECTIONAL = 6\n",
      "No valid path so moving onto the next connection\n",
      "Total number of graphs at the end of the split = 6: [array([225, 232, 299, 268, 300, 214, 218, 251, 220]), array([  0,   1,   2,   3,   4,   5,   6,   7,   8,   9,  10,  11,  12,\n",
      "        13,  14,  15,  16,  17,  18,  19,  20,  21,  22,  23,  24,  25,\n",
      "        26,  27,  28,  29,  30,  31,  32,  33,  34,  35,  36,  37,  38,\n",
      "        39,  40,  41,  42,  43,  44,  45,  46,  47,  48,  49,  50,  51,\n",
      "        52,  53,  54,  55,  56,  57,  58,  59,  60,  61,  62,  63,  64,\n",
      "        65,  66,  67,  68,  69,  70,  71,  72,  73,  74,  75,  76,  77,\n",
      "        78,  79,  80,  81,  82,  83,  84,  85,  86,  87,  88,  89,  90,\n",
      "        91,  92,  93,  94,  95,  96,  97,  98,  99, 100, 101, 102, 103,\n",
      "       104, 105, 106, 107, 108, 109, 110, 111, 112, 113, 114, 115, 116,\n",
      "       117, 118, 119, 120, 121, 122, 123, 124, 125, 126, 127, 128, 129,\n",
      "       130, 131, 132, 133, 134, 135, 136, 137, 138, 139, 140, 141, 142,\n",
      "       143, 144, 145, 146, 147, 148, 149, 150, 151, 152, 153, 154, 155,\n",
      "       156, 157, 158, 159, 160, 161, 162, 163, 164, 165, 166, 167, 168,\n",
      "       169, 170, 171, 172, 173, 174, 175, 176, 177, 178, 179, 180, 181,\n",
      "       182, 183, 184, 185, 186, 187, 188, 189, 190, 191, 192, 193, 194,\n",
      "       195, 196, 197, 198, 199, 200, 201, 202, 203, 204, 205, 206, 207,\n",
      "       208, 209, 210, 211, 212, 213, 215, 216, 217, 219, 221, 222, 223,\n",
      "       224, 226, 227, 229, 230, 231, 234, 235, 236, 237, 238, 239, 244,\n",
      "       245, 249, 250, 252, 253, 255, 256, 257, 258, 259, 260, 262, 263,\n",
      "       264, 265, 266, 267, 269, 270, 271, 272, 273, 274, 275, 276, 277,\n",
      "       278, 280, 281, 282, 283, 284, 285, 286, 287, 288, 289, 290, 291,\n",
      "       292, 293, 294, 295, 296, 297, 298, 301, 302, 303, 304, 305, 306,\n",
      "       307, 308, 309, 310, 311, 312, 313, 314, 315, 316, 317, 318, 319]), array([240, 248, 279]), array([242]), array([228, 261, 233, 243, 246, 247, 254]), array([241])]\n",
      "\n",
      "\n",
      " ------ Total time for Splitting 864691135757468349 = 316.46734857559204 ------\n",
      "Populate Done\n",
      "Total time for NeuronSplitSuggestions populate = 3945.689036846161\n"
     ]
    }
   ],
   "source": [
    "start_time = time.time()\n",
    "if not test_mode:\n",
    "    time.sleep(random.randint(0, 800))\n",
    "print('Populate Started')\n",
    "if not test_mode:\n",
    "    NeuronSplitSuggestions.populate(reserve_jobs=True, suppress_errors=True)\n",
    "else:\n",
    "    NeuronSplitSuggestions.populate(reserve_jobs=True, suppress_errors=True)\n",
    "print('Populate Done')\n",
    "\n",
    "print(f\"Total time for NeuronSplitSuggestions populate = {time.time() - start_time}\")"
   ]
  },
  {
   "cell_type": "code",
   "execution_count": 12,
   "metadata": {},
   "outputs": [],
   "source": [
    "# import proofreading_utils as pru\n",
    "# pru = reload(pru)\n",
    "# du.create_suggested_splits_neuroglancer_spreadsheet(output_type=\"local\")"
   ]
  },
  {
   "cell_type": "code",
   "execution_count": null,
   "metadata": {},
   "outputs": [],
   "source": []
  }
 ],
 "metadata": {
  "kernelspec": {
   "display_name": "Python 3",
   "language": "python",
   "name": "python3"
  },
  "language_info": {
   "codemirror_mode": {
    "name": "ipython",
    "version": 3
   },
   "file_extension": ".py",
   "mimetype": "text/x-python",
   "name": "python",
   "nbconvert_exporter": "python",
   "pygments_lexer": "ipython3",
   "version": "3.6.9"
  }
 },
 "nbformat": 4,
 "nbformat_minor": 4
}
