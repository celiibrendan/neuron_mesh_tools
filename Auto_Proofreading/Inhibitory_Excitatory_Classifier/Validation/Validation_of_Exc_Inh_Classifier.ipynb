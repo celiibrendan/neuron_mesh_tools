{
 "cells": [
  {
   "cell_type": "code",
   "execution_count": null,
   "metadata": {},
   "outputs": [],
   "source": [
    "\"\"\"\n",
    "Purpose: To compare how the excitatory, inhibitory classifier\n",
    "compares to that of the manual labels from Stelios\n",
    "\n",
    "\n",
    "\"\"\""
   ]
  },
  {
   "cell_type": "code",
   "execution_count": null,
   "metadata": {},
   "outputs": [],
   "source": [
    "\"\"\"\n",
    "Ideas on what to do: maybe add a size requirement for axons?\n",
    "\n",
    "\n",
    "\n",
    "\"\"\""
   ]
  },
  {
   "cell_type": "code",
   "execution_count": 1,
   "metadata": {},
   "outputs": [],
   "source": [
    "%load_ext autoreload\n",
    "%autoreload 2"
   ]
  },
  {
   "cell_type": "code",
   "execution_count": 2,
   "metadata": {},
   "outputs": [
    {
     "name": "stderr",
     "output_type": "stream",
     "text": [
      "INFO - 2021-01-26 05:10:56,354 - settings - Setting database.host to at-database.ad.bcm.edu\n",
      "INFO - 2021-01-26 05:10:56,355 - settings - Setting database.user to celiib\n",
      "INFO - 2021-01-26 05:10:56,356 - settings - Setting database.password to newceliipass\n",
      "INFO - 2021-01-26 05:10:56,368 - settings - Setting stores to {'minnie65': {'protocol': 'file', 'location': '/mnt/dj-stor01/platinum/minnie65', 'stage': '/mnt/dj-stor01/platinum/minnie65'}, 'meshes': {'protocol': 'file', 'location': '/mnt/dj-stor01/platinum/minnie65/02/meshes', 'stage': '/mnt/dj-stor01/platinum/minnie65/02/meshes'}, 'decimated_meshes': {'protocol': 'file', 'location': '/mnt/dj-stor01/platinum/minnie65/02/decimated_meshes', 'stage': '/mnt/dj-stor01/platinum/minnie65/02/decimated_meshes'}, 'skeletons': {'protocol': 'file', 'location': '/mnt/dj-stor01/platinum/minnie65/02/skeletons'}}\n",
      "INFO - 2021-01-26 05:10:56,369 - settings - Setting enable_python_native_blobs to True\n",
      "INFO - 2021-01-26 05:10:56,383 - connection - Connected celiib@at-database.ad.bcm.edu:3306\n"
     ]
    },
    {
     "name": "stdout",
     "output_type": "stream",
     "text": [
      "Connecting celiib@at-database.ad.bcm.edu:3306\n"
     ]
    },
    {
     "name": "stderr",
     "output_type": "stream",
     "text": [
      "INFO - 2021-01-26 05:10:56,690 - settings - Setting enable_python_native_blobs to True\n"
     ]
    }
   ],
   "source": [
    "import numpy as np\n",
    "import datajoint as dj\n",
    "import trimesh\n",
    "from tqdm.notebook import tqdm\n",
    "from pathlib import Path\n",
    "\n",
    "from os import sys\n",
    "sys.path.append(\"/meshAfterParty/\")\n",
    "\n",
    "import datajoint_utils as du\n",
    "from importlib import reload"
   ]
  },
  {
   "cell_type": "code",
   "execution_count": 3,
   "metadata": {},
   "outputs": [],
   "source": [
    "import proofreading_utils as pru\n",
    "import classification_utils as clu\n",
    "import neuron_visualizations as nviz"
   ]
  },
  {
   "cell_type": "markdown",
   "metadata": {},
   "source": [
    "# picking the neuron to look at"
   ]
  },
  {
   "cell_type": "code",
   "execution_count": 20,
   "metadata": {},
   "outputs": [
    {
     "name": "stderr",
     "output_type": "stream",
     "text": [
      "INFO - 2021-01-26 07:13:36,472 - settings - Setting enable_python_native_blobs to True\n",
      "INFO - 2021-01-26 07:13:36,769 - settings - Setting enable_python_native_blobs to True\n"
     ]
    }
   ],
   "source": [
    "minnie,schema = du.configure_minnie_vm()"
   ]
  },
  {
   "cell_type": "code",
   "execution_count": 18,
   "metadata": {},
   "outputs": [
    {
     "data": {
      "text/html": [
       "\n",
       "        \n",
       "        <style type=\"text/css\">\n",
       "            .Relation{\n",
       "                border-collapse:collapse;\n",
       "            }\n",
       "            .Relation th{\n",
       "                background: #A0A0A0; color: #ffffff; padding:4px; border:#f0e0e0 1px solid;\n",
       "                font-weight: normal; font-family: monospace; font-size: 100%;\n",
       "            }\n",
       "            .Relation td{\n",
       "                padding:4px; border:#f0e0e0 1px solid; font-size:100%;\n",
       "            }\n",
       "            .Relation tr:nth-child(odd){\n",
       "                background: #ffffff;\n",
       "            }\n",
       "            .Relation tr:nth-child(even){\n",
       "                background: #f3f1ff;\n",
       "            }\n",
       "            /* Tooltip container */\n",
       "            .djtooltip {\n",
       "            }\n",
       "            /* Tooltip text */\n",
       "            .djtooltip .djtooltiptext {\n",
       "                visibility: hidden;\n",
       "                width: 120px;\n",
       "                background-color: black;\n",
       "                color: #fff;\n",
       "                text-align: center;\n",
       "                padding: 5px 0;\n",
       "                border-radius: 6px;\n",
       "                /* Position the tooltip text - see examples below! */\n",
       "                position: absolute;\n",
       "                z-index: 1;\n",
       "            }\n",
       "            #primary {\n",
       "                font-weight: bold;\n",
       "                color: black;\n",
       "            }\n",
       "\n",
       "            #nonprimary {\n",
       "                font-weight: normal;\n",
       "                color: white;\n",
       "            }\n",
       "\n",
       "            /* Show the tooltip text when you mouse over the tooltip container */\n",
       "            .djtooltip:hover .djtooltiptext {\n",
       "                visibility: visible;\n",
       "            }\n",
       "        </style>\n",
       "        \n",
       "        <b>job reservation table for `microns_minnie65_02`</b>\n",
       "            <div style=\"max-height:1000px;max-width:1500px;overflow:auto;\">\n",
       "            <table border=\"1\" class=\"Relation\">\n",
       "                <thead> <tr style=\"text-align: right;\"> <th> <div class=\"djtooltip\">\n",
       "                                <p id=\"primary\">table_name</p>\n",
       "                                <span class=\"djtooltiptext\">className of the table</span>\n",
       "                            </div></th><th><div class=\"djtooltip\">\n",
       "                                <p id=\"primary\">key_hash</p>\n",
       "                                <span class=\"djtooltiptext\">key hash</span>\n",
       "                            </div></th><th><div class=\"djtooltip\">\n",
       "                                <p id=\"nonprimary\">status</p>\n",
       "                                <span class=\"djtooltiptext\">if tuple is missing, the job is available</span>\n",
       "                            </div></th><th><div class=\"djtooltip\">\n",
       "                                <p id=\"nonprimary\">key</p>\n",
       "                                <span class=\"djtooltiptext\">structure containing the key</span>\n",
       "                            </div></th><th><div class=\"djtooltip\">\n",
       "                                <p id=\"nonprimary\">error_message</p>\n",
       "                                <span class=\"djtooltiptext\">error message returned if failed</span>\n",
       "                            </div></th><th><div class=\"djtooltip\">\n",
       "                                <p id=\"nonprimary\">error_stack</p>\n",
       "                                <span class=\"djtooltiptext\">error stack if failed</span>\n",
       "                            </div></th><th><div class=\"djtooltip\">\n",
       "                                <p id=\"nonprimary\">user</p>\n",
       "                                <span class=\"djtooltiptext\">database user</span>\n",
       "                            </div></th><th><div class=\"djtooltip\">\n",
       "                                <p id=\"nonprimary\">host</p>\n",
       "                                <span class=\"djtooltiptext\">system hostname</span>\n",
       "                            </div></th><th><div class=\"djtooltip\">\n",
       "                                <p id=\"nonprimary\">pid</p>\n",
       "                                <span class=\"djtooltiptext\">system process id</span>\n",
       "                            </div></th><th><div class=\"djtooltip\">\n",
       "                                <p id=\"nonprimary\">connection_id</p>\n",
       "                                <span class=\"djtooltiptext\">connection_id()</span>\n",
       "                            </div></th><th><div class=\"djtooltip\">\n",
       "                                <p id=\"nonprimary\">timestamp</p>\n",
       "                                <span class=\"djtooltiptext\">automatic timestamp</span>\n",
       "                            </div> </th> </tr> </thead>\n",
       "                <tbody> <tr> <td>__decomposition_split</td>\n",
       "<td>01185d62890a925392e301f2235f22f7</td>\n",
       "<td>error</td>\n",
       "<td>=BLOB=</td>\n",
       "<td>Exception: base_node (123) and upstream_node (137) are not connected in the concept network</td>\n",
       "<td>=BLOB=</td>\n",
       "<td>celiib@10.28.0.136</td>\n",
       "<td>at-node9</td>\n",
       "<td>19</td>\n",
       "<td>78360</td>\n",
       "<td>2021-01-26 00:15:25</td></tr><tr><td>__decomposition_split</td>\n",
       "<td>02ec8e9238fa0fc2bb32345caa08c45c</td>\n",
       "<td>error</td>\n",
       "<td>=BLOB=</td>\n",
       "<td>IndexError: index 124610 is out of bounds for axis 0 with size 124610</td>\n",
       "<td>=BLOB=</td>\n",
       "<td>celiib@10.28.0.177</td>\n",
       "<td>at-node50</td>\n",
       "<td>19</td>\n",
       "<td>78324</td>\n",
       "<td>2021-01-25 22:05:54</td></tr><tr><td>__decomposition_split</td>\n",
       "<td>03b2645c30ea2d582e15c9b5442fcebe</td>\n",
       "<td>error</td>\n",
       "<td>=BLOB=</td>\n",
       "<td>IndexError: index 4524 is out of bounds for axis 0 with size 4524</td>\n",
       "<td>=BLOB=</td>\n",
       "<td>celiib@10.66.4.64</td>\n",
       "<td>jr-compute001</td>\n",
       "<td>20</td>\n",
       "<td>78130</td>\n",
       "<td>2021-01-25 21:46:36</td></tr><tr><td>__decomposition_split</td>\n",
       "<td>07ebcb47e106ab01150bdfb2213b23cc</td>\n",
       "<td>error</td>\n",
       "<td>=BLOB=</td>\n",
       "<td>Exception: base_node (44) and upstream_node (47) are not connected in the concept network</td>\n",
       "<td>=BLOB=</td>\n",
       "<td>celiib@10.28.0.137</td>\n",
       "<td>at-node10</td>\n",
       "<td>19</td>\n",
       "<td>78329</td>\n",
       "<td>2021-01-26 00:37:56</td></tr><tr><td>__decomposition_split</td>\n",
       "<td>08242658eb1910118cef2d24440bcd7c</td>\n",
       "<td>error</td>\n",
       "<td>=BLOB=</td>\n",
       "<td>Exception: base_node (22) and upstream_node (21) are not connected in the concept network</td>\n",
       "<td>=BLOB=</td>\n",
       "<td>celiib@10.28.0.150</td>\n",
       "<td>at-node23</td>\n",
       "<td>19</td>\n",
       "<td>78353</td>\n",
       "<td>2021-01-25 23:47:02</td></tr><tr><td>__decomposition_split</td>\n",
       "<td>0bb4bdbc88bbe20f2a82cf87142287d8</td>\n",
       "<td>error</td>\n",
       "<td>=BLOB=</td>\n",
       "<td>IndexError: index 21433 is out of bounds for axis 0 with size 20152</td>\n",
       "<td>=BLOB=</td>\n",
       "<td>celiib@10.66.4.27</td>\n",
       "<td>at-compute005</td>\n",
       "<td>20</td>\n",
       "<td>78115</td>\n",
       "<td>2021-01-25 20:22:43</td></tr><tr><td>__decomposition_split</td>\n",
       "<td>0c1ab060688c9fb5c6fb3c75770a5ead</td>\n",
       "<td>error</td>\n",
       "<td>=BLOB=</td>\n",
       "<td>Exception: base_node (3) and upstream_node (0) are not connected in the concept network</td>\n",
       "<td>=BLOB=</td>\n",
       "<td>celiib@10.28.0.156</td>\n",
       "<td>at-node29</td>\n",
       "<td>19</td>\n",
       "<td>78300</td>\n",
       "<td>2021-01-25 23:21:01</td></tr><tr><td>__decomposition_split</td>\n",
       "<td>134dae03caf9743d364ad93d22f714f5</td>\n",
       "<td>error</td>\n",
       "<td>=BLOB=</td>\n",
       "<td>IndexError: index 206263 is out of bounds for axis 0 with size 52943</td>\n",
       "<td>=BLOB=</td>\n",
       "<td>celiib@10.28.0.134</td>\n",
       "<td>at-node7</td>\n",
       "<td>19</td>\n",
       "<td>78327</td>\n",
       "<td>2021-01-25 22:21:30</td></tr><tr><td>__decomposition_split</td>\n",
       "<td>14036df97d2b1012286fda4feaae83ba</td>\n",
       "<td>error</td>\n",
       "<td>=BLOB=</td>\n",
       "<td>Exception: The number of starting nodes found was not exactly one: []</td>\n",
       "<td>=BLOB=</td>\n",
       "<td>celiib@10.28.0.145</td>\n",
       "<td>at-node18</td>\n",
       "<td>20</td>\n",
       "<td>78314</td>\n",
       "<td>2021-01-25 22:03:11</td></tr><tr><td>__decomposition_split</td>\n",
       "<td>148acf33e87fe66a85d514263df15be4</td>\n",
       "<td>error</td>\n",
       "<td>=BLOB=</td>\n",
       "<td>IndexError: list index out of range</td>\n",
       "<td>=BLOB=</td>\n",
       "<td>celiib@10.28.0.147</td>\n",
       "<td>at-node20</td>\n",
       "<td>19</td>\n",
       "<td>78358</td>\n",
       "<td>2021-01-25 21:56:35</td></tr><tr><td>__decomposition_split</td>\n",
       "<td>1bcf12c35524302e5e8dcb09bc6274fb</td>\n",
       "<td>error</td>\n",
       "<td>=BLOB=</td>\n",
       "<td>IndexError: list index out of range</td>\n",
       "<td>=BLOB=</td>\n",
       "<td>celiib@10.28.0.132</td>\n",
       "<td>at-node5</td>\n",
       "<td>19</td>\n",
       "<td>78341</td>\n",
       "<td>2021-01-26 00:38:59</td></tr><tr><td>__decomposition_split</td>\n",
       "<td>1bd804efc195bd5cc4bd974974e07192</td>\n",
       "<td>error</td>\n",
       "<td>=BLOB=</td>\n",
       "<td>Exception: base_node (276) and upstream_node (264) are not connected in the concept network</td>\n",
       "<td>=BLOB=</td>\n",
       "<td>celiib@10.28.0.138</td>\n",
       "<td>at-node11</td>\n",
       "<td>19</td>\n",
       "<td>77927</td>\n",
       "<td>2021-01-25 20:58:16</td> </tr> </tbody>\n",
       "            </table>\n",
       "            <p>...</p>\n",
       "            <p>Total: 116</p></div>\n",
       "            "
      ],
      "text/plain": [
       "*table_name    *key_hash      status     key        error_message  error_stac user           host           pid     connection_id  timestamp     \n",
       "+------------+ +------------+ +--------+ +--------+ +------------+ +--------+ +------------+ +------------+ +-----+ +------------+ +------------+\n",
       "__decompositio 01185d62890a92 error      =BLOB=     Exception: bas =BLOB=     celiib@10.28.0 at-node9       19      78360          2021-01-26 00:\n",
       "__decompositio 02ec8e9238fa0f error      =BLOB=     IndexError: in =BLOB=     celiib@10.28.0 at-node50      19      78324          2021-01-25 22:\n",
       "__decompositio 03b2645c30ea2d error      =BLOB=     IndexError: in =BLOB=     celiib@10.66.4 jr-compute001  20      78130          2021-01-25 21:\n",
       "__decompositio 07ebcb47e106ab error      =BLOB=     Exception: bas =BLOB=     celiib@10.28.0 at-node10      19      78329          2021-01-26 00:\n",
       "__decompositio 08242658eb1910 error      =BLOB=     Exception: bas =BLOB=     celiib@10.28.0 at-node23      19      78353          2021-01-25 23:\n",
       "__decompositio 0bb4bdbc88bbe2 error      =BLOB=     IndexError: in =BLOB=     celiib@10.66.4 at-compute005  20      78115          2021-01-25 20:\n",
       "__decompositio 0c1ab060688c9f error      =BLOB=     Exception: bas =BLOB=     celiib@10.28.0 at-node29      19      78300          2021-01-25 23:\n",
       "__decompositio 134dae03caf974 error      =BLOB=     IndexError: in =BLOB=     celiib@10.28.0 at-node7       19      78327          2021-01-25 22:\n",
       "__decompositio 14036df97d2b10 error      =BLOB=     Exception: The =BLOB=     celiib@10.28.0 at-node18      20      78314          2021-01-25 22:\n",
       "__decompositio 148acf33e87fe6 error      =BLOB=     IndexError: li =BLOB=     celiib@10.28.0 at-node20      19      78358          2021-01-25 21:\n",
       "__decompositio 1bcf12c3552430 error      =BLOB=     IndexError: li =BLOB=     celiib@10.28.0 at-node5       19      78341          2021-01-26 00:\n",
       "__decompositio 1bd804efc195bd error      =BLOB=     Exception: bas =BLOB=     celiib@10.28.0 at-node11      19      77927          2021-01-25 20:\n",
       "   ...\n",
       " (Total: 116)"
      ]
     },
     "execution_count": 18,
     "metadata": {},
     "output_type": "execute_result"
    }
   ],
   "source": [
    "schema.jobs & \"table_name='__decomposition_split'\" & \"status='error'\""
   ]
  },
  {
   "cell_type": "code",
   "execution_count": 39,
   "metadata": {},
   "outputs": [
    {
     "data": {
      "text/html": [
       "\n",
       "        \n",
       "        <style type=\"text/css\">\n",
       "            .Relation{\n",
       "                border-collapse:collapse;\n",
       "            }\n",
       "            .Relation th{\n",
       "                background: #A0A0A0; color: #ffffff; padding:4px; border:#f0e0e0 1px solid;\n",
       "                font-weight: normal; font-family: monospace; font-size: 100%;\n",
       "            }\n",
       "            .Relation td{\n",
       "                padding:4px; border:#f0e0e0 1px solid; font-size:100%;\n",
       "            }\n",
       "            .Relation tr:nth-child(odd){\n",
       "                background: #ffffff;\n",
       "            }\n",
       "            .Relation tr:nth-child(even){\n",
       "                background: #f3f1ff;\n",
       "            }\n",
       "            /* Tooltip container */\n",
       "            .djtooltip {\n",
       "            }\n",
       "            /* Tooltip text */\n",
       "            .djtooltip .djtooltiptext {\n",
       "                visibility: hidden;\n",
       "                width: 120px;\n",
       "                background-color: black;\n",
       "                color: #fff;\n",
       "                text-align: center;\n",
       "                padding: 5px 0;\n",
       "                border-radius: 6px;\n",
       "                /* Position the tooltip text - see examples below! */\n",
       "                position: absolute;\n",
       "                z-index: 1;\n",
       "            }\n",
       "            #primary {\n",
       "                font-weight: bold;\n",
       "                color: black;\n",
       "            }\n",
       "\n",
       "            #nonprimary {\n",
       "                font-weight: normal;\n",
       "                color: white;\n",
       "            }\n",
       "\n",
       "            /* Show the tooltip text when you mouse over the tooltip container */\n",
       "            .djtooltip:hover .djtooltiptext {\n",
       "                visibility: visible;\n",
       "            }\n",
       "        </style>\n",
       "        \n",
       "        <b>job reservation table for `microns_minnie65_02`</b>\n",
       "            <div style=\"max-height:1000px;max-width:1500px;overflow:auto;\">\n",
       "            <table border=\"1\" class=\"Relation\">\n",
       "                <thead> <tr style=\"text-align: right;\"> <th> <div class=\"djtooltip\">\n",
       "                                <p id=\"primary\">table_name</p>\n",
       "                                <span class=\"djtooltiptext\">className of the table</span>\n",
       "                            </div></th><th><div class=\"djtooltip\">\n",
       "                                <p id=\"primary\">key_hash</p>\n",
       "                                <span class=\"djtooltiptext\">key hash</span>\n",
       "                            </div></th><th><div class=\"djtooltip\">\n",
       "                                <p id=\"nonprimary\">status</p>\n",
       "                                <span class=\"djtooltiptext\">if tuple is missing, the job is available</span>\n",
       "                            </div></th><th><div class=\"djtooltip\">\n",
       "                                <p id=\"nonprimary\">key</p>\n",
       "                                <span class=\"djtooltiptext\">structure containing the key</span>\n",
       "                            </div></th><th><div class=\"djtooltip\">\n",
       "                                <p id=\"nonprimary\">error_message</p>\n",
       "                                <span class=\"djtooltiptext\">error message returned if failed</span>\n",
       "                            </div></th><th><div class=\"djtooltip\">\n",
       "                                <p id=\"nonprimary\">error_stack</p>\n",
       "                                <span class=\"djtooltiptext\">error stack if failed</span>\n",
       "                            </div></th><th><div class=\"djtooltip\">\n",
       "                                <p id=\"nonprimary\">user</p>\n",
       "                                <span class=\"djtooltiptext\">database user</span>\n",
       "                            </div></th><th><div class=\"djtooltip\">\n",
       "                                <p id=\"nonprimary\">host</p>\n",
       "                                <span class=\"djtooltiptext\">system hostname</span>\n",
       "                            </div></th><th><div class=\"djtooltip\">\n",
       "                                <p id=\"nonprimary\">pid</p>\n",
       "                                <span class=\"djtooltiptext\">system process id</span>\n",
       "                            </div></th><th><div class=\"djtooltip\">\n",
       "                                <p id=\"nonprimary\">connection_id</p>\n",
       "                                <span class=\"djtooltiptext\">connection_id()</span>\n",
       "                            </div></th><th><div class=\"djtooltip\">\n",
       "                                <p id=\"nonprimary\">timestamp</p>\n",
       "                                <span class=\"djtooltiptext\">automatic timestamp</span>\n",
       "                            </div> </th> </tr> </thead>\n",
       "                <tbody> <tr> <td>__spine_recalculation</td>\n",
       "<td>0043dfa1021df233a927206121267356</td>\n",
       "<td>error</td>\n",
       "<td>=BLOB=</td>\n",
       "<td>Exception: Segment ID 864691136175024390 should have been in DecompositionSplit but wasnt with n_error_limbs = 2, n_somas = 1 </td>\n",
       "<td>=BLOB=</td>\n",
       "<td>celiib@10.28.0.83</td>\n",
       "<td>at-compute004</td>\n",
       "<td>19</td>\n",
       "<td>79531</td>\n",
       "<td>2021-01-26 04:37:36</td></tr><tr><td>__spine_recalculation</td>\n",
       "<td>01eb67595ecadba27d772ba55599c8db</td>\n",
       "<td>error</td>\n",
       "<td>=BLOB=</td>\n",
       "<td>Exception: Segment ID 864691135994525098 should have been in DecompositionSplit but wasnt with n_error_limbs = 3, n_somas = 2 </td>\n",
       "<td>=BLOB=</td>\n",
       "<td>celiib@10.28.0.129</td>\n",
       "<td>at-node2</td>\n",
       "<td>19</td>\n",
       "<td>79152</td>\n",
       "<td>2021-01-26 05:36:07</td></tr><tr><td>__spine_recalculation</td>\n",
       "<td>02ec8e9238fa0fc2bb32345caa08c45c</td>\n",
       "<td>error</td>\n",
       "<td>=BLOB=</td>\n",
       "<td>Exception: Segment ID 864691135462712516 should have been in DecompositionSplit but wasnt with n_error_limbs = 2, n_somas = 1 </td>\n",
       "<td>=BLOB=</td>\n",
       "<td>celiib@10.28.0.158</td>\n",
       "<td>at-node31</td>\n",
       "<td>21</td>\n",
       "<td>79141</td>\n",
       "<td>2021-01-26 06:39:36</td></tr><tr><td>__spine_recalculation</td>\n",
       "<td>033122f2f006a7571b3e0319636e767f</td>\n",
       "<td>error</td>\n",
       "<td>=BLOB=</td>\n",
       "<td>Exception: Segment ID 864691136116146852 should have been in DecompositionSplit but wasnt with n_error_limbs = 2, n_somas = 1 </td>\n",
       "<td>=BLOB=</td>\n",
       "<td>celiib@10.28.0.142</td>\n",
       "<td>at-node15</td>\n",
       "<td>19</td>\n",
       "<td>79269</td>\n",
       "<td>2021-01-26 09:57:51</td></tr><tr><td>__spine_recalculation</td>\n",
       "<td>033bf55873156174ebd5ff962995c65d</td>\n",
       "<td>error</td>\n",
       "<td>=BLOB=</td>\n",
       "<td>Exception: Segment ID 864691136436406174 should have been in DecompositionSplit but wasnt with n_error_limbs = 2, n_somas = 1 </td>\n",
       "<td>=BLOB=</td>\n",
       "<td>celiib@10.28.0.152</td>\n",
       "<td>at-node25</td>\n",
       "<td>20</td>\n",
       "<td>79157</td>\n",
       "<td>2021-01-26 06:53:04</td></tr><tr><td>__spine_recalculation</td>\n",
       "<td>0376e2e8d41a2fc9bbea42e30bcf3cca</td>\n",
       "<td>error</td>\n",
       "<td>=BLOB=</td>\n",
       "<td>Exception: Segment ID 864691136031741627 should have been in DecompositionSplit but wasnt with n_error_limbs = 2, n_somas = 1 </td>\n",
       "<td>=BLOB=</td>\n",
       "<td>celiib@10.66.4.64</td>\n",
       "<td>jr-compute001</td>\n",
       "<td>19</td>\n",
       "<td>79253</td>\n",
       "<td>2021-01-26 09:28:19</td></tr><tr><td>__spine_recalculation</td>\n",
       "<td>043c49068f7695ec9261438ba904dbf3</td>\n",
       "<td>error</td>\n",
       "<td>=BLOB=</td>\n",
       "<td>Exception: Segment ID 864691136973685276 should have been in DecompositionSplit but wasnt with n_error_limbs = 4, n_somas = 3 </td>\n",
       "<td>=BLOB=</td>\n",
       "<td>celiib@10.28.0.134</td>\n",
       "<td>at-node7</td>\n",
       "<td>19</td>\n",
       "<td>79104</td>\n",
       "<td>2021-01-26 09:43:48</td></tr><tr><td>__spine_recalculation</td>\n",
       "<td>046284442be69537d7d0bdd0be867494</td>\n",
       "<td>error</td>\n",
       "<td>=BLOB=</td>\n",
       "<td>Exception: Segment ID 864691136266437108 should have been in DecompositionSplit but wasnt with n_error_limbs = 2, n_somas = 2 </td>\n",
       "<td>=BLOB=</td>\n",
       "<td>celiib@10.28.0.134</td>\n",
       "<td>at-node7</td>\n",
       "<td>19</td>\n",
       "<td>79104</td>\n",
       "<td>2021-01-26 08:23:16</td></tr><tr><td>__spine_recalculation</td>\n",
       "<td>04ae119215968078e26bff9d4db6b011</td>\n",
       "<td>error</td>\n",
       "<td>=BLOB=</td>\n",
       "<td>Exception: Segment ID 864691136951590367 should have been in DecompositionSplit but wasnt with n_error_limbs = 2, n_somas = 1 </td>\n",
       "<td>=BLOB=</td>\n",
       "<td>celiib@10.28.0.83</td>\n",
       "<td>at-compute004</td>\n",
       "<td>19</td>\n",
       "<td>79531</td>\n",
       "<td>2021-01-26 04:37:37</td></tr><tr><td>__spine_recalculation</td>\n",
       "<td>051b9118fbacf01fd2c9154518c7d2c6</td>\n",
       "<td>error</td>\n",
       "<td>=BLOB=</td>\n",
       "<td>Exception: Segment ID 864691136194008278 should have been in DecompositionSplit but wasnt with n_error_limbs = 3, n_somas = 2 </td>\n",
       "<td>=BLOB=</td>\n",
       "<td>celiib@10.28.0.157</td>\n",
       "<td>at-node30</td>\n",
       "<td>19</td>\n",
       "<td>79262</td>\n",
       "<td>2021-01-26 07:20:18</td></tr><tr><td>__spine_recalculation</td>\n",
       "<td>062791664bcfb18e73276cd211aab1ac</td>\n",
       "<td>error</td>\n",
       "<td>=BLOB=</td>\n",
       "<td>Exception: Segment ID 864691136618383501 should have been in DecompositionSplit but wasnt with n_error_limbs = 1, n_somas = 3 </td>\n",
       "<td>=BLOB=</td>\n",
       "<td>celiib@10.28.0.132</td>\n",
       "<td>at-node5</td>\n",
       "<td>19</td>\n",
       "<td>79218</td>\n",
       "<td>2021-01-26 05:16:14</td></tr><tr><td>__spine_recalculation</td>\n",
       "<td>063ca2c7a5c5e1e2f3ac12077cdaf6c8</td>\n",
       "<td>error</td>\n",
       "<td>=BLOB=</td>\n",
       "<td>Exception: Segment ID 864691136273803925 should have been in DecompositionSplit but wasnt with n_error_limbs = 2, n_somas = 1 </td>\n",
       "<td>=BLOB=</td>\n",
       "<td>celiib@10.66.4.64</td>\n",
       "<td>jr-compute001</td>\n",
       "<td>25</td>\n",
       "<td>79200</td>\n",
       "<td>2021-01-26 05:01:29</td> </tr> </tbody>\n",
       "            </table>\n",
       "            <p>...</p>\n",
       "            <p>Total: 599</p></div>\n",
       "            "
      ],
      "text/plain": [
       "*table_name    *key_hash      status     key        error_message  error_stac user           host           pid     connection_id  timestamp     \n",
       "+------------+ +------------+ +--------+ +--------+ +------------+ +--------+ +------------+ +------------+ +-----+ +------------+ +------------+\n",
       "__spine_recalc 0043dfa1021df2 error      =BLOB=     Exception: Seg =BLOB=     celiib@10.28.0 at-compute004  19      79531          2021-01-26 04:\n",
       "__spine_recalc 01eb67595ecadb error      =BLOB=     Exception: Seg =BLOB=     celiib@10.28.0 at-node2       19      79152          2021-01-26 05:\n",
       "__spine_recalc 02ec8e9238fa0f error      =BLOB=     Exception: Seg =BLOB=     celiib@10.28.0 at-node31      21      79141          2021-01-26 06:\n",
       "__spine_recalc 033122f2f006a7 error      =BLOB=     Exception: Seg =BLOB=     celiib@10.28.0 at-node15      19      79269          2021-01-26 09:\n",
       "__spine_recalc 033bf558731561 error      =BLOB=     Exception: Seg =BLOB=     celiib@10.28.0 at-node25      20      79157          2021-01-26 06:\n",
       "__spine_recalc 0376e2e8d41a2f error      =BLOB=     Exception: Seg =BLOB=     celiib@10.66.4 jr-compute001  19      79253          2021-01-26 09:\n",
       "__spine_recalc 043c49068f7695 error      =BLOB=     Exception: Seg =BLOB=     celiib@10.28.0 at-node7       19      79104          2021-01-26 09:\n",
       "__spine_recalc 046284442be695 error      =BLOB=     Exception: Seg =BLOB=     celiib@10.28.0 at-node7       19      79104          2021-01-26 08:\n",
       "__spine_recalc 04ae1192159680 error      =BLOB=     Exception: Seg =BLOB=     celiib@10.28.0 at-compute004  19      79531          2021-01-26 04:\n",
       "__spine_recalc 051b9118fbacf0 error      =BLOB=     Exception: Seg =BLOB=     celiib@10.28.0 at-node30      19      79262          2021-01-26 07:\n",
       "__spine_recalc 062791664bcfb1 error      =BLOB=     Exception: Seg =BLOB=     celiib@10.28.0 at-node5       19      79218          2021-01-26 05:\n",
       "__spine_recalc 063ca2c7a5c5e1 error      =BLOB=     Exception: Seg =BLOB=     celiib@10.66.4 jr-compute001  25      79200          2021-01-26 05:\n",
       "   ...\n",
       " (Total: 599)"
      ]
     },
     "execution_count": 39,
     "metadata": {},
     "output_type": "execute_result"
    }
   ],
   "source": [
    "schema.jobs & \"table_name='__spine_recalculation'\" & \"status='error'\""
   ]
  },
  {
   "cell_type": "code",
   "execution_count": 45,
   "metadata": {},
   "outputs": [
    {
     "ename": "AssertionError",
     "evalue": "Declaration context is not set",
     "output_type": "error",
     "traceback": [
      "\u001b[0;31m---------------------------------------------------------------------------\u001b[0m",
      "\u001b[0;31mAssertionError\u001b[0m                            Traceback (most recent call last)",
      "\u001b[0;32m<ipython-input-45-acd0cba64f99>\u001b[0m in \u001b[0;36m<module>\u001b[0;34m\u001b[0m\n\u001b[0;32m----> 1\u001b[0;31m \u001b[0;34m(\u001b[0m\u001b[0mminnie\u001b[0m\u001b[0;34m.\u001b[0m\u001b[0mMesh\u001b[0m \u001b[0;34m&\u001b[0m \u001b[0mdict\u001b[0m\u001b[0;34m(\u001b[0m\u001b[0msegment_id\u001b[0m\u001b[0;34m=\u001b[0m\u001b[0;36m864691136951653599\u001b[0m\u001b[0;34m)\u001b[0m\u001b[0;34m)\u001b[0m\u001b[0;34m.\u001b[0m\u001b[0mdelete\u001b[0m\u001b[0;34m(\u001b[0m\u001b[0;34m)\u001b[0m\u001b[0;34m\u001b[0m\u001b[0;34m\u001b[0m\u001b[0m\n\u001b[0m",
      "\u001b[0;32m/usr/local/lib/python3.6/dist-packages/datajoint/table.py\u001b[0m in \u001b[0;36mdelete\u001b[0;34m(self, verbose)\u001b[0m\n\u001b[1;32m    407\u001b[0m                         \u001b[0mdelete_list\u001b[0m\u001b[0;34m[\u001b[0m\u001b[0mr\u001b[0m\u001b[0;34m[\u001b[0m\u001b[0;36m0\u001b[0m\u001b[0;34m]\u001b[0m\u001b[0;34m]\u001b[0m\u001b[0;34m.\u001b[0m\u001b[0mproj\u001b[0m\u001b[0;34m(\u001b[0m\u001b[0;34m**\u001b[0m\u001b[0;34m{\u001b[0m\u001b[0ma\u001b[0m\u001b[0;34m:\u001b[0m \u001b[0mb\u001b[0m \u001b[0;32mfor\u001b[0m \u001b[0ma\u001b[0m\u001b[0;34m,\u001b[0m \u001b[0mb\u001b[0m \u001b[0;32min\u001b[0m \u001b[0mr\u001b[0m\u001b[0;34m[\u001b[0m\u001b[0;36m1\u001b[0m\u001b[0;34m]\u001b[0m\u001b[0;34m[\u001b[0m\u001b[0;34m'attr_map'\u001b[0m\u001b[0;34m]\u001b[0m\u001b[0;34m.\u001b[0m\u001b[0mitems\u001b[0m\u001b[0;34m(\u001b[0m\u001b[0;34m)\u001b[0m\u001b[0;34m}\u001b[0m\u001b[0;34m)\u001b[0m\u001b[0;34m\u001b[0m\u001b[0;34m\u001b[0m\u001b[0m\n\u001b[1;32m    408\u001b[0m                         if isinstance(r, _RenameMap) else r)\n\u001b[0;32m--> 409\u001b[0;31m                     for r in restrictions[name]])\n\u001b[0m\u001b[1;32m    410\u001b[0m         \u001b[0;32mif\u001b[0m \u001b[0msafe\u001b[0m\u001b[0;34m:\u001b[0m\u001b[0;34m\u001b[0m\u001b[0;34m\u001b[0m\u001b[0m\n\u001b[1;32m    411\u001b[0m             \u001b[0mprint\u001b[0m\u001b[0;34m(\u001b[0m\u001b[0;34m'About to delete:'\u001b[0m\u001b[0;34m)\u001b[0m\u001b[0;34m\u001b[0m\u001b[0;34m\u001b[0m\u001b[0m\n",
      "\u001b[0;32m/usr/local/lib/python3.6/dist-packages/datajoint/expression.py\u001b[0m in \u001b[0;36mrestrict\u001b[0;34m(self, restriction)\u001b[0m\n\u001b[1;32m    349\u001b[0m         \u001b[0mstring\u001b[0m\u001b[0;34m,\u001b[0m \u001b[0;32mor\u001b[0m \u001b[0man\u001b[0m \u001b[0mAndList\u001b[0m\u001b[0;34m.\u001b[0m\u001b[0;34m\u001b[0m\u001b[0;34m\u001b[0m\u001b[0m\n\u001b[1;32m    350\u001b[0m         \"\"\"\n\u001b[0;32m--> 351\u001b[0;31m         \u001b[0;32massert\u001b[0m \u001b[0mis_true\u001b[0m\u001b[0;34m(\u001b[0m\u001b[0mrestriction\u001b[0m\u001b[0;34m)\u001b[0m \u001b[0;32mor\u001b[0m \u001b[0;32mnot\u001b[0m \u001b[0mself\u001b[0m\u001b[0;34m.\u001b[0m\u001b[0mheading\u001b[0m\u001b[0;34m.\u001b[0m\u001b[0mexpressions\u001b[0m \u001b[0;32mor\u001b[0m \u001b[0misinstance\u001b[0m\u001b[0;34m(\u001b[0m\u001b[0mself\u001b[0m\u001b[0;34m,\u001b[0m \u001b[0mGroupBy\u001b[0m\u001b[0;34m)\u001b[0m\u001b[0;34m,\u001b[0m\u001b[0;31m \u001b[0m\u001b[0;31m\\\u001b[0m\u001b[0;34m\u001b[0m\u001b[0;34m\u001b[0m\u001b[0m\n\u001b[0m\u001b[1;32m    352\u001b[0m             \u001b[0;34m\"Cannot restrict a projection with renamed attributes in place.\"\u001b[0m\u001b[0;34m\u001b[0m\u001b[0;34m\u001b[0m\u001b[0m\n\u001b[1;32m    353\u001b[0m         \u001b[0mself\u001b[0m\u001b[0;34m.\u001b[0m\u001b[0mrestriction\u001b[0m\u001b[0;34m.\u001b[0m\u001b[0mappend\u001b[0m\u001b[0;34m(\u001b[0m\u001b[0mrestriction\u001b[0m\u001b[0;34m)\u001b[0m\u001b[0;34m\u001b[0m\u001b[0;34m\u001b[0m\u001b[0m\n",
      "\u001b[0;32m/usr/local/lib/python3.6/dist-packages/datajoint/table.py\u001b[0m in \u001b[0;36mheading\u001b[0;34m(self)\u001b[0m\n\u001b[1;32m     48\u001b[0m         \u001b[0;32mif\u001b[0m \u001b[0;32mnot\u001b[0m \u001b[0mself\u001b[0m\u001b[0;34m.\u001b[0m\u001b[0m_heading\u001b[0m \u001b[0;32mand\u001b[0m \u001b[0mself\u001b[0m\u001b[0;34m.\u001b[0m\u001b[0mconnection\u001b[0m \u001b[0;32mis\u001b[0m \u001b[0;32mnot\u001b[0m \u001b[0;32mNone\u001b[0m\u001b[0;34m:\u001b[0m  \u001b[0;31m# lazy loading of heading\u001b[0m\u001b[0;34m\u001b[0m\u001b[0;34m\u001b[0m\u001b[0m\n\u001b[1;32m     49\u001b[0m             self._heading.init_from_database(\n\u001b[0;32m---> 50\u001b[0;31m                 self.connection, self.database, self.table_name, self.declaration_context)\n\u001b[0m\u001b[1;32m     51\u001b[0m         \u001b[0;32mreturn\u001b[0m \u001b[0mself\u001b[0m\u001b[0;34m.\u001b[0m\u001b[0m_heading\u001b[0m\u001b[0;34m\u001b[0m\u001b[0;34m\u001b[0m\u001b[0m\n\u001b[1;32m     52\u001b[0m \u001b[0;34m\u001b[0m\u001b[0m\n",
      "\u001b[0;32m/usr/local/lib/python3.6/dist-packages/datajoint/heading.py\u001b[0m in \u001b[0;36minit_from_database\u001b[0;34m(self, conn, database, table_name, context)\u001b[0m\n\u001b[1;32m    228\u001b[0m             \u001b[0;31m# process adapted attribute types\u001b[0m\u001b[0;34m\u001b[0m\u001b[0;34m\u001b[0m\u001b[0;34m\u001b[0m\u001b[0m\n\u001b[1;32m    229\u001b[0m             \u001b[0;32mif\u001b[0m \u001b[0mspecial\u001b[0m \u001b[0;32mand\u001b[0m \u001b[0mTYPE_PATTERN\u001b[0m\u001b[0;34m[\u001b[0m\u001b[0;34m'ADAPTED'\u001b[0m\u001b[0;34m]\u001b[0m\u001b[0;34m.\u001b[0m\u001b[0mmatch\u001b[0m\u001b[0;34m(\u001b[0m\u001b[0mattr\u001b[0m\u001b[0;34m[\u001b[0m\u001b[0;34m'type'\u001b[0m\u001b[0;34m]\u001b[0m\u001b[0;34m)\u001b[0m\u001b[0;34m:\u001b[0m\u001b[0;34m\u001b[0m\u001b[0;34m\u001b[0m\u001b[0m\n\u001b[0;32m--> 230\u001b[0;31m                 \u001b[0;32massert\u001b[0m \u001b[0mcontext\u001b[0m \u001b[0;32mis\u001b[0m \u001b[0;32mnot\u001b[0m \u001b[0;32mNone\u001b[0m\u001b[0;34m,\u001b[0m \u001b[0;34m'Declaration context is not set'\u001b[0m\u001b[0;34m\u001b[0m\u001b[0;34m\u001b[0m\u001b[0m\n\u001b[0m\u001b[1;32m    231\u001b[0m                 \u001b[0madapter_name\u001b[0m \u001b[0;34m=\u001b[0m \u001b[0mspecial\u001b[0m\u001b[0;34m[\u001b[0m\u001b[0;34m'type'\u001b[0m\u001b[0;34m]\u001b[0m\u001b[0;34m\u001b[0m\u001b[0;34m\u001b[0m\u001b[0m\n\u001b[1;32m    232\u001b[0m                 \u001b[0;32mtry\u001b[0m\u001b[0;34m:\u001b[0m\u001b[0;34m\u001b[0m\u001b[0;34m\u001b[0m\u001b[0m\n",
      "\u001b[0;31mAssertionError\u001b[0m: Declaration context is not set"
     ]
    }
   ],
   "source": [
    "(minnie.Mesh & dict(segment_id=864691136951653599)).delete()"
   ]
  },
  {
   "cell_type": "code",
   "execution_count": null,
   "metadata": {},
   "outputs": [],
   "source": [
    "neuro"
   ]
  },
  {
   "cell_type": "code",
   "execution_count": 35,
   "metadata": {},
   "outputs": [
    {
     "data": {
      "text/plain": [
       "13086"
      ]
     },
     "execution_count": 35,
     "metadata": {},
     "output_type": "execute_result"
    }
   ],
   "source": [
    "len(minnie.DecompositionSplit())"
   ]
  },
  {
   "cell_type": "code",
   "execution_count": null,
   "metadata": {
    "scrolled": true
   },
   "outputs": [],
   "source": [
    "dj.config[\"display.limit\"] = 50\n",
    "prediction_and_label_table = minnie.CellTypes() * du.get_exc_inh_classified_table()\n",
    "new_table = prediction_and_label_table.proj(\"cell_type_predicted\",\"cell_type\")\n",
    "new_table"
   ]
  },
  {
   "cell_type": "markdown",
   "metadata": {},
   "source": [
    "# Checking the Splitting"
   ]
  },
  {
   "cell_type": "code",
   "execution_count": null,
   "metadata": {},
   "outputs": [],
   "source": [
    "minnie.DecompositionSplit()"
   ]
  },
  {
   "cell_type": "code",
   "execution_count": null,
   "metadata": {},
   "outputs": [],
   "source": [
    "neuron_obj = (minnie.Decomposition() & dict(segment_id=864691134743737238)).fetch1(\"decomposition\")\n",
    "neuron_obj"
   ]
  },
  {
   "cell_type": "code",
   "execution_count": null,
   "metadata": {},
   "outputs": [],
   "source": [
    "nviz.plot_soma_limb_concept_network(neuron_obj)"
   ]
  },
  {
   "cell_type": "code",
   "execution_count": null,
   "metadata": {},
   "outputs": [],
   "source": [
    "nviz.visualize_neuron(neuron_obj,\n",
    "                     limb_branch_dict=\"all\")"
   ]
  },
  {
   "cell_type": "code",
   "execution_count": null,
   "metadata": {},
   "outputs": [],
   "source": []
  },
  {
   "cell_type": "code",
   "execution_count": null,
   "metadata": {},
   "outputs": [],
   "source": [
    "neuron_obj = (minnie.Decomposition() & dict(segment_id=864691134743737238)).fetch1(\"decomposition\")\n",
    "neuron_obj"
   ]
  },
  {
   "cell_type": "code",
   "execution_count": null,
   "metadata": {},
   "outputs": [],
   "source": []
  },
  {
   "cell_type": "markdown",
   "metadata": {},
   "source": [
    "# Getting the ids that have different labels"
   ]
  },
  {
   "cell_type": "code",
   "execution_count": null,
   "metadata": {},
   "outputs": [],
   "source": [
    "segment_ids,prediction,labels  = new_table.fetch(\"segment_id\",\"cell_type_predicted\",\"cell_type\")"
   ]
  },
  {
   "cell_type": "code",
   "execution_count": null,
   "metadata": {},
   "outputs": [],
   "source": [
    "error_segments = segment_ids[np.where(prediction != labels)[0]]\n",
    "error_segments"
   ]
  },
  {
   "cell_type": "code",
   "execution_count": null,
   "metadata": {},
   "outputs": [],
   "source": [
    "minnie.CellTypes()"
   ]
  },
  {
   "cell_type": "markdown",
   "metadata": {},
   "source": [
    "# checking the statistics of different inhibitory and excitatory neurons"
   ]
  },
  {
   "cell_type": "code",
   "execution_count": null,
   "metadata": {},
   "outputs": [],
   "source": [
    "stats_proj = [\n",
    "\"cell_type_predicted\",\n",
    "\"spine_category\",\n",
    "\"axon_angle_maximum\",\n",
    "\"n_axons\",\n",
    "\"n_apicals\",\n",
    "\"spine_density\",\n",
    "\"n_branches_processed\",\n",
    "\"skeletal_length_processed\",\n",
    "\"n_branches_in_search_radius\",\n",
    "\"skeletal_length_in_search_radius\",\n",
    "]"
   ]
  },
  {
   "cell_type": "code",
   "execution_count": null,
   "metadata": {},
   "outputs": [],
   "source": [
    "import pandas as pd\n",
    "import pandas_utils as pu"
   ]
  },
  {
   "cell_type": "code",
   "execution_count": null,
   "metadata": {},
   "outputs": [],
   "source": [
    "cell_type_data = minnie.CellTypes.proj(*stats_proj).fetch(as_dict=True)"
   ]
  },
  {
   "cell_type": "code",
   "execution_count": null,
   "metadata": {},
   "outputs": [],
   "source": [
    "cell_df = pu.dicts_to_dataframe(cell_type_data)\n",
    "non_error_cell = cell_df.query(\"(not segment_id in @error_segments)\",local_dict=dict(error_seegments=error_segments))\n",
    "non_error_cell"
   ]
  },
  {
   "cell_type": "code",
   "execution_count": null,
   "metadata": {},
   "outputs": [],
   "source": [
    "[non_error_cell][0]"
   ]
  },
  {
   "cell_type": "code",
   "execution_count": null,
   "metadata": {},
   "outputs": [],
   "source": [
    "import numpy_utils as nu\n",
    "nu.turn_off_scientific_notation()\n",
    "(non_error_cell[non_error_cell[\"cell_type_predicted\"] == 'inhibitory'][\"spine_density\"].to_numpy())"
   ]
  },
  {
   "cell_type": "code",
   "execution_count": null,
   "metadata": {
    "scrolled": false
   },
   "outputs": [],
   "source": [
    "pu.plot_histograms_by_grouping(non_error_cell,\n",
    "                           column_for_grouping=\"cell_type_predicted\",\n",
    "                           columns=stats_proj,\n",
    "                           density=True,\n",
    "                              n_bins=20)"
   ]
  },
  {
   "cell_type": "code",
   "execution_count": null,
   "metadata": {},
   "outputs": [],
   "source": [
    "\"\"\"\n",
    "Conclusion: Changing the spine density will be the best bet\n",
    "\n",
    "\"\"\""
   ]
  },
  {
   "cell_type": "markdown",
   "metadata": {},
   "source": [
    "# Trying a decision tree calssification"
   ]
  },
  {
   "cell_type": "code",
   "execution_count": null,
   "metadata": {},
   "outputs": [],
   "source": [
    "import machine_learning_utils as mlu"
   ]
  },
  {
   "cell_type": "code",
   "execution_count": null,
   "metadata": {},
   "outputs": [],
   "source": [
    "col_names = [\"spine_density\",\"skeletal_length_processed\",\"axon_angle_maximum\",\"n_axons\",\"n_apicals\"]\n",
    "target_column = \"cell_type_predicted\"\n",
    "\n",
    "dec_tree = mlu.decision_tree_sklearn(non_error_cell,\n",
    "                         target_column=target_column,\n",
    "                                    feature_columns=col_names)\n",
    "\n",
    "mlu.plot_decision_tree(dec_tree,\n",
    "                       col_names)"
   ]
  },
  {
   "cell_type": "code",
   "execution_count": null,
   "metadata": {},
   "outputs": [],
   "source": [
    "mlu.print_tree_structure_description(clf)"
   ]
  },
  {
   "cell_type": "markdown",
   "metadata": {},
   "source": [
    "# Checking certain neurons"
   ]
  },
  {
   "cell_type": "code",
   "execution_count": null,
   "metadata": {},
   "outputs": [],
   "source": [
    "segment_id = 864691135269778085 #solved by adjusting the parameters\n",
    "#segment_id = 864691135781479503 #solved\n",
    "segment_id = 864691135523678660\n",
    "segment_id = 864691135500208836\n",
    "segment_id = 864691135937157636 #had to add an extra filter for really unspiny neurons\n",
    "segment_id = 864691135490141124\n",
    "segment_id =864691135256136111\n",
    "segment_id = 864691135730102201\n",
    "segment_id = 864691135581209284\n",
    "segment_id = 864691135736483732 #(one that errored on calculate spines)\n"
   ]
  },
  {
   "cell_type": "code",
   "execution_count": null,
   "metadata": {},
   "outputs": [],
   "source": [
    "# test 2: \n",
    "segment_id = 864691135500208836\n",
    "segment_id = 864691135461969906\n",
    "segment_id = 864691135730102201\n",
    "segment_id = 864691135497663251\n",
    "segment_id = 864691135888524169\n",
    "segment_id = 864691135488238394\n",
    "segment_id = 864691136023751737"
   ]
  },
  {
   "cell_type": "code",
   "execution_count": null,
   "metadata": {
    "scrolled": true
   },
   "outputs": [],
   "source": [
    "du.get_exc_inh_classified_table() & dict(segment_id=segment_id)"
   ]
  },
  {
   "cell_type": "code",
   "execution_count": null,
   "metadata": {},
   "outputs": [],
   "source": [
    "minnie.CellTypes() & dict(segment_id=segment_id)"
   ]
  },
  {
   "cell_type": "code",
   "execution_count": null,
   "metadata": {
    "scrolled": true
   },
   "outputs": [],
   "source": [
    "minnie.DecompositionSplit() & dict(segment_id=segment_id)"
   ]
  },
  {
   "cell_type": "code",
   "execution_count": null,
   "metadata": {},
   "outputs": [],
   "source": [
    "neuron_obj = (minnie.Decomposition() & dict(segment_id=segment_id)).fetch1(\"decomposition\")\n",
    "spine_data = (minnie.CellTypes & dict(segment_id=segment_id)).fetch1(\"spine_data\")"
   ]
  },
  {
   "cell_type": "code",
   "execution_count": null,
   "metadata": {},
   "outputs": [],
   "source": [
    "#spine_data = (minnie.CellTypes & dict(segment_id=segment_id)).fetch1(\"spine_data\")\n",
    "neuron_obj.set_computed_attribute_data(spine_data)"
   ]
  },
  {
   "cell_type": "code",
   "execution_count": null,
   "metadata": {},
   "outputs": [],
   "source": [
    "# len(minnie.Decomposition())\n",
    "# schema.jobs & \"table_name='__decomposition'\"   "
   ]
  },
  {
   "cell_type": "code",
   "execution_count": null,
   "metadata": {},
   "outputs": [],
   "source": [
    "neuron_obj.segment_id"
   ]
  },
  {
   "cell_type": "code",
   "execution_count": null,
   "metadata": {},
   "outputs": [],
   "source": [
    "# nviz.visualize_neuron(neuron_obj,\n",
    "#                        limb_branch_dict=\"all\")"
   ]
  },
  {
   "cell_type": "code",
   "execution_count": null,
   "metadata": {},
   "outputs": [],
   "source": [
    "nviz.plot_spines(neuron_obj)"
   ]
  },
  {
   "cell_type": "code",
   "execution_count": null,
   "metadata": {},
   "outputs": [],
   "source": [
    "neuron_obj.segment_id"
   ]
  },
  {
   "cell_type": "code",
   "execution_count": null,
   "metadata": {
    "scrolled": true
   },
   "outputs": [],
   "source": [
    "(inh_exc_class,\n",
    " spine_category,\n",
    " axon_angles,\n",
    " n_axons,\n",
    " n_apicals,\n",
    " neuron_spine_density,\n",
    " n_branches_processed,\n",
    " skeletal_length_processed,\n",
    " n_branches_in_search_radius,\n",
    " skeletal_length_in_search_radius\n",
    " ) = clu.inhibitory_excitatory_classifier(neuron_obj,\n",
    "                                    return_spine_classification=True,\n",
    "                                    return_axon_angles=True,\n",
    "                                     return_n_axons=True,\n",
    "                                     return_n_apicals=True,\n",
    "                                     return_spine_statistics=True)"
   ]
  },
  {
   "cell_type": "code",
   "execution_count": null,
   "metadata": {},
   "outputs": [],
   "source": [
    "(inh_exc_class,\n",
    " spine_category,\n",
    " axon_angles,\n",
    " n_axons,\n",
    " n_apicals,\n",
    " neuron_spine_density,\n",
    " n_branches_processed,\n",
    " skeletal_length_processed,\n",
    " n_branches_in_search_radius,\n",
    " skeletal_length_in_search_radius\n",
    " ) "
   ]
  },
  {
   "cell_type": "code",
   "execution_count": null,
   "metadata": {},
   "outputs": [],
   "source": []
  },
  {
   "cell_type": "code",
   "execution_count": null,
   "metadata": {},
   "outputs": [],
   "source": []
  },
  {
   "cell_type": "code",
   "execution_count": null,
   "metadata": {},
   "outputs": [],
   "source": []
  },
  {
   "cell_type": "code",
   "execution_count": null,
   "metadata": {},
   "outputs": [],
   "source": []
  },
  {
   "cell_type": "code",
   "execution_count": null,
   "metadata": {},
   "outputs": [],
   "source": []
  },
  {
   "cell_type": "code",
   "execution_count": null,
   "metadata": {},
   "outputs": [],
   "source": [
    "clu.apical_classification(neuron_obj,\n",
    "                         plot_viable_limbs=True,\n",
    "                         plot_apical=True,\n",
    "                          apical_width_threshold = 300,\n",
    "                         verbose=True)"
   ]
  },
  {
   "cell_type": "code",
   "execution_count": null,
   "metadata": {
    "scrolled": false
   },
   "outputs": [],
   "source": [
    "clu.axon_classification(neuron_obj,\n",
    "                        plot_axon_like_segments=True,\n",
    "                        plot_candidates=True,\n",
    "                       plot_axons=True\n",
    "                       )"
   ]
  },
  {
   "cell_type": "code",
   "execution_count": null,
   "metadata": {},
   "outputs": [],
   "source": [
    "nviz.visualize_neuron(neuron_obj,\n",
    "                      limb_branch_dict=dict(L0=\"all\"))"
   ]
  },
  {
   "cell_type": "code",
   "execution_count": null,
   "metadata": {},
   "outputs": [],
   "source": []
  },
  {
   "cell_type": "code",
   "execution_count": null,
   "metadata": {},
   "outputs": [],
   "source": []
  },
  {
   "cell_type": "code",
   "execution_count": null,
   "metadata": {},
   "outputs": [],
   "source": []
  },
  {
   "cell_type": "code",
   "execution_count": null,
   "metadata": {},
   "outputs": [],
   "source": []
  },
  {
   "cell_type": "code",
   "execution_count": null,
   "metadata": {},
   "outputs": [],
   "source": [
    "nviz.visualize_neuron(neuron_obj,\n",
    "                     limb_branch_dict=\"all\")"
   ]
  },
  {
   "cell_type": "markdown",
   "metadata": {},
   "source": [
    "# checking a sparsely spiny excitatory"
   ]
  },
  {
   "cell_type": "code",
   "execution_count": null,
   "metadata": {},
   "outputs": [],
   "source": [
    "segment_id = 864691135644605167"
   ]
  },
  {
   "cell_type": "code",
   "execution_count": null,
   "metadata": {},
   "outputs": [],
   "source": [
    "exc_obj = (minnie.Decomposition() & dict(segment_id=segment_id)).fetch1(\"decomposition\")"
   ]
  },
  {
   "cell_type": "code",
   "execution_count": null,
   "metadata": {},
   "outputs": [],
   "source": [
    "exc_obj.calculate_spines()"
   ]
  },
  {
   "cell_type": "code",
   "execution_count": null,
   "metadata": {},
   "outputs": [],
   "source": [
    "nviz.plot_spines(exc_obj)"
   ]
  },
  {
   "cell_type": "code",
   "execution_count": null,
   "metadata": {},
   "outputs": [],
   "source": [
    "(inh_exc_class,\n",
    " spine_category,\n",
    " axon_angles,\n",
    " n_axons,\n",
    " n_apicals,\n",
    " neuron_spine_density,\n",
    " n_branches_processed,\n",
    " skeletal_length_processed,\n",
    " n_branches_in_search_radius,\n",
    " skeletal_length_in_search_radius\n",
    " ) = clu.inhibitory_excitatory_classifier(exc_obj,\n",
    "                                    return_spine_classification=True,\n",
    "                                    return_axon_angles=True,\n",
    "                                     return_n_axons=True,\n",
    "                                     return_n_apicals=True,\n",
    "                                     return_spine_statistics=True)"
   ]
  },
  {
   "cell_type": "code",
   "execution_count": null,
   "metadata": {},
   "outputs": [],
   "source": [
    "(inh_exc_class,\n",
    " spine_category,\n",
    " axon_angles,\n",
    " n_axons,\n",
    " n_apicals,\n",
    " neuron_spine_density,\n",
    " n_branches_processed,\n",
    " skeletal_length_processed,\n",
    " n_branches_in_search_radius,\n",
    " skeletal_length_in_search_radius\n",
    " ) "
   ]
  },
  {
   "cell_type": "code",
   "execution_count": null,
   "metadata": {},
   "outputs": [],
   "source": [
    "nviz.visualize_neuron(neuron_obj,\n",
    "                      limb_branch_dict=ns.axon_width_like_segments(neuron_obj,\n",
    "                           include_ais=True))"
   ]
  },
  {
   "cell_type": "code",
   "execution_count": null,
   "metadata": {},
   "outputs": [],
   "source": [
    "import networkx_utils as xu"
   ]
  },
  {
   "cell_type": "code",
   "execution_count": null,
   "metadata": {},
   "outputs": [],
   "source": [
    "xu.get_coordinate_by_graph_node"
   ]
  },
  {
   "cell_type": "code",
   "execution_count": null,
   "metadata": {
    "scrolled": true
   },
   "outputs": [],
   "source": [
    "clu.axon_classification(neuron_obj,\n",
    "                       plot_axons=True)"
   ]
  },
  {
   "cell_type": "code",
   "execution_count": null,
   "metadata": {},
   "outputs": [],
   "source": [
    "ret_col = nviz.visualize_neuron(neuron_obj,\n",
    "                     limb_branch_dict=dict(L0=\"all\"),\n",
    "                     return_color_dict=True)"
   ]
  },
  {
   "cell_type": "code",
   "execution_count": null,
   "metadata": {},
   "outputs": [],
   "source": [
    "nviz.plot_limb_concept_network_2D(neuron_obj,\n",
    "                                 node_colors=ret_col)"
   ]
  },
  {
   "cell_type": "code",
   "execution_count": null,
   "metadata": {},
   "outputs": [],
   "source": [
    "import skeleton_utils as sk\n",
    "import neuron_searching as ns"
   ]
  },
  {
   "cell_type": "code",
   "execution_count": null,
   "metadata": {},
   "outputs": [],
   "source": [
    "lower_width_bound = 140\n",
    "upper_width_bound = 500 \n",
    "spine_threshold = 2\n",
    "skeletal_distance_threshold = 110000\n",
    "skeletal_length_threshold = 10000\n",
    "\n",
    "close_limb_branch_dict = ns.query_neuron(neuron_obj,\n",
    "                                            functions_list=[\"skeletal_distance_from_soma_excluding_node\",\"no_spine_median_mesh_center\",\n",
    "                                                            \"n_spines\",\"spine_density\",\"skeletal_length\"],\n",
    "                                            query=(\n",
    "                                                    f\"(skeletal_distance_from_soma_excluding_node<{skeletal_distance_threshold})\"\n",
    "                                                   f\" and (no_spine_median_mesh_center > {lower_width_bound})\"\n",
    "                                                   f\" and (no_spine_median_mesh_center < {upper_width_bound})\"\n",
    "                                                  f\" and (n_spines > {spine_threshold})\"\n",
    "                                                f\" and skeletal_length > {skeletal_length_threshold} \"\n",
    "                                                  ),)\n",
    "close_limb_branch_dict"
   ]
  },
  {
   "cell_type": "code",
   "execution_count": null,
   "metadata": {},
   "outputs": [],
   "source": [
    "nviz.visualize_neuron(neuron_obj,\n",
    "                      visualize_type=[\"mesh\"],\n",
    "                     limb_branch_dict=close_limb_branch_dict,\n",
    "                     mesh_color=\"red\",\n",
    "                     mesh_whole_neuron=True)"
   ]
  },
  {
   "cell_type": "code",
   "execution_count": null,
   "metadata": {},
   "outputs": [],
   "source": [
    "nviz.plot_branches_with_spines(neuron_obj[0][5])"
   ]
  },
  {
   "cell_type": "code",
   "execution_count": null,
   "metadata": {},
   "outputs": [],
   "source": [
    "nviz.plot_spines(neuron_obj)"
   ]
  },
  {
   "cell_type": "code",
   "execution_count": null,
   "metadata": {},
   "outputs": [],
   "source": [
    "nviz.plot_spines(neuron_obj)"
   ]
  },
  {
   "cell_type": "code",
   "execution_count": null,
   "metadata": {},
   "outputs": [],
   "source": [
    "neuron_obj.calculate_spines()"
   ]
  },
  {
   "cell_type": "code",
   "execution_count": null,
   "metadata": {},
   "outputs": [],
   "source": [
    "spine_data = neuron_obj.get_computed_attribute_data(attributes=[\"spines\",\"spines_volume\"])"
   ]
  },
  {
   "cell_type": "code",
   "execution_count": null,
   "metadata": {},
   "outputs": [],
   "source": [
    "import system_utils as su"
   ]
  },
  {
   "cell_type": "code",
   "execution_count": null,
   "metadata": {},
   "outputs": [],
   "source": [
    "su.compressed_pickle(spine_data,\"spine_data\")"
   ]
  },
  {
   "cell_type": "code",
   "execution_count": null,
   "metadata": {},
   "outputs": [],
   "source": [
    "import neuron_utils as nru\n",
    "nru.neuron_spine_density(neuron_obj,\n",
    "                         return_branch_processed_info=True,\n",
    "                         skeletal_distance_threshold=40000,\n",
    "                         plot_candidate_branches=True)"
   ]
  },
  {
   "cell_type": "code",
   "execution_count": null,
   "metadata": {},
   "outputs": [],
   "source": [
    "(inh_exc_class,\n",
    "             spine_category,\n",
    "             axon_angles,\n",
    "             n_axons,\n",
    "             n_apicals,\n",
    "             neuron_spine_density,\n",
    "             n_branches_processed,\n",
    "             skeletal_length_processed,\n",
    "             n_branches_in_search_radius,\n",
    "             skeletal_length_in_search_radius\n",
    "             ) = clu.inhibitory_excitatory_classifier(neuron_obj,\n",
    "                                                return_spine_classification=True,\n",
    "                                                return_axon_angles=True,\n",
    "                                                 return_n_axons=True,\n",
    "                                                 return_n_apicals=True,\n",
    "                                                 return_spine_statistics=True)"
   ]
  },
  {
   "cell_type": "code",
   "execution_count": null,
   "metadata": {},
   "outputs": [],
   "source": [
    "(inh_exc_class,\n",
    "             spine_category,\n",
    "             axon_angles,\n",
    "             n_axons,\n",
    "             n_apicals,\n",
    "             neuron_spine_density,\n",
    "             n_branches_processed,\n",
    "             skeletal_length_processed,\n",
    "             n_branches_in_search_radius,\n",
    "             skeletal_length_in_search_radius\n",
    "             )"
   ]
  },
  {
   "cell_type": "code",
   "execution_count": null,
   "metadata": {},
   "outputs": [],
   "source": []
  }
 ],
 "metadata": {
  "kernelspec": {
   "display_name": "Python 3",
   "language": "python",
   "name": "python3"
  },
  "language_info": {
   "codemirror_mode": {
    "name": "ipython",
    "version": 3
   },
   "file_extension": ".py",
   "mimetype": "text/x-python",
   "name": "python",
   "nbconvert_exporter": "python",
   "pygments_lexer": "ipython3",
   "version": "3.6.9"
  }
 },
 "nbformat": 4,
 "nbformat_minor": 4
}
