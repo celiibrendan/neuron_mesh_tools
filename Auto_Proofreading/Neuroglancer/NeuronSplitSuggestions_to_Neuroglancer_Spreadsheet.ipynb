{
 "cells": [
  {
   "cell_type": "code",
   "execution_count": 1,
   "metadata": {},
   "outputs": [
    {
     "data": {
      "text/plain": [
       "'\\nPurpose: To pull down the neuron split suggestions\\nfrom the datajoint table and then write them to a spreadsheet\\n\\n'"
      ]
     },
     "execution_count": 1,
     "metadata": {},
     "output_type": "execute_result"
    }
   ],
   "source": [
    "\"\"\"\n",
    "Purpose: To pull down the neuron split suggestions\n",
    "from the datajoint table and then write them to a spreadsheet\n",
    "\n",
    "\"\"\""
   ]
  },
  {
   "cell_type": "code",
   "execution_count": 2,
   "metadata": {},
   "outputs": [],
   "source": [
    "%load_ext autoreload\n",
    "%autoreload 2"
   ]
  },
  {
   "cell_type": "code",
   "execution_count": 3,
   "metadata": {},
   "outputs": [],
   "source": [
    "from os import sys\n",
    "sys.path.append(\"/meshAfterParty/\")"
   ]
  },
  {
   "cell_type": "code",
   "execution_count": 4,
   "metadata": {},
   "outputs": [
    {
     "name": "stderr",
     "output_type": "stream",
     "text": [
      "INFO - 2021-01-12 18:55:45,908 - settings - Setting database.host to at-database.ad.bcm.edu\n",
      "INFO - 2021-01-12 18:55:45,909 - settings - Setting database.user to celiib\n",
      "INFO - 2021-01-12 18:55:45,910 - settings - Setting database.password to newceliipass\n",
      "INFO - 2021-01-12 18:55:45,934 - settings - Setting stores to {'minnie65': {'protocol': 'file', 'location': '/mnt/dj-stor01/platinum/minnie65', 'stage': '/mnt/dj-stor01/platinum/minnie65'}, 'meshes': {'protocol': 'file', 'location': '/mnt/dj-stor01/platinum/minnie65/02/meshes', 'stage': '/mnt/dj-stor01/platinum/minnie65/02/meshes'}, 'decimated_meshes': {'protocol': 'file', 'location': '/mnt/dj-stor01/platinum/minnie65/02/decimated_meshes', 'stage': '/mnt/dj-stor01/platinum/minnie65/02/decimated_meshes'}, 'skeletons': {'protocol': 'file', 'location': '/mnt/dj-stor01/platinum/minnie65/02/skeletons'}}\n",
      "INFO - 2021-01-12 18:55:45,935 - settings - Setting enable_python_native_blobs to True\n",
      "INFO - 2021-01-12 18:55:45,947 - connection - Connected celiib@at-database.ad.bcm.edu:3306\n"
     ]
    },
    {
     "name": "stdout",
     "output_type": "stream",
     "text": [
      "Connecting celiib@at-database.ad.bcm.edu:3306\n"
     ]
    },
    {
     "name": "stderr",
     "output_type": "stream",
     "text": [
      "INFO - 2021-01-12 18:55:46,260 - settings - Setting enable_python_native_blobs to True\n"
     ]
    }
   ],
   "source": [
    "from importlib import reload\n",
    "\n",
    "import neuron_utils as nru\n",
    "\n",
    "import neuron\n",
    "\n",
    "import neuron_visualizations as nviz\n",
    "\n",
    "import time\n",
    "\n",
    "import datajoint_utils as du\n",
    "\n",
    "import numpy as np\n",
    "\n",
    "import proofreading_utils as pru\n",
    "import preprocessing_vp2 as pre"
   ]
  },
  {
   "cell_type": "code",
   "execution_count": 5,
   "metadata": {},
   "outputs": [
    {
     "name": "stderr",
     "output_type": "stream",
     "text": [
      "INFO - 2021-01-12 18:55:55,082 - settings - Setting enable_python_native_blobs to True\n",
      "INFO - 2021-01-12 18:55:55,418 - settings - Setting enable_python_native_blobs to True\n"
     ]
    }
   ],
   "source": [
    "minnie,schema = du.configure_minnie_vm()"
   ]
  },
  {
   "cell_type": "markdown",
   "metadata": {},
   "source": [
    "# Downloading the limb results"
   ]
  },
  {
   "cell_type": "code",
   "execution_count": 6,
   "metadata": {},
   "outputs": [
    {
     "data": {
      "text/html": [
       "\n",
       "        \n",
       "        <style type=\"text/css\">\n",
       "            .Relation{\n",
       "                border-collapse:collapse;\n",
       "            }\n",
       "            .Relation th{\n",
       "                background: #A0A0A0; color: #ffffff; padding:4px; border:#f0e0e0 1px solid;\n",
       "                font-weight: normal; font-family: monospace; font-size: 100%;\n",
       "            }\n",
       "            .Relation td{\n",
       "                padding:4px; border:#f0e0e0 1px solid; font-size:100%;\n",
       "            }\n",
       "            .Relation tr:nth-child(odd){\n",
       "                background: #ffffff;\n",
       "            }\n",
       "            .Relation tr:nth-child(even){\n",
       "                background: #f3f1ff;\n",
       "            }\n",
       "            /* Tooltip container */\n",
       "            .djtooltip {\n",
       "            }\n",
       "            /* Tooltip text */\n",
       "            .djtooltip .djtooltiptext {\n",
       "                visibility: hidden;\n",
       "                width: 120px;\n",
       "                background-color: black;\n",
       "                color: #fff;\n",
       "                text-align: center;\n",
       "                padding: 5px 0;\n",
       "                border-radius: 6px;\n",
       "                /* Position the tooltip text - see examples below! */\n",
       "                position: absolute;\n",
       "                z-index: 1;\n",
       "            }\n",
       "            #primary {\n",
       "                font-weight: bold;\n",
       "                color: black;\n",
       "            }\n",
       "\n",
       "            #nonprimary {\n",
       "                font-weight: normal;\n",
       "                color: white;\n",
       "            }\n",
       "\n",
       "            /* Show the tooltip text when you mouse over the tooltip container */\n",
       "            .djtooltip:hover .djtooltiptext {\n",
       "                visibility: visible;\n",
       "            }\n",
       "        </style>\n",
       "        \n",
       "        <b></b>\n",
       "            <div style=\"max-height:1000px;max-width:1500px;overflow:auto;\">\n",
       "            <table border=\"1\" class=\"Relation\">\n",
       "                <thead> <tr style=\"text-align: right;\"> <th> <div class=\"djtooltip\">\n",
       "                                <p id=\"primary\">segment_id</p>\n",
       "                                <span class=\"djtooltiptext\">segment id unique within each Segmentation</span>\n",
       "                            </div></th><th><div class=\"djtooltip\">\n",
       "                                <p id=\"primary\">decimation_version</p>\n",
       "                                <span class=\"djtooltiptext\"></span>\n",
       "                            </div></th><th><div class=\"djtooltip\">\n",
       "                                <p id=\"primary\">decimation_ratio</p>\n",
       "                                <span class=\"djtooltiptext\">ratio of remaining mesh vertices/faces (which ones depends on what metric the decimation technique uses)</span>\n",
       "                            </div></th><th><div class=\"djtooltip\">\n",
       "                                <p id=\"primary\">ver</p>\n",
       "                                <span class=\"djtooltiptext\">the version number of the materializaiton</span>\n",
       "                            </div></th><th><div class=\"djtooltip\">\n",
       "                                <p id=\"primary\">process_version</p>\n",
       "                                <span class=\"djtooltiptext\">the version of the preprocessing pipeline run</span>\n",
       "                            </div></th><th><div class=\"djtooltip\">\n",
       "                                <p id=\"nonprimary\">split_results</p>\n",
       "                                <span class=\"djtooltiptext\">will store the results of how to split the limbs of neuron objects</span>\n",
       "                            </div></th><th><div class=\"djtooltip\">\n",
       "                                <p id=\"nonprimary\">run_time</p>\n",
       "                                <span class=\"djtooltiptext\">the amount of time to run (seconds)</span>\n",
       "                            </div> </th> </tr> </thead>\n",
       "                <tbody> <tr> <td>864691134947393276</td>\n",
       "<td>0</td>\n",
       "<td>0.25</td>\n",
       "<td>29.00</td>\n",
       "<td>0</td>\n",
       "<td>=BLOB=</td>\n",
       "<td>100.245</td></tr><tr><td>864691135012471798</td>\n",
       "<td>0</td>\n",
       "<td>0.25</td>\n",
       "<td>29.00</td>\n",
       "<td>0</td>\n",
       "<td>=BLOB=</td>\n",
       "<td>342.8413</td></tr><tr><td>864691135012571126</td>\n",
       "<td>0</td>\n",
       "<td>0.25</td>\n",
       "<td>29.00</td>\n",
       "<td>0</td>\n",
       "<td>=BLOB=</td>\n",
       "<td>217.0619</td></tr><tr><td>864691135012905110</td>\n",
       "<td>0</td>\n",
       "<td>0.25</td>\n",
       "<td>29.00</td>\n",
       "<td>0</td>\n",
       "<td>=BLOB=</td>\n",
       "<td>154.318</td></tr><tr><td>864691135065032772</td>\n",
       "<td>0</td>\n",
       "<td>0.25</td>\n",
       "<td>29.00</td>\n",
       "<td>0</td>\n",
       "<td>=BLOB=</td>\n",
       "<td>121.376</td></tr><tr><td>864691135065033540</td>\n",
       "<td>0</td>\n",
       "<td>0.25</td>\n",
       "<td>29.00</td>\n",
       "<td>0</td>\n",
       "<td>=BLOB=</td>\n",
       "<td>182.2972</td></tr><tr><td>864691135081745143</td>\n",
       "<td>0</td>\n",
       "<td>0.25</td>\n",
       "<td>29.00</td>\n",
       "<td>0</td>\n",
       "<td>=BLOB=</td>\n",
       "<td>93.8166</td></tr><tr><td>864691135155574372</td>\n",
       "<td>0</td>\n",
       "<td>0.25</td>\n",
       "<td>29.00</td>\n",
       "<td>0</td>\n",
       "<td>=BLOB=</td>\n",
       "<td>230.5511</td></tr><tr><td>864691135210051520</td>\n",
       "<td>0</td>\n",
       "<td>0.25</td>\n",
       "<td>29.00</td>\n",
       "<td>0</td>\n",
       "<td>=BLOB=</td>\n",
       "<td>74.0144</td></tr><tr><td>864691135274155493</td>\n",
       "<td>0</td>\n",
       "<td>0.25</td>\n",
       "<td>29.00</td>\n",
       "<td>0</td>\n",
       "<td>=BLOB=</td>\n",
       "<td>207.4935</td></tr><tr><td>864691135291788214</td>\n",
       "<td>0</td>\n",
       "<td>0.25</td>\n",
       "<td>29.00</td>\n",
       "<td>0</td>\n",
       "<td>=BLOB=</td>\n",
       "<td>59.9232</td></tr><tr><td>864691135337764326</td>\n",
       "<td>0</td>\n",
       "<td>0.25</td>\n",
       "<td>29.00</td>\n",
       "<td>0</td>\n",
       "<td>=BLOB=</td>\n",
       "<td>383.1371</td> </tr> </tbody>\n",
       "            </table>\n",
       "            <p>...</p>\n",
       "            <p>Total: 44</p></div>\n",
       "            "
      ],
      "text/plain": [
       "*segment_id    *decimation_ve *decimation_ra *ver      *process_versi split_resu run_time    \n",
       "+------------+ +------------+ +------------+ +-------+ +------------+ +--------+ +----------+\n",
       "86469113494739 0              0.25           29.00     0              =BLOB=     100.245     \n",
       "86469113501247 0              0.25           29.00     0              =BLOB=     342.8413    \n",
       "86469113501257 0              0.25           29.00     0              =BLOB=     217.0619    \n",
       "86469113501290 0              0.25           29.00     0              =BLOB=     154.318     \n",
       "86469113506503 0              0.25           29.00     0              =BLOB=     121.376     \n",
       "86469113506503 0              0.25           29.00     0              =BLOB=     182.2972    \n",
       "86469113508174 0              0.25           29.00     0              =BLOB=     93.8166     \n",
       "86469113515557 0              0.25           29.00     0              =BLOB=     230.5511    \n",
       "86469113521005 0              0.25           29.00     0              =BLOB=     74.0144     \n",
       "86469113527415 0              0.25           29.00     0              =BLOB=     207.4935    \n",
       "86469113529178 0              0.25           29.00     0              =BLOB=     59.9232     \n",
       "86469113533776 0              0.25           29.00     0              =BLOB=     383.1371    \n",
       "   ...\n",
       " (Total: 44)"
      ]
     },
     "execution_count": 6,
     "metadata": {},
     "output_type": "execute_result"
    }
   ],
   "source": [
    "minnie.NeuronSplitSuggestions()"
   ]
  },
  {
   "cell_type": "code",
   "execution_count": 7,
   "metadata": {},
   "outputs": [],
   "source": [
    "split_suggestions_data = minnie.NeuronSplitSuggestions.fetch(as_dict=True)"
   ]
  },
  {
   "cell_type": "markdown",
   "metadata": {},
   "source": [
    "# Converting the Data to links"
   ]
  },
  {
   "cell_type": "code",
   "execution_count": 11,
   "metadata": {},
   "outputs": [],
   "source": [
    "import proofreading_utils as pru"
   ]
  },
  {
   "cell_type": "code",
   "execution_count": 85,
   "metadata": {
    "scrolled": true
   },
   "outputs": [
    {
     "name": "stdout",
     "output_type": "stream",
     "text": [
      "Number of different layers = 3\n",
      "n_suggested_cuts = 0, n_paths_not_cut = 0\n",
      "Number of different layers = 3\n",
      "n_suggested_cuts = 2, n_paths_not_cut = 0\n",
      "Number of different layers = 3\n",
      "n_suggested_cuts = 6, n_paths_not_cut = 0\n",
      "Number of different layers = 3\n",
      "n_suggested_cuts = 2, n_paths_not_cut = 0\n",
      "Number of different layers = 3\n",
      "n_suggested_cuts = 2, n_paths_not_cut = 0\n",
      "Number of different layers = 3\n",
      "n_suggested_cuts = 4, n_paths_not_cut = 0\n",
      "Number of different layers = 3\n",
      "n_suggested_cuts = 1, n_paths_not_cut = 0\n",
      "Number of different layers = 3\n",
      "n_suggested_cuts = 3, n_paths_not_cut = 0\n",
      "Number of different layers = 3\n",
      "n_suggested_cuts = 1, n_paths_not_cut = 0\n",
      "Number of different layers = 3\n",
      "n_suggested_cuts = 1, n_paths_not_cut = 0\n",
      "Number of different layers = 3\n",
      "n_suggested_cuts = 0, n_paths_not_cut = 0\n",
      "Number of different layers = 3\n",
      "n_suggested_cuts = 2, n_paths_not_cut = 0\n",
      "Number of different layers = 3\n",
      "n_suggested_cuts = 1, n_paths_not_cut = 0\n",
      "Number of different layers = 3\n",
      "n_suggested_cuts = 11, n_paths_not_cut = 0\n",
      "Number of different layers = 3\n",
      "n_suggested_cuts = 2, n_paths_not_cut = 0\n",
      "Number of different layers = 3\n",
      "n_suggested_cuts = 4, n_paths_not_cut = 0\n",
      "Number of different layers = 3\n",
      "n_suggested_cuts = 3, n_paths_not_cut = 0\n",
      "Number of different layers = 3\n",
      "n_suggested_cuts = 1, n_paths_not_cut = 0\n",
      "Number of different layers = 3\n",
      "n_suggested_cuts = 8, n_paths_not_cut = 0\n",
      "Number of different layers = 3\n",
      "n_suggested_cuts = 3, n_paths_not_cut = 0\n",
      "Number of different layers = 3\n",
      "n_suggested_cuts = 4, n_paths_not_cut = 1\n",
      "Number of different layers = 3\n",
      "n_suggested_cuts = 2, n_paths_not_cut = 0\n",
      "Number of different layers = 3\n",
      "n_suggested_cuts = 5, n_paths_not_cut = 0\n",
      "Number of different layers = 3\n",
      "n_suggested_cuts = 4, n_paths_not_cut = 0\n",
      "Number of different layers = 3\n",
      "n_suggested_cuts = 4, n_paths_not_cut = 0\n",
      "Number of different layers = 3\n",
      "n_suggested_cuts = 5, n_paths_not_cut = 0\n",
      "Number of different layers = 3\n",
      "n_suggested_cuts = 3, n_paths_not_cut = 1\n",
      "Number of different layers = 3\n",
      "n_suggested_cuts = 2, n_paths_not_cut = 0\n",
      "Number of different layers = 3\n",
      "n_suggested_cuts = 1, n_paths_not_cut = 0\n",
      "Number of different layers = 3\n",
      "n_suggested_cuts = 1, n_paths_not_cut = 0\n",
      "Number of different layers = 3\n",
      "n_suggested_cuts = 5, n_paths_not_cut = 1\n",
      "Number of different layers = 3\n",
      "n_suggested_cuts = 0, n_paths_not_cut = 0\n",
      "Number of different layers = 3\n",
      "n_suggested_cuts = 6, n_paths_not_cut = 0\n",
      "Number of different layers = 3\n",
      "n_suggested_cuts = 3, n_paths_not_cut = 0\n",
      "Number of different layers = 3\n",
      "n_suggested_cuts = 1, n_paths_not_cut = 1\n",
      "Number of different layers = 3\n",
      "n_suggested_cuts = 2, n_paths_not_cut = 0\n",
      "Number of different layers = 3\n",
      "n_suggested_cuts = 2, n_paths_not_cut = 0\n",
      "Number of different layers = 3\n",
      "n_suggested_cuts = 1, n_paths_not_cut = 0\n",
      "Number of different layers = 3\n",
      "n_suggested_cuts = 1, n_paths_not_cut = 0\n",
      "Number of different layers = 3\n",
      "n_suggested_cuts = 2, n_paths_not_cut = 0\n",
      "Number of different layers = 3\n",
      "n_suggested_cuts = 2, n_paths_not_cut = 0\n",
      "Number of different layers = 3\n",
      "n_suggested_cuts = 5, n_paths_not_cut = 0\n",
      "Number of different layers = 3\n",
      "n_suggested_cuts = 7, n_paths_not_cut = 0\n",
      "Number of different layers = 3\n",
      "n_suggested_cuts = 3, n_paths_not_cut = 0\n"
     ]
    }
   ],
   "source": [
    "spreadsheet_data = []\n",
    "\n",
    "import re\n",
    "def ipython_html_object_to_link(html_obj):\n",
    "    links = re.findall(\"href=[\\\"\\'](.*?)[\\\"\\']\", html_obj.data)\n",
    "    return links[0]\n",
    "\n",
    "for curr_data in split_suggestions_data:\n",
    "    curr_link = pru.split_info_to_neuroglancer_link(segment_id=curr_data[\"segment_id\"],\n",
    "                                        split_info = curr_data[\"split_results\"],\n",
    "                                        output_type=\"local\"\n",
    "                                       )\n",
    "    \n",
    "    curr_link_html = ipython_html_object_to_link(curr_link)\n",
    "\n",
    "    n_suggested_cuts = len(pru.get_all_coordinate_suggestions(curr_data[\"split_results\"]))\n",
    "    n_paths_not_cut = pru.get_n_paths_not_cut(curr_data[\"split_results\"])\n",
    "\n",
    "    print(f\"n_suggested_cuts = {n_suggested_cuts}, n_paths_not_cut = {n_paths_not_cut}\")\n",
    "\n",
    "    local_dict = dict(segment_id=curr_data[\"segment_id\"],\n",
    "                     n_suggested_cuts=n_suggested_cuts,\n",
    "                     n_paths_not_cut=n_paths_not_cut,\n",
    "                     link=curr_link_html)\n",
    "    \n",
    "    spreadsheet_data.append(local_dict)\n",
    "\n",
    "import pandas as pd\n",
    "allen_spreadsheet = pd.DataFrame.from_dict(spreadsheet_data)\n",
    "allen_spreadsheet.to_csv(\"allen_spreadsheet.csv\", sep=',')"
   ]
  },
  {
   "cell_type": "markdown",
   "metadata": {},
   "source": [
    "# Creating Datajoint Function That Automatically pulls suggestions and generates spreadsheet"
   ]
  },
  {
   "cell_type": "code",
   "execution_count": 105,
   "metadata": {},
   "outputs": [
    {
     "name": "stderr",
     "output_type": "stream",
     "text": [
      "INFO - 2021-01-12 23:20:11,799 - settings - Setting database.host to at-database.ad.bcm.edu\n",
      "INFO - 2021-01-12 23:20:11,800 - settings - Setting database.user to celiib\n",
      "INFO - 2021-01-12 23:20:11,800 - settings - Setting database.password to newceliipass\n",
      "INFO - 2021-01-12 23:20:11,803 - settings - Setting enable_python_native_blobs to True\n",
      "INFO - 2021-01-12 23:20:12,103 - settings - Setting enable_python_native_blobs to True\n"
     ]
    },
    {
     "data": {
      "application/vnd.jupyter.widget-view+json": {
       "model_id": "21650e1f9b464d6eb9e1057f892ed899",
       "version_major": 2,
       "version_minor": 0
      },
      "text/plain": [
       "HBox(children=(FloatProgress(value=0.0, max=2.0), HTML(value='')))"
      ]
     },
     "metadata": {},
     "output_type": "display_data"
    },
    {
     "name": "stdout",
     "output_type": "stream",
     "text": [
      "\n"
     ]
    }
   ],
   "source": [
    "du.create_suggested_splits_neuroglancer_spreadsheet(segment_ids=[864691134947393276,864691135012398582],\n",
    "    output_type=\"local\", #other option is posting to the server\n",
    "    output_filepath = None,\n",
    "    output_folder = \"./\",\n",
    "    output_filename = \"allen_spreadsheet.csv\",\n",
    "    return_dataframe = False,\n",
    "    )\n"
   ]
  },
  {
   "cell_type": "code",
   "execution_count": 101,
   "metadata": {},
   "outputs": [
    {
     "data": {
      "text/plain": [
       "array([864691134947393276, 864691135012398582, 864691135012471798,\n",
       "       864691135012571126, 864691135012905110, 864691135065018692,\n",
       "       864691135065024068, 864691135065032772, 864691135065033540,\n",
       "       864691135081745143, 864691135155574372, 864691135210051520,\n",
       "       864691135274155493, 864691135291777462, 864691135291788214,\n",
       "       864691135337764326, 864691135337796326, 864691135341171909,\n",
       "       864691135345134239, 864691135360133191, 864691135373423816,\n",
       "       864691135373436616, 864691135382996203, 864691135385192277,\n",
       "       864691135385207893, 864691135394014197, 864691135403709422,\n",
       "       864691135403794158, 864691135407333321, 864691135428492848,\n",
       "       864691135440515912, 864691135440585800, 864691135462292893,\n",
       "       864691135462301853, 864691135467600268, 864691135490263655,\n",
       "       864691135502075061, 864691135526113627, 864691135526114907,\n",
       "       864691135538077554, 864691135567752172, 864691135568932230,\n",
       "       864691135570745325, 864691135570745581, 864691135576925957,\n",
       "       864691135577002245, 864691135577031173, 864691135583739512,\n",
       "       864691135593563947, 864691135609459463, 864691135609477127,\n",
       "       864691135609490439, 864691135609493511, 864691135615814761,\n",
       "       864691135617824143, 864691135644583919, 864691135683949751,\n",
       "       864691135686909664, 864691135699307810, 864691135718447153,\n",
       "       864691135724299179, 864691135725648447, 864691135739628180,\n",
       "       864691135740250731, 864691135771720779, 864691135775809197,\n",
       "       864691135815468111, 864691135815508815, 864691135837279635,\n",
       "       864691135883918448, 864691135884014704, 864691135946672225,\n",
       "       864691136116159140, 864691136370837384, 864691136618586765,\n",
       "       864691136908675694])"
      ]
     },
     "execution_count": 101,
     "metadata": {},
     "output_type": "execute_result"
    }
   ],
   "source": [
    "segment_ids = minnie.NeuronSplitSuggestions.fetch(\"segment_id\")\n",
    "segment_ids"
   ]
  },
  {
   "cell_type": "code",
   "execution_count": null,
   "metadata": {},
   "outputs": [],
   "source": []
  }
 ],
 "metadata": {
  "kernelspec": {
   "display_name": "Python 3",
   "language": "python",
   "name": "python3"
  },
  "language_info": {
   "codemirror_mode": {
    "name": "ipython",
    "version": 3
   },
   "file_extension": ".py",
   "mimetype": "text/x-python",
   "name": "python",
   "nbconvert_exporter": "python",
   "pygments_lexer": "ipython3",
   "version": "3.6.9"
  }
 },
 "nbformat": 4,
 "nbformat_minor": 4
}
