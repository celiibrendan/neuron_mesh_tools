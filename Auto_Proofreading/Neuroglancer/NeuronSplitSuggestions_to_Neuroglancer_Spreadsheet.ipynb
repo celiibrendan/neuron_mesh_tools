{
 "cells": [
  {
   "cell_type": "code",
   "execution_count": 1,
   "metadata": {},
   "outputs": [
    {
     "data": {
      "text/plain": [
       "'\\nPurpose: To pull down the neuron split suggestions\\nfrom the datajoint table and then write them to a spreadsheet\\n\\n'"
      ]
     },
     "execution_count": 1,
     "metadata": {},
     "output_type": "execute_result"
    }
   ],
   "source": [
    "\"\"\"\n",
    "Purpose: To pull down the neuron split suggestions\n",
    "from the datajoint table and then write them to a spreadsheet\n",
    "\n",
    "\"\"\""
   ]
  },
  {
   "cell_type": "code",
   "execution_count": 2,
   "metadata": {},
   "outputs": [],
   "source": [
    "%load_ext autoreload\n",
    "%autoreload 2"
   ]
  },
  {
   "cell_type": "code",
   "execution_count": 3,
   "metadata": {},
   "outputs": [],
   "source": [
    "from os import sys\n",
    "sys.path.append(\"/meshAfterParty/\")"
   ]
  },
  {
   "cell_type": "code",
   "execution_count": 4,
   "metadata": {},
   "outputs": [
    {
     "name": "stderr",
     "output_type": "stream",
     "text": [
      "INFO - 2021-01-12 18:55:45,908 - settings - Setting database.host to at-database.ad.bcm.edu\n",
      "INFO - 2021-01-12 18:55:45,909 - settings - Setting database.user to celiib\n",
      "INFO - 2021-01-12 18:55:45,910 - settings - Setting database.password to newceliipass\n",
      "INFO - 2021-01-12 18:55:45,934 - settings - Setting stores to {'minnie65': {'protocol': 'file', 'location': '/mnt/dj-stor01/platinum/minnie65', 'stage': '/mnt/dj-stor01/platinum/minnie65'}, 'meshes': {'protocol': 'file', 'location': '/mnt/dj-stor01/platinum/minnie65/02/meshes', 'stage': '/mnt/dj-stor01/platinum/minnie65/02/meshes'}, 'decimated_meshes': {'protocol': 'file', 'location': '/mnt/dj-stor01/platinum/minnie65/02/decimated_meshes', 'stage': '/mnt/dj-stor01/platinum/minnie65/02/decimated_meshes'}, 'skeletons': {'protocol': 'file', 'location': '/mnt/dj-stor01/platinum/minnie65/02/skeletons'}}\n",
      "INFO - 2021-01-12 18:55:45,935 - settings - Setting enable_python_native_blobs to True\n",
      "INFO - 2021-01-12 18:55:45,947 - connection - Connected celiib@at-database.ad.bcm.edu:3306\n"
     ]
    },
    {
     "name": "stdout",
     "output_type": "stream",
     "text": [
      "Connecting celiib@at-database.ad.bcm.edu:3306\n"
     ]
    },
    {
     "name": "stderr",
     "output_type": "stream",
     "text": [
      "INFO - 2021-01-12 18:55:46,260 - settings - Setting enable_python_native_blobs to True\n"
     ]
    }
   ],
   "source": [
    "from importlib import reload\n",
    "\n",
    "import neuron_utils as nru\n",
    "\n",
    "import neuron\n",
    "\n",
    "import neuron_visualizations as nviz\n",
    "\n",
    "import time\n",
    "\n",
    "import datajoint_utils as du\n",
    "\n",
    "import numpy as np\n",
    "\n",
    "import proofreading_utils as pru\n",
    "import preprocessing_vp2 as pre"
   ]
  },
  {
   "cell_type": "code",
   "execution_count": 5,
   "metadata": {},
   "outputs": [
    {
     "name": "stderr",
     "output_type": "stream",
     "text": [
      "INFO - 2021-01-12 18:55:55,082 - settings - Setting enable_python_native_blobs to True\n",
      "INFO - 2021-01-12 18:55:55,418 - settings - Setting enable_python_native_blobs to True\n"
     ]
    }
   ],
   "source": [
    "minnie,schema = du.configure_minnie_vm()"
   ]
  },
  {
   "cell_type": "markdown",
   "metadata": {},
   "source": [
    "# Downloading the limb results"
   ]
  },
  {
   "cell_type": "code",
   "execution_count": 6,
   "metadata": {},
   "outputs": [
    {
     "data": {
      "text/html": [
       "\n",
       "        \n",
       "        <style type=\"text/css\">\n",
       "            .Relation{\n",
       "                border-collapse:collapse;\n",
       "            }\n",
       "            .Relation th{\n",
       "                background: #A0A0A0; color: #ffffff; padding:4px; border:#f0e0e0 1px solid;\n",
       "                font-weight: normal; font-family: monospace; font-size: 100%;\n",
       "            }\n",
       "            .Relation td{\n",
       "                padding:4px; border:#f0e0e0 1px solid; font-size:100%;\n",
       "            }\n",
       "            .Relation tr:nth-child(odd){\n",
       "                background: #ffffff;\n",
       "            }\n",
       "            .Relation tr:nth-child(even){\n",
       "                background: #f3f1ff;\n",
       "            }\n",
       "            /* Tooltip container */\n",
       "            .djtooltip {\n",
       "            }\n",
       "            /* Tooltip text */\n",
       "            .djtooltip .djtooltiptext {\n",
       "                visibility: hidden;\n",
       "                width: 120px;\n",
       "                background-color: black;\n",
       "                color: #fff;\n",
       "                text-align: center;\n",
       "                padding: 5px 0;\n",
       "                border-radius: 6px;\n",
       "                /* Position the tooltip text - see examples below! */\n",
       "                position: absolute;\n",
       "                z-index: 1;\n",
       "            }\n",
       "            #primary {\n",
       "                font-weight: bold;\n",
       "                color: black;\n",
       "            }\n",
       "\n",
       "            #nonprimary {\n",
       "                font-weight: normal;\n",
       "                color: white;\n",
       "            }\n",
       "\n",
       "            /* Show the tooltip text when you mouse over the tooltip container */\n",
       "            .djtooltip:hover .djtooltiptext {\n",
       "                visibility: visible;\n",
       "            }\n",
       "        </style>\n",
       "        \n",
       "        <b></b>\n",
       "            <div style=\"max-height:1000px;max-width:1500px;overflow:auto;\">\n",
       "            <table border=\"1\" class=\"Relation\">\n",
       "                <thead> <tr style=\"text-align: right;\"> <th> <div class=\"djtooltip\">\n",
       "                                <p id=\"primary\">segment_id</p>\n",
       "                                <span class=\"djtooltiptext\">segment id unique within each Segmentation</span>\n",
       "                            </div></th><th><div class=\"djtooltip\">\n",
       "                                <p id=\"primary\">decimation_version</p>\n",
       "                                <span class=\"djtooltiptext\"></span>\n",
       "                            </div></th><th><div class=\"djtooltip\">\n",
       "                                <p id=\"primary\">decimation_ratio</p>\n",
       "                                <span class=\"djtooltiptext\">ratio of remaining mesh vertices/faces (which ones depends on what metric the decimation technique uses)</span>\n",
       "                            </div></th><th><div class=\"djtooltip\">\n",
       "                                <p id=\"primary\">ver</p>\n",
       "                                <span class=\"djtooltiptext\">the version number of the materializaiton</span>\n",
       "                            </div></th><th><div class=\"djtooltip\">\n",
       "                                <p id=\"primary\">process_version</p>\n",
       "                                <span class=\"djtooltiptext\">the version of the preprocessing pipeline run</span>\n",
       "                            </div></th><th><div class=\"djtooltip\">\n",
       "                                <p id=\"nonprimary\">split_results</p>\n",
       "                                <span class=\"djtooltiptext\">will store the results of how to split the limbs of neuron objects</span>\n",
       "                            </div></th><th><div class=\"djtooltip\">\n",
       "                                <p id=\"nonprimary\">run_time</p>\n",
       "                                <span class=\"djtooltiptext\">the amount of time to run (seconds)</span>\n",
       "                            </div> </th> </tr> </thead>\n",
       "                <tbody> <tr> <td>864691134947393276</td>\n",
       "<td>0</td>\n",
       "<td>0.25</td>\n",
       "<td>29.00</td>\n",
       "<td>0</td>\n",
       "<td>=BLOB=</td>\n",
       "<td>100.245</td></tr><tr><td>864691135012471798</td>\n",
       "<td>0</td>\n",
       "<td>0.25</td>\n",
       "<td>29.00</td>\n",
       "<td>0</td>\n",
       "<td>=BLOB=</td>\n",
       "<td>342.8413</td></tr><tr><td>864691135012571126</td>\n",
       "<td>0</td>\n",
       "<td>0.25</td>\n",
       "<td>29.00</td>\n",
       "<td>0</td>\n",
       "<td>=BLOB=</td>\n",
       "<td>217.0619</td></tr><tr><td>864691135012905110</td>\n",
       "<td>0</td>\n",
       "<td>0.25</td>\n",
       "<td>29.00</td>\n",
       "<td>0</td>\n",
       "<td>=BLOB=</td>\n",
       "<td>154.318</td></tr><tr><td>864691135065032772</td>\n",
       "<td>0</td>\n",
       "<td>0.25</td>\n",
       "<td>29.00</td>\n",
       "<td>0</td>\n",
       "<td>=BLOB=</td>\n",
       "<td>121.376</td></tr><tr><td>864691135065033540</td>\n",
       "<td>0</td>\n",
       "<td>0.25</td>\n",
       "<td>29.00</td>\n",
       "<td>0</td>\n",
       "<td>=BLOB=</td>\n",
       "<td>182.2972</td></tr><tr><td>864691135081745143</td>\n",
       "<td>0</td>\n",
       "<td>0.25</td>\n",
       "<td>29.00</td>\n",
       "<td>0</td>\n",
       "<td>=BLOB=</td>\n",
       "<td>93.8166</td></tr><tr><td>864691135155574372</td>\n",
       "<td>0</td>\n",
       "<td>0.25</td>\n",
       "<td>29.00</td>\n",
       "<td>0</td>\n",
       "<td>=BLOB=</td>\n",
       "<td>230.5511</td></tr><tr><td>864691135210051520</td>\n",
       "<td>0</td>\n",
       "<td>0.25</td>\n",
       "<td>29.00</td>\n",
       "<td>0</td>\n",
       "<td>=BLOB=</td>\n",
       "<td>74.0144</td></tr><tr><td>864691135274155493</td>\n",
       "<td>0</td>\n",
       "<td>0.25</td>\n",
       "<td>29.00</td>\n",
       "<td>0</td>\n",
       "<td>=BLOB=</td>\n",
       "<td>207.4935</td></tr><tr><td>864691135291788214</td>\n",
       "<td>0</td>\n",
       "<td>0.25</td>\n",
       "<td>29.00</td>\n",
       "<td>0</td>\n",
       "<td>=BLOB=</td>\n",
       "<td>59.9232</td></tr><tr><td>864691135337764326</td>\n",
       "<td>0</td>\n",
       "<td>0.25</td>\n",
       "<td>29.00</td>\n",
       "<td>0</td>\n",
       "<td>=BLOB=</td>\n",
       "<td>383.1371</td> </tr> </tbody>\n",
       "            </table>\n",
       "            <p>...</p>\n",
       "            <p>Total: 44</p></div>\n",
       "            "
      ],
      "text/plain": [
       "*segment_id    *decimation_ve *decimation_ra *ver      *process_versi split_resu run_time    \n",
       "+------------+ +------------+ +------------+ +-------+ +------------+ +--------+ +----------+\n",
       "86469113494739 0              0.25           29.00     0              =BLOB=     100.245     \n",
       "86469113501247 0              0.25           29.00     0              =BLOB=     342.8413    \n",
       "86469113501257 0              0.25           29.00     0              =BLOB=     217.0619    \n",
       "86469113501290 0              0.25           29.00     0              =BLOB=     154.318     \n",
       "86469113506503 0              0.25           29.00     0              =BLOB=     121.376     \n",
       "86469113506503 0              0.25           29.00     0              =BLOB=     182.2972    \n",
       "86469113508174 0              0.25           29.00     0              =BLOB=     93.8166     \n",
       "86469113515557 0              0.25           29.00     0              =BLOB=     230.5511    \n",
       "86469113521005 0              0.25           29.00     0              =BLOB=     74.0144     \n",
       "86469113527415 0              0.25           29.00     0              =BLOB=     207.4935    \n",
       "86469113529178 0              0.25           29.00     0              =BLOB=     59.9232     \n",
       "86469113533776 0              0.25           29.00     0              =BLOB=     383.1371    \n",
       "   ...\n",
       " (Total: 44)"
      ]
     },
     "execution_count": 6,
     "metadata": {},
     "output_type": "execute_result"
    }
   ],
   "source": [
    "minnie.NeuronSplitSuggestions()"
   ]
  },
  {
   "cell_type": "code",
   "execution_count": 7,
   "metadata": {},
   "outputs": [],
   "source": [
    "split_suggestions_data = minnie.NeuronSplitSuggestions.fetch(as_dict=True)"
   ]
  },
  {
   "cell_type": "markdown",
   "metadata": {},
   "source": [
    "# Converting the Data to links"
   ]
  },
  {
   "cell_type": "code",
   "execution_count": 11,
   "metadata": {},
   "outputs": [],
   "source": [
    "import proofreading_utils as pru"
   ]
  },
  {
   "cell_type": "code",
   "execution_count": 85,
   "metadata": {
    "scrolled": true
   },
   "outputs": [
    {
     "name": "stdout",
     "output_type": "stream",
     "text": [
      "Number of different layers = 3\n",
      "n_suggested_cuts = 0, n_paths_not_cut = 0\n",
      "Number of different layers = 3\n",
      "n_suggested_cuts = 2, n_paths_not_cut = 0\n",
      "Number of different layers = 3\n",
      "n_suggested_cuts = 6, n_paths_not_cut = 0\n",
      "Number of different layers = 3\n",
      "n_suggested_cuts = 2, n_paths_not_cut = 0\n",
      "Number of different layers = 3\n",
      "n_suggested_cuts = 2, n_paths_not_cut = 0\n",
      "Number of different layers = 3\n",
      "n_suggested_cuts = 4, n_paths_not_cut = 0\n",
      "Number of different layers = 3\n",
      "n_suggested_cuts = 1, n_paths_not_cut = 0\n",
      "Number of different layers = 3\n",
      "n_suggested_cuts = 3, n_paths_not_cut = 0\n",
      "Number of different layers = 3\n",
      "n_suggested_cuts = 1, n_paths_not_cut = 0\n",
      "Number of different layers = 3\n",
      "n_suggested_cuts = 1, n_paths_not_cut = 0\n",
      "Number of different layers = 3\n",
      "n_suggested_cuts = 0, n_paths_not_cut = 0\n",
      "Number of different layers = 3\n",
      "n_suggested_cuts = 2, n_paths_not_cut = 0\n",
      "Number of different layers = 3\n",
      "n_suggested_cuts = 1, n_paths_not_cut = 0\n",
      "Number of different layers = 3\n",
      "n_suggested_cuts = 11, n_paths_not_cut = 0\n",
      "Number of different layers = 3\n",
      "n_suggested_cuts = 2, n_paths_not_cut = 0\n",
      "Number of different layers = 3\n",
      "n_suggested_cuts = 4, n_paths_not_cut = 0\n",
      "Number of different layers = 3\n",
      "n_suggested_cuts = 3, n_paths_not_cut = 0\n",
      "Number of different layers = 3\n",
      "n_suggested_cuts = 1, n_paths_not_cut = 0\n",
      "Number of different layers = 3\n",
      "n_suggested_cuts = 8, n_paths_not_cut = 0\n",
      "Number of different layers = 3\n",
      "n_suggested_cuts = 3, n_paths_not_cut = 0\n",
      "Number of different layers = 3\n",
      "n_suggested_cuts = 4, n_paths_not_cut = 1\n",
      "Number of different layers = 3\n",
      "n_suggested_cuts = 2, n_paths_not_cut = 0\n",
      "Number of different layers = 3\n",
      "n_suggested_cuts = 5, n_paths_not_cut = 0\n",
      "Number of different layers = 3\n",
      "n_suggested_cuts = 4, n_paths_not_cut = 0\n",
      "Number of different layers = 3\n",
      "n_suggested_cuts = 4, n_paths_not_cut = 0\n",
      "Number of different layers = 3\n",
      "n_suggested_cuts = 5, n_paths_not_cut = 0\n",
      "Number of different layers = 3\n",
      "n_suggested_cuts = 3, n_paths_not_cut = 1\n",
      "Number of different layers = 3\n",
      "n_suggested_cuts = 2, n_paths_not_cut = 0\n",
      "Number of different layers = 3\n",
      "n_suggested_cuts = 1, n_paths_not_cut = 0\n",
      "Number of different layers = 3\n",
      "n_suggested_cuts = 1, n_paths_not_cut = 0\n",
      "Number of different layers = 3\n",
      "n_suggested_cuts = 5, n_paths_not_cut = 1\n",
      "Number of different layers = 3\n",
      "n_suggested_cuts = 0, n_paths_not_cut = 0\n",
      "Number of different layers = 3\n",
      "n_suggested_cuts = 6, n_paths_not_cut = 0\n",
      "Number of different layers = 3\n",
      "n_suggested_cuts = 3, n_paths_not_cut = 0\n",
      "Number of different layers = 3\n",
      "n_suggested_cuts = 1, n_paths_not_cut = 1\n",
      "Number of different layers = 3\n",
      "n_suggested_cuts = 2, n_paths_not_cut = 0\n",
      "Number of different layers = 3\n",
      "n_suggested_cuts = 2, n_paths_not_cut = 0\n",
      "Number of different layers = 3\n",
      "n_suggested_cuts = 1, n_paths_not_cut = 0\n",
      "Number of different layers = 3\n",
      "n_suggested_cuts = 1, n_paths_not_cut = 0\n",
      "Number of different layers = 3\n",
      "n_suggested_cuts = 2, n_paths_not_cut = 0\n",
      "Number of different layers = 3\n",
      "n_suggested_cuts = 2, n_paths_not_cut = 0\n",
      "Number of different layers = 3\n",
      "n_suggested_cuts = 5, n_paths_not_cut = 0\n",
      "Number of different layers = 3\n",
      "n_suggested_cuts = 7, n_paths_not_cut = 0\n",
      "Number of different layers = 3\n",
      "n_suggested_cuts = 3, n_paths_not_cut = 0\n"
     ]
    }
   ],
   "source": [
    "spreadsheet_data = []\n",
    "\n",
    "import re\n",
    "def ipython_html_object_to_link(html_obj):\n",
    "    links = re.findall(\"href=[\\\"\\'](.*?)[\\\"\\']\", html_obj.data)\n",
    "    return links[0]\n",
    "\n",
    "for curr_data in split_suggestions_data:\n",
    "    curr_link = pru.split_info_to_neuroglancer_link(segment_id=curr_data[\"segment_id\"],\n",
    "                                        split_info = curr_data[\"split_results\"],\n",
    "                                        output_type=\"local\"\n",
    "                                       )\n",
    "    \n",
    "    curr_link_html = ipython_html_object_to_link(curr_link)\n",
    "\n",
    "    n_suggested_cuts = len(pru.get_all_coordinate_suggestions(curr_data[\"split_results\"]))\n",
    "    n_paths_not_cut = pru.get_n_paths_not_cut(curr_data[\"split_results\"])\n",
    "\n",
    "    print(f\"n_suggested_cuts = {n_suggested_cuts}, n_paths_not_cut = {n_paths_not_cut}\")\n",
    "\n",
    "    local_dict = dict(segment_id=curr_data[\"segment_id\"],\n",
    "                     n_suggested_cuts=n_suggested_cuts,\n",
    "                     n_paths_not_cut=n_paths_not_cut,\n",
    "                     link=curr_link_html)\n",
    "    \n",
    "    spreadsheet_data.append(local_dict)\n",
    "\n",
    "import pandas as pd\n",
    "allen_spreadsheet = pd.DataFrame.from_dict(spreadsheet_data)\n",
    "allen_spreadsheet.to_csv(\"allen_spreadsheet.csv\", sep=',')"
   ]
  },
  {
   "cell_type": "markdown",
   "metadata": {},
   "source": [
    "# Debugging the split info "
   ]
  },
  {
   "cell_type": "code",
   "execution_count": 69,
   "metadata": {},
   "outputs": [],
   "source": [
    "import matplotlib_utils as mu\n",
    "import pandas as pd\n",
    "from annotationframeworkclient import FrameworkClient\n",
    "from nglui import statebuilder\n",
    "import copy"
   ]
  },
  {
   "cell_type": "code",
   "execution_count": 83,
   "metadata": {
    "scrolled": true
   },
   "outputs": [
    {
     "name": "stdout",
     "output_type": "stream",
     "text": [
      "Number of different layers = 3\n"
     ]
    }
   ],
   "source": [
    "segment_id = curr_data[\"segment_id\"]\n",
    "split_info=curr_data[\"split_results\"]\n",
    "split_coordinates = None\n",
    "cut_path_coordinates = None\n",
    "not_cut_path_coordinates = None\n",
    "other_annotations = dict()\n",
    "output_type = \"local\"\n",
    "split_coordinates_color = \"red\"\n",
    "split_coordinates_name = \"split_location\"\n",
    "cut_path_coordinates_color = \"white\"\n",
    "cut_path_coordinates_name = \"cut_path\"\n",
    "not_cut_path_coordinates_color = \"green\"\n",
    "not_cut_path_coordinates_name = \"not_cut_path\"\n",
    "verbose = True\n",
    "\n",
    "if split_coordinates is None:\n",
    "    split_coordinates = pru.get_all_coordinate_suggestions(split_info)\n",
    "\n",
    "if cut_path_coordinates is None or not_cut_path_coordinates is None:\n",
    "    cut_path_coordinates,not_cut_path_coordinates = pru.get_all_cut_and_not_cut_path_coordinates(split_info)\n",
    "\n",
    "\n",
    "annotations_info = {\n",
    "                    cut_path_coordinates_name:dict(coordinates=cut_path_coordinates,\n",
    "                                               color=cut_path_coordinates_color),\n",
    "                    not_cut_path_coordinates_name:dict(coordinates=not_cut_path_coordinates,\n",
    "                                               color=not_cut_path_coordinates_color),\n",
    "                    split_coordinates_name:dict(coordinates=split_coordinates,\n",
    "                                               color=split_coordinates_color),\n",
    "\n",
    "                   }\n",
    "\n",
    "annotations_info.update(other_annotations)\n",
    "\n",
    "df_list = []\n",
    "states_list = []\n",
    "\n",
    "for ann_name,ann_dict in annotations_info.items():\n",
    "    sb = pru.set_state_builder(layer_name=ann_name,\n",
    "                                     color=mu.color_to_hex(ann_dict[\"color\"]))\n",
    "    df = pru.set_edit_dataframe(ann_dict[\"coordinates\"],segment_id)\n",
    "\n",
    "    states_list.append(sb)\n",
    "    df_list.append(df)\n",
    "\n",
    "if verbose:\n",
    "    print(f\"Number of different layers = {len(states_list)}\")\n",
    "\n",
    "# building the chained state\n",
    "chained_sb = statebuilder.ChainedStateBuilder(states_list)\n",
    "\n",
    "if output_type==\"local\":\n",
    "    return_value= chained_sb.render_state(df_list, return_as='html')\n",
    "elif output_type == \"server\":\n",
    "    # To upload to the state server for a shortened URL:\n",
    "    client = pru.get_client()\n",
    "    state = chained_sb.render_state(df_list, return_as='dict')\n",
    "    state_id = client.state.upload_state_json(state)\n",
    "    short_url = client.state.build_neuroglancer_url(state_id, ngl_url=client.info.viewer_site())\n",
    "    return_value = short_url\n",
    "else:\n",
    "    raise Exception(\"Not implemented\")"
   ]
  },
  {
   "cell_type": "code",
   "execution_count": 75,
   "metadata": {},
   "outputs": [
    {
     "data": {
      "text/html": [
       "<div>\n",
       "<style scoped>\n",
       "    .dataframe tbody tr th:only-of-type {\n",
       "        vertical-align: middle;\n",
       "    }\n",
       "\n",
       "    .dataframe tbody tr th {\n",
       "        vertical-align: top;\n",
       "    }\n",
       "\n",
       "    .dataframe thead th {\n",
       "        text-align: right;\n",
       "    }\n",
       "</style>\n",
       "<table border=\"1\" class=\"dataframe\">\n",
       "  <thead>\n",
       "    <tr style=\"text-align: right;\">\n",
       "      <th></th>\n",
       "      <th>split_location</th>\n",
       "      <th>root_id</th>\n",
       "      <th>priority</th>\n",
       "    </tr>\n",
       "  </thead>\n",
       "  <tbody>\n",
       "    <tr>\n",
       "      <th>0</th>\n",
       "      <td>[[210333.75, 110171.75, 16456.15], [211534.25,...</td>\n",
       "      <td>864691135428492848</td>\n",
       "      <td>1</td>\n",
       "    </tr>\n",
       "  </tbody>\n",
       "</table>\n",
       "</div>"
      ],
      "text/plain": [
       "                                      split_location             root_id  \\\n",
       "0  [[210333.75, 110171.75, 16456.15], [211534.25,...  864691135428492848   \n",
       "\n",
       "   priority  \n",
       "0         1  "
      ]
     },
     "execution_count": 75,
     "metadata": {},
     "output_type": "execute_result"
    }
   ],
   "source": [
    "df_list[1]"
   ]
  },
  {
   "cell_type": "code",
   "execution_count": 81,
   "metadata": {},
   "outputs": [],
   "source": [
    "a,b = pru.get_all_cut_and_not_cut_path_coordinates(split_info)"
   ]
  },
  {
   "cell_type": "code",
   "execution_count": 82,
   "metadata": {},
   "outputs": [
    {
     "data": {
      "text/plain": [
       "[array([210333.75, 110171.75,  16456.15]),\n",
       " array([211534.25 , 101889.5  ,  15706.325]),\n",
       " array([212255.25 , 124903.   ,  16450.675]),\n",
       " array([213137.06666667, 132676.39166667,  16475.19833333]),\n",
       " array([213490.95462904, 130456.04436984,  16470.43199707]),\n",
       " array([216020.75 ,  94271.25 ,  15536.025]),\n",
       " array([230220.5  ,  95348.25 ,  17260.175]),\n",
       " array([233598.75 , 100353.25 ,  17561.425]),\n",
       " array([244763.25, 114953.75,  18395.4 ]),\n",
       " array([247279.5  , 131543.   ,  18759.925]),\n",
       " array([248378. , 147034.5,  19011.7]),\n",
       " array([248457.5 , 150756.75,  19116.9 ]),\n",
       " array([251002.5 , 173051.5 ,  19329.35]),\n",
       " array([251757.5 , 175771.  ,  19400.15]),\n",
       " array([252380.   , 178798.25 ,  19447.275]),\n",
       " array([252672.5  , 179454.5  ,  19450.875]),\n",
       " array([254065. , 183900. ,  19636.4]),\n",
       " array([256025.   , 192415.5  ,  19726.975]),\n",
       " array([256190. , 189533.5,  19694.4])]"
      ]
     },
     "execution_count": 82,
     "metadata": {},
     "output_type": "execute_result"
    }
   ],
   "source": [
    "b"
   ]
  },
  {
   "cell_type": "code",
   "execution_count": null,
   "metadata": {},
   "outputs": [],
   "source": []
  }
 ],
 "metadata": {
  "kernelspec": {
   "display_name": "Python 3",
   "language": "python",
   "name": "python3"
  },
  "language_info": {
   "codemirror_mode": {
    "name": "ipython",
    "version": 3
   },
   "file_extension": ".py",
   "mimetype": "text/x-python",
   "name": "python",
   "nbconvert_exporter": "python",
   "pygments_lexer": "ipython3",
   "version": "3.6.9"
  }
 },
 "nbformat": 4,
 "nbformat_minor": 4
}
