{
 "cells": [
  {
   "cell_type": "code",
   "execution_count": null,
   "metadata": {},
   "outputs": [],
   "source": [
    "\"\"\"\n",
    "Purpose: To be able to extract out points for red/blue split\n",
    "and then lay them down in different annotation layers\n",
    "\n",
    "\"\"\""
   ]
  },
  {
   "cell_type": "code",
   "execution_count": 1,
   "metadata": {},
   "outputs": [],
   "source": [
    "%load_ext autoreload\n",
    "%autoreload 2"
   ]
  },
  {
   "cell_type": "code",
   "execution_count": 2,
   "metadata": {},
   "outputs": [],
   "source": [
    "from os import sys\n",
    "sys.path.append(\"/meshAfterParty/\")\n",
    "sys.path.append(\"/meshAfterParty/meshAfterParty/\")"
   ]
  },
  {
   "cell_type": "code",
   "execution_count": 4,
   "metadata": {},
   "outputs": [
    {
     "name": "stderr",
     "output_type": "stream",
     "text": [
      "INFO - 2021-03-30 20:57:42,017 - settings - Setting database.host to at-database.ad.bcm.edu\n",
      "INFO - 2021-03-30 20:57:42,019 - settings - Setting database.user to celiib\n",
      "INFO - 2021-03-30 20:57:42,020 - settings - Setting database.password to newceliipass\n",
      "INFO - 2021-03-30 20:57:42,033 - settings - Setting stores to {'minnie65': {'protocol': 'file', 'location': '/mnt/dj-stor01/platinum/minnie65', 'stage': '/mnt/dj-stor01/platinum/minnie65'}, 'meshes': {'protocol': 'file', 'location': '/mnt/dj-stor01/platinum/minnie65/02/meshes', 'stage': '/mnt/dj-stor01/platinum/minnie65/02/meshes'}, 'decimated_meshes': {'protocol': 'file', 'location': '/mnt/dj-stor01/platinum/minnie65/02/decimated_meshes', 'stage': '/mnt/dj-stor01/platinum/minnie65/02/decimated_meshes'}, 'skeletons': {'protocol': 'file', 'location': '/mnt/dj-stor01/platinum/minnie65/02/skeletons'}}\n",
      "INFO - 2021-03-30 20:57:42,034 - settings - Setting enable_python_native_blobs to True\n",
      "INFO - 2021-03-30 20:57:42,048 - connection - Connected celiib@at-database.ad.bcm.edu:3306\n"
     ]
    },
    {
     "name": "stdout",
     "output_type": "stream",
     "text": [
      "Connecting celiib@at-database.ad.bcm.edu:3306\n"
     ]
    },
    {
     "name": "stderr",
     "output_type": "stream",
     "text": [
      "INFO - 2021-03-30 20:57:42,492 - settings - Setting enable_python_native_blobs to True\n",
      "INFO - 2021-03-30 20:57:42,497 - settings - Setting database.host to at-database.ad.bcm.edu\n",
      "INFO - 2021-03-30 20:57:42,497 - settings - Setting database.user to celiib\n",
      "INFO - 2021-03-30 20:57:42,498 - settings - Setting database.password to newceliipass\n",
      "INFO - 2021-03-30 20:57:42,499 - settings - Setting database.host to at-database.ad.bcm.edu\n",
      "INFO - 2021-03-30 20:57:42,499 - settings - Setting database.user to celiib\n",
      "INFO - 2021-03-30 20:57:42,500 - settings - Setting database.password to newceliipass\n",
      "INFO - 2021-03-30 20:57:42,502 - settings - Setting enable_python_native_blobs to True\n",
      "INFO - 2021-03-30 20:57:42,969 - settings - Setting enable_python_native_blobs to True\n"
     ]
    }
   ],
   "source": [
    "from pathlib import Path\n",
    "import numpy as np\n",
    "import neuron_visualizations as nviz\n",
    "import datajoint as dj\n",
    "\n",
    "import proofreading_utils as pru\n",
    "import classification_utils as clu\n",
    "\n",
    "import neuron_utils as nru\n",
    "import validation_utils as vu\n",
    "import pandas as pd\n",
    "import datajoint_utils as du"
   ]
  },
  {
   "cell_type": "markdown",
   "metadata": {},
   "source": [
    "# Downloading the Neuron"
   ]
  },
  {
   "cell_type": "code",
   "execution_count": 5,
   "metadata": {},
   "outputs": [],
   "source": [
    "segment_id = 864691135771629819"
   ]
  },
  {
   "cell_type": "code",
   "execution_count": 6,
   "metadata": {},
   "outputs": [
    {
     "name": "stdout",
     "output_type": "stream",
     "text": [
      "Decompressing Neuron in minimal output mode...please wait\n",
      "Pulled from Table Decomposition so setting split_index = 0\n",
      "Dont need spine recalculation\n",
      "Number of Neurons found = 1\n"
     ]
    }
   ],
   "source": [
    "neuron_objs,neuron_split_idxs = du.decomposition_with_spine_recalculation(segment_id)"
   ]
  },
  {
   "cell_type": "code",
   "execution_count": 8,
   "metadata": {},
   "outputs": [
    {
     "data": {
      "text/plain": [
       "864691135771629819"
      ]
     },
     "execution_count": 8,
     "metadata": {},
     "output_type": "execute_result"
    }
   ],
   "source": [
    "neuron_obj = neuron_objs[0]\n",
    "neuron_obj.segment_id"
   ]
  },
  {
   "cell_type": "code",
   "execution_count": 9,
   "metadata": {},
   "outputs": [
    {
     "name": "stdout",
     "output_type": "stream",
     "text": [
      "\n",
      "Part 1: Axon like branchese \n",
      "{'L1': array([ 1,  2,  3,  4,  5,  7,  8,  9, 10, 11, 12, 13, 14, 15, 16, 17, 18,\n",
      "       19, 20, 21, 22, 23, 24, 25, 26, 27, 28, 29, 30, 31, 32, 33, 34, 35,\n",
      "       36, 37, 38, 39, 40, 41, 42, 43, 44, 45, 46, 47, 48, 49, 50, 51, 52,\n",
      "       53, 54, 55, 56, 57, 58, 59, 60, 61, 62, 63, 64, 65, 66, 67, 68, 69]), 'L5': array([1, 2, 3, 5])}\n",
      "Limb L0 soma angle: 7.62 \n",
      "Limb L1 soma angle: 172.9 \n",
      "Limb L2 soma angle: 157.94 \n",
      "Limb L3 soma angle: 115.16 \n",
      "Limb L4 soma angle: 155.41 \n",
      "Limb L5 soma angle: 156.82 \n",
      "\n",
      "Part 2: possible_axon_limbs = [1, 2, 3, 4, 5]\n",
      "\n",
      "Phase 2: Working on Limb L1\n",
      "nodes_to_eliminate = [6]\n",
      "\n",
      "Phase 2: Working on Limb L2\n",
      "nodes_to_eliminate = [4]\n",
      "\n",
      "Phase 2: Working on Limb L3\n",
      "nodes_to_eliminate = []\n",
      "\n",
      "Phase 2: Working on Limb L4\n",
      "nodes_to_eliminate = []\n",
      "\n",
      "Phase 2: Working on Limb L5\n",
      "nodes_to_eliminate = []\n",
      "\n",
      "----Working on Limb L1-----\n",
      "No endpoints were eliminated so don't need to add back any candidates\n",
      "\n",
      "----Working on Limb L2-----\n",
      "No endpoints were eliminated so don't need to add back any candidates\n",
      "\n",
      "----Working on Limb L3-----\n",
      "No nodes were eliminated so don't need to add back any candidates\n",
      "\n",
      "----Working on Limb L4-----\n",
      "No nodes were eliminated so don't need to add back any candidates\n",
      "\n",
      "----Working on Limb L5-----\n",
      "No nodes were eliminated so don't need to add back any candidates\n",
      "Final Candidates\n",
      "\n",
      "Limb 1\n",
      "Candidate 0 (darkslategray): array([0])\n",
      "Candidate 1 (cadetblue): array([ 1,  2,  3,  4,  5,  7,  8,  9, 10, 11, 12, 13, 14, 15, 16, 17, 18,\n",
      "       19, 20, 21, 22, 23, 24, 25, 26, 27, 28, 29, 30, 31, 32, 33, 34, 35,\n",
      "       36, 37, 38, 39, 40, 41, 42, 43, 44, 45, 46, 47, 48, 49, 50, 51, 52,\n",
      "       53, 54, 55, 56, 57, 58, 59, 60, 61, 62, 63, 64, 65, 66, 67, 68, 69])\n",
      "\n",
      "Limb 2\n",
      "Candidate 0 (cadetblue): array([0])\n",
      "Candidate 1 (brown): array([1, 2, 3])\n",
      "\n",
      "Limb 3\n",
      "Candidate 0 (olive): array([0, 1, 2, 3, 4])\n",
      "\n",
      "Limb 4\n",
      "Candidate 0 (sandybrown): array([0, 1, 2])\n",
      "\n",
      "Limb 5\n",
      "Candidate 0 (blue): array([0, 1, 2, 3, 4, 5])\n",
      "Part 3: axon_subgraph_candidates = {1: [[0], [1, 2, 3, 4, 5, 7, 8, 9, 10, 11, 12, 13, 14, 15, 16, 17, 18, 19, 20, 21, 22, 23, 24, 25, 26, 27, 28, 29, 30, 31, 32, 33, 34, 35, 36, 37, 38, 39, 40, 41, 42, 43, 44, 45, 46, 47, 48, 49, 50, 51, 52, 53, 54, 55, 56, 57, 58, 59, 60, 61, 62, 63, 64, 65, 66, 67, 68, 69]], 2: [[0], [1, 2, 3]], 3: [[0, 1, 2, 3, 4]], 4: [[0, 1, 2]], 5: [[0, 1, 2, 3, 4, 5]]}\n",
      "\n",
      "\n",
      " --- Working on limb 1, candidate # 0\n",
      "0 out of 1 branches are axons\n",
      "Axon percentage = 0.0\n",
      "Not adding candidate no axon branches detected \n",
      "\n",
      "\n",
      " --- Working on limb 1, candidate # 1\n",
      "68 out of 68 branches are axons\n",
      "Axon percentage = 1.0\n",
      "curr_axon_angle_threshold = 95\n",
      "candidate_nodes = [ 1  2  3  4  5  6  7  8  9 10 11 12 13 14 15 16 17 18 19 20 21 22 23 24\n",
      " 25 26 27 28 29 30 31 32 33 34 35 36 37 38 39 40 41 42 43 44 45 46 47 48\n",
      " 49 50 51 52 53 54 55 56 57 58 59 60 61 62 63 64 65 66 67 68 69]\n",
      "non_axon_branches_on_subgraph = [6]\n",
      "endnodes_to_test = [1897]\n",
      "Skeleton paths distances = [24949.38870931]\n",
      "Filtered indexes = [0]\n",
      "len(filtered_skeletons) = 1\n",
      "sk_angles = [172.77777023]\n",
      "candidate_angles,restr_skels = (array([172.77777023]), [array([[[733004.97687817, 560517.69298869, 844723.80901474],\n",
      "        [733034.55715168, 560613.14261031, 844727.31603715]],\n",
      "\n",
      "       [[733034.55715168, 560613.14261031, 844727.31603715],\n",
      "        [733064.90421704, 560708.37439332, 844730.27072248]],\n",
      "\n",
      "       [[733064.90421704, 560708.37439332, 844730.27072248],\n",
      "        [733097.07043679, 560803.05199596, 844731.48968289]],\n",
      "\n",
      "       [[733097.07043679, 560803.05199596, 844731.48968289],\n",
      "        [733129.44055401, 560897.66370194, 844732.12435938]],\n",
      "\n",
      "       [[733129.44055401, 560897.66370194, 844732.12435938],\n",
      "        [733162.02008846, 560992.20772734, 844732.15893461]],\n",
      "\n",
      "       [[733162.02008846, 560992.20772734, 844732.15893461],\n",
      "        [733193.54769336, 561087.10555049, 844732.69563557]],\n",
      "\n",
      "       [[733193.54769336, 561087.10555049, 844732.69563557],\n",
      "        [733223.85726225, 561182.36122134, 844734.63992309]],\n",
      "\n",
      "       [[733223.85726225, 561182.36122134, 844734.63992309],\n",
      "        [733252.52466677, 561278.06184833, 844738.67597652]],\n",
      "\n",
      "       [[733252.52466677, 561278.06184833, 844738.67597652],\n",
      "        [733277.92342965, 561374.34247397, 844747.89248178]],\n",
      "\n",
      "       [[733277.92342965, 561374.34247397, 844747.89248178],\n",
      "        [733300.20113308, 561470.64358704, 844762.63747519]],\n",
      "\n",
      "       [[733300.20113308, 561470.64358704, 844762.63747519],\n",
      "        [733319.7868113 , 561566.66667255, 844782.14932815]],\n",
      "\n",
      "       [[733319.7868113 , 561566.66667255, 844782.14932815],\n",
      "        [733337.05283131, 561662.29121969, 844805.7247687 ]],\n",
      "\n",
      "       [[733337.05283131, 561662.29121969, 844805.7247687 ],\n",
      "        [733351.47462887, 561757.19878291, 844833.73487759]],\n",
      "\n",
      "       [[733351.47462887, 561757.19878291, 844833.73487759],\n",
      "        [733364.70929091, 561851.88321075, 844863.01395783]],\n",
      "\n",
      "       [[733364.70929091, 561851.88321075, 844863.01395783],\n",
      "        [733377.00089308, 561946.39037996, 844893.30110831]],\n",
      "\n",
      "       [[733377.00089308, 561946.39037996, 844893.30110831],\n",
      "        [733388.09821952, 562040.98289103, 844923.77936965]],\n",
      "\n",
      "       [[733388.09821952, 562040.98289103, 844923.77936965],\n",
      "        [733399.00486893, 562135.61586817, 844954.20159567]],\n",
      "\n",
      "       [[733399.00486893, 562135.61586817, 844954.20159567],\n",
      "        [733409.28333098, 562230.68582605, 844983.46003593]],\n",
      "\n",
      "       [[733409.28333098, 562230.68582605, 844983.46003593],\n",
      "        [733419.5578257 , 562325.82333977, 845012.49111415]],\n",
      "\n",
      "       [[733419.5578257 , 562325.82333977, 845012.49111415],\n",
      "        [733429.79814567, 562421.54278267, 845039.5636851 ]],\n",
      "\n",
      "       [[733429.79814567, 562421.54278267, 845039.5636851 ],\n",
      "        [733440.06666597, 562517.29523161, 845066.50136991]],\n",
      "\n",
      "       [[733440.06666597, 562517.29523161, 845066.50136991],\n",
      "        [733450.87892822, 562613.68408315, 845090.83826135]],\n",
      "\n",
      "       [[733450.87892822, 562613.68408315, 845090.83826135],\n",
      "        [733461.69119047, 562710.07293468, 845115.17515279]],\n",
      "\n",
      "       [[733461.69119047, 562710.07293468, 845115.17515279],\n",
      "        [733473.52483434, 562807.00820053, 845136.69170724]],\n",
      "\n",
      "       [[733473.52483434, 562807.00820053, 845136.69170724],\n",
      "        [733485.41967608, 562903.97620576, 845158.03927627]],\n",
      "\n",
      "       [[733485.41967608, 562903.97620576, 845158.03927627],\n",
      "        [733498.44748443, 563001.30812788, 845176.88461459]],\n",
      "\n",
      "       [[733498.44748443, 563001.30812788, 845176.88461459],\n",
      "        [733511.71530485, 563098.71714357, 845195.1998706 ]],\n",
      "\n",
      "       [[733511.71530485, 563098.71714357, 845195.1998706 ],\n",
      "        [733525.97004599, 563196.35533629, 845211.36875937]],\n",
      "\n",
      "       [[733525.97004599, 563196.35533629, 845211.36875937],\n",
      "        [733540.60192114, 563294.0811049 , 845226.71745249]],\n",
      "\n",
      "       [[733540.60192114, 563294.0811049 , 845226.71745249],\n",
      "        [733555.95140488, 563391.96744514, 845240.15107872]],\n",
      "\n",
      "       [[733555.95140488, 563391.96744514, 845240.15107872],\n",
      "        [733571.67526442, 563489.93755548, 845252.5856162 ]],\n",
      "\n",
      "       [[733571.67526442, 563489.93755548, 845252.5856162 ],\n",
      "        [733587.85630415, 563588.04461255, 845263.12056742]],\n",
      "\n",
      "       [[733587.85630415, 563588.04461255, 845263.12056742],\n",
      "        [733604.29882762, 563686.22999618, 845272.56905218]],\n",
      "\n",
      "       [[733604.29882762, 563686.22999618, 845272.56905218],\n",
      "        [733621.053239  , 563784.53360551, 845279.86977788]],\n",
      "\n",
      "       [[733621.053239  , 563784.53360551, 845279.86977788],\n",
      "        [733637.9654056 , 563882.89701429, 845286.08415107]],\n",
      "\n",
      "       [[733637.9654056 , 563882.89701429, 845286.08415107],\n",
      "        [733655.26806031, 563981.31208862, 845289.62206422]],\n",
      "\n",
      "       [[733655.26806031, 563981.31208862, 845289.62206422],\n",
      "        [733672.7080768 , 564079.7453373 , 845292.2184806 ]],\n",
      "\n",
      "       [[733672.7080768 , 564079.7453373 , 845292.2184806 ],\n",
      "        [733690.94142306, 564178.05492523, 845291.37543361]],\n",
      "\n",
      "       [[733690.94142306, 564178.05492523, 845291.37543361],\n",
      "        [733709.32464294, 564276.33848304, 845289.91083822]],\n",
      "\n",
      "       [[733709.32464294, 564276.33848304, 845289.91083822],\n",
      "        [733729.17489225, 564374.18637261, 845284.27540492]],\n",
      "\n",
      "       [[733729.17489225, 564374.18637261, 845284.27540492],\n",
      "        [733749.39980862, 564471.89036493, 845277.8298474 ]],\n",
      "\n",
      "       [[733749.39980862, 564471.89036493, 845277.8298474 ],\n",
      "        [733771.15451581, 564569.00681511, 845268.07649818]],\n",
      "\n",
      "       [[733771.15451581, 564569.00681511, 845268.07649818],\n",
      "        [733793.68762245, 564665.76323861, 845256.84172889]],\n",
      "\n",
      "       [[733793.68762245, 564665.76323861, 845256.84172889],\n",
      "        [733817.34539329, 564761.99948046, 845243.46654168]],\n",
      "\n",
      "       [[733817.34539329, 564761.99948046, 845243.46654168],\n",
      "        [733841.89838821, 564857.72912132, 845228.27705934]],\n",
      "\n",
      "       [[733841.89838821, 564857.72912132, 845228.27705934],\n",
      "        [733866.917736  , 564953.19485638, 845212.14244854]],\n",
      "\n",
      "       [[733866.917736  , 564953.19485638, 845212.14244854],\n",
      "        [733892.22607052, 565048.31313057, 845194.48184315]],\n",
      "\n",
      "       [[733892.22607052, 565048.31313057, 845194.48184315],\n",
      "        [733917.141539  , 565143.51127869, 845176.70009841]],\n",
      "\n",
      "       [[733917.141539  , 565143.51127869, 845176.70009841],\n",
      "        [733941.27190458, 565238.89228571, 845158.80627387]],\n",
      "\n",
      "       [[733941.27190458, 565238.89228571, 845158.80627387],\n",
      "        [733963.0144958 , 565335.0426982 , 845142.05379016]],\n",
      "\n",
      "       [[733963.0144958 , 565335.0426982 , 845142.05379016],\n",
      "        [733982.48059469, 565431.88012208, 845126.67557994]],\n",
      "\n",
      "       [[733982.48059469, 565431.88012208, 845126.67557994],\n",
      "        [733999.01790414, 565529.57027276, 845113.2026857 ]],\n",
      "\n",
      "       [[733999.01790414, 565529.57027276, 845113.2026857 ],\n",
      "        [734010.72502176, 565628.39508196, 845103.37413123]],\n",
      "\n",
      "       [[734010.72502176, 565628.39508196, 845103.37413123],\n",
      "        [734019.42227031, 565727.73760646, 845096.37201787]],\n",
      "\n",
      "       [[734019.42227031, 565727.73760646, 845096.37201787],\n",
      "        [734026.16677057, 565827.38353945, 845091.71270921]],\n",
      "\n",
      "       [[734026.16677057, 565827.38353945, 845091.71270921],\n",
      "        [734031.69481271, 565927.19313778, 845089.00298676]],\n",
      "\n",
      "       [[734031.69481271, 565927.19313778, 845089.00298676],\n",
      "        [734037.30708736, 566027.03368292, 845088.39642374]],\n",
      "\n",
      "       [[734037.30708736, 566027.03368292, 845088.39642374],\n",
      "        [734043.7268808 , 566126.82321154, 845088.4502266 ]],\n",
      "\n",
      "       [[734043.7268808 , 566126.82321154, 845088.4502266 ],\n",
      "        [734050.76545886, 566226.57361633, 845089.00881787]],\n",
      "\n",
      "       [[734050.76545886, 566226.57361633, 845089.00881787],\n",
      "        [734059.45230273, 566326.1923367 , 845089.81460677]],\n",
      "\n",
      "       [[734059.45230273, 566326.1923367 , 845089.81460677],\n",
      "        [734068.45687398, 566425.78287219, 845090.41195881]],\n",
      "\n",
      "       [[734068.45687398, 566425.78287219, 845090.41195881],\n",
      "        [734078.08754841, 566525.31786747, 845090.598572  ]],\n",
      "\n",
      "       [[734078.08754841, 566525.31786747, 845090.598572  ],\n",
      "        [734087.53795041, 566624.86530531, 845089.92053665]],\n",
      "\n",
      "       [[734087.53795041, 566624.86530531, 845089.92053665],\n",
      "        [734096.86410225, 566724.421319  , 845088.64655483]],\n",
      "\n",
      "       [[734096.86410225, 566724.421319  , 845088.64655483],\n",
      "        [734104.86167369, 566824.04831151, 845085.60599147]],\n",
      "\n",
      "       [[734104.86167369, 566824.04831151, 845085.60599147],\n",
      "        [734112.51801526, 566923.69353409, 845082.11170292]],\n",
      "\n",
      "       [[734112.51801526, 566923.69353409, 845082.11170292],\n",
      "        [734117.48753538, 567023.37754425, 845075.94154529]],\n",
      "\n",
      "       [[734117.48753538, 567023.37754425, 845075.94154529],\n",
      "        [734121.8808566 , 567123.04518066, 845069.26115372]],\n",
      "\n",
      "       [[734121.8808566 , 567123.04518066, 845069.26115372],\n",
      "        [734123.58898399, 567222.62267071, 845060.23863886]],\n",
      "\n",
      "       [[734123.58898399, 567222.62267071, 845060.23863886],\n",
      "        [734124.2772997 , 567322.12160319, 845050.41680342]],\n",
      "\n",
      "       [[734124.2772997 , 567322.12160319, 845050.41680342],\n",
      "        [734123.13780668, 567421.47973689, 845039.16234553]],\n",
      "\n",
      "       [[734123.13780668, 567421.47973689, 845039.16234553],\n",
      "        [734120.96340166, 567520.73873411, 845027.25439249]],\n",
      "\n",
      "       [[734120.96340166, 567520.73873411, 845027.25439249],\n",
      "        [734118.01751851, 567619.92382976, 845014.85928963]],\n",
      "\n",
      "       [[734118.01751851, 567619.92382976, 845014.85928963],\n",
      "        [734114.68934332, 567719.11063821, 845002.57673231]],\n",
      "\n",
      "       [[734114.68934332, 567719.11063821, 845002.57673231],\n",
      "        [734111.29268344, 567818.30415873, 844990.36848517]],\n",
      "\n",
      "       [[734111.29268344, 567818.30415873, 844990.36848517],\n",
      "        [734108.49223055, 567917.64447919, 844979.24831459]],\n",
      "\n",
      "       [[734108.49223055, 567917.64447919, 844979.24831459],\n",
      "        [734105.99848559, 568017.03439929, 844968.53639357]],\n",
      "\n",
      "       [[734105.99848559, 568017.03439929, 844968.53639357],\n",
      "        [734104.29688377, 568116.55242173, 844958.87887004]],\n",
      "\n",
      "       [[734104.29688377, 568116.55242173, 844958.87887004],\n",
      "        [734103.05781669, 568216.12529173, 844949.75673642]],\n",
      "\n",
      "       [[734103.05781669, 568216.12529173, 844949.75673642],\n",
      "        [734102.2733513 , 568315.75206857, 844941.16081011]],\n",
      "\n",
      "       [[734102.2733513 , 568315.75206857, 844941.16081011],\n",
      "        [734101.78609376, 568415.39531257, 844932.73843509]],\n",
      "\n",
      "       [[734101.78609376, 568415.39531257, 844932.73843509],\n",
      "        [734101.42426433, 568515.04550607, 844924.38930245]],\n",
      "\n",
      "       [[734101.42426433, 568515.04550607, 844924.38930245],\n",
      "        [734101.16897199, 568614.66051978, 844915.62830027]],\n",
      "\n",
      "       [[734101.16897199, 568614.66051978, 844915.62830027],\n",
      "        [734100.93046501, 568714.26999077, 844906.80240631]],\n",
      "\n",
      "       [[734100.93046501, 568714.26999077, 844906.80240631],\n",
      "        [734101.05290161, 568813.81485798, 844897.27398719]],\n",
      "\n",
      "       [[734101.05290161, 568813.81485798, 844897.27398719],\n",
      "        [734101.2385564 , 568913.35610289, 844887.7116959 ]],\n",
      "\n",
      "       [[734101.2385564 , 568913.35610289, 844887.7116959 ],\n",
      "        [734102.53711108, 569012.85276793, 844877.77552949]],\n",
      "\n",
      "       [[734102.53711108, 569012.85276793, 844877.77552949],\n",
      "        [734104.01263396, 569112.34744032, 844867.86282819]],\n",
      "\n",
      "       [[734104.01263396, 569112.34744032, 844867.86282819],\n",
      "        [734107.55004889, 569211.81889603, 844858.22352352]],\n",
      "\n",
      "       [[734107.55004889, 569211.81889603, 844858.22352352],\n",
      "        [734111.37906444, 569311.28392969, 844848.67809975]],\n",
      "\n",
      "       [[734111.37906444, 569311.28392969, 844848.67809975],\n",
      "        [734118.09844785, 569410.68530755, 844840.06323079]],\n",
      "\n",
      "       [[734118.09844785, 569410.68530755, 844840.06323079],\n",
      "        [734125.2107191 , 569510.06580778, 844831.6116689 ]],\n",
      "\n",
      "       [[734125.2107191 , 569510.06580778, 844831.6116689 ],\n",
      "        [734135.57682632, 569609.27340281, 844824.51259074]],\n",
      "\n",
      "       [[734135.57682632, 569609.27340281, 844824.51259074],\n",
      "        [734146.45207288, 569708.43453474, 844817.66080234]],\n",
      "\n",
      "       [[734146.45207288, 569708.43453474, 844817.66080234],\n",
      "        [734160.25068865, 569807.32888558, 844812.22889886]],\n",
      "\n",
      "       [[734160.25068865, 569807.32888558, 844812.22889886],\n",
      "        [734174.62669411, 569906.15194015, 844807.15445644]],\n",
      "\n",
      "       [[734174.62669411, 569906.15194015, 844807.15445644],\n",
      "        [734190.96479484, 570004.73271458, 844803.29474415]],\n",
      "\n",
      "       [[734190.96479484, 570004.73271458, 844803.29474415],\n",
      "        [734207.7104818 , 570103.25927597, 844799.92938984]],\n",
      "\n",
      "       [[734207.7104818 , 570103.25927597, 844799.92938984],\n",
      "        [734225.21825323, 570201.68447254, 844797.4883615 ]],\n",
      "\n",
      "       [[734225.21825323, 570201.68447254, 844797.4883615 ],\n",
      "        [734242.55863467, 570300.15103625, 844795.69936144]]])])\n"
     ]
    },
    {
     "name": "stdout",
     "output_type": "stream",
     "text": [
      "base_final_widths = [162.61812219 174.38200891 145.92502785]\n",
      "overall_ais_width = 141.35042771908473\n",
      "ais_width = 160.97505298376765\n",
      "Adding the following branches as true axons: [ 1  2  3  4  5  7  8  9 10 11 12 13 14 15 16 17 18 19 20 21 22 23 24 25\n",
      " 26 27 28 29 30 31 32 33 34 35 36 37 38 39 40 41 42 43 44 45 46 47 48 49\n",
      " 50 51 52 53 54 55 56 57 58 59 60 61 62 63 64 65 66 67 68 69]\n",
      "curr_soma_angle = 172.9\n",
      "max_axon_angle = 172.77777022623957\n",
      "Changing to a better axon candidate\n",
      "\n",
      "\n",
      " --- Working on limb 2, candidate # 0\n",
      "0 out of 1 branches are axons\n",
      "Axon percentage = 0.0\n",
      "Not adding candidate no axon branches detected \n",
      "\n",
      "\n",
      " --- Working on limb 2, candidate # 1\n",
      "0 out of 3 branches are axons\n",
      "Axon percentage = 0.0\n",
      "Not adding candidate no axon branches detected \n",
      "\n",
      "\n",
      " --- Working on limb 3, candidate # 0\n",
      "0 out of 5 branches are axons\n",
      "Axon percentage = 0.0\n",
      "Not adding candidate no axon branches detected \n",
      "\n",
      "\n",
      " --- Working on limb 4, candidate # 0\n",
      "0 out of 3 branches are axons\n",
      "Axon percentage = 0.0\n",
      "Not adding candidate no axon branches detected \n",
      "\n",
      "\n",
      " --- Working on limb 5, candidate # 0\n",
      "4 out of 6 branches are axons\n",
      "Axon percentage = 0.6666666666666666\n",
      "curr_axon_angle_threshold = 120\n",
      "candidate_nodes = [0 1 2 3 4 5]\n",
      "non_axon_branches_on_subgraph = [0 4]\n",
      "endnodes_to_test = []\n",
      "candidate_angles,restr_skels = (None, None)\n",
      "Not adding candidate because no angles (None) passed the threhold 120 \n",
      "Using the best axon approach\n",
      "Using True\n",
      "Limb L1: Axon branches before dendritic path filter = [ 1  2  3  4  5  7  8  9 10 11 12 13 14 15 16 17 18 19 20 21 22 23 24 25\n",
      " 26 27 28 29 30 31 32 33 34 35 36 37 38 39 40 41 42 43 44 45 46 47 48 49\n",
      " 50 51 52 53 54 55 56 57 58 59 60 61 62 63 64 65 66 67 68 69]\n",
      "Limb L1: Axon branches AFTER dendritic path filter = [ 1  2  3  4  5  7  8  9 10 11 12 13 14 15 16 17 18 19 20 21 22 23 24 25\n",
      " 26 27 28 29 30 31 32 33 34 35 36 37 38 39 40 41 42 43 44 45 46 47 48 49\n",
      " 50 51 52 53 54 55 56 57 58 59 60 61 62 63 64 65 66 67 68 69]\n",
      "\n",
      "\n",
      "Part 4: final_true_axons = {'L1': array([ 1,  2,  3,  4,  5,  7,  8,  9, 10, 11, 12, 13, 14, 15, 16, 17, 18,\n",
      "       19, 20, 21, 22, 23, 24, 25, 26, 27, 28, 29, 30, 31, 32, 33, 34, 35,\n",
      "       36, 37, 38, 39, 40, 41, 42, 43, 44, 45, 46, 47, 48, 49, 50, 51, 52,\n",
      "       53, 54, 55, 56, 57, 58, 59, 60, 61, 62, 63, 64, 65, 66, 67, 68, 69])}\n",
      "\n",
      " Working on visualization type: mesh\n"
     ]
    },
    {
     "data": {
      "application/vnd.jupyter.widget-view+json": {
       "model_id": "6c12d138292742fbbd17b5d0da0ce03c",
       "version_major": 2,
       "version_minor": 0
      },
      "text/plain": [
       "VBox(children=(Figure(camera=PerspectiveCamera(fov=46.0, position=(0.0, 0.0, 2.0), projectionMatrix=(1.0, 0.0,…"
      ]
     },
     "metadata": {},
     "output_type": "display_data"
    },
    {
     "data": {
      "text/plain": [
       "({'L1': array([ 1,  2,  3,  4,  5,  7,  8,  9, 10, 11, 12, 13, 14, 15, 16, 17, 18,\n",
       "         19, 20, 21, 22, 23, 24, 25, 26, 27, 28, 29, 30, 31, 32, 33, 34, 35,\n",
       "         36, 37, 38, 39, 40, 41, 42, 43, 44, 45, 46, 47, 48, 49, 50, 51, 52,\n",
       "         53, 54, 55, 56, 57, 58, 59, 60, 61, 62, 63, 64, 65, 66, 67, 68, 69])},\n",
       " {'L5': array([1, 2, 3, 5])})"
      ]
     },
     "execution_count": 9,
     "metadata": {},
     "output_type": "execute_result"
    }
   ],
   "source": [
    "clu.axon_classification(neuron_obj,\n",
    "                       plot_axons=True)"
   ]
  },
  {
   "cell_type": "code",
   "execution_count": 10,
   "metadata": {},
   "outputs": [
    {
     "name": "stdout",
     "output_type": "stream",
     "text": [
      "\n",
      "\n",
      " Using high_fidelity_axon_on_excitatory\n",
      "\n",
      "\n",
      "---Step 1: Applying Dendrite on Axon Filtering\n",
      "\n",
      "--- Working on filter 0:\n",
      "function = dendrite_on_axon_merges\n",
      "function __name__ = filter_away_dendrite_on_axon_merges\n",
      "function arguments = {'use_pre_existing_axon_labels': True}\n",
      "\n",
      "\n",
      "\n",
      "\n",
      "\n",
      " ---- Total time for applying filter: 0.16276073455810547 -----\n",
      "\n",
      "\n",
      "---- Step 2: Applying High Fidelity Axon -----\n",
      "Starting axon branch was not the limb starting node so generating border vertices and computing upstream branch\n",
      "upstream_node_to_axon_starting_branch = 6\n",
      "root_curr = [732813.8 554183.9 846115.7]\n",
      "Time for preparing soma vertices and root: 0.00036406517028808594\n",
      "invalidation_d = 2000\n",
      "cc_vertex_thresh = 10\n"
     ]
    },
    {
     "name": "stderr",
     "output_type": "stream",
     "text": [
      "\r",
      "  0%|          | 0/1 [00:00<?, ?it/s]"
     ]
    },
    {
     "data": {
      "application/vnd.jupyter.widget-view+json": {
       "model_id": "2db9c2e184e144d49cedef5069b0917d",
       "version_major": 2,
       "version_minor": 0
      },
      "text/plain": [
       "  0%|          | 0/86926 [00:00<?, ?it/s]"
      ]
     },
     "metadata": {},
     "output_type": "display_data"
    },
    {
     "name": "stderr",
     "output_type": "stream",
     "text": [
      "100%|██████████| 1/1 [00:03<00:00,  3.17s/it]\n"
     ]
    },
    {
     "name": "stdout",
     "output_type": "stream",
     "text": [
      "meshparty_segment_size = 100\n",
      "Time for 1st pass MP skeletonization: 3.9886181354522705\n",
      "connecting at the root\n",
      "branches_touching_root = [187]\n",
      "combining close nodes\n",
      "combine_threshold = 1300\n",
      "length of Graph = 25521\n",
      "After combining close endpoints max(kept_branches_idx) = 187, len(kept_branches_idx) = 175\n",
      "empty_indices % = 0.0\n",
      " conflict_indices % = 0.01801827824057492\n"
     ]
    },
    {
     "data": {
      "application/vnd.jupyter.widget-view+json": {
       "model_id": "243ac2ece29b4b6fbf062b1e409787f3",
       "version_major": 2,
       "version_minor": 0
      },
      "text/plain": [
       "  0%|          | 0/80 [00:00<?, ?it/s]"
      ]
     },
     "metadata": {},
     "output_type": "display_data"
    },
    {
     "name": "stdout",
     "output_type": "stream",
     "text": [
      "AFTER face_lookup_resolved_test\n"
     ]
    },
    {
     "data": {
      "application/vnd.jupyter.widget-view+json": {
       "model_id": "f657825114264dd28434731ae28e75c5",
       "version_major": 2,
       "version_minor": 0
      },
      "text/plain": [
       "  0%|          | 0/175 [00:00<?, ?it/s]"
      ]
     },
     "metadata": {},
     "output_type": "display_data"
    },
    {
     "name": "stdout",
     "output_type": "stream",
     "text": [
      "Decomposing first pass: 16.570752143859863\n",
      "Only Using MeshParty Skeletonization and Mesh Correspondence\n",
      "Another print\n",
      "Divinding into MP and MAP pieces: 3.170967102050781e-05\n",
      "Total time for MAP sublimb processing 2.86102294921875e-06\n",
      "---- Working on MP Decomposition #0 ----\n",
      "Using Quicker soma_to_piece_touching_vertices because no MAP and only one sublimb_mesh piece \n",
      "MP filtering soma verts: 4.3392181396484375e-05\n",
      "Fixing Possible Soma Extension Branch for Sublimb 0\n",
      "Total time for mesh KDTree = 0.04457736015319824\n",
      "sbv[0].reshape(-1,3) = [[732813.8 554183.9 846115.7]]\n",
      "closest_sk_pt_coord BEFORE = [732246.27079652 554176.92183191 846349.33379708]\n",
      "current_skeleton.shape = (580, 2, 3)\n",
      "node_for_stitch = 2: [732246.27079652 554176.92183191 846349.33379708]\n",
      "node_for_stitch AFTER = 2: [732246.27079652 554176.92183191 846349.33379708]\n",
      "possible_node_loc = [  0 580]\n",
      "possible_node_loc AFTER = [  0 580]\n",
      "curr_shortest_path = [2, 1.0, 0.0]\n",
      "Current stitch point was not a branch or endpoint, shortest_path_length to one = 199.99873995184475\n",
      "Changing the stitch point becasue the distance to end or branch node was 199.99873995184475\n",
      "New stitch point has degree 1\n",
      "change_status for create soma extending pieces = True\n",
      "closest_sk_pt_coord AFTER = [732215.90924915 553986.94840567 846403.98039015]\n",
      "skipping soma 0 because closest skeleton node was already end node\n",
      "endpoints_must_keep = {0: array([[732215.90924915, 553986.94840567, 846403.98039015]])}\n",
      "match_sk_branches = [174]\n",
      "The new branch info was none so skipping \n",
      "\n",
      "No soma extending branch was added for this sublimb even though it had a soma border (means they already existed)\n",
      "MP (because soma touching verts) soma extension add: 0.5257728099822998\n",
      "There were not both MAP and MP pieces so skipping the stitch resolving phase\n",
      "Time for decomp of Limb = 21.731184005737305\n",
      "Number of matching vertices = 25\n",
      "Only one endpoint after filtering away the endpoints that are not on the skeleton\n",
      "Using Distance measure skeletal_distance\n",
      "endpoints_must_keep = [[732215.90924915 553986.94840567 846403.98039015]]\n",
      "Number of end_nodes BEFORE filtering = 96\n",
      "all_single_nodes_to_eliminate = [6]\n"
     ]
    },
    {
     "data": {
      "application/vnd.jupyter.widget-view+json": {
       "model_id": "d4406edd81264d0daf1af87347a8c799",
       "version_major": 2,
       "version_minor": 0
      },
      "text/plain": [
       "  0%|          | 0/9 [00:00<?, ?it/s]"
      ]
     },
     "metadata": {},
     "output_type": "display_data"
    },
    {
     "name": "stdout",
     "output_type": "stream",
     "text": [
      "Removed 9 skeletal branches\n"
     ]
    },
    {
     "data": {
      "application/vnd.jupyter.widget-view+json": {
       "model_id": "e55bd5c0c67b445385b52fbb8f06170e",
       "version_major": 2,
       "version_minor": 0
      },
      "text/plain": [
       "  0%|          | 0/175 [00:00<?, ?it/s]"
      ]
     },
     "metadata": {},
     "output_type": "display_data"
    },
    {
     "name": "stdout",
     "output_type": "stream",
     "text": [
      "173377 173378\n",
      "For marked faces: None\n",
      "empty_indices % = 0.000934374603467568\n",
      " conflict_indices % = 0.0\n"
     ]
    },
    {
     "data": {
      "application/vnd.jupyter.widget-view+json": {
       "model_id": "add65996af14406eb0f32cadbde8506b",
       "version_major": 2,
       "version_minor": 0
      },
      "text/plain": [
       "  0%|          | 0/2 [00:00<?, ?it/s]"
      ]
     },
     "metadata": {},
     "output_type": "display_data"
    },
    {
     "name": "stdout",
     "output_type": "stream",
     "text": [
      "AFTER face_lookup_resolved_test\n"
     ]
    },
    {
     "data": {
      "application/vnd.jupyter.widget-view+json": {
       "model_id": "795c520a598048cfbc851a74f512dee2",
       "version_major": 2,
       "version_minor": 0
      },
      "text/plain": [
       "  0%|          | 0/159 [00:00<?, ?it/s]"
      ]
     },
     "metadata": {},
     "output_type": "display_data"
    },
    {
     "name": "stdout",
     "output_type": "stream",
     "text": [
      "Limb Correspondence before stitching = 159\n",
      "Limb Correspondence AFTER stitching = 159\n",
      "Readjusting starting axon branch skeleton\n",
      "Fixing the axon starting branch endpoint to align with upstream branch\n",
      "Starting Branch 12 skeleton before fix: (580, 2, 3)\n",
      "Starting Branch 12 skeleton AFTER fix: (581, 2, 3)\n"
     ]
    },
    {
     "data": {
      "application/vnd.jupyter.widget-view+json": {
       "model_id": "93a81d9cac564e68a14ebae6262f1480",
       "version_major": 2,
       "version_minor": 0
      },
      "text/plain": [
       "VBox(children=(Figure(camera=PerspectiveCamera(fov=46.0, position=(0.0, 0.0, 2.0), projectionMatrix=(1.0, 0.0,…"
      ]
     },
     "metadata": {},
     "output_type": "display_data"
    },
    {
     "name": "stdout",
     "output_type": "stream",
     "text": [
      "concept_network_dict = {0: [<networkx_utils.GraphOrderedEdges object at 0x7f539319f390>]}\n",
      "Assigning the old width calculation because no valid new widths\n",
      "\n",
      "\n",
      "----Working on seperate_graph 0----\n",
      "\n",
      "\n",
      "---------Working on soma_idx = 0, soma_group_idx 0, endpt = [732244.83043478 551240.11304348 845546.9826087 ]---------\n",
      "Starting_edge inside branches_to_conept = [[731976.97883867 553687.40467689 846535.56537164]\n",
      " [732244.83043478 551240.11304348 845546.9826087 ]]\n",
      "At the start, starting_node (in terms of the skeleton, that shouldn't match the starting edge) = [13]\n",
      "printing out current edge:\n",
      "[[732244.83043478 551240.11304348 845546.9826087 ]\n",
      " [731976.97883867 553687.40467689 846535.56537164]]\n",
      "edge_endpoints_to_process was empty so exiting loop after 161 iterations\n",
      "starting_node in concept map (that should match the starting edge) = 159\n",
      "Total time for branches to concept conversion = 1.3278107643127441\n",
      "\n",
      "Done generating concept network \n",
      "\n",
      "\n",
      "\n",
      "\n",
      "---- Step 3: Applying Excitatory Filters Post-processing -----\n",
      "\n",
      "--- Working on filter 0:\n",
      "function = axon_on_dendrite_merges\n",
      "function __name__ = filter_away_axon_on_dendrite_merges\n",
      "function arguments = {'use_pre_existing_axon_labels': True}\n",
      "\n",
      "\n",
      "\n",
      "\n",
      "Branches Requested to Remove (WITH disconnect effect)\n",
      "\n",
      " Working on visualization type: mesh\n"
     ]
    },
    {
     "data": {
      "application/vnd.jupyter.widget-view+json": {
       "model_id": "ff1ec5ba0248408888a16d89e5ded97b",
       "version_major": 2,
       "version_minor": 0
      },
      "text/plain": [
       "VBox(children=(Figure(camera=PerspectiveCamera(fov=46.0, position=(0.0, 0.0, 2.0), projectionMatrix=(1.0, 0.0,…"
      ]
     },
     "metadata": {},
     "output_type": "display_data"
    },
    {
     "name": "stdout",
     "output_type": "stream",
     "text": [
      "\n",
      "--- Working on filter 1:\n",
      "function = crossovers\n",
      "function __name__ = filter_away_crossovers\n",
      "function arguments = {'axon_dependent': True, 'match_threshold': 50, 'require_two_pairs': False}\n",
      "\n",
      "\n",
      "\n",
      "\n",
      "Branches Requested to Remove (WITH disconnect effect)\n",
      "\n",
      " Working on visualization type: mesh\n"
     ]
    },
    {
     "data": {
      "application/vnd.jupyter.widget-view+json": {
       "model_id": "8806d6eedd8e4c8291cfe31c5f968bef",
       "version_major": 2,
       "version_minor": 0
      },
      "text/plain": [
       "VBox(children=(Figure(camera=PerspectiveCamera(fov=46.0, position=(0.0, 0.0, 2.0), projectionMatrix=(1.0, 0.0,…"
      ]
     },
     "metadata": {},
     "output_type": "display_data"
    },
    {
     "name": "stdout",
     "output_type": "stream",
     "text": [
      "\n",
      "--- Working on filter 2:\n",
      "function = low_branch_clusters\n",
      "function __name__ = filter_away_low_branch_length_clusters\n",
      "function arguments = {}\n",
      "\n",
      "\n",
      "\n",
      "--- Working on filter 3:\n",
      "function = double_back_and_width_change\n",
      "function __name__ = filter_away_large_double_back_or_width_changes\n",
      "function arguments = {'perform_double_back_errors': True, 'skip_double_back_errors_for_axon': False, 'width_jump_threshold': 250, 'running_width_jump_method': True, 'double_back_axon_like_threshold': 145, 'double_back_threshold': 120}\n",
      "\n",
      "\n",
      "\n",
      "--- Working on filter 4:\n",
      "function = high_degree_coordinates\n",
      "function __name__ = filter_away_high_degree_coordinates\n",
      "function arguments = {'axon_dependent': True, 'min_degree_to_find': 4}\n",
      "\n",
      "\n",
      "min_degree_to_find = 4\n",
      "min_degree_to_find = 4\n",
      "min_degree_to_find = 4\n",
      "min_degree_to_find = 4\n",
      "min_degree_to_find = 4\n",
      "min_degree_to_find = 4\n",
      "\n",
      "\n",
      "\n",
      " ---- Total time for applying filter: 45.92944884300232 -----\n"
     ]
    }
   ],
   "source": [
    "import proofreading_utils as pru\n",
    "o_neuron,filter_dict = pru.proofread_neuron_class_predetermined(neuron_obj,\n",
    "    perform_axon_classification=False,\n",
    "    inh_exc_class=\"excitatory\",\n",
    "    plot_limb_branch_filter_with_disconnect_effect = True,\n",
    "\n",
    "    high_fidelity_axon_on_excitatory = True,\n",
    "    plot_final_filtered_neuron = False,\n",
    "\n",
    "    #arguments for the axon high fidelity:\n",
    "    plot_new_axon_limb_correspondence = True,\n",
    "    plot_new_limb_object = False,\n",
    "    plot_final_revised_axon_branch = False,\n",
    "\n",
    "    verbose = False,\n",
    "    verbose_outline = True)"
   ]
  },
  {
   "cell_type": "markdown",
   "metadata": {},
   "source": [
    "# Getting the high fidelity axon"
   ]
  },
  {
   "cell_type": "code",
   "execution_count": 13,
   "metadata": {},
   "outputs": [
    {
     "name": "stdout",
     "output_type": "stream",
     "text": [
      "Starting axon branch was not the limb starting node so generating border vertices and computing upstream branch\n",
      "upstream_node_to_axon_starting_branch = 6\n"
     ]
    },
    {
     "name": "stderr",
     "output_type": "stream",
     "text": [
      "\r",
      "  0%|          | 0/1 [00:00<?, ?it/s]"
     ]
    },
    {
     "name": "stdout",
     "output_type": "stream",
     "text": [
      "root_curr = [732813.8 554183.9 846115.7]\n",
      "Time for preparing soma vertices and root: 0.0006000995635986328\n",
      "invalidation_d = 2000\n",
      "cc_vertex_thresh = 10\n"
     ]
    },
    {
     "data": {
      "application/vnd.jupyter.widget-view+json": {
       "model_id": "4f1142e297234bca850de17d9cde2cb8",
       "version_major": 2,
       "version_minor": 0
      },
      "text/plain": [
       "  0%|          | 0/86926 [00:00<?, ?it/s]"
      ]
     },
     "metadata": {},
     "output_type": "display_data"
    },
    {
     "name": "stderr",
     "output_type": "stream",
     "text": [
      "100%|██████████| 1/1 [00:03<00:00,  3.67s/it]\n"
     ]
    },
    {
     "name": "stdout",
     "output_type": "stream",
     "text": [
      "meshparty_segment_size = 100\n",
      "Time for 1st pass MP skeletonization: 4.886898756027222\n",
      "connecting at the root\n",
      "branches_touching_root = [187]\n",
      "combining close nodes\n",
      "combine_threshold = 1300\n",
      "length of Graph = 25521\n",
      "After combining close endpoints max(kept_branches_idx) = 187, len(kept_branches_idx) = 175\n",
      "empty_indices % = 0.0\n",
      " conflict_indices % = 0.01801827824057492\n"
     ]
    },
    {
     "data": {
      "application/vnd.jupyter.widget-view+json": {
       "model_id": "b66519b6b9dd42579372247fa9d57bca",
       "version_major": 2,
       "version_minor": 0
      },
      "text/plain": [
       "  0%|          | 0/80 [00:00<?, ?it/s]"
      ]
     },
     "metadata": {},
     "output_type": "display_data"
    },
    {
     "name": "stdout",
     "output_type": "stream",
     "text": [
      "AFTER face_lookup_resolved_test\n"
     ]
    },
    {
     "data": {
      "application/vnd.jupyter.widget-view+json": {
       "model_id": "fb181aa4f7bc41bba2eee84811a96780",
       "version_major": 2,
       "version_minor": 0
      },
      "text/plain": [
       "  0%|          | 0/175 [00:00<?, ?it/s]"
      ]
     },
     "metadata": {},
     "output_type": "display_data"
    },
    {
     "name": "stdout",
     "output_type": "stream",
     "text": [
      "Decomposing first pass: 15.601763248443604\n",
      "Only Using MeshParty Skeletonization and Mesh Correspondence\n",
      "Another print\n",
      "Divinding into MP and MAP pieces: 0.0002655982971191406\n",
      "Total time for MAP sublimb processing 4.76837158203125e-06\n",
      "---- Working on MP Decomposition #0 ----\n",
      "Using Quicker soma_to_piece_touching_vertices because no MAP and only one sublimb_mesh piece \n",
      "MP filtering soma verts: 0.0008778572082519531\n",
      "Fixing Possible Soma Extension Branch for Sublimb 0\n",
      "Total time for mesh KDTree = 0.1308748722076416\n",
      "sbv[0].reshape(-1,3) = [[732813.8 554183.9 846115.7]]\n",
      "closest_sk_pt_coord BEFORE = [732246.27079652 554176.92183191 846349.33379708]\n",
      "current_skeleton.shape = (580, 2, 3)\n",
      "node_for_stitch = 2: [732246.27079652 554176.92183191 846349.33379708]\n",
      "node_for_stitch AFTER = 2: [732246.27079652 554176.92183191 846349.33379708]\n",
      "possible_node_loc = [  0 580]\n",
      "possible_node_loc AFTER = [  0 580]\n",
      "curr_shortest_path = [2, 1.0, 0.0]\n",
      "Current stitch point was not a branch or endpoint, shortest_path_length to one = 199.99873995184475\n",
      "Changing the stitch point becasue the distance to end or branch node was 199.99873995184475\n",
      "New stitch point has degree 1\n",
      "change_status for create soma extending pieces = True\n",
      "closest_sk_pt_coord AFTER = [732215.90924915 553986.94840567 846403.98039015]\n",
      "skipping soma 0 because closest skeleton node was already end node\n",
      "endpoints_must_keep = {0: array([[732215.90924915, 553986.94840567, 846403.98039015]])}\n",
      "match_sk_branches = [174]\n",
      "The new branch info was none so skipping \n",
      "\n",
      "No soma extending branch was added for this sublimb even though it had a soma border (means they already existed)\n",
      "MP (because soma touching verts) soma extension add: 4.477411270141602\n",
      "There were not both MAP and MP pieces so skipping the stitch resolving phase\n",
      "Time for decomp of Limb = 25.69355082511902\n",
      "Number of matching vertices = 25\n",
      "Only one endpoint after filtering away the endpoints that are not on the skeleton\n",
      "Using Distance measure skeletal_distance\n",
      "endpoints_must_keep = [[732215.90924915 553986.94840567 846403.98039015]]\n",
      "Number of end_nodes BEFORE filtering = 96\n",
      "all_single_nodes_to_eliminate = [6]\n"
     ]
    },
    {
     "data": {
      "application/vnd.jupyter.widget-view+json": {
       "model_id": "d8b456303e9b457b91215ffa3aa15dda",
       "version_major": 2,
       "version_minor": 0
      },
      "text/plain": [
       "  0%|          | 0/9 [00:00<?, ?it/s]"
      ]
     },
     "metadata": {},
     "output_type": "display_data"
    },
    {
     "name": "stdout",
     "output_type": "stream",
     "text": [
      "Removed 9 skeletal branches\n"
     ]
    },
    {
     "data": {
      "application/vnd.jupyter.widget-view+json": {
       "model_id": "5f112b1a61d14756b6845a2e6a834001",
       "version_major": 2,
       "version_minor": 0
      },
      "text/plain": [
       "  0%|          | 0/175 [00:00<?, ?it/s]"
      ]
     },
     "metadata": {},
     "output_type": "display_data"
    },
    {
     "name": "stdout",
     "output_type": "stream",
     "text": [
      "173377 173378\n",
      "For marked faces: None\n",
      "empty_indices % = 0.0009516778368651156\n",
      " conflict_indices % = 0.0\n"
     ]
    },
    {
     "data": {
      "application/vnd.jupyter.widget-view+json": {
       "model_id": "c08a7cb0e7a1413781ca63237bbab8d8",
       "version_major": 2,
       "version_minor": 0
      },
      "text/plain": [
       "  0%|          | 0/2 [00:00<?, ?it/s]"
      ]
     },
     "metadata": {},
     "output_type": "display_data"
    },
    {
     "name": "stdout",
     "output_type": "stream",
     "text": [
      "AFTER face_lookup_resolved_test\n"
     ]
    },
    {
     "data": {
      "application/vnd.jupyter.widget-view+json": {
       "model_id": "1485331e90614751b4688344f282608e",
       "version_major": 2,
       "version_minor": 0
      },
      "text/plain": [
       "  0%|          | 0/159 [00:00<?, ?it/s]"
      ]
     },
     "metadata": {},
     "output_type": "display_data"
    },
    {
     "name": "stdout",
     "output_type": "stream",
     "text": [
      "Limb Correspondence before stitching = 159\n",
      "Limb Correspondence AFTER stitching = 159\n",
      "Readjusting starting axon branch skeleton\n",
      "Fixing the axon starting branch endpoint to align with upstream branch\n",
      "Starting Branch 12 skeleton before fix: (580, 2, 3)\n",
      "Starting Branch 12 skeleton AFTER fix: (581, 2, 3)\n",
      "axon_limb_name= L1\n",
      "Limb starting node = 6\n",
      "Axon starting node = 5\n",
      "axon_branches = [ 1  2  3  4  5  7  8  9 10 11 12 13 14 15 16 17 18 19 20 21 22 23 24 25\n",
      " 26 27 28 29 30 31 32 33 34 35 36 37 38 39 40 41 42 43 44 45 46 47 48 49\n",
      " 50 51 52 53 54 55 56 57 58 59 60 61 62 63 64 65 66 67 68 69]\n",
      "Using Original Starting Info\n",
      "Leftover Nodes After Axon Deletion = [6, 0]\n",
      "New Node names = [159 160]\n",
      "Leftover Nodes Mapping = {6: 159, 0: 160}\n",
      "concept_network_dict = {0: [<networkx_utils.GraphOrderedEdges object at 0x7f52b0e642b0>]}\n",
      "Working on limb L1 branch 12\n",
      "Working on limb L1 branch 23\n",
      "Working on limb L1 branch 24\n",
      "Working on limb L1 branch 25\n",
      "Working on limb L1 branch 26\n",
      "Working on limb L1 branch 22\n",
      "Working on limb L1 branch 28\n",
      "Working on limb L1 branch 18\n",
      "Working on limb L1 branch 29\n",
      "Working on limb L1 branch 31\n",
      "Working on limb L1 branch 32\n",
      "Working on limb L1 branch 30\n",
      "Working on limb L1 branch 34\n",
      "Working on limb L1 branch 49\n",
      "Working on limb L1 branch 50\n",
      "Working on limb L1 branch 38\n",
      "Working on limb L1 branch 39\n",
      "Working on limb L1 branch 43\n",
      "Working on limb L1 branch 44\n",
      "Working on limb L1 branch 27\n",
      "Working on limb L1 branch 61\n",
      "Working on limb L1 branch 62\n",
      "Working on limb L1 branch 64\n",
      "Working on limb L1 branch 17\n",
      "Working on limb L1 branch 63\n",
      "Working on limb L1 branch 40\n",
      "Working on limb L1 branch 51\n",
      "Working on limb L1 branch 14\n",
      "Working on limb L1 branch 15\n",
      "Working on limb L1 branch 67\n",
      "Working on limb L1 branch 68\n",
      "Working on limb L1 branch 8\n",
      "Working on limb L1 branch 41\n",
      "Working on limb L1 branch 46\n",
      "Working on limb L1 branch 57\n",
      "Working on limb L1 branch 13\n",
      "Working on limb L1 branch 16\n",
      "Working on limb L1 branch 19\n",
      "Working on limb L1 branch 10\n",
      "Working on limb L1 branch 20\n",
      "Working on limb L1 branch 21\n",
      "Working on limb L1 branch 36\n",
      "Working on limb L1 branch 42\n",
      "Working on limb L1 branch 45\n",
      "Working on limb L1 branch 47\n",
      "Working on limb L1 branch 48\n",
      "Working on limb L1 branch 9\n",
      "Working on limb L1 branch 11\n",
      "Working on limb L1 branch 33\n",
      "Working on limb L1 branch 37\n",
      "Working on limb L1 branch 55\n",
      "Working on limb L1 branch 60\n",
      "Working on limb L1 branch 66\n",
      "Working on limb L1 branch 69\n",
      "Working on limb L1 branch 6\n",
      "Assigning the old width calculation because no valid new widths\n",
      "Working on limb L1 branch 7\n",
      "Working on limb L1 branch 52\n",
      "Working on limb L1 branch 56\n",
      "Working on limb L1 branch 70\n",
      "Working on limb L1 branch 71\n",
      "Working on limb L1 branch 72\n",
      "Working on limb L1 branch 4\n",
      "Working on limb L1 branch 5\n",
      "Working on limb L1 branch 35\n",
      "Working on limb L1 branch 53\n",
      "Working on limb L1 branch 73\n",
      "Working on limb L1 branch 74\n",
      "Working on limb L1 branch 89\n",
      "Working on limb L1 branch 96\n",
      "Working on limb L1 branch 1\n",
      "Working on limb L1 branch 3\n",
      "Working on limb L1 branch 58\n",
      "Working on limb L1 branch 65\n",
      "Working on limb L1 branch 116\n",
      "Working on limb L1 branch 120\n",
      "Working on limb L1 branch 135\n",
      "Working on limb L1 branch 137\n",
      "Working on limb L1 branch 0\n",
      "Working on limb L1 branch 2\n",
      "Working on limb L1 branch 54\n",
      "Working on limb L1 branch 59\n",
      "Working on limb L1 branch 133\n",
      "Working on limb L1 branch 134\n",
      "Working on limb L1 branch 138\n",
      "Working on limb L1 branch 139\n",
      "Working on limb L1 branch 114\n",
      "Working on limb L1 branch 132\n",
      "Working on limb L1 branch 146\n",
      "Working on limb L1 branch 148\n",
      "Working on limb L1 branch 140\n",
      "Working on limb L1 branch 142\n",
      "Working on limb L1 branch 97\n",
      "Working on limb L1 branch 113\n",
      "Working on limb L1 branch 127\n",
      "Working on limb L1 branch 131\n",
      "Working on limb L1 branch 145\n",
      "Working on limb L1 branch 147\n",
      "Working on limb L1 branch 136\n",
      "Working on limb L1 branch 141\n",
      "Working on limb L1 branch 143\n",
      "Working on limb L1 branch 144\n",
      "Working on limb L1 branch 87\n",
      "Working on limb L1 branch 95\n",
      "Working on limb L1 branch 111\n",
      "Working on limb L1 branch 115\n",
      "Working on limb L1 branch 123\n",
      "Working on limb L1 branch 130\n",
      "Working on limb L1 branch 150\n",
      "Working on limb L1 branch 151\n",
      "Working on limb L1 branch 75\n",
      "Working on limb L1 branch 85\n",
      "Working on limb L1 branch 118\n",
      "Working on limb L1 branch 121\n",
      "Working on limb L1 branch 122\n",
      "Working on limb L1 branch 126\n",
      "Working on limb L1 branch 128\n",
      "Working on limb L1 branch 129\n",
      "Working on limb L1 branch 149\n",
      "Working on limb L1 branch 153\n",
      "Working on limb L1 branch 78\n",
      "Working on limb L1 branch 81\n",
      "Working on limb L1 branch 86\n",
      "Working on limb L1 branch 124\n",
      "Working on limb L1 branch 125\n",
      "Working on limb L1 branch 117\n",
      "Working on limb L1 branch 119\n",
      "Working on limb L1 branch 154\n",
      "Working on limb L1 branch 155\n",
      "Working on limb L1 branch 157\n",
      "Working on limb L1 branch 158\n",
      "Working on limb L1 branch 76\n",
      "Working on limb L1 branch 82\n",
      "Working on limb L1 branch 84\n",
      "Working on limb L1 branch 92\n",
      "Working on limb L1 branch 93\n",
      "Working on limb L1 branch 94\n",
      "Working on limb L1 branch 101\n",
      "Working on limb L1 branch 112\n",
      "Working on limb L1 branch 152\n",
      "Working on limb L1 branch 156\n",
      "Working on limb L1 branch 77\n",
      "Working on limb L1 branch 79\n",
      "Working on limb L1 branch 83\n",
      "Working on limb L1 branch 80\n",
      "Working on limb L1 branch 91\n",
      "Working on limb L1 branch 90\n",
      "Working on limb L1 branch 98\n",
      "Working on limb L1 branch 103\n",
      "Working on limb L1 branch 105\n",
      "Working on limb L1 branch 106\n",
      "Working on limb L1 branch 99\n",
      "Working on limb L1 branch 104\n",
      "Working on limb L1 branch 102\n",
      "Working on limb L1 branch 107\n",
      "Working on limb L1 branch 108\n",
      "Working on limb L1 branch 88\n",
      "Working on limb L1 branch 100\n",
      "Working on limb L1 branch 109\n",
      "Working on limb L1 branch 110\n",
      "Working on limb L1 branch 12\n",
      "No spines and using precomputed width\n",
      "Working on limb L1 branch 23\n",
      "No spines and using precomputed width\n",
      "Working on limb L1 branch 24\n",
      "No spines and using precomputed width\n",
      "Working on limb L1 branch 25\n",
      "No spines and using precomputed width\n",
      "Working on limb L1 branch 26\n",
      "No spines and using precomputed width\n",
      "Working on limb L1 branch 22\n",
      "No spines and using precomputed width\n",
      "Working on limb L1 branch 28\n",
      "No spines and using precomputed width\n",
      "Working on limb L1 branch 18\n",
      "No spines and using precomputed width\n",
      "Working on limb L1 branch 29\n",
      "No spines and using precomputed width\n",
      "Working on limb L1 branch 31\n",
      "No spines and using precomputed width\n",
      "Working on limb L1 branch 32\n",
      "No spines and using precomputed width\n",
      "Working on limb L1 branch 30\n",
      "No spines and using precomputed width\n",
      "Working on limb L1 branch 34\n",
      "No spines and using precomputed width\n",
      "Working on limb L1 branch 49\n",
      "No spines and using precomputed width\n",
      "Working on limb L1 branch 50\n",
      "No spines and using precomputed width\n",
      "Working on limb L1 branch 38\n",
      "No spines and using precomputed width\n",
      "Working on limb L1 branch 39\n",
      "No spines and using precomputed width\n",
      "Working on limb L1 branch 43\n",
      "No spines and using precomputed width\n",
      "Working on limb L1 branch 44\n",
      "No spines and using precomputed width\n",
      "Working on limb L1 branch 27\n",
      "No spines and using precomputed width\n",
      "Working on limb L1 branch 61\n",
      "No spines and using precomputed width\n",
      "Working on limb L1 branch 62\n",
      "No spines and using precomputed width\n",
      "Working on limb L1 branch 64\n",
      "No spines and using precomputed width\n",
      "Working on limb L1 branch 17\n",
      "No spines and using precomputed width\n",
      "Working on limb L1 branch 63\n",
      "No spines and using precomputed width\n",
      "Working on limb L1 branch 40\n",
      "No spines and using precomputed width\n",
      "Working on limb L1 branch 51\n",
      "No spines and using precomputed width\n",
      "Working on limb L1 branch 14\n",
      "No spines and using precomputed width\n",
      "Working on limb L1 branch 15\n",
      "No spines and using precomputed width\n",
      "Working on limb L1 branch 67\n",
      "No spines and using precomputed width\n",
      "Working on limb L1 branch 68\n",
      "No spines and using precomputed width\n",
      "Working on limb L1 branch 8\n",
      "No spines and using precomputed width\n",
      "Working on limb L1 branch 41\n",
      "No spines and using precomputed width\n",
      "Working on limb L1 branch 46\n",
      "No spines and using precomputed width\n",
      "Working on limb L1 branch 57\n",
      "No spines and using precomputed width\n",
      "Working on limb L1 branch 13\n",
      "No spines and using precomputed width\n",
      "Working on limb L1 branch 16\n",
      "No spines and using precomputed width\n",
      "Working on limb L1 branch 19\n",
      "No spines and using precomputed width\n",
      "Working on limb L1 branch 10\n",
      "No spines and using precomputed width\n",
      "Working on limb L1 branch 20\n",
      "No spines and using precomputed width\n",
      "Working on limb L1 branch 21\n",
      "No spines and using precomputed width\n",
      "Working on limb L1 branch 36\n",
      "No spines and using precomputed width\n",
      "Working on limb L1 branch 42\n",
      "No spines and using precomputed width\n",
      "Working on limb L1 branch 45\n",
      "No spines and using precomputed width\n",
      "Working on limb L1 branch 47\n",
      "No spines and using precomputed width\n",
      "Working on limb L1 branch 48\n",
      "No spines and using precomputed width\n",
      "Working on limb L1 branch 9\n",
      "No spines and using precomputed width\n",
      "Working on limb L1 branch 11\n",
      "No spines and using precomputed width\n",
      "Working on limb L1 branch 33\n",
      "No spines and using precomputed width\n",
      "Working on limb L1 branch 37\n",
      "No spines and using precomputed width\n",
      "Working on limb L1 branch 55\n",
      "No spines and using precomputed width\n",
      "Working on limb L1 branch 60\n",
      "No spines and using precomputed width\n",
      "Working on limb L1 branch 66\n",
      "No spines and using precomputed width\n",
      "Working on limb L1 branch 69\n",
      "No spines and using precomputed width\n",
      "Working on limb L1 branch 6\n",
      "No spines and using precomputed width\n",
      "Working on limb L1 branch 7\n",
      "No spines and using precomputed width\n",
      "Working on limb L1 branch 52\n",
      "No spines and using precomputed width\n",
      "Working on limb L1 branch 56\n",
      "No spines and using precomputed width\n",
      "Working on limb L1 branch 70\n",
      "No spines and using precomputed width\n",
      "Working on limb L1 branch 71\n",
      "No spines and using precomputed width\n",
      "Working on limb L1 branch 72\n",
      "No spines and using precomputed width\n",
      "Working on limb L1 branch 4\n",
      "No spines and using precomputed width\n",
      "Working on limb L1 branch 5\n",
      "No spines and using precomputed width\n",
      "Working on limb L1 branch 35\n",
      "No spines and using precomputed width\n",
      "Working on limb L1 branch 53\n",
      "No spines and using precomputed width\n",
      "Working on limb L1 branch 73\n",
      "No spines and using precomputed width\n",
      "Working on limb L1 branch 74\n",
      "No spines and using precomputed width\n",
      "Working on limb L1 branch 89\n",
      "No spines and using precomputed width\n",
      "Working on limb L1 branch 96\n",
      "No spines and using precomputed width\n",
      "Working on limb L1 branch 1\n",
      "No spines and using precomputed width\n",
      "Working on limb L1 branch 3\n",
      "No spines and using precomputed width\n",
      "Working on limb L1 branch 58\n",
      "No spines and using precomputed width\n",
      "Working on limb L1 branch 65\n",
      "No spines and using precomputed width\n",
      "Working on limb L1 branch 116\n",
      "No spines and using precomputed width\n",
      "Working on limb L1 branch 120\n",
      "No spines and using precomputed width\n",
      "Working on limb L1 branch 135\n",
      "No spines and using precomputed width\n",
      "Working on limb L1 branch 137\n",
      "No spines and using precomputed width\n",
      "Working on limb L1 branch 0\n",
      "No spines and using precomputed width\n",
      "Working on limb L1 branch 2\n",
      "No spines and using precomputed width\n",
      "Working on limb L1 branch 54\n",
      "No spines and using precomputed width\n",
      "Working on limb L1 branch 59\n",
      "No spines and using precomputed width\n",
      "Working on limb L1 branch 133\n",
      "No spines and using precomputed width\n",
      "Working on limb L1 branch 134\n",
      "No spines and using precomputed width\n",
      "Working on limb L1 branch 138\n",
      "No spines and using precomputed width\n",
      "Working on limb L1 branch 139\n",
      "No spines and using precomputed width\n",
      "Working on limb L1 branch 114\n",
      "No spines and using precomputed width\n",
      "Working on limb L1 branch 132\n",
      "No spines and using precomputed width\n",
      "Working on limb L1 branch 146\n",
      "No spines and using precomputed width\n",
      "Working on limb L1 branch 148\n",
      "No spines and using precomputed width\n",
      "Working on limb L1 branch 140\n",
      "No spines and using precomputed width\n",
      "Working on limb L1 branch 142\n",
      "No spines and using precomputed width\n",
      "Working on limb L1 branch 97\n",
      "No spines and using precomputed width\n",
      "Working on limb L1 branch 113\n",
      "No spines and using precomputed width\n",
      "Working on limb L1 branch 127\n",
      "No spines and using precomputed width\n",
      "Working on limb L1 branch 131\n",
      "No spines and using precomputed width\n",
      "Working on limb L1 branch 145\n",
      "No spines and using precomputed width\n",
      "Working on limb L1 branch 147\n",
      "No spines and using precomputed width\n",
      "Working on limb L1 branch 136\n",
      "No spines and using precomputed width\n",
      "Working on limb L1 branch 141\n",
      "No spines and using precomputed width\n",
      "Working on limb L1 branch 143\n",
      "No spines and using precomputed width\n",
      "Working on limb L1 branch 144\n",
      "No spines and using precomputed width\n",
      "Working on limb L1 branch 87\n",
      "No spines and using precomputed width\n",
      "Working on limb L1 branch 95\n",
      "No spines and using precomputed width\n",
      "Working on limb L1 branch 111\n",
      "No spines and using precomputed width\n",
      "Working on limb L1 branch 115\n",
      "No spines and using precomputed width\n",
      "Working on limb L1 branch 123\n",
      "No spines and using precomputed width\n",
      "Working on limb L1 branch 130\n",
      "No spines and using precomputed width\n",
      "Working on limb L1 branch 150\n",
      "No spines and using precomputed width\n",
      "Working on limb L1 branch 151\n",
      "No spines and using precomputed width\n",
      "Working on limb L1 branch 75\n",
      "No spines and using precomputed width\n",
      "Working on limb L1 branch 85\n",
      "No spines and using precomputed width\n",
      "Working on limb L1 branch 118\n",
      "No spines and using precomputed width\n",
      "Working on limb L1 branch 121\n",
      "No spines and using precomputed width\n",
      "Working on limb L1 branch 122\n",
      "No spines and using precomputed width\n",
      "Working on limb L1 branch 126\n",
      "No spines and using precomputed width\n",
      "Working on limb L1 branch 128\n",
      "No spines and using precomputed width\n",
      "Working on limb L1 branch 129\n",
      "No spines and using precomputed width\n",
      "Working on limb L1 branch 149\n",
      "No spines and using precomputed width\n",
      "Working on limb L1 branch 153\n",
      "No spines and using precomputed width\n",
      "Working on limb L1 branch 78\n",
      "No spines and using precomputed width\n",
      "Working on limb L1 branch 81\n",
      "No spines and using precomputed width\n",
      "Working on limb L1 branch 86\n",
      "No spines and using precomputed width\n",
      "Working on limb L1 branch 124\n",
      "No spines and using precomputed width\n",
      "Working on limb L1 branch 125\n",
      "No spines and using precomputed width\n",
      "Working on limb L1 branch 117\n",
      "No spines and using precomputed width\n",
      "Working on limb L1 branch 119\n",
      "No spines and using precomputed width\n",
      "Working on limb L1 branch 154\n",
      "No spines and using precomputed width\n",
      "Working on limb L1 branch 155\n",
      "No spines and using precomputed width\n",
      "Working on limb L1 branch 157\n",
      "No spines and using precomputed width\n",
      "Working on limb L1 branch 158\n",
      "No spines and using precomputed width\n",
      "Working on limb L1 branch 76\n",
      "No spines and using precomputed width\n",
      "Working on limb L1 branch 82\n",
      "No spines and using precomputed width\n",
      "Working on limb L1 branch 84\n",
      "No spines and using precomputed width\n",
      "Working on limb L1 branch 92\n",
      "No spines and using precomputed width\n",
      "Working on limb L1 branch 93\n",
      "No spines and using precomputed width\n",
      "Working on limb L1 branch 94\n",
      "No spines and using precomputed width\n",
      "Working on limb L1 branch 101\n",
      "No spines and using precomputed width\n",
      "Working on limb L1 branch 112\n",
      "No spines and using precomputed width\n",
      "Working on limb L1 branch 152\n",
      "No spines and using precomputed width\n",
      "Working on limb L1 branch 156\n",
      "No spines and using precomputed width\n",
      "Working on limb L1 branch 77\n",
      "No spines and using precomputed width\n",
      "Working on limb L1 branch 79\n",
      "No spines and using precomputed width\n",
      "Working on limb L1 branch 83\n",
      "No spines and using precomputed width\n",
      "Working on limb L1 branch 80\n",
      "No spines and using precomputed width\n",
      "Working on limb L1 branch 91\n",
      "No spines and using precomputed width\n",
      "Working on limb L1 branch 90\n",
      "No spines and using precomputed width\n",
      "Working on limb L1 branch 98\n",
      "No spines and using precomputed width\n",
      "Working on limb L1 branch 103\n",
      "No spines and using precomputed width\n",
      "Working on limb L1 branch 105\n",
      "No spines and using precomputed width\n",
      "Working on limb L1 branch 106\n",
      "No spines and using precomputed width\n",
      "Working on limb L1 branch 99\n",
      "No spines and using precomputed width\n",
      "Working on limb L1 branch 104\n",
      "No spines and using precomputed width\n",
      "Working on limb L1 branch 102\n",
      "No spines and using precomputed width\n",
      "Working on limb L1 branch 107\n",
      "No spines and using precomputed width\n",
      "Working on limb L1 branch 108\n",
      "No spines and using precomputed width\n",
      "Working on limb L1 branch 88\n",
      "No spines and using precomputed width\n",
      "Working on limb L1 branch 100\n",
      "No spines and using precomputed width\n",
      "Working on limb L1 branch 109\n",
      "No spines and using precomputed width\n",
      "Working on limb L1 branch 110\n",
      "No spines and using precomputed width\n",
      "\n",
      "\n",
      "----Working on seperate_graph 0----\n"
     ]
    },
    {
     "name": "stdout",
     "output_type": "stream",
     "text": [
      "\n",
      "\n",
      "---------Working on soma_idx = 0, soma_group_idx 0, endpt = [732244.83043478 551240.11304348 845546.9826087 ]---------\n",
      "Starting_edge inside branches_to_conept = [[731976.97883867 553687.40467689 846535.56537164]\n",
      " [732244.83043478 551240.11304348 845546.9826087 ]]\n",
      "At the start, starting_node (in terms of the skeleton, that shouldn't match the starting edge) = [13]\n",
      "printing out current edge:\n",
      "[[732244.83043478 551240.11304348 845546.9826087 ]\n",
      " [731976.97883867 553687.40467689 846535.56537164]]\n",
      "edge_endpoints_to_process was empty so exiting loop after 161 iterations\n",
      "starting_node in concept map (that should match the starting edge) = 159\n",
      "Total time for branches to concept conversion = 1.2979190349578857\n",
      "\n",
      "Done generating concept network \n",
      "\n",
      "\n"
     ]
    }
   ],
   "source": [
    "plot_new_axon_limb_correspondence = False\n",
    "plot_new_limb_object = False\n",
    "plot_final_revised_axon_branch = False\n",
    "verbose = True\n",
    "\n",
    "neuron_obj_high_fidelity_axon = pru.refine_axon_for_high_fidelity_skeleton(neuron_obj=neuron_obj,\n",
    "                            plot_new_axon_limb_correspondence = plot_new_axon_limb_correspondence,\n",
    "                            plot_new_limb_object = plot_new_limb_object,\n",
    "                            plot_final_revised_axon_branch=plot_final_revised_axon_branch,\n",
    "                             verbose = verbose,)"
   ]
  },
  {
   "cell_type": "code",
   "execution_count": 14,
   "metadata": {},
   "outputs": [
    {
     "name": "stdout",
     "output_type": "stream",
     "text": [
      "\n",
      " Working on visualization type: mesh\n",
      "\n",
      " Working on visualization type: skeleton\n"
     ]
    },
    {
     "data": {
      "application/vnd.jupyter.widget-view+json": {
       "model_id": "ab167fcf3856482d92cbd6ce0c0b1b78",
       "version_major": 2,
       "version_minor": 0
      },
      "text/plain": [
       "VBox(children=(Figure(camera=PerspectiveCamera(fov=46.0, position=(0.0, 0.0, 2.0), projectionMatrix=(1.0, 0.0,…"
      ]
     },
     "metadata": {},
     "output_type": "display_data"
    }
   ],
   "source": [
    "nviz.visualize_neuron(neuron_obj_high_fidelity_axon,\n",
    "                      limb_branch_dict=\"all\")\n",
    "                      "
   ]
  },
  {
   "cell_type": "code",
   "execution_count": 17,
   "metadata": {},
   "outputs": [
    {
     "data": {
      "text/plain": [
       "{'L5': array([1, 2, 3, 5])}"
      ]
     },
     "execution_count": 17,
     "metadata": {},
     "output_type": "execute_result"
    }
   ],
   "source": [
    "import neuron_searching as ns\n",
    "axon_merge_error_limb_branch_dict = ns.query_neuron_by_labels(neuron_obj_high_fidelity_axon,\n",
    "                                                              matching_labels=[\"axon-error\"])\n",
    "axon_merge_error_limb_branch_dict"
   ]
  },
  {
   "cell_type": "markdown",
   "metadata": {},
   "source": [
    "# Practicing the Algorithm for Splitting "
   ]
  },
  {
   "cell_type": "code",
   "execution_count": null,
   "metadata": {},
   "outputs": [],
   "source": [
    "\"\"\"\n",
    "Purpose: To create groups that should be split using blue and red team\n",
    "and then find the split points\n",
    "\n",
    "\n",
    "Psuedocode: \n",
    "\n",
    "For each limb: \n",
    "0a) Get subgraph of error branches\n",
    "0b) Add any edges that were created that are\n",
    "between these error branches\n",
    "1) Find the connected components of error branches\n",
    "2) For each connected component we will build a red and a blue team\n",
    "\n",
    "a) find all upstream nodes of error branches THAT AREN'T ERRORS:\n",
    "-> include the error branches hat these upstream valid branches came from and the \n",
    "skeleton point that connectes them\n",
    "\n",
    "b) Find all valid downstream nodes from te upstream valid ones\n",
    "--. include te skeleton points that connect them\n",
    "\n",
    "c) Optional: Choose the downstream error branches of current boundary error branches\n",
    "\n",
    "At this point: Have the red and blue branches and the connecting points\n",
    "\n",
    "\n",
    "d) for each node in the group\n",
    "    For each endpoint that is included in a boundary\n",
    "        i) Attempt to restrict the skeleton by X distance from that endoint \n",
    "        (if two small then pick other endpoint)\n",
    "        ii) Find the closest traingle face to that point on that branch mesh and use that\n",
    "\n",
    "\"\"\"\n"
   ]
  },
  {
   "cell_type": "code",
   "execution_count": 146,
   "metadata": {},
   "outputs": [],
   "source": [
    "import networkx as nx\n",
    "import matplotlib.pyplot as plt\n",
    "import networkx_utils as xu\n",
    "\n",
    "verbose = True\n",
    "plot_error_graph_before_create_edges = True\n",
    "plot_error_branches = False\n",
    "created_edges = [[5,3]]\n",
    "plot_error_graph_after_create_edges = True\n",
    "\n",
    "plot_error_connected_components = True\n",
    "include_one_hop_downstream_error_branches = True\n",
    "\n",
    "offset_distance_for_points = 1000\n",
    "red_blue_points_method = \"closest_mesh_face\" #other options: \"skeleton\"\n",
    "plot_final_blue_red_points = True\n",
    "\n",
    "\n",
    "error_limb_branch_dict = axon_merge_error_limb_branch_dict\n",
    "n_obj = neuron_obj_high_fidelity_axon"
   ]
  },
  {
   "cell_type": "code",
   "execution_count": 21,
   "metadata": {},
   "outputs": [
    {
     "name": "stdout",
     "output_type": "stream",
     "text": [
      "-- Working on L5 --\n"
     ]
    }
   ],
   "source": [
    "limb_name = \"L5\"\n",
    "limb_idx = int(limb_name[1:])\n",
    "\n",
    "if verbose:\n",
    "    print(f\"-- Working on {limb_name} --\")"
   ]
  },
  {
   "cell_type": "code",
   "execution_count": 47,
   "metadata": {},
   "outputs": [
    {
     "name": "stdout",
     "output_type": "stream",
     "text": [
      "Error Branches = [1 2 3 5]\n",
      "plot_error_graph_before_create_edges\n"
     ]
    },
    {
     "data": {
      "image/png": "[encoded data removed]",
      "text/plain": [
       "<Figure size 432x288 with 1 Axes>"
      ]
     },
     "metadata": {},
     "output_type": "display_data"
    },
    {
     "name": "stdout",
     "output_type": "stream",
     "text": [
      "Adding error edge: [5, 3]\n",
      "plot_error_graph_after_create_edges\n"
     ]
    },
    {
     "data": {
      "image/png": "[encoded data removed]",
      "text/plain": [
       "<Figure size 432x288 with 1 Axes>"
      ]
     },
     "metadata": {},
     "output_type": "display_data"
    }
   ],
   "source": [
    "#0) Getting the subgraph\n",
    "error_branches = error_limb_branch_dict[limb_name]\n",
    "\n",
    "if len(error_branches) == 0:\n",
    "    raise Exception(f\"Error branches list empty in error_limb_branch_dict for {limb_name}\")\n",
    "\n",
    "if verbose:\n",
    "    print(f\"Error Branches = {error_branches}\")\n",
    "    \n",
    "curr_limb = n_obj[limb_name]\n",
    "error_subgraph = nx.Graph(curr_limb.concept_network.subgraph(error_branches))\n",
    "\n",
    "if plot_error_graph_before_create_edges:\n",
    "    print(f\"plot_error_graph_before_create_edges\")\n",
    "    nx.draw(error_subgraph,with_labels=True)\n",
    "    plt.show()\n",
    "    \n",
    "if plot_error_branches:\n",
    "    nviz.visualize_neuron_path(n_obj,\n",
    "                              limb_idx = limb_idx,\n",
    "                              path=error_branches)\n",
    "    \n",
    "for e in created_edges:\n",
    "    if e[0] in error_branches and e[1] in error_branches:\n",
    "        if verbose:\n",
    "            print(f\"Adding error edge: {e}\")\n",
    "        error_subgraph.add_edge(*e)\n",
    "        \n",
    "if plot_error_graph_after_create_edges:\n",
    "    print(f\"plot_error_graph_after_create_edges\")\n",
    "    nx.draw(error_subgraph,with_labels=True)\n",
    "    plt.show()"
   ]
  },
  {
   "cell_type": "code",
   "execution_count": 50,
   "metadata": {},
   "outputs": [
    {
     "data": {
      "text/plain": [
       "[[1, 2, 3, 5]]"
      ]
     },
     "execution_count": 50,
     "metadata": {},
     "output_type": "execute_result"
    }
   ],
   "source": [
    "#1) Find the connected components of error branches\n",
    "conn_comp_errors = [list(k) for k in nx.connected_components(error_subgraph)]\n",
    "conn_comp_errors"
   ]
  },
  {
   "cell_type": "code",
   "execution_count": null,
   "metadata": {},
   "outputs": [],
   "source": [
    "\"\"\"\n",
    "2) For each connected component we will build a red and a blue team\n",
    "\n",
    "a) find all upstream nodes of error branches THAT AREN'T ERRORS:\n",
    "-> include the error branches hat these upstream valid branches came from and the \n",
    "skeleton point that connectes them\n",
    "\n",
    "b) Find all valid downstream nodes from te upstream valid ones\n",
    "--. include te skeleton points that connect them\n",
    "\n",
    "c) Optional: Choose the downstream error branches of current boundary error branches\n",
    "\"\"\""
   ]
  },
  {
   "cell_type": "code",
   "execution_count": 76,
   "metadata": {},
   "outputs": [
    {
     "name": "stdout",
     "output_type": "stream",
     "text": [
      "Working on connected component: [1, 2, 3, 5]\n",
      "Branch 3 had a valid upstream node 0 with common endpoint [[814040. 609863. 849249.]]\n",
      "Branch 5 had a valid upstream node 0 with common endpoint [[814040. 609863. 849249.]]\n",
      "valid_upstream_branches = [0, 0]\n",
      "error_border_branches = [3, 5]\n",
      "error_border_coordinates = [array([[814040., 609863., 849249.]]), array([[814040., 609863., 849249.]])]\n",
      "\n",
      "Valid Branch 0 had a valid downstream node 4 with common endpoint [[814040. 609863. 849249.]]\n",
      "\n",
      "After Adding Downstream Valid Nodes\n",
      "error_border_branches = [3, 5, -1]\n",
      "valid_upstream_branches = [0, 0, 4]\n",
      "error_border_coordinates = [array([[814040., 609863., 849249.]]), array([[814040., 609863., 849249.]]), array([[814040., 609863., 849249.]])]\n",
      "\n",
      "Error Branch 3 had an error downstream node 1 with common endpoint [[812309.92954906 610680.94993109 848555.5219356 ]]\n",
      "Error Branch 3 had an error downstream node 2 with common endpoint [[812309.92954906 610680.94993109 848555.5219356 ]]\n",
      "\n",
      "After Adding Downstream Error Nodes\n",
      "error_border_branches = [3, 5, -1, 1, 2]\n",
      "valid_upstream_branches = [0, 0, 4, -1, -1]\n",
      "error_border_coordinates = [array([[814040., 609863., 849249.]]), array([[814040., 609863., 849249.]]), array([[814040., 609863., 849249.]]), array([[812309.92954906, 610680.94993109, 848555.5219356 ]]), array([[812309.92954906, 610680.94993109, 848555.5219356 ]])]\n",
      "\n"
     ]
    }
   ],
   "source": [
    "#a) find all upstream nodes of error branches THAT AREN'T ERRORS:\n",
    "\n",
    "conn_comp_idx = 0\n",
    "curr_conn_comp = conn_comp_errors[conn_comp_idx]\n",
    "\n",
    "if verbose:\n",
    "    print(f\"Working on connected component: {curr_conn_comp}\")\n",
    "\n",
    "valid_upstream_branches = []\n",
    "error_border_branches = []\n",
    "\n",
    "error_border_coordinates = []\n",
    "\n",
    "for b in curr_conn_comp:\n",
    "    curr_upstream_node = xu.upstream_node(curr_limb.concept_network_directional,b)\n",
    "    if curr_upstream_node not in curr_conn_comp:\n",
    "        \n",
    "        error_border_branches.append(b)\n",
    "        valid_upstream_branches.append(curr_upstream_node)\n",
    "        common_endpoint = np.array(sk.shared_endpoint(curr_limb[b].skeleton,\n",
    "                                                      curr_limb[curr_upstream_node].skeleton,\n",
    "                                                      return_possibly_two=True)).reshape(-1,3)\n",
    "        \n",
    "        error_border_coordinates.append(common_endpoint)\n",
    "        \n",
    "        if verbose:\n",
    "            print(f\"Branch {b} had a valid upstream node {curr_upstream_node} with common endpoint {common_endpoint}\")\n",
    "            \n",
    "if verbose:\n",
    "    print(f\"valid_upstream_branches = {valid_upstream_branches}\")\n",
    "    print(f\"error_border_branches = {error_border_branches}\")\n",
    "    print(f\"error_border_coordinates = {error_border_coordinates}\")\n",
    "    print(f\"\")\n",
    "            \n",
    "#b) Find all valid downstream nodes from te upstream valid ones\n",
    "#--> include te skeleton points that connect them\n",
    "valid_upstream_branches_unique = np.unique(valid_upstream_branches)\n",
    "\n",
    "valid_downstream_branches = []\n",
    "valid_border_coordinates = []\n",
    "\n",
    "for v in valid_upstream_branches_unique:\n",
    "    downstream_nodes = xu.downstream_nodes(curr_limb.concept_network_directional,v)\n",
    "    non_error_downstream = np.setdiff1d(downstream_nodes,curr_conn_comp)\n",
    "    \n",
    "    for d in non_error_downstream:\n",
    "        valid_upstream_branches.append(d)\n",
    "        error_border_branches.append(-1)\n",
    "        \n",
    "        common_endpoint = np.array(sk.shared_endpoint(curr_limb[v].skeleton,\n",
    "                                                      curr_limb[d].skeleton,\n",
    "                                                      return_possibly_two=True)).reshape(-1,3)\n",
    "\n",
    "        error_border_coordinates.append(common_endpoint)\n",
    "        \n",
    "        if verbose:\n",
    "            print(f\"Valid Branch {v} had a valid downstream node {d} with common endpoint {common_endpoint}\")\n",
    "\n",
    "if verbose:\n",
    "        print(f\"\\nAfter Adding Downstream Valid Nodes\")\n",
    "        print(f\"error_border_branches = {error_border_branches}\")\n",
    "        print(f\"valid_upstream_branches = {valid_upstream_branches}\")\n",
    "        print(f\"error_border_coordinates = {error_border_coordinates}\")\n",
    "        print(f\"\")\n",
    "\n",
    "        \n",
    "if include_one_hop_downstream_error_branches:\n",
    "    for v in error_border_branches:\n",
    "        if v == -1:\n",
    "            continue\n",
    "        downstream_error_nodes = xu.downstream_nodes(curr_limb.concept_network_directional,v)\n",
    "        \n",
    "        for d in downstream_error_nodes:\n",
    "            error_border_branches.append(d)\n",
    "            valid_upstream_branches.append(-1)\n",
    "            common_endpoint = np.array(sk.shared_endpoint(curr_limb[v].skeleton,\n",
    "                                                          curr_limb[d].skeleton,\n",
    "                                                          return_possibly_two=True)).reshape(-1,3)\n",
    "\n",
    "            error_border_coordinates.append(common_endpoint)\n",
    "            \n",
    "            if verbose:\n",
    "                print(f\"Error Branch {v} had an error downstream node {d} with common endpoint {common_endpoint}\")\n",
    "if verbose:\n",
    "        print(f\"\\nAfter Adding Downstream Error Nodes\")\n",
    "        print(f\"error_border_branches = {error_border_branches}\")\n",
    "        print(f\"valid_upstream_branches = {valid_upstream_branches}\")\n",
    "        print(f\"error_border_coordinates = {error_border_coordinates}\")\n",
    "        print(f\"\")"
   ]
  },
  {
   "cell_type": "code",
   "execution_count": 150,
   "metadata": {},
   "outputs": [
    {
     "name": "stdout",
     "output_type": "stream",
     "text": [
      "blue node offset skeleton coordinate is [813167. 609364. 849208.]\n",
      " --> using closest_mesh_face method curr_points = [[813240.46666667 609236.33333333 849106.2       ]]\n",
      "red node offset skeleton coordinate is [813358.36329101 610256.52130455 848587.86238598]\n",
      " --> using closest_mesh_face method curr_points = [[813516.63333333 610261.16666667 848411.06666667]]\n",
      "\n",
      "red node offset skeleton coordinate is [814863.39186524 609505.26158708 848808.48999537]\n",
      " --> using closest_mesh_face method curr_points = [[815088.93333333 609564.23333333 848722.76666667]]\n",
      "\n",
      "blue node offset skeleton coordinate is [814647.47750794 610480.21617909 848748.98473462]\n",
      " --> using closest_mesh_face method curr_points = [[814947.76666667 610672.43333333 848461.3       ]]\n",
      "\n",
      "red node offset skeleton coordinate is [811256.76283712 610888.03555993 848447.71170217]\n",
      " --> using closest_mesh_face method curr_points = [[811292.9        610908.96666667 848478.6       ]]\n",
      "\n",
      "red node offset skeleton coordinate is [812394.84635994 610590.86844714 849547.24448152]\n",
      " --> using closest_mesh_face method curr_points = [[812429.73333333 610593.86666667 849557.93333333]]\n",
      "\n",
      "\n",
      " Working on visualization type: mesh\n",
      "\n",
      " Working on visualization type: skeleton\n"
     ]
    },
    {
     "data": {
      "application/vnd.jupyter.widget-view+json": {
       "model_id": "de95104e940a4bf28e65b89657d58337",
       "version_major": 2,
       "version_minor": 0
      },
      "text/plain": [
       "VBox(children=(Figure(camera=PerspectiveCamera(fov=46.0, position=(0.0, 0.0, 2.0), projectionMatrix=(1.0, 0.0,…"
      ]
     },
     "metadata": {},
     "output_type": "display_data"
    }
   ],
   "source": [
    "\"\"\"\n",
    "d) for each node in the group\n",
    "    For each endpoint that is included in a boundary\n",
    "        i) Attempt to restrict the skeleton by X distance from that endoint \n",
    "        (if two small then pick other endpoint)\n",
    "        ii) Find the closest traingle face to that point on that branch mesh and use that\n",
    "\"\"\"\n",
    "\n",
    "\n",
    "blue_points = []\n",
    "red_points = []\n",
    "\n",
    "processed_valid = []\n",
    "\n",
    "curr_node_names = [\"blue\",\"red\"]\n",
    "blue_red_points = [[],[]]\n",
    "\n",
    "for v,e,coord in zip(valid_upstream_branches,\n",
    "                     error_border_branches,\n",
    "                    error_border_coordinates):\n",
    "    curr_nodes = [v,e]\n",
    "    \n",
    "    \n",
    "    for j,n in enumerate(curr_nodes):\n",
    "        if n == -1 or n in processed_valid:\n",
    "            continue\n",
    "        \n",
    "        branch_obj = curr_limb[n]\n",
    "        sk_point = skeleton_coordinate_offset_from_endpoint(branch_obj.skeleton,\n",
    "                                        coord,\n",
    "                                        offset_distance=offset_distance_for_points)\n",
    "    \n",
    "        if red_blue_points_method == \"skeleton\":\n",
    "            curr_points = np.array(sk_point).reshape(-1,3)\n",
    "            \n",
    "        elif red_blue_points_method == \"closest_mesh_face\":\n",
    "            curr_points = np.array(tu.closest_face_to_coordinate(branch_obj.mesh,sk_point,\n",
    "                             return_face_coordinate=True)).reshape(-1,3)\n",
    "        else:\n",
    "            raise Exception(f\"Unimplemented red_blue_points_method {red_blue_points_method}\")\n",
    "    \n",
    "        if verbose:\n",
    "            print(f\"{curr_node_names[j]} node offset skeleton coordinate is {sk_point}\")\n",
    "            print(f\" --> using {red_blue_points_method} method curr_points = {curr_points}\")\n",
    "        \n",
    "        blue_red_points[j].append(curr_points)\n",
    "        \n",
    "        #print(f\"blue_red_points = {blue_red_points}\")\n",
    "        \n",
    "    processed_valid.append(v)\n",
    "    print(\"\")\n",
    "        \n",
    "        \n",
    "final_blue_points = np.concatenate(blue_red_points[0])\n",
    "final_red_points = np.concatenate(blue_red_points[1])\n",
    "\n",
    "if plot_final_blue_red_points:\n",
    "    nviz.visualize_neuron_path(n_obj,\n",
    "                          limb_idx=limb_idx,\n",
    "                          path=curr_conn_comp,\n",
    "                          scatters=[final_blue_points.reshape(-1,3),\n",
    "                                   final_red_points.reshape(-1,3)],\n",
    "                          scatter_color_list=[\"blue\",\"red\"],\n",
    "                          scatter_size=0.3)"
   ]
  },
  {
   "cell_type": "code",
   "execution_count": 149,
   "metadata": {},
   "outputs": [
    {
     "name": "stdout",
     "output_type": "stream",
     "text": [
      "\n",
      " Working on visualization type: mesh\n",
      "\n",
      " Working on visualization type: skeleton\n"
     ]
    },
    {
     "data": {
      "application/vnd.jupyter.widget-view+json": {
       "model_id": "798bc339c273437d9135b461d71e3537",
       "version_major": 2,
       "version_minor": 0
      },
      "text/plain": [
       "VBox(children=(Figure(camera=PerspectiveCamera(fov=46.0, position=(0.0, 0.0, 2.0), projectionMatrix=(1.0, 0.0,…"
      ]
     },
     "metadata": {},
     "output_type": "display_data"
    }
   ],
   "source": []
  },
  {
   "cell_type": "code",
   "execution_count": 104,
   "metadata": {},
   "outputs": [],
   "source": [
    "restr_skeleton,success = sk.restrict_skeleton_from_start(v_skeleton,#.reshape(-1,2,3),\n",
    "                                cutoff_distance=offset_distance_for_points,\n",
    "                               subtract_cutoff=True,\n",
    "                                                return_indexes=False)"
   ]
  },
  {
   "cell_type": "code",
   "execution_count": null,
   "metadata": {},
   "outputs": [],
   "source": [
    "#how to run the actual output\n",
    "(output_neuron,\n",
    "             total_area_current,\n",
    "             total_sk_distance_current) = filter_function(input_neuron,\n",
    "                plot_limb_branch_filter_with_disconnect_effect = plot_limb_branch_filter_with_disconnect_effect,\n",
    "                plot_limb_branch_filter_away = plot_limb_branch_filter_away,\n",
    "                plot_final_neuron=plot_final_neuron,\n",
    "                                                return_error_info=True,\n",
    "                                                verbose=verbose,\n",
    "                                                **filter_kwargs\n",
    "                                               )"
   ]
  }
 ],
 "metadata": {
  "kernelspec": {
   "display_name": "Python 3",
   "language": "python",
   "name": "python3"
  },
  "language_info": {
   "codemirror_mode": {
    "name": "ipython",
    "version": 3
   },
   "file_extension": ".py",
   "mimetype": "text/x-python",
   "name": "python",
   "nbconvert_exporter": "python",
   "pygments_lexer": "ipython3",
   "version": "3.6.9"
  }
 },
 "nbformat": 4,
 "nbformat_minor": 4
}
