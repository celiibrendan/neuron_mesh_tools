{
 "cells": [
  {
   "cell_type": "code",
   "execution_count": 1,
   "metadata": {},
   "outputs": [],
   "source": [
    "%load_ext autoreload\n",
    "%autoreload 2"
   ]
  },
  {
   "cell_type": "code",
   "execution_count": 2,
   "metadata": {},
   "outputs": [
    {
     "name": "stderr",
     "output_type": "stream",
     "text": [
      "INFO - 2021-05-12 16:19:24,390 - settings - Setting database.host to at-database.ad.bcm.edu\n",
      "INFO - 2021-05-12 16:19:24,392 - settings - Setting database.user to celiib\n",
      "INFO - 2021-05-12 16:19:24,393 - settings - Setting database.password to newceliipass\n",
      "INFO - 2021-05-12 16:19:24,398 - settings - Setting stores to {'minnie65': {'protocol': 'file', 'location': '/mnt/dj-stor01/platinum/minnie65', 'stage': '/mnt/dj-stor01/platinum/minnie65'}, 'meshes': {'protocol': 'file', 'location': '/mnt/dj-stor01/platinum/minnie65/02/meshes', 'stage': '/mnt/dj-stor01/platinum/minnie65/02/meshes'}, 'decimated_meshes': {'protocol': 'file', 'location': '/mnt/dj-stor01/platinum/minnie65/02/decimated_meshes', 'stage': '/mnt/dj-stor01/platinum/minnie65/02/decimated_meshes'}, 'skeletons': {'protocol': 'file', 'location': '/mnt/dj-stor01/platinum/minnie65/02/skeletons'}}\n",
      "INFO - 2021-05-12 16:19:24,399 - settings - Setting enable_python_native_blobs to True\n",
      "INFO - 2021-05-12 16:19:24,413 - connection - Connected celiib@at-database.ad.bcm.edu:3306\n"
     ]
    },
    {
     "name": "stdout",
     "output_type": "stream",
     "text": [
      "Connecting celiib@at-database.ad.bcm.edu:3306\n"
     ]
    },
    {
     "name": "stderr",
     "output_type": "stream",
     "text": [
      "INFO - 2021-05-12 16:19:24,902 - settings - Setting enable_python_native_blobs to True\n",
      "INFO - 2021-05-12 16:19:24,906 - settings - Setting database.host to at-database.ad.bcm.edu\n",
      "INFO - 2021-05-12 16:19:24,907 - settings - Setting database.user to celiib\n",
      "INFO - 2021-05-12 16:19:24,907 - settings - Setting database.password to newceliipass\n",
      "INFO - 2021-05-12 16:19:24,908 - settings - Setting database.host to at-database.ad.bcm.edu\n",
      "INFO - 2021-05-12 16:19:24,909 - settings - Setting database.user to celiib\n",
      "INFO - 2021-05-12 16:19:24,910 - settings - Setting database.password to newceliipass\n",
      "INFO - 2021-05-12 16:19:24,911 - settings - Setting enable_python_native_blobs to True\n",
      "INFO - 2021-05-12 16:19:25,392 - settings - Setting enable_python_native_blobs to True\n"
     ]
    }
   ],
   "source": [
    "import numpy as np\n",
    "import datajoint as dj\n",
    "import trimesh\n",
    "from tqdm.notebook import tqdm\n",
    "from pathlib import Path\n",
    "\n",
    "from os import sys\n",
    "sys.path.append(\"/meshAfterParty/\")\n",
    "sys.path.append(\"/meshAfterParty/meshAfterParty\")\n",
    "\n",
    "import datajoint_utils as du\n",
    "from importlib import reload"
   ]
  },
  {
   "cell_type": "code",
   "execution_count": 3,
   "metadata": {},
   "outputs": [],
   "source": [
    "import neuron_visualizations as nviz\n",
    "import neuron_utils as nru\n",
    "import proofreading_utils as pru\n",
    "import time\n",
    "import system_utils as su\n",
    "import axon_utils as au\n",
    "import trimesh_utils as tu\n",
    "import allen_utils as alu"
   ]
  },
  {
   "cell_type": "code",
   "execution_count": 4,
   "metadata": {
    "scrolled": true
   },
   "outputs": [
    {
     "name": "stderr",
     "output_type": "stream",
     "text": [
      "INFO - 2021-05-12 16:19:31,879 - settings - Setting database.host to at-database.ad.bcm.edu\n",
      "INFO - 2021-05-12 16:19:31,880 - settings - Setting database.user to celiib\n",
      "INFO - 2021-05-12 16:19:31,881 - settings - Setting database.password to newceliipass\n",
      "INFO - 2021-05-12 16:19:31,886 - settings - Setting enable_python_native_blobs to True\n",
      "INFO - 2021-05-12 16:19:32,404 - settings - Setting enable_python_native_blobs to True\n"
     ]
    }
   ],
   "source": [
    "minnie,_ = du.configure_minnie_vm()"
   ]
  },
  {
   "cell_type": "markdown",
   "metadata": {},
   "source": [
    "# Getting the Table and Exporting the CSV"
   ]
  },
  {
   "cell_type": "code",
   "execution_count": 5,
   "metadata": {},
   "outputs": [
    {
     "name": "stdout",
     "output_type": "stream",
     "text": [
      "# of Entries Processing = 1\n",
      "Workin on 864691134884759034, split 0\n",
      "error_type = axon_on_dendrite_merges\n",
      "error_type = high_degree_branching\n",
      "error_type = axon_webbing_t_merges\n",
      "error_type = thick_t_merge\n",
      "error_type = double_back_and_width_change\n",
      "error_type = axon_fork_divergence\n"
     ]
    }
   ],
   "source": [
    "ret_df = alu.stats_table_to_auto_proof_red_blue_suggestions_df(\n",
    "    minnie.AutoProofreadStats4(),\n",
    "    max_entries = 50,\n",
    "    output_type = \"server\",\n",
    "output_filepath=\"./allen_v4_5_12_test.csv\")"
   ]
  },
  {
   "cell_type": "markdown",
   "metadata": {},
   "source": [
    "# Debugging"
   ]
  },
  {
   "cell_type": "code",
   "execution_count": null,
   "metadata": {},
   "outputs": [],
   "source": [
    "minnie.AutoProofreadStats4()"
   ]
  },
  {
   "cell_type": "code",
   "execution_count": null,
   "metadata": {},
   "outputs": [],
   "source": [
    "du.plot_proofread_neuron(864691134884794106,\n",
    "                         plot_proofreading_synapses=True,\n",
    "                        plot_error_synapses=True,\n",
    "                         plot_errored_faces=True)"
   ]
  },
  {
   "cell_type": "code",
   "execution_count": null,
   "metadata": {},
   "outputs": [],
   "source": [
    "du.plot_proofread_neuron(864691134884791802,\n",
    "                         plot_proofreading_synapses=True,\n",
    "                        plot_error_synapses=True,\n",
    "                         plot_errored_faces=True)"
   ]
  },
  {
   "cell_type": "code",
   "execution_count": null,
   "metadata": {},
   "outputs": [],
   "source": []
  },
  {
   "cell_type": "code",
   "execution_count": null,
   "metadata": {},
   "outputs": [],
   "source": []
  },
  {
   "cell_type": "code",
   "execution_count": null,
   "metadata": {},
   "outputs": [],
   "source": [
    "du.plot_proofread_neuron(864691134884759034,\n",
    "                         plot_proofreading_synapses=True,\n",
    "                        plot_error_synapses=True,\n",
    "                         plot_errored_faces=True)"
   ]
  },
  {
   "cell_type": "code",
   "execution_count": null,
   "metadata": {},
   "outputs": [],
   "source": []
  },
  {
   "cell_type": "code",
   "execution_count": null,
   "metadata": {},
   "outputs": [],
   "source": [
    "ret_df[\"neuroglancer_link\"].to_list()[0]"
   ]
  },
  {
   "cell_type": "code",
   "execution_count": null,
   "metadata": {},
   "outputs": [],
   "source": [
    "import system_utils as su\n",
    "import numpy as np\n",
    "auto_edit_df_5_10 = su.decompress_pickle(\"auto_edit_df_5_10\")\n",
    "np.unique(auto_edit_df_5_10[\"segment_id\"].to_list()).shape"
   ]
  },
  {
   "cell_type": "code",
   "execution_count": null,
   "metadata": {},
   "outputs": [],
   "source": []
  }
 ],
 "metadata": {
  "kernelspec": {
   "display_name": "Python 3",
   "language": "python",
   "name": "python3"
  },
  "language_info": {
   "codemirror_mode": {
    "name": "ipython",
    "version": 3
   },
   "file_extension": ".py",
   "mimetype": "text/x-python",
   "name": "python",
   "nbconvert_exporter": "python",
   "pygments_lexer": "ipython3",
   "version": "3.6.9"
  }
 },
 "nbformat": 4,
 "nbformat_minor": 4
}
