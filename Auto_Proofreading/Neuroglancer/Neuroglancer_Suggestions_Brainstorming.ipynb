{
 "cells": [
  {
   "cell_type": "code",
   "execution_count": null,
   "metadata": {},
   "outputs": [],
   "source": [
    "\"\"\"\n",
    "1/2/21\n",
    "\n",
    "Purpose: To experiment how to make annotations in neuroglancer\n",
    "\n",
    "\"\"\""
   ]
  },
  {
   "cell_type": "code",
   "execution_count": 1,
   "metadata": {},
   "outputs": [],
   "source": [
    "%load_ext autoreload\n",
    "%autoreload 2"
   ]
  },
  {
   "cell_type": "code",
   "execution_count": 2,
   "metadata": {},
   "outputs": [],
   "source": [
    "import pandas as pd\n",
    "from annotationframeworkclient import FrameworkClient\n",
    "from nglui import statebuilder"
   ]
  },
  {
   "cell_type": "code",
   "execution_count": 3,
   "metadata": {},
   "outputs": [],
   "source": [
    "client = FrameworkClient('minnie65_phase3_v1')\n",
    "split_locs = [[135975, 104575, 22699],\n",
    "              [146291, 126873, 20716]]\n",
    "root_ids = [864691135855627566, 864691135855627566]\n",
    "priority = [2, 1]\n",
    "# Dummy split dataframe\n",
    "edit_df = pd.DataFrame({'split_location': split_locs,\n",
    "                        'root_id': root_ids,\n",
    "                        'priority': priority})\n",
    "\n",
    "# The following generates a statebuilder that can turn dataframes into neuroglancer states\n",
    "img_layer = statebuilder.ImageLayerConfig(client.info.image_source(), contrast_controls=True, black=0.35, white=0.65)\n",
    "seg_layer = statebuilder.SegmentationLayerConfig(client.info.segmentation_source(), selected_ids_column='root_id')\n",
    "pts = statebuilder.PointMapper('split_location', linked_segmentation_column='root_id', set_position=True)\n",
    "anno_layer = statebuilder.AnnotationLayerConfig('split_cands', mapping_rules=pts, linked_segmentation_layer=seg_layer.name, color='#FFFFFF', active=True)\n",
    "sb = statebuilder.StateBuilder([img_layer, seg_layer, anno_layer], state_server=client.state.state_service_endpoint)"
   ]
  },
  {
   "cell_type": "code",
   "execution_count": null,
   "metadata": {},
   "outputs": [],
   "source": []
  },
  {
   "cell_type": "code",
   "execution_count": null,
   "metadata": {},
   "outputs": [],
   "source": [
    "chained_sb = ChainedStateBuilder([postsyn_sb, presyn_sb])"
   ]
  },
  {
   "cell_type": "code",
   "execution_count": null,
   "metadata": {},
   "outputs": [],
   "source": [
    "# To test locally:\n",
    "# Note that the annotations are created in order, so sorting the dataframe should sort the annotations\n",
    "sb.render_state(edit_df.sort_values(by='priority'), return_as='html')"
   ]
  },
  {
   "cell_type": "code",
   "execution_count": null,
   "metadata": {},
   "outputs": [],
   "source": [
    "# # To upload to the state server for a shortened URL:\n",
    "# state = sb.render_state(edit_df.sort_values(by='priority'), return_as='dict')\n",
    "# state_id = client.state.upload_state_json(state)\n",
    "# short_url = client.state.build_neuroglancer_url(state_id, ngl_url=client.info.viewer_site())\n",
    "# print(short_url)"
   ]
  },
  {
   "cell_type": "markdown",
   "metadata": {},
   "source": [
    "# Function for Generating Neuroglancer Link"
   ]
  },
  {
   "cell_type": "code",
   "execution_count": null,
   "metadata": {},
   "outputs": [],
   "source": [
    "import numpy as np\n",
    "import numpy_utils as nu\n",
    "\n",
    "def set_state_builder():\n",
    "    client = FrameworkClient('minnie65_phase3_v1')\n",
    "    # The following generates a statebuilder that can turn dataframes into neuroglancer states\n",
    "    img_layer = statebuilder.ImageLayerConfig(client.info.image_source(), contrast_controls=True, black=0.35, white=0.65)\n",
    "    seg_layer = statebuilder.SegmentationLayerConfig(client.info.segmentation_source(), selected_ids_column='root_id')\n",
    "    pts = statebuilder.PointMapper('split_location', linked_segmentation_column='root_id', set_position=True)\n",
    "    anno_layer = statebuilder.AnnotationLayerConfig('split_cands', mapping_rules=pts, linked_segmentation_layer=seg_layer.name, color='#FFFFFF', active=True)\n",
    "    sb = statebuilder.StateBuilder([img_layer, seg_layer, anno_layer], state_server=client.state.state_service_endpoint)\n",
    "    return sb\n",
    "\n",
    "def set_edit_dataframe(split_locs,\n",
    "                      root_ids,\n",
    "                      priority=None,\n",
    "                      ):\n",
    "    \"\"\"\n",
    "    Will create a dataframe that can be fed into a statebuilder\n",
    "    to generate a neuroglancer link\n",
    "    \n",
    "    \"\"\"\n",
    "    if priority is None:\n",
    "        priority = list(np.arange(1,len(split_locs)+1))\n",
    "        \n",
    "    if not nu.is_array_like(root_ids):\n",
    "        root_ids = [root_ids]*len(split_locs)\n",
    "        \n",
    "    edit_df = pd.DataFrame({'split_location': split_locs,\n",
    "                            'root_id': root_ids,\n",
    "                            'priority': priority})\n",
    "    return edit_df\n",
    "\n",
    "def neuroglancer_split_link(split_locs,\n",
    "                      root_ids,\n",
    "                      priority=None):\n",
    "    \n",
    "    edit_df = set_edit_dataframe(split_locs,\n",
    "                      root_ids,\n",
    "                      priority,\n",
    "                      )\n",
    "    \n",
    "    return sb.render_state(edit_df.sort_values(by='priority'), return_as='html')\n",
    "    \n",
    "\n",
    "\n",
    "split_locs = [[135975, 104575, 22699],\n",
    "                  [146291, 126873, 20716]]\n",
    "root_ids = [864691135855627566, 864691135855627566]\n",
    "root_ids = 864691135855627566\n",
    "#priority = [2, 1]\n",
    "# Dummy split dataframe\n",
    "\n",
    "set_edit_dataframe(split_locs,\n",
    "                  root_ids)\n",
    "\n",
    "neuroglancer_split_link(split_locs,\n",
    "                          root_ids)"
   ]
  },
  {
   "cell_type": "markdown",
   "metadata": {},
   "source": [
    "# Trying the Test Setup for Getting a Neuron, Getting the suggestions for splits and then creating a neuroglancer link"
   ]
  },
  {
   "cell_type": "code",
   "execution_count": 4,
   "metadata": {},
   "outputs": [],
   "source": [
    "from os import sys\n",
    "sys.path.append(\"/meshAfterParty/\")"
   ]
  },
  {
   "cell_type": "code",
   "execution_count": 5,
   "metadata": {},
   "outputs": [
    {
     "name": "stderr",
     "output_type": "stream",
     "text": [
      "INFO - 2021-01-09 08:53:11,081 - settings - Setting database.host to at-database.ad.bcm.edu\n",
      "INFO - 2021-01-09 08:53:11,082 - settings - Setting database.user to celiib\n",
      "INFO - 2021-01-09 08:53:11,083 - settings - Setting database.password to newceliipass\n",
      "INFO - 2021-01-09 08:53:11,087 - settings - Setting stores to {'minnie65': {'protocol': 'file', 'location': '/mnt/dj-stor01/platinum/minnie65', 'stage': '/mnt/dj-stor01/platinum/minnie65'}, 'meshes': {'protocol': 'file', 'location': '/mnt/dj-stor01/platinum/minnie65/02/meshes', 'stage': '/mnt/dj-stor01/platinum/minnie65/02/meshes'}, 'decimated_meshes': {'protocol': 'file', 'location': '/mnt/dj-stor01/platinum/minnie65/02/decimated_meshes', 'stage': '/mnt/dj-stor01/platinum/minnie65/02/decimated_meshes'}, 'skeletons': {'protocol': 'file', 'location': '/mnt/dj-stor01/platinum/minnie65/02/skeletons'}}\n",
      "INFO - 2021-01-09 08:53:11,088 - settings - Setting enable_python_native_blobs to True\n",
      "INFO - 2021-01-09 08:53:11,102 - connection - Connected celiib@at-database.ad.bcm.edu:3306\n"
     ]
    },
    {
     "name": "stdout",
     "output_type": "stream",
     "text": [
      "Connecting celiib@at-database.ad.bcm.edu:3306\n"
     ]
    },
    {
     "name": "stderr",
     "output_type": "stream",
     "text": [
      "INFO - 2021-01-09 08:53:11,346 - settings - Setting enable_python_native_blobs to True\n"
     ]
    }
   ],
   "source": [
    "import neuron_utils as nru\n",
    "import neuron_visualizations as nviz"
   ]
  },
  {
   "cell_type": "code",
   "execution_count": 6,
   "metadata": {},
   "outputs": [
    {
     "name": "stdout",
     "output_type": "stream",
     "text": [
      "Decompressing Neuron in minimal output mode...please wait\n"
     ]
    },
    {
     "data": {
      "text/plain": [
       "<neuron.Neuron at 0x7fad758f0b38>"
      ]
     },
     "execution_count": 6,
     "metadata": {},
     "output_type": "execute_result"
    }
   ],
   "source": [
    "test_file = \"864691134988472442_0_25\"\n",
    "\n",
    "curr_file_path = \"/notebooks/test_neurons/Segmentation_3/Multi_Soma/\" + test_file\n",
    "neuron_obj = nru.decompress_neuron(curr_file_path,curr_file_path)\n",
    "neuron_obj"
   ]
  },
  {
   "cell_type": "code",
   "execution_count": null,
   "metadata": {},
   "outputs": [],
   "source": [
    "nviz.visualize_neuron(neuron_obj,\n",
    "                     visualize_type=[\"mesh\",\"skeleton\"],\n",
    "                     limb_branch_dict=\"all\")"
   ]
  },
  {
   "cell_type": "markdown",
   "metadata": {},
   "source": [
    "# Getting the Proofreading Suggestions"
   ]
  },
  {
   "cell_type": "code",
   "execution_count": 8,
   "metadata": {},
   "outputs": [],
   "source": [
    "import proofreading_utils as pru"
   ]
  },
  {
   "cell_type": "code",
   "execution_count": 9,
   "metadata": {},
   "outputs": [
    {
     "name": "stdout",
     "output_type": "stream",
     "text": [
      "multi_soma_limbs = [1]\n",
      "multi_touch_limbs = [0 1]\n",
      "\n",
      "\n",
      " -------- Working on limb 0------------\n",
      "Starting combinations to process = [(73, 68)]\n",
      "\n",
      "\n",
      "---- working on disconnecting 73 and 68\n",
      "---- This disconnects S0_0 from S0_1  \n",
      " Cut iteration 0\n",
      "Total number of graphs at the end of the split BEFORE DIRECTIONAL = 1\n",
      "self.deleted_edges = []\n",
      "self.created_edges = []\n",
      "Total number of graphs at the end of the split AFTER DIRECTIONAL = 1\n",
      "Shortest path = [73, 79, 83, 80, 69, 63, 64, 65, 68]\n",
      "\n",
      " --------- START OF GET BEST EDGE --------- \n",
      "curr_limb.deleted_edges=[]\n",
      "consider_path_neighbors_for_removal is set so segments_to_consider = [ 0 55 63 64 65 66 67 69 76 79 80 83 84 85 90 93]\n",
      "Short segments to combine = []\n",
      "Found 1 high degree coordinates to cut\n",
      "Picking [748976. 592149. 813833.] high degree coordinates to cut\n",
      "curr_limb.deleted_edges 4=[]\n",
      "***inside resolve crossover!!!!****\n",
      "coordinate_branches = [69, 80, 90, 93]\n",
      "69 = red\n",
      "80 = aqua\n",
      "90 = purple\n",
      "93 = green\n",
      "Angle between 69 and 80 = 109.65 \n",
      "Angle between 69 and 90 = 79.41 \n",
      "Angle between 69 and 93 = 28.39 \n",
      "Angle between 80 and 90 = 10.4 \n",
      "Angle between 80 and 93 = 97.06 \n",
      "Angle between 90 and 93 = 73.21 \n",
      "Final Matches = [[69, 93], [80, 90]]\n",
      "matched_branches_revised = [[80, 90], [69, 93]]\n",
      "Original graph\n"
     ]
    },
    {
     "data": {
      "image/png": "[encoded data removed]",
      "text/plain": [
       "<Figure size 432x288 with 1 Axes>"
      ]
     },
     "metadata": {},
     "output_type": "display_data"
    },
    {
     "name": "stdout",
     "output_type": "stream",
     "text": [
      "match_branches = [[80, 90], [69, 93]]\n",
      "edges_to_delete (resolve crossover) = [[69, 80], [69, 90], [80, 93], [90, 93]]\n",
      "edges_to_create (resolve crossover) = [[80, 90], [69, 93]]\n",
      "curr_limb.deleted_edges 5 =[]\n",
      "self.deleted_edges = []\n",
      "self.created_edges = []\n",
      "skip_nodes = []\n",
      "edges_to_delete (cut_limb_network) = [[69, 80], [69, 90], [80, 93], [90, 93]]\n",
      "edges_to_create = [[80, 90], [69, 93]]\n",
      "Number of connected components = 2\n",
      "Comp 0 = {1, 2, 5, 6, 7, 8, 9, 11, 12, 13, 14, 15, 16, 17, 18, 20, 21, 22, 23, 24, 26, 28, 30, 31, 32, 36, 37, 38, 39, 42, 43, 45, 46, 48, 49, 50, 51, 52, 53, 54, 56, 57, 58, 59, 60, 61, 62, 72, 73, 74, 75, 76, 77, 78, 79, 80, 81, 82, 83, 84, 85, 86, 87, 89, 90, 91, 94, 95, 96, 97, 98, 101, 102, 103, 104, 105, 106, 107, 108, 109, 110, 111, 112, 113, 114, 115, 116, 117, 118, 119, 120, 121, 122, 123, 124, 125, 126, 127, 128, 129, 130, 131, 132, 133, 134, 135, 136, 137, 138, 139, 140, 141, 142, 143, 144, 145, 146, 147, 148, 149, 150, 151, 152, 153}\n",
      "Comp 1 = {0, 3, 4, 10, 19, 25, 27, 29, 33, 34, 35, 40, 41, 44, 47, 55, 63, 64, 65, 66, 67, 68, 69, 70, 71, 88, 92, 93, 99, 100}\n",
      "curr_limb_copy.deleted_edges = [[69, 80], [69, 90], [80, 93], [90, 93]]\n",
      "curr_limb_copy.created_edges = [[80, 90], [69, 93]]\n",
      "After get best cut: cut_edges = [[69, 80], [69, 90], [80, 93], [90, 93]], added_edges = [[80, 90], [69, 93]]\n",
      "total_soma_paths_to_cut = []\n",
      "-----------counter = 0------------\n",
      " Cut iteration 1\n",
      "Total number of graphs at the end of the split BEFORE DIRECTIONAL = 2\n",
      "self.deleted_edges = [[69, 80], [69, 90], [80, 93], [90, 93]]\n",
      "self.created_edges = [[80, 90], [69, 93]]\n",
      "Total number of graphs at the end of the split AFTER DIRECTIONAL = 2\n",
      "No valid path so moving onto the next connection\n",
      "Total number of graphs at the end of the split = 2: [array([  1,   2,   5,   6,   7,   8,   9,  11,  12,  13,  14,  15,  16,\n",
      "        17,  18,  20,  21,  22,  23,  24,  26,  28,  30,  31,  32,  36,\n",
      "        37,  38,  39,  42,  43,  45,  46,  48,  49,  50,  51,  52,  53,\n",
      "        54,  56,  57,  58,  59,  60,  61,  62,  72,  73,  74,  75,  76,\n",
      "        77,  78,  79,  80,  81,  82,  83,  84,  85,  86,  87,  89,  90,\n",
      "        91,  94,  95,  96,  97,  98, 101, 102, 103, 104, 105, 106, 107,\n",
      "       108, 109, 110, 111, 112, 113, 114, 115, 116, 117, 118, 119, 120,\n",
      "       121, 122, 123, 124, 125, 126, 127, 128, 129, 130, 131, 132, 133,\n",
      "       134, 135, 136, 137, 138, 139, 140, 141, 142, 143, 144, 145, 146,\n",
      "       147, 148, 149, 150, 151, 152, 153]), array([  0,   3,   4,  10,  19,  25,  27,  29,  33,  34,  35,  40,  41,\n",
      "        44,  47,  55,  63,  64,  65,  66,  67,  68,  69,  70,  71,  88,\n",
      "        92,  93,  99, 100])]\n",
      "\n",
      "\n",
      " -------- Working on limb 1------------\n",
      "Starting combinations to process = [(18, 27), (18, 32), (27, 32)]\n",
      "\n",
      "\n",
      "---- working on disconnecting 18 and 27\n",
      "---- This disconnects S0_0 from S1_0  \n",
      " Cut iteration 0\n",
      "Total number of graphs at the end of the split BEFORE DIRECTIONAL = 1\n",
      "self.deleted_edges = []\n",
      "self.created_edges = []\n",
      "Total number of graphs at the end of the split AFTER DIRECTIONAL = 1\n",
      "Shortest path = [18, 16, 17, 22, 29, 28, 27]\n",
      "\n",
      " --------- START OF GET BEST EDGE --------- \n",
      "curr_limb.deleted_edges=[]\n",
      "consider_path_neighbors_for_removal is set so segments_to_consider = [ 7 15 16 17 21 22 24 28 29 30 31]\n",
      "Short segments to combine = []\n",
      "Found 0 high degree coordinates to cut\n",
      "self.deleted_edges = []\n",
      "self.created_edges = []\n",
      "skip_nodes = []\n",
      "\n",
      "Attempting the doubling back check (symmetrical so don't need to check from both sides)\n"
     ]
    },
    {
     "data": {
      "application/vnd.jupyter.widget-view+json": {
       "model_id": "8a95bb5138b8434aa3111044914037ba",
       "version_major": 2,
       "version_minor": 0
      },
      "text/plain": [
       "HBox(children=(FloatProgress(value=0.0, max=6.0), HTML(value='')))"
      ]
     },
     "metadata": {},
     "output_type": "display_data"
    },
    {
     "name": "stdout",
     "output_type": "stream",
     "text": [
      "  Edge: [18 16]: curr_angle = 33.78\n",
      "  Edge: [16 17]: curr_angle = 28.86\n",
      "  Edge: [17 22]: curr_angle = 22.3\n",
      "  Edge: [22 29]: curr_angle = 75.6\n",
      "  Edge: [29 28]: curr_angle = 87.43\n",
      "  Edge: [28 27]: curr_angle = 74.26\n",
      "\n",
      "Total time for doubling_back = 0.4591186046600342\n",
      "\n",
      "Attempting the width jump check (attempting from both sides)\n",
      "self.deleted_edges = []\n",
      "self.created_edges = []\n",
      "  Edge: [18 16]: jump = -143.4\n",
      "  Edge: [16 17]: jump = -209.54\n",
      "  Edge: [17 22]: jump = -52.75\n",
      "  Edge: [22 29]: jump = -153.65\n",
      "  Edge: [29 28]: jump = -265.44\n",
      "  Edge: [28 27]: jump = -20.26\n",
      "Total time for width = 0.41230010986328125\n",
      "Path starting at 18 had err_edges: []\n",
      "self.deleted_edges = []\n",
      "self.created_edges = []\n",
      "  Edge: [27 28]: jump = -33.28\n",
      "  Edge: [28 29]: jump = 26.12\n",
      "  Edge: [29 22]: jump = 215.43\n",
      "Adding error edge [29 22] because width jump was 215.42750548940094\n",
      "  Edge: [22 17]: jump = 52.75\n",
      "  Edge: [17 16]: jump = 209.54\n",
      "Adding error edge [17 16] because width jump was 209.5392790102727\n",
      "  Edge: [16 18]: jump = 143.4\n",
      "Total time for width = 0.41432785987854004\n",
      "Path starting at 27 had err_edges: [[29, 22], [17, 16]]\n",
      "first_error_sizes = [-inf, 215.42750548940094], winning_path = 1\n",
      "***inside resolve crossover!!!!****\n",
      "coordinate_branches = [22, 29, 30]\n",
      "22 = red\n",
      "29 = aqua\n",
      "30 = purple\n",
      "Angle between 22 and 29 = 73.4 \n",
      "Angle between 22 and 30 = 28.09 \n",
      "Angle between 29 and 30 = 79.32 \n",
      "Final Matches = [[22, 30]]\n",
      "matched_branches_revised = [[22, 30]]\n",
      "Original graph\n"
     ]
    },
    {
     "data": {
      "image/png": "[encoded data removed]",
      "text/plain": [
       "<Figure size 432x288 with 1 Axes>"
      ]
     },
     "metadata": {},
     "output_type": "display_data"
    },
    {
     "name": "stdout",
     "output_type": "stream",
     "text": [
      "match_branches = [[22, 30]]\n",
      "edges_to_delete (resolve crossover) = [[22, 29], [29, 30]]\n",
      "edges_to_create (resolve crossover) = [[22, 30]]\n",
      "edges_to_delete (cut_limb_network) = [array([22, 29]), array([29, 30])]\n",
      "edges_to_create = [[22, 30]]\n",
      "Number of connected components = 2\n",
      "Comp 0 = {0, 1, 2, 3, 4, 5, 6, 7, 8, 9, 10, 11, 12, 13, 14, 15, 16, 17, 18, 19, 21, 22, 30, 32}\n",
      "Comp 1 = {20, 23, 24, 25, 26, 27, 28, 29, 31}\n",
      "curr_limb_copy.deleted_edges = [array([22, 29]), array([29, 30])]\n",
      "curr_limb_copy.created_edges = [[22, 30]]\n",
      "After get best cut: cut_edges = [array([22, 29]), array([29, 30])], added_edges = [[22, 30]]\n",
      "total_soma_paths_to_cut = []\n",
      "-----------counter = 0------------\n",
      " Cut iteration 1\n",
      "Total number of graphs at the end of the split BEFORE DIRECTIONAL = 2\n",
      "self.deleted_edges = [array([22, 29]), array([29, 30])]\n",
      "self.created_edges = [[22, 30]]\n",
      "Total number of graphs at the end of the split AFTER DIRECTIONAL = 2\n",
      "No valid path so moving onto the next connection\n",
      "\n",
      "\n",
      "---- working on disconnecting 18 and 32\n",
      "---- This disconnects S0_0 from S1_1  \n",
      " Cut iteration 0\n",
      "Total number of graphs at the end of the split BEFORE DIRECTIONAL = 2\n",
      "self.deleted_edges = [array([22, 29]), array([29, 30])]\n",
      "self.created_edges = [[22, 30]]\n",
      "Total number of graphs at the end of the split AFTER DIRECTIONAL = 2\n",
      "Shortest path = [18, 16, 17, 22, 30, 32]\n",
      "\n",
      " --------- START OF GET BEST EDGE --------- \n",
      "curr_limb.deleted_edges=[array([22, 29]), array([29, 30])]\n",
      "consider_path_neighbors_for_removal is set so segments_to_consider = [ 7 15 16 17 19 21 22 30]\n",
      "Short segments to combine = []\n",
      "Found 0 high degree coordinates to cut\n",
      "self.deleted_edges = [array([22, 29]), array([29, 30])]\n",
      "self.created_edges = [[22, 30]]\n",
      "Skipping endnode 32 because skeletal distance was 1082.952315921617 and threshold was 2500\n",
      "skip_nodes = [32]\n",
      "\n",
      "Attempting the doubling back check (symmetrical so don't need to check from both sides)\n"
     ]
    },
    {
     "data": {
      "application/vnd.jupyter.widget-view+json": {
       "model_id": "efab12daae504f079f76c2f8f2eef7c7",
       "version_major": 2,
       "version_minor": 0
      },
      "text/plain": [
       "HBox(children=(FloatProgress(value=0.0, max=4.0), HTML(value='')))"
      ]
     },
     "metadata": {},
     "output_type": "display_data"
    },
    {
     "name": "stdout",
     "output_type": "stream",
     "text": [
      "  Edge: [18 16]: curr_angle = 33.78\n",
      "  Edge: [16 17]: curr_angle = 28.86\n",
      "  Edge: [17 22]: curr_angle = 22.3\n",
      "  Edge: [22 30]: curr_angle = 16.9\n",
      "\n",
      "Total time for doubling_back = 0.3962714672088623\n",
      "\n",
      "Attempting the width jump check (attempting from both sides)\n",
      "self.deleted_edges = [array([22, 29]), array([29, 30])]\n",
      "self.created_edges = [[22, 30]]\n",
      "  Edge: [18 16]: jump = -143.4\n",
      "  Edge: [16 17]: jump = -209.54\n",
      "  Edge: [17 22]: jump = -52.75\n",
      "  Edge: [22 30]: jump = -89.83\n",
      "Total time for width = 0.36483097076416016\n",
      "Path starting at 18 had err_edges: []\n",
      "self.deleted_edges = [array([22, 29]), array([29, 30])]\n",
      "self.created_edges = [[22, 30]]\n",
      "  Edge: [30 22]: jump = 89.83\n",
      "  Edge: [22 17]: jump = 52.75\n",
      "  Edge: [17 16]: jump = 209.54\n",
      "Adding error edge [17 16] because width jump was 209.5392790102727\n",
      "  Edge: [16 18]: jump = 143.4\n",
      "Total time for width = 0.36481809616088867\n",
      "Path starting at 32 had err_edges: [[17, 16]]\n",
      "first_error_sizes = [-inf, 209.5392790102727], winning_path = 1\n",
      "***inside resolve crossover!!!!****\n",
      "coordinate_branches = [15, 16, 17]\n",
      "15 = red\n",
      "16 = aqua\n",
      "17 = purple\n",
      "Angle between 15 and 16 = 25.15 \n",
      "Angle between 15 and 17 = 118.19 \n",
      "Angle between 16 and 17 = 38.68 \n",
      "Final Matches = [[15, 16]]\n",
      "matched_branches_revised = [[15, 16]]\n",
      "Original graph\n"
     ]
    },
    {
     "data": {
      "image/png": "[encoded data removed]",
      "text/plain": [
       "<Figure size 432x288 with 1 Axes>"
      ]
     },
     "metadata": {},
     "output_type": "display_data"
    },
    {
     "name": "stdout",
     "output_type": "stream",
     "text": [
      "match_branches = [[15, 16]]\n",
      "edges_to_delete (resolve crossover) = [[15, 17], [16, 17]]\n",
      "edges_to_create (resolve crossover) = [[15, 16]]\n",
      "edges_to_delete (cut_limb_network) = [array([15, 17]), array([16, 17])]\n",
      "edges_to_create = [[15, 16]]\n",
      "Number of connected components = 3\n",
      "Comp 0 = {0, 1, 2, 3, 4, 5, 6, 7, 8, 9, 10, 11, 12, 13, 14, 15, 16, 18}\n",
      "Comp 1 = {32, 17, 19, 21, 22, 30}\n",
      "Comp 2 = {20, 23, 24, 25, 26, 27, 28, 29, 31}\n",
      "curr_limb_copy.deleted_edges = [array([22, 29]), array([29, 30]), array([15, 17]), array([16, 17])]\n",
      "curr_limb_copy.created_edges = [[22, 30], [15, 16]]\n",
      "After get best cut: cut_edges = [array([15, 17]), array([16, 17])], added_edges = [[15, 16]]\n",
      "total_soma_paths_to_cut = []\n",
      "-----------counter = 0------------\n",
      " Cut iteration 1\n",
      "Total number of graphs at the end of the split BEFORE DIRECTIONAL = 3\n",
      "self.deleted_edges = [array([22, 29]), array([29, 30]), array([15, 17]), array([16, 17])]\n",
      "self.created_edges = [[22, 30], [15, 16]]\n",
      "Total number of graphs at the end of the split AFTER DIRECTIONAL = 3\n",
      "No valid path so moving onto the next connection\n",
      "\n",
      "\n",
      "---- working on disconnecting 27 and 32\n",
      "---- This disconnects S1_0 from S1_1  \n",
      " Cut iteration 0\n",
      "Total number of graphs at the end of the split BEFORE DIRECTIONAL = 3\n",
      "self.deleted_edges = [array([22, 29]), array([29, 30]), array([15, 17]), array([16, 17])]\n",
      "self.created_edges = [[22, 30], [15, 16]]\n",
      "Total number of graphs at the end of the split AFTER DIRECTIONAL = 3\n",
      "No valid path so moving onto the next connection\n",
      "Total number of graphs at the end of the split = 3: [array([ 0,  1,  2,  3,  4,  5,  6,  7,  8,  9, 10, 11, 12, 13, 14, 15, 16,\n",
      "       18]), array([32, 17, 19, 21, 22, 30]), array([20, 23, 24, 25, 26, 27, 28, 29, 31])]\n"
     ]
    }
   ],
   "source": [
    "limb_results = pru.multi_soma_split_suggestions(neuron_obj)"
   ]
  },
  {
   "cell_type": "code",
   "execution_count": 47,
   "metadata": {},
   "outputs": [],
   "source": [
    "import numpy_utils as nu"
   ]
  },
  {
   "cell_type": "code",
   "execution_count": 58,
   "metadata": {},
   "outputs": [],
   "source": []
  },
  {
   "cell_type": "code",
   "execution_count": 60,
   "metadata": {},
   "outputs": [
    {
     "data": {
      "text/plain": [
       "[array([181472.75 , 141597.   ,  19720.525]),\n",
       " array([181862.25 , 141329.25 ,  19640.225]),\n",
       " array([182300.  , 141637.5 ,  19455.45]),\n",
       " array([182361.31059015, 143936.21346123,  19901.57849759]),\n",
       " array([183155.75, 141098.25,  19394.35]),\n",
       " array([184422.25 , 141979.5  ,  19355.875]),\n",
       " array([185069.  , 156767.25,  19494.75]),\n",
       " array([185892.91428683, 157094.0840171 ,  19512.97700774]),\n",
       " array([186058.40864881, 156596.30467485,  19523.95052801]),\n",
       " array([187244.   , 148037.25 ,  20345.825]),\n",
       " array([182782.75 , 117348.5  ,  19320.875]),\n",
       " array([183708.5 , 129100.5 ,  19431.95]),\n",
       " array([184318.  , 138352.25,  19369.55]),\n",
       " array([189050.5  , 101405.75 ,  19453.175]),\n",
       " array([190176.62637182,  98868.82754244,  19571.89690034]),\n",
       " array([190502.08984734,  99145.10212595,  19528.64431164]),\n",
       " array([190582.6059407 ,  99116.05148739,  19567.85937415]),\n",
       " array([192009.14392974,  96552.67754138,  19512.2252716 ]),\n",
       " array([182782.75 , 117348.5  ,  19320.875]),\n",
       " array([183708.5 , 129100.5 ,  19431.95]),\n",
       " array([184318.  , 138352.25,  19369.55]),\n",
       " array([189050.5  , 101405.75 ,  19453.175]),\n",
       " array([190502.08984734,  99145.10212595,  19528.64431164]),\n",
       " array([191563.28914211,  96995.37022105,  19471.78284265]),\n",
       " array([191756.46527778,  96834.77777778,  19461.68722222])]"
      ]
     },
     "execution_count": 60,
     "metadata": {},
     "output_type": "execute_result"
    }
   ],
   "source": [
    "cut_coordinates,not_cut_coordinates = get_all_cut_and_not_cut_path_coordinates(limb_results)\n",
    "cut_coordinates"
   ]
  },
  {
   "cell_type": "code",
   "execution_count": 11,
   "metadata": {},
   "outputs": [
    {
     "data": {
      "text/plain": [
       "[array([182782.75 , 117348.5  ,  19320.875]),\n",
       " array([187244.   , 148037.25 ,  20345.825]),\n",
       " array([190502.08984734,  99145.10212595,  19528.64431164])]"
      ]
     },
     "execution_count": 11,
     "metadata": {},
     "output_type": "execute_result"
    }
   ],
   "source": [
    "split_coordinates = pru.get_all_coordinate_suggestions(limb_results)\n",
    "split_coordinates"
   ]
  },
  {
   "cell_type": "code",
   "execution_count": 12,
   "metadata": {},
   "outputs": [],
   "source": [
    "slightly_off_split_coordinates = [k+100 for k in split_coordinates]"
   ]
  },
  {
   "cell_type": "code",
   "execution_count": 21,
   "metadata": {},
   "outputs": [],
   "source": [
    "import matplotlib_utils as mu"
   ]
  },
  {
   "cell_type": "code",
   "execution_count": 25,
   "metadata": {},
   "outputs": [
    {
     "data": {
      "text/plain": [
       "'#ffffff'"
      ]
     },
     "execution_count": 25,
     "metadata": {},
     "output_type": "execute_result"
    }
   ],
   "source": [
    "mu.color_to_hex(\"white\")"
   ]
  },
  {
   "cell_type": "code",
   "execution_count": 26,
   "metadata": {},
   "outputs": [
    {
     "data": {
      "text/plain": [
       "'#008000'"
      ]
     },
     "execution_count": 26,
     "metadata": {},
     "output_type": "execute_result"
    }
   ],
   "source": [
    "mu.color_to_hex(\"green\")"
   ]
  },
  {
   "cell_type": "code",
   "execution_count": 61,
   "metadata": {},
   "outputs": [],
   "source": [
    "sb_white = pru.set_state_builder(color=\"#ffffff\")\n",
    "original_df = pru.set_edit_dataframe(split_coordinates,neuron_obj.segment_id)\n",
    "\n",
    "sb_green = pru.set_state_builder(color=\"#00CCCC\")\n",
    "off_df = pru.set_edit_dataframe(cut_coordinates,neuron_obj.segment_id)"
   ]
  },
  {
   "cell_type": "code",
   "execution_count": 62,
   "metadata": {},
   "outputs": [
    {
     "data": {
      "text/html": [
       "<a href=\"https://neuromancer-seung-import.appspot.com/#!%7B%22jsonStateServer%22:%22https://globalv1.daf-apis.com/nglstate/api/v1/post%22,%22navigation%22:%7B%22pose%22:%7B%22position%22:%7B%22voxelSize%22:%5B4.0,4.0,40.0%5D,%22voxelCoordinates%22:%5B181472.75,141597.0,19720.525390625%5D%7D%7D,%22zoomFactor%22:2.0%7D,%22showSlices%22:false,%22layout%22:%22xy-3d%22,%22perspectiveZoom%22:2000.0,%22layers%22:%5B%7B%22type%22:%22image%22,%22source%22:%22precomputed://https://seungdata.princeton.edu/minnie65-phase3-em/aligned/v1%22,%22name%22:%22img%22,%22shader%22:%22#uicontrol%20float%20black%20slider(min=0,%20max=1,%20default=0.35)%5Cn#uicontrol%20float%20white%20slider(min=0,%20max=1,%20default=0.65)%5Cnfloat%20rescale(float%20value)%20%7B%5Cn%20%20return%20(value%20-%20black)%20/%20(white%20-%20black);%5Cn%7D%5Cnvoid%20main()%20%7B%5Cn%20%20float%20val%20=%20toNormalized(getDataValue());%5Cn%20%20if%20(val%20%3C%20black)%20%7B%5Cn%20%20%20%20emitRGB(vec3(0,0,0));%5Cn%20%20%7D%20else%20if%20(val%20%3E%20white)%20%7B%5Cn%20%20%20%20emitRGB(vec3(1.0,%201.0,%201.0));%5Cn%20%20%7D%20else%20%7B%5Cn%20%20%20%20emitGrayscale(rescale(val));%5Cn%20%20%7D%5Cn%7D%5Cn%22%7D,%7B%22type%22:%22segmentation_with_graph%22,%22source%22:%22graphene://https://minniev1.microns-daf.com/segmentation/table/minnie3_v1%22,%22name%22:%22seg%22,%22segments%22:%5B%22864691134988472442%22%5D,%22segmentColors%22:%7B%7D%7D,%7B%22type%22:%22annotation%22,%22linkedSegmentationLayer%22:%22seg%22,%22filterBySegmentation%22:false,%22bracketShortcutsShowSegmentation%22:true,%22annotationSelectionShowsSegmentation%22:true,%22annotationColor%22:%22#ffffff%22,%22name%22:%22split_cands%22,%22annotations%22:%5B%7B%22tagIds%22:%5B%5D,%22type%22:%22point%22,%22point%22:%5B182782.0,117348.0,19320.0%5D,%22id%22:%229e364a8471aaa15082e55265a864c7122b936dc4%22,%22segments%22:%5B%22864691134988472442%22%5D%7D,%7B%22tagIds%22:%5B%5D,%22type%22:%22point%22,%22point%22:%5B187244.0,148037.0,20345.0%5D,%22id%22:%22052def64add2fb07bfc776dad575b352ca5bf2ce%22,%22segments%22:%5B%22864691134988472442%22%5D%7D,%7B%22tagIds%22:%5B%5D,%22type%22:%22point%22,%22point%22:%5B190502.0,99145.0,19528.0%5D,%22id%22:%22c77f5ad4b71e29160528606611b9298a9f7fd0d8%22,%22segments%22:%5B%22864691134988472442%22%5D%7D,%7B%22tagIds%22:%5B%5D,%22type%22:%22point%22,%22point%22:%5B181472.0,141597.0,19720.0%5D,%22id%22:%22cadfeac56aedd1234a383dbf9c54f4bc5a075e66%22,%22segments%22:%5B%22864691134988472442%22%5D%7D,%7B%22tagIds%22:%5B%5D,%22type%22:%22point%22,%22point%22:%5B181862.0,141329.0,19640.0%5D,%22id%22:%22a58e9db51cef149304a6ccd8bc0ae3e1e2cd5449%22,%22segments%22:%5B%22864691134988472442%22%5D%7D,%7B%22tagIds%22:%5B%5D,%22type%22:%22point%22,%22point%22:%5B182300.0,141637.0,19455.0%5D,%22id%22:%226e769637c1274d14ee6f8700fc5c9c8d92ffacad%22,%22segments%22:%5B%22864691134988472442%22%5D%7D,%7B%22tagIds%22:%5B%5D,%22type%22:%22point%22,%22point%22:%5B182361.0,143936.0,19901.0%5D,%22id%22:%22b33e8b4dfad359e07d87068b7472b280288cdda4%22,%22segments%22:%5B%22864691134988472442%22%5D%7D,%7B%22tagIds%22:%5B%5D,%22type%22:%22point%22,%22point%22:%5B183155.0,141098.0,19394.0%5D,%22id%22:%229a83ced99ea28c02ce2b3d4215a12a600994bfc2%22,%22segments%22:%5B%22864691134988472442%22%5D%7D,%7B%22tagIds%22:%5B%5D,%22type%22:%22point%22,%22point%22:%5B184422.0,141979.0,19355.0%5D,%22id%22:%22b9088c367f29c4326cde0d6cd81cab2cf1024993%22,%22segments%22:%5B%22864691134988472442%22%5D%7D,%7B%22tagIds%22:%5B%5D,%22type%22:%22point%22,%22point%22:%5B185069.0,156767.0,19494.0%5D,%22id%22:%22cf97034e844f6fe9fbdc9bdf3790c020475abf98%22,%22segments%22:%5B%22864691134988472442%22%5D%7D,%7B%22tagIds%22:%5B%5D,%22type%22:%22point%22,%22point%22:%5B185892.0,157094.0,19512.0%5D,%22id%22:%223da924e6ba006490ecc750a3ab100ffdb140370e%22,%22segments%22:%5B%22864691134988472442%22%5D%7D,%7B%22tagIds%22:%5B%5D,%22type%22:%22point%22,%22point%22:%5B186058.0,156596.0,19523.0%5D,%22id%22:%228f8e0b860b171d6eb29090aa49e3a436505dca08%22,%22segments%22:%5B%22864691134988472442%22%5D%7D,%7B%22tagIds%22:%5B%5D,%22type%22:%22point%22,%22point%22:%5B187244.0,148037.0,20345.0%5D,%22id%22:%220bff6a8222384834dd0a73a54a90fbc2f300d9a5%22,%22segments%22:%5B%22864691134988472442%22%5D%7D,%7B%22tagIds%22:%5B%5D,%22type%22:%22point%22,%22point%22:%5B182782.0,117348.0,19320.0%5D,%22id%22:%22925c6d4b020bd711468b9c85c9497094a0a7b2df%22,%22segments%22:%5B%22864691134988472442%22%5D%7D,%7B%22tagIds%22:%5B%5D,%22type%22:%22point%22,%22point%22:%5B183708.0,129100.0,19431.0%5D,%22id%22:%223c45b6ac564b549f59a47d3104b7ecaa1031f58d%22,%22segments%22:%5B%22864691134988472442%22%5D%7D,%7B%22tagIds%22:%5B%5D,%22type%22:%22point%22,%22point%22:%5B184318.0,138352.0,19369.0%5D,%22id%22:%22194883a6231d7d7c3985c9ec25d41c3bd50ec6c4%22,%22segments%22:%5B%22864691134988472442%22%5D%7D,%7B%22tagIds%22:%5B%5D,%22type%22:%22point%22,%22point%22:%5B189050.0,101405.0,19453.0%5D,%22id%22:%220e5ebe6afd8b8344c20f678470158cea531d47e3%22,%22segments%22:%5B%22864691134988472442%22%5D%7D,%7B%22tagIds%22:%5B%5D,%22type%22:%22point%22,%22point%22:%5B190176.0,98868.0,19571.0%5D,%22id%22:%22ecd525c534f2d37aa895d31daf4cc0e6c070051f%22,%22segments%22:%5B%22864691134988472442%22%5D%7D,%7B%22tagIds%22:%5B%5D,%22type%22:%22point%22,%22point%22:%5B190502.0,99145.0,19528.0%5D,%22id%22:%22a05fc0a87d27c9c1f993007b89f24f0143a57596%22,%22segments%22:%5B%22864691134988472442%22%5D%7D,%7B%22tagIds%22:%5B%5D,%22type%22:%22point%22,%22point%22:%5B190582.0,99116.0,19567.0%5D,%22id%22:%22750ec6cf5108e91f7affce96139f11aa74133a2f%22,%22segments%22:%5B%22864691134988472442%22%5D%7D,%7B%22tagIds%22:%5B%5D,%22type%22:%22point%22,%22point%22:%5B192009.0,96552.0,19512.0%5D,%22id%22:%2261c13bdef8c69c0c159c9e93fcc1113fac7e7940%22,%22segments%22:%5B%22864691134988472442%22%5D%7D,%7B%22tagIds%22:%5B%5D,%22type%22:%22point%22,%22point%22:%5B182782.0,117348.0,19320.0%5D,%22id%22:%229ea67432fb000c34079eddcf62e55614e7566653%22,%22segments%22:%5B%22864691134988472442%22%5D%7D,%7B%22tagIds%22:%5B%5D,%22type%22:%22point%22,%22point%22:%5B183708.0,129100.0,19431.0%5D,%22id%22:%2226293a02486cc6a9abd2befe87cade88ccdc723b%22,%22segments%22:%5B%22864691134988472442%22%5D%7D,%7B%22tagIds%22:%5B%5D,%22type%22:%22point%22,%22point%22:%5B184318.0,138352.0,19369.0%5D,%22id%22:%22210c1ac92dcef5bc98c122b53c514eafd3268764%22,%22segments%22:%5B%22864691134988472442%22%5D%7D,%7B%22tagIds%22:%5B%5D,%22type%22:%22point%22,%22point%22:%5B189050.0,101405.0,19453.0%5D,%22id%22:%228b3e2adfe14908c1646937c1a22c863637074816%22,%22segments%22:%5B%22864691134988472442%22%5D%7D,%7B%22tagIds%22:%5B%5D,%22type%22:%22point%22,%22point%22:%5B190502.0,99145.0,19528.0%5D,%22id%22:%22a780077d55eb43436aa580933f1fef4c19c3a173%22,%22segments%22:%5B%22864691134988472442%22%5D%7D,%7B%22tagIds%22:%5B%5D,%22type%22:%22point%22,%22point%22:%5B191563.0,96995.0,19471.0%5D,%22id%22:%22a66915e132c94467d4c48799321c4f490bcd57b9%22,%22segments%22:%5B%22864691134988472442%22%5D%7D,%7B%22tagIds%22:%5B%5D,%22type%22:%22point%22,%22point%22:%5B191756.0,96834.0,19461.0%5D,%22id%22:%22499d53b3ae0db9e1cd87e7c346d2126042e4f3d1%22,%22segments%22:%5B%22864691134988472442%22%5D%7D%5D%7D%5D,%22selectedLayer%22:%7B%22layer%22:%22split_cands%22,%22visible%22:true%7D%7D\" target=\"_blank\">Neuroglancer Link</a>"
      ],
      "text/plain": [
       "<IPython.core.display.HTML object>"
      ]
     },
     "execution_count": 62,
     "metadata": {},
     "output_type": "execute_result"
    }
   ],
   "source": [
    "# Chained state builder\n",
    "chained_sb = statebuilder.ChainedStateBuilder([sb_white, sb_green])\n",
    "chained_sb.render_state([original_df, off_df], return_as='html')"
   ]
  },
  {
   "cell_type": "code",
   "execution_count": null,
   "metadata": {},
   "outputs": [],
   "source": [
    "neuroglancer_split_link(split_coordinates,\n",
    "                          neuron_obj.segment_id)"
   ]
  },
  {
   "cell_type": "code",
   "execution_count": null,
   "metadata": {},
   "outputs": [],
   "source": [
    "neuron_obj.mesh.merge_vertices()"
   ]
  },
  {
   "cell_type": "code",
   "execution_count": null,
   "metadata": {},
   "outputs": [],
   "source": []
  }
 ],
 "metadata": {
  "kernelspec": {
   "display_name": "Python 3",
   "language": "python",
   "name": "python3"
  },
  "language_info": {
   "codemirror_mode": {
    "name": "ipython",
    "version": 3
   },
   "file_extension": ".py",
   "mimetype": "text/x-python",
   "name": "python",
   "nbconvert_exporter": "python",
   "pygments_lexer": "ipython3",
   "version": "3.6.9"
  }
 },
 "nbformat": 4,
 "nbformat_minor": 4
}
