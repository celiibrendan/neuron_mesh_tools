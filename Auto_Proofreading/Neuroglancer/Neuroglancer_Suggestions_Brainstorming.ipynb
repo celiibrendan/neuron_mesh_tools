{
 "cells": [
  {
   "cell_type": "code",
   "execution_count": 1,
   "metadata": {},
   "outputs": [
    {
     "data": {
      "text/plain": [
       "'\\n1/2/21\\n\\nPurpose: To experiment how to make annotations in neuroglancer\\n\\n'"
      ]
     },
     "execution_count": 1,
     "metadata": {},
     "output_type": "execute_result"
    }
   ],
   "source": [
    "\"\"\"\n",
    "1/2/21\n",
    "\n",
    "Purpose: To experiment how to make annotations in neuroglancer\n",
    "\n",
    "\"\"\""
   ]
  },
  {
   "cell_type": "code",
   "execution_count": 14,
   "metadata": {},
   "outputs": [],
   "source": [
    "%load_ext autoreload\n",
    "%autoreload 2"
   ]
  },
  {
   "cell_type": "code",
   "execution_count": 3,
   "metadata": {},
   "outputs": [],
   "source": [
    "import pandas as pd\n",
    "from annotationframeworkclient import FrameworkClient\n",
    "from nglui import statebuilder"
   ]
  },
  {
   "cell_type": "code",
   "execution_count": 4,
   "metadata": {},
   "outputs": [],
   "source": [
    "client = FrameworkClient('minnie65_phase3_v1')\n",
    "split_locs = [[135975, 104575, 22699],\n",
    "              [146291, 126873, 20716]]\n",
    "root_ids = [864691135855627566, 864691135855627566]\n",
    "priority = [2, 1]\n",
    "# Dummy split dataframe\n",
    "edit_df = pd.DataFrame({'split_location': split_locs,\n",
    "                        'root_id': root_ids,\n",
    "                        'priority': priority})\n",
    "\n",
    "# The following generates a statebuilder that can turn dataframes into neuroglancer states\n",
    "img_layer = statebuilder.ImageLayerConfig(client.info.image_source(), contrast_controls=True, black=0.35, white=0.65)\n",
    "seg_layer = statebuilder.SegmentationLayerConfig(client.info.segmentation_source(), selected_ids_column='root_id')\n",
    "pts = statebuilder.PointMapper('split_location', linked_segmentation_column='root_id', set_position=True)\n",
    "anno_layer = statebuilder.AnnotationLayerConfig('split_cands', mapping_rules=pts, linked_segmentation_layer=seg_layer.name, color='#FFFFFF', active=True)\n",
    "sb = statebuilder.StateBuilder([img_layer, seg_layer, anno_layer], state_server=client.state.state_service_endpoint)"
   ]
  },
  {
   "cell_type": "code",
   "execution_count": 5,
   "metadata": {},
   "outputs": [
    {
     "data": {
      "text/html": [
       "<a href=\"https://neuromancer-seung-import.appspot.com/#!%7B%22jsonStateServer%22:%22https://globalv1.daf-apis.com/nglstate/api/v1/post%22,%22navigation%22:%7B%22pose%22:%7B%22position%22:%7B%22voxelSize%22:%5B4.0,4.0,40.0%5D,%22voxelCoordinates%22:%5B146291.0,126873.0,20716.0%5D%7D%7D,%22zoomFactor%22:2.0%7D,%22showSlices%22:false,%22layout%22:%22xy-3d%22,%22perspectiveZoom%22:2000.0,%22layers%22:%5B%7B%22type%22:%22image%22,%22source%22:%22precomputed://https://seungdata.princeton.edu/minnie65-phase3-em/aligned/v1%22,%22name%22:%22img%22,%22shader%22:%22#uicontrol%20float%20black%20slider(min=0,%20max=1,%20default=0.35)%5Cn#uicontrol%20float%20white%20slider(min=0,%20max=1,%20default=0.65)%5Cnfloat%20rescale(float%20value)%20%7B%5Cn%20%20return%20(value%20-%20black)%20/%20(white%20-%20black);%5Cn%7D%5Cnvoid%20main()%20%7B%5Cn%20%20float%20val%20=%20toNormalized(getDataValue());%5Cn%20%20if%20(val%20%3C%20black)%20%7B%5Cn%20%20%20%20emitRGB(vec3(0,0,0));%5Cn%20%20%7D%20else%20if%20(val%20%3E%20white)%20%7B%5Cn%20%20%20%20emitRGB(vec3(1.0,%201.0,%201.0));%5Cn%20%20%7D%20else%20%7B%5Cn%20%20%20%20emitGrayscale(rescale(val));%5Cn%20%20%7D%5Cn%7D%5Cn%22%7D,%7B%22type%22:%22segmentation_with_graph%22,%22source%22:%22graphene://https://minniev1.microns-daf.com/segmentation/table/minnie3_v1%22,%22name%22:%22seg%22,%22segments%22:%5B%22864691135855627566%22%5D,%22segmentColors%22:%7B%7D%7D,%7B%22type%22:%22annotation%22,%22linkedSegmentationLayer%22:%22seg%22,%22filterBySegmentation%22:false,%22bracketShortcutsShowSegmentation%22:true,%22annotationSelectionShowsSegmentation%22:true,%22annotationColor%22:%22#FFFFFF%22,%22name%22:%22split_cands%22,%22annotations%22:%5B%7B%22tagIds%22:%5B%5D,%22type%22:%22point%22,%22point%22:%5B146291.0,126873.0,20716.0%5D,%22id%22:%22956476251a33a18ff484f217f1266d7079f84d8c%22,%22segments%22:%5B%22864691135855627566%22%5D%7D,%7B%22tagIds%22:%5B%5D,%22type%22:%22point%22,%22point%22:%5B135975.0,104575.0,22699.0%5D,%22id%22:%225dade768df873f5d9761e3e028968c3f79370ce2%22,%22segments%22:%5B%22864691135855627566%22%5D%7D%5D%7D%5D,%22selectedLayer%22:%7B%22layer%22:%22split_cands%22,%22visible%22:true%7D%7D\" target=\"_blank\">Neuroglancer Link</a>"
      ],
      "text/plain": [
       "<IPython.core.display.HTML object>"
      ]
     },
     "execution_count": 5,
     "metadata": {},
     "output_type": "execute_result"
    }
   ],
   "source": [
    "# To test locally:\n",
    "# Note that the annotations are created in order, so sorting the dataframe should sort the annotations\n",
    "sb.render_state(edit_df.sort_values(by='priority'), return_as='html')"
   ]
  },
  {
   "cell_type": "code",
   "execution_count": null,
   "metadata": {},
   "outputs": [],
   "source": [
    "# # To upload to the state server for a shortened URL:\n",
    "# state = sb.render_state(edit_df.sort_values(by='priority'), return_as='dict')\n",
    "# state_id = client.state.upload_state_json(state)\n",
    "# short_url = client.state.build_neuroglancer_url(state_id, ngl_url=client.info.viewer_site())\n",
    "# print(short_url)"
   ]
  },
  {
   "cell_type": "markdown",
   "metadata": {},
   "source": [
    "# Function for Generating Neuroglancer Link"
   ]
  },
  {
   "cell_type": "code",
   "execution_count": 17,
   "metadata": {},
   "outputs": [
    {
     "data": {
      "text/html": [
       "<a href=\"https://neuromancer-seung-import.appspot.com/#!%7B%22jsonStateServer%22:%22https://globalv1.daf-apis.com/nglstate/api/v1/post%22,%22navigation%22:%7B%22pose%22:%7B%22position%22:%7B%22voxelSize%22:%5B4.0,4.0,40.0%5D,%22voxelCoordinates%22:%5B135975.0,104575.0,22699.0%5D%7D%7D,%22zoomFactor%22:2.0%7D,%22showSlices%22:false,%22layout%22:%22xy-3d%22,%22perspectiveZoom%22:2000.0,%22layers%22:%5B%7B%22type%22:%22image%22,%22source%22:%22precomputed://https://seungdata.princeton.edu/minnie65-phase3-em/aligned/v1%22,%22name%22:%22img%22,%22shader%22:%22#uicontrol%20float%20black%20slider(min=0,%20max=1,%20default=0.35)%5Cn#uicontrol%20float%20white%20slider(min=0,%20max=1,%20default=0.65)%5Cnfloat%20rescale(float%20value)%20%7B%5Cn%20%20return%20(value%20-%20black)%20/%20(white%20-%20black);%5Cn%7D%5Cnvoid%20main()%20%7B%5Cn%20%20float%20val%20=%20toNormalized(getDataValue());%5Cn%20%20if%20(val%20%3C%20black)%20%7B%5Cn%20%20%20%20emitRGB(vec3(0,0,0));%5Cn%20%20%7D%20else%20if%20(val%20%3E%20white)%20%7B%5Cn%20%20%20%20emitRGB(vec3(1.0,%201.0,%201.0));%5Cn%20%20%7D%20else%20%7B%5Cn%20%20%20%20emitGrayscale(rescale(val));%5Cn%20%20%7D%5Cn%7D%5Cn%22%7D,%7B%22type%22:%22segmentation_with_graph%22,%22source%22:%22graphene://https://minniev1.microns-daf.com/segmentation/table/minnie3_v1%22,%22name%22:%22seg%22,%22segments%22:%5B%22864691135855627566%22%5D,%22segmentColors%22:%7B%7D%7D,%7B%22type%22:%22annotation%22,%22linkedSegmentationLayer%22:%22seg%22,%22filterBySegmentation%22:false,%22bracketShortcutsShowSegmentation%22:true,%22annotationSelectionShowsSegmentation%22:true,%22annotationColor%22:%22#FFFFFF%22,%22name%22:%22split_cands%22,%22annotations%22:%5B%7B%22tagIds%22:%5B%5D,%22type%22:%22point%22,%22point%22:%5B135975.0,104575.0,22699.0%5D,%22id%22:%22d72f1153acd91958630b6b21ac414dee67d3639c%22,%22segments%22:%5B%22864691135855627566%22%5D%7D,%7B%22tagIds%22:%5B%5D,%22type%22:%22point%22,%22point%22:%5B146291.0,126873.0,20716.0%5D,%22id%22:%228c75af6b59fe28593dfc6fd722819dd71d1c159b%22,%22segments%22:%5B%22864691135855627566%22%5D%7D%5D%7D%5D,%22selectedLayer%22:%7B%22layer%22:%22split_cands%22,%22visible%22:true%7D%7D\" target=\"_blank\">Neuroglancer Link</a>"
      ],
      "text/plain": [
       "<IPython.core.display.HTML object>"
      ]
     },
     "execution_count": 17,
     "metadata": {},
     "output_type": "execute_result"
    }
   ],
   "source": [
    "import numpy as np\n",
    "import numpy_utils as nu\n",
    "\n",
    "def set_state_builder():\n",
    "    client = FrameworkClient('minnie65_phase3_v1')\n",
    "    # The following generates a statebuilder that can turn dataframes into neuroglancer states\n",
    "    img_layer = statebuilder.ImageLayerConfig(client.info.image_source(), contrast_controls=True, black=0.35, white=0.65)\n",
    "    seg_layer = statebuilder.SegmentationLayerConfig(client.info.segmentation_source(), selected_ids_column='root_id')\n",
    "    pts = statebuilder.PointMapper('split_location', linked_segmentation_column='root_id', set_position=True)\n",
    "    anno_layer = statebuilder.AnnotationLayerConfig('split_cands', mapping_rules=pts, linked_segmentation_layer=seg_layer.name, color='#FFFFFF', active=True)\n",
    "    sb = statebuilder.StateBuilder([img_layer, seg_layer, anno_layer], state_server=client.state.state_service_endpoint)\n",
    "    return sb\n",
    "\n",
    "def set_edit_dataframe(split_locs,\n",
    "                      root_ids,\n",
    "                      priority=None,\n",
    "                      ):\n",
    "    \"\"\"\n",
    "    Will create a dataframe that can be fed into a statebuilder\n",
    "    to generate a neuroglancer link\n",
    "    \n",
    "    \"\"\"\n",
    "    if priority is None:\n",
    "        priority = list(np.arange(1,len(split_locs)+1))\n",
    "        \n",
    "    if not nu.is_array_like(root_ids):\n",
    "        root_ids = [root_ids]*len(split_locs)\n",
    "        \n",
    "    edit_df = pd.DataFrame({'split_location': split_locs,\n",
    "                            'root_id': root_ids,\n",
    "                            'priority': priority})\n",
    "    return edit_df\n",
    "\n",
    "def neuroglancer_split_link(split_locs,\n",
    "                      root_ids,\n",
    "                      priority=None):\n",
    "    \n",
    "    edit_df = set_edit_dataframe(split_locs,\n",
    "                      root_ids,\n",
    "                      priority,\n",
    "                      )\n",
    "    \n",
    "    return sb.render_state(edit_df.sort_values(by='priority'), return_as='html')\n",
    "    \n",
    "\n",
    "\n",
    "split_locs = [[135975, 104575, 22699],\n",
    "                  [146291, 126873, 20716]]\n",
    "root_ids = [864691135855627566, 864691135855627566]\n",
    "root_ids = 864691135855627566\n",
    "#priority = [2, 1]\n",
    "# Dummy split dataframe\n",
    "\n",
    "set_edit_dataframe(split_locs,\n",
    "                  root_ids)\n",
    "\n",
    "neuroglancer_split_link(split_locs,\n",
    "                          root_ids)"
   ]
  },
  {
   "cell_type": "markdown",
   "metadata": {},
   "source": [
    "# Trying the Test Setup for Getting a Neuron, Getting the suggestions for splits and then creating a neuroglancer link"
   ]
  },
  {
   "cell_type": "code",
   "execution_count": 6,
   "metadata": {},
   "outputs": [],
   "source": [
    "from os import sys\n",
    "sys.path.append(\"/meshAfterParty/\")"
   ]
  },
  {
   "cell_type": "code",
   "execution_count": 8,
   "metadata": {},
   "outputs": [],
   "source": [
    "import neuron_utils as nru\n",
    "import neuron_visualizations as nviz"
   ]
  },
  {
   "cell_type": "code",
   "execution_count": 9,
   "metadata": {},
   "outputs": [
    {
     "name": "stdout",
     "output_type": "stream",
     "text": [
      "Decompressing Neuron in minimal output mode...please wait\n"
     ]
    },
    {
     "data": {
      "text/plain": [
       "<neuron.Neuron at 0x7f5a544be128>"
      ]
     },
     "execution_count": 9,
     "metadata": {},
     "output_type": "execute_result"
    }
   ],
   "source": [
    "test_file = \"864691134988472442_0_25\"\n",
    "\n",
    "curr_file_path = \"/notebooks/test_neurons/Segmentation_3/Multi_Soma/\" + test_file\n",
    "neuron_obj = nru.decompress_neuron(curr_file_path,curr_file_path)\n",
    "neuron_obj"
   ]
  },
  {
   "cell_type": "code",
   "execution_count": 18,
   "metadata": {},
   "outputs": [
    {
     "name": "stdout",
     "output_type": "stream",
     "text": [
      "\n",
      " Working on visualization type: mesh\n",
      "\n",
      " Working on visualization type: skeleton\n"
     ]
    },
    {
     "data": {
      "application/vnd.jupyter.widget-view+json": {
       "model_id": "5dfce13736954a45bd0c106680d93693",
       "version_major": 2,
       "version_minor": 0
      },
      "text/plain": [
       "VBox(children=(Figure(camera=PerspectiveCamera(fov=46.0, position=(0.0, 0.0, 2.0), quaternion=(0.0, 0.0, 0.0, …"
      ]
     },
     "metadata": {},
     "output_type": "display_data"
    }
   ],
   "source": [
    "nviz.visualize_neuron(neuron_obj,\n",
    "                     visualize_type=[\"mesh\",\"skeleton\"],\n",
    "                     limb_branch_dict=\"all\")"
   ]
  },
  {
   "cell_type": "markdown",
   "metadata": {},
   "source": [
    "# Getting the Proofreading Suggestions"
   ]
  },
  {
   "cell_type": "code",
   "execution_count": 19,
   "metadata": {},
   "outputs": [],
   "source": [
    "import proofreading_utils as pru"
   ]
  },
  {
   "cell_type": "code",
   "execution_count": 21,
   "metadata": {},
   "outputs": [
    {
     "name": "stdout",
     "output_type": "stream",
     "text": [
      "multi_soma_limbs = [1]\n",
      "multi_touch_limbs = [0 1]\n",
      "\n",
      "\n",
      " -------- Working on limb 0------------\n",
      "Starting combinations to process = [(73, 68)]\n",
      "\n",
      "\n",
      "---- working on disconnecting 73 and 68\n",
      "---- This disconnects S0_0 from S0_1  \n",
      " Cut iteration 0\n",
      "Shortest path = [73, 79, 83, 80, 69, 63, 64, 65, 68]\n",
      "Short segments to combine = []\n",
      "Found 1 high degree coordinates to cut\n",
      "Picking [748976. 592149. 813833.] high degree coordinates to cut\n",
      "coordinate_branches = [69, 80, 90, 93]\n",
      "69 = red\n",
      "80 = aqua\n",
      "90 = purple\n",
      "93 = green\n",
      "Angle between 69 and 80 = 109.65 \n",
      "Angle between 69 and 90 = 79.41 \n",
      "Angle between 69 and 93 = 28.39 \n",
      "Angle between 80 and 90 = 10.4 \n",
      "Angle between 80 and 93 = 97.06 \n",
      "Angle between 90 and 93 = 73.21 \n",
      "Final Matches = [[69, 93], [80, 90]]\n",
      "matched_branches_revised = [[80, 90], [69, 93]]\n",
      "Original graph\n"
     ]
    },
    {
     "data": {
      "image/png": "[encoded data removed]",
      "text/plain": [
       "<Figure size 432x288 with 1 Axes>"
      ]
     },
     "metadata": {},
     "output_type": "display_data"
    },
    {
     "name": "stdout",
     "output_type": "stream",
     "text": [
      "edges_to_delete = [array([69, 80]), array([80, 93])]\n",
      "edges_to_create = [array([69, 93])]\n",
      "skip_nodes = []\n",
      "edges_to_delete = [array([69, 80]), array([80, 93])]\n",
      "edges_to_create = [array([69, 93])]\n",
      "Accepted edge ((69, 93))\n",
      "Number of connected components = 2\n",
      "Comp 0 = {1, 2, 5, 6, 7, 8, 9, 11, 12, 13, 14, 15, 16, 17, 18, 20, 21, 22, 23, 24, 26, 28, 30, 31, 32, 36, 37, 38, 39, 42, 43, 45, 46, 48, 49, 50, 51, 52, 53, 54, 56, 57, 58, 59, 60, 61, 62, 72, 73, 74, 75, 76, 77, 78, 79, 80, 81, 82, 83, 84, 85, 86, 87, 89, 90, 91, 94, 95, 96, 97, 98, 101, 102, 103, 104, 105, 106, 107, 108, 109, 110, 111, 112, 113, 114, 115, 116, 117, 118, 119, 120, 121, 122, 123, 124, 125, 126, 127, 128, 129, 130, 131, 132, 133, 134, 135, 136, 137, 138, 139, 140, 141, 142, 143, 144, 145, 146, 147, 148, 149, 150, 151, 152, 153}\n",
      "Comp 1 = {0, 3, 4, 10, 19, 25, 27, 29, 33, 34, 35, 40, 41, 44, 47, 55, 63, 64, 65, 66, 67, 68, 69, 70, 71, 88, 92, 93, 99, 100}\n",
      "After get best cut: cut_edges = [array([69, 80]), array([80, 93])], added_edges = [[69, 93]]\n",
      " Cut iteration 1\n",
      "No valid path so moving onto the next connection\n",
      "Total number of graphs at the end of the split = 2\n",
      "\n",
      "\n",
      " -------- Working on limb 1------------\n",
      "Starting combinations to process = [(18, 27), (18, 32), (27, 32)]\n",
      "\n",
      "\n",
      "---- working on disconnecting 18 and 27\n",
      "---- This disconnects S0_0 from S1_0  \n",
      " Cut iteration 0\n",
      "Shortest path = [18, 16, 17, 22, 29, 28, 27]\n",
      "Short segments to combine = []\n",
      "Found 0 high degree coordinates to cut\n",
      "skip_nodes = []\n",
      "\n",
      "Attempting the doubling back check (symmetrical so don't need to check from both sides)\n"
     ]
    },
    {
     "data": {
      "application/vnd.jupyter.widget-view+json": {
       "model_id": "58c96b79ed9648e79589e31647ba7e37",
       "version_major": 2,
       "version_minor": 0
      },
      "text/plain": [
       "HBox(children=(FloatProgress(value=0.0, max=6.0), HTML(value='')))"
      ]
     },
     "metadata": {},
     "output_type": "display_data"
    },
    {
     "name": "stdout",
     "output_type": "stream",
     "text": [
      "  Edge: [18 16]: curr_angle = 33.78\n",
      "  Edge: [16 17]: curr_angle = 28.86\n",
      "  Edge: [17 22]: curr_angle = 22.3\n",
      "  Edge: [22 29]: curr_angle = 75.6\n",
      "  Edge: [29 28]: curr_angle = 87.43\n",
      "  Edge: [28 27]: curr_angle = 74.26\n",
      "\n",
      "Total time for doubling_back = 0.5032072067260742\n",
      "\n",
      "Attempting the width jump check (attempting from both sides)\n",
      "  Edge: [18 16]: jump = -143.4\n",
      "  Edge: [16 17]: jump = -209.54\n",
      "  Edge: [17 22]: jump = -52.75\n",
      "  Edge: [22 29]: jump = -153.65\n",
      "  Edge: [29 28]: jump = -265.44\n",
      "  Edge: [28 27]: jump = -20.26\n",
      "Total time for width = 0.46906137466430664\n",
      "Path starting at 18 had err_edges: []\n",
      "  Edge: [27 28]: jump = -33.28\n",
      "  Edge: [28 29]: jump = 26.12\n",
      "  Edge: [29 22]: jump = 215.43\n",
      "Adding error edge [29 22] because width jump was 215.42750548940094\n",
      "  Edge: [22 17]: jump = 52.75\n",
      "  Edge: [17 16]: jump = 209.54\n",
      "Adding error edge [17 16] because width jump was 209.5392790102727\n",
      "  Edge: [16 18]: jump = 143.4\n",
      "Total time for width = 0.45685315132141113\n",
      "Path starting at 27 had err_edges: [[29, 22], [17, 16]]\n",
      "first_error_sizes = [-inf, 215.42750548940094], winning_path = 1\n",
      "coordinate_branches = [22, 29, 30]\n",
      "22 = red\n",
      "29 = aqua\n",
      "30 = purple\n",
      "Angle between 22 and 29 = 73.4 \n",
      "Angle between 22 and 30 = 28.09 \n",
      "Angle between 29 and 30 = 79.32 \n",
      "Final Matches = [[22, 30]]\n",
      "matched_branches_revised = [[22, 30]]\n",
      "Original graph\n"
     ]
    },
    {
     "data": {
      "image/png": "[encoded data removed]",
      "text/plain": [
       "<Figure size 432x288 with 1 Axes>"
      ]
     },
     "metadata": {},
     "output_type": "display_data"
    },
    {
     "name": "stdout",
     "output_type": "stream",
     "text": [
      "edges_to_delete = [array([22, 29])]\n",
      "edges_to_create = []\n",
      "edges_to_delete = [array([22, 29])]\n",
      "edges_to_create = []\n",
      "Number of connected components = 2\n",
      "Comp 0 = {0, 1, 2, 3, 4, 5, 6, 7, 8, 9, 10, 11, 12, 13, 14, 15, 16, 17, 18, 19, 21, 22, 30, 32}\n",
      "Comp 1 = {20, 23, 24, 25, 26, 27, 28, 29, 31}\n",
      "After get best cut: cut_edges = [array([22, 29])], added_edges = []\n",
      " Cut iteration 1\n",
      "No valid path so moving onto the next connection\n",
      "\n",
      "\n",
      "---- working on disconnecting 18 and 32\n",
      "---- This disconnects S0_0 from S1_1  \n",
      " Cut iteration 0\n",
      "Shortest path = [18, 16, 17, 22, 30, 32]\n",
      "Short segments to combine = []\n",
      "Found 0 high degree coordinates to cut\n",
      "Skipping endnode 32 because skeletal distance was 1082.952315921617 and threshold was 2500\n",
      "skip_nodes = [32]\n",
      "\n",
      "Attempting the doubling back check (symmetrical so don't need to check from both sides)\n"
     ]
    },
    {
     "data": {
      "application/vnd.jupyter.widget-view+json": {
       "model_id": "c45ee68513f54787a6f957bd8211d82f",
       "version_major": 2,
       "version_minor": 0
      },
      "text/plain": [
       "HBox(children=(FloatProgress(value=0.0, max=4.0), HTML(value='')))"
      ]
     },
     "metadata": {},
     "output_type": "display_data"
    },
    {
     "name": "stdout",
     "output_type": "stream",
     "text": [
      "  Edge: [18 16]: curr_angle = 33.78\n",
      "  Edge: [16 17]: curr_angle = 28.86\n",
      "  Edge: [17 22]: curr_angle = 22.3\n",
      "  Edge: [22 30]: curr_angle = 16.9\n",
      "\n",
      "Total time for doubling_back = 0.5277116298675537\n",
      "\n",
      "Attempting the width jump check (attempting from both sides)\n",
      "  Edge: [18 16]: jump = -143.4\n",
      "  Edge: [16 17]: jump = -209.54\n",
      "  Edge: [17 22]: jump = -52.75\n",
      "  Edge: [22 30]: jump = -89.83\n",
      "Total time for width = 0.5650882720947266\n",
      "Path starting at 18 had err_edges: []\n",
      "  Edge: [30 22]: jump = 89.83\n",
      "  Edge: [22 17]: jump = 52.75\n",
      "  Edge: [17 16]: jump = 209.54\n",
      "Adding error edge [17 16] because width jump was 209.5392790102727\n",
      "  Edge: [16 18]: jump = 143.4\n",
      "Total time for width = 0.4630472660064697\n",
      "Path starting at 32 had err_edges: [[17, 16]]\n",
      "first_error_sizes = [-inf, 209.5392790102727], winning_path = 1\n",
      "coordinate_branches = [15, 16, 17]\n",
      "15 = red\n",
      "16 = aqua\n",
      "17 = purple\n",
      "Angle between 15 and 16 = 25.15 \n",
      "Angle between 15 and 17 = 118.19 \n",
      "Angle between 16 and 17 = 38.68 \n",
      "Final Matches = [[15, 16]]\n",
      "matched_branches_revised = [[15, 16]]\n",
      "Original graph\n"
     ]
    },
    {
     "data": {
      "image/png": "[encoded data removed]",
      "text/plain": [
       "<Figure size 432x288 with 1 Axes>"
      ]
     },
     "metadata": {},
     "output_type": "display_data"
    },
    {
     "name": "stdout",
     "output_type": "stream",
     "text": [
      "edges_to_delete = [array([16, 17])]\n",
      "edges_to_create = []\n",
      "edges_to_delete = [array([16, 17])]\n",
      "edges_to_create = []\n",
      "Number of connected components = 3\n",
      "Comp 0 = {0, 1, 2, 3, 4, 5, 6, 7, 8, 9, 10, 11, 12, 13, 14, 15, 16, 18}\n",
      "Comp 1 = {32, 17, 19, 21, 22, 30}\n",
      "Comp 2 = {20, 23, 24, 25, 26, 27, 28, 29, 31}\n",
      "After get best cut: cut_edges = [array([16, 17])], added_edges = []\n",
      " Cut iteration 1\n",
      "No valid path so moving onto the next connection\n",
      "\n",
      "\n",
      "---- working on disconnecting 27 and 32\n",
      "---- This disconnects S1_0 from S1_1  \n",
      " Cut iteration 0\n",
      "No valid path so moving onto the next connection\n",
      "Total number of graphs at the end of the split = 3\n"
     ]
    },
    {
     "data": {
      "text/plain": [
       "{0: [{'starting_node_1': 73,\n",
       "   'starting_node_2': 68,\n",
       "   'title': 'S0_0 from S0_1 ',\n",
       "   'edges_to_delete': [array([69, 80]), array([80, 93])],\n",
       "   'edges_to_create': [[69, 93]],\n",
       "   'removed_branches': [],\n",
       "   'coordinate_suggestions': [array([748976., 592149., 813833.]),\n",
       "    array([748976., 592149., 813833.])],\n",
       "   'successful_disconnection': True}],\n",
       " 1: [{'starting_node_1': 18,\n",
       "   'starting_node_2': 27,\n",
       "   'title': 'S0_0 from S1_0 ',\n",
       "   'edges_to_delete': [array([22, 29])],\n",
       "   'edges_to_create': [],\n",
       "   'removed_branches': [],\n",
       "   'coordinate_suggestions': [array([762008.35938938, 396580.40850378, 781145.77246566])],\n",
       "   'successful_disconnection': True},\n",
       "  {'starting_node_1': 18,\n",
       "   'starting_node_2': 32,\n",
       "   'title': 'S0_0 from S1_1 ',\n",
       "   'edges_to_delete': [array([16, 17])],\n",
       "   'edges_to_create': [],\n",
       "   'removed_branches': [],\n",
       "   'coordinate_suggestions': [array([731131., 469394., 772835.])],\n",
       "   'successful_disconnection': True},\n",
       "  {'starting_node_1': 27,\n",
       "   'starting_node_2': 32,\n",
       "   'title': 'S1_0 from S1_1 ',\n",
       "   'edges_to_delete': [],\n",
       "   'edges_to_create': [],\n",
       "   'removed_branches': [],\n",
       "   'coordinate_suggestions': [],\n",
       "   'successful_disconnection': True}]}"
      ]
     },
     "execution_count": 21,
     "metadata": {},
     "output_type": "execute_result"
    }
   ],
   "source": [
    "limb_results = pru.multi_soma_split_suggestions(neuron_obj)"
   ]
  },
  {
   "cell_type": "code",
   "execution_count": 36,
   "metadata": {},
   "outputs": [
    {
     "data": {
      "text/plain": [
       "[array([182782.75 , 117348.5  ,  19320.875]),\n",
       " array([187244.   , 148037.25 ,  20345.825]),\n",
       " array([190502.08984734,  99145.10212595,  19528.64431164])]"
      ]
     },
     "execution_count": 36,
     "metadata": {},
     "output_type": "execute_result"
    }
   ],
   "source": [
    "split_coordinates = pru.get_all_coordinate_suggestions(limb_results)\n",
    "split_coordinates"
   ]
  },
  {
   "cell_type": "code",
   "execution_count": 34,
   "metadata": {},
   "outputs": [
    {
     "data": {
      "text/html": [
       "<a href=\"https://neuromancer-seung-import.appspot.com/#!%7B%22jsonStateServer%22:%22https://globalv1.daf-apis.com/nglstate/api/v1/post%22,%22navigation%22:%7B%22pose%22:%7B%22position%22:%7B%22voxelSize%22:%5B4.0,4.0,40.0%5D,%22voxelCoordinates%22:%5B187244.0,148037.25,20345.82421875%5D%7D%7D,%22zoomFactor%22:2.0%7D,%22showSlices%22:false,%22layout%22:%22xy-3d%22,%22perspectiveZoom%22:2000.0,%22layers%22:%5B%7B%22type%22:%22image%22,%22source%22:%22precomputed://https://seungdata.princeton.edu/minnie65-phase3-em/aligned/v1%22,%22name%22:%22img%22,%22shader%22:%22#uicontrol%20float%20black%20slider(min=0,%20max=1,%20default=0.35)%5Cn#uicontrol%20float%20white%20slider(min=0,%20max=1,%20default=0.65)%5Cnfloat%20rescale(float%20value)%20%7B%5Cn%20%20return%20(value%20-%20black)%20/%20(white%20-%20black);%5Cn%7D%5Cnvoid%20main()%20%7B%5Cn%20%20float%20val%20=%20toNormalized(getDataValue());%5Cn%20%20if%20(val%20%3C%20black)%20%7B%5Cn%20%20%20%20emitRGB(vec3(0,0,0));%5Cn%20%20%7D%20else%20if%20(val%20%3E%20white)%20%7B%5Cn%20%20%20%20emitRGB(vec3(1.0,%201.0,%201.0));%5Cn%20%20%7D%20else%20%7B%5Cn%20%20%20%20emitGrayscale(rescale(val));%5Cn%20%20%7D%5Cn%7D%5Cn%22%7D,%7B%22type%22:%22segmentation_with_graph%22,%22source%22:%22graphene://https://minniev1.microns-daf.com/segmentation/table/minnie3_v1%22,%22name%22:%22seg%22,%22segments%22:%5B%22864691134988472442%22%5D,%22segmentColors%22:%7B%7D%7D,%7B%22type%22:%22annotation%22,%22linkedSegmentationLayer%22:%22seg%22,%22filterBySegmentation%22:false,%22bracketShortcutsShowSegmentation%22:true,%22annotationSelectionShowsSegmentation%22:true,%22annotationColor%22:%22#FFFFFF%22,%22name%22:%22split_cands%22,%22annotations%22:%5B%7B%22tagIds%22:%5B%5D,%22type%22:%22point%22,%22point%22:%5B187244.0,148037.0,20345.0%5D,%22id%22:%22bbf5c4db11c5f7bb83333e5ac33c7b31e345f268%22,%22segments%22:%5B%22864691134988472442%22%5D%7D,%7B%22tagIds%22:%5B%5D,%22type%22:%22point%22,%22point%22:%5B187244.0,148037.0,20345.0%5D,%22id%22:%22a93813beaef1cc379264b3736ed9139f1f15718e%22,%22segments%22:%5B%22864691134988472442%22%5D%7D,%7B%22tagIds%22:%5B%5D,%22type%22:%22point%22,%22point%22:%5B190502.0,99145.0,19528.0%5D,%22id%22:%224abdf039243eb3c5fcfb2647f396c95a00c4e1af%22,%22segments%22:%5B%22864691134988472442%22%5D%7D,%7B%22tagIds%22:%5B%5D,%22type%22:%22point%22,%22point%22:%5B182782.0,117348.0,19320.0%5D,%22id%22:%2236afdfbe4e803ac1e2a228abe8dd404c401356ac%22,%22segments%22:%5B%22864691134988472442%22%5D%7D%5D%7D%5D,%22selectedLayer%22:%7B%22layer%22:%22split_cands%22,%22visible%22:true%7D%7D\" target=\"_blank\">Neuroglancer Link</a>"
      ],
      "text/plain": [
       "<IPython.core.display.HTML object>"
      ]
     },
     "execution_count": 34,
     "metadata": {},
     "output_type": "execute_result"
    }
   ],
   "source": [
    "neuroglancer_split_link(split_coordinates,\n",
    "                          neuron_obj.segment_id)"
   ]
  },
  {
   "cell_type": "code",
   "execution_count": 38,
   "metadata": {},
   "outputs": [],
   "source": [
    "neuron_obj.mesh.merge_vertices()"
   ]
  },
  {
   "cell_type": "code",
   "execution_count": null,
   "metadata": {},
   "outputs": [],
   "source": []
  }
 ],
 "metadata": {
  "kernelspec": {
   "display_name": "Python 3",
   "language": "python",
   "name": "python3"
  },
  "language_info": {
   "codemirror_mode": {
    "name": "ipython",
    "version": 3
   },
   "file_extension": ".py",
   "mimetype": "text/x-python",
   "name": "python",
   "nbconvert_exporter": "python",
   "pygments_lexer": "ipython3",
   "version": "3.6.9"
  }
 },
 "nbformat": 4,
 "nbformat_minor": 4
}
