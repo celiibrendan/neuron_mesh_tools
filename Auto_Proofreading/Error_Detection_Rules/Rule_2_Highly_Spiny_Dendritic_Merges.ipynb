{
 "cells": [
  {
   "cell_type": "code",
   "execution_count": 1,
   "metadata": {},
   "outputs": [
    {
     "data": {
      "text/plain": [
       "'\\nPurpose: \\nWill look for non-axon like limbs and see if they are merged\\nonto dendritic part of inhibitory \\n\\n\\n'"
      ]
     },
     "execution_count": 1,
     "metadata": {},
     "output_type": "execute_result"
    }
   ],
   "source": [
    "\"\"\"\n",
    "Purpose: \n",
    "Will look for non-axon like limbs and see if they are merged\n",
    "onto dendritic part of inhibitory \n",
    "\n",
    "\n",
    "\"\"\""
   ]
  },
  {
   "cell_type": "code",
   "execution_count": 2,
   "metadata": {},
   "outputs": [],
   "source": [
    "%load_ext autoreload\n",
    "%autoreload 2"
   ]
  },
  {
   "cell_type": "code",
   "execution_count": 3,
   "metadata": {},
   "outputs": [],
   "source": [
    "from os import sys\n",
    "sys.path.append(\"/meshAfterParty/\")"
   ]
  },
  {
   "cell_type": "code",
   "execution_count": 4,
   "metadata": {},
   "outputs": [
    {
     "name": "stderr",
     "output_type": "stream",
     "text": [
      "INFO - 2021-01-29 07:55:43,755 - settings - Setting database.host to at-database.ad.bcm.edu\n",
      "INFO - 2021-01-29 07:55:43,756 - settings - Setting database.user to celiib\n",
      "INFO - 2021-01-29 07:55:43,757 - settings - Setting database.password to newceliipass\n",
      "INFO - 2021-01-29 07:55:43,762 - settings - Setting stores to {'minnie65': {'protocol': 'file', 'location': '/mnt/dj-stor01/platinum/minnie65', 'stage': '/mnt/dj-stor01/platinum/minnie65'}, 'meshes': {'protocol': 'file', 'location': '/mnt/dj-stor01/platinum/minnie65/02/meshes', 'stage': '/mnt/dj-stor01/platinum/minnie65/02/meshes'}, 'decimated_meshes': {'protocol': 'file', 'location': '/mnt/dj-stor01/platinum/minnie65/02/decimated_meshes', 'stage': '/mnt/dj-stor01/platinum/minnie65/02/decimated_meshes'}, 'skeletons': {'protocol': 'file', 'location': '/mnt/dj-stor01/platinum/minnie65/02/skeletons'}}\n",
      "INFO - 2021-01-29 07:55:43,762 - settings - Setting enable_python_native_blobs to True\n",
      "INFO - 2021-01-29 07:55:43,775 - connection - Connected celiib@at-database.ad.bcm.edu:3306\n"
     ]
    },
    {
     "name": "stdout",
     "output_type": "stream",
     "text": [
      "Connecting celiib@at-database.ad.bcm.edu:3306\n"
     ]
    },
    {
     "name": "stderr",
     "output_type": "stream",
     "text": [
      "INFO - 2021-01-29 07:55:44,055 - settings - Setting enable_python_native_blobs to True\n"
     ]
    }
   ],
   "source": [
    "from importlib import reload\n",
    "\n",
    "import neuron_utils as nru\n",
    "\n",
    "import neuron\n",
    "\n",
    "import neuron_visualizations as nviz\n",
    "\n",
    "import time\n",
    "\n",
    "import datajoint_utils as du\n",
    "\n",
    "import numpy as np\n",
    "\n",
    "import proofreading_utils as pru\n",
    "\n",
    "import preprocessing_vp2 as pre\n",
    "\n",
    "# -- For the axon classification --\n",
    "\n",
    "import neuron_searching as ns\n",
    "\n",
    "import skeleton_utils as sk\n",
    "\n",
    "import numpy_utils as nu\n",
    "\n",
    "import networkx_utils as xu\n",
    "\n",
    "import system_utils as su\n",
    "\n",
    "import classification_utils as clu\n",
    "import proofreading_utils as pru"
   ]
  },
  {
   "cell_type": "code",
   "execution_count": 5,
   "metadata": {},
   "outputs": [
    {
     "name": "stderr",
     "output_type": "stream",
     "text": [
      "INFO - 2021-01-29 07:55:44,140 - settings - Setting enable_python_native_blobs to True\n",
      "INFO - 2021-01-29 07:55:44,422 - settings - Setting enable_python_native_blobs to True\n"
     ]
    }
   ],
   "source": [
    "minnie,schema = du.configure_minnie_vm()"
   ]
  },
  {
   "cell_type": "markdown",
   "metadata": {},
   "source": [
    "# Checking the Import"
   ]
  },
  {
   "cell_type": "code",
   "execution_count": 6,
   "metadata": {},
   "outputs": [],
   "source": [
    "# filepath = \"neuron_phase_1_after_floating_axon/864691134884789754_0_25_soma_0_split\"\n",
    "# neuron_obj = nru.decompress_neuron(filepath = filepath,\n",
    "#                       original_mesh=filepath,\n",
    "#                       using_original_mesh=False)\n",
    "# neuron_obj"
   ]
  },
  {
   "cell_type": "code",
   "execution_count": 7,
   "metadata": {},
   "outputs": [],
   "source": [
    "# nviz.visualize_neuron(neuron_obj,\n",
    "#                      limb_branch_dict=\"all\")"
   ]
  },
  {
   "cell_type": "markdown",
   "metadata": {},
   "source": [
    "# Getting the Neuron"
   ]
  },
  {
   "cell_type": "code",
   "execution_count": 8,
   "metadata": {},
   "outputs": [],
   "source": [
    "segment_id = 864691135945454116 # worked \n",
    "segment_id = 864691135644605167"
   ]
  },
  {
   "cell_type": "code",
   "execution_count": 9,
   "metadata": {
    "scrolled": true
   },
   "outputs": [
    {
     "name": "stdout",
     "output_type": "stream",
     "text": [
      "Decompressing Neuron in minimal output mode...please wait\n"
     ]
    }
   ],
   "source": [
    "neuron_obj = (minnie.Decomposition() & dict(segment_id=segment_id)).fetch1(\"decomposition\")"
   ]
  },
  {
   "cell_type": "code",
   "execution_count": 10,
   "metadata": {},
   "outputs": [
    {
     "name": "stdout",
     "output_type": "stream",
     "text": [
      "\n",
      " Working on visualization type: mesh\n"
     ]
    },
    {
     "data": {
      "application/vnd.jupyter.widget-view+json": {
       "model_id": "909426d333f24003b1a3785860f8437f",
       "version_major": 2,
       "version_minor": 0
      },
      "text/plain": [
       "VBox(children=(Figure(camera=PerspectiveCamera(fov=46.0, position=(0.0, 0.0, 2.0), quaternion=(0.0, 0.0, 0.0, …"
      ]
     },
     "metadata": {},
     "output_type": "display_data"
    }
   ],
   "source": [
    "nviz.visualize_neuron(neuron_obj,\n",
    "                     visualize_type=[\"mesh\"],\n",
    "                     mesh_whole_neuron=True)"
   ]
  },
  {
   "cell_type": "code",
   "execution_count": 11,
   "metadata": {},
   "outputs": [
    {
     "name": "stdout",
     "output_type": "stream",
     "text": [
      "\n",
      " Working on visualization type: mesh\n",
      "\n",
      " Working on visualization type: skeleton\n"
     ]
    },
    {
     "data": {
      "application/vnd.jupyter.widget-view+json": {
       "model_id": "3377694dfbbf4e1fa7042cedae36e318",
       "version_major": 2,
       "version_minor": 0
      },
      "text/plain": [
       "VBox(children=(Figure(camera=PerspectiveCamera(fov=46.0, position=(0.0, 0.0, 2.0), quaternion=(0.0, 0.0, 0.0, …"
      ]
     },
     "metadata": {},
     "output_type": "display_data"
    }
   ],
   "source": [
    "nviz.visualize_neuron(neuron_obj,\n",
    "                     limb_branch_dict=\"all\")"
   ]
  },
  {
   "cell_type": "markdown",
   "metadata": {},
   "source": [
    "# Splitting the Neuron"
   ]
  },
  {
   "cell_type": "code",
   "execution_count": 12,
   "metadata": {
    "scrolled": true
   },
   "outputs": [
    {
     "name": "stdout",
     "output_type": "stream",
     "text": [
      "\n",
      "\n",
      "------ Working on Soma 0 -------\n",
      "limb_neighbors = [0, 1, 2, 3, 4, 5, 6, 7]\n",
      "limb_neighbors BEFORE error limbs removed = [0, 1, 2, 3, 4, 5, 6, 7]\n",
      "limb_neighbors AFTER error limbs removed = [0 1 2 3 4 5 6 7]\n",
      "curr_n_multi_soma_limbs_cancelled = 0\n",
      "curr_n_same_soma_limbs_cancelled = 0\n",
      "n_errored_lims = 0\n",
      "curr_error_limbs_cancelled_area = []\n",
      "local_floating_meshes = []\n",
      "Already have preprocessed data\n",
      "--- 1) Finished unpacking preprocessed materials: 7.271766662597656e-05\n",
      "total_edges = [['S0', 'L0'], ['S0', 'L1'], ['S0', 'L2'], ['S0', 'L3'], ['S0', 'L4'], ['S0', 'L5'], ['S0', 'L6'], ['S0', 'L7']]\n",
      "--- 2) Finished creating neuron connectivity graph: 0.00012922286987304688\n",
      "Having to generate soma_meshes_face_idx because none in preprocessed data\n",
      "--- 3a) Finshed generating soma_meshes_face_idx: 0.08696413040161133\n",
      "Using precomputed volume ratio\n",
      "--- 3) Finshed generating soma objects and adding them to concept graph: 8.531368732452393\n",
      "Using already existing limb_mehses_face_idx in preprocessed data \n",
      "curr_limb_concept_networks= {0: [<networkx_utils.GraphOrderedEdges object at 0x7fbf1f502160>]}\n",
      "curr_limb_concept_networks= {0: [<networkx_utils.GraphOrderedEdges object at 0x7fbf1f41c4e0>]}\n",
      "curr_limb_concept_networks= {0: [<networkx_utils.GraphOrderedEdges object at 0x7fbf1f41c908>]}\n",
      "curr_limb_concept_networks= {0: [<networkx_utils.GraphOrderedEdges object at 0x7fbf1f782cc0>]}\n",
      "Concept graph size was 1 or less so returning original\n",
      "curr_limb_concept_networks= {0: [<networkx_utils.GraphOrderedEdges object at 0x7fbf1f87ee80>]}\n",
      "curr_limb_concept_networks= {0: [<networkx_utils.GraphOrderedEdges object at 0x7fbf1f87e390>]}\n",
      "curr_limb_concept_networks= {0: [<networkx_utils.GraphOrderedEdges object at 0x7fbf1f87ed30>]}\n",
      "Concept graph size was 1 or less so returning original\n",
      "curr_limb_concept_networks= {0: [<networkx_utils.GraphOrderedEdges object at 0x7fbf1f41c240>]}\n",
      "Concept graph size was 1 or less so returning original\n",
      "--- 4) Finshed generating Limb objects and adding them to concept graph: 1.8223254680633545\n",
      "--- 5) SKIPPING Doing the adaptive mesh correspondence on the meshparty preprocessing ---\n",
      "--- 6) SKIPPING Using the computed_attribute_dict to populate neuron attributes ---\n",
      "self.n_limbs = 8\n",
      "7) Calculating the spines for the neuorn if do not already exist\n",
      "Total time for neuron instance creation = 12.332812786102295\n",
      "\n",
      "\n",
      "Number of seperate neuron objects = 1\n"
     ]
    },
    {
     "data": {
      "text/plain": [
       "[<neuron.Neuron at 0x7fbf1f49c358>]"
      ]
     },
     "execution_count": 12,
     "metadata": {},
     "output_type": "execute_result"
    }
   ],
   "source": [
    "split_neurons = pru.split_neuron(neuron_obj)\n",
    "split_neurons"
   ]
  },
  {
   "cell_type": "code",
   "execution_count": 13,
   "metadata": {
    "scrolled": true
   },
   "outputs": [
    {
     "name": "stdout",
     "output_type": "stream",
     "text": [
      "\n",
      " Working on visualization type: mesh\n"
     ]
    },
    {
     "data": {
      "application/vnd.jupyter.widget-view+json": {
       "model_id": "9b7562ddab5b435894e37fa8d50442df",
       "version_major": 2,
       "version_minor": 0
      },
      "text/plain": [
       "VBox(children=(Figure(camera=PerspectiveCamera(fov=46.0, position=(0.0, 0.0, 2.0), quaternion=(0.0, 0.0, 0.0, …"
      ]
     },
     "metadata": {},
     "output_type": "display_data"
    }
   ],
   "source": [
    "current_neuron = split_neurons[0]\n",
    "nviz.visualize_neuron_lite(current_neuron)"
   ]
  },
  {
   "cell_type": "markdown",
   "metadata": {},
   "source": [
    "# Finding the Axon"
   ]
  },
  {
   "cell_type": "code",
   "execution_count": 14,
   "metadata": {
    "scrolled": true
   },
   "outputs": [
    {
     "name": "stdout",
     "output_type": "stream",
     "text": [
      "query = median_mesh_center > 115 and n_faces_branch>100\n",
      "smoothness_threshold = 0.12\n",
      "The median_mesh_center was requested and HAS already been calculated\n",
      "segment_name before cgal = L0_0\n"
     ]
    },
    {
     "data": {
      "application/vnd.jupyter.widget-view+json": {
       "model_id": "7e497b998693466d9ab8e83845cf0cb9",
       "version_major": 2,
       "version_minor": 0
      },
      "text/plain": [
       "HBox(children=(FloatProgress(value=0.0, max=68.0), HTML(value='')))"
      ]
     },
     "metadata": {},
     "output_type": "display_data"
    },
    {
     "name": "stdout",
     "output_type": "stream",
     "text": [
      "\n",
      "segment_name before cgal = L0_1\n"
     ]
    },
    {
     "data": {
      "application/vnd.jupyter.widget-view+json": {
       "model_id": "ec00cbc320a94c02801bdfec94dabd37",
       "version_major": 2,
       "version_minor": 0
      },
      "text/plain": [
       "HBox(children=(FloatProgress(value=0.0, max=3.0), HTML(value='')))"
      ]
     },
     "metadata": {},
     "output_type": "display_data"
    },
    {
     "name": "stdout",
     "output_type": "stream",
     "text": [
      "\n",
      "segment_name before cgal = L0_2\n"
     ]
    },
    {
     "data": {
      "application/vnd.jupyter.widget-view+json": {
       "model_id": "54a56bf4ce464fcfaf5d0e25385cc771",
       "version_major": 2,
       "version_minor": 0
      },
      "text/plain": [
       "HBox(children=(FloatProgress(value=0.0, max=4.0), HTML(value='')))"
      ]
     },
     "metadata": {},
     "output_type": "display_data"
    },
    {
     "name": "stdout",
     "output_type": "stream",
     "text": [
      "\n",
      "segment_name before cgal = L0_3\n"
     ]
    },
    {
     "data": {
      "application/vnd.jupyter.widget-view+json": {
       "model_id": "07c28f6dab6345c2a44c0ce21e3c303a",
       "version_major": 2,
       "version_minor": 0
      },
      "text/plain": [
       "HBox(children=(FloatProgress(value=0.0, max=24.0), HTML(value='')))"
      ]
     },
     "metadata": {},
     "output_type": "display_data"
    },
    {
     "name": "stdout",
     "output_type": "stream",
     "text": [
      "\n",
      "segment_name before cgal = L0_4\n"
     ]
    },
    {
     "data": {
      "application/vnd.jupyter.widget-view+json": {
       "model_id": "3b61653c308245c39760b06ce6a42981",
       "version_major": 2,
       "version_minor": 0
      },
      "text/plain": [
       "HBox(children=(FloatProgress(value=0.0, max=2.0), HTML(value='')))"
      ]
     },
     "metadata": {},
     "output_type": "display_data"
    },
    {
     "name": "stdout",
     "output_type": "stream",
     "text": [
      "\n",
      "segment_name before cgal = L0_5\n"
     ]
    },
    {
     "data": {
      "application/vnd.jupyter.widget-view+json": {
       "model_id": "5fd0823f466f46a981480d78e970a86d",
       "version_major": 2,
       "version_minor": 0
      },
      "text/plain": [
       "HBox(children=(FloatProgress(value=0.0, max=11.0), HTML(value='')))"
      ]
     },
     "metadata": {},
     "output_type": "display_data"
    },
    {
     "name": "stdout",
     "output_type": "stream",
     "text": [
      "\n",
      "segment_name before cgal = L0_6\n"
     ]
    },
    {
     "data": {
      "application/vnd.jupyter.widget-view+json": {
       "model_id": "eaa824b425b746289c5bb21c2615309c",
       "version_major": 2,
       "version_minor": 0
      },
      "text/plain": [
       "HBox(children=(FloatProgress(value=0.0, max=22.0), HTML(value='')))"
      ]
     },
     "metadata": {},
     "output_type": "display_data"
    },
    {
     "name": "stdout",
     "output_type": "stream",
     "text": [
      "\n",
      "segment_name before cgal = L0_7\n"
     ]
    },
    {
     "data": {
      "application/vnd.jupyter.widget-view+json": {
       "model_id": "451cf819ec7140d1af023443d95b077b",
       "version_major": 2,
       "version_minor": 0
      },
      "text/plain": [
       "HBox(children=(FloatProgress(value=0.0, max=37.0), HTML(value='')))"
      ]
     },
     "metadata": {},
     "output_type": "display_data"
    },
    {
     "name": "stdout",
     "output_type": "stream",
     "text": [
      "\n",
      "segment_name before cgal = L0_8\n"
     ]
    },
    {
     "data": {
      "application/vnd.jupyter.widget-view+json": {
       "model_id": "7945e658d8c74f8386e886320a37a453",
       "version_major": 2,
       "version_minor": 0
      },
      "text/plain": [
       "HBox(children=(FloatProgress(value=0.0, max=82.0), HTML(value='')))"
      ]
     },
     "metadata": {},
     "output_type": "display_data"
    },
    {
     "name": "stdout",
     "output_type": "stream",
     "text": [
      "\n",
      "segment_name before cgal = L0_9\n"
     ]
    },
    {
     "data": {
      "application/vnd.jupyter.widget-view+json": {
       "model_id": "fe02f7ed38d74071ab72c7da3a280e4e",
       "version_major": 2,
       "version_minor": 0
      },
      "text/plain": [
       "HBox(children=(FloatProgress(value=0.0, max=7.0), HTML(value='')))"
      ]
     },
     "metadata": {},
     "output_type": "display_data"
    },
    {
     "name": "stdout",
     "output_type": "stream",
     "text": [
      "\n",
      "segment_name before cgal = L0_10\n"
     ]
    },
    {
     "data": {
      "application/vnd.jupyter.widget-view+json": {
       "model_id": "65ececb6442d4bbca98f1568ff02b817",
       "version_major": 2,
       "version_minor": 0
      },
      "text/plain": [
       "HBox(children=(FloatProgress(value=0.0, max=20.0), HTML(value='')))"
      ]
     },
     "metadata": {},
     "output_type": "display_data"
    },
    {
     "name": "stdout",
     "output_type": "stream",
     "text": [
      "\n",
      "segment_name before cgal = L0_11\n"
     ]
    },
    {
     "data": {
      "application/vnd.jupyter.widget-view+json": {
       "model_id": "0f307debfb3f4b74a80dc05f408e965b",
       "version_major": 2,
       "version_minor": 0
      },
      "text/plain": [
       "HBox(children=(FloatProgress(value=0.0, max=53.0), HTML(value='')))"
      ]
     },
     "metadata": {},
     "output_type": "display_data"
    },
    {
     "name": "stdout",
     "output_type": "stream",
     "text": [
      "\n",
      "segment_name before cgal = L0_12\n"
     ]
    },
    {
     "data": {
      "application/vnd.jupyter.widget-view+json": {
       "model_id": "f0ed312d936c48359b3c961eec8a296d",
       "version_major": 2,
       "version_minor": 0
      },
      "text/plain": [
       "HBox(children=(FloatProgress(value=0.0, max=40.0), HTML(value='')))"
      ]
     },
     "metadata": {},
     "output_type": "display_data"
    },
    {
     "name": "stdout",
     "output_type": "stream",
     "text": [
      "\n",
      "segment_name before cgal = L0_13\n"
     ]
    },
    {
     "data": {
      "application/vnd.jupyter.widget-view+json": {
       "model_id": "fda5405a9c2d41fe835bde412d95ab63",
       "version_major": 2,
       "version_minor": 0
      },
      "text/plain": [
       "HBox(children=(FloatProgress(value=0.0, max=23.0), HTML(value='')))"
      ]
     },
     "metadata": {},
     "output_type": "display_data"
    },
    {
     "name": "stdout",
     "output_type": "stream",
     "text": [
      "\n",
      "segment_name before cgal = L0_14\n"
     ]
    },
    {
     "data": {
      "application/vnd.jupyter.widget-view+json": {
       "model_id": "44fa272af8db47cab85bc0cb79a57504",
       "version_major": 2,
       "version_minor": 0
      },
      "text/plain": [
       "HBox(children=(FloatProgress(value=0.0, max=7.0), HTML(value='')))"
      ]
     },
     "metadata": {},
     "output_type": "display_data"
    },
    {
     "name": "stdout",
     "output_type": "stream",
     "text": [
      "\n",
      "segment_name before cgal = L0_15\n"
     ]
    },
    {
     "data": {
      "application/vnd.jupyter.widget-view+json": {
       "model_id": "5490a97ea29e44168c59805941840a72",
       "version_major": 2,
       "version_minor": 0
      },
      "text/plain": [
       "HBox(children=(FloatProgress(value=0.0, max=30.0), HTML(value='')))"
      ]
     },
     "metadata": {},
     "output_type": "display_data"
    },
    {
     "name": "stdout",
     "output_type": "stream",
     "text": [
      "\n",
      "segment_name before cgal = L1_0\n"
     ]
    },
    {
     "data": {
      "application/vnd.jupyter.widget-view+json": {
       "model_id": "cd98d2e5be3647ff98914adb585235e8",
       "version_major": 2,
       "version_minor": 0
      },
      "text/plain": [
       "HBox(children=(FloatProgress(value=0.0, max=177.0), HTML(value='')))"
      ]
     },
     "metadata": {},
     "output_type": "display_data"
    },
    {
     "name": "stdout",
     "output_type": "stream",
     "text": [
      "\n",
      "segment_name before cgal = L1_1\n"
     ]
    },
    {
     "data": {
      "application/vnd.jupyter.widget-view+json": {
       "model_id": "f7d6fbd324ed43ecbe67c1d16bdbc85b",
       "version_major": 2,
       "version_minor": 0
      },
      "text/plain": [
       "HBox(children=(FloatProgress(value=0.0, max=52.0), HTML(value='')))"
      ]
     },
     "metadata": {},
     "output_type": "display_data"
    },
    {
     "name": "stdout",
     "output_type": "stream",
     "text": [
      "\n",
      "segment_name before cgal = L1_3\n"
     ]
    },
    {
     "data": {
      "application/vnd.jupyter.widget-view+json": {
       "model_id": "83e60b622a994ebdb6ce2f02ec7bf3c8",
       "version_major": 2,
       "version_minor": 0
      },
      "text/plain": [
       "HBox(children=(FloatProgress(value=0.0, max=14.0), HTML(value='')))"
      ]
     },
     "metadata": {},
     "output_type": "display_data"
    },
    {
     "name": "stdout",
     "output_type": "stream",
     "text": [
      "\n",
      "segment_name before cgal = L1_5\n"
     ]
    },
    {
     "data": {
      "application/vnd.jupyter.widget-view+json": {
       "model_id": "0f1bd3d0e2e9478aaf5aa664e6a6cfb8",
       "version_major": 2,
       "version_minor": 0
      },
      "text/plain": [
       "HBox(children=(FloatProgress(value=0.0, max=19.0), HTML(value='')))"
      ]
     },
     "metadata": {},
     "output_type": "display_data"
    },
    {
     "name": "stdout",
     "output_type": "stream",
     "text": [
      "\n",
      "segment_name before cgal = L1_6\n"
     ]
    },
    {
     "data": {
      "application/vnd.jupyter.widget-view+json": {
       "model_id": "c1b872bdb75e48e4a7a26db705c851f4",
       "version_major": 2,
       "version_minor": 0
      },
      "text/plain": [
       "HBox(children=(FloatProgress(value=0.0, max=16.0), HTML(value='')))"
      ]
     },
     "metadata": {},
     "output_type": "display_data"
    },
    {
     "name": "stdout",
     "output_type": "stream",
     "text": [
      "\n",
      "segment_name before cgal = L1_7\n"
     ]
    },
    {
     "data": {
      "application/vnd.jupyter.widget-view+json": {
       "model_id": "b2dc76d716e04a7b96c290f96308682d",
       "version_major": 2,
       "version_minor": 0
      },
      "text/plain": [
       "HBox(children=(FloatProgress(value=0.0, max=6.0), HTML(value='')))"
      ]
     },
     "metadata": {},
     "output_type": "display_data"
    },
    {
     "name": "stdout",
     "output_type": "stream",
     "text": [
      "\n",
      "segment_name before cgal = L1_9\n"
     ]
    },
    {
     "data": {
      "application/vnd.jupyter.widget-view+json": {
       "model_id": "06fb6e73f13149839ae378e586353817",
       "version_major": 2,
       "version_minor": 0
      },
      "text/plain": [
       "HBox(children=(FloatProgress(value=0.0, max=6.0), HTML(value='')))"
      ]
     },
     "metadata": {},
     "output_type": "display_data"
    },
    {
     "name": "stdout",
     "output_type": "stream",
     "text": [
      "\n",
      "segment_name before cgal = L1_10\n"
     ]
    },
    {
     "data": {
      "application/vnd.jupyter.widget-view+json": {
       "model_id": "0b68466f216c4644b872b06d735df109",
       "version_major": 2,
       "version_minor": 0
      },
      "text/plain": [
       "HBox(children=(FloatProgress(value=0.0, max=21.0), HTML(value='')))"
      ]
     },
     "metadata": {},
     "output_type": "display_data"
    },
    {
     "name": "stdout",
     "output_type": "stream",
     "text": [
      "\n",
      "segment_name before cgal = L1_11\n"
     ]
    },
    {
     "data": {
      "application/vnd.jupyter.widget-view+json": {
       "model_id": "5085d3cbd61141f0bff2bcb4bc944e03",
       "version_major": 2,
       "version_minor": 0
      },
      "text/plain": [
       "HBox(children=(FloatProgress(value=0.0, max=20.0), HTML(value='')))"
      ]
     },
     "metadata": {},
     "output_type": "display_data"
    },
    {
     "name": "stdout",
     "output_type": "stream",
     "text": [
      "\n",
      "segment_name before cgal = L1_12\n"
     ]
    },
    {
     "data": {
      "application/vnd.jupyter.widget-view+json": {
       "model_id": "16dba7e64f44486e8a2eda8fa0a5d555",
       "version_major": 2,
       "version_minor": 0
      },
      "text/plain": [
       "HBox(children=(FloatProgress(value=0.0, max=23.0), HTML(value='')))"
      ]
     },
     "metadata": {},
     "output_type": "display_data"
    },
    {
     "name": "stdout",
     "output_type": "stream",
     "text": [
      "\n",
      "segment_name before cgal = L1_13\n"
     ]
    },
    {
     "data": {
      "application/vnd.jupyter.widget-view+json": {
       "model_id": "b1516f3a162f484ea95e0e453375b5f1",
       "version_major": 2,
       "version_minor": 0
      },
      "text/plain": [
       "HBox(children=(FloatProgress(value=0.0, max=8.0), HTML(value='')))"
      ]
     },
     "metadata": {},
     "output_type": "display_data"
    },
    {
     "name": "stdout",
     "output_type": "stream",
     "text": [
      "\n",
      "segment_name before cgal = L1_14\n"
     ]
    },
    {
     "data": {
      "application/vnd.jupyter.widget-view+json": {
       "model_id": "3eb08e53fe0147568e18fe56f371fa6e",
       "version_major": 2,
       "version_minor": 0
      },
      "text/plain": [
       "HBox(children=(FloatProgress(value=0.0, max=9.0), HTML(value='')))"
      ]
     },
     "metadata": {},
     "output_type": "display_data"
    },
    {
     "name": "stdout",
     "output_type": "stream",
     "text": [
      "\n",
      "segment_name before cgal = L1_15\n"
     ]
    },
    {
     "data": {
      "application/vnd.jupyter.widget-view+json": {
       "model_id": "dca9c396eb7e4b9babbcb822eb91200c",
       "version_major": 2,
       "version_minor": 0
      },
      "text/plain": [
       "HBox(children=(FloatProgress(value=0.0, max=2.0), HTML(value='')))"
      ]
     },
     "metadata": {},
     "output_type": "display_data"
    },
    {
     "name": "stdout",
     "output_type": "stream",
     "text": [
      "\n",
      "segment_name before cgal = L2_1\n"
     ]
    },
    {
     "data": {
      "application/vnd.jupyter.widget-view+json": {
       "model_id": "339dbdc1324b41e5b0f5a71cc60e8157",
       "version_major": 2,
       "version_minor": 0
      },
      "text/plain": [
       "HBox(children=(FloatProgress(value=0.0, max=41.0), HTML(value='')))"
      ]
     },
     "metadata": {},
     "output_type": "display_data"
    },
    {
     "name": "stdout",
     "output_type": "stream",
     "text": [
      "\n",
      "segment_name before cgal = L2_3\n"
     ]
    },
    {
     "data": {
      "application/vnd.jupyter.widget-view+json": {
       "model_id": "9be4625241114183a6669237f9f2c99b",
       "version_major": 2,
       "version_minor": 0
      },
      "text/plain": [
       "HBox(children=(FloatProgress(value=0.0, max=79.0), HTML(value='')))"
      ]
     },
     "metadata": {},
     "output_type": "display_data"
    },
    {
     "name": "stdout",
     "output_type": "stream",
     "text": [
      "\n",
      "segment_name before cgal = L2_4\n"
     ]
    },
    {
     "data": {
      "application/vnd.jupyter.widget-view+json": {
       "model_id": "f55c80189cf4484c845fd73b1a75e7a7",
       "version_major": 2,
       "version_minor": 0
      },
      "text/plain": [
       "HBox(children=(FloatProgress(value=0.0, max=9.0), HTML(value='')))"
      ]
     },
     "metadata": {},
     "output_type": "display_data"
    },
    {
     "name": "stdout",
     "output_type": "stream",
     "text": [
      "\n",
      "segment_name before cgal = L3_0\n"
     ]
    },
    {
     "data": {
      "application/vnd.jupyter.widget-view+json": {
       "model_id": "794938a299674855980d2213192e5fa1",
       "version_major": 2,
       "version_minor": 0
      },
      "text/plain": [
       "HBox(children=(FloatProgress(value=0.0, max=86.0), HTML(value='')))"
      ]
     },
     "metadata": {},
     "output_type": "display_data"
    },
    {
     "name": "stdout",
     "output_type": "stream",
     "text": [
      "\n",
      "segment_name before cgal = L4_0\n"
     ]
    },
    {
     "data": {
      "application/vnd.jupyter.widget-view+json": {
       "model_id": "75903570cafb407d8b5774b434208334",
       "version_major": 2,
       "version_minor": 0
      },
      "text/plain": [
       "HBox(children=(FloatProgress(value=0.0, max=62.0), HTML(value='')))"
      ]
     },
     "metadata": {},
     "output_type": "display_data"
    },
    {
     "name": "stdout",
     "output_type": "stream",
     "text": [
      "\n",
      "segment_name before cgal = L4_1\n"
     ]
    },
    {
     "data": {
      "application/vnd.jupyter.widget-view+json": {
       "model_id": "05c618460c8c4d66806d80412bd03e0d",
       "version_major": 2,
       "version_minor": 0
      },
      "text/plain": [
       "HBox(children=(FloatProgress(value=0.0, max=20.0), HTML(value='')))"
      ]
     },
     "metadata": {},
     "output_type": "display_data"
    },
    {
     "name": "stdout",
     "output_type": "stream",
     "text": [
      "\n",
      "segment_name before cgal = L4_2\n"
     ]
    },
    {
     "data": {
      "application/vnd.jupyter.widget-view+json": {
       "model_id": "6fcf330584d744f68ecafc1c99a0ab11",
       "version_major": 2,
       "version_minor": 0
      },
      "text/plain": [
       "HBox(children=(FloatProgress(value=0.0, max=9.0), HTML(value='')))"
      ]
     },
     "metadata": {},
     "output_type": "display_data"
    },
    {
     "name": "stdout",
     "output_type": "stream",
     "text": [
      "\n",
      "segment_name before cgal = L5_0\n"
     ]
    },
    {
     "data": {
      "application/vnd.jupyter.widget-view+json": {
       "model_id": "f5137e70d6c94186b3b176dcf42d28a2",
       "version_major": 2,
       "version_minor": 0
      },
      "text/plain": [
       "HBox(children=(FloatProgress(value=0.0, max=33.0), HTML(value='')))"
      ]
     },
     "metadata": {},
     "output_type": "display_data"
    },
    {
     "name": "stdout",
     "output_type": "stream",
     "text": [
      "\n",
      "segment_name before cgal = L5_1\n"
     ]
    },
    {
     "data": {
      "application/vnd.jupyter.widget-view+json": {
       "model_id": "39d6e507ec6946ffb6447fa279f41443",
       "version_major": 2,
       "version_minor": 0
      },
      "text/plain": [
       "HBox(children=(FloatProgress(value=0.0, max=52.0), HTML(value='')))"
      ]
     },
     "metadata": {},
     "output_type": "display_data"
    },
    {
     "name": "stdout",
     "output_type": "stream",
     "text": [
      "\n",
      "segment_name before cgal = L5_2\n"
     ]
    },
    {
     "data": {
      "application/vnd.jupyter.widget-view+json": {
       "model_id": "1c6896f860fa4edfbf906be502230257",
       "version_major": 2,
       "version_minor": 0
      },
      "text/plain": [
       "HBox(children=(FloatProgress(value=0.0, max=9.0), HTML(value='')))"
      ]
     },
     "metadata": {},
     "output_type": "display_data"
    },
    {
     "name": "stdout",
     "output_type": "stream",
     "text": [
      "\n",
      "segment_name before cgal = L6_0\n"
     ]
    },
    {
     "data": {
      "application/vnd.jupyter.widget-view+json": {
       "model_id": "48edb5cca22241d6b2c3646729069a3b",
       "version_major": 2,
       "version_minor": 0
      },
      "text/plain": [
       "HBox(children=(FloatProgress(value=0.0, max=20.0), HTML(value='')))"
      ]
     },
     "metadata": {},
     "output_type": "display_data"
    },
    {
     "name": "stdout",
     "output_type": "stream",
     "text": [
      "\n",
      "segment_name before cgal = L7_0\n"
     ]
    },
    {
     "data": {
      "application/vnd.jupyter.widget-view+json": {
       "model_id": "59c32ed6d66f462d8e3088631d1cbb2b",
       "version_major": 2,
       "version_minor": 0
      },
      "text/plain": [
       "HBox(children=(FloatProgress(value=0.0, max=6.0), HTML(value='')))"
      ]
     },
     "metadata": {},
     "output_type": "display_data"
    },
    {
     "name": "stdout",
     "output_type": "stream",
     "text": [
      "\n"
     ]
    }
   ],
   "source": [
    "current_neuron.calculate_spines()"
   ]
  },
  {
   "cell_type": "code",
   "execution_count": 15,
   "metadata": {},
   "outputs": [],
   "source": [
    "nru.clear_all_branch_labels(current_neuron,[\"axon\",\"axon-like\",\"axon-error\"])"
   ]
  },
  {
   "cell_type": "code",
   "execution_count": 16,
   "metadata": {},
   "outputs": [
    {
     "name": "stdout",
     "output_type": "stream",
     "text": [
      "Recieved another instance of Neuron class in init -- so just copying data\n"
     ]
    }
   ],
   "source": [
    "current_neuron = neuron.Neuron(current_neuron)"
   ]
  },
  {
   "cell_type": "code",
   "execution_count": 17,
   "metadata": {},
   "outputs": [
    {
     "name": "stdout",
     "output_type": "stream",
     "text": [
      "spine_category = sparsely_spined\n",
      "\n",
      "Phase 2: Working on Limb L1\n",
      "\n",
      "Phase 2: Working on Limb L2\n",
      "\n",
      "Phase 2: Working on Limb L3\n",
      "\n",
      "Phase 2: Working on Limb L4\n",
      "\n",
      "Phase 2: Working on Limb L5\n",
      "\n",
      "Phase 2: Working on Limb L6\n",
      "\n",
      "Phase 2: Working on Limb L7\n",
      "candidate_nodes = [11 15]\n",
      "non_axon_branches_on_subgraph = []\n",
      "endnodes_to_test BEFORE FILTER = [298]\n",
      "candidate_nodes = [ 0  1  2  3  4  5  6  7  8  9 10 12 13 14 15]\n",
      "non_axon_branches_on_subgraph = [ 0  5  6  9 10 12 14]\n",
      "endnodes_to_test BEFORE FILTER = [6623]\n",
      "candidate_nodes = [0 1 2 3 4]\n",
      "non_axon_branches_on_subgraph = [1 3 4]\n",
      "endnodes_to_test BEFORE FILTER = [2140]\n",
      "candidate_nodes = [0 1 2]\n",
      "non_axon_branches_on_subgraph = [1 2]\n",
      "endnodes_to_test BEFORE FILTER = [1499 1565]\n",
      "candidate_nodes = [0]\n",
      "non_axon_branches_on_subgraph = []\n",
      "endnodes_to_test BEFORE FILTER = [1]\n",
      "n_apicals = 1\n",
      "n_axons = 1\n",
      "axon_angles = {7: {0: 132.74672827358873}}\n"
     ]
    },
    {
     "data": {
      "text/plain": [
       "'excitatory'"
      ]
     },
     "execution_count": 17,
     "metadata": {},
     "output_type": "execute_result"
    }
   ],
   "source": [
    "#3) Run the Classifier:\n",
    "(inh_exc_class,\n",
    "spine_category,\n",
    "axon_angles,\n",
    "n_axons,\n",
    "n_apicals,\n",
    "neuron_spine_density,\n",
    "n_branches_processed,\n",
    "skeletal_length_processed,\n",
    "n_branches_in_search_radius,\n",
    "skeletal_length_in_search_radius\n",
    ") = clu.inhibitory_excitatory_classifier(current_neuron,\n",
    "                                return_spine_classification=True,\n",
    "                                return_axon_angles=True,\n",
    "                                 return_n_axons=True,\n",
    "                                 return_n_apicals=True,\n",
    "                                 return_spine_statistics=True)\n",
    "\n",
    "inh_exc_class"
   ]
  },
  {
   "cell_type": "code",
   "execution_count": 18,
   "metadata": {},
   "outputs": [
    {
     "data": {
      "text/plain": [
       "'excitatory'"
      ]
     },
     "execution_count": 18,
     "metadata": {},
     "output_type": "execute_result"
    }
   ],
   "source": [
    "inh_exc_class"
   ]
  },
  {
   "cell_type": "code",
   "execution_count": 19,
   "metadata": {},
   "outputs": [],
   "source": [
    "if inh_exc_class not in current_neuron.labels:\n",
    "    current_neuron.labels.append(inh_exc_class)"
   ]
  },
  {
   "cell_type": "markdown",
   "metadata": {},
   "source": [
    "# Classifying the Axons"
   ]
  },
  {
   "cell_type": "code",
   "execution_count": 20,
   "metadata": {
    "scrolled": true
   },
   "outputs": [
    {
     "name": "stdout",
     "output_type": "stream",
     "text": [
      "\n",
      "Part 1: Axon like branchese \n",
      "{'L0': array([10, 16]), 'L1': array([ 1,  2,  3,  4,  7,  8, 11, 13, 15]), 'L2': array([0, 2]), 'L5': array([0]), 'L7': array([0])}\n",
      "Limb L0 soma angle: 31.96 \n",
      "Limb L1 soma angle: 120.57 \n",
      "Limb L2 soma angle: 112.62 \n",
      "Limb L3 soma angle: 134.92 \n",
      "Limb L4 soma angle: 100.5 \n",
      "Limb L5 soma angle: 120.96 \n",
      "Limb L6 soma angle: 126.82 \n",
      "Limb L7 soma angle: 151.97 \n",
      "\n",
      "Part 2: possible_axon_limbs = [1, 2, 3, 4, 5, 6, 7]\n",
      "\n",
      "Phase 2: Working on Limb L1\n",
      "nodes_to_eliminate = [15]\n",
      "\n",
      "Phase 2: Working on Limb L2\n",
      "nodes_to_eliminate = []\n",
      "\n",
      "Phase 2: Working on Limb L3\n",
      "nodes_to_eliminate = []\n",
      "\n",
      "Phase 2: Working on Limb L4\n",
      "nodes_to_eliminate = []\n",
      "\n",
      "Phase 2: Working on Limb L5\n",
      "nodes_to_eliminate = []\n",
      "\n",
      "Phase 2: Working on Limb L6\n",
      "nodes_to_eliminate = []\n",
      "\n",
      "Phase 2: Working on Limb L7\n",
      "nodes_to_eliminate = []\n",
      "\n",
      "----Working on Limb L1-----\n",
      "No endpoints were eliminated so don't need to add back any candidates\n",
      "\n",
      "----Working on Limb L2-----\n",
      "No nodes were eliminated so don't need to add back any candidates\n",
      "\n",
      "----Working on Limb L3-----\n",
      "No nodes were eliminated so don't need to add back any candidates\n",
      "\n",
      "----Working on Limb L4-----\n",
      "No nodes were eliminated so don't need to add back any candidates\n",
      "\n",
      "----Working on Limb L5-----\n",
      "No nodes were eliminated so don't need to add back any candidates\n",
      "\n",
      "----Working on Limb L6-----\n",
      "No nodes were eliminated so don't need to add back any candidates\n",
      "\n",
      "----Working on Limb L7-----\n",
      "No nodes were eliminated so don't need to add back any candidates\n",
      "Final Candidates\n",
      "\n",
      "Limb 1\n",
      "array([11])\n",
      "array([ 0,  1,  2,  3,  4,  5,  6,  7,  8,  9, 10, 12, 13, 14])\n",
      "\n",
      "Limb 2\n",
      "array([0, 1, 2, 3, 4])\n",
      "\n",
      "Limb 3\n",
      "array([0])\n",
      "\n",
      "Limb 4\n",
      "array([0, 1, 2])\n",
      "\n",
      "Limb 5\n",
      "array([0, 1, 2])\n",
      "\n",
      "Limb 6\n",
      "array([0])\n",
      "\n",
      "Limb 7\n",
      "array([0])\n",
      "Part 3: axon_subgraph_candidates = {1: [[11], [0, 1, 2, 3, 4, 5, 6, 7, 8, 9, 10, 12, 13, 14]], 2: [[0, 1, 2, 3, 4]], 3: [[0]], 4: [[0, 1, 2]], 5: [[0, 1, 2]], 6: [[0]], 7: [[0]]}\n",
      "\n",
      "\n",
      " --- Working on limb 1, candidate # 0\n",
      "1 out of 1 branches are axons\n",
      "Axon percentage = 1.0\n",
      "curr_axon_angle_threshold = 110\n",
      "candidate_nodes = [11 15]\n",
      "non_axon_branches_on_subgraph = []\n",
      "endnodes_to_test BEFORE FILTER = [298]\n",
      "endnodes_to_test = [298]\n",
      "Skeleton paths distances = [24992.89704681]\n",
      "Filtered indexes = [0]\n",
      "len(filtered_skeletons) = 1\n",
      "sk_angles = [59.96356956]\n",
      "Not adding candidate because no angles ([59.96356956]) passed the threhold 110 \n",
      "\n",
      "\n",
      " --- Working on limb 1, candidate # 1\n",
      "7 out of 14 branches are axons\n",
      "Axon percentage = 0.5\n",
      "curr_axon_angle_threshold = 120\n",
      "candidate_nodes = [ 0  1  2  3  4  5  6  7  8  9 10 12 13 14 15]\n",
      "non_axon_branches_on_subgraph = [ 0  5  6  9 10 12 14]\n",
      "endnodes_to_test BEFORE FILTER = [6623]\n",
      "endnodes_to_test = []\n",
      "Not adding candidate because no angles (None) passed the threhold 120 \n",
      "\n",
      "\n",
      " --- Working on limb 2, candidate # 0\n",
      "2 out of 5 branches are axons\n",
      "Axon percentage = 0.4\n",
      "curr_axon_angle_threshold = 120\n",
      "candidate_nodes = [0 1 2 3 4]\n",
      "non_axon_branches_on_subgraph = [1 3 4]\n",
      "endnodes_to_test BEFORE FILTER = [2140]\n",
      "endnodes_to_test = []\n",
      "Not adding candidate because no angles (None) passed the threhold 120 \n",
      "\n",
      "\n",
      " --- Working on limb 3, candidate # 0\n",
      "0 out of 1 branches are axons\n",
      "Axon percentage = 0.0\n",
      "Not adding candidate no axon branches detected \n",
      "\n",
      "\n",
      " --- Working on limb 4, candidate # 0\n",
      "0 out of 3 branches are axons\n",
      "Axon percentage = 0.0\n",
      "Not adding candidate no axon branches detected \n",
      "\n",
      "\n",
      " --- Working on limb 5, candidate # 0\n",
      "1 out of 3 branches are axons\n",
      "Axon percentage = 0.3333333333333333\n",
      "curr_axon_angle_threshold = 120\n",
      "candidate_nodes = [0 1 2]\n",
      "non_axon_branches_on_subgraph = [1 2]\n",
      "endnodes_to_test BEFORE FILTER = [1499 1565]\n",
      "endnodes_to_test = [1565]\n",
      "Skeleton paths distances = [24916.93944855]\n",
      "Filtered indexes = [0]\n",
      "len(filtered_skeletons) = 1\n",
      "sk_angles = [93.1763998]\n",
      "Not adding candidate because no angles ([93.1763998]) passed the threhold 120 \n",
      "\n",
      "\n",
      " --- Working on limb 6, candidate # 0\n",
      "0 out of 1 branches are axons\n",
      "Axon percentage = 0.0\n",
      "Not adding candidate no axon branches detected \n",
      "\n",
      "\n",
      " --- Working on limb 7, candidate # 0\n",
      "1 out of 1 branches are axons\n",
      "Axon percentage = 1.0\n",
      "curr_axon_angle_threshold = 110\n",
      "candidate_nodes = [0]\n",
      "non_axon_branches_on_subgraph = []\n",
      "endnodes_to_test BEFORE FILTER = [1]\n",
      "endnodes_to_test = [1]\n",
      "Skeleton paths distances = [24966.48072768]\n",
      "Filtered indexes = [0]\n",
      "len(filtered_skeletons) = 1\n",
      "sk_angles = [132.74672827]\n",
      "Adding the following branches as true axons: [0.]\n",
      "\n",
      "\n",
      "Part 4: final_true_axons = {'L7': array([0.])}\n",
      "\n",
      " Working on visualization type: mesh\n"
     ]
    },
    {
     "data": {
      "application/vnd.jupyter.widget-view+json": {
       "model_id": "845c2ddb703f454a9a17b47106c0496a",
       "version_major": 2,
       "version_minor": 0
      },
      "text/plain": [
       "VBox(children=(Figure(camera=PerspectiveCamera(fov=46.0, position=(0.0, 0.0, 2.0), quaternion=(0.0, 0.0, 0.0, …"
      ]
     },
     "metadata": {},
     "output_type": "display_data"
    },
    {
     "name": "stdout",
     "output_type": "stream",
     "text": [
      "\n",
      " Working on visualization type: mesh\n"
     ]
    },
    {
     "data": {
      "application/vnd.jupyter.widget-view+json": {
       "model_id": "41a4fcd10bde402495ba78837774dd81",
       "version_major": 2,
       "version_minor": 0
      },
      "text/plain": [
       "VBox(children=(Figure(camera=PerspectiveCamera(fov=46.0, position=(0.0, 0.0, 2.0), quaternion=(0.0, 0.0, 0.0, …"
      ]
     },
     "metadata": {},
     "output_type": "display_data"
    }
   ],
   "source": [
    "axon_limb_branch_dict,axon_error_limb_branch_dict = clu.axon_classification(current_neuron,\n",
    "                       return_error_labels=True,\n",
    "                                                                            plot_candidates=False,\n",
    "                                                                            plot_axons=True,\n",
    "                                plot_axon_errors=True)"
   ]
  },
  {
   "cell_type": "code",
   "execution_count": 21,
   "metadata": {},
   "outputs": [
    {
     "data": {
      "text/plain": [
       "{'L0': array([10, 16]),\n",
       " 'L1': array([ 1,  2,  3,  4,  7,  8, 11, 13, 15]),\n",
       " 'L2': array([0, 2]),\n",
       " 'L5': array([0]),\n",
       " 'L7': array([0])}"
      ]
     },
     "execution_count": 21,
     "metadata": {},
     "output_type": "execute_result"
    }
   ],
   "source": [
    "ns.query_neuron_by_labels(current_neuron,\n",
    "                         matching_labels=[\"axon-like\"])"
   ]
  },
  {
   "cell_type": "markdown",
   "metadata": {},
   "source": [
    "# Filtering Away the Axon on Dendrite Merge Errors"
   ]
  },
  {
   "cell_type": "code",
   "execution_count": 22,
   "metadata": {
    "scrolled": true
   },
   "outputs": [
    {
     "name": "stdout",
     "output_type": "stream",
     "text": [
      "\n",
      "\n",
      "----Working on seperate_graph 0----\n",
      "\n",
      "\n",
      "---------Working on soma_idx = 0, soma_group_idx 0, endpt = [1514261.20408163  787163.94489796  927754.15306122]---------\n",
      "Starting_edge inside branches_to_conept = [[1514261.20408163  787163.94489796  927754.15306122]\n",
      " [1514573.33910994  782806.41288539  930095.9755167 ]]\n",
      "At the start, starting_node (in terms of the skeleton, that shouldn't match the starting edge) = [1]\n",
      "printing out current edge:\n",
      "[[1514261.20408163  787163.94489796  927754.15306122]\n",
      " [1514573.33910994  782806.41288539  930095.9755167 ]]\n",
      "edge_endpoints_to_process was empty so exiting loop after 16 iterations\n",
      "starting_node in concept map (that should match the starting edge) = 1\n",
      "Total time for branches to concept conversion = 0.5909879207611084\n",
      "\n",
      "Done generating concept network \n",
      "\n",
      "\n",
      "\n",
      "\n",
      "----Working on seperate_graph 0----\n",
      "\n",
      "\n",
      "---------Working on soma_idx = 0, soma_group_idx 0, endpt = [1502766.          800456.88235294  921608.2       ]---------\n",
      "Starting_edge inside branches_to_conept = [[1500787.45363244  800911.22071928  920530.51560744]\n",
      " [1502766.          800456.88235294  921608.2       ]]\n",
      "At the start, starting_node (in terms of the skeleton, that shouldn't match the starting edge) = [13]\n",
      "printing out current edge:\n",
      "[[1502766.          800456.88235294  921608.2       ]\n",
      " [1500787.45363244  800911.22071928  920530.51560744]]\n",
      "edge_endpoints_to_process was empty so exiting loop after 13 iterations\n",
      "starting_node in concept map (that should match the starting edge) = 12\n",
      "Total time for branches to concept conversion = 0.5293092727661133\n",
      "\n",
      "Done generating concept network \n",
      "\n",
      "\n",
      "\n",
      "\n",
      "----Working on seperate_graph 0----\n",
      "\n",
      "\n",
      "---------Working on soma_idx = 0, soma_group_idx 0, endpt = [1504630.  799253.  933471.]---------\n",
      "Starting_edge inside branches_to_conept = [[1494630.  824868.  947530.]\n",
      " [1504630.  799253.  933471.]]\n",
      "At the start, starting_node (in terms of the skeleton, that shouldn't match the starting edge) = [3]\n",
      "printing out current edge:\n",
      "[[1504630.  799253.  933471.]\n",
      " [1494630.  824868.  947530.]]\n",
      "edge_endpoints_to_process was empty so exiting loop after 3 iterations\n",
      "starting_node in concept map (that should match the starting edge) = 2\n",
      "Total time for branches to concept conversion = 0.248335599899292\n",
      "\n",
      "Done generating concept network \n",
      "\n",
      "\n",
      "\n",
      "\n",
      "------ Working on Soma 0 -------\n",
      "limb_neighbors = [0, 1, 2, 3, 4, 5, 6, 7]\n",
      "limb_neighbors BEFORE error limbs removed = [0, 1, 2, 3, 4, 5, 6, 7]\n",
      "limb_neighbors AFTER error limbs removed = [0 1 2 3 4 5 6 7]\n",
      "curr_n_multi_soma_limbs_cancelled = 0\n",
      "curr_n_same_soma_limbs_cancelled = 0\n",
      "n_errored_lims = 0\n",
      "curr_error_limbs_cancelled_area = []\n",
      "local_floating_meshes = []\n",
      "Already have preprocessed data\n",
      "--- 1) Finished unpacking preprocessed materials: 7.390975952148438e-05\n",
      "total_edges = [['S0', 'L0'], ['S0', 'L1'], ['S0', 'L2'], ['S0', 'L3'], ['S0', 'L4'], ['S0', 'L5'], ['S0', 'L6'], ['S0', 'L7']]\n",
      "--- 2) Finished creating neuron connectivity graph: 0.00012612342834472656\n",
      "Having to generate soma_meshes_face_idx because none in preprocessed data\n",
      "--- 3a) Finshed generating soma_meshes_face_idx: 0.08379793167114258\n",
      "Using precomputed volume ratio\n",
      "--- 3) Finshed generating soma objects and adding them to concept graph: 8.710711240768433\n",
      "Using already existing limb_mehses_face_idx in preprocessed data \n",
      "curr_limb_concept_networks= {0: [<networkx_utils.GraphOrderedEdges object at 0x7fbe6f9590b8>]}\n",
      "curr_limb_concept_networks= {0: [<networkx_utils.GraphOrderedEdges object at 0x7fbe6f959ef0>]}\n",
      "curr_limb_concept_networks= {0: [<networkx_utils.GraphOrderedEdges object at 0x7fbe6ffe50b8>]}\n",
      "curr_limb_concept_networks= {0: [<networkx_utils.GraphOrderedEdges object at 0x7fbe704904e0>]}\n",
      "Concept graph size was 1 or less so returning original\n",
      "curr_limb_concept_networks= {0: [<networkx_utils.GraphOrderedEdges object at 0x7fbe6fcdea20>]}\n",
      "curr_limb_concept_networks= {0: [<networkx_utils.GraphOrderedEdges object at 0x7fbe6fcdea58>]}\n",
      "curr_limb_concept_networks= {0: [<networkx_utils.GraphOrderedEdges object at 0x7fbe6fcdecf8>]}\n",
      "Concept graph size was 1 or less so returning original\n",
      "curr_limb_concept_networks= {0: [<networkx_utils.GraphOrderedEdges object at 0x7fbf16efe9e8>]}\n",
      "Concept graph size was 1 or less so returning original\n",
      "--- 4) Finshed generating Limb objects and adding them to concept graph: 1.6664507389068604\n",
      "--- 5) SKIPPING Doing the adaptive mesh correspondence on the meshparty preprocessing ---\n",
      "--- 6) SKIPPING Using the computed_attribute_dict to populate neuron attributes ---\n",
      "self.n_limbs = 8\n",
      "7) Calculating the spines for the neuorn if do not already exist\n",
      "Total time for neuron instance creation = 12.100560426712036\n",
      "\n",
      "\n",
      "Number of seperate neuron objects = 1\n"
     ]
    }
   ],
   "source": [
    "new_neuron,total_area,total_sk_distance = pru.filter_away_axon_on_dendrite_merges(current_neuron,\n",
    "                                                                    use_pre_existing_axon_error_labels=True)"
   ]
  },
  {
   "cell_type": "code",
   "execution_count": 23,
   "metadata": {},
   "outputs": [
    {
     "name": "stdout",
     "output_type": "stream",
     "text": [
      "\n",
      " Working on visualization type: mesh\n"
     ]
    },
    {
     "data": {
      "application/vnd.jupyter.widget-view+json": {
       "model_id": "c33d31a7a0294bcfa2834498e6f59db4",
       "version_major": 2,
       "version_minor": 0
      },
      "text/plain": [
       "VBox(children=(Figure(camera=PerspectiveCamera(fov=46.0, position=(0.0, 0.0, 2.0), quaternion=(0.0, 0.0, 0.0, …"
      ]
     },
     "metadata": {},
     "output_type": "display_data"
    }
   ],
   "source": [
    "nviz.visualize_neuron_lite(new_neuron)"
   ]
  },
  {
   "cell_type": "markdown",
   "metadata": {},
   "source": [
    "# Looking for dendritic parts of axon"
   ]
  },
  {
   "cell_type": "code",
   "execution_count": 24,
   "metadata": {},
   "outputs": [
    {
     "name": "stdout",
     "output_type": "stream",
     "text": [
      "\n",
      "Part 1: Axon like branchese \n",
      "{'L0': array([10]), 'L1': array([ 1,  2,  5,  8, 10, 12]), 'L5': array([0]), 'L7': array([0])}\n",
      "Limb L0 soma angle: 31.96 \n",
      "Limb L1 soma angle: 120.57 \n",
      "Limb L2 soma angle: 112.62 \n",
      "Limb L3 soma angle: 134.92 \n",
      "Limb L4 soma angle: 100.5 \n",
      "Limb L5 soma angle: 120.96 \n",
      "Limb L6 soma angle: 126.82 \n",
      "Limb L7 soma angle: 151.97 \n",
      "\n",
      "Part 2: possible_axon_limbs = [1, 2, 3, 4, 5, 6, 7]\n",
      "\n",
      "Phase 2: Working on Limb L1\n",
      "nodes_to_eliminate = [12]\n",
      "\n",
      "Phase 2: Working on Limb L2\n",
      "nodes_to_eliminate = []\n",
      "\n",
      "Phase 2: Working on Limb L3\n",
      "nodes_to_eliminate = []\n",
      "\n",
      "Phase 2: Working on Limb L4\n",
      "nodes_to_eliminate = []\n",
      "\n",
      "Phase 2: Working on Limb L5\n",
      "nodes_to_eliminate = []\n",
      "\n",
      "Phase 2: Working on Limb L6\n",
      "nodes_to_eliminate = []\n",
      "\n",
      "Phase 2: Working on Limb L7\n",
      "nodes_to_eliminate = []\n",
      "\n",
      "----Working on Limb L1-----\n",
      "No endpoints were eliminated so don't need to add back any candidates\n",
      "\n",
      "----Working on Limb L2-----\n",
      "No nodes were eliminated so don't need to add back any candidates\n",
      "\n",
      "----Working on Limb L3-----\n",
      "No nodes were eliminated so don't need to add back any candidates\n",
      "\n",
      "----Working on Limb L4-----\n",
      "No nodes were eliminated so don't need to add back any candidates\n",
      "\n",
      "----Working on Limb L5-----\n",
      "No nodes were eliminated so don't need to add back any candidates\n",
      "\n",
      "----Working on Limb L6-----\n",
      "No nodes were eliminated so don't need to add back any candidates\n",
      "\n",
      "----Working on Limb L7-----\n",
      "No nodes were eliminated so don't need to add back any candidates\n",
      "Final Candidates\n",
      "\n",
      "Limb 1\n",
      "array([8])\n",
      "array([ 0,  1,  2,  3,  4,  5,  6,  7,  9, 10, 11])\n",
      "\n",
      "Limb 2\n",
      "array([0, 1, 2])\n",
      "\n",
      "Limb 3\n",
      "array([0])\n",
      "\n",
      "Limb 4\n",
      "array([0, 1, 2])\n",
      "\n",
      "Limb 5\n",
      "array([0, 1, 2])\n",
      "\n",
      "Limb 6\n",
      "array([0])\n",
      "\n",
      "Limb 7\n",
      "array([0])\n",
      "Part 3: axon_subgraph_candidates = {1: [[8], [0, 1, 2, 3, 4, 5, 6, 7, 9, 10, 11]], 2: [[0, 1, 2]], 3: [[0]], 4: [[0, 1, 2]], 5: [[0, 1, 2]], 6: [[0]], 7: [[0]]}\n",
      "\n",
      "\n",
      " --- Working on limb 1, candidate # 0\n",
      "1 out of 1 branches are axons\n",
      "Axon percentage = 1.0\n",
      "curr_axon_angle_threshold = 110\n",
      "candidate_nodes = [ 8 12]\n",
      "non_axon_branches_on_subgraph = []\n",
      "endnodes_to_test BEFORE FILTER = [298]\n",
      "endnodes_to_test = [298]\n",
      "Skeleton paths distances = [24992.89704681]\n",
      "Filtered indexes = [0]\n",
      "len(filtered_skeletons) = 1\n",
      "sk_angles = [59.96356956]\n",
      "Not adding candidate because no angles ([59.96356956]) passed the threhold 110 \n",
      "\n",
      "\n",
      " --- Working on limb 1, candidate # 1\n",
      "4 out of 11 branches are axons\n",
      "Axon percentage = 0.36363636363636365\n",
      "curr_axon_angle_threshold = 120\n",
      "candidate_nodes = [ 0  1  2  3  4  5  6  7  9 10 11 12]\n",
      "non_axon_branches_on_subgraph = [ 0  3  4  6  7  9 11]\n",
      "endnodes_to_test BEFORE FILTER = [5420]\n",
      "endnodes_to_test = []\n",
      "Not adding candidate because no angles (None) passed the threhold 120 \n",
      "\n",
      "\n",
      " --- Working on limb 2, candidate # 0\n",
      "0 out of 3 branches are axons\n",
      "Axon percentage = 0.0\n",
      "Not adding candidate no axon branches detected \n",
      "\n",
      "\n",
      " --- Working on limb 3, candidate # 0\n",
      "0 out of 1 branches are axons\n",
      "Axon percentage = 0.0\n",
      "Not adding candidate no axon branches detected \n",
      "\n",
      "\n",
      " --- Working on limb 4, candidate # 0\n",
      "0 out of 3 branches are axons\n",
      "Axon percentage = 0.0\n",
      "Not adding candidate no axon branches detected \n",
      "\n",
      "\n",
      " --- Working on limb 5, candidate # 0\n",
      "1 out of 3 branches are axons\n",
      "Axon percentage = 0.3333333333333333\n",
      "curr_axon_angle_threshold = 120\n",
      "candidate_nodes = [0 1 2]\n",
      "non_axon_branches_on_subgraph = [1 2]\n",
      "endnodes_to_test BEFORE FILTER = [1499 1565]\n",
      "endnodes_to_test = [1565]\n",
      "Skeleton paths distances = [24916.93944855]\n",
      "Filtered indexes = [0]\n",
      "len(filtered_skeletons) = 1\n",
      "sk_angles = [93.1763998]\n",
      "Not adding candidate because no angles ([93.1763998]) passed the threhold 120 \n",
      "\n",
      "\n",
      " --- Working on limb 6, candidate # 0\n",
      "0 out of 1 branches are axons\n",
      "Axon percentage = 0.0\n",
      "Not adding candidate no axon branches detected \n",
      "\n",
      "\n",
      " --- Working on limb 7, candidate # 0\n",
      "1 out of 1 branches are axons\n",
      "Axon percentage = 1.0\n",
      "curr_axon_angle_threshold = 110\n",
      "candidate_nodes = [0]\n",
      "non_axon_branches_on_subgraph = []\n",
      "endnodes_to_test BEFORE FILTER = [1]\n",
      "endnodes_to_test = [1]\n",
      "Skeleton paths distances = [24966.48072768]\n",
      "Filtered indexes = [0]\n",
      "len(filtered_skeletons) = 1\n",
      "sk_angles = [132.74672827]\n",
      "Adding the following branches as true axons: [0.]\n",
      "\n",
      "\n",
      "Part 4: final_true_axons = {'L7': array([0.])}\n",
      "\n",
      "\n",
      "------ Working on Soma 0 -------\n",
      "limb_neighbors = [0, 1, 2, 3, 4, 5, 6, 7]\n",
      "limb_neighbors BEFORE error limbs removed = [0, 1, 2, 3, 4, 5, 6, 7]\n",
      "limb_neighbors AFTER error limbs removed = [0 1 2 3 4 5 6 7]\n",
      "curr_n_multi_soma_limbs_cancelled = 0\n",
      "curr_n_same_soma_limbs_cancelled = 0\n",
      "n_errored_lims = 0\n",
      "curr_error_limbs_cancelled_area = []\n",
      "local_floating_meshes = []\n",
      "Already have preprocessed data\n",
      "--- 1) Finished unpacking preprocessed materials: 7.343292236328125e-05\n",
      "total_edges = [['S0', 'L0'], ['S0', 'L1'], ['S0', 'L2'], ['S0', 'L3'], ['S0', 'L4'], ['S0', 'L5'], ['S0', 'L6'], ['S0', 'L7']]\n",
      "--- 2) Finished creating neuron connectivity graph: 0.000125885009765625\n",
      "Having to generate soma_meshes_face_idx because none in preprocessed data\n",
      "--- 3a) Finshed generating soma_meshes_face_idx: 0.0837852954864502\n",
      "Using precomputed volume ratio\n",
      "--- 3) Finshed generating soma objects and adding them to concept graph: 8.670531749725342\n",
      "Using already existing limb_mehses_face_idx in preprocessed data \n",
      "curr_limb_concept_networks= {0: [<networkx_utils.GraphOrderedEdges object at 0x7fbe6d971668>]}\n",
      "curr_limb_concept_networks= {0: [<networkx_utils.GraphOrderedEdges object at 0x7fbe6d9710f0>]}\n",
      "curr_limb_concept_networks= {0: [<networkx_utils.GraphOrderedEdges object at 0x7fbe6d971908>]}\n",
      "curr_limb_concept_networks= {0: [<networkx_utils.GraphOrderedEdges object at 0x7fbe95a33f28>]}\n",
      "Concept graph size was 1 or less so returning original\n",
      "curr_limb_concept_networks= {0: [<networkx_utils.GraphOrderedEdges object at 0x7fbe78bbfda0>]}\n",
      "curr_limb_concept_networks= {0: [<networkx_utils.GraphOrderedEdges object at 0x7fbe78bbf668>]}\n",
      "curr_limb_concept_networks= {0: [<networkx_utils.GraphOrderedEdges object at 0x7fbe70077358>]}\n",
      "Concept graph size was 1 or less so returning original\n",
      "curr_limb_concept_networks= {0: [<networkx_utils.GraphOrderedEdges object at 0x7fbec8166b38>]}\n",
      "Concept graph size was 1 or less so returning original\n",
      "--- 4) Finshed generating Limb objects and adding them to concept graph: 1.6866843700408936\n",
      "--- 5) SKIPPING Doing the adaptive mesh correspondence on the meshparty preprocessing ---\n",
      "--- 6) SKIPPING Using the computed_attribute_dict to populate neuron attributes ---\n",
      "self.n_limbs = 8\n",
      "7) Calculating the spines for the neuorn if do not already exist\n",
      "Total time for neuron instance creation = 12.102465152740479\n",
      "\n",
      "\n",
      "Number of seperate neuron objects = 1\n"
     ]
    }
   ],
   "source": [
    "(dendrite_stripped_neuron,\n",
    "                total_area_dendrite_stripped,\n",
    "                 total_sk_distance_stripped) = pru.filter_away_dendrite_on_axon_merges(new_neuron,\n",
    "                                                                                  use_pre_existing_axon_labels=True)"
   ]
  },
  {
   "cell_type": "code",
   "execution_count": 25,
   "metadata": {},
   "outputs": [
    {
     "name": "stdout",
     "output_type": "stream",
     "text": [
      "\n",
      " Working on visualization type: mesh\n"
     ]
    },
    {
     "data": {
      "application/vnd.jupyter.widget-view+json": {
       "model_id": "70b8a0d32e9c4f44be7edcdc8e158cdf",
       "version_major": 2,
       "version_minor": 0
      },
      "text/plain": [
       "VBox(children=(Figure(camera=PerspectiveCamera(fov=46.0, position=(0.0, 0.0, 2.0), quaternion=(0.0, 0.0, 0.0, …"
      ]
     },
     "metadata": {},
     "output_type": "display_data"
    }
   ],
   "source": [
    "nviz.visualize_neuron_lite(dendrite_stripped_neuron)"
   ]
  },
  {
   "cell_type": "code",
   "execution_count": null,
   "metadata": {},
   "outputs": [],
   "source": []
  },
  {
   "cell_type": "code",
   "execution_count": null,
   "metadata": {},
   "outputs": [],
   "source": []
  },
  {
   "cell_type": "code",
   "execution_count": null,
   "metadata": {},
   "outputs": [],
   "source": []
  },
  {
   "cell_type": "code",
   "execution_count": null,
   "metadata": {},
   "outputs": [],
   "source": []
  },
  {
   "cell_type": "code",
   "execution_count": null,
   "metadata": {},
   "outputs": [],
   "source": []
  },
  {
   "cell_type": "markdown",
   "metadata": {},
   "source": [
    "# Development"
   ]
  },
  {
   "cell_type": "code",
   "execution_count": 26,
   "metadata": {},
   "outputs": [],
   "source": [
    "# dendritic_query = \"labels_restriction == True\"\n",
    "# function_kwargs = dict(matching_labels=[\"axon\"],\n",
    "#                       not_matching_labels=[\"axon-like\"])\n",
    "# non_axon_like_axons = ns.query_neuron(new_neuron,\n",
    "#                 functions_list=[\"labels_restriction\"],\n",
    "#                 query=dendritic_query,\n",
    "#                 function_kwargs=function_kwargs)\n",
    "\n",
    "# nviz.plot_limb_branch_dict(new_neuron,\n",
    "#                            non_axon_like_axons)"
   ]
  },
  {
   "cell_type": "code",
   "execution_count": 27,
   "metadata": {},
   "outputs": [],
   "source": [
    "# current_neuron\n",
    "\n",
    "# dendritic_query = \"labels_restriction == True\"\n",
    "# function_kwargs = dict(matching_labels=[\"axon\"],\n",
    "#                       not_matching_labels=[\"axon-like\"])\n",
    "# non_axon_like_axons = ns.query_neuron(new_neuron,\n",
    "#                 functions_list=[\"labels_restriction\"],\n",
    "#                 query=dendritic_query,\n",
    "#                 function_kwargs=function_kwargs)\n",
    "\n",
    "# # nviz.plot_limb_branch_dict(current_neuron,\n",
    "# #                            non_axon_like_axons)\n",
    "# non_axon_like_axons"
   ]
  },
  {
   "cell_type": "code",
   "execution_count": 28,
   "metadata": {},
   "outputs": [],
   "source": [
    "# dendrite_merge_skeletal_length_min = 20000\n",
    "# dendrite_merge_width_min = 100\n",
    "# dendritie_spine_density_min = 0.00015\n",
    "# dendritic_merge_on_axon_query = (f\"labels_restriction == True and \"\n",
    "#             f\"(median_mesh_center > {dendrite_merge_width_min}) and  \"\n",
    "#             f\"(skeletal_length > {dendrite_merge_skeletal_length_min}) and \"\n",
    "#             f\"(spine_density) > {dendritie_spine_density_min}\")\n",
    "\n",
    "\n",
    "# function_kwargs = dict(matching_labels=[\"axon\"],\n",
    "#                       not_matching_labels=[\"axon-like\"])\n",
    "\n",
    "# dendritic_branches_merged_on_axon = ns.query_neuron(new_neuron,\n",
    "#                 functions_list=[\"labels_restriction\",\"median_mesh_center\",\n",
    "#                                \"skeletal_length\",\"spine_density\"],\n",
    "#                 query=dendritic_merge_on_axon_query,\n",
    "#                 function_kwargs=function_kwargs)\n",
    "\n",
    "# dendritic_branches_merged_on_axon"
   ]
  },
  {
   "cell_type": "code",
   "execution_count": 29,
   "metadata": {},
   "outputs": [],
   "source": [
    "# nviz.plot_limb_branch_dict(new_neuron,\n",
    "#                            dendritic_branches_merged_on_axon)"
   ]
  },
  {
   "cell_type": "code",
   "execution_count": 30,
   "metadata": {
    "scrolled": false
   },
   "outputs": [],
   "source": [
    "# plot_limb_branch_filter_away = False\n",
    "# plot_limb_branch_filter_with_disconnect_effect = True\n",
    "# return_error_info = True\n",
    "# plot_final_neuron = True\n",
    "# verbose=False\n",
    "\n",
    "# (dendrite_stripped_neuron,\n",
    "# total_area_dendrite_stripped,\n",
    "#  total_sk_distance_stripped) = pru.filter_away_limb_branch_dict(new_neuron,\n",
    "#                                      limb_branch_dict=dendritic_branches_merged_on_axon,\n",
    "#                                     plot_limb_branch_filter_away=plot_limb_branch_filter_away,\n",
    "#                                      plot_limb_branch_filter_with_disconnect_effect=plot_limb_branch_filter_with_disconnect_effect,\n",
    "#                                     return_error_info=return_error_info,\n",
    "#                                      plot_final_neuron=plot_final_neuron,\n",
    "#                                      verbose=verbose\n",
    "#                                     )"
   ]
  },
  {
   "cell_type": "markdown",
   "metadata": {},
   "source": [
    "# Package the Dendrite Filter into a function"
   ]
  },
  {
   "cell_type": "code",
   "execution_count": null,
   "metadata": {},
   "outputs": [],
   "source": []
  }
 ],
 "metadata": {
  "kernelspec": {
   "display_name": "Python 3",
   "language": "python",
   "name": "python3"
  },
  "language_info": {
   "codemirror_mode": {
    "name": "ipython",
    "version": 3
   },
   "file_extension": ".py",
   "mimetype": "text/x-python",
   "name": "python",
   "nbconvert_exporter": "python",
   "pygments_lexer": "ipython3",
   "version": "3.6.9"
  }
 },
 "nbformat": 4,
 "nbformat_minor": 4
}
