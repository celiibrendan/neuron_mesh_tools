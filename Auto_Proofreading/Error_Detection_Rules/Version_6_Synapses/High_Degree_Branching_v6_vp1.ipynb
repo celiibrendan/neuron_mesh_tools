{
 "cells": [
  {
   "cell_type": "code",
   "execution_count": null,
   "metadata": {},
   "outputs": [],
   "source": [
    "\"\"\"\n",
    "Created: 6/7\n",
    "\n",
    "Purpose: To incorporate the synapses\n",
    "into the neuron object\n",
    "\n",
    "\"\"\""
   ]
  },
  {
   "cell_type": "code",
   "execution_count": 1,
   "metadata": {},
   "outputs": [],
   "source": [
    "%load_ext autoreload\n",
    "%autoreload 2"
   ]
  },
  {
   "cell_type": "code",
   "execution_count": 2,
   "metadata": {},
   "outputs": [],
   "source": [
    "import numpy as np\n",
    "import datajoint as dj\n",
    "import trimesh\n",
    "from tqdm.notebook import tqdm\n",
    "from pathlib import Path\n",
    "\n",
    "from os import sys\n",
    "sys.path.append(\"/meshAfterParty/\")\n",
    "sys.path.append(\"/meshAfterParty/meshAfterParty\")\n",
    "\n",
    "import datajoint_utils as du\n",
    "from importlib import reload"
   ]
  },
  {
   "cell_type": "code",
   "execution_count": 3,
   "metadata": {},
   "outputs": [],
   "source": [
    "# #configuring will include the adapters\n",
    "# minnie,schema = du.configure_minnie_vm()"
   ]
  },
  {
   "cell_type": "code",
   "execution_count": 4,
   "metadata": {},
   "outputs": [],
   "source": [
    "import neuron_utils as nru\n",
    "import neuron_visualizations as nviz"
   ]
  },
  {
   "cell_type": "markdown",
   "metadata": {},
   "source": [
    "# Downloading a Neuron to Play with"
   ]
  },
  {
   "cell_type": "code",
   "execution_count": 5,
   "metadata": {},
   "outputs": [],
   "source": [
    "segment_id = 864691136194042326"
   ]
  },
  {
   "cell_type": "code",
   "execution_count": null,
   "metadata": {},
   "outputs": [],
   "source": [
    "# original_mesh = du.fetch_segment_id_mesh(segment_id)"
   ]
  },
  {
   "cell_type": "code",
   "execution_count": null,
   "metadata": {},
   "outputs": [],
   "source": [
    "# neuron_obj  = du.decomposition_with_spine_recalculation(segment_id,split_index = 0)"
   ]
  },
  {
   "cell_type": "code",
   "execution_count": null,
   "metadata": {},
   "outputs": [],
   "source": [
    "# import synapse_utils as syu\n",
    "# neuron_obj_syn = syu.add_synapses_to_neuron_obj(neuron_obj,\n",
    "#                                                 segment_id = segment_id,\n",
    "#                             validation = True,\n",
    "#                             verbose  = True,\n",
    "#                             #original_mesh = original_mesh,\n",
    "#                             plot_valid_error_synapses = False,\n",
    "#                             calculate_synapse_soma_distance = False,\n",
    "#                             add_valid_synapses = True,\n",
    "#                               add_error_synapses=False)"
   ]
  },
  {
   "cell_type": "markdown",
   "metadata": {},
   "source": [
    "# Decompressing the Neuron to place with"
   ]
  },
  {
   "cell_type": "code",
   "execution_count": 6,
   "metadata": {},
   "outputs": [],
   "source": [
    "import system_utils as su\n",
    "original_mesh = su.decompress_pickle(\"original_mesh.pbz2\")"
   ]
  },
  {
   "cell_type": "code",
   "execution_count": 7,
   "metadata": {},
   "outputs": [
    {
     "name": "stdout",
     "output_type": "stream",
     "text": [
      "Decompressing Neuron in minimal output mode...please wait\n"
     ]
    }
   ],
   "source": [
    "neuron_obj = nru.decompress_neuron(\"./864691136194042326_0_25_axon_v5.pbz2\",\n",
    "                                  original_mesh=original_mesh)"
   ]
  },
  {
   "cell_type": "code",
   "execution_count": 8,
   "metadata": {},
   "outputs": [
    {
     "name": "stdout",
     "output_type": "stream",
     "text": [
      "Recieved another instance of Neuron class in init -- so just copying data\n",
      "\n",
      " Working on visualization type: mesh\n",
      "\n",
      " Working on visualization type: skeleton\n",
      "No Synapses to plot\n"
     ]
    },
    {
     "data": {
      "application/vnd.jupyter.widget-view+json": {
       "model_id": "f6b61faa9a204085aa452328efcb2d09",
       "version_major": 2,
       "version_minor": 0
      },
      "text/plain": [
       "VBox(children=(Figure(camera=PerspectiveCamera(fov=46.0, position=(0.0, 0.0, 2.0), projectionMatrix=(1.0, 0.0,…"
      ]
     },
     "metadata": {},
     "output_type": "display_data"
    }
   ],
   "source": [
    "nviz.visualize_neuron(neuron_obj,\n",
    "                     limb_branch_dict=\"all\")"
   ]
  },
  {
   "cell_type": "code",
   "execution_count": 9,
   "metadata": {},
   "outputs": [],
   "source": [
    "neuron_obj_syn = neuron_obj"
   ]
  },
  {
   "cell_type": "markdown",
   "metadata": {},
   "source": [
    "# The high degree function"
   ]
  },
  {
   "cell_type": "code",
   "execution_count": null,
   "metadata": {},
   "outputs": [],
   "source": [
    "\"\"\"\n",
    "Pseudocode: \n",
    "\n",
    "\n",
    "\"\"\""
   ]
  },
  {
   "cell_type": "code",
   "execution_count": 12,
   "metadata": {},
   "outputs": [
    {
     "name": "stdout",
     "output_type": "stream",
     "text": [
      "Recieved another instance of Neuron class in init -- so just copying data\n",
      "\n",
      " Working on visualization type: mesh\n",
      "No Synapses to plot\n"
     ]
    },
    {
     "data": {
      "application/vnd.jupyter.widget-view+json": {
       "model_id": "1ada3109b7954664b46a1349be95070f",
       "version_major": 2,
       "version_minor": 0
      },
      "text/plain": [
       "VBox(children=(Figure(camera=PerspectiveCamera(fov=46.0, position=(0.0, 0.0, 2.0), projectionMatrix=(1.0, 0.0,…"
      ]
     },
     "metadata": {},
     "output_type": "display_data"
    }
   ],
   "source": [
    "import neuron_searching as ns\n",
    "pre_filtering_limb_branch = ns.query_neuron_by_labels(neuron_obj,\n",
    "                            matching_labels=[\"axon\"])\n",
    "nviz.plot_limb_branch_dict(neuron_obj,\n",
    "                           pre_filtering_limb_branch)"
   ]
  },
  {
   "cell_type": "markdown",
   "metadata": {},
   "source": [
    "# finding all branches with at least 3 downstream branches"
   ]
  },
  {
   "cell_type": "code",
   "execution_count": 111,
   "metadata": {},
   "outputs": [
    {
     "name": "stdout",
     "output_type": "stream",
     "text": [
      "Recieved another instance of Neuron class in init -- so just copying data\n",
      "\n",
      " Working on visualization type: mesh\n",
      "No Synapses to plot\n"
     ]
    },
    {
     "data": {
      "application/vnd.jupyter.widget-view+json": {
       "model_id": "9a298699ff4f488e866ccd7c0ead9ceb",
       "version_major": 2,
       "version_minor": 0
      },
      "text/plain": [
       "VBox(children=(Figure(camera=PerspectiveCamera(fov=46.0, position=(0.0, 0.0, 2.0), projectionMatrix=(1.0, 0.0,…"
      ]
     },
     "metadata": {},
     "output_type": "display_data"
    }
   ],
   "source": [
    "if pre_filtering_limb_branch is None:\n",
    "    pre_filtering_limb_branch = neuron_obj.limb_branch_dict\n",
    "\n",
    "    \n",
    "skip_distance = 2000\n",
    "min_skeletal_distance = 3000\n",
    "\n",
    "high_degree_limb_branch = ns.query_neuron(neuron_obj,\n",
    "                functions_list=[\"n_downstream_nodes_with_skip\",\"skeletal_length\"],\n",
    "                query = f\"(n_downstream_nodes_with_skip>2) and (skeletal_length>{min_skeletal_distance})\",\n",
    "                function_kwargs=dict(skip_distance=skip_distance),\n",
    "               limb_branch_dict_restriction=pre_filtering_limb_branch)\n",
    "\n",
    "nviz.plot_limb_branch_dict(neuron_obj,\n",
    "                           high_degree_limb_branch)"
   ]
  },
  {
   "cell_type": "markdown",
   "metadata": {},
   "source": [
    "# Building the high degree matching"
   ]
  },
  {
   "cell_type": "code",
   "execution_count": 371,
   "metadata": {},
   "outputs": [
    {
     "name": "stdout",
     "output_type": "stream",
     "text": [
      "downstream_branches = [225 226 227]\n",
      "downstream_branches after remove_short_thick_endnodes = [225 226 227]\n",
      "Changing max_degree_to_resolve = 8 because upstream width was 679.4556177211822 \n",
      "widths_in_branches = [354.47255309 354.63438962 427.93966179 679.45561772]\n",
      "Returning No errors because widths are too thick for skeletons to be trusted\n",
      "Returning No errors because not all branches were axons\n",
      "Returning No errors because not all branches were axons\n",
      "Returning No errors because not all branches were axons\n"
     ]
    }
   ],
   "source": [
    "import axon_utils as au\n",
    "\n",
    "\"\"\"\n",
    "Purpose: To implement the high degree\n",
    "branching filter using graph implementation\n",
    "to compare the matches of all the candidates in \n",
    "a high degree branching area\n",
    "\n",
    "Pseudocode: \n",
    "1) Get all downstream branhes (with an optional skip distance)\n",
    "\"\"\"\n",
    "limb_obj = neuron_obj[0]\n",
    "branch_idx = 223\n",
    "skip_distance = 3000\n",
    "verbose = False\n",
    "remove_short_thick_endnodes = True\n",
    "short_thick_endnodes_to_remove = None\n",
    "min_degree_to_resolve = 3\n",
    "\n",
    "width_func = au.axon_width\n",
    "\n",
    "max_degree_to_resolve = 6\n",
    "max_degree_to_resolve_wide = 8\n",
    "max_degree_to_resolve_width_threshold = 200\n",
    "\n",
    "\n",
    "width_max = 170\n",
    "axon_dependent = True\n",
    "\n",
    "# --- parameters for the filtering away of edges ---\n",
    "worst_case_match_threshold = 65\n",
    "\n",
    "#args for width matching\n",
    "width_diff_max = 75#np.inf,#100,\n",
    "width_diff_perc = 60\n",
    "\n",
    "verbose = True\n",
    "\n",
    "\n",
    "#1) Get all downstream branhes (with an optional skip distance)\n",
    "downstream_branches = cnu.endnode_branches_of_branches_within_distance_downtream(limb_obj,\n",
    "                                                          branch_idx,\n",
    "                                                          skip_distance=skip_distance)\n",
    "\n",
    "if verbose:\n",
    "    print(f\"downstream_branches = {downstream_branches}\")\n",
    "\n",
    "if remove_short_thick_endnodes:\n",
    "    if short_thick_endnodes_to_remove is None:\n",
    "        short_thick_endnodes_to_remove = au.short_thick_branches_from_limb(limb_obj,\n",
    "                             verbose = False)\n",
    "    downstream_branches = np.setdiff1d(downstream_branches,short_thick_endnodes_to_remove)\n",
    "    \n",
    "    if verbose:\n",
    "        print(f\"downstream_branches after remove_short_thick_endnodes = {downstream_branches}\")\n",
    "        \n",
    "        \n",
    "if len(downstream_branches) < min_degree_to_resolve:\n",
    "    if verbose:\n",
    "        print(f\"Number of branches ({len(downstream_branches)}), aka downstream_branches = {downstream_branches}) was less than min_degree_to_resolve ({min_degree_to_resolve}) so returning no error branches\")\n",
    "    return_value =  None,np.array([])\n",
    "    \n",
    "    \n",
    "upstream_branch = branch_idx\n",
    "if max_degree_to_resolve_wide is not None:\n",
    "    up_width = width_func(limb_obj[upstream_branch])\n",
    "    if up_width > max_degree_to_resolve_width_threshold:\n",
    "        max_degree_to_resolve = max_degree_to_resolve_wide\n",
    "        print(f\"Changing max_degree_to_resolve = {max_degree_to_resolve_wide} because upstream width was {up_width} \")\n",
    "        \n",
    "if max_degree_to_resolve is not None and len(downstream_branches) > max_degree_to_resolve:\n",
    "    if verbose:\n",
    "        print(f\"Number of branches ({len(downstream_branches)}) was more than max_degree_to_resolve ({max_degree_to_resolve}) so returning all downstream as error branches\")\n",
    "    return_value= None,downstream_branches\n",
    "    \n",
    "\n",
    "all_branch_idx = np.hstack([downstream_branches,[upstream_branch]])\n",
    "    \n",
    "widths_in_branches = np.array([width_func(limb_obj[b]) for b in all_branch_idx])\n",
    "if verbose:\n",
    "    print(f\"widths_in_branches = {widths_in_branches}\")\n",
    "\n",
    "widths_in_branches = widths_in_branches[widths_in_branches != 0]\n",
    "\n",
    "if width_max is not None:\n",
    "    if len(widths_in_branches[widths_in_branches>width_max]) == len(widths_in_branches):\n",
    "        if verbose:\n",
    "            print(f\"Returning No errors because widths are too thick for skeletons to be trusted\")\n",
    "        return_value = None,[]\n",
    "        \n",
    "if axon_dependent:\n",
    "    for b in downstream_branches:\n",
    "        if \"axon\" not in limb_obj[b].labels:\n",
    "            if verbose:\n",
    "                print(f\"Returning No errors because not all branches were axons\")\n",
    "            return_value= None,[]\n",
    "            \n",
    "            \n",
    "# create the full connected graph that stores the difference\n"
   ]
  },
  {
   "cell_type": "code",
   "execution_count": 133,
   "metadata": {},
   "outputs": [
    {
     "name": "stdout",
     "output_type": "stream",
     "text": [
      "upstream 223 endpoint: [702663. 557074. 845507.]\n",
      "downstream 224 endpoint: [711442. 565720. 845151.]\n",
      "curr_angle = 19.8\n",
      "Parent (223):red, child (224):blue\n"
     ]
    },
    {
     "data": {
      "application/vnd.jupyter.widget-view+json": {
       "model_id": "51726235e0ea4581bf202f744b37cb9c",
       "version_major": 2,
       "version_minor": 0
      },
      "text/plain": [
       "VBox(children=(Figure(camera=PerspectiveCamera(fov=46.0, position=(0.0, 0.0, 2.0), projectionMatrix=(1.0, 0.0,…"
      ]
     },
     "metadata": {},
     "output_type": "display_data"
    },
    {
     "data": {
      "text/plain": [
       "19.8"
      ]
     },
     "execution_count": 133,
     "metadata": {},
     "output_type": "execute_result"
    }
   ],
   "source": [
    "nru.find_parent_child_skeleton_angle_upstream_downstream(limb_obj,\n",
    "                                                       223,\n",
    "                                                       224,\n",
    "                                                         branch_1_type=\"upstream\",\n",
    "                                                         branch_2_type=\"downstream\",\n",
    "                                                       plot_extracted_skeletons=True)"
   ]
  },
  {
   "cell_type": "markdown",
   "metadata": {},
   "source": [
    "# Functions that will do a lot of the comparisons"
   ]
  },
  {
   "cell_type": "code",
   "execution_count": 249,
   "metadata": {},
   "outputs": [
    {
     "name": "stdout",
     "output_type": "stream",
     "text": [
      "Recieved another instance of Neuron class in init -- so just copying data\n"
     ]
    }
   ],
   "source": [
    "import neuron\n",
    "neuron_obj = neuron.Neuron(neuron_obj)\n",
    "limb_obj = neuron_obj[0]"
   ]
  },
  {
   "cell_type": "code",
   "execution_count": 416,
   "metadata": {
    "scrolled": true
   },
   "outputs": [
    {
     "data": {
      "application/vnd.jupyter.widget-view+json": {
       "model_id": "9925c0ef6fa04bce9049fc5d82a0e716",
       "version_major": 2,
       "version_minor": 0
      },
      "text/plain": [
       "HBox(children=(FloatProgress(value=0.0, max=6.0), HTML(value='')))"
      ]
     },
     "metadata": {},
     "output_type": "display_data"
    },
    {
     "name": "stdout",
     "output_type": "stream",
     "text": [
      "\n"
     ]
    },
    {
     "data": {
      "text/html": [
       "<div>\n",
       "<style scoped>\n",
       "    .dataframe tbody tr th:only-of-type {\n",
       "        vertical-align: middle;\n",
       "    }\n",
       "\n",
       "    .dataframe tbody tr th {\n",
       "        vertical-align: top;\n",
       "    }\n",
       "\n",
       "    .dataframe thead th {\n",
       "        text-align: right;\n",
       "    }\n",
       "</style>\n",
       "<table border=\"1\" class=\"dataframe\">\n",
       "  <thead>\n",
       "    <tr style=\"text-align: right;\">\n",
       "      <th></th>\n",
       "      <th>u</th>\n",
       "      <th>v</th>\n",
       "      <th>sk_angle</th>\n",
       "      <th>width_diff</th>\n",
       "      <th>width_diff_percentage</th>\n",
       "      <th>synapse_density_diff</th>\n",
       "      <th>n_synapses_diff</th>\n",
       "      <th>none_to_some_synapses</th>\n",
       "    </tr>\n",
       "  </thead>\n",
       "  <tbody>\n",
       "    <tr>\n",
       "      <th>0</th>\n",
       "      <td>225</td>\n",
       "      <td>226</td>\n",
       "      <td>88.99</td>\n",
       "      <td>0.161837</td>\n",
       "      <td>0.000456</td>\n",
       "      <td>0.000158</td>\n",
       "      <td>135</td>\n",
       "      <td>False</td>\n",
       "    </tr>\n",
       "    <tr>\n",
       "      <th>1</th>\n",
       "      <td>225</td>\n",
       "      <td>227</td>\n",
       "      <td>108.89</td>\n",
       "      <td>73.467109</td>\n",
       "      <td>0.171676</td>\n",
       "      <td>0.000205</td>\n",
       "      <td>6</td>\n",
       "      <td>False</td>\n",
       "    </tr>\n",
       "    <tr>\n",
       "      <th>2</th>\n",
       "      <td>225</td>\n",
       "      <td>223</td>\n",
       "      <td>119.20</td>\n",
       "      <td>324.983065</td>\n",
       "      <td>0.478299</td>\n",
       "      <td>0.000264</td>\n",
       "      <td>25</td>\n",
       "      <td>False</td>\n",
       "    </tr>\n",
       "    <tr>\n",
       "      <th>3</th>\n",
       "      <td>226</td>\n",
       "      <td>227</td>\n",
       "      <td>102.61</td>\n",
       "      <td>73.305272</td>\n",
       "      <td>0.171298</td>\n",
       "      <td>0.000047</td>\n",
       "      <td>129</td>\n",
       "      <td>False</td>\n",
       "    </tr>\n",
       "    <tr>\n",
       "      <th>4</th>\n",
       "      <td>226</td>\n",
       "      <td>223</td>\n",
       "      <td>140.22</td>\n",
       "      <td>324.821228</td>\n",
       "      <td>0.478061</td>\n",
       "      <td>0.000106</td>\n",
       "      <td>160</td>\n",
       "      <td>False</td>\n",
       "    </tr>\n",
       "    <tr>\n",
       "      <th>5</th>\n",
       "      <td>227</td>\n",
       "      <td>223</td>\n",
       "      <td>134.21</td>\n",
       "      <td>251.515956</td>\n",
       "      <td>0.370173</td>\n",
       "      <td>0.000059</td>\n",
       "      <td>31</td>\n",
       "      <td>False</td>\n",
       "    </tr>\n",
       "  </tbody>\n",
       "</table>\n",
       "</div>"
      ],
      "text/plain": [
       "     u    v  sk_angle  width_diff  width_diff_percentage  \\\n",
       "0  225  226     88.99    0.161837               0.000456   \n",
       "1  225  227    108.89   73.467109               0.171676   \n",
       "2  225  223    119.20  324.983065               0.478299   \n",
       "3  226  227    102.61   73.305272               0.171298   \n",
       "4  226  223    140.22  324.821228               0.478061   \n",
       "5  227  223    134.21  251.515956               0.370173   \n",
       "\n",
       "   synapse_density_diff  n_synapses_diff  none_to_some_synapses  \n",
       "0              0.000158              135                  False  \n",
       "1              0.000205                6                  False  \n",
       "2              0.000264               25                  False  \n",
       "3              0.000047              129                  False  \n",
       "4              0.000106              160                  False  \n",
       "5              0.000059               31                  False  "
      ]
     },
     "execution_count": 416,
     "metadata": {},
     "output_type": "execute_result"
    }
   ],
   "source": [
    "G = complete_graph_from_node_ids(all_branch_idx)\n",
    "\n",
    "nodes_to_compute = [upstream_branch]\n",
    "edge_functions = dict(sk_angle=nst.parent_child_sk_angle,\n",
    "                     width_diff = nst.width_diff,\n",
    "                      width_diff_percentage = nst.width_diff_percentage,\n",
    "                     synapse_density_diff=nst.synapse_density_diff,\n",
    "                      n_synapses_diff = nst.n_synapses_diff,\n",
    "                      none_to_some_synapses = nst.none_to_some_synapses\n",
    "                     )\n",
    "\n",
    "G_e_1 = nst.compute_edge_attributes_locally(G,\n",
    "                                          limb_obj,\n",
    "                                         nodes_to_compute,\n",
    "                                         edge_functions,\n",
    "                                         verbose=False,\n",
    "                                         directional = False)\n",
    "\n",
    "nodes_to_compute = downstream_branches\n",
    "edge_functions = dict(sk_angle=nst.sibling_sk_angle,\n",
    "                     width_diff = nst.width_diff,\n",
    "                      width_diff_percentage = nst.width_diff_percentage,\n",
    "                     synapse_density_diff=nst.synapse_density_diff,\n",
    "                      n_synapses_diff = nst.n_synapses_diff,\n",
    "                     none_to_some_synapses = nst.none_to_some_synapses)\n",
    "\n",
    "G_e_2 = nst.compute_edge_attributes_locally(G_e_1,\n",
    "                                          limb_obj,\n",
    "                                         nodes_to_compute,\n",
    "                                         edge_functions,\n",
    "                                         verbose=False,\n",
    "                                         directional = False)\n",
    "\n",
    "xu.edge_df(G_e_2)"
   ]
  },
  {
   "cell_type": "markdown",
   "metadata": {},
   "source": [
    "# Doing the Edge Query"
   ]
  },
  {
   "cell_type": "code",
   "execution_count": 417,
   "metadata": {},
   "outputs": [
    {
     "name": "stdout",
     "output_type": "stream",
     "text": [
      "branch_match_query = :\n",
      "(((width_diff < 75) or (width_diff_percentage < 0.6)) and (sk_angle < 108))and ((synapse_density_diff<0.0002) or (n_synapses_diff < 6))\n"
     ]
    },
    {
     "data": {
      "application/vnd.jupyter.widget-view+json": {
       "model_id": "808564795f98431aad7ea30627456de8",
       "version_major": 2,
       "version_minor": 0
      },
      "text/plain": [
       "HBox(children=(FloatProgress(value=0.0, max=6.0), HTML(value='')))"
      ]
     },
     "metadata": {},
     "output_type": "display_data"
    },
    {
     "name": "stdout",
     "output_type": "stream",
     "text": [
      "\n",
      "Performing Edge Query\n",
      "After edge filter, # of rows = 2\n"
     ]
    },
    {
     "data": {
      "image/png": "[encoded data removed]",
      "text/plain": [
       "<Figure size 432x288 with 1 Axes>"
      ]
     },
     "metadata": {},
     "output_type": "display_data"
    }
   ],
   "source": [
    "# --- parameters for the filtering away of edges ---\n",
    "worst_case_match_threshold = 108\n",
    "\n",
    "#args for width matching\n",
    "width_diff_max = 75#np.inf,#100,\n",
    "width_diff_perc = 0.60\n",
    "\n",
    "perform_synapse_filter = True\n",
    "synapse_density_diff_threshold = 0.0002\n",
    "n_synapses_diff_threshold = 6\n",
    "\n",
    "plot_G_edge_filt = True\n",
    "\n",
    "synapse_query = (f\"((synapse_density_diff<{synapse_density_diff_threshold}) or\" \n",
    "                    f\" (n_synapses_diff < {n_synapses_diff_threshold}))\")\n",
    "\n",
    "branch_match_query = (f\"(((width_diff < {width_diff_max}) or (width_diff_percentage < {width_diff_perc}))\"\n",
    "                      f\" and (sk_angle < {worst_case_match_threshold}))\")\n",
    "\n",
    "if perform_synapse_filter:\n",
    "    branch_match_query += f\"and {synapse_query}\"\n",
    "    \n",
    "if verbose:\n",
    "    print(f\"branch_match_query = :\\n{branch_match_query}\")\n",
    "    \n",
    "G_edge_filt = xu.query_to_subgraph(G_e_2,\n",
    "                                  edge_query=branch_match_query,\n",
    "                                  verbose=True)\n",
    "if plot_G_edge_filt:\n",
    "    nx.draw(G_edge_filt,with_labels=True)"
   ]
  },
  {
   "cell_type": "markdown",
   "metadata": {},
   "source": [
    "# Do global features"
   ]
  },
  {
   "cell_type": "code",
   "execution_count": 418,
   "metadata": {},
   "outputs": [
    {
     "data": {
      "application/vnd.jupyter.widget-view+json": {
       "model_id": "d348c961d15d4c2192b8c5c88a7b81a3",
       "version_major": 2,
       "version_minor": 0
      },
      "text/plain": [
       "HBox(children=(FloatProgress(value=0.0, max=2.0), HTML(value='')))"
      ]
     },
     "metadata": {},
     "output_type": "display_data"
    },
    {
     "name": "stdout",
     "output_type": "stream",
     "text": [
      "\n"
     ]
    },
    {
     "data": {
      "text/html": [
       "<div>\n",
       "<style scoped>\n",
       "    .dataframe tbody tr th:only-of-type {\n",
       "        vertical-align: middle;\n",
       "    }\n",
       "\n",
       "    .dataframe tbody tr th {\n",
       "        vertical-align: top;\n",
       "    }\n",
       "\n",
       "    .dataframe thead th {\n",
       "        text-align: right;\n",
       "    }\n",
       "</style>\n",
       "<table border=\"1\" class=\"dataframe\">\n",
       "  <thead>\n",
       "    <tr style=\"text-align: right;\">\n",
       "      <th></th>\n",
       "      <th>u</th>\n",
       "      <th>v</th>\n",
       "      <th>sk_angle</th>\n",
       "      <th>width_diff</th>\n",
       "      <th>width_diff_percentage</th>\n",
       "      <th>synapse_density_diff</th>\n",
       "      <th>n_synapses_diff</th>\n",
       "      <th>none_to_some_synapses</th>\n",
       "    </tr>\n",
       "  </thead>\n",
       "  <tbody>\n",
       "    <tr>\n",
       "      <th>0</th>\n",
       "      <td>225</td>\n",
       "      <td>226</td>\n",
       "      <td>88.99</td>\n",
       "      <td>0.161837</td>\n",
       "      <td>0.000456</td>\n",
       "      <td>0.000158</td>\n",
       "      <td>135</td>\n",
       "      <td>False</td>\n",
       "    </tr>\n",
       "    <tr>\n",
       "      <th>1</th>\n",
       "      <td>226</td>\n",
       "      <td>227</td>\n",
       "      <td>102.61</td>\n",
       "      <td>73.305272</td>\n",
       "      <td>0.171298</td>\n",
       "      <td>0.000047</td>\n",
       "      <td>129</td>\n",
       "      <td>False</td>\n",
       "    </tr>\n",
       "  </tbody>\n",
       "</table>\n",
       "</div>"
      ],
      "text/plain": [
       "     u    v  sk_angle  width_diff  width_diff_percentage  \\\n",
       "0  225  226     88.99    0.161837               0.000456   \n",
       "1  226  227    102.61   73.305272               0.171298   \n",
       "\n",
       "   synapse_density_diff  n_synapses_diff  none_to_some_synapses  \n",
       "0              0.000158              135                  False  \n",
       "1              0.000047              129                  False  "
      ]
     },
     "execution_count": 418,
     "metadata": {},
     "output_type": "execute_result"
    }
   ],
   "source": [
    "xu.edge_df(G_edge_filt)"
   ]
  },
  {
   "cell_type": "code",
   "execution_count": 419,
   "metadata": {},
   "outputs": [
    {
     "data": {
      "application/vnd.jupyter.widget-view+json": {
       "model_id": "ed7d30d354e243e1a9d6b7be16028dd7",
       "version_major": 2,
       "version_minor": 0
      },
      "text/plain": [
       "HBox(children=(FloatProgress(value=0.0, max=2.0), HTML(value='')))"
      ]
     },
     "metadata": {},
     "output_type": "display_data"
    },
    {
     "name": "stdout",
     "output_type": "stream",
     "text": [
      "\n",
      "Performing Edge Query\n",
      "After edge filter, # of rows = 1\n"
     ]
    },
    {
     "data": {
      "application/vnd.jupyter.widget-view+json": {
       "model_id": "98b8562d770e47078e487bf0313c109d",
       "version_major": 2,
       "version_minor": 0
      },
      "text/plain": [
       "HBox(children=(FloatProgress(value=0.0, max=1.0), HTML(value='')))"
      ]
     },
     "metadata": {},
     "output_type": "display_data"
    },
    {
     "name": "stdout",
     "output_type": "stream",
     "text": [
      "\n"
     ]
    },
    {
     "data": {
      "text/html": [
       "<div>\n",
       "<style scoped>\n",
       "    .dataframe tbody tr th:only-of-type {\n",
       "        vertical-align: middle;\n",
       "    }\n",
       "\n",
       "    .dataframe tbody tr th {\n",
       "        vertical-align: top;\n",
       "    }\n",
       "\n",
       "    .dataframe thead th {\n",
       "        text-align: right;\n",
       "    }\n",
       "</style>\n",
       "<table border=\"1\" class=\"dataframe\">\n",
       "  <thead>\n",
       "    <tr style=\"text-align: right;\">\n",
       "      <th></th>\n",
       "      <th>u</th>\n",
       "      <th>v</th>\n",
       "      <th>sk_angle</th>\n",
       "      <th>width_diff</th>\n",
       "      <th>width_diff_percentage</th>\n",
       "      <th>synapse_density_diff</th>\n",
       "      <th>n_synapses_diff</th>\n",
       "      <th>none_to_some_synapses</th>\n",
       "      <th>definite_partner_delete</th>\n",
       "    </tr>\n",
       "  </thead>\n",
       "  <tbody>\n",
       "    <tr>\n",
       "      <th>0</th>\n",
       "      <td>225</td>\n",
       "      <td>226</td>\n",
       "      <td>88.99</td>\n",
       "      <td>0.161837</td>\n",
       "      <td>0.000456</td>\n",
       "      <td>0.000158</td>\n",
       "      <td>135</td>\n",
       "      <td>False</td>\n",
       "      <td>None</td>\n",
       "    </tr>\n",
       "  </tbody>\n",
       "</table>\n",
       "</div>"
      ],
      "text/plain": [
       "     u    v  sk_angle  width_diff  width_diff_percentage  \\\n",
       "0  225  226     88.99    0.161837               0.000456   \n",
       "\n",
       "   synapse_density_diff  n_synapses_diff  none_to_some_synapses  \\\n",
       "0              0.000158              135                  False   \n",
       "\n",
       "  definite_partner_delete  \n",
       "0                    None  "
      ]
     },
     "execution_count": 419,
     "metadata": {},
     "output_type": "execute_result"
    }
   ],
   "source": [
    "edge_functions_global = dict(definite_partner_delete=dict(function=nst.edges_to_delete_from_threshold_and_buffer,\n",
    "                                                          arguments=dict(threshold=100,\n",
    "                                                                              buffer= 13,\n",
    "                                                                       verbose = False))\n",
    "                     )\n",
    "# applying the definite filter pair\n",
    "G_edge_filt_with_att = nst.compute_edge_attributes_globally(G_edge_filt,\n",
    "                                     edge_functions_global)\n",
    "G_global_1 = xu.query_to_subgraph(G_edge_filt_with_att,\n",
    "                                  edge_query=\"definite_partner_delete != True\",\n",
    "                                  verbose=True)\n",
    "\n",
    "xu.edge_df(G_global_1)"
   ]
  },
  {
   "cell_type": "code",
   "execution_count": 420,
   "metadata": {},
   "outputs": [
    {
     "name": "stdout",
     "output_type": "stream",
     "text": [
      "for edge_values = [88.99] \n",
      "n_below_match = 1 (with threshold = 90)\n",
      "edges_to_delete = []\n"
     ]
    },
    {
     "data": {
      "application/vnd.jupyter.widget-view+json": {
       "model_id": "441c9cbaab6c4a4ebab7d6171404a475",
       "version_major": 2,
       "version_minor": 0
      },
      "text/plain": [
       "HBox(children=(FloatProgress(value=0.0, max=2.0), HTML(value='')))"
      ]
     },
     "metadata": {},
     "output_type": "display_data"
    },
    {
     "name": "stdout",
     "output_type": "stream",
     "text": [
      "\n",
      "Performing Edge Query\n",
      "After edge filter, # of rows = 2\n"
     ]
    }
   ],
   "source": [
    "edge_functions_node_global = dict(above_threshold_delete=dict(\n",
    "                                function=nst.edges_to_delete_on_node_above_threshold_if_one_below,\n",
    "                                arguments=dict(threshold=90,\n",
    "                                   verbose = True)\n",
    "                                )\n",
    "                     )\n",
    "# applying the definite filter pair\n",
    "G_edge_filt_with_node_att = nst.compute_edge_attributes_around_node(G_edge_filt,\n",
    "                                     edge_functions_node_global,\n",
    "                                        nodes_to_compute=225,\n",
    "                                     )\n",
    "\n",
    "G_global_2 = xu.query_to_subgraph(G_edge_filt_with_node_att,\n",
    "                                  edge_query=\"above_threshold_delete != True\",\n",
    "                                  verbose=True)\n"
   ]
  },
  {
   "cell_type": "code",
   "execution_count": null,
   "metadata": {},
   "outputs": [],
   "source": []
  },
  {
   "cell_type": "code",
   "execution_count": null,
   "metadata": {},
   "outputs": [],
   "source": []
  },
  {
   "cell_type": "code",
   "execution_count": null,
   "metadata": {},
   "outputs": [],
   "source": []
  },
  {
   "cell_type": "code",
   "execution_count": null,
   "metadata": {},
   "outputs": [],
   "source": []
  },
  {
   "cell_type": "code",
   "execution_count": null,
   "metadata": {},
   "outputs": [],
   "source": []
  },
  {
   "cell_type": "code",
   "execution_count": null,
   "metadata": {},
   "outputs": [],
   "source": []
  },
  {
   "cell_type": "markdown",
   "metadata": {},
   "source": [
    "# Doing the definite pairs (where you iterate over the different edges and see if it is the best candidate edge based on threshold and buffer)"
   ]
  },
  {
   "cell_type": "code",
   "execution_count": 341,
   "metadata": {},
   "outputs": [
    {
     "data": {
      "text/plain": [
       "<function networkx_utils.compute_edge_attributes_globally(G, edge_functions, edges_to_compute=None, verbose=False, directional=False, **kwargs)>"
      ]
     },
     "execution_count": 341,
     "metadata": {},
     "output_type": "execute_result"
    }
   ],
   "source": [
    "xu.compute_edge_attributes_globally"
   ]
  },
  {
   "cell_type": "code",
   "execution_count": 339,
   "metadata": {},
   "outputs": [
    {
     "name": "stdout",
     "output_type": "stream",
     "text": [
      "--Working on edge [225 226]--\n",
      "Edge [225 226] is matches definite match threshold with: \n",
      "Edge Buffer of 13.620000000000005 (buffer = 13)\n",
      "Edge distane of 88.99 (threshold = 100)\n"
     ]
    },
    {
     "data": {
      "text/plain": [
       "{223: {225: True, 226: True}, 225: {227: True}, 226: {227: True}}"
      ]
     },
     "execution_count": 339,
     "metadata": {},
     "output_type": "execute_result"
    }
   ],
   "source": [
    "# import copy\n",
    "# def edges_to_delete_from_threshold_and_buffer(G,\n",
    "#                                               u,\n",
    "#                                               v,\n",
    "#                                         edge_attribute=\"sk_angle\",\n",
    "#                                         threshold = 45,\n",
    "#                                         buffer = 15,\n",
    "#                                        verbose = False,\n",
    "#                                              **kwargs):\n",
    "#     \"\"\"\n",
    "#     4) Create definite pairs by looking for edges that meet:\n",
    "#     - match threshold\n",
    "#     - have buffer better than other edges\n",
    "#     ** for those edges, eliminate all edges on those\n",
    "#     2 nodes except that edge\n",
    "\n",
    "#     Pseudocode: \n",
    "#     Iterate through each edge:\n",
    "#     a) get the current weight of this edge\n",
    "#     b) get all the other edges that are touching the two nodes and their weights\n",
    "#     c) Run the following test on the edge:\n",
    "#        i) Is it in the match limit\n",
    "#        ii) is it less than other edge weightbs by the buffer size\n",
    "#     d) If pass the tests then delete all of the other edges from the graph\n",
    "#     \"\"\"\n",
    "#     e = [u,v]\n",
    "    \n",
    "#     other_edges_to_remove = []\n",
    "#     e = np.sort(e)\n",
    "#     if verbose:\n",
    "#         print(f\"--Working on edge {e}--\")\n",
    "#     #e_weight = xu.get_edge_weight(G,e)\n",
    "#     e_weight = G[e[0]][e[1]][edge_attribute]\n",
    "#     all_edges = np.unique(\n",
    "#                 np.sort(\n",
    "#                 np.array(xu.node_to_edges(G,e[0]) + xu.node_to_edges(G,e[1])),axis=1)\n",
    "#                 ,axis=0)\n",
    "\n",
    "\n",
    "#     #b) get all the other edges that are touching the two nodes and their weights\n",
    "#     other_edges = nu.setdiff2d(all_edges,e.reshape(-1,2))\n",
    "\n",
    "#     if len(other_edges) == 0:\n",
    "#         other_edge_min = np.inf\n",
    "#     else:\n",
    "#         other_edge_weights = [G[edg[0]][edg[1]][edge_attribute] for edg in other_edges]\n",
    "#         other_edge_min = np.min(other_edge_weights)\n",
    "\n",
    "#     edge_buffer = other_edge_min - e_weight\n",
    "#     if e_weight <= threshold and edge_buffer > buffer:\n",
    "#         if verbose:\n",
    "#             print(f\"Edge {e} is matches definite match threshold with: \"\n",
    "#                  f\"\\nEdge Buffer of {edge_buffer} (buffer = {buffer})\"\n",
    "#                  f\"\\nEdge distane of {e_weight} (threshold = {threshold})\")\n",
    "#         other_edges_to_remove += list(other_edges)\n",
    "        \n",
    "#     return edge_attribute_dict_from_edges_to_delete(other_edges_to_remove)\n",
    "\n",
    "# # if verbose:\n",
    "# #     print(f\"Step 4: Definite Edges\")\n",
    "# #     print(f\"Remaining Edges = {G.edges()}, Remaining Nodes = {G.nodes()}\")\n",
    "# # #     nx.draw(G,with_labels=True)\n",
    "# # #     plt.show()\n",
    "\n",
    "# edges_to_delete = edges_to_delete_from_threshold_and_buffer(G,\n",
    "#                                                             225,\n",
    "#                                                             226,\n",
    "#                                           threshold=100,\n",
    "#                                           buffer= 13,\n",
    "#                                          verbose = True)\n",
    "# edges_to_delete\n",
    "# # G_cp = copy.deepcopy(G)\n",
    "# # G_cp.remove_edges_from(edges_to_delete)\n",
    "# # nx.draw(G_cp,with_labels = True)"
   ]
  },
  {
   "cell_type": "code",
   "execution_count": 350,
   "metadata": {},
   "outputs": [
    {
     "name": "stdout",
     "output_type": "stream",
     "text": [
      "   Working on Edge [225 226]\n",
      "--Working on edge [225 226]--\n",
      "Edge [225 226] is matches definite match threshold with: \n",
      "Edge Buffer of 13.620000000000005 (buffer = 13)\n",
      "Edge distane of 88.99 (threshold = 100)\n",
      "      definite_partner_delete: {223: {225: True, 226: True}, 225: {227: True}, 226: {227: True}}\n",
      "   Working on Edge [225 227]\n",
      "--Working on edge [225 227]--\n",
      "      definite_partner_delete: {}\n",
      "   Working on Edge [225 223]\n",
      "--Working on edge [223 225]--\n",
      "      definite_partner_delete: {}\n",
      "   Working on Edge [226 227]\n",
      "--Working on edge [226 227]--\n",
      "      definite_partner_delete: {}\n",
      "   Working on Edge [226 223]\n",
      "--Working on edge [223 226]--\n",
      "      definite_partner_delete: {}\n",
      "   Working on Edge [227 223]\n",
      "--Working on edge [223 227]--\n",
      "      definite_partner_delete: {}\n"
     ]
    }
   ],
   "source": []
  },
  {
   "cell_type": "code",
   "execution_count": 351,
   "metadata": {},
   "outputs": [
    {
     "data": {
      "application/vnd.jupyter.widget-view+json": {
       "model_id": "7a51d63fc7aa4a58af7538562eb43656",
       "version_major": 2,
       "version_minor": 0
      },
      "text/plain": [
       "HBox(children=(FloatProgress(value=0.0, max=6.0), HTML(value='')))"
      ]
     },
     "metadata": {},
     "output_type": "display_data"
    },
    {
     "name": "stdout",
     "output_type": "stream",
     "text": [
      "\n"
     ]
    },
    {
     "data": {
      "text/html": [
       "<div>\n",
       "<style scoped>\n",
       "    .dataframe tbody tr th:only-of-type {\n",
       "        vertical-align: middle;\n",
       "    }\n",
       "\n",
       "    .dataframe tbody tr th {\n",
       "        vertical-align: top;\n",
       "    }\n",
       "\n",
       "    .dataframe thead th {\n",
       "        text-align: right;\n",
       "    }\n",
       "</style>\n",
       "<table border=\"1\" class=\"dataframe\">\n",
       "  <thead>\n",
       "    <tr style=\"text-align: right;\">\n",
       "      <th></th>\n",
       "      <th>u</th>\n",
       "      <th>v</th>\n",
       "      <th>sk_angle</th>\n",
       "      <th>width_diff</th>\n",
       "      <th>width_diff_percentage</th>\n",
       "      <th>synapse_density_diff</th>\n",
       "      <th>n_synapses_diff</th>\n",
       "      <th>none_to_some_synapses</th>\n",
       "      <th>definite_partner_delete</th>\n",
       "    </tr>\n",
       "  </thead>\n",
       "  <tbody>\n",
       "    <tr>\n",
       "      <th>0</th>\n",
       "      <td>225</td>\n",
       "      <td>226</td>\n",
       "      <td>88.99</td>\n",
       "      <td>0.161837</td>\n",
       "      <td>0.000456</td>\n",
       "      <td>0.000158</td>\n",
       "      <td>135</td>\n",
       "      <td>False</td>\n",
       "      <td>NaN</td>\n",
       "    </tr>\n",
       "    <tr>\n",
       "      <th>1</th>\n",
       "      <td>225</td>\n",
       "      <td>227</td>\n",
       "      <td>108.89</td>\n",
       "      <td>73.467109</td>\n",
       "      <td>0.171676</td>\n",
       "      <td>0.000205</td>\n",
       "      <td>6</td>\n",
       "      <td>False</td>\n",
       "      <td>True</td>\n",
       "    </tr>\n",
       "    <tr>\n",
       "      <th>2</th>\n",
       "      <td>225</td>\n",
       "      <td>223</td>\n",
       "      <td>119.20</td>\n",
       "      <td>324.983065</td>\n",
       "      <td>0.478299</td>\n",
       "      <td>0.000264</td>\n",
       "      <td>25</td>\n",
       "      <td>False</td>\n",
       "      <td>True</td>\n",
       "    </tr>\n",
       "    <tr>\n",
       "      <th>3</th>\n",
       "      <td>226</td>\n",
       "      <td>227</td>\n",
       "      <td>102.61</td>\n",
       "      <td>73.305272</td>\n",
       "      <td>0.171298</td>\n",
       "      <td>0.000047</td>\n",
       "      <td>129</td>\n",
       "      <td>False</td>\n",
       "      <td>True</td>\n",
       "    </tr>\n",
       "    <tr>\n",
       "      <th>4</th>\n",
       "      <td>226</td>\n",
       "      <td>223</td>\n",
       "      <td>140.22</td>\n",
       "      <td>324.821228</td>\n",
       "      <td>0.478061</td>\n",
       "      <td>0.000106</td>\n",
       "      <td>160</td>\n",
       "      <td>False</td>\n",
       "      <td>True</td>\n",
       "    </tr>\n",
       "    <tr>\n",
       "      <th>5</th>\n",
       "      <td>227</td>\n",
       "      <td>223</td>\n",
       "      <td>134.21</td>\n",
       "      <td>251.515956</td>\n",
       "      <td>0.370173</td>\n",
       "      <td>0.000059</td>\n",
       "      <td>31</td>\n",
       "      <td>False</td>\n",
       "      <td>NaN</td>\n",
       "    </tr>\n",
       "  </tbody>\n",
       "</table>\n",
       "</div>"
      ],
      "text/plain": [
       "     u    v  sk_angle  width_diff  width_diff_percentage  \\\n",
       "0  225  226     88.99    0.161837               0.000456   \n",
       "1  225  227    108.89   73.467109               0.171676   \n",
       "2  225  223    119.20  324.983065               0.478299   \n",
       "3  226  227    102.61   73.305272               0.171298   \n",
       "4  226  223    140.22  324.821228               0.478061   \n",
       "5  227  223    134.21  251.515956               0.370173   \n",
       "\n",
       "   synapse_density_diff  n_synapses_diff  none_to_some_synapses  \\\n",
       "0              0.000158              135                  False   \n",
       "1              0.000205                6                  False   \n",
       "2              0.000264               25                  False   \n",
       "3              0.000047              129                  False   \n",
       "4              0.000106              160                  False   \n",
       "5              0.000059               31                  False   \n",
       "\n",
       "  definite_partner_delete  \n",
       "0                     NaN  \n",
       "1                    True  \n",
       "2                    True  \n",
       "3                    True  \n",
       "4                    True  \n",
       "5                     NaN  "
      ]
     },
     "execution_count": 351,
     "metadata": {},
     "output_type": "execute_result"
    }
   ],
   "source": [
    "xu.edge_df(G)"
   ]
  },
  {
   "cell_type": "code",
   "execution_count": 329,
   "metadata": {},
   "outputs": [
    {
     "data": {
      "text/html": [
       "<div>\n",
       "<style scoped>\n",
       "    .dataframe tbody tr th:only-of-type {\n",
       "        vertical-align: middle;\n",
       "    }\n",
       "\n",
       "    .dataframe tbody tr th {\n",
       "        vertical-align: top;\n",
       "    }\n",
       "\n",
       "    .dataframe thead th {\n",
       "        text-align: right;\n",
       "    }\n",
       "</style>\n",
       "<table border=\"1\" class=\"dataframe\">\n",
       "  <thead>\n",
       "    <tr style=\"text-align: right;\">\n",
       "      <th></th>\n",
       "      <th>a</th>\n",
       "      <th>b</th>\n",
       "      <th>c</th>\n",
       "    </tr>\n",
       "  </thead>\n",
       "  <tbody>\n",
       "    <tr>\n",
       "      <th>0</th>\n",
       "      <td>5</td>\n",
       "      <td>10.0</td>\n",
       "      <td>NaN</td>\n",
       "    </tr>\n",
       "    <tr>\n",
       "      <th>1</th>\n",
       "      <td>10</td>\n",
       "      <td>NaN</td>\n",
       "      <td>7.0</td>\n",
       "    </tr>\n",
       "  </tbody>\n",
       "</table>\n",
       "</div>"
      ],
      "text/plain": [
       "    a     b    c\n",
       "0   5  10.0  NaN\n",
       "1  10   NaN  7.0"
      ]
     },
     "execution_count": 329,
     "metadata": {},
     "output_type": "execute_result"
    }
   ],
   "source": [
    "import pandas_utils as pu\n",
    "df = pu.dicts_to_dataframe([dict(a = 5,b = 10),dict(a = 10,c = 7)])\n",
    "df"
   ]
  },
  {
   "cell_type": "code",
   "execution_count": 335,
   "metadata": {},
   "outputs": [
    {
     "data": {
      "text/plain": [
       "array([[225, 226],\n",
       "       [225, 227],\n",
       "       [225, 223],\n",
       "       [226, 227],\n",
       "       [226, 223],\n",
       "       [227, 223]])"
      ]
     },
     "execution_count": 335,
     "metadata": {},
     "output_type": "execute_result"
    }
   ],
   "source": [
    "xu.edges(G)"
   ]
  },
  {
   "cell_type": "markdown",
   "metadata": {},
   "source": [
    "# Doing the Global Graph Metrics (not yet implemented)"
   ]
  },
  {
   "cell_type": "code",
   "execution_count": null,
   "metadata": {},
   "outputs": [],
   "source": [
    "\"\"\"\n",
    "Purpose: To apply edge attributes \n",
    "that are computed based on the\n",
    "other edges existing that are \n",
    "connected to that node\n",
    "\n",
    "Pseudocode: \n",
    "1) Iterate through all of the nodes:\n",
    "    Identify all of the edges in connected to that node\n",
    "    \n",
    "    2) Send all of the edges and their attributes to\n",
    "       a function that will compute another attribute\n",
    "       based on the existing attributes\n",
    "       \n",
    "    3) Store the new attribute in the edges\n",
    "    \n",
    "Application: Can then query the graph based on this new \n",
    "feature\n",
    "\"\"\"\n",
    "global_edge_functions = dict\n",
    "\n",
    "for n in G.nodes():\n",
    "    edge_attr_dict = xu.edge_attribute_dict_from_node(G,n)\n",
    "    "
   ]
  },
  {
   "cell_type": "code",
   "execution_count": 317,
   "metadata": {},
   "outputs": [
    {
     "data": {
      "text/plain": [
       "{226: {'sk_angle': 88.99,\n",
       "  'width_diff': 0.16183652379322666,\n",
       "  'width_diff_percentage': 0.0004563475188275387,\n",
       "  'synapse_density_diff': 0.00015843221238654912,\n",
       "  'n_synapses_diff': 135,\n",
       "  'none_to_some_synapses': False},\n",
       " 227: {'sk_angle': 108.89,\n",
       "  'width_diff': 73.46710869978193,\n",
       "  'width_diff_percentage': 0.17167632556362325,\n",
       "  'synapse_density_diff': 0.00020538992025757787,\n",
       "  'n_synapses_diff': 6,\n",
       "  'none_to_some_synapses': False},\n",
       " 223: {'sk_angle': 119.2,\n",
       "  'width_diff': 324.98306462668245,\n",
       "  'width_diff_percentage': 0.4782991797413334,\n",
       "  'synapse_density_diff': 0.000264054082784641,\n",
       "  'n_synapses_diff': 25,\n",
       "  'none_to_some_synapses': False}}"
      ]
     },
     "execution_count": 317,
     "metadata": {},
     "output_type": "execute_result"
    }
   ],
   "source": [
    "\"\"\"\n",
    "Purpose: To find how much farther above/below\n",
    "extrema certain attributes are\n",
    "\n",
    "\"\"\"\n",
    "def buffer_from_extrema()"
   ]
  },
  {
   "cell_type": "code",
   "execution_count": 311,
   "metadata": {},
   "outputs": [
    {
     "data": {
      "text/plain": [
       "NodeView((225, 226, 227, 223))"
      ]
     },
     "execution_count": 311,
     "metadata": {},
     "output_type": "execute_result"
    }
   ],
   "source": [
    "G.nodes()"
   ]
  },
  {
   "cell_type": "code",
   "execution_count": null,
   "metadata": {},
   "outputs": [],
   "source": []
  },
  {
   "cell_type": "code",
   "execution_count": 286,
   "metadata": {},
   "outputs": [
    {
     "name": "stdout",
     "output_type": "stream",
     "text": [
      "((n_synapses_diff<10) or (synapse_density_diff < 0.0002))\n",
      "synapse_query = ((n_synapses_diff<0.0003) or (n_synapses_diff < 10))\n"
     ]
    },
    {
     "data": {
      "application/vnd.jupyter.widget-view+json": {
       "model_id": "f4099c0ede1147f6b58af7c4f89db3fe",
       "version_major": 2,
       "version_minor": 0
      },
      "text/plain": [
       "HBox(children=(FloatProgress(value=0.0, max=6.0), HTML(value='')))"
      ]
     },
     "metadata": {},
     "output_type": "display_data"
    },
    {
     "name": "stdout",
     "output_type": "stream",
     "text": [
      "\n"
     ]
    },
    {
     "data": {
      "text/html": [
       "<div>\n",
       "<style scoped>\n",
       "    .dataframe tbody tr th:only-of-type {\n",
       "        vertical-align: middle;\n",
       "    }\n",
       "\n",
       "    .dataframe tbody tr th {\n",
       "        vertical-align: top;\n",
       "    }\n",
       "\n",
       "    .dataframe thead th {\n",
       "        text-align: right;\n",
       "    }\n",
       "</style>\n",
       "<table border=\"1\" class=\"dataframe\">\n",
       "  <thead>\n",
       "    <tr style=\"text-align: right;\">\n",
       "      <th></th>\n",
       "      <th>u</th>\n",
       "      <th>v</th>\n",
       "      <th>sk_angle</th>\n",
       "      <th>width_diff</th>\n",
       "      <th>width_diff_percentage</th>\n",
       "      <th>synapse_density_diff</th>\n",
       "      <th>n_synapses_diff</th>\n",
       "      <th>none_to_some_synapses</th>\n",
       "    </tr>\n",
       "  </thead>\n",
       "  <tbody>\n",
       "    <tr>\n",
       "      <th>1</th>\n",
       "      <td>225</td>\n",
       "      <td>227</td>\n",
       "      <td>108.89</td>\n",
       "      <td>73.467109</td>\n",
       "      <td>0.171676</td>\n",
       "      <td>0.000205</td>\n",
       "      <td>6</td>\n",
       "      <td>False</td>\n",
       "    </tr>\n",
       "  </tbody>\n",
       "</table>\n",
       "</div>"
      ],
      "text/plain": [
       "     u    v  sk_angle  width_diff  width_diff_percentage  \\\n",
       "1  225  227    108.89   73.467109               0.171676   \n",
       "\n",
       "   synapse_density_diff  n_synapses_diff  none_to_some_synapses  \n",
       "1              0.000205                6                  False  "
      ]
     },
     "execution_count": 286,
     "metadata": {},
     "output_type": "execute_result"
    }
   ],
   "source": [
    "ex_query = f\"((n_synapses_diff<{10}) or (synapse_density_diff < 0.0002))\"\n",
    "\n",
    "print(ex_query)\n",
    "print(f\"synapse_query = {synapse_query}\")\n",
    "xu.edge_df(G).query(synapse_query)"
   ]
  },
  {
   "cell_type": "markdown",
   "metadata": {},
   "source": [
    "# Building the Initial Query"
   ]
  },
  {
   "cell_type": "code",
   "execution_count": null,
   "metadata": {},
   "outputs": [],
   "source": []
  },
  {
   "cell_type": "code",
   "execution_count": 291,
   "metadata": {},
   "outputs": [
    {
     "name": "stdout",
     "output_type": "stream",
     "text": [
      "branch_match_query = :\n",
      "(((width_diff < 75) or (width_diff_percentage < 0.6)) and (sk_angle < 150))and ((synapse_density_diff<3e-05) or (n_synapses_diff < 50))\n"
     ]
    },
    {
     "data": {
      "application/vnd.jupyter.widget-view+json": {
       "model_id": "369c0983771f4b5288f2e7bb7f0628ff",
       "version_major": 2,
       "version_minor": 0
      },
      "text/plain": [
       "HBox(children=(FloatProgress(value=0.0, max=6.0), HTML(value='')))"
      ]
     },
     "metadata": {},
     "output_type": "display_data"
    },
    {
     "name": "stdout",
     "output_type": "stream",
     "text": [
      "\n",
      "Performing Edge Query\n",
      "After edge filter, # of rows = 3\n"
     ]
    }
   ],
   "source": []
  },
  {
   "cell_type": "code",
   "execution_count": 292,
   "metadata": {},
   "outputs": [
    {
     "data": {
      "application/vnd.jupyter.widget-view+json": {
       "model_id": "f3d244c3d13141c2962f2549ca4dbb7e",
       "version_major": 2,
       "version_minor": 0
      },
      "text/plain": [
       "HBox(children=(FloatProgress(value=0.0, max=3.0), HTML(value='')))"
      ]
     },
     "metadata": {},
     "output_type": "display_data"
    },
    {
     "name": "stdout",
     "output_type": "stream",
     "text": [
      "\n"
     ]
    },
    {
     "data": {
      "text/html": [
       "<div>\n",
       "<style scoped>\n",
       "    .dataframe tbody tr th:only-of-type {\n",
       "        vertical-align: middle;\n",
       "    }\n",
       "\n",
       "    .dataframe tbody tr th {\n",
       "        vertical-align: top;\n",
       "    }\n",
       "\n",
       "    .dataframe thead th {\n",
       "        text-align: right;\n",
       "    }\n",
       "</style>\n",
       "<table border=\"1\" class=\"dataframe\">\n",
       "  <thead>\n",
       "    <tr style=\"text-align: right;\">\n",
       "      <th></th>\n",
       "      <th>u</th>\n",
       "      <th>v</th>\n",
       "      <th>sk_angle</th>\n",
       "      <th>width_diff</th>\n",
       "      <th>width_diff_percentage</th>\n",
       "      <th>synapse_density_diff</th>\n",
       "      <th>n_synapses_diff</th>\n",
       "      <th>none_to_some_synapses</th>\n",
       "    </tr>\n",
       "  </thead>\n",
       "  <tbody>\n",
       "    <tr>\n",
       "      <th>0</th>\n",
       "      <td>225</td>\n",
       "      <td>227</td>\n",
       "      <td>108.89</td>\n",
       "      <td>73.467109</td>\n",
       "      <td>0.171676</td>\n",
       "      <td>0.000205</td>\n",
       "      <td>6</td>\n",
       "      <td>False</td>\n",
       "    </tr>\n",
       "    <tr>\n",
       "      <th>1</th>\n",
       "      <td>225</td>\n",
       "      <td>223</td>\n",
       "      <td>119.20</td>\n",
       "      <td>324.983065</td>\n",
       "      <td>0.478299</td>\n",
       "      <td>0.000264</td>\n",
       "      <td>25</td>\n",
       "      <td>False</td>\n",
       "    </tr>\n",
       "    <tr>\n",
       "      <th>2</th>\n",
       "      <td>227</td>\n",
       "      <td>223</td>\n",
       "      <td>134.21</td>\n",
       "      <td>251.515956</td>\n",
       "      <td>0.370173</td>\n",
       "      <td>0.000059</td>\n",
       "      <td>31</td>\n",
       "      <td>False</td>\n",
       "    </tr>\n",
       "  </tbody>\n",
       "</table>\n",
       "</div>"
      ],
      "text/plain": [
       "     u    v  sk_angle  width_diff  width_diff_percentage  \\\n",
       "0  225  227    108.89   73.467109               0.171676   \n",
       "1  225  223    119.20  324.983065               0.478299   \n",
       "2  227  223    134.21  251.515956               0.370173   \n",
       "\n",
       "   synapse_density_diff  n_synapses_diff  none_to_some_synapses  \n",
       "0              0.000205                6                  False  \n",
       "1              0.000264               25                  False  \n",
       "2              0.000059               31                  False  "
      ]
     },
     "execution_count": 292,
     "metadata": {},
     "output_type": "execute_result"
    }
   ],
   "source": [
    "xu.edge_df(G_edge_filt)"
   ]
  },
  {
   "cell_type": "code",
   "execution_count": 290,
   "metadata": {},
   "outputs": [
    {
     "data": {
      "application/vnd.jupyter.widget-view+json": {
       "model_id": "c8b9056010824320a1221bf7e05cd557",
       "version_major": 2,
       "version_minor": 0
      },
      "text/plain": [
       "HBox(children=(FloatProgress(value=0.0, max=6.0), HTML(value='')))"
      ]
     },
     "metadata": {},
     "output_type": "display_data"
    },
    {
     "name": "stdout",
     "output_type": "stream",
     "text": [
      "\n"
     ]
    },
    {
     "data": {
      "text/html": [
       "<div>\n",
       "<style scoped>\n",
       "    .dataframe tbody tr th:only-of-type {\n",
       "        vertical-align: middle;\n",
       "    }\n",
       "\n",
       "    .dataframe tbody tr th {\n",
       "        vertical-align: top;\n",
       "    }\n",
       "\n",
       "    .dataframe thead th {\n",
       "        text-align: right;\n",
       "    }\n",
       "</style>\n",
       "<table border=\"1\" class=\"dataframe\">\n",
       "  <thead>\n",
       "    <tr style=\"text-align: right;\">\n",
       "      <th></th>\n",
       "      <th>u</th>\n",
       "      <th>v</th>\n",
       "      <th>sk_angle</th>\n",
       "      <th>width_diff</th>\n",
       "      <th>width_diff_percentage</th>\n",
       "      <th>synapse_density_diff</th>\n",
       "      <th>n_synapses_diff</th>\n",
       "      <th>none_to_some_synapses</th>\n",
       "    </tr>\n",
       "  </thead>\n",
       "  <tbody>\n",
       "    <tr>\n",
       "      <th>0</th>\n",
       "      <td>225</td>\n",
       "      <td>226</td>\n",
       "      <td>88.99</td>\n",
       "      <td>0.161837</td>\n",
       "      <td>0.000456</td>\n",
       "      <td>0.000158</td>\n",
       "      <td>135</td>\n",
       "      <td>False</td>\n",
       "    </tr>\n",
       "    <tr>\n",
       "      <th>1</th>\n",
       "      <td>225</td>\n",
       "      <td>227</td>\n",
       "      <td>108.89</td>\n",
       "      <td>73.467109</td>\n",
       "      <td>0.171676</td>\n",
       "      <td>0.000205</td>\n",
       "      <td>6</td>\n",
       "      <td>False</td>\n",
       "    </tr>\n",
       "    <tr>\n",
       "      <th>2</th>\n",
       "      <td>225</td>\n",
       "      <td>223</td>\n",
       "      <td>119.20</td>\n",
       "      <td>324.983065</td>\n",
       "      <td>0.478299</td>\n",
       "      <td>0.000264</td>\n",
       "      <td>25</td>\n",
       "      <td>False</td>\n",
       "    </tr>\n",
       "    <tr>\n",
       "      <th>3</th>\n",
       "      <td>226</td>\n",
       "      <td>227</td>\n",
       "      <td>102.61</td>\n",
       "      <td>73.305272</td>\n",
       "      <td>0.171298</td>\n",
       "      <td>0.000047</td>\n",
       "      <td>129</td>\n",
       "      <td>False</td>\n",
       "    </tr>\n",
       "    <tr>\n",
       "      <th>4</th>\n",
       "      <td>226</td>\n",
       "      <td>223</td>\n",
       "      <td>140.22</td>\n",
       "      <td>324.821228</td>\n",
       "      <td>0.478061</td>\n",
       "      <td>0.000106</td>\n",
       "      <td>160</td>\n",
       "      <td>False</td>\n",
       "    </tr>\n",
       "    <tr>\n",
       "      <th>5</th>\n",
       "      <td>227</td>\n",
       "      <td>223</td>\n",
       "      <td>134.21</td>\n",
       "      <td>251.515956</td>\n",
       "      <td>0.370173</td>\n",
       "      <td>0.000059</td>\n",
       "      <td>31</td>\n",
       "      <td>False</td>\n",
       "    </tr>\n",
       "  </tbody>\n",
       "</table>\n",
       "</div>"
      ],
      "text/plain": [
       "     u    v  sk_angle  width_diff  width_diff_percentage  \\\n",
       "0  225  226     88.99    0.161837               0.000456   \n",
       "1  225  227    108.89   73.467109               0.171676   \n",
       "2  225  223    119.20  324.983065               0.478299   \n",
       "3  226  227    102.61   73.305272               0.171298   \n",
       "4  226  223    140.22  324.821228               0.478061   \n",
       "5  227  223    134.21  251.515956               0.370173   \n",
       "\n",
       "   synapse_density_diff  n_synapses_diff  none_to_some_synapses  \n",
       "0              0.000158              135                  False  \n",
       "1              0.000205                6                  False  \n",
       "2              0.000264               25                  False  \n",
       "3              0.000047              129                  False  \n",
       "4              0.000106              160                  False  \n",
       "5              0.000059               31                  False  "
      ]
     },
     "execution_count": 290,
     "metadata": {},
     "output_type": "execute_result"
    }
   ],
   "source": [
    "xu.edge_df(G)"
   ]
  },
  {
   "cell_type": "code",
   "execution_count": null,
   "metadata": {},
   "outputs": [],
   "source": [
    "import networkx as nx\n",
    "nx.draw(G_edge_filt,with_labels=True)"
   ]
  },
  {
   "cell_type": "code",
   "execution_count": null,
   "metadata": {},
   "outputs": [],
   "source": []
  },
  {
   "cell_type": "code",
   "execution_count": null,
   "metadata": {},
   "outputs": [],
   "source": []
  },
  {
   "cell_type": "code",
   "execution_count": 200,
   "metadata": {},
   "outputs": [
    {
     "name": "stdout",
     "output_type": "stream",
     "text": [
      "upstream 139 endpoint: [721098.  531071.2 762870.4]\n",
      "restriction function\n",
      "downstream 140 endpoint: [721098.  531071.2 762870.4]\n",
      "curr_angle = 21.46\n",
      "Parent (139):red, child (140):blue\n"
     ]
    },
    {
     "data": {
      "application/vnd.jupyter.widget-view+json": {
       "model_id": "59ab1e4151cf414fac83ef4d00ba045d",
       "version_major": 2,
       "version_minor": 0
      },
      "text/plain": [
       "VBox(children=(Figure(camera=PerspectiveCamera(fov=46.0, position=(0.0, 0.0, 2.0), projectionMatrix=(1.0, 0.0,…"
      ]
     },
     "metadata": {},
     "output_type": "display_data"
    },
    {
     "data": {
      "text/plain": [
       "21.46"
      ]
     },
     "execution_count": 200,
     "metadata": {},
     "output_type": "execute_result"
    }
   ],
   "source": [
    "branch_idx = 140\n",
    "nru.find_parent_child_skeleton_angle_upstream_downstream(limb_obj,\n",
    "                                                        nru.upstream_node(limb_obj,branch_idx),branch_idx,\n",
    "                                                        verbose = True,\n",
    "                                                        plot_extracted_skeletons=True,\n",
    "                                                        comparison_distance=40000,\n",
    "                                                        use_upstream_skeleton_restriction=True)"
   ]
  },
  {
   "cell_type": "code",
   "execution_count": null,
   "metadata": {},
   "outputs": [],
   "source": [
    "offset=1500,\n",
    "comparison_distance = 2000,\n",
    "worst_case_match_threshold = 65,\n",
    "\n",
    "#args for width matching\n",
    "width_diff_max = 75,#np.inf,#100,\n",
    "width_diff_perc = 60,\n",
    "\n",
    "#args for definite pairs\n",
    "match_threshold = 45,\n",
    "angle_buffer = 15,\n",
    "\n",
    "max_degree_to_resolve = 6,\n",
    "max_degree_to_resolve_wide = 8,\n",
    "\n",
    "#args for picking the final winner\n",
    "match_method = \"best_match\", #other option is \"best_match\"\n",
    "\n",
    "kiss_check = True,\n",
    "kiss_check_bbox_longest_side_threshold = 450,"
   ]
  },
  {
   "cell_type": "code",
   "execution_count": null,
   "metadata": {},
   "outputs": [],
   "source": []
  },
  {
   "cell_type": "code",
   "execution_count": 67,
   "metadata": {},
   "outputs": [
    {
     "data": {
      "text/plain": [
       "['branch_skeletal_distance_from_soma',\n",
       " 'branches_within_skeletal_distance',\n",
       " 'distance_to_soma_from_coordinate_close_to_branch',\n",
       " 'global_comparison_distance',\n",
       " 'skeletal_distance_from_soma',\n",
       " 'synapse_skeletal_distances_to_soma']"
      ]
     },
     "execution_count": 67,
     "metadata": {},
     "output_type": "execute_result"
    }
   ],
   "source": [
    "[k for k in dir(nru) if \"dist\" in k]"
   ]
  },
  {
   "cell_type": "markdown",
   "metadata": {},
   "source": [
    "# Filtering the Neuron and then adding back the errors"
   ]
  },
  {
   "cell_type": "code",
   "execution_count": null,
   "metadata": {},
   "outputs": [],
   "source": [
    "import proofreading_utils as pru\n",
    "o_neuron, filtering_info = pru.apply_proofreading_filters_to_neuron(input_neuron = neuron_obj,\n",
    "                                        filter_list = pru.v5_exc_filters(),\n",
    "                                        plot_limb_branch_filter_with_disconnect_effect=False,\n",
    "                                        plot_limb_branch_filter_away=False,\n",
    "                                        plot_final_neuron=False,\n",
    "\n",
    "                                        return_error_info=True,\n",
    "                                         verbose=True,\n",
    "                                        verbose_outline=True,\n",
    "                                        return_limb_branch_dict_to_cancel = True)\n",
    "nviz.visualize_neuron(o_neuron,limb_branch_dict=\"all\")"
   ]
  },
  {
   "cell_type": "code",
   "execution_count": null,
   "metadata": {},
   "outputs": [],
   "source": [
    "import neuron\n",
    "o_neuron_cp = neuron.Neuron(o_neuron)\n",
    "syu.add_synapses_to_neuron_obj(o_neuron_cp,\n",
    "                            validation = True,\n",
    "                            verbose  = True,\n",
    "                            original_mesh = original_mesh,\n",
    "                            plot_valid_error_synapses = False,\n",
    "                            calculate_synapse_soma_distance = False,\n",
    "                            add_valid_synapses = False,\n",
    "                              add_error_synapses=True)\n",
    "o_neuron_cp.n_synapses_total"
   ]
  },
  {
   "cell_type": "markdown",
   "metadata": {},
   "source": [
    "# How to Query Synapses"
   ]
  },
  {
   "cell_type": "code",
   "execution_count": null,
   "metadata": {},
   "outputs": [],
   "source": [
    "syu.synapses_df(neuron_obj)\n",
    "\n",
    "ret_df = syu.query_synapses(neuron_obj,\n",
    "query = \"label == 'soma'\",\n",
    "verbose = True,\n",
    "return_index = True)\n",
    "\n",
    "ret_df"
   ]
  }
 ],
 "metadata": {
  "kernelspec": {
   "display_name": "Python 3",
   "language": "python",
   "name": "python3"
  },
  "language_info": {
   "codemirror_mode": {
    "name": "ipython",
    "version": 3
   },
   "file_extension": ".py",
   "mimetype": "text/x-python",
   "name": "python",
   "nbconvert_exporter": "python",
   "pygments_lexer": "ipython3",
   "version": "3.6.9"
  }
 },
 "nbformat": 4,
 "nbformat_minor": 4
}
