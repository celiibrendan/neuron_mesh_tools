{
 "cells": [
  {
   "cell_type": "code",
   "execution_count": null,
   "metadata": {},
   "outputs": [],
   "source": [
    "\"\"\"\n",
    "Created: 6/7\n",
    "\n",
    "Purpose: To incorporate the synapses\n",
    "into the neuron object\n",
    "\n",
    "\"\"\""
   ]
  },
  {
   "cell_type": "code",
   "execution_count": 1,
   "metadata": {},
   "outputs": [],
   "source": [
    "%load_ext autoreload\n",
    "%autoreload 2"
   ]
  },
  {
   "cell_type": "code",
   "execution_count": 2,
   "metadata": {},
   "outputs": [
    {
     "name": "stderr",
     "output_type": "stream",
     "text": [
      "INFO - 2021-06-16 16:28:53,004 - settings - Setting database.host to at-database.ad.bcm.edu\n",
      "INFO - 2021-06-16 16:28:53,006 - settings - Setting database.user to celiib\n",
      "INFO - 2021-06-16 16:28:53,007 - settings - Setting database.password to newceliipass\n",
      "INFO - 2021-06-16 16:28:53,008 - settings - Setting database.host to at-database.ad.bcm.edu\n",
      "INFO - 2021-06-16 16:28:53,009 - settings - Setting database.user to celiib\n",
      "INFO - 2021-06-16 16:28:53,010 - settings - Setting database.password to newceliipass\n",
      "INFO - 2021-06-16 16:28:53,126 - settings - Setting stores to {'minnie65': {'protocol': 'file', 'location': '/mnt/dj-stor01/platinum/minnie65', 'stage': '/mnt/dj-stor01/platinum/minnie65'}, 'meshes': {'protocol': 'file', 'location': '/mnt/dj-stor01/platinum/minnie65/02/meshes', 'stage': '/mnt/dj-stor01/platinum/minnie65/02/meshes'}, 'decimated_meshes': {'protocol': 'file', 'location': '/mnt/dj-stor01/platinum/minnie65/02/decimated_meshes', 'stage': '/mnt/dj-stor01/platinum/minnie65/02/decimated_meshes'}, 'skeletons': {'protocol': 'file', 'location': '/mnt/dj-stor01/platinum/minnie65/02/skeletons'}}\n",
      "INFO - 2021-06-16 16:28:53,127 - settings - Setting enable_python_native_blobs to True\n",
      "INFO - 2021-06-16 16:28:53,141 - connection - Connected celiib@at-database.ad.bcm.edu:3306\n"
     ]
    },
    {
     "name": "stdout",
     "output_type": "stream",
     "text": [
      "Connecting celiib@at-database.ad.bcm.edu:3306\n"
     ]
    },
    {
     "name": "stderr",
     "output_type": "stream",
     "text": [
      "INFO - 2021-06-16 16:28:53,744 - settings - Setting enable_python_native_blobs to True\n",
      "INFO - 2021-06-16 16:28:53,800 - settings - Setting database.host to at-database.ad.bcm.edu\n",
      "INFO - 2021-06-16 16:28:53,801 - settings - Setting database.user to celiib\n",
      "INFO - 2021-06-16 16:28:53,802 - settings - Setting database.password to newceliipass\n",
      "INFO - 2021-06-16 16:28:53,804 - settings - Setting enable_python_native_blobs to True\n",
      "INFO - 2021-06-16 16:28:54,470 - settings - Setting enable_python_native_blobs to True\n",
      "INFO - 2021-06-16 16:28:54,524 - settings - Setting database.host to at-database.ad.bcm.edu\n",
      "INFO - 2021-06-16 16:28:54,525 - settings - Setting database.user to celiib\n",
      "INFO - 2021-06-16 16:28:54,526 - settings - Setting database.password to newceliipass\n",
      "INFO - 2021-06-16 16:28:54,527 - settings - Setting database.host to at-database.ad.bcm.edu\n",
      "INFO - 2021-06-16 16:28:54,528 - settings - Setting database.user to celiib\n",
      "INFO - 2021-06-16 16:28:54,528 - settings - Setting database.password to newceliipass\n",
      "INFO - 2021-06-16 16:28:54,531 - settings - Setting enable_python_native_blobs to True\n",
      "INFO - 2021-06-16 16:28:55,263 - settings - Setting enable_python_native_blobs to True\n"
     ]
    }
   ],
   "source": [
    "import numpy as np\n",
    "import datajoint as dj\n",
    "import trimesh\n",
    "from tqdm.notebook import tqdm\n",
    "from pathlib import Path\n",
    "\n",
    "from os import sys\n",
    "sys.path.append(\"/meshAfterParty/\")\n",
    "sys.path.append(\"/meshAfterParty/meshAfterParty\")\n",
    "\n",
    "import datajoint_utils as du\n",
    "from importlib import reload"
   ]
  },
  {
   "cell_type": "code",
   "execution_count": 3,
   "metadata": {},
   "outputs": [
    {
     "name": "stderr",
     "output_type": "stream",
     "text": [
      "INFO - 2021-06-16 16:28:55,479 - settings - Setting database.host to at-database.ad.bcm.edu\n",
      "INFO - 2021-06-16 16:28:55,481 - settings - Setting database.user to celiib\n",
      "INFO - 2021-06-16 16:28:55,482 - settings - Setting database.password to newceliipass\n",
      "INFO - 2021-06-16 16:28:55,485 - settings - Setting enable_python_native_blobs to True\n",
      "INFO - 2021-06-16 16:28:56,282 - settings - Setting enable_python_native_blobs to True\n"
     ]
    }
   ],
   "source": [
    "#configuring will include the adapters\n",
    "minnie,schema = du.configure_minnie_vm()"
   ]
  },
  {
   "cell_type": "code",
   "execution_count": 4,
   "metadata": {},
   "outputs": [],
   "source": [
    "import neuron_utils as nru\n",
    "import neuron_visualizations as nviz"
   ]
  },
  {
   "cell_type": "markdown",
   "metadata": {},
   "source": [
    "# Downloading a Neuron to Play with"
   ]
  },
  {
   "cell_type": "code",
   "execution_count": 5,
   "metadata": {},
   "outputs": [],
   "source": [
    "segment_id = 864691136194042326"
   ]
  },
  {
   "cell_type": "code",
   "execution_count": 6,
   "metadata": {},
   "outputs": [],
   "source": [
    "original_mesh = du.fetch_segment_id_mesh(segment_id)"
   ]
  },
  {
   "cell_type": "code",
   "execution_count": 7,
   "metadata": {},
   "outputs": [
    {
     "name": "stdout",
     "output_type": "stream",
     "text": [
      "**Using table __decomposition_axon for table_to_neuron_objs**\n",
      "Decompressing Neuron in minimal output mode...please wait\n",
      "Dont need spine recalculation\n",
      "Number of Neurons found = 1\n"
     ]
    }
   ],
   "source": [
    "neuron_obj  = du.decomposition_with_spine_recalculation(segment_id,split_index = 0)"
   ]
  },
  {
   "cell_type": "markdown",
   "metadata": {},
   "source": [
    "# Pulling Down the Synapses Before the Proofreading"
   ]
  },
  {
   "cell_type": "code",
   "execution_count": null,
   "metadata": {},
   "outputs": [],
   "source": [
    "#original_mesh = du.fetch_segment_id_mesh(neuron_obj.segment_id)"
   ]
  },
  {
   "cell_type": "code",
   "execution_count": null,
   "metadata": {},
   "outputs": [],
   "source": [
    "minnie.AutoProofreadValidationSegmentMap4() & dict(segment_id=segment_id)"
   ]
  },
  {
   "cell_type": "code",
   "execution_count": null,
   "metadata": {},
   "outputs": [],
   "source": [
    "nviz.visualize_neuron(neuron_obj_syn,\n",
    "                     limb_branch_dict=\"all\")"
   ]
  },
  {
   "cell_type": "code",
   "execution_count": 9,
   "metadata": {},
   "outputs": [
    {
     "name": "stdout",
     "output_type": "stream",
     "text": [
      "\n",
      "---Step 1: Computing synapse_dict---\n",
      "# of beginning_direct_connections = 3457 \n",
      "# of presyn: 422\n",
      "# of postsyn: 3035\n",
      "\n",
      "---Step 2: Computing mesh_label_dict---\n",
      "-- Working on presyn--\n",
      "Using original_mesh_method\n",
      "# of distance_errored_syn_idx = 0\n",
      "# of mesh_errored_syn_idx = 0\n",
      "# of valid_syn_idx = 422\n",
      "-- Working on postsyn--\n",
      "Using original_mesh_method\n",
      "# of distance_errored_syn_idx = 2\n",
      "# of mesh_errored_syn_idx = 1\n",
      "# of valid_syn_idx = 3032\n",
      "\n",
      "---Step 3: add_valid_synapses_to_neuron_obj---\n",
      "Synapse dict: 0.0009\n",
      "Original Mesh: 0.5709\n",
      "Closest Branch: 4.9432\n",
      "Closest Skeleton Branch and distance from endpoint: 13.3085\n",
      "Closest Branch: 4.5584\n",
      "Closest Skeleton Branch and distance from endpoint: 44.5035\n",
      "Total time for valid synapse objects = 0.024396657943725586\n"
     ]
    }
   ],
   "source": [
    "import synapse_utils as syu\n",
    "neuron_obj_syn = syu.add_synapses_to_neuron_obj(neuron_obj,\n",
    "                                                segment_id = segment_id,\n",
    "                            validation = True,\n",
    "                            verbose  = True,\n",
    "                            #original_mesh = original_mesh,\n",
    "                            plot_valid_error_synapses = False,\n",
    "                            calculate_synapse_soma_distance = False,\n",
    "                            add_valid_synapses = True,\n",
    "                              add_error_synapses=False)"
   ]
  },
  {
   "cell_type": "code",
   "execution_count": 11,
   "metadata": {},
   "outputs": [
    {
     "name": "stdout",
     "output_type": "stream",
     "text": [
      "Saving Neuorn in suppress_output mode...please wait\n",
      "Saved File at location: 864691136194042326_0_25_axon_v5\n"
     ]
    }
   ],
   "source": [
    "neuron_obj_syn.save_compressed_neuron(\"./\",export_mesh=False)"
   ]
  },
  {
   "cell_type": "code",
   "execution_count": null,
   "metadata": {},
   "outputs": [],
   "source": [
    "import syst"
   ]
  },
  {
   "cell_type": "code",
   "execution_count": null,
   "metadata": {},
   "outputs": [],
   "source": []
  },
  {
   "cell_type": "code",
   "execution_count": null,
   "metadata": {},
   "outputs": [],
   "source": []
  },
  {
   "cell_type": "markdown",
   "metadata": {},
   "source": [
    "# Filtering the Neuron and then adding back the errors"
   ]
  },
  {
   "cell_type": "code",
   "execution_count": null,
   "metadata": {},
   "outputs": [],
   "source": [
    "import proofreading_utils as pru\n",
    "o_neuron, filtering_info = pru.apply_proofreading_filters_to_neuron(input_neuron = neuron_obj,\n",
    "                                        filter_list = pru.v5_exc_filters(),\n",
    "                                        plot_limb_branch_filter_with_disconnect_effect=False,\n",
    "                                        plot_limb_branch_filter_away=False,\n",
    "                                        plot_final_neuron=False,\n",
    "\n",
    "                                        return_error_info=True,\n",
    "                                         verbose=True,\n",
    "                                        verbose_outline=True,\n",
    "                                        return_limb_branch_dict_to_cancel = True)\n",
    "nviz.visualize_neuron(o_neuron,limb_branch_dict=\"all\")"
   ]
  },
  {
   "cell_type": "code",
   "execution_count": null,
   "metadata": {},
   "outputs": [],
   "source": [
    "import neuron\n",
    "o_neuron_cp = neuron.Neuron(o_neuron)\n",
    "syu.add_synapses_to_neuron_obj(o_neuron_cp,\n",
    "                            validation = True,\n",
    "                            verbose  = True,\n",
    "                            original_mesh = original_mesh,\n",
    "                            plot_valid_error_synapses = False,\n",
    "                            calculate_synapse_soma_distance = False,\n",
    "                            add_valid_synapses = False,\n",
    "                              add_error_synapses=True)\n",
    "o_neuron_cp.n_synapses_total"
   ]
  },
  {
   "cell_type": "markdown",
   "metadata": {},
   "source": [
    "# How to Query Synapses"
   ]
  },
  {
   "cell_type": "code",
   "execution_count": null,
   "metadata": {},
   "outputs": [],
   "source": [
    "syu.synapses_df(neuron_obj)\n",
    "\n",
    "ret_df = syu.query_synapses(neuron_obj,\n",
    "query = \"label == 'soma'\",\n",
    "verbose = True,\n",
    "return_index = True)\n",
    "\n",
    "ret_df"
   ]
  }
 ],
 "metadata": {
  "kernelspec": {
   "display_name": "Python 3",
   "language": "python",
   "name": "python3"
  },
  "language_info": {
   "codemirror_mode": {
    "name": "ipython",
    "version": 3
   },
   "file_extension": ".py",
   "mimetype": "text/x-python",
   "name": "python",
   "nbconvert_exporter": "python",
   "pygments_lexer": "ipython3",
   "version": "3.6.9"
  }
 },
 "nbformat": 4,
 "nbformat_minor": 4
}
