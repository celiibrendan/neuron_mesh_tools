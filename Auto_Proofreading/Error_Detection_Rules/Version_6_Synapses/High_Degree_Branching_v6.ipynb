{
 "cells": [
  {
   "cell_type": "code",
   "execution_count": null,
   "metadata": {},
   "outputs": [],
   "source": [
    "\"\"\"\n",
    "Created: 6/7\n",
    "\n",
    "Purpose: To incorporate the synapses\n",
    "into the neuron object\n",
    "\n",
    "\"\"\""
   ]
  },
  {
   "cell_type": "code",
   "execution_count": 1,
   "metadata": {},
   "outputs": [],
   "source": [
    "%load_ext autoreload\n",
    "%autoreload 2"
   ]
  },
  {
   "cell_type": "code",
   "execution_count": 2,
   "metadata": {},
   "outputs": [],
   "source": [
    "import numpy as np\n",
    "import datajoint as dj\n",
    "import trimesh\n",
    "from tqdm.notebook import tqdm\n",
    "from pathlib import Path\n",
    "\n",
    "from os import sys\n",
    "sys.path.append(\"/meshAfterParty/\")\n",
    "sys.path.append(\"/meshAfterParty/meshAfterParty\")\n",
    "\n",
    "import datajoint_utils as du\n",
    "from importlib import reload"
   ]
  },
  {
   "cell_type": "code",
   "execution_count": 3,
   "metadata": {},
   "outputs": [],
   "source": [
    "# #configuring will include the adapters\n",
    "# minnie,schema = du.configure_minnie_vm()"
   ]
  },
  {
   "cell_type": "code",
   "execution_count": 4,
   "metadata": {},
   "outputs": [],
   "source": [
    "import neuron_utils as nru\n",
    "import neuron_visualizations as nviz"
   ]
  },
  {
   "cell_type": "markdown",
   "metadata": {},
   "source": [
    "# Downloading a Neuron to Play with"
   ]
  },
  {
   "cell_type": "code",
   "execution_count": 5,
   "metadata": {},
   "outputs": [],
   "source": [
    "segment_id = 864691136194042326"
   ]
  },
  {
   "cell_type": "code",
   "execution_count": null,
   "metadata": {},
   "outputs": [],
   "source": [
    "# original_mesh = du.fetch_segment_id_mesh(segment_id)"
   ]
  },
  {
   "cell_type": "code",
   "execution_count": null,
   "metadata": {},
   "outputs": [],
   "source": [
    "# neuron_obj  = du.decomposition_with_spine_recalculation(segment_id,split_index = 0)"
   ]
  },
  {
   "cell_type": "code",
   "execution_count": null,
   "metadata": {},
   "outputs": [],
   "source": [
    "# import synapse_utils as syu\n",
    "# neuron_obj_syn = syu.add_synapses_to_neuron_obj(neuron_obj,\n",
    "#                                                 segment_id = segment_id,\n",
    "#                             validation = True,\n",
    "#                             verbose  = True,\n",
    "#                             #original_mesh = original_mesh,\n",
    "#                             plot_valid_error_synapses = False,\n",
    "#                             calculate_synapse_soma_distance = False,\n",
    "#                             add_valid_synapses = True,\n",
    "#                               add_error_synapses=False)"
   ]
  },
  {
   "cell_type": "markdown",
   "metadata": {},
   "source": [
    "# Decompressing the Neuron to place with"
   ]
  },
  {
   "cell_type": "code",
   "execution_count": 6,
   "metadata": {},
   "outputs": [],
   "source": [
    "import system_utils as su\n",
    "original_mesh = su.decompress_pickle(\"original_mesh.pbz2\")"
   ]
  },
  {
   "cell_type": "code",
   "execution_count": 7,
   "metadata": {},
   "outputs": [
    {
     "name": "stdout",
     "output_type": "stream",
     "text": [
      "Decompressing Neuron in minimal output mode...please wait\n"
     ]
    }
   ],
   "source": [
    "neuron_obj = nru.decompress_neuron(\"./864691136194042326_0_25_axon_v5.pbz2\",\n",
    "                                  original_mesh=original_mesh)"
   ]
  },
  {
   "cell_type": "code",
   "execution_count": 8,
   "metadata": {},
   "outputs": [
    {
     "name": "stdout",
     "output_type": "stream",
     "text": [
      "Recieved another instance of Neuron class in init -- so just copying data\n",
      "\n",
      " Working on visualization type: mesh\n",
      "\n",
      " Working on visualization type: skeleton\n",
      "No Synapses to plot\n"
     ]
    },
    {
     "data": {
      "application/vnd.jupyter.widget-view+json": {
       "model_id": "f6b61faa9a204085aa452328efcb2d09",
       "version_major": 2,
       "version_minor": 0
      },
      "text/plain": [
       "VBox(children=(Figure(camera=PerspectiveCamera(fov=46.0, position=(0.0, 0.0, 2.0), projectionMatrix=(1.0, 0.0,…"
      ]
     },
     "metadata": {},
     "output_type": "display_data"
    }
   ],
   "source": [
    "nviz.visualize_neuron(neuron_obj,\n",
    "                     limb_branch_dict=\"all\")"
   ]
  },
  {
   "cell_type": "code",
   "execution_count": 9,
   "metadata": {},
   "outputs": [],
   "source": [
    "neuron_obj_syn = neuron_obj"
   ]
  },
  {
   "cell_type": "markdown",
   "metadata": {},
   "source": [
    "# The high degree function"
   ]
  },
  {
   "cell_type": "code",
   "execution_count": null,
   "metadata": {},
   "outputs": [],
   "source": [
    "\"\"\"\n",
    "Pseudocode: \n",
    "\n",
    "\n",
    "\"\"\""
   ]
  },
  {
   "cell_type": "code",
   "execution_count": 12,
   "metadata": {},
   "outputs": [
    {
     "name": "stdout",
     "output_type": "stream",
     "text": [
      "Recieved another instance of Neuron class in init -- so just copying data\n",
      "\n",
      " Working on visualization type: mesh\n",
      "No Synapses to plot\n"
     ]
    },
    {
     "data": {
      "application/vnd.jupyter.widget-view+json": {
       "model_id": "1ada3109b7954664b46a1349be95070f",
       "version_major": 2,
       "version_minor": 0
      },
      "text/plain": [
       "VBox(children=(Figure(camera=PerspectiveCamera(fov=46.0, position=(0.0, 0.0, 2.0), projectionMatrix=(1.0, 0.0,…"
      ]
     },
     "metadata": {},
     "output_type": "display_data"
    }
   ],
   "source": [
    "import neuron_searching as ns\n",
    "pre_filtering_limb_branch = ns.query_neuron_by_labels(neuron_obj,\n",
    "                            matching_labels=[\"axon\"])\n",
    "nviz.plot_limb_branch_dict(neuron_obj,\n",
    "                           pre_filtering_limb_branch)"
   ]
  },
  {
   "cell_type": "markdown",
   "metadata": {},
   "source": [
    "# finding all branches with at least 3 downstream branches"
   ]
  },
  {
   "cell_type": "code",
   "execution_count": 111,
   "metadata": {},
   "outputs": [
    {
     "name": "stdout",
     "output_type": "stream",
     "text": [
      "Recieved another instance of Neuron class in init -- so just copying data\n",
      "\n",
      " Working on visualization type: mesh\n",
      "No Synapses to plot\n"
     ]
    },
    {
     "data": {
      "application/vnd.jupyter.widget-view+json": {
       "model_id": "9a298699ff4f488e866ccd7c0ead9ceb",
       "version_major": 2,
       "version_minor": 0
      },
      "text/plain": [
       "VBox(children=(Figure(camera=PerspectiveCamera(fov=46.0, position=(0.0, 0.0, 2.0), projectionMatrix=(1.0, 0.0,…"
      ]
     },
     "metadata": {},
     "output_type": "display_data"
    }
   ],
   "source": [
    "if pre_filtering_limb_branch is None:\n",
    "    pre_filtering_limb_branch = neuron_obj.limb_branch_dict\n",
    "\n",
    "    \n",
    "skip_distance = 2000\n",
    "min_skeletal_distance = 3000\n",
    "\n",
    "high_degree_limb_branch = ns.query_neuron(neuron_obj,\n",
    "                functions_list=[\"n_downstream_nodes_with_skip\",\"skeletal_length\"],\n",
    "                query = f\"(n_downstream_nodes_with_skip>2) and (skeletal_length>{min_skeletal_distance})\",\n",
    "                function_kwargs=dict(skip_distance=skip_distance),\n",
    "               limb_branch_dict_restriction=pre_filtering_limb_branch)\n",
    "\n",
    "nviz.plot_limb_branch_dict(neuron_obj,\n",
    "                           high_degree_limb_branch)"
   ]
  },
  {
   "cell_type": "markdown",
   "metadata": {},
   "source": [
    "# Building the high degree matching"
   ]
  },
  {
   "cell_type": "code",
   "execution_count": 120,
   "metadata": {},
   "outputs": [
    {
     "name": "stdout",
     "output_type": "stream",
     "text": [
      "downstream_branches = [225 226 227]\n",
      "downstream_branches after remove_short_thick_endnodes = [225 226 227]\n"
     ]
    }
   ],
   "source": [
    "import axon_utils as au\n",
    "\n",
    "\"\"\"\n",
    "Purpose: To implement the high degree\n",
    "branching filter using graph implementation\n",
    "to compare the matches of all the candidates in \n",
    "a high degree branching area\n",
    "\n",
    "Pseudocode: \n",
    "1) Get all downstream branhes (with an optional skip distance)\n",
    "\"\"\"\n",
    "limb_obj = neuron_obj[0]\n",
    "branch_idx = 223\n",
    "skip_distance = 3000\n",
    "verbose = False\n",
    "remove_short_thick_endnodes = True\n",
    "short_thick_endnodes_to_remove = None\n",
    "min_degree_to_resolve = 3\n",
    "\n",
    "verbose = True\n",
    "\n",
    "\n",
    "#1) Get all downstream branhes (with an optional skip distance)\n",
    "downstream_branches = cnu.endnode_branches_of_branches_within_distance_downtream(limb_obj,\n",
    "                                                          branch_idx,\n",
    "                                                          skip_distance=skip_distance)\n",
    "\n",
    "if verbose:\n",
    "    print(f\"downstream_branches = {downstream_branches}\")\n",
    "\n",
    "if remove_short_thick_endnodes:\n",
    "    if short_thick_endnodes_to_remove is None:\n",
    "        short_thick_endnodes_to_remove = au.short_thick_branches_from_limb(limb_obj,\n",
    "                             verbose = False)\n",
    "    downstream_branches = np.setdiff1d(downstream_branches,short_thick_endnodes_to_remove)\n",
    "    \n",
    "    if verbose:\n",
    "        print(f\"downstream_branches after remove_short_thick_endnodes = {downstream_branches}\")\n",
    "        \n",
    "        \n",
    "if len(downstream_branches) < min_degree_to_resolve:\n",
    "    if verbose:\n",
    "        print(f\"Number of branches ({len(downstream_branches)}), aka branches_at_coord = {downstream_branches}) was less than min_degree_to_resolve ({min_degree_to_resolve}) so returning no error branches\")\n",
    "    return_value =  None,np.array([])\n",
    "    \n",
    "    \n",
    "if max_degree_to_resolve_wide is not None:\n",
    "        up_width = au.axon_width(limb_obj[upstream_branch])\n",
    "        if up_width > max_degree_to_resolve_width_threshold:\n",
    "            max_degree_to_resolve = max_degree_to_resolve_wide\n",
    "            print(f\"Changing max_degree_to_resolve = {max_degree_to_resolve_wide} because upstream width was {up_width} \")"
   ]
  },
  {
   "cell_type": "code",
   "execution_count": 96,
   "metadata": {},
   "outputs": [
    {
     "name": "stdout",
     "output_type": "stream",
     "text": [
      "40.5 ns ± 0.0762 ns per loop (mean ± std. dev. of 7 runs, 10000000 loops each)\n"
     ]
    }
   ],
   "source": [
    "%%timeit\n",
    "limb_obj.concept_network_directional"
   ]
  },
  {
   "cell_type": "code",
   "execution_count": 98,
   "metadata": {},
   "outputs": [
    {
     "name": "stdout",
     "output_type": "stream",
     "text": [
      "7.55 µs ± 190 ns per loop (mean ± std. dev. of 7 runs, 100000 loops each)\n"
     ]
    }
   ],
   "source": [
    "%%timeit\n",
    "xu.reverse_DiGraph(limb_obj.concept_network_directional)"
   ]
  },
  {
   "cell_type": "code",
   "execution_count": 99,
   "metadata": {},
   "outputs": [
    {
     "name": "stdout",
     "output_type": "stream",
     "text": [
      " "
     ]
    }
   ],
   "source": [
    "%%prun\n",
    "#1) Get all downstream branhes (with an optional skip distance)\n"
   ]
  },
  {
   "cell_type": "code",
   "execution_count": null,
   "metadata": {},
   "outputs": [],
   "source": []
  },
  {
   "cell_type": "code",
   "execution_count": null,
   "metadata": {},
   "outputs": [],
   "source": [
    "offset=1500,\n",
    "comparison_distance = 2000,\n",
    "worst_case_match_threshold = 65,\n",
    "\n",
    "#args for width matching\n",
    "width_diff_max = 75,#np.inf,#100,\n",
    "width_diff_perc = 60,\n",
    "\n",
    "#args for definite pairs\n",
    "match_threshold = 45,\n",
    "angle_buffer = 15,\n",
    "\n",
    "max_degree_to_resolve = 6,\n",
    "max_degree_to_resolve_wide = 8,\n",
    "\n",
    "#args for picking the final winner\n",
    "match_method = \"best_match\", #other option is \"best_match\"\n",
    "\n",
    "kiss_check = True,\n",
    "kiss_check_bbox_longest_side_threshold = 450,"
   ]
  },
  {
   "cell_type": "code",
   "execution_count": null,
   "metadata": {},
   "outputs": [],
   "source": []
  },
  {
   "cell_type": "code",
   "execution_count": 67,
   "metadata": {},
   "outputs": [
    {
     "data": {
      "text/plain": [
       "['branch_skeletal_distance_from_soma',\n",
       " 'branches_within_skeletal_distance',\n",
       " 'distance_to_soma_from_coordinate_close_to_branch',\n",
       " 'global_comparison_distance',\n",
       " 'skeletal_distance_from_soma',\n",
       " 'synapse_skeletal_distances_to_soma']"
      ]
     },
     "execution_count": 67,
     "metadata": {},
     "output_type": "execute_result"
    }
   ],
   "source": [
    "[k for k in dir(nru) if \"dist\" in k]"
   ]
  },
  {
   "cell_type": "markdown",
   "metadata": {},
   "source": [
    "# Filtering the Neuron and then adding back the errors"
   ]
  },
  {
   "cell_type": "code",
   "execution_count": null,
   "metadata": {},
   "outputs": [],
   "source": [
    "import proofreading_utils as pru\n",
    "o_neuron, filtering_info = pru.apply_proofreading_filters_to_neuron(input_neuron = neuron_obj,\n",
    "                                        filter_list = pru.v5_exc_filters(),\n",
    "                                        plot_limb_branch_filter_with_disconnect_effect=False,\n",
    "                                        plot_limb_branch_filter_away=False,\n",
    "                                        plot_final_neuron=False,\n",
    "\n",
    "                                        return_error_info=True,\n",
    "                                         verbose=True,\n",
    "                                        verbose_outline=True,\n",
    "                                        return_limb_branch_dict_to_cancel = True)\n",
    "nviz.visualize_neuron(o_neuron,limb_branch_dict=\"all\")"
   ]
  },
  {
   "cell_type": "code",
   "execution_count": null,
   "metadata": {},
   "outputs": [],
   "source": [
    "import neuron\n",
    "o_neuron_cp = neuron.Neuron(o_neuron)\n",
    "syu.add_synapses_to_neuron_obj(o_neuron_cp,\n",
    "                            validation = True,\n",
    "                            verbose  = True,\n",
    "                            original_mesh = original_mesh,\n",
    "                            plot_valid_error_synapses = False,\n",
    "                            calculate_synapse_soma_distance = False,\n",
    "                            add_valid_synapses = False,\n",
    "                              add_error_synapses=True)\n",
    "o_neuron_cp.n_synapses_total"
   ]
  },
  {
   "cell_type": "markdown",
   "metadata": {},
   "source": [
    "# How to Query Synapses"
   ]
  },
  {
   "cell_type": "code",
   "execution_count": null,
   "metadata": {},
   "outputs": [],
   "source": [
    "syu.synapses_df(neuron_obj)\n",
    "\n",
    "ret_df = syu.query_synapses(neuron_obj,\n",
    "query = \"label == 'soma'\",\n",
    "verbose = True,\n",
    "return_index = True)\n",
    "\n",
    "ret_df"
   ]
  }
 ],
 "metadata": {
  "kernelspec": {
   "display_name": "Python 3",
   "language": "python",
   "name": "python3"
  },
  "language_info": {
   "codemirror_mode": {
    "name": "ipython",
    "version": 3
   },
   "file_extension": ".py",
   "mimetype": "text/x-python",
   "name": "python",
   "nbconvert_exporter": "python",
   "pygments_lexer": "ipython3",
   "version": "3.6.9"
  }
 },
 "nbformat": 4,
 "nbformat_minor": 4
}
