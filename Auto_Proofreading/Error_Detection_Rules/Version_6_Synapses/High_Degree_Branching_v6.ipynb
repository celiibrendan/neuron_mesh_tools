{
 "cells": [
  {
   "cell_type": "code",
   "execution_count": null,
   "metadata": {},
   "outputs": [],
   "source": [
    "\"\"\"\n",
    "Created: 6/7\n",
    "\n",
    "Purpose: To incorporate the synapses\n",
    "into the neuron object\n",
    "\n",
    "\"\"\""
   ]
  },
  {
   "cell_type": "code",
   "execution_count": 1,
   "metadata": {},
   "outputs": [],
   "source": [
    "%load_ext autoreload\n",
    "%autoreload 2"
   ]
  },
  {
   "cell_type": "code",
   "execution_count": 2,
   "metadata": {},
   "outputs": [
    {
     "name": "stderr",
     "output_type": "stream",
     "text": [
      "INFO - 2021-06-14 20:30:29,286 - settings - Setting database.host to at-database.ad.bcm.edu\n",
      "INFO - 2021-06-14 20:30:29,288 - settings - Setting database.user to celiib\n",
      "INFO - 2021-06-14 20:30:29,289 - settings - Setting database.password to newceliipass\n",
      "INFO - 2021-06-14 20:30:29,289 - settings - Setting database.host to at-database.ad.bcm.edu\n",
      "INFO - 2021-06-14 20:30:29,290 - settings - Setting database.user to celiib\n",
      "INFO - 2021-06-14 20:30:29,291 - settings - Setting database.password to newceliipass\n",
      "INFO - 2021-06-14 20:30:29,296 - settings - Setting stores to {'minnie65': {'protocol': 'file', 'location': '/mnt/dj-stor01/platinum/minnie65', 'stage': '/mnt/dj-stor01/platinum/minnie65'}, 'meshes': {'protocol': 'file', 'location': '/mnt/dj-stor01/platinum/minnie65/02/meshes', 'stage': '/mnt/dj-stor01/platinum/minnie65/02/meshes'}, 'decimated_meshes': {'protocol': 'file', 'location': '/mnt/dj-stor01/platinum/minnie65/02/decimated_meshes', 'stage': '/mnt/dj-stor01/platinum/minnie65/02/decimated_meshes'}, 'skeletons': {'protocol': 'file', 'location': '/mnt/dj-stor01/platinum/minnie65/02/skeletons'}}\n",
      "INFO - 2021-06-14 20:30:29,297 - settings - Setting enable_python_native_blobs to True\n",
      "INFO - 2021-06-14 20:30:29,312 - connection - Connected celiib@at-database.ad.bcm.edu:3306\n"
     ]
    },
    {
     "name": "stdout",
     "output_type": "stream",
     "text": [
      "Connecting celiib@at-database.ad.bcm.edu:3306\n"
     ]
    },
    {
     "name": "stderr",
     "output_type": "stream",
     "text": [
      "INFO - 2021-06-14 20:30:29,850 - settings - Setting enable_python_native_blobs to True\n",
      "INFO - 2021-06-14 20:30:29,901 - settings - Setting database.host to at-database.ad.bcm.edu\n",
      "INFO - 2021-06-14 20:30:29,902 - settings - Setting database.user to celiib\n",
      "INFO - 2021-06-14 20:30:29,903 - settings - Setting database.password to newceliipass\n",
      "INFO - 2021-06-14 20:30:29,904 - settings - Setting enable_python_native_blobs to True\n",
      "INFO - 2021-06-14 20:30:30,523 - settings - Setting enable_python_native_blobs to True\n",
      "INFO - 2021-06-14 20:30:30,605 - settings - Setting database.host to at-database.ad.bcm.edu\n",
      "INFO - 2021-06-14 20:30:30,607 - settings - Setting database.user to celiib\n",
      "INFO - 2021-06-14 20:30:30,608 - settings - Setting database.password to newceliipass\n",
      "INFO - 2021-06-14 20:30:30,609 - settings - Setting database.host to at-database.ad.bcm.edu\n",
      "INFO - 2021-06-14 20:30:30,610 - settings - Setting database.user to celiib\n",
      "INFO - 2021-06-14 20:30:30,611 - settings - Setting database.password to newceliipass\n",
      "INFO - 2021-06-14 20:30:30,615 - settings - Setting enable_python_native_blobs to True\n",
      "INFO - 2021-06-14 20:30:31,273 - settings - Setting enable_python_native_blobs to True\n"
     ]
    }
   ],
   "source": [
    "import numpy as np\n",
    "import datajoint as dj\n",
    "import trimesh\n",
    "from tqdm.notebook import tqdm\n",
    "from pathlib import Path\n",
    "\n",
    "from os import sys\n",
    "sys.path.append(\"/meshAfterParty/\")\n",
    "sys.path.append(\"/meshAfterParty/meshAfterParty\")\n",
    "\n",
    "import datajoint_utils as du\n",
    "from importlib import reload"
   ]
  },
  {
   "cell_type": "code",
   "execution_count": 3,
   "metadata": {},
   "outputs": [
    {
     "name": "stderr",
     "output_type": "stream",
     "text": [
      "INFO - 2021-06-14 20:30:31,461 - settings - Setting database.host to at-database.ad.bcm.edu\n",
      "INFO - 2021-06-14 20:30:31,463 - settings - Setting database.user to celiib\n",
      "INFO - 2021-06-14 20:30:31,464 - settings - Setting database.password to newceliipass\n",
      "INFO - 2021-06-14 20:30:31,465 - settings - Setting enable_python_native_blobs to True\n",
      "INFO - 2021-06-14 20:30:32,236 - settings - Setting enable_python_native_blobs to True\n"
     ]
    }
   ],
   "source": [
    "#configuring will include the adapters\n",
    "minnie,schema = du.configure_minnie_vm()"
   ]
  },
  {
   "cell_type": "code",
   "execution_count": 4,
   "metadata": {},
   "outputs": [],
   "source": [
    "import neuron_utils as nru\n",
    "import neuron_visualizations as nviz"
   ]
  },
  {
   "cell_type": "markdown",
   "metadata": {},
   "source": [
    "# Downloading a Neuron to Play with"
   ]
  },
  {
   "cell_type": "code",
   "execution_count": 9,
   "metadata": {},
   "outputs": [],
   "source": [
    "segment_id = 864691136194042326"
   ]
  },
  {
   "cell_type": "code",
   "execution_count": 10,
   "metadata": {},
   "outputs": [
    {
     "name": "stdout",
     "output_type": "stream",
     "text": [
      "**Using table __decomposition_axon for table_to_neuron_objs**\n",
      "Decompressing Neuron in minimal output mode...please wait\n",
      "Dont need spine recalculation\n",
      "Number of Neurons found = 1\n"
     ]
    }
   ],
   "source": [
    "neuron_obj  = du.decomposition_with_spine_recalculation(segment_id,split_index = 0)"
   ]
  },
  {
   "cell_type": "code",
   "execution_count": null,
   "metadata": {},
   "outputs": [],
   "source": [
    "# nviz.visualize_neuron(neuron_obj,\n",
    "#                      limb_branch_dict=\"all\")"
   ]
  },
  {
   "cell_type": "markdown",
   "metadata": {},
   "source": [
    "# Pulling Down the Synapses Before the Proofreading"
   ]
  },
  {
   "cell_type": "code",
   "execution_count": null,
   "metadata": {},
   "outputs": [],
   "source": [
    "#original_mesh = du.fetch_segment_id_mesh(neuron_obj.segment_id)"
   ]
  },
  {
   "cell_type": "code",
   "execution_count": null,
   "metadata": {},
   "outputs": [],
   "source": [
    "nviz.plot_objects(neuron_obj.mesh)"
   ]
  },
  {
   "cell_type": "code",
   "execution_count": null,
   "metadata": {},
   "outputs": [],
   "source": [
    "minnie.AutoProofreadValidationSegmentMap4() & dict(segment_id=segment_id)"
   ]
  },
  {
   "cell_type": "code",
   "execution_count": null,
   "metadata": {},
   "outputs": [],
   "source": [
    "nviz.visualize_neuron(neuron_obj_syn,\n",
    "                     limb_branch_dict=\"all\")"
   ]
  },
  {
   "cell_type": "code",
   "execution_count": null,
   "metadata": {},
   "outputs": [],
   "source": [
    "import synapse_utils as syu\n",
    "neuron_obj_syn = syu.add_synapses_to_neuron_obj(neuron_obj,\n",
    "                                                segment_id = segment_id,\n",
    "                            validation = True,\n",
    "                            verbose  = True,\n",
    "                            #original_mesh = original_mesh,\n",
    "                            plot_valid_error_synapses = False,\n",
    "                            calculate_synapse_soma_distance = False,\n",
    "                            add_valid_synapses = True,\n",
    "                              add_error_synapses=False)"
   ]
  },
  {
   "cell_type": "code",
   "execution_count": null,
   "metadata": {},
   "outputs": [],
   "source": [
    "neuron_obj.synapses"
   ]
  },
  {
   "cell_type": "code",
   "execution_count": null,
   "metadata": {},
   "outputs": [],
   "source": []
  },
  {
   "cell_type": "code",
   "execution_count": null,
   "metadata": {},
   "outputs": [],
   "source": []
  },
  {
   "cell_type": "code",
   "execution_count": null,
   "metadata": {},
   "outputs": [],
   "source": []
  },
  {
   "cell_type": "markdown",
   "metadata": {},
   "source": [
    "# Filtering the Neuron and then adding back the errors"
   ]
  },
  {
   "cell_type": "code",
   "execution_count": null,
   "metadata": {},
   "outputs": [],
   "source": [
    "import proofreading_utils as pru\n",
    "o_neuron, filtering_info = pru.apply_proofreading_filters_to_neuron(input_neuron = neuron_obj,\n",
    "                                        filter_list = pru.v5_exc_filters(),\n",
    "                                        plot_limb_branch_filter_with_disconnect_effect=False,\n",
    "                                        plot_limb_branch_filter_away=False,\n",
    "                                        plot_final_neuron=False,\n",
    "\n",
    "                                        return_error_info=True,\n",
    "                                         verbose=True,\n",
    "                                        verbose_outline=True,\n",
    "                                        return_limb_branch_dict_to_cancel = True)\n",
    "nviz.visualize_neuron(o_neuron,limb_branch_dict=\"all\")"
   ]
  },
  {
   "cell_type": "code",
   "execution_count": null,
   "metadata": {},
   "outputs": [],
   "source": [
    "import neuron\n",
    "o_neuron_cp = neuron.Neuron(o_neuron)\n",
    "syu.add_synapses_to_neuron_obj(o_neuron_cp,\n",
    "                            validation = True,\n",
    "                            verbose  = True,\n",
    "                            original_mesh = original_mesh,\n",
    "                            plot_valid_error_synapses = False,\n",
    "                            calculate_synapse_soma_distance = False,\n",
    "                            add_valid_synapses = False,\n",
    "                              add_error_synapses=True)\n",
    "o_neuron_cp.n_synapses_total"
   ]
  },
  {
   "cell_type": "markdown",
   "metadata": {},
   "source": [
    "# How to Query Synapses"
   ]
  },
  {
   "cell_type": "code",
   "execution_count": null,
   "metadata": {},
   "outputs": [],
   "source": [
    "syu.synapses_df(neuron_obj)\n",
    "\n",
    "ret_df = syu.query_synapses(neuron_obj,\n",
    "query = \"label == 'soma'\",\n",
    "verbose = True,\n",
    "return_index = True)\n",
    "\n",
    "ret_df"
   ]
  }
 ],
 "metadata": {
  "kernelspec": {
   "display_name": "Python 3",
   "language": "python",
   "name": "python3"
  },
  "language_info": {
   "codemirror_mode": {
    "name": "ipython",
    "version": 3
   },
   "file_extension": ".py",
   "mimetype": "text/x-python",
   "name": "python",
   "nbconvert_exporter": "python",
   "pygments_lexer": "ipython3",
   "version": "3.6.9"
  }
 },
 "nbformat": 4,
 "nbformat_minor": 4
}
