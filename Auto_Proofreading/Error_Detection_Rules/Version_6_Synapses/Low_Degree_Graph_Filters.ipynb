{
 "cells": [
  {
   "cell_type": "code",
   "execution_count": null,
   "metadata": {},
   "outputs": [],
   "source": [
    "\"\"\"\n",
    "Purpose: To be able and validate when a \n",
    "branch splits off into 2 branches and \n",
    "whether or not this is valid\n",
    "\n",
    "\n",
    "\"\"\""
   ]
  },
  {
   "cell_type": "code",
   "execution_count": 1,
   "metadata": {},
   "outputs": [],
   "source": [
    "%load_ext autoreload\n",
    "%autoreload 2"
   ]
  },
  {
   "cell_type": "code",
   "execution_count": 2,
   "metadata": {},
   "outputs": [
    {
     "name": "stderr",
     "output_type": "stream",
     "text": [
      "INFO - 2021-07-06 20:22:40,274 - settings - Setting database.host to at-database.ad.bcm.edu\n",
      "INFO - 2021-07-06 20:22:40,275 - settings - Setting database.user to celiib\n",
      "INFO - 2021-07-06 20:22:40,276 - settings - Setting database.password to newceliipass\n",
      "INFO - 2021-07-06 20:22:40,277 - settings - Setting database.host to at-database.ad.bcm.edu\n",
      "INFO - 2021-07-06 20:22:40,278 - settings - Setting database.user to celiib\n",
      "INFO - 2021-07-06 20:22:40,278 - settings - Setting database.password to newceliipass\n",
      "INFO - 2021-07-06 20:22:40,282 - settings - Setting stores to {'minnie65': {'protocol': 'file', 'location': '/mnt/dj-stor01/platinum/minnie65', 'stage': '/mnt/dj-stor01/platinum/minnie65'}, 'meshes': {'protocol': 'file', 'location': '/mnt/dj-stor01/platinum/minnie65/02/meshes', 'stage': '/mnt/dj-stor01/platinum/minnie65/02/meshes'}, 'decimated_meshes': {'protocol': 'file', 'location': '/mnt/dj-stor01/platinum/minnie65/02/decimated_meshes', 'stage': '/mnt/dj-stor01/platinum/minnie65/02/decimated_meshes'}, 'skeletons': {'protocol': 'file', 'location': '/mnt/dj-stor01/platinum/minnie65/02/skeletons'}}\n",
      "INFO - 2021-07-06 20:22:40,282 - settings - Setting enable_python_native_blobs to True\n",
      "INFO - 2021-07-06 20:22:40,295 - connection - Connected celiib@at-database.ad.bcm.edu:3306\n"
     ]
    },
    {
     "name": "stdout",
     "output_type": "stream",
     "text": [
      "Connecting celiib@at-database.ad.bcm.edu:3306\n"
     ]
    },
    {
     "name": "stderr",
     "output_type": "stream",
     "text": [
      "INFO - 2021-07-06 20:22:40,869 - settings - Setting enable_python_native_blobs to True\n",
      "INFO - 2021-07-06 20:22:40,927 - settings - Setting database.host to at-database.ad.bcm.edu\n",
      "INFO - 2021-07-06 20:22:40,931 - settings - Setting database.user to celiib\n",
      "INFO - 2021-07-06 20:22:40,932 - settings - Setting database.password to newceliipass\n",
      "INFO - 2021-07-06 20:22:40,933 - settings - Setting enable_python_native_blobs to True\n",
      "INFO - 2021-07-06 20:22:41,606 - settings - Setting enable_python_native_blobs to True\n",
      "INFO - 2021-07-06 20:22:41,664 - settings - Setting database.host to at-database.ad.bcm.edu\n",
      "INFO - 2021-07-06 20:22:41,665 - settings - Setting database.user to celiib\n",
      "INFO - 2021-07-06 20:22:41,666 - settings - Setting database.password to newceliipass\n",
      "INFO - 2021-07-06 20:22:41,666 - settings - Setting database.host to at-database.ad.bcm.edu\n",
      "INFO - 2021-07-06 20:22:41,667 - settings - Setting database.user to celiib\n",
      "INFO - 2021-07-06 20:22:41,667 - settings - Setting database.password to newceliipass\n",
      "INFO - 2021-07-06 20:22:41,671 - settings - Setting enable_python_native_blobs to True\n",
      "INFO - 2021-07-06 20:22:42,204 - settings - Setting enable_python_native_blobs to True\n"
     ]
    }
   ],
   "source": [
    "import numpy as np\n",
    "import datajoint as dj\n",
    "import trimesh\n",
    "from tqdm.notebook import tqdm\n",
    "from pathlib import Path\n",
    "\n",
    "from os import sys\n",
    "sys.path.append(\"/meshAfterParty/\")\n",
    "sys.path.append(\"/meshAfterParty/meshAfterParty\")\n",
    "\n",
    "import datajoint_utils as du\n",
    "from importlib import reload"
   ]
  },
  {
   "cell_type": "code",
   "execution_count": 3,
   "metadata": {},
   "outputs": [
    {
     "name": "stderr",
     "output_type": "stream",
     "text": [
      "INFO - 2021-07-06 20:22:42,312 - settings - Setting database.host to at-database.ad.bcm.edu\n",
      "INFO - 2021-07-06 20:22:42,313 - settings - Setting database.user to celiib\n",
      "INFO - 2021-07-06 20:22:42,314 - settings - Setting database.password to newceliipass\n",
      "INFO - 2021-07-06 20:22:42,319 - settings - Setting enable_python_native_blobs to True\n",
      "INFO - 2021-07-06 20:22:42,896 - settings - Setting enable_python_native_blobs to True\n"
     ]
    }
   ],
   "source": [
    "#configuring will include the adapters\n",
    "minnie,schema = du.configure_minnie_vm()"
   ]
  },
  {
   "cell_type": "code",
   "execution_count": 4,
   "metadata": {},
   "outputs": [],
   "source": [
    "import validation_utils as vu\n",
    "import neuron_visualizations as nviz\n",
    "import neuron_utils as nru\n",
    "import proofreading_utils as pru\n",
    "import time\n",
    "import system_utils as su\n",
    "import concept_network_utils as cnu\n",
    "import neuron_statistics as nst"
   ]
  },
  {
   "cell_type": "markdown",
   "metadata": {},
   "source": [
    "# Pulling Down a Neuron"
   ]
  },
  {
   "cell_type": "code",
   "execution_count": 5,
   "metadata": {},
   "outputs": [],
   "source": [
    "segment_id = 864691135212632448"
   ]
  },
  {
   "cell_type": "code",
   "execution_count": 6,
   "metadata": {},
   "outputs": [
    {
     "name": "stdout",
     "output_type": "stream",
     "text": [
      "**Using table __decomposition_cell_type for table_to_neuron_objs**\n",
      "Decompressing Neuron in minimal output mode...please wait\n",
      "Number of Neurons found = 1\n"
     ]
    }
   ],
   "source": [
    "neuron_objs,neuron_split_idxs = du.decomposition_with_spine_recalculation(segment_id)"
   ]
  },
  {
   "cell_type": "code",
   "execution_count": 7,
   "metadata": {},
   "outputs": [
    {
     "data": {
      "text/html": [
       "\n",
       "        \n",
       "        <style type=\"text/css\">\n",
       "            .Relation{\n",
       "                border-collapse:collapse;\n",
       "            }\n",
       "            .Relation th{\n",
       "                background: #A0A0A0; color: #ffffff; padding:4px; border:#f0e0e0 1px solid;\n",
       "                font-weight: normal; font-family: monospace; font-size: 100%;\n",
       "            }\n",
       "            .Relation td{\n",
       "                padding:4px; border:#f0e0e0 1px solid; font-size:100%;\n",
       "            }\n",
       "            .Relation tr:nth-child(odd){\n",
       "                background: #ffffff;\n",
       "            }\n",
       "            .Relation tr:nth-child(even){\n",
       "                background: #f3f1ff;\n",
       "            }\n",
       "            /* Tooltip container */\n",
       "            .djtooltip {\n",
       "            }\n",
       "            /* Tooltip text */\n",
       "            .djtooltip .djtooltiptext {\n",
       "                visibility: hidden;\n",
       "                width: 120px;\n",
       "                background-color: black;\n",
       "                color: #fff;\n",
       "                text-align: center;\n",
       "                padding: 5px 0;\n",
       "                border-radius: 6px;\n",
       "                /* Position the tooltip text - see examples below! */\n",
       "                position: absolute;\n",
       "                z-index: 1;\n",
       "            }\n",
       "            #primary {\n",
       "                font-weight: bold;\n",
       "                color: black;\n",
       "            }\n",
       "\n",
       "            #nonprimary {\n",
       "                font-weight: normal;\n",
       "                color: white;\n",
       "            }\n",
       "\n",
       "            /* Show the tooltip text when you mouse over the tooltip container */\n",
       "            .djtooltip:hover .djtooltiptext {\n",
       "                visibility: visible;\n",
       "            }\n",
       "        </style>\n",
       "        \n",
       "        <b></b>\n",
       "            <div style=\"max-height:1000px;max-width:1500px;overflow:auto;\">\n",
       "            <table border=\"1\" class=\"Relation\">\n",
       "                <thead> <tr style=\"text-align: right;\"> <th> <div class=\"djtooltip\">\n",
       "                                <p id=\"primary\">segment_id</p>\n",
       "                                <span class=\"djtooltiptext\">segment id unique within each Segmentation</span>\n",
       "                            </div></th><th><div class=\"djtooltip\">\n",
       "                                <p id=\"primary\">decimation_version</p>\n",
       "                                <span class=\"djtooltiptext\"></span>\n",
       "                            </div></th><th><div class=\"djtooltip\">\n",
       "                                <p id=\"primary\">decimation_ratio</p>\n",
       "                                <span class=\"djtooltiptext\">ratio of remaining mesh vertices/faces (which ones depends on what metric the decimation technique uses)</span>\n",
       "                            </div></th><th><div class=\"djtooltip\">\n",
       "                                <p id=\"primary\">ver</p>\n",
       "                                <span class=\"djtooltiptext\">the version number of the materializaiton</span>\n",
       "                            </div></th><th><div class=\"djtooltip\">\n",
       "                                <p id=\"primary\">process_version</p>\n",
       "                                <span class=\"djtooltiptext\">the version of the preprocessing pipeline run</span>\n",
       "                            </div></th><th><div class=\"djtooltip\">\n",
       "                                <p id=\"primary\">index</p>\n",
       "                                <span class=\"djtooltiptext\">the index of the neuron object that resulted from that mesh (indexed starting at 0)</span>\n",
       "                            </div></th><th><div class=\"djtooltip\">\n",
       "                                <p id=\"primary\">split_index</p>\n",
       "                                <span class=\"djtooltiptext\">the index of the neuron object that resulted AFTER THE SPLITTING ALGORITHM</span>\n",
       "                            </div></th><th><div class=\"djtooltip\">\n",
       "                                <p id=\"primary\">axon_version</p>\n",
       "                                <span class=\"djtooltiptext\">key by which to lookup the finer axon processing method</span>\n",
       "                            </div></th><th><div class=\"djtooltip\">\n",
       "                                <p id=\"nonprimary\">decomposition</p>\n",
       "                                <span class=\"djtooltiptext\">saved neuron object with high fidelity axon</span>\n",
       "                            </div></th><th><div class=\"djtooltip\">\n",
       "                                <p id=\"nonprimary\">nucleus_id</p>\n",
       "                                <span class=\"djtooltiptext\">id of nucleus from the flat segmentation  Equivalent to Allen: 'id'.</span>\n",
       "                            </div></th><th><div class=\"djtooltip\">\n",
       "                                <p id=\"nonprimary\">nuclei_distance</p>\n",
       "                                <span class=\"djtooltiptext\">the distance to the closest nuclei (even if no matching nuclei found)</span>\n",
       "                            </div></th><th><div class=\"djtooltip\">\n",
       "                                <p id=\"nonprimary\">n_nuclei_in_radius</p>\n",
       "                                <span class=\"djtooltiptext\">the number of nuclei within the search radius of 15000 belonging to that segment</span>\n",
       "                            </div></th><th><div class=\"djtooltip\">\n",
       "                                <p id=\"nonprimary\">n_nuclei_in_bbox</p>\n",
       "                                <span class=\"djtooltiptext\">the number of nuclei within the bounding box of that soma</span>\n",
       "                            </div></th><th><div class=\"djtooltip\">\n",
       "                                <p id=\"nonprimary\">cell_type_predicted</p>\n",
       "                                <span class=\"djtooltiptext\">morphology predicted by classifier</span>\n",
       "                            </div></th><th><div class=\"djtooltip\">\n",
       "                                <p id=\"nonprimary\">spine_category</p>\n",
       "                                <span class=\"djtooltiptext\"></span>\n",
       "                            </div></th><th><div class=\"djtooltip\">\n",
       "                                <p id=\"nonprimary\">n_axons</p>\n",
       "                                <span class=\"djtooltiptext\">Number of axon candidates identified</span>\n",
       "                            </div></th><th><div class=\"djtooltip\">\n",
       "                                <p id=\"nonprimary\">n_apicals</p>\n",
       "                                <span class=\"djtooltiptext\">Number of apicals identified</span>\n",
       "                            </div></th><th><div class=\"djtooltip\">\n",
       "                                <p id=\"nonprimary\">axon_angle_maximum</p>\n",
       "                                <span class=\"djtooltiptext\">the anlge of an identified axon</span>\n",
       "                            </div></th><th><div class=\"djtooltip\">\n",
       "                                <p id=\"nonprimary\">spine_density_classifier</p>\n",
       "                                <span class=\"djtooltiptext\">the number of spines divided by skeletal length for branches analyzed in classification</span>\n",
       "                            </div></th><th><div class=\"djtooltip\">\n",
       "                                <p id=\"nonprimary\">n_branches_processed</p>\n",
       "                                <span class=\"djtooltiptext\">the number branches used for the spine density analysis</span>\n",
       "                            </div></th><th><div class=\"djtooltip\">\n",
       "                                <p id=\"nonprimary\">skeletal_length_processed</p>\n",
       "                                <span class=\"djtooltiptext\">The total skeletal length of the viable branches used for the spine density analysis</span>\n",
       "                            </div></th><th><div class=\"djtooltip\">\n",
       "                                <p id=\"nonprimary\">n_branches_in_search_radius</p>\n",
       "                                <span class=\"djtooltiptext\">the number branches existing in the search radius used for spine density</span>\n",
       "                            </div></th><th><div class=\"djtooltip\">\n",
       "                                <p id=\"nonprimary\">skeletal_length_in_search_radius</p>\n",
       "                                <span class=\"djtooltiptext\">The total skeletal length of the branches existing in the search radius used for spine density</span>\n",
       "                            </div></th><th><div class=\"djtooltip\">\n",
       "                                <p id=\"nonprimary\">allen_e_i</p>\n",
       "                                <span class=\"djtooltiptext\"></span>\n",
       "                            </div></th><th><div class=\"djtooltip\">\n",
       "                                <p id=\"nonprimary\">allen_e_i_n_nuc</p>\n",
       "                                <span class=\"djtooltiptext\"></span>\n",
       "                            </div></th><th><div class=\"djtooltip\">\n",
       "                                <p id=\"nonprimary\">allen_cell_type</p>\n",
       "                                <span class=\"djtooltiptext\"></span>\n",
       "                            </div></th><th><div class=\"djtooltip\">\n",
       "                                <p id=\"nonprimary\">allen_cell_type_n_nuc</p>\n",
       "                                <span class=\"djtooltiptext\"></span>\n",
       "                            </div></th><th><div class=\"djtooltip\">\n",
       "                                <p id=\"nonprimary\">allen_cell_type_e_i</p>\n",
       "                                <span class=\"djtooltiptext\"></span>\n",
       "                            </div></th><th><div class=\"djtooltip\">\n",
       "                                <p id=\"nonprimary\">dendrite_on_axon_merges_error_area</p>\n",
       "                                <span class=\"djtooltiptext\">the area (in um ^ 2) of the faces canceled out by filter</span>\n",
       "                            </div></th><th><div class=\"djtooltip\">\n",
       "                                <p id=\"nonprimary\">dendrite_on_axon_merges_error_length</p>\n",
       "                                <span class=\"djtooltiptext\">the length (in um) of skeleton distance canceled out by filter</span>\n",
       "                            </div></th><th><div class=\"djtooltip\">\n",
       "                                <p id=\"nonprimary\">cell_type_for_axon</p>\n",
       "                                <span class=\"djtooltiptext\"></span>\n",
       "                            </div></th><th><div class=\"djtooltip\">\n",
       "                                <p id=\"nonprimary\">axon_volume</p>\n",
       "                                <span class=\"djtooltiptext\">volume of the oriented bounding box of axon (divided by 10^14)</span>\n",
       "                            </div></th><th><div class=\"djtooltip\">\n",
       "                                <p id=\"nonprimary\">axon_length</p>\n",
       "                                <span class=\"djtooltiptext\">length (in um) of the classified axon skeleton</span>\n",
       "                            </div></th><th><div class=\"djtooltip\">\n",
       "                                <p id=\"nonprimary\">axon_branch_length_median</p>\n",
       "                                <span class=\"djtooltiptext\">length (in um) of the classified axon skeleton</span>\n",
       "                            </div></th><th><div class=\"djtooltip\">\n",
       "                                <p id=\"nonprimary\">axon_branch_length_mean</p>\n",
       "                                <span class=\"djtooltiptext\">length (in um) of the classified axon skeleton</span>\n",
       "                            </div></th><th><div class=\"djtooltip\">\n",
       "                                <p id=\"nonprimary\">axon_n_branches</p>\n",
       "                                <span class=\"djtooltiptext\"></span>\n",
       "                            </div></th><th><div class=\"djtooltip\">\n",
       "                                <p id=\"nonprimary\">axon_n_short_branches</p>\n",
       "                                <span class=\"djtooltiptext\"></span>\n",
       "                            </div></th><th><div class=\"djtooltip\">\n",
       "                                <p id=\"nonprimary\">axon_n_long_branches</p>\n",
       "                                <span class=\"djtooltiptext\"></span>\n",
       "                            </div></th><th><div class=\"djtooltip\">\n",
       "                                <p id=\"nonprimary\">axon_n_medium_branches</p>\n",
       "                                <span class=\"djtooltiptext\"></span>\n",
       "                            </div></th><th><div class=\"djtooltip\">\n",
       "                                <p id=\"nonprimary\">axon_bbox_x_min</p>\n",
       "                                <span class=\"djtooltiptext\"></span>\n",
       "                            </div></th><th><div class=\"djtooltip\">\n",
       "                                <p id=\"nonprimary\">axon_bbox_y_min</p>\n",
       "                                <span class=\"djtooltiptext\"></span>\n",
       "                            </div></th><th><div class=\"djtooltip\">\n",
       "                                <p id=\"nonprimary\">axon_bbox_z_min</p>\n",
       "                                <span class=\"djtooltiptext\"></span>\n",
       "                            </div></th><th><div class=\"djtooltip\">\n",
       "                                <p id=\"nonprimary\">axon_bbox_x_max</p>\n",
       "                                <span class=\"djtooltiptext\"></span>\n",
       "                            </div></th><th><div class=\"djtooltip\">\n",
       "                                <p id=\"nonprimary\">axon_bbox_y_max</p>\n",
       "                                <span class=\"djtooltiptext\"></span>\n",
       "                            </div></th><th><div class=\"djtooltip\">\n",
       "                                <p id=\"nonprimary\">axon_bbox_z_max</p>\n",
       "                                <span class=\"djtooltiptext\"></span>\n",
       "                            </div></th><th><div class=\"djtooltip\">\n",
       "                                <p id=\"nonprimary\">axon_bbox_x_min_soma_relative</p>\n",
       "                                <span class=\"djtooltiptext\"></span>\n",
       "                            </div></th><th><div class=\"djtooltip\">\n",
       "                                <p id=\"nonprimary\">axon_bbox_y_min_soma_relative</p>\n",
       "                                <span class=\"djtooltiptext\"></span>\n",
       "                            </div></th><th><div class=\"djtooltip\">\n",
       "                                <p id=\"nonprimary\">axon_bbox_z_min_soma_relative</p>\n",
       "                                <span class=\"djtooltiptext\"></span>\n",
       "                            </div></th><th><div class=\"djtooltip\">\n",
       "                                <p id=\"nonprimary\">axon_bbox_x_max_soma_relative</p>\n",
       "                                <span class=\"djtooltiptext\"></span>\n",
       "                            </div></th><th><div class=\"djtooltip\">\n",
       "                                <p id=\"nonprimary\">axon_bbox_y_max_soma_relative</p>\n",
       "                                <span class=\"djtooltiptext\"></span>\n",
       "                            </div></th><th><div class=\"djtooltip\">\n",
       "                                <p id=\"nonprimary\">axon_bbox_z_max_soma_relative</p>\n",
       "                                <span class=\"djtooltiptext\"></span>\n",
       "                            </div></th><th><div class=\"djtooltip\">\n",
       "                                <p id=\"nonprimary\">run_time</p>\n",
       "                                <span class=\"djtooltiptext\">the amount of time to run (seconds)</span>\n",
       "                            </div> </th> </tr> </thead>\n",
       "                <tbody> <tr> <td>864691135212632448</td>\n",
       "<td>0</td>\n",
       "<td>0.25</td>\n",
       "<td>30.00</td>\n",
       "<td>7</td>\n",
       "<td>0</td>\n",
       "<td>0</td>\n",
       "<td>6</td>\n",
       "<td>=BLOB=</td>\n",
       "<td>301095</td>\n",
       "<td>1186.5</td>\n",
       "<td>1</td>\n",
       "<td>1</td>\n",
       "<td>excitatory</td>\n",
       "<td>densely_spined</td>\n",
       "<td>1</td>\n",
       "<td>1</td>\n",
       "<td>169.19782551666762</td>\n",
       "<td>0.0004730579787217253</td>\n",
       "<td>0</td>\n",
       "<td>3361786.307754809</td>\n",
       "<td>98</td>\n",
       "<td>4361480.96279547</td>\n",
       "<td>excitatory</td>\n",
       "<td>1</td>\n",
       "<td>5P_IT</td>\n",
       "<td>1</td>\n",
       "<td>excitatory</td>\n",
       "<td>0.0</td>\n",
       "<td>0.0</td>\n",
       "<td>excitatory</td>\n",
       "<td>103.74924817914972</td>\n",
       "<td>2245.668874429093</td>\n",
       "<td>6.540861338220179</td>\n",
       "<td>12.204722143636376</td>\n",
       "<td>184</td>\n",
       "<td>88</td>\n",
       "<td>1</td>\n",
       "<td>95</td>\n",
       "<td>650779.2555368412</td>\n",
       "<td>679588.4768641673</td>\n",
       "<td>723513.567330264</td>\n",
       "<td>833718.6664819184</td>\n",
       "<td>915465.8638145905</td>\n",
       "<td>963945.071757931</td>\n",
       "<td>-90725.57701373694</td>\n",
       "<td>-61087.37313583854</td>\n",
       "<td>-127024.11600307119</td>\n",
       "<td>92213.83393134025</td>\n",
       "<td>174790.0138145847</td>\n",
       "<td>113407.38842459582</td>\n",
       "<td>450.7</td> </tr> </tbody>\n",
       "            </table>\n",
       "            \n",
       "            <p>Total: 1</p></div>\n",
       "            "
      ],
      "text/plain": [
       "*segment_id    *decimation_ve *decimation_ra *ver      *process_versi *index    *split_index   *axon_version  decomposit nucleus_id     nuclei_distanc n_nuclei_in_ra n_nuclei_in_bb cell_type_pred spine_category n_axons     n_apicals     axon_angle_max spine_density_ n_branches_pro skeletal_lengt n_branches_in_ skeletal_lengt allen_e_i      allen_e_i_n_nu allen_cell_typ allen_cell_typ allen_cell_typ dendrite_on_ax dendrite_on_ax cell_type_for_ axon_volume    axon_length    axon_branch_le axon_branch_le axon_n_branche axon_n_short_b axon_n_long_br axon_n_medium_ axon_bbox_x_mi axon_bbox_y_mi axon_bbox_z_mi axon_bbox_x_ma axon_bbox_y_ma axon_bbox_z_ma axon_bbox_x_mi axon_bbox_y_mi axon_bbox_z_mi axon_bbox_x_ma axon_bbox_y_ma axon_bbox_z_ma run_time    \n",
       "+------------+ +------------+ +------------+ +-------+ +------------+ +-------+ +------------+ +------------+ +--------+ +------------+ +------------+ +------------+ +------------+ +------------+ +------------+ +---------+ +-----------+ +------------+ +------------+ +------------+ +------------+ +------------+ +------------+ +------------+ +------------+ +------------+ +------------+ +------------+ +------------+ +------------+ +------------+ +------------+ +------------+ +------------+ +------------+ +------------+ +------------+ +------------+ +------------+ +------------+ +------------+ +------------+ +------------+ +------------+ +------------+ +------------+ +------------+ +------------+ +------------+ +------------+ +------------+ +----------+\n",
       "86469113521263 0              0.25           30.00     7              0         0              6              =BLOB=     301095         1186.5         1              1              excitatory     densely_spined 1           1             169.1978255166 0.000473057978 0              3361786.307754 98             4361480.962795 excitatory     1              5P_IT          1              excitatory     0.0            0.0            excitatory     103.7492481791 2245.668874429 6.540861338220 12.20472214363 184            88             1              95             650779.2555368 679588.4768641 723513.5673302 833718.6664819 915465.8638145 963945.0717579 -90725.5770137 -61087.3731358 -127024.116003 92213.83393134 174790.0138145 113407.3884245 450.7       \n",
       " (Total: 1)"
      ]
     },
     "execution_count": 7,
     "metadata": {},
     "output_type": "execute_result"
    }
   ],
   "source": [
    "minnie.DecompositionCellType()& dict(segment_id=segment_id)"
   ]
  },
  {
   "cell_type": "code",
   "execution_count": 8,
   "metadata": {},
   "outputs": [],
   "source": [
    "neuron_obj = neuron_objs[0]"
   ]
  },
  {
   "cell_type": "markdown",
   "metadata": {},
   "source": [
    "# Proofread the Neuron to get some instances of 1 degree branching"
   ]
  },
  {
   "cell_type": "code",
   "execution_count": 10,
   "metadata": {},
   "outputs": [
    {
     "name": "stdout",
     "output_type": "stream",
     "text": [
      "\n",
      "--- Working on filter 0:\n",
      "function = high_degree_branching\n",
      "function __name__ = filter_away_high_degree_branching\n",
      "function arguments = {}\n",
      "\n",
      "\n",
      "Recieved another instance of Neuron class in init -- so just copying data\n",
      "limb_branch_dict_to_cancel = {'L4': array([ 16,  17,  19,  18,  29,  33,  41,  28,  44,  34,  54,   0,  56,\n",
      "        58,  50,  73,  64,  74,  93,  94, 112, 114, 117, 157, 162, 163,\n",
      "       175, 177, 178, 179, 172, 176])}\n",
      "Recieved another instance of Neuron class in init -- so just copying data\n",
      "\n",
      "\n",
      "\n",
      " ---- Total time for applying filter: 140.77436208724976 -----\n",
      "\n",
      "--- Finished Part 1: Filtering Neuron -----\n",
      "\n",
      "---Step 1: Computing synapse_dict---\n",
      "# of beginning_direct_connections = 3779 \n",
      "# of presyn: 416\n",
      "# of postsyn: 3363\n",
      "\n",
      "---Step 2: Computing mesh_label_dict---\n",
      "-- Working on presyn--\n",
      "Using original_mesh_method\n",
      "# of distance_errored_syn_idx = 0\n",
      "# of mesh_errored_syn_idx = 82\n",
      "# of valid_syn_idx = 334\n",
      "-- Working on postsyn--\n",
      "Using original_mesh_method\n",
      "# of distance_errored_syn_idx = 0\n",
      "# of mesh_errored_syn_idx = 24\n",
      "# of valid_syn_idx = 3339\n",
      "\n",
      "---Step 4: add_error_synapses_to_neuron_obj---\n",
      "Working on error_type = distance_errored\n",
      "Working on error_type = mesh_errored\n",
      "Total time for valid synapse objects = 0.001958608627319336\n",
      "\n",
      "--- Limb L0 soma calculation time = 1.216\n",
      "\n",
      "--- Limb L1 soma calculation time = 0.848\n",
      "\n",
      "--- Limb L2 soma calculation time = 0.395\n",
      "\n",
      "--- Limb L3 soma calculation time = 0.37\n",
      "\n",
      "--- Limb L4 soma calculation time = 1.294\n",
      "\n",
      "--- Limb L5 soma calculation time = 0.422\n",
      "\n",
      "--- Limb L6 soma calculation time = 0.516\n",
      "Putting Soma Placeholders\n",
      "\n",
      "--- Soma 0 soma calculation time = 0.0\n",
      "Putting Error Placeholders\n",
      "\n",
      "--- Error soma calculation time = 0.069\n",
      "Total soma distance calculation time = 5.132714748382568\n",
      "Time for 3387 synapse entries = 0.03142809867858887\n",
      "Time for 392 synapse entries = 0.00463414192199707\n",
      "# of synapses in query = 286\n",
      "# of total_error_synapse_ids = 392\n",
      "set_presyns_on_dendrite_as_errors to default of True\n",
      "presyn_error = [140708466 146763515 146763858 147217654 147339728 153587652 153697515\n",
      " 153697563 154381167 154381343 154382252 168262449 168262557 158003827\n",
      " 158003733 161926898 157835635 160547728 161853084 158004757 157805124\n",
      " 157836075 157836789 157837085 159902095 160230076 158004948 158004955\n",
      " 158005238 161930004 168973439 158005422 158005445 158005651 158005882\n",
      " 160258948 160258973 166305619 161907003 161907017 166027225 166027329\n",
      " 166027810 165386454 165386798 165386963 165387607 165387876 165387929\n",
      " 165387945 165388782 165517460 168301702 168699644 168699855 168700381\n",
      " 168701130 169319287 169319336 169319546 166861070 166863165 168819233\n",
      " 162445052 166862437 166863162 166863175 169026557 169026606 166029673\n",
      " 168744037 168746026 166306244 169028083 169029098 166306700 166307403\n",
      " 169031155 166029945 166308209 166308318 166308324 168389472 168389501\n",
      " 168392101 169320560 169320665 169321787 169321808 169321811 169321853\n",
      " 169321862 171848875 171848905 171849035 171849103 171850353 171850388\n",
      " 171850416 171850944 171850953 166308097 168974549 168974818 168975713\n",
      " 174514261 173558963 173559670 173559751 173559780 173560473 173561258\n",
      " 168547443 168547455 173557412 173557556 173558136 166865898 173557327\n",
      " 173557705 176064419 168982105 175588721 175589288 166865846 166865939\n",
      " 166865985 176049396 176049717 176050478 176050492 181836267 181838438\n",
      " 181882104 186532965 186533083 166308669 166308673 166308763 171604973\n",
      " 171605403 171605464 171605580 171606274 171623078 171623130 171623300\n",
      " 171623386 171623667 171623699 171767883 171890946 171890948 171890977\n",
      " 171891071 171891093 173557668 173557756 175265867 175265964 175282615\n",
      " 175283837 175283845 175285213 175285689 175285799 175287407 175287540\n",
      " 175287634 175325703 175486463 175486512 175647404 182213112 182292997\n",
      " 182297292 182297704 173557294 173557541 173557581 173557786 173557833\n",
      " 173557838 173558446 181435801 189454595 171843221 171851502 171851845\n",
      " 171852158 173398162 173561343 173561452 176195300 220128504 192932223\n",
      " 195832402 132320128 132320183 132320280 159575843 188983966 178865043\n",
      " 202965414 208812172 126944739 147634756 124969175 126786009 126786016\n",
      " 133808667 133854633 133854677 133855843 141134220 141135767 141135933\n",
      " 133870410 136242015 136242348 136242352 136242367 136261632 136357520\n",
      " 136396348 136396531 139060661 139061951 139062163 139062250 141135915\n",
      " 141135973 141137470 145448127 141136824 139885439 146786478 146786683\n",
      " 146786751 149105481 149108511 153390607 153390771 153392061 153392080\n",
      " 157884778 162040999 167794111 167796920 146120511 146121529 145448972\n",
      " 146787628 148935463 148935534 148935550 149107754 149108425 153166565\n",
      " 154765672 154765918 154951422 154951747 154951872 154952175 154952502\n",
      " 154954496 166661654 169165871 158248085 158248348 158248665 166099285\n",
      " 174560867 158021988 158022038 158695795 158695892 158695893 158695819\n",
      " 158695828 158696831 162360159 162286482 166861253 168277656]\n",
      "\n",
      "--- Finished Part 2: Filtering Synapses -----\n",
      "Synapsse Results:\n",
      "Total Number of Synapses = 3779\n",
      "n_valid_syn_ids_presyn = 48\n",
      "n_errored_syn_ids_presyn = 368\n",
      "n_valid_syn_ids_postsyn = 3339\n",
      "n_errored_syn_ids_postsyn = 24\n",
      "Synapsse Results:\n",
      "Total Number of Synapses = 3779\n",
      "n_valid_syn_ids_presyn = 48\n",
      "n_errored_syn_ids_presyn = 368\n",
      "n_valid_syn_ids_postsyn = 3339\n",
      "n_errored_syn_ids_postsyn = 24\n",
      "\n",
      "--- Finished Part 3: Generating Validation Dataframe -----\n"
     ]
    }
   ],
   "source": [
    "import validation_utils as vu\n",
    "(filt_neuron,\n",
    "             return_synapse_df_revised,\n",
    "             return_synapse_df_errors,\n",
    "            return_validation_df_revised,\n",
    "            return_validation_df_extension) =  vu.filtered_neuron_score(neuron_obj = neuron_obj,   \n",
    "                                #filter_list = pru.v6_exc_filters(),\n",
    "                                filter_list = [pru.exc_high_degree_branching_filter_v6],\n",
    "                                plot_limb_branch_filter_with_disconnect_effect = False,\n",
    "                                verbose = True,\n",
    "                                plot_score=False,\n",
    "                                nucleus_id = 301095,\n",
    "                                return_synapse_df_errors=True,\n",
    "                                return_validation_df_extension = True,                                        \n",
    "                                split_index=0)"
   ]
  },
  {
   "cell_type": "code",
   "execution_count": null,
   "metadata": {},
   "outputs": [],
   "source": [
    "nviz.visualize_neuron_specific_limb(filt_neuron,\n",
    "               filt_neuron.axon_limb_idx)"
   ]
  },
  {
   "cell_type": "markdown",
   "metadata": {},
   "source": [
    "# Testing Low Degree Filters"
   ]
  },
  {
   "cell_type": "code",
   "execution_count": 15,
   "metadata": {
    "scrolled": false
   },
   "outputs": [
    {
     "name": "stdout",
     "output_type": "stream",
     "text": [
      "Recieved another instance of Neuron class in init -- so just copying data\n",
      "branch_match_query = :\n",
      "(((width_diff < 75) or (width_diff_percentage < 0.6)) and (sk_angle < 65))and ((synapse_density_diff<0.00015) or (n_synapses_diff < 6))\n",
      "Performing Edge Query\n",
      "After edge filter, # of rows = 2\n",
      "\n",
      "--- Before Local Query ---\n",
      "    u   v  sk_angle  width_diff  width_diff_percentage  synapse_density_diff  \\\n",
      "0   8  55     19.15   19.065913               0.254490              0.000068   \n",
      "1   8   9    127.29   24.754848               0.493486              0.000126   \n",
      "2  55   9     34.87    5.688935               0.113409              0.000057   \n",
      "\n",
      "   n_synapses_diff  \n",
      "0                3  \n",
      "1                5  \n",
      "2                2  \n",
      "Afer Local query: \n",
      "    u   v  sk_angle  width_diff  width_diff_percentage  synapse_density_diff  \\\n",
      "0   8  55     19.15   19.065913               0.254490              0.000068   \n",
      "1  55   9     34.87    5.688935               0.113409              0.000057   \n",
      "\n",
      "   n_synapses_diff  \n",
      "0                3  \n",
      "1                2  \n"
     ]
    },
    {
     "data": {
      "image/png": "[encoded data removed]",
      "text/plain": [
       "<Figure size 432x288 with 1 Axes>"
      ]
     },
     "metadata": {},
     "output_type": "display_data"
    },
    {
     "name": "stdout",
     "output_type": "stream",
     "text": [
      "Performing global features query\n",
      "Performing Edge Query\n",
      "After edge filter, # of rows = 2\n",
      "for upstream node 9, winning_node = None, error_branches = [ 8 55]\n",
      "branch_match_query = :\n",
      "(((width_diff < 75) or (width_diff_percentage < 0.6)) and (sk_angle < 65))and ((synapse_density_diff<0.00015) or (n_synapses_diff < 6))\n",
      "Performing Edge Query\n",
      "After edge filter, # of rows = 2\n",
      "\n",
      "--- Before Local Query ---\n",
      "    u   v  sk_angle  width_diff  width_diff_percentage  synapse_density_diff  \\\n",
      "0  16  31     21.97    7.104051               0.085180              0.000105   \n",
      "1  16  20    153.98   31.762648               0.615103              0.000105   \n",
      "2  31  20     15.55   38.866699               0.752677              0.000000   \n",
      "\n",
      "   n_synapses_diff  \n",
      "0                2  \n",
      "1                2  \n",
      "2                0  \n",
      "Afer Local query: \n",
      "    u   v  sk_angle  width_diff  width_diff_percentage  synapse_density_diff  \\\n",
      "0  16  31     21.97    7.104051               0.085180              0.000105   \n",
      "1  31  20     15.55   38.866699               0.752677              0.000000   \n",
      "\n",
      "   n_synapses_diff  \n",
      "0                2  \n",
      "1                0  \n"
     ]
    },
    {
     "data": {
      "image/png": "[encoded data removed]",
      "text/plain": [
       "<Figure size 432x288 with 1 Axes>"
      ]
     },
     "metadata": {},
     "output_type": "display_data"
    },
    {
     "name": "stdout",
     "output_type": "stream",
     "text": [
      "Performing global features query\n",
      "Performing Edge Query\n",
      "After edge filter, # of rows = 1\n",
      "branch_match_query = :\n",
      "(((width_diff < 75) or (width_diff_percentage < 0.6)) and (sk_angle < 65))and ((synapse_density_diff<0.00015) or (n_synapses_diff < 6))\n",
      "Performing Edge Query\n",
      "After edge filter, # of rows = 1\n",
      "\n",
      "--- Before Local Query ---\n",
      "    u   v  sk_angle  width_diff  width_diff_percentage  synapse_density_diff  \\\n",
      "0  10  51    116.06    2.093481               0.033034              0.000067   \n",
      "1  10  52     13.52    4.638695               0.068204              0.000009   \n",
      "2  51  52     73.25    6.732176               0.098986              0.000076   \n",
      "\n",
      "   n_synapses_diff  \n",
      "0                0  \n",
      "1                1  \n",
      "2                1  \n",
      "Afer Local query: \n",
      "    u   v  sk_angle  width_diff  width_diff_percentage  synapse_density_diff  \\\n",
      "0  10  52     13.52    4.638695               0.068204              0.000009   \n",
      "\n",
      "   n_synapses_diff  \n",
      "0                1  \n"
     ]
    },
    {
     "data": {
      "image/png": "[encoded data removed]",
      "text/plain": [
       "<Figure size 432x288 with 1 Axes>"
      ]
     },
     "metadata": {},
     "output_type": "display_data"
    },
    {
     "name": "stdout",
     "output_type": "stream",
     "text": [
      "Performing global features query\n",
      "Performing Edge Query\n",
      "After edge filter, # of rows = 1\n",
      "for upstream node 52, winning_node = 10, error_branches = [51]\n",
      "branch_match_query = :\n",
      "(((width_diff < 75) or (width_diff_percentage < 0.6)) and (sk_angle < 65))and ((synapse_density_diff<0.00015) or (n_synapses_diff < 6))\n",
      "Performing Edge Query\n",
      "After edge filter, # of rows = 2\n",
      "\n",
      "--- Before Local Query ---\n",
      "    u   v  sk_angle  width_diff  width_diff_percentage  synapse_density_diff  \\\n",
      "0  74  75    125.66    1.066107               0.015437              0.000408   \n",
      "1  74  59     53.27   10.782057               0.185006              0.000408   \n",
      "2  75  59      9.33    9.715950               0.166713              0.000000   \n",
      "\n",
      "   n_synapses_diff  \n",
      "0                1  \n",
      "1                1  \n",
      "2                0  \n",
      "Afer Local query: \n",
      "    u   v  sk_angle  width_diff  width_diff_percentage  synapse_density_diff  \\\n",
      "0  74  59     53.27   10.782057               0.185006              0.000408   \n",
      "1  75  59      9.33    9.715950               0.166713              0.000000   \n",
      "\n",
      "   n_synapses_diff  \n",
      "0                1  \n",
      "1                0  \n"
     ]
    },
    {
     "data": {
      "image/png": "[encoded data removed]",
      "text/plain": [
       "<Figure size 432x288 with 1 Axes>"
      ]
     },
     "metadata": {},
     "output_type": "display_data"
    },
    {
     "name": "stdout",
     "output_type": "stream",
     "text": [
      "Performing global features query\n",
      "Performing Edge Query\n",
      "After edge filter, # of rows = 1\n",
      "for upstream node 59, winning_node = 75, error_branches = [74]\n",
      "limb_branch_dict_to_cancel = {'L4': array([ 8, 55, 16, 31, 51, 74])}\n",
      "\n",
      "\n",
      "Branches Requested to Remove (WITH disconnect effect)\n",
      "Recieved another instance of Neuron class in init -- so just copying data\n",
      "\n",
      " Working on visualization type: mesh\n",
      "No Synapses to plot\n"
     ]
    },
    {
     "data": {
      "application/vnd.jupyter.widget-view+json": {
       "model_id": "85b129a6aa7d4c3eb1f91f5ed06592ad",
       "version_major": 2,
       "version_minor": 0
      },
      "text/plain": [
       "VBox(children=(Figure(camera=PerspectiveCamera(fov=46.0, position=(0.0, 0.0, 2.0), projectionMatrix=(1.0, 0.0,…"
      ]
     },
     "metadata": {},
     "output_type": "display_data"
    },
    {
     "name": "stdout",
     "output_type": "stream",
     "text": [
      "Recieved another instance of Neuron class in init -- so just copying data\n",
      "\n",
      "---Step 1: Computing synapse_dict---\n",
      "# of beginning_direct_connections = 3779 \n",
      "# of presyn: 416\n",
      "# of postsyn: 3363\n",
      "\n",
      "---Step 2: Computing mesh_label_dict---\n",
      "-- Working on presyn--\n",
      "Using original_mesh_method\n",
      "# of distance_errored_syn_idx = 0\n",
      "# of mesh_errored_syn_idx = 110\n",
      "# of valid_syn_idx = 306\n",
      "-- Working on postsyn--\n",
      "Using original_mesh_method\n",
      "# of distance_errored_syn_idx = 0\n",
      "# of mesh_errored_syn_idx = 24\n",
      "# of valid_syn_idx = 3339\n",
      "\n",
      "---Step 4: add_error_synapses_to_neuron_obj---\n",
      "Working on error_type = distance_errored\n",
      "Working on error_type = mesh_errored\n",
      "Total time for valid synapse objects = 0.004208564758300781\n",
      "\n",
      "--- Limb L0 soma calculation time = 1.11\n",
      "\n",
      "--- Limb L1 soma calculation time = 0.654\n",
      "\n",
      "--- Limb L2 soma calculation time = 0.299\n",
      "\n",
      "--- Limb L3 soma calculation time = 0.286\n",
      "\n",
      "--- Limb L4 soma calculation time = 0.863\n",
      "\n",
      "--- Limb L5 soma calculation time = 0.44\n",
      "\n",
      "--- Limb L6 soma calculation time = 0.463\n",
      "Putting Soma Placeholders\n",
      "\n",
      "--- Soma 0 soma calculation time = 0.0\n",
      "Putting Error Placeholders\n",
      "\n",
      "--- Error soma calculation time = 0.069\n",
      "Total soma distance calculation time = 4.1855692863464355\n",
      "Time for 3359 synapse entries = 0.03355145454406738\n",
      "Time for 420 synapse entries = 0.005276203155517578\n",
      "# of synapses in query = 286\n",
      "# of total_error_synapse_ids = 420\n",
      "set_presyns_on_dendrite_as_errors to default of True\n",
      "presyn_error = [140708466 146763515 146763858 147217654 147339728 153587652 153697515\n",
      " 153697563 154381167 154381343 154382252 168262449 168262557 158003827\n",
      " 158003733 161926898 157835635 160547728 161853084 158004757 157805124\n",
      " 157836075 157836789 157837085 159902095 160230076 158004948 158004955\n",
      " 158005238 161930004 168973439 158005422 158005445 158005651 158005882\n",
      " 160258948 160258973 166305619 161907003 161907017 166027225 166027329\n",
      " 166027810 165386454 165386798 165386963 165387607 165387876 165387929\n",
      " 165387945 165388782 165517460 168301702 168699644 168699855 168700381\n",
      " 168701130 169319287 169319336 169319546 166861070 166863165 168819233\n",
      " 162445052 166862437 166863162 166863175 169026557 169026606 166029673\n",
      " 168744037 168746026 166306244 169028083 169029098 166306700 166307403\n",
      " 169031155 166029945 166308209 166308318 166308324 168389472 168389501\n",
      " 168392101 169320560 169320665 169321787 169321808 169321811 169321853\n",
      " 169321862 171848875 171848905 171849035 171849103 171850353 171850388\n",
      " 171850416 171850944 171850953 166308097 168974549 168974818 168975713\n",
      " 174514261 173558963 173559670 173559751 173559780 173560473 173561258\n",
      " 168547443 168547455 173557412 173557556 173558136 166865898 173557327\n",
      " 173557705 176064419 168982105 175588721 175589288 166865846 166865939\n",
      " 166865985 176049396 176049717 176050478 176050492 181836267 181838438\n",
      " 181882104 186532965 186533083 166308669 166308673 166308763 171604973\n",
      " 171605403 171605464 171605580 171606274 171623078 171623130 171623300\n",
      " 171623386 171623667 171623699 171767883 171890946 171890948 171890977\n",
      " 171891071 171891093 173557668 173557756 175265867 175265964 175282615\n",
      " 175283837 175283845 175285213 175285689 175285799 175287407 175287540\n",
      " 175287634 175325703 175486463 175486512 175647404 182213112 182292997\n",
      " 182297292 182297704 173557294 173557541 173557581 173557786 173557833\n",
      " 173557838 173558446 181435801 189454595 171843221 171851502 171851845\n",
      " 171852158 173398162 173561343 173561452 176195300 220128504 192932223\n",
      " 195832402 132320128 132320183 132320280 159575843 188983966 178865043\n",
      " 202965414 208812172 126944739 147634756 124969175 126786009 126786016\n",
      " 133808667 133854633 133854677 133855843 141134220 141135767 141135933\n",
      " 133870410 136242015 136242348 136242352 136242367 136261632 136357520\n",
      " 136396348 136396531 139060661 139061951 139062163 139062250 141135915\n",
      " 141135973 141137470 145448127 141136824 139885439 146786478 146786683\n",
      " 146786751 149105481 149108511 153390607 153390771 153392061 153392080\n",
      " 157884778 162040999 167794111 167796920 146120511 146121529 145448972\n",
      " 146787628 148935463 148935534 148935550 149107754 149108425 153166565\n",
      " 154765672 154765918 154951422 154951747 154951872 154952175 154952502\n",
      " 154954496 166661654 169165871 158248085 158248348 158248665 166099285\n",
      " 174560867 158021988 158022038 158695795 158695892 158695893 158695819\n",
      " 158695828 158696831 162360159 162286482 166861253 168277656]\n",
      "Synapsse Results:\n",
      "Total Number of Synapses = 3779\n",
      "n_valid_syn_ids_presyn = 20\n",
      "n_errored_syn_ids_presyn = 396\n",
      "n_valid_syn_ids_postsyn = 3339\n",
      "n_errored_syn_ids_postsyn = 24\n",
      "Synapsse Results:\n",
      "Total Number of Synapses = 3779\n",
      "n_valid_syn_ids_presyn = 20\n",
      "n_errored_syn_ids_presyn = 396\n",
      "n_valid_syn_ids_postsyn = 3339\n",
      "n_errored_syn_ids_postsyn = 24\n"
     ]
    }
   ],
   "source": [
    "import validation_utils as vu\n",
    "(filt_neuron_2,\n",
    "             return_synapse_df_revised,\n",
    "             return_synapse_df_errors,\n",
    "            return_validation_df_revised,\n",
    "            return_validation_df_extension) =  vu.filtered_neuron_score(neuron_obj = filt_neuron,   \n",
    "                                #filter_list = pru.v6_exc_filters(),\n",
    "                                filter_list = [pru.exc_low_degree_branching_filter_v6],\n",
    "                                plot_limb_branch_filter_with_disconnect_effect = True,\n",
    "                                verbose = False,\n",
    "                                plot_score=False,\n",
    "                                nucleus_id = 301095,\n",
    "                                return_synapse_df_errors=True,\n",
    "                                return_validation_df_extension = True,                                        \n",
    "                                split_index=0)"
   ]
  },
  {
   "cell_type": "markdown",
   "metadata": {},
   "source": [
    "# Low Branch Function"
   ]
  },
  {
   "cell_type": "code",
   "execution_count": null,
   "metadata": {},
   "outputs": [],
   "source": [
    "nviz.visualize_neuron_specific_limb(filt_neuron,\n",
    "                                   filt_neuron.axon_limb_name)"
   ]
  },
  {
   "cell_type": "code",
   "execution_count": null,
   "metadata": {},
   "outputs": [],
   "source": [
    "import neuron_searching as ns\n",
    "ns.query_neuron(filt_neuron,\n",
    "               functions_list=[ns.n_synapses,ns.n_downstream_nodes],\n",
    "            query=\"(n_synapses > 0) and (n_downstream_nodes == 1)\")"
   ]
  },
  {
   "cell_type": "code",
   "execution_count": null,
   "metadata": {},
   "outputs": [],
   "source": [
    "import axon_utils as au\n",
    "axon_spines_limb_branch_dict = au.axon_spines_limb_branch_dict(filt_neuron)\n",
    "short_thick_endnodes_to_remove_limb_branch = au.short_thick_branches_limb_branch_dict(filt_neuron)\n",
    "ax_name = filt_neuron.axon_limb_name       \n",
    "axon_spines = axon_spines_limb_branch_dict[ax_name]\n",
    "short_thick_endnodes = short_thick_endnodes_to_remove_limb_branch[ax_name]\n",
    "filt_neuron[ax_name].axon_spines = axon_spines\n",
    "filt_neuron[ax_name].short_thick_endnodes = short_thick_endnodes  \n",
    "\n"
   ]
  },
  {
   "cell_type": "code",
   "execution_count": null,
   "metadata": {},
   "outputs": [],
   "source": [
    "print(f\"nodes_to_exclude = {filt_neuron[ax_name].nodes_to_exclude}\")"
   ]
  },
  {
   "cell_type": "code",
   "execution_count": null,
   "metadata": {},
   "outputs": [],
   "source": [
    "nst.skeletal_length_upstream_total?"
   ]
  },
  {
   "cell_type": "code",
   "execution_count": null,
   "metadata": {},
   "outputs": [],
   "source": [
    "import error_detection as ed\n",
    "upstream_branch = 65\n",
    "#upstream_branch = 33\n",
    "upstream_branch = 70\n",
    "upstream_branch = 81\n",
    "\n",
    "limb_obj = filt_neuron[ax_name]\n",
    "G = ed.low_degree_upstream_match(\n",
    "    limb_obj=limb_obj,\n",
    "    branch_idx=upstream_branch,\n",
    "    filters_to_run = None, # provides a list of all the checks you want to run\n",
    "    \n",
    "    #--- Phase A: arguments for determining downstream nodes ------\n",
    "    skip_distance = 0,#3000,\n",
    "    min_upstream_skeletal_distance = 2000,\n",
    "    remove_short_thick_endnodes = True,\n",
    "    short_thick_endnodes_to_remove = filt_neuron[ax_name].short_thick_endnodes,\n",
    "    axon_spines = filt_neuron[ax_name].axon_spines,\n",
    "    \n",
    "    # helps determine the max degrees to resolve\n",
    "    width_func = au.axon_width,\n",
    "    max_degree_to_resolve = 3,\n",
    "    #max_width_to_resolve = None,\n",
    "    \n",
    "    # parameter checking to see if high degree resolve can be used\n",
    "    width_max = 170,\n",
    "    axon_dependent = True,\n",
    "    \n",
    "    plot_starting_branches = True,\n",
    "    plot_extracted_skeletons = False,\n",
    "    \n",
    "    plot_G_local_edge = True,\n",
    "    verbose = True,\n",
    "    )"
   ]
  },
  {
   "cell_type": "code",
   "execution_count": null,
   "metadata": {},
   "outputs": [],
   "source": [
    "import networkx_utils as xu\n",
    "xu.edge_df(G,with_node_attributes=True)"
   ]
  },
  {
   "cell_type": "code",
   "execution_count": null,
   "metadata": {},
   "outputs": [],
   "source": []
  },
  {
   "cell_type": "code",
   "execution_count": null,
   "metadata": {},
   "outputs": [],
   "source": []
  },
  {
   "cell_type": "code",
   "execution_count": null,
   "metadata": {},
   "outputs": [],
   "source": []
  },
  {
   "cell_type": "markdown",
   "metadata": {},
   "source": [
    "# A) Axon Filter"
   ]
  },
  {
   "cell_type": "code",
   "execution_count": null,
   "metadata": {},
   "outputs": [],
   "source": [
    "import graph_filters as gf\n",
    "gf.axon_webbing_filter(G,\n",
    "                           limb_obj,\n",
    "                           verbose = True,\n",
    "                       parent_width_maximum=110,\n",
    "                           child_angle_max=150,\n",
    "                           child_width_maximum=100,\n",
    "                       child_skeletal_threshold = 2000,\n",
    "                              web_size_threshold = 500)"
   ]
  },
  {
   "cell_type": "markdown",
   "metadata": {},
   "source": [
    "# B) Axon Spines at Intersection"
   ]
  },
  {
   "cell_type": "code",
   "execution_count": null,
   "metadata": {},
   "outputs": [],
   "source": []
  },
  {
   "cell_type": "code",
   "execution_count": null,
   "metadata": {},
   "outputs": [],
   "source": [
    "gf.axon_spine_at_intersection_filter(G,\n",
    "                                      limb_obj = filt_neuron.axon_limb,\n",
    "                                    attempt_upstream_pair_singular = True,\n",
    "                                    verbose = True,\n",
    "                                   **dict())"
   ]
  },
  {
   "cell_type": "markdown",
   "metadata": {},
   "source": [
    "# C) Distance of Closest Synapse"
   ]
  },
  {
   "cell_type": "code",
   "execution_count": null,
   "metadata": {},
   "outputs": [],
   "source": [
    "gf.min_synapse_dist_to_branch_point_filter(G,\n",
    "                                       limb_obj,\n",
    "                                       verbose=True)"
   ]
  },
  {
   "cell_type": "markdown",
   "metadata": {},
   "source": [
    "# D) Fork Divergence Filter"
   ]
  },
  {
   "cell_type": "code",
   "execution_count": null,
   "metadata": {},
   "outputs": [],
   "source": [
    "divergence_threshold_mean = 160\n",
    "downstream_width_max = 90\n",
    "upstream_width_max = 90"
   ]
  },
  {
   "cell_type": "code",
   "execution_count": null,
   "metadata": {},
   "outputs": [],
   "source": [
    "gf.fork_divergence_filter(G,\n",
    "                      limb_obj,\n",
    "                      #arguments for the motif search\n",
    "                    downstream_width_max = 100,\n",
    "                    upstream_width_max = 110,\n",
    "                      total_downstream_skeleton_length_threshold = 4000,\n",
    "                individual_branch_length_threshold = 3000,\n",
    "\n",
    "                      #for the fork divergence\n",
    "\n",
    "\n",
    "                      divergence_threshold_mean = 160,\n",
    "\n",
    "                       attempt_upstream_pair_singular = True,\n",
    "                    verbose = True,)"
   ]
  },
  {
   "cell_type": "code",
   "execution_count": null,
   "metadata": {},
   "outputs": [],
   "source": []
  },
  {
   "cell_type": "code",
   "execution_count": null,
   "metadata": {},
   "outputs": [],
   "source": []
  },
  {
   "cell_type": "markdown",
   "metadata": {},
   "source": [
    "# E) Doubling Back"
   ]
  },
  {
   "cell_type": "code",
   "execution_count": null,
   "metadata": {},
   "outputs": [],
   "source": [
    "#for axon thin threshold\n",
    "double_back_threshold=135\n",
    "au.axon_thick_threshold \n",
    "# comparison_distance = 1000\n",
    "# offset = 0\n",
    "branch_skeletal_length_min = 4000\n",
    "upstream_skeletal_length_min = 5000\n",
    "\n",
    "\n",
    "# thick threshold\n",
    "axon_width_threshold = au.axon_thick_threshold\n",
    "axon_width_threshold_max = au.axon_ais_threshold\n",
    "double_back_threshold=120\n",
    "branch_skeletal_length_min = 4000"
   ]
  },
  {
   "cell_type": "code",
   "execution_count": null,
   "metadata": {},
   "outputs": [],
   "source": [
    "gf.axon_double_back_filter(G,limb_obj,\n",
    "                          verbose = True)"
   ]
  },
  {
   "cell_type": "markdown",
   "metadata": {},
   "source": [
    "# F) Thick T Crossing"
   ]
  },
  {
   "cell_type": "code",
   "execution_count": null,
   "metadata": {},
   "outputs": [],
   "source": [
    "gf.thick_t_filter(G,limb_obj,verbose = True,\n",
    "               parent_width_maximum = 110,\n",
    "              child_angle_max=140,\n",
    "              )"
   ]
  },
  {
   "cell_type": "code",
   "execution_count": null,
   "metadata": {},
   "outputs": [],
   "source": []
  },
  {
   "cell_type": "code",
   "execution_count": null,
   "metadata": {},
   "outputs": [],
   "source": []
  },
  {
   "cell_type": "code",
   "execution_count": null,
   "metadata": {},
   "outputs": [],
   "source": []
  }
 ],
 "metadata": {
  "kernelspec": {
   "display_name": "Python 3",
   "language": "python",
   "name": "python3"
  },
  "language_info": {
   "codemirror_mode": {
    "name": "ipython",
    "version": 3
   },
   "file_extension": ".py",
   "mimetype": "text/x-python",
   "name": "python",
   "nbconvert_exporter": "python",
   "pygments_lexer": "ipython3",
   "version": "3.6.9"
  }
 },
 "nbformat": 4,
 "nbformat_minor": 4
}
