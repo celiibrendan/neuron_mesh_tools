{
 "cells": [
  {
   "cell_type": "code",
   "execution_count": null,
   "metadata": {},
   "outputs": [],
   "source": [
    "\"\"\"\n",
    "Purpose: To check the errors on the validation test set\n",
    "to get ideas on how to make validation score go up\n",
    "\n",
    "\"\"\""
   ]
  },
  {
   "cell_type": "code",
   "execution_count": 1,
   "metadata": {},
   "outputs": [],
   "source": [
    "%load_ext autoreload\n",
    "%autoreload 2"
   ]
  },
  {
   "cell_type": "code",
   "execution_count": 2,
   "metadata": {},
   "outputs": [],
   "source": [
    "from os import sys\n",
    "sys.path.append(\"/meshAfterParty/\")\n",
    "sys.path.append(\"/meshAfterParty/meshAfterParty/\")"
   ]
  },
  {
   "cell_type": "code",
   "execution_count": 3,
   "metadata": {},
   "outputs": [
    {
     "name": "stderr",
     "output_type": "stream",
     "text": [
      "INFO - 2021-04-07 03:05:09,721 - settings - Setting database.host to at-database.ad.bcm.edu\n",
      "INFO - 2021-04-07 03:05:09,724 - settings - Setting database.user to celiib\n",
      "INFO - 2021-04-07 03:05:09,725 - settings - Setting database.password to newceliipass\n",
      "INFO - 2021-04-07 03:05:09,754 - settings - Setting stores to {'minnie65': {'protocol': 'file', 'location': '/mnt/dj-stor01/platinum/minnie65', 'stage': '/mnt/dj-stor01/platinum/minnie65'}, 'meshes': {'protocol': 'file', 'location': '/mnt/dj-stor01/platinum/minnie65/02/meshes', 'stage': '/mnt/dj-stor01/platinum/minnie65/02/meshes'}, 'decimated_meshes': {'protocol': 'file', 'location': '/mnt/dj-stor01/platinum/minnie65/02/decimated_meshes', 'stage': '/mnt/dj-stor01/platinum/minnie65/02/decimated_meshes'}, 'skeletons': {'protocol': 'file', 'location': '/mnt/dj-stor01/platinum/minnie65/02/skeletons'}}\n",
      "INFO - 2021-04-07 03:05:09,756 - settings - Setting enable_python_native_blobs to True\n",
      "INFO - 2021-04-07 03:05:09,771 - connection - Connected celiib@at-database.ad.bcm.edu:3306\n"
     ]
    },
    {
     "name": "stdout",
     "output_type": "stream",
     "text": [
      "Connecting celiib@at-database.ad.bcm.edu:3306\n"
     ]
    },
    {
     "name": "stderr",
     "output_type": "stream",
     "text": [
      "INFO - 2021-04-07 03:05:10,186 - settings - Setting enable_python_native_blobs to True\n",
      "INFO - 2021-04-07 03:05:10,191 - settings - Setting database.host to at-database.ad.bcm.edu\n",
      "INFO - 2021-04-07 03:05:10,192 - settings - Setting database.user to celiib\n",
      "INFO - 2021-04-07 03:05:10,193 - settings - Setting database.password to newceliipass\n",
      "INFO - 2021-04-07 03:05:10,194 - settings - Setting database.host to at-database.ad.bcm.edu\n",
      "INFO - 2021-04-07 03:05:10,195 - settings - Setting database.user to celiib\n",
      "INFO - 2021-04-07 03:05:10,195 - settings - Setting database.password to newceliipass\n",
      "INFO - 2021-04-07 03:05:10,198 - settings - Setting enable_python_native_blobs to True\n",
      "INFO - 2021-04-07 03:05:10,638 - settings - Setting enable_python_native_blobs to True\n"
     ]
    }
   ],
   "source": [
    "from pathlib import Path\n",
    "import numpy as np\n",
    "import neuron_visualizations as nviz\n",
    "import datajoint as dj\n",
    "\n",
    "import proofreading_utils as pru\n",
    "import classification_utils as clu\n",
    "\n",
    "import neuron_utils as nru\n",
    "import validation_utils as vu\n",
    "import pandas as pd\n",
    "import datajoint_utils as du"
   ]
  },
  {
   "cell_type": "markdown",
   "metadata": {},
   "source": [
    "# Computing the validation statistics (to pick the ones to look at)"
   ]
  },
  {
   "cell_type": "code",
   "execution_count": 4,
   "metadata": {
    "scrolled": true
   },
   "outputs": [
    {
     "name": "stdout",
     "output_type": "stream",
     "text": [
      "Synapsse Results:\n",
      "Total Number of Synapses = 3990\n",
      "n_valid_syn_ids_presyn = 5\n",
      "n_errored_syn_ids_presyn = 29\n",
      "n_valid_syn_ids_postsyn = 3891\n",
      "n_errored_syn_ids_postsyn = 65\n",
      "Synapsse Results:\n",
      "Total Number of Synapses = 4434\n",
      "n_valid_syn_ids_presyn = 39\n",
      "n_errored_syn_ids_presyn = 482\n",
      "n_valid_syn_ids_postsyn = 3898\n",
      "n_errored_syn_ids_postsyn = 15\n",
      "Synapsse Results:\n",
      "Total Number of Synapses = 923\n",
      "n_valid_syn_ids_presyn = 13\n",
      "n_errored_syn_ids_presyn = 153\n",
      "n_valid_syn_ids_postsyn = 753\n",
      "n_errored_syn_ids_postsyn = 4\n",
      "Synapsse Results:\n",
      "Total Number of Synapses = 4361\n",
      "n_valid_syn_ids_presyn = 86\n",
      "n_errored_syn_ids_presyn = 621\n",
      "n_valid_syn_ids_postsyn = 3649\n",
      "n_errored_syn_ids_postsyn = 5\n",
      "Synapsse Results:\n",
      "Total Number of Synapses = 3452\n",
      "n_valid_syn_ids_presyn = 76\n",
      "n_errored_syn_ids_presyn = 345\n",
      "n_valid_syn_ids_postsyn = 3007\n",
      "n_errored_syn_ids_postsyn = 24\n",
      "Synapsse Results:\n",
      "Total Number of Synapses = 3190\n",
      "n_valid_syn_ids_presyn = 18\n",
      "n_errored_syn_ids_presyn = 89\n",
      "n_valid_syn_ids_postsyn = 3081\n",
      "n_errored_syn_ids_postsyn = 2\n",
      "Synapsse Results:\n",
      "Total Number of Synapses = 3772\n",
      "n_valid_syn_ids_presyn = 40\n",
      "n_errored_syn_ids_presyn = 373\n",
      "n_valid_syn_ids_postsyn = 3319\n",
      "n_errored_syn_ids_postsyn = 40\n",
      "Synapsse Results:\n",
      "Total Number of Synapses = 3611\n",
      "n_valid_syn_ids_presyn = 0\n",
      "n_errored_syn_ids_presyn = 277\n",
      "n_valid_syn_ids_postsyn = 3329\n",
      "n_errored_syn_ids_postsyn = 5\n",
      "Synapsse Results:\n",
      "Total Number of Synapses = 3806\n",
      "n_valid_syn_ids_presyn = 24\n",
      "n_errored_syn_ids_presyn = 273\n",
      "n_valid_syn_ids_postsyn = 3352\n",
      "n_errored_syn_ids_postsyn = 157\n",
      "Synapsse Results:\n",
      "Total Number of Synapses = 7152\n",
      "n_valid_syn_ids_presyn = 0\n",
      "n_errored_syn_ids_presyn = 99\n",
      "n_valid_syn_ids_postsyn = 7046\n",
      "n_errored_syn_ids_postsyn = 7\n",
      "Synapsse Results:\n",
      "Total Number of Synapses = 6474\n",
      "n_valid_syn_ids_presyn = 66\n",
      "n_errored_syn_ids_presyn = 385\n",
      "n_valid_syn_ids_postsyn = 6018\n",
      "n_errored_syn_ids_postsyn = 5\n",
      "Synapsse Results:\n",
      "Total Number of Synapses = 4706\n",
      "n_valid_syn_ids_presyn = 6\n",
      "n_errored_syn_ids_presyn = 58\n",
      "n_valid_syn_ids_postsyn = 4632\n",
      "n_errored_syn_ids_postsyn = 10\n",
      "Synapsse Results:\n",
      "Total Number of Synapses = 2462\n",
      "n_valid_syn_ids_presyn = 32\n",
      "n_errored_syn_ids_presyn = 175\n",
      "n_valid_syn_ids_postsyn = 2224\n",
      "n_errored_syn_ids_postsyn = 31\n",
      "Synapsse Results:\n",
      "Total Number of Synapses = 4846\n",
      "n_valid_syn_ids_presyn = 2\n",
      "n_errored_syn_ids_presyn = 25\n",
      "n_valid_syn_ids_postsyn = 4817\n",
      "n_errored_syn_ids_postsyn = 2\n",
      "Synapsse Results:\n",
      "Total Number of Synapses = 3713\n",
      "n_valid_syn_ids_presyn = 61\n",
      "n_errored_syn_ids_presyn = 199\n",
      "n_valid_syn_ids_postsyn = 2662\n",
      "n_errored_syn_ids_postsyn = 791\n",
      "Synapsse Results:\n",
      "Total Number of Synapses = 1159\n",
      "n_valid_syn_ids_presyn = 84\n",
      "n_errored_syn_ids_presyn = 197\n",
      "n_valid_syn_ids_postsyn = 806\n",
      "n_errored_syn_ids_postsyn = 72\n",
      "Synapsse Results:\n",
      "Total Number of Synapses = 4783\n",
      "n_valid_syn_ids_presyn = 7\n",
      "n_errored_syn_ids_presyn = 178\n",
      "n_valid_syn_ids_postsyn = 4551\n",
      "n_errored_syn_ids_postsyn = 47\n",
      "Synapsse Results:\n",
      "Total Number of Synapses = 1760\n",
      "n_valid_syn_ids_presyn = 65\n",
      "n_errored_syn_ids_presyn = 225\n",
      "n_valid_syn_ids_postsyn = 1467\n",
      "n_errored_syn_ids_postsyn = 3\n",
      "Synapsse Results:\n",
      "Total Number of Synapses = 5362\n",
      "n_valid_syn_ids_presyn = 0\n",
      "n_errored_syn_ids_presyn = 108\n",
      "n_valid_syn_ids_postsyn = 5033\n",
      "n_errored_syn_ids_postsyn = 221\n",
      "Synapsse Results:\n",
      "Total Number of Synapses = 4072\n",
      "n_valid_syn_ids_presyn = 54\n",
      "n_errored_syn_ids_presyn = 161\n",
      "n_valid_syn_ids_postsyn = 3746\n",
      "n_errored_syn_ids_postsyn = 111\n",
      "Synapsse Results:\n",
      "Total Number of Synapses = 5846\n",
      "n_valid_syn_ids_presyn = 0\n",
      "n_errored_syn_ids_presyn = 235\n",
      "n_valid_syn_ids_postsyn = 5601\n",
      "n_errored_syn_ids_postsyn = 10\n",
      "Synapsse Results:\n",
      "Total Number of Synapses = 4377\n",
      "n_valid_syn_ids_presyn = 5\n",
      "n_errored_syn_ids_presyn = 196\n",
      "n_valid_syn_ids_postsyn = 4155\n",
      "n_errored_syn_ids_postsyn = 21\n",
      "Synapsse Results:\n",
      "Total Number of Synapses = 6287\n",
      "n_valid_syn_ids_presyn = 0\n",
      "n_errored_syn_ids_presyn = 23\n",
      "n_valid_syn_ids_postsyn = 6262\n",
      "n_errored_syn_ids_postsyn = 2\n",
      "Synapsse Results:\n",
      "Total Number of Synapses = 2875\n",
      "n_valid_syn_ids_presyn = 19\n",
      "n_errored_syn_ids_presyn = 1\n",
      "n_valid_syn_ids_postsyn = 2834\n",
      "n_errored_syn_ids_postsyn = 21\n",
      "Synapsse Results:\n",
      "Total Number of Synapses = 2717\n",
      "n_valid_syn_ids_presyn = 54\n",
      "n_errored_syn_ids_presyn = 29\n",
      "n_valid_syn_ids_postsyn = 2631\n",
      "n_errored_syn_ids_postsyn = 3\n",
      "Synapsse Results:\n",
      "Total Number of Synapses = 3329\n",
      "n_valid_syn_ids_presyn = 0\n",
      "n_errored_syn_ids_presyn = 230\n",
      "n_valid_syn_ids_postsyn = 3021\n",
      "n_errored_syn_ids_postsyn = 78\n",
      "Synapsse Results:\n",
      "Total Number of Synapses = 4803\n",
      "n_valid_syn_ids_presyn = 2\n",
      "n_errored_syn_ids_presyn = 226\n",
      "n_valid_syn_ids_postsyn = 4524\n",
      "n_errored_syn_ids_postsyn = 51\n",
      "Synapsse Results:\n",
      "Total Number of Synapses = 5263\n",
      "n_valid_syn_ids_presyn = 0\n",
      "n_errored_syn_ids_presyn = 89\n",
      "n_valid_syn_ids_postsyn = 5156\n",
      "n_errored_syn_ids_postsyn = 18\n",
      "Synapsse Results:\n",
      "Total Number of Synapses = 2171\n",
      "n_valid_syn_ids_presyn = 2\n",
      "n_errored_syn_ids_presyn = 152\n",
      "n_valid_syn_ids_postsyn = 2012\n",
      "n_errored_syn_ids_postsyn = 5\n",
      "Synapsse Results:\n",
      "Total Number of Synapses = 2978\n",
      "n_valid_syn_ids_presyn = 45\n",
      "n_errored_syn_ids_presyn = 132\n",
      "n_valid_syn_ids_postsyn = 2798\n",
      "n_errored_syn_ids_postsyn = 3\n",
      "Synapsse Results:\n",
      "Total Number of Synapses = 1221\n",
      "n_valid_syn_ids_presyn = 16\n",
      "n_errored_syn_ids_presyn = 72\n",
      "n_valid_syn_ids_postsyn = 1124\n",
      "n_errored_syn_ids_postsyn = 9\n",
      "Synapsse Results:\n",
      "Total Number of Synapses = 7110\n",
      "n_valid_syn_ids_presyn = 41\n",
      "n_errored_syn_ids_presyn = 119\n",
      "n_valid_syn_ids_postsyn = 6602\n",
      "n_errored_syn_ids_postsyn = 348\n",
      "Synapsse Results:\n",
      "Total Number of Synapses = 2757\n",
      "n_valid_syn_ids_presyn = 166\n",
      "n_errored_syn_ids_presyn = 103\n",
      "n_valid_syn_ids_postsyn = 2457\n",
      "n_errored_syn_ids_postsyn = 31\n",
      "Synapsse Results:\n",
      "Total Number of Synapses = 6716\n",
      "n_valid_syn_ids_presyn = 35\n",
      "n_errored_syn_ids_presyn = 41\n",
      "n_valid_syn_ids_postsyn = 6639\n",
      "n_errored_syn_ids_postsyn = 1\n",
      "Synapsse Results:\n",
      "Total Number of Synapses = 3348\n",
      "n_valid_syn_ids_presyn = 124\n",
      "n_errored_syn_ids_presyn = 229\n",
      "n_valid_syn_ids_postsyn = 2991\n",
      "n_errored_syn_ids_postsyn = 4\n",
      "Synapsse Results:\n",
      "Total Number of Synapses = 5879\n",
      "n_valid_syn_ids_presyn = 31\n",
      "n_errored_syn_ids_presyn = 183\n",
      "n_valid_syn_ids_postsyn = 5650\n",
      "n_errored_syn_ids_postsyn = 15\n",
      "Synapsse Results:\n",
      "Total Number of Synapses = 2510\n",
      "n_valid_syn_ids_presyn = 23\n",
      "n_errored_syn_ids_presyn = 23\n",
      "n_valid_syn_ids_postsyn = 2463\n",
      "n_errored_syn_ids_postsyn = 1\n",
      "Synapsse Results:\n",
      "Total Number of Synapses = 792\n",
      "n_valid_syn_ids_presyn = 11\n",
      "n_errored_syn_ids_presyn = 48\n",
      "n_valid_syn_ids_postsyn = 725\n",
      "n_errored_syn_ids_postsyn = 8\n",
      "Synapsse Results:\n",
      "Total Number of Synapses = 7459\n",
      "n_valid_syn_ids_presyn = 176\n",
      "n_errored_syn_ids_presyn = 270\n",
      "n_valid_syn_ids_postsyn = 6896\n",
      "n_errored_syn_ids_postsyn = 117\n",
      "Synapsse Results:\n",
      "Total Number of Synapses = 1990\n",
      "n_valid_syn_ids_presyn = 10\n",
      "n_errored_syn_ids_presyn = 234\n",
      "n_valid_syn_ids_postsyn = 1740\n",
      "n_errored_syn_ids_postsyn = 6\n",
      "Synapsse Results:\n",
      "Total Number of Synapses = 3302\n",
      "n_valid_syn_ids_presyn = 36\n",
      "n_errored_syn_ids_presyn = 123\n",
      "n_valid_syn_ids_postsyn = 3128\n",
      "n_errored_syn_ids_postsyn = 15\n",
      "Synapsse Results:\n",
      "Total Number of Synapses = 2523\n",
      "n_valid_syn_ids_presyn = 58\n",
      "n_errored_syn_ids_presyn = 398\n",
      "n_valid_syn_ids_postsyn = 2010\n",
      "n_errored_syn_ids_postsyn = 57\n",
      "Synapsse Results:\n",
      "Total Number of Synapses = 6246\n",
      "n_valid_syn_ids_presyn = 5\n",
      "n_errored_syn_ids_presyn = 386\n",
      "n_valid_syn_ids_postsyn = 5696\n",
      "n_errored_syn_ids_postsyn = 159\n",
      "Synapsse Results:\n",
      "Total Number of Synapses = 1896\n",
      "n_valid_syn_ids_presyn = 2\n",
      "n_errored_syn_ids_presyn = 121\n",
      "n_valid_syn_ids_postsyn = 1757\n",
      "n_errored_syn_ids_postsyn = 16\n",
      "Synapsse Results:\n",
      "Total Number of Synapses = 10149\n",
      "n_valid_syn_ids_presyn = 291\n",
      "n_errored_syn_ids_presyn = 547\n",
      "n_valid_syn_ids_postsyn = 9293\n",
      "n_errored_syn_ids_postsyn = 18\n",
      "Synapsse Results:\n",
      "Total Number of Synapses = 1708\n",
      "n_valid_syn_ids_presyn = 12\n",
      "n_errored_syn_ids_presyn = 92\n",
      "n_valid_syn_ids_postsyn = 1591\n",
      "n_errored_syn_ids_postsyn = 13\n",
      "Synapsse Results:\n",
      "Total Number of Synapses = 1899\n",
      "n_valid_syn_ids_presyn = 27\n",
      "n_errored_syn_ids_presyn = 107\n",
      "n_valid_syn_ids_postsyn = 1756\n",
      "n_errored_syn_ids_postsyn = 9\n",
      "Synapsse Results:\n",
      "Total Number of Synapses = 8418\n",
      "n_valid_syn_ids_presyn = 52\n",
      "n_errored_syn_ids_presyn = 332\n",
      "n_valid_syn_ids_postsyn = 8018\n",
      "n_errored_syn_ids_postsyn = 16\n",
      "Synapsse Results:\n",
      "Total Number of Synapses = 2080\n",
      "n_valid_syn_ids_presyn = 8\n",
      "n_errored_syn_ids_presyn = 42\n",
      "n_valid_syn_ids_postsyn = 2029\n",
      "n_errored_syn_ids_postsyn = 1\n"
     ]
    },
    {
     "name": "stdout",
     "output_type": "stream",
     "text": [
      "Synapsse Results:\n",
      "Total Number of Synapses = 1645\n",
      "n_valid_syn_ids_presyn = 0\n",
      "n_errored_syn_ids_presyn = 108\n",
      "n_valid_syn_ids_postsyn = 1536\n",
      "n_errored_syn_ids_postsyn = 1\n",
      "Synapsse Results:\n",
      "Total Number of Synapses = 4633\n",
      "n_valid_syn_ids_presyn = 72\n",
      "n_errored_syn_ids_presyn = 219\n",
      "n_valid_syn_ids_postsyn = 4328\n",
      "n_errored_syn_ids_postsyn = 14\n",
      "Synapsse Results:\n",
      "Total Number of Synapses = 2383\n",
      "n_valid_syn_ids_presyn = 0\n",
      "n_errored_syn_ids_presyn = 47\n",
      "n_valid_syn_ids_postsyn = 2334\n",
      "n_errored_syn_ids_postsyn = 2\n",
      "Synapsse Results:\n",
      "Total Number of Synapses = 4015\n",
      "n_valid_syn_ids_presyn = 12\n",
      "n_errored_syn_ids_presyn = 109\n",
      "n_valid_syn_ids_postsyn = 3879\n",
      "n_errored_syn_ids_postsyn = 15\n",
      "Synapsse Results:\n",
      "Total Number of Synapses = 1914\n",
      "n_valid_syn_ids_presyn = 3\n",
      "n_errored_syn_ids_presyn = 212\n",
      "n_valid_syn_ids_postsyn = 1528\n",
      "n_errored_syn_ids_postsyn = 171\n",
      "Synapsse Results:\n",
      "Total Number of Synapses = 10012\n",
      "n_valid_syn_ids_presyn = 8\n",
      "n_errored_syn_ids_presyn = 164\n",
      "n_valid_syn_ids_postsyn = 9825\n",
      "n_errored_syn_ids_postsyn = 15\n"
     ]
    }
   ],
   "source": [
    "segment_ids = du.proofreading_stats_table(validation=True).fetch(\"segment_id\")\n",
    "\n",
    "validation_dfs = [vu.synapse_validation_df_single_neuron(k,\n",
    "                                        remove_presyn_on_dendrite = False,\n",
    "                        count_presyn_on_dendrite_as_correct = True,\n",
    "                                                        include_extension_synapse=False) for k in segment_ids]"
   ]
  },
  {
   "cell_type": "code",
   "execution_count": 47,
   "metadata": {},
   "outputs": [
    {
     "name": "stdout",
     "output_type": "stream",
     "text": [
      "Segment_id = 864691136333790899\n"
     ]
    },
    {
     "data": {
      "image/png": "[encoded data removed]",
      "text/plain": [
       "<Figure size 700x400 with 2 Axes>"
      ]
     },
     "metadata": {},
     "output_type": "display_data"
    }
   ],
   "source": [
    "curr_idx = 19\n",
    "#curr_idx = 20\n",
    "segment_id = segment_ids[curr_idx]\n",
    "proofread_segment_id = segment_id\n",
    "print(f\"Segment_id = {segment_id}\")\n",
    "curr_validation_df = validation_dfs[curr_idx]\n",
    "vu.synapse_validation_df_to_score_plot(curr_validation_df)"
   ]
  },
  {
   "cell_type": "markdown",
   "metadata": {},
   "source": [
    "# Picking the neuron to visualize"
   ]
  },
  {
   "cell_type": "code",
   "execution_count": 50,
   "metadata": {},
   "outputs": [
    {
     "name": "stdout",
     "output_type": "stream",
     "text": [
      "Working on Neuron: 864691136333790899\n",
      "\n",
      "\n",
      "Synapse Category Results, synapse_type = presyn\n",
      "# of TP = 50\n",
      "# of TN = 135\n",
      "# of FP = 4\n",
      "# of FN = 26\n",
      "No axon skeleton attribute stored in database table\n"
     ]
    },
    {
     "data": {
      "application/vnd.jupyter.widget-view+json": {
       "model_id": "8447b6a07bad4fb9b8a0395c43471af4",
       "version_major": 2,
       "version_minor": 0
      },
      "text/plain": [
       "VBox(children=(Figure(camera=PerspectiveCamera(fov=46.0, position=(0.0, 0.0, 2.0), projectionMatrix=(1.0, 0.0,…"
      ]
     },
     "metadata": {},
     "output_type": "display_data"
    },
    {
     "name": "stdout",
     "output_type": "stream",
     "text": [
      "TP:yellow\n",
      "TN:aqua\n",
      "FP:black\n",
      "FN:orange\n"
     ]
    }
   ],
   "source": [
    "du.plot_proofread_validation_neuron(\n",
    "    segment_id = segment_id,\n",
    "    validation_df=curr_validation_df,\n",
    "    verbose = True,\n",
    "    synapse_type = \"presyn\",\n",
    "    synapse_scatter_size = 0.15,\n",
    ")"
   ]
  },
  {
   "cell_type": "markdown",
   "metadata": {},
   "source": [
    "# Checking the neuron proofreading"
   ]
  },
  {
   "cell_type": "code",
   "execution_count": 11,
   "metadata": {},
   "outputs": [
    {
     "name": "stdout",
     "output_type": "stream",
     "text": [
      "segment_id = 864691136008425132, fom proofread_segment_id = 864691136008425132\n"
     ]
    }
   ],
   "source": [
    "segment_id = vu.validation_df_to_old_segment_id(curr_validation_df)\n",
    "print(f\"segment_id = {segment_id}, fom proofread_segment_id = {proofread_segment_id}\")"
   ]
  },
  {
   "cell_type": "code",
   "execution_count": 12,
   "metadata": {},
   "outputs": [
    {
     "name": "stdout",
     "output_type": "stream",
     "text": [
      "Decompressing Neuron in minimal output mode...please wait\n",
      "Pulled from Table Decomposition so setting split_index = 0\n",
      "Dont need spine recalculation\n",
      "Number of Neurons found = 1\n"
     ]
    }
   ],
   "source": [
    "neuron_objs,neuron_split_idxs = du.decomposition_with_spine_recalculation(segment_id)"
   ]
  },
  {
   "cell_type": "code",
   "execution_count": 13,
   "metadata": {},
   "outputs": [
    {
     "data": {
      "text/plain": [
       "864691136008425132"
      ]
     },
     "execution_count": 13,
     "metadata": {},
     "output_type": "execute_result"
    }
   ],
   "source": [
    "neuron_obj = neuron_objs[0]\n",
    "neuron_obj.segment_id"
   ]
  },
  {
   "cell_type": "code",
   "execution_count": 14,
   "metadata": {},
   "outputs": [
    {
     "name": "stdout",
     "output_type": "stream",
     "text": [
      "\n",
      "Part 1: Axon like branchese \n",
      "{'L0': array([  1,   2,   3,   4,   5,   6,   7,   8,   9,  10,  11,  12,  13,\n",
      "        14,  15,  16,  17,  20,  21,  22,  23,  24,  25,  26,  27,  28,\n",
      "        29,  30,  31,  32,  33,  34,  35,  36,  38,  39,  40,  41,  42,\n",
      "        43,  44,  45,  46,  47,  48,  49,  50,  51,  52,  53,  54,  55,\n",
      "        56,  57,  58,  60,  61,  62,  66,  67,  68,  69,  70,  71,  72,\n",
      "        73,  74,  75,  76,  77,  78,  79,  80,  81,  82,  83,  84,  85,\n",
      "        87,  89,  90,  91,  92,  93,  94,  95,  96,  97,  98,  99, 100,\n",
      "       101, 102, 103, 104, 105, 106, 107, 108, 109, 110, 111, 112, 113,\n",
      "       114, 115, 116, 118, 119, 120, 121, 122, 123, 124, 125, 126, 127]), 'L4': array([2, 3, 6, 9]), 'L6': array([3])}\n",
      "Limb L0 soma angle: 142.3 \n",
      "Limb L1 soma angle: 4.12 \n",
      "Limb L2 soma angle: 108.55 \n",
      "Limb L3 soma angle: 105.42 \n",
      "Limb L4 soma angle: 107.92 \n",
      "Limb L5 soma angle: 111.81 \n",
      "Limb L6 soma angle: 100.1 \n",
      "Limb L7 soma angle: 79.88 \n",
      "Limb L8 soma angle: 49.47 \n",
      "\n",
      "Part 2: possible_axon_limbs = [0, 2, 3, 4, 5, 6, 7]\n",
      "\n",
      "Phase 2: Working on Limb L0\n",
      "nodes_to_eliminate = []\n",
      "\n",
      "Phase 2: Working on Limb L2\n",
      "nodes_to_eliminate = [4]\n",
      "\n",
      "Phase 2: Working on Limb L3\n",
      "nodes_to_eliminate = [1]\n",
      "\n",
      "Phase 2: Working on Limb L4\n",
      "nodes_to_eliminate = [11]\n",
      "\n",
      "Phase 2: Working on Limb L5\n",
      "nodes_to_eliminate = [2]\n",
      "\n",
      "Phase 2: Working on Limb L6\n",
      "nodes_to_eliminate = [0]\n",
      "\n",
      "Phase 2: Working on Limb L7\n",
      "nodes_to_eliminate = []\n",
      "\n",
      "----Working on Limb L0-----\n",
      "No nodes were eliminated so don't need to add back any candidates\n",
      "\n",
      "----Working on Limb L2-----\n",
      "No endpoints were eliminated so don't need to add back any candidates\n",
      "\n",
      "----Working on Limb L3-----\n",
      "No endpoints were eliminated so don't need to add back any candidates\n",
      "\n",
      "----Working on Limb L4-----\n",
      "No endpoints were eliminated so don't need to add back any candidates\n",
      "\n",
      "----Working on Limb L5-----\n",
      "No endpoints were eliminated so don't need to add back any candidates\n",
      "\n",
      "----Working on Limb L6-----\n",
      "No endpoints were eliminated so don't need to add back any candidates\n",
      "\n",
      "----Working on Limb L7-----\n",
      "No nodes were eliminated so don't need to add back any candidates\n",
      "Final Candidates\n",
      "\n",
      "Limb 0\n",
      "Candidate 0 (cyan): array([  0,   1,   2,   3,   4,   5,   6,   7,   8,   9,  10,  11,  12,\n",
      "        13,  14,  15,  16,  17,  18,  19,  20,  21,  22,  23,  24,  25,\n",
      "        26,  27,  28,  29,  30,  31,  32,  33,  34,  35,  36,  37,  38,\n",
      "        39,  40,  41,  42,  43,  44,  45,  46,  47,  48,  49,  50,  51,\n",
      "        52,  53,  54,  55,  56,  57,  58,  59,  60,  61,  62,  63,  64,\n",
      "        65,  66,  67,  68,  69,  70,  71,  72,  73,  74,  75,  76,  77,\n",
      "        78,  79,  80,  81,  82,  83,  84,  85,  86,  87,  88,  89,  90,\n",
      "        91,  92,  93,  94,  95,  96,  97,  98,  99, 100, 101, 102, 103,\n",
      "       104, 105, 106, 107, 108, 109, 110, 111, 112, 113, 114, 115, 116,\n",
      "       117, 118, 119, 120, 121, 122, 123, 124, 125, 126, 127])\n",
      "\n",
      "Limb 2\n",
      "Candidate 0 (palegreen): array([0, 1, 2, 3, 5])\n",
      "Candidate 1 (olive): array([ 6,  7,  8,  9, 10])\n",
      "\n",
      "Limb 3\n",
      "Candidate 0 (gold): array([2])\n",
      "Candidate 1 (sandybrown): array([0, 3, 4])\n",
      "\n",
      "Limb 4\n",
      "Candidate 0 (forestgreen): array([0., 1., 2., 3., 6., 7.])\n",
      "Candidate 1 (pink): array([ 4,  5,  8,  9, 10])\n",
      "\n",
      "Limb 5\n",
      "Candidate 0 (green): array([0])\n",
      "Candidate 1 (palegreen): array([1])\n",
      "\n",
      "Limb 6\n",
      "Candidate 0 (cyan): array([1])\n",
      "Candidate 1 (gray): array([2, 3, 4])\n",
      "\n",
      "Limb 7\n",
      "Candidate 0 (blue): array([0, 1, 2])\n",
      "Part 3: axon_subgraph_candidates = {0: [[0, 1, 2, 3, 4, 5, 6, 7, 8, 9, 10, 11, 12, 13, 14, 15, 16, 17, 18, 19, 20, 21, 22, 23, 24, 25, 26, 27, 28, 29, 30, 31, 32, 33, 34, 35, 36, 37, 38, 39, 40, 41, 42, 43, 44, 45, 46, 47, 48, 49, 50, 51, 52, 53, 54, 55, 56, 57, 58, 59, 60, 61, 62, 63, 64, 65, 66, 67, 68, 69, 70, 71, 72, 73, 74, 75, 76, 77, 78, 79, 80, 81, 82, 83, 84, 85, 86, 87, 88, 89, 90, 91, 92, 93, 94, 95, 96, 97, 98, 99, 100, 101, 102, 103, 104, 105, 106, 107, 108, 109, 110, 111, 112, 113, 114, 115, 116, 117, 118, 119, 120, 121, 122, 123, 124, 125, 126, 127]], 2: [[0, 1, 2, 3, 5], [6, 7, 8, 9, 10]], 3: [[2], [0, 3, 4]], 4: [[0, 1, 2.0, 3, 6, 7], [4, 5, 8, 9, 10]], 5: [[0], [1]], 6: [[1], [2, 3, 4]], 7: [[0, 1, 2]]}\n",
      "\n",
      "\n",
      " --- Working on limb 0, candidate # 0\n",
      "117 out of 128 branches are axons\n",
      "Axon percentage = 0.9140625\n",
      "curr_axon_angle_threshold = 95\n",
      "candidate_nodes = [  0   1   2   3   4   5   6   7   8   9  10  11  12  13  14  15  16  17\n",
      "  18  19  20  21  22  23  24  25  26  27  28  29  30  31  32  33  34  35\n",
      "  36  37  38  39  40  41  42  43  44  45  46  47  48  49  50  51  52  53\n",
      "  54  55  56  57  58  59  60  61  62  63  64  65  66  67  68  69  70  71\n",
      "  72  73  74  75  76  77  78  79  80  81  82  83  84  85  86  87  88  89\n",
      "  90  91  92  93  94  95  96  97  98  99 100 101 102 103 104 105 106 107\n",
      " 108 109 110 111 112 113 114 115 116 117 118 119 120 121 122 123 124 125\n",
      " 126 127]\n",
      "non_axon_branches_on_subgraph = [  0  18  19  37  59  63  64  65  86  88 117]\n",
      "endnodes_to_test = [47320]\n",
      "Skeleton paths distances = [24998.5452315]\n",
      "Filtered indexes = [0]\n",
      "len(filtered_skeletons) = 1\n",
      "sk_angles = [149.36517832]\n",
      "candidate_angles,restr_skels = (array([149.36517832]), [array([[[1283972.22146111,  692219.31748615,  769803.23930576],\n",
      "        [1283974.98495225,  692286.25419786,  769877.47209204]],\n",
      "\n",
      "       [[1283974.98495225,  692286.25419786,  769877.47209204],\n",
      "        [1283977.22758425,  692354.01749466,  769950.97791635]],\n",
      "\n",
      "       [[1283977.22758425,  692354.01749466,  769950.97791635],\n",
      "        [1283979.97913762,  692423.30548121,  770023.00500117]],\n",
      "\n",
      "       [[1283979.97913762,  692423.30548121,  770023.00500117],\n",
      "        [1283983.125735  ,  692493.77698958,  770093.8842325 ]],\n",
      "\n",
      "       [[1283983.125735  ,  692493.77698958,  770093.8842325 ],\n",
      "        [1283988.35687436,  692567.09510331,  770161.63351106]],\n",
      "\n",
      "       [[1283988.35687436,  692567.09510331,  770161.63351106],\n",
      "        [1283994.37809076,  692641.45266544,  770228.2128583 ]],\n",
      "\n",
      "       [[1283994.37809076,  692641.45266544,  770228.2128583 ],\n",
      "        [1284004.2947779 ,  692719.87426642,  770289.4640772 ]],\n",
      "\n",
      "       [[1284004.2947779 ,  692719.87426642,  770289.4640772 ],\n",
      "        [1284015.45234769,  692799.43692316,  770348.88933636]],\n",
      "\n",
      "       [[1284015.45234769,  692799.43692316,  770348.88933636],\n",
      "        [1284029.40894108,  692881.57342688,  770404.19583017]],\n",
      "\n",
      "       [[1284029.40894108,  692881.57342688,  770404.19583017],\n",
      "        [1284044.76165055,  692965.0275997 ,  770457.00395543]],\n",
      "\n",
      "       [[1284044.76165055,  692965.0275997 ,  770457.00395543],\n",
      "        [1284061.66095826,  693049.94146829,  770507.04442226]],\n",
      "\n",
      "       [[1284061.66095826,  693049.94146829,  770507.04442226],\n",
      "        [1284079.24335634,  693135.6787889 ,  770555.35607507]],\n",
      "\n",
      "       [[1284079.24335634,  693135.6787889 ,  770555.35607507],\n",
      "        [1284097.80991985,  693222.60250159,  770601.17693158]],\n",
      "\n",
      "       [[1284097.80991985,  693222.60250159,  770601.17693158],\n",
      "        [1284116.38860643,  693309.5463192 ,  770646.95252868]],\n",
      "\n",
      "       [[1284116.38860643,  693309.5463192 ,  770646.95252868],\n",
      "        [1284135.89855695,  693398.03454606,  770689.2514121 ]],\n",
      "\n",
      "       [[1284135.89855695,  693398.03454606,  770689.2514121 ],\n",
      "        [1284155.40850746,  693486.52277292,  770731.55029553]],\n",
      "\n",
      "       [[1284155.40850746,  693486.52277292,  770731.55029553],\n",
      "        [1284175.12773988,  693575.30539393,  770773.10134635]],\n",
      "\n",
      "       [[1284175.12773988,  693575.30539393,  770773.10134635],\n",
      "        [1284195.54736581,  693665.0732495 ,  770812.14966237]],\n",
      "\n",
      "       [[1284195.54736581,  693665.0732495 ,  770812.14966237],\n",
      "        [1284215.96699175,  693754.84110506,  770851.1979784 ]],\n",
      "\n",
      "       [[1284215.96699175,  693754.84110506,  770851.1979784 ],\n",
      "        [1284236.47746788,  693844.67238436,  770890.04232827]],\n",
      "\n",
      "       [[1284236.47746788,  693844.67238436,  770890.04232827],\n",
      "        [1284258.29999885,  693935.41962656,  770925.94100756]],\n",
      "\n",
      "       [[1284258.29999885,  693935.41962656,  770925.94100756],\n",
      "        [1284280.12252982,  694026.16686876,  770961.83968686]],\n",
      "\n",
      "       [[1284280.12252982,  694026.16686876,  770961.83968686],\n",
      "        [1284301.94506079,  694116.91411096,  770997.73836616]],\n",
      "\n",
      "       [[1284301.94506079,  694116.91411096,  770997.73836616],\n",
      "        [1284325.02266693,  694207.99042843,  771031.93080133]],\n",
      "\n",
      "       [[1284325.02266693,  694207.99042843,  771031.93080133],\n",
      "        [1284349.03059525,  694299.31067236,  771064.85848614]],\n",
      "\n",
      "       [[1284349.03059525,  694299.31067236,  771064.85848614],\n",
      "        [1284373.03852357,  694390.63091628,  771097.78617096]],\n",
      "\n",
      "       [[1284373.03852357,  694390.63091628,  771097.78617096],\n",
      "        [1284397.04645189,  694481.9511602 ,  771130.71385578]],\n",
      "\n",
      "       [[1284397.04645189,  694481.9511602 ,  771130.71385578],\n",
      "        [1284423.62224396,  694573.32299801,  771161.421767  ]],\n",
      "\n",
      "       [[1284423.62224396,  694573.32299801,  771161.421767  ],\n",
      "        [1284450.63003691,  694664.70351564,  771191.75623778]],\n",
      "\n",
      "       [[1284450.63003691,  694664.70351564,  771191.75623778],\n",
      "        [1284477.63782986,  694756.08403327,  771222.09070855]],\n",
      "\n",
      "       [[1284477.63782986,  694756.08403327,  771222.09070855],\n",
      "        [1284504.74931851,  694847.45052197,  771252.36692512]],\n",
      "\n",
      "       [[1284504.74931851,  694847.45052197,  771252.36692512],\n",
      "        [1284535.35009426,  694938.34494682,  771280.68292862]],\n",
      "\n",
      "       [[1284535.35009426,  694938.34494682,  771280.68292862],\n",
      "        [1284565.95087002,  695029.23937167,  771308.99893212]],\n",
      "\n",
      "       [[1284565.95087002,  695029.23937167,  771308.99893212],\n",
      "        [1284596.55164578,  695120.13379652,  771337.31493562]],\n",
      "\n",
      "       [[1284596.55164578,  695120.13379652,  771337.31493562],\n",
      "        [1284627.96850557,  695210.82190281,  771365.34686621]],\n",
      "\n",
      "       [[1284627.96850557,  695210.82190281,  771365.34686621],\n",
      "        [1284662.34171145,  695300.76259945,  771392.3497143 ]],\n",
      "\n",
      "       [[1284662.34171145,  695300.76259945,  771392.3497143 ],\n",
      "        [1284696.71491733,  695390.7032961 ,  771419.35256239]],\n",
      "\n",
      "       [[1284696.71491733,  695390.7032961 ,  771419.35256239],\n",
      "        [1284731.0881232 ,  695480.64399274,  771446.35541048]],\n",
      "\n",
      "       [[1284731.0881232 ,  695480.64399274,  771446.35541048],\n",
      "        [1284767.29733567,  695569.92711054,  771473.0758447 ]],\n",
      "\n",
      "       [[1284767.29733567,  695569.92711054,  771473.0758447 ],\n",
      "        [1284805.13125818,  695658.62832686,  771499.54636661]],\n",
      "\n",
      "       [[1284805.13125818,  695658.62832686,  771499.54636661],\n",
      "        [1284842.9651807 ,  695747.32954319,  771526.01688852]],\n",
      "\n",
      "       [[1284842.9651807 ,  695747.32954319,  771526.01688852],\n",
      "        [1284880.95008951,  695835.95815005,  771552.50535715]],\n",
      "\n",
      "       [[1284880.95008951,  695835.95815005,  771552.50535715],\n",
      "        [1284921.47585937,  695923.36485443,  771579.29584066]],\n",
      "\n",
      "       [[1284921.47585937,  695923.36485443,  771579.29584066],\n",
      "        [1284962.00162923,  696010.77155881,  771606.08632418]],\n",
      "\n",
      "       [[1284962.00162923,  696010.77155881,  771606.08632418],\n",
      "        [1285002.52739909,  696098.17826319,  771632.87680769]],\n",
      "\n",
      "       [[1285002.52739909,  696098.17826319,  771632.87680769],\n",
      "        [1285044.36282538,  696184.63276661,  771660.70982398]],\n",
      "\n",
      "       [[1285044.36282538,  696184.63276661,  771660.70982398],\n",
      "        [1285086.45926346,  696270.89749838,  771688.75061488]],\n",
      "\n",
      "       [[1285086.45926346,  696270.89749838,  771688.75061488],\n",
      "        [1285128.55570154,  696357.16223015,  771716.79140578]],\n",
      "\n",
      "       [[1285128.55570154,  696357.16223015,  771716.79140578],\n",
      "        [1285170.87821355,  696442.68907319,  771746.6789011 ]],\n",
      "\n",
      "       [[1285170.87821355,  696442.68907319,  771746.6789011 ],\n",
      "        [1285213.24032728,  696528.08665906,  771776.88988662]],\n",
      "\n",
      "       [[1285213.24032728,  696528.08665906,  771776.88988662],\n",
      "        [1285255.55619252,  696613.45692924,  771807.23555062]],\n",
      "\n",
      "       [[1285255.55619252,  696613.45692924,  771807.23555062],\n",
      "        [1285296.93668758,  696698.27474274,  771840.30507045]],\n",
      "\n",
      "       [[1285296.93668758,  696698.27474274,  771840.30507045],\n",
      "        [1285338.31718264,  696783.09255624,  771873.37459029]],\n",
      "\n",
      "       [[1285338.31718264,  696783.09255624,  771873.37459029],\n",
      "        [1285379.03418998,  696867.7924674 ,  771907.5061758 ]],\n",
      "\n",
      "       [[1285379.03418998,  696867.7924674 ,  771907.5061758 ],\n",
      "        [1285418.45733872,  696952.26245876,  771943.70888154]],\n",
      "\n",
      "       [[1285418.45733872,  696952.26245876,  771943.70888154],\n",
      "        [1285457.88048746,  697036.73245012,  771979.91158729]],\n",
      "\n",
      "       [[1285457.88048746,  697036.73245012,  771979.91158729],\n",
      "        [1285495.57363807,  697121.09306603,  772018.10614291]],\n",
      "\n",
      "       [[1285495.57363807,  697121.09306603,  772018.10614291],\n",
      "        [1285532.35151002,  697205.3958154 ,  772057.35451336]],\n",
      "\n",
      "       [[1285532.35151002,  697205.3958154 ,  772057.35451336],\n",
      "        [1285569.12938198,  697289.69856477,  772096.60288382]],\n",
      "\n",
      "       [[1285569.12938198,  697289.69856477,  772096.60288382],\n",
      "        [1285602.8286534 ,  697373.99345596,  772138.53124576]],\n",
      "\n",
      "       [[1285602.8286534 ,  697373.99345596,  772138.53124576],\n",
      "        [1285636.39064774,  697458.28799674,  772180.57911051]],\n",
      "\n",
      "       [[1285636.39064774,  697458.28799674,  772180.57911051],\n",
      "        [1285668.96385824,  697542.61699992,  772223.28229905]],\n",
      "\n",
      "       [[1285668.96385824,  697542.61699992,  772223.28229905],\n",
      "        [1285698.69858499,  697627.04493371,  772267.86671361]],\n",
      "\n",
      "       [[1285698.69858499,  697627.04493371,  772267.86671361],\n",
      "        [1285728.43331175,  697711.4728675 ,  772312.45112817]],\n",
      "\n",
      "       [[1285728.43331175,  697711.4728675 ,  772312.45112817],\n",
      "        [1285755.52149349,  697796.03461388,  772358.38100742]],\n",
      "\n",
      "       [[1285755.52149349,  697796.03461388,  772358.38100742],\n",
      "        [1285780.81552893,  697880.68707453,  772405.22300437]],\n",
      "\n",
      "       [[1285780.81552893,  697880.68707453,  772405.22300437],\n",
      "        [1285806.05201608,  697965.34219605,  772452.08789673]],\n",
      "\n",
      "       [[1285806.05201608,  697965.34219605,  772452.08789673],\n",
      "        [1285826.61676253,  698050.21332653,  772500.81142713]],\n",
      "\n",
      "       [[1285826.61676253,  698050.21332653,  772500.81142713],\n",
      "        [1285847.18150898,  698135.084457  ,  772549.53495754]],\n",
      "\n",
      "       [[1285847.18150898,  698135.084457  ,  772549.53495754],\n",
      "        [1285865.5473824 ,  698220.01449078,  772598.98005765]],\n",
      "\n",
      "       [[1285865.5473824 ,  698220.01449078,  772598.98005765],\n",
      "        [1285881.95770939,  698304.99690965,  772649.06687879]],\n",
      "\n",
      "       [[1285881.95770939,  698304.99690965,  772649.06687879],\n",
      "        [1285898.03552768,  698389.97366268,  772699.26365991]],\n",
      "\n",
      "       [[1285898.03552768,  698389.97366268,  772699.26365991],\n",
      "        [1285912.11217582,  698474.91631645,  772750.12222406]],\n",
      "\n",
      "       [[1285912.11217582,  698474.91631645,  772750.12222406],\n",
      "        [1285926.18882397,  698559.85897022,  772800.9807882 ]],\n",
      "\n",
      "       [[1285926.18882397,  698559.85897022,  772800.9807882 ],\n",
      "        [1285940.68564243,  698644.6257913 ,  772852.01390365]],\n",
      "\n",
      "       [[1285940.68564243,  698644.6257913 ,  772852.01390365],\n",
      "        [1285955.26974694,  698729.35608494,  772903.08328033]],\n",
      "\n",
      "       [[1285955.26974694,  698729.35608494,  772903.08328033],\n",
      "        [1285971.80376773,  698813.81534732,  772953.97673855]],\n",
      "\n",
      "       [[1285971.80376773,  698813.81534732,  772953.97673855],\n",
      "        [1285989.89263148,  698898.05849218,  773004.72992123]],\n",
      "\n",
      "       [[1285989.89263148,  698898.05849218,  773004.72992123],\n",
      "        [1286009.65769272,  698982.03748471,  773055.22723297]],\n",
      "\n",
      "       [[1286009.65769272,  698982.03748471,  773055.22723297],\n",
      "        [1286033.34599276,  699065.39821319,  773105.1256637 ]],\n",
      "\n",
      "       [[1286033.34599276,  699065.39821319,  773105.1256637 ],\n",
      "        [1286057.21736006,  699148.72368145,  773154.98396856]],\n",
      "\n",
      "       [[1286057.21736006,  699148.72368145,  773154.98396856],\n",
      "        [1286086.99648494,  699230.91126871,  773203.54737271]],\n",
      "\n",
      "       [[1286086.99648494,  699230.91126871,  773203.54737271],\n",
      "        [1286116.77560981,  699313.09885597,  773252.11077686]],\n",
      "\n",
      "       [[1286116.77560981,  699313.09885597,  773252.11077686],\n",
      "        [1286150.15273613,  699394.53230147,  773299.53313086]],\n",
      "\n",
      "       [[1286150.15273613,  699394.53230147,  773299.53313086],\n",
      "        [1286184.90961518,  699475.67655054,  773346.51791777]],\n",
      "\n",
      "       [[1286184.90961518,  699475.67655054,  773346.51791777],\n",
      "        [1286220.67735039,  699556.66686039,  773392.98123844]],\n",
      "\n",
      "       [[1286220.67735039,  699556.66686039,  773392.98123844],\n",
      "        [1286258.28552995,  699637.37689634,  773438.4951366 ]],\n",
      "\n",
      "       [[1286258.28552995,  699637.37689634,  773438.4951366 ],\n",
      "        [1286295.8937095 ,  699718.0869323 ,  773484.00903477]],\n",
      "\n",
      "       [[1286295.8937095 ,  699718.0869323 ,  773484.00903477],\n",
      "        [1286333.96260718,  699799.11285779,  773528.56715744]],\n",
      "\n",
      "       [[1286333.96260718,  699799.11285779,  773528.56715744],\n",
      "        [1286372.08117699,  699880.17284077,  773573.02223359]],\n",
      "\n",
      "       [[1286372.08117699,  699880.17284077,  773573.02223359],\n",
      "        [1286409.75470814,  699961.53161875,  773617.30356836]],\n",
      "\n",
      "       [[1286409.75470814,  699961.53161875,  773617.30356836],\n",
      "        [1286446.56249451,  700043.4716501 ,  773661.24691968]],\n",
      "\n",
      "       [[1286446.56249451,  700043.4716501 ,  773661.24691968],\n",
      "        [1286483.37028087,  700125.41168145,  773705.190271  ]],\n",
      "\n",
      "       [[1286483.37028087,  700125.41168145,  773705.190271  ],\n",
      "        [1286518.83413353,  700207.94558156,  773749.11299709]],\n",
      "\n",
      "       [[1286518.83413353,  700207.94558156,  773749.11299709],\n",
      "        [1286553.51088297,  700290.8272935 ,  773793.02364359]],\n",
      "\n",
      "       [[1286553.51088297,  700290.8272935 ,  773793.02364359],\n",
      "        [1286588.1876324 ,  700373.70900543,  773836.93429008]],\n",
      "\n",
      "       [[1286588.1876324 ,  700373.70900543,  773836.93429008],\n",
      "        [1286621.43231642,  700457.08086867,  773881.01530136]],\n",
      "\n",
      "       [[1286621.43231642,  700457.08086867,  773881.01530136],\n",
      "        [1286654.19070261,  700540.61917648,  773925.15416477]],\n",
      "\n",
      "       [[1286654.19070261,  700540.61917648,  773925.15416477],\n",
      "        [1286686.9490888 ,  700624.15748428,  773969.29302818]],\n",
      "\n",
      "       [[1286686.9490888 ,  700624.15748428,  773969.29302818],\n",
      "        [1286718.98974435,  700707.8944481 ,  774013.5790307 ]]])])\n"
     ]
    },
    {
     "name": "stdout",
     "output_type": "stream",
     "text": [
      "base_final_widths = [263.95253492 251.3549738 ]\n",
      "overall_ais_width = 214.63886168066438\n",
      "ais_width = 257.6537543588536\n",
      "Adding the following branches as true axons: [  0.   1.   2.   3.   4.   5.   6.   7.   8.   9.  10.  11.  12.  13.\n",
      "  14.  15.  16.  17.  18.  19.  20.  21.  22.  23.  24.  25.  26.  27.\n",
      "  28.  29.  30.  31.  32.  33.  34.  35.  36.  37.  38.  39.  40.  41.\n",
      "  42.  43.  44.  45.  46.  47.  48.  49.  50.  51.  52.  53.  54.  55.\n",
      "  56.  57.  58.  59.  60.  61.  62.  63.  64.  65.  66.  67.  68.  69.\n",
      "  70.  71.  72.  73.  74.  75.  76.  77.  78.  79.  80.  81.  82.  83.\n",
      "  84.  85.  86.  87.  88.  89.  90.  91.  92.  93.  94.  95.  96.  97.\n",
      "  98.  99. 100. 101. 102. 103. 104. 105. 106. 107. 108. 109. 110. 111.\n",
      " 112. 113. 114. 115. 116. 117. 118. 119. 120. 121. 122. 123. 124. 125.\n",
      " 126. 127.]\n",
      "curr_soma_angle = 142.3\n",
      "max_axon_angle = 149.36517831886925\n",
      "Changing to a better axon candidate\n",
      "\n",
      "\n",
      " --- Working on limb 2, candidate # 0\n",
      "0 out of 5 branches are axons\n",
      "Axon percentage = 0.0\n",
      "Not adding candidate no axon branches detected \n",
      "\n",
      "\n",
      " --- Working on limb 2, candidate # 1\n",
      "0 out of 5 branches are axons\n",
      "Axon percentage = 0.0\n",
      "Not adding candidate no axon branches detected \n",
      "\n",
      "\n",
      " --- Working on limb 3, candidate # 0\n",
      "0 out of 1 branches are axons\n",
      "Axon percentage = 0.0\n",
      "Not adding candidate no axon branches detected \n",
      "\n",
      "\n",
      " --- Working on limb 3, candidate # 1\n",
      "0 out of 3 branches are axons\n",
      "Axon percentage = 0.0\n",
      "Not adding candidate no axon branches detected \n",
      "\n",
      "\n",
      " --- Working on limb 4, candidate # 0\n",
      "3 out of 6 branches are axons\n",
      "Axon percentage = 0.5\n",
      "curr_axon_angle_threshold = 120\n",
      "candidate_nodes = [ 0.  1.  2.  3.  6.  7. 11.]\n",
      "non_axon_branches_on_subgraph = [ 0.  1.  7. 11.]\n",
      "endnodes_to_test = []\n",
      "candidate_angles,restr_skels = (None, None)\n",
      "Not adding candidate because no angles (None) passed the threhold 120 \n",
      "\n",
      "\n",
      " --- Working on limb 4, candidate # 1\n",
      "1 out of 5 branches are axons\n",
      "Axon percentage = 0.2\n",
      "curr_axon_angle_threshold = 120\n",
      "candidate_nodes = [ 4  5  8  9 10 11]\n",
      "non_axon_branches_on_subgraph = [ 4  5  8 10 11]\n",
      "endnodes_to_test = [1679]\n",
      "Skeleton paths distances = [24852.55257506]\n",
      "Filtered indexes = [0]\n",
      "len(filtered_skeletons) = 1\n",
      "sk_angles = [99.17561385]\n",
      "candidate_angles,restr_skels = (array([99.17561385]), [array([[[1259100.,  680298.,  766913.],\n",
      "        [1259020.,  680320.,  766982.]],\n",
      "\n",
      "       [[1259020.,  680320.,  766982.],\n",
      "        [1258900.,  680342.,  767077.]],\n",
      "\n",
      "       [[1258900.,  680342.,  767077.],\n",
      "        [1258850.,  680352.,  767119.]],\n",
      "\n",
      "       [[1258850.,  680352.,  767119.],\n",
      "        [1258730.,  680370.,  767210.]],\n",
      "\n",
      "       [[1258730.,  680370.,  767210.],\n",
      "        [1258630.,  680383.,  767273.]],\n",
      "\n",
      "       [[1258630.,  680383.,  767273.],\n",
      "        [1258480.,  680407.,  767355.]],\n",
      "\n",
      "       [[1258480.,  680407.,  767355.],\n",
      "        [1258360.,  680436.,  767396.]],\n",
      "\n",
      "       [[1258360.,  680436.,  767396.],\n",
      "        [1258230.,  680466.,  767433.]],\n",
      "\n",
      "       [[1258230.,  680466.,  767433.],\n",
      "        [1258100.,  680497.,  767465.]],\n",
      "\n",
      "       [[1258100.,  680497.,  767465.],\n",
      "        [1257970.,  680525.,  767496.]],\n",
      "\n",
      "       [[1257970.,  680525.,  767496.],\n",
      "        [1257800.,  680554.,  767535.]],\n",
      "\n",
      "       [[1257800.,  680554.,  767535.],\n",
      "        [1257560.,  680597.,  767578.]],\n",
      "\n",
      "       [[1257560.,  680597.,  767578.],\n",
      "        [1257430.,  680622.,  767603.]],\n",
      "\n",
      "       [[1257430.,  680622.,  767603.],\n",
      "        [1257300.,  680654.,  767622.]],\n",
      "\n",
      "       [[1257300.,  680654.,  767622.],\n",
      "        [1257140.,  680675.,  767644.]],\n",
      "\n",
      "       [[1257140.,  680675.,  767644.],\n",
      "        [1257000.,  680709.,  767655.]],\n",
      "\n",
      "       [[1257000.,  680709.,  767655.],\n",
      "        [1256830.,  680744.,  767671.]],\n",
      "\n",
      "       [[1256830.,  680744.,  767671.],\n",
      "        [1256700.,  680771.,  767677.]],\n",
      "\n",
      "       [[1256700.,  680771.,  767677.],\n",
      "        [1256540.,  680786.,  767707.]],\n",
      "\n",
      "       [[1256540.,  680786.,  767707.],\n",
      "        [1256410.,  680798.,  767727.]],\n",
      "\n",
      "       [[1256410.,  680798.,  767727.],\n",
      "        [1256260.,  680815.,  767760.]],\n",
      "\n",
      "       [[1256260.,  680815.,  767760.],\n",
      "        [1256170.,  680822.,  767778.]],\n",
      "\n",
      "       [[1256170.,  680822.,  767778.],\n",
      "        [1256030.,  680835.,  767819.]],\n",
      "\n",
      "       [[1256030.,  680835.,  767819.],\n",
      "        [1255890.,  680845.,  767866.]],\n",
      "\n",
      "       [[1255890.,  680845.,  767866.],\n",
      "        [1255780.,  680850.,  767912.]],\n",
      "\n",
      "       [[1255780.,  680850.,  767912.],\n",
      "        [1255670.,  680855.,  767958.]],\n",
      "\n",
      "       [[1255670.,  680855.,  767958.],\n",
      "        [1255580.,  680854.,  768004.]],\n",
      "\n",
      "       [[1255580.,  680854.,  768004.],\n",
      "        [1255440.,  680851.,  768080.]],\n",
      "\n",
      "       [[1255440.,  680851.,  768080.],\n",
      "        [1255310.,  680827.,  768156.]],\n",
      "\n",
      "       [[1255310.,  680827.,  768156.],\n",
      "        [1255200.,  680833.,  768233.]],\n",
      "\n",
      "       [[1255200.,  680833.,  768233.],\n",
      "        [1255090.,  680796.,  768301.]],\n",
      "\n",
      "       [[1255090.,  680796.,  768301.],\n",
      "        [1254980.,  680781.,  768370.]],\n",
      "\n",
      "       [[1254980.,  680781.,  768370.],\n",
      "        [1254820.,  680754.,  768470.]],\n",
      "\n",
      "       [[1254820.,  680754.,  768470.],\n",
      "        [1254650.,  680737.,  768575.]],\n",
      "\n",
      "       [[1254650.,  680737.,  768575.],\n",
      "        [1254470.,  680722.,  768667.]],\n",
      "\n",
      "       [[1254470.,  680722.,  768667.],\n",
      "        [1254330.,  680719.,  768728.]],\n",
      "\n",
      "       [[1254330.,  680719.,  768728.],\n",
      "        [1254240.,  680727.,  768769.]],\n",
      "\n",
      "       [[1254240.,  680727.,  768769.],\n",
      "        [1254090.,  680727.,  768861.]],\n",
      "\n",
      "       [[1254090.,  680727.,  768861.],\n",
      "        [1253900.,  680741.,  768981.]],\n",
      "\n",
      "       [[1253900.,  680741.,  768981.],\n",
      "        [1253800.,  680748.,  769040.]],\n",
      "\n",
      "       [[1253800.,  680748.,  769040.],\n",
      "        [1253750.,  680753.,  769075.]],\n",
      "\n",
      "       [[1253750.,  680753.,  769075.],\n",
      "        [1253670.,  680761.,  769126.]],\n",
      "\n",
      "       [[1253670.,  680761.,  769126.],\n",
      "        [1253600.,  680769.,  769169.]],\n",
      "\n",
      "       [[1253600.,  680769.,  769169.],\n",
      "        [1253490.,  680784.,  769244.]],\n",
      "\n",
      "       [[1253490.,  680784.,  769244.],\n",
      "        [1253380.,  680804.,  769327.]],\n",
      "\n",
      "       [[1253380.,  680804.,  769327.],\n",
      "        [1253240.,  680832.,  769425.]],\n",
      "\n",
      "       [[1253240.,  680832.,  769425.],\n",
      "        [1253100.,  680869.,  769530.]],\n",
      "\n",
      "       [[1253100.,  680869.,  769530.],\n",
      "        [1253010.,  680899.,  769596.]],\n",
      "\n",
      "       [[1253010.,  680899.,  769596.],\n",
      "        [1252870.,  680957.,  769704.]],\n",
      "\n",
      "       [[1252870.,  680957.,  769704.],\n",
      "        [1252760.,  681004.,  769781.]],\n",
      "\n",
      "       [[1252760.,  681004.,  769781.],\n",
      "        [1252650.,  681054.,  769861.]],\n",
      "\n",
      "       [[1252650.,  681054.,  769861.],\n",
      "        [1252540.,  681107.,  769946.]],\n",
      "\n",
      "       [[1252540.,  681107.,  769946.],\n",
      "        [1252470.,  681138.,  769996.]],\n",
      "\n",
      "       [[1252470.,  681138.,  769996.],\n",
      "        [1252350.,  681191.,  770084.]],\n",
      "\n",
      "       [[1252350.,  681191.,  770084.],\n",
      "        [1252190.,  681255.,  770195.]],\n",
      "\n",
      "       [[1252190.,  681255.,  770195.],\n",
      "        [1252140.,  681273.,  770231.]],\n",
      "\n",
      "       [[1252140.,  681273.,  770231.],\n",
      "        [1252020.,  681310.,  770315.]],\n",
      "\n",
      "       [[1252020.,  681310.,  770315.],\n",
      "        [1251910.,  681343.,  770393.]],\n",
      "\n",
      "       [[1251910.,  681343.,  770393.],\n",
      "        [1251810.,  681361.,  770469.]],\n",
      "\n",
      "       [[1251810.,  681361.,  770469.],\n",
      "        [1251660.,  681371.,  770568.]],\n",
      "\n",
      "       [[1251660.,  681371.,  770568.],\n",
      "        [1251530.,  681357.,  770653.]],\n",
      "\n",
      "       [[1251530.,  681357.,  770653.],\n",
      "        [1251320.,  681313.,  770779.]],\n",
      "\n",
      "       [[1251320.,  681313.,  770779.],\n",
      "        [1251180.,  681415.,  770832.]],\n",
      "\n",
      "       [[1251180.,  681415.,  770832.],\n",
      "        [1251010.,  681500.,  770875.]],\n",
      "\n",
      "       [[1251010.,  681500.,  770875.],\n",
      "        [1250770.,  681625.,  770947.]],\n",
      "\n",
      "       [[1250770.,  681625.,  770947.],\n",
      "        [1250630.,  681743.,  771066.]],\n",
      "\n",
      "       [[1250630.,  681743.,  771066.],\n",
      "        [1250560.,  681796.,  771121.]],\n",
      "\n",
      "       [[1250560.,  681796.,  771121.],\n",
      "        [1250470.,  681853.,  771179.]]])])\n",
      "Not adding candidate because no angles ([99.17561385]) passed the threhold 120 \n",
      "\n",
      "\n",
      " --- Working on limb 5, candidate # 0\n",
      "0 out of 1 branches are axons\n",
      "Axon percentage = 0.0\n",
      "Not adding candidate no axon branches detected \n",
      "\n",
      "\n",
      " --- Working on limb 5, candidate # 1\n",
      "0 out of 1 branches are axons\n",
      "Axon percentage = 0.0\n",
      "Not adding candidate no axon branches detected \n",
      "\n",
      "\n",
      " --- Working on limb 6, candidate # 0\n"
     ]
    },
    {
     "name": "stdout",
     "output_type": "stream",
     "text": [
      "0 out of 1 branches are axons\n",
      "Axon percentage = 0.0\n",
      "Not adding candidate no axon branches detected \n",
      "\n",
      "\n",
      " --- Working on limb 6, candidate # 1\n",
      "1 out of 3 branches are axons\n",
      "Axon percentage = 0.3333333333333333\n",
      "curr_axon_angle_threshold = 120\n",
      "candidate_nodes = [0 2 3 4]\n",
      "non_axon_branches_on_subgraph = [0 2 4]\n",
      "endnodes_to_test = []\n",
      "candidate_angles,restr_skels = (None, None)\n",
      "Not adding candidate because no angles (None) passed the threhold 120 \n",
      "\n",
      "\n",
      " --- Working on limb 7, candidate # 0\n",
      "0 out of 3 branches are axons\n",
      "Axon percentage = 0.0\n",
      "Not adding candidate no axon branches detected \n",
      "Using the best axon approach\n",
      "Using True\n",
      "Limb L0: Axon branches before dendritic path filter = [  0.   1.   2.   3.   4.   5.   6.   7.   8.   9.  10.  11.  12.  13.\n",
      "  14.  15.  16.  17.  18.  19.  20.  21.  22.  23.  24.  25.  26.  27.\n",
      "  28.  29.  30.  31.  32.  33.  34.  35.  36.  37.  38.  39.  40.  41.\n",
      "  42.  43.  44.  45.  46.  47.  48.  49.  50.  51.  52.  53.  54.  55.\n",
      "  56.  57.  58.  59.  60.  61.  62.  63.  64.  65.  66.  67.  68.  69.\n",
      "  70.  71.  72.  73.  74.  75.  76.  77.  78.  79.  80.  81.  82.  83.\n",
      "  84.  85.  86.  87.  88.  89.  90.  91.  92.  93.  94.  95.  96.  97.\n",
      "  98.  99. 100. 101. 102. 103. 104. 105. 106. 107. 108. 109. 110. 111.\n",
      " 112. 113. 114. 115. 116. 117. 118. 119. 120. 121. 122. 123. 124. 125.\n",
      " 126. 127.]\n",
      "Limb L0: Axon branches AFTER dendritic path filter = [  0.   1.   2.   3.   4.   5.   6.   7.   8.   9.  10.  11.  12.  13.\n",
      "  14.  15.  16.  17.  18.  19.  20.  21.  22.  23.  24.  25.  26.  27.\n",
      "  28.  29.  30.  31.  32.  33.  34.  35.  36.  37.  38.  39.  40.  41.\n",
      "  42.  43.  44.  45.  46.  47.  48.  49.  50.  51.  52.  53.  54.  55.\n",
      "  56.  57.  58.  59.  60.  61.  62.  63.  64.  65.  66.  67.  68.  69.\n",
      "  70.  71.  72.  73.  74.  75.  76.  77.  78.  79.  80.  81.  82.  83.\n",
      "  84.  85.  86.  87.  88.  89.  90.  91.  92.  93.  94.  95.  96.  97.\n",
      "  98.  99. 100. 101. 102. 103. 104. 105. 106. 107. 108. 109. 110. 111.\n",
      " 112. 113. 114. 115. 116. 117. 118. 119. 120. 121. 122. 123. 124. 125.\n",
      " 126. 127.]\n",
      "\n",
      "\n",
      "Part 4: final_true_axons = {'L0': array([  0.,   1.,   2.,   3.,   4.,   5.,   6.,   7.,   8.,   9.,  10.,\n",
      "        11.,  12.,  13.,  14.,  15.,  16.,  17.,  18.,  19.,  20.,  21.,\n",
      "        22.,  23.,  24.,  25.,  26.,  27.,  28.,  29.,  30.,  31.,  32.,\n",
      "        33.,  34.,  35.,  36.,  37.,  38.,  39.,  40.,  41.,  42.,  43.,\n",
      "        44.,  45.,  46.,  47.,  48.,  49.,  50.,  51.,  52.,  53.,  54.,\n",
      "        55.,  56.,  57.,  58.,  59.,  60.,  61.,  62.,  63.,  64.,  65.,\n",
      "        66.,  67.,  68.,  69.,  70.,  71.,  72.,  73.,  74.,  75.,  76.,\n",
      "        77.,  78.,  79.,  80.,  81.,  82.,  83.,  84.,  85.,  86.,  87.,\n",
      "        88.,  89.,  90.,  91.,  92.,  93.,  94.,  95.,  96.,  97.,  98.,\n",
      "        99., 100., 101., 102., 103., 104., 105., 106., 107., 108., 109.,\n",
      "       110., 111., 112., 113., 114., 115., 116., 117., 118., 119., 120.,\n",
      "       121., 122., 123., 124., 125., 126., 127.])}\n",
      "\n",
      " Working on visualization type: mesh\n"
     ]
    },
    {
     "data": {
      "application/vnd.jupyter.widget-view+json": {
       "model_id": "ce9c654701174b0e844c749a253f27ca",
       "version_major": 2,
       "version_minor": 0
      },
      "text/plain": [
       "VBox(children=(Figure(camera=PerspectiveCamera(fov=46.0, position=(0.0, 0.0, 2.0), projectionMatrix=(1.0, 0.0,…"
      ]
     },
     "metadata": {},
     "output_type": "display_data"
    },
    {
     "data": {
      "text/plain": [
       "({'L0': array([  0.,   1.,   2.,   3.,   4.,   5.,   6.,   7.,   8.,   9.,  10.,\n",
       "          11.,  12.,  13.,  14.,  15.,  16.,  17.,  18.,  19.,  20.,  21.,\n",
       "          22.,  23.,  24.,  25.,  26.,  27.,  28.,  29.,  30.,  31.,  32.,\n",
       "          33.,  34.,  35.,  36.,  37.,  38.,  39.,  40.,  41.,  42.,  43.,\n",
       "          44.,  45.,  46.,  47.,  48.,  49.,  50.,  51.,  52.,  53.,  54.,\n",
       "          55.,  56.,  57.,  58.,  59.,  60.,  61.,  62.,  63.,  64.,  65.,\n",
       "          66.,  67.,  68.,  69.,  70.,  71.,  72.,  73.,  74.,  75.,  76.,\n",
       "          77.,  78.,  79.,  80.,  81.,  82.,  83.,  84.,  85.,  86.,  87.,\n",
       "          88.,  89.,  90.,  91.,  92.,  93.,  94.,  95.,  96.,  97.,  98.,\n",
       "          99., 100., 101., 102., 103., 104., 105., 106., 107., 108., 109.,\n",
       "         110., 111., 112., 113., 114., 115., 116., 117., 118., 119., 120.,\n",
       "         121., 122., 123., 124., 125., 126., 127.])},\n",
       " {'L4': array([2, 3, 6, 9]), 'L6': array([3])})"
      ]
     },
     "execution_count": 14,
     "metadata": {},
     "output_type": "execute_result"
    }
   ],
   "source": [
    "clu.axon_classification(neuron_obj,\n",
    "                       plot_axons=True)"
   ]
  },
  {
   "cell_type": "code",
   "execution_count": 15,
   "metadata": {
    "scrolled": false
   },
   "outputs": [
    {
     "name": "stdout",
     "output_type": "stream",
     "text": [
      "\n",
      " Working on visualization type: mesh\n",
      "\n",
      " Working on visualization type: skeleton\n"
     ]
    },
    {
     "data": {
      "application/vnd.jupyter.widget-view+json": {
       "model_id": "aef6d03bef2a49b08edb117e6ba73372",
       "version_major": 2,
       "version_minor": 0
      },
      "text/plain": [
       "VBox(children=(Figure(camera=PerspectiveCamera(fov=46.0, position=(0.0, 0.0, 2.0), projectionMatrix=(1.0, 0.0,…"
      ]
     },
     "metadata": {},
     "output_type": "display_data"
    }
   ],
   "source": [
    "nviz.plot_axon(neuron_obj,skeleton = True)"
   ]
  },
  {
   "cell_type": "markdown",
   "metadata": {},
   "source": [
    "# Filtering Dendrite on Axon then recomputing High Fidelity Axon"
   ]
  },
  {
   "cell_type": "code",
   "execution_count": 16,
   "metadata": {},
   "outputs": [
    {
     "name": "stdout",
     "output_type": "stream",
     "text": [
      "\n",
      "--- Working on filter 0:\n",
      "function = dendrite_on_axon_merges\n",
      "function __name__ = filter_away_dendrite_on_axon_merges\n",
      "function arguments = {'use_pre_existing_axon_labels': True}\n",
      "\n",
      "\n",
      "\n",
      "\n",
      "\n",
      " ---- Total time for applying filter: 55.50736594200134 -----\n"
     ]
    }
   ],
   "source": [
    "plot_limb_branch_filter_with_disconnect_effect = False\n",
    "verbose = False\n",
    "verbose_outline = True\n",
    "\n",
    "pre_filters = pru.get_exc_filters_high_fidelity_axon_preprocessing()\n",
    "o_neuron_pre, filtering_info_pre = pru.apply_proofreading_filters_to_neuron(input_neuron = neuron_obj,\n",
    "                                        filter_list = pre_filters,\n",
    "                    plot_limb_branch_filter_with_disconnect_effect=plot_limb_branch_filter_with_disconnect_effect,\n",
    "                                        plot_limb_branch_filter_away=False,\n",
    "                                        plot_final_neuron=False,\n",
    "\n",
    "                                        return_error_info=True,\n",
    "                                         verbose=verbose,\n",
    "                                        verbose_outline=verbose_outline)"
   ]
  },
  {
   "cell_type": "code",
   "execution_count": 17,
   "metadata": {
    "scrolled": true
   },
   "outputs": [
    {
     "name": "stdout",
     "output_type": "stream",
     "text": [
      "Starting axon branch was the starting node so using border vertices and NOT computing upstream branch\n",
      "upstream_node_to_axon_starting_branch = None\n",
      "More than 1 seperated mesh (taking the top one): [<trimesh.Trimesh(vertices.shape=(285670, 3), faces.shape=(570020, 3))>\n",
      " <trimesh.Trimesh(vertices.shape=(10995, 3), faces.shape=(21877, 3))>\n",
      " <trimesh.Trimesh(vertices.shape=(3713, 3), faces.shape=(7403, 3))>]\n",
      "root_curr = [1280265.  683256.  767025.]\n",
      "Time for preparing soma vertices and root: 0.0004885196685791016\n",
      "invalidation_d = 2000\n",
      "cc_vertex_thresh = 10\n"
     ]
    },
    {
     "name": "stderr",
     "output_type": "stream",
     "text": [
      "\r",
      "  0%|          | 0/1 [00:00<?, ?it/s]"
     ]
    },
    {
     "data": {
      "application/vnd.jupyter.widget-view+json": {
       "model_id": "7a4eedf2191e4a0abacc607356c3783b",
       "version_major": 2,
       "version_minor": 0
      },
      "text/plain": [
       "  0%|          | 0/285669 [00:00<?, ?it/s]"
      ]
     },
     "metadata": {},
     "output_type": "display_data"
    },
    {
     "name": "stderr",
     "output_type": "stream",
     "text": [
      "100%|██████████| 1/1 [01:24<00:00, 84.26s/it]\n"
     ]
    },
    {
     "name": "stdout",
     "output_type": "stream",
     "text": [
      "meshparty_segment_size = 100\n",
      "Time for 1st pass MP skeletonization: 87.28988027572632\n",
      "branches_touching_root = [13]\n",
      "combining close nodes\n",
      "combine_threshold = 1300\n",
      "length of Graph = 52270\n",
      "After combining close endpoints max(kept_branches_idx) = 526, len(kept_branches_idx) = 465\n",
      "empty_indices % = 0.0\n",
      " conflict_indices % = 0.03176544608915262\n"
     ]
    },
    {
     "data": {
      "application/vnd.jupyter.widget-view+json": {
       "model_id": "563efbfed5e34a4ea3e2c96dca0a366a",
       "version_major": 2,
       "version_minor": 0
      },
      "text/plain": [
       "  0%|          | 0/194 [00:00<?, ?it/s]"
      ]
     },
     "metadata": {},
     "output_type": "display_data"
    },
    {
     "name": "stdout",
     "output_type": "stream",
     "text": [
      "AFTER face_lookup_resolved_test\n"
     ]
    },
    {
     "data": {
      "application/vnd.jupyter.widget-view+json": {
       "model_id": "1354186e8691465fbcacbb8b8a09ec7f",
       "version_major": 2,
       "version_minor": 0
      },
      "text/plain": [
       "  0%|          | 0/465 [00:00<?, ?it/s]"
      ]
     },
     "metadata": {},
     "output_type": "display_data"
    },
    {
     "name": "stdout",
     "output_type": "stream",
     "text": [
      "Decomposing first pass: 103.63718605041504\n",
      "Only Using MeshParty Skeletonization and Mesh Correspondence\n",
      "Another print\n",
      "Divinding into MP and MAP pieces: 0.0006847381591796875\n",
      "Total time for MAP sublimb processing 1.1205673217773438e-05\n",
      "---- Working on MP Decomposition #0 ----\n",
      "Using Quicker soma_to_piece_touching_vertices because no MAP and only one sublimb_mesh piece \n",
      "MP filtering soma verts: 7.319450378417969e-05\n",
      "Fixing Possible Soma Extension Branch for Sublimb 0\n",
      "Total time for mesh KDTree = 0.1822502613067627\n",
      "sbv[0].reshape(-1,3) = [[1280265.  683256.  767025.]]\n",
      "closest_sk_pt_coord BEFORE = [1280427.45746812  683631.77279812  767234.93773063]\n",
      "current_skeleton.shape = (560, 2, 3)\n",
      "node_for_stitch = 0: [1280427.45746812  683631.77279812  767234.93773063]\n",
      "node_for_stitch AFTER = 0: [1280427.45746812  683631.77279812  767234.93773063]\n",
      "possible_node_loc = [ 0 26]\n",
      "possible_node_loc AFTER = [ 0 26]\n",
      "curr_shortest_path = [0]\n",
      "Current stitch point was a branch or endpoint\n",
      "change_status for create soma extending pieces = False\n",
      "closest_sk_pt_coord AFTER = [1280427.45746812  683631.77279812  767234.93773063]\n",
      "skipping soma 0 because closest skeleton node was already end node\n",
      "endpoints_must_keep = {0: array([[1280427.45746812,  683631.77279812,  767234.93773063]])}\n",
      "match_sk_branches = [11]\n",
      "The new branch info was none so skipping \n",
      "\n",
      "No soma extending branch was added for this sublimb even though it had a soma border (means they already existed)\n",
      "MP (because soma touching verts) soma extension add: 11.796883821487427\n",
      "There were not both MAP and MP pieces so skipping the stitch resolving phase\n",
      "Time for decomp of Limb = 205.38255739212036\n",
      "Number of matching vertices = 29\n",
      "Only one endpoint after filtering away the endpoints that are not on the skeleton\n",
      "Using Distance measure skeletal_distance\n",
      "endpoints_must_keep = [[1280427.45746812  683631.77279812  767234.93773063]]\n",
      "Number of end_nodes BEFORE filtering = 267\n",
      "all_single_nodes_to_eliminate = [257]\n"
     ]
    },
    {
     "data": {
      "application/vnd.jupyter.widget-view+json": {
       "model_id": "853bcbfa462347ecadffb9d7cb2f9e5a",
       "version_major": 2,
       "version_minor": 0
      },
      "text/plain": [
       "  0%|          | 0/69 [00:00<?, ?it/s]"
      ]
     },
     "metadata": {},
     "output_type": "display_data"
    },
    {
     "name": "stdout",
     "output_type": "stream",
     "text": [
      "Removed 68 skeletal branches\n"
     ]
    },
    {
     "data": {
      "application/vnd.jupyter.widget-view+json": {
       "model_id": "69a106a92a884b06b318cf4e359fc5e1",
       "version_major": 2,
       "version_minor": 0
      },
      "text/plain": [
       "  0%|          | 0/465 [00:00<?, ?it/s]"
      ]
     },
     "metadata": {},
     "output_type": "display_data"
    },
    {
     "name": "stdout",
     "output_type": "stream",
     "text": [
      "570019 570020\n",
      "For marked faces: None\n",
      "empty_indices % = 0.003005157713764429\n",
      " conflict_indices % = 0.0\n"
     ]
    },
    {
     "data": {
      "application/vnd.jupyter.widget-view+json": {
       "model_id": "bdd07908f1504efd8556ab27294cc0c7",
       "version_major": 2,
       "version_minor": 0
      },
      "text/plain": [
       "  0%|          | 0/9 [00:00<?, ?it/s]"
      ]
     },
     "metadata": {},
     "output_type": "display_data"
    },
    {
     "name": "stdout",
     "output_type": "stream",
     "text": [
      "AFTER face_lookup_resolved_test\n"
     ]
    },
    {
     "data": {
      "application/vnd.jupyter.widget-view+json": {
       "model_id": "d796b5cd847e40fca98fa57c59c9bd53",
       "version_major": 2,
       "version_minor": 0
      },
      "text/plain": [
       "  0%|          | 0/339 [00:00<?, ?it/s]"
      ]
     },
     "metadata": {},
     "output_type": "display_data"
    },
    {
     "name": "stdout",
     "output_type": "stream",
     "text": [
      "Limb Correspondence before stitching = 339\n"
     ]
    },
    {
     "data": {
      "application/vnd.jupyter.widget-view+json": {
       "model_id": "6de86f70229b4b9ea556139b7dfa59c8",
       "version_major": 2,
       "version_minor": 0
      },
      "text/plain": [
       "0it [00:00, ?it/s]"
      ]
     },
     "metadata": {},
     "output_type": "display_data"
    },
    {
     "name": "stdout",
     "output_type": "stream",
     "text": [
      "\n",
      "\n",
      "--- Working on 1-to-1 correspondence-----\n",
      "max(original_labels),len(original_labels) = (1, 2)\n",
      "empty_indices % = 0.16521468574984444\n",
      " conflict_indices % = 0.003422526446795271\n"
     ]
    },
    {
     "data": {
      "application/vnd.jupyter.widget-view+json": {
       "model_id": "cf4748bb18c745bd92a0db744ab0c2c7",
       "version_major": 2,
       "version_minor": 0
      },
      "text/plain": [
       "  0%|          | 0/14 [00:00<?, ?it/s]"
      ]
     },
     "metadata": {},
     "output_type": "display_data"
    },
    {
     "name": "stdout",
     "output_type": "stream",
     "text": [
      "AFTER face_lookup_resolved_test\n"
     ]
    },
    {
     "data": {
      "application/vnd.jupyter.widget-view+json": {
       "model_id": "5d80d6ad35684af8b64b71d7e16df2f3",
       "version_major": 2,
       "version_minor": 0
      },
      "text/plain": [
       "  0%|          | 0/2 [00:00<?, ?it/s]"
      ]
     },
     "metadata": {},
     "output_type": "display_data"
    },
    {
     "name": "stdout",
     "output_type": "stream",
     "text": [
      "main_branch = 61\n"
     ]
    },
    {
     "data": {
      "application/vnd.jupyter.widget-view+json": {
       "model_id": "60ae10035d324a46aca878521172fd67",
       "version_major": 2,
       "version_minor": 0
      },
      "text/plain": [
       "0it [00:00, ?it/s]"
      ]
     },
     "metadata": {},
     "output_type": "display_data"
    },
    {
     "name": "stdout",
     "output_type": "stream",
     "text": [
      "\n",
      "\n",
      "--- Working on 1-to-1 correspondence-----\n",
      "max(original_labels),len(original_labels) = (1, 2)\n",
      "empty_indices % = 0.28478917829903583\n",
      " conflict_indices % = 0.0\n"
     ]
    },
    {
     "data": {
      "application/vnd.jupyter.widget-view+json": {
       "model_id": "4aee86f4dcff4f10b1f889d65b71b008",
       "version_major": 2,
       "version_minor": 0
      },
      "text/plain": [
       "  0%|          | 0/24 [00:00<?, ?it/s]"
      ]
     },
     "metadata": {},
     "output_type": "display_data"
    },
    {
     "name": "stdout",
     "output_type": "stream",
     "text": [
      "AFTER face_lookup_resolved_test\n"
     ]
    },
    {
     "data": {
      "application/vnd.jupyter.widget-view+json": {
       "model_id": "00738960533347de9b34ecf01d297489",
       "version_major": 2,
       "version_minor": 0
      },
      "text/plain": [
       "  0%|          | 0/2 [00:00<?, ?it/s]"
      ]
     },
     "metadata": {},
     "output_type": "display_data"
    },
    {
     "name": "stdout",
     "output_type": "stream",
     "text": [
      "main_branch = 247\n",
      "Limb Correspondence AFTER stitching = 340\n",
      "Upstream node was None so don't have to adjust\n",
      "concept_network_dict = {0: [<networkx_utils.GraphOrderedEdges object at 0x7f38774c2860>]}\n",
      "Assigning the old width calculation because no valid new widths\n",
      "Assigning the old width calculation because no valid new widths\n",
      "Assigning the old width calculation because no valid new widths\n",
      "Assigning the old width calculation because no valid new widths\n",
      "Assigning the old width calculation because no valid new widths\n",
      "Assigning the old width calculation because no valid new widths\n",
      "Assigning the old width calculation because no valid new widths\n",
      "Assigning the old width calculation because no valid new widths\n",
      "Assigning the old width calculation because no valid new widths\n",
      "Assigning the old width calculation because no valid new widths\n",
      "Assigning the old width calculation because no valid new widths\n",
      "Assigning the old width calculation because no valid new widths\n",
      "Assigning the old width calculation because no valid new widths\n",
      "Assigning the old width calculation because no valid new widths\n",
      "Assigning the old width calculation because no valid new widths\n",
      "Assigning the old width calculation because no valid new widths\n",
      "Assigning the old width calculation because no valid new widths\n",
      "\n",
      "\n",
      "----Working on seperate_graph 0----\n",
      "\n",
      "\n",
      "---------Working on soma_idx = 0, soma_group_idx 0, endpt = [1280427.45746812  683631.77279812  767234.93773063]---------\n",
      "Starting_edge inside branches_to_conept = [[1280427.45746812  683631.77279812  767234.93773063]\n",
      " [1281374.99753931  732748.34304433  779552.08236043]]\n",
      "At the start, starting_node (in terms of the skeleton, that shouldn't match the starting edge) = [324]\n",
      "printing out current edge:\n",
      "[[1280427.45746812  683631.77279812  767234.93773063]\n",
      " [1281374.99753931  732748.34304433  779552.08236043]]\n",
      "edge_endpoints_to_process was empty so exiting loop after 340 iterations\n",
      "starting_node in concept map (that should match the starting edge) = 327\n",
      "Total time for branches to concept conversion = 5.2036237716674805\n",
      "\n",
      "Done generating concept network \n",
      "\n",
      "\n"
     ]
    }
   ],
   "source": [
    "# Getting the high fidelity axon\n",
    "neuron_obj_high_fid_axon = pru.refine_axon_for_high_fidelity_skeleton(o_neuron_pre)"
   ]
  },
  {
   "cell_type": "code",
   "execution_count": null,
   "metadata": {},
   "outputs": [],
   "source": [
    "nviz.plot_axon(neuron_obj_high_fid_axon)"
   ]
  },
  {
   "cell_type": "markdown",
   "metadata": {},
   "source": [
    "# Computing the Boutons of the Axon"
   ]
  },
  {
   "cell_type": "code",
   "execution_count": 18,
   "metadata": {
    "scrolled": true
   },
   "outputs": [
    {
     "data": {
      "application/vnd.jupyter.widget-view+json": {
       "model_id": "64761a657e5f40708fbe5961d88a04d2",
       "version_major": 2,
       "version_minor": 0
      },
      "text/plain": [
       "  0%|          | 0/292 [00:00<?, ?it/s]"
      ]
     },
     "metadata": {},
     "output_type": "display_data"
    },
    {
     "data": {
      "application/vnd.jupyter.widget-view+json": {
       "model_id": "e58e48a0fc904243b9ac152cf244ffa1",
       "version_major": 2,
       "version_minor": 0
      },
      "text/plain": [
       "  0%|          | 0/20 [00:00<?, ?it/s]"
      ]
     },
     "metadata": {},
     "output_type": "display_data"
    },
    {
     "data": {
      "application/vnd.jupyter.widget-view+json": {
       "model_id": "5711874e7a1c4e7db36c8e8241563039",
       "version_major": 2,
       "version_minor": 0
      },
      "text/plain": [
       "  0%|          | 0/4 [00:00<?, ?it/s]"
      ]
     },
     "metadata": {},
     "output_type": "display_data"
    },
    {
     "data": {
      "application/vnd.jupyter.widget-view+json": {
       "model_id": "f82a440e64e042b5bbb03feb545708aa",
       "version_major": 2,
       "version_minor": 0
      },
      "text/plain": [
       "  0%|          | 0/6 [00:00<?, ?it/s]"
      ]
     },
     "metadata": {},
     "output_type": "display_data"
    },
    {
     "data": {
      "application/vnd.jupyter.widget-view+json": {
       "model_id": "f9a2c2d1943c48548793093550e60a41",
       "version_major": 2,
       "version_minor": 0
      },
      "text/plain": [
       "  0%|          | 0/4 [00:00<?, ?it/s]"
      ]
     },
     "metadata": {},
     "output_type": "display_data"
    },
    {
     "data": {
      "application/vnd.jupyter.widget-view+json": {
       "model_id": "1d0944f7a26e492e9eec0eee4ddc2a16",
       "version_major": 2,
       "version_minor": 0
      },
      "text/plain": [
       "  0%|          | 0/17 [00:00<?, ?it/s]"
      ]
     },
     "metadata": {},
     "output_type": "display_data"
    },
    {
     "data": {
      "application/vnd.jupyter.widget-view+json": {
       "model_id": "49e49f35c14343fba227119f01e84e41",
       "version_major": 2,
       "version_minor": 0
      },
      "text/plain": [
       "  0%|          | 0/2 [00:00<?, ?it/s]"
      ]
     },
     "metadata": {},
     "output_type": "display_data"
    },
    {
     "data": {
      "application/vnd.jupyter.widget-view+json": {
       "model_id": "91eb196a366a4b65ae7c925d0c330da4",
       "version_major": 2,
       "version_minor": 0
      },
      "text/plain": [
       "  0%|          | 0/7 [00:00<?, ?it/s]"
      ]
     },
     "metadata": {},
     "output_type": "display_data"
    },
    {
     "data": {
      "application/vnd.jupyter.widget-view+json": {
       "model_id": "1f94dfa57d164b2b854263b73611c6c3",
       "version_major": 2,
       "version_minor": 0
      },
      "text/plain": [
       "  0%|          | 0/16 [00:00<?, ?it/s]"
      ]
     },
     "metadata": {},
     "output_type": "display_data"
    },
    {
     "data": {
      "application/vnd.jupyter.widget-view+json": {
       "model_id": "13ab9d30427e42ab86d3167b187862a1",
       "version_major": 2,
       "version_minor": 0
      },
      "text/plain": [
       "  0%|          | 0/5 [00:00<?, ?it/s]"
      ]
     },
     "metadata": {},
     "output_type": "display_data"
    },
    {
     "data": {
      "application/vnd.jupyter.widget-view+json": {
       "model_id": "b7c15538bab845c9bc3d4e5d98bd1cec",
       "version_major": 2,
       "version_minor": 0
      },
      "text/plain": [
       "  0%|          | 0/4 [00:00<?, ?it/s]"
      ]
     },
     "metadata": {},
     "output_type": "display_data"
    },
    {
     "data": {
      "application/vnd.jupyter.widget-view+json": {
       "model_id": "6ca421f3b5694684b242b6538d66c483",
       "version_major": 2,
       "version_minor": 0
      },
      "text/plain": [
       "  0%|          | 0/10 [00:00<?, ?it/s]"
      ]
     },
     "metadata": {},
     "output_type": "display_data"
    },
    {
     "data": {
      "application/vnd.jupyter.widget-view+json": {
       "model_id": "81667226e4a94256894f9eeb3db1d82a",
       "version_major": 2,
       "version_minor": 0
      },
      "text/plain": [
       "  0%|          | 0/7 [00:00<?, ?it/s]"
      ]
     },
     "metadata": {},
     "output_type": "display_data"
    },
    {
     "data": {
      "application/vnd.jupyter.widget-view+json": {
       "model_id": "1d38aa7fd54a44df92a0ed4115cc9f2c",
       "version_major": 2,
       "version_minor": 0
      },
      "text/plain": [
       "  0%|          | 0/11 [00:00<?, ?it/s]"
      ]
     },
     "metadata": {},
     "output_type": "display_data"
    },
    {
     "data": {
      "application/vnd.jupyter.widget-view+json": {
       "model_id": "68415f95ff6d4cd19186f5e488de63da",
       "version_major": 2,
       "version_minor": 0
      },
      "text/plain": [
       "  0%|          | 0/12 [00:00<?, ?it/s]"
      ]
     },
     "metadata": {},
     "output_type": "display_data"
    },
    {
     "data": {
      "application/vnd.jupyter.widget-view+json": {
       "model_id": "4642189071704f9eb05b6251417acc27",
       "version_major": 2,
       "version_minor": 0
      },
      "text/plain": [
       "  0%|          | 0/8 [00:00<?, ?it/s]"
      ]
     },
     "metadata": {},
     "output_type": "display_data"
    },
    {
     "data": {
      "application/vnd.jupyter.widget-view+json": {
       "model_id": "7bdc4b58b7334ef49bd302c05cc2b26a",
       "version_major": 2,
       "version_minor": 0
      },
      "text/plain": [
       "  0%|          | 0/6 [00:00<?, ?it/s]"
      ]
     },
     "metadata": {},
     "output_type": "display_data"
    },
    {
     "data": {
      "application/vnd.jupyter.widget-view+json": {
       "model_id": "90ec2254689a41caaee25e730f48e340",
       "version_major": 2,
       "version_minor": 0
      },
      "text/plain": [
       "  0%|          | 0/14 [00:00<?, ?it/s]"
      ]
     },
     "metadata": {},
     "output_type": "display_data"
    },
    {
     "data": {
      "application/vnd.jupyter.widget-view+json": {
       "model_id": "2f9e50bb8c824d93af258e85879c5a77",
       "version_major": 2,
       "version_minor": 0
      },
      "text/plain": [
       "  0%|          | 0/7 [00:00<?, ?it/s]"
      ]
     },
     "metadata": {},
     "output_type": "display_data"
    },
    {
     "data": {
      "application/vnd.jupyter.widget-view+json": {
       "model_id": "3bc059fa05a9452198fb0a405392a921",
       "version_major": 2,
       "version_minor": 0
      },
      "text/plain": [
       "  0%|          | 0/10 [00:00<?, ?it/s]"
      ]
     },
     "metadata": {},
     "output_type": "display_data"
    },
    {
     "data": {
      "application/vnd.jupyter.widget-view+json": {
       "model_id": "6239b44ab7d54b19aaf159b206371512",
       "version_major": 2,
       "version_minor": 0
      },
      "text/plain": [
       "  0%|          | 0/18 [00:00<?, ?it/s]"
      ]
     },
     "metadata": {},
     "output_type": "display_data"
    },
    {
     "data": {
      "application/vnd.jupyter.widget-view+json": {
       "model_id": "34fba349203a405395735b27202b621d",
       "version_major": 2,
       "version_minor": 0
      },
      "text/plain": [
       "  0%|          | 0/6 [00:00<?, ?it/s]"
      ]
     },
     "metadata": {},
     "output_type": "display_data"
    },
    {
     "data": {
      "application/vnd.jupyter.widget-view+json": {
       "model_id": "53a3256934c34fd28137b7a6c80b8e2a",
       "version_major": 2,
       "version_minor": 0
      },
      "text/plain": [
       "  0%|          | 0/7 [00:00<?, ?it/s]"
      ]
     },
     "metadata": {},
     "output_type": "display_data"
    },
    {
     "data": {
      "application/vnd.jupyter.widget-view+json": {
       "model_id": "a4525ab5c2104f1d8da1f5be187e7218",
       "version_major": 2,
       "version_minor": 0
      },
      "text/plain": [
       "  0%|          | 0/21 [00:00<?, ?it/s]"
      ]
     },
     "metadata": {},
     "output_type": "display_data"
    },
    {
     "data": {
      "application/vnd.jupyter.widget-view+json": {
       "model_id": "5328a53a5153497bb4a2fba7c6fff19d",
       "version_major": 2,
       "version_minor": 0
      },
      "text/plain": [
       "  0%|          | 0/4 [00:00<?, ?it/s]"
      ]
     },
     "metadata": {},
     "output_type": "display_data"
    },
    {
     "data": {
      "application/vnd.jupyter.widget-view+json": {
       "model_id": "8581475444de4474aaf743edc341a8f9",
       "version_major": 2,
       "version_minor": 0
      },
      "text/plain": [
       "  0%|          | 0/4 [00:00<?, ?it/s]"
      ]
     },
     "metadata": {},
     "output_type": "display_data"
    },
    {
     "data": {
      "application/vnd.jupyter.widget-view+json": {
       "model_id": "096b8dfa93174909b64844b7eb3fde0e",
       "version_major": 2,
       "version_minor": 0
      },
      "text/plain": [
       "  0%|          | 0/5 [00:00<?, ?it/s]"
      ]
     },
     "metadata": {},
     "output_type": "display_data"
    },
    {
     "data": {
      "application/vnd.jupyter.widget-view+json": {
       "model_id": "d0d308ab08ec4d2c927e0499db5f0ef2",
       "version_major": 2,
       "version_minor": 0
      },
      "text/plain": [
       "  0%|          | 0/6 [00:00<?, ?it/s]"
      ]
     },
     "metadata": {},
     "output_type": "display_data"
    },
    {
     "data": {
      "application/vnd.jupyter.widget-view+json": {
       "model_id": "2b14860a027645b3a036ef2822e4f6c8",
       "version_major": 2,
       "version_minor": 0
      },
      "text/plain": [
       "  0%|          | 0/10 [00:00<?, ?it/s]"
      ]
     },
     "metadata": {},
     "output_type": "display_data"
    },
    {
     "data": {
      "application/vnd.jupyter.widget-view+json": {
       "model_id": "54794d36a1bf48abb465e8299b035195",
       "version_major": 2,
       "version_minor": 0
      },
      "text/plain": [
       "  0%|          | 0/5 [00:00<?, ?it/s]"
      ]
     },
     "metadata": {},
     "output_type": "display_data"
    },
    {
     "data": {
      "application/vnd.jupyter.widget-view+json": {
       "model_id": "ca4ea33ff0444773a8447d4852439773",
       "version_major": 2,
       "version_minor": 0
      },
      "text/plain": [
       "  0%|          | 0/7 [00:00<?, ?it/s]"
      ]
     },
     "metadata": {},
     "output_type": "display_data"
    },
    {
     "data": {
      "application/vnd.jupyter.widget-view+json": {
       "model_id": "d7049436010348119aa6c3e7331a8406",
       "version_major": 2,
       "version_minor": 0
      },
      "text/plain": [
       "  0%|          | 0/5 [00:00<?, ?it/s]"
      ]
     },
     "metadata": {},
     "output_type": "display_data"
    },
    {
     "data": {
      "application/vnd.jupyter.widget-view+json": {
       "model_id": "4eab8df283ea4917ae3d84f0d9aa48f9",
       "version_major": 2,
       "version_minor": 0
      },
      "text/plain": [
       "  0%|          | 0/9 [00:00<?, ?it/s]"
      ]
     },
     "metadata": {},
     "output_type": "display_data"
    },
    {
     "data": {
      "application/vnd.jupyter.widget-view+json": {
       "model_id": "6f0be5cc456347d0af1cb37fef913345",
       "version_major": 2,
       "version_minor": 0
      },
      "text/plain": [
       "  0%|          | 0/10 [00:00<?, ?it/s]"
      ]
     },
     "metadata": {},
     "output_type": "display_data"
    },
    {
     "data": {
      "application/vnd.jupyter.widget-view+json": {
       "model_id": "2f9ad8c891d34d4e81795f00feb975c3",
       "version_major": 2,
       "version_minor": 0
      },
      "text/plain": [
       "  0%|          | 0/13 [00:00<?, ?it/s]"
      ]
     },
     "metadata": {},
     "output_type": "display_data"
    },
    {
     "data": {
      "application/vnd.jupyter.widget-view+json": {
       "model_id": "85296208faee4841ab6ab16d0f685463",
       "version_major": 2,
       "version_minor": 0
      },
      "text/plain": [
       "  0%|          | 0/17 [00:00<?, ?it/s]"
      ]
     },
     "metadata": {},
     "output_type": "display_data"
    },
    {
     "data": {
      "application/vnd.jupyter.widget-view+json": {
       "model_id": "5cc42320e5054ca0ae4f40569669eab7",
       "version_major": 2,
       "version_minor": 0
      },
      "text/plain": [
       "  0%|          | 0/8 [00:00<?, ?it/s]"
      ]
     },
     "metadata": {},
     "output_type": "display_data"
    },
    {
     "data": {
      "application/vnd.jupyter.widget-view+json": {
       "model_id": "68b0d99d9d1641e8bfd406978d706e4e",
       "version_major": 2,
       "version_minor": 0
      },
      "text/plain": [
       "  0%|          | 0/10 [00:00<?, ?it/s]"
      ]
     },
     "metadata": {},
     "output_type": "display_data"
    },
    {
     "data": {
      "application/vnd.jupyter.widget-view+json": {
       "model_id": "193e0c480e904c608c8f23a498cbf619",
       "version_major": 2,
       "version_minor": 0
      },
      "text/plain": [
       "  0%|          | 0/18 [00:00<?, ?it/s]"
      ]
     },
     "metadata": {},
     "output_type": "display_data"
    },
    {
     "data": {
      "application/vnd.jupyter.widget-view+json": {
       "model_id": "c4aba2b1e1bb4be1b685ad748b4a09bd",
       "version_major": 2,
       "version_minor": 0
      },
      "text/plain": [
       "  0%|          | 0/4 [00:00<?, ?it/s]"
      ]
     },
     "metadata": {},
     "output_type": "display_data"
    },
    {
     "data": {
      "application/vnd.jupyter.widget-view+json": {
       "model_id": "cd85c6a2abf34a099e354152aa656003",
       "version_major": 2,
       "version_minor": 0
      },
      "text/plain": [
       "  0%|          | 0/7 [00:00<?, ?it/s]"
      ]
     },
     "metadata": {},
     "output_type": "display_data"
    },
    {
     "data": {
      "application/vnd.jupyter.widget-view+json": {
       "model_id": "f4bc7060e676457aa4099c098b190b19",
       "version_major": 2,
       "version_minor": 0
      },
      "text/plain": [
       "  0%|          | 0/3 [00:00<?, ?it/s]"
      ]
     },
     "metadata": {},
     "output_type": "display_data"
    },
    {
     "data": {
      "application/vnd.jupyter.widget-view+json": {
       "model_id": "7bd11c03a555463fb1a36ffec370d760",
       "version_major": 2,
       "version_minor": 0
      },
      "text/plain": [
       "  0%|          | 0/19 [00:00<?, ?it/s]"
      ]
     },
     "metadata": {},
     "output_type": "display_data"
    },
    {
     "data": {
      "application/vnd.jupyter.widget-view+json": {
       "model_id": "9f359d3933be4dfaa445613a180b4daa",
       "version_major": 2,
       "version_minor": 0
      },
      "text/plain": [
       "  0%|          | 0/6 [00:00<?, ?it/s]"
      ]
     },
     "metadata": {},
     "output_type": "display_data"
    },
    {
     "data": {
      "application/vnd.jupyter.widget-view+json": {
       "model_id": "1d982df1b7024c48a248d03d78e9d2b5",
       "version_major": 2,
       "version_minor": 0
      },
      "text/plain": [
       "  0%|          | 0/9 [00:00<?, ?it/s]"
      ]
     },
     "metadata": {},
     "output_type": "display_data"
    },
    {
     "data": {
      "application/vnd.jupyter.widget-view+json": {
       "model_id": "e5a9ce20cd364f9197d0fadb4fb8689b",
       "version_major": 2,
       "version_minor": 0
      },
      "text/plain": [
       "  0%|          | 0/10 [00:00<?, ?it/s]"
      ]
     },
     "metadata": {},
     "output_type": "display_data"
    },
    {
     "data": {
      "application/vnd.jupyter.widget-view+json": {
       "model_id": "827f57db14e24714916520249b674b4c",
       "version_major": 2,
       "version_minor": 0
      },
      "text/plain": [
       "  0%|          | 0/4 [00:00<?, ?it/s]"
      ]
     },
     "metadata": {},
     "output_type": "display_data"
    },
    {
     "data": {
      "application/vnd.jupyter.widget-view+json": {
       "model_id": "0a8055f299854b2fa9013c6aa9a07bad",
       "version_major": 2,
       "version_minor": 0
      },
      "text/plain": [
       "  0%|          | 0/29 [00:00<?, ?it/s]"
      ]
     },
     "metadata": {},
     "output_type": "display_data"
    },
    {
     "data": {
      "application/vnd.jupyter.widget-view+json": {
       "model_id": "c9f48c2eb3184c0e81dae552b7e7b0df",
       "version_major": 2,
       "version_minor": 0
      },
      "text/plain": [
       "  0%|          | 0/4 [00:00<?, ?it/s]"
      ]
     },
     "metadata": {},
     "output_type": "display_data"
    },
    {
     "data": {
      "application/vnd.jupyter.widget-view+json": {
       "model_id": "4e5f474b41db4bf1be874aaf963183d1",
       "version_major": 2,
       "version_minor": 0
      },
      "text/plain": [
       "  0%|          | 0/4 [00:00<?, ?it/s]"
      ]
     },
     "metadata": {},
     "output_type": "display_data"
    },
    {
     "data": {
      "application/vnd.jupyter.widget-view+json": {
       "model_id": "d3aaa625e5e94c08ab2125cb01ae91f6",
       "version_major": 2,
       "version_minor": 0
      },
      "text/plain": [
       "  0%|          | 0/20 [00:00<?, ?it/s]"
      ]
     },
     "metadata": {},
     "output_type": "display_data"
    },
    {
     "data": {
      "application/vnd.jupyter.widget-view+json": {
       "model_id": "876cadff454f493c9b9ed3cdaf736afc",
       "version_major": 2,
       "version_minor": 0
      },
      "text/plain": [
       "  0%|          | 0/13 [00:00<?, ?it/s]"
      ]
     },
     "metadata": {},
     "output_type": "display_data"
    },
    {
     "data": {
      "application/vnd.jupyter.widget-view+json": {
       "model_id": "c2317fc4019e45448d2671f35aa0074b",
       "version_major": 2,
       "version_minor": 0
      },
      "text/plain": [
       "  0%|          | 0/13 [00:00<?, ?it/s]"
      ]
     },
     "metadata": {},
     "output_type": "display_data"
    },
    {
     "data": {
      "application/vnd.jupyter.widget-view+json": {
       "model_id": "d84697dccfa44349b0d23e7c571a7e22",
       "version_major": 2,
       "version_minor": 0
      },
      "text/plain": [
       "  0%|          | 0/3 [00:00<?, ?it/s]"
      ]
     },
     "metadata": {},
     "output_type": "display_data"
    },
    {
     "data": {
      "application/vnd.jupyter.widget-view+json": {
       "model_id": "55aa22c3a1ad44be9a039fe36de7c983",
       "version_major": 2,
       "version_minor": 0
      },
      "text/plain": [
       "  0%|          | 0/12 [00:00<?, ?it/s]"
      ]
     },
     "metadata": {},
     "output_type": "display_data"
    },
    {
     "data": {
      "application/vnd.jupyter.widget-view+json": {
       "model_id": "7a479651b8eb4ed7aa5c8ea2a0544015",
       "version_major": 2,
       "version_minor": 0
      },
      "text/plain": [
       "  0%|          | 0/23 [00:00<?, ?it/s]"
      ]
     },
     "metadata": {},
     "output_type": "display_data"
    },
    {
     "data": {
      "application/vnd.jupyter.widget-view+json": {
       "model_id": "03aa74d774b24ed99fb9434bdd8594a9",
       "version_major": 2,
       "version_minor": 0
      },
      "text/plain": [
       "  0%|          | 0/13 [00:00<?, ?it/s]"
      ]
     },
     "metadata": {},
     "output_type": "display_data"
    },
    {
     "data": {
      "application/vnd.jupyter.widget-view+json": {
       "model_id": "b5ba4436dd91430193d0d2d8816b6548",
       "version_major": 2,
       "version_minor": 0
      },
      "text/plain": [
       "  0%|          | 0/4 [00:00<?, ?it/s]"
      ]
     },
     "metadata": {},
     "output_type": "display_data"
    },
    {
     "data": {
      "application/vnd.jupyter.widget-view+json": {
       "model_id": "aaad5789c0c3440a924de2f9368248e8",
       "version_major": 2,
       "version_minor": 0
      },
      "text/plain": [
       "  0%|          | 0/25 [00:00<?, ?it/s]"
      ]
     },
     "metadata": {},
     "output_type": "display_data"
    },
    {
     "data": {
      "application/vnd.jupyter.widget-view+json": {
       "model_id": "9e0925d3b32c434fb2d44e0079438c28",
       "version_major": 2,
       "version_minor": 0
      },
      "text/plain": [
       "  0%|          | 0/16 [00:00<?, ?it/s]"
      ]
     },
     "metadata": {},
     "output_type": "display_data"
    },
    {
     "data": {
      "application/vnd.jupyter.widget-view+json": {
       "model_id": "821858077fd441e384135937a3332949",
       "version_major": 2,
       "version_minor": 0
      },
      "text/plain": [
       "  0%|          | 0/16 [00:00<?, ?it/s]"
      ]
     },
     "metadata": {},
     "output_type": "display_data"
    },
    {
     "data": {
      "application/vnd.jupyter.widget-view+json": {
       "model_id": "eb9c45965ae74ae7a62a5f5102202691",
       "version_major": 2,
       "version_minor": 0
      },
      "text/plain": [
       "  0%|          | 0/5 [00:00<?, ?it/s]"
      ]
     },
     "metadata": {},
     "output_type": "display_data"
    },
    {
     "data": {
      "application/vnd.jupyter.widget-view+json": {
       "model_id": "e4b42ee99085498e8e4e53a41d71e10f",
       "version_major": 2,
       "version_minor": 0
      },
      "text/plain": [
       "  0%|          | 0/9 [00:00<?, ?it/s]"
      ]
     },
     "metadata": {},
     "output_type": "display_data"
    },
    {
     "data": {
      "application/vnd.jupyter.widget-view+json": {
       "model_id": "ca8bb1a52ec5492db3cf623b733b094b",
       "version_major": 2,
       "version_minor": 0
      },
      "text/plain": [
       "  0%|          | 0/5 [00:00<?, ?it/s]"
      ]
     },
     "metadata": {},
     "output_type": "display_data"
    },
    {
     "data": {
      "application/vnd.jupyter.widget-view+json": {
       "model_id": "16a3d00b31e34148bd53eb2f820415a5",
       "version_major": 2,
       "version_minor": 0
      },
      "text/plain": [
       "  0%|          | 0/16 [00:00<?, ?it/s]"
      ]
     },
     "metadata": {},
     "output_type": "display_data"
    },
    {
     "data": {
      "application/vnd.jupyter.widget-view+json": {
       "model_id": "f3a01d0d044d4621ab8be2bbc65f13df",
       "version_major": 2,
       "version_minor": 0
      },
      "text/plain": [
       "  0%|          | 0/10 [00:00<?, ?it/s]"
      ]
     },
     "metadata": {},
     "output_type": "display_data"
    },
    {
     "data": {
      "application/vnd.jupyter.widget-view+json": {
       "model_id": "ec5afaa93c0349e9a589e068667d5039",
       "version_major": 2,
       "version_minor": 0
      },
      "text/plain": [
       "  0%|          | 0/18 [00:00<?, ?it/s]"
      ]
     },
     "metadata": {},
     "output_type": "display_data"
    },
    {
     "data": {
      "application/vnd.jupyter.widget-view+json": {
       "model_id": "3fd65a5b59e143c98b8cc2a9ce2dad19",
       "version_major": 2,
       "version_minor": 0
      },
      "text/plain": [
       "  0%|          | 0/6 [00:00<?, ?it/s]"
      ]
     },
     "metadata": {},
     "output_type": "display_data"
    },
    {
     "data": {
      "application/vnd.jupyter.widget-view+json": {
       "model_id": "039a588d3d074ed5a3642e326ab4ec43",
       "version_major": 2,
       "version_minor": 0
      },
      "text/plain": [
       "  0%|          | 0/18 [00:00<?, ?it/s]"
      ]
     },
     "metadata": {},
     "output_type": "display_data"
    },
    {
     "data": {
      "application/vnd.jupyter.widget-view+json": {
       "model_id": "4a2154251e524134818b85cfde90d56b",
       "version_major": 2,
       "version_minor": 0
      },
      "text/plain": [
       "  0%|          | 0/30 [00:00<?, ?it/s]"
      ]
     },
     "metadata": {},
     "output_type": "display_data"
    },
    {
     "data": {
      "application/vnd.jupyter.widget-view+json": {
       "model_id": "dfb4741abf5a4217934a9bff5b8cfe79",
       "version_major": 2,
       "version_minor": 0
      },
      "text/plain": [
       "  0%|          | 0/6 [00:00<?, ?it/s]"
      ]
     },
     "metadata": {},
     "output_type": "display_data"
    },
    {
     "data": {
      "application/vnd.jupyter.widget-view+json": {
       "model_id": "ee50be34cca346b5ac5b6121edf0f353",
       "version_major": 2,
       "version_minor": 0
      },
      "text/plain": [
       "  0%|          | 0/4 [00:00<?, ?it/s]"
      ]
     },
     "metadata": {},
     "output_type": "display_data"
    },
    {
     "data": {
      "application/vnd.jupyter.widget-view+json": {
       "model_id": "b6d51f9e51c544dbb199b8e6c8b12bf0",
       "version_major": 2,
       "version_minor": 0
      },
      "text/plain": [
       "  0%|          | 0/4 [00:00<?, ?it/s]"
      ]
     },
     "metadata": {},
     "output_type": "display_data"
    },
    {
     "data": {
      "application/vnd.jupyter.widget-view+json": {
       "model_id": "6a06b582e721498ab0873796ca3d0681",
       "version_major": 2,
       "version_minor": 0
      },
      "text/plain": [
       "  0%|          | 0/25 [00:00<?, ?it/s]"
      ]
     },
     "metadata": {},
     "output_type": "display_data"
    },
    {
     "data": {
      "application/vnd.jupyter.widget-view+json": {
       "model_id": "1bca0526b17e49e3afc64b081e38ec8f",
       "version_major": 2,
       "version_minor": 0
      },
      "text/plain": [
       "  0%|          | 0/2 [00:00<?, ?it/s]"
      ]
     },
     "metadata": {},
     "output_type": "display_data"
    },
    {
     "data": {
      "application/vnd.jupyter.widget-view+json": {
       "model_id": "4cbc3dae4b62477aad016d24b4dc13d5",
       "version_major": 2,
       "version_minor": 0
      },
      "text/plain": [
       "  0%|          | 0/6 [00:00<?, ?it/s]"
      ]
     },
     "metadata": {},
     "output_type": "display_data"
    },
    {
     "data": {
      "application/vnd.jupyter.widget-view+json": {
       "model_id": "541cdd4bd50b4852ad86d1645cc1a2ec",
       "version_major": 2,
       "version_minor": 0
      },
      "text/plain": [
       "  0%|          | 0/5 [00:00<?, ?it/s]"
      ]
     },
     "metadata": {},
     "output_type": "display_data"
    },
    {
     "data": {
      "application/vnd.jupyter.widget-view+json": {
       "model_id": "594f215e411e47ff8078f5e058c36628",
       "version_major": 2,
       "version_minor": 0
      },
      "text/plain": [
       "  0%|          | 0/6 [00:00<?, ?it/s]"
      ]
     },
     "metadata": {},
     "output_type": "display_data"
    },
    {
     "data": {
      "application/vnd.jupyter.widget-view+json": {
       "model_id": "c89830a9115245778bc4fddad3c0433f",
       "version_major": 2,
       "version_minor": 0
      },
      "text/plain": [
       "  0%|          | 0/4 [00:00<?, ?it/s]"
      ]
     },
     "metadata": {},
     "output_type": "display_data"
    },
    {
     "data": {
      "application/vnd.jupyter.widget-view+json": {
       "model_id": "37be5c267e8043f3bfd41f45d41f9a52",
       "version_major": 2,
       "version_minor": 0
      },
      "text/plain": [
       "  0%|          | 0/5 [00:00<?, ?it/s]"
      ]
     },
     "metadata": {},
     "output_type": "display_data"
    },
    {
     "data": {
      "application/vnd.jupyter.widget-view+json": {
       "model_id": "b926ee0dfc1849ee8aec786ffb531105",
       "version_major": 2,
       "version_minor": 0
      },
      "text/plain": [
       "  0%|          | 0/14 [00:00<?, ?it/s]"
      ]
     },
     "metadata": {},
     "output_type": "display_data"
    },
    {
     "data": {
      "application/vnd.jupyter.widget-view+json": {
       "model_id": "ed52b99441044684b33bf8ab86dc399d",
       "version_major": 2,
       "version_minor": 0
      },
      "text/plain": [
       "  0%|          | 0/7 [00:00<?, ?it/s]"
      ]
     },
     "metadata": {},
     "output_type": "display_data"
    },
    {
     "data": {
      "application/vnd.jupyter.widget-view+json": {
       "model_id": "5914e66a4cc34f94a2ae03c3af1d9ee8",
       "version_major": 2,
       "version_minor": 0
      },
      "text/plain": [
       "  0%|          | 0/6 [00:00<?, ?it/s]"
      ]
     },
     "metadata": {},
     "output_type": "display_data"
    },
    {
     "data": {
      "application/vnd.jupyter.widget-view+json": {
       "model_id": "da6407292bcd43d0a7d14ca51b2c7d72",
       "version_major": 2,
       "version_minor": 0
      },
      "text/plain": [
       "  0%|          | 0/5 [00:00<?, ?it/s]"
      ]
     },
     "metadata": {},
     "output_type": "display_data"
    },
    {
     "data": {
      "application/vnd.jupyter.widget-view+json": {
       "model_id": "f7ed529f27534bb9abf700a4585d4b40",
       "version_major": 2,
       "version_minor": 0
      },
      "text/plain": [
       "  0%|          | 0/5 [00:00<?, ?it/s]"
      ]
     },
     "metadata": {},
     "output_type": "display_data"
    },
    {
     "data": {
      "application/vnd.jupyter.widget-view+json": {
       "model_id": "21c4db8d5361434583e61518bed5265c",
       "version_major": 2,
       "version_minor": 0
      },
      "text/plain": [
       "  0%|          | 0/15 [00:00<?, ?it/s]"
      ]
     },
     "metadata": {},
     "output_type": "display_data"
    },
    {
     "data": {
      "application/vnd.jupyter.widget-view+json": {
       "model_id": "aa75b6fa38ec4c36a09a9ae07231a6ae",
       "version_major": 2,
       "version_minor": 0
      },
      "text/plain": [
       "  0%|          | 0/7 [00:00<?, ?it/s]"
      ]
     },
     "metadata": {},
     "output_type": "display_data"
    },
    {
     "data": {
      "application/vnd.jupyter.widget-view+json": {
       "model_id": "14c64121e1e342599fdae0501510d1d7",
       "version_major": 2,
       "version_minor": 0
      },
      "text/plain": [
       "  0%|          | 0/12 [00:00<?, ?it/s]"
      ]
     },
     "metadata": {},
     "output_type": "display_data"
    },
    {
     "data": {
      "application/vnd.jupyter.widget-view+json": {
       "model_id": "be87a04d1dad49dbadca590d3bcb6dc7",
       "version_major": 2,
       "version_minor": 0
      },
      "text/plain": [
       "  0%|          | 0/5 [00:00<?, ?it/s]"
      ]
     },
     "metadata": {},
     "output_type": "display_data"
    },
    {
     "data": {
      "application/vnd.jupyter.widget-view+json": {
       "model_id": "eed10984ee7a48a6be70d2fd06e55039",
       "version_major": 2,
       "version_minor": 0
      },
      "text/plain": [
       "  0%|          | 0/11 [00:00<?, ?it/s]"
      ]
     },
     "metadata": {},
     "output_type": "display_data"
    },
    {
     "data": {
      "application/vnd.jupyter.widget-view+json": {
       "model_id": "12340970ca494d5f98c7f818560b7a5e",
       "version_major": 2,
       "version_minor": 0
      },
      "text/plain": [
       "  0%|          | 0/7 [00:00<?, ?it/s]"
      ]
     },
     "metadata": {},
     "output_type": "display_data"
    },
    {
     "data": {
      "application/vnd.jupyter.widget-view+json": {
       "model_id": "5b2b8fb31c584609acdf1830187cc451",
       "version_major": 2,
       "version_minor": 0
      },
      "text/plain": [
       "  0%|          | 0/4 [00:00<?, ?it/s]"
      ]
     },
     "metadata": {},
     "output_type": "display_data"
    },
    {
     "data": {
      "application/vnd.jupyter.widget-view+json": {
       "model_id": "23d537c5454f433a89b2b231007a5e7b",
       "version_major": 2,
       "version_minor": 0
      },
      "text/plain": [
       "  0%|          | 0/18 [00:00<?, ?it/s]"
      ]
     },
     "metadata": {},
     "output_type": "display_data"
    },
    {
     "data": {
      "application/vnd.jupyter.widget-view+json": {
       "model_id": "910b14d24f904a70b9b7127e58181c77",
       "version_major": 2,
       "version_minor": 0
      },
      "text/plain": [
       "  0%|          | 0/14 [00:00<?, ?it/s]"
      ]
     },
     "metadata": {},
     "output_type": "display_data"
    },
    {
     "data": {
      "application/vnd.jupyter.widget-view+json": {
       "model_id": "5a65843785bb48eea335e6d9db70d482",
       "version_major": 2,
       "version_minor": 0
      },
      "text/plain": [
       "  0%|          | 0/8 [00:00<?, ?it/s]"
      ]
     },
     "metadata": {},
     "output_type": "display_data"
    },
    {
     "data": {
      "application/vnd.jupyter.widget-view+json": {
       "model_id": "ffe40f0fecd44a0093a35a4e35ee697b",
       "version_major": 2,
       "version_minor": 0
      },
      "text/plain": [
       "  0%|          | 0/11 [00:00<?, ?it/s]"
      ]
     },
     "metadata": {},
     "output_type": "display_data"
    },
    {
     "data": {
      "application/vnd.jupyter.widget-view+json": {
       "model_id": "d46602ed89134ed4ac7990fe0a6b5463",
       "version_major": 2,
       "version_minor": 0
      },
      "text/plain": [
       "  0%|          | 0/7 [00:00<?, ?it/s]"
      ]
     },
     "metadata": {},
     "output_type": "display_data"
    },
    {
     "data": {
      "application/vnd.jupyter.widget-view+json": {
       "model_id": "71736336317b4fd2a5349ce00d3d32b2",
       "version_major": 2,
       "version_minor": 0
      },
      "text/plain": [
       "  0%|          | 0/5 [00:00<?, ?it/s]"
      ]
     },
     "metadata": {},
     "output_type": "display_data"
    },
    {
     "data": {
      "application/vnd.jupyter.widget-view+json": {
       "model_id": "7bb4480c4794463da7f21e085a90b4a6",
       "version_major": 2,
       "version_minor": 0
      },
      "text/plain": [
       "  0%|          | 0/8 [00:00<?, ?it/s]"
      ]
     },
     "metadata": {},
     "output_type": "display_data"
    },
    {
     "data": {
      "application/vnd.jupyter.widget-view+json": {
       "model_id": "127fe89e7f05407e98468a9b4808f21c",
       "version_major": 2,
       "version_minor": 0
      },
      "text/plain": [
       "  0%|          | 0/5 [00:00<?, ?it/s]"
      ]
     },
     "metadata": {},
     "output_type": "display_data"
    },
    {
     "data": {
      "application/vnd.jupyter.widget-view+json": {
       "model_id": "c725984603ab470db699045a20ed07a6",
       "version_major": 2,
       "version_minor": 0
      },
      "text/plain": [
       "  0%|          | 0/24 [00:00<?, ?it/s]"
      ]
     },
     "metadata": {},
     "output_type": "display_data"
    },
    {
     "data": {
      "application/vnd.jupyter.widget-view+json": {
       "model_id": "2648c1aecd554cd996b64f28c3d14514",
       "version_major": 2,
       "version_minor": 0
      },
      "text/plain": [
       "  0%|          | 0/9 [00:00<?, ?it/s]"
      ]
     },
     "metadata": {},
     "output_type": "display_data"
    },
    {
     "data": {
      "application/vnd.jupyter.widget-view+json": {
       "model_id": "df435dd4fb924648a82c75fbea8182b1",
       "version_major": 2,
       "version_minor": 0
      },
      "text/plain": [
       "  0%|          | 0/14 [00:00<?, ?it/s]"
      ]
     },
     "metadata": {},
     "output_type": "display_data"
    },
    {
     "data": {
      "application/vnd.jupyter.widget-view+json": {
       "model_id": "87b7890169be4967b613b44027b3a6db",
       "version_major": 2,
       "version_minor": 0
      },
      "text/plain": [
       "  0%|          | 0/13 [00:00<?, ?it/s]"
      ]
     },
     "metadata": {},
     "output_type": "display_data"
    },
    {
     "data": {
      "application/vnd.jupyter.widget-view+json": {
       "model_id": "6a76b215d1874aeb9a42006a0147d1dd",
       "version_major": 2,
       "version_minor": 0
      },
      "text/plain": [
       "  0%|          | 0/11 [00:00<?, ?it/s]"
      ]
     },
     "metadata": {},
     "output_type": "display_data"
    },
    {
     "data": {
      "application/vnd.jupyter.widget-view+json": {
       "model_id": "b85e6b3f0f9e4fa2ab663f881cad6bb4",
       "version_major": 2,
       "version_minor": 0
      },
      "text/plain": [
       "  0%|          | 0/9 [00:00<?, ?it/s]"
      ]
     },
     "metadata": {},
     "output_type": "display_data"
    },
    {
     "data": {
      "application/vnd.jupyter.widget-view+json": {
       "model_id": "4c0dfee1a7fc454c8bc87cf8625f3c4c",
       "version_major": 2,
       "version_minor": 0
      },
      "text/plain": [
       "  0%|          | 0/6 [00:00<?, ?it/s]"
      ]
     },
     "metadata": {},
     "output_type": "display_data"
    },
    {
     "data": {
      "application/vnd.jupyter.widget-view+json": {
       "model_id": "2c85bf80e421422ba8f2ecf5fac21f2c",
       "version_major": 2,
       "version_minor": 0
      },
      "text/plain": [
       "  0%|          | 0/9 [00:00<?, ?it/s]"
      ]
     },
     "metadata": {},
     "output_type": "display_data"
    },
    {
     "data": {
      "application/vnd.jupyter.widget-view+json": {
       "model_id": "4d4785ca7d6445828a834d08f5e61d77",
       "version_major": 2,
       "version_minor": 0
      },
      "text/plain": [
       "  0%|          | 0/9 [00:00<?, ?it/s]"
      ]
     },
     "metadata": {},
     "output_type": "display_data"
    },
    {
     "data": {
      "application/vnd.jupyter.widget-view+json": {
       "model_id": "1357973d3904496f803f37a6faf2127d",
       "version_major": 2,
       "version_minor": 0
      },
      "text/plain": [
       "  0%|          | 0/9 [00:00<?, ?it/s]"
      ]
     },
     "metadata": {},
     "output_type": "display_data"
    },
    {
     "data": {
      "application/vnd.jupyter.widget-view+json": {
       "model_id": "4c7d6cd75d7e43fc855ed1fa1f0d384b",
       "version_major": 2,
       "version_minor": 0
      },
      "text/plain": [
       "  0%|          | 0/19 [00:00<?, ?it/s]"
      ]
     },
     "metadata": {},
     "output_type": "display_data"
    },
    {
     "data": {
      "application/vnd.jupyter.widget-view+json": {
       "model_id": "cbe02ceec6074d3a8bc8741c3f6e526f",
       "version_major": 2,
       "version_minor": 0
      },
      "text/plain": [
       "  0%|          | 0/14 [00:00<?, ?it/s]"
      ]
     },
     "metadata": {},
     "output_type": "display_data"
    },
    {
     "data": {
      "application/vnd.jupyter.widget-view+json": {
       "model_id": "6a86b78265b24a83a82d1a2469cc5df3",
       "version_major": 2,
       "version_minor": 0
      },
      "text/plain": [
       "  0%|          | 0/19 [00:00<?, ?it/s]"
      ]
     },
     "metadata": {},
     "output_type": "display_data"
    },
    {
     "data": {
      "application/vnd.jupyter.widget-view+json": {
       "model_id": "31ddf353f21d40b1808699a218821ff9",
       "version_major": 2,
       "version_minor": 0
      },
      "text/plain": [
       "  0%|          | 0/12 [00:00<?, ?it/s]"
      ]
     },
     "metadata": {},
     "output_type": "display_data"
    },
    {
     "data": {
      "application/vnd.jupyter.widget-view+json": {
       "model_id": "a188b1538ed0473aa9be96234d86a825",
       "version_major": 2,
       "version_minor": 0
      },
      "text/plain": [
       "  0%|          | 0/4 [00:00<?, ?it/s]"
      ]
     },
     "metadata": {},
     "output_type": "display_data"
    },
    {
     "data": {
      "application/vnd.jupyter.widget-view+json": {
       "model_id": "59057856bbd84a00a690f58cc95629be",
       "version_major": 2,
       "version_minor": 0
      },
      "text/plain": [
       "  0%|          | 0/6 [00:00<?, ?it/s]"
      ]
     },
     "metadata": {},
     "output_type": "display_data"
    },
    {
     "data": {
      "application/vnd.jupyter.widget-view+json": {
       "model_id": "7eb69763ffc34f3c9506f705dd8eaa78",
       "version_major": 2,
       "version_minor": 0
      },
      "text/plain": [
       "  0%|          | 0/5 [00:00<?, ?it/s]"
      ]
     },
     "metadata": {},
     "output_type": "display_data"
    },
    {
     "data": {
      "application/vnd.jupyter.widget-view+json": {
       "model_id": "d4403adf2479439fa4c8cb3923733256",
       "version_major": 2,
       "version_minor": 0
      },
      "text/plain": [
       "  0%|          | 0/13 [00:00<?, ?it/s]"
      ]
     },
     "metadata": {},
     "output_type": "display_data"
    },
    {
     "data": {
      "application/vnd.jupyter.widget-view+json": {
       "model_id": "e52f36ff3bef40d79ca2f2b34d5f63a4",
       "version_major": 2,
       "version_minor": 0
      },
      "text/plain": [
       "  0%|          | 0/9 [00:00<?, ?it/s]"
      ]
     },
     "metadata": {},
     "output_type": "display_data"
    },
    {
     "data": {
      "application/vnd.jupyter.widget-view+json": {
       "model_id": "2d0f5e8870914607938295aa83c961f8",
       "version_major": 2,
       "version_minor": 0
      },
      "text/plain": [
       "  0%|          | 0/8 [00:00<?, ?it/s]"
      ]
     },
     "metadata": {},
     "output_type": "display_data"
    },
    {
     "data": {
      "application/vnd.jupyter.widget-view+json": {
       "model_id": "aab86bf0448b4bf99fabd4f271451548",
       "version_major": 2,
       "version_minor": 0
      },
      "text/plain": [
       "  0%|          | 0/4 [00:00<?, ?it/s]"
      ]
     },
     "metadata": {},
     "output_type": "display_data"
    },
    {
     "data": {
      "application/vnd.jupyter.widget-view+json": {
       "model_id": "f240bd70133a4278a79eca498fc00fec",
       "version_major": 2,
       "version_minor": 0
      },
      "text/plain": [
       "  0%|          | 0/8 [00:00<?, ?it/s]"
      ]
     },
     "metadata": {},
     "output_type": "display_data"
    },
    {
     "data": {
      "application/vnd.jupyter.widget-view+json": {
       "model_id": "50fbe19ec0ed4944916253e7b682b3f6",
       "version_major": 2,
       "version_minor": 0
      },
      "text/plain": [
       "  0%|          | 0/2 [00:00<?, ?it/s]"
      ]
     },
     "metadata": {},
     "output_type": "display_data"
    },
    {
     "data": {
      "application/vnd.jupyter.widget-view+json": {
       "model_id": "6add5ff455c147359e62217a1cb8e489",
       "version_major": 2,
       "version_minor": 0
      },
      "text/plain": [
       "  0%|          | 0/10 [00:00<?, ?it/s]"
      ]
     },
     "metadata": {},
     "output_type": "display_data"
    },
    {
     "data": {
      "application/vnd.jupyter.widget-view+json": {
       "model_id": "2a14e0e8eee942379336910a8abdfeb9",
       "version_major": 2,
       "version_minor": 0
      },
      "text/plain": [
       "  0%|          | 0/4 [00:00<?, ?it/s]"
      ]
     },
     "metadata": {},
     "output_type": "display_data"
    },
    {
     "data": {
      "application/vnd.jupyter.widget-view+json": {
       "model_id": "b746f055b1f941099bbe47b84d8d7e1e",
       "version_major": 2,
       "version_minor": 0
      },
      "text/plain": [
       "  0%|          | 0/7 [00:00<?, ?it/s]"
      ]
     },
     "metadata": {},
     "output_type": "display_data"
    },
    {
     "data": {
      "application/vnd.jupyter.widget-view+json": {
       "model_id": "ac26fb16f6374e538a126cbf6de5a9be",
       "version_major": 2,
       "version_minor": 0
      },
      "text/plain": [
       "  0%|          | 0/6 [00:00<?, ?it/s]"
      ]
     },
     "metadata": {},
     "output_type": "display_data"
    },
    {
     "data": {
      "application/vnd.jupyter.widget-view+json": {
       "model_id": "a0d7519205ee4b2a9c57775bdb840970",
       "version_major": 2,
       "version_minor": 0
      },
      "text/plain": [
       "  0%|          | 0/5 [00:00<?, ?it/s]"
      ]
     },
     "metadata": {},
     "output_type": "display_data"
    },
    {
     "data": {
      "application/vnd.jupyter.widget-view+json": {
       "model_id": "3ac284294d044b58a5bde2c28f123908",
       "version_major": 2,
       "version_minor": 0
      },
      "text/plain": [
       "  0%|          | 0/3 [00:00<?, ?it/s]"
      ]
     },
     "metadata": {},
     "output_type": "display_data"
    },
    {
     "data": {
      "application/vnd.jupyter.widget-view+json": {
       "model_id": "8202993053ca4a3db55ea4405fcdd606",
       "version_major": 2,
       "version_minor": 0
      },
      "text/plain": [
       "  0%|          | 0/4 [00:00<?, ?it/s]"
      ]
     },
     "metadata": {},
     "output_type": "display_data"
    },
    {
     "data": {
      "application/vnd.jupyter.widget-view+json": {
       "model_id": "5911185706264e268cc24631f173ef61",
       "version_major": 2,
       "version_minor": 0
      },
      "text/plain": [
       "  0%|          | 0/13 [00:00<?, ?it/s]"
      ]
     },
     "metadata": {},
     "output_type": "display_data"
    },
    {
     "data": {
      "application/vnd.jupyter.widget-view+json": {
       "model_id": "f191468ae9274f458c7804bffb1a17fd",
       "version_major": 2,
       "version_minor": 0
      },
      "text/plain": [
       "  0%|          | 0/5 [00:00<?, ?it/s]"
      ]
     },
     "metadata": {},
     "output_type": "display_data"
    },
    {
     "data": {
      "application/vnd.jupyter.widget-view+json": {
       "model_id": "935b099bf1e84b318592a6a34b46bec9",
       "version_major": 2,
       "version_minor": 0
      },
      "text/plain": [
       "  0%|          | 0/5 [00:00<?, ?it/s]"
      ]
     },
     "metadata": {},
     "output_type": "display_data"
    },
    {
     "data": {
      "application/vnd.jupyter.widget-view+json": {
       "model_id": "3aebd1aba73d4e82b84871239b6c637d",
       "version_major": 2,
       "version_minor": 0
      },
      "text/plain": [
       "  0%|          | 0/13 [00:00<?, ?it/s]"
      ]
     },
     "metadata": {},
     "output_type": "display_data"
    },
    {
     "data": {
      "application/vnd.jupyter.widget-view+json": {
       "model_id": "e61e689f0c5b44dbb65f58e36a91ac2f",
       "version_major": 2,
       "version_minor": 0
      },
      "text/plain": [
       "  0%|          | 0/10 [00:00<?, ?it/s]"
      ]
     },
     "metadata": {},
     "output_type": "display_data"
    },
    {
     "data": {
      "application/vnd.jupyter.widget-view+json": {
       "model_id": "485c36d02a484baf9d09243bb88a8e40",
       "version_major": 2,
       "version_minor": 0
      },
      "text/plain": [
       "  0%|          | 0/3 [00:00<?, ?it/s]"
      ]
     },
     "metadata": {},
     "output_type": "display_data"
    },
    {
     "data": {
      "application/vnd.jupyter.widget-view+json": {
       "model_id": "ba45e3774b17405c9b58e2345bec5c14",
       "version_major": 2,
       "version_minor": 0
      },
      "text/plain": [
       "  0%|          | 0/13 [00:00<?, ?it/s]"
      ]
     },
     "metadata": {},
     "output_type": "display_data"
    },
    {
     "data": {
      "application/vnd.jupyter.widget-view+json": {
       "model_id": "38e051ce804b4a8b8f02321ac39968c8",
       "version_major": 2,
       "version_minor": 0
      },
      "text/plain": [
       "  0%|          | 0/4 [00:00<?, ?it/s]"
      ]
     },
     "metadata": {},
     "output_type": "display_data"
    },
    {
     "data": {
      "application/vnd.jupyter.widget-view+json": {
       "model_id": "9ddb2caca7fa4b01b8973be7127d03c4",
       "version_major": 2,
       "version_minor": 0
      },
      "text/plain": [
       "  0%|          | 0/5 [00:00<?, ?it/s]"
      ]
     },
     "metadata": {},
     "output_type": "display_data"
    },
    {
     "data": {
      "application/vnd.jupyter.widget-view+json": {
       "model_id": "13f9155c63c840f99fba734d2b562bdb",
       "version_major": 2,
       "version_minor": 0
      },
      "text/plain": [
       "  0%|          | 0/9 [00:00<?, ?it/s]"
      ]
     },
     "metadata": {},
     "output_type": "display_data"
    },
    {
     "data": {
      "application/vnd.jupyter.widget-view+json": {
       "model_id": "06c66751207e41628970c9dd58455a52",
       "version_major": 2,
       "version_minor": 0
      },
      "text/plain": [
       "  0%|          | 0/5 [00:00<?, ?it/s]"
      ]
     },
     "metadata": {},
     "output_type": "display_data"
    },
    {
     "data": {
      "application/vnd.jupyter.widget-view+json": {
       "model_id": "3080f3dc8d164a27a328d0f4390b07e8",
       "version_major": 2,
       "version_minor": 0
      },
      "text/plain": [
       "  0%|          | 0/3 [00:00<?, ?it/s]"
      ]
     },
     "metadata": {},
     "output_type": "display_data"
    },
    {
     "data": {
      "application/vnd.jupyter.widget-view+json": {
       "model_id": "33a5e0d47e9e485ea1a94f1b626a7080",
       "version_major": 2,
       "version_minor": 0
      },
      "text/plain": [
       "  0%|          | 0/5 [00:00<?, ?it/s]"
      ]
     },
     "metadata": {},
     "output_type": "display_data"
    },
    {
     "data": {
      "application/vnd.jupyter.widget-view+json": {
       "model_id": "10a051bd8fa347cc9d16fc69fcee437c",
       "version_major": 2,
       "version_minor": 0
      },
      "text/plain": [
       "  0%|          | 0/6 [00:00<?, ?it/s]"
      ]
     },
     "metadata": {},
     "output_type": "display_data"
    },
    {
     "data": {
      "application/vnd.jupyter.widget-view+json": {
       "model_id": "7797115bc46543c69f1c4240f6a90b12",
       "version_major": 2,
       "version_minor": 0
      },
      "text/plain": [
       "  0%|          | 0/6 [00:00<?, ?it/s]"
      ]
     },
     "metadata": {},
     "output_type": "display_data"
    },
    {
     "data": {
      "application/vnd.jupyter.widget-view+json": {
       "model_id": "5c354ae0d2e04288b95808426c95d65c",
       "version_major": 2,
       "version_minor": 0
      },
      "text/plain": [
       "  0%|          | 0/3 [00:00<?, ?it/s]"
      ]
     },
     "metadata": {},
     "output_type": "display_data"
    },
    {
     "data": {
      "application/vnd.jupyter.widget-view+json": {
       "model_id": "49b9c1f4a65d4d728a093a752b041bae",
       "version_major": 2,
       "version_minor": 0
      },
      "text/plain": [
       "  0%|          | 0/5 [00:00<?, ?it/s]"
      ]
     },
     "metadata": {},
     "output_type": "display_data"
    },
    {
     "data": {
      "application/vnd.jupyter.widget-view+json": {
       "model_id": "06040ef48cf24bd08d72c91348d958cd",
       "version_major": 2,
       "version_minor": 0
      },
      "text/plain": [
       "  0%|          | 0/5 [00:00<?, ?it/s]"
      ]
     },
     "metadata": {},
     "output_type": "display_data"
    },
    {
     "data": {
      "application/vnd.jupyter.widget-view+json": {
       "model_id": "e4767260149144f1be9c221bfbbfa336",
       "version_major": 2,
       "version_minor": 0
      },
      "text/plain": [
       "  0%|          | 0/3 [00:00<?, ?it/s]"
      ]
     },
     "metadata": {},
     "output_type": "display_data"
    },
    {
     "data": {
      "application/vnd.jupyter.widget-view+json": {
       "model_id": "9f41b1d48626473cbdc4ef4ec3e5137d",
       "version_major": 2,
       "version_minor": 0
      },
      "text/plain": [
       "  0%|          | 0/4 [00:00<?, ?it/s]"
      ]
     },
     "metadata": {},
     "output_type": "display_data"
    },
    {
     "data": {
      "application/vnd.jupyter.widget-view+json": {
       "model_id": "325ca0b84046470b83c7bd5c9fe0bc65",
       "version_major": 2,
       "version_minor": 0
      },
      "text/plain": [
       "  0%|          | 0/16 [00:00<?, ?it/s]"
      ]
     },
     "metadata": {},
     "output_type": "display_data"
    },
    {
     "data": {
      "application/vnd.jupyter.widget-view+json": {
       "model_id": "eedd09164859408eae6f2338e76293bd",
       "version_major": 2,
       "version_minor": 0
      },
      "text/plain": [
       "  0%|          | 0/5 [00:00<?, ?it/s]"
      ]
     },
     "metadata": {},
     "output_type": "display_data"
    },
    {
     "data": {
      "application/vnd.jupyter.widget-view+json": {
       "model_id": "084741c646ff43e5be68409588df87af",
       "version_major": 2,
       "version_minor": 0
      },
      "text/plain": [
       "  0%|          | 0/5 [00:00<?, ?it/s]"
      ]
     },
     "metadata": {},
     "output_type": "display_data"
    },
    {
     "data": {
      "application/vnd.jupyter.widget-view+json": {
       "model_id": "f428cfd6004e4d749a90f8a92d0d2fb3",
       "version_major": 2,
       "version_minor": 0
      },
      "text/plain": [
       "  0%|          | 0/9 [00:00<?, ?it/s]"
      ]
     },
     "metadata": {},
     "output_type": "display_data"
    },
    {
     "data": {
      "application/vnd.jupyter.widget-view+json": {
       "model_id": "918b34aa542c4e2aa99e386a8a6fa2a4",
       "version_major": 2,
       "version_minor": 0
      },
      "text/plain": [
       "  0%|          | 0/6 [00:00<?, ?it/s]"
      ]
     },
     "metadata": {},
     "output_type": "display_data"
    },
    {
     "data": {
      "application/vnd.jupyter.widget-view+json": {
       "model_id": "98ac28c909024b7d9780eddefdd89d29",
       "version_major": 2,
       "version_minor": 0
      },
      "text/plain": [
       "  0%|          | 0/2 [00:00<?, ?it/s]"
      ]
     },
     "metadata": {},
     "output_type": "display_data"
    },
    {
     "data": {
      "application/vnd.jupyter.widget-view+json": {
       "model_id": "5948f7d9d8a844e1974307a58735cfdb",
       "version_major": 2,
       "version_minor": 0
      },
      "text/plain": [
       "  0%|          | 0/18 [00:00<?, ?it/s]"
      ]
     },
     "metadata": {},
     "output_type": "display_data"
    },
    {
     "data": {
      "application/vnd.jupyter.widget-view+json": {
       "model_id": "cbb7e918245446fcb83eb6306b295c6c",
       "version_major": 2,
       "version_minor": 0
      },
      "text/plain": [
       "  0%|          | 0/8 [00:00<?, ?it/s]"
      ]
     },
     "metadata": {},
     "output_type": "display_data"
    },
    {
     "data": {
      "application/vnd.jupyter.widget-view+json": {
       "model_id": "84a157e3e08a420da9eaaa980a86d23b",
       "version_major": 2,
       "version_minor": 0
      },
      "text/plain": [
       "  0%|          | 0/3 [00:00<?, ?it/s]"
      ]
     },
     "metadata": {},
     "output_type": "display_data"
    },
    {
     "data": {
      "application/vnd.jupyter.widget-view+json": {
       "model_id": "4d878ce5c981489480d4dc9eb2973d63",
       "version_major": 2,
       "version_minor": 0
      },
      "text/plain": [
       "  0%|          | 0/11 [00:00<?, ?it/s]"
      ]
     },
     "metadata": {},
     "output_type": "display_data"
    },
    {
     "data": {
      "application/vnd.jupyter.widget-view+json": {
       "model_id": "52371b59baf44cbdae3f11cc337e4643",
       "version_major": 2,
       "version_minor": 0
      },
      "text/plain": [
       "  0%|          | 0/7 [00:00<?, ?it/s]"
      ]
     },
     "metadata": {},
     "output_type": "display_data"
    },
    {
     "data": {
      "application/vnd.jupyter.widget-view+json": {
       "model_id": "1be7956b13bc440bab6be6163ce4e0f0",
       "version_major": 2,
       "version_minor": 0
      },
      "text/plain": [
       "  0%|          | 0/6 [00:00<?, ?it/s]"
      ]
     },
     "metadata": {},
     "output_type": "display_data"
    },
    {
     "data": {
      "application/vnd.jupyter.widget-view+json": {
       "model_id": "f820dd35562d409fa99871424488f654",
       "version_major": 2,
       "version_minor": 0
      },
      "text/plain": [
       "  0%|          | 0/6 [00:00<?, ?it/s]"
      ]
     },
     "metadata": {},
     "output_type": "display_data"
    },
    {
     "data": {
      "application/vnd.jupyter.widget-view+json": {
       "model_id": "c4512839aa5243de8f849610bc1487ae",
       "version_major": 2,
       "version_minor": 0
      },
      "text/plain": [
       "  0%|          | 0/20 [00:00<?, ?it/s]"
      ]
     },
     "metadata": {},
     "output_type": "display_data"
    },
    {
     "data": {
      "application/vnd.jupyter.widget-view+json": {
       "model_id": "3050eb642fdf4fb3882e7e0bdd3156d4",
       "version_major": 2,
       "version_minor": 0
      },
      "text/plain": [
       "  0%|          | 0/2 [00:00<?, ?it/s]"
      ]
     },
     "metadata": {},
     "output_type": "display_data"
    },
    {
     "data": {
      "application/vnd.jupyter.widget-view+json": {
       "model_id": "69208f8b61434540853e8e641507cbaa",
       "version_major": 2,
       "version_minor": 0
      },
      "text/plain": [
       "  0%|          | 0/13 [00:00<?, ?it/s]"
      ]
     },
     "metadata": {},
     "output_type": "display_data"
    },
    {
     "data": {
      "application/vnd.jupyter.widget-view+json": {
       "model_id": "89d96455b7eb467bb56bb02ce73e9f12",
       "version_major": 2,
       "version_minor": 0
      },
      "text/plain": [
       "  0%|          | 0/16 [00:00<?, ?it/s]"
      ]
     },
     "metadata": {},
     "output_type": "display_data"
    },
    {
     "data": {
      "application/vnd.jupyter.widget-view+json": {
       "model_id": "7e225b6bcfaa4305a66235ea5c2d7ac9",
       "version_major": 2,
       "version_minor": 0
      },
      "text/plain": [
       "  0%|          | 0/7 [00:00<?, ?it/s]"
      ]
     },
     "metadata": {},
     "output_type": "display_data"
    },
    {
     "data": {
      "application/vnd.jupyter.widget-view+json": {
       "model_id": "2f73af41ecfe41ccbc66ce6f6278d894",
       "version_major": 2,
       "version_minor": 0
      },
      "text/plain": [
       "  0%|          | 0/15 [00:00<?, ?it/s]"
      ]
     },
     "metadata": {},
     "output_type": "display_data"
    },
    {
     "data": {
      "application/vnd.jupyter.widget-view+json": {
       "model_id": "f331eb3bc6604bc7a3b74a3cd887323b",
       "version_major": 2,
       "version_minor": 0
      },
      "text/plain": [
       "  0%|          | 0/7 [00:00<?, ?it/s]"
      ]
     },
     "metadata": {},
     "output_type": "display_data"
    },
    {
     "data": {
      "application/vnd.jupyter.widget-view+json": {
       "model_id": "108a473c3bb844a284216fedd825d054",
       "version_major": 2,
       "version_minor": 0
      },
      "text/plain": [
       "  0%|          | 0/24 [00:00<?, ?it/s]"
      ]
     },
     "metadata": {},
     "output_type": "display_data"
    },
    {
     "data": {
      "application/vnd.jupyter.widget-view+json": {
       "model_id": "aac2a6c03fa14bfb9440792f8538264b",
       "version_major": 2,
       "version_minor": 0
      },
      "text/plain": [
       "  0%|          | 0/8 [00:00<?, ?it/s]"
      ]
     },
     "metadata": {},
     "output_type": "display_data"
    },
    {
     "data": {
      "application/vnd.jupyter.widget-view+json": {
       "model_id": "0f3766be65f440ee9ef9b756e9cb5e82",
       "version_major": 2,
       "version_minor": 0
      },
      "text/plain": [
       "  0%|          | 0/9 [00:00<?, ?it/s]"
      ]
     },
     "metadata": {},
     "output_type": "display_data"
    },
    {
     "data": {
      "application/vnd.jupyter.widget-view+json": {
       "model_id": "f466ce9a4adf4efc8c2a101e861eaddd",
       "version_major": 2,
       "version_minor": 0
      },
      "text/plain": [
       "  0%|          | 0/7 [00:00<?, ?it/s]"
      ]
     },
     "metadata": {},
     "output_type": "display_data"
    },
    {
     "data": {
      "application/vnd.jupyter.widget-view+json": {
       "model_id": "e27b6dc825884fa7ae315be12537c5bf",
       "version_major": 2,
       "version_minor": 0
      },
      "text/plain": [
       "  0%|          | 0/6 [00:00<?, ?it/s]"
      ]
     },
     "metadata": {},
     "output_type": "display_data"
    },
    {
     "data": {
      "application/vnd.jupyter.widget-view+json": {
       "model_id": "60bb142a096649f8a2fb20694848595c",
       "version_major": 2,
       "version_minor": 0
      },
      "text/plain": [
       "  0%|          | 0/14 [00:00<?, ?it/s]"
      ]
     },
     "metadata": {},
     "output_type": "display_data"
    },
    {
     "data": {
      "application/vnd.jupyter.widget-view+json": {
       "model_id": "08957853cabc465699ea281824090ca1",
       "version_major": 2,
       "version_minor": 0
      },
      "text/plain": [
       "  0%|          | 0/13 [00:00<?, ?it/s]"
      ]
     },
     "metadata": {},
     "output_type": "display_data"
    },
    {
     "data": {
      "application/vnd.jupyter.widget-view+json": {
       "model_id": "8f4a8f43d992413bb3a74c5ee096a2d4",
       "version_major": 2,
       "version_minor": 0
      },
      "text/plain": [
       "  0%|          | 0/17 [00:00<?, ?it/s]"
      ]
     },
     "metadata": {},
     "output_type": "display_data"
    },
    {
     "data": {
      "application/vnd.jupyter.widget-view+json": {
       "model_id": "2e372f0de2ea48beb53992f0946cc082",
       "version_major": 2,
       "version_minor": 0
      },
      "text/plain": [
       "  0%|          | 0/5 [00:00<?, ?it/s]"
      ]
     },
     "metadata": {},
     "output_type": "display_data"
    },
    {
     "data": {
      "application/vnd.jupyter.widget-view+json": {
       "model_id": "be2b4476223a4e1ba9841dedc7d2dff2",
       "version_major": 2,
       "version_minor": 0
      },
      "text/plain": [
       "  0%|          | 0/10 [00:00<?, ?it/s]"
      ]
     },
     "metadata": {},
     "output_type": "display_data"
    },
    {
     "data": {
      "application/vnd.jupyter.widget-view+json": {
       "model_id": "d8a495e5d79e4ad793a9b21c50df5d6c",
       "version_major": 2,
       "version_minor": 0
      },
      "text/plain": [
       "  0%|          | 0/10 [00:00<?, ?it/s]"
      ]
     },
     "metadata": {},
     "output_type": "display_data"
    },
    {
     "data": {
      "application/vnd.jupyter.widget-view+json": {
       "model_id": "8c167a9576dc4d759cf8b4dc29634048",
       "version_major": 2,
       "version_minor": 0
      },
      "text/plain": [
       "  0%|          | 0/28 [00:00<?, ?it/s]"
      ]
     },
     "metadata": {},
     "output_type": "display_data"
    },
    {
     "data": {
      "application/vnd.jupyter.widget-view+json": {
       "model_id": "5f4530e67b6b4523b15ad83dc07665c0",
       "version_major": 2,
       "version_minor": 0
      },
      "text/plain": [
       "  0%|          | 0/30 [00:00<?, ?it/s]"
      ]
     },
     "metadata": {},
     "output_type": "display_data"
    },
    {
     "data": {
      "application/vnd.jupyter.widget-view+json": {
       "model_id": "113a79ad3b4c46458ee7952541b658f7",
       "version_major": 2,
       "version_minor": 0
      },
      "text/plain": [
       "  0%|          | 0/22 [00:00<?, ?it/s]"
      ]
     },
     "metadata": {},
     "output_type": "display_data"
    },
    {
     "data": {
      "application/vnd.jupyter.widget-view+json": {
       "model_id": "8696d9c06d5b49d2afc891648b9545bd",
       "version_major": 2,
       "version_minor": 0
      },
      "text/plain": [
       "  0%|          | 0/10 [00:00<?, ?it/s]"
      ]
     },
     "metadata": {},
     "output_type": "display_data"
    },
    {
     "data": {
      "application/vnd.jupyter.widget-view+json": {
       "model_id": "56bab7462ecd439faff48f78c318ab0a",
       "version_major": 2,
       "version_minor": 0
      },
      "text/plain": [
       "  0%|          | 0/5 [00:00<?, ?it/s]"
      ]
     },
     "metadata": {},
     "output_type": "display_data"
    },
    {
     "data": {
      "application/vnd.jupyter.widget-view+json": {
       "model_id": "77116205ca524226a35c02a982b55b7e",
       "version_major": 2,
       "version_minor": 0
      },
      "text/plain": [
       "  0%|          | 0/11 [00:00<?, ?it/s]"
      ]
     },
     "metadata": {},
     "output_type": "display_data"
    },
    {
     "data": {
      "application/vnd.jupyter.widget-view+json": {
       "model_id": "4d74c0c7c87f460aa0e0af832573d48f",
       "version_major": 2,
       "version_minor": 0
      },
      "text/plain": [
       "  0%|          | 0/13 [00:00<?, ?it/s]"
      ]
     },
     "metadata": {},
     "output_type": "display_data"
    },
    {
     "data": {
      "application/vnd.jupyter.widget-view+json": {
       "model_id": "01d5762b43d04af1bf2f7d8c19d687f8",
       "version_major": 2,
       "version_minor": 0
      },
      "text/plain": [
       "  0%|          | 0/6 [00:00<?, ?it/s]"
      ]
     },
     "metadata": {},
     "output_type": "display_data"
    },
    {
     "data": {
      "application/vnd.jupyter.widget-view+json": {
       "model_id": "4b366666df854f6789f14e9b63c00c1d",
       "version_major": 2,
       "version_minor": 0
      },
      "text/plain": [
       "  0%|          | 0/27 [00:00<?, ?it/s]"
      ]
     },
     "metadata": {},
     "output_type": "display_data"
    },
    {
     "data": {
      "application/vnd.jupyter.widget-view+json": {
       "model_id": "a9e7651b571545a9ace302f091b35bd0",
       "version_major": 2,
       "version_minor": 0
      },
      "text/plain": [
       "  0%|          | 0/8 [00:00<?, ?it/s]"
      ]
     },
     "metadata": {},
     "output_type": "display_data"
    },
    {
     "data": {
      "application/vnd.jupyter.widget-view+json": {
       "model_id": "517e5a95f93149cfbd63f7d035e0ddc4",
       "version_major": 2,
       "version_minor": 0
      },
      "text/plain": [
       "  0%|          | 0/7 [00:00<?, ?it/s]"
      ]
     },
     "metadata": {},
     "output_type": "display_data"
    },
    {
     "data": {
      "application/vnd.jupyter.widget-view+json": {
       "model_id": "b2b1f43d096145afae33612f4cd8d2d9",
       "version_major": 2,
       "version_minor": 0
      },
      "text/plain": [
       "  0%|          | 0/4 [00:00<?, ?it/s]"
      ]
     },
     "metadata": {},
     "output_type": "display_data"
    },
    {
     "data": {
      "application/vnd.jupyter.widget-view+json": {
       "model_id": "c839efcc2a0444a38df4d6af8761acfe",
       "version_major": 2,
       "version_minor": 0
      },
      "text/plain": [
       "  0%|          | 0/8 [00:00<?, ?it/s]"
      ]
     },
     "metadata": {},
     "output_type": "display_data"
    },
    {
     "data": {
      "application/vnd.jupyter.widget-view+json": {
       "model_id": "cf6c3607961544a0a1d9c1eb4e96b530",
       "version_major": 2,
       "version_minor": 0
      },
      "text/plain": [
       "  0%|          | 0/10 [00:00<?, ?it/s]"
      ]
     },
     "metadata": {},
     "output_type": "display_data"
    },
    {
     "data": {
      "application/vnd.jupyter.widget-view+json": {
       "model_id": "6e1c84e93dad4636aefe41575465433f",
       "version_major": 2,
       "version_minor": 0
      },
      "text/plain": [
       "  0%|          | 0/6 [00:00<?, ?it/s]"
      ]
     },
     "metadata": {},
     "output_type": "display_data"
    },
    {
     "data": {
      "application/vnd.jupyter.widget-view+json": {
       "model_id": "123017cf1c5c4483b63136d361a75f64",
       "version_major": 2,
       "version_minor": 0
      },
      "text/plain": [
       "  0%|          | 0/57 [00:00<?, ?it/s]"
      ]
     },
     "metadata": {},
     "output_type": "display_data"
    },
    {
     "data": {
      "application/vnd.jupyter.widget-view+json": {
       "model_id": "4590ed1c5ec941fcb8b91746c5ddd903",
       "version_major": 2,
       "version_minor": 0
      },
      "text/plain": [
       "  0%|          | 0/18 [00:00<?, ?it/s]"
      ]
     },
     "metadata": {},
     "output_type": "display_data"
    },
    {
     "data": {
      "application/vnd.jupyter.widget-view+json": {
       "model_id": "a640d2415b5a4a70ae18baec33026866",
       "version_major": 2,
       "version_minor": 0
      },
      "text/plain": [
       "  0%|          | 0/3 [00:00<?, ?it/s]"
      ]
     },
     "metadata": {},
     "output_type": "display_data"
    },
    {
     "data": {
      "application/vnd.jupyter.widget-view+json": {
       "model_id": "a3ee256062d0465b8a8bc28f19786b30",
       "version_major": 2,
       "version_minor": 0
      },
      "text/plain": [
       "  0%|          | 0/8 [00:00<?, ?it/s]"
      ]
     },
     "metadata": {},
     "output_type": "display_data"
    },
    {
     "data": {
      "application/vnd.jupyter.widget-view+json": {
       "model_id": "4cf9bc898a0d407cb49d88ee706335dc",
       "version_major": 2,
       "version_minor": 0
      },
      "text/plain": [
       "  0%|          | 0/13 [00:00<?, ?it/s]"
      ]
     },
     "metadata": {},
     "output_type": "display_data"
    },
    {
     "data": {
      "application/vnd.jupyter.widget-view+json": {
       "model_id": "2c15fdb34ef7444e896203ff62d0c8bd",
       "version_major": 2,
       "version_minor": 0
      },
      "text/plain": [
       "  0%|          | 0/10 [00:00<?, ?it/s]"
      ]
     },
     "metadata": {},
     "output_type": "display_data"
    },
    {
     "data": {
      "application/vnd.jupyter.widget-view+json": {
       "model_id": "dbdddd8752664721ada68855af2ec2aa",
       "version_major": 2,
       "version_minor": 0
      },
      "text/plain": [
       "  0%|          | 0/20 [00:00<?, ?it/s]"
      ]
     },
     "metadata": {},
     "output_type": "display_data"
    },
    {
     "data": {
      "application/vnd.jupyter.widget-view+json": {
       "model_id": "f8cc1152aa3548759cf1b36444655615",
       "version_major": 2,
       "version_minor": 0
      },
      "text/plain": [
       "  0%|          | 0/10 [00:00<?, ?it/s]"
      ]
     },
     "metadata": {},
     "output_type": "display_data"
    },
    {
     "data": {
      "application/vnd.jupyter.widget-view+json": {
       "model_id": "cc333ee156b147b1a4deb12e9d6dc787",
       "version_major": 2,
       "version_minor": 0
      },
      "text/plain": [
       "  0%|          | 0/10 [00:00<?, ?it/s]"
      ]
     },
     "metadata": {},
     "output_type": "display_data"
    },
    {
     "data": {
      "application/vnd.jupyter.widget-view+json": {
       "model_id": "20945b6c56724e01b709afb20ef881f2",
       "version_major": 2,
       "version_minor": 0
      },
      "text/plain": [
       "  0%|          | 0/1 [00:00<?, ?it/s]"
      ]
     },
     "metadata": {},
     "output_type": "display_data"
    },
    {
     "data": {
      "application/vnd.jupyter.widget-view+json": {
       "model_id": "e02761a3421e4c4784cf9035d6b88e34",
       "version_major": 2,
       "version_minor": 0
      },
      "text/plain": [
       "  0%|          | 0/3 [00:00<?, ?it/s]"
      ]
     },
     "metadata": {},
     "output_type": "display_data"
    },
    {
     "data": {
      "application/vnd.jupyter.widget-view+json": {
       "model_id": "613c212545544cea8ed686976aceb3c2",
       "version_major": 2,
       "version_minor": 0
      },
      "text/plain": [
       "  0%|          | 0/17 [00:00<?, ?it/s]"
      ]
     },
     "metadata": {},
     "output_type": "display_data"
    },
    {
     "data": {
      "application/vnd.jupyter.widget-view+json": {
       "model_id": "8b32e42e51bf4d669d714ccd3cf7f9c7",
       "version_major": 2,
       "version_minor": 0
      },
      "text/plain": [
       "  0%|          | 0/6 [00:00<?, ?it/s]"
      ]
     },
     "metadata": {},
     "output_type": "display_data"
    },
    {
     "data": {
      "application/vnd.jupyter.widget-view+json": {
       "model_id": "aa90da994e34465b9d0a88a8998cc84f",
       "version_major": 2,
       "version_minor": 0
      },
      "text/plain": [
       "  0%|          | 0/6 [00:00<?, ?it/s]"
      ]
     },
     "metadata": {},
     "output_type": "display_data"
    },
    {
     "data": {
      "application/vnd.jupyter.widget-view+json": {
       "model_id": "297016a55dca4487a467b4bb34f3d622",
       "version_major": 2,
       "version_minor": 0
      },
      "text/plain": [
       "  0%|          | 0/40 [00:00<?, ?it/s]"
      ]
     },
     "metadata": {},
     "output_type": "display_data"
    },
    {
     "data": {
      "application/vnd.jupyter.widget-view+json": {
       "model_id": "c74f2b680277475bb85e843b113cc597",
       "version_major": 2,
       "version_minor": 0
      },
      "text/plain": [
       "  0%|          | 0/33 [00:00<?, ?it/s]"
      ]
     },
     "metadata": {},
     "output_type": "display_data"
    },
    {
     "data": {
      "application/vnd.jupyter.widget-view+json": {
       "model_id": "5951e639f5bf4d13aed0e15e9e863a22",
       "version_major": 2,
       "version_minor": 0
      },
      "text/plain": [
       "  0%|          | 0/4 [00:00<?, ?it/s]"
      ]
     },
     "metadata": {},
     "output_type": "display_data"
    },
    {
     "data": {
      "application/vnd.jupyter.widget-view+json": {
       "model_id": "baf264072ff84ed6b3b4b3e5d6f9542d",
       "version_major": 2,
       "version_minor": 0
      },
      "text/plain": [
       "  0%|          | 0/12 [00:00<?, ?it/s]"
      ]
     },
     "metadata": {},
     "output_type": "display_data"
    },
    {
     "data": {
      "application/vnd.jupyter.widget-view+json": {
       "model_id": "e3e7116cb202420c90d5b9be1b46e3e0",
       "version_major": 2,
       "version_minor": 0
      },
      "text/plain": [
       "  0%|          | 0/18 [00:00<?, ?it/s]"
      ]
     },
     "metadata": {},
     "output_type": "display_data"
    },
    {
     "data": {
      "application/vnd.jupyter.widget-view+json": {
       "model_id": "30735ffdc5bd452e94a11c8cd1958db1",
       "version_major": 2,
       "version_minor": 0
      },
      "text/plain": [
       "  0%|          | 0/57 [00:00<?, ?it/s]"
      ]
     },
     "metadata": {},
     "output_type": "display_data"
    },
    {
     "data": {
      "application/vnd.jupyter.widget-view+json": {
       "model_id": "be09ef9e9a264b88b19611cdbe84f8d0",
       "version_major": 2,
       "version_minor": 0
      },
      "text/plain": [
       "  0%|          | 0/8 [00:00<?, ?it/s]"
      ]
     },
     "metadata": {},
     "output_type": "display_data"
    },
    {
     "data": {
      "application/vnd.jupyter.widget-view+json": {
       "model_id": "9d593528ad5d46a597941be7509f18c4",
       "version_major": 2,
       "version_minor": 0
      },
      "text/plain": [
       "  0%|          | 0/15 [00:00<?, ?it/s]"
      ]
     },
     "metadata": {},
     "output_type": "display_data"
    },
    {
     "data": {
      "application/vnd.jupyter.widget-view+json": {
       "model_id": "bd906af575c54023b8cb045d0c451fda",
       "version_major": 2,
       "version_minor": 0
      },
      "text/plain": [
       "  0%|          | 0/24 [00:00<?, ?it/s]"
      ]
     },
     "metadata": {},
     "output_type": "display_data"
    },
    {
     "data": {
      "application/vnd.jupyter.widget-view+json": {
       "model_id": "397bd643f9b3459a9521782f4c2d0ce5",
       "version_major": 2,
       "version_minor": 0
      },
      "text/plain": [
       "  0%|          | 0/27 [00:00<?, ?it/s]"
      ]
     },
     "metadata": {},
     "output_type": "display_data"
    },
    {
     "data": {
      "application/vnd.jupyter.widget-view+json": {
       "model_id": "d60562a7684949e389a267d3412d9253",
       "version_major": 2,
       "version_minor": 0
      },
      "text/plain": [
       "  0%|          | 0/5 [00:00<?, ?it/s]"
      ]
     },
     "metadata": {},
     "output_type": "display_data"
    },
    {
     "data": {
      "application/vnd.jupyter.widget-view+json": {
       "model_id": "2b0e1ede53414d2b8bcfaa159423ff63",
       "version_major": 2,
       "version_minor": 0
      },
      "text/plain": [
       "  0%|          | 0/12 [00:00<?, ?it/s]"
      ]
     },
     "metadata": {},
     "output_type": "display_data"
    },
    {
     "data": {
      "application/vnd.jupyter.widget-view+json": {
       "model_id": "ffbeac30bd324db3bf27e7fbe9a41de9",
       "version_major": 2,
       "version_minor": 0
      },
      "text/plain": [
       "  0%|          | 0/5 [00:00<?, ?it/s]"
      ]
     },
     "metadata": {},
     "output_type": "display_data"
    },
    {
     "data": {
      "application/vnd.jupyter.widget-view+json": {
       "model_id": "28f392b164f047deaaa6ff94eda70462",
       "version_major": 2,
       "version_minor": 0
      },
      "text/plain": [
       "  0%|          | 0/3 [00:00<?, ?it/s]"
      ]
     },
     "metadata": {},
     "output_type": "display_data"
    },
    {
     "data": {
      "application/vnd.jupyter.widget-view+json": {
       "model_id": "8853fc7b2c60451a96717983da3bb77e",
       "version_major": 2,
       "version_minor": 0
      },
      "text/plain": [
       "  0%|          | 0/2 [00:00<?, ?it/s]"
      ]
     },
     "metadata": {},
     "output_type": "display_data"
    },
    {
     "data": {
      "application/vnd.jupyter.widget-view+json": {
       "model_id": "43bf8d381405418294066f6d863e8a95",
       "version_major": 2,
       "version_minor": 0
      },
      "text/plain": [
       "  0%|          | 0/36 [00:00<?, ?it/s]"
      ]
     },
     "metadata": {},
     "output_type": "display_data"
    },
    {
     "data": {
      "application/vnd.jupyter.widget-view+json": {
       "model_id": "0176ad6cd31a402ebe8d0d30d99330e5",
       "version_major": 2,
       "version_minor": 0
      },
      "text/plain": [
       "  0%|          | 0/13 [00:00<?, ?it/s]"
      ]
     },
     "metadata": {},
     "output_type": "display_data"
    },
    {
     "data": {
      "application/vnd.jupyter.widget-view+json": {
       "model_id": "a62d9a79cd5c454e8657e166d94ed9a0",
       "version_major": 2,
       "version_minor": 0
      },
      "text/plain": [
       "  0%|          | 0/60 [00:00<?, ?it/s]"
      ]
     },
     "metadata": {},
     "output_type": "display_data"
    },
    {
     "data": {
      "application/vnd.jupyter.widget-view+json": {
       "model_id": "bc4f2257efac4be7be02ea1476cd1347",
       "version_major": 2,
       "version_minor": 0
      },
      "text/plain": [
       "  0%|          | 0/14 [00:00<?, ?it/s]"
      ]
     },
     "metadata": {},
     "output_type": "display_data"
    },
    {
     "data": {
      "application/vnd.jupyter.widget-view+json": {
       "model_id": "c568571a558746a2b15ee830b81e400f",
       "version_major": 2,
       "version_minor": 0
      },
      "text/plain": [
       "  0%|          | 0/14 [00:00<?, ?it/s]"
      ]
     },
     "metadata": {},
     "output_type": "display_data"
    },
    {
     "data": {
      "application/vnd.jupyter.widget-view+json": {
       "model_id": "df2bff28391d40dfbed22d2279434b69",
       "version_major": 2,
       "version_minor": 0
      },
      "text/plain": [
       "  0%|          | 0/27 [00:00<?, ?it/s]"
      ]
     },
     "metadata": {},
     "output_type": "display_data"
    },
    {
     "data": {
      "application/vnd.jupyter.widget-view+json": {
       "model_id": "771add1cd4f047e79614a5defa6bf12c",
       "version_major": 2,
       "version_minor": 0
      },
      "text/plain": [
       "  0%|          | 0/5 [00:00<?, ?it/s]"
      ]
     },
     "metadata": {},
     "output_type": "display_data"
    },
    {
     "data": {
      "application/vnd.jupyter.widget-view+json": {
       "model_id": "ab2130a5ab5a4c1298ac89c96de33ff7",
       "version_major": 2,
       "version_minor": 0
      },
      "text/plain": [
       "  0%|          | 0/55 [00:00<?, ?it/s]"
      ]
     },
     "metadata": {},
     "output_type": "display_data"
    },
    {
     "data": {
      "application/vnd.jupyter.widget-view+json": {
       "model_id": "72445303e9d248d285c99cee1dcf8815",
       "version_major": 2,
       "version_minor": 0
      },
      "text/plain": [
       "  0%|          | 0/6 [00:00<?, ?it/s]"
      ]
     },
     "metadata": {},
     "output_type": "display_data"
    },
    {
     "data": {
      "application/vnd.jupyter.widget-view+json": {
       "model_id": "cd74b69afe914f8d8dc9873a6859c75e",
       "version_major": 2,
       "version_minor": 0
      },
      "text/plain": [
       "  0%|          | 0/13 [00:00<?, ?it/s]"
      ]
     },
     "metadata": {},
     "output_type": "display_data"
    },
    {
     "data": {
      "application/vnd.jupyter.widget-view+json": {
       "model_id": "e0d55af82bd34341a82e0df4941e3982",
       "version_major": 2,
       "version_minor": 0
      },
      "text/plain": [
       "  0%|          | 0/19 [00:00<?, ?it/s]"
      ]
     },
     "metadata": {},
     "output_type": "display_data"
    },
    {
     "data": {
      "application/vnd.jupyter.widget-view+json": {
       "model_id": "12820bda1b4f44fd92a025bf80ed47cc",
       "version_major": 2,
       "version_minor": 0
      },
      "text/plain": [
       "  0%|          | 0/94 [00:00<?, ?it/s]"
      ]
     },
     "metadata": {},
     "output_type": "display_data"
    },
    {
     "data": {
      "application/vnd.jupyter.widget-view+json": {
       "model_id": "2156531945cb423283536c26e6227d95",
       "version_major": 2,
       "version_minor": 0
      },
      "text/plain": [
       "  0%|          | 0/9 [00:00<?, ?it/s]"
      ]
     },
     "metadata": {},
     "output_type": "display_data"
    },
    {
     "data": {
      "application/vnd.jupyter.widget-view+json": {
       "model_id": "a12172f91cb14b95b65cc87b70ed7f24",
       "version_major": 2,
       "version_minor": 0
      },
      "text/plain": [
       "  0%|          | 0/7 [00:00<?, ?it/s]"
      ]
     },
     "metadata": {},
     "output_type": "display_data"
    },
    {
     "data": {
      "application/vnd.jupyter.widget-view+json": {
       "model_id": "299d1593eb614b79b31708707bdf9ef2",
       "version_major": 2,
       "version_minor": 0
      },
      "text/plain": [
       "  0%|          | 0/23 [00:00<?, ?it/s]"
      ]
     },
     "metadata": {},
     "output_type": "display_data"
    },
    {
     "data": {
      "application/vnd.jupyter.widget-view+json": {
       "model_id": "f0fda1fe071440b3869c7852f0f26475",
       "version_major": 2,
       "version_minor": 0
      },
      "text/plain": [
       "  0%|          | 0/14 [00:00<?, ?it/s]"
      ]
     },
     "metadata": {},
     "output_type": "display_data"
    },
    {
     "data": {
      "application/vnd.jupyter.widget-view+json": {
       "model_id": "9e215d6037604e30bd461192badd8c69",
       "version_major": 2,
       "version_minor": 0
      },
      "text/plain": [
       "  0%|          | 0/19 [00:00<?, ?it/s]"
      ]
     },
     "metadata": {},
     "output_type": "display_data"
    },
    {
     "data": {
      "application/vnd.jupyter.widget-view+json": {
       "model_id": "c7234aee94464fbbbed28c29594f067c",
       "version_major": 2,
       "version_minor": 0
      },
      "text/plain": [
       "  0%|          | 0/17 [00:00<?, ?it/s]"
      ]
     },
     "metadata": {},
     "output_type": "display_data"
    },
    {
     "data": {
      "application/vnd.jupyter.widget-view+json": {
       "model_id": "0aae20c96e4a4cd188eab3965a493a9d",
       "version_major": 2,
       "version_minor": 0
      },
      "text/plain": [
       "  0%|          | 0/13 [00:00<?, ?it/s]"
      ]
     },
     "metadata": {},
     "output_type": "display_data"
    },
    {
     "data": {
      "application/vnd.jupyter.widget-view+json": {
       "model_id": "81d1efd91c3c4d45898218597fb6fe58",
       "version_major": 2,
       "version_minor": 0
      },
      "text/plain": [
       "  0%|          | 0/5 [00:00<?, ?it/s]"
      ]
     },
     "metadata": {},
     "output_type": "display_data"
    },
    {
     "data": {
      "application/vnd.jupyter.widget-view+json": {
       "model_id": "31eb6cb88433478aa41696b3d2fde50d",
       "version_major": 2,
       "version_minor": 0
      },
      "text/plain": [
       "  0%|          | 0/21 [00:00<?, ?it/s]"
      ]
     },
     "metadata": {},
     "output_type": "display_data"
    },
    {
     "data": {
      "application/vnd.jupyter.widget-view+json": {
       "model_id": "078124cd6df44ea3a2c7a1114203404c",
       "version_major": 2,
       "version_minor": 0
      },
      "text/plain": [
       "  0%|          | 0/36 [00:00<?, ?it/s]"
      ]
     },
     "metadata": {},
     "output_type": "display_data"
    },
    {
     "data": {
      "application/vnd.jupyter.widget-view+json": {
       "model_id": "f9f1b429033a4441a51a5873b472d656",
       "version_major": 2,
       "version_minor": 0
      },
      "text/plain": [
       "  0%|          | 0/8 [00:00<?, ?it/s]"
      ]
     },
     "metadata": {},
     "output_type": "display_data"
    },
    {
     "data": {
      "application/vnd.jupyter.widget-view+json": {
       "model_id": "3580ade1799544fb9f09a649bbbece6e",
       "version_major": 2,
       "version_minor": 0
      },
      "text/plain": [
       "  0%|          | 0/33 [00:00<?, ?it/s]"
      ]
     },
     "metadata": {},
     "output_type": "display_data"
    },
    {
     "data": {
      "application/vnd.jupyter.widget-view+json": {
       "model_id": "dd5e71c4b11c428798fd6028e379a975",
       "version_major": 2,
       "version_minor": 0
      },
      "text/plain": [
       "  0%|          | 0/10 [00:00<?, ?it/s]"
      ]
     },
     "metadata": {},
     "output_type": "display_data"
    },
    {
     "data": {
      "application/vnd.jupyter.widget-view+json": {
       "model_id": "622a26fb1fce4ab0a5316ae413ce8c3c",
       "version_major": 2,
       "version_minor": 0
      },
      "text/plain": [
       "  0%|          | 0/4 [00:00<?, ?it/s]"
      ]
     },
     "metadata": {},
     "output_type": "display_data"
    },
    {
     "data": {
      "application/vnd.jupyter.widget-view+json": {
       "model_id": "6ff24bc024f9476da5db5b63b66be898",
       "version_major": 2,
       "version_minor": 0
      },
      "text/plain": [
       "  0%|          | 0/5 [00:00<?, ?it/s]"
      ]
     },
     "metadata": {},
     "output_type": "display_data"
    },
    {
     "data": {
      "application/vnd.jupyter.widget-view+json": {
       "model_id": "c830386a0e204579a068895f1762430c",
       "version_major": 2,
       "version_minor": 0
      },
      "text/plain": [
       "  0%|          | 0/13 [00:00<?, ?it/s]"
      ]
     },
     "metadata": {},
     "output_type": "display_data"
    },
    {
     "data": {
      "application/vnd.jupyter.widget-view+json": {
       "model_id": "4b312ed17ef947d6b9f090d14ec50603",
       "version_major": 2,
       "version_minor": 0
      },
      "text/plain": [
       "  0%|          | 0/5 [00:00<?, ?it/s]"
      ]
     },
     "metadata": {},
     "output_type": "display_data"
    },
    {
     "data": {
      "application/vnd.jupyter.widget-view+json": {
       "model_id": "677e2f951910423996a8a33a34401c28",
       "version_major": 2,
       "version_minor": 0
      },
      "text/plain": [
       "  0%|          | 0/4 [00:00<?, ?it/s]"
      ]
     },
     "metadata": {},
     "output_type": "display_data"
    },
    {
     "data": {
      "application/vnd.jupyter.widget-view+json": {
       "model_id": "2405e20514474ec7a72082c459201e4c",
       "version_major": 2,
       "version_minor": 0
      },
      "text/plain": [
       "  0%|          | 0/31 [00:00<?, ?it/s]"
      ]
     },
     "metadata": {},
     "output_type": "display_data"
    },
    {
     "data": {
      "application/vnd.jupyter.widget-view+json": {
       "model_id": "b74bf5c93747469b80a241f3f6cf1b23",
       "version_major": 2,
       "version_minor": 0
      },
      "text/plain": [
       "  0%|          | 0/4 [00:00<?, ?it/s]"
      ]
     },
     "metadata": {},
     "output_type": "display_data"
    },
    {
     "data": {
      "application/vnd.jupyter.widget-view+json": {
       "model_id": "807fdf4e0d4b4cb9881b6c5fbe3b94bb",
       "version_major": 2,
       "version_minor": 0
      },
      "text/plain": [
       "  0%|          | 0/4 [00:00<?, ?it/s]"
      ]
     },
     "metadata": {},
     "output_type": "display_data"
    },
    {
     "data": {
      "application/vnd.jupyter.widget-view+json": {
       "model_id": "94ea757952cb4911b39a7c2c5c7124dc",
       "version_major": 2,
       "version_minor": 0
      },
      "text/plain": [
       "  0%|          | 0/6 [00:00<?, ?it/s]"
      ]
     },
     "metadata": {},
     "output_type": "display_data"
    },
    {
     "data": {
      "application/vnd.jupyter.widget-view+json": {
       "model_id": "a1e2d7ab5b8345ec99177fcbbc18e54e",
       "version_major": 2,
       "version_minor": 0
      },
      "text/plain": [
       "  0%|          | 0/7 [00:00<?, ?it/s]"
      ]
     },
     "metadata": {},
     "output_type": "display_data"
    },
    {
     "data": {
      "application/vnd.jupyter.widget-view+json": {
       "model_id": "e4f3c759c8464f88ab7263436272c5f3",
       "version_major": 2,
       "version_minor": 0
      },
      "text/plain": [
       "  0%|          | 0/4 [00:00<?, ?it/s]"
      ]
     },
     "metadata": {},
     "output_type": "display_data"
    },
    {
     "data": {
      "application/vnd.jupyter.widget-view+json": {
       "model_id": "9c1a7b3ae88d478b84f4b27bf21745f0",
       "version_major": 2,
       "version_minor": 0
      },
      "text/plain": [
       "  0%|          | 0/6 [00:00<?, ?it/s]"
      ]
     },
     "metadata": {},
     "output_type": "display_data"
    },
    {
     "data": {
      "application/vnd.jupyter.widget-view+json": {
       "model_id": "25180e1d59574e0c9830d3db12b636fb",
       "version_major": 2,
       "version_minor": 0
      },
      "text/plain": [
       "  0%|          | 0/15 [00:00<?, ?it/s]"
      ]
     },
     "metadata": {},
     "output_type": "display_data"
    },
    {
     "data": {
      "application/vnd.jupyter.widget-view+json": {
       "model_id": "138e824137744a21958f8cfcdb3b88d1",
       "version_major": 2,
       "version_minor": 0
      },
      "text/plain": [
       "  0%|          | 0/6 [00:00<?, ?it/s]"
      ]
     },
     "metadata": {},
     "output_type": "display_data"
    },
    {
     "data": {
      "application/vnd.jupyter.widget-view+json": {
       "model_id": "11a2cc9ee783472aa2a2e6e7d660100b",
       "version_major": 2,
       "version_minor": 0
      },
      "text/plain": [
       "  0%|          | 0/7 [00:00<?, ?it/s]"
      ]
     },
     "metadata": {},
     "output_type": "display_data"
    },
    {
     "data": {
      "application/vnd.jupyter.widget-view+json": {
       "model_id": "3542311ca39040b7af1f10db26e6c2c8",
       "version_major": 2,
       "version_minor": 0
      },
      "text/plain": [
       "  0%|          | 0/10 [00:00<?, ?it/s]"
      ]
     },
     "metadata": {},
     "output_type": "display_data"
    },
    {
     "data": {
      "application/vnd.jupyter.widget-view+json": {
       "model_id": "d1ff1171a0e54a019447cc0ec066019f",
       "version_major": 2,
       "version_minor": 0
      },
      "text/plain": [
       "  0%|          | 0/8 [00:00<?, ?it/s]"
      ]
     },
     "metadata": {},
     "output_type": "display_data"
    },
    {
     "data": {
      "application/vnd.jupyter.widget-view+json": {
       "model_id": "ac17a00256d9464cb46a582bdb006284",
       "version_major": 2,
       "version_minor": 0
      },
      "text/plain": [
       "  0%|          | 0/2 [00:00<?, ?it/s]"
      ]
     },
     "metadata": {},
     "output_type": "display_data"
    },
    {
     "data": {
      "application/vnd.jupyter.widget-view+json": {
       "model_id": "7eaf9a366ca74f6a9125dc7bf30dbaa0",
       "version_major": 2,
       "version_minor": 0
      },
      "text/plain": [
       "  0%|          | 0/8 [00:00<?, ?it/s]"
      ]
     },
     "metadata": {},
     "output_type": "display_data"
    },
    {
     "data": {
      "application/vnd.jupyter.widget-view+json": {
       "model_id": "50b9d8fd2e62438aa3138cd472947170",
       "version_major": 2,
       "version_minor": 0
      },
      "text/plain": [
       "  0%|          | 0/15 [00:00<?, ?it/s]"
      ]
     },
     "metadata": {},
     "output_type": "display_data"
    },
    {
     "data": {
      "application/vnd.jupyter.widget-view+json": {
       "model_id": "0b3a93bc13db4c21b8868e122d3afee1",
       "version_major": 2,
       "version_minor": 0
      },
      "text/plain": [
       "  0%|          | 0/16 [00:00<?, ?it/s]"
      ]
     },
     "metadata": {},
     "output_type": "display_data"
    },
    {
     "data": {
      "application/vnd.jupyter.widget-view+json": {
       "model_id": "91e7f6d1508a4ee3810b217263ecb1f2",
       "version_major": 2,
       "version_minor": 0
      },
      "text/plain": [
       "  0%|          | 0/9 [00:00<?, ?it/s]"
      ]
     },
     "metadata": {},
     "output_type": "display_data"
    },
    {
     "data": {
      "application/vnd.jupyter.widget-view+json": {
       "model_id": "22f58bfacf784076a54507aa5396f688",
       "version_major": 2,
       "version_minor": 0
      },
      "text/plain": [
       "  0%|          | 0/7 [00:00<?, ?it/s]"
      ]
     },
     "metadata": {},
     "output_type": "display_data"
    },
    {
     "data": {
      "application/vnd.jupyter.widget-view+json": {
       "model_id": "325f6e3560174915a6b6955442f29d0d",
       "version_major": 2,
       "version_minor": 0
      },
      "text/plain": [
       "  0%|          | 0/15 [00:00<?, ?it/s]"
      ]
     },
     "metadata": {},
     "output_type": "display_data"
    },
    {
     "data": {
      "application/vnd.jupyter.widget-view+json": {
       "model_id": "7622760a181d482aa4d84b1fd7206278",
       "version_major": 2,
       "version_minor": 0
      },
      "text/plain": [
       "  0%|          | 0/81 [00:00<?, ?it/s]"
      ]
     },
     "metadata": {},
     "output_type": "display_data"
    },
    {
     "data": {
      "application/vnd.jupyter.widget-view+json": {
       "model_id": "ae95690f5b49409d9e8d1a5e6e327d18",
       "version_major": 2,
       "version_minor": 0
      },
      "text/plain": [
       "  0%|          | 0/10 [00:00<?, ?it/s]"
      ]
     },
     "metadata": {},
     "output_type": "display_data"
    },
    {
     "data": {
      "application/vnd.jupyter.widget-view+json": {
       "model_id": "f7ddcd83f5714c19a6ce4dcc3aec620b",
       "version_major": 2,
       "version_minor": 0
      },
      "text/plain": [
       "  0%|          | 0/62 [00:00<?, ?it/s]"
      ]
     },
     "metadata": {},
     "output_type": "display_data"
    },
    {
     "data": {
      "application/vnd.jupyter.widget-view+json": {
       "model_id": "e4ee709f98f64f09afedb2b4cfeb255d",
       "version_major": 2,
       "version_minor": 0
      },
      "text/plain": [
       "  0%|          | 0/7 [00:00<?, ?it/s]"
      ]
     },
     "metadata": {},
     "output_type": "display_data"
    },
    {
     "data": {
      "application/vnd.jupyter.widget-view+json": {
       "model_id": "e99484e0d796442289036326bcae2643",
       "version_major": 2,
       "version_minor": 0
      },
      "text/plain": [
       "  0%|          | 0/9 [00:00<?, ?it/s]"
      ]
     },
     "metadata": {},
     "output_type": "display_data"
    },
    {
     "data": {
      "application/vnd.jupyter.widget-view+json": {
       "model_id": "4c44da7a9c5d429b8a3d0cdc17af9aa4",
       "version_major": 2,
       "version_minor": 0
      },
      "text/plain": [
       "  0%|          | 0/14 [00:00<?, ?it/s]"
      ]
     },
     "metadata": {},
     "output_type": "display_data"
    },
    {
     "data": {
      "application/vnd.jupyter.widget-view+json": {
       "model_id": "31021ce61b6948e78328be79ccbac9e4",
       "version_major": 2,
       "version_minor": 0
      },
      "text/plain": [
       "  0%|          | 0/5 [00:00<?, ?it/s]"
      ]
     },
     "metadata": {},
     "output_type": "display_data"
    },
    {
     "data": {
      "application/vnd.jupyter.widget-view+json": {
       "model_id": "797563db3c584895b9a325aa8772edaa",
       "version_major": 2,
       "version_minor": 0
      },
      "text/plain": [
       "  0%|          | 0/31 [00:00<?, ?it/s]"
      ]
     },
     "metadata": {},
     "output_type": "display_data"
    },
    {
     "data": {
      "application/vnd.jupyter.widget-view+json": {
       "model_id": "bfe062c57a7a4fbfb8d3c1854ab05993",
       "version_major": 2,
       "version_minor": 0
      },
      "text/plain": [
       "  0%|          | 0/7 [00:00<?, ?it/s]"
      ]
     },
     "metadata": {},
     "output_type": "display_data"
    },
    {
     "data": {
      "application/vnd.jupyter.widget-view+json": {
       "model_id": "efb3a893a1a54f7e807ccc911eba16df",
       "version_major": 2,
       "version_minor": 0
      },
      "text/plain": [
       "  0%|          | 0/20 [00:00<?, ?it/s]"
      ]
     },
     "metadata": {},
     "output_type": "display_data"
    },
    {
     "data": {
      "application/vnd.jupyter.widget-view+json": {
       "model_id": "165ca801f6d54a919503f37ae5c631de",
       "version_major": 2,
       "version_minor": 0
      },
      "text/plain": [
       "  0%|          | 0/7 [00:00<?, ?it/s]"
      ]
     },
     "metadata": {},
     "output_type": "display_data"
    },
    {
     "data": {
      "application/vnd.jupyter.widget-view+json": {
       "model_id": "062ef14e0f824b29b6f7d341c7562c48",
       "version_major": 2,
       "version_minor": 0
      },
      "text/plain": [
       "  0%|          | 0/3 [00:00<?, ?it/s]"
      ]
     },
     "metadata": {},
     "output_type": "display_data"
    },
    {
     "data": {
      "application/vnd.jupyter.widget-view+json": {
       "model_id": "d31904aea4414dbab3b2adf07c9f57eb",
       "version_major": 2,
       "version_minor": 0
      },
      "text/plain": [
       "  0%|          | 0/7 [00:00<?, ?it/s]"
      ]
     },
     "metadata": {},
     "output_type": "display_data"
    },
    {
     "data": {
      "application/vnd.jupyter.widget-view+json": {
       "model_id": "e956313730654cfca020189aecd45694",
       "version_major": 2,
       "version_minor": 0
      },
      "text/plain": [
       "  0%|          | 0/3 [00:00<?, ?it/s]"
      ]
     },
     "metadata": {},
     "output_type": "display_data"
    },
    {
     "data": {
      "application/vnd.jupyter.widget-view+json": {
       "model_id": "64ea0f04a59749bf9d6b82ec48f6f00b",
       "version_major": 2,
       "version_minor": 0
      },
      "text/plain": [
       "  0%|          | 0/7 [00:00<?, ?it/s]"
      ]
     },
     "metadata": {},
     "output_type": "display_data"
    },
    {
     "data": {
      "application/vnd.jupyter.widget-view+json": {
       "model_id": "e44090e9725349e092f4e3f2fd1d3de0",
       "version_major": 2,
       "version_minor": 0
      },
      "text/plain": [
       "  0%|          | 0/26 [00:00<?, ?it/s]"
      ]
     },
     "metadata": {},
     "output_type": "display_data"
    },
    {
     "data": {
      "application/vnd.jupyter.widget-view+json": {
       "model_id": "d840c39d746e40348821ff645d650ff5",
       "version_major": 2,
       "version_minor": 0
      },
      "text/plain": [
       "  0%|          | 0/4 [00:00<?, ?it/s]"
      ]
     },
     "metadata": {},
     "output_type": "display_data"
    },
    {
     "data": {
      "application/vnd.jupyter.widget-view+json": {
       "model_id": "a49b04a633de44efb07b8fb3782ee845",
       "version_major": 2,
       "version_minor": 0
      },
      "text/plain": [
       "  0%|          | 0/8 [00:00<?, ?it/s]"
      ]
     },
     "metadata": {},
     "output_type": "display_data"
    },
    {
     "data": {
      "application/vnd.jupyter.widget-view+json": {
       "model_id": "fde337c586f2499dae3901fdf9c163ba",
       "version_major": 2,
       "version_minor": 0
      },
      "text/plain": [
       "  0%|          | 0/9 [00:00<?, ?it/s]"
      ]
     },
     "metadata": {},
     "output_type": "display_data"
    }
   ],
   "source": [
    "import axon_utils as au\n",
    "neuron_obj_with_boutons = au.calculate_boutons(#parameters for run\n",
    "neuron_obj = neuron_obj_high_fid_axon,\n",
    "plot_axon_branches_to_check = False,\n",
    "plot_boutons = False,\n",
    "verbose = False,\n",
    ")\n"
   ]
  },
  {
   "cell_type": "markdown",
   "metadata": {},
   "source": [
    "# Computing the Webbing"
   ]
  },
  {
   "cell_type": "code",
   "execution_count": 19,
   "metadata": {
    "scrolled": true
   },
   "outputs": [
    {
     "name": "stdout",
     "output_type": "stream",
     "text": [
      "Upstream Node (red), Downstream Nodes (aqua)\n"
     ]
    },
    {
     "data": {
      "application/vnd.jupyter.widget-view+json": {
       "model_id": "96931a4ea8ce4fabb1fdf715526c5f04",
       "version_major": 2,
       "version_minor": 0
      },
      "text/plain": [
       "VBox(children=(Figure(camera=PerspectiveCamera(fov=46.0, position=(0.0, 0.0, 2.0), projectionMatrix=(1.0, 0.0,…"
      ]
     },
     "metadata": {},
     "output_type": "display_data"
    },
    {
     "name": "stdout",
     "output_type": "stream",
     "text": [
      "Upstream Node (red), Downstream Nodes (aqua)\n"
     ]
    },
    {
     "data": {
      "application/vnd.jupyter.widget-view+json": {
       "model_id": "91015a63fb6a479c8db4039df543150f",
       "version_major": 2,
       "version_minor": 0
      },
      "text/plain": [
       "VBox(children=(Figure(camera=PerspectiveCamera(fov=46.0, position=(0.0, 0.0, 2.0), projectionMatrix=(1.0, 0.0,…"
      ]
     },
     "metadata": {},
     "output_type": "display_data"
    },
    {
     "name": "stdout",
     "output_type": "stream",
     "text": [
      "Mesh Split with significance_threshold = 20\n"
     ]
    },
    {
     "data": {
      "application/vnd.jupyter.widget-view+json": {
       "model_id": "539a14337f75490db99cadfe74027a37",
       "version_major": 2,
       "version_minor": 0
      },
      "text/plain": [
       "VBox(children=(Figure(camera=PerspectiveCamera(fov=46.0, position=(0.0, 0.0, 2.0), projectionMatrix=(1.0, 0.0,…"
      ]
     },
     "metadata": {},
     "output_type": "display_data"
    },
    {
     "data": {
      "application/vnd.jupyter.widget-view+json": {
       "model_id": "cdc331c2877c418290d67b295e337b8f",
       "version_major": 2,
       "version_minor": 0
      },
      "text/plain": [
       "VBox(children=(Figure(camera=PerspectiveCamera(fov=46.0, position=(0.0, 0.0, 2.0), projectionMatrix=(1.0, 0.0,…"
      ]
     },
     "metadata": {},
     "output_type": "display_data"
    },
    {
     "data": {
      "application/vnd.jupyter.widget-view+json": {
       "model_id": "c1e5a02ca2824bd5a5bc8bdea963287d",
       "version_major": 2,
       "version_minor": 0
      },
      "text/plain": [
       "  0%|          | 0/128 [00:00<?, ?it/s]"
      ]
     },
     "metadata": {},
     "output_type": "display_data"
    },
    {
     "name": "stdout",
     "output_type": "stream",
     "text": [
      "Before volume filter\n",
      "Segmentation Info:\n",
      "Mesh 0: <trimesh.Trimesh(vertices.shape=(1180, 3), faces.shape=(2211, 3))> (0.671875)\n",
      "Mesh 1: <trimesh.Trimesh(vertices.shape=(629, 3), faces.shape=(1201, 3))> (0.42189)\n",
      "Mesh 2: <trimesh.Trimesh(vertices.shape=(558, 3), faces.shape=(1039, 3))> (0.613905)\n",
      "Mesh 3: <trimesh.Trimesh(vertices.shape=(533, 3), faces.shape=(1006, 3))> (0.7333529999999999)\n",
      "Mesh 4: <trimesh.Trimesh(vertices.shape=(527, 3), faces.shape=(959, 3))> (0.297091)\n",
      "Mesh 5: <trimesh.Trimesh(vertices.shape=(510, 3), faces.shape=(946, 3))> (0.4933885)\n",
      "Mesh 6: <trimesh.Trimesh(vertices.shape=(380, 3), faces.shape=(728, 3))> (0.667446)\n",
      "Mesh 7: <trimesh.Trimesh(vertices.shape=(359, 3), faces.shape=(676, 3))> (0.503616)\n",
      "Mesh 8: <trimesh.Trimesh(vertices.shape=(344, 3), faces.shape=(633, 3))> (0.593518)\n",
      "Mesh 9: <trimesh.Trimesh(vertices.shape=(321, 3), faces.shape=(611, 3))> (0.575801)\n",
      "Mesh 10: <trimesh.Trimesh(vertices.shape=(283, 3), faces.shape=(542, 3))> (0.510389)\n",
      "Mesh 11: <trimesh.Trimesh(vertices.shape=(293, 3), faces.shape=(526, 3))> (0.4365875)\n",
      "Mesh 12: <trimesh.Trimesh(vertices.shape=(279, 3), faces.shape=(509, 3))> (0.515504)\n",
      "Mesh 13: <trimesh.Trimesh(vertices.shape=(277, 3), faces.shape=(505, 3))> (0.522533)\n",
      "Mesh 14: <trimesh.Trimesh(vertices.shape=(291, 3), faces.shape=(469, 3))> (0.745093)\n",
      "Mesh 15: <trimesh.Trimesh(vertices.shape=(202, 3), faces.shape=(365, 3))> (0.281518)\n",
      "Mesh 16: <trimesh.Trimesh(vertices.shape=(192, 3), faces.shape=(348, 3))> (0.712683)\n",
      "Mesh 17: <trimesh.Trimesh(vertices.shape=(180, 3), faces.shape=(321, 3))> (0.434389)\n",
      "Mesh 18: <trimesh.Trimesh(vertices.shape=(153, 3), faces.shape=(273, 3))> (0.516585)\n",
      "Mesh 19: <trimesh.Trimesh(vertices.shape=(150, 3), faces.shape=(270, 3))> (0.6704325)\n",
      "Mesh 20: <trimesh.Trimesh(vertices.shape=(156, 3), faces.shape=(269, 3))> (0.424415)\n",
      "Mesh 21: <trimesh.Trimesh(vertices.shape=(132, 3), faces.shape=(242, 3))> (0.5027885)\n",
      "Mesh 22: <trimesh.Trimesh(vertices.shape=(129, 3), faces.shape=(238, 3))> (0.669331)\n",
      "Mesh 23: <trimesh.Trimesh(vertices.shape=(147, 3), faces.shape=(230, 3))> (0.41416549999999996)\n",
      "Mesh 24: <trimesh.Trimesh(vertices.shape=(115, 3), faces.shape=(206, 3))> (0.19987100000000002)\n",
      "Mesh 25: <trimesh.Trimesh(vertices.shape=(112, 3), faces.shape=(205, 3))> (0.603886)\n",
      "Mesh 26: <trimesh.Trimesh(vertices.shape=(99, 3), faces.shape=(179, 3))> (0.758938)\n",
      "Mesh 27: <trimesh.Trimesh(vertices.shape=(102, 3), faces.shape=(179, 3))> (0.494549)\n",
      "Mesh 28: <trimesh.Trimesh(vertices.shape=(99, 3), faces.shape=(169, 3))> (0.592639)\n",
      "Mesh 29: <trimesh.Trimesh(vertices.shape=(90, 3), faces.shape=(153, 3))> (0.318045)\n",
      "Mesh 30: <trimesh.Trimesh(vertices.shape=(74, 3), faces.shape=(131, 3))> (0.682623)\n",
      "Mesh 31: <trimesh.Trimesh(vertices.shape=(80, 3), faces.shape=(128, 3))> (0.44131750000000003)\n",
      "Mesh 32: <trimesh.Trimesh(vertices.shape=(71, 3), faces.shape=(119, 3))> (0.28982)\n",
      "Mesh 33: <trimesh.Trimesh(vertices.shape=(65, 3), faces.shape=(109, 3))> (0.426395)\n",
      "Mesh 34: <trimesh.Trimesh(vertices.shape=(61, 3), faces.shape=(104, 3))> (0.4408115)\n",
      "Mesh 35: <trimesh.Trimesh(vertices.shape=(54, 3), faces.shape=(100, 3))> (0.30425599999999997)\n",
      "Mesh 36: <trimesh.Trimesh(vertices.shape=(53, 3), faces.shape=(89, 3))> (0.561567)\n",
      "Mesh 37: <trimesh.Trimesh(vertices.shape=(51, 3), faces.shape=(89, 3))> (0.396401)\n",
      "Mesh 38: <trimesh.Trimesh(vertices.shape=(50, 3), faces.shape=(85, 3))> (0.71843)\n",
      "Mesh 39: <trimesh.Trimesh(vertices.shape=(63, 3), faces.shape=(85, 3))> (0.283466)\n",
      "Mesh 40: <trimesh.Trimesh(vertices.shape=(45, 3), faces.shape=(78, 3))> (0.582325)\n",
      "Mesh 41: <trimesh.Trimesh(vertices.shape=(39, 3), faces.shape=(67, 3))> (0.783349)\n",
      "Mesh 42: <trimesh.Trimesh(vertices.shape=(42, 3), faces.shape=(66, 3))> (0.419045)\n",
      "Mesh 43: <trimesh.Trimesh(vertices.shape=(39, 3), faces.shape=(60, 3))> (0.42072149999999997)\n",
      "Mesh 44: <trimesh.Trimesh(vertices.shape=(39, 3), faces.shape=(59, 3))> (0.318523)\n",
      "Mesh 45: <trimesh.Trimesh(vertices.shape=(36, 3), faces.shape=(59, 3))> (0.18817)\n",
      "Mesh 46: <trimesh.Trimesh(vertices.shape=(34, 3), faces.shape=(53, 3))> (0.565585)\n",
      "Mesh 47: <trimesh.Trimesh(vertices.shape=(31, 3), faces.shape=(53, 3))> (0.168883)\n",
      "Mesh 48: <trimesh.Trimesh(vertices.shape=(35, 3), faces.shape=(49, 3))> (0.630084)\n",
      "Mesh 49: <trimesh.Trimesh(vertices.shape=(32, 3), faces.shape=(46, 3))> (0.411215)\n",
      "Mesh 50: <trimesh.Trimesh(vertices.shape=(27, 3), faces.shape=(45, 3))> (0.737144)\n",
      "Mesh 51: <trimesh.Trimesh(vertices.shape=(25, 3), faces.shape=(43, 3))> (0.102407)\n",
      "Mesh 52: <trimesh.Trimesh(vertices.shape=(27, 3), faces.shape=(42, 3))> (0.2262855)\n",
      "Mesh 53: <trimesh.Trimesh(vertices.shape=(31, 3), faces.shape=(40, 3))> (0.5958215)\n",
      "Mesh 54: <trimesh.Trimesh(vertices.shape=(27, 3), faces.shape=(39, 3))> (0.369622)\n",
      "Mesh 55: <trimesh.Trimesh(vertices.shape=(25, 3), faces.shape=(38, 3))> (0.25583750000000005)\n",
      "Mesh 56: <trimesh.Trimesh(vertices.shape=(23, 3), faces.shape=(34, 3))> (0.546557)\n",
      "Mesh 57: <trimesh.Trimesh(vertices.shape=(19, 3), faces.shape=(33, 3))> (0.281938)\n",
      "Mesh 58: <trimesh.Trimesh(vertices.shape=(22, 3), faces.shape=(32, 3))> (0.297331)\n",
      "Mesh 59: <trimesh.Trimesh(vertices.shape=(22, 3), faces.shape=(31, 3))> (0.552875)\n",
      "Mesh 60: <trimesh.Trimesh(vertices.shape=(21, 3), faces.shape=(31, 3))> (0.275531)\n",
      "Mesh 61: <trimesh.Trimesh(vertices.shape=(20, 3), faces.shape=(31, 3))> (0.243401)\n",
      "Mesh 62: <trimesh.Trimesh(vertices.shape=(19, 3), faces.shape=(29, 3))> (0.43824)\n",
      "Mesh 63: <trimesh.Trimesh(vertices.shape=(19, 3), faces.shape=(28, 3))> (0.456054)\n",
      "Mesh 64: <trimesh.Trimesh(vertices.shape=(19, 3), faces.shape=(28, 3))> (0.260472)\n",
      "Mesh 65: <trimesh.Trimesh(vertices.shape=(18, 3), faces.shape=(27, 3))> (0.30965)\n",
      "Mesh 66: <trimesh.Trimesh(vertices.shape=(17, 3), faces.shape=(27, 3))> (0.201394)\n",
      "Mesh 67: <trimesh.Trimesh(vertices.shape=(19, 3), faces.shape=(25, 3))> (0.114075)\n",
      "Mesh 68: <trimesh.Trimesh(vertices.shape=(23, 3), faces.shape=(23, 3))> (0.224612)\n",
      "Mesh 69: <trimesh.Trimesh(vertices.shape=(14, 3), faces.shape=(22, 3))> (0.3566425)\n",
      "Mesh 70: <trimesh.Trimesh(vertices.shape=(15, 3), faces.shape=(22, 3))> (0.25139100000000003)\n",
      "Mesh 71: <trimesh.Trimesh(vertices.shape=(16, 3), faces.shape=(21, 3))> (0.440322)\n",
      "Mesh 72: <trimesh.Trimesh(vertices.shape=(15, 3), faces.shape=(21, 3))> (0.337365)\n",
      "Mesh 73: <trimesh.Trimesh(vertices.shape=(15, 3), faces.shape=(20, 3))> (0.693431)\n",
      "Mesh 74: <trimesh.Trimesh(vertices.shape=(15, 3), faces.shape=(20, 3))> (0.168461)\n",
      "Mesh 75: <trimesh.Trimesh(vertices.shape=(18, 3), faces.shape=(19, 3))> (0.539725)\n",
      "Mesh 76: <trimesh.Trimesh(vertices.shape=(15, 3), faces.shape=(19, 3))> (0.434062)\n",
      "Mesh 77: <trimesh.Trimesh(vertices.shape=(13, 3), faces.shape=(19, 3))> (0.134539)\n",
      "Mesh 78: <trimesh.Trimesh(vertices.shape=(15, 3), faces.shape=(18, 3))> (0.3977035)\n",
      "Mesh 79: <trimesh.Trimesh(vertices.shape=(12, 3), faces.shape=(16, 3))> (0.49365250000000005)\n",
      "Mesh 80: <trimesh.Trimesh(vertices.shape=(17, 3), faces.shape=(15, 3))> (0.694396)\n",
      "Mesh 81: <trimesh.Trimesh(vertices.shape=(13, 3), faces.shape=(15, 3))> (0.484552)\n",
      "Mesh 82: <trimesh.Trimesh(vertices.shape=(12, 3), faces.shape=(15, 3))> (0.145449)\n",
      "Mesh 83: <trimesh.Trimesh(vertices.shape=(17, 3), faces.shape=(15, 3))> (0.102017)\n",
      "Mesh 84: <trimesh.Trimesh(vertices.shape=(11, 3), faces.shape=(13, 3))> (0.283444)\n",
      "Mesh 85: <trimesh.Trimesh(vertices.shape=(9, 3), faces.shape=(13, 3))> (0.1519)\n",
      "Mesh 86: <trimesh.Trimesh(vertices.shape=(9, 3), faces.shape=(13, 3))> (0.149547)\n",
      "Mesh 87: <trimesh.Trimesh(vertices.shape=(10, 3), faces.shape=(13, 3))> (0.159042)\n",
      "Mesh 88: <trimesh.Trimesh(vertices.shape=(23, 3), faces.shape=(11, 3))> (0.0)\n",
      "Mesh 89: <trimesh.Trimesh(vertices.shape=(8, 3), faces.shape=(11, 3))> (0.391411)\n",
      "Mesh 90: <trimesh.Trimesh(vertices.shape=(9, 3), faces.shape=(11, 3))> (0.294238)\n",
      "Mesh 91: <trimesh.Trimesh(vertices.shape=(9, 3), faces.shape=(11, 3))> (0.235734)\n",
      "Mesh 92: <trimesh.Trimesh(vertices.shape=(9, 3), faces.shape=(11, 3))> (0.252018)\n",
      "Mesh 93: <trimesh.Trimesh(vertices.shape=(8, 3), faces.shape=(10, 3))> (0.33443500000000004)\n",
      "Mesh 94: <trimesh.Trimesh(vertices.shape=(8, 3), faces.shape=(10, 3))> (0.256124)\n",
      "Mesh 95: <trimesh.Trimesh(vertices.shape=(8, 3), faces.shape=(9, 3))> (0.407088)\n",
      "Mesh 96: <trimesh.Trimesh(vertices.shape=(7, 3), faces.shape=(9, 3))> (0.185023)\n",
      "Mesh 97: <trimesh.Trimesh(vertices.shape=(8, 3), faces.shape=(8, 3))> (0.3749315)\n",
      "Mesh 98: <trimesh.Trimesh(vertices.shape=(8, 3), faces.shape=(8, 3))> (0.3030475)\n",
      "Mesh 99: <trimesh.Trimesh(vertices.shape=(8, 3), faces.shape=(8, 3))> (0.317735)\n",
      "Mesh 100: <trimesh.Trimesh(vertices.shape=(7, 3), faces.shape=(8, 3))> (0.28191449999999996)\n",
      "Mesh 101: <trimesh.Trimesh(vertices.shape=(7, 3), faces.shape=(8, 3))> (0.26349849999999997)\n",
      "Mesh 102: <trimesh.Trimesh(vertices.shape=(7, 3), faces.shape=(7, 3))> (0.445518)\n",
      "Mesh 103: <trimesh.Trimesh(vertices.shape=(8, 3), faces.shape=(7, 3))> (0.41659)\n",
      "Mesh 104: <trimesh.Trimesh(vertices.shape=(6, 3), faces.shape=(7, 3))> (0.206116)\n",
      "Mesh 105: <trimesh.Trimesh(vertices.shape=(7, 3), faces.shape=(7, 3))> (0.232397)\n",
      "Mesh 106: <trimesh.Trimesh(vertices.shape=(7, 3), faces.shape=(6, 3))> (0.5683374999999999)\n",
      "Mesh 107: <trimesh.Trimesh(vertices.shape=(6, 3), faces.shape=(6, 3))> (0.4494395)\n",
      "Mesh 108: <trimesh.Trimesh(vertices.shape=(8, 3), faces.shape=(6, 3))> (0.4274985)\n",
      "Mesh 109: <trimesh.Trimesh(vertices.shape=(6, 3), faces.shape=(6, 3))> (0.36958749999999996)\n",
      "Mesh 110: <trimesh.Trimesh(vertices.shape=(6, 3), faces.shape=(6, 3))> (0.338915)\n",
      "Mesh 111: <trimesh.Trimesh(vertices.shape=(6, 3), faces.shape=(6, 3))> (0.3192585)\n",
      "Mesh 112: <trimesh.Trimesh(vertices.shape=(6, 3), faces.shape=(5, 3))> (0.493965)\n",
      "Mesh 113: <trimesh.Trimesh(vertices.shape=(5, 3), faces.shape=(5, 3))> (0.450624)\n",
      "Mesh 114: <trimesh.Trimesh(vertices.shape=(5, 3), faces.shape=(5, 3))> (0.321344)\n",
      "Mesh 115: <trimesh.Trimesh(vertices.shape=(5, 3), faces.shape=(5, 3))> (0.241578)\n",
      "Mesh 116: <trimesh.Trimesh(vertices.shape=(6, 3), faces.shape=(4, 3))> (0.486302)\n",
      "Mesh 117: <trimesh.Trimesh(vertices.shape=(5, 3), faces.shape=(4, 3))> (0.325836)\n",
      "Mesh 118: <trimesh.Trimesh(vertices.shape=(5, 3), faces.shape=(4, 3))> (0.189878)\n",
      "Mesh 119: <trimesh.Trimesh(vertices.shape=(4, 3), faces.shape=(3, 3))> (0.541673)\n",
      "Mesh 120: <trimesh.Trimesh(vertices.shape=(4, 3), faces.shape=(3, 3))> (0.458518)\n",
      "Mesh 121: <trimesh.Trimesh(vertices.shape=(4, 3), faces.shape=(3, 3))> (0.444235)\n",
      "Mesh 122: <trimesh.Trimesh(vertices.shape=(4, 3), faces.shape=(3, 3))> (0.418122)\n",
      "Mesh 123: <trimesh.Trimesh(vertices.shape=(4, 3), faces.shape=(3, 3))> (0.395293)\n",
      "Mesh 124: <trimesh.Trimesh(vertices.shape=(4, 3), faces.shape=(3, 3))> (0.387126)\n",
      "Mesh 125: <trimesh.Trimesh(vertices.shape=(4, 3), faces.shape=(3, 3))> (0.239815)\n",
      "Mesh 126: <trimesh.Trimesh(vertices.shape=(3, 3), faces.shape=(1, 3))> (0.742387)\n",
      "Mesh 127: <trimesh.Trimesh(vertices.shape=(3, 3), faces.shape=(1, 3))> (0.581794)\n"
     ]
    },
    {
     "data": {
      "application/vnd.jupyter.widget-view+json": {
       "model_id": "76864689cc99451fa2fd353b9b5933b9",
       "version_major": 2,
       "version_minor": 0
      },
      "text/plain": [
       "VBox(children=(Figure(camera=PerspectiveCamera(fov=46.0, position=(0.0, 0.0, 2.0), projectionMatrix=(1.0, 0.0,…"
      ]
     },
     "metadata": {},
     "output_type": "display_data"
    },
    {
     "name": "stdout",
     "output_type": "stream",
     "text": [
      "After volume filter\n",
      "Segmentation Info:\n",
      "Mesh 0: <trimesh.Trimesh(vertices.shape=(380, 3), faces.shape=(728, 3))> (0.667446)\n",
      "Mesh 1: <trimesh.Trimesh(vertices.shape=(359, 3), faces.shape=(676, 3))> (0.503616)\n",
      "Mesh 2: <trimesh.Trimesh(vertices.shape=(321, 3), faces.shape=(611, 3))> (0.575801)\n",
      "Mesh 3: <trimesh.Trimesh(vertices.shape=(283, 3), faces.shape=(542, 3))> (0.510389)\n",
      "Mesh 4: <trimesh.Trimesh(vertices.shape=(277, 3), faces.shape=(505, 3))> (0.522533)\n",
      "Mesh 5: <trimesh.Trimesh(vertices.shape=(202, 3), faces.shape=(365, 3))> (0.281518)\n",
      "Mesh 6: <trimesh.Trimesh(vertices.shape=(192, 3), faces.shape=(348, 3))> (0.712683)\n",
      "Mesh 7: <trimesh.Trimesh(vertices.shape=(180, 3), faces.shape=(321, 3))> (0.434389)\n",
      "Mesh 8: <trimesh.Trimesh(vertices.shape=(153, 3), faces.shape=(273, 3))> (0.516585)\n",
      "Mesh 9: <trimesh.Trimesh(vertices.shape=(150, 3), faces.shape=(270, 3))> (0.6704325)\n",
      "Mesh 10: <trimesh.Trimesh(vertices.shape=(156, 3), faces.shape=(269, 3))> (0.424415)\n",
      "Mesh 11: <trimesh.Trimesh(vertices.shape=(132, 3), faces.shape=(242, 3))> (0.5027885)\n",
      "Mesh 12: <trimesh.Trimesh(vertices.shape=(129, 3), faces.shape=(238, 3))> (0.669331)\n",
      "Mesh 13: <trimesh.Trimesh(vertices.shape=(147, 3), faces.shape=(230, 3))> (0.41416549999999996)\n",
      "Mesh 14: <trimesh.Trimesh(vertices.shape=(115, 3), faces.shape=(206, 3))> (0.19987100000000002)\n",
      "Mesh 15: <trimesh.Trimesh(vertices.shape=(112, 3), faces.shape=(205, 3))> (0.603886)\n",
      "Mesh 16: <trimesh.Trimesh(vertices.shape=(99, 3), faces.shape=(179, 3))> (0.758938)\n",
      "Mesh 17: <trimesh.Trimesh(vertices.shape=(102, 3), faces.shape=(179, 3))> (0.494549)\n",
      "Mesh 18: <trimesh.Trimesh(vertices.shape=(99, 3), faces.shape=(169, 3))> (0.592639)\n",
      "Mesh 19: <trimesh.Trimesh(vertices.shape=(90, 3), faces.shape=(153, 3))> (0.318045)\n",
      "Mesh 20: <trimesh.Trimesh(vertices.shape=(74, 3), faces.shape=(131, 3))> (0.682623)\n",
      "Mesh 21: <trimesh.Trimesh(vertices.shape=(80, 3), faces.shape=(128, 3))> (0.44131750000000003)\n",
      "Mesh 22: <trimesh.Trimesh(vertices.shape=(71, 3), faces.shape=(119, 3))> (0.28982)\n",
      "Mesh 23: <trimesh.Trimesh(vertices.shape=(65, 3), faces.shape=(109, 3))> (0.426395)\n",
      "Mesh 24: <trimesh.Trimesh(vertices.shape=(61, 3), faces.shape=(104, 3))> (0.4408115)\n",
      "Mesh 25: <trimesh.Trimesh(vertices.shape=(54, 3), faces.shape=(100, 3))> (0.30425599999999997)\n",
      "Mesh 26: <trimesh.Trimesh(vertices.shape=(53, 3), faces.shape=(89, 3))> (0.561567)\n",
      "Mesh 27: <trimesh.Trimesh(vertices.shape=(51, 3), faces.shape=(89, 3))> (0.396401)\n",
      "Mesh 28: <trimesh.Trimesh(vertices.shape=(50, 3), faces.shape=(85, 3))> (0.71843)\n",
      "Mesh 29: <trimesh.Trimesh(vertices.shape=(63, 3), faces.shape=(85, 3))> (0.283466)\n",
      "Mesh 30: <trimesh.Trimesh(vertices.shape=(45, 3), faces.shape=(78, 3))> (0.582325)\n",
      "Mesh 31: <trimesh.Trimesh(vertices.shape=(39, 3), faces.shape=(67, 3))> (0.783349)\n",
      "Mesh 32: <trimesh.Trimesh(vertices.shape=(42, 3), faces.shape=(66, 3))> (0.419045)\n",
      "Mesh 33: <trimesh.Trimesh(vertices.shape=(39, 3), faces.shape=(60, 3))> (0.42072149999999997)\n",
      "Mesh 34: <trimesh.Trimesh(vertices.shape=(39, 3), faces.shape=(59, 3))> (0.318523)\n",
      "Mesh 35: <trimesh.Trimesh(vertices.shape=(36, 3), faces.shape=(59, 3))> (0.18817)\n",
      "Mesh 36: <trimesh.Trimesh(vertices.shape=(34, 3), faces.shape=(53, 3))> (0.565585)\n",
      "Mesh 37: <trimesh.Trimesh(vertices.shape=(31, 3), faces.shape=(53, 3))> (0.168883)\n",
      "Mesh 38: <trimesh.Trimesh(vertices.shape=(35, 3), faces.shape=(49, 3))> (0.630084)\n",
      "Mesh 39: <trimesh.Trimesh(vertices.shape=(27, 3), faces.shape=(45, 3))> (0.737144)\n",
      "Mesh 40: <trimesh.Trimesh(vertices.shape=(25, 3), faces.shape=(43, 3))> (0.102407)\n",
      "Mesh 41: <trimesh.Trimesh(vertices.shape=(27, 3), faces.shape=(42, 3))> (0.2262855)\n",
      "Mesh 42: <trimesh.Trimesh(vertices.shape=(31, 3), faces.shape=(40, 3))> (0.5958215)\n",
      "Mesh 43: <trimesh.Trimesh(vertices.shape=(25, 3), faces.shape=(38, 3))> (0.25583750000000005)\n",
      "Mesh 44: <trimesh.Trimesh(vertices.shape=(23, 3), faces.shape=(34, 3))> (0.546557)\n",
      "Mesh 45: <trimesh.Trimesh(vertices.shape=(22, 3), faces.shape=(32, 3))> (0.297331)\n",
      "Mesh 46: <trimesh.Trimesh(vertices.shape=(21, 3), faces.shape=(31, 3))> (0.275531)\n",
      "Mesh 47: <trimesh.Trimesh(vertices.shape=(20, 3), faces.shape=(31, 3))> (0.243401)\n",
      "Mesh 48: <trimesh.Trimesh(vertices.shape=(19, 3), faces.shape=(29, 3))> (0.43824)\n",
      "Mesh 49: <trimesh.Trimesh(vertices.shape=(19, 3), faces.shape=(28, 3))> (0.456054)\n",
      "Mesh 50: <trimesh.Trimesh(vertices.shape=(18, 3), faces.shape=(27, 3))> (0.30965)\n",
      "Mesh 51: <trimesh.Trimesh(vertices.shape=(15, 3), faces.shape=(22, 3))> (0.25139100000000003)\n",
      "Mesh 52: <trimesh.Trimesh(vertices.shape=(15, 3), faces.shape=(20, 3))> (0.168461)\n",
      "Mesh 53: <trimesh.Trimesh(vertices.shape=(15, 3), faces.shape=(19, 3))> (0.434062)\n",
      "Mesh 54: <trimesh.Trimesh(vertices.shape=(13, 3), faces.shape=(15, 3))> (0.484552)\n",
      "Mesh 55: <trimesh.Trimesh(vertices.shape=(23, 3), faces.shape=(11, 3))> (0.0)\n",
      "Mesh 56: <trimesh.Trimesh(vertices.shape=(9, 3), faces.shape=(11, 3))> (0.252018)\n",
      "Mesh 57: <trimesh.Trimesh(vertices.shape=(7, 3), faces.shape=(8, 3))> (0.28191449999999996)\n"
     ]
    },
    {
     "data": {
      "application/vnd.jupyter.widget-view+json": {
       "model_id": "f508ade97fd04ae0b7e461a69a3dcff7",
       "version_major": 2,
       "version_minor": 0
      },
      "text/plain": [
       "VBox(children=(Figure(camera=PerspectiveCamera(fov=46.0, position=(0.0, 0.0, 2.0), projectionMatrix=(1.0, 0.0,…"
      ]
     },
     "metadata": {},
     "output_type": "display_data"
    },
    {
     "data": {
      "application/vnd.jupyter.widget-view+json": {
       "model_id": "363b20620bc2495bb9d089586038db5b",
       "version_major": 2,
       "version_minor": 0
      },
      "text/plain": [
       "VBox(children=(Figure(camera=PerspectiveCamera(fov=46.0, position=(0.0, 0.0, 2.0), projectionMatrix=(1.0, 0.0,…"
      ]
     },
     "metadata": {},
     "output_type": "display_data"
    },
    {
     "data": {
      "application/vnd.jupyter.widget-view+json": {
       "model_id": "799c727e7d454521a7325eedf6609af0",
       "version_major": 2,
       "version_minor": 0
      },
      "text/plain": [
       "  0%|          | 0/285 [00:00<?, ?it/s]"
      ]
     },
     "metadata": {},
     "output_type": "display_data"
    },
    {
     "data": {
      "application/vnd.jupyter.widget-view+json": {
       "model_id": "83a301326d6a4ffca724dbeb59458bd9",
       "version_major": 2,
       "version_minor": 0
      },
      "text/plain": [
       "  0%|          | 0/384 [00:00<?, ?it/s]"
      ]
     },
     "metadata": {},
     "output_type": "display_data"
    },
    {
     "data": {
      "application/vnd.jupyter.widget-view+json": {
       "model_id": "ea3f8cfe0419446d9937ffde878c7607",
       "version_major": 2,
       "version_minor": 0
      },
      "text/plain": [
       "  0%|          | 0/21 [00:00<?, ?it/s]"
      ]
     },
     "metadata": {},
     "output_type": "display_data"
    },
    {
     "data": {
      "application/vnd.jupyter.widget-view+json": {
       "model_id": "6d65a54e5c2c4ed787028b998c390562",
       "version_major": 2,
       "version_minor": 0
      },
      "text/plain": [
       "  0%|          | 0/16 [00:00<?, ?it/s]"
      ]
     },
     "metadata": {},
     "output_type": "display_data"
    },
    {
     "data": {
      "application/vnd.jupyter.widget-view+json": {
       "model_id": "8edd19f6efa14944abe436f84ed7b9a3",
       "version_major": 2,
       "version_minor": 0
      },
      "text/plain": [
       "  0%|          | 0/28 [00:00<?, ?it/s]"
      ]
     },
     "metadata": {},
     "output_type": "display_data"
    },
    {
     "data": {
      "application/vnd.jupyter.widget-view+json": {
       "model_id": "ffd47ddfbfee4bc7a5da9c46cc834e5d",
       "version_major": 2,
       "version_minor": 0
      },
      "text/plain": [
       "  0%|          | 0/63 [00:00<?, ?it/s]"
      ]
     },
     "metadata": {},
     "output_type": "display_data"
    },
    {
     "data": {
      "application/vnd.jupyter.widget-view+json": {
       "model_id": "74fa82db92244f9abd3861893d4c0ec1",
       "version_major": 2,
       "version_minor": 0
      },
      "text/plain": [
       "  0%|          | 0/38 [00:00<?, ?it/s]"
      ]
     },
     "metadata": {},
     "output_type": "display_data"
    },
    {
     "data": {
      "application/vnd.jupyter.widget-view+json": {
       "model_id": "9e8c003468474e0e9f24b805abff8ff9",
       "version_major": 2,
       "version_minor": 0
      },
      "text/plain": [
       "  0%|          | 0/22 [00:00<?, ?it/s]"
      ]
     },
     "metadata": {},
     "output_type": "display_data"
    },
    {
     "data": {
      "application/vnd.jupyter.widget-view+json": {
       "model_id": "3242bf2a762540bcb7ddda2f14e79214",
       "version_major": 2,
       "version_minor": 0
      },
      "text/plain": [
       "  0%|          | 0/35 [00:00<?, ?it/s]"
      ]
     },
     "metadata": {},
     "output_type": "display_data"
    },
    {
     "data": {
      "application/vnd.jupyter.widget-view+json": {
       "model_id": "8abc298ef12e440d8a32b3d6fa7f5526",
       "version_major": 2,
       "version_minor": 0
      },
      "text/plain": [
       "  0%|          | 0/17 [00:00<?, ?it/s]"
      ]
     },
     "metadata": {},
     "output_type": "display_data"
    },
    {
     "data": {
      "application/vnd.jupyter.widget-view+json": {
       "model_id": "2364a244c063441c8b434ab44b68b6b2",
       "version_major": 2,
       "version_minor": 0
      },
      "text/plain": [
       "  0%|          | 0/22 [00:00<?, ?it/s]"
      ]
     },
     "metadata": {},
     "output_type": "display_data"
    },
    {
     "data": {
      "application/vnd.jupyter.widget-view+json": {
       "model_id": "e10db52a2e5e485d964c36d6940b39c9",
       "version_major": 2,
       "version_minor": 0
      },
      "text/plain": [
       "  0%|          | 0/22 [00:00<?, ?it/s]"
      ]
     },
     "metadata": {},
     "output_type": "display_data"
    },
    {
     "data": {
      "application/vnd.jupyter.widget-view+json": {
       "model_id": "0fb0b698c8444a359c8ebe947990583f",
       "version_major": 2,
       "version_minor": 0
      },
      "text/plain": [
       "  0%|          | 0/43 [00:00<?, ?it/s]"
      ]
     },
     "metadata": {},
     "output_type": "display_data"
    },
    {
     "data": {
      "application/vnd.jupyter.widget-view+json": {
       "model_id": "215389bd6a5f4263a56acd605c58565b",
       "version_major": 2,
       "version_minor": 0
      },
      "text/plain": [
       "  0%|          | 0/29 [00:00<?, ?it/s]"
      ]
     },
     "metadata": {},
     "output_type": "display_data"
    },
    {
     "data": {
      "application/vnd.jupyter.widget-view+json": {
       "model_id": "35d6090fb83f42ee9b4757f86ba73528",
       "version_major": 2,
       "version_minor": 0
      },
      "text/plain": [
       "  0%|          | 0/40 [00:00<?, ?it/s]"
      ]
     },
     "metadata": {},
     "output_type": "display_data"
    },
    {
     "data": {
      "application/vnd.jupyter.widget-view+json": {
       "model_id": "2cc3e02997234e2281aa8530e77ce606",
       "version_major": 2,
       "version_minor": 0
      },
      "text/plain": [
       "  0%|          | 0/37 [00:00<?, ?it/s]"
      ]
     },
     "metadata": {},
     "output_type": "display_data"
    },
    {
     "data": {
      "application/vnd.jupyter.widget-view+json": {
       "model_id": "acd083b1fabd453a8080c0293b9cfd9d",
       "version_major": 2,
       "version_minor": 0
      },
      "text/plain": [
       "  0%|          | 0/26 [00:00<?, ?it/s]"
      ]
     },
     "metadata": {},
     "output_type": "display_data"
    },
    {
     "data": {
      "application/vnd.jupyter.widget-view+json": {
       "model_id": "ad100ec1ef844abbb8634717b5afcd99",
       "version_major": 2,
       "version_minor": 0
      },
      "text/plain": [
       "  0%|          | 0/17 [00:00<?, ?it/s]"
      ]
     },
     "metadata": {},
     "output_type": "display_data"
    },
    {
     "data": {
      "application/vnd.jupyter.widget-view+json": {
       "model_id": "d3b0b7ee42254b28aa01914302b2c0a3",
       "version_major": 2,
       "version_minor": 0
      },
      "text/plain": [
       "  0%|          | 0/33 [00:00<?, ?it/s]"
      ]
     },
     "metadata": {},
     "output_type": "display_data"
    },
    {
     "data": {
      "application/vnd.jupyter.widget-view+json": {
       "model_id": "52287a9220f24c368d9c345f0fd03029",
       "version_major": 2,
       "version_minor": 0
      },
      "text/plain": [
       "  0%|          | 0/16 [00:00<?, ?it/s]"
      ]
     },
     "metadata": {},
     "output_type": "display_data"
    },
    {
     "data": {
      "application/vnd.jupyter.widget-view+json": {
       "model_id": "8981b70d930c4ac08b8866872a844141",
       "version_major": 2,
       "version_minor": 0
      },
      "text/plain": [
       "  0%|          | 0/23 [00:00<?, ?it/s]"
      ]
     },
     "metadata": {},
     "output_type": "display_data"
    },
    {
     "data": {
      "application/vnd.jupyter.widget-view+json": {
       "model_id": "6369385323244e948a15594720992ae8",
       "version_major": 2,
       "version_minor": 0
      },
      "text/plain": [
       "  0%|          | 0/54 [00:00<?, ?it/s]"
      ]
     },
     "metadata": {},
     "output_type": "display_data"
    },
    {
     "data": {
      "application/vnd.jupyter.widget-view+json": {
       "model_id": "4f60d724ee714f8d94a2c23727456f0c",
       "version_major": 2,
       "version_minor": 0
      },
      "text/plain": [
       "  0%|          | 0/372 [00:00<?, ?it/s]"
      ]
     },
     "metadata": {},
     "output_type": "display_data"
    },
    {
     "data": {
      "application/vnd.jupyter.widget-view+json": {
       "model_id": "61a24737da8645e1b4cdac6d2ed9c27f",
       "version_major": 2,
       "version_minor": 0
      },
      "text/plain": [
       "  0%|          | 0/328 [00:00<?, ?it/s]"
      ]
     },
     "metadata": {},
     "output_type": "display_data"
    },
    {
     "data": {
      "application/vnd.jupyter.widget-view+json": {
       "model_id": "1527555708584f8b81ea02eac82c3416",
       "version_major": 2,
       "version_minor": 0
      },
      "text/plain": [
       "  0%|          | 0/32 [00:00<?, ?it/s]"
      ]
     },
     "metadata": {},
     "output_type": "display_data"
    },
    {
     "data": {
      "application/vnd.jupyter.widget-view+json": {
       "model_id": "248aac3f45134f6e86c9fd1f17b1ecab",
       "version_major": 2,
       "version_minor": 0
      },
      "text/plain": [
       "  0%|          | 0/19 [00:00<?, ?it/s]"
      ]
     },
     "metadata": {},
     "output_type": "display_data"
    },
    {
     "data": {
      "application/vnd.jupyter.widget-view+json": {
       "model_id": "6873ecdd5683431baabb5d81bb5827eb",
       "version_major": 2,
       "version_minor": 0
      },
      "text/plain": [
       "  0%|          | 0/18 [00:00<?, ?it/s]"
      ]
     },
     "metadata": {},
     "output_type": "display_data"
    },
    {
     "data": {
      "application/vnd.jupyter.widget-view+json": {
       "model_id": "3a318da571bf4126a2c96d8f92e2e91b",
       "version_major": 2,
       "version_minor": 0
      },
      "text/plain": [
       "  0%|          | 0/21 [00:00<?, ?it/s]"
      ]
     },
     "metadata": {},
     "output_type": "display_data"
    },
    {
     "data": {
      "application/vnd.jupyter.widget-view+json": {
       "model_id": "cf8f09b8932d492e8021428bf889dc4f",
       "version_major": 2,
       "version_minor": 0
      },
      "text/plain": [
       "  0%|          | 0/15 [00:00<?, ?it/s]"
      ]
     },
     "metadata": {},
     "output_type": "display_data"
    },
    {
     "data": {
      "application/vnd.jupyter.widget-view+json": {
       "model_id": "b49f0b36fbbc45989920eb987a933f72",
       "version_major": 2,
       "version_minor": 0
      },
      "text/plain": [
       "  0%|          | 0/30 [00:00<?, ?it/s]"
      ]
     },
     "metadata": {},
     "output_type": "display_data"
    },
    {
     "data": {
      "application/vnd.jupyter.widget-view+json": {
       "model_id": "8e931f4c454943e3bb3718f647f9aaa5",
       "version_major": 2,
       "version_minor": 0
      },
      "text/plain": [
       "  0%|          | 0/19 [00:00<?, ?it/s]"
      ]
     },
     "metadata": {},
     "output_type": "display_data"
    },
    {
     "data": {
      "application/vnd.jupyter.widget-view+json": {
       "model_id": "d650f9cf961e445394c4c16ae4e17470",
       "version_major": 2,
       "version_minor": 0
      },
      "text/plain": [
       "  0%|          | 0/26 [00:00<?, ?it/s]"
      ]
     },
     "metadata": {},
     "output_type": "display_data"
    },
    {
     "data": {
      "application/vnd.jupyter.widget-view+json": {
       "model_id": "cdefa061184a4ad8b265a52f47c2dada",
       "version_major": 2,
       "version_minor": 0
      },
      "text/plain": [
       "  0%|          | 0/35 [00:00<?, ?it/s]"
      ]
     },
     "metadata": {},
     "output_type": "display_data"
    },
    {
     "data": {
      "application/vnd.jupyter.widget-view+json": {
       "model_id": "a08f0dd039fd437b99d1c73e9002051b",
       "version_major": 2,
       "version_minor": 0
      },
      "text/plain": [
       "  0%|          | 0/11 [00:00<?, ?it/s]"
      ]
     },
     "metadata": {},
     "output_type": "display_data"
    },
    {
     "data": {
      "application/vnd.jupyter.widget-view+json": {
       "model_id": "359632a7672b44d4b24c4c522b43cdea",
       "version_major": 2,
       "version_minor": 0
      },
      "text/plain": [
       "  0%|          | 0/19 [00:00<?, ?it/s]"
      ]
     },
     "metadata": {},
     "output_type": "display_data"
    },
    {
     "data": {
      "application/vnd.jupyter.widget-view+json": {
       "model_id": "6124be06be28434ba327a691e17739d0",
       "version_major": 2,
       "version_minor": 0
      },
      "text/plain": [
       "  0%|          | 0/53 [00:00<?, ?it/s]"
      ]
     },
     "metadata": {},
     "output_type": "display_data"
    },
    {
     "data": {
      "application/vnd.jupyter.widget-view+json": {
       "model_id": "5e9d51ad8e87476c886398b6dd41238a",
       "version_major": 2,
       "version_minor": 0
      },
      "text/plain": [
       "  0%|          | 0/39 [00:00<?, ?it/s]"
      ]
     },
     "metadata": {},
     "output_type": "display_data"
    },
    {
     "data": {
      "application/vnd.jupyter.widget-view+json": {
       "model_id": "f3787baef3854b2e9c3b567bd36c18e0",
       "version_major": 2,
       "version_minor": 0
      },
      "text/plain": [
       "  0%|          | 0/22 [00:00<?, ?it/s]"
      ]
     },
     "metadata": {},
     "output_type": "display_data"
    },
    {
     "data": {
      "application/vnd.jupyter.widget-view+json": {
       "model_id": "0a6a5472471e462697c76964206f7e47",
       "version_major": 2,
       "version_minor": 0
      },
      "text/plain": [
       "  0%|          | 0/19 [00:00<?, ?it/s]"
      ]
     },
     "metadata": {},
     "output_type": "display_data"
    },
    {
     "data": {
      "application/vnd.jupyter.widget-view+json": {
       "model_id": "1b6040450159421985f29a6968813779",
       "version_major": 2,
       "version_minor": 0
      },
      "text/plain": [
       "  0%|          | 0/22 [00:00<?, ?it/s]"
      ]
     },
     "metadata": {},
     "output_type": "display_data"
    },
    {
     "data": {
      "application/vnd.jupyter.widget-view+json": {
       "model_id": "4245f927ea8f4eb68a51765e686367af",
       "version_major": 2,
       "version_minor": 0
      },
      "text/plain": [
       "  0%|          | 0/51 [00:00<?, ?it/s]"
      ]
     },
     "metadata": {},
     "output_type": "display_data"
    },
    {
     "data": {
      "application/vnd.jupyter.widget-view+json": {
       "model_id": "8df23e3f4a904048a4dd5bbc63d61414",
       "version_major": 2,
       "version_minor": 0
      },
      "text/plain": [
       "  0%|          | 0/26 [00:00<?, ?it/s]"
      ]
     },
     "metadata": {},
     "output_type": "display_data"
    },
    {
     "data": {
      "application/vnd.jupyter.widget-view+json": {
       "model_id": "2709fb30d1ff485caf869c1af6b597b8",
       "version_major": 2,
       "version_minor": 0
      },
      "text/plain": [
       "  0%|          | 0/10 [00:00<?, ?it/s]"
      ]
     },
     "metadata": {},
     "output_type": "display_data"
    },
    {
     "data": {
      "application/vnd.jupyter.widget-view+json": {
       "model_id": "9446cfe7adf54180acb16c0509adb67f",
       "version_major": 2,
       "version_minor": 0
      },
      "text/plain": [
       "  0%|          | 0/23 [00:00<?, ?it/s]"
      ]
     },
     "metadata": {},
     "output_type": "display_data"
    },
    {
     "data": {
      "application/vnd.jupyter.widget-view+json": {
       "model_id": "f7522269ef894170a7c1b83db31c8116",
       "version_major": 2,
       "version_minor": 0
      },
      "text/plain": [
       "  0%|          | 0/33 [00:00<?, ?it/s]"
      ]
     },
     "metadata": {},
     "output_type": "display_data"
    },
    {
     "data": {
      "application/vnd.jupyter.widget-view+json": {
       "model_id": "3d6b3af2144341cfa7fc68e6d973278e",
       "version_major": 2,
       "version_minor": 0
      },
      "text/plain": [
       "  0%|          | 0/14 [00:00<?, ?it/s]"
      ]
     },
     "metadata": {},
     "output_type": "display_data"
    },
    {
     "data": {
      "application/vnd.jupyter.widget-view+json": {
       "model_id": "641341613bb44ad2a12b4854ec49e503",
       "version_major": 2,
       "version_minor": 0
      },
      "text/plain": [
       "  0%|          | 0/41 [00:00<?, ?it/s]"
      ]
     },
     "metadata": {},
     "output_type": "display_data"
    },
    {
     "data": {
      "application/vnd.jupyter.widget-view+json": {
       "model_id": "6f0408b99f0e463ca2624f0088ab0004",
       "version_major": 2,
       "version_minor": 0
      },
      "text/plain": [
       "  0%|          | 0/17 [00:00<?, ?it/s]"
      ]
     },
     "metadata": {},
     "output_type": "display_data"
    },
    {
     "data": {
      "application/vnd.jupyter.widget-view+json": {
       "model_id": "d14a3a5725ab4d0ca9e117e8ccb5e54f",
       "version_major": 2,
       "version_minor": 0
      },
      "text/plain": [
       "  0%|          | 0/20 [00:00<?, ?it/s]"
      ]
     },
     "metadata": {},
     "output_type": "display_data"
    },
    {
     "data": {
      "application/vnd.jupyter.widget-view+json": {
       "model_id": "ef141de720da4d7799dc8d3e12f07f53",
       "version_major": 2,
       "version_minor": 0
      },
      "text/plain": [
       "  0%|          | 0/36 [00:00<?, ?it/s]"
      ]
     },
     "metadata": {},
     "output_type": "display_data"
    },
    {
     "data": {
      "application/vnd.jupyter.widget-view+json": {
       "model_id": "8d67d7a4ba104fa59c844784c12930cc",
       "version_major": 2,
       "version_minor": 0
      },
      "text/plain": [
       "  0%|          | 0/38 [00:00<?, ?it/s]"
      ]
     },
     "metadata": {},
     "output_type": "display_data"
    },
    {
     "data": {
      "application/vnd.jupyter.widget-view+json": {
       "model_id": "d71dc9e0a74b4cdcb020ab64c4b09f26",
       "version_major": 2,
       "version_minor": 0
      },
      "text/plain": [
       "  0%|          | 0/46 [00:00<?, ?it/s]"
      ]
     },
     "metadata": {},
     "output_type": "display_data"
    },
    {
     "data": {
      "application/vnd.jupyter.widget-view+json": {
       "model_id": "a6baca168f6441bc99e5edc97c42e1c0",
       "version_major": 2,
       "version_minor": 0
      },
      "text/plain": [
       "  0%|          | 0/13 [00:00<?, ?it/s]"
      ]
     },
     "metadata": {},
     "output_type": "display_data"
    },
    {
     "data": {
      "application/vnd.jupyter.widget-view+json": {
       "model_id": "959ea4b9ade449e280e6c7c2387f95ef",
       "version_major": 2,
       "version_minor": 0
      },
      "text/plain": [
       "  0%|          | 0/24 [00:00<?, ?it/s]"
      ]
     },
     "metadata": {},
     "output_type": "display_data"
    },
    {
     "data": {
      "application/vnd.jupyter.widget-view+json": {
       "model_id": "947f1b82f3a547dbaf944c4f5d095b91",
       "version_major": 2,
       "version_minor": 0
      },
      "text/plain": [
       "  0%|          | 0/6 [00:00<?, ?it/s]"
      ]
     },
     "metadata": {},
     "output_type": "display_data"
    },
    {
     "data": {
      "application/vnd.jupyter.widget-view+json": {
       "model_id": "bc010b7baf144d1d907fc00c25942317",
       "version_major": 2,
       "version_minor": 0
      },
      "text/plain": [
       "  0%|          | 0/24 [00:00<?, ?it/s]"
      ]
     },
     "metadata": {},
     "output_type": "display_data"
    },
    {
     "data": {
      "application/vnd.jupyter.widget-view+json": {
       "model_id": "8310dda03f2840649a11df2a1d759ab5",
       "version_major": 2,
       "version_minor": 0
      },
      "text/plain": [
       "  0%|          | 0/50 [00:00<?, ?it/s]"
      ]
     },
     "metadata": {},
     "output_type": "display_data"
    },
    {
     "data": {
      "application/vnd.jupyter.widget-view+json": {
       "model_id": "0999edeae1e54cfe80a89c54396582d1",
       "version_major": 2,
       "version_minor": 0
      },
      "text/plain": [
       "  0%|          | 0/30 [00:00<?, ?it/s]"
      ]
     },
     "metadata": {},
     "output_type": "display_data"
    },
    {
     "data": {
      "application/vnd.jupyter.widget-view+json": {
       "model_id": "7cb1b084d5db47fb9dd682a041d68af9",
       "version_major": 2,
       "version_minor": 0
      },
      "text/plain": [
       "  0%|          | 0/17 [00:00<?, ?it/s]"
      ]
     },
     "metadata": {},
     "output_type": "display_data"
    },
    {
     "data": {
      "application/vnd.jupyter.widget-view+json": {
       "model_id": "a6c8bfd86f4f4fcc9451404b980e8005",
       "version_major": 2,
       "version_minor": 0
      },
      "text/plain": [
       "  0%|          | 0/37 [00:00<?, ?it/s]"
      ]
     },
     "metadata": {},
     "output_type": "display_data"
    },
    {
     "data": {
      "application/vnd.jupyter.widget-view+json": {
       "model_id": "a48ac45ae7504feaa1eb9b2155d285dd",
       "version_major": 2,
       "version_minor": 0
      },
      "text/plain": [
       "  0%|          | 0/21 [00:00<?, ?it/s]"
      ]
     },
     "metadata": {},
     "output_type": "display_data"
    },
    {
     "data": {
      "application/vnd.jupyter.widget-view+json": {
       "model_id": "5812e114b687441c8e4c8e47657a40dc",
       "version_major": 2,
       "version_minor": 0
      },
      "text/plain": [
       "  0%|          | 0/19 [00:00<?, ?it/s]"
      ]
     },
     "metadata": {},
     "output_type": "display_data"
    },
    {
     "data": {
      "application/vnd.jupyter.widget-view+json": {
       "model_id": "9f876a60919748caa3b8f4416f6da353",
       "version_major": 2,
       "version_minor": 0
      },
      "text/plain": [
       "  0%|          | 0/27 [00:00<?, ?it/s]"
      ]
     },
     "metadata": {},
     "output_type": "display_data"
    },
    {
     "data": {
      "application/vnd.jupyter.widget-view+json": {
       "model_id": "12631b07f9da453ba810d6256ecf38d0",
       "version_major": 2,
       "version_minor": 0
      },
      "text/plain": [
       "  0%|          | 0/18 [00:00<?, ?it/s]"
      ]
     },
     "metadata": {},
     "output_type": "display_data"
    },
    {
     "data": {
      "application/vnd.jupyter.widget-view+json": {
       "model_id": "64888cbb9a324db1b85b298759a91d1c",
       "version_major": 2,
       "version_minor": 0
      },
      "text/plain": [
       "  0%|          | 0/12 [00:00<?, ?it/s]"
      ]
     },
     "metadata": {},
     "output_type": "display_data"
    },
    {
     "data": {
      "application/vnd.jupyter.widget-view+json": {
       "model_id": "77c072cb0b464526a7f6d29ffb3f12ee",
       "version_major": 2,
       "version_minor": 0
      },
      "text/plain": [
       "  0%|          | 0/12 [00:00<?, ?it/s]"
      ]
     },
     "metadata": {},
     "output_type": "display_data"
    },
    {
     "data": {
      "application/vnd.jupyter.widget-view+json": {
       "model_id": "70b076f8c22145f684b255a68641ef29",
       "version_major": 2,
       "version_minor": 0
      },
      "text/plain": [
       "  0%|          | 0/11 [00:00<?, ?it/s]"
      ]
     },
     "metadata": {},
     "output_type": "display_data"
    },
    {
     "data": {
      "application/vnd.jupyter.widget-view+json": {
       "model_id": "930fede9b79e41b488c7cfc0a39ee311",
       "version_major": 2,
       "version_minor": 0
      },
      "text/plain": [
       "  0%|          | 0/35 [00:00<?, ?it/s]"
      ]
     },
     "metadata": {},
     "output_type": "display_data"
    },
    {
     "data": {
      "application/vnd.jupyter.widget-view+json": {
       "model_id": "8fd57941d92f433db0453d4a01a93fac",
       "version_major": 2,
       "version_minor": 0
      },
      "text/plain": [
       "  0%|          | 0/44 [00:00<?, ?it/s]"
      ]
     },
     "metadata": {},
     "output_type": "display_data"
    },
    {
     "data": {
      "application/vnd.jupyter.widget-view+json": {
       "model_id": "37f795b53b5e416a903e9fba24d410ea",
       "version_major": 2,
       "version_minor": 0
      },
      "text/plain": [
       "  0%|          | 0/31 [00:00<?, ?it/s]"
      ]
     },
     "metadata": {},
     "output_type": "display_data"
    },
    {
     "data": {
      "application/vnd.jupyter.widget-view+json": {
       "model_id": "656fcd7f839d4ade889f3f56767cbfb5",
       "version_major": 2,
       "version_minor": 0
      },
      "text/plain": [
       "  0%|          | 0/20 [00:00<?, ?it/s]"
      ]
     },
     "metadata": {},
     "output_type": "display_data"
    },
    {
     "data": {
      "application/vnd.jupyter.widget-view+json": {
       "model_id": "e55bc06d675c4907bcf68b59dd0739a4",
       "version_major": 2,
       "version_minor": 0
      },
      "text/plain": [
       "  0%|          | 0/24 [00:00<?, ?it/s]"
      ]
     },
     "metadata": {},
     "output_type": "display_data"
    },
    {
     "data": {
      "application/vnd.jupyter.widget-view+json": {
       "model_id": "10e6ee4a555a4707963b9762f11a9a1a",
       "version_major": 2,
       "version_minor": 0
      },
      "text/plain": [
       "  0%|          | 0/72 [00:00<?, ?it/s]"
      ]
     },
     "metadata": {},
     "output_type": "display_data"
    },
    {
     "data": {
      "application/vnd.jupyter.widget-view+json": {
       "model_id": "6296fb7d0a6e48e58895add4e416c347",
       "version_major": 2,
       "version_minor": 0
      },
      "text/plain": [
       "  0%|          | 0/32 [00:00<?, ?it/s]"
      ]
     },
     "metadata": {},
     "output_type": "display_data"
    },
    {
     "data": {
      "application/vnd.jupyter.widget-view+json": {
       "model_id": "846ca77897214337b9ec924b29302e48",
       "version_major": 2,
       "version_minor": 0
      },
      "text/plain": [
       "  0%|          | 0/33 [00:00<?, ?it/s]"
      ]
     },
     "metadata": {},
     "output_type": "display_data"
    },
    {
     "data": {
      "application/vnd.jupyter.widget-view+json": {
       "model_id": "e20123fbba104b4ab72a20fcc2cd7895",
       "version_major": 2,
       "version_minor": 0
      },
      "text/plain": [
       "  0%|          | 0/40 [00:00<?, ?it/s]"
      ]
     },
     "metadata": {},
     "output_type": "display_data"
    },
    {
     "data": {
      "application/vnd.jupyter.widget-view+json": {
       "model_id": "2db78b126b9545b0a5d78d72d5b66c60",
       "version_major": 2,
       "version_minor": 0
      },
      "text/plain": [
       "  0%|          | 0/35 [00:00<?, ?it/s]"
      ]
     },
     "metadata": {},
     "output_type": "display_data"
    },
    {
     "data": {
      "application/vnd.jupyter.widget-view+json": {
       "model_id": "eb0ffe7165904c3f9d0a60cc10ba71e4",
       "version_major": 2,
       "version_minor": 0
      },
      "text/plain": [
       "  0%|          | 0/58 [00:00<?, ?it/s]"
      ]
     },
     "metadata": {},
     "output_type": "display_data"
    },
    {
     "data": {
      "application/vnd.jupyter.widget-view+json": {
       "model_id": "a3403d7e80e5464eb623421b2793f197",
       "version_major": 2,
       "version_minor": 0
      },
      "text/plain": [
       "  0%|          | 0/33 [00:00<?, ?it/s]"
      ]
     },
     "metadata": {},
     "output_type": "display_data"
    },
    {
     "data": {
      "application/vnd.jupyter.widget-view+json": {
       "model_id": "3b1df8c1bfc54a5b929df585e4aea8a9",
       "version_major": 2,
       "version_minor": 0
      },
      "text/plain": [
       "  0%|          | 0/40 [00:00<?, ?it/s]"
      ]
     },
     "metadata": {},
     "output_type": "display_data"
    },
    {
     "data": {
      "application/vnd.jupyter.widget-view+json": {
       "model_id": "370f4ce0ede641e89053439d0b81c98f",
       "version_major": 2,
       "version_minor": 0
      },
      "text/plain": [
       "  0%|          | 0/10 [00:00<?, ?it/s]"
      ]
     },
     "metadata": {},
     "output_type": "display_data"
    },
    {
     "data": {
      "application/vnd.jupyter.widget-view+json": {
       "model_id": "8137148d5bc141d8adb93a26c3d8d5d8",
       "version_major": 2,
       "version_minor": 0
      },
      "text/plain": [
       "  0%|          | 0/313 [00:00<?, ?it/s]"
      ]
     },
     "metadata": {},
     "output_type": "display_data"
    },
    {
     "data": {
      "application/vnd.jupyter.widget-view+json": {
       "model_id": "66fa209d181942af94c7e96258cbffb6",
       "version_major": 2,
       "version_minor": 0
      },
      "text/plain": [
       "  0%|          | 0/21 [00:00<?, ?it/s]"
      ]
     },
     "metadata": {},
     "output_type": "display_data"
    },
    {
     "data": {
      "application/vnd.jupyter.widget-view+json": {
       "model_id": "ba62b071d9ec48268ee6ca2cf94f63b3",
       "version_major": 2,
       "version_minor": 0
      },
      "text/plain": [
       "  0%|          | 0/458 [00:00<?, ?it/s]"
      ]
     },
     "metadata": {},
     "output_type": "display_data"
    },
    {
     "data": {
      "application/vnd.jupyter.widget-view+json": {
       "model_id": "44f9809a1748472691f387677da2aebf",
       "version_major": 2,
       "version_minor": 0
      },
      "text/plain": [
       "  0%|          | 0/21 [00:00<?, ?it/s]"
      ]
     },
     "metadata": {},
     "output_type": "display_data"
    },
    {
     "data": {
      "application/vnd.jupyter.widget-view+json": {
       "model_id": "1a9f400b9a6a4e57b49e88c63b9d7cab",
       "version_major": 2,
       "version_minor": 0
      },
      "text/plain": [
       "  0%|          | 0/32 [00:00<?, ?it/s]"
      ]
     },
     "metadata": {},
     "output_type": "display_data"
    },
    {
     "data": {
      "application/vnd.jupyter.widget-view+json": {
       "model_id": "f17c470c2cad4d519d382c3b00ecd1e8",
       "version_major": 2,
       "version_minor": 0
      },
      "text/plain": [
       "  0%|          | 0/13 [00:00<?, ?it/s]"
      ]
     },
     "metadata": {},
     "output_type": "display_data"
    },
    {
     "data": {
      "application/vnd.jupyter.widget-view+json": {
       "model_id": "c7785897d2694dbdbf7dea0dbe6fc4a3",
       "version_major": 2,
       "version_minor": 0
      },
      "text/plain": [
       "  0%|          | 0/63 [00:00<?, ?it/s]"
      ]
     },
     "metadata": {},
     "output_type": "display_data"
    },
    {
     "data": {
      "application/vnd.jupyter.widget-view+json": {
       "model_id": "24251ac1c25a4a38b9c589f211d16eee",
       "version_major": 2,
       "version_minor": 0
      },
      "text/plain": [
       "  0%|          | 0/146 [00:00<?, ?it/s]"
      ]
     },
     "metadata": {},
     "output_type": "display_data"
    },
    {
     "data": {
      "application/vnd.jupyter.widget-view+json": {
       "model_id": "16af2e1d641e4d94a26e876e5364febd",
       "version_major": 2,
       "version_minor": 0
      },
      "text/plain": [
       "  0%|          | 0/25 [00:00<?, ?it/s]"
      ]
     },
     "metadata": {},
     "output_type": "display_data"
    },
    {
     "data": {
      "application/vnd.jupyter.widget-view+json": {
       "model_id": "d1945058bf454e18ba2708144c29df10",
       "version_major": 2,
       "version_minor": 0
      },
      "text/plain": [
       "  0%|          | 0/273 [00:00<?, ?it/s]"
      ]
     },
     "metadata": {},
     "output_type": "display_data"
    },
    {
     "data": {
      "application/vnd.jupyter.widget-view+json": {
       "model_id": "73d8c4523e0744f48bd2c3e07211962c",
       "version_major": 2,
       "version_minor": 0
      },
      "text/plain": [
       "  0%|          | 0/324 [00:00<?, ?it/s]"
      ]
     },
     "metadata": {},
     "output_type": "display_data"
    },
    {
     "data": {
      "application/vnd.jupyter.widget-view+json": {
       "model_id": "05808c73ca9b443c8ffa4d25711f40a7",
       "version_major": 2,
       "version_minor": 0
      },
      "text/plain": [
       "  0%|          | 0/197 [00:00<?, ?it/s]"
      ]
     },
     "metadata": {},
     "output_type": "display_data"
    },
    {
     "data": {
      "application/vnd.jupyter.widget-view+json": {
       "model_id": "7be4c50816e24466aca223cc69a28b7e",
       "version_major": 2,
       "version_minor": 0
      },
      "text/plain": [
       "  0%|          | 0/20 [00:00<?, ?it/s]"
      ]
     },
     "metadata": {},
     "output_type": "display_data"
    },
    {
     "data": {
      "application/vnd.jupyter.widget-view+json": {
       "model_id": "d2fa5863468f43f0b32006fee50206da",
       "version_major": 2,
       "version_minor": 0
      },
      "text/plain": [
       "  0%|          | 0/26 [00:00<?, ?it/s]"
      ]
     },
     "metadata": {},
     "output_type": "display_data"
    },
    {
     "data": {
      "application/vnd.jupyter.widget-view+json": {
       "model_id": "797b5b1977744dc0976dc5120b73acb4",
       "version_major": 2,
       "version_minor": 0
      },
      "text/plain": [
       "  0%|          | 0/32 [00:00<?, ?it/s]"
      ]
     },
     "metadata": {},
     "output_type": "display_data"
    },
    {
     "data": {
      "application/vnd.jupyter.widget-view+json": {
       "model_id": "a1790bebeb1b454aa9d97e3aa6963dd6",
       "version_major": 2,
       "version_minor": 0
      },
      "text/plain": [
       "  0%|          | 0/21 [00:00<?, ?it/s]"
      ]
     },
     "metadata": {},
     "output_type": "display_data"
    },
    {
     "data": {
      "application/vnd.jupyter.widget-view+json": {
       "model_id": "d9d825a94a384331a56bcb7c1ee74638",
       "version_major": 2,
       "version_minor": 0
      },
      "text/plain": [
       "  0%|          | 0/12 [00:00<?, ?it/s]"
      ]
     },
     "metadata": {},
     "output_type": "display_data"
    },
    {
     "data": {
      "application/vnd.jupyter.widget-view+json": {
       "model_id": "2452743fd53344b7a861edec02d06908",
       "version_major": 2,
       "version_minor": 0
      },
      "text/plain": [
       "  0%|          | 0/11 [00:00<?, ?it/s]"
      ]
     },
     "metadata": {},
     "output_type": "display_data"
    },
    {
     "data": {
      "application/vnd.jupyter.widget-view+json": {
       "model_id": "5b2be56357cb4659997ba7430ffc6e24",
       "version_major": 2,
       "version_minor": 0
      },
      "text/plain": [
       "  0%|          | 0/43 [00:00<?, ?it/s]"
      ]
     },
     "metadata": {},
     "output_type": "display_data"
    },
    {
     "data": {
      "application/vnd.jupyter.widget-view+json": {
       "model_id": "de2f9aea975f47c39220f4d020fc7fb3",
       "version_major": 2,
       "version_minor": 0
      },
      "text/plain": [
       "  0%|          | 0/21 [00:00<?, ?it/s]"
      ]
     },
     "metadata": {},
     "output_type": "display_data"
    },
    {
     "data": {
      "application/vnd.jupyter.widget-view+json": {
       "model_id": "d90b2193d49b4e58aedf599957425110",
       "version_major": 2,
       "version_minor": 0
      },
      "text/plain": [
       "  0%|          | 0/10 [00:00<?, ?it/s]"
      ]
     },
     "metadata": {},
     "output_type": "display_data"
    },
    {
     "data": {
      "application/vnd.jupyter.widget-view+json": {
       "model_id": "99c1e40fc2fd460ba1a975863b57ce07",
       "version_major": 2,
       "version_minor": 0
      },
      "text/plain": [
       "  0%|          | 0/41 [00:00<?, ?it/s]"
      ]
     },
     "metadata": {},
     "output_type": "display_data"
    },
    {
     "data": {
      "application/vnd.jupyter.widget-view+json": {
       "model_id": "469d8348945943e782fb72de15d2755f",
       "version_major": 2,
       "version_minor": 0
      },
      "text/plain": [
       "  0%|          | 0/38 [00:00<?, ?it/s]"
      ]
     },
     "metadata": {},
     "output_type": "display_data"
    },
    {
     "data": {
      "application/vnd.jupyter.widget-view+json": {
       "model_id": "62d5131f68a04662ac3c353928c1307c",
       "version_major": 2,
       "version_minor": 0
      },
      "text/plain": [
       "  0%|          | 0/20 [00:00<?, ?it/s]"
      ]
     },
     "metadata": {},
     "output_type": "display_data"
    },
    {
     "data": {
      "application/vnd.jupyter.widget-view+json": {
       "model_id": "6dc15ee8a7cd400582f09bd4c396b549",
       "version_major": 2,
       "version_minor": 0
      },
      "text/plain": [
       "  0%|          | 0/50 [00:00<?, ?it/s]"
      ]
     },
     "metadata": {},
     "output_type": "display_data"
    },
    {
     "data": {
      "application/vnd.jupyter.widget-view+json": {
       "model_id": "82919b16f16840c69bb33f3365ded403",
       "version_major": 2,
       "version_minor": 0
      },
      "text/plain": [
       "  0%|          | 0/21 [00:00<?, ?it/s]"
      ]
     },
     "metadata": {},
     "output_type": "display_data"
    },
    {
     "data": {
      "application/vnd.jupyter.widget-view+json": {
       "model_id": "762f3f286d184613879d3fd3f5609c03",
       "version_major": 2,
       "version_minor": 0
      },
      "text/plain": [
       "  0%|          | 0/79 [00:00<?, ?it/s]"
      ]
     },
     "metadata": {},
     "output_type": "display_data"
    },
    {
     "data": {
      "application/vnd.jupyter.widget-view+json": {
       "model_id": "ac763bc18f9640a1b2fb706cd5fc0538",
       "version_major": 2,
       "version_minor": 0
      },
      "text/plain": [
       "  0%|          | 0/17 [00:00<?, ?it/s]"
      ]
     },
     "metadata": {},
     "output_type": "display_data"
    },
    {
     "data": {
      "application/vnd.jupyter.widget-view+json": {
       "model_id": "f24bda7c42754f7cb95ddd04dce0e0ea",
       "version_major": 2,
       "version_minor": 0
      },
      "text/plain": [
       "  0%|          | 0/74 [00:00<?, ?it/s]"
      ]
     },
     "metadata": {},
     "output_type": "display_data"
    },
    {
     "data": {
      "application/vnd.jupyter.widget-view+json": {
       "model_id": "f706fe2155a142099f9ef1c6b0a19586",
       "version_major": 2,
       "version_minor": 0
      },
      "text/plain": [
       "  0%|          | 0/26 [00:00<?, ?it/s]"
      ]
     },
     "metadata": {},
     "output_type": "display_data"
    },
    {
     "data": {
      "application/vnd.jupyter.widget-view+json": {
       "model_id": "a59c5b6d59294e929c93486e8aed8626",
       "version_major": 2,
       "version_minor": 0
      },
      "text/plain": [
       "  0%|          | 0/16 [00:00<?, ?it/s]"
      ]
     },
     "metadata": {},
     "output_type": "display_data"
    },
    {
     "data": {
      "application/vnd.jupyter.widget-view+json": {
       "model_id": "c2604634afc54f5aba6993fc9da605e1",
       "version_major": 2,
       "version_minor": 0
      },
      "text/plain": [
       "  0%|          | 0/22 [00:00<?, ?it/s]"
      ]
     },
     "metadata": {},
     "output_type": "display_data"
    },
    {
     "data": {
      "application/vnd.jupyter.widget-view+json": {
       "model_id": "3a3554f1e41f41249e9b8d25d807611f",
       "version_major": 2,
       "version_minor": 0
      },
      "text/plain": [
       "  0%|          | 0/143 [00:00<?, ?it/s]"
      ]
     },
     "metadata": {},
     "output_type": "display_data"
    },
    {
     "data": {
      "application/vnd.jupyter.widget-view+json": {
       "model_id": "9e997e04b5854cb49e41cf6786cc101a",
       "version_major": 2,
       "version_minor": 0
      },
      "text/plain": [
       "  0%|          | 0/61 [00:00<?, ?it/s]"
      ]
     },
     "metadata": {},
     "output_type": "display_data"
    },
    {
     "data": {
      "application/vnd.jupyter.widget-view+json": {
       "model_id": "05cc51b210a3435c94d1524e9176c7d7",
       "version_major": 2,
       "version_minor": 0
      },
      "text/plain": [
       "  0%|          | 0/16 [00:00<?, ?it/s]"
      ]
     },
     "metadata": {},
     "output_type": "display_data"
    },
    {
     "data": {
      "application/vnd.jupyter.widget-view+json": {
       "model_id": "32eb4b6953554e4a8a91470da892a8a0",
       "version_major": 2,
       "version_minor": 0
      },
      "text/plain": [
       "  0%|          | 0/522 [00:00<?, ?it/s]"
      ]
     },
     "metadata": {},
     "output_type": "display_data"
    },
    {
     "data": {
      "application/vnd.jupyter.widget-view+json": {
       "model_id": "18bf8bd82c8c4a59a843d89ebd7a1445",
       "version_major": 2,
       "version_minor": 0
      },
      "text/plain": [
       "  0%|          | 0/15 [00:00<?, ?it/s]"
      ]
     },
     "metadata": {},
     "output_type": "display_data"
    },
    {
     "data": {
      "application/vnd.jupyter.widget-view+json": {
       "model_id": "16a3c576ce7f423987f8b96093e213ad",
       "version_major": 2,
       "version_minor": 0
      },
      "text/plain": [
       "  0%|          | 0/16 [00:00<?, ?it/s]"
      ]
     },
     "metadata": {},
     "output_type": "display_data"
    },
    {
     "data": {
      "application/vnd.jupyter.widget-view+json": {
       "model_id": "205db4069ffc4f81a227b75b5b8cc794",
       "version_major": 2,
       "version_minor": 0
      },
      "text/plain": [
       "  0%|          | 0/26 [00:00<?, ?it/s]"
      ]
     },
     "metadata": {},
     "output_type": "display_data"
    },
    {
     "data": {
      "application/vnd.jupyter.widget-view+json": {
       "model_id": "d2fa13b3d04147b1872c350bc39ef408",
       "version_major": 2,
       "version_minor": 0
      },
      "text/plain": [
       "  0%|          | 0/37 [00:00<?, ?it/s]"
      ]
     },
     "metadata": {},
     "output_type": "display_data"
    },
    {
     "data": {
      "application/vnd.jupyter.widget-view+json": {
       "model_id": "34fcc34e1b8c4d23b88a603542bffc30",
       "version_major": 2,
       "version_minor": 0
      },
      "text/plain": [
       "  0%|          | 0/35 [00:00<?, ?it/s]"
      ]
     },
     "metadata": {},
     "output_type": "display_data"
    },
    {
     "data": {
      "application/vnd.jupyter.widget-view+json": {
       "model_id": "b07919ce40ea4ce2ab98dd3cf2c3ab77",
       "version_major": 2,
       "version_minor": 0
      },
      "text/plain": [
       "  0%|          | 0/47 [00:00<?, ?it/s]"
      ]
     },
     "metadata": {},
     "output_type": "display_data"
    },
    {
     "data": {
      "application/vnd.jupyter.widget-view+json": {
       "model_id": "7d508592101a422d8eeac949ca020e5d",
       "version_major": 2,
       "version_minor": 0
      },
      "text/plain": [
       "  0%|          | 0/28 [00:00<?, ?it/s]"
      ]
     },
     "metadata": {},
     "output_type": "display_data"
    },
    {
     "data": {
      "application/vnd.jupyter.widget-view+json": {
       "model_id": "3da47a016a304c57bfc023b88a5847bd",
       "version_major": 2,
       "version_minor": 0
      },
      "text/plain": [
       "  0%|          | 0/31 [00:00<?, ?it/s]"
      ]
     },
     "metadata": {},
     "output_type": "display_data"
    },
    {
     "data": {
      "application/vnd.jupyter.widget-view+json": {
       "model_id": "05ea0696e2024beaac606f65148a719a",
       "version_major": 2,
       "version_minor": 0
      },
      "text/plain": [
       "  0%|          | 0/23 [00:00<?, ?it/s]"
      ]
     },
     "metadata": {},
     "output_type": "display_data"
    },
    {
     "data": {
      "application/vnd.jupyter.widget-view+json": {
       "model_id": "f85e3274302e4f47b981e6ed223c4cd5",
       "version_major": 2,
       "version_minor": 0
      },
      "text/plain": [
       "  0%|          | 0/49 [00:00<?, ?it/s]"
      ]
     },
     "metadata": {},
     "output_type": "display_data"
    },
    {
     "data": {
      "application/vnd.jupyter.widget-view+json": {
       "model_id": "4f7bc060180e46f1bfbe203ff3c72487",
       "version_major": 2,
       "version_minor": 0
      },
      "text/plain": [
       "  0%|          | 0/8 [00:00<?, ?it/s]"
      ]
     },
     "metadata": {},
     "output_type": "display_data"
    },
    {
     "data": {
      "application/vnd.jupyter.widget-view+json": {
       "model_id": "6268cf2a48ec44dd8860d4587df8b761",
       "version_major": 2,
       "version_minor": 0
      },
      "text/plain": [
       "  0%|          | 0/25 [00:00<?, ?it/s]"
      ]
     },
     "metadata": {},
     "output_type": "display_data"
    },
    {
     "data": {
      "application/vnd.jupyter.widget-view+json": {
       "model_id": "ee0d62f5a32b43679b804e9eac281311",
       "version_major": 2,
       "version_minor": 0
      },
      "text/plain": [
       "  0%|          | 0/25 [00:00<?, ?it/s]"
      ]
     },
     "metadata": {},
     "output_type": "display_data"
    },
    {
     "data": {
      "application/vnd.jupyter.widget-view+json": {
       "model_id": "15f8a57b1a134da281467eb9a551e916",
       "version_major": 2,
       "version_minor": 0
      },
      "text/plain": [
       "  0%|          | 0/180 [00:00<?, ?it/s]"
      ]
     },
     "metadata": {},
     "output_type": "display_data"
    },
    {
     "data": {
      "application/vnd.jupyter.widget-view+json": {
       "model_id": "a77a00c8aa3c4140a116f33e52e80c91",
       "version_major": 2,
       "version_minor": 0
      },
      "text/plain": [
       "  0%|          | 0/24 [00:00<?, ?it/s]"
      ]
     },
     "metadata": {},
     "output_type": "display_data"
    },
    {
     "data": {
      "application/vnd.jupyter.widget-view+json": {
       "model_id": "84e5e21ebcda405ab4ef3ccaed3eb4d0",
       "version_major": 2,
       "version_minor": 0
      },
      "text/plain": [
       "  0%|          | 0/77 [00:00<?, ?it/s]"
      ]
     },
     "metadata": {},
     "output_type": "display_data"
    },
    {
     "data": {
      "application/vnd.jupyter.widget-view+json": {
       "model_id": "861dd905048c481dab15bf451b05c492",
       "version_major": 2,
       "version_minor": 0
      },
      "text/plain": [
       "  0%|          | 0/109 [00:00<?, ?it/s]"
      ]
     },
     "metadata": {},
     "output_type": "display_data"
    },
    {
     "data": {
      "application/vnd.jupyter.widget-view+json": {
       "model_id": "90034c4cf9f74aa1a3e23e0bf5053a53",
       "version_major": 2,
       "version_minor": 0
      },
      "text/plain": [
       "  0%|          | 0/89 [00:00<?, ?it/s]"
      ]
     },
     "metadata": {},
     "output_type": "display_data"
    },
    {
     "data": {
      "application/vnd.jupyter.widget-view+json": {
       "model_id": "46da2c0f7636402fafdc8eb5150f4d5d",
       "version_major": 2,
       "version_minor": 0
      },
      "text/plain": [
       "  0%|          | 0/19 [00:00<?, ?it/s]"
      ]
     },
     "metadata": {},
     "output_type": "display_data"
    },
    {
     "data": {
      "application/vnd.jupyter.widget-view+json": {
       "model_id": "b4403e1137c64e4d9ee04a0e0725716d",
       "version_major": 2,
       "version_minor": 0
      },
      "text/plain": [
       "  0%|          | 0/19 [00:00<?, ?it/s]"
      ]
     },
     "metadata": {},
     "output_type": "display_data"
    },
    {
     "data": {
      "application/vnd.jupyter.widget-view+json": {
       "model_id": "751918f60b5141b29831020eeb0e8e48",
       "version_major": 2,
       "version_minor": 0
      },
      "text/plain": [
       "  0%|          | 0/15 [00:00<?, ?it/s]"
      ]
     },
     "metadata": {},
     "output_type": "display_data"
    },
    {
     "data": {
      "application/vnd.jupyter.widget-view+json": {
       "model_id": "519c0b1ede044255951ef2b7f6427066",
       "version_major": 2,
       "version_minor": 0
      },
      "text/plain": [
       "  0%|          | 0/19 [00:00<?, ?it/s]"
      ]
     },
     "metadata": {},
     "output_type": "display_data"
    },
    {
     "data": {
      "application/vnd.jupyter.widget-view+json": {
       "model_id": "501c63a951764379a521097a44db6ac7",
       "version_major": 2,
       "version_minor": 0
      },
      "text/plain": [
       "  0%|          | 0/19 [00:00<?, ?it/s]"
      ]
     },
     "metadata": {},
     "output_type": "display_data"
    }
   ],
   "source": [
    "neuron_obj_with_web = au.calculate_axon_webbing(neuron_obj_with_boutons,\n",
    "                      idx_to_plot = [0],\n",
    "                plot_intersection_mesh = True,\n",
    "                plot_intersection_mesh_without_boutons = True,\n",
    "                plot_split = True,\n",
    "                plot_split_closest_mesh = True,\n",
    "                plot_segmentation_before_web = True,\n",
    "                plot_web = True,\n",
    "                        plot_webbing_on_neuron = False,\n",
    "                    verbose = False,\n",
    "                        )"
   ]
  },
  {
   "cell_type": "code",
   "execution_count": 20,
   "metadata": {
    "scrolled": false
   },
   "outputs": [
    {
     "name": "stdout",
     "output_type": "stream",
     "text": [
      "\n",
      " Working on visualization type: mesh\n",
      "\n",
      " Working on visualization type: skeleton\n"
     ]
    },
    {
     "data": {
      "application/vnd.jupyter.widget-view+json": {
       "model_id": "cd5ed30f6e084fc3adca57d846f067ec",
       "version_major": 2,
       "version_minor": 0
      },
      "text/plain": [
       "VBox(children=(Figure(camera=PerspectiveCamera(fov=46.0, position=(0.0, 0.0, 2.0), projectionMatrix=(1.0, 0.0,…"
      ]
     },
     "metadata": {},
     "output_type": "display_data"
    }
   ],
   "source": [
    "nviz.plot_boutons(neuron_obj_with_web,\n",
    "                  mesh_whole_neuron_alpha = 0.2,\n",
    "                 plot_web=True)"
   ]
  },
  {
   "cell_type": "markdown",
   "metadata": {},
   "source": [
    "# Need way of finding the intersection and webbings of incorrect to correct branching"
   ]
  },
  {
   "cell_type": "code",
   "execution_count": 21,
   "metadata": {},
   "outputs": [],
   "source": [
    "# (valid_synapses_coords,\n",
    "# invalid_synapses_coords) = vu.validation_df_to_valid_invalid_coordinates(proofread_segment_id)"
   ]
  },
  {
   "cell_type": "code",
   "execution_count": 22,
   "metadata": {},
   "outputs": [
    {
     "name": "stdout",
     "output_type": "stream",
     "text": [
      "invalid_limb_branch_dict = {'L0': [287, 336, 337, 256, 305, 317, 189, 195, 196, 198, 199, 306, 315, 309, 179, 181, 186, 188, 190, 191, 194, 212, 161, 163, 164, 165, 166, 167, 168, 169, 170, 171, 140, 172, 139, 175, 178, 152, 154, 155, 259, 254, 255, 216, 217, 218, 220, 91, 120, 115, 117, 162, 184, 208, 223, 249, 250, 246, 253, 104, 100, 101, 88, 89, 90, 85, 93, 173, 174, 66, 124, 125, 32, 36, 68, 72, 73, 44, 13, 48, 19, 20, 21, 54, 25, 62, 200, 201, 37, 49, 65, 50, 53, 45, 57, 34, 47, 55, 58, 64, 42, 157, 160, 148, 149, 151, 153, 158, 128, 38, 103, 136, 41, 74, 107, 141, 14, 84, 126, 70, 8, 9, 10, 12, 135, 144, 142, 150, 114, 99, 71, 15, 16, 22, 23, 24, 26, 27, 131, 133, 134, 75, 76, 108, 109, 87, 123, 30, 95, 80, 92, 105, 7, 11, 18, 28, 17, 31, 35, 33, 39, 29, 52, 43, 56, 69, 51, 83, 111, 40, 46, 96, 77, 106, 63, 86, 78, 94, 102, 97, 79, 81, 67, 110, 146, 98, 127, 132, 147, 145, 82, 137, 159, 122, 156, 119, 112, 121, 130, 143, 138, 177, 118, 183, 193, 203, 182, 185, 187, 192, 202, 176, 180, 209, 206, 205, 210, 213, 219, 221, 222, 224, 225, 228, 240, 243, 241, 242, 245, 248, 251, 252, 247, 258, 262, 266, 267, 268, 261, 257, 265, 280, 279, 260, 278, 284, 285, 274, 296, 297, 300, 304, 316, 311, 318, 288, 301, 310, 295, 289, 321, 333, 335, 197, 272, 263, 283, 314, 307, 312, 338]}\n",
      "invalid_axon_branches = [287, 336, 337, 256, 305, 317, 189, 195, 196, 198, 199, 306, 315, 309, 179, 181, 186, 188, 190, 191, 194, 212, 161, 163, 164, 165, 166, 167, 168, 169, 170, 171, 140, 172, 139, 175, 178, 152, 154, 155, 259, 254, 255, 216, 217, 218, 220, 91, 120, 115, 117, 162, 184, 208, 223, 249, 250, 246, 253, 104, 100, 101, 88, 89, 90, 85, 93, 173, 174, 66, 124, 125, 32, 36, 68, 72, 73, 44, 13, 48, 19, 20, 21, 54, 25, 62, 200, 201, 37, 49, 65, 50, 53, 45, 57, 34, 47, 55, 58, 64, 42, 157, 160, 148, 149, 151, 153, 158, 128, 38, 103, 136, 41, 74, 107, 141, 14, 84, 126, 70, 8, 9, 10, 12, 135, 144, 142, 150, 114, 99, 71, 15, 16, 22, 23, 24, 26, 27, 131, 133, 134, 75, 76, 108, 109, 87, 123, 30, 95, 80, 92, 105, 7, 11, 18, 28, 17, 31, 35, 33, 39, 29, 52, 43, 56, 69, 51, 83, 111, 40, 46, 96, 77, 106, 63, 86, 78, 94, 102, 97, 79, 81, 67, 110, 146, 98, 127, 132, 147, 145, 82, 137, 159, 122, 156, 119, 112, 121, 130, 143, 138, 177, 118, 183, 193, 203, 182, 185, 187, 192, 202, 176, 180, 209, 206, 205, 210, 213, 219, 221, 222, 224, 225, 228, 240, 243, 241, 242, 245, 248, 251, 252, 247, 258, 262, 266, 267, 268, 261, 257, 265, 280, 279, 260, 278, 284, 285, 274, 296, 297, 300, 304, 316, 311, 318, 288, 301, 310, 295, 289, 321, 333, 335, 197, 272, 263, 283, 314, 307, 312, 338]\n",
      "valid_axon_branches = [  0   1   2   3   4   5   6  59  60  61 113 116 129 204 207 211 214 215\n",
      " 226 227 229 230 231 232 233 234 235 236 237 238 239 244 264 269 270 271\n",
      " 273 275 276 277 281 282 286 290 291 292 293 294 298 299 302 303 308 313\n",
      " 319 320 322 323 324 325 326 327 328 329 330 331 332 334 339]\n",
      "Plotting Invalid Branches\n",
      "\n",
      " Working on visualization type: mesh\n"
     ]
    },
    {
     "data": {
      "application/vnd.jupyter.widget-view+json": {
       "model_id": "c35fd7c6d7eb4cbb8e2326bb23adf5d2",
       "version_major": 2,
       "version_minor": 0
      },
      "text/plain": [
       "VBox(children=(Figure(camera=PerspectiveCamera(fov=46.0, position=(0.0, 0.0, 2.0), projectionMatrix=(1.0, 0.0,…"
      ]
     },
     "metadata": {},
     "output_type": "display_data"
    },
    {
     "data": {
      "text/plain": [
       "(array([  0,   1,   2,   3,   4,   5,   6,  59,  60,  61, 113, 116, 129,\n",
       "        204, 207, 211, 214, 215, 226, 227, 229, 230, 231, 232, 233, 234,\n",
       "        235, 236, 237, 238, 239, 244, 264, 269, 270, 271, 273, 275, 276,\n",
       "        277, 281, 282, 286, 290, 291, 292, 293, 294, 298, 299, 302, 303,\n",
       "        308, 313, 319, 320, 322, 323, 324, 325, 326, 327, 328, 329, 330,\n",
       "        331, 332, 334, 339]),\n",
       " array([287, 336, 337, 256, 305, 317, 189, 195, 196, 198, 199, 306, 315,\n",
       "        309, 179, 181, 186, 188, 190, 191, 194, 212, 161, 163, 164, 165,\n",
       "        166, 167, 168, 169, 170, 171, 140, 172, 139, 175, 178, 152, 154,\n",
       "        155, 259, 254, 255, 216, 217, 218, 220,  91, 120, 115, 117, 162,\n",
       "        184, 208, 223, 249, 250, 246, 253, 104, 100, 101,  88,  89,  90,\n",
       "         85,  93, 173, 174,  66, 124, 125,  32,  36,  68,  72,  73,  44,\n",
       "         13,  48,  19,  20,  21,  54,  25,  62, 200, 201,  37,  49,  65,\n",
       "         50,  53,  45,  57,  34,  47,  55,  58,  64,  42, 157, 160, 148,\n",
       "        149, 151, 153, 158, 128,  38, 103, 136,  41,  74, 107, 141,  14,\n",
       "         84, 126,  70,   8,   9,  10,  12, 135, 144, 142, 150, 114,  99,\n",
       "         71,  15,  16,  22,  23,  24,  26,  27, 131, 133, 134,  75,  76,\n",
       "        108, 109,  87, 123,  30,  95,  80,  92, 105,   7,  11,  18,  28,\n",
       "         17,  31,  35,  33,  39,  29,  52,  43,  56,  69,  51,  83, 111,\n",
       "         40,  46,  96,  77, 106,  63,  86,  78,  94, 102,  97,  79,  81,\n",
       "         67, 110, 146,  98, 127, 132, 147, 145,  82, 137, 159, 122, 156,\n",
       "        119, 112, 121, 130, 143, 138, 177, 118, 183, 193, 203, 182, 185,\n",
       "        187, 192, 202, 176, 180, 209, 206, 205, 210, 213, 219, 221, 222,\n",
       "        224, 225, 228, 240, 243, 241, 242, 245, 248, 251, 252, 247, 258,\n",
       "        262, 266, 267, 268, 261, 257, 265, 280, 279, 260, 278, 284, 285,\n",
       "        274, 296, 297, 300, 304, 316, 311, 318, 288, 301, 310, 295, 289,\n",
       "        321, 333, 335, 197, 272, 263, 283, 314, 307, 312, 338]))"
      ]
     },
     "execution_count": 22,
     "metadata": {},
     "output_type": "execute_result"
    }
   ],
   "source": [
    "vu.valid_invalid_axon_branches_from_labeled_synapses(\n",
    "    neuron_obj = neuron_obj_with_web,\n",
    "    validation_df = curr_validation_df,\n",
    "    verbose = False,\n",
    "    plot_valid_limb_branch_dict = False,\n",
    "    plot_invalid_limb_branch_dict = True,\n",
    ")"
   ]
  },
  {
   "cell_type": "code",
   "execution_count": 23,
   "metadata": {},
   "outputs": [
    {
     "name": "stdout",
     "output_type": "stream",
     "text": [
      "Synapsse Results:\n",
      "Total Number of Synapses = 3806\n",
      "n_valid_syn_ids_presyn = 24\n",
      "n_errored_syn_ids_presyn = 273\n",
      "n_valid_syn_ids_postsyn = 3352\n",
      "n_errored_syn_ids_postsyn = 157\n",
      "invalid_limb_branch_dict = {'L0': [287, 336, 337, 256, 305, 317, 189, 195, 196, 198, 199, 306, 315, 309, 179, 181, 186, 188, 190, 191, 194, 212, 161, 163, 164, 165, 166, 167, 168, 169, 170, 171, 140, 172, 139, 175, 178, 152, 154, 155, 259, 254, 255, 216, 217, 218, 220, 91, 120, 115, 117, 162, 184, 208, 223, 249, 250, 246, 253, 104, 100, 101, 88, 89, 90, 85, 93, 173, 174, 66, 124, 125, 32, 36, 68, 72, 73, 44, 13, 48, 19, 20, 21, 54, 25, 62, 200, 201, 37, 49, 65, 50, 53, 45, 57, 34, 47, 55, 58, 64, 42, 157, 160, 148, 149, 151, 153, 158, 128, 38, 103, 136, 41, 74, 107, 141, 14, 84, 126, 70, 8, 9, 10, 12, 135, 144, 142, 150, 114, 99, 71, 15, 16, 22, 23, 24, 26, 27, 131, 133, 134, 75, 76, 108, 109, 87, 123, 30, 95, 80, 92, 105, 7, 11, 18, 28, 17, 31, 35, 33, 39, 29, 52, 43, 56, 69, 51, 83, 111, 40, 46, 96, 77, 106, 63, 86, 78, 94, 102, 97, 79, 81, 67, 110, 146, 98, 127, 132, 147, 145, 82, 137, 159, 122, 156, 119, 112, 121, 130, 143, 138, 177, 118, 183, 193, 203, 182, 185, 187, 192, 202, 176, 180, 209, 206, 205, 210, 213, 219, 221, 222, 224, 225, 228, 240, 243, 241, 242, 245, 248, 251, 252, 247, 258, 262, 266, 267, 268, 261, 257, 265, 280, 279, 260, 278, 284, 285, 274, 296, 297, 300, 304, 316, 311, 318, 288, 301, 310, 295, 289, 321, 333, 335, 197, 272, 263, 283, 314, 307, 312, 338]}\n",
      "invalid_axon_branches = [287, 336, 337, 256, 305, 317, 189, 195, 196, 198, 199, 306, 315, 309, 179, 181, 186, 188, 190, 191, 194, 212, 161, 163, 164, 165, 166, 167, 168, 169, 170, 171, 140, 172, 139, 175, 178, 152, 154, 155, 259, 254, 255, 216, 217, 218, 220, 91, 120, 115, 117, 162, 184, 208, 223, 249, 250, 246, 253, 104, 100, 101, 88, 89, 90, 85, 93, 173, 174, 66, 124, 125, 32, 36, 68, 72, 73, 44, 13, 48, 19, 20, 21, 54, 25, 62, 200, 201, 37, 49, 65, 50, 53, 45, 57, 34, 47, 55, 58, 64, 42, 157, 160, 148, 149, 151, 153, 158, 128, 38, 103, 136, 41, 74, 107, 141, 14, 84, 126, 70, 8, 9, 10, 12, 135, 144, 142, 150, 114, 99, 71, 15, 16, 22, 23, 24, 26, 27, 131, 133, 134, 75, 76, 108, 109, 87, 123, 30, 95, 80, 92, 105, 7, 11, 18, 28, 17, 31, 35, 33, 39, 29, 52, 43, 56, 69, 51, 83, 111, 40, 46, 96, 77, 106, 63, 86, 78, 94, 102, 97, 79, 81, 67, 110, 146, 98, 127, 132, 147, 145, 82, 137, 159, 122, 156, 119, 112, 121, 130, 143, 138, 177, 118, 183, 193, 203, 182, 185, 187, 192, 202, 176, 180, 209, 206, 205, 210, 213, 219, 221, 222, 224, 225, 228, 240, 243, 241, 242, 245, 248, 251, 252, 247, 258, 262, 266, 267, 268, 261, 257, 265, 280, 279, 260, 278, 284, 285, 274, 296, 297, 300, 304, 316, 311, 318, 288, 301, 310, 295, 289, 321, 333, 335, 197, 272, 263, 283, 314, 307, 312, 338]\n",
      "valid_axon_branches = [  0   1   2   3   4   5   6  59  60  61 113 116 129 204 207 211 214 215\n",
      " 226 227 229 230 231 232 233 234 235 236 237 238 239 244 264 269 270 271\n",
      " 273 275 276 277 281 282 286 290 291 292 293 294 298 299 302 303 308 313\n",
      " 319 320 322 323 324 325 326 327 328 329 330 331 332 334 339]\n",
      "Working on valid_to_valid boundaries\n",
      "Parent Nodes with at least 2 valid downstream nodes: [2, 4, 6, 59, 60, 61, 211, 215, 227, 230, 233, 235, 237, 271, 277, 286, 291, 293, 298, 303, 323, 324, 325, 326, 327, 328, 329, 331, 332]\n",
      "29 boundary_branches : [  2   4   6  59  60  61 211 215 227 230 233 235 237 271 277 286 291 293\n",
      " 298 303 323 324 325 326 327 328 329 331 332]\n",
      "\n",
      " Working on visualization type: mesh\n",
      "\n",
      " Working on visualization type: skeleton\n"
     ]
    },
    {
     "data": {
      "application/vnd.jupyter.widget-view+json": {
       "model_id": "6759f2f4e09447779c029b5a228d987f",
       "version_major": 2,
       "version_minor": 0
      },
      "text/plain": [
       "VBox(children=(Figure(camera=PerspectiveCamera(fov=46.0, position=(0.0, 0.0, 2.0), projectionMatrix=(1.0, 0.0,…"
      ]
     },
     "metadata": {},
     "output_type": "display_data"
    }
   ],
   "source": [
    "valid_border_branches = vu.proofread_boundary_branches(neuron_obj=neuron_obj_with_web,\n",
    "    validation_df = None,\n",
    "    proofread_segment_id = proofread_segment_id,\n",
    "\n",
    "    plot_valid_limb_branch_dict = False,\n",
    "    plot_invalid_limb_branch_dict = False,\n",
    "    plot_invalid_conn_comp = False,\n",
    "    plot_invalid_conn_comp_idx = None,\n",
    "    plot_invalid_conn_comp_path = False,\n",
    "\n",
    "    boundary_type = \"valid_to_valid\",#other type is valid_to_invalid)\n",
    "    verbose = False,\n",
    "    plot_boundary_branches= False,\n",
    "                               )\n"
   ]
  },
  {
   "cell_type": "code",
   "execution_count": null,
   "metadata": {
    "scrolled": false
   },
   "outputs": [
    {
     "name": "stdout",
     "output_type": "stream",
     "text": [
      "Synapsse Results:\n",
      "Total Number of Synapses = 3806\n",
      "n_valid_syn_ids_presyn = 24\n",
      "n_errored_syn_ids_presyn = 273\n",
      "n_valid_syn_ids_postsyn = 3352\n",
      "n_errored_syn_ids_postsyn = 157\n",
      "invalid_limb_branch_dict = {'L0': [287, 336, 337, 256, 305, 317, 189, 195, 196, 198, 199, 306, 315, 309, 179, 181, 186, 188, 190, 191, 194, 212, 161, 163, 164, 165, 166, 167, 168, 169, 170, 171, 140, 172, 139, 175, 178, 152, 154, 155, 259, 254, 255, 216, 217, 218, 220, 91, 120, 115, 117, 162, 184, 208, 223, 249, 250, 246, 253, 104, 100, 101, 88, 89, 90, 85, 93, 173, 174, 66, 124, 125, 32, 36, 68, 72, 73, 44, 13, 48, 19, 20, 21, 54, 25, 62, 200, 201, 37, 49, 65, 50, 53, 45, 57, 34, 47, 55, 58, 64, 42, 157, 160, 148, 149, 151, 153, 158, 128, 38, 103, 136, 41, 74, 107, 141, 14, 84, 126, 70, 8, 9, 10, 12, 135, 144, 142, 150, 114, 99, 71, 15, 16, 22, 23, 24, 26, 27, 131, 133, 134, 75, 76, 108, 109, 87, 123, 30, 95, 80, 92, 105, 7, 11, 18, 28, 17, 31, 35, 33, 39, 29, 52, 43, 56, 69, 51, 83, 111, 40, 46, 96, 77, 106, 63, 86, 78, 94, 102, 97, 79, 81, 67, 110, 146, 98, 127, 132, 147, 145, 82, 137, 159, 122, 156, 119, 112, 121, 130, 143, 138, 177, 118, 183, 193, 203, 182, 185, 187, 192, 202, 176, 180, 209, 206, 205, 210, 213, 219, 221, 222, 224, 225, 228, 240, 243, 241, 242, 245, 248, 251, 252, 247, 258, 262, 266, 267, 268, 261, 257, 265, 280, 279, 260, 278, 284, 285, 274, 296, 297, 300, 304, 316, 311, 318, 288, 301, 310, 295, 289, 321, 333, 335, 197, 272, 263, 283, 314, 307, 312, 338]}\n",
      "invalid_axon_branches = [287, 336, 337, 256, 305, 317, 189, 195, 196, 198, 199, 306, 315, 309, 179, 181, 186, 188, 190, 191, 194, 212, 161, 163, 164, 165, 166, 167, 168, 169, 170, 171, 140, 172, 139, 175, 178, 152, 154, 155, 259, 254, 255, 216, 217, 218, 220, 91, 120, 115, 117, 162, 184, 208, 223, 249, 250, 246, 253, 104, 100, 101, 88, 89, 90, 85, 93, 173, 174, 66, 124, 125, 32, 36, 68, 72, 73, 44, 13, 48, 19, 20, 21, 54, 25, 62, 200, 201, 37, 49, 65, 50, 53, 45, 57, 34, 47, 55, 58, 64, 42, 157, 160, 148, 149, 151, 153, 158, 128, 38, 103, 136, 41, 74, 107, 141, 14, 84, 126, 70, 8, 9, 10, 12, 135, 144, 142, 150, 114, 99, 71, 15, 16, 22, 23, 24, 26, 27, 131, 133, 134, 75, 76, 108, 109, 87, 123, 30, 95, 80, 92, 105, 7, 11, 18, 28, 17, 31, 35, 33, 39, 29, 52, 43, 56, 69, 51, 83, 111, 40, 46, 96, 77, 106, 63, 86, 78, 94, 102, 97, 79, 81, 67, 110, 146, 98, 127, 132, 147, 145, 82, 137, 159, 122, 156, 119, 112, 121, 130, 143, 138, 177, 118, 183, 193, 203, 182, 185, 187, 192, 202, 176, 180, 209, 206, 205, 210, 213, 219, 221, 222, 224, 225, 228, 240, 243, 241, 242, 245, 248, 251, 252, 247, 258, 262, 266, 267, 268, 261, 257, 265, 280, 279, 260, 278, 284, 285, 274, 296, 297, 300, 304, 316, 311, 318, 288, 301, 310, 295, 289, 321, 333, 335, 197, 272, 263, 283, 314, 307, 312, 338]\n",
      "valid_axon_branches = [  0   1   2   3   4   5   6  59  60  61 113 116 129 204 207 211 214 215\n",
      " 226 227 229 230 231 232 233 234 235 236 237 238 239 244 264 269 270 271\n",
      " 273 275 276 277 281 282 286 290 291 292 293 294 298 299 302 303 308 313\n",
      " 319 320 322 323 324 325 326 327 328 329 330 331 332 334 339]\n",
      "Working on valid_to_invalid boundaries\n",
      "Original Axon Graph length = 340\n",
      "Invalid Axon Subgraph = 271\n",
      "# conn comp Axon Subgraph = 21\n",
      "\n",
      "For invalid conn comp 0, path to starting node (327): [278, 277, 303, 325, 327]\n",
      "Boundary node = 277\n",
      "\n",
      "For invalid conn comp 1, path to starting node (327): [295, 298, 303, 325, 327]\n",
      "Boundary node = 298\n",
      "\n",
      "For invalid conn comp 2, path to starting node (327): [310, 302, 303, 325, 327]\n",
      "Boundary node = 302\n",
      "\n",
      "For invalid conn comp 3, path to starting node (327): [311, 302, 303, 325, 327]\n",
      "Boundary node = 302\n",
      "\n",
      "For invalid conn comp 4, path to starting node (327): [316, 302, 303, 325, 327]\n",
      "Boundary node = 302\n",
      "\n",
      "For invalid conn comp 5, path to starting node (327): [265, 273, 277, 303, 325, 327]\n",
      "Boundary node = 273\n",
      "\n",
      "For invalid conn comp 6, path to starting node (327): [274, 273, 277, 303, 325, 327]\n",
      "Boundary node = 273\n",
      "\n",
      "For invalid conn comp 7, path to starting node (327): [289, 299, 298, 303, 325, 327]\n",
      "Boundary node = 299\n",
      "\n",
      "For invalid conn comp 8, path to starting node (327): [301, 299, 298, 303, 325, 327]\n",
      "Boundary node = 299\n",
      "\n",
      "For invalid conn comp 9, path to starting node (327): [283, 282, 323, 326, 325, 327]\n",
      "Boundary node = 282\n",
      "\n",
      "For invalid conn comp 10, path to starting node (327): [312, 320, 324, 329, 328, 327]\n",
      "Boundary node = 320\n",
      "\n",
      "For invalid conn comp 11, path to starting node (327): [307, 308, 331, 332, 326, 325, 327]\n",
      "Boundary node = 308\n",
      "\n",
      "For invalid conn comp 12, path to starting node (327): [197, 204, 215, 291, 323, 326, 325, 327]\n",
      "Boundary node = 204\n",
      "\n",
      "For invalid conn comp 13, path to starting node (327): [272, 275, 286, 293, 324, 329, 328, 327]\n",
      "Boundary node = 275\n",
      "\n",
      "For invalid conn comp 14, path to starting node (327): [119, 59, 61, 339, 204, 215, 291, 323, 326, 325, 327]\n",
      "Boundary node = 59\n",
      "\n",
      "For invalid conn comp 15, path to starting node (327): [111, 113, 59, 61, 339, 204, 215, 291, 323, 326, 325, 327]\n",
      "Boundary node = 113\n",
      "\n",
      "For invalid conn comp 16, path to starting node (327): [112, 113, 59, 61, 339, 204, 215, 291, 323, 326, 325, 327]\n",
      "Boundary node = 113\n",
      "\n",
      "For invalid conn comp 17, path to starting node (327): [81, 116, 59, 61, 339, 204, 215, 291, 323, 326, 325, 327]\n",
      "Boundary node = 116\n",
      "\n",
      "For invalid conn comp 18, path to starting node (327): [118, 116, 59, 61, 339, 204, 215, 291, 323, 326, 325, 327]\n",
      "Boundary node = 116\n",
      "\n",
      "For invalid conn comp 19, path to starting node (327): [228, 229, 227, 211, 60, 61, 339, 204, 215, 291, 323, 326, 325, 327]\n",
      "Boundary node = 229\n",
      "\n",
      "For invalid conn comp 20, path to starting node (327): [240, 237, 235, 233, 230, 227, 211, 60, 61, 339, 204, 215, 291, 323, 326, 325, 327]\n",
      "Boundary node = 237\n",
      "15 boundary_branches : [ 59 113 116 204 229 237 273 275 277 282 298 299 302 308 320]\n",
      "\n",
      " Working on visualization type: mesh\n"
     ]
    }
   ],
   "source": [
    "invalid_border_branches = vu.proofread_boundary_branches(neuron_obj=neuron_obj_with_web,\n",
    "    validation_df = None,\n",
    "    proofread_segment_id = proofread_segment_id,\n",
    "\n",
    "    plot_valid_limb_branch_dict = False,\n",
    "    plot_invalid_limb_branch_dict = False,\n",
    "    plot_invalid_conn_comp = False,\n",
    "    plot_invalid_conn_comp_idx = None,\n",
    "    plot_invalid_conn_comp_path = False,\n",
    "\n",
    "    boundary_type = \"valid_to_invalid\",#other type is valid_to_invalid)\n",
    "    verbose = False,\n",
    "    plot_boundary_branches= False,\n",
    "                               )\n"
   ]
  },
  {
   "cell_type": "markdown",
   "metadata": {},
   "source": [
    "# Using a decision tree to determine splits"
   ]
  },
  {
   "cell_type": "code",
   "execution_count": null,
   "metadata": {},
   "outputs": [],
   "source": [
    "\"\"\"\n",
    "Purpose: to see if a simple decision tree can decide between invalid and valid\n",
    "boundaries\n",
    "\n",
    "Pseudocode: \n",
    "1) For each valid and invalid boundary collect the following statistics:\n",
    "a. web mesh size (skeletal length, n_faces, ray_trace percentile)\n",
    "b. web_cdf\n",
    "c. web_bbox_ratio \n",
    "d. web_volume_ratio\n",
    "\n",
    "information about parent node:\n",
    "a) information about boutons\n",
    "b) parent width (no_bouton_median/no_spine_median_mesh_center)\n",
    "\n",
    "information about downstream nodes\n",
    "max/min downstream width (both kinds)\n",
    "max/min downstream width differential (both kinds)\n",
    "max/min child angle\n",
    "max/min siblings\n",
    "\n",
    "** save as dictionary so can be put in dataframe later along with label\n",
    "\n",
    "2) Feed the dataframe into a decision tree with different width \n",
    "\"\"\""
   ]
  },
  {
   "cell_type": "code",
   "execution_count": 36,
   "metadata": {},
   "outputs": [
    {
     "data": {
      "application/vnd.jupyter.widget-view+json": {
       "model_id": "5fba1a3290074c56a80651a63caf679d",
       "version_major": 2,
       "version_minor": 0
      },
      "text/plain": [
       "  0%|          | 0/29 [00:00<?, ?it/s]"
      ]
     },
     "metadata": {},
     "output_type": "display_data"
    },
    {
     "data": {
      "application/vnd.jupyter.widget-view+json": {
       "model_id": "42a4e2e6016447c6909d9ad4154f18eb",
       "version_major": 2,
       "version_minor": 0
      },
      "text/plain": [
       "  0%|          | 0/15 [00:00<?, ?it/s]"
      ]
     },
     "metadata": {},
     "output_type": "display_data"
    }
   ],
   "source": [
    "# ****** include parent branch number and save off neuron object ****\n",
    "branch_attr = vu.border_branches_to_branching_attributes(neuron_obj_with_web,\n",
    "                                              valid_border_branches = valid_border_branches,\n",
    "                                              invalid_border_branches = invalid_border_branches,\n",
    "                                             include_segment_id=True,\n",
    "                                            return_df=True,\n",
    "                                              verbose = False,\n",
    "                                             )\n",
    "        "
   ]
  },
  {
   "cell_type": "code",
   "execution_count": 45,
   "metadata": {},
   "outputs": [],
   "source": [
    "web_df = branch_attr"
   ]
  },
  {
   "cell_type": "code",
   "execution_count": 39,
   "metadata": {
    "scrolled": true
   },
   "outputs": [
    {
     "name": "stdout",
     "output_type": "stream",
     "text": [
      "clf.classes_ = ['invalid' 'valid']\n"
     ]
    },
    {
     "data": {
      "image/svg+xml": [
       "<svg height=\"1028pt\" viewBox=\"0.00 0.00 828.00 1028.00\" width=\"828pt\" xmlns=\"http://www.w3.org/2000/svg\" xmlns:xlink=\"http://www.w3.org/1999/xlink\">\n",
       "<g class=\"graph\" id=\"graph0\" transform=\"scale(1 1) rotate(0) translate(4 1024)\">\n",
       "<title>Tree</title>\n",
       "<polygon fill=\"#ffffff\" points=\"-4,4 -4,-1024 824,-1024 824,4 -4,4\" stroke=\"transparent\"/>\n",
       "<!-- 0 -->\n",
       "<g class=\"node\" id=\"node1\">\n",
       "<title>0</title>\n",
       "<polygon fill=\"#9fd0f2\" points=\"621,-1020 217,-1020 217,-937 621,-937 621,-1020\" stroke=\"#000000\"/>\n",
       "<text fill=\"#000000\" font-family=\"Times,serif\" font-size=\"14.00\" text-anchor=\"middle\" x=\"419\" y=\"-1004.8\">parent_no_spine_median_mesh_center &lt;= 47.597769</text>\n",
       "<text fill=\"#000000\" font-family=\"Times,serif\" font-size=\"14.00\" text-anchor=\"middle\" x=\"419\" y=\"-989.8\">entropy = 0.925686</text>\n",
       "<text fill=\"#000000\" font-family=\"Times,serif\" font-size=\"14.00\" text-anchor=\"middle\" x=\"419\" y=\"-974.8\">samples = 44</text>\n",
       "<text fill=\"#000000\" font-family=\"Times,serif\" font-size=\"14.00\" text-anchor=\"middle\" x=\"419\" y=\"-959.8\">value = [15, 29]</text>\n",
       "<text fill=\"#000000\" font-family=\"Times,serif\" font-size=\"14.00\" text-anchor=\"middle\" x=\"419\" y=\"-944.8\">class = valid</text>\n",
       "</g>\n",
       "<!-- 1 -->\n",
       "<g class=\"node\" id=\"node2\">\n",
       "<title>1</title>\n",
       "<polygon fill=\"#e58139\" points=\"353,-893.5 231,-893.5 231,-825.5 353,-825.5 353,-893.5\" stroke=\"#000000\"/>\n",
       "<text fill=\"#000000\" font-family=\"Times,serif\" font-size=\"14.00\" text-anchor=\"middle\" x=\"292\" y=\"-878.3\">entropy = 0.0</text>\n",
       "<text fill=\"#000000\" font-family=\"Times,serif\" font-size=\"14.00\" text-anchor=\"middle\" x=\"292\" y=\"-863.3\">samples = 5</text>\n",
       "<text fill=\"#000000\" font-family=\"Times,serif\" font-size=\"14.00\" text-anchor=\"middle\" x=\"292\" y=\"-848.3\">value = [5, 0]</text>\n",
       "<text fill=\"#000000\" font-family=\"Times,serif\" font-size=\"14.00\" text-anchor=\"middle\" x=\"292\" y=\"-833.3\">class = invalid</text>\n",
       "</g>\n",
       "<!-- 0&#45;&gt;1 -->\n",
       "<g class=\"edge\" id=\"edge1\">\n",
       "<title>0-&gt;1</title>\n",
       "<path d=\"M374.5816,-936.8796C362.1421,-925.2237 348.6257,-912.5587 336.199,-900.9148\" fill=\"none\" stroke=\"#000000\"/>\n",
       "<polygon fill=\"#000000\" points=\"338.3121,-898.0985 328.6218,-893.8149 333.5259,-903.2065 338.3121,-898.0985\" stroke=\"#000000\"/>\n",
       "<text fill=\"#000000\" font-family=\"Times,serif\" font-size=\"14.00\" text-anchor=\"middle\" x=\"329.4344\" y=\"-915.1017\">True</text>\n",
       "</g>\n",
       "<!-- 2 -->\n",
       "<g class=\"node\" id=\"node3\">\n",
       "<title>2</title>\n",
       "<polygon fill=\"#7dbfee\" points=\"721,-901 371,-901 371,-818 721,-818 721,-901\" stroke=\"#000000\"/>\n",
       "<text fill=\"#000000\" font-family=\"Times,serif\" font-size=\"14.00\" text-anchor=\"middle\" x=\"546\" y=\"-885.8\">child_no_bouton_median_max &lt;= 154.771729</text>\n",
       "<text fill=\"#000000\" font-family=\"Times,serif\" font-size=\"14.00\" text-anchor=\"middle\" x=\"546\" y=\"-870.8\">entropy = 0.821281</text>\n",
       "<text fill=\"#000000\" font-family=\"Times,serif\" font-size=\"14.00\" text-anchor=\"middle\" x=\"546\" y=\"-855.8\">samples = 39</text>\n",
       "<text fill=\"#000000\" font-family=\"Times,serif\" font-size=\"14.00\" text-anchor=\"middle\" x=\"546\" y=\"-840.8\">value = [10, 29]</text>\n",
       "<text fill=\"#000000\" font-family=\"Times,serif\" font-size=\"14.00\" text-anchor=\"middle\" x=\"546\" y=\"-825.8\">class = valid</text>\n",
       "</g>\n",
       "<!-- 0&#45;&gt;2 -->\n",
       "<g class=\"edge\" id=\"edge2\">\n",
       "<title>0-&gt;2</title>\n",
       "<path d=\"M463.4184,-936.8796C473.3186,-927.6031 483.9009,-917.6874 494.0731,-908.1559\" fill=\"none\" stroke=\"#000000\"/>\n",
       "<polygon fill=\"#000000\" points=\"496.4879,-910.6896 501.392,-901.2981 491.7016,-905.5816 496.4879,-910.6896\" stroke=\"#000000\"/>\n",
       "<text fill=\"#000000\" font-family=\"Times,serif\" font-size=\"14.00\" text-anchor=\"middle\" x=\"500.5794\" y=\"-922.5849\">False</text>\n",
       "</g>\n",
       "<!-- 3 -->\n",
       "<g class=\"node\" id=\"node4\">\n",
       "<title>3</title>\n",
       "<polygon fill=\"#a7d3f3\" points=\"548.5,-782 381.5,-782 381.5,-699 548.5,-699 548.5,-782\" stroke=\"#000000\"/>\n",
       "<text fill=\"#000000\" font-family=\"Times,serif\" font-size=\"14.00\" text-anchor=\"middle\" x=\"465\" y=\"-766.8\">parent_idx &lt;= 284.0</text>\n",
       "<text fill=\"#000000\" font-family=\"Times,serif\" font-size=\"14.00\" text-anchor=\"middle\" x=\"465\" y=\"-751.8\">entropy = 0.940286</text>\n",
       "<text fill=\"#000000\" font-family=\"Times,serif\" font-size=\"14.00\" text-anchor=\"middle\" x=\"465\" y=\"-736.8\">samples = 28</text>\n",
       "<text fill=\"#000000\" font-family=\"Times,serif\" font-size=\"14.00\" text-anchor=\"middle\" x=\"465\" y=\"-721.8\">value = [10, 18]</text>\n",
       "<text fill=\"#000000\" font-family=\"Times,serif\" font-size=\"14.00\" text-anchor=\"middle\" x=\"465\" y=\"-706.8\">class = valid</text>\n",
       "</g>\n",
       "<!-- 2&#45;&gt;3 -->\n",
       "<g class=\"edge\" id=\"edge3\">\n",
       "<title>2-&gt;3</title>\n",
       "<path d=\"M517.6701,-817.8796C511.7237,-809.1434 505.3914,-799.8404 499.255,-790.8253\" fill=\"none\" stroke=\"#000000\"/>\n",
       "<polygon fill=\"#000000\" points=\"501.9711,-788.5953 493.4508,-782.2981 496.1844,-792.5342 501.9711,-788.5953\" stroke=\"#000000\"/>\n",
       "</g>\n",
       "<!-- 18 -->\n",
       "<g class=\"node\" id=\"node19\">\n",
       "<title>18</title>\n",
       "<polygon fill=\"#399de5\" points=\"689,-774.5 567,-774.5 567,-706.5 689,-706.5 689,-774.5\" stroke=\"#000000\"/>\n",
       "<text fill=\"#000000\" font-family=\"Times,serif\" font-size=\"14.00\" text-anchor=\"middle\" x=\"628\" y=\"-759.3\">entropy = 0.0</text>\n",
       "<text fill=\"#000000\" font-family=\"Times,serif\" font-size=\"14.00\" text-anchor=\"middle\" x=\"628\" y=\"-744.3\">samples = 11</text>\n",
       "<text fill=\"#000000\" font-family=\"Times,serif\" font-size=\"14.00\" text-anchor=\"middle\" x=\"628\" y=\"-729.3\">value = [0, 11]</text>\n",
       "<text fill=\"#000000\" font-family=\"Times,serif\" font-size=\"14.00\" text-anchor=\"middle\" x=\"628\" y=\"-714.3\">class = valid</text>\n",
       "</g>\n",
       "<!-- 2&#45;&gt;18 -->\n",
       "<g class=\"edge\" id=\"edge18\">\n",
       "<title>2-&gt;18</title>\n",
       "<path d=\"M574.6796,-817.8796C582.4083,-806.6636 590.7809,-794.5131 598.5508,-783.2372\" fill=\"none\" stroke=\"#000000\"/>\n",
       "<polygon fill=\"#000000\" points=\"601.5623,-785.0353 604.3544,-774.8149 595.7982,-781.0634 601.5623,-785.0353\" stroke=\"#000000\"/>\n",
       "</g>\n",
       "<!-- 4 -->\n",
       "<g class=\"node\" id=\"node5\">\n",
       "<title>4</title>\n",
       "<polygon fill=\"#f6d5bd\" points=\"456.5,-663 115.5,-663 115.5,-580 456.5,-580 456.5,-663\" stroke=\"#000000\"/>\n",
       "<text fill=\"#000000\" font-family=\"Times,serif\" font-size=\"14.00\" text-anchor=\"middle\" x=\"286\" y=\"-647.8\">child_no_bouton_median_max &lt;= 51.999653</text>\n",
       "<text fill=\"#000000\" font-family=\"Times,serif\" font-size=\"14.00\" text-anchor=\"middle\" x=\"286\" y=\"-632.8\">entropy = 0.970951</text>\n",
       "<text fill=\"#000000\" font-family=\"Times,serif\" font-size=\"14.00\" text-anchor=\"middle\" x=\"286\" y=\"-617.8\">samples = 15</text>\n",
       "<text fill=\"#000000\" font-family=\"Times,serif\" font-size=\"14.00\" text-anchor=\"middle\" x=\"286\" y=\"-602.8\">value = [9, 6]</text>\n",
       "<text fill=\"#000000\" font-family=\"Times,serif\" font-size=\"14.00\" text-anchor=\"middle\" x=\"286\" y=\"-587.8\">class = invalid</text>\n",
       "</g>\n",
       "<!-- 3&#45;&gt;4 -->\n",
       "<g class=\"edge\" id=\"edge4\">\n",
       "<title>3-&gt;4</title>\n",
       "<path d=\"M402.3945,-698.8796C387.8146,-689.1868 372.1849,-678.7961 357.2618,-668.8752\" fill=\"none\" stroke=\"#000000\"/>\n",
       "<polygon fill=\"#000000\" points=\"358.8355,-665.7185 348.5702,-663.0969 354.9601,-671.5479 358.8355,-665.7185\" stroke=\"#000000\"/>\n",
       "</g>\n",
       "<!-- 15 -->\n",
       "<g class=\"node\" id=\"node16\">\n",
       "<title>15</title>\n",
       "<polygon fill=\"#49a5e7\" points=\"813,-663 475,-663 475,-580 813,-580 813,-663\" stroke=\"#000000\"/>\n",
       "<text fill=\"#000000\" font-family=\"Times,serif\" font-size=\"14.00\" text-anchor=\"middle\" x=\"644\" y=\"-647.8\">web_size_ray_trace_percentile &lt;= 79.39695</text>\n",
       "<text fill=\"#000000\" font-family=\"Times,serif\" font-size=\"14.00\" text-anchor=\"middle\" x=\"644\" y=\"-632.8\">entropy = 0.391244</text>\n",
       "<text fill=\"#000000\" font-family=\"Times,serif\" font-size=\"14.00\" text-anchor=\"middle\" x=\"644\" y=\"-617.8\">samples = 13</text>\n",
       "<text fill=\"#000000\" font-family=\"Times,serif\" font-size=\"14.00\" text-anchor=\"middle\" x=\"644\" y=\"-602.8\">value = [1, 12]</text>\n",
       "<text fill=\"#000000\" font-family=\"Times,serif\" font-size=\"14.00\" text-anchor=\"middle\" x=\"644\" y=\"-587.8\">class = valid</text>\n",
       "</g>\n",
       "<!-- 3&#45;&gt;15 -->\n",
       "<g class=\"edge\" id=\"edge15\">\n",
       "<title>3-&gt;15</title>\n",
       "<path d=\"M527.6055,-698.8796C542.1854,-689.1868 557.8151,-678.7961 572.7382,-668.8752\" fill=\"none\" stroke=\"#000000\"/>\n",
       "<polygon fill=\"#000000\" points=\"575.0399,-671.5479 581.4298,-663.0969 571.1645,-665.7185 575.0399,-671.5479\" stroke=\"#000000\"/>\n",
       "</g>\n",
       "<!-- 5 -->\n",
       "<g class=\"node\" id=\"node6\">\n",
       "<title>5</title>\n",
       "<polygon fill=\"#399de5\" points=\"116,-536.5 0,-536.5 0,-468.5 116,-468.5 116,-536.5\" stroke=\"#000000\"/>\n",
       "<text fill=\"#000000\" font-family=\"Times,serif\" font-size=\"14.00\" text-anchor=\"middle\" x=\"58\" y=\"-521.3\">entropy = 0.0</text>\n",
       "<text fill=\"#000000\" font-family=\"Times,serif\" font-size=\"14.00\" text-anchor=\"middle\" x=\"58\" y=\"-506.3\">samples = 2</text>\n",
       "<text fill=\"#000000\" font-family=\"Times,serif\" font-size=\"14.00\" text-anchor=\"middle\" x=\"58\" y=\"-491.3\">value = [0, 2]</text>\n",
       "<text fill=\"#000000\" font-family=\"Times,serif\" font-size=\"14.00\" text-anchor=\"middle\" x=\"58\" y=\"-476.3\">class = valid</text>\n",
       "</g>\n",
       "<!-- 4&#45;&gt;5 -->\n",
       "<g class=\"edge\" id=\"edge5\">\n",
       "<title>4-&gt;5</title>\n",
       "<path d=\"M195.3066,-579.9153C172.1372,-568.7285 147.4399,-556.3055 125,-544 123.5154,-543.1859 122.0177,-542.3535 120.5117,-541.5064\" fill=\"none\" stroke=\"#000000\"/>\n",
       "<polygon fill=\"#000000\" points=\"122.2439,-538.4651 111.8288,-536.5214 118.7585,-544.5358 122.2439,-538.4651\" stroke=\"#000000\"/>\n",
       "</g>\n",
       "<!-- 6 -->\n",
       "<g class=\"node\" id=\"node7\">\n",
       "<title>6</title>\n",
       "<polygon fill=\"#f1b991\" points=\"490,-544 134,-544 134,-461 490,-461 490,-544\" stroke=\"#000000\"/>\n",
       "<text fill=\"#000000\" font-family=\"Times,serif\" font-size=\"14.00\" text-anchor=\"middle\" x=\"312\" y=\"-528.8\">web_size_ray_trace_percentile &lt;= 235.726555</text>\n",
       "<text fill=\"#000000\" font-family=\"Times,serif\" font-size=\"14.00\" text-anchor=\"middle\" x=\"312\" y=\"-513.8\">entropy = 0.890492</text>\n",
       "<text fill=\"#000000\" font-family=\"Times,serif\" font-size=\"14.00\" text-anchor=\"middle\" x=\"312\" y=\"-498.8\">samples = 13</text>\n",
       "<text fill=\"#000000\" font-family=\"Times,serif\" font-size=\"14.00\" text-anchor=\"middle\" x=\"312\" y=\"-483.8\">value = [9, 4]</text>\n",
       "<text fill=\"#000000\" font-family=\"Times,serif\" font-size=\"14.00\" text-anchor=\"middle\" x=\"312\" y=\"-468.8\">class = invalid</text>\n",
       "</g>\n",
       "<!-- 4&#45;&gt;6 -->\n",
       "<g class=\"edge\" id=\"edge6\">\n",
       "<title>4-&gt;6</title>\n",
       "<path d=\"M295.0935,-579.8796C296.9039,-571.5938 298.8257,-562.798 300.6995,-554.2216\" fill=\"none\" stroke=\"#000000\"/>\n",
       "<polygon fill=\"#000000\" points=\"304.1524,-554.8147 302.8676,-544.2981 297.3137,-553.3205 304.1524,-554.8147\" stroke=\"#000000\"/>\n",
       "</g>\n",
       "<!-- 7 -->\n",
       "<g class=\"node\" id=\"node8\">\n",
       "<title>7</title>\n",
       "<polygon fill=\"#fae6d7\" points=\"329,-425 103,-425 103,-342 329,-342 329,-425\" stroke=\"#000000\"/>\n",
       "<text fill=\"#000000\" font-family=\"Times,serif\" font-size=\"14.00\" text-anchor=\"middle\" x=\"216\" y=\"-409.8\">child_n_boutons_max &lt;= 1.5</text>\n",
       "<text fill=\"#000000\" font-family=\"Times,serif\" font-size=\"14.00\" text-anchor=\"middle\" x=\"216\" y=\"-394.8\">entropy = 0.991076</text>\n",
       "<text fill=\"#000000\" font-family=\"Times,serif\" font-size=\"14.00\" text-anchor=\"middle\" x=\"216\" y=\"-379.8\">samples = 9</text>\n",
       "<text fill=\"#000000\" font-family=\"Times,serif\" font-size=\"14.00\" text-anchor=\"middle\" x=\"216\" y=\"-364.8\">value = [5, 4]</text>\n",
       "<text fill=\"#000000\" font-family=\"Times,serif\" font-size=\"14.00\" text-anchor=\"middle\" x=\"216\" y=\"-349.8\">class = invalid</text>\n",
       "</g>\n",
       "<!-- 6&#45;&gt;7 -->\n",
       "<g class=\"edge\" id=\"edge7\">\n",
       "<title>6-&gt;7</title>\n",
       "<path d=\"M278.4239,-460.8796C271.2309,-451.9633 263.5616,-442.4565 256.149,-433.268\" fill=\"none\" stroke=\"#000000\"/>\n",
       "<polygon fill=\"#000000\" points=\"258.7224,-430.8836 249.7195,-425.2981 253.2742,-435.2788 258.7224,-430.8836\" stroke=\"#000000\"/>\n",
       "</g>\n",
       "<!-- 14 -->\n",
       "<g class=\"node\" id=\"node15\">\n",
       "<title>14</title>\n",
       "<polygon fill=\"#e58139\" points=\"469,-417.5 347,-417.5 347,-349.5 469,-349.5 469,-417.5\" stroke=\"#000000\"/>\n",
       "<text fill=\"#000000\" font-family=\"Times,serif\" font-size=\"14.00\" text-anchor=\"middle\" x=\"408\" y=\"-402.3\">entropy = 0.0</text>\n",
       "<text fill=\"#000000\" font-family=\"Times,serif\" font-size=\"14.00\" text-anchor=\"middle\" x=\"408\" y=\"-387.3\">samples = 4</text>\n",
       "<text fill=\"#000000\" font-family=\"Times,serif\" font-size=\"14.00\" text-anchor=\"middle\" x=\"408\" y=\"-372.3\">value = [4, 0]</text>\n",
       "<text fill=\"#000000\" font-family=\"Times,serif\" font-size=\"14.00\" text-anchor=\"middle\" x=\"408\" y=\"-357.3\">class = invalid</text>\n",
       "</g>\n",
       "<!-- 6&#45;&gt;14 -->\n",
       "<g class=\"edge\" id=\"edge14\">\n",
       "<title>6-&gt;14</title>\n",
       "<path d=\"M345.5761,-460.8796C354.7131,-449.5536 364.6187,-437.2748 373.7902,-425.9058\" fill=\"none\" stroke=\"#000000\"/>\n",
       "<polygon fill=\"#000000\" points=\"376.7626,-427.7957 380.3174,-417.8149 371.3144,-423.4005 376.7626,-427.7957\" stroke=\"#000000\"/>\n",
       "</g>\n",
       "<!-- 8 -->\n",
       "<g class=\"node\" id=\"node9\">\n",
       "<title>8</title>\n",
       "<polygon fill=\"#399de5\" points=\"147,-298.5 31,-298.5 31,-230.5 147,-230.5 147,-298.5\" stroke=\"#000000\"/>\n",
       "<text fill=\"#000000\" font-family=\"Times,serif\" font-size=\"14.00\" text-anchor=\"middle\" x=\"89\" y=\"-283.3\">entropy = 0.0</text>\n",
       "<text fill=\"#000000\" font-family=\"Times,serif\" font-size=\"14.00\" text-anchor=\"middle\" x=\"89\" y=\"-268.3\">samples = 2</text>\n",
       "<text fill=\"#000000\" font-family=\"Times,serif\" font-size=\"14.00\" text-anchor=\"middle\" x=\"89\" y=\"-253.3\">value = [0, 2]</text>\n",
       "<text fill=\"#000000\" font-family=\"Times,serif\" font-size=\"14.00\" text-anchor=\"middle\" x=\"89\" y=\"-238.3\">class = valid</text>\n",
       "</g>\n",
       "<!-- 7&#45;&gt;8 -->\n",
       "<g class=\"edge\" id=\"edge8\">\n",
       "<title>7-&gt;8</title>\n",
       "<path d=\"M171.5816,-341.8796C159.1421,-330.2237 145.6257,-317.5587 133.199,-305.9148\" fill=\"none\" stroke=\"#000000\"/>\n",
       "<polygon fill=\"#000000\" points=\"135.3121,-303.0985 125.6218,-298.8149 130.5259,-308.2065 135.3121,-303.0985\" stroke=\"#000000\"/>\n",
       "</g>\n",
       "<!-- 9 -->\n",
       "<g class=\"node\" id=\"node10\">\n",
       "<title>9</title>\n",
       "<polygon fill=\"#efb388\" points=\"521,-306 165,-306 165,-223 521,-223 521,-306\" stroke=\"#000000\"/>\n",
       "<text fill=\"#000000\" font-family=\"Times,serif\" font-size=\"14.00\" text-anchor=\"middle\" x=\"343\" y=\"-290.8\">web_size_ray_trace_percentile &lt;= 221.486084</text>\n",
       "<text fill=\"#000000\" font-family=\"Times,serif\" font-size=\"14.00\" text-anchor=\"middle\" x=\"343\" y=\"-275.8\">entropy = 0.863121</text>\n",
       "<text fill=\"#000000\" font-family=\"Times,serif\" font-size=\"14.00\" text-anchor=\"middle\" x=\"343\" y=\"-260.8\">samples = 7</text>\n",
       "<text fill=\"#000000\" font-family=\"Times,serif\" font-size=\"14.00\" text-anchor=\"middle\" x=\"343\" y=\"-245.8\">value = [5, 2]</text>\n",
       "<text fill=\"#000000\" font-family=\"Times,serif\" font-size=\"14.00\" text-anchor=\"middle\" x=\"343\" y=\"-230.8\">class = invalid</text>\n",
       "</g>\n",
       "<!-- 7&#45;&gt;9 -->\n",
       "<g class=\"edge\" id=\"edge9\">\n",
       "<title>7-&gt;9</title>\n",
       "<path d=\"M260.4184,-341.8796C270.3186,-332.6031 280.9009,-322.6874 291.0731,-313.1559\" fill=\"none\" stroke=\"#000000\"/>\n",
       "<polygon fill=\"#000000\" points=\"293.4879,-315.6896 298.392,-306.2981 288.7016,-310.5816 293.4879,-315.6896\" stroke=\"#000000\"/>\n",
       "</g>\n",
       "<!-- 10 -->\n",
       "<g class=\"node\" id=\"node11\">\n",
       "<title>10</title>\n",
       "<polygon fill=\"#ea9a61\" points=\"356,-187 150,-187 150,-104 356,-104 356,-187\" stroke=\"#000000\"/>\n",
       "<text fill=\"#000000\" font-family=\"Times,serif\" font-size=\"14.00\" text-anchor=\"middle\" x=\"253\" y=\"-171.8\">child_angle_min &lt;= 7.045</text>\n",
       "<text fill=\"#000000\" font-family=\"Times,serif\" font-size=\"14.00\" text-anchor=\"middle\" x=\"253\" y=\"-156.8\">entropy = 0.650022</text>\n",
       "<text fill=\"#000000\" font-family=\"Times,serif\" font-size=\"14.00\" text-anchor=\"middle\" x=\"253\" y=\"-141.8\">samples = 6</text>\n",
       "<text fill=\"#000000\" font-family=\"Times,serif\" font-size=\"14.00\" text-anchor=\"middle\" x=\"253\" y=\"-126.8\">value = [5, 1]</text>\n",
       "<text fill=\"#000000\" font-family=\"Times,serif\" font-size=\"14.00\" text-anchor=\"middle\" x=\"253\" y=\"-111.8\">class = invalid</text>\n",
       "</g>\n",
       "<!-- 9&#45;&gt;10 -->\n",
       "<g class=\"edge\" id=\"edge10\">\n",
       "<title>9-&gt;10</title>\n",
       "<path d=\"M311.5224,-222.8796C304.8471,-214.0534 297.7342,-204.6485 290.8504,-195.5466\" fill=\"none\" stroke=\"#000000\"/>\n",
       "<polygon fill=\"#000000\" points=\"293.4357,-193.1626 284.612,-187.2981 287.8526,-197.3852 293.4357,-193.1626\" stroke=\"#000000\"/>\n",
       "</g>\n",
       "<!-- 13 -->\n",
       "<g class=\"node\" id=\"node14\">\n",
       "<title>13</title>\n",
       "<polygon fill=\"#399de5\" points=\"490,-179.5 374,-179.5 374,-111.5 490,-111.5 490,-179.5\" stroke=\"#000000\"/>\n",
       "<text fill=\"#000000\" font-family=\"Times,serif\" font-size=\"14.00\" text-anchor=\"middle\" x=\"432\" y=\"-164.3\">entropy = 0.0</text>\n",
       "<text fill=\"#000000\" font-family=\"Times,serif\" font-size=\"14.00\" text-anchor=\"middle\" x=\"432\" y=\"-149.3\">samples = 1</text>\n",
       "<text fill=\"#000000\" font-family=\"Times,serif\" font-size=\"14.00\" text-anchor=\"middle\" x=\"432\" y=\"-134.3\">value = [0, 1]</text>\n",
       "<text fill=\"#000000\" font-family=\"Times,serif\" font-size=\"14.00\" text-anchor=\"middle\" x=\"432\" y=\"-119.3\">class = valid</text>\n",
       "</g>\n",
       "<!-- 9&#45;&gt;13 -->\n",
       "<g class=\"edge\" id=\"edge13\">\n",
       "<title>9-&gt;13</title>\n",
       "<path d=\"M374.1279,-222.8796C382.5986,-211.5536 391.7819,-199.2748 400.2847,-187.9058\" fill=\"none\" stroke=\"#000000\"/>\n",
       "<polygon fill=\"#000000\" points=\"403.1495,-189.9193 406.3359,-179.8149 397.5438,-185.7268 403.1495,-189.9193\" stroke=\"#000000\"/>\n",
       "</g>\n",
       "<!-- 11 -->\n",
       "<g class=\"node\" id=\"node12\">\n",
       "<title>11</title>\n",
       "<polygon fill=\"#ffffff\" points=\"244,-68 122,-68 122,0 244,0 244,-68\" stroke=\"#000000\"/>\n",
       "<text fill=\"#000000\" font-family=\"Times,serif\" font-size=\"14.00\" text-anchor=\"middle\" x=\"183\" y=\"-52.8\">entropy = 1.0</text>\n",
       "<text fill=\"#000000\" font-family=\"Times,serif\" font-size=\"14.00\" text-anchor=\"middle\" x=\"183\" y=\"-37.8\">samples = 2</text>\n",
       "<text fill=\"#000000\" font-family=\"Times,serif\" font-size=\"14.00\" text-anchor=\"middle\" x=\"183\" y=\"-22.8\">value = [1, 1]</text>\n",
       "<text fill=\"#000000\" font-family=\"Times,serif\" font-size=\"14.00\" text-anchor=\"middle\" x=\"183\" y=\"-7.8\">class = invalid</text>\n",
       "</g>\n",
       "<!-- 10&#45;&gt;11 -->\n",
       "<g class=\"edge\" id=\"edge11\">\n",
       "<title>10-&gt;11</title>\n",
       "<path d=\"M226.9346,-103.9815C221.3955,-95.1585 215.5364,-85.8258 209.9645,-76.9506\" fill=\"none\" stroke=\"#000000\"/>\n",
       "<polygon fill=\"#000000\" points=\"212.7922,-74.872 204.5108,-68.2637 206.8637,-78.594 212.7922,-74.872\" stroke=\"#000000\"/>\n",
       "</g>\n",
       "<!-- 12 -->\n",
       "<g class=\"node\" id=\"node13\">\n",
       "<title>12</title>\n",
       "<polygon fill=\"#e58139\" points=\"384,-68 262,-68 262,0 384,0 384,-68\" stroke=\"#000000\"/>\n",
       "<text fill=\"#000000\" font-family=\"Times,serif\" font-size=\"14.00\" text-anchor=\"middle\" x=\"323\" y=\"-52.8\">entropy = 0.0</text>\n",
       "<text fill=\"#000000\" font-family=\"Times,serif\" font-size=\"14.00\" text-anchor=\"middle\" x=\"323\" y=\"-37.8\">samples = 4</text>\n",
       "<text fill=\"#000000\" font-family=\"Times,serif\" font-size=\"14.00\" text-anchor=\"middle\" x=\"323\" y=\"-22.8\">value = [4, 0]</text>\n",
       "<text fill=\"#000000\" font-family=\"Times,serif\" font-size=\"14.00\" text-anchor=\"middle\" x=\"323\" y=\"-7.8\">class = invalid</text>\n",
       "</g>\n",
       "<!-- 10&#45;&gt;12 -->\n",
       "<g class=\"edge\" id=\"edge12\">\n",
       "<title>10-&gt;12</title>\n",
       "<path d=\"M279.0654,-103.9815C284.6045,-95.1585 290.4636,-85.8258 296.0355,-76.9506\" fill=\"none\" stroke=\"#000000\"/>\n",
       "<polygon fill=\"#000000\" points=\"299.1363,-78.594 301.4892,-68.2637 293.2078,-74.872 299.1363,-78.594\" stroke=\"#000000\"/>\n",
       "</g>\n",
       "<!-- 16 -->\n",
       "<g class=\"node\" id=\"node17\">\n",
       "<title>16</title>\n",
       "<polygon fill=\"#ffffff\" points=\"680,-536.5 558,-536.5 558,-468.5 680,-468.5 680,-536.5\" stroke=\"#000000\"/>\n",
       "<text fill=\"#000000\" font-family=\"Times,serif\" font-size=\"14.00\" text-anchor=\"middle\" x=\"619\" y=\"-521.3\">entropy = 1.0</text>\n",
       "<text fill=\"#000000\" font-family=\"Times,serif\" font-size=\"14.00\" text-anchor=\"middle\" x=\"619\" y=\"-506.3\">samples = 2</text>\n",
       "<text fill=\"#000000\" font-family=\"Times,serif\" font-size=\"14.00\" text-anchor=\"middle\" x=\"619\" y=\"-491.3\">value = [1, 1]</text>\n",
       "<text fill=\"#000000\" font-family=\"Times,serif\" font-size=\"14.00\" text-anchor=\"middle\" x=\"619\" y=\"-476.3\">class = invalid</text>\n",
       "</g>\n",
       "<!-- 15&#45;&gt;16 -->\n",
       "<g class=\"edge\" id=\"edge16\">\n",
       "<title>15-&gt;16</title>\n",
       "<path d=\"M635.2562,-579.8796C633.0154,-569.2134 630.5971,-557.7021 628.3281,-546.9015\" fill=\"none\" stroke=\"#000000\"/>\n",
       "<polygon fill=\"#000000\" points=\"631.6903,-545.8817 626.209,-536.8149 624.8398,-547.3209 631.6903,-545.8817\" stroke=\"#000000\"/>\n",
       "</g>\n",
       "<!-- 17 -->\n",
       "<g class=\"node\" id=\"node18\">\n",
       "<title>17</title>\n",
       "<polygon fill=\"#399de5\" points=\"820,-536.5 698,-536.5 698,-468.5 820,-468.5 820,-536.5\" stroke=\"#000000\"/>\n",
       "<text fill=\"#000000\" font-family=\"Times,serif\" font-size=\"14.00\" text-anchor=\"middle\" x=\"759\" y=\"-521.3\">entropy = 0.0</text>\n",
       "<text fill=\"#000000\" font-family=\"Times,serif\" font-size=\"14.00\" text-anchor=\"middle\" x=\"759\" y=\"-506.3\">samples = 11</text>\n",
       "<text fill=\"#000000\" font-family=\"Times,serif\" font-size=\"14.00\" text-anchor=\"middle\" x=\"759\" y=\"-491.3\">value = [0, 11]</text>\n",
       "<text fill=\"#000000\" font-family=\"Times,serif\" font-size=\"14.00\" text-anchor=\"middle\" x=\"759\" y=\"-476.3\">class = valid</text>\n",
       "</g>\n",
       "<!-- 15&#45;&gt;17 -->\n",
       "<g class=\"edge\" id=\"edge17\">\n",
       "<title>15-&gt;17</title>\n",
       "<path d=\"M684.2214,-579.8796C695.3792,-568.3337 707.4939,-555.7976 718.6586,-544.2446\" fill=\"none\" stroke=\"#000000\"/>\n",
       "<polygon fill=\"#000000\" points=\"721.4061,-546.4381 725.8385,-536.8149 716.3725,-541.5736 721.4061,-546.4381\" stroke=\"#000000\"/>\n",
       "</g>\n",
       "</g>\n",
       "</svg>"
      ],
      "text/plain": [
       "<IPython.core.display.SVG object>"
      ]
     },
     "metadata": {},
     "output_type": "display_data"
    }
   ],
   "source": [
    "import machine_learning_utils as mlu\n",
    "\n",
    "df = web_df\n",
    "\n",
    "target_column = \"label\"\n",
    "feature_columns = list(df.columns)\n",
    "feature_columns.remove(target_column)\n",
    "\n",
    "clf = mlu.decision_tree_sklearn(df=df,\n",
    "                          target_column=target_column,\n",
    "                         feature_columns=None,\n",
    "                          perform_testing=False,\n",
    "                          test_size = 0,\n",
    "                          \n",
    "                          # parameters for the decision tree\n",
    "                            criterion = \"entropy\", # entropy for infromation gain, gini fro gini index\n",
    "                            splitter = \"best\", #For the splitt strategy,also can be \"random\"\n",
    "                            max_depth = None,\n",
    "                            max_features = None,\n",
    "                            min_samples_split= 0.1,\n",
    "                            min_samples_leaf = 0.02,\n",
    "                          \n",
    "                         )\n",
    "mlu.plot_decision_tree(clf,\n",
    "                   feature_names=feature_columns,\n",
    "                  )"
   ]
  }
 ],
 "metadata": {
  "kernelspec": {
   "display_name": "Python 3",
   "language": "python",
   "name": "python3"
  },
  "language_info": {
   "codemirror_mode": {
    "name": "ipython",
    "version": 3
   },
   "file_extension": ".py",
   "mimetype": "text/x-python",
   "name": "python",
   "nbconvert_exporter": "python",
   "pygments_lexer": "ipython3",
   "version": "3.6.9"
  }
 },
 "nbformat": 4,
 "nbformat_minor": 4
}
