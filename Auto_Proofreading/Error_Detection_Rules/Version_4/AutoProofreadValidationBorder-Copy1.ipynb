{
 "cells": [
  {
   "cell_type": "code",
   "execution_count": 1,
   "metadata": {},
   "outputs": [
    {
     "data": {
      "text/plain": [
       "'\\nPurpose: To decompose the multi-somas for splitting\\nusing the new decomposition method\\n\\n\\n\\n\\n'"
      ]
     },
     "execution_count": 1,
     "metadata": {},
     "output_type": "execute_result"
    }
   ],
   "source": [
    "\"\"\"\n",
    "Purpose: To decompose the multi-somas for splitting\n",
    "using the new decomposition method\n",
    "\n",
    "\n",
    "\n",
    "\n",
    "\"\"\"\n"
   ]
  },
  {
   "cell_type": "code",
   "execution_count": 2,
   "metadata": {},
   "outputs": [
    {
     "name": "stderr",
     "output_type": "stream",
     "text": [
      "INFO - 2021-04-07 06:51:19,307 - settings - Setting database.host to at-database.ad.bcm.edu\n",
      "INFO - 2021-04-07 06:51:19,310 - settings - Setting database.user to celiib\n",
      "INFO - 2021-04-07 06:51:19,311 - settings - Setting database.password to newceliipass\n",
      "INFO - 2021-04-07 06:51:19,315 - settings - Setting stores to {'minnie65': {'protocol': 'file', 'location': '/mnt/dj-stor01/platinum/minnie65', 'stage': '/mnt/dj-stor01/platinum/minnie65'}, 'meshes': {'protocol': 'file', 'location': '/mnt/dj-stor01/platinum/minnie65/02/meshes', 'stage': '/mnt/dj-stor01/platinum/minnie65/02/meshes'}, 'decimated_meshes': {'protocol': 'file', 'location': '/mnt/dj-stor01/platinum/minnie65/02/decimated_meshes', 'stage': '/mnt/dj-stor01/platinum/minnie65/02/decimated_meshes'}, 'skeletons': {'protocol': 'file', 'location': '/mnt/dj-stor01/platinum/minnie65/02/skeletons'}}\n",
      "INFO - 2021-04-07 06:51:19,316 - settings - Setting enable_python_native_blobs to True\n",
      "INFO - 2021-04-07 06:51:19,330 - connection - Connected celiib@at-database.ad.bcm.edu:3306\n"
     ]
    },
    {
     "name": "stdout",
     "output_type": "stream",
     "text": [
      "Connecting celiib@at-database.ad.bcm.edu:3306\n"
     ]
    },
    {
     "name": "stderr",
     "output_type": "stream",
     "text": [
      "INFO - 2021-04-07 06:51:19,711 - settings - Setting enable_python_native_blobs to True\n",
      "INFO - 2021-04-07 06:51:19,715 - settings - Setting database.host to at-database.ad.bcm.edu\n",
      "INFO - 2021-04-07 06:51:19,716 - settings - Setting database.user to celiib\n",
      "INFO - 2021-04-07 06:51:19,717 - settings - Setting database.password to newceliipass\n",
      "INFO - 2021-04-07 06:51:19,717 - settings - Setting database.host to at-database.ad.bcm.edu\n",
      "INFO - 2021-04-07 06:51:19,718 - settings - Setting database.user to celiib\n",
      "INFO - 2021-04-07 06:51:19,719 - settings - Setting database.password to newceliipass\n",
      "INFO - 2021-04-07 06:51:19,722 - settings - Setting enable_python_native_blobs to True\n",
      "INFO - 2021-04-07 06:51:20,148 - settings - Setting enable_python_native_blobs to True\n"
     ]
    }
   ],
   "source": [
    "import numpy as np\n",
    "import datajoint as dj\n",
    "import trimesh\n",
    "from tqdm.notebook import tqdm\n",
    "from pathlib import Path\n",
    "\n",
    "from os import sys\n",
    "sys.path.append(\"/meshAfterParty/\")\n",
    "sys.path.append(\"/meshAfterParty/meshAfterParty\")\n",
    "\n",
    "import datajoint_utils as du\n",
    "from importlib import reload"
   ]
  },
  {
   "cell_type": "code",
   "execution_count": 3,
   "metadata": {},
   "outputs": [],
   "source": [
    "#so that it will have the adapter defined\n",
    "from datajoint_utils import *"
   ]
  },
  {
   "cell_type": "code",
   "execution_count": 4,
   "metadata": {},
   "outputs": [],
   "source": [
    "test_mode = True"
   ]
  },
  {
   "cell_type": "markdown",
   "metadata": {},
   "source": [
    "# Debugging the contains method"
   ]
  },
  {
   "cell_type": "code",
   "execution_count": 5,
   "metadata": {},
   "outputs": [],
   "source": [
    "import system_utils as su"
   ]
  },
  {
   "cell_type": "code",
   "execution_count": 6,
   "metadata": {},
   "outputs": [
    {
     "name": "stderr",
     "output_type": "stream",
     "text": [
      "INFO - 2021-04-07 06:51:20,274 - settings - Setting database.host to at-database.ad.bcm.edu\n",
      "INFO - 2021-04-07 06:51:20,275 - settings - Setting database.user to celiib\n",
      "INFO - 2021-04-07 06:51:20,276 - settings - Setting database.password to newceliipass\n",
      "INFO - 2021-04-07 06:51:20,278 - settings - Setting database.host to at-database.ad.bcm.edu\n",
      "INFO - 2021-04-07 06:51:20,279 - settings - Setting database.user to celiib\n",
      "INFO - 2021-04-07 06:51:20,280 - settings - Setting database.password to newceliipass\n",
      "INFO - 2021-04-07 06:51:20,282 - settings - Setting enable_python_native_blobs to True\n"
     ]
    },
    {
     "name": "stdout",
     "output_type": "stream",
     "text": [
      "Sleeping 62 sec before conneting\n",
      "Done sleeping\n",
      "Current path for external_segmentation_path = /mnt/dj-stor01/platinum/minnie65/02\n",
      "Current path for external_mesh_path = /mnt/dj-stor01/platinum/minnie65/02/meshes\n",
      "Current path for external_decimated_mesh_path = /mnt/dj-stor01/platinum/minnie65/02/decimated_meshes\n",
      "Current path for external_skeleton_path = /mnt/dj-stor01/platinum/minnie65/02/skeletons\n"
     ]
    },
    {
     "name": "stderr",
     "output_type": "stream",
     "text": [
      "INFO - 2021-04-07 06:51:20,753 - settings - Setting enable_python_native_blobs to True\n"
     ]
    }
   ],
   "source": [
    "import minfig\n",
    "import time\n",
    "import numpy as np\n",
    "#want to add in a wait for the connection part\n",
    "random_sleep_sec = np.random.randint(0, 200)\n",
    "print(f\"Sleeping {random_sleep_sec} sec before conneting\")\n",
    "if not test_mode:\n",
    "    time.sleep(random_sleep_sec)\n",
    "print(\"Done sleeping\")\n",
    "\n",
    "du.config_celii()\n",
    "du.set_minnie65_config_segmentation(minfig)\n",
    "du.print_minnie65_config_paths(minfig)\n",
    "\n",
    "#configuring will include the adapters\n",
    "minnie,schema = du.configure_minnie_vm()"
   ]
  },
  {
   "cell_type": "code",
   "execution_count": 7,
   "metadata": {},
   "outputs": [],
   "source": [
    "from importlib import reload\n",
    "\n",
    "import neuron_utils as nru\n",
    "\n",
    "import neuron\n",
    "\n",
    "import neuron_visualizations as nviz\n",
    "\n",
    "import time\n",
    "\n",
    "import datajoint_utils as du\n",
    "\n",
    "import numpy as np\n",
    "\n",
    "import proofreading_utils as pru\n",
    "\n",
    "import preprocessing_vp2 as pre\n",
    "\n",
    "# -- For the axon classification --\n",
    "\n",
    "import neuron_searching as ns\n",
    "\n",
    "import skeleton_utils as sk\n",
    "\n",
    "import numpy_utils as nu\n",
    "\n",
    "import networkx_utils as xu\n",
    "\n",
    "import system_utils as su\n",
    "\n",
    "import classification_utils as clu\n",
    "import proofreading_utils as pru\n",
    "\n",
    "import datajoint as dj\n",
    "\n",
    "from pykdtree.kdtree import KDTree\n",
    "import trimesh_utils as tu\n",
    "import proofreading_utils as pru\n",
    "import numpy as np\n",
    "import axon_utils as au\n",
    "import validation_utils as vu"
   ]
  },
  {
   "cell_type": "markdown",
   "metadata": {},
   "source": [
    "# Defining the Table"
   ]
  },
  {
   "cell_type": "code",
   "execution_count": 8,
   "metadata": {},
   "outputs": [],
   "source": [
    "import neuron_utils as nru\n",
    "import neuron\n",
    "import trimesh_utils as tu\n",
    "import numpy as np"
   ]
  },
  {
   "cell_type": "code",
   "execution_count": 9,
   "metadata": {},
   "outputs": [
    {
     "name": "stdout",
     "output_type": "stream",
     "text": [
      "No port chosen so picked random port 5796\n"
     ]
    }
   ],
   "source": [
    "import meshlab\n",
    "meshlab.set_meshlab_port(current_port=None)"
   ]
  },
  {
   "cell_type": "markdown",
   "metadata": {},
   "source": [
    "# Creating the Auto Proofread Neuron Table"
   ]
  },
  {
   "cell_type": "code",
   "execution_count": 10,
   "metadata": {},
   "outputs": [],
   "source": [
    "# minnie,schema = du.configure_minnie_vm()\n",
    "# AutoProofreadValidationBorderNeurons.drop()\n",
    "# AutoProofreadValidationBorder.drop()\n",
    "# minnie.schema.external['decomposition'].delete(delete_external_files=True)"
   ]
  },
  {
   "cell_type": "code",
   "execution_count": 11,
   "metadata": {},
   "outputs": [],
   "source": [
    "@schema\n",
    "class AutoProofreadValidationBorderNeurons(dj.Manual):\n",
    "    definition=\"\"\"\n",
    "    -> minnie.AutoProofreadValidationStats3()\n",
    "    ---\n",
    "    decomposition: <decomposition>\n",
    "    \"\"\""
   ]
  },
  {
   "cell_type": "code",
   "execution_count": 12,
   "metadata": {},
   "outputs": [],
   "source": [
    "import numpy as np\n",
    "import time\n",
    "\n",
    "verbose = True\n",
    "axon_version = 0\n",
    "@schema\n",
    "class AutoProofreadValidationBorder(dj.Computed):\n",
    "    definition=\"\"\"\n",
    "    -> minnie.AutoProofreadValidationStats3()\n",
    "    axon_version    : tinyint unsigned \n",
    "    parent_idx: smallint unsigned\n",
    "    ---\n",
    "    web_size_faces=NULL : smallint unsigned\n",
    "    web_size_volume=NULL : double\n",
    "    web_size_skeleton=NULL : double\n",
    "    web_size_ray_trace_percentile=NULL : double\n",
    "    web_bbox_ratios_max=NULL: double\n",
    "    web_bbox_ratios_min=NULL: double\n",
    "    web_volume_ratio=NULL: double\n",
    "    web_cdf=NULL: double\n",
    "    parent_n_large_boutons=NULL : tinyint unsigned \n",
    "    parent_n_boutons=NULL : tinyint unsigned \n",
    "    parent_no_bouton_median=NULL : double\n",
    "    parent_no_spine_median_mesh_center=NULL : double\n",
    "    child_no_bouton_median_min =NULL: double\n",
    "    child_no_bouton_median_diff_min=NULL : double\n",
    "    child_no_spine_median_mesh_center_min=NULL :double\n",
    "    child_no_spine_median_mesh_center_diff_min=NULL : double\n",
    "    child_angle_min=NULL : double\n",
    "    child_n_boutons_min=NULL : tinyint unsigned\n",
    "    child_n_large_boutons_min=NULL : tinyint unsigned\n",
    "    child_no_bouton_median_max =NULL: double\n",
    "    child_no_bouton_median_diff_max=NULL: double\n",
    "    child_no_spine_median_mesh_center_max=NULL : double\n",
    "    child_no_spine_median_mesh_center_diff_max=NULL :double\n",
    "    child_angle_max=NULL : double\n",
    "    child_n_boutons_max =NULL: tinyint unsigned\n",
    "    child_n_large_boutons_max=NULL : tinyint unsigned\n",
    "    sibling_angles_min=NULL: double\n",
    "    sibling_angles_max=NULL: double\n",
    "    label: varchar(10)\n",
    "    \n",
    "    \"\"\"\n",
    "\n",
    "    key_source = du.proofreading_stats_table(validation=True)\n",
    "    \n",
    "    \n",
    "\n",
    "    def make(self,key):\n",
    "        \"\"\"\n",
    "        Pseudocode:\n",
    "        1) Pull down the neuron object\n",
    "        2) Run the complete axon preprocessing on the neuron\n",
    "        3) Run the borders attributes dictionary\n",
    "        4) Save off the neuron object\n",
    "        5) Write the Attribute records\n",
    "\n",
    "        \"\"\"\n",
    "        print(f\"\\n\\n\\n---- Working on Neuron {key['segment_id']} ----\")\n",
    "        \n",
    "        # 1) Pull Down All of the Neurons\n",
    "        segment_id = key[\"segment_id\"]\n",
    "        \n",
    "        whole_pass_time = time.time()\n",
    "        neuron_objs,neuron_split_idxs = du.decomposition_with_spine_recalculation(segment_id)    \n",
    "        neuron_obj = neuron_objs[0]\n",
    "        \n",
    "        #2) Run the complete axon preprocessing on the neuron\n",
    "        neuron_obj_with_web = au.complete_axon_processing(neuron_obj,\n",
    "                                                 verbose=True)\n",
    "        \n",
    "        \n",
    "        branch_attr = vu.neuron_to_border_branching_attributes(neuron_obj_with_web,\n",
    "                                         plot_valid_border_branches=False,\n",
    "                                          plot_invalid_border_branches = False,\n",
    "                                          verbose=False\n",
    "                                         )\n",
    "        \n",
    "        #3) Run the borders attributes dictionary\n",
    "        branch_attr = vu.neuron_to_border_branching_attributes(neuron_obj_with_web,\n",
    "                                         plot_valid_border_branches=False,\n",
    "                                          plot_invalid_border_branches = False,\n",
    "                                          verbose=False\n",
    "                                         )\n",
    "        branch_attr_keys = []\n",
    "        for k in branch_attr:\n",
    "            new_dict  = dict(key)\n",
    "            new_dict.update(k)\n",
    "            new_dict[\"axon_version\"] = axon_version\n",
    "            branch_attr_keys.append(new_dict)\n",
    "            \n",
    "        if verbose:\n",
    "            print(f\"\\n\\nlen(branch_attr_keys) = {len(branch_attr_keys)}\")\n",
    "            \n",
    "            \n",
    "        \n",
    "        #4) Save the file in a certain location\n",
    "        save_time = time.time()\n",
    "        ret_file_path = neuron_obj_with_web.save_compressed_neuron(output_folder=str(du.get_decomposition_path()),\n",
    "                                        file_name=f\"{neuron_obj_with_web.segment_id}_{neuron_obj_with_web.description}_full_axon\",\n",
    "                                          return_file_path=True,\n",
    "                                         export_mesh=False,\n",
    "                                         suppress_output=True)\n",
    "\n",
    "        ret_file_path_str = str(ret_file_path.absolute()) + \".pbz2\"\n",
    "        print(f\"Save time = {time.time() - save_time}\")\n",
    "        \n",
    "        n_dict = dict(key,\n",
    "                     decomposition=ret_file_path_str)\n",
    "        \n",
    "        AutoProofreadValidationBorderNeurons.insert1(n_dict,skip_duplicates=True)\n",
    "        \n",
    "        \n",
    "        \n",
    "        \n",
    "        #5) Write the Attribute records\n",
    "        if len(branch_attr_keys)>0:\n",
    "            AutoProofreadValidationBorder.insert(branch_attr_keys,skip_duplicates=True)\n",
    "\n",
    "    \n",
    "\n",
    "        print(f\"\\n\\n ***------ Total time for {key['segment_id']} = {time.time() - whole_pass_time} ------ ***\")\n",
    "    \n"
   ]
  },
  {
   "cell_type": "markdown",
   "metadata": {},
   "source": [
    "# Running the Populate"
   ]
  },
  {
   "cell_type": "code",
   "execution_count": 13,
   "metadata": {},
   "outputs": [
    {
     "data": {
      "text/html": [
       "\n",
       "        \n",
       "        <style type=\"text/css\">\n",
       "            .Relation{\n",
       "                border-collapse:collapse;\n",
       "            }\n",
       "            .Relation th{\n",
       "                background: #A0A0A0; color: #ffffff; padding:4px; border:#f0e0e0 1px solid;\n",
       "                font-weight: normal; font-family: monospace; font-size: 100%;\n",
       "            }\n",
       "            .Relation td{\n",
       "                padding:4px; border:#f0e0e0 1px solid; font-size:100%;\n",
       "            }\n",
       "            .Relation tr:nth-child(odd){\n",
       "                background: #ffffff;\n",
       "            }\n",
       "            .Relation tr:nth-child(even){\n",
       "                background: #f3f1ff;\n",
       "            }\n",
       "            /* Tooltip container */\n",
       "            .djtooltip {\n",
       "            }\n",
       "            /* Tooltip text */\n",
       "            .djtooltip .djtooltiptext {\n",
       "                visibility: hidden;\n",
       "                width: 120px;\n",
       "                background-color: black;\n",
       "                color: #fff;\n",
       "                text-align: center;\n",
       "                padding: 5px 0;\n",
       "                border-radius: 6px;\n",
       "                /* Position the tooltip text - see examples below! */\n",
       "                position: absolute;\n",
       "                z-index: 1;\n",
       "            }\n",
       "            #primary {\n",
       "                font-weight: bold;\n",
       "                color: black;\n",
       "            }\n",
       "\n",
       "            #nonprimary {\n",
       "                font-weight: normal;\n",
       "                color: white;\n",
       "            }\n",
       "\n",
       "            /* Show the tooltip text when you mouse over the tooltip container */\n",
       "            .djtooltip:hover .djtooltiptext {\n",
       "                visibility: visible;\n",
       "            }\n",
       "        </style>\n",
       "        \n",
       "        <b>job reservation table for `microns_minnie65_02`</b>\n",
       "            <div style=\"max-height:1000px;max-width:1500px;overflow:auto;\">\n",
       "            <table border=\"1\" class=\"Relation\">\n",
       "                <thead> <tr style=\"text-align: right;\"> <th> <div class=\"djtooltip\">\n",
       "                                <p id=\"primary\">table_name</p>\n",
       "                                <span class=\"djtooltiptext\">className of the table</span>\n",
       "                            </div></th><th><div class=\"djtooltip\">\n",
       "                                <p id=\"primary\">key_hash</p>\n",
       "                                <span class=\"djtooltiptext\">key hash</span>\n",
       "                            </div></th><th><div class=\"djtooltip\">\n",
       "                                <p id=\"nonprimary\">status</p>\n",
       "                                <span class=\"djtooltiptext\">if tuple is missing, the job is available</span>\n",
       "                            </div></th><th><div class=\"djtooltip\">\n",
       "                                <p id=\"nonprimary\">key</p>\n",
       "                                <span class=\"djtooltiptext\">structure containing the key</span>\n",
       "                            </div></th><th><div class=\"djtooltip\">\n",
       "                                <p id=\"nonprimary\">error_message</p>\n",
       "                                <span class=\"djtooltiptext\">error message returned if failed</span>\n",
       "                            </div></th><th><div class=\"djtooltip\">\n",
       "                                <p id=\"nonprimary\">error_stack</p>\n",
       "                                <span class=\"djtooltiptext\">error stack if failed</span>\n",
       "                            </div></th><th><div class=\"djtooltip\">\n",
       "                                <p id=\"nonprimary\">user</p>\n",
       "                                <span class=\"djtooltiptext\">database user</span>\n",
       "                            </div></th><th><div class=\"djtooltip\">\n",
       "                                <p id=\"nonprimary\">host</p>\n",
       "                                <span class=\"djtooltiptext\">system hostname</span>\n",
       "                            </div></th><th><div class=\"djtooltip\">\n",
       "                                <p id=\"nonprimary\">pid</p>\n",
       "                                <span class=\"djtooltiptext\">system process id</span>\n",
       "                            </div></th><th><div class=\"djtooltip\">\n",
       "                                <p id=\"nonprimary\">connection_id</p>\n",
       "                                <span class=\"djtooltiptext\">connection_id()</span>\n",
       "                            </div></th><th><div class=\"djtooltip\">\n",
       "                                <p id=\"nonprimary\">timestamp</p>\n",
       "                                <span class=\"djtooltiptext\">automatic timestamp</span>\n",
       "                            </div> </th> </tr> </thead>\n",
       "                <tbody> <tr> <td>__auto_proofread_validation_border</td>\n",
       "<td>ec8fc00b71abce477c9b9b20392f42df</td>\n",
       "<td>reserved</td>\n",
       "<td>=BLOB=</td>\n",
       "<td></td>\n",
       "<td>=BLOB=</td>\n",
       "<td>celiib@10.28.0.83</td>\n",
       "<td>at-compute004</td>\n",
       "<td>272949</td>\n",
       "<td>297265</td>\n",
       "<td>2021-04-07 01:50:58</td> </tr> </tbody>\n",
       "            </table>\n",
       "            \n",
       "            <p>Total: 1</p></div>\n",
       "            "
      ],
      "text/plain": [
       "*table_name    *key_hash      status       key        error_message  error_stac user           host           pid        connection_id  timestamp     \n",
       "+------------+ +------------+ +----------+ +--------+ +------------+ +--------+ +------------+ +------------+ +--------+ +------------+ +------------+\n",
       "__auto_proofre ec8fc00b71abce reserved     =BLOB=                    =BLOB=     celiib@10.28.0 at-compute004  272949     297265         2021-04-07 01:\n",
       " (Total: 1)"
      ]
     },
     "execution_count": 13,
     "metadata": {},
     "output_type": "execute_result"
    }
   ],
   "source": [
    "curr_table = (minnie.schema.jobs & \"table_name='__auto_proofread_validation_border'\")\n",
    "(curr_table)#.delete()# & \"status='error'\")\n",
    "#curr_table.delete()\n",
    "#(curr_table & \"error_message = 'ValueError: need at least one array to concatenate'\").delete()\n"
   ]
  },
  {
   "cell_type": "code",
   "execution_count": 14,
   "metadata": {},
   "outputs": [
    {
     "name": "stderr",
     "output_type": "stream",
     "text": [
      "INFO - 2021-04-07 06:51:20,903 - settings - Setting database.host to at-database.ad.bcm.edu\n",
      "INFO - 2021-04-07 06:51:20,904 - settings - Setting database.user to celiib\n",
      "INFO - 2021-04-07 06:51:20,906 - settings - Setting database.password to newceliipass\n",
      "INFO - 2021-04-07 06:51:20,906 - settings - Setting database.host to at-database.ad.bcm.edu\n",
      "INFO - 2021-04-07 06:51:20,907 - settings - Setting database.user to celiib\n",
      "INFO - 2021-04-07 06:51:20,908 - settings - Setting database.password to newceliipass\n",
      "INFO - 2021-04-07 06:51:20,912 - settings - Setting enable_python_native_blobs to True\n",
      "INFO - 2021-04-07 06:51:21,415 - settings - Setting enable_python_native_blobs to True\n",
      "INFO - 2021-04-07 06:51:21,481 - autopopulate - Found 53 keys to populate\n",
      "INFO - 2021-04-07 06:51:21,490 - connection - Transaction started\n",
      "INFO - 2021-04-07 06:51:21,492 - autopopulate - Populating: {'segment_id': 864691136056340440, 'decimation_version': 0, 'decimation_ratio': Decimal('0.25'), 'ver': Decimal('30.00'), 'process_version': 5, 'index': 0, 'split_index': 0, 'proof_version': 3}\n"
     ]
    },
    {
     "name": "stdout",
     "output_type": "stream",
     "text": [
      "Populate Started\n",
      "\n",
      "\n",
      "\n",
      "---- Working on Neuron 864691136056340440 ----\n",
      "Decompressing Neuron in minimal output mode...please wait\n",
      "Dont need spine recalculation\n",
      "Number of Neurons found = 1\n",
      "\n",
      "Part 1: Axon like branchese \n",
      "{'L0': array([10, 22, 41]), 'L2': array([ 0,  1,  2,  3,  4,  5,  6,  7,  8,  9, 10, 11, 12, 13, 14, 15, 16,\n",
      "       18, 19, 20, 21, 22, 23, 24]), 'L4': array([1]), 'L6': array([ 1,  2,  3,  4,  5,  6,  8,  9, 11, 12, 19])}\n",
      "Limb L0 soma angle: 9.17 \n",
      "Limb L1 soma angle: 90.36 \n",
      "Limb L2 soma angle: 168.05 \n",
      "Limb L3 soma angle: 122.04 \n",
      "Limb L4 soma angle: 99.52 \n",
      "Limb L5 soma angle: 44.64 \n",
      "Limb L6 soma angle: 103.24 \n",
      "Limb L7 soma angle: 85.21 \n",
      "Limb L8 soma angle: 133.35 \n",
      "\n",
      "Part 2: possible_axon_limbs = [1, 2, 3, 4, 6, 7, 8]\n",
      "\n",
      "Phase 2: Working on Limb L1\n",
      "nodes_to_eliminate = [ 8 10 11]\n",
      "\n",
      "Phase 2: Working on Limb L2\n",
      "nodes_to_eliminate = []\n",
      "\n",
      "Phase 2: Working on Limb L3\n",
      "nodes_to_eliminate = []\n",
      "\n",
      "Phase 2: Working on Limb L4\n",
      "nodes_to_eliminate = []\n",
      "\n",
      "Phase 2: Working on Limb L6\n",
      "nodes_to_eliminate = [15 18]\n",
      "\n",
      "Phase 2: Working on Limb L7\n",
      "nodes_to_eliminate = [0]\n",
      "The filtered network is empty so just leaving the candidates as empty lists\n",
      "\n",
      "Phase 2: Working on Limb L8\n",
      "nodes_to_eliminate = [3]\n",
      "\n",
      "----Working on Limb L1-----\n",
      "No endpoints were eliminated so don't need to add back any candidates\n",
      "\n",
      "----Working on Limb L2-----\n",
      "No nodes were eliminated so don't need to add back any candidates\n",
      "\n",
      "----Working on Limb L3-----\n",
      "No nodes were eliminated so don't need to add back any candidates\n",
      "\n",
      "----Working on Limb L4-----\n",
      "No nodes were eliminated so don't need to add back any candidates\n",
      "\n",
      "----Working on Limb L6-----\n",
      "No endpoints were eliminated so don't need to add back any candidates\n",
      "\n",
      "----Working on Limb L7-----\n",
      "network was only of size 1 and that node was eliminated so returning that as the only candidate\n",
      "\n",
      "----Working on Limb L8-----\n",
      "No endpoints were eliminated so don't need to add back any candidates\n",
      "Final Candidates\n",
      "\n",
      "Limb 1\n",
      "Candidate 0 (red): array([0, 1, 2, 3, 5, 6, 7])\n",
      "Candidate 1 (pink): array([12, 13, 14])\n",
      "Candidate 2 (darkslategray): array([4])\n",
      "Candidate 3 (gold): array([9])\n",
      "\n",
      "Limb 2\n",
      "Candidate 0 (red): array([ 0,  1,  2,  3,  4,  5,  6,  7,  8,  9, 10, 11, 12, 13, 14, 15, 16,\n",
      "       17, 18, 19, 20, 21, 22, 23, 24])\n",
      "\n",
      "Limb 3\n",
      "Candidate 0 (darkslategray): array([0, 1, 2, 3, 4])\n",
      "\n",
      "Limb 4\n",
      "Candidate 0 (brown): array([0, 1, 2, 3, 4, 5, 6])\n",
      "\n",
      "Limb 6\n",
      "Candidate 0 (pink): array([ 0,  1,  2,  3,  4,  5,  6,  7,  8,  9, 10, 11, 12, 13, 14, 16, 17,\n",
      "       22, 23, 24])\n",
      "Candidate 1 (crimson): array([19, 20, 25, 26, 27])\n",
      "Candidate 2 (gray): array([29, 28, 21])\n",
      "\n",
      "Limb 7\n",
      "Candidate 0 (gold): array([0])\n",
      "\n",
      "Limb 8\n",
      "Candidate 0 (magenta): array([0, 1, 2])\n",
      "Candidate 1 (gold): array([4])\n",
      "Part 3: axon_subgraph_candidates = {1: [[0, 1, 2, 3, 5, 6, 7], [12, 13, 14], [4], [9]], 2: [[0, 1, 2, 3, 4, 5, 6, 7, 8, 9, 10, 11, 12, 13, 14, 15, 16, 17, 18, 19, 20, 21, 22, 23, 24]], 3: [[0, 1, 2, 3, 4]], 4: [[0, 1, 2, 3, 4, 5, 6]], 6: [[0, 1, 2, 3, 4, 5, 6, 7, 8, 9, 10, 11, 12, 13, 14, 16, 17, 22, 23, 24], [19, 20, 25, 26, 27], [29, 28, 21]], 7: [[0]], 8: [[0, 1, 2], [4]]}\n",
      "\n",
      "\n",
      " --- Working on limb 1, candidate # 0\n",
      "0 out of 7 branches are axons\n",
      "Axon percentage = 0.0\n",
      "Not adding candidate no axon branches detected \n",
      "\n",
      "\n",
      " --- Working on limb 1, candidate # 1\n",
      "0 out of 3 branches are axons\n",
      "Axon percentage = 0.0\n",
      "Not adding candidate no axon branches detected \n",
      "\n",
      "\n",
      " --- Working on limb 1, candidate # 2\n",
      "0 out of 1 branches are axons\n",
      "Axon percentage = 0.0\n",
      "Not adding candidate no axon branches detected \n",
      "\n",
      "\n",
      " --- Working on limb 1, candidate # 3\n",
      "0 out of 1 branches are axons\n",
      "Axon percentage = 0.0\n",
      "Not adding candidate no axon branches detected \n",
      "\n",
      "\n",
      " --- Working on limb 2, candidate # 0\n",
      "24 out of 25 branches are axons\n",
      "Axon percentage = 0.96\n",
      "curr_axon_angle_threshold = 95\n",
      "candidate_nodes = [ 0  1  2  3  4  5  6  7  8  9 10 11 12 13 14 15 16 17 18 19 20 21 22 23\n",
      " 24]\n",
      "non_axon_branches_on_subgraph = [17]\n",
      "endnodes_to_test = [10827]\n",
      "Skeleton paths distances = [24880.43550394]\n",
      "Filtered indexes = [0]\n",
      "len(filtered_skeletons) = 1\n",
      "sk_angles = [168.21703172]\n",
      "candidate_angles,restr_skels = (array([168.21703172]), [array([[[1407020.,  712355.,  771619.],\n",
      "        [1406970.,  712474.,  771617.]],\n",
      "\n",
      "       [[1406970.,  712474.,  771617.],\n",
      "        [1406920.,  712621.,  771637.]],\n",
      "\n",
      "       [[1406920.,  712621.,  771637.],\n",
      "        [1406880.,  712747.,  771656.]],\n",
      "\n",
      "       [[1406880.,  712747.,  771656.],\n",
      "        [1406840.,  712841.,  771670.]],\n",
      "\n",
      "       [[1406840.,  712841.,  771670.],\n",
      "        [1406760.,  713059.,  771700.]],\n",
      "\n",
      "       [[1406760.,  713059.,  771700.],\n",
      "        [1406710.,  713241.,  771743.]],\n",
      "\n",
      "       [[1406710.,  713241.,  771743.],\n",
      "        [1406680.,  713331.,  771764.]],\n",
      "\n",
      "       [[1406680.,  713331.,  771764.],\n",
      "        [1406650.,  713463.,  771801.]],\n",
      "\n",
      "       [[1406650.,  713463.,  771801.],\n",
      "        [1406620.,  713564.,  771834.]],\n",
      "\n",
      "       [[1406620.,  713564.,  771834.],\n",
      "        [1406570.,  713775.,  771916.]],\n",
      "\n",
      "       [[1406570.,  713775.,  771916.],\n",
      "        [1406560.,  713932.,  771992.]],\n",
      "\n",
      "       [[1406560.,  713932.,  771992.],\n",
      "        [1406560.,  714055.,  772052.]],\n",
      "\n",
      "       [[1406560.,  714055.,  772052.],\n",
      "        [1406560.,  714154.,  772104.]],\n",
      "\n",
      "       [[1406560.,  714154.,  772104.],\n",
      "        [1406560.,  714264.,  772160.]],\n",
      "\n",
      "       [[1406560.,  714264.,  772160.],\n",
      "        [1406570.,  714398.,  772233.]],\n",
      "\n",
      "       [[1406570.,  714398.,  772233.],\n",
      "        [1406580.,  714535.,  772304.]],\n",
      "\n",
      "       [[1406580.,  714535.,  772304.],\n",
      "        [1406600.,  714689.,  772382.]],\n",
      "\n",
      "       [[1406600.,  714689.,  772382.],\n",
      "        [1406610.,  714776.,  772423.]],\n",
      "\n",
      "       [[1406610.,  714776.,  772423.],\n",
      "        [1406630.,  714915.,  772484.]],\n",
      "\n",
      "       [[1406630.,  714915.,  772484.],\n",
      "        [1406650.,  715036.,  772530.]],\n",
      "\n",
      "       [[1406650.,  715036.,  772530.],\n",
      "        [1406650.,  715189.,  772582.]],\n",
      "\n",
      "       [[1406650.,  715189.,  772582.],\n",
      "        [1406650.,  715295.,  772609.]],\n",
      "\n",
      "       [[1406650.,  715295.,  772609.],\n",
      "        [1406650.,  715410.,  772633.]],\n",
      "\n",
      "       [[1406650.,  715410.,  772633.],\n",
      "        [1406630.,  715537.,  772657.]],\n",
      "\n",
      "       [[1406630.,  715537.,  772657.],\n",
      "        [1406620.,  715639.,  772668.]],\n",
      "\n",
      "       [[1406620.,  715639.,  772668.],\n",
      "        [1406610.,  715746.,  772676.]],\n",
      "\n",
      "       [[1406610.,  715746.,  772676.],\n",
      "        [1406580.,  715893.,  772684.]],\n",
      "\n",
      "       [[1406580.,  715893.,  772684.],\n",
      "        [1406560.,  716017.,  772684.]],\n",
      "\n",
      "       [[1406560.,  716017.,  772684.],\n",
      "        [1406540.,  716186.,  772681.]],\n",
      "\n",
      "       [[1406540.,  716186.,  772681.],\n",
      "        [1406530.,  716238.,  772679.]],\n",
      "\n",
      "       [[1406530.,  716238.,  772679.],\n",
      "        [1406520.,  716360.,  772673.]],\n",
      "\n",
      "       [[1406520.,  716360.,  772673.],\n",
      "        [1406500.,  716511.,  772662.]],\n",
      "\n",
      "       [[1406500.,  716511.,  772662.],\n",
      "        [1406500.,  716646.,  772650.]],\n",
      "\n",
      "       [[1406500.,  716646.,  772650.],\n",
      "        [1406500.,  716672.,  772647.]],\n",
      "\n",
      "       [[1406500.,  716672.,  772647.],\n",
      "        [1406500.,  716794.,  772634.]],\n",
      "\n",
      "       [[1406500.,  716794.,  772634.],\n",
      "        [1406500.,  716909.,  772620.]],\n",
      "\n",
      "       [[1406500.,  716909.,  772620.],\n",
      "        [1406500.,  716940.,  772617.]],\n",
      "\n",
      "       [[1406500.,  716940.,  772617.],\n",
      "        [1406510.,  717060.,  772602.]],\n",
      "\n",
      "       [[1406510.,  717060.,  772602.],\n",
      "        [1406520.,  717178.,  772585.]],\n",
      "\n",
      "       [[1406520.,  717178.,  772585.],\n",
      "        [1406530.,  717293.,  772568.]],\n",
      "\n",
      "       [[1406530.,  717293.,  772568.],\n",
      "        [1406540.,  717418.,  772548.]],\n",
      "\n",
      "       [[1406540.,  717418.,  772548.],\n",
      "        [1406550.,  717555.,  772527.]],\n",
      "\n",
      "       [[1406550.,  717555.,  772527.],\n",
      "        [1406540.,  717684.,  772507.]],\n",
      "\n",
      "       [[1406540.,  717684.,  772507.],\n",
      "        [1406530.,  717802.,  772487.]],\n",
      "\n",
      "       [[1406530.,  717802.,  772487.],\n",
      "        [1406510.,  717971.,  772460.]],\n",
      "\n",
      "       [[1406510.,  717971.,  772460.],\n",
      "        [1406460.,  718168.,  772428.]],\n",
      "\n",
      "       [[1406460.,  718168.,  772428.],\n",
      "        [1406430.,  718266.,  772415.]],\n",
      "\n",
      "       [[1406430.,  718266.,  772415.],\n",
      "        [1406370.,  718405.,  772401.]],\n",
      "\n",
      "       [[1406370.,  718405.,  772401.],\n",
      "        [1406310.,  718513.,  772403.]],\n",
      "\n",
      "       [[1406310.,  718513.,  772403.],\n",
      "        [1406250.,  718628.,  772417.]],\n",
      "\n",
      "       [[1406250.,  718628.,  772417.],\n",
      "        [1406170.,  718790.,  772454.]],\n",
      "\n",
      "       [[1406170.,  718790.,  772454.],\n",
      "        [1406110.,  718955.,  772513.]],\n",
      "\n",
      "       [[1406110.,  718955.,  772513.],\n",
      "        [1406060.,  719104.,  772576.]],\n",
      "\n",
      "       [[1406060.,  719104.,  772576.],\n",
      "        [1406020.,  719289.,  772668.]],\n",
      "\n",
      "       [[1406020.,  719289.,  772668.],\n",
      "        [1406020.,  719510.,  772798.]],\n",
      "\n",
      "       [[1406020.,  719510.,  772798.],\n",
      "        [1406040.,  719605.,  772856.]],\n",
      "\n",
      "       [[1406040.,  719605.,  772856.],\n",
      "        [1406060.,  719683.,  772901.]],\n",
      "\n",
      "       [[1406060.,  719683.,  772901.],\n",
      "        [1406120.,  719853.,  772995.]],\n",
      "\n",
      "       [[1406120.,  719853.,  772995.],\n",
      "        [1406250.,  720087.,  773096.]],\n",
      "\n",
      "       [[1406250.,  720087.,  773096.],\n",
      "        [1406300.,  720189.,  773136.]],\n",
      "\n",
      "       [[1406300.,  720189.,  773136.],\n",
      "        [1406390.,  720345.,  773190.]],\n",
      "\n",
      "       [[1406390.,  720345.,  773190.],\n",
      "        [1406480.,  720493.,  773236.]],\n",
      "\n",
      "       [[1406480.,  720493.,  773236.],\n",
      "        [1406520.,  720576.,  773259.]],\n",
      "\n",
      "       [[1406520.,  720576.,  773259.],\n",
      "        [1406590.,  720698.,  773288.]],\n",
      "\n",
      "       [[1406590.,  720698.,  773288.],\n",
      "        [1406650.,  720825.,  773318.]],\n",
      "\n",
      "       [[1406650.,  720825.,  773318.],\n",
      "        [1406710.,  720946.,  773345.]],\n",
      "\n",
      "       [[1406710.,  720946.,  773345.],\n",
      "        [1406780.,  721092.,  773379.]],\n",
      "\n",
      "       [[1406780.,  721092.,  773379.],\n",
      "        [1406820.,  721235.,  773426.]],\n",
      "\n",
      "       [[1406820.,  721235.,  773426.],\n",
      "        [1406840.,  721322.,  773455.]],\n",
      "\n",
      "       [[1406840.,  721322.,  773455.],\n",
      "        [1406850.,  721396.,  773480.]],\n",
      "\n",
      "       [[1406850.,  721396.,  773480.],\n",
      "        [1406890.,  721542.,  773531.]]])])\n"
     ]
    },
    {
     "name": "stdout",
     "output_type": "stream",
     "text": [
      "base_final_widths = [575.07825037 514.32691354 325.5412488 ]\n",
      "overall_ais_width = 289.520431200122\n",
      "ais_width = 471.64880423715516\n",
      "Adding the following branches as true axons: [ 0.  1.  2.  3.  4.  5.  6.  7.  8.  9. 10. 11. 12. 13. 14. 15. 16. 17.\n",
      " 18. 19. 20. 21. 22. 23. 24.]\n",
      "curr_soma_angle = 168.05\n",
      "max_axon_angle = 168.21703171712554\n",
      "Changing to a better axon candidate\n",
      "\n",
      "\n",
      " --- Working on limb 3, candidate # 0\n",
      "0 out of 5 branches are axons\n",
      "Axon percentage = 0.0\n",
      "Not adding candidate no axon branches detected \n",
      "\n",
      "\n",
      " --- Working on limb 4, candidate # 0\n",
      "1 out of 7 branches are axons\n",
      "Axon percentage = 0.14285714285714285\n",
      "curr_axon_angle_threshold = 120\n",
      "candidate_nodes = [0 1 2 3 4 5 6]\n",
      "non_axon_branches_on_subgraph = [0 2 3 4 5 6]\n",
      "endnodes_to_test = []\n",
      "candidate_angles,restr_skels = (None, None)\n",
      "Not adding candidate because no angles (None) passed the threhold 120 \n",
      "\n",
      "\n",
      " --- Working on limb 6, candidate # 0\n",
      "10 out of 20 branches are axons\n",
      "Axon percentage = 0.5\n",
      "curr_axon_angle_threshold = 120\n",
      "candidate_nodes = [ 0  1  2  3  4  5  6  7  8  9 10 11 12 13 14 15 16 17 22 23 24]\n",
      "non_axon_branches_on_subgraph = [ 0  7 10 13 14 15 16 17 22 23 24]\n",
      "endnodes_to_test = []\n",
      "candidate_angles,restr_skels = (None, None)\n",
      "Not adding candidate because no angles (None) passed the threhold 120 \n",
      "\n",
      "\n",
      " --- Working on limb 6, candidate # 1\n",
      "1 out of 5 branches are axons\n",
      "Axon percentage = 0.2\n",
      "curr_axon_angle_threshold = 120\n",
      "candidate_nodes = [15 18 19 20 25 26 27]\n",
      "non_axon_branches_on_subgraph = [15 18 20 25 26 27]\n",
      "endnodes_to_test = [153]\n",
      "Skeleton paths distances = [24919.98117632]\n",
      "Filtered indexes = [0]\n",
      "len(filtered_skeletons) = 1\n",
      "sk_angles = [88.7040149]\n",
      "candidate_angles,restr_skels = (array([88.7040149]), [array([[[1422270.        ,  695283.        ,  760994.        ],\n",
      "        [1422280.        ,  695280.        ,  760961.        ]],\n",
      "\n",
      "       [[1422280.        ,  695280.        ,  760961.        ],\n",
      "        [1422330.        ,  695269.        ,  760877.        ]],\n",
      "\n",
      "       [[1422330.        ,  695269.        ,  760877.        ],\n",
      "        [1422370.        ,  695258.        ,  760796.        ]],\n",
      "\n",
      "       [[1422370.        ,  695258.        ,  760796.        ],\n",
      "        [1422450.        ,  695233.        ,  760620.        ]],\n",
      "\n",
      "       [[1422450.        ,  695233.        ,  760620.        ],\n",
      "        [1422520.        ,  695210.        ,  760455.        ]],\n",
      "\n",
      "       [[1422520.        ,  695210.        ,  760455.        ],\n",
      "        [1422590.        ,  695189.        ,  760296.        ]],\n",
      "\n",
      "       [[1422590.        ,  695189.        ,  760296.        ],\n",
      "        [1422650.        ,  695176.        ,  760176.        ]],\n",
      "\n",
      "       [[1422650.        ,  695176.        ,  760176.        ],\n",
      "        [1422740.        ,  695163.        ,  759971.        ]],\n",
      "\n",
      "       [[1422740.        ,  695163.        ,  759971.        ],\n",
      "        [1422820.        ,  695166.        ,  759774.        ]],\n",
      "\n",
      "       [[1422820.        ,  695166.        ,  759774.        ],\n",
      "        [1422880.        ,  695170.        ,  759658.        ]],\n",
      "\n",
      "       [[1422880.        ,  695170.        ,  759658.        ],\n",
      "        [1422940.        ,  695175.        ,  759527.        ]],\n",
      "\n",
      "       [[1422940.        ,  695175.        ,  759527.        ],\n",
      "        [1422990.        ,  695177.        ,  759423.        ]],\n",
      "\n",
      "       [[1422990.        ,  695177.        ,  759423.        ],\n",
      "        [1423030.        ,  695179.        ,  759341.        ]],\n",
      "\n",
      "       [[1423030.        ,  695179.        ,  759341.        ],\n",
      "        [1423070.        ,  695179.        ,  759257.        ]],\n",
      "\n",
      "       [[1423070.        ,  695179.        ,  759257.        ],\n",
      "        [1423140.        ,  695177.        ,  759114.        ]],\n",
      "\n",
      "       [[1423140.        ,  695177.        ,  759114.        ],\n",
      "        [1423220.        ,  695173.        ,  758949.        ]],\n",
      "\n",
      "       [[1423220.        ,  695173.        ,  758949.        ],\n",
      "        [1423280.        ,  695167.        ,  758827.        ]],\n",
      "\n",
      "       [[1423280.        ,  695167.        ,  758827.        ],\n",
      "        [1423320.        ,  695161.        ,  758750.        ]],\n",
      "\n",
      "       [[1423320.        ,  695161.        ,  758750.        ],\n",
      "        [1423370.        ,  695153.        ,  758655.        ]],\n",
      "\n",
      "       [[1423370.        ,  695153.        ,  758655.        ],\n",
      "        [1423420.        ,  695144.        ,  758566.        ]],\n",
      "\n",
      "       [[1423420.        ,  695144.        ,  758566.        ],\n",
      "        [1423470.        ,  695132.        ,  758467.        ]],\n",
      "\n",
      "       [[1423470.        ,  695132.        ,  758467.        ],\n",
      "        [1423510.        ,  695090.        ,  758329.        ]],\n",
      "\n",
      "       [[1423510.        ,  695090.        ,  758329.        ],\n",
      "        [1423640.        ,  695089.        ,  758177.        ]],\n",
      "\n",
      "       [[1423640.        ,  695089.        ,  758177.        ],\n",
      "        [1423710.        ,  695069.        ,  758078.        ]],\n",
      "\n",
      "       [[1423710.        ,  695069.        ,  758078.        ],\n",
      "        [1423770.        ,  695040.        ,  757950.        ]],\n",
      "\n",
      "       [[1423770.        ,  695040.        ,  757950.        ],\n",
      "        [1423860.        ,  695045.        ,  757875.        ]],\n",
      "\n",
      "       [[1423860.        ,  695045.        ,  757875.        ],\n",
      "        [1423950.        ,  695030.        ,  757765.        ]],\n",
      "\n",
      "       [[1423950.        ,  695030.        ,  757765.        ],\n",
      "        [1424050.        ,  695037.        ,  757653.        ]],\n",
      "\n",
      "       [[1424050.        ,  695037.        ,  757653.        ],\n",
      "        [1424130.        ,  695042.        ,  757559.        ]],\n",
      "\n",
      "       [[1424130.        ,  695042.        ,  757559.        ],\n",
      "        [1424190.        ,  695045.        ,  757483.        ]],\n",
      "\n",
      "       [[1424190.        ,  695045.        ,  757483.        ],\n",
      "        [1424290.        ,  695054.        ,  757362.        ]],\n",
      "\n",
      "       [[1424290.        ,  695054.        ,  757362.        ],\n",
      "        [1424420.        ,  695068.        ,  757230.        ]],\n",
      "\n",
      "       [[1424420.        ,  695068.        ,  757230.        ],\n",
      "        [1424500.        ,  695075.        ,  757118.        ]],\n",
      "\n",
      "       [[1424500.        ,  695075.        ,  757118.        ],\n",
      "        [1424590.        ,  695073.        ,  757019.        ]],\n",
      "\n",
      "       [[1424590.        ,  695073.        ,  757019.        ],\n",
      "        [1424700.        ,  695088.        ,  756900.        ]],\n",
      "\n",
      "       [[1424700.        ,  695088.        ,  756900.        ],\n",
      "        [1424740.        ,  695091.        ,  756846.        ]],\n",
      "\n",
      "       [[1424740.        ,  695091.        ,  756846.        ],\n",
      "        [1424820.        ,  695096.        ,  756758.        ]],\n",
      "\n",
      "       [[1424820.        ,  695096.        ,  756758.        ],\n",
      "        [1424940.        ,  695083.        ,  756629.        ]],\n",
      "\n",
      "       [[1424940.        ,  695083.        ,  756629.        ],\n",
      "        [1425150.        ,  695062.        ,  756410.        ]],\n",
      "\n",
      "       [[1425150.        ,  695062.        ,  756410.        ],\n",
      "        [1425250.        ,  695052.        ,  756313.        ]],\n",
      "\n",
      "       [[1425250.        ,  695052.        ,  756313.        ],\n",
      "        [1425340.        ,  695040.        ,  756230.        ]],\n",
      "\n",
      "       [[1425340.        ,  695040.        ,  756230.        ],\n",
      "        [1425460.        ,  695021.        ,  756122.        ]],\n",
      "\n",
      "       [[1425460.        ,  695021.        ,  756122.        ],\n",
      "        [1425620.        ,  694990.        ,  755991.        ]],\n",
      "\n",
      "       [[1425620.        ,  694990.        ,  755991.        ],\n",
      "        [1425690.        ,  694976.        ,  755935.        ]],\n",
      "\n",
      "       [[1425690.        ,  694976.        ,  755935.        ],\n",
      "        [1425760.        ,  694960.        ,  755875.        ]],\n",
      "\n",
      "       [[1425760.        ,  694960.        ,  755875.        ],\n",
      "        [1425830.        ,  694946.        ,  755824.        ]],\n",
      "\n",
      "       [[1425830.        ,  694946.        ,  755824.        ],\n",
      "        [1425870.        ,  694938.        ,  755792.        ]],\n",
      "\n",
      "       [[1425870.        ,  694938.        ,  755792.        ],\n",
      "        [1426030.        ,  694904.        ,  755667.        ]],\n",
      "\n",
      "       [[1426030.        ,  694904.        ,  755667.        ],\n",
      "        [1426130.        ,  694884.        ,  755586.        ]],\n",
      "\n",
      "       [[1426130.        ,  694884.        ,  755586.        ],\n",
      "        [1426210.        ,  694869.        ,  755521.        ]],\n",
      "\n",
      "       [[1426210.        ,  694869.        ,  755521.        ],\n",
      "        [1426330.        ,  694849.        ,  755422.        ]],\n",
      "\n",
      "       [[1426330.        ,  694849.        ,  755422.        ],\n",
      "        [1426440.        ,  694832.        ,  755330.        ]],\n",
      "\n",
      "       [[1426440.        ,  694832.        ,  755330.        ],\n",
      "        [1426460.        ,  694829.        ,  755313.        ]],\n",
      "\n",
      "       [[1426460.        ,  694829.        ,  755313.        ],\n",
      "        [1426570.        ,  694814.        ,  755223.        ]],\n",
      "\n",
      "       [[1426570.        ,  694814.        ,  755223.        ],\n",
      "        [1426670.        ,  694805.        ,  755143.        ]],\n",
      "\n",
      "       [[1426670.        ,  694805.        ,  755143.        ],\n",
      "        [1426700.        ,  694803.        ,  755115.        ]],\n",
      "\n",
      "       [[1426700.        ,  694803.        ,  755115.        ],\n",
      "        [1426780.        ,  694799.        ,  755052.        ]],\n",
      "\n",
      "       [[1426780.        ,  694799.        ,  755052.        ],\n",
      "        [1426850.        ,  694797.        ,  755006.        ]],\n",
      "\n",
      "       [[1426850.        ,  694797.        ,  755006.        ],\n",
      "        [1426950.        ,  694796.        ,  754935.        ]],\n",
      "\n",
      "       [[1426950.        ,  694796.        ,  754935.        ],\n",
      "        [1427020.        ,  694797.        ,  754888.        ]],\n",
      "\n",
      "       [[1427020.        ,  694797.        ,  754888.        ],\n",
      "        [1427090.        ,  694799.        ,  754849.        ]],\n",
      "\n",
      "       [[1427090.        ,  694799.        ,  754849.        ],\n",
      "        [1427180.        ,  694803.        ,  754796.        ]],\n",
      "\n",
      "       [[1427180.        ,  694803.        ,  754796.        ],\n",
      "        [1427340.        ,  694813.        ,  754715.        ]],\n",
      "\n",
      "       [[1427340.        ,  694813.        ,  754715.        ],\n",
      "        [1427400.        ,  694817.        ,  754687.        ]],\n",
      "\n",
      "       [[1427400.        ,  694817.        ,  754687.        ],\n",
      "        [1427490.        ,  694824.        ,  754647.        ]],\n",
      "\n",
      "       [[1427490.        ,  694824.        ,  754647.        ],\n",
      "        [1427660.        ,  694840.        ,  754578.        ]],\n",
      "\n",
      "       [[1427660.        ,  694840.        ,  754578.        ],\n",
      "        [1427830.        ,  694856.        ,  754516.        ]],\n",
      "\n",
      "       [[1427830.        ,  694856.        ,  754516.        ],\n",
      "        [1428040.        ,  694882.        ,  754433.        ]],\n",
      "\n",
      "       [[1428040.        ,  694882.        ,  754433.        ],\n",
      "        [1428270.        ,  694903.        ,  754302.        ]],\n",
      "\n",
      "       [[1428270.        ,  694903.        ,  754302.        ],\n",
      "        [1428259.78794314,  694912.80970297,  754260.67688363]],\n",
      "\n",
      "       [[1428259.78794314,  694912.80970297,  754260.67688363],\n",
      "        [1428236.40975761,  694935.26679061,  754166.07699116]],\n",
      "\n",
      "       [[1428236.40975761,  694935.26679061,  754166.07699116],\n",
      "        [1428213.03157208,  694957.72387826,  754071.47709869]],\n",
      "\n",
      "       [[1428213.03157208,  694957.72387826,  754071.47709869],\n",
      "        [1428189.65338655,  694980.1809659 ,  753976.87720621]],\n",
      "\n",
      "       [[1428189.65338655,  694980.1809659 ,  753976.87720621],\n",
      "        [1428166.27520102,  695002.63805355,  753882.27731374]],\n",
      "\n",
      "       [[1428166.27520102,  695002.63805355,  753882.27731374],\n",
      "        [1428142.89701549,  695025.09514119,  753787.67742127]],\n",
      "\n",
      "       [[1428142.89701549,  695025.09514119,  753787.67742127],\n",
      "        [1428119.51882996,  695047.55222884,  753693.0775288 ]],\n",
      "\n",
      "       [[1428119.51882996,  695047.55222884,  753693.0775288 ],\n",
      "        [1428096.14064443,  695070.00931648,  753598.47763632]]])])\n",
      "Not adding candidate because no angles ([88.7040149]) passed the threhold 120 \n",
      "\n",
      "\n",
      " --- Working on limb 6, candidate # 2\n"
     ]
    },
    {
     "name": "stdout",
     "output_type": "stream",
     "text": [
      "0 out of 3 branches are axons\n",
      "Axon percentage = 0.0\n",
      "Not adding candidate no axon branches detected \n",
      "\n",
      "\n",
      " --- Working on limb 7, candidate # 0\n",
      "0 out of 1 branches are axons\n",
      "Axon percentage = 0.0\n",
      "Not adding candidate no axon branches detected \n",
      "\n",
      "\n",
      " --- Working on limb 8, candidate # 0\n",
      "0 out of 3 branches are axons\n",
      "Axon percentage = 0.0\n",
      "Not adding candidate no axon branches detected \n",
      "\n",
      "\n",
      " --- Working on limb 8, candidate # 1\n",
      "0 out of 1 branches are axons\n",
      "Axon percentage = 0.0\n",
      "Not adding candidate no axon branches detected \n",
      "Using the best axon approach\n",
      "Using True\n",
      "Limb L2: Axon branches before dendritic path filter = [ 0.  1.  2.  3.  4.  5.  6.  7.  8.  9. 10. 11. 12. 13. 14. 15. 16. 17.\n",
      " 18. 19. 20. 21. 22. 23. 24.]\n",
      "Limb L2: Axon branches AFTER dendritic path filter = [ 0.  1.  2.  3.  4.  5.  6.  7.  8.  9. 10. 11. 12. 13. 14. 15. 16. 17.\n",
      " 18. 19. 20. 21. 22. 23. 24.]\n",
      "\n",
      "\n",
      "Part 4: final_true_axons = {'L2': array([ 0.,  1.,  2.,  3.,  4.,  5.,  6.,  7.,  8.,  9., 10., 11., 12.,\n",
      "       13., 14., 15., 16., 17., 18., 19., 20., 21., 22., 23., 24.])}\n",
      "\n",
      "--- Working on filter 0:\n",
      "function = dendrite_on_axon_merges\n",
      "function __name__ = filter_away_dendrite_on_axon_merges\n",
      "function arguments = {'use_pre_existing_axon_labels': True}\n",
      "\n",
      "\n",
      "\n",
      "\n",
      "\n",
      " ---- Total time for applying filter: 0.45466041564941406 -----\n",
      "Starting axon branch was the starting node so using border vertices and NOT computing upstream branch\n",
      "upstream_node_to_axon_starting_branch = None\n",
      "More than 1 seperated mesh (taking the top one): [<trimesh.Trimesh(vertices.shape=(59340, 3), faces.shape=(118259, 3))>\n",
      " <trimesh.Trimesh(vertices.shape=(357, 3), faces.shape=(699, 3))>]\n",
      "root_curr = [1409394.  702723.  770490.]\n",
      "Time for preparing soma vertices and root: 0.0003304481506347656\n",
      "invalidation_d = 2000\n",
      "cc_vertex_thresh = 10\n"
     ]
    },
    {
     "name": "stderr",
     "output_type": "stream",
     "text": [
      "\r",
      "  0%|          | 0/1 [00:00<?, ?it/s]"
     ]
    },
    {
     "data": {
      "application/vnd.jupyter.widget-view+json": {
       "model_id": "4aab0d71515b4a3090fd62f0da6c8c1e",
       "version_major": 2,
       "version_minor": 0
      },
      "text/plain": [
       "  0%|          | 0/59339 [00:00<?, ?it/s]"
      ]
     },
     "metadata": {},
     "output_type": "display_data"
    },
    {
     "name": "stderr",
     "output_type": "stream",
     "text": [
      "100%|██████████| 1/1 [00:01<00:00,  1.34s/it]\n"
     ]
    },
    {
     "name": "stdout",
     "output_type": "stream",
     "text": [
      "meshparty_segment_size = 100\n",
      "Time for 1st pass MP skeletonization: 2.232733964920044\n",
      "connecting at the root\n",
      "branches_touching_root = [74]\n",
      "combining close nodes\n",
      "combine_threshold = 1300\n",
      "length of Graph = 13811\n",
      "After combining close endpoints max(kept_branches_idx) = 74, len(kept_branches_idx) = 71\n",
      "empty_indices % = 0.0\n",
      " conflict_indices % = 0.012910490090669738\n"
     ]
    },
    {
     "data": {
      "application/vnd.jupyter.widget-view+json": {
       "model_id": "a18f0b75ada14470976510c01c1809c0",
       "version_major": 2,
       "version_minor": 0
      },
      "text/plain": [
       "  0%|          | 0/34 [00:00<?, ?it/s]"
      ]
     },
     "metadata": {},
     "output_type": "display_data"
    },
    {
     "name": "stdout",
     "output_type": "stream",
     "text": [
      "AFTER face_lookup_resolved_test\n"
     ]
    },
    {
     "data": {
      "application/vnd.jupyter.widget-view+json": {
       "model_id": "6abb03e9ffb245f19b607e9607aef25b",
       "version_major": 2,
       "version_minor": 0
      },
      "text/plain": [
       "  0%|          | 0/71 [00:00<?, ?it/s]"
      ]
     },
     "metadata": {},
     "output_type": "display_data"
    },
    {
     "name": "stdout",
     "output_type": "stream",
     "text": [
      "Decomposing first pass: 8.71602177619934\n",
      "Only Using MeshParty Skeletonization and Mesh Correspondence\n",
      "Another print\n",
      "Divinding into MP and MAP pieces: 2.2172927856445312e-05\n",
      "Total time for MAP sublimb processing 4.5299530029296875e-06\n",
      "---- Working on MP Decomposition #0 ----\n",
      "Using Quicker soma_to_piece_touching_vertices because no MAP and only one sublimb_mesh piece \n",
      "MP filtering soma verts: 7.867813110351562e-05\n",
      "Fixing Possible Soma Extension Branch for Sublimb 0\n",
      "Total time for mesh KDTree = 0.22201848030090332\n",
      "sbv[0].reshape(-1,3) = [[1409394.  702723.  770490.]]\n",
      "closest_sk_pt_coord BEFORE = [1409800.4106595   702789.27147564  770816.09613082]\n",
      "current_skeleton.shape = (685, 2, 3)\n",
      "node_for_stitch = 657: [1409800.4106595   702789.27147564  770816.09613082]\n",
      "node_for_stitch AFTER = 657: [1409800.4106595   702789.27147564  770816.09613082]\n",
      "possible_node_loc = [  0 609 685]\n",
      "possible_node_loc AFTER = [  0 609 685]\n",
      "curr_shortest_path = [657, 654.0, 650.0, 647.0, 642.0, 637.0, 629.0, 620.0, 614.0, 609.0]\n",
      "Current stitch point was not a branch or endpoint, shortest_path_length to one = 899.6781202707322\n",
      "Changing the stitch point becasue the distance to end or branch node was 899.6781202707322\n",
      "New stitch point has degree 1\n",
      "change_status for create soma extending pieces = True\n",
      "closest_sk_pt_coord AFTER = [1408997.08846992  702660.19243227  770450.95331906]\n",
      "skipping soma 0 because closest skeleton node was already end node\n",
      "endpoints_must_keep = {0: array([[1408997.08846992,  702660.19243227,  770450.95331906]])}\n",
      "match_sk_branches = [70]\n",
      "The new branch info was none so skipping \n",
      "\n",
      "No soma extending branch was added for this sublimb even though it had a soma border (means they already existed)\n",
      "MP (because soma touching verts) soma extension add: 2.663099765777588\n",
      "There were not both MAP and MP pieces so skipping the stitch resolving phase\n",
      "Time for decomp of Limb = 14.316237688064575\n",
      "Number of matching vertices = 39\n",
      "Only one endpoint after filtering away the endpoints that are not on the skeleton\n",
      "Using Distance measure skeletal_distance\n",
      "endpoints_must_keep = [[1408997.08846992  702660.19243227  770450.95331906]]\n",
      "Number of end_nodes BEFORE filtering = 39\n",
      "all_single_nodes_to_eliminate = [28]\n"
     ]
    },
    {
     "data": {
      "application/vnd.jupyter.widget-view+json": {
       "model_id": "c6396f30a0ca48bd9308fc328a9e988f",
       "version_major": 2,
       "version_minor": 0
      },
      "text/plain": [
       "  0%|          | 0/5 [00:00<?, ?it/s]"
      ]
     },
     "metadata": {},
     "output_type": "display_data"
    },
    {
     "name": "stdout",
     "output_type": "stream",
     "text": [
      "Removed 5 skeletal branches\n"
     ]
    },
    {
     "data": {
      "application/vnd.jupyter.widget-view+json": {
       "model_id": "5573c93f98bf481faa0e49f8db03ff77",
       "version_major": 2,
       "version_minor": 0
      },
      "text/plain": [
       "  0%|          | 0/71 [00:00<?, ?it/s]"
      ]
     },
     "metadata": {},
     "output_type": "display_data"
    },
    {
     "name": "stdout",
     "output_type": "stream",
     "text": [
      "118258 118259\n",
      "For marked faces: None\n",
      "empty_indices % = 0.002359228473097185\n",
      " conflict_indices % = 0.0\n"
     ]
    },
    {
     "data": {
      "application/vnd.jupyter.widget-view+json": {
       "model_id": "5cec00370f81494f827f2c8ad75a9eb4",
       "version_major": 2,
       "version_minor": 0
      },
      "text/plain": [
       "  0%|          | 0/1 [00:00<?, ?it/s]"
      ]
     },
     "metadata": {},
     "output_type": "display_data"
    },
    {
     "name": "stdout",
     "output_type": "stream",
     "text": [
      "AFTER face_lookup_resolved_test\n"
     ]
    },
    {
     "data": {
      "application/vnd.jupyter.widget-view+json": {
       "model_id": "ecc92169e9d04213bc79752d5c80dbcf",
       "version_major": 2,
       "version_minor": 0
      },
      "text/plain": [
       "  0%|          | 0/62 [00:00<?, ?it/s]"
      ]
     },
     "metadata": {},
     "output_type": "display_data"
    },
    {
     "name": "stdout",
     "output_type": "stream",
     "text": [
      "Limb Correspondence before stitching = 62\n",
      "Limb Correspondence AFTER stitching = 65\n",
      "Upstream node was None so don't have to adjust\n",
      "concept_network_dict = {0: [<networkx_utils.GraphOrderedEdges object at 0x7f3c655819e8>]}\n",
      "Assigning the old width calculation because no valid new widths\n",
      "\n",
      "\n",
      "----Working on seperate_graph 0----\n",
      "\n",
      "\n",
      "---------Working on soma_idx = 0, soma_group_idx 0, endpt = [1408997.08846992  702660.19243227  770450.95331906]---------\n",
      "Starting_edge inside branches_to_conept = [[1405214.35686662  765870.66114696  784520.3964782 ]\n",
      " [1408997.08846992  702660.19243227  770450.95331906]]\n",
      "At the start, starting_node (in terms of the skeleton, that shouldn't match the starting edge) = [53]\n",
      "printing out current edge:\n",
      "[[1408997.08846992  702660.19243227  770450.95331906]\n",
      " [1405214.35686662  765870.66114696  784520.3964782 ]]\n",
      "edge_endpoints_to_process was empty so exiting loop after 65 iterations\n",
      "starting_node in concept map (that should match the starting edge) = 50\n",
      "Total time for branches to concept conversion = 2.5178823471069336\n",
      "\n",
      "Done generating concept network \n",
      "\n",
      "\n"
     ]
    },
    {
     "data": {
      "application/vnd.jupyter.widget-view+json": {
       "model_id": "491616f8fd7a49db8a57c3fdda59f2c1",
       "version_major": 2,
       "version_minor": 0
      },
      "text/plain": [
       "  0%|          | 0/52 [00:00<?, ?it/s]"
      ]
     },
     "metadata": {},
     "output_type": "display_data"
    },
    {
     "data": {
      "application/vnd.jupyter.widget-view+json": {
       "model_id": "251a443ef86e49c6bbcc93f23d2c0800",
       "version_major": 2,
       "version_minor": 0
      },
      "text/plain": [
       "  0%|          | 0/18 [00:00<?, ?it/s]"
      ]
     },
     "metadata": {},
     "output_type": "display_data"
    },
    {
     "data": {
      "application/vnd.jupyter.widget-view+json": {
       "model_id": "7138ec1b866847d2b06bf811695ee03f",
       "version_major": 2,
       "version_minor": 0
      },
      "text/plain": [
       "  0%|          | 0/8 [00:00<?, ?it/s]"
      ]
     },
     "metadata": {},
     "output_type": "display_data"
    },
    {
     "data": {
      "application/vnd.jupyter.widget-view+json": {
       "model_id": "b9f31ecf00654b819c376f9d140c60d4",
       "version_major": 2,
       "version_minor": 0
      },
      "text/plain": [
       "  0%|          | 0/2 [00:00<?, ?it/s]"
      ]
     },
     "metadata": {},
     "output_type": "display_data"
    },
    {
     "data": {
      "application/vnd.jupyter.widget-view+json": {
       "model_id": "45dfbfe8bf294eb59c6436183dce8c28",
       "version_major": 2,
       "version_minor": 0
      },
      "text/plain": [
       "  0%|          | 0/20 [00:00<?, ?it/s]"
      ]
     },
     "metadata": {},
     "output_type": "display_data"
    },
    {
     "data": {
      "application/vnd.jupyter.widget-view+json": {
       "model_id": "ff4f36ef502c4ad88024afe8a8811750",
       "version_major": 2,
       "version_minor": 0
      },
      "text/plain": [
       "  0%|          | 0/12 [00:00<?, ?it/s]"
      ]
     },
     "metadata": {},
     "output_type": "display_data"
    },
    {
     "data": {
      "application/vnd.jupyter.widget-view+json": {
       "model_id": "1c7b49c75f5345339531a3d230b95c52",
       "version_major": 2,
       "version_minor": 0
      },
      "text/plain": [
       "  0%|          | 0/2 [00:00<?, ?it/s]"
      ]
     },
     "metadata": {},
     "output_type": "display_data"
    },
    {
     "data": {
      "application/vnd.jupyter.widget-view+json": {
       "model_id": "52006ddbb03a491d8902abeba3595f01",
       "version_major": 2,
       "version_minor": 0
      },
      "text/plain": [
       "  0%|          | 0/12 [00:00<?, ?it/s]"
      ]
     },
     "metadata": {},
     "output_type": "display_data"
    },
    {
     "data": {
      "application/vnd.jupyter.widget-view+json": {
       "model_id": "7a486b54ad5a40fa85f5fb03e4d40810",
       "version_major": 2,
       "version_minor": 0
      },
      "text/plain": [
       "  0%|          | 0/17 [00:00<?, ?it/s]"
      ]
     },
     "metadata": {},
     "output_type": "display_data"
    },
    {
     "data": {
      "application/vnd.jupyter.widget-view+json": {
       "model_id": "c9334be874c242dd9ab425b41bc8437a",
       "version_major": 2,
       "version_minor": 0
      },
      "text/plain": [
       "  0%|          | 0/13 [00:00<?, ?it/s]"
      ]
     },
     "metadata": {},
     "output_type": "display_data"
    },
    {
     "data": {
      "application/vnd.jupyter.widget-view+json": {
       "model_id": "a17edb24317f42c787e65e387ea1707e",
       "version_major": 2,
       "version_minor": 0
      },
      "text/plain": [
       "  0%|          | 0/36 [00:00<?, ?it/s]"
      ]
     },
     "metadata": {},
     "output_type": "display_data"
    },
    {
     "data": {
      "application/vnd.jupyter.widget-view+json": {
       "model_id": "ecc89070399f45ab9789e9e71090bd0d",
       "version_major": 2,
       "version_minor": 0
      },
      "text/plain": [
       "  0%|          | 0/4 [00:00<?, ?it/s]"
      ]
     },
     "metadata": {},
     "output_type": "display_data"
    },
    {
     "data": {
      "application/vnd.jupyter.widget-view+json": {
       "model_id": "e807bb47bed042d692010c696daa1784",
       "version_major": 2,
       "version_minor": 0
      },
      "text/plain": [
       "  0%|          | 0/9 [00:00<?, ?it/s]"
      ]
     },
     "metadata": {},
     "output_type": "display_data"
    },
    {
     "data": {
      "application/vnd.jupyter.widget-view+json": {
       "model_id": "4612e415504f4a0abc86f2f99058b197",
       "version_major": 2,
       "version_minor": 0
      },
      "text/plain": [
       "  0%|          | 0/18 [00:00<?, ?it/s]"
      ]
     },
     "metadata": {},
     "output_type": "display_data"
    },
    {
     "data": {
      "application/vnd.jupyter.widget-view+json": {
       "model_id": "4510234e5cd8447db67fe7c7bfe13b45",
       "version_major": 2,
       "version_minor": 0
      },
      "text/plain": [
       "  0%|          | 0/23 [00:00<?, ?it/s]"
      ]
     },
     "metadata": {},
     "output_type": "display_data"
    },
    {
     "data": {
      "application/vnd.jupyter.widget-view+json": {
       "model_id": "4f306d0feefc411aa6fa248211599fd1",
       "version_major": 2,
       "version_minor": 0
      },
      "text/plain": [
       "  0%|          | 0/7 [00:00<?, ?it/s]"
      ]
     },
     "metadata": {},
     "output_type": "display_data"
    },
    {
     "data": {
      "application/vnd.jupyter.widget-view+json": {
       "model_id": "9970cbfe1d884f4fb817b41e6888f34f",
       "version_major": 2,
       "version_minor": 0
      },
      "text/plain": [
       "  0%|          | 0/67 [00:00<?, ?it/s]"
      ]
     },
     "metadata": {},
     "output_type": "display_data"
    },
    {
     "data": {
      "application/vnd.jupyter.widget-view+json": {
       "model_id": "d8b79e544c644e1293e130b82bb0b281",
       "version_major": 2,
       "version_minor": 0
      },
      "text/plain": [
       "  0%|          | 0/15 [00:00<?, ?it/s]"
      ]
     },
     "metadata": {},
     "output_type": "display_data"
    },
    {
     "data": {
      "application/vnd.jupyter.widget-view+json": {
       "model_id": "09d93eaf28b0429dbbe9cbe4ba1ce76e",
       "version_major": 2,
       "version_minor": 0
      },
      "text/plain": [
       "  0%|          | 0/4 [00:00<?, ?it/s]"
      ]
     },
     "metadata": {},
     "output_type": "display_data"
    },
    {
     "data": {
      "application/vnd.jupyter.widget-view+json": {
       "model_id": "01fff50aee954b019077f4564c7ccf13",
       "version_major": 2,
       "version_minor": 0
      },
      "text/plain": [
       "  0%|          | 0/8 [00:00<?, ?it/s]"
      ]
     },
     "metadata": {},
     "output_type": "display_data"
    },
    {
     "data": {
      "application/vnd.jupyter.widget-view+json": {
       "model_id": "b92f40e757664bc79f8761754203b7b1",
       "version_major": 2,
       "version_minor": 0
      },
      "text/plain": [
       "  0%|          | 0/8 [00:00<?, ?it/s]"
      ]
     },
     "metadata": {},
     "output_type": "display_data"
    },
    {
     "data": {
      "application/vnd.jupyter.widget-view+json": {
       "model_id": "0904b3855873409bb66b291f85c0222d",
       "version_major": 2,
       "version_minor": 0
      },
      "text/plain": [
       "  0%|          | 0/7 [00:00<?, ?it/s]"
      ]
     },
     "metadata": {},
     "output_type": "display_data"
    },
    {
     "data": {
      "application/vnd.jupyter.widget-view+json": {
       "model_id": "f2c95ef5d03749a6b5e3f8c578a755a5",
       "version_major": 2,
       "version_minor": 0
      },
      "text/plain": [
       "  0%|          | 0/4 [00:00<?, ?it/s]"
      ]
     },
     "metadata": {},
     "output_type": "display_data"
    },
    {
     "data": {
      "application/vnd.jupyter.widget-view+json": {
       "model_id": "46ba5ef4ebaf4eb09e2a97ab44daf171",
       "version_major": 2,
       "version_minor": 0
      },
      "text/plain": [
       "  0%|          | 0/46 [00:00<?, ?it/s]"
      ]
     },
     "metadata": {},
     "output_type": "display_data"
    },
    {
     "data": {
      "application/vnd.jupyter.widget-view+json": {
       "model_id": "03373677b2ff4deb898a82803be0267c",
       "version_major": 2,
       "version_minor": 0
      },
      "text/plain": [
       "  0%|          | 0/12 [00:00<?, ?it/s]"
      ]
     },
     "metadata": {},
     "output_type": "display_data"
    },
    {
     "data": {
      "application/vnd.jupyter.widget-view+json": {
       "model_id": "31aa019f5c474a2480e1b23465f36b3e",
       "version_major": 2,
       "version_minor": 0
      },
      "text/plain": [
       "  0%|          | 0/5 [00:00<?, ?it/s]"
      ]
     },
     "metadata": {},
     "output_type": "display_data"
    },
    {
     "data": {
      "application/vnd.jupyter.widget-view+json": {
       "model_id": "7eabd486b5b7485e87bec948a8619167",
       "version_major": 2,
       "version_minor": 0
      },
      "text/plain": [
       "  0%|          | 0/6 [00:00<?, ?it/s]"
      ]
     },
     "metadata": {},
     "output_type": "display_data"
    },
    {
     "data": {
      "application/vnd.jupyter.widget-view+json": {
       "model_id": "5a00f1871c5440589d34ec1d92c39981",
       "version_major": 2,
       "version_minor": 0
      },
      "text/plain": [
       "  0%|          | 0/61 [00:00<?, ?it/s]"
      ]
     },
     "metadata": {},
     "output_type": "display_data"
    },
    {
     "data": {
      "application/vnd.jupyter.widget-view+json": {
       "model_id": "fe1d97dca6cb454daa348f4e36d76faf",
       "version_major": 2,
       "version_minor": 0
      },
      "text/plain": [
       "  0%|          | 0/2 [00:00<?, ?it/s]"
      ]
     },
     "metadata": {},
     "output_type": "display_data"
    },
    {
     "data": {
      "application/vnd.jupyter.widget-view+json": {
       "model_id": "3615a5ee952246c2b51b6771072d355c",
       "version_major": 2,
       "version_minor": 0
      },
      "text/plain": [
       "  0%|          | 0/5 [00:00<?, ?it/s]"
      ]
     },
     "metadata": {},
     "output_type": "display_data"
    },
    {
     "data": {
      "application/vnd.jupyter.widget-view+json": {
       "model_id": "f8a23335bd7542fb84401e521dd6e33c",
       "version_major": 2,
       "version_minor": 0
      },
      "text/plain": [
       "  0%|          | 0/20 [00:00<?, ?it/s]"
      ]
     },
     "metadata": {},
     "output_type": "display_data"
    },
    {
     "data": {
      "application/vnd.jupyter.widget-view+json": {
       "model_id": "4f82a5a8dfd94141b1b58ea17681bf92",
       "version_major": 2,
       "version_minor": 0
      },
      "text/plain": [
       "  0%|          | 0/3 [00:00<?, ?it/s]"
      ]
     },
     "metadata": {},
     "output_type": "display_data"
    },
    {
     "data": {
      "application/vnd.jupyter.widget-view+json": {
       "model_id": "d63b51e0e766484ba7df101140af4993",
       "version_major": 2,
       "version_minor": 0
      },
      "text/plain": [
       "  0%|          | 0/35 [00:00<?, ?it/s]"
      ]
     },
     "metadata": {},
     "output_type": "display_data"
    },
    {
     "data": {
      "application/vnd.jupyter.widget-view+json": {
       "model_id": "b78cdada470046c1af567e18be102b12",
       "version_major": 2,
       "version_minor": 0
      },
      "text/plain": [
       "  0%|          | 0/102 [00:00<?, ?it/s]"
      ]
     },
     "metadata": {},
     "output_type": "display_data"
    },
    {
     "data": {
      "application/vnd.jupyter.widget-view+json": {
       "model_id": "ef4d4fb68005447aa784eeb162b16382",
       "version_major": 2,
       "version_minor": 0
      },
      "text/plain": [
       "  0%|          | 0/8 [00:00<?, ?it/s]"
      ]
     },
     "metadata": {},
     "output_type": "display_data"
    },
    {
     "data": {
      "application/vnd.jupyter.widget-view+json": {
       "model_id": "1f09f83e30894dbb9f0b857ac25a07db",
       "version_major": 2,
       "version_minor": 0
      },
      "text/plain": [
       "  0%|          | 0/6 [00:00<?, ?it/s]"
      ]
     },
     "metadata": {},
     "output_type": "display_data"
    },
    {
     "data": {
      "application/vnd.jupyter.widget-view+json": {
       "model_id": "05d68337def34cefb42dca189c1ee13e",
       "version_major": 2,
       "version_minor": 0
      },
      "text/plain": [
       "  0%|          | 0/4 [00:00<?, ?it/s]"
      ]
     },
     "metadata": {},
     "output_type": "display_data"
    },
    {
     "data": {
      "application/vnd.jupyter.widget-view+json": {
       "model_id": "0627f5d6c6b74ba5aba5349653ea8f72",
       "version_major": 2,
       "version_minor": 0
      },
      "text/plain": [
       "  0%|          | 0/10 [00:00<?, ?it/s]"
      ]
     },
     "metadata": {},
     "output_type": "display_data"
    },
    {
     "data": {
      "application/vnd.jupyter.widget-view+json": {
       "model_id": "42962466346c4104b1c24745fa61284b",
       "version_major": 2,
       "version_minor": 0
      },
      "text/plain": [
       "  0%|          | 0/7 [00:00<?, ?it/s]"
      ]
     },
     "metadata": {},
     "output_type": "display_data"
    },
    {
     "data": {
      "application/vnd.jupyter.widget-view+json": {
       "model_id": "fb93774ab81c4bfe92313a4ce7eada6a",
       "version_major": 2,
       "version_minor": 0
      },
      "text/plain": [
       "  0%|          | 0/7 [00:00<?, ?it/s]"
      ]
     },
     "metadata": {},
     "output_type": "display_data"
    },
    {
     "data": {
      "application/vnd.jupyter.widget-view+json": {
       "model_id": "42271e8e8e0642b5b96592e90242afa6",
       "version_major": 2,
       "version_minor": 0
      },
      "text/plain": [
       "  0%|          | 0/4 [00:00<?, ?it/s]"
      ]
     },
     "metadata": {},
     "output_type": "display_data"
    },
    {
     "data": {
      "application/vnd.jupyter.widget-view+json": {
       "model_id": "6e7417ea4f96467ba3e27d8150fe27d9",
       "version_major": 2,
       "version_minor": 0
      },
      "text/plain": [
       "  0%|          | 0/25 [00:00<?, ?it/s]"
      ]
     },
     "metadata": {},
     "output_type": "display_data"
    },
    {
     "data": {
      "application/vnd.jupyter.widget-view+json": {
       "model_id": "d9fa367c1f1f4733b31b659dc3d5097b",
       "version_major": 2,
       "version_minor": 0
      },
      "text/plain": [
       "  0%|          | 0/6 [00:00<?, ?it/s]"
      ]
     },
     "metadata": {},
     "output_type": "display_data"
    },
    {
     "data": {
      "application/vnd.jupyter.widget-view+json": {
       "model_id": "f6346fcebd4e4694b6315d025f4a4062",
       "version_major": 2,
       "version_minor": 0
      },
      "text/plain": [
       "  0%|          | 0/8 [00:00<?, ?it/s]"
      ]
     },
     "metadata": {},
     "output_type": "display_data"
    },
    {
     "data": {
      "application/vnd.jupyter.widget-view+json": {
       "model_id": "4413d3910cab463b9f48f0822354a8ec",
       "version_major": 2,
       "version_minor": 0
      },
      "text/plain": [
       "  0%|          | 0/17 [00:00<?, ?it/s]"
      ]
     },
     "metadata": {},
     "output_type": "display_data"
    },
    {
     "data": {
      "application/vnd.jupyter.widget-view+json": {
       "model_id": "9d8116e0039f4095bf534e4110b602de",
       "version_major": 2,
       "version_minor": 0
      },
      "text/plain": [
       "  0%|          | 0/9 [00:00<?, ?it/s]"
      ]
     },
     "metadata": {},
     "output_type": "display_data"
    },
    {
     "data": {
      "application/vnd.jupyter.widget-view+json": {
       "model_id": "ccaa91ab4e194c7d869e4d3d78644190",
       "version_major": 2,
       "version_minor": 0
      },
      "text/plain": [
       "  0%|          | 0/6 [00:00<?, ?it/s]"
      ]
     },
     "metadata": {},
     "output_type": "display_data"
    },
    {
     "data": {
      "application/vnd.jupyter.widget-view+json": {
       "model_id": "82a2611465614924bd5a1128c7c23771",
       "version_major": 2,
       "version_minor": 0
      },
      "text/plain": [
       "  0%|          | 0/7 [00:00<?, ?it/s]"
      ]
     },
     "metadata": {},
     "output_type": "display_data"
    },
    {
     "data": {
      "application/vnd.jupyter.widget-view+json": {
       "model_id": "7343ab6bad274f43ace5a78e423be826",
       "version_major": 2,
       "version_minor": 0
      },
      "text/plain": [
       "  0%|          | 0/2 [00:00<?, ?it/s]"
      ]
     },
     "metadata": {},
     "output_type": "display_data"
    },
    {
     "data": {
      "application/vnd.jupyter.widget-view+json": {
       "model_id": "9a03e9bb9d0d442292125d398bef9726",
       "version_major": 2,
       "version_minor": 0
      },
      "text/plain": [
       "  0%|          | 0/15 [00:00<?, ?it/s]"
      ]
     },
     "metadata": {},
     "output_type": "display_data"
    },
    {
     "data": {
      "application/vnd.jupyter.widget-view+json": {
       "model_id": "a6c67abb3d7b4b58b03df1e44208e352",
       "version_major": 2,
       "version_minor": 0
      },
      "text/plain": [
       "  0%|          | 0/4 [00:00<?, ?it/s]"
      ]
     },
     "metadata": {},
     "output_type": "display_data"
    },
    {
     "data": {
      "application/vnd.jupyter.widget-view+json": {
       "model_id": "fcb52362856740188626e97edc3d10f1",
       "version_major": 2,
       "version_minor": 0
      },
      "text/plain": [
       "  0%|          | 0/6 [00:00<?, ?it/s]"
      ]
     },
     "metadata": {},
     "output_type": "display_data"
    },
    {
     "data": {
      "application/vnd.jupyter.widget-view+json": {
       "model_id": "951591e4641940078d3341a8eff379b6",
       "version_major": 2,
       "version_minor": 0
      },
      "text/plain": [
       "  0%|          | 0/5 [00:00<?, ?it/s]"
      ]
     },
     "metadata": {},
     "output_type": "display_data"
    },
    {
     "data": {
      "application/vnd.jupyter.widget-view+json": {
       "model_id": "1d747b321ad745e3a6a25e6ad7742fab",
       "version_major": 2,
       "version_minor": 0
      },
      "text/plain": [
       "  0%|          | 0/12 [00:00<?, ?it/s]"
      ]
     },
     "metadata": {},
     "output_type": "display_data"
    },
    {
     "data": {
      "application/vnd.jupyter.widget-view+json": {
       "model_id": "3e46239e669e4fa285c363faa1483dcf",
       "version_major": 2,
       "version_minor": 0
      },
      "text/plain": [
       "  0%|          | 0/11 [00:00<?, ?it/s]"
      ]
     },
     "metadata": {},
     "output_type": "display_data"
    },
    {
     "data": {
      "application/vnd.jupyter.widget-view+json": {
       "model_id": "075f5e223da64a20a2e42afab02c3acc",
       "version_major": 2,
       "version_minor": 0
      },
      "text/plain": [
       "  0%|          | 0/20 [00:00<?, ?it/s]"
      ]
     },
     "metadata": {},
     "output_type": "display_data"
    },
    {
     "data": {
      "application/vnd.jupyter.widget-view+json": {
       "model_id": "e0658b4d97b84b5c8edcb3420c47a5a3",
       "version_major": 2,
       "version_minor": 0
      },
      "text/plain": [
       "  0%|          | 0/17 [00:00<?, ?it/s]"
      ]
     },
     "metadata": {},
     "output_type": "display_data"
    },
    {
     "data": {
      "application/vnd.jupyter.widget-view+json": {
       "model_id": "3c9e183bd948474c86ea5dc5b808657c",
       "version_major": 2,
       "version_minor": 0
      },
      "text/plain": [
       "  0%|          | 0/9 [00:00<?, ?it/s]"
      ]
     },
     "metadata": {},
     "output_type": "display_data"
    },
    {
     "data": {
      "application/vnd.jupyter.widget-view+json": {
       "model_id": "bc778465689449469baa8b73a44c81e9",
       "version_major": 2,
       "version_minor": 0
      },
      "text/plain": [
       "  0%|          | 0/21 [00:00<?, ?it/s]"
      ]
     },
     "metadata": {},
     "output_type": "display_data"
    },
    {
     "data": {
      "application/vnd.jupyter.widget-view+json": {
       "model_id": "f5aeaa39c81b43aab4615484c420c0c4",
       "version_major": 2,
       "version_minor": 0
      },
      "text/plain": [
       "  0%|          | 0/17 [00:00<?, ?it/s]"
      ]
     },
     "metadata": {},
     "output_type": "display_data"
    },
    {
     "data": {
      "application/vnd.jupyter.widget-view+json": {
       "model_id": "81a746adbd1a4b61804f034442371348",
       "version_major": 2,
       "version_minor": 0
      },
      "text/plain": [
       "  0%|          | 0/6 [00:00<?, ?it/s]"
      ]
     },
     "metadata": {},
     "output_type": "display_data"
    },
    {
     "data": {
      "application/vnd.jupyter.widget-view+json": {
       "model_id": "a4b156e154204c45bb83f55302b7bc72",
       "version_major": 2,
       "version_minor": 0
      },
      "text/plain": [
       "  0%|          | 0/15 [00:00<?, ?it/s]"
      ]
     },
     "metadata": {},
     "output_type": "display_data"
    },
    {
     "data": {
      "application/vnd.jupyter.widget-view+json": {
       "model_id": "fa450ce325464bfe83dd72ae05be7e5d",
       "version_major": 2,
       "version_minor": 0
      },
      "text/plain": [
       "  0%|          | 0/40 [00:00<?, ?it/s]"
      ]
     },
     "metadata": {},
     "output_type": "display_data"
    },
    {
     "data": {
      "application/vnd.jupyter.widget-view+json": {
       "model_id": "74503517844a4b7fb9bcc92e7296de11",
       "version_major": 2,
       "version_minor": 0
      },
      "text/plain": [
       "  0%|          | 0/24 [00:00<?, ?it/s]"
      ]
     },
     "metadata": {},
     "output_type": "display_data"
    },
    {
     "data": {
      "application/vnd.jupyter.widget-view+json": {
       "model_id": "828463ad15c442aaa42dbd5358cfd655",
       "version_major": 2,
       "version_minor": 0
      },
      "text/plain": [
       "  0%|          | 0/17 [00:00<?, ?it/s]"
      ]
     },
     "metadata": {},
     "output_type": "display_data"
    },
    {
     "data": {
      "application/vnd.jupyter.widget-view+json": {
       "model_id": "3ddf0ef99d254504bfa080e54727d77d",
       "version_major": 2,
       "version_minor": 0
      },
      "text/plain": [
       "  0%|          | 0/15 [00:00<?, ?it/s]"
      ]
     },
     "metadata": {},
     "output_type": "display_data"
    },
    {
     "data": {
      "application/vnd.jupyter.widget-view+json": {
       "model_id": "48b2e77a76b74b5097823c841d8053a2",
       "version_major": 2,
       "version_minor": 0
      },
      "text/plain": [
       "  0%|          | 0/13 [00:00<?, ?it/s]"
      ]
     },
     "metadata": {},
     "output_type": "display_data"
    },
    {
     "data": {
      "application/vnd.jupyter.widget-view+json": {
       "model_id": "41605b56dd1940cc88138bb95c08358a",
       "version_major": 2,
       "version_minor": 0
      },
      "text/plain": [
       "  0%|          | 0/13 [00:00<?, ?it/s]"
      ]
     },
     "metadata": {},
     "output_type": "display_data"
    },
    {
     "data": {
      "application/vnd.jupyter.widget-view+json": {
       "model_id": "329c21e16a934bfeaadcab581f724575",
       "version_major": 2,
       "version_minor": 0
      },
      "text/plain": [
       "  0%|          | 0/16 [00:00<?, ?it/s]"
      ]
     },
     "metadata": {},
     "output_type": "display_data"
    },
    {
     "data": {
      "application/vnd.jupyter.widget-view+json": {
       "model_id": "5d9ef7dfd17b43c09e8084aa08b741c5",
       "version_major": 2,
       "version_minor": 0
      },
      "text/plain": [
       "  0%|          | 0/144 [00:00<?, ?it/s]"
      ]
     },
     "metadata": {},
     "output_type": "display_data"
    },
    {
     "data": {
      "application/vnd.jupyter.widget-view+json": {
       "model_id": "87df5c0f3034479492530484d7e93f4c",
       "version_major": 2,
       "version_minor": 0
      },
      "text/plain": [
       "  0%|          | 0/23 [00:00<?, ?it/s]"
      ]
     },
     "metadata": {},
     "output_type": "display_data"
    },
    {
     "data": {
      "application/vnd.jupyter.widget-view+json": {
       "model_id": "81460378fedc4eb994b56ee9fe02a93a",
       "version_major": 2,
       "version_minor": 0
      },
      "text/plain": [
       "  0%|          | 0/145 [00:00<?, ?it/s]"
      ]
     },
     "metadata": {},
     "output_type": "display_data"
    },
    {
     "data": {
      "application/vnd.jupyter.widget-view+json": {
       "model_id": "a51b5ab0593a44a7b22d4dc000006439",
       "version_major": 2,
       "version_minor": 0
      },
      "text/plain": [
       "  0%|          | 0/12 [00:00<?, ?it/s]"
      ]
     },
     "metadata": {},
     "output_type": "display_data"
    },
    {
     "data": {
      "application/vnd.jupyter.widget-view+json": {
       "model_id": "62339145d08d45978fd1fe825384f1d6",
       "version_major": 2,
       "version_minor": 0
      },
      "text/plain": [
       "  0%|          | 0/16 [00:00<?, ?it/s]"
      ]
     },
     "metadata": {},
     "output_type": "display_data"
    },
    {
     "data": {
      "application/vnd.jupyter.widget-view+json": {
       "model_id": "d56b4421f4f143abacbc1db993f3f9be",
       "version_major": 2,
       "version_minor": 0
      },
      "text/plain": [
       "  0%|          | 0/7 [00:00<?, ?it/s]"
      ]
     },
     "metadata": {},
     "output_type": "display_data"
    },
    {
     "data": {
      "application/vnd.jupyter.widget-view+json": {
       "model_id": "8556bb6188e34a75a1f1b7ec2c97a54b",
       "version_major": 2,
       "version_minor": 0
      },
      "text/plain": [
       "  0%|          | 0/39 [00:00<?, ?it/s]"
      ]
     },
     "metadata": {},
     "output_type": "display_data"
    },
    {
     "data": {
      "application/vnd.jupyter.widget-view+json": {
       "model_id": "527676a976ed4804a7c869eb80403598",
       "version_major": 2,
       "version_minor": 0
      },
      "text/plain": [
       "  0%|          | 0/12 [00:00<?, ?it/s]"
      ]
     },
     "metadata": {},
     "output_type": "display_data"
    },
    {
     "data": {
      "application/vnd.jupyter.widget-view+json": {
       "model_id": "56e62925ddb94452bdff37c77d6b5ee9",
       "version_major": 2,
       "version_minor": 0
      },
      "text/plain": [
       "  0%|          | 0/73 [00:00<?, ?it/s]"
      ]
     },
     "metadata": {},
     "output_type": "display_data"
    },
    {
     "data": {
      "application/vnd.jupyter.widget-view+json": {
       "model_id": "7864e74d57ae424789c075e702dab570",
       "version_major": 2,
       "version_minor": 0
      },
      "text/plain": [
       "  0%|          | 0/23 [00:00<?, ?it/s]"
      ]
     },
     "metadata": {},
     "output_type": "display_data"
    },
    {
     "data": {
      "application/vnd.jupyter.widget-view+json": {
       "model_id": "9c7973fcf2bf44bc9a719ba3d4d727f9",
       "version_major": 2,
       "version_minor": 0
      },
      "text/plain": [
       "  0%|          | 0/11 [00:00<?, ?it/s]"
      ]
     },
     "metadata": {},
     "output_type": "display_data"
    },
    {
     "data": {
      "application/vnd.jupyter.widget-view+json": {
       "model_id": "ae7e582db9864f7698180db5d1598416",
       "version_major": 2,
       "version_minor": 0
      },
      "text/plain": [
       "  0%|          | 0/17 [00:00<?, ?it/s]"
      ]
     },
     "metadata": {},
     "output_type": "display_data"
    },
    {
     "data": {
      "application/vnd.jupyter.widget-view+json": {
       "model_id": "d8cfa848fda941b0b42b22861d5a4dde",
       "version_major": 2,
       "version_minor": 0
      },
      "text/plain": [
       "  0%|          | 0/19 [00:00<?, ?it/s]"
      ]
     },
     "metadata": {},
     "output_type": "display_data"
    },
    {
     "data": {
      "application/vnd.jupyter.widget-view+json": {
       "model_id": "f74bb1d74f504bb4bb3429711d447171",
       "version_major": 2,
       "version_minor": 0
      },
      "text/plain": [
       "  0%|          | 0/15 [00:00<?, ?it/s]"
      ]
     },
     "metadata": {},
     "output_type": "display_data"
    },
    {
     "name": "stdout",
     "output_type": "stream",
     "text": [
      "Synapsse Results:\n",
      "Total Number of Synapses = 5362\n",
      "n_valid_syn_ids_presyn = 0\n",
      "n_errored_syn_ids_presyn = 108\n",
      "n_valid_syn_ids_postsyn = 5033\n",
      "n_errored_syn_ids_postsyn = 221\n",
      "Synapsse Results:\n",
      "Total Number of Synapses = 5362\n",
      "n_valid_syn_ids_presyn = 0\n",
      "n_errored_syn_ids_presyn = 108\n",
      "n_valid_syn_ids_postsyn = 5033\n",
      "n_errored_syn_ids_postsyn = 221\n"
     ]
    },
    {
     "data": {
      "application/vnd.jupyter.widget-view+json": {
       "model_id": "f5eb7b7c9fe34b79bcebda4dd147e69e",
       "version_major": 2,
       "version_minor": 0
      },
      "text/plain": [
       "  0%|          | 0/9 [00:00<?, ?it/s]"
      ]
     },
     "metadata": {},
     "output_type": "display_data"
    },
    {
     "data": {
      "application/vnd.jupyter.widget-view+json": {
       "model_id": "afacba0ce1f34b0fb3024e684f25c860",
       "version_major": 2,
       "version_minor": 0
      },
      "text/plain": [
       "  0%|          | 0/5 [00:00<?, ?it/s]"
      ]
     },
     "metadata": {},
     "output_type": "display_data"
    },
    {
     "name": "stdout",
     "output_type": "stream",
     "text": [
      "Synapsse Results:\n",
      "Total Number of Synapses = 5362\n",
      "n_valid_syn_ids_presyn = 0\n",
      "n_errored_syn_ids_presyn = 108\n",
      "n_valid_syn_ids_postsyn = 5033\n",
      "n_errored_syn_ids_postsyn = 221\n",
      "Synapsse Results:\n",
      "Total Number of Synapses = 5362\n",
      "n_valid_syn_ids_presyn = 0\n",
      "n_errored_syn_ids_presyn = 108\n",
      "n_valid_syn_ids_postsyn = 5033\n",
      "n_errored_syn_ids_postsyn = 221\n"
     ]
    },
    {
     "data": {
      "application/vnd.jupyter.widget-view+json": {
       "model_id": "974734b24d204d9db6bcb18ddd3583e7",
       "version_major": 2,
       "version_minor": 0
      },
      "text/plain": [
       "  0%|          | 0/9 [00:00<?, ?it/s]"
      ]
     },
     "metadata": {},
     "output_type": "display_data"
    },
    {
     "data": {
      "application/vnd.jupyter.widget-view+json": {
       "model_id": "21865099fcb746a6844f0137eca2a37a",
       "version_major": 2,
       "version_minor": 0
      },
      "text/plain": [
       "  0%|          | 0/5 [00:00<?, ?it/s]"
      ]
     },
     "metadata": {},
     "output_type": "display_data"
    },
    {
     "name": "stdout",
     "output_type": "stream",
     "text": [
      "\n",
      "\n",
      "len(branch_attr_keys) = 14\n",
      "Saving Neuorn in suppress_output mode...please wait\n",
      "Saved File at location: /mnt/dj-stor01/platinum/minnie65/02/decomposition/864691136056340440_0_25_soma_0_split_full_axon\n",
      "Save time = 323.4981265068054\n",
      "\n",
      "\n",
      " ***------ Total time for 864691136056340440 = 794.5723187923431 ------ ***\n",
      "\n",
      "\n",
      "\n",
      "---- Working on Neuron 864691136311740477 ----\n",
      "Decompressing Neuron in minimal output mode...please wait\n",
      "Pulled from Table Decomposition so setting split_index = 0\n",
      "Dont need spine recalculation\n",
      "Number of Neurons found = 1\n",
      "\n",
      "Part 1: Axon like branchese \n",
      "{'L0': array([27, 28, 33, 35]), 'L1': array([ 0,  1,  2,  3,  4,  5,  6,  7,  9, 10, 11, 12, 13, 14, 16, 17, 19,\n",
      "       20, 21, 22, 24, 26, 27, 28, 29, 30, 32, 33, 34, 35, 37, 38, 39, 40,\n",
      "       41, 42]), 'L4': array([5]), 'L6': array([0])}\n",
      "Limb L0 soma angle: 9.09 \n",
      "Limb L1 soma angle: 129.31 \n",
      "Limb L2 soma angle: 94.44 \n",
      "Limb L3 soma angle: 116.51 \n",
      "Limb L4 soma angle: 90.17 \n",
      "Limb L5 soma angle: 66.46 \n",
      "Limb L6 soma angle: 154.93 \n",
      "\n",
      "Part 2: possible_axon_limbs = [1, 2, 3, 4, 6]\n",
      "\n",
      "Phase 2: Working on Limb L1\n",
      "nodes_to_eliminate = [45]\n",
      "\n",
      "Phase 2: Working on Limb L2\n",
      "nodes_to_eliminate = [3]\n",
      "\n",
      "Phase 2: Working on Limb L3\n",
      "nodes_to_eliminate = []\n",
      "\n",
      "Phase 2: Working on Limb L4\n",
      "nodes_to_eliminate = [1]\n",
      "\n",
      "Phase 2: Working on Limb L6\n",
      "nodes_to_eliminate = []\n",
      "\n",
      "----Working on Limb L1-----\n",
      "No endpoints were eliminated so don't need to add back any candidates\n",
      "\n",
      "----Working on Limb L2-----\n",
      "No endpoints were eliminated so don't need to add back any candidates\n",
      "\n",
      "----Working on Limb L3-----\n",
      "No nodes were eliminated so don't need to add back any candidates\n",
      "\n",
      "----Working on Limb L4-----\n",
      "No endpoints were eliminated so don't need to add back any candidates\n",
      "\n",
      "----Working on Limb L6-----\n",
      "No nodes were eliminated so don't need to add back any candidates\n",
      "Final Candidates\n",
      "\n",
      "Limb 1\n",
      "Candidate 0 (darkslategray): array([35, 36, 43, 23, 31])\n",
      "Candidate 1 (olive): array([ 0,  1,  2,  3,  4,  5,  6,  7,  8,  9, 10, 11, 12, 13, 14, 15, 16,\n",
      "       17, 18, 19, 20, 21, 22, 24, 25, 26, 27, 28, 29, 30, 32, 33, 34, 37,\n",
      "       38, 39, 40, 41, 42, 44])\n",
      "\n",
      "Limb 2\n",
      "Candidate 0 (darkslategray): array([0, 1, 2])\n",
      "Candidate 1 (olive): array([4])\n",
      "\n",
      "Limb 3\n",
      "Candidate 0 (darkslategray): array([0, 1, 2])\n",
      "\n",
      "Limb 4\n",
      "Candidate 0 (magenta): array([0, 2, 4])\n",
      "Candidate 1 (crimson): array([3, 5, 6])\n",
      "\n",
      "Limb 6\n",
      "Candidate 0 (cyan): array([0])\n",
      "Part 3: axon_subgraph_candidates = {1: [[35, 36, 43, 23, 31], [0, 1, 2, 3, 4, 5, 6, 7, 8, 9, 10, 11, 12, 13, 14, 15, 16, 17, 18, 19, 20, 21, 22, 24, 25, 26, 27, 28, 29, 30, 32, 33, 34, 37, 38, 39, 40, 41, 42, 44]], 2: [[0, 1, 2], [4]], 3: [[0, 1, 2]], 4: [[0, 2, 4], [3, 5, 6]], 6: [[0]]}\n",
      "\n",
      "\n",
      " --- Working on limb 1, candidate # 0\n",
      "1 out of 5 branches are axons\n",
      "Axon percentage = 0.2\n",
      "curr_axon_angle_threshold = 120\n",
      "candidate_nodes = [23 31 35 36 43 45]\n",
      "non_axon_branches_on_subgraph = [23 31 36 43 45]\n",
      "endnodes_to_test = []\n",
      "candidate_angles,restr_skels = (None, None)\n",
      "Not adding candidate because no angles (None) passed the threhold 120 \n",
      "\n",
      "\n",
      " --- Working on limb 1, candidate # 1\n",
      "35 out of 40 branches are axons\n",
      "Axon percentage = 0.875\n",
      "curr_axon_angle_threshold = 95\n",
      "candidate_nodes = [ 0  1  2  3  4  5  6  7  8  9 10 11 12 13 14 15 16 17 18 19 20 21 22 24\n",
      " 25 26 27 28 29 30 32 33 34 37 38 39 40 41 42 44 45]\n",
      "non_axon_branches_on_subgraph = [ 8 15 18 25 44 45]\n",
      "endnodes_to_test = []\n",
      "candidate_angles,restr_skels = (None, None)\n",
      "Not adding candidate because no angles (None) passed the threhold 95 \n",
      "\n",
      "\n",
      " --- Working on limb 2, candidate # 0\n",
      "0 out of 3 branches are axons\n",
      "Axon percentage = 0.0\n",
      "Not adding candidate no axon branches detected \n",
      "\n",
      "\n",
      " --- Working on limb 2, candidate # 1\n",
      "0 out of 1 branches are axons\n",
      "Axon percentage = 0.0\n",
      "Not adding candidate no axon branches detected \n",
      "\n",
      "\n",
      " --- Working on limb 3, candidate # 0\n",
      "0 out of 3 branches are axons\n",
      "Axon percentage = 0.0\n",
      "Not adding candidate no axon branches detected \n",
      "\n",
      "\n",
      " --- Working on limb 4, candidate # 0\n",
      "0 out of 3 branches are axons\n",
      "Axon percentage = 0.0\n",
      "Not adding candidate no axon branches detected \n",
      "\n",
      "\n",
      " --- Working on limb 4, candidate # 1\n",
      "1 out of 3 branches are axons\n",
      "Axon percentage = 0.3333333333333333\n",
      "curr_axon_angle_threshold = 120\n",
      "candidate_nodes = [1 3 5 6]\n",
      "non_axon_branches_on_subgraph = [1 3 6]\n",
      "endnodes_to_test = []\n",
      "candidate_angles,restr_skels = (None, None)\n",
      "Not adding candidate because no angles (None) passed the threhold 120 \n",
      "\n",
      "\n",
      " --- Working on limb 6, candidate # 0\n",
      "1 out of 1 branches are axons\n",
      "Axon percentage = 1.0\n",
      "curr_axon_angle_threshold = 95\n",
      "candidate_nodes = [0]\n",
      "non_axon_branches_on_subgraph = []\n",
      "endnodes_to_test = [250]\n",
      "Skeleton paths distances = [24998.6254612]\n",
      "Filtered indexes = [0]\n",
      "len(filtered_skeletons) = 1\n",
      "sk_angles = [169.46261639]\n",
      "candidate_angles,restr_skels = (array([169.46261639]), [array([[[822109.05607027, 592149.75983389, 771556.92481117],\n",
      "        [822106.48651871, 592249.01106495, 771568.8659392 ]],\n",
      "\n",
      "       [[822106.48651871, 592249.01106495, 771568.8659392 ],\n",
      "        [822104.54616748, 592348.38142815, 771579.75125612]],\n",
      "\n",
      "       [[822104.54616748, 592348.38142815, 771579.75125612],\n",
      "        [822103.95754916, 592448.00772708, 771588.3683374 ]],\n",
      "\n",
      "       [[822103.95754916, 592448.00772708, 771588.3683374 ],\n",
      "        [822104.07146191, 592547.70135631, 771595.99531225]],\n",
      "\n",
      "       [[822104.07146191, 592547.70135631, 771595.99531225],\n",
      "        [822105.60934115, 592647.53145791, 771601.61543161]],\n",
      "\n",
      "       [[822105.60934115, 592647.53145791, 771601.61543161],\n",
      "        [822107.88443001, 592747.38909783, 771606.18749038]],\n",
      "\n",
      "       [[822107.88443001, 592747.38909783, 771606.18749038],\n",
      "        [822111.22404367, 592847.28650287, 771609.24615805]],\n",
      "\n",
      "       [[822111.22404367, 592847.28650287, 771609.24615805],\n",
      "        [822115.18870458, 592947.18349857, 771611.12385265]],\n",
      "\n",
      "       [[822115.18870458, 592947.18349857, 771611.12385265],\n",
      "        [822119.6245806 , 593047.08018569, 771612.11122679]],\n",
      "\n",
      "       [[822119.6245806 , 593047.08018569, 771612.11122679],\n",
      "        [822124.22865816, 593146.97179479, 771611.81563473]],\n",
      "\n",
      "       [[822124.22865816, 593146.97179479, 771611.81563473],\n",
      "        [822128.79432495, 593246.86395244, 771611.08699007]],\n",
      "\n",
      "       [[822128.79432495, 593246.86395244, 771611.08699007],\n",
      "        [822132.82049542, 593346.7681014 , 771609.36915121]],\n",
      "\n",
      "       [[822132.82049542, 593346.7681014 , 771609.36915121],\n",
      "        [822136.31318165, 593446.68279688, 771607.27855557]],\n",
      "\n",
      "       [[822136.31318165, 593446.68279688, 771607.27855557],\n",
      "        [822139.19618144, 593546.60954532, 771604.76195903]],\n",
      "\n",
      "       [[822139.19618144, 593546.60954532, 771604.76195903],\n",
      "        [822141.0759788 , 593646.545417  , 771601.76591829]],\n",
      "\n",
      "       [[822141.0759788 , 593646.545417  , 771601.76591829],\n",
      "        [822142.62322016, 593746.48331163, 771598.61349962]],\n",
      "\n",
      "       [[822142.62322016, 593746.48331163, 771598.61349962],\n",
      "        [822143.27511648, 593846.41809608, 771595.06189621]],\n",
      "\n",
      "       [[822143.27511648, 593846.41809608, 771595.06189621],\n",
      "        [822143.81037675, 593946.35246611, 771591.48413149]],\n",
      "\n",
      "       [[822143.81037675, 593946.35246611, 771591.48413149],\n",
      "        [822144.06170669, 594046.28582729, 771587.84268157]],\n",
      "\n",
      "       [[822144.06170669, 594046.28582729, 771587.84268157],\n",
      "        [822144.46012681, 594146.22772906, 771584.47765677]],\n",
      "\n",
      "       [[822144.46012681, 594146.22772906, 771584.47765677],\n",
      "        [822145.05963582, 594246.18130678, 771581.49053633]],\n",
      "\n",
      "       [[822145.05963582, 594246.18130678, 771581.49053633],\n",
      "        [822146.21882776, 594346.14727251, 771579.43186931]],\n",
      "\n",
      "       [[822146.21882776, 594346.14727251, 771579.43186931],\n",
      "        [822147.96076591, 594446.12613671, 771578.33991516]],\n",
      "\n",
      "       [[822147.96076591, 594446.12613671, 771578.33991516],\n",
      "        [822150.6519615 , 594546.06770729, 771579.07179796]],\n",
      "\n",
      "       [[822150.6519615 , 594546.06770729, 771579.07179796],\n",
      "        [822154.21955615, 594645.97484665, 771581.48753267]],\n",
      "\n",
      "       [[822154.21955615, 594645.97484665, 771581.48753267],\n",
      "        [822158.9870751 , 594745.68787284, 771586.66924107]],\n",
      "\n",
      "       [[822158.9870751 , 594745.68787284, 771586.66924107],\n",
      "        [822164.7711351 , 594845.23645199, 771594.19420211]],\n",
      "\n",
      "       [[822164.7711351 , 594845.23645199, 771594.19420211],\n",
      "        [822171.80268386, 594944.31944818, 771605.26591678]],\n",
      "\n",
      "       [[822171.80268386, 594944.31944818, 771605.26591678],\n",
      "        [822179.74985632, 595043.0607188 , 771618.94085468]],\n",
      "\n",
      "       [[822179.74985632, 595043.0607188 , 771618.94085468],\n",
      "        [822188.74043104, 595141.03592123, 771636.55604935]],\n",
      "\n",
      "       [[822188.74043104, 595141.03592123, 771636.55604935],\n",
      "        [822198.32146998, 595238.57760355, 771656.40104628]],\n",
      "\n",
      "       [[822198.32146998, 595238.57760355, 771656.40104628],\n",
      "        [822208.4565876 , 595335.20385287, 771679.96285899]],\n",
      "\n",
      "       [[822208.4565876 , 595335.20385287, 771679.96285899],\n",
      "        [822218.79498136, 595431.49425515, 771704.88826858]],\n",
      "\n",
      "       [[822218.79498136, 595431.49425515, 771704.88826858],\n",
      "        [822228.92539693, 595527.04417406, 771732.56877181]],\n",
      "\n",
      "       [[822228.92539693, 595527.04417406, 771732.56877181],\n",
      "        [822239.01081605, 595622.46731356, 771760.72343108]],\n",
      "\n",
      "       [[822239.01081605, 595622.46731356, 771760.72343108],\n",
      "        [822247.96556813, 595717.65006044, 771790.05016141]],\n",
      "\n",
      "       [[822247.96556813, 595717.65006044, 771790.05016141],\n",
      "        [822256.60188205, 595812.88088028, 771819.30798306]],\n",
      "\n",
      "       [[822256.60188205, 595812.88088028, 771819.30798306],\n",
      "        [822263.81454094, 595908.32662196, 771848.25773172]],\n",
      "\n",
      "       [[822263.81454094, 595908.32662196, 771848.25773172],\n",
      "        [822270.32666811, 596003.92405905, 771876.85167554]],\n",
      "\n",
      "       [[822270.32666811, 596003.92405905, 771876.85167554],\n",
      "        [822275.62601399, 596099.78411574, 771904.82963944]],\n",
      "\n",
      "       [[822275.62601399, 596099.78411574, 771904.82963944],\n",
      "        [822280.03198229, 596195.76704261, 771932.52667291]],\n",
      "\n",
      "       [[822280.03198229, 596195.76704261, 771932.52667291],\n",
      "        [822283.69739611, 596291.85182121, 771959.99083252]],\n",
      "\n",
      "       [[822283.69739611, 596291.85182121, 771959.99083252],\n",
      "        [822286.64051642, 596387.82680267, 771987.91660002]],\n",
      "\n",
      "       [[822286.64051642, 596387.82680267, 771987.91660002],\n",
      "        [822289.30076648, 596483.75878452, 772016.02314603]],\n",
      "\n",
      "       [[822289.30076648, 596483.75878452, 772016.02314603],\n",
      "        [822291.79755162, 596579.1791753 , 772045.82745206]],\n",
      "\n",
      "       [[822291.79755162, 596579.1791753 , 772045.82745206],\n",
      "        [822294.30470788, 596674.48672988, 772075.98974711]],\n",
      "\n",
      "       [[822294.30470788, 596674.48672988, 772075.98974711],\n",
      "        [822297.45043869, 596768.88815759, 772108.82988754]],\n",
      "\n",
      "       [[822297.45043869, 596768.88815759, 772108.82988754],\n",
      "        [822300.90688602, 596863.03358441, 772142.33401547]],\n",
      "\n",
      "       [[822300.90688602, 596863.03358441, 772142.33401547],\n",
      "        [822305.47899371, 596956.25981307, 772178.22226035]],\n",
      "\n",
      "       [[822305.47899371, 596956.25981307, 772178.22226035],\n",
      "        [822310.84174188, 597049.01227027, 772215.17171755]],\n",
      "\n",
      "       [[822310.84174188, 597049.01227027, 772215.17171755],\n",
      "        [822317.38909551, 597141.05488238, 772253.71117416]],\n",
      "\n",
      "       [[822317.38909551, 597141.05488238, 772253.71117416],\n",
      "        [822325.28903185, 597232.51626726, 772293.33700182]],\n",
      "\n",
      "       [[822325.28903185, 597232.51626726, 772293.33700182],\n",
      "        [822334.07783861, 597323.59568975, 772333.67675483]],\n",
      "\n",
      "       [[822334.07783861, 597323.59568975, 772333.67675483],\n",
      "        [822344.6960869 , 597414.22651989, 772374.57381091]],\n",
      "\n",
      "       [[822344.6960869 , 597414.22651989, 772374.57381091],\n",
      "        [822355.8832288 , 597504.77920668, 772415.49654212]],\n",
      "\n",
      "       [[822355.8832288 , 597504.77920668, 772415.49654212],\n",
      "        [822368.6277184 , 597595.38465726, 772455.84787802]],\n",
      "\n",
      "       [[822368.6277184 , 597595.38465726, 772455.84787802],\n",
      "        [822381.88214394, 597686.32129346, 772495.26130551]],\n",
      "\n",
      "       [[822381.88214394, 597686.32129346, 772495.26130551],\n",
      "        [822395.72027527, 597777.63702623, 772533.60114212]],\n",
      "\n",
      "       [[822395.72027527, 597777.63702623, 772533.60114212],\n",
      "        [822409.79931041, 597870.00453599, 772569.22035224]],\n",
      "\n",
      "       [[822409.79931041, 597870.00453599, 772569.22035224],\n",
      "        [822423.77297869, 597962.96280878, 772603.28244991]],\n",
      "\n",
      "       [[822423.77297869, 597962.96280878, 772603.28244991],\n",
      "        [822437.44136077, 598056.85036909, 772634.87835709]],\n",
      "\n",
      "       [[822437.44136077, 598056.85036909, 772634.87835709],\n",
      "        [822450.4073886 , 598151.63846033, 772663.94695806]],\n",
      "\n",
      "       [[822450.4073886 , 598151.63846033, 772663.94695806],\n",
      "        [822462.92723243, 598246.8562616 , 772691.79680841]],\n",
      "\n",
      "       [[822462.92723243, 598246.8562616 , 772691.79680841],\n",
      "        [822474.62233981, 598342.66728211, 772717.94012139]],\n",
      "\n",
      "       [[822474.62233981, 598342.66728211, 772717.94012139],\n",
      "        [822485.55867092, 598438.77813683, 772743.28492113]],\n",
      "\n",
      "       [[822485.55867092, 598438.77813683, 772743.28492113],\n",
      "        [822496.06335494, 598535.05955905, 772768.17546852]],\n",
      "\n",
      "       [[822496.06335494, 598535.05955905, 772768.17546852],\n",
      "        [822505.17264339, 598631.67736659, 772792.2991606 ]],\n",
      "\n",
      "       [[822505.17264339, 598631.67736659, 772792.2991606 ],\n",
      "        [822513.78706986, 598728.40072502, 772816.16440041]],\n",
      "\n",
      "       [[822513.78706986, 598728.40072502, 772816.16440041],\n",
      "        [822521.02075199, 598825.41561258, 772839.31143986]],\n",
      "\n",
      "       [[822521.02075199, 598825.41561258, 772839.31143986],\n",
      "        [822527.16295498, 598922.67719737, 772861.68200003]],\n",
      "\n",
      "       [[822527.16295498, 598922.67719737, 772861.68200003],\n",
      "        [822532.11930663, 599020.2068095 , 772883.20894447]],\n",
      "\n",
      "       [[822532.11930663, 599020.2068095 , 772883.20894447],\n",
      "        [822535.36559153, 599118.16093613, 772903.00065798]],\n",
      "\n",
      "       [[822535.36559153, 599118.16093613, 772903.00065798],\n",
      "        [822537.84604301, 599216.30517664, 772922.01526859]],\n",
      "\n",
      "       [[822537.84604301, 599216.30517664, 772922.01526859],\n",
      "        [822538.37706922, 599315.0073289 , 772938.02364766]],\n",
      "\n",
      "       [[822538.37706922, 599315.0073289 , 772938.02364766],\n",
      "        [822538.54310725, 599413.84047151, 772953.19292094]],\n",
      "\n",
      "       [[822538.54310725, 599413.84047151, 772953.19292094],\n",
      "        [822537.72529373, 599513.11143413, 772965.21819274]],\n",
      "\n",
      "       [[822537.72529373, 599513.11143413, 772965.21819274],\n",
      "        [822537.0510313 , 599612.52575794, 772975.87366636]],\n",
      "\n",
      "       [[822537.0510313 , 599612.52575794, 772975.87366636],\n",
      "        [822536.58627222, 599712.14930795, 772984.53000979]],\n",
      "\n",
      "       [[822536.58627222, 599712.14930795, 772984.53000979],\n",
      "        [822537.44090095, 599811.88883794, 772991.5514075 ]],\n",
      "\n",
      "       [[822537.44090095, 599811.88883794, 772991.5514075 ],\n",
      "        [822538.89028671, 599911.68064967, 772997.83580016]],\n",
      "\n",
      "       [[822538.89028671, 599911.68064967, 772997.83580016],\n",
      "        [822543.3015317 , 600011.43868318, 773003.19888019]],\n",
      "\n",
      "       [[822543.3015317 , 600011.43868318, 773003.19888019],\n",
      "        [822548.72019671, 600111.12766903, 773008.71846276]],\n",
      "\n",
      "       [[822548.72019671, 600111.12766903, 773008.71846276],\n",
      "        [822556.40307215, 600210.65684009, 773014.62756875]],\n",
      "\n",
      "       [[822556.40307215, 600210.65684009, 773014.62756875],\n",
      "        [822565.70785073, 600309.96594551, 773021.61479067]],\n",
      "\n",
      "       [[822565.70785073, 600309.96594551, 773021.61479067],\n",
      "        [822575.98433812, 600409.143206  , 773029.24792955]],\n",
      "\n",
      "       [[822575.98433812, 600409.143206  , 773029.24792955],\n",
      "        [822587.54496801, 600507.97568751, 773039.16012011]],\n",
      "\n",
      "       [[822587.54496801, 600507.97568751, 773039.16012011],\n",
      "        [822599.10584582, 600606.70953103, 773049.95973878]],\n",
      "\n",
      "       [[822599.10584582, 600606.70953103, 773049.95973878],\n",
      "        [822610.57727999, 600705.26786941, 773062.39598155]],\n",
      "\n",
      "       [[822610.57727999, 600705.26786941, 773062.39598155],\n",
      "        [822621.06813259, 600803.72333088, 773076.36734819]],\n",
      "\n",
      "       [[822621.06813259, 600803.72333088, 773076.36734819],\n",
      "        [822630.88625043, 600902.1303143 , 773091.16087796]],\n",
      "\n",
      "       [[822630.88625043, 600902.1303143 , 773091.16087796],\n",
      "        [822639.02871683, 601000.48491274, 773107.28766334]],\n",
      "\n",
      "       [[822639.02871683, 601000.48491274, 773107.28766334],\n",
      "        [822646.06552678, 601098.81876197, 773124.01844037]],\n",
      "\n",
      "       [[822646.06552678, 601098.81876197, 773124.01844037],\n",
      "        [822652.31318342, 601197.13633003, 773141.1804099 ]],\n",
      "\n",
      "       [[822652.31318342, 601197.13633003, 773141.1804099 ],\n",
      "        [822657.70076715, 601295.42191415, 773158.81327403]],\n",
      "\n",
      "       [[822657.70076715, 601295.42191415, 773158.81327403],\n",
      "        [822663.25882525, 601393.67576765, 773176.56863612]],\n",
      "\n",
      "       [[822663.25882525, 601393.67576765, 773176.56863612],\n",
      "        [822668.96825133, 601491.90330583, 773194.42158592]],\n",
      "\n",
      "       [[822668.96825133, 601491.90330583, 773194.42158592],\n",
      "        [822676.1041032 , 601590.01632659, 773212.39141546]],\n",
      "\n",
      "       [[822676.1041032 , 601590.01632659, 773212.39141546],\n",
      "        [822684.1366413 , 601688.04186889, 773230.42866196]],\n",
      "\n",
      "       [[822684.1366413 , 601688.04186889, 773230.42866196],\n",
      "        [822693.40958446, 601785.94640038, 773248.55916776]],\n",
      "\n",
      "       [[822693.40958446, 601785.94640038, 773248.55916776],\n",
      "        [822704.4698837 , 601883.62802714, 773266.86178803]]])])\n"
     ]
    },
    {
     "name": "stdout",
     "output_type": "stream",
     "text": [
      "base_final_widths = [209.29525268 200.41738413]\n",
      "overall_ais_width = 185.14049623365483\n",
      "ais_width = 204.85631840336967\n",
      "Adding the following branches as true axons: [0.]\n",
      "curr_soma_angle = 154.93\n",
      "max_axon_angle = 169.46261638673963\n",
      "Changing to a better axon candidate\n",
      "Using the best axon approach\n",
      "Using True\n",
      "Limb L6: Axon branches before dendritic path filter = [0.]\n",
      "Limb L6: Axon branches AFTER dendritic path filter = [0.]\n",
      "\n",
      "\n",
      "Part 4: final_true_axons = {'L6': array([0.])}\n",
      "\n",
      "--- Working on filter 0:\n",
      "function = dendrite_on_axon_merges\n",
      "function __name__ = filter_away_dendrite_on_axon_merges\n",
      "function arguments = {'use_pre_existing_axon_labels': True}\n",
      "\n",
      "\n",
      "\n",
      "\n",
      "\n",
      " ---- Total time for applying filter: 0.5877244472503662 -----\n",
      "Starting axon branch was the starting node so using border vertices and NOT computing upstream branch\n",
      "upstream_node_to_axon_starting_branch = None\n"
     ]
    },
    {
     "name": "stderr",
     "output_type": "stream",
     "text": [
      "\r",
      "  0%|          | 0/1 [00:00<?, ?it/s]"
     ]
    },
    {
     "name": "stdout",
     "output_type": "stream",
     "text": [
      "root_curr = [821852.1 582126.9 769179.8]\n",
      "Time for preparing soma vertices and root: 0.00038051605224609375\n",
      "invalidation_d = 2000\n",
      "cc_vertex_thresh = 10\n"
     ]
    },
    {
     "data": {
      "application/vnd.jupyter.widget-view+json": {
       "model_id": "d28fccee46f44140aaa3864cc25bdf5d",
       "version_major": 2,
       "version_minor": 0
      },
      "text/plain": [
       "  0%|          | 0/2527 [00:00<?, ?it/s]"
      ]
     },
     "metadata": {},
     "output_type": "display_data"
    },
    {
     "name": "stderr",
     "output_type": "stream",
     "text": [
      "100%|██████████| 1/1 [00:00<00:00,  7.31it/s]\n"
     ]
    },
    {
     "name": "stdout",
     "output_type": "stream",
     "text": [
      "meshparty_segment_size = 100\n",
      "Time for 1st pass MP skeletonization: 0.4821479320526123\n",
      "branches_touching_root = [0]\n",
      "combining close nodes\n",
      "combine_threshold = 1300\n",
      "length of Graph = 433\n",
      "After combining close endpoints max(kept_branches_idx) = 0, len(kept_branches_idx) = 1\n",
      "empty_indices % = 0.0\n",
      " conflict_indices % = 0.0\n"
     ]
    },
    {
     "data": {
      "application/vnd.jupyter.widget-view+json": {
       "model_id": "c15cafd0de5a4bccb968ac33d552b24f",
       "version_major": 2,
       "version_minor": 0
      },
      "text/plain": [
       "0it [00:00, ?it/s]"
      ]
     },
     "metadata": {},
     "output_type": "display_data"
    },
    {
     "name": "stdout",
     "output_type": "stream",
     "text": [
      "AFTER face_lookup_resolved_test\n"
     ]
    },
    {
     "data": {
      "application/vnd.jupyter.widget-view+json": {
       "model_id": "d9afcda16e9a4517a1c7a25ab1cafc14",
       "version_major": 2,
       "version_minor": 0
      },
      "text/plain": [
       "  0%|          | 0/1 [00:00<?, ?it/s]"
      ]
     },
     "metadata": {},
     "output_type": "display_data"
    },
    {
     "name": "stdout",
     "output_type": "stream",
     "text": [
      "Decomposing first pass: 0.36564207077026367\n",
      "Only Using MeshParty Skeletonization and Mesh Correspondence\n",
      "Another print\n",
      "Divinding into MP and MAP pieces: 0.00021266937255859375\n",
      "Total time for MAP sublimb processing 3.337860107421875e-06\n",
      "---- Working on MP Decomposition #0 ----\n",
      "Using Quicker soma_to_piece_touching_vertices because no MAP and only one sublimb_mesh piece \n",
      "MP filtering soma verts: 0.0003223419189453125\n",
      "Fixing Possible Soma Extension Branch for Sublimb 0\n",
      "Total time for mesh KDTree = 0.1196441650390625\n",
      "sbv[0].reshape(-1,3) = [[821852.1 582126.9 769179.8]]\n",
      "closest_sk_pt_coord BEFORE = [821650.38532575 582522.37234231 769292.22223404]\n",
      "current_skeleton.shape = (432, 2, 3)\n",
      "node_for_stitch = 65: [821650.38532575 582522.37234231 769292.22223404]\n",
      "node_for_stitch AFTER = 65: [821650.38532575 582522.37234231 769292.22223404]\n",
      "possible_node_loc = [ 65 408]\n",
      "possible_node_loc AFTER = [ 65 408]\n",
      "curr_shortest_path = [65]\n",
      "Current stitch point was a branch or endpoint\n",
      "change_status for create soma extending pieces = False\n",
      "closest_sk_pt_coord AFTER = [821650.38532575 582522.37234231 769292.22223404]\n",
      "skipping soma 0 because closest skeleton node was already end node\n",
      "endpoints_must_keep = {0: array([[821650.38532575, 582522.37234231, 769292.22223404]])}\n",
      "match_sk_branches = [0]\n",
      "The new branch info was none so skipping \n",
      "\n",
      "No soma extending branch was added for this sublimb even though it had a soma border (means they already existed)\n",
      "MP (because soma touching verts) soma extension add: 0.5223503112792969\n",
      "There were not both MAP and MP pieces so skipping the stitch resolving phase\n",
      "Time for decomp of Limb = 1.395918607711792\n",
      "Number of matching vertices = 21\n",
      "Only one endpoint after filtering away the endpoints that are not on the skeleton\n",
      "Using Distance measure skeletal_distance\n",
      "endpoints_must_keep = [[821650.38532575 582522.37234231 769292.22223404]]\n",
      "Number of end_nodes BEFORE filtering = 2\n",
      "all_single_nodes_to_eliminate = [0]\n",
      "no small end nodes to get rid of so returning whole skeleton\n",
      "Removed 0 skeletal branches\n"
     ]
    },
    {
     "data": {
      "application/vnd.jupyter.widget-view+json": {
       "model_id": "ac575d209239442b9dcdedd96ec0cfe6",
       "version_major": 2,
       "version_minor": 0
      },
      "text/plain": [
       "  0%|          | 0/1 [00:00<?, ?it/s]"
      ]
     },
     "metadata": {},
     "output_type": "display_data"
    },
    {
     "name": "stdout",
     "output_type": "stream",
     "text": [
      "5036 5037\n",
      "For marked faces: None\n",
      "empty_indices % = 0.0\n",
      " conflict_indices % = 0.0\n"
     ]
    },
    {
     "data": {
      "application/vnd.jupyter.widget-view+json": {
       "model_id": "a3691775a5de4b2386d0c277cbdb0d99",
       "version_major": 2,
       "version_minor": 0
      },
      "text/plain": [
       "0it [00:00, ?it/s]"
      ]
     },
     "metadata": {},
     "output_type": "display_data"
    },
    {
     "name": "stdout",
     "output_type": "stream",
     "text": [
      "AFTER face_lookup_resolved_test\n"
     ]
    },
    {
     "data": {
      "application/vnd.jupyter.widget-view+json": {
       "model_id": "fda0caa9cdd64be4957a04df2d602f59",
       "version_major": 2,
       "version_minor": 0
      },
      "text/plain": [
       "  0%|          | 0/1 [00:00<?, ?it/s]"
      ]
     },
     "metadata": {},
     "output_type": "display_data"
    },
    {
     "name": "stdout",
     "output_type": "stream",
     "text": [
      "Limb Correspondence before stitching = 1\n",
      "Limb Correspondence AFTER stitching = 1\n",
      "Upstream node was None so don't have to adjust\n",
      "concept_network_dict = {0: [<networkx_utils.GraphOrderedEdges object at 0x7f3cd0bd6b00>]}\n",
      "\n",
      "\n",
      "----Working on seperate_graph 0----\n",
      "\n",
      "\n",
      "---------Working on soma_idx = 0, soma_group_idx 0, endpt = [821650.38532575 582522.37234231 769292.22223404]---------\n",
      "Starting_edge inside branches_to_conept = [[821650.38532575 582522.37234231 769292.22223404]\n",
      " [827379.12499512 622930.35292711 780052.93679622]]\n",
      "Done generating concept network \n",
      "\n",
      "\n",
      "Synapsse Results:\n",
      "Total Number of Synapses = 3329\n",
      "n_valid_syn_ids_presyn = 0\n",
      "n_errored_syn_ids_presyn = 230\n",
      "n_valid_syn_ids_postsyn = 3021\n",
      "n_errored_syn_ids_postsyn = 78\n",
      "Synapsse Results:\n",
      "Total Number of Synapses = 3329\n",
      "n_valid_syn_ids_presyn = 0\n",
      "n_errored_syn_ids_presyn = 230\n",
      "n_valid_syn_ids_postsyn = 3021\n",
      "n_errored_syn_ids_postsyn = 78\n"
     ]
    },
    {
     "data": {
      "application/vnd.jupyter.widget-view+json": {
       "model_id": "cb6ac66d8c3c4fb29a69364f12f0d350",
       "version_major": 2,
       "version_minor": 0
      },
      "text/plain": [
       "0it [00:00, ?it/s]"
      ]
     },
     "metadata": {},
     "output_type": "display_data"
    },
    {
     "data": {
      "application/vnd.jupyter.widget-view+json": {
       "model_id": "a72fa0d5331b4442ac498a76747bea76",
       "version_major": 2,
       "version_minor": 0
      },
      "text/plain": [
       "0it [00:00, ?it/s]"
      ]
     },
     "metadata": {},
     "output_type": "display_data"
    },
    {
     "name": "stdout",
     "output_type": "stream",
     "text": [
      "Synapsse Results:\n",
      "Total Number of Synapses = 3329\n",
      "n_valid_syn_ids_presyn = 0\n",
      "n_errored_syn_ids_presyn = 230\n",
      "n_valid_syn_ids_postsyn = 3021\n",
      "n_errored_syn_ids_postsyn = 78\n",
      "Synapsse Results:\n",
      "Total Number of Synapses = 3329\n",
      "n_valid_syn_ids_presyn = 0\n",
      "n_errored_syn_ids_presyn = 230\n",
      "n_valid_syn_ids_postsyn = 3021\n",
      "n_errored_syn_ids_postsyn = 78\n"
     ]
    },
    {
     "data": {
      "application/vnd.jupyter.widget-view+json": {
       "model_id": "1ecf46b961134ef4b161066d4c089364",
       "version_major": 2,
       "version_minor": 0
      },
      "text/plain": [
       "0it [00:00, ?it/s]"
      ]
     },
     "metadata": {},
     "output_type": "display_data"
    },
    {
     "data": {
      "application/vnd.jupyter.widget-view+json": {
       "model_id": "f272054d0a4f4d0fb1bafdd9d59f4c0e",
       "version_major": 2,
       "version_minor": 0
      },
      "text/plain": [
       "0it [00:00, ?it/s]"
      ]
     },
     "metadata": {},
     "output_type": "display_data"
    },
    {
     "name": "stdout",
     "output_type": "stream",
     "text": [
      "\n",
      "\n",
      "len(branch_attr_keys) = 0\n",
      "Saving Neuorn in suppress_output mode...please wait\n",
      "Saved File at location: /mnt/dj-stor01/platinum/minnie65/02/decomposition/864691136311740477_0_25_full_axon\n",
      "Save time = 263.44143080711365\n",
      "\n",
      "\n",
      " ***------ Total time for 864691136311740477 = 400.63463735580444 ------ ***\n",
      "\n",
      "\n",
      "\n",
      "---- Working on Neuron 864691136535575714 ----\n",
      "Decompressing Neuron in minimal output mode...please wait\n",
      "Dont need spine recalculation\n",
      "Number of Neurons found = 1\n",
      "\n",
      "Part 1: Axon like branchese \n",
      "{'L0': array([11, 16, 18, 19, 20, 21, 24, 25, 26, 27, 28, 29, 30, 31, 32, 33]), 'L1': array([0, 1]), 'L2': array([10, 13]), 'L7': array([0]), 'L8': array([36, 41])}\n",
      "Limb L0 soma angle: 134.41 \n",
      "Limb L1 soma angle: 87.11 \n",
      "Limb L2 soma angle: 85.53 \n",
      "Limb L3 soma angle: 101.21 \n",
      "Limb L4 soma angle: 118.52 \n",
      "Limb L5 soma angle: 130.23 \n",
      "Limb L6 soma angle: 103.95 \n",
      "Limb L7 soma angle: 161.24 \n",
      "Limb L8 soma angle: 16.53 \n",
      "\n",
      "Part 2: possible_axon_limbs = [0, 1, 2, 3, 4, 5, 6, 7]\n",
      "\n",
      "Phase 2: Working on Limb L0\n",
      "nodes_to_eliminate = [5]\n",
      "\n",
      "Phase 2: Working on Limb L1\n",
      "nodes_to_eliminate = [17 19 20]\n",
      "\n",
      "Phase 2: Working on Limb L2\n",
      "nodes_to_eliminate = [1]\n",
      "\n",
      "Phase 2: Working on Limb L3\n",
      "nodes_to_eliminate = [13]\n",
      "\n",
      "Phase 2: Working on Limb L4\n",
      "nodes_to_eliminate = [2]\n",
      "\n",
      "Phase 2: Working on Limb L5\n",
      "nodes_to_eliminate = [0]\n",
      "\n",
      "Phase 2: Working on Limb L6\n",
      "nodes_to_eliminate = []\n",
      "\n",
      "Phase 2: Working on Limb L7\n",
      "nodes_to_eliminate = []\n",
      "\n",
      "----Working on Limb L0-----\n",
      "No endpoints were eliminated so don't need to add back any candidates\n",
      "\n",
      "----Working on Limb L1-----\n",
      "No endpoints were eliminated so don't need to add back any candidates\n",
      "\n",
      "----Working on Limb L2-----\n",
      "No endpoints were eliminated so don't need to add back any candidates\n",
      "\n",
      "----Working on Limb L3-----\n",
      "No endpoints were eliminated so don't need to add back any candidates\n",
      "\n",
      "----Working on Limb L4-----\n",
      "No endpoints were eliminated so don't need to add back any candidates\n",
      "\n",
      "----Working on Limb L5-----\n",
      "No endpoints were eliminated so don't need to add back any candidates\n",
      "\n",
      "----Working on Limb L6-----\n",
      "No nodes were eliminated so don't need to add back any candidates\n",
      "\n",
      "----Working on Limb L7-----\n",
      "No nodes were eliminated so don't need to add back any candidates\n",
      "Final Candidates\n",
      "\n",
      "Limb 0\n",
      "Candidate 0 (pink): array([ 0,  1,  2,  3,  4,  7, 11])\n",
      "Candidate 1 (red): array([ 6,  8,  9, 10, 12, 13, 14, 15, 16, 17, 18, 19, 20, 21, 22, 23, 24,\n",
      "       25, 26, 27, 28, 29, 30, 31, 32, 33])\n",
      "\n",
      "Limb 1\n",
      "Candidate 0 (palegreen): array([ 9, 13, 14])\n",
      "Candidate 1 (magenta): array([ 0,  1,  2,  3,  4, 10, 12, 15, 16])\n",
      "Candidate 2 (sandybrown): array([5])\n",
      "Candidate 3 (gold): array([ 6,  7,  8, 11, 18])\n",
      "\n",
      "Limb 2\n",
      "Candidate 0 (darkslategray): array([ 0,  2,  4,  5,  6,  7,  8,  9, 10, 11, 12, 13, 14, 15, 16])\n",
      "Candidate 1 (orange): array([3])\n",
      "\n",
      "Limb 3\n",
      "Candidate 0 (green): array([ 0,  1,  2,  3,  6,  7,  8,  9, 10])\n",
      "Candidate 1 (gray): array([ 4,  5, 11, 12, 14])\n",
      "\n",
      "Limb 4\n",
      "Candidate 0 (tan): array([0, 1, 4])\n",
      "Candidate 1 (brown): array([3])\n",
      "\n",
      "Limb 5\n",
      "Candidate 0 (green): array([1])\n",
      "Candidate 1 (magenta): array([2])\n",
      "\n",
      "Limb 6\n",
      "Candidate 0 (gray): array([0, 1, 2])\n",
      "\n",
      "Limb 7\n",
      "Candidate 0 (gold): array([0])\n",
      "Part 3: axon_subgraph_candidates = {0: [[0, 1, 2, 3, 4, 7, 11], [6, 8, 9, 10, 12, 13, 14, 15, 16, 17, 18, 19, 20, 21, 22, 23, 24, 25, 26, 27, 28, 29, 30, 31, 32, 33]], 1: [[9, 13, 14], [0, 1, 2, 3, 4, 10, 12, 15, 16], [5], [6, 7, 8, 11, 18]], 2: [[0, 2, 4, 5, 6, 7, 8, 9, 10, 11, 12, 13, 14, 15, 16], [3]], 3: [[0, 1, 2, 3, 6, 7, 8, 9, 10], [4, 5, 11, 12, 14]], 4: [[0, 1, 4], [3]], 5: [[1], [2]], 6: [[0, 1, 2]], 7: [[0]]}\n",
      "\n",
      "\n",
      " --- Working on limb 0, candidate # 0\n",
      "1 out of 7 branches are axons\n",
      "Axon percentage = 0.14285714285714285\n",
      "curr_axon_angle_threshold = 120\n",
      "candidate_nodes = [ 0  1  2  3  4  5  7 11]\n",
      "non_axon_branches_on_subgraph = [0 1 2 3 4 5 7]\n",
      "endnodes_to_test = []\n",
      "candidate_angles,restr_skels = (None, None)\n",
      "Not adding candidate because no angles (None) passed the threhold 120 \n",
      "\n",
      "\n",
      " --- Working on limb 0, candidate # 1\n",
      "15 out of 26 branches are axons\n",
      "Axon percentage = 0.5769230769230769\n",
      "curr_axon_angle_threshold = 120\n",
      "candidate_nodes = [ 5  6  8  9 10 12 13 14 15 16 17 18 19 20 21 22 23 24 25 26 27 28 29 30\n",
      " 31 32 33]\n",
      "non_axon_branches_on_subgraph = [ 5  6  8  9 10 12 13 14 15 17 22 23]\n",
      "endnodes_to_test = []\n",
      "candidate_angles,restr_skels = (None, None)\n",
      "Not adding candidate because no angles (None) passed the threhold 120 \n",
      "\n",
      "\n",
      " --- Working on limb 1, candidate # 0\n",
      "0 out of 3 branches are axons\n",
      "Axon percentage = 0.0\n",
      "Not adding candidate no axon branches detected \n",
      "\n",
      "\n",
      " --- Working on limb 1, candidate # 1\n",
      "2 out of 9 branches are axons\n",
      "Axon percentage = 0.2222222222222222\n",
      "curr_axon_angle_threshold = 120\n",
      "candidate_nodes = [ 0  1  2  3  4 10 12 15 16 17 20]\n",
      "non_axon_branches_on_subgraph = [ 2  3  4 10 12 15 16 17 20]\n",
      "endnodes_to_test = []\n",
      "candidate_angles,restr_skels = (None, None)\n",
      "Not adding candidate because no angles (None) passed the threhold 120 \n",
      "\n",
      "\n",
      " --- Working on limb 1, candidate # 2\n",
      "0 out of 1 branches are axons\n",
      "Axon percentage = 0.0\n",
      "Not adding candidate no axon branches detected \n",
      "\n",
      "\n",
      " --- Working on limb 1, candidate # 3\n",
      "0 out of 5 branches are axons\n",
      "Axon percentage = 0.0\n",
      "Not adding candidate no axon branches detected \n",
      "\n",
      "\n",
      " --- Working on limb 2, candidate # 0\n",
      "2 out of 15 branches are axons\n",
      "Axon percentage = 0.13333333333333333\n",
      "curr_axon_angle_threshold = 120\n",
      "candidate_nodes = [ 0  1  2  4  5  6  7  8  9 10 11 12 13 14 15 16]\n",
      "non_axon_branches_on_subgraph = [ 0  1  2  4  5  6  7  8  9 11 12 14 15 16]\n",
      "endnodes_to_test = []\n",
      "candidate_angles,restr_skels = (None, None)\n",
      "Not adding candidate because no angles (None) passed the threhold 120 \n",
      "\n",
      "\n",
      " --- Working on limb 2, candidate # 1\n",
      "0 out of 1 branches are axons\n",
      "Axon percentage = 0.0\n",
      "Not adding candidate no axon branches detected \n",
      "\n",
      "\n",
      " --- Working on limb 3, candidate # 0\n",
      "0 out of 9 branches are axons\n",
      "Axon percentage = 0.0\n",
      "Not adding candidate no axon branches detected \n",
      "\n",
      "\n",
      " --- Working on limb 3, candidate # 1\n",
      "0 out of 5 branches are axons\n",
      "Axon percentage = 0.0\n",
      "Not adding candidate no axon branches detected \n",
      "\n",
      "\n",
      " --- Working on limb 4, candidate # 0\n",
      "0 out of 3 branches are axons\n",
      "Axon percentage = 0.0\n",
      "Not adding candidate no axon branches detected \n",
      "\n",
      "\n",
      " --- Working on limb 4, candidate # 1\n",
      "0 out of 1 branches are axons\n",
      "Axon percentage = 0.0\n",
      "Not adding candidate no axon branches detected \n",
      "\n",
      "\n",
      " --- Working on limb 5, candidate # 0\n",
      "0 out of 1 branches are axons\n",
      "Axon percentage = 0.0\n",
      "Not adding candidate no axon branches detected \n",
      "\n",
      "\n",
      " --- Working on limb 5, candidate # 1\n",
      "0 out of 1 branches are axons\n",
      "Axon percentage = 0.0\n",
      "Not adding candidate no axon branches detected \n",
      "\n",
      "\n",
      " --- Working on limb 6, candidate # 0\n",
      "0 out of 3 branches are axons\n",
      "Axon percentage = 0.0\n",
      "Not adding candidate no axon branches detected \n",
      "\n",
      "\n",
      " --- Working on limb 7, candidate # 0\n",
      "1 out of 1 branches are axons\n",
      "Axon percentage = 1.0\n",
      "curr_axon_angle_threshold = 95\n",
      "candidate_nodes = [0]\n",
      "non_axon_branches_on_subgraph = []\n",
      "endnodes_to_test = [40]\n",
      "Skeleton paths distances = [24898.61992481]\n",
      "Filtered indexes = [0]\n",
      "len(filtered_skeletons) = 1\n",
      "sk_angles = [163.17280177]\n",
      "candidate_angles,restr_skels = (array([163.17280177]), [array([[[1328080.,  493951.,  705609.],\n",
      "        [1327970.,  494015.,  705622.]],\n",
      "\n",
      "       [[1327970.,  494015.,  705622.],\n",
      "        [1327910.,  494056.,  705630.]],\n",
      "\n",
      "       [[1327910.,  494056.,  705630.],\n",
      "        [1327780.,  494135.,  705646.]],\n",
      "\n",
      "       [[1327780.,  494135.,  705646.],\n",
      "        [1327660.,  494212.,  705660.]],\n",
      "\n",
      "       [[1327660.,  494212.,  705660.],\n",
      "        [1327560.,  494285.,  705673.]],\n",
      "\n",
      "       [[1327560.,  494285.,  705673.],\n",
      "        [1327420.,  494389.,  705695.]],\n",
      "\n",
      "       [[1327420.,  494389.,  705695.],\n",
      "        [1327330.,  494468.,  705712.]],\n",
      "\n",
      "       [[1327330.,  494468.,  705712.],\n",
      "        [1327260.,  494537.,  705729.]],\n",
      "\n",
      "       [[1327260.,  494537.,  705729.],\n",
      "        [1327180.,  494633.,  705754.]],\n",
      "\n",
      "       [[1327180.,  494633.,  705754.],\n",
      "        [1327090.,  494751.,  705788.]],\n",
      "\n",
      "       [[1327090.,  494751.,  705788.],\n",
      "        [1327020.,  494844.,  705815.]],\n",
      "\n",
      "       [[1327020.,  494844.,  705815.],\n",
      "        [1326970.,  494922.,  705839.]],\n",
      "\n",
      "       [[1326970.,  494922.,  705839.],\n",
      "        [1326950.,  494955.,  705849.]],\n",
      "\n",
      "       [[1326950.,  494955.,  705849.],\n",
      "        [1326940.,  494984.,  705858.]],\n",
      "\n",
      "       [[1326940.,  494984.,  705858.],\n",
      "        [1326860.,  495117.,  705900.]],\n",
      "\n",
      "       [[1326860.,  495117.,  705900.],\n",
      "        [1326810.,  495243.,  705939.]],\n",
      "\n",
      "       [[1326810.,  495243.,  705939.],\n",
      "        [1326750.,  495379.,  705981.]],\n",
      "\n",
      "       [[1326750.,  495379.,  705981.],\n",
      "        [1326690.,  495557.,  706033.]],\n",
      "\n",
      "       [[1326690.,  495557.,  706033.],\n",
      "        [1326690.,  495659.,  706059.]],\n",
      "\n",
      "       [[1326690.,  495659.,  706059.],\n",
      "        [1326690.,  495731.,  706083.]],\n",
      "\n",
      "       [[1326690.,  495731.,  706083.],\n",
      "        [1326700.,  495830.,  706116.]],\n",
      "\n",
      "       [[1326700.,  495830.,  706116.],\n",
      "        [1326660.,  495976.,  706158.]],\n",
      "\n",
      "       [[1326660.,  495976.,  706158.],\n",
      "        [1326640.,  496083.,  706188.]],\n",
      "\n",
      "       [[1326640.,  496083.,  706188.],\n",
      "        [1326610.,  496222.,  706228.]],\n",
      "\n",
      "       [[1326610.,  496222.,  706228.],\n",
      "        [1326590.,  496314.,  706254.]],\n",
      "\n",
      "       [[1326590.,  496314.,  706254.],\n",
      "        [1326580.,  496393.,  706276.]],\n",
      "\n",
      "       [[1326580.,  496393.,  706276.],\n",
      "        [1326560.,  496469.,  706299.]],\n",
      "\n",
      "       [[1326560.,  496469.,  706299.],\n",
      "        [1326550.,  496578.,  706331.]],\n",
      "\n",
      "       [[1326550.,  496578.,  706331.],\n",
      "        [1326510.,  496780.,  706394.]],\n",
      "\n",
      "       [[1326510.,  496780.,  706394.],\n",
      "        [1326490.,  496880.,  706428.]],\n",
      "\n",
      "       [[1326490.,  496880.,  706428.],\n",
      "        [1326480.,  496954.,  706455.]],\n",
      "\n",
      "       [[1326480.,  496954.,  706455.],\n",
      "        [1326460.,  497052.,  706492.]],\n",
      "\n",
      "       [[1326460.,  497052.,  706492.],\n",
      "        [1326430.,  497177.,  706540.]],\n",
      "\n",
      "       [[1326430.,  497177.,  706540.],\n",
      "        [1326410.,  497247.,  706567.]],\n",
      "\n",
      "       [[1326410.,  497247.,  706567.],\n",
      "        [1326390.,  497355.,  706607.]],\n",
      "\n",
      "       [[1326390.,  497355.,  706607.],\n",
      "        [1326350.,  497504.,  706661.]],\n",
      "\n",
      "       [[1326350.,  497504.,  706661.],\n",
      "        [1326320.,  497610.,  706689.]],\n",
      "\n",
      "       [[1326320.,  497610.,  706689.],\n",
      "        [1326290.,  497711.,  706710.]],\n",
      "\n",
      "       [[1326290.,  497711.,  706710.],\n",
      "        [1326260.,  497817.,  706726.]],\n",
      "\n",
      "       [[1326260.,  497817.,  706726.],\n",
      "        [1326230.,  497901.,  706736.]],\n",
      "\n",
      "       [[1326230.,  497901.,  706736.],\n",
      "        [1326180.,  498032.,  706733.]],\n",
      "\n",
      "       [[1326180.,  498032.,  706733.],\n",
      "        [1326130.,  498176.,  706719.]],\n",
      "\n",
      "       [[1326130.,  498176.,  706719.],\n",
      "        [1326080.,  498309.,  706696.]],\n",
      "\n",
      "       [[1326080.,  498309.,  706696.],\n",
      "        [1326030.,  498422.,  706663.]],\n",
      "\n",
      "       [[1326030.,  498422.,  706663.],\n",
      "        [1325990.,  498513.,  706622.]],\n",
      "\n",
      "       [[1325990.,  498513.,  706622.],\n",
      "        [1325900.,  498674.,  706504.]],\n",
      "\n",
      "       [[1325900.,  498674.,  706504.],\n",
      "        [1325810.,  498803.,  706375.]],\n",
      "\n",
      "       [[1325810.,  498803.,  706375.],\n",
      "        [1325740.,  498891.,  706280.]],\n",
      "\n",
      "       [[1325740.,  498891.,  706280.],\n",
      "        [1325690.,  498959.,  706204.]],\n",
      "\n",
      "       [[1325690.,  498959.,  706204.],\n",
      "        [1325650.,  499009.,  706150.]],\n",
      "\n",
      "       [[1325650.,  499009.,  706150.],\n",
      "        [1325610.,  499074.,  706092.]],\n",
      "\n",
      "       [[1325610.,  499074.,  706092.],\n",
      "        [1325520.,  499207.,  705989.]],\n",
      "\n",
      "       [[1325520.,  499207.,  705989.],\n",
      "        [1325470.,  499311.,  705941.]],\n",
      "\n",
      "       [[1325470.,  499311.,  705941.],\n",
      "        [1325420.,  499423.,  705902.]],\n",
      "\n",
      "       [[1325420.,  499423.,  705902.],\n",
      "        [1325360.,  499628.,  705861.]],\n",
      "\n",
      "       [[1325360.,  499628.,  705861.],\n",
      "        [1325330.,  499748.,  705841.]],\n",
      "\n",
      "       [[1325330.,  499748.,  705841.],\n",
      "        [1325320.,  499933.,  705833.]],\n",
      "\n",
      "       [[1325320.,  499933.,  705833.],\n",
      "        [1325320.,  499966.,  705832.]],\n",
      "\n",
      "       [[1325320.,  499966.,  705832.],\n",
      "        [1325310.,  500144.,  705831.]],\n",
      "\n",
      "       [[1325310.,  500144.,  705831.],\n",
      "        [1325320.,  500266.,  705833.]],\n",
      "\n",
      "       [[1325320.,  500266.,  705833.],\n",
      "        [1325340.,  500406.,  705838.]],\n",
      "\n",
      "       [[1325340.,  500406.,  705838.],\n",
      "        [1325370.,  500516.,  705842.]],\n",
      "\n",
      "       [[1325370.,  500516.,  705842.],\n",
      "        [1325390.,  500597.,  705845.]],\n",
      "\n",
      "       [[1325390.,  500597.,  705845.],\n",
      "        [1325430.,  500740.,  705849.]],\n",
      "\n",
      "       [[1325430.,  500740.,  705849.],\n",
      "        [1325480.,  500868.,  705851.]],\n",
      "\n",
      "       [[1325480.,  500868.,  705851.],\n",
      "        [1325510.,  500978.,  705853.]],\n",
      "\n",
      "       [[1325510.,  500978.,  705853.],\n",
      "        [1325550.,  501096.,  705854.]],\n",
      "\n",
      "       [[1325550.,  501096.,  705854.],\n",
      "        [1325590.,  501266.,  705854.]],\n",
      "\n",
      "       [[1325590.,  501266.,  705854.],\n",
      "        [1325610.,  501434.,  705850.]],\n",
      "\n",
      "       [[1325610.,  501434.,  705850.],\n",
      "        [1325620.,  501603.,  705842.]],\n",
      "\n",
      "       [[1325620.,  501603.,  705842.],\n",
      "        [1325620.,  501748.,  705832.]],\n",
      "\n",
      "       [[1325620.,  501748.,  705832.],\n",
      "        [1325610.,  501877.,  705816.]],\n",
      "\n",
      "       [[1325610.,  501877.,  705816.],\n",
      "        [1325590.,  502061.,  705787.]],\n",
      "\n",
      "       [[1325590.,  502061.,  705787.],\n",
      "        [1325550.,  502238.,  705746.]],\n",
      "\n",
      "       [[1325550.,  502238.,  705746.],\n",
      "        [1325520.,  502393.,  705696.]],\n",
      "\n",
      "       [[1325520.,  502393.,  705696.],\n",
      "        [1325480.,  502526.,  705645.]],\n",
      "\n",
      "       [[1325480.,  502526.,  705645.],\n",
      "        [1325460.,  502614.,  705606.]]])])\n",
      "base_final_widths = [ 62.40550669 449.30933764 411.52664171]\n",
      "overall_ais_width = 292.9416137011443\n",
      "ais_width = 307.7471620139688\n",
      "Adding the following branches as true axons: [0.]\n",
      "curr_soma_angle = 161.24\n",
      "max_axon_angle = 163.1728017729266\n",
      "Changing to a better axon candidate\n",
      "Using the best axon approach\n",
      "Using True\n",
      "Limb L7: Axon branches before dendritic path filter = [0.]\n",
      "Limb L7: Axon branches AFTER dendritic path filter = [0.]\n",
      "\n",
      "\n",
      "Part 4: final_true_axons = {'L7': array([0.])}\n"
     ]
    },
    {
     "name": "stdout",
     "output_type": "stream",
     "text": [
      "\n",
      "--- Working on filter 0:\n",
      "function = dendrite_on_axon_merges\n",
      "function __name__ = filter_away_dendrite_on_axon_merges\n",
      "function arguments = {'use_pre_existing_axon_labels': True}\n",
      "\n",
      "\n",
      "\n",
      "\n",
      "\n",
      " ---- Total time for applying filter: 1.0710113048553467 -----\n",
      "Starting axon branch was the starting node so using border vertices and NOT computing upstream branch\n",
      "upstream_node_to_axon_starting_branch = None\n"
     ]
    },
    {
     "name": "stderr",
     "output_type": "stream",
     "text": [
      "\r",
      "  0%|          | 0/1 [00:00<?, ?it/s]"
     ]
    },
    {
     "name": "stdout",
     "output_type": "stream",
     "text": [
      "root_curr = [1331450.   485197.3  704029.2]\n",
      "Time for preparing soma vertices and root: 0.00040841102600097656\n",
      "invalidation_d = 2000\n",
      "cc_vertex_thresh = 10\n"
     ]
    },
    {
     "data": {
      "application/vnd.jupyter.widget-view+json": {
       "model_id": "e94672ede0294bccb85e8833ea0b8c3c",
       "version_major": 2,
       "version_minor": 0
      },
      "text/plain": [
       "  0%|          | 0/2885 [00:00<?, ?it/s]"
      ]
     },
     "metadata": {},
     "output_type": "display_data"
    },
    {
     "name": "stderr",
     "output_type": "stream",
     "text": [
      "100%|██████████| 1/1 [00:00<00:00,  8.64it/s]\n"
     ]
    },
    {
     "name": "stdout",
     "output_type": "stream",
     "text": [
      "meshparty_segment_size = 100\n",
      "Time for 1st pass MP skeletonization: 0.6032521724700928\n",
      "branches_touching_root = [0]\n",
      "combining close nodes\n",
      "combine_threshold = 1300\n",
      "length of Graph = 360\n",
      "After combining close endpoints max(kept_branches_idx) = 0, len(kept_branches_idx) = 1\n",
      "empty_indices % = 0.0\n",
      " conflict_indices % = 0.0\n"
     ]
    },
    {
     "data": {
      "application/vnd.jupyter.widget-view+json": {
       "model_id": "8c6fefddfe114239beed726a4cb9338f",
       "version_major": 2,
       "version_minor": 0
      },
      "text/plain": [
       "0it [00:00, ?it/s]"
      ]
     },
     "metadata": {},
     "output_type": "display_data"
    },
    {
     "name": "stdout",
     "output_type": "stream",
     "text": [
      "AFTER face_lookup_resolved_test\n"
     ]
    },
    {
     "data": {
      "application/vnd.jupyter.widget-view+json": {
       "model_id": "3e4177ee5f034d1582d99915d71e806e",
       "version_major": 2,
       "version_minor": 0
      },
      "text/plain": [
       "  0%|          | 0/1 [00:00<?, ?it/s]"
      ]
     },
     "metadata": {},
     "output_type": "display_data"
    },
    {
     "name": "stdout",
     "output_type": "stream",
     "text": [
      "Decomposing first pass: 0.4310941696166992\n",
      "Only Using MeshParty Skeletonization and Mesh Correspondence\n",
      "Another print\n",
      "Divinding into MP and MAP pieces: 0.0001862049102783203\n",
      "Total time for MAP sublimb processing 3.337860107421875e-06\n",
      "---- Working on MP Decomposition #0 ----\n",
      "Using Quicker soma_to_piece_touching_vertices because no MAP and only one sublimb_mesh piece \n",
      "MP filtering soma verts: 0.00028204917907714844\n",
      "Fixing Possible Soma Extension Branch for Sublimb 0\n",
      "Total time for mesh KDTree = 0.10145998001098633\n",
      "sbv[0].reshape(-1,3) = [[1331450.   485197.3  704029.2]]\n",
      "closest_sk_pt_coord BEFORE = [1331043.47405573  485584.46118659  704102.71820986]\n",
      "current_skeleton.shape = (359, 2, 3)\n",
      "node_for_stitch = 317: [1331043.47405573  485584.46118659  704102.71820986]\n",
      "node_for_stitch AFTER = 317: [1331043.47405573  485584.46118659  704102.71820986]\n",
      "possible_node_loc = [145 317]\n",
      "possible_node_loc AFTER = [145 317]\n",
      "curr_shortest_path = [317]\n",
      "Current stitch point was a branch or endpoint\n",
      "change_status for create soma extending pieces = False\n",
      "closest_sk_pt_coord AFTER = [1331043.47405573  485584.46118659  704102.71820986]\n",
      "skipping soma 0 because closest skeleton node was already end node\n",
      "endpoints_must_keep = {0: array([[1331043.47405573,  485584.46118659,  704102.71820986]])}\n",
      "match_sk_branches = [0]\n",
      "The new branch info was none so skipping \n",
      "\n",
      "No soma extending branch was added for this sublimb even though it had a soma border (means they already existed)\n",
      "MP (because soma touching verts) soma extension add: 0.5873844623565674\n",
      "There were not both MAP and MP pieces so skipping the stitch resolving phase\n",
      "Time for decomp of Limb = 1.6630032062530518\n",
      "Number of matching vertices = 25\n",
      "Only one endpoint after filtering away the endpoints that are not on the skeleton\n",
      "Using Distance measure skeletal_distance\n",
      "endpoints_must_keep = [[1331043.47405573  485584.46118659  704102.71820986]]\n",
      "Number of end_nodes BEFORE filtering = 2\n",
      "all_single_nodes_to_eliminate = [1]\n",
      "no small end nodes to get rid of so returning whole skeleton\n",
      "Removed 0 skeletal branches\n"
     ]
    },
    {
     "data": {
      "application/vnd.jupyter.widget-view+json": {
       "model_id": "56c04c393fa0424082cc23e7453bf6a7",
       "version_major": 2,
       "version_minor": 0
      },
      "text/plain": [
       "  0%|          | 0/1 [00:00<?, ?it/s]"
      ]
     },
     "metadata": {},
     "output_type": "display_data"
    },
    {
     "name": "stdout",
     "output_type": "stream",
     "text": [
      "5727 5728\n",
      "For marked faces: None\n",
      "empty_indices % = 0.0\n",
      " conflict_indices % = 0.0\n"
     ]
    },
    {
     "data": {
      "application/vnd.jupyter.widget-view+json": {
       "model_id": "dc5cbb4b718f4396b89d01997318f492",
       "version_major": 2,
       "version_minor": 0
      },
      "text/plain": [
       "0it [00:00, ?it/s]"
      ]
     },
     "metadata": {},
     "output_type": "display_data"
    },
    {
     "name": "stdout",
     "output_type": "stream",
     "text": [
      "AFTER face_lookup_resolved_test\n"
     ]
    },
    {
     "data": {
      "application/vnd.jupyter.widget-view+json": {
       "model_id": "4175a4670a2f44709fd0f8c54d556bc7",
       "version_major": 2,
       "version_minor": 0
      },
      "text/plain": [
       "  0%|          | 0/1 [00:00<?, ?it/s]"
      ]
     },
     "metadata": {},
     "output_type": "display_data"
    },
    {
     "name": "stdout",
     "output_type": "stream",
     "text": [
      "Limb Correspondence before stitching = 1\n",
      "Limb Correspondence AFTER stitching = 1\n",
      "Upstream node was None so don't have to adjust\n",
      "concept_network_dict = {0: [<networkx_utils.GraphOrderedEdges object at 0x7f3c6b221be0>]}\n",
      "\n",
      "\n",
      "----Working on seperate_graph 0----\n",
      "\n",
      "\n",
      "---------Working on soma_idx = 0, soma_group_idx 0, endpt = [1331043.47405573  485584.46118659  704102.71820986]---------\n",
      "Starting_edge inside branches_to_conept = [[1325556.54673326  518548.60313051  704664.38663247]\n",
      " [1331043.47405573  485584.46118659  704102.71820986]]\n",
      "Done generating concept network \n",
      "\n",
      "\n",
      "Synapsse Results:\n",
      "Total Number of Synapses = 7152\n",
      "n_valid_syn_ids_presyn = 0\n",
      "n_errored_syn_ids_presyn = 99\n",
      "n_valid_syn_ids_postsyn = 7046\n",
      "n_errored_syn_ids_postsyn = 7\n",
      "Synapsse Results:\n",
      "Total Number of Synapses = 7152\n",
      "n_valid_syn_ids_presyn = 0\n",
      "n_errored_syn_ids_presyn = 99\n",
      "n_valid_syn_ids_postsyn = 7046\n",
      "n_errored_syn_ids_postsyn = 7\n"
     ]
    },
    {
     "data": {
      "application/vnd.jupyter.widget-view+json": {
       "model_id": "febde653d7df449c84c71987cc368353",
       "version_major": 2,
       "version_minor": 0
      },
      "text/plain": [
       "0it [00:00, ?it/s]"
      ]
     },
     "metadata": {},
     "output_type": "display_data"
    },
    {
     "data": {
      "application/vnd.jupyter.widget-view+json": {
       "model_id": "fcf8903cd07248e59b4f0e76077f87b7",
       "version_major": 2,
       "version_minor": 0
      },
      "text/plain": [
       "0it [00:00, ?it/s]"
      ]
     },
     "metadata": {},
     "output_type": "display_data"
    },
    {
     "name": "stdout",
     "output_type": "stream",
     "text": [
      "Synapsse Results:\n",
      "Total Number of Synapses = 7152\n",
      "n_valid_syn_ids_presyn = 0\n",
      "n_errored_syn_ids_presyn = 99\n",
      "n_valid_syn_ids_postsyn = 7046\n",
      "n_errored_syn_ids_postsyn = 7\n",
      "Synapsse Results:\n",
      "Total Number of Synapses = 7152\n",
      "n_valid_syn_ids_presyn = 0\n",
      "n_errored_syn_ids_presyn = 99\n",
      "n_valid_syn_ids_postsyn = 7046\n",
      "n_errored_syn_ids_postsyn = 7\n"
     ]
    },
    {
     "data": {
      "application/vnd.jupyter.widget-view+json": {
       "model_id": "80f63469ae444ada93a80dec4a00ffca",
       "version_major": 2,
       "version_minor": 0
      },
      "text/plain": [
       "0it [00:00, ?it/s]"
      ]
     },
     "metadata": {},
     "output_type": "display_data"
    },
    {
     "data": {
      "application/vnd.jupyter.widget-view+json": {
       "model_id": "36d71b8c4bc548b2ab8dacedfac3d4e3",
       "version_major": 2,
       "version_minor": 0
      },
      "text/plain": [
       "0it [00:00, ?it/s]"
      ]
     },
     "metadata": {},
     "output_type": "display_data"
    },
    {
     "name": "stdout",
     "output_type": "stream",
     "text": [
      "\n",
      "\n",
      "len(branch_attr_keys) = 0\n",
      "Saving Neuorn in suppress_output mode...please wait\n",
      "Saved File at location: /mnt/dj-stor01/platinum/minnie65/02/decomposition/864691136535575714_0_25_soma_0_split_full_axon\n",
      "Save time = 331.7370972633362\n",
      "\n",
      "\n",
      " ***------ Total time for 864691136535575714 = 533.0086126327515 ------ ***\n",
      "\n",
      "\n",
      "\n",
      "---- Working on Neuron 864691136537477538 ----\n",
      "Decompressing Neuron in minimal output mode...please wait\n",
      "Pulled from Table Decomposition so setting split_index = 0\n",
      "Dont need spine recalculation\n",
      "Number of Neurons found = 1\n",
      "\n",
      "Part 1: Axon like branchese \n",
      "{'L0': array([12, 19, 31, 32, 33]), 'L2': array([0]), 'L3': array([ 0,  1,  2,  3,  4,  5,  6,  7,  8,  9, 10, 11, 12, 13, 14, 15, 16,\n",
      "       17, 18, 19, 24, 25, 26, 27, 28]), 'L7': array([3])}\n",
      "Limb L0 soma angle: 18.73 \n",
      "Limb L1 soma angle: 56.93 \n",
      "Limb L2 soma angle: 118.0 \n",
      "Limb L3 soma angle: 138.83 \n",
      "Limb L4 soma angle: 131.23 \n",
      "Limb L5 soma angle: 107.86 \n",
      "Limb L6 soma angle: 146.82 \n",
      "Limb L7 soma angle: 115.81 \n",
      "\n",
      "Part 2: possible_axon_limbs = [2, 3, 4, 5, 6, 7]\n",
      "\n",
      "Phase 2: Working on Limb L2\n",
      "nodes_to_eliminate = [4]\n",
      "\n",
      "Phase 2: Working on Limb L3\n",
      "nodes_to_eliminate = [20 21]\n",
      "\n",
      "Phase 2: Working on Limb L4\n",
      "nodes_to_eliminate = [6 7]\n",
      "\n",
      "Phase 2: Working on Limb L5\n",
      "nodes_to_eliminate = [1 2]\n",
      "\n",
      "Phase 2: Working on Limb L6\n",
      "nodes_to_eliminate = [5]\n",
      "\n",
      "Phase 2: Working on Limb L7\n",
      "nodes_to_eliminate = []\n",
      "\n",
      "----Working on Limb L2-----\n",
      "No endpoints were eliminated so don't need to add back any candidates\n",
      "\n",
      "----Working on Limb L3-----\n",
      "No endpoints were eliminated so don't need to add back any candidates\n",
      "\n",
      "----Working on Limb L4-----\n",
      "No endpoints were eliminated so don't need to add back any candidates\n",
      "\n",
      "----Working on Limb L5-----\n",
      "No endpoints were eliminated so don't need to add back any candidates\n",
      "\n",
      "----Working on Limb L6-----\n",
      "No endpoints were eliminated so don't need to add back any candidates\n",
      "\n",
      "----Working on Limb L7-----\n",
      "No nodes were eliminated so don't need to add back any candidates\n",
      "Final Candidates\n",
      "\n",
      "Limb 2\n",
      "Candidate 0 (magenta): array([0, 1, 2, 3, 5, 6, 8])\n",
      "Candidate 1 (red): array([ 7,  9, 10, 11, 12])\n",
      "\n",
      "Limb 3\n",
      "Candidate 0 (crimson): array([ 0,  1,  2,  3,  4,  5,  6,  7,  8,  9, 10, 11, 12, 13, 14, 15, 16,\n",
      "       17, 18, 19, 24, 25, 26, 27, 28])\n",
      "Candidate 1 (blue): array([22])\n",
      "Candidate 2 (gray): array([23])\n",
      "\n",
      "Limb 4\n",
      "Candidate 0 (magenta): array([8])\n",
      "Candidate 1 (darkslategray): array([0])\n",
      "Candidate 2 (green): array([1, 2, 3, 4, 5])\n",
      "\n",
      "Limb 5\n",
      "Candidate 0 (red): array([0])\n",
      "Candidate 1 (pink): array([3])\n",
      "Candidate 2 (orange): array([4, 5, 6])\n",
      "\n",
      "Limb 6\n",
      "Candidate 0 (red): array([0, 1, 3])\n",
      "Candidate 1 (palegreen): array([2, 4, 6])\n",
      "\n",
      "Limb 7\n",
      "Candidate 0 (tan): array([0, 1, 2, 3, 4, 5, 6])\n",
      "Part 3: axon_subgraph_candidates = {2: [[0, 1, 2, 3, 5, 6, 8], [7, 9, 10, 11, 12]], 3: [[0, 1, 2, 3, 4, 5, 6, 7, 8, 9, 10, 11, 12, 13, 14, 15, 16, 17, 18, 19, 24, 25, 26, 27, 28], [22], [23]], 4: [[8], [0], [1, 2, 3, 4, 5]], 5: [[0], [3], [4, 5, 6]], 6: [[0, 1, 3], [2, 4, 6]], 7: [[0, 1, 2, 3, 4, 5, 6]]}\n",
      "\n",
      "\n",
      " --- Working on limb 2, candidate # 0\n",
      "1 out of 7 branches are axons\n",
      "Axon percentage = 0.14285714285714285\n",
      "curr_axon_angle_threshold = 120\n",
      "candidate_nodes = [0 1 2 3 4 5 6 8]\n",
      "non_axon_branches_on_subgraph = [1 2 3 4 5 6 8]\n",
      "endnodes_to_test = []\n",
      "candidate_angles,restr_skels = (None, None)\n",
      "Not adding candidate because no angles (None) passed the threhold 120 \n",
      "\n",
      "\n",
      " --- Working on limb 2, candidate # 1\n",
      "0 out of 5 branches are axons\n",
      "Axon percentage = 0.0\n",
      "Not adding candidate no axon branches detected \n",
      "\n",
      "\n",
      " --- Working on limb 3, candidate # 0\n",
      "25 out of 25 branches are axons\n",
      "Axon percentage = 1.0\n",
      "curr_axon_angle_threshold = 95\n",
      "candidate_nodes = [ 0  1  2  3  4  5  6  7  8  9 10 11 12 13 14 15 16 17 18 19 20 24 25 26\n",
      " 27 28]\n",
      "non_axon_branches_on_subgraph = [20]\n",
      "endnodes_to_test = [6096]\n",
      "Skeleton paths distances = [24962.85076098]\n",
      "Filtered indexes = [0]\n",
      "len(filtered_skeletons) = 1\n",
      "sk_angles = [148.64202111]\n",
      "candidate_angles,restr_skels = (array([148.64202111]), [array([[[1337016.88618617,  497048.1710636 ,  753805.15245268],\n",
      "        [1337051.45610408,  497142.00304953,  753805.84468934]],\n",
      "\n",
      "       [[1337051.45610408,  497142.00304953,  753805.84468934],\n",
      "        [1337091.18693328,  497233.7203639 ,  753805.15360365]],\n",
      "\n",
      "       [[1337091.18693328,  497233.7203639 ,  753805.15360365],\n",
      "        [1337132.51156768,  497324.7667178 ,  753803.97502097]],\n",
      "\n",
      "       [[1337132.51156768,  497324.7667178 ,  753803.97502097],\n",
      "        [1337178.43394706,  497413.51758741,  753800.17788834]],\n",
      "\n",
      "       [[1337178.43394706,  497413.51758741,  753800.17788834],\n",
      "        [1337225.08955427,  497501.82273626,  753795.54294309]],\n",
      "\n",
      "       [[1337225.08955427,  497501.82273626,  753795.54294309],\n",
      "        [1337273.7702968 ,  497588.89682865,  753788.59400505]],\n",
      "\n",
      "       [[1337273.7702968 ,  497588.89682865,  753788.59400505],\n",
      "        [1337322.89980357,  497675.58177874,  753780.2608076 ]],\n",
      "\n",
      "       [[1337322.89980357,  497675.58177874,  753780.2608076 ],\n",
      "        [1337372.537373  ,  497761.82616634,  753770.36043857]],\n",
      "\n",
      "       [[1337372.537373  ,  497761.82616634,  753770.36043857],\n",
      "        [1337422.01128884,  497847.97584133,  753758.9840007 ]],\n",
      "\n",
      "       [[1337422.01128884,  497847.97584133,  753758.9840007 ],\n",
      "        [1337471.4008249 ,  497934.0766825 ,  753746.84650183]],\n",
      "\n",
      "       [[1337471.4008249 ,  497934.0766825 ,  753746.84650183],\n",
      "        [1337520.20734671,  498020.35494479,  753733.66658617]],\n",
      "\n",
      "       [[1337520.20734671,  498020.35494479,  753733.66658617],\n",
      "        [1337568.89800494,  498106.66958935,  753720.2875832 ]],\n",
      "\n",
      "       [[1337568.89800494,  498106.66958935,  753720.2875832 ],\n",
      "        [1337617.10210742,  498193.22310961,  753706.69153103]],\n",
      "\n",
      "       [[1337617.10210742,  498193.22310961,  753706.69153103],\n",
      "        [1337665.30295749,  498279.79526119,  753693.20524778]],\n",
      "\n",
      "       [[1337665.30295749,  498279.79526119,  753693.20524778],\n",
      "        [1337713.48787254,  498366.45869627,  753680.25677364]],\n",
      "\n",
      "       [[1337713.48787254,  498366.45869627,  753680.25677364],\n",
      "        [1337761.76942018,  498453.12823117,  753667.73187889]],\n",
      "\n",
      "       [[1337761.76942018,  498453.12823117,  753667.73187889],\n",
      "        [1337810.2612766 ,  498539.81104158,  753656.1288517 ]],\n",
      "\n",
      "       [[1337810.2612766 ,  498539.81104158,  753656.1288517 ],\n",
      "        [1337858.87064839,  498626.53814823,  753645.4259163 ]],\n",
      "\n",
      "       [[1337858.87064839,  498626.53814823,  753645.4259163 ],\n",
      "        [1337907.62018456,  498713.31808842,  753635.79654961]],\n",
      "\n",
      "       [[1337907.62018456,  498713.31808842,  753635.79654961],\n",
      "        [1337956.29681584,  498800.2927315 ,  753627.77907325]],\n",
      "\n",
      "       [[1337956.29681584,  498800.2927315 ,  753627.77907325],\n",
      "        [1338004.92605396,  498887.39394477,  753620.80943566]],\n",
      "\n",
      "       [[1338004.92605396,  498887.39394477,  753620.80943566],\n",
      "        [1338053.09490527,  498974.91150381,  753616.53671211]],\n",
      "\n",
      "       [[1338053.09490527,  498974.91150381,  753616.53671211],\n",
      "        [1338101.13256183,  499062.54770739,  753613.03251824]],\n",
      "\n",
      "       [[1338101.13256183,  499062.54770739,  753613.03251824],\n",
      "        [1338148.30143037,  499150.71917818,  753613.76739968]],\n",
      "\n",
      "       [[1338148.30143037,  499150.71917818,  753613.76739968],\n",
      "        [1338195.27212688,  499238.95554183,  753615.68226863]],\n",
      "\n",
      "       [[1338195.27212688,  499238.95554183,  753615.68226863],\n",
      "        [1338241.5973364 ,  499327.38694043,  753621.50143578]],\n",
      "\n",
      "       [[1338241.5973364 ,  499327.38694043,  753621.50143578],\n",
      "        [1338287.72043238,  499415.67490929,  753629.91783409]],\n",
      "\n",
      "       [[1338287.72043238,  499415.67490929,  753629.91783409],\n",
      "        [1338333.63393901,  499503.81414322,  753641.02753031]],\n",
      "\n",
      "       [[1338333.63393901,  499503.81414322,  753641.02753031],\n",
      "        [1338379.73714373,  499591.23701734,  753656.10843722]],\n",
      "\n",
      "       [[1338379.73714373,  499591.23701734,  753656.10843722],\n",
      "        [1338426.00547694,  499678.30301567,  753672.73971137]],\n",
      "\n",
      "       [[1338426.00547694,  499678.30301567,  753672.73971137],\n",
      "        [1338473.11422084,  499764.14228575,  753693.04699972]],\n",
      "\n",
      "       [[1338473.11422084,  499764.14228575,  753693.04699972],\n",
      "        [1338520.9804111 ,  499849.20049122,  753714.73935099]],\n",
      "\n",
      "       [[1338520.9804111 ,  499849.20049122,  753714.73935099],\n",
      "        [1338569.66978273,  499933.40984733,  753737.93696798]],\n",
      "\n",
      "       [[1338569.66978273,  499933.40984733,  753737.93696798],\n",
      "        [1338620.09221419,  500016.24386685,  753762.33255245]],\n",
      "\n",
      "       [[1338620.09221419,  500016.24386685,  753762.33255245],\n",
      "        [1338671.38518383,  500098.48589577,  753786.90872873]],\n",
      "\n",
      "       [[1338671.38518383,  500098.48589577,  753786.90872873],\n",
      "        [1338724.19753004,  500179.76922401,  753811.48263031]],\n",
      "\n",
      "       [[1338724.19753004,  500179.76922401,  753811.48263031],\n",
      "        [1338778.43672503,  500260.28234738,  753835.4534605 ]],\n",
      "\n",
      "       [[1338778.43672503,  500260.28234738,  753835.4534605 ],\n",
      "        [1338833.48768794,  500340.35293577,  753859.0658116 ]],\n",
      "\n",
      "       [[1338833.48768794,  500340.35293577,  753859.0658116 ],\n",
      "        [1338889.88215854,  500419.67630004,  753882.03247365]],\n",
      "\n",
      "       [[1338889.88215854,  500419.67630004,  753882.03247365],\n",
      "        [1338946.93933987,  500498.48433887,  753905.12507517]],\n",
      "\n",
      "       [[1338946.93933987,  500498.48433887,  753905.12507517],\n",
      "        [1339004.45895302,  500576.93278959,  753928.30555579]],\n",
      "\n",
      "       [[1339004.45895302,  500576.93278959,  753928.30555579],\n",
      "        [1339062.48972542,  500654.47698935,  753953.18926264]],\n",
      "\n",
      "       [[1339062.48972542,  500654.47698935,  753953.18926264],\n",
      "        [1339120.46208657,  500731.73278859,  753979.04283419]],\n",
      "\n",
      "       [[1339120.46208657,  500731.73278859,  753979.04283419],\n",
      "        [1339178.24222038,  500808.32205479,  754007.24816063]],\n",
      "\n",
      "       [[1339178.24222038,  500808.32205479,  754007.24816063],\n",
      "        [1339235.35631212,  500884.55027551,  754037.61506061]],\n",
      "\n",
      "       [[1339235.35631212,  500884.55027551,  754037.61506061],\n",
      "        [1339291.82417761,  500960.42819242,  754070.07922378]],\n",
      "\n",
      "       [[1339291.82417761,  500960.42819242,  754070.07922378],\n",
      "        [1339346.63824413,  501036.15592999,  754105.4995523 ]],\n",
      "\n",
      "       [[1339346.63824413,  501036.15592999,  754105.4995523 ],\n",
      "        [1339400.57075549,  501111.80361466,  754142.4956605 ]],\n",
      "\n",
      "       [[1339400.57075549,  501111.80361466,  754142.4956605 ],\n",
      "        [1339451.76366626,  501187.78607901,  754182.49456062]],\n",
      "\n",
      "       [[1339451.76366626,  501187.78607901,  754182.49456062],\n",
      "        [1339501.96197751,  501263.89008359,  754223.58361067]],\n",
      "\n",
      "       [[1339501.96197751,  501263.89008359,  754223.58361067],\n",
      "        [1339548.54621099,  501340.92870745,  754267.05243844]],\n",
      "\n",
      "       [[1339548.54621099,  501340.92870745,  754267.05243844],\n",
      "        [1339594.13084264,  501418.22583352,  754311.17947842]],\n",
      "\n",
      "       [[1339594.13084264,  501418.22583352,  754311.17947842],\n",
      "        [1339635.6636108 ,  501497.02128665,  754356.59192501]],\n",
      "\n",
      "       [[1339635.6636108 ,  501497.02128665,  754356.59192501],\n",
      "        [1339676.39548843,  501576.11289881,  754402.25844482]],\n",
      "\n",
      "       [[1339676.39548843,  501576.11289881,  754402.25844482],\n",
      "        [1339713.24902481,  501657.13623565,  754447.81373452]],\n",
      "\n",
      "       [[1339713.24902481,  501657.13623565,  754447.81373452],\n",
      "        [1339749.63435573,  501738.41826951,  754493.29778732]],\n",
      "\n",
      "       [[1339749.63435573,  501738.41826951,  754493.29778732],\n",
      "        [1339783.31251033,  501821.69588649,  754537.23661313]],\n",
      "\n",
      "       [[1339783.31251033,  501821.69588649,  754537.23661313],\n",
      "        [1339816.80747475,  501905.32786032,  754580.61887581]],\n",
      "\n",
      "       [[1339816.80747475,  501905.32786032,  754580.61887581],\n",
      "        [1339849.61498418,  501990.28962375,  754621.91253246]],\n",
      "\n",
      "       [[1339849.61498418,  501990.28962375,  754621.91253246],\n",
      "        [1339882.92571382,  502075.68125254,  754661.8587258 ]],\n",
      "\n",
      "       [[1339882.92571382,  502075.68125254,  754661.8587258 ],\n",
      "        [1339916.89886625,  502161.63874213,  754700.03116217]],\n",
      "\n",
      "       [[1339916.89886625,  502161.63874213,  754700.03116217],\n",
      "        [1339952.86844437,  502247.67912189,  754736.0801954 ]],\n",
      "\n",
      "       [[1339952.86844437,  502247.67912189,  754736.0801954 ],\n",
      "        [1339989.70918776,  502333.75567181,  754771.20265517]],\n",
      "\n",
      "       [[1339989.70918776,  502333.75567181,  754771.20265517],\n",
      "        [1340030.39691864,  502419.08535687,  754803.80947959]],\n",
      "\n",
      "       [[1340030.39691864,  502419.08535687,  754803.80947959],\n",
      "        [1340072.33799243,  502503.99096739,  754835.86500715]],\n",
      "\n",
      "       [[1340072.33799243,  502503.99096739,  754835.86500715],\n",
      "        [1340117.04142173,  502587.95337455,  754866.71816894]],\n",
      "\n",
      "       [[1340117.04142173,  502587.95337455,  754866.71816894],\n",
      "        [1340163.80841318,  502670.96591253,  754897.02426938]],\n",
      "\n",
      "       [[1340163.80841318,  502670.96591253,  754897.02426938],\n",
      "        [1340211.82542311,  502753.40306003,  754926.99898324]],\n",
      "\n",
      "       [[1340211.82542311,  502753.40306003,  754926.99898324],\n",
      "        [1340261.88468474,  502834.67591406,  754956.80413905]],\n",
      "\n",
      "       [[1340261.88468474,  502834.67591406,  754956.80413905],\n",
      "        [1340312.33588696,  502915.6980426 ,  754986.63361333]],\n",
      "\n",
      "       [[1340312.33588696,  502915.6980426 ,  754986.63361333],\n",
      "        [1340363.64318777,  502996.12963355,  755016.60560125]],\n",
      "\n",
      "       [[1340363.64318777,  502996.12963355,  755016.60560125],\n",
      "        [1340415.05769536,  503076.46595803,  755046.64882596]],\n",
      "\n",
      "       [[1340415.05769536,  503076.46595803,  755046.64882596],\n",
      "        [1340466.58937818,  503156.69815782,  755076.7699113 ]],\n",
      "\n",
      "       [[1340466.58937818,  503156.69815782,  755076.7699113 ],\n",
      "        [1340517.90369452,  503237.12336467,  755106.7463819 ]],\n",
      "\n",
      "       [[1340517.90369452,  503237.12336467,  755106.7463819 ],\n",
      "        [1340569.13913491,  503317.61860816,  755136.67037602]],\n",
      "\n",
      "       [[1340569.13913491,  503317.61860816,  755136.67037602],\n",
      "        [1340619.82744439,  503398.68180162,  755165.98654143]],\n",
      "\n",
      "       [[1340619.82744439,  503398.68180162,  755165.98654143],\n",
      "        [1340670.3489775 ,  503479.9148499 ,  755195.11544061]],\n",
      "\n",
      "       [[1340670.3489775 ,  503479.9148499 ,  755195.11544061],\n",
      "        [1340720.344069  ,  503561.68346547,  755223.65286049]],\n",
      "\n",
      "       [[1340720.344069  ,  503561.68346547,  755223.65286049],\n",
      "        [1340769.97962979,  503643.72958648,  755252.01624902]],\n",
      "\n",
      "       [[1340769.97962979,  503643.72958648,  755252.01624902],\n",
      "        [1340819.21498229,  503726.08461011,  755280.18591617]],\n",
      "\n",
      "       [[1340819.21498229,  503726.08461011,  755280.18591617],\n",
      "        [1340867.89063899,  503808.62633599,  755308.77486923]],\n",
      "\n",
      "       [[1340867.89063899,  503808.62633599,  755308.77486923],\n",
      "        [1340916.33586964,  503891.24492695,  755337.53644177]],\n",
      "\n",
      "       [[1340916.33586964,  503891.24492695,  755337.53644177],\n",
      "        [1340964.0659955 ,  503973.69112011,  755367.93753279]],\n",
      "\n",
      "       [[1340964.0659955 ,  503973.69112011,  755367.93753279],\n",
      "        [1341011.64070191,  504056.04049049,  755398.82929754]],\n",
      "\n",
      "       [[1341011.64070191,  504056.04049049,  755398.82929754],\n",
      "        [1341058.60005077,  504137.88896961,  755431.92984165]],\n",
      "\n",
      "       [[1341058.60005077,  504137.88896961,  755431.92984165],\n",
      "        [1341105.31321743,  504219.49425571,  755465.93967121]],\n",
      "\n",
      "       [[1341105.31321743,  504219.49425571,  755465.93967121],\n",
      "        [1341151.56113663,  504300.63994344,  755501.66791398]],\n",
      "\n",
      "       [[1341151.56113663,  504300.63994344,  755501.66791398],\n",
      "        [1341197.35508541,  504381.58919113,  755538.39799124]],\n",
      "\n",
      "       [[1341197.35508541,  504381.58919113,  755538.39799124],\n",
      "        [1341242.77265743,  504462.37557475,  755575.95866712]],\n",
      "\n",
      "       [[1341242.77265743,  504462.37557475,  755575.95866712],\n",
      "        [1341287.29122107,  504543.48186542,  755613.89988208]],\n",
      "\n",
      "       [[1341287.29122107,  504543.48186542,  755613.89988208],\n",
      "        [1341331.51347429,  504624.69896777,  755651.95417244]],\n",
      "\n",
      "       [[1341331.51347429,  504624.69896777,  755651.95417244],\n",
      "        [1341373.88512196,  504707.28041588,  755689.16906063]],\n",
      "\n",
      "       [[1341373.88512196,  504707.28041588,  755689.16906063],\n",
      "        [1341415.38316955,  504790.5026892 ,  755725.89356489]],\n",
      "\n",
      "       [[1341415.38316955,  504790.5026892 ,  755725.89356489],\n",
      "        [1341454.85764264,  504875.20934606,  755761.48216221]],\n",
      "\n",
      "       [[1341454.85764264,  504875.20934606,  755761.48216221],\n",
      "        [1341491.6551096 ,  504961.4526043 ,  755796.15835201]],\n",
      "\n",
      "       [[1341491.6551096 ,  504961.4526043 ,  755796.15835201],\n",
      "        [1341526.77674981,  505048.61479044,  755830.33316441]],\n",
      "\n",
      "       [[1341526.77674981,  505048.61479044,  755830.33316441],\n",
      "        [1341556.88024907,  505137.70499987,  755864.34366155]],\n",
      "\n",
      "       [[1341556.88024907,  505137.70499987,  755864.34366155],\n",
      "        [1341584.20474377,  505227.35482988,  755899.07986069]],\n",
      "\n",
      "       [[1341584.20474377,  505227.35482988,  755899.07986069],\n",
      "        [1341608.38876746,  505317.6370706 ,  755934.63615422]],\n",
      "\n",
      "       [[1341608.38876746,  505317.6370706 ,  755934.63615422],\n",
      "        [1341627.18993595,  505408.08285908,  755972.87712095]]])])\n"
     ]
    },
    {
     "name": "stdout",
     "output_type": "stream",
     "text": [
      "base_final_widths = [203.46117075 208.12978667 219.18136221]\n",
      "overall_ais_width = 203.46117075258306\n",
      "ais_width = 210.25743987736973\n",
      "Adding the following branches as true axons: [ 0  1  2  3  4  5  6  7  8  9 10 11 12 13 14 15 16 17 18 19 24 25 26 27\n",
      " 28]\n",
      "curr_soma_angle = 138.83\n",
      "max_axon_angle = 148.64202111436757\n",
      "Changing to a better axon candidate\n",
      "\n",
      "\n",
      " --- Working on limb 3, candidate # 1\n",
      "0 out of 1 branches are axons\n",
      "Axon percentage = 0.0\n",
      "Not adding candidate no axon branches detected \n",
      "\n",
      "\n",
      " --- Working on limb 3, candidate # 2\n",
      "0 out of 1 branches are axons\n",
      "Axon percentage = 0.0\n",
      "Not adding candidate no axon branches detected \n",
      "\n",
      "\n",
      " --- Working on limb 4, candidate # 0\n",
      "0 out of 1 branches are axons\n",
      "Axon percentage = 0.0\n",
      "Not adding candidate no axon branches detected \n",
      "\n",
      "\n",
      " --- Working on limb 4, candidate # 1\n",
      "0 out of 1 branches are axons\n",
      "Axon percentage = 0.0\n",
      "Not adding candidate no axon branches detected \n",
      "\n",
      "\n",
      " --- Working on limb 4, candidate # 2\n",
      "0 out of 5 branches are axons\n",
      "Axon percentage = 0.0\n",
      "Not adding candidate no axon branches detected \n",
      "\n",
      "\n",
      " --- Working on limb 5, candidate # 0\n",
      "0 out of 1 branches are axons\n",
      "Axon percentage = 0.0\n",
      "Not adding candidate no axon branches detected \n",
      "\n",
      "\n",
      " --- Working on limb 5, candidate # 1\n",
      "0 out of 1 branches are axons\n",
      "Axon percentage = 0.0\n",
      "Not adding candidate no axon branches detected \n",
      "\n",
      "\n",
      " --- Working on limb 5, candidate # 2\n",
      "0 out of 3 branches are axons\n",
      "Axon percentage = 0.0\n",
      "Not adding candidate no axon branches detected \n",
      "\n",
      "\n",
      " --- Working on limb 6, candidate # 0\n",
      "0 out of 3 branches are axons\n",
      "Axon percentage = 0.0\n",
      "Not adding candidate no axon branches detected \n",
      "\n",
      "\n",
      " --- Working on limb 6, candidate # 1\n",
      "0 out of 3 branches are axons\n",
      "Axon percentage = 0.0\n",
      "Not adding candidate no axon branches detected \n",
      "\n",
      "\n",
      " --- Working on limb 7, candidate # 0\n",
      "1 out of 7 branches are axons\n",
      "Axon percentage = 0.14285714285714285\n",
      "curr_axon_angle_threshold = 120\n",
      "candidate_nodes = [0 1 2 3 4 5 6]\n",
      "non_axon_branches_on_subgraph = [0 1 2 4 5 6]\n",
      "endnodes_to_test = []\n",
      "candidate_angles,restr_skels = (None, None)\n",
      "Not adding candidate because no angles (None) passed the threhold 120 \n",
      "Using the best axon approach\n",
      "Using True\n",
      "Limb L3: Axon branches before dendritic path filter = [ 0  1  2  3  4  5  6  7  8  9 10 11 12 13 14 15 16 17 18 19 24 25 26 27\n",
      " 28]\n",
      "Limb L3: Axon branches AFTER dendritic path filter = [ 0  1  2  3  4  5  6  7  8  9 10 11 12 13 14 15 16 17 18 19 24 25 26 27\n",
      " 28]\n",
      "\n",
      "\n",
      "Part 4: final_true_axons = {'L3': array([ 0,  1,  2,  3,  4,  5,  6,  7,  8,  9, 10, 11, 12, 13, 14, 15, 16,\n",
      "       17, 18, 19, 24, 25, 26, 27, 28])}\n",
      "\n",
      "--- Working on filter 0:\n",
      "function = dendrite_on_axon_merges\n",
      "function __name__ = filter_away_dendrite_on_axon_merges\n",
      "function arguments = {'use_pre_existing_axon_labels': True}\n",
      "\n",
      "\n",
      "\n",
      "\n",
      "\n",
      " ---- Total time for applying filter: 0.8205206394195557 -----\n",
      "Starting axon branch was not the limb starting node so generating border vertices and computing upstream branch\n",
      "upstream_node_to_axon_starting_branch = 20\n",
      "root_curr = [1336062.   490170.2  752286.2]\n",
      "Time for preparing soma vertices and root: 0.0025641918182373047\n",
      "invalidation_d = 2000\n"
     ]
    },
    {
     "name": "stderr",
     "output_type": "stream",
     "text": [
      "\r",
      "  0%|          | 0/1 [00:00<?, ?it/s]"
     ]
    },
    {
     "name": "stdout",
     "output_type": "stream",
     "text": [
      "cc_vertex_thresh = 10\n"
     ]
    },
    {
     "data": {
      "application/vnd.jupyter.widget-view+json": {
       "model_id": "492f9498ef834770a614ac3e81470939",
       "version_major": 2,
       "version_minor": 0
      },
      "text/plain": [
       "  0%|          | 0/38431 [00:00<?, ?it/s]"
      ]
     },
     "metadata": {},
     "output_type": "display_data"
    },
    {
     "name": "stderr",
     "output_type": "stream",
     "text": [
      "100%|██████████| 1/1 [00:00<00:00,  1.11it/s]\n"
     ]
    },
    {
     "name": "stdout",
     "output_type": "stream",
     "text": [
      "meshparty_segment_size = 100\n",
      "Time for 1st pass MP skeletonization: 1.9644386768341064\n",
      "connecting at the root\n",
      "branches_touching_root = [54]\n",
      "combining close nodes\n",
      "combine_threshold = 1300\n",
      "length of Graph = 10029\n",
      "After combining close endpoints max(kept_branches_idx) = 54, len(kept_branches_idx) = 52\n",
      "empty_indices % = 0.0\n",
      " conflict_indices % = 0.012704174228675136\n"
     ]
    },
    {
     "data": {
      "application/vnd.jupyter.widget-view+json": {
       "model_id": "ba7e7b72ecbf4e26a0350273812138ec",
       "version_major": 2,
       "version_minor": 0
      },
      "text/plain": [
       "  0%|          | 0/24 [00:00<?, ?it/s]"
      ]
     },
     "metadata": {},
     "output_type": "display_data"
    },
    {
     "name": "stdout",
     "output_type": "stream",
     "text": [
      "AFTER face_lookup_resolved_test\n"
     ]
    },
    {
     "data": {
      "application/vnd.jupyter.widget-view+json": {
       "model_id": "fa3655bbd1b841d58c4e38b57e243cc9",
       "version_major": 2,
       "version_minor": 0
      },
      "text/plain": [
       "  0%|          | 0/52 [00:00<?, ?it/s]"
      ]
     },
     "metadata": {},
     "output_type": "display_data"
    },
    {
     "name": "stdout",
     "output_type": "stream",
     "text": [
      "Decomposing first pass: 8.321308851242065\n",
      "Only Using MeshParty Skeletonization and Mesh Correspondence\n",
      "Another print\n",
      "Divinding into MP and MAP pieces: 0.00021338462829589844\n",
      "Total time for MAP sublimb processing 4.0531158447265625e-06\n",
      "---- Working on MP Decomposition #0 ----\n",
      "Using Quicker soma_to_piece_touching_vertices because no MAP and only one sublimb_mesh piece \n",
      "MP filtering soma verts: 0.00032329559326171875\n",
      "Fixing Possible Soma Extension Branch for Sublimb 0\n",
      "Total time for mesh KDTree = 0.12332987785339355\n",
      "sbv[0].reshape(-1,3) = [[1336062.   490170.2  752286.2]]\n",
      "closest_sk_pt_coord BEFORE = [1336963.00826316  489418.78892749  752583.46317692]\n",
      "current_skeleton.shape = (516, 2, 3)\n",
      "node_for_stitch = 248: [1336963.00826316  489418.78892749  752583.46317692]\n",
      "node_for_stitch AFTER = 248: [1336963.00826316  489418.78892749  752583.46317692]\n",
      "possible_node_loc = [  0 276]\n",
      "possible_node_loc AFTER = [  0 276]\n",
      "curr_shortest_path = [248, 253.0, 258.0, 262.0, 268.0, 275.0, 276.0]\n",
      "Current stitch point was not a branch or endpoint, shortest_path_length to one = 529.0786039828141\n",
      "Changing the stitch point becasue the distance to end or branch node was 529.0786039828141\n",
      "New stitch point has degree 1\n",
      "change_status for create soma extending pieces = True\n",
      "closest_sk_pt_coord AFTER = [1337075.17420001  488934.97893311  752401.45001602]\n",
      "skipping soma 0 because closest skeleton node was already end node\n",
      "endpoints_must_keep = {0: array([[1337075.17420001,  488934.97893311,  752401.45001602]])}\n",
      "match_sk_branches = [51]\n",
      "The new branch info was none so skipping \n",
      "\n",
      "No soma extending branch was added for this sublimb even though it had a soma border (means they already existed)\n",
      "MP (because soma touching verts) soma extension add: 3.0965960025787354\n",
      "There were not both MAP and MP pieces so skipping the stitch resolving phase\n",
      "Time for decomp of Limb = 13.940080642700195\n",
      "Number of matching vertices = 42\n",
      "Only one endpoint after filtering away the endpoints that are not on the skeleton\n",
      "Using Distance measure skeletal_distance\n",
      "endpoints_must_keep = [[1337075.17420001  488934.97893311  752401.45001602]]\n",
      "Number of end_nodes BEFORE filtering = 29\n",
      "all_single_nodes_to_eliminate = [16]\n"
     ]
    },
    {
     "data": {
      "application/vnd.jupyter.widget-view+json": {
       "model_id": "444882bda3b342798178176f4d52be9d",
       "version_major": 2,
       "version_minor": 0
      },
      "text/plain": [
       "  0%|          | 0/2 [00:00<?, ?it/s]"
      ]
     },
     "metadata": {},
     "output_type": "display_data"
    },
    {
     "name": "stdout",
     "output_type": "stream",
     "text": [
      "Removed 2 skeletal branches\n"
     ]
    },
    {
     "data": {
      "application/vnd.jupyter.widget-view+json": {
       "model_id": "0af20ae08b864a1b9601b121375309d2",
       "version_major": 2,
       "version_minor": 0
      },
      "text/plain": [
       "  0%|          | 0/52 [00:00<?, ?it/s]"
      ]
     },
     "metadata": {},
     "output_type": "display_data"
    },
    {
     "name": "stdout",
     "output_type": "stream",
     "text": [
      "76619 76620\n",
      "For marked faces: None\n",
      "empty_indices % = 0.0\n",
      " conflict_indices % = 0.0\n"
     ]
    },
    {
     "data": {
      "application/vnd.jupyter.widget-view+json": {
       "model_id": "69468a803f26467ead022fb2a803d8e5",
       "version_major": 2,
       "version_minor": 0
      },
      "text/plain": [
       "0it [00:00, ?it/s]"
      ]
     },
     "metadata": {},
     "output_type": "display_data"
    },
    {
     "name": "stdout",
     "output_type": "stream",
     "text": [
      "AFTER face_lookup_resolved_test\n"
     ]
    },
    {
     "data": {
      "application/vnd.jupyter.widget-view+json": {
       "model_id": "f26aff0342b94b04b87b279a33c55fdd",
       "version_major": 2,
       "version_minor": 0
      },
      "text/plain": [
       "  0%|          | 0/48 [00:00<?, ?it/s]"
      ]
     },
     "metadata": {},
     "output_type": "display_data"
    },
    {
     "name": "stdout",
     "output_type": "stream",
     "text": [
      "Limb Correspondence before stitching = 48\n",
      "Limb Correspondence AFTER stitching = 48\n",
      "Readjusting starting axon branch skeleton\n",
      "Fixing the axon starting branch endpoint to align with upstream branch\n",
      "Starting Branch 31 skeleton before fix: (516, 2, 3)\n",
      "Starting Branch 31 skeleton AFTER fix: (517, 2, 3)\n",
      "concept_network_dict = {0: [<networkx_utils.GraphOrderedEdges object at 0x7f3cce2333c8>]}\n",
      "\n",
      "\n",
      "----Working on seperate_graph 0----\n",
      "\n",
      "\n",
      "---------Working on soma_idx = 0, soma_group_idx 0, endpt = [1336775.375   487928.2175  751608.9   ]---------\n",
      "Starting_edge inside branches_to_conept = [[1336775.375       487928.2175      751608.9       ]\n",
      " [1337377.35276473  488753.67569767  751911.38031839]]\n",
      "At the start, starting_node (in terms of the skeleton, that shouldn't match the starting edge) = [29]\n",
      "printing out current edge:\n",
      "[[1336775.375       487928.2175      751608.9       ]\n",
      " [1337377.35276473  488753.67569767  751911.38031839]]\n",
      "edge_endpoints_to_process was empty so exiting loop after 52 iterations\n",
      "starting_node in concept map (that should match the starting edge) = 48\n",
      "Total time for branches to concept conversion = 1.1241130828857422\n",
      "\n",
      "Done generating concept network \n",
      "\n",
      "\n"
     ]
    },
    {
     "data": {
      "application/vnd.jupyter.widget-view+json": {
       "model_id": "72889035185d4138a2583f474e4b43e9",
       "version_major": 2,
       "version_minor": 0
      },
      "text/plain": [
       "  0%|          | 0/39 [00:00<?, ?it/s]"
      ]
     },
     "metadata": {},
     "output_type": "display_data"
    },
    {
     "data": {
      "application/vnd.jupyter.widget-view+json": {
       "model_id": "ea18120a410c4c4ba7e02b93da21fef2",
       "version_major": 2,
       "version_minor": 0
      },
      "text/plain": [
       "  0%|          | 0/15 [00:00<?, ?it/s]"
      ]
     },
     "metadata": {},
     "output_type": "display_data"
    },
    {
     "data": {
      "application/vnd.jupyter.widget-view+json": {
       "model_id": "057436e5e388460fb6247aa23b0bca9c",
       "version_major": 2,
       "version_minor": 0
      },
      "text/plain": [
       "  0%|          | 0/15 [00:00<?, ?it/s]"
      ]
     },
     "metadata": {},
     "output_type": "display_data"
    },
    {
     "data": {
      "application/vnd.jupyter.widget-view+json": {
       "model_id": "692aeb0e4ee5497c91b483c06fa4b35e",
       "version_major": 2,
       "version_minor": 0
      },
      "text/plain": [
       "  0%|          | 0/49 [00:00<?, ?it/s]"
      ]
     },
     "metadata": {},
     "output_type": "display_data"
    },
    {
     "data": {
      "application/vnd.jupyter.widget-view+json": {
       "model_id": "686d4b83b2b94193b100e6ef9c153992",
       "version_major": 2,
       "version_minor": 0
      },
      "text/plain": [
       "  0%|          | 0/33 [00:00<?, ?it/s]"
      ]
     },
     "metadata": {},
     "output_type": "display_data"
    },
    {
     "data": {
      "application/vnd.jupyter.widget-view+json": {
       "model_id": "f76660dfdf774a89a19700f61332a420",
       "version_major": 2,
       "version_minor": 0
      },
      "text/plain": [
       "  0%|          | 0/11 [00:00<?, ?it/s]"
      ]
     },
     "metadata": {},
     "output_type": "display_data"
    },
    {
     "data": {
      "application/vnd.jupyter.widget-view+json": {
       "model_id": "80f40fdf0fec48b0a4af1deb92920de9",
       "version_major": 2,
       "version_minor": 0
      },
      "text/plain": [
       "  0%|          | 0/11 [00:00<?, ?it/s]"
      ]
     },
     "metadata": {},
     "output_type": "display_data"
    },
    {
     "data": {
      "application/vnd.jupyter.widget-view+json": {
       "model_id": "feb4e96dad4f4a588352fd015437ecc4",
       "version_major": 2,
       "version_minor": 0
      },
      "text/plain": [
       "  0%|          | 0/15 [00:00<?, ?it/s]"
      ]
     },
     "metadata": {},
     "output_type": "display_data"
    },
    {
     "data": {
      "application/vnd.jupyter.widget-view+json": {
       "model_id": "e1e114890a5641f1b9114da0a952e768",
       "version_major": 2,
       "version_minor": 0
      },
      "text/plain": [
       "  0%|          | 0/4 [00:00<?, ?it/s]"
      ]
     },
     "metadata": {},
     "output_type": "display_data"
    },
    {
     "data": {
      "application/vnd.jupyter.widget-view+json": {
       "model_id": "98243a97e5a140e086b6bab410e65eeb",
       "version_major": 2,
       "version_minor": 0
      },
      "text/plain": [
       "  0%|          | 0/9 [00:00<?, ?it/s]"
      ]
     },
     "metadata": {},
     "output_type": "display_data"
    },
    {
     "data": {
      "application/vnd.jupyter.widget-view+json": {
       "model_id": "ff330116e6e843378d7d7d7b09fc9bde",
       "version_major": 2,
       "version_minor": 0
      },
      "text/plain": [
       "  0%|          | 0/4 [00:00<?, ?it/s]"
      ]
     },
     "metadata": {},
     "output_type": "display_data"
    },
    {
     "data": {
      "application/vnd.jupyter.widget-view+json": {
       "model_id": "6813aca41e4a4b4f92452a3de3d0d2ee",
       "version_major": 2,
       "version_minor": 0
      },
      "text/plain": [
       "  0%|          | 0/4 [00:00<?, ?it/s]"
      ]
     },
     "metadata": {},
     "output_type": "display_data"
    },
    {
     "data": {
      "application/vnd.jupyter.widget-view+json": {
       "model_id": "9f1e55fd427c4fb28455dfc85e0e34f2",
       "version_major": 2,
       "version_minor": 0
      },
      "text/plain": [
       "  0%|          | 0/21 [00:00<?, ?it/s]"
      ]
     },
     "metadata": {},
     "output_type": "display_data"
    },
    {
     "data": {
      "application/vnd.jupyter.widget-view+json": {
       "model_id": "1073f27e5a384d48a9e33c06bc178f30",
       "version_major": 2,
       "version_minor": 0
      },
      "text/plain": [
       "  0%|          | 0/10 [00:00<?, ?it/s]"
      ]
     },
     "metadata": {},
     "output_type": "display_data"
    },
    {
     "data": {
      "application/vnd.jupyter.widget-view+json": {
       "model_id": "6964b702827d4a9cb14f3b661161a24e",
       "version_major": 2,
       "version_minor": 0
      },
      "text/plain": [
       "  0%|          | 0/14 [00:00<?, ?it/s]"
      ]
     },
     "metadata": {},
     "output_type": "display_data"
    },
    {
     "data": {
      "application/vnd.jupyter.widget-view+json": {
       "model_id": "9aaba0966a864ad6be59614daf544290",
       "version_major": 2,
       "version_minor": 0
      },
      "text/plain": [
       "  0%|          | 0/6 [00:00<?, ?it/s]"
      ]
     },
     "metadata": {},
     "output_type": "display_data"
    },
    {
     "data": {
      "application/vnd.jupyter.widget-view+json": {
       "model_id": "3af5066587024644adc9ed2f7fbf88b0",
       "version_major": 2,
       "version_minor": 0
      },
      "text/plain": [
       "  0%|          | 0/3 [00:00<?, ?it/s]"
      ]
     },
     "metadata": {},
     "output_type": "display_data"
    },
    {
     "data": {
      "application/vnd.jupyter.widget-view+json": {
       "model_id": "04bb2559e75144e5a6c0240a2e321452",
       "version_major": 2,
       "version_minor": 0
      },
      "text/plain": [
       "  0%|          | 0/4 [00:00<?, ?it/s]"
      ]
     },
     "metadata": {},
     "output_type": "display_data"
    },
    {
     "data": {
      "application/vnd.jupyter.widget-view+json": {
       "model_id": "c756329afd544d1e9483b6ff5f9794e5",
       "version_major": 2,
       "version_minor": 0
      },
      "text/plain": [
       "  0%|          | 0/4 [00:00<?, ?it/s]"
      ]
     },
     "metadata": {},
     "output_type": "display_data"
    },
    {
     "data": {
      "application/vnd.jupyter.widget-view+json": {
       "model_id": "0212356d258b4d5bac253ad7b153a52a",
       "version_major": 2,
       "version_minor": 0
      },
      "text/plain": [
       "  0%|          | 0/43 [00:00<?, ?it/s]"
      ]
     },
     "metadata": {},
     "output_type": "display_data"
    },
    {
     "data": {
      "application/vnd.jupyter.widget-view+json": {
       "model_id": "ecabb820cdf040289e9c025eb8d0dd98",
       "version_major": 2,
       "version_minor": 0
      },
      "text/plain": [
       "  0%|          | 0/11 [00:00<?, ?it/s]"
      ]
     },
     "metadata": {},
     "output_type": "display_data"
    },
    {
     "data": {
      "application/vnd.jupyter.widget-view+json": {
       "model_id": "9186ee88026242689e2bb6b08c0f0226",
       "version_major": 2,
       "version_minor": 0
      },
      "text/plain": [
       "  0%|          | 0/8 [00:00<?, ?it/s]"
      ]
     },
     "metadata": {},
     "output_type": "display_data"
    },
    {
     "data": {
      "application/vnd.jupyter.widget-view+json": {
       "model_id": "5f81d35258ea4a8ca0016d6657f0a488",
       "version_major": 2,
       "version_minor": 0
      },
      "text/plain": [
       "  0%|          | 0/28 [00:00<?, ?it/s]"
      ]
     },
     "metadata": {},
     "output_type": "display_data"
    },
    {
     "data": {
      "application/vnd.jupyter.widget-view+json": {
       "model_id": "52d5a86dace844f9bfaabb7047d61cbe",
       "version_major": 2,
       "version_minor": 0
      },
      "text/plain": [
       "  0%|          | 0/3 [00:00<?, ?it/s]"
      ]
     },
     "metadata": {},
     "output_type": "display_data"
    },
    {
     "data": {
      "application/vnd.jupyter.widget-view+json": {
       "model_id": "7a5ef4cfd02a455cbb5067f407793704",
       "version_major": 2,
       "version_minor": 0
      },
      "text/plain": [
       "  0%|          | 0/5 [00:00<?, ?it/s]"
      ]
     },
     "metadata": {},
     "output_type": "display_data"
    },
    {
     "data": {
      "application/vnd.jupyter.widget-view+json": {
       "model_id": "391307c24ae64fc2bd4935a1e234be7c",
       "version_major": 2,
       "version_minor": 0
      },
      "text/plain": [
       "  0%|          | 0/7 [00:00<?, ?it/s]"
      ]
     },
     "metadata": {},
     "output_type": "display_data"
    },
    {
     "data": {
      "application/vnd.jupyter.widget-view+json": {
       "model_id": "cfef9a92c8364a1986bf0234852cc323",
       "version_major": 2,
       "version_minor": 0
      },
      "text/plain": [
       "  0%|          | 0/1 [00:00<?, ?it/s]"
      ]
     },
     "metadata": {},
     "output_type": "display_data"
    },
    {
     "data": {
      "application/vnd.jupyter.widget-view+json": {
       "model_id": "652e2de5327f47e38ab5322fb372958a",
       "version_major": 2,
       "version_minor": 0
      },
      "text/plain": [
       "  0%|          | 0/7 [00:00<?, ?it/s]"
      ]
     },
     "metadata": {},
     "output_type": "display_data"
    },
    {
     "data": {
      "application/vnd.jupyter.widget-view+json": {
       "model_id": "eb2687e6b571419aa308aa25e4996034",
       "version_major": 2,
       "version_minor": 0
      },
      "text/plain": [
       "  0%|          | 0/3 [00:00<?, ?it/s]"
      ]
     },
     "metadata": {},
     "output_type": "display_data"
    },
    {
     "data": {
      "application/vnd.jupyter.widget-view+json": {
       "model_id": "a4c158c5d31d4aef8717672831df537e",
       "version_major": 2,
       "version_minor": 0
      },
      "text/plain": [
       "  0%|          | 0/12 [00:00<?, ?it/s]"
      ]
     },
     "metadata": {},
     "output_type": "display_data"
    },
    {
     "data": {
      "application/vnd.jupyter.widget-view+json": {
       "model_id": "c7b2e262aa794dd48316cb51a10427e8",
       "version_major": 2,
       "version_minor": 0
      },
      "text/plain": [
       "  0%|          | 0/8 [00:00<?, ?it/s]"
      ]
     },
     "metadata": {},
     "output_type": "display_data"
    },
    {
     "data": {
      "application/vnd.jupyter.widget-view+json": {
       "model_id": "6c2d0ca528c641a29169332933d220ee",
       "version_major": 2,
       "version_minor": 0
      },
      "text/plain": [
       "  0%|          | 0/5 [00:00<?, ?it/s]"
      ]
     },
     "metadata": {},
     "output_type": "display_data"
    },
    {
     "data": {
      "application/vnd.jupyter.widget-view+json": {
       "model_id": "2adcf88afece4484aa96bdb81ce6e716",
       "version_major": 2,
       "version_minor": 0
      },
      "text/plain": [
       "  0%|          | 0/5 [00:00<?, ?it/s]"
      ]
     },
     "metadata": {},
     "output_type": "display_data"
    },
    {
     "data": {
      "application/vnd.jupyter.widget-view+json": {
       "model_id": "e3dc9a0e79c84c9a9c53386aac73d659",
       "version_major": 2,
       "version_minor": 0
      },
      "text/plain": [
       "  0%|          | 0/6 [00:00<?, ?it/s]"
      ]
     },
     "metadata": {},
     "output_type": "display_data"
    },
    {
     "data": {
      "application/vnd.jupyter.widget-view+json": {
       "model_id": "883b31c82cb848c4a6d5b74a1a127254",
       "version_major": 2,
       "version_minor": 0
      },
      "text/plain": [
       "  0%|          | 0/5 [00:00<?, ?it/s]"
      ]
     },
     "metadata": {},
     "output_type": "display_data"
    },
    {
     "data": {
      "application/vnd.jupyter.widget-view+json": {
       "model_id": "5eb22750fea84dd1a443aa5271794361",
       "version_major": 2,
       "version_minor": 0
      },
      "text/plain": [
       "  0%|          | 0/15 [00:00<?, ?it/s]"
      ]
     },
     "metadata": {},
     "output_type": "display_data"
    },
    {
     "data": {
      "application/vnd.jupyter.widget-view+json": {
       "model_id": "c3221f80720c460b987464096dbab752",
       "version_major": 2,
       "version_minor": 0
      },
      "text/plain": [
       "  0%|          | 0/11 [00:00<?, ?it/s]"
      ]
     },
     "metadata": {},
     "output_type": "display_data"
    },
    {
     "data": {
      "application/vnd.jupyter.widget-view+json": {
       "model_id": "7f2ee1257d024e6e93301169792fac49",
       "version_major": 2,
       "version_minor": 0
      },
      "text/plain": [
       "  0%|          | 0/8 [00:00<?, ?it/s]"
      ]
     },
     "metadata": {},
     "output_type": "display_data"
    },
    {
     "data": {
      "application/vnd.jupyter.widget-view+json": {
       "model_id": "f5b66e38cfd94ad89dab2d39dae4d249",
       "version_major": 2,
       "version_minor": 0
      },
      "text/plain": [
       "  0%|          | 0/9 [00:00<?, ?it/s]"
      ]
     },
     "metadata": {},
     "output_type": "display_data"
    },
    {
     "data": {
      "application/vnd.jupyter.widget-view+json": {
       "model_id": "679c1143741048d3ac57c9ed37dbfa4b",
       "version_major": 2,
       "version_minor": 0
      },
      "text/plain": [
       "  0%|          | 0/5 [00:00<?, ?it/s]"
      ]
     },
     "metadata": {},
     "output_type": "display_data"
    },
    {
     "data": {
      "application/vnd.jupyter.widget-view+json": {
       "model_id": "7755b7b234d84560899cb62ab3e25f87",
       "version_major": 2,
       "version_minor": 0
      },
      "text/plain": [
       "  0%|          | 0/14 [00:00<?, ?it/s]"
      ]
     },
     "metadata": {},
     "output_type": "display_data"
    },
    {
     "data": {
      "application/vnd.jupyter.widget-view+json": {
       "model_id": "74df5dc1b91c48d5a0dd7e35f1010e6e",
       "version_major": 2,
       "version_minor": 0
      },
      "text/plain": [
       "  0%|          | 0/15 [00:00<?, ?it/s]"
      ]
     },
     "metadata": {},
     "output_type": "display_data"
    },
    {
     "data": {
      "application/vnd.jupyter.widget-view+json": {
       "model_id": "80b65efb6019471aa6c778f2c588baef",
       "version_major": 2,
       "version_minor": 0
      },
      "text/plain": [
       "  0%|          | 0/29 [00:00<?, ?it/s]"
      ]
     },
     "metadata": {},
     "output_type": "display_data"
    },
    {
     "data": {
      "application/vnd.jupyter.widget-view+json": {
       "model_id": "8d9a490624034e13a841cf6a74f5432f",
       "version_major": 2,
       "version_minor": 0
      },
      "text/plain": [
       "  0%|          | 0/10 [00:00<?, ?it/s]"
      ]
     },
     "metadata": {},
     "output_type": "display_data"
    },
    {
     "data": {
      "application/vnd.jupyter.widget-view+json": {
       "model_id": "b89cb8035dee402abdb84fe7c85badd0",
       "version_major": 2,
       "version_minor": 0
      },
      "text/plain": [
       "  0%|          | 0/26 [00:00<?, ?it/s]"
      ]
     },
     "metadata": {},
     "output_type": "display_data"
    },
    {
     "data": {
      "application/vnd.jupyter.widget-view+json": {
       "model_id": "204dc75186554ca3ba48d4d784cef5ca",
       "version_major": 2,
       "version_minor": 0
      },
      "text/plain": [
       "  0%|          | 0/8 [00:00<?, ?it/s]"
      ]
     },
     "metadata": {},
     "output_type": "display_data"
    },
    {
     "data": {
      "application/vnd.jupyter.widget-view+json": {
       "model_id": "7f5ff02f9ab2401899d44cf0e5962625",
       "version_major": 2,
       "version_minor": 0
      },
      "text/plain": [
       "  0%|          | 0/14 [00:00<?, ?it/s]"
      ]
     },
     "metadata": {},
     "output_type": "display_data"
    },
    {
     "data": {
      "application/vnd.jupyter.widget-view+json": {
       "model_id": "37d50b0c437f44b695cd4ccc719b5498",
       "version_major": 2,
       "version_minor": 0
      },
      "text/plain": [
       "  0%|          | 0/9 [00:00<?, ?it/s]"
      ]
     },
     "metadata": {},
     "output_type": "display_data"
    },
    {
     "data": {
      "application/vnd.jupyter.widget-view+json": {
       "model_id": "c78e38cf75f74ec2a7d2dd9e1cecf8cd",
       "version_major": 2,
       "version_minor": 0
      },
      "text/plain": [
       "  0%|          | 0/11 [00:00<?, ?it/s]"
      ]
     },
     "metadata": {},
     "output_type": "display_data"
    },
    {
     "data": {
      "application/vnd.jupyter.widget-view+json": {
       "model_id": "6028d2e63a514e3dbc7c0565e11616b9",
       "version_major": 2,
       "version_minor": 0
      },
      "text/plain": [
       "  0%|          | 0/13 [00:00<?, ?it/s]"
      ]
     },
     "metadata": {},
     "output_type": "display_data"
    },
    {
     "data": {
      "application/vnd.jupyter.widget-view+json": {
       "model_id": "7e79929278ae440b883f36988dadc185",
       "version_major": 2,
       "version_minor": 0
      },
      "text/plain": [
       "  0%|          | 0/18 [00:00<?, ?it/s]"
      ]
     },
     "metadata": {},
     "output_type": "display_data"
    },
    {
     "data": {
      "application/vnd.jupyter.widget-view+json": {
       "model_id": "267b30637fdc43a5a390745f0f529cfa",
       "version_major": 2,
       "version_minor": 0
      },
      "text/plain": [
       "  0%|          | 0/21 [00:00<?, ?it/s]"
      ]
     },
     "metadata": {},
     "output_type": "display_data"
    },
    {
     "data": {
      "application/vnd.jupyter.widget-view+json": {
       "model_id": "06f0ce7a0d304d1aa328d9b8574e2338",
       "version_major": 2,
       "version_minor": 0
      },
      "text/plain": [
       "  0%|          | 0/17 [00:00<?, ?it/s]"
      ]
     },
     "metadata": {},
     "output_type": "display_data"
    },
    {
     "data": {
      "application/vnd.jupyter.widget-view+json": {
       "model_id": "bf85bcc48fe8458a97d9f690b7428424",
       "version_major": 2,
       "version_minor": 0
      },
      "text/plain": [
       "  0%|          | 0/28 [00:00<?, ?it/s]"
      ]
     },
     "metadata": {},
     "output_type": "display_data"
    },
    {
     "data": {
      "application/vnd.jupyter.widget-view+json": {
       "model_id": "5aad5c930462419f9b231dc78457c4db",
       "version_major": 2,
       "version_minor": 0
      },
      "text/plain": [
       "  0%|          | 0/41 [00:00<?, ?it/s]"
      ]
     },
     "metadata": {},
     "output_type": "display_data"
    },
    {
     "data": {
      "application/vnd.jupyter.widget-view+json": {
       "model_id": "d810f1394bed41529c6bf359205f3378",
       "version_major": 2,
       "version_minor": 0
      },
      "text/plain": [
       "  0%|          | 0/38 [00:00<?, ?it/s]"
      ]
     },
     "metadata": {},
     "output_type": "display_data"
    },
    {
     "data": {
      "application/vnd.jupyter.widget-view+json": {
       "model_id": "7ab25d8e4751401a9672b6dc5c7742e7",
       "version_major": 2,
       "version_minor": 0
      },
      "text/plain": [
       "  0%|          | 0/17 [00:00<?, ?it/s]"
      ]
     },
     "metadata": {},
     "output_type": "display_data"
    },
    {
     "data": {
      "application/vnd.jupyter.widget-view+json": {
       "model_id": "1a1af2db600b46f0bb0931af9b52c52c",
       "version_major": 2,
       "version_minor": 0
      },
      "text/plain": [
       "  0%|          | 0/28 [00:00<?, ?it/s]"
      ]
     },
     "metadata": {},
     "output_type": "display_data"
    },
    {
     "data": {
      "application/vnd.jupyter.widget-view+json": {
       "model_id": "7bca667a09f14850be2ac6b3daf272ea",
       "version_major": 2,
       "version_minor": 0
      },
      "text/plain": [
       "  0%|          | 0/14 [00:00<?, ?it/s]"
      ]
     },
     "metadata": {},
     "output_type": "display_data"
    },
    {
     "data": {
      "application/vnd.jupyter.widget-view+json": {
       "model_id": "bf50c00e679440939d0d69acd53fb22e",
       "version_major": 2,
       "version_minor": 0
      },
      "text/plain": [
       "  0%|          | 0/21 [00:00<?, ?it/s]"
      ]
     },
     "metadata": {},
     "output_type": "display_data"
    },
    {
     "data": {
      "application/vnd.jupyter.widget-view+json": {
       "model_id": "6488ac206d364c6ab0ee332c0860cfee",
       "version_major": 2,
       "version_minor": 0
      },
      "text/plain": [
       "  0%|          | 0/28 [00:00<?, ?it/s]"
      ]
     },
     "metadata": {},
     "output_type": "display_data"
    },
    {
     "data": {
      "application/vnd.jupyter.widget-view+json": {
       "model_id": "a2f3ec0392aa48aea94f058bb183b24f",
       "version_major": 2,
       "version_minor": 0
      },
      "text/plain": [
       "  0%|          | 0/69 [00:00<?, ?it/s]"
      ]
     },
     "metadata": {},
     "output_type": "display_data"
    },
    {
     "name": "stdout",
     "output_type": "stream",
     "text": [
      "Synapsse Results:\n",
      "Total Number of Synapses = 6716\n",
      "n_valid_syn_ids_presyn = 35\n",
      "n_errored_syn_ids_presyn = 41\n",
      "n_valid_syn_ids_postsyn = 6639\n",
      "n_errored_syn_ids_postsyn = 1\n",
      "Synapsse Results:\n",
      "Total Number of Synapses = 6716\n",
      "n_valid_syn_ids_presyn = 35\n",
      "n_errored_syn_ids_presyn = 41\n",
      "n_valid_syn_ids_postsyn = 6639\n",
      "n_errored_syn_ids_postsyn = 1\n"
     ]
    },
    {
     "data": {
      "application/vnd.jupyter.widget-view+json": {
       "model_id": "f41b54e0e83044cda0ad796523b42dc2",
       "version_major": 2,
       "version_minor": 0
      },
      "text/plain": [
       "  0%|          | 0/20 [00:00<?, ?it/s]"
      ]
     },
     "metadata": {},
     "output_type": "display_data"
    },
    {
     "data": {
      "application/vnd.jupyter.widget-view+json": {
       "model_id": "7551d9eeeb49421ea58ed6cd6c6b6e6e",
       "version_major": 2,
       "version_minor": 0
      },
      "text/plain": [
       "  0%|          | 0/3 [00:00<?, ?it/s]"
      ]
     },
     "metadata": {},
     "output_type": "display_data"
    },
    {
     "name": "stdout",
     "output_type": "stream",
     "text": [
      "Synapsse Results:\n",
      "Total Number of Synapses = 6716\n",
      "n_valid_syn_ids_presyn = 35\n",
      "n_errored_syn_ids_presyn = 41\n",
      "n_valid_syn_ids_postsyn = 6639\n",
      "n_errored_syn_ids_postsyn = 1\n",
      "Synapsse Results:\n",
      "Total Number of Synapses = 6716\n",
      "n_valid_syn_ids_presyn = 35\n",
      "n_errored_syn_ids_presyn = 41\n",
      "n_valid_syn_ids_postsyn = 6639\n",
      "n_errored_syn_ids_postsyn = 1\n"
     ]
    },
    {
     "data": {
      "application/vnd.jupyter.widget-view+json": {
       "model_id": "eaecc191d42542f88c3c09542475c85e",
       "version_major": 2,
       "version_minor": 0
      },
      "text/plain": [
       "  0%|          | 0/20 [00:00<?, ?it/s]"
      ]
     },
     "metadata": {},
     "output_type": "display_data"
    },
    {
     "data": {
      "application/vnd.jupyter.widget-view+json": {
       "model_id": "0d984df936e74175b400f1df51ea9df1",
       "version_major": 2,
       "version_minor": 0
      },
      "text/plain": [
       "  0%|          | 0/3 [00:00<?, ?it/s]"
      ]
     },
     "metadata": {},
     "output_type": "display_data"
    },
    {
     "name": "stdout",
     "output_type": "stream",
     "text": [
      "\n",
      "\n",
      "len(branch_attr_keys) = 23\n",
      "Saving Neuorn in suppress_output mode...please wait\n",
      "Saved File at location: /mnt/dj-stor01/platinum/minnie65/02/decomposition/864691136537477538_0_25_full_axon\n",
      "Save time = 394.29128766059875\n",
      "\n",
      "\n",
      " ***------ Total time for 864691136537477538 = 842.4909665584564 ------ ***\n",
      "\n",
      "\n",
      "\n",
      "---- Working on Neuron 864691135491233631 ----\n",
      "Decompressing Neuron in minimal output mode...please wait\n",
      "Pulled from Table Decomposition so setting split_index = 0\n",
      "Dont need spine recalculation\n",
      "Number of Neurons found = 1\n",
      "\n",
      "Part 1: Axon like branchese \n",
      "{'L1': array([ 0,  6,  9, 10, 11, 12]), 'L2': array([ 0,  1,  2,  3,  4,  5,  6,  7,  8,  9, 10, 11, 12, 13, 14, 15, 16,\n",
      "       17, 18, 19, 20, 21, 22, 23, 24, 25, 26, 27, 28, 29, 30, 31, 32])}\n",
      "Limb L0 soma angle: 18.41 \n",
      "Limb L1 soma angle: 111.14 \n",
      "Limb L2 soma angle: 162.19 \n",
      "Limb L3 soma angle: 165.04 \n",
      "Limb L4 soma angle: 69.4 \n",
      "Limb L5 soma angle: 99.31 \n",
      "\n",
      "Part 2: possible_axon_limbs = [1, 2, 3, 5]\n",
      "\n",
      "Phase 2: Working on Limb L1\n",
      "nodes_to_eliminate = [7 8]\n",
      "\n",
      "Phase 2: Working on Limb L2\n",
      "nodes_to_eliminate = []\n",
      "\n",
      "Phase 2: Working on Limb L3\n",
      "nodes_to_eliminate = []\n",
      "\n",
      "Phase 2: Working on Limb L5\n",
      "nodes_to_eliminate = []\n",
      "\n",
      "----Working on Limb L1-----\n",
      "No endpoints were eliminated so don't need to add back any candidates\n",
      "\n",
      "----Working on Limb L2-----\n",
      "No nodes were eliminated so don't need to add back any candidates\n",
      "\n",
      "----Working on Limb L3-----\n",
      "No nodes were eliminated so don't need to add back any candidates\n",
      "\n",
      "----Working on Limb L5-----\n",
      "No nodes were eliminated so don't need to add back any candidates\n",
      "Final Candidates\n",
      "\n",
      "Limb 1\n",
      "Candidate 0 (gold): array([2])\n",
      "Candidate 1 (red): array([1])\n",
      "Candidate 2 (gold): array([ 0,  3,  4,  5,  6,  9, 10, 11, 12])\n",
      "\n",
      "Limb 2\n",
      "Candidate 0 (olive): array([ 0,  1,  2,  3,  4,  5,  6,  7,  8,  9, 10, 11, 12, 13, 14, 15, 16,\n",
      "       17, 18, 19, 20, 21, 22, 23, 24, 25, 26, 27, 28, 29, 30, 31, 32])\n",
      "\n",
      "Limb 3\n",
      "Candidate 0 (red): array([0, 1, 2])\n",
      "\n",
      "Limb 5\n",
      "Candidate 0 (palegreen): array([0])\n",
      "Part 3: axon_subgraph_candidates = {1: [[2], [1], [0, 3, 4, 5, 6, 9, 10, 11, 12]], 2: [[0, 1, 2, 3, 4, 5, 6, 7, 8, 9, 10, 11, 12, 13, 14, 15, 16, 17, 18, 19, 20, 21, 22, 23, 24, 25, 26, 27, 28, 29, 30, 31, 32]], 3: [[0, 1, 2]], 5: [[0]]}\n",
      "\n",
      "\n",
      " --- Working on limb 1, candidate # 0\n",
      "0 out of 1 branches are axons\n",
      "Axon percentage = 0.0\n",
      "Not adding candidate no axon branches detected \n",
      "\n",
      "\n",
      " --- Working on limb 1, candidate # 1\n",
      "0 out of 1 branches are axons\n",
      "Axon percentage = 0.0\n",
      "Not adding candidate no axon branches detected \n",
      "\n",
      "\n",
      " --- Working on limb 1, candidate # 2\n",
      "6 out of 9 branches are axons\n",
      "Axon percentage = 0.6666666666666666\n",
      "curr_axon_angle_threshold = 120\n",
      "candidate_nodes = [ 0  3  4  5  6  7  8  9 10 11 12]\n",
      "non_axon_branches_on_subgraph = [3 4 5 7 8]\n",
      "endnodes_to_test = []\n",
      "candidate_angles,restr_skels = (None, None)\n",
      "Not adding candidate because no angles (None) passed the threhold 120 \n",
      "\n",
      "\n",
      " --- Working on limb 2, candidate # 0\n",
      "33 out of 33 branches are axons\n",
      "Axon percentage = 1.0\n",
      "curr_axon_angle_threshold = 95\n",
      "candidate_nodes = [ 0  1  2  3  4  5  6  7  8  9 10 11 12 13 14 15 16 17 18 19 20 21 22 23\n",
      " 24 25 26 27 28 29 30 31 32]\n",
      "non_axon_branches_on_subgraph = []\n",
      "endnodes_to_test = [2825]\n",
      "Skeleton paths distances = [24996.16215741]\n",
      "Filtered indexes = [0]\n",
      "len(filtered_skeletons) = 1\n",
      "sk_angles = [170.97923244]\n",
      "candidate_angles,restr_skels = (array([170.97923244]), [array([[[824034.18180653, 637670.70060311, 823205.8739826 ],\n",
      "        [824032.47703976, 637768.13004662, 823228.33722608]],\n",
      "\n",
      "       [[824032.47703976, 637768.13004662, 823228.33722608],\n",
      "        [824029.37519273, 637865.87937803, 823249.17428566]],\n",
      "\n",
      "       [[824029.37519273, 637865.87937803, 823249.17428566],\n",
      "        [824025.89759997, 637963.71474352, 823269.57398194]],\n",
      "\n",
      "       [[824025.89759997, 637963.71474352, 823269.57398194],\n",
      "        [824021.20065078, 638061.89592532, 823287.9409677 ]],\n",
      "\n",
      "       [[824021.20065078, 638061.89592532, 823287.9409677 ],\n",
      "        [824016.28099948, 638160.14026668, 823305.93670113]],\n",
      "\n",
      "       [[824016.28099948, 638160.14026668, 823305.93670113],\n",
      "        [824010.68480704, 638258.67616046, 823322.02918528]],\n",
      "\n",
      "       [[824010.68480704, 638258.67616046, 823322.02918528],\n",
      "        [824005.02614562, 638357.24122934, 823337.93179753]],\n",
      "\n",
      "       [[824005.02614562, 638357.24122934, 823337.93179753],\n",
      "        [823999.51142733, 638456.00587856, 823352.59917448]],\n",
      "\n",
      "       [[823999.51142733, 638456.00587856, 823352.59917448],\n",
      "        [823994.15184577, 638554.78186625, 823367.24272721]],\n",
      "\n",
      "       [[823994.15184577, 638554.78186625, 823367.24272721],\n",
      "        [823989.70380746, 638653.62447588, 823381.74629498]],\n",
      "\n",
      "       [[823989.70380746, 638653.62447588, 823381.74629498],\n",
      "        [823985.91087123, 638752.44755855, 823396.53186078]],\n",
      "\n",
      "       [[823985.91087123, 638752.44755855, 823396.53186078],\n",
      "        [823983.40353862, 638851.23232061, 823411.87083301]],\n",
      "\n",
      "       [[823983.40353862, 638851.23232061, 823411.87083301],\n",
      "        [823982.49785101, 638949.8976495 , 823428.05816285]],\n",
      "\n",
      "       [[823982.49785101, 638949.8976495 , 823428.05816285],\n",
      "        [823982.71015318, 639048.47961096, 823444.83766832]],\n",
      "\n",
      "       [[823982.71015318, 639048.47961096, 823444.83766832],\n",
      "        [823985.91515241, 639146.76744608, 823462.94566634]],\n",
      "\n",
      "       [[823985.91515241, 639146.76744608, 823462.94566634],\n",
      "        [823990.3344131 , 639244.92456799, 823481.4625863 ]],\n",
      "\n",
      "       [[823990.3344131 , 639244.92456799, 823481.4625863 ],\n",
      "        [823997.74273983, 639342.74773509, 823500.84672088]],\n",
      "\n",
      "       [[823997.74273983, 639342.74773509, 823500.84672088],\n",
      "        [824007.44557945, 639440.27597415, 823520.58620183]],\n",
      "\n",
      "       [[824007.44557945, 639440.27597415, 823520.58620183],\n",
      "        [824019.01248933, 639537.56461264, 823540.6143674 ]],\n",
      "\n",
      "       [[824019.01248933, 639537.56461264, 823540.6143674 ],\n",
      "        [824034.35881962, 639634.25080975, 823560.95799931]],\n",
      "\n",
      "       [[824034.35881962, 639634.25080975, 823560.95799931],\n",
      "        [824050.93534773, 639730.71364405, 823581.39259613]],\n",
      "\n",
      "       [[824050.93534773, 639730.71364405, 823581.39259613],\n",
      "        [824071.51386205, 639826.36069127, 823602.08479531]],\n",
      "\n",
      "       [[824071.51386205, 639826.36069127, 823602.08479531],\n",
      "        [824093.91728121, 639921.54572252, 823622.86992301]],\n",
      "\n",
      "       [[824093.91728121, 639921.54572252, 823622.86992301],\n",
      "        [824119.33882508, 640015.96664719, 823643.80874084]],\n",
      "\n",
      "       [[824119.33882508, 640015.96664719, 823643.80874084],\n",
      "        [824147.84646164, 640109.46481591, 823664.75650015]],\n",
      "\n",
      "       [[824147.84646164, 640109.46481591, 823664.75650015],\n",
      "        [824178.31674832, 640202.37614321, 823685.70994594]],\n",
      "\n",
      "       [[824178.31674832, 640202.37614321, 823685.70994594],\n",
      "        [824213.22444633, 640293.78660484, 823706.25355543]],\n",
      "\n",
      "       [[824213.22444633, 640293.78660484, 823706.25355543],\n",
      "        [824249.59399243, 640384.67664569, 823726.56242425]],\n",
      "\n",
      "       [[824249.59399243, 640384.67664569, 823726.56242425],\n",
      "        [824290.22193048, 640473.97912977, 823745.91279854]],\n",
      "\n",
      "       [[824290.22193048, 640473.97912977, 823745.91279854],\n",
      "        [824333.03102745, 640562.39619272, 823764.43778856]],\n",
      "\n",
      "       [[824333.03102745, 640562.39619272, 823764.43778856],\n",
      "        [824378.16368403, 640649.87002827, 823782.08350769]],\n",
      "\n",
      "       [[824378.16368403, 640649.87002827, 823782.08350769],\n",
      "        [824426.38648096, 640735.99545586, 823798.04202955]],\n",
      "\n",
      "       [[824426.38648096, 640735.99545586, 823798.04202955],\n",
      "        [824475.73786844, 640821.62002442, 823813.23833782]],\n",
      "\n",
      "       [[824475.73786844, 640821.62002442, 823813.23833782],\n",
      "        [824526.80081676, 640906.47490997, 823827.10281426]],\n",
      "\n",
      "       [[824526.80081676, 640906.47490997, 823827.10281426],\n",
      "        [824578.46450718, 640991.12256686, 823839.9484523 ]],\n",
      "\n",
      "       [[824578.46450718, 640991.12256686, 823839.9484523 ],\n",
      "        [824630.27509528, 641075.77251156, 823852.18560369]],\n",
      "\n",
      "       [[824630.27509528, 641075.77251156, 823852.18560369],\n",
      "        [824681.38144714, 641160.99175607, 823863.40260705]],\n",
      "\n",
      "       [[824681.38144714, 641160.99175607, 823863.40260705],\n",
      "        [824730.86012669, 641247.24290749, 823873.87644702]],\n",
      "\n",
      "       [[824730.86012669, 641247.24290749, 823873.87644702],\n",
      "        [824778.92051302, 641334.369331  , 823883.73301099]],\n",
      "\n",
      "       [[824778.92051302, 641334.369331  , 823883.73301099],\n",
      "        [824822.46613909, 641424.01309975, 823891.96545744]],\n",
      "\n",
      "       [[824822.46613909, 641424.01309975, 823891.96545744],\n",
      "        [824862.31584335, 641515.38907593, 823898.81330389]],\n",
      "\n",
      "       [[824862.31584335, 641515.38907593, 823898.81330389],\n",
      "        [824898.85781993, 641608.29295905, 823904.41077973]],\n",
      "\n",
      "       [[824898.85781993, 641608.29295905, 823904.41077973],\n",
      "        [824927.5936853 , 641704.04838808, 823906.67966775]],\n",
      "\n",
      "       [[824927.5936853 , 641704.04838808, 823906.67966775],\n",
      "        [824952.33643312, 641800.82949878, 823906.8697792 ]],\n",
      "\n",
      "       [[824952.33643312, 641800.82949878, 823906.8697792 ],\n",
      "        [824973.11255343, 641898.62948687, 823904.99490452]],\n",
      "\n",
      "       [[824973.11255343, 641898.62948687, 823904.99490452],\n",
      "        [824987.69146522, 641997.34530109, 823898.64963241]],\n",
      "\n",
      "       [[824987.69146522, 641997.34530109, 823898.64963241],\n",
      "        [825000.4660446 , 642096.10672876, 823890.08336265]],\n",
      "\n",
      "       [[825000.4660446 , 642096.10672876, 823890.08336265],\n",
      "        [825010.97131243, 642194.88099557, 823878.53851257]],\n",
      "\n",
      "       [[825010.97131243, 642194.88099557, 823878.53851257],\n",
      "        [825020.87016051, 642293.07300021, 823862.52188455]],\n",
      "\n",
      "       [[825020.87016051, 642293.07300021, 823862.52188455],\n",
      "        [825031.24685281, 642390.79252362, 823844.18516142]],\n",
      "\n",
      "       [[825031.24685281, 642390.79252362, 823844.18516142],\n",
      "        [825043.13586465, 642487.57480505, 823822.00766386]],\n",
      "\n",
      "       [[825043.13586465, 642487.57480505, 823822.00766386],\n",
      "        [825057.73219926, 642583.07335477, 823796.34978018]],\n",
      "\n",
      "       [[825057.73219926, 642583.07335477, 823796.34978018],\n",
      "        [825073.88423906, 642677.82414764, 823768.8197071 ]],\n",
      "\n",
      "       [[825073.88423906, 642677.82414764, 823768.8197071 ],\n",
      "        [825093.52840054, 642770.84004464, 823737.80116709]],\n",
      "\n",
      "       [[825093.52840054, 642770.84004464, 823737.80116709],\n",
      "        [825114.42886657, 642863.13174541, 823705.53242785]],\n",
      "\n",
      "       [[825114.42886657, 642863.13174541, 823705.53242785],\n",
      "        [825136.74849376, 642954.6053713 , 823671.85142419]],\n",
      "\n",
      "       [[825136.74849376, 642954.6053713 , 823671.85142419],\n",
      "        [825159.63995919, 643045.52024013, 823637.0680055 ]],\n",
      "\n",
      "       [[825159.63995919, 643045.52024013, 823637.0680055 ],\n",
      "        [825182.71064227, 643136.25999102, 823601.93908308]],\n",
      "\n",
      "       [[825182.71064227, 643136.25999102, 823601.93908308],\n",
      "        [825204.68141247, 643227.07784022, 823566.31074426]],\n",
      "\n",
      "       [[825204.68141247, 643227.07784022, 823566.31074426],\n",
      "        [825226.28826964, 643317.98165109, 823530.68971575]],\n",
      "\n",
      "       [[825226.28826964, 643317.98165109, 823530.68971575],\n",
      "        [825245.75883663, 643409.4092715 , 823495.16666343]],\n",
      "\n",
      "       [[825245.75883663, 643409.4092715 , 823495.16666343],\n",
      "        [825264.48252354, 643501.02652433, 823459.75846923]],\n",
      "\n",
      "       [[825264.48252354, 643501.02652433, 823459.75846923],\n",
      "        [825280.7916181 , 643593.2568407 , 823424.72160043]],\n",
      "\n",
      "       [[825280.7916181 , 643593.2568407 , 823424.72160043],\n",
      "        [825296.19694493, 643685.70682337, 823389.88845469]],\n",
      "\n",
      "       [[825296.19694493, 643685.70682337, 823389.88845469],\n",
      "        [825309.28085537, 643778.72104051, 823355.57859173]],\n",
      "\n",
      "       [[825309.28085537, 643778.72104051, 823355.57859173],\n",
      "        [825321.56608345, 643871.92655556, 823321.52217855]],\n",
      "\n",
      "       [[825321.56608345, 643871.92655556, 823321.52217855],\n",
      "        [825331.72589938, 643965.64114269, 823288.14023285]],\n",
      "\n",
      "       [[825331.72589938, 643965.64114269, 823288.14023285],\n",
      "        [825341.33026012, 644059.48955227, 823254.99143211]],\n",
      "\n",
      "       [[825341.33026012, 644059.48955227, 823254.99143211],\n",
      "        [825348.90811241, 644153.82619622, 823222.69323152]],\n",
      "\n",
      "       [[825348.90811241, 644153.82619622, 823222.69323152],\n",
      "        [825356.22068596, 644248.21999523, 823190.51227432]],\n",
      "\n",
      "       [[825356.22068596, 644248.21999523, 823190.51227432],\n",
      "        [825361.33851552, 644343.08665798, 823159.30131281]],\n",
      "\n",
      "       [[825361.33851552, 644343.08665798, 823159.30131281],\n",
      "        [825366.45634507, 644437.95332074, 823128.0903513 ]],\n",
      "\n",
      "       [[825366.45634507, 644437.95332074, 823128.0903513 ],\n",
      "        [825369.0196833 , 644533.17296439, 823097.65462621]],\n",
      "\n",
      "       [[825369.0196833 , 644533.17296439, 823097.65462621],\n",
      "        [825371.47190824, 644628.40796173, 823067.25262176]],\n",
      "\n",
      "       [[825371.47190824, 644628.40796173, 823067.25262176],\n",
      "        [825371.47988845, 644723.71672109, 823037.01095846]],\n",
      "\n",
      "       [[825371.47988845, 644723.71672109, 823037.01095846],\n",
      "        [825370.80323989, 644819.04614107, 823006.81420644]],\n",
      "\n",
      "       [[825370.80323989, 644819.04614107, 823006.81420644],\n",
      "        [825367.96124945, 644914.20083753, 822976.24900413]],\n",
      "\n",
      "       [[825367.96124945, 644914.20083753, 822976.24900413],\n",
      "        [825363.65849084, 645009.2376632 , 822945.43524038]],\n",
      "\n",
      "       [[825363.65849084, 645009.2376632 , 822945.43524038],\n",
      "        [825357.71271607, 645103.96554961, 822914.01781631]],\n",
      "\n",
      "       [[825357.71271607, 645103.96554961, 822914.01781631],\n",
      "        [825349.57193979, 645198.28070599, 822881.79392704]],\n",
      "\n",
      "       [[825349.57193979, 645198.28070599, 822881.79392704],\n",
      "        [825340.41978245, 645292.29630926, 822849.02378835]],\n",
      "\n",
      "       [[825340.41978245, 645292.29630926, 822849.02378835],\n",
      "        [825328.81455146, 645385.58535572, 822814.92873849]],\n",
      "\n",
      "       [[825328.81455146, 645385.58535572, 822814.92873849],\n",
      "        [825316.73221274, 645478.67449666, 822780.4778748 ]],\n",
      "\n",
      "       [[825316.73221274, 645478.67449666, 822780.4778748 ],\n",
      "        [825302.75338744, 645570.96902014, 822744.61266355]],\n",
      "\n",
      "       [[825302.75338744, 645570.96902014, 822744.61266355],\n",
      "        [825288.66397858, 645663.1793388 , 822708.57793865]],\n",
      "\n",
      "       [[825288.66397858, 645663.1793388 , 822708.57793865],\n",
      "        [825274.0123979 , 645754.96158683, 822671.68146007]],\n",
      "\n",
      "       [[825274.0123979 , 645754.96158683, 822671.68146007],\n",
      "        [825259.61814112, 645846.80462089, 822634.83919804]],\n",
      "\n",
      "       [[825259.61814112, 645846.80462089, 822634.83919804],\n",
      "        [825246.31956385, 645938.90648059, 822598.22778885]],\n",
      "\n",
      "       [[825246.31956385, 645938.90648059, 822598.22778885],\n",
      "        [825233.96187597, 646031.34561509, 822562.18683358]],\n",
      "\n",
      "       [[825233.96187597, 646031.34561509, 822562.18683358],\n",
      "        [825223.97942451, 646124.63618591, 822527.58596569]],\n",
      "\n",
      "       [[825223.97942451, 646124.63618591, 822527.58596569],\n",
      "        [825216.0845842 , 646218.67975122, 822494.66699553]],\n",
      "\n",
      "       [[825216.0845842 , 646218.67975122, 822494.66699553],\n",
      "        [825210.83381333, 646313.6770237 , 822463.8782374 ]],\n",
      "\n",
      "       [[825210.83381333, 646313.6770237 , 822463.8782374 ],\n",
      "        [825208.87358637, 646409.74796245, 822436.4230386 ]],\n",
      "\n",
      "       [[825208.87358637, 646409.74796245, 822436.4230386 ],\n",
      "        [825208.72930213, 646506.41142223, 822410.80752132]],\n",
      "\n",
      "       [[825208.72930213, 646506.41142223, 822410.80752132],\n",
      "        [825212.24826117, 646604.14386503, 822390.07431671]],\n",
      "\n",
      "       [[825212.24826117, 646604.14386503, 822390.07431671],\n",
      "        [825216.50430243, 646702.09650537, 822370.44944956]],\n",
      "\n",
      "       [[825216.50430243, 646702.09650537, 822370.44944956],\n",
      "        [825223.06616475, 646800.79890104, 822355.79410749]],\n",
      "\n",
      "       [[825223.06616475, 646800.79890104, 822355.79410749],\n",
      "        [825229.69064027, 646899.62139347, 822342.13138317]],\n",
      "\n",
      "       [[825229.69064027, 646899.62139347, 822342.13138317],\n",
      "        [825236.53729151, 646998.87003542, 822331.99084877]],\n",
      "\n",
      "       [[825236.53729151, 646998.87003542, 822331.99084877],\n",
      "        [825242.77320271, 647098.25580439, 822323.05963111]]])])\n"
     ]
    },
    {
     "name": "stdout",
     "output_type": "stream",
     "text": [
      "base_final_widths = [157.46319827 143.59549718 150.92879347]\n",
      "overall_ais_width = 140.20143371922944\n",
      "ais_width = 150.66249630455943\n",
      "Adding the following branches as true axons: [ 0.  1.  2.  3.  4.  5.  6.  7.  8.  9. 10. 11. 12. 13. 14. 15. 16. 17.\n",
      " 18. 19. 20. 21. 22. 23. 24. 25. 26. 27. 28. 29. 30. 31. 32.]\n",
      "curr_soma_angle = 162.19\n",
      "max_axon_angle = 170.97923244416776\n",
      "Changing to a better axon candidate\n",
      "\n",
      "\n",
      " --- Working on limb 3, candidate # 0\n",
      "0 out of 3 branches are axons\n",
      "Axon percentage = 0.0\n",
      "Not adding candidate no axon branches detected \n",
      "\n",
      "\n",
      " --- Working on limb 5, candidate # 0\n",
      "0 out of 1 branches are axons\n",
      "Axon percentage = 0.0\n",
      "Not adding candidate no axon branches detected \n",
      "Using the best axon approach\n",
      "Using True\n",
      "Limb L2: Axon branches before dendritic path filter = [ 0.  1.  2.  3.  4.  5.  6.  7.  8.  9. 10. 11. 12. 13. 14. 15. 16. 17.\n",
      " 18. 19. 20. 21. 22. 23. 24. 25. 26. 27. 28. 29. 30. 31. 32.]\n",
      "Limb L2: Axon branches AFTER dendritic path filter = [ 0.  1.  2.  3.  4.  5.  6.  7.  8.  9. 10. 11. 12. 13. 14. 15. 16. 17.\n",
      " 18. 19. 20. 21. 22. 23. 24. 25. 26. 27. 28. 29. 30. 31. 32.]\n",
      "\n",
      "\n",
      "Part 4: final_true_axons = {'L2': array([ 0.,  1.,  2.,  3.,  4.,  5.,  6.,  7.,  8.,  9., 10., 11., 12.,\n",
      "       13., 14., 15., 16., 17., 18., 19., 20., 21., 22., 23., 24., 25.,\n",
      "       26., 27., 28., 29., 30., 31., 32.])}\n",
      "\n",
      "--- Working on filter 0:\n",
      "function = dendrite_on_axon_merges\n",
      "function __name__ = filter_away_dendrite_on_axon_merges\n",
      "function arguments = {'use_pre_existing_axon_labels': True}\n",
      "\n",
      "\n",
      "\n",
      "\n",
      "\n",
      " ---- Total time for applying filter: 0.23448491096496582 -----\n",
      "Starting axon branch was the starting node so using border vertices and NOT computing upstream branch\n",
      "upstream_node_to_axon_starting_branch = None\n"
     ]
    },
    {
     "name": "stderr",
     "output_type": "stream",
     "text": [
      "\r",
      "  0%|          | 0/1 [00:00<?, ?it/s]"
     ]
    },
    {
     "name": "stdout",
     "output_type": "stream",
     "text": [
      "root_curr = [825700.4 627791.2 821167.1]\n",
      "Time for preparing soma vertices and root: 0.00036978721618652344\n",
      "invalidation_d = 2000\n",
      "cc_vertex_thresh = 10\n"
     ]
    },
    {
     "data": {
      "application/vnd.jupyter.widget-view+json": {
       "model_id": "de631f4d7f8f4e42847f9d97f404804e",
       "version_major": 2,
       "version_minor": 0
      },
      "text/plain": [
       "  0%|          | 0/36100 [00:00<?, ?it/s]"
      ]
     },
     "metadata": {},
     "output_type": "display_data"
    },
    {
     "name": "stderr",
     "output_type": "stream",
     "text": [
      "100%|██████████| 1/1 [00:01<00:00,  1.30s/it]\n"
     ]
    },
    {
     "name": "stdout",
     "output_type": "stream",
     "text": [
      "meshparty_segment_size = 100\n",
      "Time for 1st pass MP skeletonization: 2.042534828186035\n",
      "branches_touching_root = [10]\n",
      "combining close nodes\n",
      "combine_threshold = 1300\n",
      "length of Graph = 11373\n",
      "After combining close endpoints max(kept_branches_idx) = 105, len(kept_branches_idx) = 100\n",
      "empty_indices % = 0.0\n",
      " conflict_indices % = 0.02363770352757964\n"
     ]
    },
    {
     "data": {
      "application/vnd.jupyter.widget-view+json": {
       "model_id": "97aaa06c923849f78bec7c312f581776",
       "version_major": 2,
       "version_minor": 0
      },
      "text/plain": [
       "  0%|          | 0/50 [00:00<?, ?it/s]"
      ]
     },
     "metadata": {},
     "output_type": "display_data"
    },
    {
     "name": "stdout",
     "output_type": "stream",
     "text": [
      "AFTER face_lookup_resolved_test\n"
     ]
    },
    {
     "data": {
      "application/vnd.jupyter.widget-view+json": {
       "model_id": "a70e3822b5e5405fb92c18f19454aa00",
       "version_major": 2,
       "version_minor": 0
      },
      "text/plain": [
       "  0%|          | 0/100 [00:00<?, ?it/s]"
      ]
     },
     "metadata": {},
     "output_type": "display_data"
    },
    {
     "name": "stdout",
     "output_type": "stream",
     "text": [
      "Decomposing first pass: 11.70278286933899\n",
      "Only Using MeshParty Skeletonization and Mesh Correspondence\n",
      "Another print\n",
      "Divinding into MP and MAP pieces: 0.00018596649169921875\n",
      "Total time for MAP sublimb processing 4.291534423828125e-06\n",
      "---- Working on MP Decomposition #0 ----\n",
      "Using Quicker soma_to_piece_touching_vertices because no MAP and only one sublimb_mesh piece \n",
      "MP filtering soma verts: 0.0002818107604980469\n",
      "Fixing Possible Soma Extension Branch for Sublimb 0\n",
      "Total time for mesh KDTree = 0.2041614055633545\n",
      "sbv[0].reshape(-1,3) = [[825700.4 627791.2 821167.1]]\n",
      "closest_sk_pt_coord BEFORE = [825725.6147817  628115.56126148 821841.91708   ]\n",
      "current_skeleton.shape = (585, 2, 3)\n",
      "node_for_stitch = 585: [825725.6147817  628115.56126148 821841.91708   ]\n",
      "node_for_stitch AFTER = 585: [825725.6147817  628115.56126148 821841.91708   ]\n",
      "possible_node_loc = [122 585]\n",
      "possible_node_loc AFTER = [122 585]\n",
      "curr_shortest_path = [585]\n",
      "Current stitch point was a branch or endpoint\n",
      "change_status for create soma extending pieces = False\n",
      "closest_sk_pt_coord AFTER = [825725.6147817  628115.56126148 821841.91708   ]\n",
      "skipping soma 0 because closest skeleton node was already end node\n",
      "endpoints_must_keep = {0: array([[825725.6147817 , 628115.56126148, 821841.91708   ]])}\n",
      "match_sk_branches = [9]\n",
      "The new branch info was none so skipping \n",
      "\n",
      "No soma extending branch was added for this sublimb even though it had a soma border (means they already existed)\n",
      "MP (because soma touching verts) soma extension add: 9.243909120559692\n",
      "There were not both MAP and MP pieces so skipping the stitch resolving phase\n",
      "Time for decomp of Limb = 23.546664476394653\n",
      "Number of matching vertices = 22\n",
      "Only one endpoint after filtering away the endpoints that are not on the skeleton\n",
      "Using Distance measure skeletal_distance\n",
      "endpoints_must_keep = [[825725.6147817  628115.56126148 821841.91708   ]]\n",
      "Number of end_nodes BEFORE filtering = 55\n",
      "all_single_nodes_to_eliminate = [11]\n"
     ]
    },
    {
     "data": {
      "application/vnd.jupyter.widget-view+json": {
       "model_id": "205b6b72392844d58e1465cbaeb7df7e",
       "version_major": 2,
       "version_minor": 0
      },
      "text/plain": [
       "  0%|          | 0/11 [00:00<?, ?it/s]"
      ]
     },
     "metadata": {},
     "output_type": "display_data"
    },
    {
     "name": "stdout",
     "output_type": "stream",
     "text": [
      "Removed 11 skeletal branches\n"
     ]
    },
    {
     "data": {
      "application/vnd.jupyter.widget-view+json": {
       "model_id": "a5d49d4da84f4a6aaf3c383750c0860b",
       "version_major": 2,
       "version_minor": 0
      },
      "text/plain": [
       "  0%|          | 0/100 [00:00<?, ?it/s]"
      ]
     },
     "metadata": {},
     "output_type": "display_data"
    },
    {
     "name": "stdout",
     "output_type": "stream",
     "text": [
      "72035 72036\n",
      "For marked faces: None\n",
      "empty_indices % = 0.0009995002498750624\n",
      " conflict_indices % = 0.0\n"
     ]
    },
    {
     "data": {
      "application/vnd.jupyter.widget-view+json": {
       "model_id": "25ca3b0dbb9b40c381a6093a34d88e25",
       "version_major": 2,
       "version_minor": 0
      },
      "text/plain": [
       "  0%|          | 0/1 [00:00<?, ?it/s]"
      ]
     },
     "metadata": {},
     "output_type": "display_data"
    },
    {
     "name": "stdout",
     "output_type": "stream",
     "text": [
      "AFTER face_lookup_resolved_test\n"
     ]
    },
    {
     "data": {
      "application/vnd.jupyter.widget-view+json": {
       "model_id": "666f5dc099954140b60052ce1832a7c9",
       "version_major": 2,
       "version_minor": 0
      },
      "text/plain": [
       "  0%|          | 0/79 [00:00<?, ?it/s]"
      ]
     },
     "metadata": {},
     "output_type": "display_data"
    },
    {
     "name": "stdout",
     "output_type": "stream",
     "text": [
      "Limb Correspondence before stitching = 79\n",
      "Limb Correspondence AFTER stitching = 79\n",
      "Upstream node was None so don't have to adjust\n",
      "concept_network_dict = {0: [<networkx_utils.GraphOrderedEdges object at 0x7f3ccf810f28>]}\n",
      "\n",
      "\n",
      "----Working on seperate_graph 0----\n",
      "\n",
      "\n",
      "---------Working on soma_idx = 0, soma_group_idx 0, endpt = [825725.6147817  628115.56126148 821841.91708   ]---------\n",
      "Starting_edge inside branches_to_conept = [[820572.77166084 683738.59245313 820889.35177114]\n",
      " [825725.6147817  628115.56126148 821841.91708   ]]\n",
      "At the start, starting_node (in terms of the skeleton, that shouldn't match the starting edge) = [20]\n",
      "printing out current edge:\n",
      "[[825725.6147817  628115.56126148 821841.91708   ]\n",
      " [820572.77166084 683738.59245313 820889.35177114]]\n",
      "edge_endpoints_to_process was empty so exiting loop after 79 iterations\n",
      "starting_node in concept map (that should match the starting edge) = 15\n",
      "Total time for branches to concept conversion = 1.1575038433074951\n",
      "\n",
      "Done generating concept network \n",
      "\n",
      "\n"
     ]
    },
    {
     "data": {
      "application/vnd.jupyter.widget-view+json": {
       "model_id": "f983eeb595084307beb626027944bd8a",
       "version_major": 2,
       "version_minor": 0
      },
      "text/plain": [
       "  0%|          | 0/70 [00:00<?, ?it/s]"
      ]
     },
     "metadata": {},
     "output_type": "display_data"
    },
    {
     "data": {
      "application/vnd.jupyter.widget-view+json": {
       "model_id": "fbe8cd7eebd1427fa4b74d8cec0fac57",
       "version_major": 2,
       "version_minor": 0
      },
      "text/plain": [
       "  0%|          | 0/15 [00:00<?, ?it/s]"
      ]
     },
     "metadata": {},
     "output_type": "display_data"
    },
    {
     "data": {
      "application/vnd.jupyter.widget-view+json": {
       "model_id": "cf2decb4ca714e56a7c4faaf22ba10f1",
       "version_major": 2,
       "version_minor": 0
      },
      "text/plain": [
       "  0%|          | 0/18 [00:00<?, ?it/s]"
      ]
     },
     "metadata": {},
     "output_type": "display_data"
    },
    {
     "data": {
      "application/vnd.jupyter.widget-view+json": {
       "model_id": "a8064e589eed4789908bc8dc35ba257b",
       "version_major": 2,
       "version_minor": 0
      },
      "text/plain": [
       "  0%|          | 0/36 [00:00<?, ?it/s]"
      ]
     },
     "metadata": {},
     "output_type": "display_data"
    },
    {
     "data": {
      "application/vnd.jupyter.widget-view+json": {
       "model_id": "e04dce80f0184e40b35f1de60ac9bcd7",
       "version_major": 2,
       "version_minor": 0
      },
      "text/plain": [
       "  0%|          | 0/7 [00:00<?, ?it/s]"
      ]
     },
     "metadata": {},
     "output_type": "display_data"
    },
    {
     "data": {
      "application/vnd.jupyter.widget-view+json": {
       "model_id": "6ef0ca5f05bc414096cebeb0cabd4dd8",
       "version_major": 2,
       "version_minor": 0
      },
      "text/plain": [
       "  0%|          | 0/8 [00:00<?, ?it/s]"
      ]
     },
     "metadata": {},
     "output_type": "display_data"
    },
    {
     "data": {
      "application/vnd.jupyter.widget-view+json": {
       "model_id": "edaf6cc053f44d519ed87cce3fb9c386",
       "version_major": 2,
       "version_minor": 0
      },
      "text/plain": [
       "  0%|          | 0/12 [00:00<?, ?it/s]"
      ]
     },
     "metadata": {},
     "output_type": "display_data"
    },
    {
     "data": {
      "application/vnd.jupyter.widget-view+json": {
       "model_id": "d9443dfc53d94c8bb0be6b8b62b8ec35",
       "version_major": 2,
       "version_minor": 0
      },
      "text/plain": [
       "  0%|          | 0/3 [00:00<?, ?it/s]"
      ]
     },
     "metadata": {},
     "output_type": "display_data"
    },
    {
     "data": {
      "application/vnd.jupyter.widget-view+json": {
       "model_id": "0df6700b58dd4f42b63b1bda1d4d0955",
       "version_major": 2,
       "version_minor": 0
      },
      "text/plain": [
       "  0%|          | 0/3 [00:00<?, ?it/s]"
      ]
     },
     "metadata": {},
     "output_type": "display_data"
    },
    {
     "data": {
      "application/vnd.jupyter.widget-view+json": {
       "model_id": "445842fd76a342edb123dcf9af55ff0a",
       "version_major": 2,
       "version_minor": 0
      },
      "text/plain": [
       "  0%|          | 0/25 [00:00<?, ?it/s]"
      ]
     },
     "metadata": {},
     "output_type": "display_data"
    },
    {
     "data": {
      "application/vnd.jupyter.widget-view+json": {
       "model_id": "bff4241e354b4f529bfe1471c04f7ade",
       "version_major": 2,
       "version_minor": 0
      },
      "text/plain": [
       "  0%|          | 0/12 [00:00<?, ?it/s]"
      ]
     },
     "metadata": {},
     "output_type": "display_data"
    },
    {
     "data": {
      "application/vnd.jupyter.widget-view+json": {
       "model_id": "52960279da964586bbc549269618d13f",
       "version_major": 2,
       "version_minor": 0
      },
      "text/plain": [
       "  0%|          | 0/4 [00:00<?, ?it/s]"
      ]
     },
     "metadata": {},
     "output_type": "display_data"
    },
    {
     "data": {
      "application/vnd.jupyter.widget-view+json": {
       "model_id": "af9fd81661944b05a800d391198fe267",
       "version_major": 2,
       "version_minor": 0
      },
      "text/plain": [
       "  0%|          | 0/12 [00:00<?, ?it/s]"
      ]
     },
     "metadata": {},
     "output_type": "display_data"
    },
    {
     "data": {
      "application/vnd.jupyter.widget-view+json": {
       "model_id": "91e6be6002f4443fb8fbe2b4805a4d15",
       "version_major": 2,
       "version_minor": 0
      },
      "text/plain": [
       "  0%|          | 0/4 [00:00<?, ?it/s]"
      ]
     },
     "metadata": {},
     "output_type": "display_data"
    },
    {
     "data": {
      "application/vnd.jupyter.widget-view+json": {
       "model_id": "2510a175fa2843c29e38d2cccf77d9fe",
       "version_major": 2,
       "version_minor": 0
      },
      "text/plain": [
       "  0%|          | 0/13 [00:00<?, ?it/s]"
      ]
     },
     "metadata": {},
     "output_type": "display_data"
    },
    {
     "data": {
      "application/vnd.jupyter.widget-view+json": {
       "model_id": "eb303739d18d40df95261f57b6be086c",
       "version_major": 2,
       "version_minor": 0
      },
      "text/plain": [
       "  0%|          | 0/4 [00:00<?, ?it/s]"
      ]
     },
     "metadata": {},
     "output_type": "display_data"
    },
    {
     "data": {
      "application/vnd.jupyter.widget-view+json": {
       "model_id": "9bec5f56385a4c30870fd5f74679adcd",
       "version_major": 2,
       "version_minor": 0
      },
      "text/plain": [
       "  0%|          | 0/8 [00:00<?, ?it/s]"
      ]
     },
     "metadata": {},
     "output_type": "display_data"
    },
    {
     "data": {
      "application/vnd.jupyter.widget-view+json": {
       "model_id": "2fa8bbf809cf45508da70c558f39626f",
       "version_major": 2,
       "version_minor": 0
      },
      "text/plain": [
       "  0%|          | 0/11 [00:00<?, ?it/s]"
      ]
     },
     "metadata": {},
     "output_type": "display_data"
    },
    {
     "data": {
      "application/vnd.jupyter.widget-view+json": {
       "model_id": "35386b8c8e044e84a68065f47e07922f",
       "version_major": 2,
       "version_minor": 0
      },
      "text/plain": [
       "  0%|          | 0/8 [00:00<?, ?it/s]"
      ]
     },
     "metadata": {},
     "output_type": "display_data"
    },
    {
     "data": {
      "application/vnd.jupyter.widget-view+json": {
       "model_id": "60344e72505c4b6ea8d0f952199f119a",
       "version_major": 2,
       "version_minor": 0
      },
      "text/plain": [
       "  0%|          | 0/2 [00:00<?, ?it/s]"
      ]
     },
     "metadata": {},
     "output_type": "display_data"
    },
    {
     "data": {
      "application/vnd.jupyter.widget-view+json": {
       "model_id": "1e234a0737f6440586cf247824991be3",
       "version_major": 2,
       "version_minor": 0
      },
      "text/plain": [
       "  0%|          | 0/35 [00:00<?, ?it/s]"
      ]
     },
     "metadata": {},
     "output_type": "display_data"
    },
    {
     "data": {
      "application/vnd.jupyter.widget-view+json": {
       "model_id": "b19118abe07645059c9dd2b321500ac9",
       "version_major": 2,
       "version_minor": 0
      },
      "text/plain": [
       "  0%|          | 0/8 [00:00<?, ?it/s]"
      ]
     },
     "metadata": {},
     "output_type": "display_data"
    },
    {
     "data": {
      "application/vnd.jupyter.widget-view+json": {
       "model_id": "b62cb1a6f7a44c7dba7c1b7e9814d107",
       "version_major": 2,
       "version_minor": 0
      },
      "text/plain": [
       "  0%|          | 0/10 [00:00<?, ?it/s]"
      ]
     },
     "metadata": {},
     "output_type": "display_data"
    },
    {
     "data": {
      "application/vnd.jupyter.widget-view+json": {
       "model_id": "7bf32ac445fd4d289824263536daa7e8",
       "version_major": 2,
       "version_minor": 0
      },
      "text/plain": [
       "  0%|          | 0/9 [00:00<?, ?it/s]"
      ]
     },
     "metadata": {},
     "output_type": "display_data"
    },
    {
     "data": {
      "application/vnd.jupyter.widget-view+json": {
       "model_id": "c1a582ce29dc461f995164f4a2698c24",
       "version_major": 2,
       "version_minor": 0
      },
      "text/plain": [
       "  0%|          | 0/11 [00:00<?, ?it/s]"
      ]
     },
     "metadata": {},
     "output_type": "display_data"
    },
    {
     "data": {
      "application/vnd.jupyter.widget-view+json": {
       "model_id": "e8029c48ff8f42ee9bc9bdd6c4a3554b",
       "version_major": 2,
       "version_minor": 0
      },
      "text/plain": [
       "  0%|          | 0/4 [00:00<?, ?it/s]"
      ]
     },
     "metadata": {},
     "output_type": "display_data"
    },
    {
     "data": {
      "application/vnd.jupyter.widget-view+json": {
       "model_id": "8dc2ea3e2b664bb2a871c1c9d30ef4d2",
       "version_major": 2,
       "version_minor": 0
      },
      "text/plain": [
       "  0%|          | 0/3 [00:00<?, ?it/s]"
      ]
     },
     "metadata": {},
     "output_type": "display_data"
    },
    {
     "data": {
      "application/vnd.jupyter.widget-view+json": {
       "model_id": "fbb9fb4263364b1fb8919f60d0cd87d5",
       "version_major": 2,
       "version_minor": 0
      },
      "text/plain": [
       "  0%|          | 0/12 [00:00<?, ?it/s]"
      ]
     },
     "metadata": {},
     "output_type": "display_data"
    },
    {
     "data": {
      "application/vnd.jupyter.widget-view+json": {
       "model_id": "94e3b5e7171a4ccb9b53e30b6b775f39",
       "version_major": 2,
       "version_minor": 0
      },
      "text/plain": [
       "  0%|          | 0/6 [00:00<?, ?it/s]"
      ]
     },
     "metadata": {},
     "output_type": "display_data"
    },
    {
     "data": {
      "application/vnd.jupyter.widget-view+json": {
       "model_id": "85563b0d16f146d8a7ac8a85db84ec84",
       "version_major": 2,
       "version_minor": 0
      },
      "text/plain": [
       "  0%|          | 0/5 [00:00<?, ?it/s]"
      ]
     },
     "metadata": {},
     "output_type": "display_data"
    },
    {
     "data": {
      "application/vnd.jupyter.widget-view+json": {
       "model_id": "66ccc2f8f83642d1b5c1e5ddd483a016",
       "version_major": 2,
       "version_minor": 0
      },
      "text/plain": [
       "  0%|          | 0/10 [00:00<?, ?it/s]"
      ]
     },
     "metadata": {},
     "output_type": "display_data"
    },
    {
     "data": {
      "application/vnd.jupyter.widget-view+json": {
       "model_id": "0b037e28e6764abb907ac80b76a5c8c3",
       "version_major": 2,
       "version_minor": 0
      },
      "text/plain": [
       "  0%|          | 0/2 [00:00<?, ?it/s]"
      ]
     },
     "metadata": {},
     "output_type": "display_data"
    },
    {
     "data": {
      "application/vnd.jupyter.widget-view+json": {
       "model_id": "aad61570becb4dc9b43f540e0e7bc99a",
       "version_major": 2,
       "version_minor": 0
      },
      "text/plain": [
       "  0%|          | 0/3 [00:00<?, ?it/s]"
      ]
     },
     "metadata": {},
     "output_type": "display_data"
    },
    {
     "data": {
      "application/vnd.jupyter.widget-view+json": {
       "model_id": "9cd4556a207c435791f8fd8bc67ee2ed",
       "version_major": 2,
       "version_minor": 0
      },
      "text/plain": [
       "  0%|          | 0/4 [00:00<?, ?it/s]"
      ]
     },
     "metadata": {},
     "output_type": "display_data"
    },
    {
     "data": {
      "application/vnd.jupyter.widget-view+json": {
       "model_id": "31faf5f6a43c4bfdaf770fd6d9b5906a",
       "version_major": 2,
       "version_minor": 0
      },
      "text/plain": [
       "  0%|          | 0/36 [00:00<?, ?it/s]"
      ]
     },
     "metadata": {},
     "output_type": "display_data"
    },
    {
     "data": {
      "application/vnd.jupyter.widget-view+json": {
       "model_id": "de593eaa806d46dbb152585f1a7cd940",
       "version_major": 2,
       "version_minor": 0
      },
      "text/plain": [
       "  0%|          | 0/33 [00:00<?, ?it/s]"
      ]
     },
     "metadata": {},
     "output_type": "display_data"
    },
    {
     "data": {
      "application/vnd.jupyter.widget-view+json": {
       "model_id": "8dfa0af4b2c844669bda4e88207469b6",
       "version_major": 2,
       "version_minor": 0
      },
      "text/plain": [
       "  0%|          | 0/7 [00:00<?, ?it/s]"
      ]
     },
     "metadata": {},
     "output_type": "display_data"
    },
    {
     "data": {
      "application/vnd.jupyter.widget-view+json": {
       "model_id": "47b318d8ec3f4745acacde7ea7c7469b",
       "version_major": 2,
       "version_minor": 0
      },
      "text/plain": [
       "  0%|          | 0/6 [00:00<?, ?it/s]"
      ]
     },
     "metadata": {},
     "output_type": "display_data"
    },
    {
     "data": {
      "application/vnd.jupyter.widget-view+json": {
       "model_id": "99e0638f6e784558b2d8f1f71f8172f4",
       "version_major": 2,
       "version_minor": 0
      },
      "text/plain": [
       "  0%|          | 0/5 [00:00<?, ?it/s]"
      ]
     },
     "metadata": {},
     "output_type": "display_data"
    },
    {
     "data": {
      "application/vnd.jupyter.widget-view+json": {
       "model_id": "a8b320f3a400474b8191db31c423a748",
       "version_major": 2,
       "version_minor": 0
      },
      "text/plain": [
       "  0%|          | 0/22 [00:00<?, ?it/s]"
      ]
     },
     "metadata": {},
     "output_type": "display_data"
    },
    {
     "data": {
      "application/vnd.jupyter.widget-view+json": {
       "model_id": "10f8138fd0254929ace45efb8a710602",
       "version_major": 2,
       "version_minor": 0
      },
      "text/plain": [
       "  0%|          | 0/12 [00:00<?, ?it/s]"
      ]
     },
     "metadata": {},
     "output_type": "display_data"
    },
    {
     "data": {
      "application/vnd.jupyter.widget-view+json": {
       "model_id": "ae15ef87aa0f48e68784c958b42a1f06",
       "version_major": 2,
       "version_minor": 0
      },
      "text/plain": [
       "  0%|          | 0/6 [00:00<?, ?it/s]"
      ]
     },
     "metadata": {},
     "output_type": "display_data"
    },
    {
     "data": {
      "application/vnd.jupyter.widget-view+json": {
       "model_id": "0f902f2a2af3445b97e68345c78a8133",
       "version_major": 2,
       "version_minor": 0
      },
      "text/plain": [
       "  0%|          | 0/4 [00:00<?, ?it/s]"
      ]
     },
     "metadata": {},
     "output_type": "display_data"
    },
    {
     "data": {
      "application/vnd.jupyter.widget-view+json": {
       "model_id": "de8c92b540694607bbb4ba52650345e0",
       "version_major": 2,
       "version_minor": 0
      },
      "text/plain": [
       "  0%|          | 0/12 [00:00<?, ?it/s]"
      ]
     },
     "metadata": {},
     "output_type": "display_data"
    },
    {
     "data": {
      "application/vnd.jupyter.widget-view+json": {
       "model_id": "116256764baf494f89c9e1c6bd18ac3c",
       "version_major": 2,
       "version_minor": 0
      },
      "text/plain": [
       "  0%|          | 0/7 [00:00<?, ?it/s]"
      ]
     },
     "metadata": {},
     "output_type": "display_data"
    },
    {
     "data": {
      "application/vnd.jupyter.widget-view+json": {
       "model_id": "eca4afe409dc47f7b092f58bda4560d7",
       "version_major": 2,
       "version_minor": 0
      },
      "text/plain": [
       "  0%|          | 0/5 [00:00<?, ?it/s]"
      ]
     },
     "metadata": {},
     "output_type": "display_data"
    },
    {
     "data": {
      "application/vnd.jupyter.widget-view+json": {
       "model_id": "28ccbd9a39f44c6ea8a6e171b95b8b72",
       "version_major": 2,
       "version_minor": 0
      },
      "text/plain": [
       "  0%|          | 0/13 [00:00<?, ?it/s]"
      ]
     },
     "metadata": {},
     "output_type": "display_data"
    },
    {
     "data": {
      "application/vnd.jupyter.widget-view+json": {
       "model_id": "84a5faed865146ee95db6670b42c694e",
       "version_major": 2,
       "version_minor": 0
      },
      "text/plain": [
       "  0%|          | 0/7 [00:00<?, ?it/s]"
      ]
     },
     "metadata": {},
     "output_type": "display_data"
    },
    {
     "data": {
      "application/vnd.jupyter.widget-view+json": {
       "model_id": "0fdec2553d7348f28d28c073b8e37bf5",
       "version_major": 2,
       "version_minor": 0
      },
      "text/plain": [
       "  0%|          | 0/4 [00:00<?, ?it/s]"
      ]
     },
     "metadata": {},
     "output_type": "display_data"
    },
    {
     "data": {
      "application/vnd.jupyter.widget-view+json": {
       "model_id": "1d6562d2792a47c1aa72b655603324f0",
       "version_major": 2,
       "version_minor": 0
      },
      "text/plain": [
       "  0%|          | 0/5 [00:00<?, ?it/s]"
      ]
     },
     "metadata": {},
     "output_type": "display_data"
    },
    {
     "data": {
      "application/vnd.jupyter.widget-view+json": {
       "model_id": "1fe7529539284bd3bd2398cb7ff7acf7",
       "version_major": 2,
       "version_minor": 0
      },
      "text/plain": [
       "  0%|          | 0/4 [00:00<?, ?it/s]"
      ]
     },
     "metadata": {},
     "output_type": "display_data"
    },
    {
     "data": {
      "application/vnd.jupyter.widget-view+json": {
       "model_id": "b51918b17bb847e5a71355df34a04332",
       "version_major": 2,
       "version_minor": 0
      },
      "text/plain": [
       "  0%|          | 0/15 [00:00<?, ?it/s]"
      ]
     },
     "metadata": {},
     "output_type": "display_data"
    },
    {
     "data": {
      "application/vnd.jupyter.widget-view+json": {
       "model_id": "35e3b8b68f2e431cb0c2581ca7f2b390",
       "version_major": 2,
       "version_minor": 0
      },
      "text/plain": [
       "  0%|          | 0/6 [00:00<?, ?it/s]"
      ]
     },
     "metadata": {},
     "output_type": "display_data"
    },
    {
     "data": {
      "application/vnd.jupyter.widget-view+json": {
       "model_id": "8304d6a45ddd4d6a96b4ac51d3df25e1",
       "version_major": 2,
       "version_minor": 0
      },
      "text/plain": [
       "  0%|          | 0/9 [00:00<?, ?it/s]"
      ]
     },
     "metadata": {},
     "output_type": "display_data"
    },
    {
     "data": {
      "application/vnd.jupyter.widget-view+json": {
       "model_id": "c5037805889e41ac930ba42dd5f0aac3",
       "version_major": 2,
       "version_minor": 0
      },
      "text/plain": [
       "  0%|          | 0/7 [00:00<?, ?it/s]"
      ]
     },
     "metadata": {},
     "output_type": "display_data"
    },
    {
     "data": {
      "application/vnd.jupyter.widget-view+json": {
       "model_id": "b599cdef02124d089c0ff36e0eb3bd9f",
       "version_major": 2,
       "version_minor": 0
      },
      "text/plain": [
       "  0%|          | 0/15 [00:00<?, ?it/s]"
      ]
     },
     "metadata": {},
     "output_type": "display_data"
    },
    {
     "data": {
      "application/vnd.jupyter.widget-view+json": {
       "model_id": "f4a250a3a56848e5a0669f3b1ca28e9d",
       "version_major": 2,
       "version_minor": 0
      },
      "text/plain": [
       "  0%|          | 0/15 [00:00<?, ?it/s]"
      ]
     },
     "metadata": {},
     "output_type": "display_data"
    },
    {
     "data": {
      "application/vnd.jupyter.widget-view+json": {
       "model_id": "ffc57ce038de41eabc90d19e3160303a",
       "version_major": 2,
       "version_minor": 0
      },
      "text/plain": [
       "  0%|          | 0/3 [00:00<?, ?it/s]"
      ]
     },
     "metadata": {},
     "output_type": "display_data"
    },
    {
     "data": {
      "application/vnd.jupyter.widget-view+json": {
       "model_id": "812b72026ef14074ac9626681eb2c127",
       "version_major": 2,
       "version_minor": 0
      },
      "text/plain": [
       "  0%|          | 0/9 [00:00<?, ?it/s]"
      ]
     },
     "metadata": {},
     "output_type": "display_data"
    },
    {
     "data": {
      "application/vnd.jupyter.widget-view+json": {
       "model_id": "776c3c7bc37a4b64be504136694a2d82",
       "version_major": 2,
       "version_minor": 0
      },
      "text/plain": [
       "  0%|          | 0/7 [00:00<?, ?it/s]"
      ]
     },
     "metadata": {},
     "output_type": "display_data"
    },
    {
     "data": {
      "application/vnd.jupyter.widget-view+json": {
       "model_id": "b7b2ddc53d654f08a16f31c99baabfe1",
       "version_major": 2,
       "version_minor": 0
      },
      "text/plain": [
       "  0%|          | 0/4 [00:00<?, ?it/s]"
      ]
     },
     "metadata": {},
     "output_type": "display_data"
    },
    {
     "data": {
      "application/vnd.jupyter.widget-view+json": {
       "model_id": "bd6589788cd049a4946aea8f4880f7c8",
       "version_major": 2,
       "version_minor": 0
      },
      "text/plain": [
       "  0%|          | 0/10 [00:00<?, ?it/s]"
      ]
     },
     "metadata": {},
     "output_type": "display_data"
    },
    {
     "data": {
      "application/vnd.jupyter.widget-view+json": {
       "model_id": "131db1f3a7194a01a6f50b074720880b",
       "version_major": 2,
       "version_minor": 0
      },
      "text/plain": [
       "  0%|          | 0/5 [00:00<?, ?it/s]"
      ]
     },
     "metadata": {},
     "output_type": "display_data"
    },
    {
     "data": {
      "application/vnd.jupyter.widget-view+json": {
       "model_id": "689c7ee4ce6d496a8a8b53a4a802cc62",
       "version_major": 2,
       "version_minor": 0
      },
      "text/plain": [
       "  0%|          | 0/13 [00:00<?, ?it/s]"
      ]
     },
     "metadata": {},
     "output_type": "display_data"
    },
    {
     "data": {
      "application/vnd.jupyter.widget-view+json": {
       "model_id": "d33b41f5f50744e8892d891ecb84f0a6",
       "version_major": 2,
       "version_minor": 0
      },
      "text/plain": [
       "  0%|          | 0/9 [00:00<?, ?it/s]"
      ]
     },
     "metadata": {},
     "output_type": "display_data"
    },
    {
     "data": {
      "application/vnd.jupyter.widget-view+json": {
       "model_id": "193b8e313dae4459bf328f7dd803327f",
       "version_major": 2,
       "version_minor": 0
      },
      "text/plain": [
       "  0%|          | 0/5 [00:00<?, ?it/s]"
      ]
     },
     "metadata": {},
     "output_type": "display_data"
    },
    {
     "data": {
      "application/vnd.jupyter.widget-view+json": {
       "model_id": "f7ecc10d09e84ec2a3b28d86997b372d",
       "version_major": 2,
       "version_minor": 0
      },
      "text/plain": [
       "  0%|          | 0/4 [00:00<?, ?it/s]"
      ]
     },
     "metadata": {},
     "output_type": "display_data"
    },
    {
     "data": {
      "application/vnd.jupyter.widget-view+json": {
       "model_id": "0c3f35c6ff6f4f079e507625716b60a6",
       "version_major": 2,
       "version_minor": 0
      },
      "text/plain": [
       "  0%|          | 0/7 [00:00<?, ?it/s]"
      ]
     },
     "metadata": {},
     "output_type": "display_data"
    },
    {
     "data": {
      "application/vnd.jupyter.widget-view+json": {
       "model_id": "f6188b361f0444ad9aa1b05116d55951",
       "version_major": 2,
       "version_minor": 0
      },
      "text/plain": [
       "  0%|          | 0/13 [00:00<?, ?it/s]"
      ]
     },
     "metadata": {},
     "output_type": "display_data"
    },
    {
     "data": {
      "application/vnd.jupyter.widget-view+json": {
       "model_id": "4e1a8fb95c0e4f10b73c8cfe0470c4b2",
       "version_major": 2,
       "version_minor": 0
      },
      "text/plain": [
       "  0%|          | 0/5 [00:00<?, ?it/s]"
      ]
     },
     "metadata": {},
     "output_type": "display_data"
    },
    {
     "data": {
      "application/vnd.jupyter.widget-view+json": {
       "model_id": "15af3fe7ef39499aa2d51396181c7380",
       "version_major": 2,
       "version_minor": 0
      },
      "text/plain": [
       "  0%|          | 0/4 [00:00<?, ?it/s]"
      ]
     },
     "metadata": {},
     "output_type": "display_data"
    },
    {
     "data": {
      "application/vnd.jupyter.widget-view+json": {
       "model_id": "09e38873913046e0ac46a3e1fb7b5a44",
       "version_major": 2,
       "version_minor": 0
      },
      "text/plain": [
       "  0%|          | 0/11 [00:00<?, ?it/s]"
      ]
     },
     "metadata": {},
     "output_type": "display_data"
    },
    {
     "data": {
      "application/vnd.jupyter.widget-view+json": {
       "model_id": "8ccaa56d0fd74f4b9f3a70e87297c3cd",
       "version_major": 2,
       "version_minor": 0
      },
      "text/plain": [
       "  0%|          | 0/12 [00:00<?, ?it/s]"
      ]
     },
     "metadata": {},
     "output_type": "display_data"
    },
    {
     "data": {
      "application/vnd.jupyter.widget-view+json": {
       "model_id": "d1b58bd969aa4e468065654cd28864fd",
       "version_major": 2,
       "version_minor": 0
      },
      "text/plain": [
       "  0%|          | 0/17 [00:00<?, ?it/s]"
      ]
     },
     "metadata": {},
     "output_type": "display_data"
    },
    {
     "data": {
      "application/vnd.jupyter.widget-view+json": {
       "model_id": "e25a529555084f0a9e4aabcbc24abeae",
       "version_major": 2,
       "version_minor": 0
      },
      "text/plain": [
       "  0%|          | 0/14 [00:00<?, ?it/s]"
      ]
     },
     "metadata": {},
     "output_type": "display_data"
    },
    {
     "data": {
      "application/vnd.jupyter.widget-view+json": {
       "model_id": "dfe9f790c0a247ed96c8b6becc8326a6",
       "version_major": 2,
       "version_minor": 0
      },
      "text/plain": [
       "  0%|          | 0/9 [00:00<?, ?it/s]"
      ]
     },
     "metadata": {},
     "output_type": "display_data"
    },
    {
     "data": {
      "application/vnd.jupyter.widget-view+json": {
       "model_id": "bcff1aa2dbd945a1b7071664ca55042a",
       "version_major": 2,
       "version_minor": 0
      },
      "text/plain": [
       "  0%|          | 0/12 [00:00<?, ?it/s]"
      ]
     },
     "metadata": {},
     "output_type": "display_data"
    },
    {
     "data": {
      "application/vnd.jupyter.widget-view+json": {
       "model_id": "9ea4aa03820c487fb7691ba739e5be3c",
       "version_major": 2,
       "version_minor": 0
      },
      "text/plain": [
       "  0%|          | 0/33 [00:00<?, ?it/s]"
      ]
     },
     "metadata": {},
     "output_type": "display_data"
    },
    {
     "data": {
      "application/vnd.jupyter.widget-view+json": {
       "model_id": "189b5ca4d47c4fc799bbaf569dd6d54d",
       "version_major": 2,
       "version_minor": 0
      },
      "text/plain": [
       "  0%|          | 0/55 [00:00<?, ?it/s]"
      ]
     },
     "metadata": {},
     "output_type": "display_data"
    },
    {
     "data": {
      "application/vnd.jupyter.widget-view+json": {
       "model_id": "a426d921bc734a84a2f6888032f7eb81",
       "version_major": 2,
       "version_minor": 0
      },
      "text/plain": [
       "  0%|          | 0/30 [00:00<?, ?it/s]"
      ]
     },
     "metadata": {},
     "output_type": "display_data"
    },
    {
     "data": {
      "application/vnd.jupyter.widget-view+json": {
       "model_id": "32a6d27c7b6b427fa06cd76f89b8dee3",
       "version_major": 2,
       "version_minor": 0
      },
      "text/plain": [
       "  0%|          | 0/7 [00:00<?, ?it/s]"
      ]
     },
     "metadata": {},
     "output_type": "display_data"
    },
    {
     "data": {
      "application/vnd.jupyter.widget-view+json": {
       "model_id": "cb08921f794b4fd2ad840e635802bc0b",
       "version_major": 2,
       "version_minor": 0
      },
      "text/plain": [
       "  0%|          | 0/23 [00:00<?, ?it/s]"
      ]
     },
     "metadata": {},
     "output_type": "display_data"
    },
    {
     "data": {
      "application/vnd.jupyter.widget-view+json": {
       "model_id": "34c57e09af134d46bcbb3a65872ae558",
       "version_major": 2,
       "version_minor": 0
      },
      "text/plain": [
       "  0%|          | 0/21 [00:00<?, ?it/s]"
      ]
     },
     "metadata": {},
     "output_type": "display_data"
    },
    {
     "data": {
      "application/vnd.jupyter.widget-view+json": {
       "model_id": "14f971dc7a0c49dbbe9bb2dce9542b4c",
       "version_major": 2,
       "version_minor": 0
      },
      "text/plain": [
       "  0%|          | 0/21 [00:00<?, ?it/s]"
      ]
     },
     "metadata": {},
     "output_type": "display_data"
    },
    {
     "data": {
      "application/vnd.jupyter.widget-view+json": {
       "model_id": "835ccd74efda42d48bb69691f13805f8",
       "version_major": 2,
       "version_minor": 0
      },
      "text/plain": [
       "  0%|          | 0/8 [00:00<?, ?it/s]"
      ]
     },
     "metadata": {},
     "output_type": "display_data"
    },
    {
     "data": {
      "application/vnd.jupyter.widget-view+json": {
       "model_id": "ddc2bf6edd4744b696aec0b36d0910ce",
       "version_major": 2,
       "version_minor": 0
      },
      "text/plain": [
       "  0%|          | 0/7 [00:00<?, ?it/s]"
      ]
     },
     "metadata": {},
     "output_type": "display_data"
    },
    {
     "data": {
      "application/vnd.jupyter.widget-view+json": {
       "model_id": "f4500436190b4a128b3b1b2a2de88dd8",
       "version_major": 2,
       "version_minor": 0
      },
      "text/plain": [
       "  0%|          | 0/22 [00:00<?, ?it/s]"
      ]
     },
     "metadata": {},
     "output_type": "display_data"
    },
    {
     "data": {
      "application/vnd.jupyter.widget-view+json": {
       "model_id": "5ea6a6358feb4824b1afab3fa784073d",
       "version_major": 2,
       "version_minor": 0
      },
      "text/plain": [
       "  0%|          | 0/11 [00:00<?, ?it/s]"
      ]
     },
     "metadata": {},
     "output_type": "display_data"
    },
    {
     "data": {
      "application/vnd.jupyter.widget-view+json": {
       "model_id": "ff963dd038f14e64af4801536f177928",
       "version_major": 2,
       "version_minor": 0
      },
      "text/plain": [
       "  0%|          | 0/9 [00:00<?, ?it/s]"
      ]
     },
     "metadata": {},
     "output_type": "display_data"
    },
    {
     "data": {
      "application/vnd.jupyter.widget-view+json": {
       "model_id": "547b9a06a980408499d91921eced05d6",
       "version_major": 2,
       "version_minor": 0
      },
      "text/plain": [
       "  0%|          | 0/17 [00:00<?, ?it/s]"
      ]
     },
     "metadata": {},
     "output_type": "display_data"
    },
    {
     "data": {
      "application/vnd.jupyter.widget-view+json": {
       "model_id": "336b7fa3fa3744d08ff982840a41450a",
       "version_major": 2,
       "version_minor": 0
      },
      "text/plain": [
       "  0%|          | 0/18 [00:00<?, ?it/s]"
      ]
     },
     "metadata": {},
     "output_type": "display_data"
    },
    {
     "data": {
      "application/vnd.jupyter.widget-view+json": {
       "model_id": "69311a68d1f04ba5bc525a836e6f9271",
       "version_major": 2,
       "version_minor": 0
      },
      "text/plain": [
       "  0%|          | 0/2 [00:00<?, ?it/s]"
      ]
     },
     "metadata": {},
     "output_type": "display_data"
    },
    {
     "data": {
      "application/vnd.jupyter.widget-view+json": {
       "model_id": "9b7cc1b252e44f44939b11a8c0782fb9",
       "version_major": 2,
       "version_minor": 0
      },
      "text/plain": [
       "  0%|          | 0/10 [00:00<?, ?it/s]"
      ]
     },
     "metadata": {},
     "output_type": "display_data"
    },
    {
     "data": {
      "application/vnd.jupyter.widget-view+json": {
       "model_id": "d639c65523084c54aab43b8fcf58aa78",
       "version_major": 2,
       "version_minor": 0
      },
      "text/plain": [
       "  0%|          | 0/12 [00:00<?, ?it/s]"
      ]
     },
     "metadata": {},
     "output_type": "display_data"
    },
    {
     "data": {
      "application/vnd.jupyter.widget-view+json": {
       "model_id": "23d7e5e27b144075aea4e75f57255d45",
       "version_major": 2,
       "version_minor": 0
      },
      "text/plain": [
       "  0%|          | 0/61 [00:00<?, ?it/s]"
      ]
     },
     "metadata": {},
     "output_type": "display_data"
    },
    {
     "data": {
      "application/vnd.jupyter.widget-view+json": {
       "model_id": "148f00d634924c78a50e44781961b5dd",
       "version_major": 2,
       "version_minor": 0
      },
      "text/plain": [
       "  0%|          | 0/14 [00:00<?, ?it/s]"
      ]
     },
     "metadata": {},
     "output_type": "display_data"
    },
    {
     "data": {
      "application/vnd.jupyter.widget-view+json": {
       "model_id": "d1e48d5a25ff417e80580e96dc53c4bf",
       "version_major": 2,
       "version_minor": 0
      },
      "text/plain": [
       "  0%|          | 0/33 [00:00<?, ?it/s]"
      ]
     },
     "metadata": {},
     "output_type": "display_data"
    },
    {
     "data": {
      "application/vnd.jupyter.widget-view+json": {
       "model_id": "9fc6f8f1d4054ebcbf3fb2cf6c196815",
       "version_major": 2,
       "version_minor": 0
      },
      "text/plain": [
       "  0%|          | 0/22 [00:00<?, ?it/s]"
      ]
     },
     "metadata": {},
     "output_type": "display_data"
    },
    {
     "data": {
      "application/vnd.jupyter.widget-view+json": {
       "model_id": "f7e3cc16020048c8b883c1b52489db5c",
       "version_major": 2,
       "version_minor": 0
      },
      "text/plain": [
       "  0%|          | 0/17 [00:00<?, ?it/s]"
      ]
     },
     "metadata": {},
     "output_type": "display_data"
    },
    {
     "data": {
      "application/vnd.jupyter.widget-view+json": {
       "model_id": "a565a9e53e1145a7916b73704d6481bd",
       "version_major": 2,
       "version_minor": 0
      },
      "text/plain": [
       "  0%|          | 0/45 [00:00<?, ?it/s]"
      ]
     },
     "metadata": {},
     "output_type": "display_data"
    },
    {
     "data": {
      "application/vnd.jupyter.widget-view+json": {
       "model_id": "ef6e7ae102ee4feea40d4b592b26bfc5",
       "version_major": 2,
       "version_minor": 0
      },
      "text/plain": [
       "  0%|          | 0/18 [00:00<?, ?it/s]"
      ]
     },
     "metadata": {},
     "output_type": "display_data"
    },
    {
     "data": {
      "application/vnd.jupyter.widget-view+json": {
       "model_id": "500d681ba8e24d74b6fa652e5afe224e",
       "version_major": 2,
       "version_minor": 0
      },
      "text/plain": [
       "  0%|          | 0/13 [00:00<?, ?it/s]"
      ]
     },
     "metadata": {},
     "output_type": "display_data"
    },
    {
     "data": {
      "application/vnd.jupyter.widget-view+json": {
       "model_id": "61e422d8c51c42b0b4909402f7165366",
       "version_major": 2,
       "version_minor": 0
      },
      "text/plain": [
       "  0%|          | 0/8 [00:00<?, ?it/s]"
      ]
     },
     "metadata": {},
     "output_type": "display_data"
    },
    {
     "data": {
      "application/vnd.jupyter.widget-view+json": {
       "model_id": "c49d6e323aa7486f95e8b70a8f46e251",
       "version_major": 2,
       "version_minor": 0
      },
      "text/plain": [
       "  0%|          | 0/13 [00:00<?, ?it/s]"
      ]
     },
     "metadata": {},
     "output_type": "display_data"
    },
    {
     "data": {
      "application/vnd.jupyter.widget-view+json": {
       "model_id": "c4e19b79f46842c2a2a01e77c4d7fad4",
       "version_major": 2,
       "version_minor": 0
      },
      "text/plain": [
       "  0%|          | 0/13 [00:00<?, ?it/s]"
      ]
     },
     "metadata": {},
     "output_type": "display_data"
    },
    {
     "data": {
      "application/vnd.jupyter.widget-view+json": {
       "model_id": "b74c6033440145bc9345e632986b98c6",
       "version_major": 2,
       "version_minor": 0
      },
      "text/plain": [
       "  0%|          | 0/10 [00:00<?, ?it/s]"
      ]
     },
     "metadata": {},
     "output_type": "display_data"
    },
    {
     "data": {
      "application/vnd.jupyter.widget-view+json": {
       "model_id": "98c92c2fa261434c97d23a3674472309",
       "version_major": 2,
       "version_minor": 0
      },
      "text/plain": [
       "  0%|          | 0/12 [00:00<?, ?it/s]"
      ]
     },
     "metadata": {},
     "output_type": "display_data"
    },
    {
     "name": "stdout",
     "output_type": "stream",
     "text": [
      "Synapsse Results:\n",
      "Total Number of Synapses = 923\n",
      "n_valid_syn_ids_presyn = 13\n",
      "n_errored_syn_ids_presyn = 153\n",
      "n_valid_syn_ids_postsyn = 753\n",
      "n_errored_syn_ids_postsyn = 4\n",
      "Synapsse Results:\n",
      "Total Number of Synapses = 923\n",
      "n_valid_syn_ids_presyn = 13\n",
      "n_errored_syn_ids_presyn = 153\n",
      "n_valid_syn_ids_postsyn = 753\n",
      "n_errored_syn_ids_postsyn = 4\n"
     ]
    },
    {
     "data": {
      "application/vnd.jupyter.widget-view+json": {
       "model_id": "dcd5d22fdde24ec4b43f049a27a54122",
       "version_major": 2,
       "version_minor": 0
      },
      "text/plain": [
       "  0%|          | 0/8 [00:00<?, ?it/s]"
      ]
     },
     "metadata": {},
     "output_type": "display_data"
    },
    {
     "data": {
      "application/vnd.jupyter.widget-view+json": {
       "model_id": "5a71b7223acb40428d54deff15c686d8",
       "version_major": 2,
       "version_minor": 0
      },
      "text/plain": [
       "  0%|          | 0/2 [00:00<?, ?it/s]"
      ]
     },
     "metadata": {},
     "output_type": "display_data"
    },
    {
     "name": "stdout",
     "output_type": "stream",
     "text": [
      "Synapsse Results:\n",
      "Total Number of Synapses = 923\n",
      "n_valid_syn_ids_presyn = 13\n",
      "n_errored_syn_ids_presyn = 153\n",
      "n_valid_syn_ids_postsyn = 753\n",
      "n_errored_syn_ids_postsyn = 4\n",
      "Synapsse Results:\n",
      "Total Number of Synapses = 923\n",
      "n_valid_syn_ids_presyn = 13\n",
      "n_errored_syn_ids_presyn = 153\n",
      "n_valid_syn_ids_postsyn = 753\n",
      "n_errored_syn_ids_postsyn = 4\n"
     ]
    },
    {
     "data": {
      "application/vnd.jupyter.widget-view+json": {
       "model_id": "7083949a40474a57bc6acdc43ec02345",
       "version_major": 2,
       "version_minor": 0
      },
      "text/plain": [
       "  0%|          | 0/8 [00:00<?, ?it/s]"
      ]
     },
     "metadata": {},
     "output_type": "display_data"
    },
    {
     "data": {
      "application/vnd.jupyter.widget-view+json": {
       "model_id": "8badcb4a26ad484aa4cd1086c28c5330",
       "version_major": 2,
       "version_minor": 0
      },
      "text/plain": [
       "  0%|          | 0/2 [00:00<?, ?it/s]"
      ]
     },
     "metadata": {},
     "output_type": "display_data"
    },
    {
     "name": "stdout",
     "output_type": "stream",
     "text": [
      "\n",
      "\n",
      "len(branch_attr_keys) = 10\n",
      "Saving Neuorn in suppress_output mode...please wait\n",
      "Saved File at location: /mnt/dj-stor01/platinum/minnie65/02/decomposition/864691135491233631_0_25_full_axon\n",
      "Save time = 95.71902537345886\n",
      "\n",
      "\n",
      " ***------ Total time for 864691135491233631 = 459.30486273765564 ------ ***\n",
      "\n",
      "\n",
      "\n",
      "---- Working on Neuron 864691135735426708 ----\n",
      "Decompressing Neuron in minimal output mode...please wait\n",
      "Pulled from Table Decomposition so setting split_index = 0\n",
      "Dont need spine recalculation\n",
      "Number of Neurons found = 1\n",
      "\n",
      "Part 1: Axon like branchese \n",
      "{'L0': array([ 4,  6, 17, 23, 26, 27]), 'L1': array([ 5,  6,  7,  9, 10, 11, 12, 13, 14, 15, 16, 17, 18, 19, 20, 21, 22,\n",
      "       23, 24, 25, 26, 27, 28, 29, 30, 31, 32, 33, 34, 35, 36, 37, 38, 39,\n",
      "       40, 41, 42, 43, 44, 45, 46, 47, 48, 49, 50, 51, 52, 53]), 'L2': array([0, 1, 2]), 'L6': array([0, 3, 4, 6, 7, 8])}\n",
      "Limb L0 soma angle: 16.5 \n",
      "Limb L1 soma angle: 165.42 \n",
      "Limb L2 soma angle: 95.54 \n",
      "Limb L3 soma angle: 95.59 \n",
      "Limb L4 soma angle: 136.45 \n",
      "Limb L5 soma angle: 119.1 \n",
      "Limb L6 soma angle: 87.88 \n",
      "\n",
      "Part 2: possible_axon_limbs = [1, 2, 3, 4, 5, 6]\n",
      "\n",
      "Phase 2: Working on Limb L1\n",
      "nodes_to_eliminate = []\n",
      "\n",
      "Phase 2: Working on Limb L2\n",
      "nodes_to_eliminate = [5 7]\n",
      "\n",
      "Phase 2: Working on Limb L3\n",
      "nodes_to_eliminate = [4]\n",
      "\n",
      "Phase 2: Working on Limb L4\n",
      "nodes_to_eliminate = [2]\n",
      "\n",
      "Phase 2: Working on Limb L5\n",
      "nodes_to_eliminate = []\n",
      "\n",
      "Phase 2: Working on Limb L6\n",
      "nodes_to_eliminate = []\n",
      "\n",
      "----Working on Limb L1-----\n",
      "No nodes were eliminated so don't need to add back any candidates\n",
      "\n",
      "----Working on Limb L2-----\n",
      "No endpoints were eliminated so don't need to add back any candidates\n",
      "\n",
      "----Working on Limb L3-----\n",
      "No endpoints were eliminated so don't need to add back any candidates\n",
      "\n",
      "----Working on Limb L4-----\n",
      "No endpoints were eliminated so don't need to add back any candidates\n",
      "\n",
      "----Working on Limb L5-----\n",
      "No nodes were eliminated so don't need to add back any candidates\n",
      "\n",
      "----Working on Limb L6-----\n",
      "No nodes were eliminated so don't need to add back any candidates\n",
      "Final Candidates\n",
      "\n",
      "Limb 1\n",
      "Candidate 0 (palegreen): array([ 0,  1,  2,  3,  4,  5,  6,  7,  8,  9, 10, 11, 12, 13, 14, 15, 16,\n",
      "       17, 18, 19, 20, 21, 22, 23, 24, 25, 26, 27, 28, 29, 30, 31, 32, 33,\n",
      "       34, 35, 36, 37, 38, 39, 40, 41, 42, 43, 44, 45, 46, 47, 48, 49, 50,\n",
      "       51, 52, 53])\n",
      "\n",
      "Limb 2\n",
      "Candidate 0 (darkslategray): array([10, 11,  6])\n",
      "Candidate 1 (gold): array([8])\n",
      "Candidate 2 (sandybrown): array([ 0,  1,  2,  3,  4,  9, 12])\n",
      "\n",
      "Limb 3\n",
      "Candidate 0 (red): array([0])\n",
      "Candidate 1 (olive): array([1, 2, 3])\n",
      "\n",
      "Limb 4\n",
      "Candidate 0 (brown): array([0, 1, 3])\n",
      "Candidate 1 (darkslategray): array([4])\n",
      "\n",
      "Limb 5\n",
      "Candidate 0 (brown): array([0, 1, 2])\n",
      "\n",
      "Limb 6\n",
      "Candidate 0 (forestgreen): array([0, 1, 2, 3, 4, 5, 6, 7, 8])\n",
      "Part 3: axon_subgraph_candidates = {1: [[0, 1, 2, 3, 4, 5, 6, 7, 8, 9, 10, 11, 12, 13, 14, 15, 16, 17, 18, 19, 20, 21, 22, 23, 24, 25, 26, 27, 28, 29, 30, 31, 32, 33, 34, 35, 36, 37, 38, 39, 40, 41, 42, 43, 44, 45, 46, 47, 48, 49, 50, 51, 52, 53]], 2: [[10, 11, 6], [8], [0, 1, 2, 3, 4, 9, 12]], 3: [[0], [1, 2, 3]], 4: [[0, 1, 3], [4]], 5: [[0, 1, 2]], 6: [[0, 1, 2, 3, 4, 5, 6, 7, 8]]}\n",
      "\n",
      "\n",
      " --- Working on limb 1, candidate # 0\n",
      "48 out of 54 branches are axons\n",
      "Axon percentage = 0.8888888888888888\n",
      "curr_axon_angle_threshold = 95\n",
      "candidate_nodes = [ 0  1  2  3  4  5  6  7  8  9 10 11 12 13 14 15 16 17 18 19 20 21 22 23\n",
      " 24 25 26 27 28 29 30 31 32 33 34 35 36 37 38 39 40 41 42 43 44 45 46 47\n",
      " 48 49 50 51 52 53]\n",
      "non_axon_branches_on_subgraph = [0 1 2 3 4 8]\n",
      "endnodes_to_test = [18214 18277]\n",
      "Skeleton paths distances = [24910.33944472 24935.55122763]\n",
      "Filtered indexes = [0 1]\n",
      "len(filtered_skeletons) = 2\n",
      "sk_angles = [167.36830548 166.69542061]\n",
      "candidate_angles,restr_skels = (array([167.36830548, 166.69542061]), [array([[[1350540.        ,  551247.        ,  818997.        ],\n",
      "        [1350530.        ,  551318.        ,  819015.        ]],\n",
      "\n",
      "       [[1350530.        ,  551318.        ,  819015.        ],\n",
      "        [1350500.        ,  551419.        ,  819037.        ]],\n",
      "\n",
      "       [[1350500.        ,  551419.        ,  819037.        ],\n",
      "        [1350470.        ,  551529.        ,  819068.        ]],\n",
      "\n",
      "       [[1350470.        ,  551529.        ,  819068.        ],\n",
      "        [1350430.        ,  551675.        ,  819103.        ]],\n",
      "\n",
      "       [[1350430.        ,  551675.        ,  819103.        ],\n",
      "        [1350420.        ,  551763.        ,  819121.        ]],\n",
      "\n",
      "       [[1350420.        ,  551763.        ,  819121.        ],\n",
      "        [1350370.        ,  551968.        ,  819162.        ]],\n",
      "\n",
      "       [[1350370.        ,  551968.        ,  819162.        ],\n",
      "        [1350320.        ,  552235.        ,  819199.        ]],\n",
      "\n",
      "       [[1350320.        ,  552235.        ,  819199.        ],\n",
      "        [1350310.        ,  552348.        ,  819208.        ]],\n",
      "\n",
      "       [[1350310.        ,  552348.        ,  819208.        ],\n",
      "        [1350300.        ,  552507.        ,  819213.        ]],\n",
      "\n",
      "       [[1350300.        ,  552507.        ,  819213.        ],\n",
      "        [1350280.        ,  552664.        ,  819217.        ]],\n",
      "\n",
      "       [[1350280.        ,  552664.        ,  819217.        ],\n",
      "        [1350280.        ,  552786.        ,  819219.        ]],\n",
      "\n",
      "       [[1350280.        ,  552786.        ,  819219.        ],\n",
      "        [1350280.        ,  552837.        ,  819220.        ]],\n",
      "\n",
      "       [[1350280.        ,  552837.        ,  819220.        ],\n",
      "        [1350270.        ,  552957.        ,  819221.        ]],\n",
      "\n",
      "       [[1350270.        ,  552957.        ,  819221.        ],\n",
      "        [1350270.        ,  553092.        ,  819224.        ]],\n",
      "\n",
      "       [[1350270.        ,  553092.        ,  819224.        ],\n",
      "        [1350270.        ,  553242.        ,  819235.        ]],\n",
      "\n",
      "       [[1350270.        ,  553242.        ,  819235.        ],\n",
      "        [1350250.        ,  553399.        ,  819256.        ]],\n",
      "\n",
      "       [[1350250.        ,  553399.        ,  819256.        ],\n",
      "        [1350250.        ,  553498.        ,  819278.        ]],\n",
      "\n",
      "       [[1350250.        ,  553498.        ,  819278.        ],\n",
      "        [1350240.        ,  553574.        ,  819300.        ]],\n",
      "\n",
      "       [[1350240.        ,  553574.        ,  819300.        ],\n",
      "        [1350230.        ,  553682.        ,  819347.        ]],\n",
      "\n",
      "       [[1350230.        ,  553682.        ,  819347.        ],\n",
      "        [1350210.        ,  553788.        ,  819401.        ]],\n",
      "\n",
      "       [[1350210.        ,  553788.        ,  819401.        ],\n",
      "        [1350200.        ,  553875.        ,  819461.        ]],\n",
      "\n",
      "       [[1350200.        ,  553875.        ,  819461.        ],\n",
      "        [1350190.        ,  553981.        ,  819561.        ]],\n",
      "\n",
      "       [[1350190.        ,  553981.        ,  819561.        ],\n",
      "        [1350180.        ,  554072.        ,  819646.        ]],\n",
      "\n",
      "       [[1350180.        ,  554072.        ,  819646.        ],\n",
      "        [1350190.        ,  554261.        ,  819839.        ]],\n",
      "\n",
      "       [[1350190.        ,  554261.        ,  819839.        ],\n",
      "        [1350200.        ,  554453.        ,  820027.        ]],\n",
      "\n",
      "       [[1350200.        ,  554453.        ,  820027.        ],\n",
      "        [1350210.        ,  554547.        ,  820117.        ]],\n",
      "\n",
      "       [[1350210.        ,  554547.        ,  820117.        ],\n",
      "        [1350220.        ,  554651.        ,  820216.        ]],\n",
      "\n",
      "       [[1350220.        ,  554651.        ,  820216.        ],\n",
      "        [1350240.        ,  554745.        ,  820299.        ]],\n",
      "\n",
      "       [[1350240.        ,  554745.        ,  820299.        ],\n",
      "        [1350250.        ,  554849.        ,  820368.        ]],\n",
      "\n",
      "       [[1350250.        ,  554849.        ,  820368.        ],\n",
      "        [1350270.        ,  554997.        ,  820410.        ]],\n",
      "\n",
      "       [[1350270.        ,  554997.        ,  820410.        ],\n",
      "        [1350290.        ,  555164.        ,  820462.        ]],\n",
      "\n",
      "       [[1350290.        ,  555164.        ,  820462.        ],\n",
      "        [1350320.        ,  555495.        ,  820525.        ]],\n",
      "\n",
      "       [[1350320.        ,  555495.        ,  820525.        ],\n",
      "        [1350330.        ,  555553.        ,  820536.        ]],\n",
      "\n",
      "       [[1350330.        ,  555553.        ,  820536.        ],\n",
      "        [1350350.        ,  555736.        ,  820563.        ]],\n",
      "\n",
      "       [[1350350.        ,  555736.        ,  820563.        ],\n",
      "        [1350370.        ,  555854.        ,  820574.        ]],\n",
      "\n",
      "       [[1350370.        ,  555854.        ,  820574.        ],\n",
      "        [1350390.        ,  555925.        ,  820578.        ]],\n",
      "\n",
      "       [[1350390.        ,  555925.        ,  820578.        ],\n",
      "        [1350410.        ,  556009.        ,  820580.        ]],\n",
      "\n",
      "       [[1350410.        ,  556009.        ,  820580.        ],\n",
      "        [1350420.        ,  556089.        ,  820581.        ]],\n",
      "\n",
      "       [[1350420.        ,  556089.        ,  820581.        ],\n",
      "        [1350450.        ,  556205.        ,  820582.        ]],\n",
      "\n",
      "       [[1350450.        ,  556205.        ,  820582.        ],\n",
      "        [1350460.        ,  556278.        ,  820582.        ]],\n",
      "\n",
      "       [[1350460.        ,  556278.        ,  820582.        ],\n",
      "        [1350490.        ,  556414.        ,  820582.        ]],\n",
      "\n",
      "       [[1350490.        ,  556414.        ,  820582.        ],\n",
      "        [1350520.        ,  556546.        ,  820589.        ]],\n",
      "\n",
      "       [[1350520.        ,  556546.        ,  820589.        ],\n",
      "        [1350560.        ,  556695.        ,  820618.        ]],\n",
      "\n",
      "       [[1350560.        ,  556695.        ,  820618.        ],\n",
      "        [1350590.        ,  556798.        ,  820644.        ]],\n",
      "\n",
      "       [[1350590.        ,  556798.        ,  820644.        ],\n",
      "        [1350630.        ,  556908.        ,  820677.        ]],\n",
      "\n",
      "       [[1350630.        ,  556908.        ,  820677.        ],\n",
      "        [1350670.        ,  557050.        ,  820738.        ]],\n",
      "\n",
      "       [[1350670.        ,  557050.        ,  820738.        ],\n",
      "        [1350740.        ,  557235.        ,  820820.        ]],\n",
      "\n",
      "       [[1350740.        ,  557235.        ,  820820.        ],\n",
      "        [1350790.        ,  557375.        ,  820877.        ]],\n",
      "\n",
      "       [[1350790.        ,  557375.        ,  820877.        ],\n",
      "        [1350850.        ,  557493.        ,  820934.        ]],\n",
      "\n",
      "       [[1350850.        ,  557493.        ,  820934.        ],\n",
      "        [1350900.        ,  557652.        ,  820999.        ]],\n",
      "\n",
      "       [[1350900.        ,  557652.        ,  820999.        ],\n",
      "        [1350950.        ,  557857.        ,  821036.        ]],\n",
      "\n",
      "       [[1350950.        ,  557857.        ,  821036.        ],\n",
      "        [1351010.        ,  558075.        ,  821040.        ]],\n",
      "\n",
      "       [[1351010.        ,  558075.        ,  821040.        ],\n",
      "        [1351040.        ,  558279.        ,  821012.        ]],\n",
      "\n",
      "       [[1351040.        ,  558279.        ,  821012.        ],\n",
      "        [1351050.        ,  558435.        ,  821012.        ]],\n",
      "\n",
      "       [[1351050.        ,  558435.        ,  821012.        ],\n",
      "        [1351070.        ,  558638.        ,  820981.        ]],\n",
      "\n",
      "       [[1351070.        ,  558638.        ,  820981.        ],\n",
      "        [1351080.        ,  558725.        ,  820981.        ]],\n",
      "\n",
      "       [[1351080.        ,  558725.        ,  820981.        ],\n",
      "        [1351100.        ,  558860.        ,  820968.        ]],\n",
      "\n",
      "       [[1351100.        ,  558860.        ,  820968.        ],\n",
      "        [1351120.        ,  559013.        ,  820957.        ]],\n",
      "\n",
      "       [[1351120.        ,  559013.        ,  820957.        ],\n",
      "        [1351140.        ,  559140.        ,  820949.        ]],\n",
      "\n",
      "       [[1351140.        ,  559140.        ,  820949.        ],\n",
      "        [1351150.        ,  559212.        ,  820944.        ]],\n",
      "\n",
      "       [[1351150.        ,  559212.        ,  820944.        ],\n",
      "        [1351200.        ,  559370.        ,  820936.        ]],\n",
      "\n",
      "       [[1351200.        ,  559370.        ,  820936.        ],\n",
      "        [1351240.        ,  559518.        ,  820930.        ]],\n",
      "\n",
      "       [[1351240.        ,  559518.        ,  820930.        ],\n",
      "        [1351270.        ,  559610.        ,  820922.        ]],\n",
      "\n",
      "       [[1351270.        ,  559610.        ,  820922.        ],\n",
      "        [1351300.        ,  559755.        ,  820913.        ]],\n",
      "\n",
      "       [[1351300.        ,  559755.        ,  820913.        ],\n",
      "        [1351360.        ,  559980.        ,  820909.        ]],\n",
      "\n",
      "       [[1351360.        ,  559980.        ,  820909.        ],\n",
      "        [1351410.        ,  560168.        ,  820903.        ]],\n",
      "\n",
      "       [[1351410.        ,  560168.        ,  820903.        ],\n",
      "        [1351450.        ,  560317.        ,  820925.        ]],\n",
      "\n",
      "       [[1351450.        ,  560317.        ,  820925.        ],\n",
      "        [1351470.        ,  560434.        ,  820932.        ]],\n",
      "\n",
      "       [[1351470.        ,  560434.        ,  820932.        ],\n",
      "        [1351428.21476474,  560501.48937817,  820871.1791323 ]]]), array([[[1350540.        ,  551247.        ,  818997.        ],\n",
      "        [1350530.        ,  551318.        ,  819015.        ]],\n",
      "\n",
      "       [[1350530.        ,  551318.        ,  819015.        ],\n",
      "        [1350500.        ,  551419.        ,  819037.        ]],\n",
      "\n",
      "       [[1350500.        ,  551419.        ,  819037.        ],\n",
      "        [1350470.        ,  551529.        ,  819068.        ]],\n",
      "\n",
      "       [[1350470.        ,  551529.        ,  819068.        ],\n",
      "        [1350430.        ,  551675.        ,  819103.        ]],\n",
      "\n",
      "       [[1350430.        ,  551675.        ,  819103.        ],\n",
      "        [1350420.        ,  551763.        ,  819121.        ]],\n",
      "\n",
      "       [[1350420.        ,  551763.        ,  819121.        ],\n",
      "        [1350370.        ,  551968.        ,  819162.        ]],\n",
      "\n",
      "       [[1350370.        ,  551968.        ,  819162.        ],\n",
      "        [1350320.        ,  552235.        ,  819199.        ]],\n",
      "\n",
      "       [[1350320.        ,  552235.        ,  819199.        ],\n",
      "        [1350310.        ,  552348.        ,  819208.        ]],\n",
      "\n",
      "       [[1350310.        ,  552348.        ,  819208.        ],\n",
      "        [1350300.        ,  552507.        ,  819213.        ]],\n",
      "\n",
      "       [[1350300.        ,  552507.        ,  819213.        ],\n",
      "        [1350280.        ,  552664.        ,  819217.        ]],\n",
      "\n",
      "       [[1350280.        ,  552664.        ,  819217.        ],\n",
      "        [1350280.        ,  552786.        ,  819219.        ]],\n",
      "\n",
      "       [[1350280.        ,  552786.        ,  819219.        ],\n",
      "        [1350280.        ,  552837.        ,  819220.        ]],\n",
      "\n",
      "       [[1350280.        ,  552837.        ,  819220.        ],\n",
      "        [1350270.        ,  552957.        ,  819221.        ]],\n",
      "\n",
      "       [[1350270.        ,  552957.        ,  819221.        ],\n",
      "        [1350270.        ,  553092.        ,  819224.        ]],\n",
      "\n",
      "       [[1350270.        ,  553092.        ,  819224.        ],\n",
      "        [1350270.        ,  553242.        ,  819235.        ]],\n",
      "\n",
      "       [[1350270.        ,  553242.        ,  819235.        ],\n",
      "        [1350250.        ,  553399.        ,  819256.        ]],\n",
      "\n",
      "       [[1350250.        ,  553399.        ,  819256.        ],\n",
      "        [1350250.        ,  553498.        ,  819278.        ]],\n",
      "\n",
      "       [[1350250.        ,  553498.        ,  819278.        ],\n",
      "        [1350240.        ,  553574.        ,  819300.        ]],\n",
      "\n",
      "       [[1350240.        ,  553574.        ,  819300.        ],\n",
      "        [1350230.        ,  553682.        ,  819347.        ]],\n",
      "\n",
      "       [[1350230.        ,  553682.        ,  819347.        ],\n",
      "        [1350210.        ,  553788.        ,  819401.        ]],\n",
      "\n",
      "       [[1350210.        ,  553788.        ,  819401.        ],\n",
      "        [1350200.        ,  553875.        ,  819461.        ]],\n",
      "\n",
      "       [[1350200.        ,  553875.        ,  819461.        ],\n",
      "        [1350190.        ,  553981.        ,  819561.        ]],\n",
      "\n",
      "       [[1350190.        ,  553981.        ,  819561.        ],\n",
      "        [1350180.        ,  554072.        ,  819646.        ]],\n",
      "\n",
      "       [[1350180.        ,  554072.        ,  819646.        ],\n",
      "        [1350190.        ,  554261.        ,  819839.        ]],\n",
      "\n",
      "       [[1350190.        ,  554261.        ,  819839.        ],\n",
      "        [1350200.        ,  554453.        ,  820027.        ]],\n",
      "\n",
      "       [[1350200.        ,  554453.        ,  820027.        ],\n",
      "        [1350210.        ,  554547.        ,  820117.        ]],\n",
      "\n",
      "       [[1350210.        ,  554547.        ,  820117.        ],\n",
      "        [1350220.        ,  554651.        ,  820216.        ]],\n",
      "\n",
      "       [[1350220.        ,  554651.        ,  820216.        ],\n",
      "        [1350240.        ,  554745.        ,  820299.        ]],\n",
      "\n",
      "       [[1350240.        ,  554745.        ,  820299.        ],\n",
      "        [1350250.        ,  554849.        ,  820368.        ]],\n",
      "\n",
      "       [[1350250.        ,  554849.        ,  820368.        ],\n",
      "        [1350270.        ,  554997.        ,  820410.        ]],\n",
      "\n",
      "       [[1350270.        ,  554997.        ,  820410.        ],\n",
      "        [1350290.        ,  555164.        ,  820462.        ]],\n",
      "\n",
      "       [[1350290.        ,  555164.        ,  820462.        ],\n",
      "        [1350320.        ,  555495.        ,  820525.        ]],\n",
      "\n",
      "       [[1350320.        ,  555495.        ,  820525.        ],\n",
      "        [1350330.        ,  555553.        ,  820536.        ]],\n",
      "\n",
      "       [[1350330.        ,  555553.        ,  820536.        ],\n",
      "        [1350350.        ,  555736.        ,  820563.        ]],\n",
      "\n",
      "       [[1350350.        ,  555736.        ,  820563.        ],\n",
      "        [1350370.        ,  555854.        ,  820574.        ]],\n",
      "\n",
      "       [[1350370.        ,  555854.        ,  820574.        ],\n",
      "        [1350390.        ,  555925.        ,  820578.        ]],\n",
      "\n",
      "       [[1350390.        ,  555925.        ,  820578.        ],\n",
      "        [1350410.        ,  556009.        ,  820580.        ]],\n",
      "\n",
      "       [[1350410.        ,  556009.        ,  820580.        ],\n",
      "        [1350420.        ,  556089.        ,  820581.        ]],\n",
      "\n",
      "       [[1350420.        ,  556089.        ,  820581.        ],\n",
      "        [1350450.        ,  556205.        ,  820582.        ]],\n",
      "\n",
      "       [[1350450.        ,  556205.        ,  820582.        ],\n",
      "        [1350460.        ,  556278.        ,  820582.        ]],\n",
      "\n",
      "       [[1350460.        ,  556278.        ,  820582.        ],\n",
      "        [1350490.        ,  556414.        ,  820582.        ]],\n",
      "\n",
      "       [[1350490.        ,  556414.        ,  820582.        ],\n",
      "        [1350520.        ,  556546.        ,  820589.        ]],\n",
      "\n",
      "       [[1350520.        ,  556546.        ,  820589.        ],\n",
      "        [1350560.        ,  556695.        ,  820618.        ]],\n",
      "\n",
      "       [[1350560.        ,  556695.        ,  820618.        ],\n",
      "        [1350590.        ,  556798.        ,  820644.        ]],\n",
      "\n",
      "       [[1350590.        ,  556798.        ,  820644.        ],\n",
      "        [1350630.        ,  556908.        ,  820677.        ]],\n",
      "\n",
      "       [[1350630.        ,  556908.        ,  820677.        ],\n",
      "        [1350670.        ,  557050.        ,  820738.        ]],\n",
      "\n",
      "       [[1350670.        ,  557050.        ,  820738.        ],\n",
      "        [1350740.        ,  557235.        ,  820820.        ]],\n",
      "\n",
      "       [[1350740.        ,  557235.        ,  820820.        ],\n",
      "        [1350790.        ,  557375.        ,  820877.        ]],\n",
      "\n",
      "       [[1350790.        ,  557375.        ,  820877.        ],\n",
      "        [1350850.        ,  557493.        ,  820934.        ]],\n",
      "\n",
      "       [[1350850.        ,  557493.        ,  820934.        ],\n",
      "        [1350900.        ,  557652.        ,  820999.        ]],\n",
      "\n",
      "       [[1350900.        ,  557652.        ,  820999.        ],\n",
      "        [1350950.        ,  557857.        ,  821036.        ]],\n",
      "\n",
      "       [[1350950.        ,  557857.        ,  821036.        ],\n",
      "        [1351010.        ,  558075.        ,  821040.        ]],\n",
      "\n",
      "       [[1351010.        ,  558075.        ,  821040.        ],\n",
      "        [1351040.        ,  558279.        ,  821012.        ]],\n",
      "\n",
      "       [[1351040.        ,  558279.        ,  821012.        ],\n",
      "        [1351050.        ,  558435.        ,  821012.        ]],\n",
      "\n",
      "       [[1351050.        ,  558435.        ,  821012.        ],\n",
      "        [1351070.        ,  558638.        ,  820981.        ]],\n",
      "\n",
      "       [[1351070.        ,  558638.        ,  820981.        ],\n",
      "        [1351080.        ,  558725.        ,  820981.        ]],\n",
      "\n",
      "       [[1351080.        ,  558725.        ,  820981.        ],\n",
      "        [1351100.        ,  558860.        ,  820968.        ]],\n",
      "\n",
      "       [[1351100.        ,  558860.        ,  820968.        ],\n",
      "        [1351120.        ,  559013.        ,  820957.        ]],\n",
      "\n",
      "       [[1351120.        ,  559013.        ,  820957.        ],\n",
      "        [1351140.        ,  559140.        ,  820949.        ]],\n",
      "\n",
      "       [[1351140.        ,  559140.        ,  820949.        ],\n",
      "        [1351150.        ,  559212.        ,  820944.        ]],\n",
      "\n",
      "       [[1351150.        ,  559212.        ,  820944.        ],\n",
      "        [1351200.        ,  559370.        ,  820936.        ]],\n",
      "\n",
      "       [[1351200.        ,  559370.        ,  820936.        ],\n",
      "        [1351240.        ,  559518.        ,  820930.        ]],\n",
      "\n",
      "       [[1351240.        ,  559518.        ,  820930.        ],\n",
      "        [1351270.        ,  559610.        ,  820922.        ]],\n",
      "\n",
      "       [[1351270.        ,  559610.        ,  820922.        ],\n",
      "        [1351300.        ,  559755.        ,  820913.        ]],\n",
      "\n",
      "       [[1351300.        ,  559755.        ,  820913.        ],\n",
      "        [1351360.        ,  559980.        ,  820909.        ]],\n",
      "\n",
      "       [[1351360.        ,  559980.        ,  820909.        ],\n",
      "        [1351410.        ,  560168.        ,  820903.        ]],\n",
      "\n",
      "       [[1351410.        ,  560168.        ,  820903.        ],\n",
      "        [1351450.        ,  560317.        ,  820925.        ]],\n",
      "\n",
      "       [[1351450.        ,  560317.        ,  820925.        ],\n",
      "        [1351470.        ,  560434.        ,  820932.        ]],\n",
      "\n",
      "       [[1351470.        ,  560434.        ,  820932.        ],\n",
      "        [1351472.3969812 ,  560453.9810449 ,  820941.23522459]],\n",
      "\n",
      "       [[1351472.3969812 ,  560453.9810449 ,  820941.23522459],\n",
      "        [1351483.22237855,  560544.22069751,  820982.94392714]]])])\n"
     ]
    },
    {
     "name": "stdout",
     "output_type": "stream",
     "text": [
      "base_final_widths = [428.64984057 437.9965134 ]\n",
      "overall_ais_width = 330.8527724540625\n",
      "ais_width = 433.3231769814422\n",
      "Adding the following branches as true axons: [ 0.  1.  2.  3.  4.  5.  6.  7.  8.  9. 10. 11. 12. 13. 14. 15. 16. 17.\n",
      " 18. 19. 20. 21. 22. 23. 24. 25. 26. 27. 28. 29. 30. 31. 32. 33. 34. 35.\n",
      " 36. 37. 38. 39. 40. 41. 42. 43. 44. 45. 46. 47. 48. 49. 50. 51. 52. 53.]\n",
      "curr_soma_angle = 165.42\n",
      "max_axon_angle = 167.36830548429776\n",
      "Changing to a better axon candidate\n",
      "\n",
      "\n",
      " --- Working on limb 2, candidate # 0\n",
      "0 out of 3 branches are axons\n",
      "Axon percentage = 0.0\n",
      "Not adding candidate no axon branches detected \n",
      "\n",
      "\n",
      " --- Working on limb 2, candidate # 1\n",
      "0 out of 1 branches are axons\n",
      "Axon percentage = 0.0\n",
      "Not adding candidate no axon branches detected \n",
      "\n",
      "\n",
      " --- Working on limb 2, candidate # 2\n",
      "3 out of 7 branches are axons\n",
      "Axon percentage = 0.42857142857142855\n",
      "curr_axon_angle_threshold = 120\n",
      "candidate_nodes = [ 0  1  2  3  4  5  7  9 12]\n",
      "non_axon_branches_on_subgraph = [ 3  4  5  7  9 12]\n",
      "endnodes_to_test = []\n",
      "candidate_angles,restr_skels = (None, None)\n",
      "Not adding candidate because no angles (None) passed the threhold 120 \n",
      "\n",
      "\n",
      " --- Working on limb 3, candidate # 0\n",
      "0 out of 1 branches are axons\n",
      "Axon percentage = 0.0\n",
      "Not adding candidate no axon branches detected \n",
      "\n",
      "\n",
      " --- Working on limb 3, candidate # 1\n",
      "0 out of 3 branches are axons\n",
      "Axon percentage = 0.0\n",
      "Not adding candidate no axon branches detected \n",
      "\n",
      "\n",
      " --- Working on limb 4, candidate # 0\n",
      "0 out of 3 branches are axons\n",
      "Axon percentage = 0.0\n",
      "Not adding candidate no axon branches detected \n",
      "\n",
      "\n",
      " --- Working on limb 4, candidate # 1\n",
      "0 out of 1 branches are axons\n",
      "Axon percentage = 0.0\n",
      "Not adding candidate no axon branches detected \n",
      "\n",
      "\n",
      " --- Working on limb 5, candidate # 0\n",
      "0 out of 3 branches are axons\n",
      "Axon percentage = 0.0\n",
      "Not adding candidate no axon branches detected \n",
      "\n",
      "\n",
      " --- Working on limb 6, candidate # 0\n",
      "6 out of 9 branches are axons\n",
      "Axon percentage = 0.6666666666666666\n",
      "curr_axon_angle_threshold = 120\n",
      "candidate_nodes = [0 1 2 3 4 5 6 7 8]\n",
      "non_axon_branches_on_subgraph = [1 2 5]\n",
      "endnodes_to_test = []\n",
      "candidate_angles,restr_skels = (None, None)\n",
      "Not adding candidate because no angles (None) passed the threhold 120 \n",
      "Using the best axon approach\n",
      "Using True\n",
      "Limb L1: Axon branches before dendritic path filter = [ 0.  1.  2.  3.  4.  5.  6.  7.  8.  9. 10. 11. 12. 13. 14. 15. 16. 17.\n",
      " 18. 19. 20. 21. 22. 23. 24. 25. 26. 27. 28. 29. 30. 31. 32. 33. 34. 35.\n",
      " 36. 37. 38. 39. 40. 41. 42. 43. 44. 45. 46. 47. 48. 49. 50. 51. 52. 53.]\n",
      "Limb L1: Axon branches AFTER dendritic path filter = [ 0.  1.  2.  3.  4.  5.  6.  7.  8.  9. 10. 11. 12. 13. 14. 15. 16. 17.\n",
      " 18. 19. 20. 21. 22. 23. 24. 25. 26. 27. 28. 29. 30. 31. 32. 33. 34. 35.\n",
      " 36. 37. 38. 39. 40. 41. 42. 43. 44. 45. 46. 47. 48. 49. 50. 51. 52. 53.]\n",
      "\n",
      "\n",
      "Part 4: final_true_axons = {'L1': array([ 0.,  1.,  2.,  3.,  4.,  5.,  6.,  7.,  8.,  9., 10., 11., 12.,\n",
      "       13., 14., 15., 16., 17., 18., 19., 20., 21., 22., 23., 24., 25.,\n",
      "       26., 27., 28., 29., 30., 31., 32., 33., 34., 35., 36., 37., 38.,\n",
      "       39., 40., 41., 42., 43., 44., 45., 46., 47., 48., 49., 50., 51.,\n",
      "       52., 53.])}\n",
      "\n",
      "--- Working on filter 0:\n",
      "function = dendrite_on_axon_merges\n",
      "function __name__ = filter_away_dendrite_on_axon_merges\n",
      "function arguments = {'use_pre_existing_axon_labels': True}\n",
      "\n",
      "\n",
      "\n",
      "\n",
      "\n",
      " ---- Total time for applying filter: 50.883564472198486 -----\n",
      "Starting axon branch was the starting node so using border vertices and NOT computing upstream branch\n",
      "upstream_node_to_axon_starting_branch = None\n",
      "root_curr = [1348840.   541246.2  817276.4]\n",
      "Time for preparing soma vertices and root: 0.0006735324859619141\n",
      "invalidation_d = 2000\n",
      "cc_vertex_thresh = 10\n"
     ]
    },
    {
     "name": "stderr",
     "output_type": "stream",
     "text": [
      "\r",
      "  0%|          | 0/1 [00:00<?, ?it/s]"
     ]
    },
    {
     "data": {
      "application/vnd.jupyter.widget-view+json": {
       "model_id": "cfa082c7172d4bc2885b70c801258650",
       "version_major": 2,
       "version_minor": 0
      },
      "text/plain": [
       "  0%|          | 0/101568 [00:00<?, ?it/s]"
      ]
     },
     "metadata": {},
     "output_type": "display_data"
    },
    {
     "name": "stderr",
     "output_type": "stream",
     "text": [
      "100%|██████████| 1/1 [00:10<00:00, 10.67s/it]\n"
     ]
    },
    {
     "name": "stdout",
     "output_type": "stream",
     "text": [
      "meshparty_segment_size = 100\n",
      "Time for 1st pass MP skeletonization: 13.961389780044556\n",
      "branches_touching_root = [17]\n",
      "combining close nodes\n",
      "combine_threshold = 1300\n",
      "length of Graph = 26007\n",
      "After combining close endpoints max(kept_branches_idx) = 173, len(kept_branches_idx) = 163\n",
      "empty_indices % = 0.0\n",
      " conflict_indices % = 0.01873853562546661\n"
     ]
    },
    {
     "data": {
      "application/vnd.jupyter.widget-view+json": {
       "model_id": "f28e1cdb04964c5ea3fd0e5aea67f838",
       "version_major": 2,
       "version_minor": 0
      },
      "text/plain": [
       "  0%|          | 0/75 [00:00<?, ?it/s]"
      ]
     },
     "metadata": {},
     "output_type": "display_data"
    },
    {
     "name": "stdout",
     "output_type": "stream",
     "text": [
      "AFTER face_lookup_resolved_test\n"
     ]
    },
    {
     "data": {
      "application/vnd.jupyter.widget-view+json": {
       "model_id": "ed3f9bb5dba54b9aa42a3329f1a34be1",
       "version_major": 2,
       "version_minor": 0
      },
      "text/plain": [
       "  0%|          | 0/163 [00:00<?, ?it/s]"
      ]
     },
     "metadata": {},
     "output_type": "display_data"
    },
    {
     "name": "stdout",
     "output_type": "stream",
     "text": [
      "Decomposing first pass: 41.232260942459106\n",
      "Only Using MeshParty Skeletonization and Mesh Correspondence\n",
      "Another print\n",
      "Divinding into MP and MAP pieces: 0.00018858909606933594\n",
      "Total time for MAP sublimb processing 4.76837158203125e-06\n",
      "---- Working on MP Decomposition #0 ----\n",
      "Using Quicker soma_to_piece_touching_vertices because no MAP and only one sublimb_mesh piece \n",
      "MP filtering soma verts: 0.0002872943878173828\n",
      "Fixing Possible Soma Extension Branch for Sublimb 0\n",
      "Total time for mesh KDTree = 0.17796707153320312\n",
      "sbv[0].reshape(-1,3) = [[1348840.   541246.2  817276.4]]\n",
      "closest_sk_pt_coord BEFORE = [1348964.14024777  541728.93462084  817404.77605041]\n",
      "current_skeleton.shape = (200, 2, 3)\n",
      "node_for_stitch = 0: [1348964.14024777  541728.93462084  817404.77605041]\n",
      "node_for_stitch AFTER = 0: [1348964.14024777  541728.93462084  817404.77605041]\n",
      "possible_node_loc = [  0 194]\n",
      "possible_node_loc AFTER = [  0 194]\n",
      "curr_shortest_path = [0]\n",
      "Current stitch point was a branch or endpoint\n",
      "change_status for create soma extending pieces = False\n",
      "closest_sk_pt_coord AFTER = [1348964.14024777  541728.93462084  817404.77605041]\n",
      "skipping soma 0 because closest skeleton node was already end node\n",
      "endpoints_must_keep = {0: array([[1348964.14024777,  541728.93462084,  817404.77605041]])}\n",
      "match_sk_branches = [14]\n",
      "The new branch info was none so skipping \n",
      "\n",
      "No soma extending branch was added for this sublimb even though it had a soma border (means they already existed)\n",
      "MP (because soma touching verts) soma extension add: 15.921622514724731\n",
      "There were not both MAP and MP pieces so skipping the stitch resolving phase\n",
      "Time for decomp of Limb = 72.94281387329102\n",
      "Number of matching vertices = 23\n",
      "Only one endpoint after filtering away the endpoints that are not on the skeleton\n",
      "Using Distance measure skeletal_distance\n",
      "endpoints_must_keep = [[1348964.14024777  541728.93462084  817404.77605041]]\n",
      "Number of end_nodes BEFORE filtering = 89\n",
      "all_single_nodes_to_eliminate = [61]\n"
     ]
    },
    {
     "data": {
      "application/vnd.jupyter.widget-view+json": {
       "model_id": "eb10a1d666db48e1a2a58f5ff923faf2",
       "version_major": 2,
       "version_minor": 0
      },
      "text/plain": [
       "  0%|          | 0/8 [00:00<?, ?it/s]"
      ]
     },
     "metadata": {},
     "output_type": "display_data"
    },
    {
     "name": "stdout",
     "output_type": "stream",
     "text": [
      "Removed 8 skeletal branches\n"
     ]
    },
    {
     "data": {
      "application/vnd.jupyter.widget-view+json": {
       "model_id": "95a02645b66d4e01a9db1c9686dbdd7c",
       "version_major": 2,
       "version_minor": 0
      },
      "text/plain": [
       "  0%|          | 0/163 [00:00<?, ?it/s]"
      ]
     },
     "metadata": {},
     "output_type": "display_data"
    },
    {
     "name": "stdout",
     "output_type": "stream",
     "text": [
      "202426 202427\n",
      "For marked faces: None\n",
      "empty_indices % = 0.0004544848266288588\n",
      " conflict_indices % = 0.0\n"
     ]
    },
    {
     "data": {
      "application/vnd.jupyter.widget-view+json": {
       "model_id": "68160d2c90c14799827bbac8678830f3",
       "version_major": 2,
       "version_minor": 0
      },
      "text/plain": [
       "  0%|          | 0/1 [00:00<?, ?it/s]"
      ]
     },
     "metadata": {},
     "output_type": "display_data"
    },
    {
     "name": "stdout",
     "output_type": "stream",
     "text": [
      "AFTER face_lookup_resolved_test\n"
     ]
    },
    {
     "data": {
      "application/vnd.jupyter.widget-view+json": {
       "model_id": "d12d9d41da6449c3b84cad9049782a50",
       "version_major": 2,
       "version_minor": 0
      },
      "text/plain": [
       "  0%|          | 0/148 [00:00<?, ?it/s]"
      ]
     },
     "metadata": {},
     "output_type": "display_data"
    },
    {
     "name": "stdout",
     "output_type": "stream",
     "text": [
      "Limb Correspondence before stitching = 148\n",
      "Limb Correspondence AFTER stitching = 148\n",
      "Upstream node was None so don't have to adjust\n",
      "concept_network_dict = {0: [<networkx_utils.GraphOrderedEdges object at 0x7f3c7664de10>]}\n",
      "Assigning the old width calculation because no valid new widths\n",
      "\n",
      "\n",
      "----Working on seperate_graph 0----\n",
      "\n",
      "\n",
      "---------Working on soma_idx = 0, soma_group_idx 0, endpt = [1348964.14024777  541728.93462084  817404.77605041]---------\n",
      "Starting_edge inside branches_to_conept = [[1348964.14024777  541728.93462084  817404.77605041]\n",
      " [1351517.84565173  560608.21852905  821071.11405119]]\n",
      "At the start, starting_node (in terms of the skeleton, that shouldn't match the starting edge) = [108]\n",
      "printing out current edge:\n",
      "[[1348964.14024777  541728.93462084  817404.77605041]\n",
      " [1351517.84565173  560608.21852905  821071.11405119]]\n",
      "edge_endpoints_to_process was empty so exiting loop after 148 iterations\n",
      "starting_node in concept map (that should match the starting edge) = 117\n",
      "Total time for branches to concept conversion = 3.4493536949157715\n",
      "\n",
      "Done generating concept network \n",
      "\n",
      "\n"
     ]
    },
    {
     "data": {
      "application/vnd.jupyter.widget-view+json": {
       "model_id": "58ca74a8771046dbbaf37d43148feadb",
       "version_major": 2,
       "version_minor": 0
      },
      "text/plain": [
       "  0%|          | 0/102 [00:00<?, ?it/s]"
      ]
     },
     "metadata": {},
     "output_type": "display_data"
    },
    {
     "data": {
      "application/vnd.jupyter.widget-view+json": {
       "model_id": "849375826b654dcaa0f555c3f9bbacd4",
       "version_major": 2,
       "version_minor": 0
      },
      "text/plain": [
       "  0%|          | 0/6 [00:00<?, ?it/s]"
      ]
     },
     "metadata": {},
     "output_type": "display_data"
    },
    {
     "data": {
      "application/vnd.jupyter.widget-view+json": {
       "model_id": "a685e58b5bdb47aba822a322a8cb3770",
       "version_major": 2,
       "version_minor": 0
      },
      "text/plain": [
       "  0%|          | 0/9 [00:00<?, ?it/s]"
      ]
     },
     "metadata": {},
     "output_type": "display_data"
    },
    {
     "data": {
      "application/vnd.jupyter.widget-view+json": {
       "model_id": "74c698a5bb7f446fa0f4e9270b1646bf",
       "version_major": 2,
       "version_minor": 0
      },
      "text/plain": [
       "  0%|          | 0/5 [00:00<?, ?it/s]"
      ]
     },
     "metadata": {},
     "output_type": "display_data"
    },
    {
     "data": {
      "application/vnd.jupyter.widget-view+json": {
       "model_id": "acb9655894fd4a9690191b41874eecc8",
       "version_major": 2,
       "version_minor": 0
      },
      "text/plain": [
       "  0%|          | 0/10 [00:00<?, ?it/s]"
      ]
     },
     "metadata": {},
     "output_type": "display_data"
    },
    {
     "data": {
      "application/vnd.jupyter.widget-view+json": {
       "model_id": "1fbd924f2e604b27a976123afc2ac3ae",
       "version_major": 2,
       "version_minor": 0
      },
      "text/plain": [
       "  0%|          | 0/3 [00:00<?, ?it/s]"
      ]
     },
     "metadata": {},
     "output_type": "display_data"
    },
    {
     "data": {
      "application/vnd.jupyter.widget-view+json": {
       "model_id": "eb8a9cd1458c4dba8053d98414c6f404",
       "version_major": 2,
       "version_minor": 0
      },
      "text/plain": [
       "  0%|          | 0/2 [00:00<?, ?it/s]"
      ]
     },
     "metadata": {},
     "output_type": "display_data"
    },
    {
     "data": {
      "application/vnd.jupyter.widget-view+json": {
       "model_id": "640279277527430fab299857ecaea495",
       "version_major": 2,
       "version_minor": 0
      },
      "text/plain": [
       "  0%|          | 0/13 [00:00<?, ?it/s]"
      ]
     },
     "metadata": {},
     "output_type": "display_data"
    },
    {
     "data": {
      "application/vnd.jupyter.widget-view+json": {
       "model_id": "0c846ff840bc4175a1260d0c90d72f71",
       "version_major": 2,
       "version_minor": 0
      },
      "text/plain": [
       "  0%|          | 0/19 [00:00<?, ?it/s]"
      ]
     },
     "metadata": {},
     "output_type": "display_data"
    },
    {
     "data": {
      "application/vnd.jupyter.widget-view+json": {
       "model_id": "11d8152a4c754e61b33e3c8f77a453d4",
       "version_major": 2,
       "version_minor": 0
      },
      "text/plain": [
       "  0%|          | 0/12 [00:00<?, ?it/s]"
      ]
     },
     "metadata": {},
     "output_type": "display_data"
    },
    {
     "data": {
      "application/vnd.jupyter.widget-view+json": {
       "model_id": "f6d8976e506448e68a8de6c90c8de8f2",
       "version_major": 2,
       "version_minor": 0
      },
      "text/plain": [
       "  0%|          | 0/10 [00:00<?, ?it/s]"
      ]
     },
     "metadata": {},
     "output_type": "display_data"
    },
    {
     "data": {
      "application/vnd.jupyter.widget-view+json": {
       "model_id": "56f341ea33914466b0e5fa8c7ee096e8",
       "version_major": 2,
       "version_minor": 0
      },
      "text/plain": [
       "  0%|          | 0/35 [00:00<?, ?it/s]"
      ]
     },
     "metadata": {},
     "output_type": "display_data"
    },
    {
     "data": {
      "application/vnd.jupyter.widget-view+json": {
       "model_id": "3d7c20d5cade4b36b91ef5267199cf11",
       "version_major": 2,
       "version_minor": 0
      },
      "text/plain": [
       "  0%|          | 0/6 [00:00<?, ?it/s]"
      ]
     },
     "metadata": {},
     "output_type": "display_data"
    },
    {
     "data": {
      "application/vnd.jupyter.widget-view+json": {
       "model_id": "a96471bf8e724884a78a1661dfb85a03",
       "version_major": 2,
       "version_minor": 0
      },
      "text/plain": [
       "  0%|          | 0/32 [00:00<?, ?it/s]"
      ]
     },
     "metadata": {},
     "output_type": "display_data"
    },
    {
     "data": {
      "application/vnd.jupyter.widget-view+json": {
       "model_id": "fde290c14b584b2faec4d00487e538ec",
       "version_major": 2,
       "version_minor": 0
      },
      "text/plain": [
       "  0%|          | 0/25 [00:00<?, ?it/s]"
      ]
     },
     "metadata": {},
     "output_type": "display_data"
    },
    {
     "data": {
      "application/vnd.jupyter.widget-view+json": {
       "model_id": "7d144aff6d6945d2a6f847ade52c3427",
       "version_major": 2,
       "version_minor": 0
      },
      "text/plain": [
       "  0%|          | 0/14 [00:00<?, ?it/s]"
      ]
     },
     "metadata": {},
     "output_type": "display_data"
    },
    {
     "data": {
      "application/vnd.jupyter.widget-view+json": {
       "model_id": "23c60c1b10464d789862222bbbcac6a9",
       "version_major": 2,
       "version_minor": 0
      },
      "text/plain": [
       "  0%|          | 0/4 [00:00<?, ?it/s]"
      ]
     },
     "metadata": {},
     "output_type": "display_data"
    },
    {
     "data": {
      "application/vnd.jupyter.widget-view+json": {
       "model_id": "772607543eb14a44b05b9a6688c11446",
       "version_major": 2,
       "version_minor": 0
      },
      "text/plain": [
       "  0%|          | 0/3 [00:00<?, ?it/s]"
      ]
     },
     "metadata": {},
     "output_type": "display_data"
    },
    {
     "data": {
      "application/vnd.jupyter.widget-view+json": {
       "model_id": "60621678239c4374bc8b91af35ef93cc",
       "version_major": 2,
       "version_minor": 0
      },
      "text/plain": [
       "  0%|          | 0/3 [00:00<?, ?it/s]"
      ]
     },
     "metadata": {},
     "output_type": "display_data"
    },
    {
     "data": {
      "application/vnd.jupyter.widget-view+json": {
       "model_id": "f3038873d12d4390a36724fe2b95a97e",
       "version_major": 2,
       "version_minor": 0
      },
      "text/plain": [
       "  0%|          | 0/12 [00:00<?, ?it/s]"
      ]
     },
     "metadata": {},
     "output_type": "display_data"
    },
    {
     "data": {
      "application/vnd.jupyter.widget-view+json": {
       "model_id": "de685e6f249f45b0a7cff3989d42172f",
       "version_major": 2,
       "version_minor": 0
      },
      "text/plain": [
       "  0%|          | 0/6 [00:00<?, ?it/s]"
      ]
     },
     "metadata": {},
     "output_type": "display_data"
    },
    {
     "data": {
      "application/vnd.jupyter.widget-view+json": {
       "model_id": "7ba4e4164271492f905e1b3358e0bc22",
       "version_major": 2,
       "version_minor": 0
      },
      "text/plain": [
       "  0%|          | 0/49 [00:00<?, ?it/s]"
      ]
     },
     "metadata": {},
     "output_type": "display_data"
    },
    {
     "data": {
      "application/vnd.jupyter.widget-view+json": {
       "model_id": "384d035b1f624e77b62e7f6fd0885b2a",
       "version_major": 2,
       "version_minor": 0
      },
      "text/plain": [
       "  0%|          | 0/2 [00:00<?, ?it/s]"
      ]
     },
     "metadata": {},
     "output_type": "display_data"
    },
    {
     "data": {
      "application/vnd.jupyter.widget-view+json": {
       "model_id": "8ef1f0af928d48539565d08cbc65af7c",
       "version_major": 2,
       "version_minor": 0
      },
      "text/plain": [
       "  0%|          | 0/3 [00:00<?, ?it/s]"
      ]
     },
     "metadata": {},
     "output_type": "display_data"
    },
    {
     "data": {
      "application/vnd.jupyter.widget-view+json": {
       "model_id": "03e48698841e4efd9e45da0a45ae0e72",
       "version_major": 2,
       "version_minor": 0
      },
      "text/plain": [
       "  0%|          | 0/23 [00:00<?, ?it/s]"
      ]
     },
     "metadata": {},
     "output_type": "display_data"
    },
    {
     "data": {
      "application/vnd.jupyter.widget-view+json": {
       "model_id": "6548998a5a7245d4a6efbe729b1ebf53",
       "version_major": 2,
       "version_minor": 0
      },
      "text/plain": [
       "  0%|          | 0/10 [00:00<?, ?it/s]"
      ]
     },
     "metadata": {},
     "output_type": "display_data"
    },
    {
     "data": {
      "application/vnd.jupyter.widget-view+json": {
       "model_id": "87065f06d7a84f6e8d0b690e91f226e8",
       "version_major": 2,
       "version_minor": 0
      },
      "text/plain": [
       "  0%|          | 0/36 [00:00<?, ?it/s]"
      ]
     },
     "metadata": {},
     "output_type": "display_data"
    },
    {
     "data": {
      "application/vnd.jupyter.widget-view+json": {
       "model_id": "4ec0a191746740fab1cd1e89673a2ccf",
       "version_major": 2,
       "version_minor": 0
      },
      "text/plain": [
       "  0%|          | 0/8 [00:00<?, ?it/s]"
      ]
     },
     "metadata": {},
     "output_type": "display_data"
    },
    {
     "data": {
      "application/vnd.jupyter.widget-view+json": {
       "model_id": "8c04b3557f5c4d4ca3b791eabfb2c72f",
       "version_major": 2,
       "version_minor": 0
      },
      "text/plain": [
       "  0%|          | 0/4 [00:00<?, ?it/s]"
      ]
     },
     "metadata": {},
     "output_type": "display_data"
    },
    {
     "data": {
      "application/vnd.jupyter.widget-view+json": {
       "model_id": "b457d6b1aea140e3856a4892a9f44ac1",
       "version_major": 2,
       "version_minor": 0
      },
      "text/plain": [
       "  0%|          | 0/28 [00:00<?, ?it/s]"
      ]
     },
     "metadata": {},
     "output_type": "display_data"
    },
    {
     "data": {
      "application/vnd.jupyter.widget-view+json": {
       "model_id": "ba786e9fec7e42e89f434728c596d3c8",
       "version_major": 2,
       "version_minor": 0
      },
      "text/plain": [
       "  0%|          | 0/8 [00:00<?, ?it/s]"
      ]
     },
     "metadata": {},
     "output_type": "display_data"
    },
    {
     "data": {
      "application/vnd.jupyter.widget-view+json": {
       "model_id": "0d8032531471440bb7b84a2a1cf650d5",
       "version_major": 2,
       "version_minor": 0
      },
      "text/plain": [
       "  0%|          | 0/14 [00:00<?, ?it/s]"
      ]
     },
     "metadata": {},
     "output_type": "display_data"
    },
    {
     "data": {
      "application/vnd.jupyter.widget-view+json": {
       "model_id": "889e2a7de0a64f158f3146b23ca69b23",
       "version_major": 2,
       "version_minor": 0
      },
      "text/plain": [
       "  0%|          | 0/10 [00:00<?, ?it/s]"
      ]
     },
     "metadata": {},
     "output_type": "display_data"
    },
    {
     "data": {
      "application/vnd.jupyter.widget-view+json": {
       "model_id": "19540f2290164d0b83bb3700cfde78ce",
       "version_major": 2,
       "version_minor": 0
      },
      "text/plain": [
       "  0%|          | 0/9 [00:00<?, ?it/s]"
      ]
     },
     "metadata": {},
     "output_type": "display_data"
    },
    {
     "data": {
      "application/vnd.jupyter.widget-view+json": {
       "model_id": "9d2659a399b6483a9011372684c1cc8b",
       "version_major": 2,
       "version_minor": 0
      },
      "text/plain": [
       "  0%|          | 0/3 [00:00<?, ?it/s]"
      ]
     },
     "metadata": {},
     "output_type": "display_data"
    },
    {
     "data": {
      "application/vnd.jupyter.widget-view+json": {
       "model_id": "ede73c2d2d8c4413911375b7c2d21af6",
       "version_major": 2,
       "version_minor": 0
      },
      "text/plain": [
       "  0%|          | 0/6 [00:00<?, ?it/s]"
      ]
     },
     "metadata": {},
     "output_type": "display_data"
    },
    {
     "data": {
      "application/vnd.jupyter.widget-view+json": {
       "model_id": "ab4419b2eef248f3b8e68f34b2f2c2ec",
       "version_major": 2,
       "version_minor": 0
      },
      "text/plain": [
       "  0%|          | 0/4 [00:00<?, ?it/s]"
      ]
     },
     "metadata": {},
     "output_type": "display_data"
    },
    {
     "data": {
      "application/vnd.jupyter.widget-view+json": {
       "model_id": "1a8ebaaea5054352bc81edac630be2ca",
       "version_major": 2,
       "version_minor": 0
      },
      "text/plain": [
       "  0%|          | 0/10 [00:00<?, ?it/s]"
      ]
     },
     "metadata": {},
     "output_type": "display_data"
    },
    {
     "data": {
      "application/vnd.jupyter.widget-view+json": {
       "model_id": "0c07185d481a40b3a49764e1367f56be",
       "version_major": 2,
       "version_minor": 0
      },
      "text/plain": [
       "  0%|          | 0/26 [00:00<?, ?it/s]"
      ]
     },
     "metadata": {},
     "output_type": "display_data"
    },
    {
     "data": {
      "application/vnd.jupyter.widget-view+json": {
       "model_id": "8a44326d7b2042a6b680e2e455ad293b",
       "version_major": 2,
       "version_minor": 0
      },
      "text/plain": [
       "  0%|          | 0/8 [00:00<?, ?it/s]"
      ]
     },
     "metadata": {},
     "output_type": "display_data"
    },
    {
     "data": {
      "application/vnd.jupyter.widget-view+json": {
       "model_id": "54c81e2958e14f8098bc53e7a5b17cb9",
       "version_major": 2,
       "version_minor": 0
      },
      "text/plain": [
       "  0%|          | 0/17 [00:00<?, ?it/s]"
      ]
     },
     "metadata": {},
     "output_type": "display_data"
    },
    {
     "data": {
      "application/vnd.jupyter.widget-view+json": {
       "model_id": "745582ab5de34d2ca866fb0389e4726f",
       "version_major": 2,
       "version_minor": 0
      },
      "text/plain": [
       "  0%|          | 0/23 [00:00<?, ?it/s]"
      ]
     },
     "metadata": {},
     "output_type": "display_data"
    },
    {
     "data": {
      "application/vnd.jupyter.widget-view+json": {
       "model_id": "f34f11b8936140d38361dcf1bc64aacd",
       "version_major": 2,
       "version_minor": 0
      },
      "text/plain": [
       "  0%|          | 0/6 [00:00<?, ?it/s]"
      ]
     },
     "metadata": {},
     "output_type": "display_data"
    },
    {
     "data": {
      "application/vnd.jupyter.widget-view+json": {
       "model_id": "685d2cee952b49f58bf83985df5b5534",
       "version_major": 2,
       "version_minor": 0
      },
      "text/plain": [
       "  0%|          | 0/5 [00:00<?, ?it/s]"
      ]
     },
     "metadata": {},
     "output_type": "display_data"
    },
    {
     "data": {
      "application/vnd.jupyter.widget-view+json": {
       "model_id": "02f3606ca91b4e12a031ec30ceb4c957",
       "version_major": 2,
       "version_minor": 0
      },
      "text/plain": [
       "  0%|          | 0/4 [00:00<?, ?it/s]"
      ]
     },
     "metadata": {},
     "output_type": "display_data"
    },
    {
     "data": {
      "application/vnd.jupyter.widget-view+json": {
       "model_id": "a89b088403674c2d8de94015191c502c",
       "version_major": 2,
       "version_minor": 0
      },
      "text/plain": [
       "  0%|          | 0/4 [00:00<?, ?it/s]"
      ]
     },
     "metadata": {},
     "output_type": "display_data"
    },
    {
     "data": {
      "application/vnd.jupyter.widget-view+json": {
       "model_id": "df40f20aa6f94e1fbe12e65b9abf39b2",
       "version_major": 2,
       "version_minor": 0
      },
      "text/plain": [
       "  0%|          | 0/9 [00:00<?, ?it/s]"
      ]
     },
     "metadata": {},
     "output_type": "display_data"
    },
    {
     "data": {
      "application/vnd.jupyter.widget-view+json": {
       "model_id": "9ec637fedc9341c1bdad387fdf875e1d",
       "version_major": 2,
       "version_minor": 0
      },
      "text/plain": [
       "  0%|          | 0/11 [00:00<?, ?it/s]"
      ]
     },
     "metadata": {},
     "output_type": "display_data"
    },
    {
     "data": {
      "application/vnd.jupyter.widget-view+json": {
       "model_id": "db010f962b864cf28e66d5be9fe93150",
       "version_major": 2,
       "version_minor": 0
      },
      "text/plain": [
       "  0%|          | 0/7 [00:00<?, ?it/s]"
      ]
     },
     "metadata": {},
     "output_type": "display_data"
    },
    {
     "data": {
      "application/vnd.jupyter.widget-view+json": {
       "model_id": "b8f6d5e7ee8345fa8c70164a84ba6701",
       "version_major": 2,
       "version_minor": 0
      },
      "text/plain": [
       "  0%|          | 0/44 [00:00<?, ?it/s]"
      ]
     },
     "metadata": {},
     "output_type": "display_data"
    },
    {
     "data": {
      "application/vnd.jupyter.widget-view+json": {
       "model_id": "3b0183fa963d462aada00d8a948c4ff9",
       "version_major": 2,
       "version_minor": 0
      },
      "text/plain": [
       "  0%|          | 0/16 [00:00<?, ?it/s]"
      ]
     },
     "metadata": {},
     "output_type": "display_data"
    },
    {
     "data": {
      "application/vnd.jupyter.widget-view+json": {
       "model_id": "231ab1dc31964322b81e8b984f63bf5f",
       "version_major": 2,
       "version_minor": 0
      },
      "text/plain": [
       "  0%|          | 0/2 [00:00<?, ?it/s]"
      ]
     },
     "metadata": {},
     "output_type": "display_data"
    },
    {
     "data": {
      "application/vnd.jupyter.widget-view+json": {
       "model_id": "d0164477fa8543c0b07dca927985d50d",
       "version_major": 2,
       "version_minor": 0
      },
      "text/plain": [
       "  0%|          | 0/9 [00:00<?, ?it/s]"
      ]
     },
     "metadata": {},
     "output_type": "display_data"
    },
    {
     "data": {
      "application/vnd.jupyter.widget-view+json": {
       "model_id": "2196768d51684ee7badfa1c68bf48842",
       "version_major": 2,
       "version_minor": 0
      },
      "text/plain": [
       "  0%|          | 0/13 [00:00<?, ?it/s]"
      ]
     },
     "metadata": {},
     "output_type": "display_data"
    },
    {
     "data": {
      "application/vnd.jupyter.widget-view+json": {
       "model_id": "af45ae22ef9d46ba8d316026cf9225c8",
       "version_major": 2,
       "version_minor": 0
      },
      "text/plain": [
       "  0%|          | 0/8 [00:00<?, ?it/s]"
      ]
     },
     "metadata": {},
     "output_type": "display_data"
    },
    {
     "data": {
      "application/vnd.jupyter.widget-view+json": {
       "model_id": "5a8eef56071f4a3f8190afa3dbb3f535",
       "version_major": 2,
       "version_minor": 0
      },
      "text/plain": [
       "  0%|          | 0/4 [00:00<?, ?it/s]"
      ]
     },
     "metadata": {},
     "output_type": "display_data"
    },
    {
     "data": {
      "application/vnd.jupyter.widget-view+json": {
       "model_id": "7005e7c7518844f897a484956008137b",
       "version_major": 2,
       "version_minor": 0
      },
      "text/plain": [
       "  0%|          | 0/7 [00:00<?, ?it/s]"
      ]
     },
     "metadata": {},
     "output_type": "display_data"
    },
    {
     "data": {
      "application/vnd.jupyter.widget-view+json": {
       "model_id": "008bcc860a4443f19f0ea6db26ca7b9e",
       "version_major": 2,
       "version_minor": 0
      },
      "text/plain": [
       "  0%|          | 0/48 [00:00<?, ?it/s]"
      ]
     },
     "metadata": {},
     "output_type": "display_data"
    },
    {
     "data": {
      "application/vnd.jupyter.widget-view+json": {
       "model_id": "615f89bebd674d37af2c9aba5899ba15",
       "version_major": 2,
       "version_minor": 0
      },
      "text/plain": [
       "  0%|          | 0/3 [00:00<?, ?it/s]"
      ]
     },
     "metadata": {},
     "output_type": "display_data"
    },
    {
     "data": {
      "application/vnd.jupyter.widget-view+json": {
       "model_id": "28c8a51ea0834537aba8040f665553fe",
       "version_major": 2,
       "version_minor": 0
      },
      "text/plain": [
       "  0%|          | 0/14 [00:00<?, ?it/s]"
      ]
     },
     "metadata": {},
     "output_type": "display_data"
    },
    {
     "data": {
      "application/vnd.jupyter.widget-view+json": {
       "model_id": "25e8d4b8358e4b6e8461a2792cb7efb3",
       "version_major": 2,
       "version_minor": 0
      },
      "text/plain": [
       "  0%|          | 0/4 [00:00<?, ?it/s]"
      ]
     },
     "metadata": {},
     "output_type": "display_data"
    },
    {
     "data": {
      "application/vnd.jupyter.widget-view+json": {
       "model_id": "a226e001b07d4e9eb1b0c17f84ebc410",
       "version_major": 2,
       "version_minor": 0
      },
      "text/plain": [
       "  0%|          | 0/9 [00:00<?, ?it/s]"
      ]
     },
     "metadata": {},
     "output_type": "display_data"
    },
    {
     "data": {
      "application/vnd.jupyter.widget-view+json": {
       "model_id": "4680019a666843f593280ed1135e366c",
       "version_major": 2,
       "version_minor": 0
      },
      "text/plain": [
       "  0%|          | 0/4 [00:00<?, ?it/s]"
      ]
     },
     "metadata": {},
     "output_type": "display_data"
    },
    {
     "data": {
      "application/vnd.jupyter.widget-view+json": {
       "model_id": "49dbbfd719264eedb35f63a26675fe48",
       "version_major": 2,
       "version_minor": 0
      },
      "text/plain": [
       "  0%|          | 0/3 [00:00<?, ?it/s]"
      ]
     },
     "metadata": {},
     "output_type": "display_data"
    },
    {
     "data": {
      "application/vnd.jupyter.widget-view+json": {
       "model_id": "85e65f3b2e094f0b80744c085dffc0ae",
       "version_major": 2,
       "version_minor": 0
      },
      "text/plain": [
       "  0%|          | 0/9 [00:00<?, ?it/s]"
      ]
     },
     "metadata": {},
     "output_type": "display_data"
    },
    {
     "data": {
      "application/vnd.jupyter.widget-view+json": {
       "model_id": "3b855030f0b94186be5ce24b457b99c5",
       "version_major": 2,
       "version_minor": 0
      },
      "text/plain": [
       "  0%|          | 0/8 [00:00<?, ?it/s]"
      ]
     },
     "metadata": {},
     "output_type": "display_data"
    },
    {
     "data": {
      "application/vnd.jupyter.widget-view+json": {
       "model_id": "78c24cc31e1f4e88bbd6f8bf24526580",
       "version_major": 2,
       "version_minor": 0
      },
      "text/plain": [
       "  0%|          | 0/8 [00:00<?, ?it/s]"
      ]
     },
     "metadata": {},
     "output_type": "display_data"
    },
    {
     "data": {
      "application/vnd.jupyter.widget-view+json": {
       "model_id": "b3b1b76b3dfe457fbf6a7b096eb9de38",
       "version_major": 2,
       "version_minor": 0
      },
      "text/plain": [
       "  0%|          | 0/23 [00:00<?, ?it/s]"
      ]
     },
     "metadata": {},
     "output_type": "display_data"
    },
    {
     "data": {
      "application/vnd.jupyter.widget-view+json": {
       "model_id": "0785dfa09e7c4d30b56b1f21f05a6018",
       "version_major": 2,
       "version_minor": 0
      },
      "text/plain": [
       "  0%|          | 0/18 [00:00<?, ?it/s]"
      ]
     },
     "metadata": {},
     "output_type": "display_data"
    },
    {
     "data": {
      "application/vnd.jupyter.widget-view+json": {
       "model_id": "06536f162adb4e16abc6250911c4938e",
       "version_major": 2,
       "version_minor": 0
      },
      "text/plain": [
       "  0%|          | 0/7 [00:00<?, ?it/s]"
      ]
     },
     "metadata": {},
     "output_type": "display_data"
    },
    {
     "data": {
      "application/vnd.jupyter.widget-view+json": {
       "model_id": "d9719e12d82046099f9630feed507067",
       "version_major": 2,
       "version_minor": 0
      },
      "text/plain": [
       "  0%|          | 0/42 [00:00<?, ?it/s]"
      ]
     },
     "metadata": {},
     "output_type": "display_data"
    },
    {
     "data": {
      "application/vnd.jupyter.widget-view+json": {
       "model_id": "a2bea3379bf44a1b99301fd1c75c8ffc",
       "version_major": 2,
       "version_minor": 0
      },
      "text/plain": [
       "  0%|          | 0/16 [00:00<?, ?it/s]"
      ]
     },
     "metadata": {},
     "output_type": "display_data"
    },
    {
     "data": {
      "application/vnd.jupyter.widget-view+json": {
       "model_id": "b80843bc45e34d318ec6cf6ef2a6b8a3",
       "version_major": 2,
       "version_minor": 0
      },
      "text/plain": [
       "  0%|          | 0/10 [00:00<?, ?it/s]"
      ]
     },
     "metadata": {},
     "output_type": "display_data"
    },
    {
     "data": {
      "application/vnd.jupyter.widget-view+json": {
       "model_id": "ef03c4a10f324eaeba43545009cdcf2d",
       "version_major": 2,
       "version_minor": 0
      },
      "text/plain": [
       "  0%|          | 0/11 [00:00<?, ?it/s]"
      ]
     },
     "metadata": {},
     "output_type": "display_data"
    },
    {
     "data": {
      "application/vnd.jupyter.widget-view+json": {
       "model_id": "41c274badb5d4ed49b50bf440c131acc",
       "version_major": 2,
       "version_minor": 0
      },
      "text/plain": [
       "  0%|          | 0/2 [00:00<?, ?it/s]"
      ]
     },
     "metadata": {},
     "output_type": "display_data"
    },
    {
     "data": {
      "application/vnd.jupyter.widget-view+json": {
       "model_id": "7cd52762a45c4c8f92c1d557ec435b40",
       "version_major": 2,
       "version_minor": 0
      },
      "text/plain": [
       "  0%|          | 0/71 [00:00<?, ?it/s]"
      ]
     },
     "metadata": {},
     "output_type": "display_data"
    },
    {
     "data": {
      "application/vnd.jupyter.widget-view+json": {
       "model_id": "541f81d798224c2b800c2f54f4e0c5c8",
       "version_major": 2,
       "version_minor": 0
      },
      "text/plain": [
       "  0%|          | 0/14 [00:00<?, ?it/s]"
      ]
     },
     "metadata": {},
     "output_type": "display_data"
    },
    {
     "data": {
      "application/vnd.jupyter.widget-view+json": {
       "model_id": "43e149868ca44f6989687a900cc7b439",
       "version_major": 2,
       "version_minor": 0
      },
      "text/plain": [
       "  0%|          | 0/4 [00:00<?, ?it/s]"
      ]
     },
     "metadata": {},
     "output_type": "display_data"
    },
    {
     "data": {
      "application/vnd.jupyter.widget-view+json": {
       "model_id": "fff1d3a908a54fde941b41147b303ebb",
       "version_major": 2,
       "version_minor": 0
      },
      "text/plain": [
       "  0%|          | 0/7 [00:00<?, ?it/s]"
      ]
     },
     "metadata": {},
     "output_type": "display_data"
    },
    {
     "data": {
      "application/vnd.jupyter.widget-view+json": {
       "model_id": "4c10235d536a467b9754e6f94433a4c7",
       "version_major": 2,
       "version_minor": 0
      },
      "text/plain": [
       "  0%|          | 0/8 [00:00<?, ?it/s]"
      ]
     },
     "metadata": {},
     "output_type": "display_data"
    },
    {
     "data": {
      "application/vnd.jupyter.widget-view+json": {
       "model_id": "91b06268777b41d9a4c62b788f72c211",
       "version_major": 2,
       "version_minor": 0
      },
      "text/plain": [
       "  0%|          | 0/10 [00:00<?, ?it/s]"
      ]
     },
     "metadata": {},
     "output_type": "display_data"
    },
    {
     "data": {
      "application/vnd.jupyter.widget-view+json": {
       "model_id": "8f84d45143ed4e998472292f58b18ebd",
       "version_major": 2,
       "version_minor": 0
      },
      "text/plain": [
       "  0%|          | 0/7 [00:00<?, ?it/s]"
      ]
     },
     "metadata": {},
     "output_type": "display_data"
    },
    {
     "data": {
      "application/vnd.jupyter.widget-view+json": {
       "model_id": "580b9bbfe24d432bb2582d3be0e3c998",
       "version_major": 2,
       "version_minor": 0
      },
      "text/plain": [
       "  0%|          | 0/5 [00:00<?, ?it/s]"
      ]
     },
     "metadata": {},
     "output_type": "display_data"
    },
    {
     "data": {
      "application/vnd.jupyter.widget-view+json": {
       "model_id": "60ad19e48ff94a2e8bbe6e4729b7b52f",
       "version_major": 2,
       "version_minor": 0
      },
      "text/plain": [
       "  0%|          | 0/29 [00:00<?, ?it/s]"
      ]
     },
     "metadata": {},
     "output_type": "display_data"
    },
    {
     "data": {
      "application/vnd.jupyter.widget-view+json": {
       "model_id": "cf2fbcb0b38344cfb7b632317ac05168",
       "version_major": 2,
       "version_minor": 0
      },
      "text/plain": [
       "  0%|          | 0/8 [00:00<?, ?it/s]"
      ]
     },
     "metadata": {},
     "output_type": "display_data"
    },
    {
     "data": {
      "application/vnd.jupyter.widget-view+json": {
       "model_id": "9b2b7ade5a1840239669e0b03af707cc",
       "version_major": 2,
       "version_minor": 0
      },
      "text/plain": [
       "  0%|          | 0/32 [00:00<?, ?it/s]"
      ]
     },
     "metadata": {},
     "output_type": "display_data"
    },
    {
     "data": {
      "application/vnd.jupyter.widget-view+json": {
       "model_id": "ebac7f0f14bd4a0fbf9d7a3ade84714c",
       "version_major": 2,
       "version_minor": 0
      },
      "text/plain": [
       "  0%|          | 0/3 [00:00<?, ?it/s]"
      ]
     },
     "metadata": {},
     "output_type": "display_data"
    },
    {
     "data": {
      "application/vnd.jupyter.widget-view+json": {
       "model_id": "ffb67ae09ff84c9aab3cd387255b938d",
       "version_major": 2,
       "version_minor": 0
      },
      "text/plain": [
       "  0%|          | 0/19 [00:00<?, ?it/s]"
      ]
     },
     "metadata": {},
     "output_type": "display_data"
    },
    {
     "data": {
      "application/vnd.jupyter.widget-view+json": {
       "model_id": "c26ba492624f4a3ab65799df4c415cdc",
       "version_major": 2,
       "version_minor": 0
      },
      "text/plain": [
       "  0%|          | 0/36 [00:00<?, ?it/s]"
      ]
     },
     "metadata": {},
     "output_type": "display_data"
    },
    {
     "data": {
      "application/vnd.jupyter.widget-view+json": {
       "model_id": "6c99aed1ad8e44579449e83866ee04e7",
       "version_major": 2,
       "version_minor": 0
      },
      "text/plain": [
       "  0%|          | 0/4 [00:00<?, ?it/s]"
      ]
     },
     "metadata": {},
     "output_type": "display_data"
    },
    {
     "data": {
      "application/vnd.jupyter.widget-view+json": {
       "model_id": "47d3e17f18544b90846faba43a8bf61c",
       "version_major": 2,
       "version_minor": 0
      },
      "text/plain": [
       "  0%|          | 0/3 [00:00<?, ?it/s]"
      ]
     },
     "metadata": {},
     "output_type": "display_data"
    },
    {
     "data": {
      "application/vnd.jupyter.widget-view+json": {
       "model_id": "4de8fdf633c44dd49a0bd0940517a198",
       "version_major": 2,
       "version_minor": 0
      },
      "text/plain": [
       "  0%|          | 0/3 [00:00<?, ?it/s]"
      ]
     },
     "metadata": {},
     "output_type": "display_data"
    },
    {
     "data": {
      "application/vnd.jupyter.widget-view+json": {
       "model_id": "941239d0e4e74b41b741732d1e1eb41a",
       "version_major": 2,
       "version_minor": 0
      },
      "text/plain": [
       "  0%|          | 0/3 [00:00<?, ?it/s]"
      ]
     },
     "metadata": {},
     "output_type": "display_data"
    },
    {
     "data": {
      "application/vnd.jupyter.widget-view+json": {
       "model_id": "b928c83160884d81a79eb35514281d09",
       "version_major": 2,
       "version_minor": 0
      },
      "text/plain": [
       "  0%|          | 0/33 [00:00<?, ?it/s]"
      ]
     },
     "metadata": {},
     "output_type": "display_data"
    },
    {
     "data": {
      "application/vnd.jupyter.widget-view+json": {
       "model_id": "a68cb3c9a6674e1b874231cf9a7984c5",
       "version_major": 2,
       "version_minor": 0
      },
      "text/plain": [
       "  0%|          | 0/6 [00:00<?, ?it/s]"
      ]
     },
     "metadata": {},
     "output_type": "display_data"
    },
    {
     "data": {
      "application/vnd.jupyter.widget-view+json": {
       "model_id": "d699b2bfb9b1483782239521a459578d",
       "version_major": 2,
       "version_minor": 0
      },
      "text/plain": [
       "  0%|          | 0/3 [00:00<?, ?it/s]"
      ]
     },
     "metadata": {},
     "output_type": "display_data"
    },
    {
     "data": {
      "application/vnd.jupyter.widget-view+json": {
       "model_id": "8bbf21d3775b484db762640de48dfcd1",
       "version_major": 2,
       "version_minor": 0
      },
      "text/plain": [
       "  0%|          | 0/5 [00:00<?, ?it/s]"
      ]
     },
     "metadata": {},
     "output_type": "display_data"
    },
    {
     "data": {
      "application/vnd.jupyter.widget-view+json": {
       "model_id": "bd96cd55bae24749b6856765b4c0999e",
       "version_major": 2,
       "version_minor": 0
      },
      "text/plain": [
       "  0%|          | 0/6 [00:00<?, ?it/s]"
      ]
     },
     "metadata": {},
     "output_type": "display_data"
    },
    {
     "data": {
      "application/vnd.jupyter.widget-view+json": {
       "model_id": "d10e96ccb47d4261b719b6d929282210",
       "version_major": 2,
       "version_minor": 0
      },
      "text/plain": [
       "  0%|          | 0/29 [00:00<?, ?it/s]"
      ]
     },
     "metadata": {},
     "output_type": "display_data"
    },
    {
     "data": {
      "application/vnd.jupyter.widget-view+json": {
       "model_id": "78c153ae527d412f95ffc31d7e8941b2",
       "version_major": 2,
       "version_minor": 0
      },
      "text/plain": [
       "  0%|          | 0/4 [00:00<?, ?it/s]"
      ]
     },
     "metadata": {},
     "output_type": "display_data"
    },
    {
     "data": {
      "application/vnd.jupyter.widget-view+json": {
       "model_id": "95b97b8668cf48ea98f47b49e43b35d5",
       "version_major": 2,
       "version_minor": 0
      },
      "text/plain": [
       "  0%|          | 0/16 [00:00<?, ?it/s]"
      ]
     },
     "metadata": {},
     "output_type": "display_data"
    },
    {
     "data": {
      "application/vnd.jupyter.widget-view+json": {
       "model_id": "00a64712a2584252a2871b8339d52966",
       "version_major": 2,
       "version_minor": 0
      },
      "text/plain": [
       "  0%|          | 0/7 [00:00<?, ?it/s]"
      ]
     },
     "metadata": {},
     "output_type": "display_data"
    },
    {
     "data": {
      "application/vnd.jupyter.widget-view+json": {
       "model_id": "353132186cfa4128bac2b6211f54210b",
       "version_major": 2,
       "version_minor": 0
      },
      "text/plain": [
       "  0%|          | 0/9 [00:00<?, ?it/s]"
      ]
     },
     "metadata": {},
     "output_type": "display_data"
    },
    {
     "data": {
      "application/vnd.jupyter.widget-view+json": {
       "model_id": "6be56978e73a4f79a4c4528fe2a80b6c",
       "version_major": 2,
       "version_minor": 0
      },
      "text/plain": [
       "  0%|          | 0/17 [00:00<?, ?it/s]"
      ]
     },
     "metadata": {},
     "output_type": "display_data"
    },
    {
     "data": {
      "application/vnd.jupyter.widget-view+json": {
       "model_id": "ffbd5eff0a4a42e0bd82d4edf2101afc",
       "version_major": 2,
       "version_minor": 0
      },
      "text/plain": [
       "  0%|          | 0/11 [00:00<?, ?it/s]"
      ]
     },
     "metadata": {},
     "output_type": "display_data"
    },
    {
     "data": {
      "application/vnd.jupyter.widget-view+json": {
       "model_id": "b90e54137d244ccabe5aec4a6ad874cf",
       "version_major": 2,
       "version_minor": 0
      },
      "text/plain": [
       "  0%|          | 0/11 [00:00<?, ?it/s]"
      ]
     },
     "metadata": {},
     "output_type": "display_data"
    },
    {
     "data": {
      "application/vnd.jupyter.widget-view+json": {
       "model_id": "979129e3c48e4190b6df65650406ed02",
       "version_major": 2,
       "version_minor": 0
      },
      "text/plain": [
       "  0%|          | 0/18 [00:00<?, ?it/s]"
      ]
     },
     "metadata": {},
     "output_type": "display_data"
    },
    {
     "data": {
      "application/vnd.jupyter.widget-view+json": {
       "model_id": "fb480de63842405a815016a82b8d93b2",
       "version_major": 2,
       "version_minor": 0
      },
      "text/plain": [
       "  0%|          | 0/23 [00:00<?, ?it/s]"
      ]
     },
     "metadata": {},
     "output_type": "display_data"
    },
    {
     "data": {
      "application/vnd.jupyter.widget-view+json": {
       "model_id": "ac1dae7cb3214918ad3904180dd08631",
       "version_major": 2,
       "version_minor": 0
      },
      "text/plain": [
       "  0%|          | 0/20 [00:00<?, ?it/s]"
      ]
     },
     "metadata": {},
     "output_type": "display_data"
    },
    {
     "data": {
      "application/vnd.jupyter.widget-view+json": {
       "model_id": "2316495343df4433a0fc55ce98d38ce3",
       "version_major": 2,
       "version_minor": 0
      },
      "text/plain": [
       "  0%|          | 0/40 [00:00<?, ?it/s]"
      ]
     },
     "metadata": {},
     "output_type": "display_data"
    },
    {
     "data": {
      "application/vnd.jupyter.widget-view+json": {
       "model_id": "4ec2f7aa34ee46f091a2db00c15866c8",
       "version_major": 2,
       "version_minor": 0
      },
      "text/plain": [
       "  0%|          | 0/39 [00:00<?, ?it/s]"
      ]
     },
     "metadata": {},
     "output_type": "display_data"
    },
    {
     "data": {
      "application/vnd.jupyter.widget-view+json": {
       "model_id": "b12a94f9c73c4039baa1cf8c7009d613",
       "version_major": 2,
       "version_minor": 0
      },
      "text/plain": [
       "  0%|          | 0/34 [00:00<?, ?it/s]"
      ]
     },
     "metadata": {},
     "output_type": "display_data"
    },
    {
     "data": {
      "application/vnd.jupyter.widget-view+json": {
       "model_id": "30ebf401db494fbfb83d59e3c3bce2c5",
       "version_major": 2,
       "version_minor": 0
      },
      "text/plain": [
       "  0%|          | 0/78 [00:00<?, ?it/s]"
      ]
     },
     "metadata": {},
     "output_type": "display_data"
    },
    {
     "data": {
      "application/vnd.jupyter.widget-view+json": {
       "model_id": "4992c35952024052b155b4c188c8ab9c",
       "version_major": 2,
       "version_minor": 0
      },
      "text/plain": [
       "  0%|          | 0/82 [00:00<?, ?it/s]"
      ]
     },
     "metadata": {},
     "output_type": "display_data"
    },
    {
     "data": {
      "application/vnd.jupyter.widget-view+json": {
       "model_id": "0d56cfb04ed84134b96640cd16634e7f",
       "version_major": 2,
       "version_minor": 0
      },
      "text/plain": [
       "  0%|          | 0/135 [00:00<?, ?it/s]"
      ]
     },
     "metadata": {},
     "output_type": "display_data"
    },
    {
     "data": {
      "application/vnd.jupyter.widget-view+json": {
       "model_id": "91c8a646141347a889c3aa59d844f191",
       "version_major": 2,
       "version_minor": 0
      },
      "text/plain": [
       "  0%|          | 0/207 [00:00<?, ?it/s]"
      ]
     },
     "metadata": {},
     "output_type": "display_data"
    },
    {
     "data": {
      "application/vnd.jupyter.widget-view+json": {
       "model_id": "05084a2d2dd54a12b0ba52a7f00fa28c",
       "version_major": 2,
       "version_minor": 0
      },
      "text/plain": [
       "  0%|          | 0/113 [00:00<?, ?it/s]"
      ]
     },
     "metadata": {},
     "output_type": "display_data"
    },
    {
     "data": {
      "application/vnd.jupyter.widget-view+json": {
       "model_id": "0971fd98f0e04edd8a16c98794acf22e",
       "version_major": 2,
       "version_minor": 0
      },
      "text/plain": [
       "  0%|          | 0/26 [00:00<?, ?it/s]"
      ]
     },
     "metadata": {},
     "output_type": "display_data"
    },
    {
     "data": {
      "application/vnd.jupyter.widget-view+json": {
       "model_id": "ba5bcef9ff5a4107899edda8916f76f6",
       "version_major": 2,
       "version_minor": 0
      },
      "text/plain": [
       "  0%|          | 0/72 [00:00<?, ?it/s]"
      ]
     },
     "metadata": {},
     "output_type": "display_data"
    },
    {
     "data": {
      "application/vnd.jupyter.widget-view+json": {
       "model_id": "4e02e6cdff5e4fde902c351bcf33d0da",
       "version_major": 2,
       "version_minor": 0
      },
      "text/plain": [
       "  0%|          | 0/25 [00:00<?, ?it/s]"
      ]
     },
     "metadata": {},
     "output_type": "display_data"
    },
    {
     "data": {
      "application/vnd.jupyter.widget-view+json": {
       "model_id": "6b2ea077d8dc45f18a5ddf6a8fb0963e",
       "version_major": 2,
       "version_minor": 0
      },
      "text/plain": [
       "  0%|          | 0/15 [00:00<?, ?it/s]"
      ]
     },
     "metadata": {},
     "output_type": "display_data"
    },
    {
     "data": {
      "application/vnd.jupyter.widget-view+json": {
       "model_id": "6b8b7996d8ba4212a2d7f1bf1412fcc1",
       "version_major": 2,
       "version_minor": 0
      },
      "text/plain": [
       "  0%|          | 0/9 [00:00<?, ?it/s]"
      ]
     },
     "metadata": {},
     "output_type": "display_data"
    },
    {
     "data": {
      "application/vnd.jupyter.widget-view+json": {
       "model_id": "fec69b5234294ceba3995d9f9de3144d",
       "version_major": 2,
       "version_minor": 0
      },
      "text/plain": [
       "  0%|          | 0/23 [00:00<?, ?it/s]"
      ]
     },
     "metadata": {},
     "output_type": "display_data"
    },
    {
     "data": {
      "application/vnd.jupyter.widget-view+json": {
       "model_id": "742bd9efc40145e5a035a5ecf629352d",
       "version_major": 2,
       "version_minor": 0
      },
      "text/plain": [
       "  0%|          | 0/13 [00:00<?, ?it/s]"
      ]
     },
     "metadata": {},
     "output_type": "display_data"
    },
    {
     "data": {
      "application/vnd.jupyter.widget-view+json": {
       "model_id": "bf63318874d14b50980420a1f69b12c8",
       "version_major": 2,
       "version_minor": 0
      },
      "text/plain": [
       "  0%|          | 0/11 [00:00<?, ?it/s]"
      ]
     },
     "metadata": {},
     "output_type": "display_data"
    },
    {
     "data": {
      "application/vnd.jupyter.widget-view+json": {
       "model_id": "d1a4bf22206f4c7c8e6d435963b8399e",
       "version_major": 2,
       "version_minor": 0
      },
      "text/plain": [
       "  0%|          | 0/11 [00:00<?, ?it/s]"
      ]
     },
     "metadata": {},
     "output_type": "display_data"
    },
    {
     "data": {
      "application/vnd.jupyter.widget-view+json": {
       "model_id": "d7dda87a00bd4dabae2de736f91dac45",
       "version_major": 2,
       "version_minor": 0
      },
      "text/plain": [
       "  0%|          | 0/14 [00:00<?, ?it/s]"
      ]
     },
     "metadata": {},
     "output_type": "display_data"
    },
    {
     "data": {
      "application/vnd.jupyter.widget-view+json": {
       "model_id": "baf387df9e8e49fa8d7d1edaf6303742",
       "version_major": 2,
       "version_minor": 0
      },
      "text/plain": [
       "  0%|          | 0/31 [00:00<?, ?it/s]"
      ]
     },
     "metadata": {},
     "output_type": "display_data"
    },
    {
     "data": {
      "application/vnd.jupyter.widget-view+json": {
       "model_id": "82015bf151f44afab2e60c838d641a8c",
       "version_major": 2,
       "version_minor": 0
      },
      "text/plain": [
       "  0%|          | 0/12 [00:00<?, ?it/s]"
      ]
     },
     "metadata": {},
     "output_type": "display_data"
    },
    {
     "data": {
      "application/vnd.jupyter.widget-view+json": {
       "model_id": "97011a9db0d640f9a3e7e7889ac877eb",
       "version_major": 2,
       "version_minor": 0
      },
      "text/plain": [
       "  0%|          | 0/23 [00:00<?, ?it/s]"
      ]
     },
     "metadata": {},
     "output_type": "display_data"
    },
    {
     "data": {
      "application/vnd.jupyter.widget-view+json": {
       "model_id": "ada5c3e6bfdb44b8aadfe63899def2c8",
       "version_major": 2,
       "version_minor": 0
      },
      "text/plain": [
       "  0%|          | 0/4 [00:00<?, ?it/s]"
      ]
     },
     "metadata": {},
     "output_type": "display_data"
    },
    {
     "data": {
      "application/vnd.jupyter.widget-view+json": {
       "model_id": "2c14769d52fc4c50b3f6be722efa32bd",
       "version_major": 2,
       "version_minor": 0
      },
      "text/plain": [
       "  0%|          | 0/49 [00:00<?, ?it/s]"
      ]
     },
     "metadata": {},
     "output_type": "display_data"
    },
    {
     "data": {
      "application/vnd.jupyter.widget-view+json": {
       "model_id": "5577f28044ca4059896807719ca39473",
       "version_major": 2,
       "version_minor": 0
      },
      "text/plain": [
       "  0%|          | 0/15 [00:00<?, ?it/s]"
      ]
     },
     "metadata": {},
     "output_type": "display_data"
    },
    {
     "data": {
      "application/vnd.jupyter.widget-view+json": {
       "model_id": "9b9a707c7a5a43c3911d7c6c0efc3199",
       "version_major": 2,
       "version_minor": 0
      },
      "text/plain": [
       "  0%|          | 0/20 [00:00<?, ?it/s]"
      ]
     },
     "metadata": {},
     "output_type": "display_data"
    },
    {
     "data": {
      "application/vnd.jupyter.widget-view+json": {
       "model_id": "25ca5b38a88b44a69ec6f96427e073f0",
       "version_major": 2,
       "version_minor": 0
      },
      "text/plain": [
       "  0%|          | 0/35 [00:00<?, ?it/s]"
      ]
     },
     "metadata": {},
     "output_type": "display_data"
    },
    {
     "data": {
      "application/vnd.jupyter.widget-view+json": {
       "model_id": "26d75a4835e14a47a10f563fb4d7a8e2",
       "version_major": 2,
       "version_minor": 0
      },
      "text/plain": [
       "  0%|          | 0/11 [00:00<?, ?it/s]"
      ]
     },
     "metadata": {},
     "output_type": "display_data"
    },
    {
     "data": {
      "application/vnd.jupyter.widget-view+json": {
       "model_id": "9fd4042dcab3428a89cfe3ecf415b9cc",
       "version_major": 2,
       "version_minor": 0
      },
      "text/plain": [
       "  0%|          | 0/19 [00:00<?, ?it/s]"
      ]
     },
     "metadata": {},
     "output_type": "display_data"
    },
    {
     "data": {
      "application/vnd.jupyter.widget-view+json": {
       "model_id": "8b51c967fca841a9861fd1c53332138d",
       "version_major": 2,
       "version_minor": 0
      },
      "text/plain": [
       "  0%|          | 0/25 [00:00<?, ?it/s]"
      ]
     },
     "metadata": {},
     "output_type": "display_data"
    },
    {
     "data": {
      "application/vnd.jupyter.widget-view+json": {
       "model_id": "1d1de91b28c440c09c76473529c8d728",
       "version_major": 2,
       "version_minor": 0
      },
      "text/plain": [
       "  0%|          | 0/8 [00:00<?, ?it/s]"
      ]
     },
     "metadata": {},
     "output_type": "display_data"
    },
    {
     "data": {
      "application/vnd.jupyter.widget-view+json": {
       "model_id": "c053908380b048b5937dba6bb7e99687",
       "version_major": 2,
       "version_minor": 0
      },
      "text/plain": [
       "  0%|          | 0/7 [00:00<?, ?it/s]"
      ]
     },
     "metadata": {},
     "output_type": "display_data"
    },
    {
     "data": {
      "application/vnd.jupyter.widget-view+json": {
       "model_id": "42062784992e4ed083f6cafacab11b5e",
       "version_major": 2,
       "version_minor": 0
      },
      "text/plain": [
       "  0%|          | 0/20 [00:00<?, ?it/s]"
      ]
     },
     "metadata": {},
     "output_type": "display_data"
    },
    {
     "data": {
      "application/vnd.jupyter.widget-view+json": {
       "model_id": "600d4a0646314d5cb8b43273508724d7",
       "version_major": 2,
       "version_minor": 0
      },
      "text/plain": [
       "  0%|          | 0/53 [00:00<?, ?it/s]"
      ]
     },
     "metadata": {},
     "output_type": "display_data"
    },
    {
     "data": {
      "application/vnd.jupyter.widget-view+json": {
       "model_id": "a1e5007dc34b4983a4c3d5035923ca80",
       "version_major": 2,
       "version_minor": 0
      },
      "text/plain": [
       "  0%|          | 0/19 [00:00<?, ?it/s]"
      ]
     },
     "metadata": {},
     "output_type": "display_data"
    },
    {
     "data": {
      "application/vnd.jupyter.widget-view+json": {
       "model_id": "df0bca9638304c3d86018ee62908faf0",
       "version_major": 2,
       "version_minor": 0
      },
      "text/plain": [
       "  0%|          | 0/10 [00:00<?, ?it/s]"
      ]
     },
     "metadata": {},
     "output_type": "display_data"
    },
    {
     "data": {
      "application/vnd.jupyter.widget-view+json": {
       "model_id": "97ccf3a9896949818234c7719e6a777f",
       "version_major": 2,
       "version_minor": 0
      },
      "text/plain": [
       "  0%|          | 0/52 [00:00<?, ?it/s]"
      ]
     },
     "metadata": {},
     "output_type": "display_data"
    },
    {
     "data": {
      "application/vnd.jupyter.widget-view+json": {
       "model_id": "2b6bbffc1d2549fc813b868c4278a0c2",
       "version_major": 2,
       "version_minor": 0
      },
      "text/plain": [
       "  0%|          | 0/70 [00:00<?, ?it/s]"
      ]
     },
     "metadata": {},
     "output_type": "display_data"
    },
    {
     "data": {
      "application/vnd.jupyter.widget-view+json": {
       "model_id": "f26fa7fc3d4348b3a02a2cf7c1114fc7",
       "version_major": 2,
       "version_minor": 0
      },
      "text/plain": [
       "  0%|          | 0/46 [00:00<?, ?it/s]"
      ]
     },
     "metadata": {},
     "output_type": "display_data"
    },
    {
     "data": {
      "application/vnd.jupyter.widget-view+json": {
       "model_id": "28aa73c6d22b48479d5c1e1535da634e",
       "version_major": 2,
       "version_minor": 0
      },
      "text/plain": [
       "  0%|          | 0/12 [00:00<?, ?it/s]"
      ]
     },
     "metadata": {},
     "output_type": "display_data"
    },
    {
     "data": {
      "application/vnd.jupyter.widget-view+json": {
       "model_id": "4777e80ab18f487785a16e581e4e1036",
       "version_major": 2,
       "version_minor": 0
      },
      "text/plain": [
       "  0%|          | 0/22 [00:00<?, ?it/s]"
      ]
     },
     "metadata": {},
     "output_type": "display_data"
    },
    {
     "data": {
      "application/vnd.jupyter.widget-view+json": {
       "model_id": "182bd2c761f64f398188a662ca99656b",
       "version_major": 2,
       "version_minor": 0
      },
      "text/plain": [
       "  0%|          | 0/36 [00:00<?, ?it/s]"
      ]
     },
     "metadata": {},
     "output_type": "display_data"
    },
    {
     "data": {
      "application/vnd.jupyter.widget-view+json": {
       "model_id": "b2352a6c5f9147329bb43b0f906e2876",
       "version_major": 2,
       "version_minor": 0
      },
      "text/plain": [
       "  0%|          | 0/11 [00:00<?, ?it/s]"
      ]
     },
     "metadata": {},
     "output_type": "display_data"
    },
    {
     "data": {
      "application/vnd.jupyter.widget-view+json": {
       "model_id": "ec6efb0cb4be4709bcd869c80e772d33",
       "version_major": 2,
       "version_minor": 0
      },
      "text/plain": [
       "  0%|          | 0/13 [00:00<?, ?it/s]"
      ]
     },
     "metadata": {},
     "output_type": "display_data"
    },
    {
     "data": {
      "application/vnd.jupyter.widget-view+json": {
       "model_id": "9611b3e462174e44a86cc47a7d975fff",
       "version_major": 2,
       "version_minor": 0
      },
      "text/plain": [
       "  0%|          | 0/7 [00:00<?, ?it/s]"
      ]
     },
     "metadata": {},
     "output_type": "display_data"
    },
    {
     "data": {
      "application/vnd.jupyter.widget-view+json": {
       "model_id": "18de344b28aa4324b498bfb744f9093e",
       "version_major": 2,
       "version_minor": 0
      },
      "text/plain": [
       "  0%|          | 0/34 [00:00<?, ?it/s]"
      ]
     },
     "metadata": {},
     "output_type": "display_data"
    },
    {
     "data": {
      "application/vnd.jupyter.widget-view+json": {
       "model_id": "fbb16c9ce78a4e89aaabefdabd20c596",
       "version_major": 2,
       "version_minor": 0
      },
      "text/plain": [
       "  0%|          | 0/29 [00:00<?, ?it/s]"
      ]
     },
     "metadata": {},
     "output_type": "display_data"
    },
    {
     "data": {
      "application/vnd.jupyter.widget-view+json": {
       "model_id": "ca57f1171a80409cbb894e86a3a9b9d8",
       "version_major": 2,
       "version_minor": 0
      },
      "text/plain": [
       "  0%|          | 0/93 [00:00<?, ?it/s]"
      ]
     },
     "metadata": {},
     "output_type": "display_data"
    },
    {
     "data": {
      "application/vnd.jupyter.widget-view+json": {
       "model_id": "267485ee8eb94aa89f95c2ddb766a21a",
       "version_major": 2,
       "version_minor": 0
      },
      "text/plain": [
       "  0%|          | 0/27 [00:00<?, ?it/s]"
      ]
     },
     "metadata": {},
     "output_type": "display_data"
    },
    {
     "data": {
      "application/vnd.jupyter.widget-view+json": {
       "model_id": "e725ad64af5349f2bd236aba20e7f8d0",
       "version_major": 2,
       "version_minor": 0
      },
      "text/plain": [
       "  0%|          | 0/49 [00:00<?, ?it/s]"
      ]
     },
     "metadata": {},
     "output_type": "display_data"
    },
    {
     "data": {
      "application/vnd.jupyter.widget-view+json": {
       "model_id": "67af2bb75e3044b8bde179d4dbf13d63",
       "version_major": 2,
       "version_minor": 0
      },
      "text/plain": [
       "  0%|          | 0/45 [00:00<?, ?it/s]"
      ]
     },
     "metadata": {},
     "output_type": "display_data"
    },
    {
     "data": {
      "application/vnd.jupyter.widget-view+json": {
       "model_id": "e3ae09f4755b4acca0c650402cc1090d",
       "version_major": 2,
       "version_minor": 0
      },
      "text/plain": [
       "  0%|          | 0/30 [00:00<?, ?it/s]"
      ]
     },
     "metadata": {},
     "output_type": "display_data"
    },
    {
     "data": {
      "application/vnd.jupyter.widget-view+json": {
       "model_id": "4fb3a99d0fc04d1dadbf695283c196b9",
       "version_major": 2,
       "version_minor": 0
      },
      "text/plain": [
       "  0%|          | 0/27 [00:00<?, ?it/s]"
      ]
     },
     "metadata": {},
     "output_type": "display_data"
    },
    {
     "data": {
      "application/vnd.jupyter.widget-view+json": {
       "model_id": "bebc23498951492f933a49758d15938b",
       "version_major": 2,
       "version_minor": 0
      },
      "text/plain": [
       "  0%|          | 0/78 [00:00<?, ?it/s]"
      ]
     },
     "metadata": {},
     "output_type": "display_data"
    },
    {
     "data": {
      "application/vnd.jupyter.widget-view+json": {
       "model_id": "629d2e4733564b6c9eb042c0fc102108",
       "version_major": 2,
       "version_minor": 0
      },
      "text/plain": [
       "  0%|          | 0/21 [00:00<?, ?it/s]"
      ]
     },
     "metadata": {},
     "output_type": "display_data"
    },
    {
     "data": {
      "application/vnd.jupyter.widget-view+json": {
       "model_id": "f4f762e8a3c2499cb2b73d1af9e6268a",
       "version_major": 2,
       "version_minor": 0
      },
      "text/plain": [
       "  0%|          | 0/17 [00:00<?, ?it/s]"
      ]
     },
     "metadata": {},
     "output_type": "display_data"
    },
    {
     "data": {
      "application/vnd.jupyter.widget-view+json": {
       "model_id": "eae964ab9158418f98528ce91525704a",
       "version_major": 2,
       "version_minor": 0
      },
      "text/plain": [
       "  0%|          | 0/33 [00:00<?, ?it/s]"
      ]
     },
     "metadata": {},
     "output_type": "display_data"
    },
    {
     "data": {
      "application/vnd.jupyter.widget-view+json": {
       "model_id": "37f20d2690bc4b3783f2b21b8f031342",
       "version_major": 2,
       "version_minor": 0
      },
      "text/plain": [
       "  0%|          | 0/18 [00:00<?, ?it/s]"
      ]
     },
     "metadata": {},
     "output_type": "display_data"
    },
    {
     "data": {
      "application/vnd.jupyter.widget-view+json": {
       "model_id": "f838578298174bcaa0a6282e13e01c5d",
       "version_major": 2,
       "version_minor": 0
      },
      "text/plain": [
       "  0%|          | 0/8 [00:00<?, ?it/s]"
      ]
     },
     "metadata": {},
     "output_type": "display_data"
    },
    {
     "data": {
      "application/vnd.jupyter.widget-view+json": {
       "model_id": "c7b20c0003d94cb09fc035fddbbd04f9",
       "version_major": 2,
       "version_minor": 0
      },
      "text/plain": [
       "  0%|          | 0/15 [00:00<?, ?it/s]"
      ]
     },
     "metadata": {},
     "output_type": "display_data"
    },
    {
     "data": {
      "application/vnd.jupyter.widget-view+json": {
       "model_id": "5766d7016edd46b396b9e4532ac52c40",
       "version_major": 2,
       "version_minor": 0
      },
      "text/plain": [
       "  0%|          | 0/9 [00:00<?, ?it/s]"
      ]
     },
     "metadata": {},
     "output_type": "display_data"
    },
    {
     "data": {
      "application/vnd.jupyter.widget-view+json": {
       "model_id": "4fe6101181174d9ab78923fcdeb87523",
       "version_major": 2,
       "version_minor": 0
      },
      "text/plain": [
       "  0%|          | 0/20 [00:00<?, ?it/s]"
      ]
     },
     "metadata": {},
     "output_type": "display_data"
    },
    {
     "data": {
      "application/vnd.jupyter.widget-view+json": {
       "model_id": "65ec73ad34384d9aaa7b13dbed71ea53",
       "version_major": 2,
       "version_minor": 0
      },
      "text/plain": [
       "  0%|          | 0/31 [00:00<?, ?it/s]"
      ]
     },
     "metadata": {},
     "output_type": "display_data"
    },
    {
     "name": "stdout",
     "output_type": "stream",
     "text": [
      "Synapsse Results:\n",
      "Total Number of Synapses = 3713\n",
      "n_valid_syn_ids_presyn = 61\n",
      "n_errored_syn_ids_presyn = 199\n",
      "n_valid_syn_ids_postsyn = 2662\n",
      "n_errored_syn_ids_postsyn = 791\n",
      "Synapsse Results:\n",
      "Total Number of Synapses = 3713\n",
      "n_valid_syn_ids_presyn = 61\n",
      "n_errored_syn_ids_presyn = 199\n",
      "n_valid_syn_ids_postsyn = 2662\n",
      "n_errored_syn_ids_postsyn = 791\n"
     ]
    },
    {
     "data": {
      "application/vnd.jupyter.widget-view+json": {
       "model_id": "073303dff13e46e8ad4b4b96962cad2e",
       "version_major": 2,
       "version_minor": 0
      },
      "text/plain": [
       "  0%|          | 0/45 [00:00<?, ?it/s]"
      ]
     },
     "metadata": {},
     "output_type": "display_data"
    },
    {
     "data": {
      "application/vnd.jupyter.widget-view+json": {
       "model_id": "3f9287b245a348638591373034a6bf07",
       "version_major": 2,
       "version_minor": 0
      },
      "text/plain": [
       "  0%|          | 0/7 [00:00<?, ?it/s]"
      ]
     },
     "metadata": {},
     "output_type": "display_data"
    },
    {
     "name": "stdout",
     "output_type": "stream",
     "text": [
      "Synapsse Results:\n",
      "Total Number of Synapses = 3713\n",
      "n_valid_syn_ids_presyn = 61\n",
      "n_errored_syn_ids_presyn = 199\n",
      "n_valid_syn_ids_postsyn = 2662\n",
      "n_errored_syn_ids_postsyn = 791\n",
      "Synapsse Results:\n",
      "Total Number of Synapses = 3713\n",
      "n_valid_syn_ids_presyn = 61\n",
      "n_errored_syn_ids_presyn = 199\n",
      "n_valid_syn_ids_postsyn = 2662\n",
      "n_errored_syn_ids_postsyn = 791\n"
     ]
    },
    {
     "data": {
      "application/vnd.jupyter.widget-view+json": {
       "model_id": "758a2441472e4ddaa0b9dfda43c59c6b",
       "version_major": 2,
       "version_minor": 0
      },
      "text/plain": [
       "  0%|          | 0/45 [00:00<?, ?it/s]"
      ]
     },
     "metadata": {},
     "output_type": "display_data"
    },
    {
     "data": {
      "application/vnd.jupyter.widget-view+json": {
       "model_id": "a49b787e39f547719b3e2426b2e1be3c",
       "version_major": 2,
       "version_minor": 0
      },
      "text/plain": [
       "  0%|          | 0/7 [00:00<?, ?it/s]"
      ]
     },
     "metadata": {},
     "output_type": "display_data"
    },
    {
     "name": "stdout",
     "output_type": "stream",
     "text": [
      "\n",
      "\n",
      "len(branch_attr_keys) = 52\n",
      "Saving Neuorn in suppress_output mode...please wait\n",
      "Saved File at location: /mnt/dj-stor01/platinum/minnie65/02/decomposition/864691135735426708_0_25_soma_0_split_full_axon\n",
      "Save time = 266.50999665260315\n",
      "\n",
      "\n",
      " ***------ Total time for 864691135735426708 = 1216.8838777542114 ------ ***\n",
      "\n",
      "\n",
      "\n",
      "---- Working on Neuron 864691135564655959 ----\n",
      "Decompressing Neuron in minimal output mode...please wait\n",
      "Pulled from Table Decomposition so setting split_index = 0\n",
      "Dont need spine recalculation\n",
      "Number of Neurons found = 1\n",
      "\n",
      "Part 1: Axon like branchese \n",
      "{'L0': array([10]), 'L4': array([ 0,  1,  2,  3,  4,  5,  6,  7,  8,  9, 10, 11, 12, 13, 14, 15, 16,\n",
      "       17, 18, 19, 20, 21, 22, 23])}\n",
      "Limb L0 soma angle: 14.97 \n",
      "Limb L1 soma angle: 148.54 \n",
      "Limb L2 soma angle: 127.76 \n",
      "Limb L3 soma angle: 105.66 \n",
      "Limb L4 soma angle: 173.62 \n",
      "Limb L5 soma angle: 70.57 \n",
      "Limb L6 soma angle: 85.74 \n",
      "\n",
      "Part 2: possible_axon_limbs = [1, 2, 3, 4, 5, 6]\n",
      "\n",
      "Phase 2: Working on Limb L1\n",
      "nodes_to_eliminate = [6]\n",
      "\n",
      "Phase 2: Working on Limb L2\n",
      "nodes_to_eliminate = [3]\n",
      "\n",
      "Phase 2: Working on Limb L3\n",
      "nodes_to_eliminate = [0 1]\n",
      "\n",
      "Phase 2: Working on Limb L4\n",
      "nodes_to_eliminate = []\n",
      "\n",
      "Phase 2: Working on Limb L5\n",
      "nodes_to_eliminate = [2]\n",
      "\n",
      "Phase 2: Working on Limb L6\n",
      "nodes_to_eliminate = []\n",
      "\n",
      "----Working on Limb L1-----\n",
      "No endpoints were eliminated so don't need to add back any candidates\n",
      "\n",
      "----Working on Limb L2-----\n",
      "No endpoints were eliminated so don't need to add back any candidates\n",
      "\n",
      "----Working on Limb L3-----\n",
      "No endpoints were eliminated so don't need to add back any candidates\n",
      "\n",
      "----Working on Limb L4-----\n",
      "No nodes were eliminated so don't need to add back any candidates\n",
      "\n",
      "----Working on Limb L5-----\n",
      "No endpoints were eliminated so don't need to add back any candidates\n",
      "\n",
      "----Working on Limb L6-----\n",
      "No nodes were eliminated so don't need to add back any candidates\n",
      "Final Candidates\n",
      "\n",
      "Limb 1\n",
      "Candidate 0 (pink): array([1, 2, 4])\n",
      "Candidate 1 (cyan): array([0, 3, 5])\n",
      "\n",
      "Limb 2\n",
      "Candidate 0 (red): array([0, 1, 2, 4, 5])\n",
      "Candidate 1 (crimson): array([6])\n",
      "\n",
      "Limb 3\n",
      "Candidate 0 (gray): array([2, 5, 6])\n",
      "Candidate 1 (gold): array([3])\n",
      "Candidate 2 (orange): array([4])\n",
      "\n",
      "Limb 4\n",
      "Candidate 0 (gray): array([ 0,  1,  2,  3,  4,  5,  6,  7,  8,  9, 10, 11, 12, 13, 14, 15, 16,\n",
      "       17, 18, 19, 20, 21, 22, 23])\n",
      "\n",
      "Limb 5\n",
      "Candidate 0 (brown): array([0])\n",
      "Candidate 1 (cyan): array([1])\n",
      "\n",
      "Limb 6\n",
      "Candidate 0 (gold): array([0])\n",
      "Part 3: axon_subgraph_candidates = {1: [[1, 2, 4], [0, 3, 5]], 2: [[0, 1, 2, 4, 5], [6]], 3: [[2, 5, 6], [3], [4]], 4: [[0, 1, 2, 3, 4, 5, 6, 7, 8, 9, 10, 11, 12, 13, 14, 15, 16, 17, 18, 19, 20, 21, 22, 23]], 5: [[0], [1]], 6: [[0]]}\n",
      "\n",
      "\n",
      " --- Working on limb 1, candidate # 0\n",
      "0 out of 3 branches are axons\n",
      "Axon percentage = 0.0\n",
      "Not adding candidate no axon branches detected \n",
      "\n",
      "\n",
      " --- Working on limb 1, candidate # 1\n",
      "0 out of 3 branches are axons\n",
      "Axon percentage = 0.0\n",
      "Not adding candidate no axon branches detected \n",
      "\n",
      "\n",
      " --- Working on limb 2, candidate # 0\n",
      "0 out of 5 branches are axons\n",
      "Axon percentage = 0.0\n",
      "Not adding candidate no axon branches detected \n",
      "\n",
      "\n",
      " --- Working on limb 2, candidate # 1\n",
      "0 out of 1 branches are axons\n",
      "Axon percentage = 0.0\n",
      "Not adding candidate no axon branches detected \n",
      "\n",
      "\n",
      " --- Working on limb 3, candidate # 0\n",
      "0 out of 3 branches are axons\n",
      "Axon percentage = 0.0\n",
      "Not adding candidate no axon branches detected \n",
      "\n",
      "\n",
      " --- Working on limb 3, candidate # 1\n",
      "0 out of 1 branches are axons\n",
      "Axon percentage = 0.0\n",
      "Not adding candidate no axon branches detected \n",
      "\n",
      "\n",
      " --- Working on limb 3, candidate # 2\n",
      "0 out of 1 branches are axons\n",
      "Axon percentage = 0.0\n",
      "Not adding candidate no axon branches detected \n",
      "\n",
      "\n",
      " --- Working on limb 4, candidate # 0\n",
      "24 out of 24 branches are axons\n",
      "Axon percentage = 1.0\n",
      "curr_axon_angle_threshold = 95\n",
      "candidate_nodes = [ 0  1  2  3  4  5  6  7  8  9 10 11 12 13 14 15 16 17 18 19 20 21 22 23]\n",
      "non_axon_branches_on_subgraph = []\n",
      "endnodes_to_test = [1614]\n",
      "Skeleton paths distances = [24998.91626104]\n",
      "Filtered indexes = [0]\n",
      "len(filtered_skeletons) = 1\n",
      "sk_angles = [171.90464439]\n",
      "candidate_angles,restr_skels = (array([171.90464439]), [array([[[599339.74103729, 623312.08318266, 703956.47573203],\n",
      "        [599368.74419641, 623402.4581695 , 703987.95871973]],\n",
      "\n",
      "       [[599368.74419641, 623402.4581695 , 703987.95871973],\n",
      "        [599399.70482418, 623492.1630624 , 704019.44557226]],\n",
      "\n",
      "       [[599399.70482418, 623492.1630624 , 704019.44557226],\n",
      "        [599432.06006638, 623581.39054142, 704050.93517831]],\n",
      "\n",
      "       [[599432.06006638, 623581.39054142, 704050.93517831],\n",
      "        [599465.47238589, 623670.27718032, 704082.27869824]],\n",
      "\n",
      "       [[599465.47238589, 623670.27718032, 704082.27869824],\n",
      "        [599499.18028187, 623759.07100932, 704113.57433477]],\n",
      "\n",
      "       [[599499.18028187, 623759.07100932, 704113.57433477],\n",
      "        [599531.9737859 , 623848.33794378, 704144.4935926 ]],\n",
      "\n",
      "       [[599531.9737859 , 623848.33794378, 704144.4935926 ],\n",
      "        [599563.87329548, 623937.9744868 , 704175.24102482]],\n",
      "\n",
      "       [[599563.87329548, 623937.9744868 , 704175.24102482],\n",
      "        [599593.63648799, 624028.49425797, 704205.57785721]],\n",
      "\n",
      "       [[599593.63648799, 624028.49425797, 704205.57785721],\n",
      "        [599620.67423084, 624119.98511948, 704235.45773922]],\n",
      "\n",
      "       [[599620.67423084, 624119.98511948, 704235.45773922],\n",
      "        [599645.9409266 , 624212.10701327, 704265.04068651]],\n",
      "\n",
      "       [[599645.9409266 , 624212.10701327, 704265.04068651],\n",
      "        [599666.45165781, 624305.62527363, 704293.88337311]],\n",
      "\n",
      "       [[599666.45165781, 624305.62527363, 704293.88337311],\n",
      "        [599685.30459902, 624399.54324731, 704322.50125061]],\n",
      "\n",
      "       [[599685.30459902, 624399.54324731, 704322.50125061],\n",
      "        [599700.63587362, 624494.26434434, 704350.65912333]],\n",
      "\n",
      "       [[599700.63587362, 624494.26434434, 704350.65912333],\n",
      "        [599713.4589231 , 624589.40708905, 704378.57779332]],\n",
      "\n",
      "       [[599713.4589231 , 624589.40708905, 704378.57779332],\n",
      "        [599724.7541011 , 624684.80667811, 704406.35075429]],\n",
      "\n",
      "       [[599724.7541011 , 624684.80667811, 704406.35075429],\n",
      "        [599733.17215308, 624780.59380612, 704433.80664756]],\n",
      "\n",
      "       [[599733.17215308, 624780.59380612, 704433.80664756],\n",
      "        [599740.90916195, 624876.51571047, 704460.97798383]],\n",
      "\n",
      "       [[599740.90916195, 624876.51571047, 704460.97798383],\n",
      "        [599747.56787823, 624972.65594498, 704487.67474032]],\n",
      "\n",
      "       [[599747.56787823, 624972.65594498, 704487.67474032],\n",
      "        [599753.78788018, 625069.20694587, 704512.94448403]],\n",
      "\n",
      "       [[599753.78788018, 625069.20694587, 704512.94448403],\n",
      "        [599759.97359026, 625166.04243582, 704537.08142655]],\n",
      "\n",
      "       [[599759.97359026, 625166.04243582, 704537.08142655],\n",
      "        [599766.45555746, 625263.47281097, 704558.65238153]],\n",
      "\n",
      "       [[599766.45555746, 625263.47281097, 704558.65238153],\n",
      "        [599773.57819026, 625361.48202489, 704577.04437136]],\n",
      "\n",
      "       [[599773.57819026, 625361.48202489, 704577.04437136],\n",
      "        [599781.13800325, 625459.8542796 , 704593.24246472]],\n",
      "\n",
      "       [[599781.13800325, 625459.8542796 , 704593.24246472],\n",
      "        [599789.62239215, 625558.83528132, 704604.67821763]],\n",
      "\n",
      "       [[599789.62239215, 625558.83528132, 704604.67821763],\n",
      "        [599798.53206762, 625658.03593357, 704613.20989238]],\n",
      "\n",
      "       [[599798.53206762, 625658.03593357, 704613.20989238],\n",
      "        [599807.78828452, 625757.41556633, 704619.37520191]],\n",
      "\n",
      "       [[599807.78828452, 625757.41556633, 704619.37520191],\n",
      "        [599817.31844749, 625856.93594743, 704621.36087841]],\n",
      "\n",
      "       [[599817.31844749, 625856.93594743, 704621.36087841],\n",
      "        [599826.80567751, 625956.47080222, 704622.09495673]],\n",
      "\n",
      "       [[599826.80567751, 625956.47080222, 704622.09495673],\n",
      "        [599836.17094741, 626056.02063234, 704620.6378904 ]],\n",
      "\n",
      "       [[599836.17094741, 626056.02063234, 704620.6378904 ],\n",
      "        [599845.22214153, 626155.56416608, 704617.78577117]],\n",
      "\n",
      "       [[599845.22214153, 626155.56416608, 704617.78577117],\n",
      "        [599854.11571965, 626255.10454003, 704614.23355769]],\n",
      "\n",
      "       [[599854.11571965, 626255.10454003, 704614.23355769],\n",
      "        [599862.48299493, 626354.64037362, 704609.48067626]],\n",
      "\n",
      "       [[599862.48299493, 626354.64037362, 704609.48067626],\n",
      "        [599870.72266364, 626454.17766679, 704604.54818673]],\n",
      "\n",
      "       [[599870.72266364, 626454.17766679, 704604.54818673],\n",
      "        [599878.66283287, 626553.71863591, 704599.20504352]],\n",
      "\n",
      "       [[599878.66283287, 626553.71863591, 704599.20504352],\n",
      "        [599886.43726793, 626653.270596  , 704593.82524243]],\n",
      "\n",
      "       [[599886.43726793, 626653.270596  , 704593.82524243],\n",
      "        [599894.07914056, 626752.83134722, 704588.41612054]],\n",
      "\n",
      "       [[599894.07914056, 626752.83134722, 704588.41612054],\n",
      "        [599901.47279481, 626852.42935118, 704583.36481647]],\n",
      "\n",
      "       [[599901.47279481, 626852.42935118, 704583.36481647],\n",
      "        [599908.79393053, 626952.03823875, 704578.41805109]],\n",
      "\n",
      "       [[599908.79393053, 626952.03823875, 704578.41805109],\n",
      "        [599915.58760495, 627051.72744815, 704574.44002103]],\n",
      "\n",
      "       [[599915.58760495, 627051.72744815, 704574.44002103],\n",
      "        [599922.30211032, 627151.426995  , 704570.59650704]],\n",
      "\n",
      "       [[599922.30211032, 627151.426995  , 704570.59650704],\n",
      "        [599928.08307897, 627251.23179272, 704568.23372159]],\n",
      "\n",
      "       [[599928.08307897, 627251.23179272, 704568.23372159],\n",
      "        [599933.70788552, 627351.04745267, 704566.07494401]],\n",
      "\n",
      "       [[599933.70788552, 627351.04745267, 704566.07494401],\n",
      "        [599938.06859182, 627450.95104025, 704565.56756839]],\n",
      "\n",
      "       [[599938.06859182, 627450.95104025, 704565.56756839],\n",
      "        [599942.16351072, 627550.86275986, 704565.34615612]],\n",
      "\n",
      "       [[599942.16351072, 627550.86275986, 704565.34615612],\n",
      "        [599944.81013125, 627650.81879167, 704566.68298273]],\n",
      "\n",
      "       [[599944.81013125, 627650.81879167, 704566.68298273],\n",
      "        [599947.10741493, 627750.77452437, 704568.33397489]],\n",
      "\n",
      "       [[599947.10741493, 627750.77452437, 704568.33397489],\n",
      "        [599948.06231928, 627850.72910772, 704571.19219536]],\n",
      "\n",
      "       [[599948.06231928, 627850.72910772, 704571.19219536],\n",
      "        [599948.66128187, 627950.67497777, 704574.34500628]],\n",
      "\n",
      "       [[599948.66128187, 627950.67497777, 704574.34500628],\n",
      "        [599948.38671869, 628050.59946425, 704578.22077917]],\n",
      "\n",
      "       [[599948.38671869, 628050.59946425, 704578.22077917],\n",
      "        [599947.99516209, 628150.51400566, 704582.32458753]],\n",
      "\n",
      "       [[599947.99516209, 628150.51400566, 704582.32458753],\n",
      "        [599947.44380619, 628250.41496324, 704586.73986565]],\n",
      "\n",
      "       [[599947.44380619, 628250.41496324, 704586.73986565],\n",
      "        [599947.55896507, 628350.30821929, 704591.3253961 ]],\n",
      "\n",
      "       [[599947.55896507, 628350.30821929, 704591.3253961 ],\n",
      "        [599948.09244173, 628450.19664171, 704596.01778026]],\n",
      "\n",
      "       [[599948.09244173, 628450.19664171, 704596.01778026],\n",
      "        [599950.83248487, 628550.03174391, 704600.98221061]],\n",
      "\n",
      "       [[599950.83248487, 628550.03174391, 704600.98221061],\n",
      "        [599954.46309701, 628649.82709199, 704606.0797692 ]],\n",
      "\n",
      "       [[599954.46309701, 628649.82709199, 704606.0797692 ],\n",
      "        [599961.22007062, 628749.4401622 , 704611.6993378 ]],\n",
      "\n",
      "       [[599961.22007062, 628749.4401622 , 704611.6993378 ],\n",
      "        [599969.70551622, 628848.87352635, 704617.77670389]],\n",
      "\n",
      "       [[599969.70551622, 628848.87352635, 704617.77670389],\n",
      "        [599980.36871571, 628948.08047341, 704624.43086283]],\n",
      "\n",
      "       [[599980.36871571, 628948.08047341, 704624.43086283],\n",
      "        [599993.3418182 , 629046.92312703, 704632.12955526]],\n",
      "\n",
      "       [[599993.3418182 , 629046.92312703, 704632.12955526],\n",
      "        [600007.21592392, 629145.62368397, 704640.23567952]],\n",
      "\n",
      "       [[600007.21592392, 629145.62368397, 704640.23567952],\n",
      "        [600022.93691821, 629243.89291634, 704650.01693706]],\n",
      "\n",
      "       [[600022.93691821, 629243.89291634, 704650.01693706],\n",
      "        [600038.83029542, 629342.10177367, 704660.1158349 ]],\n",
      "\n",
      "       [[600038.83029542, 629342.10177367, 704660.1158349 ],\n",
      "        [600055.26980111, 629440.03789764, 704671.87416275]],\n",
      "\n",
      "       [[600055.26980111, 629440.03789764, 704671.87416275],\n",
      "        [600071.61527235, 629537.93561827, 704684.050529  ]],\n",
      "\n",
      "       [[600071.61527235, 629537.93561827, 704684.050529  ],\n",
      "        [600087.65691861, 629635.70925781, 704697.57757581]],\n",
      "\n",
      "       [[600087.65691861, 629635.70925781, 704697.57757581],\n",
      "        [600103.39489169, 629733.46871801, 704711.53419393]],\n",
      "\n",
      "       [[600103.39489169, 629733.46871801, 704711.53419393],\n",
      "        [600118.45637669, 629831.19659107, 704726.44776142]],\n",
      "\n",
      "       [[600118.45637669, 629831.19659107, 704726.44776142],\n",
      "        [600133.10539018, 629928.93875741, 704741.66033526]],\n",
      "\n",
      "       [[600133.10539018, 629928.93875741, 704741.66033526],\n",
      "        [600147.03516457, 630026.70584737, 704757.39429555]],\n",
      "\n",
      "       [[600147.03516457, 630026.70584737, 704757.39429555],\n",
      "        [600160.56863817, 630124.51123423, 704773.22848776]],\n",
      "\n",
      "       [[600160.56863817, 630124.51123423, 704773.22848776],\n",
      "        [600173.56196824, 630222.36881836, 704789.19929242]],\n",
      "\n",
      "       [[600173.56196824, 630222.36881836, 704789.19929242],\n",
      "        [600186.27775579, 630320.27782696, 704805.0753139 ]],\n",
      "\n",
      "       [[600186.27775579, 630320.27782696, 704805.0753139 ],\n",
      "        [600198.72205487, 630418.2371383 , 704820.85861972]],\n",
      "\n",
      "       [[600198.72205487, 630418.2371383 , 704820.85861972],\n",
      "        [600211.03733055, 630516.25060084, 704836.40370224]],\n",
      "\n",
      "       [[600211.03733055, 630516.25060084, 704836.40370224],\n",
      "        [600223.27560352, 630614.29638147, 704851.80661027]],\n",
      "\n",
      "       [[600223.27560352, 630614.29638147, 704851.80661027],\n",
      "        [600235.35966087, 630712.41470082, 704866.86426283]],\n",
      "\n",
      "       [[600235.35966087, 630712.41470082, 704866.86426283],\n",
      "        [600247.38965245, 630810.55497673, 704881.82249338]],\n",
      "\n",
      "       [[600247.38965245, 630810.55497673, 704881.82249338],\n",
      "        [600258.69335879, 630908.86244488, 704896.24011901]],\n",
      "\n",
      "       [[600258.69335879, 630908.86244488, 704896.24011901],\n",
      "        [600269.44248311, 631007.26682211, 704910.38633465]],\n",
      "\n",
      "       [[600269.44248311, 631007.26682211, 704910.38633465],\n",
      "        [600278.88620554, 631105.89930862, 704923.89369238]],\n",
      "\n",
      "       [[600278.88620554, 631105.89930862, 704923.89369238],\n",
      "        [600286.30323216, 631204.81492603, 704936.44919994]],\n",
      "\n",
      "       [[600286.30323216, 631204.81492603, 704936.44919994],\n",
      "        [600292.5076744 , 631303.89994237, 704948.43520978]],\n",
      "\n",
      "       [[600292.5076744 , 631303.89994237, 704948.43520978],\n",
      "        [600294.44616617, 631403.39393418, 704958.28099985]],\n",
      "\n",
      "       [[600294.44616617, 631403.39393418, 704958.28099985],\n",
      "        [600294.64554334, 631502.96443304, 704967.19092533]],\n",
      "\n",
      "       [[600294.64554334, 631502.96443304, 704967.19092533],\n",
      "        [600291.97061569, 631602.65731296, 704974.55125508]],\n",
      "\n",
      "       [[600291.97061569, 631602.65731296, 704974.55125508],\n",
      "        [600286.37032839, 631702.31464197, 704980.32605664]],\n",
      "\n",
      "       [[600286.37032839, 631702.31464197, 704980.32605664],\n",
      "        [600279.50404876, 631801.94283004, 704985.45164733]],\n",
      "\n",
      "       [[600279.50404876, 631801.94283004, 704985.45164733],\n",
      "        [600270.24539808, 631901.42732137, 704989.58847863]],\n",
      "\n",
      "       [[600270.24539808, 631901.42732137, 704989.58847863],\n",
      "        [600260.37801401, 632000.84584626, 704993.84058761]],\n",
      "\n",
      "       [[600260.37801401, 632000.84584626, 704993.84058761],\n",
      "        [600249.70900099, 632100.17750127, 704998.24450346]],\n",
      "\n",
      "       [[600249.70900099, 632100.17750127, 704998.24450346],\n",
      "        [600238.69796506, 632199.41428066, 705003.74777098]],\n",
      "\n",
      "       [[600238.69796506, 632199.41428066, 705003.74777098],\n",
      "        [600227.55039446, 632298.61318594, 705009.68989684]],\n",
      "\n",
      "       [[600227.55039446, 632298.61318594, 705009.68989684],\n",
      "        [600216.3708474 , 632397.6536373 , 705017.79948668]],\n",
      "\n",
      "       [[600216.3708474 , 632397.6536373 , 705017.79948668],\n",
      "        [600205.18546984, 632496.65518617, 705026.34020949]],\n",
      "\n",
      "       [[600205.18546984, 632496.65518617, 705026.34020949],\n",
      "        [600193.9743072 , 632595.46746498, 705036.8494144 ]],\n",
      "\n",
      "       [[600193.9743072 , 632595.46746498, 705036.8494144 ],\n",
      "        [600182.67684321, 632694.21618578, 705047.82573186]],\n",
      "\n",
      "       [[600182.67684321, 632694.21618578, 705047.82573186],\n",
      "        [600171.16223536, 632792.80498745, 705059.97735683]],\n",
      "\n",
      "       [[600171.16223536, 632792.80498745, 705059.97735683],\n",
      "        [600159.39030569, 632891.33486437, 705072.35086757]],\n",
      "\n",
      "       [[600159.39030569, 632891.33486437, 705072.35086757],\n",
      "        [600147.22616541, 632989.77492802, 705085.06257719]],\n",
      "\n",
      "       [[600147.22616541, 632989.77492802, 705085.06257719],\n",
      "        [600134.62748535, 633088.20370735, 705097.42079055]]])])\n"
     ]
    },
    {
     "name": "stdout",
     "output_type": "stream",
     "text": [
      "base_final_widths = [153.21894469 151.93259789]\n",
      "overall_ais_width = 141.34716955741501\n",
      "ais_width = 152.57577128757714\n",
      "Adding the following branches as true axons: [ 0.  1.  2.  3.  4.  5.  6.  7.  8.  9. 10. 11. 12. 13. 14. 15. 16. 17.\n",
      " 18. 19. 20. 21. 22. 23.]\n",
      "curr_soma_angle = 173.62\n",
      "max_axon_angle = 171.90464438573505\n",
      "Changing to a better axon candidate\n",
      "\n",
      "\n",
      " --- Working on limb 5, candidate # 0\n",
      "0 out of 1 branches are axons\n",
      "Axon percentage = 0.0\n",
      "Not adding candidate no axon branches detected \n",
      "\n",
      "\n",
      " --- Working on limb 5, candidate # 1\n",
      "0 out of 1 branches are axons\n",
      "Axon percentage = 0.0\n",
      "Not adding candidate no axon branches detected \n",
      "\n",
      "\n",
      " --- Working on limb 6, candidate # 0\n",
      "0 out of 1 branches are axons\n",
      "Axon percentage = 0.0\n",
      "Not adding candidate no axon branches detected \n",
      "Using the best axon approach\n",
      "Using True\n",
      "Limb L4: Axon branches before dendritic path filter = [ 0.  1.  2.  3.  4.  5.  6.  7.  8.  9. 10. 11. 12. 13. 14. 15. 16. 17.\n",
      " 18. 19. 20. 21. 22. 23.]\n",
      "Limb L4: Axon branches AFTER dendritic path filter = [ 0.  1.  2.  3.  4.  5.  6.  7.  8.  9. 10. 11. 12. 13. 14. 15. 16. 17.\n",
      " 18. 19. 20. 21. 22. 23.]\n",
      "\n",
      "\n",
      "Part 4: final_true_axons = {'L4': array([ 0.,  1.,  2.,  3.,  4.,  5.,  6.,  7.,  8.,  9., 10., 11., 12.,\n",
      "       13., 14., 15., 16., 17., 18., 19., 20., 21., 22., 23.])}\n",
      "\n",
      "--- Working on filter 0:\n",
      "function = dendrite_on_axon_merges\n",
      "function __name__ = filter_away_dendrite_on_axon_merges\n",
      "function arguments = {'use_pre_existing_axon_labels': True}\n",
      "\n",
      "\n",
      "\n",
      "\n",
      "\n",
      " ---- Total time for applying filter: 0.28874826431274414 -----\n",
      "Starting axon branch was the starting node so using border vertices and NOT computing upstream branch\n",
      "upstream_node_to_axon_starting_branch = None\n"
     ]
    },
    {
     "name": "stderr",
     "output_type": "stream",
     "text": [
      "\r",
      "  0%|          | 0/1 [00:00<?, ?it/s]"
     ]
    },
    {
     "name": "stdout",
     "output_type": "stream",
     "text": [
      "root_curr = [597698.1 613470.1 702083. ]\n",
      "Time for preparing soma vertices and root: 0.00039505958557128906\n",
      "invalidation_d = 2000\n",
      "cc_vertex_thresh = 10\n"
     ]
    },
    {
     "data": {
      "application/vnd.jupyter.widget-view+json": {
       "model_id": "c82b38fc81304a638a97a8ee4393edc8",
       "version_major": 2,
       "version_minor": 0
      },
      "text/plain": [
       "  0%|          | 0/23495 [00:00<?, ?it/s]"
      ]
     },
     "metadata": {},
     "output_type": "display_data"
    },
    {
     "name": "stderr",
     "output_type": "stream",
     "text": [
      "100%|██████████| 1/1 [00:01<00:00,  1.04s/it]\n"
     ]
    },
    {
     "name": "stdout",
     "output_type": "stream",
     "text": [
      "meshparty_segment_size = 100\n",
      "Time for 1st pass MP skeletonization: 1.851790428161621\n",
      "branches_touching_root = [12]\n",
      "combining close nodes\n",
      "combine_threshold = 1300\n",
      "length of Graph = 7451\n",
      "After combining close endpoints max(kept_branches_idx) = 70, len(kept_branches_idx) = 63\n",
      "empty_indices % = 0.0\n",
      " conflict_indices % = 0.02232695014287542\n"
     ]
    },
    {
     "data": {
      "application/vnd.jupyter.widget-view+json": {
       "model_id": "4e2ada3f634f49c599298f1eedbd4ae0",
       "version_major": 2,
       "version_minor": 0
      },
      "text/plain": [
       "  0%|          | 0/27 [00:00<?, ?it/s]"
      ]
     },
     "metadata": {},
     "output_type": "display_data"
    },
    {
     "name": "stdout",
     "output_type": "stream",
     "text": [
      "AFTER face_lookup_resolved_test\n"
     ]
    },
    {
     "data": {
      "application/vnd.jupyter.widget-view+json": {
       "model_id": "40f8671b8e4a4a178435a9621cab26ef",
       "version_major": 2,
       "version_minor": 0
      },
      "text/plain": [
       "  0%|          | 0/63 [00:00<?, ?it/s]"
      ]
     },
     "metadata": {},
     "output_type": "display_data"
    },
    {
     "name": "stdout",
     "output_type": "stream",
     "text": [
      "Decomposing first pass: 7.809711694717407\n",
      "Only Using MeshParty Skeletonization and Mesh Correspondence\n",
      "Another print\n",
      "Divinding into MP and MAP pieces: 0.00018525123596191406\n",
      "Total time for MAP sublimb processing 5.4836273193359375e-06\n",
      "---- Working on MP Decomposition #0 ----\n",
      "Using Quicker soma_to_piece_touching_vertices because no MAP and only one sublimb_mesh piece \n",
      "MP filtering soma verts: 0.0002827644348144531\n",
      "Fixing Possible Soma Extension Branch for Sublimb 0\n",
      "Total time for mesh KDTree = 0.5488598346710205\n",
      "sbv[0].reshape(-1,3) = [[597698.1 613470.1 702083. ]]\n",
      "closest_sk_pt_coord BEFORE = [597801.70542898 613820.78342672 701560.85435919]\n",
      "current_skeleton.shape = (606, 2, 3)\n",
      "node_for_stitch = 0: [597801.70542898 613820.78342672 701560.85435919]\n",
      "node_for_stitch AFTER = 0: [597801.70542898 613820.78342672 701560.85435919]\n",
      "possible_node_loc = [  0 600]\n",
      "possible_node_loc AFTER = [  0 600]\n",
      "curr_shortest_path = [0]\n",
      "Current stitch point was a branch or endpoint\n",
      "change_status for create soma extending pieces = False\n",
      "closest_sk_pt_coord AFTER = [597801.70542898 613820.78342672 701560.85435919]\n",
      "skipping soma 0 because closest skeleton node was already end node\n",
      "endpoints_must_keep = {0: array([[597801.70542898, 613820.78342672, 701560.85435919]])}\n",
      "match_sk_branches = [10]\n",
      "The new branch info was none so skipping \n",
      "\n",
      "No soma extending branch was added for this sublimb even though it had a soma border (means they already existed)\n",
      "MP (because soma touching verts) soma extension add: 2.8135225772857666\n",
      "There were not both MAP and MP pieces so skipping the stitch resolving phase\n",
      "Time for decomp of Limb = 12.822338104248047\n",
      "Number of matching vertices = 14\n",
      "Only one endpoint after filtering away the endpoints that are not on the skeleton\n",
      "Using Distance measure skeletal_distance\n",
      "endpoints_must_keep = [[597801.70542898 613820.78342672 701560.85435919]]\n",
      "Number of end_nodes BEFORE filtering = 37\n",
      "all_single_nodes_to_eliminate = [7]\n"
     ]
    },
    {
     "data": {
      "application/vnd.jupyter.widget-view+json": {
       "model_id": "ebbd7390f6c049888bbe79915ff47650",
       "version_major": 2,
       "version_minor": 0
      },
      "text/plain": [
       "  0%|          | 0/4 [00:00<?, ?it/s]"
      ]
     },
     "metadata": {},
     "output_type": "display_data"
    },
    {
     "name": "stdout",
     "output_type": "stream",
     "text": [
      "Removed 3 skeletal branches\n"
     ]
    },
    {
     "data": {
      "application/vnd.jupyter.widget-view+json": {
       "model_id": "96010c24c9354828bd59c574a36f39e3",
       "version_major": 2,
       "version_minor": 0
      },
      "text/plain": [
       "  0%|          | 0/63 [00:00<?, ?it/s]"
      ]
     },
     "metadata": {},
     "output_type": "display_data"
    },
    {
     "name": "stdout",
     "output_type": "stream",
     "text": [
      "46945 46946\n",
      "For marked faces: None\n",
      "empty_indices % = 0.0\n",
      " conflict_indices % = 0.0\n"
     ]
    },
    {
     "data": {
      "application/vnd.jupyter.widget-view+json": {
       "model_id": "d2971486a20846c68bf3b15d9cce7e08",
       "version_major": 2,
       "version_minor": 0
      },
      "text/plain": [
       "0it [00:00, ?it/s]"
      ]
     },
     "metadata": {},
     "output_type": "display_data"
    },
    {
     "name": "stdout",
     "output_type": "stream",
     "text": [
      "AFTER face_lookup_resolved_test\n"
     ]
    },
    {
     "data": {
      "application/vnd.jupyter.widget-view+json": {
       "model_id": "32ffddf03e4d4848ae264c30a1ad1004",
       "version_major": 2,
       "version_minor": 0
      },
      "text/plain": [
       "  0%|          | 0/57 [00:00<?, ?it/s]"
      ]
     },
     "metadata": {},
     "output_type": "display_data"
    },
    {
     "name": "stdout",
     "output_type": "stream",
     "text": [
      "Limb Correspondence before stitching = 57\n",
      "Limb Correspondence AFTER stitching = 57\n",
      "Upstream node was None so don't have to adjust\n",
      "concept_network_dict = {0: [<networkx_utils.GraphOrderedEdges object at 0x7f3ccfc5d908>]}\n",
      "\n",
      "\n",
      "----Working on seperate_graph 0----\n",
      "\n",
      "\n",
      "---------Working on soma_idx = 0, soma_group_idx 0, endpt = [597801.70542898 613820.78342672 701560.85435919]---------\n",
      "Starting_edge inside branches_to_conept = [[597801.70542898 613820.78342672 701560.85435919]\n",
      " [618476.6236395  666789.10272201 708209.89744269]]\n",
      "At the start, starting_node (in terms of the skeleton, that shouldn't match the starting edge) = [10]\n",
      "printing out current edge:\n",
      "[[597801.70542898 613820.78342672 701560.85435919]\n",
      " [618476.6236395  666789.10272201 708209.89744269]]\n",
      "edge_endpoints_to_process was empty so exiting loop after 57 iterations\n",
      "starting_node in concept map (that should match the starting edge) = 12\n",
      "Total time for branches to concept conversion = 0.8089642524719238\n",
      "\n",
      "Done generating concept network \n",
      "\n",
      "\n"
     ]
    },
    {
     "data": {
      "application/vnd.jupyter.widget-view+json": {
       "model_id": "f360cc22a29f485cadb57740a0430b4c",
       "version_major": 2,
       "version_minor": 0
      },
      "text/plain": [
       "  0%|          | 0/53 [00:00<?, ?it/s]"
      ]
     },
     "metadata": {},
     "output_type": "display_data"
    },
    {
     "data": {
      "application/vnd.jupyter.widget-view+json": {
       "model_id": "5c8e5510c0054a13b2b4af3cc49426fc",
       "version_major": 2,
       "version_minor": 0
      },
      "text/plain": [
       "  0%|          | 0/9 [00:00<?, ?it/s]"
      ]
     },
     "metadata": {},
     "output_type": "display_data"
    },
    {
     "data": {
      "application/vnd.jupyter.widget-view+json": {
       "model_id": "2abdf127f4bc4a3382636a0c4e7fa314",
       "version_major": 2,
       "version_minor": 0
      },
      "text/plain": [
       "  0%|          | 0/16 [00:00<?, ?it/s]"
      ]
     },
     "metadata": {},
     "output_type": "display_data"
    },
    {
     "data": {
      "application/vnd.jupyter.widget-view+json": {
       "model_id": "42267a888b014eb6948347a8b579d447",
       "version_major": 2,
       "version_minor": 0
      },
      "text/plain": [
       "  0%|          | 0/12 [00:00<?, ?it/s]"
      ]
     },
     "metadata": {},
     "output_type": "display_data"
    },
    {
     "data": {
      "application/vnd.jupyter.widget-view+json": {
       "model_id": "f445f37ec4c4458583935f13c756af82",
       "version_major": 2,
       "version_minor": 0
      },
      "text/plain": [
       "  0%|          | 0/5 [00:00<?, ?it/s]"
      ]
     },
     "metadata": {},
     "output_type": "display_data"
    },
    {
     "data": {
      "application/vnd.jupyter.widget-view+json": {
       "model_id": "734f883207a64a89b2a768f21df7f3e7",
       "version_major": 2,
       "version_minor": 0
      },
      "text/plain": [
       "  0%|          | 0/5 [00:00<?, ?it/s]"
      ]
     },
     "metadata": {},
     "output_type": "display_data"
    },
    {
     "data": {
      "application/vnd.jupyter.widget-view+json": {
       "model_id": "22018e6d810b4d10a5aed55b5cc56b2a",
       "version_major": 2,
       "version_minor": 0
      },
      "text/plain": [
       "  0%|          | 0/6 [00:00<?, ?it/s]"
      ]
     },
     "metadata": {},
     "output_type": "display_data"
    },
    {
     "data": {
      "application/vnd.jupyter.widget-view+json": {
       "model_id": "ac8d8a5d9a7a4ea29be22bbe02056d5d",
       "version_major": 2,
       "version_minor": 0
      },
      "text/plain": [
       "  0%|          | 0/5 [00:00<?, ?it/s]"
      ]
     },
     "metadata": {},
     "output_type": "display_data"
    },
    {
     "data": {
      "application/vnd.jupyter.widget-view+json": {
       "model_id": "3d9d1686a4684954be6234ef2cafeb67",
       "version_major": 2,
       "version_minor": 0
      },
      "text/plain": [
       "  0%|          | 0/5 [00:00<?, ?it/s]"
      ]
     },
     "metadata": {},
     "output_type": "display_data"
    },
    {
     "data": {
      "application/vnd.jupyter.widget-view+json": {
       "model_id": "6d5bd8d089544261bc5e8736eeea5578",
       "version_major": 2,
       "version_minor": 0
      },
      "text/plain": [
       "  0%|          | 0/13 [00:00<?, ?it/s]"
      ]
     },
     "metadata": {},
     "output_type": "display_data"
    },
    {
     "data": {
      "application/vnd.jupyter.widget-view+json": {
       "model_id": "edaa3d644fb2401dabd53bcbd0ef6db0",
       "version_major": 2,
       "version_minor": 0
      },
      "text/plain": [
       "  0%|          | 0/4 [00:00<?, ?it/s]"
      ]
     },
     "metadata": {},
     "output_type": "display_data"
    },
    {
     "data": {
      "application/vnd.jupyter.widget-view+json": {
       "model_id": "f3bb0f9c20b94897a0367eb38e70a061",
       "version_major": 2,
       "version_minor": 0
      },
      "text/plain": [
       "  0%|          | 0/11 [00:00<?, ?it/s]"
      ]
     },
     "metadata": {},
     "output_type": "display_data"
    },
    {
     "data": {
      "application/vnd.jupyter.widget-view+json": {
       "model_id": "6bbf9cceb8ba45fdb3caa04aebb29bbd",
       "version_major": 2,
       "version_minor": 0
      },
      "text/plain": [
       "  0%|          | 0/10 [00:00<?, ?it/s]"
      ]
     },
     "metadata": {},
     "output_type": "display_data"
    },
    {
     "data": {
      "application/vnd.jupyter.widget-view+json": {
       "model_id": "cd3e1071aaac4fbca0cf59038ac43204",
       "version_major": 2,
       "version_minor": 0
      },
      "text/plain": [
       "  0%|          | 0/11 [00:00<?, ?it/s]"
      ]
     },
     "metadata": {},
     "output_type": "display_data"
    },
    {
     "data": {
      "application/vnd.jupyter.widget-view+json": {
       "model_id": "56bba3783899497b93b21a545e34c8ad",
       "version_major": 2,
       "version_minor": 0
      },
      "text/plain": [
       "  0%|          | 0/16 [00:00<?, ?it/s]"
      ]
     },
     "metadata": {},
     "output_type": "display_data"
    },
    {
     "data": {
      "application/vnd.jupyter.widget-view+json": {
       "model_id": "756b9e81ce00426c9c07f8bfaeed766e",
       "version_major": 2,
       "version_minor": 0
      },
      "text/plain": [
       "  0%|          | 0/11 [00:00<?, ?it/s]"
      ]
     },
     "metadata": {},
     "output_type": "display_data"
    },
    {
     "data": {
      "application/vnd.jupyter.widget-view+json": {
       "model_id": "7b61a9be60f94061a8a75130398a0220",
       "version_major": 2,
       "version_minor": 0
      },
      "text/plain": [
       "  0%|          | 0/28 [00:00<?, ?it/s]"
      ]
     },
     "metadata": {},
     "output_type": "display_data"
    },
    {
     "data": {
      "application/vnd.jupyter.widget-view+json": {
       "model_id": "6d73f07bad3c401c886d0b23e92d8706",
       "version_major": 2,
       "version_minor": 0
      },
      "text/plain": [
       "  0%|          | 0/6 [00:00<?, ?it/s]"
      ]
     },
     "metadata": {},
     "output_type": "display_data"
    },
    {
     "data": {
      "application/vnd.jupyter.widget-view+json": {
       "model_id": "7131e0bed24f45358ed3c39ea9cfba63",
       "version_major": 2,
       "version_minor": 0
      },
      "text/plain": [
       "  0%|          | 0/7 [00:00<?, ?it/s]"
      ]
     },
     "metadata": {},
     "output_type": "display_data"
    },
    {
     "data": {
      "application/vnd.jupyter.widget-view+json": {
       "model_id": "80272f02a57b4dbe81f2590bbc56ef22",
       "version_major": 2,
       "version_minor": 0
      },
      "text/plain": [
       "  0%|          | 0/9 [00:00<?, ?it/s]"
      ]
     },
     "metadata": {},
     "output_type": "display_data"
    },
    {
     "data": {
      "application/vnd.jupyter.widget-view+json": {
       "model_id": "5c898a359a264682a284e9ceef582a5e",
       "version_major": 2,
       "version_minor": 0
      },
      "text/plain": [
       "  0%|          | 0/10 [00:00<?, ?it/s]"
      ]
     },
     "metadata": {},
     "output_type": "display_data"
    },
    {
     "data": {
      "application/vnd.jupyter.widget-view+json": {
       "model_id": "c42d658397484a1eacc53c1e7f2fe07a",
       "version_major": 2,
       "version_minor": 0
      },
      "text/plain": [
       "  0%|          | 0/13 [00:00<?, ?it/s]"
      ]
     },
     "metadata": {},
     "output_type": "display_data"
    },
    {
     "data": {
      "application/vnd.jupyter.widget-view+json": {
       "model_id": "5b34ad2cd5ea4946b6c45a6ca3830529",
       "version_major": 2,
       "version_minor": 0
      },
      "text/plain": [
       "  0%|          | 0/4 [00:00<?, ?it/s]"
      ]
     },
     "metadata": {},
     "output_type": "display_data"
    },
    {
     "data": {
      "application/vnd.jupyter.widget-view+json": {
       "model_id": "d92384e402f34a88ae32693e719e5df6",
       "version_major": 2,
       "version_minor": 0
      },
      "text/plain": [
       "  0%|          | 0/1 [00:00<?, ?it/s]"
      ]
     },
     "metadata": {},
     "output_type": "display_data"
    },
    {
     "data": {
      "application/vnd.jupyter.widget-view+json": {
       "model_id": "784be1a8fb644954bc222b996ac46488",
       "version_major": 2,
       "version_minor": 0
      },
      "text/plain": [
       "  0%|          | 0/6 [00:00<?, ?it/s]"
      ]
     },
     "metadata": {},
     "output_type": "display_data"
    },
    {
     "data": {
      "application/vnd.jupyter.widget-view+json": {
       "model_id": "745b21f0b425489294f6a72e69c5d4b0",
       "version_major": 2,
       "version_minor": 0
      },
      "text/plain": [
       "  0%|          | 0/15 [00:00<?, ?it/s]"
      ]
     },
     "metadata": {},
     "output_type": "display_data"
    },
    {
     "data": {
      "application/vnd.jupyter.widget-view+json": {
       "model_id": "374929036d754adea9d863a57bd83450",
       "version_major": 2,
       "version_minor": 0
      },
      "text/plain": [
       "  0%|          | 0/22 [00:00<?, ?it/s]"
      ]
     },
     "metadata": {},
     "output_type": "display_data"
    },
    {
     "data": {
      "application/vnd.jupyter.widget-view+json": {
       "model_id": "6c0ccf0bb4e74cd4b48e68ce1d45ab2f",
       "version_major": 2,
       "version_minor": 0
      },
      "text/plain": [
       "  0%|          | 0/3 [00:00<?, ?it/s]"
      ]
     },
     "metadata": {},
     "output_type": "display_data"
    },
    {
     "data": {
      "application/vnd.jupyter.widget-view+json": {
       "model_id": "7443bed53d4f4f399c90e4a370f5dffd",
       "version_major": 2,
       "version_minor": 0
      },
      "text/plain": [
       "  0%|          | 0/5 [00:00<?, ?it/s]"
      ]
     },
     "metadata": {},
     "output_type": "display_data"
    },
    {
     "data": {
      "application/vnd.jupyter.widget-view+json": {
       "model_id": "ccf740a645614ceea702aeb8aac6266c",
       "version_major": 2,
       "version_minor": 0
      },
      "text/plain": [
       "  0%|          | 0/9 [00:00<?, ?it/s]"
      ]
     },
     "metadata": {},
     "output_type": "display_data"
    },
    {
     "data": {
      "application/vnd.jupyter.widget-view+json": {
       "model_id": "0c0abd0d6c234977936df9e1a2f134cd",
       "version_major": 2,
       "version_minor": 0
      },
      "text/plain": [
       "  0%|          | 0/36 [00:00<?, ?it/s]"
      ]
     },
     "metadata": {},
     "output_type": "display_data"
    },
    {
     "data": {
      "application/vnd.jupyter.widget-view+json": {
       "model_id": "c83edd37de7a4601b7e3bff822ed2e4e",
       "version_major": 2,
       "version_minor": 0
      },
      "text/plain": [
       "  0%|          | 0/12 [00:00<?, ?it/s]"
      ]
     },
     "metadata": {},
     "output_type": "display_data"
    },
    {
     "data": {
      "application/vnd.jupyter.widget-view+json": {
       "model_id": "3656e0e0bdb34f6fb2fa495f7c89a64f",
       "version_major": 2,
       "version_minor": 0
      },
      "text/plain": [
       "  0%|          | 0/8 [00:00<?, ?it/s]"
      ]
     },
     "metadata": {},
     "output_type": "display_data"
    },
    {
     "data": {
      "application/vnd.jupyter.widget-view+json": {
       "model_id": "1a410d20aa984d91832ae31617c795ba",
       "version_major": 2,
       "version_minor": 0
      },
      "text/plain": [
       "  0%|          | 0/5 [00:00<?, ?it/s]"
      ]
     },
     "metadata": {},
     "output_type": "display_data"
    },
    {
     "data": {
      "application/vnd.jupyter.widget-view+json": {
       "model_id": "a1ecab5eb83448549486dad2ddaacd54",
       "version_major": 2,
       "version_minor": 0
      },
      "text/plain": [
       "  0%|          | 0/3 [00:00<?, ?it/s]"
      ]
     },
     "metadata": {},
     "output_type": "display_data"
    },
    {
     "data": {
      "application/vnd.jupyter.widget-view+json": {
       "model_id": "cd7a7eedf32e4e4c8ed88261010fcd3e",
       "version_major": 2,
       "version_minor": 0
      },
      "text/plain": [
       "  0%|          | 0/5 [00:00<?, ?it/s]"
      ]
     },
     "metadata": {},
     "output_type": "display_data"
    },
    {
     "data": {
      "application/vnd.jupyter.widget-view+json": {
       "model_id": "fc67f17f50f2402686ca065a6bbfe701",
       "version_major": 2,
       "version_minor": 0
      },
      "text/plain": [
       "  0%|          | 0/3 [00:00<?, ?it/s]"
      ]
     },
     "metadata": {},
     "output_type": "display_data"
    },
    {
     "data": {
      "application/vnd.jupyter.widget-view+json": {
       "model_id": "2370c503d5af45c9b4f5f55d27a68531",
       "version_major": 2,
       "version_minor": 0
      },
      "text/plain": [
       "  0%|          | 0/2 [00:00<?, ?it/s]"
      ]
     },
     "metadata": {},
     "output_type": "display_data"
    },
    {
     "data": {
      "application/vnd.jupyter.widget-view+json": {
       "model_id": "c8f1d29963bf4f069a981b7763e6dc9a",
       "version_major": 2,
       "version_minor": 0
      },
      "text/plain": [
       "  0%|          | 0/7 [00:00<?, ?it/s]"
      ]
     },
     "metadata": {},
     "output_type": "display_data"
    },
    {
     "data": {
      "application/vnd.jupyter.widget-view+json": {
       "model_id": "5c370aa3f6af49ca8ef6f97457855991",
       "version_major": 2,
       "version_minor": 0
      },
      "text/plain": [
       "  0%|          | 0/11 [00:00<?, ?it/s]"
      ]
     },
     "metadata": {},
     "output_type": "display_data"
    },
    {
     "data": {
      "application/vnd.jupyter.widget-view+json": {
       "model_id": "94e7cdc3c3f0415f8828a20aa62a0fef",
       "version_major": 2,
       "version_minor": 0
      },
      "text/plain": [
       "  0%|          | 0/4 [00:00<?, ?it/s]"
      ]
     },
     "metadata": {},
     "output_type": "display_data"
    },
    {
     "data": {
      "application/vnd.jupyter.widget-view+json": {
       "model_id": "585a895d90d8498597930b9483c0b7a9",
       "version_major": 2,
       "version_minor": 0
      },
      "text/plain": [
       "  0%|          | 0/5 [00:00<?, ?it/s]"
      ]
     },
     "metadata": {},
     "output_type": "display_data"
    },
    {
     "data": {
      "application/vnd.jupyter.widget-view+json": {
       "model_id": "0265580fb5ad4beaa4c1f386680d0450",
       "version_major": 2,
       "version_minor": 0
      },
      "text/plain": [
       "  0%|          | 0/14 [00:00<?, ?it/s]"
      ]
     },
     "metadata": {},
     "output_type": "display_data"
    },
    {
     "data": {
      "application/vnd.jupyter.widget-view+json": {
       "model_id": "c767c288dc5e474da4fabd37cf133d83",
       "version_major": 2,
       "version_minor": 0
      },
      "text/plain": [
       "  0%|          | 0/23 [00:00<?, ?it/s]"
      ]
     },
     "metadata": {},
     "output_type": "display_data"
    },
    {
     "data": {
      "application/vnd.jupyter.widget-view+json": {
       "model_id": "0d76f24e2d9a4ae8bb9806a01770e9a9",
       "version_major": 2,
       "version_minor": 0
      },
      "text/plain": [
       "  0%|          | 0/15 [00:00<?, ?it/s]"
      ]
     },
     "metadata": {},
     "output_type": "display_data"
    },
    {
     "data": {
      "application/vnd.jupyter.widget-view+json": {
       "model_id": "246e10d6216a45098276f8a864f548ce",
       "version_major": 2,
       "version_minor": 0
      },
      "text/plain": [
       "  0%|          | 0/4 [00:00<?, ?it/s]"
      ]
     },
     "metadata": {},
     "output_type": "display_data"
    },
    {
     "data": {
      "application/vnd.jupyter.widget-view+json": {
       "model_id": "6415e0f3180e49808234b8c348d6a79a",
       "version_major": 2,
       "version_minor": 0
      },
      "text/plain": [
       "  0%|          | 0/4 [00:00<?, ?it/s]"
      ]
     },
     "metadata": {},
     "output_type": "display_data"
    },
    {
     "data": {
      "application/vnd.jupyter.widget-view+json": {
       "model_id": "57c02ec686714a83b55a931424b65ada",
       "version_major": 2,
       "version_minor": 0
      },
      "text/plain": [
       "  0%|          | 0/4 [00:00<?, ?it/s]"
      ]
     },
     "metadata": {},
     "output_type": "display_data"
    },
    {
     "data": {
      "application/vnd.jupyter.widget-view+json": {
       "model_id": "37c090fa46b940748c714fca74197f81",
       "version_major": 2,
       "version_minor": 0
      },
      "text/plain": [
       "  0%|          | 0/5 [00:00<?, ?it/s]"
      ]
     },
     "metadata": {},
     "output_type": "display_data"
    },
    {
     "data": {
      "application/vnd.jupyter.widget-view+json": {
       "model_id": "9734553c5f1746df9b98dcdad17f9c0c",
       "version_major": 2,
       "version_minor": 0
      },
      "text/plain": [
       "  0%|          | 0/16 [00:00<?, ?it/s]"
      ]
     },
     "metadata": {},
     "output_type": "display_data"
    },
    {
     "data": {
      "application/vnd.jupyter.widget-view+json": {
       "model_id": "f5261895b52848749f7f488efeba8f1d",
       "version_major": 2,
       "version_minor": 0
      },
      "text/plain": [
       "  0%|          | 0/10 [00:00<?, ?it/s]"
      ]
     },
     "metadata": {},
     "output_type": "display_data"
    },
    {
     "data": {
      "application/vnd.jupyter.widget-view+json": {
       "model_id": "e982db230deb4120be54a7f314d2a033",
       "version_major": 2,
       "version_minor": 0
      },
      "text/plain": [
       "  0%|          | 0/2 [00:00<?, ?it/s]"
      ]
     },
     "metadata": {},
     "output_type": "display_data"
    },
    {
     "data": {
      "application/vnd.jupyter.widget-view+json": {
       "model_id": "bda2244dd6164168bff176c89ee110b1",
       "version_major": 2,
       "version_minor": 0
      },
      "text/plain": [
       "  0%|          | 0/1 [00:00<?, ?it/s]"
      ]
     },
     "metadata": {},
     "output_type": "display_data"
    },
    {
     "data": {
      "application/vnd.jupyter.widget-view+json": {
       "model_id": "2db2a3e3fbbb4092b5dbc6d1c8569537",
       "version_major": 2,
       "version_minor": 0
      },
      "text/plain": [
       "  0%|          | 0/4 [00:00<?, ?it/s]"
      ]
     },
     "metadata": {},
     "output_type": "display_data"
    },
    {
     "data": {
      "application/vnd.jupyter.widget-view+json": {
       "model_id": "0e512b622bad4c909494d3df785c22c5",
       "version_major": 2,
       "version_minor": 0
      },
      "text/plain": [
       "  0%|          | 0/28 [00:00<?, ?it/s]"
      ]
     },
     "metadata": {},
     "output_type": "display_data"
    },
    {
     "data": {
      "application/vnd.jupyter.widget-view+json": {
       "model_id": "f58543d5c740484e9870784908ceb2b9",
       "version_major": 2,
       "version_minor": 0
      },
      "text/plain": [
       "  0%|          | 0/28 [00:00<?, ?it/s]"
      ]
     },
     "metadata": {},
     "output_type": "display_data"
    },
    {
     "data": {
      "application/vnd.jupyter.widget-view+json": {
       "model_id": "b40e34378eb04b3fa97fbfffdd88022b",
       "version_major": 2,
       "version_minor": 0
      },
      "text/plain": [
       "  0%|          | 0/25 [00:00<?, ?it/s]"
      ]
     },
     "metadata": {},
     "output_type": "display_data"
    },
    {
     "data": {
      "application/vnd.jupyter.widget-view+json": {
       "model_id": "0acfae71f28c456486e63b1b46751318",
       "version_major": 2,
       "version_minor": 0
      },
      "text/plain": [
       "  0%|          | 0/11 [00:00<?, ?it/s]"
      ]
     },
     "metadata": {},
     "output_type": "display_data"
    },
    {
     "data": {
      "application/vnd.jupyter.widget-view+json": {
       "model_id": "d33d603f29d543358e876eac5e209f91",
       "version_major": 2,
       "version_minor": 0
      },
      "text/plain": [
       "  0%|          | 0/6 [00:00<?, ?it/s]"
      ]
     },
     "metadata": {},
     "output_type": "display_data"
    },
    {
     "data": {
      "application/vnd.jupyter.widget-view+json": {
       "model_id": "edd0f47351b0442ba5ba62f065f50dfe",
       "version_major": 2,
       "version_minor": 0
      },
      "text/plain": [
       "  0%|          | 0/19 [00:00<?, ?it/s]"
      ]
     },
     "metadata": {},
     "output_type": "display_data"
    },
    {
     "data": {
      "application/vnd.jupyter.widget-view+json": {
       "model_id": "253fe3a3f5fc407d8a00616eb92b06f9",
       "version_major": 2,
       "version_minor": 0
      },
      "text/plain": [
       "  0%|          | 0/35 [00:00<?, ?it/s]"
      ]
     },
     "metadata": {},
     "output_type": "display_data"
    },
    {
     "data": {
      "application/vnd.jupyter.widget-view+json": {
       "model_id": "0c74a75dd27e4a48bb620f600302ac83",
       "version_major": 2,
       "version_minor": 0
      },
      "text/plain": [
       "  0%|          | 0/21 [00:00<?, ?it/s]"
      ]
     },
     "metadata": {},
     "output_type": "display_data"
    },
    {
     "data": {
      "application/vnd.jupyter.widget-view+json": {
       "model_id": "8357df00022c45d290c053d53b86b99b",
       "version_major": 2,
       "version_minor": 0
      },
      "text/plain": [
       "  0%|          | 0/10 [00:00<?, ?it/s]"
      ]
     },
     "metadata": {},
     "output_type": "display_data"
    },
    {
     "data": {
      "application/vnd.jupyter.widget-view+json": {
       "model_id": "e84c2ce12480467daa7c493ee946dc3e",
       "version_major": 2,
       "version_minor": 0
      },
      "text/plain": [
       "  0%|          | 0/24 [00:00<?, ?it/s]"
      ]
     },
     "metadata": {},
     "output_type": "display_data"
    },
    {
     "data": {
      "application/vnd.jupyter.widget-view+json": {
       "model_id": "19a651e96a264e0b87359cb832024eac",
       "version_major": 2,
       "version_minor": 0
      },
      "text/plain": [
       "  0%|          | 0/13 [00:00<?, ?it/s]"
      ]
     },
     "metadata": {},
     "output_type": "display_data"
    },
    {
     "data": {
      "application/vnd.jupyter.widget-view+json": {
       "model_id": "7a4df31ba8834882a3188abce4713ebc",
       "version_major": 2,
       "version_minor": 0
      },
      "text/plain": [
       "  0%|          | 0/17 [00:00<?, ?it/s]"
      ]
     },
     "metadata": {},
     "output_type": "display_data"
    },
    {
     "data": {
      "application/vnd.jupyter.widget-view+json": {
       "model_id": "c386c6af2126426680c06ec06871ab24",
       "version_major": 2,
       "version_minor": 0
      },
      "text/plain": [
       "  0%|          | 0/12 [00:00<?, ?it/s]"
      ]
     },
     "metadata": {},
     "output_type": "display_data"
    },
    {
     "data": {
      "application/vnd.jupyter.widget-view+json": {
       "model_id": "eb382dcbb15c4c039e8ca8bf8a51768d",
       "version_major": 2,
       "version_minor": 0
      },
      "text/plain": [
       "  0%|          | 0/23 [00:00<?, ?it/s]"
      ]
     },
     "metadata": {},
     "output_type": "display_data"
    },
    {
     "data": {
      "application/vnd.jupyter.widget-view+json": {
       "model_id": "961f1efa618544f2b074269dbb438a68",
       "version_major": 2,
       "version_minor": 0
      },
      "text/plain": [
       "  0%|          | 0/25 [00:00<?, ?it/s]"
      ]
     },
     "metadata": {},
     "output_type": "display_data"
    },
    {
     "data": {
      "application/vnd.jupyter.widget-view+json": {
       "model_id": "be69d221a80b47da82c85f08682047b9",
       "version_major": 2,
       "version_minor": 0
      },
      "text/plain": [
       "  0%|          | 0/12 [00:00<?, ?it/s]"
      ]
     },
     "metadata": {},
     "output_type": "display_data"
    },
    {
     "data": {
      "application/vnd.jupyter.widget-view+json": {
       "model_id": "5565206752ea4863bee8464edefdb260",
       "version_major": 2,
       "version_minor": 0
      },
      "text/plain": [
       "  0%|          | 0/13 [00:00<?, ?it/s]"
      ]
     },
     "metadata": {},
     "output_type": "display_data"
    },
    {
     "data": {
      "application/vnd.jupyter.widget-view+json": {
       "model_id": "8ef0c59322c34c0781ce66abbe471b2f",
       "version_major": 2,
       "version_minor": 0
      },
      "text/plain": [
       "  0%|          | 0/15 [00:00<?, ?it/s]"
      ]
     },
     "metadata": {},
     "output_type": "display_data"
    },
    {
     "data": {
      "application/vnd.jupyter.widget-view+json": {
       "model_id": "dc3627a6bcd0442394ab2cab9874e970",
       "version_major": 2,
       "version_minor": 0
      },
      "text/plain": [
       "  0%|          | 0/17 [00:00<?, ?it/s]"
      ]
     },
     "metadata": {},
     "output_type": "display_data"
    },
    {
     "data": {
      "application/vnd.jupyter.widget-view+json": {
       "model_id": "8e9ba9d4b3c746f2b3f2859975bcf14a",
       "version_major": 2,
       "version_minor": 0
      },
      "text/plain": [
       "  0%|          | 0/17 [00:00<?, ?it/s]"
      ]
     },
     "metadata": {},
     "output_type": "display_data"
    },
    {
     "data": {
      "application/vnd.jupyter.widget-view+json": {
       "model_id": "59355544f28c457a8669849021ae2f1f",
       "version_major": 2,
       "version_minor": 0
      },
      "text/plain": [
       "  0%|          | 0/11 [00:00<?, ?it/s]"
      ]
     },
     "metadata": {},
     "output_type": "display_data"
    },
    {
     "data": {
      "application/vnd.jupyter.widget-view+json": {
       "model_id": "10d44266199849d28f1457aa32fc961e",
       "version_major": 2,
       "version_minor": 0
      },
      "text/plain": [
       "  0%|          | 0/8 [00:00<?, ?it/s]"
      ]
     },
     "metadata": {},
     "output_type": "display_data"
    },
    {
     "data": {
      "application/vnd.jupyter.widget-view+json": {
       "model_id": "bafbe1628b1a49ada8ebc61d18bcbf50",
       "version_major": 2,
       "version_minor": 0
      },
      "text/plain": [
       "  0%|          | 0/7 [00:00<?, ?it/s]"
      ]
     },
     "metadata": {},
     "output_type": "display_data"
    },
    {
     "data": {
      "application/vnd.jupyter.widget-view+json": {
       "model_id": "0bb0c1a3f708455d8fdc3289073d663c",
       "version_major": 2,
       "version_minor": 0
      },
      "text/plain": [
       "  0%|          | 0/5 [00:00<?, ?it/s]"
      ]
     },
     "metadata": {},
     "output_type": "display_data"
    },
    {
     "name": "stdout",
     "output_type": "stream",
     "text": [
      "Synapsse Results:\n",
      "Total Number of Synapses = 1221\n",
      "n_valid_syn_ids_presyn = 16\n",
      "n_errored_syn_ids_presyn = 72\n",
      "n_valid_syn_ids_postsyn = 1124\n",
      "n_errored_syn_ids_postsyn = 9\n",
      "Synapsse Results:\n",
      "Total Number of Synapses = 1221\n",
      "n_valid_syn_ids_presyn = 16\n",
      "n_errored_syn_ids_presyn = 72\n",
      "n_valid_syn_ids_postsyn = 1124\n",
      "n_errored_syn_ids_postsyn = 9\n"
     ]
    },
    {
     "data": {
      "application/vnd.jupyter.widget-view+json": {
       "model_id": "3c1fe82069bd49f2b463032b055a9e08",
       "version_major": 2,
       "version_minor": 0
      },
      "text/plain": [
       "  0%|          | 0/3 [00:00<?, ?it/s]"
      ]
     },
     "metadata": {},
     "output_type": "display_data"
    },
    {
     "data": {
      "application/vnd.jupyter.widget-view+json": {
       "model_id": "a76255e9391049fd8a42d3299a300da6",
       "version_major": 2,
       "version_minor": 0
      },
      "text/plain": [
       "  0%|          | 0/2 [00:00<?, ?it/s]"
      ]
     },
     "metadata": {},
     "output_type": "display_data"
    },
    {
     "name": "stdout",
     "output_type": "stream",
     "text": [
      "Synapsse Results:\n",
      "Total Number of Synapses = 1221\n",
      "n_valid_syn_ids_presyn = 16\n",
      "n_errored_syn_ids_presyn = 72\n",
      "n_valid_syn_ids_postsyn = 1124\n",
      "n_errored_syn_ids_postsyn = 9\n",
      "Synapsse Results:\n",
      "Total Number of Synapses = 1221\n",
      "n_valid_syn_ids_presyn = 16\n",
      "n_errored_syn_ids_presyn = 72\n",
      "n_valid_syn_ids_postsyn = 1124\n",
      "n_errored_syn_ids_postsyn = 9\n"
     ]
    },
    {
     "data": {
      "application/vnd.jupyter.widget-view+json": {
       "model_id": "ebc5c548d7b347ddb3f81cd91ad7b0b0",
       "version_major": 2,
       "version_minor": 0
      },
      "text/plain": [
       "  0%|          | 0/3 [00:00<?, ?it/s]"
      ]
     },
     "metadata": {},
     "output_type": "display_data"
    },
    {
     "data": {
      "application/vnd.jupyter.widget-view+json": {
       "model_id": "f9f6cb6c93cd40bdb4fe86524d515bdf",
       "version_major": 2,
       "version_minor": 0
      },
      "text/plain": [
       "  0%|          | 0/2 [00:00<?, ?it/s]"
      ]
     },
     "metadata": {},
     "output_type": "display_data"
    },
    {
     "name": "stdout",
     "output_type": "stream",
     "text": [
      "\n",
      "\n",
      "len(branch_attr_keys) = 5\n",
      "Saving Neuorn in suppress_output mode...please wait\n",
      "Saved File at location: /mnt/dj-stor01/platinum/minnie65/02/decomposition/864691135564655959_0_25_full_axon\n",
      "Save time = 143.53860425949097\n",
      "\n",
      "\n",
      " ***------ Total time for 864691135564655959 = 404.52705121040344 ------ ***\n",
      "\n",
      "\n",
      "\n",
      "---- Working on Neuron 864691136545546146 ----\n",
      "Decompressing Neuron in minimal output mode...please wait\n",
      "Pulled from Table Decomposition so setting split_index = 0\n",
      "Dont need spine recalculation\n",
      "Number of Neurons found = 1\n",
      "\n",
      "Part 1: Axon like branchese \n",
      "{'L0': array([5]), 'L4': array([ 0,  1,  2,  3,  4,  5,  6,  7,  8,  9, 10, 11, 12, 13, 14, 15, 16])}\n",
      "Limb L0 soma angle: 11.3 \n",
      "Limb L1 soma angle: 98.86 \n",
      "Limb L2 soma angle: 88.93 \n",
      "Limb L3 soma angle: 140.78 \n",
      "Limb L4 soma angle: 145.22 \n",
      "Limb L5 soma angle: 106.24 \n",
      "\n",
      "Part 2: possible_axon_limbs = [1, 2, 3, 4, 5]\n",
      "\n",
      "Phase 2: Working on Limb L1\n",
      "nodes_to_eliminate = []\n",
      "\n",
      "Phase 2: Working on Limb L2\n",
      "nodes_to_eliminate = [8]\n",
      "\n",
      "Phase 2: Working on Limb L3\n",
      "nodes_to_eliminate = [5 9]\n",
      "\n",
      "Phase 2: Working on Limb L4\n",
      "nodes_to_eliminate = []\n",
      "\n",
      "Phase 2: Working on Limb L5\n",
      "nodes_to_eliminate = []\n",
      "\n",
      "----Working on Limb L1-----\n",
      "No nodes were eliminated so don't need to add back any candidates\n",
      "\n",
      "----Working on Limb L2-----\n",
      "No endpoints were eliminated so don't need to add back any candidates\n",
      "\n",
      "----Working on Limb L3-----\n",
      "No endpoints were eliminated so don't need to add back any candidates\n",
      "\n",
      "----Working on Limb L4-----\n",
      "No nodes were eliminated so don't need to add back any candidates\n",
      "\n",
      "----Working on Limb L5-----\n",
      "No nodes were eliminated so don't need to add back any candidates\n",
      "Final Candidates\n",
      "\n",
      "Limb 1\n",
      "Candidate 0 (cadetblue): array([0, 1, 2, 3, 4, 5, 6, 7, 8, 9])\n",
      "\n",
      "Limb 2\n",
      "Candidate 0 (orange): array([0, 2, 3])\n",
      "Candidate 1 (brown): array([1, 4, 5, 6, 7])\n",
      "\n",
      "Limb 3\n",
      "Candidate 0 (forestgreen): array([ 2,  6,  7,  8, 10])\n",
      "Candidate 1 (green): array([0])\n",
      "Candidate 2 (tan): array([1, 3, 4])\n",
      "\n",
      "Limb 4\n",
      "Candidate 0 (brown): array([ 0,  1,  2,  3,  4,  5,  6,  7,  8,  9, 10, 11, 12, 13, 14, 15, 16])\n",
      "\n",
      "Limb 5\n",
      "Candidate 0 (darkslategray): array([0])\n",
      "Part 3: axon_subgraph_candidates = {1: [[0, 1, 2, 3, 4, 5, 6, 7, 8, 9]], 2: [[0, 2, 3], [1, 4, 5, 6, 7]], 3: [[2, 6, 7, 8, 10], [0], [1, 3, 4]], 4: [[0, 1, 2, 3, 4, 5, 6, 7, 8, 9, 10, 11, 12, 13, 14, 15, 16]], 5: [[0]]}\n",
      "\n",
      "\n",
      " --- Working on limb 1, candidate # 0\n",
      "0 out of 10 branches are axons\n",
      "Axon percentage = 0.0\n",
      "Not adding candidate no axon branches detected \n",
      "\n",
      "\n",
      " --- Working on limb 2, candidate # 0\n",
      "0 out of 3 branches are axons\n",
      "Axon percentage = 0.0\n",
      "Not adding candidate no axon branches detected \n",
      "\n",
      "\n",
      " --- Working on limb 2, candidate # 1\n",
      "0 out of 5 branches are axons\n",
      "Axon percentage = 0.0\n",
      "Not adding candidate no axon branches detected \n",
      "\n",
      "\n",
      " --- Working on limb 3, candidate # 0\n",
      "0 out of 5 branches are axons\n",
      "Axon percentage = 0.0\n",
      "Not adding candidate no axon branches detected \n",
      "\n",
      "\n",
      " --- Working on limb 3, candidate # 1\n",
      "0 out of 1 branches are axons\n",
      "Axon percentage = 0.0\n",
      "Not adding candidate no axon branches detected \n",
      "\n",
      "\n",
      " --- Working on limb 3, candidate # 2\n",
      "0 out of 3 branches are axons\n",
      "Axon percentage = 0.0\n",
      "Not adding candidate no axon branches detected \n",
      "\n",
      "\n",
      " --- Working on limb 4, candidate # 0\n",
      "17 out of 17 branches are axons\n",
      "Axon percentage = 1.0\n",
      "curr_axon_angle_threshold = 95\n",
      "candidate_nodes = [ 0  1  2  3  4  5  6  7  8  9 10 11 12 13 14 15 16]\n",
      "non_axon_branches_on_subgraph = []\n",
      "endnodes_to_test = [6578]\n",
      "Skeleton paths distances = [24952.31423777]\n",
      "Filtered indexes = [0]\n",
      "len(filtered_skeletons) = 1\n",
      "sk_angles = [163.4172722]\n",
      "candidate_angles,restr_skels = (array([163.4172722]), [array([[[1270177.07276742,  641947.2255244 ,  980252.78044253],\n",
      "        [1270157.4115644 ,  642045.08868996,  980246.76064841]],\n",
      "\n",
      "       [[1270157.4115644 ,  642045.08868996,  980246.76064841],\n",
      "        [1270137.69831696,  642142.92337758,  980240.517007  ]],\n",
      "\n",
      "       [[1270137.69831696,  642142.92337758,  980240.517007  ],\n",
      "        [1270117.22933793,  642240.34454   ,  980231.02290299]],\n",
      "\n",
      "       [[1270117.22933793,  642240.34454   ,  980231.02290299],\n",
      "        [1270096.7603589 ,  642337.76570242,  980221.52879899]],\n",
      "\n",
      "       [[1270096.7603589 ,  642337.76570242,  980221.52879899],\n",
      "        [1270075.89353643,  642434.72352945,  980208.82097747]],\n",
      "\n",
      "       [[1270075.89353643,  642434.72352945,  980208.82097747],\n",
      "        [1270054.94243917,  642531.58320858,  980195.4323972 ]],\n",
      "\n",
      "       [[1270054.94243917,  642531.58320858,  980195.4323972 ],\n",
      "        [1270033.87198264,  642627.9386439 ,  980179.05651638]],\n",
      "\n",
      "       [[1270033.87198264,  642627.9386439 ,  980179.05651638],\n",
      "        [1270012.7561263 ,  642724.10228369,  980161.54437793]],\n",
      "\n",
      "       [[1270012.7561263 ,  642724.10228369,  980161.54437793],\n",
      "        [1269991.72847345,  642819.58879521,  980140.62617704]],\n",
      "\n",
      "       [[1269991.72847345,  642819.58879521,  980140.62617704],\n",
      "        [1269970.7734272 ,  642914.77460833,  980118.30460597]],\n",
      "\n",
      "       [[1269970.7734272 ,  642914.77460833,  980118.30460597],\n",
      "        [1269950.07596269,  643009.21529978,  980092.75914139]],\n",
      "\n",
      "       [[1269950.07596269,  643009.21529978,  980092.75914139],\n",
      "        [1269929.67895665,  643102.95589641,  980064.56792377]],\n",
      "\n",
      "       [[1269929.67895665,  643102.95589641,  980064.56792377],\n",
      "        [1269909.39556156,  643196.01569626,  980034.11770781]],\n",
      "\n",
      "       [[1269909.39556156,  643196.01569626,  980034.11770781],\n",
      "        [1269887.92298832,  643288.33954063,  980002.2772662 ]],\n",
      "\n",
      "       [[1269887.92298832,  643288.33954063,  980002.2772662 ],\n",
      "        [1269860.67487863,  643379.33444037,  979971.15048408]],\n",
      "\n",
      "       [[1269860.67487863,  643379.33444037,  979971.15048408],\n",
      "        [1269825.62817129,  643468.10094478,  979941.42190679]],\n",
      "\n",
      "       [[1269825.62817129,  643468.10094478,  979941.42190679],\n",
      "        [1269784.23947934,  643554.5308171 ,  979912.87546492]],\n",
      "\n",
      "       [[1269784.23947934,  643554.5308171 ,  979912.87546492],\n",
      "        [1269739.22837024,  643639.51710814,  979885.4788018 ]],\n",
      "\n",
      "       [[1269739.22837024,  643639.51710814,  979885.4788018 ],\n",
      "        [1269692.61314247,  643723.99174373,  979859.21403843]],\n",
      "\n",
      "       [[1269692.61314247,  643723.99174373,  979859.21403843],\n",
      "        [1269645.35328089,  643808.37993771,  979833.82814335]],\n",
      "\n",
      "       [[1269645.35328089,  643808.37993771,  979833.82814335],\n",
      "        [1269597.75128413,  643892.95982343,  979809.73887528]],\n",
      "\n",
      "       [[1269597.75128413,  643892.95982343,  979809.73887528],\n",
      "        [1269550.79372352,  643978.22641727,  979786.87140275]],\n",
      "\n",
      "       [[1269550.79372352,  643978.22641727,  979786.87140275],\n",
      "        [1269504.28954839,  644063.97613657,  979764.86351015]],\n",
      "\n",
      "       [[1269504.28954839,  644063.97613657,  979764.86351015],\n",
      "        [1269459.84168139,  644151.20095173,  979744.55171299]],\n",
      "\n",
      "       [[1269459.84168139,  644151.20095173,  979744.55171299],\n",
      "        [1269416.20242719,  644239.00582655,  979724.90688031]],\n",
      "\n",
      "       [[1269416.20242719,  644239.00582655,  979724.90688031],\n",
      "        [1269376.00783246,  644328.80072896,  979707.19019456]],\n",
      "\n",
      "       [[1269376.00783246,  644328.80072896,  979707.19019456],\n",
      "        [1269337.11560196,  644419.34802527,  979690.20250672]],\n",
      "\n",
      "       [[1269337.11560196,  644419.34802527,  979690.20250672],\n",
      "        [1269302.4348266 ,  644511.85502716,  979675.14446758]],\n",
      "\n",
      "       [[1269302.4348266 ,  644511.85502716,  979675.14446758],\n",
      "        [1269269.91033332,  644605.36540624,  979661.07441638]],\n",
      "\n",
      "       [[1269269.91033332,  644605.36540624,  979661.07441638],\n",
      "        [1269241.30089775,  644700.29027564,  979648.64958622]],\n",
      "\n",
      "       [[1269241.30089775,  644700.29027564,  979648.64958622],\n",
      "        [1269215.89479172,  644796.37249162,  979637.57088822]],\n",
      "\n",
      "       [[1269215.89479172,  644796.37249162,  979637.57088822],\n",
      "        [1269193.04685212,  644893.14311075,  979627.5435408 ]],\n",
      "\n",
      "       [[1269193.04685212,  644893.14311075,  979627.5435408 ],\n",
      "        [1269174.25220806,  644991.00447262,  979619.1820094 ]],\n",
      "\n",
      "       [[1269174.25220806,  644991.00447262,  979619.1820094 ],\n",
      "        [1269156.22978098,  645089.01667048,  979611.13610693]],\n",
      "\n",
      "       [[1269156.22978098,  645089.01667048,  979611.13610693],\n",
      "        [1269142.57471656,  645187.88193874,  979604.87528045]],\n",
      "\n",
      "       [[1269142.57471656,  645187.88193874,  979604.87528045],\n",
      "        [1269128.91965213,  645286.74720699,  979598.61445397]],\n",
      "\n",
      "       [[1269128.91965213,  645286.74720699,  979598.61445397],\n",
      "        [1269118.09078873,  645386.01409163,  979593.44000776]],\n",
      "\n",
      "       [[1269118.09078873,  645386.01409163,  979593.44000776],\n",
      "        [1269107.88189434,  645485.36907676,  979588.50387514]],\n",
      "\n",
      "       [[1269107.88189434,  645485.36907676,  979588.50387514],\n",
      "        [1269098.49535229,  645584.81054039,  979583.79764994]],\n",
      "\n",
      "       [[1269098.49535229,  645584.81054039,  979583.79764994],\n",
      "        [1269090.38106221,  645684.38579391,  979579.4471119 ]],\n",
      "\n",
      "       [[1269090.38106221,  645684.38579391,  979579.4471119 ],\n",
      "        [1269082.26677213,  645783.96104744,  979575.09657385]],\n",
      "\n",
      "       [[1269082.26677213,  645783.96104744,  979575.09657385],\n",
      "        [1269075.20579942,  645883.61474389,  979570.72214325]],\n",
      "\n",
      "       [[1269075.20579942,  645883.61474389,  979570.72214325],\n",
      "        [1269068.28430475,  645983.27882759,  979566.34454885]],\n",
      "\n",
      "       [[1269068.28430475,  645983.27882759,  979566.34454885],\n",
      "        [1269061.53284075,  646082.94633358,  979561.79663528]],\n",
      "\n",
      "       [[1269061.53284075,  646082.94633358,  979561.79663528],\n",
      "        [1269055.14082021,  646182.62107428,  979556.88866837]],\n",
      "\n",
      "       [[1269055.14082021,  646182.62107428,  979556.88866837],\n",
      "        [1269048.74879968,  646282.29581499,  979551.98070147]],\n",
      "\n",
      "       [[1269048.74879968,  646282.29581499,  979551.98070147],\n",
      "        [1269042.2111295 ,  646381.92148308,  979546.34225096]],\n",
      "\n",
      "       [[1269042.2111295 ,  646381.92148308,  979546.34225096],\n",
      "        [1269035.62301234,  646481.53015447,  979540.4507913 ]],\n",
      "\n",
      "       [[1269035.62301234,  646481.53015447,  979540.4507913 ],\n",
      "        [1269028.8143348 ,  646581.10581311,  979534.30186033]],\n",
      "\n",
      "       [[1269028.8143348 ,  646581.10581311,  979534.30186033],\n",
      "        [1269021.01572295,  646680.53330162,  979526.99732881]],\n",
      "\n",
      "       [[1269021.01572295,  646680.53330162,  979526.99732881],\n",
      "        [1269013.21711111,  646779.96079014,  979519.69279729]],\n",
      "\n",
      "       [[1269013.21711111,  646779.96079014,  979519.69279729],\n",
      "        [1269003.70923365,  646879.13508696,  979511.21536461]],\n",
      "\n",
      "       [[1269003.70923365,  646879.13508696,  979511.21536461],\n",
      "        [1268993.34219535,  646978.18211722,  979502.14837419]],\n",
      "\n",
      "       [[1268993.34219535,  646978.18211722,  979502.14837419],\n",
      "        [1268982.13583923,  647077.08416396,  979492.69307877]],\n",
      "\n",
      "       [[1268982.13583923,  647077.08416396,  979492.69307877],\n",
      "        [1268967.67269083,  647175.42363339,  979481.73104925]],\n",
      "\n",
      "       [[1268967.67269083,  647175.42363339,  979481.73104925],\n",
      "        [1268953.20954243,  647273.76310282,  979470.76901974]],\n",
      "\n",
      "       [[1268953.20954243,  647273.76310282,  979470.76901974],\n",
      "        [1268934.44021319,  647371.185667  ,  979458.47525207]],\n",
      "\n",
      "       [[1268934.44021319,  647371.185667  ,  979458.47525207],\n",
      "        [1268914.56784191,  647468.37336296,  979445.84035539]],\n",
      "\n",
      "       [[1268914.56784191,  647468.37336296,  979445.84035539],\n",
      "        [1268892.14464593,  647564.89294305,  979432.75342885]],\n",
      "\n",
      "       [[1268892.14464593,  647564.89294305,  979432.75342885],\n",
      "        [1268866.1920247 ,  647660.48809075,  979419.04105531]],\n",
      "\n",
      "       [[1268866.1920247 ,  647660.48809075,  979419.04105531],\n",
      "        [1268839.95534346,  647755.99470848,  979405.31630167]],\n",
      "\n",
      "       [[1268839.95534346,  647755.99470848,  979405.31630167],\n",
      "        [1268808.10137722,  647849.75064665,  979391.34673146]],\n",
      "\n",
      "       [[1268808.10137722,  647849.75064665,  979391.34673146],\n",
      "        [1268776.24741099,  647943.50658483,  979377.37716125]],\n",
      "\n",
      "       [[1268776.24741099,  647943.50658483,  979377.37716125],\n",
      "        [1268741.10342037,  648036.10127492,  979363.78538312]],\n",
      "\n",
      "       [[1268741.10342037,  648036.10127492,  979363.78538312],\n",
      "        [1268704.25321028,  648128.09373722,  979350.38952945]],\n",
      "\n",
      "       [[1268704.25321028,  648128.09373722,  979350.38952945],\n",
      "        [1268666.51937847,  648219.75471642,  979337.30066901]],\n",
      "\n",
      "       [[1268666.51937847,  648219.75471642,  979337.30066901],\n",
      "        [1268626.00026805,  648310.37082227,  979325.17948701]],\n",
      "\n",
      "       [[1268626.00026805,  648310.37082227,  979325.17948701],\n",
      "        [1268585.48115764,  648400.98692811,  979313.05830501]],\n",
      "\n",
      "       [[1268585.48115764,  648400.98692811,  979313.05830501],\n",
      "        [1268543.20258779,  648490.97221116,  979302.39075885]],\n",
      "\n",
      "       [[1268543.20258779,  648490.97221116,  979302.39075885],\n",
      "        [1268500.49257824,  648580.80280919,  979292.07966094]],\n",
      "\n",
      "       [[1268500.49257824,  648580.80280919,  979292.07966094],\n",
      "        [1268457.51739218,  648670.58871116,  979282.5721569 ]],\n",
      "\n",
      "       [[1268457.51739218,  648670.58871116,  979282.5721569 ],\n",
      "        [1268414.08704002,  648760.29789391,  979274.44399338]],\n",
      "\n",
      "       [[1268414.08704002,  648760.29789391,  979274.44399338],\n",
      "        [1268370.65668785,  648850.00707665,  979266.31582987]],\n",
      "\n",
      "       [[1268370.65668785,  648850.00707665,  979266.31582987],\n",
      "        [1268327.86331101,  648940.19795051,  979260.47370783]],\n",
      "\n",
      "       [[1268327.86331101,  648940.19795051,  979260.47370783],\n",
      "        [1268285.09196215,  649030.40548229,  979254.71064206]],\n",
      "\n",
      "       [[1268285.09196215,  649030.40548229,  979254.71064206],\n",
      "        [1268243.48959982,  649121.22528265,  979250.37932973]],\n",
      "\n",
      "       [[1268243.48959982,  649121.22528265,  979250.37932973],\n",
      "        [1268202.58007417,  649212.40796325,  979246.89659117]],\n",
      "\n",
      "       [[1268202.58007417,  649212.40796325,  979246.89659117],\n",
      "        [1268162.69681999,  649304.05183125,  979244.10376414]],\n",
      "\n",
      "       [[1268162.69681999,  649304.05183125,  979244.10376414],\n",
      "        [1268124.53841535,  649396.47081469,  979242.47046814]],\n",
      "\n",
      "       [[1268124.53841535,  649396.47081469,  979242.47046814],\n",
      "        [1268087.04821398,  649489.15513233,  979241.06427996]],\n",
      "\n",
      "       [[1268087.04821398,  649489.15513233,  979241.06427996],\n",
      "        [1268052.05544851,  649582.83114692,  979240.50691615]],\n",
      "\n",
      "       [[1268052.05544851,  649582.83114692,  979240.50691615],\n",
      "        [1268017.4880023 ,  649676.65835609,  979239.9646891 ]],\n",
      "\n",
      "       [[1268017.4880023 ,  649676.65835609,  979239.9646891 ],\n",
      "        [1267985.5320185 ,  649771.41390074,  979239.51540173]],\n",
      "\n",
      "       [[1267985.5320185 ,  649771.41390074,  979239.51540173],\n",
      "        [1267953.95488325,  649866.29062434,  979238.9452644 ]],\n",
      "\n",
      "       [[1267953.95488325,  649866.29062434,  979238.9452644 ],\n",
      "        [1267924.49716157,  649961.84526621,  979237.6990494 ]],\n",
      "\n",
      "       [[1267924.49716157,  649961.84526621,  979237.6990494 ],\n",
      "        [1267895.47612549,  650057.52325604,  979236.12287548]],\n",
      "\n",
      "       [[1267895.47612549,  650057.52325604,  979236.12287548],\n",
      "        [1267867.86649354,  650153.59991678,  979233.48024694]],\n",
      "\n",
      "       [[1267867.86649354,  650153.59991678,  979233.48024694],\n",
      "        [1267840.78521607,  650249.80288916,  979230.2334977 ]],\n",
      "\n",
      "       [[1267840.78521607,  650249.80288916,  979230.2334977 ],\n",
      "        [1267814.54531604,  650346.20700636,  979226.02471721]],\n",
      "\n",
      "       [[1267814.54531604,  650346.20700636,  979226.02471721],\n",
      "        [1267789.0007592 ,  650442.75674965,  979221.0390247 ]],\n",
      "\n",
      "       [[1267789.0007592 ,  650442.75674965,  979221.0390247 ],\n",
      "        [1267763.93650838,  650539.40708369,  979215.51668275]],\n",
      "\n",
      "       [[1267763.93650838,  650539.40708369,  979215.51668275],\n",
      "        [1267739.87565221,  650636.27325669,  979209.37295685]],\n",
      "\n",
      "       [[1267739.87565221,  650636.27325669,  979209.37295685],\n",
      "        [1267716.14445486,  650733.21360904,  979203.10952524]],\n",
      "\n",
      "       [[1267716.14445486,  650733.21360904,  979203.10952524],\n",
      "        [1267693.55996846,  650830.42769299,  979196.83554276]],\n",
      "\n",
      "       [[1267693.55996846,  650830.42769299,  979196.83554276],\n",
      "        [1267671.46880834,  650927.76750912,  979190.80430615]],\n",
      "\n",
      "       [[1267671.46880834,  650927.76750912,  979190.80430615],\n",
      "        [1267650.25390548,  651025.33065359,  979185.20424023]],\n",
      "\n",
      "       [[1267650.25390548,  651025.33065359,  979185.20424023],\n",
      "        [1267629.85727364,  651123.09883269,  979180.25960765]],\n",
      "\n",
      "       [[1267629.85727364,  651123.09883269,  979180.25960765],\n",
      "        [1267610.11397803,  651221.03071862,  979175.83829599]],\n",
      "\n",
      "       [[1267610.11397803,  651221.03071862,  979175.83829599],\n",
      "        [1267591.4431986 ,  651319.20633628,  979172.40172885]],\n",
      "\n",
      "       [[1267591.4431986 ,  651319.20633628,  979172.40172885],\n",
      "        [1267573.33347472,  651417.50945508,  979169.48030208]]])])\n"
     ]
    },
    {
     "name": "stdout",
     "output_type": "stream",
     "text": [
      "base_final_widths = [ 71.2684394  176.65866322 201.47105814]\n",
      "overall_ais_width = 163.96293997712442\n",
      "ais_width = 149.79938691820925\n",
      "Adding the following branches as true axons: [ 0.  1.  2.  3.  4.  5.  6.  7.  8.  9. 10. 11. 12. 13. 14. 15. 16.]\n",
      "curr_soma_angle = 145.22\n",
      "max_axon_angle = 163.4172722030586\n",
      "Changing to a better axon candidate\n",
      "\n",
      "\n",
      " --- Working on limb 5, candidate # 0\n",
      "0 out of 1 branches are axons\n",
      "Axon percentage = 0.0\n",
      "Not adding candidate no axon branches detected \n",
      "Using the best axon approach\n",
      "Using True\n",
      "Limb L4: Axon branches before dendritic path filter = [ 0.  1.  2.  3.  4.  5.  6.  7.  8.  9. 10. 11. 12. 13. 14. 15. 16.]\n",
      "Limb L4: Axon branches AFTER dendritic path filter = [ 0.  1.  2.  3.  4.  5.  6.  7.  8.  9. 10. 11. 12. 13. 14. 15. 16.]\n",
      "\n",
      "\n",
      "Part 4: final_true_axons = {'L4': array([ 0.,  1.,  2.,  3.,  4.,  5.,  6.,  7.,  8.,  9., 10., 11., 12.,\n",
      "       13., 14., 15., 16.])}\n",
      "\n",
      "--- Working on filter 0:\n",
      "function = dendrite_on_axon_merges\n",
      "function __name__ = filter_away_dendrite_on_axon_merges\n",
      "function arguments = {'use_pre_existing_axon_labels': True}\n",
      "\n",
      "\n",
      "\n",
      "\n",
      "\n",
      " ---- Total time for applying filter: 0.2265615463256836 -----\n",
      "Starting axon branch was the starting node so using border vertices and NOT computing upstream branch\n",
      "upstream_node_to_axon_starting_branch = None\n",
      "root_curr = [1272394.   632033.6  980102.4]\n",
      "Time for preparing soma vertices and root: 0.001123666763305664\n",
      "invalidation_d = 2000\n",
      "cc_vertex_thresh = 10\n"
     ]
    },
    {
     "name": "stderr",
     "output_type": "stream",
     "text": [
      "\r",
      "  0%|          | 0/1 [00:00<?, ?it/s]"
     ]
    },
    {
     "data": {
      "application/vnd.jupyter.widget-view+json": {
       "model_id": "c0a022e0596e413a9b33245eacfe0981",
       "version_major": 2,
       "version_minor": 0
      },
      "text/plain": [
       "  0%|          | 0/40101 [00:00<?, ?it/s]"
      ]
     },
     "metadata": {},
     "output_type": "display_data"
    },
    {
     "name": "stderr",
     "output_type": "stream",
     "text": [
      "100%|██████████| 1/1 [00:00<00:00,  1.49it/s]\n"
     ]
    },
    {
     "name": "stdout",
     "output_type": "stream",
     "text": [
      "meshparty_segment_size = 100\n",
      "Time for 1st pass MP skeletonization: 1.513749361038208\n",
      "branches_touching_root = [5]\n",
      "combining close nodes\n",
      "combine_threshold = 1300\n",
      "length of Graph = 8917\n",
      "After combining close endpoints max(kept_branches_idx) = 30, len(kept_branches_idx) = 31\n",
      "empty_indices % = 0.0\n",
      " conflict_indices % = 0.009127674759287316\n"
     ]
    },
    {
     "data": {
      "application/vnd.jupyter.widget-view+json": {
       "model_id": "66d430a85c194e60bc8e455620f7e92f",
       "version_major": 2,
       "version_minor": 0
      },
      "text/plain": [
       "  0%|          | 0/15 [00:00<?, ?it/s]"
      ]
     },
     "metadata": {},
     "output_type": "display_data"
    },
    {
     "name": "stdout",
     "output_type": "stream",
     "text": [
      "AFTER face_lookup_resolved_test\n"
     ]
    },
    {
     "data": {
      "application/vnd.jupyter.widget-view+json": {
       "model_id": "af3b94ab6b044e0ebc9207c5ef85cf43",
       "version_major": 2,
       "version_minor": 0
      },
      "text/plain": [
       "  0%|          | 0/31 [00:00<?, ?it/s]"
      ]
     },
     "metadata": {},
     "output_type": "display_data"
    },
    {
     "name": "stdout",
     "output_type": "stream",
     "text": [
      "Decomposing first pass: 8.5320565700531\n",
      "Only Using MeshParty Skeletonization and Mesh Correspondence\n",
      "Another print\n",
      "Divinding into MP and MAP pieces: 5.888938903808594e-05\n",
      "Total time for MAP sublimb processing 7.152557373046875e-06\n",
      "---- Working on MP Decomposition #0 ----\n",
      "Using Quicker soma_to_piece_touching_vertices because no MAP and only one sublimb_mesh piece \n",
      "MP filtering soma verts: 6.961822509765625e-05\n",
      "Fixing Possible Soma Extension Branch for Sublimb 0\n",
      "Total time for mesh KDTree = 0.10002303123474121\n",
      "sbv[0].reshape(-1,3) = [[1272394.   632033.6  980102.4]]\n",
      "closest_sk_pt_coord BEFORE = [1272753.70534828  632356.19846315  980489.44992463]\n",
      "current_skeleton.shape = (452, 2, 3)\n",
      "node_for_stitch = 452: [1272753.70534828  632356.19846315  980489.44992463]\n",
      "node_for_stitch AFTER = 452: [1272753.70534828  632356.19846315  980489.44992463]\n",
      "possible_node_loc = [450 452]\n",
      "possible_node_loc AFTER = [450 452]\n",
      "curr_shortest_path = [452]\n",
      "Current stitch point was a branch or endpoint\n",
      "change_status for create soma extending pieces = False\n",
      "closest_sk_pt_coord AFTER = [1272753.70534828  632356.19846315  980489.44992463]\n",
      "skipping soma 0 because closest skeleton node was already end node\n",
      "endpoints_must_keep = {0: array([[1272753.70534828,  632356.19846315,  980489.44992463]])}\n",
      "match_sk_branches = [5]\n",
      "The new branch info was none so skipping \n",
      "\n",
      "No soma extending branch was added for this sublimb even though it had a soma border (means they already existed)\n",
      "MP (because soma touching verts) soma extension add: 1.37123441696167\n",
      "There were not both MAP and MP pieces so skipping the stitch resolving phase\n",
      "Time for decomp of Limb = 12.116281270980835\n",
      "Number of matching vertices = 17\n",
      "Only one endpoint after filtering away the endpoints that are not on the skeleton\n",
      "Using Distance measure skeletal_distance\n",
      "endpoints_must_keep = [[1272753.70534828  632356.19846315  980489.44992463]]\n",
      "Number of end_nodes BEFORE filtering = 17\n",
      "all_single_nodes_to_eliminate = [11]\n"
     ]
    },
    {
     "data": {
      "application/vnd.jupyter.widget-view+json": {
       "model_id": "62484d56cf124e1da4a35f2fa845487d",
       "version_major": 2,
       "version_minor": 0
      },
      "text/plain": [
       "  0%|          | 0/1 [00:00<?, ?it/s]"
      ]
     },
     "metadata": {},
     "output_type": "display_data"
    },
    {
     "name": "stdout",
     "output_type": "stream",
     "text": [
      "Removed 1 skeletal branches\n"
     ]
    },
    {
     "data": {
      "application/vnd.jupyter.widget-view+json": {
       "model_id": "81c5abffc4174faa99956f7d33ef7b8e",
       "version_major": 2,
       "version_minor": 0
      },
      "text/plain": [
       "  0%|          | 0/31 [00:00<?, ?it/s]"
      ]
     },
     "metadata": {},
     "output_type": "display_data"
    },
    {
     "name": "stdout",
     "output_type": "stream",
     "text": [
      "79866 79867\n",
      "For marked faces: None\n",
      "empty_indices % = 0.0\n",
      " conflict_indices % = 0.0\n"
     ]
    },
    {
     "data": {
      "application/vnd.jupyter.widget-view+json": {
       "model_id": "0be0448da7d646828531dbf519236925",
       "version_major": 2,
       "version_minor": 0
      },
      "text/plain": [
       "0it [00:00, ?it/s]"
      ]
     },
     "metadata": {},
     "output_type": "display_data"
    },
    {
     "name": "stdout",
     "output_type": "stream",
     "text": [
      "AFTER face_lookup_resolved_test\n"
     ]
    },
    {
     "data": {
      "application/vnd.jupyter.widget-view+json": {
       "model_id": "9b84d7755d074c819257ee86ac5c5b1c",
       "version_major": 2,
       "version_minor": 0
      },
      "text/plain": [
       "  0%|          | 0/29 [00:00<?, ?it/s]"
      ]
     },
     "metadata": {},
     "output_type": "display_data"
    },
    {
     "name": "stdout",
     "output_type": "stream",
     "text": [
      "Limb Correspondence before stitching = 29\n",
      "Limb Correspondence AFTER stitching = 29\n",
      "Upstream node was None so don't have to adjust\n",
      "concept_network_dict = {0: [<networkx_utils.GraphOrderedEdges object at 0x7f3c662b8d68>]}\n",
      "\n",
      "\n",
      "----Working on seperate_graph 0----\n",
      "\n",
      "\n",
      "---------Working on soma_idx = 0, soma_group_idx 0, endpt = [1272753.70534828  632356.19846315  980489.44992463]---------\n",
      "Starting_edge inside branches_to_conept = [[1272741.7341808   674594.74403301  982583.25549652]\n",
      " [1272753.70534828  632356.19846315  980489.44992463]]\n",
      "At the start, starting_node (in terms of the skeleton, that shouldn't match the starting edge) = [20]\n",
      "printing out current edge:\n",
      "[[1272753.70534828  632356.19846315  980489.44992463]\n",
      " [1272741.7341808   674594.74403301  982583.25549652]]\n",
      "edge_endpoints_to_process was empty so exiting loop after 29 iterations\n",
      "starting_node in concept map (that should match the starting edge) = 18\n",
      "Total time for branches to concept conversion = 1.1656696796417236\n",
      "\n",
      "Done generating concept network \n",
      "\n",
      "\n"
     ]
    },
    {
     "data": {
      "application/vnd.jupyter.widget-view+json": {
       "model_id": "ee6d2bbf56ec432cb734914e6aaabd04",
       "version_major": 2,
       "version_minor": 0
      },
      "text/plain": [
       "  0%|          | 0/21 [00:00<?, ?it/s]"
      ]
     },
     "metadata": {},
     "output_type": "display_data"
    },
    {
     "data": {
      "application/vnd.jupyter.widget-view+json": {
       "model_id": "75daa5ed1bef48d5a7f51a38655f3368",
       "version_major": 2,
       "version_minor": 0
      },
      "text/plain": [
       "  0%|          | 0/71 [00:00<?, ?it/s]"
      ]
     },
     "metadata": {},
     "output_type": "display_data"
    },
    {
     "data": {
      "application/vnd.jupyter.widget-view+json": {
       "model_id": "195ceb48fc0c41549f116a3b23349932",
       "version_major": 2,
       "version_minor": 0
      },
      "text/plain": [
       "  0%|          | 0/8 [00:00<?, ?it/s]"
      ]
     },
     "metadata": {},
     "output_type": "display_data"
    },
    {
     "data": {
      "application/vnd.jupyter.widget-view+json": {
       "model_id": "b06796ec869e4751a3bc77f696380e74",
       "version_major": 2,
       "version_minor": 0
      },
      "text/plain": [
       "  0%|          | 0/9 [00:00<?, ?it/s]"
      ]
     },
     "metadata": {},
     "output_type": "display_data"
    },
    {
     "data": {
      "application/vnd.jupyter.widget-view+json": {
       "model_id": "2453380351d04a0e8eddf2530147fb77",
       "version_major": 2,
       "version_minor": 0
      },
      "text/plain": [
       "  0%|          | 0/5 [00:00<?, ?it/s]"
      ]
     },
     "metadata": {},
     "output_type": "display_data"
    },
    {
     "data": {
      "application/vnd.jupyter.widget-view+json": {
       "model_id": "a3037e988b2b43aaacfe9fd9bda71919",
       "version_major": 2,
       "version_minor": 0
      },
      "text/plain": [
       "  0%|          | 0/45 [00:00<?, ?it/s]"
      ]
     },
     "metadata": {},
     "output_type": "display_data"
    },
    {
     "data": {
      "application/vnd.jupyter.widget-view+json": {
       "model_id": "912f3902192c483bb2a47ace552389b3",
       "version_major": 2,
       "version_minor": 0
      },
      "text/plain": [
       "  0%|          | 0/11 [00:00<?, ?it/s]"
      ]
     },
     "metadata": {},
     "output_type": "display_data"
    },
    {
     "data": {
      "application/vnd.jupyter.widget-view+json": {
       "model_id": "00d793518b1d45be836dffde5886cc14",
       "version_major": 2,
       "version_minor": 0
      },
      "text/plain": [
       "  0%|          | 0/14 [00:00<?, ?it/s]"
      ]
     },
     "metadata": {},
     "output_type": "display_data"
    },
    {
     "data": {
      "application/vnd.jupyter.widget-view+json": {
       "model_id": "eee903eb4a99433db7bf2f48e20869dd",
       "version_major": 2,
       "version_minor": 0
      },
      "text/plain": [
       "  0%|          | 0/9 [00:00<?, ?it/s]"
      ]
     },
     "metadata": {},
     "output_type": "display_data"
    },
    {
     "data": {
      "application/vnd.jupyter.widget-view+json": {
       "model_id": "df6d259beb5941b6aaedc96bb2760e35",
       "version_major": 2,
       "version_minor": 0
      },
      "text/plain": [
       "  0%|          | 0/8 [00:00<?, ?it/s]"
      ]
     },
     "metadata": {},
     "output_type": "display_data"
    },
    {
     "data": {
      "application/vnd.jupyter.widget-view+json": {
       "model_id": "9832bc925cb5471f8d781004a32ed777",
       "version_major": 2,
       "version_minor": 0
      },
      "text/plain": [
       "  0%|          | 0/6 [00:00<?, ?it/s]"
      ]
     },
     "metadata": {},
     "output_type": "display_data"
    },
    {
     "data": {
      "application/vnd.jupyter.widget-view+json": {
       "model_id": "92e5fe347329479aa9a3c496ae947d36",
       "version_major": 2,
       "version_minor": 0
      },
      "text/plain": [
       "  0%|          | 0/10 [00:00<?, ?it/s]"
      ]
     },
     "metadata": {},
     "output_type": "display_data"
    },
    {
     "data": {
      "application/vnd.jupyter.widget-view+json": {
       "model_id": "d7b2c0e6d4a44c91815bc27a0044a7f6",
       "version_major": 2,
       "version_minor": 0
      },
      "text/plain": [
       "  0%|          | 0/12 [00:00<?, ?it/s]"
      ]
     },
     "metadata": {},
     "output_type": "display_data"
    },
    {
     "data": {
      "application/vnd.jupyter.widget-view+json": {
       "model_id": "d62b31edb108459bb81f8711c97a63a0",
       "version_major": 2,
       "version_minor": 0
      },
      "text/plain": [
       "  0%|          | 0/14 [00:00<?, ?it/s]"
      ]
     },
     "metadata": {},
     "output_type": "display_data"
    },
    {
     "data": {
      "application/vnd.jupyter.widget-view+json": {
       "model_id": "dbbbceb8a3b1451e9fa8a9994ab5083e",
       "version_major": 2,
       "version_minor": 0
      },
      "text/plain": [
       "  0%|          | 0/15 [00:00<?, ?it/s]"
      ]
     },
     "metadata": {},
     "output_type": "display_data"
    },
    {
     "data": {
      "application/vnd.jupyter.widget-view+json": {
       "model_id": "e6ed1b09a869449eb26875169143fd11",
       "version_major": 2,
       "version_minor": 0
      },
      "text/plain": [
       "  0%|          | 0/10 [00:00<?, ?it/s]"
      ]
     },
     "metadata": {},
     "output_type": "display_data"
    },
    {
     "data": {
      "application/vnd.jupyter.widget-view+json": {
       "model_id": "a27564efe2724fabb83af13e67aa27c4",
       "version_major": 2,
       "version_minor": 0
      },
      "text/plain": [
       "  0%|          | 0/4 [00:00<?, ?it/s]"
      ]
     },
     "metadata": {},
     "output_type": "display_data"
    },
    {
     "data": {
      "application/vnd.jupyter.widget-view+json": {
       "model_id": "06005b19a0244d8d823bab6124a88bd0",
       "version_major": 2,
       "version_minor": 0
      },
      "text/plain": [
       "  0%|          | 0/3 [00:00<?, ?it/s]"
      ]
     },
     "metadata": {},
     "output_type": "display_data"
    },
    {
     "data": {
      "application/vnd.jupyter.widget-view+json": {
       "model_id": "4c509843f1d3442fb4b08317f2a2d5df",
       "version_major": 2,
       "version_minor": 0
      },
      "text/plain": [
       "  0%|          | 0/5 [00:00<?, ?it/s]"
      ]
     },
     "metadata": {},
     "output_type": "display_data"
    },
    {
     "data": {
      "application/vnd.jupyter.widget-view+json": {
       "model_id": "ee2dd6c9fba7453d883923508734ecd9",
       "version_major": 2,
       "version_minor": 0
      },
      "text/plain": [
       "  0%|          | 0/2 [00:00<?, ?it/s]"
      ]
     },
     "metadata": {},
     "output_type": "display_data"
    },
    {
     "data": {
      "application/vnd.jupyter.widget-view+json": {
       "model_id": "fdf13b16ed354af080a39c9f735ed1b9",
       "version_major": 2,
       "version_minor": 0
      },
      "text/plain": [
       "  0%|          | 0/11 [00:00<?, ?it/s]"
      ]
     },
     "metadata": {},
     "output_type": "display_data"
    },
    {
     "data": {
      "application/vnd.jupyter.widget-view+json": {
       "model_id": "d90d131e266046b4be87ae960edccc4c",
       "version_major": 2,
       "version_minor": 0
      },
      "text/plain": [
       "  0%|          | 0/8 [00:00<?, ?it/s]"
      ]
     },
     "metadata": {},
     "output_type": "display_data"
    },
    {
     "data": {
      "application/vnd.jupyter.widget-view+json": {
       "model_id": "89f292a5a3b945e5b92ac00bf41287b4",
       "version_major": 2,
       "version_minor": 0
      },
      "text/plain": [
       "  0%|          | 0/10 [00:00<?, ?it/s]"
      ]
     },
     "metadata": {},
     "output_type": "display_data"
    },
    {
     "data": {
      "application/vnd.jupyter.widget-view+json": {
       "model_id": "b33fa517e5a94364a9f7ee418e8a182d",
       "version_major": 2,
       "version_minor": 0
      },
      "text/plain": [
       "  0%|          | 0/22 [00:00<?, ?it/s]"
      ]
     },
     "metadata": {},
     "output_type": "display_data"
    },
    {
     "data": {
      "application/vnd.jupyter.widget-view+json": {
       "model_id": "b0eafba5182444bdae01caa4a9d32217",
       "version_major": 2,
       "version_minor": 0
      },
      "text/plain": [
       "  0%|          | 0/136 [00:00<?, ?it/s]"
      ]
     },
     "metadata": {},
     "output_type": "display_data"
    },
    {
     "data": {
      "application/vnd.jupyter.widget-view+json": {
       "model_id": "8d0aa20a31004dbeac96168bc07ede67",
       "version_major": 2,
       "version_minor": 0
      },
      "text/plain": [
       "  0%|          | 0/147 [00:00<?, ?it/s]"
      ]
     },
     "metadata": {},
     "output_type": "display_data"
    },
    {
     "data": {
      "application/vnd.jupyter.widget-view+json": {
       "model_id": "b64bacd9287546249cacb1995b66d752",
       "version_major": 2,
       "version_minor": 0
      },
      "text/plain": [
       "  0%|          | 0/183 [00:00<?, ?it/s]"
      ]
     },
     "metadata": {},
     "output_type": "display_data"
    },
    {
     "data": {
      "application/vnd.jupyter.widget-view+json": {
       "model_id": "c6e2ad09c3e94ee68fd393adb48cece2",
       "version_major": 2,
       "version_minor": 0
      },
      "text/plain": [
       "  0%|          | 0/16 [00:00<?, ?it/s]"
      ]
     },
     "metadata": {},
     "output_type": "display_data"
    },
    {
     "data": {
      "application/vnd.jupyter.widget-view+json": {
       "model_id": "fcee4349414d4efc9a52fc6c345e4ae2",
       "version_major": 2,
       "version_minor": 0
      },
      "text/plain": [
       "  0%|          | 0/23 [00:00<?, ?it/s]"
      ]
     },
     "metadata": {},
     "output_type": "display_data"
    },
    {
     "data": {
      "application/vnd.jupyter.widget-view+json": {
       "model_id": "d39ba83c4c4d4e4ea48a8608d3fa3108",
       "version_major": 2,
       "version_minor": 0
      },
      "text/plain": [
       "  0%|          | 0/44 [00:00<?, ?it/s]"
      ]
     },
     "metadata": {},
     "output_type": "display_data"
    },
    {
     "data": {
      "application/vnd.jupyter.widget-view+json": {
       "model_id": "e2d43f0f10ed48728e3d957f6d5c05c4",
       "version_major": 2,
       "version_minor": 0
      },
      "text/plain": [
       "  0%|          | 0/21 [00:00<?, ?it/s]"
      ]
     },
     "metadata": {},
     "output_type": "display_data"
    },
    {
     "data": {
      "application/vnd.jupyter.widget-view+json": {
       "model_id": "9be2add173584000b68f28caa6cb611c",
       "version_major": 2,
       "version_minor": 0
      },
      "text/plain": [
       "  0%|          | 0/67 [00:00<?, ?it/s]"
      ]
     },
     "metadata": {},
     "output_type": "display_data"
    },
    {
     "data": {
      "application/vnd.jupyter.widget-view+json": {
       "model_id": "d6f22a8711044bfaa06ee0de0767ad9f",
       "version_major": 2,
       "version_minor": 0
      },
      "text/plain": [
       "  0%|          | 0/19 [00:00<?, ?it/s]"
      ]
     },
     "metadata": {},
     "output_type": "display_data"
    },
    {
     "data": {
      "application/vnd.jupyter.widget-view+json": {
       "model_id": "c9c7ea069ea742f68ec86cf9af3c5ae3",
       "version_major": 2,
       "version_minor": 0
      },
      "text/plain": [
       "  0%|          | 0/12 [00:00<?, ?it/s]"
      ]
     },
     "metadata": {},
     "output_type": "display_data"
    },
    {
     "data": {
      "application/vnd.jupyter.widget-view+json": {
       "model_id": "5659d0c640d54b8b97b70c43c7c510b3",
       "version_major": 2,
       "version_minor": 0
      },
      "text/plain": [
       "  0%|          | 0/17 [00:00<?, ?it/s]"
      ]
     },
     "metadata": {},
     "output_type": "display_data"
    },
    {
     "data": {
      "application/vnd.jupyter.widget-view+json": {
       "model_id": "e961a11f96ea450e8766884b3299b5bc",
       "version_major": 2,
       "version_minor": 0
      },
      "text/plain": [
       "  0%|          | 0/14 [00:00<?, ?it/s]"
      ]
     },
     "metadata": {},
     "output_type": "display_data"
    },
    {
     "name": "stdout",
     "output_type": "stream",
     "text": [
      "Synapsse Results:\n",
      "Total Number of Synapses = 2875\n",
      "n_valid_syn_ids_presyn = 19\n",
      "n_errored_syn_ids_presyn = 1\n",
      "n_valid_syn_ids_postsyn = 2834\n",
      "n_errored_syn_ids_postsyn = 21\n",
      "Synapsse Results:\n",
      "Total Number of Synapses = 2875\n",
      "n_valid_syn_ids_presyn = 19\n",
      "n_errored_syn_ids_presyn = 1\n",
      "n_valid_syn_ids_postsyn = 2834\n",
      "n_errored_syn_ids_postsyn = 21\n"
     ]
    },
    {
     "data": {
      "application/vnd.jupyter.widget-view+json": {
       "model_id": "c0a4cbab4e9a44c2a15ef9310799c8b3",
       "version_major": 2,
       "version_minor": 0
      },
      "text/plain": [
       "  0%|          | 0/14 [00:00<?, ?it/s]"
      ]
     },
     "metadata": {},
     "output_type": "display_data"
    },
    {
     "data": {
      "application/vnd.jupyter.widget-view+json": {
       "model_id": "10212ea18e5542779efd6454f11baad0",
       "version_major": 2,
       "version_minor": 0
      },
      "text/plain": [
       "0it [00:00, ?it/s]"
      ]
     },
     "metadata": {},
     "output_type": "display_data"
    },
    {
     "name": "stdout",
     "output_type": "stream",
     "text": [
      "Synapsse Results:\n",
      "Total Number of Synapses = 2875\n",
      "n_valid_syn_ids_presyn = 19\n",
      "n_errored_syn_ids_presyn = 1\n",
      "n_valid_syn_ids_postsyn = 2834\n",
      "n_errored_syn_ids_postsyn = 21\n",
      "Synapsse Results:\n",
      "Total Number of Synapses = 2875\n",
      "n_valid_syn_ids_presyn = 19\n",
      "n_errored_syn_ids_presyn = 1\n",
      "n_valid_syn_ids_postsyn = 2834\n",
      "n_errored_syn_ids_postsyn = 21\n"
     ]
    },
    {
     "data": {
      "application/vnd.jupyter.widget-view+json": {
       "model_id": "403cc63cbd944d9ba090d4bdcd242a85",
       "version_major": 2,
       "version_minor": 0
      },
      "text/plain": [
       "  0%|          | 0/14 [00:00<?, ?it/s]"
      ]
     },
     "metadata": {},
     "output_type": "display_data"
    },
    {
     "data": {
      "application/vnd.jupyter.widget-view+json": {
       "model_id": "67914a97e0b64884b3842871817ceaea",
       "version_major": 2,
       "version_minor": 0
      },
      "text/plain": [
       "0it [00:00, ?it/s]"
      ]
     },
     "metadata": {},
     "output_type": "display_data"
    },
    {
     "name": "stdout",
     "output_type": "stream",
     "text": [
      "\n",
      "\n",
      "len(branch_attr_keys) = 14\n",
      "Saving Neuorn in suppress_output mode...please wait\n",
      "Saved File at location: /mnt/dj-stor01/platinum/minnie65/02/decomposition/864691136545546146_0_25_full_axon\n",
      "Save time = 218.37906193733215\n",
      "\n",
      "\n",
      " ***------ Total time for 864691136545546146 = 542.0101191997528 ------ ***\n",
      "\n",
      "\n",
      "\n",
      "---- Working on Neuron 864691136099807093 ----\n",
      "Decompressing Neuron in minimal output mode...please wait\n",
      "Dont need spine recalculation\n",
      "Number of Neurons found = 1\n",
      "\n",
      "Part 1: Axon like branchese \n",
      "{'L1': array([16]), 'L4': array([2]), 'L5': array([0, 1, 2, 4, 5]), 'L6': array([0, 1, 2, 3, 4, 5])}\n",
      "Limb L0 soma angle: 24.03 \n",
      "Limb L1 soma angle: 89.87 \n",
      "Limb L2 soma angle: 105.49 \n",
      "Limb L3 soma angle: 104.8 \n",
      "Limb L4 soma angle: 143.51 \n",
      "Limb L5 soma angle: 101.83 \n",
      "Limb L6 soma angle: 178.18 \n",
      "\n",
      "Part 2: possible_axon_limbs = [1, 2, 3, 4, 5, 6]\n",
      "\n",
      "Phase 2: Working on Limb L1\n",
      "nodes_to_eliminate = [4 7]\n",
      "\n",
      "Phase 2: Working on Limb L2\n",
      "nodes_to_eliminate = []\n",
      "\n",
      "Phase 2: Working on Limb L3\n",
      "nodes_to_eliminate = [3]\n",
      "\n",
      "Phase 2: Working on Limb L4\n",
      "nodes_to_eliminate = [4]\n",
      "\n",
      "Phase 2: Working on Limb L5\n",
      "nodes_to_eliminate = []\n",
      "\n",
      "Phase 2: Working on Limb L6\n",
      "nodes_to_eliminate = []\n",
      "\n",
      "----Working on Limb L1-----\n",
      "No endpoints were eliminated so don't need to add back any candidates\n",
      "\n",
      "----Working on Limb L2-----\n",
      "No nodes were eliminated so don't need to add back any candidates\n",
      "\n",
      "----Working on Limb L3-----\n",
      "No endpoints were eliminated so don't need to add back any candidates\n",
      "\n",
      "----Working on Limb L4-----\n",
      "No endpoints were eliminated so don't need to add back any candidates\n",
      "\n",
      "----Working on Limb L5-----\n",
      "No nodes were eliminated so don't need to add back any candidates\n",
      "\n",
      "----Working on Limb L6-----\n",
      "No nodes were eliminated so don't need to add back any candidates\n",
      "Final Candidates\n",
      "\n",
      "Limb 1\n",
      "Candidate 0 (cadetblue): array([ 0,  5,  6, 10, 11])\n",
      "Candidate 1 (orange): array([8, 1, 2, 3])\n",
      "Candidate 2 (green): array([ 9, 12, 13, 14, 15, 16, 17])\n",
      "\n",
      "Limb 2\n",
      "Candidate 0 (cadetblue): array([0, 1, 2, 3, 4, 5, 6, 7, 8])\n",
      "\n",
      "Limb 3\n",
      "Candidate 0 (forestgreen): array([0, 1, 2, 4, 5])\n",
      "Candidate 1 (olive): array([6])\n",
      "\n",
      "Limb 4\n",
      "Candidate 0 (green): array([0])\n",
      "Candidate 1 (green): array([1, 2, 3])\n",
      "\n",
      "Limb 5\n",
      "Candidate 0 (cyan): array([0, 1, 2, 3, 4, 5, 6, 7, 8])\n",
      "\n",
      "Limb 6\n",
      "Candidate 0 (green): array([0, 1, 2, 3, 4, 5])\n",
      "Part 3: axon_subgraph_candidates = {1: [[0, 5, 6, 10, 11], [8, 1, 2, 3], [9, 12, 13, 14, 15, 16, 17]], 2: [[0, 1, 2, 3, 4, 5, 6, 7, 8]], 3: [[0, 1, 2, 4, 5], [6]], 4: [[0], [1, 2, 3]], 5: [[0, 1, 2, 3, 4, 5, 6, 7, 8]], 6: [[0, 1, 2, 3, 4, 5]]}\n",
      "\n",
      "\n",
      " --- Working on limb 1, candidate # 0\n",
      "0 out of 5 branches are axons\n",
      "Axon percentage = 0.0\n",
      "Not adding candidate no axon branches detected \n",
      "\n",
      "\n",
      " --- Working on limb 1, candidate # 1\n",
      "0 out of 4 branches are axons\n",
      "Axon percentage = 0.0\n",
      "Not adding candidate no axon branches detected \n",
      "\n",
      "\n",
      " --- Working on limb 1, candidate # 2\n",
      "1 out of 7 branches are axons\n",
      "Axon percentage = 0.14285714285714285\n",
      "curr_axon_angle_threshold = 120\n",
      "candidate_nodes = [ 4  7  9 12 13 14 15 16 17]\n",
      "non_axon_branches_on_subgraph = [ 4  7  9 12 13 14 15 17]\n",
      "endnodes_to_test = []\n",
      "candidate_angles,restr_skels = (None, None)\n",
      "Not adding candidate because no angles (None) passed the threhold 120 \n",
      "\n",
      "\n",
      " --- Working on limb 2, candidate # 0\n",
      "0 out of 9 branches are axons\n",
      "Axon percentage = 0.0\n",
      "Not adding candidate no axon branches detected \n",
      "\n",
      "\n",
      " --- Working on limb 3, candidate # 0\n",
      "0 out of 5 branches are axons\n",
      "Axon percentage = 0.0\n",
      "Not adding candidate no axon branches detected \n",
      "\n",
      "\n",
      " --- Working on limb 3, candidate # 1\n",
      "0 out of 1 branches are axons\n",
      "Axon percentage = 0.0\n",
      "Not adding candidate no axon branches detected \n",
      "\n",
      "\n",
      " --- Working on limb 4, candidate # 0\n",
      "0 out of 1 branches are axons\n",
      "Axon percentage = 0.0\n",
      "Not adding candidate no axon branches detected \n",
      "\n",
      "\n",
      " --- Working on limb 4, candidate # 1\n",
      "1 out of 3 branches are axons\n",
      "Axon percentage = 0.3333333333333333\n",
      "curr_axon_angle_threshold = 120\n",
      "candidate_nodes = [1 2 3 4]\n",
      "non_axon_branches_on_subgraph = [1 3 4]\n",
      "endnodes_to_test = []\n",
      "candidate_angles,restr_skels = (None, None)\n",
      "Not adding candidate because no angles (None) passed the threhold 120 \n",
      "\n",
      "\n",
      " --- Working on limb 5, candidate # 0\n",
      "5 out of 9 branches are axons\n",
      "Axon percentage = 0.5555555555555556\n",
      "curr_axon_angle_threshold = 120\n",
      "candidate_nodes = [0 1 2 3 4 5 6 7 8]\n",
      "non_axon_branches_on_subgraph = [3 6 7 8]\n",
      "endnodes_to_test = []\n",
      "candidate_angles,restr_skels = (None, None)\n",
      "Not adding candidate because no angles (None) passed the threhold 120 \n",
      "\n",
      "\n",
      " --- Working on limb 6, candidate # 0\n",
      "6 out of 6 branches are axons\n",
      "Axon percentage = 1.0\n",
      "curr_axon_angle_threshold = 95\n",
      "candidate_nodes = [0 1 2 3 4 5]\n",
      "non_axon_branches_on_subgraph = []\n",
      "endnodes_to_test = [1403]\n",
      "Skeleton paths distances = [24999.96826788]\n",
      "Filtered indexes = [0]\n",
      "len(filtered_skeletons) = 1\n",
      "sk_angles = [170.13247102]\n",
      "candidate_angles,restr_skels = (array([170.13247102]), [array([[[1185048.65646405,  691152.10898972,  948605.38290817],\n",
      "        [1185054.17975898,  691249.85006107,  948584.98260238]],\n",
      "\n",
      "       [[1185054.17975898,  691249.85006107,  948584.98260238],\n",
      "        [1185059.54274153,  691347.76752316,  948565.40239491]],\n",
      "\n",
      "       [[1185059.54274153,  691347.76752316,  948565.40239491],\n",
      "        [1185064.22942984,  691446.10031242,  948547.83277521]],\n",
      "\n",
      "       [[1185064.22942984,  691446.10031242,  948547.83277521],\n",
      "        [1185068.57914414,  691544.62156242,  948531.26109426]],\n",
      "\n",
      "       [[1185068.57914414,  691544.62156242,  948531.26109426],\n",
      "        [1185072.08406542,  691643.46990172,  948516.53994618]],\n",
      "\n",
      "       [[1185072.08406542,  691643.46990172,  948516.53994618],\n",
      "        [1185075.05043874,  691742.50404075,  948502.99674381]],\n",
      "\n",
      "       [[1185075.05043874,  691742.50404075,  948502.99674381],\n",
      "        [1185077.0198948 ,  691841.78177069,  948491.16286821]],\n",
      "\n",
      "       [[1185077.0198948 ,  691841.78177069,  948491.16286821],\n",
      "        [1185078.21672205,  691941.22067274,  948480.65327185]],\n",
      "\n",
      "       [[1185078.21672205,  691941.22067274,  948480.65327185],\n",
      "        [1185078.27674789,  692040.81926974,  948471.7034095 ]],\n",
      "\n",
      "       [[1185078.27674789,  692040.81926974,  948471.7034095 ],\n",
      "        [1185077.34576775,  692140.52637473,  948464.11340999]],\n",
      "\n",
      "       [[1185077.34576775,  692140.52637473,  948464.11340999],\n",
      "        [1185075.19298379,  692240.30692588,  948457.85300838]],\n",
      "\n",
      "       [[1185075.19298379,  692240.30692588,  948457.85300838],\n",
      "        [1185071.95912682,  692340.12515327,  948452.76867205]],\n",
      "\n",
      "       [[1185071.95912682,  692340.12515327,  948452.76867205],\n",
      "        [1185067.53187028,  692439.94076965,  948448.61729688]],\n",
      "\n",
      "       [[1185067.53187028,  692439.94076965,  948448.61729688],\n",
      "        [1185062.1656851 ,  692539.73808423,  948445.19765603]],\n",
      "\n",
      "       [[1185062.1656851 ,  692539.73808423,  948445.19765603],\n",
      "        [1185055.82233578,  692639.48775925,  948442.07321649]],\n",
      "\n",
      "       [[1185055.82233578,  692639.48775925,  948442.07321649],\n",
      "        [1185048.903985  ,  692739.20433609,  948439.11731473]],\n",
      "\n",
      "       [[1185048.903985  ,  692739.20433609,  948439.11731473],\n",
      "        [1185041.50609843,  692838.86777926,  948435.58617177]],\n",
      "\n",
      "       [[1185041.50609843,  692838.86777926,  948435.58617177],\n",
      "        [1185033.94749152,  692938.511551  ,  948431.84814364]],\n",
      "\n",
      "       [[1185033.94749152,  692938.511551  ,  948431.84814364],\n",
      "        [1185026.74095218,  693038.11712553,  948426.6717958 ]],\n",
      "\n",
      "       [[1185026.74095218,  693038.11712553,  948426.6717958 ],\n",
      "        [1185019.70111087,  693137.71759968,  948421.17959929]],\n",
      "\n",
      "       [[1185019.70111087,  693137.71759968,  948421.17959929],\n",
      "        [1185013.83445117,  693237.30200788,  948414.21356781]],\n",
      "\n",
      "       [[1185013.83445117,  693237.30200788,  948414.21356781],\n",
      "        [1185008.53193555,  693336.89933136,  948406.98562737]],\n",
      "\n",
      "       [[1185008.53193555,  693336.89933136,  948406.98562737],\n",
      "        [1185004.55614682,  693436.51237441,  948399.14804409]],\n",
      "\n",
      "       [[1185004.55614682,  693436.51237441,  948399.14804409],\n",
      "        [1185001.62658131,  693536.17391049,  948391.46765817]],\n",
      "\n",
      "       [[1185001.62658131,  693536.17391049,  948391.46765817],\n",
      "        [1184999.77723678,  693635.87416488,  948383.95631437]],\n",
      "\n",
      "       [[1184999.77723678,  693635.87416488,  948383.95631437],\n",
      "        [1184999.33162159,  693735.6597471 ,  948377.42681725]],\n",
      "\n",
      "       [[1184999.33162159,  693735.6597471 ,  948377.42681725],\n",
      "        [1184999.58911445,  693835.47715499,  948371.39523299]],\n",
      "\n",
      "       [[1184999.58911445,  693835.47715499,  948371.39523299],\n",
      "        [1185001.4512227 ,  693935.37130687,  948367.18940169]],\n",
      "\n",
      "       [[1185001.4512227 ,  693935.37130687,  948367.18940169],\n",
      "        [1185003.68310252,  694035.27455986,  948363.40760164]],\n",
      "\n",
      "       [[1185003.68310252,  694035.27455986,  948363.40760164],\n",
      "        [1185007.65689932,  694135.18515339,  948361.96477235]],\n",
      "\n",
      "       [[1185007.65689932,  694135.18515339,  948361.96477235],\n",
      "        [1185011.80647697,  694235.0913411 ,  948360.75079792]],\n",
      "\n",
      "       [[1185011.80647697,  694235.0913411 ,  948360.75079792],\n",
      "        [1185017.8667813 ,  694334.90152899,  948361.84564518]],\n",
      "\n",
      "       [[1185017.8667813 ,  694334.90152899,  948361.84564518],\n",
      "        [1185024.12904334,  694434.69694254,  948363.11236361]],\n",
      "\n",
      "       [[1185024.12904334,  694434.69694254,  948363.11236361],\n",
      "        [1185032.53835777,  694534.29466067,  948366.20700196]],\n",
      "\n",
      "       [[1185032.53835777,  694534.29466067,  948366.20700196],\n",
      "        [1185041.33032617,  694633.8525258 ,  948369.50399033]],\n",
      "\n",
      "       [[1185041.33032617,  694633.8525258 ,  948369.50399033],\n",
      "        [1185052.75660128,  694733.08680923,  948374.19382868]],\n",
      "\n",
      "       [[1185052.75660128,  694733.08680923,  948374.19382868],\n",
      "        [1185064.78037003,  694832.24019088,  948379.08819802]],\n",
      "\n",
      "       [[1185064.78037003,  694832.24019088,  948379.08819802],\n",
      "        [1185079.97220175,  694930.89853609,  948385.06605291]],\n",
      "\n",
      "       [[1185079.97220175,  694930.89853609,  948385.06605291],\n",
      "        [1185095.93900765,  695029.4214119 ,  948391.24737115]],\n",
      "\n",
      "       [[1185095.93900765,  695029.4214119 ,  948391.24737115],\n",
      "        [1185115.36829278,  695127.25927904,  948398.3360917 ]],\n",
      "\n",
      "       [[1185115.36829278,  695127.25927904,  948398.3360917 ],\n",
      "        [1185135.58353651,  695224.92292907,  948405.62057143]],\n",
      "\n",
      "       [[1185135.58353651,  695224.92292907,  948405.62057143],\n",
      "        [1185159.1483804 ,  695321.76716571,  948413.73780197]],\n",
      "\n",
      "       [[1185159.1483804 ,  695321.76716571,  948413.73780197],\n",
      "        [1185183.28092776,  695418.45752881,  948422.01553406]],\n",
      "\n",
      "       [[1185183.28092776,  695418.45752881,  948422.01553406],\n",
      "        [1185210.3230278 ,  695514.3007406 ,  948431.11515909]],\n",
      "\n",
      "       [[1185210.3230278 ,  695514.3007406 ,  948431.11515909],\n",
      "        [1185237.59306829,  695610.071381  ,  948440.29543623]],\n",
      "\n",
      "       [[1185237.59306829,  695610.071381  ,  948440.29543623],\n",
      "        [1185267.2246642 ,  695705.05373551,  948450.31146618]],\n",
      "\n",
      "       [[1185267.2246642 ,  695705.05373551,  948450.31146618],\n",
      "        [1185296.87094857,  695800.03069434,  948460.33370359]],\n",
      "\n",
      "       [[1185296.87094857,  695800.03069434,  948460.33370359],\n",
      "        [1185328.24471021,  695894.37089944,  948471.08603852]],\n",
      "\n",
      "       [[1185328.24471021,  695894.37089944,  948471.08603852],\n",
      "        [1185359.71213661,  695988.67538379,  948481.87745034]],\n",
      "\n",
      "       [[1185359.71213661,  695988.67538379,  948481.87745034],\n",
      "        [1185392.22498349,  696082.58032818,  948493.04774174]],\n",
      "\n",
      "       [[1185392.22498349,  696082.58032818,  948493.04774174],\n",
      "        [1185425.02524307,  696176.37301456,  948504.32034388]],\n",
      "\n",
      "       [[1185425.02524307,  696176.37301456,  948504.32034388],\n",
      "        [1185458.44916213,  696269.94455281,  948515.59896933]],\n",
      "\n",
      "       [[1185458.44916213,  696269.94455281,  948515.59896933],\n",
      "        [1185492.28199799,  696363.36884734,  948526.8789997 ]],\n",
      "\n",
      "       [[1185492.28199799,  696363.36884734,  948526.8789997 ],\n",
      "        [1185526.41932277,  696456.71423609,  948537.89167668]],\n",
      "\n",
      "       [[1185526.41932277,  696456.71423609,  948537.89167668],\n",
      "        [1185560.96057602,  696549.95256909,  948548.54597597]],\n",
      "\n",
      "       [[1185560.96057602,  696549.95256909,  948548.54597597],\n",
      "        [1185595.54701902,  696643.21399814,  948558.84532547]],\n",
      "\n",
      "       [[1185595.54701902,  696643.21399814,  948558.84532547],\n",
      "        [1185630.24955331,  696736.53113205,  948568.20726989]],\n",
      "\n",
      "       [[1185630.24955331,  696736.53113205,  948568.20726989],\n",
      "        [1185664.85289124,  696829.91137707,  948577.30208708]],\n",
      "\n",
      "       [[1185664.85289124,  696829.91137707,  948577.30208708],\n",
      "        [1185698.87900612,  696923.64051723,  948584.8566678 ]],\n",
      "\n",
      "       [[1185698.87900612,  696923.64051723,  948584.8566678 ],\n",
      "        [1185732.82337134,  697017.4067754 ,  948592.3140335 ]],\n",
      "\n",
      "       [[1185732.82337134,  697017.4067754 ,  948592.3140335 ],\n",
      "        [1185765.14443125,  697111.87736665,  948597.85086247]],\n",
      "\n",
      "       [[1185765.14443125,  697111.87736665,  948597.85086247],\n",
      "        [1185797.44305581,  697206.35604607,  948603.37239329]],\n",
      "\n",
      "       [[1185797.44305581,  697206.35604607,  948603.37239329],\n",
      "        [1185827.13930541,  697301.7714046 ,  948607.11966065]],\n",
      "\n",
      "       [[1185827.13930541,  697301.7714046 ,  948607.11966065],\n",
      "        [1185856.72041046,  697397.22468017,  948610.79729785]],\n",
      "\n",
      "       [[1185856.72041046,  697397.22468017,  948610.79729785],\n",
      "        [1185883.12458646,  697493.64331855,  948613.30029551]],\n",
      "\n",
      "       [[1185883.12458646,  697493.64331855,  948613.30029551],\n",
      "        [1185909.24647273,  697590.14069591,  948615.70785315]],\n",
      "\n",
      "       [[1185909.24647273,  697590.14069591,  948615.70785315],\n",
      "        [1185931.96178629,  697687.50326722,  948617.83939095]],\n",
      "\n",
      "       [[1185931.96178629,  697687.50326722,  948617.83939095],\n",
      "        [1185954.35701794,  697784.93978007,  948619.95557724]],\n",
      "\n",
      "       [[1185954.35701794,  697784.93978007,  948619.95557724],\n",
      "        [1185973.54330071,  697883.03398669,  948623.02360832]],\n",
      "\n",
      "       [[1185973.54330071,  697883.03398669,  948623.02360832],\n",
      "        [1185992.51969243,  697981.16554252,  948626.18433061]],\n",
      "\n",
      "       [[1185992.51969243,  697981.16554252,  948626.18433061],\n",
      "        [1186009.03142606,  698079.63755989,  948631.71819605]],\n",
      "\n",
      "       [[1186009.03142606,  698079.63755989,  948631.71819605],\n",
      "        [1186025.43166669,  698178.1099119 ,  948637.55975869]],\n",
      "\n",
      "       [[1186025.43166669,  698178.1099119 ,  948637.55975869],\n",
      "        [1186040.65926078,  698276.52808647,  948646.61407136]],\n",
      "\n",
      "       [[1186040.65926078,  698276.52808647,  948646.61407136],\n",
      "        [1186055.87842531,  698374.89216787,  948656.2463398 ]],\n",
      "\n",
      "       [[1186055.87842531,  698374.89216787,  948656.2463398 ],\n",
      "        [1186071.04043954,  698472.87629942,  948669.25478966]],\n",
      "\n",
      "       [[1186071.04043954,  698472.87629942,  948669.25478966],\n",
      "        [1186086.35079333,  698570.7518922 ,  948682.88821628]],\n",
      "\n",
      "       [[1186086.35079333,  698570.7518922 ,  948682.88821628],\n",
      "        [1186102.37340057,  698668.04412542,  948699.54641469]],\n",
      "\n",
      "       [[1186102.37340057,  698668.04412542,  948699.54641469],\n",
      "        [1186118.59728336,  698765.23068004,  948716.61939328]],\n",
      "\n",
      "       [[1186118.59728336,  698765.23068004,  948716.61939328],\n",
      "        [1186136.00818999,  698861.74825332,  948736.1442036 ]],\n",
      "\n",
      "       [[1186136.00818999,  698861.74825332,  948736.1442036 ],\n",
      "        [1186153.51238605,  698958.22497691,  948755.78569872]],\n",
      "\n",
      "       [[1186153.51238605,  698958.22497691,  948755.78569872],\n",
      "        [1186172.49506918,  699054.02615049,  948777.27506548]],\n",
      "\n",
      "       [[1186172.49506918,  699054.02615049,  948777.27506548],\n",
      "        [1186191.49104801,  699149.82220954,  948798.7747629 ]],\n",
      "\n",
      "       [[1186191.49104801,  699149.82220954,  948798.7747629 ],\n",
      "        [1186211.86178391,  699245.0925912 ,  948821.32664057]],\n",
      "\n",
      "       [[1186211.86178391,  699245.0925912 ,  948821.32664057],\n",
      "        [1186232.37870653,  699340.3058628 ,  948843.98668255]],\n",
      "\n",
      "       [[1186232.37870653,  699340.3058628 ,  948843.98668255],\n",
      "        [1186253.87499505,  699435.21338136,  948867.01863662]],\n",
      "\n",
      "       [[1186253.87499505,  699435.21338136,  948867.01863662],\n",
      "        [1186275.74177497,  699530.00263175,  948890.18840887]],\n",
      "\n",
      "       [[1186275.74177497,  699530.00263175,  948890.18840887],\n",
      "        [1186298.2090602 ,  699624.65723063,  948913.33414347]],\n",
      "\n",
      "       [[1186298.2090602 ,  699624.65723063,  948913.33414347],\n",
      "        [1186321.21848655,  699719.18740112,  948936.45582085]],\n",
      "\n",
      "       [[1186321.21848655,  699719.18740112,  948936.45582085],\n",
      "        [1186344.54029296,  699813.68280178,  948959.40592032]],\n",
      "\n",
      "       [[1186344.54029296,  699813.68280178,  948959.40592032],\n",
      "        [1186368.51717497,  699908.10148938,  948981.9939775 ]],\n",
      "\n",
      "       [[1186368.51717497,  699908.10148938,  948981.9939775 ],\n",
      "        [1186392.6105082 ,  700002.51802616,  949004.46657589]],\n",
      "\n",
      "       [[1186392.6105082 ,  700002.51802616,  949004.46657589],\n",
      "        [1186417.45632332,  700096.91514202,  949026.18914452]],\n",
      "\n",
      "       [[1186417.45632332,  700096.91514202,  949026.18914452],\n",
      "        [1186442.31074674,  700191.31195372,  949047.90287678]],\n",
      "\n",
      "       [[1186442.31074674,  700191.31195372,  949047.90287678],\n",
      "        [1186467.9715951 ,  700285.68014792,  949068.7874348 ]],\n",
      "\n",
      "       [[1186467.9715951 ,  700285.68014792,  949068.7874348 ],\n",
      "        [1186493.67166255,  700380.04563732,  949089.63581526]],\n",
      "\n",
      "       [[1186493.67166255,  700380.04563732,  949089.63581526],\n",
      "        [1186520.07075755,  700474.28288451,  949110.18888828]],\n",
      "\n",
      "       [[1186520.07075755,  700474.28288451,  949110.18888828],\n",
      "        [1186546.60722629,  700568.49230952,  949130.69235543]],\n",
      "\n",
      "       [[1186546.60722629,  700568.49230952,  949130.69235543],\n",
      "        [1186573.70966856,  700662.40603663,  949151.80322531]],\n",
      "\n",
      "       [[1186573.70966856,  700662.40603663,  949151.80322531],\n",
      "        [1186600.97722298,  700756.22810849,  949173.10718968]],\n",
      "\n",
      "       [[1186600.97722298,  700756.22810849,  949173.10718968],\n",
      "        [1186628.5734952 ,  700849.50729535,  949196.28984947]]])])\n"
     ]
    },
    {
     "name": "stdout",
     "output_type": "stream",
     "text": [
      "base_final_widths = [202.52209244 225.47013242]\n",
      "overall_ais_width = 198.61329012940482\n",
      "ais_width = 213.99611242851577\n",
      "Adding the following branches as true axons: [0. 1. 2. 3. 4. 5.]\n",
      "curr_soma_angle = 178.18\n",
      "max_axon_angle = 170.13247102084617\n",
      "Changing to a better axon candidate\n",
      "Using the best axon approach\n",
      "Using True\n",
      "Limb L6: Axon branches before dendritic path filter = [0. 1. 2. 3. 4. 5.]\n",
      "Limb L6: Axon branches AFTER dendritic path filter = [0. 1. 2. 3. 4. 5.]\n",
      "\n",
      "\n",
      "Part 4: final_true_axons = {'L6': array([0., 1., 2., 3., 4., 5.])}\n",
      "\n",
      "--- Working on filter 0:\n",
      "function = dendrite_on_axon_merges\n",
      "function __name__ = filter_away_dendrite_on_axon_merges\n",
      "function arguments = {'use_pre_existing_axon_labels': True}\n",
      "\n",
      "\n",
      "\n",
      "\n",
      "\n",
      " ---- Total time for applying filter: 0.8793296813964844 -----\n",
      "Starting axon branch was the starting node so using border vertices and NOT computing upstream branch\n",
      "upstream_node_to_axon_starting_branch = None\n"
     ]
    },
    {
     "name": "stderr",
     "output_type": "stream",
     "text": [
      "\r",
      "  0%|          | 0/1 [00:00<?, ?it/s]"
     ]
    },
    {
     "name": "stdout",
     "output_type": "stream",
     "text": [
      "root_curr = [1187928.  683382.  952329.]\n",
      "Time for preparing soma vertices and root: 0.0003502368927001953\n",
      "invalidation_d = 2000\n",
      "cc_vertex_thresh = 10\n"
     ]
    },
    {
     "data": {
      "application/vnd.jupyter.widget-view+json": {
       "model_id": "ad1645b856ca4aab96ed5ecf397e7fc6",
       "version_major": 2,
       "version_minor": 0
      },
      "text/plain": [
       "  0%|          | 0/17931 [00:00<?, ?it/s]"
      ]
     },
     "metadata": {},
     "output_type": "display_data"
    },
    {
     "name": "stderr",
     "output_type": "stream",
     "text": [
      "100%|██████████| 1/1 [00:00<00:00,  4.58it/s]\n"
     ]
    },
    {
     "name": "stdout",
     "output_type": "stream",
     "text": [
      "meshparty_segment_size = 100\n",
      "Time for 1st pass MP skeletonization: 1.1821870803833008\n",
      "connecting at the root\n",
      "branches_touching_root = [14]\n",
      "combining close nodes\n",
      "combine_threshold = 1300\n",
      "length of Graph = 3343\n",
      "After combining close endpoints max(kept_branches_idx) = 14, len(kept_branches_idx) = 14\n",
      "empty_indices % = 0.0\n",
      " conflict_indices % = 0.010691435626894152\n"
     ]
    },
    {
     "data": {
      "application/vnd.jupyter.widget-view+json": {
       "model_id": "145e77b9f61e4713b94e15c502468aab",
       "version_major": 2,
       "version_minor": 0
      },
      "text/plain": [
       "  0%|          | 0/6 [00:00<?, ?it/s]"
      ]
     },
     "metadata": {},
     "output_type": "display_data"
    },
    {
     "name": "stdout",
     "output_type": "stream",
     "text": [
      "AFTER face_lookup_resolved_test\n"
     ]
    },
    {
     "data": {
      "application/vnd.jupyter.widget-view+json": {
       "model_id": "e71c589e2cfc412780a64dd1e318948a",
       "version_major": 2,
       "version_minor": 0
      },
      "text/plain": [
       "  0%|          | 0/14 [00:00<?, ?it/s]"
      ]
     },
     "metadata": {},
     "output_type": "display_data"
    },
    {
     "name": "stdout",
     "output_type": "stream",
     "text": [
      "Decomposing first pass: 4.906670331954956\n",
      "Only Using MeshParty Skeletonization and Mesh Correspondence\n",
      "Another print\n",
      "Divinding into MP and MAP pieces: 0.0003006458282470703\n",
      "Total time for MAP sublimb processing 4.76837158203125e-06\n",
      "---- Working on MP Decomposition #0 ----\n",
      "Using Quicker soma_to_piece_touching_vertices because no MAP and only one sublimb_mesh piece \n",
      "MP filtering soma verts: 0.0004546642303466797\n",
      "Fixing Possible Soma Extension Branch for Sublimb 0\n",
      "Total time for mesh KDTree = 0.2090740203857422\n",
      "sbv[0].reshape(-1,3) = [[1187928.  683382.  952329.]]\n",
      "closest_sk_pt_coord BEFORE = [1187838.26894348  683517.61222838  953362.99659648]\n",
      "current_skeleton.shape = (598, 2, 3)\n",
      "node_for_stitch = 251: [1187838.26894348  683517.61222838  953362.99659648]\n",
      "node_for_stitch AFTER = 251: [1187838.26894348  683517.61222838  953362.99659648]\n",
      "possible_node_loc = [258 598]\n",
      "possible_node_loc AFTER = [258 598]\n",
      "curr_shortest_path = [251, 254.0, 256.0, 258.0]\n",
      "Current stitch point was not a branch or endpoint, shortest_path_length to one = 299.9975118781837\n",
      "Changing the stitch point becasue the distance to end or branch node was 299.9975118781837\n",
      "New stitch point has degree 1\n",
      "change_status for create soma extending pieces = True\n",
      "closest_sk_pt_coord AFTER = [1188016.11485679  683289.55091378  953442.65735334]\n",
      "skipping soma 0 because closest skeleton node was already end node\n",
      "endpoints_must_keep = {0: array([[1188016.11485679,  683289.55091378,  953442.65735334]])}\n",
      "match_sk_branches = [13]\n",
      "The new branch info was none so skipping \n",
      "\n",
      "No soma extending branch was added for this sublimb even though it had a soma border (means they already existed)\n",
      "MP (because soma touching verts) soma extension add: 1.2151775360107422\n",
      "There were not both MAP and MP pieces so skipping the stitch resolving phase\n",
      "Time for decomp of Limb = 7.688113451004028\n",
      "Number of matching vertices = 34\n",
      "Only one endpoint after filtering away the endpoints that are not on the skeleton\n",
      "Using Distance measure skeletal_distance\n",
      "endpoints_must_keep = [[1188016.11485679  683289.55091378  953442.65735334]]\n",
      "Number of end_nodes BEFORE filtering = 9\n",
      "all_single_nodes_to_eliminate = [4]\n",
      "no small end nodes to get rid of so returning whole skeleton\n",
      "Removed 0 skeletal branches\n"
     ]
    },
    {
     "data": {
      "application/vnd.jupyter.widget-view+json": {
       "model_id": "f86c650a59574d468afa6d696f9438ff",
       "version_major": 2,
       "version_minor": 0
      },
      "text/plain": [
       "  0%|          | 0/14 [00:00<?, ?it/s]"
      ]
     },
     "metadata": {},
     "output_type": "display_data"
    },
    {
     "name": "stdout",
     "output_type": "stream",
     "text": [
      "35717 35718\n",
      "For marked faces: None\n",
      "empty_indices % = 0.0\n",
      " conflict_indices % = 0.0\n"
     ]
    },
    {
     "data": {
      "application/vnd.jupyter.widget-view+json": {
       "model_id": "632a95e8a06a4934ac3eb6fc6c4fe747",
       "version_major": 2,
       "version_minor": 0
      },
      "text/plain": [
       "0it [00:00, ?it/s]"
      ]
     },
     "metadata": {},
     "output_type": "display_data"
    },
    {
     "name": "stdout",
     "output_type": "stream",
     "text": [
      "AFTER face_lookup_resolved_test\n"
     ]
    },
    {
     "data": {
      "application/vnd.jupyter.widget-view+json": {
       "model_id": "ffbe9cd89f7d470ea6bac170c2ff338f",
       "version_major": 2,
       "version_minor": 0
      },
      "text/plain": [
       "  0%|          | 0/14 [00:00<?, ?it/s]"
      ]
     },
     "metadata": {},
     "output_type": "display_data"
    },
    {
     "name": "stdout",
     "output_type": "stream",
     "text": [
      "Limb Correspondence before stitching = 14\n",
      "Limb Correspondence AFTER stitching = 14\n",
      "Upstream node was None so don't have to adjust\n",
      "concept_network_dict = {0: [<networkx_utils.GraphOrderedEdges object at 0x7f3cd03e1f98>]}\n",
      "\n",
      "\n",
      "----Working on seperate_graph 0----\n",
      "\n",
      "\n",
      "---------Working on soma_idx = 0, soma_group_idx 0, endpt = [1188016.11485679  683289.55091378  953442.65735334]---------\n",
      "Starting_edge inside branches_to_conept = [[1188016.11485679  683289.55091378  953442.65735334]\n",
      " [1192379.3302762   737312.02392423  959598.52674859]]\n",
      "At the start, starting_node (in terms of the skeleton, that shouldn't match the starting edge) = [5]\n",
      "printing out current edge:\n",
      "[[1188016.11485679  683289.55091378  953442.65735334]\n",
      " [1192379.3302762   737312.02392423  959598.52674859]]\n",
      "edge_endpoints_to_process was empty so exiting loop after 14 iterations\n",
      "starting_node in concept map (that should match the starting edge) = 4\n",
      "Total time for branches to concept conversion = 0.3044600486755371\n",
      "\n",
      "Done generating concept network \n",
      "\n",
      "\n"
     ]
    },
    {
     "data": {
      "application/vnd.jupyter.widget-view+json": {
       "model_id": "fbbceebbdf2a4da4af9e4bbd6f181636",
       "version_major": 2,
       "version_minor": 0
      },
      "text/plain": [
       "  0%|          | 0/7 [00:00<?, ?it/s]"
      ]
     },
     "metadata": {},
     "output_type": "display_data"
    },
    {
     "data": {
      "application/vnd.jupyter.widget-view+json": {
       "model_id": "7c9b5a2147f245e3b44f58cd7389e551",
       "version_major": 2,
       "version_minor": 0
      },
      "text/plain": [
       "  0%|          | 0/6 [00:00<?, ?it/s]"
      ]
     },
     "metadata": {},
     "output_type": "display_data"
    },
    {
     "data": {
      "application/vnd.jupyter.widget-view+json": {
       "model_id": "a2cbb2d4b6fb4d318ac48cc1f356eddb",
       "version_major": 2,
       "version_minor": 0
      },
      "text/plain": [
       "  0%|          | 0/4 [00:00<?, ?it/s]"
      ]
     },
     "metadata": {},
     "output_type": "display_data"
    },
    {
     "data": {
      "application/vnd.jupyter.widget-view+json": {
       "model_id": "dc04b8da38ea4520ae60ce5a18fe1aa0",
       "version_major": 2,
       "version_minor": 0
      },
      "text/plain": [
       "  0%|          | 0/5 [00:00<?, ?it/s]"
      ]
     },
     "metadata": {},
     "output_type": "display_data"
    },
    {
     "data": {
      "application/vnd.jupyter.widget-view+json": {
       "model_id": "0e6d25993a1746269c9b1efa44225d41",
       "version_major": 2,
       "version_minor": 0
      },
      "text/plain": [
       "  0%|          | 0/3 [00:00<?, ?it/s]"
      ]
     },
     "metadata": {},
     "output_type": "display_data"
    },
    {
     "data": {
      "application/vnd.jupyter.widget-view+json": {
       "model_id": "ac52efc8cfe548269d6ce2a7f8ef0ada",
       "version_major": 2,
       "version_minor": 0
      },
      "text/plain": [
       "  0%|          | 0/6 [00:00<?, ?it/s]"
      ]
     },
     "metadata": {},
     "output_type": "display_data"
    },
    {
     "data": {
      "application/vnd.jupyter.widget-view+json": {
       "model_id": "cdef1cf503864300aef25d5611f75216",
       "version_major": 2,
       "version_minor": 0
      },
      "text/plain": [
       "  0%|          | 0/6 [00:00<?, ?it/s]"
      ]
     },
     "metadata": {},
     "output_type": "display_data"
    },
    {
     "data": {
      "application/vnd.jupyter.widget-view+json": {
       "model_id": "6588ee35e45647b5bd50aacbc076e47a",
       "version_major": 2,
       "version_minor": 0
      },
      "text/plain": [
       "  0%|          | 0/3 [00:00<?, ?it/s]"
      ]
     },
     "metadata": {},
     "output_type": "display_data"
    },
    {
     "data": {
      "application/vnd.jupyter.widget-view+json": {
       "model_id": "d568f049731f4795942e2b494406a9bf",
       "version_major": 2,
       "version_minor": 0
      },
      "text/plain": [
       "  0%|          | 0/11 [00:00<?, ?it/s]"
      ]
     },
     "metadata": {},
     "output_type": "display_data"
    },
    {
     "data": {
      "application/vnd.jupyter.widget-view+json": {
       "model_id": "c65d81690b0840e3ae7083c7af7d3cb5",
       "version_major": 2,
       "version_minor": 0
      },
      "text/plain": [
       "  0%|          | 0/37 [00:00<?, ?it/s]"
      ]
     },
     "metadata": {},
     "output_type": "display_data"
    },
    {
     "data": {
      "application/vnd.jupyter.widget-view+json": {
       "model_id": "2a6c2164219e40f08d07b38b0ead8277",
       "version_major": 2,
       "version_minor": 0
      },
      "text/plain": [
       "  0%|          | 0/39 [00:00<?, ?it/s]"
      ]
     },
     "metadata": {},
     "output_type": "display_data"
    },
    {
     "data": {
      "application/vnd.jupyter.widget-view+json": {
       "model_id": "c89376b6ed054998bfbb0adf203c7f47",
       "version_major": 2,
       "version_minor": 0
      },
      "text/plain": [
       "  0%|          | 0/63 [00:00<?, ?it/s]"
      ]
     },
     "metadata": {},
     "output_type": "display_data"
    },
    {
     "data": {
      "application/vnd.jupyter.widget-view+json": {
       "model_id": "18f94c2c91d747d29055ec5af04fdad8",
       "version_major": 2,
       "version_minor": 0
      },
      "text/plain": [
       "  0%|          | 0/16 [00:00<?, ?it/s]"
      ]
     },
     "metadata": {},
     "output_type": "display_data"
    },
    {
     "data": {
      "application/vnd.jupyter.widget-view+json": {
       "model_id": "0af932fa262d4fb2b4d22f9a9375cf0e",
       "version_major": 2,
       "version_minor": 0
      },
      "text/plain": [
       "  0%|          | 0/121 [00:00<?, ?it/s]"
      ]
     },
     "metadata": {},
     "output_type": "display_data"
    },
    {
     "name": "stdout",
     "output_type": "stream",
     "text": [
      "Synapsse Results:\n",
      "Total Number of Synapses = 4846\n",
      "n_valid_syn_ids_presyn = 2\n",
      "n_errored_syn_ids_presyn = 25\n",
      "n_valid_syn_ids_postsyn = 4817\n",
      "n_errored_syn_ids_postsyn = 2\n",
      "Synapsse Results:\n",
      "Total Number of Synapses = 4846\n",
      "n_valid_syn_ids_presyn = 2\n",
      "n_errored_syn_ids_presyn = 25\n",
      "n_valid_syn_ids_postsyn = 4817\n",
      "n_errored_syn_ids_postsyn = 2\n"
     ]
    },
    {
     "data": {
      "application/vnd.jupyter.widget-view+json": {
       "model_id": "aa16c3dd15f74981a07285215201f916",
       "version_major": 2,
       "version_minor": 0
      },
      "text/plain": [
       "  0%|          | 0/6 [00:00<?, ?it/s]"
      ]
     },
     "metadata": {},
     "output_type": "display_data"
    },
    {
     "data": {
      "application/vnd.jupyter.widget-view+json": {
       "model_id": "6f5a99f9509548a5ad082d9fa7413799",
       "version_major": 2,
       "version_minor": 0
      },
      "text/plain": [
       "0it [00:00, ?it/s]"
      ]
     },
     "metadata": {},
     "output_type": "display_data"
    },
    {
     "name": "stdout",
     "output_type": "stream",
     "text": [
      "Synapsse Results:\n",
      "Total Number of Synapses = 4846\n",
      "n_valid_syn_ids_presyn = 2\n",
      "n_errored_syn_ids_presyn = 25\n",
      "n_valid_syn_ids_postsyn = 4817\n",
      "n_errored_syn_ids_postsyn = 2\n",
      "Synapsse Results:\n",
      "Total Number of Synapses = 4846\n",
      "n_valid_syn_ids_presyn = 2\n",
      "n_errored_syn_ids_presyn = 25\n",
      "n_valid_syn_ids_postsyn = 4817\n",
      "n_errored_syn_ids_postsyn = 2\n"
     ]
    },
    {
     "data": {
      "application/vnd.jupyter.widget-view+json": {
       "model_id": "2168d77be69a42a0a790b484805e0e81",
       "version_major": 2,
       "version_minor": 0
      },
      "text/plain": [
       "  0%|          | 0/6 [00:00<?, ?it/s]"
      ]
     },
     "metadata": {},
     "output_type": "display_data"
    },
    {
     "data": {
      "application/vnd.jupyter.widget-view+json": {
       "model_id": "93063652c0df4170a01dcd3c403f6e44",
       "version_major": 2,
       "version_minor": 0
      },
      "text/plain": [
       "0it [00:00, ?it/s]"
      ]
     },
     "metadata": {},
     "output_type": "display_data"
    },
    {
     "name": "stdout",
     "output_type": "stream",
     "text": [
      "\n",
      "\n",
      "len(branch_attr_keys) = 6\n",
      "Saving Neuorn in suppress_output mode...please wait\n",
      "Saved File at location: /mnt/dj-stor01/platinum/minnie65/02/decomposition/864691136099807093_0_25_soma_0_split_full_axon\n",
      "Save time = 341.3882532119751\n",
      "\n",
      "\n",
      " ***------ Total time for 864691136099807093 = 531.6448802947998 ------ ***\n",
      "\n",
      "\n",
      "\n",
      "---- Working on Neuron 864691136175008774 ----\n",
      "Decompressing Neuron in minimal output mode...please wait\n",
      "Pulled from Table Decomposition so setting split_index = 0\n",
      "Dont need spine recalculation\n",
      "Number of Neurons found = 1\n",
      "\n",
      "Part 1: Axon like branchese \n",
      "{'L0': array([ 0,  1,  2,  3,  4,  5,  6,  7,  8,  9, 10, 11, 12, 13, 14, 15, 16,\n",
      "       17, 18, 19, 20, 21, 22, 23, 24, 25, 26, 27, 28, 29, 30, 31, 32, 33,\n",
      "       34, 35, 36, 37, 38, 39, 40, 41, 42, 43, 44, 45, 46, 47, 48, 49, 50,\n",
      "       51, 52, 53, 54, 55, 56, 57, 58, 59, 60, 61, 62]), 'L1': array([ 2,  4, 12]), 'L6': array([3])}\n",
      "Limb L0 soma angle: 163.9 \n",
      "Limb L1 soma angle: 18.39 \n",
      "Limb L2 soma angle: 150.48 \n",
      "Limb L3 soma angle: 138.17 \n",
      "Limb L4 soma angle: 89.08 \n",
      "Limb L5 soma angle: 40.53 \n",
      "Limb L6 soma angle: 145.53 \n",
      "\n",
      "Part 2: possible_axon_limbs = [0, 2, 3, 4, 6]\n",
      "\n",
      "Phase 2: Working on Limb L0\n",
      "nodes_to_eliminate = []\n",
      "\n",
      "Phase 2: Working on Limb L2\n",
      "nodes_to_eliminate = [4]\n",
      "\n",
      "Phase 2: Working on Limb L3\n",
      "nodes_to_eliminate = [4]\n",
      "\n",
      "Phase 2: Working on Limb L4\n",
      "nodes_to_eliminate = []\n",
      "\n",
      "Phase 2: Working on Limb L6\n",
      "nodes_to_eliminate = [0 2 3]\n",
      "\n",
      "----Working on Limb L0-----\n",
      "No nodes were eliminated so don't need to add back any candidates\n",
      "\n",
      "----Working on Limb L2-----\n",
      "No endpoints were eliminated so don't need to add back any candidates\n",
      "\n",
      "----Working on Limb L3-----\n",
      "No endpoints were eliminated so don't need to add back any candidates\n",
      "\n",
      "----Working on Limb L4-----\n",
      "No nodes were eliminated so don't need to add back any candidates\n",
      "\n",
      "----Working on Limb L6-----\n",
      "New candidates added back: [[3]]\n",
      "Final Candidates\n",
      "\n",
      "Limb 0\n",
      "Candidate 0 (blue): array([ 0,  1,  2,  3,  4,  5,  6,  7,  8,  9, 10, 11, 12, 13, 14, 15, 16,\n",
      "       17, 18, 19, 20, 21, 22, 23, 24, 25, 26, 27, 28, 29, 30, 31, 32, 33,\n",
      "       34, 35, 36, 37, 38, 39, 40, 41, 42, 43, 44, 45, 46, 47, 48, 49, 50,\n",
      "       51, 52, 53, 54, 55, 56, 57, 58, 59, 60, 61, 62])\n",
      "\n",
      "Limb 2\n",
      "Candidate 0 (magenta): array([0, 1, 2])\n",
      "Candidate 1 (sandybrown): array([3])\n",
      "\n",
      "Limb 3\n",
      "Candidate 0 (orange): array([2])\n",
      "Candidate 1 (pink): array([0, 1, 3])\n",
      "\n",
      "Limb 4\n",
      "Candidate 0 (cyan): array([0, 1, 2, 3, 4])\n",
      "\n",
      "Limb 6\n",
      "Candidate 0 (red): array([1])\n",
      "Candidate 1 (blue): array([4, 5, 6, 7, 8])\n",
      "Candidate 2 (red): array([3])\n",
      "Part 3: axon_subgraph_candidates = {0: [[0, 1, 2, 3, 4, 5, 6, 7, 8, 9, 10, 11, 12, 13, 14, 15, 16, 17, 18, 19, 20, 21, 22, 23, 24, 25, 26, 27, 28, 29, 30, 31, 32, 33, 34, 35, 36, 37, 38, 39, 40, 41, 42, 43, 44, 45, 46, 47, 48, 49, 50, 51, 52, 53, 54, 55, 56, 57, 58, 59, 60, 61, 62]], 2: [[0, 1, 2], [3]], 3: [[2], [0, 1, 3]], 4: [[0, 1, 2, 3, 4]], 6: [[1], [4, 5, 6, 7, 8], [3]]}\n",
      "\n",
      "\n",
      " --- Working on limb 0, candidate # 0\n",
      "63 out of 63 branches are axons\n",
      "Axon percentage = 1.0\n",
      "curr_axon_angle_threshold = 95\n",
      "candidate_nodes = [ 0  1  2  3  4  5  6  7  8  9 10 11 12 13 14 15 16 17 18 19 20 21 22 23\n",
      " 24 25 26 27 28 29 30 31 32 33 34 35 36 37 38 39 40 41 42 43 44 45 46 47\n",
      " 48 49 50 51 52 53 54 55 56 57 58 59 60 61 62]\n",
      "non_axon_branches_on_subgraph = []\n",
      "endnodes_to_test = [20137]\n",
      "Skeleton paths distances = [24998.42107888]\n",
      "Filtered indexes = [0]\n",
      "len(filtered_skeletons) = 1\n",
      "sk_angles = [175.39361507]\n",
      "candidate_angles,restr_skels = (array([175.39361507]), [array([[[1245710.37033958,  649313.46420594,  918395.462239  ],\n",
      "        [1245692.46109393,  649411.76796788,  918391.50884693]],\n",
      "\n",
      "       [[1245692.46109393,  649411.76796788,  918391.50884693],\n",
      "        [1245674.55184828,  649510.07172982,  918387.55545487]],\n",
      "\n",
      "       [[1245674.55184828,  649510.07172982,  918387.55545487],\n",
      "        [1245656.31086578,  649608.31285078,  918383.61941662]],\n",
      "\n",
      "       [[1245656.31086578,  649608.31285078,  918383.61941662],\n",
      "        [1245636.74521601,  649706.3038384 ,  918379.75267436]],\n",
      "\n",
      "       [[1245636.74521601,  649706.3038384 ,  918379.75267436],\n",
      "        [1245617.17956624,  649804.29482601,  918375.8859321 ]],\n",
      "\n",
      "       [[1245617.17956624,  649804.29482601,  918375.8859321 ],\n",
      "        [1245597.47445189,  649902.24834338,  918371.79825391]],\n",
      "\n",
      "       [[1245597.47445189,  649902.24834338,  918371.79825391],\n",
      "        [1245577.55355468,  650000.14388591,  918367.36873855]],\n",
      "\n",
      "       [[1245577.55355468,  650000.14388591,  918367.36873855],\n",
      "        [1245557.63265748,  650098.03942845,  918362.93922319]],\n",
      "\n",
      "       [[1245557.63265748,  650098.03942845,  918362.93922319],\n",
      "        [1245538.19354922,  650195.9944946 ,  918357.7878661 ]],\n",
      "\n",
      "       [[1245538.19354922,  650195.9944946 ,  918357.7878661 ],\n",
      "        [1245519.00249495,  650293.98020711,  918352.26486138]],\n",
      "\n",
      "       [[1245519.00249495,  650293.98020711,  918352.26486138],\n",
      "        [1245499.86513916,  650391.97323247,  918346.69778242]],\n",
      "\n",
      "       [[1245499.86513916,  650391.97323247,  918346.69778242],\n",
      "        [1245482.22691925,  650490.17041575,  918339.90025389]],\n",
      "\n",
      "       [[1245482.22691925,  650490.17041575,  918339.90025389],\n",
      "        [1245464.58869934,  650588.36759903,  918333.10272536]],\n",
      "\n",
      "       [[1245464.58869934,  650588.36759903,  918333.10272536],\n",
      "        [1245448.09557432,  650686.71983769,  918325.79333577]],\n",
      "\n",
      "       [[1245448.09557432,  650686.71983769,  918325.79333577],\n",
      "        [1245432.5966472 ,  650785.20669903,  918318.03953654]],\n",
      "\n",
      "       [[1245432.5966472 ,  650785.20669903,  918318.03953654],\n",
      "        [1245417.53926302,  650883.75450659,  918310.25223117]],\n",
      "\n",
      "       [[1245417.53926302,  650883.75450659,  918310.25223117],\n",
      "        [1245404.60936032,  650982.5959707 ,  918302.30348347]],\n",
      "\n",
      "       [[1245404.60936032,  650982.5959707 ,  918302.30348347],\n",
      "        [1245391.67945763,  651081.4374348 ,  918294.35473577]],\n",
      "\n",
      "       [[1245391.67945763,  651081.4374348 ,  918294.35473577],\n",
      "        [1245381.53431826,  651180.65562348,  918287.11564513]],\n",
      "\n",
      "       [[1245381.53431826,  651180.65562348,  918287.11564513],\n",
      "        [1245371.52932138,  651279.89277072,  918279.91226781]],\n",
      "\n",
      "       [[1245371.52932138,  651279.89277072,  918279.91226781],\n",
      "        [1245364.403763  ,  651379.46105417,  918274.07378008]],\n",
      "\n",
      "       [[1245364.403763  ,  651379.46105417,  918274.07378008],\n",
      "        [1245357.64162474,  651479.07113104,  918268.40755801]],\n",
      "\n",
      "       [[1245357.64162474,  651479.07113104,  918268.40755801],\n",
      "        [1245354.36901668,  651578.94707611,  918264.66427254]],\n",
      "\n",
      "       [[1245354.36901668,  651578.94707611,  918264.66427254],\n",
      "        [1245352.16094427,  651678.8537592 ,  918261.44129225]],\n",
      "\n",
      "       [[1245352.16094427,  651678.8537592 ,  918261.44129225],\n",
      "        [1245352.56415692,  651778.83394791,  918259.49211646]],\n",
      "\n",
      "       [[1245352.56415692,  651778.83394791,  918259.49211646],\n",
      "        [1245355.70345894,  651878.76489277,  918258.33071487]],\n",
      "\n",
      "       [[1245355.70345894,  651878.76489277,  918258.33071487],\n",
      "        [1245360.94859174,  651978.60998404,  918257.3571819 ]],\n",
      "\n",
      "       [[1245360.94859174,  651978.60998404,  918257.3571819 ],\n",
      "        [1245368.45172675,  652078.31723234,  918256.14869384]],\n",
      "\n",
      "       [[1245368.45172675,  652078.31723234,  918256.14869384],\n",
      "        [1245378.25769376,  652177.80484774,  918253.6875169 ]],\n",
      "\n",
      "       [[1245378.25769376,  652177.80484774,  918253.6875169 ],\n",
      "        [1245389.44106461,  652277.08704909,  918249.56411175]],\n",
      "\n",
      "       [[1245389.44106461,  652277.08704909,  918249.56411175],\n",
      "        [1245401.35529494,  652376.21924636,  918244.11265884]],\n",
      "\n",
      "       [[1245401.35529494,  652376.21924636,  918244.11265884],\n",
      "        [1245413.71486284,  652475.23814916,  918237.60537126]],\n",
      "\n",
      "       [[1245413.71486284,  652475.23814916,  918237.60537126],\n",
      "        [1245426.26971581,  652574.12777488,  918229.65442213]],\n",
      "\n",
      "       [[1245426.26971581,  652574.12777488,  918229.65442213],\n",
      "        [1245438.58350724,  652672.99910918,  918221.14577203]],\n",
      "\n",
      "       [[1245438.58350724,  652672.99910918,  918221.14577203],\n",
      "        [1245450.61500807,  652771.84902366,  918211.9840367 ]],\n",
      "\n",
      "       [[1245450.61500807,  652771.84902366,  918211.9840367 ],\n",
      "        [1245461.65252509,  652870.74315298,  918202.11575371]],\n",
      "\n",
      "       [[1245461.65252509,  652870.74315298,  918202.11575371],\n",
      "        [1245472.1951789 ,  652969.65929503,  918191.89571003]],\n",
      "\n",
      "       [[1245472.1951789 ,  652969.65929503,  918191.89571003],\n",
      "        [1245480.91015466,  653068.66623616,  918180.94661227]],\n",
      "\n",
      "       [[1245480.91015466,  653068.66623616,  918180.94661227],\n",
      "        [1245488.78101404,  653167.71511301,  918169.66079957]],\n",
      "\n",
      "       [[1245488.78101404,  653167.71511301,  918169.66079957],\n",
      "        [1245494.66329729,  653266.81115869,  918157.77149367]],\n",
      "\n",
      "       [[1245494.66329729,  653266.81115869,  918157.77149367],\n",
      "        [1245498.6969067 ,  653365.95105475,  918145.32115214]],\n",
      "\n",
      "       [[1245498.6969067 ,  653365.95105475,  918145.32115214],\n",
      "        [1245501.86759191,  653465.07436653,  918132.6318158 ]],\n",
      "\n",
      "       [[1245501.86759191,  653465.07436653,  918132.6318158 ],\n",
      "        [1245501.2762475 ,  653564.12537697,  918118.90055065]],\n",
      "\n",
      "       [[1245501.2762475 ,  653564.12537697,  918118.90055065],\n",
      "        [1245500.68490308,  653663.17638741,  918105.16928551]],\n",
      "\n",
      "       [[1245500.68490308,  653663.17638741,  918105.16928551],\n",
      "        [1245496.70893514,  653761.98659988,  918090.48045751]],\n",
      "\n",
      "       [[1245496.70893514,  653761.98659988,  918090.48045751],\n",
      "        [1245491.3792024 ,  653860.70049917,  918075.40862832]],\n",
      "\n",
      "       [[1245491.3792024 ,  653860.70049917,  918075.40862832],\n",
      "        [1245485.47364978,  653959.34273953,  918060.15822957]],\n",
      "\n",
      "       [[1245485.47364978,  653959.34273953,  918060.15822957],\n",
      "        [1245476.04028707,  654057.54595529,  918043.81380901]],\n",
      "\n",
      "       [[1245476.04028707,  654057.54595529,  918043.81380901],\n",
      "        [1245466.60692436,  654155.74917104,  918027.46938845]],\n",
      "\n",
      "       [[1245466.60692436,  654155.74917104,  918027.46938845],\n",
      "        [1245455.67202775,  654253.69416906,  918010.59244616]],\n",
      "\n",
      "       [[1245455.67202775,  654253.69416906,  918010.59244616],\n",
      "        [1245443.36854718,  654351.40381265,  917993.2301331 ]],\n",
      "\n",
      "       [[1245443.36854718,  654351.40381265,  917993.2301331 ],\n",
      "        [1245431.06506662,  654449.11345625,  917975.86782003]],\n",
      "\n",
      "       [[1245431.06506662,  654449.11345625,  917975.86782003],\n",
      "        [1245417.55744011,  654546.57290329,  917958.00472443]],\n",
      "\n",
      "       [[1245417.55744011,  654546.57290329,  917958.00472443],\n",
      "        [1245403.97468167,  654644.01673948,  917940.11038282]],\n",
      "\n",
      "       [[1245403.97468167,  654644.01673948,  917940.11038282],\n",
      "        [1245390.61541999,  654741.51067198,  917922.32288639]],\n",
      "\n",
      "       [[1245390.61541999,  654741.51067198,  917922.32288639],\n",
      "        [1245377.49486501,  654839.05811007,  917904.64950644]],\n",
      "\n",
      "       [[1245377.49486501,  654839.05811007,  917904.64950644],\n",
      "        [1245364.88966136,  654936.72045843,  917887.27259618]],\n",
      "\n",
      "       [[1245364.88966136,  654936.72045843,  917887.27259618],\n",
      "        [1245353.99563237,  655034.7643553 ,  917870.88008512]],\n",
      "\n",
      "       [[1245353.99563237,  655034.7643553 ,  917870.88008512],\n",
      "        [1245344.04417223,  655132.99233869,  917855.13274759]],\n",
      "\n",
      "       [[1245344.04417223,  655132.99233869,  917855.13274759],\n",
      "        [1245337.08756021,  655231.80522487,  917841.43533642]],\n",
      "\n",
      "       [[1245337.08756021,  655231.80522487,  917841.43533642],\n",
      "        [1245332.9914285 ,  655331.00832861,  917830.06303415]],\n",
      "\n",
      "       [[1245332.9914285 ,  655331.00832861,  917830.06303415],\n",
      "        [1245331.830223  ,  655430.5823127 ,  917821.11946124]],\n",
      "\n",
      "       [[1245331.830223  ,  655430.5823127 ,  917821.11946124],\n",
      "        [1245337.0020184 ,  655530.40640869,  917818.2207732 ]],\n",
      "\n",
      "       [[1245337.0020184 ,  655530.40640869,  917818.2207732 ],\n",
      "        [1245347.37576869,  655629.72809182,  917820.97312979]],\n",
      "\n",
      "       [[1245347.37576869,  655629.72809182,  917820.97312979],\n",
      "        [1245362.85897067,  655728.03357528,  917829.51916695]],\n",
      "\n",
      "       [[1245362.85897067,  655728.03357528,  917829.51916695],\n",
      "        [1245382.80257823,  655825.01306375,  917843.12584079]],\n",
      "\n",
      "       [[1245382.80257823,  655825.01306375,  917843.12584079],\n",
      "        [1245406.13553358,  655920.70373861,  917860.39595488]],\n",
      "\n",
      "       [[1245406.13553358,  655920.70373861,  917860.39595488],\n",
      "        [1245432.86790186,  656014.98321508,  917880.31481034]],\n",
      "\n",
      "       [[1245432.86790186,  656014.98321508,  917880.31481034],\n",
      "        [1245461.08502306,  656108.77151905,  917900.46132235]],\n",
      "\n",
      "       [[1245461.08502306,  656108.77151905,  917900.46132235],\n",
      "        [1245490.32107087,  656202.2275408 ,  917920.7380075 ]],\n",
      "\n",
      "       [[1245490.32107087,  656202.2275408 ,  917920.7380075 ],\n",
      "        [1245521.33990349,  656295.39418927,  917939.65381137]],\n",
      "\n",
      "       [[1245521.33990349,  656295.39418927,  917939.65381137],\n",
      "        [1245552.7683052 ,  656388.55619029,  917957.85794425]],\n",
      "\n",
      "       [[1245552.7683052 ,  656388.55619029,  917957.85794425],\n",
      "        [1245585.2334272 ,  656481.70642748,  917974.26066251]],\n",
      "\n",
      "       [[1245585.2334272 ,  656481.70642748,  917974.26066251],\n",
      "        [1245618.25780695,  656574.86819382,  917989.3450359 ]],\n",
      "\n",
      "       [[1245618.25780695,  656574.86819382,  917989.3450359 ],\n",
      "        [1245652.02860906,  656668.04534773,  918002.66985911]],\n",
      "\n",
      "       [[1245652.02860906,  656668.04534773,  918002.66985911],\n",
      "        [1245686.41623602,  656761.1906824 ,  918014.43657386]],\n",
      "\n",
      "       [[1245686.41623602,  656761.1906824 ,  918014.43657386],\n",
      "        [1245721.45866916,  656854.30223855,  918024.54923875]],\n",
      "\n",
      "       [[1245721.45866916,  656854.30223855,  918024.54923875],\n",
      "        [1245757.07085382,  656947.33458738,  918033.15083866]],\n",
      "\n",
      "       [[1245757.07085382,  656947.33458738,  918033.15083866],\n",
      "        [1245793.2860583 ,  657040.2831039 ,  918040.1531412 ]],\n",
      "\n",
      "       [[1245793.2860583 ,  657040.2831039 ,  918040.1531412 ],\n",
      "        [1245829.88763059,  657133.15958979,  918045.8037284 ]],\n",
      "\n",
      "       [[1245829.88763059,  657133.15958979,  918045.8037284 ],\n",
      "        [1245866.94820682,  657225.95050348,  918049.84848137]],\n",
      "\n",
      "       [[1245866.94820682,  657225.95050348,  918049.84848137],\n",
      "        [1245904.10225502,  657318.73765033,  918052.70633058]],\n",
      "\n",
      "       [[1245904.10225502,  657318.73765033,  918052.70633058],\n",
      "        [1245941.38520488,  657411.51960257,  918053.92739086]],\n",
      "\n",
      "       [[1245941.38520488,  657411.51960257,  918053.92739086],\n",
      "        [1245978.41406829,  657504.40166388,  918054.11133178]],\n",
      "\n",
      "       [[1245978.41406829,  657504.40166388,  918054.11133178],\n",
      "        [1246015.05587507,  657597.43622399,  918052.71540129]],\n",
      "\n",
      "       [[1246015.05587507,  657597.43622399,  918052.71540129],\n",
      "        [1246051.0390493 ,  657690.70055135,  918050.44583267]],\n",
      "\n",
      "       [[1246051.0390493 ,  657690.70055135,  918050.44583267],\n",
      "        [1246086.06024355,  657784.30047025,  918046.90025301]],\n",
      "\n",
      "       [[1246086.06024355,  657784.30047025,  918046.90025301],\n",
      "        [1246119.87384738,  657878.30678527,  918042.75191442]],\n",
      "\n",
      "       [[1246119.87384738,  657878.30678527,  918042.75191442],\n",
      "        [1246152.32336575,  657972.77216243,  918037.92270367]],\n",
      "\n",
      "       [[1246152.32336575,  657972.77216243,  918037.92270367],\n",
      "        [1246182.79626229,  658067.87489826,  918033.0315137 ]],\n",
      "\n",
      "       [[1246182.79626229,  658067.87489826,  918033.0315137 ],\n",
      "        [1246211.91917481,  658163.41293438,  918028.09799346]],\n",
      "\n",
      "       [[1246211.91917481,  658163.41293438,  918028.09799346],\n",
      "        [1246238.18877613,  658259.79532683,  918023.90939174]],\n",
      "\n",
      "       [[1246238.18877613,  658259.79532683,  918023.90939174],\n",
      "        [1246263.60986826,  658356.42881145,  918019.94231168]],\n",
      "\n",
      "       [[1246263.60986826,  658356.42881145,  918019.94231168],\n",
      "        [1246285.519883  ,  658453.95999272,  918017.2612122 ]],\n",
      "\n",
      "       [[1246285.519883  ,  658453.95999272,  918017.2612122 ],\n",
      "        [1246306.81242007,  658551.62606314,  918014.72026077]],\n",
      "\n",
      "       [[1246306.81242007,  658551.62606314,  918014.72026077],\n",
      "        [1246325.40045194,  658649.86290309,  918012.7181748 ]],\n",
      "\n",
      "       [[1246325.40045194,  658649.86290309,  918012.7181748 ],\n",
      "        [1246343.12124914,  658748.24474082,  918010.46452967]],\n",
      "\n",
      "       [[1246343.12124914,  658748.24474082,  918010.46452967],\n",
      "        [1246358.86326034,  658846.95742277,  918007.6368972 ]],\n",
      "\n",
      "       [[1246358.86326034,  658846.95742277,  918007.6368972 ],\n",
      "        [1246373.53499389,  658945.78630388,  918003.84704313]],\n",
      "\n",
      "       [[1246373.53499389,  658945.78630388,  918003.84704313],\n",
      "        [1246386.54884694,  659044.79517972,  917998.56668941]]])])\n"
     ]
    },
    {
     "name": "stdout",
     "output_type": "stream",
     "text": [
      "base_final_widths = [286.08045254 239.83117497]\n",
      "overall_ais_width = 211.43902534388522\n",
      "ais_width = 262.955813753802\n",
      "Adding the following branches as true axons: [ 0.  1.  2.  3.  4.  5.  6.  7.  8.  9. 10. 11. 12. 13. 14. 15. 16. 17.\n",
      " 18. 19. 20. 21. 22. 23. 24. 25. 26. 27. 28. 29. 30. 31. 32. 33. 34. 35.\n",
      " 36. 37. 38. 39. 40. 41. 42. 43. 44. 45. 46. 47. 48. 49. 50. 51. 52. 53.\n",
      " 54. 55. 56. 57. 58. 59. 60. 61. 62.]\n",
      "curr_soma_angle = 163.9\n",
      "max_axon_angle = 175.39361506786526\n",
      "Changing to a better axon candidate\n",
      "\n",
      "\n",
      " --- Working on limb 2, candidate # 0\n",
      "0 out of 3 branches are axons\n",
      "Axon percentage = 0.0\n",
      "Not adding candidate no axon branches detected \n",
      "\n",
      "\n",
      " --- Working on limb 2, candidate # 1\n",
      "0 out of 1 branches are axons\n",
      "Axon percentage = 0.0\n",
      "Not adding candidate no axon branches detected \n",
      "\n",
      "\n",
      " --- Working on limb 3, candidate # 0\n",
      "0 out of 1 branches are axons\n",
      "Axon percentage = 0.0\n",
      "Not adding candidate no axon branches detected \n",
      "\n",
      "\n",
      " --- Working on limb 3, candidate # 1\n",
      "0 out of 3 branches are axons\n",
      "Axon percentage = 0.0\n",
      "Not adding candidate no axon branches detected \n",
      "\n",
      "\n",
      " --- Working on limb 4, candidate # 0\n",
      "0 out of 5 branches are axons\n",
      "Axon percentage = 0.0\n",
      "Not adding candidate no axon branches detected \n",
      "\n",
      "\n",
      " --- Working on limb 6, candidate # 0\n",
      "0 out of 1 branches are axons\n",
      "Axon percentage = 0.0\n",
      "Not adding candidate no axon branches detected \n",
      "\n",
      "\n",
      " --- Working on limb 6, candidate # 1\n",
      "0 out of 5 branches are axons\n",
      "Axon percentage = 0.0\n",
      "Not adding candidate no axon branches detected \n",
      "\n",
      "\n",
      " --- Working on limb 6, candidate # 2\n",
      "1 out of 1 branches are axons\n",
      "Axon percentage = 1.0\n",
      "curr_axon_angle_threshold = 95\n",
      "candidate_nodes = [0 2 3]\n",
      "non_axon_branches_on_subgraph = [0 2]\n",
      "endnodes_to_test = [47]\n",
      "Skeleton paths distances = [9101.91122551]\n",
      "Filtered indexes = []\n",
      "len(filtered_skeletons) = 1\n",
      "sk_angles = [89.43295407]\n",
      "candidate_angles,restr_skels = (array([89.43295407]), [array([[[1253045.78238725,  631563.97505927,  913267.50750992],\n",
      "        [1253090.0894299 ,  631563.36164192,  913177.86092777]],\n",
      "\n",
      "       [[1253090.0894299 ,  631563.36164192,  913177.86092777],\n",
      "        [1253131.96220095,  631562.58727273,  913087.09216404]],\n",
      "\n",
      "       [[1253131.96220095,  631562.58727273,  913087.09216404],\n",
      "        [1253171.43714163,  631561.65436117,  912995.21801787]],\n",
      "\n",
      "       [[1253171.43714163,  631561.65436117,  912995.21801787],\n",
      "        [1253208.55652797,  631560.63306765,  912902.39576327]],\n",
      "\n",
      "       [[1253208.55652797,  631560.63306765,  912902.39576327],\n",
      "        [1253243.80136631,  631559.54143984,  912808.81900483]],\n",
      "\n",
      "       [[1253243.80136631,  631559.54143984,  912808.81900483],\n",
      "        [1253276.85004776,  631558.42578499,  912714.46130002]],\n",
      "\n",
      "       [[1253276.85004776,  631558.42578499,  912714.46130002],\n",
      "        [1253308.62008872,  631557.29614118,  912619.64891475]],\n",
      "\n",
      "       [[1253308.62008872,  631557.29614118,  912619.64891475],\n",
      "        [1253338.10319532,  631556.19445533,  912524.10504677]],\n",
      "\n",
      "       [[1253338.10319532,  631556.19445533,  912524.10504677],\n",
      "        [1253366.47668021,  631555.1199037 ,  912428.22516264]],\n",
      "\n",
      "       [[1253366.47668021,  631555.1199037 ,  912428.22516264],\n",
      "        [1253389.62760046,  631554.23759899,  912345.68182814]]])])\n",
      "Not adding candidate because no angles ([89.43295407]) passed the threhold 95 \n",
      "Using the best axon approach\n",
      "Using True\n",
      "Limb L0: Axon branches before dendritic path filter = [ 0.  1.  2.  3.  4.  5.  6.  7.  8.  9. 10. 11. 12. 13. 14. 15. 16. 17.\n",
      " 18. 19. 20. 21. 22. 23. 24. 25. 26. 27. 28. 29. 30. 31. 32. 33. 34. 35.\n",
      " 36. 37. 38. 39. 40. 41. 42. 43. 44. 45. 46. 47. 48. 49. 50. 51. 52. 53.\n",
      " 54. 55. 56. 57. 58. 59. 60. 61. 62.]\n",
      "Limb L0: Axon branches AFTER dendritic path filter = [ 0.  1.  2.  3.  4.  5.  6.  7.  8.  9. 10. 11. 12. 13. 14. 15. 16. 17.\n",
      " 18. 19. 20. 21. 22. 23. 24. 25. 26. 27. 28. 29. 30. 31. 32. 33. 34. 35.\n",
      " 36. 37. 38. 39. 40. 41. 42. 43. 44. 45. 46. 47. 48. 49. 50. 51. 52. 53.\n",
      " 54. 55. 56. 57. 58. 59. 60. 61. 62.]\n",
      "\n",
      "\n",
      "Part 4: final_true_axons = {'L0': array([ 0.,  1.,  2.,  3.,  4.,  5.,  6.,  7.,  8.,  9., 10., 11., 12.,\n",
      "       13., 14., 15., 16., 17., 18., 19., 20., 21., 22., 23., 24., 25.,\n",
      "       26., 27., 28., 29., 30., 31., 32., 33., 34., 35., 36., 37., 38.,\n",
      "       39., 40., 41., 42., 43., 44., 45., 46., 47., 48., 49., 50., 51.,\n",
      "       52., 53., 54., 55., 56., 57., 58., 59., 60., 61., 62.])}\n",
      "\n",
      "--- Working on filter 0:\n",
      "function = dendrite_on_axon_merges\n",
      "function __name__ = filter_away_dendrite_on_axon_merges\n",
      "function arguments = {'use_pre_existing_axon_labels': True}\n",
      "\n",
      "\n",
      "\n",
      "\n",
      "\n",
      " ---- Total time for applying filter: 0.23874521255493164 -----\n",
      "Starting axon branch was the starting node so using border vertices and NOT computing upstream branch\n",
      "upstream_node_to_axon_starting_branch = None\n",
      "root_curr = [1244453.   639584.   918857.6]\n",
      "Time for preparing soma vertices and root: 0.0005733966827392578\n",
      "invalidation_d = 2000\n",
      "cc_vertex_thresh = 10\n"
     ]
    },
    {
     "name": "stderr",
     "output_type": "stream",
     "text": [
      "\r",
      "  0%|          | 0/1 [00:00<?, ?it/s]"
     ]
    },
    {
     "data": {
      "application/vnd.jupyter.widget-view+json": {
       "model_id": "f47a728e6dd94b4d847885a85f93b945",
       "version_major": 2,
       "version_minor": 0
      },
      "text/plain": [
       "  0%|          | 0/127411 [00:00<?, ?it/s]"
      ]
     },
     "metadata": {},
     "output_type": "display_data"
    },
    {
     "name": "stderr",
     "output_type": "stream",
     "text": [
      "100%|██████████| 1/1 [00:06<00:00,  6.13s/it]\n"
     ]
    },
    {
     "name": "stdout",
     "output_type": "stream",
     "text": [
      "meshparty_segment_size = 100\n",
      "Time for 1st pass MP skeletonization: 8.160190105438232\n",
      "connecting at the root\n",
      "branches_touching_root = [138]\n",
      "combining close nodes\n",
      "combine_threshold = 1300\n",
      "length of Graph = 37504\n",
      "After combining close endpoints max(kept_branches_idx) = 138, len(kept_branches_idx) = 134\n",
      "empty_indices % = 0.0\n",
      " conflict_indices % = 0.010037700468399758\n"
     ]
    },
    {
     "data": {
      "application/vnd.jupyter.widget-view+json": {
       "model_id": "db4194caeb4e48f1a430b6c88edf82f7",
       "version_major": 2,
       "version_minor": 0
      },
      "text/plain": [
       "  0%|          | 0/64 [00:00<?, ?it/s]"
      ]
     },
     "metadata": {},
     "output_type": "display_data"
    },
    {
     "name": "stdout",
     "output_type": "stream",
     "text": [
      "AFTER face_lookup_resolved_test\n"
     ]
    },
    {
     "data": {
      "application/vnd.jupyter.widget-view+json": {
       "model_id": "795fbc4dd19a406b9cb3dbe0a0a82fd2",
       "version_major": 2,
       "version_minor": 0
      },
      "text/plain": [
       "  0%|          | 0/134 [00:00<?, ?it/s]"
      ]
     },
     "metadata": {},
     "output_type": "display_data"
    },
    {
     "name": "stdout",
     "output_type": "stream",
     "text": [
      "Decomposing first pass: 28.154510736465454\n",
      "Only Using MeshParty Skeletonization and Mesh Correspondence\n",
      "Another print\n",
      "Divinding into MP and MAP pieces: 0.00027561187744140625\n",
      "Total time for MAP sublimb processing 5.4836273193359375e-06\n",
      "---- Working on MP Decomposition #0 ----\n",
      "Using Quicker soma_to_piece_touching_vertices because no MAP and only one sublimb_mesh piece \n",
      "MP filtering soma verts: 0.00041604042053222656\n",
      "Fixing Possible Soma Extension Branch for Sublimb 0\n",
      "Total time for mesh KDTree = 0.21054887771606445\n",
      "sbv[0].reshape(-1,3) = [[1244453.   639584.   918857.6]]\n",
      "closest_sk_pt_coord BEFORE = [1243887.22682918  639810.32696763  919335.60011188]\n",
      "current_skeleton.shape = (710, 2, 3)\n",
      "node_for_stitch = 0: [1243887.22682918  639810.32696763  919335.60011188]\n",
      "node_for_stitch AFTER = 0: [1243887.22682918  639810.32696763  919335.60011188]\n",
      "possible_node_loc = [  0 508]\n",
      "possible_node_loc AFTER = [  0 508]\n",
      "curr_shortest_path = [0]\n",
      "Current stitch point was a branch or endpoint\n",
      "change_status for create soma extending pieces = False\n",
      "closest_sk_pt_coord AFTER = [1243887.22682918  639810.32696763  919335.60011188]\n",
      "skipping soma 0 because closest skeleton node was already end node\n",
      "endpoints_must_keep = {0: array([[1243887.22682918,  639810.32696763,  919335.60011188]])}\n",
      "match_sk_branches = [133]\n",
      "The new branch info was none so skipping \n",
      "\n",
      "No soma extending branch was added for this sublimb even though it had a soma border (means they already existed)\n",
      "MP (because soma touching verts) soma extension add: 10.758275270462036\n",
      "There were not both MAP and MP pieces so skipping the stitch resolving phase\n",
      "Time for decomp of Limb = 49.902783155441284\n",
      "Number of matching vertices = 17\n",
      "Only one endpoint after filtering away the endpoints that are not on the skeleton\n",
      "Using Distance measure skeletal_distance\n",
      "endpoints_must_keep = [[1243887.22682918  639810.32696763  919335.60011188]]\n",
      "Number of end_nodes BEFORE filtering = 71\n",
      "all_single_nodes_to_eliminate = [29]\n"
     ]
    },
    {
     "data": {
      "application/vnd.jupyter.widget-view+json": {
       "model_id": "245a3c028b974d71b897c12d94c0f3af",
       "version_major": 2,
       "version_minor": 0
      },
      "text/plain": [
       "  0%|          | 0/7 [00:00<?, ?it/s]"
      ]
     },
     "metadata": {},
     "output_type": "display_data"
    },
    {
     "name": "stdout",
     "output_type": "stream",
     "text": [
      "Removed 7 skeletal branches\n"
     ]
    },
    {
     "data": {
      "application/vnd.jupyter.widget-view+json": {
       "model_id": "a4dbcb400cdf44a5aa60dbb6efe6d329",
       "version_major": 2,
       "version_minor": 0
      },
      "text/plain": [
       "  0%|          | 0/134 [00:00<?, ?it/s]"
      ]
     },
     "metadata": {},
     "output_type": "display_data"
    },
    {
     "name": "stdout",
     "output_type": "stream",
     "text": [
      "253868 253869\n",
      "For marked faces: None\n",
      "empty_indices % = 0.000244220444402428\n",
      " conflict_indices % = 0.0\n"
     ]
    },
    {
     "data": {
      "application/vnd.jupyter.widget-view+json": {
       "model_id": "f90a3888c4d24cfe8bb53297863f2afa",
       "version_major": 2,
       "version_minor": 0
      },
      "text/plain": [
       "  0%|          | 0/1 [00:00<?, ?it/s]"
      ]
     },
     "metadata": {},
     "output_type": "display_data"
    },
    {
     "name": "stdout",
     "output_type": "stream",
     "text": [
      "AFTER face_lookup_resolved_test\n"
     ]
    },
    {
     "data": {
      "application/vnd.jupyter.widget-view+json": {
       "model_id": "91217dd7eaed4ab0a63c28a9786bb335",
       "version_major": 2,
       "version_minor": 0
      },
      "text/plain": [
       "  0%|          | 0/121 [00:00<?, ?it/s]"
      ]
     },
     "metadata": {},
     "output_type": "display_data"
    },
    {
     "name": "stdout",
     "output_type": "stream",
     "text": [
      "Limb Correspondence before stitching = 121\n",
      "Limb Correspondence AFTER stitching = 121\n",
      "Upstream node was None so don't have to adjust\n",
      "concept_network_dict = {0: [<networkx_utils.GraphOrderedEdges object at 0x7f3c64edc358>]}\n",
      "Assigning the old width calculation because no valid new widths\n",
      "\n",
      "\n",
      "----Working on seperate_graph 0----\n",
      "\n",
      "\n",
      "---------Working on soma_idx = 0, soma_group_idx 0, endpt = [1243887.22682918  639810.32696763  919335.60011188]---------\n",
      "Starting_edge inside branches_to_conept = [[1243887.22682918  639810.32696763  919335.60011188]\n",
      " [1247339.58562196  706579.08494556  916647.93847151]]\n",
      "At the start, starting_node (in terms of the skeleton, that shouldn't match the starting edge) = [54]\n",
      "printing out current edge:\n",
      "[[1243887.22682918  639810.32696763  919335.60011188]\n",
      " [1247339.58562196  706579.08494556  916647.93847151]]\n",
      "edge_endpoints_to_process was empty so exiting loop after 121 iterations\n",
      "starting_node in concept map (that should match the starting edge) = 59\n",
      "Total time for branches to concept conversion = 4.455850601196289\n",
      "\n",
      "Done generating concept network \n",
      "\n",
      "\n"
     ]
    },
    {
     "data": {
      "application/vnd.jupyter.widget-view+json": {
       "model_id": "e8bd2e84235b422c988fdd62d5e6eeef",
       "version_major": 2,
       "version_minor": 0
      },
      "text/plain": [
       "  0%|          | 0/112 [00:00<?, ?it/s]"
      ]
     },
     "metadata": {},
     "output_type": "display_data"
    },
    {
     "data": {
      "application/vnd.jupyter.widget-view+json": {
       "model_id": "02eb2f3e21564831821b61a69d5210ba",
       "version_major": 2,
       "version_minor": 0
      },
      "text/plain": [
       "  0%|          | 0/5 [00:00<?, ?it/s]"
      ]
     },
     "metadata": {},
     "output_type": "display_data"
    },
    {
     "data": {
      "application/vnd.jupyter.widget-view+json": {
       "model_id": "8751942d40ef4e70a8933d42d3fbf469",
       "version_major": 2,
       "version_minor": 0
      },
      "text/plain": [
       "  0%|          | 0/7 [00:00<?, ?it/s]"
      ]
     },
     "metadata": {},
     "output_type": "display_data"
    },
    {
     "data": {
      "application/vnd.jupyter.widget-view+json": {
       "model_id": "269e1f4965f0408e8e00e94438ebc8ea",
       "version_major": 2,
       "version_minor": 0
      },
      "text/plain": [
       "  0%|          | 0/41 [00:00<?, ?it/s]"
      ]
     },
     "metadata": {},
     "output_type": "display_data"
    },
    {
     "data": {
      "application/vnd.jupyter.widget-view+json": {
       "model_id": "885f9e720b254bb5ad7e3dccdb4b439d",
       "version_major": 2,
       "version_minor": 0
      },
      "text/plain": [
       "  0%|          | 0/6 [00:00<?, ?it/s]"
      ]
     },
     "metadata": {},
     "output_type": "display_data"
    },
    {
     "data": {
      "application/vnd.jupyter.widget-view+json": {
       "model_id": "9b5591d7de0d46baa79b0f6911ce1add",
       "version_major": 2,
       "version_minor": 0
      },
      "text/plain": [
       "  0%|          | 0/2 [00:00<?, ?it/s]"
      ]
     },
     "metadata": {},
     "output_type": "display_data"
    },
    {
     "data": {
      "application/vnd.jupyter.widget-view+json": {
       "model_id": "ffd46653295d454cab549e6b6b394fc0",
       "version_major": 2,
       "version_minor": 0
      },
      "text/plain": [
       "  0%|          | 0/39 [00:00<?, ?it/s]"
      ]
     },
     "metadata": {},
     "output_type": "display_data"
    },
    {
     "data": {
      "application/vnd.jupyter.widget-view+json": {
       "model_id": "9533f6871b6a4e3a8b0137be12abca90",
       "version_major": 2,
       "version_minor": 0
      },
      "text/plain": [
       "  0%|          | 0/23 [00:00<?, ?it/s]"
      ]
     },
     "metadata": {},
     "output_type": "display_data"
    },
    {
     "data": {
      "application/vnd.jupyter.widget-view+json": {
       "model_id": "175f694d3ee343c280df4ff5d004bfe6",
       "version_major": 2,
       "version_minor": 0
      },
      "text/plain": [
       "  0%|          | 0/21 [00:00<?, ?it/s]"
      ]
     },
     "metadata": {},
     "output_type": "display_data"
    },
    {
     "data": {
      "application/vnd.jupyter.widget-view+json": {
       "model_id": "847046b7599146a98f017693aa545656",
       "version_major": 2,
       "version_minor": 0
      },
      "text/plain": [
       "  0%|          | 0/7 [00:00<?, ?it/s]"
      ]
     },
     "metadata": {},
     "output_type": "display_data"
    },
    {
     "data": {
      "application/vnd.jupyter.widget-view+json": {
       "model_id": "f7bcac02492d4ed8833a96468186166a",
       "version_major": 2,
       "version_minor": 0
      },
      "text/plain": [
       "  0%|          | 0/81 [00:00<?, ?it/s]"
      ]
     },
     "metadata": {},
     "output_type": "display_data"
    },
    {
     "data": {
      "application/vnd.jupyter.widget-view+json": {
       "model_id": "5efde7f9168e4d849698c77eec08bcfd",
       "version_major": 2,
       "version_minor": 0
      },
      "text/plain": [
       "  0%|          | 0/10 [00:00<?, ?it/s]"
      ]
     },
     "metadata": {},
     "output_type": "display_data"
    },
    {
     "data": {
      "application/vnd.jupyter.widget-view+json": {
       "model_id": "6b3307b07f6845eb9da92d6c5e80b368",
       "version_major": 2,
       "version_minor": 0
      },
      "text/plain": [
       "  0%|          | 0/6 [00:00<?, ?it/s]"
      ]
     },
     "metadata": {},
     "output_type": "display_data"
    },
    {
     "data": {
      "application/vnd.jupyter.widget-view+json": {
       "model_id": "9e63ebc2c65b464c91b19f6cce88c4a8",
       "version_major": 2,
       "version_minor": 0
      },
      "text/plain": [
       "  0%|          | 0/36 [00:00<?, ?it/s]"
      ]
     },
     "metadata": {},
     "output_type": "display_data"
    },
    {
     "data": {
      "application/vnd.jupyter.widget-view+json": {
       "model_id": "0d9d064952674d218b8a38da882a3e87",
       "version_major": 2,
       "version_minor": 0
      },
      "text/plain": [
       "  0%|          | 0/35 [00:00<?, ?it/s]"
      ]
     },
     "metadata": {},
     "output_type": "display_data"
    },
    {
     "data": {
      "application/vnd.jupyter.widget-view+json": {
       "model_id": "809433c2825a4e3f8326e677ceee055e",
       "version_major": 2,
       "version_minor": 0
      },
      "text/plain": [
       "  0%|          | 0/6 [00:00<?, ?it/s]"
      ]
     },
     "metadata": {},
     "output_type": "display_data"
    },
    {
     "data": {
      "application/vnd.jupyter.widget-view+json": {
       "model_id": "aa17375970f14c668ea9c31307e5a4ad",
       "version_major": 2,
       "version_minor": 0
      },
      "text/plain": [
       "  0%|          | 0/45 [00:00<?, ?it/s]"
      ]
     },
     "metadata": {},
     "output_type": "display_data"
    },
    {
     "data": {
      "application/vnd.jupyter.widget-view+json": {
       "model_id": "1773c61b2a0a4cd593189670d0a3ad27",
       "version_major": 2,
       "version_minor": 0
      },
      "text/plain": [
       "  0%|          | 0/28 [00:00<?, ?it/s]"
      ]
     },
     "metadata": {},
     "output_type": "display_data"
    },
    {
     "data": {
      "application/vnd.jupyter.widget-view+json": {
       "model_id": "dcd83fc2937e4c1b92e0656ba42c675f",
       "version_major": 2,
       "version_minor": 0
      },
      "text/plain": [
       "  0%|          | 0/118 [00:00<?, ?it/s]"
      ]
     },
     "metadata": {},
     "output_type": "display_data"
    },
    {
     "data": {
      "application/vnd.jupyter.widget-view+json": {
       "model_id": "f6ffeed9947e4372bc6c1833bd8f07bc",
       "version_major": 2,
       "version_minor": 0
      },
      "text/plain": [
       "  0%|          | 0/65 [00:00<?, ?it/s]"
      ]
     },
     "metadata": {},
     "output_type": "display_data"
    },
    {
     "data": {
      "application/vnd.jupyter.widget-view+json": {
       "model_id": "7244edadf0fb4308a3bcffd5b75bbaa8",
       "version_major": 2,
       "version_minor": 0
      },
      "text/plain": [
       "  0%|          | 0/8 [00:00<?, ?it/s]"
      ]
     },
     "metadata": {},
     "output_type": "display_data"
    },
    {
     "data": {
      "application/vnd.jupyter.widget-view+json": {
       "model_id": "bf14cc96d6db4b91a92a2f9174117506",
       "version_major": 2,
       "version_minor": 0
      },
      "text/plain": [
       "  0%|          | 0/17 [00:00<?, ?it/s]"
      ]
     },
     "metadata": {},
     "output_type": "display_data"
    },
    {
     "data": {
      "application/vnd.jupyter.widget-view+json": {
       "model_id": "b4ed0f24de834615962e351cfb72d4ba",
       "version_major": 2,
       "version_minor": 0
      },
      "text/plain": [
       "  0%|          | 0/6 [00:00<?, ?it/s]"
      ]
     },
     "metadata": {},
     "output_type": "display_data"
    },
    {
     "data": {
      "application/vnd.jupyter.widget-view+json": {
       "model_id": "06b9edb40c4e4d268c4c09753e888b1f",
       "version_major": 2,
       "version_minor": 0
      },
      "text/plain": [
       "  0%|          | 0/47 [00:00<?, ?it/s]"
      ]
     },
     "metadata": {},
     "output_type": "display_data"
    },
    {
     "data": {
      "application/vnd.jupyter.widget-view+json": {
       "model_id": "00fdeda093344c469f7fcb58ae78b60b",
       "version_major": 2,
       "version_minor": 0
      },
      "text/plain": [
       "  0%|          | 0/26 [00:00<?, ?it/s]"
      ]
     },
     "metadata": {},
     "output_type": "display_data"
    },
    {
     "data": {
      "application/vnd.jupyter.widget-view+json": {
       "model_id": "64baf7ccf3334fddbff333cb0bf12475",
       "version_major": 2,
       "version_minor": 0
      },
      "text/plain": [
       "  0%|          | 0/1 [00:00<?, ?it/s]"
      ]
     },
     "metadata": {},
     "output_type": "display_data"
    },
    {
     "data": {
      "application/vnd.jupyter.widget-view+json": {
       "model_id": "972330fc98b347f1b713aabf5ff4bfd6",
       "version_major": 2,
       "version_minor": 0
      },
      "text/plain": [
       "  0%|          | 0/3 [00:00<?, ?it/s]"
      ]
     },
     "metadata": {},
     "output_type": "display_data"
    },
    {
     "data": {
      "application/vnd.jupyter.widget-view+json": {
       "model_id": "23c1aa16a4cd45a0b315d20b48035522",
       "version_major": 2,
       "version_minor": 0
      },
      "text/plain": [
       "  0%|          | 0/3 [00:00<?, ?it/s]"
      ]
     },
     "metadata": {},
     "output_type": "display_data"
    },
    {
     "data": {
      "application/vnd.jupyter.widget-view+json": {
       "model_id": "7af50429846344ab9e1ef21196ad7664",
       "version_major": 2,
       "version_minor": 0
      },
      "text/plain": [
       "  0%|          | 0/18 [00:00<?, ?it/s]"
      ]
     },
     "metadata": {},
     "output_type": "display_data"
    },
    {
     "data": {
      "application/vnd.jupyter.widget-view+json": {
       "model_id": "32aab0a2965a4525b1276bae181d8b63",
       "version_major": 2,
       "version_minor": 0
      },
      "text/plain": [
       "  0%|          | 0/6 [00:00<?, ?it/s]"
      ]
     },
     "metadata": {},
     "output_type": "display_data"
    },
    {
     "data": {
      "application/vnd.jupyter.widget-view+json": {
       "model_id": "f02be20449c340e2b88d643a3594abd2",
       "version_major": 2,
       "version_minor": 0
      },
      "text/plain": [
       "  0%|          | 0/22 [00:00<?, ?it/s]"
      ]
     },
     "metadata": {},
     "output_type": "display_data"
    },
    {
     "data": {
      "application/vnd.jupyter.widget-view+json": {
       "model_id": "68202b466b934309ab368a5e7d062f11",
       "version_major": 2,
       "version_minor": 0
      },
      "text/plain": [
       "  0%|          | 0/16 [00:00<?, ?it/s]"
      ]
     },
     "metadata": {},
     "output_type": "display_data"
    },
    {
     "data": {
      "application/vnd.jupyter.widget-view+json": {
       "model_id": "b1f941ac8acd4d4fad50751a6a171234",
       "version_major": 2,
       "version_minor": 0
      },
      "text/plain": [
       "  0%|          | 0/21 [00:00<?, ?it/s]"
      ]
     },
     "metadata": {},
     "output_type": "display_data"
    },
    {
     "data": {
      "application/vnd.jupyter.widget-view+json": {
       "model_id": "2cf63c2b992b4a3d9f55088952e8ae64",
       "version_major": 2,
       "version_minor": 0
      },
      "text/plain": [
       "  0%|          | 0/33 [00:00<?, ?it/s]"
      ]
     },
     "metadata": {},
     "output_type": "display_data"
    },
    {
     "data": {
      "application/vnd.jupyter.widget-view+json": {
       "model_id": "87f44e342b2145cd8aebfae025a0151f",
       "version_major": 2,
       "version_minor": 0
      },
      "text/plain": [
       "  0%|          | 0/37 [00:00<?, ?it/s]"
      ]
     },
     "metadata": {},
     "output_type": "display_data"
    },
    {
     "data": {
      "application/vnd.jupyter.widget-view+json": {
       "model_id": "dc0518af86734cd6a6e3ea40b7f2afda",
       "version_major": 2,
       "version_minor": 0
      },
      "text/plain": [
       "  0%|          | 0/17 [00:00<?, ?it/s]"
      ]
     },
     "metadata": {},
     "output_type": "display_data"
    },
    {
     "data": {
      "application/vnd.jupyter.widget-view+json": {
       "model_id": "35d697f5b628489899a80069de1ad41b",
       "version_major": 2,
       "version_minor": 0
      },
      "text/plain": [
       "  0%|          | 0/34 [00:00<?, ?it/s]"
      ]
     },
     "metadata": {},
     "output_type": "display_data"
    },
    {
     "data": {
      "application/vnd.jupyter.widget-view+json": {
       "model_id": "be8a7fa29c694a1faf37480687a0bb32",
       "version_major": 2,
       "version_minor": 0
      },
      "text/plain": [
       "  0%|          | 0/4 [00:00<?, ?it/s]"
      ]
     },
     "metadata": {},
     "output_type": "display_data"
    },
    {
     "data": {
      "application/vnd.jupyter.widget-view+json": {
       "model_id": "3b4fa5d493734d92930132203de424e0",
       "version_major": 2,
       "version_minor": 0
      },
      "text/plain": [
       "  0%|          | 0/18 [00:00<?, ?it/s]"
      ]
     },
     "metadata": {},
     "output_type": "display_data"
    },
    {
     "data": {
      "application/vnd.jupyter.widget-view+json": {
       "model_id": "602d30a79fe04750aa444e57807a3c8d",
       "version_major": 2,
       "version_minor": 0
      },
      "text/plain": [
       "  0%|          | 0/50 [00:00<?, ?it/s]"
      ]
     },
     "metadata": {},
     "output_type": "display_data"
    },
    {
     "data": {
      "application/vnd.jupyter.widget-view+json": {
       "model_id": "2885a817b6af41a18ebadd49f69751b9",
       "version_major": 2,
       "version_minor": 0
      },
      "text/plain": [
       "  0%|          | 0/106 [00:00<?, ?it/s]"
      ]
     },
     "metadata": {},
     "output_type": "display_data"
    },
    {
     "data": {
      "application/vnd.jupyter.widget-view+json": {
       "model_id": "3d3f3d68fd2041b2a575de1ac235261e",
       "version_major": 2,
       "version_minor": 0
      },
      "text/plain": [
       "  0%|          | 0/18 [00:00<?, ?it/s]"
      ]
     },
     "metadata": {},
     "output_type": "display_data"
    },
    {
     "data": {
      "application/vnd.jupyter.widget-view+json": {
       "model_id": "98257e23dd26409c867b76f3d4e3cb4c",
       "version_major": 2,
       "version_minor": 0
      },
      "text/plain": [
       "  0%|          | 0/5 [00:00<?, ?it/s]"
      ]
     },
     "metadata": {},
     "output_type": "display_data"
    },
    {
     "data": {
      "application/vnd.jupyter.widget-view+json": {
       "model_id": "8dc23540a01c441baedba96a123c8032",
       "version_major": 2,
       "version_minor": 0
      },
      "text/plain": [
       "  0%|          | 0/5 [00:00<?, ?it/s]"
      ]
     },
     "metadata": {},
     "output_type": "display_data"
    },
    {
     "data": {
      "application/vnd.jupyter.widget-view+json": {
       "model_id": "51ae8c1963e441b2bd40860d4d388c32",
       "version_major": 2,
       "version_minor": 0
      },
      "text/plain": [
       "  0%|          | 0/14 [00:00<?, ?it/s]"
      ]
     },
     "metadata": {},
     "output_type": "display_data"
    },
    {
     "data": {
      "application/vnd.jupyter.widget-view+json": {
       "model_id": "238f01bd5c4746b0b837800da4a4b307",
       "version_major": 2,
       "version_minor": 0
      },
      "text/plain": [
       "  0%|          | 0/47 [00:00<?, ?it/s]"
      ]
     },
     "metadata": {},
     "output_type": "display_data"
    },
    {
     "data": {
      "application/vnd.jupyter.widget-view+json": {
       "model_id": "deff843cdf734b919cafb0ee44d914dd",
       "version_major": 2,
       "version_minor": 0
      },
      "text/plain": [
       "  0%|          | 0/4 [00:00<?, ?it/s]"
      ]
     },
     "metadata": {},
     "output_type": "display_data"
    },
    {
     "data": {
      "application/vnd.jupyter.widget-view+json": {
       "model_id": "aa8f1bdb8f7d4daabf88578c2092ae1b",
       "version_major": 2,
       "version_minor": 0
      },
      "text/plain": [
       "  0%|          | 0/4 [00:00<?, ?it/s]"
      ]
     },
     "metadata": {},
     "output_type": "display_data"
    },
    {
     "data": {
      "application/vnd.jupyter.widget-view+json": {
       "model_id": "2d3ae787cc8a44268f4e984d69822fee",
       "version_major": 2,
       "version_minor": 0
      },
      "text/plain": [
       "  0%|          | 0/8 [00:00<?, ?it/s]"
      ]
     },
     "metadata": {},
     "output_type": "display_data"
    },
    {
     "data": {
      "application/vnd.jupyter.widget-view+json": {
       "model_id": "605fee1f5e43412585d1c8e5b773fc49",
       "version_major": 2,
       "version_minor": 0
      },
      "text/plain": [
       "  0%|          | 0/41 [00:00<?, ?it/s]"
      ]
     },
     "metadata": {},
     "output_type": "display_data"
    },
    {
     "data": {
      "application/vnd.jupyter.widget-view+json": {
       "model_id": "92ef95a310aa4ba5af37d0933483d60a",
       "version_major": 2,
       "version_minor": 0
      },
      "text/plain": [
       "  0%|          | 0/37 [00:00<?, ?it/s]"
      ]
     },
     "metadata": {},
     "output_type": "display_data"
    },
    {
     "data": {
      "application/vnd.jupyter.widget-view+json": {
       "model_id": "8b429398886b4c8e92cbcc093e6359f9",
       "version_major": 2,
       "version_minor": 0
      },
      "text/plain": [
       "  0%|          | 0/6 [00:00<?, ?it/s]"
      ]
     },
     "metadata": {},
     "output_type": "display_data"
    },
    {
     "name": "stdout",
     "output_type": "stream",
     "text": [
      "Assigning the old width calculation because no valid new widths\n"
     ]
    },
    {
     "data": {
      "application/vnd.jupyter.widget-view+json": {
       "model_id": "733db9208b754aae8614d4cd109bface",
       "version_major": 2,
       "version_minor": 0
      },
      "text/plain": [
       "  0%|          | 0/9 [00:00<?, ?it/s]"
      ]
     },
     "metadata": {},
     "output_type": "display_data"
    },
    {
     "data": {
      "application/vnd.jupyter.widget-view+json": {
       "model_id": "e3fcb1b226344d06bbcde94c0ae2504f",
       "version_major": 2,
       "version_minor": 0
      },
      "text/plain": [
       "  0%|          | 0/31 [00:00<?, ?it/s]"
      ]
     },
     "metadata": {},
     "output_type": "display_data"
    },
    {
     "data": {
      "application/vnd.jupyter.widget-view+json": {
       "model_id": "83bfdf21227f4f11a23d3ac67cc0876c",
       "version_major": 2,
       "version_minor": 0
      },
      "text/plain": [
       "  0%|          | 0/5 [00:00<?, ?it/s]"
      ]
     },
     "metadata": {},
     "output_type": "display_data"
    },
    {
     "data": {
      "application/vnd.jupyter.widget-view+json": {
       "model_id": "a3545360b76a477eb44c9729918702a6",
       "version_major": 2,
       "version_minor": 0
      },
      "text/plain": [
       "  0%|          | 0/44 [00:00<?, ?it/s]"
      ]
     },
     "metadata": {},
     "output_type": "display_data"
    },
    {
     "data": {
      "application/vnd.jupyter.widget-view+json": {
       "model_id": "032003d257cc46b0bbfd50aaf2cf7702",
       "version_major": 2,
       "version_minor": 0
      },
      "text/plain": [
       "  0%|          | 0/6 [00:00<?, ?it/s]"
      ]
     },
     "metadata": {},
     "output_type": "display_data"
    },
    {
     "data": {
      "application/vnd.jupyter.widget-view+json": {
       "model_id": "d22370789c8e430bbe93158303605656",
       "version_major": 2,
       "version_minor": 0
      },
      "text/plain": [
       "  0%|          | 0/8 [00:00<?, ?it/s]"
      ]
     },
     "metadata": {},
     "output_type": "display_data"
    },
    {
     "data": {
      "application/vnd.jupyter.widget-view+json": {
       "model_id": "1bbb567c80b145f3821ab6145f3ef1df",
       "version_major": 2,
       "version_minor": 0
      },
      "text/plain": [
       "  0%|          | 0/8 [00:00<?, ?it/s]"
      ]
     },
     "metadata": {},
     "output_type": "display_data"
    },
    {
     "data": {
      "application/vnd.jupyter.widget-view+json": {
       "model_id": "26c7753bd76a47f898dc6445ce16299a",
       "version_major": 2,
       "version_minor": 0
      },
      "text/plain": [
       "  0%|          | 0/14 [00:00<?, ?it/s]"
      ]
     },
     "metadata": {},
     "output_type": "display_data"
    },
    {
     "data": {
      "application/vnd.jupyter.widget-view+json": {
       "model_id": "031761da638f460692ed2845da7dca06",
       "version_major": 2,
       "version_minor": 0
      },
      "text/plain": [
       "  0%|          | 0/5 [00:00<?, ?it/s]"
      ]
     },
     "metadata": {},
     "output_type": "display_data"
    },
    {
     "data": {
      "application/vnd.jupyter.widget-view+json": {
       "model_id": "d62a2c1737a8475da15d364109bae22f",
       "version_major": 2,
       "version_minor": 0
      },
      "text/plain": [
       "  0%|          | 0/7 [00:00<?, ?it/s]"
      ]
     },
     "metadata": {},
     "output_type": "display_data"
    },
    {
     "data": {
      "application/vnd.jupyter.widget-view+json": {
       "model_id": "c63874b56f19410cb3d54c96fc569464",
       "version_major": 2,
       "version_minor": 0
      },
      "text/plain": [
       "  0%|          | 0/12 [00:00<?, ?it/s]"
      ]
     },
     "metadata": {},
     "output_type": "display_data"
    },
    {
     "data": {
      "application/vnd.jupyter.widget-view+json": {
       "model_id": "b840b0bf6ed545889ab596020c794954",
       "version_major": 2,
       "version_minor": 0
      },
      "text/plain": [
       "  0%|          | 0/3 [00:00<?, ?it/s]"
      ]
     },
     "metadata": {},
     "output_type": "display_data"
    },
    {
     "data": {
      "application/vnd.jupyter.widget-view+json": {
       "model_id": "c9faac502255496bb67e55a376a924c2",
       "version_major": 2,
       "version_minor": 0
      },
      "text/plain": [
       "  0%|          | 0/103 [00:00<?, ?it/s]"
      ]
     },
     "metadata": {},
     "output_type": "display_data"
    },
    {
     "data": {
      "application/vnd.jupyter.widget-view+json": {
       "model_id": "9cbbb58dddcd4c93bce46488da51e104",
       "version_major": 2,
       "version_minor": 0
      },
      "text/plain": [
       "  0%|          | 0/14 [00:00<?, ?it/s]"
      ]
     },
     "metadata": {},
     "output_type": "display_data"
    },
    {
     "data": {
      "application/vnd.jupyter.widget-view+json": {
       "model_id": "ff3e4e4d37f44050846d55e5233612c2",
       "version_major": 2,
       "version_minor": 0
      },
      "text/plain": [
       "  0%|          | 0/11 [00:00<?, ?it/s]"
      ]
     },
     "metadata": {},
     "output_type": "display_data"
    },
    {
     "data": {
      "application/vnd.jupyter.widget-view+json": {
       "model_id": "b12970a1c0234940b547224340f559f8",
       "version_major": 2,
       "version_minor": 0
      },
      "text/plain": [
       "  0%|          | 0/10 [00:00<?, ?it/s]"
      ]
     },
     "metadata": {},
     "output_type": "display_data"
    },
    {
     "data": {
      "application/vnd.jupyter.widget-view+json": {
       "model_id": "ab9a930dcdfa4693ae615ab9d5320212",
       "version_major": 2,
       "version_minor": 0
      },
      "text/plain": [
       "  0%|          | 0/21 [00:00<?, ?it/s]"
      ]
     },
     "metadata": {},
     "output_type": "display_data"
    },
    {
     "data": {
      "application/vnd.jupyter.widget-view+json": {
       "model_id": "32307bf8b3c64cbeb9e77ec291fd405f",
       "version_major": 2,
       "version_minor": 0
      },
      "text/plain": [
       "  0%|          | 0/3 [00:00<?, ?it/s]"
      ]
     },
     "metadata": {},
     "output_type": "display_data"
    },
    {
     "data": {
      "application/vnd.jupyter.widget-view+json": {
       "model_id": "1e271e99539846d4b8f300b1f7f4af5b",
       "version_major": 2,
       "version_minor": 0
      },
      "text/plain": [
       "  0%|          | 0/19 [00:00<?, ?it/s]"
      ]
     },
     "metadata": {},
     "output_type": "display_data"
    },
    {
     "data": {
      "application/vnd.jupyter.widget-view+json": {
       "model_id": "60b78534454b474da32cce4cb8e7036e",
       "version_major": 2,
       "version_minor": 0
      },
      "text/plain": [
       "  0%|          | 0/27 [00:00<?, ?it/s]"
      ]
     },
     "metadata": {},
     "output_type": "display_data"
    },
    {
     "data": {
      "application/vnd.jupyter.widget-view+json": {
       "model_id": "470403e972b247ea8813ce485d295962",
       "version_major": 2,
       "version_minor": 0
      },
      "text/plain": [
       "  0%|          | 0/7 [00:00<?, ?it/s]"
      ]
     },
     "metadata": {},
     "output_type": "display_data"
    },
    {
     "data": {
      "application/vnd.jupyter.widget-view+json": {
       "model_id": "508e7c7d88be4c53bbb2dd9fc2764d0d",
       "version_major": 2,
       "version_minor": 0
      },
      "text/plain": [
       "  0%|          | 0/10 [00:00<?, ?it/s]"
      ]
     },
     "metadata": {},
     "output_type": "display_data"
    },
    {
     "data": {
      "application/vnd.jupyter.widget-view+json": {
       "model_id": "4021191f659046c79d1c182a2ccb2ba8",
       "version_major": 2,
       "version_minor": 0
      },
      "text/plain": [
       "  0%|          | 0/142 [00:00<?, ?it/s]"
      ]
     },
     "metadata": {},
     "output_type": "display_data"
    },
    {
     "data": {
      "application/vnd.jupyter.widget-view+json": {
       "model_id": "15ff40ed7b2b4c948caf4a381f521840",
       "version_major": 2,
       "version_minor": 0
      },
      "text/plain": [
       "  0%|          | 0/5 [00:00<?, ?it/s]"
      ]
     },
     "metadata": {},
     "output_type": "display_data"
    },
    {
     "data": {
      "application/vnd.jupyter.widget-view+json": {
       "model_id": "27e38fdee66742a9aed689cbe0df6d5b",
       "version_major": 2,
       "version_minor": 0
      },
      "text/plain": [
       "  0%|          | 0/96 [00:00<?, ?it/s]"
      ]
     },
     "metadata": {},
     "output_type": "display_data"
    },
    {
     "data": {
      "application/vnd.jupyter.widget-view+json": {
       "model_id": "076063cfd4a44aabbcb65127d2ea2a0c",
       "version_major": 2,
       "version_minor": 0
      },
      "text/plain": [
       "  0%|          | 0/26 [00:00<?, ?it/s]"
      ]
     },
     "metadata": {},
     "output_type": "display_data"
    },
    {
     "data": {
      "application/vnd.jupyter.widget-view+json": {
       "model_id": "5dadf500c80c444e856bf203385dc9c2",
       "version_major": 2,
       "version_minor": 0
      },
      "text/plain": [
       "  0%|          | 0/50 [00:00<?, ?it/s]"
      ]
     },
     "metadata": {},
     "output_type": "display_data"
    },
    {
     "data": {
      "application/vnd.jupyter.widget-view+json": {
       "model_id": "508b9a5e83df474fbccd47a3e8154983",
       "version_major": 2,
       "version_minor": 0
      },
      "text/plain": [
       "  0%|          | 0/6 [00:00<?, ?it/s]"
      ]
     },
     "metadata": {},
     "output_type": "display_data"
    },
    {
     "data": {
      "application/vnd.jupyter.widget-view+json": {
       "model_id": "ba87cca18e744703bbae7f9b9f936679",
       "version_major": 2,
       "version_minor": 0
      },
      "text/plain": [
       "  0%|          | 0/3 [00:00<?, ?it/s]"
      ]
     },
     "metadata": {},
     "output_type": "display_data"
    },
    {
     "data": {
      "application/vnd.jupyter.widget-view+json": {
       "model_id": "56f700d3365b40aea0a55827e674d676",
       "version_major": 2,
       "version_minor": 0
      },
      "text/plain": [
       "  0%|          | 0/3 [00:00<?, ?it/s]"
      ]
     },
     "metadata": {},
     "output_type": "display_data"
    },
    {
     "data": {
      "application/vnd.jupyter.widget-view+json": {
       "model_id": "56167218330648dcbbf68150850182e9",
       "version_major": 2,
       "version_minor": 0
      },
      "text/plain": [
       "  0%|          | 0/2 [00:00<?, ?it/s]"
      ]
     },
     "metadata": {},
     "output_type": "display_data"
    },
    {
     "data": {
      "application/vnd.jupyter.widget-view+json": {
       "model_id": "0f99bd01f91b40c7a533d3dcf4a138ed",
       "version_major": 2,
       "version_minor": 0
      },
      "text/plain": [
       "  0%|          | 0/2 [00:00<?, ?it/s]"
      ]
     },
     "metadata": {},
     "output_type": "display_data"
    },
    {
     "data": {
      "application/vnd.jupyter.widget-view+json": {
       "model_id": "f03c364554af47ec992c6d507db41588",
       "version_major": 2,
       "version_minor": 0
      },
      "text/plain": [
       "  0%|          | 0/19 [00:00<?, ?it/s]"
      ]
     },
     "metadata": {},
     "output_type": "display_data"
    },
    {
     "data": {
      "application/vnd.jupyter.widget-view+json": {
       "model_id": "df54a8cb36aa4a518b752def6ad50b49",
       "version_major": 2,
       "version_minor": 0
      },
      "text/plain": [
       "  0%|          | 0/4 [00:00<?, ?it/s]"
      ]
     },
     "metadata": {},
     "output_type": "display_data"
    },
    {
     "data": {
      "application/vnd.jupyter.widget-view+json": {
       "model_id": "d0b31493817241b19595343271f4cbab",
       "version_major": 2,
       "version_minor": 0
      },
      "text/plain": [
       "  0%|          | 0/50 [00:00<?, ?it/s]"
      ]
     },
     "metadata": {},
     "output_type": "display_data"
    },
    {
     "data": {
      "application/vnd.jupyter.widget-view+json": {
       "model_id": "cae185eff4cf4ef3b6f55b03221de46b",
       "version_major": 2,
       "version_minor": 0
      },
      "text/plain": [
       "  0%|          | 0/11 [00:00<?, ?it/s]"
      ]
     },
     "metadata": {},
     "output_type": "display_data"
    },
    {
     "data": {
      "application/vnd.jupyter.widget-view+json": {
       "model_id": "997a40073dd24515b45c5b03fd65d362",
       "version_major": 2,
       "version_minor": 0
      },
      "text/plain": [
       "  0%|          | 0/7 [00:00<?, ?it/s]"
      ]
     },
     "metadata": {},
     "output_type": "display_data"
    },
    {
     "data": {
      "application/vnd.jupyter.widget-view+json": {
       "model_id": "ac2792ec1d1848c98f404c4ee274d31b",
       "version_major": 2,
       "version_minor": 0
      },
      "text/plain": [
       "  0%|          | 0/5 [00:00<?, ?it/s]"
      ]
     },
     "metadata": {},
     "output_type": "display_data"
    },
    {
     "data": {
      "application/vnd.jupyter.widget-view+json": {
       "model_id": "a3f9bd8bbfe54621a48c3155772185b5",
       "version_major": 2,
       "version_minor": 0
      },
      "text/plain": [
       "  0%|          | 0/41 [00:00<?, ?it/s]"
      ]
     },
     "metadata": {},
     "output_type": "display_data"
    },
    {
     "data": {
      "application/vnd.jupyter.widget-view+json": {
       "model_id": "56fbc84213d646febc3df4a94f4aa086",
       "version_major": 2,
       "version_minor": 0
      },
      "text/plain": [
       "  0%|          | 0/4 [00:00<?, ?it/s]"
      ]
     },
     "metadata": {},
     "output_type": "display_data"
    },
    {
     "data": {
      "application/vnd.jupyter.widget-view+json": {
       "model_id": "41192c88d0b04aad975d1752fb1c271b",
       "version_major": 2,
       "version_minor": 0
      },
      "text/plain": [
       "  0%|          | 0/12 [00:00<?, ?it/s]"
      ]
     },
     "metadata": {},
     "output_type": "display_data"
    },
    {
     "data": {
      "application/vnd.jupyter.widget-view+json": {
       "model_id": "6dd631f796c7493c855f636fd3a2044a",
       "version_major": 2,
       "version_minor": 0
      },
      "text/plain": [
       "  0%|          | 0/4 [00:00<?, ?it/s]"
      ]
     },
     "metadata": {},
     "output_type": "display_data"
    },
    {
     "data": {
      "application/vnd.jupyter.widget-view+json": {
       "model_id": "b795a21d26a14f1eb99fd2f8fe7854a4",
       "version_major": 2,
       "version_minor": 0
      },
      "text/plain": [
       "  0%|          | 0/10 [00:00<?, ?it/s]"
      ]
     },
     "metadata": {},
     "output_type": "display_data"
    },
    {
     "data": {
      "application/vnd.jupyter.widget-view+json": {
       "model_id": "bfa430b24f724e6d91bb1ec16df47df4",
       "version_major": 2,
       "version_minor": 0
      },
      "text/plain": [
       "  0%|          | 0/7 [00:00<?, ?it/s]"
      ]
     },
     "metadata": {},
     "output_type": "display_data"
    },
    {
     "data": {
      "application/vnd.jupyter.widget-view+json": {
       "model_id": "d4e5b8622c9b4741bceefb7fb51e5b9c",
       "version_major": 2,
       "version_minor": 0
      },
      "text/plain": [
       "  0%|          | 0/12 [00:00<?, ?it/s]"
      ]
     },
     "metadata": {},
     "output_type": "display_data"
    },
    {
     "data": {
      "application/vnd.jupyter.widget-view+json": {
       "model_id": "e592579b25e5479bb741642b9a19d97e",
       "version_major": 2,
       "version_minor": 0
      },
      "text/plain": [
       "  0%|          | 0/9 [00:00<?, ?it/s]"
      ]
     },
     "metadata": {},
     "output_type": "display_data"
    },
    {
     "data": {
      "application/vnd.jupyter.widget-view+json": {
       "model_id": "8b3244ea9764438fa1f07fbc799da975",
       "version_major": 2,
       "version_minor": 0
      },
      "text/plain": [
       "  0%|          | 0/32 [00:00<?, ?it/s]"
      ]
     },
     "metadata": {},
     "output_type": "display_data"
    },
    {
     "data": {
      "application/vnd.jupyter.widget-view+json": {
       "model_id": "39bf589780c94d3a86509eb0fe0585bf",
       "version_major": 2,
       "version_minor": 0
      },
      "text/plain": [
       "  0%|          | 0/4 [00:00<?, ?it/s]"
      ]
     },
     "metadata": {},
     "output_type": "display_data"
    },
    {
     "data": {
      "application/vnd.jupyter.widget-view+json": {
       "model_id": "6a411c4f74454fe88666aee72da4914f",
       "version_major": 2,
       "version_minor": 0
      },
      "text/plain": [
       "  0%|          | 0/17 [00:00<?, ?it/s]"
      ]
     },
     "metadata": {},
     "output_type": "display_data"
    },
    {
     "data": {
      "application/vnd.jupyter.widget-view+json": {
       "model_id": "86e9c7d3d44b43a1b2819cd8fcc413c0",
       "version_major": 2,
       "version_minor": 0
      },
      "text/plain": [
       "  0%|          | 0/26 [00:00<?, ?it/s]"
      ]
     },
     "metadata": {},
     "output_type": "display_data"
    },
    {
     "data": {
      "application/vnd.jupyter.widget-view+json": {
       "model_id": "76c98a468a40407a87b652027e43349c",
       "version_major": 2,
       "version_minor": 0
      },
      "text/plain": [
       "  0%|          | 0/15 [00:00<?, ?it/s]"
      ]
     },
     "metadata": {},
     "output_type": "display_data"
    },
    {
     "data": {
      "application/vnd.jupyter.widget-view+json": {
       "model_id": "26f6cd201bfe46d094068cedecaaaf1f",
       "version_major": 2,
       "version_minor": 0
      },
      "text/plain": [
       "  0%|          | 0/4 [00:00<?, ?it/s]"
      ]
     },
     "metadata": {},
     "output_type": "display_data"
    },
    {
     "data": {
      "application/vnd.jupyter.widget-view+json": {
       "model_id": "6dfa427956bd4eb39740f8e5ab60b86f",
       "version_major": 2,
       "version_minor": 0
      },
      "text/plain": [
       "  0%|          | 0/20 [00:00<?, ?it/s]"
      ]
     },
     "metadata": {},
     "output_type": "display_data"
    },
    {
     "data": {
      "application/vnd.jupyter.widget-view+json": {
       "model_id": "b1c52f045dfd480b9015555399dfa426",
       "version_major": 2,
       "version_minor": 0
      },
      "text/plain": [
       "  0%|          | 0/7 [00:00<?, ?it/s]"
      ]
     },
     "metadata": {},
     "output_type": "display_data"
    },
    {
     "data": {
      "application/vnd.jupyter.widget-view+json": {
       "model_id": "a9829078f0b44486a0ab75e9f61985bb",
       "version_major": 2,
       "version_minor": 0
      },
      "text/plain": [
       "  0%|          | 0/2 [00:00<?, ?it/s]"
      ]
     },
     "metadata": {},
     "output_type": "display_data"
    },
    {
     "data": {
      "application/vnd.jupyter.widget-view+json": {
       "model_id": "93e4f395c3ce417f8ded2345024dfc0b",
       "version_major": 2,
       "version_minor": 0
      },
      "text/plain": [
       "  0%|          | 0/5 [00:00<?, ?it/s]"
      ]
     },
     "metadata": {},
     "output_type": "display_data"
    },
    {
     "data": {
      "application/vnd.jupyter.widget-view+json": {
       "model_id": "4f3f76c912c548fd903a67d1ab52bd4f",
       "version_major": 2,
       "version_minor": 0
      },
      "text/plain": [
       "  0%|          | 0/12 [00:00<?, ?it/s]"
      ]
     },
     "metadata": {},
     "output_type": "display_data"
    },
    {
     "data": {
      "application/vnd.jupyter.widget-view+json": {
       "model_id": "00bc986299be44598e687f3d887e9092",
       "version_major": 2,
       "version_minor": 0
      },
      "text/plain": [
       "  0%|          | 0/2 [00:00<?, ?it/s]"
      ]
     },
     "metadata": {},
     "output_type": "display_data"
    },
    {
     "data": {
      "application/vnd.jupyter.widget-view+json": {
       "model_id": "714633d817254b82b45f5e5e62d2edc6",
       "version_major": 2,
       "version_minor": 0
      },
      "text/plain": [
       "  0%|          | 0/1 [00:00<?, ?it/s]"
      ]
     },
     "metadata": {},
     "output_type": "display_data"
    },
    {
     "data": {
      "application/vnd.jupyter.widget-view+json": {
       "model_id": "5e4ebdae49644af6b6b12988fb3c773a",
       "version_major": 2,
       "version_minor": 0
      },
      "text/plain": [
       "  0%|          | 0/5 [00:00<?, ?it/s]"
      ]
     },
     "metadata": {},
     "output_type": "display_data"
    },
    {
     "data": {
      "application/vnd.jupyter.widget-view+json": {
       "model_id": "bbe13ab4b0bb49eebb085e3fbb8e3566",
       "version_major": 2,
       "version_minor": 0
      },
      "text/plain": [
       "  0%|          | 0/15 [00:00<?, ?it/s]"
      ]
     },
     "metadata": {},
     "output_type": "display_data"
    },
    {
     "data": {
      "application/vnd.jupyter.widget-view+json": {
       "model_id": "f9667fe9bc0b437bae60f86fd27d507b",
       "version_major": 2,
       "version_minor": 0
      },
      "text/plain": [
       "  0%|          | 0/16 [00:00<?, ?it/s]"
      ]
     },
     "metadata": {},
     "output_type": "display_data"
    },
    {
     "data": {
      "application/vnd.jupyter.widget-view+json": {
       "model_id": "f30d910eaeeb4ee88830cf1046eda3be",
       "version_major": 2,
       "version_minor": 0
      },
      "text/plain": [
       "  0%|          | 0/23 [00:00<?, ?it/s]"
      ]
     },
     "metadata": {},
     "output_type": "display_data"
    },
    {
     "data": {
      "application/vnd.jupyter.widget-view+json": {
       "model_id": "70bbf2217e4b463b9e6ddc5e89cd8868",
       "version_major": 2,
       "version_minor": 0
      },
      "text/plain": [
       "  0%|          | 0/31 [00:00<?, ?it/s]"
      ]
     },
     "metadata": {},
     "output_type": "display_data"
    },
    {
     "data": {
      "application/vnd.jupyter.widget-view+json": {
       "model_id": "0bb3ca04375d45799d189c5f0a3733f9",
       "version_major": 2,
       "version_minor": 0
      },
      "text/plain": [
       "  0%|          | 0/32 [00:00<?, ?it/s]"
      ]
     },
     "metadata": {},
     "output_type": "display_data"
    },
    {
     "data": {
      "application/vnd.jupyter.widget-view+json": {
       "model_id": "8dd04b2d5e09439f9d66bd22e866a7ac",
       "version_major": 2,
       "version_minor": 0
      },
      "text/plain": [
       "  0%|          | 0/32 [00:00<?, ?it/s]"
      ]
     },
     "metadata": {},
     "output_type": "display_data"
    },
    {
     "data": {
      "application/vnd.jupyter.widget-view+json": {
       "model_id": "66e232be32474d4aa28f06417ac9254c",
       "version_major": 2,
       "version_minor": 0
      },
      "text/plain": [
       "  0%|          | 0/15 [00:00<?, ?it/s]"
      ]
     },
     "metadata": {},
     "output_type": "display_data"
    },
    {
     "data": {
      "application/vnd.jupyter.widget-view+json": {
       "model_id": "954741289b6b425e91d6328ce1c5fbd8",
       "version_major": 2,
       "version_minor": 0
      },
      "text/plain": [
       "  0%|          | 0/12 [00:00<?, ?it/s]"
      ]
     },
     "metadata": {},
     "output_type": "display_data"
    },
    {
     "data": {
      "application/vnd.jupyter.widget-view+json": {
       "model_id": "6b1c2080b9374c9094614591d8d15a5e",
       "version_major": 2,
       "version_minor": 0
      },
      "text/plain": [
       "  0%|          | 0/9 [00:00<?, ?it/s]"
      ]
     },
     "metadata": {},
     "output_type": "display_data"
    },
    {
     "data": {
      "application/vnd.jupyter.widget-view+json": {
       "model_id": "c1806f6b16da40b6afb00e96db398a39",
       "version_major": 2,
       "version_minor": 0
      },
      "text/plain": [
       "  0%|          | 0/63 [00:00<?, ?it/s]"
      ]
     },
     "metadata": {},
     "output_type": "display_data"
    },
    {
     "data": {
      "application/vnd.jupyter.widget-view+json": {
       "model_id": "30a7402735c147ab93705f692af987e0",
       "version_major": 2,
       "version_minor": 0
      },
      "text/plain": [
       "  0%|          | 0/7 [00:00<?, ?it/s]"
      ]
     },
     "metadata": {},
     "output_type": "display_data"
    },
    {
     "data": {
      "application/vnd.jupyter.widget-view+json": {
       "model_id": "ddce6d62788441e784fca627a693bfd3",
       "version_major": 2,
       "version_minor": 0
      },
      "text/plain": [
       "  0%|          | 0/43 [00:00<?, ?it/s]"
      ]
     },
     "metadata": {},
     "output_type": "display_data"
    },
    {
     "data": {
      "application/vnd.jupyter.widget-view+json": {
       "model_id": "15c5078a152a4f19968f7563fe4d46b6",
       "version_major": 2,
       "version_minor": 0
      },
      "text/plain": [
       "  0%|          | 0/16 [00:00<?, ?it/s]"
      ]
     },
     "metadata": {},
     "output_type": "display_data"
    },
    {
     "data": {
      "application/vnd.jupyter.widget-view+json": {
       "model_id": "efad38ace3034df789327ced24cde8b8",
       "version_major": 2,
       "version_minor": 0
      },
      "text/plain": [
       "  0%|          | 0/18 [00:00<?, ?it/s]"
      ]
     },
     "metadata": {},
     "output_type": "display_data"
    },
    {
     "data": {
      "application/vnd.jupyter.widget-view+json": {
       "model_id": "a326295ada164e3385b59470d6810b8f",
       "version_major": 2,
       "version_minor": 0
      },
      "text/plain": [
       "  0%|          | 0/13 [00:00<?, ?it/s]"
      ]
     },
     "metadata": {},
     "output_type": "display_data"
    },
    {
     "data": {
      "application/vnd.jupyter.widget-view+json": {
       "model_id": "1f9d1de845c84f3eadfb86b86c5e7398",
       "version_major": 2,
       "version_minor": 0
      },
      "text/plain": [
       "  0%|          | 0/31 [00:00<?, ?it/s]"
      ]
     },
     "metadata": {},
     "output_type": "display_data"
    },
    {
     "data": {
      "application/vnd.jupyter.widget-view+json": {
       "model_id": "c43745c753aa412b97cb92e852aa8244",
       "version_major": 2,
       "version_minor": 0
      },
      "text/plain": [
       "  0%|          | 0/54 [00:00<?, ?it/s]"
      ]
     },
     "metadata": {},
     "output_type": "display_data"
    },
    {
     "data": {
      "application/vnd.jupyter.widget-view+json": {
       "model_id": "4b1e0caa0db24fbba1456fc196bbc334",
       "version_major": 2,
       "version_minor": 0
      },
      "text/plain": [
       "  0%|          | 0/16 [00:00<?, ?it/s]"
      ]
     },
     "metadata": {},
     "output_type": "display_data"
    },
    {
     "data": {
      "application/vnd.jupyter.widget-view+json": {
       "model_id": "00dfad22eda84620b0baf1c5f3e6e884",
       "version_major": 2,
       "version_minor": 0
      },
      "text/plain": [
       "  0%|          | 0/24 [00:00<?, ?it/s]"
      ]
     },
     "metadata": {},
     "output_type": "display_data"
    },
    {
     "data": {
      "application/vnd.jupyter.widget-view+json": {
       "model_id": "df248123db4b46f18dad62d4c055dbf8",
       "version_major": 2,
       "version_minor": 0
      },
      "text/plain": [
       "  0%|          | 0/75 [00:00<?, ?it/s]"
      ]
     },
     "metadata": {},
     "output_type": "display_data"
    },
    {
     "data": {
      "application/vnd.jupyter.widget-view+json": {
       "model_id": "3c4a1064635c431f80a1b339c916dbce",
       "version_major": 2,
       "version_minor": 0
      },
      "text/plain": [
       "  0%|          | 0/15 [00:00<?, ?it/s]"
      ]
     },
     "metadata": {},
     "output_type": "display_data"
    },
    {
     "data": {
      "application/vnd.jupyter.widget-view+json": {
       "model_id": "661b073d6ec64dfe9c901a658f6f709c",
       "version_major": 2,
       "version_minor": 0
      },
      "text/plain": [
       "  0%|          | 0/10 [00:00<?, ?it/s]"
      ]
     },
     "metadata": {},
     "output_type": "display_data"
    },
    {
     "data": {
      "application/vnd.jupyter.widget-view+json": {
       "model_id": "53f043cc4d5745caa5cdbc5fca83ffea",
       "version_major": 2,
       "version_minor": 0
      },
      "text/plain": [
       "  0%|          | 0/9 [00:00<?, ?it/s]"
      ]
     },
     "metadata": {},
     "output_type": "display_data"
    },
    {
     "data": {
      "application/vnd.jupyter.widget-view+json": {
       "model_id": "3e148c8fd34f44db8dc970960b18eb11",
       "version_major": 2,
       "version_minor": 0
      },
      "text/plain": [
       "  0%|          | 0/40 [00:00<?, ?it/s]"
      ]
     },
     "metadata": {},
     "output_type": "display_data"
    },
    {
     "data": {
      "application/vnd.jupyter.widget-view+json": {
       "model_id": "40d7669b40ca41b8b01997378fe75ce8",
       "version_major": 2,
       "version_minor": 0
      },
      "text/plain": [
       "  0%|          | 0/8 [00:00<?, ?it/s]"
      ]
     },
     "metadata": {},
     "output_type": "display_data"
    },
    {
     "data": {
      "application/vnd.jupyter.widget-view+json": {
       "model_id": "65dc940304364378a61f24b1c8175f08",
       "version_major": 2,
       "version_minor": 0
      },
      "text/plain": [
       "  0%|          | 0/15 [00:00<?, ?it/s]"
      ]
     },
     "metadata": {},
     "output_type": "display_data"
    },
    {
     "data": {
      "application/vnd.jupyter.widget-view+json": {
       "model_id": "8f233a458e3249b9924198754a186af4",
       "version_major": 2,
       "version_minor": 0
      },
      "text/plain": [
       "  0%|          | 0/76 [00:00<?, ?it/s]"
      ]
     },
     "metadata": {},
     "output_type": "display_data"
    },
    {
     "data": {
      "application/vnd.jupyter.widget-view+json": {
       "model_id": "245f0bbb08fd4b36bc041822b80bc664",
       "version_major": 2,
       "version_minor": 0
      },
      "text/plain": [
       "  0%|          | 0/89 [00:00<?, ?it/s]"
      ]
     },
     "metadata": {},
     "output_type": "display_data"
    },
    {
     "data": {
      "application/vnd.jupyter.widget-view+json": {
       "model_id": "29c8a3d4ebcc4b6fa4465dfb30b8e92d",
       "version_major": 2,
       "version_minor": 0
      },
      "text/plain": [
       "  0%|          | 0/24 [00:00<?, ?it/s]"
      ]
     },
     "metadata": {},
     "output_type": "display_data"
    },
    {
     "data": {
      "application/vnd.jupyter.widget-view+json": {
       "model_id": "806aa019793447ed9fd5d294399d53b9",
       "version_major": 2,
       "version_minor": 0
      },
      "text/plain": [
       "  0%|          | 0/27 [00:00<?, ?it/s]"
      ]
     },
     "metadata": {},
     "output_type": "display_data"
    },
    {
     "data": {
      "application/vnd.jupyter.widget-view+json": {
       "model_id": "a384ce3738ff46e09209ff02673e572c",
       "version_major": 2,
       "version_minor": 0
      },
      "text/plain": [
       "  0%|          | 0/86 [00:00<?, ?it/s]"
      ]
     },
     "metadata": {},
     "output_type": "display_data"
    },
    {
     "data": {
      "application/vnd.jupyter.widget-view+json": {
       "model_id": "b6267b315f814880a868c2ba6dbb34fc",
       "version_major": 2,
       "version_minor": 0
      },
      "text/plain": [
       "  0%|          | 0/31 [00:00<?, ?it/s]"
      ]
     },
     "metadata": {},
     "output_type": "display_data"
    },
    {
     "data": {
      "application/vnd.jupyter.widget-view+json": {
       "model_id": "7e5939209332491a889edc18962a04a4",
       "version_major": 2,
       "version_minor": 0
      },
      "text/plain": [
       "  0%|          | 0/19 [00:00<?, ?it/s]"
      ]
     },
     "metadata": {},
     "output_type": "display_data"
    },
    {
     "data": {
      "application/vnd.jupyter.widget-view+json": {
       "model_id": "3f80ae69796741448484d268fb40d234",
       "version_major": 2,
       "version_minor": 0
      },
      "text/plain": [
       "  0%|          | 0/27 [00:00<?, ?it/s]"
      ]
     },
     "metadata": {},
     "output_type": "display_data"
    },
    {
     "data": {
      "application/vnd.jupyter.widget-view+json": {
       "model_id": "d47be2dc883243e7afe967f663b5c6c5",
       "version_major": 2,
       "version_minor": 0
      },
      "text/plain": [
       "  0%|          | 0/65 [00:00<?, ?it/s]"
      ]
     },
     "metadata": {},
     "output_type": "display_data"
    },
    {
     "data": {
      "application/vnd.jupyter.widget-view+json": {
       "model_id": "8e48ce75e7184e96a26186a0ecd7a52b",
       "version_major": 2,
       "version_minor": 0
      },
      "text/plain": [
       "  0%|          | 0/34 [00:00<?, ?it/s]"
      ]
     },
     "metadata": {},
     "output_type": "display_data"
    },
    {
     "data": {
      "application/vnd.jupyter.widget-view+json": {
       "model_id": "8405904b79a44c7486a56503d09912a6",
       "version_major": 2,
       "version_minor": 0
      },
      "text/plain": [
       "  0%|          | 0/20 [00:00<?, ?it/s]"
      ]
     },
     "metadata": {},
     "output_type": "display_data"
    },
    {
     "data": {
      "application/vnd.jupyter.widget-view+json": {
       "model_id": "535bac6e069d4c089cdb5c8c6f72e1bf",
       "version_major": 2,
       "version_minor": 0
      },
      "text/plain": [
       "  0%|          | 0/20 [00:00<?, ?it/s]"
      ]
     },
     "metadata": {},
     "output_type": "display_data"
    },
    {
     "data": {
      "application/vnd.jupyter.widget-view+json": {
       "model_id": "dbb0e28066514536a60096189c489dbd",
       "version_major": 2,
       "version_minor": 0
      },
      "text/plain": [
       "  0%|          | 0/13 [00:00<?, ?it/s]"
      ]
     },
     "metadata": {},
     "output_type": "display_data"
    },
    {
     "data": {
      "application/vnd.jupyter.widget-view+json": {
       "model_id": "a8804b289c5947a6aaed4409531018bc",
       "version_major": 2,
       "version_minor": 0
      },
      "text/plain": [
       "  0%|          | 0/15 [00:00<?, ?it/s]"
      ]
     },
     "metadata": {},
     "output_type": "display_data"
    },
    {
     "data": {
      "application/vnd.jupyter.widget-view+json": {
       "model_id": "5235dbeb867d405384653e61f00b9fa7",
       "version_major": 2,
       "version_minor": 0
      },
      "text/plain": [
       "  0%|          | 0/49 [00:00<?, ?it/s]"
      ]
     },
     "metadata": {},
     "output_type": "display_data"
    },
    {
     "data": {
      "application/vnd.jupyter.widget-view+json": {
       "model_id": "302bd78d1e8a4f20bfdd06f972a576e9",
       "version_major": 2,
       "version_minor": 0
      },
      "text/plain": [
       "  0%|          | 0/33 [00:00<?, ?it/s]"
      ]
     },
     "metadata": {},
     "output_type": "display_data"
    },
    {
     "data": {
      "application/vnd.jupyter.widget-view+json": {
       "model_id": "7529b8bedb494f2db65277c95baafa42",
       "version_major": 2,
       "version_minor": 0
      },
      "text/plain": [
       "  0%|          | 0/10 [00:00<?, ?it/s]"
      ]
     },
     "metadata": {},
     "output_type": "display_data"
    },
    {
     "data": {
      "application/vnd.jupyter.widget-view+json": {
       "model_id": "13ed69ce6c46482b80a05a47a98874ef",
       "version_major": 2,
       "version_minor": 0
      },
      "text/plain": [
       "  0%|          | 0/28 [00:00<?, ?it/s]"
      ]
     },
     "metadata": {},
     "output_type": "display_data"
    },
    {
     "data": {
      "application/vnd.jupyter.widget-view+json": {
       "model_id": "657b3d9bec4c49a68521c65aa7818918",
       "version_major": 2,
       "version_minor": 0
      },
      "text/plain": [
       "  0%|          | 0/8 [00:00<?, ?it/s]"
      ]
     },
     "metadata": {},
     "output_type": "display_data"
    },
    {
     "data": {
      "application/vnd.jupyter.widget-view+json": {
       "model_id": "75a67521e6834adb9c2fae1075b682a2",
       "version_major": 2,
       "version_minor": 0
      },
      "text/plain": [
       "  0%|          | 0/7 [00:00<?, ?it/s]"
      ]
     },
     "metadata": {},
     "output_type": "display_data"
    },
    {
     "data": {
      "application/vnd.jupyter.widget-view+json": {
       "model_id": "d34f0a6466614a9dafb163358388697f",
       "version_major": 2,
       "version_minor": 0
      },
      "text/plain": [
       "  0%|          | 0/24 [00:00<?, ?it/s]"
      ]
     },
     "metadata": {},
     "output_type": "display_data"
    },
    {
     "data": {
      "application/vnd.jupyter.widget-view+json": {
       "model_id": "aadc86c5fa8441f7a58ae4fedfc18ceb",
       "version_major": 2,
       "version_minor": 0
      },
      "text/plain": [
       "  0%|          | 0/3 [00:00<?, ?it/s]"
      ]
     },
     "metadata": {},
     "output_type": "display_data"
    },
    {
     "data": {
      "application/vnd.jupyter.widget-view+json": {
       "model_id": "c1c1011340c74828afb47334f3bcc92d",
       "version_major": 2,
       "version_minor": 0
      },
      "text/plain": [
       "  0%|          | 0/14 [00:00<?, ?it/s]"
      ]
     },
     "metadata": {},
     "output_type": "display_data"
    },
    {
     "data": {
      "application/vnd.jupyter.widget-view+json": {
       "model_id": "696e8171c6cf44e8ae9707f692e525bd",
       "version_major": 2,
       "version_minor": 0
      },
      "text/plain": [
       "  0%|          | 0/21 [00:00<?, ?it/s]"
      ]
     },
     "metadata": {},
     "output_type": "display_data"
    },
    {
     "data": {
      "application/vnd.jupyter.widget-view+json": {
       "model_id": "fe93804fa4174af3b7c837f99c5bab5c",
       "version_major": 2,
       "version_minor": 0
      },
      "text/plain": [
       "  0%|          | 0/27 [00:00<?, ?it/s]"
      ]
     },
     "metadata": {},
     "output_type": "display_data"
    },
    {
     "data": {
      "application/vnd.jupyter.widget-view+json": {
       "model_id": "fe5dc4f8fed84bf6ba885f463d8faf58",
       "version_major": 2,
       "version_minor": 0
      },
      "text/plain": [
       "  0%|          | 0/19 [00:00<?, ?it/s]"
      ]
     },
     "metadata": {},
     "output_type": "display_data"
    },
    {
     "data": {
      "application/vnd.jupyter.widget-view+json": {
       "model_id": "5666bd2a46a546ed9d0cc6d64bc5a186",
       "version_major": 2,
       "version_minor": 0
      },
      "text/plain": [
       "  0%|          | 0/16 [00:00<?, ?it/s]"
      ]
     },
     "metadata": {},
     "output_type": "display_data"
    },
    {
     "data": {
      "application/vnd.jupyter.widget-view+json": {
       "model_id": "a8f20832f96d4ec1b42154674ea136a8",
       "version_major": 2,
       "version_minor": 0
      },
      "text/plain": [
       "  0%|          | 0/16 [00:00<?, ?it/s]"
      ]
     },
     "metadata": {},
     "output_type": "display_data"
    },
    {
     "data": {
      "application/vnd.jupyter.widget-view+json": {
       "model_id": "a95e57782c0d4b7bb4bf8cc02238dc74",
       "version_major": 2,
       "version_minor": 0
      },
      "text/plain": [
       "  0%|          | 0/22 [00:00<?, ?it/s]"
      ]
     },
     "metadata": {},
     "output_type": "display_data"
    },
    {
     "data": {
      "application/vnd.jupyter.widget-view+json": {
       "model_id": "ea22bbad237840df824661641c90b848",
       "version_major": 2,
       "version_minor": 0
      },
      "text/plain": [
       "  0%|          | 0/34 [00:00<?, ?it/s]"
      ]
     },
     "metadata": {},
     "output_type": "display_data"
    },
    {
     "data": {
      "application/vnd.jupyter.widget-view+json": {
       "model_id": "7269745d07d74874aed2fcc4fe968cd7",
       "version_major": 2,
       "version_minor": 0
      },
      "text/plain": [
       "  0%|          | 0/20 [00:00<?, ?it/s]"
      ]
     },
     "metadata": {},
     "output_type": "display_data"
    },
    {
     "data": {
      "application/vnd.jupyter.widget-view+json": {
       "model_id": "f4f63cdb54b84dc19aa012db44a36253",
       "version_major": 2,
       "version_minor": 0
      },
      "text/plain": [
       "  0%|          | 0/5 [00:00<?, ?it/s]"
      ]
     },
     "metadata": {},
     "output_type": "display_data"
    },
    {
     "data": {
      "application/vnd.jupyter.widget-view+json": {
       "model_id": "fbe2c462205d447880a3567d96595e40",
       "version_major": 2,
       "version_minor": 0
      },
      "text/plain": [
       "  0%|          | 0/23 [00:00<?, ?it/s]"
      ]
     },
     "metadata": {},
     "output_type": "display_data"
    },
    {
     "name": "stdout",
     "output_type": "stream",
     "text": [
      "Synapsse Results:\n",
      "Total Number of Synapses = 2757\n",
      "n_valid_syn_ids_presyn = 166\n",
      "n_errored_syn_ids_presyn = 103\n",
      "n_valid_syn_ids_postsyn = 2457\n",
      "n_errored_syn_ids_postsyn = 31\n",
      "Synapsse Results:\n",
      "Total Number of Synapses = 2757\n",
      "n_valid_syn_ids_presyn = 166\n",
      "n_errored_syn_ids_presyn = 103\n",
      "n_valid_syn_ids_postsyn = 2457\n",
      "n_errored_syn_ids_postsyn = 31\n"
     ]
    },
    {
     "data": {
      "application/vnd.jupyter.widget-view+json": {
       "model_id": "f0eadfd1339243ea993e202795790110",
       "version_major": 2,
       "version_minor": 0
      },
      "text/plain": [
       "  0%|          | 0/26 [00:00<?, ?it/s]"
      ]
     },
     "metadata": {},
     "output_type": "display_data"
    },
    {
     "data": {
      "application/vnd.jupyter.widget-view+json": {
       "model_id": "947164f899e14a2ab7137d75e1443995",
       "version_major": 2,
       "version_minor": 0
      },
      "text/plain": [
       "  0%|          | 0/6 [00:00<?, ?it/s]"
      ]
     },
     "metadata": {},
     "output_type": "display_data"
    },
    {
     "name": "stdout",
     "output_type": "stream",
     "text": [
      "Synapsse Results:\n",
      "Total Number of Synapses = 2757\n",
      "n_valid_syn_ids_presyn = 166\n",
      "n_errored_syn_ids_presyn = 103\n",
      "n_valid_syn_ids_postsyn = 2457\n",
      "n_errored_syn_ids_postsyn = 31\n",
      "Synapsse Results:\n",
      "Total Number of Synapses = 2757\n",
      "n_valid_syn_ids_presyn = 166\n",
      "n_errored_syn_ids_presyn = 103\n",
      "n_valid_syn_ids_postsyn = 2457\n",
      "n_errored_syn_ids_postsyn = 31\n"
     ]
    },
    {
     "data": {
      "application/vnd.jupyter.widget-view+json": {
       "model_id": "141d7bccbbf74c51af2f8112bef1391d",
       "version_major": 2,
       "version_minor": 0
      },
      "text/plain": [
       "  0%|          | 0/26 [00:00<?, ?it/s]"
      ]
     },
     "metadata": {},
     "output_type": "display_data"
    },
    {
     "data": {
      "application/vnd.jupyter.widget-view+json": {
       "model_id": "826f0ef5ff6a4002aa51a3cb2fb1a54a",
       "version_major": 2,
       "version_minor": 0
      },
      "text/plain": [
       "  0%|          | 0/6 [00:00<?, ?it/s]"
      ]
     },
     "metadata": {},
     "output_type": "display_data"
    },
    {
     "name": "stdout",
     "output_type": "stream",
     "text": [
      "\n",
      "\n",
      "len(branch_attr_keys) = 32\n",
      "Saving Neuorn in suppress_output mode...please wait\n",
      "Saved File at location: /mnt/dj-stor01/platinum/minnie65/02/decomposition/864691136175008774_0_25_full_axon\n",
      "Save time = 210.02027940750122\n",
      "\n",
      "\n",
      " ***------ Total time for 864691136175008774 = 1362.3394305706024 ------ ***\n",
      "\n",
      "\n",
      "\n",
      "---- Working on Neuron 864691136333787571 ----\n",
      "Decompressing Neuron in minimal output mode...please wait\n",
      "Dont need spine recalculation\n",
      "Number of Neurons found = 1\n",
      "\n",
      "Part 1: Axon like branchese \n",
      "{'L0': array([ 7, 40, 48, 49]), 'L1': array([ 0,  1,  3,  4,  5,  6,  7,  8,  9, 10, 29]), 'L2': array([ 0,  1,  2,  3,  4,  5,  6,  7,  8,  9, 10, 11, 12, 13]), 'L3': array([3]), 'L5': array([2, 3, 4, 5, 6]), 'L6': array([0])}\n",
      "Limb L0 soma angle: 27.99 \n",
      "Limb L1 soma angle: 84.08 \n",
      "Limb L2 soma angle: 119.3 \n",
      "Limb L3 soma angle: 57.13 \n",
      "Limb L4 soma angle: 103.82 \n",
      "Limb L5 soma angle: 127.91 \n",
      "Limb L6 soma angle: 156.15 \n",
      "Limb L7 soma angle: 103.08 \n",
      "\n",
      "Part 2: possible_axon_limbs = [1, 2, 4, 5, 6, 7]\n",
      "\n",
      "Phase 2: Working on Limb L1\n",
      "nodes_to_eliminate = [13 14 16]\n",
      "\n",
      "Phase 2: Working on Limb L2\n",
      "nodes_to_eliminate = [17]\n",
      "\n",
      "Phase 2: Working on Limb L4\n",
      "nodes_to_eliminate = [4]\n",
      "\n",
      "Phase 2: Working on Limb L5\n",
      "nodes_to_eliminate = [7]\n",
      "\n",
      "Phase 2: Working on Limb L6\n",
      "nodes_to_eliminate = []\n",
      "\n",
      "Phase 2: Working on Limb L7\n",
      "nodes_to_eliminate = []\n",
      "\n",
      "----Working on Limb L1-----\n",
      "No endpoints were eliminated so don't need to add back any candidates\n",
      "\n",
      "----Working on Limb L2-----\n",
      "No endpoints were eliminated so don't need to add back any candidates\n",
      "\n",
      "----Working on Limb L4-----\n",
      "No endpoints were eliminated so don't need to add back any candidates\n",
      "\n",
      "----Working on Limb L5-----\n",
      "No endpoints were eliminated so don't need to add back any candidates\n",
      "\n",
      "----Working on Limb L6-----\n",
      "No nodes were eliminated so don't need to add back any candidates\n",
      "\n",
      "----Working on Limb L7-----\n",
      "No nodes were eliminated so don't need to add back any candidates\n",
      "Final Candidates\n",
      "\n",
      "Limb 1\n",
      "Candidate 0 (pink): array([2])\n",
      "Candidate 1 (crimson): array([11, 12, 15])\n",
      "Candidate 2 (cyan): array([17, 22, 23, 25, 26, 27, 28])\n",
      "Candidate 3 (orange): array([ 0,  1,  3,  4,  5,  6,  7,  8,  9, 10, 18, 19, 20, 21, 24, 29, 30])\n",
      "\n",
      "Limb 2\n",
      "Candidate 0 (sandybrown): array([ 0,  1,  2,  3,  4,  5,  6,  7,  8,  9, 10, 11, 12, 13, 14, 15, 16,\n",
      "       18])\n",
      "Candidate 1 (cyan): array([19, 20, 21, 22, 23])\n",
      "\n",
      "Limb 4\n",
      "Candidate 0 (forestgreen): array([0])\n",
      "Candidate 1 (orange): array([1, 2, 3])\n",
      "\n",
      "Limb 5\n",
      "Candidate 0 (gray): array([0, 1, 2, 3, 4, 5, 6])\n",
      "Candidate 1 (cyan): array([8])\n",
      "\n",
      "Limb 6\n",
      "Candidate 0 (darkslategray): array([0])\n",
      "\n",
      "Limb 7\n",
      "Candidate 0 (darkslategray): array([0, 1, 2, 3, 4, 5])\n",
      "Part 3: axon_subgraph_candidates = {1: [[2], [11, 12, 15], [17, 22, 23, 25, 26, 27, 28], [0, 1, 3, 4, 5, 6, 7, 8, 9, 10, 18, 19, 20, 21, 24, 29, 30]], 2: [[0, 1, 2, 3, 4, 5, 6, 7, 8, 9, 10, 11, 12, 13, 14, 15, 16, 18], [19, 20, 21, 22, 23]], 4: [[0], [1, 2, 3]], 5: [[0, 1, 2, 3, 4, 5, 6], [8]], 6: [[0]], 7: [[0, 1, 2, 3, 4, 5]]}\n",
      "\n",
      "\n",
      " --- Working on limb 1, candidate # 0\n",
      "0 out of 1 branches are axons\n",
      "Axon percentage = 0.0\n",
      "Not adding candidate no axon branches detected \n",
      "\n",
      "\n",
      " --- Working on limb 1, candidate # 1\n",
      "0 out of 3 branches are axons\n",
      "Axon percentage = 0.0\n",
      "Not adding candidate no axon branches detected \n",
      "\n",
      "\n",
      " --- Working on limb 1, candidate # 2\n",
      "0 out of 7 branches are axons\n",
      "Axon percentage = 0.0\n",
      "Not adding candidate no axon branches detected \n",
      "\n",
      "\n",
      " --- Working on limb 1, candidate # 3\n",
      "11 out of 17 branches are axons\n",
      "Axon percentage = 0.6470588235294118\n",
      "curr_axon_angle_threshold = 120\n",
      "candidate_nodes = [ 0  1  3  4  5  6  7  8  9 10 13 16 18 19 20 21 24 29 30]\n",
      "non_axon_branches_on_subgraph = [13 16 18 19 20 21 24 30]\n",
      "endnodes_to_test = []\n",
      "candidate_angles,restr_skels = (None, None)\n",
      "Not adding candidate because no angles (None) passed the threhold 120 \n",
      "\n",
      "\n",
      " --- Working on limb 2, candidate # 0\n",
      "14 out of 18 branches are axons\n",
      "Axon percentage = 0.7777777777777778\n",
      "curr_axon_angle_threshold = 120\n",
      "candidate_nodes = [ 0  1  2  3  4  5  6  7  8  9 10 11 12 13 14 15 16 17 18]\n",
      "non_axon_branches_on_subgraph = [14 15 16 17 18]\n",
      "endnodes_to_test = []\n",
      "candidate_angles,restr_skels = (None, None)\n",
      "Not adding candidate because no angles (None) passed the threhold 120 \n",
      "\n",
      "\n",
      " --- Working on limb 2, candidate # 1\n",
      "0 out of 5 branches are axons\n",
      "Axon percentage = 0.0\n",
      "Not adding candidate no axon branches detected \n",
      "\n",
      "\n",
      " --- Working on limb 4, candidate # 0\n",
      "0 out of 1 branches are axons\n",
      "Axon percentage = 0.0\n",
      "Not adding candidate no axon branches detected \n",
      "\n",
      "\n",
      " --- Working on limb 4, candidate # 1\n",
      "0 out of 3 branches are axons\n",
      "Axon percentage = 0.0\n",
      "Not adding candidate no axon branches detected \n",
      "\n",
      "\n",
      " --- Working on limb 5, candidate # 0\n",
      "5 out of 7 branches are axons\n",
      "Axon percentage = 0.7142857142857143\n",
      "curr_axon_angle_threshold = 120\n",
      "candidate_nodes = [0 1 2 3 4 5 6 7]\n",
      "non_axon_branches_on_subgraph = [0 1 7]\n",
      "endnodes_to_test = []\n",
      "candidate_angles,restr_skels = (None, None)\n",
      "Not adding candidate because no angles (None) passed the threhold 120 \n",
      "\n",
      "\n",
      " --- Working on limb 5, candidate # 1\n",
      "0 out of 1 branches are axons\n",
      "Axon percentage = 0.0\n",
      "Not adding candidate no axon branches detected \n",
      "\n",
      "\n",
      " --- Working on limb 6, candidate # 0\n",
      "1 out of 1 branches are axons\n",
      "Axon percentage = 1.0\n",
      "curr_axon_angle_threshold = 95\n",
      "candidate_nodes = [0]\n",
      "non_axon_branches_on_subgraph = []\n",
      "endnodes_to_test = [240]\n",
      "Skeleton paths distances = [24882.37220957]\n",
      "Filtered indexes = [0]\n",
      "len(filtered_skeletons) = 1\n",
      "sk_angles = [171.97118378]\n",
      "candidate_angles,restr_skels = (array([171.97118378]), [array([[[1184510.,  511241.,  942040.],\n",
      "        [1184550.,  511444.,  942079.]],\n",
      "\n",
      "       [[1184550.,  511444.,  942079.],\n",
      "        [1184600.,  511642.,  942110.]],\n",
      "\n",
      "       [[1184600.,  511642.,  942110.],\n",
      "        [1184630.,  511793.,  942121.]],\n",
      "\n",
      "       [[1184630.,  511793.,  942121.],\n",
      "        [1184660.,  511929.,  942125.]],\n",
      "\n",
      "       [[1184660.,  511929.,  942125.],\n",
      "        [1184710.,  512133.,  942122.]],\n",
      "\n",
      "       [[1184710.,  512133.,  942122.],\n",
      "        [1184760.,  512318.,  942111.]],\n",
      "\n",
      "       [[1184760.,  512318.,  942111.],\n",
      "        [1184830.,  512596.,  942084.]],\n",
      "\n",
      "       [[1184830.,  512596.,  942084.],\n",
      "        [1184870.,  512736.,  942069.]],\n",
      "\n",
      "       [[1184870.,  512736.,  942069.],\n",
      "        [1184900.,  512825.,  942061.]],\n",
      "\n",
      "       [[1184900.,  512825.,  942061.],\n",
      "        [1184920.,  512910.,  942056.]],\n",
      "\n",
      "       [[1184920.,  512910.,  942056.],\n",
      "        [1184930.,  512936.,  942055.]],\n",
      "\n",
      "       [[1184930.,  512936.,  942055.],\n",
      "        [1184970.,  513065.,  942052.]],\n",
      "\n",
      "       [[1184970.,  513065.,  942052.],\n",
      "        [1185000.,  513191.,  942053.]],\n",
      "\n",
      "       [[1185000.,  513191.,  942053.],\n",
      "        [1185040.,  513329.,  942057.]],\n",
      "\n",
      "       [[1185040.,  513329.,  942057.],\n",
      "        [1185090.,  513528.,  942069.]],\n",
      "\n",
      "       [[1185090.,  513528.,  942069.],\n",
      "        [1185120.,  513634.,  942078.]],\n",
      "\n",
      "       [[1185120.,  513634.,  942078.],\n",
      "        [1185140.,  513718.,  942085.]],\n",
      "\n",
      "       [[1185140.,  513718.,  942085.],\n",
      "        [1185170.,  513885.,  942103.]],\n",
      "\n",
      "       [[1185170.,  513885.,  942103.],\n",
      "        [1185210.,  514047.,  942122.]],\n",
      "\n",
      "       [[1185210.,  514047.,  942122.],\n",
      "        [1185260.,  514257.,  942154.]],\n",
      "\n",
      "       [[1185260.,  514257.,  942154.],\n",
      "        [1185290.,  514378.,  942174.]],\n",
      "\n",
      "       [[1185290.,  514378.,  942174.],\n",
      "        [1185320.,  514509.,  942197.]],\n",
      "\n",
      "       [[1185320.,  514509.,  942197.],\n",
      "        [1185350.,  514592.,  942211.]],\n",
      "\n",
      "       [[1185350.,  514592.,  942211.],\n",
      "        [1185380.,  514701.,  942230.]],\n",
      "\n",
      "       [[1185380.,  514701.,  942230.],\n",
      "        [1185400.,  514787.,  942244.]],\n",
      "\n",
      "       [[1185400.,  514787.,  942244.],\n",
      "        [1185430.,  514904.,  942260.]],\n",
      "\n",
      "       [[1185430.,  514904.,  942260.],\n",
      "        [1185460.,  515012.,  942274.]],\n",
      "\n",
      "       [[1185460.,  515012.,  942274.],\n",
      "        [1185480.,  515138.,  942284.]],\n",
      "\n",
      "       [[1185480.,  515138.,  942284.],\n",
      "        [1185490.,  515254.,  942288.]],\n",
      "\n",
      "       [[1185490.,  515254.,  942288.],\n",
      "        [1185490.,  515292.,  942289.]],\n",
      "\n",
      "       [[1185490.,  515292.,  942289.],\n",
      "        [1185490.,  515424.,  942286.]],\n",
      "\n",
      "       [[1185490.,  515424.,  942286.],\n",
      "        [1185470.,  515605.,  942281.]],\n",
      "\n",
      "       [[1185470.,  515605.,  942281.],\n",
      "        [1185470.,  515636.,  942280.]],\n",
      "\n",
      "       [[1185470.,  515636.,  942280.],\n",
      "        [1185450.,  515748.,  942275.]],\n",
      "\n",
      "       [[1185450.,  515748.,  942275.],\n",
      "        [1185420.,  515901.,  942270.]],\n",
      "\n",
      "       [[1185420.,  515901.,  942270.],\n",
      "        [1185400.,  516021.,  942264.]],\n",
      "\n",
      "       [[1185400.,  516021.,  942264.],\n",
      "        [1185380.,  516102.,  942259.]],\n",
      "\n",
      "       [[1185380.,  516102.,  942259.],\n",
      "        [1185340.,  516234.,  942255.]],\n",
      "\n",
      "       [[1185340.,  516234.,  942255.],\n",
      "        [1185290.,  516446.,  942258.]],\n",
      "\n",
      "       [[1185290.,  516446.,  942258.],\n",
      "        [1185270.,  516674.,  942284.]],\n",
      "\n",
      "       [[1185270.,  516674.,  942284.],\n",
      "        [1185280.,  516725.,  942292.]],\n",
      "\n",
      "       [[1185280.,  516725.,  942292.],\n",
      "        [1185300.,  516864.,  942332.]],\n",
      "\n",
      "       [[1185300.,  516864.,  942332.],\n",
      "        [1185310.,  516994.,  942373.]],\n",
      "\n",
      "       [[1185310.,  516994.,  942373.],\n",
      "        [1185330.,  517131.,  942417.]],\n",
      "\n",
      "       [[1185330.,  517131.,  942417.],\n",
      "        [1185340.,  517246.,  942457.]],\n",
      "\n",
      "       [[1185340.,  517246.,  942457.],\n",
      "        [1185390.,  517506.,  942535.]],\n",
      "\n",
      "       [[1185390.,  517506.,  942535.],\n",
      "        [1185430.,  517628.,  942580.]],\n",
      "\n",
      "       [[1185430.,  517628.,  942580.],\n",
      "        [1185480.,  517752.,  942628.]],\n",
      "\n",
      "       [[1185480.,  517752.,  942628.],\n",
      "        [1185550.,  517938.,  942672.]],\n",
      "\n",
      "       [[1185550.,  517938.,  942672.],\n",
      "        [1185610.,  518104.,  942710.]],\n",
      "\n",
      "       [[1185610.,  518104.,  942710.],\n",
      "        [1185640.,  518209.,  942734.]],\n",
      "\n",
      "       [[1185640.,  518209.,  942734.],\n",
      "        [1185680.,  518431.,  942780.]],\n",
      "\n",
      "       [[1185680.,  518431.,  942780.],\n",
      "        [1185690.,  518524.,  942798.]],\n",
      "\n",
      "       [[1185690.,  518524.,  942798.],\n",
      "        [1185700.,  518610.,  942811.]],\n",
      "\n",
      "       [[1185700.,  518610.,  942811.],\n",
      "        [1185710.,  518667.,  942818.]],\n",
      "\n",
      "       [[1185710.,  518667.,  942818.],\n",
      "        [1185710.,  518761.,  942827.]],\n",
      "\n",
      "       [[1185710.,  518761.,  942827.],\n",
      "        [1185710.,  518846.,  942831.]],\n",
      "\n",
      "       [[1185710.,  518846.,  942831.],\n",
      "        [1185710.,  518983.,  942832.]],\n",
      "\n",
      "       [[1185710.,  518983.,  942832.],\n",
      "        [1185710.,  519128.,  942825.]],\n",
      "\n",
      "       [[1185710.,  519128.,  942825.],\n",
      "        [1185710.,  519173.,  942821.]],\n",
      "\n",
      "       [[1185710.,  519173.,  942821.],\n",
      "        [1185710.,  519353.,  942807.]],\n",
      "\n",
      "       [[1185710.,  519353.,  942807.],\n",
      "        [1185720.,  519531.,  942787.]],\n",
      "\n",
      "       [[1185720.,  519531.,  942787.],\n",
      "        [1185730.,  519712.,  942765.]],\n",
      "\n",
      "       [[1185730.,  519712.,  942765.],\n",
      "        [1185760.,  519985.,  942766.]],\n",
      "\n",
      "       [[1185760.,  519985.,  942766.],\n",
      "        [1185770.,  520083.,  942765.]],\n",
      "\n",
      "       [[1185770.,  520083.,  942765.],\n",
      "        [1185780.,  520129.,  942763.]],\n",
      "\n",
      "       [[1185780.,  520129.,  942763.],\n",
      "        [1185790.,  520381.,  942750.]],\n",
      "\n",
      "       [[1185790.,  520381.,  942750.],\n",
      "        [1185790.,  520447.,  942746.]],\n",
      "\n",
      "       [[1185790.,  520447.,  942746.],\n",
      "        [1185800.,  520638.,  942734.]],\n",
      "\n",
      "       [[1185800.,  520638.,  942734.],\n",
      "        [1185800.,  520678.,  942735.]],\n",
      "\n",
      "       [[1185800.,  520678.,  942735.],\n",
      "        [1185780.,  520763.,  942739.]],\n",
      "\n",
      "       [[1185780.,  520763.,  942739.],\n",
      "        [1185750.,  520907.,  942755.]],\n",
      "\n",
      "       [[1185750.,  520907.,  942755.],\n",
      "        [1185690.,  521108.,  942778.]]])])\n",
      "base_final_widths = [504.73618723 444.43699584]\n",
      "overall_ais_width = 273.2096095006989\n",
      "ais_width = 474.5865915361071\n",
      "Adding the following branches as true axons: [0.]\n",
      "curr_soma_angle = 156.15\n",
      "max_axon_angle = 171.97118377578872\n",
      "Changing to a better axon candidate\n",
      "\n",
      "\n",
      " --- Working on limb 7, candidate # 0\n"
     ]
    },
    {
     "name": "stdout",
     "output_type": "stream",
     "text": [
      "0 out of 6 branches are axons\n",
      "Axon percentage = 0.0\n",
      "Not adding candidate no axon branches detected \n",
      "Using the best axon approach\n",
      "Using True\n",
      "Limb L6: Axon branches before dendritic path filter = [0.]\n",
      "Limb L6: Axon branches AFTER dendritic path filter = [0.]\n",
      "\n",
      "\n",
      "Part 4: final_true_axons = {'L6': array([0.])}\n",
      "\n",
      "--- Working on filter 0:\n",
      "function = dendrite_on_axon_merges\n",
      "function __name__ = filter_away_dendrite_on_axon_merges\n",
      "function arguments = {'use_pre_existing_axon_labels': True}\n",
      "\n",
      "\n",
      "\n",
      "\n",
      "\n",
      " ---- Total time for applying filter: 1.2915732860565186 -----\n",
      "Starting axon branch was the starting node so using border vertices and NOT computing upstream branch\n",
      "upstream_node_to_axon_starting_branch = None\n"
     ]
    },
    {
     "name": "stderr",
     "output_type": "stream",
     "text": [
      "\r",
      "  0%|          | 0/1 [00:00<?, ?it/s]"
     ]
    },
    {
     "name": "stdout",
     "output_type": "stream",
     "text": [
      "root_curr = [1184340.   500826.9  940580.1]\n",
      "Time for preparing soma vertices and root: 0.0005447864532470703\n",
      "invalidation_d = 2000\n",
      "cc_vertex_thresh = 10\n"
     ]
    },
    {
     "data": {
      "application/vnd.jupyter.widget-view+json": {
       "model_id": "63e2c80b16d7409cae395d1a4dfc2a31",
       "version_major": 2,
       "version_minor": 0
      },
      "text/plain": [
       "  0%|          | 0/2765 [00:00<?, ?it/s]"
      ]
     },
     "metadata": {},
     "output_type": "display_data"
    },
    {
     "name": "stderr",
     "output_type": "stream",
     "text": [
      "100%|██████████| 1/1 [00:00<00:00,  9.27it/s]\n"
     ]
    },
    {
     "name": "stdout",
     "output_type": "stream",
     "text": [
      "meshparty_segment_size = 100\n",
      "Time for 1st pass MP skeletonization: 0.4026005268096924\n",
      "branches_touching_root = [0]\n",
      "combining close nodes\n",
      "combine_threshold = 1300\n",
      "length of Graph = 369\n",
      "After combining close endpoints max(kept_branches_idx) = 0, len(kept_branches_idx) = 1\n",
      "empty_indices % = 0.0\n",
      " conflict_indices % = 0.0\n"
     ]
    },
    {
     "data": {
      "application/vnd.jupyter.widget-view+json": {
       "model_id": "be1bdbb1cd6b494d936017afdae3cf59",
       "version_major": 2,
       "version_minor": 0
      },
      "text/plain": [
       "0it [00:00, ?it/s]"
      ]
     },
     "metadata": {},
     "output_type": "display_data"
    },
    {
     "name": "stdout",
     "output_type": "stream",
     "text": [
      "AFTER face_lookup_resolved_test\n"
     ]
    },
    {
     "data": {
      "application/vnd.jupyter.widget-view+json": {
       "model_id": "2d35f2204c54439bab22aff0536845e4",
       "version_major": 2,
       "version_minor": 0
      },
      "text/plain": [
       "  0%|          | 0/1 [00:00<?, ?it/s]"
      ]
     },
     "metadata": {},
     "output_type": "display_data"
    },
    {
     "name": "stdout",
     "output_type": "stream",
     "text": [
      "Decomposing first pass: 0.6599705219268799\n",
      "Only Using MeshParty Skeletonization and Mesh Correspondence\n",
      "Another print\n",
      "Divinding into MP and MAP pieces: 0.0001842975616455078\n",
      "Total time for MAP sublimb processing 3.337860107421875e-06\n",
      "---- Working on MP Decomposition #0 ----\n",
      "Using Quicker soma_to_piece_touching_vertices because no MAP and only one sublimb_mesh piece \n",
      "MP filtering soma verts: 0.0002760887145996094\n",
      "Fixing Possible Soma Extension Branch for Sublimb 0\n",
      "Total time for mesh KDTree = 0.24895048141479492\n",
      "sbv[0].reshape(-1,3) = [[1184340.   500826.9  940580.1]]\n",
      "closest_sk_pt_coord BEFORE = [1184131.0232935   500968.60159695  939888.99271591]\n",
      "current_skeleton.shape = (368, 2, 3)\n",
      "node_for_stitch = 0: [1184131.0232935   500968.60159695  939888.99271591]\n",
      "node_for_stitch AFTER = 0: [1184131.0232935   500968.60159695  939888.99271591]\n",
      "possible_node_loc = [  0 236]\n",
      "possible_node_loc AFTER = [  0 236]\n",
      "curr_shortest_path = [0]\n",
      "Current stitch point was a branch or endpoint\n",
      "change_status for create soma extending pieces = False\n",
      "closest_sk_pt_coord AFTER = [1184131.0232935   500968.60159695  939888.99271591]\n",
      "skipping soma 0 because closest skeleton node was already end node\n",
      "endpoints_must_keep = {0: array([[1184131.0232935 ,  500968.60159695,  939888.99271591]])}\n",
      "match_sk_branches = [0]\n",
      "The new branch info was none so skipping \n",
      "\n",
      "No soma extending branch was added for this sublimb even though it had a soma border (means they already existed)\n",
      "MP (because soma touching verts) soma extension add: 0.698638916015625\n",
      "There were not both MAP and MP pieces so skipping the stitch resolving phase\n",
      "Time for decomp of Limb = 1.7771520614624023\n",
      "Number of matching vertices = 23\n",
      "Only one endpoint after filtering away the endpoints that are not on the skeleton\n",
      "Using Distance measure skeletal_distance\n",
      "endpoints_must_keep = [[1184131.0232935   500968.60159695  939888.99271591]]\n",
      "Number of end_nodes BEFORE filtering = 2\n",
      "all_single_nodes_to_eliminate = [0]\n",
      "no small end nodes to get rid of so returning whole skeleton\n",
      "Removed 0 skeletal branches\n"
     ]
    },
    {
     "data": {
      "application/vnd.jupyter.widget-view+json": {
       "model_id": "8c3d6d36f90b425689c20d5e4a38fc68",
       "version_major": 2,
       "version_minor": 0
      },
      "text/plain": [
       "  0%|          | 0/1 [00:00<?, ?it/s]"
      ]
     },
     "metadata": {},
     "output_type": "display_data"
    },
    {
     "name": "stdout",
     "output_type": "stream",
     "text": [
      "5483 5484\n",
      "For marked faces: None\n",
      "empty_indices % = 0.0\n",
      " conflict_indices % = 0.0\n"
     ]
    },
    {
     "data": {
      "application/vnd.jupyter.widget-view+json": {
       "model_id": "26c3b5d886ff4118b7acf4b4cf7404cc",
       "version_major": 2,
       "version_minor": 0
      },
      "text/plain": [
       "0it [00:00, ?it/s]"
      ]
     },
     "metadata": {},
     "output_type": "display_data"
    },
    {
     "name": "stdout",
     "output_type": "stream",
     "text": [
      "AFTER face_lookup_resolved_test\n"
     ]
    },
    {
     "data": {
      "application/vnd.jupyter.widget-view+json": {
       "model_id": "39cd338a1fcb4f048bea71729d4b369f",
       "version_major": 2,
       "version_minor": 0
      },
      "text/plain": [
       "  0%|          | 0/1 [00:00<?, ?it/s]"
      ]
     },
     "metadata": {},
     "output_type": "display_data"
    },
    {
     "name": "stdout",
     "output_type": "stream",
     "text": [
      "Limb Correspondence before stitching = 1\n",
      "Limb Correspondence AFTER stitching = 1\n",
      "Upstream node was None so don't have to adjust\n",
      "concept_network_dict = {0: [<networkx_utils.GraphOrderedEdges object at 0x7f3cd12f6be0>]}\n",
      "\n",
      "\n",
      "----Working on seperate_graph 0----\n",
      "\n",
      "\n",
      "---------Working on soma_idx = 0, soma_group_idx 0, endpt = [1184131.0232935   500968.60159695  939888.99271591]---------\n",
      "Starting_edge inside branches_to_conept = [[1184131.0232935   500968.60159695  939888.99271591]\n",
      " [1185213.66895953  537004.09056514  943775.06771027]]\n",
      "Done generating concept network \n",
      "\n",
      "\n",
      "Synapsse Results:\n",
      "Total Number of Synapses = 5846\n",
      "n_valid_syn_ids_presyn = 0\n",
      "n_errored_syn_ids_presyn = 235\n",
      "n_valid_syn_ids_postsyn = 5601\n",
      "n_errored_syn_ids_postsyn = 10\n",
      "Synapsse Results:\n",
      "Total Number of Synapses = 5846\n",
      "n_valid_syn_ids_presyn = 0\n",
      "n_errored_syn_ids_presyn = 235\n",
      "n_valid_syn_ids_postsyn = 5601\n",
      "n_errored_syn_ids_postsyn = 10\n"
     ]
    },
    {
     "data": {
      "application/vnd.jupyter.widget-view+json": {
       "model_id": "6b226e21a6ce4427976e7184553dd788",
       "version_major": 2,
       "version_minor": 0
      },
      "text/plain": [
       "0it [00:00, ?it/s]"
      ]
     },
     "metadata": {},
     "output_type": "display_data"
    },
    {
     "data": {
      "application/vnd.jupyter.widget-view+json": {
       "model_id": "c64b346591554cfbaa9b35a6c0e54abc",
       "version_major": 2,
       "version_minor": 0
      },
      "text/plain": [
       "0it [00:00, ?it/s]"
      ]
     },
     "metadata": {},
     "output_type": "display_data"
    },
    {
     "name": "stdout",
     "output_type": "stream",
     "text": [
      "Synapsse Results:\n",
      "Total Number of Synapses = 5846\n",
      "n_valid_syn_ids_presyn = 0\n",
      "n_errored_syn_ids_presyn = 235\n",
      "n_valid_syn_ids_postsyn = 5601\n",
      "n_errored_syn_ids_postsyn = 10\n",
      "Synapsse Results:\n",
      "Total Number of Synapses = 5846\n",
      "n_valid_syn_ids_presyn = 0\n",
      "n_errored_syn_ids_presyn = 235\n",
      "n_valid_syn_ids_postsyn = 5601\n",
      "n_errored_syn_ids_postsyn = 10\n"
     ]
    },
    {
     "data": {
      "application/vnd.jupyter.widget-view+json": {
       "model_id": "8facd7b6a1694de39eb58ca84c6b739d",
       "version_major": 2,
       "version_minor": 0
      },
      "text/plain": [
       "0it [00:00, ?it/s]"
      ]
     },
     "metadata": {},
     "output_type": "display_data"
    },
    {
     "data": {
      "application/vnd.jupyter.widget-view+json": {
       "model_id": "d7d7d9cda4744f6aa2238ee6ac72e208",
       "version_major": 2,
       "version_minor": 0
      },
      "text/plain": [
       "0it [00:00, ?it/s]"
      ]
     },
     "metadata": {},
     "output_type": "display_data"
    },
    {
     "name": "stdout",
     "output_type": "stream",
     "text": [
      "\n",
      "\n",
      "len(branch_attr_keys) = 0\n",
      "Saving Neuorn in suppress_output mode...please wait\n",
      "Saved File at location: /mnt/dj-stor01/platinum/minnie65/02/decomposition/864691136333787571_0_25_soma_0_split_full_axon\n",
      "Save time = 321.8059461116791\n",
      "\n",
      "\n",
      "\n",
      "---- Working on Neuron 864691136201041854 ----\n",
      "Decompressing Neuron in minimal output mode...please wait\n",
      "Pulled from Table Decomposition so setting split_index = 0\n",
      "Dont need spine recalculation\n",
      "Number of Neurons found = 1\n",
      "\n",
      "Part 1: Axon like branchese \n",
      "{'L0': array([2, 3, 9]), 'L2': array([9]), 'L6': array([ 0,  1,  2,  3,  4,  5,  6,  7,  8,  9, 10, 11, 12, 13, 14, 15, 16]), 'L7': array([3])}\n",
      "Limb L0 soma angle: 21.82 \n",
      "Limb L1 soma angle: 106.15 \n",
      "Limb L2 soma angle: 115.63 \n",
      "Limb L3 soma angle: 98.95 \n",
      "Limb L4 soma angle: 67.11 \n",
      "Limb L5 soma angle: 85.28 \n",
      "Limb L6 soma angle: 158.63 \n",
      "Limb L7 soma angle: 79.98 \n",
      "Limb L8 soma angle: 128.19 \n",
      "Limb L9 soma angle: 76.94 \n",
      "\n",
      "Part 2: possible_axon_limbs = [1, 2, 3, 5, 6, 7, 8, 9]\n",
      "\n",
      "Phase 2: Working on Limb L1\n",
      "nodes_to_eliminate = [4]\n",
      "\n",
      "Phase 2: Working on Limb L2\n",
      "nodes_to_eliminate = [0 2]\n",
      "\n",
      "Phase 2: Working on Limb L3\n",
      "nodes_to_eliminate = [4]\n",
      "\n",
      "Phase 2: Working on Limb L5\n",
      "nodes_to_eliminate = []\n",
      "\n",
      "Phase 2: Working on Limb L6\n",
      "nodes_to_eliminate = []\n",
      "\n",
      "Phase 2: Working on Limb L7\n",
      "nodes_to_eliminate = []\n",
      "\n",
      "Phase 2: Working on Limb L8\n",
      "nodes_to_eliminate = []\n",
      "\n",
      "Phase 2: Working on Limb L9\n",
      "nodes_to_eliminate = []\n",
      "\n",
      "----Working on Limb L1-----\n",
      "No endpoints were eliminated so don't need to add back any candidates\n",
      "\n",
      "----Working on Limb L2-----\n",
      "No endpoints were eliminated so don't need to add back any candidates\n",
      "\n",
      "----Working on Limb L3-----\n",
      "No endpoints were eliminated so don't need to add back any candidates\n",
      "\n",
      "----Working on Limb L5-----\n",
      "No nodes were eliminated so don't need to add back any candidates\n",
      "\n",
      "----Working on Limb L6-----\n",
      "No nodes were eliminated so don't need to add back any candidates\n",
      "\n",
      "----Working on Limb L7-----\n",
      "No nodes were eliminated so don't need to add back any candidates\n",
      "\n",
      "----Working on Limb L8-----\n",
      "No nodes were eliminated so don't need to add back any candidates\n",
      "\n",
      "----Working on Limb L9-----\n",
      "No nodes were eliminated so don't need to add back any candidates\n",
      "Final Candidates\n",
      "\n",
      "Limb 1\n",
      "Candidate 0 (darkslategray): array([0, 1, 2, 3, 5, 6, 7])\n",
      "Candidate 1 (magenta): array([8])\n",
      "\n",
      "Limb 2\n",
      "Candidate 0 (palegreen): array([ 1,  9, 10, 11, 12])\n",
      "Candidate 1 (brown): array([3, 5, 6])\n",
      "Candidate 2 (crimson): array([8, 4, 7])\n",
      "\n",
      "Limb 3\n",
      "Candidate 0 (palegreen): array([1])\n",
      "Candidate 1 (blue): array([0, 2, 3])\n",
      "\n",
      "Limb 5\n",
      "Candidate 0 (olive): array([0, 1, 2, 3, 4])\n",
      "\n",
      "Limb 6\n",
      "Candidate 0 (green): array([ 0,  1,  2,  3,  4,  5,  6,  7,  8,  9, 10, 11, 12, 13, 14, 15, 16])\n",
      "\n",
      "Limb 7\n",
      "Candidate 0 (sandybrown): array([0, 1, 2, 3, 4, 5, 6])\n",
      "\n",
      "Limb 8\n",
      "Candidate 0 (gold): array([0])\n",
      "\n",
      "Limb 9\n",
      "Candidate 0 (orange): array([0])\n",
      "Part 3: axon_subgraph_candidates = {1: [[0, 1, 2, 3, 5, 6, 7], [8]], 2: [[1, 9, 10, 11, 12], [3, 5, 6], [8, 4, 7]], 3: [[1], [0, 2, 3]], 5: [[0, 1, 2, 3, 4]], 6: [[0, 1, 2, 3, 4, 5, 6, 7, 8, 9, 10, 11, 12, 13, 14, 15, 16]], 7: [[0, 1, 2, 3, 4, 5, 6]], 8: [[0]], 9: [[0]]}\n",
      "\n",
      "\n",
      " --- Working on limb 1, candidate # 0\n",
      "0 out of 7 branches are axons\n",
      "Axon percentage = 0.0\n",
      "Not adding candidate no axon branches detected \n",
      "\n",
      "\n",
      " --- Working on limb 1, candidate # 1\n",
      "0 out of 1 branches are axons\n",
      "Axon percentage = 0.0\n",
      "Not adding candidate no axon branches detected \n",
      "\n",
      "\n",
      " --- Working on limb 2, candidate # 0\n",
      "1 out of 5 branches are axons\n",
      "Axon percentage = 0.2\n",
      "curr_axon_angle_threshold = 120\n",
      "candidate_nodes = [ 0  1  9 10 11 12]\n",
      "non_axon_branches_on_subgraph = [ 0  1 10 11 12]\n",
      "endnodes_to_test = []\n",
      "candidate_angles,restr_skels = (None, None)\n",
      "Not adding candidate because no angles (None) passed the threhold 120 \n",
      "\n",
      "\n",
      " --- Working on limb 2, candidate # 1\n",
      "0 out of 3 branches are axons\n",
      "Axon percentage = 0.0\n",
      "Not adding candidate no axon branches detected \n",
      "\n",
      "\n",
      " --- Working on limb 2, candidate # 2\n",
      "0 out of 3 branches are axons\n",
      "Axon percentage = 0.0\n",
      "Not adding candidate no axon branches detected \n",
      "\n",
      "\n",
      " --- Working on limb 3, candidate # 0\n",
      "0 out of 1 branches are axons\n",
      "Axon percentage = 0.0\n",
      "Not adding candidate no axon branches detected \n",
      "\n",
      "\n",
      " --- Working on limb 3, candidate # 1\n",
      "0 out of 3 branches are axons\n",
      "Axon percentage = 0.0\n",
      "Not adding candidate no axon branches detected \n",
      "\n",
      "\n",
      " --- Working on limb 5, candidate # 0\n",
      "0 out of 5 branches are axons\n",
      "Axon percentage = 0.0\n",
      "Not adding candidate no axon branches detected \n",
      "\n",
      "\n",
      " --- Working on limb 6, candidate # 0\n",
      "17 out of 17 branches are axons\n",
      "Axon percentage = 1.0\n",
      "curr_axon_angle_threshold = 95\n",
      "candidate_nodes = [ 0  1  2  3  4  5  6  7  8  9 10 11 12 13 14 15 16]\n",
      "non_axon_branches_on_subgraph = []\n",
      "endnodes_to_test = [3644]\n",
      "Skeleton paths distances = [24999.89053401]\n",
      "Filtered indexes = [0]\n",
      "len(filtered_skeletons) = 1\n",
      "sk_angles = [175.43074044]\n",
      "candidate_angles,restr_skels = (array([175.43074044]), [array([[[1375533.45604339,  522503.87198662,  762747.97751286],\n",
      "        [1375543.22579978,  522601.00125055,  762726.28754605]],\n",
      "\n",
      "       [[1375543.22579978,  522601.00125055,  762726.28754605],\n",
      "        [1375552.41428081,  522698.21526038,  762704.72360596]],\n",
      "\n",
      "       [[1375552.41428081,  522698.21526038,  762704.72360596],\n",
      "        [1375561.23229985,  522795.59211435,  762683.74805984]],\n",
      "\n",
      "       [[1375561.23229985,  522795.59211435,  762683.74805984],\n",
      "        [1375569.33949161,  522893.26774454,  762663.90574004]],\n",
      "\n",
      "       [[1375569.33949161,  522893.26774454,  762663.90574004],\n",
      "        [1375576.61569903,  522991.29116424,  762645.50926397]],\n",
      "\n",
      "       [[1375576.61569903,  522991.29116424,  762645.50926397],\n",
      "        [1375582.93677934,  523089.6779076 ,  762628.77541744]],\n",
      "\n",
      "       [[1375582.93677934,  523089.6779076 ,  762628.77541744],\n",
      "        [1375587.85654042,  523188.5074444 ,  762614.33677157]],\n",
      "\n",
      "       [[1375587.85654042,  523188.5074444 ,  762614.33677157],\n",
      "        [1375591.66553832,  523287.63450834,  762601.71898715]],\n",
      "\n",
      "       [[1375591.66553832,  523287.63450834,  762601.71898715],\n",
      "        [1375593.67977591,  523387.12859611,  762591.87893139]],\n",
      "\n",
      "       [[1375593.67977591,  523387.12859611,  762591.87893139],\n",
      "        [1375594.56063919,  523486.79696454,  762583.79569171]],\n",
      "\n",
      "       [[1375594.56063919,  523486.79696454,  762583.79569171],\n",
      "        [1375593.66768415,  523586.64512128,  762578.36347468]],\n",
      "\n",
      "       [[1375593.66768415,  523586.64512128,  762578.36347468],\n",
      "        [1375591.6710694 ,  523686.55342471,  762574.58378882]],\n",
      "\n",
      "       [[1375591.6710694 ,  523686.55342471,  762574.58378882],\n",
      "        [1375588.32406492,  523786.48117213,  762572.79328663]],\n",
      "\n",
      "       [[1375588.32406492,  523786.48117213,  762572.79328663],\n",
      "        [1375583.91005531,  523886.38338145,  762572.5775796 ]],\n",
      "\n",
      "       [[1375583.91005531,  523886.38338145,  762572.5775796 ],\n",
      "        [1375578.75419032,  523986.24606391,  762573.48937321]],\n",
      "\n",
      "       [[1375578.75419032,  523986.24606391,  762573.48937321],\n",
      "        [1375572.66576219,  524086.03328744,  762575.8215079 ]],\n",
      "\n",
      "       [[1375572.66576219,  524086.03328744,  762575.8215079 ],\n",
      "        [1375566.37415905,  524185.79711644,  762578.5746647 ]],\n",
      "\n",
      "       [[1375566.37415905,  524185.79711644,  762578.5746647 ],\n",
      "        [1375559.58365449,  524285.49423288,  762582.36596389]],\n",
      "\n",
      "       [[1375559.58365449,  524285.49423288,  762582.36596389],\n",
      "        [1375552.85967562,  524385.19366159,  762586.21407415]],\n",
      "\n",
      "       [[1375552.85967562,  524385.19366159,  762586.21407415],\n",
      "        [1375546.60647287,  524484.90798953,  762590.45084868]],\n",
      "\n",
      "       [[1375546.60647287,  524484.90798953,  762590.45084868],\n",
      "        [1375540.37645956,  524584.62368063,  762594.6841261 ]],\n",
      "\n",
      "       [[1375540.37645956,  524584.62368063,  762594.6841261 ],\n",
      "        [1375536.17346055,  524684.460454  ,  762598.55109489]],\n",
      "\n",
      "       [[1375536.17346055,  524684.460454  ,  762598.55109489],\n",
      "        [1375532.06489165,  524784.30117465,  762602.39904165]],\n",
      "\n",
      "       [[1375532.06489165,  524784.30117465,  762602.39904165],\n",
      "        [1375531.43390131,  524884.25272292,  762605.44656187]],\n",
      "\n",
      "       [[1375531.43390131,  524884.25272292,  762605.44656187],\n",
      "        [1375531.31529439,  524984.20810721,  762608.37879664]],\n",
      "\n",
      "       [[1375531.31529439,  524984.20810721,  762608.37879664],\n",
      "        [1375536.31256527,  525084.06289884,  762610.38882092]],\n",
      "\n",
      "       [[1375536.31256527,  525084.06289884,  762610.38882092],\n",
      "        [1375542.19265321,  525183.86963883,  762612.24506271]],\n",
      "\n",
      "       [[1375542.19265321,  525183.86963883,  762612.24506271],\n",
      "        [1375555.14789765,  525283.02071199,  762613.34750253]],\n",
      "\n",
      "       [[1375555.14789765,  525283.02071199,  762613.34750253],\n",
      "        [1375569.15812491,  525382.0245945 ,  762614.3722796 ]],\n",
      "\n",
      "       [[1375569.15812491,  525382.0245945 ,  762614.3722796 ],\n",
      "        [1375591.73007026,  525479.44003068,  762615.20750896]],\n",
      "\n",
      "       [[1375591.73007026,  525479.44003068,  762615.20750896],\n",
      "        [1375616.21583932,  525576.38749078,  762616.18563039]],\n",
      "\n",
      "       [[1375616.21583932,  525576.38749078,  762616.18563039],\n",
      "        [1375647.93227318,  525671.21145406,  762617.71669965]],\n",
      "\n",
      "       [[1375647.93227318,  525671.21145406,  762617.71669965],\n",
      "        [1375682.84553921,  525764.89167158,  762619.89306392]],\n",
      "\n",
      "       [[1375682.84553921,  525764.89167158,  762619.89306392],\n",
      "        [1375722.62606867,  525856.58238935,  762623.0734832 ]],\n",
      "\n",
      "       [[1375722.62606867,  525856.58238935,  762623.0734832 ],\n",
      "        [1375765.90652444,  525946.61257692,  762627.68507885]],\n",
      "\n",
      "       [[1375765.90652444,  525946.61257692,  762627.68507885],\n",
      "        [1375811.58658568,  526035.39071921,  762633.30747448]],\n",
      "\n",
      "       [[1375811.58658568,  526035.39071921,  762633.30747448],\n",
      "        [1375859.65791389,  526122.72107086,  762641.21606253]],\n",
      "\n",
      "       [[1375859.65791389,  526122.72107086,  762641.21606253],\n",
      "        [1375908.33355226,  526209.65421271,  762649.77198827]],\n",
      "\n",
      "       [[1375908.33355226,  526209.65421271,  762649.77198827],\n",
      "        [1375956.74500597,  526296.40199445,  762661.22351901]],\n",
      "\n",
      "       [[1375956.74500597,  526296.40199445,  762661.22351901],\n",
      "        [1376004.25595149,  526383.56370224,  762673.28127881]],\n",
      "\n",
      "       [[1376004.25595149,  526383.56370224,  762673.28127881],\n",
      "        [1376048.97927686,  526471.92115799,  762687.15946133]],\n",
      "\n",
      "       [[1376048.97927686,  526471.92115799,  762687.15946133],\n",
      "        [1376090.31514219,  526561.81189894,  762701.67954247]],\n",
      "\n",
      "       [[1376090.31514219,  526561.81189894,  762701.67954247],\n",
      "        [1376128.28631951,  526653.07692668,  762716.78490956]],\n",
      "\n",
      "       [[1376128.28631951,  526653.07692668,  762716.78490956],\n",
      "        [1376159.3637737 ,  526746.98078273,  762731.48703848]],\n",
      "\n",
      "       [[1376159.3637737 ,  526746.98078273,  762731.48703848],\n",
      "        [1376187.6920946 ,  526841.80604024,  762745.79571853]],\n",
      "\n",
      "       [[1376187.6920946 ,  526841.80604024,  762745.79571853],\n",
      "        [1376208.19461599,  526938.91978349,  762757.97836036]],\n",
      "\n",
      "       [[1376208.19461599,  526938.91978349,  762757.97836036],\n",
      "        [1376225.73038483,  527036.78891996,  762768.64516946]],\n",
      "\n",
      "       [[1376225.73038483,  527036.78891996,  762768.64516946],\n",
      "        [1376238.78273122,  527135.57939177,  762777.0009716 ]],\n",
      "\n",
      "       [[1376238.78273122,  527135.57939177,  762777.0009716 ],\n",
      "        [1376248.4903864 ,  527234.95102341,  762782.56490255]],\n",
      "\n",
      "       [[1376248.4903864 ,  527234.95102341,  762782.56490255],\n",
      "        [1376256.28413815,  527334.56728234,  762786.51470214]],\n",
      "\n",
      "       [[1376256.28413815,  527334.56728234,  762786.51470214],\n",
      "        [1376261.40701002,  527434.43438116,  762787.06865433]],\n",
      "\n",
      "       [[1376261.40701002,  527434.43438116,  762787.06865433],\n",
      "        [1376265.93377118,  527534.33071324,  762786.85208296]],\n",
      "\n",
      "       [[1376265.93377118,  527534.33071324,  762786.85208296],\n",
      "        [1376268.65990439,  527634.23675466,  762783.48309824]],\n",
      "\n",
      "       [[1376268.65990439,  527634.23675466,  762783.48309824],\n",
      "        [1376271.24146871,  527734.13683969,  762779.84647111]],\n",
      "\n",
      "       [[1376271.24146871,  527734.13683969,  762779.84647111],\n",
      "        [1376272.75557402,  527833.9562267 ,  762774.03292842]],\n",
      "\n",
      "       [[1376272.75557402,  527833.9562267 ,  762774.03292842],\n",
      "        [1376274.215238  ,  527933.7693838 ,  762768.10132359]],\n",
      "\n",
      "       [[1376274.215238  ,  527933.7693838 ,  762768.10132359],\n",
      "        [1376275.19307128,  528033.52090201,  762761.12432989]],\n",
      "\n",
      "       [[1376275.19307128,  528033.52090201,  762761.12432989],\n",
      "        [1376276.19130823,  528133.27027495,  762754.11964064]],\n",
      "\n",
      "       [[1376276.19130823,  528133.27027495,  762754.11964064],\n",
      "        [1376277.29753489,  528233.00867177,  762746.97630626]],\n",
      "\n",
      "       [[1376277.29753489,  528233.00867177,  762746.97630626],\n",
      "        [1376278.65560394,  528332.75579225,  762740.00086743]],\n",
      "\n",
      "       [[1376278.65560394,  528332.75579225,  762740.00086743],\n",
      "        [1376280.73778562,  528432.52305167,  762733.50882321]],\n",
      "\n",
      "       [[1376280.73778562,  528432.52305167,  762733.50882321],\n",
      "        [1376283.57030064,  528532.30409515,  762727.5342625 ]],\n",
      "\n",
      "       [[1376283.57030064,  528532.30409515,  762727.5342625 ],\n",
      "        [1376287.48495575,  528632.0904166 ,  762722.30741446]],\n",
      "\n",
      "       [[1376287.48495575,  528632.0904166 ,  762722.30741446],\n",
      "        [1376292.83689521,  528731.85790154,  762718.08959872]],\n",
      "\n",
      "       [[1376292.83689521,  528731.85790154,  762718.08959872],\n",
      "        [1376299.04890348,  528831.59908136,  762714.48001336]],\n",
      "\n",
      "       [[1376299.04890348,  528831.59908136,  762714.48001336],\n",
      "        [1376307.02857334,  528931.25664151,  762712.31404271]],\n",
      "\n",
      "       [[1376307.02857334,  528931.25664151,  762712.31404271],\n",
      "        [1376315.34179985,  529030.89508743,  762710.56603998]],\n",
      "\n",
      "       [[1376315.34179985,  529030.89508743,  762710.56603998],\n",
      "        [1376324.14188245,  529130.5029983 ,  762709.66440048]],\n",
      "\n",
      "       [[1376324.14188245,  529130.5029983 ,  762709.66440048],\n",
      "        [1376332.15607586,  529230.17829739,  762708.88793684]],\n",
      "\n",
      "       [[1376332.15607586,  529230.17829739,  762708.88793684],\n",
      "        [1376339.58626611,  529329.89843943,  762708.17984937]],\n",
      "\n",
      "       [[1376339.58626611,  529329.89843943,  762708.17984937],\n",
      "        [1376343.70550913,  529429.79915374,  762706.50031719]],\n",
      "\n",
      "       [[1376343.70550913,  529429.79915374,  762706.50031719],\n",
      "        [1376346.00530235,  529529.74121606,  762704.03720223]],\n",
      "\n",
      "       [[1376346.00530235,  529529.74121606,  762704.03720223],\n",
      "        [1376344.77612949,  529629.65097315,  762700.00985935]],\n",
      "\n",
      "       [[1376344.77612949,  529629.65097315,  762700.00985935],\n",
      "        [1376339.65193117,  529729.32972006,  762693.8610225 ]],\n",
      "\n",
      "       [[1376339.65193117,  529729.32972006,  762693.8610225 ],\n",
      "        [1376332.46586141,  529828.8020379 ,  762686.584022  ]],\n",
      "\n",
      "       [[1376332.46586141,  529828.8020379 ,  762686.584022  ],\n",
      "        [1376319.87563205,  529927.43174762,  762675.92431784]],\n",
      "\n",
      "       [[1376319.87563205,  529927.43174762,  762675.92431784],\n",
      "        [1376305.99497834,  530025.78953826,  762664.39976585]],\n",
      "\n",
      "       [[1376305.99497834,  530025.78953826,  762664.39976585],\n",
      "        [1376288.87147411,  530123.35360153,  762650.68852083]],\n",
      "\n",
      "       [[1376288.87147411,  530123.35360153,  762650.68852083],\n",
      "        [1376270.42897462,  530220.55535194,  762636.14027436]],\n",
      "\n",
      "       [[1376270.42897462,  530220.55535194,  762636.14027436],\n",
      "        [1376250.66586651,  530317.36904792,  762620.76093014]],\n",
      "\n",
      "       [[1376250.66586651,  530317.36904792,  762620.76093014],\n",
      "        [1376230.4458318 ,  530414.09747278,  762605.43900362]],\n",
      "\n",
      "       [[1376230.4458318 ,  530414.09747278,  762605.43900362],\n",
      "        [1376210.06602252,  530510.80061207,  762590.17209631]],\n",
      "\n",
      "       [[1376210.06602252,  530510.80061207,  762590.17209631],\n",
      "        [1376191.04248611,  530608.04302822,  762576.68120428]],\n",
      "\n",
      "       [[1376191.04248611,  530608.04302822,  762576.68120428],\n",
      "        [1376172.67687132,  530705.50095305,  762563.86222102]],\n",
      "\n",
      "       [[1376172.67687132,  530705.50095305,  762563.86222102],\n",
      "        [1376157.46912926,  530803.84932626,  762554.05364616]],\n",
      "\n",
      "       [[1376157.46912926,  530803.84932626,  762554.05364616],\n",
      "        [1376144.33834498,  530902.64105452,  762545.8416487 ]],\n",
      "\n",
      "       [[1376144.33834498,  530902.64105452,  762545.8416487 ],\n",
      "        [1376134.77393926,  531002.0293168 ,  762540.35584138]],\n",
      "\n",
      "       [[1376134.77393926,  531002.0293168 ,  762540.35584138],\n",
      "        [1376129.3567665 ,  531101.83755731,  762537.38838331]],\n",
      "\n",
      "       [[1376129.3567665 ,  531101.83755731,  762537.38838331],\n",
      "        [1376126.66171551,  531201.78867968,  762536.05702947]],\n",
      "\n",
      "       [[1376126.66171551,  531201.78867968,  762536.05702947],\n",
      "        [1376129.88291125,  531301.72653446,  762537.47076473]],\n",
      "\n",
      "       [[1376129.88291125,  531301.72653446,  762537.47076473],\n",
      "        [1376134.76180248,  531401.58218346,  762539.57504748]],\n",
      "\n",
      "       [[1376134.76180248,  531401.58218346,  762539.57504748],\n",
      "        [1376145.23597795,  531500.94995591,  762543.61107006]],\n",
      "\n",
      "       [[1376145.23597795,  531500.94995591,  762543.61107006],\n",
      "        [1376157.34448949,  531600.11219224,  762548.08542569]],\n",
      "\n",
      "       [[1376157.34448949,  531600.11219224,  762548.08542569],\n",
      "        [1376172.80394258,  531698.76343116,  762553.45719032]],\n",
      "\n",
      "       [[1376172.80394258,  531698.76343116,  762553.45719032],\n",
      "        [1376190.33316486,  531797.03703911,  762559.37117763]],\n",
      "\n",
      "       [[1376190.33316486,  531797.03703911,  762559.37117763],\n",
      "        [1376209.46680166,  531894.98408601,  762565.70982415]],\n",
      "\n",
      "       [[1376209.46680166,  531894.98408601,  762565.70982415],\n",
      "        [1376230.78147996,  531992.42450784,  762572.85377007]],\n",
      "\n",
      "       [[1376230.78147996,  531992.42450784,  762572.85377007],\n",
      "        [1376252.85183385,  532089.66826075,  762580.37048766]],\n",
      "\n",
      "       [[1376252.85183385,  532089.66826075,  762580.37048766],\n",
      "        [1376276.31347451,  532186.51521313,  762588.74912457]],\n",
      "\n",
      "       [[1376276.31347451,  532186.51521313,  762588.74912457],\n",
      "        [1376300.43781176,  532283.13584805,  762597.8299112 ]]])])\n"
     ]
    },
    {
     "name": "stdout",
     "output_type": "stream",
     "text": [
      "base_final_widths = [346.63472215 299.33870586]\n",
      "overall_ais_width = 231.71415357150693\n",
      "ais_width = 322.9867140021955\n",
      "Adding the following branches as true axons: [ 0.  1.  2.  3.  4.  5.  6.  7.  8.  9. 10. 11. 12. 13. 14. 15. 16.]\n",
      "curr_soma_angle = 158.63\n",
      "max_axon_angle = 175.4307404440009\n",
      "Changing to a better axon candidate\n",
      "\n",
      "\n",
      " --- Working on limb 7, candidate # 0\n",
      "1 out of 7 branches are axons\n",
      "Axon percentage = 0.14285714285714285\n",
      "curr_axon_angle_threshold = 120\n",
      "candidate_nodes = [0 1 2 3 4 5 6]\n",
      "non_axon_branches_on_subgraph = [0 1 2 4 5 6]\n",
      "endnodes_to_test = []\n",
      "candidate_angles,restr_skels = (None, None)\n",
      "Not adding candidate because no angles (None) passed the threhold 120 \n",
      "\n",
      "\n",
      " --- Working on limb 8, candidate # 0\n",
      "0 out of 1 branches are axons\n",
      "Axon percentage = 0.0\n",
      "Not adding candidate no axon branches detected \n",
      "\n",
      "\n",
      " --- Working on limb 9, candidate # 0\n",
      "0 out of 1 branches are axons\n",
      "Axon percentage = 0.0\n",
      "Not adding candidate no axon branches detected \n",
      "Using the best axon approach\n",
      "Using True\n",
      "Limb L6: Axon branches before dendritic path filter = [ 0.  1.  2.  3.  4.  5.  6.  7.  8.  9. 10. 11. 12. 13. 14. 15. 16.]\n",
      "Limb L6: Axon branches AFTER dendritic path filter = [ 0.  1.  2.  3.  4.  5.  6.  7.  8.  9. 10. 11. 12. 13. 14. 15. 16.]\n",
      "\n",
      "\n",
      "Part 4: final_true_axons = {'L6': array([ 0.,  1.,  2.,  3.,  4.,  5.,  6.,  7.,  8.,  9., 10., 11., 12.,\n",
      "       13., 14., 15., 16.])}\n",
      "\n",
      "--- Working on filter 0:\n",
      "function = dendrite_on_axon_merges\n",
      "function __name__ = filter_away_dendrite_on_axon_merges\n",
      "function arguments = {'use_pre_existing_axon_labels': True}\n",
      "\n",
      "\n",
      "\n",
      "\n",
      "\n",
      " ---- Total time for applying filter: 0.8070573806762695 -----\n",
      "Starting axon branch was the starting node so using border vertices and NOT computing upstream branch\n",
      "upstream_node_to_axon_starting_branch = None\n",
      "root_curr = [1374580.   512567.8  762226.6]\n",
      "Time for preparing soma vertices and root: 0.0006330013275146484\n",
      "invalidation_d = 2000\n",
      "cc_vertex_thresh = 10\n"
     ]
    },
    {
     "name": "stderr",
     "output_type": "stream",
     "text": [
      "\r",
      "  0%|          | 0/1 [00:00<?, ?it/s]"
     ]
    },
    {
     "data": {
      "application/vnd.jupyter.widget-view+json": {
       "model_id": "bd3b968a163b417eabc060f897687089",
       "version_major": 2,
       "version_minor": 0
      },
      "text/plain": [
       "  0%|          | 0/30495 [00:00<?, ?it/s]"
      ]
     },
     "metadata": {},
     "output_type": "display_data"
    },
    {
     "name": "stderr",
     "output_type": "stream",
     "text": [
      "100%|██████████| 1/1 [00:00<00:00,  1.18it/s]\n"
     ]
    },
    {
     "name": "stdout",
     "output_type": "stream",
     "text": [
      "meshparty_segment_size = 100\n",
      "Time for 1st pass MP skeletonization: 2.159533977508545\n",
      "branches_touching_root = [10]\n",
      "combining close nodes\n",
      "combine_threshold = 1300\n",
      "length of Graph = 6787\n",
      "After combining close endpoints max(kept_branches_idx) = 46, len(kept_branches_idx) = 43\n",
      "empty_indices % = 0.0\n",
      " conflict_indices % = 0.012641954146132419\n"
     ]
    },
    {
     "data": {
      "application/vnd.jupyter.widget-view+json": {
       "model_id": "78e9a5da78bf44339061d0435c8e736d",
       "version_major": 2,
       "version_minor": 0
      },
      "text/plain": [
       "  0%|          | 0/21 [00:00<?, ?it/s]"
      ]
     },
     "metadata": {},
     "output_type": "display_data"
    },
    {
     "name": "stdout",
     "output_type": "stream",
     "text": [
      "AFTER face_lookup_resolved_test\n"
     ]
    },
    {
     "data": {
      "application/vnd.jupyter.widget-view+json": {
       "model_id": "4e86847c147c414b8108b669cb487454",
       "version_major": 2,
       "version_minor": 0
      },
      "text/plain": [
       "  0%|          | 0/43 [00:00<?, ?it/s]"
      ]
     },
     "metadata": {},
     "output_type": "display_data"
    },
    {
     "name": "stdout",
     "output_type": "stream",
     "text": [
      "Decomposing first pass: 8.644344091415405\n",
      "Only Using MeshParty Skeletonization and Mesh Correspondence\n",
      "Another print\n",
      "Divinding into MP and MAP pieces: 0.0001838207244873047\n",
      "Total time for MAP sublimb processing 3.0994415283203125e-06\n",
      "---- Working on MP Decomposition #0 ----\n",
      "Using Quicker soma_to_piece_touching_vertices because no MAP and only one sublimb_mesh piece \n",
      "MP filtering soma verts: 0.00027561187744140625\n",
      "Fixing Possible Soma Extension Branch for Sublimb 0\n",
      "Total time for mesh KDTree = 0.20868492126464844\n",
      "sbv[0].reshape(-1,3) = [[1374580.   512567.8  762226.6]]\n",
      "closest_sk_pt_coord BEFORE = [1375026.32549573  512801.0959288   761780.60944547]\n",
      "current_skeleton.shape = (178, 2, 3)\n",
      "node_for_stitch = 18: [1375026.32549573  512801.0959288   761780.60944547]\n",
      "node_for_stitch AFTER = 18: [1375026.32549573  512801.0959288   761780.60944547]\n",
      "possible_node_loc = [ 18 147]\n",
      "possible_node_loc AFTER = [ 18 147]\n",
      "curr_shortest_path = [18]\n",
      "Current stitch point was a branch or endpoint\n",
      "change_status for create soma extending pieces = False\n",
      "closest_sk_pt_coord AFTER = [1375026.32549573  512801.0959288   761780.60944547]\n",
      "skipping soma 0 because closest skeleton node was already end node\n",
      "endpoints_must_keep = {0: array([[1375026.32549573,  512801.0959288 ,  761780.60944547]])}\n",
      "match_sk_branches = [8]\n",
      "The new branch info was none so skipping \n",
      "\n",
      "No soma extending branch was added for this sublimb even though it had a soma border (means they already existed)\n",
      "MP (because soma touching verts) soma extension add: 3.047396421432495\n",
      "There were not both MAP and MP pieces so skipping the stitch resolving phase\n",
      "Time for decomp of Limb = 14.279494762420654\n",
      "Number of matching vertices = 20\n",
      "Only one endpoint after filtering away the endpoints that are not on the skeleton\n",
      "Using Distance measure skeletal_distance\n",
      "endpoints_must_keep = [[1375026.32549573  512801.0959288   761780.60944547]]\n",
      "Number of end_nodes BEFORE filtering = 25\n",
      "all_single_nodes_to_eliminate = [13]\n"
     ]
    },
    {
     "data": {
      "application/vnd.jupyter.widget-view+json": {
       "model_id": "cc71dc27373c4a109943c7db574d3dba",
       "version_major": 2,
       "version_minor": 0
      },
      "text/plain": [
       "  0%|          | 0/2 [00:00<?, ?it/s]"
      ]
     },
     "metadata": {},
     "output_type": "display_data"
    },
    {
     "name": "stdout",
     "output_type": "stream",
     "text": [
      "Removed 2 skeletal branches\n"
     ]
    },
    {
     "data": {
      "application/vnd.jupyter.widget-view+json": {
       "model_id": "a778ef93260847a5969ac9d7e9d794ed",
       "version_major": 2,
       "version_minor": 0
      },
      "text/plain": [
       "  0%|          | 0/43 [00:00<?, ?it/s]"
      ]
     },
     "metadata": {},
     "output_type": "display_data"
    },
    {
     "name": "stdout",
     "output_type": "stream",
     "text": [
      "60827 60828\n",
      "For marked faces: None\n",
      "empty_indices % = 0.0\n",
      " conflict_indices % = 0.0\n"
     ]
    },
    {
     "data": {
      "application/vnd.jupyter.widget-view+json": {
       "model_id": "f26e2515d68c41039cdc645ae53a4688",
       "version_major": 2,
       "version_minor": 0
      },
      "text/plain": [
       "0it [00:00, ?it/s]"
      ]
     },
     "metadata": {},
     "output_type": "display_data"
    },
    {
     "name": "stdout",
     "output_type": "stream",
     "text": [
      "AFTER face_lookup_resolved_test\n"
     ]
    },
    {
     "data": {
      "application/vnd.jupyter.widget-view+json": {
       "model_id": "3f2eddb4cde5469b823ed9a7f0c13e24",
       "version_major": 2,
       "version_minor": 0
      },
      "text/plain": [
       "  0%|          | 0/39 [00:00<?, ?it/s]"
      ]
     },
     "metadata": {},
     "output_type": "display_data"
    },
    {
     "name": "stdout",
     "output_type": "stream",
     "text": [
      "Limb Correspondence before stitching = 39\n",
      "Limb Correspondence AFTER stitching = 39\n",
      "Upstream node was None so don't have to adjust\n",
      "concept_network_dict = {0: [<networkx_utils.GraphOrderedEdges object at 0x7f3c6b4fbf98>]}\n",
      "\n",
      "\n",
      "----Working on seperate_graph 0----\n",
      "\n",
      "\n",
      "---------Working on soma_idx = 0, soma_group_idx 0, endpt = [1375026.32549573  512801.0959288   761780.60944547]---------\n",
      "Starting_edge inside branches_to_conept = [[1375026.32549573  512801.0959288   761780.60944547]\n",
      " [1376214.47707624  530103.10374772  762712.54788785]]\n",
      "At the start, starting_node (in terms of the skeleton, that shouldn't match the starting edge) = [20]\n",
      "printing out current edge:\n",
      "[[1375026.32549573  512801.0959288   761780.60944547]\n",
      " [1376214.47707624  530103.10374772  762712.54788785]]\n",
      "edge_endpoints_to_process was empty so exiting loop after 39 iterations\n",
      "starting_node in concept map (that should match the starting edge) = 20\n",
      "Total time for branches to concept conversion = 1.7320799827575684\n",
      "\n",
      "Done generating concept network \n",
      "\n",
      "\n"
     ]
    },
    {
     "data": {
      "application/vnd.jupyter.widget-view+json": {
       "model_id": "4041a79c53d84464898c76e802eb716c",
       "version_major": 2,
       "version_minor": 0
      },
      "text/plain": [
       "  0%|          | 0/27 [00:00<?, ?it/s]"
      ]
     },
     "metadata": {},
     "output_type": "display_data"
    },
    {
     "data": {
      "application/vnd.jupyter.widget-view+json": {
       "model_id": "838c4a7b9fd04e7c9ad66b9851c8eba9",
       "version_major": 2,
       "version_minor": 0
      },
      "text/plain": [
       "  0%|          | 0/24 [00:00<?, ?it/s]"
      ]
     },
     "metadata": {},
     "output_type": "display_data"
    },
    {
     "data": {
      "application/vnd.jupyter.widget-view+json": {
       "model_id": "c60d7e21012a45d79210f05a7b6cd5bc",
       "version_major": 2,
       "version_minor": 0
      },
      "text/plain": [
       "  0%|          | 0/7 [00:00<?, ?it/s]"
      ]
     },
     "metadata": {},
     "output_type": "display_data"
    },
    {
     "data": {
      "application/vnd.jupyter.widget-view+json": {
       "model_id": "3c06a6b895fb482991cf9ef6df2dec1e",
       "version_major": 2,
       "version_minor": 0
      },
      "text/plain": [
       "  0%|          | 0/4 [00:00<?, ?it/s]"
      ]
     },
     "metadata": {},
     "output_type": "display_data"
    },
    {
     "data": {
      "application/vnd.jupyter.widget-view+json": {
       "model_id": "75235db4607943ac9c18ca650de48d94",
       "version_major": 2,
       "version_minor": 0
      },
      "text/plain": [
       "  0%|          | 0/6 [00:00<?, ?it/s]"
      ]
     },
     "metadata": {},
     "output_type": "display_data"
    },
    {
     "data": {
      "application/vnd.jupyter.widget-view+json": {
       "model_id": "4c32c564c2784d2a9b67ccc8d4a8139b",
       "version_major": 2,
       "version_minor": 0
      },
      "text/plain": [
       "  0%|          | 0/6 [00:00<?, ?it/s]"
      ]
     },
     "metadata": {},
     "output_type": "display_data"
    },
    {
     "data": {
      "application/vnd.jupyter.widget-view+json": {
       "model_id": "2377fb66b8f5483a9470d7a6edf22666",
       "version_major": 2,
       "version_minor": 0
      },
      "text/plain": [
       "  0%|          | 0/7 [00:00<?, ?it/s]"
      ]
     },
     "metadata": {},
     "output_type": "display_data"
    },
    {
     "data": {
      "application/vnd.jupyter.widget-view+json": {
       "model_id": "572b16e802c6469f84120224f16730af",
       "version_major": 2,
       "version_minor": 0
      },
      "text/plain": [
       "  0%|          | 0/11 [00:00<?, ?it/s]"
      ]
     },
     "metadata": {},
     "output_type": "display_data"
    },
    {
     "data": {
      "application/vnd.jupyter.widget-view+json": {
       "model_id": "230afe70563f42998247a9153b2e4667",
       "version_major": 2,
       "version_minor": 0
      },
      "text/plain": [
       "  0%|          | 0/10 [00:00<?, ?it/s]"
      ]
     },
     "metadata": {},
     "output_type": "display_data"
    },
    {
     "data": {
      "application/vnd.jupyter.widget-view+json": {
       "model_id": "83ca1f5f3618469c8750f4d8ea23d061",
       "version_major": 2,
       "version_minor": 0
      },
      "text/plain": [
       "  0%|          | 0/5 [00:00<?, ?it/s]"
      ]
     },
     "metadata": {},
     "output_type": "display_data"
    },
    {
     "data": {
      "application/vnd.jupyter.widget-view+json": {
       "model_id": "82c3926d2fce476bb11b51b89de99a81",
       "version_major": 2,
       "version_minor": 0
      },
      "text/plain": [
       "  0%|          | 0/5 [00:00<?, ?it/s]"
      ]
     },
     "metadata": {},
     "output_type": "display_data"
    },
    {
     "data": {
      "application/vnd.jupyter.widget-view+json": {
       "model_id": "4ecbe57b55ee44e19d3b5073c49f9bac",
       "version_major": 2,
       "version_minor": 0
      },
      "text/plain": [
       "  0%|          | 0/5 [00:00<?, ?it/s]"
      ]
     },
     "metadata": {},
     "output_type": "display_data"
    },
    {
     "data": {
      "application/vnd.jupyter.widget-view+json": {
       "model_id": "c38a7f556f514d73bf3f7240f3b5623d",
       "version_major": 2,
       "version_minor": 0
      },
      "text/plain": [
       "  0%|          | 0/10 [00:00<?, ?it/s]"
      ]
     },
     "metadata": {},
     "output_type": "display_data"
    },
    {
     "data": {
      "application/vnd.jupyter.widget-view+json": {
       "model_id": "d9a8856b546b4fbab9ad1cc0a299d246",
       "version_major": 2,
       "version_minor": 0
      },
      "text/plain": [
       "  0%|          | 0/9 [00:00<?, ?it/s]"
      ]
     },
     "metadata": {},
     "output_type": "display_data"
    },
    {
     "data": {
      "application/vnd.jupyter.widget-view+json": {
       "model_id": "4630e10575a24f08abac27629e3f5d57",
       "version_major": 2,
       "version_minor": 0
      },
      "text/plain": [
       "  0%|          | 0/8 [00:00<?, ?it/s]"
      ]
     },
     "metadata": {},
     "output_type": "display_data"
    },
    {
     "data": {
      "application/vnd.jupyter.widget-view+json": {
       "model_id": "0bbbb7e10bbf4cd8aec2c086c2ea586e",
       "version_major": 2,
       "version_minor": 0
      },
      "text/plain": [
       "  0%|          | 0/15 [00:00<?, ?it/s]"
      ]
     },
     "metadata": {},
     "output_type": "display_data"
    },
    {
     "data": {
      "application/vnd.jupyter.widget-view+json": {
       "model_id": "3633f51fb8d94266bebc9375bbeb8972",
       "version_major": 2,
       "version_minor": 0
      },
      "text/plain": [
       "  0%|          | 0/7 [00:00<?, ?it/s]"
      ]
     },
     "metadata": {},
     "output_type": "display_data"
    },
    {
     "data": {
      "application/vnd.jupyter.widget-view+json": {
       "model_id": "ac1311b06c4b46bcb41958ded558eaf3",
       "version_major": 2,
       "version_minor": 0
      },
      "text/plain": [
       "  0%|          | 0/6 [00:00<?, ?it/s]"
      ]
     },
     "metadata": {},
     "output_type": "display_data"
    },
    {
     "data": {
      "application/vnd.jupyter.widget-view+json": {
       "model_id": "0a1127a710e24dc0abddecd7407c8556",
       "version_major": 2,
       "version_minor": 0
      },
      "text/plain": [
       "  0%|          | 0/16 [00:00<?, ?it/s]"
      ]
     },
     "metadata": {},
     "output_type": "display_data"
    },
    {
     "data": {
      "application/vnd.jupyter.widget-view+json": {
       "model_id": "2a36d50622b34db38564991d2f7c999d",
       "version_major": 2,
       "version_minor": 0
      },
      "text/plain": [
       "  0%|          | 0/14 [00:00<?, ?it/s]"
      ]
     },
     "metadata": {},
     "output_type": "display_data"
    },
    {
     "data": {
      "application/vnd.jupyter.widget-view+json": {
       "model_id": "ba969d0b91d9463aa011f70923cb5381",
       "version_major": 2,
       "version_minor": 0
      },
      "text/plain": [
       "  0%|          | 0/4 [00:00<?, ?it/s]"
      ]
     },
     "metadata": {},
     "output_type": "display_data"
    },
    {
     "data": {
      "application/vnd.jupyter.widget-view+json": {
       "model_id": "9f2d3dc59fe74146b0435faad55e7efa",
       "version_major": 2,
       "version_minor": 0
      },
      "text/plain": [
       "  0%|          | 0/5 [00:00<?, ?it/s]"
      ]
     },
     "metadata": {},
     "output_type": "display_data"
    },
    {
     "data": {
      "application/vnd.jupyter.widget-view+json": {
       "model_id": "ec58478b600743288101c6fa370f313b",
       "version_major": 2,
       "version_minor": 0
      },
      "text/plain": [
       "  0%|          | 0/4 [00:00<?, ?it/s]"
      ]
     },
     "metadata": {},
     "output_type": "display_data"
    },
    {
     "data": {
      "application/vnd.jupyter.widget-view+json": {
       "model_id": "d55f4d866af846dfaee20783cdd69059",
       "version_major": 2,
       "version_minor": 0
      },
      "text/plain": [
       "  0%|          | 0/19 [00:00<?, ?it/s]"
      ]
     },
     "metadata": {},
     "output_type": "display_data"
    },
    {
     "data": {
      "application/vnd.jupyter.widget-view+json": {
       "model_id": "900937da87c74873bc580f52cb41c6fc",
       "version_major": 2,
       "version_minor": 0
      },
      "text/plain": [
       "  0%|          | 0/7 [00:00<?, ?it/s]"
      ]
     },
     "metadata": {},
     "output_type": "display_data"
    },
    {
     "data": {
      "application/vnd.jupyter.widget-view+json": {
       "model_id": "9d131416d208461393004e78b6c63558",
       "version_major": 2,
       "version_minor": 0
      },
      "text/plain": [
       "  0%|          | 0/10 [00:00<?, ?it/s]"
      ]
     },
     "metadata": {},
     "output_type": "display_data"
    },
    {
     "data": {
      "application/vnd.jupyter.widget-view+json": {
       "model_id": "fd75222d98784f1095746dc93c6904bc",
       "version_major": 2,
       "version_minor": 0
      },
      "text/plain": [
       "  0%|          | 0/11 [00:00<?, ?it/s]"
      ]
     },
     "metadata": {},
     "output_type": "display_data"
    },
    {
     "data": {
      "application/vnd.jupyter.widget-view+json": {
       "model_id": "771f453174b54d888e75650d48e214aa",
       "version_major": 2,
       "version_minor": 0
      },
      "text/plain": [
       "  0%|          | 0/5 [00:00<?, ?it/s]"
      ]
     },
     "metadata": {},
     "output_type": "display_data"
    },
    {
     "data": {
      "application/vnd.jupyter.widget-view+json": {
       "model_id": "a53fce34c43c41b7b5982fa9ec8ece9f",
       "version_major": 2,
       "version_minor": 0
      },
      "text/plain": [
       "  0%|          | 0/12 [00:00<?, ?it/s]"
      ]
     },
     "metadata": {},
     "output_type": "display_data"
    },
    {
     "data": {
      "application/vnd.jupyter.widget-view+json": {
       "model_id": "bcca3f97cfb64dfc8ccc1c0ce62ddfc5",
       "version_major": 2,
       "version_minor": 0
      },
      "text/plain": [
       "  0%|          | 0/40 [00:00<?, ?it/s]"
      ]
     },
     "metadata": {},
     "output_type": "display_data"
    },
    {
     "data": {
      "application/vnd.jupyter.widget-view+json": {
       "model_id": "4d60450318ab4371a4a07c70e002010c",
       "version_major": 2,
       "version_minor": 0
      },
      "text/plain": [
       "  0%|          | 0/49 [00:00<?, ?it/s]"
      ]
     },
     "metadata": {},
     "output_type": "display_data"
    },
    {
     "data": {
      "application/vnd.jupyter.widget-view+json": {
       "model_id": "27a5449d6f20426fb97fd3e2fc902d96",
       "version_major": 2,
       "version_minor": 0
      },
      "text/plain": [
       "  0%|          | 0/41 [00:00<?, ?it/s]"
      ]
     },
     "metadata": {},
     "output_type": "display_data"
    },
    {
     "data": {
      "application/vnd.jupyter.widget-view+json": {
       "model_id": "29554b44b3cd4a219910a777a9cc1fa9",
       "version_major": 2,
       "version_minor": 0
      },
      "text/plain": [
       "  0%|          | 0/45 [00:00<?, ?it/s]"
      ]
     },
     "metadata": {},
     "output_type": "display_data"
    },
    {
     "data": {
      "application/vnd.jupyter.widget-view+json": {
       "model_id": "e13971602b924f069c14207c1d4d520c",
       "version_major": 2,
       "version_minor": 0
      },
      "text/plain": [
       "  0%|          | 0/18 [00:00<?, ?it/s]"
      ]
     },
     "metadata": {},
     "output_type": "display_data"
    },
    {
     "data": {
      "application/vnd.jupyter.widget-view+json": {
       "model_id": "6ceb14733e844a28a855eef0149a7a48",
       "version_major": 2,
       "version_minor": 0
      },
      "text/plain": [
       "  0%|          | 0/15 [00:00<?, ?it/s]"
      ]
     },
     "metadata": {},
     "output_type": "display_data"
    },
    {
     "data": {
      "application/vnd.jupyter.widget-view+json": {
       "model_id": "b1871b2f505e48ef833291c12b862e9b",
       "version_major": 2,
       "version_minor": 0
      },
      "text/plain": [
       "  0%|          | 0/46 [00:00<?, ?it/s]"
      ]
     },
     "metadata": {},
     "output_type": "display_data"
    },
    {
     "data": {
      "application/vnd.jupyter.widget-view+json": {
       "model_id": "c5fcb6333bab4f6982db89a2b8a2ff25",
       "version_major": 2,
       "version_minor": 0
      },
      "text/plain": [
       "  0%|          | 0/49 [00:00<?, ?it/s]"
      ]
     },
     "metadata": {},
     "output_type": "display_data"
    },
    {
     "data": {
      "application/vnd.jupyter.widget-view+json": {
       "model_id": "4e9b63a1e773438fa31634c5b45219af",
       "version_major": 2,
       "version_minor": 0
      },
      "text/plain": [
       "  0%|          | 0/30 [00:00<?, ?it/s]"
      ]
     },
     "metadata": {},
     "output_type": "display_data"
    },
    {
     "data": {
      "application/vnd.jupyter.widget-view+json": {
       "model_id": "5ebd81aa9a0a4a088666cae3539fad4e",
       "version_major": 2,
       "version_minor": 0
      },
      "text/plain": [
       "  0%|          | 0/49 [00:00<?, ?it/s]"
      ]
     },
     "metadata": {},
     "output_type": "display_data"
    },
    {
     "data": {
      "application/vnd.jupyter.widget-view+json": {
       "model_id": "9da567ac5d8542239a09a766d9be8e91",
       "version_major": 2,
       "version_minor": 0
      },
      "text/plain": [
       "  0%|          | 0/23 [00:00<?, ?it/s]"
      ]
     },
     "metadata": {},
     "output_type": "display_data"
    },
    {
     "data": {
      "application/vnd.jupyter.widget-view+json": {
       "model_id": "010c634168ec460dbd1ccf0029f105cd",
       "version_major": 2,
       "version_minor": 0
      },
      "text/plain": [
       "  0%|          | 0/11 [00:00<?, ?it/s]"
      ]
     },
     "metadata": {},
     "output_type": "display_data"
    },
    {
     "data": {
      "application/vnd.jupyter.widget-view+json": {
       "model_id": "2c7b5c64d61e4b07878474a3e5608c27",
       "version_major": 2,
       "version_minor": 0
      },
      "text/plain": [
       "  0%|          | 0/8 [00:00<?, ?it/s]"
      ]
     },
     "metadata": {},
     "output_type": "display_data"
    },
    {
     "data": {
      "application/vnd.jupyter.widget-view+json": {
       "model_id": "e03260b907d34326b76b93a6d5eb6e80",
       "version_major": 2,
       "version_minor": 0
      },
      "text/plain": [
       "  0%|          | 0/17 [00:00<?, ?it/s]"
      ]
     },
     "metadata": {},
     "output_type": "display_data"
    },
    {
     "data": {
      "application/vnd.jupyter.widget-view+json": {
       "model_id": "551efb89bc314832b13e5219da3be08f",
       "version_major": 2,
       "version_minor": 0
      },
      "text/plain": [
       "  0%|          | 0/28 [00:00<?, ?it/s]"
      ]
     },
     "metadata": {},
     "output_type": "display_data"
    },
    {
     "data": {
      "application/vnd.jupyter.widget-view+json": {
       "model_id": "b6e266b64ece4a66b2d3403e3a3a94b6",
       "version_major": 2,
       "version_minor": 0
      },
      "text/plain": [
       "  0%|          | 0/16 [00:00<?, ?it/s]"
      ]
     },
     "metadata": {},
     "output_type": "display_data"
    },
    {
     "name": "stdout",
     "output_type": "stream",
     "text": [
      "Synapsse Results:\n",
      "Total Number of Synapses = 4706\n",
      "n_valid_syn_ids_presyn = 6\n",
      "n_errored_syn_ids_presyn = 58\n",
      "n_valid_syn_ids_postsyn = 4632\n",
      "n_errored_syn_ids_postsyn = 10\n",
      "Synapsse Results:\n",
      "Total Number of Synapses = 4706\n",
      "n_valid_syn_ids_presyn = 6\n",
      "n_errored_syn_ids_presyn = 58\n",
      "n_valid_syn_ids_postsyn = 4632\n",
      "n_errored_syn_ids_postsyn = 10\n"
     ]
    },
    {
     "data": {
      "application/vnd.jupyter.widget-view+json": {
       "model_id": "4cb1c1019a6d4034889fe7a1dcef0df6",
       "version_major": 2,
       "version_minor": 0
      },
      "text/plain": [
       "  0%|          | 0/10 [00:00<?, ?it/s]"
      ]
     },
     "metadata": {},
     "output_type": "display_data"
    },
    {
     "data": {
      "application/vnd.jupyter.widget-view+json": {
       "model_id": "6244c4309d58477d84df038213182bef",
       "version_major": 2,
       "version_minor": 0
      },
      "text/plain": [
       "  0%|          | 0/3 [00:00<?, ?it/s]"
      ]
     },
     "metadata": {},
     "output_type": "display_data"
    },
    {
     "name": "stdout",
     "output_type": "stream",
     "text": [
      "Synapsse Results:\n",
      "Total Number of Synapses = 4706\n",
      "n_valid_syn_ids_presyn = 6\n",
      "n_errored_syn_ids_presyn = 58\n",
      "n_valid_syn_ids_postsyn = 4632\n",
      "n_errored_syn_ids_postsyn = 10\n",
      "Synapsse Results:\n",
      "Total Number of Synapses = 4706\n",
      "n_valid_syn_ids_presyn = 6\n",
      "n_errored_syn_ids_presyn = 58\n",
      "n_valid_syn_ids_postsyn = 4632\n",
      "n_errored_syn_ids_postsyn = 10\n"
     ]
    },
    {
     "data": {
      "application/vnd.jupyter.widget-view+json": {
       "model_id": "e0fe955fd38c41448802dc8b88dca3a4",
       "version_major": 2,
       "version_minor": 0
      },
      "text/plain": [
       "  0%|          | 0/10 [00:00<?, ?it/s]"
      ]
     },
     "metadata": {},
     "output_type": "display_data"
    },
    {
     "data": {
      "application/vnd.jupyter.widget-view+json": {
       "model_id": "66239e0a95244f459cf80d6bc20caf4b",
       "version_major": 2,
       "version_minor": 0
      },
      "text/plain": [
       "  0%|          | 0/3 [00:00<?, ?it/s]"
      ]
     },
     "metadata": {},
     "output_type": "display_data"
    },
    {
     "name": "stdout",
     "output_type": "stream",
     "text": [
      "\n",
      "\n",
      "len(branch_attr_keys) = 13\n",
      "Saving Neuorn in suppress_output mode...please wait\n",
      "Saved File at location: /mnt/dj-stor01/platinum/minnie65/02/decomposition/864691136201041854_0_25_full_axon\n",
      "Save time = 208.65485000610352\n",
      "\n",
      "\n",
      " ***------ Total time for 864691136201041854 = 512.7011916637421 ------ ***\n",
      "\n",
      "\n",
      "\n",
      "---- Working on Neuron 864691135212690816 ----\n",
      "Decompressing Neuron in minimal output mode...please wait\n",
      "Pulled from Table Decomposition so setting split_index = 0\n",
      "Dont need spine recalculation\n",
      "Number of Neurons found = 1\n",
      "\n",
      "Part 1: Axon like branchese \n",
      "{'L1': array([ 0,  2,  3,  4,  5,  6,  7,  8,  9, 10, 11, 13, 14, 15, 16, 17, 18,\n",
      "       20, 21, 22, 23, 24, 25, 26])}\n",
      "Limb L0 soma angle: 41.1 \n",
      "Limb L1 soma angle: 146.58 \n",
      "Limb L2 soma angle: 127.12 \n",
      "Limb L3 soma angle: 76.94 \n",
      "Limb L4 soma angle: 109.86 \n",
      "Limb L5 soma angle: 122.72 \n",
      "Limb L6 soma angle: 117.31 \n",
      "Limb L7 soma angle: 127.06 \n",
      "\n",
      "Part 2: possible_axon_limbs = [1, 2, 3, 4, 5, 6, 7]\n",
      "\n",
      "Phase 2: Working on Limb L1\n",
      "nodes_to_eliminate = []\n",
      "\n",
      "Phase 2: Working on Limb L2\n",
      "nodes_to_eliminate = [6 8]\n",
      "\n",
      "Phase 2: Working on Limb L3\n",
      "nodes_to_eliminate = [1]\n",
      "\n",
      "Phase 2: Working on Limb L4\n",
      "nodes_to_eliminate = []\n",
      "\n",
      "Phase 2: Working on Limb L5\n",
      "nodes_to_eliminate = []\n",
      "\n",
      "Phase 2: Working on Limb L6\n",
      "nodes_to_eliminate = []\n",
      "\n",
      "Phase 2: Working on Limb L7\n",
      "nodes_to_eliminate = []\n",
      "\n",
      "----Working on Limb L1-----\n",
      "No nodes were eliminated so don't need to add back any candidates\n",
      "\n",
      "----Working on Limb L2-----\n",
      "No endpoints were eliminated so don't need to add back any candidates\n",
      "\n",
      "----Working on Limb L3-----\n",
      "No endpoints were eliminated so don't need to add back any candidates\n",
      "\n",
      "----Working on Limb L4-----\n",
      "No nodes were eliminated so don't need to add back any candidates\n",
      "\n",
      "----Working on Limb L5-----\n",
      "No nodes were eliminated so don't need to add back any candidates\n",
      "\n",
      "----Working on Limb L6-----\n",
      "No nodes were eliminated so don't need to add back any candidates\n",
      "\n",
      "----Working on Limb L7-----\n",
      "No nodes were eliminated so don't need to add back any candidates\n",
      "Final Candidates\n",
      "\n",
      "Limb 1\n",
      "Candidate 0 (sandybrown): array([ 0,  1,  2,  3,  4,  5,  6,  7,  8,  9, 10, 11, 12, 13, 14, 15, 16,\n",
      "       17, 18, 19, 20, 21, 22, 23, 24, 25, 26])\n",
      "\n",
      "Limb 2\n",
      "Candidate 0 (palegreen): array([0, 1, 2])\n",
      "Candidate 1 (forestgreen): array([3, 4, 5])\n",
      "Candidate 2 (cadetblue): array([ 9, 10,  7])\n",
      "\n",
      "Limb 3\n",
      "Candidate 0 (blue): array([0])\n",
      "Candidate 1 (gray): array([2, 3, 4])\n",
      "\n",
      "Limb 4\n",
      "Candidate 0 (tan): array([0, 1, 2])\n",
      "\n",
      "Limb 5\n",
      "Candidate 0 (pink): array([0])\n",
      "\n",
      "Limb 6\n",
      "Candidate 0 (green): array([0])\n",
      "\n",
      "Limb 7\n",
      "Candidate 0 (blue): array([0])\n",
      "Part 3: axon_subgraph_candidates = {1: [[0, 1, 2, 3, 4, 5, 6, 7, 8, 9, 10, 11, 12, 13, 14, 15, 16, 17, 18, 19, 20, 21, 22, 23, 24, 25, 26]], 2: [[0, 1, 2], [3, 4, 5], [9, 10, 7]], 3: [[0], [2, 3, 4]], 4: [[0, 1, 2]], 5: [[0]], 6: [[0]], 7: [[0]]}\n",
      "\n",
      "\n",
      " --- Working on limb 1, candidate # 0\n",
      "24 out of 27 branches are axons\n",
      "Axon percentage = 0.8888888888888888\n",
      "curr_axon_angle_threshold = 95\n",
      "candidate_nodes = [ 0  1  2  3  4  5  6  7  8  9 10 11 12 13 14 15 16 17 18 19 20 21 22 23\n",
      " 24 25 26]\n",
      "non_axon_branches_on_subgraph = [ 1 12 19]\n",
      "endnodes_to_test = []\n",
      "candidate_angles,restr_skels = (None, None)\n",
      "Not adding candidate because no angles (None) passed the threhold 95 \n",
      "\n",
      "\n",
      " --- Working on limb 2, candidate # 0\n",
      "0 out of 3 branches are axons\n",
      "Axon percentage = 0.0\n",
      "Not adding candidate no axon branches detected \n",
      "\n",
      "\n",
      " --- Working on limb 2, candidate # 1\n",
      "0 out of 3 branches are axons\n",
      "Axon percentage = 0.0\n",
      "Not adding candidate no axon branches detected \n",
      "\n",
      "\n",
      " --- Working on limb 2, candidate # 2\n",
      "0 out of 3 branches are axons\n",
      "Axon percentage = 0.0\n",
      "Not adding candidate no axon branches detected \n",
      "\n",
      "\n",
      " --- Working on limb 3, candidate # 0\n",
      "0 out of 1 branches are axons\n",
      "Axon percentage = 0.0\n",
      "Not adding candidate no axon branches detected \n",
      "\n",
      "\n",
      " --- Working on limb 3, candidate # 1\n",
      "0 out of 3 branches are axons\n",
      "Axon percentage = 0.0\n",
      "Not adding candidate no axon branches detected \n",
      "\n",
      "\n",
      " --- Working on limb 4, candidate # 0\n",
      "0 out of 3 branches are axons\n",
      "Axon percentage = 0.0\n",
      "Not adding candidate no axon branches detected \n",
      "\n",
      "\n",
      " --- Working on limb 5, candidate # 0\n",
      "0 out of 1 branches are axons\n",
      "Axon percentage = 0.0\n",
      "Not adding candidate no axon branches detected \n",
      "\n",
      "\n",
      " --- Working on limb 6, candidate # 0\n",
      "0 out of 1 branches are axons\n",
      "Axon percentage = 0.0\n",
      "Not adding candidate no axon branches detected \n",
      "\n",
      "\n",
      " --- Working on limb 7, candidate # 0\n",
      "0 out of 1 branches are axons\n",
      "Axon percentage = 0.0\n",
      "Not adding candidate no axon branches detected \n",
      "Using the best axon approach\n",
      "Using True\n",
      "\n",
      "\n",
      "Part 4: final_true_axons = {}\n",
      "\n",
      "--- Working on filter 0:\n",
      "function = dendrite_on_axon_merges\n",
      "function __name__ = filter_away_dendrite_on_axon_merges\n",
      "function arguments = {'use_pre_existing_axon_labels': True}\n",
      "\n",
      "\n",
      "\n",
      "\n",
      "\n",
      " ---- Total time for applying filter: 1.0037851333618164 -----\n",
      "\n",
      "\n",
      "\n",
      "---- Working on Neuron 864691136105498585 ----\n",
      "Decompressing Neuron in minimal output mode...please wait\n",
      "Pulled from Table Decomposition so setting split_index = 0\n",
      "Dont need spine recalculation\n",
      "Number of Neurons found = 1\n",
      "\n",
      "Part 1: Axon like branchese \n",
      "{'L0': array([ 0,  1,  2,  3,  5,  7,  9, 10, 11, 12, 13, 14, 15, 16, 17, 18, 19,\n",
      "       20, 21, 23, 24, 25, 26, 27, 28, 29, 30, 31]), 'L1': array([1, 3, 4]), 'L2': array([1, 2, 4])}\n",
      "Limb L0 soma angle: 134.65 \n",
      "Limb L1 soma angle: 42.58 \n",
      "Limb L2 soma angle: 80.75 \n",
      "Limb L3 soma angle: 95.0 \n",
      "Limb L4 soma angle: 160.03 \n",
      "Limb L5 soma angle: 91.15 \n",
      "\n",
      "Part 2: possible_axon_limbs = [0, 2, 3, 4, 5]\n",
      "\n",
      "Phase 2: Working on Limb L0\n",
      "nodes_to_eliminate = [8]\n",
      "\n",
      "Phase 2: Working on Limb L2\n",
      "nodes_to_eliminate = []\n",
      "\n",
      "Phase 2: Working on Limb L3\n",
      "nodes_to_eliminate = []\n",
      "\n",
      "Phase 2: Working on Limb L4\n",
      "nodes_to_eliminate = []\n",
      "\n",
      "Phase 2: Working on Limb L5\n",
      "nodes_to_eliminate = []\n",
      "\n",
      "----Working on Limb L0-----\n",
      "No endpoints were eliminated so don't need to add back any candidates\n",
      "\n",
      "----Working on Limb L2-----\n",
      "No nodes were eliminated so don't need to add back any candidates\n",
      "\n",
      "----Working on Limb L3-----\n",
      "No nodes were eliminated so don't need to add back any candidates\n",
      "\n",
      "----Working on Limb L4-----\n",
      "No nodes were eliminated so don't need to add back any candidates\n",
      "\n",
      "----Working on Limb L5-----\n",
      "No nodes were eliminated so don't need to add back any candidates\n",
      "Final Candidates\n",
      "\n",
      "Limb 0\n",
      "Candidate 0 (tan): array([ 0,  3,  5,  7,  9, 10, 11, 12, 13, 14, 15, 16, 17, 18, 19, 20, 21,\n",
      "       23, 24, 25, 26, 27, 28, 29, 30, 31])\n",
      "Candidate 1 (cadetblue): array([ 1,  2,  4,  6, 22])\n",
      "\n",
      "Limb 2\n",
      "Candidate 0 (gray): array([0, 1, 2, 3, 4, 5])\n",
      "\n",
      "Limb 3\n",
      "Candidate 0 (cadetblue): array([0])\n",
      "\n",
      "Limb 4\n",
      "Candidate 0 (cadetblue): array([0])\n",
      "\n",
      "Limb 5\n",
      "Candidate 0 (cadetblue): array([0, 1])\n",
      "Part 3: axon_subgraph_candidates = {0: [[0, 3, 5, 7, 9, 10, 11, 12, 13, 14, 15, 16, 17, 18, 19, 20, 21, 23, 24, 25, 26, 27, 28, 29, 30, 31], [1, 2, 4, 6, 22]], 2: [[0, 1, 2, 3, 4, 5]], 3: [[0]], 4: [[0]], 5: [[0, 1]]}\n",
      "\n",
      "\n",
      " --- Working on limb 0, candidate # 0\n",
      "26 out of 26 branches are axons\n",
      "Axon percentage = 1.0\n",
      "curr_axon_angle_threshold = 95\n",
      "candidate_nodes = [ 0  3  5  7  8  9 10 11 12 13 14 15 16 17 18 19 20 21 23 24 25 26 27 28\n",
      " 29 30 31]\n",
      "non_axon_branches_on_subgraph = [8]\n",
      "endnodes_to_test = [1873]\n",
      "Skeleton paths distances = [24973.03453593]\n",
      "Filtered indexes = [0]\n",
      "len(filtered_skeletons) = 1\n",
      "sk_angles = [122.1524023]\n",
      "candidate_angles,restr_skels = (array([122.1524023]), [array([[[715139.24163025, 867392.37590002, 799929.44858602],\n",
      "        [715188.51578548, 867430.71619974, 800007.56254189]],\n",
      "\n",
      "       [[715188.51578548, 867430.71619974, 800007.56254189],\n",
      "        [715237.38509832, 867469.21386277, 800085.85507157]],\n",
      "\n",
      "       [[715237.38509832, 867469.21386277, 800085.85507157],\n",
      "        [715286.25441115, 867507.71152581, 800164.14760125]],\n",
      "\n",
      "       [[715286.25441115, 867507.71152581, 800164.14760125],\n",
      "        [715334.99268691, 867546.28524318, 800242.48432811]],\n",
      "\n",
      "       [[715334.99268691, 867546.28524318, 800242.48432811],\n",
      "        [715383.69924087, 867584.87737198, 800320.83175433]],\n",
      "\n",
      "       [[715383.69924087, 867584.87737198, 800320.83175433],\n",
      "        [715432.40579482, 867623.46950078, 800399.17918056]],\n",
      "\n",
      "       [[715432.40579482, 867623.46950078, 800399.17918056],\n",
      "        [715481.20659524, 867661.83943324, 800477.57698708]],\n",
      "\n",
      "       [[715481.20659524, 867661.83943324, 800477.57698708],\n",
      "        [715530.02924865, 867700.15784488, 800555.9864753 ]],\n",
      "\n",
      "       [[715530.02924865, 867700.15784488, 800555.9864753 ],\n",
      "        [715578.85190205, 867738.47625652, 800634.39596353]],\n",
      "\n",
      "       [[715578.85190205, 867738.47625652, 800634.39596353],\n",
      "        [715627.6291967 , 867776.37684728, 800713.03552524]],\n",
      "\n",
      "       [[715627.6291967 , 867776.37684728, 800713.03552524],\n",
      "        [715676.37881339, 867814.02248332, 800791.81547802]],\n",
      "\n",
      "       [[715676.37881339, 867814.02248332, 800791.81547802],\n",
      "        [715725.12843007, 867851.66811936, 800870.59543079]],\n",
      "\n",
      "       [[715725.12843007, 867851.66811936, 800870.59543079],\n",
      "        [715773.71929625, 867889.03567731, 800949.60289003]],\n",
      "\n",
      "       [[715773.71929625, 867889.03567731, 800949.60289003],\n",
      "        [715821.8834454 , 867925.655769  , 801029.22188036]],\n",
      "\n",
      "       [[715821.8834454 , 867925.655769  , 801029.22188036],\n",
      "        [715870.04759455, 867962.27586069, 801108.84087069]],\n",
      "\n",
      "       [[715870.04759455, 867962.27586069, 801108.84087069],\n",
      "        [715918.21174371, 867998.89595238, 801188.45986102]],\n",
      "\n",
      "       [[715918.21174371, 867998.89595238, 801188.45986102],\n",
      "        [715965.41716796, 868034.4915285 , 801269.10647325]],\n",
      "\n",
      "       [[715965.41716796, 868034.4915285 , 801269.10647325],\n",
      "        [716012.39222339, 868069.84092717, 801350.00000933]],\n",
      "\n",
      "       [[716012.39222339, 868069.84092717, 801350.00000933],\n",
      "        [716059.36727883, 868105.19032585, 801430.89354542]],\n",
      "\n",
      "       [[716059.36727883, 868105.19032585, 801430.89354542],\n",
      "        [716105.87801253, 868140.15166116, 801512.21428027]],\n",
      "\n",
      "       [[716105.87801253, 868140.15166116, 801512.21428027],\n",
      "        [716151.208435  , 868174.12653488, 801594.62095933]],\n",
      "\n",
      "       [[716151.208435  , 868174.12653488, 801594.62095933],\n",
      "        [716196.53885747, 868208.10140861, 801677.02763839]],\n",
      "\n",
      "       [[716196.53885747, 868208.10140861, 801677.02763839],\n",
      "        [716241.86927994, 868242.07628233, 801759.43431745]],\n",
      "\n",
      "       [[716241.86927994, 868242.07628233, 801759.43431745],\n",
      "        [716285.81935653, 868275.02907846, 801842.98814572]],\n",
      "\n",
      "       [[716285.81935653, 868275.02907846, 801842.98814572],\n",
      "        [716329.36115613, 868307.67956573, 801926.88127636]],\n",
      "\n",
      "       [[716329.36115613, 868307.67956573, 801926.88127636],\n",
      "        [716372.90295573, 868340.33005301, 802010.77440699]],\n",
      "\n",
      "       [[716372.90295573, 868340.33005301, 802010.77440699],\n",
      "        [716415.87743033, 868372.57891751, 802095.1071336 ]],\n",
      "\n",
      "       [[716415.87743033, 868372.57891751, 802095.1071336 ],\n",
      "        [716457.84835946, 868404.11734844, 802180.21746483]],\n",
      "\n",
      "       [[716457.84835946, 868404.11734844, 802180.21746483],\n",
      "        [716499.81928858, 868435.65577937, 802265.32779607]],\n",
      "\n",
      "       [[716499.81928858, 868435.65577937, 802265.32779607],\n",
      "        [716541.64488265, 868467.09538467, 802350.54463401]],\n",
      "\n",
      "       [[716541.64488265, 868467.09538467, 802350.54463401],\n",
      "        [716582.57081143, 868497.92323125, 802436.42077871]],\n",
      "\n",
      "       [[716582.57081143, 868497.92323125, 802436.42077871],\n",
      "        [716623.49674021, 868528.75107783, 802522.29692341]],\n",
      "\n",
      "       [[716623.49674021, 868528.75107783, 802522.29692341],\n",
      "        [716664.35936177, 868559.57023813, 802608.20618416]],\n",
      "\n",
      "       [[716664.35936177, 868559.57023813, 802608.20618416],\n",
      "        [716704.92334027, 868590.34842216, 802694.27166525]],\n",
      "\n",
      "       [[716704.92334027, 868590.34842216, 802694.27166525],\n",
      "        [716745.48731877, 868621.1266062 , 802780.33714635]],\n",
      "\n",
      "       [[716745.48731877, 868621.1266062 , 802780.33714635],\n",
      "        [716786.14454349, 868652.38741514, 802866.18269498]],\n",
      "\n",
      "       [[716786.14454349, 868652.38741514, 802866.18269498],\n",
      "        [716826.89620056, 868684.13698813, 802951.80551356]],\n",
      "\n",
      "       [[716826.89620056, 868684.13698813, 802951.80551356],\n",
      "        [716867.66009079, 868716.07198747, 803037.35074883]],\n",
      "\n",
      "       [[716867.66009079, 868716.07198747, 803037.35074883],\n",
      "        [716908.56690911, 868750.17344528, 803121.98952712]],\n",
      "\n",
      "       [[716908.56690911, 868750.17344528, 803121.98952712],\n",
      "        [716949.47372742, 868784.27490308, 803206.62830542]],\n",
      "\n",
      "       [[716949.47372742, 868784.27490308, 803206.62830542],\n",
      "        [716989.68392479, 868821.55379777, 803290.24214063]],\n",
      "\n",
      "       [[716989.68392479, 868821.55379777, 803290.24214063],\n",
      "        [717029.76532517, 868859.42016304, 803373.66647595]],\n",
      "\n",
      "       [[717029.76532517, 868859.42016304, 803373.66647595],\n",
      "        [717068.08991401, 868900.4265599 , 803456.39180166]],\n",
      "\n",
      "       [[717068.08991401, 868900.4265599 , 803456.39180166],\n",
      "        [717105.60090526, 868942.88713784, 803538.79340877]],\n",
      "\n",
      "       [[717105.60090526, 868942.88713784, 803538.79340877],\n",
      "        [717141.01114922, 868987.49245609, 803620.93215967]],\n",
      "\n",
      "       [[717141.01114922, 868987.49245609, 803620.93215967],\n",
      "        [717174.17638913, 869034.38979238, 803702.7900042 ]],\n",
      "\n",
      "       [[717174.17638913, 869034.38979238, 803702.7900042 ],\n",
      "        [717206.52503575, 869081.79701875, 803784.64834545]],\n",
      "\n",
      "       [[717206.52503575, 869081.79701875, 803784.64834545],\n",
      "        [717234.17585272, 869132.13762311, 803866.50954428]],\n",
      "\n",
      "       [[717234.17585272, 869132.13762311, 803866.50954428],\n",
      "        [717261.82666969, 869182.47822748, 803948.3707431 ]],\n",
      "\n",
      "       [[717261.82666969, 869182.47822748, 803948.3707431 ],\n",
      "        [717285.82582826, 869234.0971361 , 804030.52973269]],\n",
      "\n",
      "       [[717285.82582826, 869234.0971361 , 804030.52973269],\n",
      "        [717307.53827532, 869286.51653391, 804112.87520237]],\n",
      "\n",
      "       [[717307.53827532, 869286.51653391, 804112.87520237],\n",
      "        [717329.25072238, 869338.93593172, 804195.22067204]],\n",
      "\n",
      "       [[717329.25072238, 869338.93593172, 804195.22067204],\n",
      "        [717345.97359661, 869392.02956628, 804278.26998244]],\n",
      "\n",
      "       [[717345.97359661, 869392.02956628, 804278.26998244],\n",
      "        [717361.88112021, 869445.23337849, 804361.43430808]],\n",
      "\n",
      "       [[717361.88112021, 869445.23337849, 804361.43430808],\n",
      "        [717377.78864382, 869498.43719069, 804444.59863372]],\n",
      "\n",
      "       [[717377.78864382, 869498.43719069, 804444.59863372],\n",
      "        [717388.91974629, 869551.52528772, 804528.59234058]],\n",
      "\n",
      "       [[717388.91974629, 869551.52528772, 804528.59234058],\n",
      "        [717399.48014341, 869604.59955866, 804612.68514514]],\n",
      "\n",
      "       [[717399.48014341, 869604.59955866, 804612.68514514],\n",
      "        [717410.04054052, 869657.67382959, 804696.77794969]],\n",
      "\n",
      "       [[717410.04054052, 869657.67382959, 804696.77794969],\n",
      "        [717417.01750801, 869710.38539265, 804781.44510924]],\n",
      "\n",
      "       [[717417.01750801, 869710.38539265, 804781.44510924],\n",
      "        [717422.84013628, 869762.98011571, 804866.29728721]],\n",
      "\n",
      "       [[717422.84013628, 869762.98011571, 804866.29728721],\n",
      "        [717428.66276455, 869815.57483878, 804951.14946517]],\n",
      "\n",
      "       [[717428.66276455, 869815.57483878, 804951.14946517],\n",
      "        [717432.38825383, 869868.0585996 , 805036.16304977]],\n",
      "\n",
      "       [[717432.38825383, 869868.0585996 , 805036.16304977],\n",
      "        [717434.09712806, 869920.4356588 , 805121.33184346]],\n",
      "\n",
      "       [[717434.09712806, 869920.4356588 , 805121.33184346],\n",
      "        [717435.8060023 , 869972.812718  , 805206.50063715]],\n",
      "\n",
      "       [[717435.8060023 , 869972.812718  , 805206.50063715],\n",
      "        [717436.6956675 , 870025.31552824, 805291.59056891]],\n",
      "\n",
      "       [[717436.6956675 , 870025.31552824, 805291.59056891],\n",
      "        [717434.78789133, 870078.24775407, 805376.41120236]],\n",
      "\n",
      "       [[717434.78789133, 870078.24775407, 805376.41120236],\n",
      "        [717432.88011516, 870131.1799799 , 805461.2318358 ]],\n",
      "\n",
      "       [[717432.88011516, 870131.1799799 , 805461.2318358 ],\n",
      "        [717430.97233899, 870184.11220574, 805546.05246925]],\n",
      "\n",
      "       [[717430.97233899, 870184.11220574, 805546.05246925],\n",
      "        [717425.75225346, 870238.61949374, 805629.72688926]],\n",
      "\n",
      "       [[717425.75225346, 870238.61949374, 805629.72688926],\n",
      "        [717420.46538842, 870293.1585366 , 805713.37820044]],\n",
      "\n",
      "       [[717420.46538842, 870293.1585366 , 805713.37820044],\n",
      "        [717415.17852338, 870347.69757946, 805797.02951162]],\n",
      "\n",
      "       [[717415.17852338, 870347.69757946, 805797.02951162],\n",
      "        [717407.02559841, 870404.41248798, 805878.96682013]],\n",
      "\n",
      "       [[717407.02559841, 870404.41248798, 805878.96682013],\n",
      "        [717398.2905962 , 870461.56929999, 805960.55602638]],\n",
      "\n",
      "       [[717398.2905962 , 870461.56929999, 805960.55602638],\n",
      "        [717389.55559399, 870518.72611201, 806042.14523264]],\n",
      "\n",
      "       [[717389.55559399, 870518.72611201, 806042.14523264],\n",
      "        [717377.8201993 , 870578.52931445, 806121.39746323]],\n",
      "\n",
      "       [[717377.8201993 , 870578.52931445, 806121.39746323],\n",
      "        [717365.39415789, 870638.94167749, 806200.111756  ]],\n",
      "\n",
      "       [[717365.39415789, 870638.94167749, 806200.111756  ],\n",
      "        [717352.96811648, 870699.35404053, 806278.82604877]],\n",
      "\n",
      "       [[717352.96811648, 870699.35404053, 806278.82604877],\n",
      "        [717337.02297285, 870762.84942137, 806354.40128623]],\n",
      "\n",
      "       [[717337.02297285, 870762.84942137, 806354.40128623],\n",
      "        [717320.80372103, 870826.5849431 , 806429.73201793]],\n",
      "\n",
      "       [[717320.80372103, 870826.5849431 , 806429.73201793],\n",
      "        [717304.04483172, 870890.77769126, 806504.5263178 ]],\n",
      "\n",
      "       [[717304.04483172, 870890.77769126, 806504.5263178 ],\n",
      "        [717284.3800546 , 870957.43255274, 806576.431992  ]],\n",
      "\n",
      "       [[717284.3800546 , 870957.43255274, 806576.431992  ],\n",
      "        [717264.71527749, 871024.08741422, 806648.3376662 ]],\n",
      "\n",
      "       [[717264.71527749, 871024.08741422, 806648.3376662 ],\n",
      "        [717243.81208089, 871091.88874768, 806718.76894901]],\n",
      "\n",
      "       [[717243.81208089, 871091.88874768, 806718.76894901],\n",
      "        [717221.5599754 , 871160.93883912, 806787.59429807]],\n",
      "\n",
      "       [[717221.5599754 , 871160.93883912, 806787.59429807],\n",
      "        [717199.30786992, 871229.98893056, 806856.41964713]],\n",
      "\n",
      "       [[717199.30786992, 871229.98893056, 806856.41964713],\n",
      "        [717175.78418162, 871300.90352174, 806922.87579445]],\n",
      "\n",
      "       [[717175.78418162, 871300.90352174, 806922.87579445],\n",
      "        [717152.1016607 , 871372.05100642, 806989.03600626]],\n",
      "\n",
      "       [[717152.1016607 , 871372.05100642, 806989.03600626],\n",
      "        [717128.30654833, 871444.07579937, 807054.17831554]],\n",
      "\n",
      "       [[717128.30654833, 871444.07579937, 807054.17831554],\n",
      "        [717104.34417949, 871517.40384817, 807117.80851386]],\n",
      "\n",
      "       [[717104.34417949, 871517.40384817, 807117.80851386],\n",
      "        [717080.40608095, 871590.83452663, 807181.32479837]],\n",
      "\n",
      "       [[717080.40608095, 871590.83452663, 807181.32479837],\n",
      "        [717057.05665688, 871666.75448068, 807242.07811081]],\n",
      "\n",
      "       [[717057.05665688, 871666.75448068, 807242.07811081],\n",
      "        [717033.7072328 , 871742.67443473, 807302.83142325]],\n",
      "\n",
      "       [[717033.7072328 , 871742.67443473, 807302.83142325],\n",
      "        [717011.24885096, 871821.07804036, 807360.66509847]],\n",
      "\n",
      "       [[717011.24885096, 871821.07804036, 807360.66509847],\n",
      "        [716989.00690239, 871900.08492249, 807417.78959671]],\n",
      "\n",
      "       [[716989.00690239, 871900.08492249, 807417.78959671],\n",
      "        [716967.589023  , 871981.27288312, 807472.03782488]],\n",
      "\n",
      "       [[716967.589023  , 871981.27288312, 807472.03782488],\n",
      "        [716946.58706559, 872063.56167183, 807524.83434975]],\n",
      "\n",
      "       [[716946.58706559, 872063.56167183, 807524.83434975],\n",
      "        [716926.27532074, 872147.45083881, 807575.26106464]],\n",
      "\n",
      "       [[716926.27532074, 872147.45083881, 807575.26106464],\n",
      "        [716906.53682077, 872232.66917409, 807623.71957216]],\n",
      "\n",
      "       [[716906.53682077, 872232.66917409, 807623.71957216],\n",
      "        [716887.31509339, 872318.66176921, 807670.95776998]],\n",
      "\n",
      "       [[716887.31509339, 872318.66176921, 807670.95776998],\n",
      "        [716869.0479529 , 872406.08458393, 807715.94180098]]])])\n"
     ]
    },
    {
     "name": "stdout",
     "output_type": "stream",
     "text": [
      "base_final_widths = [108.09957295 108.09957295 108.09957295]\n",
      "overall_ais_width = 108.09957295424911\n",
      "ais_width = 108.09957295424913\n",
      "Adding the following branches as true axons: [ 0  3  5  7  9 10 11 12 13 14 15 16 17 18 19 20 21 23 24 25 26 27 28 29\n",
      " 30 31]\n",
      "curr_soma_angle = 134.65\n",
      "max_axon_angle = 122.15240229910948\n",
      "Changing to a better axon candidate\n",
      "\n",
      "\n",
      " --- Working on limb 0, candidate # 1\n",
      "2 out of 5 branches are axons\n",
      "Axon percentage = 0.4\n",
      "curr_axon_angle_threshold = 120\n",
      "candidate_nodes = [ 1  2  4  6  8 22]\n",
      "non_axon_branches_on_subgraph = [ 4  6  8 22]\n",
      "endnodes_to_test = []\n",
      "candidate_angles,restr_skels = (None, None)\n",
      "Not adding candidate because no angles (None) passed the threhold 120 \n",
      "\n",
      "\n",
      " --- Working on limb 2, candidate # 0\n",
      "3 out of 6 branches are axons\n",
      "Axon percentage = 0.5\n",
      "curr_axon_angle_threshold = 120\n",
      "candidate_nodes = [0 1 2 3 4 5]\n",
      "non_axon_branches_on_subgraph = [0 3 5]\n",
      "endnodes_to_test = []\n",
      "candidate_angles,restr_skels = (None, None)\n",
      "Not adding candidate because no angles (None) passed the threhold 120 \n",
      "\n",
      "\n",
      " --- Working on limb 3, candidate # 0\n",
      "0 out of 1 branches are axons\n",
      "Axon percentage = 0.0\n",
      "Not adding candidate no axon branches detected \n",
      "\n",
      "\n",
      " --- Working on limb 4, candidate # 0\n",
      "0 out of 1 branches are axons\n",
      "Axon percentage = 0.0\n",
      "Not adding candidate no axon branches detected \n",
      "\n",
      "\n",
      " --- Working on limb 5, candidate # 0\n",
      "0 out of 2 branches are axons\n",
      "Axon percentage = 0.0\n",
      "Not adding candidate no axon branches detected \n",
      "Using the best axon approach\n",
      "Using True\n",
      "Limb L0: Axon branches before dendritic path filter = [ 0  3  5  7  9 10 11 12 13 14 15 16 17 18 19 20 21 23 24 25 26 27 28 29\n",
      " 30 31]\n",
      "Limb L0: Axon branches AFTER dendritic path filter = [ 0  3  5  7  9 10 11 12 13 14 15 16 17 18 19 20 21 23 24 25 26 27 28 29\n",
      " 30 31]\n",
      "\n",
      "\n",
      "Part 4: final_true_axons = {'L0': array([ 0,  3,  5,  7,  9, 10, 11, 12, 13, 14, 15, 16, 17, 18, 19, 20, 21,\n",
      "       23, 24, 25, 26, 27, 28, 29, 30, 31])}\n",
      "\n",
      "--- Working on filter 0:\n",
      "function = dendrite_on_axon_merges\n",
      "function __name__ = filter_away_dendrite_on_axon_merges\n",
      "function arguments = {'use_pre_existing_axon_labels': True}\n",
      "\n",
      "\n",
      "\n",
      "\n",
      "\n",
      " ---- Total time for applying filter: 0.21754765510559082 -----\n",
      "Starting axon branch was not the limb starting node so generating border vertices and computing upstream branch\n",
      "upstream_node_to_axon_starting_branch = 8\n",
      "More than 1 seperated mesh (taking the top one): [<trimesh.Trimesh(vertices.shape=(51998, 3), faces.shape=(103545, 3))>\n",
      " <trimesh.Trimesh(vertices.shape=(13721, 3), faces.shape=(27348, 3))>\n",
      " <trimesh.Trimesh(vertices.shape=(1756, 3), faces.shape=(3507, 3))>]\n",
      "root_curr = [712022.6 863223.5 798451.2]\n",
      "Time for preparing soma vertices and root: 0.00038170814514160156\n",
      "invalidation_d = 2000\n",
      "cc_vertex_thresh = 10\n"
     ]
    },
    {
     "name": "stderr",
     "output_type": "stream",
     "text": [
      "\r",
      "  0%|          | 0/1 [00:00<?, ?it/s]"
     ]
    },
    {
     "data": {
      "application/vnd.jupyter.widget-view+json": {
       "model_id": "944465af500f44fba6e78ab05c7f6802",
       "version_major": 2,
       "version_minor": 0
      },
      "text/plain": [
       "  0%|          | 0/51997 [00:00<?, ?it/s]"
      ]
     },
     "metadata": {},
     "output_type": "display_data"
    },
    {
     "name": "stderr",
     "output_type": "stream",
     "text": [
      "100%|██████████| 1/1 [00:01<00:00,  1.37s/it]\n"
     ]
    },
    {
     "name": "stdout",
     "output_type": "stream",
     "text": [
      "meshparty_segment_size = 100\n",
      "Time for 1st pass MP skeletonization: 2.816944122314453\n",
      "branches_touching_root = [13]\n",
      "combining close nodes\n",
      "combine_threshold = 1300\n",
      "length of Graph = 11886\n",
      "After combining close endpoints max(kept_branches_idx) = 111, len(kept_branches_idx) = 110\n",
      "empty_indices % = 0.0\n",
      " conflict_indices % = 0.02457092633551291\n"
     ]
    },
    {
     "data": {
      "application/vnd.jupyter.widget-view+json": {
       "model_id": "07b036ade294453fb7d81ad5f8179280",
       "version_major": 2,
       "version_minor": 0
      },
      "text/plain": [
       "  0%|          | 0/53 [00:00<?, ?it/s]"
      ]
     },
     "metadata": {},
     "output_type": "display_data"
    },
    {
     "name": "stdout",
     "output_type": "stream",
     "text": [
      "AFTER face_lookup_resolved_test\n"
     ]
    },
    {
     "data": {
      "application/vnd.jupyter.widget-view+json": {
       "model_id": "030cb397aa79471eb9b769fa52dbe315",
       "version_major": 2,
       "version_minor": 0
      },
      "text/plain": [
       "  0%|          | 0/110 [00:00<?, ?it/s]"
      ]
     },
     "metadata": {},
     "output_type": "display_data"
    },
    {
     "name": "stdout",
     "output_type": "stream",
     "text": [
      "Decomposing first pass: 10.723182439804077\n",
      "Only Using MeshParty Skeletonization and Mesh Correspondence\n",
      "Another print\n",
      "Divinding into MP and MAP pieces: 0.0001862049102783203\n",
      "Total time for MAP sublimb processing 3.0994415283203125e-06\n",
      "---- Working on MP Decomposition #0 ----\n",
      "Using Quicker soma_to_piece_touching_vertices because no MAP and only one sublimb_mesh piece \n",
      "MP filtering soma verts: 0.0002779960632324219\n",
      "Fixing Possible Soma Extension Branch for Sublimb 0\n",
      "Total time for mesh KDTree = 0.12672901153564453\n",
      "sbv[0].reshape(-1,3) = [[712022.6 863223.5 798451.2]]\n",
      "closest_sk_pt_coord BEFORE = [712248.35910816 864270.69876036 798349.18347665]\n",
      "current_skeleton.shape = (612, 2, 3)\n",
      "node_for_stitch = 0: [712248.35910816 864270.69876036 798349.18347665]\n",
      "node_for_stitch AFTER = 0: [712248.35910816 864270.69876036 798349.18347665]\n",
      "possible_node_loc = [  0 612]\n",
      "possible_node_loc AFTER = [  0 612]\n",
      "curr_shortest_path = [0]\n",
      "Current stitch point was a branch or endpoint\n",
      "change_status for create soma extending pieces = False\n",
      "closest_sk_pt_coord AFTER = [712248.35910816 864270.69876036 798349.18347665]\n",
      "skipping soma 0 because closest skeleton node was already end node\n",
      "endpoints_must_keep = {0: array([[712248.35910816, 864270.69876036, 798349.18347665]])}\n",
      "match_sk_branches = [13]\n",
      "The new branch info was none so skipping \n",
      "\n",
      "No soma extending branch was added for this sublimb even though it had a soma border (means they already existed)\n",
      "MP (because soma touching verts) soma extension add: 8.66485047340393\n",
      "There were not both MAP and MP pieces so skipping the stitch resolving phase\n",
      "Time for decomp of Limb = 22.83631920814514\n",
      "Number of matching vertices = 8\n",
      "Only one endpoint after filtering away the endpoints that are not on the skeleton\n",
      "Using Distance measure skeletal_distance\n",
      "endpoints_must_keep = [[712248.35910816 864270.69876036 798349.18347665]]\n",
      "Number of end_nodes BEFORE filtering = 58\n",
      "all_single_nodes_to_eliminate = [6]\n"
     ]
    },
    {
     "data": {
      "application/vnd.jupyter.widget-view+json": {
       "model_id": "3d1b79fd97b049f196987d1242f69ead",
       "version_major": 2,
       "version_minor": 0
      },
      "text/plain": [
       "  0%|          | 0/11 [00:00<?, ?it/s]"
      ]
     },
     "metadata": {},
     "output_type": "display_data"
    },
    {
     "name": "stdout",
     "output_type": "stream",
     "text": [
      "Removed 11 skeletal branches\n"
     ]
    },
    {
     "data": {
      "application/vnd.jupyter.widget-view+json": {
       "model_id": "8671b506f8934164a622fe0525c4088d",
       "version_major": 2,
       "version_minor": 0
      },
      "text/plain": [
       "  0%|          | 0/110 [00:00<?, ?it/s]"
      ]
     },
     "metadata": {},
     "output_type": "display_data"
    },
    {
     "name": "stdout",
     "output_type": "stream",
     "text": [
      "103544 103545\n",
      "For marked faces: None\n",
      "empty_indices % = 0.0\n",
      " conflict_indices % = 0.0\n"
     ]
    },
    {
     "data": {
      "application/vnd.jupyter.widget-view+json": {
       "model_id": "fe05307719694e6aaba8b4a6cad8c85a",
       "version_major": 2,
       "version_minor": 0
      },
      "text/plain": [
       "0it [00:00, ?it/s]"
      ]
     },
     "metadata": {},
     "output_type": "display_data"
    },
    {
     "name": "stdout",
     "output_type": "stream",
     "text": [
      "AFTER face_lookup_resolved_test\n"
     ]
    },
    {
     "data": {
      "application/vnd.jupyter.widget-view+json": {
       "model_id": "6555fcec5a6d4e8ab6a0cc66569c07c4",
       "version_major": 2,
       "version_minor": 0
      },
      "text/plain": [
       "  0%|          | 0/88 [00:00<?, ?it/s]"
      ]
     },
     "metadata": {},
     "output_type": "display_data"
    },
    {
     "name": "stdout",
     "output_type": "stream",
     "text": [
      "Limb Correspondence before stitching = 88\n",
      "Limb Correspondence AFTER stitching = 118\n",
      "Readjusting starting axon branch skeleton\n",
      "Fixing the axon starting branch endpoint to align with upstream branch\n",
      "Starting Branch 8 skeleton before fix: (612, 2, 3)\n",
      "Starting Branch 8 skeleton AFTER fix: (613, 2, 3)\n",
      "concept_network_dict = {0: [<networkx_utils.GraphOrderedEdges object at 0x7f3c72103080>]}\n",
      "Assigning the old width calculation because no valid new widths\n",
      "Assigning the old width calculation because no valid new widths\n",
      "Assigning the old width calculation because no valid new widths\n",
      "Assigning the old width calculation because no valid new widths\n",
      "\n",
      "\n",
      "----Working on seperate_graph 0----\n",
      "\n",
      "\n",
      "---------Working on soma_idx = 0, soma_group_idx 0, endpt = [713147.18730159 859537.7968254  798736.47301587]---------\n",
      "Starting_edge inside branches_to_conept = [[712953.51168846 860507.35481529 799542.83814458]\n",
      " [713147.18730159 859537.7968254  798736.47301587]]\n",
      "At the start, starting_node (in terms of the skeleton, that shouldn't match the starting edge) = [13]\n",
      "printing out current edge:\n",
      "[[713147.18730159 859537.7968254  798736.47301587]\n",
      " [712953.51168846 860507.35481529 799542.83814458]]\n",
      "edge_endpoints_to_process was empty so exiting loop after 124 iterations\n",
      "starting_node in concept map (that should match the starting edge) = 118\n",
      "Total time for branches to concept conversion = 3.617587089538574\n",
      "\n",
      "Done generating concept network \n",
      "\n",
      "\n"
     ]
    },
    {
     "data": {
      "application/vnd.jupyter.widget-view+json": {
       "model_id": "30608d40c935468790a80414267170a4",
       "version_major": 2,
       "version_minor": 0
      },
      "text/plain": [
       "  0%|          | 0/107 [00:00<?, ?it/s]"
      ]
     },
     "metadata": {},
     "output_type": "display_data"
    },
    {
     "data": {
      "application/vnd.jupyter.widget-view+json": {
       "model_id": "d5036aacfd0f4d57bc8e05599fb1f0b3",
       "version_major": 2,
       "version_minor": 0
      },
      "text/plain": [
       "  0%|          | 0/10 [00:00<?, ?it/s]"
      ]
     },
     "metadata": {},
     "output_type": "display_data"
    },
    {
     "data": {
      "application/vnd.jupyter.widget-view+json": {
       "model_id": "11d8d51539cc42c9b8d9208457d3ad44",
       "version_major": 2,
       "version_minor": 0
      },
      "text/plain": [
       "  0%|          | 0/6 [00:00<?, ?it/s]"
      ]
     },
     "metadata": {},
     "output_type": "display_data"
    },
    {
     "data": {
      "application/vnd.jupyter.widget-view+json": {
       "model_id": "05f52b081db74930babb5680e4258a97",
       "version_major": 2,
       "version_minor": 0
      },
      "text/plain": [
       "  0%|          | 0/8 [00:00<?, ?it/s]"
      ]
     },
     "metadata": {},
     "output_type": "display_data"
    },
    {
     "data": {
      "application/vnd.jupyter.widget-view+json": {
       "model_id": "7a5a9498c04444d09a86bdb43d967fdd",
       "version_major": 2,
       "version_minor": 0
      },
      "text/plain": [
       "  0%|          | 0/4 [00:00<?, ?it/s]"
      ]
     },
     "metadata": {},
     "output_type": "display_data"
    },
    {
     "data": {
      "application/vnd.jupyter.widget-view+json": {
       "model_id": "d647c3920b474899af251461e58cc557",
       "version_major": 2,
       "version_minor": 0
      },
      "text/plain": [
       "  0%|          | 0/52 [00:00<?, ?it/s]"
      ]
     },
     "metadata": {},
     "output_type": "display_data"
    },
    {
     "data": {
      "application/vnd.jupyter.widget-view+json": {
       "model_id": "f80d841589504e13845c81616c15aeb5",
       "version_major": 2,
       "version_minor": 0
      },
      "text/plain": [
       "  0%|          | 0/30 [00:00<?, ?it/s]"
      ]
     },
     "metadata": {},
     "output_type": "display_data"
    },
    {
     "data": {
      "application/vnd.jupyter.widget-view+json": {
       "model_id": "990bc25cde65419c8237c2329b9cc767",
       "version_major": 2,
       "version_minor": 0
      },
      "text/plain": [
       "  0%|          | 0/10 [00:00<?, ?it/s]"
      ]
     },
     "metadata": {},
     "output_type": "display_data"
    },
    {
     "data": {
      "application/vnd.jupyter.widget-view+json": {
       "model_id": "a8658a7291c843288968bbe984a79d07",
       "version_major": 2,
       "version_minor": 0
      },
      "text/plain": [
       "  0%|          | 0/6 [00:00<?, ?it/s]"
      ]
     },
     "metadata": {},
     "output_type": "display_data"
    },
    {
     "data": {
      "application/vnd.jupyter.widget-view+json": {
       "model_id": "0ee22057f9844208af88699a242af6cd",
       "version_major": 2,
       "version_minor": 0
      },
      "text/plain": [
       "  0%|          | 0/58 [00:00<?, ?it/s]"
      ]
     },
     "metadata": {},
     "output_type": "display_data"
    },
    {
     "data": {
      "application/vnd.jupyter.widget-view+json": {
       "model_id": "070f3d0549e348a788ecb8407d106875",
       "version_major": 2,
       "version_minor": 0
      },
      "text/plain": [
       "  0%|          | 0/44 [00:00<?, ?it/s]"
      ]
     },
     "metadata": {},
     "output_type": "display_data"
    },
    {
     "data": {
      "application/vnd.jupyter.widget-view+json": {
       "model_id": "4292d11629ce42b18ed85568f8ac8d1b",
       "version_major": 2,
       "version_minor": 0
      },
      "text/plain": [
       "  0%|          | 0/13 [00:00<?, ?it/s]"
      ]
     },
     "metadata": {},
     "output_type": "display_data"
    },
    {
     "data": {
      "application/vnd.jupyter.widget-view+json": {
       "model_id": "7d9737a5e5a3477db99bbc3f4a509c10",
       "version_major": 2,
       "version_minor": 0
      },
      "text/plain": [
       "  0%|          | 0/7 [00:00<?, ?it/s]"
      ]
     },
     "metadata": {},
     "output_type": "display_data"
    },
    {
     "data": {
      "application/vnd.jupyter.widget-view+json": {
       "model_id": "062e881aded84e2fa085a2ab3a0f097a",
       "version_major": 2,
       "version_minor": 0
      },
      "text/plain": [
       "  0%|          | 0/8 [00:00<?, ?it/s]"
      ]
     },
     "metadata": {},
     "output_type": "display_data"
    },
    {
     "data": {
      "application/vnd.jupyter.widget-view+json": {
       "model_id": "5ffb9cce0cb5415cb568d999db98bbde",
       "version_major": 2,
       "version_minor": 0
      },
      "text/plain": [
       "  0%|          | 0/17 [00:00<?, ?it/s]"
      ]
     },
     "metadata": {},
     "output_type": "display_data"
    },
    {
     "data": {
      "application/vnd.jupyter.widget-view+json": {
       "model_id": "9112967ffc464159893c54da4fb6cdc6",
       "version_major": 2,
       "version_minor": 0
      },
      "text/plain": [
       "  0%|          | 0/9 [00:00<?, ?it/s]"
      ]
     },
     "metadata": {},
     "output_type": "display_data"
    },
    {
     "data": {
      "application/vnd.jupyter.widget-view+json": {
       "model_id": "69d439ea857d400894e2ce67e34ef72a",
       "version_major": 2,
       "version_minor": 0
      },
      "text/plain": [
       "  0%|          | 0/22 [00:00<?, ?it/s]"
      ]
     },
     "metadata": {},
     "output_type": "display_data"
    },
    {
     "data": {
      "application/vnd.jupyter.widget-view+json": {
       "model_id": "30894ee435724c35a207559987f377b7",
       "version_major": 2,
       "version_minor": 0
      },
      "text/plain": [
       "  0%|          | 0/4 [00:00<?, ?it/s]"
      ]
     },
     "metadata": {},
     "output_type": "display_data"
    },
    {
     "data": {
      "application/vnd.jupyter.widget-view+json": {
       "model_id": "b52cf1c7b5a74a51a91e66523ee107d9",
       "version_major": 2,
       "version_minor": 0
      },
      "text/plain": [
       "  0%|          | 0/11 [00:00<?, ?it/s]"
      ]
     },
     "metadata": {},
     "output_type": "display_data"
    },
    {
     "data": {
      "application/vnd.jupyter.widget-view+json": {
       "model_id": "b5ab033ad8b7494e94682b3bd31e8b0b",
       "version_major": 2,
       "version_minor": 0
      },
      "text/plain": [
       "  0%|          | 0/76 [00:00<?, ?it/s]"
      ]
     },
     "metadata": {},
     "output_type": "display_data"
    },
    {
     "data": {
      "application/vnd.jupyter.widget-view+json": {
       "model_id": "15e649b8f1be4ea29ee8740cbb88eadc",
       "version_major": 2,
       "version_minor": 0
      },
      "text/plain": [
       "  0%|          | 0/3 [00:00<?, ?it/s]"
      ]
     },
     "metadata": {},
     "output_type": "display_data"
    },
    {
     "data": {
      "application/vnd.jupyter.widget-view+json": {
       "model_id": "23649c9ff83347b6be7ce713d4ad8956",
       "version_major": 2,
       "version_minor": 0
      },
      "text/plain": [
       "  0%|          | 0/14 [00:00<?, ?it/s]"
      ]
     },
     "metadata": {},
     "output_type": "display_data"
    },
    {
     "data": {
      "application/vnd.jupyter.widget-view+json": {
       "model_id": "a90be7d416824dae84857a7dd399e170",
       "version_major": 2,
       "version_minor": 0
      },
      "text/plain": [
       "  0%|          | 0/46 [00:00<?, ?it/s]"
      ]
     },
     "metadata": {},
     "output_type": "display_data"
    },
    {
     "data": {
      "application/vnd.jupyter.widget-view+json": {
       "model_id": "903796a5344446a4aca50f72576b1800",
       "version_major": 2,
       "version_minor": 0
      },
      "text/plain": [
       "  0%|          | 0/3 [00:00<?, ?it/s]"
      ]
     },
     "metadata": {},
     "output_type": "display_data"
    },
    {
     "data": {
      "application/vnd.jupyter.widget-view+json": {
       "model_id": "d5a0ac52eb8f4accad897e3705db95c1",
       "version_major": 2,
       "version_minor": 0
      },
      "text/plain": [
       "  0%|          | 0/1 [00:00<?, ?it/s]"
      ]
     },
     "metadata": {},
     "output_type": "display_data"
    },
    {
     "data": {
      "application/vnd.jupyter.widget-view+json": {
       "model_id": "3a5e3dea9be944b288a5c33f3cd220ee",
       "version_major": 2,
       "version_minor": 0
      },
      "text/plain": [
       "  0%|          | 0/30 [00:00<?, ?it/s]"
      ]
     },
     "metadata": {},
     "output_type": "display_data"
    },
    {
     "data": {
      "application/vnd.jupyter.widget-view+json": {
       "model_id": "1baad72f5f2c4f03985eed8b4037abb6",
       "version_major": 2,
       "version_minor": 0
      },
      "text/plain": [
       "  0%|          | 0/4 [00:00<?, ?it/s]"
      ]
     },
     "metadata": {},
     "output_type": "display_data"
    },
    {
     "data": {
      "application/vnd.jupyter.widget-view+json": {
       "model_id": "c25ac9d6239e4a45a067ea8fcc64a6f5",
       "version_major": 2,
       "version_minor": 0
      },
      "text/plain": [
       "  0%|          | 0/54 [00:00<?, ?it/s]"
      ]
     },
     "metadata": {},
     "output_type": "display_data"
    },
    {
     "data": {
      "application/vnd.jupyter.widget-view+json": {
       "model_id": "3ac4c743d0de4055b33bb7b6c77fb60e",
       "version_major": 2,
       "version_minor": 0
      },
      "text/plain": [
       "  0%|          | 0/38 [00:00<?, ?it/s]"
      ]
     },
     "metadata": {},
     "output_type": "display_data"
    },
    {
     "data": {
      "application/vnd.jupyter.widget-view+json": {
       "model_id": "f84b34ebfc364f43bfb4b9bc3a386521",
       "version_major": 2,
       "version_minor": 0
      },
      "text/plain": [
       "  0%|          | 0/76 [00:00<?, ?it/s]"
      ]
     },
     "metadata": {},
     "output_type": "display_data"
    },
    {
     "data": {
      "application/vnd.jupyter.widget-view+json": {
       "model_id": "3a7b03a597964a908e1f69a5028a99e3",
       "version_major": 2,
       "version_minor": 0
      },
      "text/plain": [
       "  0%|          | 0/21 [00:00<?, ?it/s]"
      ]
     },
     "metadata": {},
     "output_type": "display_data"
    },
    {
     "data": {
      "application/vnd.jupyter.widget-view+json": {
       "model_id": "874bb24e59534d85a463f7c2d998c534",
       "version_major": 2,
       "version_minor": 0
      },
      "text/plain": [
       "  0%|          | 0/6 [00:00<?, ?it/s]"
      ]
     },
     "metadata": {},
     "output_type": "display_data"
    },
    {
     "data": {
      "application/vnd.jupyter.widget-view+json": {
       "model_id": "464bf32d775c4dec8e8704e1632cd8dd",
       "version_major": 2,
       "version_minor": 0
      },
      "text/plain": [
       "  0%|          | 0/18 [00:00<?, ?it/s]"
      ]
     },
     "metadata": {},
     "output_type": "display_data"
    },
    {
     "data": {
      "application/vnd.jupyter.widget-view+json": {
       "model_id": "2031123fc04342ab9c6ebc9d7a6940fb",
       "version_major": 2,
       "version_minor": 0
      },
      "text/plain": [
       "  0%|          | 0/5 [00:00<?, ?it/s]"
      ]
     },
     "metadata": {},
     "output_type": "display_data"
    },
    {
     "data": {
      "application/vnd.jupyter.widget-view+json": {
       "model_id": "4c59fc10de6d403fb129d165ad9ce1ea",
       "version_major": 2,
       "version_minor": 0
      },
      "text/plain": [
       "  0%|          | 0/6 [00:00<?, ?it/s]"
      ]
     },
     "metadata": {},
     "output_type": "display_data"
    },
    {
     "data": {
      "application/vnd.jupyter.widget-view+json": {
       "model_id": "fd63c7b19db84d198d4e4cbca2a4cc1a",
       "version_major": 2,
       "version_minor": 0
      },
      "text/plain": [
       "  0%|          | 0/5 [00:00<?, ?it/s]"
      ]
     },
     "metadata": {},
     "output_type": "display_data"
    },
    {
     "data": {
      "application/vnd.jupyter.widget-view+json": {
       "model_id": "85d62423df964ac98df499f2c0cd1f16",
       "version_major": 2,
       "version_minor": 0
      },
      "text/plain": [
       "  0%|          | 0/6 [00:00<?, ?it/s]"
      ]
     },
     "metadata": {},
     "output_type": "display_data"
    },
    {
     "data": {
      "application/vnd.jupyter.widget-view+json": {
       "model_id": "c6fae65c811948cdba73935557326ca5",
       "version_major": 2,
       "version_minor": 0
      },
      "text/plain": [
       "  0%|          | 0/5 [00:00<?, ?it/s]"
      ]
     },
     "metadata": {},
     "output_type": "display_data"
    },
    {
     "data": {
      "application/vnd.jupyter.widget-view+json": {
       "model_id": "0f3d9afd76ce4c0ebfcf678dca951a0b",
       "version_major": 2,
       "version_minor": 0
      },
      "text/plain": [
       "  0%|          | 0/4 [00:00<?, ?it/s]"
      ]
     },
     "metadata": {},
     "output_type": "display_data"
    },
    {
     "data": {
      "application/vnd.jupyter.widget-view+json": {
       "model_id": "6ef4c7f41f434ec7a548ff338a34776e",
       "version_major": 2,
       "version_minor": 0
      },
      "text/plain": [
       "  0%|          | 0/17 [00:00<?, ?it/s]"
      ]
     },
     "metadata": {},
     "output_type": "display_data"
    },
    {
     "data": {
      "application/vnd.jupyter.widget-view+json": {
       "model_id": "3f44f9537ed347c59f5a597279ef873c",
       "version_major": 2,
       "version_minor": 0
      },
      "text/plain": [
       "  0%|          | 0/4 [00:00<?, ?it/s]"
      ]
     },
     "metadata": {},
     "output_type": "display_data"
    },
    {
     "data": {
      "application/vnd.jupyter.widget-view+json": {
       "model_id": "fb298a205340480d8f4917a54f9802fe",
       "version_major": 2,
       "version_minor": 0
      },
      "text/plain": [
       "  0%|          | 0/5 [00:00<?, ?it/s]"
      ]
     },
     "metadata": {},
     "output_type": "display_data"
    },
    {
     "data": {
      "application/vnd.jupyter.widget-view+json": {
       "model_id": "2eed26c402bd4bfda000d4215dfae695",
       "version_major": 2,
       "version_minor": 0
      },
      "text/plain": [
       "  0%|          | 0/3 [00:00<?, ?it/s]"
      ]
     },
     "metadata": {},
     "output_type": "display_data"
    },
    {
     "data": {
      "application/vnd.jupyter.widget-view+json": {
       "model_id": "b93db70cb320403cabda3f4193d9d062",
       "version_major": 2,
       "version_minor": 0
      },
      "text/plain": [
       "  0%|          | 0/9 [00:00<?, ?it/s]"
      ]
     },
     "metadata": {},
     "output_type": "display_data"
    },
    {
     "data": {
      "application/vnd.jupyter.widget-view+json": {
       "model_id": "9092590177f34acfbd3d63e283d10546",
       "version_major": 2,
       "version_minor": 0
      },
      "text/plain": [
       "  0%|          | 0/30 [00:00<?, ?it/s]"
      ]
     },
     "metadata": {},
     "output_type": "display_data"
    },
    {
     "data": {
      "application/vnd.jupyter.widget-view+json": {
       "model_id": "05106d06392b4a6b9469447765f721cb",
       "version_major": 2,
       "version_minor": 0
      },
      "text/plain": [
       "  0%|          | 0/7 [00:00<?, ?it/s]"
      ]
     },
     "metadata": {},
     "output_type": "display_data"
    },
    {
     "data": {
      "application/vnd.jupyter.widget-view+json": {
       "model_id": "4eaaf30bfe884d6096d7c6f1ce5c0f17",
       "version_major": 2,
       "version_minor": 0
      },
      "text/plain": [
       "  0%|          | 0/5 [00:00<?, ?it/s]"
      ]
     },
     "metadata": {},
     "output_type": "display_data"
    },
    {
     "data": {
      "application/vnd.jupyter.widget-view+json": {
       "model_id": "92a078c17b9f41238cee5c62891aa1ec",
       "version_major": 2,
       "version_minor": 0
      },
      "text/plain": [
       "  0%|          | 0/4 [00:00<?, ?it/s]"
      ]
     },
     "metadata": {},
     "output_type": "display_data"
    },
    {
     "data": {
      "application/vnd.jupyter.widget-view+json": {
       "model_id": "79dcad63a37447d38453d7248ec32541",
       "version_major": 2,
       "version_minor": 0
      },
      "text/plain": [
       "  0%|          | 0/5 [00:00<?, ?it/s]"
      ]
     },
     "metadata": {},
     "output_type": "display_data"
    },
    {
     "data": {
      "application/vnd.jupyter.widget-view+json": {
       "model_id": "dbbc09a23bd14709b9bbf3cb098969d8",
       "version_major": 2,
       "version_minor": 0
      },
      "text/plain": [
       "  0%|          | 0/7 [00:00<?, ?it/s]"
      ]
     },
     "metadata": {},
     "output_type": "display_data"
    },
    {
     "data": {
      "application/vnd.jupyter.widget-view+json": {
       "model_id": "4ff2502c245d4d11b0c6cedae4ba5e42",
       "version_major": 2,
       "version_minor": 0
      },
      "text/plain": [
       "  0%|          | 0/3 [00:00<?, ?it/s]"
      ]
     },
     "metadata": {},
     "output_type": "display_data"
    },
    {
     "data": {
      "application/vnd.jupyter.widget-view+json": {
       "model_id": "d1b67c17c6da4fe2aa89c63af8dc53a4",
       "version_major": 2,
       "version_minor": 0
      },
      "text/plain": [
       "  0%|          | 0/4 [00:00<?, ?it/s]"
      ]
     },
     "metadata": {},
     "output_type": "display_data"
    },
    {
     "data": {
      "application/vnd.jupyter.widget-view+json": {
       "model_id": "d3c2cb18239c4f7882c6e64310c1f707",
       "version_major": 2,
       "version_minor": 0
      },
      "text/plain": [
       "  0%|          | 0/6 [00:00<?, ?it/s]"
      ]
     },
     "metadata": {},
     "output_type": "display_data"
    },
    {
     "data": {
      "application/vnd.jupyter.widget-view+json": {
       "model_id": "ff7b63eb4c664f298f13f2079d39cc61",
       "version_major": 2,
       "version_minor": 0
      },
      "text/plain": [
       "  0%|          | 0/4 [00:00<?, ?it/s]"
      ]
     },
     "metadata": {},
     "output_type": "display_data"
    },
    {
     "data": {
      "application/vnd.jupyter.widget-view+json": {
       "model_id": "ebc4efe0c38848e3a73cb96e05cd1343",
       "version_major": 2,
       "version_minor": 0
      },
      "text/plain": [
       "  0%|          | 0/20 [00:00<?, ?it/s]"
      ]
     },
     "metadata": {},
     "output_type": "display_data"
    },
    {
     "data": {
      "application/vnd.jupyter.widget-view+json": {
       "model_id": "41adce074f394065ba167fae5231a0fa",
       "version_major": 2,
       "version_minor": 0
      },
      "text/plain": [
       "  0%|          | 0/5 [00:00<?, ?it/s]"
      ]
     },
     "metadata": {},
     "output_type": "display_data"
    },
    {
     "data": {
      "application/vnd.jupyter.widget-view+json": {
       "model_id": "ba074f65805146f1abb5c701fb4d3034",
       "version_major": 2,
       "version_minor": 0
      },
      "text/plain": [
       "  0%|          | 0/5 [00:00<?, ?it/s]"
      ]
     },
     "metadata": {},
     "output_type": "display_data"
    },
    {
     "data": {
      "application/vnd.jupyter.widget-view+json": {
       "model_id": "b8f0608f4cd84737b926cf73b945faff",
       "version_major": 2,
       "version_minor": 0
      },
      "text/plain": [
       "  0%|          | 0/11 [00:00<?, ?it/s]"
      ]
     },
     "metadata": {},
     "output_type": "display_data"
    },
    {
     "data": {
      "application/vnd.jupyter.widget-view+json": {
       "model_id": "35a89e978a75419f9b634a55170a8b0e",
       "version_major": 2,
       "version_minor": 0
      },
      "text/plain": [
       "  0%|          | 0/20 [00:00<?, ?it/s]"
      ]
     },
     "metadata": {},
     "output_type": "display_data"
    },
    {
     "data": {
      "application/vnd.jupyter.widget-view+json": {
       "model_id": "154bca2f36ac4e55b3ca3a79a44090ea",
       "version_major": 2,
       "version_minor": 0
      },
      "text/plain": [
       "  0%|          | 0/4 [00:00<?, ?it/s]"
      ]
     },
     "metadata": {},
     "output_type": "display_data"
    },
    {
     "data": {
      "application/vnd.jupyter.widget-view+json": {
       "model_id": "c31f407aebb8441da9919e5a4ff0f6e3",
       "version_major": 2,
       "version_minor": 0
      },
      "text/plain": [
       "  0%|          | 0/7 [00:00<?, ?it/s]"
      ]
     },
     "metadata": {},
     "output_type": "display_data"
    },
    {
     "data": {
      "application/vnd.jupyter.widget-view+json": {
       "model_id": "d7a49b7ff08d4a2797198f31f4baa571",
       "version_major": 2,
       "version_minor": 0
      },
      "text/plain": [
       "  0%|          | 0/6 [00:00<?, ?it/s]"
      ]
     },
     "metadata": {},
     "output_type": "display_data"
    },
    {
     "data": {
      "application/vnd.jupyter.widget-view+json": {
       "model_id": "68efbb649b7d4e1685c6e0d254c0f358",
       "version_major": 2,
       "version_minor": 0
      },
      "text/plain": [
       "  0%|          | 0/34 [00:00<?, ?it/s]"
      ]
     },
     "metadata": {},
     "output_type": "display_data"
    },
    {
     "data": {
      "application/vnd.jupyter.widget-view+json": {
       "model_id": "a70e24847462483fa4cdb7c7b32f1bc2",
       "version_major": 2,
       "version_minor": 0
      },
      "text/plain": [
       "  0%|          | 0/10 [00:00<?, ?it/s]"
      ]
     },
     "metadata": {},
     "output_type": "display_data"
    },
    {
     "data": {
      "application/vnd.jupyter.widget-view+json": {
       "model_id": "c3e802760c7f4fc38e1426790f30c801",
       "version_major": 2,
       "version_minor": 0
      },
      "text/plain": [
       "  0%|          | 0/21 [00:00<?, ?it/s]"
      ]
     },
     "metadata": {},
     "output_type": "display_data"
    },
    {
     "data": {
      "application/vnd.jupyter.widget-view+json": {
       "model_id": "79d0f84d5d7a4620b35b940823e679d6",
       "version_major": 2,
       "version_minor": 0
      },
      "text/plain": [
       "  0%|          | 0/15 [00:00<?, ?it/s]"
      ]
     },
     "metadata": {},
     "output_type": "display_data"
    },
    {
     "data": {
      "application/vnd.jupyter.widget-view+json": {
       "model_id": "ca11a37de7b14cb49d9b07efb4b0f52a",
       "version_major": 2,
       "version_minor": 0
      },
      "text/plain": [
       "  0%|          | 0/6 [00:00<?, ?it/s]"
      ]
     },
     "metadata": {},
     "output_type": "display_data"
    },
    {
     "data": {
      "application/vnd.jupyter.widget-view+json": {
       "model_id": "aadebfa565884ec4b93431af751d177b",
       "version_major": 2,
       "version_minor": 0
      },
      "text/plain": [
       "  0%|          | 0/33 [00:00<?, ?it/s]"
      ]
     },
     "metadata": {},
     "output_type": "display_data"
    },
    {
     "data": {
      "application/vnd.jupyter.widget-view+json": {
       "model_id": "fea8dad6ba8743328ce6a1308aaf88ae",
       "version_major": 2,
       "version_minor": 0
      },
      "text/plain": [
       "  0%|          | 0/4 [00:00<?, ?it/s]"
      ]
     },
     "metadata": {},
     "output_type": "display_data"
    },
    {
     "data": {
      "application/vnd.jupyter.widget-view+json": {
       "model_id": "a421cf0293ed48d49ba20fc0c4973bae",
       "version_major": 2,
       "version_minor": 0
      },
      "text/plain": [
       "  0%|          | 0/20 [00:00<?, ?it/s]"
      ]
     },
     "metadata": {},
     "output_type": "display_data"
    },
    {
     "data": {
      "application/vnd.jupyter.widget-view+json": {
       "model_id": "0cbbef5af75745c8bd05df829572bac5",
       "version_major": 2,
       "version_minor": 0
      },
      "text/plain": [
       "  0%|          | 0/5 [00:00<?, ?it/s]"
      ]
     },
     "metadata": {},
     "output_type": "display_data"
    },
    {
     "data": {
      "application/vnd.jupyter.widget-view+json": {
       "model_id": "5cf35bebda944d279eeb0abfad94c7c9",
       "version_major": 2,
       "version_minor": 0
      },
      "text/plain": [
       "  0%|          | 0/19 [00:00<?, ?it/s]"
      ]
     },
     "metadata": {},
     "output_type": "display_data"
    },
    {
     "data": {
      "application/vnd.jupyter.widget-view+json": {
       "model_id": "40cac0b058f1492ea1933dc12313b8ac",
       "version_major": 2,
       "version_minor": 0
      },
      "text/plain": [
       "  0%|          | 0/4 [00:00<?, ?it/s]"
      ]
     },
     "metadata": {},
     "output_type": "display_data"
    },
    {
     "data": {
      "application/vnd.jupyter.widget-view+json": {
       "model_id": "1ff0db254e89456d90a6c04d782b0123",
       "version_major": 2,
       "version_minor": 0
      },
      "text/plain": [
       "  0%|          | 0/11 [00:00<?, ?it/s]"
      ]
     },
     "metadata": {},
     "output_type": "display_data"
    },
    {
     "data": {
      "application/vnd.jupyter.widget-view+json": {
       "model_id": "b1d3a245715a45b0bdd5f8f5f9da601d",
       "version_major": 2,
       "version_minor": 0
      },
      "text/plain": [
       "  0%|          | 0/7 [00:00<?, ?it/s]"
      ]
     },
     "metadata": {},
     "output_type": "display_data"
    },
    {
     "data": {
      "application/vnd.jupyter.widget-view+json": {
       "model_id": "b83ac3f23ef24b0d9dc1013e566aa933",
       "version_major": 2,
       "version_minor": 0
      },
      "text/plain": [
       "  0%|          | 0/4 [00:00<?, ?it/s]"
      ]
     },
     "metadata": {},
     "output_type": "display_data"
    },
    {
     "data": {
      "application/vnd.jupyter.widget-view+json": {
       "model_id": "c1775bac9a7b42a9983e885a04191962",
       "version_major": 2,
       "version_minor": 0
      },
      "text/plain": [
       "  0%|          | 0/14 [00:00<?, ?it/s]"
      ]
     },
     "metadata": {},
     "output_type": "display_data"
    },
    {
     "data": {
      "application/vnd.jupyter.widget-view+json": {
       "model_id": "bcca413029d3428ba13c6a4342a02142",
       "version_major": 2,
       "version_minor": 0
      },
      "text/plain": [
       "  0%|          | 0/9 [00:00<?, ?it/s]"
      ]
     },
     "metadata": {},
     "output_type": "display_data"
    },
    {
     "data": {
      "application/vnd.jupyter.widget-view+json": {
       "model_id": "e93248117b46413d98d95d4bb9ab211f",
       "version_major": 2,
       "version_minor": 0
      },
      "text/plain": [
       "  0%|          | 0/18 [00:00<?, ?it/s]"
      ]
     },
     "metadata": {},
     "output_type": "display_data"
    },
    {
     "data": {
      "application/vnd.jupyter.widget-view+json": {
       "model_id": "1f6fc6af4e6447da8c06378bdab73b50",
       "version_major": 2,
       "version_minor": 0
      },
      "text/plain": [
       "  0%|          | 0/3 [00:00<?, ?it/s]"
      ]
     },
     "metadata": {},
     "output_type": "display_data"
    },
    {
     "data": {
      "application/vnd.jupyter.widget-view+json": {
       "model_id": "bbff98bdef974655ba8c56f56691efa2",
       "version_major": 2,
       "version_minor": 0
      },
      "text/plain": [
       "  0%|          | 0/14 [00:00<?, ?it/s]"
      ]
     },
     "metadata": {},
     "output_type": "display_data"
    },
    {
     "data": {
      "application/vnd.jupyter.widget-view+json": {
       "model_id": "fa09b5b0677446469722dfefa6a6742a",
       "version_major": 2,
       "version_minor": 0
      },
      "text/plain": [
       "  0%|          | 0/2 [00:00<?, ?it/s]"
      ]
     },
     "metadata": {},
     "output_type": "display_data"
    },
    {
     "data": {
      "application/vnd.jupyter.widget-view+json": {
       "model_id": "374f0e60f5c44359b9899e924211632b",
       "version_major": 2,
       "version_minor": 0
      },
      "text/plain": [
       "  0%|          | 0/7 [00:00<?, ?it/s]"
      ]
     },
     "metadata": {},
     "output_type": "display_data"
    },
    {
     "data": {
      "application/vnd.jupyter.widget-view+json": {
       "model_id": "c8af9cea6b6f4f10bf6bdb976fec7417",
       "version_major": 2,
       "version_minor": 0
      },
      "text/plain": [
       "  0%|          | 0/40 [00:00<?, ?it/s]"
      ]
     },
     "metadata": {},
     "output_type": "display_data"
    },
    {
     "data": {
      "application/vnd.jupyter.widget-view+json": {
       "model_id": "d1446c2afe3f45ad969d0a456f347645",
       "version_major": 2,
       "version_minor": 0
      },
      "text/plain": [
       "  0%|          | 0/8 [00:00<?, ?it/s]"
      ]
     },
     "metadata": {},
     "output_type": "display_data"
    },
    {
     "data": {
      "application/vnd.jupyter.widget-view+json": {
       "model_id": "8cc9072c30d049b09287e80f1ca1667b",
       "version_major": 2,
       "version_minor": 0
      },
      "text/plain": [
       "  0%|          | 0/15 [00:00<?, ?it/s]"
      ]
     },
     "metadata": {},
     "output_type": "display_data"
    },
    {
     "data": {
      "application/vnd.jupyter.widget-view+json": {
       "model_id": "e4e0eb1cfef942059e77db52d372bba1",
       "version_major": 2,
       "version_minor": 0
      },
      "text/plain": [
       "  0%|          | 0/9 [00:00<?, ?it/s]"
      ]
     },
     "metadata": {},
     "output_type": "display_data"
    },
    {
     "data": {
      "application/vnd.jupyter.widget-view+json": {
       "model_id": "ad53aac187ae4268a1d23a2bc4764e5c",
       "version_major": 2,
       "version_minor": 0
      },
      "text/plain": [
       "  0%|          | 0/6 [00:00<?, ?it/s]"
      ]
     },
     "metadata": {},
     "output_type": "display_data"
    },
    {
     "data": {
      "application/vnd.jupyter.widget-view+json": {
       "model_id": "bfd86033550d41edbb707bd0f04bb945",
       "version_major": 2,
       "version_minor": 0
      },
      "text/plain": [
       "  0%|          | 0/6 [00:00<?, ?it/s]"
      ]
     },
     "metadata": {},
     "output_type": "display_data"
    },
    {
     "data": {
      "application/vnd.jupyter.widget-view+json": {
       "model_id": "00a4c7d41eb548dc86eb2f6b994ef75c",
       "version_major": 2,
       "version_minor": 0
      },
      "text/plain": [
       "  0%|          | 0/10 [00:00<?, ?it/s]"
      ]
     },
     "metadata": {},
     "output_type": "display_data"
    },
    {
     "data": {
      "application/vnd.jupyter.widget-view+json": {
       "model_id": "986704c3e7f542db97b76d3acb55aad0",
       "version_major": 2,
       "version_minor": 0
      },
      "text/plain": [
       "  0%|          | 0/6 [00:00<?, ?it/s]"
      ]
     },
     "metadata": {},
     "output_type": "display_data"
    },
    {
     "data": {
      "application/vnd.jupyter.widget-view+json": {
       "model_id": "f5cf4948d90c40238670ac1d36b4b336",
       "version_major": 2,
       "version_minor": 0
      },
      "text/plain": [
       "  0%|          | 0/7 [00:00<?, ?it/s]"
      ]
     },
     "metadata": {},
     "output_type": "display_data"
    },
    {
     "data": {
      "application/vnd.jupyter.widget-view+json": {
       "model_id": "dbd95c504efc495e9c48319c8fc79ffc",
       "version_major": 2,
       "version_minor": 0
      },
      "text/plain": [
       "  0%|          | 0/10 [00:00<?, ?it/s]"
      ]
     },
     "metadata": {},
     "output_type": "display_data"
    },
    {
     "data": {
      "application/vnd.jupyter.widget-view+json": {
       "model_id": "16bb6a0dadf54e1f92a4b29f9b4a2137",
       "version_major": 2,
       "version_minor": 0
      },
      "text/plain": [
       "  0%|          | 0/5 [00:00<?, ?it/s]"
      ]
     },
     "metadata": {},
     "output_type": "display_data"
    },
    {
     "data": {
      "application/vnd.jupyter.widget-view+json": {
       "model_id": "a6c31d0699744d05a73616822357db8d",
       "version_major": 2,
       "version_minor": 0
      },
      "text/plain": [
       "  0%|          | 0/17 [00:00<?, ?it/s]"
      ]
     },
     "metadata": {},
     "output_type": "display_data"
    },
    {
     "data": {
      "application/vnd.jupyter.widget-view+json": {
       "model_id": "5709653149714ec29aaf61ea7ee2dc80",
       "version_major": 2,
       "version_minor": 0
      },
      "text/plain": [
       "  0%|          | 0/7 [00:00<?, ?it/s]"
      ]
     },
     "metadata": {},
     "output_type": "display_data"
    },
    {
     "data": {
      "application/vnd.jupyter.widget-view+json": {
       "model_id": "69d1f77a80384565a9a199251218a063",
       "version_major": 2,
       "version_minor": 0
      },
      "text/plain": [
       "  0%|          | 0/1 [00:00<?, ?it/s]"
      ]
     },
     "metadata": {},
     "output_type": "display_data"
    },
    {
     "data": {
      "application/vnd.jupyter.widget-view+json": {
       "model_id": "d7896ef5bb0f455183bc5cecfabd02a9",
       "version_major": 2,
       "version_minor": 0
      },
      "text/plain": [
       "  0%|          | 0/7 [00:00<?, ?it/s]"
      ]
     },
     "metadata": {},
     "output_type": "display_data"
    },
    {
     "data": {
      "application/vnd.jupyter.widget-view+json": {
       "model_id": "a14ce6d51f214e9cb1c032dbc093f665",
       "version_major": 2,
       "version_minor": 0
      },
      "text/plain": [
       "  0%|          | 0/4 [00:00<?, ?it/s]"
      ]
     },
     "metadata": {},
     "output_type": "display_data"
    },
    {
     "data": {
      "application/vnd.jupyter.widget-view+json": {
       "model_id": "eed9cd5ff14d434daf0744ac163356aa",
       "version_major": 2,
       "version_minor": 0
      },
      "text/plain": [
       "  0%|          | 0/21 [00:00<?, ?it/s]"
      ]
     },
     "metadata": {},
     "output_type": "display_data"
    },
    {
     "data": {
      "application/vnd.jupyter.widget-view+json": {
       "model_id": "186575498c684debb10202bddfd6e90f",
       "version_major": 2,
       "version_minor": 0
      },
      "text/plain": [
       "  0%|          | 0/7 [00:00<?, ?it/s]"
      ]
     },
     "metadata": {},
     "output_type": "display_data"
    },
    {
     "data": {
      "application/vnd.jupyter.widget-view+json": {
       "model_id": "9ef07b44737b4e5db57967bfa5b54c9c",
       "version_major": 2,
       "version_minor": 0
      },
      "text/plain": [
       "  0%|          | 0/46 [00:00<?, ?it/s]"
      ]
     },
     "metadata": {},
     "output_type": "display_data"
    },
    {
     "data": {
      "application/vnd.jupyter.widget-view+json": {
       "model_id": "4fd87e3f2b3b469d8602c4357db179b8",
       "version_major": 2,
       "version_minor": 0
      },
      "text/plain": [
       "  0%|          | 0/50 [00:00<?, ?it/s]"
      ]
     },
     "metadata": {},
     "output_type": "display_data"
    },
    {
     "data": {
      "application/vnd.jupyter.widget-view+json": {
       "model_id": "7e859ac164804eb798686387eb16ef78",
       "version_major": 2,
       "version_minor": 0
      },
      "text/plain": [
       "  0%|          | 0/28 [00:00<?, ?it/s]"
      ]
     },
     "metadata": {},
     "output_type": "display_data"
    },
    {
     "data": {
      "application/vnd.jupyter.widget-view+json": {
       "model_id": "2635870505564c9c94d9717205a83f28",
       "version_major": 2,
       "version_minor": 0
      },
      "text/plain": [
       "  0%|          | 0/7 [00:00<?, ?it/s]"
      ]
     },
     "metadata": {},
     "output_type": "display_data"
    },
    {
     "data": {
      "application/vnd.jupyter.widget-view+json": {
       "model_id": "189222a22476463b8bba3f0120c62ab4",
       "version_major": 2,
       "version_minor": 0
      },
      "text/plain": [
       "  0%|          | 0/7 [00:00<?, ?it/s]"
      ]
     },
     "metadata": {},
     "output_type": "display_data"
    },
    {
     "data": {
      "application/vnd.jupyter.widget-view+json": {
       "model_id": "1cce30ed97a54db5b544264361e7198f",
       "version_major": 2,
       "version_minor": 0
      },
      "text/plain": [
       "  0%|          | 0/30 [00:00<?, ?it/s]"
      ]
     },
     "metadata": {},
     "output_type": "display_data"
    },
    {
     "data": {
      "application/vnd.jupyter.widget-view+json": {
       "model_id": "afb4c6e614b04694a1d1dd198d8b0a16",
       "version_major": 2,
       "version_minor": 0
      },
      "text/plain": [
       "  0%|          | 0/5 [00:00<?, ?it/s]"
      ]
     },
     "metadata": {},
     "output_type": "display_data"
    },
    {
     "data": {
      "application/vnd.jupyter.widget-view+json": {
       "model_id": "e46b6c17f7384253abeb631d1c3c22f2",
       "version_major": 2,
       "version_minor": 0
      },
      "text/plain": [
       "  0%|          | 0/19 [00:00<?, ?it/s]"
      ]
     },
     "metadata": {},
     "output_type": "display_data"
    },
    {
     "data": {
      "application/vnd.jupyter.widget-view+json": {
       "model_id": "ca47dc3b093448128fc0118ee7ffb88a",
       "version_major": 2,
       "version_minor": 0
      },
      "text/plain": [
       "  0%|          | 0/28 [00:00<?, ?it/s]"
      ]
     },
     "metadata": {},
     "output_type": "display_data"
    },
    {
     "data": {
      "application/vnd.jupyter.widget-view+json": {
       "model_id": "82284289e08b43f4905ea9a94656f4ce",
       "version_major": 2,
       "version_minor": 0
      },
      "text/plain": [
       "  0%|          | 0/18 [00:00<?, ?it/s]"
      ]
     },
     "metadata": {},
     "output_type": "display_data"
    },
    {
     "data": {
      "application/vnd.jupyter.widget-view+json": {
       "model_id": "2251bf8811c645068409f65ab8566e96",
       "version_major": 2,
       "version_minor": 0
      },
      "text/plain": [
       "  0%|          | 0/12 [00:00<?, ?it/s]"
      ]
     },
     "metadata": {},
     "output_type": "display_data"
    },
    {
     "data": {
      "application/vnd.jupyter.widget-view+json": {
       "model_id": "09ba15957c5948b3a10f3eba9fe1c618",
       "version_major": 2,
       "version_minor": 0
      },
      "text/plain": [
       "  0%|          | 0/17 [00:00<?, ?it/s]"
      ]
     },
     "metadata": {},
     "output_type": "display_data"
    },
    {
     "data": {
      "application/vnd.jupyter.widget-view+json": {
       "model_id": "c646d3bc2ed448b2877d7a2e2f6aa453",
       "version_major": 2,
       "version_minor": 0
      },
      "text/plain": [
       "  0%|          | 0/21 [00:00<?, ?it/s]"
      ]
     },
     "metadata": {},
     "output_type": "display_data"
    },
    {
     "data": {
      "application/vnd.jupyter.widget-view+json": {
       "model_id": "f32ff55ada1c4e3ab26825f4a4f875a6",
       "version_major": 2,
       "version_minor": 0
      },
      "text/plain": [
       "  0%|          | 0/24 [00:00<?, ?it/s]"
      ]
     },
     "metadata": {},
     "output_type": "display_data"
    },
    {
     "data": {
      "application/vnd.jupyter.widget-view+json": {
       "model_id": "1c91681c9467431fa11e27e0e8f3a969",
       "version_major": 2,
       "version_minor": 0
      },
      "text/plain": [
       "  0%|          | 0/20 [00:00<?, ?it/s]"
      ]
     },
     "metadata": {},
     "output_type": "display_data"
    },
    {
     "data": {
      "application/vnd.jupyter.widget-view+json": {
       "model_id": "642dbafdb37748f5955e383a53a7e435",
       "version_major": 2,
       "version_minor": 0
      },
      "text/plain": [
       "  0%|          | 0/12 [00:00<?, ?it/s]"
      ]
     },
     "metadata": {},
     "output_type": "display_data"
    },
    {
     "data": {
      "application/vnd.jupyter.widget-view+json": {
       "model_id": "20de6e49af184d4e9dbf4b07149f98fd",
       "version_major": 2,
       "version_minor": 0
      },
      "text/plain": [
       "  0%|          | 0/4 [00:00<?, ?it/s]"
      ]
     },
     "metadata": {},
     "output_type": "display_data"
    },
    {
     "data": {
      "application/vnd.jupyter.widget-view+json": {
       "model_id": "c1cce7a0343f43629db385609f3a1c39",
       "version_major": 2,
       "version_minor": 0
      },
      "text/plain": [
       "  0%|          | 0/14 [00:00<?, ?it/s]"
      ]
     },
     "metadata": {},
     "output_type": "display_data"
    },
    {
     "data": {
      "application/vnd.jupyter.widget-view+json": {
       "model_id": "074ac20027c840b8a93cd8823bdcf7e9",
       "version_major": 2,
       "version_minor": 0
      },
      "text/plain": [
       "  0%|          | 0/17 [00:00<?, ?it/s]"
      ]
     },
     "metadata": {},
     "output_type": "display_data"
    },
    {
     "data": {
      "application/vnd.jupyter.widget-view+json": {
       "model_id": "660009c5cacb406f84c6d744f1001ab2",
       "version_major": 2,
       "version_minor": 0
      },
      "text/plain": [
       "  0%|          | 0/12 [00:00<?, ?it/s]"
      ]
     },
     "metadata": {},
     "output_type": "display_data"
    },
    {
     "data": {
      "application/vnd.jupyter.widget-view+json": {
       "model_id": "df3d4877511849c2abc8a78f671dc8d5",
       "version_major": 2,
       "version_minor": 0
      },
      "text/plain": [
       "  0%|          | 0/19 [00:00<?, ?it/s]"
      ]
     },
     "metadata": {},
     "output_type": "display_data"
    },
    {
     "data": {
      "application/vnd.jupyter.widget-view+json": {
       "model_id": "7aa43be2029e4134ba77b273b9fe04f5",
       "version_major": 2,
       "version_minor": 0
      },
      "text/plain": [
       "  0%|          | 0/16 [00:00<?, ?it/s]"
      ]
     },
     "metadata": {},
     "output_type": "display_data"
    },
    {
     "data": {
      "application/vnd.jupyter.widget-view+json": {
       "model_id": "7b7cf5b4eb1e46eaa1a8ced3b9562600",
       "version_major": 2,
       "version_minor": 0
      },
      "text/plain": [
       "  0%|          | 0/36 [00:00<?, ?it/s]"
      ]
     },
     "metadata": {},
     "output_type": "display_data"
    },
    {
     "data": {
      "application/vnd.jupyter.widget-view+json": {
       "model_id": "026123397a974e76bfcaffe44164270e",
       "version_major": 2,
       "version_minor": 0
      },
      "text/plain": [
       "  0%|          | 0/12 [00:00<?, ?it/s]"
      ]
     },
     "metadata": {},
     "output_type": "display_data"
    },
    {
     "data": {
      "application/vnd.jupyter.widget-view+json": {
       "model_id": "871adec96c6d4eebaa28e5ac8fcd9e9f",
       "version_major": 2,
       "version_minor": 0
      },
      "text/plain": [
       "  0%|          | 0/14 [00:00<?, ?it/s]"
      ]
     },
     "metadata": {},
     "output_type": "display_data"
    },
    {
     "data": {
      "application/vnd.jupyter.widget-view+json": {
       "model_id": "af0cd1ad1b7b4f308191e739be3eea73",
       "version_major": 2,
       "version_minor": 0
      },
      "text/plain": [
       "  0%|          | 0/15 [00:00<?, ?it/s]"
      ]
     },
     "metadata": {},
     "output_type": "display_data"
    },
    {
     "data": {
      "application/vnd.jupyter.widget-view+json": {
       "model_id": "8fcac29878264cc582ab78a62f494a4f",
       "version_major": 2,
       "version_minor": 0
      },
      "text/plain": [
       "  0%|          | 0/23 [00:00<?, ?it/s]"
      ]
     },
     "metadata": {},
     "output_type": "display_data"
    },
    {
     "data": {
      "application/vnd.jupyter.widget-view+json": {
       "model_id": "676aafa99e1440f1ad0d608c626a2268",
       "version_major": 2,
       "version_minor": 0
      },
      "text/plain": [
       "  0%|          | 0/18 [00:00<?, ?it/s]"
      ]
     },
     "metadata": {},
     "output_type": "display_data"
    },
    {
     "data": {
      "application/vnd.jupyter.widget-view+json": {
       "model_id": "f4cf520fc6fb472a946260f24a2227de",
       "version_major": 2,
       "version_minor": 0
      },
      "text/plain": [
       "  0%|          | 0/18 [00:00<?, ?it/s]"
      ]
     },
     "metadata": {},
     "output_type": "display_data"
    },
    {
     "data": {
      "application/vnd.jupyter.widget-view+json": {
       "model_id": "08df8c1955f8419f832aaec84ad4c39a",
       "version_major": 2,
       "version_minor": 0
      },
      "text/plain": [
       "  0%|          | 0/16 [00:00<?, ?it/s]"
      ]
     },
     "metadata": {},
     "output_type": "display_data"
    },
    {
     "data": {
      "application/vnd.jupyter.widget-view+json": {
       "model_id": "3abdd83460a048c6953aae51d0e3820e",
       "version_major": 2,
       "version_minor": 0
      },
      "text/plain": [
       "  0%|          | 0/26 [00:00<?, ?it/s]"
      ]
     },
     "metadata": {},
     "output_type": "display_data"
    },
    {
     "data": {
      "application/vnd.jupyter.widget-view+json": {
       "model_id": "9629a9e9c6824a1db0e49593ce05a6eb",
       "version_major": 2,
       "version_minor": 0
      },
      "text/plain": [
       "  0%|          | 0/10 [00:00<?, ?it/s]"
      ]
     },
     "metadata": {},
     "output_type": "display_data"
    },
    {
     "data": {
      "application/vnd.jupyter.widget-view+json": {
       "model_id": "eaeaf68f82a84eb19da192e4d026acfc",
       "version_major": 2,
       "version_minor": 0
      },
      "text/plain": [
       "  0%|          | 0/23 [00:00<?, ?it/s]"
      ]
     },
     "metadata": {},
     "output_type": "display_data"
    },
    {
     "data": {
      "application/vnd.jupyter.widget-view+json": {
       "model_id": "83497d3429414050928215233e8d3b30",
       "version_major": 2,
       "version_minor": 0
      },
      "text/plain": [
       "  0%|          | 0/15 [00:00<?, ?it/s]"
      ]
     },
     "metadata": {},
     "output_type": "display_data"
    },
    {
     "data": {
      "application/vnd.jupyter.widget-view+json": {
       "model_id": "bcad481cf5ae4a7fb66941798e7dbace",
       "version_major": 2,
       "version_minor": 0
      },
      "text/plain": [
       "  0%|          | 0/10 [00:00<?, ?it/s]"
      ]
     },
     "metadata": {},
     "output_type": "display_data"
    },
    {
     "data": {
      "application/vnd.jupyter.widget-view+json": {
       "model_id": "f9a998bf670d488d98cd683bfe4e952b",
       "version_major": 2,
       "version_minor": 0
      },
      "text/plain": [
       "  0%|          | 0/9 [00:00<?, ?it/s]"
      ]
     },
     "metadata": {},
     "output_type": "display_data"
    },
    {
     "data": {
      "application/vnd.jupyter.widget-view+json": {
       "model_id": "42fde4279ce449b1913d0c8a20823600",
       "version_major": 2,
       "version_minor": 0
      },
      "text/plain": [
       "  0%|          | 0/15 [00:00<?, ?it/s]"
      ]
     },
     "metadata": {},
     "output_type": "display_data"
    },
    {
     "data": {
      "application/vnd.jupyter.widget-view+json": {
       "model_id": "07aa8dd697cf4201b40318dfa9ca260d",
       "version_major": 2,
       "version_minor": 0
      },
      "text/plain": [
       "  0%|          | 0/11 [00:00<?, ?it/s]"
      ]
     },
     "metadata": {},
     "output_type": "display_data"
    },
    {
     "data": {
      "application/vnd.jupyter.widget-view+json": {
       "model_id": "f1f153f1eec143a096b059d69d92e427",
       "version_major": 2,
       "version_minor": 0
      },
      "text/plain": [
       "  0%|          | 0/24 [00:00<?, ?it/s]"
      ]
     },
     "metadata": {},
     "output_type": "display_data"
    },
    {
     "data": {
      "application/vnd.jupyter.widget-view+json": {
       "model_id": "76752c7d058846b581b2c6956a9f74bc",
       "version_major": 2,
       "version_minor": 0
      },
      "text/plain": [
       "  0%|          | 0/11 [00:00<?, ?it/s]"
      ]
     },
     "metadata": {},
     "output_type": "display_data"
    },
    {
     "data": {
      "application/vnd.jupyter.widget-view+json": {
       "model_id": "d656d8e757ff413da48baa358faa9fc0",
       "version_major": 2,
       "version_minor": 0
      },
      "text/plain": [
       "  0%|          | 0/11 [00:00<?, ?it/s]"
      ]
     },
     "metadata": {},
     "output_type": "display_data"
    },
    {
     "data": {
      "application/vnd.jupyter.widget-view+json": {
       "model_id": "3c2c31d001cd49f4ad4f2db48a730560",
       "version_major": 2,
       "version_minor": 0
      },
      "text/plain": [
       "  0%|          | 0/19 [00:00<?, ?it/s]"
      ]
     },
     "metadata": {},
     "output_type": "display_data"
    },
    {
     "data": {
      "application/vnd.jupyter.widget-view+json": {
       "model_id": "b2ba362c99d34adcb0d52fbd8312696c",
       "version_major": 2,
       "version_minor": 0
      },
      "text/plain": [
       "  0%|          | 0/26 [00:00<?, ?it/s]"
      ]
     },
     "metadata": {},
     "output_type": "display_data"
    },
    {
     "data": {
      "application/vnd.jupyter.widget-view+json": {
       "model_id": "29cb1f0bdf394a299a81a98be097daa8",
       "version_major": 2,
       "version_minor": 0
      },
      "text/plain": [
       "  0%|          | 0/27 [00:00<?, ?it/s]"
      ]
     },
     "metadata": {},
     "output_type": "display_data"
    },
    {
     "data": {
      "application/vnd.jupyter.widget-view+json": {
       "model_id": "2e58fa239c1046549234db18210ccfc0",
       "version_major": 2,
       "version_minor": 0
      },
      "text/plain": [
       "  0%|          | 0/19 [00:00<?, ?it/s]"
      ]
     },
     "metadata": {},
     "output_type": "display_data"
    },
    {
     "data": {
      "application/vnd.jupyter.widget-view+json": {
       "model_id": "e7dbe3c8779047558b8c6be99b2e7960",
       "version_major": 2,
       "version_minor": 0
      },
      "text/plain": [
       "  0%|          | 0/31 [00:00<?, ?it/s]"
      ]
     },
     "metadata": {},
     "output_type": "display_data"
    },
    {
     "data": {
      "application/vnd.jupyter.widget-view+json": {
       "model_id": "8609d0b3a2c042b39c339a1cd4bd65dc",
       "version_major": 2,
       "version_minor": 0
      },
      "text/plain": [
       "  0%|          | 0/19 [00:00<?, ?it/s]"
      ]
     },
     "metadata": {},
     "output_type": "display_data"
    },
    {
     "data": {
      "application/vnd.jupyter.widget-view+json": {
       "model_id": "1b60b1697d28401faf98d5f7be29530e",
       "version_major": 2,
       "version_minor": 0
      },
      "text/plain": [
       "  0%|          | 0/21 [00:00<?, ?it/s]"
      ]
     },
     "metadata": {},
     "output_type": "display_data"
    },
    {
     "data": {
      "application/vnd.jupyter.widget-view+json": {
       "model_id": "379b9b85a8864a60a0ee8477889ed025",
       "version_major": 2,
       "version_minor": 0
      },
      "text/plain": [
       "  0%|          | 0/21 [00:00<?, ?it/s]"
      ]
     },
     "metadata": {},
     "output_type": "display_data"
    },
    {
     "data": {
      "application/vnd.jupyter.widget-view+json": {
       "model_id": "6efe90b4dcd7452a9e1d0eb3686af257",
       "version_major": 2,
       "version_minor": 0
      },
      "text/plain": [
       "  0%|          | 0/38 [00:00<?, ?it/s]"
      ]
     },
     "metadata": {},
     "output_type": "display_data"
    },
    {
     "data": {
      "application/vnd.jupyter.widget-view+json": {
       "model_id": "5a13a1e51e63419db2c4de86d4ab0b3b",
       "version_major": 2,
       "version_minor": 0
      },
      "text/plain": [
       "  0%|          | 0/30 [00:00<?, ?it/s]"
      ]
     },
     "metadata": {},
     "output_type": "display_data"
    },
    {
     "data": {
      "application/vnd.jupyter.widget-view+json": {
       "model_id": "d8c1298d938c4f6eb9174d39f51337cd",
       "version_major": 2,
       "version_minor": 0
      },
      "text/plain": [
       "  0%|          | 0/16 [00:00<?, ?it/s]"
      ]
     },
     "metadata": {},
     "output_type": "display_data"
    },
    {
     "data": {
      "application/vnd.jupyter.widget-view+json": {
       "model_id": "055267aadc3943f8adfad04af65f1034",
       "version_major": 2,
       "version_minor": 0
      },
      "text/plain": [
       "  0%|          | 0/24 [00:00<?, ?it/s]"
      ]
     },
     "metadata": {},
     "output_type": "display_data"
    },
    {
     "data": {
      "application/vnd.jupyter.widget-view+json": {
       "model_id": "45930383cc784d00b96e14e4e91cdedd",
       "version_major": 2,
       "version_minor": 0
      },
      "text/plain": [
       "  0%|          | 0/16 [00:00<?, ?it/s]"
      ]
     },
     "metadata": {},
     "output_type": "display_data"
    },
    {
     "data": {
      "application/vnd.jupyter.widget-view+json": {
       "model_id": "53962844af254ea88e6f272f80cef01d",
       "version_major": 2,
       "version_minor": 0
      },
      "text/plain": [
       "  0%|          | 0/10 [00:00<?, ?it/s]"
      ]
     },
     "metadata": {},
     "output_type": "display_data"
    },
    {
     "data": {
      "application/vnd.jupyter.widget-view+json": {
       "model_id": "50b5d2f860d048c7adaca32f8ae6c26e",
       "version_major": 2,
       "version_minor": 0
      },
      "text/plain": [
       "  0%|          | 0/27 [00:00<?, ?it/s]"
      ]
     },
     "metadata": {},
     "output_type": "display_data"
    },
    {
     "data": {
      "application/vnd.jupyter.widget-view+json": {
       "model_id": "ed30783df8774852be05f6ed797c10cf",
       "version_major": 2,
       "version_minor": 0
      },
      "text/plain": [
       "  0%|          | 0/17 [00:00<?, ?it/s]"
      ]
     },
     "metadata": {},
     "output_type": "display_data"
    },
    {
     "data": {
      "application/vnd.jupyter.widget-view+json": {
       "model_id": "b99d46bcbde14348b1615a093c906dd9",
       "version_major": 2,
       "version_minor": 0
      },
      "text/plain": [
       "  0%|          | 0/24 [00:00<?, ?it/s]"
      ]
     },
     "metadata": {},
     "output_type": "display_data"
    },
    {
     "data": {
      "application/vnd.jupyter.widget-view+json": {
       "model_id": "8b593aff1c4f4ac083100476f7fefe93",
       "version_major": 2,
       "version_minor": 0
      },
      "text/plain": [
       "  0%|          | 0/14 [00:00<?, ?it/s]"
      ]
     },
     "metadata": {},
     "output_type": "display_data"
    },
    {
     "data": {
      "application/vnd.jupyter.widget-view+json": {
       "model_id": "a9b1d7916e8541739cb25e6b33395418",
       "version_major": 2,
       "version_minor": 0
      },
      "text/plain": [
       "  0%|          | 0/13 [00:00<?, ?it/s]"
      ]
     },
     "metadata": {},
     "output_type": "display_data"
    },
    {
     "data": {
      "application/vnd.jupyter.widget-view+json": {
       "model_id": "5b47d2bd41a84723823a9cd6a8507037",
       "version_major": 2,
       "version_minor": 0
      },
      "text/plain": [
       "  0%|          | 0/20 [00:00<?, ?it/s]"
      ]
     },
     "metadata": {},
     "output_type": "display_data"
    },
    {
     "data": {
      "application/vnd.jupyter.widget-view+json": {
       "model_id": "6bca670175b242dc9a33688a52a7256b",
       "version_major": 2,
       "version_minor": 0
      },
      "text/plain": [
       "  0%|          | 0/10 [00:00<?, ?it/s]"
      ]
     },
     "metadata": {},
     "output_type": "display_data"
    },
    {
     "name": "stdout",
     "output_type": "stream",
     "text": [
      "Synapsse Results:\n",
      "Total Number of Synapses = 1159\n",
      "n_valid_syn_ids_presyn = 84\n",
      "n_errored_syn_ids_presyn = 197\n",
      "n_valid_syn_ids_postsyn = 806\n",
      "n_errored_syn_ids_postsyn = 72\n",
      "Synapsse Results:\n",
      "Total Number of Synapses = 1159\n",
      "n_valid_syn_ids_presyn = 84\n",
      "n_errored_syn_ids_presyn = 197\n",
      "n_valid_syn_ids_postsyn = 806\n",
      "n_errored_syn_ids_postsyn = 72\n"
     ]
    },
    {
     "data": {
      "application/vnd.jupyter.widget-view+json": {
       "model_id": "86123811c63d41119e9ec1398dc7c0cb",
       "version_major": 2,
       "version_minor": 0
      },
      "text/plain": [
       "  0%|          | 0/58 [00:00<?, ?it/s]"
      ]
     },
     "metadata": {},
     "output_type": "display_data"
    },
    {
     "data": {
      "application/vnd.jupyter.widget-view+json": {
       "model_id": "e84a0b33eca74e32b56655c4c7c6e99a",
       "version_major": 2,
       "version_minor": 0
      },
      "text/plain": [
       "0it [00:00, ?it/s]"
      ]
     },
     "metadata": {},
     "output_type": "display_data"
    },
    {
     "name": "stdout",
     "output_type": "stream",
     "text": [
      "Synapsse Results:\n",
      "Total Number of Synapses = 1159\n",
      "n_valid_syn_ids_presyn = 84\n",
      "n_errored_syn_ids_presyn = 197\n",
      "n_valid_syn_ids_postsyn = 806\n",
      "n_errored_syn_ids_postsyn = 72\n",
      "Synapsse Results:\n",
      "Total Number of Synapses = 1159\n",
      "n_valid_syn_ids_presyn = 84\n",
      "n_errored_syn_ids_presyn = 197\n",
      "n_valid_syn_ids_postsyn = 806\n",
      "n_errored_syn_ids_postsyn = 72\n"
     ]
    },
    {
     "data": {
      "application/vnd.jupyter.widget-view+json": {
       "model_id": "d354d54636df4c5e8e96f9c9d84a33ef",
       "version_major": 2,
       "version_minor": 0
      },
      "text/plain": [
       "  0%|          | 0/58 [00:00<?, ?it/s]"
      ]
     },
     "metadata": {},
     "output_type": "display_data"
    },
    {
     "data": {
      "application/vnd.jupyter.widget-view+json": {
       "model_id": "3e49ad90c1ae4a2a954b37944674def6",
       "version_major": 2,
       "version_minor": 0
      },
      "text/plain": [
       "0it [00:00, ?it/s]"
      ]
     },
     "metadata": {},
     "output_type": "display_data"
    },
    {
     "name": "stdout",
     "output_type": "stream",
     "text": [
      "\n",
      "\n",
      "len(branch_attr_keys) = 58\n",
      "Saving Neuorn in suppress_output mode...please wait\n",
      "Saved File at location: /mnt/dj-stor01/platinum/minnie65/02/decomposition/864691136105498585_0_25_full_axon\n",
      "Save time = 131.02388644218445\n",
      "\n",
      "\n",
      " ***------ Total time for 864691136105498585 = 863.0352208614349 ------ ***\n",
      "\n",
      "\n",
      "\n",
      "---- Working on Neuron 864691135382947307 ----\n",
      "Decompressing Neuron in minimal output mode...please wait\n",
      "Pulled from Table Decomposition so setting split_index = 0\n",
      "Dont need spine recalculation\n",
      "Number of Neurons found = 1\n",
      "\n",
      "Part 1: Axon like branchese \n",
      "{'L0': array([ 1,  8, 10, 11, 12, 13, 16, 17]), 'L1': array([2]), 'L4': array([ 0,  1,  2,  3,  4,  5,  6,  7,  8,  9, 10, 11, 12, 13, 14, 15, 16,\n",
      "       17, 18, 19, 20, 21, 22, 23, 24, 25, 26, 27, 28, 29, 30])}\n",
      "Limb L0 soma angle: 24.61 \n",
      "Limb L1 soma angle: 93.26 \n",
      "Limb L2 soma angle: 123.64 \n",
      "Limb L3 soma angle: 100.34 \n",
      "Limb L4 soma angle: 142.74 \n",
      "Limb L5 soma angle: 111.66 \n",
      "Limb L6 soma angle: 85.12 \n",
      "\n",
      "Part 2: possible_axon_limbs = [1, 2, 3, 4, 5, 6]\n",
      "\n",
      "Phase 2: Working on Limb L1\n",
      "nodes_to_eliminate = [6]\n",
      "\n",
      "Phase 2: Working on Limb L2\n",
      "nodes_to_eliminate = []\n",
      "\n",
      "Phase 2: Working on Limb L3\n",
      "nodes_to_eliminate = [0]\n",
      "\n",
      "Phase 2: Working on Limb L4\n",
      "nodes_to_eliminate = []\n",
      "\n",
      "Phase 2: Working on Limb L5\n",
      "nodes_to_eliminate = []\n",
      "\n",
      "Phase 2: Working on Limb L6\n",
      "nodes_to_eliminate = [2]\n",
      "\n",
      "----Working on Limb L1-----\n",
      "No endpoints were eliminated so don't need to add back any candidates\n",
      "\n",
      "----Working on Limb L2-----\n",
      "No nodes were eliminated so don't need to add back any candidates\n",
      "\n",
      "----Working on Limb L3-----\n",
      "No endpoints were eliminated so don't need to add back any candidates\n",
      "\n",
      "----Working on Limb L4-----\n",
      "No nodes were eliminated so don't need to add back any candidates\n",
      "\n",
      "----Working on Limb L5-----\n",
      "No nodes were eliminated so don't need to add back any candidates\n",
      "\n",
      "----Working on Limb L6-----\n",
      "No endpoints were eliminated so don't need to add back any candidates\n",
      "Final Candidates\n",
      "\n",
      "Limb 1\n",
      "Candidate 0 (sandybrown): array([0, 2, 3])\n",
      "Candidate 1 (blue): array([1, 4, 5])\n",
      "\n",
      "Limb 2\n",
      "Candidate 0 (brown): array([0, 1, 2])\n",
      "\n",
      "Limb 3\n",
      "Candidate 0 (cyan): array([1, 3, 4])\n",
      "Candidate 1 (palegreen): array([2])\n",
      "\n",
      "Limb 4\n",
      "Candidate 0 (palegreen): array([ 0,  1,  2,  3,  4,  5,  6,  7,  8,  9, 10, 11, 12, 13, 14, 15, 16,\n",
      "       17, 18, 19, 20, 21, 22, 23, 24, 25, 26, 27, 28, 29, 30])\n",
      "\n",
      "Limb 5\n",
      "Candidate 0 (green): array([0, 1, 2])\n",
      "\n",
      "Limb 6\n",
      "Candidate 0 (magenta): array([0])\n",
      "Candidate 1 (pink): array([1])\n",
      "Part 3: axon_subgraph_candidates = {1: [[0, 2, 3], [1, 4, 5]], 2: [[0, 1, 2]], 3: [[1, 3, 4], [2]], 4: [[0, 1, 2, 3, 4, 5, 6, 7, 8, 9, 10, 11, 12, 13, 14, 15, 16, 17, 18, 19, 20, 21, 22, 23, 24, 25, 26, 27, 28, 29, 30]], 5: [[0, 1, 2]], 6: [[0], [1]]}\n",
      "\n",
      "\n",
      " --- Working on limb 1, candidate # 0\n",
      "1 out of 3 branches are axons\n",
      "Axon percentage = 0.3333333333333333\n",
      "curr_axon_angle_threshold = 120\n",
      "candidate_nodes = [0 2 3 6]\n",
      "non_axon_branches_on_subgraph = [0 3 6]\n",
      "endnodes_to_test = []\n",
      "candidate_angles,restr_skels = (None, None)\n",
      "Not adding candidate because no angles (None) passed the threhold 120 \n",
      "\n",
      "\n",
      " --- Working on limb 1, candidate # 1\n",
      "0 out of 3 branches are axons\n",
      "Axon percentage = 0.0\n",
      "Not adding candidate no axon branches detected \n",
      "\n",
      "\n",
      " --- Working on limb 2, candidate # 0\n",
      "0 out of 3 branches are axons\n",
      "Axon percentage = 0.0\n",
      "Not adding candidate no axon branches detected \n",
      "\n",
      "\n",
      " --- Working on limb 3, candidate # 0\n",
      "0 out of 3 branches are axons\n",
      "Axon percentage = 0.0\n",
      "Not adding candidate no axon branches detected \n",
      "\n",
      "\n",
      " --- Working on limb 3, candidate # 1\n",
      "0 out of 1 branches are axons\n",
      "Axon percentage = 0.0\n",
      "Not adding candidate no axon branches detected \n",
      "\n",
      "\n",
      " --- Working on limb 4, candidate # 0\n",
      "31 out of 31 branches are axons\n",
      "Axon percentage = 1.0\n",
      "curr_axon_angle_threshold = 95\n",
      "candidate_nodes = [ 0  1  2  3  4  5  6  7  8  9 10 11 12 13 14 15 16 17 18 19 20 21 22 23\n",
      " 24 25 26 27 28 29 30]\n",
      "non_axon_branches_on_subgraph = []\n",
      "endnodes_to_test = [6986]\n",
      "Skeleton paths distances = [24989.50637179]\n",
      "Filtered indexes = [0]\n",
      "len(filtered_skeletons) = 1\n",
      "sk_angles = [168.84619218]\n",
      "candidate_angles,restr_skels = (array([168.84619218]), [array([[[1279138.13988825,  637356.35596922, 1016721.12459158],\n",
      "        [1279137.44510444,  637454.12062605, 1016742.13861426]],\n",
      "\n",
      "       [[1279137.44510444,  637454.12062605, 1016742.13861426],\n",
      "        [1279136.6846664 ,  637551.744186  , 1016763.73545352]],\n",
      "\n",
      "       [[1279136.6846664 ,  637551.744186  , 1016763.73545352],\n",
      "        [1279135.44813043,  637648.3445684 , 1016789.55864268]],\n",
      "\n",
      "       [[1279135.44813043,  637648.3445684 , 1016789.55864268],\n",
      "        [1279133.98318071,  637744.55938639, 1016816.68737474]],\n",
      "\n",
      "       [[1279133.98318071,  637744.55938639, 1016816.68737474],\n",
      "        [1279131.96740548,  637839.84440608, 1016846.96445638]],\n",
      "\n",
      "       [[1279131.96740548,  637839.84440608, 1016846.96445638],\n",
      "        [1279129.42734028,  637934.59595725, 1016878.78690043]],\n",
      "\n",
      "       [[1279129.42734028,  637934.59595725, 1016878.78690043],\n",
      "        [1279126.34945633,  638028.8002743 , 1016912.19458336]],\n",
      "\n",
      "       [[1279126.34945633,  638028.8002743 , 1016912.19458336],\n",
      "        [1279122.30754086,  638122.63508057, 1016946.51473291]],\n",
      "\n",
      "       [[1279122.30754086,  638122.63508057, 1016946.51473291],\n",
      "        [1279117.84955034,  638216.31040636, 1016981.22870215]],\n",
      "\n",
      "       [[1279117.84955034,  638216.31040636, 1016981.22870215],\n",
      "        [1279111.81608142,  638310.03328477, 1017015.56980577]],\n",
      "\n",
      "       [[1279111.81608142,  638310.03328477, 1017015.56980577],\n",
      "        [1279105.40809732,  638403.79572973, 1017049.73021726]],\n",
      "\n",
      "       [[1279105.40809732,  638403.79572973, 1017049.73021726],\n",
      "        [1279096.93635548,  638497.92810153, 1017082.40017549]],\n",
      "\n",
      "       [[1279096.93635548,  638497.92810153, 1017082.40017549],\n",
      "        [1279087.6661494 ,  638592.1772523 , 1017114.47064484]],\n",
      "\n",
      "       [[1279087.6661494 ,  638592.1772523 , 1017114.47064484],\n",
      "        [1279076.30541877,  638686.73215165, 1017144.97154331]],\n",
      "\n",
      "       [[1279076.30541877,  638686.73215165, 1017144.97154331],\n",
      "        [1279063.1921699 ,  638781.35417144, 1017174.47348272]],\n",
      "\n",
      "       [[1279063.1921699 ,  638781.35417144, 1017174.47348272],\n",
      "        [1279048.20684946,  638876.04789047, 1017202.90831606]],\n",
      "\n",
      "       [[1279048.20684946,  638876.04789047, 1017202.90831606],\n",
      "        [1279030.14311613,  638970.48759891, 1017230.30485619]],\n",
      "\n",
      "       [[1279030.14311613,  638970.48759891, 1017230.30485619],\n",
      "        [1279010.84079453,  639064.82510711, 1017257.28364281]],\n",
      "\n",
      "       [[1279010.84079453,  639064.82510711, 1017257.28364281],\n",
      "        [1278986.94053552,  639158.2534211 , 1017283.72514033]],\n",
      "\n",
      "       [[1278986.94053552,  639158.2534211 , 1017283.72514033],\n",
      "        [1278961.74009003,  639251.30034508, 1017310.23283121]],\n",
      "\n",
      "       [[1278961.74009003,  639251.30034508, 1017310.23283121],\n",
      "        [1278932.9105125 ,  639343.23399918, 1017337.01078302]],\n",
      "\n",
      "       [[1278932.9105125 ,  639343.23399918, 1017337.01078302],\n",
      "        [1278901.83171051,  639434.25036699, 1017364.29674969]],\n",
      "\n",
      "       [[1278901.83171051,  639434.25036699, 1017364.29674969],\n",
      "        [1278868.70588013,  639524.4319088 , 1017392.04506276]],\n",
      "\n",
      "       [[1278868.70588013,  639524.4319088 , 1017392.04506276],\n",
      "        [1278832.78630553,  639613.25964885, 1017420.62828665]],\n",
      "\n",
      "       [[1278832.78630553,  639613.25964885, 1017420.62828665],\n",
      "        [1278795.99130206,  639701.66270324, 1017449.44492893]],\n",
      "\n",
      "       [[1278795.99130206,  639701.66270324, 1017449.44492893],\n",
      "        [1278756.96282011,  639788.978755  , 1017478.64569436]],\n",
      "\n",
      "       [[1278756.96282011,  639788.978755  , 1017478.64569436],\n",
      "        [1278717.36968309,  639876.12569   , 1017507.57722577]],\n",
      "\n",
      "       [[1278717.36968309,  639876.12569   , 1017507.57722577],\n",
      "        [1278676.75230202,  639962.96585928, 1017536.02038586]],\n",
      "\n",
      "       [[1278676.75230202,  639962.96585928, 1017536.02038586],\n",
      "        [1278635.51582172,  640049.93409988, 1017563.12414569]],\n",
      "\n",
      "       [[1278635.51582172,  640049.93409988, 1017563.12414569],\n",
      "        [1278593.86616583,  640136.98781297, 1017589.33401409]],\n",
      "\n",
      "       [[1278593.86616583,  640136.98781297, 1017589.33401409],\n",
      "        [1278551.5340499 ,  640224.5468004 , 1017612.55745689]],\n",
      "\n",
      "       [[1278551.5340499 ,  640224.5468004 , 1017612.55745689],\n",
      "        [1278509.03262698,  640312.2301461 , 1017635.02382084]],\n",
      "\n",
      "       [[1278509.03262698,  640312.2301461 , 1017635.02382084],\n",
      "        [1278465.65770565,  640400.5199596 , 1017653.01062248]],\n",
      "\n",
      "       [[1278465.65770565,  640400.5199596 , 1017653.01062248],\n",
      "        [1278422.05901796,  640488.8782616 , 1017669.97704068]],\n",
      "\n",
      "       [[1278422.05901796,  640488.8782616 , 1017669.97704068],\n",
      "        [1278377.622072  ,  640577.49313062, 1017683.12096789]],\n",
      "\n",
      "       [[1278377.622072  ,  640577.49313062, 1017683.12096789],\n",
      "        [1278332.73656712,  640666.08886838, 1017694.58059676]],\n",
      "\n",
      "       [[1278332.73656712,  640666.08886838, 1017694.58059676],\n",
      "        [1278287.14781818,  640754.65461244, 1017703.39960743]],\n",
      "\n",
      "       [[1278287.14781818,  640754.65461244, 1017703.39960743],\n",
      "        [1278240.98406676,  640843.06915713, 1017710.40115834]],\n",
      "\n",
      "       [[1278240.98406676,  640843.06915713, 1017710.40115834],\n",
      "        [1278194.38715459,  640931.36980035, 1017716.0335809 ]],\n",
      "\n",
      "       [[1278194.38715459,  640931.36980035, 1017716.0335809 ],\n",
      "        [1278147.39979472,  641019.53469158, 1017720.3401652 ]],\n",
      "\n",
      "       [[1278147.39979472,  641019.53469158, 1017720.3401652 ],\n",
      "        [1278100.29232869,  641107.65782396, 1017724.23890657]],\n",
      "\n",
      "       [[1278100.29232869,  641107.65782396, 1017724.23890657],\n",
      "        [1278053.58070205,  641196.00485844, 1017727.81939552]],\n",
      "\n",
      "       [[1278053.58070205,  641196.00485844, 1017727.81939552],\n",
      "        [1278007.25816551,  641284.54576637, 1017731.56341641]],\n",
      "\n",
      "       [[1278007.25816551,  641284.54576637, 1017731.56341641],\n",
      "        [1277962.22802625,  641373.72902203, 1017735.88006649]],\n",
      "\n",
      "       [[1277962.22802625,  641373.72902203, 1017735.88006649],\n",
      "        [1277918.73203725,  641463.61789311, 1017740.86095431]],\n",
      "\n",
      "       [[1277918.73203725,  641463.61789311, 1017740.86095431],\n",
      "        [1277876.76452865,  641554.20977183, 1017746.50362501]],\n",
      "\n",
      "       [[1277876.76452865,  641554.20977183, 1017746.50362501],\n",
      "        [1277838.09945608,  641646.15836329, 1017753.34410903]],\n",
      "\n",
      "       [[1277838.09945608,  641646.15836329, 1017753.34410903],\n",
      "        [1277800.7317234 ,  641738.61445454, 1017760.64403762]],\n",
      "\n",
      "       [[1277800.7317234 ,  641738.61445454, 1017760.64403762],\n",
      "        [1277767.45348352,  641832.51446533, 1017769.32428669]],\n",
      "\n",
      "       [[1277767.45348352,  641832.51446533, 1017769.32428669],\n",
      "        [1277735.75595128,  641926.87251635, 1017778.65694167]],\n",
      "\n",
      "       [[1277735.75595128,  641926.87251635, 1017778.65694167],\n",
      "        [1277706.44214086,  642021.9212963 , 1017788.97343084]],\n",
      "\n",
      "       [[1277706.44214086,  642021.9212963 , 1017788.97343084],\n",
      "        [1277678.93993585,  642117.34519586, 1017800.61589034]],\n",
      "\n",
      "       [[1277678.93993585,  642117.34519586, 1017800.61589034],\n",
      "        [1277652.26340089,  642212.94006257, 1017812.86268343]],\n",
      "\n",
      "       [[1277652.26340089,  642212.94006257, 1017812.86268343],\n",
      "        [1277626.60447231,  642308.50443468, 1017827.31192563]],\n",
      "\n",
      "       [[1277626.60447231,  642308.50443468, 1017827.31192563],\n",
      "        [1277600.96992159,  642403.97964761, 1017842.35574298]],\n",
      "\n",
      "       [[1277600.96992159,  642403.97964761, 1017842.35574298],\n",
      "        [1277575.22659636,  642499.08346384, 1017859.45969998]],\n",
      "\n",
      "       [[1277575.22659636,  642499.08346384, 1017859.45969998],\n",
      "        [1277549.26618548,  642593.94244751, 1017877.52254336]],\n",
      "\n",
      "       [[1277549.26618548,  642593.94244751, 1017877.52254336],\n",
      "        [1277522.97503389,  642688.42841669, 1017897.04629751]],\n",
      "\n",
      "       [[1277522.97503389,  642688.42841669, 1017897.04629751],\n",
      "        [1277496.62641296,  642782.67035602, 1017917.62104488]],\n",
      "\n",
      "       [[1277496.62641296,  642782.67035602, 1017917.62104488],\n",
      "        [1277470.23413683,  642876.72692389, 1017938.99415419]],\n",
      "\n",
      "       [[1277470.23413683,  642876.72692389, 1017938.99415419],\n",
      "        [1277444.52706665,  642970.82234317, 1017961.01323625]],\n",
      "\n",
      "       [[1277444.52706665,  642970.82234317, 1017961.01323625],\n",
      "        [1277419.09663924,  643064.93344819, 1017983.2931212 ]],\n",
      "\n",
      "       [[1277419.09663924,  643064.93344819, 1017983.2931212 ],\n",
      "        [1277395.56155226,  643159.58261936, 1018005.35878989]],\n",
      "\n",
      "       [[1277395.56155226,  643159.58261936, 1018005.35878989],\n",
      "        [1277372.38372148,  643254.3332116 , 1018027.38408058]],\n",
      "\n",
      "       [[1277372.38372148,  643254.3332116 , 1018027.38408058],\n",
      "        [1277352.5191856 ,  643350.15156046, 1018047.97200927]],\n",
      "\n",
      "       [[1277352.5191856 ,  643350.15156046, 1018047.97200927],\n",
      "        [1277333.27869319,  643446.16403635, 1018068.18360053]],\n",
      "\n",
      "       [[1277333.27869319,  643446.16403635, 1018068.18360053],\n",
      "        [1277317.6659494 ,  643543.29827162, 1018086.1051677 ]],\n",
      "\n",
      "       [[1277317.6659494 ,  643543.29827162, 1018086.1051677 ],\n",
      "        [1277303.47672459,  643640.81674784, 1018102.87862055]],\n",
      "\n",
      "       [[1277303.47672459,  643640.81674784, 1018102.87862055],\n",
      "        [1277292.33001391,  643739.15646952, 1018117.19818691]],\n",
      "\n",
      "       [[1277292.33001391,  643739.15646952, 1018117.19818691],\n",
      "        [1277283.61369577,  643838.0037713 , 1018129.18205829]],\n",
      "\n",
      "       [[1277283.61369577,  643838.0037713 , 1018129.18205829],\n",
      "        [1277276.91021616,  643937.2714483 , 1018139.23151919]],\n",
      "\n",
      "       [[1277276.91021616,  643937.2714483 , 1018139.23151919],\n",
      "        [1277273.696701  ,  644036.97852732, 1018145.70963296]],\n",
      "\n",
      "       [[1277273.696701  ,  644036.97852732, 1018145.70963296],\n",
      "        [1277271.60533427,  644136.80303777, 1018151.06829704]],\n",
      "\n",
      "       [[1277271.60533427,  644136.80303777, 1018151.06829704],\n",
      "        [1277273.65934721,  644236.76951131, 1018152.64474848]],\n",
      "\n",
      "       [[1277273.65934721,  644236.76951131, 1018152.64474848],\n",
      "        [1277277.02635946,  644336.67908533, 1018153.3412853 ]],\n",
      "\n",
      "       [[1277277.02635946,  644336.67908533, 1018153.3412853 ],\n",
      "        [1277283.67662987,  644436.44637763, 1018151.83752635]],\n",
      "\n",
      "       [[1277283.67662987,  644436.44637763, 1018151.83752635],\n",
      "        [1277292.4258006 ,  644536.00110137, 1018149.42158694]],\n",
      "\n",
      "       [[1277292.4258006 ,  644536.00110137, 1018149.42158694],\n",
      "        [1277303.74651932,  644635.29538861, 1018145.88805474]],\n",
      "\n",
      "       [[1277303.74651932,  644635.29538861, 1018145.88805474],\n",
      "        [1277317.33591569,  644734.25144157, 1018141.6605324 ]],\n",
      "\n",
      "       [[1277317.33591569,  644734.25144157, 1018141.6605324 ],\n",
      "        [1277332.96210974,  644832.90383095, 1018136.80995218]],\n",
      "\n",
      "       [[1277332.96210974,  644832.90383095, 1018136.80995218],\n",
      "        [1277350.28575264,  644931.22422118, 1018131.35408153]],\n",
      "\n",
      "       [[1277350.28575264,  644931.22422118, 1018131.35408153],\n",
      "        [1277369.24001984,  645029.22568226, 1018125.31674933]],\n",
      "\n",
      "       [[1277369.24001984,  645029.22568226, 1018125.31674933],\n",
      "        [1277388.92878906,  645127.03178023, 1018118.61968676]],\n",
      "\n",
      "       [[1277388.92878906,  645127.03178023, 1018118.61968676],\n",
      "        [1277409.68273769,  645224.55456139, 1018110.96587912]],\n",
      "\n",
      "       [[1277409.68273769,  645224.55456139, 1018110.96587912],\n",
      "        [1277430.42612756,  645322.02538645, 1018102.71635888]],\n",
      "\n",
      "       [[1277430.42612756,  645322.02538645, 1018102.71635888],\n",
      "        [1277451.13717981,  645419.3370892 , 1018092.64239135]],\n",
      "\n",
      "       [[1277451.13717981,  645419.3370892 , 1018092.64239135],\n",
      "        [1277471.73974747,  645516.64728213, 1018082.37359238]],\n",
      "\n",
      "       [[1277471.73974747,  645516.64728213, 1018082.37359238],\n",
      "        [1277490.57026497,  645613.93281266, 1018068.92230397]],\n",
      "\n",
      "       [[1277490.57026497,  645613.93281266, 1018068.92230397],\n",
      "        [1277509.40078247,  645711.21834319, 1018055.47101556]],\n",
      "\n",
      "       [[1277509.40078247,  645711.21834319, 1018055.47101556],\n",
      "        [1277525.27384061,  645808.42044433, 1018038.25086147]],\n",
      "\n",
      "       [[1277525.27384061,  645808.42044433, 1018038.25086147],\n",
      "        [1277540.72644556,  645905.61068456, 1018020.49489898]],\n",
      "\n",
      "       [[1277540.72644556,  645905.61068456, 1018020.49489898],\n",
      "        [1277553.09606269,  646002.4559584 , 1017999.06650087]],\n",
      "\n",
      "       [[1277553.09606269,  646002.4559584 , 1017999.06650087],\n",
      "        [1277564.29051144,  646099.1697385 , 1017976.23824961]],\n",
      "\n",
      "       [[1277564.29051144,  646099.1697385 , 1017976.23824961],\n",
      "        [1277572.7734413 ,  646195.21886755, 1017949.96335638]],\n",
      "\n",
      "       [[1277572.7734413 ,  646195.21886755, 1017949.96335638],\n",
      "        [1277579.57010718,  646290.85465738, 1017921.54503418]],\n",
      "\n",
      "       [[1277579.57010718,  646290.85465738, 1017921.54503418],\n",
      "        [1277584.21097263,  646385.5352205 , 1017889.90033649]],\n",
      "\n",
      "       [[1277584.21097263,  646385.5352205 , 1017889.90033649],\n",
      "        [1277587.14192612,  646479.45812834, 1017855.69658093]],\n",
      "\n",
      "       [[1277587.14192612,  646479.45812834, 1017855.69658093],\n",
      "        [1277588.51008746,  646572.18436618, 1017818.42769096]],\n",
      "\n",
      "       [[1277588.51008746,  646572.18436618, 1017818.42769096],\n",
      "        [1277588.58240328,  646663.9183419 , 1017778.61723417]],\n",
      "\n",
      "       [[1277588.58240328,  646663.9183419 , 1017778.61723417],\n",
      "        [1277587.72443835,  646754.26647226, 1017735.85968585]]])])\n"
     ]
    },
    {
     "name": "stdout",
     "output_type": "stream",
     "text": [
      "base_final_widths = [175.81182383 166.06570863 188.09243517]\n",
      "overall_ais_width = 171.23771662773913\n",
      "ais_width = 176.65665587881185\n",
      "Adding the following branches as true axons: [ 0.  1.  2.  3.  4.  5.  6.  7.  8.  9. 10. 11. 12. 13. 14. 15. 16. 17.\n",
      " 18. 19. 20. 21. 22. 23. 24. 25. 26. 27. 28. 29. 30.]\n",
      "curr_soma_angle = 142.74\n",
      "max_axon_angle = 168.84619218451016\n",
      "Changing to a better axon candidate\n",
      "\n",
      "\n",
      " --- Working on limb 5, candidate # 0\n",
      "0 out of 3 branches are axons\n",
      "Axon percentage = 0.0\n",
      "Not adding candidate no axon branches detected \n",
      "\n",
      "\n",
      " --- Working on limb 6, candidate # 0\n",
      "0 out of 1 branches are axons\n",
      "Axon percentage = 0.0\n",
      "Not adding candidate no axon branches detected \n",
      "\n",
      "\n",
      " --- Working on limb 6, candidate # 1\n",
      "0 out of 1 branches are axons\n",
      "Axon percentage = 0.0\n",
      "Not adding candidate no axon branches detected \n",
      "Using the best axon approach\n",
      "Using True\n",
      "Limb L4: Axon branches before dendritic path filter = [ 0.  1.  2.  3.  4.  5.  6.  7.  8.  9. 10. 11. 12. 13. 14. 15. 16. 17.\n",
      " 18. 19. 20. 21. 22. 23. 24. 25. 26. 27. 28. 29. 30.]\n",
      "Limb L4: Axon branches AFTER dendritic path filter = [ 0.  1.  2.  3.  4.  5.  6.  7.  8.  9. 10. 11. 12. 13. 14. 15. 16. 17.\n",
      " 18. 19. 20. 21. 22. 23. 24. 25. 26. 27. 28. 29. 30.]\n",
      "\n",
      "\n",
      "Part 4: final_true_axons = {'L4': array([ 0.,  1.,  2.,  3.,  4.,  5.,  6.,  7.,  8.,  9., 10., 11., 12.,\n",
      "       13., 14., 15., 16., 17., 18., 19., 20., 21., 22., 23., 24., 25.,\n",
      "       26., 27., 28., 29., 30.])}\n",
      "\n",
      "--- Working on filter 0:\n",
      "function = dendrite_on_axon_merges\n",
      "function __name__ = filter_away_dendrite_on_axon_merges\n",
      "function arguments = {'use_pre_existing_axon_labels': True}\n",
      "\n",
      "\n",
      "\n",
      "\n",
      "\n",
      " ---- Total time for applying filter: 0.380587100982666 -----\n",
      "Starting axon branch was the starting node so using border vertices and NOT computing upstream branch\n",
      "upstream_node_to_axon_starting_branch = None\n",
      "root_curr = [1281105.  627459. 1015476.]\n",
      "Time for preparing soma vertices and root: 0.0009195804595947266\n",
      "invalidation_d = 2000\n",
      "cc_vertex_thresh = 10\n"
     ]
    },
    {
     "name": "stderr",
     "output_type": "stream",
     "text": [
      "\r",
      "  0%|          | 0/1 [00:00<?, ?it/s]"
     ]
    },
    {
     "data": {
      "application/vnd.jupyter.widget-view+json": {
       "model_id": "96dab6cd0776488b81eb71fa62afea64",
       "version_major": 2,
       "version_minor": 0
      },
      "text/plain": [
       "  0%|          | 0/34839 [00:00<?, ?it/s]"
      ]
     },
     "metadata": {},
     "output_type": "display_data"
    },
    {
     "name": "stderr",
     "output_type": "stream",
     "text": [
      "100%|██████████| 1/1 [00:01<00:00,  1.04s/it]\n"
     ]
    },
    {
     "name": "stdout",
     "output_type": "stream",
     "text": [
      "meshparty_segment_size = 100\n",
      "Time for 1st pass MP skeletonization: 2.5007545948028564\n",
      "branches_touching_root = [5]\n",
      "combining close nodes\n",
      "combine_threshold = 1300\n",
      "length of Graph = 11494\n",
      "After combining close endpoints max(kept_branches_idx) = 56, len(kept_branches_idx) = 56\n",
      "empty_indices % = 0.0\n",
      " conflict_indices % = 0.015026988125224901\n"
     ]
    },
    {
     "data": {
      "application/vnd.jupyter.widget-view+json": {
       "model_id": "15b024e4457844578553cb7edc352624",
       "version_major": 2,
       "version_minor": 0
      },
      "text/plain": [
       "  0%|          | 0/27 [00:00<?, ?it/s]"
      ]
     },
     "metadata": {},
     "output_type": "display_data"
    },
    {
     "name": "stdout",
     "output_type": "stream",
     "text": [
      "AFTER face_lookup_resolved_test\n"
     ]
    },
    {
     "data": {
      "application/vnd.jupyter.widget-view+json": {
       "model_id": "1490a44893c342c3b7f425432052f321",
       "version_major": 2,
       "version_minor": 0
      },
      "text/plain": [
       "  0%|          | 0/56 [00:00<?, ?it/s]"
      ]
     },
     "metadata": {},
     "output_type": "display_data"
    },
    {
     "name": "stdout",
     "output_type": "stream",
     "text": [
      "Decomposing first pass: 11.32378339767456\n",
      "Only Using MeshParty Skeletonization and Mesh Correspondence\n",
      "Another print\n",
      "Divinding into MP and MAP pieces: 0.00018548965454101562\n",
      "Total time for MAP sublimb processing 4.76837158203125e-06\n",
      "---- Working on MP Decomposition #0 ----\n",
      "Using Quicker soma_to_piece_touching_vertices because no MAP and only one sublimb_mesh piece \n",
      "MP filtering soma verts: 0.0002791881561279297\n",
      "Fixing Possible Soma Extension Branch for Sublimb 0\n",
      "Total time for mesh KDTree = 0.20469450950622559\n",
      "sbv[0].reshape(-1,3) = [[1281105.  627459. 1015476.]]\n",
      "closest_sk_pt_coord BEFORE = [1281704.20248271  628030.03008399 1015182.01878722]\n",
      "current_skeleton.shape = (670, 2, 3)\n",
      "node_for_stitch = 444: [1281704.20248271  628030.03008399 1015182.01878722]\n",
      "node_for_stitch AFTER = 444: [1281704.20248271  628030.03008399 1015182.01878722]\n",
      "possible_node_loc = [  0 444]\n",
      "possible_node_loc AFTER = [  0 444]\n",
      "curr_shortest_path = [444]\n",
      "Current stitch point was a branch or endpoint\n",
      "change_status for create soma extending pieces = False\n",
      "closest_sk_pt_coord AFTER = [1281704.20248271  628030.03008399 1015182.01878722]\n",
      "skipping soma 0 because closest skeleton node was already end node\n",
      "endpoints_must_keep = {0: array([[1281704.20248271,  628030.03008399, 1015182.01878722]])}\n",
      "match_sk_branches = [5]\n",
      "The new branch info was none so skipping \n",
      "\n",
      "No soma extending branch was added for this sublimb even though it had a soma border (means they already existed)\n",
      "MP (because soma touching verts) soma extension add: 5.249895334243774\n",
      "There were not both MAP and MP pieces so skipping the stitch resolving phase\n",
      "Time for decomp of Limb = 20.068383932113647\n",
      "Number of matching vertices = 29\n",
      "Only one endpoint after filtering away the endpoints that are not on the skeleton\n",
      "Using Distance measure skeletal_distance\n",
      "endpoints_must_keep = [[1281704.20248271  628030.03008399 1015182.01878722]]\n",
      "Number of end_nodes BEFORE filtering = 30\n",
      "all_single_nodes_to_eliminate = [18]\n"
     ]
    },
    {
     "data": {
      "application/vnd.jupyter.widget-view+json": {
       "model_id": "1579bfd9f7a94bdc8e2bd488e54878f8",
       "version_major": 2,
       "version_minor": 0
      },
      "text/plain": [
       "  0%|          | 0/4 [00:00<?, ?it/s]"
      ]
     },
     "metadata": {},
     "output_type": "display_data"
    },
    {
     "name": "stdout",
     "output_type": "stream",
     "text": [
      "Removed 4 skeletal branches\n"
     ]
    },
    {
     "data": {
      "application/vnd.jupyter.widget-view+json": {
       "model_id": "bdb38c769af646b69f767e553d843e5d",
       "version_major": 2,
       "version_minor": 0
      },
      "text/plain": [
       "  0%|          | 0/56 [00:00<?, ?it/s]"
      ]
     },
     "metadata": {},
     "output_type": "display_data"
    },
    {
     "name": "stdout",
     "output_type": "stream",
     "text": [
      "69500 69501\n",
      "For marked faces: None\n",
      "empty_indices % = 0.0\n",
      " conflict_indices % = 0.0\n"
     ]
    },
    {
     "data": {
      "application/vnd.jupyter.widget-view+json": {
       "model_id": "86325b700f4f42808a454bb33f1a0a8f",
       "version_major": 2,
       "version_minor": 0
      },
      "text/plain": [
       "0it [00:00, ?it/s]"
      ]
     },
     "metadata": {},
     "output_type": "display_data"
    },
    {
     "name": "stdout",
     "output_type": "stream",
     "text": [
      "AFTER face_lookup_resolved_test\n"
     ]
    },
    {
     "data": {
      "application/vnd.jupyter.widget-view+json": {
       "model_id": "d4174f3ee8be4cef925b4bfafc0738c7",
       "version_major": 2,
       "version_minor": 0
      },
      "text/plain": [
       "  0%|          | 0/48 [00:00<?, ?it/s]"
      ]
     },
     "metadata": {},
     "output_type": "display_data"
    },
    {
     "name": "stdout",
     "output_type": "stream",
     "text": [
      "Limb Correspondence before stitching = 48\n",
      "Limb Correspondence AFTER stitching = 48\n",
      "Upstream node was None so don't have to adjust\n",
      "concept_network_dict = {0: [<networkx_utils.GraphOrderedEdges object at 0x7f3cccd25a20>]}\n",
      "\n",
      "\n",
      "----Working on seperate_graph 0----\n",
      "\n",
      "\n",
      "---------Working on soma_idx = 0, soma_group_idx 0, endpt = [1281704.20248271  628030.03008399 1015182.01878722]---------\n",
      "Starting_edge inside branches_to_conept = [[1275911.45937267  683877.953571   1014141.62755453]\n",
      " [1281704.20248271  628030.03008399 1015182.01878722]]\n",
      "At the start, starting_node (in terms of the skeleton, that shouldn't match the starting edge) = [31]\n",
      "printing out current edge:\n",
      "[[1281704.20248271  628030.03008399 1015182.01878722]\n",
      " [1275911.45937267  683877.953571   1014141.62755453]]\n",
      "edge_endpoints_to_process was empty so exiting loop after 48 iterations\n",
      "starting_node in concept map (that should match the starting edge) = 25\n",
      "Total time for branches to concept conversion = 1.7150428295135498\n",
      "\n",
      "Done generating concept network \n",
      "\n",
      "\n"
     ]
    },
    {
     "data": {
      "application/vnd.jupyter.widget-view+json": {
       "model_id": "37ebc70845c64803ae9dec37b1ce5234",
       "version_major": 2,
       "version_minor": 0
      },
      "text/plain": [
       "  0%|          | 0/40 [00:00<?, ?it/s]"
      ]
     },
     "metadata": {},
     "output_type": "display_data"
    },
    {
     "data": {
      "application/vnd.jupyter.widget-view+json": {
       "model_id": "92530ecd22bb4685b73aa016d8de179d",
       "version_major": 2,
       "version_minor": 0
      },
      "text/plain": [
       "  0%|          | 0/75 [00:00<?, ?it/s]"
      ]
     },
     "metadata": {},
     "output_type": "display_data"
    },
    {
     "data": {
      "application/vnd.jupyter.widget-view+json": {
       "model_id": "235158961d594b2ca18ea792b175a2a6",
       "version_major": 2,
       "version_minor": 0
      },
      "text/plain": [
       "  0%|          | 0/14 [00:00<?, ?it/s]"
      ]
     },
     "metadata": {},
     "output_type": "display_data"
    },
    {
     "data": {
      "application/vnd.jupyter.widget-view+json": {
       "model_id": "7d32852ff0964403ad8c1ce6207060ba",
       "version_major": 2,
       "version_minor": 0
      },
      "text/plain": [
       "  0%|          | 0/12 [00:00<?, ?it/s]"
      ]
     },
     "metadata": {},
     "output_type": "display_data"
    },
    {
     "data": {
      "application/vnd.jupyter.widget-view+json": {
       "model_id": "f89d0c71e2654db19941e4044ea00f26",
       "version_major": 2,
       "version_minor": 0
      },
      "text/plain": [
       "  0%|          | 0/11 [00:00<?, ?it/s]"
      ]
     },
     "metadata": {},
     "output_type": "display_data"
    },
    {
     "data": {
      "application/vnd.jupyter.widget-view+json": {
       "model_id": "7a4751e2cc0b4128acbfa208bf504b98",
       "version_major": 2,
       "version_minor": 0
      },
      "text/plain": [
       "  0%|          | 0/16 [00:00<?, ?it/s]"
      ]
     },
     "metadata": {},
     "output_type": "display_data"
    },
    {
     "data": {
      "application/vnd.jupyter.widget-view+json": {
       "model_id": "1d15795635534c60b434e5680ed1c588",
       "version_major": 2,
       "version_minor": 0
      },
      "text/plain": [
       "  0%|          | 0/12 [00:00<?, ?it/s]"
      ]
     },
     "metadata": {},
     "output_type": "display_data"
    },
    {
     "data": {
      "application/vnd.jupyter.widget-view+json": {
       "model_id": "814ceadab9ac4dff92b2479a8314df67",
       "version_major": 2,
       "version_minor": 0
      },
      "text/plain": [
       "  0%|          | 0/17 [00:00<?, ?it/s]"
      ]
     },
     "metadata": {},
     "output_type": "display_data"
    },
    {
     "data": {
      "application/vnd.jupyter.widget-view+json": {
       "model_id": "2cce34ad03e04756aecaf034c3ed5b6b",
       "version_major": 2,
       "version_minor": 0
      },
      "text/plain": [
       "  0%|          | 0/31 [00:00<?, ?it/s]"
      ]
     },
     "metadata": {},
     "output_type": "display_data"
    },
    {
     "data": {
      "application/vnd.jupyter.widget-view+json": {
       "model_id": "68d6639e96da4a798fa4b750e4ed3f27",
       "version_major": 2,
       "version_minor": 0
      },
      "text/plain": [
       "  0%|          | 0/64 [00:00<?, ?it/s]"
      ]
     },
     "metadata": {},
     "output_type": "display_data"
    },
    {
     "data": {
      "application/vnd.jupyter.widget-view+json": {
       "model_id": "9711086c82f14409bc6888ea0b4e314d",
       "version_major": 2,
       "version_minor": 0
      },
      "text/plain": [
       "  0%|          | 0/6 [00:00<?, ?it/s]"
      ]
     },
     "metadata": {},
     "output_type": "display_data"
    },
    {
     "data": {
      "application/vnd.jupyter.widget-view+json": {
       "model_id": "34429c3cf4b74652b58f6ef21a247d24",
       "version_major": 2,
       "version_minor": 0
      },
      "text/plain": [
       "  0%|          | 0/5 [00:00<?, ?it/s]"
      ]
     },
     "metadata": {},
     "output_type": "display_data"
    },
    {
     "data": {
      "application/vnd.jupyter.widget-view+json": {
       "model_id": "becd92847c8b4512b457b2ba79dc501e",
       "version_major": 2,
       "version_minor": 0
      },
      "text/plain": [
       "  0%|          | 0/2 [00:00<?, ?it/s]"
      ]
     },
     "metadata": {},
     "output_type": "display_data"
    },
    {
     "data": {
      "application/vnd.jupyter.widget-view+json": {
       "model_id": "ae27954654e14dc7a3a1856feaeb8ddd",
       "version_major": 2,
       "version_minor": 0
      },
      "text/plain": [
       "  0%|          | 0/6 [00:00<?, ?it/s]"
      ]
     },
     "metadata": {},
     "output_type": "display_data"
    },
    {
     "data": {
      "application/vnd.jupyter.widget-view+json": {
       "model_id": "8557e3641743425e87d103bc68538897",
       "version_major": 2,
       "version_minor": 0
      },
      "text/plain": [
       "  0%|          | 0/4 [00:00<?, ?it/s]"
      ]
     },
     "metadata": {},
     "output_type": "display_data"
    },
    {
     "data": {
      "application/vnd.jupyter.widget-view+json": {
       "model_id": "2ac06fc917a742cbb809513f68bf87de",
       "version_major": 2,
       "version_minor": 0
      },
      "text/plain": [
       "  0%|          | 0/7 [00:00<?, ?it/s]"
      ]
     },
     "metadata": {},
     "output_type": "display_data"
    },
    {
     "data": {
      "application/vnd.jupyter.widget-view+json": {
       "model_id": "3db175b52b014e0184bbb397e997cbb4",
       "version_major": 2,
       "version_minor": 0
      },
      "text/plain": [
       "  0%|          | 0/10 [00:00<?, ?it/s]"
      ]
     },
     "metadata": {},
     "output_type": "display_data"
    },
    {
     "data": {
      "application/vnd.jupyter.widget-view+json": {
       "model_id": "55e5083c71234b4390000c856e5f2d62",
       "version_major": 2,
       "version_minor": 0
      },
      "text/plain": [
       "  0%|          | 0/17 [00:00<?, ?it/s]"
      ]
     },
     "metadata": {},
     "output_type": "display_data"
    },
    {
     "data": {
      "application/vnd.jupyter.widget-view+json": {
       "model_id": "06d9c9a0170a4b469052630adcdd73d4",
       "version_major": 2,
       "version_minor": 0
      },
      "text/plain": [
       "  0%|          | 0/11 [00:00<?, ?it/s]"
      ]
     },
     "metadata": {},
     "output_type": "display_data"
    },
    {
     "data": {
      "application/vnd.jupyter.widget-view+json": {
       "model_id": "86a2ef4944e24d68bfa20832e9bd9532",
       "version_major": 2,
       "version_minor": 0
      },
      "text/plain": [
       "  0%|          | 0/5 [00:00<?, ?it/s]"
      ]
     },
     "metadata": {},
     "output_type": "display_data"
    },
    {
     "data": {
      "application/vnd.jupyter.widget-view+json": {
       "model_id": "70d38fe85c0d4f29bed49cd8ff18e073",
       "version_major": 2,
       "version_minor": 0
      },
      "text/plain": [
       "  0%|          | 0/2 [00:00<?, ?it/s]"
      ]
     },
     "metadata": {},
     "output_type": "display_data"
    },
    {
     "data": {
      "application/vnd.jupyter.widget-view+json": {
       "model_id": "7673a8e380374484a468f2372b2cbebd",
       "version_major": 2,
       "version_minor": 0
      },
      "text/plain": [
       "  0%|          | 0/16 [00:00<?, ?it/s]"
      ]
     },
     "metadata": {},
     "output_type": "display_data"
    },
    {
     "data": {
      "application/vnd.jupyter.widget-view+json": {
       "model_id": "2bfd11dcdc25498fa1f0a5862bb12b38",
       "version_major": 2,
       "version_minor": 0
      },
      "text/plain": [
       "  0%|          | 0/26 [00:00<?, ?it/s]"
      ]
     },
     "metadata": {},
     "output_type": "display_data"
    },
    {
     "data": {
      "application/vnd.jupyter.widget-view+json": {
       "model_id": "6d4051be337d408fbccec88a26ebbf4c",
       "version_major": 2,
       "version_minor": 0
      },
      "text/plain": [
       "  0%|          | 0/20 [00:00<?, ?it/s]"
      ]
     },
     "metadata": {},
     "output_type": "display_data"
    },
    {
     "data": {
      "application/vnd.jupyter.widget-view+json": {
       "model_id": "8c96980bafdd40558521dec24783142c",
       "version_major": 2,
       "version_minor": 0
      },
      "text/plain": [
       "  0%|          | 0/5 [00:00<?, ?it/s]"
      ]
     },
     "metadata": {},
     "output_type": "display_data"
    },
    {
     "data": {
      "application/vnd.jupyter.widget-view+json": {
       "model_id": "8a4e4c8ff73c4c3783235d063b010fbb",
       "version_major": 2,
       "version_minor": 0
      },
      "text/plain": [
       "  0%|          | 0/9 [00:00<?, ?it/s]"
      ]
     },
     "metadata": {},
     "output_type": "display_data"
    },
    {
     "data": {
      "application/vnd.jupyter.widget-view+json": {
       "model_id": "4c67bd4d11ee4feda969aeea80ea656f",
       "version_major": 2,
       "version_minor": 0
      },
      "text/plain": [
       "  0%|          | 0/8 [00:00<?, ?it/s]"
      ]
     },
     "metadata": {},
     "output_type": "display_data"
    },
    {
     "data": {
      "application/vnd.jupyter.widget-view+json": {
       "model_id": "3508b642b5f642af898090954866fffd",
       "version_major": 2,
       "version_minor": 0
      },
      "text/plain": [
       "  0%|          | 0/8 [00:00<?, ?it/s]"
      ]
     },
     "metadata": {},
     "output_type": "display_data"
    },
    {
     "data": {
      "application/vnd.jupyter.widget-view+json": {
       "model_id": "7368f437dc984171b1e99a16df2a27f6",
       "version_major": 2,
       "version_minor": 0
      },
      "text/plain": [
       "  0%|          | 0/7 [00:00<?, ?it/s]"
      ]
     },
     "metadata": {},
     "output_type": "display_data"
    },
    {
     "data": {
      "application/vnd.jupyter.widget-view+json": {
       "model_id": "25749b79b5f7431ba6fce6de629121b2",
       "version_major": 2,
       "version_minor": 0
      },
      "text/plain": [
       "  0%|          | 0/29 [00:00<?, ?it/s]"
      ]
     },
     "metadata": {},
     "output_type": "display_data"
    },
    {
     "data": {
      "application/vnd.jupyter.widget-view+json": {
       "model_id": "77706de46f5c4c53b34089af6d4ab642",
       "version_major": 2,
       "version_minor": 0
      },
      "text/plain": [
       "  0%|          | 0/9 [00:00<?, ?it/s]"
      ]
     },
     "metadata": {},
     "output_type": "display_data"
    },
    {
     "data": {
      "application/vnd.jupyter.widget-view+json": {
       "model_id": "72424af012f240d1a1ef8e51130594b2",
       "version_major": 2,
       "version_minor": 0
      },
      "text/plain": [
       "  0%|          | 0/69 [00:00<?, ?it/s]"
      ]
     },
     "metadata": {},
     "output_type": "display_data"
    },
    {
     "data": {
      "application/vnd.jupyter.widget-view+json": {
       "model_id": "ace70e69456c4e449f102088c371859d",
       "version_major": 2,
       "version_minor": 0
      },
      "text/plain": [
       "  0%|          | 0/29 [00:00<?, ?it/s]"
      ]
     },
     "metadata": {},
     "output_type": "display_data"
    },
    {
     "data": {
      "application/vnd.jupyter.widget-view+json": {
       "model_id": "3f90200de4644dd5ae9d951272438729",
       "version_major": 2,
       "version_minor": 0
      },
      "text/plain": [
       "  0%|          | 0/10 [00:00<?, ?it/s]"
      ]
     },
     "metadata": {},
     "output_type": "display_data"
    },
    {
     "data": {
      "application/vnd.jupyter.widget-view+json": {
       "model_id": "309de02cffb2401cac0003191c587cd1",
       "version_major": 2,
       "version_minor": 0
      },
      "text/plain": [
       "  0%|          | 0/8 [00:00<?, ?it/s]"
      ]
     },
     "metadata": {},
     "output_type": "display_data"
    },
    {
     "data": {
      "application/vnd.jupyter.widget-view+json": {
       "model_id": "87f3e85f166c4befaf0cb034ca112e6a",
       "version_major": 2,
       "version_minor": 0
      },
      "text/plain": [
       "  0%|          | 0/10 [00:00<?, ?it/s]"
      ]
     },
     "metadata": {},
     "output_type": "display_data"
    },
    {
     "data": {
      "application/vnd.jupyter.widget-view+json": {
       "model_id": "724eefa2cb84461b9b7e8b4cc4fc8238",
       "version_major": 2,
       "version_minor": 0
      },
      "text/plain": [
       "  0%|          | 0/5 [00:00<?, ?it/s]"
      ]
     },
     "metadata": {},
     "output_type": "display_data"
    },
    {
     "data": {
      "application/vnd.jupyter.widget-view+json": {
       "model_id": "40d1b6bdb6a54f76914e100f7e108638",
       "version_major": 2,
       "version_minor": 0
      },
      "text/plain": [
       "  0%|          | 0/17 [00:00<?, ?it/s]"
      ]
     },
     "metadata": {},
     "output_type": "display_data"
    },
    {
     "data": {
      "application/vnd.jupyter.widget-view+json": {
       "model_id": "e25770402529495e92ef146c98ffa73a",
       "version_major": 2,
       "version_minor": 0
      },
      "text/plain": [
       "  0%|          | 0/7 [00:00<?, ?it/s]"
      ]
     },
     "metadata": {},
     "output_type": "display_data"
    },
    {
     "data": {
      "application/vnd.jupyter.widget-view+json": {
       "model_id": "8e60fd9dd070467aa6b1287d9e21bb47",
       "version_major": 2,
       "version_minor": 0
      },
      "text/plain": [
       "  0%|          | 0/7 [00:00<?, ?it/s]"
      ]
     },
     "metadata": {},
     "output_type": "display_data"
    },
    {
     "data": {
      "application/vnd.jupyter.widget-view+json": {
       "model_id": "f06058da1e234a61b63433b0fc3cfb0a",
       "version_major": 2,
       "version_minor": 0
      },
      "text/plain": [
       "  0%|          | 0/15 [00:00<?, ?it/s]"
      ]
     },
     "metadata": {},
     "output_type": "display_data"
    },
    {
     "data": {
      "application/vnd.jupyter.widget-view+json": {
       "model_id": "0e29d742c82b40ee97ec94d63869fd62",
       "version_major": 2,
       "version_minor": 0
      },
      "text/plain": [
       "  0%|          | 0/28 [00:00<?, ?it/s]"
      ]
     },
     "metadata": {},
     "output_type": "display_data"
    },
    {
     "data": {
      "application/vnd.jupyter.widget-view+json": {
       "model_id": "eb0278fbeb5f4be1b22a45d17ae63b85",
       "version_major": 2,
       "version_minor": 0
      },
      "text/plain": [
       "  0%|          | 0/25 [00:00<?, ?it/s]"
      ]
     },
     "metadata": {},
     "output_type": "display_data"
    },
    {
     "data": {
      "application/vnd.jupyter.widget-view+json": {
       "model_id": "564f54f7852b4044b04817f7ec32b0b9",
       "version_major": 2,
       "version_minor": 0
      },
      "text/plain": [
       "  0%|          | 0/21 [00:00<?, ?it/s]"
      ]
     },
     "metadata": {},
     "output_type": "display_data"
    },
    {
     "data": {
      "application/vnd.jupyter.widget-view+json": {
       "model_id": "c1fe267931424888aca63edb0b025132",
       "version_major": 2,
       "version_minor": 0
      },
      "text/plain": [
       "  0%|          | 0/15 [00:00<?, ?it/s]"
      ]
     },
     "metadata": {},
     "output_type": "display_data"
    },
    {
     "data": {
      "application/vnd.jupyter.widget-view+json": {
       "model_id": "1729d9d69b834e8abb57122b9eaf3fe2",
       "version_major": 2,
       "version_minor": 0
      },
      "text/plain": [
       "  0%|          | 0/10 [00:00<?, ?it/s]"
      ]
     },
     "metadata": {},
     "output_type": "display_data"
    },
    {
     "data": {
      "application/vnd.jupyter.widget-view+json": {
       "model_id": "57d0ea985942490b92408e0d2aaa339f",
       "version_major": 2,
       "version_minor": 0
      },
      "text/plain": [
       "  0%|          | 0/15 [00:00<?, ?it/s]"
      ]
     },
     "metadata": {},
     "output_type": "display_data"
    },
    {
     "data": {
      "application/vnd.jupyter.widget-view+json": {
       "model_id": "8ca2d655f49e4d27a47b47c8c57360c4",
       "version_major": 2,
       "version_minor": 0
      },
      "text/plain": [
       "  0%|          | 0/8 [00:00<?, ?it/s]"
      ]
     },
     "metadata": {},
     "output_type": "display_data"
    },
    {
     "data": {
      "application/vnd.jupyter.widget-view+json": {
       "model_id": "5e81ab9adcdf48058c67006dc2139683",
       "version_major": 2,
       "version_minor": 0
      },
      "text/plain": [
       "  0%|          | 0/22 [00:00<?, ?it/s]"
      ]
     },
     "metadata": {},
     "output_type": "display_data"
    },
    {
     "data": {
      "application/vnd.jupyter.widget-view+json": {
       "model_id": "595f7883628b40bf8b58d518e3d2daf2",
       "version_major": 2,
       "version_minor": 0
      },
      "text/plain": [
       "  0%|          | 0/13 [00:00<?, ?it/s]"
      ]
     },
     "metadata": {},
     "output_type": "display_data"
    },
    {
     "data": {
      "application/vnd.jupyter.widget-view+json": {
       "model_id": "e079838659d44293b5f57042c89876d2",
       "version_major": 2,
       "version_minor": 0
      },
      "text/plain": [
       "  0%|          | 0/25 [00:00<?, ?it/s]"
      ]
     },
     "metadata": {},
     "output_type": "display_data"
    },
    {
     "data": {
      "application/vnd.jupyter.widget-view+json": {
       "model_id": "fb3cefc9b0f440d690d0cabc5807b5d6",
       "version_major": 2,
       "version_minor": 0
      },
      "text/plain": [
       "  0%|          | 0/57 [00:00<?, ?it/s]"
      ]
     },
     "metadata": {},
     "output_type": "display_data"
    },
    {
     "data": {
      "application/vnd.jupyter.widget-view+json": {
       "model_id": "e0f2ae8a83214f55a48fbd3d63aea477",
       "version_major": 2,
       "version_minor": 0
      },
      "text/plain": [
       "  0%|          | 0/16 [00:00<?, ?it/s]"
      ]
     },
     "metadata": {},
     "output_type": "display_data"
    },
    {
     "data": {
      "application/vnd.jupyter.widget-view+json": {
       "model_id": "d650c867f1b14b7282ad88e1803991f3",
       "version_major": 2,
       "version_minor": 0
      },
      "text/plain": [
       "  0%|          | 0/41 [00:00<?, ?it/s]"
      ]
     },
     "metadata": {},
     "output_type": "display_data"
    },
    {
     "data": {
      "application/vnd.jupyter.widget-view+json": {
       "model_id": "57378901e75142cdba11c6225b46fbf4",
       "version_major": 2,
       "version_minor": 0
      },
      "text/plain": [
       "  0%|          | 0/22 [00:00<?, ?it/s]"
      ]
     },
     "metadata": {},
     "output_type": "display_data"
    },
    {
     "data": {
      "application/vnd.jupyter.widget-view+json": {
       "model_id": "d462a96ff7e34f9aa5bc3ee0830a2db3",
       "version_major": 2,
       "version_minor": 0
      },
      "text/plain": [
       "  0%|          | 0/23 [00:00<?, ?it/s]"
      ]
     },
     "metadata": {},
     "output_type": "display_data"
    },
    {
     "data": {
      "application/vnd.jupyter.widget-view+json": {
       "model_id": "c95f3c3b4f2148d788f5ed40a94ddd10",
       "version_major": 2,
       "version_minor": 0
      },
      "text/plain": [
       "  0%|          | 0/18 [00:00<?, ?it/s]"
      ]
     },
     "metadata": {},
     "output_type": "display_data"
    },
    {
     "data": {
      "application/vnd.jupyter.widget-view+json": {
       "model_id": "8aec4c2d2caf43f99fdb6b8a3b347ef7",
       "version_major": 2,
       "version_minor": 0
      },
      "text/plain": [
       "  0%|          | 0/13 [00:00<?, ?it/s]"
      ]
     },
     "metadata": {},
     "output_type": "display_data"
    },
    {
     "data": {
      "application/vnd.jupyter.widget-view+json": {
       "model_id": "85f1e2e3e59f40e9a3c5a36ac7011d14",
       "version_major": 2,
       "version_minor": 0
      },
      "text/plain": [
       "  0%|          | 0/10 [00:00<?, ?it/s]"
      ]
     },
     "metadata": {},
     "output_type": "display_data"
    },
    {
     "data": {
      "application/vnd.jupyter.widget-view+json": {
       "model_id": "c536f78a2a14453198744c0a9dc219c4",
       "version_major": 2,
       "version_minor": 0
      },
      "text/plain": [
       "  0%|          | 0/10 [00:00<?, ?it/s]"
      ]
     },
     "metadata": {},
     "output_type": "display_data"
    },
    {
     "data": {
      "application/vnd.jupyter.widget-view+json": {
       "model_id": "624d98aca5634912b6076e99f6a8e210",
       "version_major": 2,
       "version_minor": 0
      },
      "text/plain": [
       "  0%|          | 0/18 [00:00<?, ?it/s]"
      ]
     },
     "metadata": {},
     "output_type": "display_data"
    },
    {
     "data": {
      "application/vnd.jupyter.widget-view+json": {
       "model_id": "5dc633f0c31946a1a38426c1a009f2d0",
       "version_major": 2,
       "version_minor": 0
      },
      "text/plain": [
       "  0%|          | 0/16 [00:00<?, ?it/s]"
      ]
     },
     "metadata": {},
     "output_type": "display_data"
    },
    {
     "data": {
      "application/vnd.jupyter.widget-view+json": {
       "model_id": "deb96d77a1b642d2854c327a545d980b",
       "version_major": 2,
       "version_minor": 0
      },
      "text/plain": [
       "  0%|          | 0/14 [00:00<?, ?it/s]"
      ]
     },
     "metadata": {},
     "output_type": "display_data"
    },
    {
     "data": {
      "application/vnd.jupyter.widget-view+json": {
       "model_id": "8047a05ea4a04a97be0a28f9769b884d",
       "version_major": 2,
       "version_minor": 0
      },
      "text/plain": [
       "  0%|          | 0/11 [00:00<?, ?it/s]"
      ]
     },
     "metadata": {},
     "output_type": "display_data"
    },
    {
     "name": "stdout",
     "output_type": "stream",
     "text": [
      "Synapsse Results:\n",
      "Total Number of Synapses = 2717\n",
      "n_valid_syn_ids_presyn = 54\n",
      "n_errored_syn_ids_presyn = 29\n",
      "n_valid_syn_ids_postsyn = 2631\n",
      "n_errored_syn_ids_postsyn = 3\n",
      "Synapsse Results:\n",
      "Total Number of Synapses = 2717\n",
      "n_valid_syn_ids_presyn = 54\n",
      "n_errored_syn_ids_presyn = 29\n",
      "n_valid_syn_ids_postsyn = 2631\n",
      "n_errored_syn_ids_postsyn = 3\n"
     ]
    },
    {
     "data": {
      "application/vnd.jupyter.widget-view+json": {
       "model_id": "85d57c008f8246bc91792ca16b88c0fc",
       "version_major": 2,
       "version_minor": 0
      },
      "text/plain": [
       "  0%|          | 0/16 [00:00<?, ?it/s]"
      ]
     },
     "metadata": {},
     "output_type": "display_data"
    },
    {
     "data": {
      "application/vnd.jupyter.widget-view+json": {
       "model_id": "062ddf2338d24299a839f0e1ffa81bc9",
       "version_major": 2,
       "version_minor": 0
      },
      "text/plain": [
       "  0%|          | 0/3 [00:00<?, ?it/s]"
      ]
     },
     "metadata": {},
     "output_type": "display_data"
    },
    {
     "name": "stdout",
     "output_type": "stream",
     "text": [
      "Synapsse Results:\n",
      "Total Number of Synapses = 2717\n",
      "n_valid_syn_ids_presyn = 54\n",
      "n_errored_syn_ids_presyn = 29\n",
      "n_valid_syn_ids_postsyn = 2631\n",
      "n_errored_syn_ids_postsyn = 3\n",
      "Synapsse Results:\n",
      "Total Number of Synapses = 2717\n",
      "n_valid_syn_ids_presyn = 54\n",
      "n_errored_syn_ids_presyn = 29\n",
      "n_valid_syn_ids_postsyn = 2631\n",
      "n_errored_syn_ids_postsyn = 3\n"
     ]
    },
    {
     "data": {
      "application/vnd.jupyter.widget-view+json": {
       "model_id": "ead6daf4264d4a248fcc457b80f76683",
       "version_major": 2,
       "version_minor": 0
      },
      "text/plain": [
       "  0%|          | 0/16 [00:00<?, ?it/s]"
      ]
     },
     "metadata": {},
     "output_type": "display_data"
    },
    {
     "data": {
      "application/vnd.jupyter.widget-view+json": {
       "model_id": "49dd09e9a9dd48fe80465e5892c0c6e7",
       "version_major": 2,
       "version_minor": 0
      },
      "text/plain": [
       "  0%|          | 0/3 [00:00<?, ?it/s]"
      ]
     },
     "metadata": {},
     "output_type": "display_data"
    },
    {
     "name": "stdout",
     "output_type": "stream",
     "text": [
      "\n",
      "\n",
      "len(branch_attr_keys) = 19\n",
      "Saving Neuorn in suppress_output mode...please wait\n",
      "Saved File at location: /mnt/dj-stor01/platinum/minnie65/02/decomposition/864691135382947307_0_25_full_axon\n",
      "Save time = 145.38898515701294\n",
      "\n",
      "\n",
      " ***------ Total time for 864691135382947307 = 499.0248456001282 ------ ***\n",
      "Populate Done\n",
      "Total time for AutoProofreadValidationBorder populate = 9575.440881490707\n"
     ]
    }
   ],
   "source": [
    "\n",
    "import time\n",
    "pru = reload(pru)\n",
    "nru = reload(nru)\n",
    "import neuron_searching as ns\n",
    "ns = reload(ns)\n",
    "clu = reload(clu)\n",
    "du = reload(du)\n",
    "import random\n",
    "\n",
    "start_time = time.time()\n",
    "if not test_mode:\n",
    "    time.sleep(random.randint(0, 800))\n",
    "print('Populate Started')\n",
    "if not test_mode:\n",
    "    AutoProofreadValidationBorder.populate(reserve_jobs=True, suppress_errors=True, order=\"random\")\n",
    "else:\n",
    "    AutoProofreadValidationBorder.populate(reserve_jobs=True, suppress_errors=True, order=\"random\")\n",
    "print('Populate Done')\n",
    "\n",
    "print(f\"Total time for AutoProofreadValidationBorder populate = {time.time() - start_time}\")\n"
   ]
  },
  {
   "cell_type": "code",
   "execution_count": null,
   "metadata": {},
   "outputs": [],
   "source": []
  }
 ],
 "metadata": {
  "kernelspec": {
   "display_name": "Python 3",
   "language": "python",
   "name": "python3"
  },
  "language_info": {
   "codemirror_mode": {
    "name": "ipython",
    "version": 3
   },
   "file_extension": ".py",
   "mimetype": "text/x-python",
   "name": "python",
   "nbconvert_exporter": "python",
   "pygments_lexer": "ipython3",
   "version": "3.6.9"
  }
 },
 "nbformat": 4,
 "nbformat_minor": 4
}
