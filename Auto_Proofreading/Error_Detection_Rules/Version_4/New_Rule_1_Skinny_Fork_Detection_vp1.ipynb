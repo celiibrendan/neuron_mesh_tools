{
 "cells": [
  {
   "cell_type": "code",
   "execution_count": 1,
   "metadata": {},
   "outputs": [
    {
     "data": {
      "text/plain": [
       "'\\nPurpose: To be able and tell when theh branching activity\\ndoes not have a large angle between the sides and they run alongside each other\\n\\n- this will be ignored for the very thick apical\\n\\n'"
      ]
     },
     "execution_count": 1,
     "metadata": {},
     "output_type": "execute_result"
    }
   ],
   "source": [
    "\"\"\"\n",
    "Purpose: To be able and tell when theh branching activity\n",
    "does not have a large angle between the sides and they run alongside each other\n",
    "\n",
    "- this will be ignored for the very thick apical\n",
    "\n",
    "\"\"\""
   ]
  },
  {
   "cell_type": "code",
   "execution_count": 2,
   "metadata": {},
   "outputs": [],
   "source": [
    "%load_ext autoreload\n",
    "%autoreload 2"
   ]
  },
  {
   "cell_type": "code",
   "execution_count": 3,
   "metadata": {},
   "outputs": [
    {
     "name": "stderr",
     "output_type": "stream",
     "text": [
      "INFO - 2021-04-20 21:41:00,638 - settings - Setting database.host to at-database.ad.bcm.edu\n",
      "INFO - 2021-04-20 21:41:00,644 - settings - Setting database.user to celiib\n",
      "INFO - 2021-04-20 21:41:00,645 - settings - Setting database.password to newceliipass\n",
      "INFO - 2021-04-20 21:41:00,653 - settings - Setting stores to {'minnie65': {'protocol': 'file', 'location': '/mnt/dj-stor01/platinum/minnie65', 'stage': '/mnt/dj-stor01/platinum/minnie65'}, 'meshes': {'protocol': 'file', 'location': '/mnt/dj-stor01/platinum/minnie65/02/meshes', 'stage': '/mnt/dj-stor01/platinum/minnie65/02/meshes'}, 'decimated_meshes': {'protocol': 'file', 'location': '/mnt/dj-stor01/platinum/minnie65/02/decimated_meshes', 'stage': '/mnt/dj-stor01/platinum/minnie65/02/decimated_meshes'}, 'skeletons': {'protocol': 'file', 'location': '/mnt/dj-stor01/platinum/minnie65/02/skeletons'}}\n",
      "INFO - 2021-04-20 21:41:00,658 - settings - Setting enable_python_native_blobs to True\n",
      "INFO - 2021-04-20 21:41:00,670 - connection - Connected celiib@at-database.ad.bcm.edu:3306\n"
     ]
    },
    {
     "name": "stdout",
     "output_type": "stream",
     "text": [
      "Connecting celiib@at-database.ad.bcm.edu:3306\n"
     ]
    },
    {
     "name": "stderr",
     "output_type": "stream",
     "text": [
      "INFO - 2021-04-20 21:41:01,197 - settings - Setting enable_python_native_blobs to True\n",
      "INFO - 2021-04-20 21:41:01,203 - settings - Setting database.host to at-database.ad.bcm.edu\n",
      "INFO - 2021-04-20 21:41:01,204 - settings - Setting database.user to celiib\n",
      "INFO - 2021-04-20 21:41:01,206 - settings - Setting database.password to newceliipass\n",
      "INFO - 2021-04-20 21:41:01,206 - settings - Setting database.host to at-database.ad.bcm.edu\n",
      "INFO - 2021-04-20 21:41:01,211 - settings - Setting database.user to celiib\n",
      "INFO - 2021-04-20 21:41:01,215 - settings - Setting database.password to newceliipass\n",
      "INFO - 2021-04-20 21:41:01,220 - settings - Setting enable_python_native_blobs to True\n",
      "INFO - 2021-04-20 21:41:01,888 - settings - Setting enable_python_native_blobs to True\n"
     ]
    }
   ],
   "source": [
    "import numpy as np\n",
    "import datajoint as dj\n",
    "import trimesh\n",
    "from tqdm.notebook import tqdm\n",
    "from pathlib import Path\n",
    "\n",
    "from os import sys\n",
    "sys.path.append(\"/meshAfterParty/\")\n",
    "sys.path.append(\"/meshAfterParty/meshAfterParty\")\n",
    "\n",
    "import datajoint_utils as du\n",
    "from importlib import reload"
   ]
  },
  {
   "cell_type": "code",
   "execution_count": 5,
   "metadata": {},
   "outputs": [
    {
     "name": "stderr",
     "output_type": "stream",
     "text": [
      "INFO - 2021-04-20 21:41:15,408 - settings - Setting database.host to at-database.ad.bcm.edu\n",
      "INFO - 2021-04-20 21:41:15,415 - settings - Setting database.user to celiib\n",
      "INFO - 2021-04-20 21:41:15,417 - settings - Setting database.password to newceliipass\n",
      "INFO - 2021-04-20 21:41:15,428 - settings - Setting enable_python_native_blobs to True\n",
      "INFO - 2021-04-20 21:41:16,392 - settings - Setting enable_python_native_blobs to True\n"
     ]
    }
   ],
   "source": [
    "#configuring will include the adapters\n",
    "minnie,schema = du.configure_minnie_vm()"
   ]
  },
  {
   "cell_type": "code",
   "execution_count": 6,
   "metadata": {},
   "outputs": [],
   "source": [
    "import validation_utils as vu\n",
    "import neuron_visualizations as nviz\n",
    "import neuron_utils as nru"
   ]
  },
  {
   "cell_type": "markdown",
   "metadata": {},
   "source": [
    "# Downloading the neuron"
   ]
  },
  {
   "cell_type": "code",
   "execution_count": 403,
   "metadata": {},
   "outputs": [
    {
     "data": {
      "text/plain": [
       "864691135724333739"
      ]
     },
     "execution_count": 403,
     "metadata": {},
     "output_type": "execute_result"
    }
   ],
   "source": [
    "vu.old_to_new_segment_id(segment_id = 864691135564655959)"
   ]
  },
  {
   "cell_type": "code",
   "execution_count": 433,
   "metadata": {},
   "outputs": [
    {
     "data": {
      "text/html": [
       "\n",
       "        \n",
       "        <style type=\"text/css\">\n",
       "            .Relation{\n",
       "                border-collapse:collapse;\n",
       "            }\n",
       "            .Relation th{\n",
       "                background: #A0A0A0; color: #ffffff; padding:4px; border:#f0e0e0 1px solid;\n",
       "                font-weight: normal; font-family: monospace; font-size: 100%;\n",
       "            }\n",
       "            .Relation td{\n",
       "                padding:4px; border:#f0e0e0 1px solid; font-size:100%;\n",
       "            }\n",
       "            .Relation tr:nth-child(odd){\n",
       "                background: #ffffff;\n",
       "            }\n",
       "            .Relation tr:nth-child(even){\n",
       "                background: #f3f1ff;\n",
       "            }\n",
       "            /* Tooltip container */\n",
       "            .djtooltip {\n",
       "            }\n",
       "            /* Tooltip text */\n",
       "            .djtooltip .djtooltiptext {\n",
       "                visibility: hidden;\n",
       "                width: 120px;\n",
       "                background-color: black;\n",
       "                color: #fff;\n",
       "                text-align: center;\n",
       "                padding: 5px 0;\n",
       "                border-radius: 6px;\n",
       "                /* Position the tooltip text - see examples below! */\n",
       "                position: absolute;\n",
       "                z-index: 1;\n",
       "            }\n",
       "            #primary {\n",
       "                font-weight: bold;\n",
       "                color: black;\n",
       "            }\n",
       "\n",
       "            #nonprimary {\n",
       "                font-weight: normal;\n",
       "                color: white;\n",
       "            }\n",
       "\n",
       "            /* Show the tooltip text when you mouse over the tooltip container */\n",
       "            .djtooltip:hover .djtooltiptext {\n",
       "                visibility: visible;\n",
       "            }\n",
       "        </style>\n",
       "        \n",
       "        <b></b>\n",
       "            <div style=\"max-height:1000px;max-width:1500px;overflow:auto;\">\n",
       "            <table border=\"1\" class=\"Relation\">\n",
       "                <thead> <tr style=\"text-align: right;\"> <th> <div class=\"djtooltip\">\n",
       "                                <p id=\"primary\">segment_id</p>\n",
       "                                <span class=\"djtooltiptext\">segment id unique within each Segmentation</span>\n",
       "                            </div></th><th><div class=\"djtooltip\">\n",
       "                                <p id=\"primary\">decimation_version</p>\n",
       "                                <span class=\"djtooltiptext\"></span>\n",
       "                            </div></th><th><div class=\"djtooltip\">\n",
       "                                <p id=\"primary\">decimation_ratio</p>\n",
       "                                <span class=\"djtooltiptext\">ratio of remaining mesh vertices/faces (which ones depends on what metric the decimation technique uses)</span>\n",
       "                            </div></th><th><div class=\"djtooltip\">\n",
       "                                <p id=\"primary\">ver</p>\n",
       "                                <span class=\"djtooltiptext\">the version number of the materializaiton</span>\n",
       "                            </div></th><th><div class=\"djtooltip\">\n",
       "                                <p id=\"primary\">process_version</p>\n",
       "                                <span class=\"djtooltiptext\">the version of the preprocessing pipeline run</span>\n",
       "                            </div></th><th><div class=\"djtooltip\">\n",
       "                                <p id=\"primary\">index</p>\n",
       "                                <span class=\"djtooltiptext\">the index of the neuron object that resulted from that mesh (indexed starting at 0)</span>\n",
       "                            </div></th><th><div class=\"djtooltip\">\n",
       "                                <p id=\"nonprimary\">multiplicity</p>\n",
       "                                <span class=\"djtooltiptext\">the number of somas found for this base segment</span>\n",
       "                            </div></th><th><div class=\"djtooltip\">\n",
       "                                <p id=\"nonprimary\">decomposition</p>\n",
       "                                <span class=\"djtooltiptext\"></span>\n",
       "                            </div></th><th><div class=\"djtooltip\">\n",
       "                                <p id=\"nonprimary\">n_vertices</p>\n",
       "                                <span class=\"djtooltiptext\">number of vertices</span>\n",
       "                            </div></th><th><div class=\"djtooltip\">\n",
       "                                <p id=\"nonprimary\">n_faces</p>\n",
       "                                <span class=\"djtooltiptext\">number of faces</span>\n",
       "                            </div></th><th><div class=\"djtooltip\">\n",
       "                                <p id=\"nonprimary\">n_not_processed_soma_containing_meshes</p>\n",
       "                                <span class=\"djtooltiptext\">the number of meshes with somas that were not processed</span>\n",
       "                            </div></th><th><div class=\"djtooltip\">\n",
       "                                <p id=\"nonprimary\">n_error_limbs</p>\n",
       "                                <span class=\"djtooltiptext\">the number of limbs that are touching multiple somas or 1 soma in multiple places</span>\n",
       "                            </div></th><th><div class=\"djtooltip\">\n",
       "                                <p id=\"nonprimary\">n_same_soma_multi_touching_limbs</p>\n",
       "                                <span class=\"djtooltiptext\">number of limbs that touch the same soma multiple times</span>\n",
       "                            </div></th><th><div class=\"djtooltip\">\n",
       "                                <p id=\"nonprimary\">n_multi_soma_touching_limbs</p>\n",
       "                                <span class=\"djtooltiptext\">number of limbs that touch multiple somas</span>\n",
       "                            </div></th><th><div class=\"djtooltip\">\n",
       "                                <p id=\"nonprimary\">n_somas</p>\n",
       "                                <span class=\"djtooltiptext\">number of soma meshes detected</span>\n",
       "                            </div></th><th><div class=\"djtooltip\">\n",
       "                                <p id=\"nonprimary\">n_limbs</p>\n",
       "                                <span class=\"djtooltiptext\"></span>\n",
       "                            </div></th><th><div class=\"djtooltip\">\n",
       "                                <p id=\"nonprimary\">n_branches</p>\n",
       "                                <span class=\"djtooltiptext\"></span>\n",
       "                            </div></th><th><div class=\"djtooltip\">\n",
       "                                <p id=\"nonprimary\">max_limb_n_branches</p>\n",
       "                                <span class=\"djtooltiptext\"></span>\n",
       "                            </div></th><th><div class=\"djtooltip\">\n",
       "                                <p id=\"nonprimary\">skeletal_length</p>\n",
       "                                <span class=\"djtooltiptext\"></span>\n",
       "                            </div></th><th><div class=\"djtooltip\">\n",
       "                                <p id=\"nonprimary\">max_limb_skeletal_length</p>\n",
       "                                <span class=\"djtooltiptext\"></span>\n",
       "                            </div></th><th><div class=\"djtooltip\">\n",
       "                                <p id=\"nonprimary\">median_branch_length</p>\n",
       "                                <span class=\"djtooltiptext\">gives information on average skeletal length to next branch point</span>\n",
       "                            </div></th><th><div class=\"djtooltip\">\n",
       "                                <p id=\"nonprimary\">width_median</p>\n",
       "                                <span class=\"djtooltiptext\">median width from mesh center without spines removed</span>\n",
       "                            </div></th><th><div class=\"djtooltip\">\n",
       "                                <p id=\"nonprimary\">width_no_spine_median</p>\n",
       "                                <span class=\"djtooltiptext\">median width from mesh center with spines removed</span>\n",
       "                            </div></th><th><div class=\"djtooltip\">\n",
       "                                <p id=\"nonprimary\">width_90_perc</p>\n",
       "                                <span class=\"djtooltiptext\">90th percentile for width without spines removed</span>\n",
       "                            </div></th><th><div class=\"djtooltip\">\n",
       "                                <p id=\"nonprimary\">width_no_spine_90_perc</p>\n",
       "                                <span class=\"djtooltiptext\">90th percentile for width with spines removed</span>\n",
       "                            </div></th><th><div class=\"djtooltip\">\n",
       "                                <p id=\"nonprimary\">n_spines</p>\n",
       "                                <span class=\"djtooltiptext\"></span>\n",
       "                            </div></th><th><div class=\"djtooltip\">\n",
       "                                <p id=\"nonprimary\">spine_density</p>\n",
       "                                <span class=\"djtooltiptext\">n_spines/ skeletal_length</span>\n",
       "                            </div></th><th><div class=\"djtooltip\">\n",
       "                                <p id=\"nonprimary\">spines_per_branch</p>\n",
       "                                <span class=\"djtooltiptext\"></span>\n",
       "                            </div></th><th><div class=\"djtooltip\">\n",
       "                                <p id=\"nonprimary\">skeletal_length_eligible</p>\n",
       "                                <span class=\"djtooltiptext\">the skeletal length for all branches searched for spines</span>\n",
       "                            </div></th><th><div class=\"djtooltip\">\n",
       "                                <p id=\"nonprimary\">n_spine_eligible_branches</p>\n",
       "                                <span class=\"djtooltiptext\">the number of branches that were checked for spines because passed width threshold</span>\n",
       "                            </div></th><th><div class=\"djtooltip\">\n",
       "                                <p id=\"nonprimary\">spine_density_eligible</p>\n",
       "                                <span class=\"djtooltiptext\">n_spines/skeletal_length_eligible</span>\n",
       "                            </div></th><th><div class=\"djtooltip\">\n",
       "                                <p id=\"nonprimary\">spines_per_branch_eligible</p>\n",
       "                                <span class=\"djtooltiptext\">n_spines/n_spine_eligible_branches</span>\n",
       "                            </div></th><th><div class=\"djtooltip\">\n",
       "                                <p id=\"nonprimary\">total_spine_volume</p>\n",
       "                                <span class=\"djtooltiptext\">the sum of all spine volume</span>\n",
       "                            </div></th><th><div class=\"djtooltip\">\n",
       "                                <p id=\"nonprimary\">spine_volume_median</p>\n",
       "                                <span class=\"djtooltiptext\">median of the spine volume for those spines with able to calculate volume</span>\n",
       "                            </div></th><th><div class=\"djtooltip\">\n",
       "                                <p id=\"nonprimary\">spine_volume_density</p>\n",
       "                                <span class=\"djtooltiptext\">total_spine_volume/skeletal_length</span>\n",
       "                            </div></th><th><div class=\"djtooltip\">\n",
       "                                <p id=\"nonprimary\">spine_volume_density_eligible</p>\n",
       "                                <span class=\"djtooltiptext\">total_spine_volume/skeletal_length_eligible</span>\n",
       "                            </div></th><th><div class=\"djtooltip\">\n",
       "                                <p id=\"nonprimary\">spine_volume_per_branch_eligible</p>\n",
       "                                <span class=\"djtooltiptext\">total_spine_volume/n_spine_eligible_branches</span>\n",
       "                            </div></th><th><div class=\"djtooltip\">\n",
       "                                <p id=\"nonprimary\">run_time</p>\n",
       "                                <span class=\"djtooltiptext\">the amount of time to run (seconds)</span>\n",
       "                            </div> </th> </tr> </thead>\n",
       "                <tbody> <tr> <td>864691136105498585</td>\n",
       "<td>0</td>\n",
       "<td>0.25</td>\n",
       "<td>30.00</td>\n",
       "<td>7</td>\n",
       "<td>0</td>\n",
       "<td>1</td>\n",
       "<td>=BLOB=</td>\n",
       "<td>332957</td>\n",
       "<td>689602</td>\n",
       "<td>0</td>\n",
       "<td>0</td>\n",
       "<td>0</td>\n",
       "<td>0</td>\n",
       "<td>1</td>\n",
       "<td>6</td>\n",
       "<td>62</td>\n",
       "<td>39</td>\n",
       "<td>4207536.831588222</td>\n",
       "<td>1856257.3544398847</td>\n",
       "<td>45864.626</td>\n",
       "<td>85.841</td>\n",
       "<td>85.841</td>\n",
       "<td>276.001</td>\n",
       "<td>272.655</td>\n",
       "<td>272</td>\n",
       "<td>6.464589874958456e-05</td>\n",
       "<td>4.387096774193548</td>\n",
       "<td>2604692.559</td>\n",
       "<td>22</td>\n",
       "<td>0.00010442691175208291</td>\n",
       "<td>12.364</td>\n",
       "<td>104312137661.36154</td>\n",
       "<td>119065350.43993981</td>\n",
       "<td>24791.734888268766</td>\n",
       "<td>40047.7735082137</td>\n",
       "<td>4741460802.789161</td>\n",
       "<td>3808.4313</td> </tr> </tbody>\n",
       "            </table>\n",
       "            \n",
       "            <p>Total: 1</p></div>\n",
       "            "
      ],
      "text/plain": [
       "*segment_id    *decimation_ve *decimation_ra *ver      *process_versi *index    multiplicity   decomposit n_vertices     n_faces     n_not_processe n_error_limbs  n_same_soma_mu n_multi_soma_t n_somas     n_limbs     n_branches     max_limb_n_bra skeletal_lengt max_limb_skele median_branch_ width_median   width_no_spine width_90_perc  width_no_spine n_spines     spine_density  spines_per_bra skeletal_lengt n_spine_eligib spine_density_ spines_per_bra total_spine_vo spine_volume_m spine_volume_d spine_volume_d spine_volume_p run_time     \n",
       "+------------+ +------------+ +------------+ +-------+ +------------+ +-------+ +------------+ +--------+ +------------+ +---------+ +------------+ +------------+ +------------+ +------------+ +---------+ +---------+ +------------+ +------------+ +------------+ +------------+ +------------+ +------------+ +------------+ +------------+ +------------+ +----------+ +------------+ +------------+ +------------+ +------------+ +------------+ +------------+ +------------+ +------------+ +------------+ +------------+ +------------+ +-----------+\n",
       "86469113610549 0              0.25           30.00     7              0         1              =BLOB=     332957         689602      0              0              0              0              1           6           62             39             4207536.831588 1856257.354439 45864.626      85.841         85.841         276.001        272.655        272          6.464589874958 4.387096774193 2604692.559    22             0.000104426911 12.364         104312137661.3 119065350.4399 24791.73488826 40047.77350821 4741460802.789 3808.4313    \n",
       " (Total: 1)"
      ]
     },
     "execution_count": 433,
     "metadata": {},
     "output_type": "execute_result"
    }
   ],
   "source": [
    "segment_id = 864691136105498585 # worked for this segment\n",
    "# segment_id = 864691135212632448 # dont think fork existed\n",
    "# segment_id = 864691135564655959\n",
    "minnie.Decomposition() & f\"segment_id = {segment_id}\""
   ]
  },
  {
   "cell_type": "code",
   "execution_count": 434,
   "metadata": {},
   "outputs": [
    {
     "name": "stdout",
     "output_type": "stream",
     "text": [
      "Decompressing Neuron in minimal output mode...please wait\n",
      "Pulled from Table Decomposition so setting split_index = 0\n",
      "Dont need spine recalculation\n",
      "Number of Neurons found = 1\n"
     ]
    }
   ],
   "source": [
    "neuron_objs,split_indexes = du.decomposition_with_spine_recalculation(segment_id=segment_id,)\n",
    "                                       #border_validation=False)"
   ]
  },
  {
   "cell_type": "code",
   "execution_count": 435,
   "metadata": {},
   "outputs": [],
   "source": [
    "neuron_obj = neuron_objs[0]"
   ]
  },
  {
   "cell_type": "code",
   "execution_count": 436,
   "metadata": {
    "scrolled": true
   },
   "outputs": [
    {
     "name": "stdout",
     "output_type": "stream",
     "text": [
      "endnodes_to_test = [1935]\n",
      "Skeleton paths distances = [24973.03453593]\n",
      "Filtered indexes = [0]\n",
      "len(filtered_skeletons) = 1\n",
      "sk_angles = [122.1524023]\n",
      "base_final_widths = [108.41989201 108.41989201 108.41989201]\n",
      "overall_ais_width = 108.41989200898661\n",
      "ais_width = 108.41989200898661\n",
      "endnodes_to_test = []\n",
      "endnodes_to_test = []\n",
      "endnodes_to_test = []\n",
      "endnodes_to_test = []\n",
      "endnodes_to_test = []\n",
      "Starting axon branch was not the limb starting node so generating border vertices and computing upstream branch\n",
      "upstream_node_to_axon_starting_branch = 8\n"
     ]
    },
    {
     "name": "stderr",
     "output_type": "stream",
     "text": [
      "\r",
      "  0%|          | 0/1 [00:00<?, ?it/s]"
     ]
    },
    {
     "name": "stdout",
     "output_type": "stream",
     "text": [
      "More than 1 seperated mesh (taking the top one): [<trimesh.Trimesh(vertices.shape=(52108, 3), faces.shape=(104012, 3))>\n",
      " <trimesh.Trimesh(vertices.shape=(13721, 3), faces.shape=(27348, 3))>\n",
      " <trimesh.Trimesh(vertices.shape=(1756, 3), faces.shape=(3507, 3))>\n",
      " <trimesh.Trimesh(vertices.shape=(126, 3), faces.shape=(252, 3))>]\n",
      "root_curr = [712095.9 863814.4 798222.4]\n",
      "Time for preparing soma vertices and root: 0.00024437904357910156\n",
      "invalidation_d = 1500\n",
      "smooth_neighborhood = 0\n",
      "smooth_neighborhood = 0\n",
      "soma_pt = [712095.9 863814.4 798222.4]\n",
      "invalidation_d = 1500\n",
      "cc_vertex_thresh = 25\n",
      "cc_vertex_thresh = 10\n"
     ]
    },
    {
     "name": "stderr",
     "output_type": "stream",
     "text": [
      "100%|██████████| 1/1 [00:00<00:00,  1.04it/s]\n"
     ]
    },
    {
     "name": "stdout",
     "output_type": "stream",
     "text": [
      "all_paths = [[[3533, 48020, 42965, 46637, 47045, 36811, 33567, 50087, 43494, 21415, 3850, 50251, 27014, 9249, 17341, 25920, 34024, 34025, 20388, 20389, 20386, 48811, 24519, 2771, 45274, 47102, 44605, 23208, 27202, 20461, 13684, 39384, 17513, 50267, 51419, 8286, 11239, 28808, 50948, 6914, 48083, 18990, 49250, 23404, 1889, 5626, 31623, 5624, 50702, 46894, 13842, 30007, 26294, 624, 622, 26302, 4283, 12986, 50902, 49767, 32328, 48132, 30768, 34355, 34629, 8494, 48916, 18000, 18001, 13997, 18004, 23493, 1736, 33908, 49863, 49191, 27305, 46541, 48745, 29361, 7513, 37648, 32211, 28144, 51389, 28140, 51022, 25642, 11649, 51486, 26958, 39140, 3819, 21863, 14666, 10682, 1595, 31339, 31341, 48182, 2742, 197, 24894, 41275, 27069, 23117, 5191, 24608, 47428, 36743, 15920, 14822, 49470, 22848, 24453, 45652, 2869, 5983, 51559, 6808, 28581, 44531, 51221, 4835, 51546, 34172, 50309, 51208, 20501, 26718, 23307, 27491, 31700, 39637, 13767, 17904, 43615, 561, 26200, 26205, 564, 33574, 46619, 51098, 3359, 33411, 23312, 27495, 31703, 31698, 13764, 22007, 4388, 8405, 38458, 50128, 46047, 3222, 30170, 21878, 38590, 50771, 758, 51399, 47632, 5693, 47291, 2160, 27684, 32081, 9950, 14086, 47623, 50693, 20814, 42815, 30370, 6356, 49843, 47262, 38822, 42992, 25559, 261, 48718, 33629, 51987, 15125, 24159, 51592, 34599, 51213, 30830, 11002, 9279, 48104, 43130, 18586, 24634, 21834, 26149, 26150, 12309, 50114, 38237, 38234, 38235, 14656, 28841, 11542, 40716, 50391, 38389, 24914, 7142, 37271, 10996, 39002, 43513, 41658, 11290, 48282, 15305, 15306, 19657, 19653, 44969, 19656, 19652, 27930, 6030, 31983, 46936, 40721, 17373, 39938, 39936, 43915, 22370, 22368, 26630, 8740, 30697, 50680, 48136, 11482, 28885, 48074, 47151, 18596, 49865, 40125, 26801, 33960, 13040, 25657, 37882, 44695, 35458, 48218, 44365, 51944, 48454, 18105, 43039, 16622, 46133, 29064, 11038, 50913, 13944, 41880, 11188, 47939, 51743, 8369, 7265, 47221, 47979, 6117, 46918, 29008, 48799, 18215, 40470, 12189, 44645, 1952, 35539, 22186, 34481, 9162, 47787, 47568, 45008, 6061, 43937, 51222, 37629, 5253, 51497, 22810, 50383, 49611, 8394, 51464, 11108, 50755, 24228, 50218, 43823, 22281, 49692, 38495, 9979, 51112, 22769, 45801, 223, 19590, 49276, 49090, 32460, 43301, 43042, 46216, 24356, 6568, 11074, 10578, 43070, 49328, 6764, 32547, 36897, 13366, 2444, 39589, 676, 51732, 51686, 35946, 12712, 46234, 37531, 52031, 950, 34720, 21030, 46038, 51784, 48653, 47023, 49621, 18575, 26708, 43755, 15909, 49488, 50083, 16266, 28139, 36431, 44214, 47915, 50880, 49468, 49183, 32143, 32146, 36101, 18159, 1030, 23728, 51288, 7036, 4956, 8976, 17024, 51427, 22936, 50379, 42326, 28074, 47434, 43432, 30171, 34147, 20481, 28882, 37145, 51205, 34352, 5507, 41352, 17601, 19425, 27651, 5869, 9707, 35861, 31598, 707, 4571, 30530, 49740, 16758, 42551, 48859, 11137, 19711, 32042, 22433, 7420, 38771, 46445, 51794, 48823, 51558, 25889, 50331, 35424, 20224, 51723, 8013, 50721, 12256, 2909, 14907, 47454, 23382, 21561, 24883, 49075, 23124, 34498, 22526, 24060, 12677, 37636, 25430, 48695, 46721, 46723, 46725, 11437, 48658, 24667, 47022, 48506, 49255, 49206, 48055, 47361, 35608, 26307, 8997, 39096, 21297, 25794, 29793, 51555, 10421, 47083, 50289, 20330, 49130, 19291, 48238, 47628, 31865, 18660, 28542, 49834, 4326, 47197, 39612, 50178, 45566, 32494, 51150, 31043, 37828, 39091, 44686, 35792, 9578, 1620, 12445, 46182, 15119, 48814, 92, 50675, 51502, 24068, 6204, 18382, 26383, 42939, 34110, 51575, 50448, 44139, 9241, 49018, 51408, 9060, 44846, 31874, 38579, 27564, 18325, 34527, 42583, 1241, 26533, 24574, 16399, 48483, 45407, 51748, 18610, 26880, 40413, 51326, 34383, 51382, 26532, 35352, 22698, 34020, 38298, 49645, 3664, 48531, 29630, 33465, 15670, 24237, 2539, 6440, 49913, 36492, 18704, 31345, 43306, 4049, 12019, 20335, 32597, 49806, 35660, 46752, 29745, 47998, 51050, 34918, 33844, 27129, 49916, 46664, 25573, 33642, 48891, 17431, 49334, 49862, 43223, 34092, 40931, 2804, 10747, 40557, 23256, 5467, 39421, 4172, 49156, 16388, 45965, 38576, 48961, 47698, 15336, 45000, 6056, 14205, 43928, 1112, 4846, 34694, 12866, 48109, 22616, 41994, 43754, 44238, 1283, 5203, 35100, 43148, 25870, 33771, 45542, 27848, 41078, 41950, 25918, 36771, 23151, 51275, 42257, 7082, 10844, 46597, 19331, 3115, 46144, 7240, 11726, 2766, 41161, 34776, 21090, 29313, 33408, 21683, 5091, 30663, 3683, 13541, 45443, 2477, 50625, 50993, 25747, 49661, 49395, 7981, 39451, 31169, 2608, 45594, 20113, 15786, 37898, 26890, 43675, 3343, 48174, 21446, 17190, 9107, 31078, 48439, 49700, 40237, 36394, 10353, 31794, 49789, 31087, 9100, 39053, 10821, 7810, 22748, 47168, 47842, 47353, 50321, 13692, 51963, 13441, 35496, 13413, 35478, 9319, 9313, 51783, 13460, 13467, 13393, 4569, 43240, 21645, 43249, 50696, 49047, 13457, 13504, 13492, 13434, 21813, 13471, 13400, 13389, 13447, 13977, 52080, 13402, 9295, 5314, 10502, 44467, 18646, 49791, 9051, 2618, 4692, 47459, 47667, 23858, 29322, 51970, 97, 25751, 9348, 4828, 42471, 96, 13095, 25753, 109, 45659, 49418, 39041, 51230, 48066, 42357, 32395, 48220, 47853, 31083, 9099, 35274, 31085, 26916, 3746, 41032, 42204, 17092, 6263, 50201, 3009, 18346, 16260, 22702, 10135, 35456, 14769, 46635, 51731, 8932, 50445, 50613, 47244, 5234, 44566, 6851, 8212, 29522, 90, 52072, 47035, 7982, 47499, 49064, 49482, 35282, 51010, 51300, 50499, 39420, 31458, 27240, 1881, 36872, 32644, 31778, 45958, 47473, 49446, 8188, 16753, 4882, 19722, 33096, 18097, 35900, 9741, 44870, 15076, 51287, 47316, 48394, 48520, 16263, 33958, 33959, 30046, 21539, 13593, 13594, 5380, 5370, 2620, 48071, 51719, 22940, 37144, 1089, 36145, 6011, 37471, 29153, 1577, 27604, 49361, 48387, 5652, 23437, 48555, 44722, 9544, 8311, 24122, 24541, 47625, 6706, 24322, 20248, 11780, 29737, 39023, 5069, 44280, 14428, 10325, 28246, 45404, 15550, 48988, 8114, 51278, 49166, 30796, 26538, 18296, 51137, 48448, 39586, 11008, 7197, 16582, 34370, 17899, 31696, 44688, 18956, 48934, 2903, 50028, 50824, 50942, 48202, 24839, 40108, 36289, 28133, 45306, 41371, 50919, 46803, 49207, 12814, 44878, 51835, 11068, 51450, 14915, 5196, 48306, 21558, 21584, 35420, 44429, 14584, 28430, 41811, 10708, 36674, 6507, 48169, 50116, 23988, 47985, 41452, 49138, 15365, 46989, 12714, 27689, 51346, 49563, 49793, 17616, 13749, 19618, 49142, 49917, 40441, 45485, 48549, 3785, 21296, 13200, 25579, 47661, 21126, 38868, 19484, 452, 25406, 51940, 7188, 35814, 50068, 5337, 27128, 20459, 34242, 48058, 48717, 43356, 19528, 32934, 51749, 44114, 14248, 28214, 45219, 47972, 46443, 18330, 8236, 48790, 51035, 44344, 42846, 48511, 12809, 19259, 39698, 48358, 32160, 49067, 45477, 38660, 37250, 27077, 36711, 20490, 51317, 14019, 5657, 51552, 52077, 12994, 8969, 1932, 23187, 48798, 51770, 9775, 27561, 19593, 11052, 20931, 5269, 3102, 13657, 31583, 1666, 44584, 40771, 20709, 43421, 49076, 31522, 33136, 41405, 41972, 10246, 10244, 28395, 22954, 38949, 30933, 5019, 50544, 47576, 25452, 47137, 17597, 51679, 44593, 32329, 16081, 34127, 333, 31282, 18264, 6350, 47387, 4363, 29004, 6648, 46985, 2512, 48746, 42748, 47980, 48834, 49116, 24649, 42265, 45573, 17323, 3169, 51998, 40521, 29889, 8853, 12192, 41490, 51792, 41232, 51480, 47925, 20265, 32394, 23460, 11255, 32733, 6762, 35797, 11035, 43227, 33568, 30676, 39731, 47226, 11268, 49571, 49607, 42806, 46136, 20670, 12401, 49583, 46029, 22049, 22050, 39659, 31719, 18590, 48930, 26061, 43461, 35547, 12210, 40717, 36764, 32606, 2878, 50598, 13619, 43853, 40317, 48271, 36305, 32755, 47798, 43968, 30217, 51495, 22079, 47443, 40867, 47020, 2974, 20582, 497, 609, 5463, 12209, 48544, 47222, 38596, 26881, 40218, 47380, 24162, 15573, 33620, 3554, 43872, 7627, 26552, 52010, 49410, 18083, 18086, 47922, 5893, 50908, 41091, 7211, 3220, 48871, 31927, 52030, 50179, 24458, 41926, 30037, 48481, 51606, 51175, 24513, 6222, 19821, 33254, 29392, 3436, 3437, 42693, 16867, 38700, 4717, 49004, 47342, 20733, 27688, 35603, 45547, 48249, 47088, 7035, 37649, 49216, 30441, 50577, 2817, 6739, 20708, 3541, 9481, 49703, 52063, 51459, 20639, 16577, 26775, 547, 21991, 17890, 39618, 49336, 9541, 651, 23300, 15032, 43668, 47233, 48034, 51385, 24702, 8823, 40277, 6419, 24211, 35431, 23945, 15432, 47097, 1048, 18166, 9361, 45136, 49226, 32561, 44407, 8669, 4502, 4508, 43775, 38357, 30273, 26278, 39528, 27389, 37026, 10979, 21792, 39375, 47833, 49608, 18747, 36603, 51500, 7953, 25710, 43181, 1310, 1444, 8919, 5034, 36208, 23975, 41432, 41433, 11372, 51075, 30948, 33002, 37630, 50941, 42989, 29029, 46032, 38436, 48492, 31683, 44674, 15018, 22858, 50761, 50852, 50035, 12907, 6413, 45472, 46966, 38864, 30846, 51160, 47069, 48944, 49133, 25291, 46755, 40996, 40997, 808, 18624, 18843, 43496, 46897, 44592, 36795, 32643, 45703, 16303, 8077, 30079, 43347, 35403, 50149, 43365, 6533, 1579, 2413, 47863, 39302, 49971, 20586, 10201, 49273, 29743, 39206, 21672, 13737, 23281, 14771, 23616, 34471, 3748, 10565, 19543, 2011, 45308, 5402, 48161, 49749, 15093, 3094, 42345, 47630, 43472, 17675, 48003, 12057, 31391, 3866, 43162, 4244, 20030, 52000, 29665, 46602, 17096, 34125, 7546, 21015, 4869, 43938, 14218, 1809, 48880, 30512, 937, 39764, 9683, 23655, 19509, 11112, 41657, 40889, 24778, 51196, 25641, 36880, 40316, 16069, 34109, 29965, 21639, 13379, 35472, 44285, 47341, 47620, 25628, 22886, 50240, 1639, 22642, 18473, 14287, 28088, 45262, 33396, 47627, 46480, 38649, 8825, 1001, 50027, 48089, 2602, 29066, 24856, 16624, 8435, 22063, 9582, 5739, 48330, 48604, 14703, 27130, 50441, 17287, 35049, 22791, 40325, 6455, 41884, 13045, 26803, 22608, 46204, 29435, 50195, 37156, 9869, 6035, 37479, 52003, 18347, 48697, 8342, 26321, 22172, 50690, 47278, 21839, 9480, 25793, 37217, 4275, 5075, 599, 51515, 46944, 51860, 34814, 34540, 767, 22252, 45244, 46056, 38307, 22015, 12808, 49010, 45841, 47817, 1606, 18887, 36755, 2873, 20332, 51266, 4044, 48213, 48952, 25478, 49739, 1044, 10039, 1169, 37081, 20735, 51115, 16512, 30292, 43535, 39539, 9645, 50138, 26268, 254, 1404, 5264, 36655, 28440, 24312, 49091, 11774, 21418, 46320, 9751, 30532, 20052, 16761, 20614, 25007, 42573, 34522, 724, 28218, 49426, 28064, 32768, 24609, 42209, 16430, 30191, 46865, 11073, 47243, 49809, 24604, 29613, 10139, 38878, 44687, 18377, 40105, 51223, 6181, 28127, 19808, 44138, 39885, 5973, 45141, 7270, 27439, 12631, 4504, 862, 22319, 5801, 47796, 30276, 26283, 22115, 32021, 20216, 31287, 330, 21581, 51551, 15742, 11747, 33813, 61, 35143, 50834, 18592, 41146, 6501, 34343, 47417, 5074, 36185, 50236, 51312, 50938, 25902, 12487, 4200, 50344, 8904, 26008, 51655, 50607, 33489, 47185, 46921, 47534, 10191, 26808, 47093, 38026, 50515, 47552, 5441, 9626, 12780, 40004, 38015, 30080, 17489, 13274, 9231, 16848, 15910, 29873, 26006, 50717, 2421, 15735, 51570, 23629, 11353, 29489, 40159, 47948, 702, 11791, 51078, 30354, 682, 13892, 1975, 2476, 7008, 2312, 13738, 48769, 25996, 39259, 9138, 1556, 25502, 10583, 6573, 24359, 26437, 15799, 49119, 3750, 43045, 47781, 9117, 20002, 47196, 42840, 12987, 8965, 1207, 44157, 36258, 47828, 27396, 2185, 19776, 7454, 51083, 16651, 49796, 49310, 50759, 51405, 16472, 8454, 597, 39511, 19602, 5776, 19428, 32846, 28942, 42268, 42270, 12232, 4088, 39322, 27158, 40753, 32627, 41964, 8067, 25892, 21559, 35396, 18888, 39244, 35902, 35132, 4272, 29666, 46778, 51403, 51746, 47530, 46988, 51600, 5030, 8101, 29009, 45996, 16543, 4327, 47280, 50042, 31068, 5515, 50345, 50365, 37116, 32413, 28546, 2359, 50377, 18106, 40918, 27721, 22065, 21624, 44712, 14857, 19761, 42383, 49069, 25960, 25860, 48075, 14550, 10216, 48753, 30899, 14356, 32180, 2392, 24085, 47140, 8451, 44978, 51670, 33098, 29173, 46371, 38567, 30499, 49354, 35977, 40166, 10563, 51721, 51888, 10481, 28392, 6546, 26707, 36385, 30522, 24796, 51809, 8986, 2356, 42323, 29088, 24840, 16596, 8412, 26212, 27438, 35707, 27501, 40944, 32794, 47358, 39471, 32904, 12014, 8043, 48082, 50988, 24247, 15866, 35772, 5174, 40302, 43008, 32292, 2533, 19988, 11650, 3632, 21152, 51138, 37651, 8389, 22552, 6001, 48624, 23862, 4160, 16698, 47724, 46885, 47086, 51978, 50108, 480, 47565, 31614, 44608, 32685, 45732, 12088, 25932, 31395, 33897, 33828, 17151, 31233, 1325, 18604, 36362, 6519, 20060, 15547, 33576, 29699, 38394, 50246, 8852, 9523, 49319, 32218, 47003, 48843, 47947, 15606, 42155, 9500, 19619, 25638, 42866, 13020, 1403, 51255, 50845, 36117, 27853, 48592, 49790, 13949, 4961, 9630, 27394, 48910, 12635, 10699, 7218, 49866, 48576, 25716, 31246, 48593, 2432, 40858, 31706, 29475, 28231, 50312, 5247, 4451, 48384, 35169, 35148, 11167, 9075, 7715, 50359, 19908, 32977, 48028, 49702, 34942, 46270, 34443, 49524, 50348, 50807, 32976, 7599, 33558, 22447, 36023, 9924, 50930, 19715, 15360, 15041, 11142, 37367, 24998, 46249, 24995, 42560, 20835, 4366, 16768, 16767, 16775, 5085, 12535, 16778, 48098, 46254, 24960, 24968, 24967, 24991, 29237, 7386, 33143, 11145, 37318, 15362, 43473, 23752, 23754, 38917, 50302, 48347, 43415, 39996, 16437, 50101, 21373, 50157, 16948, 13079, 46455, 46874, 51388, 2305, 19248, 14408, 50215, 23985, 45226, 23986, 11072, 2308, 50000, 32214, 40806, 45227, 52054, 41443, 19889, 2306], [38367, 12447, 21538, 12453, 2556, 42319, 46189, 3127, 42477, 26102, 18065, 39896, 22544, 8689, 34817, 16873, 25425, 29359, 29383, 29412, 33253, 37648], [36301, 44069, 1249, 8885, 4984, 38897, 46572, 7685, 37812, 41565, 45331, 32302, 14533, 18550, 44215, 44217, 50839, 33364, 20053, 35035, 31152, 1437, 46848, 33468, 264, 52095, 6233, 48665, 7525, 3447, 20978, 32148, 20972, 42713, 16896, 12837, 46785, 10423, 4738, 4777, 4776, 26624, 49658, 4372, 12651, 13138, 51696, 50436, 21876, 51262, 24750, 42051, 16373, 8309, 21824, 39402, 9463, 9469, 5461, 27226, 44621, 18793, 91, 36833, 10724, 14901, 50495, 41841, 38033, 38035, 621, 513, 49530, 19874, 28272, 48212, 80, 25728, 8063, 25730, 48420, 22864, 18616, 14427, 36367, 10299, 10322, 32357, 6527, 2453, 20072, 41638, 20067, 24154, 45413, 41634, 45410, 24151, 20075, 47537, 50608, 49722, 46820, 8937, 37220, 26719, 22676, 22678, 37587, 42940, 9085, 47682, 50421, 37641, 36035, 50339, 52035, 8804, 8797, 34744, 12751, 16967, 4017, 50969, 49306, 14426, 47289, 24026, 27023, 32398, 20986, 21613, 276, 17368, 21607, 49805, 25654, 859, 41836, 20426, 24533, 24543, 41313, 27224, 27235, 5455, 9464, 13707, 20300, 32566, 38214, 29833, 42109, 42091, 42039, 42102, 49134, 46802, 20572, 24721, 43495, 51601, 13855, 641, 4296, 48698, 50705, 47523, 9824, 49748, 34649, 38552, 16710, 26017, 2225, 2229, 2233, 44932, 44960, 23890, 23886, 44957, 44961, 41175, 20025, 45619, 15289, 26143, 46770, 34470, 28859, 48126, 3822, 48295, 6352, 46531, 8021, 33246, 3132, 48924, 51968, 50163, 33819, 13757, 13349, 13340, 31375, 21616, 3935, 33047, 8141, 34046, 34071, 38034, 41828, 41833, 20411, 20427, 41849, 45754, 18674, 19424, 48975, 38224, 12297, 40908, 38231, 22767, 19792, 48711, 24718, 51972, 49568, 7315, 37633, 50294, 48613, 46787, 41025, 49151, 25340, 38549, 16713, 20753, 49261, 48362, 49547, 26499, 47510, 44070, 30881, 49291, 6487, 40312, 1439, 5182, 23376, 13233, 43125, 36048, 28553, 6631, 36494, 44498, 35565, 27123, 31347, 35377, 2879, 22236, 24463, 2876, 47894, 49284, 47872, 3040, 28916, 37439, 604, 23393, 29476, 5729, 31711, 31713, 35719, 13792, 17928, 30396, 34400, 42416, 46087, 8271, 49202, 34231, 18332, 23791, 27697, 45066, 2168, 49638, 32089, 9960, 51498, 27699, 2164, 23782, 37634, 47167, 46956, 17286, 47763, 48759, 10522, 49187, 15359, 10602, 50538, 50362, 30818, 51645, 46792, 48599, 1195, 26738, 26737, 48405, 229, 38823, 12959, 16991, 47092, 3562, 3565, 48703, 47887, 33633, 51285, 38346, 7275, 48825, 36692, 50384, 37698, 24331, 1691, 1045, 51960, 51768, 50412, 48699, 33996, 49877, 48133, 48887, 8161, 3961, 34089, 29954, 34087, 52038, 41863, 47230, 32698, 48569, 43561, 44063, 47424, 922, 4538, 8531, 20784, 25226, 33108, 19674, 48857, 18222, 43929, 22385, 1114, 8506, 43400, 48872, 36713, 38736, 30267, 12869, 16909, 46414, 45390, 42738, 20992, 38022, 16920, 19774, 18943, 47547, 44156, 10507, 27367, 50210, 51819, 48243, 26635, 51613, 4862, 8749, 38746, 16912, 6740, 45191, 51991, 50751, 38929, 18062, 17089, 17084, 42910, 42913, 21182, 37230, 7703, 33504, 11526, 15699, 15706, 15714, 20022, 6474, 20724, 50959, 39179, 48187, 51254, 12559, 14697, 1201, 37989, 16273, 41955, 20351, 45680, 24477, 49557, 1673, 44564, 27339, 31529, 50123, 47455, 4237, 48731, 49682, 41652, 48523, 21727, 385, 393, 28699, 34197, 20270, 28938, 7077, 1034, 20208, 27361, 31740, 9597, 49026, 47870, 50189, 28198, 15832, 19474, 49213, 51556, 3749, 43500, 8448, 4420, 8447, 20617, 584, 50616, 15904, 49610, 31887, 51116, 31538, 27332, 44563, 14848, 44230, 25643, 50810, 25479, 15898, 8665, 33997, 35098, 9039, 35241, 30756, 1285, 50876, 13210, 34984, 10237, 20262, 43143, 39180, 42372, 5201, 1724, 49441, 35518, 49262, 48445, 49539, 26648, 18226, 36159, 49881, 25254, 49063, 19493, 40193, 47385, 20612, 43272, 50584, 3165, 20610, 50626, 46206, 3148, 46998, 21188, 28735, 16972, 11100, 37280, 44802, 46757, 51189, 6877, 18029, 50996, 26472, 1462, 51007, 12796, 46382, 46378, 20778, 48469, 30767, 20781, 50395, 226, 29182, 37508, 23918, 44986, 41222, 44993, 23910, 6044, 32001, 32014, 17984, 31603, 17486, 27968, 2865, 49431, 50606, 19959, 27574, 46843, 30571, 49181, 7549, 29655, 11514, 41591, 30172, 37562, 46829, 5391, 17467, 50316, 25800, 10425, 51605, 32826, 10853, 40973, 33437, 19400, 19343, 36014, 23346, 5747, 31739, 31743, 31746, 35754, 13811, 17951, 22073, 14621, 47283, 47592, 24335, 31695, 17374, 48389, 27364, 28777, 47244], [6344, 16884, 23154, 18920, 51657, 34850, 51091, 1096, 22579, 10228, 12651], [2052, 46946, 51342, 49754, 23430, 19189, 19153, 14938, 50704, 2940, 49649, 28816, 32903, 6928, 45182, 28812, 50453, 6489, 42016, 16351, 48603, 49726, 26120, 467, 21807, 39390, 39385, 35621, 36078, 49034, 35142, 28444, 24316, 15757, 37876, 7961, 7960, 25721, 75, 43197, 39010, 32440, 31227, 49787, 36722, 45395, 37722, 3537, 21212, 38799, 8930, 8928, 30972, 22668, 11081, 47981, 13750, 40195, 18449, 44129, 52071, 1172, 26714, 15354, 17125, 17122, 21215, 38804, 30975, 51816, 17322, 46860, 42799, 16958, 34739, 34742, 42207, 49697, 3904, 28053, 23768, 2146, 49104, 48390, 15378, 15370, 15371, 37334, 37333, 49267, 19737, 49412, 2142, 45044, 19728, 19732, 36343, 46335, 11402, 2147, 38591, 44537, 37113, 40135, 25016, 38459, 8581, 727, 51682, 50967, 20269, 20642, 16579, 49444, 33380, 19264, 36944, 41614, 366, 49136, 47482, 3212, 18848, 38137, 6781, 26888, 48594, 3170, 48167, 40344, 41536, 33444, 21138, 32966, 21566, 25051, 51840, 1051, 51985, 23052, 44899, 37233, 37232, 33036, 22628, 50156, 24695, 49057, 43516, 39381, 35611, 51621, 47054, 8104, 9723, 51811, 17414, 15743, 11753, 33818, 21402, 51942, 14406, 16496, 50489, 26699, 44119, 26144, 50004, 48900, 25342, 46452, 30664, 34729, 30757, 49818, 22440, 14059, 32043, 6092, 39609, 3996, 50427, 49295, 51571, 49540, 48824, 21852, 47874, 16423, 49277, 30179, 30180, 30175, 26176, 34247, 47778, 49925, 32563, 34450, 12174, 20215, 51176, 51664, 1393, 40271, 19696, 43812, 51615, 48211, 47813, 30849, 32441, 8862, 30852, 26340, 22726, 50808, 50207, 35393, 50235, 45289, 24050, 39366, 10171, 47425, 11248, 33230, 33228, 15345, 28387, 32674, 4494, 849, 47971, 3106, 51863, 40414, 51471, 36283, 40805, 47794, 20354, 51560, 4109, 51674, 9437, 27188, 18950, 21120, 49640, 8094, 30083, 3890, 947, 5415, 42824, 52020, 11734, 48002, 54, 47662, 6496, 22874, 42208, 22648, 14353, 14393, 10080, 10081, 48802, 2297, 19865, 37553, 29501, 21036, 12722, 30751, 45830, 22429, 14234, 36018, 28010, 23737, 19705, 48807, 28941, 3717, 51149, 2116, 23497, 8634, 39092, 14245, 50842, 34808, 26343, 4349, 4356, 26356, 4348, 30357, 8384, 16560, 50460, 38432, 38429, 12508, 8375, 42325, 22708, 24802, 42169, 30166, 44920, 45810, 4495, 47273, 49332, 7840, 3762, 51623, 47307, 51516, 4054, 19923, 23642, 49550, 11237, 45238, 14777, 20514, 49687, 34433, 47450, 3229, 8254, 411, 37115, 13647, 48438, 24495, 47127, 50858, 40506, 18798, 45222, 48553, 51898, 17142, 23958, 3674, 21371, 51736, 17596, 38757, 48965, 29219, 20813, 34492, 4564, 36917, 32954, 47444, 2047, 21870, 24245, 2621, 19223, 51865, 34736, 34579, 43553, 24581, 39749, 48726, 43232, 15775, 52039, 15780, 49942, 43029, 39051, 46839, 44792, 21291, 6508, 36248, 17452, 6143, 25145, 26420, 48262, 41532, 51902, 37608, 33409, 47543, 50631, 12900, 49875, 18056, 42618, 38489, 50171, 49520, 48623, 16630, 47011, 5434, 49026], [51801, 37076, 2946, 2948, 49509, 42015, 2936, 6921, 10914, 40855, 50430, 23428, 23429, 23416, 23046, 14953, 8834, 6926, 24704, 6489], [45530, 41759, 25668, 11710, 11687, 11704, 11683, 11678, 11694, 37270, 11686, 6588, 33760, 50021, 51928, 51244, 48427, 38142, 3301, 18253, 35673, 31942, 48064, 33476, 13269, 9711, 15691, 33479, 3639, 3647, 7695, 22984, 29641, 48621, 25662, 22887, 21172, 42897, 47816, 51585, 46580, 33481, 49921, 51824, 13042, 30886, 30888, 4991, 35936, 1253, 33960], [38635, 4922, 50423, 4924, 4925, 30790, 30787, 30794, 30784, 14706, 38961, 8803, 16967], [34870, 30638, 47229, 33756, 17068, 13039, 13040], [6664, 31797, 46745, 8611, 42604, 25052, 25054, 7432, 41316, 23794, 45081, 32103, 17672, 25368, 25369, 27847, 26007, 11406, 45261, 51568, 29290, 3394, 1106, 7265], [38354, 8615, 11139, 16571, 12596, 12588, 805, 43823], [11968, 20669, 16207, 16140, 16142, 38111, 33830, 33911, 38122, 11990, 27039, 41905, 45637, 32570, 14803, 40683, 1774, 51892, 50599, 51146, 19739, 47183, 21669, 10336, 32568, 28720, 24447, 2852, 45638, 26613, 43422, 11989, 7499, 31333, 1588, 49492, 1591, 44356, 31694, 37935, 33725, 33728, 7873, 7874, 50519, 25827, 25814, 7320, 9810, 21414, 20164, 20172, 43813, 45493, 48479, 33736, 33739, 3805, 49639, 51766, 13224, 35024, 13214, 39133, 17248, 25815, 11958, 47572, 2670, 48847, 2678, 2126, 44415, 28533, 47965, 50724, 41115, 44891, 38863, 15860, 41716, 9951, 6593, 1408, 44210, 47668, 48804, 19658, 50320, 47041, 10027, 44061, 22745, 22744, 22813, 46740, 21147, 51095, 3627, 33460, 11646, 41547, 50836, 774, 51505, 49456, 1415, 33234, 15079, 14661, 18958, 1243, 5363, 9172, 13570, 26724, 21531, 49777, 38114, 11974, 47660, 34357, 8218, 38295, 45834, 7032, 39761, 16584, 24828, 7201, 11006, 41084, 44840, 27667, 37637, 18076, 48999, 30555, 35729, 49710, 32017, 977, 8800, 48177, 51018, 50139, 48178, 49442, 30364, 14783, 44441, 27033, 47732, 20430, 28644, 2461, 3017, 25799, 37341, 37085, 19194, 17502, 29143, 7483, 44913, 46869, 22357, 47119, 26464, 34651, 38551, 38388, 13995, 39913, 47516, 4802, 30693, 16894, 47218, 45175, 2576, 33280, 46574, 7681, 41571, 11730, 17273, 25838, 3829, 49122, 15833, 36539, 36501, 34104, 18697, 51019, 33954, 35705, 4224, 42234, 45844, 20188, 34392, 12387, 48864, 24853, 11773, 39813, 47215, 33163, 37353, 18951, 6126, 36056, 18322, 4642, 16808, 14279, 47819, 1189, 48985, 26992, 3721, 11789, 15771, 50769, 6548, 14619, 47601, 40429, 14756, 48503, 40596, 18813, 34410, 17587, 506, 14008, 10272, 38948, 41502, 3159, 11096, 37288, 41046, 23648, 47044, 16726, 42505, 50053, 29192, 26743, 32002, 51327, 19268, 49323, 43923, 22963, 21004, 25474, 43752, 47324, 51833, 17089], [18452, 43825, 26419, 8633, 12594, 42631, 25075, 11209, 51548, 223], [49344, 48782, 33034, 33907, 44323, 51619, 52040, 37005, 34597, 19875, 38156, 48455, 48091, 28966, 49535, 48246, 35503, 37777, 50630, 51301, 28770, 32640, 1808, 1664, 5590, 39342, 51897, 34230, 20515, 44897, 17973, 51261, 4256, 12999, 25293, 39700, 17979, 2625, 33219, 15261, 15260, 19040, 5588, 51316, 7364, 45467, 44745, 7566, 48644, 40360, 18836, 51510, 42171, 48748, 49573, 50161, 50597, 49910, 40995, 49125, 33720, 51397, 49695, 35676, 32332, 36353, 18588, 51210, 25705, 2730, 19591, 51100, 47558, 24514, 20736, 2350, 42765, 24675, 24677, 7098, 32866, 37016, 51235, 14825, 32872, 11060, 41001, 47483, 9055, 46898, 20507, 35827, 51651, 7040, 12548, 44366, 10593, 13198, 51387, 27368, 51401, 39033, 10746, 39625, 21995, 50323, 9344, 36240, 35527, 42210, 5383, 49735, 30187, 34156, 34163, 47227, 29285, 12137, 49752, 32085, 19535, 28963, 31394, 11408, 30549, 12547, 47242, 961, 47563, 41454, 14781, 50910, 49648, 50737, 50594, 28428, 47000, 14018, 5258, 13319, 25913, 15509, 9447, 12270, 2922, 10880, 44752, 48768, 17804, 44501, 46973, 24893, 11071, 23619, 51060, 41158, 23848, 31938, 48283, 1056, 48810, 49988, 41622, 51039, 36735, 47418, 21527, 26032, 49112, 186, 49117, 30019, 30032, 10987, 41909, 16111, 45641, 47437, 41244, 51310, 18870, 14795, 38681, 49943, 1786, 21862, 50571, 16816, 41537, 7200, 48147, 51564, 42606, 30242, 3567, 15090, 22679, 26721, 30980, 17137, 46654, 25548, 3549, 37732, 20070, 45417, 7939, 8781, 14431, 11610, 51284, 15903, 32360, 13355, 21608, 29931, 38062, 16009, 41856, 24553, 10717, 3871, 34288, 44678, 35955, 20595, 11809, 51861, 47855, 49329, 36051, 6025, 31964, 2069, 50366, 49005, 12334, 1247, 4988, 8884, 6298, 19998, 19995, 51584, 32304, 14535, 44223, 5188, 35036, 17272, 21329, 21332, 51596, 31484, 51858, 51269, 18892, 26457, 48979, 20512, 28922, 45196, 46961, 19488, 43533, 27525, 31898, 9743, 1163, 11181, 15213, 41306, 41302, 45077, 23790, 5440, 44831, 40296, 41924, 40042, 28006, 51013, 14440, 1336, 33893, 38676, 34484, 46798, 16040, 16759, 6746, 10757, 36855, 47834, 18805, 23251, 23250, 50925, 34545, 16383, 20451, 45964, 28855, 6974, 10945, 37111, 40874, 50336, 51335, 31658, 47265, 20609, 47561, 16381, 46380, 50768, 28504, 35874, 48280, 41402, 48118, 4997, 34886, 50117, 49109, 22798, 31181, 40359, 43144, 11723, 47771, 44397, 48352, 27141, 47749, 51006, 35726, 12215, 37999, 40957, 19314, 35985, 30424, 38329, 20681, 46140, 24868, 33015, 37200, 47512, 18711, 47117, 47950, 14102, 1011, 30826, 8828, 34775, 42836, 46489, 23492, 33405, 41337, 50226, 46678, 11598, 15586, 47036, 26904, 9104, 49760, 13095], [16097, 14782, 50875, 50567, 20643, 16688, 25142, 25143, 47940, 52021, 22536, 48842, 41367, 24066, 6186, 10175, 45881, 8880, 13023, 46733, 29620, 33458, 15646, 19979, 34409, 50589, 13629, 41718, 34505, 37940, 47965], [47930, 48786, 10229, 50542, 26108, 45022, 51176], [47484, 35500, 18690, 30197, 26604, 24446, 16341, 12003, 23933, 9951], [51374, 50781, 16416, 50545, 32343, 51247, 6896, 48935, 30832, 48992, 41886, 15512, 29993, 34544, 51453, 6582, 2628, 24366, 15807, 22093, 47395, 4245, 15276, 3071, 48557, 18434, 51294, 38979, 47707, 40907, 44187, 9988, 27772, 2409, 23823, 50288, 12605, 8646, 48637, 37312, 50684, 50710, 4135, 46971, 40815, 5065, 817, 30615, 24879, 46314, 46622, 29062, 23814, 23824, 23832, 23836, 10948, 20364, 48625, 45839, 18252, 51519, 47697, 37228, 48323, 23264, 21098, 21100, 16830, 38670, 9112, 51992, 3416, 11433, 45281, 50763, 10143, 10150, 15098, 50588, 47193, 6431, 50697, 42822, 24191, 28304, 6398, 47449, 46137, 31108, 50648, 39069, 51705, 42384, 44149, 50041, 47384, 13956, 49366, 15681, 25974, 681, 48562, 35031, 45460, 19940, 41507, 14023, 1342, 50634, 50600, 9018, 41879, 8594, 49001, 137, 21058, 25767, 3751, 48273, 29770, 7839, 7851, 7829, 7842, 11840, 49436, 11830, 11829, 11925, 48072, 11867, 11912, 11862, 48288, 7835, 7820, 45843, 50871, 36706, 14632, 40421, 44326, 22749, 47783, 20738, 50305, 49170, 7867, 24185, 51785, 45990, 9530, 31681, 49147, 50843, 51209, 50966, 11423, 29551, 50340, 12437, 50891, 6772, 29895, 24594, 45806, 49042, 24878, 11055, 41675, 11822, 7832, 48114, 9398, 28400, 32161, 36263, 6156, 45282, 51144, 30618, 2349, 12794, 8844, 47038, 45113, 50234, 33201, 14826, 37666, 8225, 32335, 262, 5778, 50821, 19430, 40977, 41609, 49903, 26082, 21745, 47679, 46450, 35585, 35575, 31572, 31559, 27161, 44572, 48025, 27159, 8373, 18929, 40758, 26696, 18799, 50105, 51080, 40763, 23170, 22697, 1652, 4870, 4892, 51413, 10159, 38003, 38004, 45694, 45697, 45265, 6338, 51458, 33553, 49829, 51111, 50894, 47619, 49811, 15166, 50375, 42752, 16935, 12877, 47133, 49074, 1468, 23712, 41061, 37299, 17968, 52092, 51874, 1740, 40628, 36889, 28695, 19712, 328, 49460, 17386, 40450, 45879, 7810], [26377, 17897, 35693, 41351, 17978, 10808, 2864, 16250, 195, 17437, 48860, 3818, 157, 49768, 50049, 38888, 46774, 50233, 47041], [50334, 1562, 14638, 28503, 48021, 41069, 5133, 18508, 10384, 50956, 37779, 29593, 3597, 38857, 8971, 4958, 40640, 5588], [6124, 19751, 7421, 47597, 3313, 2005, 8271], [48477, 3230, 36803, 32657, 32655, 20368, 10417, 15939, 15962, 15963, 15960, 34003, 947], [2391, 32204, 49324, 6323, 6305, 6320, 6301, 6302, 30416, 6325, 17769, 47001, 29494, 21037, 18460, 44721, 36197, 14393], [49113, 13139, 51218, 12758, 34751, 30802, 26021, 983, 26548, 26535, 26539, 26540, 30803, 8800], [19871, 3045, 34926, 50636, 11168, 22277, 44667, 23542, 19562, 37183, 21298, 12405, 10787, 25133, 51543, 17454, 13583, 22790, 50706, 42691, 47765, 41763, 8694, 32490, 30182, 41670, 33044, 43703, 2714, 19090, 14257, 2934, 8346, 8291, 8292, 4141, 469, 39387, 5436, 18961, 44697, 48336, 5266, 10480, 39196, 29905, 50217, 50067, 14718, 13080, 36359, 32345, 37721, 40051, 49015, 38560, 23056, 50095, 42556, 39457, 48573, 36919, 51693, 27105, 1584, 14653, 32410, 48485, 20148, 49165, 26664, 49807, 49511, 15667, 17774, 36115, 50901, 39714, 27580, 32857, 3955, 17432, 44098, 49619, 47984, 41102, 21404, 37476, 48715, 8040, 49360, 6959, 49241, 51938, 49679, 51873, 14219, 32521, 49427, 50859, 42557, 34368, 49139, 2191, 49870, 15181, 1042, 32151, 2192, 37433, 51903, 17983, 9781, 37929, 8226, 46153, 24666, 9577, 23193, 14728, 6889, 33199, 50849, 8088, 246, 39202, 50006, 49288, 15497, 21166, 12817, 25514, 34909, 1157, 40176, 36202, 47423, 23965, 50907, 41611, 18254, 35531, 48705, 50064, 51720, 37974, 41019, 16738, 47084, 35508, 5322, 48033, 47354, 3367, 3821, 49218, 12347, 44165, 304, 41357, 36085, 28188, 23828, 47711, 46758, 44432, 29028, 8322, 14731, 48065, 12908, 50708, 33139, 27167, 45769, 6872, 45265], [48998, 48639, 17477, 9738, 50360, 49496, 19441, 19451, 23381, 2932, 14825], [1717, 27225, 27234, 40168, 7044, 24308, 44400, 49647, 50800, 14649, 46888, 19573, 24805, 36840, 29791, 36102, 20422, 48801, 11451, 8132, 29919, 12121, 8144, 8139, 25311, 49080, 50707, 21095, 49871, 18771, 22088, 1496, 9276, 13337, 45062, 47815, 8136, 4280, 37767, 21029, 20815, 44694, 23229, 26500, 17661, 41843, 41838, 16021, 38052, 20415, 20405, 45742, 49439, 27223, 27231, 27237, 5459, 9466, 35628, 27251, 7252, 24743, 28835, 37087, 50468, 50136, 30954, 44313, 36209, 50601, 31759, 48649, 19759, 22355, 47675, 43442, 26341, 6766, 31823, 31820, 4458, 4167, 49289, 49503, 19635, 27918, 9846, 22569, 1083, 48870, 34844, 16890, 31753, 21223, 29432, 19826, 2375, 47836, 40117, 40118, 28215, 34869, 50274, 12085, 49919, 49211, 50569, 6439, 36461, 49629, 7894, 50564, 6625, 36537, 30895, 51668, 20055, 7815, 39265, 49686, 50860, 38304, 12203, 9701, 50991, 28910, 7254, 23321, 23320, 49356, 26225, 47204, 30412, 34398, 16611, 16617, 42407, 27452, 48453, 46127, 46092, 21440, 33140, 46072, 46073, 20661, 42421, 20664, 52044, 12386, 12385, 12394, 36243, 4397, 4404, 43637, 17932, 44294, 13776, 13783, 10877, 35612, 44112, 44804, 49048, 43638, 571, 569, 22040, 12711, 12381, 47518, 3049, 48383, 31930, 22042, 49763, 23781, 27698, 47005, 36055, 39827, 43994, 18631, 7789, 50813, 51232, 44143, 22685, 22691, 26727, 4940, 31003, 34946, 12957, 50727, 46676, 11593, 15581, 45440, 2470, 6379, 14442, 23793, 26887, 48348, 39030, 13133, 49596, 35761, 2511, 15772, 33981, 21045, 50885, 45775, 20436, 45774, 2814, 28687, 16849, 36868, 40602, 50531, 7478, 16979, 13721, 13722, 35650, 13729, 13719, 35645, 13718, 17572, 39410, 35643, 9491, 9487, 13716, 16070, 21843, 30140, 34303, 34309, 38251, 38939, 26004, 47440, 13916, 44642, 22765, 45818, 51219, 914, 4546, 38573, 16728, 51536, 20794, 2591, 3347, 52032, 31996, 25183, 4867, 52052, 14374, 40141, 44083, 18405, 43626, 44623, 49115, 26813, 34880, 38927, 50649, 49437, 47779, 1274, 5929, 13076, 39175, 39186, 43146, 29858, 26709, 15895, 51997, 6654, 36580, 47165, 27132, 1456, 1242, 27139, 1447, 1455, 49286, 8395, 16095, 4065, 8058, 37990, 24390, 47926, 7517, 39486, 51454, 4231, 49859, 46801, 38153, 1723, 4523, 32938, 28965, 47592], [2964, 24745, 24746, 17343, 49440, 18658, 34459, 46200, 33052, 44914, 2061, 14016, 39736, 18017, 22362, 4528, 30483, 23589, 8511, 30481, 38388], [41022, 41021, 37424, 12013, 32388, 50283, 38372, 38370, 8488, 15774, 1908, 40849, 51473, 45918, 16348, 8297, 470, 21809, 39386, 39387], [32368, 28278, 35964, 47754, 43211, 51768], [2337, 1926, 11431, 7635, 26289, 30625, 44029, 36088, 5941, 28796, 45116, 45124, 15253, 15050, 3581, 31929, 3375, 49685, 38507, 16666, 25088, 28270, 37414, 50467, 48437, 49550], [528, 13745, 50485, 20506, 31488, 1755, 51514, 3998, 21495, 35506, 49332], [27472, 48386, 27474, 23487, 30390, 15014, 7011, 47419, 47726, 49407, 14143, 20293, 38093, 38091, 46962, 51130, 9629, 45616, 47109, 29778, 25511, 39063, 25924, 46837, 41624, 47647, 6158, 15725, 7638, 48612, 24462, 47282, 51983, 27804, 2832, 23820, 45115, 47429, 50256, 49137, 51264, 6039, 50678, 22283, 44725, 40982, 50466, 42749, 39337, 9419, 18928, 36788, 32633, 2741, 50109, 48063, 3204, 39203, 50809, 29599, 29667, 45309, 21196, 34900, 26828, 18410, 10069, 10067, 22217, 7558, 29457, 29464, 29460, 33313, 41249, 4874, 1130, 40336, 49275, 26370, 30584, 51926, 6072, 6064, 43334, 50504, 14344, 9894, 36001, 22064, 36005, 39976, 14231, 39973, 18241, 13884, 33315, 37683, 14641, 37680, 33306, 51003, 46978, 38940, 37688, 37687, 11337, 25492, 46429, 20177, 16931, 38755, 47760, 47640, 12881, 47210, 21798, 12885, 49867, 28617, 15493, 51842, 49996, 26671, 14221, 24753, 19688, 20843, 15350, 33119, 7357, 3356, 7519, 51363, 18041, 9693, 33448, 34323, 38417, 38416, 11563, 23491, 6079, 49526, 49844, 45473, 31902, 12918, 10983, 46925, 50474, 43573, 13881, 38563, 49252, 37820, 6991, 28874, 20470, 12328, 23113, 9329, 47364, 38343, 20277, 24585, 24582, 18955, 28693, 6757, 10770, 49837, 23277, 1739, 31479, 31474, 51652, 5836, 42160, 21165, 50253, 19226, 15004, 8808, 13876, 47334, 21865, 665, 44471, 43571, 9659, 47337, 23463, 48664, 30146, 27638, 30162, 33349, 47320, 26487, 43746, 35992, 31851, 27639, 23674, 37294, 48654, 7908, 46419, 34408, 2471, 50949, 32269, 45433, 45979, 45985, 50324, 41780, 17261, 1964, 35764, 30100, 24330, 48260, 29543, 50968, 32105, 8014, 51685, 47607, 34318, 4188, 43951, 28690, 50766, 12150, 38085, 12147, 34114, 17652, 35493, 9312, 47785, 35497, 9316, 31270, 46221, 5300, 40403, 30158, 51504, 33854, 51016, 51503, 51517, 48882, 433, 38841, 48689, 38845, 38846, 38837, 11549, 46849, 48106, 46302, 48591, 50168, 46682, 15433, 16260], [44580, 44038, 31567, 5582, 9416, 35574, 9417, 17342, 34148, 8984, 48438], [9885, 32012, 49926, 47960, 25221, 46384, 42514, 49554, 14032, 47424], [7675, 11647, 2528, 28342, 32172, 6393, 15851, 24411, 24229, 45455, 46949, 10662, 28733, 2204, 16165, 16240, 47674, 30031, 4022, 191, 181, 14323, 17442, 19681, 41561, 51039], [41503, 48142, 32840, 2256, 26391, 27971, 23917, 48835, 49155, 44156], [37806, 48521, 39134, 17253, 43099, 13212, 45556, 30327, 51106, 4037, 33926, 16218, 45635, 45634, 49907, 38681], [32514, 6707, 50124, 15258, 27045, 13760, 30984, 47814, 48528, 3567], [221, 49392, 43325, 17472, 6541, 46817, 40739, 23139, 1630, 4378, 49682], [44372, 18707, 33218, 38301, 51712, 51376, 39774, 44963, 6129, 10975, 46794, 51861], [36972, 30660, 48781, 3725, 29825, 35258, 30149, 44299, 14463, 6389, 47026, 14292, 48354, 48918, 45685, 2175, 50113, 17595, 19474], [4780, 4739, 4766, 8733, 16891, 20975, 3453, 33273, 45168, 2374, 24079, 15458, 14069, 25440, 18897, 4593, 10975], [50389, 26700, 19754, 33169, 3240, 20864, 7618, 30578, 50560, 51711, 48539, 19488], [17668, 13626, 9385, 49385, 12044, 218, 19452, 35385, 27581, 34984], [26907, 35260, 52023, 34182, 24795, 48827, 8668, 31473, 35662, 17592, 22917, 34408], [2174, 23801, 13035, 17242, 22696, 35985], [8244, 43465, 47875, 5599, 2721, 41960, 33979, 217, 14141, 44395, 29522], [44639, 18807, 47626, 36863, 10751, 9670, 49918, 42138, 38658, 34304, 50499], [13537, 21627, 1847, 10554, 47527, 31309, 51140, 43284, 43282, 17429, 15837, 13534, 13535, 9155, 47284, 14646, 49681, 40440, 50477, 49541, 49184, 25579], [9440, 48225, 43502, 30254, 12255, 48364, 20547, 24673, 32860, 10872, 37015, 30312, 1870, 5607, 35781, 17798, 32871, 26505, 50595, 2198, 36915, 1688, 34801, 8858, 50873, 51940], [47414, 31364, 6253, 38874, 21131, 33697, 15633, 19965, 45478, 19963, 6417, 41599, 40274, 22942, 52068, 31129, 13200], [22707, 11369, 30854, 47957, 48093, 26844, 7567, 14576, 6481, 30647, 46053, 13289, 13307, 48252, 27550, 11636, 19439, 33668, 31596, 5425, 48058], [13096, 21392, 48192, 29877, 41797, 49680, 50835, 40517, 13589, 11252, 1475, 23022, 31377, 13305, 27550], [3019, 28148, 41514, 42572, 44183, 35613, 47406, 26928, 35321, 17223, 28447, 15827, 24381, 2637, 50319, 7731, 38660], [3967, 34099, 16062, 20264, 45784, 24835, 48800, 23265, 47680, 19773, 11035], [28802, 32878, 10895, 37050, 49409, 23397, 47374, 27417, 23408, 19038, 44758, 1894, 1892, 27411, 51249, 13913, 17892, 47006, 22338, 38575, 46340, 51506, 48868, 40724, 33254], [22849, 31223, 47381, 17336, 46790, 48345, 43366, 26739, 37649], [44746, 14911, 14909, 37021, 17833, 52060, 42296, 42298, 50244, 50565, 19249, 27197, 16998, 30263, 10979], [48008, 51021, 49651, 51526, 48884, 50341, 36206, 43365], [47306, 48505, 47910, 46293, 29742, 48545, 34564, 30010, 35906, 27539, 29172, 38369, 13798, 39660, 39662, 35733, 35732, 38915, 49516, 22063], [46327, 25120, 46322, 20918, 20917, 9746, 20921, 38525, 12619, 42457, 46324, 46326, 7259, 11640, 7256, 51945, 47093], [47241, 51272, 13630, 23158, 46815, 36779, 49782, 25890, 17479, 35397, 48674, 18888], [51204, 44732, 41947, 37980, 48007, 32447, 42872, 3851, 18577, 6598, 28373, 46911, 47859, 41587, 41580, 48753], [9674, 43722, 47101, 30502, 16722, 33097, 41205, 2241, 6041, 45375, 26569, 13047, 42906, 21179, 48753], [47474, 5999, 5998, 27897, 27878, 2212, 44931, 655, 51954, 8450, 48298, 29145, 7287, 15287, 15286, 44926, 27873, 25630, 36127, 39902, 43888, 25926, 40641, 30668, 34833, 30673, 26617, 22564, 39905, 15030, 2003, 4160], [37253, 25886, 12089, 30835, 28639, 24353, 47355, 9619, 31614], [48550, 48267, 37975, 24212, 33146, 37320, 48428, 22655, 14195, 26704, 24487, 48593], [19738, 49203, 49979, 12797, 49300, 46633, 7532, 41617, 29475], [40355, 14412, 10260, 24129, 20050, 49598, 47485, 38788, 5038, 18435, 9872, 32976], [48559, 50663, 51678, 36646, 36647, 36649, 50393, 33822, 3698, 70, 21864, 4721, 33560, 42954, 19248], [17334, 25803, 40365, 34914, 5039, 44121, 18437, 10091, 14408]]]\n",
      "roots = [2306]\n",
      "tot_path_lengths = [[472207.79060935974, 3261.8884830474854, 153203.4337463379, 2186.214912414551, 103225.25914001465, 2590.367702484131, 10725.976007461548, 2184.5583992004395, 1506.2219581604004, 4425.500778198242, 1880.6725616455078, 58030.13752937317, 1908.7236785888672, 94735.45258331299, 6886.948455810547, 2428.3703002929688, 2697.2904052734375, 75343.2269897461, 4607.490211486816, 2367.319320678711, 1561.858009338379, 1767.3080959320068, 2766.9226570129395, 1829.980239868164, 51850.06859588623, 2641.762870788574, 76037.59485816956, 2674.0640964508057, 3385.4142723083496, 1759.6916580200195, 4531.898021697998, 1643.5941467285156, 69685.82118415833, 2350.915557861328, 1582.3512992858887, 5892.730606079102, 2326.4232788085938, 3271.5044555664062, 3307.7160034179688, 2262.0837936401367, 4258.240837097168, 4700.556732177734, 2399.6869945526123, 2850.842071533203, 1654.778663635254, 2780.969566345215, 1787.1515350341797, 2386.1376724243164, 1854.8139381408691, 6031.812557220459, 4436.294652938843, 2530.1660919189453, 5553.156055450439, 2678.685749053955, 3279.658203125, 2253.652702331543, 3594.0128746032715, 1914.5788650512695, 3330.7468490600586, 2190.8284912109375, 3399.4625549316406, 2405.557430267334, 2516.0734634399414, 3371.8177032470703, 2770.6023292541504, 3489.644609451294, 1505.4774932861328, 3457.4863891601562, 2869.023727416992, 2155.4601669311523, 3131.016010284424, 1679.8174514770508]]\n"
     ]
    },
    {
     "name": "stdout",
     "output_type": "stream",
     "text": [
      "meshparty_segment_size = 100\n",
      "Time for 1st pass MP skeletonization: 1.536320686340332\n",
      "connecting at the root\n",
      "branches_touching_root = [141]\n",
      "combining close nodes\n",
      "combine_threshold = 1300\n",
      "length of Graph = 13515\n",
      "After combining close endpoints max(kept_branches_idx) = 141, len(kept_branches_idx) = 138\n",
      "empty_indices % = 0.0\n",
      " conflict_indices % = 0.03175839390792662\n",
      "AFTER face_lookup_resolved_test\n",
      "Decomposing first pass: 7.502661228179932\n",
      "Only Using MeshParty Skeletonization and Mesh Correspondence\n",
      "Another print\n",
      "Divinding into MP and MAP pieces: 3.743171691894531e-05\n",
      "Total time for MAP sublimb processing 4.0531158447265625e-06\n",
      "---- Working on MP Decomposition #0 ----\n",
      "Using Quicker soma_to_piece_touching_vertices because no MAP and only one sublimb_mesh piece \n",
      "MP filtering soma verts: 4.744529724121094e-05\n",
      "Fixing Possible Soma Extension Branch for Sublimb 0\n",
      "Total time for mesh KDTree = 0.09937930107116699\n",
      "sbv[0].reshape(-1,3) = [[712095.9 863814.4 798222.4]]\n",
      "closest_sk_pt_coord BEFORE = [712271.97153379 863610.54918146 798143.00509178]\n",
      "current_skeleton.shape = (656, 2, 3)\n",
      "node_for_stitch = 2: [712271.97153379 863610.54918146 798143.00509178]\n",
      "node_for_stitch AFTER = 2: [712271.97153379 863610.54918146 798143.00509178]\n",
      "possible_node_loc = [  0 652]\n",
      "possible_node_loc AFTER = [  0 652]\n",
      "curr_shortest_path = [2, 1.0, 0.0]\n",
      "Current stitch point was not a branch or endpoint, shortest_path_length to one = 200.00000000003575\n",
      "Changing the stitch point becasue the distance to end or branch node was 200.00000000003575\n",
      "New stitch point has degree 1\n",
      "change_status for create soma extending pieces = True\n",
      "closest_sk_pt_coord AFTER = [712231.1 863415.9 798122. ]\n",
      "skipping soma 0 because closest skeleton node was already end node\n",
      "endpoints_must_keep = {0: array([[712231.1, 863415.9, 798122. ]])}\n",
      "match_sk_branches = [137]\n",
      "The new branch info was none so skipping \n",
      "\n",
      "No soma extending branch was added for this sublimb even though it had a soma border (means they already existed)\n",
      "MP (because soma touching verts) soma extension add: 3.544774293899536\n",
      "There were not both MAP and MP pieces so skipping the stitch resolving phase\n",
      "Time for decomp of Limb = 12.968072652816772\n",
      "Number of matching vertices = 4\n",
      "Only one endpoint after filtering away the endpoints that are not on the skeleton\n",
      "Using Distance measure skeletal_distance\n",
      "endpoints_must_keep = [[712231.1 863415.9 798122. ]]\n",
      "Number of end_nodes BEFORE filtering = 73\n",
      "all_single_nodes_to_eliminate = [7]\n",
      "no small end nodes to get rid of so returning whole skeleton\n",
      "Removed 0 skeletal branches\n",
      "104011 104012\n",
      "For marked faces: None\n",
      "empty_indices % = 0.0\n",
      " conflict_indices % = 0.0\n",
      "AFTER face_lookup_resolved_test\n",
      "Limb Correspondence before stitching = 138\n",
      "meshes_to_stitch = [<trimesh.Trimesh(vertices.shape=(13721, 3), faces.shape=(27348, 3))>, <trimesh.Trimesh(vertices.shape=(1756, 3), faces.shape=(3507, 3))>, <trimesh.Trimesh(vertices.shape=(126, 3), faces.shape=(252, 3))>, <trimesh.Trimesh(vertices.shape=(29477, 3), faces.shape=(58666, 3))>]\n",
      "Limb Correspondence AFTER stitching = 289\n",
      "Readjusting starting axon branch skeleton\n",
      "Fixing the axon starting branch endpoint to align with upstream branch\n",
      "Starting Branch 12 skeleton before fix: (656, 2, 3)\n",
      "Starting Branch 12 skeleton AFTER fix: (657, 2, 3)\n",
      "concept_network_dict = {0: [<networkx_utils.GraphOrderedEdges object at 0x7fbce032c588>]}\n",
      "\n",
      "\n",
      "----Working on seperate_graph 0----\n",
      "\n",
      "\n",
      "---------Working on soma_idx = 0, soma_group_idx 0, endpt = [713147.18730159 859537.7968254  798736.47301587]---------\n",
      "Starting_edge inside branches_to_conept = [[712953.51168846 860507.35481529 799542.83814458]\n",
      " [713147.18730159 859537.7968254  798736.47301587]]\n",
      "At the start, starting_node (in terms of the skeleton, that shouldn't match the starting edge) = [89]\n",
      "printing out current edge:\n",
      "[[713147.18730159 859537.7968254  798736.47301587]\n",
      " [712953.51168846 860507.35481529 799542.83814458]]\n",
      "edge_endpoints_to_process was empty so exiting loop after 297 iterations\n",
      "starting_node in concept map (that should match the starting edge) = 289\n",
      "Total time for branches to concept conversion = 1.867027759552002\n",
      "\n",
      "Done generating concept network \n",
      "\n",
      "\n"
     ]
    },
    {
     "data": {
      "text/plain": [
       "<neuron.Neuron at 0x7fbc315a3e48>"
      ]
     },
     "execution_count": 436,
     "metadata": {},
     "output_type": "execute_result"
    }
   ],
   "source": [
    "import axon_utils as au\n",
    "neuron_obj_axon = au.complete_axon_processing(neuron_obj)\n",
    "neuron_obj_axon"
   ]
  },
  {
   "cell_type": "code",
   "execution_count": 437,
   "metadata": {},
   "outputs": [
    {
     "name": "stdout",
     "output_type": "stream",
     "text": [
      "\n",
      " Working on visualization type: mesh\n",
      "\n",
      " Working on visualization type: skeleton\n"
     ]
    },
    {
     "data": {
      "application/vnd.jupyter.widget-view+json": {
       "model_id": "6d7b4e34d5e64d5e9a2e0e80626eb99c",
       "version_major": 2,
       "version_minor": 0
      },
      "text/plain": [
       "VBox(children=(Figure(camera=PerspectiveCamera(fov=46.0, position=(0.0, 0.0, 2.0), projectionMatrix=(1.0, 0.0,…"
      ]
     },
     "metadata": {},
     "output_type": "display_data"
    }
   ],
   "source": [
    "nviz.plot_axon(neuron_obj_axon)"
   ]
  },
  {
   "cell_type": "markdown",
   "metadata": {},
   "source": [
    "# Want to visualize the error mesh where might have forking"
   ]
  },
  {
   "cell_type": "code",
   "execution_count": 410,
   "metadata": {},
   "outputs": [
    {
     "data": {
      "text/plain": [
       "864691135564655959"
      ]
     },
     "execution_count": 410,
     "metadata": {},
     "output_type": "execute_result"
    }
   ],
   "source": [
    "neuron_obj_axon.segment_id"
   ]
  },
  {
   "cell_type": "code",
   "execution_count": 427,
   "metadata": {},
   "outputs": [
    {
     "name": "stdout",
     "output_type": "stream",
     "text": [
      "limb_name = L4\n",
      "\n",
      " Working on visualization type: mesh\n",
      "\n",
      " Working on visualization type: skeleton\n"
     ]
    },
    {
     "data": {
      "application/vnd.jupyter.widget-view+json": {
       "model_id": "241b2e5027e6493d9930854d2724434f",
       "version_major": 2,
       "version_minor": 0
      },
      "text/plain": [
       "VBox(children=(Figure(camera=PerspectiveCamera(fov=46.0, position=(0.0, 0.0, 2.0), projectionMatrix=(1.0, 0.0,…"
      ]
     },
     "metadata": {},
     "output_type": "display_data"
    },
    {
     "name": "stdout",
     "output_type": "stream",
     "text": [
      "No limb name was given so using L4 because was the limb in the first key\n"
     ]
    },
    {
     "data": {
      "image/png": "[encoded data removed]",
      "text/plain": [
       "<Figure size 2880x1440 with 1 Axes>"
      ]
     },
     "metadata": {},
     "output_type": "display_data"
    }
   ],
   "source": [
    "nviz.visualize_neuron_specific_limb(neuron_obj_axon,\n",
    "                                   neuron_obj.axon_limb_name)"
   ]
  },
  {
   "cell_type": "code",
   "execution_count": 426,
   "metadata": {
    "scrolled": false
   },
   "outputs": [
    {
     "name": "stdout",
     "output_type": "stream",
     "text": [
      "\n",
      " Working on visualization type: mesh\n",
      "\n",
      " Working on visualization type: skeleton\n"
     ]
    },
    {
     "data": {
      "application/vnd.jupyter.widget-view+json": {
       "model_id": "43f33493f8524fa193d6627f619291b1",
       "version_major": 2,
       "version_minor": 0
      },
      "text/plain": [
       "VBox(children=(Figure(camera=PerspectiveCamera(fov=46.0, position=(0.0, 0.0, 2.0), projectionMatrix=(1.0, 0.0,…"
      ]
     },
     "metadata": {},
     "output_type": "display_data"
    }
   ],
   "source": [
    "ret_col = nviz.visualize_neuron(neuron_obj_axon,\n",
    "                     limb_branch_dict={neuron_obj.axon_limb_name:\"all\"},\n",
    "                               return_color_dict=True)"
   ]
  },
  {
   "cell_type": "code",
   "execution_count": 412,
   "metadata": {},
   "outputs": [],
   "source": [
    "error_mesh = vu.error_mesh_from_manual_proofreading(neuron_obj_axon.segment_id,\n",
    "                                                   plot_error_and_valid_mesh=False)"
   ]
  },
  {
   "cell_type": "code",
   "execution_count": 415,
   "metadata": {},
   "outputs": [],
   "source": [
    "nviz.plot_objects(error_mesh,\n",
    "                  main_mesh_color=\"red\",\n",
    "                  mesh_alpha=1,\n",
    "                 append_figure=True,\n",
    "                 show_at_end=False)"
   ]
  },
  {
   "cell_type": "code",
   "execution_count": 416,
   "metadata": {},
   "outputs": [],
   "source": [
    "error_branches = vu.error_branches_from_old_new_segment_mesh(neuron_obj_axon,\n",
    "                                           )[neuron_obj_axon.axon_limb_name]"
   ]
  },
  {
   "cell_type": "code",
   "execution_count": 177,
   "metadata": {
    "scrolled": true
   },
   "outputs": [
    {
     "name": "stdout",
     "output_type": "stream",
     "text": [
      "Branch 106:\n",
      "No boutons to plot\n",
      "width = {'median_mesh_center': 77.34531379438725, 'no_spine_median_mesh_center': 77.34531379438725, 'no_bouton_median': 77.34531379438725}, \n",
      "n_boutons = 0,\n",
      "skeleton_length (in microns) = 3.2072250047303976\n",
      "area = 3.737826128004001\n"
     ]
    },
    {
     "data": {
      "application/vnd.jupyter.widget-view+json": {
       "model_id": "2d01b34946c1489cbbd1feabef63b622",
       "version_major": 2,
       "version_minor": 0
      },
      "text/plain": [
       "VBox(children=(Figure(camera=PerspectiveCamera(fov=46.0, position=(0.0, 0.0, 2.0), projectionMatrix=(1.0, 0.0,…"
      ]
     },
     "metadata": {},
     "output_type": "display_data"
    },
    {
     "name": "stdout",
     "output_type": "stream",
     "text": [
      "Branch 116:\n",
      "No boutons to plot\n",
      "width = {'median_mesh_center': 63.428307704865055, 'no_spine_median_mesh_center': 63.428307704865055, 'no_bouton_median': 63.428307704865055}, \n",
      "n_boutons = 0,\n",
      "skeleton_length (in microns) = 3.3466404488929307\n",
      "area = 1.5826053655587597\n"
     ]
    },
    {
     "data": {
      "application/vnd.jupyter.widget-view+json": {
       "model_id": "7ce63192e01344c49754eac9f74eb481",
       "version_major": 2,
       "version_minor": 0
      },
      "text/plain": [
       "VBox(children=(Figure(camera=PerspectiveCamera(fov=46.0, position=(0.0, 0.0, 2.0), projectionMatrix=(1.0, 0.0,…"
      ]
     },
     "metadata": {},
     "output_type": "display_data"
    },
    {
     "name": "stdout",
     "output_type": "stream",
     "text": [
      "Branch 201:\n",
      "width = {'median_mesh_center': 55.105065062492656, 'no_spine_median_mesh_center': 55.105065062492656, 'no_bouton_median': 54.329591673521904}, \n",
      "n_boutons = 1,\n",
      "skeleton_length (in microns) = 13.23998282920901\n",
      "area = 7.966232576286011\n"
     ]
    },
    {
     "data": {
      "application/vnd.jupyter.widget-view+json": {
       "model_id": "cde76055f2604215947c7cabe090944a",
       "version_major": 2,
       "version_minor": 0
      },
      "text/plain": [
       "VBox(children=(Figure(camera=PerspectiveCamera(fov=46.0, position=(0.0, 0.0, 2.0), projectionMatrix=(1.0, 0.0,…"
      ]
     },
     "metadata": {},
     "output_type": "display_data"
    },
    {
     "name": "stdout",
     "output_type": "stream",
     "text": [
      "Branch 202:\n",
      "width = {'median_mesh_center': 81.21958921474048, 'no_spine_median_mesh_center': 81.21958921474048, 'no_bouton_median': 71.43840606409488}, \n",
      "n_boutons = 1,\n",
      "skeleton_length (in microns) = 7.177023213392976\n",
      "area = 5.609573609002603\n"
     ]
    },
    {
     "data": {
      "application/vnd.jupyter.widget-view+json": {
       "model_id": "61c53353eec145d896f514ccda8e33c5",
       "version_major": 2,
       "version_minor": 0
      },
      "text/plain": [
       "VBox(children=(Figure(camera=PerspectiveCamera(fov=46.0, position=(0.0, 0.0, 2.0), projectionMatrix=(1.0, 0.0,…"
      ]
     },
     "metadata": {},
     "output_type": "display_data"
    },
    {
     "name": "stdout",
     "output_type": "stream",
     "text": [
      "Branch 203:\n",
      "No boutons to plot\n",
      "width = {'median_mesh_center': 68.1231045152641, 'no_spine_median_mesh_center': 68.1231045152641, 'no_bouton_median': 68.1231045152641}, \n",
      "n_boutons = 0,\n",
      "skeleton_length (in microns) = 2.872279976007936\n",
      "area = 2.3834528702048807\n"
     ]
    },
    {
     "data": {
      "application/vnd.jupyter.widget-view+json": {
       "model_id": "872966177a31477db84c3474f380f69d",
       "version_major": 2,
       "version_minor": 0
      },
      "text/plain": [
       "VBox(children=(Figure(camera=PerspectiveCamera(fov=46.0, position=(0.0, 0.0, 2.0), projectionMatrix=(1.0, 0.0,…"
      ]
     },
     "metadata": {},
     "output_type": "display_data"
    },
    {
     "name": "stdout",
     "output_type": "stream",
     "text": [
      "Branch 204:\n",
      "No boutons to plot\n",
      "width = {'median_mesh_center': 73.28560065406458, 'no_spine_median_mesh_center': 73.28560065406458, 'no_bouton_median': 73.28560065406458}, \n",
      "n_boutons = 0,\n",
      "skeleton_length (in microns) = 5.596428647506561\n",
      "area = 3.5518673207294\n"
     ]
    },
    {
     "data": {
      "application/vnd.jupyter.widget-view+json": {
       "model_id": "2b1b6e16e52e423dbecff823e2a73d3f",
       "version_major": 2,
       "version_minor": 0
      },
      "text/plain": [
       "VBox(children=(Figure(camera=PerspectiveCamera(fov=46.0, position=(0.0, 0.0, 2.0), projectionMatrix=(1.0, 0.0,…"
      ]
     },
     "metadata": {},
     "output_type": "display_data"
    },
    {
     "name": "stdout",
     "output_type": "stream",
     "text": [
      "Branch 205:\n",
      "width = {'median_mesh_center': 62.489472690448906, 'no_spine_median_mesh_center': 62.489472690448906, 'no_bouton_median': 62.32705630571049}, \n",
      "n_boutons = 1,\n",
      "skeleton_length (in microns) = 30.730819629073274\n",
      "area = 17.507151560305537\n"
     ]
    },
    {
     "data": {
      "application/vnd.jupyter.widget-view+json": {
       "model_id": "ff5734213620433b96d00e07578e7366",
       "version_major": 2,
       "version_minor": 0
      },
      "text/plain": [
       "VBox(children=(Figure(camera=PerspectiveCamera(fov=46.0, position=(0.0, 0.0, 2.0), projectionMatrix=(1.0, 0.0,…"
      ]
     },
     "metadata": {},
     "output_type": "display_data"
    },
    {
     "name": "stdout",
     "output_type": "stream",
     "text": [
      "Branch 206:\n",
      "width = {'median_mesh_center': 96.4635837978665, 'no_spine_median_mesh_center': 96.4635837978665, 'no_bouton_median': 82.5251764640407}, \n",
      "n_boutons = 24,\n",
      "skeleton_length (in microns) = 95.35040431091511\n",
      "area = 81.65812010772243\n"
     ]
    },
    {
     "data": {
      "application/vnd.jupyter.widget-view+json": {
       "model_id": "bdffdc6bf52d4fbd92901a45f819dcba",
       "version_major": 2,
       "version_minor": 0
      },
      "text/plain": [
       "VBox(children=(Figure(camera=PerspectiveCamera(fov=46.0, position=(0.0, 0.0, 2.0), projectionMatrix=(1.0, 0.0,…"
      ]
     },
     "metadata": {},
     "output_type": "display_data"
    },
    {
     "name": "stdout",
     "output_type": "stream",
     "text": [
      "Branch 215:\n",
      "No boutons to plot\n",
      "width = {'median_mesh_center': 79.97815376915433, 'no_spine_median_mesh_center': 79.97815376915433, 'no_bouton_median': 79.97815376915433}, \n",
      "n_boutons = 0,\n",
      "skeleton_length (in microns) = 4.231014502088096\n",
      "area = 2.674739811277842\n"
     ]
    },
    {
     "data": {
      "application/vnd.jupyter.widget-view+json": {
       "model_id": "ff082fc28c094f9bbee05cb87a7c6cb7",
       "version_major": 2,
       "version_minor": 0
      },
      "text/plain": [
       "VBox(children=(Figure(camera=PerspectiveCamera(fov=46.0, position=(0.0, 0.0, 2.0), projectionMatrix=(1.0, 0.0,…"
      ]
     },
     "metadata": {},
     "output_type": "display_data"
    },
    {
     "name": "stdout",
     "output_type": "stream",
     "text": [
      "Branch 225:\n",
      "No boutons to plot\n",
      "width = {'median_mesh_center': 61.554317101069984, 'no_spine_median_mesh_center': 61.554317101069984, 'no_bouton_median': 61.554317101069984}, \n",
      "n_boutons = 0,\n",
      "skeleton_length (in microns) = 9.171479041102499\n",
      "area = 6.51972313744994\n"
     ]
    },
    {
     "data": {
      "application/vnd.jupyter.widget-view+json": {
       "model_id": "bf34b57625b0446e99a338a422fa529a",
       "version_major": 2,
       "version_minor": 0
      },
      "text/plain": [
       "VBox(children=(Figure(camera=PerspectiveCamera(fov=46.0, position=(0.0, 0.0, 2.0), projectionMatrix=(1.0, 0.0,…"
      ]
     },
     "metadata": {},
     "output_type": "display_data"
    },
    {
     "name": "stdout",
     "output_type": "stream",
     "text": [
      "Branch 226:\n",
      "No boutons to plot\n",
      "width = {'median_mesh_center': 89.44114521968132, 'no_spine_median_mesh_center': 89.44114521968132, 'no_bouton_median': 89.44114521968132}, \n",
      "n_boutons = 0,\n",
      "skeleton_length (in microns) = 4.029544814065714\n",
      "area = 4.742516265537044\n"
     ]
    },
    {
     "data": {
      "application/vnd.jupyter.widget-view+json": {
       "model_id": "775caebcc69447cabae7a39eb0121ce4",
       "version_major": 2,
       "version_minor": 0
      },
      "text/plain": [
       "VBox(children=(Figure(camera=PerspectiveCamera(fov=46.0, position=(0.0, 0.0, 2.0), projectionMatrix=(1.0, 0.0,…"
      ]
     },
     "metadata": {},
     "output_type": "display_data"
    },
    {
     "name": "stdout",
     "output_type": "stream",
     "text": [
      "Branch 281:\n",
      "No boutons to plot\n",
      "width = {'median_mesh_center': 54.01629215672335, 'no_spine_median_mesh_center': 54.01629215672335, 'no_bouton_median': 54.01629215672335}, \n",
      "n_boutons = 0,\n",
      "skeleton_length (in microns) = 1.8366515251736644\n",
      "area = 1.1141174223114048\n"
     ]
    },
    {
     "data": {
      "application/vnd.jupyter.widget-view+json": {
       "model_id": "d333322e59474d2dae80f4d4875866fb",
       "version_major": 2,
       "version_minor": 0
      },
      "text/plain": [
       "VBox(children=(Figure(camera=PerspectiveCamera(fov=46.0, position=(0.0, 0.0, 2.0), projectionMatrix=(1.0, 0.0,…"
      ]
     },
     "metadata": {},
     "output_type": "display_data"
    }
   ],
   "source": [
    "for b in error_branches:\n",
    "    print(f\"Branch {b}:\")\n",
    "    nviz.plot_branches_with_boutons(neuron_obj_axon[0][b])"
   ]
  },
  {
   "cell_type": "code",
   "execution_count": 178,
   "metadata": {},
   "outputs": [],
   "source": [
    "thin_fork_branch = 205"
   ]
  },
  {
   "cell_type": "code",
   "execution_count": 179,
   "metadata": {
    "scrolled": true
   },
   "outputs": [
    {
     "name": "stdout",
     "output_type": "stream",
     "text": [
      "\n",
      " Working on visualization type: skeleton\n",
      "\n",
      " Working on visualization type: mesh\n"
     ]
    },
    {
     "data": {
      "application/vnd.jupyter.widget-view+json": {
       "model_id": "4360a39e24ef4aabad27467d1edff796",
       "version_major": 2,
       "version_minor": 0
      },
      "text/plain": [
       "VBox(children=(Figure(camera=PerspectiveCamera(fov=46.0, position=(0.0, 0.0, 2.0), projectionMatrix=(1.0, 0.0,…"
      ]
     },
     "metadata": {},
     "output_type": "display_data"
    }
   ],
   "source": [
    "nviz.visualize_neuron(neuron_obj_axon,\n",
    "                      visualize_type=[\"skeleton\",\"mesh\"],\n",
    "                     limb_branch_dict=dict(L0=[thin_fork_branch]),\n",
    "                     mesh_whole_neuron=True)"
   ]
  },
  {
   "cell_type": "code",
   "execution_count": 134,
   "metadata": {
    "scrolled": true
   },
   "outputs": [
    {
     "name": "stdout",
     "output_type": "stream",
     "text": [
      "Saving Neuorn in suppress_output mode...please wait\n",
      "Saved File at location: 864691136105498585_fork_test\n"
     ]
    }
   ],
   "source": [
    "# neuron_obj_axon.save_compressed_neuron(\"./\",file_name=f\"{neuron_obj.segment_id}_fork_test\",\n",
    "#                                        export_mesh=True)"
   ]
  },
  {
   "cell_type": "markdown",
   "metadata": {},
   "source": [
    "# Examples of How to Run Fork Divergence"
   ]
  },
  {
   "cell_type": "code",
   "execution_count": 299,
   "metadata": {},
   "outputs": [
    {
     "data": {
      "text/plain": [
       "5194.6980293320985"
      ]
     },
     "execution_count": 299,
     "metadata": {},
     "output_type": "execute_result"
    }
   ],
   "source": [
    "# import numpy_utils as nu\n",
    "# nu.turn_off_scientific_notation()\n",
    "# nst.fork_divergence_from_skeletons(upstream_skeleton=limb_obj[289].skeleton,\n",
    "#                     downstream_skeletons=[limb_obj[k].skeleton for k in [12, 290]],\n",
    "#                                   verbose = False)"
   ]
  },
  {
   "cell_type": "code",
   "execution_count": 328,
   "metadata": {},
   "outputs": [
    {
     "data": {
      "text/plain": [
       "432.9941756354334"
      ]
     },
     "execution_count": 328,
     "metadata": {},
     "output_type": "execute_result"
    }
   ],
   "source": [
    "# import neuron_statistics as nst\n",
    "# # nst.fork_divergence(upstream_skeleton = upstream_sk,\n",
    "# #                     downstream_skeletons = downstream_sk,\n",
    "# #                     comparison_distance = 500,\n",
    "# #                     skeletal_segment_size = 50,\n",
    "# #                     plot_restrictions = True,\n",
    "# #                     combining_function = np.mean)\n",
    "\n",
    "# nst.fork_divergence_from_branch(branch_idx = 206,\n",
    "#     limb_obj = neuron_obj_axon[neuron_obj_axon.axon_limb_name],\n",
    "#     verbose = False,\n",
    "#     plot_fork_skeleton = False,)"
   ]
  },
  {
   "cell_type": "markdown",
   "metadata": {},
   "source": [
    "# Searching over the neuron object for fork divergences"
   ]
  },
  {
   "cell_type": "code",
   "execution_count": 439,
   "metadata": {
    "scrolled": true
   },
   "outputs": [
    {
     "data": {
      "text/html": [
       "<div>\n",
       "<style scoped>\n",
       "    .dataframe tbody tr th:only-of-type {\n",
       "        vertical-align: middle;\n",
       "    }\n",
       "\n",
       "    .dataframe tbody tr th {\n",
       "        vertical-align: top;\n",
       "    }\n",
       "\n",
       "    .dataframe thead th {\n",
       "        text-align: right;\n",
       "    }\n",
       "</style>\n",
       "<table border=\"1\" class=\"dataframe\">\n",
       "  <thead>\n",
       "    <tr style=\"text-align: right;\">\n",
       "      <th></th>\n",
       "      <th>limb</th>\n",
       "      <th>node</th>\n",
       "      <th>fork_divergence</th>\n",
       "    </tr>\n",
       "  </thead>\n",
       "  <tbody>\n",
       "    <tr>\n",
       "      <th>69</th>\n",
       "      <td>L0</td>\n",
       "      <td>72</td>\n",
       "      <td>143.055137</td>\n",
       "    </tr>\n",
       "    <tr>\n",
       "      <th>75</th>\n",
       "      <td>L0</td>\n",
       "      <td>78</td>\n",
       "      <td>143.055137</td>\n",
       "    </tr>\n",
       "    <tr>\n",
       "      <th>175</th>\n",
       "      <td>L0</td>\n",
       "      <td>205</td>\n",
       "      <td>111.977520</td>\n",
       "    </tr>\n",
       "    <tr>\n",
       "      <th>177</th>\n",
       "      <td>L0</td>\n",
       "      <td>207</td>\n",
       "      <td>111.977520</td>\n",
       "    </tr>\n",
       "  </tbody>\n",
       "</table>\n",
       "</div>"
      ],
      "text/plain": [
       "    limb  node  fork_divergence\n",
       "69    L0    72       143.055137\n",
       "75    L0    78       143.055137\n",
       "175   L0   205       111.977520\n",
       "177   L0   207       111.977520"
      ]
     },
     "execution_count": 439,
     "metadata": {},
     "output_type": "execute_result"
    }
   ],
   "source": [
    "import neuron_searching as ns\n",
    "\n",
    "two_downstream_limb_branch = ns.query_neuron(neuron_obj_axon,\n",
    "               functions_list = [\"n_siblings\"],\n",
    "               query = \"n_siblings == 1\",\n",
    "               return_dataframe=False,\n",
    "               limbs_to_process=[neuron_obj_axon.axon_limb_name])\n",
    "\n",
    "fork_div_limb_branch = ns.query_neuron(neuron_obj_axon,\n",
    "               functions_list = [\"fork_divergence\"],\n",
    "               query = \"fork_divergence < 165\",\n",
    "               return_dataframe=False,\n",
    "                limb_branch_dict_restriction=two_downstream_limb_branch,\n",
    "               limbs_to_process=[neuron_obj_axon.axon_limb_name])\n",
    "\n",
    "\"\"\"\n",
    "Maybe a good threshold is 160??\n",
    "\n",
    "\n",
    "\"\"\"\n",
    "fork_div_limb_branch"
   ]
  },
  {
   "cell_type": "code",
   "execution_count": 441,
   "metadata": {},
   "outputs": [
    {
     "data": {
      "text/html": [
       "\n",
       "        \n",
       "        <style type=\"text/css\">\n",
       "            .Relation{\n",
       "                border-collapse:collapse;\n",
       "            }\n",
       "            .Relation th{\n",
       "                background: #A0A0A0; color: #ffffff; padding:4px; border:#f0e0e0 1px solid;\n",
       "                font-weight: normal; font-family: monospace; font-size: 100%;\n",
       "            }\n",
       "            .Relation td{\n",
       "                padding:4px; border:#f0e0e0 1px solid; font-size:100%;\n",
       "            }\n",
       "            .Relation tr:nth-child(odd){\n",
       "                background: #ffffff;\n",
       "            }\n",
       "            .Relation tr:nth-child(even){\n",
       "                background: #f3f1ff;\n",
       "            }\n",
       "            /* Tooltip container */\n",
       "            .djtooltip {\n",
       "            }\n",
       "            /* Tooltip text */\n",
       "            .djtooltip .djtooltiptext {\n",
       "                visibility: hidden;\n",
       "                width: 120px;\n",
       "                background-color: black;\n",
       "                color: #fff;\n",
       "                text-align: center;\n",
       "                padding: 5px 0;\n",
       "                border-radius: 6px;\n",
       "                /* Position the tooltip text - see examples below! */\n",
       "                position: absolute;\n",
       "                z-index: 1;\n",
       "            }\n",
       "            #primary {\n",
       "                font-weight: bold;\n",
       "                color: black;\n",
       "            }\n",
       "\n",
       "            #nonprimary {\n",
       "                font-weight: normal;\n",
       "                color: white;\n",
       "            }\n",
       "\n",
       "            /* Show the tooltip text when you mouse over the tooltip container */\n",
       "            .djtooltip:hover .djtooltiptext {\n",
       "                visibility: visible;\n",
       "            }\n",
       "        </style>\n",
       "        \n",
       "        <b></b>\n",
       "            <div style=\"max-height:1000px;max-width:1500px;overflow:auto;\">\n",
       "            <table border=\"1\" class=\"Relation\">\n",
       "                <thead> <tr style=\"text-align: right;\"> <th> <div class=\"djtooltip\">\n",
       "                                <p id=\"primary\">segment_id</p>\n",
       "                                <span class=\"djtooltiptext\">segment id unique within each Segmentation</span>\n",
       "                            </div></th><th><div class=\"djtooltip\">\n",
       "                                <p id=\"primary\">decimation_version</p>\n",
       "                                <span class=\"djtooltiptext\"></span>\n",
       "                            </div></th><th><div class=\"djtooltip\">\n",
       "                                <p id=\"primary\">decimation_ratio</p>\n",
       "                                <span class=\"djtooltiptext\">ratio of remaining mesh vertices/faces (which ones depends on what metric the decimation technique uses)</span>\n",
       "                            </div></th><th><div class=\"djtooltip\">\n",
       "                                <p id=\"primary\">ver</p>\n",
       "                                <span class=\"djtooltiptext\">the version number of the materializaiton</span>\n",
       "                            </div></th><th><div class=\"djtooltip\">\n",
       "                                <p id=\"primary\">process_version</p>\n",
       "                                <span class=\"djtooltiptext\">the version of the preprocessing pipeline run</span>\n",
       "                            </div></th><th><div class=\"djtooltip\">\n",
       "                                <p id=\"primary\">index</p>\n",
       "                                <span class=\"djtooltiptext\">the index of the neuron object that resulted from that mesh (indexed starting at 0)</span>\n",
       "                            </div></th><th><div class=\"djtooltip\">\n",
       "                                <p id=\"primary\">split_index</p>\n",
       "                                <span class=\"djtooltiptext\">the index of the neuron object that resulted AFTER THE SPLITTING ALGORITHM</span>\n",
       "                            </div></th><th><div class=\"djtooltip\">\n",
       "                                <p id=\"primary\">proof_version</p>\n",
       "                                <span class=\"djtooltiptext\">the version of code used for this cell typing classification</span>\n",
       "                            </div></th><th><div class=\"djtooltip\">\n",
       "                                <p id=\"primary\">axon_version</p>\n",
       "                                <span class=\"djtooltiptext\"></span>\n",
       "                            </div></th><th><div class=\"djtooltip\">\n",
       "                                <p id=\"primary\">parent_idx</p>\n",
       "                                <span class=\"djtooltiptext\"></span>\n",
       "                            </div></th><th><div class=\"djtooltip\">\n",
       "                                <p id=\"nonprimary\">n_downstream</p>\n",
       "                                <span class=\"djtooltiptext\"></span>\n",
       "                            </div></th><th><div class=\"djtooltip\">\n",
       "                                <p id=\"nonprimary\">web_size_faces</p>\n",
       "                                <span class=\"djtooltiptext\"></span>\n",
       "                            </div></th><th><div class=\"djtooltip\">\n",
       "                                <p id=\"nonprimary\">web_size_volume</p>\n",
       "                                <span class=\"djtooltiptext\"></span>\n",
       "                            </div></th><th><div class=\"djtooltip\">\n",
       "                                <p id=\"nonprimary\">web_size_skeleton</p>\n",
       "                                <span class=\"djtooltiptext\"></span>\n",
       "                            </div></th><th><div class=\"djtooltip\">\n",
       "                                <p id=\"nonprimary\">web_size_ray_trace_percentile</p>\n",
       "                                <span class=\"djtooltiptext\"></span>\n",
       "                            </div></th><th><div class=\"djtooltip\">\n",
       "                                <p id=\"nonprimary\">web_bbox_ratios_max</p>\n",
       "                                <span class=\"djtooltiptext\"></span>\n",
       "                            </div></th><th><div class=\"djtooltip\">\n",
       "                                <p id=\"nonprimary\">web_bbox_ratios_min</p>\n",
       "                                <span class=\"djtooltiptext\"></span>\n",
       "                            </div></th><th><div class=\"djtooltip\">\n",
       "                                <p id=\"nonprimary\">web_volume_ratio</p>\n",
       "                                <span class=\"djtooltiptext\"></span>\n",
       "                            </div></th><th><div class=\"djtooltip\">\n",
       "                                <p id=\"nonprimary\">web_cdf</p>\n",
       "                                <span class=\"djtooltiptext\"></span>\n",
       "                            </div></th><th><div class=\"djtooltip\">\n",
       "                                <p id=\"nonprimary\">parent_n_large_boutons</p>\n",
       "                                <span class=\"djtooltiptext\"></span>\n",
       "                            </div></th><th><div class=\"djtooltip\">\n",
       "                                <p id=\"nonprimary\">parent_n_boutons</p>\n",
       "                                <span class=\"djtooltiptext\"></span>\n",
       "                            </div></th><th><div class=\"djtooltip\">\n",
       "                                <p id=\"nonprimary\">parent_no_bouton_median</p>\n",
       "                                <span class=\"djtooltiptext\"></span>\n",
       "                            </div></th><th><div class=\"djtooltip\">\n",
       "                                <p id=\"nonprimary\">parent_no_spine_median_mesh_center</p>\n",
       "                                <span class=\"djtooltiptext\"></span>\n",
       "                            </div></th><th><div class=\"djtooltip\">\n",
       "                                <p id=\"nonprimary\">child_no_bouton_median_min</p>\n",
       "                                <span class=\"djtooltiptext\"></span>\n",
       "                            </div></th><th><div class=\"djtooltip\">\n",
       "                                <p id=\"nonprimary\">child_no_bouton_median_diff_min</p>\n",
       "                                <span class=\"djtooltiptext\"></span>\n",
       "                            </div></th><th><div class=\"djtooltip\">\n",
       "                                <p id=\"nonprimary\">child_no_spine_median_mesh_center_min</p>\n",
       "                                <span class=\"djtooltiptext\"></span>\n",
       "                            </div></th><th><div class=\"djtooltip\">\n",
       "                                <p id=\"nonprimary\">child_no_spine_median_mesh_center_diff_min</p>\n",
       "                                <span class=\"djtooltiptext\"></span>\n",
       "                            </div></th><th><div class=\"djtooltip\">\n",
       "                                <p id=\"nonprimary\">child_angle_min</p>\n",
       "                                <span class=\"djtooltiptext\"></span>\n",
       "                            </div></th><th><div class=\"djtooltip\">\n",
       "                                <p id=\"nonprimary\">child_n_boutons_min</p>\n",
       "                                <span class=\"djtooltiptext\"></span>\n",
       "                            </div></th><th><div class=\"djtooltip\">\n",
       "                                <p id=\"nonprimary\">child_n_large_boutons_min</p>\n",
       "                                <span class=\"djtooltiptext\"></span>\n",
       "                            </div></th><th><div class=\"djtooltip\">\n",
       "                                <p id=\"nonprimary\">child_no_bouton_median_max</p>\n",
       "                                <span class=\"djtooltiptext\"></span>\n",
       "                            </div></th><th><div class=\"djtooltip\">\n",
       "                                <p id=\"nonprimary\">child_no_bouton_median_diff_max</p>\n",
       "                                <span class=\"djtooltiptext\"></span>\n",
       "                            </div></th><th><div class=\"djtooltip\">\n",
       "                                <p id=\"nonprimary\">child_no_spine_median_mesh_center_max</p>\n",
       "                                <span class=\"djtooltiptext\"></span>\n",
       "                            </div></th><th><div class=\"djtooltip\">\n",
       "                                <p id=\"nonprimary\">child_no_spine_median_mesh_center_diff_max</p>\n",
       "                                <span class=\"djtooltiptext\"></span>\n",
       "                            </div></th><th><div class=\"djtooltip\">\n",
       "                                <p id=\"nonprimary\">child_angle_max</p>\n",
       "                                <span class=\"djtooltiptext\"></span>\n",
       "                            </div></th><th><div class=\"djtooltip\">\n",
       "                                <p id=\"nonprimary\">child_n_boutons_max</p>\n",
       "                                <span class=\"djtooltiptext\"></span>\n",
       "                            </div></th><th><div class=\"djtooltip\">\n",
       "                                <p id=\"nonprimary\">child_n_large_boutons_max</p>\n",
       "                                <span class=\"djtooltiptext\"></span>\n",
       "                            </div></th><th><div class=\"djtooltip\">\n",
       "                                <p id=\"nonprimary\">sibling_angles_min</p>\n",
       "                                <span class=\"djtooltiptext\"></span>\n",
       "                            </div></th><th><div class=\"djtooltip\">\n",
       "                                <p id=\"nonprimary\">sibling_angles_max</p>\n",
       "                                <span class=\"djtooltiptext\"></span>\n",
       "                            </div></th><th><div class=\"djtooltip\">\n",
       "                                <p id=\"nonprimary\">label</p>\n",
       "                                <span class=\"djtooltiptext\"></span>\n",
       "                            </div> </th> </tr> </thead>\n",
       "                <tbody> <tr>  </tr> </tbody>\n",
       "            </table>\n",
       "            \n",
       "            <p>Total: 0</p></div>\n",
       "            "
      ],
      "text/plain": [
       "*segment_id    *decimation_ve *decimation_ra *ver    *process_versi *index    *split_index   *proof_version *axon_version  *parent_idx    n_downstream   web_size_faces web_size_volum web_size_skele web_size_ray_t web_bbox_ratio web_bbox_ratio web_volume_rat web_cdf     parent_n_large parent_n_bouto parent_no_bout parent_no_spin child_no_bouto child_no_bouto child_no_spine child_no_spine child_angle_mi child_n_bouton child_n_large_ child_no_bouto child_no_bouto child_no_spine child_no_spine child_angle_ma child_n_bouton child_n_large_ sibling_angles sibling_angles label    \n",
       "+------------+ +------------+ +------------+ +-----+ +------------+ +-------+ +------------+ +------------+ +------------+ +------------+ +------------+ +------------+ +------------+ +------------+ +------------+ +------------+ +------------+ +------------+ +---------+ +------------+ +------------+ +------------+ +------------+ +------------+ +------------+ +------------+ +------------+ +------------+ +------------+ +------------+ +------------+ +------------+ +------------+ +------------+ +------------+ +------------+ +------------+ +------------+ +------------+ +-------+\n",
       "\n",
       " (Total: 0)"
      ]
     },
     "execution_count": 441,
     "metadata": {},
     "output_type": "execute_result"
    }
   ],
   "source": [
    "minnie.AutoProofreadValidationBorder()"
   ]
  },
  {
   "cell_type": "code",
   "execution_count": 387,
   "metadata": {},
   "outputs": [
    {
     "data": {
      "text/html": [
       "<div>\n",
       "<style scoped>\n",
       "    .dataframe tbody tr th:only-of-type {\n",
       "        vertical-align: middle;\n",
       "    }\n",
       "\n",
       "    .dataframe tbody tr th {\n",
       "        vertical-align: top;\n",
       "    }\n",
       "\n",
       "    .dataframe thead th {\n",
       "        text-align: right;\n",
       "    }\n",
       "</style>\n",
       "<table border=\"1\" class=\"dataframe\">\n",
       "  <thead>\n",
       "    <tr style=\"text-align: right;\">\n",
       "      <th></th>\n",
       "      <th>limb</th>\n",
       "      <th>node</th>\n",
       "      <th>fork_divergence</th>\n",
       "    </tr>\n",
       "  </thead>\n",
       "  <tbody>\n",
       "    <tr>\n",
       "      <th>31</th>\n",
       "      <td>L4</td>\n",
       "      <td>48</td>\n",
       "      <td>139.598012</td>\n",
       "    </tr>\n",
       "    <tr>\n",
       "      <th>35</th>\n",
       "      <td>L4</td>\n",
       "      <td>55</td>\n",
       "      <td>139.598012</td>\n",
       "    </tr>\n",
       "  </tbody>\n",
       "</table>\n",
       "</div>"
      ],
      "text/plain": [
       "   limb  node  fork_divergence\n",
       "31   L4    48       139.598012\n",
       "35   L4    55       139.598012"
      ]
     },
     "execution_count": 387,
     "metadata": {},
     "output_type": "execute_result"
    }
   ],
   "source": [
    "minnie.AutoPro"
   ]
  },
  {
   "cell_type": "code",
   "execution_count": 388,
   "metadata": {},
   "outputs": [
    {
     "data": {
      "text/plain": [
       "'L4'"
      ]
     },
     "execution_count": 388,
     "metadata": {},
     "output_type": "execute_result"
    }
   ],
   "source": [
    "neuron_obj_axon.axon_limb_name"
   ]
  },
  {
   "cell_type": "code",
   "execution_count": 440,
   "metadata": {},
   "outputs": [
    {
     "name": "stdout",
     "output_type": "stream",
     "text": [
      "\n",
      " Working on visualization type: mesh\n",
      "\n",
      " Working on visualization type: skeleton\n"
     ]
    },
    {
     "data": {
      "application/vnd.jupyter.widget-view+json": {
       "model_id": "2d8ba5e940694088a90e39bc3cdd7086",
       "version_major": 2,
       "version_minor": 0
      },
      "text/plain": [
       "VBox(children=(Figure(camera=PerspectiveCamera(fov=46.0, position=(0.0, 0.0, 2.0), projectionMatrix=(1.0, 0.0,…"
      ]
     },
     "metadata": {},
     "output_type": "display_data"
    }
   ],
   "source": [
    "nviz.visualize_neuron(neuron_obj_axon,\n",
    "                     limb_branch_dict={neuron_obj_axon.axon_limb_name:[72,78]},\n",
    "                     mesh_whole_neuron=True)"
   ]
  },
  {
   "cell_type": "code",
   "execution_count": 399,
   "metadata": {},
   "outputs": [
    {
     "data": {
      "text/plain": [
       "864691135724333739"
      ]
     },
     "execution_count": 399,
     "metadata": {},
     "output_type": "execute_result"
    }
   ],
   "source": [
    "vu.old_to_new_segment_id(864691135564655959)"
   ]
  },
  {
   "cell_type": "code",
   "execution_count": 402,
   "metadata": {},
   "outputs": [
    {
     "data": {
      "text/html": [
       "\n",
       "        \n",
       "        <style type=\"text/css\">\n",
       "            .Relation{\n",
       "                border-collapse:collapse;\n",
       "            }\n",
       "            .Relation th{\n",
       "                background: #A0A0A0; color: #ffffff; padding:4px; border:#f0e0e0 1px solid;\n",
       "                font-weight: normal; font-family: monospace; font-size: 100%;\n",
       "            }\n",
       "            .Relation td{\n",
       "                padding:4px; border:#f0e0e0 1px solid; font-size:100%;\n",
       "            }\n",
       "            .Relation tr:nth-child(odd){\n",
       "                background: #ffffff;\n",
       "            }\n",
       "            .Relation tr:nth-child(even){\n",
       "                background: #f3f1ff;\n",
       "            }\n",
       "            /* Tooltip container */\n",
       "            .djtooltip {\n",
       "            }\n",
       "            /* Tooltip text */\n",
       "            .djtooltip .djtooltiptext {\n",
       "                visibility: hidden;\n",
       "                width: 120px;\n",
       "                background-color: black;\n",
       "                color: #fff;\n",
       "                text-align: center;\n",
       "                padding: 5px 0;\n",
       "                border-radius: 6px;\n",
       "                /* Position the tooltip text - see examples below! */\n",
       "                position: absolute;\n",
       "                z-index: 1;\n",
       "            }\n",
       "            #primary {\n",
       "                font-weight: bold;\n",
       "                color: black;\n",
       "            }\n",
       "\n",
       "            #nonprimary {\n",
       "                font-weight: normal;\n",
       "                color: white;\n",
       "            }\n",
       "\n",
       "            /* Show the tooltip text when you mouse over the tooltip container */\n",
       "            .djtooltip:hover .djtooltiptext {\n",
       "                visibility: visible;\n",
       "            }\n",
       "        </style>\n",
       "        \n",
       "        <b></b>\n",
       "            <div style=\"max-height:1000px;max-width:1500px;overflow:auto;\">\n",
       "            <table border=\"1\" class=\"Relation\">\n",
       "                <thead> <tr style=\"text-align: right;\"> <th> <div class=\"djtooltip\">\n",
       "                                <p id=\"primary\">ver</p>\n",
       "                                <span class=\"djtooltiptext\">materialization version</span>\n",
       "                            </div></th><th><div class=\"djtooltip\">\n",
       "                                <p id=\"primary\">nucleus_id</p>\n",
       "                                <span class=\"djtooltiptext\">nucleus id</span>\n",
       "                            </div></th><th><div class=\"djtooltip\">\n",
       "                                <p id=\"primary\">segment_id</p>\n",
       "                                <span class=\"djtooltiptext\">the segment id in the proofread version</span>\n",
       "                            </div></th><th><div class=\"djtooltip\">\n",
       "                                <p id=\"primary\">old_ver</p>\n",
       "                                <span class=\"djtooltiptext\">materialization version</span>\n",
       "                            </div></th><th><div class=\"djtooltip\">\n",
       "                                <p id=\"primary\">old_segment_id</p>\n",
       "                                <span class=\"djtooltiptext\">the segment id in the proofread version--</span>\n",
       "                            </div> </th> </tr> </thead>\n",
       "                <tbody> <tr> <td>49.00</td>\n",
       "<td>225498</td>\n",
       "<td>864691135724333739</td>\n",
       "<td>0.08</td>\n",
       "<td>864691135564655959</td></tr><tr><td>49.00</td>\n",
       "<td>258307</td>\n",
       "<td>864691135293126156</td>\n",
       "<td>0.08</td>\n",
       "<td>864691136194042326</td></tr><tr><td>49.00</td>\n",
       "<td>262773</td>\n",
       "<td>864691136023889209</td>\n",
       "<td>0.08</td>\n",
       "<td>864691135233108569</td></tr><tr><td>49.00</td>\n",
       "<td>264870</td>\n",
       "<td>864691136951664863</td>\n",
       "<td>0.08</td>\n",
       "<td>864691135740225387</td></tr><tr><td>49.00</td>\n",
       "<td>269247</td>\n",
       "<td>864691135462463389</td>\n",
       "<td>0.08</td>\n",
       "<td>864691136105498585</td></tr><tr><td>49.00</td>\n",
       "<td>271518</td>\n",
       "<td>864691136108768952</td>\n",
       "<td>0.08</td>\n",
       "<td>864691136333776819</td></tr><tr><td>49.00</td>\n",
       "<td>294545</td>\n",
       "<td>864691135517422218</td>\n",
       "<td>0.08</td>\n",
       "<td>864691135771629819</td></tr><tr><td>49.00</td>\n",
       "<td>296726</td>\n",
       "<td>864691136194248918</td>\n",
       "<td>0.08</td>\n",
       "<td>864691135748575017</td></tr><tr><td>49.00</td>\n",
       "<td>300763</td>\n",
       "<td>864691136116205476</td>\n",
       "<td>0.08</td>\n",
       "<td>864691136105484249</td></tr><tr><td>49.00</td>\n",
       "<td>301095</td>\n",
       "<td>864691135446675028</td>\n",
       "<td>0.08</td>\n",
       "<td>864691135212632448</td></tr><tr><td>49.00</td>\n",
       "<td>330079</td>\n",
       "<td>864691135564752471</td>\n",
       "<td>0.08</td>\n",
       "<td>864691136311740477</td></tr><tr><td>49.00</td>\n",
       "<td>330326</td>\n",
       "<td>864691136378815445</td>\n",
       "<td>0.08</td>\n",
       "<td>864691135491233631</td></tr><tr><td>49.00</td>\n",
       "<td>331945</td>\n",
       "<td>864691135953898760</td>\n",
       "<td>0.08</td>\n",
       "<td>864691135945413668</td></tr><tr><td>49.00</td>\n",
       "<td>332199</td>\n",
       "<td>864691137019596142</td>\n",
       "<td>0.08</td>\n",
       "<td>864691135393964789</td></tr><tr><td>49.00</td>\n",
       "<td>335175</td>\n",
       "<td>864691135367058169</td>\n",
       "<td>0.08</td>\n",
       "<td>864691135113167769</td></tr><tr><td>49.00</td>\n",
       "<td>460053</td>\n",
       "<td>864691135617953423</td>\n",
       "<td>0.08</td>\n",
       "<td>864691136105493209</td></tr><tr><td>49.00</td>\n",
       "<td>460391</td>\n",
       "<td>864691135508879113</td>\n",
       "<td>0.08</td>\n",
       "<td>864691135272164113</td></tr><tr><td>49.00</td>\n",
       "<td>487512</td>\n",
       "<td>864691135272206865</td>\n",
       "<td>0.08</td>\n",
       "<td>864691136618403213</td></tr><tr><td>49.00</td>\n",
       "<td>489675</td>\n",
       "<td>864691135440543560</td>\n",
       "<td>0.08</td>\n",
       "<td>864691135974454639</td></tr><tr><td>49.00</td>\n",
       "<td>493419</td>\n",
       "<td>864691135865773189</td>\n",
       "<td>0.08</td>\n",
       "<td>864691136003930314</td></tr><tr><td>49.00</td>\n",
       "<td>493968</td>\n",
       "<td>864691135117980637</td>\n",
       "<td>0.08</td>\n",
       "<td>864691135974454383</td></tr><tr><td>49.00</td>\n",
       "<td>516758</td>\n",
       "<td>864691135644809967</td>\n",
       "<td>0.08</td>\n",
       "<td>864691136537220258</td></tr><tr><td>49.00</td>\n",
       "<td>518848</td>\n",
       "<td>864691134884807418</td>\n",
       "<td>0.08</td>\n",
       "<td>864691135785277636</td></tr><tr><td>49.00</td>\n",
       "<td>518853</td>\n",
       "<td>864691135415666362</td>\n",
       "<td>0.08</td>\n",
       "<td>864691135866394390</td></tr><tr><td>49.00</td>\n",
       "<td>518898</td>\n",
       "<td>864691135583884664</td>\n",
       "<td>0.08</td>\n",
       "<td>864691136333787571</td></tr><tr><td>49.00</td>\n",
       "<td>520364</td>\n",
       "<td>864691135776732256</td>\n",
       "<td>0.08</td>\n",
       "<td>864691136105491417</td></tr><tr><td>49.00</td>\n",
       "<td>522656</td>\n",
       "<td>864691135385422677</td>\n",
       "<td>0.08</td>\n",
       "<td>864691135645592260</td></tr><tr><td>49.00</td>\n",
       "<td>525405</td>\n",
       "<td>864691136811995507</td>\n",
       "<td>0.08</td>\n",
       "<td>864691136099807093</td></tr><tr><td>49.00</td>\n",
       "<td>525498</td>\n",
       "<td>864691135233242713</td>\n",
       "<td>0.08</td>\n",
       "<td>864691135348272855</td></tr><tr><td>49.00</td>\n",
       "<td>526226</td>\n",
       "<td>864691135775906989</td>\n",
       "<td>0.08</td>\n",
       "<td>864691135212690816</td></tr><tr><td>49.00</td>\n",
       "<td>554200</td>\n",
       "<td>864691136925601354</td>\n",
       "<td>0.08</td>\n",
       "<td>864691136550489250</td></tr><tr><td>49.00</td>\n",
       "<td>554741</td>\n",
       "<td>864691135761634358</td>\n",
       "<td>0.08</td>\n",
       "<td>864691136194103510</td></tr><tr><td>49.00</td>\n",
       "<td>554833</td>\n",
       "<td>864691135937286404</td>\n",
       "<td>0.08</td>\n",
       "<td>864691135589907979</td></tr><tr><td>49.00</td>\n",
       "<td>554921</td>\n",
       "<td>864691135848030814</td>\n",
       "<td>0.08</td>\n",
       "<td>864691135407289801</td></tr><tr><td>49.00</td>\n",
       "<td>556823</td>\n",
       "<td>864691135718541617</td>\n",
       "<td>0.08</td>\n",
       "<td>864691136175008774</td></tr><tr><td>49.00</td>\n",
       "<td>557030</td>\n",
       "<td>864691135700409211</td>\n",
       "<td>0.08</td>\n",
       "<td>864691136545546146</td></tr><tr><td>49.00</td>\n",
       "<td>557121</td>\n",
       "<td>864691135593659947</td>\n",
       "<td>0.08</td>\n",
       "<td>864691135382947307</td></tr><tr><td>49.00</td>\n",
       "<td>558684</td>\n",
       "<td>864691136378859477</td>\n",
       "<td>0.08</td>\n",
       "<td>864691136008425132</td></tr><tr><td>49.00</td>\n",
       "<td>558709</td>\n",
       "<td>864691135462420637</td>\n",
       "<td>0.08</td>\n",
       "<td>864691135925564174</td></tr><tr><td>49.00</td>\n",
       "<td>559081</td>\n",
       "<td>864691135975633475</td>\n",
       "<td>0.08</td>\n",
       "<td>864691136333790899</td></tr><tr><td>49.00</td>\n",
       "<td>559381</td>\n",
       "<td>864691135809608652</td>\n",
       "<td>0.08</td>\n",
       "<td>864691135974454895</td></tr><tr><td>49.00</td>\n",
       "<td>560109</td>\n",
       "<td>864691135782544435</td>\n",
       "<td>0.08</td>\n",
       "<td>864691136008573614</td></tr><tr><td>49.00</td>\n",
       "<td>560217</td>\n",
       "<td>864691136436509342</td>\n",
       "<td>0.08</td>\n",
       "<td>864691136134446219</td></tr><tr><td>49.00</td>\n",
       "<td>562808</td>\n",
       "<td>864691135334584297</td>\n",
       "<td>0.08</td>\n",
       "<td>864691135736387732</td></tr><tr><td>49.00</td>\n",
       "<td>581967</td>\n",
       "<td>864691136812081779</td>\n",
       "<td>0.08</td>\n",
       "<td>864691136535575714</td></tr><tr><td>49.00</td>\n",
       "<td>582056</td>\n",
       "<td>864691135975539779</td>\n",
       "<td>0.08</td>\n",
       "<td>864691136537477538</td></tr><tr><td>49.00</td>\n",
       "<td>582129</td>\n",
       "<td>864691135815579983</td>\n",
       "<td>0.08</td>\n",
       "<td>864691135865518469</td></tr><tr><td>49.00</td>\n",
       "<td>582210</td>\n",
       "<td>864691135517531786</td>\n",
       "<td>0.08</td>\n",
       "<td>864691136201041854</td></tr><tr><td>49.00</td>\n",
       "<td>583848</td>\n",
       "<td>864691135497743635</td>\n",
       "<td>0.08</td>\n",
       "<td>864691136311791677</td></tr><tr><td>49.00</td>\n",
       "<td>583961</td>\n",
       "<td>864691135564739159</td>\n",
       "<td>0.08</td>\n",
       "<td>864691135735426708</td></tr><tr><td>49.00</td>\n",
       "<td>585723</td>\n",
       "<td>864691135915343462</td>\n",
       "<td>0.08</td>\n",
       "<td>864691136618412685</td></tr><tr><td>49.00</td>\n",
       "<td>587426</td>\n",
       "<td>864691135761725238</td>\n",
       "<td>0.08</td>\n",
       "<td>864691136370815112</td></tr><tr><td>49.00</td>\n",
       "<td>588839</td>\n",
       "<td>864691135358985048</td>\n",
       "<td>0.08</td>\n",
       "<td>864691135699269154</td></tr><tr><td>49.00</td>\n",
       "<td>588983</td>\n",
       "<td>864691135337845734</td>\n",
       "<td>0.08</td>\n",
       "<td>864691135589906955</td></tr><tr><td>49.00</td>\n",
       "<td>616159</td>\n",
       "<td>864691135724393131</td>\n",
       "<td>0.08</td>\n",
       "<td>864691136056340440</td> </tr> </tbody>\n",
       "            </table>\n",
       "            \n",
       "            <p>Total: 55</p></div>\n",
       "            "
      ],
      "text/plain": [
       "*ver      *nucleus_id    *segment_id    *old_ver    *old_segment_i\n",
       "+-------+ +------------+ +------------+ +---------+ +------------+\n",
       "49.00     225498         86469113572433 0.08        86469113556465\n",
       "49.00     258307         86469113529312 0.08        86469113619404\n",
       "49.00     262773         86469113602388 0.08        86469113523310\n",
       "49.00     264870         86469113695166 0.08        86469113574022\n",
       "49.00     269247         86469113546246 0.08        86469113610549\n",
       "49.00     271518         86469113610876 0.08        86469113633377\n",
       "49.00     294545         86469113551742 0.08        86469113577162\n",
       "49.00     296726         86469113619424 0.08        86469113574857\n",
       "49.00     300763         86469113611620 0.08        86469113610548\n",
       "49.00     301095         86469113544667 0.08        86469113521263\n",
       "49.00     330079         86469113556475 0.08        86469113631174\n",
       "49.00     330326         86469113637881 0.08        86469113549123\n",
       "49.00     331945         86469113595389 0.08        86469113594541\n",
       "49.00     332199         86469113701959 0.08        86469113539396\n",
       "49.00     335175         86469113536705 0.08        86469113511316\n",
       "49.00     460053         86469113561795 0.08        86469113610549\n",
       "49.00     460391         86469113550887 0.08        86469113527216\n",
       "49.00     487512         86469113527220 0.08        86469113661840\n",
       "49.00     489675         86469113544054 0.08        86469113597445\n",
       "49.00     493419         86469113586577 0.08        86469113600393\n",
       "49.00     493968         86469113511798 0.08        86469113597445\n",
       "49.00     516758         86469113564480 0.08        86469113653722\n",
       "49.00     518848         86469113488480 0.08        86469113578527\n",
       "49.00     518853         86469113541566 0.08        86469113586639\n",
       "49.00     518898         86469113558388 0.08        86469113633378\n",
       "49.00     520364         86469113577673 0.08        86469113610549\n",
       "49.00     522656         86469113538542 0.08        86469113564559\n",
       "49.00     525405         86469113681199 0.08        86469113609980\n",
       "49.00     525498         86469113523324 0.08        86469113534827\n",
       "49.00     526226         86469113577590 0.08        86469113521269\n",
       "49.00     554200         86469113692560 0.08        86469113655048\n",
       "49.00     554741         86469113576163 0.08        86469113619410\n",
       "49.00     554833         86469113593728 0.08        86469113558990\n",
       "49.00     554921         86469113584803 0.08        86469113540728\n",
       "49.00     556823         86469113571854 0.08        86469113617500\n",
       "49.00     557030         86469113570040 0.08        86469113654554\n",
       "49.00     557121         86469113559365 0.08        86469113538294\n",
       "49.00     558684         86469113637885 0.08        86469113600842\n",
       "49.00     558709         86469113546242 0.08        86469113592556\n",
       "49.00     559081         86469113597563 0.08        86469113633379\n",
       "49.00     559381         86469113580960 0.08        86469113597445\n",
       "49.00     560109         86469113578254 0.08        86469113600857\n",
       "49.00     560217         86469113643650 0.08        86469113613444\n",
       "49.00     562808         86469113533458 0.08        86469113573638\n",
       "49.00     581967         86469113681208 0.08        86469113653557\n",
       "49.00     582056         86469113597553 0.08        86469113653747\n",
       "49.00     582129         86469113581557 0.08        86469113586551\n",
       "49.00     582210         86469113551753 0.08        86469113620104\n",
       "49.00     583848         86469113549774 0.08        86469113631179\n",
       "49.00     583961         86469113556473 0.08        86469113573542\n",
       "49.00     585723         86469113591534 0.08        86469113661841\n",
       "49.00     587426         86469113576172 0.08        86469113637081\n",
       "49.00     588839         86469113535898 0.08        86469113569926\n",
       "49.00     588983         86469113533784 0.08        86469113558990\n",
       "49.00     616159         86469113572439 0.08        86469113605634\n",
       " (Total: 55)"
      ]
     },
     "execution_count": 402,
     "metadata": {},
     "output_type": "execute_result"
    }
   ],
   "source": [
    "dj.config[\"display.limit\"] = 60\n",
    "minnie.AutoProofreadValidationSegmentMap()"
   ]
  },
  {
   "cell_type": "code",
   "execution_count": 390,
   "metadata": {},
   "outputs": [],
   "source": [
    "nviz.plot_objects(error_mesh,\n",
    "                  main_mesh_color=\"red\",\n",
    "                  mesh_alpha=1,\n",
    "                 append_figure=True,\n",
    "                 show_at_end=False)"
   ]
  },
  {
   "cell_type": "code",
   "execution_count": null,
   "metadata": {},
   "outputs": [],
   "source": []
  },
  {
   "cell_type": "code",
   "execution_count": null,
   "metadata": {},
   "outputs": [],
   "source": []
  },
  {
   "cell_type": "code",
   "execution_count": 338,
   "metadata": {},
   "outputs": [],
   "source": [
    "# check the error mesh that the corrrect errors were picked up\n",
    "error_mesh = vu.error_mesh_from_manual_proofreading(neuron_obj_axon.segment_id)"
   ]
  },
  {
   "cell_type": "code",
   "execution_count": 347,
   "metadata": {},
   "outputs": [
    {
     "data": {
      "text/plain": [
       "{'L0': array([106, 116, 201, 202, 203, 204, 205, 206, 215, 225, 226, 281])}"
      ]
     },
     "execution_count": 347,
     "metadata": {},
     "output_type": "execute_result"
    }
   ],
   "source": [
    "vu.error_branches_from_old_new_segment_mesh(neuron_obj_axon)"
   ]
  },
  {
   "cell_type": "code",
   "execution_count": 340,
   "metadata": {},
   "outputs": [],
   "source": [
    "nviz.plot_objects(error_mesh,\n",
    "                  main_mesh_color=\"red\",\n",
    "                 append_figure=True,\n",
    "                 show_at_end=False)"
   ]
  },
  {
   "cell_type": "markdown",
   "metadata": {},
   "source": [
    "# SEEING IF CAN DETERMINE WHAT THE CORRECT SPLIT SHOULD HAVE BEEN FROM ANGLE WITH PARENT"
   ]
  },
  {
   "cell_type": "code",
   "execution_count": 342,
   "metadata": {},
   "outputs": [
    {
     "data": {
      "text/plain": [
       "['find_parent_child_skeleton_angle']"
      ]
     },
     "execution_count": 342,
     "metadata": {},
     "output_type": "execute_result"
    }
   ],
   "source": [
    "[k for k in dir(nru) if \"parent\" in k]"
   ]
  },
  {
   "cell_type": "code",
   "execution_count": 345,
   "metadata": {},
   "outputs": [
    {
     "data": {
      "text/plain": [
       "(22.71, 26.73)"
      ]
     },
     "execution_count": 345,
     "metadata": {},
     "output_type": "execute_result"
    }
   ],
   "source": [
    "angl_1 = nru.find_parent_child_skeleton_angle(limb_obj,\n",
    "                                    205,\n",
    "                                    comparison_distance=500)\n",
    "angl_2 = nru.find_parent_child_skeleton_angle(limb_obj,\n",
    "                                    207,\n",
    "                                    comparison_distance=500)\n",
    "angl_1,angl_2"
   ]
  },
  {
   "cell_type": "code",
   "execution_count": null,
   "metadata": {},
   "outputs": [],
   "source": [
    "\"\"\"\n",
    "Conclusion: Probably Not\n",
    "\n",
    "\n",
    "\"\"\""
   ]
  },
  {
   "cell_type": "markdown",
   "metadata": {},
   "source": [
    "# Building the Edit Rule that we can now apply to hopefully achieve higher results"
   ]
  },
  {
   "cell_type": "code",
   "execution_count": 350,
   "metadata": {},
   "outputs": [
    {
     "data": {
      "text/html": [
       "\n",
       "        \n",
       "        <style type=\"text/css\">\n",
       "            .Relation{\n",
       "                border-collapse:collapse;\n",
       "            }\n",
       "            .Relation th{\n",
       "                background: #A0A0A0; color: #ffffff; padding:4px; border:#f0e0e0 1px solid;\n",
       "                font-weight: normal; font-family: monospace; font-size: 100%;\n",
       "            }\n",
       "            .Relation td{\n",
       "                padding:4px; border:#f0e0e0 1px solid; font-size:100%;\n",
       "            }\n",
       "            .Relation tr:nth-child(odd){\n",
       "                background: #ffffff;\n",
       "            }\n",
       "            .Relation tr:nth-child(even){\n",
       "                background: #f3f1ff;\n",
       "            }\n",
       "            /* Tooltip container */\n",
       "            .djtooltip {\n",
       "            }\n",
       "            /* Tooltip text */\n",
       "            .djtooltip .djtooltiptext {\n",
       "                visibility: hidden;\n",
       "                width: 120px;\n",
       "                background-color: black;\n",
       "                color: #fff;\n",
       "                text-align: center;\n",
       "                padding: 5px 0;\n",
       "                border-radius: 6px;\n",
       "                /* Position the tooltip text - see examples below! */\n",
       "                position: absolute;\n",
       "                z-index: 1;\n",
       "            }\n",
       "            #primary {\n",
       "                font-weight: bold;\n",
       "                color: black;\n",
       "            }\n",
       "\n",
       "            #nonprimary {\n",
       "                font-weight: normal;\n",
       "                color: white;\n",
       "            }\n",
       "\n",
       "            /* Show the tooltip text when you mouse over the tooltip container */\n",
       "            .djtooltip:hover .djtooltiptext {\n",
       "                visibility: visible;\n",
       "            }\n",
       "        </style>\n",
       "        \n",
       "        <b></b>\n",
       "            <div style=\"max-height:1000px;max-width:1500px;overflow:auto;\">\n",
       "            <table border=\"1\" class=\"Relation\">\n",
       "                <thead> <tr style=\"text-align: right;\"> <th> <div class=\"djtooltip\">\n",
       "                                <p id=\"primary\">segment_id</p>\n",
       "                                <span class=\"djtooltiptext\">segment id unique within each Segmentation</span>\n",
       "                            </div></th><th><div class=\"djtooltip\">\n",
       "                                <p id=\"primary\">decimation_version</p>\n",
       "                                <span class=\"djtooltiptext\"></span>\n",
       "                            </div></th><th><div class=\"djtooltip\">\n",
       "                                <p id=\"primary\">decimation_ratio</p>\n",
       "                                <span class=\"djtooltiptext\">ratio of remaining mesh vertices/faces (which ones depends on what metric the decimation technique uses)</span>\n",
       "                            </div></th><th><div class=\"djtooltip\">\n",
       "                                <p id=\"primary\">ver</p>\n",
       "                                <span class=\"djtooltiptext\">the version number of the materializaiton</span>\n",
       "                            </div></th><th><div class=\"djtooltip\">\n",
       "                                <p id=\"primary\">process_version</p>\n",
       "                                <span class=\"djtooltiptext\">the version of the preprocessing pipeline run</span>\n",
       "                            </div></th><th><div class=\"djtooltip\">\n",
       "                                <p id=\"primary\">index</p>\n",
       "                                <span class=\"djtooltiptext\">the index of the neuron object that resulted from that mesh (indexed starting at 0)</span>\n",
       "                            </div></th><th><div class=\"djtooltip\">\n",
       "                                <p id=\"nonprimary\">multiplicity</p>\n",
       "                                <span class=\"djtooltiptext\">the number of somas found for this base segment</span>\n",
       "                            </div></th><th><div class=\"djtooltip\">\n",
       "                                <p id=\"nonprimary\">decomposition</p>\n",
       "                                <span class=\"djtooltiptext\"></span>\n",
       "                            </div></th><th><div class=\"djtooltip\">\n",
       "                                <p id=\"nonprimary\">n_vertices</p>\n",
       "                                <span class=\"djtooltiptext\">number of vertices</span>\n",
       "                            </div></th><th><div class=\"djtooltip\">\n",
       "                                <p id=\"nonprimary\">n_faces</p>\n",
       "                                <span class=\"djtooltiptext\">number of faces</span>\n",
       "                            </div></th><th><div class=\"djtooltip\">\n",
       "                                <p id=\"nonprimary\">n_not_processed_soma_containing_meshes</p>\n",
       "                                <span class=\"djtooltiptext\">the number of meshes with somas that were not processed</span>\n",
       "                            </div></th><th><div class=\"djtooltip\">\n",
       "                                <p id=\"nonprimary\">n_error_limbs</p>\n",
       "                                <span class=\"djtooltiptext\">the number of limbs that are touching multiple somas or 1 soma in multiple places</span>\n",
       "                            </div></th><th><div class=\"djtooltip\">\n",
       "                                <p id=\"nonprimary\">n_same_soma_multi_touching_limbs</p>\n",
       "                                <span class=\"djtooltiptext\">number of limbs that touch the same soma multiple times</span>\n",
       "                            </div></th><th><div class=\"djtooltip\">\n",
       "                                <p id=\"nonprimary\">n_multi_soma_touching_limbs</p>\n",
       "                                <span class=\"djtooltiptext\">number of limbs that touch multiple somas</span>\n",
       "                            </div></th><th><div class=\"djtooltip\">\n",
       "                                <p id=\"nonprimary\">n_somas</p>\n",
       "                                <span class=\"djtooltiptext\">number of soma meshes detected</span>\n",
       "                            </div></th><th><div class=\"djtooltip\">\n",
       "                                <p id=\"nonprimary\">n_limbs</p>\n",
       "                                <span class=\"djtooltiptext\"></span>\n",
       "                            </div></th><th><div class=\"djtooltip\">\n",
       "                                <p id=\"nonprimary\">n_branches</p>\n",
       "                                <span class=\"djtooltiptext\"></span>\n",
       "                            </div></th><th><div class=\"djtooltip\">\n",
       "                                <p id=\"nonprimary\">max_limb_n_branches</p>\n",
       "                                <span class=\"djtooltiptext\"></span>\n",
       "                            </div></th><th><div class=\"djtooltip\">\n",
       "                                <p id=\"nonprimary\">skeletal_length</p>\n",
       "                                <span class=\"djtooltiptext\"></span>\n",
       "                            </div></th><th><div class=\"djtooltip\">\n",
       "                                <p id=\"nonprimary\">max_limb_skeletal_length</p>\n",
       "                                <span class=\"djtooltiptext\"></span>\n",
       "                            </div></th><th><div class=\"djtooltip\">\n",
       "                                <p id=\"nonprimary\">median_branch_length</p>\n",
       "                                <span class=\"djtooltiptext\">gives information on average skeletal length to next branch point</span>\n",
       "                            </div></th><th><div class=\"djtooltip\">\n",
       "                                <p id=\"nonprimary\">width_median</p>\n",
       "                                <span class=\"djtooltiptext\">median width from mesh center without spines removed</span>\n",
       "                            </div></th><th><div class=\"djtooltip\">\n",
       "                                <p id=\"nonprimary\">width_no_spine_median</p>\n",
       "                                <span class=\"djtooltiptext\">median width from mesh center with spines removed</span>\n",
       "                            </div></th><th><div class=\"djtooltip\">\n",
       "                                <p id=\"nonprimary\">width_90_perc</p>\n",
       "                                <span class=\"djtooltiptext\">90th percentile for width without spines removed</span>\n",
       "                            </div></th><th><div class=\"djtooltip\">\n",
       "                                <p id=\"nonprimary\">width_no_spine_90_perc</p>\n",
       "                                <span class=\"djtooltiptext\">90th percentile for width with spines removed</span>\n",
       "                            </div></th><th><div class=\"djtooltip\">\n",
       "                                <p id=\"nonprimary\">n_spines</p>\n",
       "                                <span class=\"djtooltiptext\"></span>\n",
       "                            </div></th><th><div class=\"djtooltip\">\n",
       "                                <p id=\"nonprimary\">spine_density</p>\n",
       "                                <span class=\"djtooltiptext\">n_spines/ skeletal_length</span>\n",
       "                            </div></th><th><div class=\"djtooltip\">\n",
       "                                <p id=\"nonprimary\">spines_per_branch</p>\n",
       "                                <span class=\"djtooltiptext\"></span>\n",
       "                            </div></th><th><div class=\"djtooltip\">\n",
       "                                <p id=\"nonprimary\">skeletal_length_eligible</p>\n",
       "                                <span class=\"djtooltiptext\">the skeletal length for all branches searched for spines</span>\n",
       "                            </div></th><th><div class=\"djtooltip\">\n",
       "                                <p id=\"nonprimary\">n_spine_eligible_branches</p>\n",
       "                                <span class=\"djtooltiptext\">the number of branches that were checked for spines because passed width threshold</span>\n",
       "                            </div></th><th><div class=\"djtooltip\">\n",
       "                                <p id=\"nonprimary\">spine_density_eligible</p>\n",
       "                                <span class=\"djtooltiptext\">n_spines/skeletal_length_eligible</span>\n",
       "                            </div></th><th><div class=\"djtooltip\">\n",
       "                                <p id=\"nonprimary\">spines_per_branch_eligible</p>\n",
       "                                <span class=\"djtooltiptext\">n_spines/n_spine_eligible_branches</span>\n",
       "                            </div></th><th><div class=\"djtooltip\">\n",
       "                                <p id=\"nonprimary\">total_spine_volume</p>\n",
       "                                <span class=\"djtooltiptext\">the sum of all spine volume</span>\n",
       "                            </div></th><th><div class=\"djtooltip\">\n",
       "                                <p id=\"nonprimary\">spine_volume_median</p>\n",
       "                                <span class=\"djtooltiptext\">median of the spine volume for those spines with able to calculate volume</span>\n",
       "                            </div></th><th><div class=\"djtooltip\">\n",
       "                                <p id=\"nonprimary\">spine_volume_density</p>\n",
       "                                <span class=\"djtooltiptext\">total_spine_volume/skeletal_length</span>\n",
       "                            </div></th><th><div class=\"djtooltip\">\n",
       "                                <p id=\"nonprimary\">spine_volume_density_eligible</p>\n",
       "                                <span class=\"djtooltiptext\">total_spine_volume/skeletal_length_eligible</span>\n",
       "                            </div></th><th><div class=\"djtooltip\">\n",
       "                                <p id=\"nonprimary\">spine_volume_per_branch_eligible</p>\n",
       "                                <span class=\"djtooltiptext\">total_spine_volume/n_spine_eligible_branches</span>\n",
       "                            </div></th><th><div class=\"djtooltip\">\n",
       "                                <p id=\"nonprimary\">run_time</p>\n",
       "                                <span class=\"djtooltiptext\">the amount of time to run (seconds)</span>\n",
       "                            </div> </th> </tr> </thead>\n",
       "                <tbody> <tr> <td>864691134988386682</td>\n",
       "<td>0</td>\n",
       "<td>0.25</td>\n",
       "<td>30.00</td>\n",
       "<td>7</td>\n",
       "<td>0</td>\n",
       "<td>1</td>\n",
       "<td>=BLOB=</td>\n",
       "<td>436324</td>\n",
       "<td>890315</td>\n",
       "<td>0</td>\n",
       "<td>0</td>\n",
       "<td>0</td>\n",
       "<td>0</td>\n",
       "<td>1</td>\n",
       "<td>6</td>\n",
       "<td>137</td>\n",
       "<td>48</td>\n",
       "<td>5808139.316514158</td>\n",
       "<td>1647260.4341517508</td>\n",
       "<td>24890.613</td>\n",
       "<td>77.096</td>\n",
       "<td>77.096</td>\n",
       "<td>378.09</td>\n",
       "<td>348.709</td>\n",
       "<td>1011</td>\n",
       "<td>0.0001740660726104564</td>\n",
       "<td>7.37956204379562</td>\n",
       "<td>2786516.722</td>\n",
       "<td>38</td>\n",
       "<td>0.0003628185655653855</td>\n",
       "<td>26.605</td>\n",
       "<td>253337130528.39496</td>\n",
       "<td>146791299.60205585</td>\n",
       "<td>43617.60569483706</td>\n",
       "<td>90915.34550223846</td>\n",
       "<td>6666766592.852499</td>\n",
       "<td>3167.8475</td></tr><tr><td>864691135113167769</td>\n",
       "<td>0</td>\n",
       "<td>0.25</td>\n",
       "<td>30.00</td>\n",
       "<td>7</td>\n",
       "<td>0</td>\n",
       "<td>1</td>\n",
       "<td>=BLOB=</td>\n",
       "<td>452717</td>\n",
       "<td>923821</td>\n",
       "<td>0</td>\n",
       "<td>0</td>\n",
       "<td>0</td>\n",
       "<td>0</td>\n",
       "<td>1</td>\n",
       "<td>8</td>\n",
       "<td>152</td>\n",
       "<td>71</td>\n",
       "<td>5693244.288433126</td>\n",
       "<td>2394215.240268059</td>\n",
       "<td>23948.37</td>\n",
       "<td>110.354</td>\n",
       "<td>110.354</td>\n",
       "<td>424.961</td>\n",
       "<td>371.85</td>\n",
       "<td>1205</td>\n",
       "<td>0.0002116543641818039</td>\n",
       "<td>7.927631578947368</td>\n",
       "<td>3391838.552</td>\n",
       "<td>71</td>\n",
       "<td>0.00035526455092901486</td>\n",
       "<td>16.972</td>\n",
       "<td>253637416980.888</td>\n",
       "<td>123397993.51363626</td>\n",
       "<td>44550.5943766016</td>\n",
       "<td>74778.74111411656</td>\n",
       "<td>3572357985.64631</td>\n",
       "<td>3338.935</td></tr><tr><td>864691135212632448</td>\n",
       "<td>0</td>\n",
       "<td>0.25</td>\n",
       "<td>30.00</td>\n",
       "<td>7</td>\n",
       "<td>0</td>\n",
       "<td>1</td>\n",
       "<td>=BLOB=</td>\n",
       "<td>627122</td>\n",
       "<td>1290246</td>\n",
       "<td>0</td>\n",
       "<td>1</td>\n",
       "<td>1</td>\n",
       "<td>0</td>\n",
       "<td>1</td>\n",
       "<td>6</td>\n",
       "<td>187</td>\n",
       "<td>70</td>\n",
       "<td>7319056.097799392</td>\n",
       "<td>2276919.152335003</td>\n",
       "<td>30129.669</td>\n",
       "<td>99.269</td>\n",
       "<td>99.269</td>\n",
       "<td>439.937</td>\n",
       "<td>418.696</td>\n",
       "<td>1754</td>\n",
       "<td>0.00023964838861221082</td>\n",
       "<td>9.379679144385026</td>\n",
       "<td>4385433.955</td>\n",
       "<td>83</td>\n",
       "<td>0.000399960418512334</td>\n",
       "<td>21.133</td>\n",
       "<td>413784359369.2133</td>\n",
       "<td>139776566.6219406</td>\n",
       "<td>56535.20807056324</td>\n",
       "<td>94354.25629827169</td>\n",
       "<td>4985353727.339919</td>\n",
       "<td>1967.516</td></tr><tr><td>864691135212690816</td>\n",
       "<td>0</td>\n",
       "<td>0.25</td>\n",
       "<td>30.00</td>\n",
       "<td>7</td>\n",
       "<td>0</td>\n",
       "<td>1</td>\n",
       "<td>=BLOB=</td>\n",
       "<td>354542</td>\n",
       "<td>734849</td>\n",
       "<td>0</td>\n",
       "<td>0</td>\n",
       "<td>0</td>\n",
       "<td>0</td>\n",
       "<td>1</td>\n",
       "<td>8</td>\n",
       "<td>69</td>\n",
       "<td>27</td>\n",
       "<td>3498401.5998080624</td>\n",
       "<td>1089750.912749487</td>\n",
       "<td>41003.891</td>\n",
       "<td>287.596</td>\n",
       "<td>260.096</td>\n",
       "<td>585.086</td>\n",
       "<td>558.108</td>\n",
       "<td>1119</td>\n",
       "<td>0.00031986036138943947</td>\n",
       "<td>16.217391304347824</td>\n",
       "<td>2851126.314</td>\n",
       "<td>46</td>\n",
       "<td>0.00039247647307147685</td>\n",
       "<td>24.326</td>\n",
       "<td>191881552621.70038</td>\n",
       "<td>106166100.78328577</td>\n",
       "<td>54848.34920960128</td>\n",
       "<td>67300.26364650935</td>\n",
       "<td>4171338100.4717474</td>\n",
       "<td>2588.4535</td></tr><tr><td>864691135233108569</td>\n",
       "<td>0</td>\n",
       "<td>0.25</td>\n",
       "<td>30.00</td>\n",
       "<td>7</td>\n",
       "<td>0</td>\n",
       "<td>1</td>\n",
       "<td>=BLOB=</td>\n",
       "<td>175149</td>\n",
       "<td>369334</td>\n",
       "<td>0</td>\n",
       "<td>0</td>\n",
       "<td>0</td>\n",
       "<td>0</td>\n",
       "<td>1</td>\n",
       "<td>4</td>\n",
       "<td>51</td>\n",
       "<td>26</td>\n",
       "<td>1929121.55649553</td>\n",
       "<td>674706.4840692146</td>\n",
       "<td>24926.791</td>\n",
       "<td>125.806</td>\n",
       "<td>125.806</td>\n",
       "<td>407.99</td>\n",
       "<td>369.43</td>\n",
       "<td>361</td>\n",
       "<td>0.00018713180555392155</td>\n",
       "<td>7.078431372549019</td>\n",
       "<td>1366961.891</td>\n",
       "<td>28</td>\n",
       "<td>0.0002640892934739466</td>\n",
       "<td>12.893</td>\n",
       "<td>150172620811.9478</td>\n",
       "<td>251855833.4273572</td>\n",
       "<td>77845.07943851582</td>\n",
       "<td>109858.67404254345</td>\n",
       "<td>5363307886.140993</td>\n",
       "<td>1134.7229</td></tr><tr><td>864691135272164113</td>\n",
       "<td>0</td>\n",
       "<td>0.25</td>\n",
       "<td>30.00</td>\n",
       "<td>7</td>\n",
       "<td>0</td>\n",
       "<td>1</td>\n",
       "<td>=BLOB=</td>\n",
       "<td>728741</td>\n",
       "<td>1472234</td>\n",
       "<td>0</td>\n",
       "<td>0</td>\n",
       "<td>0</td>\n",
       "<td>0</td>\n",
       "<td>1</td>\n",
       "<td>9</td>\n",
       "<td>134</td>\n",
       "<td>34</td>\n",
       "<td>7089330.600272748</td>\n",
       "<td>1814720.7559266062</td>\n",
       "<td>39870.884</td>\n",
       "<td>313.36</td>\n",
       "<td>280.046</td>\n",
       "<td>520.197</td>\n",
       "<td>504.118</td>\n",
       "<td>2584</td>\n",
       "<td>0.00036449139498453997</td>\n",
       "<td>19.28358208955224</td>\n",
       "<td>5709251.389</td>\n",
       "<td>95</td>\n",
       "<td>0.0004525987426265002</td>\n",
       "<td>27.2</td>\n",
       "<td>496144554820.0978</td>\n",
       "<td>118912095.9032898</td>\n",
       "<td>69984.68301097563</td>\n",
       "<td>86901.85823241524</td>\n",
       "<td>5222574261.264187</td>\n",
       "<td>8685.0158</td></tr><tr><td>864691135348272855</td>\n",
       "<td>0</td>\n",
       "<td>0.25</td>\n",
       "<td>30.00</td>\n",
       "<td>7</td>\n",
       "<td>0</td>\n",
       "<td>1</td>\n",
       "<td>=BLOB=</td>\n",
       "<td>881685</td>\n",
       "<td>1783251</td>\n",
       "<td>0</td>\n",
       "<td>0</td>\n",
       "<td>0</td>\n",
       "<td>0</td>\n",
       "<td>1</td>\n",
       "<td>9</td>\n",
       "<td>197</td>\n",
       "<td>74</td>\n",
       "<td>9447353.491575636</td>\n",
       "<td>2621017.393764222</td>\n",
       "<td>31075.741</td>\n",
       "<td>129.217</td>\n",
       "<td>129.217</td>\n",
       "<td>493.65</td>\n",
       "<td>469.876</td>\n",
       "<td>2937</td>\n",
       "<td>0.0003108807141194592</td>\n",
       "<td>14.908629441624365</td>\n",
       "<td>6125005.572</td>\n",
       "<td>100</td>\n",
       "<td>0.0004795097678647467</td>\n",
       "<td>29.37</td>\n",
       "<td>775642913739.0615</td>\n",
       "<td>140313501.4566453</td>\n",
       "<td>82101.60807793583</td>\n",
       "<td>126635.46255122681</td>\n",
       "<td>7756429137.390615</td>\n",
       "<td>8370.6986</td></tr><tr><td>864691135382947307</td>\n",
       "<td>0</td>\n",
       "<td>0.25</td>\n",
       "<td>30.00</td>\n",
       "<td>7</td>\n",
       "<td>0</td>\n",
       "<td>1</td>\n",
       "<td>=BLOB=</td>\n",
       "<td>438368</td>\n",
       "<td>906960</td>\n",
       "<td>0</td>\n",
       "<td>0</td>\n",
       "<td>0</td>\n",
       "<td>0</td>\n",
       "<td>1</td>\n",
       "<td>7</td>\n",
       "<td>85</td>\n",
       "<td>33</td>\n",
       "<td>4513317.774938867</td>\n",
       "<td>1969906.2202319442</td>\n",
       "<td>34664.07</td>\n",
       "<td>170.141</td>\n",
       "<td>170.141</td>\n",
       "<td>468.024</td>\n",
       "<td>450.557</td>\n",
       "<td>1506</td>\n",
       "<td>0.00033367914139845797</td>\n",
       "<td>17.71764705882353</td>\n",
       "<td>3053325.124</td>\n",
       "<td>49</td>\n",
       "<td>0.0004932327671764836</td>\n",
       "<td>30.735</td>\n",
       "<td>455863217187.5764</td>\n",
       "<td>176207521.45752874</td>\n",
       "<td>101004.01521001942</td>\n",
       "<td>149300.58171806287</td>\n",
       "<td>9303330963.011765</td>\n",
       "<td>1479.4404</td></tr><tr><td>864691135393964789</td>\n",
       "<td>0</td>\n",
       "<td>0.25</td>\n",
       "<td>30.00</td>\n",
       "<td>7</td>\n",
       "<td>0</td>\n",
       "<td>1</td>\n",
       "<td>=BLOB=</td>\n",
       "<td>1583231</td>\n",
       "<td>3205448</td>\n",
       "<td>0</td>\n",
       "<td>0</td>\n",
       "<td>0</td>\n",
       "<td>0</td>\n",
       "<td>1</td>\n",
       "<td>5</td>\n",
       "<td>67</td>\n",
       "<td>38</td>\n",
       "<td>2488693.914102224</td>\n",
       "<td>1275278.6276583588</td>\n",
       "<td>19248.521</td>\n",
       "<td>213.138</td>\n",
       "<td>209.562</td>\n",
       "<td>396.999</td>\n",
       "<td>395.122</td>\n",
       "<td>865</td>\n",
       "<td>0.000347571870971542</td>\n",
       "<td>12.91044776119403</td>\n",
       "<td>2125309.303</td>\n",
       "<td>48</td>\n",
       "<td>0.0004069995829684655</td>\n",
       "<td>18.021</td>\n",
       "<td>293625815532.621</td>\n",
       "<td>183206258.62369728</td>\n",
       "<td>117983.90065921146</td>\n",
       "<td>138156.74505266163</td>\n",
       "<td>6117204490.262937</td>\n",
       "<td>714.6618</td></tr><tr><td>864691135407289801</td>\n",
       "<td>0</td>\n",
       "<td>0.25</td>\n",
       "<td>30.00</td>\n",
       "<td>7</td>\n",
       "<td>0</td>\n",
       "<td>1</td>\n",
       "<td>=BLOB=</td>\n",
       "<td>502899</td>\n",
       "<td>1025919</td>\n",
       "<td>0</td>\n",
       "<td>0</td>\n",
       "<td>0</td>\n",
       "<td>0</td>\n",
       "<td>1</td>\n",
       "<td>7</td>\n",
       "<td>118</td>\n",
       "<td>66</td>\n",
       "<td>5222513.811253336</td>\n",
       "<td>2707033.4015538185</td>\n",
       "<td>38118.378</td>\n",
       "<td>269.199</td>\n",
       "<td>237.65</td>\n",
       "<td>437.592</td>\n",
       "<td>401.25</td>\n",
       "<td>1827</td>\n",
       "<td>0.0003498315305673732</td>\n",
       "<td>15.483050847457626</td>\n",
       "<td>3404998.094</td>\n",
       "<td>70</td>\n",
       "<td>0.0005365641770018565</td>\n",
       "<td>26.1</td>\n",
       "<td>441633219503.7638</td>\n",
       "<td>139237546.16499963</td>\n",
       "<td>84563.3416137922</td>\n",
       "<td>129701.45865337562</td>\n",
       "<td>6309045992.910912</td>\n",
       "<td>4322.1253</td></tr><tr><td>864691135491233631</td>\n",
       "<td>0</td>\n",
       "<td>0.25</td>\n",
       "<td>30.00</td>\n",
       "<td>7</td>\n",
       "<td>0</td>\n",
       "<td>1</td>\n",
       "<td>=BLOB=</td>\n",
       "<td>197750</td>\n",
       "<td>413685</td>\n",
       "<td>0</td>\n",
       "<td>0</td>\n",
       "<td>0</td>\n",
       "<td>0</td>\n",
       "<td>1</td>\n",
       "<td>6</td>\n",
       "<td>59</td>\n",
       "<td>33</td>\n",
       "<td>2546185.1436514813</td>\n",
       "<td>1018316.2736208101</td>\n",
       "<td>29918.026</td>\n",
       "<td>84.801</td>\n",
       "<td>84.801</td>\n",
       "<td>357.533</td>\n",
       "<td>320.046</td>\n",
       "<td>404</td>\n",
       "<td>0.00015866874449696304</td>\n",
       "<td>6.8474576271186445</td>\n",
       "<td>1356814.249</td>\n",
       "<td>22</td>\n",
       "<td>0.00029775630695045864</td>\n",
       "<td>18.364</td>\n",
       "<td>147270128010.03223</td>\n",
       "<td>207805179.40473938</td>\n",
       "<td>57839.520577373376</td>\n",
       "<td>108541.11247620913</td>\n",
       "<td>6694096727.728738</td>\n",
       "<td>1188.7763</td></tr><tr><td>864691135501578306</td>\n",
       "<td>0</td>\n",
       "<td>0.25</td>\n",
       "<td>30.00</td>\n",
       "<td>7</td>\n",
       "<td>0</td>\n",
       "<td>1</td>\n",
       "<td>=BLOB=</td>\n",
       "<td>374405</td>\n",
       "<td>746326</td>\n",
       "<td>0</td>\n",
       "<td>0</td>\n",
       "<td>0</td>\n",
       "<td>0</td>\n",
       "<td>1</td>\n",
       "<td>5</td>\n",
       "<td>56</td>\n",
       "<td>17</td>\n",
       "<td>3114127.253061483</td>\n",
       "<td>1213107.5239690433</td>\n",
       "<td>31281.216</td>\n",
       "<td>317.255</td>\n",
       "<td>296.781</td>\n",
       "<td>536.477</td>\n",
       "<td>508.749</td>\n",
       "<td>1465</td>\n",
       "<td>0.0004704367808219031</td>\n",
       "<td>26.160714285714285</td>\n",
       "<td>2620981.487</td>\n",
       "<td>41</td>\n",
       "<td>0.0005589509148639019</td>\n",
       "<td>35.732</td>\n",
       "<td>311096987685.1343</td>\n",
       "<td>158169036.8100357</td>\n",
       "<td>99898.61120135548</td>\n",
       "<td>118694.84360273708</td>\n",
       "<td>7587731406.954494</td>\n",
       "<td>5612.3722</td> </tr> </tbody>\n",
       "            </table>\n",
       "            <p>...</p>\n",
       "            <p>Total: 60</p></div>\n",
       "            "
      ],
      "text/plain": [
       "*segment_id    *decimation_ve *decimation_ra *ver      *process_versi *index    multiplicity   decomposit n_vertices     n_faces     n_not_processe n_error_limbs  n_same_soma_mu n_multi_soma_t n_somas     n_limbs     n_branches     max_limb_n_bra skeletal_lengt max_limb_skele median_branch_ width_median   width_no_spine width_90_perc  width_no_spine n_spines     spine_density  spines_per_bra skeletal_lengt n_spine_eligib spine_density_ spines_per_bra total_spine_vo spine_volume_m spine_volume_d spine_volume_d spine_volume_p run_time     \n",
       "+------------+ +------------+ +------------+ +-------+ +------------+ +-------+ +------------+ +--------+ +------------+ +---------+ +------------+ +------------+ +------------+ +------------+ +---------+ +---------+ +------------+ +------------+ +------------+ +------------+ +------------+ +------------+ +------------+ +------------+ +------------+ +----------+ +------------+ +------------+ +------------+ +------------+ +------------+ +------------+ +------------+ +------------+ +------------+ +------------+ +------------+ +-----------+\n",
       "86469113498838 0              0.25           30.00     7              0         1              =BLOB=     436324         890315      0              0              0              0              1           6           137            48             5808139.316514 1647260.434151 24890.613      77.096         77.096         378.09         348.709        1011         0.000174066072 7.379562043795 2786516.722    38             0.000362818565 26.605         253337130528.3 146791299.6020 43617.60569483 90915.34550223 6666766592.852 3167.8475    \n",
       "86469113511316 0              0.25           30.00     7              0         1              =BLOB=     452717         923821      0              0              0              0              1           8           152            71             5693244.288433 2394215.240268 23948.37       110.354        110.354        424.961        371.85         1205         0.000211654364 7.927631578947 3391838.552    71             0.000355264550 16.972         253637416980.8 123397993.5136 44550.59437660 74778.74111411 3572357985.646 3338.935     \n",
       "86469113521263 0              0.25           30.00     7              0         1              =BLOB=     627122         1290246     0              1              1              0              1           6           187            70             7319056.097799 2276919.152335 30129.669      99.269         99.269         439.937        418.696        1754         0.000239648388 9.379679144385 4385433.955    83             0.000399960418 21.133         413784359369.2 139776566.6219 56535.20807056 94354.25629827 4985353727.339 1967.516     \n",
       "86469113521269 0              0.25           30.00     7              0         1              =BLOB=     354542         734849      0              0              0              0              1           8           69             27             3498401.599808 1089750.912749 41003.891      287.596        260.096        585.086        558.108        1119         0.000319860361 16.21739130434 2851126.314    46             0.000392476473 24.326         191881552621.7 106166100.7832 54848.34920960 67300.26364650 4171338100.471 2588.4535    \n",
       "86469113523310 0              0.25           30.00     7              0         1              =BLOB=     175149         369334      0              0              0              0              1           4           51             26             1929121.556495 674706.4840692 24926.791      125.806        125.806        407.99         369.43         361          0.000187131805 7.078431372549 1366961.891    28             0.000264089293 12.893         150172620811.9 251855833.4273 77845.07943851 109858.6740425 5363307886.140 1134.7229    \n",
       "86469113527216 0              0.25           30.00     7              0         1              =BLOB=     728741         1472234     0              0              0              0              1           9           134            34             7089330.600272 1814720.755926 39870.884      313.36         280.046        520.197        504.118        2584         0.000364491394 19.28358208955 5709251.389    95             0.000452598742 27.2           496144554820.0 118912095.9032 69984.68301097 86901.85823241 5222574261.264 8685.0158    \n",
       "86469113534827 0              0.25           30.00     7              0         1              =BLOB=     881685         1783251     0              0              0              0              1           9           197            74             9447353.491575 2621017.393764 31075.741      129.217        129.217        493.65         469.876        2937         0.000310880714 14.90862944162 6125005.572    100            0.000479509767 29.37          775642913739.0 140313501.4566 82101.60807793 126635.4625512 7756429137.390 8370.6986    \n",
       "86469113538294 0              0.25           30.00     7              0         1              =BLOB=     438368         906960      0              0              0              0              1           7           85             33             4513317.774938 1969906.220231 34664.07       170.141        170.141        468.024        450.557        1506         0.000333679141 17.71764705882 3053325.124    49             0.000493232767 30.735         455863217187.5 176207521.4575 101004.0152100 149300.5817180 9303330963.011 1479.4404    \n",
       "86469113539396 0              0.25           30.00     7              0         1              =BLOB=     1583231        3205448     0              0              0              0              1           5           67             38             2488693.914102 1275278.627658 19248.521      213.138        209.562        396.999        395.122        865          0.000347571870 12.91044776119 2125309.303    48             0.000406999582 18.021         293625815532.6 183206258.6236 117983.9006592 138156.7450526 6117204490.262 714.6618     \n",
       "86469113540728 0              0.25           30.00     7              0         1              =BLOB=     502899         1025919     0              0              0              0              1           7           118            66             5222513.811253 2707033.401553 38118.378      269.199        237.65         437.592        401.25         1827         0.000349831530 15.48305084745 3404998.094    70             0.000536564177 26.1           441633219503.7 139237546.1649 84563.34161379 129701.4586533 6309045992.910 4322.1253    \n",
       "86469113549123 0              0.25           30.00     7              0         1              =BLOB=     197750         413685      0              0              0              0              1           6           59             33             2546185.143651 1018316.273620 29918.026      84.801         84.801         357.533        320.046        404          0.000158668744 6.847457627118 1356814.249    22             0.000297756306 18.364         147270128010.0 207805179.4047 57839.52057737 108541.1124762 6694096727.728 1188.7763    \n",
       "86469113550157 0              0.25           30.00     7              0         1              =BLOB=     374405         746326      0              0              0              0              1           5           56             17             3114127.253061 1213107.523969 31281.216      317.255        296.781        536.477        508.749        1465         0.000470436780 26.16071428571 2620981.487    41             0.000558950914 35.732         311096987685.1 158169036.8100 99898.61120135 118694.8436027 7587731406.954 5612.3722    \n",
       "   ...\n",
       " (Total: 60)"
      ]
     },
     "execution_count": 350,
     "metadata": {},
     "output_type": "execute_result"
    }
   ],
   "source": [
    "minnie.Decomposition() & minnie.AutoProofreadValidationSegment()"
   ]
  },
  {
   "cell_type": "code",
   "execution_count": null,
   "metadata": {},
   "outputs": [],
   "source": []
  },
  {
   "cell_type": "code",
   "execution_count": null,
   "metadata": {},
   "outputs": [],
   "source": []
  },
  {
   "cell_type": "code",
   "execution_count": null,
   "metadata": {},
   "outputs": [],
   "source": []
  },
  {
   "cell_type": "code",
   "execution_count": 349,
   "metadata": {},
   "outputs": [
    {
     "name": "stdout",
     "output_type": "stream",
     "text": [
      "Synapsse Results:\n",
      "Total Number of Synapses = 1159\n",
      "n_valid_syn_ids_presyn = 84\n",
      "n_errored_syn_ids_presyn = 197\n",
      "n_valid_syn_ids_postsyn = 806\n",
      "n_errored_syn_ids_postsyn = 72\n"
     ]
    },
    {
     "ename": "DataJointError",
     "evalue": "fetch1 should only return one tuple. 0 tuples were found",
     "output_type": "error",
     "traceback": [
      "\u001b[0;31m---------------------------------------------------------------------------\u001b[0m",
      "\u001b[0;31mDataJointError\u001b[0m                            Traceback (most recent call last)",
      "\u001b[0;32m<ipython-input-349-4fd1c82c3174>\u001b[0m in \u001b[0;36m<module>\u001b[0;34m\u001b[0m\n\u001b[1;32m      2\u001b[0m                                         \u001b[0mremove_presyn_on_dendrite\u001b[0m \u001b[0;34m=\u001b[0m \u001b[0;32mFalse\u001b[0m\u001b[0;34m,\u001b[0m\u001b[0;34m\u001b[0m\u001b[0;34m\u001b[0m\u001b[0m\n\u001b[1;32m      3\u001b[0m                         \u001b[0mcount_presyn_on_dendrite_as_correct\u001b[0m \u001b[0;34m=\u001b[0m \u001b[0;32mFalse\u001b[0m\u001b[0;34m,\u001b[0m\u001b[0;34m\u001b[0m\u001b[0;34m\u001b[0m\u001b[0m\n\u001b[0;32m----> 4\u001b[0;31m                                                         include_extension_synapse=False)\n\u001b[0m",
      "\u001b[0;32m/meshAfterParty/meshAfterParty/validation_utils.py\u001b[0m in \u001b[0;36msynapse_validation_df_single_neuron\u001b[0;34m(segment_id, verbose, remove_presyn_on_dendrite, count_presyn_on_dendrite_as_correct, add_false_true_positive_negative_labels, add_proofreading_segment_id, add_euclidean_distance_to_soma, include_extension_synapse, valid_synapses_ids)\u001b[0m\n\u001b[1;32m   1043\u001b[0m         \"\"\"\n\u001b[1;32m   1044\u001b[0m         \u001b[0;31m#soma_center = du.segment_to_nuclei_centers(new_segment_id)\u001b[0m\u001b[0;34m\u001b[0m\u001b[0;34m\u001b[0m\u001b[0;34m\u001b[0m\u001b[0m\n\u001b[0;32m-> 1045\u001b[0;31m         \u001b[0msoma_center\u001b[0m \u001b[0;34m=\u001b[0m \u001b[0mdu\u001b[0m\u001b[0;34m.\u001b[0m\u001b[0mfetch_neuron_soma_center\u001b[0m\u001b[0;34m(\u001b[0m\u001b[0msegment_id\u001b[0m\u001b[0;34m)\u001b[0m\u001b[0;34m\u001b[0m\u001b[0;34m\u001b[0m\u001b[0m\n\u001b[0m\u001b[1;32m   1046\u001b[0m         \u001b[0msynapse_coordinates_new\u001b[0m \u001b[0;34m=\u001b[0m \u001b[0mproofreading_synapse_df\u001b[0m\u001b[0;34m[\u001b[0m\u001b[0;34m[\u001b[0m\u001b[0;34m\"synapse_x\"\u001b[0m\u001b[0;34m,\u001b[0m\u001b[0;34m\"synapse_y\"\u001b[0m\u001b[0;34m,\u001b[0m\u001b[0;34m\"synapse_z\"\u001b[0m\u001b[0;34m]\u001b[0m\u001b[0;34m]\u001b[0m\u001b[0;34m.\u001b[0m\u001b[0mto_numpy\u001b[0m\u001b[0;34m(\u001b[0m\u001b[0;34m)\u001b[0m\u001b[0;34m\u001b[0m\u001b[0;34m\u001b[0m\u001b[0m\n\u001b[1;32m   1047\u001b[0m         proofreading_synapse_df[\"euclidean_distance_to_nuclei\"] = np.linalg.norm(\n",
      "\u001b[0;32m/meshAfterParty/meshAfterParty/datajoint_utils.py\u001b[0m in \u001b[0;36mfetch_neuron_soma_center\u001b[0;34m(segment_id, split_index, validation, adjust_to_nm)\u001b[0m\n\u001b[1;32m   2263\u001b[0m \u001b[0;34m\u001b[0m\u001b[0m\n\u001b[1;32m   2264\u001b[0m     soma_center = np.array((current_table & dict(segment_id=segment_id,\n\u001b[0;32m-> 2265\u001b[0;31m                          split_index = split_index)).fetch1(\"soma_x\",\"soma_y\",\"soma_z\"))\n\u001b[0m\u001b[1;32m   2266\u001b[0m \u001b[0;34m\u001b[0m\u001b[0m\n\u001b[1;32m   2267\u001b[0m     \u001b[0;32mif\u001b[0m \u001b[0madjust_to_nm\u001b[0m\u001b[0;34m:\u001b[0m\u001b[0;34m\u001b[0m\u001b[0;34m\u001b[0m\u001b[0m\n",
      "\u001b[0;32m/usr/local/lib/python3.6/dist-packages/datajoint/fetch.py\u001b[0m in \u001b[0;36m__call__\u001b[0;34m(self, squeeze, download_path, *attrs)\u001b[0m\n\u001b[1;32m    245\u001b[0m             \u001b[0mresult\u001b[0m \u001b[0;34m=\u001b[0m \u001b[0mself\u001b[0m\u001b[0;34m.\u001b[0m\u001b[0m_expression\u001b[0m\u001b[0;34m.\u001b[0m\u001b[0mproj\u001b[0m\u001b[0;34m(\u001b[0m\u001b[0;34m*\u001b[0m\u001b[0mattributes\u001b[0m\u001b[0;34m)\u001b[0m\u001b[0;34m.\u001b[0m\u001b[0mfetch\u001b[0m\u001b[0;34m(\u001b[0m\u001b[0msqueeze\u001b[0m\u001b[0;34m=\u001b[0m\u001b[0msqueeze\u001b[0m\u001b[0;34m,\u001b[0m \u001b[0mdownload_path\u001b[0m\u001b[0;34m=\u001b[0m\u001b[0mdownload_path\u001b[0m\u001b[0;34m)\u001b[0m\u001b[0;34m\u001b[0m\u001b[0;34m\u001b[0m\u001b[0m\n\u001b[1;32m    246\u001b[0m             \u001b[0;32mif\u001b[0m \u001b[0mlen\u001b[0m\u001b[0;34m(\u001b[0m\u001b[0mresult\u001b[0m\u001b[0;34m)\u001b[0m \u001b[0;34m!=\u001b[0m \u001b[0;36m1\u001b[0m\u001b[0;34m:\u001b[0m\u001b[0;34m\u001b[0m\u001b[0;34m\u001b[0m\u001b[0m\n\u001b[0;32m--> 247\u001b[0;31m                 \u001b[0;32mraise\u001b[0m \u001b[0mDataJointError\u001b[0m\u001b[0;34m(\u001b[0m\u001b[0;34m'fetch1 should only return one tuple. %d tuples were found'\u001b[0m \u001b[0;34m%\u001b[0m \u001b[0mlen\u001b[0m\u001b[0;34m(\u001b[0m\u001b[0mresult\u001b[0m\u001b[0;34m)\u001b[0m\u001b[0;34m)\u001b[0m\u001b[0;34m\u001b[0m\u001b[0;34m\u001b[0m\u001b[0m\n\u001b[0m\u001b[1;32m    248\u001b[0m             return_values = tuple(\n\u001b[1;32m    249\u001b[0m                 \u001b[0mnext\u001b[0m\u001b[0;34m(\u001b[0m\u001b[0mto_dicts\u001b[0m\u001b[0;34m(\u001b[0m\u001b[0mresult\u001b[0m\u001b[0;34m[\u001b[0m\u001b[0mself\u001b[0m\u001b[0;34m.\u001b[0m\u001b[0m_expression\u001b[0m\u001b[0;34m.\u001b[0m\u001b[0mprimary_key\u001b[0m\u001b[0;34m]\u001b[0m\u001b[0;34m)\u001b[0m\u001b[0;34m)\u001b[0m \u001b[0;32mif\u001b[0m \u001b[0mis_key\u001b[0m\u001b[0;34m(\u001b[0m\u001b[0mattribute\u001b[0m\u001b[0;34m)\u001b[0m \u001b[0;32melse\u001b[0m \u001b[0mresult\u001b[0m\u001b[0;34m[\u001b[0m\u001b[0mattribute\u001b[0m\u001b[0;34m]\u001b[0m\u001b[0;34m[\u001b[0m\u001b[0;36m0\u001b[0m\u001b[0;34m]\u001b[0m\u001b[0;34m\u001b[0m\u001b[0;34m\u001b[0m\u001b[0m\n",
      "\u001b[0;31mDataJointError\u001b[0m: fetch1 should only return one tuple. 0 tuples were found"
     ]
    }
   ],
   "source": [
    "validation_df = vu.synapse_validation_df_single_neuron(neuron_obj_axon.segment_id,\n",
    "                                        remove_presyn_on_dendrite = False,\n",
    "                        count_presyn_on_dendrite_as_correct = False,\n",
    "                                                        include_extension_synapse=False)"
   ]
  },
  {
   "cell_type": "code",
   "execution_count": null,
   "metadata": {},
   "outputs": [],
   "source": [
    "vu.plot_validation_synapses(segment_id,\n",
    "                           validation_df=validation_df,\n",
    "                           synapse_scatter_size = 0.08)"
   ]
  },
  {
   "cell_type": "code",
   "execution_count": 13,
   "metadata": {},
   "outputs": [
    {
     "data": {
      "text/plain": [
       "'L0'"
      ]
     },
     "execution_count": 13,
     "metadata": {},
     "output_type": "execute_result"
    }
   ],
   "source": [
    "neuron_obj.axon_limb_name"
   ]
  },
  {
   "cell_type": "code",
   "execution_count": 16,
   "metadata": {},
   "outputs": [
    {
     "data": {
      "text/plain": [
       "(864691135462463389, 864691136105498585)"
      ]
     },
     "execution_count": 16,
     "metadata": {},
     "output_type": "execute_result"
    }
   ],
   "source": [
    "vu.old_to_new_segment_id(neuron_obj.segment_id),neuron_obj.segment_id"
   ]
  },
  {
   "cell_type": "code",
   "execution_count": 14,
   "metadata": {},
   "outputs": [
    {
     "name": "stdout",
     "output_type": "stream",
     "text": [
      "\n",
      " Working on visualization type: mesh\n",
      "\n",
      " Working on visualization type: skeleton\n"
     ]
    },
    {
     "data": {
      "application/vnd.jupyter.widget-view+json": {
       "model_id": "1661039c39da46bf86320ac952a02692",
       "version_major": 2,
       "version_minor": 0
      },
      "text/plain": [
       "VBox(children=(Figure(camera=PerspectiveCamera(fov=46.0, position=(0.0, 0.0, 2.0), projectionMatrix=(1.0, 0.0,…"
      ]
     },
     "metadata": {},
     "output_type": "display_data"
    }
   ],
   "source": [
    "ret_col = nviz.visualize_neuron(neuron_obj,\n",
    "                     limb_branch_dict=dict(L0=\"all\"),\n",
    "                     return_color_dict=True)"
   ]
  },
  {
   "cell_type": "code",
   "execution_count": 17,
   "metadata": {},
   "outputs": [
    {
     "data": {
      "text/plain": [
       "<trimesh.Trimesh(vertices.shape=(520639, 3), faces.shape=(1063820, 3))>"
      ]
     },
     "execution_count": 17,
     "metadata": {},
     "output_type": "execute_result"
    }
   ],
   "source": [
    "new_mesh = du.fetch_segment_id_mesh(864691135462463389)\n",
    "new_mesh"
   ]
  },
  {
   "cell_type": "code",
   "execution_count": 18,
   "metadata": {},
   "outputs": [],
   "source": [
    "nviz.plot_objects(meshes=[new_mesh],\n",
    "                 meshes_colors=\"lime\",\n",
    "                  mesh_alpha=1,\n",
    "                 append_figure=True,\n",
    "                 show_at_end=False)"
   ]
  },
  {
   "cell_type": "code",
   "execution_count": 20,
   "metadata": {},
   "outputs": [
    {
     "data": {
      "text/html": [
       "\n",
       "        \n",
       "        <style type=\"text/css\">\n",
       "            .Relation{\n",
       "                border-collapse:collapse;\n",
       "            }\n",
       "            .Relation th{\n",
       "                background: #A0A0A0; color: #ffffff; padding:4px; border:#f0e0e0 1px solid;\n",
       "                font-weight: normal; font-family: monospace; font-size: 100%;\n",
       "            }\n",
       "            .Relation td{\n",
       "                padding:4px; border:#f0e0e0 1px solid; font-size:100%;\n",
       "            }\n",
       "            .Relation tr:nth-child(odd){\n",
       "                background: #ffffff;\n",
       "            }\n",
       "            .Relation tr:nth-child(even){\n",
       "                background: #f3f1ff;\n",
       "            }\n",
       "            /* Tooltip container */\n",
       "            .djtooltip {\n",
       "            }\n",
       "            /* Tooltip text */\n",
       "            .djtooltip .djtooltiptext {\n",
       "                visibility: hidden;\n",
       "                width: 120px;\n",
       "                background-color: black;\n",
       "                color: #fff;\n",
       "                text-align: center;\n",
       "                padding: 5px 0;\n",
       "                border-radius: 6px;\n",
       "                /* Position the tooltip text - see examples below! */\n",
       "                position: absolute;\n",
       "                z-index: 1;\n",
       "            }\n",
       "            #primary {\n",
       "                font-weight: bold;\n",
       "                color: black;\n",
       "            }\n",
       "\n",
       "            #nonprimary {\n",
       "                font-weight: normal;\n",
       "                color: white;\n",
       "            }\n",
       "\n",
       "            /* Show the tooltip text when you mouse over the tooltip container */\n",
       "            .djtooltip:hover .djtooltiptext {\n",
       "                visibility: visible;\n",
       "            }\n",
       "        </style>\n",
       "        \n",
       "        <b></b>\n",
       "            <div style=\"max-height:1000px;max-width:1500px;overflow:auto;\">\n",
       "            <table border=\"1\" class=\"Relation\">\n",
       "                <thead> <tr style=\"text-align: right;\"> <th> <div class=\"djtooltip\">\n",
       "                                <p id=\"primary\">segment_id</p>\n",
       "                                <span class=\"djtooltiptext\">segment id unique within each Segmentation</span>\n",
       "                            </div></th><th><div class=\"djtooltip\">\n",
       "                                <p id=\"primary\">decimation_version</p>\n",
       "                                <span class=\"djtooltiptext\"></span>\n",
       "                            </div></th><th><div class=\"djtooltip\">\n",
       "                                <p id=\"primary\">decimation_ratio</p>\n",
       "                                <span class=\"djtooltiptext\">ratio of remaining mesh vertices/faces (which ones depends on what metric the decimation technique uses)</span>\n",
       "                            </div></th><th><div class=\"djtooltip\">\n",
       "                                <p id=\"primary\">ver</p>\n",
       "                                <span class=\"djtooltiptext\">the version number of the materializaiton</span>\n",
       "                            </div></th><th><div class=\"djtooltip\">\n",
       "                                <p id=\"primary\">process_version</p>\n",
       "                                <span class=\"djtooltiptext\">the version of the preprocessing pipeline run</span>\n",
       "                            </div></th><th><div class=\"djtooltip\">\n",
       "                                <p id=\"primary\">index</p>\n",
       "                                <span class=\"djtooltiptext\">the index of the neuron object that resulted from that mesh (indexed starting at 0)</span>\n",
       "                            </div></th><th><div class=\"djtooltip\">\n",
       "                                <p id=\"primary\">split_index</p>\n",
       "                                <span class=\"djtooltiptext\">the index of the neuron object that resulted AFTER THE SPLITTING ALGORITHM</span>\n",
       "                            </div></th><th><div class=\"djtooltip\">\n",
       "                                <p id=\"primary\">proof_version</p>\n",
       "                                <span class=\"djtooltiptext\">the version of code used for this cell typing classification</span>\n",
       "                            </div></th><th><div class=\"djtooltip\">\n",
       "                                <p id=\"primary\">axon_version</p>\n",
       "                                <span class=\"djtooltiptext\"></span>\n",
       "                            </div></th><th><div class=\"djtooltip\">\n",
       "                                <p id=\"primary\">parent_idx</p>\n",
       "                                <span class=\"djtooltiptext\"></span>\n",
       "                            </div></th><th><div class=\"djtooltip\">\n",
       "                                <p id=\"nonprimary\">n_downstream</p>\n",
       "                                <span class=\"djtooltiptext\"></span>\n",
       "                            </div></th><th><div class=\"djtooltip\">\n",
       "                                <p id=\"nonprimary\">web_size_faces</p>\n",
       "                                <span class=\"djtooltiptext\"></span>\n",
       "                            </div></th><th><div class=\"djtooltip\">\n",
       "                                <p id=\"nonprimary\">web_size_volume</p>\n",
       "                                <span class=\"djtooltiptext\"></span>\n",
       "                            </div></th><th><div class=\"djtooltip\">\n",
       "                                <p id=\"nonprimary\">web_size_skeleton</p>\n",
       "                                <span class=\"djtooltiptext\"></span>\n",
       "                            </div></th><th><div class=\"djtooltip\">\n",
       "                                <p id=\"nonprimary\">web_size_ray_trace_percentile</p>\n",
       "                                <span class=\"djtooltiptext\"></span>\n",
       "                            </div></th><th><div class=\"djtooltip\">\n",
       "                                <p id=\"nonprimary\">web_bbox_ratios_max</p>\n",
       "                                <span class=\"djtooltiptext\"></span>\n",
       "                            </div></th><th><div class=\"djtooltip\">\n",
       "                                <p id=\"nonprimary\">web_bbox_ratios_min</p>\n",
       "                                <span class=\"djtooltiptext\"></span>\n",
       "                            </div></th><th><div class=\"djtooltip\">\n",
       "                                <p id=\"nonprimary\">web_volume_ratio</p>\n",
       "                                <span class=\"djtooltiptext\"></span>\n",
       "                            </div></th><th><div class=\"djtooltip\">\n",
       "                                <p id=\"nonprimary\">web_cdf</p>\n",
       "                                <span class=\"djtooltiptext\"></span>\n",
       "                            </div></th><th><div class=\"djtooltip\">\n",
       "                                <p id=\"nonprimary\">parent_n_large_boutons</p>\n",
       "                                <span class=\"djtooltiptext\"></span>\n",
       "                            </div></th><th><div class=\"djtooltip\">\n",
       "                                <p id=\"nonprimary\">parent_n_boutons</p>\n",
       "                                <span class=\"djtooltiptext\"></span>\n",
       "                            </div></th><th><div class=\"djtooltip\">\n",
       "                                <p id=\"nonprimary\">parent_no_bouton_median</p>\n",
       "                                <span class=\"djtooltiptext\"></span>\n",
       "                            </div></th><th><div class=\"djtooltip\">\n",
       "                                <p id=\"nonprimary\">parent_no_spine_median_mesh_center</p>\n",
       "                                <span class=\"djtooltiptext\"></span>\n",
       "                            </div></th><th><div class=\"djtooltip\">\n",
       "                                <p id=\"nonprimary\">child_no_bouton_median_min</p>\n",
       "                                <span class=\"djtooltiptext\"></span>\n",
       "                            </div></th><th><div class=\"djtooltip\">\n",
       "                                <p id=\"nonprimary\">child_no_bouton_median_diff_min</p>\n",
       "                                <span class=\"djtooltiptext\"></span>\n",
       "                            </div></th><th><div class=\"djtooltip\">\n",
       "                                <p id=\"nonprimary\">child_no_spine_median_mesh_center_min</p>\n",
       "                                <span class=\"djtooltiptext\"></span>\n",
       "                            </div></th><th><div class=\"djtooltip\">\n",
       "                                <p id=\"nonprimary\">child_no_spine_median_mesh_center_diff_min</p>\n",
       "                                <span class=\"djtooltiptext\"></span>\n",
       "                            </div></th><th><div class=\"djtooltip\">\n",
       "                                <p id=\"nonprimary\">child_angle_min</p>\n",
       "                                <span class=\"djtooltiptext\"></span>\n",
       "                            </div></th><th><div class=\"djtooltip\">\n",
       "                                <p id=\"nonprimary\">child_n_boutons_min</p>\n",
       "                                <span class=\"djtooltiptext\"></span>\n",
       "                            </div></th><th><div class=\"djtooltip\">\n",
       "                                <p id=\"nonprimary\">child_n_large_boutons_min</p>\n",
       "                                <span class=\"djtooltiptext\"></span>\n",
       "                            </div></th><th><div class=\"djtooltip\">\n",
       "                                <p id=\"nonprimary\">child_no_bouton_median_max</p>\n",
       "                                <span class=\"djtooltiptext\"></span>\n",
       "                            </div></th><th><div class=\"djtooltip\">\n",
       "                                <p id=\"nonprimary\">child_no_bouton_median_diff_max</p>\n",
       "                                <span class=\"djtooltiptext\"></span>\n",
       "                            </div></th><th><div class=\"djtooltip\">\n",
       "                                <p id=\"nonprimary\">child_no_spine_median_mesh_center_max</p>\n",
       "                                <span class=\"djtooltiptext\"></span>\n",
       "                            </div></th><th><div class=\"djtooltip\">\n",
       "                                <p id=\"nonprimary\">child_no_spine_median_mesh_center_diff_max</p>\n",
       "                                <span class=\"djtooltiptext\"></span>\n",
       "                            </div></th><th><div class=\"djtooltip\">\n",
       "                                <p id=\"nonprimary\">child_angle_max</p>\n",
       "                                <span class=\"djtooltiptext\"></span>\n",
       "                            </div></th><th><div class=\"djtooltip\">\n",
       "                                <p id=\"nonprimary\">child_n_boutons_max</p>\n",
       "                                <span class=\"djtooltiptext\"></span>\n",
       "                            </div></th><th><div class=\"djtooltip\">\n",
       "                                <p id=\"nonprimary\">child_n_large_boutons_max</p>\n",
       "                                <span class=\"djtooltiptext\"></span>\n",
       "                            </div></th><th><div class=\"djtooltip\">\n",
       "                                <p id=\"nonprimary\">sibling_angles_min</p>\n",
       "                                <span class=\"djtooltiptext\"></span>\n",
       "                            </div></th><th><div class=\"djtooltip\">\n",
       "                                <p id=\"nonprimary\">sibling_angles_max</p>\n",
       "                                <span class=\"djtooltiptext\"></span>\n",
       "                            </div></th><th><div class=\"djtooltip\">\n",
       "                                <p id=\"nonprimary\">label</p>\n",
       "                                <span class=\"djtooltiptext\"></span>\n",
       "                            </div> </th> </tr> </thead>\n",
       "                <tbody> <tr> <td>864691136105498585</td>\n",
       "<td>0</td>\n",
       "<td>0.25</td>\n",
       "<td>30.00</td>\n",
       "<td>5</td>\n",
       "<td>0</td>\n",
       "<td>0</td>\n",
       "<td>3</td>\n",
       "<td>0</td>\n",
       "<td>80</td>\n",
       "<td>2</td>\n",
       "<td>178</td>\n",
       "<td>66206869.784993485</td>\n",
       "<td>945.005752076261</td>\n",
       "<td>343.0152114835352</td>\n",
       "<td>1.6091866634899104</td>\n",
       "<td>1.239197776428573</td>\n",
       "<td>2.0900791143141895</td>\n",
       "<td>0.7343095</td>\n",
       "<td>2</td>\n",
       "<td>8</td>\n",
       "<td>63.10743984202443</td>\n",
       "<td>72.71970293333928</td>\n",
       "<td>49.8785301229612</td>\n",
       "<td>-13.228909719063225</td>\n",
       "<td>57.39701492645298</td>\n",
       "<td>-15.322688006886295</td>\n",
       "<td>18.97</td>\n",
       "<td>0</td>\n",
       "<td>0</td>\n",
       "<td>49.8785301229612</td>\n",
       "<td>-13.228909719063225</td>\n",
       "<td>57.39701492645298</td>\n",
       "<td>-15.322688006886295</td>\n",
       "<td>71.52</td>\n",
       "<td>4</td>\n",
       "<td>1</td>\n",
       "<td>85.23</td>\n",
       "<td>85.23</td>\n",
       "<td>invalid</td></tr><tr><td>864691136105498585</td>\n",
       "<td>0</td>\n",
       "<td>0.25</td>\n",
       "<td>30.00</td>\n",
       "<td>5</td>\n",
       "<td>0</td>\n",
       "<td>0</td>\n",
       "<td>3</td>\n",
       "<td>0</td>\n",
       "<td>88</td>\n",
       "<td>2</td>\n",
       "<td>54</td>\n",
       "<td>32829402.11883545</td>\n",
       "<td>942.8169575388165</td>\n",
       "<td>204.99981659419694</td>\n",
       "<td>1.6244142784482813</td>\n",
       "<td>1.1125562626728347</td>\n",
       "<td>2.6295692374891835</td>\n",
       "<td>0.405677</td>\n",
       "<td>1</td>\n",
       "<td>5</td>\n",
       "<td>73.48881782440169</td>\n",
       "<td>77.82065580139377</td>\n",
       "<td>66.43813315310564</td>\n",
       "<td>-7.050684671296054</td>\n",
       "<td>68.98125629633374</td>\n",
       "<td>-8.83939950506003</td>\n",
       "<td>22.17</td>\n",
       "<td>0</td>\n",
       "<td>0</td>\n",
       "<td>66.43813315310564</td>\n",
       "<td>-7.050684671296054</td>\n",
       "<td>68.98125629633374</td>\n",
       "<td>-8.83939950506003</td>\n",
       "<td>125.81</td>\n",
       "<td>5</td>\n",
       "<td>2</td>\n",
       "<td>136.45</td>\n",
       "<td>136.45</td>\n",
       "<td>invalid</td> </tr> </tbody>\n",
       "            </table>\n",
       "            \n",
       "            <p>Total: 2</p></div>\n",
       "            "
      ],
      "text/plain": [
       "*segment_id    *decimation_ve *decimation_ra *ver      *process_versi *index    *split_index   *proof_version *axon_version  *parent_idx    n_downstream   web_size_faces web_size_volum web_size_skele web_size_ray_t web_bbox_ratio web_bbox_ratio web_volume_rat web_cdf       parent_n_large parent_n_bouto parent_no_bout parent_no_spin child_no_bouto child_no_bouto child_no_spine child_no_spine child_angle_mi child_n_bouton child_n_large_ child_no_bouto child_no_bouto child_no_spine child_no_spine child_angle_ma child_n_bouton child_n_large_ sibling_angles sibling_angles label      \n",
       "+------------+ +------------+ +------------+ +-------+ +------------+ +-------+ +------------+ +------------+ +------------+ +------------+ +------------+ +------------+ +------------+ +------------+ +------------+ +------------+ +------------+ +------------+ +-----------+ +------------+ +------------+ +------------+ +------------+ +------------+ +------------+ +------------+ +------------+ +------------+ +------------+ +------------+ +------------+ +------------+ +------------+ +------------+ +------------+ +------------+ +------------+ +------------+ +------------+ +---------+\n",
       "86469113610549 0              0.25           30.00     5              0         0              3              0              80             2              178            66206869.78499 945.0057520762 343.0152114835 1.609186663489 1.239197776428 2.090079114314 0.7343095     2              8              63.10743984202 72.71970293333 49.87853012296 -13.2289097190 57.39701492645 -15.3226880068 18.97          0              0              49.87853012296 -13.2289097190 57.39701492645 -15.3226880068 71.52          4              1              85.23          85.23          invalid    \n",
       "86469113610549 0              0.25           30.00     5              0         0              3              0              88             2              54             32829402.11883 942.8169575388 204.9998165941 1.624414278448 1.112556262672 2.629569237489 0.405677      1              5              73.48881782440 77.82065580139 66.43813315310 -7.05068467129 68.98125629633 -8.83939950506 22.17          0              0              66.43813315310 -7.05068467129 68.98125629633 -8.83939950506 125.81         5              2              136.45         136.45         invalid    \n",
       " (Total: 2)"
      ]
     },
     "execution_count": 20,
     "metadata": {},
     "output_type": "execute_result"
    }
   ],
   "source": [
    "minnie.AutoProofreadValidationBorder() & dict(segment_id=segment_id,label=\"invalid\")"
   ]
  },
  {
   "cell_type": "code",
   "execution_count": 22,
   "metadata": {},
   "outputs": [
    {
     "name": "stdout",
     "output_type": "stream",
     "text": [
      "\n",
      " Working on visualization type: mesh\n",
      "\n",
      " Working on visualization type: skeleton\n"
     ]
    },
    {
     "data": {
      "application/vnd.jupyter.widget-view+json": {
       "model_id": "531b006ede2646a890d6b649fd7ab032",
       "version_major": 2,
       "version_minor": 0
      },
      "text/plain": [
       "VBox(children=(Figure(camera=PerspectiveCamera(fov=46.0, position=(0.0, 0.0, 2.0), projectionMatrix=(1.0, 0.0,…"
      ]
     },
     "metadata": {},
     "output_type": "display_data"
    }
   ],
   "source": [
    "error_branches = [80,88]\n",
    "nviz.visualize_neuron(neuron_obj,\n",
    "                      visualize_type=[\"mesh\",\"skeleton\"],\n",
    "                     limb_branch_dict=dict(L0=error_branches),\n",
    "                      mesh_color=\"red\",\n",
    "                      mesh_color_alpha=1,\n",
    "                      skeleton_color=\"red\",\n",
    "                      skeleton_color_alpha=1,\n",
    "                     mesh_whole_neuron=True,\n",
    "                     skeleton_whole_neuron=True,\n",
    "                     )"
   ]
  },
  {
   "cell_type": "code",
   "execution_count": 24,
   "metadata": {},
   "outputs": [
    {
     "data": {
      "application/vnd.jupyter.widget-view+json": {
       "model_id": "432ce524392c4668ac476dd7fc701d21",
       "version_major": 2,
       "version_minor": 0
      },
      "text/plain": [
       "VBox(children=(Figure(camera=PerspectiveCamera(fov=46.0, position=(0.0, 0.0, 2.0), projectionMatrix=(1.0, 0.0,…"
      ]
     },
     "metadata": {},
     "output_type": "display_data"
    }
   ],
   "source": [
    "nviz.plot_objects(meshes=neuron_obj.non_soma_touching_meshes)"
   ]
  },
  {
   "cell_type": "code",
   "execution_count": null,
   "metadata": {},
   "outputs": [],
   "source": []
  }
 ],
 "metadata": {
  "kernelspec": {
   "display_name": "Python 3",
   "language": "python",
   "name": "python3"
  },
  "language_info": {
   "codemirror_mode": {
    "name": "ipython",
    "version": 3
   },
   "file_extension": ".py",
   "mimetype": "text/x-python",
   "name": "python",
   "nbconvert_exporter": "python",
   "pygments_lexer": "ipython3",
   "version": "3.6.9"
  }
 },
 "nbformat": 4,
 "nbformat_minor": 4
}
