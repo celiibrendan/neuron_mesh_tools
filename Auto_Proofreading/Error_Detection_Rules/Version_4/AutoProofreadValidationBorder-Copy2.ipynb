{
 "cells": [
  {
   "cell_type": "code",
   "execution_count": 1,
   "metadata": {},
   "outputs": [
    {
     "data": {
      "text/plain": [
       "'\\nPurpose: To decompose the multi-somas for splitting\\nusing the new decomposition method\\n\\n\\n\\n\\n'"
      ]
     },
     "execution_count": 1,
     "metadata": {},
     "output_type": "execute_result"
    }
   ],
   "source": [
    "\"\"\"\n",
    "Purpose: To decompose the multi-somas for splitting\n",
    "using the new decomposition method\n",
    "\n",
    "\n",
    "\n",
    "\n",
    "\"\"\"\n"
   ]
  },
  {
   "cell_type": "code",
   "execution_count": 2,
   "metadata": {},
   "outputs": [
    {
     "name": "stderr",
     "output_type": "stream",
     "text": [
      "INFO - 2021-04-07 06:51:43,575 - settings - Setting database.host to at-database.ad.bcm.edu\n",
      "INFO - 2021-04-07 06:51:43,576 - settings - Setting database.user to celiib\n",
      "INFO - 2021-04-07 06:51:43,577 - settings - Setting database.password to newceliipass\n",
      "INFO - 2021-04-07 06:51:43,580 - settings - Setting stores to {'minnie65': {'protocol': 'file', 'location': '/mnt/dj-stor01/platinum/minnie65', 'stage': '/mnt/dj-stor01/platinum/minnie65'}, 'meshes': {'protocol': 'file', 'location': '/mnt/dj-stor01/platinum/minnie65/02/meshes', 'stage': '/mnt/dj-stor01/platinum/minnie65/02/meshes'}, 'decimated_meshes': {'protocol': 'file', 'location': '/mnt/dj-stor01/platinum/minnie65/02/decimated_meshes', 'stage': '/mnt/dj-stor01/platinum/minnie65/02/decimated_meshes'}, 'skeletons': {'protocol': 'file', 'location': '/mnt/dj-stor01/platinum/minnie65/02/skeletons'}}\n",
      "INFO - 2021-04-07 06:51:43,581 - settings - Setting enable_python_native_blobs to True\n",
      "INFO - 2021-04-07 06:51:43,592 - connection - Connected celiib@at-database.ad.bcm.edu:3306\n"
     ]
    },
    {
     "name": "stdout",
     "output_type": "stream",
     "text": [
      "Connecting celiib@at-database.ad.bcm.edu:3306\n"
     ]
    },
    {
     "name": "stderr",
     "output_type": "stream",
     "text": [
      "INFO - 2021-04-07 06:51:43,962 - settings - Setting enable_python_native_blobs to True\n",
      "INFO - 2021-04-07 06:51:43,966 - settings - Setting database.host to at-database.ad.bcm.edu\n",
      "INFO - 2021-04-07 06:51:43,967 - settings - Setting database.user to celiib\n",
      "INFO - 2021-04-07 06:51:43,968 - settings - Setting database.password to newceliipass\n",
      "INFO - 2021-04-07 06:51:43,968 - settings - Setting database.host to at-database.ad.bcm.edu\n",
      "INFO - 2021-04-07 06:51:43,969 - settings - Setting database.user to celiib\n",
      "INFO - 2021-04-07 06:51:43,970 - settings - Setting database.password to newceliipass\n",
      "INFO - 2021-04-07 06:51:43,972 - settings - Setting enable_python_native_blobs to True\n",
      "INFO - 2021-04-07 06:51:44,416 - settings - Setting enable_python_native_blobs to True\n"
     ]
    }
   ],
   "source": [
    "import numpy as np\n",
    "import datajoint as dj\n",
    "import trimesh\n",
    "from tqdm.notebook import tqdm\n",
    "from pathlib import Path\n",
    "\n",
    "from os import sys\n",
    "sys.path.append(\"/meshAfterParty/\")\n",
    "sys.path.append(\"/meshAfterParty/meshAfterParty\")\n",
    "\n",
    "import datajoint_utils as du\n",
    "from importlib import reload"
   ]
  },
  {
   "cell_type": "code",
   "execution_count": 3,
   "metadata": {},
   "outputs": [],
   "source": [
    "#so that it will have the adapter defined\n",
    "from datajoint_utils import *"
   ]
  },
  {
   "cell_type": "code",
   "execution_count": 4,
   "metadata": {},
   "outputs": [],
   "source": [
    "test_mode = True"
   ]
  },
  {
   "cell_type": "markdown",
   "metadata": {},
   "source": [
    "# Debugging the contains method"
   ]
  },
  {
   "cell_type": "code",
   "execution_count": 5,
   "metadata": {},
   "outputs": [],
   "source": [
    "import system_utils as su"
   ]
  },
  {
   "cell_type": "code",
   "execution_count": 6,
   "metadata": {},
   "outputs": [
    {
     "name": "stderr",
     "output_type": "stream",
     "text": [
      "INFO - 2021-04-07 06:51:44,501 - settings - Setting database.host to at-database.ad.bcm.edu\n",
      "INFO - 2021-04-07 06:51:44,502 - settings - Setting database.user to celiib\n",
      "INFO - 2021-04-07 06:51:44,503 - settings - Setting database.password to newceliipass\n",
      "INFO - 2021-04-07 06:51:44,504 - settings - Setting database.host to at-database.ad.bcm.edu\n",
      "INFO - 2021-04-07 06:51:44,505 - settings - Setting database.user to celiib\n",
      "INFO - 2021-04-07 06:51:44,505 - settings - Setting database.password to newceliipass\n",
      "INFO - 2021-04-07 06:51:44,508 - settings - Setting enable_python_native_blobs to True\n"
     ]
    },
    {
     "name": "stdout",
     "output_type": "stream",
     "text": [
      "Sleeping 79 sec before conneting\n",
      "Done sleeping\n",
      "Current path for external_segmentation_path = /mnt/dj-stor01/platinum/minnie65/02\n",
      "Current path for external_mesh_path = /mnt/dj-stor01/platinum/minnie65/02/meshes\n",
      "Current path for external_decimated_mesh_path = /mnt/dj-stor01/platinum/minnie65/02/decimated_meshes\n",
      "Current path for external_skeleton_path = /mnt/dj-stor01/platinum/minnie65/02/skeletons\n"
     ]
    },
    {
     "name": "stderr",
     "output_type": "stream",
     "text": [
      "INFO - 2021-04-07 06:51:45,012 - settings - Setting enable_python_native_blobs to True\n"
     ]
    }
   ],
   "source": [
    "import minfig\n",
    "import time\n",
    "import numpy as np\n",
    "#want to add in a wait for the connection part\n",
    "random_sleep_sec = np.random.randint(0, 200)\n",
    "print(f\"Sleeping {random_sleep_sec} sec before conneting\")\n",
    "if not test_mode:\n",
    "    time.sleep(random_sleep_sec)\n",
    "print(\"Done sleeping\")\n",
    "\n",
    "du.config_celii()\n",
    "du.set_minnie65_config_segmentation(minfig)\n",
    "du.print_minnie65_config_paths(minfig)\n",
    "\n",
    "#configuring will include the adapters\n",
    "minnie,schema = du.configure_minnie_vm()"
   ]
  },
  {
   "cell_type": "code",
   "execution_count": 7,
   "metadata": {},
   "outputs": [],
   "source": [
    "from importlib import reload\n",
    "\n",
    "import neuron_utils as nru\n",
    "\n",
    "import neuron\n",
    "\n",
    "import neuron_visualizations as nviz\n",
    "\n",
    "import time\n",
    "\n",
    "import datajoint_utils as du\n",
    "\n",
    "import numpy as np\n",
    "\n",
    "import proofreading_utils as pru\n",
    "\n",
    "import preprocessing_vp2 as pre\n",
    "\n",
    "# -- For the axon classification --\n",
    "\n",
    "import neuron_searching as ns\n",
    "\n",
    "import skeleton_utils as sk\n",
    "\n",
    "import numpy_utils as nu\n",
    "\n",
    "import networkx_utils as xu\n",
    "\n",
    "import system_utils as su\n",
    "\n",
    "import classification_utils as clu\n",
    "import proofreading_utils as pru\n",
    "\n",
    "import datajoint as dj\n",
    "\n",
    "from pykdtree.kdtree import KDTree\n",
    "import trimesh_utils as tu\n",
    "import proofreading_utils as pru\n",
    "import numpy as np\n",
    "import axon_utils as au\n",
    "import validation_utils as vu"
   ]
  },
  {
   "cell_type": "markdown",
   "metadata": {},
   "source": [
    "# Defining the Table"
   ]
  },
  {
   "cell_type": "code",
   "execution_count": 8,
   "metadata": {},
   "outputs": [],
   "source": [
    "import neuron_utils as nru\n",
    "import neuron\n",
    "import trimesh_utils as tu\n",
    "import numpy as np"
   ]
  },
  {
   "cell_type": "code",
   "execution_count": 9,
   "metadata": {},
   "outputs": [
    {
     "name": "stdout",
     "output_type": "stream",
     "text": [
      "No port chosen so picked random port 5955\n"
     ]
    }
   ],
   "source": [
    "import meshlab\n",
    "meshlab.set_meshlab_port(current_port=None)"
   ]
  },
  {
   "cell_type": "markdown",
   "metadata": {},
   "source": [
    "# Creating the Auto Proofread Neuron Table"
   ]
  },
  {
   "cell_type": "code",
   "execution_count": 10,
   "metadata": {},
   "outputs": [],
   "source": [
    "# minnie,schema = du.configure_minnie_vm()\n",
    "# AutoProofreadValidationBorderNeurons.drop()\n",
    "# AutoProofreadValidationBorder.drop()\n",
    "# minnie.schema.external['decomposition'].delete(delete_external_files=True)"
   ]
  },
  {
   "cell_type": "code",
   "execution_count": 11,
   "metadata": {},
   "outputs": [],
   "source": [
    "@schema\n",
    "class AutoProofreadValidationBorderNeurons(dj.Manual):\n",
    "    definition=\"\"\"\n",
    "    -> minnie.AutoProofreadValidationStats3()\n",
    "    ---\n",
    "    decomposition: <decomposition>\n",
    "    \"\"\""
   ]
  },
  {
   "cell_type": "code",
   "execution_count": 12,
   "metadata": {},
   "outputs": [],
   "source": [
    "import numpy as np\n",
    "import time\n",
    "\n",
    "verbose = True\n",
    "axon_version = 0\n",
    "@schema\n",
    "class AutoProofreadValidationBorder(dj.Computed):\n",
    "    definition=\"\"\"\n",
    "    -> minnie.AutoProofreadValidationStats3()\n",
    "    axon_version    : tinyint unsigned \n",
    "    parent_idx: smallint unsigned\n",
    "    ---\n",
    "    web_size_faces=NULL : smallint unsigned\n",
    "    web_size_volume=NULL : double\n",
    "    web_size_skeleton=NULL : double\n",
    "    web_size_ray_trace_percentile=NULL : double\n",
    "    web_bbox_ratios_max=NULL: double\n",
    "    web_bbox_ratios_min=NULL: double\n",
    "    web_volume_ratio=NULL: double\n",
    "    web_cdf=NULL: double\n",
    "    parent_n_large_boutons=NULL : tinyint unsigned \n",
    "    parent_n_boutons=NULL : tinyint unsigned \n",
    "    parent_no_bouton_median=NULL : double\n",
    "    parent_no_spine_median_mesh_center=NULL : double\n",
    "    child_no_bouton_median_min =NULL: double\n",
    "    child_no_bouton_median_diff_min=NULL : double\n",
    "    child_no_spine_median_mesh_center_min=NULL :double\n",
    "    child_no_spine_median_mesh_center_diff_min=NULL : double\n",
    "    child_angle_min=NULL : double\n",
    "    child_n_boutons_min=NULL : tinyint unsigned\n",
    "    child_n_large_boutons_min=NULL : tinyint unsigned\n",
    "    child_no_bouton_median_max =NULL: double\n",
    "    child_no_bouton_median_diff_max=NULL: double\n",
    "    child_no_spine_median_mesh_center_max=NULL : double\n",
    "    child_no_spine_median_mesh_center_diff_max=NULL :double\n",
    "    child_angle_max=NULL : double\n",
    "    child_n_boutons_max =NULL: tinyint unsigned\n",
    "    child_n_large_boutons_max=NULL : tinyint unsigned\n",
    "    sibling_angles_min=NULL: double\n",
    "    sibling_angles_max=NULL: double\n",
    "    label: varchar(10)\n",
    "    \n",
    "    \"\"\"\n",
    "\n",
    "    key_source = du.proofreading_stats_table(validation=True)\n",
    "    \n",
    "    \n",
    "\n",
    "    def make(self,key):\n",
    "        \"\"\"\n",
    "        Pseudocode:\n",
    "        1) Pull down the neuron object\n",
    "        2) Run the complete axon preprocessing on the neuron\n",
    "        3) Run the borders attributes dictionary\n",
    "        4) Save off the neuron object\n",
    "        5) Write the Attribute records\n",
    "\n",
    "        \"\"\"\n",
    "        print(f\"\\n\\n\\n---- Working on Neuron {key['segment_id']} ----\")\n",
    "        \n",
    "        # 1) Pull Down All of the Neurons\n",
    "        segment_id = key[\"segment_id\"]\n",
    "        \n",
    "        whole_pass_time = time.time()\n",
    "        neuron_objs,neuron_split_idxs = du.decomposition_with_spine_recalculation(segment_id)    \n",
    "        neuron_obj = neuron_objs[0]\n",
    "        \n",
    "        #2) Run the complete axon preprocessing on the neuron\n",
    "        neuron_obj_with_web = au.complete_axon_processing(neuron_obj,\n",
    "                                                 verbose=True)\n",
    "        \n",
    "        \n",
    "        branch_attr = vu.neuron_to_border_branching_attributes(neuron_obj_with_web,\n",
    "                                         plot_valid_border_branches=False,\n",
    "                                          plot_invalid_border_branches = False,\n",
    "                                          verbose=False\n",
    "                                         )\n",
    "        \n",
    "        #3) Run the borders attributes dictionary\n",
    "        branch_attr = vu.neuron_to_border_branching_attributes(neuron_obj_with_web,\n",
    "                                         plot_valid_border_branches=False,\n",
    "                                          plot_invalid_border_branches = False,\n",
    "                                          verbose=False\n",
    "                                         )\n",
    "        branch_attr_keys = []\n",
    "        for k in branch_attr:\n",
    "            new_dict  = dict(key)\n",
    "            new_dict.update(k)\n",
    "            new_dict[\"axon_version\"] = axon_version\n",
    "            branch_attr_keys.append(new_dict)\n",
    "            \n",
    "        if verbose:\n",
    "            print(f\"\\n\\nlen(branch_attr_keys) = {len(branch_attr_keys)}\")\n",
    "            \n",
    "            \n",
    "        \n",
    "        #4) Save the file in a certain location\n",
    "        save_time = time.time()\n",
    "        ret_file_path = neuron_obj_with_web.save_compressed_neuron(output_folder=str(du.get_decomposition_path()),\n",
    "                                        file_name=f\"{neuron_obj_with_web.segment_id}_{neuron_obj_with_web.description}_full_axon\",\n",
    "                                          return_file_path=True,\n",
    "                                         export_mesh=False,\n",
    "                                         suppress_output=True)\n",
    "\n",
    "        ret_file_path_str = str(ret_file_path.absolute()) + \".pbz2\"\n",
    "        print(f\"Save time = {time.time() - save_time}\")\n",
    "        \n",
    "        n_dict = dict(key,\n",
    "                     decomposition=ret_file_path_str)\n",
    "        \n",
    "        AutoProofreadValidationBorderNeurons.insert1(n_dict,skip_duplicates=True)\n",
    "        \n",
    "        \n",
    "        \n",
    "        \n",
    "        #5) Write the Attribute records\n",
    "        if len(branch_attr_keys)>0:\n",
    "            AutoProofreadValidationBorder.insert(branch_attr_keys,skip_duplicates=True)\n",
    "\n",
    "    \n",
    "\n",
    "        print(f\"\\n\\n ***------ Total time for {key['segment_id']} = {time.time() - whole_pass_time} ------ ***\")\n",
    "    \n"
   ]
  },
  {
   "cell_type": "markdown",
   "metadata": {},
   "source": [
    "# Running the Populate"
   ]
  },
  {
   "cell_type": "code",
   "execution_count": 13,
   "metadata": {},
   "outputs": [
    {
     "data": {
      "text/html": [
       "\n",
       "        \n",
       "        <style type=\"text/css\">\n",
       "            .Relation{\n",
       "                border-collapse:collapse;\n",
       "            }\n",
       "            .Relation th{\n",
       "                background: #A0A0A0; color: #ffffff; padding:4px; border:#f0e0e0 1px solid;\n",
       "                font-weight: normal; font-family: monospace; font-size: 100%;\n",
       "            }\n",
       "            .Relation td{\n",
       "                padding:4px; border:#f0e0e0 1px solid; font-size:100%;\n",
       "            }\n",
       "            .Relation tr:nth-child(odd){\n",
       "                background: #ffffff;\n",
       "            }\n",
       "            .Relation tr:nth-child(even){\n",
       "                background: #f3f1ff;\n",
       "            }\n",
       "            /* Tooltip container */\n",
       "            .djtooltip {\n",
       "            }\n",
       "            /* Tooltip text */\n",
       "            .djtooltip .djtooltiptext {\n",
       "                visibility: hidden;\n",
       "                width: 120px;\n",
       "                background-color: black;\n",
       "                color: #fff;\n",
       "                text-align: center;\n",
       "                padding: 5px 0;\n",
       "                border-radius: 6px;\n",
       "                /* Position the tooltip text - see examples below! */\n",
       "                position: absolute;\n",
       "                z-index: 1;\n",
       "            }\n",
       "            #primary {\n",
       "                font-weight: bold;\n",
       "                color: black;\n",
       "            }\n",
       "\n",
       "            #nonprimary {\n",
       "                font-weight: normal;\n",
       "                color: white;\n",
       "            }\n",
       "\n",
       "            /* Show the tooltip text when you mouse over the tooltip container */\n",
       "            .djtooltip:hover .djtooltiptext {\n",
       "                visibility: visible;\n",
       "            }\n",
       "        </style>\n",
       "        \n",
       "        <b>job reservation table for `microns_minnie65_02`</b>\n",
       "            <div style=\"max-height:1000px;max-width:1500px;overflow:auto;\">\n",
       "            <table border=\"1\" class=\"Relation\">\n",
       "                <thead> <tr style=\"text-align: right;\"> <th> <div class=\"djtooltip\">\n",
       "                                <p id=\"primary\">table_name</p>\n",
       "                                <span class=\"djtooltiptext\">className of the table</span>\n",
       "                            </div></th><th><div class=\"djtooltip\">\n",
       "                                <p id=\"primary\">key_hash</p>\n",
       "                                <span class=\"djtooltiptext\">key hash</span>\n",
       "                            </div></th><th><div class=\"djtooltip\">\n",
       "                                <p id=\"nonprimary\">status</p>\n",
       "                                <span class=\"djtooltiptext\">if tuple is missing, the job is available</span>\n",
       "                            </div></th><th><div class=\"djtooltip\">\n",
       "                                <p id=\"nonprimary\">key</p>\n",
       "                                <span class=\"djtooltiptext\">structure containing the key</span>\n",
       "                            </div></th><th><div class=\"djtooltip\">\n",
       "                                <p id=\"nonprimary\">error_message</p>\n",
       "                                <span class=\"djtooltiptext\">error message returned if failed</span>\n",
       "                            </div></th><th><div class=\"djtooltip\">\n",
       "                                <p id=\"nonprimary\">error_stack</p>\n",
       "                                <span class=\"djtooltiptext\">error stack if failed</span>\n",
       "                            </div></th><th><div class=\"djtooltip\">\n",
       "                                <p id=\"nonprimary\">user</p>\n",
       "                                <span class=\"djtooltiptext\">database user</span>\n",
       "                            </div></th><th><div class=\"djtooltip\">\n",
       "                                <p id=\"nonprimary\">host</p>\n",
       "                                <span class=\"djtooltiptext\">system hostname</span>\n",
       "                            </div></th><th><div class=\"djtooltip\">\n",
       "                                <p id=\"nonprimary\">pid</p>\n",
       "                                <span class=\"djtooltiptext\">system process id</span>\n",
       "                            </div></th><th><div class=\"djtooltip\">\n",
       "                                <p id=\"nonprimary\">connection_id</p>\n",
       "                                <span class=\"djtooltiptext\">connection_id()</span>\n",
       "                            </div></th><th><div class=\"djtooltip\">\n",
       "                                <p id=\"nonprimary\">timestamp</p>\n",
       "                                <span class=\"djtooltiptext\">automatic timestamp</span>\n",
       "                            </div> </th> </tr> </thead>\n",
       "                <tbody> <tr> <td>__auto_proofread_validation_border</td>\n",
       "<td>777dd02c41181ca7ee9a337fc3b82f88</td>\n",
       "<td>reserved</td>\n",
       "<td>=BLOB=</td>\n",
       "<td></td>\n",
       "<td>=BLOB=</td>\n",
       "<td>celiib@10.28.0.83</td>\n",
       "<td>at-compute004</td>\n",
       "<td>273374</td>\n",
       "<td>297415</td>\n",
       "<td>2021-04-07 01:51:21</td></tr><tr><td>__auto_proofread_validation_border</td>\n",
       "<td>ec8fc00b71abce477c9b9b20392f42df</td>\n",
       "<td>reserved</td>\n",
       "<td>=BLOB=</td>\n",
       "<td></td>\n",
       "<td>=BLOB=</td>\n",
       "<td>celiib@10.28.0.83</td>\n",
       "<td>at-compute004</td>\n",
       "<td>272949</td>\n",
       "<td>297265</td>\n",
       "<td>2021-04-07 01:50:58</td> </tr> </tbody>\n",
       "            </table>\n",
       "            \n",
       "            <p>Total: 2</p></div>\n",
       "            "
      ],
      "text/plain": [
       "*table_name    *key_hash      status       key        error_message  error_stac user           host           pid        connection_id  timestamp     \n",
       "+------------+ +------------+ +----------+ +--------+ +------------+ +--------+ +------------+ +------------+ +--------+ +------------+ +------------+\n",
       "__auto_proofre 777dd02c41181c reserved     =BLOB=                    =BLOB=     celiib@10.28.0 at-compute004  273374     297415         2021-04-07 01:\n",
       "__auto_proofre ec8fc00b71abce reserved     =BLOB=                    =BLOB=     celiib@10.28.0 at-compute004  272949     297265         2021-04-07 01:\n",
       " (Total: 2)"
      ]
     },
     "execution_count": 13,
     "metadata": {},
     "output_type": "execute_result"
    }
   ],
   "source": [
    "curr_table = (minnie.schema.jobs & \"table_name='__auto_proofread_validation_border'\")\n",
    "(curr_table)#.delete()# & \"status='error'\")\n",
    "#curr_table.delete()\n",
    "#(curr_table & \"error_message = 'ValueError: need at least one array to concatenate'\").delete()\n"
   ]
  },
  {
   "cell_type": "code",
   "execution_count": 14,
   "metadata": {},
   "outputs": [
    {
     "name": "stderr",
     "output_type": "stream",
     "text": [
      "INFO - 2021-04-07 06:51:45,142 - settings - Setting database.host to at-database.ad.bcm.edu\n",
      "INFO - 2021-04-07 06:51:45,143 - settings - Setting database.user to celiib\n",
      "INFO - 2021-04-07 06:51:45,144 - settings - Setting database.password to newceliipass\n",
      "INFO - 2021-04-07 06:51:45,144 - settings - Setting database.host to at-database.ad.bcm.edu\n",
      "INFO - 2021-04-07 06:51:45,145 - settings - Setting database.user to celiib\n",
      "INFO - 2021-04-07 06:51:45,145 - settings - Setting database.password to newceliipass\n",
      "INFO - 2021-04-07 06:51:45,148 - settings - Setting enable_python_native_blobs to True\n",
      "INFO - 2021-04-07 06:51:45,652 - settings - Setting enable_python_native_blobs to True\n",
      "INFO - 2021-04-07 06:51:45,725 - autopopulate - Found 53 keys to populate\n",
      "INFO - 2021-04-07 06:51:45,733 - connection - Transaction started\n",
      "INFO - 2021-04-07 06:51:45,735 - autopopulate - Populating: {'segment_id': 864691135925564174, 'decimation_version': 0, 'decimation_ratio': Decimal('0.25'), 'ver': Decimal('30.00'), 'process_version': 5, 'index': 0, 'split_index': 0, 'proof_version': 3}\n"
     ]
    },
    {
     "name": "stdout",
     "output_type": "stream",
     "text": [
      "Populate Started\n",
      "\n",
      "\n",
      "\n",
      "---- Working on Neuron 864691135925564174 ----\n",
      "Decompressing Neuron in minimal output mode...please wait\n",
      "Pulled from Table Decomposition so setting split_index = 0\n",
      "Dont need spine recalculation\n",
      "Number of Neurons found = 1\n",
      "\n",
      "Part 1: Axon like branchese \n",
      "{'L0': array([ 0,  4,  8,  9, 15, 16, 19, 20, 21, 22]), 'L1': array([ 0,  1,  2,  4,  6,  7,  8,  9, 10, 11, 12, 13, 14, 15, 17, 18, 19,\n",
      "       20, 24, 25]), 'L2': array([0, 1, 3, 6]), 'L3': array([1]), 'L4': array([4])}\n",
      "Limb L0 soma angle: 15.88 \n",
      "Limb L1 soma angle: 145.75 \n",
      "Limb L2 soma angle: 104.65 \n",
      "Limb L3 soma angle: 122.05 \n",
      "Limb L4 soma angle: 158.41 \n",
      "Limb L5 soma angle: 77.01 \n",
      "\n",
      "Part 2: possible_axon_limbs = [1, 2, 3, 4, 5]\n",
      "\n",
      "Phase 2: Working on Limb L1\n",
      "nodes_to_eliminate = [21 23]\n",
      "\n",
      "Phase 2: Working on Limb L2\n",
      "nodes_to_eliminate = [11]\n",
      "\n",
      "Phase 2: Working on Limb L3\n",
      "nodes_to_eliminate = [2]\n",
      "\n",
      "Phase 2: Working on Limb L4\n",
      "nodes_to_eliminate = [1]\n",
      "\n",
      "Phase 2: Working on Limb L5\n",
      "nodes_to_eliminate = []\n",
      "\n",
      "----Working on Limb L1-----\n",
      "No endpoints were eliminated so don't need to add back any candidates\n",
      "\n",
      "----Working on Limb L2-----\n",
      "No endpoints were eliminated so don't need to add back any candidates\n",
      "\n",
      "----Working on Limb L3-----\n",
      "No endpoints were eliminated so don't need to add back any candidates\n",
      "\n",
      "----Working on Limb L4-----\n",
      "No endpoints were eliminated so don't need to add back any candidates\n",
      "\n",
      "----Working on Limb L5-----\n",
      "No nodes were eliminated so don't need to add back any candidates\n",
      "Final Candidates\n",
      "\n",
      "Limb 1\n",
      "Candidate 0 (darkslategray): array([ 0,  1,  2,  4,  6,  7,  8,  9, 10, 11, 12, 13, 14, 15, 17, 18, 19,\n",
      "       20, 24, 25])\n",
      "Candidate 1 (brown): array([16,  3,  5])\n",
      "Candidate 2 (darkslategray): array([22])\n",
      "\n",
      "Limb 2\n",
      "Candidate 0 (cadetblue): array([0, 1, 2, 3, 4, 5, 6, 7, 8])\n",
      "Candidate 1 (gray): array([9])\n",
      "Candidate 2 (pink): array([10])\n",
      "\n",
      "Limb 3\n",
      "Candidate 0 (cadetblue): array([0, 1, 3, 4, 5])\n",
      "Candidate 1 (green): array([6])\n",
      "\n",
      "Limb 4\n",
      "Candidate 0 (olive): array([0])\n",
      "Candidate 1 (palegreen): array([2, 3, 4, 5])\n",
      "\n",
      "Limb 5\n",
      "Candidate 0 (forestgreen): array([0, 1, 2, 3, 4])\n",
      "Part 3: axon_subgraph_candidates = {1: [[0, 1, 2, 4, 6, 7, 8, 9, 10, 11, 12, 13, 14, 15, 17, 18, 19, 20, 24, 25], [16, 3, 5], [22]], 2: [[0, 1, 2, 3, 4, 5, 6, 7, 8], [9], [10]], 3: [[0, 1, 3, 4, 5], [6]], 4: [[0], [2, 3, 4, 5]], 5: [[0, 1, 2, 3, 4]]}\n",
      "\n",
      "\n",
      " --- Working on limb 1, candidate # 0\n",
      "20 out of 20 branches are axons\n",
      "Axon percentage = 1.0\n",
      "curr_axon_angle_threshold = 95\n",
      "candidate_nodes = [ 0  1  2  4  6  7  8  9 10 11 12 13 14 15 17 18 19 20 21 24 25]\n",
      "non_axon_branches_on_subgraph = [21]\n",
      "endnodes_to_test = [4521]\n",
      "Skeleton paths distances = [24955.67158033]\n",
      "Filtered indexes = [0]\n",
      "len(filtered_skeletons) = 1\n",
      "sk_angles = [150.58939947]\n",
      "candidate_angles,restr_skels = (array([150.58939947]), [array([[[1306026.28723952,  659715.27343408,  760858.63218179],\n",
      "        [1306052.9933288 ,  659806.0797517 ,  760890.88119214]],\n",
      "\n",
      "       [[1306052.9933288 ,  659806.0797517 ,  760890.88119214],\n",
      "        [1306078.84592063,  659896.60634015,  760924.53093672]],\n",
      "\n",
      "       [[1306078.84592063,  659896.60634015,  760924.53093672],\n",
      "        [1306103.17532646,  659986.5087585 ,  760960.9402101 ]],\n",
      "\n",
      "       [[1306103.17532646,  659986.5087585 ,  760960.9402101 ],\n",
      "        [1306125.59513896,  660075.58651716,  761000.38285884]],\n",
      "\n",
      "       [[1306125.59513896,  660075.58651716,  761000.38285884],\n",
      "        [1306147.02186045,  660164.23991937,  761041.38467823]],\n",
      "\n",
      "       [[1306147.02186045,  660164.23991937,  761041.38467823],\n",
      "        [1306164.45235738,  660251.67251099,  761086.68059084]],\n",
      "\n",
      "       [[1306164.45235738,  660251.67251099,  761086.68059084],\n",
      "        [1306180.21502342,  660338.79422056,  761133.07637379]],\n",
      "\n",
      "       [[1306180.21502342,  660338.79422056,  761133.07637379],\n",
      "        [1306192.39668482,  660425.24843437,  761181.8336916 ]],\n",
      "\n",
      "       [[1306192.39668482,  660425.24843437,  761181.8336916 ],\n",
      "        [1306200.90655536,  660511.29373632,  761231.96564486]],\n",
      "\n",
      "       [[1306200.90655536,  660511.29373632,  761231.96564486],\n",
      "        [1306206.91749553,  660597.06074293,  761283.03314113]],\n",
      "\n",
      "       [[1306206.91749553,  660597.06074293,  761283.03314113],\n",
      "        [1306207.34221934,  660682.38185138,  761335.13171548]],\n",
      "\n",
      "       [[1306207.34221934,  660682.38185138,  761335.13171548],\n",
      "        [1306206.24856317,  660767.58036688,  761387.44766475]],\n",
      "\n",
      "       [[1306206.24856317,  660767.58036688,  761387.44766475],\n",
      "        [1306199.20914039,  660852.28799947,  761440.12653631]],\n",
      "\n",
      "       [[1306199.20914039,  660852.28799947,  761440.12653631],\n",
      "        [1306190.48832452,  660936.81757479,  761492.77356799]],\n",
      "\n",
      "       [[1306190.48832452,  660936.81757479,  761492.77356799],\n",
      "        [1306177.6587903 ,  661020.91204236,  761545.34279449]],\n",
      "\n",
      "       [[1306177.6587903 ,  661020.91204236,  761545.34279449],\n",
      "        [1306162.57916936,  661104.710342  ,  761597.73269693]],\n",
      "\n",
      "       [[1306162.57916936,  661104.710342  ,  761597.73269693],\n",
      "        [1306145.00400739,  661188.18016575,  761649.92371344]],\n",
      "\n",
      "       [[1306145.00400739,  661188.18016575,  761649.92371344],\n",
      "        [1306125.24150861,  661271.35320806,  761701.77553549]],\n",
      "\n",
      "       [[1306125.24150861,  661271.35320806,  761701.77553549],\n",
      "        [1306104.12947034,  661354.34314263,  761753.4180819 ]],\n",
      "\n",
      "       [[1306104.12947034,  661354.34314263,  761753.4180819 ],\n",
      "        [1306081.31548162,  661437.19345232,  761804.54604968]],\n",
      "\n",
      "       [[1306081.31548162,  661437.19345232,  761804.54604968],\n",
      "        [1306057.81715681,  661519.98762033,  761855.46711088]],\n",
      "\n",
      "       [[1306057.81715681,  661519.98762033,  761855.46711088],\n",
      "        [1306033.20653772,  661602.88638886,  761905.68212858]],\n",
      "\n",
      "       [[1306033.20653772,  661602.88638886,  761905.68212858],\n",
      "        [1306008.23700526,  661685.81890972,  761955.66932127]],\n",
      "\n",
      "       [[1306008.23700526,  661685.81890972,  761955.66932127],\n",
      "        [1305982.57369573,  661769.06915083,  762004.76459321]],\n",
      "\n",
      "       [[1305982.57369573,  661769.06915083,  762004.76459321],\n",
      "        [1305956.68572034,  661852.4222793 ,  762053.57103443]],\n",
      "\n",
      "       [[1305956.68572034,  661852.4222793 ,  762053.57103443],\n",
      "        [1305930.20281083,  661936.19127254,  762101.32884899]],\n",
      "\n",
      "       [[1305930.20281083,  661936.19127254,  762101.32884899],\n",
      "        [1305903.49955057,  662020.11429311,  762148.69827489]],\n",
      "\n",
      "       [[1305903.49955057,  662020.11429311,  762148.69827489],\n",
      "        [1305875.960328  ,  662104.40990752,  762194.90339181]],\n",
      "\n",
      "       [[1305875.960328  ,  662104.40990752,  762194.90339181],\n",
      "        [1305848.06748315,  662188.86313367,  762240.6159918 ]],\n",
      "\n",
      "       [[1305848.06748315,  662188.86313367,  762240.6159918 ],\n",
      "        [1305818.81485631,  662273.50713643,  762285.09284416]],\n",
      "\n",
      "       [[1305818.81485631,  662273.50713643,  762285.09284416],\n",
      "        [1305788.97000769,  662358.23422756,  762329.03149503]],\n",
      "\n",
      "       [[1305788.97000769,  662358.23422756,  762329.03149503],\n",
      "        [1305757.05878961,  662442.83507505,  762371.7182834 ]],\n",
      "\n",
      "       [[1305757.05878961,  662442.83507505,  762371.7182834 ],\n",
      "        [1305724.36774163,  662527.38827928,  762413.93262972]],\n",
      "\n",
      "       [[1305724.36774163,  662527.38827928,  762413.93262972],\n",
      "        [1305688.90822781,  662611.39054658,  762454.96702525]],\n",
      "\n",
      "       [[1305688.90822781,  662611.39054658,  762454.96702525],\n",
      "        [1305652.73284798,  662695.25035337,  762495.69631076]],\n",
      "\n",
      "       [[1305652.73284798,  662695.25035337,  762495.69631076],\n",
      "        [1305613.41440287,  662778.15515262,  762535.43887928]],\n",
      "\n",
      "       [[1305613.41440287,  662778.15515262,  762535.43887928],\n",
      "        [1305573.69192655,  662860.93438173,  762575.05715313]],\n",
      "\n",
      "       [[1305573.69192655,  662860.93438173,  762575.05715313],\n",
      "        [1305531.18635464,  662942.64289616,  762614.00577346]],\n",
      "\n",
      "       [[1305531.18635464,  662942.64289616,  762614.00577346],\n",
      "        [1305488.47270349,  663024.25950516,  762652.91489764]],\n",
      "\n",
      "       [[1305488.47270349,  663024.25950516,  762652.91489764],\n",
      "        [1305444.38029319,  663105.26713725,  762691.56231537]],\n",
      "\n",
      "       [[1305444.38029319,  663105.26713725,  762691.56231537],\n",
      "        [1305400.2515712 ,  663186.25278755,  762730.21428261]],\n",
      "\n",
      "       [[1305400.2515712 ,  663186.25278755,  762730.21428261],\n",
      "        [1305356.00788378,  663267.16884192,  762768.88065391]],\n",
      "\n",
      "       [[1305356.00788378,  663267.16884192,  762768.88065391],\n",
      "        [1305312.17137399,  663348.24564014,  762807.66860249]],\n",
      "\n",
      "       [[1305312.17137399,  663348.24564014,  762807.66860249],\n",
      "        [1305269.14017748,  663429.64035655,  762846.69700585]],\n",
      "\n",
      "       [[1305269.14017748,  663429.64035655,  762846.69700585],\n",
      "        [1305227.11775088,  663511.38196756,  762886.07609203]],\n",
      "\n",
      "       [[1305227.11775088,  663511.38196756,  762886.07609203],\n",
      "        [1305186.46516843,  663593.59463897,  762925.93138277]],\n",
      "\n",
      "       [[1305186.46516843,  663593.59463897,  762925.93138277],\n",
      "        [1305147.55339413,  663676.25967321,  762966.53720761]],\n",
      "\n",
      "       [[1305147.55339413,  663676.25967321,  762966.53720761],\n",
      "        [1305110.2607834 ,  663759.34545995,  763007.84112057]],\n",
      "\n",
      "       [[1305110.2607834 ,  663759.34545995,  763007.84112057],\n",
      "        [1305075.66505364,  663842.86918156,  763050.52086393]],\n",
      "\n",
      "       [[1305075.66505364,  663842.86918156,  763050.52086393],\n",
      "        [1305042.61488498,  663926.64388017,  763093.98908479]],\n",
      "\n",
      "       [[1305042.61488498,  663926.64388017,  763093.98908479],\n",
      "        [1305013.61016606,  664010.6874394 ,  763139.70398068]],\n",
      "\n",
      "       [[1305013.61016606,  664010.6874394 ,  763139.70398068],\n",
      "        [1304985.6890152 ,  664094.79982358,  763186.02060543]],\n",
      "\n",
      "       [[1304985.6890152 ,  664094.79982358,  763186.02060543],\n",
      "        [1304963.58104215,  664178.80659904,  763235.55947104]],\n",
      "\n",
      "       [[1304963.58104215,  664178.80659904,  763235.55947104],\n",
      "        [1304943.18897823,  664262.66355854,  763285.97942388]],\n",
      "\n",
      "       [[1304943.18897823,  664262.66355854,  763285.97942388],\n",
      "        [1304927.38221503,  664346.12017564,  763338.75384287]],\n",
      "\n",
      "       [[1304927.38221503,  664346.12017564,  763338.75384287],\n",
      "        [1304915.16469958,  664429.07674765,  763393.13813064]],\n",
      "\n",
      "       [[1304915.16469958,  664429.07674765,  763393.13813064],\n",
      "        [1304905.52394079,  664511.67433232,  763448.67815925]],\n",
      "\n",
      "       [[1304905.52394079,  664511.67433232,  763448.67815925],\n",
      "        [1304900.78580355,  664593.42597333,  763506.05197787]],\n",
      "\n",
      "       [[1304900.78580355,  664593.42597333,  763506.05197787],\n",
      "        [1304897.53963023,  664674.90873145,  763563.90165675]],\n",
      "\n",
      "       [[1304897.53963023,  664674.90873145,  763563.90165675],\n",
      "        [1304897.17832282,  664755.86262405,  763622.60716526]],\n",
      "\n",
      "       [[1304897.17832282,  664755.86262405,  763622.60716526],\n",
      "        [1304898.23806358,  664836.604807  ,  763681.58413016]],\n",
      "\n",
      "       [[1304898.23806358,  664836.604807  ,  763681.58413016],\n",
      "        [1304900.15822341,  664917.21880358,  763740.72545702]],\n",
      "\n",
      "       [[1304900.15822341,  664917.21880358,  763740.72545702],\n",
      "        [1304902.6364113 ,  664998.00224732,  763799.61421104]],\n",
      "\n",
      "       [[1304902.6364113 ,  664998.00224732,  763799.61421104],\n",
      "        [1304904.78587185,  665079.06017962,  763858.13231682]],\n",
      "\n",
      "       [[1304904.78587185,  665079.06017962,  763858.13231682],\n",
      "        [1304906.27859365,  665160.64083864,  763915.94553205]],\n",
      "\n",
      "       [[1304906.27859365,  665160.64083864,  763915.94553205],\n",
      "        [1304906.21911446,  665243.26787818,  763972.25188595]],\n",
      "\n",
      "       [[1304906.21911446,  665243.26787818,  763972.25188595],\n",
      "        [1304905.30478229,  665326.49265388,  764027.66925543]],\n",
      "\n",
      "       [[1304905.30478229,  665326.49265388,  764027.66925543],\n",
      "        [1304901.8968438 ,  665411.64204985,  764079.99483542]],\n",
      "\n",
      "       [[1304901.8968438 ,  665411.64204985,  764079.99483542],\n",
      "        [1304897.43495652,  665497.91013978,  764130.29307308]],\n",
      "\n",
      "       [[1304897.43495652,  665497.91013978,  764130.29307308],\n",
      "        [1304891.67110142,  665585.56017874,  764178.08688695]],\n",
      "\n",
      "       [[1304891.67110142,  665585.56017874,  764178.08688695],\n",
      "        [1304884.99280573,  665675.28299871,  764221.66910126]],\n",
      "\n",
      "       [[1304884.99280573,  665675.28299871,  764221.66910126],\n",
      "        [1304878.15001222,  665765.81549473,  764263.54264568]],\n",
      "\n",
      "       [[1304878.15001222,  665765.81549473,  764263.54264568],\n",
      "        [1304871.80745242,  665858.44305006,  764300.68975766]],\n",
      "\n",
      "       [[1304871.80745242,  665858.44305006,  764300.68975766],\n",
      "        [1304866.36764109,  665951.82721944,  764335.93666555]],\n",
      "\n",
      "       [[1304866.36764109,  665951.82721944,  764335.93666555],\n",
      "        [1304862.27536984,  666046.34079282,  764368.34712315]],\n",
      "\n",
      "       [[1304862.27536984,  666046.34079282,  764368.34712315],\n",
      "        [1304860.35059384,  666141.62578919,  764398.53299883]],\n",
      "\n",
      "       [[1304860.35059384,  666141.62578919,  764398.53299883],\n",
      "        [1304859.66969927,  666237.35348951,  764427.4422322 ]],\n",
      "\n",
      "       [[1304859.66969927,  666237.35348951,  764427.4422322 ],\n",
      "        [1304862.1145195 ,  666333.47723083,  764454.85679394]],\n",
      "\n",
      "       [[1304862.1145195 ,  666333.47723083,  764454.85679394],\n",
      "        [1304865.25100587,  666429.68860911,  764481.94061092]],\n",
      "\n",
      "       [[1304865.25100587,  666429.68860911,  764481.94061092],\n",
      "        [1304871.77158621,  666525.6870286 ,  764509.1666367 ]],\n",
      "\n",
      "       [[1304871.77158621,  666525.6870286 ,  764509.1666367 ],\n",
      "        [1304878.61650908,  666621.62057599,  764536.53639293]],\n",
      "\n",
      "       [[1304878.61650908,  666621.62057599,  764536.53639293],\n",
      "        [1304888.13628034,  666716.68171052,  764566.07881424]],\n",
      "\n",
      "       [[1304888.13628034,  666716.68171052,  764566.07881424],\n",
      "        [1304897.95270855,  666811.49080093,  764596.26963799]],\n",
      "\n",
      "       [[1304897.95270855,  666811.49080093,  764596.26963799],\n",
      "        [1304909.52653177,  666904.80678265,  764630.3015961 ]],\n",
      "\n",
      "       [[1304909.52653177,  666904.80678265,  764630.3015961 ],\n",
      "        [1304921.43251473,  666997.50409614,  764665.75214785]],\n",
      "\n",
      "       [[1304921.43251473,  666997.50409614,  764665.75214785],\n",
      "        [1304934.49374051,  667088.0496978 ,  764706.13653097]],\n",
      "\n",
      "       [[1304934.49374051,  667088.0496978 ,  764706.13653097],\n",
      "        [1304947.9787533 ,  667177.42518281,  764748.73930783]],\n",
      "\n",
      "       [[1304947.9787533 ,  667177.42518281,  764748.73930783],\n",
      "        [1304962.45808837,  667264.05524847,  764796.54705386]],\n",
      "\n",
      "       [[1304962.45808837,  667264.05524847,  764796.54705386],\n",
      "        [1304977.66114541,  667348.92034798,  764847.0243901 ]],\n",
      "\n",
      "       [[1304977.66114541,  667348.92034798,  764847.0243901 ],\n",
      "        [1304994.12941745,  667430.69992334,  764902.16871953]],\n",
      "\n",
      "       [[1304994.12941745,  667430.69992334,  764902.16871953],\n",
      "        [1305011.85947722,  667510.36821733,  764959.79522991]],\n",
      "\n",
      "       [[1305011.85947722,  667510.36821733,  764959.79522991],\n",
      "        [1305031.42817059,  667586.96002483,  765021.03868886]],\n",
      "\n",
      "       [[1305031.42817059,  667586.96002483,  765021.03868886],\n",
      "        [1305052.84584149,  667661.55274206,  765083.99065327]],\n",
      "\n",
      "       [[1305052.84584149,  667661.55274206,  765083.99065327],\n",
      "        [1305076.81493476,  667733.38689488,  765149.30020125]],\n",
      "\n",
      "       [[1305076.81493476,  667733.38689488,  765149.30020125],\n",
      "        [1305102.96520323,  667803.73673313,  765215.3007173 ]],\n",
      "\n",
      "       [[1305102.96520323,  667803.73673313,  765215.3007173 ],\n",
      "        [1305132.33983766,  667871.89235365,  765282.32267075]],\n",
      "\n",
      "       [[1305132.33983766,  667871.89235365,  765282.32267075],\n",
      "        [1305163.78334784,  667939.23713328,  765349.16051568]],\n",
      "\n",
      "       [[1305163.78334784,  667939.23713328,  765349.16051568],\n",
      "        [1305198.84260471,  668005.16481707,  765415.67659657]],\n",
      "\n",
      "       [[1305198.84260471,  668005.16481707,  765415.67659657],\n",
      "        [1305235.473841  ,  668070.87304274,  765481.509727  ]],\n",
      "\n",
      "       [[1305235.473841  ,  668070.87304274,  765481.509727  ],\n",
      "        [1305275.56975041,  668136.09757843,  765545.83762136]]])])\n"
     ]
    },
    {
     "name": "stdout",
     "output_type": "stream",
     "text": [
      "base_final_widths = [114.65375205 143.42105768 145.8754226 ]\n",
      "overall_ais_width = 126.46725095141397\n",
      "ais_width = 134.65007744283426\n",
      "Adding the following branches as true axons: [ 0  1  2  4  6  7  8  9 10 11 12 13 14 15 17 18 19 20 24 25]\n",
      "curr_soma_angle = 145.75\n",
      "max_axon_angle = 150.58939946669722\n",
      "Changing to a better axon candidate\n",
      "\n",
      "\n",
      " --- Working on limb 1, candidate # 1\n",
      "0 out of 3 branches are axons\n",
      "Axon percentage = 0.0\n",
      "Not adding candidate no axon branches detected \n",
      "\n",
      "\n",
      " --- Working on limb 1, candidate # 2\n",
      "0 out of 1 branches are axons\n",
      "Axon percentage = 0.0\n",
      "Not adding candidate no axon branches detected \n",
      "\n",
      "\n",
      " --- Working on limb 2, candidate # 0\n",
      "4 out of 9 branches are axons\n",
      "Axon percentage = 0.4444444444444444\n",
      "curr_axon_angle_threshold = 120\n",
      "candidate_nodes = [ 0  1  2  3  4  5  6  7  8 11]\n",
      "non_axon_branches_on_subgraph = [ 2  4  5  7  8 11]\n",
      "endnodes_to_test = []\n",
      "candidate_angles,restr_skels = (None, None)\n",
      "Not adding candidate because no angles (None) passed the threhold 120 \n",
      "\n",
      "\n",
      " --- Working on limb 2, candidate # 1\n",
      "0 out of 1 branches are axons\n",
      "Axon percentage = 0.0\n",
      "Not adding candidate no axon branches detected \n",
      "\n",
      "\n",
      " --- Working on limb 2, candidate # 2\n",
      "0 out of 1 branches are axons\n",
      "Axon percentage = 0.0\n",
      "Not adding candidate no axon branches detected \n",
      "\n",
      "\n",
      " --- Working on limb 3, candidate # 0\n",
      "1 out of 5 branches are axons\n",
      "Axon percentage = 0.2\n",
      "curr_axon_angle_threshold = 120\n",
      "candidate_nodes = [0 1 2 3 4 5]\n",
      "non_axon_branches_on_subgraph = [0 2 3 4 5]\n",
      "endnodes_to_test = []\n",
      "candidate_angles,restr_skels = (None, None)\n",
      "Not adding candidate because no angles (None) passed the threhold 120 \n",
      "\n",
      "\n",
      " --- Working on limb 3, candidate # 1\n",
      "0 out of 1 branches are axons\n",
      "Axon percentage = 0.0\n",
      "Not adding candidate no axon branches detected \n",
      "\n",
      "\n",
      " --- Working on limb 4, candidate # 0\n",
      "0 out of 1 branches are axons\n",
      "Axon percentage = 0.0\n",
      "Not adding candidate no axon branches detected \n",
      "\n",
      "\n",
      " --- Working on limb 4, candidate # 1\n",
      "1 out of 4 branches are axons\n",
      "Axon percentage = 0.25\n",
      "curr_axon_angle_threshold = 120\n",
      "candidate_nodes = [1 2 3 4 5]\n",
      "non_axon_branches_on_subgraph = [1 2 3 5]\n",
      "endnodes_to_test = []\n",
      "candidate_angles,restr_skels = (None, None)\n",
      "Not adding candidate because no angles (None) passed the threhold 120 \n",
      "\n",
      "\n",
      " --- Working on limb 5, candidate # 0\n",
      "0 out of 5 branches are axons\n",
      "Axon percentage = 0.0\n",
      "Not adding candidate no axon branches detected \n",
      "Using the best axon approach\n",
      "Using True\n",
      "Limb L1: Axon branches before dendritic path filter = [ 0  1  2  4  6  7  8  9 10 11 12 13 14 15 17 18 19 20 24 25]\n",
      "Limb L1: Axon branches AFTER dendritic path filter = [ 0  1  2  4  6  7  8  9 10 11 12 13 14 15 17 18 19 20 24 25]\n",
      "\n",
      "\n",
      "Part 4: final_true_axons = {'L1': array([ 0,  1,  2,  4,  6,  7,  8,  9, 10, 11, 12, 13, 14, 15, 17, 18, 19,\n",
      "       20, 24, 25])}\n",
      "\n",
      "--- Working on filter 0:\n",
      "function = dendrite_on_axon_merges\n",
      "function __name__ = filter_away_dendrite_on_axon_merges\n",
      "function arguments = {'use_pre_existing_axon_labels': True}\n",
      "\n",
      "\n",
      "\n",
      "\n",
      "\n",
      " ---- Total time for applying filter: 0.3399031162261963 -----\n",
      "Starting axon branch was not the limb starting node so generating border vertices and computing upstream branch\n",
      "upstream_node_to_axon_starting_branch = 21\n"
     ]
    },
    {
     "name": "stderr",
     "output_type": "stream",
     "text": [
      "\r",
      "  0%|          | 0/1 [00:00<?, ?it/s]"
     ]
    },
    {
     "name": "stdout",
     "output_type": "stream",
     "text": [
      "root_curr = [1303864.   653082.7  759135.2]\n",
      "Time for preparing soma vertices and root: 0.0016071796417236328\n",
      "invalidation_d = 2000\n",
      "cc_vertex_thresh = 10\n"
     ]
    },
    {
     "data": {
      "application/vnd.jupyter.widget-view+json": {
       "model_id": "7474ff924aca42d693d0f9b43177b695",
       "version_major": 2,
       "version_minor": 0
      },
      "text/plain": [
       "  0%|          | 0/21629 [00:00<?, ?it/s]"
      ]
     },
     "metadata": {},
     "output_type": "display_data"
    },
    {
     "name": "stderr",
     "output_type": "stream",
     "text": [
      "100%|██████████| 1/1 [00:00<00:00,  3.11it/s]\n"
     ]
    },
    {
     "name": "stdout",
     "output_type": "stream",
     "text": [
      "meshparty_segment_size = 100\n",
      "Time for 1st pass MP skeletonization: 0.7746560573577881\n",
      "connecting at the root\n",
      "branches_touching_root = [46]\n",
      "combining close nodes\n",
      "combine_threshold = 1300\n",
      "length of Graph = 6939\n",
      "After combining close endpoints max(kept_branches_idx) = 46, len(kept_branches_idx) = 44\n",
      "empty_indices % = 0.0\n",
      " conflict_indices % = 0.018592883173556788\n"
     ]
    },
    {
     "data": {
      "application/vnd.jupyter.widget-view+json": {
       "model_id": "fd9755420fa448408c6ef2751736f84c",
       "version_major": 2,
       "version_minor": 0
      },
      "text/plain": [
       "  0%|          | 0/20 [00:00<?, ?it/s]"
      ]
     },
     "metadata": {},
     "output_type": "display_data"
    },
    {
     "name": "stdout",
     "output_type": "stream",
     "text": [
      "AFTER face_lookup_resolved_test\n"
     ]
    },
    {
     "data": {
      "application/vnd.jupyter.widget-view+json": {
       "model_id": "fbdc6282180944bf9ba48fb4a3399826",
       "version_major": 2,
       "version_minor": 0
      },
      "text/plain": [
       "  0%|          | 0/44 [00:00<?, ?it/s]"
      ]
     },
     "metadata": {},
     "output_type": "display_data"
    },
    {
     "name": "stdout",
     "output_type": "stream",
     "text": [
      "Decomposing first pass: 4.630800247192383\n",
      "Only Using MeshParty Skeletonization and Mesh Correspondence\n",
      "Another print\n",
      "Divinding into MP and MAP pieces: 1.8358230590820312e-05\n",
      "Total time for MAP sublimb processing 4.291534423828125e-06\n",
      "---- Working on MP Decomposition #0 ----\n",
      "Using Quicker soma_to_piece_touching_vertices because no MAP and only one sublimb_mesh piece \n",
      "MP filtering soma verts: 7.343292236328125e-05\n",
      "Fixing Possible Soma Extension Branch for Sublimb 0\n",
      "Total time for mesh KDTree = 0.13764095306396484\n",
      "sbv[0].reshape(-1,3) = [[1303864.   653082.7  759135.2]]\n",
      "closest_sk_pt_coord BEFORE = [1303554.19298434  652916.271947    759498.67979828]\n",
      "current_skeleton.shape = (698, 2, 3)\n",
      "node_for_stitch = 0: [1303554.19298434  652916.271947    759498.67979828]\n",
      "node_for_stitch AFTER = 0: [1303554.19298434  652916.271947    759498.67979828]\n",
      "possible_node_loc = [  0 598]\n",
      "possible_node_loc AFTER = [  0 598]\n",
      "curr_shortest_path = [0]\n",
      "Current stitch point was a branch or endpoint\n",
      "change_status for create soma extending pieces = False\n",
      "closest_sk_pt_coord AFTER = [1303554.19298434  652916.271947    759498.67979828]\n",
      "skipping soma 0 because closest skeleton node was already end node\n",
      "endpoints_must_keep = {0: array([[1303554.19298434,  652916.271947  ,  759498.67979828]])}\n",
      "match_sk_branches = [43]\n",
      "The new branch info was none so skipping \n",
      "\n",
      "No soma extending branch was added for this sublimb even though it had a soma border (means they already existed)\n",
      "MP (because soma touching verts) soma extension add: 1.6973040103912354\n",
      "There were not both MAP and MP pieces so skipping the stitch resolving phase\n",
      "Time for decomp of Limb = 7.372869253158569\n",
      "Number of matching vertices = 19\n",
      "Only one endpoint after filtering away the endpoints that are not on the skeleton\n",
      "Using Distance measure skeletal_distance\n",
      "endpoints_must_keep = [[1303554.19298434  652916.271947    759498.67979828]]\n",
      "Number of end_nodes BEFORE filtering = 25\n",
      "all_single_nodes_to_eliminate = [19]\n",
      "no small end nodes to get rid of so returning whole skeleton\n",
      "Removed 0 skeletal branches\n"
     ]
    },
    {
     "data": {
      "application/vnd.jupyter.widget-view+json": {
       "model_id": "764766f6c810478780b71f63154d69fd",
       "version_major": 2,
       "version_minor": 0
      },
      "text/plain": [
       "  0%|          | 0/44 [00:00<?, ?it/s]"
      ]
     },
     "metadata": {},
     "output_type": "display_data"
    },
    {
     "name": "stdout",
     "output_type": "stream",
     "text": [
      "43103 43104\n",
      "For marked faces: None\n",
      "empty_indices % = 0.0\n",
      " conflict_indices % = 0.0\n"
     ]
    },
    {
     "data": {
      "application/vnd.jupyter.widget-view+json": {
       "model_id": "27e14560422e4409a9387f03525627c7",
       "version_major": 2,
       "version_minor": 0
      },
      "text/plain": [
       "0it [00:00, ?it/s]"
      ]
     },
     "metadata": {},
     "output_type": "display_data"
    },
    {
     "name": "stdout",
     "output_type": "stream",
     "text": [
      "AFTER face_lookup_resolved_test\n"
     ]
    },
    {
     "data": {
      "application/vnd.jupyter.widget-view+json": {
       "model_id": "2bc1f3c87166463ea974ae7834375fc0",
       "version_major": 2,
       "version_minor": 0
      },
      "text/plain": [
       "  0%|          | 0/44 [00:00<?, ?it/s]"
      ]
     },
     "metadata": {},
     "output_type": "display_data"
    },
    {
     "name": "stdout",
     "output_type": "stream",
     "text": [
      "Limb Correspondence before stitching = 44\n",
      "Limb Correspondence AFTER stitching = 44\n",
      "Readjusting starting axon branch skeleton\n",
      "Fixing the axon starting branch endpoint to align with upstream branch\n",
      "Starting Branch 36 skeleton before fix: (698, 2, 3)\n",
      "Starting Branch 36 skeleton AFTER fix: (699, 2, 3)\n",
      "concept_network_dict = {0: [<networkx_utils.GraphOrderedEdges object at 0x7f44dc25c358>]}\n",
      "\n",
      "\n",
      "----Working on seperate_graph 0----\n",
      "\n",
      "\n",
      "---------Working on soma_idx = 0, soma_group_idx 0, endpt = [1302509.375       650988.35833333  758666.4375    ]---------\n",
      "Starting_edge inside branches_to_conept = [[1302509.375       650988.35833333  758666.4375    ]\n",
      " [1303429.67141652  652550.26358494  759845.76483537]]\n",
      "At the start, starting_node (in terms of the skeleton, that shouldn't match the starting edge) = [37]\n",
      "printing out current edge:\n",
      "[[1302509.375       650988.35833333  758666.4375    ]\n",
      " [1303429.67141652  652550.26358494  759845.76483537]]\n",
      "edge_endpoints_to_process was empty so exiting loop after 50 iterations\n",
      "starting_node in concept map (that should match the starting edge) = 44\n",
      "Total time for branches to concept conversion = 1.0941791534423828\n",
      "\n",
      "Done generating concept network \n",
      "\n",
      "\n"
     ]
    },
    {
     "data": {
      "application/vnd.jupyter.widget-view+json": {
       "model_id": "ba5b79ccb0c24c0192b3989ee2c078be",
       "version_major": 2,
       "version_minor": 0
      },
      "text/plain": [
       "  0%|          | 0/35 [00:00<?, ?it/s]"
      ]
     },
     "metadata": {},
     "output_type": "display_data"
    },
    {
     "data": {
      "application/vnd.jupyter.widget-view+json": {
       "model_id": "3d44abf3d2b049fc90adb410b063d736",
       "version_major": 2,
       "version_minor": 0
      },
      "text/plain": [
       "  0%|          | 0/24 [00:00<?, ?it/s]"
      ]
     },
     "metadata": {},
     "output_type": "display_data"
    },
    {
     "data": {
      "application/vnd.jupyter.widget-view+json": {
       "model_id": "81f3fc6061d043f68710bde4fbb41c4e",
       "version_major": 2,
       "version_minor": 0
      },
      "text/plain": [
       "  0%|          | 0/5 [00:00<?, ?it/s]"
      ]
     },
     "metadata": {},
     "output_type": "display_data"
    },
    {
     "data": {
      "application/vnd.jupyter.widget-view+json": {
       "model_id": "565b9447c76b45ce8171af2fdb6abea4",
       "version_major": 2,
       "version_minor": 0
      },
      "text/plain": [
       "  0%|          | 0/4 [00:00<?, ?it/s]"
      ]
     },
     "metadata": {},
     "output_type": "display_data"
    },
    {
     "data": {
      "application/vnd.jupyter.widget-view+json": {
       "model_id": "ee0f4f91bd1a49aea88da1d2c22b697a",
       "version_major": 2,
       "version_minor": 0
      },
      "text/plain": [
       "  0%|          | 0/8 [00:00<?, ?it/s]"
      ]
     },
     "metadata": {},
     "output_type": "display_data"
    },
    {
     "data": {
      "application/vnd.jupyter.widget-view+json": {
       "model_id": "27484b0e749a4156829a782977efc75b",
       "version_major": 2,
       "version_minor": 0
      },
      "text/plain": [
       "  0%|          | 0/4 [00:00<?, ?it/s]"
      ]
     },
     "metadata": {},
     "output_type": "display_data"
    },
    {
     "data": {
      "application/vnd.jupyter.widget-view+json": {
       "model_id": "e78dc06450ee4497855c6ed793f66c4c",
       "version_major": 2,
       "version_minor": 0
      },
      "text/plain": [
       "  0%|          | 0/17 [00:00<?, ?it/s]"
      ]
     },
     "metadata": {},
     "output_type": "display_data"
    },
    {
     "data": {
      "application/vnd.jupyter.widget-view+json": {
       "model_id": "fea4200103b44d56a3a4f2f2f2056372",
       "version_major": 2,
       "version_minor": 0
      },
      "text/plain": [
       "  0%|          | 0/30 [00:00<?, ?it/s]"
      ]
     },
     "metadata": {},
     "output_type": "display_data"
    },
    {
     "data": {
      "application/vnd.jupyter.widget-view+json": {
       "model_id": "dea7e9ded83c48e4a10ec1a17221b06d",
       "version_major": 2,
       "version_minor": 0
      },
      "text/plain": [
       "  0%|          | 0/26 [00:00<?, ?it/s]"
      ]
     },
     "metadata": {},
     "output_type": "display_data"
    },
    {
     "data": {
      "application/vnd.jupyter.widget-view+json": {
       "model_id": "95c4319781034215aaf0ee7922a9dee5",
       "version_major": 2,
       "version_minor": 0
      },
      "text/plain": [
       "  0%|          | 0/12 [00:00<?, ?it/s]"
      ]
     },
     "metadata": {},
     "output_type": "display_data"
    },
    {
     "data": {
      "application/vnd.jupyter.widget-view+json": {
       "model_id": "9a745232057f45609e75d82dd6b98f63",
       "version_major": 2,
       "version_minor": 0
      },
      "text/plain": [
       "  0%|          | 0/15 [00:00<?, ?it/s]"
      ]
     },
     "metadata": {},
     "output_type": "display_data"
    },
    {
     "data": {
      "application/vnd.jupyter.widget-view+json": {
       "model_id": "4f60ca97e6954ea3a7166b07f5acec5c",
       "version_major": 2,
       "version_minor": 0
      },
      "text/plain": [
       "  0%|          | 0/11 [00:00<?, ?it/s]"
      ]
     },
     "metadata": {},
     "output_type": "display_data"
    },
    {
     "data": {
      "application/vnd.jupyter.widget-view+json": {
       "model_id": "2e3706365f1045ae87221667a858acfb",
       "version_major": 2,
       "version_minor": 0
      },
      "text/plain": [
       "  0%|          | 0/10 [00:00<?, ?it/s]"
      ]
     },
     "metadata": {},
     "output_type": "display_data"
    },
    {
     "data": {
      "application/vnd.jupyter.widget-view+json": {
       "model_id": "991a901fc64f4b8ea98008c6ad9ad638",
       "version_major": 2,
       "version_minor": 0
      },
      "text/plain": [
       "  0%|          | 0/7 [00:00<?, ?it/s]"
      ]
     },
     "metadata": {},
     "output_type": "display_data"
    },
    {
     "data": {
      "application/vnd.jupyter.widget-view+json": {
       "model_id": "e93568dbeb6348159a18a20cc290fa2b",
       "version_major": 2,
       "version_minor": 0
      },
      "text/plain": [
       "  0%|          | 0/5 [00:00<?, ?it/s]"
      ]
     },
     "metadata": {},
     "output_type": "display_data"
    },
    {
     "data": {
      "application/vnd.jupyter.widget-view+json": {
       "model_id": "1c865a6194a0473696268aa568e4cbf4",
       "version_major": 2,
       "version_minor": 0
      },
      "text/plain": [
       "  0%|          | 0/6 [00:00<?, ?it/s]"
      ]
     },
     "metadata": {},
     "output_type": "display_data"
    },
    {
     "data": {
      "application/vnd.jupyter.widget-view+json": {
       "model_id": "adac808387864ba68941f3d6147caf64",
       "version_major": 2,
       "version_minor": 0
      },
      "text/plain": [
       "  0%|          | 0/9 [00:00<?, ?it/s]"
      ]
     },
     "metadata": {},
     "output_type": "display_data"
    },
    {
     "data": {
      "application/vnd.jupyter.widget-view+json": {
       "model_id": "26a57bb63fbc48009dd50f3e6c56eb60",
       "version_major": 2,
       "version_minor": 0
      },
      "text/plain": [
       "  0%|          | 0/5 [00:00<?, ?it/s]"
      ]
     },
     "metadata": {},
     "output_type": "display_data"
    },
    {
     "data": {
      "application/vnd.jupyter.widget-view+json": {
       "model_id": "bb75ea18d55444b4ae01d6e0dcbab2d8",
       "version_major": 2,
       "version_minor": 0
      },
      "text/plain": [
       "  0%|          | 0/2 [00:00<?, ?it/s]"
      ]
     },
     "metadata": {},
     "output_type": "display_data"
    },
    {
     "data": {
      "application/vnd.jupyter.widget-view+json": {
       "model_id": "67737f573d23450a81d27b4196a3d8eb",
       "version_major": 2,
       "version_minor": 0
      },
      "text/plain": [
       "  0%|          | 0/4 [00:00<?, ?it/s]"
      ]
     },
     "metadata": {},
     "output_type": "display_data"
    },
    {
     "data": {
      "application/vnd.jupyter.widget-view+json": {
       "model_id": "f364da1f61c347458ed00d482f8acd4d",
       "version_major": 2,
       "version_minor": 0
      },
      "text/plain": [
       "  0%|          | 0/4 [00:00<?, ?it/s]"
      ]
     },
     "metadata": {},
     "output_type": "display_data"
    },
    {
     "data": {
      "application/vnd.jupyter.widget-view+json": {
       "model_id": "d19f17c22c9f4db6ac08aeb8ab1a5194",
       "version_major": 2,
       "version_minor": 0
      },
      "text/plain": [
       "  0%|          | 0/7 [00:00<?, ?it/s]"
      ]
     },
     "metadata": {},
     "output_type": "display_data"
    },
    {
     "data": {
      "application/vnd.jupyter.widget-view+json": {
       "model_id": "739ee494386448e184c50a0ad39e11f7",
       "version_major": 2,
       "version_minor": 0
      },
      "text/plain": [
       "  0%|          | 0/2 [00:00<?, ?it/s]"
      ]
     },
     "metadata": {},
     "output_type": "display_data"
    },
    {
     "data": {
      "application/vnd.jupyter.widget-view+json": {
       "model_id": "9e108ef227ba48cdb8909b756eee40f2",
       "version_major": 2,
       "version_minor": 0
      },
      "text/plain": [
       "  0%|          | 0/6 [00:00<?, ?it/s]"
      ]
     },
     "metadata": {},
     "output_type": "display_data"
    },
    {
     "data": {
      "application/vnd.jupyter.widget-view+json": {
       "model_id": "75cad7cfff34458083c4d23feed12127",
       "version_major": 2,
       "version_minor": 0
      },
      "text/plain": [
       "  0%|          | 0/4 [00:00<?, ?it/s]"
      ]
     },
     "metadata": {},
     "output_type": "display_data"
    },
    {
     "data": {
      "application/vnd.jupyter.widget-view+json": {
       "model_id": "275acd0a86ff498b97ee6953447ccff2",
       "version_major": 2,
       "version_minor": 0
      },
      "text/plain": [
       "  0%|          | 0/2 [00:00<?, ?it/s]"
      ]
     },
     "metadata": {},
     "output_type": "display_data"
    },
    {
     "data": {
      "application/vnd.jupyter.widget-view+json": {
       "model_id": "8d765ae50bec4fb5bb9d1ad166230137",
       "version_major": 2,
       "version_minor": 0
      },
      "text/plain": [
       "  0%|          | 0/1 [00:00<?, ?it/s]"
      ]
     },
     "metadata": {},
     "output_type": "display_data"
    },
    {
     "data": {
      "application/vnd.jupyter.widget-view+json": {
       "model_id": "6fbdae2c426b47499dc51c63e0234d57",
       "version_major": 2,
       "version_minor": 0
      },
      "text/plain": [
       "  0%|          | 0/6 [00:00<?, ?it/s]"
      ]
     },
     "metadata": {},
     "output_type": "display_data"
    },
    {
     "data": {
      "application/vnd.jupyter.widget-view+json": {
       "model_id": "8d7d104daf77417881d6dde55d4b727a",
       "version_major": 2,
       "version_minor": 0
      },
      "text/plain": [
       "  0%|          | 0/9 [00:00<?, ?it/s]"
      ]
     },
     "metadata": {},
     "output_type": "display_data"
    },
    {
     "data": {
      "application/vnd.jupyter.widget-view+json": {
       "model_id": "9a4106d7ade1448ca7e06afb235b29ae",
       "version_major": 2,
       "version_minor": 0
      },
      "text/plain": [
       "  0%|          | 0/15 [00:00<?, ?it/s]"
      ]
     },
     "metadata": {},
     "output_type": "display_data"
    },
    {
     "data": {
      "application/vnd.jupyter.widget-view+json": {
       "model_id": "7c13c68a132642a984c548ca0aaa5b3c",
       "version_major": 2,
       "version_minor": 0
      },
      "text/plain": [
       "  0%|          | 0/3 [00:00<?, ?it/s]"
      ]
     },
     "metadata": {},
     "output_type": "display_data"
    },
    {
     "data": {
      "application/vnd.jupyter.widget-view+json": {
       "model_id": "b125f32961ec4fa5a55b941fe7e35c65",
       "version_major": 2,
       "version_minor": 0
      },
      "text/plain": [
       "  0%|          | 0/48 [00:00<?, ?it/s]"
      ]
     },
     "metadata": {},
     "output_type": "display_data"
    },
    {
     "data": {
      "application/vnd.jupyter.widget-view+json": {
       "model_id": "e088fdc9d2e543729ab6896ede0afd5c",
       "version_major": 2,
       "version_minor": 0
      },
      "text/plain": [
       "  0%|          | 0/5 [00:00<?, ?it/s]"
      ]
     },
     "metadata": {},
     "output_type": "display_data"
    },
    {
     "data": {
      "application/vnd.jupyter.widget-view+json": {
       "model_id": "28f7066fd2eb42cdbbf8665f1d46ee09",
       "version_major": 2,
       "version_minor": 0
      },
      "text/plain": [
       "  0%|          | 0/4 [00:00<?, ?it/s]"
      ]
     },
     "metadata": {},
     "output_type": "display_data"
    },
    {
     "data": {
      "application/vnd.jupyter.widget-view+json": {
       "model_id": "37b5952d9b87409d9ed47bcf0995ea88",
       "version_major": 2,
       "version_minor": 0
      },
      "text/plain": [
       "  0%|          | 0/16 [00:00<?, ?it/s]"
      ]
     },
     "metadata": {},
     "output_type": "display_data"
    },
    {
     "data": {
      "application/vnd.jupyter.widget-view+json": {
       "model_id": "1945629a899c4a5987f6d3f7663b8e47",
       "version_major": 2,
       "version_minor": 0
      },
      "text/plain": [
       "  0%|          | 0/2 [00:00<?, ?it/s]"
      ]
     },
     "metadata": {},
     "output_type": "display_data"
    },
    {
     "data": {
      "application/vnd.jupyter.widget-view+json": {
       "model_id": "7ab5b2330f8640748fffc4d800b444e7",
       "version_major": 2,
       "version_minor": 0
      },
      "text/plain": [
       "  0%|          | 0/7 [00:00<?, ?it/s]"
      ]
     },
     "metadata": {},
     "output_type": "display_data"
    },
    {
     "data": {
      "application/vnd.jupyter.widget-view+json": {
       "model_id": "2266266e1a90444a990be2f44f78edcd",
       "version_major": 2,
       "version_minor": 0
      },
      "text/plain": [
       "  0%|          | 0/10 [00:00<?, ?it/s]"
      ]
     },
     "metadata": {},
     "output_type": "display_data"
    },
    {
     "data": {
      "application/vnd.jupyter.widget-view+json": {
       "model_id": "39534f065e9e42dd88687eb2d61209e7",
       "version_major": 2,
       "version_minor": 0
      },
      "text/plain": [
       "  0%|          | 0/13 [00:00<?, ?it/s]"
      ]
     },
     "metadata": {},
     "output_type": "display_data"
    },
    {
     "data": {
      "application/vnd.jupyter.widget-view+json": {
       "model_id": "b00ecf9cc07440729687b3dde1ed4b9b",
       "version_major": 2,
       "version_minor": 0
      },
      "text/plain": [
       "  0%|          | 0/11 [00:00<?, ?it/s]"
      ]
     },
     "metadata": {},
     "output_type": "display_data"
    },
    {
     "data": {
      "application/vnd.jupyter.widget-view+json": {
       "model_id": "0a4ff5983e704958b43c44140ee567a1",
       "version_major": 2,
       "version_minor": 0
      },
      "text/plain": [
       "  0%|          | 0/15 [00:00<?, ?it/s]"
      ]
     },
     "metadata": {},
     "output_type": "display_data"
    },
    {
     "data": {
      "application/vnd.jupyter.widget-view+json": {
       "model_id": "ba433c21d5594a1ebe7bbb98b9d7c133",
       "version_major": 2,
       "version_minor": 0
      },
      "text/plain": [
       "  0%|          | 0/11 [00:00<?, ?it/s]"
      ]
     },
     "metadata": {},
     "output_type": "display_data"
    },
    {
     "data": {
      "application/vnd.jupyter.widget-view+json": {
       "model_id": "0d5596cdf5b049f5a4b34f4d559a18c6",
       "version_major": 2,
       "version_minor": 0
      },
      "text/plain": [
       "  0%|          | 0/15 [00:00<?, ?it/s]"
      ]
     },
     "metadata": {},
     "output_type": "display_data"
    },
    {
     "data": {
      "application/vnd.jupyter.widget-view+json": {
       "model_id": "506d865a222b48819de92a2bcaed0bb7",
       "version_major": 2,
       "version_minor": 0
      },
      "text/plain": [
       "  0%|          | 0/13 [00:00<?, ?it/s]"
      ]
     },
     "metadata": {},
     "output_type": "display_data"
    },
    {
     "data": {
      "application/vnd.jupyter.widget-view+json": {
       "model_id": "8470c1989ea944b3a4e92bb03b06c8f0",
       "version_major": 2,
       "version_minor": 0
      },
      "text/plain": [
       "  0%|          | 0/19 [00:00<?, ?it/s]"
      ]
     },
     "metadata": {},
     "output_type": "display_data"
    },
    {
     "data": {
      "application/vnd.jupyter.widget-view+json": {
       "model_id": "e9e4cc328d234129a077c1e36589e2da",
       "version_major": 2,
       "version_minor": 0
      },
      "text/plain": [
       "  0%|          | 0/16 [00:00<?, ?it/s]"
      ]
     },
     "metadata": {},
     "output_type": "display_data"
    },
    {
     "data": {
      "application/vnd.jupyter.widget-view+json": {
       "model_id": "cf67379f29ff4a3c9f8d18a9ef73d8af",
       "version_major": 2,
       "version_minor": 0
      },
      "text/plain": [
       "  0%|          | 0/11 [00:00<?, ?it/s]"
      ]
     },
     "metadata": {},
     "output_type": "display_data"
    },
    {
     "data": {
      "application/vnd.jupyter.widget-view+json": {
       "model_id": "d207a551957544629ba19589d4eaf56f",
       "version_major": 2,
       "version_minor": 0
      },
      "text/plain": [
       "  0%|          | 0/13 [00:00<?, ?it/s]"
      ]
     },
     "metadata": {},
     "output_type": "display_data"
    },
    {
     "data": {
      "application/vnd.jupyter.widget-view+json": {
       "model_id": "c47f7f7eefd54b15ad2affe3c0e7cc53",
       "version_major": 2,
       "version_minor": 0
      },
      "text/plain": [
       "  0%|          | 0/13 [00:00<?, ?it/s]"
      ]
     },
     "metadata": {},
     "output_type": "display_data"
    },
    {
     "data": {
      "application/vnd.jupyter.widget-view+json": {
       "model_id": "684247facc494ff0b67a8c8a552465fb",
       "version_major": 2,
       "version_minor": 0
      },
      "text/plain": [
       "  0%|          | 0/42 [00:00<?, ?it/s]"
      ]
     },
     "metadata": {},
     "output_type": "display_data"
    },
    {
     "data": {
      "application/vnd.jupyter.widget-view+json": {
       "model_id": "176830d2007f4666bc5b8ba87a0a6bd8",
       "version_major": 2,
       "version_minor": 0
      },
      "text/plain": [
       "  0%|          | 0/59 [00:00<?, ?it/s]"
      ]
     },
     "metadata": {},
     "output_type": "display_data"
    },
    {
     "data": {
      "application/vnd.jupyter.widget-view+json": {
       "model_id": "978d7135ad964539a77ee4bff4d18a55",
       "version_major": 2,
       "version_minor": 0
      },
      "text/plain": [
       "  0%|          | 0/23 [00:00<?, ?it/s]"
      ]
     },
     "metadata": {},
     "output_type": "display_data"
    },
    {
     "data": {
      "application/vnd.jupyter.widget-view+json": {
       "model_id": "645a2cbb1cb24410928847c585350c22",
       "version_major": 2,
       "version_minor": 0
      },
      "text/plain": [
       "  0%|          | 0/43 [00:00<?, ?it/s]"
      ]
     },
     "metadata": {},
     "output_type": "display_data"
    },
    {
     "data": {
      "application/vnd.jupyter.widget-view+json": {
       "model_id": "14b116f9a98b4733933b875852e91dde",
       "version_major": 2,
       "version_minor": 0
      },
      "text/plain": [
       "  0%|          | 0/26 [00:00<?, ?it/s]"
      ]
     },
     "metadata": {},
     "output_type": "display_data"
    },
    {
     "data": {
      "application/vnd.jupyter.widget-view+json": {
       "model_id": "52a4ee2d57b24b948c547dc0b62aaf10",
       "version_major": 2,
       "version_minor": 0
      },
      "text/plain": [
       "  0%|          | 0/17 [00:00<?, ?it/s]"
      ]
     },
     "metadata": {},
     "output_type": "display_data"
    },
    {
     "data": {
      "application/vnd.jupyter.widget-view+json": {
       "model_id": "59157641172b4c3c8bb265d5e69c6658",
       "version_major": 2,
       "version_minor": 0
      },
      "text/plain": [
       "  0%|          | 0/55 [00:00<?, ?it/s]"
      ]
     },
     "metadata": {},
     "output_type": "display_data"
    },
    {
     "name": "stdout",
     "output_type": "stream",
     "text": [
      "Synapsse Results:\n",
      "Total Number of Synapses = 1708\n",
      "n_valid_syn_ids_presyn = 12\n",
      "n_errored_syn_ids_presyn = 92\n",
      "n_valid_syn_ids_postsyn = 1591\n",
      "n_errored_syn_ids_postsyn = 13\n",
      "Synapsse Results:\n",
      "Total Number of Synapses = 1708\n",
      "n_valid_syn_ids_presyn = 12\n",
      "n_errored_syn_ids_presyn = 92\n",
      "n_valid_syn_ids_postsyn = 1591\n",
      "n_errored_syn_ids_postsyn = 13\n"
     ]
    },
    {
     "data": {
      "application/vnd.jupyter.widget-view+json": {
       "model_id": "aea921b2bd54456885d1428dcc2b5d5f",
       "version_major": 2,
       "version_minor": 0
      },
      "text/plain": [
       "  0%|          | 0/13 [00:00<?, ?it/s]"
      ]
     },
     "metadata": {},
     "output_type": "display_data"
    },
    {
     "data": {
      "application/vnd.jupyter.widget-view+json": {
       "model_id": "4da701aa8f564002b8029d886149674e",
       "version_major": 2,
       "version_minor": 0
      },
      "text/plain": [
       "  0%|          | 0/6 [00:00<?, ?it/s]"
      ]
     },
     "metadata": {},
     "output_type": "display_data"
    },
    {
     "name": "stdout",
     "output_type": "stream",
     "text": [
      "Synapsse Results:\n",
      "Total Number of Synapses = 1708\n",
      "n_valid_syn_ids_presyn = 12\n",
      "n_errored_syn_ids_presyn = 92\n",
      "n_valid_syn_ids_postsyn = 1591\n",
      "n_errored_syn_ids_postsyn = 13\n",
      "Synapsse Results:\n",
      "Total Number of Synapses = 1708\n",
      "n_valid_syn_ids_presyn = 12\n",
      "n_errored_syn_ids_presyn = 92\n",
      "n_valid_syn_ids_postsyn = 1591\n",
      "n_errored_syn_ids_postsyn = 13\n"
     ]
    },
    {
     "data": {
      "application/vnd.jupyter.widget-view+json": {
       "model_id": "13239717a73340639b1d6a9b26c831e1",
       "version_major": 2,
       "version_minor": 0
      },
      "text/plain": [
       "  0%|          | 0/13 [00:00<?, ?it/s]"
      ]
     },
     "metadata": {},
     "output_type": "display_data"
    },
    {
     "data": {
      "application/vnd.jupyter.widget-view+json": {
       "model_id": "4ebea87f9aae43b0acc21553e697e432",
       "version_major": 2,
       "version_minor": 0
      },
      "text/plain": [
       "  0%|          | 0/6 [00:00<?, ?it/s]"
      ]
     },
     "metadata": {},
     "output_type": "display_data"
    },
    {
     "name": "stdout",
     "output_type": "stream",
     "text": [
      "\n",
      "\n",
      "len(branch_attr_keys) = 19\n",
      "Saving Neuorn in suppress_output mode...please wait\n",
      "Saved File at location: /mnt/dj-stor01/platinum/minnie65/02/decomposition/864691135925564174_0_25_full_axon\n",
      "Save time = 130.38066005706787\n",
      "\n",
      "\n",
      " ***------ Total time for 864691135925564174 = 383.1198139190674 ------ ***\n",
      "\n",
      "\n",
      "\n",
      "---- Working on Neuron 864691135113167769 ----\n",
      "Decompressing Neuron in minimal output mode...please wait\n",
      "Pulled from Table Decomposition so setting split_index = 0\n",
      "Dont need spine recalculation\n",
      "Number of Neurons found = 1\n",
      "\n",
      "Part 1: Axon like branchese \n",
      "{'L0': array([ 0,  1,  5,  6, 10, 13, 14, 17, 18, 19, 20, 21, 22, 23, 25, 26, 31]), 'L1': array([ 0,  1,  2,  3,  4,  5,  6,  7,  8,  9, 10, 11, 12, 13, 14, 15, 16,\n",
      "       17, 18, 19, 20, 21, 22, 23, 24, 25, 26, 27, 28, 29, 30, 31, 32, 33,\n",
      "       34, 35, 36, 37, 38, 39, 40, 41, 42, 43, 44, 45, 46, 47, 48, 49, 50,\n",
      "       51, 52, 53, 54, 55, 56, 57, 58, 59, 60, 61, 62, 63, 64, 65, 66, 67,\n",
      "       68, 69, 70]), 'L2': array([3, 7]), 'L5': array([3, 5, 6, 7]), 'L6': array([0, 4])}\n",
      "Limb L0 soma angle: 10.05 \n",
      "Limb L1 soma angle: 170.96 \n",
      "Limb L2 soma angle: 122.86 \n",
      "Limb L3 soma angle: 119.17 \n",
      "Limb L4 soma angle: 98.09 \n",
      "Limb L5 soma angle: 125.56 \n",
      "Limb L6 soma angle: 136.04 \n",
      "Limb L7 soma angle: 21.85 \n",
      "\n",
      "Part 2: possible_axon_limbs = [1, 2, 3, 4, 5, 6]\n",
      "\n",
      "Phase 2: Working on Limb L1\n",
      "nodes_to_eliminate = []\n",
      "\n",
      "Phase 2: Working on Limb L2\n",
      "nodes_to_eliminate = [ 8  9 10]\n",
      "\n",
      "Phase 2: Working on Limb L3\n",
      "nodes_to_eliminate = [2]\n",
      "\n",
      "Phase 2: Working on Limb L4\n",
      "nodes_to_eliminate = [0]\n",
      "\n",
      "Phase 2: Working on Limb L5\n",
      "nodes_to_eliminate = [0]\n",
      "\n",
      "Phase 2: Working on Limb L6\n",
      "nodes_to_eliminate = [5 6]\n",
      "\n",
      "----Working on Limb L1-----\n",
      "No nodes were eliminated so don't need to add back any candidates\n",
      "\n",
      "----Working on Limb L2-----\n",
      "No endpoints were eliminated so don't need to add back any candidates\n",
      "\n",
      "----Working on Limb L3-----\n",
      "No endpoints were eliminated so don't need to add back any candidates\n",
      "\n",
      "----Working on Limb L4-----\n",
      "No endpoints were eliminated so don't need to add back any candidates\n",
      "\n",
      "----Working on Limb L5-----\n",
      "No endpoints were eliminated so don't need to add back any candidates\n",
      "\n",
      "----Working on Limb L6-----\n",
      "No endpoints were eliminated so don't need to add back any candidates\n",
      "Final Candidates\n",
      "\n",
      "Limb 1\n",
      "Candidate 0 (pink): array([ 0,  1,  2,  3,  4,  5,  6,  7,  8,  9, 10, 11, 12, 13, 14, 15, 16,\n",
      "       17, 18, 19, 20, 21, 22, 23, 24, 25, 26, 27, 28, 29, 30, 31, 32, 33,\n",
      "       34, 35, 36, 37, 38, 39, 40, 41, 42, 43, 44, 45, 46, 47, 48, 49, 50,\n",
      "       51, 52, 53, 54, 55, 56, 57, 58, 59, 60, 61, 62, 63, 64, 65, 66, 67,\n",
      "       68, 69, 70])\n",
      "\n",
      "Limb 2\n",
      "Candidate 0 (orange): array([2])\n",
      "Candidate 1 (palegreen): array([3, 4, 5, 6, 7])\n",
      "Candidate 2 (blue): array([0])\n",
      "Candidate 3 (darkslategray): array([1])\n",
      "\n",
      "Limb 3\n",
      "Candidate 0 (gray): array([1])\n",
      "Candidate 1 (tan): array([0, 3, 4])\n",
      "\n",
      "Limb 4\n",
      "Candidate 0 (brown): array([1, 5, 6])\n",
      "Candidate 1 (orange): array([2, 3, 4])\n",
      "\n",
      "Limb 5\n",
      "Candidate 0 (cyan): array([1, 3, 4, 5, 6])\n",
      "Candidate 1 (red): array([8, 2, 7])\n",
      "\n",
      "Limb 6\n",
      "Candidate 0 (cyan): array([2])\n",
      "Candidate 1 (orange): array([0, 1, 3])\n",
      "Candidate 2 (blue): array([4])\n",
      "Part 3: axon_subgraph_candidates = {1: [[0, 1, 2, 3, 4, 5, 6, 7, 8, 9, 10, 11, 12, 13, 14, 15, 16, 17, 18, 19, 20, 21, 22, 23, 24, 25, 26, 27, 28, 29, 30, 31, 32, 33, 34, 35, 36, 37, 38, 39, 40, 41, 42, 43, 44, 45, 46, 47, 48, 49, 50, 51, 52, 53, 54, 55, 56, 57, 58, 59, 60, 61, 62, 63, 64, 65, 66, 67, 68, 69, 70]], 2: [[2], [3, 4, 5, 6, 7], [0], [1]], 3: [[1], [0, 3, 4]], 4: [[1, 5, 6], [2, 3, 4]], 5: [[1, 3, 4, 5, 6], [8, 2, 7]], 6: [[2], [0, 1, 3], [4]]}\n",
      "\n",
      "\n",
      " --- Working on limb 1, candidate # 0\n",
      "71 out of 71 branches are axons\n",
      "Axon percentage = 1.0\n",
      "curr_axon_angle_threshold = 95\n",
      "candidate_nodes = [ 0  1  2  3  4  5  6  7  8  9 10 11 12 13 14 15 16 17 18 19 20 21 22 23\n",
      " 24 25 26 27 28 29 30 31 32 33 34 35 36 37 38 39 40 41 42 43 44 45 46 47\n",
      " 48 49 50 51 52 53 54 55 56 57 58 59 60 61 62 63 64 65 66 67 68 69 70]\n",
      "non_axon_branches_on_subgraph = []\n",
      "endnodes_to_test = [13666 13862]\n",
      "Skeleton paths distances = [24941.34784221 24943.48794093]\n",
      "Filtered indexes = [0 1]\n",
      "len(filtered_skeletons) = 2\n",
      "sk_angles = [173.45267031 174.766683  ]\n",
      "candidate_angles,restr_skels = (array([173.45267031, 174.766683  ]), [array([[[794624.        , 772110.        , 793200.        ],\n",
      "        [794614.        , 772211.        , 793164.        ]],\n",
      "\n",
      "       [[794614.        , 772211.        , 793164.        ],\n",
      "        [794588.        , 772425.        , 793090.        ]],\n",
      "\n",
      "       [[794588.        , 772425.        , 793090.        ],\n",
      "        [794569.        , 772571.        , 793040.        ]],\n",
      "\n",
      "       [[794569.        , 772571.        , 793040.        ],\n",
      "        [794552.        , 772696.        , 792999.        ]],\n",
      "\n",
      "       [[794552.        , 772696.        , 792999.        ],\n",
      "        [794538.        , 772807.        , 792968.        ]],\n",
      "\n",
      "       [[794538.        , 772807.        , 792968.        ],\n",
      "        [794525.        , 772914.        , 792942.        ]],\n",
      "\n",
      "       [[794525.        , 772914.        , 792942.        ],\n",
      "        [794501.        , 773090.        , 792902.        ]],\n",
      "\n",
      "       [[794501.        , 773090.        , 792902.        ],\n",
      "        [794479.        , 773229.        , 792873.        ]],\n",
      "\n",
      "       [[794479.        , 773229.        , 792873.        ],\n",
      "        [794459.        , 773337.        , 792852.        ]],\n",
      "\n",
      "       [[794459.        , 773337.        , 792852.        ],\n",
      "        [794428.        , 773467.        , 792827.        ]],\n",
      "\n",
      "       [[794428.        , 773467.        , 792827.        ],\n",
      "        [794390.        , 773577.        , 792804.        ]],\n",
      "\n",
      "       [[794390.        , 773577.        , 792804.        ],\n",
      "        [794361.        , 773655.        , 792788.        ]],\n",
      "\n",
      "       [[794361.        , 773655.        , 792788.        ],\n",
      "        [794310.        , 773783.        , 792759.        ]],\n",
      "\n",
      "       [[794310.        , 773783.        , 792759.        ],\n",
      "        [794255.        , 773909.        , 792727.        ]],\n",
      "\n",
      "       [[794255.        , 773909.        , 792727.        ],\n",
      "        [794225.        , 773977.        , 792709.        ]],\n",
      "\n",
      "       [[794225.        , 773977.        , 792709.        ],\n",
      "        [794171.        , 774098.        , 792675.        ]],\n",
      "\n",
      "       [[794171.        , 774098.        , 792675.        ],\n",
      "        [794100.        , 774263.        , 792626.        ]],\n",
      "\n",
      "       [[794100.        , 774263.        , 792626.        ],\n",
      "        [794029.        , 774381.        , 792586.        ]],\n",
      "\n",
      "       [[794029.        , 774381.        , 792586.        ],\n",
      "        [793967.        , 774490.        , 792551.        ]],\n",
      "\n",
      "       [[793967.        , 774490.        , 792551.        ],\n",
      "        [793879.        , 774645.        , 792503.        ]],\n",
      "\n",
      "       [[793879.        , 774645.        , 792503.        ],\n",
      "        [793806.        , 774777.        , 792462.        ]],\n",
      "\n",
      "       [[793806.        , 774777.        , 792462.        ],\n",
      "        [793758.        , 774871.        , 792439.        ]],\n",
      "\n",
      "       [[793758.        , 774871.        , 792439.        ],\n",
      "        [793681.        , 775032.        , 792405.        ]],\n",
      "\n",
      "       [[793681.        , 775032.        , 792405.        ],\n",
      "        [793636.        , 775198.        , 792395.        ]],\n",
      "\n",
      "       [[793636.        , 775198.        , 792395.        ],\n",
      "        [793617.        , 775295.        , 792394.        ]],\n",
      "\n",
      "       [[793617.        , 775295.        , 792394.        ],\n",
      "        [793602.        , 775467.        , 792410.        ]],\n",
      "\n",
      "       [[793602.        , 775467.        , 792410.        ],\n",
      "        [793595.        , 775660.        , 792437.        ]],\n",
      "\n",
      "       [[793595.        , 775660.        , 792437.        ],\n",
      "        [793600.        , 775893.        , 792487.        ]],\n",
      "\n",
      "       [[793600.        , 775893.        , 792487.        ],\n",
      "        [793608.        , 776043.        , 792527.        ]],\n",
      "\n",
      "       [[793608.        , 776043.        , 792527.        ],\n",
      "        [793617.        , 776169.        , 792564.        ]],\n",
      "\n",
      "       [[793617.        , 776169.        , 792564.        ],\n",
      "        [793629.        , 776302.        , 792608.        ]],\n",
      "\n",
      "       [[793629.        , 776302.        , 792608.        ],\n",
      "        [793640.        , 776429.        , 792651.        ]],\n",
      "\n",
      "       [[793640.        , 776429.        , 792651.        ],\n",
      "        [793650.        , 776525.        , 792686.        ]],\n",
      "\n",
      "       [[793650.        , 776525.        , 792686.        ],\n",
      "        [793674.        , 776766.        , 792777.        ]],\n",
      "\n",
      "       [[793674.        , 776766.        , 792777.        ],\n",
      "        [793685.        , 776879.        , 792820.        ]],\n",
      "\n",
      "       [[793685.        , 776879.        , 792820.        ],\n",
      "        [793693.        , 776971.        , 792855.        ]],\n",
      "\n",
      "       [[793693.        , 776971.        , 792855.        ],\n",
      "        [793703.        , 777090.        , 792899.        ]],\n",
      "\n",
      "       [[793703.        , 777090.        , 792899.        ],\n",
      "        [793716.        , 777260.        , 792957.        ]],\n",
      "\n",
      "       [[793716.        , 777260.        , 792957.        ],\n",
      "        [793723.        , 777368.        , 792990.        ]],\n",
      "\n",
      "       [[793723.        , 777368.        , 792990.        ],\n",
      "        [793737.        , 777571.        , 793040.        ]],\n",
      "\n",
      "       [[793737.        , 777571.        , 793040.        ],\n",
      "        [793746.        , 777679.        , 793065.        ]],\n",
      "\n",
      "       [[793746.        , 777679.        , 793065.        ],\n",
      "        [793758.        , 777782.        , 793086.        ]],\n",
      "\n",
      "       [[793758.        , 777782.        , 793086.        ],\n",
      "        [793762.        , 777816.        , 793092.        ]],\n",
      "\n",
      "       [[793762.        , 777816.        , 793092.        ],\n",
      "        [793774.        , 777910.        , 793110.        ]],\n",
      "\n",
      "       [[793774.        , 777910.        , 793110.        ],\n",
      "        [793745.53299306, 778005.8262082 , 793112.63957153]],\n",
      "\n",
      "       [[793745.53299306, 778005.8262082 , 793112.63957153],\n",
      "        [793717.06598611, 778101.6524164 , 793115.27914305]],\n",
      "\n",
      "       [[793717.06598611, 778101.6524164 , 793115.27914305],\n",
      "        [793688.59897917, 778197.4786246 , 793117.91871458]],\n",
      "\n",
      "       [[793688.59897917, 778197.4786246 , 793117.91871458],\n",
      "        [793660.13197223, 778293.3048328 , 793120.55828611]],\n",
      "\n",
      "       [[793660.13197223, 778293.3048328 , 793120.55828611],\n",
      "        [793631.66496529, 778389.131041  , 793123.19785763]],\n",
      "\n",
      "       [[793631.66496529, 778389.131041  , 793123.19785763],\n",
      "        [793603.19795834, 778484.9572492 , 793125.83742916]],\n",
      "\n",
      "       [[793603.19795834, 778484.9572492 , 793125.83742916],\n",
      "        [793574.7309514 , 778580.7834574 , 793128.47700068]],\n",
      "\n",
      "       [[793574.7309514 , 778580.7834574 , 793128.47700068],\n",
      "        [793546.26394446, 778676.60966559, 793131.11657221]],\n",
      "\n",
      "       [[793546.26394446, 778676.60966559, 793131.11657221],\n",
      "        [793517.79693751, 778772.43587379, 793133.75614374]],\n",
      "\n",
      "       [[793517.79693751, 778772.43587379, 793133.75614374],\n",
      "        [793489.32993057, 778868.26208199, 793136.39571526]],\n",
      "\n",
      "       [[793489.32993057, 778868.26208199, 793136.39571526],\n",
      "        [793460.86292363, 778964.08829019, 793139.03528679]],\n",
      "\n",
      "       [[793460.86292363, 778964.08829019, 793139.03528679],\n",
      "        [793432.39591669, 779059.91449839, 793141.67485831]],\n",
      "\n",
      "       [[793432.39591669, 779059.91449839, 793141.67485831],\n",
      "        [793403.92890974, 779155.74070659, 793144.31442984]],\n",
      "\n",
      "       [[793403.92890974, 779155.74070659, 793144.31442984],\n",
      "        [793376.1293851 , 779251.68957719, 793147.55802964]],\n",
      "\n",
      "       [[793376.1293851 , 779251.68957719, 793147.55802964],\n",
      "        [793357.10715544, 779349.22491917, 793158.67041446]],\n",
      "\n",
      "       [[793357.10715544, 779349.22491917, 793158.67041446],\n",
      "        [793341.76222492, 779447.11315442, 793172.16033735]],\n",
      "\n",
      "       [[793341.76222492, 779447.11315442, 793172.16033735],\n",
      "        [793328.69998092, 779545.20403854, 793186.54275651]],\n",
      "\n",
      "       [[793328.69998092, 779545.20403854, 793186.54275651],\n",
      "        [793318.39866207, 779643.46878103, 793201.94187892]],\n",
      "\n",
      "       [[793318.39866207, 779643.46878103, 793201.94187892],\n",
      "        [793310.99303264, 779741.8297657 , 793218.35139338]],\n",
      "\n",
      "       [[793310.99303264, 779741.8297657 , 793218.35139338],\n",
      "        [793306.77998759, 779840.19420245, 793235.82904133]],\n",
      "\n",
      "       [[793306.77998759, 779840.19420245, 793235.82904133],\n",
      "        [793306.01064231, 779938.43911696, 793254.42824738]],\n",
      "\n",
      "       [[793306.01064231, 779938.43911696, 793254.42824738],\n",
      "        [793308.8577839 , 780036.41612559, 793274.19766576]],\n",
      "\n",
      "       [[793308.8577839 , 780036.41612559, 793274.19766576],\n",
      "        [793315.40761617, 780133.95972426, 793295.19000751]],\n",
      "\n",
      "       [[793315.40761617, 780133.95972426, 793295.19000751],\n",
      "        [793325.65115961, 780230.89838488, 793317.46691621]],\n",
      "\n",
      "       [[793325.65115961, 780230.89838488, 793317.46691621],\n",
      "        [793339.48961344, 780327.06555405, 793341.10345098]],\n",
      "\n",
      "       [[793339.48961344, 780327.06555405, 793341.10345098],\n",
      "        [793355.15053289, 780422.78459443, 793365.18106028]],\n",
      "\n",
      "       [[793355.15053289, 780422.78459443, 793365.18106028],\n",
      "        [793362.17132694, 780520.8167661 , 793383.08192451]],\n",
      "\n",
      "       [[793362.17132694, 780520.8167661 , 793383.08192451],\n",
      "        [793366.80807708, 780618.81170339, 793397.18911896]],\n",
      "\n",
      "       [[793366.80807708, 780618.81170339, 793397.18911896],\n",
      "        [793396.58563408, 780710.40969845, 793424.03097575]],\n",
      "\n",
      "       [[793396.58563408, 780710.40969845, 793424.03097575],\n",
      "        [793429.00283973, 780800.29915891, 793453.47260931]],\n",
      "\n",
      "       [[793429.00283973, 780800.29915891, 793453.47260931],\n",
      "        [793463.23150824, 780888.543739  , 793485.71235061]],\n",
      "\n",
      "       [[793463.23150824, 780888.543739  , 793485.71235061],\n",
      "        [793498.91241616, 780975.09427937, 793520.82458245]],\n",
      "\n",
      "       [[793498.91241616, 780975.09427937, 793520.82458245],\n",
      "        [793535.72819355, 781059.77192468, 793559.20843807]],\n",
      "\n",
      "       [[793535.72819355, 781059.77192468, 793559.20843807],\n",
      "        [793573.08116103, 781143.07802931, 793599.97595383]],\n",
      "\n",
      "       [[793573.08116103, 781143.07802931, 793599.97595383],\n",
      "        [793610.84379027, 781224.66294768, 793643.76671237]],\n",
      "\n",
      "       [[793610.84379027, 781224.66294768, 793643.76671237],\n",
      "        [793648.51164834, 781305.53314223, 793688.93187875]],\n",
      "\n",
      "       [[793648.51164834, 781305.53314223, 793688.93187875],\n",
      "        [793685.83581518, 781385.47908103, 793736.00106739]],\n",
      "\n",
      "       [[793685.83581518, 781385.47908103, 793736.00106739],\n",
      "        [793722.57361678, 781465.4901918 , 793783.41697348]]]), array([[[794624.        , 772110.        , 793200.        ],\n",
      "        [794614.        , 772211.        , 793164.        ]],\n",
      "\n",
      "       [[794614.        , 772211.        , 793164.        ],\n",
      "        [794588.        , 772425.        , 793090.        ]],\n",
      "\n",
      "       [[794588.        , 772425.        , 793090.        ],\n",
      "        [794569.        , 772571.        , 793040.        ]],\n",
      "\n",
      "       [[794569.        , 772571.        , 793040.        ],\n",
      "        [794552.        , 772696.        , 792999.        ]],\n",
      "\n",
      "       [[794552.        , 772696.        , 792999.        ],\n",
      "        [794538.        , 772807.        , 792968.        ]],\n",
      "\n",
      "       [[794538.        , 772807.        , 792968.        ],\n",
      "        [794525.        , 772914.        , 792942.        ]],\n",
      "\n",
      "       [[794525.        , 772914.        , 792942.        ],\n",
      "        [794501.        , 773090.        , 792902.        ]],\n",
      "\n",
      "       [[794501.        , 773090.        , 792902.        ],\n",
      "        [794479.        , 773229.        , 792873.        ]],\n",
      "\n",
      "       [[794479.        , 773229.        , 792873.        ],\n",
      "        [794459.        , 773337.        , 792852.        ]],\n",
      "\n",
      "       [[794459.        , 773337.        , 792852.        ],\n",
      "        [794428.        , 773467.        , 792827.        ]],\n",
      "\n",
      "       [[794428.        , 773467.        , 792827.        ],\n",
      "        [794390.        , 773577.        , 792804.        ]],\n",
      "\n",
      "       [[794390.        , 773577.        , 792804.        ],\n",
      "        [794361.        , 773655.        , 792788.        ]],\n",
      "\n",
      "       [[794361.        , 773655.        , 792788.        ],\n",
      "        [794310.        , 773783.        , 792759.        ]],\n",
      "\n",
      "       [[794310.        , 773783.        , 792759.        ],\n",
      "        [794255.        , 773909.        , 792727.        ]],\n",
      "\n",
      "       [[794255.        , 773909.        , 792727.        ],\n",
      "        [794225.        , 773977.        , 792709.        ]],\n",
      "\n",
      "       [[794225.        , 773977.        , 792709.        ],\n",
      "        [794171.        , 774098.        , 792675.        ]],\n",
      "\n",
      "       [[794171.        , 774098.        , 792675.        ],\n",
      "        [794100.        , 774263.        , 792626.        ]],\n",
      "\n",
      "       [[794100.        , 774263.        , 792626.        ],\n",
      "        [794029.        , 774381.        , 792586.        ]],\n",
      "\n",
      "       [[794029.        , 774381.        , 792586.        ],\n",
      "        [793967.        , 774490.        , 792551.        ]],\n",
      "\n",
      "       [[793967.        , 774490.        , 792551.        ],\n",
      "        [793879.        , 774645.        , 792503.        ]],\n",
      "\n",
      "       [[793879.        , 774645.        , 792503.        ],\n",
      "        [793806.        , 774777.        , 792462.        ]],\n",
      "\n",
      "       [[793806.        , 774777.        , 792462.        ],\n",
      "        [793758.        , 774871.        , 792439.        ]],\n",
      "\n",
      "       [[793758.        , 774871.        , 792439.        ],\n",
      "        [793681.        , 775032.        , 792405.        ]],\n",
      "\n",
      "       [[793681.        , 775032.        , 792405.        ],\n",
      "        [793636.        , 775198.        , 792395.        ]],\n",
      "\n",
      "       [[793636.        , 775198.        , 792395.        ],\n",
      "        [793617.        , 775295.        , 792394.        ]],\n",
      "\n",
      "       [[793617.        , 775295.        , 792394.        ],\n",
      "        [793602.        , 775467.        , 792410.        ]],\n",
      "\n",
      "       [[793602.        , 775467.        , 792410.        ],\n",
      "        [793595.        , 775660.        , 792437.        ]],\n",
      "\n",
      "       [[793595.        , 775660.        , 792437.        ],\n",
      "        [793600.        , 775893.        , 792487.        ]],\n",
      "\n",
      "       [[793600.        , 775893.        , 792487.        ],\n",
      "        [793608.        , 776043.        , 792527.        ]],\n",
      "\n",
      "       [[793608.        , 776043.        , 792527.        ],\n",
      "        [793617.        , 776169.        , 792564.        ]],\n",
      "\n",
      "       [[793617.        , 776169.        , 792564.        ],\n",
      "        [793629.        , 776302.        , 792608.        ]],\n",
      "\n",
      "       [[793629.        , 776302.        , 792608.        ],\n",
      "        [793640.        , 776429.        , 792651.        ]],\n",
      "\n",
      "       [[793640.        , 776429.        , 792651.        ],\n",
      "        [793650.        , 776525.        , 792686.        ]],\n",
      "\n",
      "       [[793650.        , 776525.        , 792686.        ],\n",
      "        [793674.        , 776766.        , 792777.        ]],\n",
      "\n",
      "       [[793674.        , 776766.        , 792777.        ],\n",
      "        [793685.        , 776879.        , 792820.        ]],\n",
      "\n",
      "       [[793685.        , 776879.        , 792820.        ],\n",
      "        [793693.        , 776971.        , 792855.        ]],\n",
      "\n",
      "       [[793693.        , 776971.        , 792855.        ],\n",
      "        [793703.        , 777090.        , 792899.        ]],\n",
      "\n",
      "       [[793703.        , 777090.        , 792899.        ],\n",
      "        [793716.        , 777260.        , 792957.        ]],\n",
      "\n",
      "       [[793716.        , 777260.        , 792957.        ],\n",
      "        [793723.        , 777368.        , 792990.        ]],\n",
      "\n",
      "       [[793723.        , 777368.        , 792990.        ],\n",
      "        [793737.        , 777571.        , 793040.        ]],\n",
      "\n",
      "       [[793737.        , 777571.        , 793040.        ],\n",
      "        [793746.        , 777679.        , 793065.        ]],\n",
      "\n",
      "       [[793746.        , 777679.        , 793065.        ],\n",
      "        [793758.        , 777782.        , 793086.        ]],\n",
      "\n",
      "       [[793758.        , 777782.        , 793086.        ],\n",
      "        [793762.        , 777816.        , 793092.        ]],\n",
      "\n",
      "       [[793762.        , 777816.        , 793092.        ],\n",
      "        [793774.        , 777910.        , 793110.        ]],\n",
      "\n",
      "       [[793774.        , 777910.        , 793110.        ],\n",
      "        [793794.46265685, 778005.22251371, 793087.32947821]],\n",
      "\n",
      "       [[793794.46265685, 778005.22251371, 793087.32947821],\n",
      "        [793814.9253137 , 778100.44502741, 793064.65895642]],\n",
      "\n",
      "       [[793814.9253137 , 778100.44502741, 793064.65895642],\n",
      "        [793835.38797055, 778195.66754112, 793041.98843464]],\n",
      "\n",
      "       [[793835.38797055, 778195.66754112, 793041.98843464],\n",
      "        [793855.85062739, 778290.89005483, 793019.31791285]],\n",
      "\n",
      "       [[793855.85062739, 778290.89005483, 793019.31791285],\n",
      "        [793876.31328424, 778386.11256853, 792996.64739106]],\n",
      "\n",
      "       [[793876.31328424, 778386.11256853, 792996.64739106],\n",
      "        [793896.77594109, 778481.33508224, 792973.97686927]],\n",
      "\n",
      "       [[793896.77594109, 778481.33508224, 792973.97686927],\n",
      "        [793917.23859794, 778576.55759595, 792951.30634749]],\n",
      "\n",
      "       [[793917.23859794, 778576.55759595, 792951.30634749],\n",
      "        [793937.70125479, 778671.78010965, 792928.6358257 ]],\n",
      "\n",
      "       [[793937.70125479, 778671.78010965, 792928.6358257 ],\n",
      "        [793958.16391164, 778767.00262336, 792905.96530391]],\n",
      "\n",
      "       [[793958.16391164, 778767.00262336, 792905.96530391],\n",
      "        [793978.62656849, 778862.22513706, 792883.29478212]],\n",
      "\n",
      "       [[793978.62656849, 778862.22513706, 792883.29478212],\n",
      "        [793999.08922533, 778957.44765077, 792860.62426034]],\n",
      "\n",
      "       [[793999.08922533, 778957.44765077, 792860.62426034],\n",
      "        [794019.55188218, 779052.67016448, 792837.95373855]],\n",
      "\n",
      "       [[794019.55188218, 779052.67016448, 792837.95373855],\n",
      "        [794040.01453903, 779147.89267818, 792815.28321676]],\n",
      "\n",
      "       [[794040.01453903, 779147.89267818, 792815.28321676],\n",
      "        [794060.47719588, 779243.11519189, 792792.61269497]],\n",
      "\n",
      "       [[794060.47719588, 779243.11519189, 792792.61269497],\n",
      "        [794080.93985273, 779338.3377056 , 792769.94217319]],\n",
      "\n",
      "       [[794080.93985273, 779338.3377056 , 792769.94217319],\n",
      "        [794101.32419671, 779433.58014518, 792747.30974536]],\n",
      "\n",
      "       [[794101.32419671, 779433.58014518, 792747.30974536],\n",
      "        [794110.60462993, 779531.64564822, 792730.07701948]],\n",
      "\n",
      "       [[794110.60462993, 779531.64564822, 792730.07701948],\n",
      "        [794117.39723924, 779630.08909729, 792713.86778056]],\n",
      "\n",
      "       [[794117.39723924, 779630.08909729, 792713.86778056],\n",
      "        [794123.25618239, 779728.62996674, 792697.88783881]],\n",
      "\n",
      "       [[794123.25618239, 779728.62996674, 792697.88783881],\n",
      "        [794128.05579409, 779827.26899436, 792682.16216815]],\n",
      "\n",
      "       [[794128.05579409, 779827.26899436, 792682.16216815],\n",
      "        [794131.91755439, 779925.98502798, 792666.66303789]],\n",
      "\n",
      "       [[794131.91755439, 779925.98502798, 792666.66303789],\n",
      "        [794134.90260605, 780024.76600968, 792651.38559967]],\n",
      "\n",
      "       [[794134.90260605, 780024.76600968, 792651.38559967],\n",
      "        [794137.11315375, 780123.60099649, 792636.32724752]],\n",
      "\n",
      "       [[794137.11315375, 780123.60099649, 792636.32724752],\n",
      "        [794138.70208815, 780222.48090465, 792621.4868864 ]],\n",
      "\n",
      "       [[794138.70208815, 780222.48090465, 792621.4868864 ],\n",
      "        [794139.86336414, 780321.39975682, 792606.86802907]],\n",
      "\n",
      "       [[794139.86336414, 780321.39975682, 792606.86802907],\n",
      "        [794140.82558276, 780420.35431191, 792592.4781226 ]],\n",
      "\n",
      "       [[794140.82558276, 780420.35431191, 792592.4781226 ],\n",
      "        [794141.83959261, 780519.34281112, 792578.32726526]],\n",
      "\n",
      "       [[794141.83959261, 780519.34281112, 792578.32726526],\n",
      "        [794143.14993413, 780618.36234821, 792564.42018901]],\n",
      "\n",
      "       [[794143.14993413, 780618.36234821, 792564.42018901],\n",
      "        [794143.58619171, 780717.3691538 , 792550.41500187]],\n",
      "\n",
      "       [[794143.58619171, 780717.3691538 , 792550.41500187],\n",
      "        [794134.98682977, 780815.70228627, 792534.44716898]],\n",
      "\n",
      "       [[794134.98682977, 780815.70228627, 792534.44716898],\n",
      "        [794136.08868349, 780914.90481544, 792521.89158414]],\n",
      "\n",
      "       [[794136.08868349, 780914.90481544, 792521.89158414],\n",
      "        [794137.51747347, 781014.11792418, 792509.46012811]],\n",
      "\n",
      "       [[794137.51747347, 781014.11792418, 792509.46012811],\n",
      "        [794142.00785893, 781113.37486321, 792498.15120243]],\n",
      "\n",
      "       [[794142.00785893, 781113.37486321, 792498.15120243],\n",
      "        [794147.08335311, 781212.61249887, 792486.93244257]],\n",
      "\n",
      "       [[794147.08335311, 781212.61249887, 792486.93244257],\n",
      "        [794156.04990626, 781311.63370478, 792476.23752895]],\n",
      "\n",
      "       [[794156.04990626, 781311.63370478, 792476.23752895],\n",
      "        [794166.14548951, 781410.53364457, 792465.44059121]],\n",
      "\n",
      "       [[794166.14548951, 781410.53364457, 792465.44059121],\n",
      "        [794180.28354633, 781508.89519578, 792454.25806839]],\n",
      "\n",
      "       [[794180.28354633, 781508.89519578, 792454.25806839],\n",
      "        [794196.32478615, 781606.90133619, 792442.54365677]]])])\n"
     ]
    },
    {
     "name": "stdout",
     "output_type": "stream",
     "text": [
      "base_final_widths = [446.06415625 451.86204936 489.62372871]\n",
      "overall_ais_width = 337.1314293213117\n",
      "ais_width = 462.5166447730384\n",
      "Adding the following branches as true axons: [ 0.  1.  2.  3.  4.  5.  6.  7.  8.  9. 10. 11. 12. 13. 14. 15. 16. 17.\n",
      " 18. 19. 20. 21. 22. 23. 24. 25. 26. 27. 28. 29. 30. 31. 32. 33. 34. 35.\n",
      " 36. 37. 38. 39. 40. 41. 42. 43. 44. 45. 46. 47. 48. 49. 50. 51. 52. 53.\n",
      " 54. 55. 56. 57. 58. 59. 60. 61. 62. 63. 64. 65. 66. 67. 68. 69. 70.]\n",
      "curr_soma_angle = 170.96\n",
      "max_axon_angle = 174.76668300415466\n",
      "Changing to a better axon candidate\n",
      "\n",
      "\n",
      " --- Working on limb 2, candidate # 0\n",
      "0 out of 1 branches are axons\n",
      "Axon percentage = 0.0\n",
      "Not adding candidate no axon branches detected \n",
      "\n",
      "\n",
      " --- Working on limb 2, candidate # 1\n",
      "2 out of 5 branches are axons\n",
      "Axon percentage = 0.4\n",
      "curr_axon_angle_threshold = 120\n",
      "candidate_nodes = [ 3  4  5  6  7  8 10]\n",
      "non_axon_branches_on_subgraph = [ 4  5  6  8 10]\n",
      "endnodes_to_test = []\n",
      "candidate_angles,restr_skels = (None, None)\n",
      "Not adding candidate because no angles (None) passed the threhold 120 \n",
      "\n",
      "\n",
      " --- Working on limb 2, candidate # 2\n",
      "0 out of 1 branches are axons\n",
      "Axon percentage = 0.0\n",
      "Not adding candidate no axon branches detected \n",
      "\n",
      "\n",
      " --- Working on limb 2, candidate # 3\n",
      "0 out of 1 branches are axons\n",
      "Axon percentage = 0.0\n",
      "Not adding candidate no axon branches detected \n",
      "\n",
      "\n",
      " --- Working on limb 3, candidate # 0\n",
      "0 out of 1 branches are axons\n",
      "Axon percentage = 0.0\n",
      "Not adding candidate no axon branches detected \n",
      "\n",
      "\n",
      " --- Working on limb 3, candidate # 1\n",
      "0 out of 3 branches are axons\n",
      "Axon percentage = 0.0\n",
      "Not adding candidate no axon branches detected \n",
      "\n",
      "\n",
      " --- Working on limb 4, candidate # 0\n",
      "0 out of 3 branches are axons\n",
      "Axon percentage = 0.0\n",
      "Not adding candidate no axon branches detected \n",
      "\n",
      "\n",
      " --- Working on limb 4, candidate # 1\n",
      "0 out of 3 branches are axons\n",
      "Axon percentage = 0.0\n",
      "Not adding candidate no axon branches detected \n",
      "\n",
      "\n",
      " --- Working on limb 5, candidate # 0\n",
      "3 out of 5 branches are axons\n",
      "Axon percentage = 0.6\n",
      "curr_axon_angle_threshold = 120\n",
      "candidate_nodes = [0 1 3 4 5 6]\n",
      "non_axon_branches_on_subgraph = [0 1 4]\n",
      "endnodes_to_test = []\n",
      "candidate_angles,restr_skels = (None, None)\n",
      "Not adding candidate because no angles (None) passed the threhold 120 \n",
      "\n",
      "\n",
      " --- Working on limb 5, candidate # 1\n",
      "1 out of 3 branches are axons\n",
      "Axon percentage = 0.3333333333333333\n",
      "curr_axon_angle_threshold = 120\n",
      "candidate_nodes = [0 2 7 8]\n",
      "non_axon_branches_on_subgraph = [0 2 8]\n",
      "endnodes_to_test = []\n",
      "candidate_angles,restr_skels = (None, None)\n",
      "Not adding candidate because no angles (None) passed the threhold 120 \n",
      "\n",
      "\n",
      " --- Working on limb 6, candidate # 0\n",
      "0 out of 1 branches are axons\n",
      "Axon percentage = 0.0\n",
      "Not adding candidate no axon branches detected \n",
      "\n",
      "\n",
      " --- Working on limb 6, candidate # 1\n",
      "1 out of 3 branches are axons\n",
      "Axon percentage = 0.3333333333333333\n",
      "curr_axon_angle_threshold = 120\n",
      "candidate_nodes = [0 1 3 5 6]\n",
      "non_axon_branches_on_subgraph = [1 3 5 6]\n",
      "endnodes_to_test = []\n",
      "candidate_angles,restr_skels = (None, None)\n",
      "Not adding candidate because no angles (None) passed the threhold 120 \n",
      "\n",
      "\n",
      " --- Working on limb 6, candidate # 2\n",
      "1 out of 1 branches are axons\n",
      "Axon percentage = 1.0\n",
      "curr_axon_angle_threshold = 95\n",
      "candidate_nodes = [4 5 6]\n",
      "non_axon_branches_on_subgraph = [5 6]\n",
      "endnodes_to_test = [0]\n",
      "Skeleton paths distances = [24935.86879968]\n",
      "Filtered indexes = [0]\n",
      "len(filtered_skeletons) = 1\n",
      "sk_angles = [105.1806034]\n",
      "candidate_angles,restr_skels = (array([105.1806034]), [array([[[784786.        , 768470.        , 788954.        ],\n",
      "        [784911.        , 768601.        , 788976.        ]],\n",
      "\n",
      "       [[784911.        , 768601.        , 788976.        ],\n",
      "        [785115.        , 768857.        , 788996.        ]],\n",
      "\n",
      "       [[785115.        , 768857.        , 788996.        ],\n",
      "        [785242.        , 769043.        , 789007.        ]],\n",
      "\n",
      "       [[785242.        , 769043.        , 789007.        ],\n",
      "        [785301.        , 769142.        , 788994.        ]],\n",
      "\n",
      "       [[785301.        , 769142.        , 788994.        ],\n",
      "        [785354.        , 769202.        , 788970.        ]],\n",
      "\n",
      "       [[785354.        , 769202.        , 788970.        ],\n",
      "        [785420.        , 769280.        , 788936.        ]],\n",
      "\n",
      "       [[785420.        , 769280.        , 788936.        ],\n",
      "        [785464.        , 769413.        , 788857.        ]],\n",
      "\n",
      "       [[785464.        , 769413.        , 788857.        ],\n",
      "        [785486.7033339 , 769351.43581679, 788849.35094172]],\n",
      "\n",
      "       [[785486.7033339 , 769351.43581679, 788849.35094172],\n",
      "        [785521.07039408, 769258.24333685, 788837.77221732]],\n",
      "\n",
      "       [[785521.07039408, 769258.24333685, 788837.77221732],\n",
      "        [785555.43745426, 769165.05085692, 788826.19349292]],\n",
      "\n",
      "       [[785555.43745426, 769165.05085692, 788826.19349292],\n",
      "        [785589.80451443, 769071.85837699, 788814.61476851]],\n",
      "\n",
      "       [[785589.80451443, 769071.85837699, 788814.61476851],\n",
      "        [785624.17157461, 768978.66589706, 788803.03604411]],\n",
      "\n",
      "       [[785624.17157461, 768978.66589706, 788803.03604411],\n",
      "        [785658.53863479, 768885.47341712, 788791.45731971]],\n",
      "\n",
      "       [[785658.53863479, 768885.47341712, 788791.45731971],\n",
      "        [785692.90569496, 768792.28093719, 788779.87859531]],\n",
      "\n",
      "       [[785692.90569496, 768792.28093719, 788779.87859531],\n",
      "        [785727.27275514, 768699.08845726, 788768.29987091]],\n",
      "\n",
      "       [[785727.27275514, 768699.08845726, 788768.29987091],\n",
      "        [785761.63981532, 768605.89597732, 788756.72114651]],\n",
      "\n",
      "       [[785761.63981532, 768605.89597732, 788756.72114651],\n",
      "        [785796.00687549, 768512.70349739, 788745.14242211]],\n",
      "\n",
      "       [[785796.00687549, 768512.70349739, 788745.14242211],\n",
      "        [785830.37393567, 768419.51101746, 788733.56369771]],\n",
      "\n",
      "       [[785830.37393567, 768419.51101746, 788733.56369771],\n",
      "        [785864.74099585, 768326.31853752, 788721.9849733 ]],\n",
      "\n",
      "       [[785864.74099585, 768326.31853752, 788721.9849733 ],\n",
      "        [785899.10805602, 768233.12605759, 788710.4062489 ]],\n",
      "\n",
      "       [[785899.10805602, 768233.12605759, 788710.4062489 ],\n",
      "        [785933.4751162 , 768139.93357766, 788698.8275245 ]],\n",
      "\n",
      "       [[785933.4751162 , 768139.93357766, 788698.8275245 ],\n",
      "        [785967.84217638, 768046.74109773, 788687.2488001 ]],\n",
      "\n",
      "       [[785967.84217638, 768046.74109773, 788687.2488001 ],\n",
      "        [786002.20923655, 767953.54861779, 788675.6700757 ]],\n",
      "\n",
      "       [[786002.20923655, 767953.54861779, 788675.6700757 ],\n",
      "        [786036.57629673, 767860.35613786, 788664.0913513 ]],\n",
      "\n",
      "       [[786036.57629673, 767860.35613786, 788664.0913513 ],\n",
      "        [786070.94335691, 767767.16365793, 788652.5126269 ]],\n",
      "\n",
      "       [[786070.94335691, 767767.16365793, 788652.5126269 ],\n",
      "        [786105.31041708, 767673.97117799, 788640.9339025 ]],\n",
      "\n",
      "       [[786105.31041708, 767673.97117799, 788640.9339025 ],\n",
      "        [786139.67747726, 767580.77869806, 788629.35517809]],\n",
      "\n",
      "       [[786139.67747726, 767580.77869806, 788629.35517809],\n",
      "        [786184.80987158, 767493.07623136, 788615.78198218]],\n",
      "\n",
      "       [[786184.80987158, 767493.07623136, 788615.78198218],\n",
      "        [786268.10072472, 767471.81324531, 788590.13687057]],\n",
      "\n",
      "       [[786268.10072472, 767471.81324531, 788590.13687057],\n",
      "        [786346.41800706, 767500.47427406, 788539.78839022]],\n",
      "\n",
      "       [[786346.41800706, 767500.47427406, 788539.78839022],\n",
      "        [786355.92510859, 767560.01153975, 788469.33948205]],\n",
      "\n",
      "       [[786355.92510859, 767560.01153975, 788469.33948205],\n",
      "        [786307.36470459, 767618.6797283 , 788407.95236727]],\n",
      "\n",
      "       [[786307.36470459, 767618.6797283 , 788407.95236727],\n",
      "        [786236.02828034, 767668.17715893, 788359.10587276]],\n",
      "\n",
      "       [[786236.02828034, 767668.17715893, 788359.10587276],\n",
      "        [786156.32263324, 767711.75189151, 788317.49153698]],\n",
      "\n",
      "       [[786156.32263324, 767711.75189151, 788317.49153698],\n",
      "        [786097.44304775, 767771.32567443, 788264.89315631]],\n",
      "\n",
      "       [[786097.44304775, 767771.32567443, 788264.89315631],\n",
      "        [786013.02269877, 767811.13362699, 788234.70655562]],\n",
      "\n",
      "       [[786013.02269877, 767811.13362699, 788234.70655562],\n",
      "        [785922.05534796, 767843.9741091 , 788209.31290815]],\n",
      "\n",
      "       [[785922.05534796, 767843.9741091 , 788209.31290815],\n",
      "        [785830.59606383, 767875.49494486, 788183.98501934]],\n",
      "\n",
      "       [[785830.59606383, 767875.49494486, 788183.98501934],\n",
      "        [785738.11834647, 767903.6039574 , 788158.37702363]],\n",
      "\n",
      "       [[785738.11834647, 767903.6039574 , 788158.37702363],\n",
      "        [785645.23238304, 767930.26413983, 788132.66150916]],\n",
      "\n",
      "       [[785645.23238304, 767930.26413983, 788132.66150916],\n",
      "        [785551.45883763, 767953.37576701, 788106.77067009]],\n",
      "\n",
      "       [[785551.45883763, 767953.37576701, 788106.77067009],\n",
      "        [785457.32734798, 767975.15253456, 788080.98449387]],\n",
      "\n",
      "       [[785457.32734798, 767975.15253456, 788080.98449387],\n",
      "        [785362.26238627, 767993.74081262, 788056.178654  ]],\n",
      "\n",
      "       [[785362.26238627, 767993.74081262, 788056.178654  ],\n",
      "        [785266.71739492, 768011.1658719 , 788032.36013581]],\n",
      "\n",
      "       [[785266.71739492, 768011.1658719 , 788032.36013581],\n",
      "        [785170.22484128, 768026.62105397, 788011.17863717]],\n",
      "\n",
      "       [[785170.22484128, 768026.62105397, 788011.17863717],\n",
      "        [785073.01396562, 768041.1211035 , 787992.77242814]],\n",
      "\n",
      "       [[785073.01396562, 768041.1211035 , 787992.77242814],\n",
      "        [784975.04411781, 768054.68439597, 787978.07378335]],\n",
      "\n",
      "       [[784975.04411781, 768054.68439597, 787978.07378335],\n",
      "        [784876.38521108, 768067.67221742, 787968.34621866]],\n",
      "\n",
      "       [[784876.38521108, 768067.67221742, 787968.34621866],\n",
      "        [784777.41126757, 768080.40157925, 787961.9385556 ]],\n",
      "\n",
      "       [[784777.41126757, 768080.40157925, 787961.9385556 ],\n",
      "        [784678.25410019, 768093.15206824, 787961.88799127]],\n",
      "\n",
      "       [[784678.25410019, 768093.15206824, 787961.88799127],\n",
      "        [784579.13802632, 768106.17162656, 787964.35633064]],\n",
      "\n",
      "       [[784579.13802632, 768106.17162656, 787964.35633064],\n",
      "        [784480.29595956, 768119.9212487 , 787970.62366327]],\n",
      "\n",
      "       [[784480.29595956, 768119.9212487 , 787970.62366327],\n",
      "        [784381.71067421, 768134.64495174, 787978.61301709]],\n",
      "\n",
      "       [[784381.71067421, 768134.64495174, 787978.61301709],\n",
      "        [784283.45524658, 768150.62617212, 787988.10139068]],\n",
      "\n",
      "       [[784283.45524658, 768150.62617212, 787988.10139068],\n",
      "        [784185.56765256, 768168.48405141, 787998.03517017]],\n",
      "\n",
      "       [[784185.56765256, 768168.48405141, 787998.03517017],\n",
      "        [784087.98519791, 768187.88994499, 788008.07658588]],\n",
      "\n",
      "       [[784087.98519791, 768187.88994499, 788008.07658588],\n",
      "        [783990.90477664, 768209.96303809, 788017.41636388]],\n",
      "\n",
      "       [[783990.90477664, 768209.96303809, 788017.41636388],\n",
      "        [783894.14041581, 768233.59188238, 788026.25416042]],\n",
      "\n",
      "       [[783894.14041581, 768233.59188238, 788026.25416042],\n",
      "        [783798.05559813, 768260.24521022, 788033.73377505]],\n",
      "\n",
      "       [[783798.05559813, 768260.24521022, 788033.73377505],\n",
      "        [783702.28870341, 768288.20143515, 788040.58988026]],\n",
      "\n",
      "       [[783702.28870341, 768288.20143515, 788040.58988026],\n",
      "        [783607.28813076, 768318.94576574, 788045.92038806]],\n",
      "\n",
      "       [[783607.28813076, 768318.94576574, 788045.92038806],\n",
      "        [783512.54043074, 768350.56243782, 788050.73778572]],\n",
      "\n",
      "       [[783512.54043074, 768350.56243782, 788050.73778572],\n",
      "        [783418.43581219, 768384.20816845, 788054.13118519]],\n",
      "\n",
      "       [[783418.43581219, 768384.20816845, 788054.13118519],\n",
      "        [783324.4758388 , 768418.30557781, 788057.11063626]],\n",
      "\n",
      "       [[783324.4758388 , 768418.30557781, 788057.11063626],\n",
      "        [783230.79956056, 768453.25081464, 788058.93826549]],\n",
      "\n",
      "       [[783230.79956056, 768453.25081464, 788058.93826549],\n",
      "        [783137.14872519, 768488.28850898, 788060.30515243]],\n",
      "\n",
      "       [[783137.14872519, 768488.28850898, 788060.30515243],\n",
      "        [783043.47358197, 768523.28445076, 788060.68606493]],\n",
      "\n",
      "       [[783043.47358197, 768523.28445076, 788060.68606493],\n",
      "        [782949.72251902, 768558.0781337 , 788060.37947608]],\n",
      "\n",
      "       [[782949.72251902, 768558.0781337 , 788060.37947608],\n",
      "        [782855.8637234 , 768592.55685127, 788059.09923464]],\n",
      "\n",
      "       [[782855.8637234 , 768592.55685127, 788059.09923464],\n",
      "        [782761.96427151, 768626.85906146, 788056.62646049]],\n",
      "\n",
      "       [[782761.96427151, 768626.85906146, 788056.62646049],\n",
      "        [782668.07518227, 768661.10605535, 788053.17671504]],\n",
      "\n",
      "       [[782668.07518227, 768661.10605535, 788053.17671504],\n",
      "        [782574.49771074, 768695.91133925, 788047.57851377]],\n",
      "\n",
      "       [[782574.49771074, 768695.91133925, 788047.57851377],\n",
      "        [782481.23644773, 768731.33675022, 788040.70713477]],\n",
      "\n",
      "       [[782481.23644773, 768731.33675022, 788040.70713477],\n",
      "        [782388.82063162, 768768.35137514, 788031.31063594]],\n",
      "\n",
      "       [[782388.82063162, 768768.35137514, 788031.31063594],\n",
      "        [782297.4308651 , 768807.23860039, 788019.69635175]],\n",
      "\n",
      "       [[782297.4308651 , 768807.23860039, 788019.69635175],\n",
      "        [782207.06307357, 768847.8489011 , 788006.13834096]],\n",
      "\n",
      "       [[782207.06307357, 768847.8489011 , 788006.13834096],\n",
      "        [782118.94834781, 768891.94072062, 787989.13735176]],\n",
      "\n",
      "       [[782118.94834781, 768891.94072062, 787989.13735176],\n",
      "        [782032.07105687, 768937.79561698, 787970.45111894]],\n",
      "\n",
      "       [[782032.07105687, 768937.79561698, 787970.45111894],\n",
      "        [781947.42925911, 768986.52604638, 787949.02066075]],\n",
      "\n",
      "       [[781947.42925911, 768986.52604638, 787949.02066075],\n",
      "        [781864.46735236, 769037.18635542, 787925.56689235]],\n",
      "\n",
      "       [[781864.46735236, 769037.18635542, 787925.56689235],\n",
      "        [781782.9172746 , 769089.32425083, 787900.45320751]],\n",
      "\n",
      "       [[781782.9172746 , 769089.32425083, 787900.45320751],\n",
      "        [781703.00521269, 769142.79890974, 787872.99921198]],\n",
      "\n",
      "       [[781703.00521269, 769142.79890974, 787872.99921198],\n",
      "        [781623.66022533, 769196.6224211 , 787844.58567987]],\n",
      "\n",
      "       [[781623.66022533, 769196.6224211 , 787844.58567987],\n",
      "        [781545.04581504, 769250.13683865, 787813.67613925]],\n",
      "\n",
      "       [[781545.04581504, 769250.13683865, 787813.67613925],\n",
      "        [781466.33485754, 769302.99154243, 787781.88165895]],\n",
      "\n",
      "       [[781466.33485754, 769302.99154243, 787781.88165895],\n",
      "        [781387.15577142, 769353.8775883 , 787748.10846369]],\n",
      "\n",
      "       [[781387.15577142, 769353.8775883 , 787748.10846369],\n",
      "        [781307.22839698, 769402.80464024, 787713.21769867]],\n",
      "\n",
      "       [[781307.22839698, 769402.80464024, 787713.21769867],\n",
      "        [781226.22253593, 769448.80977022, 787676.87631152]],\n",
      "\n",
      "       [[781226.22253593, 769448.80977022, 787676.87631152],\n",
      "        [781143.85537967, 769491.46130859, 787639.51989822]],\n",
      "\n",
      "       [[781143.85537967, 769491.46130859, 787639.51989822],\n",
      "        [781060.33885183, 769531.08912903, 787601.39005671]],\n",
      "\n",
      "       [[781060.33885183, 769531.08912903, 787601.39005671],\n",
      "        [780975.11204163, 769566.48509237, 787562.8927825 ]],\n",
      "\n",
      "       [[780975.11204163, 769566.48509237, 787562.8927825 ],\n",
      "        [780888.94483221, 769599.42744895, 787524.29731205]],\n",
      "\n",
      "       [[780888.94483221, 769599.42744895, 787524.29731205],\n",
      "        [780800.97162945, 769628.13311389, 787486.41346282]],\n",
      "\n",
      "       [[780800.97162945, 769628.13311389, 787486.41346282],\n",
      "        [780712.30163393, 769655.16971936, 787448.91032056]],\n",
      "\n",
      "       [[780712.30163393, 769655.16971936, 787448.91032056],\n",
      "        [780621.88467111, 769678.66076871, 787413.25024246]],\n",
      "\n",
      "       [[780621.88467111, 769678.66076871, 787413.25024246],\n",
      "        [780530.96641726, 769701.14814153, 787378.20566622]]])])\n"
     ]
    },
    {
     "name": "stdout",
     "output_type": "stream",
     "text": [
      "base_final_widths = [185.96598515 283.03746532 280.71496276]\n",
      "overall_ais_width = 87.09942049353597\n",
      "ais_width = 249.90613774555413\n",
      "Adding the following branches as true axons: [4]\n",
      "curr_soma_angle = 136.04\n",
      "max_axon_angle = 105.18060339833636\n",
      "Using the best axon approach\n",
      "Using True\n",
      "Limb L1: Axon branches before dendritic path filter = [ 0.  1.  2.  3.  4.  5.  6.  7.  8.  9. 10. 11. 12. 13. 14. 15. 16. 17.\n",
      " 18. 19. 20. 21. 22. 23. 24. 25. 26. 27. 28. 29. 30. 31. 32. 33. 34. 35.\n",
      " 36. 37. 38. 39. 40. 41. 42. 43. 44. 45. 46. 47. 48. 49. 50. 51. 52. 53.\n",
      " 54. 55. 56. 57. 58. 59. 60. 61. 62. 63. 64. 65. 66. 67. 68. 69. 70.]\n",
      "Limb L1: Axon branches AFTER dendritic path filter = [ 0.  1.  2.  3.  4.  5.  6.  7.  8.  9. 10. 11. 12. 13. 14. 15. 16. 17.\n",
      " 18. 19. 20. 21. 22. 23. 24. 25. 26. 27. 28. 29. 30. 31. 32. 33. 34. 35.\n",
      " 36. 37. 38. 39. 40. 41. 42. 43. 44. 45. 46. 47. 48. 49. 50. 51. 52. 53.\n",
      " 54. 55. 56. 57. 58. 59. 60. 61. 62. 63. 64. 65. 66. 67. 68. 69. 70.]\n",
      "\n",
      "\n",
      "Part 4: final_true_axons = {'L1': array([ 0.,  1.,  2.,  3.,  4.,  5.,  6.,  7.,  8.,  9., 10., 11., 12.,\n",
      "       13., 14., 15., 16., 17., 18., 19., 20., 21., 22., 23., 24., 25.,\n",
      "       26., 27., 28., 29., 30., 31., 32., 33., 34., 35., 36., 37., 38.,\n",
      "       39., 40., 41., 42., 43., 44., 45., 46., 47., 48., 49., 50., 51.,\n",
      "       52., 53., 54., 55., 56., 57., 58., 59., 60., 61., 62., 63., 64.,\n",
      "       65., 66., 67., 68., 69., 70.])}\n",
      "\n",
      "--- Working on filter 0:\n",
      "function = dendrite_on_axon_merges\n",
      "function __name__ = filter_away_dendrite_on_axon_merges\n",
      "function arguments = {'use_pre_existing_axon_labels': True}\n",
      "\n",
      "\n",
      "\n",
      "\n",
      "\n",
      " ---- Total time for applying filter: 0.7248537540435791 -----\n",
      "Starting axon branch was the starting node so using border vertices and NOT computing upstream branch\n",
      "upstream_node_to_axon_starting_branch = None\n",
      "root_curr = [794174.4 762944.2 790407.1]\n",
      "Time for preparing soma vertices and root: 0.0007383823394775391\n",
      "invalidation_d = 2000\n",
      "cc_vertex_thresh = 10\n"
     ]
    },
    {
     "name": "stderr",
     "output_type": "stream",
     "text": [
      "\r",
      "  0%|          | 0/1 [00:00<?, ?it/s]"
     ]
    },
    {
     "data": {
      "application/vnd.jupyter.widget-view+json": {
       "model_id": "1075a505ec9f4354ae3a96759849409d",
       "version_major": 2,
       "version_minor": 0
      },
      "text/plain": [
       "  0%|          | 0/93234 [00:00<?, ?it/s]"
      ]
     },
     "metadata": {},
     "output_type": "display_data"
    },
    {
     "name": "stderr",
     "output_type": "stream",
     "text": [
      "100%|██████████| 1/1 [00:07<00:00,  7.69s/it]\n"
     ]
    },
    {
     "name": "stdout",
     "output_type": "stream",
     "text": [
      "meshparty_segment_size = 100\n",
      "Time for 1st pass MP skeletonization: 9.289745092391968\n",
      "branches_touching_root = [24]\n",
      "combining close nodes\n",
      "combine_threshold = 1300\n",
      "length of Graph = 25489\n",
      "After combining close endpoints max(kept_branches_idx) = 157, len(kept_branches_idx) = 144\n",
      "empty_indices % = 0.0\n",
      " conflict_indices % = 0.0140343324543938\n"
     ]
    },
    {
     "data": {
      "application/vnd.jupyter.widget-view+json": {
       "model_id": "91f8e46be5a1452692cb7edf9e26680f",
       "version_major": 2,
       "version_minor": 0
      },
      "text/plain": [
       "  0%|          | 0/63 [00:00<?, ?it/s]"
      ]
     },
     "metadata": {},
     "output_type": "display_data"
    },
    {
     "name": "stdout",
     "output_type": "stream",
     "text": [
      "AFTER face_lookup_resolved_test\n"
     ]
    },
    {
     "data": {
      "application/vnd.jupyter.widget-view+json": {
       "model_id": "5e043a8a9b0f438988d07e9f13e6266c",
       "version_major": 2,
       "version_minor": 0
      },
      "text/plain": [
       "  0%|          | 0/144 [00:00<?, ?it/s]"
      ]
     },
     "metadata": {},
     "output_type": "display_data"
    },
    {
     "name": "stdout",
     "output_type": "stream",
     "text": [
      "Decomposing first pass: 32.33241295814514\n",
      "Only Using MeshParty Skeletonization and Mesh Correspondence\n",
      "Another print\n",
      "Divinding into MP and MAP pieces: 3.0994415283203125e-05\n",
      "Total time for MAP sublimb processing 3.337860107421875e-06\n",
      "---- Working on MP Decomposition #0 ----\n",
      "Using Quicker soma_to_piece_touching_vertices because no MAP and only one sublimb_mesh piece \n",
      "MP filtering soma verts: 4.5299530029296875e-05\n",
      "Fixing Possible Soma Extension Branch for Sublimb 0\n",
      "Total time for mesh KDTree = 0.04136824607849121\n",
      "sbv[0].reshape(-1,3) = [[794174.4 762944.2 790407.1]]\n",
      "closest_sk_pt_coord BEFORE = [793923.14598073 763106.44471951 790900.67845401]\n",
      "current_skeleton.shape = (161, 2, 3)\n",
      "node_for_stitch = 14: [793923.14598073 763106.44471951 790900.67845401]\n",
      "node_for_stitch AFTER = 14: [793923.14598073 763106.44471951 790900.67845401]\n",
      "possible_node_loc = [14 20]\n",
      "possible_node_loc AFTER = [14 20]\n",
      "curr_shortest_path = [14]\n",
      "Current stitch point was a branch or endpoint\n",
      "change_status for create soma extending pieces = False\n",
      "closest_sk_pt_coord AFTER = [793923.14598073 763106.44471951 790900.67845401]\n",
      "skipping soma 0 because closest skeleton node was already end node\n",
      "endpoints_must_keep = {0: array([[793923.14598073, 763106.44471951, 790900.67845401]])}\n",
      "match_sk_branches = [23]\n",
      "The new branch info was none so skipping \n",
      "\n",
      "No soma extending branch was added for this sublimb even though it had a soma border (means they already existed)\n",
      "MP (because soma touching verts) soma extension add: 12.790166139602661\n",
      "There were not both MAP and MP pieces so skipping the stitch resolving phase\n",
      "Time for decomp of Limb = 55.94803810119629\n",
      "Number of matching vertices = 20\n",
      "Only one endpoint after filtering away the endpoints that are not on the skeleton\n",
      "Using Distance measure skeletal_distance\n",
      "endpoints_must_keep = [[793923.14598073 763106.44471951 790900.67845401]]\n",
      "Number of end_nodes BEFORE filtering = 81\n",
      "all_single_nodes_to_eliminate = [45]\n"
     ]
    },
    {
     "data": {
      "application/vnd.jupyter.widget-view+json": {
       "model_id": "c4ec6aea15e84b6895ea3c333d8dcb99",
       "version_major": 2,
       "version_minor": 0
      },
      "text/plain": [
       "  0%|          | 0/10 [00:00<?, ?it/s]"
      ]
     },
     "metadata": {},
     "output_type": "display_data"
    },
    {
     "name": "stdout",
     "output_type": "stream",
     "text": [
      "Removed 10 skeletal branches\n"
     ]
    },
    {
     "data": {
      "application/vnd.jupyter.widget-view+json": {
       "model_id": "926e1bfd63f6435183b3c8143d2b54a1",
       "version_major": 2,
       "version_minor": 0
      },
      "text/plain": [
       "  0%|          | 0/144 [00:00<?, ?it/s]"
      ]
     },
     "metadata": {},
     "output_type": "display_data"
    },
    {
     "name": "stdout",
     "output_type": "stream",
     "text": [
      "186068 186069\n",
      "For marked faces: None\n",
      "empty_indices % = 0.0\n",
      " conflict_indices % = 0.0\n"
     ]
    },
    {
     "data": {
      "application/vnd.jupyter.widget-view+json": {
       "model_id": "eebbae9632f94da493e1a688ecb7b9d9",
       "version_major": 2,
       "version_minor": 0
      },
      "text/plain": [
       "0it [00:00, ?it/s]"
      ]
     },
     "metadata": {},
     "output_type": "display_data"
    },
    {
     "name": "stdout",
     "output_type": "stream",
     "text": [
      "AFTER face_lookup_resolved_test\n"
     ]
    },
    {
     "data": {
      "application/vnd.jupyter.widget-view+json": {
       "model_id": "b2d8d9bcaeb6420f9be4be2d5da72493",
       "version_major": 2,
       "version_minor": 0
      },
      "text/plain": [
       "  0%|          | 0/124 [00:00<?, ?it/s]"
      ]
     },
     "metadata": {},
     "output_type": "display_data"
    },
    {
     "name": "stdout",
     "output_type": "stream",
     "text": [
      "Limb Correspondence before stitching = 124\n",
      "Limb Correspondence AFTER stitching = 124\n",
      "Upstream node was None so don't have to adjust\n",
      "concept_network_dict = {0: [<networkx_utils.GraphOrderedEdges object at 0x7f44dc2a9ef0>]}\n",
      "Assigning the old width calculation because no valid new widths\n",
      "\n",
      "\n",
      "----Working on seperate_graph 0----\n",
      "\n",
      "\n",
      "---------Working on soma_idx = 0, soma_group_idx 0, endpt = [793923.14598073 763106.44471951 790900.67845401]---------\n",
      "Starting_edge inside branches_to_conept = [[793923.14598073 763106.44471951 790900.67845401]\n",
      " [793947.77263532 778244.19360111 792866.40758892]]\n",
      "At the start, starting_node (in terms of the skeleton, that shouldn't match the starting edge) = [69]\n",
      "printing out current edge:\n",
      "[[793923.14598073 763106.44471951 790900.67845401]\n",
      " [793947.77263532 778244.19360111 792866.40758892]]\n",
      "edge_endpoints_to_process was empty so exiting loop after 124 iterations\n",
      "starting_node in concept map (that should match the starting edge) = 76\n",
      "Total time for branches to concept conversion = 3.6329991817474365\n",
      "\n",
      "Done generating concept network \n",
      "\n",
      "\n"
     ]
    },
    {
     "data": {
      "application/vnd.jupyter.widget-view+json": {
       "model_id": "aa4075ca1a6c478aa1ac6a2c0f15afdc",
       "version_major": 2,
       "version_minor": 0
      },
      "text/plain": [
       "  0%|          | 0/105 [00:00<?, ?it/s]"
      ]
     },
     "metadata": {},
     "output_type": "display_data"
    },
    {
     "data": {
      "application/vnd.jupyter.widget-view+json": {
       "model_id": "ca42009dfab147a59953493abbf2b7b8",
       "version_major": 2,
       "version_minor": 0
      },
      "text/plain": [
       "  0%|          | 0/27 [00:00<?, ?it/s]"
      ]
     },
     "metadata": {},
     "output_type": "display_data"
    },
    {
     "data": {
      "application/vnd.jupyter.widget-view+json": {
       "model_id": "58b20deb027d400ea21b942ab380cac2",
       "version_major": 2,
       "version_minor": 0
      },
      "text/plain": [
       "  0%|          | 0/8 [00:00<?, ?it/s]"
      ]
     },
     "metadata": {},
     "output_type": "display_data"
    },
    {
     "data": {
      "application/vnd.jupyter.widget-view+json": {
       "model_id": "93b2065c3adb4969af98a3761b63efb0",
       "version_major": 2,
       "version_minor": 0
      },
      "text/plain": [
       "  0%|          | 0/5 [00:00<?, ?it/s]"
      ]
     },
     "metadata": {},
     "output_type": "display_data"
    },
    {
     "data": {
      "application/vnd.jupyter.widget-view+json": {
       "model_id": "875ee793bedf419cb13c62a12f706165",
       "version_major": 2,
       "version_minor": 0
      },
      "text/plain": [
       "  0%|          | 0/9 [00:00<?, ?it/s]"
      ]
     },
     "metadata": {},
     "output_type": "display_data"
    },
    {
     "data": {
      "application/vnd.jupyter.widget-view+json": {
       "model_id": "d001acbfb56f42069d26dee59cf4e034",
       "version_major": 2,
       "version_minor": 0
      },
      "text/plain": [
       "  0%|          | 0/8 [00:00<?, ?it/s]"
      ]
     },
     "metadata": {},
     "output_type": "display_data"
    },
    {
     "data": {
      "application/vnd.jupyter.widget-view+json": {
       "model_id": "bd4a7df8b5664ae49034d6af578cca90",
       "version_major": 2,
       "version_minor": 0
      },
      "text/plain": [
       "  0%|          | 0/14 [00:00<?, ?it/s]"
      ]
     },
     "metadata": {},
     "output_type": "display_data"
    },
    {
     "data": {
      "application/vnd.jupyter.widget-view+json": {
       "model_id": "ccfc92568acd47e29d7ac1d067a19621",
       "version_major": 2,
       "version_minor": 0
      },
      "text/plain": [
       "  0%|          | 0/13 [00:00<?, ?it/s]"
      ]
     },
     "metadata": {},
     "output_type": "display_data"
    },
    {
     "data": {
      "application/vnd.jupyter.widget-view+json": {
       "model_id": "6b1d3f0ac9fb4cf9a4ee17c2f8b02e30",
       "version_major": 2,
       "version_minor": 0
      },
      "text/plain": [
       "  0%|          | 0/3 [00:00<?, ?it/s]"
      ]
     },
     "metadata": {},
     "output_type": "display_data"
    },
    {
     "data": {
      "application/vnd.jupyter.widget-view+json": {
       "model_id": "6590debffe2d446a87bd3e94b2a1a8dc",
       "version_major": 2,
       "version_minor": 0
      },
      "text/plain": [
       "  0%|          | 0/15 [00:00<?, ?it/s]"
      ]
     },
     "metadata": {},
     "output_type": "display_data"
    },
    {
     "data": {
      "application/vnd.jupyter.widget-view+json": {
       "model_id": "859a4ab4b0464b2788f58b4920aee61d",
       "version_major": 2,
       "version_minor": 0
      },
      "text/plain": [
       "  0%|          | 0/28 [00:00<?, ?it/s]"
      ]
     },
     "metadata": {},
     "output_type": "display_data"
    },
    {
     "data": {
      "application/vnd.jupyter.widget-view+json": {
       "model_id": "654c65946c5d43d7804566ef0da49456",
       "version_major": 2,
       "version_minor": 0
      },
      "text/plain": [
       "  0%|          | 0/7 [00:00<?, ?it/s]"
      ]
     },
     "metadata": {},
     "output_type": "display_data"
    },
    {
     "data": {
      "application/vnd.jupyter.widget-view+json": {
       "model_id": "63b1c2358cd8461c8c7e44cb09bf85a2",
       "version_major": 2,
       "version_minor": 0
      },
      "text/plain": [
       "  0%|          | 0/20 [00:00<?, ?it/s]"
      ]
     },
     "metadata": {},
     "output_type": "display_data"
    },
    {
     "data": {
      "application/vnd.jupyter.widget-view+json": {
       "model_id": "ff79e04ceff94a6d9ba32768a436e331",
       "version_major": 2,
       "version_minor": 0
      },
      "text/plain": [
       "  0%|          | 0/5 [00:00<?, ?it/s]"
      ]
     },
     "metadata": {},
     "output_type": "display_data"
    },
    {
     "data": {
      "application/vnd.jupyter.widget-view+json": {
       "model_id": "b15bc2ad8a3c43ee8ffecd0641e68517",
       "version_major": 2,
       "version_minor": 0
      },
      "text/plain": [
       "  0%|          | 0/9 [00:00<?, ?it/s]"
      ]
     },
     "metadata": {},
     "output_type": "display_data"
    },
    {
     "data": {
      "application/vnd.jupyter.widget-view+json": {
       "model_id": "88c6697ffe76444cb120c224d73aafb2",
       "version_major": 2,
       "version_minor": 0
      },
      "text/plain": [
       "  0%|          | 0/3 [00:00<?, ?it/s]"
      ]
     },
     "metadata": {},
     "output_type": "display_data"
    },
    {
     "data": {
      "application/vnd.jupyter.widget-view+json": {
       "model_id": "b961c77eca184db9b7bf540650b19407",
       "version_major": 2,
       "version_minor": 0
      },
      "text/plain": [
       "  0%|          | 0/5 [00:00<?, ?it/s]"
      ]
     },
     "metadata": {},
     "output_type": "display_data"
    },
    {
     "data": {
      "application/vnd.jupyter.widget-view+json": {
       "model_id": "98c81a991e9c48398b9cdef986ac44f9",
       "version_major": 2,
       "version_minor": 0
      },
      "text/plain": [
       "  0%|          | 0/13 [00:00<?, ?it/s]"
      ]
     },
     "metadata": {},
     "output_type": "display_data"
    },
    {
     "data": {
      "application/vnd.jupyter.widget-view+json": {
       "model_id": "242e986726a34a3995340646a837bd95",
       "version_major": 2,
       "version_minor": 0
      },
      "text/plain": [
       "  0%|          | 0/5 [00:00<?, ?it/s]"
      ]
     },
     "metadata": {},
     "output_type": "display_data"
    },
    {
     "data": {
      "application/vnd.jupyter.widget-view+json": {
       "model_id": "f3ae839505184a6b9dc77f18dd2d5f2f",
       "version_major": 2,
       "version_minor": 0
      },
      "text/plain": [
       "  0%|          | 0/5 [00:00<?, ?it/s]"
      ]
     },
     "metadata": {},
     "output_type": "display_data"
    },
    {
     "data": {
      "application/vnd.jupyter.widget-view+json": {
       "model_id": "5294e264701240cbbfac5fe995006df0",
       "version_major": 2,
       "version_minor": 0
      },
      "text/plain": [
       "  0%|          | 0/32 [00:00<?, ?it/s]"
      ]
     },
     "metadata": {},
     "output_type": "display_data"
    },
    {
     "data": {
      "application/vnd.jupyter.widget-view+json": {
       "model_id": "9885250518cf4b0f9c6b587114099c42",
       "version_major": 2,
       "version_minor": 0
      },
      "text/plain": [
       "  0%|          | 0/18 [00:00<?, ?it/s]"
      ]
     },
     "metadata": {},
     "output_type": "display_data"
    },
    {
     "data": {
      "application/vnd.jupyter.widget-view+json": {
       "model_id": "e58509b11a58405f82054a07b7fd5a3b",
       "version_major": 2,
       "version_minor": 0
      },
      "text/plain": [
       "  0%|          | 0/8 [00:00<?, ?it/s]"
      ]
     },
     "metadata": {},
     "output_type": "display_data"
    },
    {
     "data": {
      "application/vnd.jupyter.widget-view+json": {
       "model_id": "73cb91e490bf430b93ef6bcd35c83556",
       "version_major": 2,
       "version_minor": 0
      },
      "text/plain": [
       "  0%|          | 0/29 [00:00<?, ?it/s]"
      ]
     },
     "metadata": {},
     "output_type": "display_data"
    },
    {
     "data": {
      "application/vnd.jupyter.widget-view+json": {
       "model_id": "66e3649083cb4e29bb3a0e1f75da3356",
       "version_major": 2,
       "version_minor": 0
      },
      "text/plain": [
       "  0%|          | 0/4 [00:00<?, ?it/s]"
      ]
     },
     "metadata": {},
     "output_type": "display_data"
    },
    {
     "data": {
      "application/vnd.jupyter.widget-view+json": {
       "model_id": "9fbea00997e54f9587118d4d787faea4",
       "version_major": 2,
       "version_minor": 0
      },
      "text/plain": [
       "  0%|          | 0/51 [00:00<?, ?it/s]"
      ]
     },
     "metadata": {},
     "output_type": "display_data"
    },
    {
     "data": {
      "application/vnd.jupyter.widget-view+json": {
       "model_id": "833d84f86fd54bb18587256621717144",
       "version_major": 2,
       "version_minor": 0
      },
      "text/plain": [
       "  0%|          | 0/35 [00:00<?, ?it/s]"
      ]
     },
     "metadata": {},
     "output_type": "display_data"
    },
    {
     "data": {
      "application/vnd.jupyter.widget-view+json": {
       "model_id": "1dc5e2b008154ec3b570ff585f132c6e",
       "version_major": 2,
       "version_minor": 0
      },
      "text/plain": [
       "  0%|          | 0/57 [00:00<?, ?it/s]"
      ]
     },
     "metadata": {},
     "output_type": "display_data"
    },
    {
     "data": {
      "application/vnd.jupyter.widget-view+json": {
       "model_id": "59b12424b2aa4d888d8eae2e914d6033",
       "version_major": 2,
       "version_minor": 0
      },
      "text/plain": [
       "  0%|          | 0/10 [00:00<?, ?it/s]"
      ]
     },
     "metadata": {},
     "output_type": "display_data"
    },
    {
     "data": {
      "application/vnd.jupyter.widget-view+json": {
       "model_id": "f380de3ff9014032af3c0849e6bb08a7",
       "version_major": 2,
       "version_minor": 0
      },
      "text/plain": [
       "  0%|          | 0/58 [00:00<?, ?it/s]"
      ]
     },
     "metadata": {},
     "output_type": "display_data"
    },
    {
     "data": {
      "application/vnd.jupyter.widget-view+json": {
       "model_id": "5bf6865fd38c438da4f10890eac71501",
       "version_major": 2,
       "version_minor": 0
      },
      "text/plain": [
       "  0%|          | 0/19 [00:00<?, ?it/s]"
      ]
     },
     "metadata": {},
     "output_type": "display_data"
    },
    {
     "data": {
      "application/vnd.jupyter.widget-view+json": {
       "model_id": "cb7acdf7760e45daba576d5541156f33",
       "version_major": 2,
       "version_minor": 0
      },
      "text/plain": [
       "  0%|          | 0/26 [00:00<?, ?it/s]"
      ]
     },
     "metadata": {},
     "output_type": "display_data"
    },
    {
     "data": {
      "application/vnd.jupyter.widget-view+json": {
       "model_id": "43c04a2f1d8c4c5e8a41c0998cdf3c95",
       "version_major": 2,
       "version_minor": 0
      },
      "text/plain": [
       "  0%|          | 0/12 [00:00<?, ?it/s]"
      ]
     },
     "metadata": {},
     "output_type": "display_data"
    },
    {
     "data": {
      "application/vnd.jupyter.widget-view+json": {
       "model_id": "f324627da0904545a579b8fb0ffc1f17",
       "version_major": 2,
       "version_minor": 0
      },
      "text/plain": [
       "  0%|          | 0/13 [00:00<?, ?it/s]"
      ]
     },
     "metadata": {},
     "output_type": "display_data"
    },
    {
     "data": {
      "application/vnd.jupyter.widget-view+json": {
       "model_id": "8ce24dbc863c4783982041e0503daed1",
       "version_major": 2,
       "version_minor": 0
      },
      "text/plain": [
       "  0%|          | 0/51 [00:00<?, ?it/s]"
      ]
     },
     "metadata": {},
     "output_type": "display_data"
    },
    {
     "data": {
      "application/vnd.jupyter.widget-view+json": {
       "model_id": "bdaf8e6e8d314da3b9d7162fba9f45c5",
       "version_major": 2,
       "version_minor": 0
      },
      "text/plain": [
       "  0%|          | 0/32 [00:00<?, ?it/s]"
      ]
     },
     "metadata": {},
     "output_type": "display_data"
    },
    {
     "data": {
      "application/vnd.jupyter.widget-view+json": {
       "model_id": "4262673cfae64db6b0c738fa1a51398a",
       "version_major": 2,
       "version_minor": 0
      },
      "text/plain": [
       "  0%|          | 0/6 [00:00<?, ?it/s]"
      ]
     },
     "metadata": {},
     "output_type": "display_data"
    },
    {
     "data": {
      "application/vnd.jupyter.widget-view+json": {
       "model_id": "3fb5de883c8c4080a1e47c78c8efadc0",
       "version_major": 2,
       "version_minor": 0
      },
      "text/plain": [
       "  0%|          | 0/42 [00:00<?, ?it/s]"
      ]
     },
     "metadata": {},
     "output_type": "display_data"
    },
    {
     "data": {
      "application/vnd.jupyter.widget-view+json": {
       "model_id": "521f133607a14e29bd80934b9a67495a",
       "version_major": 2,
       "version_minor": 0
      },
      "text/plain": [
       "  0%|          | 0/11 [00:00<?, ?it/s]"
      ]
     },
     "metadata": {},
     "output_type": "display_data"
    },
    {
     "data": {
      "application/vnd.jupyter.widget-view+json": {
       "model_id": "1d8e665d38324fa4af8497399dac1b60",
       "version_major": 2,
       "version_minor": 0
      },
      "text/plain": [
       "  0%|          | 0/19 [00:00<?, ?it/s]"
      ]
     },
     "metadata": {},
     "output_type": "display_data"
    },
    {
     "data": {
      "application/vnd.jupyter.widget-view+json": {
       "model_id": "18c64b2f31bc4049bb1cdc5ec54a74aa",
       "version_major": 2,
       "version_minor": 0
      },
      "text/plain": [
       "  0%|          | 0/8 [00:00<?, ?it/s]"
      ]
     },
     "metadata": {},
     "output_type": "display_data"
    },
    {
     "data": {
      "application/vnd.jupyter.widget-view+json": {
       "model_id": "62f5b460b5614ba9ab2ba059e323d93a",
       "version_major": 2,
       "version_minor": 0
      },
      "text/plain": [
       "  0%|          | 0/6 [00:00<?, ?it/s]"
      ]
     },
     "metadata": {},
     "output_type": "display_data"
    },
    {
     "data": {
      "application/vnd.jupyter.widget-view+json": {
       "model_id": "b0d15c8fe75949fe8bb8ba40a63b8672",
       "version_major": 2,
       "version_minor": 0
      },
      "text/plain": [
       "  0%|          | 0/18 [00:00<?, ?it/s]"
      ]
     },
     "metadata": {},
     "output_type": "display_data"
    },
    {
     "data": {
      "application/vnd.jupyter.widget-view+json": {
       "model_id": "772e8b3b2d6f42dfaf9c79acfc5e1c8e",
       "version_major": 2,
       "version_minor": 0
      },
      "text/plain": [
       "  0%|          | 0/10 [00:00<?, ?it/s]"
      ]
     },
     "metadata": {},
     "output_type": "display_data"
    },
    {
     "data": {
      "application/vnd.jupyter.widget-view+json": {
       "model_id": "1582f619a3dc46bd9d1f22aec3c4c7ba",
       "version_major": 2,
       "version_minor": 0
      },
      "text/plain": [
       "  0%|          | 0/13 [00:00<?, ?it/s]"
      ]
     },
     "metadata": {},
     "output_type": "display_data"
    },
    {
     "data": {
      "application/vnd.jupyter.widget-view+json": {
       "model_id": "7ab54922205b485ab445f3d6a3f5da71",
       "version_major": 2,
       "version_minor": 0
      },
      "text/plain": [
       "  0%|          | 0/14 [00:00<?, ?it/s]"
      ]
     },
     "metadata": {},
     "output_type": "display_data"
    },
    {
     "data": {
      "application/vnd.jupyter.widget-view+json": {
       "model_id": "64dd9c192ba1417f9de833207d4b6e95",
       "version_major": 2,
       "version_minor": 0
      },
      "text/plain": [
       "  0%|          | 0/8 [00:00<?, ?it/s]"
      ]
     },
     "metadata": {},
     "output_type": "display_data"
    },
    {
     "data": {
      "application/vnd.jupyter.widget-view+json": {
       "model_id": "34e8b71a77da43a58f9a71717d521d08",
       "version_major": 2,
       "version_minor": 0
      },
      "text/plain": [
       "  0%|          | 0/8 [00:00<?, ?it/s]"
      ]
     },
     "metadata": {},
     "output_type": "display_data"
    },
    {
     "data": {
      "application/vnd.jupyter.widget-view+json": {
       "model_id": "f50e3d0f2dc14ee1813ecfc1608e0675",
       "version_major": 2,
       "version_minor": 0
      },
      "text/plain": [
       "  0%|          | 0/6 [00:00<?, ?it/s]"
      ]
     },
     "metadata": {},
     "output_type": "display_data"
    },
    {
     "data": {
      "application/vnd.jupyter.widget-view+json": {
       "model_id": "0a649d4ef14045798861944470fa9bc7",
       "version_major": 2,
       "version_minor": 0
      },
      "text/plain": [
       "  0%|          | 0/11 [00:00<?, ?it/s]"
      ]
     },
     "metadata": {},
     "output_type": "display_data"
    },
    {
     "data": {
      "application/vnd.jupyter.widget-view+json": {
       "model_id": "dafd79eec2bf409c9a2aedb087701ad3",
       "version_major": 2,
       "version_minor": 0
      },
      "text/plain": [
       "  0%|          | 0/4 [00:00<?, ?it/s]"
      ]
     },
     "metadata": {},
     "output_type": "display_data"
    },
    {
     "data": {
      "application/vnd.jupyter.widget-view+json": {
       "model_id": "1c0aa8c1f95c413ca7fd5ed719f69586",
       "version_major": 2,
       "version_minor": 0
      },
      "text/plain": [
       "  0%|          | 0/7 [00:00<?, ?it/s]"
      ]
     },
     "metadata": {},
     "output_type": "display_data"
    },
    {
     "data": {
      "application/vnd.jupyter.widget-view+json": {
       "model_id": "6213a72008054e0aa03f34db283cfaf4",
       "version_major": 2,
       "version_minor": 0
      },
      "text/plain": [
       "  0%|          | 0/4 [00:00<?, ?it/s]"
      ]
     },
     "metadata": {},
     "output_type": "display_data"
    },
    {
     "data": {
      "application/vnd.jupyter.widget-view+json": {
       "model_id": "b90737e557bb46fda426bc246437823d",
       "version_major": 2,
       "version_minor": 0
      },
      "text/plain": [
       "  0%|          | 0/20 [00:00<?, ?it/s]"
      ]
     },
     "metadata": {},
     "output_type": "display_data"
    },
    {
     "data": {
      "application/vnd.jupyter.widget-view+json": {
       "model_id": "424fc048c1284a4fbb9da4cd883c4e0d",
       "version_major": 2,
       "version_minor": 0
      },
      "text/plain": [
       "  0%|          | 0/14 [00:00<?, ?it/s]"
      ]
     },
     "metadata": {},
     "output_type": "display_data"
    },
    {
     "data": {
      "application/vnd.jupyter.widget-view+json": {
       "model_id": "448a125669ef40f4a51feab23ecd38a3",
       "version_major": 2,
       "version_minor": 0
      },
      "text/plain": [
       "  0%|          | 0/19 [00:00<?, ?it/s]"
      ]
     },
     "metadata": {},
     "output_type": "display_data"
    },
    {
     "data": {
      "application/vnd.jupyter.widget-view+json": {
       "model_id": "244bff6178324f6e942bad6d665eb0cc",
       "version_major": 2,
       "version_minor": 0
      },
      "text/plain": [
       "  0%|          | 0/13 [00:00<?, ?it/s]"
      ]
     },
     "metadata": {},
     "output_type": "display_data"
    },
    {
     "data": {
      "application/vnd.jupyter.widget-view+json": {
       "model_id": "912da6886df346a391e3d243b9980989",
       "version_major": 2,
       "version_minor": 0
      },
      "text/plain": [
       "  0%|          | 0/13 [00:00<?, ?it/s]"
      ]
     },
     "metadata": {},
     "output_type": "display_data"
    },
    {
     "data": {
      "application/vnd.jupyter.widget-view+json": {
       "model_id": "c15c18fada2f48af82c40d42778839a8",
       "version_major": 2,
       "version_minor": 0
      },
      "text/plain": [
       "  0%|          | 0/7 [00:00<?, ?it/s]"
      ]
     },
     "metadata": {},
     "output_type": "display_data"
    },
    {
     "data": {
      "application/vnd.jupyter.widget-view+json": {
       "model_id": "df6325bb31564dff8318215d29c18100",
       "version_major": 2,
       "version_minor": 0
      },
      "text/plain": [
       "  0%|          | 0/13 [00:00<?, ?it/s]"
      ]
     },
     "metadata": {},
     "output_type": "display_data"
    },
    {
     "data": {
      "application/vnd.jupyter.widget-view+json": {
       "model_id": "13d2a066959c469d828bcc6eaf76eb6f",
       "version_major": 2,
       "version_minor": 0
      },
      "text/plain": [
       "  0%|          | 0/10 [00:00<?, ?it/s]"
      ]
     },
     "metadata": {},
     "output_type": "display_data"
    },
    {
     "data": {
      "application/vnd.jupyter.widget-view+json": {
       "model_id": "d5c45348fe084721bf5c88c2f1f4bbe1",
       "version_major": 2,
       "version_minor": 0
      },
      "text/plain": [
       "  0%|          | 0/11 [00:00<?, ?it/s]"
      ]
     },
     "metadata": {},
     "output_type": "display_data"
    },
    {
     "data": {
      "application/vnd.jupyter.widget-view+json": {
       "model_id": "534361fe2843428fb5be7444c4b3affe",
       "version_major": 2,
       "version_minor": 0
      },
      "text/plain": [
       "  0%|          | 0/5 [00:00<?, ?it/s]"
      ]
     },
     "metadata": {},
     "output_type": "display_data"
    },
    {
     "data": {
      "application/vnd.jupyter.widget-view+json": {
       "model_id": "69005e4bd3a0468da6ff18f631f4feda",
       "version_major": 2,
       "version_minor": 0
      },
      "text/plain": [
       "  0%|          | 0/20 [00:00<?, ?it/s]"
      ]
     },
     "metadata": {},
     "output_type": "display_data"
    },
    {
     "data": {
      "application/vnd.jupyter.widget-view+json": {
       "model_id": "a53c4d9d6d5d4bf092c0ca21ef767919",
       "version_major": 2,
       "version_minor": 0
      },
      "text/plain": [
       "  0%|          | 0/5 [00:00<?, ?it/s]"
      ]
     },
     "metadata": {},
     "output_type": "display_data"
    },
    {
     "data": {
      "application/vnd.jupyter.widget-view+json": {
       "model_id": "66e66c6c75084865b13ebc79523c339f",
       "version_major": 2,
       "version_minor": 0
      },
      "text/plain": [
       "  0%|          | 0/14 [00:00<?, ?it/s]"
      ]
     },
     "metadata": {},
     "output_type": "display_data"
    },
    {
     "data": {
      "application/vnd.jupyter.widget-view+json": {
       "model_id": "2c610940bb384443adba2eb3b620a30e",
       "version_major": 2,
       "version_minor": 0
      },
      "text/plain": [
       "  0%|          | 0/2 [00:00<?, ?it/s]"
      ]
     },
     "metadata": {},
     "output_type": "display_data"
    },
    {
     "data": {
      "application/vnd.jupyter.widget-view+json": {
       "model_id": "4d2455f56267411ba4b853c01331dc2f",
       "version_major": 2,
       "version_minor": 0
      },
      "text/plain": [
       "  0%|          | 0/2 [00:00<?, ?it/s]"
      ]
     },
     "metadata": {},
     "output_type": "display_data"
    },
    {
     "data": {
      "application/vnd.jupyter.widget-view+json": {
       "model_id": "36241356c6cb4bc58fd0d988b1659805",
       "version_major": 2,
       "version_minor": 0
      },
      "text/plain": [
       "  0%|          | 0/17 [00:00<?, ?it/s]"
      ]
     },
     "metadata": {},
     "output_type": "display_data"
    },
    {
     "data": {
      "application/vnd.jupyter.widget-view+json": {
       "model_id": "2ab5767350294563b38eba2e8b051efa",
       "version_major": 2,
       "version_minor": 0
      },
      "text/plain": [
       "  0%|          | 0/5 [00:00<?, ?it/s]"
      ]
     },
     "metadata": {},
     "output_type": "display_data"
    },
    {
     "data": {
      "application/vnd.jupyter.widget-view+json": {
       "model_id": "d96a876885f047828717ba3e6aa6825d",
       "version_major": 2,
       "version_minor": 0
      },
      "text/plain": [
       "  0%|          | 0/13 [00:00<?, ?it/s]"
      ]
     },
     "metadata": {},
     "output_type": "display_data"
    },
    {
     "data": {
      "application/vnd.jupyter.widget-view+json": {
       "model_id": "1b6cbe969a3b403dacc5bbda6c6bfed0",
       "version_major": 2,
       "version_minor": 0
      },
      "text/plain": [
       "  0%|          | 0/3 [00:00<?, ?it/s]"
      ]
     },
     "metadata": {},
     "output_type": "display_data"
    },
    {
     "data": {
      "application/vnd.jupyter.widget-view+json": {
       "model_id": "6e81285caf1b4f23b7fe06b2df3f50f9",
       "version_major": 2,
       "version_minor": 0
      },
      "text/plain": [
       "  0%|          | 0/15 [00:00<?, ?it/s]"
      ]
     },
     "metadata": {},
     "output_type": "display_data"
    },
    {
     "data": {
      "application/vnd.jupyter.widget-view+json": {
       "model_id": "2ffe418a1de2457dbe82adc1b138f35d",
       "version_major": 2,
       "version_minor": 0
      },
      "text/plain": [
       "  0%|          | 0/24 [00:00<?, ?it/s]"
      ]
     },
     "metadata": {},
     "output_type": "display_data"
    },
    {
     "data": {
      "application/vnd.jupyter.widget-view+json": {
       "model_id": "94ad104208274d60a40e4228944282b5",
       "version_major": 2,
       "version_minor": 0
      },
      "text/plain": [
       "  0%|          | 0/42 [00:00<?, ?it/s]"
      ]
     },
     "metadata": {},
     "output_type": "display_data"
    },
    {
     "data": {
      "application/vnd.jupyter.widget-view+json": {
       "model_id": "3a7a1caf50b04f32a81d6f8bef1fd07e",
       "version_major": 2,
       "version_minor": 0
      },
      "text/plain": [
       "  0%|          | 0/5 [00:00<?, ?it/s]"
      ]
     },
     "metadata": {},
     "output_type": "display_data"
    },
    {
     "data": {
      "application/vnd.jupyter.widget-view+json": {
       "model_id": "089251e0a2294de694fb8e47db7f4a0a",
       "version_major": 2,
       "version_minor": 0
      },
      "text/plain": [
       "  0%|          | 0/5 [00:00<?, ?it/s]"
      ]
     },
     "metadata": {},
     "output_type": "display_data"
    },
    {
     "data": {
      "application/vnd.jupyter.widget-view+json": {
       "model_id": "71b991a80008467f8ab01b7dbda423c7",
       "version_major": 2,
       "version_minor": 0
      },
      "text/plain": [
       "  0%|          | 0/18 [00:00<?, ?it/s]"
      ]
     },
     "metadata": {},
     "output_type": "display_data"
    },
    {
     "data": {
      "application/vnd.jupyter.widget-view+json": {
       "model_id": "2dfc99362a8c43eba614de6024cbdc59",
       "version_major": 2,
       "version_minor": 0
      },
      "text/plain": [
       "  0%|          | 0/38 [00:00<?, ?it/s]"
      ]
     },
     "metadata": {},
     "output_type": "display_data"
    },
    {
     "data": {
      "application/vnd.jupyter.widget-view+json": {
       "model_id": "4ecf99a2832842f8a44ffe5ce035eb74",
       "version_major": 2,
       "version_minor": 0
      },
      "text/plain": [
       "  0%|          | 0/2 [00:00<?, ?it/s]"
      ]
     },
     "metadata": {},
     "output_type": "display_data"
    },
    {
     "data": {
      "application/vnd.jupyter.widget-view+json": {
       "model_id": "1614a581ea6b45e4809a813692b7fb02",
       "version_major": 2,
       "version_minor": 0
      },
      "text/plain": [
       "  0%|          | 0/11 [00:00<?, ?it/s]"
      ]
     },
     "metadata": {},
     "output_type": "display_data"
    },
    {
     "data": {
      "application/vnd.jupyter.widget-view+json": {
       "model_id": "e47d6335dd7b466491616a2b1d8c51e4",
       "version_major": 2,
       "version_minor": 0
      },
      "text/plain": [
       "  0%|          | 0/8 [00:00<?, ?it/s]"
      ]
     },
     "metadata": {},
     "output_type": "display_data"
    },
    {
     "data": {
      "application/vnd.jupyter.widget-view+json": {
       "model_id": "bcb3f2f1cf1047668229aa3c7a4d1fe0",
       "version_major": 2,
       "version_minor": 0
      },
      "text/plain": [
       "  0%|          | 0/12 [00:00<?, ?it/s]"
      ]
     },
     "metadata": {},
     "output_type": "display_data"
    },
    {
     "data": {
      "application/vnd.jupyter.widget-view+json": {
       "model_id": "cc4a2ad5ecc6448886ce3bf31fa4338e",
       "version_major": 2,
       "version_minor": 0
      },
      "text/plain": [
       "  0%|          | 0/28 [00:00<?, ?it/s]"
      ]
     },
     "metadata": {},
     "output_type": "display_data"
    },
    {
     "data": {
      "application/vnd.jupyter.widget-view+json": {
       "model_id": "c6ca46021d734b30b1dd1b766a196337",
       "version_major": 2,
       "version_minor": 0
      },
      "text/plain": [
       "  0%|          | 0/16 [00:00<?, ?it/s]"
      ]
     },
     "metadata": {},
     "output_type": "display_data"
    },
    {
     "data": {
      "application/vnd.jupyter.widget-view+json": {
       "model_id": "e4efc0fe2d26402b9fe8f45070b45646",
       "version_major": 2,
       "version_minor": 0
      },
      "text/plain": [
       "  0%|          | 0/40 [00:00<?, ?it/s]"
      ]
     },
     "metadata": {},
     "output_type": "display_data"
    },
    {
     "data": {
      "application/vnd.jupyter.widget-view+json": {
       "model_id": "aea2d7cb802b4f41b9ef6e59ec3ca3fd",
       "version_major": 2,
       "version_minor": 0
      },
      "text/plain": [
       "  0%|          | 0/11 [00:00<?, ?it/s]"
      ]
     },
     "metadata": {},
     "output_type": "display_data"
    },
    {
     "data": {
      "application/vnd.jupyter.widget-view+json": {
       "model_id": "08a3d11bd2ba406f86d86d86b06b9788",
       "version_major": 2,
       "version_minor": 0
      },
      "text/plain": [
       "  0%|          | 0/11 [00:00<?, ?it/s]"
      ]
     },
     "metadata": {},
     "output_type": "display_data"
    },
    {
     "data": {
      "application/vnd.jupyter.widget-view+json": {
       "model_id": "66d9255a981f47bcacabef2a244a9a1b",
       "version_major": 2,
       "version_minor": 0
      },
      "text/plain": [
       "  0%|          | 0/21 [00:00<?, ?it/s]"
      ]
     },
     "metadata": {},
     "output_type": "display_data"
    },
    {
     "data": {
      "application/vnd.jupyter.widget-view+json": {
       "model_id": "dcb8939267de44a8b7d5d116168a7c5b",
       "version_major": 2,
       "version_minor": 0
      },
      "text/plain": [
       "  0%|          | 0/3 [00:00<?, ?it/s]"
      ]
     },
     "metadata": {},
     "output_type": "display_data"
    },
    {
     "data": {
      "application/vnd.jupyter.widget-view+json": {
       "model_id": "6bc5236dc5cf400a8f2141b96cf56ae6",
       "version_major": 2,
       "version_minor": 0
      },
      "text/plain": [
       "  0%|          | 0/3 [00:00<?, ?it/s]"
      ]
     },
     "metadata": {},
     "output_type": "display_data"
    },
    {
     "data": {
      "application/vnd.jupyter.widget-view+json": {
       "model_id": "6db265939e234946bcac90d911a6e198",
       "version_major": 2,
       "version_minor": 0
      },
      "text/plain": [
       "  0%|          | 0/5 [00:00<?, ?it/s]"
      ]
     },
     "metadata": {},
     "output_type": "display_data"
    },
    {
     "data": {
      "application/vnd.jupyter.widget-view+json": {
       "model_id": "94c9e7ae564b4004a74784d2e28ab224",
       "version_major": 2,
       "version_minor": 0
      },
      "text/plain": [
       "  0%|          | 0/16 [00:00<?, ?it/s]"
      ]
     },
     "metadata": {},
     "output_type": "display_data"
    },
    {
     "data": {
      "application/vnd.jupyter.widget-view+json": {
       "model_id": "8a5723fbe4a14922ac69135e68a2d373",
       "version_major": 2,
       "version_minor": 0
      },
      "text/plain": [
       "  0%|          | 0/7 [00:00<?, ?it/s]"
      ]
     },
     "metadata": {},
     "output_type": "display_data"
    },
    {
     "data": {
      "application/vnd.jupyter.widget-view+json": {
       "model_id": "3e0a2e94f8d14fdfbc5c07bc583c6c4f",
       "version_major": 2,
       "version_minor": 0
      },
      "text/plain": [
       "  0%|          | 0/3 [00:00<?, ?it/s]"
      ]
     },
     "metadata": {},
     "output_type": "display_data"
    },
    {
     "data": {
      "application/vnd.jupyter.widget-view+json": {
       "model_id": "f143520fc8fb497399c90bb374400c62",
       "version_major": 2,
       "version_minor": 0
      },
      "text/plain": [
       "  0%|          | 0/3 [00:00<?, ?it/s]"
      ]
     },
     "metadata": {},
     "output_type": "display_data"
    },
    {
     "data": {
      "application/vnd.jupyter.widget-view+json": {
       "model_id": "668cb66605834b428f1bf2229d0e3d56",
       "version_major": 2,
       "version_minor": 0
      },
      "text/plain": [
       "  0%|          | 0/10 [00:00<?, ?it/s]"
      ]
     },
     "metadata": {},
     "output_type": "display_data"
    },
    {
     "data": {
      "application/vnd.jupyter.widget-view+json": {
       "model_id": "c7cc58e4fff14c53a23791b26c438124",
       "version_major": 2,
       "version_minor": 0
      },
      "text/plain": [
       "  0%|          | 0/7 [00:00<?, ?it/s]"
      ]
     },
     "metadata": {},
     "output_type": "display_data"
    },
    {
     "data": {
      "application/vnd.jupyter.widget-view+json": {
       "model_id": "0de1ddfc241d417ca773db4be60407b0",
       "version_major": 2,
       "version_minor": 0
      },
      "text/plain": [
       "  0%|          | 0/14 [00:00<?, ?it/s]"
      ]
     },
     "metadata": {},
     "output_type": "display_data"
    },
    {
     "data": {
      "application/vnd.jupyter.widget-view+json": {
       "model_id": "98a0426815ba4e59a712b080853e03ef",
       "version_major": 2,
       "version_minor": 0
      },
      "text/plain": [
       "  0%|          | 0/8 [00:00<?, ?it/s]"
      ]
     },
     "metadata": {},
     "output_type": "display_data"
    },
    {
     "data": {
      "application/vnd.jupyter.widget-view+json": {
       "model_id": "507c44817a5d45918fcd427a31171ecc",
       "version_major": 2,
       "version_minor": 0
      },
      "text/plain": [
       "  0%|          | 0/6 [00:00<?, ?it/s]"
      ]
     },
     "metadata": {},
     "output_type": "display_data"
    },
    {
     "data": {
      "application/vnd.jupyter.widget-view+json": {
       "model_id": "a312cbf2a61b4ebab05a32bd2b159d29",
       "version_major": 2,
       "version_minor": 0
      },
      "text/plain": [
       "  0%|          | 0/8 [00:00<?, ?it/s]"
      ]
     },
     "metadata": {},
     "output_type": "display_data"
    },
    {
     "data": {
      "application/vnd.jupyter.widget-view+json": {
       "model_id": "9ab2f23455484cc1a4f0d3b688158bff",
       "version_major": 2,
       "version_minor": 0
      },
      "text/plain": [
       "  0%|          | 0/14 [00:00<?, ?it/s]"
      ]
     },
     "metadata": {},
     "output_type": "display_data"
    },
    {
     "data": {
      "application/vnd.jupyter.widget-view+json": {
       "model_id": "3702ec31b4b14f10a42a48fbc60f040c",
       "version_major": 2,
       "version_minor": 0
      },
      "text/plain": [
       "  0%|          | 0/16 [00:00<?, ?it/s]"
      ]
     },
     "metadata": {},
     "output_type": "display_data"
    },
    {
     "data": {
      "application/vnd.jupyter.widget-view+json": {
       "model_id": "9c927d8293e44f77a338b871c4ce1698",
       "version_major": 2,
       "version_minor": 0
      },
      "text/plain": [
       "  0%|          | 0/6 [00:00<?, ?it/s]"
      ]
     },
     "metadata": {},
     "output_type": "display_data"
    },
    {
     "data": {
      "application/vnd.jupyter.widget-view+json": {
       "model_id": "ad61288caf6a485d9a42a999f8bf0a3a",
       "version_major": 2,
       "version_minor": 0
      },
      "text/plain": [
       "  0%|          | 0/15 [00:00<?, ?it/s]"
      ]
     },
     "metadata": {},
     "output_type": "display_data"
    },
    {
     "data": {
      "application/vnd.jupyter.widget-view+json": {
       "model_id": "e6eeb4d36877435a9c293aeb0968e72b",
       "version_major": 2,
       "version_minor": 0
      },
      "text/plain": [
       "  0%|          | 0/10 [00:00<?, ?it/s]"
      ]
     },
     "metadata": {},
     "output_type": "display_data"
    },
    {
     "data": {
      "application/vnd.jupyter.widget-view+json": {
       "model_id": "182027fd0d9642a3826ee22d56dba474",
       "version_major": 2,
       "version_minor": 0
      },
      "text/plain": [
       "  0%|          | 0/31 [00:00<?, ?it/s]"
      ]
     },
     "metadata": {},
     "output_type": "display_data"
    },
    {
     "data": {
      "application/vnd.jupyter.widget-view+json": {
       "model_id": "062b5cd57abe4fe7ba05b3690c76318c",
       "version_major": 2,
       "version_minor": 0
      },
      "text/plain": [
       "  0%|          | 0/21 [00:00<?, ?it/s]"
      ]
     },
     "metadata": {},
     "output_type": "display_data"
    },
    {
     "data": {
      "application/vnd.jupyter.widget-view+json": {
       "model_id": "88252ee3589a493d8ea4886a234f88d8",
       "version_major": 2,
       "version_minor": 0
      },
      "text/plain": [
       "  0%|          | 0/16 [00:00<?, ?it/s]"
      ]
     },
     "metadata": {},
     "output_type": "display_data"
    },
    {
     "data": {
      "application/vnd.jupyter.widget-view+json": {
       "model_id": "6c70f864ebe74efe90f5f2f1399fa664",
       "version_major": 2,
       "version_minor": 0
      },
      "text/plain": [
       "  0%|          | 0/24 [00:00<?, ?it/s]"
      ]
     },
     "metadata": {},
     "output_type": "display_data"
    },
    {
     "data": {
      "application/vnd.jupyter.widget-view+json": {
       "model_id": "095f054728da4194ae114f4c03b48d0c",
       "version_major": 2,
       "version_minor": 0
      },
      "text/plain": [
       "  0%|          | 0/30 [00:00<?, ?it/s]"
      ]
     },
     "metadata": {},
     "output_type": "display_data"
    },
    {
     "data": {
      "application/vnd.jupyter.widget-view+json": {
       "model_id": "ff49f02f7ccf423db0c5fd17118c1730",
       "version_major": 2,
       "version_minor": 0
      },
      "text/plain": [
       "  0%|          | 0/23 [00:00<?, ?it/s]"
      ]
     },
     "metadata": {},
     "output_type": "display_data"
    },
    {
     "data": {
      "application/vnd.jupyter.widget-view+json": {
       "model_id": "a17477a899094ff5af88614c1c2836fa",
       "version_major": 2,
       "version_minor": 0
      },
      "text/plain": [
       "  0%|          | 0/12 [00:00<?, ?it/s]"
      ]
     },
     "metadata": {},
     "output_type": "display_data"
    },
    {
     "data": {
      "application/vnd.jupyter.widget-view+json": {
       "model_id": "2897aafd3791460dbcd3dc3b02a9431d",
       "version_major": 2,
       "version_minor": 0
      },
      "text/plain": [
       "  0%|          | 0/6 [00:00<?, ?it/s]"
      ]
     },
     "metadata": {},
     "output_type": "display_data"
    },
    {
     "data": {
      "application/vnd.jupyter.widget-view+json": {
       "model_id": "3a47777c36cb47c9a40cf08f061f7eab",
       "version_major": 2,
       "version_minor": 0
      },
      "text/plain": [
       "  0%|          | 0/15 [00:00<?, ?it/s]"
      ]
     },
     "metadata": {},
     "output_type": "display_data"
    },
    {
     "data": {
      "application/vnd.jupyter.widget-view+json": {
       "model_id": "873e18cde0bf4ae299cfa8b1fbd4e5a3",
       "version_major": 2,
       "version_minor": 0
      },
      "text/plain": [
       "  0%|          | 0/19 [00:00<?, ?it/s]"
      ]
     },
     "metadata": {},
     "output_type": "display_data"
    },
    {
     "data": {
      "application/vnd.jupyter.widget-view+json": {
       "model_id": "8cd85b14aa634f91903f13da5a6366c8",
       "version_major": 2,
       "version_minor": 0
      },
      "text/plain": [
       "  0%|          | 0/16 [00:00<?, ?it/s]"
      ]
     },
     "metadata": {},
     "output_type": "display_data"
    },
    {
     "data": {
      "application/vnd.jupyter.widget-view+json": {
       "model_id": "4c7e9c941f1746b3ad538ae6a699f7b4",
       "version_major": 2,
       "version_minor": 0
      },
      "text/plain": [
       "  0%|          | 0/158 [00:00<?, ?it/s]"
      ]
     },
     "metadata": {},
     "output_type": "display_data"
    },
    {
     "data": {
      "application/vnd.jupyter.widget-view+json": {
       "model_id": "b9850d458151488ea7cd97ecf61c9627",
       "version_major": 2,
       "version_minor": 0
      },
      "text/plain": [
       "  0%|          | 0/13 [00:00<?, ?it/s]"
      ]
     },
     "metadata": {},
     "output_type": "display_data"
    },
    {
     "data": {
      "application/vnd.jupyter.widget-view+json": {
       "model_id": "3486c525c5094c648ae662f080357219",
       "version_major": 2,
       "version_minor": 0
      },
      "text/plain": [
       "  0%|          | 0/23 [00:00<?, ?it/s]"
      ]
     },
     "metadata": {},
     "output_type": "display_data"
    },
    {
     "data": {
      "application/vnd.jupyter.widget-view+json": {
       "model_id": "29dae7fdf2f94488bb53b4cbf39361ce",
       "version_major": 2,
       "version_minor": 0
      },
      "text/plain": [
       "  0%|          | 0/16 [00:00<?, ?it/s]"
      ]
     },
     "metadata": {},
     "output_type": "display_data"
    },
    {
     "data": {
      "application/vnd.jupyter.widget-view+json": {
       "model_id": "fa327b3755284391bda8141c09662f41",
       "version_major": 2,
       "version_minor": 0
      },
      "text/plain": [
       "  0%|          | 0/21 [00:00<?, ?it/s]"
      ]
     },
     "metadata": {},
     "output_type": "display_data"
    },
    {
     "data": {
      "application/vnd.jupyter.widget-view+json": {
       "model_id": "193fe5eb4e7b499e8f46e00ca3e281ce",
       "version_major": 2,
       "version_minor": 0
      },
      "text/plain": [
       "  0%|          | 0/25 [00:00<?, ?it/s]"
      ]
     },
     "metadata": {},
     "output_type": "display_data"
    },
    {
     "data": {
      "application/vnd.jupyter.widget-view+json": {
       "model_id": "70dda1b2a3074dce91c757abbc9457eb",
       "version_major": 2,
       "version_minor": 0
      },
      "text/plain": [
       "  0%|          | 0/15 [00:00<?, ?it/s]"
      ]
     },
     "metadata": {},
     "output_type": "display_data"
    },
    {
     "data": {
      "application/vnd.jupyter.widget-view+json": {
       "model_id": "5c18ed4537e6474a864de97d555a35f5",
       "version_major": 2,
       "version_minor": 0
      },
      "text/plain": [
       "  0%|          | 0/13 [00:00<?, ?it/s]"
      ]
     },
     "metadata": {},
     "output_type": "display_data"
    },
    {
     "data": {
      "application/vnd.jupyter.widget-view+json": {
       "model_id": "fc9a09f9aff5496aadeeecb215b21b4d",
       "version_major": 2,
       "version_minor": 0
      },
      "text/plain": [
       "  0%|          | 0/38 [00:00<?, ?it/s]"
      ]
     },
     "metadata": {},
     "output_type": "display_data"
    },
    {
     "data": {
      "application/vnd.jupyter.widget-view+json": {
       "model_id": "a317961422a74978a6ecfcbb95736bc5",
       "version_major": 2,
       "version_minor": 0
      },
      "text/plain": [
       "  0%|          | 0/21 [00:00<?, ?it/s]"
      ]
     },
     "metadata": {},
     "output_type": "display_data"
    },
    {
     "data": {
      "application/vnd.jupyter.widget-view+json": {
       "model_id": "e9e04cfafefb4860acc3dfc363456bd5",
       "version_major": 2,
       "version_minor": 0
      },
      "text/plain": [
       "  0%|          | 0/132 [00:00<?, ?it/s]"
      ]
     },
     "metadata": {},
     "output_type": "display_data"
    },
    {
     "data": {
      "application/vnd.jupyter.widget-view+json": {
       "model_id": "d331a7d0e7ec4483bbb301763e4b9aa9",
       "version_major": 2,
       "version_minor": 0
      },
      "text/plain": [
       "  0%|          | 0/12 [00:00<?, ?it/s]"
      ]
     },
     "metadata": {},
     "output_type": "display_data"
    },
    {
     "data": {
      "application/vnd.jupyter.widget-view+json": {
       "model_id": "627786c6d22b4227b22b7be38cfbe1b1",
       "version_major": 2,
       "version_minor": 0
      },
      "text/plain": [
       "  0%|          | 0/11 [00:00<?, ?it/s]"
      ]
     },
     "metadata": {},
     "output_type": "display_data"
    },
    {
     "data": {
      "application/vnd.jupyter.widget-view+json": {
       "model_id": "44d4de107fa2433fb7219a5c37603d3f",
       "version_major": 2,
       "version_minor": 0
      },
      "text/plain": [
       "  0%|          | 0/12 [00:00<?, ?it/s]"
      ]
     },
     "metadata": {},
     "output_type": "display_data"
    },
    {
     "data": {
      "application/vnd.jupyter.widget-view+json": {
       "model_id": "a8a41c8c52394a518438245b83f9868e",
       "version_major": 2,
       "version_minor": 0
      },
      "text/plain": [
       "  0%|          | 0/15 [00:00<?, ?it/s]"
      ]
     },
     "metadata": {},
     "output_type": "display_data"
    },
    {
     "data": {
      "application/vnd.jupyter.widget-view+json": {
       "model_id": "9359d24111c14f399af570c9b5be1d0c",
       "version_major": 2,
       "version_minor": 0
      },
      "text/plain": [
       "  0%|          | 0/16 [00:00<?, ?it/s]"
      ]
     },
     "metadata": {},
     "output_type": "display_data"
    },
    {
     "data": {
      "application/vnd.jupyter.widget-view+json": {
       "model_id": "c0011dc7def74b07bc28689cb28038c3",
       "version_major": 2,
       "version_minor": 0
      },
      "text/plain": [
       "  0%|          | 0/20 [00:00<?, ?it/s]"
      ]
     },
     "metadata": {},
     "output_type": "display_data"
    },
    {
     "data": {
      "application/vnd.jupyter.widget-view+json": {
       "model_id": "496da3d776f24c2f8a03aacea3bcc0a1",
       "version_major": 2,
       "version_minor": 0
      },
      "text/plain": [
       "  0%|          | 0/20 [00:00<?, ?it/s]"
      ]
     },
     "metadata": {},
     "output_type": "display_data"
    },
    {
     "data": {
      "application/vnd.jupyter.widget-view+json": {
       "model_id": "d7bace8000d64b0aa3eeaf37b47142ee",
       "version_major": 2,
       "version_minor": 0
      },
      "text/plain": [
       "  0%|          | 0/10 [00:00<?, ?it/s]"
      ]
     },
     "metadata": {},
     "output_type": "display_data"
    },
    {
     "data": {
      "application/vnd.jupyter.widget-view+json": {
       "model_id": "856822a4c49046c899907184039b7f0f",
       "version_major": 2,
       "version_minor": 0
      },
      "text/plain": [
       "  0%|          | 0/38 [00:00<?, ?it/s]"
      ]
     },
     "metadata": {},
     "output_type": "display_data"
    },
    {
     "data": {
      "application/vnd.jupyter.widget-view+json": {
       "model_id": "e4120dfecb8545b2beea987b19d5a41b",
       "version_major": 2,
       "version_minor": 0
      },
      "text/plain": [
       "  0%|          | 0/53 [00:00<?, ?it/s]"
      ]
     },
     "metadata": {},
     "output_type": "display_data"
    },
    {
     "data": {
      "application/vnd.jupyter.widget-view+json": {
       "model_id": "a7f62a24d6404f3482296399b87e78c9",
       "version_major": 2,
       "version_minor": 0
      },
      "text/plain": [
       "  0%|          | 0/36 [00:00<?, ?it/s]"
      ]
     },
     "metadata": {},
     "output_type": "display_data"
    },
    {
     "data": {
      "application/vnd.jupyter.widget-view+json": {
       "model_id": "a374eea49b424da580eab089f106e522",
       "version_major": 2,
       "version_minor": 0
      },
      "text/plain": [
       "  0%|          | 0/66 [00:00<?, ?it/s]"
      ]
     },
     "metadata": {},
     "output_type": "display_data"
    },
    {
     "data": {
      "application/vnd.jupyter.widget-view+json": {
       "model_id": "6603318ff1bf46ccbf9ad4d5cb3d6275",
       "version_major": 2,
       "version_minor": 0
      },
      "text/plain": [
       "  0%|          | 0/16 [00:00<?, ?it/s]"
      ]
     },
     "metadata": {},
     "output_type": "display_data"
    },
    {
     "data": {
      "application/vnd.jupyter.widget-view+json": {
       "model_id": "657da309194242e4a5c2474922c0074d",
       "version_major": 2,
       "version_minor": 0
      },
      "text/plain": [
       "  0%|          | 0/22 [00:00<?, ?it/s]"
      ]
     },
     "metadata": {},
     "output_type": "display_data"
    },
    {
     "data": {
      "application/vnd.jupyter.widget-view+json": {
       "model_id": "aaf5deec264f4739b28ec8f3a286b30c",
       "version_major": 2,
       "version_minor": 0
      },
      "text/plain": [
       "  0%|          | 0/8 [00:00<?, ?it/s]"
      ]
     },
     "metadata": {},
     "output_type": "display_data"
    },
    {
     "data": {
      "application/vnd.jupyter.widget-view+json": {
       "model_id": "c128891d28184a7aabca2e4b4d0416d9",
       "version_major": 2,
       "version_minor": 0
      },
      "text/plain": [
       "  0%|          | 0/11 [00:00<?, ?it/s]"
      ]
     },
     "metadata": {},
     "output_type": "display_data"
    },
    {
     "data": {
      "application/vnd.jupyter.widget-view+json": {
       "model_id": "28c42b65c3d0463cb60aca5eaca683b9",
       "version_major": 2,
       "version_minor": 0
      },
      "text/plain": [
       "  0%|          | 0/26 [00:00<?, ?it/s]"
      ]
     },
     "metadata": {},
     "output_type": "display_data"
    },
    {
     "data": {
      "application/vnd.jupyter.widget-view+json": {
       "model_id": "2381aa399162432fa5b741d47f200503",
       "version_major": 2,
       "version_minor": 0
      },
      "text/plain": [
       "  0%|          | 0/13 [00:00<?, ?it/s]"
      ]
     },
     "metadata": {},
     "output_type": "display_data"
    },
    {
     "data": {
      "application/vnd.jupyter.widget-view+json": {
       "model_id": "55a2d799cae640fc94a385d255d6b4e2",
       "version_major": 2,
       "version_minor": 0
      },
      "text/plain": [
       "  0%|          | 0/76 [00:00<?, ?it/s]"
      ]
     },
     "metadata": {},
     "output_type": "display_data"
    },
    {
     "data": {
      "application/vnd.jupyter.widget-view+json": {
       "model_id": "a0bc8429a69f4eaeb8e16ab2b5d98586",
       "version_major": 2,
       "version_minor": 0
      },
      "text/plain": [
       "  0%|          | 0/10 [00:00<?, ?it/s]"
      ]
     },
     "metadata": {},
     "output_type": "display_data"
    },
    {
     "data": {
      "application/vnd.jupyter.widget-view+json": {
       "model_id": "f305839823e54ebb9fae64a323f5b398",
       "version_major": 2,
       "version_minor": 0
      },
      "text/plain": [
       "  0%|          | 0/9 [00:00<?, ?it/s]"
      ]
     },
     "metadata": {},
     "output_type": "display_data"
    },
    {
     "data": {
      "application/vnd.jupyter.widget-view+json": {
       "model_id": "b0e9fce7c97e4a55b00f75ddb6a6d297",
       "version_major": 2,
       "version_minor": 0
      },
      "text/plain": [
       "  0%|          | 0/10 [00:00<?, ?it/s]"
      ]
     },
     "metadata": {},
     "output_type": "display_data"
    },
    {
     "data": {
      "application/vnd.jupyter.widget-view+json": {
       "model_id": "5a7981cab69140139d470f10c912ccd0",
       "version_major": 2,
       "version_minor": 0
      },
      "text/plain": [
       "  0%|          | 0/45 [00:00<?, ?it/s]"
      ]
     },
     "metadata": {},
     "output_type": "display_data"
    },
    {
     "data": {
      "application/vnd.jupyter.widget-view+json": {
       "model_id": "e0a02234676e4c48b5a97194becd6d4c",
       "version_major": 2,
       "version_minor": 0
      },
      "text/plain": [
       "  0%|          | 0/43 [00:00<?, ?it/s]"
      ]
     },
     "metadata": {},
     "output_type": "display_data"
    },
    {
     "data": {
      "application/vnd.jupyter.widget-view+json": {
       "model_id": "28e185f05c6f4c4b9641d634e4522dc7",
       "version_major": 2,
       "version_minor": 0
      },
      "text/plain": [
       "  0%|          | 0/114 [00:00<?, ?it/s]"
      ]
     },
     "metadata": {},
     "output_type": "display_data"
    },
    {
     "data": {
      "application/vnd.jupyter.widget-view+json": {
       "model_id": "064eb34601314cf981b6471c75eec0b9",
       "version_major": 2,
       "version_minor": 0
      },
      "text/plain": [
       "  0%|          | 0/141 [00:00<?, ?it/s]"
      ]
     },
     "metadata": {},
     "output_type": "display_data"
    },
    {
     "data": {
      "application/vnd.jupyter.widget-view+json": {
       "model_id": "26a9513cc3714fe49e35242cb1f82eb9",
       "version_major": 2,
       "version_minor": 0
      },
      "text/plain": [
       "  0%|          | 0/18 [00:00<?, ?it/s]"
      ]
     },
     "metadata": {},
     "output_type": "display_data"
    },
    {
     "data": {
      "application/vnd.jupyter.widget-view+json": {
       "model_id": "b9ab9906330947b5818f4da20e744643",
       "version_major": 2,
       "version_minor": 0
      },
      "text/plain": [
       "  0%|          | 0/17 [00:00<?, ?it/s]"
      ]
     },
     "metadata": {},
     "output_type": "display_data"
    },
    {
     "data": {
      "application/vnd.jupyter.widget-view+json": {
       "model_id": "f94f388c7e4b4acea1571715378c9460",
       "version_major": 2,
       "version_minor": 0
      },
      "text/plain": [
       "  0%|          | 0/25 [00:00<?, ?it/s]"
      ]
     },
     "metadata": {},
     "output_type": "display_data"
    },
    {
     "data": {
      "application/vnd.jupyter.widget-view+json": {
       "model_id": "70cf92fc2f584ea5b9d612cd5d43214f",
       "version_major": 2,
       "version_minor": 0
      },
      "text/plain": [
       "  0%|          | 0/18 [00:00<?, ?it/s]"
      ]
     },
     "metadata": {},
     "output_type": "display_data"
    },
    {
     "data": {
      "application/vnd.jupyter.widget-view+json": {
       "model_id": "29d6cabf3b554cf89225e60a4f134b42",
       "version_major": 2,
       "version_minor": 0
      },
      "text/plain": [
       "  0%|          | 0/22 [00:00<?, ?it/s]"
      ]
     },
     "metadata": {},
     "output_type": "display_data"
    },
    {
     "name": "stdout",
     "output_type": "stream",
     "text": [
      "Synapsse Results:\n",
      "Total Number of Synapses = 2462\n",
      "n_valid_syn_ids_presyn = 32\n",
      "n_errored_syn_ids_presyn = 175\n",
      "n_valid_syn_ids_postsyn = 2224\n",
      "n_errored_syn_ids_postsyn = 31\n",
      "Synapsse Results:\n",
      "Total Number of Synapses = 2462\n",
      "n_valid_syn_ids_presyn = 32\n",
      "n_errored_syn_ids_presyn = 175\n",
      "n_valid_syn_ids_postsyn = 2224\n",
      "n_errored_syn_ids_postsyn = 31\n"
     ]
    },
    {
     "data": {
      "application/vnd.jupyter.widget-view+json": {
       "model_id": "58f67f82920f4e30bb1feb1e9f0b43b4",
       "version_major": 2,
       "version_minor": 0
      },
      "text/plain": [
       "  0%|          | 0/21 [00:00<?, ?it/s]"
      ]
     },
     "metadata": {},
     "output_type": "display_data"
    },
    {
     "data": {
      "application/vnd.jupyter.widget-view+json": {
       "model_id": "5ccbe761c5704146bc9304572b9ebd04",
       "version_major": 2,
       "version_minor": 0
      },
      "text/plain": [
       "  0%|          | 0/7 [00:00<?, ?it/s]"
      ]
     },
     "metadata": {},
     "output_type": "display_data"
    },
    {
     "name": "stdout",
     "output_type": "stream",
     "text": [
      "Synapsse Results:\n",
      "Total Number of Synapses = 2462\n",
      "n_valid_syn_ids_presyn = 32\n",
      "n_errored_syn_ids_presyn = 175\n",
      "n_valid_syn_ids_postsyn = 2224\n",
      "n_errored_syn_ids_postsyn = 31\n",
      "Synapsse Results:\n",
      "Total Number of Synapses = 2462\n",
      "n_valid_syn_ids_presyn = 32\n",
      "n_errored_syn_ids_presyn = 175\n",
      "n_valid_syn_ids_postsyn = 2224\n",
      "n_errored_syn_ids_postsyn = 31\n"
     ]
    },
    {
     "data": {
      "application/vnd.jupyter.widget-view+json": {
       "model_id": "ae47b14e79204e9d91ad373232e7b88a",
       "version_major": 2,
       "version_minor": 0
      },
      "text/plain": [
       "  0%|          | 0/21 [00:00<?, ?it/s]"
      ]
     },
     "metadata": {},
     "output_type": "display_data"
    },
    {
     "data": {
      "application/vnd.jupyter.widget-view+json": {
       "model_id": "2e850dea9a9b4ec19cd066b1c80861f9",
       "version_major": 2,
       "version_minor": 0
      },
      "text/plain": [
       "  0%|          | 0/7 [00:00<?, ?it/s]"
      ]
     },
     "metadata": {},
     "output_type": "display_data"
    },
    {
     "name": "stdout",
     "output_type": "stream",
     "text": [
      "\n",
      "\n",
      "len(branch_attr_keys) = 28\n",
      "Saving Neuorn in suppress_output mode...please wait\n",
      "Saved File at location: /mnt/dj-stor01/platinum/minnie65/02/decomposition/864691135113167769_0_25_full_axon\n",
      "Save time = 227.01229619979858\n",
      "\n",
      "\n",
      " ***------ Total time for 864691135113167769 = 1139.5089452266693 ------ ***\n",
      "\n",
      "\n",
      "\n",
      "---- Working on Neuron 864691136618403213 ----\n",
      "Decompressing Neuron in minimal output mode...please wait\n",
      "Pulled from Table Decomposition so setting split_index = 0\n",
      "Dont need spine recalculation\n",
      "Number of Neurons found = 1\n",
      "\n",
      "Part 1: Axon like branchese \n",
      "{'L1': array([ 0,  1,  2,  3,  4,  5,  6,  7,  8,  9, 10, 11, 12, 13, 14, 15, 16,\n",
      "       17, 18, 19, 20, 21, 22, 23]), 'L2': array([1, 4, 6, 8])}\n",
      "Limb L0 soma angle: 15.31 \n",
      "Limb L1 soma angle: 160.88 \n",
      "Limb L2 soma angle: 132.83 \n",
      "Limb L3 soma angle: 120.63 \n",
      "Limb L4 soma angle: 102.95 \n",
      "Limb L5 soma angle: 94.0 \n",
      "Limb L6 soma angle: 69.81 \n",
      "Limb L7 soma angle: 68.01 \n",
      "\n",
      "Part 2: possible_axon_limbs = [1, 2, 3, 4, 5]\n",
      "\n",
      "Phase 2: Working on Limb L1\n",
      "nodes_to_eliminate = []\n",
      "\n",
      "Phase 2: Working on Limb L2\n",
      "nodes_to_eliminate = [ 9 10 12]\n",
      "\n",
      "Phase 2: Working on Limb L3\n",
      "nodes_to_eliminate = [4]\n",
      "\n",
      "Phase 2: Working on Limb L4\n",
      "nodes_to_eliminate = [0]\n",
      "\n",
      "Phase 2: Working on Limb L5\n",
      "nodes_to_eliminate = []\n",
      "\n",
      "----Working on Limb L1-----\n",
      "No nodes were eliminated so don't need to add back any candidates\n",
      "\n",
      "----Working on Limb L2-----\n",
      "No endpoints were eliminated so don't need to add back any candidates\n",
      "\n",
      "----Working on Limb L3-----\n",
      "No endpoints were eliminated so don't need to add back any candidates\n",
      "\n",
      "----Working on Limb L4-----\n",
      "No endpoints were eliminated so don't need to add back any candidates\n",
      "\n",
      "----Working on Limb L5-----\n",
      "No nodes were eliminated so don't need to add back any candidates\n",
      "Final Candidates\n",
      "\n",
      "Limb 1\n",
      "Candidate 0 (olive): array([ 0,  1,  2,  3,  4,  5,  6,  7,  8,  9, 10, 11, 12, 13, 14, 15, 16,\n",
      "       17, 18, 19, 20, 21, 22, 23])\n",
      "\n",
      "Limb 2\n",
      "Candidate 0 (palegreen): array([1, 2, 4, 5, 6, 7, 8])\n",
      "Candidate 1 (gold): array([11, 13, 14])\n",
      "Candidate 2 (palegreen): array([0])\n",
      "Candidate 3 (magenta): array([3])\n",
      "\n",
      "Limb 3\n",
      "Candidate 0 (pink): array([0, 1, 3])\n",
      "Candidate 1 (red): array([2, 5, 6])\n",
      "\n",
      "Limb 4\n",
      "Candidate 0 (brown): array([1])\n",
      "Candidate 1 (cadetblue): array([2, 3, 4, 5, 6])\n",
      "\n",
      "Limb 5\n",
      "Candidate 0 (magenta): array([0, 1, 2])\n",
      "Part 3: axon_subgraph_candidates = {1: [[0, 1, 2, 3, 4, 5, 6, 7, 8, 9, 10, 11, 12, 13, 14, 15, 16, 17, 18, 19, 20, 21, 22, 23]], 2: [[1, 2, 4, 5, 6, 7, 8], [11, 13, 14], [0], [3]], 3: [[0, 1, 3], [2, 5, 6]], 4: [[1], [2, 3, 4, 5, 6]], 5: [[0, 1, 2]]}\n",
      "\n",
      "\n",
      " --- Working on limb 1, candidate # 0\n",
      "24 out of 24 branches are axons\n",
      "Axon percentage = 1.0\n",
      "curr_axon_angle_threshold = 95\n",
      "candidate_nodes = [ 0  1  2  3  4  5  6  7  8  9 10 11 12 13 14 15 16 17 18 19 20 21 22 23]\n",
      "non_axon_branches_on_subgraph = []\n",
      "endnodes_to_test = [4230]\n",
      "Skeleton paths distances = [24999.9712952]\n",
      "Filtered indexes = [0]\n",
      "len(filtered_skeletons) = 1\n",
      "sk_angles = [162.85363356]\n",
      "candidate_angles,restr_skels = (array([162.85363356]), [array([[[1150336.48064491,  518182.19463442,  956202.62148459],\n",
      "        [1150337.76330885,  518276.28630376,  956236.46094161]],\n",
      "\n",
      "       [[1150337.76330885,  518276.28630376,  956236.46094161],\n",
      "        [1150339.49964445,  518370.61278643,  956269.61964726]],\n",
      "\n",
      "       [[1150339.49964445,  518370.61278643,  956269.61964726],\n",
      "        [1150341.29176272,  518464.96515129,  956302.70157103]],\n",
      "\n",
      "       [[1150341.29176272,  518464.96515129,  956302.70157103],\n",
      "        [1150344.13002391,  518559.36253013,  956335.58132423]],\n",
      "\n",
      "       [[1150344.13002391,  518559.36253013,  956335.58132423],\n",
      "        [1150347.39526493,  518653.77495409,  956368.37808958]],\n",
      "\n",
      "       [[1150347.39526493,  518653.77495409,  956368.37808958],\n",
      "        [1150351.59462838,  518748.1747565 ,  956401.10477714]],\n",
      "\n",
      "       [[1150351.59462838,  518748.1747565 ,  956401.10477714],\n",
      "        [1150356.90178595,  518842.54889213,  956433.74456663]],\n",
      "\n",
      "       [[1150356.90178595,  518842.54889213,  956433.74456663],\n",
      "        [1150362.58726552,  518936.91848878,  956466.33343308]],\n",
      "\n",
      "       [[1150362.58726552,  518936.91848878,  956466.33343308],\n",
      "        [1150370.18701514,  519031.24466557,  956498.65704949]],\n",
      "\n",
      "       [[1150370.18701514,  519031.24466557,  956498.65704949],\n",
      "        [1150377.80011305,  519125.57072022,  956530.97750937]],\n",
      "\n",
      "       [[1150377.80011305,  519125.57072022,  956530.97750937],\n",
      "        [1150387.43243087,  519219.88720004,  956562.78347553]],\n",
      "\n",
      "       [[1150387.43243087,  519219.88720004,  956562.78347553],\n",
      "        [1150397.39087304,  519314.19846829,  956594.50415617]],\n",
      "\n",
      "       [[1150397.39087304,  519314.19846829,  956594.50415617],\n",
      "        [1150408.75672787,  519408.51930612,  956625.71940302]],\n",
      "\n",
      "       [[1150408.75672787,  519408.51930612,  956625.71940302],\n",
      "        [1150421.03109531,  519502.83516051,  956656.60391807]],\n",
      "\n",
      "       [[1150421.03109531,  519502.83516051,  956656.60391807],\n",
      "        [1150434.2780867 ,  519597.14876657,  956687.0907913 ]],\n",
      "\n",
      "       [[1150434.2780867 ,  519597.14876657,  956687.0907913 ],\n",
      "        [1150448.83048728,  519691.44301793,  956717.03770924]],\n",
      "\n",
      "       [[1150448.83048728,  519691.44301793,  956717.03770924],\n",
      "        [1150464.1468193 ,  519785.71568396,  956746.66977006]],\n",
      "\n",
      "       [[1150464.1468193 ,  519785.71568396,  956746.66977006],\n",
      "        [1150480.95750187,  519879.92751689,  956775.67886117]],\n",
      "\n",
      "       [[1150480.95750187,  519879.92751689,  956775.67886117],\n",
      "        [1150498.5415689 ,  519974.09920334,  956804.35775528]],\n",
      "\n",
      "       [[1150498.5415689 ,  519974.09920334,  956804.35775528],\n",
      "        [1150517.58486504,  520068.17700257,  956832.40617472]],\n",
      "\n",
      "       [[1150517.58486504,  520068.17700257,  956832.40617472],\n",
      "        [1150537.56968826,  520162.20456629,  956859.96362884]],\n",
      "\n",
      "       [[1150537.56968826,  520162.20456629,  956859.96362884],\n",
      "        [1150558.73792483,  520256.15421884,  956886.8960704 ]],\n",
      "\n",
      "       [[1150558.73792483,  520256.15421884,  956886.8960704 ],\n",
      "        [1150581.02581744,  520350.08684869,  956912.97107657]],\n",
      "\n",
      "       [[1150581.02581744,  520350.08684869,  956912.97107657],\n",
      "        [1150604.02687784,  520443.99984476,  956938.49126449]],\n",
      "\n",
      "       [[1150604.02687784,  520443.99984476,  956938.49126449],\n",
      "        [1150628.09435874,  520538.0303168 ,  956962.55420292]],\n",
      "\n",
      "       [[1150628.09435874,  520538.0303168 ,  956962.55420292],\n",
      "        [1150652.42038834,  520632.11054342,  956986.15777949]],\n",
      "\n",
      "       [[1150652.42038834,  520632.11054342,  956986.15777949],\n",
      "        [1150677.23028927,  520726.53421076,  957007.8057851 ]],\n",
      "\n",
      "       [[1150677.23028927,  520726.53421076,  957007.8057851 ],\n",
      "        [1150701.93951466,  520821.15109637,  957028.71223426]],\n",
      "\n",
      "       [[1150701.93951466,  520821.15109637,  957028.71223426],\n",
      "        [1150726.41078723,  520916.18547791,  957047.93743873]],\n",
      "\n",
      "       [[1150726.41078723,  520916.18547791,  957047.93743873],\n",
      "        [1150750.32576019,  521011.62324336,  957065.81739906]],\n",
      "\n",
      "       [[1150750.32576019,  521011.62324336,  957065.81739906],\n",
      "        [1150773.68974464,  521107.43439465,  957082.37993161]],\n",
      "\n",
      "       [[1150773.68974464,  521107.43439465,  957082.37993161],\n",
      "        [1150796.01934783,  521203.78409935,  957097.1486434 ]],\n",
      "\n",
      "       [[1150796.01934783,  521203.78409935,  957097.1486434 ],\n",
      "        [1150817.79437171,  521300.40196703,  957110.9617281 ]],\n",
      "\n",
      "       [[1150817.79437171,  521300.40196703,  957110.9617281 ],\n",
      "        [1150838.36770515,  521397.53095326,  957122.90716654]],\n",
      "\n",
      "       [[1150838.36770515,  521397.53095326,  957122.90716654],\n",
      "        [1150858.50286067,  521494.83264712,  957134.17373396]],\n",
      "\n",
      "       [[1150858.50286067,  521494.83264712,  957134.17373396],\n",
      "        [1150877.74820351,  521592.47079401,  957143.99242314]],\n",
      "\n",
      "       [[1150877.74820351,  521592.47079401,  957143.99242314],\n",
      "        [1150896.68746154,  521690.21761441,  957153.31230917]],\n",
      "\n",
      "       [[1150896.68746154,  521690.21761441,  957153.31230917],\n",
      "        [1150915.41990489,  521788.06471164,  957161.97489822]],\n",
      "\n",
      "       [[1150915.41990489,  521788.06471164,  957161.97489822],\n",
      "        [1150934.06284913,  521885.95449835,  957170.34317827]],\n",
      "\n",
      "       [[1150934.06284913,  521885.95449835,  957170.34317827],\n",
      "        [1150953.22587281,  521983.72889423,  957178.88395727]],\n",
      "\n",
      "       [[1150953.22587281,  521983.72889423,  957178.88395727],\n",
      "        [1150972.76627965,  522081.41723456,  957187.55290751]],\n",
      "\n",
      "       [[1150972.76627965,  522081.41723456,  957187.55290751],\n",
      "        [1150993.24188159,  522178.84931843,  957196.9189558 ]],\n",
      "\n",
      "       [[1150993.24188159,  522178.84931843,  957196.9189558 ],\n",
      "        [1151014.88580868,  522275.9404581 ,  957207.15816495]],\n",
      "\n",
      "       [[1151014.88580868,  522275.9404581 ,  957207.15816495],\n",
      "        [1151037.38985361,  522372.75326815,  957218.14844859]],\n",
      "\n",
      "       [[1151037.38985361,  522372.75326815,  957218.14844859],\n",
      "        [1151062.01088729,  522468.8199647 ,  957230.99338323]],\n",
      "\n",
      "       [[1151062.01088729,  522468.8199647 ,  957230.99338323],\n",
      "        [1151087.02332493,  522564.73146719,  957244.23082722]],\n",
      "\n",
      "       [[1151087.02332493,  522564.73146719,  957244.23082722],\n",
      "        [1151114.88447738,  522659.41124123,  957260.33972453]],\n",
      "\n",
      "       [[1151114.88447738,  522659.41124123,  957260.33972453],\n",
      "        [1151142.76980402,  522754.07808202,  957276.4781906 ]],\n",
      "\n",
      "       [[1151142.76980402,  522754.07808202,  957276.4781906 ],\n",
      "        [1151173.25412066,  522847.31065054,  957295.93053799]],\n",
      "\n",
      "       [[1151173.25412066,  522847.31065054,  957295.93053799],\n",
      "        [1151203.93515975,  522940.42352357,  957315.64316177]],\n",
      "\n",
      "       [[1151203.93515975,  522940.42352357,  957315.64316177],\n",
      "        [1151235.94993972,  523032.45852336,  957338.10654373]],\n",
      "\n",
      "       [[1151235.94993972,  523032.45852336,  957338.10654373],\n",
      "        [1151268.40958609,  523124.10237759,  957361.51033944]],\n",
      "\n",
      "       [[1151268.40958609,  523124.10237759,  957361.51033944],\n",
      "        [1151301.10575389,  523215.09446529,  957387.03243986]],\n",
      "\n",
      "       [[1151301.10575389,  523215.09446529,  957387.03243986],\n",
      "        [1151333.97004835,  523305.54911115,  957414.19631231]],\n",
      "\n",
      "       [[1151333.97004835,  523305.54911115,  957414.19631231],\n",
      "        [1151366.40364464,  523395.69548931,  957442.86066946]],\n",
      "\n",
      "       [[1151366.40364464,  523395.69548931,  957442.86066946],\n",
      "        [1151398.15201515,  523485.32302092,  957473.82737023]],\n",
      "\n",
      "       [[1151398.15201515,  523485.32302092,  957473.82737023],\n",
      "        [1151429.25277393,  523574.84460585,  957505.74190036]],\n",
      "\n",
      "       [[1151429.25277393,  523574.84460585,  957505.74190036],\n",
      "        [1151458.4161963 ,  523663.9880244 ,  957540.4253422 ]],\n",
      "\n",
      "       [[1151458.4161963 ,  523663.9880244 ,  957540.4253422 ],\n",
      "        [1151486.99437786,  523753.11104376,  957575.64224506]],\n",
      "\n",
      "       [[1151486.99437786,  523753.11104376,  957575.64224506],\n",
      "        [1151512.40116503,  523842.03630779,  957613.67894118]],\n",
      "\n",
      "       [[1151512.40116503,  523842.03630779,  957613.67894118],\n",
      "        [1151537.32160401,  523930.96766715,  957652.01978382]],\n",
      "\n",
      "       [[1151537.32160401,  523930.96766715,  957652.01978382],\n",
      "        [1151558.3930444 ,  524019.85543187,  957692.7009537 ]],\n",
      "\n",
      "       [[1151558.3930444 ,  524019.85543187,  957692.7009537 ],\n",
      "        [1151578.9686977 ,  524108.76240252,  957733.59186211]],\n",
      "\n",
      "       [[1151578.9686977 ,  524108.76240252,  957733.59186211],\n",
      "        [1151595.91268227,  524197.73932456,  957775.97117422]],\n",
      "\n",
      "       [[1151595.91268227,  524197.73932456,  957775.97117422],\n",
      "        [1151612.28753038,  524286.75702176,  957818.48765447]],\n",
      "\n",
      "       [[1151612.28753038,  524286.75702176,  957818.48765447],\n",
      "        [1151625.98824909,  524375.92864363,  957861.62359578]],\n",
      "\n",
      "       [[1151625.98824909,  524375.92864363,  957861.62359578],\n",
      "        [1151639.1118703 ,  524465.18143216,  957904.77090916]],\n",
      "\n",
      "       [[1151639.1118703 ,  524465.18143216,  957904.77090916],\n",
      "        [1151650.71905008,  524554.63475207,  957947.93773194]],\n",
      "\n",
      "       [[1151650.71905008,  524554.63475207,  957947.93773194],\n",
      "        [1151661.84901311,  524644.2360666 ,  957990.92289138]],\n",
      "\n",
      "       [[1151661.84901311,  524644.2360666 ,  957990.92289138],\n",
      "        [1151672.33016519,  524734.03635104,  958033.6552068 ]],\n",
      "\n",
      "       [[1151672.33016519,  524734.03635104,  958033.6552068 ],\n",
      "        [1151682.46900144,  524824.1037936 ,  958075.90516002]],\n",
      "\n",
      "       [[1151682.46900144,  524824.1037936 ,  958075.90516002],\n",
      "        [1151692.40614011,  524914.33022775,  958117.86264296]],\n",
      "\n",
      "       [[1151692.40614011,  524914.33022775,  958117.86264296],\n",
      "        [1151702.13955891,  525005.0884923 ,  958158.70616661]],\n",
      "\n",
      "       [[1151702.13955891,  525005.0884923 ,  958158.70616661],\n",
      "        [1151711.88937929,  525096.14459933,  958198.87707554]],\n",
      "\n",
      "       [[1151711.88937929,  525096.14459933,  958198.87707554],\n",
      "        [1151721.74351722,  525187.85878847,  958237.49497433]],\n",
      "\n",
      "       [[1151721.74351722,  525187.85878847,  958237.49497433],\n",
      "        [1151732.12876644,  525280.49998412,  958273.68492842]],\n",
      "\n",
      "       [[1151732.12876644,  525280.49998412,  958273.68492842],\n",
      "        [1151743.02996977,  525373.8565178 ,  958307.82469208]],\n",
      "\n",
      "       [[1151743.02996977,  525373.8565178 ,  958307.82469208],\n",
      "        [1151755.18566786,  525468.54711388,  958337.58550007]],\n",
      "\n",
      "       [[1151755.18566786,  525468.54711388,  958337.58550007],\n",
      "        [1151768.69701845,  525564.40630882,  958362.65216084]],\n",
      "\n",
      "       [[1151768.69701845,  525564.40630882,  958362.65216084],\n",
      "        [1151783.12761231,  525660.98270498,  958384.20279555]],\n",
      "\n",
      "       [[1151783.12761231,  525660.98270498,  958384.20279555],\n",
      "        [1151798.86300613,  525758.47521356,  958399.93394692]],\n",
      "\n",
      "       [[1151798.86300613,  525758.47521356,  958399.93394692],\n",
      "        [1151814.99950005,  525856.44855064,  958411.79956988]],\n",
      "\n",
      "       [[1151814.99950005,  525856.44855064,  958411.79956988],\n",
      "        [1151831.34745891,  525954.63226585,  958421.42012652]],\n",
      "\n",
      "       [[1151831.34745891,  525954.63226585,  958421.42012652],\n",
      "        [1151847.08512742,  526053.22160076,  958427.1179785 ]],\n",
      "\n",
      "       [[1151847.08512742,  526053.22160076,  958427.1179785 ],\n",
      "        [1151862.39928323,  526151.90155372,  958432.38256944]],\n",
      "\n",
      "       [[1151862.39928323,  526151.90155372,  958432.38256944],\n",
      "        [1151876.48500925,  526250.82030289,  958436.46483781]],\n",
      "\n",
      "       [[1151876.48500925,  526250.82030289,  958436.46483781],\n",
      "        [1151889.63753571,  526349.85915246,  958440.74273809]],\n",
      "\n",
      "       [[1151889.63753571,  526349.85915246,  958440.74273809],\n",
      "        [1151901.47982449,  526449.05064283,  958445.30187094]],\n",
      "\n",
      "       [[1151901.47982449,  526449.05064283,  958445.30187094],\n",
      "        [1151912.12418635,  526548.32711999,  958450.85677847]],\n",
      "\n",
      "       [[1151912.12418635,  526548.32711999,  958450.85677847],\n",
      "        [1151921.60047418,  526647.66260052,  958457.38564759]],\n",
      "\n",
      "       [[1151921.60047418,  526647.66260052,  958457.38564759],\n",
      "        [1151929.93305635,  526746.98395812,  958465.4981105 ]],\n",
      "\n",
      "       [[1151929.93305635,  526746.98395812,  958465.4981105 ],\n",
      "        [1151937.33399523,  526846.26512061,  958474.90213325]],\n",
      "\n",
      "       [[1151937.33399523,  526846.26512061,  958474.90213325],\n",
      "        [1151943.88523898,  526945.40926318,  958486.19359775]],\n",
      "\n",
      "       [[1151943.88523898,  526945.40926318,  958486.19359775],\n",
      "        [1151949.80179723,  527044.42218032,  958498.89779763]],\n",
      "\n",
      "       [[1151949.80179723,  527044.42218032,  958498.89779763],\n",
      "        [1151955.28900856,  527143.18761089,  958513.56954061]],\n",
      "\n",
      "       [[1151955.28900856,  527143.18761089,  958513.56954061],\n",
      "        [1151960.47245485,  527241.75101595,  958529.64285878]],\n",
      "\n",
      "       [[1151960.47245485,  527241.75101595,  958529.64285878],\n",
      "        [1151965.67028162,  527339.98941016,  958547.59234586]],\n",
      "\n",
      "       [[1151965.67028162,  527339.98941016,  958547.59234586],\n",
      "        [1151970.88064182,  527437.98529605,  958566.81810607]],\n",
      "\n",
      "       [[1151970.88064182,  527437.98529605,  958566.81810607],\n",
      "        [1151976.47987372,  527535.62845924,  958587.66156059]],\n",
      "\n",
      "       [[1151976.47987372,  527535.62845924,  958587.66156059],\n",
      "        [1151982.33063784,  527633.03058691,  958609.53793448]]])])\n"
     ]
    },
    {
     "name": "stdout",
     "output_type": "stream",
     "text": [
      "base_final_widths = [306.58224921 287.65400157]\n",
      "overall_ais_width = 219.68025618723883\n",
      "ais_width = 297.11812538850745\n",
      "Adding the following branches as true axons: [ 0.  1.  2.  3.  4.  5.  6.  7.  8.  9. 10. 11. 12. 13. 14. 15. 16. 17.\n",
      " 18. 19. 20. 21. 22. 23.]\n",
      "curr_soma_angle = 160.88\n",
      "max_axon_angle = 162.8536335553472\n",
      "Changing to a better axon candidate\n",
      "\n",
      "\n",
      " --- Working on limb 2, candidate # 0\n",
      "4 out of 7 branches are axons\n",
      "Axon percentage = 0.5714285714285714\n",
      "curr_axon_angle_threshold = 120\n",
      "candidate_nodes = [ 1  2  4  5  6  7  8 12]\n",
      "non_axon_branches_on_subgraph = [ 2  5  7 12]\n",
      "endnodes_to_test = []\n",
      "candidate_angles,restr_skels = (None, None)\n",
      "Not adding candidate because no angles (None) passed the threhold 120 \n",
      "\n",
      "\n",
      " --- Working on limb 2, candidate # 1\n",
      "0 out of 3 branches are axons\n",
      "Axon percentage = 0.0\n",
      "Not adding candidate no axon branches detected \n",
      "\n",
      "\n",
      " --- Working on limb 2, candidate # 2\n",
      "0 out of 1 branches are axons\n",
      "Axon percentage = 0.0\n",
      "Not adding candidate no axon branches detected \n",
      "\n",
      "\n",
      " --- Working on limb 2, candidate # 3\n",
      "0 out of 1 branches are axons\n",
      "Axon percentage = 0.0\n",
      "Not adding candidate no axon branches detected \n",
      "\n",
      "\n",
      " --- Working on limb 3, candidate # 0\n",
      "0 out of 3 branches are axons\n",
      "Axon percentage = 0.0\n",
      "Not adding candidate no axon branches detected \n",
      "\n",
      "\n",
      " --- Working on limb 3, candidate # 1\n",
      "0 out of 3 branches are axons\n",
      "Axon percentage = 0.0\n",
      "Not adding candidate no axon branches detected \n",
      "\n",
      "\n",
      " --- Working on limb 4, candidate # 0\n",
      "0 out of 1 branches are axons\n",
      "Axon percentage = 0.0\n",
      "Not adding candidate no axon branches detected \n",
      "\n",
      "\n",
      " --- Working on limb 4, candidate # 1\n",
      "0 out of 5 branches are axons\n",
      "Axon percentage = 0.0\n",
      "Not adding candidate no axon branches detected \n",
      "\n",
      "\n",
      " --- Working on limb 5, candidate # 0\n",
      "0 out of 3 branches are axons\n",
      "Axon percentage = 0.0\n",
      "Not adding candidate no axon branches detected \n",
      "Using the best axon approach\n",
      "Using True\n",
      "Limb L1: Axon branches before dendritic path filter = [ 0.  1.  2.  3.  4.  5.  6.  7.  8.  9. 10. 11. 12. 13. 14. 15. 16. 17.\n",
      " 18. 19. 20. 21. 22. 23.]\n",
      "Limb L1: Axon branches AFTER dendritic path filter = [ 0.  1.  2.  3.  4.  5.  6.  7.  8.  9. 10. 11. 12. 13. 14. 15. 16. 17.\n",
      " 18. 19. 20. 21. 22. 23.]\n",
      "\n",
      "\n",
      "Part 4: final_true_axons = {'L1': array([ 0.,  1.,  2.,  3.,  4.,  5.,  6.,  7.,  8.,  9., 10., 11., 12.,\n",
      "       13., 14., 15., 16., 17., 18., 19., 20., 21., 22., 23.])}\n",
      "\n",
      "--- Working on filter 0:\n",
      "function = dendrite_on_axon_merges\n",
      "function __name__ = filter_away_dendrite_on_axon_merges\n",
      "function arguments = {'use_pre_existing_axon_labels': True}\n",
      "\n",
      "\n",
      "\n",
      "\n",
      "\n",
      " ---- Total time for applying filter: 0.7715928554534912 -----\n",
      "Starting axon branch was the starting node so using border vertices and NOT computing upstream branch\n",
      "upstream_node_to_axon_starting_branch = None\n",
      "root_curr = [1150268.   508283.2  954854.4]\n",
      "Time for preparing soma vertices and root: 0.00038504600524902344\n",
      "invalidation_d = 2000\n",
      "cc_vertex_thresh = 10\n"
     ]
    },
    {
     "name": "stderr",
     "output_type": "stream",
     "text": [
      "\r",
      "  0%|          | 0/1 [00:00<?, ?it/s]"
     ]
    },
    {
     "data": {
      "application/vnd.jupyter.widget-view+json": {
       "model_id": "727510d69eab475a9f94f16ced96ab1f",
       "version_major": 2,
       "version_minor": 0
      },
      "text/plain": [
       "  0%|          | 0/65019 [00:00<?, ?it/s]"
      ]
     },
     "metadata": {},
     "output_type": "display_data"
    },
    {
     "name": "stderr",
     "output_type": "stream",
     "text": [
      "100%|██████████| 1/1 [00:03<00:00,  3.40s/it]\n"
     ]
    },
    {
     "name": "stdout",
     "output_type": "stream",
     "text": [
      "meshparty_segment_size = 100\n",
      "Time for 1st pass MP skeletonization: 5.129354476928711\n",
      "branches_touching_root = [15]\n",
      "combining close nodes\n",
      "combine_threshold = 1300\n",
      "length of Graph = 15137\n",
      "After combining close endpoints max(kept_branches_idx) = 60, len(kept_branches_idx) = 58\n",
      "empty_indices % = 0.0\n",
      " conflict_indices % = 0.008029485323153876\n"
     ]
    },
    {
     "data": {
      "application/vnd.jupyter.widget-view+json": {
       "model_id": "9deda6e3e95041569f83891bdf7abfc2",
       "version_major": 2,
       "version_minor": 0
      },
      "text/plain": [
       "  0%|          | 0/27 [00:00<?, ?it/s]"
      ]
     },
     "metadata": {},
     "output_type": "display_data"
    },
    {
     "name": "stdout",
     "output_type": "stream",
     "text": [
      "AFTER face_lookup_resolved_test\n"
     ]
    },
    {
     "data": {
      "application/vnd.jupyter.widget-view+json": {
       "model_id": "8a8d3895e5574852a772e8f1aa38092c",
       "version_major": 2,
       "version_minor": 0
      },
      "text/plain": [
       "  0%|          | 0/58 [00:00<?, ?it/s]"
      ]
     },
     "metadata": {},
     "output_type": "display_data"
    },
    {
     "name": "stdout",
     "output_type": "stream",
     "text": [
      "Decomposing first pass: 19.746203422546387\n",
      "Only Using MeshParty Skeletonization and Mesh Correspondence\n",
      "Another print\n",
      "Divinding into MP and MAP pieces: 0.00022172927856445312\n",
      "Total time for MAP sublimb processing 3.5762786865234375e-06\n",
      "---- Working on MP Decomposition #0 ----\n",
      "Using Quicker soma_to_piece_touching_vertices because no MAP and only one sublimb_mesh piece \n",
      "MP filtering soma verts: 0.0003285408020019531\n",
      "Fixing Possible Soma Extension Branch for Sublimb 0\n",
      "Total time for mesh KDTree = 0.2289714813232422\n",
      "sbv[0].reshape(-1,3) = [[1150268.   508283.2  954854.4]]\n",
      "closest_sk_pt_coord BEFORE = [1151023.86153084  508381.43256137  955211.81820354]\n",
      "current_skeleton.shape = (653, 2, 3)\n",
      "node_for_stitch = 244: [1151023.86153084  508381.43256137  955211.81820354]\n",
      "node_for_stitch AFTER = 244: [1151023.86153084  508381.43256137  955211.81820354]\n",
      "possible_node_loc = [244 395]\n",
      "possible_node_loc AFTER = [244 395]\n",
      "curr_shortest_path = [244]\n",
      "Current stitch point was a branch or endpoint\n",
      "change_status for create soma extending pieces = False\n",
      "closest_sk_pt_coord AFTER = [1151023.86153084  508381.43256137  955211.81820354]\n",
      "skipping soma 0 because closest skeleton node was already end node\n",
      "endpoints_must_keep = {0: array([[1151023.86153084,  508381.43256137,  955211.81820354]])}\n",
      "match_sk_branches = [15]\n",
      "The new branch info was none so skipping \n",
      "\n",
      "No soma extending branch was added for this sublimb even though it had a soma border (means they already existed)\n",
      "MP (because soma touching verts) soma extension add: 6.083627700805664\n",
      "There were not both MAP and MP pieces so skipping the stitch resolving phase\n",
      "Time for decomp of Limb = 32.39173746109009\n",
      "Number of matching vertices = 22\n",
      "Only one endpoint after filtering away the endpoints that are not on the skeleton\n",
      "Using Distance measure skeletal_distance\n",
      "endpoints_must_keep = [[1151023.86153084  508381.43256137  955211.81820354]]\n",
      "Number of end_nodes BEFORE filtering = 32\n",
      "all_single_nodes_to_eliminate = [11]\n"
     ]
    },
    {
     "data": {
      "application/vnd.jupyter.widget-view+json": {
       "model_id": "9ea093123c1645559e79a3e7c8ad2085",
       "version_major": 2,
       "version_minor": 0
      },
      "text/plain": [
       "  0%|          | 0/2 [00:00<?, ?it/s]"
      ]
     },
     "metadata": {},
     "output_type": "display_data"
    },
    {
     "name": "stdout",
     "output_type": "stream",
     "text": [
      "Removed 2 skeletal branches\n"
     ]
    },
    {
     "data": {
      "application/vnd.jupyter.widget-view+json": {
       "model_id": "1c34f5522c744468b92e1978012fbf4a",
       "version_major": 2,
       "version_minor": 0
      },
      "text/plain": [
       "  0%|          | 0/58 [00:00<?, ?it/s]"
      ]
     },
     "metadata": {},
     "output_type": "display_data"
    },
    {
     "name": "stdout",
     "output_type": "stream",
     "text": [
      "129264 129265\n",
      "For marked faces: None\n",
      "empty_indices % = 0.0\n",
      " conflict_indices % = 0.0\n"
     ]
    },
    {
     "data": {
      "application/vnd.jupyter.widget-view+json": {
       "model_id": "462d460ca1234a59baa377b13d48a2c4",
       "version_major": 2,
       "version_minor": 0
      },
      "text/plain": [
       "0it [00:00, ?it/s]"
      ]
     },
     "metadata": {},
     "output_type": "display_data"
    },
    {
     "name": "stdout",
     "output_type": "stream",
     "text": [
      "AFTER face_lookup_resolved_test\n"
     ]
    },
    {
     "data": {
      "application/vnd.jupyter.widget-view+json": {
       "model_id": "42f1523f56894bb3a6e7704597b08cc0",
       "version_major": 2,
       "version_minor": 0
      },
      "text/plain": [
       "  0%|          | 0/54 [00:00<?, ?it/s]"
      ]
     },
     "metadata": {},
     "output_type": "display_data"
    },
    {
     "name": "stdout",
     "output_type": "stream",
     "text": [
      "Limb Correspondence before stitching = 54\n",
      "Limb Correspondence AFTER stitching = 54\n",
      "Upstream node was None so don't have to adjust\n",
      "concept_network_dict = {0: [<networkx_utils.GraphOrderedEdges object at 0x7f44ddae5780>]}\n",
      "\n",
      "\n",
      "----Working on seperate_graph 0----\n",
      "\n",
      "\n",
      "---------Working on soma_idx = 0, soma_group_idx 0, endpt = [1151023.86153084  508381.43256137  955211.81820354]---------\n",
      "Starting_edge inside branches_to_conept = [[1151023.86153084  508381.43256137  955211.81820354]\n",
      " [1156124.91002214  585524.78256695  963808.2478535 ]]\n",
      "At the start, starting_node (in terms of the skeleton, that shouldn't match the starting edge) = [13]\n",
      "printing out current edge:\n",
      "[[1151023.86153084  508381.43256137  955211.81820354]\n",
      " [1156124.91002214  585524.78256695  963808.2478535 ]]\n",
      "edge_endpoints_to_process was empty so exiting loop after 54 iterations\n",
      "starting_node in concept map (that should match the starting edge) = 11\n",
      "Total time for branches to concept conversion = 1.6065351963043213\n",
      "\n",
      "Done generating concept network \n",
      "\n",
      "\n"
     ]
    },
    {
     "data": {
      "application/vnd.jupyter.widget-view+json": {
       "model_id": "382b17f304ee44548a256cfaed246b80",
       "version_major": 2,
       "version_minor": 0
      },
      "text/plain": [
       "  0%|          | 0/34 [00:00<?, ?it/s]"
      ]
     },
     "metadata": {},
     "output_type": "display_data"
    },
    {
     "data": {
      "application/vnd.jupyter.widget-view+json": {
       "model_id": "b952848b20af45d5a0693e0282729754",
       "version_major": 2,
       "version_minor": 0
      },
      "text/plain": [
       "  0%|          | 0/21 [00:00<?, ?it/s]"
      ]
     },
     "metadata": {},
     "output_type": "display_data"
    },
    {
     "data": {
      "application/vnd.jupyter.widget-view+json": {
       "model_id": "f160094f13114f10b126f548487b76bb",
       "version_major": 2,
       "version_minor": 0
      },
      "text/plain": [
       "  0%|          | 0/7 [00:00<?, ?it/s]"
      ]
     },
     "metadata": {},
     "output_type": "display_data"
    },
    {
     "data": {
      "application/vnd.jupyter.widget-view+json": {
       "model_id": "340c670483204e4fa8d436428e23ef0d",
       "version_major": 2,
       "version_minor": 0
      },
      "text/plain": [
       "  0%|          | 0/22 [00:00<?, ?it/s]"
      ]
     },
     "metadata": {},
     "output_type": "display_data"
    },
    {
     "data": {
      "application/vnd.jupyter.widget-view+json": {
       "model_id": "537a2bd3f8f84a8589505695b5a7734b",
       "version_major": 2,
       "version_minor": 0
      },
      "text/plain": [
       "  0%|          | 0/14 [00:00<?, ?it/s]"
      ]
     },
     "metadata": {},
     "output_type": "display_data"
    },
    {
     "data": {
      "application/vnd.jupyter.widget-view+json": {
       "model_id": "ffa87cda9a944173ad01bd08a502068c",
       "version_major": 2,
       "version_minor": 0
      },
      "text/plain": [
       "  0%|          | 0/5 [00:00<?, ?it/s]"
      ]
     },
     "metadata": {},
     "output_type": "display_data"
    },
    {
     "data": {
      "application/vnd.jupyter.widget-view+json": {
       "model_id": "fa3473366f7247ce9324096025c2b264",
       "version_major": 2,
       "version_minor": 0
      },
      "text/plain": [
       "  0%|          | 0/14 [00:00<?, ?it/s]"
      ]
     },
     "metadata": {},
     "output_type": "display_data"
    },
    {
     "data": {
      "application/vnd.jupyter.widget-view+json": {
       "model_id": "313d8ff2da764ca78665997e1753e128",
       "version_major": 2,
       "version_minor": 0
      },
      "text/plain": [
       "  0%|          | 0/3 [00:00<?, ?it/s]"
      ]
     },
     "metadata": {},
     "output_type": "display_data"
    },
    {
     "data": {
      "application/vnd.jupyter.widget-view+json": {
       "model_id": "27aa9a340bb341cd861036bbab332558",
       "version_major": 2,
       "version_minor": 0
      },
      "text/plain": [
       "  0%|          | 0/18 [00:00<?, ?it/s]"
      ]
     },
     "metadata": {},
     "output_type": "display_data"
    },
    {
     "data": {
      "application/vnd.jupyter.widget-view+json": {
       "model_id": "41d910bdee204bb3adb8e18b5f0eca50",
       "version_major": 2,
       "version_minor": 0
      },
      "text/plain": [
       "  0%|          | 0/5 [00:00<?, ?it/s]"
      ]
     },
     "metadata": {},
     "output_type": "display_data"
    },
    {
     "data": {
      "application/vnd.jupyter.widget-view+json": {
       "model_id": "3eb4ff35d3df4267880fa1a385b3ec86",
       "version_major": 2,
       "version_minor": 0
      },
      "text/plain": [
       "  0%|          | 0/22 [00:00<?, ?it/s]"
      ]
     },
     "metadata": {},
     "output_type": "display_data"
    },
    {
     "data": {
      "application/vnd.jupyter.widget-view+json": {
       "model_id": "ab9dcb0be1844346b10762123a417779",
       "version_major": 2,
       "version_minor": 0
      },
      "text/plain": [
       "  0%|          | 0/3 [00:00<?, ?it/s]"
      ]
     },
     "metadata": {},
     "output_type": "display_data"
    },
    {
     "data": {
      "application/vnd.jupyter.widget-view+json": {
       "model_id": "957b37dab644440eb58711ee88e3f4b8",
       "version_major": 2,
       "version_minor": 0
      },
      "text/plain": [
       "  0%|          | 0/6 [00:00<?, ?it/s]"
      ]
     },
     "metadata": {},
     "output_type": "display_data"
    },
    {
     "data": {
      "application/vnd.jupyter.widget-view+json": {
       "model_id": "586194819241466ab242611ffae221f9",
       "version_major": 2,
       "version_minor": 0
      },
      "text/plain": [
       "  0%|          | 0/5 [00:00<?, ?it/s]"
      ]
     },
     "metadata": {},
     "output_type": "display_data"
    },
    {
     "data": {
      "application/vnd.jupyter.widget-view+json": {
       "model_id": "9e8d50e629a44860aad81429ae5351ee",
       "version_major": 2,
       "version_minor": 0
      },
      "text/plain": [
       "  0%|          | 0/8 [00:00<?, ?it/s]"
      ]
     },
     "metadata": {},
     "output_type": "display_data"
    },
    {
     "data": {
      "application/vnd.jupyter.widget-view+json": {
       "model_id": "5b1942b0948d46c4bfb44789e6934c03",
       "version_major": 2,
       "version_minor": 0
      },
      "text/plain": [
       "  0%|          | 0/13 [00:00<?, ?it/s]"
      ]
     },
     "metadata": {},
     "output_type": "display_data"
    },
    {
     "data": {
      "application/vnd.jupyter.widget-view+json": {
       "model_id": "8eaf25b1071d452bb4f22d41f09c3e78",
       "version_major": 2,
       "version_minor": 0
      },
      "text/plain": [
       "  0%|          | 0/12 [00:00<?, ?it/s]"
      ]
     },
     "metadata": {},
     "output_type": "display_data"
    },
    {
     "data": {
      "application/vnd.jupyter.widget-view+json": {
       "model_id": "554f861faf4246db99f23ba88429324d",
       "version_major": 2,
       "version_minor": 0
      },
      "text/plain": [
       "  0%|          | 0/3 [00:00<?, ?it/s]"
      ]
     },
     "metadata": {},
     "output_type": "display_data"
    },
    {
     "data": {
      "application/vnd.jupyter.widget-view+json": {
       "model_id": "be682176018240f8a0fc27217e3bb67d",
       "version_major": 2,
       "version_minor": 0
      },
      "text/plain": [
       "  0%|          | 0/10 [00:00<?, ?it/s]"
      ]
     },
     "metadata": {},
     "output_type": "display_data"
    },
    {
     "data": {
      "application/vnd.jupyter.widget-view+json": {
       "model_id": "8ef3abb37c464d4cb23a8604de42c960",
       "version_major": 2,
       "version_minor": 0
      },
      "text/plain": [
       "  0%|          | 0/4 [00:00<?, ?it/s]"
      ]
     },
     "metadata": {},
     "output_type": "display_data"
    },
    {
     "data": {
      "application/vnd.jupyter.widget-view+json": {
       "model_id": "35706787de5c4a738b689a248a42fb3a",
       "version_major": 2,
       "version_minor": 0
      },
      "text/plain": [
       "  0%|          | 0/9 [00:00<?, ?it/s]"
      ]
     },
     "metadata": {},
     "output_type": "display_data"
    },
    {
     "data": {
      "application/vnd.jupyter.widget-view+json": {
       "model_id": "68a3e9a7c2314765998aac78068ad285",
       "version_major": 2,
       "version_minor": 0
      },
      "text/plain": [
       "  0%|          | 0/11 [00:00<?, ?it/s]"
      ]
     },
     "metadata": {},
     "output_type": "display_data"
    },
    {
     "data": {
      "application/vnd.jupyter.widget-view+json": {
       "model_id": "2851b4cb6b0d47df91d2f0370bec8727",
       "version_major": 2,
       "version_minor": 0
      },
      "text/plain": [
       "  0%|          | 0/40 [00:00<?, ?it/s]"
      ]
     },
     "metadata": {},
     "output_type": "display_data"
    },
    {
     "data": {
      "application/vnd.jupyter.widget-view+json": {
       "model_id": "40d2f738369e4cf5b50adc1e34d3c0e4",
       "version_major": 2,
       "version_minor": 0
      },
      "text/plain": [
       "  0%|          | 0/5 [00:00<?, ?it/s]"
      ]
     },
     "metadata": {},
     "output_type": "display_data"
    },
    {
     "data": {
      "application/vnd.jupyter.widget-view+json": {
       "model_id": "073e3013df3a4148b66ce447885b679d",
       "version_major": 2,
       "version_minor": 0
      },
      "text/plain": [
       "  0%|          | 0/18 [00:00<?, ?it/s]"
      ]
     },
     "metadata": {},
     "output_type": "display_data"
    },
    {
     "data": {
      "application/vnd.jupyter.widget-view+json": {
       "model_id": "20194b9c1f174987a38c77d9a862eac5",
       "version_major": 2,
       "version_minor": 0
      },
      "text/plain": [
       "  0%|          | 0/17 [00:00<?, ?it/s]"
      ]
     },
     "metadata": {},
     "output_type": "display_data"
    },
    {
     "data": {
      "application/vnd.jupyter.widget-view+json": {
       "model_id": "30610b2e918a4cdcba0bc2396f688802",
       "version_major": 2,
       "version_minor": 0
      },
      "text/plain": [
       "  0%|          | 0/6 [00:00<?, ?it/s]"
      ]
     },
     "metadata": {},
     "output_type": "display_data"
    },
    {
     "data": {
      "application/vnd.jupyter.widget-view+json": {
       "model_id": "e8fadf7e388b4c0698e8f24776a09670",
       "version_major": 2,
       "version_minor": 0
      },
      "text/plain": [
       "  0%|          | 0/52 [00:00<?, ?it/s]"
      ]
     },
     "metadata": {},
     "output_type": "display_data"
    },
    {
     "data": {
      "application/vnd.jupyter.widget-view+json": {
       "model_id": "d85e063c6d394508907e1b73ce198d96",
       "version_major": 2,
       "version_minor": 0
      },
      "text/plain": [
       "  0%|          | 0/15 [00:00<?, ?it/s]"
      ]
     },
     "metadata": {},
     "output_type": "display_data"
    },
    {
     "data": {
      "application/vnd.jupyter.widget-view+json": {
       "model_id": "2e56c6323936497d91ded0fd94922273",
       "version_major": 2,
       "version_minor": 0
      },
      "text/plain": [
       "  0%|          | 0/4 [00:00<?, ?it/s]"
      ]
     },
     "metadata": {},
     "output_type": "display_data"
    },
    {
     "data": {
      "application/vnd.jupyter.widget-view+json": {
       "model_id": "0717531516c142d3ae40a442877a9bbd",
       "version_major": 2,
       "version_minor": 0
      },
      "text/plain": [
       "  0%|          | 0/15 [00:00<?, ?it/s]"
      ]
     },
     "metadata": {},
     "output_type": "display_data"
    },
    {
     "data": {
      "application/vnd.jupyter.widget-view+json": {
       "model_id": "71bb312f3a2a4ef6a98aac9d77bcca2d",
       "version_major": 2,
       "version_minor": 0
      },
      "text/plain": [
       "  0%|          | 0/46 [00:00<?, ?it/s]"
      ]
     },
     "metadata": {},
     "output_type": "display_data"
    },
    {
     "data": {
      "application/vnd.jupyter.widget-view+json": {
       "model_id": "9de16408c9f941f8af1811f0bf3bab86",
       "version_major": 2,
       "version_minor": 0
      },
      "text/plain": [
       "  0%|          | 0/8 [00:00<?, ?it/s]"
      ]
     },
     "metadata": {},
     "output_type": "display_data"
    },
    {
     "data": {
      "application/vnd.jupyter.widget-view+json": {
       "model_id": "861c57c4c94247db80a75d9f101721b9",
       "version_major": 2,
       "version_minor": 0
      },
      "text/plain": [
       "  0%|          | 0/11 [00:00<?, ?it/s]"
      ]
     },
     "metadata": {},
     "output_type": "display_data"
    },
    {
     "data": {
      "application/vnd.jupyter.widget-view+json": {
       "model_id": "ad6f720392a545dc824fbbe6bd59d0b6",
       "version_major": 2,
       "version_minor": 0
      },
      "text/plain": [
       "  0%|          | 0/3 [00:00<?, ?it/s]"
      ]
     },
     "metadata": {},
     "output_type": "display_data"
    },
    {
     "data": {
      "application/vnd.jupyter.widget-view+json": {
       "model_id": "1a3dc74b2e9040d592d97f93b5a0e48f",
       "version_major": 2,
       "version_minor": 0
      },
      "text/plain": [
       "  0%|          | 0/7 [00:00<?, ?it/s]"
      ]
     },
     "metadata": {},
     "output_type": "display_data"
    },
    {
     "data": {
      "application/vnd.jupyter.widget-view+json": {
       "model_id": "cb86c9101ea34792846e4ec60e4bfe28",
       "version_major": 2,
       "version_minor": 0
      },
      "text/plain": [
       "  0%|          | 0/132 [00:00<?, ?it/s]"
      ]
     },
     "metadata": {},
     "output_type": "display_data"
    },
    {
     "data": {
      "application/vnd.jupyter.widget-view+json": {
       "model_id": "217079a302a54760a3df2e7e8362cab4",
       "version_major": 2,
       "version_minor": 0
      },
      "text/plain": [
       "  0%|          | 0/38 [00:00<?, ?it/s]"
      ]
     },
     "metadata": {},
     "output_type": "display_data"
    },
    {
     "data": {
      "application/vnd.jupyter.widget-view+json": {
       "model_id": "713aa117365d402f9f9494b15ef0bc42",
       "version_major": 2,
       "version_minor": 0
      },
      "text/plain": [
       "  0%|          | 0/14 [00:00<?, ?it/s]"
      ]
     },
     "metadata": {},
     "output_type": "display_data"
    },
    {
     "data": {
      "application/vnd.jupyter.widget-view+json": {
       "model_id": "ccf94041ca514a2981942b506096bcab",
       "version_major": 2,
       "version_minor": 0
      },
      "text/plain": [
       "  0%|          | 0/74 [00:00<?, ?it/s]"
      ]
     },
     "metadata": {},
     "output_type": "display_data"
    },
    {
     "data": {
      "application/vnd.jupyter.widget-view+json": {
       "model_id": "d01ca5ae7e454b02a6018987fe1a5c5d",
       "version_major": 2,
       "version_minor": 0
      },
      "text/plain": [
       "  0%|          | 0/13 [00:00<?, ?it/s]"
      ]
     },
     "metadata": {},
     "output_type": "display_data"
    },
    {
     "data": {
      "application/vnd.jupyter.widget-view+json": {
       "model_id": "0d48b472cb784ff0884aea746f4a3a07",
       "version_major": 2,
       "version_minor": 0
      },
      "text/plain": [
       "  0%|          | 0/68 [00:00<?, ?it/s]"
      ]
     },
     "metadata": {},
     "output_type": "display_data"
    },
    {
     "data": {
      "application/vnd.jupyter.widget-view+json": {
       "model_id": "619702f32735464c80571f0ac38782fb",
       "version_major": 2,
       "version_minor": 0
      },
      "text/plain": [
       "  0%|          | 0/22 [00:00<?, ?it/s]"
      ]
     },
     "metadata": {},
     "output_type": "display_data"
    },
    {
     "data": {
      "application/vnd.jupyter.widget-view+json": {
       "model_id": "c732898f404945d180996c9b936768d3",
       "version_major": 2,
       "version_minor": 0
      },
      "text/plain": [
       "  0%|          | 0/27 [00:00<?, ?it/s]"
      ]
     },
     "metadata": {},
     "output_type": "display_data"
    },
    {
     "data": {
      "application/vnd.jupyter.widget-view+json": {
       "model_id": "47af41c7508142699c03e7cd70e77ba1",
       "version_major": 2,
       "version_minor": 0
      },
      "text/plain": [
       "  0%|          | 0/128 [00:00<?, ?it/s]"
      ]
     },
     "metadata": {},
     "output_type": "display_data"
    },
    {
     "data": {
      "application/vnd.jupyter.widget-view+json": {
       "model_id": "0990b1ec62a54de4aef491cb04bbb538",
       "version_major": 2,
       "version_minor": 0
      },
      "text/plain": [
       "  0%|          | 0/75 [00:00<?, ?it/s]"
      ]
     },
     "metadata": {},
     "output_type": "display_data"
    },
    {
     "data": {
      "application/vnd.jupyter.widget-view+json": {
       "model_id": "bb9d414f43a34e20b8445483ace1e6ee",
       "version_major": 2,
       "version_minor": 0
      },
      "text/plain": [
       "  0%|          | 0/32 [00:00<?, ?it/s]"
      ]
     },
     "metadata": {},
     "output_type": "display_data"
    },
    {
     "data": {
      "application/vnd.jupyter.widget-view+json": {
       "model_id": "45236b6e8ee04d05840303e4de844634",
       "version_major": 2,
       "version_minor": 0
      },
      "text/plain": [
       "  0%|          | 0/31 [00:00<?, ?it/s]"
      ]
     },
     "metadata": {},
     "output_type": "display_data"
    },
    {
     "data": {
      "application/vnd.jupyter.widget-view+json": {
       "model_id": "3267458d9cc04ed1a870496c3c72bede",
       "version_major": 2,
       "version_minor": 0
      },
      "text/plain": [
       "  0%|          | 0/13 [00:00<?, ?it/s]"
      ]
     },
     "metadata": {},
     "output_type": "display_data"
    },
    {
     "data": {
      "application/vnd.jupyter.widget-view+json": {
       "model_id": "0f3c738ab74e409cb7491c3b27a411b0",
       "version_major": 2,
       "version_minor": 0
      },
      "text/plain": [
       "  0%|          | 0/97 [00:00<?, ?it/s]"
      ]
     },
     "metadata": {},
     "output_type": "display_data"
    },
    {
     "data": {
      "application/vnd.jupyter.widget-view+json": {
       "model_id": "29c86a717f5c4e7483c6eb7959be900c",
       "version_major": 2,
       "version_minor": 0
      },
      "text/plain": [
       "  0%|          | 0/112 [00:00<?, ?it/s]"
      ]
     },
     "metadata": {},
     "output_type": "display_data"
    },
    {
     "data": {
      "application/vnd.jupyter.widget-view+json": {
       "model_id": "04d47d5cd35f48d8a068522029bc52b8",
       "version_major": 2,
       "version_minor": 0
      },
      "text/plain": [
       "  0%|          | 0/33 [00:00<?, ?it/s]"
      ]
     },
     "metadata": {},
     "output_type": "display_data"
    },
    {
     "data": {
      "application/vnd.jupyter.widget-view+json": {
       "model_id": "da71594761b148319264bd6ea33606ba",
       "version_major": 2,
       "version_minor": 0
      },
      "text/plain": [
       "  0%|          | 0/16 [00:00<?, ?it/s]"
      ]
     },
     "metadata": {},
     "output_type": "display_data"
    },
    {
     "data": {
      "application/vnd.jupyter.widget-view+json": {
       "model_id": "ac0733d4840548e8970be1e60a4c0669",
       "version_major": 2,
       "version_minor": 0
      },
      "text/plain": [
       "  0%|          | 0/14 [00:00<?, ?it/s]"
      ]
     },
     "metadata": {},
     "output_type": "display_data"
    },
    {
     "data": {
      "application/vnd.jupyter.widget-view+json": {
       "model_id": "9234429243914209b7f5dccda4f07428",
       "version_major": 2,
       "version_minor": 0
      },
      "text/plain": [
       "  0%|          | 0/10 [00:00<?, ?it/s]"
      ]
     },
     "metadata": {},
     "output_type": "display_data"
    },
    {
     "data": {
      "application/vnd.jupyter.widget-view+json": {
       "model_id": "3724cf9cf3254e7eaecf9654bff31de6",
       "version_major": 2,
       "version_minor": 0
      },
      "text/plain": [
       "  0%|          | 0/44 [00:00<?, ?it/s]"
      ]
     },
     "metadata": {},
     "output_type": "display_data"
    },
    {
     "data": {
      "application/vnd.jupyter.widget-view+json": {
       "model_id": "d25a81fed02345f39a69ad37c09ae2c5",
       "version_major": 2,
       "version_minor": 0
      },
      "text/plain": [
       "  0%|          | 0/27 [00:00<?, ?it/s]"
      ]
     },
     "metadata": {},
     "output_type": "display_data"
    },
    {
     "data": {
      "application/vnd.jupyter.widget-view+json": {
       "model_id": "3cf9b8393e1a441395d8786b3b21a7a4",
       "version_major": 2,
       "version_minor": 0
      },
      "text/plain": [
       "  0%|          | 0/34 [00:00<?, ?it/s]"
      ]
     },
     "metadata": {},
     "output_type": "display_data"
    },
    {
     "data": {
      "application/vnd.jupyter.widget-view+json": {
       "model_id": "4a20b612f8ee493794c77b1378b51b17",
       "version_major": 2,
       "version_minor": 0
      },
      "text/plain": [
       "  0%|          | 0/33 [00:00<?, ?it/s]"
      ]
     },
     "metadata": {},
     "output_type": "display_data"
    },
    {
     "data": {
      "application/vnd.jupyter.widget-view+json": {
       "model_id": "8b3d29a09817472784074459087b4d80",
       "version_major": 2,
       "version_minor": 0
      },
      "text/plain": [
       "  0%|          | 0/9 [00:00<?, ?it/s]"
      ]
     },
     "metadata": {},
     "output_type": "display_data"
    },
    {
     "name": "stdout",
     "output_type": "stream",
     "text": [
      "Synapsse Results:\n",
      "Total Number of Synapses = 3190\n",
      "n_valid_syn_ids_presyn = 18\n",
      "n_errored_syn_ids_presyn = 89\n",
      "n_valid_syn_ids_postsyn = 3081\n",
      "n_errored_syn_ids_postsyn = 2\n",
      "Synapsse Results:\n",
      "Total Number of Synapses = 3190\n",
      "n_valid_syn_ids_presyn = 18\n",
      "n_errored_syn_ids_presyn = 89\n",
      "n_valid_syn_ids_postsyn = 3081\n",
      "n_errored_syn_ids_postsyn = 2\n"
     ]
    },
    {
     "data": {
      "application/vnd.jupyter.widget-view+json": {
       "model_id": "73e16804f5814d1e95390fb16e18c029",
       "version_major": 2,
       "version_minor": 0
      },
      "text/plain": [
       "  0%|          | 0/12 [00:00<?, ?it/s]"
      ]
     },
     "metadata": {},
     "output_type": "display_data"
    },
    {
     "data": {
      "application/vnd.jupyter.widget-view+json": {
       "model_id": "cb0a1dc98b9c4f9d9d4bdb7b8946d9e2",
       "version_major": 2,
       "version_minor": 0
      },
      "text/plain": [
       "  0%|          | 0/3 [00:00<?, ?it/s]"
      ]
     },
     "metadata": {},
     "output_type": "display_data"
    },
    {
     "name": "stdout",
     "output_type": "stream",
     "text": [
      "Synapsse Results:\n",
      "Total Number of Synapses = 3190\n",
      "n_valid_syn_ids_presyn = 18\n",
      "n_errored_syn_ids_presyn = 89\n",
      "n_valid_syn_ids_postsyn = 3081\n",
      "n_errored_syn_ids_postsyn = 2\n",
      "Synapsse Results:\n",
      "Total Number of Synapses = 3190\n",
      "n_valid_syn_ids_presyn = 18\n",
      "n_errored_syn_ids_presyn = 89\n",
      "n_valid_syn_ids_postsyn = 3081\n",
      "n_errored_syn_ids_postsyn = 2\n"
     ]
    },
    {
     "data": {
      "application/vnd.jupyter.widget-view+json": {
       "model_id": "4c72747437ab44c29eb16e84dc8cde64",
       "version_major": 2,
       "version_minor": 0
      },
      "text/plain": [
       "  0%|          | 0/12 [00:00<?, ?it/s]"
      ]
     },
     "metadata": {},
     "output_type": "display_data"
    },
    {
     "data": {
      "application/vnd.jupyter.widget-view+json": {
       "model_id": "6d574a9adb0445a09af4ef14d53118e6",
       "version_major": 2,
       "version_minor": 0
      },
      "text/plain": [
       "  0%|          | 0/3 [00:00<?, ?it/s]"
      ]
     },
     "metadata": {},
     "output_type": "display_data"
    },
    {
     "name": "stdout",
     "output_type": "stream",
     "text": [
      "\n",
      "\n",
      "len(branch_attr_keys) = 15\n",
      "Saving Neuorn in suppress_output mode...please wait\n",
      "Saved File at location: /mnt/dj-stor01/platinum/minnie65/02/decomposition/864691136618403213_0_25_full_axon\n",
      "Save time = 201.1162359714508\n",
      "\n",
      "\n",
      " ***------ Total time for 864691136618403213 = 595.4692506790161 ------ ***\n",
      "\n",
      "\n",
      "\n",
      "---- Working on Neuron 864691135589907979 ----\n",
      "Decompressing Neuron in minimal output mode...please wait\n",
      "Pulled from Table Decomposition so setting split_index = 0\n",
      "Dont need spine recalculation\n",
      "Number of Neurons found = 1\n",
      "\n",
      "Part 1: Axon like branchese \n",
      "{'L0': array([ 5,  9, 21, 22, 23, 24, 25, 26, 27, 28, 29, 30, 31, 32, 33, 34, 35,\n",
      "       36, 37, 38, 39, 40, 41, 42, 43, 44, 45, 46, 47, 48, 49, 50, 51, 52,\n",
      "       53, 54, 55, 56, 57, 58, 59, 60, 61, 62, 63, 64, 65, 66, 67, 68]), 'L1': array([ 0,  1,  2,  3,  4,  5,  6,  7,  8,  9, 10, 11, 12, 13, 14, 15, 16,\n",
      "       17, 18, 19, 20, 21, 22, 23, 24, 25, 26, 27, 28, 29, 30, 31, 32, 33,\n",
      "       34, 35, 36, 37, 38, 39, 40, 41, 42, 43, 44, 45, 46, 47, 48, 49, 50,\n",
      "       51, 52, 53, 54, 55, 56, 57, 58, 59, 60, 61, 62, 63, 64, 65, 66, 67,\n",
      "       68, 69, 70, 71, 72, 73, 74, 75, 76, 77, 78]), 'L2': array([ 1,  2,  4, 10, 13, 18, 19, 20, 21]), 'L6': array([4])}\n",
      "Limb L0 soma angle: 31.26 \n",
      "Limb L1 soma angle: 168.63 \n",
      "Limb L2 soma angle: 118.72 \n",
      "Limb L3 soma angle: 86.19 \n",
      "Limb L4 soma angle: 114.83 \n",
      "Limb L5 soma angle: 58.74 \n",
      "Limb L6 soma angle: 119.52 \n",
      "\n",
      "Part 2: possible_axon_limbs = [1, 2, 3, 4, 6]\n",
      "\n",
      "Phase 2: Working on Limb L1\n",
      "nodes_to_eliminate = []\n",
      "\n",
      "Phase 2: Working on Limb L2\n",
      "nodes_to_eliminate = [11]\n",
      "\n",
      "Phase 2: Working on Limb L3\n",
      "nodes_to_eliminate = [4]\n",
      "\n",
      "Phase 2: Working on Limb L4\n",
      "nodes_to_eliminate = [5 6]\n",
      "\n",
      "Phase 2: Working on Limb L6\n",
      "nodes_to_eliminate = []\n",
      "\n",
      "----Working on Limb L1-----\n",
      "No nodes were eliminated so don't need to add back any candidates\n",
      "\n",
      "----Working on Limb L2-----\n",
      "No endpoints were eliminated so don't need to add back any candidates\n",
      "\n",
      "----Working on Limb L3-----\n",
      "No endpoints were eliminated so don't need to add back any candidates\n",
      "\n",
      "----Working on Limb L4-----\n",
      "No endpoints were eliminated so don't need to add back any candidates\n",
      "\n",
      "----Working on Limb L6-----\n",
      "No nodes were eliminated so don't need to add back any candidates\n",
      "Final Candidates\n",
      "\n",
      "Limb 1\n",
      "Candidate 0 (green): array([ 0.,  1.,  2.,  3.,  4.,  5.,  6.,  7.,  8.,  9., 10., 11., 12.,\n",
      "       13., 14., 15., 16., 17., 18., 19., 20., 21., 22., 23., 24., 25.,\n",
      "       26., 27., 28., 29., 30., 31., 32., 33., 34., 35., 36., 37., 38.,\n",
      "       39., 40., 41., 42., 43., 44., 45., 46., 47., 48., 49., 50., 51.,\n",
      "       52., 53., 54., 55., 56., 57., 58., 59., 60., 61., 62., 63., 64.,\n",
      "       65., 66., 67., 68., 69., 70., 71., 72., 73., 74., 75., 76., 77.,\n",
      "       78.])\n",
      "\n",
      "Limb 2\n",
      "Candidate 0 (red): array([0, 2, 3, 4, 5, 6, 7, 8, 9])\n",
      "Candidate 1 (darkslategray): array([ 1, 10, 12, 13, 14, 15, 16, 17, 18, 19, 20, 21])\n",
      "\n",
      "Limb 3\n",
      "Candidate 0 (olive): array([0])\n",
      "Candidate 1 (gray): array([1, 2, 3, 5, 6, 7, 8])\n",
      "\n",
      "Limb 4\n",
      "Candidate 0 (forestgreen): array([2, 3, 4])\n",
      "Candidate 1 (orange): array([0])\n",
      "Candidate 2 (palegreen): array([1])\n",
      "\n",
      "Limb 6\n",
      "Candidate 0 (cyan): array([0, 1, 2, 3, 4, 5, 6, 7, 8])\n",
      "Part 3: axon_subgraph_candidates = {1: [[0, 1, 2, 3, 4, 5, 6, 7, 8, 9, 10, 11, 12, 13, 14, 15, 16, 17, 18, 19, 20, 21, 22, 23, 24, 25, 26, 27, 28, 29, 30, 31, 32, 33, 34, 35, 36, 37, 38, 39, 40, 41, 42, 43, 44, 45, 46, 47, 48, 49, 50, 51.0, 52, 53, 54, 55, 56, 57, 58, 59, 60, 61, 62, 63, 64, 65, 66, 67, 68, 69, 70, 71, 72, 73, 74, 75, 76, 77, 78]], 2: [[0, 2, 3, 4, 5, 6, 7, 8, 9], [1, 10, 12, 13, 14, 15, 16, 17, 18, 19, 20, 21]], 3: [[0], [1, 2, 3, 5, 6, 7, 8]], 4: [[2, 3, 4], [0], [1]], 6: [[0, 1, 2, 3, 4, 5, 6, 7, 8]]}\n",
      "\n",
      "\n",
      " --- Working on limb 1, candidate # 0\n",
      "79 out of 79 branches are axons\n",
      "Axon percentage = 1.0\n",
      "curr_axon_angle_threshold = 95\n",
      "candidate_nodes = [ 0.  1.  2.  3.  4.  5.  6.  7.  8.  9. 10. 11. 12. 13. 14. 15. 16. 17.\n",
      " 18. 19. 20. 21. 22. 23. 24. 25. 26. 27. 28. 29. 30. 31. 32. 33. 34. 35.\n",
      " 36. 37. 38. 39. 40. 41. 42. 43. 44. 45. 46. 47. 48. 49. 50. 51. 52. 53.\n",
      " 54. 55. 56. 57. 58. 59. 60. 61. 62. 63. 64. 65. 66. 67. 68. 69. 70. 71.\n",
      " 72. 73. 74. 75. 76. 77. 78.]\n",
      "non_axon_branches_on_subgraph = []\n",
      "endnodes_to_test = [19590]\n",
      "Skeleton paths distances = [24921.7491278]\n",
      "Filtered indexes = [0]\n",
      "len(filtered_skeletons) = 1\n",
      "sk_angles = [168.09516146]\n",
      "candidate_angles,restr_skels = (array([168.09516146]), [array([[[1301120.,  590266.,  798481.],\n",
      "        [1301070.,  590365.,  798535.]],\n",
      "\n",
      "       [[1301070.,  590365.,  798535.],\n",
      "        [1301030.,  590457.,  798591.]],\n",
      "\n",
      "       [[1301030.,  590457.,  798591.],\n",
      "        [1300990.,  590591.,  798638.]],\n",
      "\n",
      "       [[1300990.,  590591.,  798638.],\n",
      "        [1300960.,  590672.,  798669.]],\n",
      "\n",
      "       [[1300960.,  590672.,  798669.],\n",
      "        [1300930.,  590758.,  798702.]],\n",
      "\n",
      "       [[1300930.,  590758.,  798702.],\n",
      "        [1300870.,  590881.,  798753.]],\n",
      "\n",
      "       [[1300870.,  590881.,  798753.],\n",
      "        [1300830.,  591033.,  798789.]],\n",
      "\n",
      "       [[1300830.,  591033.,  798789.],\n",
      "        [1300800.,  591173.,  798815.]],\n",
      "\n",
      "       [[1300800.,  591173.,  798815.],\n",
      "        [1300770.,  591278.,  798849.]],\n",
      "\n",
      "       [[1300770.,  591278.,  798849.],\n",
      "        [1300750.,  591451.,  798875.]],\n",
      "\n",
      "       [[1300750.,  591451.,  798875.],\n",
      "        [1300740.,  591610.,  798889.]],\n",
      "\n",
      "       [[1300740.,  591610.,  798889.],\n",
      "        [1300730.,  591741.,  798915.]],\n",
      "\n",
      "       [[1300730.,  591741.,  798915.],\n",
      "        [1300730.,  591879.,  798943.]],\n",
      "\n",
      "       [[1300730.,  591879.,  798943.],\n",
      "        [1300770.,  592065.,  798978.]],\n",
      "\n",
      "       [[1300770.,  592065.,  798978.],\n",
      "        [1300790.,  592145.,  798991.]],\n",
      "\n",
      "       [[1300790.,  592145.,  798991.],\n",
      "        [1300800.,  592225.,  799003.]],\n",
      "\n",
      "       [[1300800.,  592225.,  799003.],\n",
      "        [1300830.,  592358.,  799020.]],\n",
      "\n",
      "       [[1300830.,  592358.,  799020.],\n",
      "        [1300890.,  592515.,  799054.]],\n",
      "\n",
      "       [[1300890.,  592515.,  799054.],\n",
      "        [1300950.,  592672.,  799085.]],\n",
      "\n",
      "       [[1300950.,  592672.,  799085.],\n",
      "        [1301000.,  592790.,  799107.]],\n",
      "\n",
      "       [[1301000.,  592790.,  799107.],\n",
      "        [1301050.,  592872.,  799112.]],\n",
      "\n",
      "       [[1301050.,  592872.,  799112.],\n",
      "        [1301090.,  592936.,  799115.]],\n",
      "\n",
      "       [[1301090.,  592936.,  799115.],\n",
      "        [1301170.,  593082.,  799134.]],\n",
      "\n",
      "       [[1301170.,  593082.,  799134.],\n",
      "        [1301210.,  593177.,  799138.]],\n",
      "\n",
      "       [[1301210.,  593177.,  799138.],\n",
      "        [1301260.,  593286.,  799148.]],\n",
      "\n",
      "       [[1301260.,  593286.,  799148.],\n",
      "        [1301340.,  593486.,  799164.]],\n",
      "\n",
      "       [[1301340.,  593486.,  799164.],\n",
      "        [1301390.,  593642.,  799181.]],\n",
      "\n",
      "       [[1301390.,  593642.,  799181.],\n",
      "        [1301470.,  593866.,  799202.]],\n",
      "\n",
      "       [[1301470.,  593866.,  799202.],\n",
      "        [1301530.,  594036.,  799220.]],\n",
      "\n",
      "       [[1301530.,  594036.,  799220.],\n",
      "        [1301560.,  594137.,  799229.]],\n",
      "\n",
      "       [[1301560.,  594137.,  799229.],\n",
      "        [1301600.,  594262.,  799240.]],\n",
      "\n",
      "       [[1301600.,  594262.,  799240.],\n",
      "        [1301640.,  594358.,  799248.]],\n",
      "\n",
      "       [[1301640.,  594358.,  799248.],\n",
      "        [1301670.,  594446.,  799255.]],\n",
      "\n",
      "       [[1301670.,  594446.,  799255.],\n",
      "        [1301710.,  594554.,  799249.]],\n",
      "\n",
      "       [[1301710.,  594554.,  799249.],\n",
      "        [1301770.,  594718.,  799242.]],\n",
      "\n",
      "       [[1301770.,  594718.,  799242.],\n",
      "        [1301780.,  594761.,  799237.]],\n",
      "\n",
      "       [[1301780.,  594761.,  799237.],\n",
      "        [1301820.,  594871.,  799225.]],\n",
      "\n",
      "       [[1301820.,  594871.,  799225.],\n",
      "        [1301860.,  595027.,  799192.]],\n",
      "\n",
      "       [[1301860.,  595027.,  799192.],\n",
      "        [1301870.,  595071.,  799183.]],\n",
      "\n",
      "       [[1301870.,  595071.,  799183.],\n",
      "        [1301910.,  595243.,  799139.]],\n",
      "\n",
      "       [[1301910.,  595243.,  799139.],\n",
      "        [1301940.,  595374.,  799106.]],\n",
      "\n",
      "       [[1301940.,  595374.,  799106.],\n",
      "        [1301960.,  595507.,  799072.]],\n",
      "\n",
      "       [[1301960.,  595507.,  799072.],\n",
      "        [1301970.,  595603.,  799047.]],\n",
      "\n",
      "       [[1301970.,  595603.,  799047.],\n",
      "        [1301990.,  595731.,  799015.]],\n",
      "\n",
      "       [[1301990.,  595731.,  799015.],\n",
      "        [1301990.,  595820.,  798994.]],\n",
      "\n",
      "       [[1301990.,  595820.,  798994.],\n",
      "        [1301990.,  595857.,  798986.]],\n",
      "\n",
      "       [[1301990.,  595857.,  798986.],\n",
      "        [1301990.,  595997.,  798961.]],\n",
      "\n",
      "       [[1301990.,  595997.,  798961.],\n",
      "        [1301990.,  596115.,  798938.]],\n",
      "\n",
      "       [[1301990.,  596115.,  798938.],\n",
      "        [1301980.,  596204.,  798929.]],\n",
      "\n",
      "       [[1301980.,  596204.,  798929.],\n",
      "        [1301960.,  596448.,  798919.]],\n",
      "\n",
      "       [[1301960.,  596448.,  798919.],\n",
      "        [1301950.,  596575.,  798921.]],\n",
      "\n",
      "       [[1301950.,  596575.,  798921.],\n",
      "        [1301940.,  596725.,  798930.]],\n",
      "\n",
      "       [[1301940.,  596725.,  798930.],\n",
      "        [1301960.,  596866.,  798944.]],\n",
      "\n",
      "       [[1301960.,  596866.,  798944.],\n",
      "        [1302000.,  597077.,  798967.]],\n",
      "\n",
      "       [[1302000.,  597077.,  798967.],\n",
      "        [1302030.,  597172.,  798982.]],\n",
      "\n",
      "       [[1302030.,  597172.,  798982.],\n",
      "        [1302060.,  597238.,  798993.]],\n",
      "\n",
      "       [[1302060.,  597238.,  798993.],\n",
      "        [1302090.,  597324.,  799009.]],\n",
      "\n",
      "       [[1302090.,  597324.,  799009.],\n",
      "        [1302150.,  597429.,  799026.]],\n",
      "\n",
      "       [[1302150.,  597429.,  799026.],\n",
      "        [1302200.,  597515.,  799048.]],\n",
      "\n",
      "       [[1302200.,  597515.,  799048.],\n",
      "        [1302270.,  597632.,  799075.]],\n",
      "\n",
      "       [[1302270.,  597632.,  799075.],\n",
      "        [1302330.,  597738.,  799105.]],\n",
      "\n",
      "       [[1302330.,  597738.,  799105.],\n",
      "        [1302340.,  597751.,  799109.]],\n",
      "\n",
      "       [[1302340.,  597751.,  799109.],\n",
      "        [1302410.,  597862.,  799144.]],\n",
      "\n",
      "       [[1302410.,  597862.,  799144.],\n",
      "        [1302470.,  597989.,  799183.]],\n",
      "\n",
      "       [[1302470.,  597989.,  799183.],\n",
      "        [1302540.,  598152.,  799252.]],\n",
      "\n",
      "       [[1302540.,  598152.,  799252.],\n",
      "        [1302590.,  598319.,  799321.]],\n",
      "\n",
      "       [[1302590.,  598319.,  799321.],\n",
      "        [1302630.,  598484.,  799377.]],\n",
      "\n",
      "       [[1302630.,  598484.,  799377.],\n",
      "        [1302660.,  598666.,  799424.]],\n",
      "\n",
      "       [[1302660.,  598666.,  799424.],\n",
      "        [1302690.,  598829.,  799452.]],\n",
      "\n",
      "       [[1302690.,  598829.,  799452.],\n",
      "        [1302720.,  598980.,  799458.]],\n",
      "\n",
      "       [[1302720.,  598980.,  799458.],\n",
      "        [1302730.,  599037.,  799456.]],\n",
      "\n",
      "       [[1302730.,  599037.,  799456.],\n",
      "        [1302770.,  599190.,  799436.]],\n",
      "\n",
      "       [[1302770.,  599190.,  799436.],\n",
      "        [1302800.,  599312.,  799402.]],\n",
      "\n",
      "       [[1302800.,  599312.,  799402.],\n",
      "        [1302840.,  599406.,  799361.]],\n",
      "\n",
      "       [[1302840.,  599406.,  799361.],\n",
      "        [1302880.,  599504.,  799313.]],\n",
      "\n",
      "       [[1302880.,  599504.,  799313.],\n",
      "        [1302910.,  599566.,  799281.]]])])\n"
     ]
    },
    {
     "name": "stdout",
     "output_type": "stream",
     "text": [
      "base_final_widths = [461.7929048  493.48901542 516.99550541]\n",
      "overall_ais_width = 320.4575761069416\n",
      "ais_width = 490.7591418751221\n",
      "Adding the following branches as true axons: [ 0.  1.  2.  3.  4.  5.  6.  7.  8.  9. 10. 11. 12. 13. 14. 15. 16. 17.\n",
      " 18. 19. 20. 21. 22. 23. 24. 25. 26. 27. 28. 29. 30. 31. 32. 33. 34. 35.\n",
      " 36. 37. 38. 39. 40. 41. 42. 43. 44. 45. 46. 47. 48. 49. 50. 51. 52. 53.\n",
      " 54. 55. 56. 57. 58. 59. 60. 61. 62. 63. 64. 65. 66. 67. 68. 69. 70. 71.\n",
      " 72. 73. 74. 75. 76. 77. 78.]\n",
      "curr_soma_angle = 168.63\n",
      "max_axon_angle = 168.09516145883734\n",
      "Changing to a better axon candidate\n",
      "\n",
      "\n",
      " --- Working on limb 2, candidate # 0\n",
      "2 out of 9 branches are axons\n",
      "Axon percentage = 0.2222222222222222\n",
      "curr_axon_angle_threshold = 120\n",
      "candidate_nodes = [ 0  2  3  4  5  6  7  8  9 11]\n",
      "non_axon_branches_on_subgraph = [ 0  3  5  6  7  8  9 11]\n",
      "endnodes_to_test = []\n",
      "candidate_angles,restr_skels = (None, None)\n",
      "Not adding candidate because no angles (None) passed the threhold 120 \n",
      "\n",
      "\n",
      " --- Working on limb 2, candidate # 1\n",
      "7 out of 12 branches are axons\n",
      "Axon percentage = 0.5833333333333334\n",
      "curr_axon_angle_threshold = 120\n",
      "candidate_nodes = [ 1 10 11 12 13 14 15 16 17 18 19 20 21]\n",
      "non_axon_branches_on_subgraph = [11 12 14 15 16 17]\n",
      "endnodes_to_test = []\n",
      "candidate_angles,restr_skels = (None, None)\n",
      "Not adding candidate because no angles (None) passed the threhold 120 \n",
      "\n",
      "\n",
      " --- Working on limb 3, candidate # 0\n",
      "0 out of 1 branches are axons\n",
      "Axon percentage = 0.0\n",
      "Not adding candidate no axon branches detected \n",
      "\n",
      "\n",
      " --- Working on limb 3, candidate # 1\n",
      "0 out of 7 branches are axons\n",
      "Axon percentage = 0.0\n",
      "Not adding candidate no axon branches detected \n",
      "\n",
      "\n",
      " --- Working on limb 4, candidate # 0\n",
      "0 out of 3 branches are axons\n",
      "Axon percentage = 0.0\n",
      "Not adding candidate no axon branches detected \n",
      "\n",
      "\n",
      " --- Working on limb 4, candidate # 1\n",
      "0 out of 1 branches are axons\n",
      "Axon percentage = 0.0\n",
      "Not adding candidate no axon branches detected \n",
      "\n",
      "\n",
      " --- Working on limb 4, candidate # 2\n",
      "0 out of 1 branches are axons\n",
      "Axon percentage = 0.0\n",
      "Not adding candidate no axon branches detected \n",
      "\n",
      "\n",
      " --- Working on limb 6, candidate # 0\n",
      "1 out of 9 branches are axons\n",
      "Axon percentage = 0.1111111111111111\n",
      "curr_axon_angle_threshold = 120\n",
      "candidate_nodes = [0 1 2 3 4 5 6 7 8]\n",
      "non_axon_branches_on_subgraph = [0 1 2 3 5 6 7 8]\n",
      "endnodes_to_test = []\n",
      "candidate_angles,restr_skels = (None, None)\n",
      "Not adding candidate because no angles (None) passed the threhold 120 \n",
      "Using the best axon approach\n",
      "Using True\n",
      "Limb L1: Axon branches before dendritic path filter = [ 0.  1.  2.  3.  4.  5.  6.  7.  8.  9. 10. 11. 12. 13. 14. 15. 16. 17.\n",
      " 18. 19. 20. 21. 22. 23. 24. 25. 26. 27. 28. 29. 30. 31. 32. 33. 34. 35.\n",
      " 36. 37. 38. 39. 40. 41. 42. 43. 44. 45. 46. 47. 48. 49. 50. 51. 52. 53.\n",
      " 54. 55. 56. 57. 58. 59. 60. 61. 62. 63. 64. 65. 66. 67. 68. 69. 70. 71.\n",
      " 72. 73. 74. 75. 76. 77. 78.]\n",
      "Limb L1: Axon branches AFTER dendritic path filter = [ 0.  1.  2.  3.  4.  5.  6.  7.  8.  9. 10. 11. 12. 13. 14. 15. 16. 17.\n",
      " 18. 19. 20. 21. 22. 23. 24. 25. 26. 27. 28. 29. 30. 31. 32. 33. 34. 35.\n",
      " 36. 37. 38. 39. 40. 41. 42. 43. 44. 45. 46. 47. 48. 49. 50. 51. 52. 53.\n",
      " 54. 55. 56. 57. 58. 59. 60. 61. 62. 63. 64. 65. 66. 67. 68. 69. 70. 71.\n",
      " 72. 73. 74. 75. 76. 77. 78.]\n",
      "\n",
      "\n",
      "Part 4: final_true_axons = {'L1': array([ 0.,  1.,  2.,  3.,  4.,  5.,  6.,  7.,  8.,  9., 10., 11., 12.,\n",
      "       13., 14., 15., 16., 17., 18., 19., 20., 21., 22., 23., 24., 25.,\n",
      "       26., 27., 28., 29., 30., 31., 32., 33., 34., 35., 36., 37., 38.,\n",
      "       39., 40., 41., 42., 43., 44., 45., 46., 47., 48., 49., 50., 51.,\n",
      "       52., 53., 54., 55., 56., 57., 58., 59., 60., 61., 62., 63., 64.,\n",
      "       65., 66., 67., 68., 69., 70., 71., 72., 73., 74., 75., 76., 77.,\n",
      "       78.])}\n",
      "\n",
      "--- Working on filter 0:\n",
      "function = dendrite_on_axon_merges\n",
      "function __name__ = filter_away_dendrite_on_axon_merges\n",
      "function arguments = {'use_pre_existing_axon_labels': True}\n",
      "\n",
      "\n",
      "\n",
      "\n",
      "\n",
      " ---- Total time for applying filter: 1.5161123275756836 -----\n",
      "Starting axon branch was the starting node so using border vertices and NOT computing upstream branch\n",
      "upstream_node_to_axon_starting_branch = None\n",
      "root_curr = [1300614.  580671.  797895.]\n",
      "Time for preparing soma vertices and root: 0.0014874935150146484\n",
      "invalidation_d = 2000\n",
      "cc_vertex_thresh = 10\n"
     ]
    },
    {
     "name": "stderr",
     "output_type": "stream",
     "text": [
      "\r",
      "  0%|          | 0/1 [00:00<?, ?it/s]"
     ]
    },
    {
     "data": {
      "application/vnd.jupyter.widget-view+json": {
       "model_id": "fabbc05f0a25483b94b069b217500db1",
       "version_major": 2,
       "version_minor": 0
      },
      "text/plain": [
       "  0%|          | 0/106674 [00:00<?, ?it/s]"
      ]
     },
     "metadata": {},
     "output_type": "display_data"
    },
    {
     "name": "stderr",
     "output_type": "stream",
     "text": [
      "100%|██████████| 1/1 [00:09<00:00,  9.54s/it]\n"
     ]
    },
    {
     "name": "stdout",
     "output_type": "stream",
     "text": [
      "meshparty_segment_size = 100\n",
      "Time for 1st pass MP skeletonization: 12.398193836212158\n",
      "connecting at the root\n",
      "branches_touching_root = [192]\n",
      "combining close nodes\n",
      "combine_threshold = 1300\n",
      "length of Graph = 28705\n",
      "After combining close endpoints max(kept_branches_idx) = 192, len(kept_branches_idx) = 175\n",
      "empty_indices % = 0.0\n",
      " conflict_indices % = 0.014020449820805388\n"
     ]
    },
    {
     "data": {
      "application/vnd.jupyter.widget-view+json": {
       "model_id": "bdc450098f724759a0e1549bc037a6af",
       "version_major": 2,
       "version_minor": 0
      },
      "text/plain": [
       "  0%|          | 0/81 [00:00<?, ?it/s]"
      ]
     },
     "metadata": {},
     "output_type": "display_data"
    },
    {
     "name": "stdout",
     "output_type": "stream",
     "text": [
      "AFTER face_lookup_resolved_test\n"
     ]
    },
    {
     "data": {
      "application/vnd.jupyter.widget-view+json": {
       "model_id": "b8876b074d6e48d2aa42689b401409c0",
       "version_major": 2,
       "version_minor": 0
      },
      "text/plain": [
       "  0%|          | 0/175 [00:00<?, ?it/s]"
      ]
     },
     "metadata": {},
     "output_type": "display_data"
    },
    {
     "name": "stdout",
     "output_type": "stream",
     "text": [
      "Decomposing first pass: 46.64794993400574\n",
      "Only Using MeshParty Skeletonization and Mesh Correspondence\n",
      "Another print\n",
      "Divinding into MP and MAP pieces: 0.0002579689025878906\n",
      "Total time for MAP sublimb processing 6.67572021484375e-06\n",
      "---- Working on MP Decomposition #0 ----\n",
      "Using Quicker soma_to_piece_touching_vertices because no MAP and only one sublimb_mesh piece \n",
      "MP filtering soma verts: 8.225440979003906e-05\n",
      "Fixing Possible Soma Extension Branch for Sublimb 0\n",
      "Total time for mesh KDTree = 0.4338374137878418\n",
      "sbv[0].reshape(-1,3) = [[1300614.  580671.  797895.]]\n",
      "closest_sk_pt_coord BEFORE = [1300210.36405591  580590.65391478  798743.90219178]\n",
      "current_skeleton.shape = (617, 2, 3)\n",
      "node_for_stitch = 295: [1300210.36405591  580590.65391478  798743.90219178]\n",
      "node_for_stitch AFTER = 295: [1300210.36405591  580590.65391478  798743.90219178]\n",
      "possible_node_loc = [274 291]\n",
      "possible_node_loc AFTER = [274 291]\n",
      "curr_shortest_path = [295, 294.0, 293.0, 291.0]\n",
      "Current stitch point was not a branch or endpoint, shortest_path_length to one = 253.96787576325517\n",
      "Changing the stitch point becasue the distance to end or branch node was 253.96787576325517\n",
      "New stitch point has degree 1\n",
      "change_status for create soma extending pieces = True\n",
      "closest_sk_pt_coord AFTER = [1300178.82029357  580344.19125431  798795.32975586]\n",
      "skipping soma 0 because closest skeleton node was already end node\n",
      "endpoints_must_keep = {0: array([[1300178.82029357,  580344.19125431,  798795.32975586]])}\n",
      "match_sk_branches = [174]\n",
      "The new branch info was none so skipping \n",
      "\n",
      "No soma extending branch was added for this sublimb even though it had a soma border (means they already existed)\n",
      "MP (because soma touching verts) soma extension add: 15.74693489074707\n",
      "There were not both MAP and MP pieces so skipping the stitch resolving phase\n",
      "Time for decomp of Limb = 77.00835680961609\n",
      "Number of matching vertices = 39\n",
      "Only one endpoint after filtering away the endpoints that are not on the skeleton\n",
      "Using Distance measure skeletal_distance\n",
      "endpoints_must_keep = [[1300178.82029357  580344.19125431  798795.32975586]]\n",
      "Number of end_nodes BEFORE filtering = 99\n",
      "all_single_nodes_to_eliminate = [76]\n"
     ]
    },
    {
     "data": {
      "application/vnd.jupyter.widget-view+json": {
       "model_id": "a18f5cc54b8c440f96d1e223814cd11e",
       "version_major": 2,
       "version_minor": 0
      },
      "text/plain": [
       "  0%|          | 0/10 [00:00<?, ?it/s]"
      ]
     },
     "metadata": {},
     "output_type": "display_data"
    },
    {
     "name": "stdout",
     "output_type": "stream",
     "text": [
      "Removed 9 skeletal branches\n"
     ]
    },
    {
     "data": {
      "application/vnd.jupyter.widget-view+json": {
       "model_id": "55e315d9ba5b44adb964e18d1f57a392",
       "version_major": 2,
       "version_minor": 0
      },
      "text/plain": [
       "  0%|          | 0/175 [00:00<?, ?it/s]"
      ]
     },
     "metadata": {},
     "output_type": "display_data"
    },
    {
     "name": "stdout",
     "output_type": "stream",
     "text": [
      "212749 212750\n",
      "For marked faces: None\n",
      "empty_indices % = 0.0\n",
      " conflict_indices % = 0.0\n"
     ]
    },
    {
     "data": {
      "application/vnd.jupyter.widget-view+json": {
       "model_id": "adb9148030924962ae7b37f985776c78",
       "version_major": 2,
       "version_minor": 0
      },
      "text/plain": [
       "0it [00:00, ?it/s]"
      ]
     },
     "metadata": {},
     "output_type": "display_data"
    },
    {
     "name": "stdout",
     "output_type": "stream",
     "text": [
      "AFTER face_lookup_resolved_test\n"
     ]
    },
    {
     "data": {
      "application/vnd.jupyter.widget-view+json": {
       "model_id": "7696ae1c6ae5434ca71b5a5e1671ede8",
       "version_major": 2,
       "version_minor": 0
      },
      "text/plain": [
       "  0%|          | 0/157 [00:00<?, ?it/s]"
      ]
     },
     "metadata": {},
     "output_type": "display_data"
    },
    {
     "name": "stdout",
     "output_type": "stream",
     "text": [
      "Limb Correspondence before stitching = 157\n",
      "Limb Correspondence AFTER stitching = 157\n",
      "Upstream node was None so don't have to adjust\n",
      "concept_network_dict = {0: [<networkx_utils.GraphOrderedEdges object at 0x7f453834b080>]}\n",
      "Assigning the old width calculation because no valid new widths\n",
      "Assigning the old width calculation because no valid new widths\n",
      "\n",
      "\n",
      "----Working on seperate_graph 0----\n",
      "\n",
      "\n",
      "---------Working on soma_idx = 0, soma_group_idx 0, endpt = [1300178.82029357  580344.19125431  798795.32975586]---------\n",
      "Starting_edge inside branches_to_conept = [[1299652.92801934  636341.23170043  810037.62981425]\n",
      " [1300178.82029357  580344.19125431  798795.32975586]]\n",
      "At the start, starting_node (in terms of the skeleton, that shouldn't match the starting edge) = [116]\n",
      "printing out current edge:\n",
      "[[1300178.82029357  580344.19125431  798795.32975586]\n",
      " [1299652.92801934  636341.23170043  810037.62981425]]\n",
      "edge_endpoints_to_process was empty so exiting loop after 157 iterations\n",
      "starting_node in concept map (that should match the starting edge) = 107\n",
      "Total time for branches to concept conversion = 4.969660997390747\n",
      "\n",
      "Done generating concept network \n",
      "\n",
      "\n"
     ]
    },
    {
     "data": {
      "application/vnd.jupyter.widget-view+json": {
       "model_id": "3ccc4b26dfd74e2481b02a9829183ffa",
       "version_major": 2,
       "version_minor": 0
      },
      "text/plain": [
       "  0%|          | 0/130 [00:00<?, ?it/s]"
      ]
     },
     "metadata": {},
     "output_type": "display_data"
    },
    {
     "data": {
      "application/vnd.jupyter.widget-view+json": {
       "model_id": "b96cb49525b941a5a4acdebbd99dd771",
       "version_major": 2,
       "version_minor": 0
      },
      "text/plain": [
       "  0%|          | 0/91 [00:00<?, ?it/s]"
      ]
     },
     "metadata": {},
     "output_type": "display_data"
    },
    {
     "data": {
      "application/vnd.jupyter.widget-view+json": {
       "model_id": "0bc39ef4a0554a72989e249dc8809bd7",
       "version_major": 2,
       "version_minor": 0
      },
      "text/plain": [
       "  0%|          | 0/19 [00:00<?, ?it/s]"
      ]
     },
     "metadata": {},
     "output_type": "display_data"
    },
    {
     "data": {
      "application/vnd.jupyter.widget-view+json": {
       "model_id": "e77cad788d4b4ac9ae214797bba5175e",
       "version_major": 2,
       "version_minor": 0
      },
      "text/plain": [
       "  0%|          | 0/29 [00:00<?, ?it/s]"
      ]
     },
     "metadata": {},
     "output_type": "display_data"
    },
    {
     "data": {
      "application/vnd.jupyter.widget-view+json": {
       "model_id": "8307658aa3d54a97b7a9be745c8d7b6f",
       "version_major": 2,
       "version_minor": 0
      },
      "text/plain": [
       "  0%|          | 0/9 [00:00<?, ?it/s]"
      ]
     },
     "metadata": {},
     "output_type": "display_data"
    },
    {
     "data": {
      "application/vnd.jupyter.widget-view+json": {
       "model_id": "3a7e921adb284d29b5c732b3f91821b5",
       "version_major": 2,
       "version_minor": 0
      },
      "text/plain": [
       "  0%|          | 0/6 [00:00<?, ?it/s]"
      ]
     },
     "metadata": {},
     "output_type": "display_data"
    },
    {
     "data": {
      "application/vnd.jupyter.widget-view+json": {
       "model_id": "d88b22ebfe864bab8df389663d6b775b",
       "version_major": 2,
       "version_minor": 0
      },
      "text/plain": [
       "  0%|          | 0/7 [00:00<?, ?it/s]"
      ]
     },
     "metadata": {},
     "output_type": "display_data"
    },
    {
     "data": {
      "application/vnd.jupyter.widget-view+json": {
       "model_id": "ef6054a9b8bc4c888dccc3bbcb79ac06",
       "version_major": 2,
       "version_minor": 0
      },
      "text/plain": [
       "  0%|          | 0/7 [00:00<?, ?it/s]"
      ]
     },
     "metadata": {},
     "output_type": "display_data"
    },
    {
     "data": {
      "application/vnd.jupyter.widget-view+json": {
       "model_id": "ecfc0d50d73944b9895ee964af8920ef",
       "version_major": 2,
       "version_minor": 0
      },
      "text/plain": [
       "  0%|          | 0/6 [00:00<?, ?it/s]"
      ]
     },
     "metadata": {},
     "output_type": "display_data"
    },
    {
     "data": {
      "application/vnd.jupyter.widget-view+json": {
       "model_id": "e0bce91dc479493598cf9e989821e798",
       "version_major": 2,
       "version_minor": 0
      },
      "text/plain": [
       "  0%|          | 0/25 [00:00<?, ?it/s]"
      ]
     },
     "metadata": {},
     "output_type": "display_data"
    },
    {
     "data": {
      "application/vnd.jupyter.widget-view+json": {
       "model_id": "0b6470a81a6d40779a6a7ff24e47295e",
       "version_major": 2,
       "version_minor": 0
      },
      "text/plain": [
       "  0%|          | 0/3 [00:00<?, ?it/s]"
      ]
     },
     "metadata": {},
     "output_type": "display_data"
    },
    {
     "data": {
      "application/vnd.jupyter.widget-view+json": {
       "model_id": "0d77f716a26b47968cbdb404538aa7f1",
       "version_major": 2,
       "version_minor": 0
      },
      "text/plain": [
       "  0%|          | 0/6 [00:00<?, ?it/s]"
      ]
     },
     "metadata": {},
     "output_type": "display_data"
    },
    {
     "data": {
      "application/vnd.jupyter.widget-view+json": {
       "model_id": "db95d3da8d5b4fe18b4fcf3ee1258c7a",
       "version_major": 2,
       "version_minor": 0
      },
      "text/plain": [
       "  0%|          | 0/11 [00:00<?, ?it/s]"
      ]
     },
     "metadata": {},
     "output_type": "display_data"
    },
    {
     "data": {
      "application/vnd.jupyter.widget-view+json": {
       "model_id": "bb94783fac59453e98fccb36c99294d1",
       "version_major": 2,
       "version_minor": 0
      },
      "text/plain": [
       "  0%|          | 0/3 [00:00<?, ?it/s]"
      ]
     },
     "metadata": {},
     "output_type": "display_data"
    },
    {
     "data": {
      "application/vnd.jupyter.widget-view+json": {
       "model_id": "6fbe53fad8004deea6846c65050f73fb",
       "version_major": 2,
       "version_minor": 0
      },
      "text/plain": [
       "  0%|          | 0/5 [00:00<?, ?it/s]"
      ]
     },
     "metadata": {},
     "output_type": "display_data"
    },
    {
     "data": {
      "application/vnd.jupyter.widget-view+json": {
       "model_id": "c31cf98b2d0844329f25e01ba20b3470",
       "version_major": 2,
       "version_minor": 0
      },
      "text/plain": [
       "  0%|          | 0/2 [00:00<?, ?it/s]"
      ]
     },
     "metadata": {},
     "output_type": "display_data"
    },
    {
     "data": {
      "application/vnd.jupyter.widget-view+json": {
       "model_id": "d99d82dfd5304148979fe5a7f4cd08de",
       "version_major": 2,
       "version_minor": 0
      },
      "text/plain": [
       "  0%|          | 0/15 [00:00<?, ?it/s]"
      ]
     },
     "metadata": {},
     "output_type": "display_data"
    },
    {
     "data": {
      "application/vnd.jupyter.widget-view+json": {
       "model_id": "f62afa266741460aabe5abfa046476c2",
       "version_major": 2,
       "version_minor": 0
      },
      "text/plain": [
       "  0%|          | 0/28 [00:00<?, ?it/s]"
      ]
     },
     "metadata": {},
     "output_type": "display_data"
    },
    {
     "data": {
      "application/vnd.jupyter.widget-view+json": {
       "model_id": "9d87fecbb6a145ee851f4595ba60926c",
       "version_major": 2,
       "version_minor": 0
      },
      "text/plain": [
       "  0%|          | 0/29 [00:00<?, ?it/s]"
      ]
     },
     "metadata": {},
     "output_type": "display_data"
    },
    {
     "data": {
      "application/vnd.jupyter.widget-view+json": {
       "model_id": "a08f7f6443a44574b9960705fd2715c8",
       "version_major": 2,
       "version_minor": 0
      },
      "text/plain": [
       "  0%|          | 0/5 [00:00<?, ?it/s]"
      ]
     },
     "metadata": {},
     "output_type": "display_data"
    },
    {
     "data": {
      "application/vnd.jupyter.widget-view+json": {
       "model_id": "3cbc520059c7479da595bbdd92447893",
       "version_major": 2,
       "version_minor": 0
      },
      "text/plain": [
       "  0%|          | 0/16 [00:00<?, ?it/s]"
      ]
     },
     "metadata": {},
     "output_type": "display_data"
    },
    {
     "data": {
      "application/vnd.jupyter.widget-view+json": {
       "model_id": "c17208a517bb41e888ea32b6634132e5",
       "version_major": 2,
       "version_minor": 0
      },
      "text/plain": [
       "  0%|          | 0/22 [00:00<?, ?it/s]"
      ]
     },
     "metadata": {},
     "output_type": "display_data"
    },
    {
     "data": {
      "application/vnd.jupyter.widget-view+json": {
       "model_id": "67e347855dac4ea7808c5d4cad0cac52",
       "version_major": 2,
       "version_minor": 0
      },
      "text/plain": [
       "  0%|          | 0/5 [00:00<?, ?it/s]"
      ]
     },
     "metadata": {},
     "output_type": "display_data"
    },
    {
     "data": {
      "application/vnd.jupyter.widget-view+json": {
       "model_id": "cfd7afbe970d4bf49d8f53c03a1f5aba",
       "version_major": 2,
       "version_minor": 0
      },
      "text/plain": [
       "  0%|          | 0/9 [00:00<?, ?it/s]"
      ]
     },
     "metadata": {},
     "output_type": "display_data"
    },
    {
     "data": {
      "application/vnd.jupyter.widget-view+json": {
       "model_id": "4a12f2238a2545abaaf1d4159911701c",
       "version_major": 2,
       "version_minor": 0
      },
      "text/plain": [
       "  0%|          | 0/6 [00:00<?, ?it/s]"
      ]
     },
     "metadata": {},
     "output_type": "display_data"
    },
    {
     "data": {
      "application/vnd.jupyter.widget-view+json": {
       "model_id": "3ab23447f6e1458592bb3ddf3d69da54",
       "version_major": 2,
       "version_minor": 0
      },
      "text/plain": [
       "  0%|          | 0/3 [00:00<?, ?it/s]"
      ]
     },
     "metadata": {},
     "output_type": "display_data"
    },
    {
     "data": {
      "application/vnd.jupyter.widget-view+json": {
       "model_id": "2e61ce73432442fa9cb4a9e9fefffe0c",
       "version_major": 2,
       "version_minor": 0
      },
      "text/plain": [
       "  0%|          | 0/17 [00:00<?, ?it/s]"
      ]
     },
     "metadata": {},
     "output_type": "display_data"
    },
    {
     "data": {
      "application/vnd.jupyter.widget-view+json": {
       "model_id": "2221c78d2b984714852187b88b160f6e",
       "version_major": 2,
       "version_minor": 0
      },
      "text/plain": [
       "  0%|          | 0/6 [00:00<?, ?it/s]"
      ]
     },
     "metadata": {},
     "output_type": "display_data"
    },
    {
     "data": {
      "application/vnd.jupyter.widget-view+json": {
       "model_id": "7064e017493c476fb4fd6629f434745b",
       "version_major": 2,
       "version_minor": 0
      },
      "text/plain": [
       "  0%|          | 0/5 [00:00<?, ?it/s]"
      ]
     },
     "metadata": {},
     "output_type": "display_data"
    },
    {
     "data": {
      "application/vnd.jupyter.widget-view+json": {
       "model_id": "2228f66792bf46f694761dd11fd19c9f",
       "version_major": 2,
       "version_minor": 0
      },
      "text/plain": [
       "  0%|          | 0/25 [00:00<?, ?it/s]"
      ]
     },
     "metadata": {},
     "output_type": "display_data"
    },
    {
     "data": {
      "application/vnd.jupyter.widget-view+json": {
       "model_id": "53d5ba6e35254851bd3989b37951cf21",
       "version_major": 2,
       "version_minor": 0
      },
      "text/plain": [
       "  0%|          | 0/21 [00:00<?, ?it/s]"
      ]
     },
     "metadata": {},
     "output_type": "display_data"
    },
    {
     "data": {
      "application/vnd.jupyter.widget-view+json": {
       "model_id": "30c42a801bbb4210ad8dddb068d9c4ca",
       "version_major": 2,
       "version_minor": 0
      },
      "text/plain": [
       "  0%|          | 0/13 [00:00<?, ?it/s]"
      ]
     },
     "metadata": {},
     "output_type": "display_data"
    },
    {
     "data": {
      "application/vnd.jupyter.widget-view+json": {
       "model_id": "7c239877404a41b1ba8ea1b063da1c8c",
       "version_major": 2,
       "version_minor": 0
      },
      "text/plain": [
       "  0%|          | 0/20 [00:00<?, ?it/s]"
      ]
     },
     "metadata": {},
     "output_type": "display_data"
    },
    {
     "data": {
      "application/vnd.jupyter.widget-view+json": {
       "model_id": "734d2d2cc00047319799a2ad1103f676",
       "version_major": 2,
       "version_minor": 0
      },
      "text/plain": [
       "  0%|          | 0/31 [00:00<?, ?it/s]"
      ]
     },
     "metadata": {},
     "output_type": "display_data"
    },
    {
     "data": {
      "application/vnd.jupyter.widget-view+json": {
       "model_id": "bce00ebe4b6743aca615833389b130d6",
       "version_major": 2,
       "version_minor": 0
      },
      "text/plain": [
       "  0%|          | 0/4 [00:00<?, ?it/s]"
      ]
     },
     "metadata": {},
     "output_type": "display_data"
    },
    {
     "data": {
      "application/vnd.jupyter.widget-view+json": {
       "model_id": "6b9a530dc0e04465b7404e8bc8b3a35e",
       "version_major": 2,
       "version_minor": 0
      },
      "text/plain": [
       "  0%|          | 0/21 [00:00<?, ?it/s]"
      ]
     },
     "metadata": {},
     "output_type": "display_data"
    },
    {
     "data": {
      "application/vnd.jupyter.widget-view+json": {
       "model_id": "f31713a50a074d22bddc807b6ff9b1a7",
       "version_major": 2,
       "version_minor": 0
      },
      "text/plain": [
       "  0%|          | 0/4 [00:00<?, ?it/s]"
      ]
     },
     "metadata": {},
     "output_type": "display_data"
    },
    {
     "data": {
      "application/vnd.jupyter.widget-view+json": {
       "model_id": "6528546c665749e79e45d1ca7bb6e67e",
       "version_major": 2,
       "version_minor": 0
      },
      "text/plain": [
       "  0%|          | 0/6 [00:00<?, ?it/s]"
      ]
     },
     "metadata": {},
     "output_type": "display_data"
    },
    {
     "data": {
      "application/vnd.jupyter.widget-view+json": {
       "model_id": "f68f3c7cb66e4fa79187851ce384b3a0",
       "version_major": 2,
       "version_minor": 0
      },
      "text/plain": [
       "  0%|          | 0/6 [00:00<?, ?it/s]"
      ]
     },
     "metadata": {},
     "output_type": "display_data"
    },
    {
     "data": {
      "application/vnd.jupyter.widget-view+json": {
       "model_id": "abd8a985cda3483ba43dac217e39095f",
       "version_major": 2,
       "version_minor": 0
      },
      "text/plain": [
       "  0%|          | 0/6 [00:00<?, ?it/s]"
      ]
     },
     "metadata": {},
     "output_type": "display_data"
    },
    {
     "data": {
      "application/vnd.jupyter.widget-view+json": {
       "model_id": "763e17df94364a40a8db52ea308658ec",
       "version_major": 2,
       "version_minor": 0
      },
      "text/plain": [
       "  0%|          | 0/12 [00:00<?, ?it/s]"
      ]
     },
     "metadata": {},
     "output_type": "display_data"
    },
    {
     "data": {
      "application/vnd.jupyter.widget-view+json": {
       "model_id": "ea8875b38037458b840d0056d014e62d",
       "version_major": 2,
       "version_minor": 0
      },
      "text/plain": [
       "  0%|          | 0/13 [00:00<?, ?it/s]"
      ]
     },
     "metadata": {},
     "output_type": "display_data"
    },
    {
     "data": {
      "application/vnd.jupyter.widget-view+json": {
       "model_id": "4a4710d4167f4078b0ce4c7f0e8e183b",
       "version_major": 2,
       "version_minor": 0
      },
      "text/plain": [
       "  0%|          | 0/8 [00:00<?, ?it/s]"
      ]
     },
     "metadata": {},
     "output_type": "display_data"
    },
    {
     "data": {
      "application/vnd.jupyter.widget-view+json": {
       "model_id": "9bd54e43c85f4e368fe168faef8e4db8",
       "version_major": 2,
       "version_minor": 0
      },
      "text/plain": [
       "  0%|          | 0/4 [00:00<?, ?it/s]"
      ]
     },
     "metadata": {},
     "output_type": "display_data"
    },
    {
     "data": {
      "application/vnd.jupyter.widget-view+json": {
       "model_id": "81eed302eb9043fca153802638637ac4",
       "version_major": 2,
       "version_minor": 0
      },
      "text/plain": [
       "  0%|          | 0/9 [00:00<?, ?it/s]"
      ]
     },
     "metadata": {},
     "output_type": "display_data"
    },
    {
     "data": {
      "application/vnd.jupyter.widget-view+json": {
       "model_id": "0acd1e8af98f459a9eb4606c893692b2",
       "version_major": 2,
       "version_minor": 0
      },
      "text/plain": [
       "  0%|          | 0/4 [00:00<?, ?it/s]"
      ]
     },
     "metadata": {},
     "output_type": "display_data"
    },
    {
     "data": {
      "application/vnd.jupyter.widget-view+json": {
       "model_id": "c6dda81c80c54da392271fe39b333f61",
       "version_major": 2,
       "version_minor": 0
      },
      "text/plain": [
       "  0%|          | 0/21 [00:00<?, ?it/s]"
      ]
     },
     "metadata": {},
     "output_type": "display_data"
    },
    {
     "data": {
      "application/vnd.jupyter.widget-view+json": {
       "model_id": "0ea732a4ec654fcbb93cf8d8e72a5de0",
       "version_major": 2,
       "version_minor": 0
      },
      "text/plain": [
       "  0%|          | 0/6 [00:00<?, ?it/s]"
      ]
     },
     "metadata": {},
     "output_type": "display_data"
    },
    {
     "data": {
      "application/vnd.jupyter.widget-view+json": {
       "model_id": "8baf3b1692344f1189c22c3b906a1adc",
       "version_major": 2,
       "version_minor": 0
      },
      "text/plain": [
       "  0%|          | 0/5 [00:00<?, ?it/s]"
      ]
     },
     "metadata": {},
     "output_type": "display_data"
    },
    {
     "data": {
      "application/vnd.jupyter.widget-view+json": {
       "model_id": "4ac81b2d417c49c6941b30b30296899c",
       "version_major": 2,
       "version_minor": 0
      },
      "text/plain": [
       "  0%|          | 0/18 [00:00<?, ?it/s]"
      ]
     },
     "metadata": {},
     "output_type": "display_data"
    },
    {
     "data": {
      "application/vnd.jupyter.widget-view+json": {
       "model_id": "267cc5538b484ddb9f29fe1fe597da57",
       "version_major": 2,
       "version_minor": 0
      },
      "text/plain": [
       "  0%|          | 0/1 [00:00<?, ?it/s]"
      ]
     },
     "metadata": {},
     "output_type": "display_data"
    },
    {
     "data": {
      "application/vnd.jupyter.widget-view+json": {
       "model_id": "7fdd90ebab23437c9a1220ad26265592",
       "version_major": 2,
       "version_minor": 0
      },
      "text/plain": [
       "  0%|          | 0/9 [00:00<?, ?it/s]"
      ]
     },
     "metadata": {},
     "output_type": "display_data"
    },
    {
     "data": {
      "application/vnd.jupyter.widget-view+json": {
       "model_id": "52c5cc706898476985385f0463c7eec7",
       "version_major": 2,
       "version_minor": 0
      },
      "text/plain": [
       "  0%|          | 0/4 [00:00<?, ?it/s]"
      ]
     },
     "metadata": {},
     "output_type": "display_data"
    },
    {
     "data": {
      "application/vnd.jupyter.widget-view+json": {
       "model_id": "32483a3644274c03a54ef9f4fb890f59",
       "version_major": 2,
       "version_minor": 0
      },
      "text/plain": [
       "  0%|          | 0/2 [00:00<?, ?it/s]"
      ]
     },
     "metadata": {},
     "output_type": "display_data"
    },
    {
     "data": {
      "application/vnd.jupyter.widget-view+json": {
       "model_id": "1345bdfb121c417c94f189f8bfce3319",
       "version_major": 2,
       "version_minor": 0
      },
      "text/plain": [
       "  0%|          | 0/7 [00:00<?, ?it/s]"
      ]
     },
     "metadata": {},
     "output_type": "display_data"
    },
    {
     "data": {
      "application/vnd.jupyter.widget-view+json": {
       "model_id": "46fc42d0d9984f028f1d591e4ec22915",
       "version_major": 2,
       "version_minor": 0
      },
      "text/plain": [
       "  0%|          | 0/4 [00:00<?, ?it/s]"
      ]
     },
     "metadata": {},
     "output_type": "display_data"
    },
    {
     "data": {
      "application/vnd.jupyter.widget-view+json": {
       "model_id": "55f64d81034d40d78dfc9b4761df45e6",
       "version_major": 2,
       "version_minor": 0
      },
      "text/plain": [
       "  0%|          | 0/12 [00:00<?, ?it/s]"
      ]
     },
     "metadata": {},
     "output_type": "display_data"
    },
    {
     "data": {
      "application/vnd.jupyter.widget-view+json": {
       "model_id": "62880b436a30455a80c8b682da4e7b3c",
       "version_major": 2,
       "version_minor": 0
      },
      "text/plain": [
       "  0%|          | 0/26 [00:00<?, ?it/s]"
      ]
     },
     "metadata": {},
     "output_type": "display_data"
    },
    {
     "data": {
      "application/vnd.jupyter.widget-view+json": {
       "model_id": "e6d76a9ae53445c3a81fcecf77853d0f",
       "version_major": 2,
       "version_minor": 0
      },
      "text/plain": [
       "  0%|          | 0/3 [00:00<?, ?it/s]"
      ]
     },
     "metadata": {},
     "output_type": "display_data"
    },
    {
     "data": {
      "application/vnd.jupyter.widget-view+json": {
       "model_id": "e157fc94346c448b85fa88e5afbae115",
       "version_major": 2,
       "version_minor": 0
      },
      "text/plain": [
       "  0%|          | 0/4 [00:00<?, ?it/s]"
      ]
     },
     "metadata": {},
     "output_type": "display_data"
    },
    {
     "data": {
      "application/vnd.jupyter.widget-view+json": {
       "model_id": "79e52671b1344ab696a45ee2a975184e",
       "version_major": 2,
       "version_minor": 0
      },
      "text/plain": [
       "  0%|          | 0/7 [00:00<?, ?it/s]"
      ]
     },
     "metadata": {},
     "output_type": "display_data"
    },
    {
     "data": {
      "application/vnd.jupyter.widget-view+json": {
       "model_id": "5913e3069ab343919ab7ece6d98625eb",
       "version_major": 2,
       "version_minor": 0
      },
      "text/plain": [
       "  0%|          | 0/44 [00:00<?, ?it/s]"
      ]
     },
     "metadata": {},
     "output_type": "display_data"
    },
    {
     "data": {
      "application/vnd.jupyter.widget-view+json": {
       "model_id": "4e2087c19a13464089ace5f574ac8031",
       "version_major": 2,
       "version_minor": 0
      },
      "text/plain": [
       "  0%|          | 0/8 [00:00<?, ?it/s]"
      ]
     },
     "metadata": {},
     "output_type": "display_data"
    },
    {
     "data": {
      "application/vnd.jupyter.widget-view+json": {
       "model_id": "c5774d1653f64ff3bfffad397fdb8352",
       "version_major": 2,
       "version_minor": 0
      },
      "text/plain": [
       "  0%|          | 0/10 [00:00<?, ?it/s]"
      ]
     },
     "metadata": {},
     "output_type": "display_data"
    },
    {
     "data": {
      "application/vnd.jupyter.widget-view+json": {
       "model_id": "b08ce50120e04c9593d2429c3a4cc13f",
       "version_major": 2,
       "version_minor": 0
      },
      "text/plain": [
       "  0%|          | 0/5 [00:00<?, ?it/s]"
      ]
     },
     "metadata": {},
     "output_type": "display_data"
    },
    {
     "data": {
      "application/vnd.jupyter.widget-view+json": {
       "model_id": "69df7092279c4dd8bc52957a9a6ac975",
       "version_major": 2,
       "version_minor": 0
      },
      "text/plain": [
       "  0%|          | 0/15 [00:00<?, ?it/s]"
      ]
     },
     "metadata": {},
     "output_type": "display_data"
    },
    {
     "data": {
      "application/vnd.jupyter.widget-view+json": {
       "model_id": "71caeae524f8458688a6aa3beebee7b0",
       "version_major": 2,
       "version_minor": 0
      },
      "text/plain": [
       "  0%|          | 0/6 [00:00<?, ?it/s]"
      ]
     },
     "metadata": {},
     "output_type": "display_data"
    },
    {
     "data": {
      "application/vnd.jupyter.widget-view+json": {
       "model_id": "c03f0f0cd42c4624ae0043a23b331077",
       "version_major": 2,
       "version_minor": 0
      },
      "text/plain": [
       "  0%|          | 0/4 [00:00<?, ?it/s]"
      ]
     },
     "metadata": {},
     "output_type": "display_data"
    },
    {
     "data": {
      "application/vnd.jupyter.widget-view+json": {
       "model_id": "1470a60c9612402aa108b5f881a7d425",
       "version_major": 2,
       "version_minor": 0
      },
      "text/plain": [
       "  0%|          | 0/4 [00:00<?, ?it/s]"
      ]
     },
     "metadata": {},
     "output_type": "display_data"
    },
    {
     "data": {
      "application/vnd.jupyter.widget-view+json": {
       "model_id": "422feb98ef16434f945fd51633924894",
       "version_major": 2,
       "version_minor": 0
      },
      "text/plain": [
       "  0%|          | 0/34 [00:00<?, ?it/s]"
      ]
     },
     "metadata": {},
     "output_type": "display_data"
    },
    {
     "data": {
      "application/vnd.jupyter.widget-view+json": {
       "model_id": "9f5f98cde11544f19a65b7d5b5b4d8cd",
       "version_major": 2,
       "version_minor": 0
      },
      "text/plain": [
       "  0%|          | 0/6 [00:00<?, ?it/s]"
      ]
     },
     "metadata": {},
     "output_type": "display_data"
    },
    {
     "data": {
      "application/vnd.jupyter.widget-view+json": {
       "model_id": "67b6ff6743c84189af8f04bb6e176b6a",
       "version_major": 2,
       "version_minor": 0
      },
      "text/plain": [
       "  0%|          | 0/19 [00:00<?, ?it/s]"
      ]
     },
     "metadata": {},
     "output_type": "display_data"
    },
    {
     "data": {
      "application/vnd.jupyter.widget-view+json": {
       "model_id": "f16f9f8155a04e5896933cd8a2287fdd",
       "version_major": 2,
       "version_minor": 0
      },
      "text/plain": [
       "  0%|          | 0/4 [00:00<?, ?it/s]"
      ]
     },
     "metadata": {},
     "output_type": "display_data"
    },
    {
     "data": {
      "application/vnd.jupyter.widget-view+json": {
       "model_id": "df4cf8f92d4444da94599c08fd738b37",
       "version_major": 2,
       "version_minor": 0
      },
      "text/plain": [
       "  0%|          | 0/14 [00:00<?, ?it/s]"
      ]
     },
     "metadata": {},
     "output_type": "display_data"
    },
    {
     "data": {
      "application/vnd.jupyter.widget-view+json": {
       "model_id": "152fda9e1ae14700847290658cf80d39",
       "version_major": 2,
       "version_minor": 0
      },
      "text/plain": [
       "  0%|          | 0/8 [00:00<?, ?it/s]"
      ]
     },
     "metadata": {},
     "output_type": "display_data"
    },
    {
     "data": {
      "application/vnd.jupyter.widget-view+json": {
       "model_id": "b3169738d5b34376884fccc3eca8999a",
       "version_major": 2,
       "version_minor": 0
      },
      "text/plain": [
       "  0%|          | 0/12 [00:00<?, ?it/s]"
      ]
     },
     "metadata": {},
     "output_type": "display_data"
    },
    {
     "data": {
      "application/vnd.jupyter.widget-view+json": {
       "model_id": "f1443e6c2e2342c5a3856edc60aa209a",
       "version_major": 2,
       "version_minor": 0
      },
      "text/plain": [
       "  0%|          | 0/4 [00:00<?, ?it/s]"
      ]
     },
     "metadata": {},
     "output_type": "display_data"
    },
    {
     "data": {
      "application/vnd.jupyter.widget-view+json": {
       "model_id": "8392f53d8611409683b7f70171fe7284",
       "version_major": 2,
       "version_minor": 0
      },
      "text/plain": [
       "  0%|          | 0/1 [00:00<?, ?it/s]"
      ]
     },
     "metadata": {},
     "output_type": "display_data"
    },
    {
     "data": {
      "application/vnd.jupyter.widget-view+json": {
       "model_id": "dffc78d097014e91b5ef924ae1e3e6e4",
       "version_major": 2,
       "version_minor": 0
      },
      "text/plain": [
       "  0%|          | 0/6 [00:00<?, ?it/s]"
      ]
     },
     "metadata": {},
     "output_type": "display_data"
    },
    {
     "data": {
      "application/vnd.jupyter.widget-view+json": {
       "model_id": "a9e9d5063d914584ac0f6f973b5d34ed",
       "version_major": 2,
       "version_minor": 0
      },
      "text/plain": [
       "  0%|          | 0/4 [00:00<?, ?it/s]"
      ]
     },
     "metadata": {},
     "output_type": "display_data"
    },
    {
     "data": {
      "application/vnd.jupyter.widget-view+json": {
       "model_id": "6a05c0f8c7664febab8ad41b0a90a713",
       "version_major": 2,
       "version_minor": 0
      },
      "text/plain": [
       "  0%|          | 0/4 [00:00<?, ?it/s]"
      ]
     },
     "metadata": {},
     "output_type": "display_data"
    },
    {
     "data": {
      "application/vnd.jupyter.widget-view+json": {
       "model_id": "3216725caeb24041be6079ea5f4d33ab",
       "version_major": 2,
       "version_minor": 0
      },
      "text/plain": [
       "  0%|          | 0/11 [00:00<?, ?it/s]"
      ]
     },
     "metadata": {},
     "output_type": "display_data"
    },
    {
     "data": {
      "application/vnd.jupyter.widget-view+json": {
       "model_id": "8a826e073e5e4531aeb1d0d815ccb0e6",
       "version_major": 2,
       "version_minor": 0
      },
      "text/plain": [
       "  0%|          | 0/13 [00:00<?, ?it/s]"
      ]
     },
     "metadata": {},
     "output_type": "display_data"
    },
    {
     "data": {
      "application/vnd.jupyter.widget-view+json": {
       "model_id": "2fe7ddd2ccd0482aa506e28647fea28d",
       "version_major": 2,
       "version_minor": 0
      },
      "text/plain": [
       "  0%|          | 0/4 [00:00<?, ?it/s]"
      ]
     },
     "metadata": {},
     "output_type": "display_data"
    },
    {
     "data": {
      "application/vnd.jupyter.widget-view+json": {
       "model_id": "7f339314a671498e9a80218799d3a247",
       "version_major": 2,
       "version_minor": 0
      },
      "text/plain": [
       "  0%|          | 0/3 [00:00<?, ?it/s]"
      ]
     },
     "metadata": {},
     "output_type": "display_data"
    },
    {
     "data": {
      "application/vnd.jupyter.widget-view+json": {
       "model_id": "ed9b76e3479b4022ba3f7e6d8d12c9b6",
       "version_major": 2,
       "version_minor": 0
      },
      "text/plain": [
       "  0%|          | 0/8 [00:00<?, ?it/s]"
      ]
     },
     "metadata": {},
     "output_type": "display_data"
    },
    {
     "data": {
      "application/vnd.jupyter.widget-view+json": {
       "model_id": "75672939dfbb48dd9a24616fc57e5eb0",
       "version_major": 2,
       "version_minor": 0
      },
      "text/plain": [
       "  0%|          | 0/7 [00:00<?, ?it/s]"
      ]
     },
     "metadata": {},
     "output_type": "display_data"
    },
    {
     "data": {
      "application/vnd.jupyter.widget-view+json": {
       "model_id": "40abd18f52f948168f6c3ad8e0d5ad91",
       "version_major": 2,
       "version_minor": 0
      },
      "text/plain": [
       "  0%|          | 0/7 [00:00<?, ?it/s]"
      ]
     },
     "metadata": {},
     "output_type": "display_data"
    },
    {
     "data": {
      "application/vnd.jupyter.widget-view+json": {
       "model_id": "1ab60bedc4f24ea59d0d925fee256762",
       "version_major": 2,
       "version_minor": 0
      },
      "text/plain": [
       "  0%|          | 0/8 [00:00<?, ?it/s]"
      ]
     },
     "metadata": {},
     "output_type": "display_data"
    },
    {
     "data": {
      "application/vnd.jupyter.widget-view+json": {
       "model_id": "b6bacfb1de08481592f12e44988cd2aa",
       "version_major": 2,
       "version_minor": 0
      },
      "text/plain": [
       "  0%|          | 0/10 [00:00<?, ?it/s]"
      ]
     },
     "metadata": {},
     "output_type": "display_data"
    },
    {
     "data": {
      "application/vnd.jupyter.widget-view+json": {
       "model_id": "04e75b10fb1648fab6ea5af93d69af7c",
       "version_major": 2,
       "version_minor": 0
      },
      "text/plain": [
       "  0%|          | 0/4 [00:00<?, ?it/s]"
      ]
     },
     "metadata": {},
     "output_type": "display_data"
    },
    {
     "data": {
      "application/vnd.jupyter.widget-view+json": {
       "model_id": "a1101545291642dc8a605076e3c1f615",
       "version_major": 2,
       "version_minor": 0
      },
      "text/plain": [
       "  0%|          | 0/9 [00:00<?, ?it/s]"
      ]
     },
     "metadata": {},
     "output_type": "display_data"
    },
    {
     "data": {
      "application/vnd.jupyter.widget-view+json": {
       "model_id": "87ec85ba9fb84aeab91e6b5134b056e7",
       "version_major": 2,
       "version_minor": 0
      },
      "text/plain": [
       "  0%|          | 0/6 [00:00<?, ?it/s]"
      ]
     },
     "metadata": {},
     "output_type": "display_data"
    },
    {
     "data": {
      "application/vnd.jupyter.widget-view+json": {
       "model_id": "bd8b5a63b75047a88b451ca67c43a0d8",
       "version_major": 2,
       "version_minor": 0
      },
      "text/plain": [
       "  0%|          | 0/5 [00:00<?, ?it/s]"
      ]
     },
     "metadata": {},
     "output_type": "display_data"
    },
    {
     "data": {
      "application/vnd.jupyter.widget-view+json": {
       "model_id": "365e358c1b774490bfacc6541273a55a",
       "version_major": 2,
       "version_minor": 0
      },
      "text/plain": [
       "  0%|          | 0/13 [00:00<?, ?it/s]"
      ]
     },
     "metadata": {},
     "output_type": "display_data"
    },
    {
     "data": {
      "application/vnd.jupyter.widget-view+json": {
       "model_id": "ceb88fa109434d2cbc0e8ff84d03f746",
       "version_major": 2,
       "version_minor": 0
      },
      "text/plain": [
       "  0%|          | 0/2 [00:00<?, ?it/s]"
      ]
     },
     "metadata": {},
     "output_type": "display_data"
    },
    {
     "data": {
      "application/vnd.jupyter.widget-view+json": {
       "model_id": "0e7c2463d9db4a4eab7cde9b64199d20",
       "version_major": 2,
       "version_minor": 0
      },
      "text/plain": [
       "  0%|          | 0/7 [00:00<?, ?it/s]"
      ]
     },
     "metadata": {},
     "output_type": "display_data"
    },
    {
     "data": {
      "application/vnd.jupyter.widget-view+json": {
       "model_id": "fac18590f34d4710894addccc5a75b22",
       "version_major": 2,
       "version_minor": 0
      },
      "text/plain": [
       "  0%|          | 0/5 [00:00<?, ?it/s]"
      ]
     },
     "metadata": {},
     "output_type": "display_data"
    },
    {
     "data": {
      "application/vnd.jupyter.widget-view+json": {
       "model_id": "40a47cdd5cee4547b34c856b734d36a1",
       "version_major": 2,
       "version_minor": 0
      },
      "text/plain": [
       "  0%|          | 0/23 [00:00<?, ?it/s]"
      ]
     },
     "metadata": {},
     "output_type": "display_data"
    },
    {
     "data": {
      "application/vnd.jupyter.widget-view+json": {
       "model_id": "52b17f5b595b4dce9edc266260d6a194",
       "version_major": 2,
       "version_minor": 0
      },
      "text/plain": [
       "  0%|          | 0/15 [00:00<?, ?it/s]"
      ]
     },
     "metadata": {},
     "output_type": "display_data"
    },
    {
     "data": {
      "application/vnd.jupyter.widget-view+json": {
       "model_id": "4d821ae44463434e9acb883129f5e93b",
       "version_major": 2,
       "version_minor": 0
      },
      "text/plain": [
       "  0%|          | 0/26 [00:00<?, ?it/s]"
      ]
     },
     "metadata": {},
     "output_type": "display_data"
    },
    {
     "data": {
      "application/vnd.jupyter.widget-view+json": {
       "model_id": "1dcf5ac0ef544aacaad371020e3b3ce3",
       "version_major": 2,
       "version_minor": 0
      },
      "text/plain": [
       "  0%|          | 0/9 [00:00<?, ?it/s]"
      ]
     },
     "metadata": {},
     "output_type": "display_data"
    },
    {
     "data": {
      "application/vnd.jupyter.widget-view+json": {
       "model_id": "0bf16b1dc2ab4155ad261d1137b14026",
       "version_major": 2,
       "version_minor": 0
      },
      "text/plain": [
       "  0%|          | 0/6 [00:00<?, ?it/s]"
      ]
     },
     "metadata": {},
     "output_type": "display_data"
    },
    {
     "data": {
      "application/vnd.jupyter.widget-view+json": {
       "model_id": "8262265c703647ec860e704164901447",
       "version_major": 2,
       "version_minor": 0
      },
      "text/plain": [
       "  0%|          | 0/4 [00:00<?, ?it/s]"
      ]
     },
     "metadata": {},
     "output_type": "display_data"
    },
    {
     "data": {
      "application/vnd.jupyter.widget-view+json": {
       "model_id": "298fad01f09249cc9400c660eab98b2d",
       "version_major": 2,
       "version_minor": 0
      },
      "text/plain": [
       "  0%|          | 0/11 [00:00<?, ?it/s]"
      ]
     },
     "metadata": {},
     "output_type": "display_data"
    },
    {
     "data": {
      "application/vnd.jupyter.widget-view+json": {
       "model_id": "79829ac6e43149dd9091632efbb19dbe",
       "version_major": 2,
       "version_minor": 0
      },
      "text/plain": [
       "  0%|          | 0/7 [00:00<?, ?it/s]"
      ]
     },
     "metadata": {},
     "output_type": "display_data"
    },
    {
     "data": {
      "application/vnd.jupyter.widget-view+json": {
       "model_id": "0ea4cad917ff4a068d730367374d0f39",
       "version_major": 2,
       "version_minor": 0
      },
      "text/plain": [
       "  0%|          | 0/7 [00:00<?, ?it/s]"
      ]
     },
     "metadata": {},
     "output_type": "display_data"
    },
    {
     "data": {
      "application/vnd.jupyter.widget-view+json": {
       "model_id": "1ee292fa99d9494f813387b6690ab841",
       "version_major": 2,
       "version_minor": 0
      },
      "text/plain": [
       "  0%|          | 0/5 [00:00<?, ?it/s]"
      ]
     },
     "metadata": {},
     "output_type": "display_data"
    },
    {
     "data": {
      "application/vnd.jupyter.widget-view+json": {
       "model_id": "996fc89772624267a6938bf8fd1c80f5",
       "version_major": 2,
       "version_minor": 0
      },
      "text/plain": [
       "  0%|          | 0/4 [00:00<?, ?it/s]"
      ]
     },
     "metadata": {},
     "output_type": "display_data"
    },
    {
     "data": {
      "application/vnd.jupyter.widget-view+json": {
       "model_id": "49da3fe5399f44cda7d1aa94456d9b9e",
       "version_major": 2,
       "version_minor": 0
      },
      "text/plain": [
       "  0%|          | 0/6 [00:00<?, ?it/s]"
      ]
     },
     "metadata": {},
     "output_type": "display_data"
    },
    {
     "data": {
      "application/vnd.jupyter.widget-view+json": {
       "model_id": "4d1434e8885b4278bdf21b7b1b725905",
       "version_major": 2,
       "version_minor": 0
      },
      "text/plain": [
       "  0%|          | 0/15 [00:00<?, ?it/s]"
      ]
     },
     "metadata": {},
     "output_type": "display_data"
    },
    {
     "data": {
      "application/vnd.jupyter.widget-view+json": {
       "model_id": "068b84bf72d94d52b77dfbe1ef2fd7ed",
       "version_major": 2,
       "version_minor": 0
      },
      "text/plain": [
       "  0%|          | 0/5 [00:00<?, ?it/s]"
      ]
     },
     "metadata": {},
     "output_type": "display_data"
    },
    {
     "data": {
      "application/vnd.jupyter.widget-view+json": {
       "model_id": "006f6e1cdc2d4e16a0ea7383addeb68f",
       "version_major": 2,
       "version_minor": 0
      },
      "text/plain": [
       "  0%|          | 0/9 [00:00<?, ?it/s]"
      ]
     },
     "metadata": {},
     "output_type": "display_data"
    },
    {
     "data": {
      "application/vnd.jupyter.widget-view+json": {
       "model_id": "2df9bf5d49184323b9155d52b6b05394",
       "version_major": 2,
       "version_minor": 0
      },
      "text/plain": [
       "  0%|          | 0/5 [00:00<?, ?it/s]"
      ]
     },
     "metadata": {},
     "output_type": "display_data"
    },
    {
     "data": {
      "application/vnd.jupyter.widget-view+json": {
       "model_id": "f4a0d4915e81420a91b63b0a3d302f27",
       "version_major": 2,
       "version_minor": 0
      },
      "text/plain": [
       "  0%|          | 0/23 [00:00<?, ?it/s]"
      ]
     },
     "metadata": {},
     "output_type": "display_data"
    },
    {
     "data": {
      "application/vnd.jupyter.widget-view+json": {
       "model_id": "f5dde39d89cc42ffaa148dc8aea1a300",
       "version_major": 2,
       "version_minor": 0
      },
      "text/plain": [
       "  0%|          | 0/16 [00:00<?, ?it/s]"
      ]
     },
     "metadata": {},
     "output_type": "display_data"
    },
    {
     "data": {
      "application/vnd.jupyter.widget-view+json": {
       "model_id": "5748db4f071f404caadf101cd9f46506",
       "version_major": 2,
       "version_minor": 0
      },
      "text/plain": [
       "  0%|          | 0/28 [00:00<?, ?it/s]"
      ]
     },
     "metadata": {},
     "output_type": "display_data"
    },
    {
     "data": {
      "application/vnd.jupyter.widget-view+json": {
       "model_id": "865894ad281f4578a6d5b80c82d7398f",
       "version_major": 2,
       "version_minor": 0
      },
      "text/plain": [
       "  0%|          | 0/11 [00:00<?, ?it/s]"
      ]
     },
     "metadata": {},
     "output_type": "display_data"
    },
    {
     "data": {
      "application/vnd.jupyter.widget-view+json": {
       "model_id": "8d59e609ffc24c848d71812d69e55c0c",
       "version_major": 2,
       "version_minor": 0
      },
      "text/plain": [
       "  0%|          | 0/2 [00:00<?, ?it/s]"
      ]
     },
     "metadata": {},
     "output_type": "display_data"
    },
    {
     "data": {
      "application/vnd.jupyter.widget-view+json": {
       "model_id": "49f1e09546da428f8748dcbf7800687f",
       "version_major": 2,
       "version_minor": 0
      },
      "text/plain": [
       "  0%|          | 0/10 [00:00<?, ?it/s]"
      ]
     },
     "metadata": {},
     "output_type": "display_data"
    },
    {
     "data": {
      "application/vnd.jupyter.widget-view+json": {
       "model_id": "5f5345a4b266448ead4907964512861f",
       "version_major": 2,
       "version_minor": 0
      },
      "text/plain": [
       "  0%|          | 0/12 [00:00<?, ?it/s]"
      ]
     },
     "metadata": {},
     "output_type": "display_data"
    },
    {
     "data": {
      "application/vnd.jupyter.widget-view+json": {
       "model_id": "925353a04f6c44fc9d27bddb72cd186e",
       "version_major": 2,
       "version_minor": 0
      },
      "text/plain": [
       "  0%|          | 0/12 [00:00<?, ?it/s]"
      ]
     },
     "metadata": {},
     "output_type": "display_data"
    },
    {
     "data": {
      "application/vnd.jupyter.widget-view+json": {
       "model_id": "6c45a0a5cf034d00821512d1b35c2b5a",
       "version_major": 2,
       "version_minor": 0
      },
      "text/plain": [
       "  0%|          | 0/4 [00:00<?, ?it/s]"
      ]
     },
     "metadata": {},
     "output_type": "display_data"
    },
    {
     "data": {
      "application/vnd.jupyter.widget-view+json": {
       "model_id": "f6c9672a89e641a79d7df160518e61a3",
       "version_major": 2,
       "version_minor": 0
      },
      "text/plain": [
       "  0%|          | 0/18 [00:00<?, ?it/s]"
      ]
     },
     "metadata": {},
     "output_type": "display_data"
    },
    {
     "data": {
      "application/vnd.jupyter.widget-view+json": {
       "model_id": "ce54751b8bbf4b4ab24820484b39cb19",
       "version_major": 2,
       "version_minor": 0
      },
      "text/plain": [
       "  0%|          | 0/42 [00:00<?, ?it/s]"
      ]
     },
     "metadata": {},
     "output_type": "display_data"
    },
    {
     "data": {
      "application/vnd.jupyter.widget-view+json": {
       "model_id": "1205202176a34a90a3d3d56fc74d01d3",
       "version_major": 2,
       "version_minor": 0
      },
      "text/plain": [
       "  0%|          | 0/5 [00:00<?, ?it/s]"
      ]
     },
     "metadata": {},
     "output_type": "display_data"
    },
    {
     "data": {
      "application/vnd.jupyter.widget-view+json": {
       "model_id": "ea7426be9bca45ddaa463844a49f8b9e",
       "version_major": 2,
       "version_minor": 0
      },
      "text/plain": [
       "  0%|          | 0/13 [00:00<?, ?it/s]"
      ]
     },
     "metadata": {},
     "output_type": "display_data"
    },
    {
     "data": {
      "application/vnd.jupyter.widget-view+json": {
       "model_id": "b42b2b014cea45afa717c585979c8583",
       "version_major": 2,
       "version_minor": 0
      },
      "text/plain": [
       "  0%|          | 0/8 [00:00<?, ?it/s]"
      ]
     },
     "metadata": {},
     "output_type": "display_data"
    },
    {
     "data": {
      "application/vnd.jupyter.widget-view+json": {
       "model_id": "1debe9c6552b4a4092f6a9447469f80e",
       "version_major": 2,
       "version_minor": 0
      },
      "text/plain": [
       "  0%|          | 0/47 [00:00<?, ?it/s]"
      ]
     },
     "metadata": {},
     "output_type": "display_data"
    },
    {
     "data": {
      "application/vnd.jupyter.widget-view+json": {
       "model_id": "1a352995aa7e4257a6dd27c30201472f",
       "version_major": 2,
       "version_minor": 0
      },
      "text/plain": [
       "  0%|          | 0/4 [00:00<?, ?it/s]"
      ]
     },
     "metadata": {},
     "output_type": "display_data"
    },
    {
     "data": {
      "application/vnd.jupyter.widget-view+json": {
       "model_id": "154575e6593f40208f1e0b81ff443b94",
       "version_major": 2,
       "version_minor": 0
      },
      "text/plain": [
       "  0%|          | 0/4 [00:00<?, ?it/s]"
      ]
     },
     "metadata": {},
     "output_type": "display_data"
    },
    {
     "data": {
      "application/vnd.jupyter.widget-view+json": {
       "model_id": "29ba0784e59543cea322ebbea2c159c1",
       "version_major": 2,
       "version_minor": 0
      },
      "text/plain": [
       "  0%|          | 0/11 [00:00<?, ?it/s]"
      ]
     },
     "metadata": {},
     "output_type": "display_data"
    },
    {
     "data": {
      "application/vnd.jupyter.widget-view+json": {
       "model_id": "1dcb828494944c0e80b5ed6bcac755ba",
       "version_major": 2,
       "version_minor": 0
      },
      "text/plain": [
       "  0%|          | 0/16 [00:00<?, ?it/s]"
      ]
     },
     "metadata": {},
     "output_type": "display_data"
    },
    {
     "data": {
      "application/vnd.jupyter.widget-view+json": {
       "model_id": "09c38fb78f2a47f288cad27d2f6f02b9",
       "version_major": 2,
       "version_minor": 0
      },
      "text/plain": [
       "  0%|          | 0/10 [00:00<?, ?it/s]"
      ]
     },
     "metadata": {},
     "output_type": "display_data"
    },
    {
     "data": {
      "application/vnd.jupyter.widget-view+json": {
       "model_id": "dbb332f52d364ee283fdfbdfad919e09",
       "version_major": 2,
       "version_minor": 0
      },
      "text/plain": [
       "  0%|          | 0/25 [00:00<?, ?it/s]"
      ]
     },
     "metadata": {},
     "output_type": "display_data"
    },
    {
     "data": {
      "application/vnd.jupyter.widget-view+json": {
       "model_id": "c584f57d86254496800c0ae8544d32c2",
       "version_major": 2,
       "version_minor": 0
      },
      "text/plain": [
       "  0%|          | 0/21 [00:00<?, ?it/s]"
      ]
     },
     "metadata": {},
     "output_type": "display_data"
    },
    {
     "data": {
      "application/vnd.jupyter.widget-view+json": {
       "model_id": "8de971f8a85e446da4d7cf838d36b919",
       "version_major": 2,
       "version_minor": 0
      },
      "text/plain": [
       "  0%|          | 0/10 [00:00<?, ?it/s]"
      ]
     },
     "metadata": {},
     "output_type": "display_data"
    },
    {
     "data": {
      "application/vnd.jupyter.widget-view+json": {
       "model_id": "e5340725c38c4433b544c81ab5cd56f2",
       "version_major": 2,
       "version_minor": 0
      },
      "text/plain": [
       "  0%|          | 0/34 [00:00<?, ?it/s]"
      ]
     },
     "metadata": {},
     "output_type": "display_data"
    },
    {
     "data": {
      "application/vnd.jupyter.widget-view+json": {
       "model_id": "4e26802924544386a66c8429d02e8c42",
       "version_major": 2,
       "version_minor": 0
      },
      "text/plain": [
       "  0%|          | 0/6 [00:00<?, ?it/s]"
      ]
     },
     "metadata": {},
     "output_type": "display_data"
    },
    {
     "data": {
      "application/vnd.jupyter.widget-view+json": {
       "model_id": "76c6eed956004b12b3cd7ca7cf28ae62",
       "version_major": 2,
       "version_minor": 0
      },
      "text/plain": [
       "  0%|          | 0/18 [00:00<?, ?it/s]"
      ]
     },
     "metadata": {},
     "output_type": "display_data"
    },
    {
     "data": {
      "application/vnd.jupyter.widget-view+json": {
       "model_id": "2b57c18004f34697aa60a62a6198c703",
       "version_major": 2,
       "version_minor": 0
      },
      "text/plain": [
       "  0%|          | 0/14 [00:00<?, ?it/s]"
      ]
     },
     "metadata": {},
     "output_type": "display_data"
    },
    {
     "data": {
      "application/vnd.jupyter.widget-view+json": {
       "model_id": "99b2eb89417f40cd8074c47723fba7c2",
       "version_major": 2,
       "version_minor": 0
      },
      "text/plain": [
       "  0%|          | 0/17 [00:00<?, ?it/s]"
      ]
     },
     "metadata": {},
     "output_type": "display_data"
    },
    {
     "data": {
      "application/vnd.jupyter.widget-view+json": {
       "model_id": "d958022c89424a06a26b5822ce85ab4d",
       "version_major": 2,
       "version_minor": 0
      },
      "text/plain": [
       "  0%|          | 0/15 [00:00<?, ?it/s]"
      ]
     },
     "metadata": {},
     "output_type": "display_data"
    },
    {
     "data": {
      "application/vnd.jupyter.widget-view+json": {
       "model_id": "894383175edd4b458a6bf58b0ba70ad2",
       "version_major": 2,
       "version_minor": 0
      },
      "text/plain": [
       "  0%|          | 0/15 [00:00<?, ?it/s]"
      ]
     },
     "metadata": {},
     "output_type": "display_data"
    },
    {
     "data": {
      "application/vnd.jupyter.widget-view+json": {
       "model_id": "0eaa4b36e35a41e2a26d9894df1f3acb",
       "version_major": 2,
       "version_minor": 0
      },
      "text/plain": [
       "  0%|          | 0/22 [00:00<?, ?it/s]"
      ]
     },
     "metadata": {},
     "output_type": "display_data"
    },
    {
     "data": {
      "application/vnd.jupyter.widget-view+json": {
       "model_id": "06645a95bbe04b4f9d0706af39882e91",
       "version_major": 2,
       "version_minor": 0
      },
      "text/plain": [
       "  0%|          | 0/7 [00:00<?, ?it/s]"
      ]
     },
     "metadata": {},
     "output_type": "display_data"
    },
    {
     "data": {
      "application/vnd.jupyter.widget-view+json": {
       "model_id": "c7b759d1afdc4a81b103b6a50b202dd0",
       "version_major": 2,
       "version_minor": 0
      },
      "text/plain": [
       "  0%|          | 0/17 [00:00<?, ?it/s]"
      ]
     },
     "metadata": {},
     "output_type": "display_data"
    },
    {
     "data": {
      "application/vnd.jupyter.widget-view+json": {
       "model_id": "e028bb29d0c84857b12ddb4539878a61",
       "version_major": 2,
       "version_minor": 0
      },
      "text/plain": [
       "  0%|          | 0/23 [00:00<?, ?it/s]"
      ]
     },
     "metadata": {},
     "output_type": "display_data"
    },
    {
     "data": {
      "application/vnd.jupyter.widget-view+json": {
       "model_id": "591c39374b3e4318a636bb5ee6399a3e",
       "version_major": 2,
       "version_minor": 0
      },
      "text/plain": [
       "  0%|          | 0/14 [00:00<?, ?it/s]"
      ]
     },
     "metadata": {},
     "output_type": "display_data"
    },
    {
     "data": {
      "application/vnd.jupyter.widget-view+json": {
       "model_id": "b2cb0dfaa7934585960b0e722c6c08ee",
       "version_major": 2,
       "version_minor": 0
      },
      "text/plain": [
       "  0%|          | 0/15 [00:00<?, ?it/s]"
      ]
     },
     "metadata": {},
     "output_type": "display_data"
    },
    {
     "data": {
      "application/vnd.jupyter.widget-view+json": {
       "model_id": "5f02b1c5057b45f090b2c1ffa0f3afea",
       "version_major": 2,
       "version_minor": 0
      },
      "text/plain": [
       "  0%|          | 0/19 [00:00<?, ?it/s]"
      ]
     },
     "metadata": {},
     "output_type": "display_data"
    },
    {
     "data": {
      "application/vnd.jupyter.widget-view+json": {
       "model_id": "0790510ef0f342438ce8dc98ec1c7743",
       "version_major": 2,
       "version_minor": 0
      },
      "text/plain": [
       "  0%|          | 0/31 [00:00<?, ?it/s]"
      ]
     },
     "metadata": {},
     "output_type": "display_data"
    },
    {
     "data": {
      "application/vnd.jupyter.widget-view+json": {
       "model_id": "5f3045c9074540f6a52ca4c7af12299b",
       "version_major": 2,
       "version_minor": 0
      },
      "text/plain": [
       "  0%|          | 0/39 [00:00<?, ?it/s]"
      ]
     },
     "metadata": {},
     "output_type": "display_data"
    },
    {
     "data": {
      "application/vnd.jupyter.widget-view+json": {
       "model_id": "e065780a0dd647f886a10995f029fc0b",
       "version_major": 2,
       "version_minor": 0
      },
      "text/plain": [
       "  0%|          | 0/57 [00:00<?, ?it/s]"
      ]
     },
     "metadata": {},
     "output_type": "display_data"
    },
    {
     "data": {
      "application/vnd.jupyter.widget-view+json": {
       "model_id": "6e28ca5020ac4f17876a54270a96c3f4",
       "version_major": 2,
       "version_minor": 0
      },
      "text/plain": [
       "  0%|          | 0/20 [00:00<?, ?it/s]"
      ]
     },
     "metadata": {},
     "output_type": "display_data"
    },
    {
     "data": {
      "application/vnd.jupyter.widget-view+json": {
       "model_id": "25e0df14dd3a43eea63897f5e6c3054b",
       "version_major": 2,
       "version_minor": 0
      },
      "text/plain": [
       "  0%|          | 0/173 [00:00<?, ?it/s]"
      ]
     },
     "metadata": {},
     "output_type": "display_data"
    },
    {
     "data": {
      "application/vnd.jupyter.widget-view+json": {
       "model_id": "ba1713fcdfd64f519d85d9d00cc07000",
       "version_major": 2,
       "version_minor": 0
      },
      "text/plain": [
       "  0%|          | 0/20 [00:00<?, ?it/s]"
      ]
     },
     "metadata": {},
     "output_type": "display_data"
    },
    {
     "data": {
      "application/vnd.jupyter.widget-view+json": {
       "model_id": "49191cd115e34d57b8ca7f85eba6d1fc",
       "version_major": 2,
       "version_minor": 0
      },
      "text/plain": [
       "  0%|          | 0/16 [00:00<?, ?it/s]"
      ]
     },
     "metadata": {},
     "output_type": "display_data"
    },
    {
     "data": {
      "application/vnd.jupyter.widget-view+json": {
       "model_id": "5df056b4507844428e68ff077c6c4fcc",
       "version_major": 2,
       "version_minor": 0
      },
      "text/plain": [
       "  0%|          | 0/22 [00:00<?, ?it/s]"
      ]
     },
     "metadata": {},
     "output_type": "display_data"
    },
    {
     "data": {
      "application/vnd.jupyter.widget-view+json": {
       "model_id": "f862677b4c484b5cb72fdc4a862bb935",
       "version_major": 2,
       "version_minor": 0
      },
      "text/plain": [
       "  0%|          | 0/18 [00:00<?, ?it/s]"
      ]
     },
     "metadata": {},
     "output_type": "display_data"
    },
    {
     "data": {
      "application/vnd.jupyter.widget-view+json": {
       "model_id": "722c0b3d80294022924654b8e648c733",
       "version_major": 2,
       "version_minor": 0
      },
      "text/plain": [
       "  0%|          | 0/18 [00:00<?, ?it/s]"
      ]
     },
     "metadata": {},
     "output_type": "display_data"
    },
    {
     "data": {
      "application/vnd.jupyter.widget-view+json": {
       "model_id": "5cb0ebae94c64d6d874760e00d790c74",
       "version_major": 2,
       "version_minor": 0
      },
      "text/plain": [
       "  0%|          | 0/90 [00:00<?, ?it/s]"
      ]
     },
     "metadata": {},
     "output_type": "display_data"
    },
    {
     "data": {
      "application/vnd.jupyter.widget-view+json": {
       "model_id": "cc4f68c0db514561b2e6b8ad56cb92f3",
       "version_major": 2,
       "version_minor": 0
      },
      "text/plain": [
       "  0%|          | 0/12 [00:00<?, ?it/s]"
      ]
     },
     "metadata": {},
     "output_type": "display_data"
    },
    {
     "data": {
      "application/vnd.jupyter.widget-view+json": {
       "model_id": "a4d42bb7d1c74b31a0d14c418b87f281",
       "version_major": 2,
       "version_minor": 0
      },
      "text/plain": [
       "  0%|          | 0/42 [00:00<?, ?it/s]"
      ]
     },
     "metadata": {},
     "output_type": "display_data"
    },
    {
     "data": {
      "application/vnd.jupyter.widget-view+json": {
       "model_id": "cd00cb747aef45c387b9b69d2e2f5c03",
       "version_major": 2,
       "version_minor": 0
      },
      "text/plain": [
       "  0%|          | 0/18 [00:00<?, ?it/s]"
      ]
     },
     "metadata": {},
     "output_type": "display_data"
    },
    {
     "data": {
      "application/vnd.jupyter.widget-view+json": {
       "model_id": "743f489e3c4a4711947cb0ab4a08a45c",
       "version_major": 2,
       "version_minor": 0
      },
      "text/plain": [
       "  0%|          | 0/14 [00:00<?, ?it/s]"
      ]
     },
     "metadata": {},
     "output_type": "display_data"
    },
    {
     "data": {
      "application/vnd.jupyter.widget-view+json": {
       "model_id": "eabcab50c3f5449680c5681ef011f47a",
       "version_major": 2,
       "version_minor": 0
      },
      "text/plain": [
       "  0%|          | 0/28 [00:00<?, ?it/s]"
      ]
     },
     "metadata": {},
     "output_type": "display_data"
    },
    {
     "data": {
      "application/vnd.jupyter.widget-view+json": {
       "model_id": "4ff141b3522a4909898ebe853e1cb7e5",
       "version_major": 2,
       "version_minor": 0
      },
      "text/plain": [
       "  0%|          | 0/65 [00:00<?, ?it/s]"
      ]
     },
     "metadata": {},
     "output_type": "display_data"
    },
    {
     "data": {
      "application/vnd.jupyter.widget-view+json": {
       "model_id": "68b0d264a95d4faca5eccdd8cfe58070",
       "version_major": 2,
       "version_minor": 0
      },
      "text/plain": [
       "  0%|          | 0/25 [00:00<?, ?it/s]"
      ]
     },
     "metadata": {},
     "output_type": "display_data"
    },
    {
     "data": {
      "application/vnd.jupyter.widget-view+json": {
       "model_id": "b1576de6a9d14d7481d19832d050aad8",
       "version_major": 2,
       "version_minor": 0
      },
      "text/plain": [
       "  0%|          | 0/51 [00:00<?, ?it/s]"
      ]
     },
     "metadata": {},
     "output_type": "display_data"
    },
    {
     "data": {
      "application/vnd.jupyter.widget-view+json": {
       "model_id": "266f5b35a2db471e853a96a198eb3a34",
       "version_major": 2,
       "version_minor": 0
      },
      "text/plain": [
       "  0%|          | 0/148 [00:00<?, ?it/s]"
      ]
     },
     "metadata": {},
     "output_type": "display_data"
    },
    {
     "data": {
      "application/vnd.jupyter.widget-view+json": {
       "model_id": "e98f60221b33448392807e29e2b9996d",
       "version_major": 2,
       "version_minor": 0
      },
      "text/plain": [
       "  0%|          | 0/117 [00:00<?, ?it/s]"
      ]
     },
     "metadata": {},
     "output_type": "display_data"
    },
    {
     "data": {
      "application/vnd.jupyter.widget-view+json": {
       "model_id": "58085edec7f94cf5948e89d5b37bcdd4",
       "version_major": 2,
       "version_minor": 0
      },
      "text/plain": [
       "  0%|          | 0/24 [00:00<?, ?it/s]"
      ]
     },
     "metadata": {},
     "output_type": "display_data"
    },
    {
     "data": {
      "application/vnd.jupyter.widget-view+json": {
       "model_id": "52960af2b9a8427d9cbf6501753af21a",
       "version_major": 2,
       "version_minor": 0
      },
      "text/plain": [
       "  0%|          | 0/78 [00:00<?, ?it/s]"
      ]
     },
     "metadata": {},
     "output_type": "display_data"
    },
    {
     "data": {
      "application/vnd.jupyter.widget-view+json": {
       "model_id": "a0a60554b36b4b088f99be2e3f427c44",
       "version_major": 2,
       "version_minor": 0
      },
      "text/plain": [
       "  0%|          | 0/42 [00:00<?, ?it/s]"
      ]
     },
     "metadata": {},
     "output_type": "display_data"
    },
    {
     "data": {
      "application/vnd.jupyter.widget-view+json": {
       "model_id": "5e5fabd598ee43cd9139489e7129630d",
       "version_major": 2,
       "version_minor": 0
      },
      "text/plain": [
       "  0%|          | 0/12 [00:00<?, ?it/s]"
      ]
     },
     "metadata": {},
     "output_type": "display_data"
    },
    {
     "data": {
      "application/vnd.jupyter.widget-view+json": {
       "model_id": "23c81f4a244d4f418504a724498d1256",
       "version_major": 2,
       "version_minor": 0
      },
      "text/plain": [
       "  0%|          | 0/15 [00:00<?, ?it/s]"
      ]
     },
     "metadata": {},
     "output_type": "display_data"
    },
    {
     "data": {
      "application/vnd.jupyter.widget-view+json": {
       "model_id": "85067c433e0d44f7afb016c7a02fff80",
       "version_major": 2,
       "version_minor": 0
      },
      "text/plain": [
       "  0%|          | 0/22 [00:00<?, ?it/s]"
      ]
     },
     "metadata": {},
     "output_type": "display_data"
    },
    {
     "data": {
      "application/vnd.jupyter.widget-view+json": {
       "model_id": "e3065937a18f4a8f986ace84ae3431dd",
       "version_major": 2,
       "version_minor": 0
      },
      "text/plain": [
       "  0%|          | 0/16 [00:00<?, ?it/s]"
      ]
     },
     "metadata": {},
     "output_type": "display_data"
    },
    {
     "data": {
      "application/vnd.jupyter.widget-view+json": {
       "model_id": "2c27c70539e048dd9d1712ca0d950175",
       "version_major": 2,
       "version_minor": 0
      },
      "text/plain": [
       "  0%|          | 0/14 [00:00<?, ?it/s]"
      ]
     },
     "metadata": {},
     "output_type": "display_data"
    },
    {
     "data": {
      "application/vnd.jupyter.widget-view+json": {
       "model_id": "8d4da6a6c92548d5bf59262043b79e80",
       "version_major": 2,
       "version_minor": 0
      },
      "text/plain": [
       "  0%|          | 0/17 [00:00<?, ?it/s]"
      ]
     },
     "metadata": {},
     "output_type": "display_data"
    },
    {
     "data": {
      "application/vnd.jupyter.widget-view+json": {
       "model_id": "3031f88c04e44eca97f5c6bf81b4b198",
       "version_major": 2,
       "version_minor": 0
      },
      "text/plain": [
       "  0%|          | 0/19 [00:00<?, ?it/s]"
      ]
     },
     "metadata": {},
     "output_type": "display_data"
    },
    {
     "data": {
      "application/vnd.jupyter.widget-view+json": {
       "model_id": "ed44cee21ec54e9b8f31ce8e5a519f4f",
       "version_major": 2,
       "version_minor": 0
      },
      "text/plain": [
       "  0%|          | 0/21 [00:00<?, ?it/s]"
      ]
     },
     "metadata": {},
     "output_type": "display_data"
    },
    {
     "data": {
      "application/vnd.jupyter.widget-view+json": {
       "model_id": "aa1253b1a4054c7dbafe1120357a9d9e",
       "version_major": 2,
       "version_minor": 0
      },
      "text/plain": [
       "  0%|          | 0/11 [00:00<?, ?it/s]"
      ]
     },
     "metadata": {},
     "output_type": "display_data"
    },
    {
     "data": {
      "application/vnd.jupyter.widget-view+json": {
       "model_id": "635fc65045874fe28ecccaed24fd77c6",
       "version_major": 2,
       "version_minor": 0
      },
      "text/plain": [
       "  0%|          | 0/18 [00:00<?, ?it/s]"
      ]
     },
     "metadata": {},
     "output_type": "display_data"
    },
    {
     "data": {
      "application/vnd.jupyter.widget-view+json": {
       "model_id": "b0949e7a1a12428f928619e60dca6784",
       "version_major": 2,
       "version_minor": 0
      },
      "text/plain": [
       "  0%|          | 0/18 [00:00<?, ?it/s]"
      ]
     },
     "metadata": {},
     "output_type": "display_data"
    },
    {
     "data": {
      "application/vnd.jupyter.widget-view+json": {
       "model_id": "fe686df04da240d197742151637faa8c",
       "version_major": 2,
       "version_minor": 0
      },
      "text/plain": [
       "  0%|          | 0/13 [00:00<?, ?it/s]"
      ]
     },
     "metadata": {},
     "output_type": "display_data"
    },
    {
     "data": {
      "application/vnd.jupyter.widget-view+json": {
       "model_id": "612b82da54b0446eb1d1585ae1ad5e09",
       "version_major": 2,
       "version_minor": 0
      },
      "text/plain": [
       "  0%|          | 0/58 [00:00<?, ?it/s]"
      ]
     },
     "metadata": {},
     "output_type": "display_data"
    },
    {
     "data": {
      "application/vnd.jupyter.widget-view+json": {
       "model_id": "c6ff3d53c3a740dc9e94aed634767caa",
       "version_major": 2,
       "version_minor": 0
      },
      "text/plain": [
       "  0%|          | 0/22 [00:00<?, ?it/s]"
      ]
     },
     "metadata": {},
     "output_type": "display_data"
    },
    {
     "data": {
      "application/vnd.jupyter.widget-view+json": {
       "model_id": "b0e3b0d7b6af419f97571eb4fdac5c25",
       "version_major": 2,
       "version_minor": 0
      },
      "text/plain": [
       "  0%|          | 0/10 [00:00<?, ?it/s]"
      ]
     },
     "metadata": {},
     "output_type": "display_data"
    },
    {
     "data": {
      "application/vnd.jupyter.widget-view+json": {
       "model_id": "ad79f18c56154034b038553240e2e225",
       "version_major": 2,
       "version_minor": 0
      },
      "text/plain": [
       "  0%|          | 0/12 [00:00<?, ?it/s]"
      ]
     },
     "metadata": {},
     "output_type": "display_data"
    },
    {
     "data": {
      "application/vnd.jupyter.widget-view+json": {
       "model_id": "140d2a48c58c4143bed77295b256afc4",
       "version_major": 2,
       "version_minor": 0
      },
      "text/plain": [
       "  0%|          | 0/19 [00:00<?, ?it/s]"
      ]
     },
     "metadata": {},
     "output_type": "display_data"
    },
    {
     "data": {
      "application/vnd.jupyter.widget-view+json": {
       "model_id": "609de8b3d35b4c82935ecd16c8e30dfc",
       "version_major": 2,
       "version_minor": 0
      },
      "text/plain": [
       "  0%|          | 0/14 [00:00<?, ?it/s]"
      ]
     },
     "metadata": {},
     "output_type": "display_data"
    },
    {
     "data": {
      "application/vnd.jupyter.widget-view+json": {
       "model_id": "5bef943723b3409cad31ef22d3d85e60",
       "version_major": 2,
       "version_minor": 0
      },
      "text/plain": [
       "  0%|          | 0/10 [00:00<?, ?it/s]"
      ]
     },
     "metadata": {},
     "output_type": "display_data"
    },
    {
     "data": {
      "application/vnd.jupyter.widget-view+json": {
       "model_id": "6820befdb983493da42f03ea0816bd48",
       "version_major": 2,
       "version_minor": 0
      },
      "text/plain": [
       "  0%|          | 0/26 [00:00<?, ?it/s]"
      ]
     },
     "metadata": {},
     "output_type": "display_data"
    },
    {
     "data": {
      "application/vnd.jupyter.widget-view+json": {
       "model_id": "e0cafd0582f740e9b8068ca97cfc6a81",
       "version_major": 2,
       "version_minor": 0
      },
      "text/plain": [
       "  0%|          | 0/18 [00:00<?, ?it/s]"
      ]
     },
     "metadata": {},
     "output_type": "display_data"
    },
    {
     "data": {
      "application/vnd.jupyter.widget-view+json": {
       "model_id": "42c5d9cd413f479f96b539c924d726b4",
       "version_major": 2,
       "version_minor": 0
      },
      "text/plain": [
       "  0%|          | 0/10 [00:00<?, ?it/s]"
      ]
     },
     "metadata": {},
     "output_type": "display_data"
    },
    {
     "data": {
      "application/vnd.jupyter.widget-view+json": {
       "model_id": "a8e0937e258642fbbc8d85e603a87689",
       "version_major": 2,
       "version_minor": 0
      },
      "text/plain": [
       "  0%|          | 0/25 [00:00<?, ?it/s]"
      ]
     },
     "metadata": {},
     "output_type": "display_data"
    },
    {
     "data": {
      "application/vnd.jupyter.widget-view+json": {
       "model_id": "ea51c46100ff473182b35d15287a798d",
       "version_major": 2,
       "version_minor": 0
      },
      "text/plain": [
       "  0%|          | 0/12 [00:00<?, ?it/s]"
      ]
     },
     "metadata": {},
     "output_type": "display_data"
    },
    {
     "name": "stdout",
     "output_type": "stream",
     "text": [
      "Synapsse Results:\n",
      "Total Number of Synapses = 4434\n",
      "n_valid_syn_ids_presyn = 39\n",
      "n_errored_syn_ids_presyn = 482\n",
      "n_valid_syn_ids_postsyn = 3898\n",
      "n_errored_syn_ids_postsyn = 15\n",
      "Synapsse Results:\n",
      "Total Number of Synapses = 4434\n",
      "n_valid_syn_ids_presyn = 39\n",
      "n_errored_syn_ids_presyn = 482\n",
      "n_valid_syn_ids_postsyn = 3898\n",
      "n_errored_syn_ids_postsyn = 15\n"
     ]
    },
    {
     "data": {
      "application/vnd.jupyter.widget-view+json": {
       "model_id": "7732cbf10f324928a6e327ea59cade1c",
       "version_major": 2,
       "version_minor": 0
      },
      "text/plain": [
       "  0%|          | 0/23 [00:00<?, ?it/s]"
      ]
     },
     "metadata": {},
     "output_type": "display_data"
    },
    {
     "data": {
      "application/vnd.jupyter.widget-view+json": {
       "model_id": "666a23b898f0402b8cabe72d43ff6070",
       "version_major": 2,
       "version_minor": 0
      },
      "text/plain": [
       "  0%|          | 0/8 [00:00<?, ?it/s]"
      ]
     },
     "metadata": {},
     "output_type": "display_data"
    },
    {
     "name": "stdout",
     "output_type": "stream",
     "text": [
      "Synapsse Results:\n",
      "Total Number of Synapses = 4434\n",
      "n_valid_syn_ids_presyn = 39\n",
      "n_errored_syn_ids_presyn = 482\n",
      "n_valid_syn_ids_postsyn = 3898\n",
      "n_errored_syn_ids_postsyn = 15\n",
      "Synapsse Results:\n",
      "Total Number of Synapses = 4434\n",
      "n_valid_syn_ids_presyn = 39\n",
      "n_errored_syn_ids_presyn = 482\n",
      "n_valid_syn_ids_postsyn = 3898\n",
      "n_errored_syn_ids_postsyn = 15\n"
     ]
    },
    {
     "data": {
      "application/vnd.jupyter.widget-view+json": {
       "model_id": "56e46fe5c80c4eef8786af381017a6ce",
       "version_major": 2,
       "version_minor": 0
      },
      "text/plain": [
       "  0%|          | 0/23 [00:00<?, ?it/s]"
      ]
     },
     "metadata": {},
     "output_type": "display_data"
    },
    {
     "data": {
      "application/vnd.jupyter.widget-view+json": {
       "model_id": "7c9d3c8a48b84a4c82be9ffa55199a1e",
       "version_major": 2,
       "version_minor": 0
      },
      "text/plain": [
       "  0%|          | 0/8 [00:00<?, ?it/s]"
      ]
     },
     "metadata": {},
     "output_type": "display_data"
    },
    {
     "name": "stdout",
     "output_type": "stream",
     "text": [
      "\n",
      "\n",
      "len(branch_attr_keys) = 31\n",
      "Saving Neuorn in suppress_output mode...please wait\n",
      "Saved File at location: /mnt/dj-stor01/platinum/minnie65/02/decomposition/864691135589907979_0_25_full_axon\n",
      "Save time = 438.64054703712463\n",
      "\n",
      "\n",
      " ***------ Total time for 864691135589907979 = 1433.406217098236 ------ ***\n",
      "\n",
      "\n",
      "\n",
      "---- Working on Neuron 864691136333790899 ----\n",
      "Decompressing Neuron in minimal output mode...please wait\n",
      "Pulled from Table Decomposition so setting split_index = 0\n",
      "Dont need spine recalculation\n",
      "Number of Neurons found = 1\n",
      "\n",
      "Part 1: Axon like branchese \n",
      "{'L0': array([11, 19]), 'L1': array([ 0,  1,  2,  3,  4,  5,  7,  8,  9, 10, 11, 12, 13, 14, 16, 17, 18,\n",
      "       19, 20, 21, 22, 23, 25, 26, 27, 28, 29, 30, 31, 32, 33, 34, 35, 36,\n",
      "       37, 38, 39, 40, 41, 42, 44, 45, 47, 48, 49, 50, 51, 52, 53, 54, 55,\n",
      "       56, 57, 58, 59, 60, 61, 62, 63, 64, 65, 66, 67, 68, 69, 70, 71, 72]), 'L2': array([7]), 'L5': array([3, 6])}\n",
      "Limb L0 soma angle: 13.21 \n",
      "Limb L1 soma angle: 163.51 \n",
      "Limb L2 soma angle: 58.81 \n",
      "Limb L3 soma angle: 102.03 \n",
      "Limb L4 soma angle: 98.92 \n",
      "Limb L5 soma angle: 105.69 \n",
      "Limb L6 soma angle: 83.22 \n",
      "Limb L7 soma angle: 127.48 \n",
      "\n",
      "Part 2: possible_axon_limbs = [1, 3, 4, 5, 6, 7]\n",
      "\n",
      "Phase 2: Working on Limb L1\n",
      "nodes_to_eliminate = [43 46]\n",
      "\n",
      "Phase 2: Working on Limb L3\n",
      "nodes_to_eliminate = [2 3]\n",
      "\n",
      "Phase 2: Working on Limb L4\n",
      "nodes_to_eliminate = [6]\n",
      "\n",
      "Phase 2: Working on Limb L5\n",
      "nodes_to_eliminate = []\n",
      "\n",
      "Phase 2: Working on Limb L6\n",
      "nodes_to_eliminate = []\n",
      "\n",
      "Phase 2: Working on Limb L7\n",
      "nodes_to_eliminate = []\n",
      "\n",
      "----Working on Limb L1-----\n",
      "No endpoints were eliminated so don't need to add back any candidates\n",
      "\n",
      "----Working on Limb L3-----\n",
      "No endpoints were eliminated so don't need to add back any candidates\n",
      "\n",
      "----Working on Limb L4-----\n",
      "No endpoints were eliminated so don't need to add back any candidates\n",
      "\n",
      "----Working on Limb L5-----\n",
      "No nodes were eliminated so don't need to add back any candidates\n",
      "\n",
      "----Working on Limb L6-----\n",
      "No nodes were eliminated so don't need to add back any candidates\n",
      "\n",
      "----Working on Limb L7-----\n",
      "No nodes were eliminated so don't need to add back any candidates\n",
      "Final Candidates\n",
      "\n",
      "Limb 1\n",
      "Candidate 0 (olive): array([6])\n",
      "Candidate 1 (red): array([15, 16, 17, 19, 20, 21, 24])\n",
      "Candidate 2 (palegreen): array([ 0,  1,  2,  3,  4,  5,  7,  8,  9, 10, 11, 12, 13, 14, 18, 22, 23,\n",
      "       25, 26, 27, 28, 29, 30, 31, 32, 33, 34, 35, 36, 37, 38, 39, 40, 41,\n",
      "       42, 44, 45, 47, 48, 49, 50, 51, 52, 53, 54, 55, 56, 57, 58, 59, 60,\n",
      "       61, 62, 63, 64, 65, 66, 67, 68, 69, 70, 71, 72])\n",
      "\n",
      "Limb 3\n",
      "Candidate 0 (olive): array([4, 5, 6])\n",
      "Candidate 1 (magenta): array([0])\n",
      "Candidate 2 (gray): array([1])\n",
      "\n",
      "Limb 4\n",
      "Candidate 0 (crimson): array([0])\n",
      "Candidate 1 (cadetblue): array([1, 2, 3, 4, 5])\n",
      "\n",
      "Limb 5\n",
      "Candidate 0 (blue): array([0, 1, 2, 3, 4, 5, 6])\n",
      "\n",
      "Limb 6\n",
      "Candidate 0 (blue): array([0, 1, 2])\n",
      "\n",
      "Limb 7\n",
      "Candidate 0 (crimson): array([0])\n",
      "Part 3: axon_subgraph_candidates = {1: [[6], [15, 16, 17, 19, 20, 21, 24], [0, 1, 2, 3, 4, 5, 7, 8, 9, 10, 11, 12, 13, 14, 18, 22, 23, 25, 26, 27, 28, 29, 30, 31, 32, 33, 34, 35, 36, 37, 38, 39, 40, 41, 42, 44, 45, 47, 48, 49, 50, 51, 52, 53, 54, 55, 56, 57, 58, 59, 60, 61, 62, 63, 64, 65, 66, 67, 68, 69, 70, 71, 72]], 3: [[4, 5, 6], [0], [1]], 4: [[0], [1, 2, 3, 4, 5]], 5: [[0, 1, 2, 3, 4, 5, 6]], 6: [[0, 1, 2]], 7: [[0]]}\n",
      "\n",
      "\n",
      " --- Working on limb 1, candidate # 0\n",
      "0 out of 1 branches are axons\n",
      "Axon percentage = 0.0\n",
      "Not adding candidate no axon branches detected \n",
      "\n",
      "\n",
      " --- Working on limb 1, candidate # 1\n",
      "5 out of 7 branches are axons\n",
      "Axon percentage = 0.7142857142857143\n",
      "curr_axon_angle_threshold = 120\n",
      "candidate_nodes = [15 16 17 19 20 21 24 43 46]\n",
      "non_axon_branches_on_subgraph = [15 24 43 46]\n",
      "endnodes_to_test = []\n",
      "candidate_angles,restr_skels = (None, None)\n",
      "Not adding candidate because no angles (None) passed the threhold 120 \n",
      "\n",
      "\n",
      " --- Working on limb 1, candidate # 2\n",
      "63 out of 63 branches are axons\n",
      "Axon percentage = 1.0\n",
      "curr_axon_angle_threshold = 95\n",
      "candidate_nodes = [ 0  1  2  3  4  5  7  8  9 10 11 12 13 14 18 22 23 25 26 27 28 29 30 31\n",
      " 32 33 34 35 36 37 38 39 40 41 42 43 44 45 46 47 48 49 50 51 52 53 54 55\n",
      " 56 57 58 59 60 61 62 63 64 65 66 67 68 69 70 71 72]\n",
      "non_axon_branches_on_subgraph = [43 46]\n",
      "endnodes_to_test = [19300]\n",
      "Skeleton paths distances = [24932.06803194]\n",
      "Filtered indexes = [0]\n",
      "len(filtered_skeletons) = 1\n",
      "sk_angles = [165.78540543]\n",
      "candidate_angles,restr_skels = (array([165.78540543]), [array([[[1288864.96983377,  720184.30098372,  911393.64033689],\n",
      "        [1288880.98270242,  720282.98092591,  911396.06047054]],\n",
      "\n",
      "       [[1288880.98270242,  720282.98092591,  911396.06047054],\n",
      "        [1288895.94104448,  720381.80237669,  911398.69102512]],\n",
      "\n",
      "       [[1288895.94104448,  720381.80237669,  911398.69102512],\n",
      "        [1288907.62817115,  720481.06279702,  911401.97432014]],\n",
      "\n",
      "       [[1288907.62817115,  720481.06279702,  911401.97432014],\n",
      "        [1288919.31529782,  720580.32321735,  911405.25761516]],\n",
      "\n",
      "       [[1288919.31529782,  720580.32321735,  911405.25761516],\n",
      "        [1288928.93705073,  720679.75654618,  911409.04328064]],\n",
      "\n",
      "       [[1288928.93705073,  720679.75654618,  911409.04328064],\n",
      "        [1288935.78695788,  720779.4219278 ,  911413.50315504]],\n",
      "\n",
      "       [[1288935.78695788,  720779.4219278 ,  911413.50315504],\n",
      "        [1288942.63686502,  720879.08730941,  911417.96302944]],\n",
      "\n",
      "       [[1288942.63686502,  720879.08730941,  911417.96302944],\n",
      "        [1288945.48274512,  720978.83503141,  911423.92534318]],\n",
      "\n",
      "       [[1288945.48274512,  720978.83503141,  911423.92534318],\n",
      "        [1288946.85280476,  721078.61310276,  911430.44143208]],\n",
      "\n",
      "       [[1288946.85280476,  721078.61310276,  911430.44143208],\n",
      "        [1288946.8753551 ,  721178.30255884,  911437.73177181]],\n",
      "\n",
      "       [[1288946.8753551 ,  721178.30255884,  911437.73177181],\n",
      "        [1288941.96922162,  721277.66789348,  911447.85403075]],\n",
      "\n",
      "       [[1288941.96922162,  721277.66789348,  911447.85403075],\n",
      "        [1288937.06308814,  721377.03322812,  911457.9762897 ]],\n",
      "\n",
      "       [[1288937.06308814,  721377.03322812,  911457.9762897 ],\n",
      "        [1288925.92499427,  721475.22919885,  911473.02242011]],\n",
      "\n",
      "       [[1288925.92499427,  721475.22919885,  911473.02242011],\n",
      "        [1288914.09957284,  721573.29619957,  911488.61160797]],\n",
      "\n",
      "       [[1288914.09957284,  721573.29619957,  911488.61160797],\n",
      "        [1288897.19937102,  721669.60244859,  911509.15784109]],\n",
      "\n",
      "       [[1288897.19937102,  721669.60244859,  911509.15784109],\n",
      "        [1288878.65191226,  721765.33716342,  911531.31311471]],\n",
      "\n",
      "       [[1288878.65191226,  721765.33716342,  911531.31311471],\n",
      "        [1288856.4311703 ,  721859.1686186 ,  911557.52787017]],\n",
      "\n",
      "       [[1288856.4311703 ,  721859.1686186 ,  911557.52787017],\n",
      "        [1288832.60495047,  721952.16821816,  911585.51689893]],\n",
      "\n",
      "       [[1288832.60495047,  721952.16821816,  911585.51689893],\n",
      "        [1288806.7998439 ,  722043.91044952,  911615.70469227]],\n",
      "\n",
      "       [[1288806.7998439 ,  722043.91044952,  911615.70469227],\n",
      "        [1288779.81551279,  722134.90341142,  911647.20273601]],\n",
      "\n",
      "       [[1288779.81551279,  722134.90341142,  911647.20273601],\n",
      "        [1288752.23144253,  722225.57480668,  911679.09527923]],\n",
      "\n",
      "       [[1288752.23144253,  722225.57480668,  911679.09527923],\n",
      "        [1288723.98548565,  722315.89131324,  911711.42320157]],\n",
      "\n",
      "       [[1288723.98548565,  722315.89131324,  911711.42320157],\n",
      "        [1288695.7467079 ,  722406.30661633,  911743.47531   ]],\n",
      "\n",
      "       [[1288695.7467079 ,  722406.30661633,  911743.47531   ],\n",
      "        [1288667.53357069,  722497.07477505,  911774.54233837]],\n",
      "\n",
      "       [[1288667.53357069,  722497.07477505,  911774.54233837],\n",
      "        [1288639.32043349,  722587.84293377,  911805.60936674]],\n",
      "\n",
      "       [[1288639.32043349,  722587.84293377,  911805.60936674],\n",
      "        [1288611.81128349,  722679.53281354,  911834.51297044]],\n",
      "\n",
      "       [[1288611.81128349,  722679.53281354,  911834.51297044],\n",
      "        [1288584.3949348 ,  722771.34419683,  911863.13138625]],\n",
      "\n",
      "       [[1288584.3949348 ,  722771.34419683,  911863.13138625],\n",
      "        [1288557.63239034,  722863.78426257,  911890.26011234]],\n",
      "\n",
      "       [[1288557.63239034,  722863.78426257,  911890.26011234],\n",
      "        [1288531.43569971,  722956.76843977,  911916.09954326]],\n",
      "\n",
      "       [[1288531.43569971,  722956.76843977,  911916.09954326],\n",
      "        [1288505.63079038,  723050.0319435 ,  911941.28287648]],\n",
      "\n",
      "       [[1288505.63079038,  723050.0319435 ,  911941.28287648],\n",
      "        [1288480.90612598,  723144.06562453,  911964.65717439]],\n",
      "\n",
      "       [[1288480.90612598,  723144.06562453,  911964.65717439],\n",
      "        [1288456.46506356,  723238.24311378,  911987.72836275]],\n",
      "\n",
      "       [[1288456.46506356,  723238.24311378,  911987.72836275],\n",
      "        [1288433.42778891,  723333.1324324 ,  912009.29920391]],\n",
      "\n",
      "       [[1288433.42778891,  723333.1324324 ,  912009.29920391],\n",
      "        [1288411.01869451,  723428.24626918,  912030.51175812]],\n",
      "\n",
      "       [[1288411.01869451,  723428.24626918,  912030.51175812],\n",
      "        [1288389.94408426,  723523.83706447,  912050.96318005]],\n",
      "\n",
      "       [[1288389.94408426,  723523.83706447,  912050.96318005],\n",
      "        [1288370.66908149,  723619.91856049,  912070.8546251 ]],\n",
      "\n",
      "       [[1288370.66908149,  723619.91856049,  912070.8546251 ],\n",
      "        [1288353.37467733,  723716.49894198,  912090.11246612]],\n",
      "\n",
      "       [[1288353.37467733,  723716.49894198,  912090.11246612],\n",
      "        [1288339.06442282,  723813.82046477,  912108.01351594]],\n",
      "\n",
      "       [[1288339.06442282,  723813.82046477,  912108.01351594],\n",
      "        [1288328.45723302,  723912.169915  ,  912122.47847916]],\n",
      "\n",
      "       [[1288328.45723302,  723912.169915  ,  912122.47847916],\n",
      "        [1288319.39925763,  724011.36151551,  912131.22073539]],\n",
      "\n",
      "       [[1288319.39925763,  724011.36151551,  912131.22073539],\n",
      "        [1288305.60243504,  724110.20366904,  912137.24787906]],\n",
      "\n",
      "       [[1288305.60243504,  724110.20366904,  912137.24787906],\n",
      "        [1288287.00988667,  724208.18517586,  912144.39518775]],\n",
      "\n",
      "       [[1288287.00988667,  724208.18517586,  912144.39518775],\n",
      "        [1288265.13840298,  724305.36234994,  912153.19882699]],\n",
      "\n",
      "       [[1288265.13840298,  724305.36234994,  912153.19882699],\n",
      "        [1288241.78270158,  724402.10562069,  912162.9451516 ]],\n",
      "\n",
      "       [[1288241.78270158,  724402.10562069,  912162.9451516 ],\n",
      "        [1288218.07313203,  724498.75742697,  912172.75629668]],\n",
      "\n",
      "       [[1288218.07313203,  724498.75742697,  912172.75629668],\n",
      "        [1288194.31314257,  724595.41274687,  912182.40206608]],\n",
      "\n",
      "       [[1288194.31314257,  724595.41274687,  912182.40206608],\n",
      "        [1288170.93180577,  724692.24942773,  912191.11816215]],\n",
      "\n",
      "       [[1288170.93180577,  724692.24942773,  912191.11816215],\n",
      "        [1288147.81241628,  724789.19725876,  912199.21994671]],\n",
      "\n",
      "       [[1288147.81241628,  724789.19725876,  912199.21994671],\n",
      "        [1288125.24908291,  724886.38103702,  912206.01768395]],\n",
      "\n",
      "       [[1288125.24908291,  724886.38103702,  912206.01768395],\n",
      "        [1288102.82699323,  724983.62065977,  912212.40708915]],\n",
      "\n",
      "       [[1288102.82699323,  724983.62065977,  912212.40708915],\n",
      "        [1288081.06062743,  725081.11954063,  912216.90081262]],\n",
      "\n",
      "       [[1288081.06062743,  725081.11954063,  912216.90081262],\n",
      "        [1288059.29426163,  725178.61842149,  912221.39453609]],\n",
      "\n",
      "       [[1288059.29426163,  725178.61842149,  912221.39453609],\n",
      "        [1288037.8626867 ,  725276.24514032,  912224.34493665]],\n",
      "\n",
      "       [[1288037.8626867 ,  725276.24514032,  912224.34493665],\n",
      "        [1288016.56534729,  725373.92311622,  912226.67653674]],\n",
      "\n",
      "       [[1288016.56534729,  725373.92311622,  912226.67653674],\n",
      "        [1287995.26800787,  725471.60109211,  912229.00813683]],\n",
      "\n",
      "       [[1287995.26800787,  725471.60109211,  912229.00813683],\n",
      "        [1287973.96102939,  725569.30085434,  912229.82221364]],\n",
      "\n",
      "       [[1287973.96102939,  725569.30085434,  912229.82221364],\n",
      "        [1287952.65360563,  725667.00162299,  912230.56618867]],\n",
      "\n",
      "       [[1287952.65360563,  725667.00162299,  912230.56618867],\n",
      "        [1287931.34618187,  725764.70239163,  912231.3101637 ]],\n",
      "\n",
      "       [[1287931.34618187,  725764.70239163,  912231.3101637 ],\n",
      "        [1287909.58342837,  725862.30538969,  912231.31306933]],\n",
      "\n",
      "       [[1287909.58342837,  725862.30538969,  912231.31306933],\n",
      "        [1287887.79849218,  725959.90362458,  912231.27987165]],\n",
      "\n",
      "       [[1287887.79849218,  725959.90362458,  912231.27987165],\n",
      "        [1287866.013556  ,  726057.50185947,  912231.24667397]],\n",
      "\n",
      "       [[1287866.013556  ,  726057.50185947,  912231.24667397],\n",
      "        [1287843.59493175,  726154.95585126,  912231.26959459]],\n",
      "\n",
      "       [[1287843.59493175,  726154.95585126,  912231.26959459],\n",
      "        [1287820.99127783,  726252.36772571,  912231.30890112]],\n",
      "\n",
      "       [[1287820.99127783,  726252.36772571,  912231.30890112],\n",
      "        [1287798.38762391,  726349.77960016,  912231.34820764]],\n",
      "\n",
      "       [[1287798.38762391,  726349.77960016,  912231.34820764],\n",
      "        [1287775.29747643,  726447.07396372,  912231.80417326]],\n",
      "\n",
      "       [[1287775.29747643,  726447.07396372,  912231.80417326],\n",
      "        [1287751.69798907,  726544.24529792,  912232.69636478]],\n",
      "\n",
      "       [[1287751.69798907,  726544.24529792,  912232.69636478],\n",
      "        [1287728.09850171,  726641.41663212,  912233.5885563 ]],\n",
      "\n",
      "       [[1287728.09850171,  726641.41663212,  912233.5885563 ],\n",
      "        [1287704.3331731 ,  726738.54232987,  912234.73486454]],\n",
      "\n",
      "       [[1287704.3331731 ,  726738.54232987,  912234.73486454],\n",
      "        [1287679.69783927,  726835.42861819,  912237.2142722 ]],\n",
      "\n",
      "       [[1287679.69783927,  726835.42861819,  912237.2142722 ],\n",
      "        [1287655.06250543,  726932.31490651,  912239.69367986]],\n",
      "\n",
      "       [[1287655.06250543,  726932.31490651,  912239.69367986],\n",
      "        [1287630.4271716 ,  727029.20119483,  912242.17308752]],\n",
      "\n",
      "       [[1287630.4271716 ,  727029.20119483,  912242.17308752],\n",
      "        [1287604.96903159,  727125.79769572,  912246.65265738]],\n",
      "\n",
      "       [[1287604.96903159,  727125.79769572,  912246.65265738],\n",
      "        [1287579.34974329,  727222.33744115,  912251.52396317]],\n",
      "\n",
      "       [[1287579.34974329,  727222.33744115,  912251.52396317],\n",
      "        [1287553.73045498,  727318.87718657,  912256.39526896]],\n",
      "\n",
      "       [[1287553.73045498,  727318.87718657,  912256.39526896],\n",
      "        [1287527.64168915,  727415.16511831,  912263.10383872]],\n",
      "\n",
      "       [[1287527.64168915,  727415.16511831,  912263.10383872],\n",
      "        [1287501.16732102,  727511.24622454,  912271.3214332 ]],\n",
      "\n",
      "       [[1287501.16732102,  727511.24622454,  912271.3214332 ],\n",
      "        [1287474.69295289,  727607.32733076,  912279.53902769]],\n",
      "\n",
      "       [[1287474.69295289,  727607.32733076,  912279.53902769],\n",
      "        [1287448.01793955,  727703.20107133,  912289.15018747]],\n",
      "\n",
      "       [[1287448.01793955,  727703.20107133,  912289.15018747],\n",
      "        [1287420.91740592,  727798.63503916,  912301.71676465]],\n",
      "\n",
      "       [[1287420.91740592,  727798.63503916,  912301.71676465],\n",
      "        [1287393.81687229,  727894.06900698,  912314.28334183]],\n",
      "\n",
      "       [[1287393.81687229,  727894.06900698,  912314.28334183],\n",
      "        [1287366.66988349,  727989.35338738,  912327.70633726]],\n",
      "\n",
      "       [[1287366.66988349,  727989.35338738,  912327.70633726],\n",
      "        [1287339.29300214,  728083.89750499,  912345.36748649]],\n",
      "\n",
      "       [[1287339.29300214,  728083.89750499,  912345.36748649],\n",
      "        [1287311.91612079,  728178.4416226 ,  912363.02863573]],\n",
      "\n",
      "       [[1287311.91612079,  728178.4416226 ,  912363.02863573],\n",
      "        [1287284.55819818,  728272.8664275 ,  912381.26846052]],\n",
      "\n",
      "       [[1287284.55819818,  728272.8664275 ,  912381.26846052],\n",
      "        [1287257.35267234,  728366.3321557 ,  912404.15987845]],\n",
      "\n",
      "       [[1287257.35267234,  728366.3321557 ,  912404.15987845],\n",
      "        [1287230.14714651,  728459.79788391,  912427.05129639]],\n",
      "\n",
      "       [[1287230.14714651,  728459.79788391,  912427.05129639],\n",
      "        [1287203.05538702,  728553.08328897,  912450.72962038]],\n",
      "\n",
      "       [[1287203.05538702,  728553.08328897,  912450.72962038],\n",
      "        [1287176.51249195,  728645.4987271 ,  912478.20436364]],\n",
      "\n",
      "       [[1287176.51249195,  728645.4987271 ,  912478.20436364],\n",
      "        [1287149.96959689,  728737.91416523,  912505.6791069 ]],\n",
      "\n",
      "       [[1287149.96959689,  728737.91416523,  912505.6791069 ],\n",
      "        [1287123.87651104,  728830.06241179,  912534.40029276]],\n",
      "\n",
      "       [[1287123.87651104,  728830.06241179,  912534.40029276],\n",
      "        [1287098.5083548 ,  728921.78004229,  912565.13029284]],\n",
      "\n",
      "       [[1287098.5083548 ,  728921.78004229,  912565.13029284],\n",
      "        [1287073.14019856,  729013.49767279,  912595.86029291]],\n",
      "\n",
      "       [[1287073.14019856,  729013.49767279,  912595.86029291],\n",
      "        [1287049.15233143,  729105.17820276,  912627.77182316]],\n",
      "\n",
      "       [[1287049.15233143,  729105.17820276,  912627.77182316],\n",
      "        [1287025.54767176,  729196.84843256,  912660.01137975]],\n",
      "\n",
      "       [[1287025.54767176,  729196.84843256,  912660.01137975],\n",
      "        [1287002.98448645,  729288.82849151,  912692.08664416]],\n",
      "\n",
      "       [[1287002.98448645,  729288.82849151,  912692.08664416],\n",
      "        [1286981.92948967,  729381.2572228 ,  912723.92399238]],\n",
      "\n",
      "       [[1286981.92948967,  729381.2572228 ,  912723.92399238],\n",
      "        [1286961.91067776,  729474.11510459,  912755.10749025]],\n",
      "\n",
      "       [[1286961.91067776,  729474.11510459,  912755.10749025],\n",
      "        [1286944.50507392,  729568.05528315,  912784.64200914]],\n",
      "\n",
      "       [[1286944.50507392,  729568.05528315,  912784.64200914],\n",
      "        [1286929.14229091,  729662.7859981 ,  912812.55691135]],\n",
      "\n",
      "       [[1286929.14229091,  729662.7859981 ,  912812.55691135],\n",
      "        [1286916.76196923,  729758.67087408,  912838.10721846]]])])\n"
     ]
    },
    {
     "name": "stdout",
     "output_type": "stream",
     "text": [
      "base_final_widths = [207.55386694 238.5262369 ]\n",
      "overall_ais_width = 204.84561467673882\n",
      "ais_width = 223.04005192027546\n",
      "Adding the following branches as true axons: [ 0  1  2  3  4  5  7  8  9 10 11 12 13 14 18 22 23 25 26 27 28 29 30 31\n",
      " 32 33 34 35 36 37 38 39 40 41 42 44 45 47 48 49 50 51 52 53 54 55 56 57\n",
      " 58 59 60 61 62 63 64 65 66 67 68 69 70 71 72]\n",
      "curr_soma_angle = 163.51\n",
      "max_axon_angle = 165.78540543470018\n",
      "Changing to a better axon candidate\n",
      "\n",
      "\n",
      " --- Working on limb 3, candidate # 0\n",
      "0 out of 3 branches are axons\n",
      "Axon percentage = 0.0\n",
      "Not adding candidate no axon branches detected \n",
      "\n",
      "\n",
      " --- Working on limb 3, candidate # 1\n",
      "0 out of 1 branches are axons\n",
      "Axon percentage = 0.0\n",
      "Not adding candidate no axon branches detected \n",
      "\n",
      "\n",
      " --- Working on limb 3, candidate # 2\n",
      "0 out of 1 branches are axons\n",
      "Axon percentage = 0.0\n",
      "Not adding candidate no axon branches detected \n",
      "\n",
      "\n",
      " --- Working on limb 4, candidate # 0\n",
      "0 out of 1 branches are axons\n",
      "Axon percentage = 0.0\n",
      "Not adding candidate no axon branches detected \n",
      "\n",
      "\n",
      " --- Working on limb 4, candidate # 1\n",
      "0 out of 5 branches are axons\n",
      "Axon percentage = 0.0\n",
      "Not adding candidate no axon branches detected \n",
      "\n",
      "\n",
      " --- Working on limb 5, candidate # 0\n",
      "2 out of 7 branches are axons\n",
      "Axon percentage = 0.2857142857142857\n",
      "curr_axon_angle_threshold = 120\n",
      "candidate_nodes = [0 1 2 3 4 5 6]\n",
      "non_axon_branches_on_subgraph = [0 1 2 4 5]\n",
      "endnodes_to_test = []\n",
      "candidate_angles,restr_skels = (None, None)\n",
      "Not adding candidate because no angles (None) passed the threhold 120 \n",
      "\n",
      "\n",
      " --- Working on limb 6, candidate # 0\n",
      "0 out of 3 branches are axons\n",
      "Axon percentage = 0.0\n",
      "Not adding candidate no axon branches detected \n",
      "\n",
      "\n",
      " --- Working on limb 7, candidate # 0\n",
      "0 out of 1 branches are axons\n",
      "Axon percentage = 0.0\n",
      "Not adding candidate no axon branches detected \n",
      "Using the best axon approach\n",
      "Using True\n",
      "Limb L1: Axon branches before dendritic path filter = [ 0  1  2  3  4  5  7  8  9 10 11 12 13 14 18 22 23 25 26 27 28 29 30 31\n",
      " 32 33 34 35 36 37 38 39 40 41 42 44 45 47 48 49 50 51 52 53 54 55 56 57\n",
      " 58 59 60 61 62 63 64 65 66 67 68 69 70 71 72]\n",
      "Limb L1: Axon branches AFTER dendritic path filter = [ 0  1  2  3  4  5  7  8  9 10 11 12 13 14 18 22 23 25 26 27 28 29 30 31\n",
      " 32 33 34 35 36 37 38 39 40 41 42 44 45 47 48 49 50 51 52 53 54 55 56 57\n",
      " 58 59 60 61 62 63 64 65 66 67 68 69 70 71 72]\n",
      "\n",
      "\n",
      "Part 4: final_true_axons = {'L1': array([ 0,  1,  2,  3,  4,  5,  7,  8,  9, 10, 11, 12, 13, 14, 18, 22, 23,\n",
      "       25, 26, 27, 28, 29, 30, 31, 32, 33, 34, 35, 36, 37, 38, 39, 40, 41,\n",
      "       42, 44, 45, 47, 48, 49, 50, 51, 52, 53, 54, 55, 56, 57, 58, 59, 60,\n",
      "       61, 62, 63, 64, 65, 66, 67, 68, 69, 70, 71, 72])}\n",
      "\n",
      "--- Working on filter 0:\n",
      "function = dendrite_on_axon_merges\n",
      "function __name__ = filter_away_dendrite_on_axon_merges\n",
      "function arguments = {'use_pre_existing_axon_labels': True}\n",
      "\n",
      "\n",
      "\n",
      "\n",
      "\n",
      " ---- Total time for applying filter: 0.8920609951019287 -----\n",
      "Starting axon branch was not the limb starting node so generating border vertices and computing upstream branch\n",
      "upstream_node_to_axon_starting_branch = 43\n",
      "More than 1 seperated mesh (taking the top one): [<trimesh.Trimesh(vertices.shape=(152612, 3), faces.shape=(304125, 3))>\n",
      " <trimesh.Trimesh(vertices.shape=(420, 3), faces.shape=(836, 3))>]\n",
      "root_curr = [1287293.   715250.9  910679.1]\n",
      "Time for preparing soma vertices and root: 0.00038814544677734375\n",
      "invalidation_d = 2000\n",
      "cc_vertex_thresh = 10\n"
     ]
    },
    {
     "name": "stderr",
     "output_type": "stream",
     "text": [
      "\r",
      "  0%|          | 0/1 [00:00<?, ?it/s]"
     ]
    },
    {
     "data": {
      "application/vnd.jupyter.widget-view+json": {
       "model_id": "e424aa150d7f4a7ca62538e3dcb184af",
       "version_major": 2,
       "version_minor": 0
      },
      "text/plain": [
       "  0%|          | 0/152611 [00:00<?, ?it/s]"
      ]
     },
     "metadata": {},
     "output_type": "display_data"
    },
    {
     "name": "stderr",
     "output_type": "stream",
     "text": [
      "100%|██████████| 1/1 [00:09<00:00,  9.70s/it]\n"
     ]
    },
    {
     "name": "stdout",
     "output_type": "stream",
     "text": [
      "meshparty_segment_size = 100\n",
      "Time for 1st pass MP skeletonization: 13.064234495162964\n",
      "connecting at the root\n",
      "branches_touching_root = [155]\n",
      "combining close nodes\n",
      "combine_threshold = 1300\n",
      "length of Graph = 38193\n",
      "After combining close endpoints max(kept_branches_idx) = 155, len(kept_branches_idx) = 138\n",
      "empty_indices % = 0.0\n",
      " conflict_indices % = 0.008916933285934353\n"
     ]
    },
    {
     "data": {
      "application/vnd.jupyter.widget-view+json": {
       "model_id": "001ad769138f4a239491a0feb8b41d2d",
       "version_major": 2,
       "version_minor": 0
      },
      "text/plain": [
       "  0%|          | 0/58 [00:00<?, ?it/s]"
      ]
     },
     "metadata": {},
     "output_type": "display_data"
    },
    {
     "name": "stdout",
     "output_type": "stream",
     "text": [
      "AFTER face_lookup_resolved_test\n"
     ]
    },
    {
     "data": {
      "application/vnd.jupyter.widget-view+json": {
       "model_id": "559f5a20638f4ff68158125e6b241c54",
       "version_major": 2,
       "version_minor": 0
      },
      "text/plain": [
       "  0%|          | 0/138 [00:00<?, ?it/s]"
      ]
     },
     "metadata": {},
     "output_type": "display_data"
    },
    {
     "name": "stdout",
     "output_type": "stream",
     "text": [
      "Decomposing first pass: 50.06326675415039\n",
      "Only Using MeshParty Skeletonization and Mesh Correspondence\n",
      "Another print\n",
      "Divinding into MP and MAP pieces: 6.556510925292969e-05\n",
      "Total time for MAP sublimb processing 5.9604644775390625e-06\n",
      "---- Working on MP Decomposition #0 ----\n",
      "Using Quicker soma_to_piece_touching_vertices because no MAP and only one sublimb_mesh piece \n",
      "MP filtering soma verts: 7.963180541992188e-05\n",
      "Fixing Possible Soma Extension Branch for Sublimb 0\n",
      "Total time for mesh KDTree = 0.12534856796264648\n",
      "sbv[0].reshape(-1,3) = [[1287293.   715250.9  910679.1]]\n",
      "closest_sk_pt_coord BEFORE = [1286349.11499996  715062.51281982  911075.24950525]\n",
      "current_skeleton.shape = (625, 2, 3)\n",
      "node_for_stitch = 0: [1286349.11499996  715062.51281982  911075.24950525]\n",
      "node_for_stitch AFTER = 0: [1286349.11499996  715062.51281982  911075.24950525]\n",
      "possible_node_loc = [  0 171]\n",
      "possible_node_loc AFTER = [  0 171]\n",
      "curr_shortest_path = [0]\n",
      "Current stitch point was a branch or endpoint\n",
      "change_status for create soma extending pieces = False\n",
      "closest_sk_pt_coord AFTER = [1286349.11499996  715062.51281982  911075.24950525]\n",
      "skipping soma 0 because closest skeleton node was already end node\n",
      "endpoints_must_keep = {0: array([[1286349.11499996,  715062.51281982,  911075.24950525]])}\n",
      "match_sk_branches = [137]\n",
      "The new branch info was none so skipping \n",
      "\n",
      "No soma extending branch was added for this sublimb even though it had a soma border (means they already existed)\n",
      "MP (because soma touching verts) soma extension add: 7.318105220794678\n",
      "There were not both MAP and MP pieces so skipping the stitch resolving phase\n",
      "Time for decomp of Limb = 72.47831559181213\n",
      "Number of matching vertices = 38\n",
      "Only one endpoint after filtering away the endpoints that are not on the skeleton\n",
      "Using Distance measure skeletal_distance\n",
      "endpoints_must_keep = [[1286349.11499996  715062.51281982  911075.24950525]]\n",
      "Number of end_nodes BEFORE filtering = 81\n",
      "all_single_nodes_to_eliminate = [42]\n"
     ]
    },
    {
     "data": {
      "application/vnd.jupyter.widget-view+json": {
       "model_id": "572f0d057b484126affa6e68b63556ea",
       "version_major": 2,
       "version_minor": 0
      },
      "text/plain": [
       "  0%|          | 0/9 [00:00<?, ?it/s]"
      ]
     },
     "metadata": {},
     "output_type": "display_data"
    },
    {
     "name": "stdout",
     "output_type": "stream",
     "text": [
      "Removed 9 skeletal branches\n"
     ]
    },
    {
     "data": {
      "application/vnd.jupyter.widget-view+json": {
       "model_id": "21400879207c4c71a2b12708f17bf88e",
       "version_major": 2,
       "version_minor": 0
      },
      "text/plain": [
       "  0%|          | 0/138 [00:00<?, ?it/s]"
      ]
     },
     "metadata": {},
     "output_type": "display_data"
    },
    {
     "name": "stdout",
     "output_type": "stream",
     "text": [
      "304124 304125\n",
      "For marked faces: None\n",
      "empty_indices % = 0.0008286066584463625\n",
      " conflict_indices % = 0.0\n"
     ]
    },
    {
     "data": {
      "application/vnd.jupyter.widget-view+json": {
       "model_id": "82919a486fde48128bd84e7918ac96be",
       "version_major": 2,
       "version_minor": 0
      },
      "text/plain": [
       "  0%|          | 0/1 [00:00<?, ?it/s]"
      ]
     },
     "metadata": {},
     "output_type": "display_data"
    },
    {
     "name": "stdout",
     "output_type": "stream",
     "text": [
      "AFTER face_lookup_resolved_test\n"
     ]
    },
    {
     "data": {
      "application/vnd.jupyter.widget-view+json": {
       "model_id": "238655bd1e7a4750bffb7426296e24da",
       "version_major": 2,
       "version_minor": 0
      },
      "text/plain": [
       "  0%|          | 0/121 [00:00<?, ?it/s]"
      ]
     },
     "metadata": {},
     "output_type": "display_data"
    },
    {
     "name": "stdout",
     "output_type": "stream",
     "text": [
      "Limb Correspondence before stitching = 121\n"
     ]
    },
    {
     "data": {
      "application/vnd.jupyter.widget-view+json": {
       "model_id": "db429d4a222e48258f194552f33a7ae2",
       "version_major": 2,
       "version_minor": 0
      },
      "text/plain": [
       "0it [00:00, ?it/s]"
      ]
     },
     "metadata": {},
     "output_type": "display_data"
    },
    {
     "name": "stdout",
     "output_type": "stream",
     "text": [
      "\n",
      "\n",
      "--- Working on 1-to-1 correspondence-----\n",
      "max(original_labels),len(original_labels) = (1, 2)\n",
      "empty_indices % = 0.5051464766429137\n",
      " conflict_indices % = 0.0\n"
     ]
    },
    {
     "data": {
      "application/vnd.jupyter.widget-view+json": {
       "model_id": "072973396e244c9890d2097c699930a3",
       "version_major": 2,
       "version_minor": 0
      },
      "text/plain": [
       "  0%|          | 0/8 [00:00<?, ?it/s]"
      ]
     },
     "metadata": {},
     "output_type": "display_data"
    },
    {
     "name": "stdout",
     "output_type": "stream",
     "text": [
      "AFTER face_lookup_resolved_test\n"
     ]
    },
    {
     "data": {
      "application/vnd.jupyter.widget-view+json": {
       "model_id": "83cfe66bdde441eaadea6c24d05b1422",
       "version_major": 2,
       "version_minor": 0
      },
      "text/plain": [
       "  0%|          | 0/2 [00:00<?, ?it/s]"
      ]
     },
     "metadata": {},
     "output_type": "display_data"
    },
    {
     "name": "stdout",
     "output_type": "stream",
     "text": [
      "main_branch = 17\n",
      "Limb Correspondence AFTER stitching = 122\n",
      "Readjusting starting axon branch skeleton\n",
      "Fixing the axon starting branch endpoint to align with upstream branch\n",
      "Starting Branch 71 skeleton before fix: (625, 2, 3)\n",
      "Starting Branch 71 skeleton AFTER fix: (626, 2, 3)\n",
      "concept_network_dict = {0: [<networkx_utils.GraphOrderedEdges object at 0x7f44e0296e48>]}\n",
      "Assigning the old width calculation because no valid new widths\n",
      "Assigning the old width calculation because no valid new widths\n",
      "\n",
      "\n",
      "----Working on seperate_graph 0----\n",
      "\n",
      "\n",
      "---------Working on soma_idx = 0, soma_group_idx 0, endpt = [1286897.76271186  711075.91186441  911651.82881356]---------\n",
      "Starting_edge inside branches_to_conept = [[1286014.89799397  712977.82780472  911783.68223772]\n",
      " [1286897.76271186  711075.91186441  911651.82881356]]\n",
      "At the start, starting_node (in terms of the skeleton, that shouldn't match the starting edge) = [77]\n",
      "printing out current edge:\n",
      "[[1286897.76271186  711075.91186441  911651.82881356]\n",
      " [1286014.89799397  712977.82780472  911783.68223772]]\n",
      "edge_endpoints_to_process was empty so exiting loop after 132 iterations\n",
      "starting_node in concept map (that should match the starting edge) = 122\n",
      "Total time for branches to concept conversion = 4.343287229537964\n",
      "\n",
      "Done generating concept network \n",
      "\n",
      "\n"
     ]
    },
    {
     "data": {
      "application/vnd.jupyter.widget-view+json": {
       "model_id": "0dcaa3b149e9453aaa178feb4634cabc",
       "version_major": 2,
       "version_minor": 0
      },
      "text/plain": [
       "  0%|          | 0/108 [00:00<?, ?it/s]"
      ]
     },
     "metadata": {},
     "output_type": "display_data"
    },
    {
     "data": {
      "application/vnd.jupyter.widget-view+json": {
       "model_id": "631d3697ce0843a2bbdea6c04ea32869",
       "version_major": 2,
       "version_minor": 0
      },
      "text/plain": [
       "  0%|          | 0/130 [00:00<?, ?it/s]"
      ]
     },
     "metadata": {},
     "output_type": "display_data"
    },
    {
     "data": {
      "application/vnd.jupyter.widget-view+json": {
       "model_id": "ae42d7e16a854554845040698902b576",
       "version_major": 2,
       "version_minor": 0
      },
      "text/plain": [
       "  0%|          | 0/6 [00:00<?, ?it/s]"
      ]
     },
     "metadata": {},
     "output_type": "display_data"
    },
    {
     "data": {
      "application/vnd.jupyter.widget-view+json": {
       "model_id": "d8bcad862c6d4a16bcad78179b34f494",
       "version_major": 2,
       "version_minor": 0
      },
      "text/plain": [
       "  0%|          | 0/9 [00:00<?, ?it/s]"
      ]
     },
     "metadata": {},
     "output_type": "display_data"
    },
    {
     "data": {
      "application/vnd.jupyter.widget-view+json": {
       "model_id": "4a90e5654336416e80a6d0c8a5a13d48",
       "version_major": 2,
       "version_minor": 0
      },
      "text/plain": [
       "  0%|          | 0/19 [00:00<?, ?it/s]"
      ]
     },
     "metadata": {},
     "output_type": "display_data"
    },
    {
     "data": {
      "application/vnd.jupyter.widget-view+json": {
       "model_id": "b78a961bd78e48d98c7d6f94183d5454",
       "version_major": 2,
       "version_minor": 0
      },
      "text/plain": [
       "  0%|          | 0/10 [00:00<?, ?it/s]"
      ]
     },
     "metadata": {},
     "output_type": "display_data"
    },
    {
     "data": {
      "application/vnd.jupyter.widget-view+json": {
       "model_id": "4a332bcd98754c5f8728c2778358c2fe",
       "version_major": 2,
       "version_minor": 0
      },
      "text/plain": [
       "  0%|          | 0/28 [00:00<?, ?it/s]"
      ]
     },
     "metadata": {},
     "output_type": "display_data"
    },
    {
     "data": {
      "application/vnd.jupyter.widget-view+json": {
       "model_id": "f0ef76c452a64be2a34a222344325051",
       "version_major": 2,
       "version_minor": 0
      },
      "text/plain": [
       "  0%|          | 0/22 [00:00<?, ?it/s]"
      ]
     },
     "metadata": {},
     "output_type": "display_data"
    },
    {
     "data": {
      "application/vnd.jupyter.widget-view+json": {
       "model_id": "712203260c3e470c9293d7cd639d5955",
       "version_major": 2,
       "version_minor": 0
      },
      "text/plain": [
       "  0%|          | 0/64 [00:00<?, ?it/s]"
      ]
     },
     "metadata": {},
     "output_type": "display_data"
    },
    {
     "data": {
      "application/vnd.jupyter.widget-view+json": {
       "model_id": "713d2e8eff0e4b1ab3dcb0efb6261efa",
       "version_major": 2,
       "version_minor": 0
      },
      "text/plain": [
       "  0%|          | 0/34 [00:00<?, ?it/s]"
      ]
     },
     "metadata": {},
     "output_type": "display_data"
    },
    {
     "data": {
      "application/vnd.jupyter.widget-view+json": {
       "model_id": "aa0e44f102684a66bd953fe028be15f8",
       "version_major": 2,
       "version_minor": 0
      },
      "text/plain": [
       "  0%|          | 0/5 [00:00<?, ?it/s]"
      ]
     },
     "metadata": {},
     "output_type": "display_data"
    },
    {
     "data": {
      "application/vnd.jupyter.widget-view+json": {
       "model_id": "c143a1f7e0e442e6b22a5de49609e875",
       "version_major": 2,
       "version_minor": 0
      },
      "text/plain": [
       "  0%|          | 0/63 [00:00<?, ?it/s]"
      ]
     },
     "metadata": {},
     "output_type": "display_data"
    },
    {
     "data": {
      "application/vnd.jupyter.widget-view+json": {
       "model_id": "98a573d06b19405eb1c98963aa1a33b9",
       "version_major": 2,
       "version_minor": 0
      },
      "text/plain": [
       "  0%|          | 0/39 [00:00<?, ?it/s]"
      ]
     },
     "metadata": {},
     "output_type": "display_data"
    },
    {
     "data": {
      "application/vnd.jupyter.widget-view+json": {
       "model_id": "ed2c96f42f484bf0bd19a9766355a930",
       "version_major": 2,
       "version_minor": 0
      },
      "text/plain": [
       "  0%|          | 0/22 [00:00<?, ?it/s]"
      ]
     },
     "metadata": {},
     "output_type": "display_data"
    },
    {
     "data": {
      "application/vnd.jupyter.widget-view+json": {
       "model_id": "849f1d18f63f425390d221fbd442315d",
       "version_major": 2,
       "version_minor": 0
      },
      "text/plain": [
       "  0%|          | 0/14 [00:00<?, ?it/s]"
      ]
     },
     "metadata": {},
     "output_type": "display_data"
    },
    {
     "data": {
      "application/vnd.jupyter.widget-view+json": {
       "model_id": "0f02adefc38441aca40675efb88f5121",
       "version_major": 2,
       "version_minor": 0
      },
      "text/plain": [
       "  0%|          | 0/8 [00:00<?, ?it/s]"
      ]
     },
     "metadata": {},
     "output_type": "display_data"
    },
    {
     "data": {
      "application/vnd.jupyter.widget-view+json": {
       "model_id": "c4639f17ba0e4faf891594f058695924",
       "version_major": 2,
       "version_minor": 0
      },
      "text/plain": [
       "  0%|          | 0/33 [00:00<?, ?it/s]"
      ]
     },
     "metadata": {},
     "output_type": "display_data"
    },
    {
     "data": {
      "application/vnd.jupyter.widget-view+json": {
       "model_id": "74728328769c46418a6d732ea5bbadc8",
       "version_major": 2,
       "version_minor": 0
      },
      "text/plain": [
       "  0%|          | 0/5 [00:00<?, ?it/s]"
      ]
     },
     "metadata": {},
     "output_type": "display_data"
    },
    {
     "data": {
      "application/vnd.jupyter.widget-view+json": {
       "model_id": "667443c67bfe4f42a97fb79d5d00eef9",
       "version_major": 2,
       "version_minor": 0
      },
      "text/plain": [
       "  0%|          | 0/4 [00:00<?, ?it/s]"
      ]
     },
     "metadata": {},
     "output_type": "display_data"
    },
    {
     "data": {
      "application/vnd.jupyter.widget-view+json": {
       "model_id": "d0785258e3164e789770773c1dbb08d4",
       "version_major": 2,
       "version_minor": 0
      },
      "text/plain": [
       "  0%|          | 0/6 [00:00<?, ?it/s]"
      ]
     },
     "metadata": {},
     "output_type": "display_data"
    },
    {
     "data": {
      "application/vnd.jupyter.widget-view+json": {
       "model_id": "e8d9b70681264e678ddc5940c2140ee2",
       "version_major": 2,
       "version_minor": 0
      },
      "text/plain": [
       "  0%|          | 0/8 [00:00<?, ?it/s]"
      ]
     },
     "metadata": {},
     "output_type": "display_data"
    },
    {
     "data": {
      "application/vnd.jupyter.widget-view+json": {
       "model_id": "bdf7818e3bb8455d9d44074a9ea93343",
       "version_major": 2,
       "version_minor": 0
      },
      "text/plain": [
       "  0%|          | 0/7 [00:00<?, ?it/s]"
      ]
     },
     "metadata": {},
     "output_type": "display_data"
    },
    {
     "data": {
      "application/vnd.jupyter.widget-view+json": {
       "model_id": "ccb2291fee1c41ff97ab0d03a3683d29",
       "version_major": 2,
       "version_minor": 0
      },
      "text/plain": [
       "  0%|          | 0/18 [00:00<?, ?it/s]"
      ]
     },
     "metadata": {},
     "output_type": "display_data"
    },
    {
     "data": {
      "application/vnd.jupyter.widget-view+json": {
       "model_id": "339b6a3dac014b0e8f106cecfc652d3e",
       "version_major": 2,
       "version_minor": 0
      },
      "text/plain": [
       "  0%|          | 0/7 [00:00<?, ?it/s]"
      ]
     },
     "metadata": {},
     "output_type": "display_data"
    },
    {
     "data": {
      "application/vnd.jupyter.widget-view+json": {
       "model_id": "ee7548567ce94df9a0f20d8f5b4d13c9",
       "version_major": 2,
       "version_minor": 0
      },
      "text/plain": [
       "  0%|          | 0/4 [00:00<?, ?it/s]"
      ]
     },
     "metadata": {},
     "output_type": "display_data"
    },
    {
     "data": {
      "application/vnd.jupyter.widget-view+json": {
       "model_id": "07f4d49569614db8912503a180abf30c",
       "version_major": 2,
       "version_minor": 0
      },
      "text/plain": [
       "  0%|          | 0/33 [00:00<?, ?it/s]"
      ]
     },
     "metadata": {},
     "output_type": "display_data"
    },
    {
     "data": {
      "application/vnd.jupyter.widget-view+json": {
       "model_id": "6645a8f2b28c4c8892e66618962eb74f",
       "version_major": 2,
       "version_minor": 0
      },
      "text/plain": [
       "  0%|          | 0/8 [00:00<?, ?it/s]"
      ]
     },
     "metadata": {},
     "output_type": "display_data"
    },
    {
     "data": {
      "application/vnd.jupyter.widget-view+json": {
       "model_id": "a40d3b3bf0ea45fab1cafaa8c9bff8e7",
       "version_major": 2,
       "version_minor": 0
      },
      "text/plain": [
       "  0%|          | 0/2 [00:00<?, ?it/s]"
      ]
     },
     "metadata": {},
     "output_type": "display_data"
    },
    {
     "data": {
      "application/vnd.jupyter.widget-view+json": {
       "model_id": "afbcc9d228054a7dafefed9192d14254",
       "version_major": 2,
       "version_minor": 0
      },
      "text/plain": [
       "  0%|          | 0/4 [00:00<?, ?it/s]"
      ]
     },
     "metadata": {},
     "output_type": "display_data"
    },
    {
     "data": {
      "application/vnd.jupyter.widget-view+json": {
       "model_id": "90048ad139f44baa9205d2664d28cba3",
       "version_major": 2,
       "version_minor": 0
      },
      "text/plain": [
       "  0%|          | 0/52 [00:00<?, ?it/s]"
      ]
     },
     "metadata": {},
     "output_type": "display_data"
    },
    {
     "data": {
      "application/vnd.jupyter.widget-view+json": {
       "model_id": "a68d24c3e1df48fda95ee22e32c83fd1",
       "version_major": 2,
       "version_minor": 0
      },
      "text/plain": [
       "  0%|          | 0/4 [00:00<?, ?it/s]"
      ]
     },
     "metadata": {},
     "output_type": "display_data"
    },
    {
     "data": {
      "application/vnd.jupyter.widget-view+json": {
       "model_id": "1f500a9d8c514488b13d7c6f74c9f694",
       "version_major": 2,
       "version_minor": 0
      },
      "text/plain": [
       "  0%|          | 0/8 [00:00<?, ?it/s]"
      ]
     },
     "metadata": {},
     "output_type": "display_data"
    },
    {
     "data": {
      "application/vnd.jupyter.widget-view+json": {
       "model_id": "6af95eb532da49f99d4c060754afd37c",
       "version_major": 2,
       "version_minor": 0
      },
      "text/plain": [
       "  0%|          | 0/52 [00:00<?, ?it/s]"
      ]
     },
     "metadata": {},
     "output_type": "display_data"
    },
    {
     "data": {
      "application/vnd.jupyter.widget-view+json": {
       "model_id": "0fd8b2f25e364e8e8c06754ebf0e6841",
       "version_major": 2,
       "version_minor": 0
      },
      "text/plain": [
       "  0%|          | 0/29 [00:00<?, ?it/s]"
      ]
     },
     "metadata": {},
     "output_type": "display_data"
    },
    {
     "data": {
      "application/vnd.jupyter.widget-view+json": {
       "model_id": "2ca27c892b2e4364868c8c35e07dfd00",
       "version_major": 2,
       "version_minor": 0
      },
      "text/plain": [
       "  0%|          | 0/4 [00:00<?, ?it/s]"
      ]
     },
     "metadata": {},
     "output_type": "display_data"
    },
    {
     "data": {
      "application/vnd.jupyter.widget-view+json": {
       "model_id": "a4a5f9524b4b472bbf8ac11a019fcaba",
       "version_major": 2,
       "version_minor": 0
      },
      "text/plain": [
       "  0%|          | 0/7 [00:00<?, ?it/s]"
      ]
     },
     "metadata": {},
     "output_type": "display_data"
    },
    {
     "data": {
      "application/vnd.jupyter.widget-view+json": {
       "model_id": "2eb4197ac05d43adaaa48673905fbdde",
       "version_major": 2,
       "version_minor": 0
      },
      "text/plain": [
       "  0%|          | 0/3 [00:00<?, ?it/s]"
      ]
     },
     "metadata": {},
     "output_type": "display_data"
    },
    {
     "data": {
      "application/vnd.jupyter.widget-view+json": {
       "model_id": "0118dcb8dd0f40dba9d3aa508ce38a09",
       "version_major": 2,
       "version_minor": 0
      },
      "text/plain": [
       "  0%|          | 0/6 [00:00<?, ?it/s]"
      ]
     },
     "metadata": {},
     "output_type": "display_data"
    },
    {
     "data": {
      "application/vnd.jupyter.widget-view+json": {
       "model_id": "cfca92b79e274af18bf5349334dafcda",
       "version_major": 2,
       "version_minor": 0
      },
      "text/plain": [
       "  0%|          | 0/61 [00:00<?, ?it/s]"
      ]
     },
     "metadata": {},
     "output_type": "display_data"
    },
    {
     "data": {
      "application/vnd.jupyter.widget-view+json": {
       "model_id": "d612478ce1014b309ac1334ccb08fef1",
       "version_major": 2,
       "version_minor": 0
      },
      "text/plain": [
       "  0%|          | 0/30 [00:00<?, ?it/s]"
      ]
     },
     "metadata": {},
     "output_type": "display_data"
    },
    {
     "data": {
      "application/vnd.jupyter.widget-view+json": {
       "model_id": "3d6ce645480d45efac55bda187016b1a",
       "version_major": 2,
       "version_minor": 0
      },
      "text/plain": [
       "  0%|          | 0/29 [00:00<?, ?it/s]"
      ]
     },
     "metadata": {},
     "output_type": "display_data"
    },
    {
     "data": {
      "application/vnd.jupyter.widget-view+json": {
       "model_id": "09a63415408c44adba734c8b6327184a",
       "version_major": 2,
       "version_minor": 0
      },
      "text/plain": [
       "  0%|          | 0/59 [00:00<?, ?it/s]"
      ]
     },
     "metadata": {},
     "output_type": "display_data"
    },
    {
     "data": {
      "application/vnd.jupyter.widget-view+json": {
       "model_id": "380effbc3a1744e0ba54e1316a6fa7a3",
       "version_major": 2,
       "version_minor": 0
      },
      "text/plain": [
       "  0%|          | 0/33 [00:00<?, ?it/s]"
      ]
     },
     "metadata": {},
     "output_type": "display_data"
    },
    {
     "data": {
      "application/vnd.jupyter.widget-view+json": {
       "model_id": "7c793a444a6248b3919cfa77a9c905b0",
       "version_major": 2,
       "version_minor": 0
      },
      "text/plain": [
       "  0%|          | 0/7 [00:00<?, ?it/s]"
      ]
     },
     "metadata": {},
     "output_type": "display_data"
    },
    {
     "data": {
      "application/vnd.jupyter.widget-view+json": {
       "model_id": "f92afa765a674ba08d6a19d9481b8401",
       "version_major": 2,
       "version_minor": 0
      },
      "text/plain": [
       "  0%|          | 0/33 [00:00<?, ?it/s]"
      ]
     },
     "metadata": {},
     "output_type": "display_data"
    },
    {
     "data": {
      "application/vnd.jupyter.widget-view+json": {
       "model_id": "dae0a51c69d849ed9dadb2b22c005ea8",
       "version_major": 2,
       "version_minor": 0
      },
      "text/plain": [
       "  0%|          | 0/84 [00:00<?, ?it/s]"
      ]
     },
     "metadata": {},
     "output_type": "display_data"
    },
    {
     "data": {
      "application/vnd.jupyter.widget-view+json": {
       "model_id": "749e85df003b4a889d9cdb09c8edd1b6",
       "version_major": 2,
       "version_minor": 0
      },
      "text/plain": [
       "  0%|          | 0/25 [00:00<?, ?it/s]"
      ]
     },
     "metadata": {},
     "output_type": "display_data"
    },
    {
     "data": {
      "application/vnd.jupyter.widget-view+json": {
       "model_id": "576db924ecfb4eea9e3d9d2c0a0def4f",
       "version_major": 2,
       "version_minor": 0
      },
      "text/plain": [
       "  0%|          | 0/23 [00:00<?, ?it/s]"
      ]
     },
     "metadata": {},
     "output_type": "display_data"
    },
    {
     "data": {
      "application/vnd.jupyter.widget-view+json": {
       "model_id": "5f05f98942ee4caaa251fa24de5597e2",
       "version_major": 2,
       "version_minor": 0
      },
      "text/plain": [
       "  0%|          | 0/10 [00:00<?, ?it/s]"
      ]
     },
     "metadata": {},
     "output_type": "display_data"
    },
    {
     "data": {
      "application/vnd.jupyter.widget-view+json": {
       "model_id": "e8b0d803c60440778d8a1fd4ec6988fb",
       "version_major": 2,
       "version_minor": 0
      },
      "text/plain": [
       "  0%|          | 0/41 [00:00<?, ?it/s]"
      ]
     },
     "metadata": {},
     "output_type": "display_data"
    },
    {
     "data": {
      "application/vnd.jupyter.widget-view+json": {
       "model_id": "5f16047a8be94100857d953c852aa445",
       "version_major": 2,
       "version_minor": 0
      },
      "text/plain": [
       "  0%|          | 0/7 [00:00<?, ?it/s]"
      ]
     },
     "metadata": {},
     "output_type": "display_data"
    },
    {
     "data": {
      "application/vnd.jupyter.widget-view+json": {
       "model_id": "a22eb884f4a2454b85a3707fdb86caa0",
       "version_major": 2,
       "version_minor": 0
      },
      "text/plain": [
       "  0%|          | 0/64 [00:00<?, ?it/s]"
      ]
     },
     "metadata": {},
     "output_type": "display_data"
    },
    {
     "data": {
      "application/vnd.jupyter.widget-view+json": {
       "model_id": "6e429c5aa21849a6bc6a805a4b8cac3f",
       "version_major": 2,
       "version_minor": 0
      },
      "text/plain": [
       "  0%|          | 0/8 [00:00<?, ?it/s]"
      ]
     },
     "metadata": {},
     "output_type": "display_data"
    },
    {
     "data": {
      "application/vnd.jupyter.widget-view+json": {
       "model_id": "f59301b96bad445aa17605eb2743d583",
       "version_major": 2,
       "version_minor": 0
      },
      "text/plain": [
       "  0%|          | 0/10 [00:00<?, ?it/s]"
      ]
     },
     "metadata": {},
     "output_type": "display_data"
    },
    {
     "data": {
      "application/vnd.jupyter.widget-view+json": {
       "model_id": "3fb7142c19934d39a5cbc2dc3fbfa27e",
       "version_major": 2,
       "version_minor": 0
      },
      "text/plain": [
       "  0%|          | 0/3 [00:00<?, ?it/s]"
      ]
     },
     "metadata": {},
     "output_type": "display_data"
    },
    {
     "data": {
      "application/vnd.jupyter.widget-view+json": {
       "model_id": "5766d3ff75b94c98a8bb5af41fa4fa43",
       "version_major": 2,
       "version_minor": 0
      },
      "text/plain": [
       "  0%|          | 0/3 [00:00<?, ?it/s]"
      ]
     },
     "metadata": {},
     "output_type": "display_data"
    },
    {
     "data": {
      "application/vnd.jupyter.widget-view+json": {
       "model_id": "c6343c4607e84733ab6661fa3de8c33c",
       "version_major": 2,
       "version_minor": 0
      },
      "text/plain": [
       "  0%|          | 0/10 [00:00<?, ?it/s]"
      ]
     },
     "metadata": {},
     "output_type": "display_data"
    },
    {
     "data": {
      "application/vnd.jupyter.widget-view+json": {
       "model_id": "1f3931593b5c47c1bdd0cd5b27599788",
       "version_major": 2,
       "version_minor": 0
      },
      "text/plain": [
       "  0%|          | 0/9 [00:00<?, ?it/s]"
      ]
     },
     "metadata": {},
     "output_type": "display_data"
    },
    {
     "data": {
      "application/vnd.jupyter.widget-view+json": {
       "model_id": "e55b5a05348249fea4b64f08af718f1b",
       "version_major": 2,
       "version_minor": 0
      },
      "text/plain": [
       "  0%|          | 0/116 [00:00<?, ?it/s]"
      ]
     },
     "metadata": {},
     "output_type": "display_data"
    },
    {
     "data": {
      "application/vnd.jupyter.widget-view+json": {
       "model_id": "9daef1b3b40e4779ba32589c7ba6177d",
       "version_major": 2,
       "version_minor": 0
      },
      "text/plain": [
       "  0%|          | 0/17 [00:00<?, ?it/s]"
      ]
     },
     "metadata": {},
     "output_type": "display_data"
    },
    {
     "data": {
      "application/vnd.jupyter.widget-view+json": {
       "model_id": "ced7bf24d6dd410cbd9bbba59cac565e",
       "version_major": 2,
       "version_minor": 0
      },
      "text/plain": [
       "  0%|          | 0/5 [00:00<?, ?it/s]"
      ]
     },
     "metadata": {},
     "output_type": "display_data"
    },
    {
     "data": {
      "application/vnd.jupyter.widget-view+json": {
       "model_id": "dbcf5a7c16de4e978c192a446b961a41",
       "version_major": 2,
       "version_minor": 0
      },
      "text/plain": [
       "  0%|          | 0/32 [00:00<?, ?it/s]"
      ]
     },
     "metadata": {},
     "output_type": "display_data"
    },
    {
     "data": {
      "application/vnd.jupyter.widget-view+json": {
       "model_id": "a817c41ad1b34700b8240f0aabef3192",
       "version_major": 2,
       "version_minor": 0
      },
      "text/plain": [
       "  0%|          | 0/6 [00:00<?, ?it/s]"
      ]
     },
     "metadata": {},
     "output_type": "display_data"
    },
    {
     "data": {
      "application/vnd.jupyter.widget-view+json": {
       "model_id": "8ca739d8a09b441dbae07128d589c63b",
       "version_major": 2,
       "version_minor": 0
      },
      "text/plain": [
       "  0%|          | 0/13 [00:00<?, ?it/s]"
      ]
     },
     "metadata": {},
     "output_type": "display_data"
    },
    {
     "data": {
      "application/vnd.jupyter.widget-view+json": {
       "model_id": "534b1277c7e840b89d832e46519b3a82",
       "version_major": 2,
       "version_minor": 0
      },
      "text/plain": [
       "  0%|          | 0/6 [00:00<?, ?it/s]"
      ]
     },
     "metadata": {},
     "output_type": "display_data"
    },
    {
     "data": {
      "application/vnd.jupyter.widget-view+json": {
       "model_id": "04a552b1cc1e484db35ddd111e7c8f8d",
       "version_major": 2,
       "version_minor": 0
      },
      "text/plain": [
       "  0%|          | 0/33 [00:00<?, ?it/s]"
      ]
     },
     "metadata": {},
     "output_type": "display_data"
    },
    {
     "data": {
      "application/vnd.jupyter.widget-view+json": {
       "model_id": "6709cfee4a1a4861ac666a4ad198980f",
       "version_major": 2,
       "version_minor": 0
      },
      "text/plain": [
       "  0%|          | 0/26 [00:00<?, ?it/s]"
      ]
     },
     "metadata": {},
     "output_type": "display_data"
    },
    {
     "data": {
      "application/vnd.jupyter.widget-view+json": {
       "model_id": "ed11758671b841f09b3c59701adab4b5",
       "version_major": 2,
       "version_minor": 0
      },
      "text/plain": [
       "  0%|          | 0/71 [00:00<?, ?it/s]"
      ]
     },
     "metadata": {},
     "output_type": "display_data"
    },
    {
     "data": {
      "application/vnd.jupyter.widget-view+json": {
       "model_id": "9bdb6fb698384860bb4dd8b89bdb402c",
       "version_major": 2,
       "version_minor": 0
      },
      "text/plain": [
       "  0%|          | 0/37 [00:00<?, ?it/s]"
      ]
     },
     "metadata": {},
     "output_type": "display_data"
    },
    {
     "data": {
      "application/vnd.jupyter.widget-view+json": {
       "model_id": "cb2fed61833e4445a8c0de12f1bc74f7",
       "version_major": 2,
       "version_minor": 0
      },
      "text/plain": [
       "  0%|          | 0/6 [00:00<?, ?it/s]"
      ]
     },
     "metadata": {},
     "output_type": "display_data"
    },
    {
     "data": {
      "application/vnd.jupyter.widget-view+json": {
       "model_id": "6bb5075c1ce44050a90518c31036a6c7",
       "version_major": 2,
       "version_minor": 0
      },
      "text/plain": [
       "  0%|          | 0/71 [00:00<?, ?it/s]"
      ]
     },
     "metadata": {},
     "output_type": "display_data"
    },
    {
     "data": {
      "application/vnd.jupyter.widget-view+json": {
       "model_id": "5d59bdb1e7954930b9bfce3a3687ec72",
       "version_major": 2,
       "version_minor": 0
      },
      "text/plain": [
       "  0%|          | 0/9 [00:00<?, ?it/s]"
      ]
     },
     "metadata": {},
     "output_type": "display_data"
    },
    {
     "data": {
      "application/vnd.jupyter.widget-view+json": {
       "model_id": "dda050ca98774dcca7708aa01329ce11",
       "version_major": 2,
       "version_minor": 0
      },
      "text/plain": [
       "  0%|          | 0/14 [00:00<?, ?it/s]"
      ]
     },
     "metadata": {},
     "output_type": "display_data"
    },
    {
     "data": {
      "application/vnd.jupyter.widget-view+json": {
       "model_id": "c24c9aab124c47f2933dc801df65c38c",
       "version_major": 2,
       "version_minor": 0
      },
      "text/plain": [
       "  0%|          | 0/7 [00:00<?, ?it/s]"
      ]
     },
     "metadata": {},
     "output_type": "display_data"
    },
    {
     "data": {
      "application/vnd.jupyter.widget-view+json": {
       "model_id": "17d1c4e2a50b455abc9cb9b57eca4ad1",
       "version_major": 2,
       "version_minor": 0
      },
      "text/plain": [
       "  0%|          | 0/12 [00:00<?, ?it/s]"
      ]
     },
     "metadata": {},
     "output_type": "display_data"
    },
    {
     "data": {
      "application/vnd.jupyter.widget-view+json": {
       "model_id": "c0d493a69dac4dbba5256d39e461b48a",
       "version_major": 2,
       "version_minor": 0
      },
      "text/plain": [
       "  0%|          | 0/27 [00:00<?, ?it/s]"
      ]
     },
     "metadata": {},
     "output_type": "display_data"
    },
    {
     "data": {
      "application/vnd.jupyter.widget-view+json": {
       "model_id": "8d3a2a8b3d364b769f2b832d429f8620",
       "version_major": 2,
       "version_minor": 0
      },
      "text/plain": [
       "  0%|          | 0/14 [00:00<?, ?it/s]"
      ]
     },
     "metadata": {},
     "output_type": "display_data"
    },
    {
     "data": {
      "application/vnd.jupyter.widget-view+json": {
       "model_id": "5bd20f0f2a584e9ab4f7dbf6fe9335cb",
       "version_major": 2,
       "version_minor": 0
      },
      "text/plain": [
       "  0%|          | 0/11 [00:00<?, ?it/s]"
      ]
     },
     "metadata": {},
     "output_type": "display_data"
    },
    {
     "data": {
      "application/vnd.jupyter.widget-view+json": {
       "model_id": "3b9c9c610c19445fa7b3bc41a56c3beb",
       "version_major": 2,
       "version_minor": 0
      },
      "text/plain": [
       "  0%|          | 0/30 [00:00<?, ?it/s]"
      ]
     },
     "metadata": {},
     "output_type": "display_data"
    },
    {
     "data": {
      "application/vnd.jupyter.widget-view+json": {
       "model_id": "316ad7269b844547be5b2158e2f48052",
       "version_major": 2,
       "version_minor": 0
      },
      "text/plain": [
       "  0%|          | 0/5 [00:00<?, ?it/s]"
      ]
     },
     "metadata": {},
     "output_type": "display_data"
    },
    {
     "data": {
      "application/vnd.jupyter.widget-view+json": {
       "model_id": "c06417aae81544ba95d75905cad42cd8",
       "version_major": 2,
       "version_minor": 0
      },
      "text/plain": [
       "  0%|          | 0/16 [00:00<?, ?it/s]"
      ]
     },
     "metadata": {},
     "output_type": "display_data"
    },
    {
     "data": {
      "application/vnd.jupyter.widget-view+json": {
       "model_id": "8bf541a39529443288809b9a1436e06a",
       "version_major": 2,
       "version_minor": 0
      },
      "text/plain": [
       "  0%|          | 0/107 [00:00<?, ?it/s]"
      ]
     },
     "metadata": {},
     "output_type": "display_data"
    },
    {
     "data": {
      "application/vnd.jupyter.widget-view+json": {
       "model_id": "b190ef20be6b481bb57769f2e58ad802",
       "version_major": 2,
       "version_minor": 0
      },
      "text/plain": [
       "  0%|          | 0/9 [00:00<?, ?it/s]"
      ]
     },
     "metadata": {},
     "output_type": "display_data"
    },
    {
     "data": {
      "application/vnd.jupyter.widget-view+json": {
       "model_id": "2438c97983c0475d9b5d0aa411cac2fe",
       "version_major": 2,
       "version_minor": 0
      },
      "text/plain": [
       "  0%|          | 0/18 [00:00<?, ?it/s]"
      ]
     },
     "metadata": {},
     "output_type": "display_data"
    },
    {
     "data": {
      "application/vnd.jupyter.widget-view+json": {
       "model_id": "e914ab075c3446398e1d242ad74e8b05",
       "version_major": 2,
       "version_minor": 0
      },
      "text/plain": [
       "  0%|          | 0/2 [00:00<?, ?it/s]"
      ]
     },
     "metadata": {},
     "output_type": "display_data"
    },
    {
     "data": {
      "application/vnd.jupyter.widget-view+json": {
       "model_id": "760db6d723b145749c1155f60c6b3787",
       "version_major": 2,
       "version_minor": 0
      },
      "text/plain": [
       "  0%|          | 0/9 [00:00<?, ?it/s]"
      ]
     },
     "metadata": {},
     "output_type": "display_data"
    },
    {
     "data": {
      "application/vnd.jupyter.widget-view+json": {
       "model_id": "cf9eeef091824dccb88ad0bf6b90e797",
       "version_major": 2,
       "version_minor": 0
      },
      "text/plain": [
       "  0%|          | 0/26 [00:00<?, ?it/s]"
      ]
     },
     "metadata": {},
     "output_type": "display_data"
    },
    {
     "data": {
      "application/vnd.jupyter.widget-view+json": {
       "model_id": "910a46f144374efbbfaa177f8803a56e",
       "version_major": 2,
       "version_minor": 0
      },
      "text/plain": [
       "  0%|          | 0/3 [00:00<?, ?it/s]"
      ]
     },
     "metadata": {},
     "output_type": "display_data"
    },
    {
     "data": {
      "application/vnd.jupyter.widget-view+json": {
       "model_id": "b00b2e88adf04828b040134c80dae490",
       "version_major": 2,
       "version_minor": 0
      },
      "text/plain": [
       "  0%|          | 0/33 [00:00<?, ?it/s]"
      ]
     },
     "metadata": {},
     "output_type": "display_data"
    },
    {
     "data": {
      "application/vnd.jupyter.widget-view+json": {
       "model_id": "a99448a6d13a422db7b8dfcaa8f3327c",
       "version_major": 2,
       "version_minor": 0
      },
      "text/plain": [
       "  0%|          | 0/31 [00:00<?, ?it/s]"
      ]
     },
     "metadata": {},
     "output_type": "display_data"
    },
    {
     "data": {
      "application/vnd.jupyter.widget-view+json": {
       "model_id": "f9ee2e2fa0ae4c4e8dacda16132f2dbc",
       "version_major": 2,
       "version_minor": 0
      },
      "text/plain": [
       "  0%|          | 0/10 [00:00<?, ?it/s]"
      ]
     },
     "metadata": {},
     "output_type": "display_data"
    },
    {
     "data": {
      "application/vnd.jupyter.widget-view+json": {
       "model_id": "c64b319583e844528142bd5960df049d",
       "version_major": 2,
       "version_minor": 0
      },
      "text/plain": [
       "  0%|          | 0/7 [00:00<?, ?it/s]"
      ]
     },
     "metadata": {},
     "output_type": "display_data"
    },
    {
     "data": {
      "application/vnd.jupyter.widget-view+json": {
       "model_id": "43cb2f4db1cb43b4a5f7c63bf34fdb40",
       "version_major": 2,
       "version_minor": 0
      },
      "text/plain": [
       "  0%|          | 0/8 [00:00<?, ?it/s]"
      ]
     },
     "metadata": {},
     "output_type": "display_data"
    },
    {
     "data": {
      "application/vnd.jupyter.widget-view+json": {
       "model_id": "67431a490c2b46b9b71860cd49c42b3e",
       "version_major": 2,
       "version_minor": 0
      },
      "text/plain": [
       "  0%|          | 0/10 [00:00<?, ?it/s]"
      ]
     },
     "metadata": {},
     "output_type": "display_data"
    },
    {
     "data": {
      "application/vnd.jupyter.widget-view+json": {
       "model_id": "7d257bb2043a472883cfb3f36f0b0616",
       "version_major": 2,
       "version_minor": 0
      },
      "text/plain": [
       "  0%|          | 0/33 [00:00<?, ?it/s]"
      ]
     },
     "metadata": {},
     "output_type": "display_data"
    },
    {
     "data": {
      "application/vnd.jupyter.widget-view+json": {
       "model_id": "b7edc3f7d7044f7b844fd6464e9edeb1",
       "version_major": 2,
       "version_minor": 0
      },
      "text/plain": [
       "  0%|          | 0/5 [00:00<?, ?it/s]"
      ]
     },
     "metadata": {},
     "output_type": "display_data"
    },
    {
     "data": {
      "application/vnd.jupyter.widget-view+json": {
       "model_id": "510952c6782d4c7c809d5f92aaaab5cf",
       "version_major": 2,
       "version_minor": 0
      },
      "text/plain": [
       "  0%|          | 0/12 [00:00<?, ?it/s]"
      ]
     },
     "metadata": {},
     "output_type": "display_data"
    },
    {
     "data": {
      "application/vnd.jupyter.widget-view+json": {
       "model_id": "a8b45ba27ed544ca9fe4034d1baa8299",
       "version_major": 2,
       "version_minor": 0
      },
      "text/plain": [
       "  0%|          | 0/44 [00:00<?, ?it/s]"
      ]
     },
     "metadata": {},
     "output_type": "display_data"
    },
    {
     "data": {
      "application/vnd.jupyter.widget-view+json": {
       "model_id": "3b0518d5a4d845debfaced9a07488280",
       "version_major": 2,
       "version_minor": 0
      },
      "text/plain": [
       "  0%|          | 0/22 [00:00<?, ?it/s]"
      ]
     },
     "metadata": {},
     "output_type": "display_data"
    },
    {
     "data": {
      "application/vnd.jupyter.widget-view+json": {
       "model_id": "667e10ebc1f0487fb43e25e803271fea",
       "version_major": 2,
       "version_minor": 0
      },
      "text/plain": [
       "  0%|          | 0/12 [00:00<?, ?it/s]"
      ]
     },
     "metadata": {},
     "output_type": "display_data"
    },
    {
     "data": {
      "application/vnd.jupyter.widget-view+json": {
       "model_id": "fc69bf67568147178abaebaf53bbbde4",
       "version_major": 2,
       "version_minor": 0
      },
      "text/plain": [
       "  0%|          | 0/22 [00:00<?, ?it/s]"
      ]
     },
     "metadata": {},
     "output_type": "display_data"
    },
    {
     "data": {
      "application/vnd.jupyter.widget-view+json": {
       "model_id": "527f68298aa147f7993f493e1b119c12",
       "version_major": 2,
       "version_minor": 0
      },
      "text/plain": [
       "  0%|          | 0/12 [00:00<?, ?it/s]"
      ]
     },
     "metadata": {},
     "output_type": "display_data"
    },
    {
     "data": {
      "application/vnd.jupyter.widget-view+json": {
       "model_id": "f5a9279441d64133acb66ab2e3e2321c",
       "version_major": 2,
       "version_minor": 0
      },
      "text/plain": [
       "  0%|          | 0/40 [00:00<?, ?it/s]"
      ]
     },
     "metadata": {},
     "output_type": "display_data"
    },
    {
     "data": {
      "application/vnd.jupyter.widget-view+json": {
       "model_id": "74ef070525b64238ae69692df9fb622d",
       "version_major": 2,
       "version_minor": 0
      },
      "text/plain": [
       "  0%|          | 0/5 [00:00<?, ?it/s]"
      ]
     },
     "metadata": {},
     "output_type": "display_data"
    },
    {
     "data": {
      "application/vnd.jupyter.widget-view+json": {
       "model_id": "72511dc006e64e2c8891d43c822f64c0",
       "version_major": 2,
       "version_minor": 0
      },
      "text/plain": [
       "  0%|          | 0/2 [00:00<?, ?it/s]"
      ]
     },
     "metadata": {},
     "output_type": "display_data"
    },
    {
     "data": {
      "application/vnd.jupyter.widget-view+json": {
       "model_id": "dc52b52ff1ca4caeac55f22099836492",
       "version_major": 2,
       "version_minor": 0
      },
      "text/plain": [
       "  0%|          | 0/152 [00:00<?, ?it/s]"
      ]
     },
     "metadata": {},
     "output_type": "display_data"
    },
    {
     "data": {
      "application/vnd.jupyter.widget-view+json": {
       "model_id": "c37f0ebb1565491084cc0eba1676dc99",
       "version_major": 2,
       "version_minor": 0
      },
      "text/plain": [
       "  0%|          | 0/5 [00:00<?, ?it/s]"
      ]
     },
     "metadata": {},
     "output_type": "display_data"
    },
    {
     "data": {
      "application/vnd.jupyter.widget-view+json": {
       "model_id": "0f292d07c7004e0cacd98c48f0b863c4",
       "version_major": 2,
       "version_minor": 0
      },
      "text/plain": [
       "  0%|          | 0/18 [00:00<?, ?it/s]"
      ]
     },
     "metadata": {},
     "output_type": "display_data"
    },
    {
     "data": {
      "application/vnd.jupyter.widget-view+json": {
       "model_id": "7e61ccc29d7a4010a7809a9ee49cd517",
       "version_major": 2,
       "version_minor": 0
      },
      "text/plain": [
       "  0%|          | 0/14 [00:00<?, ?it/s]"
      ]
     },
     "metadata": {},
     "output_type": "display_data"
    },
    {
     "data": {
      "application/vnd.jupyter.widget-view+json": {
       "model_id": "0881c45b3fa04f0f87ff5fc83f8e53d4",
       "version_major": 2,
       "version_minor": 0
      },
      "text/plain": [
       "  0%|          | 0/134 [00:00<?, ?it/s]"
      ]
     },
     "metadata": {},
     "output_type": "display_data"
    },
    {
     "data": {
      "application/vnd.jupyter.widget-view+json": {
       "model_id": "1cbb8b7bcded4e4a975cc67f69003dec",
       "version_major": 2,
       "version_minor": 0
      },
      "text/plain": [
       "  0%|          | 0/21 [00:00<?, ?it/s]"
      ]
     },
     "metadata": {},
     "output_type": "display_data"
    },
    {
     "data": {
      "application/vnd.jupyter.widget-view+json": {
       "model_id": "46e7e4ba1b02490c8242a6e0857cd48d",
       "version_major": 2,
       "version_minor": 0
      },
      "text/plain": [
       "  0%|          | 0/13 [00:00<?, ?it/s]"
      ]
     },
     "metadata": {},
     "output_type": "display_data"
    },
    {
     "data": {
      "application/vnd.jupyter.widget-view+json": {
       "model_id": "ec87dbbee820406d922e80228307dc33",
       "version_major": 2,
       "version_minor": 0
      },
      "text/plain": [
       "  0%|          | 0/34 [00:00<?, ?it/s]"
      ]
     },
     "metadata": {},
     "output_type": "display_data"
    },
    {
     "data": {
      "application/vnd.jupyter.widget-view+json": {
       "model_id": "db855e22a45a4493bae8e916979df6dc",
       "version_major": 2,
       "version_minor": 0
      },
      "text/plain": [
       "  0%|          | 0/13 [00:00<?, ?it/s]"
      ]
     },
     "metadata": {},
     "output_type": "display_data"
    },
    {
     "data": {
      "application/vnd.jupyter.widget-view+json": {
       "model_id": "f72d802346f24590bb759900243991a9",
       "version_major": 2,
       "version_minor": 0
      },
      "text/plain": [
       "  0%|          | 0/28 [00:00<?, ?it/s]"
      ]
     },
     "metadata": {},
     "output_type": "display_data"
    },
    {
     "data": {
      "application/vnd.jupyter.widget-view+json": {
       "model_id": "493585b806824cdaa063bf9e79c6b298",
       "version_major": 2,
       "version_minor": 0
      },
      "text/plain": [
       "  0%|          | 0/46 [00:00<?, ?it/s]"
      ]
     },
     "metadata": {},
     "output_type": "display_data"
    },
    {
     "data": {
      "application/vnd.jupyter.widget-view+json": {
       "model_id": "19c1f4cc2a214bea9fd37bc76d642727",
       "version_major": 2,
       "version_minor": 0
      },
      "text/plain": [
       "  0%|          | 0/26 [00:00<?, ?it/s]"
      ]
     },
     "metadata": {},
     "output_type": "display_data"
    },
    {
     "data": {
      "application/vnd.jupyter.widget-view+json": {
       "model_id": "e563c6bec7884297a5b5bffe04996d25",
       "version_major": 2,
       "version_minor": 0
      },
      "text/plain": [
       "  0%|          | 0/27 [00:00<?, ?it/s]"
      ]
     },
     "metadata": {},
     "output_type": "display_data"
    },
    {
     "data": {
      "application/vnd.jupyter.widget-view+json": {
       "model_id": "2518c41331c74e66b4230e01b889ef63",
       "version_major": 2,
       "version_minor": 0
      },
      "text/plain": [
       "  0%|          | 0/14 [00:00<?, ?it/s]"
      ]
     },
     "metadata": {},
     "output_type": "display_data"
    },
    {
     "data": {
      "application/vnd.jupyter.widget-view+json": {
       "model_id": "ad23b97f2c594fb09ecee00611642370",
       "version_major": 2,
       "version_minor": 0
      },
      "text/plain": [
       "  0%|          | 0/124 [00:00<?, ?it/s]"
      ]
     },
     "metadata": {},
     "output_type": "display_data"
    },
    {
     "data": {
      "application/vnd.jupyter.widget-view+json": {
       "model_id": "669c7c6323774a9e9115a0a2bdfcc676",
       "version_major": 2,
       "version_minor": 0
      },
      "text/plain": [
       "  0%|          | 0/21 [00:00<?, ?it/s]"
      ]
     },
     "metadata": {},
     "output_type": "display_data"
    },
    {
     "data": {
      "application/vnd.jupyter.widget-view+json": {
       "model_id": "112fce0db4654641b81a4dbc91434fc7",
       "version_major": 2,
       "version_minor": 0
      },
      "text/plain": [
       "  0%|          | 0/13 [00:00<?, ?it/s]"
      ]
     },
     "metadata": {},
     "output_type": "display_data"
    },
    {
     "data": {
      "application/vnd.jupyter.widget-view+json": {
       "model_id": "4280cea2b8b646dd80b2bb4418e646aa",
       "version_major": 2,
       "version_minor": 0
      },
      "text/plain": [
       "  0%|          | 0/15 [00:00<?, ?it/s]"
      ]
     },
     "metadata": {},
     "output_type": "display_data"
    },
    {
     "data": {
      "application/vnd.jupyter.widget-view+json": {
       "model_id": "d710daab1a59453f95f7a95502554173",
       "version_major": 2,
       "version_minor": 0
      },
      "text/plain": [
       "  0%|          | 0/13 [00:00<?, ?it/s]"
      ]
     },
     "metadata": {},
     "output_type": "display_data"
    },
    {
     "data": {
      "application/vnd.jupyter.widget-view+json": {
       "model_id": "ddab0c814323469bb73e7ec706a3e257",
       "version_major": 2,
       "version_minor": 0
      },
      "text/plain": [
       "  0%|          | 0/63 [00:00<?, ?it/s]"
      ]
     },
     "metadata": {},
     "output_type": "display_data"
    },
    {
     "data": {
      "application/vnd.jupyter.widget-view+json": {
       "model_id": "909132f23c904c6bbf0cfde414eb847f",
       "version_major": 2,
       "version_minor": 0
      },
      "text/plain": [
       "  0%|          | 0/25 [00:00<?, ?it/s]"
      ]
     },
     "metadata": {},
     "output_type": "display_data"
    },
    {
     "data": {
      "application/vnd.jupyter.widget-view+json": {
       "model_id": "89372286318347d7ad6c6d327f7d4485",
       "version_major": 2,
       "version_minor": 0
      },
      "text/plain": [
       "  0%|          | 0/14 [00:00<?, ?it/s]"
      ]
     },
     "metadata": {},
     "output_type": "display_data"
    },
    {
     "data": {
      "application/vnd.jupyter.widget-view+json": {
       "model_id": "e3f0f557dc8f44b78c6d56b3d315bfa6",
       "version_major": 2,
       "version_minor": 0
      },
      "text/plain": [
       "  0%|          | 0/57 [00:00<?, ?it/s]"
      ]
     },
     "metadata": {},
     "output_type": "display_data"
    },
    {
     "data": {
      "application/vnd.jupyter.widget-view+json": {
       "model_id": "457c473999394abc952e7ef9ca110529",
       "version_major": 2,
       "version_minor": 0
      },
      "text/plain": [
       "  0%|          | 0/10 [00:00<?, ?it/s]"
      ]
     },
     "metadata": {},
     "output_type": "display_data"
    },
    {
     "data": {
      "application/vnd.jupyter.widget-view+json": {
       "model_id": "c8dda0317ffb44f49f969fd0b9c22c75",
       "version_major": 2,
       "version_minor": 0
      },
      "text/plain": [
       "  0%|          | 0/59 [00:00<?, ?it/s]"
      ]
     },
     "metadata": {},
     "output_type": "display_data"
    },
    {
     "data": {
      "application/vnd.jupyter.widget-view+json": {
       "model_id": "e4d94acf26144e66b8769a2b93734b74",
       "version_major": 2,
       "version_minor": 0
      },
      "text/plain": [
       "  0%|          | 0/84 [00:00<?, ?it/s]"
      ]
     },
     "metadata": {},
     "output_type": "display_data"
    },
    {
     "data": {
      "application/vnd.jupyter.widget-view+json": {
       "model_id": "38dbacb7a1bb4e0bbd330ef791a99119",
       "version_major": 2,
       "version_minor": 0
      },
      "text/plain": [
       "  0%|          | 0/33 [00:00<?, ?it/s]"
      ]
     },
     "metadata": {},
     "output_type": "display_data"
    },
    {
     "data": {
      "application/vnd.jupyter.widget-view+json": {
       "model_id": "c25e7b0add8e4ca29ae9246fddef77ca",
       "version_major": 2,
       "version_minor": 0
      },
      "text/plain": [
       "  0%|          | 0/18 [00:00<?, ?it/s]"
      ]
     },
     "metadata": {},
     "output_type": "display_data"
    },
    {
     "data": {
      "application/vnd.jupyter.widget-view+json": {
       "model_id": "caa46dd5f1484311bcc63b7e86744552",
       "version_major": 2,
       "version_minor": 0
      },
      "text/plain": [
       "  0%|          | 0/173 [00:00<?, ?it/s]"
      ]
     },
     "metadata": {},
     "output_type": "display_data"
    },
    {
     "data": {
      "application/vnd.jupyter.widget-view+json": {
       "model_id": "98ccce7a88164e42b238fe7755675a9f",
       "version_major": 2,
       "version_minor": 0
      },
      "text/plain": [
       "  0%|          | 0/57 [00:00<?, ?it/s]"
      ]
     },
     "metadata": {},
     "output_type": "display_data"
    },
    {
     "data": {
      "application/vnd.jupyter.widget-view+json": {
       "model_id": "3068e18d649842ada28a9b8d5545beab",
       "version_major": 2,
       "version_minor": 0
      },
      "text/plain": [
       "  0%|          | 0/245 [00:00<?, ?it/s]"
      ]
     },
     "metadata": {},
     "output_type": "display_data"
    },
    {
     "data": {
      "application/vnd.jupyter.widget-view+json": {
       "model_id": "cb71ba49361d49b9b5e9b375c6d473b6",
       "version_major": 2,
       "version_minor": 0
      },
      "text/plain": [
       "  0%|          | 0/20 [00:00<?, ?it/s]"
      ]
     },
     "metadata": {},
     "output_type": "display_data"
    },
    {
     "data": {
      "application/vnd.jupyter.widget-view+json": {
       "model_id": "450e719591e34aa78962f80de81c4178",
       "version_major": 2,
       "version_minor": 0
      },
      "text/plain": [
       "  0%|          | 0/9 [00:00<?, ?it/s]"
      ]
     },
     "metadata": {},
     "output_type": "display_data"
    },
    {
     "data": {
      "application/vnd.jupyter.widget-view+json": {
       "model_id": "6412293a23de475a9317718bbf64051c",
       "version_major": 2,
       "version_minor": 0
      },
      "text/plain": [
       "  0%|          | 0/12 [00:00<?, ?it/s]"
      ]
     },
     "metadata": {},
     "output_type": "display_data"
    },
    {
     "data": {
      "application/vnd.jupyter.widget-view+json": {
       "model_id": "6016673fbb4047f591a454b209b36c88",
       "version_major": 2,
       "version_minor": 0
      },
      "text/plain": [
       "  0%|          | 0/17 [00:00<?, ?it/s]"
      ]
     },
     "metadata": {},
     "output_type": "display_data"
    },
    {
     "data": {
      "application/vnd.jupyter.widget-view+json": {
       "model_id": "3edb4b62dcd3490abf1147a3dac22d16",
       "version_major": 2,
       "version_minor": 0
      },
      "text/plain": [
       "  0%|          | 0/56 [00:00<?, ?it/s]"
      ]
     },
     "metadata": {},
     "output_type": "display_data"
    },
    {
     "data": {
      "application/vnd.jupyter.widget-view+json": {
       "model_id": "7030213eb93d4566b3b0d3ed883ae61f",
       "version_major": 2,
       "version_minor": 0
      },
      "text/plain": [
       "  0%|          | 0/60 [00:00<?, ?it/s]"
      ]
     },
     "metadata": {},
     "output_type": "display_data"
    },
    {
     "data": {
      "application/vnd.jupyter.widget-view+json": {
       "model_id": "45344340ccd14e52834bed11d4b5305d",
       "version_major": 2,
       "version_minor": 0
      },
      "text/plain": [
       "  0%|          | 0/46 [00:00<?, ?it/s]"
      ]
     },
     "metadata": {},
     "output_type": "display_data"
    },
    {
     "data": {
      "application/vnd.jupyter.widget-view+json": {
       "model_id": "85b5760a274c4a5cb17760dee254588b",
       "version_major": 2,
       "version_minor": 0
      },
      "text/plain": [
       "  0%|          | 0/18 [00:00<?, ?it/s]"
      ]
     },
     "metadata": {},
     "output_type": "display_data"
    },
    {
     "data": {
      "application/vnd.jupyter.widget-view+json": {
       "model_id": "a93bc3d28a1a4b27bad633b5f21cad11",
       "version_major": 2,
       "version_minor": 0
      },
      "text/plain": [
       "  0%|          | 0/41 [00:00<?, ?it/s]"
      ]
     },
     "metadata": {},
     "output_type": "display_data"
    },
    {
     "data": {
      "application/vnd.jupyter.widget-view+json": {
       "model_id": "f4bde9b99ed9480faf81382e27f2fe3e",
       "version_major": 2,
       "version_minor": 0
      },
      "text/plain": [
       "  0%|          | 0/26 [00:00<?, ?it/s]"
      ]
     },
     "metadata": {},
     "output_type": "display_data"
    },
    {
     "data": {
      "application/vnd.jupyter.widget-view+json": {
       "model_id": "090ca8f725a642e096ba716a6fee231e",
       "version_major": 2,
       "version_minor": 0
      },
      "text/plain": [
       "  0%|          | 0/20 [00:00<?, ?it/s]"
      ]
     },
     "metadata": {},
     "output_type": "display_data"
    },
    {
     "data": {
      "application/vnd.jupyter.widget-view+json": {
       "model_id": "cac6c52042d14a14bed966cd6a90d09a",
       "version_major": 2,
       "version_minor": 0
      },
      "text/plain": [
       "  0%|          | 0/53 [00:00<?, ?it/s]"
      ]
     },
     "metadata": {},
     "output_type": "display_data"
    },
    {
     "data": {
      "application/vnd.jupyter.widget-view+json": {
       "model_id": "f20c9d2a48444c46836c6e4a11a20615",
       "version_major": 2,
       "version_minor": 0
      },
      "text/plain": [
       "  0%|          | 0/22 [00:00<?, ?it/s]"
      ]
     },
     "metadata": {},
     "output_type": "display_data"
    },
    {
     "data": {
      "application/vnd.jupyter.widget-view+json": {
       "model_id": "a9265950c9cb4cab8058c988c357d9ee",
       "version_major": 2,
       "version_minor": 0
      },
      "text/plain": [
       "  0%|          | 0/40 [00:00<?, ?it/s]"
      ]
     },
     "metadata": {},
     "output_type": "display_data"
    },
    {
     "data": {
      "application/vnd.jupyter.widget-view+json": {
       "model_id": "3c6b91a08fdb4d04b3ac493d67155821",
       "version_major": 2,
       "version_minor": 0
      },
      "text/plain": [
       "  0%|          | 0/39 [00:00<?, ?it/s]"
      ]
     },
     "metadata": {},
     "output_type": "display_data"
    },
    {
     "data": {
      "application/vnd.jupyter.widget-view+json": {
       "model_id": "7821e0c438744324b47f2e6b6c236219",
       "version_major": 2,
       "version_minor": 0
      },
      "text/plain": [
       "  0%|          | 0/11 [00:00<?, ?it/s]"
      ]
     },
     "metadata": {},
     "output_type": "display_data"
    },
    {
     "data": {
      "application/vnd.jupyter.widget-view+json": {
       "model_id": "d69a26d9a8784715bc104c3ad300f521",
       "version_major": 2,
       "version_minor": 0
      },
      "text/plain": [
       "  0%|          | 0/43 [00:00<?, ?it/s]"
      ]
     },
     "metadata": {},
     "output_type": "display_data"
    },
    {
     "data": {
      "application/vnd.jupyter.widget-view+json": {
       "model_id": "64d727855b664e9f8682fadf45c62da9",
       "version_major": 2,
       "version_minor": 0
      },
      "text/plain": [
       "  0%|          | 0/17 [00:00<?, ?it/s]"
      ]
     },
     "metadata": {},
     "output_type": "display_data"
    },
    {
     "data": {
      "application/vnd.jupyter.widget-view+json": {
       "model_id": "caa4abe635c2439d8ef92ead4982c63b",
       "version_major": 2,
       "version_minor": 0
      },
      "text/plain": [
       "  0%|          | 0/36 [00:00<?, ?it/s]"
      ]
     },
     "metadata": {},
     "output_type": "display_data"
    },
    {
     "data": {
      "application/vnd.jupyter.widget-view+json": {
       "model_id": "342c7cfe10f84ba9874f7ce54ef9c954",
       "version_major": 2,
       "version_minor": 0
      },
      "text/plain": [
       "  0%|          | 0/15 [00:00<?, ?it/s]"
      ]
     },
     "metadata": {},
     "output_type": "display_data"
    },
    {
     "data": {
      "application/vnd.jupyter.widget-view+json": {
       "model_id": "354b2e10b3bc4fabb9f96cd43ffd904d",
       "version_major": 2,
       "version_minor": 0
      },
      "text/plain": [
       "  0%|          | 0/42 [00:00<?, ?it/s]"
      ]
     },
     "metadata": {},
     "output_type": "display_data"
    },
    {
     "data": {
      "application/vnd.jupyter.widget-view+json": {
       "model_id": "d4e0ccf5ce534d7a9789733560b9125b",
       "version_major": 2,
       "version_minor": 0
      },
      "text/plain": [
       "  0%|          | 0/50 [00:00<?, ?it/s]"
      ]
     },
     "metadata": {},
     "output_type": "display_data"
    },
    {
     "data": {
      "application/vnd.jupyter.widget-view+json": {
       "model_id": "e85b33a498f447b69b8f55dff579d5f7",
       "version_major": 2,
       "version_minor": 0
      },
      "text/plain": [
       "  0%|          | 0/21 [00:00<?, ?it/s]"
      ]
     },
     "metadata": {},
     "output_type": "display_data"
    },
    {
     "name": "stdout",
     "output_type": "stream",
     "text": [
      "Synapsse Results:\n",
      "Total Number of Synapses = 4072\n",
      "n_valid_syn_ids_presyn = 54\n",
      "n_errored_syn_ids_presyn = 161\n",
      "n_valid_syn_ids_postsyn = 3746\n",
      "n_errored_syn_ids_postsyn = 111\n",
      "Synapsse Results:\n",
      "Total Number of Synapses = 4072\n",
      "n_valid_syn_ids_presyn = 54\n",
      "n_errored_syn_ids_presyn = 161\n",
      "n_valid_syn_ids_postsyn = 3746\n",
      "n_errored_syn_ids_postsyn = 111\n"
     ]
    },
    {
     "data": {
      "application/vnd.jupyter.widget-view+json": {
       "model_id": "2037083c08c841d7bc38b1df8df81346",
       "version_major": 2,
       "version_minor": 0
      },
      "text/plain": [
       "  0%|          | 0/30 [00:00<?, ?it/s]"
      ]
     },
     "metadata": {},
     "output_type": "display_data"
    },
    {
     "data": {
      "application/vnd.jupyter.widget-view+json": {
       "model_id": "81ab51f8c529476794106dad9c19154a",
       "version_major": 2,
       "version_minor": 0
      },
      "text/plain": [
       "  0%|          | 0/14 [00:00<?, ?it/s]"
      ]
     },
     "metadata": {},
     "output_type": "display_data"
    },
    {
     "name": "stdout",
     "output_type": "stream",
     "text": [
      "Synapsse Results:\n",
      "Total Number of Synapses = 4072\n",
      "n_valid_syn_ids_presyn = 54\n",
      "n_errored_syn_ids_presyn = 161\n",
      "n_valid_syn_ids_postsyn = 3746\n",
      "n_errored_syn_ids_postsyn = 111\n",
      "Synapsse Results:\n",
      "Total Number of Synapses = 4072\n",
      "n_valid_syn_ids_presyn = 54\n",
      "n_errored_syn_ids_presyn = 161\n",
      "n_valid_syn_ids_postsyn = 3746\n",
      "n_errored_syn_ids_postsyn = 111\n"
     ]
    },
    {
     "data": {
      "application/vnd.jupyter.widget-view+json": {
       "model_id": "e42962f12e694a82b2e3ba0995b025ec",
       "version_major": 2,
       "version_minor": 0
      },
      "text/plain": [
       "  0%|          | 0/30 [00:00<?, ?it/s]"
      ]
     },
     "metadata": {},
     "output_type": "display_data"
    },
    {
     "data": {
      "application/vnd.jupyter.widget-view+json": {
       "model_id": "45dc1ed20f3c42d3ab2bd907d0f946a9",
       "version_major": 2,
       "version_minor": 0
      },
      "text/plain": [
       "  0%|          | 0/14 [00:00<?, ?it/s]"
      ]
     },
     "metadata": {},
     "output_type": "display_data"
    },
    {
     "name": "stdout",
     "output_type": "stream",
     "text": [
      "\n",
      "\n",
      "len(branch_attr_keys) = 44\n",
      "Saving Neuorn in suppress_output mode...please wait\n",
      "Saved File at location: /mnt/dj-stor01/platinum/minnie65/02/decomposition/864691136333790899_0_25_full_axon\n",
      "Save time = 399.66191601753235\n",
      "\n",
      "\n",
      " ***------ Total time for 864691136333790899 = 1698.7591536045074 ------ ***\n",
      "\n",
      "\n",
      "\n",
      "---- Working on Neuron 864691135233108569 ----\n",
      "Decompressing Neuron in minimal output mode...please wait\n",
      "Pulled from Table Decomposition so setting split_index = 0\n",
      "Dont need spine recalculation\n",
      "Number of Neurons found = 1\n",
      "\n",
      "Part 1: Axon like branchese \n",
      "{'L0': array([1, 3, 9]), 'L3': array([ 0,  1,  2,  3,  4,  5,  6,  7,  8,  9, 10, 11, 12, 13, 14, 15, 16,\n",
      "       17, 18, 19, 20, 21, 22, 23, 24, 25])}\n",
      "Limb L0 soma angle: 20.85 \n",
      "Limb L1 soma angle: 127.26 \n",
      "Limb L2 soma angle: 91.74 \n",
      "Limb L3 soma angle: 165.59 \n",
      "\n",
      "Part 2: possible_axon_limbs = [1, 2, 3]\n",
      "\n",
      "Phase 2: Working on Limb L1\n",
      "nodes_to_eliminate = [3]\n",
      "\n",
      "Phase 2: Working on Limb L2\n",
      "nodes_to_eliminate = []\n",
      "\n",
      "Phase 2: Working on Limb L3\n",
      "nodes_to_eliminate = []\n",
      "\n",
      "----Working on Limb L1-----\n",
      "No endpoints were eliminated so don't need to add back any candidates\n",
      "\n",
      "----Working on Limb L2-----\n",
      "No nodes were eliminated so don't need to add back any candidates\n",
      "\n",
      "----Working on Limb L3-----\n",
      "No nodes were eliminated so don't need to add back any candidates\n",
      "Final Candidates\n",
      "\n",
      "Limb 1\n",
      "Candidate 0 (pink): array([0, 1, 2])\n",
      "Candidate 1 (cadetblue): array([4, 5, 6, 7, 8])\n",
      "\n",
      "Limb 2\n",
      "Candidate 0 (magenta): array([0, 1, 2, 3, 4])\n",
      "\n",
      "Limb 3\n",
      "Candidate 0 (brown): array([ 0,  1,  2,  3,  4,  5,  6,  7,  8,  9, 10, 11, 12, 13, 14, 15, 16,\n",
      "       17, 18, 19, 20, 21, 22, 23, 24, 25])\n",
      "Part 3: axon_subgraph_candidates = {1: [[0, 1, 2], [4, 5, 6, 7, 8]], 2: [[0, 1, 2, 3, 4]], 3: [[0, 1, 2, 3, 4, 5, 6, 7, 8, 9, 10, 11, 12, 13, 14, 15, 16, 17, 18, 19, 20, 21, 22, 23, 24, 25]]}\n",
      "\n",
      "\n",
      " --- Working on limb 1, candidate # 0\n",
      "0 out of 3 branches are axons\n",
      "Axon percentage = 0.0\n",
      "Not adding candidate no axon branches detected \n",
      "\n",
      "\n",
      " --- Working on limb 1, candidate # 1\n",
      "0 out of 5 branches are axons\n",
      "Axon percentage = 0.0\n",
      "Not adding candidate no axon branches detected \n",
      "\n",
      "\n",
      " --- Working on limb 2, candidate # 0\n",
      "0 out of 5 branches are axons\n",
      "Axon percentage = 0.0\n",
      "Not adding candidate no axon branches detected \n",
      "\n",
      "\n",
      " --- Working on limb 3, candidate # 0\n",
      "26 out of 26 branches are axons\n",
      "Axon percentage = 1.0\n",
      "curr_axon_angle_threshold = 95\n",
      "candidate_nodes = [ 0  1  2  3  4  5  6  7  8  9 10 11 12 13 14 15 16 17 18 19 20 21 22 23\n",
      " 24 25]\n",
      "non_axon_branches_on_subgraph = []\n",
      "endnodes_to_test = [3794]\n",
      "Skeleton paths distances = [24997.99649867]\n",
      "Filtered indexes = [0]\n",
      "len(filtered_skeletons) = 1\n",
      "sk_angles = [159.04118461]\n",
      "candidate_angles,restr_skels = (array([159.04118461]), [array([[[671982.74556106, 664715.52047299, 858000.4943248 ],\n",
      "        [672000.07527266, 664813.9716543 , 857998.47444885]],\n",
      "\n",
      "       [[672000.07527266, 664813.9716543 , 857998.47444885],\n",
      "        [672019.77637324, 664912.0091608 , 857997.75754305]],\n",
      "\n",
      "       [[672019.77637324, 664912.0091608 , 857997.75754305],\n",
      "        [672039.98202224, 665009.9371357 , 857997.22043949]],\n",
      "\n",
      "       [[672039.98202224, 665009.9371357 , 857997.22043949],\n",
      "        [672062.81258164, 665107.29527302, 857997.61875607]],\n",
      "\n",
      "       [[672062.81258164, 665107.29527302, 857997.61875607],\n",
      "        [672085.92670952, 665204.58254449, 857998.00208537]],\n",
      "\n",
      "       [[672085.92670952, 665204.58254449, 857998.00208537],\n",
      "        [672111.61295608, 665301.22702461, 857998.24947185]],\n",
      "\n",
      "       [[672111.61295608, 665301.22702461, 857998.24947185],\n",
      "        [672137.6310819 , 665397.77665628, 857998.24986523]],\n",
      "\n",
      "       [[672137.6310819 , 665397.77665628, 857998.24986523],\n",
      "        [672165.90739055, 665493.6809173 , 857996.56966069]],\n",
      "\n",
      "       [[672165.90739055, 665493.6809173 , 857996.56966069],\n",
      "        [672194.77494371, 665589.36349559, 857993.8555991 ]],\n",
      "\n",
      "       [[672194.77494371, 665589.36349559, 857993.8555991 ],\n",
      "        [672225.31137699, 665684.42033968, 857988.22331423]],\n",
      "\n",
      "       [[672225.31137699, 665684.42033968, 857988.22331423],\n",
      "        [672256.67060451, 665778.95011837, 857979.7658913 ]],\n",
      "\n",
      "       [[672256.67060451, 665778.95011837, 857979.7658913 ],\n",
      "        [672288.87616006, 665872.93775636, 857968.40252488]],\n",
      "\n",
      "       [[672288.87616006, 665872.93775636, 857968.40252488],\n",
      "        [672321.6348169 , 665965.88069678, 857951.64707826]],\n",
      "\n",
      "       [[672321.6348169 , 665965.88069678, 857951.64707826],\n",
      "        [672354.45731001, 666058.35796529, 857932.55175279]],\n",
      "\n",
      "       [[672354.45731001, 666058.35796529, 857932.55175279],\n",
      "        [672386.81476935, 666149.61763951, 857907.55841994]],\n",
      "\n",
      "       [[672386.81476935, 666149.61763951, 857907.55841994],\n",
      "        [672418.32762479, 666240.21558387, 857879.48785449]],\n",
      "\n",
      "       [[672418.32762479, 666240.21558387, 857879.48785449],\n",
      "        [672448.96604081, 666330.12842287, 857848.23135361]],\n",
      "\n",
      "       [[672448.96604081, 666330.12842287, 857848.23135361],\n",
      "        [672477.51517185, 666419.09651148, 857812.67156546]],\n",
      "\n",
      "       [[672477.51517185, 666419.09651148, 857812.67156546],\n",
      "        [672505.26330819, 666507.75806302, 857775.70455367]],\n",
      "\n",
      "       [[672505.26330819, 666507.75806302, 857775.70455367],\n",
      "        [672530.49116668, 666595.68034256, 857735.29133904]],\n",
      "\n",
      "       [[672530.49116668, 666595.68034256, 857735.29133904],\n",
      "        [672554.64339469, 666683.45192563, 857693.94406323]],\n",
      "\n",
      "       [[672554.64339469, 666683.45192563, 857693.94406323],\n",
      "        [672577.10689449, 666770.98691689, 857651.13032149]],\n",
      "\n",
      "       [[672577.10689449, 666770.98691689, 857651.13032149],\n",
      "        [672598.05549865, 666858.66330298, 857607.8573258 ]],\n",
      "\n",
      "       [[672598.05549865, 666858.66330298, 857607.8573258 ],\n",
      "        [672618.13135465, 666946.4211482 , 857564.31974883]],\n",
      "\n",
      "       [[672618.13135465, 666946.4211482 , 857564.31974883],\n",
      "        [672636.5334846 , 667034.96764873, 857521.65491153]],\n",
      "\n",
      "       [[672636.5334846 , 667034.96764873, 857521.65491153],\n",
      "        [672654.50953188, 667123.8258682 , 857479.46753751]],\n",
      "\n",
      "       [[672654.50953188, 667123.8258682 , 857479.46753751],\n",
      "        [672671.25824828, 667213.9794165 , 857439.56994075]],\n",
      "\n",
      "       [[672671.25824828, 667213.9794165 , 857439.56994075],\n",
      "        [672687.63331089, 667304.93099168, 857401.43392728]],\n",
      "\n",
      "       [[672687.63331089, 667304.93099168, 857401.43392728],\n",
      "        [672703.49669246, 667396.97538385, 857365.71022374]],\n",
      "\n",
      "       [[672703.49669246, 667396.97538385, 857365.71022374],\n",
      "        [672719.19822773, 667490.54796268, 857334.23367079]],\n",
      "\n",
      "       [[672719.19822773, 667490.54796268, 857334.23367079],\n",
      "        [672734.92189084, 667584.85611566, 857305.03025344]],\n",
      "\n",
      "       [[672734.92189084, 667584.85611566, 857305.03025344],\n",
      "        [672751.23320954, 667680.86530847, 857282.3107513 ]],\n",
      "\n",
      "       [[672751.23320954, 667680.86530847, 857282.3107513 ],\n",
      "        [672768.42073336, 667777.61335892, 857264.35761191]],\n",
      "\n",
      "       [[672768.42073336, 667777.61335892, 857264.35761191],\n",
      "        [672786.4136088 , 667875.04051997, 857250.78540784]],\n",
      "\n",
      "       [[672786.4136088 , 667875.04051997, 857250.78540784],\n",
      "        [672806.84675012, 667972.84794471, 857247.41986947]],\n",
      "\n",
      "       [[672806.84675012, 667972.84794471, 857247.41986947],\n",
      "        [672828.57284276, 668070.28675977, 857248.97217151]],\n",
      "\n",
      "       [[672828.57284276, 668070.28675977, 857248.97217151],\n",
      "        [672852.02054498, 668167.16577271, 857257.01344704]],\n",
      "\n",
      "       [[672852.02054498, 668167.16577271, 857257.01344704],\n",
      "        [672877.73270499, 668262.3917333 , 857273.06810517]],\n",
      "\n",
      "       [[672877.73270499, 668262.3917333 , 857273.06810517],\n",
      "        [672904.39873503, 668356.79285649, 857292.23519414]],\n",
      "\n",
      "       [[672904.39873503, 668356.79285649, 857292.23519414],\n",
      "        [672932.70386727, 668449.60788868, 857316.40520215]],\n",
      "\n",
      "       [[672932.70386727, 668449.60788868, 857316.40520215],\n",
      "        [672962.10062946, 668541.47106042, 857342.72246257]],\n",
      "\n",
      "       [[672962.10062946, 668541.47106042, 857342.72246257],\n",
      "        [672992.21173583, 668632.71135076, 857370.44484867]],\n",
      "\n",
      "       [[672992.21173583, 668632.71135076, 857370.44484867],\n",
      "        [673023.88637481, 668723.10485993, 857399.1741524 ]],\n",
      "\n",
      "       [[673023.88637481, 668723.10485993, 857399.1741524 ],\n",
      "        [673056.0675006 , 668813.30566456, 857427.94257184]],\n",
      "\n",
      "       [[673056.0675006 , 668813.30566456, 857427.94257184],\n",
      "        [673089.61012654, 668903.06736327, 857456.53854511]],\n",
      "\n",
      "       [[673089.61012654, 668903.06736327, 857456.53854511],\n",
      "        [673124.0068681 , 668992.55030045, 857484.9788971 ]],\n",
      "\n",
      "       [[673124.0068681 , 668992.55030045, 857484.9788971 ],\n",
      "        [673159.24032701, 669081.76015444, 857513.26679778]],\n",
      "\n",
      "       [[673159.24032701, 669081.76015444, 857513.26679778],\n",
      "        [673195.61455006, 669170.38571488, 857541.93738066]],\n",
      "\n",
      "       [[673195.61455006, 669170.38571488, 857541.93738066],\n",
      "        [673232.38441072, 669258.75381992, 857570.89626724]],\n",
      "\n",
      "       [[673232.38441072, 669258.75381992, 857570.89626724],\n",
      "        [673269.95126275, 669346.36576039, 857601.1101633 ]],\n",
      "\n",
      "       [[673269.95126275, 669346.36576039, 857601.1101633 ],\n",
      "        [673307.74579987, 669433.53476067, 857632.28589458]],\n",
      "\n",
      "       [[673307.74579987, 669433.53476067, 857632.28589458],\n",
      "        [673345.77558524, 669520.24610734, 857664.45541095]],\n",
      "\n",
      "       [[673345.77558524, 669520.24610734, 857664.45541095],\n",
      "        [673384.12576054, 669606.26015479, 857698.0776494 ]],\n",
      "\n",
      "       [[673384.12576054, 669606.26015479, 857698.0776494 ],\n",
      "        [673422.75614223, 669691.98504463, 857732.11563859]],\n",
      "\n",
      "       [[673422.75614223, 669691.98504463, 857732.11563859],\n",
      "        [673462.01181942, 669777.20749378, 857766.70069273]],\n",
      "\n",
      "       [[673462.01181942, 669777.20749378, 857766.70069273],\n",
      "        [673502.5600485 , 669861.90841974, 857801.06134583]],\n",
      "\n",
      "       [[673502.5600485 , 669861.90841974, 857801.06134583],\n",
      "        [673543.99496519, 669946.26373747, 857835.21241726]],\n",
      "\n",
      "       [[673543.99496519, 669946.26373747, 857835.21241726],\n",
      "        [673588.36352975, 670029.56401643, 857868.26531435]],\n",
      "\n",
      "       [[673588.36352975, 670029.56401643, 857868.26531435],\n",
      "        [673634.8335488 , 670112.00727163, 857900.47316808]],\n",
      "\n",
      "       [[673634.8335488 , 670112.00727163, 857900.47316808],\n",
      "        [673683.56141577, 670193.52972208, 857931.77308906]],\n",
      "\n",
      "       [[673683.56141577, 670193.52972208, 857931.77308906],\n",
      "        [673736.49971615, 670273.04161718, 857961.2883373 ]],\n",
      "\n",
      "       [[673736.49971615, 670273.04161718, 857961.2883373 ],\n",
      "        [673791.04693636, 670351.73152685, 857990.05092933]],\n",
      "\n",
      "       [[673791.04693636, 670351.73152685, 857990.05092933],\n",
      "        [673849.3802167 , 670428.38578597, 858016.90894421]],\n",
      "\n",
      "       [[673849.3802167 , 670428.38578597, 858016.90894421],\n",
      "        [673909.48373113, 670504.05754716, 858042.50591927]],\n",
      "\n",
      "       [[673909.48373113, 670504.05754716, 858042.50591927],\n",
      "        [673971.49990347, 670578.66776373, 858066.74039782]],\n",
      "\n",
      "       [[673971.49990347, 670578.66776373, 858066.74039782],\n",
      "        [674035.12389776, 670652.55749808, 858088.86314701]],\n",
      "\n",
      "       [[674035.12389776, 670652.55749808, 858088.86314701],\n",
      "        [674099.3597816 , 670726.17303816, 858110.18223437]],\n",
      "\n",
      "       [[674099.3597816 , 670726.17303816, 858110.18223437],\n",
      "        [674164.14174005, 670800.12097985, 858128.46747734]],\n",
      "\n",
      "       [[674164.14174005, 670800.12097985, 858128.46747734],\n",
      "        [674228.81193084, 670874.3330814 , 858146.02467046]],\n",
      "\n",
      "       [[674228.81193084, 670874.3330814 , 858146.02467046],\n",
      "        [674292.61066012, 670949.96190264, 858160.51616935]],\n",
      "\n",
      "       [[674292.61066012, 670949.96190264, 858160.51616935],\n",
      "        [674355.47741016, 671026.59272344, 858173.51235637]],\n",
      "\n",
      "       [[674355.47741016, 671026.59272344, 858173.51235637],\n",
      "        [674416.84970613, 671104.83027781, 858184.11077011]],\n",
      "\n",
      "       [[674416.84970613, 671104.83027781, 858184.11077011],\n",
      "        [674475.88275635, 671185.10906313, 858192.0071607 ]],\n",
      "\n",
      "       [[674475.88275635, 671185.10906313, 858192.0071607 ],\n",
      "        [674533.66027189, 671266.46325114, 858198.48439926]],\n",
      "\n",
      "       [[674533.66027189, 671266.46325114, 858198.48439926],\n",
      "        [674587.64317065, 671350.589914  , 858201.40864919]],\n",
      "\n",
      "       [[674587.64317065, 671350.589914  , 858201.40864919],\n",
      "        [674639.87045482, 671435.80979866, 858203.00955724]],\n",
      "\n",
      "       [[674639.87045482, 671435.80979866, 858203.00955724],\n",
      "        [674689.96628318, 671522.35694158, 858203.00382294]],\n",
      "\n",
      "       [[674689.96628318, 671522.35694158, 858203.00382294],\n",
      "        [674736.86430018, 671610.65123476, 858201.29596306]],\n",
      "\n",
      "       [[674736.86430018, 671610.65123476, 858201.29596306],\n",
      "        [674782.27258175, 671699.70256137, 858199.10084863]],\n",
      "\n",
      "       [[674782.27258175, 671699.70256137, 858199.10084863],\n",
      "        [674825.5911561 , 671789.7911792 , 858196.35456857]],\n",
      "\n",
      "       [[674825.5911561 , 671789.7911792 , 858196.35456857],\n",
      "        [674866.55203657, 671880.96521753, 858193.60896856]],\n",
      "\n",
      "       [[674866.55203657, 671880.96521753, 858193.60896856],\n",
      "        [674906.41545216, 671972.63101115, 858190.96020694]],\n",
      "\n",
      "       [[674906.41545216, 671972.63101115, 858190.96020694],\n",
      "        [674943.7719819 , 672065.36855156, 858188.90149745]],\n",
      "\n",
      "       [[674943.7719819 , 672065.36855156, 858188.90149745],\n",
      "        [674979.92817623, 672158.57786081, 858187.42193361]],\n",
      "\n",
      "       [[674979.92817623, 672158.57786081, 858187.42193361],\n",
      "        [675014.54389831, 672252.39262317, 858186.68562686]],\n",
      "\n",
      "       [[675014.54389831, 672252.39262317, 858186.68562686],\n",
      "        [675047.49193506, 672346.79407778, 858187.26865848]],\n",
      "\n",
      "       [[675047.49193506, 672346.79407778, 858187.26865848],\n",
      "        [675079.59951532, 672441.49120526, 858188.51659161]],\n",
      "\n",
      "       [[675079.59951532, 672441.49120526, 858188.51659161],\n",
      "        [675109.80478797, 672536.74787549, 858191.97950955]],\n",
      "\n",
      "       [[675109.80478797, 672536.74787549, 858191.97950955],\n",
      "        [675139.61907889, 672632.11954867, 858195.89767382]],\n",
      "\n",
      "       [[675139.61907889, 672632.11954867, 858195.89767382],\n",
      "        [675167.39641023, 672727.91946232, 858202.96373472]],\n",
      "\n",
      "       [[675167.39641023, 672727.91946232, 858202.96373472],\n",
      "        [675195.02376196, 672823.74795762, 858210.27022307]],\n",
      "\n",
      "       [[675195.02376196, 672823.74795762, 858210.27022307],\n",
      "        [675220.57817229, 672919.776643  , 858221.47128092]],\n",
      "\n",
      "       [[675220.57817229, 672919.776643  , 858221.47128092],\n",
      "        [675246.04904655, 673015.80126774, 858232.85442985]],\n",
      "\n",
      "       [[675246.04904655, 673015.80126774, 858232.85442985],\n",
      "        [675269.58520627, 673111.73184731, 858248.45484937]],\n",
      "\n",
      "       [[675269.58520627, 673111.73184731, 858248.45484937],\n",
      "        [675293.0720449 , 673207.65103033, 858264.17872592]],\n",
      "\n",
      "       [[675293.0720449 , 673207.65103033, 858264.17872592],\n",
      "        [675314.79025527, 673303.16153949, 858284.32970554]],\n",
      "\n",
      "       [[675314.79025527, 673303.16153949, 858284.32970554],\n",
      "        [675336.50846565, 673398.67204864, 858304.48068516]],\n",
      "\n",
      "       [[675336.50846565, 673398.67204864, 858304.48068516],\n",
      "        [675356.81812196, 673493.54725536, 858328.67835375]],\n",
      "\n",
      "       [[675356.81812196, 673493.54725536, 858328.67835375],\n",
      "        [675377.07629222, 673588.39924024, 858353.02393859]],\n",
      "\n",
      "       [[675377.07629222, 673588.39924024, 858353.02393859],\n",
      "        [675396.48136532, 673682.68033124, 858380.09848172]]])])\n"
     ]
    },
    {
     "name": "stdout",
     "output_type": "stream",
     "text": [
      "base_final_widths = [156.78659596 148.22631878]\n",
      "overall_ais_width = 133.6092328233661\n",
      "ais_width = 152.50645736841057\n",
      "Adding the following branches as true axons: [ 0.  1.  2.  3.  4.  5.  6.  7.  8.  9. 10. 11. 12. 13. 14. 15. 16. 17.\n",
      " 18. 19. 20. 21. 22. 23. 24. 25.]\n",
      "curr_soma_angle = 165.59\n",
      "max_axon_angle = 159.04118460702466\n",
      "Changing to a better axon candidate\n",
      "Using the best axon approach\n",
      "Using True\n",
      "Limb L3: Axon branches before dendritic path filter = [ 0.  1.  2.  3.  4.  5.  6.  7.  8.  9. 10. 11. 12. 13. 14. 15. 16. 17.\n",
      " 18. 19. 20. 21. 22. 23. 24. 25.]\n",
      "Limb L3: Axon branches AFTER dendritic path filter = [ 0.  1.  2.  3.  4.  5.  6.  7.  8.  9. 10. 11. 12. 13. 14. 15. 16. 17.\n",
      " 18. 19. 20. 21. 22. 23. 24. 25.]\n",
      "\n",
      "\n",
      "Part 4: final_true_axons = {'L3': array([ 0.,  1.,  2.,  3.,  4.,  5.,  6.,  7.,  8.,  9., 10., 11., 12.,\n",
      "       13., 14., 15., 16., 17., 18., 19., 20., 21., 22., 23., 24., 25.])}\n",
      "\n",
      "--- Working on filter 0:\n",
      "function = dendrite_on_axon_merges\n",
      "function __name__ = filter_away_dendrite_on_axon_merges\n",
      "function arguments = {'use_pre_existing_axon_labels': True}\n",
      "\n",
      "\n",
      "\n",
      "\n",
      "\n",
      " ---- Total time for applying filter: 0.6332552433013916 -----\n",
      "Starting axon branch was the starting node so using border vertices and NOT computing upstream branch\n",
      "upstream_node_to_axon_starting_branch = None\n",
      "root_curr = [671015.  654783.9 858834.6]\n",
      "Time for preparing soma vertices and root: 0.00047659873962402344\n",
      "invalidation_d = 2000\n",
      "cc_vertex_thresh = 10\n"
     ]
    },
    {
     "name": "stderr",
     "output_type": "stream",
     "text": [
      "\r",
      "  0%|          | 0/1 [00:00<?, ?it/s]"
     ]
    },
    {
     "data": {
      "application/vnd.jupyter.widget-view+json": {
       "model_id": "2d1fdb80b4c54bab98646d97bcc51966",
       "version_major": 2,
       "version_minor": 0
      },
      "text/plain": [
       "  0%|          | 0/23533 [00:00<?, ?it/s]"
      ]
     },
     "metadata": {},
     "output_type": "display_data"
    },
    {
     "name": "stderr",
     "output_type": "stream",
     "text": [
      "100%|██████████| 1/1 [00:00<00:00,  1.32it/s]\n"
     ]
    },
    {
     "name": "stdout",
     "output_type": "stream",
     "text": [
      "meshparty_segment_size = 100\n",
      "Time for 1st pass MP skeletonization: 1.9621288776397705\n",
      "branches_touching_root = [1]\n",
      "combining close nodes\n",
      "combine_threshold = 1300\n",
      "length of Graph = 7395\n",
      "After combining close endpoints max(kept_branches_idx) = 72, len(kept_branches_idx) = 66\n",
      "empty_indices % = 0.0\n",
      " conflict_indices % = 0.02343950132354197\n"
     ]
    },
    {
     "data": {
      "application/vnd.jupyter.widget-view+json": {
       "model_id": "76ed1cd6fff747d4ad186a51f4a06685",
       "version_major": 2,
       "version_minor": 0
      },
      "text/plain": [
       "  0%|          | 0/28 [00:00<?, ?it/s]"
      ]
     },
     "metadata": {},
     "output_type": "display_data"
    },
    {
     "name": "stdout",
     "output_type": "stream",
     "text": [
      "AFTER face_lookup_resolved_test\n"
     ]
    },
    {
     "data": {
      "application/vnd.jupyter.widget-view+json": {
       "model_id": "ba054fffe46c472eb1fb6e60c1850a4d",
       "version_major": 2,
       "version_minor": 0
      },
      "text/plain": [
       "  0%|          | 0/66 [00:00<?, ?it/s]"
      ]
     },
     "metadata": {},
     "output_type": "display_data"
    },
    {
     "name": "stdout",
     "output_type": "stream",
     "text": [
      "Decomposing first pass: 10.284048557281494\n",
      "Only Using MeshParty Skeletonization and Mesh Correspondence\n",
      "Another print\n",
      "Divinding into MP and MAP pieces: 0.00019812583923339844\n",
      "Total time for MAP sublimb processing 3.0994415283203125e-06\n",
      "---- Working on MP Decomposition #0 ----\n",
      "Using Quicker soma_to_piece_touching_vertices because no MAP and only one sublimb_mesh piece \n",
      "MP filtering soma verts: 0.00028395652770996094\n",
      "Fixing Possible Soma Extension Branch for Sublimb 0\n",
      "Total time for mesh KDTree = 0.21100687980651855\n",
      "sbv[0].reshape(-1,3) = [[671015.  654783.9 858834.6]]\n",
      "closest_sk_pt_coord BEFORE = [670508.33249194 655076.64732652 859021.61778636]\n",
      "current_skeleton.shape = (436, 2, 3)\n",
      "node_for_stitch = 0: [670508.33249194 655076.64732652 859021.61778636]\n",
      "node_for_stitch AFTER = 0: [670508.33249194 655076.64732652 859021.61778636]\n",
      "possible_node_loc = [  0 436]\n",
      "possible_node_loc AFTER = [  0 436]\n",
      "curr_shortest_path = [0]\n",
      "Current stitch point was a branch or endpoint\n",
      "change_status for create soma extending pieces = False\n",
      "closest_sk_pt_coord AFTER = [670508.33249194 655076.64732652 859021.61778636]\n",
      "skipping soma 0 because closest skeleton node was already end node\n",
      "endpoints_must_keep = {0: array([[670508.33249194, 655076.64732652, 859021.61778636]])}\n",
      "match_sk_branches = [1]\n",
      "The new branch info was none so skipping \n",
      "\n",
      "No soma extending branch was added for this sublimb even though it had a soma border (means they already existed)\n",
      "MP (because soma touching verts) soma extension add: 4.485976457595825\n",
      "There were not both MAP and MP pieces so skipping the stitch resolving phase\n",
      "Time for decomp of Limb = 17.29807758331299\n",
      "Number of matching vertices = 17\n",
      "Only one endpoint after filtering away the endpoints that are not on the skeleton\n",
      "Using Distance measure skeletal_distance\n",
      "endpoints_must_keep = [[670508.33249194 655076.64732652 859021.61778636]]\n",
      "Number of end_nodes BEFORE filtering = 39\n",
      "all_single_nodes_to_eliminate = [17]\n"
     ]
    },
    {
     "data": {
      "application/vnd.jupyter.widget-view+json": {
       "model_id": "7c00a791141e4c6b91b0db0f7e52a4b0",
       "version_major": 2,
       "version_minor": 0
      },
      "text/plain": [
       "  0%|          | 0/5 [00:00<?, ?it/s]"
      ]
     },
     "metadata": {},
     "output_type": "display_data"
    },
    {
     "name": "stdout",
     "output_type": "stream",
     "text": [
      "Removed 5 skeletal branches\n"
     ]
    },
    {
     "data": {
      "application/vnd.jupyter.widget-view+json": {
       "model_id": "573d0cf3e6604d99b17db48f35094fcd",
       "version_major": 2,
       "version_minor": 0
      },
      "text/plain": [
       "  0%|          | 0/66 [00:00<?, ?it/s]"
      ]
     },
     "metadata": {},
     "output_type": "display_data"
    },
    {
     "name": "stdout",
     "output_type": "stream",
     "text": [
      "47000 47001\n",
      "For marked faces: None\n",
      "empty_indices % = 0.003276526031361035\n",
      " conflict_indices % = 0.0\n"
     ]
    },
    {
     "data": {
      "application/vnd.jupyter.widget-view+json": {
       "model_id": "4e031eb2bd7347d3a97d77184aae184d",
       "version_major": 2,
       "version_minor": 0
      },
      "text/plain": [
       "  0%|          | 0/1 [00:00<?, ?it/s]"
      ]
     },
     "metadata": {},
     "output_type": "display_data"
    },
    {
     "name": "stdout",
     "output_type": "stream",
     "text": [
      "AFTER face_lookup_resolved_test\n"
     ]
    },
    {
     "data": {
      "application/vnd.jupyter.widget-view+json": {
       "model_id": "d4d1288408af4838bd3822c2ff120223",
       "version_major": 2,
       "version_minor": 0
      },
      "text/plain": [
       "  0%|          | 0/57 [00:00<?, ?it/s]"
      ]
     },
     "metadata": {},
     "output_type": "display_data"
    },
    {
     "name": "stdout",
     "output_type": "stream",
     "text": [
      "Limb Correspondence before stitching = 57\n",
      "Limb Correspondence AFTER stitching = 57\n",
      "Upstream node was None so don't have to adjust\n",
      "concept_network_dict = {0: [<networkx_utils.GraphOrderedEdges object at 0x7f45082761d0>]}\n",
      "\n",
      "\n",
      "----Working on seperate_graph 0----\n",
      "\n",
      "\n",
      "---------Working on soma_idx = 0, soma_group_idx 0, endpt = [670508.33249194 655076.64732652 859021.61778636]---------\n",
      "Starting_edge inside branches_to_conept = [[670508.33249194 655076.64732652 859021.61778636]\n",
      " [677014.16152673 696176.37922473 863626.10288262]]\n",
      "At the start, starting_node (in terms of the skeleton, that shouldn't match the starting edge) = [25]\n",
      "printing out current edge:\n",
      "[[670508.33249194 655076.64732652 859021.61778636]\n",
      " [677014.16152673 696176.37922473 863626.10288262]]\n",
      "edge_endpoints_to_process was empty so exiting loop after 57 iterations\n",
      "starting_node in concept map (that should match the starting edge) = 29\n",
      "Total time for branches to concept conversion = 0.8192591667175293\n",
      "\n",
      "Done generating concept network \n",
      "\n",
      "\n"
     ]
    },
    {
     "data": {
      "application/vnd.jupyter.widget-view+json": {
       "model_id": "a08ee3915ce949359d162453c42d2ed8",
       "version_major": 2,
       "version_minor": 0
      },
      "text/plain": [
       "  0%|          | 0/48 [00:00<?, ?it/s]"
      ]
     },
     "metadata": {},
     "output_type": "display_data"
    },
    {
     "data": {
      "application/vnd.jupyter.widget-view+json": {
       "model_id": "4953de5edf0c42a18281b0bbdb5d6ec5",
       "version_major": 2,
       "version_minor": 0
      },
      "text/plain": [
       "  0%|          | 0/13 [00:00<?, ?it/s]"
      ]
     },
     "metadata": {},
     "output_type": "display_data"
    },
    {
     "data": {
      "application/vnd.jupyter.widget-view+json": {
       "model_id": "06ab5188d07547e58cbd15708213590a",
       "version_major": 2,
       "version_minor": 0
      },
      "text/plain": [
       "  0%|          | 0/15 [00:00<?, ?it/s]"
      ]
     },
     "metadata": {},
     "output_type": "display_data"
    },
    {
     "data": {
      "application/vnd.jupyter.widget-view+json": {
       "model_id": "b11c30dfe228454dbe341b770d5a2b34",
       "version_major": 2,
       "version_minor": 0
      },
      "text/plain": [
       "  0%|          | 0/18 [00:00<?, ?it/s]"
      ]
     },
     "metadata": {},
     "output_type": "display_data"
    },
    {
     "data": {
      "application/vnd.jupyter.widget-view+json": {
       "model_id": "6209a146dc6e4477bb5e1fd6ef5242c1",
       "version_major": 2,
       "version_minor": 0
      },
      "text/plain": [
       "  0%|          | 0/10 [00:00<?, ?it/s]"
      ]
     },
     "metadata": {},
     "output_type": "display_data"
    },
    {
     "data": {
      "application/vnd.jupyter.widget-view+json": {
       "model_id": "1288363684124509a64e46fb5d002fa0",
       "version_major": 2,
       "version_minor": 0
      },
      "text/plain": [
       "  0%|          | 0/12 [00:00<?, ?it/s]"
      ]
     },
     "metadata": {},
     "output_type": "display_data"
    },
    {
     "data": {
      "application/vnd.jupyter.widget-view+json": {
       "model_id": "15b9ae176b82444bb0c46c6faf3bca05",
       "version_major": 2,
       "version_minor": 0
      },
      "text/plain": [
       "  0%|          | 0/12 [00:00<?, ?it/s]"
      ]
     },
     "metadata": {},
     "output_type": "display_data"
    },
    {
     "data": {
      "application/vnd.jupyter.widget-view+json": {
       "model_id": "82eb6e5470a6414781cf118a4956a3c7",
       "version_major": 2,
       "version_minor": 0
      },
      "text/plain": [
       "  0%|          | 0/2 [00:00<?, ?it/s]"
      ]
     },
     "metadata": {},
     "output_type": "display_data"
    },
    {
     "data": {
      "application/vnd.jupyter.widget-view+json": {
       "model_id": "55f25214b0f84ba284f6420aa6645f39",
       "version_major": 2,
       "version_minor": 0
      },
      "text/plain": [
       "  0%|          | 0/11 [00:00<?, ?it/s]"
      ]
     },
     "metadata": {},
     "output_type": "display_data"
    },
    {
     "data": {
      "application/vnd.jupyter.widget-view+json": {
       "model_id": "964620928bf249759a89cd05ac9cc44e",
       "version_major": 2,
       "version_minor": 0
      },
      "text/plain": [
       "  0%|          | 0/6 [00:00<?, ?it/s]"
      ]
     },
     "metadata": {},
     "output_type": "display_data"
    },
    {
     "data": {
      "application/vnd.jupyter.widget-view+json": {
       "model_id": "896f96cc0db54188aea4ebb38bcbf312",
       "version_major": 2,
       "version_minor": 0
      },
      "text/plain": [
       "  0%|          | 0/4 [00:00<?, ?it/s]"
      ]
     },
     "metadata": {},
     "output_type": "display_data"
    },
    {
     "data": {
      "application/vnd.jupyter.widget-view+json": {
       "model_id": "d8cee98875b0457e81cd19f529efaa02",
       "version_major": 2,
       "version_minor": 0
      },
      "text/plain": [
       "  0%|          | 0/4 [00:00<?, ?it/s]"
      ]
     },
     "metadata": {},
     "output_type": "display_data"
    },
    {
     "data": {
      "application/vnd.jupyter.widget-view+json": {
       "model_id": "3cd84bcff5c542869f3bf9d62985a7ac",
       "version_major": 2,
       "version_minor": 0
      },
      "text/plain": [
       "  0%|          | 0/10 [00:00<?, ?it/s]"
      ]
     },
     "metadata": {},
     "output_type": "display_data"
    },
    {
     "data": {
      "application/vnd.jupyter.widget-view+json": {
       "model_id": "f3abe507460d4d8c870387da5784aa39",
       "version_major": 2,
       "version_minor": 0
      },
      "text/plain": [
       "  0%|          | 0/12 [00:00<?, ?it/s]"
      ]
     },
     "metadata": {},
     "output_type": "display_data"
    },
    {
     "data": {
      "application/vnd.jupyter.widget-view+json": {
       "model_id": "2cd785b818f34583b3c7caf97ccb5dc2",
       "version_major": 2,
       "version_minor": 0
      },
      "text/plain": [
       "  0%|          | 0/5 [00:00<?, ?it/s]"
      ]
     },
     "metadata": {},
     "output_type": "display_data"
    },
    {
     "data": {
      "application/vnd.jupyter.widget-view+json": {
       "model_id": "0a08a3c014d14744b9c9667af9c5042b",
       "version_major": 2,
       "version_minor": 0
      },
      "text/plain": [
       "  0%|          | 0/4 [00:00<?, ?it/s]"
      ]
     },
     "metadata": {},
     "output_type": "display_data"
    },
    {
     "data": {
      "application/vnd.jupyter.widget-view+json": {
       "model_id": "c3c90ae3030948c59c63ba2cc378494d",
       "version_major": 2,
       "version_minor": 0
      },
      "text/plain": [
       "  0%|          | 0/4 [00:00<?, ?it/s]"
      ]
     },
     "metadata": {},
     "output_type": "display_data"
    },
    {
     "data": {
      "application/vnd.jupyter.widget-view+json": {
       "model_id": "1f3a24635d8b4059b81085b7bcdeb71c",
       "version_major": 2,
       "version_minor": 0
      },
      "text/plain": [
       "  0%|          | 0/24 [00:00<?, ?it/s]"
      ]
     },
     "metadata": {},
     "output_type": "display_data"
    },
    {
     "data": {
      "application/vnd.jupyter.widget-view+json": {
       "model_id": "07ced8adef3743359b5ae4ad528dc4f4",
       "version_major": 2,
       "version_minor": 0
      },
      "text/plain": [
       "  0%|          | 0/23 [00:00<?, ?it/s]"
      ]
     },
     "metadata": {},
     "output_type": "display_data"
    },
    {
     "data": {
      "application/vnd.jupyter.widget-view+json": {
       "model_id": "fddf048615574fcfbfe5ad1b4f474b9a",
       "version_major": 2,
       "version_minor": 0
      },
      "text/plain": [
       "  0%|          | 0/6 [00:00<?, ?it/s]"
      ]
     },
     "metadata": {},
     "output_type": "display_data"
    },
    {
     "data": {
      "application/vnd.jupyter.widget-view+json": {
       "model_id": "b8aacb1f9b8a4889931a314db78402c6",
       "version_major": 2,
       "version_minor": 0
      },
      "text/plain": [
       "  0%|          | 0/19 [00:00<?, ?it/s]"
      ]
     },
     "metadata": {},
     "output_type": "display_data"
    },
    {
     "data": {
      "application/vnd.jupyter.widget-view+json": {
       "model_id": "bfd8474de7924e4a94b4bda441d73bde",
       "version_major": 2,
       "version_minor": 0
      },
      "text/plain": [
       "  0%|          | 0/6 [00:00<?, ?it/s]"
      ]
     },
     "metadata": {},
     "output_type": "display_data"
    },
    {
     "data": {
      "application/vnd.jupyter.widget-view+json": {
       "model_id": "edadd03a27d94933b3672e1e2497802a",
       "version_major": 2,
       "version_minor": 0
      },
      "text/plain": [
       "  0%|          | 0/5 [00:00<?, ?it/s]"
      ]
     },
     "metadata": {},
     "output_type": "display_data"
    },
    {
     "data": {
      "application/vnd.jupyter.widget-view+json": {
       "model_id": "220bf9c200d549168dcb7c78699d8ef7",
       "version_major": 2,
       "version_minor": 0
      },
      "text/plain": [
       "  0%|          | 0/6 [00:00<?, ?it/s]"
      ]
     },
     "metadata": {},
     "output_type": "display_data"
    },
    {
     "data": {
      "application/vnd.jupyter.widget-view+json": {
       "model_id": "b4fc4f267f9c4aecb42ce416607f75c2",
       "version_major": 2,
       "version_minor": 0
      },
      "text/plain": [
       "  0%|          | 0/11 [00:00<?, ?it/s]"
      ]
     },
     "metadata": {},
     "output_type": "display_data"
    },
    {
     "data": {
      "application/vnd.jupyter.widget-view+json": {
       "model_id": "36ebc1eecb194dc8973e034780cb0d7d",
       "version_major": 2,
       "version_minor": 0
      },
      "text/plain": [
       "  0%|          | 0/5 [00:00<?, ?it/s]"
      ]
     },
     "metadata": {},
     "output_type": "display_data"
    },
    {
     "data": {
      "application/vnd.jupyter.widget-view+json": {
       "model_id": "d463a733f03445e29dcafa7127be17fc",
       "version_major": 2,
       "version_minor": 0
      },
      "text/plain": [
       "  0%|          | 0/22 [00:00<?, ?it/s]"
      ]
     },
     "metadata": {},
     "output_type": "display_data"
    },
    {
     "data": {
      "application/vnd.jupyter.widget-view+json": {
       "model_id": "e19aa3e0fc4b47da8f0de700a17c0321",
       "version_major": 2,
       "version_minor": 0
      },
      "text/plain": [
       "  0%|          | 0/6 [00:00<?, ?it/s]"
      ]
     },
     "metadata": {},
     "output_type": "display_data"
    },
    {
     "data": {
      "application/vnd.jupyter.widget-view+json": {
       "model_id": "7424b78788ee4c8d91628c71da2eafd2",
       "version_major": 2,
       "version_minor": 0
      },
      "text/plain": [
       "  0%|          | 0/4 [00:00<?, ?it/s]"
      ]
     },
     "metadata": {},
     "output_type": "display_data"
    },
    {
     "data": {
      "application/vnd.jupyter.widget-view+json": {
       "model_id": "393d1a063ded4964a06da2209ba5bc59",
       "version_major": 2,
       "version_minor": 0
      },
      "text/plain": [
       "  0%|          | 0/10 [00:00<?, ?it/s]"
      ]
     },
     "metadata": {},
     "output_type": "display_data"
    },
    {
     "data": {
      "application/vnd.jupyter.widget-view+json": {
       "model_id": "52f164d94c594b79a06d7a2b1d91e9db",
       "version_major": 2,
       "version_minor": 0
      },
      "text/plain": [
       "  0%|          | 0/11 [00:00<?, ?it/s]"
      ]
     },
     "metadata": {},
     "output_type": "display_data"
    },
    {
     "data": {
      "application/vnd.jupyter.widget-view+json": {
       "model_id": "b1ccdbc947f74e079a326a951abfa3b4",
       "version_major": 2,
       "version_minor": 0
      },
      "text/plain": [
       "  0%|          | 0/7 [00:00<?, ?it/s]"
      ]
     },
     "metadata": {},
     "output_type": "display_data"
    },
    {
     "data": {
      "application/vnd.jupyter.widget-view+json": {
       "model_id": "3bf07c3517ed4ec682af79df1e98c51e",
       "version_major": 2,
       "version_minor": 0
      },
      "text/plain": [
       "  0%|          | 0/6 [00:00<?, ?it/s]"
      ]
     },
     "metadata": {},
     "output_type": "display_data"
    },
    {
     "data": {
      "application/vnd.jupyter.widget-view+json": {
       "model_id": "60651b028a3d490b9a0123355ee2c454",
       "version_major": 2,
       "version_minor": 0
      },
      "text/plain": [
       "  0%|          | 0/5 [00:00<?, ?it/s]"
      ]
     },
     "metadata": {},
     "output_type": "display_data"
    },
    {
     "data": {
      "application/vnd.jupyter.widget-view+json": {
       "model_id": "36779080ce304ce3b304b29e4c8cddd4",
       "version_major": 2,
       "version_minor": 0
      },
      "text/plain": [
       "  0%|          | 0/4 [00:00<?, ?it/s]"
      ]
     },
     "metadata": {},
     "output_type": "display_data"
    },
    {
     "data": {
      "application/vnd.jupyter.widget-view+json": {
       "model_id": "4a038b80f4054649ac0e4cdeefc9999f",
       "version_major": 2,
       "version_minor": 0
      },
      "text/plain": [
       "  0%|          | 0/7 [00:00<?, ?it/s]"
      ]
     },
     "metadata": {},
     "output_type": "display_data"
    },
    {
     "data": {
      "application/vnd.jupyter.widget-view+json": {
       "model_id": "6ac1fa2540a24f449089c020c6de6bcc",
       "version_major": 2,
       "version_minor": 0
      },
      "text/plain": [
       "  0%|          | 0/4 [00:00<?, ?it/s]"
      ]
     },
     "metadata": {},
     "output_type": "display_data"
    },
    {
     "data": {
      "application/vnd.jupyter.widget-view+json": {
       "model_id": "90e912c175cf4bdc8fca4c2ff9e27018",
       "version_major": 2,
       "version_minor": 0
      },
      "text/plain": [
       "  0%|          | 0/15 [00:00<?, ?it/s]"
      ]
     },
     "metadata": {},
     "output_type": "display_data"
    },
    {
     "data": {
      "application/vnd.jupyter.widget-view+json": {
       "model_id": "7f70b69e0f4c48f795915cb236c15188",
       "version_major": 2,
       "version_minor": 0
      },
      "text/plain": [
       "  0%|          | 0/5 [00:00<?, ?it/s]"
      ]
     },
     "metadata": {},
     "output_type": "display_data"
    },
    {
     "data": {
      "application/vnd.jupyter.widget-view+json": {
       "model_id": "fd34acdb61034d218fa8b0173cce023a",
       "version_major": 2,
       "version_minor": 0
      },
      "text/plain": [
       "  0%|          | 0/8 [00:00<?, ?it/s]"
      ]
     },
     "metadata": {},
     "output_type": "display_data"
    },
    {
     "data": {
      "application/vnd.jupyter.widget-view+json": {
       "model_id": "3695cafc2c78497180676c3af0126c39",
       "version_major": 2,
       "version_minor": 0
      },
      "text/plain": [
       "  0%|          | 0/6 [00:00<?, ?it/s]"
      ]
     },
     "metadata": {},
     "output_type": "display_data"
    },
    {
     "data": {
      "application/vnd.jupyter.widget-view+json": {
       "model_id": "c97dd34d8b4c4039b696af82f7e26b66",
       "version_major": 2,
       "version_minor": 0
      },
      "text/plain": [
       "  0%|          | 0/3 [00:00<?, ?it/s]"
      ]
     },
     "metadata": {},
     "output_type": "display_data"
    },
    {
     "data": {
      "application/vnd.jupyter.widget-view+json": {
       "model_id": "708888dbfb014e2abc504bd7654b6441",
       "version_major": 2,
       "version_minor": 0
      },
      "text/plain": [
       "  0%|          | 0/5 [00:00<?, ?it/s]"
      ]
     },
     "metadata": {},
     "output_type": "display_data"
    },
    {
     "data": {
      "application/vnd.jupyter.widget-view+json": {
       "model_id": "058f7d6a31004910ac1bc145c45d06ba",
       "version_major": 2,
       "version_minor": 0
      },
      "text/plain": [
       "  0%|          | 0/10 [00:00<?, ?it/s]"
      ]
     },
     "metadata": {},
     "output_type": "display_data"
    },
    {
     "data": {
      "application/vnd.jupyter.widget-view+json": {
       "model_id": "1b61a56f64b344059a45117da86c0727",
       "version_major": 2,
       "version_minor": 0
      },
      "text/plain": [
       "  0%|          | 0/23 [00:00<?, ?it/s]"
      ]
     },
     "metadata": {},
     "output_type": "display_data"
    },
    {
     "data": {
      "application/vnd.jupyter.widget-view+json": {
       "model_id": "e7a482e51126498e9a5bf4fa20d01e2f",
       "version_major": 2,
       "version_minor": 0
      },
      "text/plain": [
       "  0%|          | 0/5 [00:00<?, ?it/s]"
      ]
     },
     "metadata": {},
     "output_type": "display_data"
    },
    {
     "data": {
      "application/vnd.jupyter.widget-view+json": {
       "model_id": "ed69d9d7806540359a44d2f54d8b23a7",
       "version_major": 2,
       "version_minor": 0
      },
      "text/plain": [
       "  0%|          | 0/2 [00:00<?, ?it/s]"
      ]
     },
     "metadata": {},
     "output_type": "display_data"
    },
    {
     "data": {
      "application/vnd.jupyter.widget-view+json": {
       "model_id": "03126011db18460f8ba20b9641f554ea",
       "version_major": 2,
       "version_minor": 0
      },
      "text/plain": [
       "  0%|          | 0/3 [00:00<?, ?it/s]"
      ]
     },
     "metadata": {},
     "output_type": "display_data"
    },
    {
     "data": {
      "application/vnd.jupyter.widget-view+json": {
       "model_id": "8e24233b1c0d414f818a5faae28bc050",
       "version_major": 2,
       "version_minor": 0
      },
      "text/plain": [
       "  0%|          | 0/7 [00:00<?, ?it/s]"
      ]
     },
     "metadata": {},
     "output_type": "display_data"
    },
    {
     "data": {
      "application/vnd.jupyter.widget-view+json": {
       "model_id": "083f02a938aa48edbeefd8b0a7f2594a",
       "version_major": 2,
       "version_minor": 0
      },
      "text/plain": [
       "  0%|          | 0/11 [00:00<?, ?it/s]"
      ]
     },
     "metadata": {},
     "output_type": "display_data"
    },
    {
     "data": {
      "application/vnd.jupyter.widget-view+json": {
       "model_id": "41b11fe0195e4262bfc50e31d5874d05",
       "version_major": 2,
       "version_minor": 0
      },
      "text/plain": [
       "  0%|          | 0/23 [00:00<?, ?it/s]"
      ]
     },
     "metadata": {},
     "output_type": "display_data"
    },
    {
     "data": {
      "application/vnd.jupyter.widget-view+json": {
       "model_id": "76cdf26ca4304a9db92cf50184362a00",
       "version_major": 2,
       "version_minor": 0
      },
      "text/plain": [
       "  0%|          | 0/30 [00:00<?, ?it/s]"
      ]
     },
     "metadata": {},
     "output_type": "display_data"
    },
    {
     "data": {
      "application/vnd.jupyter.widget-view+json": {
       "model_id": "2a6064466e484f248a0e98a602368df3",
       "version_major": 2,
       "version_minor": 0
      },
      "text/plain": [
       "  0%|          | 0/19 [00:00<?, ?it/s]"
      ]
     },
     "metadata": {},
     "output_type": "display_data"
    },
    {
     "data": {
      "application/vnd.jupyter.widget-view+json": {
       "model_id": "c5dbfa4111d4469380d77f22bc102847",
       "version_major": 2,
       "version_minor": 0
      },
      "text/plain": [
       "  0%|          | 0/59 [00:00<?, ?it/s]"
      ]
     },
     "metadata": {},
     "output_type": "display_data"
    },
    {
     "data": {
      "application/vnd.jupyter.widget-view+json": {
       "model_id": "7bd794159121426cb12e4ca37d610107",
       "version_major": 2,
       "version_minor": 0
      },
      "text/plain": [
       "  0%|          | 0/61 [00:00<?, ?it/s]"
      ]
     },
     "metadata": {},
     "output_type": "display_data"
    },
    {
     "data": {
      "application/vnd.jupyter.widget-view+json": {
       "model_id": "8d8992d78e354c1f99f202dda7966b0a",
       "version_major": 2,
       "version_minor": 0
      },
      "text/plain": [
       "  0%|          | 0/16 [00:00<?, ?it/s]"
      ]
     },
     "metadata": {},
     "output_type": "display_data"
    },
    {
     "data": {
      "application/vnd.jupyter.widget-view+json": {
       "model_id": "b9ad139502b247208bfe898197cb47e3",
       "version_major": 2,
       "version_minor": 0
      },
      "text/plain": [
       "  0%|          | 0/14 [00:00<?, ?it/s]"
      ]
     },
     "metadata": {},
     "output_type": "display_data"
    },
    {
     "data": {
      "application/vnd.jupyter.widget-view+json": {
       "model_id": "b6d769f1223344db8601f91cbe22e732",
       "version_major": 2,
       "version_minor": 0
      },
      "text/plain": [
       "  0%|          | 0/15 [00:00<?, ?it/s]"
      ]
     },
     "metadata": {},
     "output_type": "display_data"
    },
    {
     "data": {
      "application/vnd.jupyter.widget-view+json": {
       "model_id": "deab335fc8064d759878d71c9277a260",
       "version_major": 2,
       "version_minor": 0
      },
      "text/plain": [
       "  0%|          | 0/9 [00:00<?, ?it/s]"
      ]
     },
     "metadata": {},
     "output_type": "display_data"
    },
    {
     "data": {
      "application/vnd.jupyter.widget-view+json": {
       "model_id": "8b68db362e1c4a868c434b6e866a85c5",
       "version_major": 2,
       "version_minor": 0
      },
      "text/plain": [
       "  0%|          | 0/16 [00:00<?, ?it/s]"
      ]
     },
     "metadata": {},
     "output_type": "display_data"
    },
    {
     "data": {
      "application/vnd.jupyter.widget-view+json": {
       "model_id": "44f65a885b5d46cdaac83657f9848406",
       "version_major": 2,
       "version_minor": 0
      },
      "text/plain": [
       "  0%|          | 0/24 [00:00<?, ?it/s]"
      ]
     },
     "metadata": {},
     "output_type": "display_data"
    },
    {
     "data": {
      "application/vnd.jupyter.widget-view+json": {
       "model_id": "77cac3a4e5f94b8f82a09e5471e501db",
       "version_major": 2,
       "version_minor": 0
      },
      "text/plain": [
       "  0%|          | 0/14 [00:00<?, ?it/s]"
      ]
     },
     "metadata": {},
     "output_type": "display_data"
    },
    {
     "data": {
      "application/vnd.jupyter.widget-view+json": {
       "model_id": "c8f3fc6f7b224137912a4d4506d9618c",
       "version_major": 2,
       "version_minor": 0
      },
      "text/plain": [
       "  0%|          | 0/16 [00:00<?, ?it/s]"
      ]
     },
     "metadata": {},
     "output_type": "display_data"
    },
    {
     "data": {
      "application/vnd.jupyter.widget-view+json": {
       "model_id": "6bd7d38054b7499fa1dbb43cd39729c4",
       "version_major": 2,
       "version_minor": 0
      },
      "text/plain": [
       "  0%|          | 0/20 [00:00<?, ?it/s]"
      ]
     },
     "metadata": {},
     "output_type": "display_data"
    },
    {
     "data": {
      "application/vnd.jupyter.widget-view+json": {
       "model_id": "cccab1fdaf9947038a77441b2cb4d123",
       "version_major": 2,
       "version_minor": 0
      },
      "text/plain": [
       "  0%|          | 0/5 [00:00<?, ?it/s]"
      ]
     },
     "metadata": {},
     "output_type": "display_data"
    },
    {
     "data": {
      "application/vnd.jupyter.widget-view+json": {
       "model_id": "c3ce98b2d2a94e8f8e6857f8927754a0",
       "version_major": 2,
       "version_minor": 0
      },
      "text/plain": [
       "  0%|          | 0/12 [00:00<?, ?it/s]"
      ]
     },
     "metadata": {},
     "output_type": "display_data"
    },
    {
     "data": {
      "application/vnd.jupyter.widget-view+json": {
       "model_id": "62739fb4480b4d759bf5d783d719e7ca",
       "version_major": 2,
       "version_minor": 0
      },
      "text/plain": [
       "  0%|          | 0/16 [00:00<?, ?it/s]"
      ]
     },
     "metadata": {},
     "output_type": "display_data"
    },
    {
     "data": {
      "application/vnd.jupyter.widget-view+json": {
       "model_id": "8ec8a3d067aa40fe86547843dc99e1d9",
       "version_major": 2,
       "version_minor": 0
      },
      "text/plain": [
       "  0%|          | 0/30 [00:00<?, ?it/s]"
      ]
     },
     "metadata": {},
     "output_type": "display_data"
    },
    {
     "data": {
      "application/vnd.jupyter.widget-view+json": {
       "model_id": "47869ac2bed6490a9b92e8960cf858ec",
       "version_major": 2,
       "version_minor": 0
      },
      "text/plain": [
       "  0%|          | 0/9 [00:00<?, ?it/s]"
      ]
     },
     "metadata": {},
     "output_type": "display_data"
    },
    {
     "data": {
      "application/vnd.jupyter.widget-view+json": {
       "model_id": "ee064f6dcbca420689c9c63214c51ac5",
       "version_major": 2,
       "version_minor": 0
      },
      "text/plain": [
       "  0%|          | 0/7 [00:00<?, ?it/s]"
      ]
     },
     "metadata": {},
     "output_type": "display_data"
    },
    {
     "data": {
      "application/vnd.jupyter.widget-view+json": {
       "model_id": "83902136f3b846c7bd132b310cc7e942",
       "version_major": 2,
       "version_minor": 0
      },
      "text/plain": [
       "  0%|          | 0/7 [00:00<?, ?it/s]"
      ]
     },
     "metadata": {},
     "output_type": "display_data"
    },
    {
     "data": {
      "application/vnd.jupyter.widget-view+json": {
       "model_id": "6ef63f4f225d4cfea2d1d1caed0680d1",
       "version_major": 2,
       "version_minor": 0
      },
      "text/plain": [
       "  0%|          | 0/18 [00:00<?, ?it/s]"
      ]
     },
     "metadata": {},
     "output_type": "display_data"
    },
    {
     "data": {
      "application/vnd.jupyter.widget-view+json": {
       "model_id": "55f4f836ead742e2acee973963f69e58",
       "version_major": 2,
       "version_minor": 0
      },
      "text/plain": [
       "  0%|          | 0/15 [00:00<?, ?it/s]"
      ]
     },
     "metadata": {},
     "output_type": "display_data"
    },
    {
     "name": "stdout",
     "output_type": "stream",
     "text": [
      "Synapsse Results:\n",
      "Total Number of Synapses = 792\n",
      "n_valid_syn_ids_presyn = 11\n",
      "n_errored_syn_ids_presyn = 48\n",
      "n_valid_syn_ids_postsyn = 725\n",
      "n_errored_syn_ids_postsyn = 8\n",
      "Synapsse Results:\n",
      "Total Number of Synapses = 792\n",
      "n_valid_syn_ids_presyn = 11\n",
      "n_errored_syn_ids_presyn = 48\n",
      "n_valid_syn_ids_postsyn = 725\n",
      "n_errored_syn_ids_postsyn = 8\n"
     ]
    },
    {
     "data": {
      "application/vnd.jupyter.widget-view+json": {
       "model_id": "81d85e3656544e4caf5a98db032067e4",
       "version_major": 2,
       "version_minor": 0
      },
      "text/plain": [
       "  0%|          | 0/6 [00:00<?, ?it/s]"
      ]
     },
     "metadata": {},
     "output_type": "display_data"
    },
    {
     "data": {
      "application/vnd.jupyter.widget-view+json": {
       "model_id": "f88983fe58774587ab9c01d92862bb20",
       "version_major": 2,
       "version_minor": 0
      },
      "text/plain": [
       "  0%|          | 0/2 [00:00<?, ?it/s]"
      ]
     },
     "metadata": {},
     "output_type": "display_data"
    },
    {
     "name": "stdout",
     "output_type": "stream",
     "text": [
      "Synapsse Results:\n",
      "Total Number of Synapses = 792\n",
      "n_valid_syn_ids_presyn = 11\n",
      "n_errored_syn_ids_presyn = 48\n",
      "n_valid_syn_ids_postsyn = 725\n",
      "n_errored_syn_ids_postsyn = 8\n",
      "Synapsse Results:\n",
      "Total Number of Synapses = 792\n",
      "n_valid_syn_ids_presyn = 11\n",
      "n_errored_syn_ids_presyn = 48\n",
      "n_valid_syn_ids_postsyn = 725\n",
      "n_errored_syn_ids_postsyn = 8\n"
     ]
    },
    {
     "data": {
      "application/vnd.jupyter.widget-view+json": {
       "model_id": "f330c3d97f65484790c138c2e74cc43f",
       "version_major": 2,
       "version_minor": 0
      },
      "text/plain": [
       "  0%|          | 0/6 [00:00<?, ?it/s]"
      ]
     },
     "metadata": {},
     "output_type": "display_data"
    },
    {
     "data": {
      "application/vnd.jupyter.widget-view+json": {
       "model_id": "4aed93f54a5147108b183c3e3b069d4c",
       "version_major": 2,
       "version_minor": 0
      },
      "text/plain": [
       "  0%|          | 0/2 [00:00<?, ?it/s]"
      ]
     },
     "metadata": {},
     "output_type": "display_data"
    },
    {
     "name": "stdout",
     "output_type": "stream",
     "text": [
      "\n",
      "\n",
      "len(branch_attr_keys) = 8\n",
      "Saving Neuorn in suppress_output mode...please wait\n",
      "Saved File at location: /mnt/dj-stor01/platinum/minnie65/02/decomposition/864691135233108569_0_25_full_axon\n",
      "Save time = 104.26870632171631\n",
      "\n",
      "\n",
      " ***------ Total time for 864691135233108569 = 396.7237856388092 ------ ***\n",
      "\n",
      "\n",
      "\n",
      "---- Working on Neuron 864691136535575714 ----\n",
      "Decompressing Neuron in minimal output mode...please wait\n",
      "Dont need spine recalculation\n",
      "Number of Neurons found = 1\n",
      "\n",
      "Part 1: Axon like branchese \n",
      "{'L0': array([11, 16, 18, 19, 20, 21, 24, 25, 26, 27, 28, 29, 30, 31, 32, 33]), 'L1': array([0, 1]), 'L2': array([10, 13]), 'L7': array([0]), 'L8': array([36, 41])}\n",
      "Limb L0 soma angle: 134.41 \n",
      "Limb L1 soma angle: 87.11 \n",
      "Limb L2 soma angle: 85.53 \n",
      "Limb L3 soma angle: 101.21 \n",
      "Limb L4 soma angle: 118.52 \n",
      "Limb L5 soma angle: 130.23 \n",
      "Limb L6 soma angle: 103.95 \n",
      "Limb L7 soma angle: 161.24 \n",
      "Limb L8 soma angle: 16.53 \n",
      "\n",
      "Part 2: possible_axon_limbs = [0, 1, 2, 3, 4, 5, 6, 7]\n",
      "\n",
      "Phase 2: Working on Limb L0\n",
      "nodes_to_eliminate = [5]\n",
      "\n",
      "Phase 2: Working on Limb L1\n",
      "nodes_to_eliminate = [17 19 20]\n",
      "\n",
      "Phase 2: Working on Limb L2\n",
      "nodes_to_eliminate = [1]\n",
      "\n",
      "Phase 2: Working on Limb L3\n",
      "nodes_to_eliminate = [13]\n",
      "\n",
      "Phase 2: Working on Limb L4\n",
      "nodes_to_eliminate = [2]\n",
      "\n",
      "Phase 2: Working on Limb L5\n",
      "nodes_to_eliminate = [0]\n",
      "\n",
      "Phase 2: Working on Limb L6\n",
      "nodes_to_eliminate = []\n",
      "\n",
      "Phase 2: Working on Limb L7\n",
      "nodes_to_eliminate = []\n",
      "\n",
      "----Working on Limb L0-----\n",
      "No endpoints were eliminated so don't need to add back any candidates\n",
      "\n",
      "----Working on Limb L1-----\n",
      "No endpoints were eliminated so don't need to add back any candidates\n",
      "\n",
      "----Working on Limb L2-----\n",
      "No endpoints were eliminated so don't need to add back any candidates\n",
      "\n",
      "----Working on Limb L3-----\n",
      "No endpoints were eliminated so don't need to add back any candidates\n",
      "\n",
      "----Working on Limb L4-----\n",
      "No endpoints were eliminated so don't need to add back any candidates\n",
      "\n",
      "----Working on Limb L5-----\n",
      "No endpoints were eliminated so don't need to add back any candidates\n",
      "\n",
      "----Working on Limb L6-----\n",
      "No nodes were eliminated so don't need to add back any candidates\n",
      "\n",
      "----Working on Limb L7-----\n",
      "No nodes were eliminated so don't need to add back any candidates\n",
      "Final Candidates\n",
      "\n",
      "Limb 0\n",
      "Candidate 0 (orange): array([ 0,  1,  2,  3,  4,  7, 11])\n",
      "Candidate 1 (sandybrown): array([ 6,  8,  9, 10, 12, 13, 14, 15, 16, 17, 18, 19, 20, 21, 22, 23, 24,\n",
      "       25, 26, 27, 28, 29, 30, 31, 32, 33])\n",
      "\n",
      "Limb 1\n",
      "Candidate 0 (orange): array([ 9, 13, 14])\n",
      "Candidate 1 (sandybrown): array([ 0,  1,  2,  3,  4, 10, 12, 15, 16])\n",
      "Candidate 2 (tan): array([5])\n",
      "Candidate 3 (red): array([ 6,  7,  8, 11, 18])\n",
      "\n",
      "Limb 2\n",
      "Candidate 0 (brown): array([ 0,  2,  4,  5,  6,  7,  8,  9, 10, 11, 12, 13, 14, 15, 16])\n",
      "Candidate 1 (red): array([3])\n",
      "\n",
      "Limb 3\n",
      "Candidate 0 (green): array([ 0,  1,  2,  3,  6,  7,  8,  9, 10])\n",
      "Candidate 1 (red): array([ 4,  5, 11, 12, 14])\n",
      "\n",
      "Limb 4\n",
      "Candidate 0 (crimson): array([0, 1, 4])\n",
      "Candidate 1 (orange): array([3])\n",
      "\n",
      "Limb 5\n",
      "Candidate 0 (blue): array([1])\n",
      "Candidate 1 (orange): array([2])\n",
      "\n",
      "Limb 6\n",
      "Candidate 0 (cyan): array([0, 1, 2])\n",
      "\n",
      "Limb 7\n",
      "Candidate 0 (gold): array([0])\n",
      "Part 3: axon_subgraph_candidates = {0: [[0, 1, 2, 3, 4, 7, 11], [6, 8, 9, 10, 12, 13, 14, 15, 16, 17, 18, 19, 20, 21, 22, 23, 24, 25, 26, 27, 28, 29, 30, 31, 32, 33]], 1: [[9, 13, 14], [0, 1, 2, 3, 4, 10, 12, 15, 16], [5], [6, 7, 8, 11, 18]], 2: [[0, 2, 4, 5, 6, 7, 8, 9, 10, 11, 12, 13, 14, 15, 16], [3]], 3: [[0, 1, 2, 3, 6, 7, 8, 9, 10], [4, 5, 11, 12, 14]], 4: [[0, 1, 4], [3]], 5: [[1], [2]], 6: [[0, 1, 2]], 7: [[0]]}\n",
      "\n",
      "\n",
      " --- Working on limb 0, candidate # 0\n",
      "1 out of 7 branches are axons\n",
      "Axon percentage = 0.14285714285714285\n",
      "curr_axon_angle_threshold = 120\n",
      "candidate_nodes = [ 0  1  2  3  4  5  7 11]\n",
      "non_axon_branches_on_subgraph = [0 1 2 3 4 5 7]\n",
      "endnodes_to_test = []\n",
      "candidate_angles,restr_skels = (None, None)\n",
      "Not adding candidate because no angles (None) passed the threhold 120 \n",
      "\n",
      "\n",
      " --- Working on limb 0, candidate # 1\n",
      "15 out of 26 branches are axons\n",
      "Axon percentage = 0.5769230769230769\n",
      "curr_axon_angle_threshold = 120\n",
      "candidate_nodes = [ 5  6  8  9 10 12 13 14 15 16 17 18 19 20 21 22 23 24 25 26 27 28 29 30\n",
      " 31 32 33]\n",
      "non_axon_branches_on_subgraph = [ 5  6  8  9 10 12 13 14 15 17 22 23]\n",
      "endnodes_to_test = []\n",
      "candidate_angles,restr_skels = (None, None)\n",
      "Not adding candidate because no angles (None) passed the threhold 120 \n",
      "\n",
      "\n",
      " --- Working on limb 1, candidate # 0\n",
      "0 out of 3 branches are axons\n",
      "Axon percentage = 0.0\n",
      "Not adding candidate no axon branches detected \n",
      "\n",
      "\n",
      " --- Working on limb 1, candidate # 1\n",
      "2 out of 9 branches are axons\n",
      "Axon percentage = 0.2222222222222222\n",
      "curr_axon_angle_threshold = 120\n",
      "candidate_nodes = [ 0  1  2  3  4 10 12 15 16 17 20]\n",
      "non_axon_branches_on_subgraph = [ 2  3  4 10 12 15 16 17 20]\n",
      "endnodes_to_test = []\n",
      "candidate_angles,restr_skels = (None, None)\n",
      "Not adding candidate because no angles (None) passed the threhold 120 \n",
      "\n",
      "\n",
      " --- Working on limb 1, candidate # 2\n",
      "0 out of 1 branches are axons\n",
      "Axon percentage = 0.0\n",
      "Not adding candidate no axon branches detected \n",
      "\n",
      "\n",
      " --- Working on limb 1, candidate # 3\n",
      "0 out of 5 branches are axons\n",
      "Axon percentage = 0.0\n",
      "Not adding candidate no axon branches detected \n",
      "\n",
      "\n",
      " --- Working on limb 2, candidate # 0\n",
      "2 out of 15 branches are axons\n",
      "Axon percentage = 0.13333333333333333\n",
      "curr_axon_angle_threshold = 120\n",
      "candidate_nodes = [ 0  1  2  4  5  6  7  8  9 10 11 12 13 14 15 16]\n",
      "non_axon_branches_on_subgraph = [ 0  1  2  4  5  6  7  8  9 11 12 14 15 16]\n",
      "endnodes_to_test = []\n",
      "candidate_angles,restr_skels = (None, None)\n",
      "Not adding candidate because no angles (None) passed the threhold 120 \n",
      "\n",
      "\n",
      " --- Working on limb 2, candidate # 1\n",
      "0 out of 1 branches are axons\n",
      "Axon percentage = 0.0\n",
      "Not adding candidate no axon branches detected \n",
      "\n",
      "\n",
      " --- Working on limb 3, candidate # 0\n",
      "0 out of 9 branches are axons\n",
      "Axon percentage = 0.0\n",
      "Not adding candidate no axon branches detected \n",
      "\n",
      "\n",
      " --- Working on limb 3, candidate # 1\n",
      "0 out of 5 branches are axons\n",
      "Axon percentage = 0.0\n",
      "Not adding candidate no axon branches detected \n",
      "\n",
      "\n",
      " --- Working on limb 4, candidate # 0\n",
      "0 out of 3 branches are axons\n",
      "Axon percentage = 0.0\n",
      "Not adding candidate no axon branches detected \n",
      "\n",
      "\n",
      " --- Working on limb 4, candidate # 1\n",
      "0 out of 1 branches are axons\n",
      "Axon percentage = 0.0\n",
      "Not adding candidate no axon branches detected \n",
      "\n",
      "\n",
      " --- Working on limb 5, candidate # 0\n",
      "0 out of 1 branches are axons\n",
      "Axon percentage = 0.0\n",
      "Not adding candidate no axon branches detected \n",
      "\n",
      "\n",
      " --- Working on limb 5, candidate # 1\n",
      "0 out of 1 branches are axons\n",
      "Axon percentage = 0.0\n",
      "Not adding candidate no axon branches detected \n",
      "\n",
      "\n",
      " --- Working on limb 6, candidate # 0\n",
      "0 out of 3 branches are axons\n",
      "Axon percentage = 0.0\n",
      "Not adding candidate no axon branches detected \n",
      "\n",
      "\n",
      " --- Working on limb 7, candidate # 0\n",
      "1 out of 1 branches are axons\n",
      "Axon percentage = 1.0\n",
      "curr_axon_angle_threshold = 95\n",
      "candidate_nodes = [0]\n",
      "non_axon_branches_on_subgraph = []\n",
      "endnodes_to_test = [40]\n",
      "Skeleton paths distances = [24898.61992481]\n",
      "Filtered indexes = [0]\n",
      "len(filtered_skeletons) = 1\n",
      "sk_angles = [163.17280177]\n",
      "candidate_angles,restr_skels = (array([163.17280177]), [array([[[1328080.,  493951.,  705609.],\n",
      "        [1327970.,  494015.,  705622.]],\n",
      "\n",
      "       [[1327970.,  494015.,  705622.],\n",
      "        [1327910.,  494056.,  705630.]],\n",
      "\n",
      "       [[1327910.,  494056.,  705630.],\n",
      "        [1327780.,  494135.,  705646.]],\n",
      "\n",
      "       [[1327780.,  494135.,  705646.],\n",
      "        [1327660.,  494212.,  705660.]],\n",
      "\n",
      "       [[1327660.,  494212.,  705660.],\n",
      "        [1327560.,  494285.,  705673.]],\n",
      "\n",
      "       [[1327560.,  494285.,  705673.],\n",
      "        [1327420.,  494389.,  705695.]],\n",
      "\n",
      "       [[1327420.,  494389.,  705695.],\n",
      "        [1327330.,  494468.,  705712.]],\n",
      "\n",
      "       [[1327330.,  494468.,  705712.],\n",
      "        [1327260.,  494537.,  705729.]],\n",
      "\n",
      "       [[1327260.,  494537.,  705729.],\n",
      "        [1327180.,  494633.,  705754.]],\n",
      "\n",
      "       [[1327180.,  494633.,  705754.],\n",
      "        [1327090.,  494751.,  705788.]],\n",
      "\n",
      "       [[1327090.,  494751.,  705788.],\n",
      "        [1327020.,  494844.,  705815.]],\n",
      "\n",
      "       [[1327020.,  494844.,  705815.],\n",
      "        [1326970.,  494922.,  705839.]],\n",
      "\n",
      "       [[1326970.,  494922.,  705839.],\n",
      "        [1326950.,  494955.,  705849.]],\n",
      "\n",
      "       [[1326950.,  494955.,  705849.],\n",
      "        [1326940.,  494984.,  705858.]],\n",
      "\n",
      "       [[1326940.,  494984.,  705858.],\n",
      "        [1326860.,  495117.,  705900.]],\n",
      "\n",
      "       [[1326860.,  495117.,  705900.],\n",
      "        [1326810.,  495243.,  705939.]],\n",
      "\n",
      "       [[1326810.,  495243.,  705939.],\n",
      "        [1326750.,  495379.,  705981.]],\n",
      "\n",
      "       [[1326750.,  495379.,  705981.],\n",
      "        [1326690.,  495557.,  706033.]],\n",
      "\n",
      "       [[1326690.,  495557.,  706033.],\n",
      "        [1326690.,  495659.,  706059.]],\n",
      "\n",
      "       [[1326690.,  495659.,  706059.],\n",
      "        [1326690.,  495731.,  706083.]],\n",
      "\n",
      "       [[1326690.,  495731.,  706083.],\n",
      "        [1326700.,  495830.,  706116.]],\n",
      "\n",
      "       [[1326700.,  495830.,  706116.],\n",
      "        [1326660.,  495976.,  706158.]],\n",
      "\n",
      "       [[1326660.,  495976.,  706158.],\n",
      "        [1326640.,  496083.,  706188.]],\n",
      "\n",
      "       [[1326640.,  496083.,  706188.],\n",
      "        [1326610.,  496222.,  706228.]],\n",
      "\n",
      "       [[1326610.,  496222.,  706228.],\n",
      "        [1326590.,  496314.,  706254.]],\n",
      "\n",
      "       [[1326590.,  496314.,  706254.],\n",
      "        [1326580.,  496393.,  706276.]],\n",
      "\n",
      "       [[1326580.,  496393.,  706276.],\n",
      "        [1326560.,  496469.,  706299.]],\n",
      "\n",
      "       [[1326560.,  496469.,  706299.],\n",
      "        [1326550.,  496578.,  706331.]],\n",
      "\n",
      "       [[1326550.,  496578.,  706331.],\n",
      "        [1326510.,  496780.,  706394.]],\n",
      "\n",
      "       [[1326510.,  496780.,  706394.],\n",
      "        [1326490.,  496880.,  706428.]],\n",
      "\n",
      "       [[1326490.,  496880.,  706428.],\n",
      "        [1326480.,  496954.,  706455.]],\n",
      "\n",
      "       [[1326480.,  496954.,  706455.],\n",
      "        [1326460.,  497052.,  706492.]],\n",
      "\n",
      "       [[1326460.,  497052.,  706492.],\n",
      "        [1326430.,  497177.,  706540.]],\n",
      "\n",
      "       [[1326430.,  497177.,  706540.],\n",
      "        [1326410.,  497247.,  706567.]],\n",
      "\n",
      "       [[1326410.,  497247.,  706567.],\n",
      "        [1326390.,  497355.,  706607.]],\n",
      "\n",
      "       [[1326390.,  497355.,  706607.],\n",
      "        [1326350.,  497504.,  706661.]],\n",
      "\n",
      "       [[1326350.,  497504.,  706661.],\n",
      "        [1326320.,  497610.,  706689.]],\n",
      "\n",
      "       [[1326320.,  497610.,  706689.],\n",
      "        [1326290.,  497711.,  706710.]],\n",
      "\n",
      "       [[1326290.,  497711.,  706710.],\n",
      "        [1326260.,  497817.,  706726.]],\n",
      "\n",
      "       [[1326260.,  497817.,  706726.],\n",
      "        [1326230.,  497901.,  706736.]],\n",
      "\n",
      "       [[1326230.,  497901.,  706736.],\n",
      "        [1326180.,  498032.,  706733.]],\n",
      "\n",
      "       [[1326180.,  498032.,  706733.],\n",
      "        [1326130.,  498176.,  706719.]],\n",
      "\n",
      "       [[1326130.,  498176.,  706719.],\n",
      "        [1326080.,  498309.,  706696.]],\n",
      "\n",
      "       [[1326080.,  498309.,  706696.],\n",
      "        [1326030.,  498422.,  706663.]],\n",
      "\n",
      "       [[1326030.,  498422.,  706663.],\n",
      "        [1325990.,  498513.,  706622.]],\n",
      "\n",
      "       [[1325990.,  498513.,  706622.],\n",
      "        [1325900.,  498674.,  706504.]],\n",
      "\n",
      "       [[1325900.,  498674.,  706504.],\n",
      "        [1325810.,  498803.,  706375.]],\n",
      "\n",
      "       [[1325810.,  498803.,  706375.],\n",
      "        [1325740.,  498891.,  706280.]],\n",
      "\n",
      "       [[1325740.,  498891.,  706280.],\n",
      "        [1325690.,  498959.,  706204.]],\n",
      "\n",
      "       [[1325690.,  498959.,  706204.],\n",
      "        [1325650.,  499009.,  706150.]],\n",
      "\n",
      "       [[1325650.,  499009.,  706150.],\n",
      "        [1325610.,  499074.,  706092.]],\n",
      "\n",
      "       [[1325610.,  499074.,  706092.],\n",
      "        [1325520.,  499207.,  705989.]],\n",
      "\n",
      "       [[1325520.,  499207.,  705989.],\n",
      "        [1325470.,  499311.,  705941.]],\n",
      "\n",
      "       [[1325470.,  499311.,  705941.],\n",
      "        [1325420.,  499423.,  705902.]],\n",
      "\n",
      "       [[1325420.,  499423.,  705902.],\n",
      "        [1325360.,  499628.,  705861.]],\n",
      "\n",
      "       [[1325360.,  499628.,  705861.],\n",
      "        [1325330.,  499748.,  705841.]],\n",
      "\n",
      "       [[1325330.,  499748.,  705841.],\n",
      "        [1325320.,  499933.,  705833.]],\n",
      "\n",
      "       [[1325320.,  499933.,  705833.],\n",
      "        [1325320.,  499966.,  705832.]],\n",
      "\n",
      "       [[1325320.,  499966.,  705832.],\n",
      "        [1325310.,  500144.,  705831.]],\n",
      "\n",
      "       [[1325310.,  500144.,  705831.],\n",
      "        [1325320.,  500266.,  705833.]],\n",
      "\n",
      "       [[1325320.,  500266.,  705833.],\n",
      "        [1325340.,  500406.,  705838.]],\n",
      "\n",
      "       [[1325340.,  500406.,  705838.],\n",
      "        [1325370.,  500516.,  705842.]],\n",
      "\n",
      "       [[1325370.,  500516.,  705842.],\n",
      "        [1325390.,  500597.,  705845.]],\n",
      "\n",
      "       [[1325390.,  500597.,  705845.],\n",
      "        [1325430.,  500740.,  705849.]],\n",
      "\n",
      "       [[1325430.,  500740.,  705849.],\n",
      "        [1325480.,  500868.,  705851.]],\n",
      "\n",
      "       [[1325480.,  500868.,  705851.],\n",
      "        [1325510.,  500978.,  705853.]],\n",
      "\n",
      "       [[1325510.,  500978.,  705853.],\n",
      "        [1325550.,  501096.,  705854.]],\n",
      "\n",
      "       [[1325550.,  501096.,  705854.],\n",
      "        [1325590.,  501266.,  705854.]],\n",
      "\n",
      "       [[1325590.,  501266.,  705854.],\n",
      "        [1325610.,  501434.,  705850.]],\n",
      "\n",
      "       [[1325610.,  501434.,  705850.],\n",
      "        [1325620.,  501603.,  705842.]],\n",
      "\n",
      "       [[1325620.,  501603.,  705842.],\n",
      "        [1325620.,  501748.,  705832.]],\n",
      "\n",
      "       [[1325620.,  501748.,  705832.],\n",
      "        [1325610.,  501877.,  705816.]],\n",
      "\n",
      "       [[1325610.,  501877.,  705816.],\n",
      "        [1325590.,  502061.,  705787.]],\n",
      "\n",
      "       [[1325590.,  502061.,  705787.],\n",
      "        [1325550.,  502238.,  705746.]],\n",
      "\n",
      "       [[1325550.,  502238.,  705746.],\n",
      "        [1325520.,  502393.,  705696.]],\n",
      "\n",
      "       [[1325520.,  502393.,  705696.],\n",
      "        [1325480.,  502526.,  705645.]],\n",
      "\n",
      "       [[1325480.,  502526.,  705645.],\n",
      "        [1325460.,  502614.,  705606.]]])])\n",
      "base_final_widths = [ 62.40550669 449.30933764 411.52664171]\n",
      "overall_ais_width = 292.9416137011443\n",
      "ais_width = 307.7471620139688\n",
      "Adding the following branches as true axons: [0.]\n",
      "curr_soma_angle = 161.24\n",
      "max_axon_angle = 163.1728017729266\n",
      "Changing to a better axon candidate\n",
      "Using the best axon approach\n",
      "Using True\n",
      "Limb L7: Axon branches before dendritic path filter = [0.]\n",
      "Limb L7: Axon branches AFTER dendritic path filter = [0.]\n",
      "\n",
      "\n",
      "Part 4: final_true_axons = {'L7': array([0.])}\n",
      "\n",
      "--- Working on filter 0:\n",
      "function = dendrite_on_axon_merges\n",
      "function __name__ = filter_away_dendrite_on_axon_merges\n",
      "function arguments = {'use_pre_existing_axon_labels': True}\n",
      "\n",
      "\n"
     ]
    },
    {
     "name": "stdout",
     "output_type": "stream",
     "text": [
      "\n",
      "\n",
      "\n",
      " ---- Total time for applying filter: 0.8174049854278564 -----\n",
      "Starting axon branch was the starting node so using border vertices and NOT computing upstream branch\n",
      "upstream_node_to_axon_starting_branch = None\n"
     ]
    },
    {
     "name": "stderr",
     "output_type": "stream",
     "text": [
      "\r",
      "  0%|          | 0/1 [00:00<?, ?it/s]"
     ]
    },
    {
     "name": "stdout",
     "output_type": "stream",
     "text": [
      "root_curr = [1331450.   485197.3  704029.2]\n",
      "Time for preparing soma vertices and root: 0.019850730895996094\n",
      "invalidation_d = 2000\n",
      "cc_vertex_thresh = 10\n"
     ]
    },
    {
     "data": {
      "application/vnd.jupyter.widget-view+json": {
       "model_id": "8c9ca58aed0e4a04af07195cb4428766",
       "version_major": 2,
       "version_minor": 0
      },
      "text/plain": [
       "  0%|          | 0/2885 [00:00<?, ?it/s]"
      ]
     },
     "metadata": {},
     "output_type": "display_data"
    },
    {
     "name": "stderr",
     "output_type": "stream",
     "text": [
      "100%|██████████| 1/1 [00:00<00:00, 11.01it/s]\n"
     ]
    },
    {
     "name": "stdout",
     "output_type": "stream",
     "text": [
      "meshparty_segment_size = 100\n",
      "Time for 1st pass MP skeletonization: 0.5772778987884521\n",
      "branches_touching_root = [0]\n",
      "combining close nodes\n",
      "combine_threshold = 1300\n",
      "length of Graph = 360\n",
      "After combining close endpoints max(kept_branches_idx) = 0, len(kept_branches_idx) = 1\n",
      "empty_indices % = 0.0\n",
      " conflict_indices % = 0.0\n"
     ]
    },
    {
     "data": {
      "application/vnd.jupyter.widget-view+json": {
       "model_id": "ec74d1d6e00c4b19b4c0b215ac0837ef",
       "version_major": 2,
       "version_minor": 0
      },
      "text/plain": [
       "0it [00:00, ?it/s]"
      ]
     },
     "metadata": {},
     "output_type": "display_data"
    },
    {
     "name": "stdout",
     "output_type": "stream",
     "text": [
      "AFTER face_lookup_resolved_test\n"
     ]
    },
    {
     "data": {
      "application/vnd.jupyter.widget-view+json": {
       "model_id": "04efd06e375b4d1095dfe3635f200a58",
       "version_major": 2,
       "version_minor": 0
      },
      "text/plain": [
       "  0%|          | 0/1 [00:00<?, ?it/s]"
      ]
     },
     "metadata": {},
     "output_type": "display_data"
    },
    {
     "name": "stdout",
     "output_type": "stream",
     "text": [
      "Decomposing first pass: 0.44179248809814453\n",
      "Only Using MeshParty Skeletonization and Mesh Correspondence\n",
      "Another print\n",
      "Divinding into MP and MAP pieces: 0.0001862049102783203\n",
      "Total time for MAP sublimb processing 2.86102294921875e-06\n",
      "---- Working on MP Decomposition #0 ----\n",
      "Using Quicker soma_to_piece_touching_vertices because no MAP and only one sublimb_mesh piece \n",
      "MP filtering soma verts: 0.0002827644348144531\n",
      "Fixing Possible Soma Extension Branch for Sublimb 0\n",
      "Total time for mesh KDTree = 0.30530643463134766\n",
      "sbv[0].reshape(-1,3) = [[1331450.   485197.3  704029.2]]\n",
      "closest_sk_pt_coord BEFORE = [1331043.47405573  485584.46118659  704102.71820986]\n",
      "current_skeleton.shape = (359, 2, 3)\n",
      "node_for_stitch = 317: [1331043.47405573  485584.46118659  704102.71820986]\n",
      "node_for_stitch AFTER = 317: [1331043.47405573  485584.46118659  704102.71820986]\n",
      "possible_node_loc = [145 317]\n",
      "possible_node_loc AFTER = [145 317]\n",
      "curr_shortest_path = [317]\n",
      "Current stitch point was a branch or endpoint\n",
      "change_status for create soma extending pieces = False\n",
      "closest_sk_pt_coord AFTER = [1331043.47405573  485584.46118659  704102.71820986]\n",
      "skipping soma 0 because closest skeleton node was already end node\n",
      "endpoints_must_keep = {0: array([[1331043.47405573,  485584.46118659,  704102.71820986]])}\n",
      "match_sk_branches = [0]\n",
      "The new branch info was none so skipping \n",
      "\n",
      "No soma extending branch was added for this sublimb even though it had a soma border (means they already existed)\n",
      "MP (because soma touching verts) soma extension add: 0.6942834854125977\n",
      "There were not both MAP and MP pieces so skipping the stitch resolving phase\n",
      "Time for decomp of Limb = 1.7487595081329346\n",
      "Number of matching vertices = 25\n",
      "Only one endpoint after filtering away the endpoints that are not on the skeleton\n",
      "Using Distance measure skeletal_distance\n",
      "endpoints_must_keep = [[1331043.47405573  485584.46118659  704102.71820986]]\n",
      "Number of end_nodes BEFORE filtering = 2\n",
      "all_single_nodes_to_eliminate = [1]\n",
      "no small end nodes to get rid of so returning whole skeleton\n",
      "Removed 0 skeletal branches\n"
     ]
    },
    {
     "data": {
      "application/vnd.jupyter.widget-view+json": {
       "model_id": "fc42dc9977a34a39b3abb4733620888f",
       "version_major": 2,
       "version_minor": 0
      },
      "text/plain": [
       "  0%|          | 0/1 [00:00<?, ?it/s]"
      ]
     },
     "metadata": {},
     "output_type": "display_data"
    },
    {
     "name": "stdout",
     "output_type": "stream",
     "text": [
      "5727 5728\n",
      "For marked faces: None\n",
      "empty_indices % = 0.0\n",
      " conflict_indices % = 0.0\n"
     ]
    },
    {
     "data": {
      "application/vnd.jupyter.widget-view+json": {
       "model_id": "6f00e404bd4441c8b0ba7857bcfb8eb3",
       "version_major": 2,
       "version_minor": 0
      },
      "text/plain": [
       "0it [00:00, ?it/s]"
      ]
     },
     "metadata": {},
     "output_type": "display_data"
    },
    {
     "name": "stdout",
     "output_type": "stream",
     "text": [
      "AFTER face_lookup_resolved_test\n"
     ]
    },
    {
     "data": {
      "application/vnd.jupyter.widget-view+json": {
       "model_id": "dbab80b1546e4107a9da336c21e8ef25",
       "version_major": 2,
       "version_minor": 0
      },
      "text/plain": [
       "  0%|          | 0/1 [00:00<?, ?it/s]"
      ]
     },
     "metadata": {},
     "output_type": "display_data"
    },
    {
     "name": "stdout",
     "output_type": "stream",
     "text": [
      "Limb Correspondence before stitching = 1\n",
      "Limb Correspondence AFTER stitching = 1\n",
      "Upstream node was None so don't have to adjust\n",
      "concept_network_dict = {0: [<networkx_utils.GraphOrderedEdges object at 0x7f43a2772f98>]}\n",
      "\n",
      "\n",
      "----Working on seperate_graph 0----\n",
      "\n",
      "\n",
      "---------Working on soma_idx = 0, soma_group_idx 0, endpt = [1331043.47405573  485584.46118659  704102.71820986]---------\n",
      "Starting_edge inside branches_to_conept = [[1325556.54673326  518548.60313051  704664.38663247]\n",
      " [1331043.47405573  485584.46118659  704102.71820986]]\n",
      "Done generating concept network \n",
      "\n",
      "\n",
      "Synapsse Results:\n",
      "Total Number of Synapses = 7152\n",
      "n_valid_syn_ids_presyn = 0\n",
      "n_errored_syn_ids_presyn = 99\n",
      "n_valid_syn_ids_postsyn = 7046\n",
      "n_errored_syn_ids_postsyn = 7\n",
      "Synapsse Results:\n",
      "Total Number of Synapses = 7152\n",
      "n_valid_syn_ids_presyn = 0\n",
      "n_errored_syn_ids_presyn = 99\n",
      "n_valid_syn_ids_postsyn = 7046\n",
      "n_errored_syn_ids_postsyn = 7\n"
     ]
    },
    {
     "data": {
      "application/vnd.jupyter.widget-view+json": {
       "model_id": "b154200d85794f47ac974b6e0d2d4431",
       "version_major": 2,
       "version_minor": 0
      },
      "text/plain": [
       "0it [00:00, ?it/s]"
      ]
     },
     "metadata": {},
     "output_type": "display_data"
    },
    {
     "data": {
      "application/vnd.jupyter.widget-view+json": {
       "model_id": "dd02576fc0b342fb8b51e8d7063b4de7",
       "version_major": 2,
       "version_minor": 0
      },
      "text/plain": [
       "0it [00:00, ?it/s]"
      ]
     },
     "metadata": {},
     "output_type": "display_data"
    },
    {
     "name": "stdout",
     "output_type": "stream",
     "text": [
      "Synapsse Results:\n",
      "Total Number of Synapses = 7152\n",
      "n_valid_syn_ids_presyn = 0\n",
      "n_errored_syn_ids_presyn = 99\n",
      "n_valid_syn_ids_postsyn = 7046\n",
      "n_errored_syn_ids_postsyn = 7\n",
      "Synapsse Results:\n",
      "Total Number of Synapses = 7152\n",
      "n_valid_syn_ids_presyn = 0\n",
      "n_errored_syn_ids_presyn = 99\n",
      "n_valid_syn_ids_postsyn = 7046\n",
      "n_errored_syn_ids_postsyn = 7\n"
     ]
    },
    {
     "data": {
      "application/vnd.jupyter.widget-view+json": {
       "model_id": "0582e15cca714424811bc75babb447c7",
       "version_major": 2,
       "version_minor": 0
      },
      "text/plain": [
       "0it [00:00, ?it/s]"
      ]
     },
     "metadata": {},
     "output_type": "display_data"
    },
    {
     "data": {
      "application/vnd.jupyter.widget-view+json": {
       "model_id": "dfd60e4f9350410f8fe3e49952490b4b",
       "version_major": 2,
       "version_minor": 0
      },
      "text/plain": [
       "0it [00:00, ?it/s]"
      ]
     },
     "metadata": {},
     "output_type": "display_data"
    },
    {
     "name": "stdout",
     "output_type": "stream",
     "text": [
      "\n",
      "\n",
      "len(branch_attr_keys) = 0\n",
      "Saving Neuorn in suppress_output mode...please wait\n",
      "Saved File at location: /mnt/dj-stor01/platinum/minnie65/02/decomposition/864691136535575714_0_25_soma_0_split_full_axon\n",
      "Save time = 213.4219160079956\n",
      "\n",
      "\n",
      "\n",
      "---- Working on Neuron 864691135945413668 ----\n",
      "Decompressing Neuron in minimal output mode...please wait\n",
      "Pulled from Table Decomposition so setting split_index = 0\n",
      "Dont need spine recalculation\n",
      "Number of Neurons found = 1\n",
      "\n",
      "Part 1: Axon like branchese \n",
      "{'L0': array([ 0,  1,  2,  3,  4,  5,  6,  8, 10, 12, 13, 14, 15, 18, 19, 20, 28,\n",
      "       29]), 'L2': array([6]), 'L5': array([0])}\n",
      "Limb L0 soma angle: 15.43 \n",
      "Limb L1 soma angle: 84.63 \n",
      "Limb L2 soma angle: 52.89 \n",
      "Limb L3 soma angle: 104.77 \n",
      "Limb L4 soma angle: 115.78 \n",
      "Limb L5 soma angle: 170.42 \n",
      "\n",
      "Part 2: possible_axon_limbs = [1, 3, 4, 5]\n",
      "\n",
      "Phase 2: Working on Limb L1\n",
      "nodes_to_eliminate = [5 6]\n",
      "\n",
      "Phase 2: Working on Limb L3\n",
      "nodes_to_eliminate = []\n",
      "\n",
      "Phase 2: Working on Limb L4\n",
      "nodes_to_eliminate = []\n",
      "\n",
      "Phase 2: Working on Limb L5\n",
      "nodes_to_eliminate = []\n",
      "\n",
      "----Working on Limb L1-----\n",
      "No endpoints were eliminated so don't need to add back any candidates\n",
      "\n",
      "----Working on Limb L3-----\n",
      "No nodes were eliminated so don't need to add back any candidates\n",
      "\n",
      "----Working on Limb L4-----\n",
      "No nodes were eliminated so don't need to add back any candidates\n",
      "\n",
      "----Working on Limb L5-----\n",
      "No nodes were eliminated so don't need to add back any candidates\n",
      "Final Candidates\n",
      "\n",
      "Limb 1\n",
      "Candidate 0 (red): array([3])\n",
      "Candidate 1 (palegreen): array([0])\n",
      "Candidate 2 (cadetblue): array([1, 2, 4])\n",
      "\n",
      "Limb 3\n",
      "Candidate 0 (orange): array([0, 1, 2])\n",
      "\n",
      "Limb 4\n",
      "Candidate 0 (gold): array([0])\n",
      "\n",
      "Limb 5\n",
      "Candidate 0 (orange): array([0])\n",
      "Part 3: axon_subgraph_candidates = {1: [[3], [0], [1, 2, 4]], 3: [[0, 1, 2]], 4: [[0]], 5: [[0]]}\n",
      "\n",
      "\n",
      " --- Working on limb 1, candidate # 0\n",
      "0 out of 1 branches are axons\n",
      "Axon percentage = 0.0\n",
      "Not adding candidate no axon branches detected \n",
      "\n",
      "\n",
      " --- Working on limb 1, candidate # 1\n",
      "0 out of 1 branches are axons\n",
      "Axon percentage = 0.0\n",
      "Not adding candidate no axon branches detected \n",
      "\n",
      "\n",
      " --- Working on limb 1, candidate # 2\n",
      "0 out of 3 branches are axons\n",
      "Axon percentage = 0.0\n",
      "Not adding candidate no axon branches detected \n",
      "\n",
      "\n",
      " --- Working on limb 3, candidate # 0\n",
      "0 out of 3 branches are axons\n",
      "Axon percentage = 0.0\n",
      "Not adding candidate no axon branches detected \n",
      "\n",
      "\n",
      " --- Working on limb 4, candidate # 0\n",
      "0 out of 1 branches are axons\n",
      "Axon percentage = 0.0\n",
      "Not adding candidate no axon branches detected \n",
      "\n",
      "\n",
      " --- Working on limb 5, candidate # 0\n",
      "1 out of 1 branches are axons\n",
      "Axon percentage = 1.0\n",
      "curr_axon_angle_threshold = 95\n",
      "candidate_nodes = [0]\n",
      "non_axon_branches_on_subgraph = []\n",
      "endnodes_to_test = [212]\n",
      "Skeleton paths distances = [22676.83077439]\n",
      "Filtered indexes = [0]\n",
      "len(filtered_skeletons) = 1\n",
      "sk_angles = [157.50823577]\n",
      "candidate_angles,restr_skels = (array([157.50823577]), [array([[[796326.19694009, 715304.58603134, 683129.78846469],\n",
      "        [796327.61224106, 715402.08038653, 683151.98719177]],\n",
      "\n",
      "       [[796327.61224106, 715402.08038653, 683151.98719177],\n",
      "        [796328.90589238, 715499.56415256, 683174.24051139]],\n",
      "\n",
      "       [[796328.90589238, 715499.56415256, 683174.24051139],\n",
      "        [796329.89789804, 715597.02734745, 683196.59988449]],\n",
      "\n",
      "       [[796329.89789804, 715597.02734745, 683196.59988449],\n",
      "        [796331.23442698, 715694.55420263, 683218.65663126]],\n",
      "\n",
      "       [[796331.23442698, 715694.55420263, 683218.65663126],\n",
      "        [796332.93444778, 715792.14822306, 683240.39408985]],\n",
      "\n",
      "       [[796332.93444778, 715792.14822306, 683240.39408985],\n",
      "        [796335.87064432, 715889.8456637 , 683261.51025198]],\n",
      "\n",
      "       [[796335.87064432, 715889.8456637 , 683261.51025198],\n",
      "        [796339.25417425, 715987.5805289 , 683282.40158633]],\n",
      "\n",
      "       [[796339.25417425, 715987.5805289 , 683282.40158633],\n",
      "        [796345.00244026, 716085.29141787, 683302.88188689]],\n",
      "\n",
      "       [[796345.00244026, 716085.29141787, 683302.88188689],\n",
      "        [796351.49438484, 716182.92277029, 683323.48240673]],\n",
      "\n",
      "       [[796351.49438484, 716182.92277029, 683323.48240673],\n",
      "        [796360.15042528, 716280.31083441, 683344.47378427]],\n",
      "\n",
      "       [[796360.15042528, 716280.31083441, 683344.47378427],\n",
      "        [796370.49276373, 716377.32103791, 683366.35528685]],\n",
      "\n",
      "       [[796370.49276373, 716377.32103791, 683366.35528685],\n",
      "        [796382.28826973, 716474.00561997, 683389.0038548 ]],\n",
      "\n",
      "       [[796382.28826973, 716474.00561997, 683389.0038548 ],\n",
      "        [796396.95072225, 716569.70562663, 683413.9932594 ]],\n",
      "\n",
      "       [[796396.95072225, 716569.70562663, 683413.9932594 ],\n",
      "        [796412.92347585, 716664.84522818, 683440.2338239 ]],\n",
      "\n",
      "       [[796412.92347585, 716664.84522818, 683440.2338239 ],\n",
      "        [796431.22451573, 716758.90256367, 683468.8395852 ]],\n",
      "\n",
      "       [[796431.22451573, 716758.90256367, 683468.8395852 ],\n",
      "        [796451.76497215, 716851.65693739, 683499.99062312]],\n",
      "\n",
      "       [[796451.76497215, 716851.65693739, 683499.99062312],\n",
      "        [796473.72287283, 716943.50895601, 683532.81679285]],\n",
      "\n",
      "       [[796473.72287283, 716943.50895601, 683532.81679285],\n",
      "        [796497.39108856, 717034.17131647, 683567.74746648]],\n",
      "\n",
      "       [[796497.39108856, 717034.17131647, 683567.74746648],\n",
      "        [796522.33320385, 717123.7657307 , 683604.48600719]],\n",
      "\n",
      "       [[796522.33320385, 717123.7657307 , 683604.48600719],\n",
      "        [796547.66370429, 717212.93174895, 683642.00102912]],\n",
      "\n",
      "       [[796547.66370429, 717212.93174895, 683642.00102912],\n",
      "        [796573.22046903, 717301.7749895 , 683680.12884554]],\n",
      "\n",
      "       [[796573.22046903, 717301.7749895 , 683680.12884554],\n",
      "        [796598.16913035, 717390.75960029, 683718.32963014]],\n",
      "\n",
      "       [[796598.16913035, 717390.75960029, 683718.32963014],\n",
      "        [796622.45184348, 717480.089131  , 683756.14333469]],\n",
      "\n",
      "       [[796622.45184348, 717480.089131  , 683756.14333469],\n",
      "        [796646.07052633, 717569.76408835, 683793.56738906]],\n",
      "\n",
      "       [[796646.07052633, 717569.76408835, 683793.56738906],\n",
      "        [796668.16368062, 717660.3545398 , 683829.69202274]],\n",
      "\n",
      "       [[796668.16368062, 717660.3545398 , 683829.69202274],\n",
      "        [796689.68189538, 717751.32734195, 683865.18323563]],\n",
      "\n",
      "       [[796689.68189538, 717751.32734195, 683865.18323563],\n",
      "        [796710.24811459, 717842.94410976, 683899.58379499]],\n",
      "\n",
      "       [[796710.24811459, 717842.94410976, 683899.58379499],\n",
      "        [796730.24613903, 717935.08559149, 683932.88883276]],\n",
      "\n",
      "       [[796730.24613903, 717935.08559149, 683932.88883276],\n",
      "        [796749.99584094, 718027.46951575, 683965.67789257]],\n",
      "\n",
      "       [[796749.99584094, 718027.46951575, 683965.67789257],\n",
      "        [796769.9428749 , 718120.22195809, 683997.28644007]],\n",
      "\n",
      "       [[796769.9428749 , 718120.22195809, 683997.28644007],\n",
      "        [796790.41784325, 718212.9352852 , 684028.66147318]],\n",
      "\n",
      "       [[796790.41784325, 718212.9352852 , 684028.66147318],\n",
      "        [796811.87361206, 718305.57594373, 684059.6026815 ]],\n",
      "\n",
      "       [[796811.87361206, 718305.57594373, 684059.6026815 ],\n",
      "        [796835.29873734, 718397.7693637 , 684090.42039994]],\n",
      "\n",
      "       [[796835.29873734, 718397.7693637 , 684090.42039994],\n",
      "        [796859.74313126, 718489.72459771, 684121.18180513]],\n",
      "\n",
      "       [[796859.74313126, 718489.72459771, 684121.18180513],\n",
      "        [796888.15278131, 718580.5204375 , 684151.98776657]],\n",
      "\n",
      "       [[796888.15278131, 718580.5204375 , 684151.98776657],\n",
      "        [796918.38520451, 718670.69958311, 684182.77139969]],\n",
      "\n",
      "       [[796918.38520451, 718670.69958311, 684182.77139969],\n",
      "        [796951.61523726, 718759.86455514, 684213.51831315]],\n",
      "\n",
      "       [[796951.61523726, 718759.86455514, 684213.51831315],\n",
      "        [796988.53416466, 718847.63434464, 684243.97961172]],\n",
      "\n",
      "       [[796988.53416466, 718847.63434464, 684243.97961172],\n",
      "        [797027.21408775, 718934.72150172, 684274.26955362]],\n",
      "\n",
      "       [[797027.21408775, 718934.72150172, 684274.26955362],\n",
      "        [797070.01803161, 719020.09600252, 684303.91777454]],\n",
      "\n",
      "       [[797070.01803161, 719020.09600252, 684303.91777454],\n",
      "        [797114.43429072, 719104.74767693, 684333.19879534]],\n",
      "\n",
      "       [[797114.43429072, 719104.74767693, 684333.19879534],\n",
      "        [797160.78706924, 719188.53117912, 684362.03877947]],\n",
      "\n",
      "       [[797160.78706924, 719188.53117912, 684362.03877947],\n",
      "        [797208.72348303, 719271.5703018 , 684390.42551436]],\n",
      "\n",
      "       [[797208.72348303, 719271.5703018 , 684390.42551436],\n",
      "        [797257.02851041, 719354.43822011, 684418.70147495]],\n",
      "\n",
      "       [[797257.02851041, 719354.43822011, 684418.70147495],\n",
      "        [797305.22998058, 719437.36668891, 684446.97668205]],\n",
      "\n",
      "       [[797305.22998058, 719437.36668891, 684446.97668205],\n",
      "        [797352.13980051, 719520.89244311, 684475.62418993]],\n",
      "\n",
      "       [[797352.13980051, 719520.89244311, 684475.62418993],\n",
      "        [797397.71394266, 719605.03584195, 684504.65668893]],\n",
      "\n",
      "       [[797397.71394266, 719605.03584195, 684504.65668893],\n",
      "        [797438.89262238, 719690.94673913, 684534.97163776]],\n",
      "\n",
      "       [[797438.89262238, 719690.94673913, 684534.97163776],\n",
      "        [797477.88984827, 719777.61758784, 684565.92257845]],\n",
      "\n",
      "       [[797477.88984827, 719777.61758784, 684565.92257845],\n",
      "        [797510.92695414, 719866.16170631, 684598.61032417]],\n",
      "\n",
      "       [[797510.92695414, 719866.16170631, 684598.61032417],\n",
      "        [797539.9476297 , 719955.54328743, 684632.53337597]],\n",
      "\n",
      "       [[797539.9476297 , 719955.54328743, 684632.53337597],\n",
      "        [797565.0391941 , 720045.74412436, 684667.66487769]],\n",
      "\n",
      "       [[797565.0391941 , 720045.74412436, 684667.66487769],\n",
      "        [797584.80379438, 720136.43201896, 684704.75564565]],\n",
      "\n",
      "       [[797584.80379438, 720136.43201896, 684704.75564565],\n",
      "        [797603.03505586, 720227.26011056, 684742.41037816]],\n",
      "\n",
      "       [[797603.03505586, 720227.26011056, 684742.41037816],\n",
      "        [797616.80184709, 720317.85740483, 684782.43253295]],\n",
      "\n",
      "       [[797616.80184709, 720317.85740483, 684782.43253295],\n",
      "        [797630.27573748, 720408.39925885, 684822.68158019]],\n",
      "\n",
      "       [[797630.27573748, 720408.39925885, 684822.68158019],\n",
      "        [797641.71604607, 720498.28075369, 684864.99512679]],\n",
      "\n",
      "       [[797641.71604607, 720498.28075369, 684864.99512679],\n",
      "        [797653.13213603, 720588.09570245, 684907.45272734]],\n",
      "\n",
      "       [[797653.13213603, 720588.09570245, 684907.45272734],\n",
      "        [797664.26622594, 720677.13579348, 684951.5876821 ]],\n",
      "\n",
      "       [[797664.26622594, 720677.13579348, 684951.5876821 ],\n",
      "        [797675.42038607, 720766.1558183 , 684995.75717526]],\n",
      "\n",
      "       [[797675.42038607, 720766.1558183 , 684995.75717526],\n",
      "        [797687.33549762, 720854.41504355, 685041.23617345]],\n",
      "\n",
      "       [[797687.33549762, 720854.41504355, 685041.23617345],\n",
      "        [797699.25060917, 720942.67426879, 685086.71517163]],\n",
      "\n",
      "       [[797699.25060917, 720942.67426879, 685086.71517163],\n",
      "        [797712.35442866, 721030.2909719 , 685133.09888164]],\n",
      "\n",
      "       [[797712.35442866, 721030.2909719 , 685133.09888164],\n",
      "        [797725.52778794, 721117.87008727, 685179.53551758]],\n",
      "\n",
      "       [[797725.52778794, 721117.87008727, 685179.53551758],\n",
      "        [797740.03316698, 721204.83426474, 685226.72092729]],\n",
      "\n",
      "       [[797740.03316698, 721204.83426474, 685226.72092729],\n",
      "        [797754.71672877, 721291.71618267, 685274.00649961]],\n",
      "\n",
      "       [[797754.71672877, 721291.71618267, 685274.00649961],\n",
      "        [797771.08470413, 721377.75225672, 685322.2692004 ]],\n",
      "\n",
      "       [[797771.08470413, 721377.75225672, 685322.2692004 ],\n",
      "        [797787.67504778, 721463.67666649, 685370.66089705]],\n",
      "\n",
      "       [[797787.67504778, 721463.67666649, 685370.66089705],\n",
      "        [797806.8364467 , 721548.14518152, 685420.63819414]],\n",
      "\n",
      "       [[797806.8364467 , 721548.14518152, 685420.63819414],\n",
      "        [797826.72989647, 721632.17536944, 685471.03616391]],\n",
      "\n",
      "       [[797826.72989647, 721632.17536944, 685471.03616391],\n",
      "        [797849.38698318, 721714.54541768, 685523.01530948]],\n",
      "\n",
      "       [[797849.38698318, 721714.54541768, 685523.01530948],\n",
      "        [797874.1004255 , 721795.72313208, 685575.86930957]],\n",
      "\n",
      "       [[797874.1004255 , 721795.72313208, 685575.86930957],\n",
      "        [797900.6982626 , 721875.80822045, 685629.52500528]],\n",
      "\n",
      "       [[797900.6982626 , 721875.80822045, 685629.52500528],\n",
      "        [797930.56060667, 721954.44962618, 685683.58650428]],\n",
      "\n",
      "       [[797930.56060667, 721954.44962618, 685683.58650428],\n",
      "        [797961.45750357, 722033.02089547, 685737.16271381]],\n",
      "\n",
      "       [[797961.45750357, 722033.02089547, 685737.16271381],\n",
      "        [797993.7232649 , 722111.69361384, 685789.7889813 ]],\n",
      "\n",
      "       [[797993.7232649 , 722111.69361384, 685789.7889813 ],\n",
      "        [798025.93389912, 722192.13783135, 685839.67179016]],\n",
      "\n",
      "       [[798025.93389912, 722192.13783135, 685839.67179016],\n",
      "        [798057.66842462, 722273.7653407 , 685887.86776623]],\n",
      "\n",
      "       [[798057.66842462, 722273.7653407 , 685887.86776623],\n",
      "        [798087.36104147, 722358.49433235, 685931.90577798]],\n",
      "\n",
      "       [[798087.36104147, 722358.49433235, 685931.90577798],\n",
      "        [798114.63959376, 722445.45913818, 685972.82596619]],\n",
      "\n",
      "       [[798114.63959376, 722445.45913818, 685972.82596619],\n",
      "        [798139.73976944, 722534.441473  , 686010.93272765]],\n",
      "\n",
      "       [[798139.73976944, 722534.441473  , 686010.93272765],\n",
      "        [798160.18729497, 722626.36248439, 686044.38160746]],\n",
      "\n",
      "       [[798160.18729497, 722626.36248439, 686044.38160746],\n",
      "        [798179.41758498, 722719.05231814, 686076.61188307]],\n",
      "\n",
      "       [[798179.41758498, 722719.05231814, 686076.61188307],\n",
      "        [798192.58722305, 722814.35359773, 686103.86178726]],\n",
      "\n",
      "       [[798192.58722305, 722814.35359773, 686103.86178726],\n",
      "        [798205.14115257, 722909.85060888, 686130.67334851]],\n",
      "\n",
      "       [[798205.14115257, 722909.85060888, 686130.67334851],\n",
      "        [798212.32949364, 723006.86144506, 686153.85147216]],\n",
      "\n",
      "       [[798212.32949364, 723006.86144506, 686153.85147216],\n",
      "        [798218.88845178, 723103.97798769, 686176.69132258]],\n",
      "\n",
      "       [[798218.88845178, 723103.97798769, 686176.69132258],\n",
      "        [798220.98579171, 723201.84387036, 686197.13319565]],\n",
      "\n",
      "       [[798220.98579171, 723201.84387036, 686197.13319565],\n",
      "        [798222.49809451, 723299.75512743, 686217.3476577 ]],\n",
      "\n",
      "       [[798222.49809451, 723299.75512743, 686217.3476577 ],\n",
      "        [798220.35549045, 723397.94985236, 686236.14141316]],\n",
      "\n",
      "       [[798220.35549045, 723397.94985236, 686236.14141316],\n",
      "        [798217.66591363, 723496.14613616, 686254.81270881]],\n",
      "\n",
      "       [[798217.66591363, 723496.14613616, 686254.81270881],\n",
      "        [798212.12334278, 723594.35055098, 686272.84525767]],\n",
      "\n",
      "       [[798212.12334278, 723594.35055098, 686272.84525767],\n",
      "        [798205.98277774, 723692.51659893, 686290.85920842]],\n",
      "\n",
      "       [[798205.98277774, 723692.51659893, 686290.85920842],\n",
      "        [798197.81559167, 723790.55262037, 686308.81012963]],\n",
      "\n",
      "       [[798197.81559167, 723790.55262037, 686308.81012963],\n",
      "        [798188.92254979, 723888.491598  , 686326.91786576]],\n",
      "\n",
      "       [[798188.92254979, 723888.491598  , 686326.91786576],\n",
      "        [798178.76077891, 723986.26095202, 686345.29969995]],\n",
      "\n",
      "       [[798178.76077891, 723986.26095202, 686345.29969995],\n",
      "        [798167.65639889, 724083.83016084, 686364.16994058]],\n",
      "\n",
      "       [[798167.65639889, 724083.83016084, 686364.16994058],\n",
      "        [798155.86047225, 724181.25253284, 686383.39850133]],\n",
      "\n",
      "       [[798155.86047225, 724181.25253284, 686383.39850133],\n",
      "        [798142.71035314, 724278.28541135, 686403.67573722]],\n",
      "\n",
      "       [[798142.71035314, 724278.28541135, 686403.67573722],\n",
      "        [798129.06138496, 724375.15567941, 686424.39056608]]])])\n",
      "base_final_widths = [220.1121722  236.38849586]\n",
      "overall_ais_width = 205.97119937353833\n",
      "ais_width = 228.25033402643572\n",
      "Adding the following branches as true axons: [0.]\n",
      "curr_soma_angle = 170.42\n",
      "max_axon_angle = 157.50823577302162\n",
      "Changing to a better axon candidate\n",
      "Using the best axon approach\n",
      "Using True\n",
      "Limb L5: Axon branches before dendritic path filter = [0.]\n",
      "Limb L5: Axon branches AFTER dendritic path filter = [0.]\n",
      "\n",
      "\n",
      "Part 4: final_true_axons = {'L5': array([0.])}\n"
     ]
    },
    {
     "name": "stdout",
     "output_type": "stream",
     "text": [
      "\n",
      "--- Working on filter 0:\n",
      "function = dendrite_on_axon_merges\n",
      "function __name__ = filter_away_dendrite_on_axon_merges\n",
      "function arguments = {'use_pre_existing_axon_labels': True}\n",
      "\n",
      "\n",
      "\n",
      "\n",
      "\n",
      " ---- Total time for applying filter: 0.18229961395263672 -----\n"
     ]
    },
    {
     "name": "stderr",
     "output_type": "stream",
     "text": [
      "\r",
      "  0%|          | 0/1 [00:00<?, ?it/s]"
     ]
    },
    {
     "name": "stdout",
     "output_type": "stream",
     "text": [
      "Starting axon branch was the starting node so using border vertices and NOT computing upstream branch\n",
      "upstream_node_to_axon_starting_branch = None\n",
      "root_curr = [792874.2 706609.1 679392.8]\n",
      "Time for preparing soma vertices and root: 0.0003190040588378906\n",
      "invalidation_d = 2000\n",
      "cc_vertex_thresh = 10\n"
     ]
    },
    {
     "data": {
      "application/vnd.jupyter.widget-view+json": {
       "model_id": "18b0dba6d3ac429f9d524295cc9de143",
       "version_major": 2,
       "version_minor": 0
      },
      "text/plain": [
       "  0%|          | 0/1262 [00:00<?, ?it/s]"
      ]
     },
     "metadata": {},
     "output_type": "display_data"
    },
    {
     "name": "stderr",
     "output_type": "stream",
     "text": [
      "100%|██████████| 1/1 [00:00<00:00, 19.57it/s]\n"
     ]
    },
    {
     "name": "stdout",
     "output_type": "stream",
     "text": [
      "meshparty_segment_size = 100\n",
      "Time for 1st pass MP skeletonization: 0.14824962615966797\n",
      "branches_touching_root = [0]\n",
      "combining close nodes\n",
      "combine_threshold = 1300\n",
      "length of Graph = 228\n",
      "After combining close endpoints max(kept_branches_idx) = 0, len(kept_branches_idx) = 1\n",
      "empty_indices % = 0.0\n",
      " conflict_indices % = 0.0\n"
     ]
    },
    {
     "data": {
      "application/vnd.jupyter.widget-view+json": {
       "model_id": "8a79f09eb94848fb974a04e55267f606",
       "version_major": 2,
       "version_minor": 0
      },
      "text/plain": [
       "0it [00:00, ?it/s]"
      ]
     },
     "metadata": {},
     "output_type": "display_data"
    },
    {
     "name": "stdout",
     "output_type": "stream",
     "text": [
      "AFTER face_lookup_resolved_test\n"
     ]
    },
    {
     "data": {
      "application/vnd.jupyter.widget-view+json": {
       "model_id": "8b00e34cd64b43c6b9669a184cc3a70a",
       "version_major": 2,
       "version_minor": 0
      },
      "text/plain": [
       "  0%|          | 0/1 [00:00<?, ?it/s]"
      ]
     },
     "metadata": {},
     "output_type": "display_data"
    },
    {
     "name": "stdout",
     "output_type": "stream",
     "text": [
      "Decomposing first pass: 0.328765869140625\n",
      "Only Using MeshParty Skeletonization and Mesh Correspondence\n",
      "Another print\n",
      "Divinding into MP and MAP pieces: 4.887580871582031e-05\n",
      "Total time for MAP sublimb processing 5.245208740234375e-06\n",
      "---- Working on MP Decomposition #0 ----\n",
      "Using Quicker soma_to_piece_touching_vertices because no MAP and only one sublimb_mesh piece \n",
      "MP filtering soma verts: 8.368492126464844e-05\n",
      "Fixing Possible Soma Extension Branch for Sublimb 0\n",
      "Total time for mesh KDTree = 0.015175104141235352\n",
      "sbv[0].reshape(-1,3) = [[792874.2 706609.1 679392.8]]\n",
      "closest_sk_pt_coord BEFORE = [792166.95883094 707090.85970709 679678.74255349]\n",
      "current_skeleton.shape = (227, 2, 3)\n",
      "node_for_stitch = 0: [792166.95883094 707090.85970709 679678.74255349]\n",
      "node_for_stitch AFTER = 0: [792166.95883094 707090.85970709 679678.74255349]\n",
      "possible_node_loc = [  0 212]\n",
      "possible_node_loc AFTER = [  0 212]\n",
      "curr_shortest_path = [0]\n",
      "Current stitch point was a branch or endpoint\n",
      "change_status for create soma extending pieces = False\n",
      "closest_sk_pt_coord AFTER = [792166.95883094 707090.85970709 679678.74255349]\n",
      "skipping soma 0 because closest skeleton node was already end node\n",
      "endpoints_must_keep = {0: array([[792166.95883094, 707090.85970709, 679678.74255349]])}\n",
      "match_sk_branches = [0]\n",
      "The new branch info was none so skipping \n",
      "\n",
      "No soma extending branch was added for this sublimb even though it had a soma border (means they already existed)\n",
      "MP (because soma touching verts) soma extension add: 0.2902538776397705\n",
      "There were not both MAP and MP pieces so skipping the stitch resolving phase\n",
      "Time for decomp of Limb = 0.7788980007171631\n",
      "Number of matching vertices = 23\n",
      "Only one endpoint after filtering away the endpoints that are not on the skeleton\n",
      "Using Distance measure skeletal_distance\n",
      "endpoints_must_keep = [[792166.95883094 707090.85970709 679678.74255349]]\n",
      "Number of end_nodes BEFORE filtering = 2\n",
      "all_single_nodes_to_eliminate = [0]\n",
      "no small end nodes to get rid of so returning whole skeleton\n",
      "Removed 0 skeletal branches\n"
     ]
    },
    {
     "data": {
      "application/vnd.jupyter.widget-view+json": {
       "model_id": "6b4a3c034c134795b1a465df36db7d99",
       "version_major": 2,
       "version_minor": 0
      },
      "text/plain": [
       "  0%|          | 0/1 [00:00<?, ?it/s]"
      ]
     },
     "metadata": {},
     "output_type": "display_data"
    },
    {
     "name": "stdout",
     "output_type": "stream",
     "text": [
      "2500 2501\n",
      "For marked faces: None\n",
      "empty_indices % = 0.0\n",
      " conflict_indices % = 0.0\n"
     ]
    },
    {
     "data": {
      "application/vnd.jupyter.widget-view+json": {
       "model_id": "c4d8450638f640a0a14268a0a36d9804",
       "version_major": 2,
       "version_minor": 0
      },
      "text/plain": [
       "0it [00:00, ?it/s]"
      ]
     },
     "metadata": {},
     "output_type": "display_data"
    },
    {
     "name": "stdout",
     "output_type": "stream",
     "text": [
      "AFTER face_lookup_resolved_test\n"
     ]
    },
    {
     "data": {
      "application/vnd.jupyter.widget-view+json": {
       "model_id": "873cbe40f77d416584d651428e92773f",
       "version_major": 2,
       "version_minor": 0
      },
      "text/plain": [
       "  0%|          | 0/1 [00:00<?, ?it/s]"
      ]
     },
     "metadata": {},
     "output_type": "display_data"
    },
    {
     "name": "stdout",
     "output_type": "stream",
     "text": [
      "Limb Correspondence before stitching = 1\n",
      "Limb Correspondence AFTER stitching = 1\n",
      "Upstream node was None so don't have to adjust\n",
      "concept_network_dict = {0: [<networkx_utils.GraphOrderedEdges object at 0x7f45323b4a58>]}\n",
      "\n",
      "\n",
      "----Working on seperate_graph 0----\n",
      "\n",
      "\n",
      "---------Working on soma_idx = 0, soma_group_idx 0, endpt = [792166.95883094 707090.85970709 679678.74255349]---------\n",
      "Starting_edge inside branches_to_conept = [[792166.95883094 707090.85970709 679678.74255349]\n",
      " [798165.49955713 726941.0453741  687086.15003067]]\n",
      "Done generating concept network \n",
      "\n",
      "\n",
      "Synapsse Results:\n",
      "Total Number of Synapses = 1645\n",
      "n_valid_syn_ids_presyn = 0\n",
      "n_errored_syn_ids_presyn = 108\n",
      "n_valid_syn_ids_postsyn = 1536\n",
      "n_errored_syn_ids_postsyn = 1\n",
      "Synapsse Results:\n",
      "Total Number of Synapses = 1645\n",
      "n_valid_syn_ids_presyn = 0\n",
      "n_errored_syn_ids_presyn = 108\n",
      "n_valid_syn_ids_postsyn = 1536\n",
      "n_errored_syn_ids_postsyn = 1\n"
     ]
    },
    {
     "data": {
      "application/vnd.jupyter.widget-view+json": {
       "model_id": "5c6f7a9c38f5416caa335582e6ebdd7f",
       "version_major": 2,
       "version_minor": 0
      },
      "text/plain": [
       "0it [00:00, ?it/s]"
      ]
     },
     "metadata": {},
     "output_type": "display_data"
    },
    {
     "data": {
      "application/vnd.jupyter.widget-view+json": {
       "model_id": "72c4b3130ce44192a15b6bfdeb2e3fc2",
       "version_major": 2,
       "version_minor": 0
      },
      "text/plain": [
       "0it [00:00, ?it/s]"
      ]
     },
     "metadata": {},
     "output_type": "display_data"
    },
    {
     "name": "stdout",
     "output_type": "stream",
     "text": [
      "Synapsse Results:\n",
      "Total Number of Synapses = 1645\n",
      "n_valid_syn_ids_presyn = 0\n",
      "n_errored_syn_ids_presyn = 108\n",
      "n_valid_syn_ids_postsyn = 1536\n",
      "n_errored_syn_ids_postsyn = 1\n",
      "Synapsse Results:\n",
      "Total Number of Synapses = 1645\n",
      "n_valid_syn_ids_presyn = 0\n",
      "n_errored_syn_ids_presyn = 108\n",
      "n_valid_syn_ids_postsyn = 1536\n",
      "n_errored_syn_ids_postsyn = 1\n"
     ]
    },
    {
     "data": {
      "application/vnd.jupyter.widget-view+json": {
       "model_id": "bab71716c5fa4db99f092ab5cab60074",
       "version_major": 2,
       "version_minor": 0
      },
      "text/plain": [
       "0it [00:00, ?it/s]"
      ]
     },
     "metadata": {},
     "output_type": "display_data"
    },
    {
     "data": {
      "application/vnd.jupyter.widget-view+json": {
       "model_id": "e6acbf465d88408bbe255e2940d0eb54",
       "version_major": 2,
       "version_minor": 0
      },
      "text/plain": [
       "0it [00:00, ?it/s]"
      ]
     },
     "metadata": {},
     "output_type": "display_data"
    },
    {
     "name": "stdout",
     "output_type": "stream",
     "text": [
      "\n",
      "\n",
      "len(branch_attr_keys) = 0\n",
      "Saving Neuorn in suppress_output mode...please wait\n",
      "Saved File at location: /mnt/dj-stor01/platinum/minnie65/02/decomposition/864691135945413668_0_25_full_axon\n",
      "Save time = 123.33424925804138\n",
      "\n",
      "\n",
      "\n",
      "---- Working on Neuron 864691136333787571 ----\n",
      "Decompressing Neuron in minimal output mode...please wait\n",
      "Dont need spine recalculation\n",
      "Number of Neurons found = 1\n",
      "\n",
      "Part 1: Axon like branchese \n",
      "{'L0': array([ 7, 40, 48, 49]), 'L1': array([ 0,  1,  3,  4,  5,  6,  7,  8,  9, 10, 29]), 'L2': array([ 0,  1,  2,  3,  4,  5,  6,  7,  8,  9, 10, 11, 12, 13]), 'L3': array([3]), 'L5': array([2, 3, 4, 5, 6]), 'L6': array([0])}\n",
      "Limb L0 soma angle: 27.99 \n",
      "Limb L1 soma angle: 84.08 \n",
      "Limb L2 soma angle: 119.3 \n",
      "Limb L3 soma angle: 57.13 \n",
      "Limb L4 soma angle: 103.82 \n",
      "Limb L5 soma angle: 127.91 \n",
      "Limb L6 soma angle: 156.15 \n",
      "Limb L7 soma angle: 103.08 \n",
      "\n",
      "Part 2: possible_axon_limbs = [1, 2, 4, 5, 6, 7]\n",
      "\n",
      "Phase 2: Working on Limb L1\n",
      "nodes_to_eliminate = [13 14 16]\n",
      "\n",
      "Phase 2: Working on Limb L2\n",
      "nodes_to_eliminate = [17]\n",
      "\n",
      "Phase 2: Working on Limb L4\n",
      "nodes_to_eliminate = [4]\n",
      "\n",
      "Phase 2: Working on Limb L5\n",
      "nodes_to_eliminate = [7]\n",
      "\n",
      "Phase 2: Working on Limb L6\n",
      "nodes_to_eliminate = []\n",
      "\n",
      "Phase 2: Working on Limb L7\n",
      "nodes_to_eliminate = []\n",
      "\n",
      "----Working on Limb L1-----\n",
      "No endpoints were eliminated so don't need to add back any candidates\n",
      "\n",
      "----Working on Limb L2-----\n",
      "No endpoints were eliminated so don't need to add back any candidates\n",
      "\n",
      "----Working on Limb L4-----\n",
      "No endpoints were eliminated so don't need to add back any candidates\n",
      "\n",
      "----Working on Limb L5-----\n",
      "No endpoints were eliminated so don't need to add back any candidates\n",
      "\n",
      "----Working on Limb L6-----\n",
      "No nodes were eliminated so don't need to add back any candidates\n",
      "\n",
      "----Working on Limb L7-----\n",
      "No nodes were eliminated so don't need to add back any candidates\n",
      "Final Candidates\n",
      "\n",
      "Limb 1\n",
      "Candidate 0 (orange): array([2])\n",
      "Candidate 1 (gold): array([11, 12, 15])\n",
      "Candidate 2 (sandybrown): array([17, 22, 23, 25, 26, 27, 28])\n",
      "Candidate 3 (gray): array([ 0,  1,  3,  4,  5,  6,  7,  8,  9, 10, 18, 19, 20, 21, 24, 29, 30])\n",
      "\n",
      "Limb 2\n",
      "Candidate 0 (darkslategray): array([ 0,  1,  2,  3,  4,  5,  6,  7,  8,  9, 10, 11, 12, 13, 14, 15, 16,\n",
      "       18])\n",
      "Candidate 1 (crimson): array([19, 20, 21, 22, 23])\n",
      "\n",
      "Limb 4\n",
      "Candidate 0 (brown): array([0])\n",
      "Candidate 1 (green): array([1, 2, 3])\n",
      "\n",
      "Limb 5\n",
      "Candidate 0 (orange): array([0, 1, 2, 3, 4, 5, 6])\n",
      "Candidate 1 (green): array([8])\n",
      "\n",
      "Limb 6\n",
      "Candidate 0 (gray): array([0])\n",
      "\n",
      "Limb 7\n",
      "Candidate 0 (darkslategray): array([0, 1, 2, 3, 4, 5])\n",
      "Part 3: axon_subgraph_candidates = {1: [[2], [11, 12, 15], [17, 22, 23, 25, 26, 27, 28], [0, 1, 3, 4, 5, 6, 7, 8, 9, 10, 18, 19, 20, 21, 24, 29, 30]], 2: [[0, 1, 2, 3, 4, 5, 6, 7, 8, 9, 10, 11, 12, 13, 14, 15, 16, 18], [19, 20, 21, 22, 23]], 4: [[0], [1, 2, 3]], 5: [[0, 1, 2, 3, 4, 5, 6], [8]], 6: [[0]], 7: [[0, 1, 2, 3, 4, 5]]}\n",
      "\n",
      "\n",
      " --- Working on limb 1, candidate # 0\n",
      "0 out of 1 branches are axons\n",
      "Axon percentage = 0.0\n",
      "Not adding candidate no axon branches detected \n",
      "\n",
      "\n",
      " --- Working on limb 1, candidate # 1\n",
      "0 out of 3 branches are axons\n",
      "Axon percentage = 0.0\n",
      "Not adding candidate no axon branches detected \n",
      "\n",
      "\n",
      " --- Working on limb 1, candidate # 2\n",
      "0 out of 7 branches are axons\n",
      "Axon percentage = 0.0\n",
      "Not adding candidate no axon branches detected \n",
      "\n",
      "\n",
      " --- Working on limb 1, candidate # 3\n",
      "11 out of 17 branches are axons\n",
      "Axon percentage = 0.6470588235294118\n",
      "curr_axon_angle_threshold = 120\n",
      "candidate_nodes = [ 0  1  3  4  5  6  7  8  9 10 13 16 18 19 20 21 24 29 30]\n",
      "non_axon_branches_on_subgraph = [13 16 18 19 20 21 24 30]\n",
      "endnodes_to_test = []\n",
      "candidate_angles,restr_skels = (None, None)\n",
      "Not adding candidate because no angles (None) passed the threhold 120 \n",
      "\n",
      "\n",
      " --- Working on limb 2, candidate # 0\n",
      "14 out of 18 branches are axons\n",
      "Axon percentage = 0.7777777777777778\n",
      "curr_axon_angle_threshold = 120\n",
      "candidate_nodes = [ 0  1  2  3  4  5  6  7  8  9 10 11 12 13 14 15 16 17 18]\n",
      "non_axon_branches_on_subgraph = [14 15 16 17 18]\n",
      "endnodes_to_test = []\n",
      "candidate_angles,restr_skels = (None, None)\n",
      "Not adding candidate because no angles (None) passed the threhold 120 \n",
      "\n",
      "\n",
      " --- Working on limb 2, candidate # 1\n",
      "0 out of 5 branches are axons\n",
      "Axon percentage = 0.0\n",
      "Not adding candidate no axon branches detected \n",
      "\n",
      "\n",
      " --- Working on limb 4, candidate # 0\n",
      "0 out of 1 branches are axons\n",
      "Axon percentage = 0.0\n",
      "Not adding candidate no axon branches detected \n",
      "\n",
      "\n",
      " --- Working on limb 4, candidate # 1\n",
      "0 out of 3 branches are axons\n",
      "Axon percentage = 0.0\n",
      "Not adding candidate no axon branches detected \n",
      "\n",
      "\n",
      " --- Working on limb 5, candidate # 0\n",
      "5 out of 7 branches are axons\n",
      "Axon percentage = 0.7142857142857143\n",
      "curr_axon_angle_threshold = 120\n",
      "candidate_nodes = [0 1 2 3 4 5 6 7]\n",
      "non_axon_branches_on_subgraph = [0 1 7]\n",
      "endnodes_to_test = []\n",
      "candidate_angles,restr_skels = (None, None)\n",
      "Not adding candidate because no angles (None) passed the threhold 120 \n",
      "\n",
      "\n",
      " --- Working on limb 5, candidate # 1\n",
      "0 out of 1 branches are axons\n",
      "Axon percentage = 0.0\n",
      "Not adding candidate no axon branches detected \n",
      "\n",
      "\n",
      " --- Working on limb 6, candidate # 0\n",
      "1 out of 1 branches are axons\n",
      "Axon percentage = 1.0\n",
      "curr_axon_angle_threshold = 95\n",
      "candidate_nodes = [0]\n",
      "non_axon_branches_on_subgraph = []\n",
      "endnodes_to_test = [240]\n",
      "Skeleton paths distances = [24882.37220957]\n",
      "Filtered indexes = [0]\n",
      "len(filtered_skeletons) = 1\n",
      "sk_angles = [171.97118378]\n",
      "candidate_angles,restr_skels = (array([171.97118378]), [array([[[1184510.,  511241.,  942040.],\n",
      "        [1184550.,  511444.,  942079.]],\n",
      "\n",
      "       [[1184550.,  511444.,  942079.],\n",
      "        [1184600.,  511642.,  942110.]],\n",
      "\n",
      "       [[1184600.,  511642.,  942110.],\n",
      "        [1184630.,  511793.,  942121.]],\n",
      "\n",
      "       [[1184630.,  511793.,  942121.],\n",
      "        [1184660.,  511929.,  942125.]],\n",
      "\n",
      "       [[1184660.,  511929.,  942125.],\n",
      "        [1184710.,  512133.,  942122.]],\n",
      "\n",
      "       [[1184710.,  512133.,  942122.],\n",
      "        [1184760.,  512318.,  942111.]],\n",
      "\n",
      "       [[1184760.,  512318.,  942111.],\n",
      "        [1184830.,  512596.,  942084.]],\n",
      "\n",
      "       [[1184830.,  512596.,  942084.],\n",
      "        [1184870.,  512736.,  942069.]],\n",
      "\n",
      "       [[1184870.,  512736.,  942069.],\n",
      "        [1184900.,  512825.,  942061.]],\n",
      "\n",
      "       [[1184900.,  512825.,  942061.],\n",
      "        [1184920.,  512910.,  942056.]],\n",
      "\n",
      "       [[1184920.,  512910.,  942056.],\n",
      "        [1184930.,  512936.,  942055.]],\n",
      "\n",
      "       [[1184930.,  512936.,  942055.],\n",
      "        [1184970.,  513065.,  942052.]],\n",
      "\n",
      "       [[1184970.,  513065.,  942052.],\n",
      "        [1185000.,  513191.,  942053.]],\n",
      "\n",
      "       [[1185000.,  513191.,  942053.],\n",
      "        [1185040.,  513329.,  942057.]],\n",
      "\n",
      "       [[1185040.,  513329.,  942057.],\n",
      "        [1185090.,  513528.,  942069.]],\n",
      "\n",
      "       [[1185090.,  513528.,  942069.],\n",
      "        [1185120.,  513634.,  942078.]],\n",
      "\n",
      "       [[1185120.,  513634.,  942078.],\n",
      "        [1185140.,  513718.,  942085.]],\n",
      "\n",
      "       [[1185140.,  513718.,  942085.],\n",
      "        [1185170.,  513885.,  942103.]],\n",
      "\n",
      "       [[1185170.,  513885.,  942103.],\n",
      "        [1185210.,  514047.,  942122.]],\n",
      "\n",
      "       [[1185210.,  514047.,  942122.],\n",
      "        [1185260.,  514257.,  942154.]],\n",
      "\n",
      "       [[1185260.,  514257.,  942154.],\n",
      "        [1185290.,  514378.,  942174.]],\n",
      "\n",
      "       [[1185290.,  514378.,  942174.],\n",
      "        [1185320.,  514509.,  942197.]],\n",
      "\n",
      "       [[1185320.,  514509.,  942197.],\n",
      "        [1185350.,  514592.,  942211.]],\n",
      "\n",
      "       [[1185350.,  514592.,  942211.],\n",
      "        [1185380.,  514701.,  942230.]],\n",
      "\n",
      "       [[1185380.,  514701.,  942230.],\n",
      "        [1185400.,  514787.,  942244.]],\n",
      "\n",
      "       [[1185400.,  514787.,  942244.],\n",
      "        [1185430.,  514904.,  942260.]],\n",
      "\n",
      "       [[1185430.,  514904.,  942260.],\n",
      "        [1185460.,  515012.,  942274.]],\n",
      "\n",
      "       [[1185460.,  515012.,  942274.],\n",
      "        [1185480.,  515138.,  942284.]],\n",
      "\n",
      "       [[1185480.,  515138.,  942284.],\n",
      "        [1185490.,  515254.,  942288.]],\n",
      "\n",
      "       [[1185490.,  515254.,  942288.],\n",
      "        [1185490.,  515292.,  942289.]],\n",
      "\n",
      "       [[1185490.,  515292.,  942289.],\n",
      "        [1185490.,  515424.,  942286.]],\n",
      "\n",
      "       [[1185490.,  515424.,  942286.],\n",
      "        [1185470.,  515605.,  942281.]],\n",
      "\n",
      "       [[1185470.,  515605.,  942281.],\n",
      "        [1185470.,  515636.,  942280.]],\n",
      "\n",
      "       [[1185470.,  515636.,  942280.],\n",
      "        [1185450.,  515748.,  942275.]],\n",
      "\n",
      "       [[1185450.,  515748.,  942275.],\n",
      "        [1185420.,  515901.,  942270.]],\n",
      "\n",
      "       [[1185420.,  515901.,  942270.],\n",
      "        [1185400.,  516021.,  942264.]],\n",
      "\n",
      "       [[1185400.,  516021.,  942264.],\n",
      "        [1185380.,  516102.,  942259.]],\n",
      "\n",
      "       [[1185380.,  516102.,  942259.],\n",
      "        [1185340.,  516234.,  942255.]],\n",
      "\n",
      "       [[1185340.,  516234.,  942255.],\n",
      "        [1185290.,  516446.,  942258.]],\n",
      "\n",
      "       [[1185290.,  516446.,  942258.],\n",
      "        [1185270.,  516674.,  942284.]],\n",
      "\n",
      "       [[1185270.,  516674.,  942284.],\n",
      "        [1185280.,  516725.,  942292.]],\n",
      "\n",
      "       [[1185280.,  516725.,  942292.],\n",
      "        [1185300.,  516864.,  942332.]],\n",
      "\n",
      "       [[1185300.,  516864.,  942332.],\n",
      "        [1185310.,  516994.,  942373.]],\n",
      "\n",
      "       [[1185310.,  516994.,  942373.],\n",
      "        [1185330.,  517131.,  942417.]],\n",
      "\n",
      "       [[1185330.,  517131.,  942417.],\n",
      "        [1185340.,  517246.,  942457.]],\n",
      "\n",
      "       [[1185340.,  517246.,  942457.],\n",
      "        [1185390.,  517506.,  942535.]],\n",
      "\n",
      "       [[1185390.,  517506.,  942535.],\n",
      "        [1185430.,  517628.,  942580.]],\n",
      "\n",
      "       [[1185430.,  517628.,  942580.],\n",
      "        [1185480.,  517752.,  942628.]],\n",
      "\n",
      "       [[1185480.,  517752.,  942628.],\n",
      "        [1185550.,  517938.,  942672.]],\n",
      "\n",
      "       [[1185550.,  517938.,  942672.],\n",
      "        [1185610.,  518104.,  942710.]],\n",
      "\n",
      "       [[1185610.,  518104.,  942710.],\n",
      "        [1185640.,  518209.,  942734.]],\n",
      "\n",
      "       [[1185640.,  518209.,  942734.],\n",
      "        [1185680.,  518431.,  942780.]],\n",
      "\n",
      "       [[1185680.,  518431.,  942780.],\n",
      "        [1185690.,  518524.,  942798.]],\n",
      "\n",
      "       [[1185690.,  518524.,  942798.],\n",
      "        [1185700.,  518610.,  942811.]],\n",
      "\n",
      "       [[1185700.,  518610.,  942811.],\n",
      "        [1185710.,  518667.,  942818.]],\n",
      "\n",
      "       [[1185710.,  518667.,  942818.],\n",
      "        [1185710.,  518761.,  942827.]],\n",
      "\n",
      "       [[1185710.,  518761.,  942827.],\n",
      "        [1185710.,  518846.,  942831.]],\n",
      "\n",
      "       [[1185710.,  518846.,  942831.],\n",
      "        [1185710.,  518983.,  942832.]],\n",
      "\n",
      "       [[1185710.,  518983.,  942832.],\n",
      "        [1185710.,  519128.,  942825.]],\n",
      "\n",
      "       [[1185710.,  519128.,  942825.],\n",
      "        [1185710.,  519173.,  942821.]],\n",
      "\n",
      "       [[1185710.,  519173.,  942821.],\n",
      "        [1185710.,  519353.,  942807.]],\n",
      "\n",
      "       [[1185710.,  519353.,  942807.],\n",
      "        [1185720.,  519531.,  942787.]],\n",
      "\n",
      "       [[1185720.,  519531.,  942787.],\n",
      "        [1185730.,  519712.,  942765.]],\n",
      "\n",
      "       [[1185730.,  519712.,  942765.],\n",
      "        [1185760.,  519985.,  942766.]],\n",
      "\n",
      "       [[1185760.,  519985.,  942766.],\n",
      "        [1185770.,  520083.,  942765.]],\n",
      "\n",
      "       [[1185770.,  520083.,  942765.],\n",
      "        [1185780.,  520129.,  942763.]],\n",
      "\n",
      "       [[1185780.,  520129.,  942763.],\n",
      "        [1185790.,  520381.,  942750.]],\n",
      "\n",
      "       [[1185790.,  520381.,  942750.],\n",
      "        [1185790.,  520447.,  942746.]],\n",
      "\n",
      "       [[1185790.,  520447.,  942746.],\n",
      "        [1185800.,  520638.,  942734.]],\n",
      "\n",
      "       [[1185800.,  520638.,  942734.],\n",
      "        [1185800.,  520678.,  942735.]],\n",
      "\n",
      "       [[1185800.,  520678.,  942735.],\n",
      "        [1185780.,  520763.,  942739.]],\n",
      "\n",
      "       [[1185780.,  520763.,  942739.],\n",
      "        [1185750.,  520907.,  942755.]],\n",
      "\n",
      "       [[1185750.,  520907.,  942755.],\n",
      "        [1185690.,  521108.,  942778.]]])])\n",
      "base_final_widths = [504.73618723 444.43699584]\n",
      "overall_ais_width = 273.2096095006989\n",
      "ais_width = 474.5865915361071\n",
      "Adding the following branches as true axons: [0.]\n",
      "curr_soma_angle = 156.15\n",
      "max_axon_angle = 171.97118377578872\n",
      "Changing to a better axon candidate\n",
      "\n",
      "\n",
      " --- Working on limb 7, candidate # 0\n"
     ]
    },
    {
     "name": "stdout",
     "output_type": "stream",
     "text": [
      "0 out of 6 branches are axons\n",
      "Axon percentage = 0.0\n",
      "Not adding candidate no axon branches detected \n",
      "Using the best axon approach\n",
      "Using True\n",
      "Limb L6: Axon branches before dendritic path filter = [0.]\n",
      "Limb L6: Axon branches AFTER dendritic path filter = [0.]\n",
      "\n",
      "\n",
      "Part 4: final_true_axons = {'L6': array([0.])}\n",
      "\n",
      "--- Working on filter 0:\n",
      "function = dendrite_on_axon_merges\n",
      "function __name__ = filter_away_dendrite_on_axon_merges\n",
      "function arguments = {'use_pre_existing_axon_labels': True}\n",
      "\n",
      "\n",
      "\n",
      "\n",
      "\n",
      " ---- Total time for applying filter: 0.6763248443603516 -----\n",
      "Starting axon branch was the starting node so using border vertices and NOT computing upstream branch\n",
      "upstream_node_to_axon_starting_branch = None\n"
     ]
    },
    {
     "name": "stderr",
     "output_type": "stream",
     "text": [
      "\r",
      "  0%|          | 0/1 [00:00<?, ?it/s]"
     ]
    },
    {
     "name": "stdout",
     "output_type": "stream",
     "text": [
      "root_curr = [1184340.   500826.9  940580.1]\n",
      "Time for preparing soma vertices and root: 0.0007457733154296875\n",
      "invalidation_d = 2000\n",
      "cc_vertex_thresh = 10\n"
     ]
    },
    {
     "data": {
      "application/vnd.jupyter.widget-view+json": {
       "model_id": "0cd710bc7ed44e15b1ba4cafd6030844",
       "version_major": 2,
       "version_minor": 0
      },
      "text/plain": [
       "  0%|          | 0/2765 [00:00<?, ?it/s]"
      ]
     },
     "metadata": {},
     "output_type": "display_data"
    },
    {
     "name": "stderr",
     "output_type": "stream",
     "text": [
      "100%|██████████| 1/1 [00:00<00:00, 12.41it/s]\n"
     ]
    },
    {
     "name": "stdout",
     "output_type": "stream",
     "text": [
      "meshparty_segment_size = 100\n",
      "Time for 1st pass MP skeletonization: 0.6328990459442139\n",
      "branches_touching_root = [0]\n",
      "combining close nodes\n",
      "combine_threshold = 1300\n",
      "length of Graph = 369\n",
      "After combining close endpoints max(kept_branches_idx) = 0, len(kept_branches_idx) = 1\n",
      "empty_indices % = 0.0\n",
      " conflict_indices % = 0.0\n"
     ]
    },
    {
     "data": {
      "application/vnd.jupyter.widget-view+json": {
       "model_id": "66c222b9c78a4b3fbe9ee175d5111782",
       "version_major": 2,
       "version_minor": 0
      },
      "text/plain": [
       "0it [00:00, ?it/s]"
      ]
     },
     "metadata": {},
     "output_type": "display_data"
    },
    {
     "name": "stdout",
     "output_type": "stream",
     "text": [
      "AFTER face_lookup_resolved_test\n"
     ]
    },
    {
     "data": {
      "application/vnd.jupyter.widget-view+json": {
       "model_id": "ad0d8e0ea43940b6bfdf09f58ac44ddd",
       "version_major": 2,
       "version_minor": 0
      },
      "text/plain": [
       "  0%|          | 0/1 [00:00<?, ?it/s]"
      ]
     },
     "metadata": {},
     "output_type": "display_data"
    },
    {
     "name": "stdout",
     "output_type": "stream",
     "text": [
      "Decomposing first pass: 0.5779099464416504\n",
      "Only Using MeshParty Skeletonization and Mesh Correspondence\n",
      "Another print\n",
      "Divinding into MP and MAP pieces: 0.00018525123596191406\n",
      "Total time for MAP sublimb processing 3.337860107421875e-06\n",
      "---- Working on MP Decomposition #0 ----\n",
      "Using Quicker soma_to_piece_touching_vertices because no MAP and only one sublimb_mesh piece \n",
      "MP filtering soma verts: 0.00028395652770996094\n",
      "Fixing Possible Soma Extension Branch for Sublimb 0\n",
      "Total time for mesh KDTree = 0.273439884185791\n",
      "sbv[0].reshape(-1,3) = [[1184340.   500826.9  940580.1]]\n",
      "closest_sk_pt_coord BEFORE = [1184131.0232935   500968.60159695  939888.99271591]\n",
      "current_skeleton.shape = (368, 2, 3)\n",
      "node_for_stitch = 0: [1184131.0232935   500968.60159695  939888.99271591]\n",
      "node_for_stitch AFTER = 0: [1184131.0232935   500968.60159695  939888.99271591]\n",
      "possible_node_loc = [  0 236]\n",
      "possible_node_loc AFTER = [  0 236]\n",
      "curr_shortest_path = [0]\n",
      "Current stitch point was a branch or endpoint\n",
      "change_status for create soma extending pieces = False\n",
      "closest_sk_pt_coord AFTER = [1184131.0232935   500968.60159695  939888.99271591]\n",
      "skipping soma 0 because closest skeleton node was already end node\n",
      "endpoints_must_keep = {0: array([[1184131.0232935 ,  500968.60159695,  939888.99271591]])}\n",
      "match_sk_branches = [0]\n",
      "The new branch info was none so skipping \n",
      "\n",
      "No soma extending branch was added for this sublimb even though it had a soma border (means they already existed)\n",
      "MP (because soma touching verts) soma extension add: 1.228546380996704\n",
      "There were not both MAP and MP pieces so skipping the stitch resolving phase\n",
      "Time for decomp of Limb = 2.499798536300659\n",
      "Number of matching vertices = 23\n",
      "Only one endpoint after filtering away the endpoints that are not on the skeleton\n",
      "Using Distance measure skeletal_distance\n",
      "endpoints_must_keep = [[1184131.0232935   500968.60159695  939888.99271591]]\n",
      "Number of end_nodes BEFORE filtering = 2\n",
      "all_single_nodes_to_eliminate = [0]\n",
      "no small end nodes to get rid of so returning whole skeleton\n",
      "Removed 0 skeletal branches\n"
     ]
    },
    {
     "data": {
      "application/vnd.jupyter.widget-view+json": {
       "model_id": "fc69169c98714327bea0274938546046",
       "version_major": 2,
       "version_minor": 0
      },
      "text/plain": [
       "  0%|          | 0/1 [00:00<?, ?it/s]"
      ]
     },
     "metadata": {},
     "output_type": "display_data"
    },
    {
     "name": "stdout",
     "output_type": "stream",
     "text": [
      "5483 5484\n",
      "For marked faces: None\n",
      "empty_indices % = 0.0\n",
      " conflict_indices % = 0.0\n"
     ]
    },
    {
     "data": {
      "application/vnd.jupyter.widget-view+json": {
       "model_id": "c9583e89eb8c4c4a81e150147b1a9bd5",
       "version_major": 2,
       "version_minor": 0
      },
      "text/plain": [
       "0it [00:00, ?it/s]"
      ]
     },
     "metadata": {},
     "output_type": "display_data"
    },
    {
     "name": "stdout",
     "output_type": "stream",
     "text": [
      "AFTER face_lookup_resolved_test\n"
     ]
    },
    {
     "data": {
      "application/vnd.jupyter.widget-view+json": {
       "model_id": "eeaed6b23b454090998b11a1fc9e040c",
       "version_major": 2,
       "version_minor": 0
      },
      "text/plain": [
       "  0%|          | 0/1 [00:00<?, ?it/s]"
      ]
     },
     "metadata": {},
     "output_type": "display_data"
    },
    {
     "name": "stdout",
     "output_type": "stream",
     "text": [
      "Limb Correspondence before stitching = 1\n",
      "Limb Correspondence AFTER stitching = 1\n",
      "Upstream node was None so don't have to adjust\n",
      "concept_network_dict = {0: [<networkx_utils.GraphOrderedEdges object at 0x7f44decdefd0>]}\n",
      "\n",
      "\n",
      "----Working on seperate_graph 0----\n",
      "\n",
      "\n",
      "---------Working on soma_idx = 0, soma_group_idx 0, endpt = [1184131.0232935   500968.60159695  939888.99271591]---------\n",
      "Starting_edge inside branches_to_conept = [[1184131.0232935   500968.60159695  939888.99271591]\n",
      " [1185213.66895953  537004.09056514  943775.06771027]]\n",
      "Done generating concept network \n",
      "\n",
      "\n",
      "Synapsse Results:\n",
      "Total Number of Synapses = 5846\n",
      "n_valid_syn_ids_presyn = 0\n",
      "n_errored_syn_ids_presyn = 235\n",
      "n_valid_syn_ids_postsyn = 5601\n",
      "n_errored_syn_ids_postsyn = 10\n",
      "Synapsse Results:\n",
      "Total Number of Synapses = 5846\n",
      "n_valid_syn_ids_presyn = 0\n",
      "n_errored_syn_ids_presyn = 235\n",
      "n_valid_syn_ids_postsyn = 5601\n",
      "n_errored_syn_ids_postsyn = 10\n"
     ]
    },
    {
     "data": {
      "application/vnd.jupyter.widget-view+json": {
       "model_id": "a4dbd8ab19ec4df3b5a536eda07ad995",
       "version_major": 2,
       "version_minor": 0
      },
      "text/plain": [
       "0it [00:00, ?it/s]"
      ]
     },
     "metadata": {},
     "output_type": "display_data"
    },
    {
     "data": {
      "application/vnd.jupyter.widget-view+json": {
       "model_id": "f8024ddd9d114690b98edd7b5ffd15d4",
       "version_major": 2,
       "version_minor": 0
      },
      "text/plain": [
       "0it [00:00, ?it/s]"
      ]
     },
     "metadata": {},
     "output_type": "display_data"
    },
    {
     "name": "stdout",
     "output_type": "stream",
     "text": [
      "Synapsse Results:\n",
      "Total Number of Synapses = 5846\n",
      "n_valid_syn_ids_presyn = 0\n",
      "n_errored_syn_ids_presyn = 235\n",
      "n_valid_syn_ids_postsyn = 5601\n",
      "n_errored_syn_ids_postsyn = 10\n",
      "Synapsse Results:\n",
      "Total Number of Synapses = 5846\n",
      "n_valid_syn_ids_presyn = 0\n",
      "n_errored_syn_ids_presyn = 235\n",
      "n_valid_syn_ids_postsyn = 5601\n",
      "n_errored_syn_ids_postsyn = 10\n"
     ]
    },
    {
     "data": {
      "application/vnd.jupyter.widget-view+json": {
       "model_id": "14eeb0d99c8c4b5095780bd380da8919",
       "version_major": 2,
       "version_minor": 0
      },
      "text/plain": [
       "0it [00:00, ?it/s]"
      ]
     },
     "metadata": {},
     "output_type": "display_data"
    },
    {
     "data": {
      "application/vnd.jupyter.widget-view+json": {
       "model_id": "549e066dc6964f5f8243126dfb37e993",
       "version_major": 2,
       "version_minor": 0
      },
      "text/plain": [
       "0it [00:00, ?it/s]"
      ]
     },
     "metadata": {},
     "output_type": "display_data"
    },
    {
     "name": "stdout",
     "output_type": "stream",
     "text": [
      "\n",
      "\n",
      "len(branch_attr_keys) = 0\n",
      "Saving Neuorn in suppress_output mode...please wait\n",
      "Saved File at location: /mnt/dj-stor01/platinum/minnie65/02/decomposition/864691136333787571_0_25_soma_0_split_full_axon\n",
      "Save time = 290.79481959342957\n",
      "\n",
      "\n",
      " ***------ Total time for 864691136333787571 = 548.8658545017242 ------ ***\n",
      "\n",
      "\n",
      "\n",
      "---- Working on Neuron 864691135645592260 ----\n",
      "Decompressing Neuron in minimal output mode...please wait\n",
      "Pulled from Table Decomposition so setting split_index = 0\n",
      "Dont need spine recalculation\n",
      "Number of Neurons found = 1\n",
      "\n",
      "Part 1: Axon like branchese \n",
      "{'L0': array([5]), 'L1': array([ 3, 12, 13, 14]), 'L2': array([ 0,  1,  2,  3,  4,  5,  6,  7,  8,  9, 10, 11, 12, 13, 14, 15, 16,\n",
      "       17, 18, 19, 20, 21, 22, 23, 24, 25, 26, 27, 28, 29, 30, 31, 32, 33,\n",
      "       34, 35, 36, 37, 38, 39, 40, 41, 42, 43, 44, 45, 46, 47, 48, 49, 50,\n",
      "       51, 52, 53])}\n",
      "Limb L0 soma angle: 111.21 \n",
      "Limb L1 soma angle: 8.92 \n",
      "Limb L2 soma angle: 160.38 \n",
      "Limb L3 soma angle: 102.38 \n",
      "Limb L4 soma angle: 132.19 \n",
      "Limb L5 soma angle: 73.55 \n",
      "Limb L6 soma angle: 88.93 \n",
      "\n",
      "Part 2: possible_axon_limbs = [0, 2, 3, 4, 5, 6]\n",
      "\n",
      "Phase 2: Working on Limb L0\n",
      "nodes_to_eliminate = [0 2]\n",
      "\n",
      "Phase 2: Working on Limb L2\n",
      "nodes_to_eliminate = []\n",
      "\n",
      "Phase 2: Working on Limb L3\n",
      "nodes_to_eliminate = [4]\n",
      "\n",
      "Phase 2: Working on Limb L4\n",
      "nodes_to_eliminate = [5]\n",
      "\n",
      "Phase 2: Working on Limb L5\n",
      "nodes_to_eliminate = [4]\n",
      "\n",
      "Phase 2: Working on Limb L6\n",
      "nodes_to_eliminate = []\n",
      "\n",
      "----Working on Limb L0-----\n",
      "No endpoints were eliminated so don't need to add back any candidates\n",
      "\n",
      "----Working on Limb L2-----\n",
      "No nodes were eliminated so don't need to add back any candidates\n",
      "\n",
      "----Working on Limb L3-----\n",
      "No endpoints were eliminated so don't need to add back any candidates\n",
      "\n",
      "----Working on Limb L4-----\n",
      "No endpoints were eliminated so don't need to add back any candidates\n",
      "\n",
      "----Working on Limb L5-----\n",
      "No endpoints were eliminated so don't need to add back any candidates\n",
      "\n",
      "----Working on Limb L6-----\n",
      "No nodes were eliminated so don't need to add back any candidates\n",
      "Final Candidates\n",
      "\n",
      "Limb 0\n",
      "Candidate 0 (gray): array([1, 3, 4, 5, 6])\n",
      "Candidate 1 (cadetblue): array([7])\n",
      "Candidate 2 (gold): array([ 8,  9, 10, 11, 12])\n",
      "\n",
      "Limb 2\n",
      "Candidate 0 (sandybrown): array([ 0,  1,  2,  3,  4,  5,  6,  7,  8,  9, 10, 11, 12, 13, 14, 15, 16,\n",
      "       17, 18, 19, 20, 21, 22, 23, 24, 25, 26, 27, 28, 29, 30, 31, 32, 33,\n",
      "       34, 35, 36, 37, 38, 39, 40, 41, 42, 43, 44, 45, 46, 47, 48, 49, 50,\n",
      "       51, 52, 53])\n",
      "\n",
      "Limb 3\n",
      "Candidate 0 (brown): array([6])\n",
      "Candidate 1 (red): array([7])\n",
      "Candidate 2 (pink): array([1])\n",
      "Candidate 3 (gray): array([0, 2, 3, 5, 8, 9])\n",
      "\n",
      "Limb 4\n",
      "Candidate 0 (cyan): array([1, 3, 4, 6, 7])\n",
      "Candidate 1 (olive): array([8, 0, 2])\n",
      "\n",
      "Limb 5\n",
      "Candidate 0 (sandybrown): array([2])\n",
      "Candidate 1 (gray): array([0, 1, 3])\n",
      "\n",
      "Limb 6\n",
      "Candidate 0 (palegreen): array([0])\n",
      "Part 3: axon_subgraph_candidates = {0: [[1, 3, 4, 5, 6], [7], [8, 9, 10, 11, 12]], 2: [[0, 1, 2, 3, 4, 5, 6, 7, 8, 9, 10, 11, 12, 13, 14, 15, 16, 17, 18, 19, 20, 21, 22, 23, 24, 25, 26, 27, 28, 29, 30, 31, 32, 33, 34, 35, 36, 37, 38, 39, 40, 41, 42, 43, 44, 45, 46, 47, 48, 49, 50, 51, 52, 53]], 3: [[6], [7], [1], [0, 2, 3, 5, 8, 9]], 4: [[1, 3, 4, 6, 7], [8, 0, 2]], 5: [[2], [0, 1, 3]], 6: [[0]]}\n",
      "\n",
      "\n",
      " --- Working on limb 0, candidate # 0\n",
      "1 out of 5 branches are axons\n",
      "Axon percentage = 0.2\n",
      "curr_axon_angle_threshold = 120\n",
      "candidate_nodes = [0 1 3 4 5 6]\n",
      "non_axon_branches_on_subgraph = [0 1 3 4 6]\n",
      "endnodes_to_test = []\n",
      "candidate_angles,restr_skels = (None, None)\n",
      "Not adding candidate because no angles (None) passed the threhold 120 \n",
      "\n",
      "\n",
      " --- Working on limb 0, candidate # 1\n",
      "0 out of 1 branches are axons\n",
      "Axon percentage = 0.0\n",
      "Not adding candidate no axon branches detected \n",
      "\n",
      "\n",
      " --- Working on limb 0, candidate # 2\n",
      "0 out of 5 branches are axons\n",
      "Axon percentage = 0.0\n",
      "Not adding candidate no axon branches detected \n",
      "\n",
      "\n",
      " --- Working on limb 2, candidate # 0\n",
      "54 out of 54 branches are axons\n",
      "Axon percentage = 1.0\n",
      "curr_axon_angle_threshold = 95\n",
      "candidate_nodes = [ 0  1  2  3  4  5  6  7  8  9 10 11 12 13 14 15 16 17 18 19 20 21 22 23\n",
      " 24 25 26 27 28 29 30 31 32 33 34 35 36 37 38 39 40 41 42 43 44 45 46 47\n",
      " 48 49 50 51 52 53]\n",
      "non_axon_branches_on_subgraph = []\n",
      "endnodes_to_test = [13169]\n",
      "Skeleton paths distances = [24942.71685384]\n",
      "Filtered indexes = [0]\n",
      "len(filtered_skeletons) = 1\n",
      "sk_angles = [129.81209456]\n",
      "candidate_angles,restr_skels = (array([129.81209456]), [array([[[1195899.15047365,  654426.56303202,  979478.64506524],\n",
      "        [1195916.20810208,  654499.31893924,  979545.0870105 ]],\n",
      "\n",
      "       [[1195916.20810208,  654499.31893924,  979545.0870105 ],\n",
      "        [1195933.63595295,  654572.9609897 ,  979610.45610426]],\n",
      "\n",
      "       [[1195933.63595295,  654572.9609897 ,  979610.45610426],\n",
      "        [1195952.30555402,  654647.57798755,  979674.33273319]],\n",
      "\n",
      "       [[1195952.30555402,  654647.57798755,  979674.33273319],\n",
      "        [1195971.90277538,  654722.92329694,  979737.09445137]],\n",
      "\n",
      "       [[1195971.90277538,  654722.92329694,  979737.09445137],\n",
      "        [1195994.31888002,  654799.4094827 ,  979797.45225669]],\n",
      "\n",
      "       [[1195994.31888002,  654799.4094827 ,  979797.45225669],\n",
      "        [1196017.5448245 ,  654876.22343199,  979857.11943943]],\n",
      "\n",
      "       [[1196017.5448245 ,  654876.22343199,  979857.11943943],\n",
      "        [1196045.12097573,  654953.84005307,  979913.80872293]],\n",
      "\n",
      "       [[1196045.12097573,  654953.84005307,  979913.80872293],\n",
      "        [1196073.32158076,  655031.50557694,  979970.11584675]],\n",
      "\n",
      "       [[1196073.32158076,  655031.50557694,  979970.11584675],\n",
      "        [1196105.99569863,  655109.2332616 ,  980023.88209135]],\n",
      "\n",
      "       [[1196105.99569863,  655109.2332616 ,  980023.88209135],\n",
      "        [1196139.41354573,  655186.85055552,  980077.31758046]],\n",
      "\n",
      "       [[1196139.41354573,  655186.85055552,  980077.31758046],\n",
      "        [1196176.63611713,  655263.90311929,  980129.06101092]],\n",
      "\n",
      "       [[1196176.63611713,  655263.90311929,  980129.06101092],\n",
      "        [1196214.62074781,  655340.70512071,  980180.59529975]],\n",
      "\n",
      "       [[1196214.62074781,  655340.70512071,  980180.59529975],\n",
      "        [1196255.75170342,  655416.47262186,  980231.26610259]],\n",
      "\n",
      "       [[1196255.75170342,  655416.47262186,  980231.26610259],\n",
      "        [1196297.43703441,  655491.93618225,  980281.91882456]],\n",
      "\n",
      "       [[1196297.43703441,  655491.93618225,  980281.91882456],\n",
      "        [1196341.73597843,  655565.96680824,  980332.48630397]],\n",
      "\n",
      "       [[1196341.73597843,  655565.96680824,  980332.48630397],\n",
      "        [1196386.29492823,  655639.78011355,  980383.13311152]],\n",
      "\n",
      "       [[1196386.29492823,  655639.78011355,  980383.13311152],\n",
      "        [1196432.99369319,  655711.8048967 ,  980434.43277978]],\n",
      "\n",
      "       [[1196432.99369319,  655711.8048967 ,  980434.43277978],\n",
      "        [1196479.69457418,  655783.82693324,  980485.73426681]],\n",
      "\n",
      "       [[1196479.69457418,  655783.82693324,  980485.73426681],\n",
      "        [1196527.96835945,  655853.80735604,  980538.38768152]],\n",
      "\n",
      "       [[1196527.96835945,  655853.80735604,  980538.38768152],\n",
      "        [1196576.24214472,  655923.78777885,  980591.04109623]],\n",
      "\n",
      "       [[1196576.24214472,  655923.78777885,  980591.04109623],\n",
      "        [1196625.10507247,  655992.2006202 ,  980645.18239887]],\n",
      "\n",
      "       [[1196625.10507247,  655992.2006202 ,  980645.18239887],\n",
      "        [1196674.0638905 ,  656060.35831817,  980699.56587381]],\n",
      "\n",
      "       [[1196674.0638905 ,  656060.35831817,  980699.56587381],\n",
      "        [1196722.88578638,  656127.57026717,  980755.22413165]],\n",
      "\n",
      "       [[1196722.88578638,  656127.57026717,  980755.22413165],\n",
      "        [1196771.64647132,  656194.35941976,  980811.4522803 ]],\n",
      "\n",
      "       [[1196771.64647132,  656194.35941976,  980811.4522803 ],\n",
      "        [1196819.91915663,  656260.76803479,  980868.53600265]],\n",
      "\n",
      "       [[1196819.91915663,  656260.76803479,  980868.53600265],\n",
      "        [1196867.71373949,  656326.80382997,  980926.45794671]],\n",
      "\n",
      "       [[1196867.71373949,  656326.80382997,  980926.45794671],\n",
      "        [1196915.01062245,  656392.82190184,  980984.79933744]],\n",
      "\n",
      "       [[1196915.01062245,  656392.82190184,  980984.79933744],\n",
      "        [1196961.24957366,  656458.80230029,  981044.03232159]],\n",
      "\n",
      "       [[1196961.24957366,  656458.80230029,  981044.03232159],\n",
      "        [1197007.17279861,  656524.88497212,  981103.39118919]],\n",
      "\n",
      "       [[1197007.17279861,  656524.88497212,  981103.39118919],\n",
      "        [1197051.4352378 ,  656591.50562318,  981163.41222991]],\n",
      "\n",
      "       [[1197051.4352378 ,  656591.50562318,  981163.41222991],\n",
      "        [1197095.5864846 ,  656658.18522924,  981223.44711282]],\n",
      "\n",
      "       [[1197095.5864846 ,  656658.18522924,  981223.44711282],\n",
      "        [1197137.58494576,  656726.00625747,  981283.74999327]],\n",
      "\n",
      "       [[1197137.58494576,  656726.00625747,  981283.74999327],\n",
      "        [1197179.57620368,  656793.83155804,  981344.05289096]],\n",
      "\n",
      "       [[1197179.57620368,  656793.83155804,  981344.05289096],\n",
      "        [1197219.16526636,  656863.08163088,  981404.36154315]],\n",
      "\n",
      "       [[1197219.16526636,  656863.08163088,  981404.36154315],\n",
      "        [1197258.71127448,  656932.35284656,  981464.67313452]],\n",
      "\n",
      "       [[1197258.71127448,  656932.35284656,  981464.67313452],\n",
      "        [1197295.94799207,  657002.75808821,  981525.14237308]],\n",
      "\n",
      "       [[1197295.94799207,  657002.75808821,  981525.14237308],\n",
      "        [1197333.03368309,  657073.19172435,  981585.66850416]],\n",
      "\n",
      "       [[1197333.03368309,  657073.19172435,  981585.66850416],\n",
      "        [1197368.19651741,  657143.98687657,  981646.91898583]],\n",
      "\n",
      "       [[1197368.19651741,  657143.98687657,  981646.91898583],\n",
      "        [1197403.13582549,  657214.69954335,  981708.38671752]],\n",
      "\n",
      "       [[1197403.13582549,  657214.69954335,  981708.38671752],\n",
      "        [1197436.60997242,  657284.87153771,  981771.27847131]],\n",
      "\n",
      "       [[1197436.60997242,  657284.87153771,  981771.27847131],\n",
      "        [1197469.86053234,  657354.79057991,  981834.55850016]],\n",
      "\n",
      "       [[1197469.86053234,  657354.79057991,  981834.55850016],\n",
      "        [1197501.9576131 ,  657423.40464888,  981899.84162926]],\n",
      "\n",
      "       [[1197501.9576131 ,  657423.40464888,  981899.84162926],\n",
      "        [1197533.88687741,  657491.71506059,  981965.51145539]],\n",
      "\n",
      "       [[1197533.88687741,  657491.71506059,  981965.51145539],\n",
      "        [1197564.76930017,  657558.13125371,  982033.59350336]],\n",
      "\n",
      "       [[1197564.76930017,  657558.13125371,  982033.59350336],\n",
      "        [1197595.59609159,  657624.42162857,  982101.81782429]],\n",
      "\n",
      "       [[1197595.59609159,  657624.42162857,  982101.81782429],\n",
      "        [1197625.37583346,  657688.34395053,  982172.71989569]],\n",
      "\n",
      "       [[1197625.37583346,  657688.34395053,  982172.71989569],\n",
      "        [1197655.15557532,  657752.2662725 ,  982243.62196709]],\n",
      "\n",
      "       [[1197655.15557532,  657752.2662725 ,  982243.62196709],\n",
      "        [1197684.17221634,  657813.92999419,  982316.79630409]],\n",
      "\n",
      "       [[1197684.17221634,  657813.92999419,  982316.79630409],\n",
      "        [1197713.10891023,  657875.35709103,  982390.2086976 ]],\n",
      "\n",
      "       [[1197713.10891023,  657875.35709103,  982390.2086976 ],\n",
      "        [1197741.85491984,  657935.1559953 ,  982465.01479101]],\n",
      "\n",
      "       [[1197741.85491984,  657935.1559953 ,  982465.01479101],\n",
      "        [1197770.52653132,  657994.31963761,  982540.36465579]],\n",
      "\n",
      "       [[1197770.52653132,  657994.31963761,  982540.36465579],\n",
      "        [1197799.54169534,  658052.53440656,  982616.31114316]],\n",
      "\n",
      "       [[1197799.54169534,  658052.53440656,  982616.31114316],\n",
      "        [1197828.87982459,  658109.85716316,  982692.81850063]],\n",
      "\n",
      "       [[1197828.87982459,  658109.85716316,  982692.81850063],\n",
      "        [1197858.78359893,  658166.77850837,  982769.39964177]],\n",
      "\n",
      "       [[1197858.78359893,  658166.77850837,  982769.39964177],\n",
      "        [1197889.91225549,  658222.83061303,  982846.14055853]],\n",
      "\n",
      "       [[1197889.91225549,  658222.83061303,  982846.14055853],\n",
      "        [1197921.42179854,  658278.79672508,  982922.78212851]],\n",
      "\n",
      "       [[1197921.42179854,  658278.79672508,  982922.78212851],\n",
      "        [1197955.30749877,  658334.22637299,  982998.80392441]],\n",
      "\n",
      "       [[1197955.30749877,  658334.22637299,  982998.80392441],\n",
      "        [1197989.19319901,  658389.6560209 ,  983074.8257203 ]],\n",
      "\n",
      "       [[1197989.19319901,  658389.6560209 ,  983074.8257203 ],\n",
      "        [1198026.18728187,  658445.10348567,  983149.37037804]],\n",
      "\n",
      "       [[1198026.18728187,  658445.10348567,  983149.37037804],\n",
      "        [1198063.21036069,  658500.55111664,  983223.90125657]],\n",
      "\n",
      "       [[1198063.21036069,  658500.55111664,  983223.90125657],\n",
      "        [1198102.53939973,  658556.51541302,  983296.8398593 ]],\n",
      "\n",
      "       [[1198102.53939973,  658556.51541302,  983296.8398593 ],\n",
      "        [1198142.20481583,  658612.55507688,  983369.54619219]],\n",
      "\n",
      "       [[1198142.20481583,  658612.55507688,  983369.54619219],\n",
      "        [1198182.90008676,  658669.43836434,  983441.01111804]],\n",
      "\n",
      "       [[1198182.90008676,  658669.43836434,  983441.01111804],\n",
      "        [1198223.89091372,  658726.56376168,  983512.11977492]],\n",
      "\n",
      "       [[1198223.89091372,  658726.56376168,  983512.11977492],\n",
      "        [1198264.58744738,  658784.72742922,  983582.54756409]],\n",
      "\n",
      "       [[1198264.58744738,  658784.72742922,  983582.54756409],\n",
      "        [1198305.1562935 ,  658843.34157993,  983652.67993936]],\n",
      "\n",
      "       [[1198305.1562935 ,  658843.34157993,  983652.67993936],\n",
      "        [1198344.41441574,  658903.06560271,  983722.60926037]],\n",
      "\n",
      "       [[1198344.41441574,  658903.06560271,  983722.60926037],\n",
      "        [1198382.91398359,  658963.43194104,  983792.42106791]],\n",
      "\n",
      "       [[1198382.91398359,  658963.43194104,  983792.42106791],\n",
      "        [1198419.55671367,  659024.86198376,  983862.28156236]],\n",
      "\n",
      "       [[1198419.55671367,  659024.86198376,  983862.28156236],\n",
      "        [1198454.91411737,  659087.02833599,  983932.17575849]],\n",
      "\n",
      "       [[1198454.91411737,  659087.02833599,  983932.17575849],\n",
      "        [1198488.34594857,  659150.10120815,  984002.18162574]],\n",
      "\n",
      "       [[1198488.34594857,  659150.10120815,  984002.18162574],\n",
      "        [1198520.37707401,  659213.83350376,  984072.26872512]],\n",
      "\n",
      "       [[1198520.37707401,  659213.83350376,  984072.26872512],\n",
      "        [1198550.88885207,  659278.17892631,  984142.46084452]],\n",
      "\n",
      "       [[1198550.88885207,  659278.17892631,  984142.46084452],\n",
      "        [1198580.40607664,  659342.9256972 ,  984212.72170926]],\n",
      "\n",
      "       [[1198580.40607664,  659342.9256972 ,  984212.72170926],\n",
      "        [1198609.37338572,  659407.77119256,  984283.11909927]],\n",
      "\n",
      "       [[1198609.37338572,  659407.77119256,  984283.11909927],\n",
      "        [1198638.06770157,  659472.66569749,  984353.5842642 ]],\n",
      "\n",
      "       [[1198638.06770157,  659472.66569749,  984353.5842642 ],\n",
      "        [1198667.82972818,  659536.80955584,  984424.28955552]],\n",
      "\n",
      "       [[1198667.82972818,  659536.80955584,  984424.28955552],\n",
      "        [1198697.9245851 ,  659600.71942017,  984495.06969982]],\n",
      "\n",
      "       [[1198697.9245851 ,  659600.71942017,  984495.06969982],\n",
      "        [1198731.15338841,  659662.66601293,  984566.17794951]],\n",
      "\n",
      "       [[1198731.15338841,  659662.66601293,  984566.17794951],\n",
      "        [1198764.85581852,  659724.31590053,  984637.33578509]],\n",
      "\n",
      "       [[1198764.85581852,  659724.31590053,  984637.33578509],\n",
      "        [1198803.52403476,  659782.6531849 ,  984708.7507198 ]],\n",
      "\n",
      "       [[1198803.52403476,  659782.6531849 ,  984708.7507198 ],\n",
      "        [1198842.45254925,  659840.811788  ,  984780.17636934]],\n",
      "\n",
      "       [[1198842.45254925,  659840.811788  ,  984780.17636934],\n",
      "        [1198886.93712033,  659894.80001379,  984851.63540944]],\n",
      "\n",
      "       [[1198886.93712033,  659894.80001379,  984851.63540944],\n",
      "        [1198931.4216914 ,  659948.78823958,  984923.09444954]],\n",
      "\n",
      "       [[1198931.4216914 ,  659948.78823958,  984923.09444954],\n",
      "        [1198980.78762881,  659998.53221226,  984994.42633084]],\n",
      "\n",
      "       [[1198980.78762881,  659998.53221226,  984994.42633084],\n",
      "        [1199030.18903171,  660048.24534838,  985065.75728828]],\n",
      "\n",
      "       [[1199030.18903171,  660048.24534838,  985065.75728828],\n",
      "        [1199082.64824945,  660094.81002362,  985137.01447691]],\n",
      "\n",
      "       [[1199082.64824945,  660094.81002362,  985137.01447691],\n",
      "        [1199135.45255963,  660141.01937648,  985208.2633403 ]],\n",
      "\n",
      "       [[1199135.45255963,  660141.01937648,  985208.2633403 ],\n",
      "        [1199189.37559575,  660185.78001541,  985279.59093171]],\n",
      "\n",
      "       [[1199189.37559575,  660185.78001541,  985279.59093171],\n",
      "        [1199243.6872867 ,  660230.03735889,  985350.94587389]],\n",
      "\n",
      "       [[1199243.6872867 ,  660230.03735889,  985350.94587389],\n",
      "        [1199297.74253787,  660274.43398654,  985422.40840255]],\n",
      "\n",
      "       [[1199297.74253787,  660274.43398654,  985422.40840255],\n",
      "        [1199351.5955976 ,  660318.94043361,  985493.95575839]],\n",
      "\n",
      "       [[1199351.5955976 ,  660318.94043361,  985493.95575839],\n",
      "        [1199404.5326516 ,  660364.58660797,  985565.44574662]],\n",
      "\n",
      "       [[1199404.5326516 ,  660364.58660797,  985565.44574662],\n",
      "        [1199456.06803751,  660411.97678819,  985636.84795119]],\n",
      "\n",
      "       [[1199456.06803751,  660411.97678819,  985636.84795119],\n",
      "        [1199506.47259332,  660460.95593757,  985707.91671501]],\n",
      "\n",
      "       [[1199506.47259332,  660460.95593757,  985707.91671501],\n",
      "        [1199554.08833885,  660513.85374236,  985778.16315995]],\n",
      "\n",
      "       [[1199554.08833885,  660513.85374236,  985778.16315995],\n",
      "        [1199600.42463233,  660568.618755  ,  985847.71332684]],\n",
      "\n",
      "       [[1199600.42463233,  660568.618755  ,  985847.71332684],\n",
      "        [1199642.9931131 ,  660628.88244146,  985915.21304935]],\n",
      "\n",
      "       [[1199642.9931131 ,  660628.88244146,  985915.21304935],\n",
      "        [1199684.05708459,  660691.27449277,  985981.54154519]],\n",
      "\n",
      "       [[1199684.05708459,  660691.27449277,  985981.54154519],\n",
      "        [1199721.15715951,  660759.2740988 ,  986044.78423664]]])])\n"
     ]
    },
    {
     "name": "stdout",
     "output_type": "stream",
     "text": [
      "base_final_widths = [201.65626845 217.20317448 241.31361846]\n",
      "overall_ais_width = 198.9689448049357\n",
      "ais_width = 220.05768712924655\n",
      "Adding the following branches as true axons: [ 0.  1.  2.  3.  4.  5.  6.  7.  8.  9. 10. 11. 12. 13. 14. 15. 16. 17.\n",
      " 18. 19. 20. 21. 22. 23. 24. 25. 26. 27. 28. 29. 30. 31. 32. 33. 34. 35.\n",
      " 36. 37. 38. 39. 40. 41. 42. 43. 44. 45. 46. 47. 48. 49. 50. 51. 52. 53.]\n",
      "curr_soma_angle = 160.38\n",
      "max_axon_angle = 129.8120945558648\n",
      "Changing to a better axon candidate\n",
      "\n",
      "\n",
      " --- Working on limb 3, candidate # 0\n",
      "0 out of 1 branches are axons\n",
      "Axon percentage = 0.0\n",
      "Not adding candidate no axon branches detected \n",
      "\n",
      "\n",
      " --- Working on limb 3, candidate # 1\n",
      "0 out of 1 branches are axons\n",
      "Axon percentage = 0.0\n",
      "Not adding candidate no axon branches detected \n",
      "\n",
      "\n",
      " --- Working on limb 3, candidate # 2\n",
      "0 out of 1 branches are axons\n",
      "Axon percentage = 0.0\n",
      "Not adding candidate no axon branches detected \n",
      "\n",
      "\n",
      " --- Working on limb 3, candidate # 3\n",
      "0 out of 6 branches are axons\n",
      "Axon percentage = 0.0\n",
      "Not adding candidate no axon branches detected \n",
      "\n",
      "\n",
      " --- Working on limb 4, candidate # 0\n",
      "0 out of 5 branches are axons\n",
      "Axon percentage = 0.0\n",
      "Not adding candidate no axon branches detected \n",
      "\n",
      "\n",
      " --- Working on limb 4, candidate # 1\n",
      "0 out of 3 branches are axons\n",
      "Axon percentage = 0.0\n",
      "Not adding candidate no axon branches detected \n",
      "\n",
      "\n",
      " --- Working on limb 5, candidate # 0\n",
      "0 out of 1 branches are axons\n",
      "Axon percentage = 0.0\n",
      "Not adding candidate no axon branches detected \n",
      "\n",
      "\n",
      " --- Working on limb 5, candidate # 1\n",
      "0 out of 3 branches are axons\n",
      "Axon percentage = 0.0\n",
      "Not adding candidate no axon branches detected \n",
      "\n",
      "\n",
      " --- Working on limb 6, candidate # 0\n",
      "0 out of 1 branches are axons\n",
      "Axon percentage = 0.0\n",
      "Not adding candidate no axon branches detected \n",
      "Using the best axon approach\n",
      "Using True\n",
      "Limb L2: Axon branches before dendritic path filter = [ 0.  1.  2.  3.  4.  5.  6.  7.  8.  9. 10. 11. 12. 13. 14. 15. 16. 17.\n",
      " 18. 19. 20. 21. 22. 23. 24. 25. 26. 27. 28. 29. 30. 31. 32. 33. 34. 35.\n",
      " 36. 37. 38. 39. 40. 41. 42. 43. 44. 45. 46. 47. 48. 49. 50. 51. 52. 53.]\n",
      "Limb L2: Axon branches AFTER dendritic path filter = [ 0.  1.  2.  3.  4.  5.  6.  7.  8.  9. 10. 11. 12. 13. 14. 15. 16. 17.\n",
      " 18. 19. 20. 21. 22. 23. 24. 25. 26. 27. 28. 29. 30. 31. 32. 33. 34. 35.\n",
      " 36. 37. 38. 39. 40. 41. 42. 43. 44. 45. 46. 47. 48. 49. 50. 51. 52. 53.]\n",
      "\n",
      "\n",
      "Part 4: final_true_axons = {'L2': array([ 0.,  1.,  2.,  3.,  4.,  5.,  6.,  7.,  8.,  9., 10., 11., 12.,\n",
      "       13., 14., 15., 16., 17., 18., 19., 20., 21., 22., 23., 24., 25.,\n",
      "       26., 27., 28., 29., 30., 31., 32., 33., 34., 35., 36., 37., 38.,\n",
      "       39., 40., 41., 42., 43., 44., 45., 46., 47., 48., 49., 50., 51.,\n",
      "       52., 53.])}\n",
      "\n",
      "--- Working on filter 0:\n",
      "function = dendrite_on_axon_merges\n",
      "function __name__ = filter_away_dendrite_on_axon_merges\n",
      "function arguments = {'use_pre_existing_axon_labels': True}\n",
      "\n",
      "\n",
      "\n",
      "\n",
      "\n",
      " ---- Total time for applying filter: 1.0998892784118652 -----\n",
      "Starting axon branch was the starting node so using border vertices and NOT computing upstream branch\n",
      "upstream_node_to_axon_starting_branch = None\n",
      "root_curr = [1194577.   644352.   979488.9]\n",
      "Time for preparing soma vertices and root: 0.0007829666137695312\n",
      "invalidation_d = 2000\n",
      "cc_vertex_thresh = 10\n"
     ]
    },
    {
     "name": "stderr",
     "output_type": "stream",
     "text": [
      "\r",
      "  0%|          | 0/1 [00:00<?, ?it/s]"
     ]
    },
    {
     "data": {
      "application/vnd.jupyter.widget-view+json": {
       "model_id": "267c6af3521f4828820c40ecb6f122eb",
       "version_major": 2,
       "version_minor": 0
      },
      "text/plain": [
       "  0%|          | 0/85486 [00:00<?, ?it/s]"
      ]
     },
     "metadata": {},
     "output_type": "display_data"
    },
    {
     "name": "stderr",
     "output_type": "stream",
     "text": [
      "100%|██████████| 1/1 [00:05<00:00,  5.79s/it]\n"
     ]
    },
    {
     "name": "stdout",
     "output_type": "stream",
     "text": [
      "meshparty_segment_size = 100\n",
      "Time for 1st pass MP skeletonization: 8.520350933074951\n",
      "branches_touching_root = [11]\n",
      "combining close nodes\n",
      "combine_threshold = 1300\n",
      "length of Graph = 24564\n",
      "After combining close endpoints max(kept_branches_idx) = 122, len(kept_branches_idx) = 111\n",
      "empty_indices % = 0.0\n",
      " conflict_indices % = 0.011187145981056119\n"
     ]
    },
    {
     "data": {
      "application/vnd.jupyter.widget-view+json": {
       "model_id": "69c8b2b15ce644a5a8fc3be84991d8e8",
       "version_major": 2,
       "version_minor": 0
      },
      "text/plain": [
       "  0%|          | 0/50 [00:00<?, ?it/s]"
      ]
     },
     "metadata": {},
     "output_type": "display_data"
    },
    {
     "name": "stdout",
     "output_type": "stream",
     "text": [
      "AFTER face_lookup_resolved_test\n"
     ]
    },
    {
     "data": {
      "application/vnd.jupyter.widget-view+json": {
       "model_id": "ec3fe626f8ea429d83b259e180a5c949",
       "version_major": 2,
       "version_minor": 0
      },
      "text/plain": [
       "  0%|          | 0/111 [00:00<?, ?it/s]"
      ]
     },
     "metadata": {},
     "output_type": "display_data"
    },
    {
     "name": "stdout",
     "output_type": "stream",
     "text": [
      "Decomposing first pass: 51.017661809921265\n",
      "Only Using MeshParty Skeletonization and Mesh Correspondence\n",
      "Another print\n",
      "Divinding into MP and MAP pieces: 0.0001895427703857422\n",
      "Total time for MAP sublimb processing 5.245208740234375e-06\n",
      "---- Working on MP Decomposition #0 ----\n",
      "Using Quicker soma_to_piece_touching_vertices because no MAP and only one sublimb_mesh piece \n",
      "MP filtering soma verts: 0.0002892017364501953\n",
      "Fixing Possible Soma Extension Branch for Sublimb 0\n",
      "Total time for mesh KDTree = 0.178513765335083\n",
      "sbv[0].reshape(-1,3) = [[1194577.   644352.   979488.9]]\n",
      "closest_sk_pt_coord BEFORE = [1195068.8141428   644939.51602419  979626.51215819]\n",
      "current_skeleton.shape = (528, 2, 3)\n",
      "node_for_stitch = 73: [1195068.8141428   644939.51602419  979626.51215819]\n",
      "node_for_stitch AFTER = 73: [1195068.8141428   644939.51602419  979626.51215819]\n",
      "possible_node_loc = [ 0 73]\n",
      "possible_node_loc AFTER = [ 0 73]\n",
      "curr_shortest_path = [73]\n",
      "Current stitch point was a branch or endpoint\n",
      "change_status for create soma extending pieces = False\n",
      "closest_sk_pt_coord AFTER = [1195068.8141428   644939.51602419  979626.51215819]\n",
      "skipping soma 0 because closest skeleton node was already end node\n",
      "endpoints_must_keep = {0: array([[1195068.8141428 ,  644939.51602419,  979626.51215819]])}\n",
      "match_sk_branches = [10]\n",
      "The new branch info was none so skipping \n",
      "\n",
      "No soma extending branch was added for this sublimb even though it had a soma border (means they already existed)\n",
      "MP (because soma touching verts) soma extension add: 8.705340147018433\n",
      "There were not both MAP and MP pieces so skipping the stitch resolving phase\n",
      "Time for decomp of Limb = 70.3732967376709\n",
      "Number of matching vertices = 21\n",
      "Only one endpoint after filtering away the endpoints that are not on the skeleton\n",
      "Using Distance measure skeletal_distance\n",
      "endpoints_must_keep = [[1195068.8141428   644939.51602419  979626.51215819]]\n",
      "Number of end_nodes BEFORE filtering = 63\n",
      "all_single_nodes_to_eliminate = [29]\n"
     ]
    },
    {
     "data": {
      "application/vnd.jupyter.widget-view+json": {
       "model_id": "a4e0056014f445ad805046e89a54d034",
       "version_major": 2,
       "version_minor": 0
      },
      "text/plain": [
       "  0%|          | 0/7 [00:00<?, ?it/s]"
      ]
     },
     "metadata": {},
     "output_type": "display_data"
    },
    {
     "name": "stdout",
     "output_type": "stream",
     "text": [
      "Removed 7 skeletal branches\n"
     ]
    },
    {
     "data": {
      "application/vnd.jupyter.widget-view+json": {
       "model_id": "06ffb1f114fe425fb56b00c834cae142",
       "version_major": 2,
       "version_minor": 0
      },
      "text/plain": [
       "  0%|          | 0/111 [00:00<?, ?it/s]"
      ]
     },
     "metadata": {},
     "output_type": "display_data"
    },
    {
     "name": "stdout",
     "output_type": "stream",
     "text": [
      "170233 170234\n",
      "For marked faces: None\n",
      "empty_indices % = 0.0\n",
      " conflict_indices % = 0.0\n"
     ]
    },
    {
     "data": {
      "application/vnd.jupyter.widget-view+json": {
       "model_id": "5fc1192f3b424b0eb4c2932158252466",
       "version_major": 2,
       "version_minor": 0
      },
      "text/plain": [
       "0it [00:00, ?it/s]"
      ]
     },
     "metadata": {},
     "output_type": "display_data"
    },
    {
     "name": "stdout",
     "output_type": "stream",
     "text": [
      "AFTER face_lookup_resolved_test\n"
     ]
    },
    {
     "data": {
      "application/vnd.jupyter.widget-view+json": {
       "model_id": "d39c1d9fea9b4394a8cd76f290864824",
       "version_major": 2,
       "version_minor": 0
      },
      "text/plain": [
       "  0%|          | 0/97 [00:00<?, ?it/s]"
      ]
     },
     "metadata": {},
     "output_type": "display_data"
    },
    {
     "name": "stdout",
     "output_type": "stream",
     "text": [
      "Limb Correspondence before stitching = 97\n",
      "Limb Correspondence AFTER stitching = 97\n",
      "Upstream node was None so don't have to adjust\n",
      "concept_network_dict = {0: [<networkx_utils.GraphOrderedEdges object at 0x7f44a83c25f8>]}\n",
      "Assigning the old width calculation because no valid new widths\n",
      "\n",
      "\n",
      "----Working on seperate_graph 0----\n",
      "\n",
      "\n",
      "---------Working on soma_idx = 0, soma_group_idx 0, endpt = [1195068.8141428   644939.51602419  979626.51215819]---------\n",
      "Starting_edge inside branches_to_conept = [[1194407.54073011  689663.18636693  992760.47105344]\n",
      " [1195068.8141428   644939.51602419  979626.51215819]]\n",
      "At the start, starting_node (in terms of the skeleton, that shouldn't match the starting edge) = [51]\n",
      "printing out current edge:\n",
      "[[1195068.8141428   644939.51602419  979626.51215819]\n",
      " [1194407.54073011  689663.18636693  992760.47105344]]\n",
      "edge_endpoints_to_process was empty so exiting loop after 97 iterations\n",
      "starting_node in concept map (that should match the starting edge) = 55\n",
      "Total time for branches to concept conversion = 2.9568543434143066\n",
      "\n",
      "Done generating concept network \n",
      "\n",
      "\n"
     ]
    },
    {
     "data": {
      "application/vnd.jupyter.widget-view+json": {
       "model_id": "fcd362e55116486c99d25e878a8db3d5",
       "version_major": 2,
       "version_minor": 0
      },
      "text/plain": [
       "  0%|          | 0/85 [00:00<?, ?it/s]"
      ]
     },
     "metadata": {},
     "output_type": "display_data"
    },
    {
     "data": {
      "application/vnd.jupyter.widget-view+json": {
       "model_id": "53698853819143509dbb412c3c15578d",
       "version_major": 2,
       "version_minor": 0
      },
      "text/plain": [
       "  0%|          | 0/24 [00:00<?, ?it/s]"
      ]
     },
     "metadata": {},
     "output_type": "display_data"
    },
    {
     "data": {
      "application/vnd.jupyter.widget-view+json": {
       "model_id": "87c4b12275e54b6f88fb54f449fd1a38",
       "version_major": 2,
       "version_minor": 0
      },
      "text/plain": [
       "  0%|          | 0/46 [00:00<?, ?it/s]"
      ]
     },
     "metadata": {},
     "output_type": "display_data"
    },
    {
     "data": {
      "application/vnd.jupyter.widget-view+json": {
       "model_id": "20c98f8be6d146a6b5f2df0d926b2515",
       "version_major": 2,
       "version_minor": 0
      },
      "text/plain": [
       "  0%|          | 0/3 [00:00<?, ?it/s]"
      ]
     },
     "metadata": {},
     "output_type": "display_data"
    },
    {
     "data": {
      "application/vnd.jupyter.widget-view+json": {
       "model_id": "f9682ce444d24d38b8fa868c94d5960d",
       "version_major": 2,
       "version_minor": 0
      },
      "text/plain": [
       "  0%|          | 0/9 [00:00<?, ?it/s]"
      ]
     },
     "metadata": {},
     "output_type": "display_data"
    },
    {
     "data": {
      "application/vnd.jupyter.widget-view+json": {
       "model_id": "322b5aff28e440408ede594a72e6c4e1",
       "version_major": 2,
       "version_minor": 0
      },
      "text/plain": [
       "  0%|          | 0/6 [00:00<?, ?it/s]"
      ]
     },
     "metadata": {},
     "output_type": "display_data"
    },
    {
     "data": {
      "application/vnd.jupyter.widget-view+json": {
       "model_id": "b94bfd1b812941f1ac8a87552d8b1d9f",
       "version_major": 2,
       "version_minor": 0
      },
      "text/plain": [
       "  0%|          | 0/8 [00:00<?, ?it/s]"
      ]
     },
     "metadata": {},
     "output_type": "display_data"
    },
    {
     "data": {
      "application/vnd.jupyter.widget-view+json": {
       "model_id": "ddae36233c2d4ef2b9b3519451da97bf",
       "version_major": 2,
       "version_minor": 0
      },
      "text/plain": [
       "  0%|          | 0/5 [00:00<?, ?it/s]"
      ]
     },
     "metadata": {},
     "output_type": "display_data"
    },
    {
     "data": {
      "application/vnd.jupyter.widget-view+json": {
       "model_id": "e3900325249845cc9c2df00bfdd77804",
       "version_major": 2,
       "version_minor": 0
      },
      "text/plain": [
       "  0%|          | 0/14 [00:00<?, ?it/s]"
      ]
     },
     "metadata": {},
     "output_type": "display_data"
    },
    {
     "data": {
      "application/vnd.jupyter.widget-view+json": {
       "model_id": "0341b90812d5441fb2412d484ded0eae",
       "version_major": 2,
       "version_minor": 0
      },
      "text/plain": [
       "  0%|          | 0/3 [00:00<?, ?it/s]"
      ]
     },
     "metadata": {},
     "output_type": "display_data"
    },
    {
     "data": {
      "application/vnd.jupyter.widget-view+json": {
       "model_id": "cf704be1b23b460cb95ef5f994cca743",
       "version_major": 2,
       "version_minor": 0
      },
      "text/plain": [
       "  0%|          | 0/12 [00:00<?, ?it/s]"
      ]
     },
     "metadata": {},
     "output_type": "display_data"
    },
    {
     "data": {
      "application/vnd.jupyter.widget-view+json": {
       "model_id": "6300037635aa496c84e98a95eb64478c",
       "version_major": 2,
       "version_minor": 0
      },
      "text/plain": [
       "  0%|          | 0/6 [00:00<?, ?it/s]"
      ]
     },
     "metadata": {},
     "output_type": "display_data"
    },
    {
     "data": {
      "application/vnd.jupyter.widget-view+json": {
       "model_id": "ee01783d25a2445f85bc150d7d94c78d",
       "version_major": 2,
       "version_minor": 0
      },
      "text/plain": [
       "  0%|          | 0/20 [00:00<?, ?it/s]"
      ]
     },
     "metadata": {},
     "output_type": "display_data"
    },
    {
     "data": {
      "application/vnd.jupyter.widget-view+json": {
       "model_id": "5fa206021d8142a1a0319a3fb1a78f44",
       "version_major": 2,
       "version_minor": 0
      },
      "text/plain": [
       "  0%|          | 0/9 [00:00<?, ?it/s]"
      ]
     },
     "metadata": {},
     "output_type": "display_data"
    },
    {
     "data": {
      "application/vnd.jupyter.widget-view+json": {
       "model_id": "0d890b6149424b838d69648e1c9543fb",
       "version_major": 2,
       "version_minor": 0
      },
      "text/plain": [
       "  0%|          | 0/22 [00:00<?, ?it/s]"
      ]
     },
     "metadata": {},
     "output_type": "display_data"
    },
    {
     "data": {
      "application/vnd.jupyter.widget-view+json": {
       "model_id": "9c1fb47d8efc48a2850b0fd893aa0f67",
       "version_major": 2,
       "version_minor": 0
      },
      "text/plain": [
       "  0%|          | 0/37 [00:00<?, ?it/s]"
      ]
     },
     "metadata": {},
     "output_type": "display_data"
    },
    {
     "data": {
      "application/vnd.jupyter.widget-view+json": {
       "model_id": "6215770bf18a4ba79d37667eb77c8d00",
       "version_major": 2,
       "version_minor": 0
      },
      "text/plain": [
       "  0%|          | 0/121 [00:00<?, ?it/s]"
      ]
     },
     "metadata": {},
     "output_type": "display_data"
    },
    {
     "data": {
      "application/vnd.jupyter.widget-view+json": {
       "model_id": "59b490cebd254dc99bfde554aa55fba0",
       "version_major": 2,
       "version_minor": 0
      },
      "text/plain": [
       "  0%|          | 0/34 [00:00<?, ?it/s]"
      ]
     },
     "metadata": {},
     "output_type": "display_data"
    },
    {
     "data": {
      "application/vnd.jupyter.widget-view+json": {
       "model_id": "358aea9c4284413d9c416eba25811738",
       "version_major": 2,
       "version_minor": 0
      },
      "text/plain": [
       "  0%|          | 0/103 [00:00<?, ?it/s]"
      ]
     },
     "metadata": {},
     "output_type": "display_data"
    },
    {
     "data": {
      "application/vnd.jupyter.widget-view+json": {
       "model_id": "bdaba76b74034b01b1ddc95a42b31e3f",
       "version_major": 2,
       "version_minor": 0
      },
      "text/plain": [
       "  0%|          | 0/6 [00:00<?, ?it/s]"
      ]
     },
     "metadata": {},
     "output_type": "display_data"
    },
    {
     "data": {
      "application/vnd.jupyter.widget-view+json": {
       "model_id": "d9e4731a6edf4c0fa67e53ad16d2d9bc",
       "version_major": 2,
       "version_minor": 0
      },
      "text/plain": [
       "  0%|          | 0/18 [00:00<?, ?it/s]"
      ]
     },
     "metadata": {},
     "output_type": "display_data"
    },
    {
     "data": {
      "application/vnd.jupyter.widget-view+json": {
       "model_id": "515358b98631460194ea90aeff6d3ef7",
       "version_major": 2,
       "version_minor": 0
      },
      "text/plain": [
       "  0%|          | 0/35 [00:00<?, ?it/s]"
      ]
     },
     "metadata": {},
     "output_type": "display_data"
    },
    {
     "data": {
      "application/vnd.jupyter.widget-view+json": {
       "model_id": "276b82abe22b462da5e506b0623808b5",
       "version_major": 2,
       "version_minor": 0
      },
      "text/plain": [
       "  0%|          | 0/47 [00:00<?, ?it/s]"
      ]
     },
     "metadata": {},
     "output_type": "display_data"
    },
    {
     "data": {
      "application/vnd.jupyter.widget-view+json": {
       "model_id": "3d71230732fa4bd69d9dd9b9e2c2b8d5",
       "version_major": 2,
       "version_minor": 0
      },
      "text/plain": [
       "  0%|          | 0/10 [00:00<?, ?it/s]"
      ]
     },
     "metadata": {},
     "output_type": "display_data"
    },
    {
     "data": {
      "application/vnd.jupyter.widget-view+json": {
       "model_id": "ee4944edd0f044b69d1908af467e3d8c",
       "version_major": 2,
       "version_minor": 0
      },
      "text/plain": [
       "  0%|          | 0/5 [00:00<?, ?it/s]"
      ]
     },
     "metadata": {},
     "output_type": "display_data"
    },
    {
     "data": {
      "application/vnd.jupyter.widget-view+json": {
       "model_id": "6c525171661f45528d667385873d34b8",
       "version_major": 2,
       "version_minor": 0
      },
      "text/plain": [
       "  0%|          | 0/4 [00:00<?, ?it/s]"
      ]
     },
     "metadata": {},
     "output_type": "display_data"
    },
    {
     "data": {
      "application/vnd.jupyter.widget-view+json": {
       "model_id": "e9f9b1f72bdb4260881eb34de12e8d0b",
       "version_major": 2,
       "version_minor": 0
      },
      "text/plain": [
       "  0%|          | 0/20 [00:00<?, ?it/s]"
      ]
     },
     "metadata": {},
     "output_type": "display_data"
    },
    {
     "data": {
      "application/vnd.jupyter.widget-view+json": {
       "model_id": "acf0f2f08ea64c4a911db4c7b95a1e93",
       "version_major": 2,
       "version_minor": 0
      },
      "text/plain": [
       "  0%|          | 0/8 [00:00<?, ?it/s]"
      ]
     },
     "metadata": {},
     "output_type": "display_data"
    },
    {
     "data": {
      "application/vnd.jupyter.widget-view+json": {
       "model_id": "0e63b2eed53a4a659a033e86ea6f041d",
       "version_major": 2,
       "version_minor": 0
      },
      "text/plain": [
       "  0%|          | 0/21 [00:00<?, ?it/s]"
      ]
     },
     "metadata": {},
     "output_type": "display_data"
    },
    {
     "data": {
      "application/vnd.jupyter.widget-view+json": {
       "model_id": "0be3524f7ed44f8f99b4ee8665bbd1c4",
       "version_major": 2,
       "version_minor": 0
      },
      "text/plain": [
       "  0%|          | 0/4 [00:00<?, ?it/s]"
      ]
     },
     "metadata": {},
     "output_type": "display_data"
    },
    {
     "data": {
      "application/vnd.jupyter.widget-view+json": {
       "model_id": "96479e1aef404c17b5c1302d5db6ebe0",
       "version_major": 2,
       "version_minor": 0
      },
      "text/plain": [
       "  0%|          | 0/5 [00:00<?, ?it/s]"
      ]
     },
     "metadata": {},
     "output_type": "display_data"
    },
    {
     "data": {
      "application/vnd.jupyter.widget-view+json": {
       "model_id": "53fd8704a991485fa034eff189c3e2bc",
       "version_major": 2,
       "version_minor": 0
      },
      "text/plain": [
       "  0%|          | 0/10 [00:00<?, ?it/s]"
      ]
     },
     "metadata": {},
     "output_type": "display_data"
    },
    {
     "data": {
      "application/vnd.jupyter.widget-view+json": {
       "model_id": "f7782057bb8c4022aba6b15b7fd15f54",
       "version_major": 2,
       "version_minor": 0
      },
      "text/plain": [
       "  0%|          | 0/2 [00:00<?, ?it/s]"
      ]
     },
     "metadata": {},
     "output_type": "display_data"
    },
    {
     "data": {
      "application/vnd.jupyter.widget-view+json": {
       "model_id": "e70ec66e4c89414197dc9bd63abcd51b",
       "version_major": 2,
       "version_minor": 0
      },
      "text/plain": [
       "  0%|          | 0/15 [00:00<?, ?it/s]"
      ]
     },
     "metadata": {},
     "output_type": "display_data"
    },
    {
     "data": {
      "application/vnd.jupyter.widget-view+json": {
       "model_id": "5e4e9513f104489eb3f0dd73e7e4eff9",
       "version_major": 2,
       "version_minor": 0
      },
      "text/plain": [
       "  0%|          | 0/9 [00:00<?, ?it/s]"
      ]
     },
     "metadata": {},
     "output_type": "display_data"
    },
    {
     "data": {
      "application/vnd.jupyter.widget-view+json": {
       "model_id": "dbf78d7b83fb4bbab0e759f2937789b7",
       "version_major": 2,
       "version_minor": 0
      },
      "text/plain": [
       "  0%|          | 0/9 [00:00<?, ?it/s]"
      ]
     },
     "metadata": {},
     "output_type": "display_data"
    },
    {
     "data": {
      "application/vnd.jupyter.widget-view+json": {
       "model_id": "ea163a21f0b9457284a962ca262361a5",
       "version_major": 2,
       "version_minor": 0
      },
      "text/plain": [
       "  0%|          | 0/7 [00:00<?, ?it/s]"
      ]
     },
     "metadata": {},
     "output_type": "display_data"
    },
    {
     "data": {
      "application/vnd.jupyter.widget-view+json": {
       "model_id": "67f361d7c39d4a198ea96bf7b058171a",
       "version_major": 2,
       "version_minor": 0
      },
      "text/plain": [
       "  0%|          | 0/1 [00:00<?, ?it/s]"
      ]
     },
     "metadata": {},
     "output_type": "display_data"
    },
    {
     "data": {
      "application/vnd.jupyter.widget-view+json": {
       "model_id": "ea51fac0ad784365ae7b0552eaebab05",
       "version_major": 2,
       "version_minor": 0
      },
      "text/plain": [
       "  0%|          | 0/5 [00:00<?, ?it/s]"
      ]
     },
     "metadata": {},
     "output_type": "display_data"
    },
    {
     "data": {
      "application/vnd.jupyter.widget-view+json": {
       "model_id": "6a1d1704bbbd48648169c09d4f5050e4",
       "version_major": 2,
       "version_minor": 0
      },
      "text/plain": [
       "  0%|          | 0/3 [00:00<?, ?it/s]"
      ]
     },
     "metadata": {},
     "output_type": "display_data"
    },
    {
     "data": {
      "application/vnd.jupyter.widget-view+json": {
       "model_id": "5b31f0fec6c84dcebe394409863e206a",
       "version_major": 2,
       "version_minor": 0
      },
      "text/plain": [
       "  0%|          | 0/3 [00:00<?, ?it/s]"
      ]
     },
     "metadata": {},
     "output_type": "display_data"
    },
    {
     "data": {
      "application/vnd.jupyter.widget-view+json": {
       "model_id": "83464a458a3c4628bffab17007a2e0d6",
       "version_major": 2,
       "version_minor": 0
      },
      "text/plain": [
       "  0%|          | 0/15 [00:00<?, ?it/s]"
      ]
     },
     "metadata": {},
     "output_type": "display_data"
    },
    {
     "data": {
      "application/vnd.jupyter.widget-view+json": {
       "model_id": "949f1f49c0b24736b40ab60064e7d990",
       "version_major": 2,
       "version_minor": 0
      },
      "text/plain": [
       "  0%|          | 0/5 [00:00<?, ?it/s]"
      ]
     },
     "metadata": {},
     "output_type": "display_data"
    },
    {
     "data": {
      "application/vnd.jupyter.widget-view+json": {
       "model_id": "6a205a6ae1a8431185538c138b9f4b7d",
       "version_major": 2,
       "version_minor": 0
      },
      "text/plain": [
       "  0%|          | 0/2 [00:00<?, ?it/s]"
      ]
     },
     "metadata": {},
     "output_type": "display_data"
    },
    {
     "data": {
      "application/vnd.jupyter.widget-view+json": {
       "model_id": "7aa3111b9aa74350a68cf7aa3b2307f0",
       "version_major": 2,
       "version_minor": 0
      },
      "text/plain": [
       "  0%|          | 0/10 [00:00<?, ?it/s]"
      ]
     },
     "metadata": {},
     "output_type": "display_data"
    },
    {
     "data": {
      "application/vnd.jupyter.widget-view+json": {
       "model_id": "8b2d54f464964ef4b8de56da7ecf1b69",
       "version_major": 2,
       "version_minor": 0
      },
      "text/plain": [
       "  0%|          | 0/30 [00:00<?, ?it/s]"
      ]
     },
     "metadata": {},
     "output_type": "display_data"
    },
    {
     "data": {
      "application/vnd.jupyter.widget-view+json": {
       "model_id": "d4e1e3b54e8b46d9bc33b3e8fad78d25",
       "version_major": 2,
       "version_minor": 0
      },
      "text/plain": [
       "  0%|          | 0/27 [00:00<?, ?it/s]"
      ]
     },
     "metadata": {},
     "output_type": "display_data"
    },
    {
     "data": {
      "application/vnd.jupyter.widget-view+json": {
       "model_id": "a95db74bf5b34e96975e332dd73c784f",
       "version_major": 2,
       "version_minor": 0
      },
      "text/plain": [
       "  0%|          | 0/11 [00:00<?, ?it/s]"
      ]
     },
     "metadata": {},
     "output_type": "display_data"
    },
    {
     "data": {
      "application/vnd.jupyter.widget-view+json": {
       "model_id": "7458c423263749e68da6a517f399a346",
       "version_major": 2,
       "version_minor": 0
      },
      "text/plain": [
       "  0%|          | 0/8 [00:00<?, ?it/s]"
      ]
     },
     "metadata": {},
     "output_type": "display_data"
    },
    {
     "data": {
      "application/vnd.jupyter.widget-view+json": {
       "model_id": "1fbb380c92d646bea509b248120aee9f",
       "version_major": 2,
       "version_minor": 0
      },
      "text/plain": [
       "  0%|          | 0/7 [00:00<?, ?it/s]"
      ]
     },
     "metadata": {},
     "output_type": "display_data"
    },
    {
     "data": {
      "application/vnd.jupyter.widget-view+json": {
       "model_id": "c33fb61ca4cc4daf960bc2c45f194e3c",
       "version_major": 2,
       "version_minor": 0
      },
      "text/plain": [
       "  0%|          | 0/5 [00:00<?, ?it/s]"
      ]
     },
     "metadata": {},
     "output_type": "display_data"
    },
    {
     "data": {
      "application/vnd.jupyter.widget-view+json": {
       "model_id": "54da56868b3f4091bce7031f56479ef1",
       "version_major": 2,
       "version_minor": 0
      },
      "text/plain": [
       "  0%|          | 0/3 [00:00<?, ?it/s]"
      ]
     },
     "metadata": {},
     "output_type": "display_data"
    },
    {
     "data": {
      "application/vnd.jupyter.widget-view+json": {
       "model_id": "7895575e93464d468d5d59626b813135",
       "version_major": 2,
       "version_minor": 0
      },
      "text/plain": [
       "  0%|          | 0/11 [00:00<?, ?it/s]"
      ]
     },
     "metadata": {},
     "output_type": "display_data"
    },
    {
     "data": {
      "application/vnd.jupyter.widget-view+json": {
       "model_id": "b602b4e90a3a4718847a3db61af8e0ba",
       "version_major": 2,
       "version_minor": 0
      },
      "text/plain": [
       "  0%|          | 0/12 [00:00<?, ?it/s]"
      ]
     },
     "metadata": {},
     "output_type": "display_data"
    },
    {
     "data": {
      "application/vnd.jupyter.widget-view+json": {
       "model_id": "842b45d96b0742b0a767e21583455f8e",
       "version_major": 2,
       "version_minor": 0
      },
      "text/plain": [
       "  0%|          | 0/82 [00:00<?, ?it/s]"
      ]
     },
     "metadata": {},
     "output_type": "display_data"
    },
    {
     "data": {
      "application/vnd.jupyter.widget-view+json": {
       "model_id": "0bb4b5ca47c34eb5acc51e1aea0967f4",
       "version_major": 2,
       "version_minor": 0
      },
      "text/plain": [
       "  0%|          | 0/7 [00:00<?, ?it/s]"
      ]
     },
     "metadata": {},
     "output_type": "display_data"
    },
    {
     "data": {
      "application/vnd.jupyter.widget-view+json": {
       "model_id": "83ef844e04344f639e801bfebefc3afb",
       "version_major": 2,
       "version_minor": 0
      },
      "text/plain": [
       "  0%|          | 0/8 [00:00<?, ?it/s]"
      ]
     },
     "metadata": {},
     "output_type": "display_data"
    },
    {
     "data": {
      "application/vnd.jupyter.widget-view+json": {
       "model_id": "b597ae4ce3844090bf4a9228eb1d5273",
       "version_major": 2,
       "version_minor": 0
      },
      "text/plain": [
       "  0%|          | 0/9 [00:00<?, ?it/s]"
      ]
     },
     "metadata": {},
     "output_type": "display_data"
    },
    {
     "data": {
      "application/vnd.jupyter.widget-view+json": {
       "model_id": "81a02e9528704e178347fd62928fb277",
       "version_major": 2,
       "version_minor": 0
      },
      "text/plain": [
       "  0%|          | 0/6 [00:00<?, ?it/s]"
      ]
     },
     "metadata": {},
     "output_type": "display_data"
    },
    {
     "name": "stdout",
     "output_type": "stream",
     "text": [
      "Assigning the old width calculation because no valid new widths\n"
     ]
    },
    {
     "data": {
      "application/vnd.jupyter.widget-view+json": {
       "model_id": "f7cfbee5bf684fa79ba34b31aba3d6b5",
       "version_major": 2,
       "version_minor": 0
      },
      "text/plain": [
       "  0%|          | 0/13 [00:00<?, ?it/s]"
      ]
     },
     "metadata": {},
     "output_type": "display_data"
    },
    {
     "data": {
      "application/vnd.jupyter.widget-view+json": {
       "model_id": "219598bfd6814d21a61ef8cb94d9806c",
       "version_major": 2,
       "version_minor": 0
      },
      "text/plain": [
       "  0%|          | 0/14 [00:00<?, ?it/s]"
      ]
     },
     "metadata": {},
     "output_type": "display_data"
    },
    {
     "data": {
      "application/vnd.jupyter.widget-view+json": {
       "model_id": "0253cc5fe3f94675842de76bc0d2bfbc",
       "version_major": 2,
       "version_minor": 0
      },
      "text/plain": [
       "  0%|          | 0/7 [00:00<?, ?it/s]"
      ]
     },
     "metadata": {},
     "output_type": "display_data"
    },
    {
     "data": {
      "application/vnd.jupyter.widget-view+json": {
       "model_id": "16e820b67d2641b083dd57c7011d61e5",
       "version_major": 2,
       "version_minor": 0
      },
      "text/plain": [
       "  0%|          | 0/10 [00:00<?, ?it/s]"
      ]
     },
     "metadata": {},
     "output_type": "display_data"
    },
    {
     "data": {
      "application/vnd.jupyter.widget-view+json": {
       "model_id": "ea54ec879175477d98632fcad4e32301",
       "version_major": 2,
       "version_minor": 0
      },
      "text/plain": [
       "  0%|          | 0/11 [00:00<?, ?it/s]"
      ]
     },
     "metadata": {},
     "output_type": "display_data"
    },
    {
     "data": {
      "application/vnd.jupyter.widget-view+json": {
       "model_id": "481f840ffdc442aa9bfe5713fd2b6667",
       "version_major": 2,
       "version_minor": 0
      },
      "text/plain": [
       "  0%|          | 0/44 [00:00<?, ?it/s]"
      ]
     },
     "metadata": {},
     "output_type": "display_data"
    },
    {
     "data": {
      "application/vnd.jupyter.widget-view+json": {
       "model_id": "a0b61b098ffd4a6f900b4dd9c4276a3f",
       "version_major": 2,
       "version_minor": 0
      },
      "text/plain": [
       "  0%|          | 0/9 [00:00<?, ?it/s]"
      ]
     },
     "metadata": {},
     "output_type": "display_data"
    },
    {
     "data": {
      "application/vnd.jupyter.widget-view+json": {
       "model_id": "61ab8d6dd54f4527aa082a4c0f2d5630",
       "version_major": 2,
       "version_minor": 0
      },
      "text/plain": [
       "  0%|          | 0/16 [00:00<?, ?it/s]"
      ]
     },
     "metadata": {},
     "output_type": "display_data"
    },
    {
     "data": {
      "application/vnd.jupyter.widget-view+json": {
       "model_id": "49d4da413eb74770a6c14f9341ea3dfc",
       "version_major": 2,
       "version_minor": 0
      },
      "text/plain": [
       "  0%|          | 0/6 [00:00<?, ?it/s]"
      ]
     },
     "metadata": {},
     "output_type": "display_data"
    },
    {
     "data": {
      "application/vnd.jupyter.widget-view+json": {
       "model_id": "e407bff7129c449a81634961dbc55a12",
       "version_major": 2,
       "version_minor": 0
      },
      "text/plain": [
       "  0%|          | 0/13 [00:00<?, ?it/s]"
      ]
     },
     "metadata": {},
     "output_type": "display_data"
    },
    {
     "data": {
      "application/vnd.jupyter.widget-view+json": {
       "model_id": "970d8c7ad3b4452c96f8c45665cd3c99",
       "version_major": 2,
       "version_minor": 0
      },
      "text/plain": [
       "  0%|          | 0/18 [00:00<?, ?it/s]"
      ]
     },
     "metadata": {},
     "output_type": "display_data"
    },
    {
     "data": {
      "application/vnd.jupyter.widget-view+json": {
       "model_id": "2bedd8c211554c7b8d4b1bf4c45a189e",
       "version_major": 2,
       "version_minor": 0
      },
      "text/plain": [
       "  0%|          | 0/4 [00:00<?, ?it/s]"
      ]
     },
     "metadata": {},
     "output_type": "display_data"
    },
    {
     "data": {
      "application/vnd.jupyter.widget-view+json": {
       "model_id": "89fa96e185cc4861a3222c213520c361",
       "version_major": 2,
       "version_minor": 0
      },
      "text/plain": [
       "  0%|          | 0/10 [00:00<?, ?it/s]"
      ]
     },
     "metadata": {},
     "output_type": "display_data"
    },
    {
     "data": {
      "application/vnd.jupyter.widget-view+json": {
       "model_id": "eb65511940564adfb2836ebe21541fd6",
       "version_major": 2,
       "version_minor": 0
      },
      "text/plain": [
       "  0%|          | 0/5 [00:00<?, ?it/s]"
      ]
     },
     "metadata": {},
     "output_type": "display_data"
    },
    {
     "data": {
      "application/vnd.jupyter.widget-view+json": {
       "model_id": "ba4eeb387ea04dafb6dafba92477250d",
       "version_major": 2,
       "version_minor": 0
      },
      "text/plain": [
       "  0%|          | 0/10 [00:00<?, ?it/s]"
      ]
     },
     "metadata": {},
     "output_type": "display_data"
    },
    {
     "data": {
      "application/vnd.jupyter.widget-view+json": {
       "model_id": "76defb69862342f4b25e932305e28e67",
       "version_major": 2,
       "version_minor": 0
      },
      "text/plain": [
       "  0%|          | 0/3 [00:00<?, ?it/s]"
      ]
     },
     "metadata": {},
     "output_type": "display_data"
    },
    {
     "data": {
      "application/vnd.jupyter.widget-view+json": {
       "model_id": "835b1b7c8f8f4db98b4b48d4c6187d14",
       "version_major": 2,
       "version_minor": 0
      },
      "text/plain": [
       "  0%|          | 0/21 [00:00<?, ?it/s]"
      ]
     },
     "metadata": {},
     "output_type": "display_data"
    },
    {
     "data": {
      "application/vnd.jupyter.widget-view+json": {
       "model_id": "2cbc00d1885d434db1b6ab05231f50ea",
       "version_major": 2,
       "version_minor": 0
      },
      "text/plain": [
       "  0%|          | 0/6 [00:00<?, ?it/s]"
      ]
     },
     "metadata": {},
     "output_type": "display_data"
    },
    {
     "data": {
      "application/vnd.jupyter.widget-view+json": {
       "model_id": "e271ef18d66945f4b0bbedde2130bc23",
       "version_major": 2,
       "version_minor": 0
      },
      "text/plain": [
       "  0%|          | 0/14 [00:00<?, ?it/s]"
      ]
     },
     "metadata": {},
     "output_type": "display_data"
    },
    {
     "data": {
      "application/vnd.jupyter.widget-view+json": {
       "model_id": "d0157d7ee5f54eb0869d2809e94b7d08",
       "version_major": 2,
       "version_minor": 0
      },
      "text/plain": [
       "  0%|          | 0/4 [00:00<?, ?it/s]"
      ]
     },
     "metadata": {},
     "output_type": "display_data"
    },
    {
     "data": {
      "application/vnd.jupyter.widget-view+json": {
       "model_id": "00572528a2c04fbc8f83d38104957e0a",
       "version_major": 2,
       "version_minor": 0
      },
      "text/plain": [
       "  0%|          | 0/35 [00:00<?, ?it/s]"
      ]
     },
     "metadata": {},
     "output_type": "display_data"
    },
    {
     "data": {
      "application/vnd.jupyter.widget-view+json": {
       "model_id": "d557f34c23bb429483e9a740ca54d621",
       "version_major": 2,
       "version_minor": 0
      },
      "text/plain": [
       "  0%|          | 0/3 [00:00<?, ?it/s]"
      ]
     },
     "metadata": {},
     "output_type": "display_data"
    },
    {
     "data": {
      "application/vnd.jupyter.widget-view+json": {
       "model_id": "710f75d057244dbea18ceb4831bf17a6",
       "version_major": 2,
       "version_minor": 0
      },
      "text/plain": [
       "  0%|          | 0/11 [00:00<?, ?it/s]"
      ]
     },
     "metadata": {},
     "output_type": "display_data"
    },
    {
     "data": {
      "application/vnd.jupyter.widget-view+json": {
       "model_id": "182b93b6fee840d78d6ce1df614568e1",
       "version_major": 2,
       "version_minor": 0
      },
      "text/plain": [
       "  0%|          | 0/3 [00:00<?, ?it/s]"
      ]
     },
     "metadata": {},
     "output_type": "display_data"
    },
    {
     "data": {
      "application/vnd.jupyter.widget-view+json": {
       "model_id": "4310f1fbda9e4a47b8e30732774bce17",
       "version_major": 2,
       "version_minor": 0
      },
      "text/plain": [
       "  0%|          | 0/18 [00:00<?, ?it/s]"
      ]
     },
     "metadata": {},
     "output_type": "display_data"
    },
    {
     "data": {
      "application/vnd.jupyter.widget-view+json": {
       "model_id": "2f5a6a06c08c4854a6abd8202e2501f2",
       "version_major": 2,
       "version_minor": 0
      },
      "text/plain": [
       "  0%|          | 0/34 [00:00<?, ?it/s]"
      ]
     },
     "metadata": {},
     "output_type": "display_data"
    },
    {
     "data": {
      "application/vnd.jupyter.widget-view+json": {
       "model_id": "739f76dc34d54021a2d308f8653f7f70",
       "version_major": 2,
       "version_minor": 0
      },
      "text/plain": [
       "  0%|          | 0/7 [00:00<?, ?it/s]"
      ]
     },
     "metadata": {},
     "output_type": "display_data"
    },
    {
     "data": {
      "application/vnd.jupyter.widget-view+json": {
       "model_id": "deb754306f7e4532a6f3270e5dc908ff",
       "version_major": 2,
       "version_minor": 0
      },
      "text/plain": [
       "  0%|          | 0/9 [00:00<?, ?it/s]"
      ]
     },
     "metadata": {},
     "output_type": "display_data"
    },
    {
     "data": {
      "application/vnd.jupyter.widget-view+json": {
       "model_id": "cd4e1e82a6414620b66d9f534f696562",
       "version_major": 2,
       "version_minor": 0
      },
      "text/plain": [
       "  0%|          | 0/24 [00:00<?, ?it/s]"
      ]
     },
     "metadata": {},
     "output_type": "display_data"
    },
    {
     "data": {
      "application/vnd.jupyter.widget-view+json": {
       "model_id": "d16118d8354b4d9a90b282d1f086e3fd",
       "version_major": 2,
       "version_minor": 0
      },
      "text/plain": [
       "  0%|          | 0/10 [00:00<?, ?it/s]"
      ]
     },
     "metadata": {},
     "output_type": "display_data"
    },
    {
     "data": {
      "application/vnd.jupyter.widget-view+json": {
       "model_id": "b363f8ac80e24c1db5861b115d2b8218",
       "version_major": 2,
       "version_minor": 0
      },
      "text/plain": [
       "  0%|          | 0/12 [00:00<?, ?it/s]"
      ]
     },
     "metadata": {},
     "output_type": "display_data"
    },
    {
     "data": {
      "application/vnd.jupyter.widget-view+json": {
       "model_id": "162846b16dfe4fe1945b991cfb864383",
       "version_major": 2,
       "version_minor": 0
      },
      "text/plain": [
       "  0%|          | 0/19 [00:00<?, ?it/s]"
      ]
     },
     "metadata": {},
     "output_type": "display_data"
    },
    {
     "data": {
      "application/vnd.jupyter.widget-view+json": {
       "model_id": "99151a789ee0415c9059ff7b588a5083",
       "version_major": 2,
       "version_minor": 0
      },
      "text/plain": [
       "  0%|          | 0/8 [00:00<?, ?it/s]"
      ]
     },
     "metadata": {},
     "output_type": "display_data"
    },
    {
     "data": {
      "application/vnd.jupyter.widget-view+json": {
       "model_id": "4af9a32578b04029b0af942d33367bd1",
       "version_major": 2,
       "version_minor": 0
      },
      "text/plain": [
       "  0%|          | 0/15 [00:00<?, ?it/s]"
      ]
     },
     "metadata": {},
     "output_type": "display_data"
    },
    {
     "data": {
      "application/vnd.jupyter.widget-view+json": {
       "model_id": "fb388516c3234ca5b53d408e1193748e",
       "version_major": 2,
       "version_minor": 0
      },
      "text/plain": [
       "  0%|          | 0/16 [00:00<?, ?it/s]"
      ]
     },
     "metadata": {},
     "output_type": "display_data"
    },
    {
     "data": {
      "application/vnd.jupyter.widget-view+json": {
       "model_id": "b359f1b68b10469f94acea449b2fc846",
       "version_major": 2,
       "version_minor": 0
      },
      "text/plain": [
       "  0%|          | 0/37 [00:00<?, ?it/s]"
      ]
     },
     "metadata": {},
     "output_type": "display_data"
    },
    {
     "data": {
      "application/vnd.jupyter.widget-view+json": {
       "model_id": "a7fa1de91ddc4d8c96e7f0001ef64285",
       "version_major": 2,
       "version_minor": 0
      },
      "text/plain": [
       "  0%|          | 0/24 [00:00<?, ?it/s]"
      ]
     },
     "metadata": {},
     "output_type": "display_data"
    },
    {
     "data": {
      "application/vnd.jupyter.widget-view+json": {
       "model_id": "2487bc0379a7483a9d62f52766d786d3",
       "version_major": 2,
       "version_minor": 0
      },
      "text/plain": [
       "  0%|          | 0/12 [00:00<?, ?it/s]"
      ]
     },
     "metadata": {},
     "output_type": "display_data"
    },
    {
     "data": {
      "application/vnd.jupyter.widget-view+json": {
       "model_id": "d182fa32fc994ead9cd2051881173094",
       "version_major": 2,
       "version_minor": 0
      },
      "text/plain": [
       "  0%|          | 0/8 [00:00<?, ?it/s]"
      ]
     },
     "metadata": {},
     "output_type": "display_data"
    },
    {
     "data": {
      "application/vnd.jupyter.widget-view+json": {
       "model_id": "d708060dbaa6451893de53a3f98ade33",
       "version_major": 2,
       "version_minor": 0
      },
      "text/plain": [
       "  0%|          | 0/9 [00:00<?, ?it/s]"
      ]
     },
     "metadata": {},
     "output_type": "display_data"
    },
    {
     "data": {
      "application/vnd.jupyter.widget-view+json": {
       "model_id": "90fb628adbb3487384c836ef378a1f5f",
       "version_major": 2,
       "version_minor": 0
      },
      "text/plain": [
       "  0%|          | 0/12 [00:00<?, ?it/s]"
      ]
     },
     "metadata": {},
     "output_type": "display_data"
    },
    {
     "data": {
      "application/vnd.jupyter.widget-view+json": {
       "model_id": "5d77ed05e3364ec7b8dbb6062fddddf8",
       "version_major": 2,
       "version_minor": 0
      },
      "text/plain": [
       "  0%|          | 0/12 [00:00<?, ?it/s]"
      ]
     },
     "metadata": {},
     "output_type": "display_data"
    },
    {
     "data": {
      "application/vnd.jupyter.widget-view+json": {
       "model_id": "62218e2f3c8e4fe491985b54b7ba12c2",
       "version_major": 2,
       "version_minor": 0
      },
      "text/plain": [
       "  0%|          | 0/31 [00:00<?, ?it/s]"
      ]
     },
     "metadata": {},
     "output_type": "display_data"
    },
    {
     "data": {
      "application/vnd.jupyter.widget-view+json": {
       "model_id": "38fef2f3f74d4fcaa7578995f7a90916",
       "version_major": 2,
       "version_minor": 0
      },
      "text/plain": [
       "  0%|          | 0/226 [00:00<?, ?it/s]"
      ]
     },
     "metadata": {},
     "output_type": "display_data"
    },
    {
     "data": {
      "application/vnd.jupyter.widget-view+json": {
       "model_id": "49ddd18d10ae4a7e8eb1255e7f0cae67",
       "version_major": 2,
       "version_minor": 0
      },
      "text/plain": [
       "  0%|          | 0/9 [00:00<?, ?it/s]"
      ]
     },
     "metadata": {},
     "output_type": "display_data"
    },
    {
     "data": {
      "application/vnd.jupyter.widget-view+json": {
       "model_id": "17390c8b0c024bed84b013dc245a8485",
       "version_major": 2,
       "version_minor": 0
      },
      "text/plain": [
       "  0%|          | 0/11 [00:00<?, ?it/s]"
      ]
     },
     "metadata": {},
     "output_type": "display_data"
    },
    {
     "data": {
      "application/vnd.jupyter.widget-view+json": {
       "model_id": "de07586ce4aa48ae84cf50a67e77ad5b",
       "version_major": 2,
       "version_minor": 0
      },
      "text/plain": [
       "  0%|          | 0/18 [00:00<?, ?it/s]"
      ]
     },
     "metadata": {},
     "output_type": "display_data"
    },
    {
     "data": {
      "application/vnd.jupyter.widget-view+json": {
       "model_id": "c6a4683be69f426b99fb9352deb49f37",
       "version_major": 2,
       "version_minor": 0
      },
      "text/plain": [
       "  0%|          | 0/39 [00:00<?, ?it/s]"
      ]
     },
     "metadata": {},
     "output_type": "display_data"
    },
    {
     "data": {
      "application/vnd.jupyter.widget-view+json": {
       "model_id": "1cb37d9c89fb4d29b8502f1046c1881f",
       "version_major": 2,
       "version_minor": 0
      },
      "text/plain": [
       "  0%|          | 0/24 [00:00<?, ?it/s]"
      ]
     },
     "metadata": {},
     "output_type": "display_data"
    },
    {
     "data": {
      "application/vnd.jupyter.widget-view+json": {
       "model_id": "4af42141836b43f8a7a9619533c01687",
       "version_major": 2,
       "version_minor": 0
      },
      "text/plain": [
       "  0%|          | 0/18 [00:00<?, ?it/s]"
      ]
     },
     "metadata": {},
     "output_type": "display_data"
    },
    {
     "data": {
      "application/vnd.jupyter.widget-view+json": {
       "model_id": "af667584c9ef480f9b3445b4f471e34e",
       "version_major": 2,
       "version_minor": 0
      },
      "text/plain": [
       "  0%|          | 0/62 [00:00<?, ?it/s]"
      ]
     },
     "metadata": {},
     "output_type": "display_data"
    },
    {
     "data": {
      "application/vnd.jupyter.widget-view+json": {
       "model_id": "5338df822901407d82d17b8c0870a833",
       "version_major": 2,
       "version_minor": 0
      },
      "text/plain": [
       "  0%|          | 0/37 [00:00<?, ?it/s]"
      ]
     },
     "metadata": {},
     "output_type": "display_data"
    },
    {
     "data": {
      "application/vnd.jupyter.widget-view+json": {
       "model_id": "e6f573d3cf184814880fdf0626e7b829",
       "version_major": 2,
       "version_minor": 0
      },
      "text/plain": [
       "  0%|          | 0/47 [00:00<?, ?it/s]"
      ]
     },
     "metadata": {},
     "output_type": "display_data"
    },
    {
     "data": {
      "application/vnd.jupyter.widget-view+json": {
       "model_id": "8bfae008e2584ab2991fee3bac3a8117",
       "version_major": 2,
       "version_minor": 0
      },
      "text/plain": [
       "  0%|          | 0/13 [00:00<?, ?it/s]"
      ]
     },
     "metadata": {},
     "output_type": "display_data"
    },
    {
     "data": {
      "application/vnd.jupyter.widget-view+json": {
       "model_id": "d3f6e71d170d48ab95d6eae948c7d9f1",
       "version_major": 2,
       "version_minor": 0
      },
      "text/plain": [
       "  0%|          | 0/252 [00:00<?, ?it/s]"
      ]
     },
     "metadata": {},
     "output_type": "display_data"
    },
    {
     "data": {
      "application/vnd.jupyter.widget-view+json": {
       "model_id": "b51de23cce4f4c2f948fc92fd29eff1c",
       "version_major": 2,
       "version_minor": 0
      },
      "text/plain": [
       "  0%|          | 0/18 [00:00<?, ?it/s]"
      ]
     },
     "metadata": {},
     "output_type": "display_data"
    },
    {
     "data": {
      "application/vnd.jupyter.widget-view+json": {
       "model_id": "93ce569da0424d708b5b4830aeefe2ee",
       "version_major": 2,
       "version_minor": 0
      },
      "text/plain": [
       "  0%|          | 0/51 [00:00<?, ?it/s]"
      ]
     },
     "metadata": {},
     "output_type": "display_data"
    },
    {
     "data": {
      "application/vnd.jupyter.widget-view+json": {
       "model_id": "f761004ed0294cc5931e01f51e95085a",
       "version_major": 2,
       "version_minor": 0
      },
      "text/plain": [
       "  0%|          | 0/18 [00:00<?, ?it/s]"
      ]
     },
     "metadata": {},
     "output_type": "display_data"
    },
    {
     "data": {
      "application/vnd.jupyter.widget-view+json": {
       "model_id": "d3706266b99943b689124382f84c9387",
       "version_major": 2,
       "version_minor": 0
      },
      "text/plain": [
       "  0%|          | 0/55 [00:00<?, ?it/s]"
      ]
     },
     "metadata": {},
     "output_type": "display_data"
    },
    {
     "data": {
      "application/vnd.jupyter.widget-view+json": {
       "model_id": "0318103566804968b58c3ec4cc558044",
       "version_major": 2,
       "version_minor": 0
      },
      "text/plain": [
       "  0%|          | 0/30 [00:00<?, ?it/s]"
      ]
     },
     "metadata": {},
     "output_type": "display_data"
    },
    {
     "data": {
      "application/vnd.jupyter.widget-view+json": {
       "model_id": "41a8b082aae04d8db9cc83ebf45021c7",
       "version_major": 2,
       "version_minor": 0
      },
      "text/plain": [
       "  0%|          | 0/13 [00:00<?, ?it/s]"
      ]
     },
     "metadata": {},
     "output_type": "display_data"
    },
    {
     "data": {
      "application/vnd.jupyter.widget-view+json": {
       "model_id": "b5a536fcc2384ce293efd5afacd642fd",
       "version_major": 2,
       "version_minor": 0
      },
      "text/plain": [
       "  0%|          | 0/23 [00:00<?, ?it/s]"
      ]
     },
     "metadata": {},
     "output_type": "display_data"
    },
    {
     "data": {
      "application/vnd.jupyter.widget-view+json": {
       "model_id": "6668d2d55fea4493932ef8444475a8ab",
       "version_major": 2,
       "version_minor": 0
      },
      "text/plain": [
       "  0%|          | 0/22 [00:00<?, ?it/s]"
      ]
     },
     "metadata": {},
     "output_type": "display_data"
    },
    {
     "data": {
      "application/vnd.jupyter.widget-view+json": {
       "model_id": "11490f8afd1b44568fb310f4a536b472",
       "version_major": 2,
       "version_minor": 0
      },
      "text/plain": [
       "  0%|          | 0/14 [00:00<?, ?it/s]"
      ]
     },
     "metadata": {},
     "output_type": "display_data"
    },
    {
     "data": {
      "application/vnd.jupyter.widget-view+json": {
       "model_id": "33d6112112c246a6bea978925475b7a1",
       "version_major": 2,
       "version_minor": 0
      },
      "text/plain": [
       "  0%|          | 0/12 [00:00<?, ?it/s]"
      ]
     },
     "metadata": {},
     "output_type": "display_data"
    },
    {
     "data": {
      "application/vnd.jupyter.widget-view+json": {
       "model_id": "9f352e5ff0ea4a72bed3bfa36de186ff",
       "version_major": 2,
       "version_minor": 0
      },
      "text/plain": [
       "  0%|          | 0/18 [00:00<?, ?it/s]"
      ]
     },
     "metadata": {},
     "output_type": "display_data"
    },
    {
     "data": {
      "application/vnd.jupyter.widget-view+json": {
       "model_id": "aa15fef6a8da4e8a969a0df258986e60",
       "version_major": 2,
       "version_minor": 0
      },
      "text/plain": [
       "  0%|          | 0/20 [00:00<?, ?it/s]"
      ]
     },
     "metadata": {},
     "output_type": "display_data"
    },
    {
     "data": {
      "application/vnd.jupyter.widget-view+json": {
       "model_id": "8f9dd250dd7e4dc7a6389c3e496891ae",
       "version_major": 2,
       "version_minor": 0
      },
      "text/plain": [
       "  0%|          | 0/12 [00:00<?, ?it/s]"
      ]
     },
     "metadata": {},
     "output_type": "display_data"
    },
    {
     "data": {
      "application/vnd.jupyter.widget-view+json": {
       "model_id": "fa4d65f730b041d9bbd1093d5a0b579e",
       "version_major": 2,
       "version_minor": 0
      },
      "text/plain": [
       "  0%|          | 0/38 [00:00<?, ?it/s]"
      ]
     },
     "metadata": {},
     "output_type": "display_data"
    },
    {
     "name": "stdout",
     "output_type": "stream",
     "text": [
      "Synapsse Results:\n",
      "Total Number of Synapses = 3302\n",
      "n_valid_syn_ids_presyn = 36\n",
      "n_errored_syn_ids_presyn = 123\n",
      "n_valid_syn_ids_postsyn = 3128\n",
      "n_errored_syn_ids_postsyn = 15\n",
      "Synapsse Results:\n",
      "Total Number of Synapses = 3302\n",
      "n_valid_syn_ids_presyn = 36\n",
      "n_errored_syn_ids_presyn = 123\n",
      "n_valid_syn_ids_postsyn = 3128\n",
      "n_errored_syn_ids_postsyn = 15\n"
     ]
    },
    {
     "data": {
      "application/vnd.jupyter.widget-view+json": {
       "model_id": "a783d97a7c7b4208ab86bd5549584ef3",
       "version_major": 2,
       "version_minor": 0
      },
      "text/plain": [
       "  0%|          | 0/17 [00:00<?, ?it/s]"
      ]
     },
     "metadata": {},
     "output_type": "display_data"
    },
    {
     "data": {
      "application/vnd.jupyter.widget-view+json": {
       "model_id": "35d25e0da73d496fa92051c7abdc4f46",
       "version_major": 2,
       "version_minor": 0
      },
      "text/plain": [
       "  0%|          | 0/7 [00:00<?, ?it/s]"
      ]
     },
     "metadata": {},
     "output_type": "display_data"
    },
    {
     "name": "stdout",
     "output_type": "stream",
     "text": [
      "Synapsse Results:\n",
      "Total Number of Synapses = 3302\n",
      "n_valid_syn_ids_presyn = 36\n",
      "n_errored_syn_ids_presyn = 123\n",
      "n_valid_syn_ids_postsyn = 3128\n",
      "n_errored_syn_ids_postsyn = 15\n",
      "Synapsse Results:\n",
      "Total Number of Synapses = 3302\n",
      "n_valid_syn_ids_presyn = 36\n",
      "n_errored_syn_ids_presyn = 123\n",
      "n_valid_syn_ids_postsyn = 3128\n",
      "n_errored_syn_ids_postsyn = 15\n"
     ]
    },
    {
     "data": {
      "application/vnd.jupyter.widget-view+json": {
       "model_id": "d35c0795581946138f8b3f7830e6c767",
       "version_major": 2,
       "version_minor": 0
      },
      "text/plain": [
       "  0%|          | 0/17 [00:00<?, ?it/s]"
      ]
     },
     "metadata": {},
     "output_type": "display_data"
    },
    {
     "data": {
      "application/vnd.jupyter.widget-view+json": {
       "model_id": "3e72fcee3e4a4df281ed11f76eeec83f",
       "version_major": 2,
       "version_minor": 0
      },
      "text/plain": [
       "  0%|          | 0/7 [00:00<?, ?it/s]"
      ]
     },
     "metadata": {},
     "output_type": "display_data"
    },
    {
     "name": "stdout",
     "output_type": "stream",
     "text": [
      "\n",
      "\n",
      "len(branch_attr_keys) = 24\n",
      "Saving Neuorn in suppress_output mode...please wait\n",
      "Saved File at location: /mnt/dj-stor01/platinum/minnie65/02/decomposition/864691135645592260_0_25_full_axon\n",
      "Save time = 244.58330130577087\n",
      "\n",
      "\n",
      " ***------ Total time for 864691135645592260 = 1036.9179973602295 ------ ***\n",
      "\n",
      "\n",
      "\n",
      "---- Working on Neuron 864691136194042326 ----\n",
      "Decompressing Neuron in minimal output mode...please wait\n",
      "Pulled from Table Decomposition so setting split_index = 0\n",
      "Dont need spine recalculation\n",
      "Number of Neurons found = 1\n",
      "\n",
      "Part 1: Axon like branchese \n",
      "{'L0': array([ 0,  1,  2,  3,  4,  5,  6,  7,  8,  9, 10, 13, 14, 15, 16, 20, 21,\n",
      "       23, 24, 25, 26, 27, 28, 29, 30, 31, 32, 33, 34, 35, 36, 37, 38, 39,\n",
      "       40, 41, 42, 43, 44, 45, 46, 47, 48, 49, 50, 51, 52, 53, 54, 56, 57,\n",
      "       60, 61, 62, 63, 64, 65, 66, 67, 68, 69, 70, 71, 72, 73, 74, 75, 76,\n",
      "       77, 78, 79, 80, 81, 82, 83, 84, 85, 86, 87, 88, 89]), 'L1': array([2, 3, 4])}\n",
      "Limb L0 soma angle: 159.6 \n",
      "Limb L1 soma angle: 21.53 \n",
      "Limb L2 soma angle: 144.74 \n",
      "Limb L3 soma angle: 91.67 \n",
      "Limb L4 soma angle: 99.41 \n",
      "\n",
      "Part 2: possible_axon_limbs = [0, 2, 3, 4]\n",
      "\n",
      "Phase 2: Working on Limb L0\n",
      "nodes_to_eliminate = [11 12 18]\n",
      "\n",
      "Phase 2: Working on Limb L2\n",
      "nodes_to_eliminate = []\n",
      "\n",
      "Phase 2: Working on Limb L3\n",
      "nodes_to_eliminate = [1]\n",
      "\n",
      "Phase 2: Working on Limb L4\n",
      "nodes_to_eliminate = []\n",
      "\n",
      "----Working on Limb L0-----\n",
      "No endpoints were eliminated so don't need to add back any candidates\n",
      "\n",
      "----Working on Limb L2-----\n",
      "No nodes were eliminated so don't need to add back any candidates\n",
      "\n",
      "----Working on Limb L3-----\n",
      "No endpoints were eliminated so don't need to add back any candidates\n",
      "\n",
      "----Working on Limb L4-----\n",
      "No nodes were eliminated so don't need to add back any candidates\n",
      "Final Candidates\n",
      "\n",
      "Limb 0\n",
      "Candidate 0 (magenta): array([ 0,  1,  2,  3,  4,  5,  6,  7,  8,  9, 10, 13, 14, 15, 16, 20, 21,\n",
      "       23, 25, 26, 27, 28, 29, 30, 31, 32, 33, 34, 35, 36, 37, 38, 39, 40,\n",
      "       43, 44, 45, 46, 47, 48, 49, 50, 51, 52, 53, 56, 57])\n",
      "Candidate 1 (orange): array([66, 41, 42, 19, 54, 55, 24, 60])\n",
      "Candidate 2 (tan): array([17])\n",
      "Candidate 3 (olive): array([22, 58, 59, 61, 62, 63, 64, 65, 67, 68, 69, 70, 71, 72, 73, 74, 75,\n",
      "       76, 77, 78, 79, 80, 81, 82, 83, 84, 85, 86, 87, 88, 89])\n",
      "\n",
      "Limb 2\n",
      "Candidate 0 (orange): array([0, 1, 2, 3, 4, 5, 6, 7, 8])\n",
      "\n",
      "Limb 3\n",
      "Candidate 0 (palegreen): array([0])\n",
      "Candidate 1 (cadetblue): array([2, 3, 4])\n",
      "\n",
      "Limb 4\n",
      "Candidate 0 (sandybrown): array([0])\n",
      "Part 3: axon_subgraph_candidates = {0: [[0, 1, 2, 3, 4, 5, 6, 7, 8, 9, 10, 13, 14, 15, 16, 20, 21, 23, 25, 26, 27, 28, 29, 30, 31, 32, 33, 34, 35, 36, 37, 38, 39, 40, 43, 44, 45, 46, 47, 48, 49, 50, 51, 52, 53, 56, 57], [66, 41, 42, 19, 54, 55, 24, 60], [17], [22, 58, 59, 61, 62, 63, 64, 65, 67, 68, 69, 70, 71, 72, 73, 74, 75, 76, 77, 78, 79, 80, 81, 82, 83, 84, 85, 86, 87, 88, 89]], 2: [[0, 1, 2, 3, 4, 5, 6, 7, 8]], 3: [[0], [2, 3, 4]], 4: [[0]]}\n",
      "\n",
      "\n",
      " --- Working on limb 0, candidate # 0\n",
      "47 out of 47 branches are axons\n",
      "Axon percentage = 1.0\n",
      "curr_axon_angle_threshold = 95\n",
      "candidate_nodes = [ 0  1  2  3  4  5  6  7  8  9 10 11 13 14 15 16 20 21 23 25 26 27 28 29\n",
      " 30 31 32 33 34 35 36 37 38 39 40 43 44 45 46 47 48 49 50 51 52 53 56 57]\n",
      "non_axon_branches_on_subgraph = [11]\n",
      "endnodes_to_test = [6432]\n",
      "Skeleton paths distances = [24943.00441749]\n",
      "Filtered indexes = [0]\n",
      "len(filtered_skeletons) = 1\n",
      "sk_angles = [163.59387798]\n",
      "candidate_angles,restr_skels = (array([163.59387798]), [array([[[702079., 565047., 844212.],\n",
      "        [702165., 565196., 844236.]],\n",
      "\n",
      "       [[702165., 565196., 844236.],\n",
      "        [702226., 565312., 844249.]],\n",
      "\n",
      "       [[702226., 565312., 844249.],\n",
      "        [702273., 565412., 844256.]],\n",
      "\n",
      "       [[702273., 565412., 844256.],\n",
      "        [702326., 565535., 844261.]],\n",
      "\n",
      "       [[702326., 565535., 844261.],\n",
      "        [702366., 565651., 844266.]],\n",
      "\n",
      "       [[702366., 565651., 844266.],\n",
      "        [702412., 565807., 844264.]],\n",
      "\n",
      "       [[702412., 565807., 844264.],\n",
      "        [702467., 566004., 844260.]],\n",
      "\n",
      "       [[702467., 566004., 844260.],\n",
      "        [702489., 566091., 844259.]],\n",
      "\n",
      "       [[702489., 566091., 844259.],\n",
      "        [702522., 566229., 844260.]],\n",
      "\n",
      "       [[702522., 566229., 844260.],\n",
      "        [702542., 566342., 844263.]],\n",
      "\n",
      "       [[702542., 566342., 844263.],\n",
      "        [702565., 566465., 844265.]],\n",
      "\n",
      "       [[702565., 566465., 844265.],\n",
      "        [702583., 566571., 844267.]],\n",
      "\n",
      "       [[702583., 566571., 844267.],\n",
      "        [702601., 566678., 844266.]],\n",
      "\n",
      "       [[702601., 566678., 844266.],\n",
      "        [702621., 566818., 844275.]],\n",
      "\n",
      "       [[702621., 566818., 844275.],\n",
      "        [702641., 566948., 844287.]],\n",
      "\n",
      "       [[702641., 566948., 844287.],\n",
      "        [702658., 567066., 844290.]],\n",
      "\n",
      "       [[702658., 567066., 844290.],\n",
      "        [702677., 567193., 844299.]],\n",
      "\n",
      "       [[702677., 567193., 844299.],\n",
      "        [702689., 567291., 844303.]],\n",
      "\n",
      "       [[702689., 567291., 844303.],\n",
      "        [702703., 567399., 844310.]],\n",
      "\n",
      "       [[702703., 567399., 844310.],\n",
      "        [702718., 567531., 844322.]],\n",
      "\n",
      "       [[702718., 567531., 844322.],\n",
      "        [702727., 567650., 844330.]],\n",
      "\n",
      "       [[702727., 567650., 844330.],\n",
      "        [702736., 567804., 844339.]],\n",
      "\n",
      "       [[702736., 567804., 844339.],\n",
      "        [702741., 567948., 844350.]],\n",
      "\n",
      "       [[702741., 567948., 844350.],\n",
      "        [702739., 568070., 844359.]],\n",
      "\n",
      "       [[702739., 568070., 844359.],\n",
      "        [702736., 568169., 844367.]],\n",
      "\n",
      "       [[702736., 568169., 844367.],\n",
      "        [702731., 568260., 844376.]],\n",
      "\n",
      "       [[702731., 568260., 844376.],\n",
      "        [702721., 568363., 844387.]],\n",
      "\n",
      "       [[702721., 568363., 844387.],\n",
      "        [702716., 568416., 844393.]],\n",
      "\n",
      "       [[702716., 568416., 844393.],\n",
      "        [702705., 568526., 844405.]],\n",
      "\n",
      "       [[702705., 568526., 844405.],\n",
      "        [702695., 568624., 844417.]],\n",
      "\n",
      "       [[702695., 568624., 844417.],\n",
      "        [702682., 568769., 844429.]],\n",
      "\n",
      "       [[702682., 568769., 844429.],\n",
      "        [702675., 568857., 844434.]],\n",
      "\n",
      "       [[702675., 568857., 844434.],\n",
      "        [702667., 569021., 844442.]],\n",
      "\n",
      "       [[702667., 569021., 844442.],\n",
      "        [702664., 569089., 844445.]],\n",
      "\n",
      "       [[702664., 569089., 844445.],\n",
      "        [702665., 569235., 844450.]],\n",
      "\n",
      "       [[702665., 569235., 844450.],\n",
      "        [702665., 569253., 844451.]],\n",
      "\n",
      "       [[702665., 569253., 844451.],\n",
      "        [702671., 569412., 844456.]],\n",
      "\n",
      "       [[702671., 569412., 844456.],\n",
      "        [702686., 569577., 844461.]],\n",
      "\n",
      "       [[702686., 569577., 844461.],\n",
      "        [702714., 569768., 844469.]],\n",
      "\n",
      "       [[702714., 569768., 844469.],\n",
      "        [702730., 569854., 844474.]],\n",
      "\n",
      "       [[702730., 569854., 844474.],\n",
      "        [702763., 569999., 844485.]],\n",
      "\n",
      "       [[702763., 569999., 844485.],\n",
      "        [702790., 570104., 844497.]],\n",
      "\n",
      "       [[702790., 570104., 844497.],\n",
      "        [702814., 570193., 844509.]],\n",
      "\n",
      "       [[702814., 570193., 844509.],\n",
      "        [702842., 570288., 844524.]],\n",
      "\n",
      "       [[702842., 570288., 844524.],\n",
      "        [702870., 570386., 844541.]],\n",
      "\n",
      "       [[702870., 570386., 844541.],\n",
      "        [702884., 570434., 844549.]],\n",
      "\n",
      "       [[702884., 570434., 844549.],\n",
      "        [702933., 570607., 844584.]],\n",
      "\n",
      "       [[702933., 570607., 844584.],\n",
      "        [702972., 570746., 844615.]],\n",
      "\n",
      "       [[702972., 570746., 844615.],\n",
      "        [703015., 570899., 844647.]],\n",
      "\n",
      "       [[703015., 570899., 844647.],\n",
      "        [703084., 571138., 844694.]],\n",
      "\n",
      "       [[703084., 571138., 844694.],\n",
      "        [703125., 571276., 844713.]],\n",
      "\n",
      "       [[703125., 571276., 844713.],\n",
      "        [703164., 571395., 844716.]],\n",
      "\n",
      "       [[703164., 571395., 844716.],\n",
      "        [703204., 571511., 844713.]],\n",
      "\n",
      "       [[703204., 571511., 844713.],\n",
      "        [703263., 571664., 844696.]],\n",
      "\n",
      "       [[703263., 571664., 844696.],\n",
      "        [703320., 571791., 844669.]],\n",
      "\n",
      "       [[703320., 571791., 844669.],\n",
      "        [703374., 571905., 844642.]],\n",
      "\n",
      "       [[703374., 571905., 844642.],\n",
      "        [703461., 572061., 844593.]],\n",
      "\n",
      "       [[703461., 572061., 844593.],\n",
      "        [703517., 572145., 844560.]],\n",
      "\n",
      "       [[703517., 572145., 844560.],\n",
      "        [703638., 572289., 844488.]],\n",
      "\n",
      "       [[703638., 572289., 844488.],\n",
      "        [703687., 572339., 844457.]],\n",
      "\n",
      "       [[703687., 572339., 844457.],\n",
      "        [703766., 572402., 844410.]],\n",
      "\n",
      "       [[703766., 572402., 844410.],\n",
      "        [703888., 572499., 844334.]],\n",
      "\n",
      "       [[703888., 572499., 844334.],\n",
      "        [704058., 572634., 844228.]],\n",
      "\n",
      "       [[704058., 572634., 844228.],\n",
      "        [704076., 572649., 844217.]],\n",
      "\n",
      "       [[704076., 572649., 844217.],\n",
      "        [704187., 572743., 844146.]],\n",
      "\n",
      "       [[704187., 572743., 844146.],\n",
      "        [704298., 572847., 844075.]],\n",
      "\n",
      "       [[704298., 572847., 844075.],\n",
      "        [704392., 572945., 844016.]],\n",
      "\n",
      "       [[704392., 572945., 844016.],\n",
      "        [704469., 573045., 843971.]],\n",
      "\n",
      "       [[704469., 573045., 843971.],\n",
      "        [704552., 573190., 843928.]],\n",
      "\n",
      "       [[704552., 573190., 843928.],\n",
      "        [704612., 573342., 843907.]],\n",
      "\n",
      "       [[704612., 573342., 843907.],\n",
      "        [704631., 573402., 843904.]],\n",
      "\n",
      "       [[704631., 573402., 843904.],\n",
      "        [704655., 573484., 843902.]],\n",
      "\n",
      "       [[704655., 573484., 843902.],\n",
      "        [704683., 573628., 843913.]],\n",
      "\n",
      "       [[704683., 573628., 843913.],\n",
      "        [704699., 573710., 843920.]],\n",
      "\n",
      "       [[704699., 573710., 843920.],\n",
      "        [704716., 573816., 843936.]],\n",
      "\n",
      "       [[704716., 573816., 843936.],\n",
      "        [704745., 574008., 843970.]],\n",
      "\n",
      "       [[704745., 574008., 843970.],\n",
      "        [704749., 574030., 843975.]],\n",
      "\n",
      "       [[704749., 574030., 843975.],\n",
      "        [704761., 574116., 843997.]],\n",
      "\n",
      "       [[704761., 574116., 843997.],\n",
      "        [704777., 574231., 844031.]]])])\n"
     ]
    },
    {
     "name": "stdout",
     "output_type": "stream",
     "text": [
      "base_final_widths = [248.41220181 271.5684781  470.27320695]\n",
      "overall_ais_width = 248.41220180752234\n",
      "ais_width = 330.08462895371656\n",
      "Adding the following branches as true axons: [ 0  1  2  3  4  5  6  7  8  9 10 13 14 15 16 20 21 23 25 26 27 28 29 30\n",
      " 31 32 33 34 35 36 37 38 39 40 43 44 45 46 47 48 49 50 51 52 53 56 57]\n",
      "curr_soma_angle = 159.6\n",
      "max_axon_angle = 163.59387798389457\n",
      "Changing to a better axon candidate\n",
      "\n",
      "\n",
      " --- Working on limb 0, candidate # 1\n",
      "6 out of 8 branches are axons\n",
      "Axon percentage = 0.75\n",
      "curr_axon_angle_threshold = 120\n",
      "candidate_nodes = [11 12 19 24 41 42 54 55 60 66]\n",
      "non_axon_branches_on_subgraph = [11 12 19 55]\n",
      "endnodes_to_test = []\n",
      "candidate_angles,restr_skels = (None, None)\n",
      "Not adding candidate because no angles (None) passed the threhold 120 \n",
      "\n",
      "\n",
      " --- Working on limb 0, candidate # 2\n",
      "0 out of 1 branches are axons\n",
      "Axon percentage = 0.0\n",
      "Not adding candidate no axon branches detected \n",
      "\n",
      "\n",
      " --- Working on limb 0, candidate # 3\n",
      "28 out of 31 branches are axons\n",
      "Axon percentage = 0.9032258064516129\n",
      "curr_axon_angle_threshold = 95\n",
      "candidate_nodes = [11 12 18 22 58 59 61 62 63 64 65 67 68 69 70 71 72 73 74 75 76 77 78 79\n",
      " 80 81 82 83 84 85 86 87 88 89]\n",
      "non_axon_branches_on_subgraph = [11 12 18 22 58 59]\n",
      "endnodes_to_test = []\n",
      "candidate_angles,restr_skels = (None, None)\n",
      "Not adding candidate because no angles (None) passed the threhold 95 \n",
      "\n",
      "\n",
      " --- Working on limb 2, candidate # 0\n",
      "0 out of 9 branches are axons\n",
      "Axon percentage = 0.0\n",
      "Not adding candidate no axon branches detected \n",
      "\n",
      "\n",
      " --- Working on limb 3, candidate # 0\n",
      "0 out of 1 branches are axons\n",
      "Axon percentage = 0.0\n",
      "Not adding candidate no axon branches detected \n",
      "\n",
      "\n",
      " --- Working on limb 3, candidate # 1\n",
      "0 out of 3 branches are axons\n",
      "Axon percentage = 0.0\n",
      "Not adding candidate no axon branches detected \n",
      "\n",
      "\n",
      " --- Working on limb 4, candidate # 0\n",
      "0 out of 1 branches are axons\n",
      "Axon percentage = 0.0\n",
      "Not adding candidate no axon branches detected \n",
      "Using the best axon approach\n",
      "Using True\n",
      "Limb L0: Axon branches before dendritic path filter = [ 0  1  2  3  4  5  6  7  8  9 10 13 14 15 16 20 21 23 25 26 27 28 29 30\n",
      " 31 32 33 34 35 36 37 38 39 40 43 44 45 46 47 48 49 50 51 52 53 56 57]\n",
      "Limb L0: Axon branches AFTER dendritic path filter = [ 0  1  2  3  4  5  6  7  8  9 10 13 14 15 16 20 21 23 25 26 27 28 29 30\n",
      " 31 32 33 34 35 36 37 38 39 40 43 44 45 46 47 48 49 50 51 52 53 56 57]\n",
      "\n",
      "\n",
      "Part 4: final_true_axons = {'L0': array([ 0,  1,  2,  3,  4,  5,  6,  7,  8,  9, 10, 13, 14, 15, 16, 20, 21,\n",
      "       23, 25, 26, 27, 28, 29, 30, 31, 32, 33, 34, 35, 36, 37, 38, 39, 40,\n",
      "       43, 44, 45, 46, 47, 48, 49, 50, 51, 52, 53, 56, 57])}\n",
      "\n",
      "--- Working on filter 0:\n",
      "function = dendrite_on_axon_merges\n",
      "function __name__ = filter_away_dendrite_on_axon_merges\n",
      "function arguments = {'use_pre_existing_axon_labels': True}\n",
      "\n",
      "\n",
      "\n",
      "\n",
      "\n",
      " ---- Total time for applying filter: 0.44491147994995117 -----\n",
      "Starting axon branch was not the limb starting node so generating border vertices and computing upstream branch\n",
      "upstream_node_to_axon_starting_branch = 11\n",
      "root_curr = [701071.8 558185.8 844701.1]\n",
      "Time for preparing soma vertices and root: 0.010759115219116211\n",
      "invalidation_d = 2000\n",
      "cc_vertex_thresh = 10\n"
     ]
    },
    {
     "name": "stderr",
     "output_type": "stream",
     "text": [
      "\r",
      "  0%|          | 0/1 [00:00<?, ?it/s]"
     ]
    },
    {
     "data": {
      "application/vnd.jupyter.widget-view+json": {
       "model_id": "e589d7595d4d45ed92d5805a60402281",
       "version_major": 2,
       "version_minor": 0
      },
      "text/plain": [
       "  0%|          | 0/86008 [00:00<?, ?it/s]"
      ]
     },
     "metadata": {},
     "output_type": "display_data"
    },
    {
     "name": "stderr",
     "output_type": "stream",
     "text": [
      "100%|██████████| 1/1 [00:05<00:00,  5.46s/it]\n"
     ]
    },
    {
     "name": "stdout",
     "output_type": "stream",
     "text": [
      "meshparty_segment_size = 100\n",
      "Time for 1st pass MP skeletonization: 7.845968246459961\n",
      "connecting at the root\n",
      "branches_touching_root = [150]\n",
      "combining close nodes\n",
      "combine_threshold = 1300\n",
      "length of Graph = 20629\n",
      "After combining close endpoints max(kept_branches_idx) = 150, len(kept_branches_idx) = 141\n",
      "empty_indices % = 0.0\n",
      " conflict_indices % = 0.013555209481647389\n"
     ]
    },
    {
     "data": {
      "application/vnd.jupyter.widget-view+json": {
       "model_id": "0f6ac9e386f1476980c5b74f1a776146",
       "version_major": 2,
       "version_minor": 0
      },
      "text/plain": [
       "  0%|          | 0/66 [00:00<?, ?it/s]"
      ]
     },
     "metadata": {},
     "output_type": "display_data"
    },
    {
     "name": "stdout",
     "output_type": "stream",
     "text": [
      "AFTER face_lookup_resolved_test\n"
     ]
    },
    {
     "data": {
      "application/vnd.jupyter.widget-view+json": {
       "model_id": "4b7731893ffc4ea093b440f64b8eb4be",
       "version_major": 2,
       "version_minor": 0
      },
      "text/plain": [
       "  0%|          | 0/141 [00:00<?, ?it/s]"
      ]
     },
     "metadata": {},
     "output_type": "display_data"
    },
    {
     "name": "stdout",
     "output_type": "stream",
     "text": [
      "Decomposing first pass: 33.48136115074158\n",
      "Only Using MeshParty Skeletonization and Mesh Correspondence\n",
      "Another print\n",
      "Divinding into MP and MAP pieces: 0.00019240379333496094\n",
      "Total time for MAP sublimb processing 5.7220458984375e-06\n",
      "---- Working on MP Decomposition #0 ----\n",
      "Using Quicker soma_to_piece_touching_vertices because no MAP and only one sublimb_mesh piece \n",
      "MP filtering soma verts: 0.0002903938293457031\n",
      "Fixing Possible Soma Extension Branch for Sublimb 0\n",
      "Total time for mesh KDTree = 0.12596988677978516\n",
      "sbv[0].reshape(-1,3) = [[701071.8 558185.8 844701.1]]\n",
      "closest_sk_pt_coord BEFORE = [701910.20377647 558216.79980675 844931.73579235]\n",
      "current_skeleton.shape = (233, 2, 3)\n",
      "node_for_stitch = 76: [701910.20377647 558216.79980675 844931.73579235]\n",
      "node_for_stitch AFTER = 76: [701910.20377647 558216.79980675 844931.73579235]\n",
      "possible_node_loc = [ 80 233]\n",
      "possible_node_loc AFTER = [ 80 233]\n",
      "curr_shortest_path = [76, 77.0, 78.0, 80.0]\n",
      "Current stitch point was not a branch or endpoint, shortest_path_length to one = 299.9971476866335\n",
      "Changing the stitch point becasue the distance to end or branch node was 299.9971476866335\n",
      "New stitch point has degree 1\n",
      "change_status for create soma extending pieces = True\n",
      "closest_sk_pt_coord AFTER = [701974.02210043 557925.71224389 844966.05552077]\n",
      "skipping soma 0 because closest skeleton node was already end node\n",
      "endpoints_must_keep = {0: array([[701974.02210043, 557925.71224389, 844966.05552077]])}\n",
      "match_sk_branches = [140]\n",
      "The new branch info was none so skipping \n",
      "\n",
      "No soma extending branch was added for this sublimb even though it had a soma border (means they already existed)\n",
      "MP (because soma touching verts) soma extension add: 13.279519319534302\n",
      "There were not both MAP and MP pieces so skipping the stitch resolving phase\n",
      "Time for decomp of Limb = 56.84247708320618\n",
      "Number of matching vertices = 25\n",
      "Only one endpoint after filtering away the endpoints that are not on the skeleton\n",
      "Using Distance measure skeletal_distance\n",
      "endpoints_must_keep = [[701974.02210043 557925.71224389 844966.05552077]]\n",
      "Number of end_nodes BEFORE filtering = 78\n",
      "all_single_nodes_to_eliminate = [19]\n"
     ]
    },
    {
     "data": {
      "application/vnd.jupyter.widget-view+json": {
       "model_id": "920c115df004404795d9a8bd27aad443",
       "version_major": 2,
       "version_minor": 0
      },
      "text/plain": [
       "  0%|          | 0/10 [00:00<?, ?it/s]"
      ]
     },
     "metadata": {},
     "output_type": "display_data"
    },
    {
     "name": "stdout",
     "output_type": "stream",
     "text": [
      "Removed 10 skeletal branches\n"
     ]
    },
    {
     "data": {
      "application/vnd.jupyter.widget-view+json": {
       "model_id": "3002acea60494f518e501dc4758727cb",
       "version_major": 2,
       "version_minor": 0
      },
      "text/plain": [
       "  0%|          | 0/141 [00:00<?, ?it/s]"
      ]
     },
     "metadata": {},
     "output_type": "display_data"
    },
    {
     "name": "stdout",
     "output_type": "stream",
     "text": [
      "171647 171648\n",
      "For marked faces: None\n",
      "empty_indices % = 0.0\n",
      " conflict_indices % = 0.0\n"
     ]
    },
    {
     "data": {
      "application/vnd.jupyter.widget-view+json": {
       "model_id": "73acd7385eae404e9f0f626f9ec93238",
       "version_major": 2,
       "version_minor": 0
      },
      "text/plain": [
       "0it [00:00, ?it/s]"
      ]
     },
     "metadata": {},
     "output_type": "display_data"
    },
    {
     "name": "stdout",
     "output_type": "stream",
     "text": [
      "AFTER face_lookup_resolved_test\n"
     ]
    },
    {
     "data": {
      "application/vnd.jupyter.widget-view+json": {
       "model_id": "6084684ed96c499c8074b2f752b2c0dc",
       "version_major": 2,
       "version_minor": 0
      },
      "text/plain": [
       "  0%|          | 0/121 [00:00<?, ?it/s]"
      ]
     },
     "metadata": {},
     "output_type": "display_data"
    },
    {
     "name": "stdout",
     "output_type": "stream",
     "text": [
      "Limb Correspondence before stitching = 121\n",
      "Limb Correspondence AFTER stitching = 121\n",
      "Readjusting starting axon branch skeleton\n",
      "Fixing the axon starting branch endpoint to align with upstream branch\n",
      "Starting Branch 31 skeleton before fix: (233, 2, 3)\n",
      "Starting Branch 31 skeleton AFTER fix: (234, 2, 3)\n",
      "concept_network_dict = {0: [<networkx_utils.GraphOrderedEdges object at 0x7f44700cb198>]}\n",
      "Assigning the old width calculation because no valid new widths\n",
      "\n",
      "\n",
      "----Working on seperate_graph 0----\n",
      "\n",
      "\n",
      "---------Working on soma_idx = 0, soma_group_idx 0, endpt = [702542.12463768 557699.45507246 845460.10724638]---------\n",
      "Starting_edge inside branches_to_conept = [[702542.12463768 557699.45507246 845460.10724638]\n",
      " [702680.         557097.         845505.        ]]\n",
      "At the start, starting_node (in terms of the skeleton, that shouldn't match the starting edge) = [31]\n",
      "printing out current edge:\n",
      "[[702542.12463768 557699.45507246 845460.10724638]\n",
      " [702680.         557097.         845505.        ]]\n",
      "edge_endpoints_to_process was empty so exiting loop after 164 iterations\n",
      "starting_node in concept map (that should match the starting edge) = 121\n",
      "Total time for branches to concept conversion = 2.4933345317840576\n",
      "\n",
      "Done generating concept network \n",
      "\n",
      "\n"
     ]
    },
    {
     "data": {
      "application/vnd.jupyter.widget-view+json": {
       "model_id": "fce73b9e75d64f8581d53a24e81ad1e2",
       "version_major": 2,
       "version_minor": 0
      },
      "text/plain": [
       "  0%|          | 0/104 [00:00<?, ?it/s]"
      ]
     },
     "metadata": {},
     "output_type": "display_data"
    },
    {
     "data": {
      "application/vnd.jupyter.widget-view+json": {
       "model_id": "0b13668448e64ea9bbeb687453129054",
       "version_major": 2,
       "version_minor": 0
      },
      "text/plain": [
       "  0%|          | 0/8 [00:00<?, ?it/s]"
      ]
     },
     "metadata": {},
     "output_type": "display_data"
    },
    {
     "data": {
      "application/vnd.jupyter.widget-view+json": {
       "model_id": "27834b1e99984c959e4ad6c8bee9d134",
       "version_major": 2,
       "version_minor": 0
      },
      "text/plain": [
       "  0%|          | 0/5 [00:00<?, ?it/s]"
      ]
     },
     "metadata": {},
     "output_type": "display_data"
    },
    {
     "data": {
      "application/vnd.jupyter.widget-view+json": {
       "model_id": "a3cbab4493d64ad7a2564b06f5dc5590",
       "version_major": 2,
       "version_minor": 0
      },
      "text/plain": [
       "  0%|          | 0/7 [00:00<?, ?it/s]"
      ]
     },
     "metadata": {},
     "output_type": "display_data"
    },
    {
     "data": {
      "application/vnd.jupyter.widget-view+json": {
       "model_id": "6bf506685f9946518a9f33ca94b39963",
       "version_major": 2,
       "version_minor": 0
      },
      "text/plain": [
       "  0%|          | 0/4 [00:00<?, ?it/s]"
      ]
     },
     "metadata": {},
     "output_type": "display_data"
    },
    {
     "data": {
      "application/vnd.jupyter.widget-view+json": {
       "model_id": "9a3b9905726244fca7b3acf73b0c32e5",
       "version_major": 2,
       "version_minor": 0
      },
      "text/plain": [
       "  0%|          | 0/23 [00:00<?, ?it/s]"
      ]
     },
     "metadata": {},
     "output_type": "display_data"
    },
    {
     "data": {
      "application/vnd.jupyter.widget-view+json": {
       "model_id": "1dc6de87c6cd4497954fc64696b8349c",
       "version_major": 2,
       "version_minor": 0
      },
      "text/plain": [
       "  0%|          | 0/3 [00:00<?, ?it/s]"
      ]
     },
     "metadata": {},
     "output_type": "display_data"
    },
    {
     "data": {
      "application/vnd.jupyter.widget-view+json": {
       "model_id": "4f663d6216c046c08c1e25ce8b3ba157",
       "version_major": 2,
       "version_minor": 0
      },
      "text/plain": [
       "  0%|          | 0/13 [00:00<?, ?it/s]"
      ]
     },
     "metadata": {},
     "output_type": "display_data"
    },
    {
     "data": {
      "application/vnd.jupyter.widget-view+json": {
       "model_id": "a214f24cfb28413999af2b916b0d29c7",
       "version_major": 2,
       "version_minor": 0
      },
      "text/plain": [
       "  0%|          | 0/13 [00:00<?, ?it/s]"
      ]
     },
     "metadata": {},
     "output_type": "display_data"
    },
    {
     "data": {
      "application/vnd.jupyter.widget-view+json": {
       "model_id": "e2ebaa57084346c084d4f2f9b7b3cd59",
       "version_major": 2,
       "version_minor": 0
      },
      "text/plain": [
       "  0%|          | 0/2 [00:00<?, ?it/s]"
      ]
     },
     "metadata": {},
     "output_type": "display_data"
    },
    {
     "data": {
      "application/vnd.jupyter.widget-view+json": {
       "model_id": "086e1f2acc65490592d28eb5711fd97b",
       "version_major": 2,
       "version_minor": 0
      },
      "text/plain": [
       "  0%|          | 0/4 [00:00<?, ?it/s]"
      ]
     },
     "metadata": {},
     "output_type": "display_data"
    },
    {
     "data": {
      "application/vnd.jupyter.widget-view+json": {
       "model_id": "4408843107694f48ac07d933aa3ad010",
       "version_major": 2,
       "version_minor": 0
      },
      "text/plain": [
       "  0%|          | 0/29 [00:00<?, ?it/s]"
      ]
     },
     "metadata": {},
     "output_type": "display_data"
    },
    {
     "data": {
      "application/vnd.jupyter.widget-view+json": {
       "model_id": "fef916cc29ee43b5862f01e1a54b35be",
       "version_major": 2,
       "version_minor": 0
      },
      "text/plain": [
       "  0%|          | 0/8 [00:00<?, ?it/s]"
      ]
     },
     "metadata": {},
     "output_type": "display_data"
    },
    {
     "data": {
      "application/vnd.jupyter.widget-view+json": {
       "model_id": "8e34c7073e8f4187b74a9c036692c54f",
       "version_major": 2,
       "version_minor": 0
      },
      "text/plain": [
       "  0%|          | 0/6 [00:00<?, ?it/s]"
      ]
     },
     "metadata": {},
     "output_type": "display_data"
    },
    {
     "data": {
      "application/vnd.jupyter.widget-view+json": {
       "model_id": "68d3263927a74093a2fca7751af21784",
       "version_major": 2,
       "version_minor": 0
      },
      "text/plain": [
       "  0%|          | 0/38 [00:00<?, ?it/s]"
      ]
     },
     "metadata": {},
     "output_type": "display_data"
    },
    {
     "data": {
      "application/vnd.jupyter.widget-view+json": {
       "model_id": "c73097de89c34a6b809ee893e762c220",
       "version_major": 2,
       "version_minor": 0
      },
      "text/plain": [
       "  0%|          | 0/8 [00:00<?, ?it/s]"
      ]
     },
     "metadata": {},
     "output_type": "display_data"
    },
    {
     "data": {
      "application/vnd.jupyter.widget-view+json": {
       "model_id": "c44a7bdb8457480c84c60386d111dbd2",
       "version_major": 2,
       "version_minor": 0
      },
      "text/plain": [
       "  0%|          | 0/56 [00:00<?, ?it/s]"
      ]
     },
     "metadata": {},
     "output_type": "display_data"
    },
    {
     "data": {
      "application/vnd.jupyter.widget-view+json": {
       "model_id": "a910d8732886414ba5423d24ba830b4a",
       "version_major": 2,
       "version_minor": 0
      },
      "text/plain": [
       "  0%|          | 0/9 [00:00<?, ?it/s]"
      ]
     },
     "metadata": {},
     "output_type": "display_data"
    },
    {
     "data": {
      "application/vnd.jupyter.widget-view+json": {
       "model_id": "048694d39d0044868a3441542702fef3",
       "version_major": 2,
       "version_minor": 0
      },
      "text/plain": [
       "  0%|          | 0/10 [00:00<?, ?it/s]"
      ]
     },
     "metadata": {},
     "output_type": "display_data"
    },
    {
     "data": {
      "application/vnd.jupyter.widget-view+json": {
       "model_id": "6ced69c992a6494eaaa01541880c7f84",
       "version_major": 2,
       "version_minor": 0
      },
      "text/plain": [
       "  0%|          | 0/10 [00:00<?, ?it/s]"
      ]
     },
     "metadata": {},
     "output_type": "display_data"
    },
    {
     "data": {
      "application/vnd.jupyter.widget-view+json": {
       "model_id": "82ba8b301ed9429eae631f0e883be076",
       "version_major": 2,
       "version_minor": 0
      },
      "text/plain": [
       "  0%|          | 0/2 [00:00<?, ?it/s]"
      ]
     },
     "metadata": {},
     "output_type": "display_data"
    },
    {
     "data": {
      "application/vnd.jupyter.widget-view+json": {
       "model_id": "4c08dbd38d8b489f935ce6bb8090eb5d",
       "version_major": 2,
       "version_minor": 0
      },
      "text/plain": [
       "  0%|          | 0/8 [00:00<?, ?it/s]"
      ]
     },
     "metadata": {},
     "output_type": "display_data"
    },
    {
     "data": {
      "application/vnd.jupyter.widget-view+json": {
       "model_id": "e736cdd0deb341e098614d725f01c4c1",
       "version_major": 2,
       "version_minor": 0
      },
      "text/plain": [
       "  0%|          | 0/25 [00:00<?, ?it/s]"
      ]
     },
     "metadata": {},
     "output_type": "display_data"
    },
    {
     "data": {
      "application/vnd.jupyter.widget-view+json": {
       "model_id": "5b4c8e081b7344cc9ef82c071392f81a",
       "version_major": 2,
       "version_minor": 0
      },
      "text/plain": [
       "  0%|          | 0/3 [00:00<?, ?it/s]"
      ]
     },
     "metadata": {},
     "output_type": "display_data"
    },
    {
     "data": {
      "application/vnd.jupyter.widget-view+json": {
       "model_id": "f72bc1f81fc047eabc07726c9760b12d",
       "version_major": 2,
       "version_minor": 0
      },
      "text/plain": [
       "  0%|          | 0/49 [00:00<?, ?it/s]"
      ]
     },
     "metadata": {},
     "output_type": "display_data"
    },
    {
     "data": {
      "application/vnd.jupyter.widget-view+json": {
       "model_id": "6ae1d72d3e9b49e998288c089da95467",
       "version_major": 2,
       "version_minor": 0
      },
      "text/plain": [
       "  0%|          | 0/25 [00:00<?, ?it/s]"
      ]
     },
     "metadata": {},
     "output_type": "display_data"
    },
    {
     "data": {
      "application/vnd.jupyter.widget-view+json": {
       "model_id": "12250c202cbd4724af0c67bafaa1f6f3",
       "version_major": 2,
       "version_minor": 0
      },
      "text/plain": [
       "  0%|          | 0/7 [00:00<?, ?it/s]"
      ]
     },
     "metadata": {},
     "output_type": "display_data"
    },
    {
     "data": {
      "application/vnd.jupyter.widget-view+json": {
       "model_id": "c5dcbb4ea16348448babce04342f449b",
       "version_major": 2,
       "version_minor": 0
      },
      "text/plain": [
       "  0%|          | 0/12 [00:00<?, ?it/s]"
      ]
     },
     "metadata": {},
     "output_type": "display_data"
    },
    {
     "data": {
      "application/vnd.jupyter.widget-view+json": {
       "model_id": "053f685aa0c74d00b5326bf730b5c7dc",
       "version_major": 2,
       "version_minor": 0
      },
      "text/plain": [
       "  0%|          | 0/6 [00:00<?, ?it/s]"
      ]
     },
     "metadata": {},
     "output_type": "display_data"
    },
    {
     "data": {
      "application/vnd.jupyter.widget-view+json": {
       "model_id": "a1ab22824586479197b9b1b2e393e497",
       "version_major": 2,
       "version_minor": 0
      },
      "text/plain": [
       "  0%|          | 0/14 [00:00<?, ?it/s]"
      ]
     },
     "metadata": {},
     "output_type": "display_data"
    },
    {
     "data": {
      "application/vnd.jupyter.widget-view+json": {
       "model_id": "7a8028246aee4ff480eef0e6316459c6",
       "version_major": 2,
       "version_minor": 0
      },
      "text/plain": [
       "  0%|          | 0/7 [00:00<?, ?it/s]"
      ]
     },
     "metadata": {},
     "output_type": "display_data"
    },
    {
     "data": {
      "application/vnd.jupyter.widget-view+json": {
       "model_id": "2d88c56003ee48a78d4a2240695585ac",
       "version_major": 2,
       "version_minor": 0
      },
      "text/plain": [
       "  0%|          | 0/17 [00:00<?, ?it/s]"
      ]
     },
     "metadata": {},
     "output_type": "display_data"
    },
    {
     "data": {
      "application/vnd.jupyter.widget-view+json": {
       "model_id": "50080c35438a4a5a90db2b3ccd549a62",
       "version_major": 2,
       "version_minor": 0
      },
      "text/plain": [
       "  0%|          | 0/36 [00:00<?, ?it/s]"
      ]
     },
     "metadata": {},
     "output_type": "display_data"
    },
    {
     "data": {
      "application/vnd.jupyter.widget-view+json": {
       "model_id": "6391abb22d464d3497677c2b6f0d4695",
       "version_major": 2,
       "version_minor": 0
      },
      "text/plain": [
       "  0%|          | 0/4 [00:00<?, ?it/s]"
      ]
     },
     "metadata": {},
     "output_type": "display_data"
    },
    {
     "data": {
      "application/vnd.jupyter.widget-view+json": {
       "model_id": "4770464db6ac4aeba6770b2b3f7de1c0",
       "version_major": 2,
       "version_minor": 0
      },
      "text/plain": [
       "  0%|          | 0/13 [00:00<?, ?it/s]"
      ]
     },
     "metadata": {},
     "output_type": "display_data"
    },
    {
     "data": {
      "application/vnd.jupyter.widget-view+json": {
       "model_id": "2f63871d8e7a434797f5e15427d12b15",
       "version_major": 2,
       "version_minor": 0
      },
      "text/plain": [
       "  0%|          | 0/8 [00:00<?, ?it/s]"
      ]
     },
     "metadata": {},
     "output_type": "display_data"
    },
    {
     "data": {
      "application/vnd.jupyter.widget-view+json": {
       "model_id": "9347a8ae8a0b4143a4cf09417e8e3877",
       "version_major": 2,
       "version_minor": 0
      },
      "text/plain": [
       "  0%|          | 0/10 [00:00<?, ?it/s]"
      ]
     },
     "metadata": {},
     "output_type": "display_data"
    },
    {
     "data": {
      "application/vnd.jupyter.widget-view+json": {
       "model_id": "60a2b57f7b834236af4c0ca2fb5d55bb",
       "version_major": 2,
       "version_minor": 0
      },
      "text/plain": [
       "  0%|          | 0/1 [00:00<?, ?it/s]"
      ]
     },
     "metadata": {},
     "output_type": "display_data"
    },
    {
     "data": {
      "application/vnd.jupyter.widget-view+json": {
       "model_id": "3293ca12e9654575a2cc32dff2fe024e",
       "version_major": 2,
       "version_minor": 0
      },
      "text/plain": [
       "  0%|          | 0/6 [00:00<?, ?it/s]"
      ]
     },
     "metadata": {},
     "output_type": "display_data"
    },
    {
     "data": {
      "application/vnd.jupyter.widget-view+json": {
       "model_id": "39e66b09c4e54d8a9f04ea9d3205cd7f",
       "version_major": 2,
       "version_minor": 0
      },
      "text/plain": [
       "  0%|          | 0/8 [00:00<?, ?it/s]"
      ]
     },
     "metadata": {},
     "output_type": "display_data"
    },
    {
     "data": {
      "application/vnd.jupyter.widget-view+json": {
       "model_id": "b585c0ce6aed4bc9a5fcc03d3ad50cd2",
       "version_major": 2,
       "version_minor": 0
      },
      "text/plain": [
       "  0%|          | 0/4 [00:00<?, ?it/s]"
      ]
     },
     "metadata": {},
     "output_type": "display_data"
    },
    {
     "data": {
      "application/vnd.jupyter.widget-view+json": {
       "model_id": "f56661e97c4743b196c18d913258f71d",
       "version_major": 2,
       "version_minor": 0
      },
      "text/plain": [
       "  0%|          | 0/10 [00:00<?, ?it/s]"
      ]
     },
     "metadata": {},
     "output_type": "display_data"
    },
    {
     "data": {
      "application/vnd.jupyter.widget-view+json": {
       "model_id": "7f04e0c11a264fec995ece843a546baa",
       "version_major": 2,
       "version_minor": 0
      },
      "text/plain": [
       "  0%|          | 0/4 [00:00<?, ?it/s]"
      ]
     },
     "metadata": {},
     "output_type": "display_data"
    },
    {
     "data": {
      "application/vnd.jupyter.widget-view+json": {
       "model_id": "a830b760177949188db68b95ad08db1a",
       "version_major": 2,
       "version_minor": 0
      },
      "text/plain": [
       "  0%|          | 0/2 [00:00<?, ?it/s]"
      ]
     },
     "metadata": {},
     "output_type": "display_data"
    },
    {
     "data": {
      "application/vnd.jupyter.widget-view+json": {
       "model_id": "7153596939c647d2aab4ca6e24943b91",
       "version_major": 2,
       "version_minor": 0
      },
      "text/plain": [
       "  0%|          | 0/84 [00:00<?, ?it/s]"
      ]
     },
     "metadata": {},
     "output_type": "display_data"
    },
    {
     "data": {
      "application/vnd.jupyter.widget-view+json": {
       "model_id": "496bc1e857414d61b5e14d7e7b093fc5",
       "version_major": 2,
       "version_minor": 0
      },
      "text/plain": [
       "  0%|          | 0/8 [00:00<?, ?it/s]"
      ]
     },
     "metadata": {},
     "output_type": "display_data"
    },
    {
     "data": {
      "application/vnd.jupyter.widget-view+json": {
       "model_id": "4565816edeb443ae8142b9937d6424ba",
       "version_major": 2,
       "version_minor": 0
      },
      "text/plain": [
       "  0%|          | 0/11 [00:00<?, ?it/s]"
      ]
     },
     "metadata": {},
     "output_type": "display_data"
    },
    {
     "data": {
      "application/vnd.jupyter.widget-view+json": {
       "model_id": "8c8bcdfc9ae447d2970cac6e2e9a074f",
       "version_major": 2,
       "version_minor": 0
      },
      "text/plain": [
       "  0%|          | 0/10 [00:00<?, ?it/s]"
      ]
     },
     "metadata": {},
     "output_type": "display_data"
    },
    {
     "data": {
      "application/vnd.jupyter.widget-view+json": {
       "model_id": "97e82b70159046ff9b513b79548daeab",
       "version_major": 2,
       "version_minor": 0
      },
      "text/plain": [
       "  0%|          | 0/8 [00:00<?, ?it/s]"
      ]
     },
     "metadata": {},
     "output_type": "display_data"
    },
    {
     "data": {
      "application/vnd.jupyter.widget-view+json": {
       "model_id": "82d912999f56489a9da4b39f3af635ec",
       "version_major": 2,
       "version_minor": 0
      },
      "text/plain": [
       "  0%|          | 0/7 [00:00<?, ?it/s]"
      ]
     },
     "metadata": {},
     "output_type": "display_data"
    },
    {
     "data": {
      "application/vnd.jupyter.widget-view+json": {
       "model_id": "792f3b8420f94116a923da89e3ce776d",
       "version_major": 2,
       "version_minor": 0
      },
      "text/plain": [
       "  0%|          | 0/4 [00:00<?, ?it/s]"
      ]
     },
     "metadata": {},
     "output_type": "display_data"
    },
    {
     "data": {
      "application/vnd.jupyter.widget-view+json": {
       "model_id": "8acd34a6f35d4ef180f47b4742ec42a3",
       "version_major": 2,
       "version_minor": 0
      },
      "text/plain": [
       "  0%|          | 0/12 [00:00<?, ?it/s]"
      ]
     },
     "metadata": {},
     "output_type": "display_data"
    },
    {
     "data": {
      "application/vnd.jupyter.widget-view+json": {
       "model_id": "8504b3713e554ed985ced48d068635d2",
       "version_major": 2,
       "version_minor": 0
      },
      "text/plain": [
       "  0%|          | 0/15 [00:00<?, ?it/s]"
      ]
     },
     "metadata": {},
     "output_type": "display_data"
    },
    {
     "data": {
      "application/vnd.jupyter.widget-view+json": {
       "model_id": "d4e6b2f8571d494db62ecf1f497d0197",
       "version_major": 2,
       "version_minor": 0
      },
      "text/plain": [
       "  0%|          | 0/4 [00:00<?, ?it/s]"
      ]
     },
     "metadata": {},
     "output_type": "display_data"
    },
    {
     "data": {
      "application/vnd.jupyter.widget-view+json": {
       "model_id": "a2ee876231434e28a92fc060d596d471",
       "version_major": 2,
       "version_minor": 0
      },
      "text/plain": [
       "  0%|          | 0/20 [00:00<?, ?it/s]"
      ]
     },
     "metadata": {},
     "output_type": "display_data"
    },
    {
     "data": {
      "application/vnd.jupyter.widget-view+json": {
       "model_id": "b30fbe0020f7486a8b089e1159da61ec",
       "version_major": 2,
       "version_minor": 0
      },
      "text/plain": [
       "  0%|          | 0/9 [00:00<?, ?it/s]"
      ]
     },
     "metadata": {},
     "output_type": "display_data"
    },
    {
     "data": {
      "application/vnd.jupyter.widget-view+json": {
       "model_id": "5f3bd6da68d4486a8af0ecf9c3640664",
       "version_major": 2,
       "version_minor": 0
      },
      "text/plain": [
       "  0%|          | 0/4 [00:00<?, ?it/s]"
      ]
     },
     "metadata": {},
     "output_type": "display_data"
    },
    {
     "data": {
      "application/vnd.jupyter.widget-view+json": {
       "model_id": "11a6e16aae9f481abafdf89dbd2f31fc",
       "version_major": 2,
       "version_minor": 0
      },
      "text/plain": [
       "  0%|          | 0/9 [00:00<?, ?it/s]"
      ]
     },
     "metadata": {},
     "output_type": "display_data"
    },
    {
     "data": {
      "application/vnd.jupyter.widget-view+json": {
       "model_id": "5b236e5e1953457e80050c93247ffe7d",
       "version_major": 2,
       "version_minor": 0
      },
      "text/plain": [
       "  0%|          | 0/11 [00:00<?, ?it/s]"
      ]
     },
     "metadata": {},
     "output_type": "display_data"
    },
    {
     "data": {
      "application/vnd.jupyter.widget-view+json": {
       "model_id": "78b5f83104af404290e6f46abbc8b08c",
       "version_major": 2,
       "version_minor": 0
      },
      "text/plain": [
       "  0%|          | 0/13 [00:00<?, ?it/s]"
      ]
     },
     "metadata": {},
     "output_type": "display_data"
    },
    {
     "data": {
      "application/vnd.jupyter.widget-view+json": {
       "model_id": "c34ecf3d120d42deb293df114c01564e",
       "version_major": 2,
       "version_minor": 0
      },
      "text/plain": [
       "  0%|          | 0/5 [00:00<?, ?it/s]"
      ]
     },
     "metadata": {},
     "output_type": "display_data"
    },
    {
     "data": {
      "application/vnd.jupyter.widget-view+json": {
       "model_id": "6a7c99ff23ac46ada55c79853b6abc0e",
       "version_major": 2,
       "version_minor": 0
      },
      "text/plain": [
       "  0%|          | 0/7 [00:00<?, ?it/s]"
      ]
     },
     "metadata": {},
     "output_type": "display_data"
    },
    {
     "data": {
      "application/vnd.jupyter.widget-view+json": {
       "model_id": "d3365cc709f340c9b58ebad536c1d0da",
       "version_major": 2,
       "version_minor": 0
      },
      "text/plain": [
       "  0%|          | 0/5 [00:00<?, ?it/s]"
      ]
     },
     "metadata": {},
     "output_type": "display_data"
    },
    {
     "data": {
      "application/vnd.jupyter.widget-view+json": {
       "model_id": "7f030a4426964ba682026f54a90bb8ab",
       "version_major": 2,
       "version_minor": 0
      },
      "text/plain": [
       "  0%|          | 0/5 [00:00<?, ?it/s]"
      ]
     },
     "metadata": {},
     "output_type": "display_data"
    },
    {
     "data": {
      "application/vnd.jupyter.widget-view+json": {
       "model_id": "de4616246f28471b90191048ba238636",
       "version_major": 2,
       "version_minor": 0
      },
      "text/plain": [
       "  0%|          | 0/15 [00:00<?, ?it/s]"
      ]
     },
     "metadata": {},
     "output_type": "display_data"
    },
    {
     "data": {
      "application/vnd.jupyter.widget-view+json": {
       "model_id": "1318ef19f3234bf9bb6d16ebbcd97fe5",
       "version_major": 2,
       "version_minor": 0
      },
      "text/plain": [
       "  0%|          | 0/28 [00:00<?, ?it/s]"
      ]
     },
     "metadata": {},
     "output_type": "display_data"
    },
    {
     "data": {
      "application/vnd.jupyter.widget-view+json": {
       "model_id": "9c6cb4c609e143aeae67b546ecf6962b",
       "version_major": 2,
       "version_minor": 0
      },
      "text/plain": [
       "  0%|          | 0/7 [00:00<?, ?it/s]"
      ]
     },
     "metadata": {},
     "output_type": "display_data"
    },
    {
     "data": {
      "application/vnd.jupyter.widget-view+json": {
       "model_id": "32b13c09532f46f78ee78187570a8604",
       "version_major": 2,
       "version_minor": 0
      },
      "text/plain": [
       "  0%|          | 0/19 [00:00<?, ?it/s]"
      ]
     },
     "metadata": {},
     "output_type": "display_data"
    },
    {
     "data": {
      "application/vnd.jupyter.widget-view+json": {
       "model_id": "f6d18986ff754908b75724c5d3216cfe",
       "version_major": 2,
       "version_minor": 0
      },
      "text/plain": [
       "  0%|          | 0/3 [00:00<?, ?it/s]"
      ]
     },
     "metadata": {},
     "output_type": "display_data"
    },
    {
     "data": {
      "application/vnd.jupyter.widget-view+json": {
       "model_id": "e3650cba110648c1a3ae1efaed811795",
       "version_major": 2,
       "version_minor": 0
      },
      "text/plain": [
       "  0%|          | 0/2 [00:00<?, ?it/s]"
      ]
     },
     "metadata": {},
     "output_type": "display_data"
    },
    {
     "data": {
      "application/vnd.jupyter.widget-view+json": {
       "model_id": "eec3db58b7e24408bd9958a93a397382",
       "version_major": 2,
       "version_minor": 0
      },
      "text/plain": [
       "  0%|          | 0/5 [00:00<?, ?it/s]"
      ]
     },
     "metadata": {},
     "output_type": "display_data"
    },
    {
     "data": {
      "application/vnd.jupyter.widget-view+json": {
       "model_id": "ae2b83b675e24cfc99b894e430bc8210",
       "version_major": 2,
       "version_minor": 0
      },
      "text/plain": [
       "  0%|          | 0/4 [00:00<?, ?it/s]"
      ]
     },
     "metadata": {},
     "output_type": "display_data"
    },
    {
     "data": {
      "application/vnd.jupyter.widget-view+json": {
       "model_id": "4faaeef44dec411ab3d41cfb8aa01399",
       "version_major": 2,
       "version_minor": 0
      },
      "text/plain": [
       "  0%|          | 0/7 [00:00<?, ?it/s]"
      ]
     },
     "metadata": {},
     "output_type": "display_data"
    },
    {
     "data": {
      "application/vnd.jupyter.widget-view+json": {
       "model_id": "72e4048afd1b43f3a7a3428cb2cc41f8",
       "version_major": 2,
       "version_minor": 0
      },
      "text/plain": [
       "  0%|          | 0/4 [00:00<?, ?it/s]"
      ]
     },
     "metadata": {},
     "output_type": "display_data"
    },
    {
     "data": {
      "application/vnd.jupyter.widget-view+json": {
       "model_id": "02f3589b6f3a49b4be62acc34d42df2e",
       "version_major": 2,
       "version_minor": 0
      },
      "text/plain": [
       "  0%|          | 0/6 [00:00<?, ?it/s]"
      ]
     },
     "metadata": {},
     "output_type": "display_data"
    },
    {
     "data": {
      "application/vnd.jupyter.widget-view+json": {
       "model_id": "dae7f7a3974e4c33a21955f5bdd8e5a0",
       "version_major": 2,
       "version_minor": 0
      },
      "text/plain": [
       "  0%|          | 0/5 [00:00<?, ?it/s]"
      ]
     },
     "metadata": {},
     "output_type": "display_data"
    },
    {
     "data": {
      "application/vnd.jupyter.widget-view+json": {
       "model_id": "c3fe165328d2416f96c68647ca845a66",
       "version_major": 2,
       "version_minor": 0
      },
      "text/plain": [
       "  0%|          | 0/9 [00:00<?, ?it/s]"
      ]
     },
     "metadata": {},
     "output_type": "display_data"
    },
    {
     "data": {
      "application/vnd.jupyter.widget-view+json": {
       "model_id": "2d131cdc79714280ac50e24558c4d647",
       "version_major": 2,
       "version_minor": 0
      },
      "text/plain": [
       "  0%|          | 0/8 [00:00<?, ?it/s]"
      ]
     },
     "metadata": {},
     "output_type": "display_data"
    },
    {
     "data": {
      "application/vnd.jupyter.widget-view+json": {
       "model_id": "a881bbdfe2a245a98bcb4c507de768fb",
       "version_major": 2,
       "version_minor": 0
      },
      "text/plain": [
       "  0%|          | 0/7 [00:00<?, ?it/s]"
      ]
     },
     "metadata": {},
     "output_type": "display_data"
    },
    {
     "data": {
      "application/vnd.jupyter.widget-view+json": {
       "model_id": "b178aa467ee74ab99807349fb5248c2c",
       "version_major": 2,
       "version_minor": 0
      },
      "text/plain": [
       "  0%|          | 0/7 [00:00<?, ?it/s]"
      ]
     },
     "metadata": {},
     "output_type": "display_data"
    },
    {
     "data": {
      "application/vnd.jupyter.widget-view+json": {
       "model_id": "e10f0eb857424ec8a105a48d55629480",
       "version_major": 2,
       "version_minor": 0
      },
      "text/plain": [
       "  0%|          | 0/10 [00:00<?, ?it/s]"
      ]
     },
     "metadata": {},
     "output_type": "display_data"
    },
    {
     "data": {
      "application/vnd.jupyter.widget-view+json": {
       "model_id": "49bb482a8c9d4479994a5b2432c8a3a7",
       "version_major": 2,
       "version_minor": 0
      },
      "text/plain": [
       "  0%|          | 0/9 [00:00<?, ?it/s]"
      ]
     },
     "metadata": {},
     "output_type": "display_data"
    },
    {
     "data": {
      "application/vnd.jupyter.widget-view+json": {
       "model_id": "5dda1b5232a244d19198847ef748488e",
       "version_major": 2,
       "version_minor": 0
      },
      "text/plain": [
       "  0%|          | 0/7 [00:00<?, ?it/s]"
      ]
     },
     "metadata": {},
     "output_type": "display_data"
    },
    {
     "data": {
      "application/vnd.jupyter.widget-view+json": {
       "model_id": "2302ac52d39d452c92db875ec1753131",
       "version_major": 2,
       "version_minor": 0
      },
      "text/plain": [
       "  0%|          | 0/10 [00:00<?, ?it/s]"
      ]
     },
     "metadata": {},
     "output_type": "display_data"
    },
    {
     "data": {
      "application/vnd.jupyter.widget-view+json": {
       "model_id": "ff2b35d52df04f43b0a175d85318e1f8",
       "version_major": 2,
       "version_minor": 0
      },
      "text/plain": [
       "  0%|          | 0/2 [00:00<?, ?it/s]"
      ]
     },
     "metadata": {},
     "output_type": "display_data"
    },
    {
     "data": {
      "application/vnd.jupyter.widget-view+json": {
       "model_id": "636987c87f2a4ec98040ea5758b509ca",
       "version_major": 2,
       "version_minor": 0
      },
      "text/plain": [
       "  0%|          | 0/10 [00:00<?, ?it/s]"
      ]
     },
     "metadata": {},
     "output_type": "display_data"
    },
    {
     "data": {
      "application/vnd.jupyter.widget-view+json": {
       "model_id": "c89081ba46ef4015a1dec3913320ea93",
       "version_major": 2,
       "version_minor": 0
      },
      "text/plain": [
       "  0%|          | 0/19 [00:00<?, ?it/s]"
      ]
     },
     "metadata": {},
     "output_type": "display_data"
    },
    {
     "data": {
      "application/vnd.jupyter.widget-view+json": {
       "model_id": "ad5bb51ad62141148abeb81a51ead94b",
       "version_major": 2,
       "version_minor": 0
      },
      "text/plain": [
       "  0%|          | 0/4 [00:00<?, ?it/s]"
      ]
     },
     "metadata": {},
     "output_type": "display_data"
    },
    {
     "data": {
      "application/vnd.jupyter.widget-view+json": {
       "model_id": "71e65571ff57474d8253391dd1fed936",
       "version_major": 2,
       "version_minor": 0
      },
      "text/plain": [
       "  0%|          | 0/8 [00:00<?, ?it/s]"
      ]
     },
     "metadata": {},
     "output_type": "display_data"
    },
    {
     "data": {
      "application/vnd.jupyter.widget-view+json": {
       "model_id": "79d506c4328e43f785fb765daf7583fc",
       "version_major": 2,
       "version_minor": 0
      },
      "text/plain": [
       "  0%|          | 0/16 [00:00<?, ?it/s]"
      ]
     },
     "metadata": {},
     "output_type": "display_data"
    },
    {
     "data": {
      "application/vnd.jupyter.widget-view+json": {
       "model_id": "8c854b3f8f8b448ea35c8eccd352f7e3",
       "version_major": 2,
       "version_minor": 0
      },
      "text/plain": [
       "  0%|          | 0/26 [00:00<?, ?it/s]"
      ]
     },
     "metadata": {},
     "output_type": "display_data"
    },
    {
     "data": {
      "application/vnd.jupyter.widget-view+json": {
       "model_id": "e70d6904562448b9ac6ee651090ee411",
       "version_major": 2,
       "version_minor": 0
      },
      "text/plain": [
       "  0%|          | 0/19 [00:00<?, ?it/s]"
      ]
     },
     "metadata": {},
     "output_type": "display_data"
    },
    {
     "data": {
      "application/vnd.jupyter.widget-view+json": {
       "model_id": "1c38de95ab074fd4b2a5a067d1f86f1d",
       "version_major": 2,
       "version_minor": 0
      },
      "text/plain": [
       "  0%|          | 0/5 [00:00<?, ?it/s]"
      ]
     },
     "metadata": {},
     "output_type": "display_data"
    },
    {
     "data": {
      "application/vnd.jupyter.widget-view+json": {
       "model_id": "a2f62a0a29ba4475bce435bd92219e3a",
       "version_major": 2,
       "version_minor": 0
      },
      "text/plain": [
       "  0%|          | 0/2 [00:00<?, ?it/s]"
      ]
     },
     "metadata": {},
     "output_type": "display_data"
    },
    {
     "data": {
      "application/vnd.jupyter.widget-view+json": {
       "model_id": "27faaf02e56b48debc519dd331f7c119",
       "version_major": 2,
       "version_minor": 0
      },
      "text/plain": [
       "  0%|          | 0/4 [00:00<?, ?it/s]"
      ]
     },
     "metadata": {},
     "output_type": "display_data"
    },
    {
     "data": {
      "application/vnd.jupyter.widget-view+json": {
       "model_id": "b9d7cbe6b3d1470c8718bc7475238a31",
       "version_major": 2,
       "version_minor": 0
      },
      "text/plain": [
       "  0%|          | 0/5 [00:00<?, ?it/s]"
      ]
     },
     "metadata": {},
     "output_type": "display_data"
    },
    {
     "data": {
      "application/vnd.jupyter.widget-view+json": {
       "model_id": "e91f09dd42ea46b79bc33d7e977bc80a",
       "version_major": 2,
       "version_minor": 0
      },
      "text/plain": [
       "  0%|          | 0/4 [00:00<?, ?it/s]"
      ]
     },
     "metadata": {},
     "output_type": "display_data"
    },
    {
     "data": {
      "application/vnd.jupyter.widget-view+json": {
       "model_id": "0c7b7b597b554d4fbffb2b427e6a5b89",
       "version_major": 2,
       "version_minor": 0
      },
      "text/plain": [
       "  0%|          | 0/6 [00:00<?, ?it/s]"
      ]
     },
     "metadata": {},
     "output_type": "display_data"
    },
    {
     "data": {
      "application/vnd.jupyter.widget-view+json": {
       "model_id": "ac66d8fcdcf24e6ea25e9f7bfdf06c4c",
       "version_major": 2,
       "version_minor": 0
      },
      "text/plain": [
       "  0%|          | 0/7 [00:00<?, ?it/s]"
      ]
     },
     "metadata": {},
     "output_type": "display_data"
    },
    {
     "data": {
      "application/vnd.jupyter.widget-view+json": {
       "model_id": "26c0db61ffc646a6b0269f51bb0e94bf",
       "version_major": 2,
       "version_minor": 0
      },
      "text/plain": [
       "  0%|          | 0/5 [00:00<?, ?it/s]"
      ]
     },
     "metadata": {},
     "output_type": "display_data"
    },
    {
     "data": {
      "application/vnd.jupyter.widget-view+json": {
       "model_id": "91db2d5cdcb54b0f9464894b8244842d",
       "version_major": 2,
       "version_minor": 0
      },
      "text/plain": [
       "  0%|          | 0/5 [00:00<?, ?it/s]"
      ]
     },
     "metadata": {},
     "output_type": "display_data"
    },
    {
     "data": {
      "application/vnd.jupyter.widget-view+json": {
       "model_id": "6a3ddeef8f1244cbb510d9a23ff341fc",
       "version_major": 2,
       "version_minor": 0
      },
      "text/plain": [
       "  0%|          | 0/20 [00:00<?, ?it/s]"
      ]
     },
     "metadata": {},
     "output_type": "display_data"
    },
    {
     "data": {
      "application/vnd.jupyter.widget-view+json": {
       "model_id": "5a07c06a2295439ea8fdb0a1783d9a6e",
       "version_major": 2,
       "version_minor": 0
      },
      "text/plain": [
       "  0%|          | 0/8 [00:00<?, ?it/s]"
      ]
     },
     "metadata": {},
     "output_type": "display_data"
    },
    {
     "data": {
      "application/vnd.jupyter.widget-view+json": {
       "model_id": "e6b8cfe05112431e8cb537c806afcb65",
       "version_major": 2,
       "version_minor": 0
      },
      "text/plain": [
       "  0%|          | 0/3 [00:00<?, ?it/s]"
      ]
     },
     "metadata": {},
     "output_type": "display_data"
    },
    {
     "data": {
      "application/vnd.jupyter.widget-view+json": {
       "model_id": "e1a9978123a14f3297ba6d2f50c0f2dc",
       "version_major": 2,
       "version_minor": 0
      },
      "text/plain": [
       "  0%|          | 0/34 [00:00<?, ?it/s]"
      ]
     },
     "metadata": {},
     "output_type": "display_data"
    },
    {
     "data": {
      "application/vnd.jupyter.widget-view+json": {
       "model_id": "3a5ed0fd417041c3ab3a48d8f52fa5c5",
       "version_major": 2,
       "version_minor": 0
      },
      "text/plain": [
       "  0%|          | 0/7 [00:00<?, ?it/s]"
      ]
     },
     "metadata": {},
     "output_type": "display_data"
    },
    {
     "data": {
      "application/vnd.jupyter.widget-view+json": {
       "model_id": "5ba37d3b76ab4e2b8ab08b91c92e496a",
       "version_major": 2,
       "version_minor": 0
      },
      "text/plain": [
       "  0%|          | 0/12 [00:00<?, ?it/s]"
      ]
     },
     "metadata": {},
     "output_type": "display_data"
    },
    {
     "data": {
      "application/vnd.jupyter.widget-view+json": {
       "model_id": "c745edcd24fc4e25a712b8c8ec7c278e",
       "version_major": 2,
       "version_minor": 0
      },
      "text/plain": [
       "  0%|          | 0/14 [00:00<?, ?it/s]"
      ]
     },
     "metadata": {},
     "output_type": "display_data"
    },
    {
     "data": {
      "application/vnd.jupyter.widget-view+json": {
       "model_id": "4eb62c333d404531bab234954d6429cd",
       "version_major": 2,
       "version_minor": 0
      },
      "text/plain": [
       "  0%|          | 0/16 [00:00<?, ?it/s]"
      ]
     },
     "metadata": {},
     "output_type": "display_data"
    },
    {
     "data": {
      "application/vnd.jupyter.widget-view+json": {
       "model_id": "9abf5ec3eb514dc9a5de7220e79bec20",
       "version_major": 2,
       "version_minor": 0
      },
      "text/plain": [
       "  0%|          | 0/51 [00:00<?, ?it/s]"
      ]
     },
     "metadata": {},
     "output_type": "display_data"
    },
    {
     "data": {
      "application/vnd.jupyter.widget-view+json": {
       "model_id": "109cd4f6b4374fe98b37794b505c6abe",
       "version_major": 2,
       "version_minor": 0
      },
      "text/plain": [
       "  0%|          | 0/5 [00:00<?, ?it/s]"
      ]
     },
     "metadata": {},
     "output_type": "display_data"
    },
    {
     "data": {
      "application/vnd.jupyter.widget-view+json": {
       "model_id": "6aea8446aec94e8fb12e40f540c1aa11",
       "version_major": 2,
       "version_minor": 0
      },
      "text/plain": [
       "  0%|          | 0/12 [00:00<?, ?it/s]"
      ]
     },
     "metadata": {},
     "output_type": "display_data"
    },
    {
     "data": {
      "application/vnd.jupyter.widget-view+json": {
       "model_id": "57d9f6f7cca94e7f9a178b3025b6b0ce",
       "version_major": 2,
       "version_minor": 0
      },
      "text/plain": [
       "  0%|          | 0/14 [00:00<?, ?it/s]"
      ]
     },
     "metadata": {},
     "output_type": "display_data"
    },
    {
     "data": {
      "application/vnd.jupyter.widget-view+json": {
       "model_id": "d655f233331d4b1ab26081c1ac5e48df",
       "version_major": 2,
       "version_minor": 0
      },
      "text/plain": [
       "  0%|          | 0/6 [00:00<?, ?it/s]"
      ]
     },
     "metadata": {},
     "output_type": "display_data"
    },
    {
     "data": {
      "application/vnd.jupyter.widget-view+json": {
       "model_id": "124068714e23476fa7b0034bd37d421e",
       "version_major": 2,
       "version_minor": 0
      },
      "text/plain": [
       "  0%|          | 0/17 [00:00<?, ?it/s]"
      ]
     },
     "metadata": {},
     "output_type": "display_data"
    },
    {
     "data": {
      "application/vnd.jupyter.widget-view+json": {
       "model_id": "64cd2656e9b7476ebad8f8f000eb2a23",
       "version_major": 2,
       "version_minor": 0
      },
      "text/plain": [
       "  0%|          | 0/10 [00:00<?, ?it/s]"
      ]
     },
     "metadata": {},
     "output_type": "display_data"
    },
    {
     "data": {
      "application/vnd.jupyter.widget-view+json": {
       "model_id": "94251945076142c2bd273dce205b1552",
       "version_major": 2,
       "version_minor": 0
      },
      "text/plain": [
       "  0%|          | 0/10 [00:00<?, ?it/s]"
      ]
     },
     "metadata": {},
     "output_type": "display_data"
    },
    {
     "data": {
      "application/vnd.jupyter.widget-view+json": {
       "model_id": "71e82d63150d4bbe8e7706ceed0bf16d",
       "version_major": 2,
       "version_minor": 0
      },
      "text/plain": [
       "  0%|          | 0/31 [00:00<?, ?it/s]"
      ]
     },
     "metadata": {},
     "output_type": "display_data"
    },
    {
     "data": {
      "application/vnd.jupyter.widget-view+json": {
       "model_id": "f9dbc5816c0a40bfb3215c23a35651f2",
       "version_major": 2,
       "version_minor": 0
      },
      "text/plain": [
       "  0%|          | 0/6 [00:00<?, ?it/s]"
      ]
     },
     "metadata": {},
     "output_type": "display_data"
    },
    {
     "data": {
      "application/vnd.jupyter.widget-view+json": {
       "model_id": "03da2967b83d4a6aaae15a9eef04f2bf",
       "version_major": 2,
       "version_minor": 0
      },
      "text/plain": [
       "  0%|          | 0/16 [00:00<?, ?it/s]"
      ]
     },
     "metadata": {},
     "output_type": "display_data"
    },
    {
     "data": {
      "application/vnd.jupyter.widget-view+json": {
       "model_id": "dfc2f91485c2498fb457e113799691b3",
       "version_major": 2,
       "version_minor": 0
      },
      "text/plain": [
       "  0%|          | 0/23 [00:00<?, ?it/s]"
      ]
     },
     "metadata": {},
     "output_type": "display_data"
    },
    {
     "data": {
      "application/vnd.jupyter.widget-view+json": {
       "model_id": "44549a84140442f4811fcb3069830058",
       "version_major": 2,
       "version_minor": 0
      },
      "text/plain": [
       "  0%|          | 0/16 [00:00<?, ?it/s]"
      ]
     },
     "metadata": {},
     "output_type": "display_data"
    },
    {
     "data": {
      "application/vnd.jupyter.widget-view+json": {
       "model_id": "7636f27bc787441b8802be8e9bb775a1",
       "version_major": 2,
       "version_minor": 0
      },
      "text/plain": [
       "  0%|          | 0/219 [00:00<?, ?it/s]"
      ]
     },
     "metadata": {},
     "output_type": "display_data"
    },
    {
     "data": {
      "application/vnd.jupyter.widget-view+json": {
       "model_id": "659c74906efa40368737c72551b84bdc",
       "version_major": 2,
       "version_minor": 0
      },
      "text/plain": [
       "  0%|          | 0/45 [00:00<?, ?it/s]"
      ]
     },
     "metadata": {},
     "output_type": "display_data"
    },
    {
     "data": {
      "application/vnd.jupyter.widget-view+json": {
       "model_id": "b916b4d0271040bbbe54d43050d3b205",
       "version_major": 2,
       "version_minor": 0
      },
      "text/plain": [
       "  0%|          | 0/5 [00:00<?, ?it/s]"
      ]
     },
     "metadata": {},
     "output_type": "display_data"
    },
    {
     "data": {
      "application/vnd.jupyter.widget-view+json": {
       "model_id": "02c6afa0401f4b6294d46ad95bb74cd5",
       "version_major": 2,
       "version_minor": 0
      },
      "text/plain": [
       "  0%|          | 0/10 [00:00<?, ?it/s]"
      ]
     },
     "metadata": {},
     "output_type": "display_data"
    },
    {
     "data": {
      "application/vnd.jupyter.widget-view+json": {
       "model_id": "b4e0a1cadf9b41ce89b7cc43f6e3f4b5",
       "version_major": 2,
       "version_minor": 0
      },
      "text/plain": [
       "  0%|          | 0/45 [00:00<?, ?it/s]"
      ]
     },
     "metadata": {},
     "output_type": "display_data"
    },
    {
     "data": {
      "application/vnd.jupyter.widget-view+json": {
       "model_id": "d81833eba092430eb4fa37a1e437ce26",
       "version_major": 2,
       "version_minor": 0
      },
      "text/plain": [
       "  0%|          | 0/75 [00:00<?, ?it/s]"
      ]
     },
     "metadata": {},
     "output_type": "display_data"
    },
    {
     "data": {
      "application/vnd.jupyter.widget-view+json": {
       "model_id": "2db3912cb16443138732f1c57f654dad",
       "version_major": 2,
       "version_minor": 0
      },
      "text/plain": [
       "  0%|          | 0/12 [00:00<?, ?it/s]"
      ]
     },
     "metadata": {},
     "output_type": "display_data"
    },
    {
     "data": {
      "application/vnd.jupyter.widget-view+json": {
       "model_id": "d31fe190e2224fd387687961f10bee77",
       "version_major": 2,
       "version_minor": 0
      },
      "text/plain": [
       "  0%|          | 0/13 [00:00<?, ?it/s]"
      ]
     },
     "metadata": {},
     "output_type": "display_data"
    },
    {
     "data": {
      "application/vnd.jupyter.widget-view+json": {
       "model_id": "8fb16160006d4702a5b61847953890a3",
       "version_major": 2,
       "version_minor": 0
      },
      "text/plain": [
       "  0%|          | 0/21 [00:00<?, ?it/s]"
      ]
     },
     "metadata": {},
     "output_type": "display_data"
    },
    {
     "data": {
      "application/vnd.jupyter.widget-view+json": {
       "model_id": "3e7cb053d0d74958b61b084550144fc3",
       "version_major": 2,
       "version_minor": 0
      },
      "text/plain": [
       "  0%|          | 0/59 [00:00<?, ?it/s]"
      ]
     },
     "metadata": {},
     "output_type": "display_data"
    },
    {
     "data": {
      "application/vnd.jupyter.widget-view+json": {
       "model_id": "7951727eee6a41149980d05a79832758",
       "version_major": 2,
       "version_minor": 0
      },
      "text/plain": [
       "  0%|          | 0/38 [00:00<?, ?it/s]"
      ]
     },
     "metadata": {},
     "output_type": "display_data"
    },
    {
     "data": {
      "application/vnd.jupyter.widget-view+json": {
       "model_id": "16d80f4c3daa4c36b4abb31ebfbd3d14",
       "version_major": 2,
       "version_minor": 0
      },
      "text/plain": [
       "  0%|          | 0/14 [00:00<?, ?it/s]"
      ]
     },
     "metadata": {},
     "output_type": "display_data"
    },
    {
     "data": {
      "application/vnd.jupyter.widget-view+json": {
       "model_id": "7c2ab140189c42ee8b506f3b018ee827",
       "version_major": 2,
       "version_minor": 0
      },
      "text/plain": [
       "  0%|          | 0/11 [00:00<?, ?it/s]"
      ]
     },
     "metadata": {},
     "output_type": "display_data"
    },
    {
     "data": {
      "application/vnd.jupyter.widget-view+json": {
       "model_id": "fcb111dc37d64dcc8c7336b9e77abe35",
       "version_major": 2,
       "version_minor": 0
      },
      "text/plain": [
       "  0%|          | 0/29 [00:00<?, ?it/s]"
      ]
     },
     "metadata": {},
     "output_type": "display_data"
    },
    {
     "data": {
      "application/vnd.jupyter.widget-view+json": {
       "model_id": "21f161d57f9647279a997afd3489787f",
       "version_major": 2,
       "version_minor": 0
      },
      "text/plain": [
       "  0%|          | 0/12 [00:00<?, ?it/s]"
      ]
     },
     "metadata": {},
     "output_type": "display_data"
    },
    {
     "data": {
      "application/vnd.jupyter.widget-view+json": {
       "model_id": "3013607951f24b758218e844e6379abe",
       "version_major": 2,
       "version_minor": 0
      },
      "text/plain": [
       "  0%|          | 0/27 [00:00<?, ?it/s]"
      ]
     },
     "metadata": {},
     "output_type": "display_data"
    },
    {
     "data": {
      "application/vnd.jupyter.widget-view+json": {
       "model_id": "6f8eb0da65c047e8b17a6238598d9935",
       "version_major": 2,
       "version_minor": 0
      },
      "text/plain": [
       "  0%|          | 0/16 [00:00<?, ?it/s]"
      ]
     },
     "metadata": {},
     "output_type": "display_data"
    },
    {
     "data": {
      "application/vnd.jupyter.widget-view+json": {
       "model_id": "1fb440dd601a409fab1760e8d5e1042c",
       "version_major": 2,
       "version_minor": 0
      },
      "text/plain": [
       "  0%|          | 0/18 [00:00<?, ?it/s]"
      ]
     },
     "metadata": {},
     "output_type": "display_data"
    },
    {
     "data": {
      "application/vnd.jupyter.widget-view+json": {
       "model_id": "d74e54ad3e574ecf968c98b6ddddbb6a",
       "version_major": 2,
       "version_minor": 0
      },
      "text/plain": [
       "  0%|          | 0/22 [00:00<?, ?it/s]"
      ]
     },
     "metadata": {},
     "output_type": "display_data"
    },
    {
     "data": {
      "application/vnd.jupyter.widget-view+json": {
       "model_id": "b05990ba6f964c0287b565f493977b4b",
       "version_major": 2,
       "version_minor": 0
      },
      "text/plain": [
       "  0%|          | 0/13 [00:00<?, ?it/s]"
      ]
     },
     "metadata": {},
     "output_type": "display_data"
    },
    {
     "data": {
      "application/vnd.jupyter.widget-view+json": {
       "model_id": "8a3ec088d31543aaa8cd1979e1f8f37d",
       "version_major": 2,
       "version_minor": 0
      },
      "text/plain": [
       "  0%|          | 0/10 [00:00<?, ?it/s]"
      ]
     },
     "metadata": {},
     "output_type": "display_data"
    },
    {
     "data": {
      "application/vnd.jupyter.widget-view+json": {
       "model_id": "e4abdd44eb3c456abe90a156f52a965d",
       "version_major": 2,
       "version_minor": 0
      },
      "text/plain": [
       "  0%|          | 0/9 [00:00<?, ?it/s]"
      ]
     },
     "metadata": {},
     "output_type": "display_data"
    },
    {
     "data": {
      "application/vnd.jupyter.widget-view+json": {
       "model_id": "022cc497d87e49458d8aaa180122c1ad",
       "version_major": 2,
       "version_minor": 0
      },
      "text/plain": [
       "  0%|          | 0/17 [00:00<?, ?it/s]"
      ]
     },
     "metadata": {},
     "output_type": "display_data"
    },
    {
     "data": {
      "application/vnd.jupyter.widget-view+json": {
       "model_id": "24569bfbaa1d4c5593c65ec31edfd840",
       "version_major": 2,
       "version_minor": 0
      },
      "text/plain": [
       "  0%|          | 0/9 [00:00<?, ?it/s]"
      ]
     },
     "metadata": {},
     "output_type": "display_data"
    },
    {
     "data": {
      "application/vnd.jupyter.widget-view+json": {
       "model_id": "3be3732c044643c9abc7fbfedcb845c2",
       "version_major": 2,
       "version_minor": 0
      },
      "text/plain": [
       "  0%|          | 0/18 [00:00<?, ?it/s]"
      ]
     },
     "metadata": {},
     "output_type": "display_data"
    },
    {
     "data": {
      "application/vnd.jupyter.widget-view+json": {
       "model_id": "5f2297358a424920862fa64f8af230dd",
       "version_major": 2,
       "version_minor": 0
      },
      "text/plain": [
       "  0%|          | 0/12 [00:00<?, ?it/s]"
      ]
     },
     "metadata": {},
     "output_type": "display_data"
    },
    {
     "data": {
      "application/vnd.jupyter.widget-view+json": {
       "model_id": "84b25c86f18a4ff0840a85dfa43240f5",
       "version_major": 2,
       "version_minor": 0
      },
      "text/plain": [
       "  0%|          | 0/30 [00:00<?, ?it/s]"
      ]
     },
     "metadata": {},
     "output_type": "display_data"
    },
    {
     "data": {
      "application/vnd.jupyter.widget-view+json": {
       "model_id": "ff245779865743478d6390e85548c714",
       "version_major": 2,
       "version_minor": 0
      },
      "text/plain": [
       "  0%|          | 0/13 [00:00<?, ?it/s]"
      ]
     },
     "metadata": {},
     "output_type": "display_data"
    },
    {
     "data": {
      "application/vnd.jupyter.widget-view+json": {
       "model_id": "f5e35250b30840be80df9bff5603bca4",
       "version_major": 2,
       "version_minor": 0
      },
      "text/plain": [
       "  0%|          | 0/23 [00:00<?, ?it/s]"
      ]
     },
     "metadata": {},
     "output_type": "display_data"
    },
    {
     "data": {
      "application/vnd.jupyter.widget-view+json": {
       "model_id": "86f4a4d2b3894d8687de888ca541b274",
       "version_major": 2,
       "version_minor": 0
      },
      "text/plain": [
       "  0%|          | 0/13 [00:00<?, ?it/s]"
      ]
     },
     "metadata": {},
     "output_type": "display_data"
    },
    {
     "data": {
      "application/vnd.jupyter.widget-view+json": {
       "model_id": "6e5ea9c50e8344039e2106a4807c8d02",
       "version_major": 2,
       "version_minor": 0
      },
      "text/plain": [
       "  0%|          | 0/19 [00:00<?, ?it/s]"
      ]
     },
     "metadata": {},
     "output_type": "display_data"
    },
    {
     "data": {
      "application/vnd.jupyter.widget-view+json": {
       "model_id": "0f8de4aaef674a5bbd4bc546bb8b3c0d",
       "version_major": 2,
       "version_minor": 0
      },
      "text/plain": [
       "  0%|          | 0/10 [00:00<?, ?it/s]"
      ]
     },
     "metadata": {},
     "output_type": "display_data"
    },
    {
     "data": {
      "application/vnd.jupyter.widget-view+json": {
       "model_id": "ddd826190e504fe8b4f281eba596b29d",
       "version_major": 2,
       "version_minor": 0
      },
      "text/plain": [
       "  0%|          | 0/10 [00:00<?, ?it/s]"
      ]
     },
     "metadata": {},
     "output_type": "display_data"
    },
    {
     "data": {
      "application/vnd.jupyter.widget-view+json": {
       "model_id": "f132d1ede7774c97b8e8b5e88a57a179",
       "version_major": 2,
       "version_minor": 0
      },
      "text/plain": [
       "  0%|          | 0/6 [00:00<?, ?it/s]"
      ]
     },
     "metadata": {},
     "output_type": "display_data"
    },
    {
     "data": {
      "application/vnd.jupyter.widget-view+json": {
       "model_id": "0654760da1db4f6b8bf0381d9aa6c0e9",
       "version_major": 2,
       "version_minor": 0
      },
      "text/plain": [
       "  0%|          | 0/14 [00:00<?, ?it/s]"
      ]
     },
     "metadata": {},
     "output_type": "display_data"
    },
    {
     "data": {
      "application/vnd.jupyter.widget-view+json": {
       "model_id": "0be940b55f08447a8312653e8c27db4d",
       "version_major": 2,
       "version_minor": 0
      },
      "text/plain": [
       "  0%|          | 0/20 [00:00<?, ?it/s]"
      ]
     },
     "metadata": {},
     "output_type": "display_data"
    },
    {
     "data": {
      "application/vnd.jupyter.widget-view+json": {
       "model_id": "6dffda9719484fada5f896c52ffca91c",
       "version_major": 2,
       "version_minor": 0
      },
      "text/plain": [
       "  0%|          | 0/21 [00:00<?, ?it/s]"
      ]
     },
     "metadata": {},
     "output_type": "display_data"
    },
    {
     "name": "stdout",
     "output_type": "stream",
     "text": [
      "Synapsse Results:\n",
      "Total Number of Synapses = 3452\n",
      "n_valid_syn_ids_presyn = 76\n",
      "n_errored_syn_ids_presyn = 345\n",
      "n_valid_syn_ids_postsyn = 3007\n",
      "n_errored_syn_ids_postsyn = 24\n",
      "Synapsse Results:\n",
      "Total Number of Synapses = 3452\n",
      "n_valid_syn_ids_presyn = 76\n",
      "n_errored_syn_ids_presyn = 345\n",
      "n_valid_syn_ids_postsyn = 3007\n",
      "n_errored_syn_ids_postsyn = 24\n"
     ]
    },
    {
     "data": {
      "application/vnd.jupyter.widget-view+json": {
       "model_id": "f259845a5544415c892a99b7894d2d9e",
       "version_major": 2,
       "version_minor": 0
      },
      "text/plain": [
       "  0%|          | 0/24 [00:00<?, ?it/s]"
      ]
     },
     "metadata": {},
     "output_type": "display_data"
    },
    {
     "data": {
      "application/vnd.jupyter.widget-view+json": {
       "model_id": "6f3aa8e1ca4f422496d7e7679e228947",
       "version_major": 2,
       "version_minor": 0
      },
      "text/plain": [
       "  0%|          | 0/11 [00:00<?, ?it/s]"
      ]
     },
     "metadata": {},
     "output_type": "display_data"
    },
    {
     "name": "stdout",
     "output_type": "stream",
     "text": [
      "Synapsse Results:\n",
      "Total Number of Synapses = 3452\n",
      "n_valid_syn_ids_presyn = 76\n",
      "n_errored_syn_ids_presyn = 345\n",
      "n_valid_syn_ids_postsyn = 3007\n",
      "n_errored_syn_ids_postsyn = 24\n",
      "Synapsse Results:\n",
      "Total Number of Synapses = 3452\n",
      "n_valid_syn_ids_presyn = 76\n",
      "n_errored_syn_ids_presyn = 345\n",
      "n_valid_syn_ids_postsyn = 3007\n",
      "n_errored_syn_ids_postsyn = 24\n"
     ]
    },
    {
     "data": {
      "application/vnd.jupyter.widget-view+json": {
       "model_id": "3a5f80c227284f8bb876c07fc4a7e587",
       "version_major": 2,
       "version_minor": 0
      },
      "text/plain": [
       "  0%|          | 0/24 [00:00<?, ?it/s]"
      ]
     },
     "metadata": {},
     "output_type": "display_data"
    },
    {
     "data": {
      "application/vnd.jupyter.widget-view+json": {
       "model_id": "01b0aa04030441bcaad6a86e00c9562e",
       "version_major": 2,
       "version_minor": 0
      },
      "text/plain": [
       "  0%|          | 0/11 [00:00<?, ?it/s]"
      ]
     },
     "metadata": {},
     "output_type": "display_data"
    },
    {
     "name": "stdout",
     "output_type": "stream",
     "text": [
      "\n",
      "\n",
      "len(branch_attr_keys) = 35\n",
      "Saving Neuorn in suppress_output mode...please wait\n",
      "Saved File at location: /mnt/dj-stor01/platinum/minnie65/02/decomposition/864691136194042326_0_25_full_axon\n",
      "Save time = 255.87644171714783\n",
      "\n",
      "\n",
      " ***------ Total time for 864691136194042326 = 1056.0854275226593 ------ ***\n",
      "\n",
      "\n",
      "\n",
      "---- Working on Neuron 864691135407289801 ----\n",
      "Decompressing Neuron in minimal output mode...please wait\n",
      "Pulled from Table Decomposition so setting split_index = 0\n",
      "Dont need spine recalculation\n",
      "Number of Neurons found = 1\n",
      "\n",
      "Part 1: Axon like branchese \n",
      "{'L0': array([ 1,  7, 10, 11, 22, 35, 36, 37, 38, 39, 40, 41, 42, 43, 44, 45, 46,\n",
      "       47, 48, 50, 51, 52, 53, 54, 57, 58, 59, 60, 62, 63]), 'L1': array([ 0,  1,  2,  3,  4,  5,  6,  7,  8,  9, 10, 12]), 'L4': array([ 1,  6,  7,  8,  9, 10]), 'L6': array([0])}\n",
      "Limb L0 soma angle: 18.79 \n",
      "Limb L1 soma angle: 164.18 \n",
      "Limb L2 soma angle: 108.41 \n",
      "Limb L3 soma angle: 99.46 \n",
      "Limb L4 soma angle: 88.24 \n",
      "Limb L5 soma angle: 56.03 \n",
      "Limb L6 soma angle: 158.91 \n",
      "\n",
      "Part 2: possible_axon_limbs = [1, 2, 3, 4, 6]\n",
      "\n",
      "Phase 2: Working on Limb L1\n",
      "nodes_to_eliminate = [16]\n",
      "\n",
      "Phase 2: Working on Limb L2\n",
      "nodes_to_eliminate = [7]\n",
      "\n",
      "Phase 2: Working on Limb L3\n",
      "nodes_to_eliminate = [0]\n",
      "\n",
      "Phase 2: Working on Limb L4\n",
      "nodes_to_eliminate = []\n",
      "\n",
      "Phase 2: Working on Limb L6\n",
      "nodes_to_eliminate = []\n",
      "\n",
      "----Working on Limb L1-----\n",
      "No endpoints were eliminated so don't need to add back any candidates\n",
      "\n",
      "----Working on Limb L2-----\n",
      "No endpoints were eliminated so don't need to add back any candidates\n",
      "\n",
      "----Working on Limb L3-----\n",
      "No endpoints were eliminated so don't need to add back any candidates\n",
      "\n",
      "----Working on Limb L4-----\n",
      "No nodes were eliminated so don't need to add back any candidates\n",
      "\n",
      "----Working on Limb L6-----\n",
      "No nodes were eliminated so don't need to add back any candidates\n",
      "Final Candidates\n",
      "\n",
      "Limb 1\n",
      "Candidate 0 (palegreen): array([ 0,  1,  2,  3,  4,  5,  6,  7,  8,  9, 10, 11, 12])\n",
      "Candidate 1 (gold): array([13, 14, 15])\n",
      "\n",
      "Limb 2\n",
      "Candidate 0 (sandybrown): array([0, 1, 2, 4, 5])\n",
      "Candidate 1 (sandybrown): array([ 3,  6,  8,  9, 10])\n",
      "\n",
      "Limb 3\n",
      "Candidate 0 (red): array([1, 5, 6])\n",
      "Candidate 1 (gray): array([2, 3, 4, 7, 8])\n",
      "\n",
      "Limb 4\n",
      "Candidate 0 (gray): array([ 0,  1,  2,  3,  4,  5,  6,  7,  8,  9, 10])\n",
      "\n",
      "Limb 6\n",
      "Candidate 0 (green): array([0])\n",
      "Part 3: axon_subgraph_candidates = {1: [[0, 1, 2, 3, 4, 5, 6, 7, 8, 9, 10, 11, 12], [13, 14, 15]], 2: [[0, 1, 2, 4, 5], [3, 6, 8, 9, 10]], 3: [[1, 5, 6], [2, 3, 4, 7, 8]], 4: [[0, 1, 2, 3, 4, 5, 6, 7, 8, 9, 10]], 6: [[0]]}\n",
      "\n",
      "\n",
      " --- Working on limb 1, candidate # 0\n",
      "12 out of 13 branches are axons\n",
      "Axon percentage = 0.9230769230769231\n",
      "curr_axon_angle_threshold = 95\n",
      "candidate_nodes = [ 0  1  2  3  4  5  6  7  8  9 10 11 12 16]\n",
      "non_axon_branches_on_subgraph = [11 16]\n",
      "endnodes_to_test = []\n",
      "candidate_angles,restr_skels = (None, None)\n",
      "Not adding candidate because no angles (None) passed the threhold 95 \n",
      "\n",
      "\n",
      " --- Working on limb 1, candidate # 1\n",
      "0 out of 3 branches are axons\n",
      "Axon percentage = 0.0\n",
      "Not adding candidate no axon branches detected \n",
      "\n",
      "\n",
      " --- Working on limb 2, candidate # 0\n",
      "0 out of 5 branches are axons\n",
      "Axon percentage = 0.0\n",
      "Not adding candidate no axon branches detected \n",
      "\n",
      "\n",
      " --- Working on limb 2, candidate # 1\n",
      "0 out of 5 branches are axons\n",
      "Axon percentage = 0.0\n",
      "Not adding candidate no axon branches detected \n",
      "\n",
      "\n",
      " --- Working on limb 3, candidate # 0\n",
      "0 out of 3 branches are axons\n",
      "Axon percentage = 0.0\n",
      "Not adding candidate no axon branches detected \n",
      "\n",
      "\n",
      " --- Working on limb 3, candidate # 1\n",
      "0 out of 5 branches are axons\n",
      "Axon percentage = 0.0\n",
      "Not adding candidate no axon branches detected \n",
      "\n",
      "\n",
      " --- Working on limb 4, candidate # 0\n",
      "6 out of 11 branches are axons\n",
      "Axon percentage = 0.5454545454545454\n",
      "curr_axon_angle_threshold = 120\n",
      "candidate_nodes = [ 0  1  2  3  4  5  6  7  8  9 10]\n",
      "non_axon_branches_on_subgraph = [0 2 3 4 5]\n",
      "endnodes_to_test = []\n",
      "candidate_angles,restr_skels = (None, None)\n",
      "Not adding candidate because no angles (None) passed the threhold 120 \n",
      "\n",
      "\n",
      " --- Working on limb 6, candidate # 0\n",
      "1 out of 1 branches are axons\n",
      "Axon percentage = 1.0\n",
      "curr_axon_angle_threshold = 95\n",
      "candidate_nodes = [0]\n",
      "non_axon_branches_on_subgraph = []\n",
      "endnodes_to_test = [0]\n",
      "Skeleton paths distances = [22978.75140966]\n",
      "Filtered indexes = [0]\n",
      "len(filtered_skeletons) = 1\n",
      "sk_angles = [160.77815439]\n",
      "candidate_angles,restr_skels = (array([160.77815439]), [array([[[1297077.03564812,  538955.16228435,  837311.77191764],\n",
      "        [1297060.76367883,  539052.59645051,  837327.15582405]],\n",
      "\n",
      "       [[1297060.76367883,  539052.59645051,  837327.15582405],\n",
      "        [1297045.87784886,  539150.53408018,  837340.68134846]],\n",
      "\n",
      "       [[1297045.87784886,  539150.53408018,  837340.68134846],\n",
      "        [1297033.48818111,  539249.06633563,  837352.42403847]],\n",
      "\n",
      "       [[1297033.48818111,  539249.06633563,  837352.42403847],\n",
      "        [1297024.05127301,  539347.88029627,  837364.41755926]],\n",
      "\n",
      "       [[1297024.05127301,  539347.88029627,  837364.41755926],\n",
      "        [1297016.13498169,  539446.76165295,  837376.95308699]],\n",
      "\n",
      "       [[1297016.13498169,  539446.76165295,  837376.95308699],\n",
      "        [1297011.06903209,  539545.51513891,  837391.85560905]],\n",
      "\n",
      "       [[1297011.06903209,  539545.51513891,  837391.85560905],\n",
      "        [1297007.14358489,  539643.94363951,  837408.88472315]],\n",
      "\n",
      "       [[1297007.14358489,  539643.94363951,  837408.88472315],\n",
      "        [1297004.45514205,  539742.01965656,  837428.22036782]],\n",
      "\n",
      "       [[1297004.45514205,  539742.01965656,  837428.22036782],\n",
      "        [1297002.68526426,  539839.34870948,  837450.98106342]],\n",
      "\n",
      "       [[1297002.68526426,  539839.34870948,  837450.98106342],\n",
      "        [1297001.32622379,  539936.34367527,  837475.27364704]],\n",
      "\n",
      "       [[1297001.32622379,  539936.34367527,  837475.27364704],\n",
      "        [1297000.39422941,  540032.3257144 ,  837503.25246097]],\n",
      "\n",
      "       [[1297000.39422941,  540032.3257144 ,  837503.25246097],\n",
      "        [1296999.57091153,  540128.04997968,  837532.16936234]],\n",
      "\n",
      "       [[1296999.57091153,  540128.04997968,  837532.16936234],\n",
      "        [1296998.75585745,  540222.74858157,  837564.24785949]],\n",
      "\n",
      "       [[1296998.75585745,  540222.74858157,  837564.24785949],\n",
      "        [1296997.94265881,  540317.21689514,  837597.03621777]],\n",
      "\n",
      "       [[1296997.94265881,  540317.21689514,  837597.03621777],\n",
      "        [1296996.81175648,  540410.79274789,  837632.25559829]],\n",
      "\n",
      "       [[1296996.81175648,  540410.79274789,  837632.25559829],\n",
      "        [1296995.59329554,  540504.12263993,  837668.14496448]],\n",
      "\n",
      "       [[1296995.59329554,  540504.12263993,  837668.14496448],\n",
      "        [1296993.70569823,  540596.68176441,  837705.92896628]],\n",
      "\n",
      "       [[1296993.70569823,  540596.68176441,  837705.92896628],\n",
      "        [1296991.58482131,  540688.97217783,  837744.37349089]],\n",
      "\n",
      "       [[1296991.58482131,  540688.97217783,  837744.37349089],\n",
      "        [1296988.31122512,  540780.51140784,  837784.47488596]],\n",
      "\n",
      "       [[1296988.31122512,  540780.51140784,  837784.47488596],\n",
      "        [1296984.60742122,  540871.77028782,  837825.19464359]],\n",
      "\n",
      "       [[1296984.60742122,  540871.77028782,  837825.19464359],\n",
      "        [1296979.07519113,  540962.18767051,  837867.52787109]],\n",
      "\n",
      "       [[1296979.07519113,  540962.18767051,  837867.52787109],\n",
      "        [1296972.99640522,  541052.35351162,  837910.34339935]],\n",
      "\n",
      "       [[1296972.99640522,  541052.35351162,  837910.34339935],\n",
      "        [1296964.24754181,  541141.55814241,  837954.66627433]],\n",
      "\n",
      "       [[1296964.24754181,  541141.55814241,  837954.66627433],\n",
      "        [1296954.98725474,  541230.59133985,  837999.24036685]],\n",
      "\n",
      "       [[1296954.98725474,  541230.59133985,  837999.24036685],\n",
      "        [1296942.46248986,  541318.76702175,  838044.71760716]],\n",
      "\n",
      "       [[1296942.46248986,  541318.76702175,  838044.71760716],\n",
      "        [1296929.09362265,  541406.83139095,  838090.14596445]],\n",
      "\n",
      "       [[1296929.09362265,  541406.83139095,  838090.14596445],\n",
      "        [1296913.16603914,  541494.55833943,  838135.42614326]],\n",
      "\n",
      "       [[1296913.16603914,  541494.55833943,  838135.42614326],\n",
      "        [1296895.60175564,  541582.30107844,  838180.02993563]],\n",
      "\n",
      "       [[1296895.60175564,  541582.30107844,  838180.02993563],\n",
      "        [1296876.36274755,  541670.05997481,  838223.9416274 ]],\n",
      "\n",
      "       [[1296876.36274755,  541670.05997481,  838223.9416274 ],\n",
      "        [1296854.48991405,  541758.01150547,  838266.16975815]],\n",
      "\n",
      "       [[1296854.48991405,  541758.01150547,  838266.16975815],\n",
      "        [1296831.53240834,  541846.02088392,  838307.7126404 ]],\n",
      "\n",
      "       [[1296831.53240834,  541846.02088392,  838307.7126404 ],\n",
      "        [1296805.05570076,  541934.04217844,  838347.09836963]],\n",
      "\n",
      "       [[1296805.05570076,  541934.04217844,  838347.09836963],\n",
      "        [1296776.74829629,  542021.79525578,  838385.73095497]],\n",
      "\n",
      "       [[1296776.74829629,  542021.79525578,  838385.73095497],\n",
      "        [1296745.86656005,  542109.17116528,  838423.30446701]],\n",
      "\n",
      "       [[1296745.86656005,  542109.17116528,  838423.30446701],\n",
      "        [1296711.34842047,  542195.41063457,  838460.27438883]],\n",
      "\n",
      "       [[1296711.34842047,  542195.41063457,  838460.27438883],\n",
      "        [1296675.1948092 ,  542281.04697832,  838497.10885037]],\n",
      "\n",
      "       [[1296675.1948092 ,  542281.04697832,  838497.10885037],\n",
      "        [1296635.23450946,  542364.84665611,  838534.26781224]],\n",
      "\n",
      "       [[1296635.23450946,  542364.84665611,  838534.26781224],\n",
      "        [1296593.85040285,  542447.65126589,  838572.04140568]],\n",
      "\n",
      "       [[1296593.85040285,  542447.65126589,  838572.04140568],\n",
      "        [1296550.82744021,  542529.31051445,  838610.5224635 ]],\n",
      "\n",
      "       [[1296550.82744021,  542529.31051445,  838610.5224635 ],\n",
      "        [1296506.99134695,  542609.81489994,  838650.4754556 ]],\n",
      "\n",
      "       [[1296506.99134695,  542609.81489994,  838650.4754556 ],\n",
      "        [1296462.99609557,  542689.96729252,  838690.96850085]],\n",
      "\n",
      "       [[1296462.99609557,  542689.96729252,  838690.96850085],\n",
      "        [1296420.25773764,  542769.79896932,  838733.39886897]],\n",
      "\n",
      "       [[1296420.25773764,  542769.79896932,  838733.39886897],\n",
      "        [1296378.68817321,  542849.92072154,  838776.39473002]],\n",
      "\n",
      "       [[1296378.68817321,  542849.92072154,  838776.39473002],\n",
      "        [1296339.64905273,  542930.67048852,  838820.6148861 ]],\n",
      "\n",
      "       [[1296339.64905273,  542930.67048852,  838820.6148861 ],\n",
      "        [1296303.85842652,  543012.51088433,  838865.4717412 ]],\n",
      "\n",
      "       [[1296303.85842652,  543012.51088433,  838865.4717412 ],\n",
      "        [1296270.48613653,  543095.16319698,  838910.80258582]],\n",
      "\n",
      "       [[1296270.48613653,  543095.16319698,  838910.80258582],\n",
      "        [1296242.86874037,  543179.82753199,  838956.21693572]],\n",
      "\n",
      "       [[1296242.86874037,  543179.82753199,  838956.21693572],\n",
      "        [1296217.27936173,  543265.19919119,  839001.4979818 ]],\n",
      "\n",
      "       [[1296217.27936173,  543265.19919119,  839001.4979818 ],\n",
      "        [1296197.47656001,  543352.58385765,  839045.90258868]],\n",
      "\n",
      "       [[1296197.47656001,  543352.58385765,  839045.90258868],\n",
      "        [1296180.30579667,  543440.93480272,  839089.37121086]],\n",
      "\n",
      "       [[1296180.30579667,  543440.93480272,  839089.37121086],\n",
      "        [1296166.07339817,  543530.36448551,  839131.79491496]],\n",
      "\n",
      "       [[1296166.07339817,  543530.36448551,  839131.79491496],\n",
      "        [1296154.84592426,  543621.18870698,  839172.06425853]],\n",
      "\n",
      "       [[1296154.84592426,  543621.18870698,  839172.06425853],\n",
      "        [1296144.56653277,  543712.58576528,  839211.29214577]],\n",
      "\n",
      "       [[1296144.56653277,  543712.58576528,  839211.29214577],\n",
      "        [1296135.5441865 ,  543805.09461989,  839248.17993623]],\n",
      "\n",
      "       [[1296135.5441865 ,  543805.09461989,  839248.17993623],\n",
      "        [1296126.45212809,  543898.27886686,  839283.27217842]],\n",
      "\n",
      "       [[1296126.45212809,  543898.27886686,  839283.27217842],\n",
      "        [1296117.31154316,  543991.93325344,  839317.11454214]],\n",
      "\n",
      "       [[1296117.31154316,  543991.93325344,  839317.11454214],\n",
      "        [1296107.03051872,  544086.4822046 ,  839348.01129809]],\n",
      "\n",
      "       [[1296107.03051872,  544086.4822046 ,  839348.01129809],\n",
      "        [1296096.1805908 ,  544181.29527932,  839377.85107715]],\n",
      "\n",
      "       [[1296096.1805908 ,  544181.29527932,  839377.85107715],\n",
      "        [1296084.39328415,  544276.53274432,  839405.97374884]],\n",
      "\n",
      "       [[1296084.39328415,  544276.53274432,  839405.97374884],\n",
      "        [1296071.73327333,  544372.10837157,  839432.50304172]],\n",
      "\n",
      "       [[1296071.73327333,  544372.10837157,  839432.50304172],\n",
      "        [1296058.72865345,  544467.82755836,  839458.35969061]],\n",
      "\n",
      "       [[1296058.72865345,  544467.82755836,  839458.35969061],\n",
      "        [1296045.32078143,  544563.82641658,  839482.94521862]],\n",
      "\n",
      "       [[1296045.32078143,  544563.82641658,  839482.94521862],\n",
      "        [1296032.12096059,  544659.90817544,  839507.31534308]],\n",
      "\n",
      "       [[1296032.12096059,  544659.90817544,  839507.31534308],\n",
      "        [1296019.26024401,  544756.12505469,  839531.33437963]],\n",
      "\n",
      "       [[1296019.26024401,  544756.12505469,  839531.33437963],\n",
      "        [1296007.43080382,  544852.47304239,  839555.34601792]],\n",
      "\n",
      "       [[1296007.43080382,  544852.47304239,  839555.34601792],\n",
      "        [1295996.14605815,  544948.8902783 ,  839579.35374863]],\n",
      "\n",
      "       [[1295996.14605815,  544948.8902783 ,  839579.35374863],\n",
      "        [1295987.13394358,  545045.52369295,  839603.44150469]],\n",
      "\n",
      "       [[1295987.13394358,  545045.52369295,  839603.44150469],\n",
      "        [1295978.82885299,  545142.22460483,  839627.49611886]],\n",
      "\n",
      "       [[1295978.82885299,  545142.22460483,  839627.49611886],\n",
      "        [1295973.31807026,  545239.19276584,  839651.3038282 ]],\n",
      "\n",
      "       [[1295973.31807026,  545239.19276584,  839651.3038282 ],\n",
      "        [1295969.25139597,  545336.30000577,  839674.75593709]],\n",
      "\n",
      "       [[1295969.25139597,  545336.30000577,  839674.75593709],\n",
      "        [1295967.54365052,  545433.63442897,  839697.62717812]],\n",
      "\n",
      "       [[1295967.54365052,  545433.63442897,  839697.62717812],\n",
      "        [1295968.39135225,  545531.16957789,  839719.57338103]],\n",
      "\n",
      "       [[1295968.39135225,  545531.16957789,  839719.57338103],\n",
      "        [1295970.80140857,  545628.82744692,  839740.95403223]],\n",
      "\n",
      "       [[1295970.80140857,  545628.82744692,  839740.95403223],\n",
      "        [1295976.86333146,  545726.61089764,  839760.93905605]],\n",
      "\n",
      "       [[1295976.86333146,  545726.61089764,  839760.93905605],\n",
      "        [1295984.01101019,  545824.39494781,  839780.56451083]],\n",
      "\n",
      "       [[1295984.01101019,  545824.39494781,  839780.56451083],\n",
      "        [1295994.58462031,  545922.06756274,  839799.22621126]],\n",
      "\n",
      "       [[1295994.58462031,  545922.06756274,  839799.22621126],\n",
      "        [1296006.62186931,  546019.56801038,  839817.82238168]],\n",
      "\n",
      "       [[1296006.62186931,  546019.56801038,  839817.82238168],\n",
      "        [1296020.64307212,  546116.8350863 ,  839836.32972657]],\n",
      "\n",
      "       [[1296020.64307212,  546116.8350863 ,  839836.32972657],\n",
      "        [1296036.60432193,  546213.64866561,  839855.58457105]],\n",
      "\n",
      "       [[1296036.60432193,  546213.64866561,  839855.58457105],\n",
      "        [1296053.38543483,  546310.24281149,  839875.26771326]],\n",
      "\n",
      "       [[1296053.38543483,  546310.24281149,  839875.26771326],\n",
      "        [1296071.67472475,  546406.15090874,  839896.88110625]],\n",
      "\n",
      "       [[1296071.67472475,  546406.15090874,  839896.88110625],\n",
      "        [1296090.219858  ,  546501.70571883,  839919.75312558]],\n",
      "\n",
      "       [[1296090.219858  ,  546501.70571883,  839919.75312558],\n",
      "        [1296109.08609653,  546596.81712326,  839944.20482878]],\n",
      "\n",
      "       [[1296109.08609653,  546596.81712326,  839944.20482878],\n",
      "        [1296127.58800302,  546691.2947203 ,  839971.22645137]],\n",
      "\n",
      "       [[1296127.58800302,  546691.2947203 ,  839971.22645137],\n",
      "        [1296145.71905428,  546785.50925639,  839999.38941229]],\n",
      "\n",
      "       [[1296145.71905428,  546785.50925639,  839999.38941229],\n",
      "        [1296162.75777993,  546879.2404823 ,  840029.78906881]],\n",
      "\n",
      "       [[1296162.75777993,  546879.2404823 ,  840029.78906881],\n",
      "        [1296178.48276521,  546972.79095038,  840061.39197931]],\n",
      "\n",
      "       [[1296178.48276521,  546972.79095038,  840061.39197931],\n",
      "        [1296193.26915218,  547066.2122765 ,  840093.85455139]],\n",
      "\n",
      "       [[1296193.26915218,  547066.2122765 ,  840093.85455139],\n",
      "        [1296205.28418151,  547159.73463448,  840127.14906452]],\n",
      "\n",
      "       [[1296205.28418151,  547159.73463448,  840127.14906452],\n",
      "        [1296216.26339785,  547253.38753154,  840160.40973971]],\n",
      "\n",
      "       [[1296216.26339785,  547253.38753154,  840160.40973971],\n",
      "        [1296224.48571307,  547347.45670857,  840193.32453071]],\n",
      "\n",
      "       [[1296224.48571307,  547347.45670857,  840193.32453071],\n",
      "        [1296230.7686958 ,  547441.94454373,  840225.38221348]],\n",
      "\n",
      "       [[1296230.7686958 ,  547441.94454373,  840225.38221348],\n",
      "        [1296235.02632232,  547536.86960761,  840256.54476895]],\n",
      "\n",
      "       [[1296235.02632232,  547536.86960761,  840256.54476895],\n",
      "        [1296236.20268927,  547632.50295067,  840285.65358835]],\n",
      "\n",
      "       [[1296236.20268927,  547632.50295067,  840285.65358835],\n",
      "        [1296236.17451091,  547728.41317866,  840313.95954837]],\n",
      "\n",
      "       [[1296236.17451091,  547728.41317866,  840313.95954837],\n",
      "        [1296231.80643994,  547825.17376713,  840338.77968039]],\n",
      "\n",
      "       [[1296231.80643994,  547825.17376713,  840338.77968039],\n",
      "        [1296226.35625344,  547922.09411244,  840362.67129109]],\n",
      "\n",
      "       [[1296226.35625344,  547922.09411244,  840362.67129109],\n",
      "        [1296216.6123797 ,  548019.56484097,  840382.7838246 ]],\n",
      "\n",
      "       [[1296216.6123797 ,  548019.56484097,  840382.7838246 ],\n",
      "        [1296204.78988047,  548117.12821598,  840400.91605947]],\n",
      "\n",
      "       [[1296204.78988047,  548117.12821598,  840400.91605947],\n",
      "        [1296189.73301381,  548214.83575009,  840415.96692472]]])])\n"
     ]
    },
    {
     "name": "stdout",
     "output_type": "stream",
     "text": [
      "base_final_widths = [196.33676946 218.15401287 219.50524386]\n",
      "overall_ais_width = 218.15401286552526\n",
      "ais_width = 211.3320087273229\n",
      "Adding the following branches as true axons: [0.]\n",
      "curr_soma_angle = 158.91\n",
      "max_axon_angle = 160.77815438728922\n",
      "Changing to a better axon candidate\n",
      "Using the best axon approach\n",
      "Using True\n",
      "Limb L6: Axon branches before dendritic path filter = [0.]\n",
      "Limb L6: Axon branches AFTER dendritic path filter = [0.]\n",
      "\n",
      "\n",
      "Part 4: final_true_axons = {'L6': array([0.])}\n",
      "\n",
      "--- Working on filter 0:\n",
      "function = dendrite_on_axon_merges\n",
      "function __name__ = filter_away_dendrite_on_axon_merges\n",
      "function arguments = {'use_pre_existing_axon_labels': True}\n",
      "\n",
      "\n",
      "\n",
      "\n",
      "\n",
      " ---- Total time for applying filter: 1.8564083576202393 -----\n",
      "Starting axon branch was the starting node so using border vertices and NOT computing upstream branch\n",
      "upstream_node_to_axon_starting_branch = None\n"
     ]
    },
    {
     "name": "stderr",
     "output_type": "stream",
     "text": [
      "\r",
      "  0%|          | 0/1 [00:00<?, ?it/s]"
     ]
    },
    {
     "name": "stdout",
     "output_type": "stream",
     "text": [
      "root_curr = [1295868.  530061.  833721.]\n",
      "Time for preparing soma vertices and root: 0.0005240440368652344\n",
      "invalidation_d = 2000\n",
      "cc_vertex_thresh = 10\n"
     ]
    },
    {
     "data": {
      "application/vnd.jupyter.widget-view+json": {
       "model_id": "24352091ec5c49208a57baf34751dd3e",
       "version_major": 2,
       "version_minor": 0
      },
      "text/plain": [
       "  0%|          | 0/1851 [00:00<?, ?it/s]"
      ]
     },
     "metadata": {},
     "output_type": "display_data"
    },
    {
     "name": "stderr",
     "output_type": "stream",
     "text": [
      "100%|██████████| 1/1 [00:00<00:00, 13.25it/s]\n"
     ]
    },
    {
     "name": "stdout",
     "output_type": "stream",
     "text": [
      "meshparty_segment_size = 100\n",
      "Time for 1st pass MP skeletonization: 0.28572607040405273\n",
      "connecting at the root\n",
      "branches_touching_root = [0]\n",
      "combining close nodes\n",
      "combine_threshold = 1300\n",
      "length of Graph = 231\n",
      "After combining close endpoints max(kept_branches_idx) = 0, len(kept_branches_idx) = 1\n",
      "empty_indices % = 0.0\n",
      " conflict_indices % = 0.0\n"
     ]
    },
    {
     "data": {
      "application/vnd.jupyter.widget-view+json": {
       "model_id": "cf4a0bb8000d4c7596ec15d577a09def",
       "version_major": 2,
       "version_minor": 0
      },
      "text/plain": [
       "0it [00:00, ?it/s]"
      ]
     },
     "metadata": {},
     "output_type": "display_data"
    },
    {
     "name": "stdout",
     "output_type": "stream",
     "text": [
      "AFTER face_lookup_resolved_test\n"
     ]
    },
    {
     "data": {
      "application/vnd.jupyter.widget-view+json": {
       "model_id": "e897194e67b84fbcb3a760a7b141603f",
       "version_major": 2,
       "version_minor": 0
      },
      "text/plain": [
       "  0%|          | 0/1 [00:00<?, ?it/s]"
      ]
     },
     "metadata": {},
     "output_type": "display_data"
    },
    {
     "name": "stdout",
     "output_type": "stream",
     "text": [
      "Decomposing first pass: 0.33422327041625977\n",
      "Only Using MeshParty Skeletonization and Mesh Correspondence\n",
      "Another print\n",
      "Divinding into MP and MAP pieces: 0.0001819133758544922\n",
      "Total time for MAP sublimb processing 3.0994415283203125e-06\n",
      "---- Working on MP Decomposition #0 ----\n",
      "Using Quicker soma_to_piece_touching_vertices because no MAP and only one sublimb_mesh piece \n",
      "MP filtering soma verts: 0.00028252601623535156\n",
      "Fixing Possible Soma Extension Branch for Sublimb 0\n",
      "Total time for mesh KDTree = 0.16952180862426758\n",
      "sbv[0].reshape(-1,3) = [[1295868.  530061.  833721.]]\n",
      "closest_sk_pt_coord BEFORE = [1295794.71789855  530501.46686198  832820.91415581]\n",
      "current_skeleton.shape = (230, 2, 3)\n",
      "node_for_stitch = 14: [1295794.71789855  530501.46686198  832820.91415581]\n",
      "node_for_stitch AFTER = 14: [1295794.71789855  530501.46686198  832820.91415581]\n",
      "possible_node_loc = [0 5]\n",
      "possible_node_loc AFTER = [0 5]\n",
      "curr_shortest_path = [14, 11.0, 8.0, 5.0]\n",
      "Current stitch point was not a branch or endpoint, shortest_path_length to one = 280.77871032682987\n",
      "Changing the stitch point becasue the distance to end or branch node was 280.77871032682987\n",
      "New stitch point has degree 1\n",
      "change_status for create soma extending pieces = True\n",
      "closest_sk_pt_coord AFTER = [1295746.11366268  530357.70676541  832584.81560598]\n",
      "skipping soma 0 because closest skeleton node was already end node\n",
      "endpoints_must_keep = {0: array([[1295746.11366268,  530357.70676541,  832584.81560598]])}\n",
      "match_sk_branches = [0]\n",
      "The new branch info was none so skipping \n",
      "\n",
      "No soma extending branch was added for this sublimb even though it had a soma border (means they already existed)\n",
      "MP (because soma touching verts) soma extension add: 0.4789278507232666\n",
      "There were not both MAP and MP pieces so skipping the stitch resolving phase\n",
      "Time for decomp of Limb = 1.1294207572937012\n",
      "Number of matching vertices = 28\n",
      "Only one endpoint after filtering away the endpoints that are not on the skeleton\n",
      "Using Distance measure skeletal_distance\n",
      "endpoints_must_keep = [[1295746.11366268  530357.70676541  832584.81560598]]\n",
      "Number of end_nodes BEFORE filtering = 2\n",
      "all_single_nodes_to_eliminate = [1]\n",
      "no small end nodes to get rid of so returning whole skeleton\n",
      "Removed 0 skeletal branches\n"
     ]
    },
    {
     "data": {
      "application/vnd.jupyter.widget-view+json": {
       "model_id": "7b662db21fa341dcbc4cec865a492d57",
       "version_major": 2,
       "version_minor": 0
      },
      "text/plain": [
       "  0%|          | 0/1 [00:00<?, ?it/s]"
      ]
     },
     "metadata": {},
     "output_type": "display_data"
    },
    {
     "name": "stdout",
     "output_type": "stream",
     "text": [
      "3618 3619\n",
      "For marked faces: None\n",
      "empty_indices % = 0.0\n",
      " conflict_indices % = 0.0\n"
     ]
    },
    {
     "data": {
      "application/vnd.jupyter.widget-view+json": {
       "model_id": "f6647eff35954c53a6b4e197ec87910a",
       "version_major": 2,
       "version_minor": 0
      },
      "text/plain": [
       "0it [00:00, ?it/s]"
      ]
     },
     "metadata": {},
     "output_type": "display_data"
    },
    {
     "name": "stdout",
     "output_type": "stream",
     "text": [
      "AFTER face_lookup_resolved_test\n"
     ]
    },
    {
     "data": {
      "application/vnd.jupyter.widget-view+json": {
       "model_id": "24ff584d5e8a44dfb607f0fc9e086e77",
       "version_major": 2,
       "version_minor": 0
      },
      "text/plain": [
       "  0%|          | 0/1 [00:00<?, ?it/s]"
      ]
     },
     "metadata": {},
     "output_type": "display_data"
    },
    {
     "name": "stdout",
     "output_type": "stream",
     "text": [
      "Limb Correspondence before stitching = 1\n",
      "Limb Correspondence AFTER stitching = 1\n",
      "Upstream node was None so don't have to adjust\n",
      "concept_network_dict = {0: [<networkx_utils.GraphOrderedEdges object at 0x7f44dc361940>]}\n",
      "\n",
      "\n",
      "----Working on seperate_graph 0----\n",
      "\n",
      "\n",
      "---------Working on soma_idx = 0, soma_group_idx 0, endpt = [1295746.11366268  530357.70676541  832584.81560598]---------\n",
      "Starting_edge inside branches_to_conept = [[1295701.1683154   551050.2441675   840343.93793426]\n",
      " [1295746.11366268  530357.70676541  832584.81560598]]\n",
      "Done generating concept network \n",
      "\n",
      "\n",
      "Synapsse Results:\n",
      "Total Number of Synapses = 3611\n",
      "n_valid_syn_ids_presyn = 0\n",
      "n_errored_syn_ids_presyn = 277\n",
      "n_valid_syn_ids_postsyn = 3329\n",
      "n_errored_syn_ids_postsyn = 5\n",
      "Synapsse Results:\n",
      "Total Number of Synapses = 3611\n",
      "n_valid_syn_ids_presyn = 0\n",
      "n_errored_syn_ids_presyn = 277\n",
      "n_valid_syn_ids_postsyn = 3329\n",
      "n_errored_syn_ids_postsyn = 5\n"
     ]
    },
    {
     "data": {
      "application/vnd.jupyter.widget-view+json": {
       "model_id": "1b92efe7ca4143ada3f0adffe9fc68c7",
       "version_major": 2,
       "version_minor": 0
      },
      "text/plain": [
       "0it [00:00, ?it/s]"
      ]
     },
     "metadata": {},
     "output_type": "display_data"
    },
    {
     "data": {
      "application/vnd.jupyter.widget-view+json": {
       "model_id": "d12695c58edb49ffa47f2d926ec92ff0",
       "version_major": 2,
       "version_minor": 0
      },
      "text/plain": [
       "0it [00:00, ?it/s]"
      ]
     },
     "metadata": {},
     "output_type": "display_data"
    },
    {
     "name": "stdout",
     "output_type": "stream",
     "text": [
      "Synapsse Results:\n",
      "Total Number of Synapses = 3611\n",
      "n_valid_syn_ids_presyn = 0\n",
      "n_errored_syn_ids_presyn = 277\n",
      "n_valid_syn_ids_postsyn = 3329\n",
      "n_errored_syn_ids_postsyn = 5\n",
      "Synapsse Results:\n",
      "Total Number of Synapses = 3611\n",
      "n_valid_syn_ids_presyn = 0\n",
      "n_errored_syn_ids_presyn = 277\n",
      "n_valid_syn_ids_postsyn = 3329\n",
      "n_errored_syn_ids_postsyn = 5\n"
     ]
    },
    {
     "data": {
      "application/vnd.jupyter.widget-view+json": {
       "model_id": "b6afe5f46b8547b393cb293c78bacdcc",
       "version_major": 2,
       "version_minor": 0
      },
      "text/plain": [
       "0it [00:00, ?it/s]"
      ]
     },
     "metadata": {},
     "output_type": "display_data"
    },
    {
     "data": {
      "application/vnd.jupyter.widget-view+json": {
       "model_id": "bbbf519132764236b17442ca3c276869",
       "version_major": 2,
       "version_minor": 0
      },
      "text/plain": [
       "0it [00:00, ?it/s]"
      ]
     },
     "metadata": {},
     "output_type": "display_data"
    },
    {
     "name": "stdout",
     "output_type": "stream",
     "text": [
      "\n",
      "\n",
      "len(branch_attr_keys) = 0\n",
      "Saving Neuorn in suppress_output mode...please wait\n",
      "Saved File at location: /mnt/dj-stor01/platinum/minnie65/02/decomposition/864691135407289801_0_25_full_axon\n",
      "Save time = 200.6592173576355\n",
      "Populate Done\n",
      "Total time for AutoProofreadValidationBorder populate = 9299.7763402462\n"
     ]
    }
   ],
   "source": [
    "\n",
    "import time\n",
    "pru = reload(pru)\n",
    "nru = reload(nru)\n",
    "import neuron_searching as ns\n",
    "ns = reload(ns)\n",
    "clu = reload(clu)\n",
    "du = reload(du)\n",
    "import random\n",
    "\n",
    "start_time = time.time()\n",
    "if not test_mode:\n",
    "    time.sleep(random.randint(0, 800))\n",
    "print('Populate Started')\n",
    "if not test_mode:\n",
    "    AutoProofreadValidationBorder.populate(reserve_jobs=True, suppress_errors=True, order=\"random\")\n",
    "else:\n",
    "    AutoProofreadValidationBorder.populate(reserve_jobs=True, suppress_errors=True, order=\"random\")\n",
    "print('Populate Done')\n",
    "\n",
    "print(f\"Total time for AutoProofreadValidationBorder populate = {time.time() - start_time}\")\n"
   ]
  },
  {
   "cell_type": "code",
   "execution_count": null,
   "metadata": {},
   "outputs": [],
   "source": []
  }
 ],
 "metadata": {
  "kernelspec": {
   "display_name": "Python 3",
   "language": "python",
   "name": "python3"
  },
  "language_info": {
   "codemirror_mode": {
    "name": "ipython",
    "version": 3
   },
   "file_extension": ".py",
   "mimetype": "text/x-python",
   "name": "python",
   "nbconvert_exporter": "python",
   "pygments_lexer": "ipython3",
   "version": "3.6.9"
  }
 },
 "nbformat": 4,
 "nbformat_minor": 4
}
