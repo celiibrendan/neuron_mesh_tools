{
 "cells": [
  {
   "cell_type": "code",
   "execution_count": 15,
   "metadata": {},
   "outputs": [
    {
     "data": {
      "text/plain": [
       "'\\nPurpose: To be able to error out certain axon\\nthat are\\n\\n1) Thin\\n2) have wide sibling angle\\n3) DO NOT HAVE A VALID WEBBING\\n\\nQuestion: How to determine if something is valid webbing or not\\n\\nPseudocode: \\n1) Find example of when there is a non-valid high branching angle without webbing\\n2) Measure the characteristics of the webbing\\n3) Write a restriction and see if only errors out that branch\\n-> do the same for other neurons if worked\\n'"
      ]
     },
     "execution_count": 15,
     "metadata": {},
     "output_type": "execute_result"
    }
   ],
   "source": [
    "\"\"\"\n",
    "Purpose: To be able to error out certain axon\n",
    "that are\n",
    "\n",
    "1) Thin\n",
    "2) have wide sibling angle\n",
    "3) DO NOT HAVE A VALID WEBBING\n",
    "\n",
    "Question: How to determine if something is valid webbing or not\n",
    "\n",
    "Pseudocode: \n",
    "1) Find example of when there is a non-valid high branching angle without webbing\n",
    "2) Measure the characteristics of the webbing\n",
    "3) Write a restriction and see if only errors out that branch\n",
    "-> do the same for other neurons if worked\n",
    "\"\"\""
   ]
  },
  {
   "cell_type": "code",
   "execution_count": 1,
   "metadata": {},
   "outputs": [],
   "source": [
    "%load_ext autoreload\n",
    "%autoreload 2"
   ]
  },
  {
   "cell_type": "code",
   "execution_count": 2,
   "metadata": {},
   "outputs": [
    {
     "name": "stderr",
     "output_type": "stream",
     "text": [
      "INFO - 2021-04-22 23:31:44,891 - settings - Setting database.host to at-database.ad.bcm.edu\n",
      "INFO - 2021-04-22 23:31:44,892 - settings - Setting database.user to celiib\n",
      "INFO - 2021-04-22 23:31:44,893 - settings - Setting database.password to newceliipass\n",
      "INFO - 2021-04-22 23:31:44,896 - settings - Setting stores to {'minnie65': {'protocol': 'file', 'location': '/mnt/dj-stor01/platinum/minnie65', 'stage': '/mnt/dj-stor01/platinum/minnie65'}, 'meshes': {'protocol': 'file', 'location': '/mnt/dj-stor01/platinum/minnie65/02/meshes', 'stage': '/mnt/dj-stor01/platinum/minnie65/02/meshes'}, 'decimated_meshes': {'protocol': 'file', 'location': '/mnt/dj-stor01/platinum/minnie65/02/decimated_meshes', 'stage': '/mnt/dj-stor01/platinum/minnie65/02/decimated_meshes'}, 'skeletons': {'protocol': 'file', 'location': '/mnt/dj-stor01/platinum/minnie65/02/skeletons'}}\n",
      "INFO - 2021-04-22 23:31:44,896 - settings - Setting enable_python_native_blobs to True\n",
      "INFO - 2021-04-22 23:31:44,906 - connection - Connected celiib@at-database.ad.bcm.edu:3306\n"
     ]
    },
    {
     "name": "stdout",
     "output_type": "stream",
     "text": [
      "Connecting celiib@at-database.ad.bcm.edu:3306\n"
     ]
    },
    {
     "name": "stderr",
     "output_type": "stream",
     "text": [
      "INFO - 2021-04-22 23:31:45,238 - settings - Setting enable_python_native_blobs to True\n",
      "INFO - 2021-04-22 23:31:45,242 - settings - Setting database.host to at-database.ad.bcm.edu\n",
      "INFO - 2021-04-22 23:31:45,243 - settings - Setting database.user to celiib\n",
      "INFO - 2021-04-22 23:31:45,244 - settings - Setting database.password to newceliipass\n",
      "INFO - 2021-04-22 23:31:45,246 - settings - Setting database.host to at-database.ad.bcm.edu\n",
      "INFO - 2021-04-22 23:31:45,247 - settings - Setting database.user to celiib\n",
      "INFO - 2021-04-22 23:31:45,248 - settings - Setting database.password to newceliipass\n",
      "INFO - 2021-04-22 23:31:45,249 - settings - Setting enable_python_native_blobs to True\n",
      "INFO - 2021-04-22 23:31:45,595 - settings - Setting enable_python_native_blobs to True\n"
     ]
    }
   ],
   "source": [
    "import numpy as np\n",
    "import datajoint as dj\n",
    "import trimesh\n",
    "from tqdm.notebook import tqdm\n",
    "from pathlib import Path\n",
    "\n",
    "from os import sys\n",
    "sys.path.append(\"/meshAfterParty/\")\n",
    "sys.path.append(\"/meshAfterParty/meshAfterParty\")\n",
    "\n",
    "import datajoint_utils as du\n",
    "from importlib import reload"
   ]
  },
  {
   "cell_type": "code",
   "execution_count": 3,
   "metadata": {},
   "outputs": [
    {
     "name": "stderr",
     "output_type": "stream",
     "text": [
      "INFO - 2021-04-22 23:31:45,701 - settings - Setting database.host to at-database.ad.bcm.edu\n",
      "INFO - 2021-04-22 23:31:45,702 - settings - Setting database.user to celiib\n",
      "INFO - 2021-04-22 23:31:45,702 - settings - Setting database.password to newceliipass\n",
      "INFO - 2021-04-22 23:31:45,703 - settings - Setting enable_python_native_blobs to True\n",
      "INFO - 2021-04-22 23:31:46,090 - settings - Setting enable_python_native_blobs to True\n"
     ]
    }
   ],
   "source": [
    "#configuring will include the adapters\n",
    "minnie,schema = du.configure_minnie_vm()"
   ]
  },
  {
   "cell_type": "code",
   "execution_count": 4,
   "metadata": {},
   "outputs": [],
   "source": [
    "import validation_utils as vu\n",
    "import neuron_visualizations as nviz\n",
    "import neuron_utils as nru"
   ]
  },
  {
   "cell_type": "code",
   "execution_count": 5,
   "metadata": {},
   "outputs": [
    {
     "data": {
      "text/plain": [
       "'\\nNeurons to try: \\n\\n864691136201041854\\n\\n\\n'"
      ]
     },
     "execution_count": 5,
     "metadata": {},
     "output_type": "execute_result"
    }
   ],
   "source": [
    "\"\"\"\n",
    "Neurons to try: \n",
    "\n",
    "864691136201041854\n",
    "\n",
    "\n",
    "\"\"\""
   ]
  },
  {
   "cell_type": "markdown",
   "metadata": {},
   "source": [
    "# Downloading the Neuron"
   ]
  },
  {
   "cell_type": "code",
   "execution_count": null,
   "metadata": {},
   "outputs": [],
   "source": []
  },
  {
   "cell_type": "code",
   "execution_count": 9,
   "metadata": {},
   "outputs": [
    {
     "data": {
      "text/html": [
       "\n",
       "        \n",
       "        <style type=\"text/css\">\n",
       "            .Relation{\n",
       "                border-collapse:collapse;\n",
       "            }\n",
       "            .Relation th{\n",
       "                background: #A0A0A0; color: #ffffff; padding:4px; border:#f0e0e0 1px solid;\n",
       "                font-weight: normal; font-family: monospace; font-size: 100%;\n",
       "            }\n",
       "            .Relation td{\n",
       "                padding:4px; border:#f0e0e0 1px solid; font-size:100%;\n",
       "            }\n",
       "            .Relation tr:nth-child(odd){\n",
       "                background: #ffffff;\n",
       "            }\n",
       "            .Relation tr:nth-child(even){\n",
       "                background: #f3f1ff;\n",
       "            }\n",
       "            /* Tooltip container */\n",
       "            .djtooltip {\n",
       "            }\n",
       "            /* Tooltip text */\n",
       "            .djtooltip .djtooltiptext {\n",
       "                visibility: hidden;\n",
       "                width: 120px;\n",
       "                background-color: black;\n",
       "                color: #fff;\n",
       "                text-align: center;\n",
       "                padding: 5px 0;\n",
       "                border-radius: 6px;\n",
       "                /* Position the tooltip text - see examples below! */\n",
       "                position: absolute;\n",
       "                z-index: 1;\n",
       "            }\n",
       "            #primary {\n",
       "                font-weight: bold;\n",
       "                color: black;\n",
       "            }\n",
       "\n",
       "            #nonprimary {\n",
       "                font-weight: normal;\n",
       "                color: white;\n",
       "            }\n",
       "\n",
       "            /* Show the tooltip text when you mouse over the tooltip container */\n",
       "            .djtooltip:hover .djtooltiptext {\n",
       "                visibility: visible;\n",
       "            }\n",
       "        </style>\n",
       "        \n",
       "        <b></b>\n",
       "            <div style=\"max-height:1000px;max-width:1500px;overflow:auto;\">\n",
       "            <table border=\"1\" class=\"Relation\">\n",
       "                <thead> <tr style=\"text-align: right;\"> <th> <div class=\"djtooltip\">\n",
       "                                <p id=\"primary\">segment_id</p>\n",
       "                                <span class=\"djtooltiptext\">segment id unique within each Segmentation</span>\n",
       "                            </div></th><th><div class=\"djtooltip\">\n",
       "                                <p id=\"primary\">decimation_version</p>\n",
       "                                <span class=\"djtooltiptext\"></span>\n",
       "                            </div></th><th><div class=\"djtooltip\">\n",
       "                                <p id=\"primary\">decimation_ratio</p>\n",
       "                                <span class=\"djtooltiptext\">ratio of remaining mesh vertices/faces (which ones depends on what metric the decimation technique uses)</span>\n",
       "                            </div></th><th><div class=\"djtooltip\">\n",
       "                                <p id=\"primary\">ver</p>\n",
       "                                <span class=\"djtooltiptext\">the version number of the materializaiton</span>\n",
       "                            </div></th><th><div class=\"djtooltip\">\n",
       "                                <p id=\"primary\">process_version</p>\n",
       "                                <span class=\"djtooltiptext\">the version of the preprocessing pipeline run</span>\n",
       "                            </div></th><th><div class=\"djtooltip\">\n",
       "                                <p id=\"primary\">index</p>\n",
       "                                <span class=\"djtooltiptext\">the index of the neuron object that resulted from that mesh (indexed starting at 0)</span>\n",
       "                            </div></th><th><div class=\"djtooltip\">\n",
       "                                <p id=\"nonprimary\">multiplicity</p>\n",
       "                                <span class=\"djtooltiptext\">the number of somas found for this base segment</span>\n",
       "                            </div></th><th><div class=\"djtooltip\">\n",
       "                                <p id=\"nonprimary\">decomposition</p>\n",
       "                                <span class=\"djtooltiptext\"></span>\n",
       "                            </div></th><th><div class=\"djtooltip\">\n",
       "                                <p id=\"nonprimary\">n_vertices</p>\n",
       "                                <span class=\"djtooltiptext\">number of vertices</span>\n",
       "                            </div></th><th><div class=\"djtooltip\">\n",
       "                                <p id=\"nonprimary\">n_faces</p>\n",
       "                                <span class=\"djtooltiptext\">number of faces</span>\n",
       "                            </div></th><th><div class=\"djtooltip\">\n",
       "                                <p id=\"nonprimary\">n_not_processed_soma_containing_meshes</p>\n",
       "                                <span class=\"djtooltiptext\">the number of meshes with somas that were not processed</span>\n",
       "                            </div></th><th><div class=\"djtooltip\">\n",
       "                                <p id=\"nonprimary\">n_error_limbs</p>\n",
       "                                <span class=\"djtooltiptext\">the number of limbs that are touching multiple somas or 1 soma in multiple places</span>\n",
       "                            </div></th><th><div class=\"djtooltip\">\n",
       "                                <p id=\"nonprimary\">n_same_soma_multi_touching_limbs</p>\n",
       "                                <span class=\"djtooltiptext\">number of limbs that touch the same soma multiple times</span>\n",
       "                            </div></th><th><div class=\"djtooltip\">\n",
       "                                <p id=\"nonprimary\">n_multi_soma_touching_limbs</p>\n",
       "                                <span class=\"djtooltiptext\">number of limbs that touch multiple somas</span>\n",
       "                            </div></th><th><div class=\"djtooltip\">\n",
       "                                <p id=\"nonprimary\">n_somas</p>\n",
       "                                <span class=\"djtooltiptext\">number of soma meshes detected</span>\n",
       "                            </div></th><th><div class=\"djtooltip\">\n",
       "                                <p id=\"nonprimary\">n_limbs</p>\n",
       "                                <span class=\"djtooltiptext\"></span>\n",
       "                            </div></th><th><div class=\"djtooltip\">\n",
       "                                <p id=\"nonprimary\">n_branches</p>\n",
       "                                <span class=\"djtooltiptext\"></span>\n",
       "                            </div></th><th><div class=\"djtooltip\">\n",
       "                                <p id=\"nonprimary\">max_limb_n_branches</p>\n",
       "                                <span class=\"djtooltiptext\"></span>\n",
       "                            </div></th><th><div class=\"djtooltip\">\n",
       "                                <p id=\"nonprimary\">skeletal_length</p>\n",
       "                                <span class=\"djtooltiptext\"></span>\n",
       "                            </div></th><th><div class=\"djtooltip\">\n",
       "                                <p id=\"nonprimary\">max_limb_skeletal_length</p>\n",
       "                                <span class=\"djtooltiptext\"></span>\n",
       "                            </div></th><th><div class=\"djtooltip\">\n",
       "                                <p id=\"nonprimary\">median_branch_length</p>\n",
       "                                <span class=\"djtooltiptext\">gives information on average skeletal length to next branch point</span>\n",
       "                            </div></th><th><div class=\"djtooltip\">\n",
       "                                <p id=\"nonprimary\">width_median</p>\n",
       "                                <span class=\"djtooltiptext\">median width from mesh center without spines removed</span>\n",
       "                            </div></th><th><div class=\"djtooltip\">\n",
       "                                <p id=\"nonprimary\">width_no_spine_median</p>\n",
       "                                <span class=\"djtooltiptext\">median width from mesh center with spines removed</span>\n",
       "                            </div></th><th><div class=\"djtooltip\">\n",
       "                                <p id=\"nonprimary\">width_90_perc</p>\n",
       "                                <span class=\"djtooltiptext\">90th percentile for width without spines removed</span>\n",
       "                            </div></th><th><div class=\"djtooltip\">\n",
       "                                <p id=\"nonprimary\">width_no_spine_90_perc</p>\n",
       "                                <span class=\"djtooltiptext\">90th percentile for width with spines removed</span>\n",
       "                            </div></th><th><div class=\"djtooltip\">\n",
       "                                <p id=\"nonprimary\">n_spines</p>\n",
       "                                <span class=\"djtooltiptext\"></span>\n",
       "                            </div></th><th><div class=\"djtooltip\">\n",
       "                                <p id=\"nonprimary\">spine_density</p>\n",
       "                                <span class=\"djtooltiptext\">n_spines/ skeletal_length</span>\n",
       "                            </div></th><th><div class=\"djtooltip\">\n",
       "                                <p id=\"nonprimary\">spines_per_branch</p>\n",
       "                                <span class=\"djtooltiptext\"></span>\n",
       "                            </div></th><th><div class=\"djtooltip\">\n",
       "                                <p id=\"nonprimary\">skeletal_length_eligible</p>\n",
       "                                <span class=\"djtooltiptext\">the skeletal length for all branches searched for spines</span>\n",
       "                            </div></th><th><div class=\"djtooltip\">\n",
       "                                <p id=\"nonprimary\">n_spine_eligible_branches</p>\n",
       "                                <span class=\"djtooltiptext\">the number of branches that were checked for spines because passed width threshold</span>\n",
       "                            </div></th><th><div class=\"djtooltip\">\n",
       "                                <p id=\"nonprimary\">spine_density_eligible</p>\n",
       "                                <span class=\"djtooltiptext\">n_spines/skeletal_length_eligible</span>\n",
       "                            </div></th><th><div class=\"djtooltip\">\n",
       "                                <p id=\"nonprimary\">spines_per_branch_eligible</p>\n",
       "                                <span class=\"djtooltiptext\">n_spines/n_spine_eligible_branches</span>\n",
       "                            </div></th><th><div class=\"djtooltip\">\n",
       "                                <p id=\"nonprimary\">total_spine_volume</p>\n",
       "                                <span class=\"djtooltiptext\">the sum of all spine volume</span>\n",
       "                            </div></th><th><div class=\"djtooltip\">\n",
       "                                <p id=\"nonprimary\">spine_volume_median</p>\n",
       "                                <span class=\"djtooltiptext\">median of the spine volume for those spines with able to calculate volume</span>\n",
       "                            </div></th><th><div class=\"djtooltip\">\n",
       "                                <p id=\"nonprimary\">spine_volume_density</p>\n",
       "                                <span class=\"djtooltiptext\">total_spine_volume/skeletal_length</span>\n",
       "                            </div></th><th><div class=\"djtooltip\">\n",
       "                                <p id=\"nonprimary\">spine_volume_density_eligible</p>\n",
       "                                <span class=\"djtooltiptext\">total_spine_volume/skeletal_length_eligible</span>\n",
       "                            </div></th><th><div class=\"djtooltip\">\n",
       "                                <p id=\"nonprimary\">spine_volume_per_branch_eligible</p>\n",
       "                                <span class=\"djtooltiptext\">total_spine_volume/n_spine_eligible_branches</span>\n",
       "                            </div></th><th><div class=\"djtooltip\">\n",
       "                                <p id=\"nonprimary\">run_time</p>\n",
       "                                <span class=\"djtooltiptext\">the amount of time to run (seconds)</span>\n",
       "                            </div> </th> </tr> </thead>\n",
       "                <tbody> <tr> <td>864691136201041854</td>\n",
       "<td>0</td>\n",
       "<td>0.25</td>\n",
       "<td>30.00</td>\n",
       "<td>7</td>\n",
       "<td>0</td>\n",
       "<td>1</td>\n",
       "<td>=BLOB=</td>\n",
       "<td>587695</td>\n",
       "<td>1171068</td>\n",
       "<td>0</td>\n",
       "<td>0</td>\n",
       "<td>0</td>\n",
       "<td>0</td>\n",
       "<td>1</td>\n",
       "<td>10</td>\n",
       "<td>120</td>\n",
       "<td>55</td>\n",
       "<td>5076852.519968285</td>\n",
       "<td>2366255.207142101</td>\n",
       "<td>37283.799</td>\n",
       "<td>307.033</td>\n",
       "<td>275.246</td>\n",
       "<td>516.579</td>\n",
       "<td>484.631</td>\n",
       "<td>2233</td>\n",
       "<td>0.00043983944603810345</td>\n",
       "<td>18.608333333333334</td>\n",
       "<td>4711527.557</td>\n",
       "<td>105</td>\n",
       "<td>0.0004739439540542201</td>\n",
       "<td>21.267</td>\n",
       "<td>556357196991.679</td>\n",
       "<td>133389301.4617106</td>\n",
       "<td>109587.0314931178</td>\n",
       "<td>118084.2498023999</td>\n",
       "<td>5298639971.349323</td>\n",
       "<td>2272.7736</td> </tr> </tbody>\n",
       "            </table>\n",
       "            \n",
       "            <p>Total: 1</p></div>\n",
       "            "
      ],
      "text/plain": [
       "*segment_id    *decimation_ve *decimation_ra *ver      *process_versi *index    multiplicity   decomposit n_vertices     n_faces     n_not_processe n_error_limbs  n_same_soma_mu n_multi_soma_t n_somas     n_limbs     n_branches     max_limb_n_bra skeletal_lengt max_limb_skele median_branch_ width_median   width_no_spine width_90_perc  width_no_spine n_spines     spine_density  spines_per_bra skeletal_lengt n_spine_eligib spine_density_ spines_per_bra total_spine_vo spine_volume_m spine_volume_d spine_volume_d spine_volume_p run_time     \n",
       "+------------+ +------------+ +------------+ +-------+ +------------+ +-------+ +------------+ +--------+ +------------+ +---------+ +------------+ +------------+ +------------+ +------------+ +---------+ +---------+ +------------+ +------------+ +------------+ +------------+ +------------+ +------------+ +------------+ +------------+ +------------+ +----------+ +------------+ +------------+ +------------+ +------------+ +------------+ +------------+ +------------+ +------------+ +------------+ +------------+ +------------+ +-----------+\n",
       "86469113620104 0              0.25           30.00     7              0         1              =BLOB=     587695         1171068     0              0              0              0              1           10          120            55             5076852.519968 2366255.207142 37283.799      307.033        275.246        516.579        484.631        2233         0.000439839446 18.60833333333 4711527.557    105            0.000473943954 21.267         556357196991.6 133389301.4617 109587.0314931 118084.2498023 5298639971.349 2272.7736    \n",
       " (Total: 1)"
      ]
     },
     "execution_count": 9,
     "metadata": {},
     "output_type": "execute_result"
    }
   ],
   "source": [
    "segment_id = 864691136201041854\n",
    "minnie.Decomposition() & f\"segment_id = {segment_id}\""
   ]
  },
  {
   "cell_type": "code",
   "execution_count": 8,
   "metadata": {},
   "outputs": [
    {
     "data": {
      "text/html": [
       "\n",
       "        \n",
       "        <style type=\"text/css\">\n",
       "            .Relation{\n",
       "                border-collapse:collapse;\n",
       "            }\n",
       "            .Relation th{\n",
       "                background: #A0A0A0; color: #ffffff; padding:4px; border:#f0e0e0 1px solid;\n",
       "                font-weight: normal; font-family: monospace; font-size: 100%;\n",
       "            }\n",
       "            .Relation td{\n",
       "                padding:4px; border:#f0e0e0 1px solid; font-size:100%;\n",
       "            }\n",
       "            .Relation tr:nth-child(odd){\n",
       "                background: #ffffff;\n",
       "            }\n",
       "            .Relation tr:nth-child(even){\n",
       "                background: #f3f1ff;\n",
       "            }\n",
       "            /* Tooltip container */\n",
       "            .djtooltip {\n",
       "            }\n",
       "            /* Tooltip text */\n",
       "            .djtooltip .djtooltiptext {\n",
       "                visibility: hidden;\n",
       "                width: 120px;\n",
       "                background-color: black;\n",
       "                color: #fff;\n",
       "                text-align: center;\n",
       "                padding: 5px 0;\n",
       "                border-radius: 6px;\n",
       "                /* Position the tooltip text - see examples below! */\n",
       "                position: absolute;\n",
       "                z-index: 1;\n",
       "            }\n",
       "            #primary {\n",
       "                font-weight: bold;\n",
       "                color: black;\n",
       "            }\n",
       "\n",
       "            #nonprimary {\n",
       "                font-weight: normal;\n",
       "                color: white;\n",
       "            }\n",
       "\n",
       "            /* Show the tooltip text when you mouse over the tooltip container */\n",
       "            .djtooltip:hover .djtooltiptext {\n",
       "                visibility: visible;\n",
       "            }\n",
       "        </style>\n",
       "        \n",
       "        <b></b>\n",
       "            <div style=\"max-height:1000px;max-width:1500px;overflow:auto;\">\n",
       "            <table border=\"1\" class=\"Relation\">\n",
       "                <thead> <tr style=\"text-align: right;\"> <th> <div class=\"djtooltip\">\n",
       "                                <p id=\"primary\">segment_id</p>\n",
       "                                <span class=\"djtooltiptext\">segment id unique within each Segmentation</span>\n",
       "                            </div></th><th><div class=\"djtooltip\">\n",
       "                                <p id=\"primary\">decimation_version</p>\n",
       "                                <span class=\"djtooltiptext\"></span>\n",
       "                            </div></th><th><div class=\"djtooltip\">\n",
       "                                <p id=\"primary\">decimation_ratio</p>\n",
       "                                <span class=\"djtooltiptext\">ratio of remaining mesh vertices/faces (which ones depends on what metric the decimation technique uses)</span>\n",
       "                            </div></th><th><div class=\"djtooltip\">\n",
       "                                <p id=\"primary\">ver</p>\n",
       "                                <span class=\"djtooltiptext\">the version number of the materializaiton</span>\n",
       "                            </div></th><th><div class=\"djtooltip\">\n",
       "                                <p id=\"primary\">process_version</p>\n",
       "                                <span class=\"djtooltiptext\">the version of the preprocessing pipeline run</span>\n",
       "                            </div></th><th><div class=\"djtooltip\">\n",
       "                                <p id=\"primary\">index</p>\n",
       "                                <span class=\"djtooltiptext\">the index of the neuron object that resulted from that mesh (indexed starting at 0)</span>\n",
       "                            </div></th><th><div class=\"djtooltip\">\n",
       "                                <p id=\"nonprimary\">decomposition</p>\n",
       "                                <span class=\"djtooltiptext\"></span>\n",
       "                            </div> </th> </tr> </thead>\n",
       "                <tbody> <tr>  </tr> </tbody>\n",
       "            </table>\n",
       "            \n",
       "            <p>Total: 0</p></div>\n",
       "            "
      ],
      "text/plain": [
       "*segment_id    *decimation_ve *decimation_ra *ver    *process_versi *index    decomposit\n",
       "+------------+ +------------+ +------------+ +-----+ +------------+ +-------+ +--------+\n",
       "\n",
       " (Total: 0)"
      ]
     },
     "execution_count": 8,
     "metadata": {},
     "output_type": "execute_result"
    }
   ],
   "source": [
    "minnie.AutoProofreadValidationBorderNeurons() & f\"segment_id={segment_id}\""
   ]
  },
  {
   "cell_type": "code",
   "execution_count": 11,
   "metadata": {},
   "outputs": [
    {
     "name": "stdout",
     "output_type": "stream",
     "text": [
      "Decompressing Neuron in minimal output mode...please wait\n",
      "Pulled from Table Decomposition so setting split_index = 0\n",
      "Dont need spine recalculation\n",
      "Number of Neurons found = 1\n"
     ]
    }
   ],
   "source": [
    "neuron_objs,_ = du.decomposition_with_spine_recalculation(segment_id=segment_id)"
   ]
  },
  {
   "cell_type": "code",
   "execution_count": 12,
   "metadata": {},
   "outputs": [],
   "source": [
    "neuron_obj = neuron_objs[0]"
   ]
  },
  {
   "cell_type": "code",
   "execution_count": 17,
   "metadata": {},
   "outputs": [],
   "source": [
    "neuron_obj_orig = neuron_obj"
   ]
  },
  {
   "cell_type": "code",
   "execution_count": 13,
   "metadata": {},
   "outputs": [
    {
     "name": "stdout",
     "output_type": "stream",
     "text": [
      "\n",
      " Working on visualization type: mesh\n"
     ]
    },
    {
     "data": {
      "application/vnd.jupyter.widget-view+json": {
       "model_id": "86296a70f90b4e37a727e3ced1459ac5",
       "version_major": 2,
       "version_minor": 0
      },
      "text/plain": [
       "VBox(children=(Figure(camera=PerspectiveCamera(fov=46.0, position=(0.0, 0.0, 2.0), projectionMatrix=(1.0, 0.0,…"
      ]
     },
     "metadata": {},
     "output_type": "display_data"
    }
   ],
   "source": [
    "nviz.visualize_neuron_lite(neuron_obj)"
   ]
  },
  {
   "cell_type": "code",
   "execution_count": 14,
   "metadata": {
    "scrolled": true
   },
   "outputs": [
    {
     "name": "stdout",
     "output_type": "stream",
     "text": [
      "endnodes_to_test = []\n",
      "endnodes_to_test = [3649]\n",
      "Skeleton paths distances = [24999.89053401]\n",
      "Filtered indexes = [0]\n",
      "len(filtered_skeletons) = 1\n",
      "sk_angles = [175.43074044]\n",
      "base_final_widths = [346.63472215 299.33870586]\n",
      "overall_ais_width = 231.7141535715126\n",
      "ais_width = 322.98671400220144\n",
      "endnodes_to_test = []\n",
      "Starting axon branch was the starting node so using border vertices and NOT computing upstream branch\n",
      "upstream_node_to_axon_starting_branch = None\n",
      "root_curr = [1374580.   512567.8  762226.6]\n",
      "Time for preparing soma vertices and root: 0.0005867481231689453\n",
      "invalidation_d = 1500\n",
      "smooth_neighborhood = 0\n",
      "cc_vertex_thresh = 10\n"
     ]
    },
    {
     "name": "stderr",
     "output_type": "stream",
     "text": [
      "\r",
      "  0%|          | 0/1 [00:00<?, ?it/s]"
     ]
    },
    {
     "data": {
      "application/vnd.jupyter.widget-view+json": {
       "model_id": "a7d16a962c6a440aa981defdbf23e97f",
       "version_major": 2,
       "version_minor": 0
      },
      "text/plain": [
       "  0%|          | 0/30495 [00:00<?, ?it/s]"
      ]
     },
     "metadata": {},
     "output_type": "display_data"
    },
    {
     "name": "stderr",
     "output_type": "stream",
     "text": [
      "100%|██████████| 1/1 [00:00<00:00,  1.79it/s]\n"
     ]
    },
    {
     "name": "stdout",
     "output_type": "stream",
     "text": [
      "meshparty_segment_size = 100\n",
      "Time for 1st pass MP skeletonization: 1.5103788375854492\n",
      "connecting at the root\n",
      "branches_touching_root = [58]\n",
      "combining close nodes\n",
      "combine_threshold = 1300\n",
      "length of Graph = 7560\n",
      "After combining close endpoints max(kept_branches_idx) = 58, len(kept_branches_idx) = 55\n",
      "empty_indices % = 0.0\n",
      " conflict_indices % = 0.020372171218539334\n"
     ]
    },
    {
     "data": {
      "application/vnd.jupyter.widget-view+json": {
       "model_id": "d6acd88fde9549218101ae3d3a6117ff",
       "version_major": 2,
       "version_minor": 0
      },
      "text/plain": [
       "  0%|          | 0/27 [00:00<?, ?it/s]"
      ]
     },
     "metadata": {},
     "output_type": "display_data"
    },
    {
     "name": "stdout",
     "output_type": "stream",
     "text": [
      "AFTER face_lookup_resolved_test\n"
     ]
    },
    {
     "data": {
      "application/vnd.jupyter.widget-view+json": {
       "model_id": "46055604d3f549509cc72e99c7cee4bf",
       "version_major": 2,
       "version_minor": 0
      },
      "text/plain": [
       "  0%|          | 0/55 [00:00<?, ?it/s]"
      ]
     },
     "metadata": {},
     "output_type": "display_data"
    },
    {
     "name": "stdout",
     "output_type": "stream",
     "text": [
      "Decomposing first pass: 6.436042308807373\n",
      "Only Using MeshParty Skeletonization and Mesh Correspondence\n",
      "Another print\n",
      "Divinding into MP and MAP pieces: 3.886222839355469e-05\n",
      "Total time for MAP sublimb processing 6.9141387939453125e-06\n",
      "---- Working on MP Decomposition #0 ----\n",
      "Using Quicker soma_to_piece_touching_vertices because no MAP and only one sublimb_mesh piece \n",
      "MP filtering soma verts: 6.628036499023438e-05\n",
      "Fixing Possible Soma Extension Branch for Sublimb 0\n",
      "Total time for mesh KDTree = 0.0036041736602783203\n",
      "sbv[0].reshape(-1,3) = [[1374580.   512567.8  762226.6]]\n",
      "closest_sk_pt_coord BEFORE = [1375007.23967109  512505.39213677  761700.23850733]\n",
      "current_skeleton.shape = (33, 2, 3)\n",
      "node_for_stitch = 15: [1375007.23967109  512505.39213677  761700.23850733]\n",
      "node_for_stitch AFTER = 15: [1375007.23967109  512505.39213677  761700.23850733]\n",
      "possible_node_loc = [10 33]\n",
      "possible_node_loc AFTER = [10 33]\n",
      "curr_shortest_path = [15, 10.0]\n",
      "Current stitch point was not a branch or endpoint, shortest_path_length to one = 99.99999999998099\n",
      "Changing the stitch point becasue the distance to end or branch node was 99.99999999998099\n",
      "New stitch point has degree 1\n",
      "change_status for create soma extending pieces = True\n",
      "closest_sk_pt_coord AFTER = [1374964.   512419.5  761672.8]\n",
      "skipping soma 0 because closest skeleton node was already end node\n",
      "endpoints_must_keep = {0: array([[1374964. ,  512419.5,  761672.8]])}\n",
      "match_sk_branches = [54]\n",
      "The new branch info was none so skipping \n",
      "\n",
      "No soma extending branch was added for this sublimb even though it had a soma border (means they already existed)\n",
      "MP (because soma touching verts) soma extension add: 3.7691056728363037\n",
      "There were not both MAP and MP pieces so skipping the stitch resolving phase\n",
      "Time for decomp of Limb = 12.045717477798462\n",
      "Number of matching vertices = 20\n",
      "Only one endpoint after filtering away the endpoints that are not on the skeleton\n",
      "Using Distance measure skeletal_distance\n",
      "endpoints_must_keep = [[1374964.   512419.5  761672.8]]\n",
      "Number of end_nodes BEFORE filtering = 31\n",
      "all_single_nodes_to_eliminate = [16]\n",
      "no small end nodes to get rid of so returning whole skeleton\n",
      "Removed 0 skeletal branches\n"
     ]
    },
    {
     "data": {
      "application/vnd.jupyter.widget-view+json": {
       "model_id": "ee5f799e077643d0a2b3806d85e7f970",
       "version_major": 2,
       "version_minor": 0
      },
      "text/plain": [
       "  0%|          | 0/55 [00:00<?, ?it/s]"
      ]
     },
     "metadata": {},
     "output_type": "display_data"
    },
    {
     "name": "stdout",
     "output_type": "stream",
     "text": [
      "60827 60828\n",
      "For marked faces: None\n",
      "empty_indices % = 0.0\n",
      " conflict_indices % = 0.0\n"
     ]
    },
    {
     "data": {
      "application/vnd.jupyter.widget-view+json": {
       "model_id": "12a844b30f4b4ee68e9bd411f50ca5d3",
       "version_major": 2,
       "version_minor": 0
      },
      "text/plain": [
       "0it [00:00, ?it/s]"
      ]
     },
     "metadata": {},
     "output_type": "display_data"
    },
    {
     "name": "stdout",
     "output_type": "stream",
     "text": [
      "AFTER face_lookup_resolved_test\n"
     ]
    },
    {
     "data": {
      "application/vnd.jupyter.widget-view+json": {
       "model_id": "445d4e165be548be96c76da851c0e175",
       "version_major": 2,
       "version_minor": 0
      },
      "text/plain": [
       "  0%|          | 0/55 [00:00<?, ?it/s]"
      ]
     },
     "metadata": {},
     "output_type": "display_data"
    },
    {
     "name": "stdout",
     "output_type": "stream",
     "text": [
      "Limb Correspondence before stitching = 55\n",
      "Limb Correspondence AFTER stitching = 55\n",
      "Upstream node was None so don't have to adjust\n",
      "concept_network_dict = {0: [<networkx_utils.GraphOrderedEdges object at 0x7f64aa8f1e10>]}\n",
      "\n",
      "\n",
      "----Working on seperate_graph 0----\n",
      "\n",
      "\n",
      "---------Working on soma_idx = 0, soma_group_idx 0, endpt = [1374964.   512419.5  761672.8]---------\n",
      "Starting_edge inside branches_to_conept = [[1374964.   512419.5  761672.8]\n",
      " [1375147.   515176.9  762817.5]]\n",
      "At the start, starting_node (in terms of the skeleton, that shouldn't match the starting edge) = [28]\n",
      "printing out current edge:\n",
      "[[1374964.   512419.5  761672.8]\n",
      " [1375147.   515176.9  762817.5]]\n",
      "edge_endpoints_to_process was empty so exiting loop after 55 iterations\n",
      "starting_node in concept map (that should match the starting edge) = 28\n",
      "Total time for branches to concept conversion = 0.5956723690032959\n",
      "\n",
      "Done generating concept network \n",
      "\n",
      "\n"
     ]
    },
    {
     "data": {
      "application/vnd.jupyter.widget-view+json": {
       "model_id": "77d8163620de4c9fb3fa86948a16a830",
       "version_major": 2,
       "version_minor": 0
      },
      "text/plain": [
       "  0%|          | 0/32 [00:00<?, ?it/s]"
      ]
     },
     "metadata": {},
     "output_type": "display_data"
    },
    {
     "data": {
      "application/vnd.jupyter.widget-view+json": {
       "model_id": "8b07f95d807f45e88ea051c017e7651a",
       "version_major": 2,
       "version_minor": 0
      },
      "text/plain": [
       "  0%|          | 0/14 [00:00<?, ?it/s]"
      ]
     },
     "metadata": {},
     "output_type": "display_data"
    },
    {
     "data": {
      "application/vnd.jupyter.widget-view+json": {
       "model_id": "52bd95338ff5479481ec5766cf3dbfbd",
       "version_major": 2,
       "version_minor": 0
      },
      "text/plain": [
       "  0%|          | 0/10 [00:00<?, ?it/s]"
      ]
     },
     "metadata": {},
     "output_type": "display_data"
    },
    {
     "data": {
      "application/vnd.jupyter.widget-view+json": {
       "model_id": "3c4403d277b34d3f80dff5349f4ca974",
       "version_major": 2,
       "version_minor": 0
      },
      "text/plain": [
       "  0%|          | 0/7 [00:00<?, ?it/s]"
      ]
     },
     "metadata": {},
     "output_type": "display_data"
    },
    {
     "data": {
      "application/vnd.jupyter.widget-view+json": {
       "model_id": "38d85a4fcafc4e50b76475db57575140",
       "version_major": 2,
       "version_minor": 0
      },
      "text/plain": [
       "  0%|          | 0/5 [00:00<?, ?it/s]"
      ]
     },
     "metadata": {},
     "output_type": "display_data"
    },
    {
     "data": {
      "application/vnd.jupyter.widget-view+json": {
       "model_id": "64b3444faec34367983a4e83b3280d84",
       "version_major": 2,
       "version_minor": 0
      },
      "text/plain": [
       "  0%|          | 0/2 [00:00<?, ?it/s]"
      ]
     },
     "metadata": {},
     "output_type": "display_data"
    },
    {
     "data": {
      "application/vnd.jupyter.widget-view+json": {
       "model_id": "2ee3ecde8fab42bca9e699c6fefb05f8",
       "version_major": 2,
       "version_minor": 0
      },
      "text/plain": [
       "  0%|          | 0/8 [00:00<?, ?it/s]"
      ]
     },
     "metadata": {},
     "output_type": "display_data"
    },
    {
     "data": {
      "application/vnd.jupyter.widget-view+json": {
       "model_id": "f2595a23fcaa4e218fc3e388ec1b935a",
       "version_major": 2,
       "version_minor": 0
      },
      "text/plain": [
       "  0%|          | 0/6 [00:00<?, ?it/s]"
      ]
     },
     "metadata": {},
     "output_type": "display_data"
    },
    {
     "data": {
      "application/vnd.jupyter.widget-view+json": {
       "model_id": "cc338f235d764789a79856ab82371813",
       "version_major": 2,
       "version_minor": 0
      },
      "text/plain": [
       "  0%|          | 0/6 [00:00<?, ?it/s]"
      ]
     },
     "metadata": {},
     "output_type": "display_data"
    },
    {
     "data": {
      "application/vnd.jupyter.widget-view+json": {
       "model_id": "5fe1e84b1d8a47ea9b997e6bec5a7a23",
       "version_major": 2,
       "version_minor": 0
      },
      "text/plain": [
       "  0%|          | 0/2 [00:00<?, ?it/s]"
      ]
     },
     "metadata": {},
     "output_type": "display_data"
    },
    {
     "data": {
      "application/vnd.jupyter.widget-view+json": {
       "model_id": "faf5c9c16d9d4ea5b8e21635dd509e97",
       "version_major": 2,
       "version_minor": 0
      },
      "text/plain": [
       "  0%|          | 0/9 [00:00<?, ?it/s]"
      ]
     },
     "metadata": {},
     "output_type": "display_data"
    },
    {
     "data": {
      "application/vnd.jupyter.widget-view+json": {
       "model_id": "6087e83bbac34d53b67b5f388c60c66d",
       "version_major": 2,
       "version_minor": 0
      },
      "text/plain": [
       "  0%|          | 0/7 [00:00<?, ?it/s]"
      ]
     },
     "metadata": {},
     "output_type": "display_data"
    },
    {
     "data": {
      "application/vnd.jupyter.widget-view+json": {
       "model_id": "d0e51798c6de40d2bed1952451196df5",
       "version_major": 2,
       "version_minor": 0
      },
      "text/plain": [
       "  0%|          | 0/9 [00:00<?, ?it/s]"
      ]
     },
     "metadata": {},
     "output_type": "display_data"
    },
    {
     "data": {
      "application/vnd.jupyter.widget-view+json": {
       "model_id": "5af23da6ae0e4606a3d52961ca69f6d0",
       "version_major": 2,
       "version_minor": 0
      },
      "text/plain": [
       "  0%|          | 0/4 [00:00<?, ?it/s]"
      ]
     },
     "metadata": {},
     "output_type": "display_data"
    },
    {
     "data": {
      "application/vnd.jupyter.widget-view+json": {
       "model_id": "22c9e656054e4555aefb616d7e1aaa7c",
       "version_major": 2,
       "version_minor": 0
      },
      "text/plain": [
       "  0%|          | 0/3 [00:00<?, ?it/s]"
      ]
     },
     "metadata": {},
     "output_type": "display_data"
    },
    {
     "data": {
      "application/vnd.jupyter.widget-view+json": {
       "model_id": "d3e5edcac9384ead8892f00f4cf7cb2d",
       "version_major": 2,
       "version_minor": 0
      },
      "text/plain": [
       "  0%|          | 0/5 [00:00<?, ?it/s]"
      ]
     },
     "metadata": {},
     "output_type": "display_data"
    },
    {
     "data": {
      "application/vnd.jupyter.widget-view+json": {
       "model_id": "5feaf3fb3d85450f96b0a51aae3ac3ea",
       "version_major": 2,
       "version_minor": 0
      },
      "text/plain": [
       "  0%|          | 0/12 [00:00<?, ?it/s]"
      ]
     },
     "metadata": {},
     "output_type": "display_data"
    },
    {
     "data": {
      "application/vnd.jupyter.widget-view+json": {
       "model_id": "b82bbeb4c0d04d1a9d56ae7535c2bf9d",
       "version_major": 2,
       "version_minor": 0
      },
      "text/plain": [
       "  0%|          | 0/7 [00:00<?, ?it/s]"
      ]
     },
     "metadata": {},
     "output_type": "display_data"
    },
    {
     "data": {
      "application/vnd.jupyter.widget-view+json": {
       "model_id": "2070504cc6b34919951447f20bdb4a35",
       "version_major": 2,
       "version_minor": 0
      },
      "text/plain": [
       "  0%|          | 0/4 [00:00<?, ?it/s]"
      ]
     },
     "metadata": {},
     "output_type": "display_data"
    },
    {
     "data": {
      "application/vnd.jupyter.widget-view+json": {
       "model_id": "e5ad197f6ab643a69d9c08db631a6095",
       "version_major": 2,
       "version_minor": 0
      },
      "text/plain": [
       "  0%|          | 0/9 [00:00<?, ?it/s]"
      ]
     },
     "metadata": {},
     "output_type": "display_data"
    },
    {
     "data": {
      "application/vnd.jupyter.widget-view+json": {
       "model_id": "c1e8fc5dd4b145ee97bf7f9ce47647e6",
       "version_major": 2,
       "version_minor": 0
      },
      "text/plain": [
       "  0%|          | 0/15 [00:00<?, ?it/s]"
      ]
     },
     "metadata": {},
     "output_type": "display_data"
    },
    {
     "data": {
      "application/vnd.jupyter.widget-view+json": {
       "model_id": "df8674b8fab1464da22966e2620667ce",
       "version_major": 2,
       "version_minor": 0
      },
      "text/plain": [
       "  0%|          | 0/8 [00:00<?, ?it/s]"
      ]
     },
     "metadata": {},
     "output_type": "display_data"
    },
    {
     "data": {
      "application/vnd.jupyter.widget-view+json": {
       "model_id": "f5512c4b34024b0ab22e4f790f60837e",
       "version_major": 2,
       "version_minor": 0
      },
      "text/plain": [
       "  0%|          | 0/4 [00:00<?, ?it/s]"
      ]
     },
     "metadata": {},
     "output_type": "display_data"
    },
    {
     "data": {
      "application/vnd.jupyter.widget-view+json": {
       "model_id": "e56bc90ed8234d5bb381a17989723995",
       "version_major": 2,
       "version_minor": 0
      },
      "text/plain": [
       "  0%|          | 0/17 [00:00<?, ?it/s]"
      ]
     },
     "metadata": {},
     "output_type": "display_data"
    },
    {
     "data": {
      "application/vnd.jupyter.widget-view+json": {
       "model_id": "a2fce843104a4c4582592090eccbf796",
       "version_major": 2,
       "version_minor": 0
      },
      "text/plain": [
       "  0%|          | 0/12 [00:00<?, ?it/s]"
      ]
     },
     "metadata": {},
     "output_type": "display_data"
    },
    {
     "data": {
      "application/vnd.jupyter.widget-view+json": {
       "model_id": "4095d7773c3a4ab78f6156181d3a4087",
       "version_major": 2,
       "version_minor": 0
      },
      "text/plain": [
       "  0%|          | 0/8 [00:00<?, ?it/s]"
      ]
     },
     "metadata": {},
     "output_type": "display_data"
    },
    {
     "data": {
      "application/vnd.jupyter.widget-view+json": {
       "model_id": "38f77ea4fa104faa9dfc7a3421a277bb",
       "version_major": 2,
       "version_minor": 0
      },
      "text/plain": [
       "  0%|          | 0/5 [00:00<?, ?it/s]"
      ]
     },
     "metadata": {},
     "output_type": "display_data"
    },
    {
     "data": {
      "application/vnd.jupyter.widget-view+json": {
       "model_id": "9e4367d7c9ae45158e01790d54efc333",
       "version_major": 2,
       "version_minor": 0
      },
      "text/plain": [
       "  0%|          | 0/3 [00:00<?, ?it/s]"
      ]
     },
     "metadata": {},
     "output_type": "display_data"
    },
    {
     "data": {
      "application/vnd.jupyter.widget-view+json": {
       "model_id": "a99d2dfc4c9a4e678d84152ef7d97c07",
       "version_major": 2,
       "version_minor": 0
      },
      "text/plain": [
       "  0%|          | 0/5 [00:00<?, ?it/s]"
      ]
     },
     "metadata": {},
     "output_type": "display_data"
    },
    {
     "data": {
      "application/vnd.jupyter.widget-view+json": {
       "model_id": "ee7454fd0f3f475c80075da60b55c638",
       "version_major": 2,
       "version_minor": 0
      },
      "text/plain": [
       "  0%|          | 0/13 [00:00<?, ?it/s]"
      ]
     },
     "metadata": {},
     "output_type": "display_data"
    },
    {
     "data": {
      "application/vnd.jupyter.widget-view+json": {
       "model_id": "e42de4ce320b4e6caab58f9b8727dae1",
       "version_major": 2,
       "version_minor": 0
      },
      "text/plain": [
       "  0%|          | 0/9 [00:00<?, ?it/s]"
      ]
     },
     "metadata": {},
     "output_type": "display_data"
    },
    {
     "data": {
      "application/vnd.jupyter.widget-view+json": {
       "model_id": "d69f93afd794423488ada10c1aefbbf6",
       "version_major": 2,
       "version_minor": 0
      },
      "text/plain": [
       "  0%|          | 0/12 [00:00<?, ?it/s]"
      ]
     },
     "metadata": {},
     "output_type": "display_data"
    },
    {
     "data": {
      "application/vnd.jupyter.widget-view+json": {
       "model_id": "69e9e8d5ac9249ae97dcddf194dc8471",
       "version_major": 2,
       "version_minor": 0
      },
      "text/plain": [
       "  0%|          | 0/7 [00:00<?, ?it/s]"
      ]
     },
     "metadata": {},
     "output_type": "display_data"
    },
    {
     "data": {
      "application/vnd.jupyter.widget-view+json": {
       "model_id": "c101a558c5054a8e9402391b6edf76a8",
       "version_major": 2,
       "version_minor": 0
      },
      "text/plain": [
       "  0%|          | 0/19 [00:00<?, ?it/s]"
      ]
     },
     "metadata": {},
     "output_type": "display_data"
    },
    {
     "data": {
      "application/vnd.jupyter.widget-view+json": {
       "model_id": "83e7c3a9e53f4e6e9ba23d77124e8a13",
       "version_major": 2,
       "version_minor": 0
      },
      "text/plain": [
       "  0%|          | 0/16 [00:00<?, ?it/s]"
      ]
     },
     "metadata": {},
     "output_type": "display_data"
    },
    {
     "data": {
      "application/vnd.jupyter.widget-view+json": {
       "model_id": "9210bad870ee4e4bbcf07f1f58d280b9",
       "version_major": 2,
       "version_minor": 0
      },
      "text/plain": [
       "  0%|          | 0/41 [00:00<?, ?it/s]"
      ]
     },
     "metadata": {},
     "output_type": "display_data"
    },
    {
     "data": {
      "application/vnd.jupyter.widget-view+json": {
       "model_id": "45ed4cd7e25a42d9b2281d061117551b",
       "version_major": 2,
       "version_minor": 0
      },
      "text/plain": [
       "  0%|          | 0/10 [00:00<?, ?it/s]"
      ]
     },
     "metadata": {},
     "output_type": "display_data"
    },
    {
     "data": {
      "application/vnd.jupyter.widget-view+json": {
       "model_id": "26f78b85e2a2460185f5c5963d367574",
       "version_major": 2,
       "version_minor": 0
      },
      "text/plain": [
       "  0%|          | 0/27 [00:00<?, ?it/s]"
      ]
     },
     "metadata": {},
     "output_type": "display_data"
    },
    {
     "data": {
      "application/vnd.jupyter.widget-view+json": {
       "model_id": "a0dc9f60fff140c7b6f121c781dad90b",
       "version_major": 2,
       "version_minor": 0
      },
      "text/plain": [
       "  0%|          | 0/53 [00:00<?, ?it/s]"
      ]
     },
     "metadata": {},
     "output_type": "display_data"
    },
    {
     "data": {
      "application/vnd.jupyter.widget-view+json": {
       "model_id": "c64eb5f36980460bb27116bb6980d820",
       "version_major": 2,
       "version_minor": 0
      },
      "text/plain": [
       "  0%|          | 0/48 [00:00<?, ?it/s]"
      ]
     },
     "metadata": {},
     "output_type": "display_data"
    },
    {
     "data": {
      "application/vnd.jupyter.widget-view+json": {
       "model_id": "a87400ab69364b9da524a6ddb6252763",
       "version_major": 2,
       "version_minor": 0
      },
      "text/plain": [
       "  0%|          | 0/38 [00:00<?, ?it/s]"
      ]
     },
     "metadata": {},
     "output_type": "display_data"
    },
    {
     "data": {
      "application/vnd.jupyter.widget-view+json": {
       "model_id": "80631bf796c74a81832933f5ce2cd74f",
       "version_major": 2,
       "version_minor": 0
      },
      "text/plain": [
       "  0%|          | 0/13 [00:00<?, ?it/s]"
      ]
     },
     "metadata": {},
     "output_type": "display_data"
    },
    {
     "data": {
      "application/vnd.jupyter.widget-view+json": {
       "model_id": "bc9fc1f71ce64f0e8eba2cea652ac262",
       "version_major": 2,
       "version_minor": 0
      },
      "text/plain": [
       "  0%|          | 0/17 [00:00<?, ?it/s]"
      ]
     },
     "metadata": {},
     "output_type": "display_data"
    },
    {
     "data": {
      "application/vnd.jupyter.widget-view+json": {
       "model_id": "208b187f805b413b9cbd9fbc743ee62f",
       "version_major": 2,
       "version_minor": 0
      },
      "text/plain": [
       "  0%|          | 0/10 [00:00<?, ?it/s]"
      ]
     },
     "metadata": {},
     "output_type": "display_data"
    },
    {
     "data": {
      "application/vnd.jupyter.widget-view+json": {
       "model_id": "4811714b062249c09a1aae9ee950354d",
       "version_major": 2,
       "version_minor": 0
      },
      "text/plain": [
       "  0%|          | 0/27 [00:00<?, ?it/s]"
      ]
     },
     "metadata": {},
     "output_type": "display_data"
    },
    {
     "data": {
      "application/vnd.jupyter.widget-view+json": {
       "model_id": "b64bb9af12474233935c063b01a82664",
       "version_major": 2,
       "version_minor": 0
      },
      "text/plain": [
       "  0%|          | 0/7 [00:00<?, ?it/s]"
      ]
     },
     "metadata": {},
     "output_type": "display_data"
    },
    {
     "data": {
      "application/vnd.jupyter.widget-view+json": {
       "model_id": "2e04d9357ed34706b95cb360a452bddb",
       "version_major": 2,
       "version_minor": 0
      },
      "text/plain": [
       "  0%|          | 0/33 [00:00<?, ?it/s]"
      ]
     },
     "metadata": {},
     "output_type": "display_data"
    },
    {
     "data": {
      "application/vnd.jupyter.widget-view+json": {
       "model_id": "a4c637db5afa4189be9c35a721769fc3",
       "version_major": 2,
       "version_minor": 0
      },
      "text/plain": [
       "  0%|          | 0/26 [00:00<?, ?it/s]"
      ]
     },
     "metadata": {},
     "output_type": "display_data"
    },
    {
     "data": {
      "application/vnd.jupyter.widget-view+json": {
       "model_id": "9e2ca7cf6f2040da87f8c4fef3bfc920",
       "version_major": 2,
       "version_minor": 0
      },
      "text/plain": [
       "  0%|          | 0/22 [00:00<?, ?it/s]"
      ]
     },
     "metadata": {},
     "output_type": "display_data"
    },
    {
     "data": {
      "application/vnd.jupyter.widget-view+json": {
       "model_id": "eb5119a81df845c2abf9795b9ea899ba",
       "version_major": 2,
       "version_minor": 0
      },
      "text/plain": [
       "  0%|          | 0/37 [00:00<?, ?it/s]"
      ]
     },
     "metadata": {},
     "output_type": "display_data"
    },
    {
     "data": {
      "application/vnd.jupyter.widget-view+json": {
       "model_id": "f5b42faa1de94f54a5be670f17f07235",
       "version_major": 2,
       "version_minor": 0
      },
      "text/plain": [
       "  0%|          | 0/30 [00:00<?, ?it/s]"
      ]
     },
     "metadata": {},
     "output_type": "display_data"
    },
    {
     "data": {
      "application/vnd.jupyter.widget-view+json": {
       "model_id": "49d6514803784394811d60673cbb1f77",
       "version_major": 2,
       "version_minor": 0
      },
      "text/plain": [
       "  0%|          | 0/29 [00:00<?, ?it/s]"
      ]
     },
     "metadata": {},
     "output_type": "display_data"
    },
    {
     "data": {
      "application/vnd.jupyter.widget-view+json": {
       "model_id": "9d770fa9d136479d862f6650a0cda6c0",
       "version_major": 2,
       "version_minor": 0
      },
      "text/plain": [
       "  0%|          | 0/15 [00:00<?, ?it/s]"
      ]
     },
     "metadata": {},
     "output_type": "display_data"
    },
    {
     "data": {
      "application/vnd.jupyter.widget-view+json": {
       "model_id": "cef6e1a1fbdc42b89e8917e2eea34ef6",
       "version_major": 2,
       "version_minor": 0
      },
      "text/plain": [
       "  0%|          | 0/6 [00:00<?, ?it/s]"
      ]
     },
     "metadata": {},
     "output_type": "display_data"
    },
    {
     "data": {
      "application/vnd.jupyter.widget-view+json": {
       "model_id": "8af52d7e167446f8b40cfed018ab60aa",
       "version_major": 2,
       "version_minor": 0
      },
      "text/plain": [
       "  0%|          | 0/13 [00:00<?, ?it/s]"
      ]
     },
     "metadata": {},
     "output_type": "display_data"
    },
    {
     "data": {
      "application/vnd.jupyter.widget-view+json": {
       "model_id": "d3ad9d3140ef4c57ac4e55891f457bcc",
       "version_major": 2,
       "version_minor": 0
      },
      "text/plain": [
       "  0%|          | 0/25 [00:00<?, ?it/s]"
      ]
     },
     "metadata": {},
     "output_type": "display_data"
    },
    {
     "data": {
      "application/vnd.jupyter.widget-view+json": {
       "model_id": "74f532ba292c40e7a2bd517d4d7e3e36",
       "version_major": 2,
       "version_minor": 0
      },
      "text/plain": [
       "  0%|          | 0/10 [00:00<?, ?it/s]"
      ]
     },
     "metadata": {},
     "output_type": "display_data"
    },
    {
     "data": {
      "application/vnd.jupyter.widget-view+json": {
       "model_id": "ec00fb025d904a6198cac3af6c602127",
       "version_major": 2,
       "version_minor": 0
      },
      "text/plain": [
       "  0%|          | 0/19 [00:00<?, ?it/s]"
      ]
     },
     "metadata": {},
     "output_type": "display_data"
    },
    {
     "data": {
      "text/plain": [
       "<neuron.Neuron at 0x7f64aa813c88>"
      ]
     },
     "execution_count": 14,
     "metadata": {},
     "output_type": "execute_result"
    }
   ],
   "source": [
    "import axon_utils as au\n",
    "neuron_obj_axon = au.complete_axon_processing(neuron_obj)\n",
    "neuron_obj_axon"
   ]
  },
  {
   "cell_type": "code",
   "execution_count": 16,
   "metadata": {},
   "outputs": [
    {
     "name": "stdout",
     "output_type": "stream",
     "text": [
      "\n",
      " Working on visualization type: mesh\n",
      "\n",
      " Working on visualization type: skeleton\n"
     ]
    },
    {
     "data": {
      "application/vnd.jupyter.widget-view+json": {
       "model_id": "009cfe6e64a84bf9be0cd5d826e0a221",
       "version_major": 2,
       "version_minor": 0
      },
      "text/plain": [
       "VBox(children=(Figure(camera=PerspectiveCamera(fov=46.0, position=(0.0, 0.0, 2.0), projectionMatrix=(1.0, 0.0,…"
      ]
     },
     "metadata": {},
     "output_type": "display_data"
    }
   ],
   "source": [
    "nviz.plot_axon(neuron_obj_axon)"
   ]
  },
  {
   "cell_type": "markdown",
   "metadata": {},
   "source": [
    "# A) finding branches that have wide sibling angle"
   ]
  },
  {
   "cell_type": "code",
   "execution_count": 18,
   "metadata": {},
   "outputs": [],
   "source": [
    "neuron_obj = neuron_obj_axon"
   ]
  },
  {
   "cell_type": "code",
   "execution_count": 64,
   "metadata": {},
   "outputs": [
    {
     "name": "stdout",
     "output_type": "stream",
     "text": [
      "\n",
      " Working on visualization type: mesh\n"
     ]
    },
    {
     "data": {
      "application/vnd.jupyter.widget-view+json": {
       "model_id": "e8f950ac5e0f45eca88aada2ca0f0346",
       "version_major": 2,
       "version_minor": 0
      },
      "text/plain": [
       "VBox(children=(Figure(camera=PerspectiveCamera(fov=46.0, position=(0.0, 0.0, 2.0), projectionMatrix=(1.0, 0.0,…"
      ]
     },
     "metadata": {},
     "output_type": "display_data"
    },
    {
     "data": {
      "text/plain": [
       "{'L6': array([38, 50])}"
      ]
     },
     "execution_count": 64,
     "metadata": {},
     "output_type": "execute_result"
    }
   ],
   "source": [
    "import neuron_searching as ns\n",
    "axon_branches = ns.query_neuron_by_labels(neuron_obj,\n",
    "                                         matching_labels = [\"axon\"])\n",
    "\n",
    "child_width_maximum = 75\n",
    "parent_width_maximum = 75\n",
    "two_downstream_thick_axon_limb_branch = ns.query_neuron(neuron_obj,\n",
    "               functions_list = [\"n_downstream_nodes\",\n",
    "                                 \"n_small_children\",\"axon_width\"],\n",
    "               query = (\"(n_small_children == 2) and \"\n",
    "                        f\"(axon_width<{parent_width_maximum}) and \"\n",
    "                        f\"(n_downstream_nodes == 2)\"),\n",
    "                function_kwargs=dict(width_maximum=child_width_maximum),\n",
    "               return_dataframe=False,\n",
    "                limb_branch_dict_restriction=axon_branches)\n",
    "\n",
    "if type(two_downstream_thick_axon_limb_branch) == dict:\n",
    "    nviz.plot_limb_branch_dict(neuron_obj,\n",
    "                              two_downstream_thick_axon_limb_branch)\n",
    "two_downstream_thick_axon_limb_branch"
   ]
  },
  {
   "cell_type": "code",
   "execution_count": 65,
   "metadata": {},
   "outputs": [
    {
     "name": "stdout",
     "output_type": "stream",
     "text": [
      "\n",
      " Working on visualization type: mesh\n"
     ]
    },
    {
     "data": {
      "application/vnd.jupyter.widget-view+json": {
       "model_id": "6ca90c9ab20c41df9bc9394395199fe0",
       "version_major": 2,
       "version_minor": 0
      },
      "text/plain": [
       "VBox(children=(Figure(camera=PerspectiveCamera(fov=46.0, position=(0.0, 0.0, 2.0), projectionMatrix=(1.0, 0.0,…"
      ]
     },
     "metadata": {},
     "output_type": "display_data"
    },
    {
     "data": {
      "text/plain": [
       "{'L6': array([38, 50])}"
      ]
     },
     "execution_count": 65,
     "metadata": {},
     "output_type": "execute_result"
    }
   ],
   "source": [
    "# find the ones that have wide angle children\n",
    "child_angle_min = 120\n",
    "wide_angled_children = ns.query_neuron(neuron_obj,\n",
    "               functions_list = [\"two_children_angle\"],\n",
    "               query = (f\"(two_children_angle > {child_angle_min})\"),\n",
    "               return_dataframe=False,\n",
    "                limb_branch_dict_restriction=two_downstream_thick_axon_limb_branch)\n",
    "\n",
    "if type(wide_angled_children) == dict:\n",
    "    nviz.plot_limb_branch_dict(neuron_obj,\n",
    "                              wide_angled_children)\n",
    "wide_angled_children"
   ]
  },
  {
   "cell_type": "markdown",
   "metadata": {},
   "source": [
    "# Measure the bouton features"
   ]
  },
  {
   "cell_type": "code",
   "execution_count": null,
   "metadata": {},
   "outputs": [],
   "source": [
    "\"\"\"\n",
    "Bad webbing: \n",
    "1.960573686118274\n",
    "\n",
    "\"\"\""
   ]
  },
  {
   "cell_type": "code",
   "execution_count": null,
   "metadata": {},
   "outputs": [],
   "source": [
    "bad_webbing = dict(\n",
    "web_volume_ratio = [1.96,2.306],\n",
    "bbox_ratio_min = [1,1]\n",
    "bbox_ratio_max = [2,1.6]\n",
    "n_faces = [67,55]\n",
    "cdf = [0.419,0.25]\n",
    ")"
   ]
  },
  {
   "cell_type": "code",
   "execution_count": 69,
   "metadata": {},
   "outputs": [
    {
     "name": "stdout",
     "output_type": "stream",
     "text": [
      "Web Mesh = <trimesh.Trimesh(vertices.shape=(31, 3), faces.shape=(55, 3))>, web_cdf = 0.255559 \n",
      "web_bbox_rations = [1.0089678463873244, 1.601754133570037, 1.5875175203107041], web_volume_ratio = 2.3063161961354077\n",
      "\n",
      "Parent Node 50, n_boutons = 3\n",
      "Parent_width (no_bouton_median)= 66.40960059144263\n",
      "Parent_width (no_spine_median_mesh_center) = 68.94209668196129\n",
      "\n",
      "Downstream Branch 53, n_boutons = 2\n",
      "\n",
      "Downstream branch 53 width (no_spine_median_mesh_center) = 51.60920175572668\n",
      "Downstream branch 53 width (no_bouton_median)= 51.27866083601308\n",
      "child_angle = 79.83\n",
      "\n",
      "Downstream Branch 54, n_boutons = 0\n",
      "\n",
      "Downstream branch 54 width (no_spine_median_mesh_center) = 53.893445497471205\n",
      "Downstream branch 54 width (no_bouton_median)= 53.893445497471205\n",
      "child_angle = 74.58\n",
      "\n",
      "sibling_angles = {54: 151.67}\n",
      "\n"
     ]
    },
    {
     "data": {
      "application/vnd.jupyter.widget-view+json": {
       "model_id": "cc29c7c25f054a59bf83636bb12401ca",
       "version_major": 2,
       "version_minor": 0
      },
      "text/plain": [
       "VBox(children=(Figure(camera=PerspectiveCamera(fov=46.0, position=(0.0, 0.0, 2.0), projectionMatrix=(1.0, 0.0,…"
      ]
     },
     "metadata": {},
     "output_type": "display_data"
    }
   ],
   "source": [
    "nviz.plot_web_intersection(neuron_obj,\n",
    "                           limb_idx = 6,\n",
    "                           branch_idx = 50,)"
   ]
  },
  {
   "cell_type": "markdown",
   "metadata": {},
   "source": [
    "# Looking at good boutons"
   ]
  },
  {
   "cell_type": "code",
   "execution_count": 70,
   "metadata": {},
   "outputs": [
    {
     "name": "stdout",
     "output_type": "stream",
     "text": [
      "limb_name = L6\n",
      "\n",
      " Working on visualization type: mesh\n",
      "\n",
      " Working on visualization type: skeleton\n"
     ]
    },
    {
     "data": {
      "application/vnd.jupyter.widget-view+json": {
       "model_id": "b9c72da06483439798ff7f65f4bf25aa",
       "version_major": 2,
       "version_minor": 0
      },
      "text/plain": [
       "VBox(children=(Figure(camera=PerspectiveCamera(fov=46.0, position=(0.0, 0.0, 2.0), projectionMatrix=(1.0, 0.0,…"
      ]
     },
     "metadata": {},
     "output_type": "display_data"
    },
    {
     "name": "stdout",
     "output_type": "stream",
     "text": [
      "No limb name was given so using L6 because was the limb in the first key\n"
     ]
    },
    {
     "data": {
      "image/png": "[encoded data removed]",
      "text/plain": [
       "<Figure size 2880x1440 with 1 Axes>"
      ]
     },
     "metadata": {},
     "output_type": "display_data"
    }
   ],
   "source": [
    "nviz.visualize_neuron_specific_limb(neuron_obj,\n",
    "                                   6)"
   ]
  },
  {
   "cell_type": "code",
   "execution_count": 77,
   "metadata": {},
   "outputs": [
    {
     "data": {
      "text/plain": [
       "{'L6': array([ 0,  1,  2,  3,  4,  5,  6,  7,  8,  9, 10, 11, 12, 13, 14, 15, 16,\n",
       "        17, 18, 19, 20, 21, 22, 23, 24, 25, 26, 27, 28, 29, 30, 31, 32, 33,\n",
       "        34, 35, 36, 37, 38, 39, 40, 41, 42, 43, 44, 45, 46, 47, 48, 49, 50,\n",
       "        51, 52, 53, 54])}"
      ]
     },
     "execution_count": 77,
     "metadata": {},
     "output_type": "execute_result"
    }
   ],
   "source": []
  },
  {
   "cell_type": "code",
   "execution_count": 79,
   "metadata": {},
   "outputs": [
    {
     "data": {
      "text/plain": [
       "array([ 0,  1,  2,  3,  4,  5,  6,  7,  8,  9, 10, 11, 12, 13, 14, 15, 16,\n",
       "       17, 18, 19, 20, 21, 22, 23, 24, 25, 26, 27, 28, 29, 30, 31, 32, 33,\n",
       "       34, 35, 36, 37, 38, 39, 40, 41, 42, 43, 44, 45, 46, 47, 48, 49, 50,\n",
       "       51, 52, 53, 54])"
      ]
     },
     "execution_count": 79,
     "metadata": {},
     "output_type": "execute_result"
    }
   ],
   "source": [
    "b_idx"
   ]
  },
  {
   "cell_type": "code",
   "execution_count": 82,
   "metadata": {},
   "outputs": [],
   "source": [
    "size_measure = \"ray_trace_median\"\n",
    "\n",
    "threshold_size = 120\n",
    "\n",
    "\n",
    "size_dict = dict()\n",
    "small_inspect = []\n",
    "for b_idx in list(neuron_obj.axon_limb_branch_dict.values())[0]:\n",
    "    b_obj = neuron_obj[neuron_obj.axon_limb_name][b_idx]\n",
    "    if b_obj.web is not None:\n",
    "        size_dict[b_idx] = tu.mesh_size(b_obj.web,size_measure)\n",
    "        if size_dict[b_idx] < threshold_size:\n",
    "            small_inspect.append(b_idx)\n",
    "    else:\n",
    "        size_dict[b_idx] = None"
   ]
  },
  {
   "cell_type": "code",
   "execution_count": 83,
   "metadata": {},
   "outputs": [
    {
     "data": {
      "text/plain": [
       "[3, 5, 35, 38, 50]"
      ]
     },
     "execution_count": 83,
     "metadata": {},
     "output_type": "execute_result"
    }
   ],
   "source": [
    "small_inspect"
   ]
  },
  {
   "cell_type": "code",
   "execution_count": 76,
   "metadata": {},
   "outputs": [
    {
     "name": "stdout",
     "output_type": "stream",
     "text": [
      "m = [0.00010458409845137013, 7.373561033817143e-05, 0.00014765161155520437]\n",
      "m = [45.14694815998332, 41.71611015498352, 70.58330232000542]\n",
      "m = [88.51391857100911, 96.21054049020724, 153.40354266495035]\n"
     ]
    }
   ],
   "source": [
    "import trimesh_utils as tu\n",
    "for m in [\"ray_trace_median\",\"volume\",\"bbox_volume_oriented\"]:\n",
    "    m_val = [tu.mesh_size(neuron_obj[6][k].web,m)/1000000 for k in [38,50,44]]\n",
    "    print(f\"m = {m_val}\")"
   ]
  },
  {
   "cell_type": "code",
   "execution_count": 87,
   "metadata": {},
   "outputs": [
    {
     "name": "stdout",
     "output_type": "stream",
     "text": [
      "Web Mesh = <trimesh.Trimesh(vertices.shape=(38, 3), faces.shape=(67, 3))>, web_cdf = 0.41901 \n",
      "web_bbox_rations = [1.8878680561296681, 2.039700721181477, 1.0804254643532039], web_volume_ratio = 1.960573686118274\n",
      "\n",
      "Parent Node 38, n_boutons = 2\n",
      "Parent_width (no_bouton_median)= 64.74404677989999\n",
      "Parent_width (no_spine_median_mesh_center) = 66.48688444655336\n",
      "\n",
      "Downstream Branch 26, n_boutons = 1\n",
      "\n",
      "Downstream branch 26 width (no_spine_median_mesh_center) = 60.342227125398026\n",
      "Downstream branch 26 width (no_bouton_median)= 61.52648380869934\n",
      "child_angle = 98.63\n",
      "\n",
      "Downstream Branch 40, n_boutons = 3\n",
      "\n",
      "Downstream branch 40 width (no_spine_median_mesh_center) = 65.52592513502213\n",
      "Downstream branch 40 width (no_bouton_median)= 60.149627589544586\n",
      "child_angle = 50.34\n",
      "\n",
      "sibling_angles = {40: 132.13}\n",
      "\n"
     ]
    },
    {
     "data": {
      "application/vnd.jupyter.widget-view+json": {
       "model_id": "8123a3aa9ec84a2385c55500baced68e",
       "version_major": 2,
       "version_minor": 0
      },
      "text/plain": [
       "VBox(children=(Figure(camera=PerspectiveCamera(fov=46.0, position=(0.0, 0.0, 2.0), projectionMatrix=(1.0, 0.0,…"
      ]
     },
     "metadata": {},
     "output_type": "display_data"
    }
   ],
   "source": [
    "nviz.plot_web_intersection(neuron_obj,\n",
    "                           limb_idx = 6,\n",
    "                           branch_idx = small_inspect[3],)"
   ]
  },
  {
   "cell_type": "code",
   "execution_count": null,
   "metadata": {},
   "outputs": [],
   "source": [
    "\"\"\"\n",
    "Conclusion: Just do the ray trace width for the \n",
    "threshold on the webbing:\n",
    "\n",
    "ray_trace_median < 120\n",
    "\n",
    "\"\"\""
   ]
  },
  {
   "cell_type": "code",
   "execution_count": 88,
   "metadata": {},
   "outputs": [
    {
     "data": {
      "text/html": [
       "\n",
       "        \n",
       "        <style type=\"text/css\">\n",
       "            .Relation{\n",
       "                border-collapse:collapse;\n",
       "            }\n",
       "            .Relation th{\n",
       "                background: #A0A0A0; color: #ffffff; padding:4px; border:#f0e0e0 1px solid;\n",
       "                font-weight: normal; font-family: monospace; font-size: 100%;\n",
       "            }\n",
       "            .Relation td{\n",
       "                padding:4px; border:#f0e0e0 1px solid; font-size:100%;\n",
       "            }\n",
       "            .Relation tr:nth-child(odd){\n",
       "                background: #ffffff;\n",
       "            }\n",
       "            .Relation tr:nth-child(even){\n",
       "                background: #f3f1ff;\n",
       "            }\n",
       "            /* Tooltip container */\n",
       "            .djtooltip {\n",
       "            }\n",
       "            /* Tooltip text */\n",
       "            .djtooltip .djtooltiptext {\n",
       "                visibility: hidden;\n",
       "                width: 120px;\n",
       "                background-color: black;\n",
       "                color: #fff;\n",
       "                text-align: center;\n",
       "                padding: 5px 0;\n",
       "                border-radius: 6px;\n",
       "                /* Position the tooltip text - see examples below! */\n",
       "                position: absolute;\n",
       "                z-index: 1;\n",
       "            }\n",
       "            #primary {\n",
       "                font-weight: bold;\n",
       "                color: black;\n",
       "            }\n",
       "\n",
       "            #nonprimary {\n",
       "                font-weight: normal;\n",
       "                color: white;\n",
       "            }\n",
       "\n",
       "            /* Show the tooltip text when you mouse over the tooltip container */\n",
       "            .djtooltip:hover .djtooltiptext {\n",
       "                visibility: visible;\n",
       "            }\n",
       "        </style>\n",
       "        \n",
       "        <b></b>\n",
       "            <div style=\"max-height:1000px;max-width:1500px;overflow:auto;\">\n",
       "            <table border=\"1\" class=\"Relation\">\n",
       "                <thead> <tr style=\"text-align: right;\"> <th> <div class=\"djtooltip\">\n",
       "                                <p id=\"primary\">segment_id</p>\n",
       "                                <span class=\"djtooltiptext\">segment id unique within each Segmentation</span>\n",
       "                            </div></th><th><div class=\"djtooltip\">\n",
       "                                <p id=\"primary\">decimation_version</p>\n",
       "                                <span class=\"djtooltiptext\"></span>\n",
       "                            </div></th><th><div class=\"djtooltip\">\n",
       "                                <p id=\"primary\">decimation_ratio</p>\n",
       "                                <span class=\"djtooltiptext\">ratio of remaining mesh vertices/faces (which ones depends on what metric the decimation technique uses)</span>\n",
       "                            </div></th><th><div class=\"djtooltip\">\n",
       "                                <p id=\"primary\">ver</p>\n",
       "                                <span class=\"djtooltiptext\">the version number of the materializaiton</span>\n",
       "                            </div></th><th><div class=\"djtooltip\">\n",
       "                                <p id=\"primary\">process_version</p>\n",
       "                                <span class=\"djtooltiptext\">the version of the preprocessing pipeline run</span>\n",
       "                            </div></th><th><div class=\"djtooltip\">\n",
       "                                <p id=\"primary\">index</p>\n",
       "                                <span class=\"djtooltiptext\">the index of the neuron object that resulted from that mesh (indexed starting at 0)</span>\n",
       "                            </div></th><th><div class=\"djtooltip\">\n",
       "                                <p id=\"nonprimary\">decomposition</p>\n",
       "                                <span class=\"djtooltiptext\"></span>\n",
       "                            </div> </th> </tr> </thead>\n",
       "                <tbody> <tr> <td>864691135735426708</td>\n",
       "<td>0</td>\n",
       "<td>0.25</td>\n",
       "<td>30.00</td>\n",
       "<td>7</td>\n",
       "<td>0</td>\n",
       "<td>=BLOB=</td></tr><tr><td>864691135589907979</td>\n",
       "<td>0</td>\n",
       "<td>0.25</td>\n",
       "<td>30.00</td>\n",
       "<td>7</td>\n",
       "<td>0</td>\n",
       "<td>=BLOB=</td></tr><tr><td>864691136311791677</td>\n",
       "<td>0</td>\n",
       "<td>0.25</td>\n",
       "<td>30.00</td>\n",
       "<td>7</td>\n",
       "<td>0</td>\n",
       "<td>=BLOB=</td></tr><tr><td>864691135699269154</td>\n",
       "<td>0</td>\n",
       "<td>0.25</td>\n",
       "<td>30.00</td>\n",
       "<td>7</td>\n",
       "<td>0</td>\n",
       "<td>=BLOB=</td></tr><tr><td>864691135407289801</td>\n",
       "<td>0</td>\n",
       "<td>0.25</td>\n",
       "<td>30.00</td>\n",
       "<td>7</td>\n",
       "<td>0</td>\n",
       "<td>=BLOB=</td></tr><tr><td>864691135564655959</td>\n",
       "<td>0</td>\n",
       "<td>0.25</td>\n",
       "<td>30.00</td>\n",
       "<td>7</td>\n",
       "<td>0</td>\n",
       "<td>=BLOB=</td></tr><tr><td>864691135382947307</td>\n",
       "<td>0</td>\n",
       "<td>0.25</td>\n",
       "<td>30.00</td>\n",
       "<td>7</td>\n",
       "<td>0</td>\n",
       "<td>=BLOB=</td></tr><tr><td>864691135771629819</td>\n",
       "<td>0</td>\n",
       "<td>0.25</td>\n",
       "<td>30.00</td>\n",
       "<td>7</td>\n",
       "<td>0</td>\n",
       "<td>=BLOB=</td></tr><tr><td>864691136008425132</td>\n",
       "<td>0</td>\n",
       "<td>0.25</td>\n",
       "<td>30.00</td>\n",
       "<td>7</td>\n",
       "<td>0</td>\n",
       "<td>=BLOB=</td></tr><tr><td>864691135865518469</td>\n",
       "<td>0</td>\n",
       "<td>0.25</td>\n",
       "<td>30.00</td>\n",
       "<td>7</td>\n",
       "<td>0</td>\n",
       "<td>=BLOB=</td></tr><tr><td>864691135945413668</td>\n",
       "<td>0</td>\n",
       "<td>0.25</td>\n",
       "<td>30.00</td>\n",
       "<td>7</td>\n",
       "<td>0</td>\n",
       "<td>=BLOB=</td></tr><tr><td>864691136003930314</td>\n",
       "<td>0</td>\n",
       "<td>0.25</td>\n",
       "<td>30.00</td>\n",
       "<td>7</td>\n",
       "<td>0</td>\n",
       "<td>=BLOB=</td> </tr> </tbody>\n",
       "            </table>\n",
       "            <p>...</p>\n",
       "            <p>Total: 48</p></div>\n",
       "            "
      ],
      "text/plain": [
       "*segment_id    *decimation_ve *decimation_ra *ver      *process_versi *index    decomposit\n",
       "+------------+ +------------+ +------------+ +-------+ +------------+ +-------+ +--------+\n",
       "86469113573542 0              0.25           30.00     7              0         =BLOB=    \n",
       "86469113558990 0              0.25           30.00     7              0         =BLOB=    \n",
       "86469113631179 0              0.25           30.00     7              0         =BLOB=    \n",
       "86469113569926 0              0.25           30.00     7              0         =BLOB=    \n",
       "86469113540728 0              0.25           30.00     7              0         =BLOB=    \n",
       "86469113556465 0              0.25           30.00     7              0         =BLOB=    \n",
       "86469113538294 0              0.25           30.00     7              0         =BLOB=    \n",
       "86469113577162 0              0.25           30.00     7              0         =BLOB=    \n",
       "86469113600842 0              0.25           30.00     7              0         =BLOB=    \n",
       "86469113586551 0              0.25           30.00     7              0         =BLOB=    \n",
       "86469113594541 0              0.25           30.00     7              0         =BLOB=    \n",
       "86469113600393 0              0.25           30.00     7              0         =BLOB=    \n",
       "   ...\n",
       " (Total: 48)"
      ]
     },
     "execution_count": 88,
     "metadata": {},
     "output_type": "execute_result"
    }
   ],
   "source": [
    "minnie.AutoProofreadValidationBorderNeurons()"
   ]
  },
  {
   "cell_type": "markdown",
   "metadata": {},
   "source": [
    "# Developing the filter for the webbing funciton"
   ]
  },
  {
   "cell_type": "code",
   "execution_count": 96,
   "metadata": {},
   "outputs": [
    {
     "name": "stdout",
     "output_type": "stream",
     "text": [
      "two_downstream_thin_axon_limb_branch = {'L6': array([38, 50])}\n",
      "wide_angled_children= {'L6': array([38, 50])}\n",
      "Web size = 104.5655571551626\n",
      "From limb L6, branch 38, Adding the downstream nodes [26, 40]  \n",
      "Web size = 73.82736405507812\n",
      "From limb L6, branch 50, Adding the downstream nodes [53, 54]  \n",
      "Final web t error limb branch dict = {'L6': [26, 40, 53, 54]}\n",
      "\n",
      " Working on visualization type: mesh\n"
     ]
    },
    {
     "data": {
      "application/vnd.jupyter.widget-view+json": {
       "model_id": "f78d269ba8774067872082cc42af3a11",
       "version_major": 2,
       "version_minor": 0
      },
      "text/plain": [
       "VBox(children=(Figure(camera=PerspectiveCamera(fov=46.0, position=(0.0, 0.0, 2.0), projectionMatrix=(1.0, 0.0,…"
      ]
     },
     "metadata": {},
     "output_type": "display_data"
    },
    {
     "data": {
      "text/plain": [
       "{'L6': [26, 40, 53, 54]}"
      ]
     },
     "execution_count": 96,
     "metadata": {},
     "output_type": "execute_result"
    }
   ],
   "source": [
    "import error_detection as ed\n",
    "ed.webbing_t_errors_limb_branch_dict(neuron_obj,\n",
    "    verbose = True,\n",
    "    plot_web_errors = True)"
   ]
  },
  {
   "cell_type": "markdown",
   "metadata": {},
   "source": [
    "# Practice Running the specific Rule "
   ]
  },
  {
   "cell_type": "code",
   "execution_count": 99,
   "metadata": {},
   "outputs": [
    {
     "name": "stdout",
     "output_type": "stream",
     "text": [
      "\n",
      "--- Working on filter 0:\n",
      "function = axon_webbing_t_merges\n",
      "function __name__ = filter_away_webbing_t_merges\n",
      "function arguments = {'child_width_maximum': 75, 'parent_width_maximum': 75, 'axon_only': True, 'error_if_web_is_none': True, 'web_size_threshold': 120, 'web_size_type': 'ray_trace_median', 'web_above_threshold': True}\n",
      "\n",
      "\n",
      "limb_branch_dict_to_cancel = {'L6': [26, 40, 53, 54]}\n",
      "\n",
      "\n",
      "Branches Requested to Remove (WITH disconnect effect)\n",
      "\n",
      " Working on visualization type: mesh\n"
     ]
    },
    {
     "data": {
      "application/vnd.jupyter.widget-view+json": {
       "model_id": "1741f678a671468ba8107b16e652db8e",
       "version_major": 2,
       "version_minor": 0
      },
      "text/plain": [
       "VBox(children=(Figure(camera=PerspectiveCamera(fov=46.0, position=(0.0, 0.0, 2.0), projectionMatrix=(1.0, 0.0,…"
      ]
     },
     "metadata": {},
     "output_type": "display_data"
    },
    {
     "name": "stdout",
     "output_type": "stream",
     "text": [
      "\n",
      "--- Working on filter 1:\n",
      "function = axon_webbing_t_merges\n",
      "function __name__ = filter_away_webbing_t_merges\n",
      "function arguments = {'child_width_maximum': 75, 'parent_width_maximum': 75, 'axon_only': True, 'error_if_web_is_none': True, 'web_size_threshold': 120, 'web_size_type': 'ray_trace_median', 'web_above_threshold': True}\n",
      "\n",
      "\n",
      "limb_branch_dict_to_cancel = {}\n",
      "\n",
      "\n",
      "\n",
      " ---- Total time for applying filter: 30.35056495666504 -----\n",
      "\n",
      "--- Finished Part 1: Filtering Neuron -----\n",
      "Apply the presyn non_error\n",
      "For presyn: # valid synapses = 29, # error synapses  = 35, # error presyns = 28\n",
      "For postsyn: # valid synapses = 4641, # error synapses  = 1, # error presyns = 0\n",
      "\n",
      "--- Finished Part 2: Filtering Synapses -----\n",
      "Synapsse Results:\n",
      "Total Number of Synapses = 4706\n",
      "n_valid_syn_ids_presyn = 29\n",
      "n_errored_syn_ids_presyn = 35\n",
      "n_valid_syn_ids_postsyn = 4641\n",
      "n_errored_syn_ids_postsyn = 1\n",
      "\n",
      "--- Finished Part 3: Generating Validation Dataframe -----\n"
     ]
    }
   ],
   "source": [
    "import proofreading_utils as pru\n",
    "(filt_neuron,\n",
    " return_synapse_df_revised,\n",
    "return_validation_df_revised) =  vu.filtered_neuron_score(neuron_obj = neuron_obj,   \n",
    "                        filter_list = pru.v4_exc_filters(),\n",
    "                        verbose = True,\n",
    "                        plot_score=False)"
   ]
  },
  {
   "cell_type": "code",
   "execution_count": 100,
   "metadata": {},
   "outputs": [
    {
     "name": "stdout",
     "output_type": "stream",
     "text": [
      "Segment Id = 864691136201041854\n",
      "Postsyn counts:\n",
      "TP:4637\n",
      "TN:0\n",
      "FP:4\n",
      "FN:1\n",
      "Presyn counts:\n",
      "TP:5\n",
      "TN:7\n",
      "FP:24\n",
      "FN:0\n"
     ]
    },
    {
     "data": {
      "image/png": "[encoded data removed]",
      "text/plain": [
       "<Figure size 700x400 with 2 Axes>"
      ]
     },
     "metadata": {},
     "output_type": "display_data"
    }
   ],
   "source": [
    "vu.synapse_validation_df_to_score_plot(return_validation_df_revised)"
   ]
  },
  {
   "cell_type": "code",
   "execution_count": 101,
   "metadata": {},
   "outputs": [
    {
     "name": "stdout",
     "output_type": "stream",
     "text": [
      "Using the mesh from the neuron object\n"
     ]
    },
    {
     "data": {
      "application/vnd.jupyter.widget-view+json": {
       "model_id": "a89e21caef884b49be1548280c29053c",
       "version_major": 2,
       "version_minor": 0
      },
      "text/plain": [
       "VBox(children=(Figure(camera=PerspectiveCamera(fov=46.0, position=(0.0, 0.0, 2.0), projectionMatrix=(1.0, 0.0,…"
      ]
     },
     "metadata": {},
     "output_type": "display_data"
    },
    {
     "name": "stdout",
     "output_type": "stream",
     "text": [
      "TP:yellow\n",
      "TN:aqua\n",
      "FP:black\n",
      "FN:orange\n"
     ]
    }
   ],
   "source": [
    "vu.plot_validation_synapses(segment_id,\n",
    "                            validation_df = return_validation_df_revised,\n",
    "                             synapse_dict = None,\n",
    "                             synapses_type_to_plot = None,\n",
    "                             synapses_type_to_not_plot = None,\n",
    "                             verbose=False,\n",
    "                             synapse_type = \"presyn\",\n",
    "                             TP_color=\"yellow\",\n",
    "                            TN_color=\"aqua\",\n",
    "                            FP_color=\"black\",\n",
    "                            FN_color=\"orange\",\n",
    "                             synapse_scatter_size = 0.15,\n",
    "                             \n",
    "                             #for plotting the actual mesh parts to go along\n",
    "                             \n",
    "                             neuron_obj = filt_neuron,\n",
    "                             plot_only_axon_skeleton = True,\n",
    "                             error_mesh_color = \"red\",\n",
    "                             valid_mesh_color = \"green\",\n",
    "                             valid_skeleton_color = \"black\",\n",
    "                             mesh_alpha = 0.3,)"
   ]
  },
  {
   "cell_type": "markdown",
   "metadata": {},
   "source": [
    "# Run the Filtering Using the Overall Rules"
   ]
  },
  {
   "cell_type": "code",
   "execution_count": 105,
   "metadata": {},
   "outputs": [
    {
     "name": "stdout",
     "output_type": "stream",
     "text": [
      "\n",
      "--- Working on filter 0:\n",
      "function = axon_on_dendrite_merges\n",
      "function __name__ = filter_away_axon_on_dendrite_merges\n",
      "function arguments = {'use_pre_existing_axon_labels': True}\n",
      "\n",
      "\n",
      "\n",
      "\n",
      "Branches Requested to Remove (WITH disconnect effect)\n",
      "\n",
      " Working on visualization type: mesh\n"
     ]
    },
    {
     "data": {
      "application/vnd.jupyter.widget-view+json": {
       "model_id": "fb7418c9dd8a4eb5bb0cca14acc4bd79",
       "version_major": 2,
       "version_minor": 0
      },
      "text/plain": [
       "VBox(children=(Figure(camera=PerspectiveCamera(fov=46.0, position=(0.0, 0.0, 2.0), projectionMatrix=(1.0, 0.0,…"
      ]
     },
     "metadata": {},
     "output_type": "display_data"
    },
    {
     "name": "stdout",
     "output_type": "stream",
     "text": [
      "\n",
      "--- Working on filter 1:\n",
      "function = crossovers\n",
      "function __name__ = filter_away_crossovers\n",
      "function arguments = {'axon_dependent': True, 'match_threshold': 50, 'require_two_pairs': False}\n",
      "\n",
      "\n",
      "limb_branch_dict_to_cancel = {'L6': [42, 45, 46, 47, 1, 2, 3, 6, 39, 8, 41, 7, 9, 12, 17, 19, 22, 51, 43, 44, 52]}\n",
      "\n",
      "\n",
      "Branches Requested to Remove (WITH disconnect effect)\n",
      "\n",
      " Working on visualization type: mesh\n"
     ]
    },
    {
     "data": {
      "application/vnd.jupyter.widget-view+json": {
       "model_id": "e8580a2cb215447196364ce69e54f31d",
       "version_major": 2,
       "version_minor": 0
      },
      "text/plain": [
       "VBox(children=(Figure(camera=PerspectiveCamera(fov=46.0, position=(0.0, 0.0, 2.0), projectionMatrix=(1.0, 0.0,…"
      ]
     },
     "metadata": {},
     "output_type": "display_data"
    },
    {
     "name": "stdout",
     "output_type": "stream",
     "text": [
      "\n",
      "--- Working on filter 2:\n",
      "function = double_back_and_width_change\n",
      "function __name__ = filter_away_large_double_back_or_width_changes\n",
      "function arguments = {'perform_double_back_errors': True, 'skip_double_back_errors_for_axon': False, 'width_jump_threshold': 250, 'running_width_jump_method': True, 'double_back_axon_like_threshold': 145, 'double_back_threshold': 120}\n",
      "\n",
      "\n",
      "limb_branch_dict_to_cancel = {'L6': [27, 28, 15, 1]}\n",
      "\n",
      "\n",
      "Branches Requested to Remove (WITH disconnect effect)\n",
      "\n",
      " Working on visualization type: mesh\n"
     ]
    },
    {
     "data": {
      "application/vnd.jupyter.widget-view+json": {
       "model_id": "733ef509dd334f84be258dbb58476f56",
       "version_major": 2,
       "version_minor": 0
      },
      "text/plain": [
       "VBox(children=(Figure(camera=PerspectiveCamera(fov=46.0, position=(0.0, 0.0, 2.0), projectionMatrix=(1.0, 0.0,…"
      ]
     },
     "metadata": {},
     "output_type": "display_data"
    },
    {
     "name": "stdout",
     "output_type": "stream",
     "text": [
      "\n",
      "--- Working on filter 3:\n",
      "function = high_degree_coordinates\n",
      "function __name__ = filter_away_high_degree_coordinates\n",
      "function arguments = {'axon_dependent': True, 'min_degree_to_find': 4}\n",
      "\n",
      "\n",
      "min_degree_to_find = 4\n",
      "min_degree_to_find = 4\n",
      "min_degree_to_find = 4\n",
      "min_degree_to_find = 4\n",
      "min_degree_to_find = 4\n",
      "min_degree_to_find = 4\n",
      "min_degree_to_find = 4\n",
      "min_degree_to_find = 4\n",
      "min_degree_to_find = 4\n",
      "min_degree_to_find = 4\n",
      "limb_branch_dict_to_cancel = {}\n",
      "\n",
      "--- Working on filter 4:\n",
      "function = axon_webbing_t_merges\n",
      "function __name__ = filter_away_webbing_t_merges\n",
      "function arguments = {'child_width_maximum': 75, 'parent_width_maximum': 75, 'axon_only': True, 'error_if_web_is_none': True, 'web_size_threshold': 120, 'web_size_type': 'ray_trace_median', 'web_above_threshold': True}\n",
      "\n",
      "\n",
      "limb_branch_dict_to_cancel = {'L6': [28, 29]}\n",
      "\n",
      "\n",
      "Branches Requested to Remove (WITH disconnect effect)\n",
      "\n",
      " Working on visualization type: mesh\n"
     ]
    },
    {
     "data": {
      "application/vnd.jupyter.widget-view+json": {
       "model_id": "d0bfb756fffd481988401ed952e47ce9",
       "version_major": 2,
       "version_minor": 0
      },
      "text/plain": [
       "VBox(children=(Figure(camera=PerspectiveCamera(fov=46.0, position=(0.0, 0.0, 2.0), projectionMatrix=(1.0, 0.0,…"
      ]
     },
     "metadata": {},
     "output_type": "display_data"
    },
    {
     "name": "stdout",
     "output_type": "stream",
     "text": [
      "\n",
      "--- Working on filter 5:\n",
      "function = axon_webbing_t_merges\n",
      "function __name__ = filter_away_webbing_t_merges\n",
      "function arguments = {'child_width_maximum': 75, 'parent_width_maximum': 75, 'axon_only': True, 'error_if_web_is_none': True, 'web_size_threshold': 120, 'web_size_type': 'ray_trace_median', 'web_above_threshold': True}\n",
      "\n",
      "\n",
      "limb_branch_dict_to_cancel = {}\n",
      "\n",
      "\n",
      "\n",
      " ---- Total time for applying filter: 130.7803249359131 -----\n",
      "\n",
      "--- Finished Part 1: Filtering Neuron -----\n",
      "Apply the presyn non_error\n",
      "For presyn: # valid synapses = 5, # error synapses  = 59, # error presyns = 22\n",
      "For postsyn: # valid synapses = 4632, # error synapses  = 10, # error presyns = 0\n",
      "\n",
      "--- Finished Part 2: Filtering Synapses -----\n",
      "Synapsse Results:\n",
      "Total Number of Synapses = 4706\n",
      "n_valid_syn_ids_presyn = 5\n",
      "n_errored_syn_ids_presyn = 59\n",
      "n_valid_syn_ids_postsyn = 4632\n",
      "n_errored_syn_ids_postsyn = 10\n",
      "\n",
      "--- Finished Part 3: Generating Validation Dataframe -----\n"
     ]
    }
   ],
   "source": [
    "(base_filt_neuron,\n",
    " return_synapse_df,\n",
    "return_validation_df) =  vu.filtered_neuron_score(neuron_obj = neuron_obj_axon,   \n",
    "                        filter_list = (pru.get_exc_filters_high_fidelity_axon_postprocessing()\n",
    "                                       + pru.v4_exc_filters()),\n",
    "                        verbose = True,\n",
    "                                                 plot_score=False)"
   ]
  },
  {
   "cell_type": "code",
   "execution_count": 106,
   "metadata": {},
   "outputs": [
    {
     "name": "stdout",
     "output_type": "stream",
     "text": [
      "Segment Id = 864691136201041854\n",
      "Postsyn counts:\n",
      "TP:4630\n",
      "TN:2\n",
      "FP:2\n",
      "FN:8\n",
      "Presyn counts:\n",
      "TP:5\n",
      "TN:37\n",
      "FP:0\n",
      "FN:0\n"
     ]
    },
    {
     "data": {
      "image/png": "[encoded data removed]",
      "text/plain": [
       "<Figure size 700x400 with 2 Axes>"
      ]
     },
     "metadata": {},
     "output_type": "display_data"
    }
   ],
   "source": [
    "vu.synapse_validation_df_to_score_plot(return_validation_df)"
   ]
  },
  {
   "cell_type": "code",
   "execution_count": 107,
   "metadata": {},
   "outputs": [
    {
     "name": "stdout",
     "output_type": "stream",
     "text": [
      "Using the mesh from the neuron object\n"
     ]
    },
    {
     "data": {
      "application/vnd.jupyter.widget-view+json": {
       "model_id": "45bd57e2fcba43fda53a454f94ec85fa",
       "version_major": 2,
       "version_minor": 0
      },
      "text/plain": [
       "VBox(children=(Figure(camera=PerspectiveCamera(fov=46.0, position=(0.0, 0.0, 2.0), projectionMatrix=(1.0, 0.0,…"
      ]
     },
     "metadata": {},
     "output_type": "display_data"
    },
    {
     "name": "stdout",
     "output_type": "stream",
     "text": [
      "TP:yellow\n",
      "TN:aqua\n",
      "FP:black\n",
      "FN:orange\n"
     ]
    }
   ],
   "source": [
    "vu.plot_validation_synapses(segment_id,\n",
    "                            validation_df = return_validation_df,\n",
    "                             synapse_dict = None,\n",
    "                             synapses_type_to_plot = None,\n",
    "                             synapses_type_to_not_plot = None,\n",
    "                             verbose=False,\n",
    "                             synapse_type = \"presyn\",\n",
    "                             TP_color=\"yellow\",\n",
    "                            TN_color=\"aqua\",\n",
    "                            FP_color=\"black\",\n",
    "                            FN_color=\"orange\",\n",
    "                             synapse_scatter_size = 0.15,\n",
    "                             \n",
    "                             #for plotting the actual mesh parts to go along\n",
    "                             \n",
    "                             neuron_obj = base_filt_neuron,\n",
    "                             plot_only_axon_skeleton = True,\n",
    "                             error_mesh_color = \"red\",\n",
    "                             valid_mesh_color = \"green\",\n",
    "                             valid_skeleton_color = \"black\",\n",
    "                             mesh_alpha = 0.3,)"
   ]
  },
  {
   "cell_type": "code",
   "execution_count": null,
   "metadata": {},
   "outputs": [],
   "source": []
  }
 ],
 "metadata": {
  "kernelspec": {
   "display_name": "Python 3",
   "language": "python",
   "name": "python3"
  },
  "language_info": {
   "codemirror_mode": {
    "name": "ipython",
    "version": 3
   },
   "file_extension": ".py",
   "mimetype": "text/x-python",
   "name": "python",
   "nbconvert_exporter": "python",
   "pygments_lexer": "ipython3",
   "version": "3.6.9"
  }
 },
 "nbformat": 4,
 "nbformat_minor": 4
}
