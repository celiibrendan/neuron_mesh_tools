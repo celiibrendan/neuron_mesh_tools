{
 "cells": [
  {
   "cell_type": "code",
   "execution_count": 1,
   "metadata": {},
   "outputs": [
    {
     "data": {
      "text/plain": [
       "'\\nPurpose: To decompose the multi-somas for splitting\\nusing the new decomposition method\\n\\n\\n\\n\\n'"
      ]
     },
     "execution_count": 1,
     "metadata": {},
     "output_type": "execute_result"
    }
   ],
   "source": [
    "\"\"\"\n",
    "Purpose: To decompose the multi-somas for splitting\n",
    "using the new decomposition method\n",
    "\n",
    "\n",
    "\n",
    "\n",
    "\"\"\"\n"
   ]
  },
  {
   "cell_type": "code",
   "execution_count": 2,
   "metadata": {},
   "outputs": [
    {
     "name": "stderr",
     "output_type": "stream",
     "text": [
      "INFO - 2021-04-07 05:27:15,445 - settings - Setting database.host to at-database.ad.bcm.edu\n",
      "INFO - 2021-04-07 05:27:15,447 - settings - Setting database.user to celiib\n",
      "INFO - 2021-04-07 05:27:15,448 - settings - Setting database.password to newceliipass\n",
      "INFO - 2021-04-07 05:27:15,453 - settings - Setting stores to {'minnie65': {'protocol': 'file', 'location': '/mnt/dj-stor01/platinum/minnie65', 'stage': '/mnt/dj-stor01/platinum/minnie65'}, 'meshes': {'protocol': 'file', 'location': '/mnt/dj-stor01/platinum/minnie65/02/meshes', 'stage': '/mnt/dj-stor01/platinum/minnie65/02/meshes'}, 'decimated_meshes': {'protocol': 'file', 'location': '/mnt/dj-stor01/platinum/minnie65/02/decimated_meshes', 'stage': '/mnt/dj-stor01/platinum/minnie65/02/decimated_meshes'}, 'skeletons': {'protocol': 'file', 'location': '/mnt/dj-stor01/platinum/minnie65/02/skeletons'}}\n",
      "INFO - 2021-04-07 05:27:15,454 - settings - Setting enable_python_native_blobs to True\n",
      "INFO - 2021-04-07 05:27:15,468 - connection - Connected celiib@at-database.ad.bcm.edu:3306\n"
     ]
    },
    {
     "name": "stdout",
     "output_type": "stream",
     "text": [
      "Connecting celiib@at-database.ad.bcm.edu:3306\n"
     ]
    },
    {
     "name": "stderr",
     "output_type": "stream",
     "text": [
      "INFO - 2021-04-07 05:27:15,881 - settings - Setting enable_python_native_blobs to True\n",
      "INFO - 2021-04-07 05:27:15,885 - settings - Setting database.host to at-database.ad.bcm.edu\n",
      "INFO - 2021-04-07 05:27:15,886 - settings - Setting database.user to celiib\n",
      "INFO - 2021-04-07 05:27:15,887 - settings - Setting database.password to newceliipass\n",
      "INFO - 2021-04-07 05:27:15,887 - settings - Setting database.host to at-database.ad.bcm.edu\n",
      "INFO - 2021-04-07 05:27:15,888 - settings - Setting database.user to celiib\n",
      "INFO - 2021-04-07 05:27:15,888 - settings - Setting database.password to newceliipass\n",
      "INFO - 2021-04-07 05:27:15,890 - settings - Setting enable_python_native_blobs to True\n",
      "INFO - 2021-04-07 05:27:16,333 - settings - Setting enable_python_native_blobs to True\n"
     ]
    }
   ],
   "source": [
    "import numpy as np\n",
    "import datajoint as dj\n",
    "import trimesh\n",
    "from tqdm.notebook import tqdm\n",
    "from pathlib import Path\n",
    "\n",
    "from os import sys\n",
    "sys.path.append(\"/meshAfterParty/\")\n",
    "sys.path.append(\"/meshAfterParty/meshAfterParty\")\n",
    "\n",
    "import datajoint_utils as du\n",
    "from importlib import reload"
   ]
  },
  {
   "cell_type": "code",
   "execution_count": 3,
   "metadata": {},
   "outputs": [],
   "source": [
    "#so that it will have the adapter defined\n",
    "from datajoint_utils import *"
   ]
  },
  {
   "cell_type": "code",
   "execution_count": 4,
   "metadata": {},
   "outputs": [],
   "source": [
    "test_mode = True"
   ]
  },
  {
   "cell_type": "markdown",
   "metadata": {},
   "source": [
    "# Debugging the contains method"
   ]
  },
  {
   "cell_type": "code",
   "execution_count": 5,
   "metadata": {},
   "outputs": [],
   "source": [
    "import system_utils as su"
   ]
  },
  {
   "cell_type": "code",
   "execution_count": 6,
   "metadata": {},
   "outputs": [
    {
     "name": "stderr",
     "output_type": "stream",
     "text": [
      "INFO - 2021-04-07 05:27:19,307 - settings - Setting database.host to at-database.ad.bcm.edu\n",
      "INFO - 2021-04-07 05:27:19,309 - settings - Setting database.user to celiib\n",
      "INFO - 2021-04-07 05:27:19,310 - settings - Setting database.password to newceliipass\n",
      "INFO - 2021-04-07 05:27:19,312 - settings - Setting database.host to at-database.ad.bcm.edu\n",
      "INFO - 2021-04-07 05:27:19,313 - settings - Setting database.user to celiib\n",
      "INFO - 2021-04-07 05:27:19,314 - settings - Setting database.password to newceliipass\n",
      "INFO - 2021-04-07 05:27:19,320 - settings - Setting enable_python_native_blobs to True\n"
     ]
    },
    {
     "name": "stdout",
     "output_type": "stream",
     "text": [
      "Sleeping 41 sec before conneting\n",
      "Done sleeping\n",
      "Current path for external_segmentation_path = /mnt/dj-stor01/platinum/minnie65/02\n",
      "Current path for external_mesh_path = /mnt/dj-stor01/platinum/minnie65/02/meshes\n",
      "Current path for external_decimated_mesh_path = /mnt/dj-stor01/platinum/minnie65/02/decimated_meshes\n",
      "Current path for external_skeleton_path = /mnt/dj-stor01/platinum/minnie65/02/skeletons\n"
     ]
    },
    {
     "name": "stderr",
     "output_type": "stream",
     "text": [
      "INFO - 2021-04-07 05:27:19,818 - settings - Setting enable_python_native_blobs to True\n"
     ]
    }
   ],
   "source": [
    "import minfig\n",
    "import time\n",
    "import numpy as np\n",
    "#want to add in a wait for the connection part\n",
    "random_sleep_sec = np.random.randint(0, 200)\n",
    "print(f\"Sleeping {random_sleep_sec} sec before conneting\")\n",
    "if not test_mode:\n",
    "    time.sleep(random_sleep_sec)\n",
    "print(\"Done sleeping\")\n",
    "\n",
    "du.config_celii()\n",
    "du.set_minnie65_config_segmentation(minfig)\n",
    "du.print_minnie65_config_paths(minfig)\n",
    "\n",
    "#configuring will include the adapters\n",
    "minnie,schema = du.configure_minnie_vm()"
   ]
  },
  {
   "cell_type": "code",
   "execution_count": 7,
   "metadata": {},
   "outputs": [],
   "source": [
    "from importlib import reload\n",
    "\n",
    "import neuron_utils as nru\n",
    "\n",
    "import neuron\n",
    "\n",
    "import neuron_visualizations as nviz\n",
    "\n",
    "import time\n",
    "\n",
    "import datajoint_utils as du\n",
    "\n",
    "import numpy as np\n",
    "\n",
    "import proofreading_utils as pru\n",
    "\n",
    "import preprocessing_vp2 as pre\n",
    "\n",
    "# -- For the axon classification --\n",
    "\n",
    "import neuron_searching as ns\n",
    "\n",
    "import skeleton_utils as sk\n",
    "\n",
    "import numpy_utils as nu\n",
    "\n",
    "import networkx_utils as xu\n",
    "\n",
    "import system_utils as su\n",
    "\n",
    "import classification_utils as clu\n",
    "import proofreading_utils as pru\n",
    "\n",
    "import datajoint as dj\n",
    "\n",
    "from pykdtree.kdtree import KDTree\n",
    "import trimesh_utils as tu\n",
    "import proofreading_utils as pru\n",
    "import numpy as np\n",
    "import axon_utils as au\n",
    "import validation_utils as vu"
   ]
  },
  {
   "cell_type": "markdown",
   "metadata": {},
   "source": [
    "# Defining the Table"
   ]
  },
  {
   "cell_type": "code",
   "execution_count": 8,
   "metadata": {},
   "outputs": [],
   "source": [
    "import neuron_utils as nru\n",
    "import neuron\n",
    "import trimesh_utils as tu\n",
    "import numpy as np"
   ]
  },
  {
   "cell_type": "code",
   "execution_count": 9,
   "metadata": {},
   "outputs": [
    {
     "name": "stdout",
     "output_type": "stream",
     "text": [
      "No port chosen so picked random port 6468\n"
     ]
    }
   ],
   "source": [
    "import meshlab\n",
    "meshlab.set_meshlab_port(current_port=None)"
   ]
  },
  {
   "cell_type": "markdown",
   "metadata": {},
   "source": [
    "# Creating the Auto Proofread Neuron Table"
   ]
  },
  {
   "cell_type": "code",
   "execution_count": 36,
   "metadata": {},
   "outputs": [
    {
     "name": "stdout",
     "output_type": "stream",
     "text": [
      "`microns_minnie65_02`.`auto_proofread_validation_border_neurons` (0 tuples)\n",
      "Proceed? [yes, No]: yes\n",
      "Tables dropped.  Restart kernel.\n",
      "`microns_minnie65_02`.`__auto_proofread_validation_border` (0 tuples)\n",
      "Proceed? [yes, No]: yes\n",
      "Tables dropped.  Restart kernel.\n"
     ]
    },
    {
     "name": "stderr",
     "output_type": "stream",
     "text": [
      "0it [00:00, ?it/s]\n"
     ]
    },
    {
     "data": {
      "text/plain": [
       "[]"
      ]
     },
     "execution_count": 36,
     "metadata": {},
     "output_type": "execute_result"
    }
   ],
   "source": [
    "# minnie,schema = du.configure_minnie_vm()\n",
    "# AutoProofreadValidationBorderNeurons.drop()\n",
    "# AutoProofreadValidationBorder.drop()\n",
    "# minnie.schema.external['decomposition'].delete(delete_external_files=True)"
   ]
  },
  {
   "cell_type": "code",
   "execution_count": 38,
   "metadata": {},
   "outputs": [],
   "source": [
    "@schema\n",
    "class AutoProofreadValidationBorderNeurons(dj.Manual):\n",
    "    definition=\"\"\"\n",
    "    -> minnie.AutoProofreadValidationStats3()\n",
    "    ---\n",
    "    decomposition: <decomposition>\n",
    "    \"\"\""
   ]
  },
  {
   "cell_type": "code",
   "execution_count": 46,
   "metadata": {},
   "outputs": [],
   "source": [
    "import numpy as np\n",
    "import time\n",
    "\n",
    "verbose = True\n",
    "axon_version = 0\n",
    "@schema\n",
    "class AutoProofreadValidationBorder(dj.Computed):\n",
    "    definition=\"\"\"\n",
    "    -> minnie.AutoProofreadValidationStats3()\n",
    "    axon_version    : tinyint unsigned \n",
    "    parent_idx: smallint unsigned\n",
    "    ---\n",
    "    web_size_faces=NULL : smallint unsigned\n",
    "    web_size_volume=NULL : double\n",
    "    web_size_skeleton=NULL : double\n",
    "    web_size_ray_trace_percentile=NULL : double\n",
    "    web_bbox_ratios_max=NULL: double\n",
    "    web_bbox_ratios_min=NULL: double\n",
    "    web_volume_ratio=NULL: double\n",
    "    web_cdf=NULL: double\n",
    "    parent_n_large_boutons=NULL : tinyint unsigned \n",
    "    parent_n_boutons=NULL : tinyint unsigned \n",
    "    parent_no_bouton_median=NULL : double\n",
    "    parent_no_spine_median_mesh_center=NULL : double\n",
    "    child_no_bouton_median_min =NULL: double\n",
    "    child_no_bouton_median_diff_min=NULL : double\n",
    "    child_no_spine_median_mesh_center_min=NULL :double\n",
    "    child_no_spine_median_mesh_center_diff_min=NULL : double\n",
    "    child_angle_min=NULL : double\n",
    "    child_n_boutons_min=NULL : tinyint unsigned\n",
    "    child_n_large_boutons_min=NULL : tinyint unsigned\n",
    "    child_no_bouton_median_max =NULL: double\n",
    "    child_no_bouton_median_diff_max=NULL: double\n",
    "    child_no_spine_median_mesh_center_max=NULL : double\n",
    "    child_no_spine_median_mesh_center_diff_max=NULL :double\n",
    "    child_angle_max=NULL : double\n",
    "    child_n_boutons_max =NULL: tinyint unsigned\n",
    "    child_n_large_boutons_max=NULL : tinyint unsigned\n",
    "    sibling_angles_min=NULL: double\n",
    "    sibling_angles_max=NULL: double\n",
    "    label: varchar(10)\n",
    "    \n",
    "    \"\"\"\n",
    "\n",
    "    key_source = du.proofreading_stats_table(validation=True)\n",
    "    \n",
    "    \n",
    "\n",
    "    def make(self,key):\n",
    "        \"\"\"\n",
    "        Pseudocode:\n",
    "        1) Pull down the neuron object\n",
    "        2) Run the complete axon preprocessing on the neuron\n",
    "        3) Run the borders attributes dictionary\n",
    "        4) Save off the neuron object\n",
    "        5) Write the Attribute records\n",
    "\n",
    "        \"\"\"\n",
    "        print(f\"\\n\\n\\n---- Working on Neuron {key['segment_id']} ----\")\n",
    "        \n",
    "        # 1) Pull Down All of the Neurons\n",
    "        segment_id = key[\"segment_id\"]\n",
    "        \n",
    "        whole_pass_time = time.time()\n",
    "        neuron_objs,neuron_split_idxs = du.decomposition_with_spine_recalculation(segment_id)    \n",
    "        neuron_obj = neuron_objs[0]\n",
    "        \n",
    "        #2) Run the complete axon preprocessing on the neuron\n",
    "        neuron_obj_with_web = au.complete_axon_processing(neuron_obj,\n",
    "                                                 verbose=True)\n",
    "        \n",
    "        \n",
    "        branch_attr = vu.neuron_to_border_branching_attributes(neuron_obj_with_web,\n",
    "                                         plot_valid_border_branches=False,\n",
    "                                          plot_invalid_border_branches = False,\n",
    "                                          verbose=False\n",
    "                                         )\n",
    "        \n",
    "        #3) Run the borders attributes dictionary\n",
    "        branch_attr = vu.neuron_to_border_branching_attributes(neuron_obj_with_web,\n",
    "                                         plot_valid_border_branches=False,\n",
    "                                          plot_invalid_border_branches = False,\n",
    "                                          verbose=False\n",
    "                                         )\n",
    "        branch_attr_keys = []\n",
    "        for k in branch_attr:\n",
    "            new_dict  = dict(key)\n",
    "            new_dict.update(k)\n",
    "            new_dict[\"axon_version\"] = axon_version\n",
    "            branch_attr_keys.append(new_dict)\n",
    "            \n",
    "        if verbose:\n",
    "            print(f\"\\n\\nlen(branch_attr_keys) = {len(branch_attr_keys)}\")\n",
    "            \n",
    "            \n",
    "        \n",
    "        #4) Save the file in a certain location\n",
    "        save_time = time.time()\n",
    "        ret_file_path = neuron_obj_with_web.save_compressed_neuron(output_folder=str(du.get_decomposition_path()),\n",
    "                                        file_name=f\"{neuron_obj_with_web.segment_id}_{neuron_obj_with_web.description}_full_axon\",\n",
    "                                          return_file_path=True,\n",
    "                                         export_mesh=False,\n",
    "                                         suppress_output=True)\n",
    "\n",
    "        ret_file_path_str = str(ret_file_path.absolute()) + \".pbz2\"\n",
    "        print(f\"Save time = {time.time() - save_time}\")\n",
    "        \n",
    "        n_dict = dict(key,\n",
    "                     decomposition=ret_file_path_str)\n",
    "        \n",
    "        AutoProofreadValidationBorderNeurons.insert1(n_dict,skip_duplicates=True)\n",
    "        \n",
    "        \n",
    "        \n",
    "        \n",
    "        #5) Write the Attribute records\n",
    "        if len(branch_attr_keys)>0:\n",
    "            AutoProofreadValidationBorder.insert(branch_attr_keys,skip_duplicates=True)\n",
    "\n",
    "    \n",
    "\n",
    "        print(f\"\\n\\n ***------ Total time for {key['segment_id']} = {time.time() - whole_pass_time} ------ ***\")\n",
    "    \n"
   ]
  },
  {
   "cell_type": "markdown",
   "metadata": {},
   "source": [
    "# Running the Populate"
   ]
  },
  {
   "cell_type": "code",
   "execution_count": 47,
   "metadata": {},
   "outputs": [
    {
     "data": {
      "text/html": [
       "\n",
       "        \n",
       "        <style type=\"text/css\">\n",
       "            .Relation{\n",
       "                border-collapse:collapse;\n",
       "            }\n",
       "            .Relation th{\n",
       "                background: #A0A0A0; color: #ffffff; padding:4px; border:#f0e0e0 1px solid;\n",
       "                font-weight: normal; font-family: monospace; font-size: 100%;\n",
       "            }\n",
       "            .Relation td{\n",
       "                padding:4px; border:#f0e0e0 1px solid; font-size:100%;\n",
       "            }\n",
       "            .Relation tr:nth-child(odd){\n",
       "                background: #ffffff;\n",
       "            }\n",
       "            .Relation tr:nth-child(even){\n",
       "                background: #f3f1ff;\n",
       "            }\n",
       "            /* Tooltip container */\n",
       "            .djtooltip {\n",
       "            }\n",
       "            /* Tooltip text */\n",
       "            .djtooltip .djtooltiptext {\n",
       "                visibility: hidden;\n",
       "                width: 120px;\n",
       "                background-color: black;\n",
       "                color: #fff;\n",
       "                text-align: center;\n",
       "                padding: 5px 0;\n",
       "                border-radius: 6px;\n",
       "                /* Position the tooltip text - see examples below! */\n",
       "                position: absolute;\n",
       "                z-index: 1;\n",
       "            }\n",
       "            #primary {\n",
       "                font-weight: bold;\n",
       "                color: black;\n",
       "            }\n",
       "\n",
       "            #nonprimary {\n",
       "                font-weight: normal;\n",
       "                color: white;\n",
       "            }\n",
       "\n",
       "            /* Show the tooltip text when you mouse over the tooltip container */\n",
       "            .djtooltip:hover .djtooltiptext {\n",
       "                visibility: visible;\n",
       "            }\n",
       "        </style>\n",
       "        \n",
       "        <b>job reservation table for `microns_minnie65_02`</b>\n",
       "            <div style=\"max-height:1000px;max-width:1500px;overflow:auto;\">\n",
       "            <table border=\"1\" class=\"Relation\">\n",
       "                <thead> <tr style=\"text-align: right;\"> <th> <div class=\"djtooltip\">\n",
       "                                <p id=\"primary\">table_name</p>\n",
       "                                <span class=\"djtooltiptext\">className of the table</span>\n",
       "                            </div></th><th><div class=\"djtooltip\">\n",
       "                                <p id=\"primary\">key_hash</p>\n",
       "                                <span class=\"djtooltiptext\">key hash</span>\n",
       "                            </div></th><th><div class=\"djtooltip\">\n",
       "                                <p id=\"nonprimary\">status</p>\n",
       "                                <span class=\"djtooltiptext\">if tuple is missing, the job is available</span>\n",
       "                            </div></th><th><div class=\"djtooltip\">\n",
       "                                <p id=\"nonprimary\">key</p>\n",
       "                                <span class=\"djtooltiptext\">structure containing the key</span>\n",
       "                            </div></th><th><div class=\"djtooltip\">\n",
       "                                <p id=\"nonprimary\">error_message</p>\n",
       "                                <span class=\"djtooltiptext\">error message returned if failed</span>\n",
       "                            </div></th><th><div class=\"djtooltip\">\n",
       "                                <p id=\"nonprimary\">error_stack</p>\n",
       "                                <span class=\"djtooltiptext\">error stack if failed</span>\n",
       "                            </div></th><th><div class=\"djtooltip\">\n",
       "                                <p id=\"nonprimary\">user</p>\n",
       "                                <span class=\"djtooltiptext\">database user</span>\n",
       "                            </div></th><th><div class=\"djtooltip\">\n",
       "                                <p id=\"nonprimary\">host</p>\n",
       "                                <span class=\"djtooltiptext\">system hostname</span>\n",
       "                            </div></th><th><div class=\"djtooltip\">\n",
       "                                <p id=\"nonprimary\">pid</p>\n",
       "                                <span class=\"djtooltiptext\">system process id</span>\n",
       "                            </div></th><th><div class=\"djtooltip\">\n",
       "                                <p id=\"nonprimary\">connection_id</p>\n",
       "                                <span class=\"djtooltiptext\">connection_id()</span>\n",
       "                            </div></th><th><div class=\"djtooltip\">\n",
       "                                <p id=\"nonprimary\">timestamp</p>\n",
       "                                <span class=\"djtooltiptext\">automatic timestamp</span>\n",
       "                            </div> </th> </tr> </thead>\n",
       "                <tbody> <tr>  </tr> </tbody>\n",
       "            </table>\n",
       "            \n",
       "            <p>Total: 0</p></div>\n",
       "            "
      ],
      "text/plain": [
       "*table_name    *key_hash    status     key        error_message  error_stac user     host     pid     connection_id  timestamp    \n",
       "+------------+ +----------+ +--------+ +--------+ +------------+ +--------+ +------+ +------+ +-----+ +------------+ +-----------+\n",
       "\n",
       " (Total: 0)"
      ]
     },
     "execution_count": 47,
     "metadata": {},
     "output_type": "execute_result"
    }
   ],
   "source": [
    "curr_table = (minnie.schema.jobs & \"table_name='__auto_proofread_validation_border'\")\n",
    "(curr_table)#.delete()# & \"status='error'\")\n",
    "#curr_table.delete()\n",
    "#(curr_table & \"error_message = 'ValueError: need at least one array to concatenate'\").delete()\n"
   ]
  },
  {
   "cell_type": "code",
   "execution_count": 48,
   "metadata": {},
   "outputs": [
    {
     "name": "stdout",
     "output_type": "stream",
     "text": [
      "Populate Started\n",
      "\n",
      "\n",
      "\n",
      "---- Working on Neuron 864691135393964789 ----\n",
      "Decompressing Neuron in minimal output mode...please wait\n",
      "Pulled from Table Decomposition so setting split_index = 0\n",
      "Dont need spine recalculation\n",
      "Number of Neurons found = 1\n",
      "\n",
      "Part 1: Axon like branchese \n",
      "{'L0': array([ 0,  4,  5,  6,  7,  9, 12, 13, 14, 15, 16, 18, 19, 22, 27, 28, 29,\n",
      "       30]), 'L1': array([5]), 'L2': array([5, 7, 8]), 'L4': array([1])}\n",
      "Limb L0 soma angle: 30.21 \n",
      "Limb L1 soma angle: 105.73 \n",
      "Limb L2 soma angle: 161.07 \n",
      "Limb L3 soma angle: 82.0 \n",
      "Limb L4 soma angle: 100.73 \n",
      "\n",
      "Part 2: possible_axon_limbs = [1, 2, 3, 4]\n",
      "\n",
      "Phase 2: Working on Limb L1\n",
      "nodes_to_eliminate = [0]\n",
      "\n",
      "Phase 2: Working on Limb L2\n",
      "nodes_to_eliminate = [2 4 6]\n",
      "\n",
      "Phase 2: Working on Limb L3\n",
      "nodes_to_eliminate = [1]\n",
      "\n",
      "Phase 2: Working on Limb L4\n",
      "nodes_to_eliminate = [4]\n",
      "\n",
      "----Working on Limb L1-----\n",
      "No endpoints were eliminated so don't need to add back any candidates\n",
      "\n",
      "----Working on Limb L2-----\n",
      "No endpoints were eliminated so don't need to add back any candidates\n",
      "\n",
      "----Working on Limb L3-----\n",
      "No endpoints were eliminated so don't need to add back any candidates\n",
      "\n",
      "----Working on Limb L4-----\n",
      "No endpoints were eliminated so don't need to add back any candidates\n",
      "Final Candidates\n",
      "\n",
      "Limb 1\n",
      "Candidate 0 (olive): array([1])\n",
      "Candidate 1 (crimson): array([2, 3, 4, 5, 6, 7, 8, 9])\n",
      "\n",
      "Limb 2\n",
      "Candidate 0 (pink): array([8, 5, 7])\n",
      "Candidate 1 (sandybrown): array([3])\n",
      "Candidate 2 (magenta): array([0])\n",
      "Candidate 3 (tan): array([1])\n",
      "\n",
      "Limb 3\n",
      "Candidate 0 (darkslategray): array([0])\n",
      "Candidate 1 (blue): array([2, 3, 4])\n",
      "\n",
      "Limb 4\n",
      "Candidate 0 (brown): array([0, 1, 2])\n",
      "Candidate 1 (tan): array([3])\n",
      "Part 3: axon_subgraph_candidates = {1: [[1], [2, 3, 4, 5, 6, 7, 8, 9]], 2: [[8, 5, 7], [3], [0], [1]], 3: [[0], [2, 3, 4]], 4: [[0, 1, 2], [3]]}\n",
      "\n",
      "\n",
      " --- Working on limb 1, candidate # 0\n",
      "0 out of 1 branches are axons\n",
      "Axon percentage = 0.0\n",
      "Not adding candidate no axon branches detected \n",
      "\n",
      "\n",
      " --- Working on limb 1, candidate # 1\n",
      "1 out of 8 branches are axons\n",
      "Axon percentage = 0.125\n",
      "curr_axon_angle_threshold = 120\n",
      "candidate_nodes = [0 2 3 4 5 6 7 8 9]\n",
      "non_axon_branches_on_subgraph = [0 2 3 4 6 7 8 9]\n",
      "endnodes_to_test = [379]\n",
      "Skeleton paths distances = [24951.77085003]\n",
      "Filtered indexes = [0]\n",
      "len(filtered_skeletons) = 1\n",
      "sk_angles = [82.64190654]\n",
      "candidate_angles,restr_skels = (array([82.64190654]), [array([[[823873.9354722 , 673923.74091204, 717809.11754057],\n",
      "        [823965.8357124 , 673890.08074879, 717829.64408995]],\n",
      "\n",
      "       [[823965.8357124 , 673890.08074879, 717829.64408995],\n",
      "        [824057.71981631, 673856.41306152, 717850.22999862]],\n",
      "\n",
      "       [[824057.71981631, 673856.41306152, 717850.22999862],\n",
      "        [824149.78030745, 673823.79330315, 717871.69655329]],\n",
      "\n",
      "       [[824149.78030745, 673823.79330315, 717871.69655329],\n",
      "        [824241.94425864, 673791.728474  , 717893.550303  ]],\n",
      "\n",
      "       [[824241.94425864, 673791.728474  , 717893.550303  ],\n",
      "        [824334.45767395, 673761.75100625, 717916.84401964]],\n",
      "\n",
      "       [[824334.45767395, 673761.75100625, 717916.84401964],\n",
      "        [824427.11637328, 673732.95084007, 717941.02770994]],\n",
      "\n",
      "       [[824427.11637328, 673732.95084007, 717941.02770994],\n",
      "        [824519.9722073 , 673706.14053115, 717966.69795195]],\n",
      "\n",
      "       [[824519.9722073 , 673706.14053115, 717966.69795195],\n",
      "        [824612.83571515, 673680.72192382, 717993.72085673]],\n",
      "\n",
      "       [[824612.83571515, 673680.72192382, 717993.72085673],\n",
      "        [824705.67662338, 673656.41632807, 718021.82374303]],\n",
      "\n",
      "       [[824705.67662338, 673656.41632807, 718021.82374303],\n",
      "        [824798.2352971 , 673632.82328695, 718051.42538695]],\n",
      "\n",
      "       [[824798.2352971 , 673632.82328695, 718051.42538695],\n",
      "        [824890.69265096, 673609.42972596, 718081.49782282]],\n",
      "\n",
      "       [[824890.69265096, 673609.42972596, 718081.49782282],\n",
      "        [824982.55082047, 673585.06225237, 718112.61529662]],\n",
      "\n",
      "       [[824982.55082047, 673585.06225237, 718112.61529662],\n",
      "        [825074.23073437, 673559.99598518, 718143.70275846]],\n",
      "\n",
      "       [[825074.23073437, 673559.99598518, 718143.70275846],\n",
      "        [825165.40357199, 673533.03032886, 718174.69181993]],\n",
      "\n",
      "       [[825165.40357199, 673533.03032886, 718174.69181993],\n",
      "        [825256.25397901, 673504.26774099, 718205.00489237]],\n",
      "\n",
      "       [[825256.25397901, 673504.26774099, 718205.00489237],\n",
      "        [825346.79535819, 673473.93506701, 718234.70457611]],\n",
      "\n",
      "       [[825346.79535819, 673473.93506701, 718234.70457611],\n",
      "        [825436.97544907, 673441.0572085 , 718262.75073457]],\n",
      "\n",
      "       [[825436.97544907, 673441.0572085 , 718262.75073457],\n",
      "        [825527.04246058, 673407.411019  , 718290.2412645 ]],\n",
      "\n",
      "       [[825527.04246058, 673407.411019  , 718290.2412645 ],\n",
      "        [825616.89221646, 673371.45140766, 718315.419034  ]],\n",
      "\n",
      "       [[825616.89221646, 673371.45140766, 718315.419034  ],\n",
      "        [825706.75560617, 673335.06712676, 718339.92804833]],\n",
      "\n",
      "       [[825706.75560617, 673335.06712676, 718339.92804833],\n",
      "        [825796.63001541, 673297.51847805, 718362.57026581]],\n",
      "\n",
      "       [[825796.63001541, 673297.51847805, 718362.57026581],\n",
      "        [825886.6140633 , 673259.56018354, 718384.06461673]],\n",
      "\n",
      "       [[825886.6140633 , 673259.56018354, 718384.06461673],\n",
      "        [825976.71951084, 673221.09497331, 718404.0994305 ]],\n",
      "\n",
      "       [[825976.71951084, 673221.09497331, 718404.0994305 ],\n",
      "        [826067.05467492, 673182.31454059, 718422.41930941]],\n",
      "\n",
      "       [[826067.05467492, 673182.31454059, 718422.41930941],\n",
      "        [826157.52850652, 673143.33346362, 718439.59102562]],\n",
      "\n",
      "       [[826157.52850652, 673143.33346362, 718439.59102562],\n",
      "        [826248.33386523, 673104.08106102, 718453.84999881]],\n",
      "\n",
      "       [[826248.33386523, 673104.08106102, 718453.84999881],\n",
      "        [826338.49674082, 673062.61351572, 718441.8678682 ]],\n",
      "\n",
      "       [[826338.49674082, 673062.61351572, 718441.8678682 ],\n",
      "        [826430.11067324, 673023.90492024, 718452.28435801]],\n",
      "\n",
      "       [[826430.11067324, 673023.90492024, 718452.28435801],\n",
      "        [826521.85929498, 672985.16566093, 718461.30789683]],\n",
      "\n",
      "       [[826521.85929498, 672985.16566093, 718461.30789683],\n",
      "        [826613.73908336, 672946.40827283, 718468.78729037]],\n",
      "\n",
      "       [[826613.73908336, 672946.40827283, 718468.78729037],\n",
      "        [826705.72659755, 672907.66856441, 718474.91209745]],\n",
      "\n",
      "       [[826705.72659755, 672907.66856441, 718474.91209745],\n",
      "        [826797.79373213, 672868.95879954, 718479.93075361]],\n",
      "\n",
      "       [[826797.79373213, 672868.95879954, 718479.93075361],\n",
      "        [826889.90780889, 672830.2658174 , 718484.15532393]],\n",
      "\n",
      "       [[826889.90780889, 672830.2658174 , 718484.15532393],\n",
      "        [826982.03191842, 672791.55201377, 718487.94870142]],\n",
      "\n",
      "       [[826982.03191842, 672791.55201377, 718487.94870142],\n",
      "        [827074.12404195, 672752.75873194, 718491.70630846]],\n",
      "\n",
      "       [[827074.12404195, 672752.75873194, 718491.70630846],\n",
      "        [827166.13730102, 672713.81521522, 718495.82377009]],\n",
      "\n",
      "       [[827166.13730102, 672713.81521522, 718495.82377009],\n",
      "        [827258.02172964, 672674.65065096, 718500.65747948]],\n",
      "\n",
      "       [[827258.02172964, 672674.65065096, 718500.65747948],\n",
      "        [827349.66700267, 672635.12360006, 718506.76550637]],\n",
      "\n",
      "       [[827349.66700267, 672635.12360006, 718506.76550637],\n",
      "        [827438.14995112, 672592.54866532, 718523.00796703]],\n",
      "\n",
      "       [[827438.14995112, 672592.54866532, 718523.00796703],\n",
      "        [827501.96728946, 672541.66966839, 718580.78923561]],\n",
      "\n",
      "       [[827501.96728946, 672541.66966839, 718580.78923561],\n",
      "        [827565.78462781, 672490.79067145, 718638.57050418]],\n",
      "\n",
      "       [[827565.78462781, 672490.79067145, 718638.57050418],\n",
      "        [827629.60196615, 672439.91167452, 718696.35177275]],\n",
      "\n",
      "       [[827629.60196615, 672439.91167452, 718696.35177275],\n",
      "        [827693.41930449, 672389.03267759, 718754.13304133]],\n",
      "\n",
      "       [[827693.41930449, 672389.03267759, 718754.13304133],\n",
      "        [827757.23664283, 672338.15368066, 718811.9143099 ]],\n",
      "\n",
      "       [[827757.23664283, 672338.15368066, 718811.9143099 ],\n",
      "        [827821.05398118, 672287.27468372, 718869.69557847]],\n",
      "\n",
      "       [[827821.05398118, 672287.27468372, 718869.69557847],\n",
      "        [827884.87131952, 672236.39568679, 718927.47684705]],\n",
      "\n",
      "       [[827884.87131952, 672236.39568679, 718927.47684705],\n",
      "        [827948.68865786, 672185.51668986, 718985.25811562]],\n",
      "\n",
      "       [[827948.68865786, 672185.51668986, 718985.25811562],\n",
      "        [827997.        , 672147.        , 719029.        ]],\n",
      "\n",
      "       [[827997.        , 672147.        , 719029.        ],\n",
      "        [828083.        , 672163.        , 718926.        ]],\n",
      "\n",
      "       [[828083.        , 672163.        , 718926.        ],\n",
      "        [828234.        , 672169.        , 718851.        ]],\n",
      "\n",
      "       [[828234.        , 672169.        , 718851.        ],\n",
      "        [828378.        , 672168.        , 718804.        ]],\n",
      "\n",
      "       [[828378.        , 672168.        , 718804.        ],\n",
      "        [828475.        , 672162.        , 718781.        ]],\n",
      "\n",
      "       [[828475.        , 672162.        , 718781.        ],\n",
      "        [828612.        , 672131.        , 718757.        ]],\n",
      "\n",
      "       [[828612.        , 672131.        , 718757.        ],\n",
      "        [828725.        , 672119.        , 718750.        ]],\n",
      "\n",
      "       [[828725.        , 672119.        , 718750.        ],\n",
      "        [828899.        , 672080.        , 718746.        ]],\n",
      "\n",
      "       [[828899.        , 672080.        , 718746.        ],\n",
      "        [829062.        , 672039.        , 718747.        ]],\n",
      "\n",
      "       [[829062.        , 672039.        , 718747.        ],\n",
      "        [829176.        , 672007.        , 718739.        ]],\n",
      "\n",
      "       [[829176.        , 672007.        , 718739.        ],\n",
      "        [829288.        , 671971.        , 718733.        ]],\n",
      "\n",
      "       [[829288.        , 671971.        , 718733.        ],\n",
      "        [829456.        , 671913.        , 718714.        ]],\n",
      "\n",
      "       [[829456.        , 671913.        , 718714.        ],\n",
      "        [829575.        , 671871.        , 718698.        ]],\n",
      "\n",
      "       [[829575.        , 671871.        , 718698.        ],\n",
      "        [829683.        , 671834.        , 718686.        ]],\n",
      "\n",
      "       [[829683.        , 671834.        , 718686.        ],\n",
      "        [829796.        , 671798.        , 718671.        ]],\n",
      "\n",
      "       [[829796.        , 671798.        , 718671.        ],\n",
      "        [829886.        , 671768.        , 718659.        ]],\n",
      "\n",
      "       [[829886.        , 671768.        , 718659.        ],\n",
      "        [830012.        , 671732.        , 718649.        ]],\n",
      "\n",
      "       [[830012.        , 671732.        , 718649.        ],\n",
      "        [830119.        , 671702.        , 718633.        ]],\n",
      "\n",
      "       [[830119.        , 671702.        , 718633.        ],\n",
      "        [830320.        , 671652.        , 718632.        ]],\n",
      "\n",
      "       [[830320.        , 671652.        , 718632.        ],\n",
      "        [830464.        , 671615.        , 718629.        ]],\n",
      "\n",
      "       [[830464.        , 671615.        , 718629.        ],\n",
      "        [830574.        , 671586.        , 718621.        ]],\n",
      "\n",
      "       [[830574.        , 671586.        , 718621.        ],\n",
      "        [830683.        , 671562.        , 718618.        ]],\n",
      "\n",
      "       [[830683.        , 671562.        , 718618.        ],\n",
      "        [830834.        , 671525.        , 718628.        ]],\n",
      "\n",
      "       [[830834.        , 671525.        , 718628.        ],\n",
      "        [830955.        , 671493.        , 718644.        ]],\n",
      "\n",
      "       [[830955.        , 671493.        , 718644.        ],\n",
      "        [831054.        , 671479.        , 718657.        ]],\n",
      "\n",
      "       [[831054.        , 671479.        , 718657.        ],\n",
      "        [831142.        , 671462.        , 718665.        ]],\n",
      "\n",
      "       [[831142.        , 671462.        , 718665.        ],\n",
      "        [831265.        , 671443.        , 718678.        ]],\n",
      "\n",
      "       [[831265.        , 671443.        , 718678.        ],\n",
      "        [831313.36557724, 671520.44381505, 718718.78267339]],\n",
      "\n",
      "       [[831313.36557724, 671520.44381505, 718718.78267339],\n",
      "        [831361.73115448, 671597.8876301 , 718759.56534679]],\n",
      "\n",
      "       [[831361.73115448, 671597.8876301 , 718759.56534679],\n",
      "        [831410.09673172, 671675.33144514, 718800.34802018]],\n",
      "\n",
      "       [[831410.09673172, 671675.33144514, 718800.34802018],\n",
      "        [831458.46230896, 671752.77526019, 718841.13069357]],\n",
      "\n",
      "       [[831458.46230896, 671752.77526019, 718841.13069357],\n",
      "        [831506.8278862 , 671830.21907524, 718881.91336697]],\n",
      "\n",
      "       [[831506.8278862 , 671830.21907524, 718881.91336697],\n",
      "        [831555.19346344, 671907.66289029, 718922.69604036]],\n",
      "\n",
      "       [[831555.19346344, 671907.66289029, 718922.69604036],\n",
      "        [831603.55904068, 671985.10670533, 718963.47871376]],\n",
      "\n",
      "       [[831603.55904068, 671985.10670533, 718963.47871376],\n",
      "        [831651.92461792, 672062.55052038, 719004.26138715]],\n",
      "\n",
      "       [[831651.92461792, 672062.55052038, 719004.26138715],\n",
      "        [831700.29019516, 672139.99433543, 719045.04406054]],\n",
      "\n",
      "       [[831700.29019516, 672139.99433543, 719045.04406054],\n",
      "        [831748.6557724 , 672217.43815048, 719085.82673394]],\n",
      "\n",
      "       [[831748.6557724 , 672217.43815048, 719085.82673394],\n",
      "        [831797.02134964, 672294.88196552, 719126.60940733]],\n",
      "\n",
      "       [[831797.02134964, 672294.88196552, 719126.60940733],\n",
      "        [831845.38692688, 672372.32578057, 719167.39208072]],\n",
      "\n",
      "       [[831845.38692688, 672372.32578057, 719167.39208072],\n",
      "        [831893.75250412, 672449.76959562, 719208.17475412]],\n",
      "\n",
      "       [[831893.75250412, 672449.76959562, 719208.17475412],\n",
      "        [831942.11808136, 672527.21341067, 719248.95742751]],\n",
      "\n",
      "       [[831942.11808136, 672527.21341067, 719248.95742751],\n",
      "        [831990.4836586 , 672604.65722571, 719289.7401009 ]],\n",
      "\n",
      "       [[831990.4836586 , 672604.65722571, 719289.7401009 ],\n",
      "        [832038.84923584, 672682.10104076, 719330.5227743 ]],\n",
      "\n",
      "       [[832038.84923584, 672682.10104076, 719330.5227743 ],\n",
      "        [832087.21481308, 672759.54485581, 719371.30544769]],\n",
      "\n",
      "       [[832087.21481308, 672759.54485581, 719371.30544769],\n",
      "        [832135.58039032, 672836.98867086, 719412.08812108]]])])\n",
      "Not adding candidate because no angles ([82.64190654]) passed the threhold 120 \n",
      "\n",
      "\n",
      " --- Working on limb 2, candidate # 0\n"
     ]
    },
    {
     "name": "stdout",
     "output_type": "stream",
     "text": [
      "3 out of 3 branches are axons\n",
      "Axon percentage = 1.0\n",
      "curr_axon_angle_threshold = 95\n",
      "candidate_nodes = [5 6 7 8]\n",
      "non_axon_branches_on_subgraph = [6]\n",
      "endnodes_to_test = [206 407]\n",
      "Skeleton paths distances = [24998.44806753 24973.92322021]\n",
      "Filtered indexes = [0 1]\n",
      "len(filtered_skeletons) = 2\n",
      "sk_angles = [166.26432334 165.74603409]\n",
      "candidate_angles,restr_skels = (array([166.26432334, 165.74603409]), [array([[[813251.10377593, 684342.3216579 , 710038.64941775],\n",
      "        [813313.72553628, 684405.77520215, 709993.34861365]],\n",
      "\n",
      "       [[813313.72553628, 684405.77520215, 709993.34861365],\n",
      "        [813376.04075529, 684470.28085503, 709949.12805352]],\n",
      "\n",
      "       [[813376.04075529, 684470.28085503, 709949.12805352],\n",
      "        [813438.08725409, 684535.42798825, 709905.47903324]],\n",
      "\n",
      "       [[813438.08725409, 684535.42798825, 709905.47903324],\n",
      "        [813499.70411961, 684601.50131359, 709862.61089166]],\n",
      "\n",
      "       [[813499.70411961, 684601.50131359, 709862.61089166],\n",
      "        [813560.48653766, 684668.93494096, 709820.68958435]],\n",
      "\n",
      "       [[813560.48653766, 684668.93494096, 709820.68958435],\n",
      "        [813620.68421761, 684737.25428786, 709779.37307861]],\n",
      "\n",
      "       [[813620.68421761, 684737.25428786, 709779.37307861],\n",
      "        [813679.84325392, 684807.0865736 , 709739.07841032]],\n",
      "\n",
      "       [[813679.84325392, 684807.0865736 , 709739.07841032],\n",
      "        [813737.6467016 , 684878.79913971, 709700.17780824]],\n",
      "\n",
      "       [[813737.6467016 , 684878.79913971, 709700.17780824],\n",
      "        [813794.53285019, 684951.74372769, 709662.231418  ]],\n",
      "\n",
      "       [[813794.53285019, 684951.74372769, 709662.231418  ],\n",
      "        [813849.32532345, 685027.3792766 , 709626.49560099]],\n",
      "\n",
      "       [[813849.32532345, 685027.3792766 , 709626.49560099],\n",
      "        [813902.16688126, 685105.20370926, 709592.69634526]],\n",
      "\n",
      "       [[813902.16688126, 685105.20370926, 709592.69634526],\n",
      "        [813953.60896942, 685184.59482665, 709560.28417944]],\n",
      "\n",
      "       [[813953.60896942, 685184.59482665, 709560.28417944],\n",
      "        [814000.79960728, 685267.97120426, 709531.62369525]],\n",
      "\n",
      "       [[814000.79960728, 685267.97120426, 709531.62369525],\n",
      "        [814045.941184  , 685352.92323757, 709504.56189459]],\n",
      "\n",
      "       [[814045.941184  , 685352.92323757, 709504.56189459],\n",
      "        [814088.18811048, 685440.10115475, 709479.75850856]],\n",
      "\n",
      "       [[814088.18811048, 685440.10115475, 709479.75850856],\n",
      "        [814126.43558364, 685529.80678086, 709457.78322154]],\n",
      "\n",
      "       [[814126.43558364, 685529.80678086, 709457.78322154],\n",
      "        [814162.98788041, 685620.50654191, 709436.97071322]],\n",
      "\n",
      "       [[814162.98788041, 685620.50654191, 709436.97071322],\n",
      "        [814196.21846908, 685712.96726747, 709418.34969806]],\n",
      "\n",
      "       [[814196.21846908, 685712.96726747, 709418.34969806],\n",
      "        [814228.05902836, 685806.06946425, 709400.58565376]],\n",
      "\n",
      "       [[814228.05902836, 685806.06946425, 709400.58565376],\n",
      "        [814258.72613976, 685899.71318413, 709383.54505506]],\n",
      "\n",
      "       [[814258.72613976, 685899.71318413, 709383.54505506],\n",
      "        [814288.7152664 , 685993.63008145, 709366.80612108]],\n",
      "\n",
      "       [[814288.7152664 , 685993.63008145, 709366.80612108],\n",
      "        [814318.86636294, 686087.46437548, 709349.90359141]],\n",
      "\n",
      "       [[814318.86636294, 686087.46437548, 709349.90359141],\n",
      "        [814349.75205126, 686180.95073304, 709332.40001439]],\n",
      "\n",
      "       [[814349.75205126, 686180.95073304, 709332.40001439],\n",
      "        [814382.18399254, 686273.70486527, 709313.88965569]],\n",
      "\n",
      "       [[814382.18399254, 686273.70486527, 709313.88965569],\n",
      "        [814415.7394842 , 686365.92118324, 709294.68137615]],\n",
      "\n",
      "       [[814415.7394842 , 686365.92118324, 709294.68137615],\n",
      "        [814452.42077771, 686456.58741622, 709273.84590391]],\n",
      "\n",
      "       [[814452.42077771, 686456.58741622, 709273.84590391],\n",
      "        [814491.24745012, 686546.1392943 , 709252.21628694]],\n",
      "\n",
      "       [[814491.24745012, 686546.1392943 , 709252.21628694],\n",
      "        [814532.08738142, 686634.6362811 , 709229.88097529]],\n",
      "\n",
      "       [[814532.08738142, 686634.6362811 , 709229.88097529],\n",
      "        [814576.40970339, 686721.22475537, 709206.68684027]],\n",
      "\n",
      "       [[814576.40970339, 686721.22475537, 709206.68684027],\n",
      "        [814622.85987901, 686806.52064466, 709182.95134934]],\n",
      "\n",
      "       [[814622.85987901, 686806.52064466, 709182.95134934],\n",
      "        [814671.01988374, 686890.6974805 , 709158.59990289]],\n",
      "\n",
      "       [[814671.01988374, 686890.6974805 , 709158.59990289],\n",
      "        [814721.03278223, 686973.46423587, 709133.13671005]],\n",
      "\n",
      "       [[814721.03278223, 686973.46423587, 709133.13671005],\n",
      "        [814771.84714207, 687055.08793647, 709105.67700519]],\n",
      "\n",
      "       [[814771.84714207, 687055.08793647, 709105.67700519],\n",
      "        [814822.58452339, 687136.12551271, 709076.42674375]],\n",
      "\n",
      "       [[814822.58452339, 687136.12551271, 709076.42674375],\n",
      "        [814872.88148328, 687216.66034789, 709045.0522932 ]],\n",
      "\n",
      "       [[814872.88148328, 687216.66034789, 709045.0522932 ],\n",
      "        [814920.88899682, 687297.13579841, 709010.15674672]],\n",
      "\n",
      "       [[814920.88899682, 687297.13579841, 709010.15674672],\n",
      "        [814967.00049245, 687377.89013495, 708973.4724016 ]],\n",
      "\n",
      "       [[814967.00049245, 687377.89013495, 708973.4724016 ],\n",
      "        [815010.96647758, 687458.99574046, 708934.8864857 ]],\n",
      "\n",
      "       [[815010.96647758, 687458.99574046, 708934.8864857 ],\n",
      "        [815050.62674391, 687541.0877399 , 708893.82981908]],\n",
      "\n",
      "       [[815050.62674391, 687541.0877399 , 708893.82981908],\n",
      "        [815088.23697739, 687623.67047573, 708851.88650585]],\n",
      "\n",
      "       [[815088.23697739, 687623.67047573, 708851.88650585],\n",
      "        [815122.7221037 , 687707.00884114, 708808.69515354]],\n",
      "\n",
      "       [[815122.7221037 , 687707.00884114, 708808.69515354],\n",
      "        [815154.11313813, 687791.04080183, 708764.54188757]],\n",
      "\n",
      "       [[815154.11313813, 687791.04080183, 708764.54188757],\n",
      "        [815184.07171466, 687875.37893648, 708719.94943722]],\n",
      "\n",
      "       [[815184.07171466, 687875.37893648, 708719.94943722],\n",
      "        [815211.52903312, 687960.18040273, 708674.61945834]],\n",
      "\n",
      "       [[815211.52903312, 687960.18040273, 708674.61945834],\n",
      "        [815238.32897355, 688045.0382122 , 708629.00752961]],\n",
      "\n",
      "       [[815238.32897355, 688045.0382122 , 708629.00752961],\n",
      "        [815264.53218126, 688129.94716703, 708583.13966183]],\n",
      "\n",
      "       [[815264.53218126, 688129.94716703, 708583.13966183],\n",
      "        [815291.12650806, 688214.5838941 , 708536.99482501]],\n",
      "\n",
      "       [[815291.12650806, 688214.5838941 , 708536.99482501],\n",
      "        [815318.42641918, 688298.95647636, 708490.78722736]],\n",
      "\n",
      "       [[815318.42641918, 688298.95647636, 708490.78722736],\n",
      "        [815346.81535017, 688382.93480885, 708444.50863329]],\n",
      "\n",
      "       [[815346.81535017, 688382.93480885, 708444.50863329],\n",
      "        [815377.36423098, 688466.14495143, 708398.22658481]],\n",
      "\n",
      "       [[815377.36423098, 688466.14495143, 708398.22658481],\n",
      "        [815409.16462182, 688548.89805321, 708351.9764831 ]],\n",
      "\n",
      "       [[815409.16462182, 688548.89805321, 708351.9764831 ],\n",
      "        [815442.48464678, 688631.09094357, 708305.78011192]],\n",
      "\n",
      "       [[815442.48464678, 688631.09094357, 708305.78011192],\n",
      "        [815477.32015486, 688712.79982779, 708259.84690106]],\n",
      "\n",
      "       [[815477.32015486, 688712.79982779, 708259.84690106],\n",
      "        [815512.52862874, 688794.55310375, 708214.2778168 ]],\n",
      "\n",
      "       [[815512.52862874, 688794.55310375, 708214.2778168 ],\n",
      "        [815548.01793601, 688876.43914304, 708169.16478499]],\n",
      "\n",
      "       [[815548.01793601, 688876.43914304, 708169.16478499],\n",
      "        [815582.70984149, 688959.5185161 , 708125.64513577]],\n",
      "\n",
      "       [[815582.70984149, 688959.5185161 , 708125.64513577],\n",
      "        [815616.42694882, 689043.69091906, 708083.53358193]],\n",
      "\n",
      "       [[815616.42694882, 689043.69091906, 708083.53358193],\n",
      "        [815648.90184719, 689129.22716649, 708043.17356023]],\n",
      "\n",
      "       [[815648.90184719, 689129.22716649, 708043.17356023],\n",
      "        [815678.34006143, 689217.67155026, 708007.01983171]],\n",
      "\n",
      "       [[815678.34006143, 689217.67155026, 708007.01983171],\n",
      "        [815705.79961452, 689307.75504012, 707973.64284748]],\n",
      "\n",
      "       [[815705.79961452, 689307.75504012, 707973.64284748],\n",
      "        [815730.42061036, 689400.11544471, 707944.25982129]],\n",
      "\n",
      "       [[815730.42061036, 689400.11544471, 707944.25982129],\n",
      "        [815750.50348414, 689495.24930881, 707921.19246528]],\n",
      "\n",
      "       [[815750.50348414, 689495.24930881, 707921.19246528],\n",
      "        [815767.81630685, 689591.69890068, 707901.85887504]],\n",
      "\n",
      "       [[815767.81630685, 689591.69890068, 707901.85887504],\n",
      "        [815780.64722678, 689689.96379133, 707888.46563945]],\n",
      "\n",
      "       [[815780.64722678, 689689.96379133, 707888.46563945],\n",
      "        [815788.23612801, 689789.31775129, 707881.5000412 ]],\n",
      "\n",
      "       [[815788.23612801, 689789.31775129, 707881.5000412 ],\n",
      "        [815792.45790446, 689889.07649743, 707878.49412354]],\n",
      "\n",
      "       [[815792.45790446, 689889.07649743, 707878.49412354],\n",
      "        [815791.03691856, 689989.01055356, 707881.83556403]],\n",
      "\n",
      "       [[815791.03691856, 689989.01055356, 707881.83556403],\n",
      "        [815784.42084453, 690088.28686657, 707890.62413609]],\n",
      "\n",
      "       [[815784.42084453, 690088.28686657, 707890.62413609],\n",
      "        [815774.33155754, 690186.92546648, 707903.00236673]],\n",
      "\n",
      "       [[815774.33155754, 690186.92546648, 707903.00236673],\n",
      "        [815758.83980155, 690284.0947618 , 707920.83866519]],\n",
      "\n",
      "       [[815758.83980155, 690284.0947618 , 707920.83866519],\n",
      "        [815739.47264323, 690379.68105861, 707942.59679962]],\n",
      "\n",
      "       [[815739.47264323, 690379.68105861, 707942.59679962],\n",
      "        [815717.70241664, 690474.20198514, 707966.8149454 ]],\n",
      "\n",
      "       [[815717.70241664, 690474.20198514, 707966.8149454 ],\n",
      "        [815692.58733532, 690566.93529859, 707994.55958934]],\n",
      "\n",
      "       [[815692.58733532, 690566.93529859, 707994.55958934],\n",
      "        [815666.0515239 , 690658.74858585, 708023.93223881]],\n",
      "\n",
      "       [[815666.0515239 , 690658.74858585, 708023.93223881],\n",
      "        [815638.6003516 , 690749.9657419 , 708054.35874145]],\n",
      "\n",
      "       [[815638.6003516 , 690749.9657419 , 708054.35874145],\n",
      "        [815610.33025943, 690840.57326965, 708085.84012965]],\n",
      "\n",
      "       [[815610.33025943, 690840.57326965, 708085.84012965],\n",
      "        [815582.09272125, 690931.2292118 , 708117.21084103]],\n",
      "\n",
      "       [[815582.09272125, 690931.2292118 , 708117.21084103],\n",
      "        [815553.89689854, 691021.94719335, 708148.4397284 ]],\n",
      "\n",
      "       [[815553.89689854, 691021.94719335, 708148.4397284 ],\n",
      "        [815526.01340806, 691113.12837603, 708178.57543982]],\n",
      "\n",
      "       [[815526.01340806, 691113.12837603, 708178.57543982],\n",
      "        [815498.22866697, 691204.53847172, 708208.09643136]],\n",
      "\n",
      "       [[815498.22866697, 691204.53847172, 708208.09643136],\n",
      "        [815470.57616133, 691296.53523527, 708235.88013932]],\n",
      "\n",
      "       [[815470.57616133, 691296.53523527, 708235.88013932],\n",
      "        [815442.74433302, 691388.84726573, 708262.37915203]],\n",
      "\n",
      "       [[815442.74433302, 691388.84726573, 708262.37915203],\n",
      "        [815414.74337599, 691481.4566411 , 708287.66650062]],\n",
      "\n",
      "       [[815414.74337599, 691481.4566411 , 708287.66650062],\n",
      "        [815386.01620791, 691574.38760931, 708310.85189662]],\n",
      "\n",
      "       [[815386.01620791, 691574.38760931, 708310.85189662],\n",
      "        [815356.98416236, 691667.39838414, 708333.3329449 ]],\n",
      "\n",
      "       [[815356.98416236, 691667.39838414, 708333.3329449 ],\n",
      "        [815326.81834039, 691760.51466736, 708353.81173843]],\n",
      "\n",
      "       [[815326.81834039, 691760.51466736, 708353.81173843],\n",
      "        [815296.00014359, 691853.5664296 , 708373.56291026]],\n",
      "\n",
      "       [[815296.00014359, 691853.5664296 , 708373.56291026],\n",
      "        [815264.16208827, 691946.5173261 , 708392.17659   ]],\n",
      "\n",
      "       [[815264.16208827, 691946.5173261 , 708392.17659   ],\n",
      "        [815230.92335134, 692039.13851334, 708409.9242226 ]],\n",
      "\n",
      "       [[815230.92335134, 692039.13851334, 708409.9242226 ],\n",
      "        [815196.92803586, 692131.58160805, 708427.20405959]],\n",
      "\n",
      "       [[815196.92803586, 692131.58160805, 708427.20405959],\n",
      "        [815160.35046052, 692223.14261725, 708443.87772839]],\n",
      "\n",
      "       [[815160.35046052, 692223.14261725, 708443.87772839],\n",
      "        [815122.72880891, 692314.26816507, 708460.5553984 ]],\n",
      "\n",
      "       [[815122.72880891, 692314.26816507, 708460.5553984 ],\n",
      "        [815082.48089932, 692404.24687172, 708477.405862  ]],\n",
      "\n",
      "       [[815082.48089932, 692404.24687172, 708477.405862  ],\n",
      "        [815039.83975652, 692492.9294366 , 708495.0788249 ]],\n",
      "\n",
      "       [[815039.83975652, 692492.9294366 , 708495.0788249 ],\n",
      "        [814995.40135335, 692580.58512406, 708513.50183108]],\n",
      "\n",
      "       [[814995.40135335, 692580.58512406, 708513.50183108],\n",
      "        [814947.82471075, 692666.09419226, 708534.10916799]],\n",
      "\n",
      "       [[814947.82471075, 692666.09419226, 708534.10916799],\n",
      "        [814898.62021584, 692750.05036605, 708557.03547297]],\n",
      "\n",
      "       [[814898.62021584, 692750.05036605, 708557.03547297],\n",
      "        [814867.87968257, 692801.3111027 , 708571.7878465 ]],\n",
      "\n",
      "       [[814867.87968257, 692801.3111027 , 708571.7878465 ],\n",
      "        [814864.42286681, 692824.23119258, 708571.96696635]],\n",
      "\n",
      "       [[814864.42286681, 692824.23119258, 708571.96696635],\n",
      "        [814849.50993985, 692923.10994405, 708572.73970094]],\n",
      "\n",
      "       [[814849.50993985, 692923.10994405, 708572.73970094],\n",
      "        [814834.51572405, 693021.97663105, 708573.47208774]],\n",
      "\n",
      "       [[814834.51572405, 693021.97663105, 708573.47208774],\n",
      "        [814819.3730931 , 693120.82129107, 708574.13080852]]]), array([[[813251.10377593, 684342.3216579 , 710038.64941775],\n",
      "        [813313.72553628, 684405.77520215, 709993.34861365]],\n",
      "\n",
      "       [[813313.72553628, 684405.77520215, 709993.34861365],\n",
      "        [813376.04075529, 684470.28085503, 709949.12805352]],\n",
      "\n",
      "       [[813376.04075529, 684470.28085503, 709949.12805352],\n",
      "        [813438.08725409, 684535.42798825, 709905.47903324]],\n",
      "\n",
      "       [[813438.08725409, 684535.42798825, 709905.47903324],\n",
      "        [813499.70411961, 684601.50131359, 709862.61089166]],\n",
      "\n",
      "       [[813499.70411961, 684601.50131359, 709862.61089166],\n",
      "        [813560.48653766, 684668.93494096, 709820.68958435]],\n",
      "\n",
      "       [[813560.48653766, 684668.93494096, 709820.68958435],\n",
      "        [813620.68421761, 684737.25428786, 709779.37307861]],\n",
      "\n",
      "       [[813620.68421761, 684737.25428786, 709779.37307861],\n",
      "        [813679.84325392, 684807.0865736 , 709739.07841032]],\n",
      "\n",
      "       [[813679.84325392, 684807.0865736 , 709739.07841032],\n",
      "        [813737.6467016 , 684878.79913971, 709700.17780824]],\n",
      "\n",
      "       [[813737.6467016 , 684878.79913971, 709700.17780824],\n",
      "        [813794.53285019, 684951.74372769, 709662.231418  ]],\n",
      "\n",
      "       [[813794.53285019, 684951.74372769, 709662.231418  ],\n",
      "        [813849.32532345, 685027.3792766 , 709626.49560099]],\n",
      "\n",
      "       [[813849.32532345, 685027.3792766 , 709626.49560099],\n",
      "        [813902.16688126, 685105.20370926, 709592.69634526]],\n",
      "\n",
      "       [[813902.16688126, 685105.20370926, 709592.69634526],\n",
      "        [813953.60896942, 685184.59482665, 709560.28417944]],\n",
      "\n",
      "       [[813953.60896942, 685184.59482665, 709560.28417944],\n",
      "        [814000.79960728, 685267.97120426, 709531.62369525]],\n",
      "\n",
      "       [[814000.79960728, 685267.97120426, 709531.62369525],\n",
      "        [814045.941184  , 685352.92323757, 709504.56189459]],\n",
      "\n",
      "       [[814045.941184  , 685352.92323757, 709504.56189459],\n",
      "        [814088.18811048, 685440.10115475, 709479.75850856]],\n",
      "\n",
      "       [[814088.18811048, 685440.10115475, 709479.75850856],\n",
      "        [814126.43558364, 685529.80678086, 709457.78322154]],\n",
      "\n",
      "       [[814126.43558364, 685529.80678086, 709457.78322154],\n",
      "        [814162.98788041, 685620.50654191, 709436.97071322]],\n",
      "\n",
      "       [[814162.98788041, 685620.50654191, 709436.97071322],\n",
      "        [814196.21846908, 685712.96726747, 709418.34969806]],\n",
      "\n",
      "       [[814196.21846908, 685712.96726747, 709418.34969806],\n",
      "        [814228.05902836, 685806.06946425, 709400.58565376]],\n",
      "\n",
      "       [[814228.05902836, 685806.06946425, 709400.58565376],\n",
      "        [814258.72613976, 685899.71318413, 709383.54505506]],\n",
      "\n",
      "       [[814258.72613976, 685899.71318413, 709383.54505506],\n",
      "        [814288.7152664 , 685993.63008145, 709366.80612108]],\n",
      "\n",
      "       [[814288.7152664 , 685993.63008145, 709366.80612108],\n",
      "        [814318.86636294, 686087.46437548, 709349.90359141]],\n",
      "\n",
      "       [[814318.86636294, 686087.46437548, 709349.90359141],\n",
      "        [814349.75205126, 686180.95073304, 709332.40001439]],\n",
      "\n",
      "       [[814349.75205126, 686180.95073304, 709332.40001439],\n",
      "        [814382.18399254, 686273.70486527, 709313.88965569]],\n",
      "\n",
      "       [[814382.18399254, 686273.70486527, 709313.88965569],\n",
      "        [814415.7394842 , 686365.92118324, 709294.68137615]],\n",
      "\n",
      "       [[814415.7394842 , 686365.92118324, 709294.68137615],\n",
      "        [814452.42077771, 686456.58741622, 709273.84590391]],\n",
      "\n",
      "       [[814452.42077771, 686456.58741622, 709273.84590391],\n",
      "        [814491.24745012, 686546.1392943 , 709252.21628694]],\n",
      "\n",
      "       [[814491.24745012, 686546.1392943 , 709252.21628694],\n",
      "        [814532.08738142, 686634.6362811 , 709229.88097529]],\n",
      "\n",
      "       [[814532.08738142, 686634.6362811 , 709229.88097529],\n",
      "        [814576.40970339, 686721.22475537, 709206.68684027]],\n",
      "\n",
      "       [[814576.40970339, 686721.22475537, 709206.68684027],\n",
      "        [814622.85987901, 686806.52064466, 709182.95134934]],\n",
      "\n",
      "       [[814622.85987901, 686806.52064466, 709182.95134934],\n",
      "        [814671.01988374, 686890.6974805 , 709158.59990289]],\n",
      "\n",
      "       [[814671.01988374, 686890.6974805 , 709158.59990289],\n",
      "        [814721.03278223, 686973.46423587, 709133.13671005]],\n",
      "\n",
      "       [[814721.03278223, 686973.46423587, 709133.13671005],\n",
      "        [814771.84714207, 687055.08793647, 709105.67700519]],\n",
      "\n",
      "       [[814771.84714207, 687055.08793647, 709105.67700519],\n",
      "        [814822.58452339, 687136.12551271, 709076.42674375]],\n",
      "\n",
      "       [[814822.58452339, 687136.12551271, 709076.42674375],\n",
      "        [814872.88148328, 687216.66034789, 709045.0522932 ]],\n",
      "\n",
      "       [[814872.88148328, 687216.66034789, 709045.0522932 ],\n",
      "        [814920.88899682, 687297.13579841, 709010.15674672]],\n",
      "\n",
      "       [[814920.88899682, 687297.13579841, 709010.15674672],\n",
      "        [814967.00049245, 687377.89013495, 708973.4724016 ]],\n",
      "\n",
      "       [[814967.00049245, 687377.89013495, 708973.4724016 ],\n",
      "        [815010.96647758, 687458.99574046, 708934.8864857 ]],\n",
      "\n",
      "       [[815010.96647758, 687458.99574046, 708934.8864857 ],\n",
      "        [815050.62674391, 687541.0877399 , 708893.82981908]],\n",
      "\n",
      "       [[815050.62674391, 687541.0877399 , 708893.82981908],\n",
      "        [815088.23697739, 687623.67047573, 708851.88650585]],\n",
      "\n",
      "       [[815088.23697739, 687623.67047573, 708851.88650585],\n",
      "        [815122.7221037 , 687707.00884114, 708808.69515354]],\n",
      "\n",
      "       [[815122.7221037 , 687707.00884114, 708808.69515354],\n",
      "        [815154.11313813, 687791.04080183, 708764.54188757]],\n",
      "\n",
      "       [[815154.11313813, 687791.04080183, 708764.54188757],\n",
      "        [815184.07171466, 687875.37893648, 708719.94943722]],\n",
      "\n",
      "       [[815184.07171466, 687875.37893648, 708719.94943722],\n",
      "        [815211.52903312, 687960.18040273, 708674.61945834]],\n",
      "\n",
      "       [[815211.52903312, 687960.18040273, 708674.61945834],\n",
      "        [815238.32897355, 688045.0382122 , 708629.00752961]],\n",
      "\n",
      "       [[815238.32897355, 688045.0382122 , 708629.00752961],\n",
      "        [815264.53218126, 688129.94716703, 708583.13966183]],\n",
      "\n",
      "       [[815264.53218126, 688129.94716703, 708583.13966183],\n",
      "        [815291.12650806, 688214.5838941 , 708536.99482501]],\n",
      "\n",
      "       [[815291.12650806, 688214.5838941 , 708536.99482501],\n",
      "        [815318.42641918, 688298.95647636, 708490.78722736]],\n",
      "\n",
      "       [[815318.42641918, 688298.95647636, 708490.78722736],\n",
      "        [815346.81535017, 688382.93480885, 708444.50863329]],\n",
      "\n",
      "       [[815346.81535017, 688382.93480885, 708444.50863329],\n",
      "        [815377.36423098, 688466.14495143, 708398.22658481]],\n",
      "\n",
      "       [[815377.36423098, 688466.14495143, 708398.22658481],\n",
      "        [815409.16462182, 688548.89805321, 708351.9764831 ]],\n",
      "\n",
      "       [[815409.16462182, 688548.89805321, 708351.9764831 ],\n",
      "        [815442.48464678, 688631.09094357, 708305.78011192]],\n",
      "\n",
      "       [[815442.48464678, 688631.09094357, 708305.78011192],\n",
      "        [815477.32015486, 688712.79982779, 708259.84690106]],\n",
      "\n",
      "       [[815477.32015486, 688712.79982779, 708259.84690106],\n",
      "        [815512.52862874, 688794.55310375, 708214.2778168 ]],\n",
      "\n",
      "       [[815512.52862874, 688794.55310375, 708214.2778168 ],\n",
      "        [815548.01793601, 688876.43914304, 708169.16478499]],\n",
      "\n",
      "       [[815548.01793601, 688876.43914304, 708169.16478499],\n",
      "        [815582.70984149, 688959.5185161 , 708125.64513577]],\n",
      "\n",
      "       [[815582.70984149, 688959.5185161 , 708125.64513577],\n",
      "        [815616.42694882, 689043.69091906, 708083.53358193]],\n",
      "\n",
      "       [[815616.42694882, 689043.69091906, 708083.53358193],\n",
      "        [815648.90184719, 689129.22716649, 708043.17356023]],\n",
      "\n",
      "       [[815648.90184719, 689129.22716649, 708043.17356023],\n",
      "        [815678.34006143, 689217.67155026, 708007.01983171]],\n",
      "\n",
      "       [[815678.34006143, 689217.67155026, 708007.01983171],\n",
      "        [815705.79961452, 689307.75504012, 707973.64284748]],\n",
      "\n",
      "       [[815705.79961452, 689307.75504012, 707973.64284748],\n",
      "        [815730.42061036, 689400.11544471, 707944.25982129]],\n",
      "\n",
      "       [[815730.42061036, 689400.11544471, 707944.25982129],\n",
      "        [815750.50348414, 689495.24930881, 707921.19246528]],\n",
      "\n",
      "       [[815750.50348414, 689495.24930881, 707921.19246528],\n",
      "        [815767.81630685, 689591.69890068, 707901.85887504]],\n",
      "\n",
      "       [[815767.81630685, 689591.69890068, 707901.85887504],\n",
      "        [815780.64722678, 689689.96379133, 707888.46563945]],\n",
      "\n",
      "       [[815780.64722678, 689689.96379133, 707888.46563945],\n",
      "        [815788.23612801, 689789.31775129, 707881.5000412 ]],\n",
      "\n",
      "       [[815788.23612801, 689789.31775129, 707881.5000412 ],\n",
      "        [815792.45790446, 689889.07649743, 707878.49412354]],\n",
      "\n",
      "       [[815792.45790446, 689889.07649743, 707878.49412354],\n",
      "        [815791.03691856, 689989.01055356, 707881.83556403]],\n",
      "\n",
      "       [[815791.03691856, 689989.01055356, 707881.83556403],\n",
      "        [815784.42084453, 690088.28686657, 707890.62413609]],\n",
      "\n",
      "       [[815784.42084453, 690088.28686657, 707890.62413609],\n",
      "        [815774.33155754, 690186.92546648, 707903.00236673]],\n",
      "\n",
      "       [[815774.33155754, 690186.92546648, 707903.00236673],\n",
      "        [815758.83980155, 690284.0947618 , 707920.83866519]],\n",
      "\n",
      "       [[815758.83980155, 690284.0947618 , 707920.83866519],\n",
      "        [815739.47264323, 690379.68105861, 707942.59679962]],\n",
      "\n",
      "       [[815739.47264323, 690379.68105861, 707942.59679962],\n",
      "        [815717.70241664, 690474.20198514, 707966.8149454 ]],\n",
      "\n",
      "       [[815717.70241664, 690474.20198514, 707966.8149454 ],\n",
      "        [815692.58733532, 690566.93529859, 707994.55958934]],\n",
      "\n",
      "       [[815692.58733532, 690566.93529859, 707994.55958934],\n",
      "        [815666.0515239 , 690658.74858585, 708023.93223881]],\n",
      "\n",
      "       [[815666.0515239 , 690658.74858585, 708023.93223881],\n",
      "        [815638.6003516 , 690749.9657419 , 708054.35874145]],\n",
      "\n",
      "       [[815638.6003516 , 690749.9657419 , 708054.35874145],\n",
      "        [815610.33025943, 690840.57326965, 708085.84012965]],\n",
      "\n",
      "       [[815610.33025943, 690840.57326965, 708085.84012965],\n",
      "        [815582.09272125, 690931.2292118 , 708117.21084103]],\n",
      "\n",
      "       [[815582.09272125, 690931.2292118 , 708117.21084103],\n",
      "        [815553.89689854, 691021.94719335, 708148.4397284 ]],\n",
      "\n",
      "       [[815553.89689854, 691021.94719335, 708148.4397284 ],\n",
      "        [815526.01340806, 691113.12837603, 708178.57543982]],\n",
      "\n",
      "       [[815526.01340806, 691113.12837603, 708178.57543982],\n",
      "        [815498.22866697, 691204.53847172, 708208.09643136]],\n",
      "\n",
      "       [[815498.22866697, 691204.53847172, 708208.09643136],\n",
      "        [815470.57616133, 691296.53523527, 708235.88013932]],\n",
      "\n",
      "       [[815470.57616133, 691296.53523527, 708235.88013932],\n",
      "        [815442.74433302, 691388.84726573, 708262.37915203]],\n",
      "\n",
      "       [[815442.74433302, 691388.84726573, 708262.37915203],\n",
      "        [815414.74337599, 691481.4566411 , 708287.66650062]],\n",
      "\n",
      "       [[815414.74337599, 691481.4566411 , 708287.66650062],\n",
      "        [815386.01620791, 691574.38760931, 708310.85189662]],\n",
      "\n",
      "       [[815386.01620791, 691574.38760931, 708310.85189662],\n",
      "        [815356.98416236, 691667.39838414, 708333.3329449 ]],\n",
      "\n",
      "       [[815356.98416236, 691667.39838414, 708333.3329449 ],\n",
      "        [815326.81834039, 691760.51466736, 708353.81173843]],\n",
      "\n",
      "       [[815326.81834039, 691760.51466736, 708353.81173843],\n",
      "        [815296.00014359, 691853.5664296 , 708373.56291026]],\n",
      "\n",
      "       [[815296.00014359, 691853.5664296 , 708373.56291026],\n",
      "        [815264.16208827, 691946.5173261 , 708392.17659   ]],\n",
      "\n",
      "       [[815264.16208827, 691946.5173261 , 708392.17659   ],\n",
      "        [815230.92335134, 692039.13851334, 708409.9242226 ]],\n",
      "\n",
      "       [[815230.92335134, 692039.13851334, 708409.9242226 ],\n",
      "        [815196.92803586, 692131.58160805, 708427.20405959]],\n",
      "\n",
      "       [[815196.92803586, 692131.58160805, 708427.20405959],\n",
      "        [815160.35046052, 692223.14261725, 708443.87772839]],\n",
      "\n",
      "       [[815160.35046052, 692223.14261725, 708443.87772839],\n",
      "        [815122.72880891, 692314.26816507, 708460.5553984 ]],\n",
      "\n",
      "       [[815122.72880891, 692314.26816507, 708460.5553984 ],\n",
      "        [815082.48089932, 692404.24687172, 708477.405862  ]],\n",
      "\n",
      "       [[815082.48089932, 692404.24687172, 708477.405862  ],\n",
      "        [815039.83975652, 692492.9294366 , 708495.0788249 ]],\n",
      "\n",
      "       [[815039.83975652, 692492.9294366 , 708495.0788249 ],\n",
      "        [814995.40135335, 692580.58512406, 708513.50183108]],\n",
      "\n",
      "       [[814995.40135335, 692580.58512406, 708513.50183108],\n",
      "        [814947.82471075, 692666.09419226, 708534.10916799]],\n",
      "\n",
      "       [[814947.82471075, 692666.09419226, 708534.10916799],\n",
      "        [814898.62021584, 692750.05036605, 708557.03547297]],\n",
      "\n",
      "       [[814898.62021584, 692750.05036605, 708557.03547297],\n",
      "        [814867.87968257, 692801.3111027 , 708571.7878465 ]],\n",
      "\n",
      "       [[814867.87968257, 692801.3111027 , 708571.7878465 ],\n",
      "        [814838.52367014, 692711.19315446, 708603.6779694 ]],\n",
      "\n",
      "       [[814838.52367014, 692711.19315446, 708603.6779694 ],\n",
      "        [814820.28994158, 692618.3136703 , 708635.88129587]],\n",
      "\n",
      "       [[814820.28994158, 692618.3136703 , 708635.88129587],\n",
      "        [814813.79605576, 692524.01889312, 708668.20773419]]])])\n"
     ]
    },
    {
     "name": "stdout",
     "output_type": "stream",
     "text": [
      "base_final_widths = [191.41731541 239.94054635]\n",
      "overall_ais_width = 216.09828726123482\n",
      "ais_width = 215.67893088089784\n",
      "Adding the following branches as true axons: [8 5 7]\n",
      "curr_soma_angle = 161.07\n",
      "max_axon_angle = 166.26432334098283\n",
      "Changing to a better axon candidate\n",
      "\n",
      "\n",
      " --- Working on limb 2, candidate # 1\n",
      "0 out of 1 branches are axons\n",
      "Axon percentage = 0.0\n",
      "Not adding candidate no axon branches detected \n",
      "\n",
      "\n",
      " --- Working on limb 2, candidate # 2\n",
      "0 out of 1 branches are axons\n",
      "Axon percentage = 0.0\n",
      "Not adding candidate no axon branches detected \n",
      "\n",
      "\n",
      " --- Working on limb 2, candidate # 3\n",
      "0 out of 1 branches are axons\n",
      "Axon percentage = 0.0\n",
      "Not adding candidate no axon branches detected \n",
      "\n",
      "\n",
      " --- Working on limb 3, candidate # 0\n",
      "0 out of 1 branches are axons\n",
      "Axon percentage = 0.0\n",
      "Not adding candidate no axon branches detected \n",
      "\n",
      "\n",
      " --- Working on limb 3, candidate # 1\n",
      "0 out of 3 branches are axons\n",
      "Axon percentage = 0.0\n",
      "Not adding candidate no axon branches detected \n",
      "\n",
      "\n",
      " --- Working on limb 4, candidate # 0\n",
      "1 out of 3 branches are axons\n",
      "Axon percentage = 0.3333333333333333\n",
      "curr_axon_angle_threshold = 120\n",
      "candidate_nodes = [0 1 2 4]\n",
      "non_axon_branches_on_subgraph = [0 2 4]\n",
      "endnodes_to_test = []\n",
      "candidate_angles,restr_skels = (None, None)\n",
      "Not adding candidate because no angles (None) passed the threhold 120 \n",
      "\n",
      "\n",
      " --- Working on limb 4, candidate # 1\n",
      "0 out of 1 branches are axons\n",
      "Axon percentage = 0.0\n",
      "Not adding candidate no axon branches detected \n",
      "Using the best axon approach\n",
      "Using True\n",
      "Limb L2: Axon branches before dendritic path filter = [8 5 7]\n",
      "Limb L2: Axon branches AFTER dendritic path filter = [5 7 8]\n",
      "\n",
      "\n",
      "Part 4: final_true_axons = {'L2': array([5, 7, 8])}\n",
      "\n",
      "--- Working on filter 0:\n",
      "function = dendrite_on_axon_merges\n",
      "function __name__ = filter_away_dendrite_on_axon_merges\n",
      "function arguments = {'use_pre_existing_axon_labels': True}\n",
      "\n",
      "\n",
      "\n",
      "\n",
      "\n",
      " ---- Total time for applying filter: 0.288769006729126 -----\n"
     ]
    },
    {
     "name": "stderr",
     "output_type": "stream",
     "text": [
      "\r",
      "  0%|          | 0/1 [00:00<?, ?it/s]"
     ]
    },
    {
     "name": "stdout",
     "output_type": "stream",
     "text": [
      "Starting axon branch was not the limb starting node so generating border vertices and computing upstream branch\n",
      "upstream_node_to_axon_starting_branch = 6\n",
      "root_curr = [808017. 680400. 714189.]\n",
      "Time for preparing soma vertices and root: 0.00033783912658691406\n",
      "invalidation_d = 2000\n",
      "cc_vertex_thresh = 10\n"
     ]
    },
    {
     "data": {
      "application/vnd.jupyter.widget-view+json": {
       "model_id": "76ff9640cd9f4ed384eb11bd96f73d78",
       "version_major": 2,
       "version_minor": 0
      },
      "text/plain": [
       "  0%|          | 0/2660 [00:00<?, ?it/s]"
      ]
     },
     "metadata": {},
     "output_type": "display_data"
    },
    {
     "name": "stderr",
     "output_type": "stream",
     "text": [
      "100%|██████████| 1/1 [00:00<00:00,  9.23it/s]\n"
     ]
    },
    {
     "name": "stdout",
     "output_type": "stream",
     "text": [
      "meshparty_segment_size = 100\n",
      "Time for 1st pass MP skeletonization: 0.23013830184936523\n",
      "connecting at the root\n",
      "branches_touching_root = [4]\n",
      "combining close nodes\n",
      "combine_threshold = 1300\n",
      "length of Graph = 577\n",
      "After combining close endpoints max(kept_branches_idx) = 4, len(kept_branches_idx) = 5\n",
      "empty_indices % = 0.0\n",
      " conflict_indices % = 0.009287338893100834\n"
     ]
    },
    {
     "data": {
      "application/vnd.jupyter.widget-view+json": {
       "model_id": "0f6f367d4ea341ec93b54288d1523c01",
       "version_major": 2,
       "version_minor": 0
      },
      "text/plain": [
       "  0%|          | 0/2 [00:00<?, ?it/s]"
      ]
     },
     "metadata": {},
     "output_type": "display_data"
    },
    {
     "name": "stdout",
     "output_type": "stream",
     "text": [
      "AFTER face_lookup_resolved_test\n"
     ]
    },
    {
     "data": {
      "application/vnd.jupyter.widget-view+json": {
       "model_id": "d8ea2a2bee8f41c0a94febfc8e19aaa3",
       "version_major": 2,
       "version_minor": 0
      },
      "text/plain": [
       "  0%|          | 0/5 [00:00<?, ?it/s]"
      ]
     },
     "metadata": {},
     "output_type": "display_data"
    },
    {
     "name": "stdout",
     "output_type": "stream",
     "text": [
      "Decomposing first pass: 0.31367969512939453\n",
      "Only Using MeshParty Skeletonization and Mesh Correspondence\n",
      "Another print\n",
      "Divinding into MP and MAP pieces: 2.6941299438476562e-05\n",
      "Total time for MAP sublimb processing 2.86102294921875e-06\n",
      "---- Working on MP Decomposition #0 ----\n",
      "Using Quicker soma_to_piece_touching_vertices because no MAP and only one sublimb_mesh piece \n",
      "MP filtering soma verts: 4.887580871582031e-05\n",
      "Fixing Possible Soma Extension Branch for Sublimb 0\n",
      "Total time for mesh KDTree = 0.030194520950317383\n",
      "sbv[0].reshape(-1,3) = [[808017. 680400. 714189.]]\n",
      "closest_sk_pt_coord BEFORE = [808454.71273228 680723.33720715 713848.6050881 ]\n",
      "current_skeleton.shape = (177, 2, 3)\n",
      "node_for_stitch = 6: [808454.71273228 680723.33720715 713848.6050881 ]\n",
      "node_for_stitch AFTER = 6: [808454.71273228 680723.33720715 713848.6050881 ]\n",
      "possible_node_loc = [  0 113]\n",
      "possible_node_loc AFTER = [  0 113]\n",
      "curr_shortest_path = [6, 5.0, 4.0, 3.0, 2.0, 1.0, 0.0]\n",
      "Current stitch point was not a branch or endpoint, shortest_path_length to one = 599.9842904972135\n",
      "Changing the stitch point becasue the distance to end or branch node was 599.9842904972135\n",
      "New stitch point has degree 1\n",
      "change_status for create soma extending pieces = True\n",
      "closest_sk_pt_coord AFTER = [808193.23072178 680493.98563461 714337.17077931]\n",
      "skipping soma 0 because closest skeleton node was already end node\n",
      "endpoints_must_keep = {0: array([[808193.23072178, 680493.98563461, 714337.17077931]])}\n",
      "match_sk_branches = [4]\n",
      "The new branch info was none so skipping \n",
      "\n",
      "No soma extending branch was added for this sublimb even though it had a soma border (means they already existed)\n",
      "MP (because soma touching verts) soma extension add: 0.24721479415893555\n",
      "There were not both MAP and MP pieces so skipping the stitch resolving phase\n",
      "Time for decomp of Limb = 0.8070948123931885\n",
      "Number of matching vertices = 44\n",
      "Only one endpoint after filtering away the endpoints that are not on the skeleton\n",
      "Using Distance measure skeletal_distance\n",
      "endpoints_must_keep = [[808193.23072178 680493.98563461 714337.17077931]]\n",
      "Number of end_nodes BEFORE filtering = 4\n",
      "all_single_nodes_to_eliminate = [1]\n",
      "no small end nodes to get rid of so returning whole skeleton\n",
      "Removed 0 skeletal branches\n"
     ]
    },
    {
     "data": {
      "application/vnd.jupyter.widget-view+json": {
       "model_id": "e4697e69698245ef9cff8843285f7612",
       "version_major": 2,
       "version_minor": 0
      },
      "text/plain": [
       "  0%|          | 0/5 [00:00<?, ?it/s]"
      ]
     },
     "metadata": {},
     "output_type": "display_data"
    },
    {
     "name": "stdout",
     "output_type": "stream",
     "text": [
      "5275 5276\n",
      "For marked faces: None\n",
      "empty_indices % = 0.0\n",
      " conflict_indices % = 0.0\n"
     ]
    },
    {
     "data": {
      "application/vnd.jupyter.widget-view+json": {
       "model_id": "41fecba0544448ffbfd3074be4c7f60a",
       "version_major": 2,
       "version_minor": 0
      },
      "text/plain": [
       "0it [00:00, ?it/s]"
      ]
     },
     "metadata": {},
     "output_type": "display_data"
    },
    {
     "name": "stdout",
     "output_type": "stream",
     "text": [
      "AFTER face_lookup_resolved_test\n"
     ]
    },
    {
     "data": {
      "application/vnd.jupyter.widget-view+json": {
       "model_id": "831ea8b86599461aa1b84bcbc4d5a958",
       "version_major": 2,
       "version_minor": 0
      },
      "text/plain": [
       "  0%|          | 0/5 [00:00<?, ?it/s]"
      ]
     },
     "metadata": {},
     "output_type": "display_data"
    },
    {
     "name": "stdout",
     "output_type": "stream",
     "text": [
      "Limb Correspondence before stitching = 5\n",
      "Limb Correspondence AFTER stitching = 5\n",
      "Readjusting starting axon branch skeleton\n",
      "Fixing the axon starting branch endpoint to align with upstream branch\n",
      "Starting Branch 1 skeleton before fix: (177, 2, 3)\n",
      "Starting Branch 1 skeleton AFTER fix: (178, 2, 3)\n",
      "concept_network_dict = {0: [<networkx_utils.GraphOrderedEdges object at 0x7f3ec52eadd8>]}\n",
      "\n",
      "\n",
      "----Working on seperate_graph 0----\n",
      "\n",
      "\n",
      "---------Working on soma_idx = 0, soma_group_idx 0, endpt = [807948.77352941 678462.02058824 714195.40588235]---------\n",
      "Starting_edge inside branches_to_conept = [[807948.77352941 678462.02058824 714195.40588235]\n",
      " [808074.59873634 680570.51390791 714326.64458239]]\n",
      "At the start, starting_node (in terms of the skeleton, that shouldn't match the starting edge) = [6]\n",
      "printing out current edge:\n",
      "[[807948.77352941 678462.02058824 714195.40588235]\n",
      " [808074.59873634 680570.51390791 714326.64458239]]\n",
      "edge_endpoints_to_process was empty so exiting loop after 11 iterations\n",
      "starting_node in concept map (that should match the starting edge) = 5\n",
      "Total time for branches to concept conversion = 0.3833737373352051\n",
      "\n",
      "Done generating concept network \n",
      "\n",
      "\n"
     ]
    },
    {
     "data": {
      "application/vnd.jupyter.widget-view+json": {
       "model_id": "45d30df376b24ee299f7854f0ce09742",
       "version_major": 2,
       "version_minor": 0
      },
      "text/plain": [
       "  0%|          | 0/3 [00:00<?, ?it/s]"
      ]
     },
     "metadata": {},
     "output_type": "display_data"
    },
    {
     "data": {
      "application/vnd.jupyter.widget-view+json": {
       "model_id": "29392fdd629148d395f2e3c1ebd4e319",
       "version_major": 2,
       "version_minor": 0
      },
      "text/plain": [
       "  0%|          | 0/9 [00:00<?, ?it/s]"
      ]
     },
     "metadata": {},
     "output_type": "display_data"
    },
    {
     "data": {
      "application/vnd.jupyter.widget-view+json": {
       "model_id": "d238be72d6074e03ae1c0657bab2bab7",
       "version_major": 2,
       "version_minor": 0
      },
      "text/plain": [
       "  0%|          | 0/12 [00:00<?, ?it/s]"
      ]
     },
     "metadata": {},
     "output_type": "display_data"
    },
    {
     "data": {
      "application/vnd.jupyter.widget-view+json": {
       "model_id": "76bd83f1275f4517a76e017b021eff63",
       "version_major": 2,
       "version_minor": 0
      },
      "text/plain": [
       "  0%|          | 0/6 [00:00<?, ?it/s]"
      ]
     },
     "metadata": {},
     "output_type": "display_data"
    },
    {
     "data": {
      "application/vnd.jupyter.widget-view+json": {
       "model_id": "25da8837bd714869ad62d7c15b79b0cb",
       "version_major": 2,
       "version_minor": 0
      },
      "text/plain": [
       "  0%|          | 0/10 [00:00<?, ?it/s]"
      ]
     },
     "metadata": {},
     "output_type": "display_data"
    },
    {
     "data": {
      "application/vnd.jupyter.widget-view+json": {
       "model_id": "08da70a928e34e71a1e7c631fb64e143",
       "version_major": 2,
       "version_minor": 0
      },
      "text/plain": [
       "  0%|          | 0/15 [00:00<?, ?it/s]"
      ]
     },
     "metadata": {},
     "output_type": "display_data"
    },
    {
     "name": "stdout",
     "output_type": "stream",
     "text": [
      "Synapsse Results:\n",
      "Total Number of Synapses = 1914\n",
      "n_valid_syn_ids_presyn = 3\n",
      "n_errored_syn_ids_presyn = 212\n",
      "n_valid_syn_ids_postsyn = 1528\n",
      "n_errored_syn_ids_postsyn = 171\n",
      "Synapsse Results:\n",
      "Total Number of Synapses = 1914\n",
      "n_valid_syn_ids_presyn = 3\n",
      "n_errored_syn_ids_presyn = 212\n",
      "n_valid_syn_ids_postsyn = 1528\n",
      "n_errored_syn_ids_postsyn = 171\n"
     ]
    },
    {
     "data": {
      "application/vnd.jupyter.widget-view+json": {
       "model_id": "934e33046ccc409ea2f045a034a9e8e4",
       "version_major": 2,
       "version_minor": 0
      },
      "text/plain": [
       "  0%|          | 0/3 [00:00<?, ?it/s]"
      ]
     },
     "metadata": {},
     "output_type": "display_data"
    },
    {
     "data": {
      "application/vnd.jupyter.widget-view+json": {
       "model_id": "74880d1c7da342c88f25f7d91de4fb40",
       "version_major": 2,
       "version_minor": 0
      },
      "text/plain": [
       "  0%|          | 0/2 [00:00<?, ?it/s]"
      ]
     },
     "metadata": {},
     "output_type": "display_data"
    },
    {
     "name": "stdout",
     "output_type": "stream",
     "text": [
      "Synapsse Results:\n",
      "Total Number of Synapses = 1914\n",
      "n_valid_syn_ids_presyn = 3\n",
      "n_errored_syn_ids_presyn = 212\n",
      "n_valid_syn_ids_postsyn = 1528\n",
      "n_errored_syn_ids_postsyn = 171\n",
      "Synapsse Results:\n",
      "Total Number of Synapses = 1914\n",
      "n_valid_syn_ids_presyn = 3\n",
      "n_errored_syn_ids_presyn = 212\n",
      "n_valid_syn_ids_postsyn = 1528\n",
      "n_errored_syn_ids_postsyn = 171\n"
     ]
    },
    {
     "data": {
      "application/vnd.jupyter.widget-view+json": {
       "model_id": "df27ec7126824afb980ba0be245229ac",
       "version_major": 2,
       "version_minor": 0
      },
      "text/plain": [
       "  0%|          | 0/3 [00:00<?, ?it/s]"
      ]
     },
     "metadata": {},
     "output_type": "display_data"
    },
    {
     "data": {
      "application/vnd.jupyter.widget-view+json": {
       "model_id": "a595a6741a294e16a967c5f18e8f465e",
       "version_major": 2,
       "version_minor": 0
      },
      "text/plain": [
       "  0%|          | 0/2 [00:00<?, ?it/s]"
      ]
     },
     "metadata": {},
     "output_type": "display_data"
    },
    {
     "name": "stdout",
     "output_type": "stream",
     "text": [
      "\n",
      "\n",
      "len(branch_attr_keys) = 5\n",
      "Saving Neuorn in suppress_output mode...please wait\n",
      "Saved File at location: /mnt/dj-stor01/platinum/minnie65/02/decomposition/864691135393964789_0_25_full_axon\n",
      "Save time = 107.39911007881165\n",
      "\n",
      "\n",
      " ***------ Total time for 864691135393964789 = 198.27772545814514 ------ ***\n",
      "\n",
      "\n",
      "\n",
      "---- Working on Neuron 864691135589906955 ----\n",
      "Decompressing Neuron in minimal output mode...please wait\n",
      "Dont need spine recalculation\n",
      "Number of Neurons found = 1\n",
      "\n",
      "Part 1: Axon like branchese \n",
      "{'L0': array([ 1,  3,  9, 12, 17, 18, 19, 21, 23, 24, 26, 28, 32, 34, 37, 52, 53,\n",
      "       55, 57, 60, 63, 75, 76, 77, 78, 79, 80, 81, 82, 83, 84, 85, 86, 87,\n",
      "       88, 89, 90, 91, 92, 93]), 'L2': array([ 0,  7,  8,  9, 10]), 'L3': array([6]), 'L4': array([ 1, 11]), 'L8': array([ 0,  1,  2,  3,  4,  5,  6,  7,  8,  9, 10, 11, 12, 13, 14, 15, 16,\n",
      "       17, 18, 19, 20, 21, 22, 23, 24, 25, 26, 27, 28, 29, 30, 31, 32, 33,\n",
      "       34, 35, 36, 37, 38, 39, 40, 41, 42, 43, 44, 45])}\n",
      "Limb L0 soma angle: 11.07 \n",
      "Limb L1 soma angle: 111.59 \n",
      "Limb L2 soma angle: 134.19 \n",
      "Limb L3 soma angle: 92.15 \n",
      "Limb L4 soma angle: 84.16 \n",
      "Limb L5 soma angle: 101.65 \n",
      "Limb L6 soma angle: 113.28 \n",
      "Limb L7 soma angle: 109.81 \n",
      "Limb L8 soma angle: 147.03 \n",
      "\n",
      "Part 2: possible_axon_limbs = [1, 2, 3, 4, 5, 6, 7, 8]\n",
      "\n",
      "Phase 2: Working on Limb L1\n",
      "nodes_to_eliminate = []\n",
      "\n",
      "Phase 2: Working on Limb L2\n",
      "nodes_to_eliminate = [2]\n",
      "\n",
      "Phase 2: Working on Limb L3\n",
      "nodes_to_eliminate = [5]\n",
      "\n",
      "Phase 2: Working on Limb L4\n",
      "nodes_to_eliminate = []\n",
      "\n",
      "Phase 2: Working on Limb L5\n",
      "nodes_to_eliminate = []\n",
      "\n",
      "Phase 2: Working on Limb L6\n",
      "nodes_to_eliminate = [1]\n",
      "\n",
      "Phase 2: Working on Limb L7\n",
      "nodes_to_eliminate = []\n",
      "\n",
      "Phase 2: Working on Limb L8\n",
      "nodes_to_eliminate = []\n",
      "\n",
      "----Working on Limb L1-----\n",
      "No nodes were eliminated so don't need to add back any candidates\n",
      "\n",
      "----Working on Limb L2-----\n",
      "No endpoints were eliminated so don't need to add back any candidates\n",
      "\n",
      "----Working on Limb L3-----\n",
      "No endpoints were eliminated so don't need to add back any candidates\n",
      "\n",
      "----Working on Limb L4-----\n",
      "No nodes were eliminated so don't need to add back any candidates\n",
      "\n",
      "----Working on Limb L5-----\n",
      "No nodes were eliminated so don't need to add back any candidates\n",
      "\n",
      "----Working on Limb L6-----\n",
      "No endpoints were eliminated so don't need to add back any candidates\n",
      "\n",
      "----Working on Limb L7-----\n",
      "No nodes were eliminated so don't need to add back any candidates\n",
      "\n",
      "----Working on Limb L8-----\n",
      "No nodes were eliminated so don't need to add back any candidates\n",
      "Final Candidates\n",
      "\n",
      "Limb 1\n",
      "Candidate 0 (tan): array([0, 1])\n",
      "\n",
      "Limb 2\n",
      "Candidate 0 (palegreen): array([1])\n",
      "Candidate 1 (green): array([ 0,  3,  4,  5,  6,  7,  8,  9, 10])\n",
      "\n",
      "Limb 3\n",
      "Candidate 0 (magenta): array([0, 3, 4, 6, 7])\n",
      "Candidate 1 (cadetblue): array([8, 1, 2])\n",
      "\n",
      "Limb 4\n",
      "Candidate 0 (orange): array([ 0,  1,  2,  3,  4,  5,  6,  7,  8,  9, 10, 11, 12])\n",
      "\n",
      "Limb 5\n",
      "Candidate 0 (cyan): array([0, 1, 2, 3, 4])\n",
      "\n",
      "Limb 6\n",
      "Candidate 0 (brown): array([0, 2, 4, 5, 6])\n",
      "Candidate 1 (magenta): array([3])\n",
      "\n",
      "Limb 7\n",
      "Candidate 0 (brown): array([0, 1, 2])\n",
      "\n",
      "Limb 8\n",
      "Candidate 0 (orange): array([ 0,  1,  2,  3,  4,  5,  6,  7,  8,  9, 10, 11, 12, 13, 14, 15, 16,\n",
      "       17, 18, 19, 20, 21, 22, 23, 24, 25, 26, 27, 28, 29, 30, 31, 32, 33,\n",
      "       34, 35, 36, 37, 38, 39, 40, 41, 42, 43, 44, 45])\n",
      "Part 3: axon_subgraph_candidates = {1: [[0, 1]], 2: [[1], [0, 3, 4, 5, 6, 7, 8, 9, 10]], 3: [[0, 3, 4, 6, 7], [8, 1, 2]], 4: [[0, 1, 2, 3, 4, 5, 6, 7, 8, 9, 10, 11, 12]], 5: [[0, 1, 2, 3, 4]], 6: [[0, 2, 4, 5, 6], [3]], 7: [[0, 1, 2]], 8: [[0, 1, 2, 3, 4, 5, 6, 7, 8, 9, 10, 11, 12, 13, 14, 15, 16, 17, 18, 19, 20, 21, 22, 23, 24, 25, 26, 27, 28, 29, 30, 31, 32, 33, 34, 35, 36, 37, 38, 39, 40, 41, 42, 43, 44, 45]]}\n",
      "\n",
      "\n",
      " --- Working on limb 1, candidate # 0\n",
      "0 out of 2 branches are axons\n",
      "Axon percentage = 0.0\n",
      "Not adding candidate no axon branches detected \n",
      "\n",
      "\n",
      " --- Working on limb 2, candidate # 0\n",
      "0 out of 1 branches are axons\n",
      "Axon percentage = 0.0\n",
      "Not adding candidate no axon branches detected \n",
      "\n",
      "\n",
      " --- Working on limb 2, candidate # 1\n",
      "5 out of 9 branches are axons\n",
      "Axon percentage = 0.5555555555555556\n",
      "curr_axon_angle_threshold = 120\n",
      "candidate_nodes = [ 0  2  3  4  5  6  7  8  9 10]\n",
      "non_axon_branches_on_subgraph = [2 3 4 5 6]\n",
      "endnodes_to_test = []\n",
      "candidate_angles,restr_skels = (None, None)\n",
      "Not adding candidate because no angles (None) passed the threhold 120 \n",
      "\n",
      "\n",
      " --- Working on limb 3, candidate # 0\n",
      "1 out of 5 branches are axons\n",
      "Axon percentage = 0.2\n",
      "curr_axon_angle_threshold = 120\n",
      "candidate_nodes = [0 3 4 5 6 7]\n",
      "non_axon_branches_on_subgraph = [0 3 4 5 7]\n",
      "endnodes_to_test = []\n",
      "candidate_angles,restr_skels = (None, None)\n",
      "Not adding candidate because no angles (None) passed the threhold 120 \n",
      "\n",
      "\n",
      " --- Working on limb 3, candidate # 1\n",
      "0 out of 3 branches are axons\n",
      "Axon percentage = 0.0\n",
      "Not adding candidate no axon branches detected \n",
      "\n",
      "\n",
      " --- Working on limb 4, candidate # 0\n",
      "2 out of 13 branches are axons\n",
      "Axon percentage = 0.15384615384615385\n",
      "curr_axon_angle_threshold = 120\n",
      "candidate_nodes = [ 0  1  2  3  4  5  6  7  8  9 10 11 12]\n",
      "non_axon_branches_on_subgraph = [ 0  2  3  4  5  6  7  8  9 10 12]\n",
      "endnodes_to_test = []\n",
      "candidate_angles,restr_skels = (None, None)\n",
      "Not adding candidate because no angles (None) passed the threhold 120 \n",
      "\n",
      "\n",
      " --- Working on limb 5, candidate # 0\n",
      "0 out of 5 branches are axons\n",
      "Axon percentage = 0.0\n",
      "Not adding candidate no axon branches detected \n",
      "\n",
      "\n",
      " --- Working on limb 6, candidate # 0\n",
      "0 out of 5 branches are axons\n",
      "Axon percentage = 0.0\n",
      "Not adding candidate no axon branches detected \n",
      "\n",
      "\n",
      " --- Working on limb 6, candidate # 1\n",
      "0 out of 1 branches are axons\n",
      "Axon percentage = 0.0\n",
      "Not adding candidate no axon branches detected \n",
      "\n",
      "\n",
      " --- Working on limb 7, candidate # 0\n",
      "0 out of 3 branches are axons\n",
      "Axon percentage = 0.0\n",
      "Not adding candidate no axon branches detected \n",
      "\n",
      "\n",
      " --- Working on limb 8, candidate # 0\n",
      "46 out of 46 branches are axons\n",
      "Axon percentage = 1.0\n",
      "curr_axon_angle_threshold = 95\n",
      "candidate_nodes = [ 0  1  2  3  4  5  6  7  8  9 10 11 12 13 14 15 16 17 18 19 20 21 22 23\n",
      " 24 25 26 27 28 29 30 31 32 33 34 35 36 37 38 39 40 41 42 43 44 45]\n",
      "non_axon_branches_on_subgraph = []\n",
      "endnodes_to_test = [12189]\n",
      "Skeleton paths distances = [24918.29331482]\n",
      "Filtered indexes = [0]\n",
      "len(filtered_skeletons) = 1\n",
      "sk_angles = [160.97065601]\n",
      "candidate_angles,restr_skels = (array([160.97065601]), [array([[[1366030.,  779741.,  820627.],\n",
      "        [1366020.,  779886.,  820667.]],\n",
      "\n",
      "       [[1366020.,  779886.,  820667.],\n",
      "        [1366020.,  779959.,  820686.]],\n",
      "\n",
      "       [[1366020.,  779959.,  820686.],\n",
      "        [1366020.,  780077.,  820716.]],\n",
      "\n",
      "       [[1366020.,  780077.,  820716.],\n",
      "        [1366010.,  780219.,  820754.]],\n",
      "\n",
      "       [[1366010.,  780219.,  820754.],\n",
      "        [1366010.,  780329.,  820784.]],\n",
      "\n",
      "       [[1366010.,  780329.,  820784.],\n",
      "        [1366000.,  780492.,  820829.]],\n",
      "\n",
      "       [[1366000.,  780492.,  820829.],\n",
      "        [1366000.,  780620.,  820867.]],\n",
      "\n",
      "       [[1366000.,  780620.,  820867.],\n",
      "        [1365990.,  780731.,  820900.]],\n",
      "\n",
      "       [[1365990.,  780731.,  820900.],\n",
      "        [1365990.,  780879.,  820946.]],\n",
      "\n",
      "       [[1365990.,  780879.,  820946.],\n",
      "        [1365980.,  780988.,  820981.]],\n",
      "\n",
      "       [[1365980.,  780988.,  820981.],\n",
      "        [1365980.,  781133.,  821029.]],\n",
      "\n",
      "       [[1365980.,  781133.,  821029.],\n",
      "        [1365970.,  781268.,  821073.]],\n",
      "\n",
      "       [[1365970.,  781268.,  821073.],\n",
      "        [1365960.,  781361.,  821104.]],\n",
      "\n",
      "       [[1365960.,  781361.,  821104.],\n",
      "        [1365950.,  781463.,  821137.]],\n",
      "\n",
      "       [[1365950.,  781463.,  821137.],\n",
      "        [1365930.,  781591.,  821175.]],\n",
      "\n",
      "       [[1365930.,  781591.,  821175.],\n",
      "        [1365920.,  781670.,  821197.]],\n",
      "\n",
      "       [[1365920.,  781670.,  821197.],\n",
      "        [1365900.,  781783.,  821226.]],\n",
      "\n",
      "       [[1365900.,  781783.,  821226.],\n",
      "        [1365870.,  781897.,  821252.]],\n",
      "\n",
      "       [[1365870.,  781897.,  821252.],\n",
      "        [1365850.,  782003.,  821274.]],\n",
      "\n",
      "       [[1365850.,  782003.,  821274.],\n",
      "        [1365840.,  782041.,  821282.]],\n",
      "\n",
      "       [[1365840.,  782041.,  821282.],\n",
      "        [1365810.,  782153.,  821304.]],\n",
      "\n",
      "       [[1365810.,  782153.,  821304.],\n",
      "        [1365780.,  782269.,  821328.]],\n",
      "\n",
      "       [[1365780.,  782269.,  821328.],\n",
      "        [1365760.,  782352.,  821343.]],\n",
      "\n",
      "       [[1365760.,  782352.,  821343.],\n",
      "        [1365740.,  782419.,  821357.]],\n",
      "\n",
      "       [[1365740.,  782419.,  821357.],\n",
      "        [1365700.,  782546.,  821382.]],\n",
      "\n",
      "       [[1365700.,  782546.,  821382.],\n",
      "        [1365650.,  782733.,  821426.]],\n",
      "\n",
      "       [[1365650.,  782733.,  821426.],\n",
      "        [1365620.,  782839.,  821451.]],\n",
      "\n",
      "       [[1365620.,  782839.,  821451.],\n",
      "        [1365590.,  783005.,  821494.]],\n",
      "\n",
      "       [[1365590.,  783005.,  821494.],\n",
      "        [1365560.,  783136.,  821532.]],\n",
      "\n",
      "       [[1365560.,  783136.,  821532.],\n",
      "        [1365550.,  783217.,  821554.]],\n",
      "\n",
      "       [[1365550.,  783217.,  821554.],\n",
      "        [1365530.,  783319.,  821586.]],\n",
      "\n",
      "       [[1365530.,  783319.,  821586.],\n",
      "        [1365520.,  783436.,  821623.]],\n",
      "\n",
      "       [[1365520.,  783436.,  821623.],\n",
      "        [1365520.,  783467.,  821633.]],\n",
      "\n",
      "       [[1365520.,  783467.,  821633.],\n",
      "        [1365530.,  783599.,  821681.]],\n",
      "\n",
      "       [[1365530.,  783599.,  821681.],\n",
      "        [1365540.,  783722.,  821727.]],\n",
      "\n",
      "       [[1365540.,  783722.,  821727.],\n",
      "        [1365560.,  783855.,  821782.]],\n",
      "\n",
      "       [[1365560.,  783855.,  821782.],\n",
      "        [1365580.,  783975.,  821832.]],\n",
      "\n",
      "       [[1365580.,  783975.,  821832.],\n",
      "        [1365590.,  784080.,  821877.]],\n",
      "\n",
      "       [[1365590.,  784080.,  821877.],\n",
      "        [1365610.,  784170.,  821917.]],\n",
      "\n",
      "       [[1365610.,  784170.,  821917.],\n",
      "        [1365630.,  784279.,  821965.]],\n",
      "\n",
      "       [[1365630.,  784279.,  821965.],\n",
      "        [1365650.,  784420.,  822025.]],\n",
      "\n",
      "       [[1365650.,  784420.,  822025.],\n",
      "        [1365660.,  784511.,  822062.]],\n",
      "\n",
      "       [[1365660.,  784511.,  822062.],\n",
      "        [1365660.,  784573.,  822087.]],\n",
      "\n",
      "       [[1365660.,  784573.,  822087.],\n",
      "        [1365670.,  784731.,  822149.]],\n",
      "\n",
      "       [[1365670.,  784731.,  822149.],\n",
      "        [1365670.,  784867.,  822201.]],\n",
      "\n",
      "       [[1365670.,  784867.,  822201.],\n",
      "        [1365660.,  785018.,  822260.]],\n",
      "\n",
      "       [[1365660.,  785018.,  822260.],\n",
      "        [1365660.,  785142.,  822310.]],\n",
      "\n",
      "       [[1365660.,  785142.,  822310.],\n",
      "        [1365650.,  785268.,  822365.]],\n",
      "\n",
      "       [[1365650.,  785268.,  822365.],\n",
      "        [1365640.,  785326.,  822391.]],\n",
      "\n",
      "       [[1365640.,  785326.,  822391.],\n",
      "        [1365640.,  785417.,  822433.]],\n",
      "\n",
      "       [[1365640.,  785417.,  822433.],\n",
      "        [1365630.,  785566.,  822508.]],\n",
      "\n",
      "       [[1365630.,  785566.,  822508.],\n",
      "        [1365630.,  785677.,  822567.]],\n",
      "\n",
      "       [[1365630.,  785677.,  822567.],\n",
      "        [1365620.,  785804.,  822637.]],\n",
      "\n",
      "       [[1365620.,  785804.,  822637.],\n",
      "        [1365630.,  785921.,  822707.]],\n",
      "\n",
      "       [[1365630.,  785921.,  822707.],\n",
      "        [1365630.,  786016.,  822766.]],\n",
      "\n",
      "       [[1365630.,  786016.,  822766.],\n",
      "        [1365640.,  786120.,  822835.]],\n",
      "\n",
      "       [[1365640.,  786120.,  822835.],\n",
      "        [1365650.,  786206.,  822897.]],\n",
      "\n",
      "       [[1365650.,  786206.,  822897.],\n",
      "        [1365670.,  786305.,  822971.]],\n",
      "\n",
      "       [[1365670.,  786305.,  822971.],\n",
      "        [1365680.,  786364.,  823015.]],\n",
      "\n",
      "       [[1365680.,  786364.,  823015.],\n",
      "        [1365700.,  786532.,  823151.]],\n",
      "\n",
      "       [[1365700.,  786532.,  823151.],\n",
      "        [1365740.,  786652.,  823199.]],\n",
      "\n",
      "       [[1365740.,  786652.,  823199.],\n",
      "        [1365750.,  786704.,  823223.]],\n",
      "\n",
      "       [[1365750.,  786704.,  823223.],\n",
      "        [1365770.,  786779.,  823255.]],\n",
      "\n",
      "       [[1365770.,  786779.,  823255.],\n",
      "        [1365800.,  786874.,  823292.]],\n",
      "\n",
      "       [[1365800.,  786874.,  823292.],\n",
      "        [1365850.,  787012.,  823333.]],\n",
      "\n",
      "       [[1365850.,  787012.,  823333.],\n",
      "        [1365890.,  787159.,  823360.]],\n",
      "\n",
      "       [[1365890.,  787159.,  823360.],\n",
      "        [1365920.,  787266.,  823376.]],\n",
      "\n",
      "       [[1365920.,  787266.,  823376.],\n",
      "        [1365950.,  787421.,  823395.]],\n",
      "\n",
      "       [[1365950.,  787421.,  823395.],\n",
      "        [1365980.,  787555.,  823411.]],\n",
      "\n",
      "       [[1365980.,  787555.,  823411.],\n",
      "        [1365990.,  787630.,  823420.]],\n",
      "\n",
      "       [[1365990.,  787630.,  823420.],\n",
      "        [1366000.,  787727.,  823432.]],\n",
      "\n",
      "       [[1366000.,  787727.,  823432.],\n",
      "        [1366010.,  787834.,  823447.]],\n",
      "\n",
      "       [[1366010.,  787834.,  823447.],\n",
      "        [1366010.,  787975.,  823471.]],\n",
      "\n",
      "       [[1366010.,  787975.,  823471.],\n",
      "        [1366000.,  788142.,  823510.]],\n",
      "\n",
      "       [[1366000.,  788142.,  823510.],\n",
      "        [1365970.,  788292.,  823554.]],\n",
      "\n",
      "       [[1365970.,  788292.,  823554.],\n",
      "        [1365930.,  788464.,  823612.]],\n",
      "\n",
      "       [[1365930.,  788464.,  823612.],\n",
      "        [1365900.,  788589.,  823658.]],\n",
      "\n",
      "       [[1365900.,  788589.,  823658.],\n",
      "        [1365830.,  788810.,  823739.]],\n",
      "\n",
      "       [[1365830.,  788810.,  823739.],\n",
      "        [1365760.,  789000.,  823809.]]])])\n"
     ]
    },
    {
     "name": "stdout",
     "output_type": "stream",
     "text": [
      "base_final_widths = [601.52860746 610.3669055  595.47689928]\n",
      "overall_ais_width = 327.7404773425014\n",
      "ais_width = 602.45747074695\n",
      "Adding the following branches as true axons: [ 0.  1.  2.  3.  4.  5.  6.  7.  8.  9. 10. 11. 12. 13. 14. 15. 16. 17.\n",
      " 18. 19. 20. 21. 22. 23. 24. 25. 26. 27. 28. 29. 30. 31. 32. 33. 34. 35.\n",
      " 36. 37. 38. 39. 40. 41. 42. 43. 44. 45.]\n",
      "curr_soma_angle = 147.03\n",
      "max_axon_angle = 160.97065600991502\n",
      "Changing to a better axon candidate\n",
      "Using the best axon approach\n",
      "Using True\n",
      "Limb L8: Axon branches before dendritic path filter = [ 0.  1.  2.  3.  4.  5.  6.  7.  8.  9. 10. 11. 12. 13. 14. 15. 16. 17.\n",
      " 18. 19. 20. 21. 22. 23. 24. 25. 26. 27. 28. 29. 30. 31. 32. 33. 34. 35.\n",
      " 36. 37. 38. 39. 40. 41. 42. 43. 44. 45.]\n",
      "Limb L8: Axon branches AFTER dendritic path filter = [ 0.  1.  2.  3.  4.  5.  6.  7.  8.  9. 10. 11. 12. 13. 14. 15. 16. 17.\n",
      " 18. 19. 20. 21. 22. 23. 24. 25. 26. 27. 28. 29. 30. 31. 32. 33. 34. 35.\n",
      " 36. 37. 38. 39. 40. 41. 42. 43. 44. 45.]\n",
      "\n",
      "\n",
      "Part 4: final_true_axons = {'L8': array([ 0.,  1.,  2.,  3.,  4.,  5.,  6.,  7.,  8.,  9., 10., 11., 12.,\n",
      "       13., 14., 15., 16., 17., 18., 19., 20., 21., 22., 23., 24., 25.,\n",
      "       26., 27., 28., 29., 30., 31., 32., 33., 34., 35., 36., 37., 38.,\n",
      "       39., 40., 41., 42., 43., 44., 45.])}\n",
      "\n",
      "--- Working on filter 0:\n",
      "function = dendrite_on_axon_merges\n",
      "function __name__ = filter_away_dendrite_on_axon_merges\n",
      "function arguments = {'use_pre_existing_axon_labels': True}\n",
      "\n",
      "\n",
      "\n",
      "\n",
      "\n",
      " ---- Total time for applying filter: 1.561743974685669 -----\n",
      "Starting axon branch was the starting node so using border vertices and NOT computing upstream branch\n",
      "upstream_node_to_axon_starting_branch = None\n",
      "More than 1 seperated mesh (taking the top one): [<trimesh.Trimesh(vertices.shape=(55052, 3), faces.shape=(109824, 3))>\n",
      " <trimesh.Trimesh(vertices.shape=(24461, 3), faces.shape=(48695, 3))>]\n",
      "root_curr = [1366605.   770146.3  818425.2]\n",
      "Time for preparing soma vertices and root: 0.00037932395935058594\n",
      "invalidation_d = 2000\n",
      "cc_vertex_thresh = 10\n"
     ]
    },
    {
     "name": "stderr",
     "output_type": "stream",
     "text": [
      "\r",
      "  0%|          | 0/1 [00:00<?, ?it/s]"
     ]
    },
    {
     "data": {
      "application/vnd.jupyter.widget-view+json": {
       "model_id": "5c51ecf1fe4a4dd883f970051481256b",
       "version_major": 2,
       "version_minor": 0
      },
      "text/plain": [
       "  0%|          | 0/55051 [00:00<?, ?it/s]"
      ]
     },
     "metadata": {},
     "output_type": "display_data"
    },
    {
     "name": "stderr",
     "output_type": "stream",
     "text": [
      "100%|██████████| 1/1 [00:02<00:00,  2.60s/it]\n"
     ]
    },
    {
     "name": "stdout",
     "output_type": "stream",
     "text": [
      "meshparty_segment_size = 100\n",
      "Time for 1st pass MP skeletonization: 4.767583608627319\n",
      "connecting at the root\n",
      "branches_touching_root = [50]\n",
      "combining close nodes\n",
      "combine_threshold = 1300\n",
      "length of Graph = 11061\n",
      "After combining close endpoints max(kept_branches_idx) = 50, len(kept_branches_idx) = 48\n",
      "empty_indices % = 0.0\n",
      " conflict_indices % = 0.009802224631277843\n"
     ]
    },
    {
     "data": {
      "application/vnd.jupyter.widget-view+json": {
       "model_id": "be2fa0c6e52b4a1f936b7a3863bfbbb6",
       "version_major": 2,
       "version_minor": 0
      },
      "text/plain": [
       "  0%|          | 0/22 [00:00<?, ?it/s]"
      ]
     },
     "metadata": {},
     "output_type": "display_data"
    },
    {
     "name": "stdout",
     "output_type": "stream",
     "text": [
      "AFTER face_lookup_resolved_test\n"
     ]
    },
    {
     "data": {
      "application/vnd.jupyter.widget-view+json": {
       "model_id": "49d8dc30d49046c79b6bd955bc59cfb4",
       "version_major": 2,
       "version_minor": 0
      },
      "text/plain": [
       "  0%|          | 0/48 [00:00<?, ?it/s]"
      ]
     },
     "metadata": {},
     "output_type": "display_data"
    },
    {
     "name": "stdout",
     "output_type": "stream",
     "text": [
      "Decomposing first pass: 21.55474877357483\n",
      "Only Using MeshParty Skeletonization and Mesh Correspondence\n",
      "Another print\n",
      "Divinding into MP and MAP pieces: 0.0001838207244873047\n",
      "Total time for MAP sublimb processing 2.86102294921875e-06\n",
      "---- Working on MP Decomposition #0 ----\n",
      "Using Quicker soma_to_piece_touching_vertices because no MAP and only one sublimb_mesh piece \n",
      "MP filtering soma verts: 0.0002815723419189453\n",
      "Fixing Possible Soma Extension Branch for Sublimb 0\n",
      "Total time for mesh KDTree = 0.0065364837646484375\n",
      "sbv[0].reshape(-1,3) = [[1366605.   770146.3  818425.2]]\n",
      "closest_sk_pt_coord BEFORE = [1366990.88113445  770325.05001846  818437.36246539]\n",
      "current_skeleton.shape = (27, 2, 3)\n",
      "node_for_stitch = 27: [1366990.88113445  770325.05001846  818437.36246539]\n",
      "node_for_stitch AFTER = 27: [1366990.88113445  770325.05001846  818437.36246539]\n",
      "possible_node_loc = [ 0 27]\n",
      "possible_node_loc AFTER = [ 0 27]\n",
      "curr_shortest_path = [27]\n",
      "Current stitch point was a branch or endpoint\n",
      "change_status for create soma extending pieces = False\n",
      "closest_sk_pt_coord AFTER = [1366990.88113445  770325.05001846  818437.36246539]\n",
      "skipping soma 0 because closest skeleton node was already end node\n",
      "endpoints_must_keep = {0: array([[1366990.88113445,  770325.05001846,  818437.36246539]])}\n",
      "match_sk_branches = [47]\n",
      "The new branch info was none so skipping \n",
      "\n",
      "No soma extending branch was added for this sublimb even though it had a soma border (means they already existed)\n",
      "MP (because soma touching verts) soma extension add: 5.1630988121032715\n",
      "There were not both MAP and MP pieces so skipping the stitch resolving phase\n",
      "Time for decomp of Limb = 33.04814171791077\n",
      "Number of matching vertices = 27\n",
      "Only one endpoint after filtering away the endpoints that are not on the skeleton\n",
      "Using Distance measure skeletal_distance\n",
      "endpoints_must_keep = [[1366990.88113445  770325.05001846  818437.36246539]]\n",
      "Number of end_nodes BEFORE filtering = 27\n",
      "all_single_nodes_to_eliminate = [15]\n"
     ]
    },
    {
     "data": {
      "application/vnd.jupyter.widget-view+json": {
       "model_id": "96fe1a4184454e85a0a6ea6601e4eafb",
       "version_major": 2,
       "version_minor": 0
      },
      "text/plain": [
       "  0%|          | 0/2 [00:00<?, ?it/s]"
      ]
     },
     "metadata": {},
     "output_type": "display_data"
    },
    {
     "name": "stdout",
     "output_type": "stream",
     "text": [
      "Removed 2 skeletal branches\n"
     ]
    },
    {
     "data": {
      "application/vnd.jupyter.widget-view+json": {
       "model_id": "ed6578b04c1d4cf9ac0b3619399ac0e9",
       "version_major": 2,
       "version_minor": 0
      },
      "text/plain": [
       "  0%|          | 0/48 [00:00<?, ?it/s]"
      ]
     },
     "metadata": {},
     "output_type": "display_data"
    },
    {
     "name": "stdout",
     "output_type": "stream",
     "text": [
      "109823 109824\n",
      "For marked faces: None\n",
      "empty_indices % = 0.0\n",
      " conflict_indices % = 0.0\n"
     ]
    },
    {
     "data": {
      "application/vnd.jupyter.widget-view+json": {
       "model_id": "72b0f3b392de4995bfa09e049e07e01c",
       "version_major": 2,
       "version_minor": 0
      },
      "text/plain": [
       "0it [00:00, ?it/s]"
      ]
     },
     "metadata": {},
     "output_type": "display_data"
    },
    {
     "name": "stdout",
     "output_type": "stream",
     "text": [
      "AFTER face_lookup_resolved_test\n"
     ]
    },
    {
     "data": {
      "application/vnd.jupyter.widget-view+json": {
       "model_id": "ffc2c280502c408f91b46cc7e4dba57c",
       "version_major": 2,
       "version_minor": 0
      },
      "text/plain": [
       "  0%|          | 0/44 [00:00<?, ?it/s]"
      ]
     },
     "metadata": {},
     "output_type": "display_data"
    },
    {
     "name": "stdout",
     "output_type": "stream",
     "text": [
      "Limb Correspondence before stitching = 44\n",
      "Limb Correspondence AFTER stitching = 101\n",
      "Upstream node was None so don't have to adjust\n",
      "concept_network_dict = {0: [<networkx_utils.GraphOrderedEdges object at 0x7f3f2dfc7438>]}\n",
      "Assigning the old width calculation because no valid new widths\n",
      "Assigning the old width calculation because no valid new widths\n",
      "\n",
      "\n",
      "----Working on seperate_graph 0----\n",
      "\n",
      "\n",
      "---------Working on soma_idx = 0, soma_group_idx 0, endpt = [1366990.88113445  770325.05001846  818437.36246539]---------\n",
      "Starting_edge inside branches_to_conept = [[1361162.78117222  811373.15932757  829006.4098131 ]\n",
      " [1366990.88113445  770325.05001846  818437.36246539]]\n",
      "At the start, starting_node (in terms of the skeleton, that shouldn't match the starting edge) = [73]\n",
      "printing out current edge:\n",
      "[[1366990.88113445  770325.05001846  818437.36246539]\n",
      " [1361162.78117222  811373.15932757  829006.4098131 ]]\n",
      "edge_endpoints_to_process was empty so exiting loop after 101 iterations\n",
      "starting_node in concept map (that should match the starting edge) = 24\n",
      "Total time for branches to concept conversion = 1.9425950050354004\n",
      "\n",
      "Done generating concept network \n",
      "\n",
      "\n"
     ]
    },
    {
     "data": {
      "application/vnd.jupyter.widget-view+json": {
       "model_id": "44cc1bbd5ee14fdab3ba06419ec4d2d2",
       "version_major": 2,
       "version_minor": 0
      },
      "text/plain": [
       "  0%|          | 0/87 [00:00<?, ?it/s]"
      ]
     },
     "metadata": {},
     "output_type": "display_data"
    },
    {
     "data": {
      "application/vnd.jupyter.widget-view+json": {
       "model_id": "d348160929a9495596b794aec36e9539",
       "version_major": 2,
       "version_minor": 0
      },
      "text/plain": [
       "  0%|          | 0/63 [00:00<?, ?it/s]"
      ]
     },
     "metadata": {},
     "output_type": "display_data"
    },
    {
     "data": {
      "application/vnd.jupyter.widget-view+json": {
       "model_id": "687ce10a95d44e77b2e94a561550d431",
       "version_major": 2,
       "version_minor": 0
      },
      "text/plain": [
       "  0%|          | 0/21 [00:00<?, ?it/s]"
      ]
     },
     "metadata": {},
     "output_type": "display_data"
    },
    {
     "data": {
      "application/vnd.jupyter.widget-view+json": {
       "model_id": "9c792ccd27da410e91b1587229071350",
       "version_major": 2,
       "version_minor": 0
      },
      "text/plain": [
       "  0%|          | 0/5 [00:00<?, ?it/s]"
      ]
     },
     "metadata": {},
     "output_type": "display_data"
    },
    {
     "data": {
      "application/vnd.jupyter.widget-view+json": {
       "model_id": "0dbb397c244144579693bf9b1be82996",
       "version_major": 2,
       "version_minor": 0
      },
      "text/plain": [
       "  0%|          | 0/3 [00:00<?, ?it/s]"
      ]
     },
     "metadata": {},
     "output_type": "display_data"
    },
    {
     "data": {
      "application/vnd.jupyter.widget-view+json": {
       "model_id": "b1c6f1182f524022b9503577fb619e8a",
       "version_major": 2,
       "version_minor": 0
      },
      "text/plain": [
       "  0%|          | 0/6 [00:00<?, ?it/s]"
      ]
     },
     "metadata": {},
     "output_type": "display_data"
    },
    {
     "data": {
      "application/vnd.jupyter.widget-view+json": {
       "model_id": "6839dcaeab8944d2adf713cc71e3b10e",
       "version_major": 2,
       "version_minor": 0
      },
      "text/plain": [
       "  0%|          | 0/2 [00:00<?, ?it/s]"
      ]
     },
     "metadata": {},
     "output_type": "display_data"
    },
    {
     "data": {
      "application/vnd.jupyter.widget-view+json": {
       "model_id": "3f1220b6569e4d37858ef0d7cd470f50",
       "version_major": 2,
       "version_minor": 0
      },
      "text/plain": [
       "  0%|          | 0/62 [00:00<?, ?it/s]"
      ]
     },
     "metadata": {},
     "output_type": "display_data"
    },
    {
     "data": {
      "application/vnd.jupyter.widget-view+json": {
       "model_id": "6c6af40e95924e67b51267db53293936",
       "version_major": 2,
       "version_minor": 0
      },
      "text/plain": [
       "  0%|          | 0/48 [00:00<?, ?it/s]"
      ]
     },
     "metadata": {},
     "output_type": "display_data"
    },
    {
     "data": {
      "application/vnd.jupyter.widget-view+json": {
       "model_id": "36b4813fe1084b5199a539cf04ad8862",
       "version_major": 2,
       "version_minor": 0
      },
      "text/plain": [
       "  0%|          | 0/4 [00:00<?, ?it/s]"
      ]
     },
     "metadata": {},
     "output_type": "display_data"
    },
    {
     "data": {
      "application/vnd.jupyter.widget-view+json": {
       "model_id": "3aa6f9b84d61486f8f47f9be21d863b3",
       "version_major": 2,
       "version_minor": 0
      },
      "text/plain": [
       "  0%|          | 0/37 [00:00<?, ?it/s]"
      ]
     },
     "metadata": {},
     "output_type": "display_data"
    },
    {
     "data": {
      "application/vnd.jupyter.widget-view+json": {
       "model_id": "35915f61692441c585c3436d4bfab179",
       "version_major": 2,
       "version_minor": 0
      },
      "text/plain": [
       "  0%|          | 0/8 [00:00<?, ?it/s]"
      ]
     },
     "metadata": {},
     "output_type": "display_data"
    },
    {
     "data": {
      "application/vnd.jupyter.widget-view+json": {
       "model_id": "4e56d0f5a9e641c0b835e5d22cd2a578",
       "version_major": 2,
       "version_minor": 0
      },
      "text/plain": [
       "  0%|          | 0/17 [00:00<?, ?it/s]"
      ]
     },
     "metadata": {},
     "output_type": "display_data"
    },
    {
     "data": {
      "application/vnd.jupyter.widget-view+json": {
       "model_id": "95c08d7198814901b994dcbed8e7607b",
       "version_major": 2,
       "version_minor": 0
      },
      "text/plain": [
       "  0%|          | 0/6 [00:00<?, ?it/s]"
      ]
     },
     "metadata": {},
     "output_type": "display_data"
    },
    {
     "data": {
      "application/vnd.jupyter.widget-view+json": {
       "model_id": "d18217da25fc4e578a7f33704f84bd42",
       "version_major": 2,
       "version_minor": 0
      },
      "text/plain": [
       "  0%|          | 0/11 [00:00<?, ?it/s]"
      ]
     },
     "metadata": {},
     "output_type": "display_data"
    },
    {
     "data": {
      "application/vnd.jupyter.widget-view+json": {
       "model_id": "f29b7c3780cf4ac8a6f1e649cf0639c2",
       "version_major": 2,
       "version_minor": 0
      },
      "text/plain": [
       "  0%|          | 0/9 [00:00<?, ?it/s]"
      ]
     },
     "metadata": {},
     "output_type": "display_data"
    },
    {
     "data": {
      "application/vnd.jupyter.widget-view+json": {
       "model_id": "f8fd9378c40348be9750d85ffff081c3",
       "version_major": 2,
       "version_minor": 0
      },
      "text/plain": [
       "  0%|          | 0/7 [00:00<?, ?it/s]"
      ]
     },
     "metadata": {},
     "output_type": "display_data"
    },
    {
     "data": {
      "application/vnd.jupyter.widget-view+json": {
       "model_id": "8823ced3460c46a98f284aebf859402a",
       "version_major": 2,
       "version_minor": 0
      },
      "text/plain": [
       "  0%|          | 0/10 [00:00<?, ?it/s]"
      ]
     },
     "metadata": {},
     "output_type": "display_data"
    },
    {
     "data": {
      "application/vnd.jupyter.widget-view+json": {
       "model_id": "adceaa25b8eb43459667fee12917bcb3",
       "version_major": 2,
       "version_minor": 0
      },
      "text/plain": [
       "  0%|          | 0/13 [00:00<?, ?it/s]"
      ]
     },
     "metadata": {},
     "output_type": "display_data"
    },
    {
     "data": {
      "application/vnd.jupyter.widget-view+json": {
       "model_id": "fa5251d8852e476ea57148d402ac7ae1",
       "version_major": 2,
       "version_minor": 0
      },
      "text/plain": [
       "  0%|          | 0/11 [00:00<?, ?it/s]"
      ]
     },
     "metadata": {},
     "output_type": "display_data"
    },
    {
     "data": {
      "application/vnd.jupyter.widget-view+json": {
       "model_id": "a0bc1bd9c61f4d81810b2ee21ab591eb",
       "version_major": 2,
       "version_minor": 0
      },
      "text/plain": [
       "  0%|          | 0/5 [00:00<?, ?it/s]"
      ]
     },
     "metadata": {},
     "output_type": "display_data"
    },
    {
     "data": {
      "application/vnd.jupyter.widget-view+json": {
       "model_id": "fbd53aed39354d4c94dcf9394520a29d",
       "version_major": 2,
       "version_minor": 0
      },
      "text/plain": [
       "  0%|          | 0/6 [00:00<?, ?it/s]"
      ]
     },
     "metadata": {},
     "output_type": "display_data"
    },
    {
     "data": {
      "application/vnd.jupyter.widget-view+json": {
       "model_id": "739d8faafabb40ecaba9ff755faf6511",
       "version_major": 2,
       "version_minor": 0
      },
      "text/plain": [
       "  0%|          | 0/6 [00:00<?, ?it/s]"
      ]
     },
     "metadata": {},
     "output_type": "display_data"
    },
    {
     "data": {
      "application/vnd.jupyter.widget-view+json": {
       "model_id": "5ad6e4e32e6e472a96aa8d994b01478a",
       "version_major": 2,
       "version_minor": 0
      },
      "text/plain": [
       "  0%|          | 0/14 [00:00<?, ?it/s]"
      ]
     },
     "metadata": {},
     "output_type": "display_data"
    },
    {
     "data": {
      "application/vnd.jupyter.widget-view+json": {
       "model_id": "2c1c43dc4aff4dcbb1bddd44d1e112ab",
       "version_major": 2,
       "version_minor": 0
      },
      "text/plain": [
       "  0%|          | 0/4 [00:00<?, ?it/s]"
      ]
     },
     "metadata": {},
     "output_type": "display_data"
    },
    {
     "data": {
      "application/vnd.jupyter.widget-view+json": {
       "model_id": "eb35b7322d4b49dbb7319dac3685ac3c",
       "version_major": 2,
       "version_minor": 0
      },
      "text/plain": [
       "  0%|          | 0/32 [00:00<?, ?it/s]"
      ]
     },
     "metadata": {},
     "output_type": "display_data"
    },
    {
     "data": {
      "application/vnd.jupyter.widget-view+json": {
       "model_id": "dfd66b86ba6b4087b0ef89d3ea15d6f4",
       "version_major": 2,
       "version_minor": 0
      },
      "text/plain": [
       "  0%|          | 0/3 [00:00<?, ?it/s]"
      ]
     },
     "metadata": {},
     "output_type": "display_data"
    },
    {
     "data": {
      "application/vnd.jupyter.widget-view+json": {
       "model_id": "dbecb8d4fe9445f0a42502dbed861912",
       "version_major": 2,
       "version_minor": 0
      },
      "text/plain": [
       "  0%|          | 0/6 [00:00<?, ?it/s]"
      ]
     },
     "metadata": {},
     "output_type": "display_data"
    },
    {
     "data": {
      "application/vnd.jupyter.widget-view+json": {
       "model_id": "82f45f05ecd84ba7825c39b56eff5784",
       "version_major": 2,
       "version_minor": 0
      },
      "text/plain": [
       "  0%|          | 0/13 [00:00<?, ?it/s]"
      ]
     },
     "metadata": {},
     "output_type": "display_data"
    },
    {
     "data": {
      "application/vnd.jupyter.widget-view+json": {
       "model_id": "986b7016575e498894e06c6fa1086548",
       "version_major": 2,
       "version_minor": 0
      },
      "text/plain": [
       "  0%|          | 0/39 [00:00<?, ?it/s]"
      ]
     },
     "metadata": {},
     "output_type": "display_data"
    },
    {
     "data": {
      "application/vnd.jupyter.widget-view+json": {
       "model_id": "25eac8f0d35d4e679d2b500005b05c6b",
       "version_major": 2,
       "version_minor": 0
      },
      "text/plain": [
       "  0%|          | 0/16 [00:00<?, ?it/s]"
      ]
     },
     "metadata": {},
     "output_type": "display_data"
    },
    {
     "data": {
      "application/vnd.jupyter.widget-view+json": {
       "model_id": "61c0f9fbc4ba4b8291e83025453562b9",
       "version_major": 2,
       "version_minor": 0
      },
      "text/plain": [
       "  0%|          | 0/12 [00:00<?, ?it/s]"
      ]
     },
     "metadata": {},
     "output_type": "display_data"
    },
    {
     "data": {
      "application/vnd.jupyter.widget-view+json": {
       "model_id": "369dce5d5b0f420c812596e0203dc092",
       "version_major": 2,
       "version_minor": 0
      },
      "text/plain": [
       "  0%|          | 0/22 [00:00<?, ?it/s]"
      ]
     },
     "metadata": {},
     "output_type": "display_data"
    },
    {
     "data": {
      "application/vnd.jupyter.widget-view+json": {
       "model_id": "17e011d3db394340aac5a40afc399d12",
       "version_major": 2,
       "version_minor": 0
      },
      "text/plain": [
       "  0%|          | 0/8 [00:00<?, ?it/s]"
      ]
     },
     "metadata": {},
     "output_type": "display_data"
    },
    {
     "data": {
      "application/vnd.jupyter.widget-view+json": {
       "model_id": "9f541c0e3b08400fae0286e37fabc015",
       "version_major": 2,
       "version_minor": 0
      },
      "text/plain": [
       "  0%|          | 0/12 [00:00<?, ?it/s]"
      ]
     },
     "metadata": {},
     "output_type": "display_data"
    },
    {
     "data": {
      "application/vnd.jupyter.widget-view+json": {
       "model_id": "119a2038baa84664b38eeacb872af676",
       "version_major": 2,
       "version_minor": 0
      },
      "text/plain": [
       "  0%|          | 0/9 [00:00<?, ?it/s]"
      ]
     },
     "metadata": {},
     "output_type": "display_data"
    },
    {
     "data": {
      "application/vnd.jupyter.widget-view+json": {
       "model_id": "782dc9b2151c40a9abec8862336fa9bc",
       "version_major": 2,
       "version_minor": 0
      },
      "text/plain": [
       "  0%|          | 0/3 [00:00<?, ?it/s]"
      ]
     },
     "metadata": {},
     "output_type": "display_data"
    },
    {
     "data": {
      "application/vnd.jupyter.widget-view+json": {
       "model_id": "99ce2ba78d9f485ca33bf04af57dd97c",
       "version_major": 2,
       "version_minor": 0
      },
      "text/plain": [
       "  0%|          | 0/4 [00:00<?, ?it/s]"
      ]
     },
     "metadata": {},
     "output_type": "display_data"
    },
    {
     "data": {
      "application/vnd.jupyter.widget-view+json": {
       "model_id": "d0d572770a524214a44ad08a3622ee66",
       "version_major": 2,
       "version_minor": 0
      },
      "text/plain": [
       "  0%|          | 0/4 [00:00<?, ?it/s]"
      ]
     },
     "metadata": {},
     "output_type": "display_data"
    },
    {
     "data": {
      "application/vnd.jupyter.widget-view+json": {
       "model_id": "b02034803fb645c1a8c2b43f623a9f18",
       "version_major": 2,
       "version_minor": 0
      },
      "text/plain": [
       "  0%|          | 0/26 [00:00<?, ?it/s]"
      ]
     },
     "metadata": {},
     "output_type": "display_data"
    },
    {
     "data": {
      "application/vnd.jupyter.widget-view+json": {
       "model_id": "92ffcff521e74fdcbbbc1657d005dea0",
       "version_major": 2,
       "version_minor": 0
      },
      "text/plain": [
       "  0%|          | 0/5 [00:00<?, ?it/s]"
      ]
     },
     "metadata": {},
     "output_type": "display_data"
    },
    {
     "data": {
      "application/vnd.jupyter.widget-view+json": {
       "model_id": "7fd03bb3eb1045679d71985a42e912e6",
       "version_major": 2,
       "version_minor": 0
      },
      "text/plain": [
       "  0%|          | 0/5 [00:00<?, ?it/s]"
      ]
     },
     "metadata": {},
     "output_type": "display_data"
    },
    {
     "data": {
      "application/vnd.jupyter.widget-view+json": {
       "model_id": "eb97639d80474e4fad00b13d9cebf285",
       "version_major": 2,
       "version_minor": 0
      },
      "text/plain": [
       "  0%|          | 0/23 [00:00<?, ?it/s]"
      ]
     },
     "metadata": {},
     "output_type": "display_data"
    },
    {
     "data": {
      "application/vnd.jupyter.widget-view+json": {
       "model_id": "b09c27cf9d5a49b68dc426edd4bb2968",
       "version_major": 2,
       "version_minor": 0
      },
      "text/plain": [
       "  0%|          | 0/7 [00:00<?, ?it/s]"
      ]
     },
     "metadata": {},
     "output_type": "display_data"
    },
    {
     "data": {
      "application/vnd.jupyter.widget-view+json": {
       "model_id": "b632e3c7a30e41c59accd537ad227b6b",
       "version_major": 2,
       "version_minor": 0
      },
      "text/plain": [
       "  0%|          | 0/4 [00:00<?, ?it/s]"
      ]
     },
     "metadata": {},
     "output_type": "display_data"
    },
    {
     "data": {
      "application/vnd.jupyter.widget-view+json": {
       "model_id": "c204e67653624cd7aa04b8b994b03b2d",
       "version_major": 2,
       "version_minor": 0
      },
      "text/plain": [
       "  0%|          | 0/5 [00:00<?, ?it/s]"
      ]
     },
     "metadata": {},
     "output_type": "display_data"
    },
    {
     "data": {
      "application/vnd.jupyter.widget-view+json": {
       "model_id": "6a83b7e93e6241a48036ea7c21980582",
       "version_major": 2,
       "version_minor": 0
      },
      "text/plain": [
       "  0%|          | 0/13 [00:00<?, ?it/s]"
      ]
     },
     "metadata": {},
     "output_type": "display_data"
    },
    {
     "data": {
      "application/vnd.jupyter.widget-view+json": {
       "model_id": "7b413f019b4943208f5b4455bd73aef6",
       "version_major": 2,
       "version_minor": 0
      },
      "text/plain": [
       "  0%|          | 0/18 [00:00<?, ?it/s]"
      ]
     },
     "metadata": {},
     "output_type": "display_data"
    },
    {
     "data": {
      "application/vnd.jupyter.widget-view+json": {
       "model_id": "96df407fc5ab4cdc8bddf43d5dbf0150",
       "version_major": 2,
       "version_minor": 0
      },
      "text/plain": [
       "  0%|          | 0/10 [00:00<?, ?it/s]"
      ]
     },
     "metadata": {},
     "output_type": "display_data"
    },
    {
     "name": "stdout",
     "output_type": "stream",
     "text": [
      "\n",
      "\n",
      "\n",
      "---- Working on Neuron 864691135771629819 ----\n",
      "Decompressing Neuron in minimal output mode...please wait\n",
      "Pulled from Table Decomposition so setting split_index = 0\n",
      "Dont need spine recalculation\n",
      "Number of Neurons found = 1\n",
      "\n",
      "Part 1: Axon like branchese \n",
      "{'L1': array([ 1,  2,  3,  4,  5,  7,  8,  9, 10, 11, 12, 13, 14, 15, 16, 17, 18,\n",
      "       19, 20, 21, 22, 23, 24, 25, 26, 27, 28, 29, 30, 31, 32, 33, 34, 35,\n",
      "       36, 37, 38, 39, 40, 41, 42, 43, 44, 45, 46, 47, 48, 49, 50, 51, 52,\n",
      "       53, 54, 55, 56, 57, 58, 59, 60, 61, 62, 63, 64, 65, 66, 67, 68, 69]), 'L5': array([1, 2, 3, 5])}\n",
      "Limb L0 soma angle: 7.62 \n",
      "Limb L1 soma angle: 172.9 \n",
      "Limb L2 soma angle: 157.94 \n",
      "Limb L3 soma angle: 115.16 \n",
      "Limb L4 soma angle: 155.41 \n",
      "Limb L5 soma angle: 156.82 \n",
      "\n",
      "Part 2: possible_axon_limbs = [1, 2, 3, 4, 5]\n",
      "\n",
      "Phase 2: Working on Limb L1\n",
      "nodes_to_eliminate = [6]\n",
      "\n",
      "Phase 2: Working on Limb L2\n",
      "nodes_to_eliminate = [4]\n",
      "\n",
      "Phase 2: Working on Limb L3\n",
      "nodes_to_eliminate = []\n",
      "\n",
      "Phase 2: Working on Limb L4\n",
      "nodes_to_eliminate = []\n",
      "\n",
      "Phase 2: Working on Limb L5\n",
      "nodes_to_eliminate = []\n",
      "\n",
      "----Working on Limb L1-----\n",
      "No endpoints were eliminated so don't need to add back any candidates\n",
      "\n",
      "----Working on Limb L2-----\n",
      "No endpoints were eliminated so don't need to add back any candidates\n",
      "\n",
      "----Working on Limb L3-----\n",
      "No nodes were eliminated so don't need to add back any candidates\n",
      "\n",
      "----Working on Limb L4-----\n",
      "No nodes were eliminated so don't need to add back any candidates\n",
      "\n",
      "----Working on Limb L5-----\n",
      "No nodes were eliminated so don't need to add back any candidates\n",
      "Final Candidates\n",
      "\n",
      "Limb 1\n",
      "Candidate 0 (tan): array([0])\n",
      "Candidate 1 (palegreen): array([ 1,  2,  3,  4,  5,  7,  8,  9, 10, 11, 12, 13, 14, 15, 16, 17, 18,\n",
      "       19, 20, 21, 22, 23, 24, 25, 26, 27, 28, 29, 30, 31, 32, 33, 34, 35,\n",
      "       36, 37, 38, 39, 40, 41, 42, 43, 44, 45, 46, 47, 48, 49, 50, 51, 52,\n",
      "       53, 54, 55, 56, 57, 58, 59, 60, 61, 62, 63, 64, 65, 66, 67, 68, 69])\n",
      "\n",
      "Limb 2\n",
      "Candidate 0 (brown): array([0])\n",
      "Candidate 1 (gray): array([1, 2, 3])\n",
      "\n",
      "Limb 3\n",
      "Candidate 0 (olive): array([0, 1, 2, 3, 4])\n",
      "\n",
      "Limb 4\n",
      "Candidate 0 (gold): array([0, 1, 2])\n",
      "\n",
      "Limb 5\n",
      "Candidate 0 (darkslategray): array([0, 1, 2, 3, 4, 5])\n",
      "Part 3: axon_subgraph_candidates = {1: [[0], [1, 2, 3, 4, 5, 7, 8, 9, 10, 11, 12, 13, 14, 15, 16, 17, 18, 19, 20, 21, 22, 23, 24, 25, 26, 27, 28, 29, 30, 31, 32, 33, 34, 35, 36, 37, 38, 39, 40, 41, 42, 43, 44, 45, 46, 47, 48, 49, 50, 51, 52, 53, 54, 55, 56, 57, 58, 59, 60, 61, 62, 63, 64, 65, 66, 67, 68, 69]], 2: [[0], [1, 2, 3]], 3: [[0, 1, 2, 3, 4]], 4: [[0, 1, 2]], 5: [[0, 1, 2, 3, 4, 5]]}\n",
      "\n",
      "\n",
      " --- Working on limb 1, candidate # 0\n",
      "0 out of 1 branches are axons\n",
      "Axon percentage = 0.0\n",
      "Not adding candidate no axon branches detected \n",
      "\n",
      "\n",
      " --- Working on limb 1, candidate # 1\n",
      "68 out of 68 branches are axons\n",
      "Axon percentage = 1.0\n",
      "curr_axon_angle_threshold = 95\n",
      "candidate_nodes = [ 1  2  3  4  5  6  7  8  9 10 11 12 13 14 15 16 17 18 19 20 21 22 23 24\n",
      " 25 26 27 28 29 30 31 32 33 34 35 36 37 38 39 40 41 42 43 44 45 46 47 48\n",
      " 49 50 51 52 53 54 55 56 57 58 59 60 61 62 63 64 65 66 67 68 69]\n",
      "non_axon_branches_on_subgraph = [6]\n",
      "endnodes_to_test = [1897]\n",
      "Skeleton paths distances = [24949.38870931]\n",
      "Filtered indexes = [0]\n",
      "len(filtered_skeletons) = 1\n",
      "sk_angles = [172.77777023]\n",
      "candidate_angles,restr_skels = (array([172.77777023]), [array([[[733004.97687817, 560517.69298869, 844723.80901474],\n",
      "        [733034.55715168, 560613.14261031, 844727.31603715]],\n",
      "\n",
      "       [[733034.55715168, 560613.14261031, 844727.31603715],\n",
      "        [733064.90421704, 560708.37439332, 844730.27072248]],\n",
      "\n",
      "       [[733064.90421704, 560708.37439332, 844730.27072248],\n",
      "        [733097.07043679, 560803.05199596, 844731.48968289]],\n",
      "\n",
      "       [[733097.07043679, 560803.05199596, 844731.48968289],\n",
      "        [733129.44055401, 560897.66370194, 844732.12435938]],\n",
      "\n",
      "       [[733129.44055401, 560897.66370194, 844732.12435938],\n",
      "        [733162.02008846, 560992.20772734, 844732.15893461]],\n",
      "\n",
      "       [[733162.02008846, 560992.20772734, 844732.15893461],\n",
      "        [733193.54769336, 561087.10555049, 844732.69563557]],\n",
      "\n",
      "       [[733193.54769336, 561087.10555049, 844732.69563557],\n",
      "        [733223.85726225, 561182.36122134, 844734.63992309]],\n",
      "\n",
      "       [[733223.85726225, 561182.36122134, 844734.63992309],\n",
      "        [733252.52466677, 561278.06184833, 844738.67597652]],\n",
      "\n",
      "       [[733252.52466677, 561278.06184833, 844738.67597652],\n",
      "        [733277.92342965, 561374.34247397, 844747.89248178]],\n",
      "\n",
      "       [[733277.92342965, 561374.34247397, 844747.89248178],\n",
      "        [733300.20113308, 561470.64358704, 844762.63747519]],\n",
      "\n",
      "       [[733300.20113308, 561470.64358704, 844762.63747519],\n",
      "        [733319.7868113 , 561566.66667255, 844782.14932815]],\n",
      "\n",
      "       [[733319.7868113 , 561566.66667255, 844782.14932815],\n",
      "        [733337.05283131, 561662.29121969, 844805.7247687 ]],\n",
      "\n",
      "       [[733337.05283131, 561662.29121969, 844805.7247687 ],\n",
      "        [733351.47462887, 561757.19878291, 844833.73487759]],\n",
      "\n",
      "       [[733351.47462887, 561757.19878291, 844833.73487759],\n",
      "        [733364.70929091, 561851.88321075, 844863.01395783]],\n",
      "\n",
      "       [[733364.70929091, 561851.88321075, 844863.01395783],\n",
      "        [733377.00089308, 561946.39037996, 844893.30110831]],\n",
      "\n",
      "       [[733377.00089308, 561946.39037996, 844893.30110831],\n",
      "        [733388.09821952, 562040.98289103, 844923.77936965]],\n",
      "\n",
      "       [[733388.09821952, 562040.98289103, 844923.77936965],\n",
      "        [733399.00486893, 562135.61586817, 844954.20159567]],\n",
      "\n",
      "       [[733399.00486893, 562135.61586817, 844954.20159567],\n",
      "        [733409.28333098, 562230.68582605, 844983.46003593]],\n",
      "\n",
      "       [[733409.28333098, 562230.68582605, 844983.46003593],\n",
      "        [733419.5578257 , 562325.82333977, 845012.49111415]],\n",
      "\n",
      "       [[733419.5578257 , 562325.82333977, 845012.49111415],\n",
      "        [733429.79814567, 562421.54278267, 845039.5636851 ]],\n",
      "\n",
      "       [[733429.79814567, 562421.54278267, 845039.5636851 ],\n",
      "        [733440.06666597, 562517.29523161, 845066.50136991]],\n",
      "\n",
      "       [[733440.06666597, 562517.29523161, 845066.50136991],\n",
      "        [733450.87892822, 562613.68408315, 845090.83826135]],\n",
      "\n",
      "       [[733450.87892822, 562613.68408315, 845090.83826135],\n",
      "        [733461.69119047, 562710.07293468, 845115.17515279]],\n",
      "\n",
      "       [[733461.69119047, 562710.07293468, 845115.17515279],\n",
      "        [733473.52483434, 562807.00820053, 845136.69170724]],\n",
      "\n",
      "       [[733473.52483434, 562807.00820053, 845136.69170724],\n",
      "        [733485.41967608, 562903.97620576, 845158.03927627]],\n",
      "\n",
      "       [[733485.41967608, 562903.97620576, 845158.03927627],\n",
      "        [733498.44748443, 563001.30812788, 845176.88461459]],\n",
      "\n",
      "       [[733498.44748443, 563001.30812788, 845176.88461459],\n",
      "        [733511.71530485, 563098.71714357, 845195.1998706 ]],\n",
      "\n",
      "       [[733511.71530485, 563098.71714357, 845195.1998706 ],\n",
      "        [733525.97004599, 563196.35533629, 845211.36875937]],\n",
      "\n",
      "       [[733525.97004599, 563196.35533629, 845211.36875937],\n",
      "        [733540.60192114, 563294.0811049 , 845226.71745249]],\n",
      "\n",
      "       [[733540.60192114, 563294.0811049 , 845226.71745249],\n",
      "        [733555.95140488, 563391.96744514, 845240.15107872]],\n",
      "\n",
      "       [[733555.95140488, 563391.96744514, 845240.15107872],\n",
      "        [733571.67526442, 563489.93755548, 845252.5856162 ]],\n",
      "\n",
      "       [[733571.67526442, 563489.93755548, 845252.5856162 ],\n",
      "        [733587.85630415, 563588.04461255, 845263.12056742]],\n",
      "\n",
      "       [[733587.85630415, 563588.04461255, 845263.12056742],\n",
      "        [733604.29882762, 563686.22999618, 845272.56905218]],\n",
      "\n",
      "       [[733604.29882762, 563686.22999618, 845272.56905218],\n",
      "        [733621.053239  , 563784.53360551, 845279.86977788]],\n",
      "\n",
      "       [[733621.053239  , 563784.53360551, 845279.86977788],\n",
      "        [733637.9654056 , 563882.89701429, 845286.08415107]],\n",
      "\n",
      "       [[733637.9654056 , 563882.89701429, 845286.08415107],\n",
      "        [733655.26806031, 563981.31208862, 845289.62206422]],\n",
      "\n",
      "       [[733655.26806031, 563981.31208862, 845289.62206422],\n",
      "        [733672.7080768 , 564079.7453373 , 845292.2184806 ]],\n",
      "\n",
      "       [[733672.7080768 , 564079.7453373 , 845292.2184806 ],\n",
      "        [733690.94142306, 564178.05492523, 845291.37543361]],\n",
      "\n",
      "       [[733690.94142306, 564178.05492523, 845291.37543361],\n",
      "        [733709.32464294, 564276.33848304, 845289.91083822]],\n",
      "\n",
      "       [[733709.32464294, 564276.33848304, 845289.91083822],\n",
      "        [733729.17489225, 564374.18637261, 845284.27540492]],\n",
      "\n",
      "       [[733729.17489225, 564374.18637261, 845284.27540492],\n",
      "        [733749.39980862, 564471.89036493, 845277.8298474 ]],\n",
      "\n",
      "       [[733749.39980862, 564471.89036493, 845277.8298474 ],\n",
      "        [733771.15451581, 564569.00681511, 845268.07649818]],\n",
      "\n",
      "       [[733771.15451581, 564569.00681511, 845268.07649818],\n",
      "        [733793.68762245, 564665.76323861, 845256.84172889]],\n",
      "\n",
      "       [[733793.68762245, 564665.76323861, 845256.84172889],\n",
      "        [733817.34539329, 564761.99948046, 845243.46654168]],\n",
      "\n",
      "       [[733817.34539329, 564761.99948046, 845243.46654168],\n",
      "        [733841.89838821, 564857.72912132, 845228.27705934]],\n",
      "\n",
      "       [[733841.89838821, 564857.72912132, 845228.27705934],\n",
      "        [733866.917736  , 564953.19485638, 845212.14244854]],\n",
      "\n",
      "       [[733866.917736  , 564953.19485638, 845212.14244854],\n",
      "        [733892.22607052, 565048.31313057, 845194.48184315]],\n",
      "\n",
      "       [[733892.22607052, 565048.31313057, 845194.48184315],\n",
      "        [733917.141539  , 565143.51127869, 845176.70009841]],\n",
      "\n",
      "       [[733917.141539  , 565143.51127869, 845176.70009841],\n",
      "        [733941.27190458, 565238.89228571, 845158.80627387]],\n",
      "\n",
      "       [[733941.27190458, 565238.89228571, 845158.80627387],\n",
      "        [733963.0144958 , 565335.0426982 , 845142.05379016]],\n",
      "\n",
      "       [[733963.0144958 , 565335.0426982 , 845142.05379016],\n",
      "        [733982.48059469, 565431.88012208, 845126.67557994]],\n",
      "\n",
      "       [[733982.48059469, 565431.88012208, 845126.67557994],\n",
      "        [733999.01790414, 565529.57027276, 845113.2026857 ]],\n",
      "\n",
      "       [[733999.01790414, 565529.57027276, 845113.2026857 ],\n",
      "        [734010.72502176, 565628.39508196, 845103.37413123]],\n",
      "\n",
      "       [[734010.72502176, 565628.39508196, 845103.37413123],\n",
      "        [734019.42227031, 565727.73760646, 845096.37201787]],\n",
      "\n",
      "       [[734019.42227031, 565727.73760646, 845096.37201787],\n",
      "        [734026.16677057, 565827.38353945, 845091.71270921]],\n",
      "\n",
      "       [[734026.16677057, 565827.38353945, 845091.71270921],\n",
      "        [734031.69481271, 565927.19313778, 845089.00298676]],\n",
      "\n",
      "       [[734031.69481271, 565927.19313778, 845089.00298676],\n",
      "        [734037.30708736, 566027.03368292, 845088.39642374]],\n",
      "\n",
      "       [[734037.30708736, 566027.03368292, 845088.39642374],\n",
      "        [734043.7268808 , 566126.82321154, 845088.4502266 ]],\n",
      "\n",
      "       [[734043.7268808 , 566126.82321154, 845088.4502266 ],\n",
      "        [734050.76545886, 566226.57361633, 845089.00881787]],\n",
      "\n",
      "       [[734050.76545886, 566226.57361633, 845089.00881787],\n",
      "        [734059.45230273, 566326.1923367 , 845089.81460677]],\n",
      "\n",
      "       [[734059.45230273, 566326.1923367 , 845089.81460677],\n",
      "        [734068.45687398, 566425.78287219, 845090.41195881]],\n",
      "\n",
      "       [[734068.45687398, 566425.78287219, 845090.41195881],\n",
      "        [734078.08754841, 566525.31786747, 845090.598572  ]],\n",
      "\n",
      "       [[734078.08754841, 566525.31786747, 845090.598572  ],\n",
      "        [734087.53795041, 566624.86530531, 845089.92053665]],\n",
      "\n",
      "       [[734087.53795041, 566624.86530531, 845089.92053665],\n",
      "        [734096.86410225, 566724.421319  , 845088.64655483]],\n",
      "\n",
      "       [[734096.86410225, 566724.421319  , 845088.64655483],\n",
      "        [734104.86167369, 566824.04831151, 845085.60599147]],\n",
      "\n",
      "       [[734104.86167369, 566824.04831151, 845085.60599147],\n",
      "        [734112.51801526, 566923.69353409, 845082.11170292]],\n",
      "\n",
      "       [[734112.51801526, 566923.69353409, 845082.11170292],\n",
      "        [734117.48753538, 567023.37754425, 845075.94154529]],\n",
      "\n",
      "       [[734117.48753538, 567023.37754425, 845075.94154529],\n",
      "        [734121.8808566 , 567123.04518066, 845069.26115372]],\n",
      "\n",
      "       [[734121.8808566 , 567123.04518066, 845069.26115372],\n",
      "        [734123.58898399, 567222.62267071, 845060.23863886]],\n",
      "\n",
      "       [[734123.58898399, 567222.62267071, 845060.23863886],\n",
      "        [734124.2772997 , 567322.12160319, 845050.41680342]],\n",
      "\n",
      "       [[734124.2772997 , 567322.12160319, 845050.41680342],\n",
      "        [734123.13780668, 567421.47973689, 845039.16234553]],\n",
      "\n",
      "       [[734123.13780668, 567421.47973689, 845039.16234553],\n",
      "        [734120.96340166, 567520.73873411, 845027.25439249]],\n",
      "\n",
      "       [[734120.96340166, 567520.73873411, 845027.25439249],\n",
      "        [734118.01751851, 567619.92382976, 845014.85928963]],\n",
      "\n",
      "       [[734118.01751851, 567619.92382976, 845014.85928963],\n",
      "        [734114.68934332, 567719.11063821, 845002.57673231]],\n",
      "\n",
      "       [[734114.68934332, 567719.11063821, 845002.57673231],\n",
      "        [734111.29268344, 567818.30415873, 844990.36848517]],\n",
      "\n",
      "       [[734111.29268344, 567818.30415873, 844990.36848517],\n",
      "        [734108.49223055, 567917.64447919, 844979.24831459]],\n",
      "\n",
      "       [[734108.49223055, 567917.64447919, 844979.24831459],\n",
      "        [734105.99848559, 568017.03439929, 844968.53639357]],\n",
      "\n",
      "       [[734105.99848559, 568017.03439929, 844968.53639357],\n",
      "        [734104.29688377, 568116.55242173, 844958.87887004]],\n",
      "\n",
      "       [[734104.29688377, 568116.55242173, 844958.87887004],\n",
      "        [734103.05781669, 568216.12529173, 844949.75673642]],\n",
      "\n",
      "       [[734103.05781669, 568216.12529173, 844949.75673642],\n",
      "        [734102.2733513 , 568315.75206857, 844941.16081011]],\n",
      "\n",
      "       [[734102.2733513 , 568315.75206857, 844941.16081011],\n",
      "        [734101.78609376, 568415.39531257, 844932.73843509]],\n",
      "\n",
      "       [[734101.78609376, 568415.39531257, 844932.73843509],\n",
      "        [734101.42426433, 568515.04550607, 844924.38930245]],\n",
      "\n",
      "       [[734101.42426433, 568515.04550607, 844924.38930245],\n",
      "        [734101.16897199, 568614.66051978, 844915.62830027]],\n",
      "\n",
      "       [[734101.16897199, 568614.66051978, 844915.62830027],\n",
      "        [734100.93046501, 568714.26999077, 844906.80240631]],\n",
      "\n",
      "       [[734100.93046501, 568714.26999077, 844906.80240631],\n",
      "        [734101.05290161, 568813.81485798, 844897.27398719]],\n",
      "\n",
      "       [[734101.05290161, 568813.81485798, 844897.27398719],\n",
      "        [734101.2385564 , 568913.35610289, 844887.7116959 ]],\n",
      "\n",
      "       [[734101.2385564 , 568913.35610289, 844887.7116959 ],\n",
      "        [734102.53711108, 569012.85276793, 844877.77552949]],\n",
      "\n",
      "       [[734102.53711108, 569012.85276793, 844877.77552949],\n",
      "        [734104.01263396, 569112.34744032, 844867.86282819]],\n",
      "\n",
      "       [[734104.01263396, 569112.34744032, 844867.86282819],\n",
      "        [734107.55004889, 569211.81889603, 844858.22352352]],\n",
      "\n",
      "       [[734107.55004889, 569211.81889603, 844858.22352352],\n",
      "        [734111.37906444, 569311.28392969, 844848.67809975]],\n",
      "\n",
      "       [[734111.37906444, 569311.28392969, 844848.67809975],\n",
      "        [734118.09844785, 569410.68530755, 844840.06323079]],\n",
      "\n",
      "       [[734118.09844785, 569410.68530755, 844840.06323079],\n",
      "        [734125.2107191 , 569510.06580778, 844831.6116689 ]],\n",
      "\n",
      "       [[734125.2107191 , 569510.06580778, 844831.6116689 ],\n",
      "        [734135.57682632, 569609.27340281, 844824.51259074]],\n",
      "\n",
      "       [[734135.57682632, 569609.27340281, 844824.51259074],\n",
      "        [734146.45207288, 569708.43453474, 844817.66080234]],\n",
      "\n",
      "       [[734146.45207288, 569708.43453474, 844817.66080234],\n",
      "        [734160.25068865, 569807.32888558, 844812.22889886]],\n",
      "\n",
      "       [[734160.25068865, 569807.32888558, 844812.22889886],\n",
      "        [734174.62669411, 569906.15194015, 844807.15445644]],\n",
      "\n",
      "       [[734174.62669411, 569906.15194015, 844807.15445644],\n",
      "        [734190.96479484, 570004.73271458, 844803.29474415]],\n",
      "\n",
      "       [[734190.96479484, 570004.73271458, 844803.29474415],\n",
      "        [734207.7104818 , 570103.25927597, 844799.92938984]],\n",
      "\n",
      "       [[734207.7104818 , 570103.25927597, 844799.92938984],\n",
      "        [734225.21825323, 570201.68447254, 844797.4883615 ]],\n",
      "\n",
      "       [[734225.21825323, 570201.68447254, 844797.4883615 ],\n",
      "        [734242.55863467, 570300.15103625, 844795.69936144]]])])\n"
     ]
    },
    {
     "name": "stdout",
     "output_type": "stream",
     "text": [
      "base_final_widths = [162.61812219 174.38200891 145.92502785]\n",
      "overall_ais_width = 141.35042771908473\n",
      "ais_width = 160.97505298376765\n",
      "Adding the following branches as true axons: [ 1  2  3  4  5  7  8  9 10 11 12 13 14 15 16 17 18 19 20 21 22 23 24 25\n",
      " 26 27 28 29 30 31 32 33 34 35 36 37 38 39 40 41 42 43 44 45 46 47 48 49\n",
      " 50 51 52 53 54 55 56 57 58 59 60 61 62 63 64 65 66 67 68 69]\n",
      "curr_soma_angle = 172.9\n",
      "max_axon_angle = 172.77777022623957\n",
      "Changing to a better axon candidate\n",
      "\n",
      "\n",
      " --- Working on limb 2, candidate # 0\n",
      "0 out of 1 branches are axons\n",
      "Axon percentage = 0.0\n",
      "Not adding candidate no axon branches detected \n",
      "\n",
      "\n",
      " --- Working on limb 2, candidate # 1\n",
      "0 out of 3 branches are axons\n",
      "Axon percentage = 0.0\n",
      "Not adding candidate no axon branches detected \n",
      "\n",
      "\n",
      " --- Working on limb 3, candidate # 0\n",
      "0 out of 5 branches are axons\n",
      "Axon percentage = 0.0\n",
      "Not adding candidate no axon branches detected \n",
      "\n",
      "\n",
      " --- Working on limb 4, candidate # 0\n",
      "0 out of 3 branches are axons\n",
      "Axon percentage = 0.0\n",
      "Not adding candidate no axon branches detected \n",
      "\n",
      "\n",
      " --- Working on limb 5, candidate # 0\n",
      "4 out of 6 branches are axons\n",
      "Axon percentage = 0.6666666666666666\n",
      "curr_axon_angle_threshold = 120\n",
      "candidate_nodes = [0 1 2 3 4 5]\n",
      "non_axon_branches_on_subgraph = [0 4]\n",
      "endnodes_to_test = []\n",
      "candidate_angles,restr_skels = (None, None)\n",
      "Not adding candidate because no angles (None) passed the threhold 120 \n",
      "Using the best axon approach\n",
      "Using True\n",
      "Limb L1: Axon branches before dendritic path filter = [ 1  2  3  4  5  7  8  9 10 11 12 13 14 15 16 17 18 19 20 21 22 23 24 25\n",
      " 26 27 28 29 30 31 32 33 34 35 36 37 38 39 40 41 42 43 44 45 46 47 48 49\n",
      " 50 51 52 53 54 55 56 57 58 59 60 61 62 63 64 65 66 67 68 69]\n",
      "Limb L1: Axon branches AFTER dendritic path filter = [ 1  2  3  4  5  7  8  9 10 11 12 13 14 15 16 17 18 19 20 21 22 23 24 25\n",
      " 26 27 28 29 30 31 32 33 34 35 36 37 38 39 40 41 42 43 44 45 46 47 48 49\n",
      " 50 51 52 53 54 55 56 57 58 59 60 61 62 63 64 65 66 67 68 69]\n",
      "\n",
      "\n",
      "Part 4: final_true_axons = {'L1': array([ 1,  2,  3,  4,  5,  7,  8,  9, 10, 11, 12, 13, 14, 15, 16, 17, 18,\n",
      "       19, 20, 21, 22, 23, 24, 25, 26, 27, 28, 29, 30, 31, 32, 33, 34, 35,\n",
      "       36, 37, 38, 39, 40, 41, 42, 43, 44, 45, 46, 47, 48, 49, 50, 51, 52,\n",
      "       53, 54, 55, 56, 57, 58, 59, 60, 61, 62, 63, 64, 65, 66, 67, 68, 69])}\n",
      "\n",
      "--- Working on filter 0:\n",
      "function = dendrite_on_axon_merges\n",
      "function __name__ = filter_away_dendrite_on_axon_merges\n",
      "function arguments = {'use_pre_existing_axon_labels': True}\n",
      "\n",
      "\n",
      "\n",
      "\n",
      "\n",
      " ---- Total time for applying filter: 0.3534715175628662 -----\n",
      "Starting axon branch was not the limb starting node so generating border vertices and computing upstream branch\n",
      "upstream_node_to_axon_starting_branch = 6\n",
      "root_curr = [732813.8 554183.9 846115.7]\n",
      "Time for preparing soma vertices and root: 0.0007758140563964844\n",
      "invalidation_d = 2000\n",
      "cc_vertex_thresh = 10\n"
     ]
    },
    {
     "name": "stderr",
     "output_type": "stream",
     "text": [
      "\r",
      "  0%|          | 0/1 [00:00<?, ?it/s]"
     ]
    },
    {
     "data": {
      "application/vnd.jupyter.widget-view+json": {
       "model_id": "3b8874a600c14e39a8bd84456c0dc5dc",
       "version_major": 2,
       "version_minor": 0
      },
      "text/plain": [
       "  0%|          | 0/86926 [00:00<?, ?it/s]"
      ]
     },
     "metadata": {},
     "output_type": "display_data"
    },
    {
     "name": "stderr",
     "output_type": "stream",
     "text": [
      "100%|██████████| 1/1 [00:10<00:00, 10.23s/it]\n"
     ]
    },
    {
     "name": "stdout",
     "output_type": "stream",
     "text": [
      "meshparty_segment_size = 100\n",
      "Time for 1st pass MP skeletonization: 13.311176538467407\n",
      "connecting at the root\n",
      "branches_touching_root = [187]\n",
      "combining close nodes\n",
      "combine_threshold = 1300\n",
      "length of Graph = 25521\n",
      "After combining close endpoints max(kept_branches_idx) = 187, len(kept_branches_idx) = 175\n",
      "empty_indices % = 0.0\n",
      " conflict_indices % = 0.01801827824057492\n"
     ]
    },
    {
     "data": {
      "application/vnd.jupyter.widget-view+json": {
       "model_id": "4f96dc9ca3b4462581860b9bc044ca65",
       "version_major": 2,
       "version_minor": 0
      },
      "text/plain": [
       "  0%|          | 0/80 [00:00<?, ?it/s]"
      ]
     },
     "metadata": {},
     "output_type": "display_data"
    },
    {
     "name": "stdout",
     "output_type": "stream",
     "text": [
      "AFTER face_lookup_resolved_test\n"
     ]
    },
    {
     "data": {
      "application/vnd.jupyter.widget-view+json": {
       "model_id": "7a2da8d44bad42408c415866a0154bf7",
       "version_major": 2,
       "version_minor": 0
      },
      "text/plain": [
       "  0%|          | 0/175 [00:00<?, ?it/s]"
      ]
     },
     "metadata": {},
     "output_type": "display_data"
    },
    {
     "name": "stdout",
     "output_type": "stream",
     "text": [
      "Decomposing first pass: 42.277878284454346\n",
      "Only Using MeshParty Skeletonization and Mesh Correspondence\n",
      "Another print\n",
      "Divinding into MP and MAP pieces: 4.38690185546875e-05\n",
      "Total time for MAP sublimb processing 5.245208740234375e-06\n",
      "---- Working on MP Decomposition #0 ----\n",
      "Using Quicker soma_to_piece_touching_vertices because no MAP and only one sublimb_mesh piece \n",
      "MP filtering soma verts: 6.818771362304688e-05\n",
      "Fixing Possible Soma Extension Branch for Sublimb 0\n",
      "Total time for mesh KDTree = 0.2194654941558838\n",
      "sbv[0].reshape(-1,3) = [[732813.8 554183.9 846115.7]]\n",
      "closest_sk_pt_coord BEFORE = [732246.27079652 554176.92183191 846349.33379708]\n",
      "current_skeleton.shape = (580, 2, 3)\n",
      "node_for_stitch = 2: [732246.27079652 554176.92183191 846349.33379708]\n",
      "node_for_stitch AFTER = 2: [732246.27079652 554176.92183191 846349.33379708]\n",
      "possible_node_loc = [  0 580]\n",
      "possible_node_loc AFTER = [  0 580]\n",
      "curr_shortest_path = [2, 1.0, 0.0]\n",
      "Current stitch point was not a branch or endpoint, shortest_path_length to one = 199.99873995184475\n",
      "Changing the stitch point becasue the distance to end or branch node was 199.99873995184475\n",
      "New stitch point has degree 1\n",
      "change_status for create soma extending pieces = True\n",
      "closest_sk_pt_coord AFTER = [732215.90924915 553986.94840567 846403.98039015]\n",
      "skipping soma 0 because closest skeleton node was already end node\n",
      "endpoints_must_keep = {0: array([[732215.90924915, 553986.94840567, 846403.98039015]])}\n",
      "match_sk_branches = [174]\n",
      "The new branch info was none so skipping \n",
      "\n",
      "No soma extending branch was added for this sublimb even though it had a soma border (means they already existed)\n",
      "MP (because soma touching verts) soma extension add: 15.039546728134155\n",
      "There were not both MAP and MP pieces so skipping the stitch resolving phase\n",
      "Time for decomp of Limb = 72.70169281959534\n",
      "Number of matching vertices = 25\n",
      "Only one endpoint after filtering away the endpoints that are not on the skeleton\n",
      "Using Distance measure skeletal_distance\n",
      "endpoints_must_keep = [[732215.90924915 553986.94840567 846403.98039015]]\n",
      "Number of end_nodes BEFORE filtering = 96\n",
      "all_single_nodes_to_eliminate = [6]\n"
     ]
    },
    {
     "data": {
      "application/vnd.jupyter.widget-view+json": {
       "model_id": "ba76a3aadcf7415eab67f8444331c944",
       "version_major": 2,
       "version_minor": 0
      },
      "text/plain": [
       "  0%|          | 0/9 [00:00<?, ?it/s]"
      ]
     },
     "metadata": {},
     "output_type": "display_data"
    },
    {
     "name": "stdout",
     "output_type": "stream",
     "text": [
      "Removed 9 skeletal branches\n"
     ]
    },
    {
     "data": {
      "application/vnd.jupyter.widget-view+json": {
       "model_id": "15428886b93949d19b99637bf80f4855",
       "version_major": 2,
       "version_minor": 0
      },
      "text/plain": [
       "  0%|          | 0/175 [00:00<?, ?it/s]"
      ]
     },
     "metadata": {},
     "output_type": "display_data"
    },
    {
     "name": "stdout",
     "output_type": "stream",
     "text": [
      "173377 173378\n",
      "For marked faces: None\n",
      "empty_indices % = 0.0009516778368651156\n",
      " conflict_indices % = 0.0\n"
     ]
    },
    {
     "data": {
      "application/vnd.jupyter.widget-view+json": {
       "model_id": "8de1b2b207ab4640a1d4c1faec3af5e5",
       "version_major": 2,
       "version_minor": 0
      },
      "text/plain": [
       "  0%|          | 0/2 [00:00<?, ?it/s]"
      ]
     },
     "metadata": {},
     "output_type": "display_data"
    },
    {
     "name": "stdout",
     "output_type": "stream",
     "text": [
      "AFTER face_lookup_resolved_test\n"
     ]
    },
    {
     "data": {
      "application/vnd.jupyter.widget-view+json": {
       "model_id": "8a20967e58464c629cda16335e0f8170",
       "version_major": 2,
       "version_minor": 0
      },
      "text/plain": [
       "  0%|          | 0/159 [00:00<?, ?it/s]"
      ]
     },
     "metadata": {},
     "output_type": "display_data"
    },
    {
     "name": "stdout",
     "output_type": "stream",
     "text": [
      "Limb Correspondence before stitching = 159\n",
      "Limb Correspondence AFTER stitching = 159\n",
      "Readjusting starting axon branch skeleton\n",
      "Fixing the axon starting branch endpoint to align with upstream branch\n",
      "Starting Branch 12 skeleton before fix: (580, 2, 3)\n",
      "Starting Branch 12 skeleton AFTER fix: (581, 2, 3)\n",
      "concept_network_dict = {0: [<networkx_utils.GraphOrderedEdges object at 0x7f3ccc509668>]}\n",
      "Assigning the old width calculation because no valid new widths\n",
      "\n",
      "\n",
      "----Working on seperate_graph 0----\n",
      "\n",
      "\n",
      "---------Working on soma_idx = 0, soma_group_idx 0, endpt = [732244.83043478 551240.11304348 845546.9826087 ]---------\n",
      "Starting_edge inside branches_to_conept = [[731976.97883867 553687.40467689 846535.56537164]\n",
      " [732244.83043478 551240.11304348 845546.9826087 ]]\n",
      "At the start, starting_node (in terms of the skeleton, that shouldn't match the starting edge) = [13]\n",
      "printing out current edge:\n",
      "[[732244.83043478 551240.11304348 845546.9826087 ]\n",
      " [731976.97883867 553687.40467689 846535.56537164]]\n",
      "edge_endpoints_to_process was empty so exiting loop after 161 iterations\n",
      "starting_node in concept map (that should match the starting edge) = 159\n",
      "Total time for branches to concept conversion = 4.4929962158203125\n",
      "\n",
      "Done generating concept network \n",
      "\n",
      "\n"
     ]
    },
    {
     "data": {
      "application/vnd.jupyter.widget-view+json": {
       "model_id": "5e89b904179647d9a6ef779749a91db4",
       "version_major": 2,
       "version_minor": 0
      },
      "text/plain": [
       "  0%|          | 0/132 [00:00<?, ?it/s]"
      ]
     },
     "metadata": {},
     "output_type": "display_data"
    },
    {
     "data": {
      "application/vnd.jupyter.widget-view+json": {
       "model_id": "b2443452652641a6b7a8573e951e8a39",
       "version_major": 2,
       "version_minor": 0
      },
      "text/plain": [
       "  0%|          | 0/7 [00:00<?, ?it/s]"
      ]
     },
     "metadata": {},
     "output_type": "display_data"
    },
    {
     "data": {
      "application/vnd.jupyter.widget-view+json": {
       "model_id": "fc2f0e90b2a94e2db266ffc7443f4af7",
       "version_major": 2,
       "version_minor": 0
      },
      "text/plain": [
       "  0%|          | 0/39 [00:00<?, ?it/s]"
      ]
     },
     "metadata": {},
     "output_type": "display_data"
    },
    {
     "data": {
      "application/vnd.jupyter.widget-view+json": {
       "model_id": "1b44c97933244da892d69f8cb8dea102",
       "version_major": 2,
       "version_minor": 0
      },
      "text/plain": [
       "  0%|          | 0/3 [00:00<?, ?it/s]"
      ]
     },
     "metadata": {},
     "output_type": "display_data"
    },
    {
     "data": {
      "application/vnd.jupyter.widget-view+json": {
       "model_id": "571f25ca7ce644a598a0a05e28e24308",
       "version_major": 2,
       "version_minor": 0
      },
      "text/plain": [
       "  0%|          | 0/4 [00:00<?, ?it/s]"
      ]
     },
     "metadata": {},
     "output_type": "display_data"
    },
    {
     "data": {
      "application/vnd.jupyter.widget-view+json": {
       "model_id": "0199c1612d074d4c9c40abff37b81a54",
       "version_major": 2,
       "version_minor": 0
      },
      "text/plain": [
       "  0%|          | 0/9 [00:00<?, ?it/s]"
      ]
     },
     "metadata": {},
     "output_type": "display_data"
    },
    {
     "data": {
      "application/vnd.jupyter.widget-view+json": {
       "model_id": "151b516456d548f0a7a241ab45e3dccf",
       "version_major": 2,
       "version_minor": 0
      },
      "text/plain": [
       "  0%|          | 0/7 [00:00<?, ?it/s]"
      ]
     },
     "metadata": {},
     "output_type": "display_data"
    },
    {
     "data": {
      "application/vnd.jupyter.widget-view+json": {
       "model_id": "fd281fe819f24b7096d2ab31045d78dc",
       "version_major": 2,
       "version_minor": 0
      },
      "text/plain": [
       "  0%|          | 0/2 [00:00<?, ?it/s]"
      ]
     },
     "metadata": {},
     "output_type": "display_data"
    },
    {
     "data": {
      "application/vnd.jupyter.widget-view+json": {
       "model_id": "011b744c9f664f868444742a425633c5",
       "version_major": 2,
       "version_minor": 0
      },
      "text/plain": [
       "  0%|          | 0/31 [00:00<?, ?it/s]"
      ]
     },
     "metadata": {},
     "output_type": "display_data"
    },
    {
     "data": {
      "application/vnd.jupyter.widget-view+json": {
       "model_id": "75c12a6b1d6c4027a11d3d528c4f1c1a",
       "version_major": 2,
       "version_minor": 0
      },
      "text/plain": [
       "  0%|          | 0/23 [00:00<?, ?it/s]"
      ]
     },
     "metadata": {},
     "output_type": "display_data"
    },
    {
     "data": {
      "application/vnd.jupyter.widget-view+json": {
       "model_id": "6173d21695a8495b8e7567e28887cc15",
       "version_major": 2,
       "version_minor": 0
      },
      "text/plain": [
       "  0%|          | 0/8 [00:00<?, ?it/s]"
      ]
     },
     "metadata": {},
     "output_type": "display_data"
    },
    {
     "data": {
      "application/vnd.jupyter.widget-view+json": {
       "model_id": "017748557e8847649b81e873eaf94099",
       "version_major": 2,
       "version_minor": 0
      },
      "text/plain": [
       "  0%|          | 0/18 [00:00<?, ?it/s]"
      ]
     },
     "metadata": {},
     "output_type": "display_data"
    },
    {
     "data": {
      "application/vnd.jupyter.widget-view+json": {
       "model_id": "03f126373eda4ea8ad7446672c221017",
       "version_major": 2,
       "version_minor": 0
      },
      "text/plain": [
       "  0%|          | 0/7 [00:00<?, ?it/s]"
      ]
     },
     "metadata": {},
     "output_type": "display_data"
    },
    {
     "data": {
      "application/vnd.jupyter.widget-view+json": {
       "model_id": "15eca53bd1d74dc68278288587c0d260",
       "version_major": 2,
       "version_minor": 0
      },
      "text/plain": [
       "  0%|          | 0/17 [00:00<?, ?it/s]"
      ]
     },
     "metadata": {},
     "output_type": "display_data"
    },
    {
     "data": {
      "application/vnd.jupyter.widget-view+json": {
       "model_id": "6c4175de78dd41019e2666f865324fe6",
       "version_major": 2,
       "version_minor": 0
      },
      "text/plain": [
       "  0%|          | 0/11 [00:00<?, ?it/s]"
      ]
     },
     "metadata": {},
     "output_type": "display_data"
    },
    {
     "data": {
      "application/vnd.jupyter.widget-view+json": {
       "model_id": "7b02eeabdc154af3b4b41f338ea82a35",
       "version_major": 2,
       "version_minor": 0
      },
      "text/plain": [
       "  0%|          | 0/8 [00:00<?, ?it/s]"
      ]
     },
     "metadata": {},
     "output_type": "display_data"
    },
    {
     "data": {
      "application/vnd.jupyter.widget-view+json": {
       "model_id": "09390e1b2fb34aa8809405ea4e908b49",
       "version_major": 2,
       "version_minor": 0
      },
      "text/plain": [
       "  0%|          | 0/22 [00:00<?, ?it/s]"
      ]
     },
     "metadata": {},
     "output_type": "display_data"
    },
    {
     "data": {
      "application/vnd.jupyter.widget-view+json": {
       "model_id": "d88c4c7f03e640b2933ca917eb01da04",
       "version_major": 2,
       "version_minor": 0
      },
      "text/plain": [
       "  0%|          | 0/45 [00:00<?, ?it/s]"
      ]
     },
     "metadata": {},
     "output_type": "display_data"
    },
    {
     "data": {
      "application/vnd.jupyter.widget-view+json": {
       "model_id": "731c414fe96b45a984d48aecb193c8cb",
       "version_major": 2,
       "version_minor": 0
      },
      "text/plain": [
       "  0%|          | 0/7 [00:00<?, ?it/s]"
      ]
     },
     "metadata": {},
     "output_type": "display_data"
    },
    {
     "data": {
      "application/vnd.jupyter.widget-view+json": {
       "model_id": "668089dee0024ababda3b5a4d1ae596a",
       "version_major": 2,
       "version_minor": 0
      },
      "text/plain": [
       "  0%|          | 0/9 [00:00<?, ?it/s]"
      ]
     },
     "metadata": {},
     "output_type": "display_data"
    },
    {
     "data": {
      "application/vnd.jupyter.widget-view+json": {
       "model_id": "7684bc8bffc5490ebaeca0035b48c32c",
       "version_major": 2,
       "version_minor": 0
      },
      "text/plain": [
       "  0%|          | 0/3 [00:00<?, ?it/s]"
      ]
     },
     "metadata": {},
     "output_type": "display_data"
    },
    {
     "data": {
      "application/vnd.jupyter.widget-view+json": {
       "model_id": "afcc9f0c6a6f4f44a84477a6d7dc4363",
       "version_major": 2,
       "version_minor": 0
      },
      "text/plain": [
       "  0%|          | 0/7 [00:00<?, ?it/s]"
      ]
     },
     "metadata": {},
     "output_type": "display_data"
    },
    {
     "data": {
      "application/vnd.jupyter.widget-view+json": {
       "model_id": "ef358d9e7baf437fb4e4bf3d7deed677",
       "version_major": 2,
       "version_minor": 0
      },
      "text/plain": [
       "  0%|          | 0/3 [00:00<?, ?it/s]"
      ]
     },
     "metadata": {},
     "output_type": "display_data"
    },
    {
     "data": {
      "application/vnd.jupyter.widget-view+json": {
       "model_id": "7a61e68388ec4775b217e7cfe27f14d1",
       "version_major": 2,
       "version_minor": 0
      },
      "text/plain": [
       "  0%|          | 0/19 [00:00<?, ?it/s]"
      ]
     },
     "metadata": {},
     "output_type": "display_data"
    },
    {
     "data": {
      "application/vnd.jupyter.widget-view+json": {
       "model_id": "05f0f13648464eba8769f7a6e6414b1a",
       "version_major": 2,
       "version_minor": 0
      },
      "text/plain": [
       "  0%|          | 0/7 [00:00<?, ?it/s]"
      ]
     },
     "metadata": {},
     "output_type": "display_data"
    },
    {
     "data": {
      "application/vnd.jupyter.widget-view+json": {
       "model_id": "e4dd66a447ab4b869a75f64fba88f361",
       "version_major": 2,
       "version_minor": 0
      },
      "text/plain": [
       "  0%|          | 0/10 [00:00<?, ?it/s]"
      ]
     },
     "metadata": {},
     "output_type": "display_data"
    },
    {
     "data": {
      "application/vnd.jupyter.widget-view+json": {
       "model_id": "d026ccb946574388a2fc3dd190a1cbdd",
       "version_major": 2,
       "version_minor": 0
      },
      "text/plain": [
       "  0%|          | 0/21 [00:00<?, ?it/s]"
      ]
     },
     "metadata": {},
     "output_type": "display_data"
    },
    {
     "data": {
      "application/vnd.jupyter.widget-view+json": {
       "model_id": "6c8135474d204cddb58bf1040a30445e",
       "version_major": 2,
       "version_minor": 0
      },
      "text/plain": [
       "  0%|          | 0/66 [00:00<?, ?it/s]"
      ]
     },
     "metadata": {},
     "output_type": "display_data"
    },
    {
     "data": {
      "application/vnd.jupyter.widget-view+json": {
       "model_id": "d15b9bfecae74abf89cea57a493dd424",
       "version_major": 2,
       "version_minor": 0
      },
      "text/plain": [
       "  0%|          | 0/22 [00:00<?, ?it/s]"
      ]
     },
     "metadata": {},
     "output_type": "display_data"
    },
    {
     "data": {
      "application/vnd.jupyter.widget-view+json": {
       "model_id": "65bbb1207f9a4560ad28ffa762f4bc3f",
       "version_major": 2,
       "version_minor": 0
      },
      "text/plain": [
       "  0%|          | 0/3 [00:00<?, ?it/s]"
      ]
     },
     "metadata": {},
     "output_type": "display_data"
    },
    {
     "data": {
      "application/vnd.jupyter.widget-view+json": {
       "model_id": "2da4e19490d44acea669e0d4c887efd6",
       "version_major": 2,
       "version_minor": 0
      },
      "text/plain": [
       "  0%|          | 0/3 [00:00<?, ?it/s]"
      ]
     },
     "metadata": {},
     "output_type": "display_data"
    },
    {
     "data": {
      "application/vnd.jupyter.widget-view+json": {
       "model_id": "190f430e7a9f40c98119f53d64ca4006",
       "version_major": 2,
       "version_minor": 0
      },
      "text/plain": [
       "  0%|          | 0/33 [00:00<?, ?it/s]"
      ]
     },
     "metadata": {},
     "output_type": "display_data"
    },
    {
     "data": {
      "application/vnd.jupyter.widget-view+json": {
       "model_id": "821779fd6c094ccf839ac10883b4802b",
       "version_major": 2,
       "version_minor": 0
      },
      "text/plain": [
       "  0%|          | 0/19 [00:00<?, ?it/s]"
      ]
     },
     "metadata": {},
     "output_type": "display_data"
    },
    {
     "data": {
      "application/vnd.jupyter.widget-view+json": {
       "model_id": "c2d68e7550444a91a18228780765e958",
       "version_major": 2,
       "version_minor": 0
      },
      "text/plain": [
       "  0%|          | 0/30 [00:00<?, ?it/s]"
      ]
     },
     "metadata": {},
     "output_type": "display_data"
    },
    {
     "data": {
      "application/vnd.jupyter.widget-view+json": {
       "model_id": "9c2617ab917e4b54b903cb791da647d8",
       "version_major": 2,
       "version_minor": 0
      },
      "text/plain": [
       "  0%|          | 0/1 [00:00<?, ?it/s]"
      ]
     },
     "metadata": {},
     "output_type": "display_data"
    },
    {
     "data": {
      "application/vnd.jupyter.widget-view+json": {
       "model_id": "4c791b4bb5aa49cfaa7fb5251495cd78",
       "version_major": 2,
       "version_minor": 0
      },
      "text/plain": [
       "  0%|          | 0/15 [00:00<?, ?it/s]"
      ]
     },
     "metadata": {},
     "output_type": "display_data"
    },
    {
     "data": {
      "application/vnd.jupyter.widget-view+json": {
       "model_id": "6f20916998bb42e689e2aeac8c8c6394",
       "version_major": 2,
       "version_minor": 0
      },
      "text/plain": [
       "  0%|          | 0/17 [00:00<?, ?it/s]"
      ]
     },
     "metadata": {},
     "output_type": "display_data"
    },
    {
     "data": {
      "application/vnd.jupyter.widget-view+json": {
       "model_id": "25c787dd67544ba1b42d000e2b29f69b",
       "version_major": 2,
       "version_minor": 0
      },
      "text/plain": [
       "  0%|          | 0/11 [00:00<?, ?it/s]"
      ]
     },
     "metadata": {},
     "output_type": "display_data"
    },
    {
     "data": {
      "application/vnd.jupyter.widget-view+json": {
       "model_id": "ee7e178de50f4e859572fbf4576a4859",
       "version_major": 2,
       "version_minor": 0
      },
      "text/plain": [
       "  0%|          | 0/8 [00:00<?, ?it/s]"
      ]
     },
     "metadata": {},
     "output_type": "display_data"
    },
    {
     "data": {
      "application/vnd.jupyter.widget-view+json": {
       "model_id": "10426a1abea042f08d3a29ae906816bc",
       "version_major": 2,
       "version_minor": 0
      },
      "text/plain": [
       "  0%|          | 0/4 [00:00<?, ?it/s]"
      ]
     },
     "metadata": {},
     "output_type": "display_data"
    },
    {
     "data": {
      "application/vnd.jupyter.widget-view+json": {
       "model_id": "d3fa812fd8ab48c5a04f14dc977a88cb",
       "version_major": 2,
       "version_minor": 0
      },
      "text/plain": [
       "  0%|          | 0/9 [00:00<?, ?it/s]"
      ]
     },
     "metadata": {},
     "output_type": "display_data"
    },
    {
     "data": {
      "application/vnd.jupyter.widget-view+json": {
       "model_id": "8677d862d10841cb96d5428a69c88f43",
       "version_major": 2,
       "version_minor": 0
      },
      "text/plain": [
       "  0%|          | 0/6 [00:00<?, ?it/s]"
      ]
     },
     "metadata": {},
     "output_type": "display_data"
    },
    {
     "data": {
      "application/vnd.jupyter.widget-view+json": {
       "model_id": "6096443ca11942d18c1c281f53b82462",
       "version_major": 2,
       "version_minor": 0
      },
      "text/plain": [
       "  0%|          | 0/17 [00:00<?, ?it/s]"
      ]
     },
     "metadata": {},
     "output_type": "display_data"
    },
    {
     "data": {
      "application/vnd.jupyter.widget-view+json": {
       "model_id": "c0b6c85f7a9c45d98955657855a493a6",
       "version_major": 2,
       "version_minor": 0
      },
      "text/plain": [
       "  0%|          | 0/6 [00:00<?, ?it/s]"
      ]
     },
     "metadata": {},
     "output_type": "display_data"
    },
    {
     "data": {
      "application/vnd.jupyter.widget-view+json": {
       "model_id": "8681ab499a084a57b8cbf9a17f4797be",
       "version_major": 2,
       "version_minor": 0
      },
      "text/plain": [
       "  0%|          | 0/9 [00:00<?, ?it/s]"
      ]
     },
     "metadata": {},
     "output_type": "display_data"
    },
    {
     "data": {
      "application/vnd.jupyter.widget-view+json": {
       "model_id": "1176b6d6c37f4f1d90b7fd4676c4dd15",
       "version_major": 2,
       "version_minor": 0
      },
      "text/plain": [
       "  0%|          | 0/4 [00:00<?, ?it/s]"
      ]
     },
     "metadata": {},
     "output_type": "display_data"
    },
    {
     "data": {
      "application/vnd.jupyter.widget-view+json": {
       "model_id": "696403108f9844e793eb884ea5cfb390",
       "version_major": 2,
       "version_minor": 0
      },
      "text/plain": [
       "  0%|          | 0/2 [00:00<?, ?it/s]"
      ]
     },
     "metadata": {},
     "output_type": "display_data"
    },
    {
     "data": {
      "application/vnd.jupyter.widget-view+json": {
       "model_id": "7d1ebc69c0cf47b6a3ead0a690fb48c9",
       "version_major": 2,
       "version_minor": 0
      },
      "text/plain": [
       "  0%|          | 0/3 [00:00<?, ?it/s]"
      ]
     },
     "metadata": {},
     "output_type": "display_data"
    },
    {
     "data": {
      "application/vnd.jupyter.widget-view+json": {
       "model_id": "21de71802bac443fae286e573db385f1",
       "version_major": 2,
       "version_minor": 0
      },
      "text/plain": [
       "  0%|          | 0/8 [00:00<?, ?it/s]"
      ]
     },
     "metadata": {},
     "output_type": "display_data"
    },
    {
     "data": {
      "application/vnd.jupyter.widget-view+json": {
       "model_id": "e0836df7daa5408d9c876c9e7bba76f0",
       "version_major": 2,
       "version_minor": 0
      },
      "text/plain": [
       "  0%|          | 0/13 [00:00<?, ?it/s]"
      ]
     },
     "metadata": {},
     "output_type": "display_data"
    },
    {
     "data": {
      "application/vnd.jupyter.widget-view+json": {
       "model_id": "b1dba5bd6f7a48bebcc0e25403eb12b9",
       "version_major": 2,
       "version_minor": 0
      },
      "text/plain": [
       "  0%|          | 0/8 [00:00<?, ?it/s]"
      ]
     },
     "metadata": {},
     "output_type": "display_data"
    },
    {
     "data": {
      "application/vnd.jupyter.widget-view+json": {
       "model_id": "9e024e66092b4f9098c96b381cf81e95",
       "version_major": 2,
       "version_minor": 0
      },
      "text/plain": [
       "  0%|          | 0/10 [00:00<?, ?it/s]"
      ]
     },
     "metadata": {},
     "output_type": "display_data"
    },
    {
     "data": {
      "application/vnd.jupyter.widget-view+json": {
       "model_id": "6b54c0e79bd4417685286bf50ab1fc61",
       "version_major": 2,
       "version_minor": 0
      },
      "text/plain": [
       "  0%|          | 0/6 [00:00<?, ?it/s]"
      ]
     },
     "metadata": {},
     "output_type": "display_data"
    },
    {
     "data": {
      "application/vnd.jupyter.widget-view+json": {
       "model_id": "d5515e625b4d47a8bf86cb8e8fa7f686",
       "version_major": 2,
       "version_minor": 0
      },
      "text/plain": [
       "  0%|          | 0/26 [00:00<?, ?it/s]"
      ]
     },
     "metadata": {},
     "output_type": "display_data"
    },
    {
     "data": {
      "application/vnd.jupyter.widget-view+json": {
       "model_id": "4e3981c388194377bdf9a9a2b724451c",
       "version_major": 2,
       "version_minor": 0
      },
      "text/plain": [
       "  0%|          | 0/3 [00:00<?, ?it/s]"
      ]
     },
     "metadata": {},
     "output_type": "display_data"
    },
    {
     "data": {
      "application/vnd.jupyter.widget-view+json": {
       "model_id": "c2a20bd0c5e54d3bb1ce28846e10ca1d",
       "version_major": 2,
       "version_minor": 0
      },
      "text/plain": [
       "  0%|          | 0/3 [00:00<?, ?it/s]"
      ]
     },
     "metadata": {},
     "output_type": "display_data"
    },
    {
     "data": {
      "application/vnd.jupyter.widget-view+json": {
       "model_id": "dad11a3bd5304b25a115180c64b0c2f1",
       "version_major": 2,
       "version_minor": 0
      },
      "text/plain": [
       "  0%|          | 0/11 [00:00<?, ?it/s]"
      ]
     },
     "metadata": {},
     "output_type": "display_data"
    },
    {
     "data": {
      "application/vnd.jupyter.widget-view+json": {
       "model_id": "e475090d35f144b286a7617ca01935f2",
       "version_major": 2,
       "version_minor": 0
      },
      "text/plain": [
       "  0%|          | 0/5 [00:00<?, ?it/s]"
      ]
     },
     "metadata": {},
     "output_type": "display_data"
    },
    {
     "data": {
      "application/vnd.jupyter.widget-view+json": {
       "model_id": "305f52f304b5416d80e5ca3521cd1102",
       "version_major": 2,
       "version_minor": 0
      },
      "text/plain": [
       "  0%|          | 0/10 [00:00<?, ?it/s]"
      ]
     },
     "metadata": {},
     "output_type": "display_data"
    },
    {
     "data": {
      "application/vnd.jupyter.widget-view+json": {
       "model_id": "0a863abf35574ed6a397b54aa4d864ce",
       "version_major": 2,
       "version_minor": 0
      },
      "text/plain": [
       "  0%|          | 0/7 [00:00<?, ?it/s]"
      ]
     },
     "metadata": {},
     "output_type": "display_data"
    },
    {
     "data": {
      "application/vnd.jupyter.widget-view+json": {
       "model_id": "1682a3867dea4b8c8aa86a8cb658c01a",
       "version_major": 2,
       "version_minor": 0
      },
      "text/plain": [
       "  0%|          | 0/16 [00:00<?, ?it/s]"
      ]
     },
     "metadata": {},
     "output_type": "display_data"
    },
    {
     "data": {
      "application/vnd.jupyter.widget-view+json": {
       "model_id": "f469f4a4f33d496dbb16c71debf138a0",
       "version_major": 2,
       "version_minor": 0
      },
      "text/plain": [
       "  0%|          | 0/10 [00:00<?, ?it/s]"
      ]
     },
     "metadata": {},
     "output_type": "display_data"
    },
    {
     "data": {
      "application/vnd.jupyter.widget-view+json": {
       "model_id": "1c8ce5d352e34a029e2e10bd65244b65",
       "version_major": 2,
       "version_minor": 0
      },
      "text/plain": [
       "  0%|          | 0/5 [00:00<?, ?it/s]"
      ]
     },
     "metadata": {},
     "output_type": "display_data"
    },
    {
     "data": {
      "application/vnd.jupyter.widget-view+json": {
       "model_id": "04140241dd0f4690867f4a80ca7bbd17",
       "version_major": 2,
       "version_minor": 0
      },
      "text/plain": [
       "  0%|          | 0/4 [00:00<?, ?it/s]"
      ]
     },
     "metadata": {},
     "output_type": "display_data"
    },
    {
     "data": {
      "application/vnd.jupyter.widget-view+json": {
       "model_id": "1a845978a68c42f5bfa7abb9f4cf7f46",
       "version_major": 2,
       "version_minor": 0
      },
      "text/plain": [
       "  0%|          | 0/15 [00:00<?, ?it/s]"
      ]
     },
     "metadata": {},
     "output_type": "display_data"
    },
    {
     "data": {
      "application/vnd.jupyter.widget-view+json": {
       "model_id": "42f35f4a51004ef499242dfdae75d8a3",
       "version_major": 2,
       "version_minor": 0
      },
      "text/plain": [
       "  0%|          | 0/4 [00:00<?, ?it/s]"
      ]
     },
     "metadata": {},
     "output_type": "display_data"
    },
    {
     "data": {
      "application/vnd.jupyter.widget-view+json": {
       "model_id": "dcb5c744671d449bb8243a127cfcf499",
       "version_major": 2,
       "version_minor": 0
      },
      "text/plain": [
       "  0%|          | 0/11 [00:00<?, ?it/s]"
      ]
     },
     "metadata": {},
     "output_type": "display_data"
    },
    {
     "data": {
      "application/vnd.jupyter.widget-view+json": {
       "model_id": "cd90d229919c4f70b19f1719d2666e78",
       "version_major": 2,
       "version_minor": 0
      },
      "text/plain": [
       "  0%|          | 0/11 [00:00<?, ?it/s]"
      ]
     },
     "metadata": {},
     "output_type": "display_data"
    },
    {
     "data": {
      "application/vnd.jupyter.widget-view+json": {
       "model_id": "566f502f5508405496b33395458a503a",
       "version_major": 2,
       "version_minor": 0
      },
      "text/plain": [
       "  0%|          | 0/10 [00:00<?, ?it/s]"
      ]
     },
     "metadata": {},
     "output_type": "display_data"
    },
    {
     "data": {
      "application/vnd.jupyter.widget-view+json": {
       "model_id": "9ed4f32d959d4eb8a212727c6f621cf8",
       "version_major": 2,
       "version_minor": 0
      },
      "text/plain": [
       "  0%|          | 0/64 [00:00<?, ?it/s]"
      ]
     },
     "metadata": {},
     "output_type": "display_data"
    },
    {
     "data": {
      "application/vnd.jupyter.widget-view+json": {
       "model_id": "4e26615992ed456bbf5441ee91f648c5",
       "version_major": 2,
       "version_minor": 0
      },
      "text/plain": [
       "  0%|          | 0/13 [00:00<?, ?it/s]"
      ]
     },
     "metadata": {},
     "output_type": "display_data"
    },
    {
     "data": {
      "application/vnd.jupyter.widget-view+json": {
       "model_id": "08038c98e22d4803ac52b95e6edcde5d",
       "version_major": 2,
       "version_minor": 0
      },
      "text/plain": [
       "  0%|          | 0/7 [00:00<?, ?it/s]"
      ]
     },
     "metadata": {},
     "output_type": "display_data"
    },
    {
     "data": {
      "application/vnd.jupyter.widget-view+json": {
       "model_id": "4a09d37828ad45e98b5ba42cbd3b76d9",
       "version_major": 2,
       "version_minor": 0
      },
      "text/plain": [
       "  0%|          | 0/2 [00:00<?, ?it/s]"
      ]
     },
     "metadata": {},
     "output_type": "display_data"
    },
    {
     "data": {
      "application/vnd.jupyter.widget-view+json": {
       "model_id": "d99bd970c54843ae936fbc466e542925",
       "version_major": 2,
       "version_minor": 0
      },
      "text/plain": [
       "  0%|          | 0/3 [00:00<?, ?it/s]"
      ]
     },
     "metadata": {},
     "output_type": "display_data"
    },
    {
     "data": {
      "application/vnd.jupyter.widget-view+json": {
       "model_id": "a361fa3eeba343d0b8301051eca0151e",
       "version_major": 2,
       "version_minor": 0
      },
      "text/plain": [
       "  0%|          | 0/12 [00:00<?, ?it/s]"
      ]
     },
     "metadata": {},
     "output_type": "display_data"
    },
    {
     "data": {
      "application/vnd.jupyter.widget-view+json": {
       "model_id": "8023d3a1d53b4d5aad12dc67cbaa02da",
       "version_major": 2,
       "version_minor": 0
      },
      "text/plain": [
       "  0%|          | 0/8 [00:00<?, ?it/s]"
      ]
     },
     "metadata": {},
     "output_type": "display_data"
    },
    {
     "data": {
      "application/vnd.jupyter.widget-view+json": {
       "model_id": "1092ad3ec57844e6bef421f91caa6246",
       "version_major": 2,
       "version_minor": 0
      },
      "text/plain": [
       "  0%|          | 0/23 [00:00<?, ?it/s]"
      ]
     },
     "metadata": {},
     "output_type": "display_data"
    },
    {
     "data": {
      "application/vnd.jupyter.widget-view+json": {
       "model_id": "e7297f3abebe4175b8665f86b1ec5e5b",
       "version_major": 2,
       "version_minor": 0
      },
      "text/plain": [
       "  0%|          | 0/5 [00:00<?, ?it/s]"
      ]
     },
     "metadata": {},
     "output_type": "display_data"
    },
    {
     "data": {
      "application/vnd.jupyter.widget-view+json": {
       "model_id": "36332aa38b724dfd948ab3a8bfa34e9a",
       "version_major": 2,
       "version_minor": 0
      },
      "text/plain": [
       "  0%|          | 0/6 [00:00<?, ?it/s]"
      ]
     },
     "metadata": {},
     "output_type": "display_data"
    },
    {
     "data": {
      "application/vnd.jupyter.widget-view+json": {
       "model_id": "d56e9bbabc2d484096ce27e3c0a482c4",
       "version_major": 2,
       "version_minor": 0
      },
      "text/plain": [
       "  0%|          | 0/6 [00:00<?, ?it/s]"
      ]
     },
     "metadata": {},
     "output_type": "display_data"
    },
    {
     "data": {
      "application/vnd.jupyter.widget-view+json": {
       "model_id": "5edcc815a01143b19986966edc816938",
       "version_major": 2,
       "version_minor": 0
      },
      "text/plain": [
       "  0%|          | 0/46 [00:00<?, ?it/s]"
      ]
     },
     "metadata": {},
     "output_type": "display_data"
    },
    {
     "data": {
      "application/vnd.jupyter.widget-view+json": {
       "model_id": "6ad0fc0664b1485a97a0addf6a615cfc",
       "version_major": 2,
       "version_minor": 0
      },
      "text/plain": [
       "  0%|          | 0/13 [00:00<?, ?it/s]"
      ]
     },
     "metadata": {},
     "output_type": "display_data"
    },
    {
     "data": {
      "application/vnd.jupyter.widget-view+json": {
       "model_id": "bfd1a89ddfa0425baaabb873b68537b0",
       "version_major": 2,
       "version_minor": 0
      },
      "text/plain": [
       "  0%|          | 0/14 [00:00<?, ?it/s]"
      ]
     },
     "metadata": {},
     "output_type": "display_data"
    },
    {
     "data": {
      "application/vnd.jupyter.widget-view+json": {
       "model_id": "68fb1508cbcb49f4a9780f35fa80662f",
       "version_major": 2,
       "version_minor": 0
      },
      "text/plain": [
       "  0%|          | 0/2 [00:00<?, ?it/s]"
      ]
     },
     "metadata": {},
     "output_type": "display_data"
    },
    {
     "data": {
      "application/vnd.jupyter.widget-view+json": {
       "model_id": "f5581a0e2a0645cf8d52e600d4215e70",
       "version_major": 2,
       "version_minor": 0
      },
      "text/plain": [
       "  0%|          | 0/10 [00:00<?, ?it/s]"
      ]
     },
     "metadata": {},
     "output_type": "display_data"
    },
    {
     "data": {
      "application/vnd.jupyter.widget-view+json": {
       "model_id": "4a45b9ca9a7e40a69a1e1ffb5abc8e00",
       "version_major": 2,
       "version_minor": 0
      },
      "text/plain": [
       "  0%|          | 0/12 [00:00<?, ?it/s]"
      ]
     },
     "metadata": {},
     "output_type": "display_data"
    },
    {
     "data": {
      "application/vnd.jupyter.widget-view+json": {
       "model_id": "4bcfaa6dcdfb4b77be94050835b11270",
       "version_major": 2,
       "version_minor": 0
      },
      "text/plain": [
       "  0%|          | 0/4 [00:00<?, ?it/s]"
      ]
     },
     "metadata": {},
     "output_type": "display_data"
    },
    {
     "data": {
      "application/vnd.jupyter.widget-view+json": {
       "model_id": "a2572139ab294fba8b55f6d56483a42f",
       "version_major": 2,
       "version_minor": 0
      },
      "text/plain": [
       "  0%|          | 0/19 [00:00<?, ?it/s]"
      ]
     },
     "metadata": {},
     "output_type": "display_data"
    },
    {
     "data": {
      "application/vnd.jupyter.widget-view+json": {
       "model_id": "1bb98a7777b546bfbc2be606abc7cca6",
       "version_major": 2,
       "version_minor": 0
      },
      "text/plain": [
       "  0%|          | 0/8 [00:00<?, ?it/s]"
      ]
     },
     "metadata": {},
     "output_type": "display_data"
    },
    {
     "data": {
      "application/vnd.jupyter.widget-view+json": {
       "model_id": "89e9e8f4cc634df5a09ff19ad593b313",
       "version_major": 2,
       "version_minor": 0
      },
      "text/plain": [
       "  0%|          | 0/3 [00:00<?, ?it/s]"
      ]
     },
     "metadata": {},
     "output_type": "display_data"
    },
    {
     "data": {
      "application/vnd.jupyter.widget-view+json": {
       "model_id": "f608a617e9ca4ba2a73b291cdd403a28",
       "version_major": 2,
       "version_minor": 0
      },
      "text/plain": [
       "  0%|          | 0/5 [00:00<?, ?it/s]"
      ]
     },
     "metadata": {},
     "output_type": "display_data"
    },
    {
     "data": {
      "application/vnd.jupyter.widget-view+json": {
       "model_id": "bd876871c8014ee78acd0b162bafa131",
       "version_major": 2,
       "version_minor": 0
      },
      "text/plain": [
       "  0%|          | 0/28 [00:00<?, ?it/s]"
      ]
     },
     "metadata": {},
     "output_type": "display_data"
    },
    {
     "data": {
      "application/vnd.jupyter.widget-view+json": {
       "model_id": "6b133741613144d0abe7c140cb303c4f",
       "version_major": 2,
       "version_minor": 0
      },
      "text/plain": [
       "  0%|          | 0/10 [00:00<?, ?it/s]"
      ]
     },
     "metadata": {},
     "output_type": "display_data"
    },
    {
     "data": {
      "application/vnd.jupyter.widget-view+json": {
       "model_id": "4dbf4844e3844fe29b2fe0ddc4207ccd",
       "version_major": 2,
       "version_minor": 0
      },
      "text/plain": [
       "  0%|          | 0/4 [00:00<?, ?it/s]"
      ]
     },
     "metadata": {},
     "output_type": "display_data"
    },
    {
     "data": {
      "application/vnd.jupyter.widget-view+json": {
       "model_id": "b02beeeb788b4ce29406cb0c6415b552",
       "version_major": 2,
       "version_minor": 0
      },
      "text/plain": [
       "  0%|          | 0/11 [00:00<?, ?it/s]"
      ]
     },
     "metadata": {},
     "output_type": "display_data"
    },
    {
     "data": {
      "application/vnd.jupyter.widget-view+json": {
       "model_id": "d050299d9ce84d1d8babd2f7030e1d6b",
       "version_major": 2,
       "version_minor": 0
      },
      "text/plain": [
       "  0%|          | 0/6 [00:00<?, ?it/s]"
      ]
     },
     "metadata": {},
     "output_type": "display_data"
    },
    {
     "data": {
      "application/vnd.jupyter.widget-view+json": {
       "model_id": "d2031790c0ac48d393a377a59b3352c4",
       "version_major": 2,
       "version_minor": 0
      },
      "text/plain": [
       "  0%|          | 0/6 [00:00<?, ?it/s]"
      ]
     },
     "metadata": {},
     "output_type": "display_data"
    },
    {
     "data": {
      "application/vnd.jupyter.widget-view+json": {
       "model_id": "88fdb13b4e8e4953bb520ad3cb461b32",
       "version_major": 2,
       "version_minor": 0
      },
      "text/plain": [
       "  0%|          | 0/3 [00:00<?, ?it/s]"
      ]
     },
     "metadata": {},
     "output_type": "display_data"
    },
    {
     "data": {
      "application/vnd.jupyter.widget-view+json": {
       "model_id": "ead5e82cc2594b6daa75c07a6ba81f6f",
       "version_major": 2,
       "version_minor": 0
      },
      "text/plain": [
       "  0%|          | 0/26 [00:00<?, ?it/s]"
      ]
     },
     "metadata": {},
     "output_type": "display_data"
    },
    {
     "data": {
      "application/vnd.jupyter.widget-view+json": {
       "model_id": "aeb72971df7c4c7286e920edc89dee34",
       "version_major": 2,
       "version_minor": 0
      },
      "text/plain": [
       "  0%|          | 0/14 [00:00<?, ?it/s]"
      ]
     },
     "metadata": {},
     "output_type": "display_data"
    },
    {
     "data": {
      "application/vnd.jupyter.widget-view+json": {
       "model_id": "19b864b15a894c68948347fcd370b4df",
       "version_major": 2,
       "version_minor": 0
      },
      "text/plain": [
       "  0%|          | 0/7 [00:00<?, ?it/s]"
      ]
     },
     "metadata": {},
     "output_type": "display_data"
    },
    {
     "data": {
      "application/vnd.jupyter.widget-view+json": {
       "model_id": "407f2100532d4f1d8aa92373621bafb8",
       "version_major": 2,
       "version_minor": 0
      },
      "text/plain": [
       "  0%|          | 0/14 [00:00<?, ?it/s]"
      ]
     },
     "metadata": {},
     "output_type": "display_data"
    },
    {
     "data": {
      "application/vnd.jupyter.widget-view+json": {
       "model_id": "9b156abd298b4ab9a2e3b7d3a2990b0c",
       "version_major": 2,
       "version_minor": 0
      },
      "text/plain": [
       "  0%|          | 0/3 [00:00<?, ?it/s]"
      ]
     },
     "metadata": {},
     "output_type": "display_data"
    },
    {
     "data": {
      "application/vnd.jupyter.widget-view+json": {
       "model_id": "becaa448fdd6474390cae62eea709709",
       "version_major": 2,
       "version_minor": 0
      },
      "text/plain": [
       "  0%|          | 0/6 [00:00<?, ?it/s]"
      ]
     },
     "metadata": {},
     "output_type": "display_data"
    },
    {
     "data": {
      "application/vnd.jupyter.widget-view+json": {
       "model_id": "ef1a95da518d468fa05c79552fe6abb7",
       "version_major": 2,
       "version_minor": 0
      },
      "text/plain": [
       "  0%|          | 0/2 [00:00<?, ?it/s]"
      ]
     },
     "metadata": {},
     "output_type": "display_data"
    },
    {
     "data": {
      "application/vnd.jupyter.widget-view+json": {
       "model_id": "6db5a9d7ca67490ead9c15b5a780f15f",
       "version_major": 2,
       "version_minor": 0
      },
      "text/plain": [
       "  0%|          | 0/5 [00:00<?, ?it/s]"
      ]
     },
     "metadata": {},
     "output_type": "display_data"
    },
    {
     "data": {
      "application/vnd.jupyter.widget-view+json": {
       "model_id": "b725af265d73410084a156b855d4d68b",
       "version_major": 2,
       "version_minor": 0
      },
      "text/plain": [
       "  0%|          | 0/16 [00:00<?, ?it/s]"
      ]
     },
     "metadata": {},
     "output_type": "display_data"
    },
    {
     "data": {
      "application/vnd.jupyter.widget-view+json": {
       "model_id": "86d7941b070e463baa7e1b00f32625aa",
       "version_major": 2,
       "version_minor": 0
      },
      "text/plain": [
       "  0%|          | 0/5 [00:00<?, ?it/s]"
      ]
     },
     "metadata": {},
     "output_type": "display_data"
    },
    {
     "data": {
      "application/vnd.jupyter.widget-view+json": {
       "model_id": "e0a4c3a0bba84eacb444c9c283ef049b",
       "version_major": 2,
       "version_minor": 0
      },
      "text/plain": [
       "  0%|          | 0/6 [00:00<?, ?it/s]"
      ]
     },
     "metadata": {},
     "output_type": "display_data"
    },
    {
     "data": {
      "application/vnd.jupyter.widget-view+json": {
       "model_id": "45dab68cf9994530bb1b5ccf1c5ee7e1",
       "version_major": 2,
       "version_minor": 0
      },
      "text/plain": [
       "  0%|          | 0/2 [00:00<?, ?it/s]"
      ]
     },
     "metadata": {},
     "output_type": "display_data"
    },
    {
     "data": {
      "application/vnd.jupyter.widget-view+json": {
       "model_id": "8eaddcf9f68c4201ac3922585944cb31",
       "version_major": 2,
       "version_minor": 0
      },
      "text/plain": [
       "  0%|          | 0/15 [00:00<?, ?it/s]"
      ]
     },
     "metadata": {},
     "output_type": "display_data"
    },
    {
     "data": {
      "application/vnd.jupyter.widget-view+json": {
       "model_id": "9780856257f4473c80470337dc166c7e",
       "version_major": 2,
       "version_minor": 0
      },
      "text/plain": [
       "  0%|          | 0/3 [00:00<?, ?it/s]"
      ]
     },
     "metadata": {},
     "output_type": "display_data"
    },
    {
     "data": {
      "application/vnd.jupyter.widget-view+json": {
       "model_id": "cc52a5e2ef264001ad8948bca02c266b",
       "version_major": 2,
       "version_minor": 0
      },
      "text/plain": [
       "  0%|          | 0/1 [00:00<?, ?it/s]"
      ]
     },
     "metadata": {},
     "output_type": "display_data"
    },
    {
     "data": {
      "application/vnd.jupyter.widget-view+json": {
       "model_id": "d19968b901504d9b971129b8cff1e142",
       "version_major": 2,
       "version_minor": 0
      },
      "text/plain": [
       "  0%|          | 0/3 [00:00<?, ?it/s]"
      ]
     },
     "metadata": {},
     "output_type": "display_data"
    },
    {
     "data": {
      "application/vnd.jupyter.widget-view+json": {
       "model_id": "299a7822863947d9933ce6a2f569f225",
       "version_major": 2,
       "version_minor": 0
      },
      "text/plain": [
       "  0%|          | 0/21 [00:00<?, ?it/s]"
      ]
     },
     "metadata": {},
     "output_type": "display_data"
    },
    {
     "data": {
      "application/vnd.jupyter.widget-view+json": {
       "model_id": "b68a440604e94fc68a459d4c45987213",
       "version_major": 2,
       "version_minor": 0
      },
      "text/plain": [
       "  0%|          | 0/29 [00:00<?, ?it/s]"
      ]
     },
     "metadata": {},
     "output_type": "display_data"
    },
    {
     "data": {
      "application/vnd.jupyter.widget-view+json": {
       "model_id": "fc4f868677704022a4d1f7ef5f60924c",
       "version_major": 2,
       "version_minor": 0
      },
      "text/plain": [
       "  0%|          | 0/15 [00:00<?, ?it/s]"
      ]
     },
     "metadata": {},
     "output_type": "display_data"
    },
    {
     "data": {
      "application/vnd.jupyter.widget-view+json": {
       "model_id": "74b533688312477aac9dd944a6347cdd",
       "version_major": 2,
       "version_minor": 0
      },
      "text/plain": [
       "  0%|          | 0/23 [00:00<?, ?it/s]"
      ]
     },
     "metadata": {},
     "output_type": "display_data"
    },
    {
     "data": {
      "application/vnd.jupyter.widget-view+json": {
       "model_id": "f2834623c0a142ce808e8c1ea451624c",
       "version_major": 2,
       "version_minor": 0
      },
      "text/plain": [
       "  0%|          | 0/3 [00:00<?, ?it/s]"
      ]
     },
     "metadata": {},
     "output_type": "display_data"
    },
    {
     "data": {
      "application/vnd.jupyter.widget-view+json": {
       "model_id": "c9279945c66248f5963e584a1cc3b308",
       "version_major": 2,
       "version_minor": 0
      },
      "text/plain": [
       "  0%|          | 0/25 [00:00<?, ?it/s]"
      ]
     },
     "metadata": {},
     "output_type": "display_data"
    },
    {
     "data": {
      "application/vnd.jupyter.widget-view+json": {
       "model_id": "4f07662499f84fc8a9be0d5747a221d0",
       "version_major": 2,
       "version_minor": 0
      },
      "text/plain": [
       "  0%|          | 0/6 [00:00<?, ?it/s]"
      ]
     },
     "metadata": {},
     "output_type": "display_data"
    },
    {
     "data": {
      "application/vnd.jupyter.widget-view+json": {
       "model_id": "3a0d59a798324a8b867cff195caf7578",
       "version_major": 2,
       "version_minor": 0
      },
      "text/plain": [
       "  0%|          | 0/7 [00:00<?, ?it/s]"
      ]
     },
     "metadata": {},
     "output_type": "display_data"
    },
    {
     "data": {
      "application/vnd.jupyter.widget-view+json": {
       "model_id": "e7ea341f0c8143ddaeceabe4bfecd285",
       "version_major": 2,
       "version_minor": 0
      },
      "text/plain": [
       "  0%|          | 0/1 [00:00<?, ?it/s]"
      ]
     },
     "metadata": {},
     "output_type": "display_data"
    },
    {
     "data": {
      "application/vnd.jupyter.widget-view+json": {
       "model_id": "05bc4e0fc9594de5a5fe97a49eb88ce4",
       "version_major": 2,
       "version_minor": 0
      },
      "text/plain": [
       "  0%|          | 0/34 [00:00<?, ?it/s]"
      ]
     },
     "metadata": {},
     "output_type": "display_data"
    },
    {
     "data": {
      "application/vnd.jupyter.widget-view+json": {
       "model_id": "6a9cb29577444185bc7e35306445dc4c",
       "version_major": 2,
       "version_minor": 0
      },
      "text/plain": [
       "  0%|          | 0/13 [00:00<?, ?it/s]"
      ]
     },
     "metadata": {},
     "output_type": "display_data"
    },
    {
     "data": {
      "application/vnd.jupyter.widget-view+json": {
       "model_id": "d24ae137baa147acbdbb507f03a35c95",
       "version_major": 2,
       "version_minor": 0
      },
      "text/plain": [
       "  0%|          | 0/5 [00:00<?, ?it/s]"
      ]
     },
     "metadata": {},
     "output_type": "display_data"
    },
    {
     "data": {
      "application/vnd.jupyter.widget-view+json": {
       "model_id": "44b680854f394cb59081e0e7621d9b9a",
       "version_major": 2,
       "version_minor": 0
      },
      "text/plain": [
       "  0%|          | 0/4 [00:00<?, ?it/s]"
      ]
     },
     "metadata": {},
     "output_type": "display_data"
    },
    {
     "data": {
      "application/vnd.jupyter.widget-view+json": {
       "model_id": "873e1f6c71d344b68ba4cfdc04933806",
       "version_major": 2,
       "version_minor": 0
      },
      "text/plain": [
       "  0%|          | 0/6 [00:00<?, ?it/s]"
      ]
     },
     "metadata": {},
     "output_type": "display_data"
    },
    {
     "data": {
      "application/vnd.jupyter.widget-view+json": {
       "model_id": "7c55d5eb700e4f5fb2e3a19b17aaf8f4",
       "version_major": 2,
       "version_minor": 0
      },
      "text/plain": [
       "  0%|          | 0/8 [00:00<?, ?it/s]"
      ]
     },
     "metadata": {},
     "output_type": "display_data"
    },
    {
     "data": {
      "application/vnd.jupyter.widget-view+json": {
       "model_id": "654c9889948d44b68c4158c1b6cf23a3",
       "version_major": 2,
       "version_minor": 0
      },
      "text/plain": [
       "  0%|          | 0/3 [00:00<?, ?it/s]"
      ]
     },
     "metadata": {},
     "output_type": "display_data"
    },
    {
     "data": {
      "application/vnd.jupyter.widget-view+json": {
       "model_id": "06c6feebadac431b996679992335bd3e",
       "version_major": 2,
       "version_minor": 0
      },
      "text/plain": [
       "  0%|          | 0/7 [00:00<?, ?it/s]"
      ]
     },
     "metadata": {},
     "output_type": "display_data"
    },
    {
     "data": {
      "application/vnd.jupyter.widget-view+json": {
       "model_id": "6b1a14e1ae8f4fe09005894d1704f7a1",
       "version_major": 2,
       "version_minor": 0
      },
      "text/plain": [
       "  0%|          | 0/17 [00:00<?, ?it/s]"
      ]
     },
     "metadata": {},
     "output_type": "display_data"
    },
    {
     "data": {
      "application/vnd.jupyter.widget-view+json": {
       "model_id": "e7e229242a984129b9eef3569394043b",
       "version_major": 2,
       "version_minor": 0
      },
      "text/plain": [
       "  0%|          | 0/5 [00:00<?, ?it/s]"
      ]
     },
     "metadata": {},
     "output_type": "display_data"
    },
    {
     "data": {
      "application/vnd.jupyter.widget-view+json": {
       "model_id": "48415f684bb54a69870e488bbe1d6119",
       "version_major": 2,
       "version_minor": 0
      },
      "text/plain": [
       "  0%|          | 0/24 [00:00<?, ?it/s]"
      ]
     },
     "metadata": {},
     "output_type": "display_data"
    },
    {
     "data": {
      "application/vnd.jupyter.widget-view+json": {
       "model_id": "c289495ee1a64932b834e8ec11a84f0c",
       "version_major": 2,
       "version_minor": 0
      },
      "text/plain": [
       "  0%|          | 0/11 [00:00<?, ?it/s]"
      ]
     },
     "metadata": {},
     "output_type": "display_data"
    },
    {
     "data": {
      "application/vnd.jupyter.widget-view+json": {
       "model_id": "4cc476820f0b40c3b0f3d65c144d55ce",
       "version_major": 2,
       "version_minor": 0
      },
      "text/plain": [
       "  0%|          | 0/15 [00:00<?, ?it/s]"
      ]
     },
     "metadata": {},
     "output_type": "display_data"
    },
    {
     "data": {
      "application/vnd.jupyter.widget-view+json": {
       "model_id": "c9e27e887da549b2982c485ca068f3e5",
       "version_major": 2,
       "version_minor": 0
      },
      "text/plain": [
       "  0%|          | 0/22 [00:00<?, ?it/s]"
      ]
     },
     "metadata": {},
     "output_type": "display_data"
    },
    {
     "data": {
      "application/vnd.jupyter.widget-view+json": {
       "model_id": "5bb27535e03842daab9153eb4a746677",
       "version_major": 2,
       "version_minor": 0
      },
      "text/plain": [
       "  0%|          | 0/16 [00:00<?, ?it/s]"
      ]
     },
     "metadata": {},
     "output_type": "display_data"
    },
    {
     "data": {
      "application/vnd.jupyter.widget-view+json": {
       "model_id": "17d46b8bb19649a185efd881b1daccc6",
       "version_major": 2,
       "version_minor": 0
      },
      "text/plain": [
       "  0%|          | 0/53 [00:00<?, ?it/s]"
      ]
     },
     "metadata": {},
     "output_type": "display_data"
    },
    {
     "data": {
      "application/vnd.jupyter.widget-view+json": {
       "model_id": "9a895baf496d47f796b61a253316167f",
       "version_major": 2,
       "version_minor": 0
      },
      "text/plain": [
       "  0%|          | 0/14 [00:00<?, ?it/s]"
      ]
     },
     "metadata": {},
     "output_type": "display_data"
    },
    {
     "data": {
      "application/vnd.jupyter.widget-view+json": {
       "model_id": "d0effdf3ec464f9a82c3ddbf2a048b87",
       "version_major": 2,
       "version_minor": 0
      },
      "text/plain": [
       "  0%|          | 0/23 [00:00<?, ?it/s]"
      ]
     },
     "metadata": {},
     "output_type": "display_data"
    },
    {
     "data": {
      "application/vnd.jupyter.widget-view+json": {
       "model_id": "9aff9ea93fb141c388a2c58380b45f16",
       "version_major": 2,
       "version_minor": 0
      },
      "text/plain": [
       "  0%|          | 0/17 [00:00<?, ?it/s]"
      ]
     },
     "metadata": {},
     "output_type": "display_data"
    },
    {
     "data": {
      "application/vnd.jupyter.widget-view+json": {
       "model_id": "38875fc1928142c982c591c4552d234b",
       "version_major": 2,
       "version_minor": 0
      },
      "text/plain": [
       "  0%|          | 0/23 [00:00<?, ?it/s]"
      ]
     },
     "metadata": {},
     "output_type": "display_data"
    },
    {
     "data": {
      "application/vnd.jupyter.widget-view+json": {
       "model_id": "97b7456acb414b5fab5582d9ec85a8b1",
       "version_major": 2,
       "version_minor": 0
      },
      "text/plain": [
       "  0%|          | 0/33 [00:00<?, ?it/s]"
      ]
     },
     "metadata": {},
     "output_type": "display_data"
    },
    {
     "data": {
      "application/vnd.jupyter.widget-view+json": {
       "model_id": "836b909333cf4ed4ae9b1b50840ade6c",
       "version_major": 2,
       "version_minor": 0
      },
      "text/plain": [
       "  0%|          | 0/35 [00:00<?, ?it/s]"
      ]
     },
     "metadata": {},
     "output_type": "display_data"
    },
    {
     "data": {
      "application/vnd.jupyter.widget-view+json": {
       "model_id": "84eb377c7f1f495b8451bd4311b6e972",
       "version_major": 2,
       "version_minor": 0
      },
      "text/plain": [
       "  0%|          | 0/52 [00:00<?, ?it/s]"
      ]
     },
     "metadata": {},
     "output_type": "display_data"
    },
    {
     "data": {
      "application/vnd.jupyter.widget-view+json": {
       "model_id": "c64af819128d45b8952c1ad091b82483",
       "version_major": 2,
       "version_minor": 0
      },
      "text/plain": [
       "  0%|          | 0/33 [00:00<?, ?it/s]"
      ]
     },
     "metadata": {},
     "output_type": "display_data"
    },
    {
     "data": {
      "application/vnd.jupyter.widget-view+json": {
       "model_id": "daac9c1e078e4de6a2634539a6de4745",
       "version_major": 2,
       "version_minor": 0
      },
      "text/plain": [
       "  0%|          | 0/10 [00:00<?, ?it/s]"
      ]
     },
     "metadata": {},
     "output_type": "display_data"
    },
    {
     "data": {
      "application/vnd.jupyter.widget-view+json": {
       "model_id": "e7924f1063a4446c8d6568d386413c64",
       "version_major": 2,
       "version_minor": 0
      },
      "text/plain": [
       "  0%|          | 0/28 [00:00<?, ?it/s]"
      ]
     },
     "metadata": {},
     "output_type": "display_data"
    },
    {
     "data": {
      "application/vnd.jupyter.widget-view+json": {
       "model_id": "54e87df7433b4a41821ab79260030b8d",
       "version_major": 2,
       "version_minor": 0
      },
      "text/plain": [
       "  0%|          | 0/16 [00:00<?, ?it/s]"
      ]
     },
     "metadata": {},
     "output_type": "display_data"
    },
    {
     "data": {
      "application/vnd.jupyter.widget-view+json": {
       "model_id": "76e84fa7e93e430491764670d76f2479",
       "version_major": 2,
       "version_minor": 0
      },
      "text/plain": [
       "  0%|          | 0/12 [00:00<?, ?it/s]"
      ]
     },
     "metadata": {},
     "output_type": "display_data"
    },
    {
     "data": {
      "application/vnd.jupyter.widget-view+json": {
       "model_id": "f3bacce9f5be4a2190c630286b11deb0",
       "version_major": 2,
       "version_minor": 0
      },
      "text/plain": [
       "  0%|          | 0/44 [00:00<?, ?it/s]"
      ]
     },
     "metadata": {},
     "output_type": "display_data"
    },
    {
     "data": {
      "application/vnd.jupyter.widget-view+json": {
       "model_id": "cde260b4bbe44ffb94b04eb3f047adce",
       "version_major": 2,
       "version_minor": 0
      },
      "text/plain": [
       "  0%|          | 0/20 [00:00<?, ?it/s]"
      ]
     },
     "metadata": {},
     "output_type": "display_data"
    },
    {
     "data": {
      "application/vnd.jupyter.widget-view+json": {
       "model_id": "bd1ea8bb244a4761a707c550c9830ce4",
       "version_major": 2,
       "version_minor": 0
      },
      "text/plain": [
       "  0%|          | 0/15 [00:00<?, ?it/s]"
      ]
     },
     "metadata": {},
     "output_type": "display_data"
    },
    {
     "data": {
      "application/vnd.jupyter.widget-view+json": {
       "model_id": "1ab38f353b6f4e1a836e155f4626fe22",
       "version_major": 2,
       "version_minor": 0
      },
      "text/plain": [
       "  0%|          | 0/44 [00:00<?, ?it/s]"
      ]
     },
     "metadata": {},
     "output_type": "display_data"
    },
    {
     "data": {
      "application/vnd.jupyter.widget-view+json": {
       "model_id": "925d4ef20b8942cda27cb56924f886da",
       "version_major": 2,
       "version_minor": 0
      },
      "text/plain": [
       "  0%|          | 0/21 [00:00<?, ?it/s]"
      ]
     },
     "metadata": {},
     "output_type": "display_data"
    },
    {
     "data": {
      "application/vnd.jupyter.widget-view+json": {
       "model_id": "b9f725ddd08a4e24abd275db40d1311c",
       "version_major": 2,
       "version_minor": 0
      },
      "text/plain": [
       "  0%|          | 0/30 [00:00<?, ?it/s]"
      ]
     },
     "metadata": {},
     "output_type": "display_data"
    },
    {
     "data": {
      "application/vnd.jupyter.widget-view+json": {
       "model_id": "21d4c05510594ba6ba88e1ec30074347",
       "version_major": 2,
       "version_minor": 0
      },
      "text/plain": [
       "  0%|          | 0/14 [00:00<?, ?it/s]"
      ]
     },
     "metadata": {},
     "output_type": "display_data"
    },
    {
     "data": {
      "application/vnd.jupyter.widget-view+json": {
       "model_id": "ce178b127d604a92ab78e1b89ff4f7bf",
       "version_major": 2,
       "version_minor": 0
      },
      "text/plain": [
       "  0%|          | 0/73 [00:00<?, ?it/s]"
      ]
     },
     "metadata": {},
     "output_type": "display_data"
    },
    {
     "data": {
      "application/vnd.jupyter.widget-view+json": {
       "model_id": "de2ff54bb4854c33bb8614ac4428028a",
       "version_major": 2,
       "version_minor": 0
      },
      "text/plain": [
       "  0%|          | 0/8 [00:00<?, ?it/s]"
      ]
     },
     "metadata": {},
     "output_type": "display_data"
    },
    {
     "data": {
      "application/vnd.jupyter.widget-view+json": {
       "model_id": "b0ccfe1c0e8f4f4d8a97158315a2a77f",
       "version_major": 2,
       "version_minor": 0
      },
      "text/plain": [
       "  0%|          | 0/12 [00:00<?, ?it/s]"
      ]
     },
     "metadata": {},
     "output_type": "display_data"
    },
    {
     "data": {
      "application/vnd.jupyter.widget-view+json": {
       "model_id": "0f656a5852f24180b4cb2ebfd34b4f67",
       "version_major": 2,
       "version_minor": 0
      },
      "text/plain": [
       "  0%|          | 0/16 [00:00<?, ?it/s]"
      ]
     },
     "metadata": {},
     "output_type": "display_data"
    },
    {
     "data": {
      "application/vnd.jupyter.widget-view+json": {
       "model_id": "1b1d05886a7b428096e760bd6dbb9530",
       "version_major": 2,
       "version_minor": 0
      },
      "text/plain": [
       "  0%|          | 0/48 [00:00<?, ?it/s]"
      ]
     },
     "metadata": {},
     "output_type": "display_data"
    },
    {
     "data": {
      "application/vnd.jupyter.widget-view+json": {
       "model_id": "89f2e8ce79524b61a0ab5288d4a2f466",
       "version_major": 2,
       "version_minor": 0
      },
      "text/plain": [
       "  0%|          | 0/4 [00:00<?, ?it/s]"
      ]
     },
     "metadata": {},
     "output_type": "display_data"
    },
    {
     "data": {
      "application/vnd.jupyter.widget-view+json": {
       "model_id": "fae13c752f5542a289266351d7baa9eb",
       "version_major": 2,
       "version_minor": 0
      },
      "text/plain": [
       "  0%|          | 0/16 [00:00<?, ?it/s]"
      ]
     },
     "metadata": {},
     "output_type": "display_data"
    },
    {
     "data": {
      "application/vnd.jupyter.widget-view+json": {
       "model_id": "2a0e282fe8714965beb5b2cc97fc4b0a",
       "version_major": 2,
       "version_minor": 0
      },
      "text/plain": [
       "  0%|          | 0/62 [00:00<?, ?it/s]"
      ]
     },
     "metadata": {},
     "output_type": "display_data"
    },
    {
     "data": {
      "application/vnd.jupyter.widget-view+json": {
       "model_id": "66dd6e5fa9074eeab2353b2f5bc5a7f0",
       "version_major": 2,
       "version_minor": 0
      },
      "text/plain": [
       "  0%|          | 0/14 [00:00<?, ?it/s]"
      ]
     },
     "metadata": {},
     "output_type": "display_data"
    },
    {
     "data": {
      "application/vnd.jupyter.widget-view+json": {
       "model_id": "ff660b70c60e4a2a820af3bce8f9cd06",
       "version_major": 2,
       "version_minor": 0
      },
      "text/plain": [
       "  0%|          | 0/13 [00:00<?, ?it/s]"
      ]
     },
     "metadata": {},
     "output_type": "display_data"
    },
    {
     "data": {
      "application/vnd.jupyter.widget-view+json": {
       "model_id": "f5f835971ced45c1a4e17d189966a438",
       "version_major": 2,
       "version_minor": 0
      },
      "text/plain": [
       "  0%|          | 0/12 [00:00<?, ?it/s]"
      ]
     },
     "metadata": {},
     "output_type": "display_data"
    },
    {
     "data": {
      "application/vnd.jupyter.widget-view+json": {
       "model_id": "6dc958ca3c0b4dbdb9200d72da46e1bb",
       "version_major": 2,
       "version_minor": 0
      },
      "text/plain": [
       "  0%|          | 0/10 [00:00<?, ?it/s]"
      ]
     },
     "metadata": {},
     "output_type": "display_data"
    },
    {
     "data": {
      "application/vnd.jupyter.widget-view+json": {
       "model_id": "0153a3a1061f4a47b165846cfd3e68fe",
       "version_major": 2,
       "version_minor": 0
      },
      "text/plain": [
       "  0%|          | 0/13 [00:00<?, ?it/s]"
      ]
     },
     "metadata": {},
     "output_type": "display_data"
    },
    {
     "data": {
      "application/vnd.jupyter.widget-view+json": {
       "model_id": "e38f640b072543b0a2d585a4869aa66c",
       "version_major": 2,
       "version_minor": 0
      },
      "text/plain": [
       "  0%|          | 0/14 [00:00<?, ?it/s]"
      ]
     },
     "metadata": {},
     "output_type": "display_data"
    },
    {
     "data": {
      "application/vnd.jupyter.widget-view+json": {
       "model_id": "dcacde2f585d467fba31874d3180fad9",
       "version_major": 2,
       "version_minor": 0
      },
      "text/plain": [
       "  0%|          | 0/47 [00:00<?, ?it/s]"
      ]
     },
     "metadata": {},
     "output_type": "display_data"
    },
    {
     "data": {
      "application/vnd.jupyter.widget-view+json": {
       "model_id": "b5b73bb96d7846a19d9b9bd275ae7d9f",
       "version_major": 2,
       "version_minor": 0
      },
      "text/plain": [
       "  0%|          | 0/10 [00:00<?, ?it/s]"
      ]
     },
     "metadata": {},
     "output_type": "display_data"
    },
    {
     "data": {
      "application/vnd.jupyter.widget-view+json": {
       "model_id": "170b3dc2ddfd46eb8a80ed4d4da0e51a",
       "version_major": 2,
       "version_minor": 0
      },
      "text/plain": [
       "  0%|          | 0/7 [00:00<?, ?it/s]"
      ]
     },
     "metadata": {},
     "output_type": "display_data"
    },
    {
     "data": {
      "application/vnd.jupyter.widget-view+json": {
       "model_id": "17f46dbfc5fc463fb8e5e9cf35a99cb3",
       "version_major": 2,
       "version_minor": 0
      },
      "text/plain": [
       "  0%|          | 0/14 [00:00<?, ?it/s]"
      ]
     },
     "metadata": {},
     "output_type": "display_data"
    },
    {
     "data": {
      "application/vnd.jupyter.widget-view+json": {
       "model_id": "799abfa60c97431e9ebeba308b27cf7f",
       "version_major": 2,
       "version_minor": 0
      },
      "text/plain": [
       "  0%|          | 0/27 [00:00<?, ?it/s]"
      ]
     },
     "metadata": {},
     "output_type": "display_data"
    },
    {
     "data": {
      "application/vnd.jupyter.widget-view+json": {
       "model_id": "d062ca3ec67041178a096eb3b0a7b39b",
       "version_major": 2,
       "version_minor": 0
      },
      "text/plain": [
       "  0%|          | 0/10 [00:00<?, ?it/s]"
      ]
     },
     "metadata": {},
     "output_type": "display_data"
    },
    {
     "data": {
      "application/vnd.jupyter.widget-view+json": {
       "model_id": "a623c593215d468ca2c2a011623b4d4f",
       "version_major": 2,
       "version_minor": 0
      },
      "text/plain": [
       "  0%|          | 0/12 [00:00<?, ?it/s]"
      ]
     },
     "metadata": {},
     "output_type": "display_data"
    },
    {
     "data": {
      "application/vnd.jupyter.widget-view+json": {
       "model_id": "ad5b46e42b4043db8521ba9f7c5865d2",
       "version_major": 2,
       "version_minor": 0
      },
      "text/plain": [
       "  0%|          | 0/16 [00:00<?, ?it/s]"
      ]
     },
     "metadata": {},
     "output_type": "display_data"
    },
    {
     "data": {
      "application/vnd.jupyter.widget-view+json": {
       "model_id": "bf7021462a764e599fd8c4afe28962da",
       "version_major": 2,
       "version_minor": 0
      },
      "text/plain": [
       "  0%|          | 0/30 [00:00<?, ?it/s]"
      ]
     },
     "metadata": {},
     "output_type": "display_data"
    },
    {
     "data": {
      "application/vnd.jupyter.widget-view+json": {
       "model_id": "d941a402c96a41c29efe3342a27edc16",
       "version_major": 2,
       "version_minor": 0
      },
      "text/plain": [
       "  0%|          | 0/11 [00:00<?, ?it/s]"
      ]
     },
     "metadata": {},
     "output_type": "display_data"
    },
    {
     "data": {
      "application/vnd.jupyter.widget-view+json": {
       "model_id": "75d2a745c374456bbbcaf1d1c1edc4be",
       "version_major": 2,
       "version_minor": 0
      },
      "text/plain": [
       "  0%|          | 0/16 [00:00<?, ?it/s]"
      ]
     },
     "metadata": {},
     "output_type": "display_data"
    },
    {
     "data": {
      "application/vnd.jupyter.widget-view+json": {
       "model_id": "46d6a7f0cb06416d9a57c62766efcc75",
       "version_major": 2,
       "version_minor": 0
      },
      "text/plain": [
       "  0%|          | 0/12 [00:00<?, ?it/s]"
      ]
     },
     "metadata": {},
     "output_type": "display_data"
    },
    {
     "data": {
      "application/vnd.jupyter.widget-view+json": {
       "model_id": "0ebcb20dc69d43bfa7a96779dfad6b1a",
       "version_major": 2,
       "version_minor": 0
      },
      "text/plain": [
       "  0%|          | 0/25 [00:00<?, ?it/s]"
      ]
     },
     "metadata": {},
     "output_type": "display_data"
    },
    {
     "data": {
      "application/vnd.jupyter.widget-view+json": {
       "model_id": "18876d5495344bb49d4ffaf33e745e25",
       "version_major": 2,
       "version_minor": 0
      },
      "text/plain": [
       "  0%|          | 0/9 [00:00<?, ?it/s]"
      ]
     },
     "metadata": {},
     "output_type": "display_data"
    },
    {
     "data": {
      "application/vnd.jupyter.widget-view+json": {
       "model_id": "16ae5a3a8938483ba89f11617bd8aa5f",
       "version_major": 2,
       "version_minor": 0
      },
      "text/plain": [
       "  0%|          | 0/19 [00:00<?, ?it/s]"
      ]
     },
     "metadata": {},
     "output_type": "display_data"
    },
    {
     "data": {
      "application/vnd.jupyter.widget-view+json": {
       "model_id": "b1b135bb31ee4badbf493eedb9ae3d93",
       "version_major": 2,
       "version_minor": 0
      },
      "text/plain": [
       "  0%|          | 0/24 [00:00<?, ?it/s]"
      ]
     },
     "metadata": {},
     "output_type": "display_data"
    },
    {
     "data": {
      "application/vnd.jupyter.widget-view+json": {
       "model_id": "3839a75bb20442f2be0a33ef933d4ad3",
       "version_major": 2,
       "version_minor": 0
      },
      "text/plain": [
       "  0%|          | 0/18 [00:00<?, ?it/s]"
      ]
     },
     "metadata": {},
     "output_type": "display_data"
    },
    {
     "data": {
      "application/vnd.jupyter.widget-view+json": {
       "model_id": "5b382ac0e4094af0b2bc7465b20754df",
       "version_major": 2,
       "version_minor": 0
      },
      "text/plain": [
       "  0%|          | 0/18 [00:00<?, ?it/s]"
      ]
     },
     "metadata": {},
     "output_type": "display_data"
    },
    {
     "data": {
      "application/vnd.jupyter.widget-view+json": {
       "model_id": "0726c2604027481dbc00d91d68d20663",
       "version_major": 2,
       "version_minor": 0
      },
      "text/plain": [
       "  0%|          | 0/15 [00:00<?, ?it/s]"
      ]
     },
     "metadata": {},
     "output_type": "display_data"
    },
    {
     "data": {
      "application/vnd.jupyter.widget-view+json": {
       "model_id": "f1683710be224582aff0ca4c33a959b0",
       "version_major": 2,
       "version_minor": 0
      },
      "text/plain": [
       "  0%|          | 0/18 [00:00<?, ?it/s]"
      ]
     },
     "metadata": {},
     "output_type": "display_data"
    },
    {
     "data": {
      "application/vnd.jupyter.widget-view+json": {
       "model_id": "32f24a587d974ab683855c1f9b4d1a51",
       "version_major": 2,
       "version_minor": 0
      },
      "text/plain": [
       "  0%|          | 0/20 [00:00<?, ?it/s]"
      ]
     },
     "metadata": {},
     "output_type": "display_data"
    },
    {
     "data": {
      "application/vnd.jupyter.widget-view+json": {
       "model_id": "04e45dfd225e435faa8919f3eb0a191e",
       "version_major": 2,
       "version_minor": 0
      },
      "text/plain": [
       "  0%|          | 0/9 [00:00<?, ?it/s]"
      ]
     },
     "metadata": {},
     "output_type": "display_data"
    },
    {
     "data": {
      "application/vnd.jupyter.widget-view+json": {
       "model_id": "1b0e31533a3f4d8dbc85612b7a007b03",
       "version_major": 2,
       "version_minor": 0
      },
      "text/plain": [
       "  0%|          | 0/5 [00:00<?, ?it/s]"
      ]
     },
     "metadata": {},
     "output_type": "display_data"
    },
    {
     "data": {
      "application/vnd.jupyter.widget-view+json": {
       "model_id": "1ee5c628aeb54df293f6eb10f64f538c",
       "version_major": 2,
       "version_minor": 0
      },
      "text/plain": [
       "  0%|          | 0/8 [00:00<?, ?it/s]"
      ]
     },
     "metadata": {},
     "output_type": "display_data"
    },
    {
     "data": {
      "application/vnd.jupyter.widget-view+json": {
       "model_id": "140dea5edcbe41ec93d259b1b4163d2e",
       "version_major": 2,
       "version_minor": 0
      },
      "text/plain": [
       "  0%|          | 0/8 [00:00<?, ?it/s]"
      ]
     },
     "metadata": {},
     "output_type": "display_data"
    },
    {
     "data": {
      "application/vnd.jupyter.widget-view+json": {
       "model_id": "31188151759447aea74a4d3d2f509561",
       "version_major": 2,
       "version_minor": 0
      },
      "text/plain": [
       "  0%|          | 0/6 [00:00<?, ?it/s]"
      ]
     },
     "metadata": {},
     "output_type": "display_data"
    },
    {
     "data": {
      "application/vnd.jupyter.widget-view+json": {
       "model_id": "a711a0174c2543d8b2746b09d2f42318",
       "version_major": 2,
       "version_minor": 0
      },
      "text/plain": [
       "  0%|          | 0/9 [00:00<?, ?it/s]"
      ]
     },
     "metadata": {},
     "output_type": "display_data"
    },
    {
     "data": {
      "application/vnd.jupyter.widget-view+json": {
       "model_id": "66b4d0d591cf4172b0ac15344ac15d01",
       "version_major": 2,
       "version_minor": 0
      },
      "text/plain": [
       "  0%|          | 0/10 [00:00<?, ?it/s]"
      ]
     },
     "metadata": {},
     "output_type": "display_data"
    },
    {
     "data": {
      "application/vnd.jupyter.widget-view+json": {
       "model_id": "d1e7c25363c143a09c92fa00f512fb1c",
       "version_major": 2,
       "version_minor": 0
      },
      "text/plain": [
       "  0%|          | 0/11 [00:00<?, ?it/s]"
      ]
     },
     "metadata": {},
     "output_type": "display_data"
    },
    {
     "data": {
      "application/vnd.jupyter.widget-view+json": {
       "model_id": "f52e9c03a0074fd79347e887344a7f79",
       "version_major": 2,
       "version_minor": 0
      },
      "text/plain": [
       "  0%|          | 0/10 [00:00<?, ?it/s]"
      ]
     },
     "metadata": {},
     "output_type": "display_data"
    },
    {
     "data": {
      "application/vnd.jupyter.widget-view+json": {
       "model_id": "0e1d1e4b9dfc484e8873e7c2de510892",
       "version_major": 2,
       "version_minor": 0
      },
      "text/plain": [
       "  0%|          | 0/5 [00:00<?, ?it/s]"
      ]
     },
     "metadata": {},
     "output_type": "display_data"
    },
    {
     "data": {
      "application/vnd.jupyter.widget-view+json": {
       "model_id": "63a142a3735340a58944ec23643ab503",
       "version_major": 2,
       "version_minor": 0
      },
      "text/plain": [
       "  0%|          | 0/18 [00:00<?, ?it/s]"
      ]
     },
     "metadata": {},
     "output_type": "display_data"
    },
    {
     "data": {
      "application/vnd.jupyter.widget-view+json": {
       "model_id": "64b8818a66a14ad1b089ff4ebab1a2d1",
       "version_major": 2,
       "version_minor": 0
      },
      "text/plain": [
       "  0%|          | 0/11 [00:00<?, ?it/s]"
      ]
     },
     "metadata": {},
     "output_type": "display_data"
    },
    {
     "data": {
      "application/vnd.jupyter.widget-view+json": {
       "model_id": "67fcf58c3e8d4612ab4a4ee7ea326f78",
       "version_major": 2,
       "version_minor": 0
      },
      "text/plain": [
       "  0%|          | 0/14 [00:00<?, ?it/s]"
      ]
     },
     "metadata": {},
     "output_type": "display_data"
    },
    {
     "name": "stdout",
     "output_type": "stream",
     "text": [
      "Synapsse Results:\n",
      "Total Number of Synapses = 1760\n",
      "n_valid_syn_ids_presyn = 65\n",
      "n_errored_syn_ids_presyn = 225\n",
      "n_valid_syn_ids_postsyn = 1467\n",
      "n_errored_syn_ids_postsyn = 3\n",
      "Synapsse Results:\n",
      "Total Number of Synapses = 1760\n",
      "n_valid_syn_ids_presyn = 65\n",
      "n_errored_syn_ids_presyn = 225\n",
      "n_valid_syn_ids_postsyn = 1467\n",
      "n_errored_syn_ids_postsyn = 3\n"
     ]
    },
    {
     "data": {
      "application/vnd.jupyter.widget-view+json": {
       "model_id": "c66ebbe881b944a3a3b54b910b7e9ffd",
       "version_major": 2,
       "version_minor": 0
      },
      "text/plain": [
       "  0%|          | 0/30 [00:00<?, ?it/s]"
      ]
     },
     "metadata": {},
     "output_type": "display_data"
    },
    {
     "data": {
      "application/vnd.jupyter.widget-view+json": {
       "model_id": "5927410041094e7782e3037b17eee872",
       "version_major": 2,
       "version_minor": 0
      },
      "text/plain": [
       "  0%|          | 0/6 [00:00<?, ?it/s]"
      ]
     },
     "metadata": {},
     "output_type": "display_data"
    },
    {
     "name": "stdout",
     "output_type": "stream",
     "text": [
      "Synapsse Results:\n",
      "Total Number of Synapses = 1760\n",
      "n_valid_syn_ids_presyn = 65\n",
      "n_errored_syn_ids_presyn = 225\n",
      "n_valid_syn_ids_postsyn = 1467\n",
      "n_errored_syn_ids_postsyn = 3\n",
      "Synapsse Results:\n",
      "Total Number of Synapses = 1760\n",
      "n_valid_syn_ids_presyn = 65\n",
      "n_errored_syn_ids_presyn = 225\n",
      "n_valid_syn_ids_postsyn = 1467\n",
      "n_errored_syn_ids_postsyn = 3\n"
     ]
    },
    {
     "data": {
      "application/vnd.jupyter.widget-view+json": {
       "model_id": "1efc0d131a054741a0077c793993f4d1",
       "version_major": 2,
       "version_minor": 0
      },
      "text/plain": [
       "  0%|          | 0/30 [00:00<?, ?it/s]"
      ]
     },
     "metadata": {},
     "output_type": "display_data"
    },
    {
     "data": {
      "application/vnd.jupyter.widget-view+json": {
       "model_id": "ce378ae57c374c5895567073f6e11862",
       "version_major": 2,
       "version_minor": 0
      },
      "text/plain": [
       "  0%|          | 0/6 [00:00<?, ?it/s]"
      ]
     },
     "metadata": {},
     "output_type": "display_data"
    },
    {
     "name": "stdout",
     "output_type": "stream",
     "text": [
      "\n",
      "\n",
      "len(branch_attr_keys) = 36\n",
      "Saving Neuorn in suppress_output mode...please wait\n",
      "Saved File at location: /mnt/dj-stor01/platinum/minnie65/02/decomposition/864691135771629819_0_25_full_axon\n",
      "Save time = 154.90473556518555\n",
      "\n",
      "\n",
      " ***------ Total time for 864691135771629819 = 1094.4291067123413 ------ ***\n",
      "\n",
      "\n",
      "\n",
      "---- Working on Neuron 864691136003930314 ----\n",
      "Decompressing Neuron in minimal output mode...please wait\n",
      "Dont need spine recalculation\n",
      "Number of Neurons found = 1\n",
      "\n",
      "Part 1: Axon like branchese \n",
      "{'L3': array([ 0,  1,  2,  3,  4,  5,  6,  7,  8,  9, 10, 11, 12, 13]), 'L4': array([1]), 'L5': array([ 0,  1,  6,  7,  8,  9, 10]), 'L6': array([0]), 'L7': array([ 2, 13, 14, 15])}\n",
      "Limb L0 soma angle: 103.35 \n",
      "Limb L1 soma angle: 102.58 \n",
      "Limb L2 soma angle: 104.12 \n",
      "Limb L3 soma angle: 165.73 \n",
      "Limb L4 soma angle: 82.25 \n",
      "Limb L5 soma angle: 137.38 \n",
      "Limb L6 soma angle: 48.99 \n",
      "Limb L7 soma angle: 10.01 \n",
      "\n",
      "Part 2: possible_axon_limbs = [0, 1, 2, 3, 4, 5]\n",
      "\n",
      "Phase 2: Working on Limb L0\n",
      "nodes_to_eliminate = [11]\n",
      "\n",
      "Phase 2: Working on Limb L1\n",
      "nodes_to_eliminate = [ 6 10]\n",
      "\n",
      "Phase 2: Working on Limb L2\n",
      "nodes_to_eliminate = []\n",
      "\n",
      "Phase 2: Working on Limb L3\n",
      "nodes_to_eliminate = []\n",
      "\n",
      "Phase 2: Working on Limb L4\n",
      "nodes_to_eliminate = []\n",
      "\n",
      "Phase 2: Working on Limb L5\n",
      "nodes_to_eliminate = []\n",
      "\n",
      "----Working on Limb L0-----\n",
      "No endpoints were eliminated so don't need to add back any candidates\n",
      "\n",
      "----Working on Limb L1-----\n",
      "No endpoints were eliminated so don't need to add back any candidates\n",
      "\n",
      "----Working on Limb L2-----\n",
      "No nodes were eliminated so don't need to add back any candidates\n",
      "\n",
      "----Working on Limb L3-----\n",
      "No nodes were eliminated so don't need to add back any candidates\n",
      "\n",
      "----Working on Limb L4-----\n",
      "No nodes were eliminated so don't need to add back any candidates\n",
      "\n",
      "----Working on Limb L5-----\n",
      "No nodes were eliminated so don't need to add back any candidates\n",
      "Final Candidates\n",
      "\n",
      "Limb 0\n",
      "Candidate 0 (red): array([1, 3, 5, 6, 7, 9])\n",
      "Candidate 1 (magenta): array([ 0,  2,  4,  8, 10])\n",
      "\n",
      "Limb 1\n",
      "Candidate 0 (green): array([ 2,  7,  8, 11, 13, 14, 15])\n",
      "Candidate 1 (forestgreen): array([0, 1, 3])\n",
      "Candidate 2 (darkslategray): array([ 4,  5,  9, 12, 16])\n",
      "\n",
      "Limb 2\n",
      "Candidate 0 (tan): array([0, 1, 2, 3, 4, 5, 6])\n",
      "\n",
      "Limb 3\n",
      "Candidate 0 (pink): array([ 0,  1,  2,  3,  4,  5,  6,  7,  8,  9, 10, 11, 12, 13])\n",
      "\n",
      "Limb 4\n",
      "Candidate 0 (tan): array([0, 1, 2, 3, 4, 5, 6, 7, 8])\n",
      "\n",
      "Limb 5\n",
      "Candidate 0 (orange): array([ 0,  1,  2,  3,  4,  5,  6,  7,  8,  9, 10])\n",
      "Part 3: axon_subgraph_candidates = {0: [[1, 3, 5, 6, 7, 9], [0, 2, 4, 8, 10]], 1: [[2, 7, 8, 11, 13, 14, 15], [0, 1, 3], [4, 5, 9, 12, 16]], 2: [[0, 1, 2, 3, 4, 5, 6]], 3: [[0, 1, 2, 3, 4, 5, 6, 7, 8, 9, 10, 11, 12, 13]], 4: [[0, 1, 2, 3, 4, 5, 6, 7, 8]], 5: [[0, 1, 2, 3, 4, 5, 6, 7, 8, 9, 10]]}\n",
      "\n",
      "\n",
      " --- Working on limb 0, candidate # 0\n",
      "0 out of 6 branches are axons\n",
      "Axon percentage = 0.0\n",
      "Not adding candidate no axon branches detected \n",
      "\n",
      "\n",
      " --- Working on limb 0, candidate # 1\n",
      "0 out of 5 branches are axons\n",
      "Axon percentage = 0.0\n",
      "Not adding candidate no axon branches detected \n",
      "\n",
      "\n",
      " --- Working on limb 1, candidate # 0\n",
      "0 out of 7 branches are axons\n",
      "Axon percentage = 0.0\n",
      "Not adding candidate no axon branches detected \n",
      "\n",
      "\n",
      " --- Working on limb 1, candidate # 1\n",
      "0 out of 3 branches are axons\n",
      "Axon percentage = 0.0\n",
      "Not adding candidate no axon branches detected \n",
      "\n",
      "\n",
      " --- Working on limb 1, candidate # 2\n",
      "0 out of 5 branches are axons\n",
      "Axon percentage = 0.0\n",
      "Not adding candidate no axon branches detected \n",
      "\n",
      "\n",
      " --- Working on limb 2, candidate # 0\n",
      "0 out of 7 branches are axons\n",
      "Axon percentage = 0.0\n",
      "Not adding candidate no axon branches detected \n",
      "\n",
      "\n",
      " --- Working on limb 3, candidate # 0\n",
      "14 out of 14 branches are axons\n",
      "Axon percentage = 1.0\n",
      "curr_axon_angle_threshold = 95\n",
      "candidate_nodes = [ 0  1  2  3  4  5  6  7  8  9 10 11 12 13]\n",
      "non_axon_branches_on_subgraph = []\n",
      "endnodes_to_test = [2985]\n",
      "Skeleton paths distances = [24998.54148762]\n",
      "Filtered indexes = [0]\n",
      "len(filtered_skeletons) = 1\n",
      "sk_angles = [151.23474082]\n",
      "candidate_angles,restr_skels = (array([151.23474082]), [array([[[1168870.,  696134.,  892627.],\n",
      "        [1168850.,  696260.,  892725.]],\n",
      "\n",
      "       [[1168850.,  696260.,  892725.],\n",
      "        [1168820.,  696369.,  892821.]],\n",
      "\n",
      "       [[1168820.,  696369.,  892821.],\n",
      "        [1168790.,  696486.,  892936.]],\n",
      "\n",
      "       [[1168790.,  696486.,  892936.],\n",
      "        [1168730.,  696656.,  893116.]],\n",
      "\n",
      "       [[1168730.,  696656.,  893116.],\n",
      "        [1168710.,  696711.,  893176.]],\n",
      "\n",
      "       [[1168710.,  696711.,  893176.],\n",
      "        [1168650.,  696850.,  893332.]],\n",
      "\n",
      "       [[1168650.,  696850.,  893332.],\n",
      "        [1168610.,  696948.,  893445.]],\n",
      "\n",
      "       [[1168610.,  696948.,  893445.],\n",
      "        [1168590.,  696995.,  893499.]],\n",
      "\n",
      "       [[1168590.,  696995.,  893499.],\n",
      "        [1168570.,  697047.,  893557.]],\n",
      "\n",
      "       [[1168570.,  697047.,  893557.],\n",
      "        [1168530.,  697128.,  893647.]],\n",
      "\n",
      "       [[1168530.,  697128.,  893647.],\n",
      "        [1168470.,  697258.,  893779.]],\n",
      "\n",
      "       [[1168470.,  697258.,  893779.],\n",
      "        [1168390.,  697433.,  893949.]],\n",
      "\n",
      "       [[1168390.,  697433.,  893949.],\n",
      "        [1168340.,  697566.,  894071.]],\n",
      "\n",
      "       [[1168340.,  697566.,  894071.],\n",
      "        [1168300.,  697637.,  894134.]],\n",
      "\n",
      "       [[1168300.,  697637.,  894134.],\n",
      "        [1168220.,  697806.,  894289.]],\n",
      "\n",
      "       [[1168220.,  697806.,  894289.],\n",
      "        [1168180.,  697983.,  894411.]],\n",
      "\n",
      "       [[1168180.,  697983.,  894411.],\n",
      "        [1168140.,  698147.,  894537.]],\n",
      "\n",
      "       [[1168140.,  698147.,  894537.],\n",
      "        [1168120.,  698271.,  894624.]],\n",
      "\n",
      "       [[1168120.,  698271.,  894624.],\n",
      "        [1168100.,  698372.,  894689.]],\n",
      "\n",
      "       [[1168100.,  698372.,  894689.],\n",
      "        [1168080.,  698536.,  894792.]],\n",
      "\n",
      "       [[1168080.,  698536.,  894792.],\n",
      "        [1168080.,  698617.,  894841.]],\n",
      "\n",
      "       [[1168080.,  698617.,  894841.],\n",
      "        [1168070.,  698775.,  894941.]],\n",
      "\n",
      "       [[1168070.,  698775.,  894941.],\n",
      "        [1168080.,  698894.,  895019.]],\n",
      "\n",
      "       [[1168080.,  698894.,  895019.],\n",
      "        [1168050.,  699050.,  895095.]],\n",
      "\n",
      "       [[1168050.,  699050.,  895095.],\n",
      "        [1168050.,  699190.,  895186.]],\n",
      "\n",
      "       [[1168050.,  699190.,  895186.],\n",
      "        [1168040.,  699376.,  895291.]],\n",
      "\n",
      "       [[1168040.,  699376.,  895291.],\n",
      "        [1168030.,  699531.,  895392.]],\n",
      "\n",
      "       [[1168030.,  699531.,  895392.],\n",
      "        [1168010.,  699671.,  895489.]],\n",
      "\n",
      "       [[1168010.,  699671.,  895489.],\n",
      "        [1167990.,  699806.,  895560.]],\n",
      "\n",
      "       [[1167990.,  699806.,  895560.],\n",
      "        [1167960.,  699955.,  895651.]],\n",
      "\n",
      "       [[1167960.,  699955.,  895651.],\n",
      "        [1167910.,  700157.,  895740.]],\n",
      "\n",
      "       [[1167910.,  700157.,  895740.],\n",
      "        [1167850.,  700403.,  895885.]],\n",
      "\n",
      "       [[1167850.,  700403.,  895885.],\n",
      "        [1167810.,  700526.,  895945.]],\n",
      "\n",
      "       [[1167810.,  700526.,  895945.],\n",
      "        [1167760.,  700676.,  896023.]],\n",
      "\n",
      "       [[1167760.,  700676.,  896023.],\n",
      "        [1167730.,  700796.,  896076.]],\n",
      "\n",
      "       [[1167730.,  700796.,  896076.],\n",
      "        [1167680.,  700965.,  896145.]],\n",
      "\n",
      "       [[1167680.,  700965.,  896145.],\n",
      "        [1167660.,  701063.,  896172.]],\n",
      "\n",
      "       [[1167660.,  701063.,  896172.],\n",
      "        [1167620.,  701157.,  896208.]],\n",
      "\n",
      "       [[1167620.,  701157.,  896208.],\n",
      "        [1167560.,  701353.,  896263.]],\n",
      "\n",
      "       [[1167560.,  701353.,  896263.],\n",
      "        [1167490.,  701553.,  896303.]],\n",
      "\n",
      "       [[1167490.,  701553.,  896303.],\n",
      "        [1167460.,  701710.,  896345.]],\n",
      "\n",
      "       [[1167460.,  701710.,  896345.],\n",
      "        [1167420.,  701907.,  896397.]],\n",
      "\n",
      "       [[1167420.,  701907.,  896397.],\n",
      "        [1167370.,  702116.,  896441.]],\n",
      "\n",
      "       [[1167370.,  702116.,  896441.],\n",
      "        [1167320.,  702367.,  896492.]],\n",
      "\n",
      "       [[1167320.,  702367.,  896492.],\n",
      "        [1167300.,  702511.,  896523.]],\n",
      "\n",
      "       [[1167300.,  702511.,  896523.],\n",
      "        [1167270.,  702708.,  896573.]],\n",
      "\n",
      "       [[1167270.,  702708.,  896573.],\n",
      "        [1167250.,  702884.,  896614.]],\n",
      "\n",
      "       [[1167250.,  702884.,  896614.],\n",
      "        [1167230.,  703080.,  896652.]],\n",
      "\n",
      "       [[1167230.,  703080.,  896652.],\n",
      "        [1167220.,  703270.,  896698.]],\n",
      "\n",
      "       [[1167220.,  703270.,  896698.],\n",
      "        [1167210.,  703363.,  896713.]],\n",
      "\n",
      "       [[1167210.,  703363.,  896713.],\n",
      "        [1167210.,  703448.,  896729.]],\n",
      "\n",
      "       [[1167210.,  703448.,  896729.],\n",
      "        [1167200.,  703555.,  896754.]],\n",
      "\n",
      "       [[1167200.,  703555.,  896754.],\n",
      "        [1167180.,  703731.,  896775.]],\n",
      "\n",
      "       [[1167180.,  703731.,  896775.],\n",
      "        [1167160.,  703941.,  896816.]],\n",
      "\n",
      "       [[1167160.,  703941.,  896816.],\n",
      "        [1167130.,  704168.,  896854.]],\n",
      "\n",
      "       [[1167130.,  704168.,  896854.],\n",
      "        [1167100.,  704395.,  896890.]],\n",
      "\n",
      "       [[1167100.,  704395.,  896890.],\n",
      "        [1167060.,  704587.,  896922.]],\n",
      "\n",
      "       [[1167060.,  704587.,  896922.],\n",
      "        [1167050.,  704643.,  896929.]]])])\n"
     ]
    },
    {
     "name": "stdout",
     "output_type": "stream",
     "text": [
      "base_final_widths = [506.3136296  475.81321416 520.38203976]\n",
      "overall_ais_width = 281.0238833328401\n",
      "ais_width = 500.83629450585585\n",
      "Adding the following branches as true axons: [ 0.  1.  2.  3.  4.  5.  6.  7.  8.  9. 10. 11. 12. 13.]\n",
      "curr_soma_angle = 165.73\n",
      "max_axon_angle = 151.23474081675545\n",
      "Changing to a better axon candidate\n",
      "\n",
      "\n",
      " --- Working on limb 4, candidate # 0\n",
      "1 out of 9 branches are axons\n",
      "Axon percentage = 0.1111111111111111\n",
      "curr_axon_angle_threshold = 120\n",
      "candidate_nodes = [0 1 2 3 4 5 6 7 8]\n",
      "non_axon_branches_on_subgraph = [0 2 3 4 5 6 7 8]\n",
      "endnodes_to_test = []\n",
      "candidate_angles,restr_skels = (None, None)\n",
      "Not adding candidate because no angles (None) passed the threhold 120 \n",
      "\n",
      "\n",
      " --- Working on limb 5, candidate # 0\n",
      "7 out of 11 branches are axons\n",
      "Axon percentage = 0.6363636363636364\n",
      "curr_axon_angle_threshold = 120\n",
      "candidate_nodes = [ 0  1  2  3  4  5  6  7  8  9 10]\n",
      "non_axon_branches_on_subgraph = [2 3 4 5]\n",
      "endnodes_to_test = []\n",
      "candidate_angles,restr_skels = (None, None)\n",
      "Not adding candidate because no angles (None) passed the threhold 120 \n",
      "Using the best axon approach\n",
      "Using True\n",
      "Limb L3: Axon branches before dendritic path filter = [ 0.  1.  2.  3.  4.  5.  6.  7.  8.  9. 10. 11. 12. 13.]\n",
      "Limb L3: Axon branches AFTER dendritic path filter = [ 0.  1.  2.  3.  4.  5.  6.  7.  8.  9. 10. 11. 12. 13.]\n",
      "\n",
      "\n",
      "Part 4: final_true_axons = {'L3': array([ 0.,  1.,  2.,  3.,  4.,  5.,  6.,  7.,  8.,  9., 10., 11., 12.,\n",
      "       13.])}\n",
      "\n",
      "--- Working on filter 0:\n",
      "function = dendrite_on_axon_merges\n",
      "function __name__ = filter_away_dendrite_on_axon_merges\n",
      "function arguments = {'use_pre_existing_axon_labels': True}\n",
      "\n",
      "\n",
      "\n",
      "\n",
      "\n",
      " ---- Total time for applying filter: 0.41268324851989746 -----\n",
      "Starting axon branch was the starting node so using border vertices and NOT computing upstream branch\n",
      "upstream_node_to_axon_starting_branch = None\n",
      "root_curr = [1169742.   686421.5  890292.2]\n",
      "Time for preparing soma vertices and root: 0.0004525184631347656\n",
      "invalidation_d = 2000\n",
      "cc_vertex_thresh = 10\n"
     ]
    },
    {
     "name": "stderr",
     "output_type": "stream",
     "text": [
      "\r",
      "  0%|          | 0/1 [00:00<?, ?it/s]"
     ]
    },
    {
     "data": {
      "application/vnd.jupyter.widget-view+json": {
       "model_id": "d93b8388f7e443bbbaaa860ace34a041",
       "version_major": 2,
       "version_minor": 0
      },
      "text/plain": [
       "  0%|          | 0/53143 [00:00<?, ?it/s]"
      ]
     },
     "metadata": {},
     "output_type": "display_data"
    },
    {
     "name": "stderr",
     "output_type": "stream",
     "text": [
      "100%|██████████| 1/1 [00:00<00:00,  1.03it/s]\n"
     ]
    },
    {
     "name": "stdout",
     "output_type": "stream",
     "text": [
      "meshparty_segment_size = 100\n",
      "Time for 1st pass MP skeletonization: 1.9758927822113037\n",
      "branches_touching_root = [4]\n",
      "combining close nodes\n",
      "combine_threshold = 1300\n",
      "length of Graph = 9300\n",
      "After combining close endpoints max(kept_branches_idx) = 40, len(kept_branches_idx) = 37\n",
      "empty_indices % = 0.0\n",
      " conflict_indices % = 0.01016348311428733\n"
     ]
    },
    {
     "data": {
      "application/vnd.jupyter.widget-view+json": {
       "model_id": "893b21258d3a408aa1e748494071adc0",
       "version_major": 2,
       "version_minor": 0
      },
      "text/plain": [
       "  0%|          | 0/15 [00:00<?, ?it/s]"
      ]
     },
     "metadata": {},
     "output_type": "display_data"
    },
    {
     "name": "stdout",
     "output_type": "stream",
     "text": [
      "AFTER face_lookup_resolved_test\n"
     ]
    },
    {
     "data": {
      "application/vnd.jupyter.widget-view+json": {
       "model_id": "f90d09d513d942c28e180401f1123e4c",
       "version_major": 2,
       "version_minor": 0
      },
      "text/plain": [
       "  0%|          | 0/37 [00:00<?, ?it/s]"
      ]
     },
     "metadata": {},
     "output_type": "display_data"
    },
    {
     "name": "stdout",
     "output_type": "stream",
     "text": [
      "Decomposing first pass: 15.698803901672363\n",
      "Only Using MeshParty Skeletonization and Mesh Correspondence\n",
      "Another print\n",
      "Divinding into MP and MAP pieces: 5.507469177246094e-05\n",
      "Total time for MAP sublimb processing 7.152557373046875e-06\n",
      "---- Working on MP Decomposition #0 ----\n",
      "Using Quicker soma_to_piece_touching_vertices because no MAP and only one sublimb_mesh piece \n",
      "MP filtering soma verts: 6.961822509765625e-05\n",
      "Fixing Possible Soma Extension Branch for Sublimb 0\n",
      "Total time for mesh KDTree = 0.3144981861114502\n",
      "sbv[0].reshape(-1,3) = [[1169742.   686421.5  890292.2]]\n",
      "closest_sk_pt_coord BEFORE = [1170098.14497212  686645.15326255  890535.25954979]\n",
      "current_skeleton.shape = (860, 2, 3)\n",
      "node_for_stitch = 852: [1170098.14497212  686645.15326255  890535.25954979]\n",
      "node_for_stitch AFTER = 852: [1170098.14497212  686645.15326255  890535.25954979]\n",
      "possible_node_loc = [  0 852]\n",
      "possible_node_loc AFTER = [  0 852]\n",
      "curr_shortest_path = [852]\n",
      "Current stitch point was a branch or endpoint\n",
      "change_status for create soma extending pieces = False\n",
      "closest_sk_pt_coord AFTER = [1170098.14497212  686645.15326255  890535.25954979]\n",
      "skipping soma 0 because closest skeleton node was already end node\n",
      "endpoints_must_keep = {0: array([[1170098.14497212,  686645.15326255,  890535.25954979]])}\n",
      "match_sk_branches = [4]\n",
      "The new branch info was none so skipping \n",
      "\n",
      "No soma extending branch was added for this sublimb even though it had a soma border (means they already existed)\n",
      "MP (because soma touching verts) soma extension add: 3.53310227394104\n",
      "There were not both MAP and MP pieces so skipping the stitch resolving phase\n",
      "Time for decomp of Limb = 21.96343970298767\n",
      "Number of matching vertices = 20\n",
      "Only one endpoint after filtering away the endpoints that are not on the skeleton\n",
      "Using Distance measure skeletal_distance\n",
      "endpoints_must_keep = [[1170098.14497212  686645.15326255  890535.25954979]]\n",
      "Number of end_nodes BEFORE filtering = 22\n",
      "all_single_nodes_to_eliminate = [9]\n"
     ]
    },
    {
     "data": {
      "application/vnd.jupyter.widget-view+json": {
       "model_id": "bea4b8e098b4442090ea9ed410ebffe8",
       "version_major": 2,
       "version_minor": 0
      },
      "text/plain": [
       "  0%|          | 0/2 [00:00<?, ?it/s]"
      ]
     },
     "metadata": {},
     "output_type": "display_data"
    },
    {
     "name": "stdout",
     "output_type": "stream",
     "text": [
      "Removed 2 skeletal branches\n"
     ]
    },
    {
     "data": {
      "application/vnd.jupyter.widget-view+json": {
       "model_id": "f9321dca622940c8a096e38ef3f131ee",
       "version_major": 2,
       "version_minor": 0
      },
      "text/plain": [
       "  0%|          | 0/37 [00:00<?, ?it/s]"
      ]
     },
     "metadata": {},
     "output_type": "display_data"
    },
    {
     "name": "stdout",
     "output_type": "stream",
     "text": [
      "106136 106137\n",
      "For marked faces: None\n",
      "empty_indices % = 0.0\n",
      " conflict_indices % = 0.0\n"
     ]
    },
    {
     "data": {
      "application/vnd.jupyter.widget-view+json": {
       "model_id": "e90ad50ed85b43019b73088a4992ae21",
       "version_major": 2,
       "version_minor": 0
      },
      "text/plain": [
       "0it [00:00, ?it/s]"
      ]
     },
     "metadata": {},
     "output_type": "display_data"
    },
    {
     "name": "stdout",
     "output_type": "stream",
     "text": [
      "AFTER face_lookup_resolved_test\n"
     ]
    },
    {
     "data": {
      "application/vnd.jupyter.widget-view+json": {
       "model_id": "a435df846157429a8becfb92c09c1dbf",
       "version_major": 2,
       "version_minor": 0
      },
      "text/plain": [
       "  0%|          | 0/33 [00:00<?, ?it/s]"
      ]
     },
     "metadata": {},
     "output_type": "display_data"
    },
    {
     "name": "stdout",
     "output_type": "stream",
     "text": [
      "Limb Correspondence before stitching = 33\n",
      "Limb Correspondence AFTER stitching = 33\n",
      "Upstream node was None so don't have to adjust\n",
      "concept_network_dict = {0: [<networkx_utils.GraphOrderedEdges object at 0x7f3ec0e71da0>]}\n",
      "\n",
      "\n",
      "----Working on seperate_graph 0----\n",
      "\n",
      "\n",
      "---------Working on soma_idx = 0, soma_group_idx 0, endpt = [1170098.14497212  686645.15326255  890535.25954979]---------\n",
      "Starting_edge inside branches_to_conept = [[1162765.59810093  767418.64563428  903223.60408993]\n",
      " [1170098.14497212  686645.15326255  890535.25954979]]\n",
      "At the start, starting_node (in terms of the skeleton, that shouldn't match the starting edge) = [15]\n",
      "printing out current edge:\n",
      "[[1170098.14497212  686645.15326255  890535.25954979]\n",
      " [1162765.59810093  767418.64563428  903223.60408993]]\n",
      "edge_endpoints_to_process was empty so exiting loop after 33 iterations\n",
      "starting_node in concept map (that should match the starting edge) = 15\n",
      "Total time for branches to concept conversion = 1.5062408447265625\n",
      "\n",
      "Done generating concept network \n",
      "\n",
      "\n"
     ]
    },
    {
     "data": {
      "application/vnd.jupyter.widget-view+json": {
       "model_id": "5326dfa6bacf477d975d5f7057348411",
       "version_major": 2,
       "version_minor": 0
      },
      "text/plain": [
       "  0%|          | 0/22 [00:00<?, ?it/s]"
      ]
     },
     "metadata": {},
     "output_type": "display_data"
    },
    {
     "data": {
      "application/vnd.jupyter.widget-view+json": {
       "model_id": "7376ce7f27e142bcb56f7637a6bcc019",
       "version_major": 2,
       "version_minor": 0
      },
      "text/plain": [
       "  0%|          | 0/9 [00:00<?, ?it/s]"
      ]
     },
     "metadata": {},
     "output_type": "display_data"
    },
    {
     "data": {
      "application/vnd.jupyter.widget-view+json": {
       "model_id": "4713bd0182cd485fa3b6ba5cfde2ab05",
       "version_major": 2,
       "version_minor": 0
      },
      "text/plain": [
       "  0%|          | 0/3 [00:00<?, ?it/s]"
      ]
     },
     "metadata": {},
     "output_type": "display_data"
    },
    {
     "data": {
      "application/vnd.jupyter.widget-view+json": {
       "model_id": "7da6bc80db1c4c699bfcfa9b7b59e0e1",
       "version_major": 2,
       "version_minor": 0
      },
      "text/plain": [
       "  0%|          | 0/47 [00:00<?, ?it/s]"
      ]
     },
     "metadata": {},
     "output_type": "display_data"
    },
    {
     "data": {
      "application/vnd.jupyter.widget-view+json": {
       "model_id": "ddf3c151174f4fde9e72e400946a5f51",
       "version_major": 2,
       "version_minor": 0
      },
      "text/plain": [
       "  0%|          | 0/27 [00:00<?, ?it/s]"
      ]
     },
     "metadata": {},
     "output_type": "display_data"
    },
    {
     "data": {
      "application/vnd.jupyter.widget-view+json": {
       "model_id": "0131f165afb54d66bfd4e5450a35c7af",
       "version_major": 2,
       "version_minor": 0
      },
      "text/plain": [
       "  0%|          | 0/22 [00:00<?, ?it/s]"
      ]
     },
     "metadata": {},
     "output_type": "display_data"
    },
    {
     "data": {
      "application/vnd.jupyter.widget-view+json": {
       "model_id": "e047fe68b41d46529ca046ee667d90a3",
       "version_major": 2,
       "version_minor": 0
      },
      "text/plain": [
       "  0%|          | 0/14 [00:00<?, ?it/s]"
      ]
     },
     "metadata": {},
     "output_type": "display_data"
    },
    {
     "data": {
      "application/vnd.jupyter.widget-view+json": {
       "model_id": "03c86d47698f4af2a40c49a19523f2ae",
       "version_major": 2,
       "version_minor": 0
      },
      "text/plain": [
       "  0%|          | 0/30 [00:00<?, ?it/s]"
      ]
     },
     "metadata": {},
     "output_type": "display_data"
    },
    {
     "data": {
      "application/vnd.jupyter.widget-view+json": {
       "model_id": "9235689057374e64a49de33cbc1f4016",
       "version_major": 2,
       "version_minor": 0
      },
      "text/plain": [
       "  0%|          | 0/8 [00:00<?, ?it/s]"
      ]
     },
     "metadata": {},
     "output_type": "display_data"
    },
    {
     "data": {
      "application/vnd.jupyter.widget-view+json": {
       "model_id": "511f5b1bedc8424b9ee165b7a1ea9466",
       "version_major": 2,
       "version_minor": 0
      },
      "text/plain": [
       "  0%|          | 0/4 [00:00<?, ?it/s]"
      ]
     },
     "metadata": {},
     "output_type": "display_data"
    },
    {
     "data": {
      "application/vnd.jupyter.widget-view+json": {
       "model_id": "e9283d5ed74d45018ef7f5b8a225db75",
       "version_major": 2,
       "version_minor": 0
      },
      "text/plain": [
       "  0%|          | 0/7 [00:00<?, ?it/s]"
      ]
     },
     "metadata": {},
     "output_type": "display_data"
    },
    {
     "data": {
      "application/vnd.jupyter.widget-view+json": {
       "model_id": "e7f7b68c6ec64e1fa64b97c0d5e34399",
       "version_major": 2,
       "version_minor": 0
      },
      "text/plain": [
       "  0%|          | 0/18 [00:00<?, ?it/s]"
      ]
     },
     "metadata": {},
     "output_type": "display_data"
    },
    {
     "data": {
      "application/vnd.jupyter.widget-view+json": {
       "model_id": "d01ad2b073d64d67a4cd126eff4fba22",
       "version_major": 2,
       "version_minor": 0
      },
      "text/plain": [
       "  0%|          | 0/7 [00:00<?, ?it/s]"
      ]
     },
     "metadata": {},
     "output_type": "display_data"
    },
    {
     "data": {
      "application/vnd.jupyter.widget-view+json": {
       "model_id": "412757c911bf41cca726cf369595b0cc",
       "version_major": 2,
       "version_minor": 0
      },
      "text/plain": [
       "  0%|          | 0/18 [00:00<?, ?it/s]"
      ]
     },
     "metadata": {},
     "output_type": "display_data"
    },
    {
     "data": {
      "application/vnd.jupyter.widget-view+json": {
       "model_id": "29020f34213945d3bc1ab543ec329fb4",
       "version_major": 2,
       "version_minor": 0
      },
      "text/plain": [
       "  0%|          | 0/1 [00:00<?, ?it/s]"
      ]
     },
     "metadata": {},
     "output_type": "display_data"
    },
    {
     "data": {
      "application/vnd.jupyter.widget-view+json": {
       "model_id": "96dd348ade2c480a8968ca546037f9fd",
       "version_major": 2,
       "version_minor": 0
      },
      "text/plain": [
       "  0%|          | 0/4 [00:00<?, ?it/s]"
      ]
     },
     "metadata": {},
     "output_type": "display_data"
    },
    {
     "data": {
      "application/vnd.jupyter.widget-view+json": {
       "model_id": "fa66f790ff1b4323ab2b6ebc398be0ce",
       "version_major": 2,
       "version_minor": 0
      },
      "text/plain": [
       "  0%|          | 0/35 [00:00<?, ?it/s]"
      ]
     },
     "metadata": {},
     "output_type": "display_data"
    },
    {
     "data": {
      "application/vnd.jupyter.widget-view+json": {
       "model_id": "4ca527bee12d47cfb60c446dd9f22de5",
       "version_major": 2,
       "version_minor": 0
      },
      "text/plain": [
       "  0%|          | 0/7 [00:00<?, ?it/s]"
      ]
     },
     "metadata": {},
     "output_type": "display_data"
    },
    {
     "data": {
      "application/vnd.jupyter.widget-view+json": {
       "model_id": "012b7a306b714708acb404e8554d769a",
       "version_major": 2,
       "version_minor": 0
      },
      "text/plain": [
       "  0%|          | 0/29 [00:00<?, ?it/s]"
      ]
     },
     "metadata": {},
     "output_type": "display_data"
    },
    {
     "data": {
      "application/vnd.jupyter.widget-view+json": {
       "model_id": "5d525bf883784be7b22f69e5a71de25f",
       "version_major": 2,
       "version_minor": 0
      },
      "text/plain": [
       "  0%|          | 0/23 [00:00<?, ?it/s]"
      ]
     },
     "metadata": {},
     "output_type": "display_data"
    },
    {
     "data": {
      "application/vnd.jupyter.widget-view+json": {
       "model_id": "326ac23dacd64ddeb7680d5e1edbc6be",
       "version_major": 2,
       "version_minor": 0
      },
      "text/plain": [
       "  0%|          | 0/13 [00:00<?, ?it/s]"
      ]
     },
     "metadata": {},
     "output_type": "display_data"
    },
    {
     "data": {
      "application/vnd.jupyter.widget-view+json": {
       "model_id": "c0ff828847174dadb24ca5068b39bf14",
       "version_major": 2,
       "version_minor": 0
      },
      "text/plain": [
       "  0%|          | 0/14 [00:00<?, ?it/s]"
      ]
     },
     "metadata": {},
     "output_type": "display_data"
    },
    {
     "data": {
      "application/vnd.jupyter.widget-view+json": {
       "model_id": "1d5283babfe24b48a7cb461f28d855b0",
       "version_major": 2,
       "version_minor": 0
      },
      "text/plain": [
       "  0%|          | 0/7 [00:00<?, ?it/s]"
      ]
     },
     "metadata": {},
     "output_type": "display_data"
    },
    {
     "data": {
      "application/vnd.jupyter.widget-view+json": {
       "model_id": "cffd5fccbf3441a4814b1a54987ca87f",
       "version_major": 2,
       "version_minor": 0
      },
      "text/plain": [
       "  0%|          | 0/14 [00:00<?, ?it/s]"
      ]
     },
     "metadata": {},
     "output_type": "display_data"
    },
    {
     "data": {
      "application/vnd.jupyter.widget-view+json": {
       "model_id": "259795cf65254123955c8ce1910a683c",
       "version_major": 2,
       "version_minor": 0
      },
      "text/plain": [
       "  0%|          | 0/49 [00:00<?, ?it/s]"
      ]
     },
     "metadata": {},
     "output_type": "display_data"
    },
    {
     "data": {
      "application/vnd.jupyter.widget-view+json": {
       "model_id": "0a405752477a429bb881c46098372575",
       "version_major": 2,
       "version_minor": 0
      },
      "text/plain": [
       "  0%|          | 0/29 [00:00<?, ?it/s]"
      ]
     },
     "metadata": {},
     "output_type": "display_data"
    },
    {
     "data": {
      "application/vnd.jupyter.widget-view+json": {
       "model_id": "86c5cc12f4734d1e8261a061a9251f49",
       "version_major": 2,
       "version_minor": 0
      },
      "text/plain": [
       "  0%|          | 0/99 [00:00<?, ?it/s]"
      ]
     },
     "metadata": {},
     "output_type": "display_data"
    },
    {
     "data": {
      "application/vnd.jupyter.widget-view+json": {
       "model_id": "37d69a0160af4d73bc52bf458ebc361c",
       "version_major": 2,
       "version_minor": 0
      },
      "text/plain": [
       "  0%|          | 0/98 [00:00<?, ?it/s]"
      ]
     },
     "metadata": {},
     "output_type": "display_data"
    },
    {
     "data": {
      "application/vnd.jupyter.widget-view+json": {
       "model_id": "2064f5bb1cb24fa4b1eca6eee131a3e9",
       "version_major": 2,
       "version_minor": 0
      },
      "text/plain": [
       "  0%|          | 0/54 [00:00<?, ?it/s]"
      ]
     },
     "metadata": {},
     "output_type": "display_data"
    },
    {
     "data": {
      "application/vnd.jupyter.widget-view+json": {
       "model_id": "87e80961bab045e6b098ee9a91b1cac7",
       "version_major": 2,
       "version_minor": 0
      },
      "text/plain": [
       "  0%|          | 0/73 [00:00<?, ?it/s]"
      ]
     },
     "metadata": {},
     "output_type": "display_data"
    },
    {
     "data": {
      "application/vnd.jupyter.widget-view+json": {
       "model_id": "c8b85bd11c2d424491016fe41e60b57c",
       "version_major": 2,
       "version_minor": 0
      },
      "text/plain": [
       "  0%|          | 0/103 [00:00<?, ?it/s]"
      ]
     },
     "metadata": {},
     "output_type": "display_data"
    },
    {
     "data": {
      "application/vnd.jupyter.widget-view+json": {
       "model_id": "1b234a58b49947788f7842ff4446287c",
       "version_major": 2,
       "version_minor": 0
      },
      "text/plain": [
       "  0%|          | 0/120 [00:00<?, ?it/s]"
      ]
     },
     "metadata": {},
     "output_type": "display_data"
    },
    {
     "data": {
      "application/vnd.jupyter.widget-view+json": {
       "model_id": "27e15c32ff644d9dacfc71e673e38867",
       "version_major": 2,
       "version_minor": 0
      },
      "text/plain": [
       "  0%|          | 0/120 [00:00<?, ?it/s]"
      ]
     },
     "metadata": {},
     "output_type": "display_data"
    },
    {
     "data": {
      "application/vnd.jupyter.widget-view+json": {
       "model_id": "401b466facef4bd6a54b4b8726c460e6",
       "version_major": 2,
       "version_minor": 0
      },
      "text/plain": [
       "  0%|          | 0/27 [00:00<?, ?it/s]"
      ]
     },
     "metadata": {},
     "output_type": "display_data"
    },
    {
     "data": {
      "application/vnd.jupyter.widget-view+json": {
       "model_id": "bba69f7d833c4a49ba5055aeda6dde3b",
       "version_major": 2,
       "version_minor": 0
      },
      "text/plain": [
       "  0%|          | 0/11 [00:00<?, ?it/s]"
      ]
     },
     "metadata": {},
     "output_type": "display_data"
    },
    {
     "data": {
      "application/vnd.jupyter.widget-view+json": {
       "model_id": "3262d5f5e637402d96ebb96661e7c069",
       "version_major": 2,
       "version_minor": 0
      },
      "text/plain": [
       "  0%|          | 0/38 [00:00<?, ?it/s]"
      ]
     },
     "metadata": {},
     "output_type": "display_data"
    },
    {
     "data": {
      "application/vnd.jupyter.widget-view+json": {
       "model_id": "fde18fbded52479e8d5e4d6c92632fcf",
       "version_major": 2,
       "version_minor": 0
      },
      "text/plain": [
       "  0%|          | 0/26 [00:00<?, ?it/s]"
      ]
     },
     "metadata": {},
     "output_type": "display_data"
    },
    {
     "name": "stdout",
     "output_type": "stream",
     "text": [
      "Synapsse Results:\n",
      "Total Number of Synapses = 4015\n",
      "n_valid_syn_ids_presyn = 12\n",
      "n_errored_syn_ids_presyn = 109\n",
      "n_valid_syn_ids_postsyn = 3879\n",
      "n_errored_syn_ids_postsyn = 15\n",
      "Synapsse Results:\n",
      "Total Number of Synapses = 4015\n",
      "n_valid_syn_ids_presyn = 12\n",
      "n_errored_syn_ids_presyn = 109\n",
      "n_valid_syn_ids_postsyn = 3879\n",
      "n_errored_syn_ids_postsyn = 15\n"
     ]
    },
    {
     "data": {
      "application/vnd.jupyter.widget-view+json": {
       "model_id": "5299b7bdea6b4da7a01790574836a8dc",
       "version_major": 2,
       "version_minor": 0
      },
      "text/plain": [
       "  0%|          | 0/10 [00:00<?, ?it/s]"
      ]
     },
     "metadata": {},
     "output_type": "display_data"
    },
    {
     "data": {
      "application/vnd.jupyter.widget-view+json": {
       "model_id": "cd69759dd1a84f73bf6c2b18f5d27b18",
       "version_major": 2,
       "version_minor": 0
      },
      "text/plain": [
       "  0%|          | 0/4 [00:00<?, ?it/s]"
      ]
     },
     "metadata": {},
     "output_type": "display_data"
    },
    {
     "name": "stdout",
     "output_type": "stream",
     "text": [
      "Synapsse Results:\n",
      "Total Number of Synapses = 4015\n",
      "n_valid_syn_ids_presyn = 12\n",
      "n_errored_syn_ids_presyn = 109\n",
      "n_valid_syn_ids_postsyn = 3879\n",
      "n_errored_syn_ids_postsyn = 15\n",
      "Synapsse Results:\n",
      "Total Number of Synapses = 4015\n",
      "n_valid_syn_ids_presyn = 12\n",
      "n_errored_syn_ids_presyn = 109\n",
      "n_valid_syn_ids_postsyn = 3879\n",
      "n_errored_syn_ids_postsyn = 15\n"
     ]
    },
    {
     "data": {
      "application/vnd.jupyter.widget-view+json": {
       "model_id": "65f8929846d54ff8b9570bb128e16c87",
       "version_major": 2,
       "version_minor": 0
      },
      "text/plain": [
       "  0%|          | 0/10 [00:00<?, ?it/s]"
      ]
     },
     "metadata": {},
     "output_type": "display_data"
    },
    {
     "data": {
      "application/vnd.jupyter.widget-view+json": {
       "model_id": "809c4aa5cfbb48589c8f31e47f743a9c",
       "version_major": 2,
       "version_minor": 0
      },
      "text/plain": [
       "  0%|          | 0/4 [00:00<?, ?it/s]"
      ]
     },
     "metadata": {},
     "output_type": "display_data"
    },
    {
     "name": "stdout",
     "output_type": "stream",
     "text": [
      "\n",
      "\n",
      "len(branch_attr_keys) = 14\n",
      "Saving Neuorn in suppress_output mode...please wait\n",
      "Saved File at location: /mnt/dj-stor01/platinum/minnie65/02/decomposition/864691136003930314_0_25_soma_0_split_full_axon\n",
      "Save time = 209.65487718582153\n",
      "\n",
      "\n",
      " ***------ Total time for 864691136003930314 = 620.4761247634888 ------ ***\n",
      "\n",
      "\n",
      "\n",
      "---- Working on Neuron 864691136194103510 ----\n",
      "Decompressing Neuron in minimal output mode...please wait\n",
      "Pulled from Table Decomposition so setting split_index = 0\n",
      "Dont need spine recalculation\n",
      "Number of Neurons found = 1\n",
      "\n",
      "Part 1: Axon like branchese \n",
      "{'L0': array([  0,   1,   2,   3,   4,   5,   6,   7,   8,   9,  10,  11,  12,\n",
      "        13,  14,  15,  16,  17,  18,  19,  20,  21,  22,  23,  24,  25,\n",
      "        26,  27,  28,  29,  30,  31,  32,  33,  34,  35,  36,  37,  38,\n",
      "        39,  40,  41,  42,  43,  44,  45,  46,  47,  48,  49,  50,  51,\n",
      "        52,  53,  54,  55,  56,  57,  58,  59,  60,  61,  62,  63,  64,\n",
      "        65,  66,  67,  68,  69,  70,  71,  72,  73,  74,  75,  76,  77,\n",
      "        78,  79,  80,  81,  82,  83,  84,  85,  86,  87,  88,  89,  90,\n",
      "        91,  92,  93,  94,  95,  96,  97,  98,  99, 100, 101, 102, 103,\n",
      "       104, 105, 106, 107]), 'L3': array([2])}\n",
      "Limb L0 soma angle: 147.49 \n",
      "Limb L1 soma angle: 8.16 \n",
      "Limb L2 soma angle: 144.74 \n",
      "Limb L3 soma angle: 100.03 \n",
      "Limb L4 soma angle: 41.48 \n",
      "Limb L5 soma angle: 79.11 \n",
      "\n",
      "Part 2: possible_axon_limbs = [0, 2, 3, 5]\n",
      "\n",
      "Phase 2: Working on Limb L0\n",
      "nodes_to_eliminate = []\n",
      "\n",
      "Phase 2: Working on Limb L2\n",
      "nodes_to_eliminate = [2 4]\n",
      "\n",
      "Phase 2: Working on Limb L3\n",
      "nodes_to_eliminate = [10 11]\n",
      "\n",
      "Phase 2: Working on Limb L5\n",
      "nodes_to_eliminate = [2]\n",
      "\n",
      "----Working on Limb L0-----\n",
      "No nodes were eliminated so don't need to add back any candidates\n",
      "\n",
      "----Working on Limb L2-----\n",
      "No endpoints were eliminated so don't need to add back any candidates\n",
      "\n",
      "----Working on Limb L3-----\n",
      "No endpoints were eliminated so don't need to add back any candidates\n",
      "\n",
      "----Working on Limb L5-----\n",
      "No endpoints were eliminated so don't need to add back any candidates\n",
      "Final Candidates\n",
      "\n",
      "Limb 0\n",
      "Candidate 0 (crimson): array([  0,   1,   2,   3,   4,   5,   6,   7,   8,   9,  10,  11,  12,\n",
      "        13,  14,  15,  16,  17,  18,  19,  20,  21,  22,  23,  24,  25,\n",
      "        26,  27,  28,  29,  30,  31,  32,  33,  34,  35,  36,  37,  38,\n",
      "        39,  40,  41,  42,  43,  44,  45,  46,  47,  48,  49,  50,  51,\n",
      "        52,  53,  54,  55,  56,  57,  58,  59,  60,  61,  62,  63,  64,\n",
      "        65,  66,  67,  68,  69,  70,  71,  72,  73,  74,  75,  76,  77,\n",
      "        78,  79,  80,  81,  82,  83,  84,  85,  86,  87,  88,  89,  90,\n",
      "        91,  92,  93,  94,  95,  96,  97,  98,  99, 100, 101, 102, 103,\n",
      "       104, 105, 106, 107])\n",
      "\n",
      "Limb 2\n",
      "Candidate 0 (crimson): array([0, 3, 6])\n",
      "Candidate 1 (brown): array([1])\n",
      "Candidate 2 (brown): array([ 5,  7,  8,  9, 10])\n",
      "\n",
      "Limb 3\n",
      "Candidate 0 (tan): array([6])\n",
      "Candidate 1 (olive): array([0, 1, 2, 3, 4, 5, 7, 8, 9])\n",
      "Candidate 2 (gold): array([12])\n",
      "\n",
      "Limb 5\n",
      "Candidate 0 (gold): array([0])\n",
      "Candidate 1 (gold): array([1])\n",
      "Part 3: axon_subgraph_candidates = {0: [[0, 1, 2, 3, 4, 5, 6, 7, 8, 9, 10, 11, 12, 13, 14, 15, 16, 17, 18, 19, 20, 21, 22, 23, 24, 25, 26, 27, 28, 29, 30, 31, 32, 33, 34, 35, 36, 37, 38, 39, 40, 41, 42, 43, 44, 45, 46, 47, 48, 49, 50, 51, 52, 53, 54, 55, 56, 57, 58, 59, 60, 61, 62, 63, 64, 65, 66, 67, 68, 69, 70, 71, 72, 73, 74, 75, 76, 77, 78, 79, 80, 81, 82, 83, 84, 85, 86, 87, 88, 89, 90, 91, 92, 93, 94, 95, 96, 97, 98, 99, 100, 101, 102, 103, 104, 105, 106, 107]], 2: [[0, 3, 6], [1], [5, 7, 8, 9, 10]], 3: [[6], [0, 1, 2, 3, 4, 5, 7, 8, 9], [12]], 5: [[0], [1]]}\n",
      "\n",
      "\n",
      " --- Working on limb 0, candidate # 0\n",
      "108 out of 108 branches are axons\n",
      "Axon percentage = 1.0\n",
      "curr_axon_angle_threshold = 95\n",
      "candidate_nodes = [  0   1   2   3   4   5   6   7   8   9  10  11  12  13  14  15  16  17\n",
      "  18  19  20  21  22  23  24  25  26  27  28  29  30  31  32  33  34  35\n",
      "  36  37  38  39  40  41  42  43  44  45  46  47  48  49  50  51  52  53\n",
      "  54  55  56  57  58  59  60  61  62  63  64  65  66  67  68  69  70  71\n",
      "  72  73  74  75  76  77  78  79  80  81  82  83  84  85  86  87  88  89\n",
      "  90  91  92  93  94  95  96  97  98  99 100 101 102 103 104 105 106 107]\n",
      "non_axon_branches_on_subgraph = []\n",
      "endnodes_to_test = [9313]\n",
      "Skeleton paths distances = [24999.05154915]\n",
      "Filtered indexes = [0]\n",
      "len(filtered_skeletons) = 1\n",
      "sk_angles = [162.55193905]\n",
      "candidate_angles,restr_skels = (array([162.55193905]), [array([[[1312592.63701295,  561308.43596956,  781381.98479348],\n",
      "        [1312639.4172799 ,  561396.15477543,  781392.72089031]],\n",
      "\n",
      "       [[1312639.4172799 ,  561396.15477543,  781392.72089031],\n",
      "        [1312684.53364772,  561485.07531506,  781400.31371494]],\n",
      "\n",
      "       [[1312684.53364772,  561485.07531506,  781400.31371494],\n",
      "        [1312729.65001555,  561573.9958547 ,  781407.90653956]],\n",
      "\n",
      "       [[1312729.65001555,  561573.9958547 ,  781407.90653956],\n",
      "        [1312773.97137272,  561663.40480568,  781414.05104845]],\n",
      "\n",
      "       [[1312773.97137272,  561663.40480568,  781414.05104845],\n",
      "        [1312817.24766512,  561753.45578767,  781418.29170395]],\n",
      "\n",
      "       [[1312817.24766512,  561753.45578767,  781418.29170395],\n",
      "        [1312860.52395752,  561843.50676966,  781422.53235944]],\n",
      "\n",
      "       [[1312860.52395752,  561843.50676966,  781422.53235944],\n",
      "        [1312902.32496808,  561934.31489909,  781424.45644742]],\n",
      "\n",
      "       [[1312902.32496808,  561934.31489909,  781424.45644742],\n",
      "        [1312943.60665707,  562025.3895559 ,  781425.56506852]],\n",
      "\n",
      "       [[1312943.60665707,  562025.3895559 ,  781425.56506852],\n",
      "        [1312984.73782083,  562116.52953123,  781426.50462012]],\n",
      "\n",
      "       [[1312984.73782083,  562116.52953123,  781426.50462012],\n",
      "        [1313023.5653448 ,  562208.66914183,  781424.85673042]],\n",
      "\n",
      "       [[1313023.5653448 ,  562208.66914183,  781424.85673042],\n",
      "        [1313062.39286877,  562300.80875243,  781423.20884073]],\n",
      "\n",
      "       [[1313062.39286877,  562300.80875243,  781423.20884073],\n",
      "        [1313099.98903709,  562393.41954506,  781420.7315759 ]],\n",
      "\n",
      "       [[1313099.98903709,  562393.41954506,  781420.7315759 ],\n",
      "        [1313135.7416193 ,  562486.73579157,  781417.01257036]],\n",
      "\n",
      "       [[1313135.7416193 ,  562486.73579157,  781417.01257036],\n",
      "        [1313171.49420151,  562580.05203808,  781413.29356482]],\n",
      "\n",
      "       [[1313171.49420151,  562580.05203808,  781413.29356482],\n",
      "        [1313204.65235779,  562674.2734633 ,  781408.8179257 ]],\n",
      "\n",
      "       [[1313204.65235779,  562674.2734633 ,  781408.8179257 ],\n",
      "        [1313236.90714573,  562768.81006799,  781404.07882991]],\n",
      "\n",
      "       [[1313236.90714573,  562768.81006799,  781404.07882991],\n",
      "        [1313268.94887054,  562863.41589474,  781399.35569569]],\n",
      "\n",
      "       [[1313268.94887054,  562863.41589474,  781399.35569569],\n",
      "        [1313297.79134113,  562959.06112698,  781394.87223271]],\n",
      "\n",
      "       [[1313297.79134113,  562959.06112698,  781394.87223271],\n",
      "        [1313326.63381173,  563054.70635922,  781390.38876973]],\n",
      "\n",
      "       [[1313326.63381173,  563054.70635922,  781390.38876973],\n",
      "        [1313354.51086006,  563150.64689788,  781386.40787583]],\n",
      "\n",
      "       [[1313354.51086006,  563150.64689788,  781386.40787583],\n",
      "        [1313380.53900099,  563247.1529862 ,  781383.38946617]],\n",
      "\n",
      "       [[1313380.53900099,  563247.1529862 ,  781383.38946617],\n",
      "        [1313406.56714193,  563343.65907452,  781380.37105651]],\n",
      "\n",
      "       [[1313406.56714193,  563343.65907452,  781380.37105651],\n",
      "        [1313431.44350768,  563440.48842688,  781378.67482321]],\n",
      "\n",
      "       [[1313431.44350768,  563440.48842688,  781378.67482321],\n",
      "        [1313455.46281176,  563537.55832724,  781377.96245092]],\n",
      "\n",
      "       [[1313455.46281176,  563537.55832724,  781377.96245092],\n",
      "        [1313479.48211583,  563634.62822761,  781377.25007863]],\n",
      "\n",
      "       [[1313479.48211583,  563634.62822761,  781377.25007863],\n",
      "        [1313502.4587375 ,  563731.93675684,  781378.48009655]],\n",
      "\n",
      "       [[1313502.4587375 ,  563731.93675684,  781378.48009655],\n",
      "        [1313525.0935136 ,  563829.32352103,  781380.34693107]],\n",
      "\n",
      "       [[1313525.0935136 ,  563829.32352103,  781380.34693107],\n",
      "        [1313547.72828971,  563926.71028522,  781382.2137656 ]],\n",
      "\n",
      "       [[1313547.72828971,  563926.71028522,  781382.2137656 ],\n",
      "        [1313569.32190572,  564024.27138189,  781386.07571308]],\n",
      "\n",
      "       [[1313569.32190572,  564024.27138189,  781386.07571308],\n",
      "        [1313590.78605801,  564121.85415604,  781390.18574416]],\n",
      "\n",
      "       [[1313590.78605801,  564121.85415604,  781390.18574416],\n",
      "        [1313612.2502103 ,  564219.43693019,  781394.29577524]],\n",
      "\n",
      "       [[1313612.2502103 ,  564219.43693019,  781394.29577524],\n",
      "        [1313632.38585702,  564317.23288981,  781399.81718567]],\n",
      "\n",
      "       [[1313632.38585702,  564317.23288981,  781399.81718567],\n",
      "        [1313652.51450192,  564415.02997301,  781405.34603471]],\n",
      "\n",
      "       [[1313652.51450192,  564415.02997301,  781405.34603471],\n",
      "        [1313672.50144456,  564512.85330648,  781410.90363991]],\n",
      "\n",
      "       [[1313672.50144456,  564512.85330648,  781410.90363991],\n",
      "        [1313690.97541438,  564610.9569173 ,  781416.76827822]],\n",
      "\n",
      "       [[1313690.97541438,  564610.9569173 ,  781416.76827822],\n",
      "        [1313709.4493842 ,  564709.06052813,  781422.63291653]],\n",
      "\n",
      "       [[1313709.4493842 ,  564709.06052813,  781422.63291653],\n",
      "        [1313727.5864038 ,  564807.23190248,  781428.36075527]],\n",
      "\n",
      "       [[1313727.5864038 ,  564807.23190248,  781428.36075527],\n",
      "        [1313744.19273447,  564905.71111131,  781433.46714439]],\n",
      "\n",
      "       [[1313744.19273447,  564905.71111131,  781433.46714439],\n",
      "        [1313760.79906515,  565004.19032014,  781438.5735335 ]],\n",
      "\n",
      "       [[1313760.79906515,  565004.19032014,  781438.5735335 ],\n",
      "        [1313776.86776459,  565102.77658428,  781443.18251269]],\n",
      "\n",
      "       [[1313776.86776459,  565102.77658428,  781443.18251269],\n",
      "        [1313791.65820513,  565201.6173805 ,  781446.60886213]],\n",
      "\n",
      "       [[1313791.65820513,  565201.6173805 ,  781446.60886213],\n",
      "        [1313806.44864567,  565300.45817673,  781450.03521157]],\n",
      "\n",
      "       [[1313806.44864567,  565300.45817673,  781450.03521157],\n",
      "        [1313820.57275398,  565399.41731935,  781452.41549407]],\n",
      "\n",
      "       [[1313820.57275398,  565399.41731935,  781452.41549407],\n",
      "        [1313833.86755876,  565498.52375348,  781453.49386299]],\n",
      "\n",
      "       [[1313833.86755876,  565498.52375348,  781453.49386299],\n",
      "        [1313847.16236355,  565597.63018761,  781454.5722319 ]],\n",
      "\n",
      "       [[1313847.16236355,  565597.63018761,  781454.5722319 ],\n",
      "        [1313859.81249011,  565696.81445092,  781453.89505889]],\n",
      "\n",
      "       [[1313859.81249011,  565696.81445092,  781453.89505889],\n",
      "        [1313872.09504008,  565796.04309013,  781452.21692742]],\n",
      "\n",
      "       [[1313872.09504008,  565796.04309013,  781452.21692742],\n",
      "        [1313884.37759005,  565895.27172935,  781450.53879595]],\n",
      "\n",
      "       [[1313884.37759005,  565895.27172935,  781450.53879595],\n",
      "        [1313896.24208803,  565994.47110556,  781446.32394442]],\n",
      "\n",
      "       [[1313896.24208803,  565994.47110556,  781446.32394442],\n",
      "        [1313908.04635157,  566093.66626544,  781441.74359316]],\n",
      "\n",
      "       [[1313908.04635157,  566093.66626544,  781441.74359316],\n",
      "        [1313919.86135497,  566192.83451588,  781436.7356991 ]],\n",
      "\n",
      "       [[1313919.86135497,  566192.83451588,  781436.7356991 ],\n",
      "        [1313931.73395487,  566291.85845442,  781429.43494796]],\n",
      "\n",
      "       [[1313931.73395487,  566291.85845442,  781429.43494796],\n",
      "        [1313943.60655477,  566390.88239296,  781422.13419682]],\n",
      "\n",
      "       [[1313943.60655477,  566390.88239296,  781422.13419682],\n",
      "        [1313955.80379194,  566489.78096349,  781413.82320702]],\n",
      "\n",
      "       [[1313955.80379194,  566489.78096349,  781413.82320702],\n",
      "        [1313968.35009553,  566588.54473199,  781404.42595748]],\n",
      "\n",
      "       [[1313968.35009553,  566588.54473199,  781404.42595748],\n",
      "        [1313980.89639912,  566687.30850048,  781395.02870794]],\n",
      "\n",
      "       [[1313980.89639912,  566687.30850048,  781395.02870794],\n",
      "        [1313994.62656322,  566785.83225625,  781384.82344406]],\n",
      "\n",
      "       [[1313994.62656322,  566785.83225625,  781384.82344406],\n",
      "        [1314008.58359445,  566884.31001757,  781374.46333771]],\n",
      "\n",
      "       [[1314008.58359445,  566884.31001757,  781374.46333771],\n",
      "        [1314023.03929852,  566982.72428455,  781364.23139491]],\n",
      "\n",
      "       [[1314023.03929852,  566982.72428455,  781364.23139491],\n",
      "        [1314039.2960527 ,  567080.90922987,  781354.46233878]],\n",
      "\n",
      "       [[1314039.2960527 ,  567080.90922987,  781354.46233878],\n",
      "        [1314055.55280688,  567179.09417518,  781344.69328264]],\n",
      "\n",
      "       [[1314055.55280688,  567179.09417518,  781344.69328264],\n",
      "        [1314073.77321455,  567277.04229968,  781336.30632521]],\n",
      "\n",
      "       [[1314073.77321455,  567277.04229968,  781336.30632521],\n",
      "        [1314093.28893621,  567374.83420656,  781328.83106212]],\n",
      "\n",
      "       [[1314093.28893621,  567374.83420656,  781328.83106212],\n",
      "        [1314112.80465786,  567472.62611343,  781321.35579903]],\n",
      "\n",
      "       [[1314112.80465786,  567472.62611343,  781321.35579903],\n",
      "        [1314136.3871959 ,  567569.73146321,  781317.61115121]],\n",
      "\n",
      "       [[1314136.3871959 ,  567569.73146321,  781317.61115121],\n",
      "        [1314160.02135264,  567666.82809876,  781313.9138548 ]],\n",
      "\n",
      "       [[1314160.02135264,  567666.82809876,  781313.9138548 ],\n",
      "        [1314185.38574735,  567763.48305013,  781311.95480905]],\n",
      "\n",
      "       [[1314185.38574735,  567763.48305013,  781311.95480905],\n",
      "        [1314213.71173027,  567859.38198606,  781312.97106655]],\n",
      "\n",
      "       [[1314213.71173027,  567859.38198606,  781312.97106655],\n",
      "        [1314242.03771319,  567955.28092199,  781313.98732405]],\n",
      "\n",
      "       [[1314242.03771319,  567955.28092199,  781313.98732405],\n",
      "        [1314274.01516188,  568049.86308046,  781318.6922816 ]],\n",
      "\n",
      "       [[1314274.01516188,  568049.86308046,  781318.6922816 ],\n",
      "        [1314307.2051276 ,  568144.00798573,  781324.6221203 ]],\n",
      "\n",
      "       [[1314307.2051276 ,  568144.00798573,  781324.6221203 ],\n",
      "        [1314341.06319092,  568237.8429678 ,  781331.18289784]],\n",
      "\n",
      "       [[1314341.06319092,  568237.8429678 ,  781331.18289784],\n",
      "        [1314378.887887  ,  568329.83787214,  781341.48968895]],\n",
      "\n",
      "       [[1314378.887887  ,  568329.83787214,  781341.48968895],\n",
      "        [1314416.71258309,  568421.83277647,  781351.79648006]],\n",
      "\n",
      "       [[1314416.71258309,  568421.83277647,  781351.79648006],\n",
      "        [1314456.84115016,  568512.57402645,  781363.95191329]],\n",
      "\n",
      "       [[1314456.84115016,  568512.57402645,  781363.95191329],\n",
      "        [1314498.75274808,  568602.34503792,  781377.53806288]],\n",
      "\n",
      "       [[1314498.75274808,  568602.34503792,  781377.53806288],\n",
      "        [1314540.73805846,  568692.07278043,  781391.16756326]],\n",
      "\n",
      "       [[1314540.73805846,  568692.07278043,  781391.16756326],\n",
      "        [1314585.95479548,  568779.90368698,  781406.69748754]],\n",
      "\n",
      "       [[1314585.95479548,  568779.90368698,  781406.69748754],\n",
      "        [1314631.1715325 ,  568867.73459352,  781422.22741182]],\n",
      "\n",
      "       [[1314631.1715325 ,  568867.73459352,  781422.22741182],\n",
      "        [1314677.60390464,  568954.84315627,  781438.17000862]],\n",
      "\n",
      "       [[1314677.60390464,  568954.84315627,  781438.17000862],\n",
      "        [1314725.1381124 ,  569041.29699612,  781454.48664634]],\n",
      "\n",
      "       [[1314725.1381124 ,  569041.29699612,  781454.48664634],\n",
      "        [1314772.74316264,  569127.70903498,  781470.81504451]],\n",
      "\n",
      "       [[1314772.74316264,  569127.70903498,  781470.81504451],\n",
      "        [1314821.39629509,  569213.50264704,  781487.31743321]],\n",
      "\n",
      "       [[1314821.39629509,  569213.50264704,  781487.31743321],\n",
      "        [1314870.04942753,  569299.2962591 ,  781503.81982191]],\n",
      "\n",
      "       [[1314870.04942753,  569299.2962591 ,  781503.81982191],\n",
      "        [1314918.54772765,  569385.14458315,  781520.49154536]],\n",
      "\n",
      "       [[1314918.54772765,  569385.14458315,  781520.49154536],\n",
      "        [1314966.95202666,  569471.0261237 ,  781537.26607456]],\n",
      "\n",
      "       [[1314966.95202666,  569471.0261237 ,  781537.26607456],\n",
      "        [1315015.05157541,  569557.04573249,  781554.19130745]],\n",
      "\n",
      "       [[1315015.05157541,  569557.04573249,  781554.19130745],\n",
      "        [1315061.80036096,  569643.67730959,  781571.78451352]],\n",
      "\n",
      "       [[1315061.80036096,  569643.67730959,  781571.78451352],\n",
      "        [1315108.54914651,  569730.30888668,  781589.37771958]],\n",
      "\n",
      "       [[1315108.54914651,  569730.30888668,  781589.37771958],\n",
      "        [1315153.14539057,  569817.84437018,  781607.99041692]],\n",
      "\n",
      "       [[1315153.14539057,  569817.84437018,  781607.99041692],\n",
      "        [1315196.98486299,  569905.69764116,  781626.96153804]],\n",
      "\n",
      "       [[1315196.98486299,  569905.69764116,  781626.96153804],\n",
      "        [1315239.70713399,  569993.97758166,  781646.39125961]],\n",
      "\n",
      "       [[1315239.70713399,  569993.97758166,  781646.39125961],\n",
      "        [1315279.7424111 ,  570083.28370989,  781666.92396636]],\n",
      "\n",
      "       [[1315279.7424111 ,  570083.28370989,  781666.92396636],\n",
      "        [1315319.77768821,  570172.58983813,  781687.4566731 ]],\n",
      "\n",
      "       [[1315319.77768821,  570172.58983813,  781687.4566731 ],\n",
      "        [1315356.22901425,  570263.15592891,  781709.05707162]],\n",
      "\n",
      "       [[1315356.22901425,  570263.15592891,  781709.05707162],\n",
      "        [1315392.10339464,  570353.92484889,  781730.82934752]],\n",
      "\n",
      "       [[1315392.10339464,  570353.92484889,  781730.82934752],\n",
      "        [1315426.18186956,  570445.29608992,  781752.86884987]],\n",
      "\n",
      "       [[1315426.18186956,  570445.29608992,  781752.86884987],\n",
      "        [1315458.1922086 ,  570537.36095421,  781775.21608591]],\n",
      "\n",
      "       [[1315458.1922086 ,  570537.36095421,  781775.21608591],\n",
      "        [1315489.84272941,  570629.54684832,  781797.55411685]],\n",
      "\n",
      "       [[1315489.84272941,  570629.54684832,  781797.55411685],\n",
      "        [1315518.95351709,  570722.5870167 ,  781819.82717476]]])])\n"
     ]
    },
    {
     "name": "stdout",
     "output_type": "stream",
     "text": [
      "base_final_widths = [256.18463789 173.81339149]\n",
      "overall_ais_width = 177.7476686828889\n",
      "ais_width = 214.99901468917454\n",
      "Adding the following branches as true axons: [  0.   1.   2.   3.   4.   5.   6.   7.   8.   9.  10.  11.  12.  13.\n",
      "  14.  15.  16.  17.  18.  19.  20.  21.  22.  23.  24.  25.  26.  27.\n",
      "  28.  29.  30.  31.  32.  33.  34.  35.  36.  37.  38.  39.  40.  41.\n",
      "  42.  43.  44.  45.  46.  47.  48.  49.  50.  51.  52.  53.  54.  55.\n",
      "  56.  57.  58.  59.  60.  61.  62.  63.  64.  65.  66.  67.  68.  69.\n",
      "  70.  71.  72.  73.  74.  75.  76.  77.  78.  79.  80.  81.  82.  83.\n",
      "  84.  85.  86.  87.  88.  89.  90.  91.  92.  93.  94.  95.  96.  97.\n",
      "  98.  99. 100. 101. 102. 103. 104. 105. 106. 107.]\n",
      "curr_soma_angle = 147.49\n",
      "max_axon_angle = 162.55193905494653\n",
      "Changing to a better axon candidate\n",
      "\n",
      "\n",
      " --- Working on limb 2, candidate # 0\n",
      "0 out of 3 branches are axons\n",
      "Axon percentage = 0.0\n",
      "Not adding candidate no axon branches detected \n",
      "\n",
      "\n",
      " --- Working on limb 2, candidate # 1\n",
      "0 out of 1 branches are axons\n",
      "Axon percentage = 0.0\n",
      "Not adding candidate no axon branches detected \n",
      "\n",
      "\n",
      " --- Working on limb 2, candidate # 2\n",
      "0 out of 5 branches are axons\n",
      "Axon percentage = 0.0\n",
      "Not adding candidate no axon branches detected \n",
      "\n",
      "\n",
      " --- Working on limb 3, candidate # 0\n",
      "0 out of 1 branches are axons\n",
      "Axon percentage = 0.0\n",
      "Not adding candidate no axon branches detected \n",
      "\n",
      "\n",
      " --- Working on limb 3, candidate # 1\n",
      "1 out of 9 branches are axons\n",
      "Axon percentage = 0.1111111111111111\n",
      "curr_axon_angle_threshold = 120\n",
      "candidate_nodes = [ 0  1  2  3  4  5  7  8  9 10 11]\n",
      "non_axon_branches_on_subgraph = [ 0  1  3  4  5  7  8  9 10 11]\n",
      "endnodes_to_test = []\n",
      "candidate_angles,restr_skels = (None, None)\n",
      "Not adding candidate because no angles (None) passed the threhold 120 \n",
      "\n",
      "\n",
      " --- Working on limb 3, candidate # 2\n",
      "0 out of 1 branches are axons\n",
      "Axon percentage = 0.0\n",
      "Not adding candidate no axon branches detected \n",
      "\n",
      "\n",
      " --- Working on limb 5, candidate # 0\n",
      "0 out of 1 branches are axons\n",
      "Axon percentage = 0.0\n",
      "Not adding candidate no axon branches detected \n",
      "\n",
      "\n",
      " --- Working on limb 5, candidate # 1\n",
      "0 out of 1 branches are axons\n",
      "Axon percentage = 0.0\n",
      "Not adding candidate no axon branches detected \n",
      "Using the best axon approach\n",
      "Using True\n",
      "Limb L0: Axon branches before dendritic path filter = [  0.   1.   2.   3.   4.   5.   6.   7.   8.   9.  10.  11.  12.  13.\n",
      "  14.  15.  16.  17.  18.  19.  20.  21.  22.  23.  24.  25.  26.  27.\n",
      "  28.  29.  30.  31.  32.  33.  34.  35.  36.  37.  38.  39.  40.  41.\n",
      "  42.  43.  44.  45.  46.  47.  48.  49.  50.  51.  52.  53.  54.  55.\n",
      "  56.  57.  58.  59.  60.  61.  62.  63.  64.  65.  66.  67.  68.  69.\n",
      "  70.  71.  72.  73.  74.  75.  76.  77.  78.  79.  80.  81.  82.  83.\n",
      "  84.  85.  86.  87.  88.  89.  90.  91.  92.  93.  94.  95.  96.  97.\n",
      "  98.  99. 100. 101. 102. 103. 104. 105. 106. 107.]\n",
      "Limb L0: Axon branches AFTER dendritic path filter = [  0.   1.   2.   3.   4.   5.   6.   7.   8.   9.  10.  11.  12.  13.\n",
      "  14.  15.  16.  17.  18.  19.  20.  21.  22.  23.  24.  25.  26.  27.\n",
      "  28.  29.  30.  31.  32.  33.  34.  35.  36.  37.  38.  39.  40.  41.\n",
      "  42.  43.  44.  45.  46.  47.  48.  49.  50.  51.  52.  53.  54.  55.\n",
      "  56.  57.  58.  59.  60.  61.  62.  63.  64.  65.  66.  67.  68.  69.\n",
      "  70.  71.  72.  73.  74.  75.  76.  77.  78.  79.  80.  81.  82.  83.\n",
      "  84.  85.  86.  87.  88.  89.  90.  91.  92.  93.  94.  95.  96.  97.\n",
      "  98.  99. 100. 101. 102. 103. 104. 105. 106. 107.]\n",
      "\n",
      "\n",
      "Part 4: final_true_axons = {'L0': array([  0.,   1.,   2.,   3.,   4.,   5.,   6.,   7.,   8.,   9.,  10.,\n",
      "        11.,  12.,  13.,  14.,  15.,  16.,  17.,  18.,  19.,  20.,  21.,\n",
      "        22.,  23.,  24.,  25.,  26.,  27.,  28.,  29.,  30.,  31.,  32.,\n",
      "        33.,  34.,  35.,  36.,  37.,  38.,  39.,  40.,  41.,  42.,  43.,\n",
      "        44.,  45.,  46.,  47.,  48.,  49.,  50.,  51.,  52.,  53.,  54.,\n",
      "        55.,  56.,  57.,  58.,  59.,  60.,  61.,  62.,  63.,  64.,  65.,\n",
      "        66.,  67.,  68.,  69.,  70.,  71.,  72.,  73.,  74.,  75.,  76.,\n",
      "        77.,  78.,  79.,  80.,  81.,  82.,  83.,  84.,  85.,  86.,  87.,\n",
      "        88.,  89.,  90.,  91.,  92.,  93.,  94.,  95.,  96.,  97.,  98.,\n",
      "        99., 100., 101., 102., 103., 104., 105., 106., 107.])}\n",
      "\n",
      "--- Working on filter 0:\n",
      "function = dendrite_on_axon_merges\n",
      "function __name__ = filter_away_dendrite_on_axon_merges\n",
      "function arguments = {'use_pre_existing_axon_labels': True}\n",
      "\n",
      "\n",
      "\n",
      "\n",
      "\n",
      " ---- Total time for applying filter: 0.32565784454345703 -----\n",
      "Starting axon branch was the starting node so using border vertices and NOT computing upstream branch\n",
      "upstream_node_to_axon_starting_branch = None\n",
      "root_curr = [1306725.  553854.  777693.]\n",
      "Time for preparing soma vertices and root: 0.014026880264282227\n",
      "invalidation_d = 2000\n",
      "cc_vertex_thresh = 10\n"
     ]
    },
    {
     "name": "stderr",
     "output_type": "stream",
     "text": [
      "\r",
      "  0%|          | 0/1 [00:00<?, ?it/s]"
     ]
    },
    {
     "data": {
      "application/vnd.jupyter.widget-view+json": {
       "model_id": "25ec389bc0794b54871c8e95c4a70c8d",
       "version_major": 2,
       "version_minor": 0
      },
      "text/plain": [
       "  0%|          | 0/174511 [00:00<?, ?it/s]"
      ]
     },
     "metadata": {},
     "output_type": "display_data"
    },
    {
     "name": "stderr",
     "output_type": "stream",
     "text": [
      "100%|██████████| 1/1 [00:22<00:00, 22.69s/it]\n"
     ]
    },
    {
     "name": "stdout",
     "output_type": "stream",
     "text": [
      "meshparty_segment_size = 100\n",
      "Time for 1st pass MP skeletonization: 27.10596537590027\n",
      "branches_touching_root = [15]\n",
      "combining close nodes\n",
      "combine_threshold = 1300\n",
      "length of Graph = 43027\n",
      "After combining close endpoints max(kept_branches_idx) = 323, len(kept_branches_idx) = 280\n",
      "empty_indices % = 0.0\n",
      " conflict_indices % = 0.017072875404334817\n"
     ]
    },
    {
     "data": {
      "application/vnd.jupyter.widget-view+json": {
       "model_id": "2071d41e22944a3a883d4e93c1b7168d",
       "version_major": 2,
       "version_minor": 0
      },
      "text/plain": [
       "  0%|          | 0/120 [00:00<?, ?it/s]"
      ]
     },
     "metadata": {},
     "output_type": "display_data"
    },
    {
     "name": "stdout",
     "output_type": "stream",
     "text": [
      "AFTER face_lookup_resolved_test\n"
     ]
    },
    {
     "data": {
      "application/vnd.jupyter.widget-view+json": {
       "model_id": "4af760d81f3046cb97c15993f873b481",
       "version_major": 2,
       "version_minor": 0
      },
      "text/plain": [
       "  0%|          | 0/280 [00:00<?, ?it/s]"
      ]
     },
     "metadata": {},
     "output_type": "display_data"
    },
    {
     "name": "stdout",
     "output_type": "stream",
     "text": [
      "Decomposing first pass: 132.04453206062317\n",
      "Only Using MeshParty Skeletonization and Mesh Correspondence\n",
      "Another print\n",
      "Divinding into MP and MAP pieces: 0.000186920166015625\n",
      "Total time for MAP sublimb processing 4.291534423828125e-06\n",
      "---- Working on MP Decomposition #0 ----\n",
      "Using Quicker soma_to_piece_touching_vertices because no MAP and only one sublimb_mesh piece \n",
      "MP filtering soma verts: 0.0002827644348144531\n",
      "Fixing Possible Soma Extension Branch for Sublimb 0\n",
      "Total time for mesh KDTree = 0.18445777893066406\n",
      "sbv[0].reshape(-1,3) = [[1306725.  553854.  777693.]]\n",
      "closest_sk_pt_coord BEFORE = [1306644.31967027  554318.44518478  777919.1372547 ]\n",
      "current_skeleton.shape = (536, 2, 3)\n",
      "node_for_stitch = 0: [1306644.31967027  554318.44518478  777919.1372547 ]\n",
      "node_for_stitch AFTER = 0: [1306644.31967027  554318.44518478  777919.1372547 ]\n",
      "possible_node_loc = [  0 371]\n",
      "possible_node_loc AFTER = [  0 371]\n",
      "curr_shortest_path = [0]\n",
      "Current stitch point was a branch or endpoint\n",
      "change_status for create soma extending pieces = False\n",
      "closest_sk_pt_coord AFTER = [1306644.31967027  554318.44518478  777919.1372547 ]\n",
      "skipping soma 0 because closest skeleton node was already end node\n",
      "endpoints_must_keep = {0: array([[1306644.31967027,  554318.44518478,  777919.1372547 ]])}\n",
      "match_sk_branches = [14]\n",
      "The new branch info was none so skipping \n",
      "\n",
      "No soma extending branch was added for this sublimb even though it had a soma border (means they already existed)\n",
      "MP (because soma touching verts) soma extension add: 18.421414136886597\n",
      "There were not both MAP and MP pieces so skipping the stitch resolving phase\n",
      "Time for decomp of Limb = 179.8028519153595\n",
      "Number of matching vertices = 25\n",
      "Only one endpoint after filtering away the endpoints that are not on the skeleton\n",
      "Using Distance measure skeletal_distance\n",
      "endpoints_must_keep = [[1306644.31967027  554318.44518478  777919.1372547 ]]\n",
      "Number of end_nodes BEFORE filtering = 165\n",
      "all_single_nodes_to_eliminate = [14]\n"
     ]
    },
    {
     "data": {
      "application/vnd.jupyter.widget-view+json": {
       "model_id": "80a4910dfdf34ea693ac779c15a7efd3",
       "version_major": 2,
       "version_minor": 0
      },
      "text/plain": [
       "  0%|          | 0/17 [00:00<?, ?it/s]"
      ]
     },
     "metadata": {},
     "output_type": "display_data"
    },
    {
     "name": "stdout",
     "output_type": "stream",
     "text": [
      "Removed 17 skeletal branches\n"
     ]
    },
    {
     "data": {
      "application/vnd.jupyter.widget-view+json": {
       "model_id": "c87edd4870724981befc73b59aeee7b0",
       "version_major": 2,
       "version_minor": 0
      },
      "text/plain": [
       "  0%|          | 0/280 [00:00<?, ?it/s]"
      ]
     },
     "metadata": {},
     "output_type": "display_data"
    },
    {
     "name": "stdout",
     "output_type": "stream",
     "text": [
      "348178 348179\n",
      "For marked faces: None\n",
      "empty_indices % = 0.0015968797658675567\n",
      " conflict_indices % = 0.0\n"
     ]
    },
    {
     "data": {
      "application/vnd.jupyter.widget-view+json": {
       "model_id": "b1f4feb7a6e34768a494c8a1886e6539",
       "version_major": 2,
       "version_minor": 0
      },
      "text/plain": [
       "  0%|          | 0/3 [00:00<?, ?it/s]"
      ]
     },
     "metadata": {},
     "output_type": "display_data"
    },
    {
     "name": "stdout",
     "output_type": "stream",
     "text": [
      "AFTER face_lookup_resolved_test\n"
     ]
    },
    {
     "data": {
      "application/vnd.jupyter.widget-view+json": {
       "model_id": "692687f37b8d4c579f7fa009be96a4df",
       "version_major": 2,
       "version_minor": 0
      },
      "text/plain": [
       "  0%|          | 0/249 [00:00<?, ?it/s]"
      ]
     },
     "metadata": {},
     "output_type": "display_data"
    },
    {
     "name": "stdout",
     "output_type": "stream",
     "text": [
      "Limb Correspondence before stitching = 249\n",
      "Limb Correspondence AFTER stitching = 249\n",
      "Upstream node was None so don't have to adjust\n",
      "concept_network_dict = {0: [<networkx_utils.GraphOrderedEdges object at 0x7f3ecd490ef0>]}\n",
      "Assigning the old width calculation because no valid new widths\n",
      "Assigning the old width calculation because no valid new widths\n",
      "\n",
      "\n",
      "----Working on seperate_graph 0----\n",
      "\n",
      "\n",
      "---------Working on soma_idx = 0, soma_group_idx 0, endpt = [1306644.31967027  554318.44518478  777919.1372547 ]---------\n",
      "Starting_edge inside branches_to_conept = [[1306644.31967027  554318.44518478  777919.1372547 ]\n",
      " [1320294.2315792   602575.99392072  778470.03349425]]\n",
      "At the start, starting_node (in terms of the skeleton, that shouldn't match the starting edge) = [18]\n",
      "printing out current edge:\n",
      "[[1306644.31967027  554318.44518478  777919.1372547 ]\n",
      " [1320294.2315792   602575.99392072  778470.03349425]]\n",
      "edge_endpoints_to_process was empty so exiting loop after 249 iterations\n",
      "starting_node in concept map (that should match the starting edge) = 19\n",
      "Total time for branches to concept conversion = 6.612718820571899\n",
      "\n",
      "Done generating concept network \n",
      "\n",
      "\n"
     ]
    },
    {
     "data": {
      "application/vnd.jupyter.widget-view+json": {
       "model_id": "ce6b660083cc4bbeb8578ddb31d59adc",
       "version_major": 2,
       "version_minor": 0
      },
      "text/plain": [
       "  0%|          | 0/221 [00:00<?, ?it/s]"
      ]
     },
     "metadata": {},
     "output_type": "display_data"
    },
    {
     "data": {
      "application/vnd.jupyter.widget-view+json": {
       "model_id": "0994c6dc87ca422ca5bc87bc0903b0bf",
       "version_major": 2,
       "version_minor": 0
      },
      "text/plain": [
       "  0%|          | 0/7 [00:00<?, ?it/s]"
      ]
     },
     "metadata": {},
     "output_type": "display_data"
    },
    {
     "data": {
      "application/vnd.jupyter.widget-view+json": {
       "model_id": "1f2cee596b3e4102ae8ebace437c9412",
       "version_major": 2,
       "version_minor": 0
      },
      "text/plain": [
       "  0%|          | 0/6 [00:00<?, ?it/s]"
      ]
     },
     "metadata": {},
     "output_type": "display_data"
    },
    {
     "data": {
      "application/vnd.jupyter.widget-view+json": {
       "model_id": "77462b9a599a4fcbb82063222df4cde2",
       "version_major": 2,
       "version_minor": 0
      },
      "text/plain": [
       "  0%|          | 0/67 [00:00<?, ?it/s]"
      ]
     },
     "metadata": {},
     "output_type": "display_data"
    },
    {
     "data": {
      "application/vnd.jupyter.widget-view+json": {
       "model_id": "98284a7a95394f68b911da34a99e65e6",
       "version_major": 2,
       "version_minor": 0
      },
      "text/plain": [
       "  0%|          | 0/32 [00:00<?, ?it/s]"
      ]
     },
     "metadata": {},
     "output_type": "display_data"
    },
    {
     "data": {
      "application/vnd.jupyter.widget-view+json": {
       "model_id": "3e4cc2b766f5401fb1f6bf277ceea93b",
       "version_major": 2,
       "version_minor": 0
      },
      "text/plain": [
       "  0%|          | 0/15 [00:00<?, ?it/s]"
      ]
     },
     "metadata": {},
     "output_type": "display_data"
    },
    {
     "data": {
      "application/vnd.jupyter.widget-view+json": {
       "model_id": "a335ed76d2e64736845a5d9dcb8ea34c",
       "version_major": 2,
       "version_minor": 0
      },
      "text/plain": [
       "  0%|          | 0/9 [00:00<?, ?it/s]"
      ]
     },
     "metadata": {},
     "output_type": "display_data"
    },
    {
     "data": {
      "application/vnd.jupyter.widget-view+json": {
       "model_id": "01fe9b3a12cb41a7acb01cc0bd021471",
       "version_major": 2,
       "version_minor": 0
      },
      "text/plain": [
       "  0%|          | 0/6 [00:00<?, ?it/s]"
      ]
     },
     "metadata": {},
     "output_type": "display_data"
    },
    {
     "data": {
      "application/vnd.jupyter.widget-view+json": {
       "model_id": "f547f86c887b464eb8cb6a8fc442a671",
       "version_major": 2,
       "version_minor": 0
      },
      "text/plain": [
       "  0%|          | 0/44 [00:00<?, ?it/s]"
      ]
     },
     "metadata": {},
     "output_type": "display_data"
    },
    {
     "data": {
      "application/vnd.jupyter.widget-view+json": {
       "model_id": "9e2a4692462f4ce8b712213812859314",
       "version_major": 2,
       "version_minor": 0
      },
      "text/plain": [
       "  0%|          | 0/23 [00:00<?, ?it/s]"
      ]
     },
     "metadata": {},
     "output_type": "display_data"
    },
    {
     "data": {
      "application/vnd.jupyter.widget-view+json": {
       "model_id": "64c02f84b2c54a998c1e75161f4234f2",
       "version_major": 2,
       "version_minor": 0
      },
      "text/plain": [
       "  0%|          | 0/27 [00:00<?, ?it/s]"
      ]
     },
     "metadata": {},
     "output_type": "display_data"
    },
    {
     "data": {
      "application/vnd.jupyter.widget-view+json": {
       "model_id": "360190a5e3de441ab479868d36477450",
       "version_major": 2,
       "version_minor": 0
      },
      "text/plain": [
       "  0%|          | 0/4 [00:00<?, ?it/s]"
      ]
     },
     "metadata": {},
     "output_type": "display_data"
    },
    {
     "data": {
      "application/vnd.jupyter.widget-view+json": {
       "model_id": "c8aa5c9071164fe885e1ab50887646e1",
       "version_major": 2,
       "version_minor": 0
      },
      "text/plain": [
       "  0%|          | 0/8 [00:00<?, ?it/s]"
      ]
     },
     "metadata": {},
     "output_type": "display_data"
    },
    {
     "data": {
      "application/vnd.jupyter.widget-view+json": {
       "model_id": "73fa3c34b8c04f019f78c3d1a4b8cef2",
       "version_major": 2,
       "version_minor": 0
      },
      "text/plain": [
       "  0%|          | 0/5 [00:00<?, ?it/s]"
      ]
     },
     "metadata": {},
     "output_type": "display_data"
    },
    {
     "data": {
      "application/vnd.jupyter.widget-view+json": {
       "model_id": "5e3396fce6b04f458ba8c44e0adcb184",
       "version_major": 2,
       "version_minor": 0
      },
      "text/plain": [
       "  0%|          | 0/26 [00:00<?, ?it/s]"
      ]
     },
     "metadata": {},
     "output_type": "display_data"
    },
    {
     "data": {
      "application/vnd.jupyter.widget-view+json": {
       "model_id": "62c2d71bc83f4f70a592e0af64c94517",
       "version_major": 2,
       "version_minor": 0
      },
      "text/plain": [
       "  0%|          | 0/16 [00:00<?, ?it/s]"
      ]
     },
     "metadata": {},
     "output_type": "display_data"
    },
    {
     "data": {
      "application/vnd.jupyter.widget-view+json": {
       "model_id": "7b43685484374ee6a40e83ddb4553b9c",
       "version_major": 2,
       "version_minor": 0
      },
      "text/plain": [
       "  0%|          | 0/20 [00:00<?, ?it/s]"
      ]
     },
     "metadata": {},
     "output_type": "display_data"
    },
    {
     "data": {
      "application/vnd.jupyter.widget-view+json": {
       "model_id": "99fdc6ff178345ebbe6ec5f5834ac91e",
       "version_major": 2,
       "version_minor": 0
      },
      "text/plain": [
       "  0%|          | 0/5 [00:00<?, ?it/s]"
      ]
     },
     "metadata": {},
     "output_type": "display_data"
    },
    {
     "data": {
      "application/vnd.jupyter.widget-view+json": {
       "model_id": "c063e2ee4a6e4853830641008b83da19",
       "version_major": 2,
       "version_minor": 0
      },
      "text/plain": [
       "  0%|          | 0/22 [00:00<?, ?it/s]"
      ]
     },
     "metadata": {},
     "output_type": "display_data"
    },
    {
     "data": {
      "application/vnd.jupyter.widget-view+json": {
       "model_id": "5ce5acb71965436cbddad6fe597c849c",
       "version_major": 2,
       "version_minor": 0
      },
      "text/plain": [
       "  0%|          | 0/2 [00:00<?, ?it/s]"
      ]
     },
     "metadata": {},
     "output_type": "display_data"
    },
    {
     "data": {
      "application/vnd.jupyter.widget-view+json": {
       "model_id": "86a19db96ee942a4b6c14dcd6a9b4da6",
       "version_major": 2,
       "version_minor": 0
      },
      "text/plain": [
       "  0%|          | 0/5 [00:00<?, ?it/s]"
      ]
     },
     "metadata": {},
     "output_type": "display_data"
    },
    {
     "data": {
      "application/vnd.jupyter.widget-view+json": {
       "model_id": "20706256e8674dbfa978c9a68206ec63",
       "version_major": 2,
       "version_minor": 0
      },
      "text/plain": [
       "  0%|          | 0/7 [00:00<?, ?it/s]"
      ]
     },
     "metadata": {},
     "output_type": "display_data"
    },
    {
     "data": {
      "application/vnd.jupyter.widget-view+json": {
       "model_id": "0971aa422c6f4914b88616c7c40c30c5",
       "version_major": 2,
       "version_minor": 0
      },
      "text/plain": [
       "  0%|          | 0/2 [00:00<?, ?it/s]"
      ]
     },
     "metadata": {},
     "output_type": "display_data"
    },
    {
     "data": {
      "application/vnd.jupyter.widget-view+json": {
       "model_id": "254e0872e49548dc95c04589ea3649af",
       "version_major": 2,
       "version_minor": 0
      },
      "text/plain": [
       "  0%|          | 0/55 [00:00<?, ?it/s]"
      ]
     },
     "metadata": {},
     "output_type": "display_data"
    },
    {
     "data": {
      "application/vnd.jupyter.widget-view+json": {
       "model_id": "ddef0717e246491d9544599af607d185",
       "version_major": 2,
       "version_minor": 0
      },
      "text/plain": [
       "  0%|          | 0/25 [00:00<?, ?it/s]"
      ]
     },
     "metadata": {},
     "output_type": "display_data"
    },
    {
     "data": {
      "application/vnd.jupyter.widget-view+json": {
       "model_id": "18a4ffd0a9584c2aa7f6230d514532ca",
       "version_major": 2,
       "version_minor": 0
      },
      "text/plain": [
       "  0%|          | 0/2 [00:00<?, ?it/s]"
      ]
     },
     "metadata": {},
     "output_type": "display_data"
    },
    {
     "data": {
      "application/vnd.jupyter.widget-view+json": {
       "model_id": "93842dde391c4a44b4b28b7cd9e0e5f7",
       "version_major": 2,
       "version_minor": 0
      },
      "text/plain": [
       "  0%|          | 0/147 [00:00<?, ?it/s]"
      ]
     },
     "metadata": {},
     "output_type": "display_data"
    },
    {
     "data": {
      "application/vnd.jupyter.widget-view+json": {
       "model_id": "d0f48be2201e46bd8525a04a99ed115a",
       "version_major": 2,
       "version_minor": 0
      },
      "text/plain": [
       "  0%|          | 0/11 [00:00<?, ?it/s]"
      ]
     },
     "metadata": {},
     "output_type": "display_data"
    },
    {
     "data": {
      "application/vnd.jupyter.widget-view+json": {
       "model_id": "6089aef40592416f904e27f75139465f",
       "version_major": 2,
       "version_minor": 0
      },
      "text/plain": [
       "  0%|          | 0/29 [00:00<?, ?it/s]"
      ]
     },
     "metadata": {},
     "output_type": "display_data"
    },
    {
     "data": {
      "application/vnd.jupyter.widget-view+json": {
       "model_id": "8be16317ef8a48f9bfe6e059f05a5176",
       "version_major": 2,
       "version_minor": 0
      },
      "text/plain": [
       "  0%|          | 0/9 [00:00<?, ?it/s]"
      ]
     },
     "metadata": {},
     "output_type": "display_data"
    },
    {
     "data": {
      "application/vnd.jupyter.widget-view+json": {
       "model_id": "809b267b58fd4e319db2303b491ee3ea",
       "version_major": 2,
       "version_minor": 0
      },
      "text/plain": [
       "  0%|          | 0/14 [00:00<?, ?it/s]"
      ]
     },
     "metadata": {},
     "output_type": "display_data"
    },
    {
     "data": {
      "application/vnd.jupyter.widget-view+json": {
       "model_id": "b380da777b48472eb47ef1a4a90b42d1",
       "version_major": 2,
       "version_minor": 0
      },
      "text/plain": [
       "  0%|          | 0/8 [00:00<?, ?it/s]"
      ]
     },
     "metadata": {},
     "output_type": "display_data"
    },
    {
     "data": {
      "application/vnd.jupyter.widget-view+json": {
       "model_id": "bf504dd27cc84e80bd597edb8eff5cec",
       "version_major": 2,
       "version_minor": 0
      },
      "text/plain": [
       "  0%|          | 0/10 [00:00<?, ?it/s]"
      ]
     },
     "metadata": {},
     "output_type": "display_data"
    },
    {
     "data": {
      "application/vnd.jupyter.widget-view+json": {
       "model_id": "47472316c5a24f1981cd6284bbf5fe5d",
       "version_major": 2,
       "version_minor": 0
      },
      "text/plain": [
       "  0%|          | 0/22 [00:00<?, ?it/s]"
      ]
     },
     "metadata": {},
     "output_type": "display_data"
    },
    {
     "data": {
      "application/vnd.jupyter.widget-view+json": {
       "model_id": "c30cbe3592ae49d097f9bda3802cdf0e",
       "version_major": 2,
       "version_minor": 0
      },
      "text/plain": [
       "  0%|          | 0/7 [00:00<?, ?it/s]"
      ]
     },
     "metadata": {},
     "output_type": "display_data"
    },
    {
     "data": {
      "application/vnd.jupyter.widget-view+json": {
       "model_id": "1d2b08373afb41f78c576d2db2b27aac",
       "version_major": 2,
       "version_minor": 0
      },
      "text/plain": [
       "  0%|          | 0/8 [00:00<?, ?it/s]"
      ]
     },
     "metadata": {},
     "output_type": "display_data"
    },
    {
     "data": {
      "application/vnd.jupyter.widget-view+json": {
       "model_id": "6a7393deef274a3dac4c066b0d0938c2",
       "version_major": 2,
       "version_minor": 0
      },
      "text/plain": [
       "  0%|          | 0/10 [00:00<?, ?it/s]"
      ]
     },
     "metadata": {},
     "output_type": "display_data"
    },
    {
     "data": {
      "application/vnd.jupyter.widget-view+json": {
       "model_id": "f6833cec797c4a6cb06c21980814ec99",
       "version_major": 2,
       "version_minor": 0
      },
      "text/plain": [
       "  0%|          | 0/6 [00:00<?, ?it/s]"
      ]
     },
     "metadata": {},
     "output_type": "display_data"
    },
    {
     "data": {
      "application/vnd.jupyter.widget-view+json": {
       "model_id": "6689c390bfcb4da5b6569a49362d8e73",
       "version_major": 2,
       "version_minor": 0
      },
      "text/plain": [
       "  0%|          | 0/11 [00:00<?, ?it/s]"
      ]
     },
     "metadata": {},
     "output_type": "display_data"
    },
    {
     "data": {
      "application/vnd.jupyter.widget-view+json": {
       "model_id": "32b5d60250ab4df6ace8c6311fa57baf",
       "version_major": 2,
       "version_minor": 0
      },
      "text/plain": [
       "  0%|          | 0/8 [00:00<?, ?it/s]"
      ]
     },
     "metadata": {},
     "output_type": "display_data"
    },
    {
     "data": {
      "application/vnd.jupyter.widget-view+json": {
       "model_id": "039398c18a6148f59dec0e20214c0ae1",
       "version_major": 2,
       "version_minor": 0
      },
      "text/plain": [
       "  0%|          | 0/5 [00:00<?, ?it/s]"
      ]
     },
     "metadata": {},
     "output_type": "display_data"
    },
    {
     "data": {
      "application/vnd.jupyter.widget-view+json": {
       "model_id": "306522ec08854b0aa2acc17f64c7d38d",
       "version_major": 2,
       "version_minor": 0
      },
      "text/plain": [
       "  0%|          | 0/2 [00:00<?, ?it/s]"
      ]
     },
     "metadata": {},
     "output_type": "display_data"
    },
    {
     "data": {
      "application/vnd.jupyter.widget-view+json": {
       "model_id": "791536fa985241838886891bedfecdd9",
       "version_major": 2,
       "version_minor": 0
      },
      "text/plain": [
       "  0%|          | 0/7 [00:00<?, ?it/s]"
      ]
     },
     "metadata": {},
     "output_type": "display_data"
    },
    {
     "data": {
      "application/vnd.jupyter.widget-view+json": {
       "model_id": "8ef4aa3398aa4f648fd3dcc29d41fb93",
       "version_major": 2,
       "version_minor": 0
      },
      "text/plain": [
       "  0%|          | 0/8 [00:00<?, ?it/s]"
      ]
     },
     "metadata": {},
     "output_type": "display_data"
    },
    {
     "data": {
      "application/vnd.jupyter.widget-view+json": {
       "model_id": "7b731ff57dd24aabb4bd734883b4be52",
       "version_major": 2,
       "version_minor": 0
      },
      "text/plain": [
       "  0%|          | 0/3 [00:00<?, ?it/s]"
      ]
     },
     "metadata": {},
     "output_type": "display_data"
    },
    {
     "data": {
      "application/vnd.jupyter.widget-view+json": {
       "model_id": "b218889299b24fb4853eae78cee8c95c",
       "version_major": 2,
       "version_minor": 0
      },
      "text/plain": [
       "  0%|          | 0/2 [00:00<?, ?it/s]"
      ]
     },
     "metadata": {},
     "output_type": "display_data"
    },
    {
     "data": {
      "application/vnd.jupyter.widget-view+json": {
       "model_id": "96f9e448180f424eb8db1ef2ded51ec4",
       "version_major": 2,
       "version_minor": 0
      },
      "text/plain": [
       "  0%|          | 0/2 [00:00<?, ?it/s]"
      ]
     },
     "metadata": {},
     "output_type": "display_data"
    },
    {
     "data": {
      "application/vnd.jupyter.widget-view+json": {
       "model_id": "9f49122f653449a08fad872b3ba79614",
       "version_major": 2,
       "version_minor": 0
      },
      "text/plain": [
       "  0%|          | 0/43 [00:00<?, ?it/s]"
      ]
     },
     "metadata": {},
     "output_type": "display_data"
    },
    {
     "data": {
      "application/vnd.jupyter.widget-view+json": {
       "model_id": "8c82b39775b94886af7e29baec555f39",
       "version_major": 2,
       "version_minor": 0
      },
      "text/plain": [
       "  0%|          | 0/9 [00:00<?, ?it/s]"
      ]
     },
     "metadata": {},
     "output_type": "display_data"
    },
    {
     "data": {
      "application/vnd.jupyter.widget-view+json": {
       "model_id": "1c9e782234d843d49b27efeab6c7b4be",
       "version_major": 2,
       "version_minor": 0
      },
      "text/plain": [
       "  0%|          | 0/7 [00:00<?, ?it/s]"
      ]
     },
     "metadata": {},
     "output_type": "display_data"
    },
    {
     "data": {
      "application/vnd.jupyter.widget-view+json": {
       "model_id": "cf43363b47204b2da79deeb34868a530",
       "version_major": 2,
       "version_minor": 0
      },
      "text/plain": [
       "  0%|          | 0/4 [00:00<?, ?it/s]"
      ]
     },
     "metadata": {},
     "output_type": "display_data"
    },
    {
     "data": {
      "application/vnd.jupyter.widget-view+json": {
       "model_id": "4beb362269b54e41b9c8a33879f2bee6",
       "version_major": 2,
       "version_minor": 0
      },
      "text/plain": [
       "  0%|          | 0/4 [00:00<?, ?it/s]"
      ]
     },
     "metadata": {},
     "output_type": "display_data"
    },
    {
     "data": {
      "application/vnd.jupyter.widget-view+json": {
       "model_id": "5c5549e00a3f47e89fa240db15a38426",
       "version_major": 2,
       "version_minor": 0
      },
      "text/plain": [
       "  0%|          | 0/51 [00:00<?, ?it/s]"
      ]
     },
     "metadata": {},
     "output_type": "display_data"
    },
    {
     "data": {
      "application/vnd.jupyter.widget-view+json": {
       "model_id": "23db61f60c204641ba36ee10abf4129a",
       "version_major": 2,
       "version_minor": 0
      },
      "text/plain": [
       "  0%|          | 0/72 [00:00<?, ?it/s]"
      ]
     },
     "metadata": {},
     "output_type": "display_data"
    },
    {
     "data": {
      "application/vnd.jupyter.widget-view+json": {
       "model_id": "a3cb83d4f5284ce1a71f7a51c189faa6",
       "version_major": 2,
       "version_minor": 0
      },
      "text/plain": [
       "  0%|          | 0/8 [00:00<?, ?it/s]"
      ]
     },
     "metadata": {},
     "output_type": "display_data"
    },
    {
     "data": {
      "application/vnd.jupyter.widget-view+json": {
       "model_id": "fd6e97b466744be0a6f20b2becb6d890",
       "version_major": 2,
       "version_minor": 0
      },
      "text/plain": [
       "  0%|          | 0/11 [00:00<?, ?it/s]"
      ]
     },
     "metadata": {},
     "output_type": "display_data"
    },
    {
     "data": {
      "application/vnd.jupyter.widget-view+json": {
       "model_id": "2d8c9d3909a343bc9aa1eecaf56ef05e",
       "version_major": 2,
       "version_minor": 0
      },
      "text/plain": [
       "  0%|          | 0/13 [00:00<?, ?it/s]"
      ]
     },
     "metadata": {},
     "output_type": "display_data"
    },
    {
     "data": {
      "application/vnd.jupyter.widget-view+json": {
       "model_id": "ade2a3289ab645afbed0093bfcb4cd10",
       "version_major": 2,
       "version_minor": 0
      },
      "text/plain": [
       "  0%|          | 0/30 [00:00<?, ?it/s]"
      ]
     },
     "metadata": {},
     "output_type": "display_data"
    },
    {
     "data": {
      "application/vnd.jupyter.widget-view+json": {
       "model_id": "2180247c980f4d1ab4d3b5972b44becf",
       "version_major": 2,
       "version_minor": 0
      },
      "text/plain": [
       "  0%|          | 0/11 [00:00<?, ?it/s]"
      ]
     },
     "metadata": {},
     "output_type": "display_data"
    },
    {
     "data": {
      "application/vnd.jupyter.widget-view+json": {
       "model_id": "553e9ae833b0498e850363747e7b4101",
       "version_major": 2,
       "version_minor": 0
      },
      "text/plain": [
       "  0%|          | 0/10 [00:00<?, ?it/s]"
      ]
     },
     "metadata": {},
     "output_type": "display_data"
    },
    {
     "data": {
      "application/vnd.jupyter.widget-view+json": {
       "model_id": "3d3816274b4f419f9df3b2a0ef6de662",
       "version_major": 2,
       "version_minor": 0
      },
      "text/plain": [
       "  0%|          | 0/29 [00:00<?, ?it/s]"
      ]
     },
     "metadata": {},
     "output_type": "display_data"
    },
    {
     "data": {
      "application/vnd.jupyter.widget-view+json": {
       "model_id": "61553bd102f64cffae65925870983a97",
       "version_major": 2,
       "version_minor": 0
      },
      "text/plain": [
       "  0%|          | 0/3 [00:00<?, ?it/s]"
      ]
     },
     "metadata": {},
     "output_type": "display_data"
    },
    {
     "data": {
      "application/vnd.jupyter.widget-view+json": {
       "model_id": "84d08f69b9424b16a506663bd0dbe381",
       "version_major": 2,
       "version_minor": 0
      },
      "text/plain": [
       "  0%|          | 0/29 [00:00<?, ?it/s]"
      ]
     },
     "metadata": {},
     "output_type": "display_data"
    },
    {
     "data": {
      "application/vnd.jupyter.widget-view+json": {
       "model_id": "9572af61a8a647988c6077a162aa3d48",
       "version_major": 2,
       "version_minor": 0
      },
      "text/plain": [
       "  0%|          | 0/13 [00:00<?, ?it/s]"
      ]
     },
     "metadata": {},
     "output_type": "display_data"
    },
    {
     "data": {
      "application/vnd.jupyter.widget-view+json": {
       "model_id": "30ed7545325c4379b661616e496408a4",
       "version_major": 2,
       "version_minor": 0
      },
      "text/plain": [
       "  0%|          | 0/9 [00:00<?, ?it/s]"
      ]
     },
     "metadata": {},
     "output_type": "display_data"
    },
    {
     "data": {
      "application/vnd.jupyter.widget-view+json": {
       "model_id": "489db8321767413b85a1cc24ce3b9903",
       "version_major": 2,
       "version_minor": 0
      },
      "text/plain": [
       "  0%|          | 0/7 [00:00<?, ?it/s]"
      ]
     },
     "metadata": {},
     "output_type": "display_data"
    },
    {
     "data": {
      "application/vnd.jupyter.widget-view+json": {
       "model_id": "fdfe1d3fbc714633ae9bf5aada50244e",
       "version_major": 2,
       "version_minor": 0
      },
      "text/plain": [
       "  0%|          | 0/28 [00:00<?, ?it/s]"
      ]
     },
     "metadata": {},
     "output_type": "display_data"
    },
    {
     "data": {
      "application/vnd.jupyter.widget-view+json": {
       "model_id": "f47ff37d6c3940709dcabd8250a5d4ce",
       "version_major": 2,
       "version_minor": 0
      },
      "text/plain": [
       "  0%|          | 0/16 [00:00<?, ?it/s]"
      ]
     },
     "metadata": {},
     "output_type": "display_data"
    },
    {
     "data": {
      "application/vnd.jupyter.widget-view+json": {
       "model_id": "945d5d501949499d9dc759325eb70963",
       "version_major": 2,
       "version_minor": 0
      },
      "text/plain": [
       "  0%|          | 0/11 [00:00<?, ?it/s]"
      ]
     },
     "metadata": {},
     "output_type": "display_data"
    },
    {
     "data": {
      "application/vnd.jupyter.widget-view+json": {
       "model_id": "44c2ae2c04e84a53a1d21425e2ea3ef4",
       "version_major": 2,
       "version_minor": 0
      },
      "text/plain": [
       "  0%|          | 0/8 [00:00<?, ?it/s]"
      ]
     },
     "metadata": {},
     "output_type": "display_data"
    },
    {
     "data": {
      "application/vnd.jupyter.widget-view+json": {
       "model_id": "3049ac7a750e48efbdb88c15547226c3",
       "version_major": 2,
       "version_minor": 0
      },
      "text/plain": [
       "  0%|          | 0/6 [00:00<?, ?it/s]"
      ]
     },
     "metadata": {},
     "output_type": "display_data"
    },
    {
     "data": {
      "application/vnd.jupyter.widget-view+json": {
       "model_id": "68c52f7b09f34a24b9de9c81bd08f5e8",
       "version_major": 2,
       "version_minor": 0
      },
      "text/plain": [
       "  0%|          | 0/3 [00:00<?, ?it/s]"
      ]
     },
     "metadata": {},
     "output_type": "display_data"
    },
    {
     "data": {
      "application/vnd.jupyter.widget-view+json": {
       "model_id": "6d4877b1bcb145febbec7cd9aee3d64c",
       "version_major": 2,
       "version_minor": 0
      },
      "text/plain": [
       "  0%|          | 0/35 [00:00<?, ?it/s]"
      ]
     },
     "metadata": {},
     "output_type": "display_data"
    },
    {
     "data": {
      "application/vnd.jupyter.widget-view+json": {
       "model_id": "1acc29639b844886bdfed47feeeb41b1",
       "version_major": 2,
       "version_minor": 0
      },
      "text/plain": [
       "  0%|          | 0/6 [00:00<?, ?it/s]"
      ]
     },
     "metadata": {},
     "output_type": "display_data"
    },
    {
     "data": {
      "application/vnd.jupyter.widget-view+json": {
       "model_id": "7b3070856f3045aeb11f7f8019afda48",
       "version_major": 2,
       "version_minor": 0
      },
      "text/plain": [
       "  0%|          | 0/11 [00:00<?, ?it/s]"
      ]
     },
     "metadata": {},
     "output_type": "display_data"
    },
    {
     "data": {
      "application/vnd.jupyter.widget-view+json": {
       "model_id": "99453a341500461ea4795bc549880e6e",
       "version_major": 2,
       "version_minor": 0
      },
      "text/plain": [
       "  0%|          | 0/14 [00:00<?, ?it/s]"
      ]
     },
     "metadata": {},
     "output_type": "display_data"
    },
    {
     "data": {
      "application/vnd.jupyter.widget-view+json": {
       "model_id": "8ac9dd63617c4b199937516d0dbbc8bb",
       "version_major": 2,
       "version_minor": 0
      },
      "text/plain": [
       "  0%|          | 0/8 [00:00<?, ?it/s]"
      ]
     },
     "metadata": {},
     "output_type": "display_data"
    },
    {
     "data": {
      "application/vnd.jupyter.widget-view+json": {
       "model_id": "9438ec5dd235429eb2c98b1735dd276f",
       "version_major": 2,
       "version_minor": 0
      },
      "text/plain": [
       "  0%|          | 0/5 [00:00<?, ?it/s]"
      ]
     },
     "metadata": {},
     "output_type": "display_data"
    },
    {
     "data": {
      "application/vnd.jupyter.widget-view+json": {
       "model_id": "aae4b659a023489196f35d2e8e0030a8",
       "version_major": 2,
       "version_minor": 0
      },
      "text/plain": [
       "  0%|          | 0/4 [00:00<?, ?it/s]"
      ]
     },
     "metadata": {},
     "output_type": "display_data"
    },
    {
     "data": {
      "application/vnd.jupyter.widget-view+json": {
       "model_id": "197ca618bc7a4736acc1138366f552ba",
       "version_major": 2,
       "version_minor": 0
      },
      "text/plain": [
       "  0%|          | 0/16 [00:00<?, ?it/s]"
      ]
     },
     "metadata": {},
     "output_type": "display_data"
    },
    {
     "data": {
      "application/vnd.jupyter.widget-view+json": {
       "model_id": "31628a00f58940d382d889c7e8683734",
       "version_major": 2,
       "version_minor": 0
      },
      "text/plain": [
       "  0%|          | 0/14 [00:00<?, ?it/s]"
      ]
     },
     "metadata": {},
     "output_type": "display_data"
    },
    {
     "data": {
      "application/vnd.jupyter.widget-view+json": {
       "model_id": "5688cdf3678c49b4abe2227090dd6e27",
       "version_major": 2,
       "version_minor": 0
      },
      "text/plain": [
       "  0%|          | 0/4 [00:00<?, ?it/s]"
      ]
     },
     "metadata": {},
     "output_type": "display_data"
    },
    {
     "data": {
      "application/vnd.jupyter.widget-view+json": {
       "model_id": "ee1ae9403fd64ff1880c567f43a4b3e2",
       "version_major": 2,
       "version_minor": 0
      },
      "text/plain": [
       "  0%|          | 0/5 [00:00<?, ?it/s]"
      ]
     },
     "metadata": {},
     "output_type": "display_data"
    },
    {
     "data": {
      "application/vnd.jupyter.widget-view+json": {
       "model_id": "fba2b4dfcf044b6fbe4f5b8adfd43d75",
       "version_major": 2,
       "version_minor": 0
      },
      "text/plain": [
       "  0%|          | 0/13 [00:00<?, ?it/s]"
      ]
     },
     "metadata": {},
     "output_type": "display_data"
    },
    {
     "data": {
      "application/vnd.jupyter.widget-view+json": {
       "model_id": "8cb7f2136b684beb897e19590135bace",
       "version_major": 2,
       "version_minor": 0
      },
      "text/plain": [
       "  0%|          | 0/2 [00:00<?, ?it/s]"
      ]
     },
     "metadata": {},
     "output_type": "display_data"
    },
    {
     "data": {
      "application/vnd.jupyter.widget-view+json": {
       "model_id": "be121031b8414102aaa87a36111a55d9",
       "version_major": 2,
       "version_minor": 0
      },
      "text/plain": [
       "  0%|          | 0/8 [00:00<?, ?it/s]"
      ]
     },
     "metadata": {},
     "output_type": "display_data"
    },
    {
     "data": {
      "application/vnd.jupyter.widget-view+json": {
       "model_id": "def63c520d2141a787e234436e3d7234",
       "version_major": 2,
       "version_minor": 0
      },
      "text/plain": [
       "  0%|          | 0/13 [00:00<?, ?it/s]"
      ]
     },
     "metadata": {},
     "output_type": "display_data"
    },
    {
     "data": {
      "application/vnd.jupyter.widget-view+json": {
       "model_id": "e6db1040f292489997a325dcb6a3415e",
       "version_major": 2,
       "version_minor": 0
      },
      "text/plain": [
       "  0%|          | 0/13 [00:00<?, ?it/s]"
      ]
     },
     "metadata": {},
     "output_type": "display_data"
    },
    {
     "data": {
      "application/vnd.jupyter.widget-view+json": {
       "model_id": "b425cdac613f41d0ba45d809a539b1b9",
       "version_major": 2,
       "version_minor": 0
      },
      "text/plain": [
       "  0%|          | 0/7 [00:00<?, ?it/s]"
      ]
     },
     "metadata": {},
     "output_type": "display_data"
    },
    {
     "data": {
      "application/vnd.jupyter.widget-view+json": {
       "model_id": "a1429b16a0054390a09d2326c2d9c7bd",
       "version_major": 2,
       "version_minor": 0
      },
      "text/plain": [
       "  0%|          | 0/6 [00:00<?, ?it/s]"
      ]
     },
     "metadata": {},
     "output_type": "display_data"
    },
    {
     "data": {
      "application/vnd.jupyter.widget-view+json": {
       "model_id": "fca9fc3518514db3ab94dddb077c72c4",
       "version_major": 2,
       "version_minor": 0
      },
      "text/plain": [
       "  0%|          | 0/13 [00:00<?, ?it/s]"
      ]
     },
     "metadata": {},
     "output_type": "display_data"
    },
    {
     "data": {
      "application/vnd.jupyter.widget-view+json": {
       "model_id": "21b9c28101a94fa495d6aa1a504aeb1e",
       "version_major": 2,
       "version_minor": 0
      },
      "text/plain": [
       "  0%|          | 0/14 [00:00<?, ?it/s]"
      ]
     },
     "metadata": {},
     "output_type": "display_data"
    },
    {
     "data": {
      "application/vnd.jupyter.widget-view+json": {
       "model_id": "6d8fede86142401a81b7cfb4e033903c",
       "version_major": 2,
       "version_minor": 0
      },
      "text/plain": [
       "  0%|          | 0/17 [00:00<?, ?it/s]"
      ]
     },
     "metadata": {},
     "output_type": "display_data"
    },
    {
     "data": {
      "application/vnd.jupyter.widget-view+json": {
       "model_id": "d2a6d775e1a447c8b02edc7944c6a48a",
       "version_major": 2,
       "version_minor": 0
      },
      "text/plain": [
       "  0%|          | 0/13 [00:00<?, ?it/s]"
      ]
     },
     "metadata": {},
     "output_type": "display_data"
    },
    {
     "data": {
      "application/vnd.jupyter.widget-view+json": {
       "model_id": "3107295a18254b6ab0aaac3a37ce1717",
       "version_major": 2,
       "version_minor": 0
      },
      "text/plain": [
       "  0%|          | 0/23 [00:00<?, ?it/s]"
      ]
     },
     "metadata": {},
     "output_type": "display_data"
    },
    {
     "data": {
      "application/vnd.jupyter.widget-view+json": {
       "model_id": "fb2b3238e3854098ab3a453c128f0f5a",
       "version_major": 2,
       "version_minor": 0
      },
      "text/plain": [
       "  0%|          | 0/10 [00:00<?, ?it/s]"
      ]
     },
     "metadata": {},
     "output_type": "display_data"
    },
    {
     "data": {
      "application/vnd.jupyter.widget-view+json": {
       "model_id": "5c2810fb904749a18e2989f9a5b32cec",
       "version_major": 2,
       "version_minor": 0
      },
      "text/plain": [
       "  0%|          | 0/15 [00:00<?, ?it/s]"
      ]
     },
     "metadata": {},
     "output_type": "display_data"
    },
    {
     "data": {
      "application/vnd.jupyter.widget-view+json": {
       "model_id": "a38b8d7b769843a7a1702cc75f80804e",
       "version_major": 2,
       "version_minor": 0
      },
      "text/plain": [
       "  0%|          | 0/7 [00:00<?, ?it/s]"
      ]
     },
     "metadata": {},
     "output_type": "display_data"
    },
    {
     "data": {
      "application/vnd.jupyter.widget-view+json": {
       "model_id": "a0f2ab34e34b4a37ab89ba66c245b57b",
       "version_major": 2,
       "version_minor": 0
      },
      "text/plain": [
       "  0%|          | 0/15 [00:00<?, ?it/s]"
      ]
     },
     "metadata": {},
     "output_type": "display_data"
    },
    {
     "data": {
      "application/vnd.jupyter.widget-view+json": {
       "model_id": "7b70d332d2a84af0a8db3963c5361e12",
       "version_major": 2,
       "version_minor": 0
      },
      "text/plain": [
       "  0%|          | 0/16 [00:00<?, ?it/s]"
      ]
     },
     "metadata": {},
     "output_type": "display_data"
    },
    {
     "data": {
      "application/vnd.jupyter.widget-view+json": {
       "model_id": "12d885f1d9e2437da3dbca202478ca69",
       "version_major": 2,
       "version_minor": 0
      },
      "text/plain": [
       "  0%|          | 0/17 [00:00<?, ?it/s]"
      ]
     },
     "metadata": {},
     "output_type": "display_data"
    },
    {
     "data": {
      "application/vnd.jupyter.widget-view+json": {
       "model_id": "7b937582dc51489ea3549d244e9774a9",
       "version_major": 2,
       "version_minor": 0
      },
      "text/plain": [
       "  0%|          | 0/9 [00:00<?, ?it/s]"
      ]
     },
     "metadata": {},
     "output_type": "display_data"
    },
    {
     "data": {
      "application/vnd.jupyter.widget-view+json": {
       "model_id": "7321d5d8463949d8990cb7d024713405",
       "version_major": 2,
       "version_minor": 0
      },
      "text/plain": [
       "  0%|          | 0/4 [00:00<?, ?it/s]"
      ]
     },
     "metadata": {},
     "output_type": "display_data"
    },
    {
     "data": {
      "application/vnd.jupyter.widget-view+json": {
       "model_id": "24f6e6cdc5ff4ab1a610925a1e4d16ef",
       "version_major": 2,
       "version_minor": 0
      },
      "text/plain": [
       "  0%|          | 0/16 [00:00<?, ?it/s]"
      ]
     },
     "metadata": {},
     "output_type": "display_data"
    },
    {
     "data": {
      "application/vnd.jupyter.widget-view+json": {
       "model_id": "1402f794dbe04ff6be9937c7a0b88941",
       "version_major": 2,
       "version_minor": 0
      },
      "text/plain": [
       "  0%|          | 0/3 [00:00<?, ?it/s]"
      ]
     },
     "metadata": {},
     "output_type": "display_data"
    },
    {
     "data": {
      "application/vnd.jupyter.widget-view+json": {
       "model_id": "7fe163e2becd47f0bef9c11b4b1900f0",
       "version_major": 2,
       "version_minor": 0
      },
      "text/plain": [
       "  0%|          | 0/4 [00:00<?, ?it/s]"
      ]
     },
     "metadata": {},
     "output_type": "display_data"
    },
    {
     "data": {
      "application/vnd.jupyter.widget-view+json": {
       "model_id": "afde6a7684ae40529410da3fc73499aa",
       "version_major": 2,
       "version_minor": 0
      },
      "text/plain": [
       "  0%|          | 0/13 [00:00<?, ?it/s]"
      ]
     },
     "metadata": {},
     "output_type": "display_data"
    },
    {
     "data": {
      "application/vnd.jupyter.widget-view+json": {
       "model_id": "8f34167eb9ca4fedb4b711611667f9d0",
       "version_major": 2,
       "version_minor": 0
      },
      "text/plain": [
       "  0%|          | 0/6 [00:00<?, ?it/s]"
      ]
     },
     "metadata": {},
     "output_type": "display_data"
    },
    {
     "data": {
      "application/vnd.jupyter.widget-view+json": {
       "model_id": "b4acb7a8f1a6432ea2cfd49213576e34",
       "version_major": 2,
       "version_minor": 0
      },
      "text/plain": [
       "  0%|          | 0/7 [00:00<?, ?it/s]"
      ]
     },
     "metadata": {},
     "output_type": "display_data"
    },
    {
     "data": {
      "application/vnd.jupyter.widget-view+json": {
       "model_id": "fe17f59217c54d18af9185b977ecd435",
       "version_major": 2,
       "version_minor": 0
      },
      "text/plain": [
       "  0%|          | 0/14 [00:00<?, ?it/s]"
      ]
     },
     "metadata": {},
     "output_type": "display_data"
    },
    {
     "data": {
      "application/vnd.jupyter.widget-view+json": {
       "model_id": "b28efeadabd243d689b975ec5737d559",
       "version_major": 2,
       "version_minor": 0
      },
      "text/plain": [
       "  0%|          | 0/10 [00:00<?, ?it/s]"
      ]
     },
     "metadata": {},
     "output_type": "display_data"
    },
    {
     "data": {
      "application/vnd.jupyter.widget-view+json": {
       "model_id": "5855a7acdcd543c7a461fbe01f3c47cb",
       "version_major": 2,
       "version_minor": 0
      },
      "text/plain": [
       "  0%|          | 0/7 [00:00<?, ?it/s]"
      ]
     },
     "metadata": {},
     "output_type": "display_data"
    },
    {
     "data": {
      "application/vnd.jupyter.widget-view+json": {
       "model_id": "0c152bdd71634a9e9c4d40ce517d6448",
       "version_major": 2,
       "version_minor": 0
      },
      "text/plain": [
       "  0%|          | 0/4 [00:00<?, ?it/s]"
      ]
     },
     "metadata": {},
     "output_type": "display_data"
    },
    {
     "data": {
      "application/vnd.jupyter.widget-view+json": {
       "model_id": "5116325a3db54a8e838128b65bdaebed",
       "version_major": 2,
       "version_minor": 0
      },
      "text/plain": [
       "  0%|          | 0/12 [00:00<?, ?it/s]"
      ]
     },
     "metadata": {},
     "output_type": "display_data"
    },
    {
     "data": {
      "application/vnd.jupyter.widget-view+json": {
       "model_id": "18e4fccf2f7c482e9e2d1b960fdf0152",
       "version_major": 2,
       "version_minor": 0
      },
      "text/plain": [
       "  0%|          | 0/10 [00:00<?, ?it/s]"
      ]
     },
     "metadata": {},
     "output_type": "display_data"
    },
    {
     "data": {
      "application/vnd.jupyter.widget-view+json": {
       "model_id": "605a57882a9441cdad4565cb93d79208",
       "version_major": 2,
       "version_minor": 0
      },
      "text/plain": [
       "  0%|          | 0/5 [00:00<?, ?it/s]"
      ]
     },
     "metadata": {},
     "output_type": "display_data"
    },
    {
     "data": {
      "application/vnd.jupyter.widget-view+json": {
       "model_id": "596b900b401944a89d4ba84df8ea5e8a",
       "version_major": 2,
       "version_minor": 0
      },
      "text/plain": [
       "  0%|          | 0/15 [00:00<?, ?it/s]"
      ]
     },
     "metadata": {},
     "output_type": "display_data"
    },
    {
     "data": {
      "application/vnd.jupyter.widget-view+json": {
       "model_id": "8377d9a9bb4f4a59abc0c1c15bc7dd35",
       "version_major": 2,
       "version_minor": 0
      },
      "text/plain": [
       "  0%|          | 0/5 [00:00<?, ?it/s]"
      ]
     },
     "metadata": {},
     "output_type": "display_data"
    },
    {
     "data": {
      "application/vnd.jupyter.widget-view+json": {
       "model_id": "29041c2d710a4757a83e6109476ee12a",
       "version_major": 2,
       "version_minor": 0
      },
      "text/plain": [
       "  0%|          | 0/9 [00:00<?, ?it/s]"
      ]
     },
     "metadata": {},
     "output_type": "display_data"
    },
    {
     "data": {
      "application/vnd.jupyter.widget-view+json": {
       "model_id": "6c43e280f80f46749f4edc0fddc86474",
       "version_major": 2,
       "version_minor": 0
      },
      "text/plain": [
       "  0%|          | 0/20 [00:00<?, ?it/s]"
      ]
     },
     "metadata": {},
     "output_type": "display_data"
    },
    {
     "data": {
      "application/vnd.jupyter.widget-view+json": {
       "model_id": "1da585f33c7e4db8a7995a2399e0b025",
       "version_major": 2,
       "version_minor": 0
      },
      "text/plain": [
       "  0%|          | 0/8 [00:00<?, ?it/s]"
      ]
     },
     "metadata": {},
     "output_type": "display_data"
    },
    {
     "data": {
      "application/vnd.jupyter.widget-view+json": {
       "model_id": "fd3290d09fbc43eaa6fc8276f01d59eb",
       "version_major": 2,
       "version_minor": 0
      },
      "text/plain": [
       "  0%|          | 0/4 [00:00<?, ?it/s]"
      ]
     },
     "metadata": {},
     "output_type": "display_data"
    },
    {
     "data": {
      "application/vnd.jupyter.widget-view+json": {
       "model_id": "0b63d67349814011b48e057a3d1342a1",
       "version_major": 2,
       "version_minor": 0
      },
      "text/plain": [
       "  0%|          | 0/27 [00:00<?, ?it/s]"
      ]
     },
     "metadata": {},
     "output_type": "display_data"
    },
    {
     "data": {
      "application/vnd.jupyter.widget-view+json": {
       "model_id": "2a7e74b010a843dbbf79b9c4da9fa990",
       "version_major": 2,
       "version_minor": 0
      },
      "text/plain": [
       "  0%|          | 0/3 [00:00<?, ?it/s]"
      ]
     },
     "metadata": {},
     "output_type": "display_data"
    },
    {
     "data": {
      "application/vnd.jupyter.widget-view+json": {
       "model_id": "6a816194ad5b4dc48f7179f8a2e71bc3",
       "version_major": 2,
       "version_minor": 0
      },
      "text/plain": [
       "  0%|          | 0/6 [00:00<?, ?it/s]"
      ]
     },
     "metadata": {},
     "output_type": "display_data"
    },
    {
     "data": {
      "application/vnd.jupyter.widget-view+json": {
       "model_id": "1f49aa9a648a4602ad94db375fddd398",
       "version_major": 2,
       "version_minor": 0
      },
      "text/plain": [
       "  0%|          | 0/4 [00:00<?, ?it/s]"
      ]
     },
     "metadata": {},
     "output_type": "display_data"
    },
    {
     "data": {
      "application/vnd.jupyter.widget-view+json": {
       "model_id": "1ea9214b403f40c6b993d9a93cc386a2",
       "version_major": 2,
       "version_minor": 0
      },
      "text/plain": [
       "  0%|          | 0/7 [00:00<?, ?it/s]"
      ]
     },
     "metadata": {},
     "output_type": "display_data"
    },
    {
     "data": {
      "application/vnd.jupyter.widget-view+json": {
       "model_id": "f9cacf0c4c0349ae8966c94a18432d50",
       "version_major": 2,
       "version_minor": 0
      },
      "text/plain": [
       "  0%|          | 0/8 [00:00<?, ?it/s]"
      ]
     },
     "metadata": {},
     "output_type": "display_data"
    },
    {
     "data": {
      "application/vnd.jupyter.widget-view+json": {
       "model_id": "11cea13c84a64142ab7d8aa659b14d91",
       "version_major": 2,
       "version_minor": 0
      },
      "text/plain": [
       "  0%|          | 0/22 [00:00<?, ?it/s]"
      ]
     },
     "metadata": {},
     "output_type": "display_data"
    },
    {
     "data": {
      "application/vnd.jupyter.widget-view+json": {
       "model_id": "da49573f30ad4dfbb74e7dac7b306b69",
       "version_major": 2,
       "version_minor": 0
      },
      "text/plain": [
       "  0%|          | 0/3 [00:00<?, ?it/s]"
      ]
     },
     "metadata": {},
     "output_type": "display_data"
    },
    {
     "data": {
      "application/vnd.jupyter.widget-view+json": {
       "model_id": "6071a0826e894f3fa91d3f81c95820e9",
       "version_major": 2,
       "version_minor": 0
      },
      "text/plain": [
       "  0%|          | 0/29 [00:00<?, ?it/s]"
      ]
     },
     "metadata": {},
     "output_type": "display_data"
    },
    {
     "data": {
      "application/vnd.jupyter.widget-view+json": {
       "model_id": "92b390bf48934d0d8d18ba1093e61419",
       "version_major": 2,
       "version_minor": 0
      },
      "text/plain": [
       "  0%|          | 0/6 [00:00<?, ?it/s]"
      ]
     },
     "metadata": {},
     "output_type": "display_data"
    },
    {
     "data": {
      "application/vnd.jupyter.widget-view+json": {
       "model_id": "7e7f02700d65451ca9408748f7ff0279",
       "version_major": 2,
       "version_minor": 0
      },
      "text/plain": [
       "  0%|          | 0/3 [00:00<?, ?it/s]"
      ]
     },
     "metadata": {},
     "output_type": "display_data"
    },
    {
     "data": {
      "application/vnd.jupyter.widget-view+json": {
       "model_id": "a586c959770f413ebc4d2fe56b9b8d46",
       "version_major": 2,
       "version_minor": 0
      },
      "text/plain": [
       "  0%|          | 0/18 [00:00<?, ?it/s]"
      ]
     },
     "metadata": {},
     "output_type": "display_data"
    },
    {
     "data": {
      "application/vnd.jupyter.widget-view+json": {
       "model_id": "1abb523fb7cb4beaa537c7f55da465d9",
       "version_major": 2,
       "version_minor": 0
      },
      "text/plain": [
       "  0%|          | 0/4 [00:00<?, ?it/s]"
      ]
     },
     "metadata": {},
     "output_type": "display_data"
    },
    {
     "data": {
      "application/vnd.jupyter.widget-view+json": {
       "model_id": "41c6f5b9a3ae43c6822e4c4c5d8b2ffc",
       "version_major": 2,
       "version_minor": 0
      },
      "text/plain": [
       "  0%|          | 0/40 [00:00<?, ?it/s]"
      ]
     },
     "metadata": {},
     "output_type": "display_data"
    },
    {
     "data": {
      "application/vnd.jupyter.widget-view+json": {
       "model_id": "071874a409a44ad49f49b3dcb2c2b0ce",
       "version_major": 2,
       "version_minor": 0
      },
      "text/plain": [
       "  0%|          | 0/17 [00:00<?, ?it/s]"
      ]
     },
     "metadata": {},
     "output_type": "display_data"
    },
    {
     "data": {
      "application/vnd.jupyter.widget-view+json": {
       "model_id": "114301b021394f0d83320aebfe4f4fff",
       "version_major": 2,
       "version_minor": 0
      },
      "text/plain": [
       "  0%|          | 0/14 [00:00<?, ?it/s]"
      ]
     },
     "metadata": {},
     "output_type": "display_data"
    },
    {
     "data": {
      "application/vnd.jupyter.widget-view+json": {
       "model_id": "fc245b818b4345b1b8514f16571e9de4",
       "version_major": 2,
       "version_minor": 0
      },
      "text/plain": [
       "  0%|          | 0/5 [00:00<?, ?it/s]"
      ]
     },
     "metadata": {},
     "output_type": "display_data"
    },
    {
     "data": {
      "application/vnd.jupyter.widget-view+json": {
       "model_id": "38b1f83f285c419bb3606e97e87863e5",
       "version_major": 2,
       "version_minor": 0
      },
      "text/plain": [
       "  0%|          | 0/4 [00:00<?, ?it/s]"
      ]
     },
     "metadata": {},
     "output_type": "display_data"
    },
    {
     "data": {
      "application/vnd.jupyter.widget-view+json": {
       "model_id": "61c0902925974f639ffa9692db9b4cb4",
       "version_major": 2,
       "version_minor": 0
      },
      "text/plain": [
       "  0%|          | 0/6 [00:00<?, ?it/s]"
      ]
     },
     "metadata": {},
     "output_type": "display_data"
    },
    {
     "data": {
      "application/vnd.jupyter.widget-view+json": {
       "model_id": "cee6b06655c542aca81087150d53c6cd",
       "version_major": 2,
       "version_minor": 0
      },
      "text/plain": [
       "  0%|          | 0/33 [00:00<?, ?it/s]"
      ]
     },
     "metadata": {},
     "output_type": "display_data"
    },
    {
     "data": {
      "application/vnd.jupyter.widget-view+json": {
       "model_id": "3453517dd0f64551aa1118fd96c88bde",
       "version_major": 2,
       "version_minor": 0
      },
      "text/plain": [
       "  0%|          | 0/4 [00:00<?, ?it/s]"
      ]
     },
     "metadata": {},
     "output_type": "display_data"
    },
    {
     "data": {
      "application/vnd.jupyter.widget-view+json": {
       "model_id": "d78810ecef7e4425956dffbe1538efc9",
       "version_major": 2,
       "version_minor": 0
      },
      "text/plain": [
       "  0%|          | 0/7 [00:00<?, ?it/s]"
      ]
     },
     "metadata": {},
     "output_type": "display_data"
    },
    {
     "data": {
      "application/vnd.jupyter.widget-view+json": {
       "model_id": "550ebd98f53d41ada2749a3bc5bf461d",
       "version_major": 2,
       "version_minor": 0
      },
      "text/plain": [
       "  0%|          | 0/22 [00:00<?, ?it/s]"
      ]
     },
     "metadata": {},
     "output_type": "display_data"
    },
    {
     "data": {
      "application/vnd.jupyter.widget-view+json": {
       "model_id": "dc7eb262a2ce402ebb959b50684a685f",
       "version_major": 2,
       "version_minor": 0
      },
      "text/plain": [
       "  0%|          | 0/6 [00:00<?, ?it/s]"
      ]
     },
     "metadata": {},
     "output_type": "display_data"
    },
    {
     "data": {
      "application/vnd.jupyter.widget-view+json": {
       "model_id": "5a7abbc9bd6046feada045b7cab5fdd6",
       "version_major": 2,
       "version_minor": 0
      },
      "text/plain": [
       "  0%|          | 0/30 [00:00<?, ?it/s]"
      ]
     },
     "metadata": {},
     "output_type": "display_data"
    },
    {
     "data": {
      "application/vnd.jupyter.widget-view+json": {
       "model_id": "bd064e871b5f444da307d28b5d8bb106",
       "version_major": 2,
       "version_minor": 0
      },
      "text/plain": [
       "  0%|          | 0/6 [00:00<?, ?it/s]"
      ]
     },
     "metadata": {},
     "output_type": "display_data"
    },
    {
     "data": {
      "application/vnd.jupyter.widget-view+json": {
       "model_id": "fc2ccfa76bcf4cc2bc287f26859534a9",
       "version_major": 2,
       "version_minor": 0
      },
      "text/plain": [
       "  0%|          | 0/9 [00:00<?, ?it/s]"
      ]
     },
     "metadata": {},
     "output_type": "display_data"
    },
    {
     "data": {
      "application/vnd.jupyter.widget-view+json": {
       "model_id": "08afed0f3d894b43a9f68a0107e80559",
       "version_major": 2,
       "version_minor": 0
      },
      "text/plain": [
       "  0%|          | 0/7 [00:00<?, ?it/s]"
      ]
     },
     "metadata": {},
     "output_type": "display_data"
    },
    {
     "data": {
      "application/vnd.jupyter.widget-view+json": {
       "model_id": "fb0b71ea6c5844d3bc9c65fdb60a0353",
       "version_major": 2,
       "version_minor": 0
      },
      "text/plain": [
       "  0%|          | 0/7 [00:00<?, ?it/s]"
      ]
     },
     "metadata": {},
     "output_type": "display_data"
    },
    {
     "data": {
      "application/vnd.jupyter.widget-view+json": {
       "model_id": "7cde823d98524ce9a039fd7041db6ac1",
       "version_major": 2,
       "version_minor": 0
      },
      "text/plain": [
       "  0%|          | 0/23 [00:00<?, ?it/s]"
      ]
     },
     "metadata": {},
     "output_type": "display_data"
    },
    {
     "data": {
      "application/vnd.jupyter.widget-view+json": {
       "model_id": "7dbd3d024b80406faade6d8e0d8a179f",
       "version_major": 2,
       "version_minor": 0
      },
      "text/plain": [
       "  0%|          | 0/36 [00:00<?, ?it/s]"
      ]
     },
     "metadata": {},
     "output_type": "display_data"
    },
    {
     "data": {
      "application/vnd.jupyter.widget-view+json": {
       "model_id": "2b6b734c32184665a0615c6a63b9c69a",
       "version_major": 2,
       "version_minor": 0
      },
      "text/plain": [
       "  0%|          | 0/37 [00:00<?, ?it/s]"
      ]
     },
     "metadata": {},
     "output_type": "display_data"
    },
    {
     "data": {
      "application/vnd.jupyter.widget-view+json": {
       "model_id": "899f06726b22402eb888f09536aae2ab",
       "version_major": 2,
       "version_minor": 0
      },
      "text/plain": [
       "  0%|          | 0/23 [00:00<?, ?it/s]"
      ]
     },
     "metadata": {},
     "output_type": "display_data"
    },
    {
     "data": {
      "application/vnd.jupyter.widget-view+json": {
       "model_id": "228eb593260941a0911f5412c04487db",
       "version_major": 2,
       "version_minor": 0
      },
      "text/plain": [
       "  0%|          | 0/8 [00:00<?, ?it/s]"
      ]
     },
     "metadata": {},
     "output_type": "display_data"
    },
    {
     "data": {
      "application/vnd.jupyter.widget-view+json": {
       "model_id": "a5d0305ed05a4c2589a012ab1f5267fd",
       "version_major": 2,
       "version_minor": 0
      },
      "text/plain": [
       "  0%|          | 0/14 [00:00<?, ?it/s]"
      ]
     },
     "metadata": {},
     "output_type": "display_data"
    },
    {
     "data": {
      "application/vnd.jupyter.widget-view+json": {
       "model_id": "df9df08cca904ae4aa7280d0474734aa",
       "version_major": 2,
       "version_minor": 0
      },
      "text/plain": [
       "  0%|          | 0/11 [00:00<?, ?it/s]"
      ]
     },
     "metadata": {},
     "output_type": "display_data"
    },
    {
     "data": {
      "application/vnd.jupyter.widget-view+json": {
       "model_id": "0d6b80f741734cdfb1973bcfb19141fc",
       "version_major": 2,
       "version_minor": 0
      },
      "text/plain": [
       "  0%|          | 0/14 [00:00<?, ?it/s]"
      ]
     },
     "metadata": {},
     "output_type": "display_data"
    },
    {
     "data": {
      "application/vnd.jupyter.widget-view+json": {
       "model_id": "0e0fc570f8aa46128195698b2fe5759c",
       "version_major": 2,
       "version_minor": 0
      },
      "text/plain": [
       "  0%|          | 0/23 [00:00<?, ?it/s]"
      ]
     },
     "metadata": {},
     "output_type": "display_data"
    },
    {
     "data": {
      "application/vnd.jupyter.widget-view+json": {
       "model_id": "da5809dbdf334f18a4479eca0a93c923",
       "version_major": 2,
       "version_minor": 0
      },
      "text/plain": [
       "  0%|          | 0/10 [00:00<?, ?it/s]"
      ]
     },
     "metadata": {},
     "output_type": "display_data"
    },
    {
     "data": {
      "application/vnd.jupyter.widget-view+json": {
       "model_id": "a2140a1c60e1480dab8a1c6046de2d37",
       "version_major": 2,
       "version_minor": 0
      },
      "text/plain": [
       "  0%|          | 0/11 [00:00<?, ?it/s]"
      ]
     },
     "metadata": {},
     "output_type": "display_data"
    },
    {
     "data": {
      "application/vnd.jupyter.widget-view+json": {
       "model_id": "f24444bb49b044679a58e9ecfdba9cc2",
       "version_major": 2,
       "version_minor": 0
      },
      "text/plain": [
       "  0%|          | 0/12 [00:00<?, ?it/s]"
      ]
     },
     "metadata": {},
     "output_type": "display_data"
    },
    {
     "data": {
      "application/vnd.jupyter.widget-view+json": {
       "model_id": "41c5d72d99bd4d79a73349fd173862bb",
       "version_major": 2,
       "version_minor": 0
      },
      "text/plain": [
       "  0%|          | 0/12 [00:00<?, ?it/s]"
      ]
     },
     "metadata": {},
     "output_type": "display_data"
    },
    {
     "data": {
      "application/vnd.jupyter.widget-view+json": {
       "model_id": "179fe4d4d98c42488f51921523615577",
       "version_major": 2,
       "version_minor": 0
      },
      "text/plain": [
       "  0%|          | 0/6 [00:00<?, ?it/s]"
      ]
     },
     "metadata": {},
     "output_type": "display_data"
    },
    {
     "data": {
      "application/vnd.jupyter.widget-view+json": {
       "model_id": "6ec866637c8f4ce5bafa01fbdb968568",
       "version_major": 2,
       "version_minor": 0
      },
      "text/plain": [
       "  0%|          | 0/3 [00:00<?, ?it/s]"
      ]
     },
     "metadata": {},
     "output_type": "display_data"
    },
    {
     "data": {
      "application/vnd.jupyter.widget-view+json": {
       "model_id": "0b0fca77c5f0451996032410cb191339",
       "version_major": 2,
       "version_minor": 0
      },
      "text/plain": [
       "  0%|          | 0/6 [00:00<?, ?it/s]"
      ]
     },
     "metadata": {},
     "output_type": "display_data"
    },
    {
     "data": {
      "application/vnd.jupyter.widget-view+json": {
       "model_id": "73920d4331cf4a6d8f7645911c6a61ca",
       "version_major": 2,
       "version_minor": 0
      },
      "text/plain": [
       "  0%|          | 0/17 [00:00<?, ?it/s]"
      ]
     },
     "metadata": {},
     "output_type": "display_data"
    },
    {
     "data": {
      "application/vnd.jupyter.widget-view+json": {
       "model_id": "de0decf910594104a8a48c90636efed6",
       "version_major": 2,
       "version_minor": 0
      },
      "text/plain": [
       "  0%|          | 0/6 [00:00<?, ?it/s]"
      ]
     },
     "metadata": {},
     "output_type": "display_data"
    },
    {
     "data": {
      "application/vnd.jupyter.widget-view+json": {
       "model_id": "9f7c66e9e70d4786bd3dc2ae5f14cd00",
       "version_major": 2,
       "version_minor": 0
      },
      "text/plain": [
       "  0%|          | 0/11 [00:00<?, ?it/s]"
      ]
     },
     "metadata": {},
     "output_type": "display_data"
    },
    {
     "data": {
      "application/vnd.jupyter.widget-view+json": {
       "model_id": "cc343e1646f9443c9a1b2a84592ffadc",
       "version_major": 2,
       "version_minor": 0
      },
      "text/plain": [
       "  0%|          | 0/5 [00:00<?, ?it/s]"
      ]
     },
     "metadata": {},
     "output_type": "display_data"
    },
    {
     "data": {
      "application/vnd.jupyter.widget-view+json": {
       "model_id": "8aa10517355c42b0bbcacb2fcdedbafb",
       "version_major": 2,
       "version_minor": 0
      },
      "text/plain": [
       "  0%|          | 0/5 [00:00<?, ?it/s]"
      ]
     },
     "metadata": {},
     "output_type": "display_data"
    },
    {
     "data": {
      "application/vnd.jupyter.widget-view+json": {
       "model_id": "4740700e60e64c19b4fbaa89d1ecc1ca",
       "version_major": 2,
       "version_minor": 0
      },
      "text/plain": [
       "  0%|          | 0/20 [00:00<?, ?it/s]"
      ]
     },
     "metadata": {},
     "output_type": "display_data"
    },
    {
     "data": {
      "application/vnd.jupyter.widget-view+json": {
       "model_id": "6e25749611f24bdc9112d018d1144fab",
       "version_major": 2,
       "version_minor": 0
      },
      "text/plain": [
       "  0%|          | 0/4 [00:00<?, ?it/s]"
      ]
     },
     "metadata": {},
     "output_type": "display_data"
    },
    {
     "data": {
      "application/vnd.jupyter.widget-view+json": {
       "model_id": "b9204d9ab3ef4d8eaa2d404f8b154b44",
       "version_major": 2,
       "version_minor": 0
      },
      "text/plain": [
       "  0%|          | 0/67 [00:00<?, ?it/s]"
      ]
     },
     "metadata": {},
     "output_type": "display_data"
    },
    {
     "data": {
      "application/vnd.jupyter.widget-view+json": {
       "model_id": "2b9ecef8171b4dd8be3bdd18e1bc0e8a",
       "version_major": 2,
       "version_minor": 0
      },
      "text/plain": [
       "  0%|          | 0/5 [00:00<?, ?it/s]"
      ]
     },
     "metadata": {},
     "output_type": "display_data"
    },
    {
     "data": {
      "application/vnd.jupyter.widget-view+json": {
       "model_id": "39933052540846858c3165e0c9acecbf",
       "version_major": 2,
       "version_minor": 0
      },
      "text/plain": [
       "  0%|          | 0/15 [00:00<?, ?it/s]"
      ]
     },
     "metadata": {},
     "output_type": "display_data"
    },
    {
     "data": {
      "application/vnd.jupyter.widget-view+json": {
       "model_id": "0c380699a9da4bf5a7c241b793ce3006",
       "version_major": 2,
       "version_minor": 0
      },
      "text/plain": [
       "  0%|          | 0/5 [00:00<?, ?it/s]"
      ]
     },
     "metadata": {},
     "output_type": "display_data"
    },
    {
     "data": {
      "application/vnd.jupyter.widget-view+json": {
       "model_id": "8262cdd9a576488097cb1df98ba55b08",
       "version_major": 2,
       "version_minor": 0
      },
      "text/plain": [
       "  0%|          | 0/4 [00:00<?, ?it/s]"
      ]
     },
     "metadata": {},
     "output_type": "display_data"
    },
    {
     "data": {
      "application/vnd.jupyter.widget-view+json": {
       "model_id": "8b70ffd1704a4688b83797350cf3f20e",
       "version_major": 2,
       "version_minor": 0
      },
      "text/plain": [
       "  0%|          | 0/5 [00:00<?, ?it/s]"
      ]
     },
     "metadata": {},
     "output_type": "display_data"
    },
    {
     "data": {
      "application/vnd.jupyter.widget-view+json": {
       "model_id": "a6b7c8e651c0467bb3c9476c93b1c1b6",
       "version_major": 2,
       "version_minor": 0
      },
      "text/plain": [
       "  0%|          | 0/2 [00:00<?, ?it/s]"
      ]
     },
     "metadata": {},
     "output_type": "display_data"
    },
    {
     "data": {
      "application/vnd.jupyter.widget-view+json": {
       "model_id": "c3b142474c0b4d29b4ae3cf62e12f725",
       "version_major": 2,
       "version_minor": 0
      },
      "text/plain": [
       "  0%|          | 0/3 [00:00<?, ?it/s]"
      ]
     },
     "metadata": {},
     "output_type": "display_data"
    },
    {
     "data": {
      "application/vnd.jupyter.widget-view+json": {
       "model_id": "2a72fcc31ce1451b842a94f67d9f39c7",
       "version_major": 2,
       "version_minor": 0
      },
      "text/plain": [
       "  0%|          | 0/11 [00:00<?, ?it/s]"
      ]
     },
     "metadata": {},
     "output_type": "display_data"
    },
    {
     "data": {
      "application/vnd.jupyter.widget-view+json": {
       "model_id": "39e02fd82c994dfd9747bda6c15b6583",
       "version_major": 2,
       "version_minor": 0
      },
      "text/plain": [
       "  0%|          | 0/8 [00:00<?, ?it/s]"
      ]
     },
     "metadata": {},
     "output_type": "display_data"
    },
    {
     "data": {
      "application/vnd.jupyter.widget-view+json": {
       "model_id": "6d3fd237101b4e15b0ad891ae3b90e61",
       "version_major": 2,
       "version_minor": 0
      },
      "text/plain": [
       "  0%|          | 0/42 [00:00<?, ?it/s]"
      ]
     },
     "metadata": {},
     "output_type": "display_data"
    },
    {
     "data": {
      "application/vnd.jupyter.widget-view+json": {
       "model_id": "ef9c13ccf86e47c193fb81c0a0489c6f",
       "version_major": 2,
       "version_minor": 0
      },
      "text/plain": [
       "  0%|          | 0/11 [00:00<?, ?it/s]"
      ]
     },
     "metadata": {},
     "output_type": "display_data"
    },
    {
     "data": {
      "application/vnd.jupyter.widget-view+json": {
       "model_id": "2f7124f8836349938592bd798c11b333",
       "version_major": 2,
       "version_minor": 0
      },
      "text/plain": [
       "  0%|          | 0/33 [00:00<?, ?it/s]"
      ]
     },
     "metadata": {},
     "output_type": "display_data"
    },
    {
     "data": {
      "application/vnd.jupyter.widget-view+json": {
       "model_id": "634273e261774d099a99c84b412836db",
       "version_major": 2,
       "version_minor": 0
      },
      "text/plain": [
       "  0%|          | 0/1 [00:00<?, ?it/s]"
      ]
     },
     "metadata": {},
     "output_type": "display_data"
    },
    {
     "data": {
      "application/vnd.jupyter.widget-view+json": {
       "model_id": "a4875e0a78514ee698cfd5c3170f667d",
       "version_major": 2,
       "version_minor": 0
      },
      "text/plain": [
       "  0%|          | 0/3 [00:00<?, ?it/s]"
      ]
     },
     "metadata": {},
     "output_type": "display_data"
    },
    {
     "data": {
      "application/vnd.jupyter.widget-view+json": {
       "model_id": "a1b69d1b3ee64230812b6daa80303f7a",
       "version_major": 2,
       "version_minor": 0
      },
      "text/plain": [
       "  0%|          | 0/9 [00:00<?, ?it/s]"
      ]
     },
     "metadata": {},
     "output_type": "display_data"
    },
    {
     "data": {
      "application/vnd.jupyter.widget-view+json": {
       "model_id": "9d1c2068351149f7b046441a818cb750",
       "version_major": 2,
       "version_minor": 0
      },
      "text/plain": [
       "  0%|          | 0/5 [00:00<?, ?it/s]"
      ]
     },
     "metadata": {},
     "output_type": "display_data"
    },
    {
     "data": {
      "application/vnd.jupyter.widget-view+json": {
       "model_id": "c0b0705d704049d5a41e40667a297d8e",
       "version_major": 2,
       "version_minor": 0
      },
      "text/plain": [
       "  0%|          | 0/8 [00:00<?, ?it/s]"
      ]
     },
     "metadata": {},
     "output_type": "display_data"
    },
    {
     "data": {
      "application/vnd.jupyter.widget-view+json": {
       "model_id": "6b9414555e64437c8526309cedb85a5b",
       "version_major": 2,
       "version_minor": 0
      },
      "text/plain": [
       "  0%|          | 0/9 [00:00<?, ?it/s]"
      ]
     },
     "metadata": {},
     "output_type": "display_data"
    },
    {
     "data": {
      "application/vnd.jupyter.widget-view+json": {
       "model_id": "30de5517be8847f3aca0ae75ae4fd386",
       "version_major": 2,
       "version_minor": 0
      },
      "text/plain": [
       "  0%|          | 0/33 [00:00<?, ?it/s]"
      ]
     },
     "metadata": {},
     "output_type": "display_data"
    },
    {
     "data": {
      "application/vnd.jupyter.widget-view+json": {
       "model_id": "f37ac11822cc4a839288f012ddb0cc96",
       "version_major": 2,
       "version_minor": 0
      },
      "text/plain": [
       "  0%|          | 0/12 [00:00<?, ?it/s]"
      ]
     },
     "metadata": {},
     "output_type": "display_data"
    },
    {
     "data": {
      "application/vnd.jupyter.widget-view+json": {
       "model_id": "2abd73187df3419aab9fa681ce52978b",
       "version_major": 2,
       "version_minor": 0
      },
      "text/plain": [
       "  0%|          | 0/8 [00:00<?, ?it/s]"
      ]
     },
     "metadata": {},
     "output_type": "display_data"
    },
    {
     "data": {
      "application/vnd.jupyter.widget-view+json": {
       "model_id": "f4a05e4d001145a38528538daa18daac",
       "version_major": 2,
       "version_minor": 0
      },
      "text/plain": [
       "  0%|          | 0/16 [00:00<?, ?it/s]"
      ]
     },
     "metadata": {},
     "output_type": "display_data"
    },
    {
     "data": {
      "application/vnd.jupyter.widget-view+json": {
       "model_id": "ee60020bb12d4085809088860480aca0",
       "version_major": 2,
       "version_minor": 0
      },
      "text/plain": [
       "  0%|          | 0/8 [00:00<?, ?it/s]"
      ]
     },
     "metadata": {},
     "output_type": "display_data"
    },
    {
     "data": {
      "application/vnd.jupyter.widget-view+json": {
       "model_id": "e359a0424e804518a8d1c534ea3bf2f5",
       "version_major": 2,
       "version_minor": 0
      },
      "text/plain": [
       "  0%|          | 0/6 [00:00<?, ?it/s]"
      ]
     },
     "metadata": {},
     "output_type": "display_data"
    },
    {
     "data": {
      "application/vnd.jupyter.widget-view+json": {
       "model_id": "1262712c8f75428ba3411cd4376859e7",
       "version_major": 2,
       "version_minor": 0
      },
      "text/plain": [
       "  0%|          | 0/9 [00:00<?, ?it/s]"
      ]
     },
     "metadata": {},
     "output_type": "display_data"
    },
    {
     "data": {
      "application/vnd.jupyter.widget-view+json": {
       "model_id": "48bd471adfb8416f85020e257c581a47",
       "version_major": 2,
       "version_minor": 0
      },
      "text/plain": [
       "  0%|          | 0/14 [00:00<?, ?it/s]"
      ]
     },
     "metadata": {},
     "output_type": "display_data"
    },
    {
     "data": {
      "application/vnd.jupyter.widget-view+json": {
       "model_id": "b2566f4cd053461da9a0537e2ccc3f68",
       "version_major": 2,
       "version_minor": 0
      },
      "text/plain": [
       "  0%|          | 0/35 [00:00<?, ?it/s]"
      ]
     },
     "metadata": {},
     "output_type": "display_data"
    },
    {
     "data": {
      "application/vnd.jupyter.widget-view+json": {
       "model_id": "cfb4e5b9351c4f0294545d805e0db02b",
       "version_major": 2,
       "version_minor": 0
      },
      "text/plain": [
       "  0%|          | 0/9 [00:00<?, ?it/s]"
      ]
     },
     "metadata": {},
     "output_type": "display_data"
    },
    {
     "data": {
      "application/vnd.jupyter.widget-view+json": {
       "model_id": "36d2549bd9c04e0a9ffdd025c73fe9f3",
       "version_major": 2,
       "version_minor": 0
      },
      "text/plain": [
       "  0%|          | 0/12 [00:00<?, ?it/s]"
      ]
     },
     "metadata": {},
     "output_type": "display_data"
    },
    {
     "data": {
      "application/vnd.jupyter.widget-view+json": {
       "model_id": "d1b837f3d506413ca544fd3c6f2477ca",
       "version_major": 2,
       "version_minor": 0
      },
      "text/plain": [
       "  0%|          | 0/9 [00:00<?, ?it/s]"
      ]
     },
     "metadata": {},
     "output_type": "display_data"
    },
    {
     "data": {
      "application/vnd.jupyter.widget-view+json": {
       "model_id": "83484fe1fcda467c88f131d626caee24",
       "version_major": 2,
       "version_minor": 0
      },
      "text/plain": [
       "  0%|          | 0/9 [00:00<?, ?it/s]"
      ]
     },
     "metadata": {},
     "output_type": "display_data"
    },
    {
     "data": {
      "application/vnd.jupyter.widget-view+json": {
       "model_id": "889dbce94fdf4ee3afdccb6f4c4d4505",
       "version_major": 2,
       "version_minor": 0
      },
      "text/plain": [
       "  0%|          | 0/15 [00:00<?, ?it/s]"
      ]
     },
     "metadata": {},
     "output_type": "display_data"
    },
    {
     "data": {
      "application/vnd.jupyter.widget-view+json": {
       "model_id": "1523e51075c94ca7a54166d87afa3add",
       "version_major": 2,
       "version_minor": 0
      },
      "text/plain": [
       "  0%|          | 0/6 [00:00<?, ?it/s]"
      ]
     },
     "metadata": {},
     "output_type": "display_data"
    },
    {
     "data": {
      "application/vnd.jupyter.widget-view+json": {
       "model_id": "d5b01eaf0b6847b79cc1ce66802d3918",
       "version_major": 2,
       "version_minor": 0
      },
      "text/plain": [
       "  0%|          | 0/9 [00:00<?, ?it/s]"
      ]
     },
     "metadata": {},
     "output_type": "display_data"
    },
    {
     "data": {
      "application/vnd.jupyter.widget-view+json": {
       "model_id": "1cc22c2a0a23493b88e322c2f107bede",
       "version_major": 2,
       "version_minor": 0
      },
      "text/plain": [
       "  0%|          | 0/4 [00:00<?, ?it/s]"
      ]
     },
     "metadata": {},
     "output_type": "display_data"
    },
    {
     "data": {
      "application/vnd.jupyter.widget-view+json": {
       "model_id": "edc81f3f774a4cd5ae39083dcbfe313f",
       "version_major": 2,
       "version_minor": 0
      },
      "text/plain": [
       "  0%|          | 0/4 [00:00<?, ?it/s]"
      ]
     },
     "metadata": {},
     "output_type": "display_data"
    },
    {
     "data": {
      "application/vnd.jupyter.widget-view+json": {
       "model_id": "8fbae87e0e004f90907beecfb40ff1a1",
       "version_major": 2,
       "version_minor": 0
      },
      "text/plain": [
       "  0%|          | 0/42 [00:00<?, ?it/s]"
      ]
     },
     "metadata": {},
     "output_type": "display_data"
    },
    {
     "data": {
      "application/vnd.jupyter.widget-view+json": {
       "model_id": "23c381d21a014ceca26ce6cf0c9c565f",
       "version_major": 2,
       "version_minor": 0
      },
      "text/plain": [
       "  0%|          | 0/5 [00:00<?, ?it/s]"
      ]
     },
     "metadata": {},
     "output_type": "display_data"
    },
    {
     "data": {
      "application/vnd.jupyter.widget-view+json": {
       "model_id": "f4b57f8880c244dcaf97ed2016811aaa",
       "version_major": 2,
       "version_minor": 0
      },
      "text/plain": [
       "  0%|          | 0/4 [00:00<?, ?it/s]"
      ]
     },
     "metadata": {},
     "output_type": "display_data"
    },
    {
     "data": {
      "application/vnd.jupyter.widget-view+json": {
       "model_id": "ced4450ac9524c83b3620850fcbe0de6",
       "version_major": 2,
       "version_minor": 0
      },
      "text/plain": [
       "  0%|          | 0/7 [00:00<?, ?it/s]"
      ]
     },
     "metadata": {},
     "output_type": "display_data"
    },
    {
     "data": {
      "application/vnd.jupyter.widget-view+json": {
       "model_id": "988d3d52902d47ebb6a638213dddc946",
       "version_major": 2,
       "version_minor": 0
      },
      "text/plain": [
       "  0%|          | 0/7 [00:00<?, ?it/s]"
      ]
     },
     "metadata": {},
     "output_type": "display_data"
    },
    {
     "data": {
      "application/vnd.jupyter.widget-view+json": {
       "model_id": "0e35dd330ea748a2bf0a0da8d9779e9b",
       "version_major": 2,
       "version_minor": 0
      },
      "text/plain": [
       "  0%|          | 0/16 [00:00<?, ?it/s]"
      ]
     },
     "metadata": {},
     "output_type": "display_data"
    },
    {
     "data": {
      "application/vnd.jupyter.widget-view+json": {
       "model_id": "7e743908c18a4910add16e9113042daa",
       "version_major": 2,
       "version_minor": 0
      },
      "text/plain": [
       "  0%|          | 0/5 [00:00<?, ?it/s]"
      ]
     },
     "metadata": {},
     "output_type": "display_data"
    },
    {
     "data": {
      "application/vnd.jupyter.widget-view+json": {
       "model_id": "868e24612f6a43748af9fd2df671ce9b",
       "version_major": 2,
       "version_minor": 0
      },
      "text/plain": [
       "  0%|          | 0/8 [00:00<?, ?it/s]"
      ]
     },
     "metadata": {},
     "output_type": "display_data"
    },
    {
     "data": {
      "application/vnd.jupyter.widget-view+json": {
       "model_id": "ae8cf7a7dd2b42d6ab48926414c41661",
       "version_major": 2,
       "version_minor": 0
      },
      "text/plain": [
       "  0%|          | 0/18 [00:00<?, ?it/s]"
      ]
     },
     "metadata": {},
     "output_type": "display_data"
    },
    {
     "data": {
      "application/vnd.jupyter.widget-view+json": {
       "model_id": "81ecb0e160fe4bb2a863b24c29bf794b",
       "version_major": 2,
       "version_minor": 0
      },
      "text/plain": [
       "  0%|          | 0/25 [00:00<?, ?it/s]"
      ]
     },
     "metadata": {},
     "output_type": "display_data"
    },
    {
     "data": {
      "application/vnd.jupyter.widget-view+json": {
       "model_id": "0b5c88dc48ac45b6a647c1d22664d314",
       "version_major": 2,
       "version_minor": 0
      },
      "text/plain": [
       "  0%|          | 0/4 [00:00<?, ?it/s]"
      ]
     },
     "metadata": {},
     "output_type": "display_data"
    },
    {
     "data": {
      "application/vnd.jupyter.widget-view+json": {
       "model_id": "27cf84a53d3346648884858af9115f69",
       "version_major": 2,
       "version_minor": 0
      },
      "text/plain": [
       "  0%|          | 0/364 [00:00<?, ?it/s]"
      ]
     },
     "metadata": {},
     "output_type": "display_data"
    },
    {
     "data": {
      "application/vnd.jupyter.widget-view+json": {
       "model_id": "2c270e81459d41ae82fffb1d2ca111bc",
       "version_major": 2,
       "version_minor": 0
      },
      "text/plain": [
       "  0%|          | 0/180 [00:00<?, ?it/s]"
      ]
     },
     "metadata": {},
     "output_type": "display_data"
    },
    {
     "data": {
      "application/vnd.jupyter.widget-view+json": {
       "model_id": "adc31d6a9a644e7bac2bec50fac2a761",
       "version_major": 2,
       "version_minor": 0
      },
      "text/plain": [
       "  0%|          | 0/23 [00:00<?, ?it/s]"
      ]
     },
     "metadata": {},
     "output_type": "display_data"
    },
    {
     "data": {
      "application/vnd.jupyter.widget-view+json": {
       "model_id": "e5cfb1a0be424df19bfc1c651c381960",
       "version_major": 2,
       "version_minor": 0
      },
      "text/plain": [
       "  0%|          | 0/30 [00:00<?, ?it/s]"
      ]
     },
     "metadata": {},
     "output_type": "display_data"
    },
    {
     "data": {
      "application/vnd.jupyter.widget-view+json": {
       "model_id": "bbb9fb4050ff45f0aaa474726150726a",
       "version_major": 2,
       "version_minor": 0
      },
      "text/plain": [
       "  0%|          | 0/16 [00:00<?, ?it/s]"
      ]
     },
     "metadata": {},
     "output_type": "display_data"
    },
    {
     "data": {
      "application/vnd.jupyter.widget-view+json": {
       "model_id": "6fb42a640ec44638a1c08bf4fb87e833",
       "version_major": 2,
       "version_minor": 0
      },
      "text/plain": [
       "  0%|          | 0/29 [00:00<?, ?it/s]"
      ]
     },
     "metadata": {},
     "output_type": "display_data"
    },
    {
     "data": {
      "application/vnd.jupyter.widget-view+json": {
       "model_id": "353ef3728a604e31b6cfe2af3008e671",
       "version_major": 2,
       "version_minor": 0
      },
      "text/plain": [
       "  0%|          | 0/18 [00:00<?, ?it/s]"
      ]
     },
     "metadata": {},
     "output_type": "display_data"
    },
    {
     "data": {
      "application/vnd.jupyter.widget-view+json": {
       "model_id": "7bc1c6c1d9df42669ac6019b87ba5952",
       "version_major": 2,
       "version_minor": 0
      },
      "text/plain": [
       "  0%|          | 0/18 [00:00<?, ?it/s]"
      ]
     },
     "metadata": {},
     "output_type": "display_data"
    },
    {
     "data": {
      "application/vnd.jupyter.widget-view+json": {
       "model_id": "b076c62e391f46be9955c206cf7d12ca",
       "version_major": 2,
       "version_minor": 0
      },
      "text/plain": [
       "  0%|          | 0/69 [00:00<?, ?it/s]"
      ]
     },
     "metadata": {},
     "output_type": "display_data"
    },
    {
     "data": {
      "application/vnd.jupyter.widget-view+json": {
       "model_id": "b40f761a8c5f44e4b77c38293b410ff0",
       "version_major": 2,
       "version_minor": 0
      },
      "text/plain": [
       "  0%|          | 0/33 [00:00<?, ?it/s]"
      ]
     },
     "metadata": {},
     "output_type": "display_data"
    },
    {
     "data": {
      "application/vnd.jupyter.widget-view+json": {
       "model_id": "4b2008a1334f4ffca177cb6f09644fbd",
       "version_major": 2,
       "version_minor": 0
      },
      "text/plain": [
       "  0%|          | 0/76 [00:00<?, ?it/s]"
      ]
     },
     "metadata": {},
     "output_type": "display_data"
    },
    {
     "data": {
      "application/vnd.jupyter.widget-view+json": {
       "model_id": "7d1d4eb990634618b112851fde47f296",
       "version_major": 2,
       "version_minor": 0
      },
      "text/plain": [
       "  0%|          | 0/51 [00:00<?, ?it/s]"
      ]
     },
     "metadata": {},
     "output_type": "display_data"
    },
    {
     "data": {
      "application/vnd.jupyter.widget-view+json": {
       "model_id": "a5850c2117dc426c99a49b339e215763",
       "version_major": 2,
       "version_minor": 0
      },
      "text/plain": [
       "  0%|          | 0/47 [00:00<?, ?it/s]"
      ]
     },
     "metadata": {},
     "output_type": "display_data"
    },
    {
     "data": {
      "application/vnd.jupyter.widget-view+json": {
       "model_id": "9d7215eadfad4c30add2f31bb19c5446",
       "version_major": 2,
       "version_minor": 0
      },
      "text/plain": [
       "  0%|          | 0/107 [00:00<?, ?it/s]"
      ]
     },
     "metadata": {},
     "output_type": "display_data"
    },
    {
     "data": {
      "application/vnd.jupyter.widget-view+json": {
       "model_id": "2bd8bc19f9184330b1ba4691a4115178",
       "version_major": 2,
       "version_minor": 0
      },
      "text/plain": [
       "  0%|          | 0/27 [00:00<?, ?it/s]"
      ]
     },
     "metadata": {},
     "output_type": "display_data"
    },
    {
     "data": {
      "application/vnd.jupyter.widget-view+json": {
       "model_id": "3229cacdc39f4031a43c3aa77e759764",
       "version_major": 2,
       "version_minor": 0
      },
      "text/plain": [
       "  0%|          | 0/18 [00:00<?, ?it/s]"
      ]
     },
     "metadata": {},
     "output_type": "display_data"
    },
    {
     "data": {
      "application/vnd.jupyter.widget-view+json": {
       "model_id": "afa6bd6ff4314985aa183902eefd2b67",
       "version_major": 2,
       "version_minor": 0
      },
      "text/plain": [
       "  0%|          | 0/41 [00:00<?, ?it/s]"
      ]
     },
     "metadata": {},
     "output_type": "display_data"
    },
    {
     "data": {
      "application/vnd.jupyter.widget-view+json": {
       "model_id": "9e71cb7c82554a5cbfd1831b1a41015c",
       "version_major": 2,
       "version_minor": 0
      },
      "text/plain": [
       "  0%|          | 0/17 [00:00<?, ?it/s]"
      ]
     },
     "metadata": {},
     "output_type": "display_data"
    },
    {
     "data": {
      "application/vnd.jupyter.widget-view+json": {
       "model_id": "530be983634c4d03a7cb9681d04e814f",
       "version_major": 2,
       "version_minor": 0
      },
      "text/plain": [
       "  0%|          | 0/104 [00:00<?, ?it/s]"
      ]
     },
     "metadata": {},
     "output_type": "display_data"
    },
    {
     "data": {
      "application/vnd.jupyter.widget-view+json": {
       "model_id": "463d95bd9fdb46f0842569e51b0dfefe",
       "version_major": 2,
       "version_minor": 0
      },
      "text/plain": [
       "  0%|          | 0/12 [00:00<?, ?it/s]"
      ]
     },
     "metadata": {},
     "output_type": "display_data"
    },
    {
     "data": {
      "application/vnd.jupyter.widget-view+json": {
       "model_id": "30d1148d21a245eca7124dc18d2a4646",
       "version_major": 2,
       "version_minor": 0
      },
      "text/plain": [
       "  0%|          | 0/54 [00:00<?, ?it/s]"
      ]
     },
     "metadata": {},
     "output_type": "display_data"
    },
    {
     "data": {
      "application/vnd.jupyter.widget-view+json": {
       "model_id": "9e518059fff4407d8f65c01d97031e13",
       "version_major": 2,
       "version_minor": 0
      },
      "text/plain": [
       "  0%|          | 0/48 [00:00<?, ?it/s]"
      ]
     },
     "metadata": {},
     "output_type": "display_data"
    },
    {
     "data": {
      "application/vnd.jupyter.widget-view+json": {
       "model_id": "76c76eb0d01146d58e7447b94ffc1205",
       "version_major": 2,
       "version_minor": 0
      },
      "text/plain": [
       "  0%|          | 0/51 [00:00<?, ?it/s]"
      ]
     },
     "metadata": {},
     "output_type": "display_data"
    },
    {
     "data": {
      "application/vnd.jupyter.widget-view+json": {
       "model_id": "e91ddd29520a4a4a8d5423d6d9496793",
       "version_major": 2,
       "version_minor": 0
      },
      "text/plain": [
       "  0%|          | 0/13 [00:00<?, ?it/s]"
      ]
     },
     "metadata": {},
     "output_type": "display_data"
    },
    {
     "data": {
      "application/vnd.jupyter.widget-view+json": {
       "model_id": "79aa901cc2884e549d785bf1f6f2d0b1",
       "version_major": 2,
       "version_minor": 0
      },
      "text/plain": [
       "  0%|          | 0/9 [00:00<?, ?it/s]"
      ]
     },
     "metadata": {},
     "output_type": "display_data"
    },
    {
     "data": {
      "application/vnd.jupyter.widget-view+json": {
       "model_id": "d16489fc459245378309dcfddc06f008",
       "version_major": 2,
       "version_minor": 0
      },
      "text/plain": [
       "  0%|          | 0/26 [00:00<?, ?it/s]"
      ]
     },
     "metadata": {},
     "output_type": "display_data"
    },
    {
     "data": {
      "application/vnd.jupyter.widget-view+json": {
       "model_id": "cc8fe184ce9f417d8df3146f6ddbf5bd",
       "version_major": 2,
       "version_minor": 0
      },
      "text/plain": [
       "  0%|          | 0/57 [00:00<?, ?it/s]"
      ]
     },
     "metadata": {},
     "output_type": "display_data"
    },
    {
     "data": {
      "application/vnd.jupyter.widget-view+json": {
       "model_id": "5bda21daf71e45e9801acc148f68d150",
       "version_major": 2,
       "version_minor": 0
      },
      "text/plain": [
       "  0%|          | 0/72 [00:00<?, ?it/s]"
      ]
     },
     "metadata": {},
     "output_type": "display_data"
    },
    {
     "data": {
      "application/vnd.jupyter.widget-view+json": {
       "model_id": "761a04c10d2646ca84320630a3b19393",
       "version_major": 2,
       "version_minor": 0
      },
      "text/plain": [
       "  0%|          | 0/17 [00:00<?, ?it/s]"
      ]
     },
     "metadata": {},
     "output_type": "display_data"
    },
    {
     "data": {
      "application/vnd.jupyter.widget-view+json": {
       "model_id": "8fa29e05060e49b6980ba192e8b37d60",
       "version_major": 2,
       "version_minor": 0
      },
      "text/plain": [
       "  0%|          | 0/16 [00:00<?, ?it/s]"
      ]
     },
     "metadata": {},
     "output_type": "display_data"
    },
    {
     "data": {
      "application/vnd.jupyter.widget-view+json": {
       "model_id": "b8538545d7124ff9bff3562af69f1e98",
       "version_major": 2,
       "version_minor": 0
      },
      "text/plain": [
       "  0%|          | 0/24 [00:00<?, ?it/s]"
      ]
     },
     "metadata": {},
     "output_type": "display_data"
    },
    {
     "data": {
      "application/vnd.jupyter.widget-view+json": {
       "model_id": "2b0221bac32547e48b1f23c695bc82af",
       "version_major": 2,
       "version_minor": 0
      },
      "text/plain": [
       "  0%|          | 0/14 [00:00<?, ?it/s]"
      ]
     },
     "metadata": {},
     "output_type": "display_data"
    },
    {
     "data": {
      "application/vnd.jupyter.widget-view+json": {
       "model_id": "15281b54140d44aa9205ff6b79471b12",
       "version_major": 2,
       "version_minor": 0
      },
      "text/plain": [
       "  0%|          | 0/13 [00:00<?, ?it/s]"
      ]
     },
     "metadata": {},
     "output_type": "display_data"
    },
    {
     "data": {
      "application/vnd.jupyter.widget-view+json": {
       "model_id": "66b9342c2c2e4bcca0e78bbc126d7736",
       "version_major": 2,
       "version_minor": 0
      },
      "text/plain": [
       "  0%|          | 0/25 [00:00<?, ?it/s]"
      ]
     },
     "metadata": {},
     "output_type": "display_data"
    },
    {
     "data": {
      "application/vnd.jupyter.widget-view+json": {
       "model_id": "5f9878b8113e4d8da1dcea333a65807b",
       "version_major": 2,
       "version_minor": 0
      },
      "text/plain": [
       "  0%|          | 0/14 [00:00<?, ?it/s]"
      ]
     },
     "metadata": {},
     "output_type": "display_data"
    },
    {
     "data": {
      "application/vnd.jupyter.widget-view+json": {
       "model_id": "7b6ee8c270d54b0f87aaff8f63abc01c",
       "version_major": 2,
       "version_minor": 0
      },
      "text/plain": [
       "  0%|          | 0/21 [00:00<?, ?it/s]"
      ]
     },
     "metadata": {},
     "output_type": "display_data"
    },
    {
     "data": {
      "application/vnd.jupyter.widget-view+json": {
       "model_id": "48809b1190c947d18a141e8ed8f59076",
       "version_major": 2,
       "version_minor": 0
      },
      "text/plain": [
       "  0%|          | 0/18 [00:00<?, ?it/s]"
      ]
     },
     "metadata": {},
     "output_type": "display_data"
    },
    {
     "data": {
      "application/vnd.jupyter.widget-view+json": {
       "model_id": "f5b0df6f19c74f6c86687b0f7c1eebf5",
       "version_major": 2,
       "version_minor": 0
      },
      "text/plain": [
       "  0%|          | 0/16 [00:00<?, ?it/s]"
      ]
     },
     "metadata": {},
     "output_type": "display_data"
    },
    {
     "data": {
      "application/vnd.jupyter.widget-view+json": {
       "model_id": "a721f7c9bf7e404f8cd99ed3e91b7f08",
       "version_major": 2,
       "version_minor": 0
      },
      "text/plain": [
       "  0%|          | 0/13 [00:00<?, ?it/s]"
      ]
     },
     "metadata": {},
     "output_type": "display_data"
    },
    {
     "data": {
      "application/vnd.jupyter.widget-view+json": {
       "model_id": "750ee23da8c84cf3ba84da1d1914dd4d",
       "version_major": 2,
       "version_minor": 0
      },
      "text/plain": [
       "  0%|          | 0/36 [00:00<?, ?it/s]"
      ]
     },
     "metadata": {},
     "output_type": "display_data"
    },
    {
     "data": {
      "application/vnd.jupyter.widget-view+json": {
       "model_id": "e00d2d6ab3f346c28ae49bac4f3c9123",
       "version_major": 2,
       "version_minor": 0
      },
      "text/plain": [
       "  0%|          | 0/53 [00:00<?, ?it/s]"
      ]
     },
     "metadata": {},
     "output_type": "display_data"
    },
    {
     "data": {
      "application/vnd.jupyter.widget-view+json": {
       "model_id": "dcb3c8c37fe44debbe2e6cfbd2102b37",
       "version_major": 2,
       "version_minor": 0
      },
      "text/plain": [
       "  0%|          | 0/18 [00:00<?, ?it/s]"
      ]
     },
     "metadata": {},
     "output_type": "display_data"
    },
    {
     "data": {
      "application/vnd.jupyter.widget-view+json": {
       "model_id": "4ae77ac8b8ae4cd28cc56ac376f9f908",
       "version_major": 2,
       "version_minor": 0
      },
      "text/plain": [
       "  0%|          | 0/29 [00:00<?, ?it/s]"
      ]
     },
     "metadata": {},
     "output_type": "display_data"
    },
    {
     "data": {
      "application/vnd.jupyter.widget-view+json": {
       "model_id": "f2aa0b55b35c4d7c9dd912210baf0091",
       "version_major": 2,
       "version_minor": 0
      },
      "text/plain": [
       "  0%|          | 0/28 [00:00<?, ?it/s]"
      ]
     },
     "metadata": {},
     "output_type": "display_data"
    },
    {
     "data": {
      "application/vnd.jupyter.widget-view+json": {
       "model_id": "364aa0195a8c43cb83f08d4360aa1029",
       "version_major": 2,
       "version_minor": 0
      },
      "text/plain": [
       "  0%|          | 0/26 [00:00<?, ?it/s]"
      ]
     },
     "metadata": {},
     "output_type": "display_data"
    },
    {
     "data": {
      "application/vnd.jupyter.widget-view+json": {
       "model_id": "ab81c5ea8a0f488e8aa91d731c10c8c4",
       "version_major": 2,
       "version_minor": 0
      },
      "text/plain": [
       "  0%|          | 0/18 [00:00<?, ?it/s]"
      ]
     },
     "metadata": {},
     "output_type": "display_data"
    },
    {
     "data": {
      "application/vnd.jupyter.widget-view+json": {
       "model_id": "63e83c61ca0d4254b3d31529fc0ec115",
       "version_major": 2,
       "version_minor": 0
      },
      "text/plain": [
       "  0%|          | 0/16 [00:00<?, ?it/s]"
      ]
     },
     "metadata": {},
     "output_type": "display_data"
    },
    {
     "data": {
      "application/vnd.jupyter.widget-view+json": {
       "model_id": "107a913ac4e94b84a794386d3cfde24d",
       "version_major": 2,
       "version_minor": 0
      },
      "text/plain": [
       "  0%|          | 0/7 [00:00<?, ?it/s]"
      ]
     },
     "metadata": {},
     "output_type": "display_data"
    },
    {
     "data": {
      "application/vnd.jupyter.widget-view+json": {
       "model_id": "6285d3a9abef4430bc10ea8c7dca78f5",
       "version_major": 2,
       "version_minor": 0
      },
      "text/plain": [
       "  0%|          | 0/29 [00:00<?, ?it/s]"
      ]
     },
     "metadata": {},
     "output_type": "display_data"
    },
    {
     "data": {
      "application/vnd.jupyter.widget-view+json": {
       "model_id": "ed31571354024acabdf3b550efeb4590",
       "version_major": 2,
       "version_minor": 0
      },
      "text/plain": [
       "  0%|          | 0/11 [00:00<?, ?it/s]"
      ]
     },
     "metadata": {},
     "output_type": "display_data"
    },
    {
     "data": {
      "application/vnd.jupyter.widget-view+json": {
       "model_id": "59704efa9e7e4e4ba3b8a937d4190de6",
       "version_major": 2,
       "version_minor": 0
      },
      "text/plain": [
       "  0%|          | 0/65 [00:00<?, ?it/s]"
      ]
     },
     "metadata": {},
     "output_type": "display_data"
    },
    {
     "data": {
      "application/vnd.jupyter.widget-view+json": {
       "model_id": "58a9a61f1b964256ab0db2cb0a007a49",
       "version_major": 2,
       "version_minor": 0
      },
      "text/plain": [
       "  0%|          | 0/22 [00:00<?, ?it/s]"
      ]
     },
     "metadata": {},
     "output_type": "display_data"
    },
    {
     "data": {
      "application/vnd.jupyter.widget-view+json": {
       "model_id": "b837d64842444af78a0ae9aab542f8b1",
       "version_major": 2,
       "version_minor": 0
      },
      "text/plain": [
       "  0%|          | 0/23 [00:00<?, ?it/s]"
      ]
     },
     "metadata": {},
     "output_type": "display_data"
    },
    {
     "data": {
      "application/vnd.jupyter.widget-view+json": {
       "model_id": "00d4a297a646462c843271d7ddc51280",
       "version_major": 2,
       "version_minor": 0
      },
      "text/plain": [
       "  0%|          | 0/28 [00:00<?, ?it/s]"
      ]
     },
     "metadata": {},
     "output_type": "display_data"
    },
    {
     "data": {
      "application/vnd.jupyter.widget-view+json": {
       "model_id": "37fddf68d9da4c499795a68699005d8a",
       "version_major": 2,
       "version_minor": 0
      },
      "text/plain": [
       "  0%|          | 0/27 [00:00<?, ?it/s]"
      ]
     },
     "metadata": {},
     "output_type": "display_data"
    },
    {
     "data": {
      "application/vnd.jupyter.widget-view+json": {
       "model_id": "8c798347e41e497f984635a26925da8c",
       "version_major": 2,
       "version_minor": 0
      },
      "text/plain": [
       "  0%|          | 0/26 [00:00<?, ?it/s]"
      ]
     },
     "metadata": {},
     "output_type": "display_data"
    },
    {
     "data": {
      "application/vnd.jupyter.widget-view+json": {
       "model_id": "48b0d8f14bc141ed902b459312d3c5a0",
       "version_major": 2,
       "version_minor": 0
      },
      "text/plain": [
       "  0%|          | 0/42 [00:00<?, ?it/s]"
      ]
     },
     "metadata": {},
     "output_type": "display_data"
    },
    {
     "data": {
      "application/vnd.jupyter.widget-view+json": {
       "model_id": "396edec19ff142ba90a9c48c02d26feb",
       "version_major": 2,
       "version_minor": 0
      },
      "text/plain": [
       "  0%|          | 0/34 [00:00<?, ?it/s]"
      ]
     },
     "metadata": {},
     "output_type": "display_data"
    },
    {
     "data": {
      "application/vnd.jupyter.widget-view+json": {
       "model_id": "7ebe2120ca9340ee94ad171106a5c2a7",
       "version_major": 2,
       "version_minor": 0
      },
      "text/plain": [
       "  0%|          | 0/28 [00:00<?, ?it/s]"
      ]
     },
     "metadata": {},
     "output_type": "display_data"
    },
    {
     "data": {
      "application/vnd.jupyter.widget-view+json": {
       "model_id": "9922bc5827ea4c15b759e31eda1bd05d",
       "version_major": 2,
       "version_minor": 0
      },
      "text/plain": [
       "  0%|          | 0/41 [00:00<?, ?it/s]"
      ]
     },
     "metadata": {},
     "output_type": "display_data"
    },
    {
     "data": {
      "application/vnd.jupyter.widget-view+json": {
       "model_id": "171c64e0268243dd82aeb6825f1091ea",
       "version_major": 2,
       "version_minor": 0
      },
      "text/plain": [
       "  0%|          | 0/29 [00:00<?, ?it/s]"
      ]
     },
     "metadata": {},
     "output_type": "display_data"
    },
    {
     "data": {
      "application/vnd.jupyter.widget-view+json": {
       "model_id": "c5b88be2182c40a2a91a7eace59e3e66",
       "version_major": 2,
       "version_minor": 0
      },
      "text/plain": [
       "  0%|          | 0/31 [00:00<?, ?it/s]"
      ]
     },
     "metadata": {},
     "output_type": "display_data"
    },
    {
     "data": {
      "application/vnd.jupyter.widget-view+json": {
       "model_id": "9f8c2bea3d1d40d98f459aaebb6ac974",
       "version_major": 2,
       "version_minor": 0
      },
      "text/plain": [
       "  0%|          | 0/41 [00:00<?, ?it/s]"
      ]
     },
     "metadata": {},
     "output_type": "display_data"
    },
    {
     "data": {
      "application/vnd.jupyter.widget-view+json": {
       "model_id": "4a9ab3f95cfa47268be0767f7a8b5a2d",
       "version_major": 2,
       "version_minor": 0
      },
      "text/plain": [
       "  0%|          | 0/24 [00:00<?, ?it/s]"
      ]
     },
     "metadata": {},
     "output_type": "display_data"
    },
    {
     "data": {
      "application/vnd.jupyter.widget-view+json": {
       "model_id": "45915d8aee13410ba844ad965e35b6b8",
       "version_major": 2,
       "version_minor": 0
      },
      "text/plain": [
       "  0%|          | 0/24 [00:00<?, ?it/s]"
      ]
     },
     "metadata": {},
     "output_type": "display_data"
    },
    {
     "data": {
      "application/vnd.jupyter.widget-view+json": {
       "model_id": "4e9c47b504a84084899f5d8241924a85",
       "version_major": 2,
       "version_minor": 0
      },
      "text/plain": [
       "  0%|          | 0/66 [00:00<?, ?it/s]"
      ]
     },
     "metadata": {},
     "output_type": "display_data"
    },
    {
     "data": {
      "application/vnd.jupyter.widget-view+json": {
       "model_id": "c17586f8ee7b48d1bf907f526606ec55",
       "version_major": 2,
       "version_minor": 0
      },
      "text/plain": [
       "  0%|          | 0/70 [00:00<?, ?it/s]"
      ]
     },
     "metadata": {},
     "output_type": "display_data"
    },
    {
     "data": {
      "application/vnd.jupyter.widget-view+json": {
       "model_id": "4f83dabda7f14c169b2428aa6052d940",
       "version_major": 2,
       "version_minor": 0
      },
      "text/plain": [
       "  0%|          | 0/17 [00:00<?, ?it/s]"
      ]
     },
     "metadata": {},
     "output_type": "display_data"
    },
    {
     "data": {
      "application/vnd.jupyter.widget-view+json": {
       "model_id": "5b7ef546d83146dbbdfbc2d6bcc8976c",
       "version_major": 2,
       "version_minor": 0
      },
      "text/plain": [
       "  0%|          | 0/25 [00:00<?, ?it/s]"
      ]
     },
     "metadata": {},
     "output_type": "display_data"
    },
    {
     "data": {
      "application/vnd.jupyter.widget-view+json": {
       "model_id": "ff0b2be278154e2e93f96af8a45ac8e1",
       "version_major": 2,
       "version_minor": 0
      },
      "text/plain": [
       "  0%|          | 0/31 [00:00<?, ?it/s]"
      ]
     },
     "metadata": {},
     "output_type": "display_data"
    },
    {
     "data": {
      "application/vnd.jupyter.widget-view+json": {
       "model_id": "65a8e3715a5545779ff82f3d8ccb9e0b",
       "version_major": 2,
       "version_minor": 0
      },
      "text/plain": [
       "  0%|          | 0/23 [00:00<?, ?it/s]"
      ]
     },
     "metadata": {},
     "output_type": "display_data"
    },
    {
     "data": {
      "application/vnd.jupyter.widget-view+json": {
       "model_id": "ff1a17decf24439683df2988a21d7324",
       "version_major": 2,
       "version_minor": 0
      },
      "text/plain": [
       "  0%|          | 0/80 [00:00<?, ?it/s]"
      ]
     },
     "metadata": {},
     "output_type": "display_data"
    },
    {
     "data": {
      "application/vnd.jupyter.widget-view+json": {
       "model_id": "07f0fdb484ba408cb5c144931de944b6",
       "version_major": 2,
       "version_minor": 0
      },
      "text/plain": [
       "  0%|          | 0/18 [00:00<?, ?it/s]"
      ]
     },
     "metadata": {},
     "output_type": "display_data"
    },
    {
     "data": {
      "application/vnd.jupyter.widget-view+json": {
       "model_id": "696c005114124331b684c39e6ec9c8ea",
       "version_major": 2,
       "version_minor": 0
      },
      "text/plain": [
       "  0%|          | 0/68 [00:00<?, ?it/s]"
      ]
     },
     "metadata": {},
     "output_type": "display_data"
    },
    {
     "data": {
      "application/vnd.jupyter.widget-view+json": {
       "model_id": "006eefcbb95e4b9b96c76d1f722290c8",
       "version_major": 2,
       "version_minor": 0
      },
      "text/plain": [
       "  0%|          | 0/15 [00:00<?, ?it/s]"
      ]
     },
     "metadata": {},
     "output_type": "display_data"
    },
    {
     "data": {
      "application/vnd.jupyter.widget-view+json": {
       "model_id": "ea0047fc2d454671ac1664f7a8708e20",
       "version_major": 2,
       "version_minor": 0
      },
      "text/plain": [
       "  0%|          | 0/24 [00:00<?, ?it/s]"
      ]
     },
     "metadata": {},
     "output_type": "display_data"
    },
    {
     "data": {
      "application/vnd.jupyter.widget-view+json": {
       "model_id": "b0df4fe8950147749e896391399d74ec",
       "version_major": 2,
       "version_minor": 0
      },
      "text/plain": [
       "  0%|          | 0/18 [00:00<?, ?it/s]"
      ]
     },
     "metadata": {},
     "output_type": "display_data"
    },
    {
     "data": {
      "application/vnd.jupyter.widget-view+json": {
       "model_id": "970749a0347f4fd7922eff7766b5d07e",
       "version_major": 2,
       "version_minor": 0
      },
      "text/plain": [
       "  0%|          | 0/32 [00:00<?, ?it/s]"
      ]
     },
     "metadata": {},
     "output_type": "display_data"
    },
    {
     "data": {
      "application/vnd.jupyter.widget-view+json": {
       "model_id": "762664b31a68490699f6a0290804aef8",
       "version_major": 2,
       "version_minor": 0
      },
      "text/plain": [
       "  0%|          | 0/22 [00:00<?, ?it/s]"
      ]
     },
     "metadata": {},
     "output_type": "display_data"
    },
    {
     "data": {
      "application/vnd.jupyter.widget-view+json": {
       "model_id": "347ed7359f0e4a27bad4a0b8ae122a72",
       "version_major": 2,
       "version_minor": 0
      },
      "text/plain": [
       "  0%|          | 0/25 [00:00<?, ?it/s]"
      ]
     },
     "metadata": {},
     "output_type": "display_data"
    },
    {
     "data": {
      "application/vnd.jupyter.widget-view+json": {
       "model_id": "ed68f3281f9f4c5b97c1e94fe1ac4151",
       "version_major": 2,
       "version_minor": 0
      },
      "text/plain": [
       "  0%|          | 0/29 [00:00<?, ?it/s]"
      ]
     },
     "metadata": {},
     "output_type": "display_data"
    },
    {
     "data": {
      "application/vnd.jupyter.widget-view+json": {
       "model_id": "bd33425840124ea98eb70536a12c6bcc",
       "version_major": 2,
       "version_minor": 0
      },
      "text/plain": [
       "  0%|          | 0/16 [00:00<?, ?it/s]"
      ]
     },
     "metadata": {},
     "output_type": "display_data"
    },
    {
     "data": {
      "application/vnd.jupyter.widget-view+json": {
       "model_id": "471da84a393e4ca6a0489b5ac5d48484",
       "version_major": 2,
       "version_minor": 0
      },
      "text/plain": [
       "  0%|          | 0/33 [00:00<?, ?it/s]"
      ]
     },
     "metadata": {},
     "output_type": "display_data"
    },
    {
     "data": {
      "application/vnd.jupyter.widget-view+json": {
       "model_id": "f7da03ea48024aa58422103aef279656",
       "version_major": 2,
       "version_minor": 0
      },
      "text/plain": [
       "  0%|          | 0/39 [00:00<?, ?it/s]"
      ]
     },
     "metadata": {},
     "output_type": "display_data"
    },
    {
     "data": {
      "application/vnd.jupyter.widget-view+json": {
       "model_id": "4301aa43b5e74b67b5eff0fe630c7c0a",
       "version_major": 2,
       "version_minor": 0
      },
      "text/plain": [
       "  0%|          | 0/71 [00:00<?, ?it/s]"
      ]
     },
     "metadata": {},
     "output_type": "display_data"
    },
    {
     "data": {
      "application/vnd.jupyter.widget-view+json": {
       "model_id": "22a49d079715426e85e0a38a9a2f35d9",
       "version_major": 2,
       "version_minor": 0
      },
      "text/plain": [
       "  0%|          | 0/7 [00:00<?, ?it/s]"
      ]
     },
     "metadata": {},
     "output_type": "display_data"
    },
    {
     "data": {
      "application/vnd.jupyter.widget-view+json": {
       "model_id": "839aca614c604c128bd34967fcbd6ede",
       "version_major": 2,
       "version_minor": 0
      },
      "text/plain": [
       "  0%|          | 0/26 [00:00<?, ?it/s]"
      ]
     },
     "metadata": {},
     "output_type": "display_data"
    },
    {
     "data": {
      "application/vnd.jupyter.widget-view+json": {
       "model_id": "8a1fbc5255e44d0691f5ec69dc76660e",
       "version_major": 2,
       "version_minor": 0
      },
      "text/plain": [
       "  0%|          | 0/15 [00:00<?, ?it/s]"
      ]
     },
     "metadata": {},
     "output_type": "display_data"
    },
    {
     "data": {
      "application/vnd.jupyter.widget-view+json": {
       "model_id": "94d743bab61e4109be3cea5b5ffe14be",
       "version_major": 2,
       "version_minor": 0
      },
      "text/plain": [
       "  0%|          | 0/39 [00:00<?, ?it/s]"
      ]
     },
     "metadata": {},
     "output_type": "display_data"
    },
    {
     "data": {
      "application/vnd.jupyter.widget-view+json": {
       "model_id": "acc600c7904a45f4b1c8d65b3fe408cb",
       "version_major": 2,
       "version_minor": 0
      },
      "text/plain": [
       "  0%|          | 0/10 [00:00<?, ?it/s]"
      ]
     },
     "metadata": {},
     "output_type": "display_data"
    },
    {
     "data": {
      "application/vnd.jupyter.widget-view+json": {
       "model_id": "ca1bee6323194e0aad821eea492222e5",
       "version_major": 2,
       "version_minor": 0
      },
      "text/plain": [
       "  0%|          | 0/33 [00:00<?, ?it/s]"
      ]
     },
     "metadata": {},
     "output_type": "display_data"
    },
    {
     "data": {
      "application/vnd.jupyter.widget-view+json": {
       "model_id": "603251682315490da95a0d10e649d14d",
       "version_major": 2,
       "version_minor": 0
      },
      "text/plain": [
       "  0%|          | 0/17 [00:00<?, ?it/s]"
      ]
     },
     "metadata": {},
     "output_type": "display_data"
    },
    {
     "data": {
      "application/vnd.jupyter.widget-view+json": {
       "model_id": "de620e8b55714cfeb8534f71cfcd8dea",
       "version_major": 2,
       "version_minor": 0
      },
      "text/plain": [
       "  0%|          | 0/14 [00:00<?, ?it/s]"
      ]
     },
     "metadata": {},
     "output_type": "display_data"
    },
    {
     "data": {
      "application/vnd.jupyter.widget-view+json": {
       "model_id": "60324a24799c4fb58d7a3f085fc27f02",
       "version_major": 2,
       "version_minor": 0
      },
      "text/plain": [
       "  0%|          | 0/18 [00:00<?, ?it/s]"
      ]
     },
     "metadata": {},
     "output_type": "display_data"
    },
    {
     "data": {
      "application/vnd.jupyter.widget-view+json": {
       "model_id": "004df6fad39c40acb76e7fc22d14675a",
       "version_major": 2,
       "version_minor": 0
      },
      "text/plain": [
       "  0%|          | 0/68 [00:00<?, ?it/s]"
      ]
     },
     "metadata": {},
     "output_type": "display_data"
    },
    {
     "data": {
      "application/vnd.jupyter.widget-view+json": {
       "model_id": "4eddfb6ae79649868d8bd52655b36f29",
       "version_major": 2,
       "version_minor": 0
      },
      "text/plain": [
       "  0%|          | 0/34 [00:00<?, ?it/s]"
      ]
     },
     "metadata": {},
     "output_type": "display_data"
    },
    {
     "data": {
      "application/vnd.jupyter.widget-view+json": {
       "model_id": "c2573b4658a845878d4cc6d241153da7",
       "version_major": 2,
       "version_minor": 0
      },
      "text/plain": [
       "  0%|          | 0/14 [00:00<?, ?it/s]"
      ]
     },
     "metadata": {},
     "output_type": "display_data"
    },
    {
     "data": {
      "application/vnd.jupyter.widget-view+json": {
       "model_id": "b110ae758334494b8faed298be1e25fb",
       "version_major": 2,
       "version_minor": 0
      },
      "text/plain": [
       "  0%|          | 0/33 [00:00<?, ?it/s]"
      ]
     },
     "metadata": {},
     "output_type": "display_data"
    },
    {
     "data": {
      "application/vnd.jupyter.widget-view+json": {
       "model_id": "2f4a8b42403b46bfa92c184bfab91490",
       "version_major": 2,
       "version_minor": 0
      },
      "text/plain": [
       "  0%|          | 0/10 [00:00<?, ?it/s]"
      ]
     },
     "metadata": {},
     "output_type": "display_data"
    },
    {
     "data": {
      "application/vnd.jupyter.widget-view+json": {
       "model_id": "932def249b8a4d64bca124e54a65c9e5",
       "version_major": 2,
       "version_minor": 0
      },
      "text/plain": [
       "  0%|          | 0/59 [00:00<?, ?it/s]"
      ]
     },
     "metadata": {},
     "output_type": "display_data"
    },
    {
     "data": {
      "application/vnd.jupyter.widget-view+json": {
       "model_id": "93f54b655de24043b5454df2069ecf9f",
       "version_major": 2,
       "version_minor": 0
      },
      "text/plain": [
       "  0%|          | 0/22 [00:00<?, ?it/s]"
      ]
     },
     "metadata": {},
     "output_type": "display_data"
    },
    {
     "data": {
      "application/vnd.jupyter.widget-view+json": {
       "model_id": "721b97f3c11a49f48c141133a6c35573",
       "version_major": 2,
       "version_minor": 0
      },
      "text/plain": [
       "  0%|          | 0/11 [00:00<?, ?it/s]"
      ]
     },
     "metadata": {},
     "output_type": "display_data"
    },
    {
     "name": "stdout",
     "output_type": "stream",
     "text": [
      "Synapsse Results:\n",
      "Total Number of Synapses = 3348\n",
      "n_valid_syn_ids_presyn = 124\n",
      "n_errored_syn_ids_presyn = 229\n",
      "n_valid_syn_ids_postsyn = 2991\n",
      "n_errored_syn_ids_postsyn = 4\n",
      "Synapsse Results:\n",
      "Total Number of Synapses = 3348\n",
      "n_valid_syn_ids_presyn = 124\n",
      "n_errored_syn_ids_presyn = 229\n",
      "n_valid_syn_ids_postsyn = 2991\n",
      "n_errored_syn_ids_postsyn = 4\n"
     ]
    },
    {
     "data": {
      "application/vnd.jupyter.widget-view+json": {
       "model_id": "3acdd845149940f391d62d98b1898062",
       "version_major": 2,
       "version_minor": 0
      },
      "text/plain": [
       "  0%|          | 0/30 [00:00<?, ?it/s]"
      ]
     },
     "metadata": {},
     "output_type": "display_data"
    },
    {
     "data": {
      "application/vnd.jupyter.widget-view+json": {
       "model_id": "8fb04ba8156c4761ab4ecfe3b6b0fd8a",
       "version_major": 2,
       "version_minor": 0
      },
      "text/plain": [
       "  0%|          | 0/10 [00:00<?, ?it/s]"
      ]
     },
     "metadata": {},
     "output_type": "display_data"
    },
    {
     "name": "stdout",
     "output_type": "stream",
     "text": [
      "Synapsse Results:\n",
      "Total Number of Synapses = 3348\n",
      "n_valid_syn_ids_presyn = 124\n",
      "n_errored_syn_ids_presyn = 229\n",
      "n_valid_syn_ids_postsyn = 2991\n",
      "n_errored_syn_ids_postsyn = 4\n",
      "Synapsse Results:\n",
      "Total Number of Synapses = 3348\n",
      "n_valid_syn_ids_presyn = 124\n",
      "n_errored_syn_ids_presyn = 229\n",
      "n_valid_syn_ids_postsyn = 2991\n",
      "n_errored_syn_ids_postsyn = 4\n"
     ]
    },
    {
     "data": {
      "application/vnd.jupyter.widget-view+json": {
       "model_id": "9262308b272e41ddbb84208583bfdb57",
       "version_major": 2,
       "version_minor": 0
      },
      "text/plain": [
       "  0%|          | 0/30 [00:00<?, ?it/s]"
      ]
     },
     "metadata": {},
     "output_type": "display_data"
    },
    {
     "data": {
      "application/vnd.jupyter.widget-view+json": {
       "model_id": "1aed6b9c669643e1aef3e58a7f200788",
       "version_major": 2,
       "version_minor": 0
      },
      "text/plain": [
       "  0%|          | 0/10 [00:00<?, ?it/s]"
      ]
     },
     "metadata": {},
     "output_type": "display_data"
    },
    {
     "name": "stdout",
     "output_type": "stream",
     "text": [
      "\n",
      "\n",
      "len(branch_attr_keys) = 40\n",
      "Saving Neuorn in suppress_output mode...please wait\n",
      "Saved File at location: /mnt/dj-stor01/platinum/minnie65/02/decomposition/864691136194103510_0_25_full_axon\n",
      "Save time = 338.1760606765747\n",
      "\n",
      "\n",
      " ***------ Total time for 864691136194103510 = 1919.4079794883728 ------ ***\n",
      "\n",
      "\n",
      "\n",
      "---- Working on Neuron 864691135272164113 ----\n",
      "Decompressing Neuron in minimal output mode...please wait\n",
      "Pulled from Table Decomposition so setting split_index = 0\n",
      "Dont need spine recalculation\n",
      "Number of Neurons found = 1\n",
      "\n",
      "Part 1: Axon like branchese \n",
      "{'L0': array([0, 1, 3, 4, 5]), 'L3': array([15]), 'L4': array([ 0,  1,  2,  3,  4,  5,  6,  7,  8,  9, 10, 11, 12, 13, 14, 15, 16,\n",
      "       17, 18, 19, 20, 21, 22, 23, 24, 25]), 'L8': array([0, 1, 3])}\n",
      "Limb L0 soma angle: 27.73 \n",
      "Limb L1 soma angle: 105.84 \n",
      "Limb L2 soma angle: 141.54 \n",
      "Limb L3 soma angle: 90.24 \n",
      "Limb L4 soma angle: 168.17 \n",
      "Limb L5 soma angle: 100.82 \n",
      "Limb L6 soma angle: 112.74 \n",
      "Limb L7 soma angle: 82.29 \n",
      "Limb L8 soma angle: 48.12 \n",
      "\n",
      "Part 2: possible_axon_limbs = [1, 2, 3, 4, 5, 6, 7]\n",
      "\n",
      "Phase 2: Working on Limb L1\n",
      "nodes_to_eliminate = []\n",
      "\n",
      "Phase 2: Working on Limb L2\n",
      "nodes_to_eliminate = [ 7 10 12]\n",
      "\n",
      "Phase 2: Working on Limb L3\n",
      "nodes_to_eliminate = [0 1]\n",
      "\n",
      "Phase 2: Working on Limb L4\n",
      "nodes_to_eliminate = []\n",
      "\n",
      "Phase 2: Working on Limb L5\n",
      "nodes_to_eliminate = [4]\n",
      "\n",
      "Phase 2: Working on Limb L6\n",
      "nodes_to_eliminate = []\n",
      "\n",
      "Phase 2: Working on Limb L7\n",
      "nodes_to_eliminate = [1]\n",
      "\n",
      "----Working on Limb L1-----\n",
      "No nodes were eliminated so don't need to add back any candidates\n",
      "\n",
      "----Working on Limb L2-----\n",
      "No endpoints were eliminated so don't need to add back any candidates\n",
      "\n",
      "----Working on Limb L3-----\n",
      "No endpoints were eliminated so don't need to add back any candidates\n",
      "\n",
      "----Working on Limb L4-----\n",
      "No nodes were eliminated so don't need to add back any candidates\n",
      "\n",
      "----Working on Limb L5-----\n",
      "No endpoints were eliminated so don't need to add back any candidates\n",
      "\n",
      "----Working on Limb L6-----\n",
      "No nodes were eliminated so don't need to add back any candidates\n",
      "\n",
      "----Working on Limb L7-----\n",
      "No endpoints were eliminated so don't need to add back any candidates\n",
      "Final Candidates\n",
      "\n",
      "Limb 1\n",
      "Candidate 0 (darkslategray): array([ 0,  1,  2,  3,  4,  5,  6,  7,  8,  9, 10, 11, 12, 13, 14, 15, 16,\n",
      "       17, 18])\n",
      "\n",
      "Limb 2\n",
      "Candidate 0 (magenta): array([ 8, 11, 13])\n",
      "Candidate 1 (cyan): array([0, 4, 6])\n",
      "Candidate 2 (orange): array([9])\n",
      "Candidate 3 (gold): array([1, 2, 3])\n",
      "Candidate 4 (tan): array([5])\n",
      "\n",
      "Limb 3\n",
      "Candidate 0 (forestgreen): array([ 2,  6,  7,  8, 12, 13, 14, 15, 16])\n",
      "Candidate 1 (gold): array([9, 3, 5])\n",
      "Candidate 2 (tan): array([10, 11,  4])\n",
      "\n",
      "Limb 4\n",
      "Candidate 0 (darkslategray): array([ 0,  1,  2,  3,  4,  5,  6,  7,  8,  9, 10, 11, 12, 13, 14, 15, 16,\n",
      "       17, 18, 19, 20, 21, 22, 23, 24, 25])\n",
      "\n",
      "Limb 5\n",
      "Candidate 0 (cyan): array([1])\n",
      "Candidate 1 (tan): array([0, 2, 3])\n",
      "\n",
      "Limb 6\n",
      "Candidate 0 (pink): array([0, 1, 2])\n",
      "\n",
      "Limb 7\n",
      "Candidate 0 (brown): array([0])\n",
      "Candidate 1 (magenta): array([2])\n",
      "Part 3: axon_subgraph_candidates = {1: [[0, 1, 2, 3, 4, 5, 6, 7, 8, 9, 10, 11, 12, 13, 14, 15, 16, 17, 18]], 2: [[8, 11, 13], [0, 4, 6], [9], [1, 2, 3], [5]], 3: [[2, 6, 7, 8, 12, 13, 14, 15, 16], [9, 3, 5], [10, 11, 4]], 4: [[0, 1, 2, 3, 4, 5, 6, 7, 8, 9, 10, 11, 12, 13, 14, 15, 16, 17, 18, 19, 20, 21, 22, 23, 24, 25]], 5: [[1], [0, 2, 3]], 6: [[0, 1, 2]], 7: [[0], [2]]}\n",
      "\n",
      "\n",
      " --- Working on limb 1, candidate # 0\n",
      "0 out of 19 branches are axons\n",
      "Axon percentage = 0.0\n",
      "Not adding candidate no axon branches detected \n",
      "\n",
      "\n",
      " --- Working on limb 2, candidate # 0\n",
      "0 out of 3 branches are axons\n",
      "Axon percentage = 0.0\n",
      "Not adding candidate no axon branches detected \n",
      "\n",
      "\n",
      " --- Working on limb 2, candidate # 1\n",
      "0 out of 3 branches are axons\n",
      "Axon percentage = 0.0\n",
      "Not adding candidate no axon branches detected \n",
      "\n",
      "\n",
      " --- Working on limb 2, candidate # 2\n",
      "0 out of 1 branches are axons\n",
      "Axon percentage = 0.0\n",
      "Not adding candidate no axon branches detected \n",
      "\n",
      "\n",
      " --- Working on limb 2, candidate # 3\n",
      "0 out of 3 branches are axons\n",
      "Axon percentage = 0.0\n",
      "Not adding candidate no axon branches detected \n",
      "\n",
      "\n",
      " --- Working on limb 2, candidate # 4\n",
      "0 out of 1 branches are axons\n",
      "Axon percentage = 0.0\n",
      "Not adding candidate no axon branches detected \n",
      "\n",
      "\n",
      " --- Working on limb 3, candidate # 0\n",
      "1 out of 9 branches are axons\n",
      "Axon percentage = 0.1111111111111111\n",
      "curr_axon_angle_threshold = 120\n",
      "candidate_nodes = [ 0  2  6  7  8 12 13 14 15 16]\n",
      "non_axon_branches_on_subgraph = [ 0  2  6  7  8 12 13 14 16]\n",
      "endnodes_to_test = []\n",
      "candidate_angles,restr_skels = (None, None)\n",
      "Not adding candidate because no angles (None) passed the threhold 120 \n",
      "\n",
      "\n",
      " --- Working on limb 3, candidate # 1\n",
      "0 out of 3 branches are axons\n",
      "Axon percentage = 0.0\n",
      "Not adding candidate no axon branches detected \n",
      "\n",
      "\n",
      " --- Working on limb 3, candidate # 2\n",
      "0 out of 3 branches are axons\n",
      "Axon percentage = 0.0\n",
      "Not adding candidate no axon branches detected \n",
      "\n",
      "\n",
      " --- Working on limb 4, candidate # 0\n",
      "26 out of 26 branches are axons\n",
      "Axon percentage = 1.0\n",
      "curr_axon_angle_threshold = 95\n",
      "candidate_nodes = [ 0  1  2  3  4  5  6  7  8  9 10 11 12 13 14 15 16 17 18 19 20 21 22 23\n",
      " 24 25]\n",
      "non_axon_branches_on_subgraph = []\n",
      "endnodes_to_test = [2253]\n",
      "Skeleton paths distances = [24999.97388931]\n",
      "Filtered indexes = [0]\n",
      "len(filtered_skeletons) = 1\n",
      "sk_angles = [177.79325647]\n",
      "candidate_angles,restr_skels = (array([177.79325647]), [array([[[1112831.32509278,  696822.50642285, 1006742.06072404],\n",
      "        [1112829.3406576 ,  696921.96789913, 1006731.88839501]],\n",
      "\n",
      "       [[1112829.3406576 ,  696921.96789913, 1006731.88839501],\n",
      "        [1112827.31795724,  697021.46092245, 1006722.03718426]],\n",
      "\n",
      "       [[1112827.31795724,  697021.46092245, 1006722.03718426],\n",
      "        [1112825.25165746,  697120.98894523, 1006712.55546461]],\n",
      "\n",
      "       [[1112825.25165746,  697120.98894523, 1006712.55546461],\n",
      "        [1112823.22686044,  697220.53005003, 1006703.20334388]],\n",
      "\n",
      "       [[1112823.22686044,  697220.53005003, 1006703.20334388],\n",
      "        [1112821.56198411,  697320.17634988, 1006694.96665082]],\n",
      "\n",
      "       [[1112821.56198411,  697320.17634988, 1006694.96665082],\n",
      "        [1112819.90106231,  697419.82337304, 1006686.7385489 ]],\n",
      "\n",
      "       [[1112819.90106231,  697419.82337304, 1006686.7385489 ],\n",
      "        [1112818.91253718,  697519.57926549, 1006679.8259726 ]],\n",
      "\n",
      "       [[1112818.91253718,  697519.57926549, 1006679.8259726 ],\n",
      "        [1112818.13637749,  697619.36490688, 1006673.3284255 ]],\n",
      "\n",
      "       [[1112818.13637749,  697619.36490688, 1006673.3284255 ],\n",
      "        [1112817.89030495,  697719.20756061, 1006667.72701625]],\n",
      "\n",
      "       [[1112817.89030495,  697719.20756061, 1006667.72701625],\n",
      "        [1112818.30024107,  697819.1057888 , 1006663.23530925]],\n",
      "\n",
      "       [[1112818.30024107,  697819.1057888 , 1006663.23530925],\n",
      "        [1112818.87521734,  697919.01580851, 1006659.03557166]],\n",
      "\n",
      "       [[1112818.87521734,  697919.01580851, 1006659.03557166],\n",
      "        [1112820.42224465,  698018.97312342, 1006656.55728529]],\n",
      "\n",
      "       [[1112820.42224465,  698018.97312342, 1006656.55728529],\n",
      "        [1112821.9743659 ,  698118.93057919, 1006654.09056333]],\n",
      "\n",
      "       [[1112821.9743659 ,  698118.93057919, 1006654.09056333],\n",
      "        [1112824.09678264,  698218.90346563, 1006653.13303397]],\n",
      "\n",
      "       [[1112824.09678264,  698218.90346563, 1006653.13303397],\n",
      "        [1112826.32489897,  698318.87635981, 1006652.46040108]],\n",
      "\n",
      "       [[1112826.32489897,  698318.87635981, 1006652.46040108],\n",
      "        [1112828.49855065,  698418.85261097, 1006652.60992795]],\n",
      "\n",
      "       [[1112828.49855065,  698418.85261097, 1006652.60992795],\n",
      "        [1112830.62849639,  698518.82686947, 1006653.3908642 ]],\n",
      "\n",
      "       [[1112830.62849639,  698518.82686947, 1006653.3908642 ],\n",
      "        [1112832.43824415,  698618.80423956, 1006654.50671426]],\n",
      "\n",
      "       [[1112832.43824415,  698618.80423956, 1006654.50671426],\n",
      "        [1112833.56467588,  698718.78121075, 1006656.33322354]],\n",
      "\n",
      "       [[1112833.56467588,  698718.78121075, 1006656.33322354],\n",
      "        [1112834.47682287,  698818.75910777, 1006658.22340028]],\n",
      "\n",
      "       [[1112834.47682287,  698818.75910777, 1006658.22340028],\n",
      "        [1112833.77310298,  698918.72877143, 1006660.58372355]],\n",
      "\n",
      "       [[1112833.77310298,  698918.72877143, 1006660.58372355],\n",
      "        [1112833.05274109,  699018.69816334, 1006662.94450495]],\n",
      "\n",
      "       [[1112833.05274109,  699018.69816334, 1006662.94450495],\n",
      "        [1112830.06164695,  699118.62865785, 1006665.16926561]],\n",
      "\n",
      "       [[1112830.06164695,  699118.62865785, 1006665.16926561],\n",
      "        [1112826.95167696,  699218.55561648, 1006667.38314801]],\n",
      "\n",
      "       [[1112826.95167696,  699218.55561648, 1006667.38314801],\n",
      "        [1112821.6764411 ,  699318.40631503, 1006668.80052384]],\n",
      "\n",
      "       [[1112821.6764411 ,  699318.40631503, 1006668.80052384],\n",
      "        [1112816.01019972,  699418.23743431, 1006670.07025256]],\n",
      "\n",
      "       [[1112816.01019972,  699418.23743431, 1006670.07025256],\n",
      "        [1112808.50087683,  699517.95506558, 1006670.0255748 ]],\n",
      "\n",
      "       [[1112808.50087683,  699517.95506558, 1006670.0255748 ],\n",
      "        [1112800.49318676,  699617.63298059, 1006669.62153536]],\n",
      "\n",
      "       [[1112800.49318676,  699617.63298059, 1006669.62153536],\n",
      "        [1112791.05105775,  699717.16580159, 1006667.60626627]],\n",
      "\n",
      "       [[1112791.05105775,  699717.16580159, 1006667.60626627],\n",
      "        [1112781.17477087,  699816.64521035, 1006665.09958027]],\n",
      "\n",
      "       [[1112781.17477087,  699816.64521035, 1006665.09958027],\n",
      "        [1112770.24791837,  699915.9591114 , 1006660.93408106]],\n",
      "\n",
      "       [[1112770.24791837,  699915.9591114 , 1006660.93408106],\n",
      "        [1112759.04246647,  700015.22235652, 1006656.32654356]],\n",
      "\n",
      "       [[1112759.04246647,  700015.22235652, 1006656.32654356],\n",
      "        [1112747.03723965,  700114.31367978, 1006650.26158208]],\n",
      "\n",
      "       [[1112747.03723965,  700114.31367978, 1006650.26158208],\n",
      "        [1112734.89990885,  700213.37400585, 1006643.95867152]],\n",
      "\n",
      "       [[1112734.89990885,  700213.37400585, 1006643.95867152],\n",
      "        [1112721.92664177,  700312.26039132, 1006636.66642125]],\n",
      "\n",
      "       [[1112721.92664177,  700312.26039132, 1006636.66642125],\n",
      "        [1112708.77640966,  700411.11979619, 1006629.32594545]],\n",
      "\n",
      "       [[1112708.77640966,  700411.11979619, 1006629.32594545],\n",
      "        [1112694.58951574,  700509.82329723, 1006621.81934308]],\n",
      "\n",
      "       [[1112694.58951574,  700509.82329723, 1006621.81934308],\n",
      "        [1112679.88654012,  700608.46573862, 1006614.50639945]],\n",
      "\n",
      "       [[1112679.88654012,  700608.46573862, 1006614.50639945],\n",
      "        [1112663.88317606,  700706.94115285, 1006607.68902133]],\n",
      "\n",
      "       [[1112663.88317606,  700706.94115285, 1006607.68902133],\n",
      "        [1112646.90114021,  700805.29449411, 1006601.50737922]],\n",
      "\n",
      "       [[1112646.90114021,  700805.29449411, 1006601.50737922],\n",
      "        [1112628.50801902,  700903.44761047, 1006596.24989389]],\n",
      "\n",
      "       [[1112628.50801902,  700903.44761047, 1006596.24989389],\n",
      "        [1112608.86752307,  701001.41188236, 1006592.09874532]],\n",
      "\n",
      "       [[1112608.86752307,  701001.41188236, 1006592.09874532],\n",
      "        [1112587.90357949,  701099.14462326, 1006589.13143567]],\n",
      "\n",
      "       [[1112587.90357949,  701099.14462326, 1006589.13143567],\n",
      "        [1112565.84166592,  701196.66702538, 1006587.50871901]],\n",
      "\n",
      "       [[1112565.84166592,  701196.66702538, 1006587.50871901],\n",
      "        [1112542.68654166,  701293.94885705, 1006587.23779205]],\n",
      "\n",
      "       [[1112542.68654166,  701293.94885705, 1006587.23779205],\n",
      "        [1112518.92198878,  701391.07939522, 1006588.18021216]],\n",
      "\n",
      "       [[1112518.92198878,  701391.07939522, 1006588.18021216],\n",
      "        [1112494.45983154,  701488.0127691 , 1006590.52959315]],\n",
      "\n",
      "       [[1112494.45983154,  701488.0127691 , 1006590.52959315],\n",
      "        [1112469.94197111,  701584.90902922, 1006593.68863344]],\n",
      "\n",
      "       [[1112469.94197111,  701584.90902922, 1006593.68863344],\n",
      "        [1112445.34926203,  701681.7395232 , 1006598.05353863]],\n",
      "\n",
      "       [[1112445.34926203,  701681.7395232 , 1006598.05353863],\n",
      "        [1112421.12202332,  701778.64590545, 1006602.76393921]],\n",
      "\n",
      "       [[1112421.12202332,  701778.64590545, 1006602.76393921],\n",
      "        [1112397.58649129,  701875.68943326, 1006608.11456917]],\n",
      "\n",
      "       [[1112397.58649129,  701875.68943326, 1006608.11456917],\n",
      "        [1112374.72116102,  701972.89702006, 1006613.39181568]],\n",
      "\n",
      "       [[1112374.72116102,  701972.89702006, 1006613.39181568],\n",
      "        [1112353.163266  ,  702070.41094344, 1006618.51851394]],\n",
      "\n",
      "       [[1112353.163266  ,  702070.41094344, 1006618.51851394],\n",
      "        [1112332.59461752,  702168.1642791 , 1006623.12252679]],\n",
      "\n",
      "       [[1112332.59461752,  702168.1642791 , 1006623.12252679],\n",
      "        [1112313.47254421,  702266.24388269, 1006626.95856855]],\n",
      "\n",
      "       [[1112313.47254421,  702266.24388269, 1006626.95856855],\n",
      "        [1112295.73069594,  702364.61976077, 1006629.67908196]],\n",
      "\n",
      "       [[1112295.73069594,  702364.61976077, 1006629.67908196],\n",
      "        [1112279.01505449,  702463.19445116, 1006631.56888816]],\n",
      "\n",
      "       [[1112279.01505449,  702463.19445116, 1006631.56888816],\n",
      "        [1112264.07274414,  702562.07171695, 1006631.63167302]],\n",
      "\n",
      "       [[1112264.07274414,  702562.07171695, 1006631.63167302],\n",
      "        [1112249.90296171,  702661.0592208 , 1006630.81151149]],\n",
      "\n",
      "       [[1112249.90296171,  702661.0592208 , 1006630.81151149],\n",
      "        [1112236.77064053,  702760.17160396, 1006628.74827337]],\n",
      "\n",
      "       [[1112236.77064053,  702760.17160396, 1006628.74827337],\n",
      "        [1112224.66553811,  702859.37759457, 1006625.33758494]],\n",
      "\n",
      "       [[1112224.66553811,  702859.37759457, 1006625.33758494],\n",
      "        [1112213.00272704,  702958.60947474, 1006621.21311889]],\n",
      "\n",
      "       [[1112213.00272704,  702958.60947474, 1006621.21311889],\n",
      "        [1112201.0459607 ,  703057.79017674, 1006616.72084557]],\n",
      "\n",
      "       [[1112201.0459607 ,  703057.79017674, 1006616.72084557],\n",
      "        [1112186.66210703,  703156.65556485, 1006612.40027229]],\n",
      "\n",
      "       [[1112186.66210703,  703156.65556485, 1006612.40027229],\n",
      "        [1112169.21455383,  703255.01452644, 1006607.80940972]],\n",
      "\n",
      "       [[1112169.21455383,  703255.01452644, 1006607.80940972],\n",
      "        [1112152.86042316,  703353.48921969, 1006601.88476365]],\n",
      "\n",
      "       [[1112152.86042316,  703353.48921969, 1006601.88476365],\n",
      "        [1112141.13731111,  703452.52614813, 1006594.5346532 ]],\n",
      "\n",
      "       [[1112141.13731111,  703452.52614813, 1006594.5346532 ],\n",
      "        [1112134.85964498,  703551.9722493 , 1006586.11404035]],\n",
      "\n",
      "       [[1112134.85964498,  703551.9722493 , 1006586.11404035],\n",
      "        [1112133.10044854,  703651.54383375, 1006577.04047339]],\n",
      "\n",
      "       [[1112133.10044854,  703651.54383375, 1006577.04047339],\n",
      "        [1112134.48145638,  703751.08539211, 1006567.58299827]],\n",
      "\n",
      "       [[1112134.48145638,  703751.08539211, 1006567.58299827],\n",
      "        [1112139.91234309,  703850.44834584, 1006557.70959803]],\n",
      "\n",
      "       [[1112139.91234309,  703850.44834584, 1006557.70959803],\n",
      "        [1112147.13261252,  703949.67758687, 1006547.63994744]],\n",
      "\n",
      "       [[1112147.13261252,  703949.67758687, 1006547.63994744],\n",
      "        [1112156.22574863,  704048.7319642 , 1006537.36733409]],\n",
      "\n",
      "       [[1112156.22574863,  704048.7319642 , 1006537.36733409],\n",
      "        [1112166.83695619,  704147.60882566, 1006526.84310457]],\n",
      "\n",
      "       [[1112166.83695619,  704147.60882566, 1006526.84310457],\n",
      "        [1112178.50734929,  704246.34746009, 1006516.14365438]],\n",
      "\n",
      "       [[1112178.50734929,  704246.34746009, 1006516.14365438],\n",
      "        [1112190.996635  ,  704344.96069908, 1006505.21482549]],\n",
      "\n",
      "       [[1112190.996635  ,  704344.96069908, 1006505.21482549],\n",
      "        [1112204.41190158,  704443.42317566, 1006494.02684275]],\n",
      "\n",
      "       [[1112204.41190158,  704443.42317566, 1006494.02684275],\n",
      "        [1112218.03472451,  704541.84837069, 1006482.76232738]],\n",
      "\n",
      "       [[1112218.03472451,  704541.84837069, 1006482.76232738],\n",
      "        [1112232.70477119,  704640.07790399, 1006471.11121076]],\n",
      "\n",
      "       [[1112232.70477119,  704640.07790399, 1006471.11121076],\n",
      "        [1112247.38336707,  704738.30587232, 1006459.45788496]],\n",
      "\n",
      "       [[1112247.38336707,  704738.30587232, 1006459.45788496],\n",
      "        [1112262.82197882,  704836.39761861, 1006447.64019566]],\n",
      "\n",
      "       [[1112262.82197882,  704836.39761861, 1006447.64019566],\n",
      "        [1112278.56233694,  704934.43363937, 1006435.75830577]],\n",
      "\n",
      "       [[1112278.56233694,  704934.43363937, 1006435.75830577],\n",
      "        [1112294.53328009,  705032.44004354, 1006423.94021391]],\n",
      "\n",
      "       [[1112294.53328009,  705032.44004354, 1006423.94021391],\n",
      "        [1112311.34425108,  705130.33391985, 1006412.35659461]],\n",
      "\n",
      "       [[1112311.34425108,  705130.33391985, 1006412.35659461],\n",
      "        [1112328.16409138,  705228.22709249, 1006400.78038514]],\n",
      "\n",
      "       [[1112328.16409138,  705228.22709249, 1006400.78038514],\n",
      "        [1112345.79751964,  705326.07031221, 1006390.02099425]],\n",
      "\n",
      "       [[1112345.79751964,  705326.07031221, 1006390.02099425],\n",
      "        [1112363.78192006,  705423.88810809, 1006379.6173124 ]],\n",
      "\n",
      "       [[1112363.78192006,  705423.88810809, 1006379.6173124 ],\n",
      "        [1112382.08475808,  705521.70698761, 1006369.79704882]],\n",
      "\n",
      "       [[1112382.08475808,  705521.70698761, 1006369.79704882],\n",
      "        [1112401.35699211,  705619.50317694, 1006361.76670971]],\n",
      "\n",
      "       [[1112401.35699211,  705619.50317694, 1006361.76670971],\n",
      "        [1112420.64224429,  705717.298931  , 1006353.76874327]],\n",
      "\n",
      "       [[1112420.64224429,  705717.298931  , 1006353.76874327],\n",
      "        [1112441.1492655 ,  705815.05701042, 1006348.99201005]],\n",
      "\n",
      "       [[1112441.1492655 ,  705815.05701042, 1006348.99201005],\n",
      "        [1112461.86350851,  705912.79666203, 1006344.77238978]],\n",
      "\n",
      "       [[1112461.86350851,  705912.79666203, 1006344.77238978],\n",
      "        [1112483.47254783,  706010.42374805, 1006343.37480167]],\n",
      "\n",
      "       [[1112483.47254783,  706010.42374805, 1006343.37480167],\n",
      "        [1112505.78165209,  706107.89959982, 1006344.22923324]],\n",
      "\n",
      "       [[1112505.78165209,  706107.89959982, 1006344.22923324],\n",
      "        [1112528.65277424,  706205.2104215 , 1006346.94123502]],\n",
      "\n",
      "       [[1112528.65277424,  706205.2104215 , 1006346.94123502],\n",
      "        [1112552.72492116,  706302.0329891 , 1006353.7176311 ]],\n",
      "\n",
      "       [[1112552.72492116,  706302.0329891 , 1006353.7176311 ],\n",
      "        [1112576.97144083,  706398.76954083, 1006361.0547758 ]],\n",
      "\n",
      "       [[1112576.97144083,  706398.76954083, 1006361.0547758 ],\n",
      "        [1112602.91173948,  706494.4807979 , 1006373.95656538]],\n",
      "\n",
      "       [[1112602.91173948,  706494.4807979 , 1006373.95656538],\n",
      "        [1112628.86937495,  706590.17872436, 1006386.91276737]],\n",
      "\n",
      "       [[1112628.86937495,  706590.17872436, 1006386.91276737],\n",
      "        [1112656.38877675,  706684.65955872, 1006404.69045995]]])])\n"
     ]
    },
    {
     "name": "stdout",
     "output_type": "stream",
     "text": [
      "base_final_widths = [354.25484303 375.1783102 ]\n",
      "overall_ais_width = 278.66421331079664\n",
      "ais_width = 364.7165766174183\n",
      "Adding the following branches as true axons: [ 0.  1.  2.  3.  4.  5.  6.  7.  8.  9. 10. 11. 12. 13. 14. 15. 16. 17.\n",
      " 18. 19. 20. 21. 22. 23. 24. 25.]\n",
      "curr_soma_angle = 168.17\n",
      "max_axon_angle = 177.79325646967797\n",
      "Changing to a better axon candidate\n",
      "\n",
      "\n",
      " --- Working on limb 5, candidate # 0\n",
      "0 out of 1 branches are axons\n",
      "Axon percentage = 0.0\n",
      "Not adding candidate no axon branches detected \n",
      "\n",
      "\n",
      " --- Working on limb 5, candidate # 1\n",
      "0 out of 3 branches are axons\n",
      "Axon percentage = 0.0\n",
      "Not adding candidate no axon branches detected \n",
      "\n",
      "\n",
      " --- Working on limb 6, candidate # 0\n",
      "0 out of 3 branches are axons\n",
      "Axon percentage = 0.0\n",
      "Not adding candidate no axon branches detected \n",
      "\n",
      "\n",
      " --- Working on limb 7, candidate # 0\n",
      "0 out of 1 branches are axons\n",
      "Axon percentage = 0.0\n",
      "Not adding candidate no axon branches detected \n",
      "\n",
      "\n",
      " --- Working on limb 7, candidate # 1\n",
      "0 out of 1 branches are axons\n",
      "Axon percentage = 0.0\n",
      "Not adding candidate no axon branches detected \n",
      "Using the best axon approach\n",
      "Using True\n",
      "Limb L4: Axon branches before dendritic path filter = [ 0.  1.  2.  3.  4.  5.  6.  7.  8.  9. 10. 11. 12. 13. 14. 15. 16. 17.\n",
      " 18. 19. 20. 21. 22. 23. 24. 25.]\n",
      "Limb L4: Axon branches AFTER dendritic path filter = [ 0.  1.  2.  3.  4.  5.  6.  7.  8.  9. 10. 11. 12. 13. 14. 15. 16. 17.\n",
      " 18. 19. 20. 21. 22. 23. 24. 25.]\n",
      "\n",
      "\n",
      "Part 4: final_true_axons = {'L4': array([ 0.,  1.,  2.,  3.,  4.,  5.,  6.,  7.,  8.,  9., 10., 11., 12.,\n",
      "       13., 14., 15., 16., 17., 18., 19., 20., 21., 22., 23., 24., 25.])}\n",
      "\n",
      "--- Working on filter 0:\n",
      "function = dendrite_on_axon_merges\n",
      "function __name__ = filter_away_dendrite_on_axon_merges\n",
      "function arguments = {'use_pre_existing_axon_labels': True}\n",
      "\n",
      "\n",
      "\n",
      "\n",
      "\n",
      " ---- Total time for applying filter: 0.9978551864624023 -----\n",
      "Starting axon branch was the starting node so using border vertices and NOT computing upstream branch\n",
      "upstream_node_to_axon_starting_branch = None\n",
      "root_curr = [1112351.  687128. 1008737.]\n",
      "Time for preparing soma vertices and root: 0.0007100105285644531\n",
      "invalidation_d = 2000\n",
      "cc_vertex_thresh = 10\n"
     ]
    },
    {
     "name": "stderr",
     "output_type": "stream",
     "text": [
      "\r",
      "  0%|          | 0/1 [00:00<?, ?it/s]"
     ]
    },
    {
     "data": {
      "application/vnd.jupyter.widget-view+json": {
       "model_id": "22dfa6a64569411e9b04735213521c41",
       "version_major": 2,
       "version_minor": 0
      },
      "text/plain": [
       "  0%|          | 0/66891 [00:00<?, ?it/s]"
      ]
     },
     "metadata": {},
     "output_type": "display_data"
    },
    {
     "name": "stderr",
     "output_type": "stream",
     "text": [
      "100%|██████████| 1/1 [00:03<00:00,  3.53s/it]\n"
     ]
    },
    {
     "name": "stdout",
     "output_type": "stream",
     "text": [
      "meshparty_segment_size = 100\n",
      "Time for 1st pass MP skeletonization: 6.344129323959351\n",
      "branches_touching_root = [19]\n",
      "combining close nodes\n",
      "combine_threshold = 1300\n",
      "length of Graph = 15258\n",
      "After combining close endpoints max(kept_branches_idx) = 103, len(kept_branches_idx) = 101\n",
      "empty_indices % = 0.0\n",
      " conflict_indices % = 0.015247432446656542\n"
     ]
    },
    {
     "data": {
      "application/vnd.jupyter.widget-view+json": {
       "model_id": "1f30451bafc745acbe81f94c39759f6e",
       "version_major": 2,
       "version_minor": 0
      },
      "text/plain": [
       "  0%|          | 0/49 [00:00<?, ?it/s]"
      ]
     },
     "metadata": {},
     "output_type": "display_data"
    },
    {
     "name": "stdout",
     "output_type": "stream",
     "text": [
      "AFTER face_lookup_resolved_test\n"
     ]
    },
    {
     "data": {
      "application/vnd.jupyter.widget-view+json": {
       "model_id": "cc2395b718684c68817ac10692f12cfd",
       "version_major": 2,
       "version_minor": 0
      },
      "text/plain": [
       "  0%|          | 0/101 [00:00<?, ?it/s]"
      ]
     },
     "metadata": {},
     "output_type": "display_data"
    },
    {
     "name": "stdout",
     "output_type": "stream",
     "text": [
      "Decomposing first pass: 14.912362337112427\n",
      "Only Using MeshParty Skeletonization and Mesh Correspondence\n",
      "Another print\n",
      "Divinding into MP and MAP pieces: 4.410743713378906e-05\n",
      "Total time for MAP sublimb processing 4.291534423828125e-06\n",
      "---- Working on MP Decomposition #0 ----\n",
      "Using Quicker soma_to_piece_touching_vertices because no MAP and only one sublimb_mesh piece \n",
      "MP filtering soma verts: 5.412101745605469e-05\n",
      "Fixing Possible Soma Extension Branch for Sublimb 0\n",
      "Total time for mesh KDTree = 0.004299163818359375\n",
      "sbv[0].reshape(-1,3) = [[1112351.  687128. 1008737.]]\n",
      "closest_sk_pt_coord BEFORE = [1111969.95016535  687045.36778902 1008316.29685885]\n",
      "current_skeleton.shape = (21, 2, 3)\n",
      "node_for_stitch = 0: [1111969.95016535  687045.36778902 1008316.29685885]\n",
      "node_for_stitch AFTER = 0: [1111969.95016535  687045.36778902 1008316.29685885]\n",
      "possible_node_loc = [ 0 21]\n",
      "possible_node_loc AFTER = [ 0 21]\n",
      "curr_shortest_path = [0]\n",
      "Current stitch point was a branch or endpoint\n",
      "change_status for create soma extending pieces = False\n",
      "closest_sk_pt_coord AFTER = [1111969.95016535  687045.36778902 1008316.29685885]\n",
      "skipping soma 0 because closest skeleton node was already end node\n",
      "endpoints_must_keep = {0: array([[1111969.95016535,  687045.36778902, 1008316.29685885]])}\n",
      "match_sk_branches = [18]\n",
      "The new branch info was none so skipping \n",
      "\n",
      "No soma extending branch was added for this sublimb even though it had a soma border (means they already existed)\n",
      "MP (because soma touching verts) soma extension add: 9.866608619689941\n",
      "There were not both MAP and MP pieces so skipping the stitch resolving phase\n",
      "Time for decomp of Limb = 32.798851013183594\n",
      "Number of matching vertices = 32\n",
      "Only one endpoint after filtering away the endpoints that are not on the skeleton\n",
      "Using Distance measure skeletal_distance\n",
      "endpoints_must_keep = [[1111969.95016535  687045.36778902 1008316.29685885]]\n",
      "Number of end_nodes BEFORE filtering = 54\n",
      "all_single_nodes_to_eliminate = [7]\n"
     ]
    },
    {
     "data": {
      "application/vnd.jupyter.widget-view+json": {
       "model_id": "feb3ef9a6fea418ea32a89f4edcb65d6",
       "version_major": 2,
       "version_minor": 0
      },
      "text/plain": [
       "  0%|          | 0/8 [00:00<?, ?it/s]"
      ]
     },
     "metadata": {},
     "output_type": "display_data"
    },
    {
     "name": "stdout",
     "output_type": "stream",
     "text": [
      "Removed 8 skeletal branches\n"
     ]
    },
    {
     "data": {
      "application/vnd.jupyter.widget-view+json": {
       "model_id": "5aa32629637d403aa80c46086d494ee1",
       "version_major": 2,
       "version_minor": 0
      },
      "text/plain": [
       "  0%|          | 0/101 [00:00<?, ?it/s]"
      ]
     },
     "metadata": {},
     "output_type": "display_data"
    },
    {
     "name": "stdout",
     "output_type": "stream",
     "text": [
      "133165 133166\n",
      "For marked faces: None\n",
      "empty_indices % = 0.0\n",
      " conflict_indices % = 0.0\n"
     ]
    },
    {
     "data": {
      "application/vnd.jupyter.widget-view+json": {
       "model_id": "246ddcd45401428fa6b20f5710876592",
       "version_major": 2,
       "version_minor": 0
      },
      "text/plain": [
       "0it [00:00, ?it/s]"
      ]
     },
     "metadata": {},
     "output_type": "display_data"
    },
    {
     "name": "stdout",
     "output_type": "stream",
     "text": [
      "AFTER face_lookup_resolved_test\n"
     ]
    },
    {
     "data": {
      "application/vnd.jupyter.widget-view+json": {
       "model_id": "532365e8a97c44f29f234601e692309e",
       "version_major": 2,
       "version_minor": 0
      },
      "text/plain": [
       "  0%|          | 0/85 [00:00<?, ?it/s]"
      ]
     },
     "metadata": {},
     "output_type": "display_data"
    },
    {
     "name": "stdout",
     "output_type": "stream",
     "text": [
      "Limb Correspondence before stitching = 85\n",
      "Limb Correspondence AFTER stitching = 85\n",
      "Upstream node was None so don't have to adjust\n",
      "concept_network_dict = {0: [<networkx_utils.GraphOrderedEdges object at 0x7f3ec9ba2978>]}\n",
      "\n",
      "\n",
      "----Working on seperate_graph 0----\n",
      "\n",
      "\n",
      "---------Working on soma_idx = 0, soma_group_idx 0, endpt = [1111969.95016535  687045.36778902 1008316.29685885]---------\n",
      "Starting_edge inside branches_to_conept = [[1111969.95016535  687045.36778902 1008316.29685885]\n",
      " [1122541.27967056  742992.44091518 1018682.43542866]]\n",
      "At the start, starting_node (in terms of the skeleton, that shouldn't match the starting edge) = [11]\n",
      "printing out current edge:\n",
      "[[1111969.95016535  687045.36778902 1008316.29685885]\n",
      " [1122541.27967056  742992.44091518 1018682.43542866]]\n",
      "edge_endpoints_to_process was empty so exiting loop after 85 iterations\n",
      "starting_node in concept map (that should match the starting edge) = 12\n",
      "Total time for branches to concept conversion = 2.384638786315918\n",
      "\n",
      "Done generating concept network \n",
      "\n",
      "\n"
     ]
    },
    {
     "data": {
      "application/vnd.jupyter.widget-view+json": {
       "model_id": "5e4f8d863e904f9ab2ee12f5c25ff8f5",
       "version_major": 2,
       "version_minor": 0
      },
      "text/plain": [
       "  0%|          | 0/73 [00:00<?, ?it/s]"
      ]
     },
     "metadata": {},
     "output_type": "display_data"
    },
    {
     "data": {
      "application/vnd.jupyter.widget-view+json": {
       "model_id": "f9ddf9911ebb441fbe44198ad435cd19",
       "version_major": 2,
       "version_minor": 0
      },
      "text/plain": [
       "  0%|          | 0/64 [00:00<?, ?it/s]"
      ]
     },
     "metadata": {},
     "output_type": "display_data"
    },
    {
     "data": {
      "application/vnd.jupyter.widget-view+json": {
       "model_id": "68dd54f55ec043d49ec02a3391ebe7b6",
       "version_major": 2,
       "version_minor": 0
      },
      "text/plain": [
       "  0%|          | 0/4 [00:00<?, ?it/s]"
      ]
     },
     "metadata": {},
     "output_type": "display_data"
    },
    {
     "data": {
      "application/vnd.jupyter.widget-view+json": {
       "model_id": "3616caaffff048a588ef12c23dd990b9",
       "version_major": 2,
       "version_minor": 0
      },
      "text/plain": [
       "  0%|          | 0/15 [00:00<?, ?it/s]"
      ]
     },
     "metadata": {},
     "output_type": "display_data"
    },
    {
     "data": {
      "application/vnd.jupyter.widget-view+json": {
       "model_id": "9c8ba777a1a8421dbefcf92e26297820",
       "version_major": 2,
       "version_minor": 0
      },
      "text/plain": [
       "  0%|          | 0/17 [00:00<?, ?it/s]"
      ]
     },
     "metadata": {},
     "output_type": "display_data"
    },
    {
     "data": {
      "application/vnd.jupyter.widget-view+json": {
       "model_id": "a79faa0e85f74f66a6a734d54ec4c699",
       "version_major": 2,
       "version_minor": 0
      },
      "text/plain": [
       "  0%|          | 0/4 [00:00<?, ?it/s]"
      ]
     },
     "metadata": {},
     "output_type": "display_data"
    },
    {
     "data": {
      "application/vnd.jupyter.widget-view+json": {
       "model_id": "071fd254a79b4667bd6d83cb948c5362",
       "version_major": 2,
       "version_minor": 0
      },
      "text/plain": [
       "  0%|          | 0/5 [00:00<?, ?it/s]"
      ]
     },
     "metadata": {},
     "output_type": "display_data"
    },
    {
     "data": {
      "application/vnd.jupyter.widget-view+json": {
       "model_id": "bb6b7a03ab7542e4a6b27307b6e6512f",
       "version_major": 2,
       "version_minor": 0
      },
      "text/plain": [
       "  0%|          | 0/5 [00:00<?, ?it/s]"
      ]
     },
     "metadata": {},
     "output_type": "display_data"
    },
    {
     "data": {
      "application/vnd.jupyter.widget-view+json": {
       "model_id": "5dd5e98708cb4daa8e9220829d9d365d",
       "version_major": 2,
       "version_minor": 0
      },
      "text/plain": [
       "  0%|          | 0/23 [00:00<?, ?it/s]"
      ]
     },
     "metadata": {},
     "output_type": "display_data"
    },
    {
     "data": {
      "application/vnd.jupyter.widget-view+json": {
       "model_id": "bd7f7bd4b4954afcbfb2c9f41a5f75aa",
       "version_major": 2,
       "version_minor": 0
      },
      "text/plain": [
       "  0%|          | 0/25 [00:00<?, ?it/s]"
      ]
     },
     "metadata": {},
     "output_type": "display_data"
    },
    {
     "data": {
      "application/vnd.jupyter.widget-view+json": {
       "model_id": "bd026762d02a4ab2b46141af0268e155",
       "version_major": 2,
       "version_minor": 0
      },
      "text/plain": [
       "  0%|          | 0/8 [00:00<?, ?it/s]"
      ]
     },
     "metadata": {},
     "output_type": "display_data"
    },
    {
     "data": {
      "application/vnd.jupyter.widget-view+json": {
       "model_id": "b8c03d2d2fb24d3b86ece6b29aecf81d",
       "version_major": 2,
       "version_minor": 0
      },
      "text/plain": [
       "  0%|          | 0/6 [00:00<?, ?it/s]"
      ]
     },
     "metadata": {},
     "output_type": "display_data"
    },
    {
     "data": {
      "application/vnd.jupyter.widget-view+json": {
       "model_id": "8091651dec27459491de99e1335e807c",
       "version_major": 2,
       "version_minor": 0
      },
      "text/plain": [
       "  0%|          | 0/27 [00:00<?, ?it/s]"
      ]
     },
     "metadata": {},
     "output_type": "display_data"
    },
    {
     "data": {
      "application/vnd.jupyter.widget-view+json": {
       "model_id": "46966c9377fa4132a5a06f8f333d4fb9",
       "version_major": 2,
       "version_minor": 0
      },
      "text/plain": [
       "  0%|          | 0/6 [00:00<?, ?it/s]"
      ]
     },
     "metadata": {},
     "output_type": "display_data"
    },
    {
     "data": {
      "application/vnd.jupyter.widget-view+json": {
       "model_id": "3f1275376ca54fe4b7795c0a46865ef5",
       "version_major": 2,
       "version_minor": 0
      },
      "text/plain": [
       "  0%|          | 0/9 [00:00<?, ?it/s]"
      ]
     },
     "metadata": {},
     "output_type": "display_data"
    },
    {
     "data": {
      "application/vnd.jupyter.widget-view+json": {
       "model_id": "a4e247753afa43dbaee2ecb0a02f172a",
       "version_major": 2,
       "version_minor": 0
      },
      "text/plain": [
       "  0%|          | 0/28 [00:00<?, ?it/s]"
      ]
     },
     "metadata": {},
     "output_type": "display_data"
    },
    {
     "data": {
      "application/vnd.jupyter.widget-view+json": {
       "model_id": "243908caff1440a2bbcd90bd5737aa37",
       "version_major": 2,
       "version_minor": 0
      },
      "text/plain": [
       "  0%|          | 0/3 [00:00<?, ?it/s]"
      ]
     },
     "metadata": {},
     "output_type": "display_data"
    },
    {
     "data": {
      "application/vnd.jupyter.widget-view+json": {
       "model_id": "7d0bbb333094427086e08794418d1652",
       "version_major": 2,
       "version_minor": 0
      },
      "text/plain": [
       "  0%|          | 0/7 [00:00<?, ?it/s]"
      ]
     },
     "metadata": {},
     "output_type": "display_data"
    },
    {
     "data": {
      "application/vnd.jupyter.widget-view+json": {
       "model_id": "aa9ac9d063c942ce8310947d8e99590e",
       "version_major": 2,
       "version_minor": 0
      },
      "text/plain": [
       "  0%|          | 0/7 [00:00<?, ?it/s]"
      ]
     },
     "metadata": {},
     "output_type": "display_data"
    },
    {
     "data": {
      "application/vnd.jupyter.widget-view+json": {
       "model_id": "5476ef6dab244607b80660c42ca08799",
       "version_major": 2,
       "version_minor": 0
      },
      "text/plain": [
       "  0%|          | 0/7 [00:00<?, ?it/s]"
      ]
     },
     "metadata": {},
     "output_type": "display_data"
    },
    {
     "data": {
      "application/vnd.jupyter.widget-view+json": {
       "model_id": "0235323da6484f83a64c8106e3b89633",
       "version_major": 2,
       "version_minor": 0
      },
      "text/plain": [
       "  0%|          | 0/42 [00:00<?, ?it/s]"
      ]
     },
     "metadata": {},
     "output_type": "display_data"
    },
    {
     "data": {
      "application/vnd.jupyter.widget-view+json": {
       "model_id": "0258e279efc84ff8a863b684268910d6",
       "version_major": 2,
       "version_minor": 0
      },
      "text/plain": [
       "  0%|          | 0/10 [00:00<?, ?it/s]"
      ]
     },
     "metadata": {},
     "output_type": "display_data"
    },
    {
     "data": {
      "application/vnd.jupyter.widget-view+json": {
       "model_id": "a4104f2fc97146878d632f58042ec0ab",
       "version_major": 2,
       "version_minor": 0
      },
      "text/plain": [
       "  0%|          | 0/23 [00:00<?, ?it/s]"
      ]
     },
     "metadata": {},
     "output_type": "display_data"
    },
    {
     "data": {
      "application/vnd.jupyter.widget-view+json": {
       "model_id": "1d1617c3f1a941f8b5195bae23dcfc20",
       "version_major": 2,
       "version_minor": 0
      },
      "text/plain": [
       "  0%|          | 0/26 [00:00<?, ?it/s]"
      ]
     },
     "metadata": {},
     "output_type": "display_data"
    },
    {
     "data": {
      "application/vnd.jupyter.widget-view+json": {
       "model_id": "1318e57da43449398a1b4cac1979a407",
       "version_major": 2,
       "version_minor": 0
      },
      "text/plain": [
       "  0%|          | 0/19 [00:00<?, ?it/s]"
      ]
     },
     "metadata": {},
     "output_type": "display_data"
    },
    {
     "data": {
      "application/vnd.jupyter.widget-view+json": {
       "model_id": "d14e6f9bb4c744d48882fb84241468f5",
       "version_major": 2,
       "version_minor": 0
      },
      "text/plain": [
       "  0%|          | 0/42 [00:00<?, ?it/s]"
      ]
     },
     "metadata": {},
     "output_type": "display_data"
    },
    {
     "data": {
      "application/vnd.jupyter.widget-view+json": {
       "model_id": "cbc23ac2db8b437e83aa8b1350848704",
       "version_major": 2,
       "version_minor": 0
      },
      "text/plain": [
       "  0%|          | 0/7 [00:00<?, ?it/s]"
      ]
     },
     "metadata": {},
     "output_type": "display_data"
    },
    {
     "data": {
      "application/vnd.jupyter.widget-view+json": {
       "model_id": "2b66c9482ad54b1ab9e11099f203e1df",
       "version_major": 2,
       "version_minor": 0
      },
      "text/plain": [
       "  0%|          | 0/2 [00:00<?, ?it/s]"
      ]
     },
     "metadata": {},
     "output_type": "display_data"
    },
    {
     "data": {
      "application/vnd.jupyter.widget-view+json": {
       "model_id": "16171368da7f4505abd6e794f6df209d",
       "version_major": 2,
       "version_minor": 0
      },
      "text/plain": [
       "  0%|          | 0/8 [00:00<?, ?it/s]"
      ]
     },
     "metadata": {},
     "output_type": "display_data"
    },
    {
     "data": {
      "application/vnd.jupyter.widget-view+json": {
       "model_id": "1e261fc966e84e0db28b31fe48a148b6",
       "version_major": 2,
       "version_minor": 0
      },
      "text/plain": [
       "  0%|          | 0/28 [00:00<?, ?it/s]"
      ]
     },
     "metadata": {},
     "output_type": "display_data"
    },
    {
     "data": {
      "application/vnd.jupyter.widget-view+json": {
       "model_id": "78b6866f1b9c486dbf458bb29af2e1a5",
       "version_major": 2,
       "version_minor": 0
      },
      "text/plain": [
       "  0%|          | 0/6 [00:00<?, ?it/s]"
      ]
     },
     "metadata": {},
     "output_type": "display_data"
    },
    {
     "data": {
      "application/vnd.jupyter.widget-view+json": {
       "model_id": "f53174a9795940e5b042e6f7b79770b6",
       "version_major": 2,
       "version_minor": 0
      },
      "text/plain": [
       "  0%|          | 0/5 [00:00<?, ?it/s]"
      ]
     },
     "metadata": {},
     "output_type": "display_data"
    },
    {
     "data": {
      "application/vnd.jupyter.widget-view+json": {
       "model_id": "9513b04957fa4c70bca77ab279f7ed22",
       "version_major": 2,
       "version_minor": 0
      },
      "text/plain": [
       "  0%|          | 0/2 [00:00<?, ?it/s]"
      ]
     },
     "metadata": {},
     "output_type": "display_data"
    },
    {
     "data": {
      "application/vnd.jupyter.widget-view+json": {
       "model_id": "67ab89dec304449b94bf9dc89a4d1951",
       "version_major": 2,
       "version_minor": 0
      },
      "text/plain": [
       "  0%|          | 0/5 [00:00<?, ?it/s]"
      ]
     },
     "metadata": {},
     "output_type": "display_data"
    },
    {
     "data": {
      "application/vnd.jupyter.widget-view+json": {
       "model_id": "484404071b514c728494842138e50532",
       "version_major": 2,
       "version_minor": 0
      },
      "text/plain": [
       "  0%|          | 0/4 [00:00<?, ?it/s]"
      ]
     },
     "metadata": {},
     "output_type": "display_data"
    },
    {
     "data": {
      "application/vnd.jupyter.widget-view+json": {
       "model_id": "a82ca2ac2c894140beff752f2bd6bc4f",
       "version_major": 2,
       "version_minor": 0
      },
      "text/plain": [
       "  0%|          | 0/16 [00:00<?, ?it/s]"
      ]
     },
     "metadata": {},
     "output_type": "display_data"
    },
    {
     "data": {
      "application/vnd.jupyter.widget-view+json": {
       "model_id": "8d0908c836bd47219cdbe0ec9fb3581d",
       "version_major": 2,
       "version_minor": 0
      },
      "text/plain": [
       "  0%|          | 0/26 [00:00<?, ?it/s]"
      ]
     },
     "metadata": {},
     "output_type": "display_data"
    },
    {
     "data": {
      "application/vnd.jupyter.widget-view+json": {
       "model_id": "db1c974c5737406fa1ae8b332ad7add2",
       "version_major": 2,
       "version_minor": 0
      },
      "text/plain": [
       "  0%|          | 0/13 [00:00<?, ?it/s]"
      ]
     },
     "metadata": {},
     "output_type": "display_data"
    },
    {
     "data": {
      "application/vnd.jupyter.widget-view+json": {
       "model_id": "ffef84d5b929484cbaba9925d2d361af",
       "version_major": 2,
       "version_minor": 0
      },
      "text/plain": [
       "  0%|          | 0/12 [00:00<?, ?it/s]"
      ]
     },
     "metadata": {},
     "output_type": "display_data"
    },
    {
     "data": {
      "application/vnd.jupyter.widget-view+json": {
       "model_id": "fde8b15b27e349078a5c396481f2bbca",
       "version_major": 2,
       "version_minor": 0
      },
      "text/plain": [
       "  0%|          | 0/11 [00:00<?, ?it/s]"
      ]
     },
     "metadata": {},
     "output_type": "display_data"
    },
    {
     "data": {
      "application/vnd.jupyter.widget-view+json": {
       "model_id": "d6ac91c8509742cdbbc6e738b21a713d",
       "version_major": 2,
       "version_minor": 0
      },
      "text/plain": [
       "  0%|          | 0/3 [00:00<?, ?it/s]"
      ]
     },
     "metadata": {},
     "output_type": "display_data"
    },
    {
     "data": {
      "application/vnd.jupyter.widget-view+json": {
       "model_id": "80578e9b20164d41996b6a325e98ec16",
       "version_major": 2,
       "version_minor": 0
      },
      "text/plain": [
       "  0%|          | 0/4 [00:00<?, ?it/s]"
      ]
     },
     "metadata": {},
     "output_type": "display_data"
    },
    {
     "data": {
      "application/vnd.jupyter.widget-view+json": {
       "model_id": "12074f10b0f64b2580f2c4e56b3db066",
       "version_major": 2,
       "version_minor": 0
      },
      "text/plain": [
       "  0%|          | 0/3 [00:00<?, ?it/s]"
      ]
     },
     "metadata": {},
     "output_type": "display_data"
    },
    {
     "data": {
      "application/vnd.jupyter.widget-view+json": {
       "model_id": "bb656567c4674c22b61b5a80ecc2ab90",
       "version_major": 2,
       "version_minor": 0
      },
      "text/plain": [
       "  0%|          | 0/10 [00:00<?, ?it/s]"
      ]
     },
     "metadata": {},
     "output_type": "display_data"
    },
    {
     "data": {
      "application/vnd.jupyter.widget-view+json": {
       "model_id": "8478884bdb794f0c9aa9c29850d91d8f",
       "version_major": 2,
       "version_minor": 0
      },
      "text/plain": [
       "  0%|          | 0/4 [00:00<?, ?it/s]"
      ]
     },
     "metadata": {},
     "output_type": "display_data"
    },
    {
     "data": {
      "application/vnd.jupyter.widget-view+json": {
       "model_id": "e5c58c00b6e543f48c98187f89211d00",
       "version_major": 2,
       "version_minor": 0
      },
      "text/plain": [
       "  0%|          | 0/4 [00:00<?, ?it/s]"
      ]
     },
     "metadata": {},
     "output_type": "display_data"
    },
    {
     "data": {
      "application/vnd.jupyter.widget-view+json": {
       "model_id": "108b2d5ba9ea49f98b3f8c6dce50a774",
       "version_major": 2,
       "version_minor": 0
      },
      "text/plain": [
       "  0%|          | 0/36 [00:00<?, ?it/s]"
      ]
     },
     "metadata": {},
     "output_type": "display_data"
    },
    {
     "data": {
      "application/vnd.jupyter.widget-view+json": {
       "model_id": "99ba0adcaab54f1681f42cf3ab39e1bb",
       "version_major": 2,
       "version_minor": 0
      },
      "text/plain": [
       "  0%|          | 0/25 [00:00<?, ?it/s]"
      ]
     },
     "metadata": {},
     "output_type": "display_data"
    },
    {
     "data": {
      "application/vnd.jupyter.widget-view+json": {
       "model_id": "5ec314a80f27453aa3dd49e197ba2261",
       "version_major": 2,
       "version_minor": 0
      },
      "text/plain": [
       "  0%|          | 0/6 [00:00<?, ?it/s]"
      ]
     },
     "metadata": {},
     "output_type": "display_data"
    },
    {
     "data": {
      "application/vnd.jupyter.widget-view+json": {
       "model_id": "77254802743b40e69576a34cdd826071",
       "version_major": 2,
       "version_minor": 0
      },
      "text/plain": [
       "  0%|          | 0/23 [00:00<?, ?it/s]"
      ]
     },
     "metadata": {},
     "output_type": "display_data"
    },
    {
     "data": {
      "application/vnd.jupyter.widget-view+json": {
       "model_id": "39cb9dfc16cb4f7fbd140ab7506948df",
       "version_major": 2,
       "version_minor": 0
      },
      "text/plain": [
       "  0%|          | 0/2 [00:00<?, ?it/s]"
      ]
     },
     "metadata": {},
     "output_type": "display_data"
    },
    {
     "data": {
      "application/vnd.jupyter.widget-view+json": {
       "model_id": "2dd0c32ef44c45b88889e781f5bd357a",
       "version_major": 2,
       "version_minor": 0
      },
      "text/plain": [
       "  0%|          | 0/5 [00:00<?, ?it/s]"
      ]
     },
     "metadata": {},
     "output_type": "display_data"
    },
    {
     "data": {
      "application/vnd.jupyter.widget-view+json": {
       "model_id": "34cb370e4db3419292d5139de9a4f27d",
       "version_major": 2,
       "version_minor": 0
      },
      "text/plain": [
       "  0%|          | 0/8 [00:00<?, ?it/s]"
      ]
     },
     "metadata": {},
     "output_type": "display_data"
    },
    {
     "data": {
      "application/vnd.jupyter.widget-view+json": {
       "model_id": "09fddb5b38bc43a88838c783058f2969",
       "version_major": 2,
       "version_minor": 0
      },
      "text/plain": [
       "  0%|          | 0/4 [00:00<?, ?it/s]"
      ]
     },
     "metadata": {},
     "output_type": "display_data"
    },
    {
     "data": {
      "application/vnd.jupyter.widget-view+json": {
       "model_id": "b5419145d7a14be2a36803c5cd45e033",
       "version_major": 2,
       "version_minor": 0
      },
      "text/plain": [
       "  0%|          | 0/5 [00:00<?, ?it/s]"
      ]
     },
     "metadata": {},
     "output_type": "display_data"
    },
    {
     "data": {
      "application/vnd.jupyter.widget-view+json": {
       "model_id": "8baca46e524946ee92ae0d4746eef1fa",
       "version_major": 2,
       "version_minor": 0
      },
      "text/plain": [
       "  0%|          | 0/19 [00:00<?, ?it/s]"
      ]
     },
     "metadata": {},
     "output_type": "display_data"
    },
    {
     "data": {
      "application/vnd.jupyter.widget-view+json": {
       "model_id": "57af73a7c03e4683b3eb3ac018563aa1",
       "version_major": 2,
       "version_minor": 0
      },
      "text/plain": [
       "  0%|          | 0/6 [00:00<?, ?it/s]"
      ]
     },
     "metadata": {},
     "output_type": "display_data"
    },
    {
     "data": {
      "application/vnd.jupyter.widget-view+json": {
       "model_id": "26a96dbea97a446ca2287deb3e278ed9",
       "version_major": 2,
       "version_minor": 0
      },
      "text/plain": [
       "  0%|          | 0/19 [00:00<?, ?it/s]"
      ]
     },
     "metadata": {},
     "output_type": "display_data"
    },
    {
     "data": {
      "application/vnd.jupyter.widget-view+json": {
       "model_id": "61ded0d7ba5b46a5bdb0ad2fb076f456",
       "version_major": 2,
       "version_minor": 0
      },
      "text/plain": [
       "  0%|          | 0/4 [00:00<?, ?it/s]"
      ]
     },
     "metadata": {},
     "output_type": "display_data"
    },
    {
     "data": {
      "application/vnd.jupyter.widget-view+json": {
       "model_id": "f9604139a7ef489f8ba039fd98325a01",
       "version_major": 2,
       "version_minor": 0
      },
      "text/plain": [
       "  0%|          | 0/30 [00:00<?, ?it/s]"
      ]
     },
     "metadata": {},
     "output_type": "display_data"
    },
    {
     "data": {
      "application/vnd.jupyter.widget-view+json": {
       "model_id": "e0b6399999594101b495c599cbd21b59",
       "version_major": 2,
       "version_minor": 0
      },
      "text/plain": [
       "  0%|          | 0/15 [00:00<?, ?it/s]"
      ]
     },
     "metadata": {},
     "output_type": "display_data"
    },
    {
     "data": {
      "application/vnd.jupyter.widget-view+json": {
       "model_id": "5d815d7b63eb4c4c81259471535322ab",
       "version_major": 2,
       "version_minor": 0
      },
      "text/plain": [
       "  0%|          | 0/5 [00:00<?, ?it/s]"
      ]
     },
     "metadata": {},
     "output_type": "display_data"
    },
    {
     "data": {
      "application/vnd.jupyter.widget-view+json": {
       "model_id": "df411b95819b433a9e92a8d82ed7c94e",
       "version_major": 2,
       "version_minor": 0
      },
      "text/plain": [
       "  0%|          | 0/57 [00:00<?, ?it/s]"
      ]
     },
     "metadata": {},
     "output_type": "display_data"
    },
    {
     "data": {
      "application/vnd.jupyter.widget-view+json": {
       "model_id": "592a8832388a44feb1330d59364c6f31",
       "version_major": 2,
       "version_minor": 0
      },
      "text/plain": [
       "  0%|          | 0/4 [00:00<?, ?it/s]"
      ]
     },
     "metadata": {},
     "output_type": "display_data"
    },
    {
     "data": {
      "application/vnd.jupyter.widget-view+json": {
       "model_id": "8be32a0f6cdf4f9aad0e57af1e593d24",
       "version_major": 2,
       "version_minor": 0
      },
      "text/plain": [
       "  0%|          | 0/3 [00:00<?, ?it/s]"
      ]
     },
     "metadata": {},
     "output_type": "display_data"
    },
    {
     "data": {
      "application/vnd.jupyter.widget-view+json": {
       "model_id": "4f28c5a8a37c4ea08e2c7bba87fbea9a",
       "version_major": 2,
       "version_minor": 0
      },
      "text/plain": [
       "  0%|          | 0/5 [00:00<?, ?it/s]"
      ]
     },
     "metadata": {},
     "output_type": "display_data"
    },
    {
     "data": {
      "application/vnd.jupyter.widget-view+json": {
       "model_id": "c0fb002a2e5f44178c394397b80b3be4",
       "version_major": 2,
       "version_minor": 0
      },
      "text/plain": [
       "  0%|          | 0/4 [00:00<?, ?it/s]"
      ]
     },
     "metadata": {},
     "output_type": "display_data"
    },
    {
     "data": {
      "application/vnd.jupyter.widget-view+json": {
       "model_id": "4751f79ede564c54aa3f6897c1f95eea",
       "version_major": 2,
       "version_minor": 0
      },
      "text/plain": [
       "  0%|          | 0/5 [00:00<?, ?it/s]"
      ]
     },
     "metadata": {},
     "output_type": "display_data"
    },
    {
     "data": {
      "application/vnd.jupyter.widget-view+json": {
       "model_id": "1827a98e99754949bef9df8a351690a0",
       "version_major": 2,
       "version_minor": 0
      },
      "text/plain": [
       "  0%|          | 0/3 [00:00<?, ?it/s]"
      ]
     },
     "metadata": {},
     "output_type": "display_data"
    },
    {
     "data": {
      "application/vnd.jupyter.widget-view+json": {
       "model_id": "0e11fb318d3d4c09bad6f01ca609f0df",
       "version_major": 2,
       "version_minor": 0
      },
      "text/plain": [
       "  0%|          | 0/2 [00:00<?, ?it/s]"
      ]
     },
     "metadata": {},
     "output_type": "display_data"
    },
    {
     "data": {
      "application/vnd.jupyter.widget-view+json": {
       "model_id": "3e1e96e0e07941f09e2d17e00c01c1ce",
       "version_major": 2,
       "version_minor": 0
      },
      "text/plain": [
       "  0%|          | 0/5 [00:00<?, ?it/s]"
      ]
     },
     "metadata": {},
     "output_type": "display_data"
    },
    {
     "data": {
      "application/vnd.jupyter.widget-view+json": {
       "model_id": "8128e7d4c00e425ea5598aa4b08b4420",
       "version_major": 2,
       "version_minor": 0
      },
      "text/plain": [
       "  0%|          | 0/15 [00:00<?, ?it/s]"
      ]
     },
     "metadata": {},
     "output_type": "display_data"
    },
    {
     "data": {
      "application/vnd.jupyter.widget-view+json": {
       "model_id": "b1364367986a406790f63279885a396b",
       "version_major": 2,
       "version_minor": 0
      },
      "text/plain": [
       "  0%|          | 0/5 [00:00<?, ?it/s]"
      ]
     },
     "metadata": {},
     "output_type": "display_data"
    },
    {
     "data": {
      "application/vnd.jupyter.widget-view+json": {
       "model_id": "fbffd7512c5e470db90f17fe1f15e515",
       "version_major": 2,
       "version_minor": 0
      },
      "text/plain": [
       "  0%|          | 0/9 [00:00<?, ?it/s]"
      ]
     },
     "metadata": {},
     "output_type": "display_data"
    },
    {
     "data": {
      "application/vnd.jupyter.widget-view+json": {
       "model_id": "203ca9144fcd40a88083f6748ad59cae",
       "version_major": 2,
       "version_minor": 0
      },
      "text/plain": [
       "  0%|          | 0/5 [00:00<?, ?it/s]"
      ]
     },
     "metadata": {},
     "output_type": "display_data"
    },
    {
     "data": {
      "application/vnd.jupyter.widget-view+json": {
       "model_id": "3c319247e91243efbc0f0914b7d0007c",
       "version_major": 2,
       "version_minor": 0
      },
      "text/plain": [
       "  0%|          | 0/8 [00:00<?, ?it/s]"
      ]
     },
     "metadata": {},
     "output_type": "display_data"
    },
    {
     "data": {
      "application/vnd.jupyter.widget-view+json": {
       "model_id": "854c401d2ee747cc815ff6efb733cf20",
       "version_major": 2,
       "version_minor": 0
      },
      "text/plain": [
       "  0%|          | 0/15 [00:00<?, ?it/s]"
      ]
     },
     "metadata": {},
     "output_type": "display_data"
    },
    {
     "data": {
      "application/vnd.jupyter.widget-view+json": {
       "model_id": "9d08ac9ac1ba43d094ed08fd41ec7816",
       "version_major": 2,
       "version_minor": 0
      },
      "text/plain": [
       "  0%|          | 0/9 [00:00<?, ?it/s]"
      ]
     },
     "metadata": {},
     "output_type": "display_data"
    },
    {
     "data": {
      "application/vnd.jupyter.widget-view+json": {
       "model_id": "a9c7e7718c264dd6b5b9784f1598e42d",
       "version_major": 2,
       "version_minor": 0
      },
      "text/plain": [
       "  0%|          | 0/63 [00:00<?, ?it/s]"
      ]
     },
     "metadata": {},
     "output_type": "display_data"
    },
    {
     "data": {
      "application/vnd.jupyter.widget-view+json": {
       "model_id": "85dd54ba54e64ea19326c78ef27cc9e2",
       "version_major": 2,
       "version_minor": 0
      },
      "text/plain": [
       "  0%|          | 0/35 [00:00<?, ?it/s]"
      ]
     },
     "metadata": {},
     "output_type": "display_data"
    },
    {
     "data": {
      "application/vnd.jupyter.widget-view+json": {
       "model_id": "9be762ea0029444180f1efb455ee69eb",
       "version_major": 2,
       "version_minor": 0
      },
      "text/plain": [
       "  0%|          | 0/34 [00:00<?, ?it/s]"
      ]
     },
     "metadata": {},
     "output_type": "display_data"
    },
    {
     "data": {
      "application/vnd.jupyter.widget-view+json": {
       "model_id": "138e5dc39f614c81932dfff7e98aad0e",
       "version_major": 2,
       "version_minor": 0
      },
      "text/plain": [
       "  0%|          | 0/6 [00:00<?, ?it/s]"
      ]
     },
     "metadata": {},
     "output_type": "display_data"
    },
    {
     "data": {
      "application/vnd.jupyter.widget-view+json": {
       "model_id": "59965071e02c4d2e99ed434a21ceabcc",
       "version_major": 2,
       "version_minor": 0
      },
      "text/plain": [
       "  0%|          | 0/197 [00:00<?, ?it/s]"
      ]
     },
     "metadata": {},
     "output_type": "display_data"
    },
    {
     "data": {
      "application/vnd.jupyter.widget-view+json": {
       "model_id": "ed07de70fc454a7091eb326471dbb99d",
       "version_major": 2,
       "version_minor": 0
      },
      "text/plain": [
       "  0%|          | 0/83 [00:00<?, ?it/s]"
      ]
     },
     "metadata": {},
     "output_type": "display_data"
    },
    {
     "data": {
      "application/vnd.jupyter.widget-view+json": {
       "model_id": "10b0afb61a6442f3861acaef124999de",
       "version_major": 2,
       "version_minor": 0
      },
      "text/plain": [
       "  0%|          | 0/9 [00:00<?, ?it/s]"
      ]
     },
     "metadata": {},
     "output_type": "display_data"
    },
    {
     "data": {
      "application/vnd.jupyter.widget-view+json": {
       "model_id": "8d19bc3cf4ea4c1f8ac685225e6f5643",
       "version_major": 2,
       "version_minor": 0
      },
      "text/plain": [
       "  0%|          | 0/28 [00:00<?, ?it/s]"
      ]
     },
     "metadata": {},
     "output_type": "display_data"
    },
    {
     "data": {
      "application/vnd.jupyter.widget-view+json": {
       "model_id": "5c3d4d06685543cd9196776aa65eeca7",
       "version_major": 2,
       "version_minor": 0
      },
      "text/plain": [
       "  0%|          | 0/10 [00:00<?, ?it/s]"
      ]
     },
     "metadata": {},
     "output_type": "display_data"
    },
    {
     "data": {
      "application/vnd.jupyter.widget-view+json": {
       "model_id": "16145b4ddb1a408786427ed332ba79ef",
       "version_major": 2,
       "version_minor": 0
      },
      "text/plain": [
       "  0%|          | 0/49 [00:00<?, ?it/s]"
      ]
     },
     "metadata": {},
     "output_type": "display_data"
    },
    {
     "data": {
      "application/vnd.jupyter.widget-view+json": {
       "model_id": "9489becb83464711a2708f9f34c26da1",
       "version_major": 2,
       "version_minor": 0
      },
      "text/plain": [
       "  0%|          | 0/40 [00:00<?, ?it/s]"
      ]
     },
     "metadata": {},
     "output_type": "display_data"
    },
    {
     "data": {
      "application/vnd.jupyter.widget-view+json": {
       "model_id": "03d192870e794f038958f8897f554d8e",
       "version_major": 2,
       "version_minor": 0
      },
      "text/plain": [
       "  0%|          | 0/63 [00:00<?, ?it/s]"
      ]
     },
     "metadata": {},
     "output_type": "display_data"
    },
    {
     "data": {
      "application/vnd.jupyter.widget-view+json": {
       "model_id": "b4b38c3d20874b4fa102ae4562e77bb5",
       "version_major": 2,
       "version_minor": 0
      },
      "text/plain": [
       "  0%|          | 0/161 [00:00<?, ?it/s]"
      ]
     },
     "metadata": {},
     "output_type": "display_data"
    },
    {
     "data": {
      "application/vnd.jupyter.widget-view+json": {
       "model_id": "0d12461f29cf4ae29920bae34dbffe61",
       "version_major": 2,
       "version_minor": 0
      },
      "text/plain": [
       "  0%|          | 0/14 [00:00<?, ?it/s]"
      ]
     },
     "metadata": {},
     "output_type": "display_data"
    },
    {
     "data": {
      "application/vnd.jupyter.widget-view+json": {
       "model_id": "970c2fb9a8a045ca870bfd20a9cb4d0c",
       "version_major": 2,
       "version_minor": 0
      },
      "text/plain": [
       "  0%|          | 0/14 [00:00<?, ?it/s]"
      ]
     },
     "metadata": {},
     "output_type": "display_data"
    },
    {
     "data": {
      "application/vnd.jupyter.widget-view+json": {
       "model_id": "0ab23f6a0cae475f835ddb8f72e3b087",
       "version_major": 2,
       "version_minor": 0
      },
      "text/plain": [
       "  0%|          | 0/20 [00:00<?, ?it/s]"
      ]
     },
     "metadata": {},
     "output_type": "display_data"
    },
    {
     "data": {
      "application/vnd.jupyter.widget-view+json": {
       "model_id": "08a2251e172d44cb989865472f3c04db",
       "version_major": 2,
       "version_minor": 0
      },
      "text/plain": [
       "  0%|          | 0/27 [00:00<?, ?it/s]"
      ]
     },
     "metadata": {},
     "output_type": "display_data"
    },
    {
     "data": {
      "application/vnd.jupyter.widget-view+json": {
       "model_id": "422354b0284c4dcc9eda432514c39c5d",
       "version_major": 2,
       "version_minor": 0
      },
      "text/plain": [
       "  0%|          | 0/23 [00:00<?, ?it/s]"
      ]
     },
     "metadata": {},
     "output_type": "display_data"
    },
    {
     "data": {
      "application/vnd.jupyter.widget-view+json": {
       "model_id": "28a70748be734e01b4866a05dfd659d0",
       "version_major": 2,
       "version_minor": 0
      },
      "text/plain": [
       "  0%|          | 0/12 [00:00<?, ?it/s]"
      ]
     },
     "metadata": {},
     "output_type": "display_data"
    },
    {
     "data": {
      "application/vnd.jupyter.widget-view+json": {
       "model_id": "0a980e4b4ac446fb9c08b15501e1f5c0",
       "version_major": 2,
       "version_minor": 0
      },
      "text/plain": [
       "  0%|          | 0/26 [00:00<?, ?it/s]"
      ]
     },
     "metadata": {},
     "output_type": "display_data"
    },
    {
     "data": {
      "application/vnd.jupyter.widget-view+json": {
       "model_id": "eb81eb1a7c7644e38d4c508f155f71b8",
       "version_major": 2,
       "version_minor": 0
      },
      "text/plain": [
       "  0%|          | 0/7 [00:00<?, ?it/s]"
      ]
     },
     "metadata": {},
     "output_type": "display_data"
    },
    {
     "data": {
      "application/vnd.jupyter.widget-view+json": {
       "model_id": "737114dc6e184eb8919e2524a78c7077",
       "version_major": 2,
       "version_minor": 0
      },
      "text/plain": [
       "  0%|          | 0/9 [00:00<?, ?it/s]"
      ]
     },
     "metadata": {},
     "output_type": "display_data"
    },
    {
     "data": {
      "application/vnd.jupyter.widget-view+json": {
       "model_id": "75ce2b4b1acb41558a5171ff3e745b38",
       "version_major": 2,
       "version_minor": 0
      },
      "text/plain": [
       "  0%|          | 0/17 [00:00<?, ?it/s]"
      ]
     },
     "metadata": {},
     "output_type": "display_data"
    },
    {
     "data": {
      "application/vnd.jupyter.widget-view+json": {
       "model_id": "cedfd0d996b1401bab905a7e346ce0b7",
       "version_major": 2,
       "version_minor": 0
      },
      "text/plain": [
       "  0%|          | 0/14 [00:00<?, ?it/s]"
      ]
     },
     "metadata": {},
     "output_type": "display_data"
    },
    {
     "data": {
      "application/vnd.jupyter.widget-view+json": {
       "model_id": "95bbde3d0acc4d12bdca320ae05063d5",
       "version_major": 2,
       "version_minor": 0
      },
      "text/plain": [
       "  0%|          | 0/21 [00:00<?, ?it/s]"
      ]
     },
     "metadata": {},
     "output_type": "display_data"
    },
    {
     "data": {
      "application/vnd.jupyter.widget-view+json": {
       "model_id": "976bb1c5d5f54551b298f56a8a404deb",
       "version_major": 2,
       "version_minor": 0
      },
      "text/plain": [
       "  0%|          | 0/8 [00:00<?, ?it/s]"
      ]
     },
     "metadata": {},
     "output_type": "display_data"
    },
    {
     "data": {
      "application/vnd.jupyter.widget-view+json": {
       "model_id": "a6892c4c05644e869257b68c39753cd5",
       "version_major": 2,
       "version_minor": 0
      },
      "text/plain": [
       "  0%|          | 0/13 [00:00<?, ?it/s]"
      ]
     },
     "metadata": {},
     "output_type": "display_data"
    },
    {
     "data": {
      "application/vnd.jupyter.widget-view+json": {
       "model_id": "e790de509fa34f078a2000cfdf719a4f",
       "version_major": 2,
       "version_minor": 0
      },
      "text/plain": [
       "  0%|          | 0/13 [00:00<?, ?it/s]"
      ]
     },
     "metadata": {},
     "output_type": "display_data"
    },
    {
     "data": {
      "application/vnd.jupyter.widget-view+json": {
       "model_id": "d89382b601114d5da893d334a9c29e52",
       "version_major": 2,
       "version_minor": 0
      },
      "text/plain": [
       "  0%|          | 0/26 [00:00<?, ?it/s]"
      ]
     },
     "metadata": {},
     "output_type": "display_data"
    },
    {
     "data": {
      "application/vnd.jupyter.widget-view+json": {
       "model_id": "879c8e140a3141e09a788e3723ded2c9",
       "version_major": 2,
       "version_minor": 0
      },
      "text/plain": [
       "  0%|          | 0/23 [00:00<?, ?it/s]"
      ]
     },
     "metadata": {},
     "output_type": "display_data"
    },
    {
     "data": {
      "application/vnd.jupyter.widget-view+json": {
       "model_id": "bce908a378064f699cd3051515fd18f3",
       "version_major": 2,
       "version_minor": 0
      },
      "text/plain": [
       "  0%|          | 0/11 [00:00<?, ?it/s]"
      ]
     },
     "metadata": {},
     "output_type": "display_data"
    },
    {
     "data": {
      "application/vnd.jupyter.widget-view+json": {
       "model_id": "67c1f5a30de04f55b0296ccbe730564a",
       "version_major": 2,
       "version_minor": 0
      },
      "text/plain": [
       "  0%|          | 0/14 [00:00<?, ?it/s]"
      ]
     },
     "metadata": {},
     "output_type": "display_data"
    },
    {
     "data": {
      "application/vnd.jupyter.widget-view+json": {
       "model_id": "d4a332418fab4281929a826c84c37456",
       "version_major": 2,
       "version_minor": 0
      },
      "text/plain": [
       "  0%|          | 0/11 [00:00<?, ?it/s]"
      ]
     },
     "metadata": {},
     "output_type": "display_data"
    },
    {
     "data": {
      "application/vnd.jupyter.widget-view+json": {
       "model_id": "da4035ad45a7460484f9e2203fd2ae2f",
       "version_major": 2,
       "version_minor": 0
      },
      "text/plain": [
       "  0%|          | 0/9 [00:00<?, ?it/s]"
      ]
     },
     "metadata": {},
     "output_type": "display_data"
    },
    {
     "data": {
      "application/vnd.jupyter.widget-view+json": {
       "model_id": "247774b201fe4efeb8faea2676e35f99",
       "version_major": 2,
       "version_minor": 0
      },
      "text/plain": [
       "  0%|          | 0/12 [00:00<?, ?it/s]"
      ]
     },
     "metadata": {},
     "output_type": "display_data"
    },
    {
     "data": {
      "application/vnd.jupyter.widget-view+json": {
       "model_id": "c57e9c30809444aaa4c6b87ee54311a3",
       "version_major": 2,
       "version_minor": 0
      },
      "text/plain": [
       "  0%|          | 0/11 [00:00<?, ?it/s]"
      ]
     },
     "metadata": {},
     "output_type": "display_data"
    },
    {
     "name": "stdout",
     "output_type": "stream",
     "text": [
      "Synapsse Results:\n",
      "Total Number of Synapses = 5879\n",
      "n_valid_syn_ids_presyn = 31\n",
      "n_errored_syn_ids_presyn = 183\n",
      "n_valid_syn_ids_postsyn = 5650\n",
      "n_errored_syn_ids_postsyn = 15\n",
      "Synapsse Results:\n",
      "Total Number of Synapses = 5879\n",
      "n_valid_syn_ids_presyn = 31\n",
      "n_errored_syn_ids_presyn = 183\n",
      "n_valid_syn_ids_postsyn = 5650\n",
      "n_errored_syn_ids_postsyn = 15\n"
     ]
    },
    {
     "data": {
      "application/vnd.jupyter.widget-view+json": {
       "model_id": "4c9d74e86a7d4bdd9026a2b4be50d295",
       "version_major": 2,
       "version_minor": 0
      },
      "text/plain": [
       "  0%|          | 0/20 [00:00<?, ?it/s]"
      ]
     },
     "metadata": {},
     "output_type": "display_data"
    },
    {
     "data": {
      "application/vnd.jupyter.widget-view+json": {
       "model_id": "08bcf6b9031c495ca47807c8534255d6",
       "version_major": 2,
       "version_minor": 0
      },
      "text/plain": [
       "  0%|          | 0/1 [00:00<?, ?it/s]"
      ]
     },
     "metadata": {},
     "output_type": "display_data"
    },
    {
     "name": "stdout",
     "output_type": "stream",
     "text": [
      "Synapsse Results:\n",
      "Total Number of Synapses = 5879\n",
      "n_valid_syn_ids_presyn = 31\n",
      "n_errored_syn_ids_presyn = 183\n",
      "n_valid_syn_ids_postsyn = 5650\n",
      "n_errored_syn_ids_postsyn = 15\n",
      "Synapsse Results:\n",
      "Total Number of Synapses = 5879\n",
      "n_valid_syn_ids_presyn = 31\n",
      "n_errored_syn_ids_presyn = 183\n",
      "n_valid_syn_ids_postsyn = 5650\n",
      "n_errored_syn_ids_postsyn = 15\n"
     ]
    },
    {
     "data": {
      "application/vnd.jupyter.widget-view+json": {
       "model_id": "752c705f45ca4bff832a9decb02ba8db",
       "version_major": 2,
       "version_minor": 0
      },
      "text/plain": [
       "  0%|          | 0/20 [00:00<?, ?it/s]"
      ]
     },
     "metadata": {},
     "output_type": "display_data"
    },
    {
     "data": {
      "application/vnd.jupyter.widget-view+json": {
       "model_id": "019967094d304b59968854b96380eb55",
       "version_major": 2,
       "version_minor": 0
      },
      "text/plain": [
       "  0%|          | 0/1 [00:00<?, ?it/s]"
      ]
     },
     "metadata": {},
     "output_type": "display_data"
    },
    {
     "name": "stdout",
     "output_type": "stream",
     "text": [
      "\n",
      "\n",
      "len(branch_attr_keys) = 21\n",
      "Saving Neuorn in suppress_output mode...please wait\n",
      "Saved File at location: /mnt/dj-stor01/platinum/minnie65/02/decomposition/864691135272164113_0_25_full_axon\n",
      "Save time = 420.46351146698\n",
      "\n",
      "\n",
      " ***------ Total time for 864691135272164113 = 1053.227240562439 ------ ***\n",
      "\n",
      "\n",
      "\n",
      "---- Working on Neuron 864691136370815112 ----\n",
      "Decompressing Neuron in minimal output mode...please wait\n",
      "Pulled from Table Decomposition so setting split_index = 0\n",
      "Dont need spine recalculation\n",
      "Number of Neurons found = 1\n",
      "\n",
      "Part 1: Axon like branchese \n",
      "{'L0': array([12]), 'L5': array([3]), 'L6': array([ 0,  1,  2,  3,  4,  5,  6,  7,  8,  9, 10, 11, 12])}\n",
      "Limb L0 soma angle: 33.29 \n",
      "Limb L1 soma angle: 134.29 \n",
      "Limb L2 soma angle: 97.47 \n",
      "Limb L3 soma angle: 113.72 \n",
      "Limb L4 soma angle: 80.57 \n",
      "Limb L5 soma angle: 82.5 \n",
      "Limb L6 soma angle: 159.96 \n",
      "Limb L7 soma angle: 137.36 \n",
      "\n",
      "Part 2: possible_axon_limbs = [1, 2, 3, 4, 5, 6, 7]\n",
      "\n",
      "Phase 2: Working on Limb L1\n",
      "nodes_to_eliminate = [10]\n",
      "\n",
      "Phase 2: Working on Limb L2\n",
      "nodes_to_eliminate = [3]\n",
      "\n",
      "Phase 2: Working on Limb L3\n",
      "nodes_to_eliminate = []\n",
      "\n",
      "Phase 2: Working on Limb L4\n",
      "nodes_to_eliminate = [1 3]\n",
      "\n",
      "Phase 2: Working on Limb L5\n",
      "nodes_to_eliminate = [2 5]\n",
      "\n",
      "Phase 2: Working on Limb L6\n",
      "nodes_to_eliminate = []\n",
      "\n",
      "Phase 2: Working on Limb L7\n",
      "nodes_to_eliminate = []\n",
      "\n",
      "----Working on Limb L1-----\n",
      "No endpoints were eliminated so don't need to add back any candidates\n",
      "\n",
      "----Working on Limb L2-----\n",
      "No endpoints were eliminated so don't need to add back any candidates\n",
      "\n",
      "----Working on Limb L3-----\n",
      "No nodes were eliminated so don't need to add back any candidates\n",
      "\n",
      "----Working on Limb L4-----\n",
      "No endpoints were eliminated so don't need to add back any candidates\n",
      "\n",
      "----Working on Limb L5-----\n",
      "No endpoints were eliminated so don't need to add back any candidates\n",
      "\n",
      "----Working on Limb L6-----\n",
      "No nodes were eliminated so don't need to add back any candidates\n",
      "\n",
      "----Working on Limb L7-----\n",
      "No nodes were eliminated so don't need to add back any candidates\n",
      "Final Candidates\n",
      "\n",
      "Limb 1\n",
      "Candidate 0 (pink): array([0, 5, 6])\n",
      "Candidate 1 (blue): array([1, 2, 3, 4, 7, 8, 9])\n",
      "\n",
      "Limb 2\n",
      "Candidate 0 (crimson): array([ 9, 10,  4])\n",
      "Candidate 1 (orange): array([ 0,  1,  2,  5,  6,  7,  8, 11, 12])\n",
      "\n",
      "Limb 3\n",
      "Candidate 0 (pink): array([0, 1, 2, 3, 4])\n",
      "\n",
      "Limb 4\n",
      "Candidate 0 (darkslategray): array([5])\n",
      "Candidate 1 (cadetblue): array([0])\n",
      "Candidate 2 (tan): array([2, 4, 6])\n",
      "\n",
      "Limb 5\n",
      "Candidate 0 (magenta): array([1])\n",
      "Candidate 1 (orange): array([0])\n",
      "Candidate 2 (cadetblue): array([3, 4, 6])\n",
      "\n",
      "Limb 6\n",
      "Candidate 0 (olive): array([ 0,  1,  2,  3,  4,  5,  6,  7,  8,  9, 10, 11, 12])\n",
      "\n",
      "Limb 7\n",
      "Candidate 0 (gold): array([0])\n",
      "Part 3: axon_subgraph_candidates = {1: [[0, 5, 6], [1, 2, 3, 4, 7, 8, 9]], 2: [[9, 10, 4], [0, 1, 2, 5, 6, 7, 8, 11, 12]], 3: [[0, 1, 2, 3, 4]], 4: [[5], [0], [2, 4, 6]], 5: [[1], [0], [3, 4, 6]], 6: [[0, 1, 2, 3, 4, 5, 6, 7, 8, 9, 10, 11, 12]], 7: [[0]]}\n",
      "\n",
      "\n",
      " --- Working on limb 1, candidate # 0\n",
      "0 out of 3 branches are axons\n",
      "Axon percentage = 0.0\n",
      "Not adding candidate no axon branches detected \n",
      "\n",
      "\n",
      " --- Working on limb 1, candidate # 1\n",
      "0 out of 7 branches are axons\n",
      "Axon percentage = 0.0\n",
      "Not adding candidate no axon branches detected \n",
      "\n",
      "\n",
      " --- Working on limb 2, candidate # 0\n",
      "0 out of 3 branches are axons\n",
      "Axon percentage = 0.0\n",
      "Not adding candidate no axon branches detected \n",
      "\n",
      "\n",
      " --- Working on limb 2, candidate # 1\n",
      "0 out of 9 branches are axons\n",
      "Axon percentage = 0.0\n",
      "Not adding candidate no axon branches detected \n",
      "\n",
      "\n",
      " --- Working on limb 3, candidate # 0\n",
      "0 out of 5 branches are axons\n",
      "Axon percentage = 0.0\n",
      "Not adding candidate no axon branches detected \n",
      "\n",
      "\n",
      " --- Working on limb 4, candidate # 0\n",
      "0 out of 1 branches are axons\n",
      "Axon percentage = 0.0\n",
      "Not adding candidate no axon branches detected \n",
      "\n",
      "\n",
      " --- Working on limb 4, candidate # 1\n",
      "0 out of 1 branches are axons\n",
      "Axon percentage = 0.0\n",
      "Not adding candidate no axon branches detected \n",
      "\n",
      "\n",
      " --- Working on limb 4, candidate # 2\n",
      "0 out of 3 branches are axons\n",
      "Axon percentage = 0.0\n",
      "Not adding candidate no axon branches detected \n",
      "\n",
      "\n",
      " --- Working on limb 5, candidate # 0\n",
      "0 out of 1 branches are axons\n",
      "Axon percentage = 0.0\n",
      "Not adding candidate no axon branches detected \n",
      "\n",
      "\n",
      " --- Working on limb 5, candidate # 1\n",
      "0 out of 1 branches are axons\n",
      "Axon percentage = 0.0\n",
      "Not adding candidate no axon branches detected \n",
      "\n",
      "\n",
      " --- Working on limb 5, candidate # 2\n",
      "1 out of 3 branches are axons\n",
      "Axon percentage = 0.3333333333333333\n",
      "curr_axon_angle_threshold = 120\n",
      "candidate_nodes = [2 3 4 5 6]\n",
      "non_axon_branches_on_subgraph = [2 4 5 6]\n",
      "endnodes_to_test = []\n",
      "candidate_angles,restr_skels = (None, None)\n",
      "Not adding candidate because no angles (None) passed the threhold 120 \n",
      "\n",
      "\n",
      " --- Working on limb 6, candidate # 0\n",
      "13 out of 13 branches are axons\n",
      "Axon percentage = 1.0\n",
      "curr_axon_angle_threshold = 95\n",
      "candidate_nodes = [ 0  1  2  3  4  5  6  7  8  9 10 11 12]\n",
      "non_axon_branches_on_subgraph = []\n",
      "endnodes_to_test = [2107]\n",
      "Skeleton paths distances = [24993.06104263]\n",
      "Filtered indexes = [0]\n",
      "len(filtered_skeletons) = 1\n",
      "sk_angles = [162.26698372]\n",
      "candidate_angles,restr_skels = (array([162.26698372]), [array([[[1348625.25298391,  658854.22141877,  816598.25629071],\n",
      "        [1348601.21621419,  658950.05303185,  816613.70088962]],\n",
      "\n",
      "       [[1348601.21621419,  658950.05303185,  816613.70088962],\n",
      "        [1348574.9894383 ,  659046.01699732,  816623.71091029]],\n",
      "\n",
      "       [[1348574.9894383 ,  659046.01699732,  816623.71091029],\n",
      "        [1348548.57948055,  659141.99203334,  816633.26635867]],\n",
      "\n",
      "       [[1348548.57948055,  659141.99203334,  816633.26635867],\n",
      "        [1348520.62038476,  659237.91096203,  816637.33954268]],\n",
      "\n",
      "       [[1348520.62038476,  659237.91096203,  816637.33954268],\n",
      "        [1348492.54953872,  659333.81724047,  816640.88900129]],\n",
      "\n",
      "       [[1348492.54953872,  659333.81724047,  816640.88900129],\n",
      "        [1348463.7447466 ,  659429.57491507,  816640.02199088]],\n",
      "\n",
      "       [[1348463.7447466 ,  659429.57491507,  816640.02199088],\n",
      "        [1348434.95672428,  659525.31972258,  816638.44813883]],\n",
      "\n",
      "       [[1348434.95672428,  659525.31972258,  816638.44813883],\n",
      "        [1348406.22586516,  659621.0206701 ,  816634.46487665]],\n",
      "\n",
      "       [[1348406.22586516,  659621.0206701 ,  816634.46487665],\n",
      "        [1348377.88747986,  659716.81151169,  816629.94042045]],\n",
      "\n",
      "       [[1348377.88747986,  659716.81151169,  816629.94042045],\n",
      "        [1348350.04928167,  659812.7169185 ,  816624.72624114]],\n",
      "\n",
      "       [[1348350.04928167,  659812.7169185 ,  816624.72624114],\n",
      "        [1348323.26554269,  659908.93547078,  816619.82178906]],\n",
      "\n",
      "       [[1348323.26554269,  659908.93547078,  816619.82178906],\n",
      "        [1348296.94034642,  660005.29019766,  816615.05202513]],\n",
      "\n",
      "       [[1348296.94034642,  660005.29019766,  816615.05202513],\n",
      "        [1348272.29904736,  660102.15037648,  816611.75919174]],\n",
      "\n",
      "       [[1348272.29904736,  660102.15037648,  816611.75919174],\n",
      "        [1348248.05403481,  660199.1224482 ,  816609.00604748]],\n",
      "\n",
      "       [[1348248.05403481,  660199.1224482 ,  816609.00604748],\n",
      "        [1348224.71115612,  660296.34828867,  816607.50739488]],\n",
      "\n",
      "       [[1348224.71115612,  660296.34828867,  816607.50739488],\n",
      "        [1348201.5031982 ,  660393.61322919,  816606.88477775]],\n",
      "\n",
      "       [[1348201.5031982 ,  660393.61322919,  816606.88477775],\n",
      "        [1348178.3868335 ,  660490.90471342,  816606.8568719 ]],\n",
      "\n",
      "       [[1348178.3868335 ,  660490.90471342,  816606.8568719 ],\n",
      "        [1348154.24243516,  660587.9414007 ,  816607.6745529 ]],\n",
      "\n",
      "       [[1348154.24243516,  660587.9414007 ,  816607.6745529 ],\n",
      "        [1348129.65659875,  660684.86298671,  816608.67979349]],\n",
      "\n",
      "       [[1348129.65659875,  660684.86298671,  816608.67979349],\n",
      "        [1348102.86510063,  660781.1954208 ,  816610.18902208]],\n",
      "\n",
      "       [[1348102.86510063,  660781.1954208 ,  816610.18902208],\n",
      "        [1348075.01540281,  660877.2111419 ,  816611.82101083]],\n",
      "\n",
      "       [[1348075.01540281,  660877.2111419 ,  816611.82101083],\n",
      "        [1348044.84204692,  660972.5314057 ,  816613.72256369]],\n",
      "\n",
      "       [[1348044.84204692,  660972.5314057 ,  816613.72256369],\n",
      "        [1348013.00100983,  661067.28444799,  816615.79081678]],\n",
      "\n",
      "       [[1348013.00100983,  661067.28444799,  816615.79081678],\n",
      "        [1347979.17216079,  661161.36138404,  816618.05777015]],\n",
      "\n",
      "       [[1347979.17216079,  661161.36138404,  816618.05777015],\n",
      "        [1347943.46899748,  661254.72003585,  816620.5369043 ]],\n",
      "\n",
      "       [[1347943.46899748,  661254.72003585,  816620.5369043 ],\n",
      "        [1347906.24754367,  661347.49684069,  816623.18791574]],\n",
      "\n",
      "       [[1347906.24754367,  661347.49684069,  816623.18791574],\n",
      "        [1347867.31940824,  661439.55150867,  816626.07793835]],\n",
      "\n",
      "       [[1347867.31940824,  661439.55150867,  816626.07793835],\n",
      "        [1347827.32262336,  661531.15400612,  816629.11761932]],\n",
      "\n",
      "       [[1347827.32262336,  661531.15400612,  816629.11761932],\n",
      "        [1347786.03044499,  661622.16516441,  816632.41347668]],\n",
      "\n",
      "       [[1347786.03044499,  661622.16516441,  816632.41347668],\n",
      "        [1347744.08084175,  661712.87621228,  816635.83934609]],\n",
      "\n",
      "       [[1347744.08084175,  661712.87621228,  816635.83934609],\n",
      "        [1347701.42950061,  661803.24593006,  816639.56794356]],\n",
      "\n",
      "       [[1347701.42950061,  661803.24593006,  816639.56794356],\n",
      "        [1347658.50293849,  661893.48177847,  816643.41527072]],\n",
      "\n",
      "       [[1347658.50293849,  661893.48177847,  816643.41527072],\n",
      "        [1347615.70441373,  661983.75912323,  816647.68569168]],\n",
      "\n",
      "       [[1347615.70441373,  661983.75912323,  816647.68569168],\n",
      "        [1347572.93888825,  662074.04716293,  816652.06515727]],\n",
      "\n",
      "       [[1347572.93888825,  662074.04716293,  816652.06515727],\n",
      "        [1347531.46160528,  662164.90002225,  816657.07780704]],\n",
      "\n",
      "       [[1347531.46160528,  662164.90002225,  816657.07780704],\n",
      "        [1347490.19666952,  662255.84460148,  816662.18288533]],\n",
      "\n",
      "       [[1347490.19666952,  662255.84460148,  816662.18288533],\n",
      "        [1347451.54042494,  662347.88006101,  816668.11322631]],\n",
      "\n",
      "       [[1347451.54042494,  662347.88006101,  816668.11322631],\n",
      "        [1347413.45115427,  662440.13202493,  816674.17321517]],\n",
      "\n",
      "       [[1347413.45115427,  662440.13202493,  816674.17321517],\n",
      "        [1347378.39318634,  662533.54152073,  816680.92636116]],\n",
      "\n",
      "       [[1347378.39318634,  662533.54152073,  816680.92636116],\n",
      "        [1347344.40466076,  662627.31640026,  816687.82581167]],\n",
      "\n",
      "       [[1347344.40466076,  662627.31640026,  816687.82581167],\n",
      "        [1347313.25702964,  662722.06189465,  816695.11390928]],\n",
      "\n",
      "       [[1347313.25702964,  662722.06189465,  816695.11390928],\n",
      "        [1347283.35744618,  662817.19206825,  816702.40279184]],\n",
      "\n",
      "       [[1347283.35744618,  662817.19206825,  816702.40279184],\n",
      "        [1347255.75343923,  662913.02979539,  816709.69311818]],\n",
      "\n",
      "       [[1347255.75343923,  662913.02979539,  816709.69311818],\n",
      "        [1347229.18040935,  663009.16724429,  816716.72896357]],\n",
      "\n",
      "       [[1347229.18040935,  663009.16724429,  816716.72896357],\n",
      "        [1347204.26868755,  663105.78766241,  816723.35474042]],\n",
      "\n",
      "       [[1347204.26868755,  663105.78766241,  816723.35474042],\n",
      "        [1347179.9715875 ,  663202.5917974 ,  816729.47739056]],\n",
      "\n",
      "       [[1347179.9715875 ,  663202.5917974 ,  816729.47739056],\n",
      "        [1347156.71345495,  663299.70649064,  816734.74954638]],\n",
      "\n",
      "       [[1347156.71345495,  663299.70649064,  816734.74954638],\n",
      "        [1347133.68123531,  663396.90443005,  816739.33898116]],\n",
      "\n",
      "       [[1347133.68123531,  663396.90443005,  816739.33898116],\n",
      "        [1347111.08634534,  663494.26352015,  816742.60678199]],\n",
      "\n",
      "       [[1347111.08634534,  663494.26352015,  816742.60678199],\n",
      "        [1347088.44559379,  663591.62874468,  816745.04543036]],\n",
      "\n",
      "       [[1347088.44559379,  663591.62874468,  816745.04543036],\n",
      "        [1347065.70758969,  663689.00697766,  816745.72580579]],\n",
      "\n",
      "       [[1347065.70758969,  663689.00697766,  816745.72580579],\n",
      "        [1347042.73129757,  663786.31961299,  816745.36817088]],\n",
      "\n",
      "       [[1347042.73129757,  663786.31961299,  816745.36817088],\n",
      "        [1347019.29182333,  663883.5047402 ,  816742.99286087]],\n",
      "\n",
      "       [[1347019.29182333,  663883.5047402 ,  816742.99286087],\n",
      "        [1346995.4322942 ,  663980.52878778,  816739.23788589]],\n",
      "\n",
      "       [[1346995.4322942 ,  663980.52878778,  816739.23788589],\n",
      "        [1346970.98289152,  664077.32663492,  816733.54547885]],\n",
      "\n",
      "       [[1346970.98289152,  664077.32663492,  816733.54547885],\n",
      "        [1346945.90379632,  664173.82458007,  816726.05130934]],\n",
      "\n",
      "       [[1346945.90379632,  664173.82458007,  816726.05130934],\n",
      "        [1346920.31474813,  664270.07965127,  816717.09799254]],\n",
      "\n",
      "       [[1346920.31474813,  664270.07965127,  816717.09799254],\n",
      "        [1346893.82883543,  664365.86342485,  816706.04933965]],\n",
      "\n",
      "       [[1346893.82883543,  664365.86342485,  816706.04933965],\n",
      "        [1346867.02960058,  664461.48254928,  816694.26867519]],\n",
      "\n",
      "       [[1346867.02960058,  664461.48254928,  816694.26867519],\n",
      "        [1346838.95968016,  664556.46769073,  816680.49554464]],\n",
      "\n",
      "       [[1346838.95968016,  664556.46769073,  816680.49554464],\n",
      "        [1346810.53066613,  664651.29922314,  816666.41909818]],\n",
      "\n",
      "       [[1346810.53066613,  664651.29922314,  816666.41909818],\n",
      "        [1346780.95832879,  664745.65279281,  816651.48990684]],\n",
      "\n",
      "       [[1346780.95832879,  664745.65279281,  816651.48990684],\n",
      "        [1346750.62016942,  664839.75422141,  816636.52958769]],\n",
      "\n",
      "       [[1346750.62016942,  664839.75422141,  816636.52958769],\n",
      "        [1346719.45143556,  664933.58218967,  816621.5355088 ]],\n",
      "\n",
      "       [[1346719.45143556,  664933.58218967,  816621.5355088 ],\n",
      "        [1346687.01451758,  665027.07832496,  816607.19615725]],\n",
      "\n",
      "       [[1346687.01451758,  665027.07832496,  816607.19615725],\n",
      "        [1346654.09474855,  665120.45030589,  816593.13384027]],\n",
      "\n",
      "       [[1346654.09474855,  665120.45030589,  816593.13384027],\n",
      "        [1346619.53361983,  665213.4454847 ,  816580.5869244 ]],\n",
      "\n",
      "       [[1346619.53361983,  665213.4454847 ,  816580.5869244 ],\n",
      "        [1346584.40100909,  665306.30592295,  816568.70739845]],\n",
      "\n",
      "       [[1346584.40100909,  665306.30592295,  816568.70739845],\n",
      "        [1346548.1722845 ,  665398.90792609,  816558.10793958]],\n",
      "\n",
      "       [[1346548.1722845 ,  665398.90792609,  816558.10793958],\n",
      "        [1346510.94201261,  665491.24390888,  816548.8022117 ]],\n",
      "\n",
      "       [[1346510.94201261,  665491.24390888,  816548.8022117 ],\n",
      "        [1346473.19478873,  665583.44224602,  816540.16753753]],\n",
      "\n",
      "       [[1346473.19478873,  665583.44224602,  816540.16753753],\n",
      "        [1346434.34621239,  665675.32349082,  816533.19437674]],\n",
      "\n",
      "       [[1346434.34621239,  665675.32349082,  816533.19437674],\n",
      "        [1346395.33420812,  665767.17328011,  816526.7804623 ]],\n",
      "\n",
      "       [[1346395.33420812,  665767.17328011,  816526.7804623 ],\n",
      "        [1346356.06230111,  665858.97304507,  816521.25592865]],\n",
      "\n",
      "       [[1346356.06230111,  665858.97304507,  816521.25592865],\n",
      "        [1346317.21174903,  665951.01331177,  816516.92469873]],\n",
      "\n",
      "       [[1346317.21174903,  665951.01331177,  816516.92469873],\n",
      "        [1346278.77393467,  666043.25448011,  816513.31631582]],\n",
      "\n",
      "       [[1346278.77393467,  666043.25448011,  816513.31631582],\n",
      "        [1346241.58079751,  666136.05967089,  816511.34981842]],\n",
      "\n",
      "       [[1346241.58079751,  666136.05967089,  816511.34981842],\n",
      "        [1346205.71850028,  666229.39032386,  816511.05406345]],\n",
      "\n",
      "       [[1346205.71850028,  666229.39032386,  816511.05406345],\n",
      "        [1346170.73562765,  666323.06820443,  816511.86234206]],\n",
      "\n",
      "       [[1346170.73562765,  666323.06820443,  816511.86234206],\n",
      "        [1346138.01692474,  666417.47009783,  816516.06748607]],\n",
      "\n",
      "       [[1346138.01692474,  666417.47009783,  816516.06748607],\n",
      "        [1346105.94032597,  666512.00233823,  816521.61631153]],\n",
      "\n",
      "       [[1346105.94032597,  666512.00233823,  816521.61631153],\n",
      "        [1346075.01203701,  666606.76528389,  816529.58029747]],\n",
      "\n",
      "       [[1346075.01203701,  666606.76528389,  816529.58029747],\n",
      "        [1346044.81100464,  666701.49228621,  816540.1258966 ]],\n",
      "\n",
      "       [[1346044.81100464,  666701.49228621,  816540.1258966 ],\n",
      "        [1346014.96203224,  666796.20188862,  816551.92123715]],\n",
      "\n",
      "       [[1346014.96203224,  666796.20188862,  816551.92123715],\n",
      "        [1345985.70271646,  666890.55616554,  816567.42990585]],\n",
      "\n",
      "       [[1345985.70271646,  666890.55616554,  816567.42990585],\n",
      "        [1345956.61265784,  666984.77729391,  816583.96292928]],\n",
      "\n",
      "       [[1345956.61265784,  666984.77729391,  816583.96292928],\n",
      "        [1345928.04386766,  667078.57044678,  816603.62682263]],\n",
      "\n",
      "       [[1345928.04386766,  667078.57044678,  816603.62682263],\n",
      "        [1345900.0244491 ,  667172.09572173,  816625.15411199]],\n",
      "\n",
      "       [[1345900.0244491 ,  667172.09572173,  816625.15411199],\n",
      "        [1345872.64941535,  667265.30678959,  816648.86706955]],\n",
      "\n",
      "       [[1345872.64941535,  667265.30678959,  816648.86706955],\n",
      "        [1345846.59813337,  667358.1528014 ,  816675.26888973]],\n",
      "\n",
      "       [[1345846.59813337,  667358.1528014 ,  816675.26888973],\n",
      "        [1345821.11214321,  667450.84292054,  816702.81895542]],\n",
      "\n",
      "       [[1345821.11214321,  667450.84292054,  816702.81895542],\n",
      "        [1345797.7997285 ,  667543.16925211,  816733.33898122]],\n",
      "\n",
      "       [[1345797.7997285 ,  667543.16925211,  816733.33898122],\n",
      "        [1345774.99645048,  667635.44170492,  816764.39635605]],\n",
      "\n",
      "       [[1345774.99645048,  667635.44170492,  816764.39635605],\n",
      "        [1345754.01112996,  667727.5660154 ,  816797.14887873]],\n",
      "\n",
      "       [[1345754.01112996,  667727.5660154 ,  816797.14887873],\n",
      "        [1345733.58661834,  667819.72956664,  816830.13557689]],\n",
      "\n",
      "       [[1345733.58661834,  667819.72956664,  816830.13557689],\n",
      "        [1345714.06465719,  667911.95627089,  816863.49915068]],\n",
      "\n",
      "       [[1345714.06465719,  667911.95627089,  816863.49915068],\n",
      "        [1345694.74588681,  668004.40953548,  816896.34609673]],\n",
      "\n",
      "       [[1345694.74588681,  668004.40953548,  816896.34609673],\n",
      "        [1345675.57242943,  668097.02482593,  816928.82357365]],\n",
      "\n",
      "       [[1345675.57242943,  668097.02482593,  816928.82357365],\n",
      "        [1345655.68740984,  668190.08477538,  816959.53661012]],\n",
      "\n",
      "       [[1345655.68740984,  668190.08477538,  816959.53661012],\n",
      "        [1345635.58966565,  668283.27765755,  816989.72215949]]])])\n"
     ]
    },
    {
     "name": "stdout",
     "output_type": "stream",
     "text": [
      "base_final_widths = [135.53618939 214.58627285 226.55398195]\n",
      "overall_ais_width = 215.26658460324555\n",
      "ais_width = 192.2254813934046\n",
      "Adding the following branches as true axons: [ 0.  1.  2.  3.  4.  5.  6.  7.  8.  9. 10. 11. 12.]\n",
      "curr_soma_angle = 159.96\n",
      "max_axon_angle = 162.26698371811514\n",
      "Changing to a better axon candidate\n",
      "\n",
      "\n",
      " --- Working on limb 7, candidate # 0\n",
      "0 out of 1 branches are axons\n",
      "Axon percentage = 0.0\n",
      "Not adding candidate no axon branches detected \n",
      "Using the best axon approach\n",
      "Using True\n",
      "Limb L6: Axon branches before dendritic path filter = [ 0.  1.  2.  3.  4.  5.  6.  7.  8.  9. 10. 11. 12.]\n",
      "Limb L6: Axon branches AFTER dendritic path filter = [ 0.  1.  2.  3.  4.  5.  6.  7.  8.  9. 10. 11. 12.]\n",
      "\n",
      "\n",
      "Part 4: final_true_axons = {'L6': array([ 0.,  1.,  2.,  3.,  4.,  5.,  6.,  7.,  8.,  9., 10., 11., 12.])}\n",
      "\n",
      "--- Working on filter 0:\n",
      "function = dendrite_on_axon_merges\n",
      "function __name__ = filter_away_dendrite_on_axon_merges\n",
      "function arguments = {'use_pre_existing_axon_labels': True}\n",
      "\n",
      "\n",
      "\n",
      "\n",
      "\n",
      " ---- Total time for applying filter: 0.6436254978179932 -----\n",
      "Starting axon branch was the starting node so using border vertices and NOT computing upstream branch\n",
      "upstream_node_to_axon_starting_branch = None\n"
     ]
    },
    {
     "name": "stderr",
     "output_type": "stream",
     "text": [
      "\r",
      "  0%|          | 0/1 [00:00<?, ?it/s]"
     ]
    },
    {
     "name": "stdout",
     "output_type": "stream",
     "text": [
      "root_curr = [1348998.  649278.  813561.]\n",
      "Time for preparing soma vertices and root: 0.0004322528839111328\n",
      "invalidation_d = 2000\n",
      "cc_vertex_thresh = 10\n"
     ]
    },
    {
     "data": {
      "application/vnd.jupyter.widget-view+json": {
       "model_id": "c49b6450d80d49c8be9dc0050ef5358d",
       "version_major": 2,
       "version_minor": 0
      },
      "text/plain": [
       "  0%|          | 0/21022 [00:00<?, ?it/s]"
      ]
     },
     "metadata": {},
     "output_type": "display_data"
    },
    {
     "name": "stderr",
     "output_type": "stream",
     "text": [
      "100%|██████████| 1/1 [00:00<00:00,  3.16it/s]\n"
     ]
    },
    {
     "name": "stdout",
     "output_type": "stream",
     "text": [
      "meshparty_segment_size = 100\n",
      "Time for 1st pass MP skeletonization: 1.0002803802490234\n",
      "connecting at the root\n",
      "branches_touching_root = [26]\n",
      "combining close nodes\n",
      "combine_threshold = 1300\n",
      "length of Graph = 4685\n",
      "After combining close endpoints max(kept_branches_idx) = 26, len(kept_branches_idx) = 25\n",
      "empty_indices % = 0.0\n",
      " conflict_indices % = 0.019245426829268292\n"
     ]
    },
    {
     "data": {
      "application/vnd.jupyter.widget-view+json": {
       "model_id": "648a5ef924304c32a7461d47ed2c64b3",
       "version_major": 2,
       "version_minor": 0
      },
      "text/plain": [
       "  0%|          | 0/11 [00:00<?, ?it/s]"
      ]
     },
     "metadata": {},
     "output_type": "display_data"
    },
    {
     "name": "stdout",
     "output_type": "stream",
     "text": [
      "AFTER face_lookup_resolved_test\n"
     ]
    },
    {
     "data": {
      "application/vnd.jupyter.widget-view+json": {
       "model_id": "d8277bf1f7fb403d91d363e2c68d8cdf",
       "version_major": 2,
       "version_minor": 0
      },
      "text/plain": [
       "  0%|          | 0/25 [00:00<?, ?it/s]"
      ]
     },
     "metadata": {},
     "output_type": "display_data"
    },
    {
     "name": "stdout",
     "output_type": "stream",
     "text": [
      "Decomposing first pass: 4.344758987426758\n",
      "Only Using MeshParty Skeletonization and Mesh Correspondence\n",
      "Another print\n",
      "Divinding into MP and MAP pieces: 0.00024628639221191406\n",
      "Total time for MAP sublimb processing 6.198883056640625e-06\n",
      "---- Working on MP Decomposition #0 ----\n",
      "Using Quicker soma_to_piece_touching_vertices because no MAP and only one sublimb_mesh piece \n",
      "MP filtering soma verts: 0.0003676414489746094\n",
      "Fixing Possible Soma Extension Branch for Sublimb 0\n",
      "Total time for mesh KDTree = 0.19025611877441406\n",
      "sbv[0].reshape(-1,3) = [[1348998.  649278.  813561.]]\n",
      "closest_sk_pt_coord BEFORE = [1349148.95231013  650014.89693603  813454.22596849]\n",
      "current_skeleton.shape = (534, 2, 3)\n",
      "node_for_stitch = 530: [1349148.95231013  650014.89693603  813454.22596849]\n",
      "node_for_stitch AFTER = 530: [1349148.95231013  650014.89693603  813454.22596849]\n",
      "possible_node_loc = [292 534]\n",
      "possible_node_loc AFTER = [292 534]\n",
      "curr_shortest_path = [530, 531.0, 532.0, 533.0, 534.0]\n",
      "Current stitch point was not a branch or endpoint, shortest_path_length to one = 394.93553006521296\n",
      "Changing the stitch point becasue the distance to end or branch node was 394.93553006521296\n",
      "New stitch point has degree 1\n",
      "change_status for create soma extending pieces = True\n",
      "closest_sk_pt_coord AFTER = [1349223.05908226  649923.32835992  813087.21806283]\n",
      "skipping soma 0 because closest skeleton node was already end node\n",
      "endpoints_must_keep = {0: array([[1349223.05908226,  649923.32835992,  813087.21806283]])}\n",
      "match_sk_branches = [24]\n",
      "The new branch info was none so skipping \n",
      "\n",
      "No soma extending branch was added for this sublimb even though it had a soma border (means they already existed)\n",
      "MP (because soma touching verts) soma extension add: 1.8638617992401123\n",
      "There were not both MAP and MP pieces so skipping the stitch resolving phase\n",
      "Time for decomp of Limb = 7.420030355453491\n",
      "Number of matching vertices = 27\n",
      "Only one endpoint after filtering away the endpoints that are not on the skeleton\n",
      "Using Distance measure skeletal_distance\n",
      "endpoints_must_keep = [[1349223.05908226  649923.32835992  813087.21806283]]\n",
      "Number of end_nodes BEFORE filtering = 15\n",
      "all_single_nodes_to_eliminate = [11]\n"
     ]
    },
    {
     "data": {
      "application/vnd.jupyter.widget-view+json": {
       "model_id": "a7ba7e82f9ec4fec9c7e670c92320fd2",
       "version_major": 2,
       "version_minor": 0
      },
      "text/plain": [
       "  0%|          | 0/2 [00:00<?, ?it/s]"
      ]
     },
     "metadata": {},
     "output_type": "display_data"
    },
    {
     "name": "stdout",
     "output_type": "stream",
     "text": [
      "Removed 2 skeletal branches\n"
     ]
    },
    {
     "data": {
      "application/vnd.jupyter.widget-view+json": {
       "model_id": "6a2beeb1dcd041d8ba5dc58f80cf663d",
       "version_major": 2,
       "version_minor": 0
      },
      "text/plain": [
       "  0%|          | 0/25 [00:00<?, ?it/s]"
      ]
     },
     "metadata": {},
     "output_type": "display_data"
    },
    {
     "name": "stdout",
     "output_type": "stream",
     "text": [
      "41983 41984\n",
      "For marked faces: None\n",
      "empty_indices % = 0.0\n",
      " conflict_indices % = 0.0\n"
     ]
    },
    {
     "data": {
      "application/vnd.jupyter.widget-view+json": {
       "model_id": "c256598b2e864461a893eaeb5f710dd9",
       "version_major": 2,
       "version_minor": 0
      },
      "text/plain": [
       "0it [00:00, ?it/s]"
      ]
     },
     "metadata": {},
     "output_type": "display_data"
    },
    {
     "name": "stdout",
     "output_type": "stream",
     "text": [
      "AFTER face_lookup_resolved_test\n"
     ]
    },
    {
     "data": {
      "application/vnd.jupyter.widget-view+json": {
       "model_id": "ffb9825e54194338a0faeb03781698f8",
       "version_major": 2,
       "version_minor": 0
      },
      "text/plain": [
       "  0%|          | 0/21 [00:00<?, ?it/s]"
      ]
     },
     "metadata": {},
     "output_type": "display_data"
    },
    {
     "name": "stdout",
     "output_type": "stream",
     "text": [
      "Limb Correspondence before stitching = 21\n",
      "Limb Correspondence AFTER stitching = 21\n",
      "Upstream node was None so don't have to adjust\n",
      "concept_network_dict = {0: [<networkx_utils.GraphOrderedEdges object at 0x7f3f2fadf860>]}\n",
      "\n",
      "\n",
      "----Working on seperate_graph 0----\n",
      "\n",
      "\n",
      "---------Working on soma_idx = 0, soma_group_idx 0, endpt = [1349223.05908226  649923.32835992  813087.21806283]---------\n",
      "Starting_edge inside branches_to_conept = [[1346420.59372441  695976.99099383  805896.51891068]\n",
      " [1349223.05908226  649923.32835992  813087.21806283]]\n",
      "At the start, starting_node (in terms of the skeleton, that shouldn't match the starting edge) = [18]\n",
      "printing out current edge:\n",
      "[[1349223.05908226  649923.32835992  813087.21806283]\n",
      " [1346420.59372441  695976.99099383  805896.51891068]]\n",
      "edge_endpoints_to_process was empty so exiting loop after 21 iterations\n",
      "starting_node in concept map (that should match the starting edge) = 19\n",
      "Total time for branches to concept conversion = 0.6578586101531982\n",
      "\n",
      "Done generating concept network \n",
      "\n",
      "\n"
     ]
    },
    {
     "data": {
      "application/vnd.jupyter.widget-view+json": {
       "model_id": "1b60b9165efa493ba0b8462a84046a88",
       "version_major": 2,
       "version_minor": 0
      },
      "text/plain": [
       "  0%|          | 0/12 [00:00<?, ?it/s]"
      ]
     },
     "metadata": {},
     "output_type": "display_data"
    },
    {
     "data": {
      "application/vnd.jupyter.widget-view+json": {
       "model_id": "c13231067fff40b08b6f3885bbfcade7",
       "version_major": 2,
       "version_minor": 0
      },
      "text/plain": [
       "  0%|          | 0/19 [00:00<?, ?it/s]"
      ]
     },
     "metadata": {},
     "output_type": "display_data"
    },
    {
     "data": {
      "application/vnd.jupyter.widget-view+json": {
       "model_id": "1e1b752938f44e83ac6bc9c3428e370c",
       "version_major": 2,
       "version_minor": 0
      },
      "text/plain": [
       "  0%|          | 0/10 [00:00<?, ?it/s]"
      ]
     },
     "metadata": {},
     "output_type": "display_data"
    },
    {
     "data": {
      "application/vnd.jupyter.widget-view+json": {
       "model_id": "557652022fa54de29982e3637405ae9d",
       "version_major": 2,
       "version_minor": 0
      },
      "text/plain": [
       "  0%|          | 0/33 [00:00<?, ?it/s]"
      ]
     },
     "metadata": {},
     "output_type": "display_data"
    },
    {
     "data": {
      "application/vnd.jupyter.widget-view+json": {
       "model_id": "80b1690f0ed64f5eac3adffb10624765",
       "version_major": 2,
       "version_minor": 0
      },
      "text/plain": [
       "  0%|          | 0/4 [00:00<?, ?it/s]"
      ]
     },
     "metadata": {},
     "output_type": "display_data"
    },
    {
     "data": {
      "application/vnd.jupyter.widget-view+json": {
       "model_id": "8fc59ca0bf2b44ddb056adfa415b7051",
       "version_major": 2,
       "version_minor": 0
      },
      "text/plain": [
       "  0%|          | 0/10 [00:00<?, ?it/s]"
      ]
     },
     "metadata": {},
     "output_type": "display_data"
    },
    {
     "data": {
      "application/vnd.jupyter.widget-view+json": {
       "model_id": "7dd37ee790424931a962416ce3d2e27a",
       "version_major": 2,
       "version_minor": 0
      },
      "text/plain": [
       "  0%|          | 0/5 [00:00<?, ?it/s]"
      ]
     },
     "metadata": {},
     "output_type": "display_data"
    },
    {
     "data": {
      "application/vnd.jupyter.widget-view+json": {
       "model_id": "07f0b187cad946398412f2ba60044bbd",
       "version_major": 2,
       "version_minor": 0
      },
      "text/plain": [
       "  0%|          | 0/14 [00:00<?, ?it/s]"
      ]
     },
     "metadata": {},
     "output_type": "display_data"
    },
    {
     "data": {
      "application/vnd.jupyter.widget-view+json": {
       "model_id": "3ef0c1596fc5450c92398ae9d446ec48",
       "version_major": 2,
       "version_minor": 0
      },
      "text/plain": [
       "  0%|          | 0/13 [00:00<?, ?it/s]"
      ]
     },
     "metadata": {},
     "output_type": "display_data"
    },
    {
     "data": {
      "application/vnd.jupyter.widget-view+json": {
       "model_id": "b8ece91b462f48708fa52cce0cd46100",
       "version_major": 2,
       "version_minor": 0
      },
      "text/plain": [
       "  0%|          | 0/7 [00:00<?, ?it/s]"
      ]
     },
     "metadata": {},
     "output_type": "display_data"
    },
    {
     "data": {
      "application/vnd.jupyter.widget-view+json": {
       "model_id": "babedaa134f24094b26ca724a6c9b6ef",
       "version_major": 2,
       "version_minor": 0
      },
      "text/plain": [
       "  0%|          | 0/4 [00:00<?, ?it/s]"
      ]
     },
     "metadata": {},
     "output_type": "display_data"
    },
    {
     "data": {
      "application/vnd.jupyter.widget-view+json": {
       "model_id": "b5836640f24b400cac62ad08ad973a46",
       "version_major": 2,
       "version_minor": 0
      },
      "text/plain": [
       "  0%|          | 0/5 [00:00<?, ?it/s]"
      ]
     },
     "metadata": {},
     "output_type": "display_data"
    },
    {
     "data": {
      "application/vnd.jupyter.widget-view+json": {
       "model_id": "6c5d9a20df374e9bbfce3ed776021ca2",
       "version_major": 2,
       "version_minor": 0
      },
      "text/plain": [
       "  0%|          | 0/7 [00:00<?, ?it/s]"
      ]
     },
     "metadata": {},
     "output_type": "display_data"
    },
    {
     "data": {
      "application/vnd.jupyter.widget-view+json": {
       "model_id": "fa9146c601bf497685e622de35dacfab",
       "version_major": 2,
       "version_minor": 0
      },
      "text/plain": [
       "  0%|          | 0/17 [00:00<?, ?it/s]"
      ]
     },
     "metadata": {},
     "output_type": "display_data"
    },
    {
     "data": {
      "application/vnd.jupyter.widget-view+json": {
       "model_id": "46ce7750da1f4ff89b7ef685d487451b",
       "version_major": 2,
       "version_minor": 0
      },
      "text/plain": [
       "  0%|          | 0/20 [00:00<?, ?it/s]"
      ]
     },
     "metadata": {},
     "output_type": "display_data"
    },
    {
     "data": {
      "application/vnd.jupyter.widget-view+json": {
       "model_id": "1bac8c21b76149bba23bac8e2e861407",
       "version_major": 2,
       "version_minor": 0
      },
      "text/plain": [
       "  0%|          | 0/112 [00:00<?, ?it/s]"
      ]
     },
     "metadata": {},
     "output_type": "display_data"
    },
    {
     "data": {
      "application/vnd.jupyter.widget-view+json": {
       "model_id": "abb8420970fe40aea5133a7024e060cc",
       "version_major": 2,
       "version_minor": 0
      },
      "text/plain": [
       "  0%|          | 0/9 [00:00<?, ?it/s]"
      ]
     },
     "metadata": {},
     "output_type": "display_data"
    },
    {
     "data": {
      "application/vnd.jupyter.widget-view+json": {
       "model_id": "bfb2255944bf4e189b7809e405474df9",
       "version_major": 2,
       "version_minor": 0
      },
      "text/plain": [
       "  0%|          | 0/38 [00:00<?, ?it/s]"
      ]
     },
     "metadata": {},
     "output_type": "display_data"
    },
    {
     "data": {
      "application/vnd.jupyter.widget-view+json": {
       "model_id": "b87c25df1afb423da3cb2c966d095f5f",
       "version_major": 2,
       "version_minor": 0
      },
      "text/plain": [
       "  0%|          | 0/42 [00:00<?, ?it/s]"
      ]
     },
     "metadata": {},
     "output_type": "display_data"
    },
    {
     "data": {
      "application/vnd.jupyter.widget-view+json": {
       "model_id": "476b208844324f3ea2691f16c4627a55",
       "version_major": 2,
       "version_minor": 0
      },
      "text/plain": [
       "  0%|          | 0/12 [00:00<?, ?it/s]"
      ]
     },
     "metadata": {},
     "output_type": "display_data"
    },
    {
     "data": {
      "application/vnd.jupyter.widget-view+json": {
       "model_id": "ba8db39e04b746d1b8ca742dfe049d83",
       "version_major": 2,
       "version_minor": 0
      },
      "text/plain": [
       "  0%|          | 0/21 [00:00<?, ?it/s]"
      ]
     },
     "metadata": {},
     "output_type": "display_data"
    },
    {
     "data": {
      "application/vnd.jupyter.widget-view+json": {
       "model_id": "17b936934b7e491c98e2985f226670c6",
       "version_major": 2,
       "version_minor": 0
      },
      "text/plain": [
       "  0%|          | 0/34 [00:00<?, ?it/s]"
      ]
     },
     "metadata": {},
     "output_type": "display_data"
    },
    {
     "name": "stdout",
     "output_type": "stream",
     "text": [
      "Synapsse Results:\n",
      "Total Number of Synapses = 3990\n",
      "n_valid_syn_ids_presyn = 5\n",
      "n_errored_syn_ids_presyn = 29\n",
      "n_valid_syn_ids_postsyn = 3891\n",
      "n_errored_syn_ids_postsyn = 65\n",
      "Synapsse Results:\n",
      "Total Number of Synapses = 3990\n",
      "n_valid_syn_ids_presyn = 5\n",
      "n_errored_syn_ids_presyn = 29\n",
      "n_valid_syn_ids_postsyn = 3891\n",
      "n_errored_syn_ids_postsyn = 65\n"
     ]
    },
    {
     "data": {
      "application/vnd.jupyter.widget-view+json": {
       "model_id": "7766d0a2df9947f1992feebf4e3a13b7",
       "version_major": 2,
       "version_minor": 0
      },
      "text/plain": [
       "  0%|          | 0/9 [00:00<?, ?it/s]"
      ]
     },
     "metadata": {},
     "output_type": "display_data"
    },
    {
     "data": {
      "application/vnd.jupyter.widget-view+json": {
       "model_id": "fef21c06da974365b5a64080d6ccfabb",
       "version_major": 2,
       "version_minor": 0
      },
      "text/plain": [
       "  0%|          | 0/1 [00:00<?, ?it/s]"
      ]
     },
     "metadata": {},
     "output_type": "display_data"
    },
    {
     "name": "stdout",
     "output_type": "stream",
     "text": [
      "Synapsse Results:\n",
      "Total Number of Synapses = 3990\n",
      "n_valid_syn_ids_presyn = 5\n",
      "n_errored_syn_ids_presyn = 29\n",
      "n_valid_syn_ids_postsyn = 3891\n",
      "n_errored_syn_ids_postsyn = 65\n",
      "Synapsse Results:\n",
      "Total Number of Synapses = 3990\n",
      "n_valid_syn_ids_presyn = 5\n",
      "n_errored_syn_ids_presyn = 29\n",
      "n_valid_syn_ids_postsyn = 3891\n",
      "n_errored_syn_ids_postsyn = 65\n"
     ]
    },
    {
     "data": {
      "application/vnd.jupyter.widget-view+json": {
       "model_id": "eac96db1bbf542d3a15873e9ee0014e8",
       "version_major": 2,
       "version_minor": 0
      },
      "text/plain": [
       "  0%|          | 0/9 [00:00<?, ?it/s]"
      ]
     },
     "metadata": {},
     "output_type": "display_data"
    },
    {
     "data": {
      "application/vnd.jupyter.widget-view+json": {
       "model_id": "04d2378022884cefaa717d700a662184",
       "version_major": 2,
       "version_minor": 0
      },
      "text/plain": [
       "  0%|          | 0/1 [00:00<?, ?it/s]"
      ]
     },
     "metadata": {},
     "output_type": "display_data"
    },
    {
     "name": "stdout",
     "output_type": "stream",
     "text": [
      "\n",
      "\n",
      "len(branch_attr_keys) = 10\n",
      "Saving Neuorn in suppress_output mode...please wait\n",
      "Saved File at location: /mnt/dj-stor01/platinum/minnie65/02/decomposition/864691136370815112_0_25_full_axon\n",
      "Save time = 289.385098695755\n",
      "\n",
      "\n",
      " ***------ Total time for 864691136370815112 = 540.2340037822723 ------ ***\n",
      "\n",
      "\n",
      "\n",
      "---- Working on Neuron 864691136537220258 ----\n",
      "Decompressing Neuron in minimal output mode...please wait\n",
      "Pulled from Table Decomposition so setting split_index = 0\n",
      "Dont need spine recalculation\n",
      "Number of Neurons found = 1\n",
      "\n",
      "Part 1: Axon like branchese \n",
      "{'L2': array([8]), 'L6': array([3]), 'L8': array([0, 2])}\n",
      "Limb L0 soma angle: 58.83 \n",
      "Limb L1 soma angle: 52.82 \n",
      "Limb L2 soma angle: 26.5 \n",
      "Limb L3 soma angle: 105.24 \n",
      "Limb L4 soma angle: 118.14 \n",
      "Limb L5 soma angle: 90.24 \n",
      "Limb L6 soma angle: 116.15 \n",
      "Limb L7 soma angle: 148.93 \n",
      "Limb L8 soma angle: 140.23 \n",
      "Limb L9 soma angle: 87.59 \n",
      "Limb L10 soma angle: 153.93 \n",
      "Limb L11 soma angle: 133.86 \n",
      "Limb L12 soma angle: 157.97 \n",
      "\n",
      "Part 2: possible_axon_limbs = [10, 11, 12, 3, 4, 5, 6, 7, 8, 9]\n",
      "\n",
      "Phase 2: Working on Limb L10\n",
      "nodes_to_eliminate = [0]\n",
      "\n",
      "Phase 2: Working on Limb L11\n",
      "nodes_to_eliminate = [0]\n",
      "\n",
      "Phase 2: Working on Limb L12\n",
      "nodes_to_eliminate = []\n",
      "\n",
      "Phase 2: Working on Limb L3\n",
      "nodes_to_eliminate = [4 6 7]\n",
      "\n",
      "Phase 2: Working on Limb L4\n",
      "nodes_to_eliminate = [1 3]\n",
      "\n",
      "Phase 2: Working on Limb L5\n",
      "nodes_to_eliminate = [2 3]\n",
      "\n",
      "Phase 2: Working on Limb L6\n",
      "nodes_to_eliminate = [6]\n",
      "\n",
      "Phase 2: Working on Limb L7\n",
      "nodes_to_eliminate = []\n",
      "\n",
      "Phase 2: Working on Limb L8\n",
      "nodes_to_eliminate = []\n",
      "\n",
      "Phase 2: Working on Limb L9\n",
      "nodes_to_eliminate = [2]\n",
      "\n",
      "----Working on Limb L10-----\n",
      "No endpoints were eliminated so don't need to add back any candidates\n",
      "\n",
      "----Working on Limb L11-----\n",
      "No endpoints were eliminated so don't need to add back any candidates\n",
      "\n",
      "----Working on Limb L12-----\n",
      "No nodes were eliminated so don't need to add back any candidates\n",
      "\n",
      "----Working on Limb L3-----\n",
      "No endpoints were eliminated so don't need to add back any candidates\n",
      "\n",
      "----Working on Limb L4-----\n",
      "No endpoints were eliminated so don't need to add back any candidates\n",
      "\n",
      "----Working on Limb L5-----\n",
      "No endpoints were eliminated so don't need to add back any candidates\n",
      "\n",
      "----Working on Limb L6-----\n",
      "No endpoints were eliminated so don't need to add back any candidates\n",
      "\n",
      "----Working on Limb L7-----\n",
      "No nodes were eliminated so don't need to add back any candidates\n",
      "\n",
      "----Working on Limb L8-----\n",
      "No nodes were eliminated so don't need to add back any candidates\n",
      "\n",
      "----Working on Limb L9-----\n",
      "No endpoints were eliminated so don't need to add back any candidates\n",
      "Final Candidates\n",
      "\n",
      "Limb 10\n",
      "Candidate 0 (magenta): array([1])\n",
      "Candidate 1 (blue): array([2])\n",
      "\n",
      "Limb 11\n",
      "Candidate 0 (pink): array([1])\n",
      "Candidate 1 (red): array([2])\n",
      "\n",
      "Limb 12\n",
      "Candidate 0 (gold): array([0])\n",
      "\n",
      "Limb 3\n",
      "Candidate 0 (gold): array([0, 1, 3])\n",
      "Candidate 1 (forestgreen): array([ 2,  5,  8,  9, 10])\n",
      "Candidate 2 (brown): array([11])\n",
      "Candidate 3 (brown): array([12, 13, 14])\n",
      "\n",
      "Limb 4\n",
      "Candidate 0 (orange): array([ 9, 10,  4])\n",
      "Candidate 1 (palegreen): array([0])\n",
      "Candidate 2 (cyan): array([2, 5, 6, 7, 8])\n",
      "\n",
      "Limb 5\n",
      "Candidate 0 (sandybrown): array([0])\n",
      "Candidate 1 (sandybrown): array([1])\n",
      "Candidate 2 (pink): array([4, 5, 6])\n",
      "\n",
      "Limb 6\n",
      "Candidate 0 (orange): array([1, 2, 4])\n",
      "Candidate 1 (forestgreen): array([0, 3, 5])\n",
      "\n",
      "Limb 7\n",
      "Candidate 0 (green): array([0, 1, 2])\n",
      "\n",
      "Limb 8\n",
      "Candidate 0 (forestgreen): array([0, 1, 2])\n",
      "\n",
      "Limb 9\n",
      "Candidate 0 (crimson): array([0])\n",
      "Candidate 1 (brown): array([1])\n",
      "Part 3: axon_subgraph_candidates = {10: [[1], [2]], 11: [[1], [2]], 12: [[0]], 3: [[0, 1, 3], [2, 5, 8, 9, 10], [11], [12, 13, 14]], 4: [[9, 10, 4], [0], [2, 5, 6, 7, 8]], 5: [[0], [1], [4, 5, 6]], 6: [[1, 2, 4], [0, 3, 5]], 7: [[0, 1, 2]], 8: [[0, 1, 2]], 9: [[0], [1]]}\n",
      "\n",
      "\n",
      " --- Working on limb 10, candidate # 0\n",
      "0 out of 1 branches are axons\n",
      "Axon percentage = 0.0\n",
      "Not adding candidate no axon branches detected \n",
      "\n",
      "\n",
      " --- Working on limb 10, candidate # 1\n",
      "0 out of 1 branches are axons\n",
      "Axon percentage = 0.0\n",
      "Not adding candidate no axon branches detected \n",
      "\n",
      "\n",
      " --- Working on limb 11, candidate # 0\n",
      "0 out of 1 branches are axons\n",
      "Axon percentage = 0.0\n",
      "Not adding candidate no axon branches detected \n",
      "\n",
      "\n",
      " --- Working on limb 11, candidate # 1\n",
      "0 out of 1 branches are axons\n",
      "Axon percentage = 0.0\n",
      "Not adding candidate no axon branches detected \n",
      "\n",
      "\n",
      " --- Working on limb 12, candidate # 0\n",
      "0 out of 1 branches are axons\n",
      "Axon percentage = 0.0\n",
      "Not adding candidate no axon branches detected \n",
      "\n",
      "\n",
      " --- Working on limb 3, candidate # 0\n",
      "0 out of 3 branches are axons\n",
      "Axon percentage = 0.0\n",
      "Not adding candidate no axon branches detected \n",
      "\n",
      "\n",
      " --- Working on limb 3, candidate # 1\n",
      "0 out of 5 branches are axons\n",
      "Axon percentage = 0.0\n",
      "Not adding candidate no axon branches detected \n",
      "\n",
      "\n",
      " --- Working on limb 3, candidate # 2\n",
      "0 out of 1 branches are axons\n",
      "Axon percentage = 0.0\n",
      "Not adding candidate no axon branches detected \n",
      "\n",
      "\n",
      " --- Working on limb 3, candidate # 3\n",
      "0 out of 3 branches are axons\n",
      "Axon percentage = 0.0\n",
      "Not adding candidate no axon branches detected \n",
      "\n",
      "\n",
      " --- Working on limb 4, candidate # 0\n",
      "0 out of 3 branches are axons\n",
      "Axon percentage = 0.0\n",
      "Not adding candidate no axon branches detected \n",
      "\n",
      "\n",
      " --- Working on limb 4, candidate # 1\n",
      "0 out of 1 branches are axons\n",
      "Axon percentage = 0.0\n",
      "Not adding candidate no axon branches detected \n",
      "\n",
      "\n",
      " --- Working on limb 4, candidate # 2\n",
      "0 out of 5 branches are axons\n",
      "Axon percentage = 0.0\n",
      "Not adding candidate no axon branches detected \n",
      "\n",
      "\n",
      " --- Working on limb 5, candidate # 0\n",
      "0 out of 1 branches are axons\n",
      "Axon percentage = 0.0\n",
      "Not adding candidate no axon branches detected \n",
      "\n",
      "\n",
      " --- Working on limb 5, candidate # 1\n",
      "0 out of 1 branches are axons\n",
      "Axon percentage = 0.0\n",
      "Not adding candidate no axon branches detected \n",
      "\n",
      "\n",
      " --- Working on limb 5, candidate # 2\n",
      "0 out of 3 branches are axons\n",
      "Axon percentage = 0.0\n",
      "Not adding candidate no axon branches detected \n",
      "\n",
      "\n",
      " --- Working on limb 6, candidate # 0\n",
      "0 out of 3 branches are axons\n",
      "Axon percentage = 0.0\n",
      "Not adding candidate no axon branches detected \n",
      "\n",
      "\n",
      " --- Working on limb 6, candidate # 1\n",
      "1 out of 3 branches are axons\n",
      "Axon percentage = 0.3333333333333333\n",
      "curr_axon_angle_threshold = 120\n",
      "candidate_nodes = [0 3 5 6]\n",
      "non_axon_branches_on_subgraph = [0 5 6]\n",
      "endnodes_to_test = [633]\n",
      "Skeleton paths distances = [24975.63072949]\n",
      "Filtered indexes = [0]\n",
      "len(filtered_skeletons) = 1\n",
      "sk_angles = [132.53664754]\n",
      "candidate_angles,restr_skels = (array([132.53664754]), [array([[[1227350.,  448846.,  772168.],\n",
      "        [1227170.,  448944.,  772311.]],\n",
      "\n",
      "       [[1227170.,  448944.,  772311.],\n",
      "        [1227000.,  449009.,  772434.]],\n",
      "\n",
      "       [[1227000.,  449009.,  772434.],\n",
      "        [1226920.,  449064.,  772483.]],\n",
      "\n",
      "       [[1226920.,  449064.,  772483.],\n",
      "        [1226840.,  449142.,  772550.]],\n",
      "\n",
      "       [[1226840.,  449142.,  772550.],\n",
      "        [1226770.,  449195.,  772597.]],\n",
      "\n",
      "       [[1226770.,  449195.,  772597.],\n",
      "        [1226620.,  449325.,  772710.]],\n",
      "\n",
      "       [[1226620.,  449325.,  772710.],\n",
      "        [1226470.,  449444.,  772808.]],\n",
      "\n",
      "       [[1226470.,  449444.,  772808.],\n",
      "        [1226440.,  449467.,  772826.]],\n",
      "\n",
      "       [[1226440.,  449467.,  772826.],\n",
      "        [1226370.,  449523.,  772870.]],\n",
      "\n",
      "       [[1226370.,  449523.,  772870.],\n",
      "        [1226220.,  449630.,  772953.]],\n",
      "\n",
      "       [[1226220.,  449630.,  772953.],\n",
      "        [1226090.,  449729.,  773027.]],\n",
      "\n",
      "       [[1226090.,  449729.,  773027.],\n",
      "        [1226010.,  449785.,  773069.]],\n",
      "\n",
      "       [[1226010.,  449785.,  773069.],\n",
      "        [1225890.,  449867.,  773132.]],\n",
      "\n",
      "       [[1225890.,  449867.,  773132.],\n",
      "        [1225770.,  449953.,  773183.]],\n",
      "\n",
      "       [[1225770.,  449953.,  773183.],\n",
      "        [1225680.,  450015.,  773224.]],\n",
      "\n",
      "       [[1225680.,  450015.,  773224.],\n",
      "        [1225510.,  450106.,  773287.]],\n",
      "\n",
      "       [[1225510.,  450106.,  773287.],\n",
      "        [1225390.,  450164.,  773347.]],\n",
      "\n",
      "       [[1225390.,  450164.,  773347.],\n",
      "        [1225200.,  450251.,  773437.]],\n",
      "\n",
      "       [[1225200.,  450251.,  773437.],\n",
      "        [1225040.,  450323.,  773468.]],\n",
      "\n",
      "       [[1225040.,  450323.,  773468.],\n",
      "        [1224940.,  450362.,  773379.]],\n",
      "\n",
      "       [[1224940.,  450362.,  773379.],\n",
      "        [1224790.,  450429.,  773285.]],\n",
      "\n",
      "       [[1224790.,  450429.,  773285.],\n",
      "        [1224650.,  450443.,  773222.]],\n",
      "\n",
      "       [[1224650.,  450443.,  773222.],\n",
      "        [1224540.,  450431.,  773190.]],\n",
      "\n",
      "       [[1224540.,  450431.,  773190.],\n",
      "        [1224210.,  450349.,  773079.]],\n",
      "\n",
      "       [[1224210.,  450349.,  773079.],\n",
      "        [1223970.,  450528.,  773021.]],\n",
      "\n",
      "       [[1223970.,  450528.,  773021.],\n",
      "        [1223950.,  450819.,  773011.]],\n",
      "\n",
      "       [[1223950.,  450819.,  773011.],\n",
      "        [1223930.,  450895.,  773006.]],\n",
      "\n",
      "       [[1223930.,  450895.,  773006.],\n",
      "        [1223910.,  450957.,  773000.]],\n",
      "\n",
      "       [[1223910.,  450957.,  773000.],\n",
      "        [1223820.,  451122.,  772984.]],\n",
      "\n",
      "       [[1223820.,  451122.,  772984.],\n",
      "        [1223750.,  451218.,  772978.]],\n",
      "\n",
      "       [[1223750.,  451218.,  772978.],\n",
      "        [1223640.,  451327.,  772970.]],\n",
      "\n",
      "       [[1223640.,  451327.,  772970.],\n",
      "        [1223540.,  451430.,  772961.]],\n",
      "\n",
      "       [[1223540.,  451430.,  772961.],\n",
      "        [1223430.,  451549.,  772960.]],\n",
      "\n",
      "       [[1223430.,  451549.,  772960.],\n",
      "        [1223330.,  451709.,  772953.]],\n",
      "\n",
      "       [[1223330.,  451709.,  772953.],\n",
      "        [1223250.,  451826.,  772952.]],\n",
      "\n",
      "       [[1223250.,  451826.,  772952.],\n",
      "        [1223180.,  451930.,  772955.]],\n",
      "\n",
      "       [[1223180.,  451930.,  772955.],\n",
      "        [1223130.,  452048.,  772964.]],\n",
      "\n",
      "       [[1223130.,  452048.,  772964.],\n",
      "        [1223050.,  452161.,  772982.]],\n",
      "\n",
      "       [[1223050.,  452161.,  772982.],\n",
      "        [1222930.,  452373.,  773012.]],\n",
      "\n",
      "       [[1222930.,  452373.,  773012.],\n",
      "        [1222860.,  452473.,  773029.]],\n",
      "\n",
      "       [[1222860.,  452473.,  773029.],\n",
      "        [1222780.,  452590.,  773046.]],\n",
      "\n",
      "       [[1222780.,  452590.,  773046.],\n",
      "        [1222690.,  452732.,  773060.]],\n",
      "\n",
      "       [[1222690.,  452732.,  773060.],\n",
      "        [1222600.,  452889.,  773087.]],\n",
      "\n",
      "       [[1222600.,  452889.,  773087.],\n",
      "        [1222530.,  452984.,  773084.]],\n",
      "\n",
      "       [[1222530.,  452984.,  773084.],\n",
      "        [1222480.,  453092.,  773119.]],\n",
      "\n",
      "       [[1222480.,  453092.,  773119.],\n",
      "        [1222410.,  453205.,  773093.]],\n",
      "\n",
      "       [[1222410.,  453205.,  773093.],\n",
      "        [1222350.,  453333.,  773066.]],\n",
      "\n",
      "       [[1222350.,  453333.,  773066.],\n",
      "        [1222300.,  453445.,  773043.]],\n",
      "\n",
      "       [[1222300.,  453445.,  773043.],\n",
      "        [1222280.,  453474.,  773037.]],\n",
      "\n",
      "       [[1222280.,  453474.,  773037.],\n",
      "        [1222220.,  453604.,  773009.]],\n",
      "\n",
      "       [[1222220.,  453604.,  773009.],\n",
      "        [1222110.,  453845.,  772955.]],\n",
      "\n",
      "       [[1222110.,  453845.,  772955.],\n",
      "        [1222030.,  453993.,  773018.]],\n",
      "\n",
      "       [[1222030.,  453993.,  773018.],\n",
      "        [1222000.,  454053.,  773057.]],\n",
      "\n",
      "       [[1222000.,  454053.,  773057.],\n",
      "        [1221940.,  454172.,  773131.]],\n",
      "\n",
      "       [[1221940.,  454172.,  773131.],\n",
      "        [1221890.,  454282.,  773196.]],\n",
      "\n",
      "       [[1221890.,  454282.,  773196.],\n",
      "        [1221750.,  454446.,  773292.]],\n",
      "\n",
      "       [[1221750.,  454446.,  773292.],\n",
      "        [1221550.,  454467.,  773333.]],\n",
      "\n",
      "       [[1221550.,  454467.,  773333.],\n",
      "        [1221420.,  454520.,  773352.]],\n",
      "\n",
      "       [[1221420.,  454520.,  773352.],\n",
      "        [1221340.,  454564.,  773353.]],\n",
      "\n",
      "       [[1221340.,  454564.,  773353.],\n",
      "        [1221110.,  454664.,  773340.]],\n",
      "\n",
      "       [[1221110.,  454664.,  773340.],\n",
      "        [1221000.,  454762.,  773338.]],\n",
      "\n",
      "       [[1221000.,  454762.,  773338.],\n",
      "        [1220850.,  454905.,  773334.]]])])\n",
      "Not adding candidate the first branch was not an axon \n",
      "\n",
      "\n",
      " --- Working on limb 7, candidate # 0\n"
     ]
    },
    {
     "name": "stdout",
     "output_type": "stream",
     "text": [
      "0 out of 3 branches are axons\n",
      "Axon percentage = 0.0\n",
      "Not adding candidate no axon branches detected \n",
      "\n",
      "\n",
      " --- Working on limb 8, candidate # 0\n",
      "2 out of 3 branches are axons\n",
      "Axon percentage = 0.6666666666666666\n",
      "curr_axon_angle_threshold = 120\n",
      "candidate_nodes = [0 1 2]\n",
      "non_axon_branches_on_subgraph = [1]\n",
      "endnodes_to_test = []\n",
      "candidate_angles,restr_skels = (None, None)\n",
      "Not adding candidate because no angles (None) passed the threhold 120 \n",
      "\n",
      "\n",
      " --- Working on limb 9, candidate # 0\n",
      "0 out of 1 branches are axons\n",
      "Axon percentage = 0.0\n",
      "Not adding candidate no axon branches detected \n",
      "\n",
      "\n",
      " --- Working on limb 9, candidate # 1\n",
      "0 out of 1 branches are axons\n",
      "Axon percentage = 0.0\n",
      "Not adding candidate no axon branches detected \n",
      "Using the best axon approach\n",
      "Using True\n",
      "\n",
      "\n",
      "Part 4: final_true_axons = {}\n",
      "\n",
      "--- Working on filter 0:\n",
      "function = dendrite_on_axon_merges\n",
      "function __name__ = filter_away_dendrite_on_axon_merges\n",
      "function arguments = {'use_pre_existing_axon_labels': True}\n",
      "\n",
      "\n",
      "\n",
      "\n",
      "\n",
      " ---- Total time for applying filter: 0.5230152606964111 -----\n",
      "\n",
      "\n",
      "\n",
      "---- Working on Neuron 864691135348272855 ----\n",
      "Decompressing Neuron in minimal output mode...please wait\n",
      "Pulled from Table Decomposition so setting split_index = 0\n",
      "Dont need spine recalculation\n",
      "Number of Neurons found = 1\n",
      "\n",
      "Part 1: Axon like branchese \n",
      "{'L0': array([24]), 'L1': array([ 0,  1,  2,  3,  4,  5,  6,  7,  8,  9, 10, 12, 13, 15, 16, 17, 19,\n",
      "       24, 26, 27, 28, 31, 32, 33, 34, 36, 37, 38, 39, 40, 41, 42, 43, 44,\n",
      "       45, 46, 47, 48, 49, 50, 51, 52, 53, 54, 55, 56, 57, 58, 59, 60, 61,\n",
      "       62, 63, 64, 65, 66, 67, 68, 69, 70, 71, 72, 73]), 'L3': array([1]), 'L5': array([ 0,  1,  2,  3,  4,  5,  6,  7,  8,  9, 10, 11, 12, 13, 14, 15, 16,\n",
      "       17, 18, 19, 20, 21, 22, 23, 24, 25, 26, 27, 28, 29, 30, 31]), 'L7': array([ 2,  6,  7,  8,  9, 12, 13, 14])}\n",
      "Limb L0 soma angle: 20.46 \n",
      "Limb L1 soma angle: 66.78 \n",
      "Limb L2 soma angle: 105.44 \n",
      "Limb L3 soma angle: 87.85 \n",
      "Limb L4 soma angle: 110.73 \n",
      "Limb L5 soma angle: 144.81 \n",
      "Limb L6 soma angle: 82.85 \n",
      "Limb L7 soma angle: 99.13 \n",
      "Limb L8 soma angle: 160.73 \n",
      "\n",
      "Part 2: possible_axon_limbs = [2, 3, 4, 5, 6, 7, 8]\n",
      "\n",
      "Phase 2: Working on Limb L2\n",
      "nodes_to_eliminate = [12]\n",
      "\n",
      "Phase 2: Working on Limb L3\n",
      "nodes_to_eliminate = [10]\n",
      "\n",
      "Phase 2: Working on Limb L4\n",
      "nodes_to_eliminate = [0 1]\n",
      "\n",
      "Phase 2: Working on Limb L5\n",
      "nodes_to_eliminate = []\n",
      "\n",
      "Phase 2: Working on Limb L6\n",
      "nodes_to_eliminate = [1 2]\n",
      "\n",
      "Phase 2: Working on Limb L7\n",
      "nodes_to_eliminate = [3]\n",
      "\n",
      "Phase 2: Working on Limb L8\n",
      "nodes_to_eliminate = []\n",
      "\n",
      "----Working on Limb L2-----\n",
      "No endpoints were eliminated so don't need to add back any candidates\n",
      "\n",
      "----Working on Limb L3-----\n",
      "No endpoints were eliminated so don't need to add back any candidates\n",
      "\n",
      "----Working on Limb L4-----\n",
      "No endpoints were eliminated so don't need to add back any candidates\n",
      "\n",
      "----Working on Limb L5-----\n",
      "No nodes were eliminated so don't need to add back any candidates\n",
      "\n",
      "----Working on Limb L6-----\n",
      "No endpoints were eliminated so don't need to add back any candidates\n",
      "\n",
      "----Working on Limb L7-----\n",
      "No endpoints were eliminated so don't need to add back any candidates\n",
      "\n",
      "----Working on Limb L8-----\n",
      "No nodes were eliminated so don't need to add back any candidates\n",
      "Final Candidates\n",
      "\n",
      "Limb 2\n",
      "Candidate 0 (sandybrown): array([ 0,  1,  3,  5,  6,  7,  8,  9, 10])\n",
      "Candidate 1 (sandybrown): array([ 2, 11,  4])\n",
      "\n",
      "Limb 3\n",
      "Candidate 0 (magenta): array([4])\n",
      "Candidate 1 (cadetblue): array([0, 1, 2, 3, 5, 6, 7, 8, 9])\n",
      "\n",
      "Limb 4\n",
      "Candidate 0 (cadetblue): array([2, 6, 7])\n",
      "Candidate 1 (darkslategray): array([3])\n",
      "Candidate 2 (gray): array([4])\n",
      "Candidate 3 (green): array([5])\n",
      "\n",
      "Limb 5\n",
      "Candidate 0 (blue): array([ 0,  1,  2,  3,  4,  5,  6,  7,  8,  9, 10, 11, 12, 13, 14, 15, 16,\n",
      "       17, 18, 19, 20, 21, 22, 23, 24, 25, 26, 27, 28, 29, 30, 31])\n",
      "\n",
      "Limb 6\n",
      "Candidate 0 (forestgreen): array([0])\n",
      "Candidate 1 (tan): array([3])\n",
      "Candidate 2 (brown): array([4])\n",
      "\n",
      "Limb 7\n",
      "Candidate 0 (pink): array([0])\n",
      "Candidate 1 (magenta): array([ 1,  2,  4,  5,  6,  7,  8,  9, 10, 11, 12, 13, 14])\n",
      "\n",
      "Limb 8\n",
      "Candidate 0 (gray): array([0, 1, 2, 3, 4])\n",
      "Part 3: axon_subgraph_candidates = {2: [[0, 1, 3, 5, 6, 7, 8, 9, 10], [2, 11, 4]], 3: [[4], [0, 1, 2, 3, 5, 6, 7, 8, 9]], 4: [[2, 6, 7], [3], [4], [5]], 5: [[0, 1, 2, 3, 4, 5, 6, 7, 8, 9, 10, 11, 12, 13, 14, 15, 16, 17, 18, 19, 20, 21, 22, 23, 24, 25, 26, 27, 28, 29, 30, 31]], 6: [[0], [3], [4]], 7: [[0], [1, 2, 4, 5, 6, 7, 8, 9, 10, 11, 12, 13, 14]], 8: [[0, 1, 2, 3, 4]]}\n",
      "\n",
      "\n",
      " --- Working on limb 2, candidate # 0\n",
      "0 out of 9 branches are axons\n",
      "Axon percentage = 0.0\n",
      "Not adding candidate no axon branches detected \n",
      "\n",
      "\n",
      " --- Working on limb 2, candidate # 1\n",
      "0 out of 3 branches are axons\n",
      "Axon percentage = 0.0\n",
      "Not adding candidate no axon branches detected \n",
      "\n",
      "\n",
      " --- Working on limb 3, candidate # 0\n",
      "0 out of 1 branches are axons\n",
      "Axon percentage = 0.0\n",
      "Not adding candidate no axon branches detected \n",
      "\n",
      "\n",
      " --- Working on limb 3, candidate # 1\n",
      "1 out of 9 branches are axons\n",
      "Axon percentage = 0.1111111111111111\n",
      "curr_axon_angle_threshold = 120\n",
      "candidate_nodes = [ 0  1  2  3  5  6  7  8  9 10]\n",
      "non_axon_branches_on_subgraph = [ 0  2  3  5  6  7  8  9 10]\n",
      "endnodes_to_test = []\n",
      "candidate_angles,restr_skels = (None, None)\n",
      "Not adding candidate because no angles (None) passed the threhold 120 \n",
      "\n",
      "\n",
      " --- Working on limb 4, candidate # 0\n",
      "0 out of 3 branches are axons\n",
      "Axon percentage = 0.0\n",
      "Not adding candidate no axon branches detected \n",
      "\n",
      "\n",
      " --- Working on limb 4, candidate # 1\n",
      "0 out of 1 branches are axons\n",
      "Axon percentage = 0.0\n",
      "Not adding candidate no axon branches detected \n",
      "\n",
      "\n",
      " --- Working on limb 4, candidate # 2\n",
      "0 out of 1 branches are axons\n",
      "Axon percentage = 0.0\n",
      "Not adding candidate no axon branches detected \n",
      "\n",
      "\n",
      " --- Working on limb 4, candidate # 3\n",
      "0 out of 1 branches are axons\n",
      "Axon percentage = 0.0\n",
      "Not adding candidate no axon branches detected \n",
      "\n",
      "\n",
      " --- Working on limb 5, candidate # 0\n",
      "32 out of 32 branches are axons\n",
      "Axon percentage = 1.0\n",
      "curr_axon_angle_threshold = 95\n",
      "candidate_nodes = [ 0  1  2  3  4  5  6  7  8  9 10 11 12 13 14 15 16 17 18 19 20 21 22 23\n",
      " 24 25 26 27 28 29 30 31]\n",
      "non_axon_branches_on_subgraph = []\n",
      "endnodes_to_test = [7865]\n",
      "Skeleton paths distances = [24999.0376751]\n",
      "Filtered indexes = [0]\n",
      "len(filtered_skeletons) = 1\n",
      "sk_angles = [170.14779989]\n",
      "candidate_angles,restr_skels = (array([170.14779989]), [array([[[1186248.30598571,  681615.97935057,  986386.76035164],\n",
      "        [1186263.11185569,  681714.80286336,  986390.59434874]],\n",
      "\n",
      "       [[1186263.11185569,  681714.80286336,  986390.59434874],\n",
      "        [1186277.56459284,  681813.65204722,  986395.04848741]],\n",
      "\n",
      "       [[1186277.56459284,  681813.65204722,  986395.04848741],\n",
      "        [1186291.93569133,  681912.50716581,  986399.64599289]],\n",
      "\n",
      "       [[1186291.93569133,  681912.50716581,  986399.64599289],\n",
      "        [1186306.36258655,  682011.32692326,  986404.77910688]],\n",
      "\n",
      "       [[1186306.36258655,  682011.32692326,  986404.77910688],\n",
      "        [1186320.82231387,  682110.12587339,  986410.22738543]],\n",
      "\n",
      "       [[1186320.82231387,  682110.12587339,  986410.22738543],\n",
      "        [1186335.64239057,  682208.85997543,  986415.86330027]],\n",
      "\n",
      "       [[1186335.64239057,  682208.85997543,  986415.86330027],\n",
      "        [1186350.84329874,  682307.52554344,  986421.69751656]],\n",
      "\n",
      "       [[1186350.84329874,  682307.52554344,  986421.69751656],\n",
      "        [1186366.482471  ,  682406.13111199,  986427.3481896 ]],\n",
      "\n",
      "       [[1186366.482471  ,  682406.13111199,  986427.3481896 ],\n",
      "        [1186382.93952736,  682504.62471014,  986432.65633606]],\n",
      "\n",
      "       [[1186382.93952736,  682504.62471014,  986432.65633606],\n",
      "        [1186399.64216475,  682603.08712881,  986437.71295027]],\n",
      "\n",
      "       [[1186399.64216475,  682603.08712881,  986437.71295027],\n",
      "        [1186417.53704713,  682701.39817752,  986441.54842752]],\n",
      "\n",
      "       [[1186417.53704713,  682701.39817752,  986441.54842752],\n",
      "        [1186435.43192951,  682799.70922623,  986445.38390477]],\n",
      "\n",
      "       [[1186435.43192951,  682799.70922623,  986445.38390477],\n",
      "        [1186454.47068231,  682897.85651436,  986447.42276189]],\n",
      "\n",
      "       [[1186454.47068231,  682897.85651436,  986447.42276189],\n",
      "        [1186473.6294565 ,  682995.9866198 ,  986449.2731074 ]],\n",
      "\n",
      "       [[1186473.6294565 ,  682995.9866198 ,  986449.2731074 ],\n",
      "        [1186493.2313731 ,  683094.03728806,  986450.17156197]],\n",
      "\n",
      "       [[1186493.2313731 ,  683094.03728806,  986450.17156197],\n",
      "        [1186513.24258643,  683192.0145863 ,  986450.19082774]],\n",
      "\n",
      "       [[1186513.24258643,  683192.0145863 ,  986450.19082774],\n",
      "        [1186533.25714316,  683289.99114293,  986450.19998475]],\n",
      "\n",
      "       [[1186533.25714316,  683289.99114293,  986450.19998475],\n",
      "        [1186553.61761313,  683387.89097181,  986449.16327401]],\n",
      "\n",
      "       [[1186553.61761313,  683387.89097181,  986449.16327401],\n",
      "        [1186573.97808309,  683485.79080068,  986448.12656327]],\n",
      "\n",
      "       [[1186573.97808309,  683485.79080068,  986448.12656327],\n",
      "        [1186594.28399412,  683583.70255797,  986447.15347556]],\n",
      "\n",
      "       [[1186594.28399412,  683583.70255797,  986447.15347556],\n",
      "        [1186614.50720957,  683681.63239528,  986446.276822  ]],\n",
      "\n",
      "       [[1186614.50720957,  683681.63239528,  986446.276822  ],\n",
      "        [1186634.73042502,  683779.56223259,  986445.40016844]],\n",
      "\n",
      "       [[1186634.73042502,  683779.56223259,  986445.40016844],\n",
      "        [1186654.56612345,  683877.5718517 ,  986445.69888926]],\n",
      "\n",
      "       [[1186654.56612345,  683877.5718517 ,  986445.69888926],\n",
      "        [1186674.25810788,  683975.61105858,  986446.43350773]],\n",
      "\n",
      "       [[1186674.25810788,  683975.61105858,  986446.43350773],\n",
      "        [1186693.90389157,  684073.65511107,  986447.35217531]],\n",
      "\n",
      "       [[1186693.90389157,  684073.65511107,  986447.35217531],\n",
      "        [1186712.82778579,  684171.77487666,  986451.14662234]],\n",
      "\n",
      "       [[1186712.82778579,  684171.77487666,  986451.14662234],\n",
      "        [1186731.75168   ,  684269.89464225,  986454.94106937]],\n",
      "\n",
      "       [[1186731.75168   ,  684269.89464225,  986454.94106937],\n",
      "        [1186750.32685942,  684367.97083021,  986460.56015097]],\n",
      "\n",
      "       [[1186750.32685942,  684367.97083021,  986460.56015097],\n",
      "        [1186768.45261242,  684465.99085498,  986468.53083622]],\n",
      "\n",
      "       [[1186768.45261242,  684465.99085498,  986468.53083622],\n",
      "        [1186786.57836541,  684564.01087974,  986476.50152147]],\n",
      "\n",
      "       [[1186786.57836541,  684564.01087974,  986476.50152147],\n",
      "        [1186804.15253315,  684661.70736395,  986488.51873121]],\n",
      "\n",
      "       [[1186804.15253315,  684661.70736395,  986488.51873121],\n",
      "        [1186821.6566234 ,  684759.36274316,  986501.05004136]],\n",
      "\n",
      "       [[1186821.6566234 ,  684759.36274316,  986501.05004136],\n",
      "        [1186839.02511336,  684856.79850857,  986515.21824832]],\n",
      "\n",
      "       [[1186839.02511336,  684856.79850857,  986515.21824832],\n",
      "        [1186856.20254713,  684953.92484562,  986531.69278683]],\n",
      "\n",
      "       [[1186856.20254713,  684953.92484562,  986531.69278683],\n",
      "        [1186873.37950644,  685051.04830562,  986548.18354278]],\n",
      "\n",
      "       [[1186873.37950644,  685051.04830562,  986548.18354278],\n",
      "        [1186890.48559571,  685147.74201163,  986567.09673732]],\n",
      "\n",
      "       [[1186890.48559571,  685147.74201163,  986567.09673732],\n",
      "        [1186907.59168499,  685244.43571764,  986586.00993186]],\n",
      "\n",
      "       [[1186907.59168499,  685244.43571764,  986586.00993186],\n",
      "        [1186924.70561701,  685341.05748728,  986605.27839719]],\n",
      "\n",
      "       [[1186924.70561701,  685341.05748728,  986605.27839719],\n",
      "        [1186941.82391662,  685437.63919587,  986624.74471125]],\n",
      "\n",
      "       [[1186941.82391662,  685437.63919587,  986624.74471125],\n",
      "        [1186958.91617399,  685534.29243258,  986643.86881356]],\n",
      "\n",
      "       [[1186958.91617399,  685534.29243258,  986643.86881356],\n",
      "        [1186975.950101  ,  685631.10588048,  986662.22641786]],\n",
      "\n",
      "       [[1186975.950101  ,  685631.10588048,  986662.22641786],\n",
      "        [1186992.98221656,  685727.92238495,  986680.56863507]],\n",
      "\n",
      "       [[1186992.98221656,  685727.92238495,  986680.56863507],\n",
      "        [1187009.7632374 ,  685825.16257764,  986696.7779616 ]],\n",
      "\n",
      "       [[1187009.7632374 ,  685825.16257764,  986696.7779616 ],\n",
      "        [1187026.54425824,  685922.40277032,  986712.98728813]],\n",
      "\n",
      "       [[1187026.54425824,  685922.40277032,  986712.98728813],\n",
      "        [1187043.03831943,  686019.97811764,  986727.33408135]],\n",
      "\n",
      "       [[1187043.03831943,  686019.97811764,  986727.33408135],\n",
      "        [1187059.44097028,  686117.66022772,  986741.08756877]],\n",
      "\n",
      "       [[1187059.44097028,  686117.66022772,  986741.08756877],\n",
      "        [1187075.57368362,  686215.55014426,  986753.58438324]],\n",
      "\n",
      "       [[1187075.57368362,  686215.55014426,  986753.58438324],\n",
      "        [1187091.52655924,  686313.57850561,  986765.24397721]],\n",
      "\n",
      "       [[1187091.52655924,  686313.57850561,  986765.24397721],\n",
      "        [1187107.13671876,  686411.73612292,  986776.24344531]],\n",
      "\n",
      "       [[1187107.13671876,  686411.73612292,  986776.24344531],\n",
      "        [1187122.49625163,  686509.9882645 ,  986786.7601665 ]],\n",
      "\n",
      "       [[1187122.49625163,  686509.9882645 ,  986786.7601665 ],\n",
      "        [1187137.12110631,  686608.32431377,  986797.52618841]],\n",
      "\n",
      "       [[1187137.12110631,  686608.32431377,  986797.52618841],\n",
      "        [1187151.35721435,  686706.69035047,  986808.52524971]],\n",
      "\n",
      "       [[1187151.35721435,  686706.69035047,  986808.52524971],\n",
      "        [1187163.9232832 ,  686805.03580961,  986821.57379675]],\n",
      "\n",
      "       [[1187163.9232832 ,  686805.03580961,  986821.57379675],\n",
      "        [1187175.03159528,  686903.21704801,  986836.79824665]],\n",
      "\n",
      "       [[1187175.03159528,  686903.21704801,  986836.79824665],\n",
      "        [1187184.55479231,  687001.15441577,  986854.50758444]],\n",
      "\n",
      "       [[1187184.55479231,  687001.15441577,  986854.50758444],\n",
      "        [1187192.02951136,  687098.57664715,  986875.79225987]],\n",
      "\n",
      "       [[1187192.02951136,  687098.57664715,  986875.79225987],\n",
      "        [1187198.66124593,  687195.37509769,  986899.96884544]],\n",
      "\n",
      "       [[1187198.66124593,  687195.37509769,  986899.96884544],\n",
      "        [1187205.97100533,  687291.84249553,  986925.25809983]],\n",
      "\n",
      "       [[1187205.97100533,  687291.84249553,  986925.25809983],\n",
      "        [1187214.46759868,  687388.08282624,  986951.02615907]],\n",
      "\n",
      "       [[1187214.46759868,  687388.08282624,  986951.02615907],\n",
      "        [1187226.57604168,  687484.22197232,  986975.73749653]],\n",
      "\n",
      "       [[1187226.57604168,  687484.22197232,  986975.73749653],\n",
      "        [1187241.7952462 ,  687580.33669108,  986998.5626405 ]],\n",
      "\n",
      "       [[1187241.7952462 ,  687580.33669108,  986998.5626405 ],\n",
      "        [1187259.21192496,  687676.43415412,  987020.05535782]],\n",
      "\n",
      "       [[1187259.21192496,  687676.43415412,  987020.05535782],\n",
      "        [1187281.45819236,  687772.37808664,  987037.29013112]],\n",
      "\n",
      "       [[1187281.45819236,  687772.37808664,  987037.29013112],\n",
      "        [1187304.56072373,  687868.27799375,  987053.55886863]],\n",
      "\n",
      "       [[1187304.56072373,  687868.27799375,  987053.55886863],\n",
      "        [1187331.10915141,  687963.95847031,  987065.40907508]],\n",
      "\n",
      "       [[1187331.10915141,  687963.95847031,  987065.40907508],\n",
      "        [1187358.06346592,  688059.60364801,  987076.41459459]],\n",
      "\n",
      "       [[1187358.06346592,  688059.60364801,  987076.41459459],\n",
      "        [1187387.02230335,  688155.07449787,  987083.24852191]],\n",
      "\n",
      "       [[1187387.02230335,  688155.07449787,  987083.24852191],\n",
      "        [1187416.03244032,  688250.54136577,  987089.8346075 ]],\n",
      "\n",
      "       [[1187416.03244032,  688250.54136577,  987089.8346075 ],\n",
      "        [1187445.93334174,  688345.93909104,  987092.11717328]],\n",
      "\n",
      "       [[1187445.93334174,  688345.93909104,  987092.11717328],\n",
      "        [1187475.83424317,  688441.33681632,  987094.39973906]],\n",
      "\n",
      "       [[1187475.83424317,  688441.33681632,  987094.39973906],\n",
      "        [1187505.48649071,  688536.82355452,  987093.4998372 ]],\n",
      "\n",
      "       [[1187505.48649071,  688536.82355452,  987093.4998372 ],\n",
      "        [1187535.08467586,  688632.32964594,  987091.90800239]],\n",
      "\n",
      "       [[1187535.08467586,  688632.32964594,  987091.90800239],\n",
      "        [1187563.94535659,  688728.00705885,  987088.7419739 ]],\n",
      "\n",
      "       [[1187563.94535659,  688728.00705885,  987088.7419739 ],\n",
      "        [1187592.11235742,  688823.84561286,  987084.0952946 ]],\n",
      "\n",
      "       [[1187592.11235742,  688823.84561286,  987084.0952946 ],\n",
      "        [1187619.79025742,  688919.7976405 ,  987079.05611384]],\n",
      "\n",
      "       [[1187619.79025742,  688919.7976405 ,  987079.05611384],\n",
      "        [1187645.36208239,  689016.23828712,  987072.32681628]],\n",
      "\n",
      "       [[1187645.36208239,  689016.23828712,  987072.32681628],\n",
      "        [1187670.93390736,  689112.67893375,  987065.59751872]],\n",
      "\n",
      "       [[1187670.93390736,  689112.67893375,  987065.59751872],\n",
      "        [1187693.12961497,  689209.88265851,  987058.03631721]],\n",
      "\n",
      "       [[1187693.12961497,  689209.88265851,  987058.03631721],\n",
      "        [1187714.89514908,  689307.1836121 ,  987050.36911731]],\n",
      "\n",
      "       [[1187714.89514908,  689307.1836121 ,  987050.36911731],\n",
      "        [1187733.57695196,  689405.10983857,  987042.8965022 ]],\n",
      "\n",
      "       [[1187733.57695196,  689405.10983857,  987042.8965022 ],\n",
      "        [1187750.51975583,  689503.38867324,  987035.53361869]],\n",
      "\n",
      "       [[1187750.51975583,  689503.38867324,  987035.53361869],\n",
      "        [1187765.09908997,  689602.0534241 ,  987028.80514607]],\n",
      "\n",
      "       [[1187765.09908997,  689602.0534241 ,  987028.80514607],\n",
      "        [1187776.81425206,  689701.18584772,  987022.84548461]],\n",
      "\n",
      "       [[1187776.81425206,  689701.18584772,  987022.84548461],\n",
      "        [1187787.02989345,  689800.49118684,  987017.53187511]],\n",
      "\n",
      "       [[1187787.02989345,  689800.49118684,  987017.53187511],\n",
      "        [1187793.98831295,  689900.17212872,  987013.62160374]],\n",
      "\n",
      "       [[1187793.98831295,  689900.17212872,  987013.62160374],\n",
      "        [1187800.16706696,  689999.90655197,  987010.16975777]],\n",
      "\n",
      "       [[1187800.16706696,  689999.90655197,  987010.16975777],\n",
      "        [1187803.54152774,  690099.83333645,  987008.36677182]],\n",
      "\n",
      "       [[1187803.54152774,  690099.83333645,  987008.36677182],\n",
      "        [1187806.56439609,  690199.77074029,  987006.84085237]],\n",
      "\n",
      "       [[1187806.56439609,  690199.77074029,  987006.84085237],\n",
      "        [1187807.7474582 ,  690299.76371291,  987006.76476131]],\n",
      "\n",
      "       [[1187807.7474582 ,  690299.76371291,  987006.76476131],\n",
      "        [1187808.7688244 ,  690399.7567535 ,  987006.88390314]],\n",
      "\n",
      "       [[1187808.7688244 ,  690399.7567535 ,  987006.88390314],\n",
      "        [1187808.94863787,  690499.75014777,  987008.01914224]],\n",
      "\n",
      "       [[1187808.94863787,  690499.75014777,  987008.01914224],\n",
      "        [1187809.08134505,  690599.74044191,  987009.3565596 ]],\n",
      "\n",
      "       [[1187809.08134505,  690599.74044191,  987009.3565596 ],\n",
      "        [1187809.06675663,  690699.72104226,  987011.32616363]],\n",
      "\n",
      "       [[1187809.06675663,  690699.72104226,  987011.32616363],\n",
      "        [1187809.16911529,  690799.6944064 ,  987013.59921218]],\n",
      "\n",
      "       [[1187809.16911529,  690799.6944064 ,  987013.59921218],\n",
      "        [1187809.43642136,  690899.65756426,  987016.30025252]],\n",
      "\n",
      "       [[1187809.43642136,  690899.65756426,  987016.30025252],\n",
      "        [1187810.09703834,  690999.60101649,  987019.56132531]],\n",
      "\n",
      "       [[1187810.09703834,  690999.60101649,  987019.56132531],\n",
      "        [1187810.95513746,  691099.5345745 ,  987023.10359146]],\n",
      "\n",
      "       [[1187810.95513746,  691099.5345745 ,  987023.10359146],\n",
      "        [1187812.67025147,  691199.42071208,  987027.54753517]],\n",
      "\n",
      "       [[1187812.67025147,  691199.42071208,  987027.54753517],\n",
      "        [1187814.72458154,  691299.28764401,  987032.23326175]],\n",
      "\n",
      "       [[1187814.72458154,  691299.28764401,  987032.23326175],\n",
      "        [1187817.73956594,  691399.10002861,  987037.5622157 ]]])])\n"
     ]
    },
    {
     "name": "stdout",
     "output_type": "stream",
     "text": [
      "base_final_widths = [204.5314028  231.56607944]\n",
      "overall_ais_width = 219.17709079692173\n",
      "ais_width = 218.04874111888034\n",
      "Adding the following branches as true axons: [ 0.  1.  2.  3.  4.  5.  6.  7.  8.  9. 10. 11. 12. 13. 14. 15. 16. 17.\n",
      " 18. 19. 20. 21. 22. 23. 24. 25. 26. 27. 28. 29. 30. 31.]\n",
      "curr_soma_angle = 144.81\n",
      "max_axon_angle = 170.14779989256454\n",
      "Changing to a better axon candidate\n",
      "\n",
      "\n",
      " --- Working on limb 6, candidate # 0\n",
      "0 out of 1 branches are axons\n",
      "Axon percentage = 0.0\n",
      "Not adding candidate no axon branches detected \n",
      "\n",
      "\n",
      " --- Working on limb 6, candidate # 1\n",
      "0 out of 1 branches are axons\n",
      "Axon percentage = 0.0\n",
      "Not adding candidate no axon branches detected \n",
      "\n",
      "\n",
      " --- Working on limb 6, candidate # 2\n",
      "0 out of 1 branches are axons\n",
      "Axon percentage = 0.0\n",
      "Not adding candidate no axon branches detected \n",
      "\n",
      "\n",
      " --- Working on limb 7, candidate # 0\n",
      "0 out of 1 branches are axons\n",
      "Axon percentage = 0.0\n",
      "Not adding candidate no axon branches detected \n",
      "\n",
      "\n",
      " --- Working on limb 7, candidate # 1\n",
      "8 out of 13 branches are axons\n",
      "Axon percentage = 0.6153846153846154\n",
      "curr_axon_angle_threshold = 120\n",
      "candidate_nodes = [ 1  2  3  4  5  6  7  8  9 10 11 12 13 14]\n",
      "non_axon_branches_on_subgraph = [ 1  3  4  5 10 11]\n",
      "endnodes_to_test = []\n",
      "candidate_angles,restr_skels = (None, None)\n",
      "Not adding candidate because no angles (None) passed the threhold 120 \n",
      "\n",
      "\n",
      " --- Working on limb 8, candidate # 0\n",
      "0 out of 5 branches are axons\n",
      "Axon percentage = 0.0\n",
      "Not adding candidate no axon branches detected \n",
      "Using the best axon approach\n",
      "Using True\n",
      "Limb L5: Axon branches before dendritic path filter = [ 0.  1.  2.  3.  4.  5.  6.  7.  8.  9. 10. 11. 12. 13. 14. 15. 16. 17.\n",
      " 18. 19. 20. 21. 22. 23. 24. 25. 26. 27. 28. 29. 30. 31.]\n",
      "Limb L5: Axon branches AFTER dendritic path filter = [ 0.  1.  2.  3.  4.  5.  6.  7.  8.  9. 10. 11. 12. 13. 14. 15. 16. 17.\n",
      " 18. 19. 20. 21. 22. 23. 24. 25. 26. 27. 28. 29. 30. 31.]\n",
      "\n",
      "\n",
      "Part 4: final_true_axons = {'L5': array([ 0.,  1.,  2.,  3.,  4.,  5.,  6.,  7.,  8.,  9., 10., 11., 12.,\n",
      "       13., 14., 15., 16., 17., 18., 19., 20., 21., 22., 23., 24., 25.,\n",
      "       26., 27., 28., 29., 30., 31.])}\n",
      "\n",
      "--- Working on filter 0:\n",
      "function = dendrite_on_axon_merges\n",
      "function __name__ = filter_away_dendrite_on_axon_merges\n",
      "function arguments = {'use_pre_existing_axon_labels': True}\n",
      "\n",
      "\n",
      "\n",
      "\n",
      "\n",
      " ---- Total time for applying filter: 1.1116158962249756 -----\n",
      "Starting axon branch was the starting node so using border vertices and NOT computing upstream branch\n",
      "upstream_node_to_axon_starting_branch = None\n"
     ]
    },
    {
     "name": "stderr",
     "output_type": "stream",
     "text": [
      "\r",
      "  0%|          | 0/1 [00:00<?, ?it/s]"
     ]
    },
    {
     "name": "stdout",
     "output_type": "stream",
     "text": [
      "root_curr = [1190178.   673319.9  985419.6]\n",
      "Time for preparing soma vertices and root: 0.0009789466857910156\n",
      "invalidation_d = 2000\n",
      "cc_vertex_thresh = 10\n"
     ]
    },
    {
     "data": {
      "application/vnd.jupyter.widget-view+json": {
       "model_id": "384747bf7e6347a9b83e3230f032de23",
       "version_major": 2,
       "version_minor": 0
      },
      "text/plain": [
       "  0%|          | 0/70564 [00:00<?, ?it/s]"
      ]
     },
     "metadata": {},
     "output_type": "display_data"
    },
    {
     "name": "stderr",
     "output_type": "stream",
     "text": [
      "100%|██████████| 1/1 [00:02<00:00,  2.71s/it]\n"
     ]
    },
    {
     "name": "stdout",
     "output_type": "stream",
     "text": [
      "meshparty_segment_size = 100\n",
      "Time for 1st pass MP skeletonization: 4.441448926925659\n",
      "connecting at the root\n",
      "branches_touching_root = [90]\n",
      "combining close nodes\n",
      "combine_threshold = 1300\n",
      "length of Graph = 17205\n",
      "After combining close endpoints max(kept_branches_idx) = 90, len(kept_branches_idx) = 89\n",
      "empty_indices % = 0.0\n",
      " conflict_indices % = 0.013389395200591922\n"
     ]
    },
    {
     "data": {
      "application/vnd.jupyter.widget-view+json": {
       "model_id": "43ded511e8bc4b588e0a4f5bbc094ec7",
       "version_major": 2,
       "version_minor": 0
      },
      "text/plain": [
       "  0%|          | 0/45 [00:00<?, ?it/s]"
      ]
     },
     "metadata": {},
     "output_type": "display_data"
    },
    {
     "name": "stdout",
     "output_type": "stream",
     "text": [
      "AFTER face_lookup_resolved_test\n"
     ]
    },
    {
     "data": {
      "application/vnd.jupyter.widget-view+json": {
       "model_id": "35a0ee72cebe492b8cfa35d333278097",
       "version_major": 2,
       "version_minor": 0
      },
      "text/plain": [
       "  0%|          | 0/89 [00:00<?, ?it/s]"
      ]
     },
     "metadata": {},
     "output_type": "display_data"
    },
    {
     "name": "stdout",
     "output_type": "stream",
     "text": [
      "Decomposing first pass: 18.060803174972534\n",
      "Only Using MeshParty Skeletonization and Mesh Correspondence\n",
      "Another print\n",
      "Divinding into MP and MAP pieces: 0.0001876354217529297\n",
      "Total time for MAP sublimb processing 3.0994415283203125e-06\n",
      "---- Working on MP Decomposition #0 ----\n",
      "Using Quicker soma_to_piece_touching_vertices because no MAP and only one sublimb_mesh piece \n",
      "MP filtering soma verts: 0.00028252601623535156\n",
      "Fixing Possible Soma Extension Branch for Sublimb 0\n",
      "Total time for mesh KDTree = 0.18666839599609375\n",
      "sbv[0].reshape(-1,3) = [[1190178.   673319.9  985419.6]]\n",
      "closest_sk_pt_coord BEFORE = [1189194.18383573  672762.24221716  986276.15828469]\n",
      "current_skeleton.shape = (610, 2, 3)\n",
      "node_for_stitch = 271: [1189194.18383573  672762.24221716  986276.15828469]\n",
      "node_for_stitch AFTER = 271: [1189194.18383573  672762.24221716  986276.15828469]\n",
      "possible_node_loc = [279 574]\n",
      "possible_node_loc AFTER = [279 574]\n",
      "curr_shortest_path = [271, 274.0, 276.0, 279.0]\n",
      "Current stitch point was not a branch or endpoint, shortest_path_length to one = 299.99955839569566\n",
      "Changing the stitch point becasue the distance to end or branch node was 299.99955839569566\n",
      "New stitch point has degree 1\n",
      "change_status for create soma extending pieces = True\n",
      "closest_sk_pt_coord AFTER = [1189308.62103236  672501.08276981  986369.42314615]\n",
      "skipping soma 0 because closest skeleton node was already end node\n",
      "endpoints_must_keep = {0: array([[1189308.62103236,  672501.08276981,  986369.42314615]])}\n",
      "match_sk_branches = [88]\n",
      "The new branch info was none so skipping \n",
      "\n",
      "No soma extending branch was added for this sublimb even though it had a soma border (means they already existed)\n",
      "MP (because soma touching verts) soma extension add: 7.044200897216797\n",
      "There were not both MAP and MP pieces so skipping the stitch resolving phase\n",
      "Time for decomp of Limb = 30.445265531539917\n",
      "Number of matching vertices = 27\n",
      "Only one endpoint after filtering away the endpoints that are not on the skeleton\n",
      "Using Distance measure skeletal_distance\n",
      "endpoints_must_keep = [[1189308.62103236  672501.08276981  986369.42314615]]\n",
      "Number of end_nodes BEFORE filtering = 47\n",
      "all_single_nodes_to_eliminate = [28]\n"
     ]
    },
    {
     "data": {
      "application/vnd.jupyter.widget-view+json": {
       "model_id": "af7289a2efab4555a66a404f7fcdcc42",
       "version_major": 2,
       "version_minor": 0
      },
      "text/plain": [
       "  0%|          | 0/7 [00:00<?, ?it/s]"
      ]
     },
     "metadata": {},
     "output_type": "display_data"
    },
    {
     "name": "stdout",
     "output_type": "stream",
     "text": [
      "Removed 6 skeletal branches\n"
     ]
    },
    {
     "data": {
      "application/vnd.jupyter.widget-view+json": {
       "model_id": "ab6ddecd6b864f73a6099fc993124de8",
       "version_major": 2,
       "version_minor": 0
      },
      "text/plain": [
       "  0%|          | 0/89 [00:00<?, ?it/s]"
      ]
     },
     "metadata": {},
     "output_type": "display_data"
    },
    {
     "name": "stdout",
     "output_type": "stream",
     "text": [
      "140567 140568\n",
      "For marked faces: None\n",
      "empty_indices % = 0.0\n",
      " conflict_indices % = 0.0\n"
     ]
    },
    {
     "data": {
      "application/vnd.jupyter.widget-view+json": {
       "model_id": "6f8d3d50b55b45928fadf61fa3f9c37b",
       "version_major": 2,
       "version_minor": 0
      },
      "text/plain": [
       "0it [00:00, ?it/s]"
      ]
     },
     "metadata": {},
     "output_type": "display_data"
    },
    {
     "name": "stdout",
     "output_type": "stream",
     "text": [
      "AFTER face_lookup_resolved_test\n"
     ]
    },
    {
     "data": {
      "application/vnd.jupyter.widget-view+json": {
       "model_id": "3b2332ffd0cf40ada91246ad032fc0b7",
       "version_major": 2,
       "version_minor": 0
      },
      "text/plain": [
       "  0%|          | 0/77 [00:00<?, ?it/s]"
      ]
     },
     "metadata": {},
     "output_type": "display_data"
    },
    {
     "name": "stdout",
     "output_type": "stream",
     "text": [
      "Limb Correspondence before stitching = 77\n",
      "Limb Correspondence AFTER stitching = 77\n",
      "Upstream node was None so don't have to adjust\n",
      "concept_network_dict = {0: [<networkx_utils.GraphOrderedEdges object at 0x7f3ec3aec780>]}\n",
      "Assigning the old width calculation because no valid new widths\n",
      "\n",
      "\n",
      "----Working on seperate_graph 0----\n",
      "\n",
      "\n",
      "---------Working on soma_idx = 0, soma_group_idx 0, endpt = [1189308.62103236  672501.08276981  986369.42314615]---------\n",
      "Starting_edge inside branches_to_conept = [[1189308.62103236  672501.08276981  986369.42314615]\n",
      " [1198535.81915008  735290.89375371  982706.14535933]]\n",
      "At the start, starting_node (in terms of the skeleton, that shouldn't match the starting edge) = [43]\n",
      "printing out current edge:\n",
      "[[1189308.62103236  672501.08276981  986369.42314615]\n",
      " [1198535.81915008  735290.89375371  982706.14535933]]\n",
      "edge_endpoints_to_process was empty so exiting loop after 77 iterations\n",
      "starting_node in concept map (that should match the starting edge) = 44\n",
      "Total time for branches to concept conversion = 2.2966649532318115\n",
      "\n",
      "Done generating concept network \n",
      "\n",
      "\n"
     ]
    },
    {
     "data": {
      "application/vnd.jupyter.widget-view+json": {
       "model_id": "22cd2896519a4b93b806a84983d5f49f",
       "version_major": 2,
       "version_minor": 0
      },
      "text/plain": [
       "  0%|          | 0/63 [00:00<?, ?it/s]"
      ]
     },
     "metadata": {},
     "output_type": "display_data"
    },
    {
     "data": {
      "application/vnd.jupyter.widget-view+json": {
       "model_id": "441481d7a6b74b54a53a63a387da0efa",
       "version_major": 2,
       "version_minor": 0
      },
      "text/plain": [
       "  0%|          | 0/3 [00:00<?, ?it/s]"
      ]
     },
     "metadata": {},
     "output_type": "display_data"
    },
    {
     "data": {
      "application/vnd.jupyter.widget-view+json": {
       "model_id": "7b2cc2c279e34ade9f85b8be8af6d750",
       "version_major": 2,
       "version_minor": 0
      },
      "text/plain": [
       "  0%|          | 0/7 [00:00<?, ?it/s]"
      ]
     },
     "metadata": {},
     "output_type": "display_data"
    },
    {
     "data": {
      "application/vnd.jupyter.widget-view+json": {
       "model_id": "2ea8910401154dd38d759161b47c9e7a",
       "version_major": 2,
       "version_minor": 0
      },
      "text/plain": [
       "  0%|          | 0/3 [00:00<?, ?it/s]"
      ]
     },
     "metadata": {},
     "output_type": "display_data"
    },
    {
     "data": {
      "application/vnd.jupyter.widget-view+json": {
       "model_id": "545512b2cfcd4750adb426f07b0e6b50",
       "version_major": 2,
       "version_minor": 0
      },
      "text/plain": [
       "  0%|          | 0/4 [00:00<?, ?it/s]"
      ]
     },
     "metadata": {},
     "output_type": "display_data"
    },
    {
     "data": {
      "application/vnd.jupyter.widget-view+json": {
       "model_id": "d61b19d587064aef8382f7295dac3a3e",
       "version_major": 2,
       "version_minor": 0
      },
      "text/plain": [
       "  0%|          | 0/8 [00:00<?, ?it/s]"
      ]
     },
     "metadata": {},
     "output_type": "display_data"
    },
    {
     "data": {
      "application/vnd.jupyter.widget-view+json": {
       "model_id": "66fd89cc92ae4c2fa4d7b3bc6dbe410e",
       "version_major": 2,
       "version_minor": 0
      },
      "text/plain": [
       "  0%|          | 0/52 [00:00<?, ?it/s]"
      ]
     },
     "metadata": {},
     "output_type": "display_data"
    },
    {
     "data": {
      "application/vnd.jupyter.widget-view+json": {
       "model_id": "8d8550de0fb04ca890790f3fb96ac579",
       "version_major": 2,
       "version_minor": 0
      },
      "text/plain": [
       "  0%|          | 0/4 [00:00<?, ?it/s]"
      ]
     },
     "metadata": {},
     "output_type": "display_data"
    },
    {
     "data": {
      "application/vnd.jupyter.widget-view+json": {
       "model_id": "2aa6fd02536f443681a79aaa8dd91802",
       "version_major": 2,
       "version_minor": 0
      },
      "text/plain": [
       "  0%|          | 0/6 [00:00<?, ?it/s]"
      ]
     },
     "metadata": {},
     "output_type": "display_data"
    },
    {
     "data": {
      "application/vnd.jupyter.widget-view+json": {
       "model_id": "2c9ba491e7394690ade314761b88bd66",
       "version_major": 2,
       "version_minor": 0
      },
      "text/plain": [
       "  0%|          | 0/6 [00:00<?, ?it/s]"
      ]
     },
     "metadata": {},
     "output_type": "display_data"
    },
    {
     "data": {
      "application/vnd.jupyter.widget-view+json": {
       "model_id": "896586ec52134f73a3aa0ec35a5f4c14",
       "version_major": 2,
       "version_minor": 0
      },
      "text/plain": [
       "  0%|          | 0/7 [00:00<?, ?it/s]"
      ]
     },
     "metadata": {},
     "output_type": "display_data"
    },
    {
     "data": {
      "application/vnd.jupyter.widget-view+json": {
       "model_id": "8df23b7161124d22b2ad2b6ebb7aca03",
       "version_major": 2,
       "version_minor": 0
      },
      "text/plain": [
       "  0%|          | 0/3 [00:00<?, ?it/s]"
      ]
     },
     "metadata": {},
     "output_type": "display_data"
    },
    {
     "data": {
      "application/vnd.jupyter.widget-view+json": {
       "model_id": "37aaf90b8b294b6c86ae4fad31e530e2",
       "version_major": 2,
       "version_minor": 0
      },
      "text/plain": [
       "  0%|          | 0/4 [00:00<?, ?it/s]"
      ]
     },
     "metadata": {},
     "output_type": "display_data"
    },
    {
     "data": {
      "application/vnd.jupyter.widget-view+json": {
       "model_id": "ca6cbd4de7aa45ec9675e138c67dc751",
       "version_major": 2,
       "version_minor": 0
      },
      "text/plain": [
       "  0%|          | 0/16 [00:00<?, ?it/s]"
      ]
     },
     "metadata": {},
     "output_type": "display_data"
    },
    {
     "data": {
      "application/vnd.jupyter.widget-view+json": {
       "model_id": "bc8d1e38f9a44d8991270849faeb6d1a",
       "version_major": 2,
       "version_minor": 0
      },
      "text/plain": [
       "  0%|          | 0/15 [00:00<?, ?it/s]"
      ]
     },
     "metadata": {},
     "output_type": "display_data"
    },
    {
     "data": {
      "application/vnd.jupyter.widget-view+json": {
       "model_id": "d31adcb6de0c41e5a41a3dd6e6deae65",
       "version_major": 2,
       "version_minor": 0
      },
      "text/plain": [
       "  0%|          | 0/4 [00:00<?, ?it/s]"
      ]
     },
     "metadata": {},
     "output_type": "display_data"
    },
    {
     "data": {
      "application/vnd.jupyter.widget-view+json": {
       "model_id": "6d9065b96aca43b6b3e68834b2732afe",
       "version_major": 2,
       "version_minor": 0
      },
      "text/plain": [
       "  0%|          | 0/3 [00:00<?, ?it/s]"
      ]
     },
     "metadata": {},
     "output_type": "display_data"
    },
    {
     "data": {
      "application/vnd.jupyter.widget-view+json": {
       "model_id": "3ab6a7397111406f8b34b76db7a1b80d",
       "version_major": 2,
       "version_minor": 0
      },
      "text/plain": [
       "  0%|          | 0/14 [00:00<?, ?it/s]"
      ]
     },
     "metadata": {},
     "output_type": "display_data"
    },
    {
     "data": {
      "application/vnd.jupyter.widget-view+json": {
       "model_id": "44bffbd243e84fc39ae1e970123165e8",
       "version_major": 2,
       "version_minor": 0
      },
      "text/plain": [
       "  0%|          | 0/5 [00:00<?, ?it/s]"
      ]
     },
     "metadata": {},
     "output_type": "display_data"
    },
    {
     "data": {
      "application/vnd.jupyter.widget-view+json": {
       "model_id": "54400bb922824aa4bd1e8eacec9497c6",
       "version_major": 2,
       "version_minor": 0
      },
      "text/plain": [
       "  0%|          | 0/4 [00:00<?, ?it/s]"
      ]
     },
     "metadata": {},
     "output_type": "display_data"
    },
    {
     "data": {
      "application/vnd.jupyter.widget-view+json": {
       "model_id": "e0d2d6401c494d5d9b63363f07ad6b67",
       "version_major": 2,
       "version_minor": 0
      },
      "text/plain": [
       "  0%|          | 0/34 [00:00<?, ?it/s]"
      ]
     },
     "metadata": {},
     "output_type": "display_data"
    },
    {
     "data": {
      "application/vnd.jupyter.widget-view+json": {
       "model_id": "3c3af1d6f7854299b74300fad76808e0",
       "version_major": 2,
       "version_minor": 0
      },
      "text/plain": [
       "  0%|          | 0/13 [00:00<?, ?it/s]"
      ]
     },
     "metadata": {},
     "output_type": "display_data"
    },
    {
     "data": {
      "application/vnd.jupyter.widget-view+json": {
       "model_id": "c7726736f96d4209bf56d9f30f4323cd",
       "version_major": 2,
       "version_minor": 0
      },
      "text/plain": [
       "  0%|          | 0/6 [00:00<?, ?it/s]"
      ]
     },
     "metadata": {},
     "output_type": "display_data"
    },
    {
     "data": {
      "application/vnd.jupyter.widget-view+json": {
       "model_id": "26f5ad8ed42843198d8071ddf10160c9",
       "version_major": 2,
       "version_minor": 0
      },
      "text/plain": [
       "  0%|          | 0/10 [00:00<?, ?it/s]"
      ]
     },
     "metadata": {},
     "output_type": "display_data"
    },
    {
     "data": {
      "application/vnd.jupyter.widget-view+json": {
       "model_id": "707b5778562040c1bbe289dfcba590dd",
       "version_major": 2,
       "version_minor": 0
      },
      "text/plain": [
       "  0%|          | 0/22 [00:00<?, ?it/s]"
      ]
     },
     "metadata": {},
     "output_type": "display_data"
    },
    {
     "data": {
      "application/vnd.jupyter.widget-view+json": {
       "model_id": "85c9e23d01684d63af67c038076e7e3e",
       "version_major": 2,
       "version_minor": 0
      },
      "text/plain": [
       "  0%|          | 0/5 [00:00<?, ?it/s]"
      ]
     },
     "metadata": {},
     "output_type": "display_data"
    },
    {
     "data": {
      "application/vnd.jupyter.widget-view+json": {
       "model_id": "603661503d4f4badbd49f297835c9b08",
       "version_major": 2,
       "version_minor": 0
      },
      "text/plain": [
       "  0%|          | 0/3 [00:00<?, ?it/s]"
      ]
     },
     "metadata": {},
     "output_type": "display_data"
    },
    {
     "data": {
      "application/vnd.jupyter.widget-view+json": {
       "model_id": "072afdf234db4f7e9e4f514fbdca7bd5",
       "version_major": 2,
       "version_minor": 0
      },
      "text/plain": [
       "  0%|          | 0/64 [00:00<?, ?it/s]"
      ]
     },
     "metadata": {},
     "output_type": "display_data"
    },
    {
     "data": {
      "application/vnd.jupyter.widget-view+json": {
       "model_id": "3ca10a306db8416f9f764c3b9fe12a35",
       "version_major": 2,
       "version_minor": 0
      },
      "text/plain": [
       "  0%|          | 0/3 [00:00<?, ?it/s]"
      ]
     },
     "metadata": {},
     "output_type": "display_data"
    },
    {
     "data": {
      "application/vnd.jupyter.widget-view+json": {
       "model_id": "4892fbd6ca5d4d919c4c946703100295",
       "version_major": 2,
       "version_minor": 0
      },
      "text/plain": [
       "  0%|          | 0/4 [00:00<?, ?it/s]"
      ]
     },
     "metadata": {},
     "output_type": "display_data"
    },
    {
     "data": {
      "application/vnd.jupyter.widget-view+json": {
       "model_id": "e2eee43b4c15424bbdf5c67a9ce1a4c2",
       "version_major": 2,
       "version_minor": 0
      },
      "text/plain": [
       "  0%|          | 0/5 [00:00<?, ?it/s]"
      ]
     },
     "metadata": {},
     "output_type": "display_data"
    },
    {
     "data": {
      "application/vnd.jupyter.widget-view+json": {
       "model_id": "73198ac593c247f7b103b3f1808ba9c7",
       "version_major": 2,
       "version_minor": 0
      },
      "text/plain": [
       "  0%|          | 0/3 [00:00<?, ?it/s]"
      ]
     },
     "metadata": {},
     "output_type": "display_data"
    },
    {
     "data": {
      "application/vnd.jupyter.widget-view+json": {
       "model_id": "a516e4a206034ccbadcb60e07fada53f",
       "version_major": 2,
       "version_minor": 0
      },
      "text/plain": [
       "  0%|          | 0/53 [00:00<?, ?it/s]"
      ]
     },
     "metadata": {},
     "output_type": "display_data"
    },
    {
     "data": {
      "application/vnd.jupyter.widget-view+json": {
       "model_id": "aff9b0153b814c7b843b587dc15b6c1c",
       "version_major": 2,
       "version_minor": 0
      },
      "text/plain": [
       "  0%|          | 0/64 [00:00<?, ?it/s]"
      ]
     },
     "metadata": {},
     "output_type": "display_data"
    },
    {
     "data": {
      "application/vnd.jupyter.widget-view+json": {
       "model_id": "82fcec6fea8e48deb2c58e19bae66950",
       "version_major": 2,
       "version_minor": 0
      },
      "text/plain": [
       "  0%|          | 0/44 [00:00<?, ?it/s]"
      ]
     },
     "metadata": {},
     "output_type": "display_data"
    },
    {
     "data": {
      "application/vnd.jupyter.widget-view+json": {
       "model_id": "8c44a1e20497427792a49fdf21274cb6",
       "version_major": 2,
       "version_minor": 0
      },
      "text/plain": [
       "  0%|          | 0/34 [00:00<?, ?it/s]"
      ]
     },
     "metadata": {},
     "output_type": "display_data"
    },
    {
     "data": {
      "application/vnd.jupyter.widget-view+json": {
       "model_id": "5f74440f3ee6407bb2dd74f33f69e1e7",
       "version_major": 2,
       "version_minor": 0
      },
      "text/plain": [
       "  0%|          | 0/7 [00:00<?, ?it/s]"
      ]
     },
     "metadata": {},
     "output_type": "display_data"
    },
    {
     "data": {
      "application/vnd.jupyter.widget-view+json": {
       "model_id": "edf03bc675ea4aa28a4c67498f9f0197",
       "version_major": 2,
       "version_minor": 0
      },
      "text/plain": [
       "  0%|          | 0/14 [00:00<?, ?it/s]"
      ]
     },
     "metadata": {},
     "output_type": "display_data"
    },
    {
     "data": {
      "application/vnd.jupyter.widget-view+json": {
       "model_id": "bac55c0cf86246b29579b317497c6fbe",
       "version_major": 2,
       "version_minor": 0
      },
      "text/plain": [
       "  0%|          | 0/14 [00:00<?, ?it/s]"
      ]
     },
     "metadata": {},
     "output_type": "display_data"
    },
    {
     "data": {
      "application/vnd.jupyter.widget-view+json": {
       "model_id": "bdab1dfb40d84db98d393f09439f9be6",
       "version_major": 2,
       "version_minor": 0
      },
      "text/plain": [
       "  0%|          | 0/18 [00:00<?, ?it/s]"
      ]
     },
     "metadata": {},
     "output_type": "display_data"
    },
    {
     "data": {
      "application/vnd.jupyter.widget-view+json": {
       "model_id": "fa541f9ff5504d6ab3b1f64906897501",
       "version_major": 2,
       "version_minor": 0
      },
      "text/plain": [
       "  0%|          | 0/15 [00:00<?, ?it/s]"
      ]
     },
     "metadata": {},
     "output_type": "display_data"
    },
    {
     "data": {
      "application/vnd.jupyter.widget-view+json": {
       "model_id": "f49f0f0a0f004bca832e04c427b41bd2",
       "version_major": 2,
       "version_minor": 0
      },
      "text/plain": [
       "  0%|          | 0/5 [00:00<?, ?it/s]"
      ]
     },
     "metadata": {},
     "output_type": "display_data"
    },
    {
     "data": {
      "application/vnd.jupyter.widget-view+json": {
       "model_id": "c486804be56944ab8374a3200d492653",
       "version_major": 2,
       "version_minor": 0
      },
      "text/plain": [
       "  0%|          | 0/39 [00:00<?, ?it/s]"
      ]
     },
     "metadata": {},
     "output_type": "display_data"
    },
    {
     "data": {
      "application/vnd.jupyter.widget-view+json": {
       "model_id": "2eabc1596ba04b7eaa52a5528bb3872c",
       "version_major": 2,
       "version_minor": 0
      },
      "text/plain": [
       "  0%|          | 0/18 [00:00<?, ?it/s]"
      ]
     },
     "metadata": {},
     "output_type": "display_data"
    },
    {
     "data": {
      "application/vnd.jupyter.widget-view+json": {
       "model_id": "94d5820e09f743e7874ca6f28ab368aa",
       "version_major": 2,
       "version_minor": 0
      },
      "text/plain": [
       "  0%|          | 0/11 [00:00<?, ?it/s]"
      ]
     },
     "metadata": {},
     "output_type": "display_data"
    },
    {
     "data": {
      "application/vnd.jupyter.widget-view+json": {
       "model_id": "a66c65a54b55484da32b2aab62568704",
       "version_major": 2,
       "version_minor": 0
      },
      "text/plain": [
       "  0%|          | 0/6 [00:00<?, ?it/s]"
      ]
     },
     "metadata": {},
     "output_type": "display_data"
    },
    {
     "data": {
      "application/vnd.jupyter.widget-view+json": {
       "model_id": "86bde5c0a13e4e799d808e954c5fb114",
       "version_major": 2,
       "version_minor": 0
      },
      "text/plain": [
       "  0%|          | 0/5 [00:00<?, ?it/s]"
      ]
     },
     "metadata": {},
     "output_type": "display_data"
    },
    {
     "data": {
      "application/vnd.jupyter.widget-view+json": {
       "model_id": "a6ae36f2dc6e4333a0875e05de1b3306",
       "version_major": 2,
       "version_minor": 0
      },
      "text/plain": [
       "  0%|          | 0/10 [00:00<?, ?it/s]"
      ]
     },
     "metadata": {},
     "output_type": "display_data"
    },
    {
     "data": {
      "application/vnd.jupyter.widget-view+json": {
       "model_id": "0b2769245d834b7283c7b84af0596589",
       "version_major": 2,
       "version_minor": 0
      },
      "text/plain": [
       "  0%|          | 0/6 [00:00<?, ?it/s]"
      ]
     },
     "metadata": {},
     "output_type": "display_data"
    },
    {
     "data": {
      "application/vnd.jupyter.widget-view+json": {
       "model_id": "1bdb36780a694f0badcb0b63a2905aad",
       "version_major": 2,
       "version_minor": 0
      },
      "text/plain": [
       "  0%|          | 0/37 [00:00<?, ?it/s]"
      ]
     },
     "metadata": {},
     "output_type": "display_data"
    },
    {
     "data": {
      "application/vnd.jupyter.widget-view+json": {
       "model_id": "d58b037c4fd1422082dbef2660127b2a",
       "version_major": 2,
       "version_minor": 0
      },
      "text/plain": [
       "  0%|          | 0/31 [00:00<?, ?it/s]"
      ]
     },
     "metadata": {},
     "output_type": "display_data"
    },
    {
     "data": {
      "application/vnd.jupyter.widget-view+json": {
       "model_id": "7275bc52d67049cebcc39e7f0a8ec40d",
       "version_major": 2,
       "version_minor": 0
      },
      "text/plain": [
       "  0%|          | 0/9 [00:00<?, ?it/s]"
      ]
     },
     "metadata": {},
     "output_type": "display_data"
    },
    {
     "data": {
      "application/vnd.jupyter.widget-view+json": {
       "model_id": "9fa8c74f6d134076aba7106fe632f716",
       "version_major": 2,
       "version_minor": 0
      },
      "text/plain": [
       "  0%|          | 0/17 [00:00<?, ?it/s]"
      ]
     },
     "metadata": {},
     "output_type": "display_data"
    },
    {
     "data": {
      "application/vnd.jupyter.widget-view+json": {
       "model_id": "1e13614c60cd421698a9455eddf80720",
       "version_major": 2,
       "version_minor": 0
      },
      "text/plain": [
       "  0%|          | 0/8 [00:00<?, ?it/s]"
      ]
     },
     "metadata": {},
     "output_type": "display_data"
    },
    {
     "data": {
      "application/vnd.jupyter.widget-view+json": {
       "model_id": "d07ba8de902247cd8bf343717e86c48d",
       "version_major": 2,
       "version_minor": 0
      },
      "text/plain": [
       "  0%|          | 0/43 [00:00<?, ?it/s]"
      ]
     },
     "metadata": {},
     "output_type": "display_data"
    },
    {
     "data": {
      "application/vnd.jupyter.widget-view+json": {
       "model_id": "a053cb1b7d584c0cae138f0213ce6773",
       "version_major": 2,
       "version_minor": 0
      },
      "text/plain": [
       "  0%|          | 0/4 [00:00<?, ?it/s]"
      ]
     },
     "metadata": {},
     "output_type": "display_data"
    },
    {
     "data": {
      "application/vnd.jupyter.widget-view+json": {
       "model_id": "0f5521e176ec4f59840aa4083aeac68e",
       "version_major": 2,
       "version_minor": 0
      },
      "text/plain": [
       "  0%|          | 0/36 [00:00<?, ?it/s]"
      ]
     },
     "metadata": {},
     "output_type": "display_data"
    },
    {
     "data": {
      "application/vnd.jupyter.widget-view+json": {
       "model_id": "d72388ad43474354bca7d23abe576672",
       "version_major": 2,
       "version_minor": 0
      },
      "text/plain": [
       "  0%|          | 0/14 [00:00<?, ?it/s]"
      ]
     },
     "metadata": {},
     "output_type": "display_data"
    },
    {
     "data": {
      "application/vnd.jupyter.widget-view+json": {
       "model_id": "c7f6236aa9d44aacb59c74667cce6f07",
       "version_major": 2,
       "version_minor": 0
      },
      "text/plain": [
       "  0%|          | 0/3 [00:00<?, ?it/s]"
      ]
     },
     "metadata": {},
     "output_type": "display_data"
    },
    {
     "data": {
      "application/vnd.jupyter.widget-view+json": {
       "model_id": "84cbd7e2f8954504aa1f23fb27c07c59",
       "version_major": 2,
       "version_minor": 0
      },
      "text/plain": [
       "  0%|          | 0/5 [00:00<?, ?it/s]"
      ]
     },
     "metadata": {},
     "output_type": "display_data"
    },
    {
     "data": {
      "application/vnd.jupyter.widget-view+json": {
       "model_id": "70299c6d59de461bacb787f514e7a6fb",
       "version_major": 2,
       "version_minor": 0
      },
      "text/plain": [
       "  0%|          | 0/4 [00:00<?, ?it/s]"
      ]
     },
     "metadata": {},
     "output_type": "display_data"
    },
    {
     "data": {
      "application/vnd.jupyter.widget-view+json": {
       "model_id": "87f0d16d42524fa88fecef69ba3188cd",
       "version_major": 2,
       "version_minor": 0
      },
      "text/plain": [
       "  0%|          | 0/4 [00:00<?, ?it/s]"
      ]
     },
     "metadata": {},
     "output_type": "display_data"
    },
    {
     "data": {
      "application/vnd.jupyter.widget-view+json": {
       "model_id": "2f5e11d93fc848089e87c80046b9e76a",
       "version_major": 2,
       "version_minor": 0
      },
      "text/plain": [
       "  0%|          | 0/2 [00:00<?, ?it/s]"
      ]
     },
     "metadata": {},
     "output_type": "display_data"
    },
    {
     "data": {
      "application/vnd.jupyter.widget-view+json": {
       "model_id": "dff92a371db34b88b674f23f5d6c5829",
       "version_major": 2,
       "version_minor": 0
      },
      "text/plain": [
       "  0%|          | 0/2 [00:00<?, ?it/s]"
      ]
     },
     "metadata": {},
     "output_type": "display_data"
    },
    {
     "data": {
      "application/vnd.jupyter.widget-view+json": {
       "model_id": "6ec5569e082842f09d8d5b5285e04abd",
       "version_major": 2,
       "version_minor": 0
      },
      "text/plain": [
       "  0%|          | 0/12 [00:00<?, ?it/s]"
      ]
     },
     "metadata": {},
     "output_type": "display_data"
    },
    {
     "data": {
      "application/vnd.jupyter.widget-view+json": {
       "model_id": "ca1fe11c32c04c738f7919aced65601b",
       "version_major": 2,
       "version_minor": 0
      },
      "text/plain": [
       "  0%|          | 0/22 [00:00<?, ?it/s]"
      ]
     },
     "metadata": {},
     "output_type": "display_data"
    },
    {
     "data": {
      "application/vnd.jupyter.widget-view+json": {
       "model_id": "36e53b05db7a42208667f5774f0bce6d",
       "version_major": 2,
       "version_minor": 0
      },
      "text/plain": [
       "  0%|          | 0/13 [00:00<?, ?it/s]"
      ]
     },
     "metadata": {},
     "output_type": "display_data"
    },
    {
     "data": {
      "application/vnd.jupyter.widget-view+json": {
       "model_id": "2dae4d333f704bef8db0db57fa849709",
       "version_major": 2,
       "version_minor": 0
      },
      "text/plain": [
       "  0%|          | 0/9 [00:00<?, ?it/s]"
      ]
     },
     "metadata": {},
     "output_type": "display_data"
    },
    {
     "data": {
      "application/vnd.jupyter.widget-view+json": {
       "model_id": "43996f4d02ff43ff96d7ded351ab47de",
       "version_major": 2,
       "version_minor": 0
      },
      "text/plain": [
       "  0%|          | 0/14 [00:00<?, ?it/s]"
      ]
     },
     "metadata": {},
     "output_type": "display_data"
    },
    {
     "data": {
      "application/vnd.jupyter.widget-view+json": {
       "model_id": "87818601ff8d4c68946e9c0f5997bb0a",
       "version_major": 2,
       "version_minor": 0
      },
      "text/plain": [
       "  0%|          | 0/19 [00:00<?, ?it/s]"
      ]
     },
     "metadata": {},
     "output_type": "display_data"
    },
    {
     "data": {
      "application/vnd.jupyter.widget-view+json": {
       "model_id": "c264755ea61a47f382c3f45fa7601cbc",
       "version_major": 2,
       "version_minor": 0
      },
      "text/plain": [
       "  0%|          | 0/23 [00:00<?, ?it/s]"
      ]
     },
     "metadata": {},
     "output_type": "display_data"
    },
    {
     "data": {
      "application/vnd.jupyter.widget-view+json": {
       "model_id": "c08431e7ee424b5c83d6b84f80e34d54",
       "version_major": 2,
       "version_minor": 0
      },
      "text/plain": [
       "  0%|          | 0/14 [00:00<?, ?it/s]"
      ]
     },
     "metadata": {},
     "output_type": "display_data"
    },
    {
     "data": {
      "application/vnd.jupyter.widget-view+json": {
       "model_id": "95760359452b4ff3a8beb915dd767d85",
       "version_major": 2,
       "version_minor": 0
      },
      "text/plain": [
       "  0%|          | 0/12 [00:00<?, ?it/s]"
      ]
     },
     "metadata": {},
     "output_type": "display_data"
    },
    {
     "data": {
      "application/vnd.jupyter.widget-view+json": {
       "model_id": "86b236b68fb24db8a103e210739fb202",
       "version_major": 2,
       "version_minor": 0
      },
      "text/plain": [
       "  0%|          | 0/24 [00:00<?, ?it/s]"
      ]
     },
     "metadata": {},
     "output_type": "display_data"
    },
    {
     "data": {
      "application/vnd.jupyter.widget-view+json": {
       "model_id": "6fe7ab83087744d995acd89c2a389bd7",
       "version_major": 2,
       "version_minor": 0
      },
      "text/plain": [
       "  0%|          | 0/15 [00:00<?, ?it/s]"
      ]
     },
     "metadata": {},
     "output_type": "display_data"
    },
    {
     "data": {
      "application/vnd.jupyter.widget-view+json": {
       "model_id": "39e73343e69b4aba9556f1c1ed12fe14",
       "version_major": 2,
       "version_minor": 0
      },
      "text/plain": [
       "  0%|          | 0/11 [00:00<?, ?it/s]"
      ]
     },
     "metadata": {},
     "output_type": "display_data"
    },
    {
     "data": {
      "application/vnd.jupyter.widget-view+json": {
       "model_id": "e5dc17b5c65743f0b1f45e89a0d616d4",
       "version_major": 2,
       "version_minor": 0
      },
      "text/plain": [
       "  0%|          | 0/13 [00:00<?, ?it/s]"
      ]
     },
     "metadata": {},
     "output_type": "display_data"
    },
    {
     "data": {
      "application/vnd.jupyter.widget-view+json": {
       "model_id": "8df5c01a32494fb78ca0a4613037833b",
       "version_major": 2,
       "version_minor": 0
      },
      "text/plain": [
       "  0%|          | 0/13 [00:00<?, ?it/s]"
      ]
     },
     "metadata": {},
     "output_type": "display_data"
    },
    {
     "data": {
      "application/vnd.jupyter.widget-view+json": {
       "model_id": "0b8fc8526b8d49d2843615452babdec7",
       "version_major": 2,
       "version_minor": 0
      },
      "text/plain": [
       "  0%|          | 0/15 [00:00<?, ?it/s]"
      ]
     },
     "metadata": {},
     "output_type": "display_data"
    },
    {
     "data": {
      "application/vnd.jupyter.widget-view+json": {
       "model_id": "de60917dce2f452db235449258cfa8aa",
       "version_major": 2,
       "version_minor": 0
      },
      "text/plain": [
       "  0%|          | 0/16 [00:00<?, ?it/s]"
      ]
     },
     "metadata": {},
     "output_type": "display_data"
    },
    {
     "data": {
      "application/vnd.jupyter.widget-view+json": {
       "model_id": "644c7eeafbce4979aed137b5a40195ac",
       "version_major": 2,
       "version_minor": 0
      },
      "text/plain": [
       "  0%|          | 0/13 [00:00<?, ?it/s]"
      ]
     },
     "metadata": {},
     "output_type": "display_data"
    },
    {
     "data": {
      "application/vnd.jupyter.widget-view+json": {
       "model_id": "4cbd99ad312a4abba1eadd1bf3fa57db",
       "version_major": 2,
       "version_minor": 0
      },
      "text/plain": [
       "  0%|          | 0/15 [00:00<?, ?it/s]"
      ]
     },
     "metadata": {},
     "output_type": "display_data"
    },
    {
     "data": {
      "application/vnd.jupyter.widget-view+json": {
       "model_id": "8c64aaae59984f08b8f17e9be4cac455",
       "version_major": 2,
       "version_minor": 0
      },
      "text/plain": [
       "  0%|          | 0/221 [00:00<?, ?it/s]"
      ]
     },
     "metadata": {},
     "output_type": "display_data"
    },
    {
     "data": {
      "application/vnd.jupyter.widget-view+json": {
       "model_id": "93be5adff2654979b82f8dd4be9a54f2",
       "version_major": 2,
       "version_minor": 0
      },
      "text/plain": [
       "  0%|          | 0/19 [00:00<?, ?it/s]"
      ]
     },
     "metadata": {},
     "output_type": "display_data"
    },
    {
     "data": {
      "application/vnd.jupyter.widget-view+json": {
       "model_id": "5cafbc2c5db54488b4b5a00a97613803",
       "version_major": 2,
       "version_minor": 0
      },
      "text/plain": [
       "  0%|          | 0/56 [00:00<?, ?it/s]"
      ]
     },
     "metadata": {},
     "output_type": "display_data"
    },
    {
     "data": {
      "application/vnd.jupyter.widget-view+json": {
       "model_id": "acfe6f4861324158af5a41bbbbe46f68",
       "version_major": 2,
       "version_minor": 0
      },
      "text/plain": [
       "  0%|          | 0/169 [00:00<?, ?it/s]"
      ]
     },
     "metadata": {},
     "output_type": "display_data"
    },
    {
     "data": {
      "application/vnd.jupyter.widget-view+json": {
       "model_id": "6e52f38f3edf4098a1d8c7dbb9f23adf",
       "version_major": 2,
       "version_minor": 0
      },
      "text/plain": [
       "  0%|          | 0/28 [00:00<?, ?it/s]"
      ]
     },
     "metadata": {},
     "output_type": "display_data"
    },
    {
     "data": {
      "application/vnd.jupyter.widget-view+json": {
       "model_id": "caf02c7e8e0b4a6989efad1402aad102",
       "version_major": 2,
       "version_minor": 0
      },
      "text/plain": [
       "  0%|          | 0/90 [00:00<?, ?it/s]"
      ]
     },
     "metadata": {},
     "output_type": "display_data"
    },
    {
     "data": {
      "application/vnd.jupyter.widget-view+json": {
       "model_id": "ca552d65562f4505a036eceac3064395",
       "version_major": 2,
       "version_minor": 0
      },
      "text/plain": [
       "  0%|          | 0/18 [00:00<?, ?it/s]"
      ]
     },
     "metadata": {},
     "output_type": "display_data"
    },
    {
     "data": {
      "application/vnd.jupyter.widget-view+json": {
       "model_id": "1a73a6ea002b4d04ab50afd957c1ad84",
       "version_major": 2,
       "version_minor": 0
      },
      "text/plain": [
       "  0%|          | 0/7 [00:00<?, ?it/s]"
      ]
     },
     "metadata": {},
     "output_type": "display_data"
    },
    {
     "data": {
      "application/vnd.jupyter.widget-view+json": {
       "model_id": "3b04e443ac6b4032b737f3629fe38002",
       "version_major": 2,
       "version_minor": 0
      },
      "text/plain": [
       "  0%|          | 0/20 [00:00<?, ?it/s]"
      ]
     },
     "metadata": {},
     "output_type": "display_data"
    },
    {
     "data": {
      "application/vnd.jupyter.widget-view+json": {
       "model_id": "1dac5fb8a7cb4bffaca4db005c99a12d",
       "version_major": 2,
       "version_minor": 0
      },
      "text/plain": [
       "  0%|          | 0/49 [00:00<?, ?it/s]"
      ]
     },
     "metadata": {},
     "output_type": "display_data"
    },
    {
     "data": {
      "application/vnd.jupyter.widget-view+json": {
       "model_id": "9ebd920a2cb445f5bd81e7efc4891cd9",
       "version_major": 2,
       "version_minor": 0
      },
      "text/plain": [
       "  0%|          | 0/24 [00:00<?, ?it/s]"
      ]
     },
     "metadata": {},
     "output_type": "display_data"
    },
    {
     "data": {
      "application/vnd.jupyter.widget-view+json": {
       "model_id": "4bbde67608954f72bda6ecbd6713d006",
       "version_major": 2,
       "version_minor": 0
      },
      "text/plain": [
       "  0%|          | 0/13 [00:00<?, ?it/s]"
      ]
     },
     "metadata": {},
     "output_type": "display_data"
    },
    {
     "data": {
      "application/vnd.jupyter.widget-view+json": {
       "model_id": "41df4791099749698f277cae5098a12a",
       "version_major": 2,
       "version_minor": 0
      },
      "text/plain": [
       "  0%|          | 0/8 [00:00<?, ?it/s]"
      ]
     },
     "metadata": {},
     "output_type": "display_data"
    },
    {
     "data": {
      "application/vnd.jupyter.widget-view+json": {
       "model_id": "8d2982d843b94c5b83b102bbc7c31a0a",
       "version_major": 2,
       "version_minor": 0
      },
      "text/plain": [
       "  0%|          | 0/19 [00:00<?, ?it/s]"
      ]
     },
     "metadata": {},
     "output_type": "display_data"
    },
    {
     "data": {
      "application/vnd.jupyter.widget-view+json": {
       "model_id": "e48ccdb5c2c44da5ba5d616065335a5b",
       "version_major": 2,
       "version_minor": 0
      },
      "text/plain": [
       "  0%|          | 0/17 [00:00<?, ?it/s]"
      ]
     },
     "metadata": {},
     "output_type": "display_data"
    },
    {
     "data": {
      "application/vnd.jupyter.widget-view+json": {
       "model_id": "024524a4c3ac48c991607ac520644218",
       "version_major": 2,
       "version_minor": 0
      },
      "text/plain": [
       "  0%|          | 0/9 [00:00<?, ?it/s]"
      ]
     },
     "metadata": {},
     "output_type": "display_data"
    },
    {
     "data": {
      "application/vnd.jupyter.widget-view+json": {
       "model_id": "d6319e698de840dfabba8eec12b85984",
       "version_major": 2,
       "version_minor": 0
      },
      "text/plain": [
       "  0%|          | 0/17 [00:00<?, ?it/s]"
      ]
     },
     "metadata": {},
     "output_type": "display_data"
    },
    {
     "data": {
      "application/vnd.jupyter.widget-view+json": {
       "model_id": "3373a7bac77343daa2178a61bf2e0b12",
       "version_major": 2,
       "version_minor": 0
      },
      "text/plain": [
       "  0%|          | 0/10 [00:00<?, ?it/s]"
      ]
     },
     "metadata": {},
     "output_type": "display_data"
    },
    {
     "data": {
      "application/vnd.jupyter.widget-view+json": {
       "model_id": "c821ce9746c04178bfba40e8c1210459",
       "version_major": 2,
       "version_minor": 0
      },
      "text/plain": [
       "  0%|          | 0/11 [00:00<?, ?it/s]"
      ]
     },
     "metadata": {},
     "output_type": "display_data"
    },
    {
     "name": "stdout",
     "output_type": "stream",
     "text": [
      "Synapsse Results:\n",
      "Total Number of Synapses = 6474\n",
      "n_valid_syn_ids_presyn = 66\n",
      "n_errored_syn_ids_presyn = 385\n",
      "n_valid_syn_ids_postsyn = 6018\n",
      "n_errored_syn_ids_postsyn = 5\n",
      "Synapsse Results:\n",
      "Total Number of Synapses = 6474\n",
      "n_valid_syn_ids_presyn = 66\n",
      "n_errored_syn_ids_presyn = 385\n",
      "n_valid_syn_ids_postsyn = 6018\n",
      "n_errored_syn_ids_postsyn = 5\n"
     ]
    },
    {
     "data": {
      "application/vnd.jupyter.widget-view+json": {
       "model_id": "a58c884f42ed493ba3d535ce67a7b5c2",
       "version_major": 2,
       "version_minor": 0
      },
      "text/plain": [
       "  0%|          | 0/22 [00:00<?, ?it/s]"
      ]
     },
     "metadata": {},
     "output_type": "display_data"
    },
    {
     "data": {
      "application/vnd.jupyter.widget-view+json": {
       "model_id": "b6f0afedca6c48e28a345148a24cf0a1",
       "version_major": 2,
       "version_minor": 0
      },
      "text/plain": [
       "  0%|          | 0/6 [00:00<?, ?it/s]"
      ]
     },
     "metadata": {},
     "output_type": "display_data"
    },
    {
     "name": "stdout",
     "output_type": "stream",
     "text": [
      "Synapsse Results:\n",
      "Total Number of Synapses = 6474\n",
      "n_valid_syn_ids_presyn = 66\n",
      "n_errored_syn_ids_presyn = 385\n",
      "n_valid_syn_ids_postsyn = 6018\n",
      "n_errored_syn_ids_postsyn = 5\n",
      "Synapsse Results:\n",
      "Total Number of Synapses = 6474\n",
      "n_valid_syn_ids_presyn = 66\n",
      "n_errored_syn_ids_presyn = 385\n",
      "n_valid_syn_ids_postsyn = 6018\n",
      "n_errored_syn_ids_postsyn = 5\n"
     ]
    },
    {
     "data": {
      "application/vnd.jupyter.widget-view+json": {
       "model_id": "2a4ddd539c954087bc60d86db4654dd5",
       "version_major": 2,
       "version_minor": 0
      },
      "text/plain": [
       "  0%|          | 0/22 [00:00<?, ?it/s]"
      ]
     },
     "metadata": {},
     "output_type": "display_data"
    },
    {
     "data": {
      "application/vnd.jupyter.widget-view+json": {
       "model_id": "d4f301b14d8f47c4964bccfce18814c6",
       "version_major": 2,
       "version_minor": 0
      },
      "text/plain": [
       "  0%|          | 0/6 [00:00<?, ?it/s]"
      ]
     },
     "metadata": {},
     "output_type": "display_data"
    },
    {
     "name": "stdout",
     "output_type": "stream",
     "text": [
      "\n",
      "\n",
      "len(branch_attr_keys) = 28\n",
      "Saving Neuorn in suppress_output mode...please wait\n",
      "Saved File at location: /mnt/dj-stor01/platinum/minnie65/02/decomposition/864691135348272855_0_25_full_axon\n",
      "Save time = 388.1166670322418\n",
      "\n",
      "\n",
      " ***------ Total time for 864691135348272855 = 1171.8226039409637 ------ ***\n",
      "\n",
      "\n",
      "\n",
      "---- Working on Neuron 864691135699269154 ----\n",
      "Decompressing Neuron in minimal output mode...please wait\n",
      "Pulled from Table Decomposition so setting split_index = 0\n",
      "Dont need spine recalculation\n",
      "Number of Neurons found = 1\n",
      "\n",
      "Part 1: Axon like branchese \n",
      "{'L0': array([  3,   5,   6,   8,  10,  12,  19,  26,  27,  29,  30,  31,  37,\n",
      "        38,  39,  41,  43,  44,  49,  50,  51,  52,  56,  57,  58,  59,\n",
      "        60,  61,  62,  63,  64,  65,  66,  67,  68,  69,  70,  71,  72,\n",
      "        73,  74,  75,  76,  77,  78,  79,  80,  81,  82,  83,  84,  85,\n",
      "        86,  87,  88,  89,  90,  91,  92,  93,  94,  95,  96,  97,  98,\n",
      "        99, 100]), 'L1': array([ 3,  5, 19, 20]), 'L2': array([1, 8]), 'L3': array([11])}\n",
      "Limb L0 soma angle: 161.7 \n",
      "Limb L1 soma angle: 27.01 \n",
      "Limb L2 soma angle: 91.89 \n",
      "Limb L3 soma angle: 110.01 \n",
      "Limb L4 soma angle: 79.97 \n",
      "Limb L5 soma angle: 68.93 \n",
      "\n",
      "Part 2: possible_axon_limbs = [0, 2, 3, 4]\n",
      "\n",
      "Phase 2: Working on Limb L0\n",
      "nodes_to_eliminate = [53 54]\n",
      "\n",
      "Phase 2: Working on Limb L2\n",
      "nodes_to_eliminate = [11 12]\n",
      "\n",
      "Phase 2: Working on Limb L3\n",
      "nodes_to_eliminate = [0]\n",
      "\n",
      "Phase 2: Working on Limb L4\n",
      "nodes_to_eliminate = [3 4]\n",
      "\n",
      "----Working on Limb L0-----\n",
      "No endpoints were eliminated so don't need to add back any candidates\n",
      "\n",
      "----Working on Limb L2-----\n",
      "No endpoints were eliminated so don't need to add back any candidates\n",
      "\n",
      "----Working on Limb L3-----\n",
      "No endpoints were eliminated so don't need to add back any candidates\n",
      "\n",
      "----Working on Limb L4-----\n",
      "New candidates added back: [[4]]\n",
      "Final Candidates\n",
      "\n",
      "Limb 0\n",
      "Candidate 0 (forestgreen): array([55])\n",
      "Candidate 1 (darkslategray): array([ 0,  1,  2,  3,  4,  5,  6,  7,  8,  9, 10, 11, 12, 13, 14, 15, 16,\n",
      "       17, 18, 20, 21, 22, 23, 24, 25, 26, 27, 28, 30, 32, 33, 34, 35, 36,\n",
      "       37, 38, 39, 40, 41, 42, 45, 46, 47, 48])\n",
      "Candidate 2 (pink): array([ 19,  29,  31,  43,  44,  49,  50,  51,  52,  56,  57,  58,  59,\n",
      "        60,  61,  62,  63,  64,  65,  66,  67,  68,  69,  70,  71,  72,\n",
      "        73,  74,  75,  76,  77,  78,  79,  80,  81,  82,  83,  84,  85,\n",
      "        86,  87,  88,  89,  90,  91,  92,  93,  94,  95,  96,  97,  98,\n",
      "        99, 100])\n",
      "\n",
      "Limb 2\n",
      "Candidate 0 (tan): array([0, 1, 2, 3, 4, 6, 9])\n",
      "Candidate 1 (brown): array([8, 5, 7])\n",
      "Candidate 2 (tan): array([10])\n",
      "\n",
      "Limb 3\n",
      "Candidate 0 (darkslategray): array([1])\n",
      "Candidate 1 (olive): array([ 2,  3,  4,  5,  6,  7,  8,  9, 10, 11, 12])\n",
      "\n",
      "Limb 4\n",
      "Candidate 0 (crimson): array([0])\n",
      "Candidate 1 (palegreen): array([1])\n",
      "Candidate 2 (tan): array([2])\n",
      "Candidate 3 (palegreen): array([4])\n",
      "Part 3: axon_subgraph_candidates = {0: [[55], [0, 1, 2, 3, 4, 5, 6, 7, 8, 9, 10, 11, 12, 13, 14, 15, 16, 17, 18, 20, 21, 22, 23, 24, 25, 26, 27, 28, 30, 32, 33, 34, 35, 36, 37, 38, 39, 40, 41, 42, 45, 46, 47, 48], [19, 29, 31, 43, 44, 49, 50, 51, 52, 56, 57, 58, 59, 60, 61, 62, 63, 64, 65, 66, 67, 68, 69, 70, 71, 72, 73, 74, 75, 76, 77, 78, 79, 80, 81, 82, 83, 84, 85, 86, 87, 88, 89, 90, 91, 92, 93, 94, 95, 96, 97, 98, 99, 100]], 2: [[0, 1, 2, 3, 4, 6, 9], [8, 5, 7], [10]], 3: [[1], [2, 3, 4, 5, 6, 7, 8, 9, 10, 11, 12]], 4: [[0], [1], [2], [4]]}\n",
      "\n",
      "\n",
      " --- Working on limb 0, candidate # 0\n",
      "0 out of 1 branches are axons\n",
      "Axon percentage = 0.0\n",
      "Not adding candidate no axon branches detected \n",
      "\n",
      "\n",
      " --- Working on limb 0, candidate # 1\n",
      "13 out of 44 branches are axons\n",
      "Axon percentage = 0.29545454545454547\n",
      "curr_axon_angle_threshold = 120\n",
      "candidate_nodes = [ 0  1  2  3  4  5  6  7  8  9 10 11 12 13 14 15 16 17 18 20 21 22 23 24\n",
      " 25 26 27 28 30 32 33 34 35 36 37 38 39 40 41 42 45 46 47 48 53 54]\n",
      "non_axon_branches_on_subgraph = [ 0  1  2  4  7  9 11 13 14 15 16 17 18 20 21 22 23 24 25 28 32 33 34 35\n",
      " 36 40 42 45 46 47 48 53 54]\n",
      "endnodes_to_test = []\n",
      "candidate_angles,restr_skels = (None, None)\n",
      "Not adding candidate because no angles (None) passed the threhold 120 \n",
      "\n",
      "\n",
      " --- Working on limb 0, candidate # 2\n",
      "54 out of 54 branches are axons\n",
      "Axon percentage = 1.0\n",
      "curr_axon_angle_threshold = 95\n",
      "candidate_nodes = [ 19  29  31  43  44  49  50  51  52  53  54  56  57  58  59  60  61  62\n",
      "  63  64  65  66  67  68  69  70  71  72  73  74  75  76  77  78  79  80\n",
      "  81  82  83  84  85  86  87  88  89  90  91  92  93  94  95  96  97  98\n",
      "  99 100]\n",
      "non_axon_branches_on_subgraph = [53 54]\n",
      "endnodes_to_test = [3700]\n",
      "Skeleton paths distances = [24929.98770217]\n",
      "Filtered indexes = [0]\n",
      "len(filtered_skeletons) = 1\n",
      "sk_angles = [166.78259696]\n",
      "candidate_angles,restr_skels = (array([166.78259696]), [array([[[1321670.        ,  780696.        ,  775161.        ],\n",
      "        [1321610.        ,  780806.        ,  775211.        ]],\n",
      "\n",
      "       [[1321610.        ,  780806.        ,  775211.        ],\n",
      "        [1321490.        ,  780971.        ,  775274.        ]],\n",
      "\n",
      "       [[1321490.        ,  780971.        ,  775274.        ],\n",
      "        [1321440.        ,  781047.        ,  775309.        ]],\n",
      "\n",
      "       [[1321440.        ,  781047.        ,  775309.        ],\n",
      "        [1321320.        ,  781135.        ,  775349.        ]],\n",
      "\n",
      "       [[1321320.        ,  781135.        ,  775349.        ],\n",
      "        [1321230.        ,  781211.        ,  775394.        ]],\n",
      "\n",
      "       [[1321230.        ,  781211.        ,  775394.        ],\n",
      "        [1321260.21431131,  781301.80322643,  775423.01498685]],\n",
      "\n",
      "       [[1321260.21431131,  781301.80322643,  775423.01498685],\n",
      "        [1321290.42862262,  781392.60645286,  775452.0299737 ]],\n",
      "\n",
      "       [[1321290.42862262,  781392.60645286,  775452.0299737 ],\n",
      "        [1321320.64293393,  781483.40967929,  775481.04496055]],\n",
      "\n",
      "       [[1321320.64293393,  781483.40967929,  775481.04496055],\n",
      "        [1321350.85724524,  781574.21290572,  775510.0599474 ]],\n",
      "\n",
      "       [[1321350.85724524,  781574.21290572,  775510.0599474 ],\n",
      "        [1321381.07155655,  781665.01613215,  775539.07493425]],\n",
      "\n",
      "       [[1321381.07155655,  781665.01613215,  775539.07493425],\n",
      "        [1321411.28586786,  781755.81935858,  775568.08992111]],\n",
      "\n",
      "       [[1321411.28586786,  781755.81935858,  775568.08992111],\n",
      "        [1321441.50017917,  781846.62258501,  775597.10490796]],\n",
      "\n",
      "       [[1321441.50017917,  781846.62258501,  775597.10490796],\n",
      "        [1321471.71449048,  781937.42581144,  775626.11989481]],\n",
      "\n",
      "       [[1321471.71449048,  781937.42581144,  775626.11989481],\n",
      "        [1321501.92880179,  782028.22903787,  775655.13488166]],\n",
      "\n",
      "       [[1321501.92880179,  782028.22903787,  775655.13488166],\n",
      "        [1321532.1431131 ,  782119.0322643 ,  775684.14986851]],\n",
      "\n",
      "       [[1321532.1431131 ,  782119.0322643 ,  775684.14986851],\n",
      "        [1321562.35742441,  782209.83549073,  775713.16485536]],\n",
      "\n",
      "       [[1321562.35742441,  782209.83549073,  775713.16485536],\n",
      "        [1321592.57173572,  782300.63871716,  775742.17984221]],\n",
      "\n",
      "       [[1321592.57173572,  782300.63871716,  775742.17984221],\n",
      "        [1321622.78604703,  782391.44194359,  775771.19482906]],\n",
      "\n",
      "       [[1321622.78604703,  782391.44194359,  775771.19482906],\n",
      "        [1321653.00035834,  782482.24517002,  775800.20981591]],\n",
      "\n",
      "       [[1321653.00035834,  782482.24517002,  775800.20981591],\n",
      "        [1321683.21466965,  782573.04839645,  775829.22480277]],\n",
      "\n",
      "       [[1321683.21466965,  782573.04839645,  775829.22480277],\n",
      "        [1321713.42898096,  782663.85162288,  775858.23978962]],\n",
      "\n",
      "       [[1321713.42898096,  782663.85162288,  775858.23978962],\n",
      "        [1321743.64329226,  782754.65484931,  775887.25477647]],\n",
      "\n",
      "       [[1321743.64329226,  782754.65484931,  775887.25477647],\n",
      "        [1321773.85760357,  782845.45807574,  775916.26976332]],\n",
      "\n",
      "       [[1321773.85760357,  782845.45807574,  775916.26976332],\n",
      "        [1321804.07191488,  782936.26130217,  775945.28475017]],\n",
      "\n",
      "       [[1321804.07191488,  782936.26130217,  775945.28475017],\n",
      "        [1321834.28622619,  783027.0645286 ,  775974.29973702]],\n",
      "\n",
      "       [[1321834.28622619,  783027.0645286 ,  775974.29973702],\n",
      "        [1321864.5005375 ,  783117.86775503,  776003.31472387]],\n",
      "\n",
      "       [[1321864.5005375 ,  783117.86775503,  776003.31472387],\n",
      "        [1321894.71484881,  783208.67098146,  776032.32971072]],\n",
      "\n",
      "       [[1321894.71484881,  783208.67098146,  776032.32971072],\n",
      "        [1321924.92916012,  783299.47420789,  776061.34469757]],\n",
      "\n",
      "       [[1321924.92916012,  783299.47420789,  776061.34469757],\n",
      "        [1321955.14580607,  783390.29027138,  776090.31558755]],\n",
      "\n",
      "       [[1321955.14580607,  783390.29027138,  776090.31558755],\n",
      "        [1321985.4565769 ,  783481.69927344,  776117.15730057]],\n",
      "\n",
      "       [[1321985.4565769 ,  783481.69927344,  776117.15730057],\n",
      "        [1322015.77876226,  783576.04563706,  776130.54602335]],\n",
      "\n",
      "       [[1322015.77876226,  783576.04563706,  776130.54602335],\n",
      "        [1322045.33451265,  783670.81902907,  776142.56109015]],\n",
      "\n",
      "       [[1322045.33451265,  783670.81902907,  776142.56109015],\n",
      "        [1322073.88374248,  783766.08200891,  776153.03794794]],\n",
      "\n",
      "       [[1322073.88374248,  783766.08200891,  776153.03794794],\n",
      "        [1322101.11756184,  783861.90053751,  776161.80925282]],\n",
      "\n",
      "       [[1322101.11756184,  783861.90053751,  776161.80925282],\n",
      "        [1322126.68218157,  783958.32690372,  776168.74857368]],\n",
      "\n",
      "       [[1322126.68218157,  783958.32690372,  776168.74857368],\n",
      "        [1322150.18858234,  784055.39223034,  776173.79305165]],\n",
      "\n",
      "       [[1322150.18858234,  784055.39223034,  776173.79305165],\n",
      "        [1322171.20702974,  784153.10620632,  776176.9229709 ]],\n",
      "\n",
      "       [[1322171.20702974,  784153.10620632,  776176.9229709 ],\n",
      "        [1322189.2918932 ,  784251.44666506,  776178.18610168]],\n",
      "\n",
      "       [[1322189.2918932 ,  784251.44666506,  776178.18610168],\n",
      "        [1322204.00827223,  784350.35373595,  776177.69986349]],\n",
      "\n",
      "       [[1322204.00827223,  784350.35373595,  776177.69986349],\n",
      "        [1322214.96944301,  784449.72679644,  776175.65323191]],\n",
      "\n",
      "       [[1322214.96944301,  784449.72679644,  776175.65323191],\n",
      "        [1322221.86800989,  784549.42833995,  776172.29225117]],\n",
      "\n",
      "       [[1322221.86800989,  784549.42833995,  776172.29225117],\n",
      "        [1322224.49771466,  784649.2934137 ,  776167.89878005]],\n",
      "\n",
      "       [[1322224.49771466,  784649.2934137 ,  776167.89878005],\n",
      "        [1322224.55755271,  784748.84595244,  776162.81399429]],\n",
      "\n",
      "       [[1322224.55755271,  784748.84595244,  776162.81399429],\n",
      "        [1322260.56769487,  784841.7067264 ,  776158.24799036]],\n",
      "\n",
      "       [[1322260.56769487,  784841.7067264 ,  776158.24799036],\n",
      "        [1322264.56401638,  784941.11311502,  776151.11330353]],\n",
      "\n",
      "       [[1322264.56401638,  784941.11311502,  776151.11330353],\n",
      "        [1322247.57459254,  785039.32053322,  776143.0866932 ]],\n",
      "\n",
      "       [[1322247.57459254,  785039.32053322,  776143.0866932 ],\n",
      "        [1322226.04726791,  785136.71019382,  776136.00040419]],\n",
      "\n",
      "       [[1322226.04726791,  785136.71019382,  776136.00040419],\n",
      "        [1322200.76899114,  785233.25447623,  776129.73507598]],\n",
      "\n",
      "       [[1322200.76899114,  785233.25447623,  776129.73507598],\n",
      "        [1322172.52213552,  785329.02208579,  776124.33662332]],\n",
      "\n",
      "       [[1322172.52213552,  785329.02208579,  776124.33662332],\n",
      "        [1322140.90335218,  785423.7910997 ,  776120.00929196]],\n",
      "\n",
      "       [[1322140.90335218,  785423.7910997 ,  776120.00929196],\n",
      "        [1322107.41872431,  785517.93984674,  776116.3282259 ]],\n",
      "\n",
      "       [[1322107.41872431,  785517.93984674,  776116.3282259 ],\n",
      "        [1322071.01923103,  785611.0434257 ,  776113.79444215]],\n",
      "\n",
      "       [[1322071.01923103,  785611.0434257 ,  776113.79444215],\n",
      "        [1322032.96704625,  785703.50003714,  776111.92387462]],\n",
      "\n",
      "       [[1322032.96704625,  785703.50003714,  776111.92387462],\n",
      "        [1321993.43875607,  785795.34590223,  776110.68025506]],\n",
      "\n",
      "       [[1321993.43875607,  785795.34590223,  776110.68025506],\n",
      "        [1321952.54344112,  785886.59862935,  776110.01770828]],\n",
      "\n",
      "       [[1321952.54344112,  785886.59862935,  776110.01770828],\n",
      "        [1321910.90502377,  785977.51606265,  776109.63666852]],\n",
      "\n",
      "       [[1321910.90502377,  785977.51606265,  776109.63666852],\n",
      "        [1321868.41673261,  786068.04070967,  776109.54661377]],\n",
      "\n",
      "       [[1321868.41673261,  786068.04070967,  776109.54661377],\n",
      "        [1321825.53191379,  786158.37831739,  776109.55552081]],\n",
      "\n",
      "       [[1321825.53191379,  786158.37831739,  776109.55552081],\n",
      "        [1321782.44153867,  786248.61798201,  776109.41616129]],\n",
      "\n",
      "       [[1321782.44153867,  786248.61798201,  776109.41616129],\n",
      "        [1321739.28158676,  786338.82388555,  776109.13747637]],\n",
      "\n",
      "       [[1321739.28158676,  786338.82388555,  776109.13747637],\n",
      "        [1321696.43516438,  786429.17673909,  776108.41672622]],\n",
      "\n",
      "       [[1321696.43516438,  786429.17673909,  776108.41672622],\n",
      "        [1321653.89458795,  786519.66963409,  776107.29111745]],\n",
      "\n",
      "       [[1321653.89458795,  786519.66963409,  776107.29111745],\n",
      "        [1321611.87663248,  786610.39798214,  776105.62308842]],\n",
      "\n",
      "       [[1321611.87663248,  786610.39798214,  776105.62308842],\n",
      "        [1321570.42023679,  786701.37245521,  776103.40201278]],\n",
      "\n",
      "       [[1321570.42023679,  786701.37245521,  776103.40201278],\n",
      "        [1321529.56942486,  786792.60602038,  776100.6524823 ]],\n",
      "\n",
      "       [[1321529.56942486,  786792.60602038,  776100.6524823 ],\n",
      "        [1321489.35729209,  786884.10604579,  776097.38685453]],\n",
      "\n",
      "       [[1321489.35729209,  786884.10604579,  776097.38685453],\n",
      "        [1321449.74280384,  786975.85209036,  776093.74022808]],\n",
      "\n",
      "       [[1321449.74280384,  786975.85209036,  776093.74022808],\n",
      "        [1321410.71363689,  787067.83711974,  776089.81160402]],\n",
      "\n",
      "       [[1321410.71363689,  787067.83711974,  776089.81160402],\n",
      "        [1321372.24261112,  787160.05515327,  776085.83909572]],\n",
      "\n",
      "       [[1321372.24261112,  787160.05515327,  776085.83909572],\n",
      "        [1321334.2747947 ,  787252.487945  ,  776082.02795214]],\n",
      "\n",
      "       [[1321334.2747947 ,  787252.487945  ,  776082.02795214],\n",
      "        [1321296.88041042,  787345.17892447,  776078.87234983]],\n",
      "\n",
      "       [[1321296.88041042,  787345.17892447,  776078.87234983],\n",
      "        [1321259.97708872,  787438.08947817,  776076.5929639 ]],\n",
      "\n",
      "       [[1321259.97708872,  787438.08947817,  776076.5929639 ],\n",
      "        [1321223.83202321,  787531.3236852 ,  776076.43930037]],\n",
      "\n",
      "       [[1321223.83202321,  787531.3236852 ,  776076.43930037],\n",
      "        [1321188.44512044,  787624.81602957,  776078.89927051]],\n",
      "\n",
      "       [[1321188.44512044,  787624.81602957,  776078.89927051],\n",
      "        [1321153.78549276,  787718.4438904 ,  776084.32579291]],\n",
      "\n",
      "       [[1321153.78549276,  787718.4438904 ,  776084.32579291],\n",
      "        [1321120.12109051,  787812.02651722,  776094.64051329]],\n",
      "\n",
      "       [[1321120.12109051,  787812.02651722,  776094.64051329],\n",
      "        [1321087.14152334,  787905.27402696,  776109.33182777]],\n",
      "\n",
      "       [[1321087.14152334,  787905.27402696,  776109.33182777],\n",
      "        [1321054.4632614 ,  787998.01504169,  776127.4723712 ]],\n",
      "\n",
      "       [[1321054.4632614 ,  787998.01504169,  776127.4723712 ],\n",
      "        [1321021.60405804,  788089.86709703,  776149.44167778]],\n",
      "\n",
      "       [[1321021.60405804,  788089.86709703,  776149.44167778],\n",
      "        [1320988.20638944,  788180.94517338,  776173.70751397]],\n",
      "\n",
      "       [[1320988.20638944,  788180.94517338,  776173.70751397],\n",
      "        [1320953.81235392,  788271.21672282,  776199.54793035]],\n",
      "\n",
      "       [[1320953.81235392,  788271.21672282,  776199.54793035],\n",
      "        [1320918.28278843,  788360.74293629,  776226.42388966]],\n",
      "\n",
      "       [[1320918.28278843,  788360.74293629,  776226.42388966],\n",
      "        [1320881.38141024,  788449.52446691,  776253.91795101]],\n",
      "\n",
      "       [[1320881.38141024,  788449.52446691,  776253.91795101],\n",
      "        [1320843.30715014,  788537.70024406,  776281.75497453]],\n",
      "\n",
      "       [[1320843.30715014,  788537.70024406,  776281.75497453],\n",
      "        [1320803.60198886,  788625.09552425,  776309.77992391]],\n",
      "\n",
      "       [[1320803.60198886,  788625.09552425,  776309.77992391],\n",
      "        [1320762.8086514 ,  788711.9560835 ,  776337.90096237]],\n",
      "\n",
      "       [[1320762.8086514 ,  788711.9560835 ,  776337.90096237],\n",
      "        [1320720.54266913,  788798.1078034 ,  776366.0284831 ]],\n",
      "\n",
      "       [[1320720.54266913,  788798.1078034 ,  776366.0284831 ],\n",
      "        [1320677.01985075,  788883.63313132,  776394.15543564]],\n",
      "\n",
      "       [[1320677.01985075,  788883.63313132,  776394.15543564],\n",
      "        [1320632.74822579,  788968.77361217,  776422.27451325]],\n",
      "\n",
      "       [[1320632.74822579,  788968.77361217,  776422.27451325],\n",
      "        [1320586.96430129,  789053.12022796,  776450.36940391]],\n",
      "\n",
      "       [[1320586.96430129,  789053.12022796,  776450.36940391],\n",
      "        [1320540.27262458,  789136.97388144,  776478.44752084]],\n",
      "\n",
      "       [[1320540.27262458,  789136.97388144,  776478.44752084],\n",
      "        [1320492.83215856,  789220.40622808,  776506.52121267]],\n",
      "\n",
      "       [[1320492.83215856,  789220.40622808,  776506.52121267],\n",
      "        [1320444.17858967,  789303.14213883,  776534.58415899]],\n",
      "\n",
      "       [[1320444.17858967,  789303.14213883,  776534.58415899],\n",
      "        [1320394.88407798,  789385.5004673 ,  776562.63870128]],\n",
      "\n",
      "       [[1320394.88407798,  789385.5004673 ,  776562.63870128],\n",
      "        [1320344.79239584,  789467.38037973,  776590.67922799]],\n",
      "\n",
      "       [[1320344.79239584,  789467.38037973,  776590.67922799],\n",
      "        [1320293.69926605,  789548.64751299,  776618.69904174]],\n",
      "\n",
      "       [[1320293.69926605,  789548.64751299,  776618.69904174],\n",
      "        [1320242.1214805 ,  789629.61402196,  776646.69986867]],\n",
      "\n",
      "       [[1320242.1214805 ,  789629.61402196,  776646.69986867],\n",
      "        [1320189.75426701,  789710.09442073,  776674.63571783]]])])\n"
     ]
    },
    {
     "name": "stdout",
     "output_type": "stream",
     "text": [
      "base_final_widths = [224.62487698 153.70485978]\n",
      "overall_ais_width = 224.62487697952844\n",
      "ais_width = 189.16486837935759\n",
      "Adding the following branches as true axons: [ 19  29  31  43  44  49  50  51  52  56  57  58  59  60  61  62  63  64\n",
      "  65  66  67  68  69  70  71  72  73  74  75  76  77  78  79  80  81  82\n",
      "  83  84  85  86  87  88  89  90  91  92  93  94  95  96  97  98  99 100]\n",
      "curr_soma_angle = 161.7\n",
      "max_axon_angle = 166.78259695539097\n",
      "Changing to a better axon candidate\n",
      "\n",
      "\n",
      " --- Working on limb 2, candidate # 0\n",
      "1 out of 7 branches are axons\n",
      "Axon percentage = 0.14285714285714285\n",
      "curr_axon_angle_threshold = 120\n",
      "candidate_nodes = [ 0  1  2  3  4  6  9 12]\n",
      "non_axon_branches_on_subgraph = [ 0  2  3  4  6  9 12]\n",
      "endnodes_to_test = []\n",
      "candidate_angles,restr_skels = (None, None)\n",
      "Not adding candidate because no angles (None) passed the threhold 120 \n",
      "\n",
      "\n",
      " --- Working on limb 2, candidate # 1\n",
      "1 out of 3 branches are axons\n",
      "Axon percentage = 0.3333333333333333\n",
      "curr_axon_angle_threshold = 120\n",
      "candidate_nodes = [ 5  7  8 11 12]\n",
      "non_axon_branches_on_subgraph = [ 5  7 11 12]\n",
      "endnodes_to_test = []\n",
      "candidate_angles,restr_skels = (None, None)\n",
      "Not adding candidate because no angles (None) passed the threhold 120 \n",
      "\n",
      "\n",
      " --- Working on limb 2, candidate # 2\n",
      "0 out of 1 branches are axons\n",
      "Axon percentage = 0.0\n",
      "Not adding candidate no axon branches detected \n",
      "\n",
      "\n",
      " --- Working on limb 3, candidate # 0\n",
      "0 out of 1 branches are axons\n",
      "Axon percentage = 0.0\n",
      "Not adding candidate no axon branches detected \n",
      "\n",
      "\n",
      " --- Working on limb 3, candidate # 1\n",
      "1 out of 11 branches are axons\n",
      "Axon percentage = 0.09090909090909091\n",
      "curr_axon_angle_threshold = 120\n",
      "candidate_nodes = [ 0  2  3  4  5  6  7  8  9 10 11 12]\n",
      "non_axon_branches_on_subgraph = [ 0  2  3  4  5  6  7  8  9 10 12]\n",
      "endnodes_to_test = []\n",
      "candidate_angles,restr_skels = (None, None)\n",
      "Not adding candidate because no angles (None) passed the threhold 120 \n",
      "\n",
      "\n",
      " --- Working on limb 4, candidate # 0\n",
      "0 out of 1 branches are axons\n",
      "Axon percentage = 0.0\n",
      "Not adding candidate no axon branches detected \n",
      "\n",
      "\n",
      " --- Working on limb 4, candidate # 1\n",
      "0 out of 1 branches are axons\n",
      "Axon percentage = 0.0\n",
      "Not adding candidate no axon branches detected \n",
      "\n",
      "\n",
      " --- Working on limb 4, candidate # 2\n",
      "0 out of 1 branches are axons\n",
      "Axon percentage = 0.0\n",
      "Not adding candidate no axon branches detected \n",
      "\n",
      "\n",
      " --- Working on limb 4, candidate # 3\n",
      "0 out of 1 branches are axons\n",
      "Axon percentage = 0.0\n",
      "Not adding candidate no axon branches detected \n",
      "Using the best axon approach\n",
      "Using True\n",
      "Limb L0: Axon branches before dendritic path filter = [ 19  29  31  43  44  49  50  51  52  56  57  58  59  60  61  62  63  64\n",
      "  65  66  67  68  69  70  71  72  73  74  75  76  77  78  79  80  81  82\n",
      "  83  84  85  86  87  88  89  90  91  92  93  94  95  96  97  98  99 100]\n",
      "Limb L0: Axon branches AFTER dendritic path filter = [ 19  29  31  43  44  49  50  51  52  56  57  58  59  60  61  62  63  64\n",
      "  65  66  67  68  69  70  71  72  73  74  75  76  77  78  79  80  81  82\n",
      "  83  84  85  86  87  88  89  90  91  92  93  94  95  96  97  98  99 100]\n",
      "\n",
      "\n",
      "Part 4: final_true_axons = {'L0': array([ 19,  29,  31,  43,  44,  49,  50,  51,  52,  56,  57,  58,  59,\n",
      "        60,  61,  62,  63,  64,  65,  66,  67,  68,  69,  70,  71,  72,\n",
      "        73,  74,  75,  76,  77,  78,  79,  80,  81,  82,  83,  84,  85,\n",
      "        86,  87,  88,  89,  90,  91,  92,  93,  94,  95,  96,  97,  98,\n",
      "        99, 100])}\n",
      "\n",
      "--- Working on filter 0:\n",
      "function = dendrite_on_axon_merges\n",
      "function __name__ = filter_away_dendrite_on_axon_merges\n",
      "function arguments = {'use_pre_existing_axon_labels': True}\n",
      "\n",
      "\n",
      "\n",
      "\n",
      "\n",
      " ---- Total time for applying filter: 0.7927505970001221 -----\n",
      "Starting axon branch was not the limb starting node so generating border vertices and computing upstream branch\n",
      "upstream_node_to_axon_starting_branch = 53\n",
      "root_curr = [1322725.   783175.7  775942.7]\n",
      "Time for preparing soma vertices and root: 0.0007576942443847656\n",
      "invalidation_d = 2000\n",
      "cc_vertex_thresh = 10\n"
     ]
    },
    {
     "name": "stderr",
     "output_type": "stream",
     "text": [
      "\r",
      "  0%|          | 0/1 [00:00<?, ?it/s]"
     ]
    },
    {
     "data": {
      "application/vnd.jupyter.widget-view+json": {
       "model_id": "7012d0ba9c144e7b8b4380182e1fd924",
       "version_major": 2,
       "version_minor": 0
      },
      "text/plain": [
       "  0%|          | 0/101525 [00:00<?, ?it/s]"
      ]
     },
     "metadata": {},
     "output_type": "display_data"
    },
    {
     "name": "stderr",
     "output_type": "stream",
     "text": [
      "100%|██████████| 1/1 [00:06<00:00,  6.24s/it]\n"
     ]
    },
    {
     "name": "stdout",
     "output_type": "stream",
     "text": [
      "meshparty_segment_size = 100\n",
      "Time for 1st pass MP skeletonization: 10.510815143585205\n",
      "connecting at the root\n",
      "branches_touching_root = [161]\n",
      "combining close nodes\n",
      "combine_threshold = 1300\n",
      "length of Graph = 22988\n",
      "After combining close endpoints max(kept_branches_idx) = 161, len(kept_branches_idx) = 143\n",
      "empty_indices % = 0.0\n",
      " conflict_indices % = 0.015758475624845336\n"
     ]
    },
    {
     "data": {
      "application/vnd.jupyter.widget-view+json": {
       "model_id": "66586fb408824c088d51ca1cef1b4238",
       "version_major": 2,
       "version_minor": 0
      },
      "text/plain": [
       "  0%|          | 0/63 [00:00<?, ?it/s]"
      ]
     },
     "metadata": {},
     "output_type": "display_data"
    },
    {
     "name": "stdout",
     "output_type": "stream",
     "text": [
      "AFTER face_lookup_resolved_test\n"
     ]
    },
    {
     "data": {
      "application/vnd.jupyter.widget-view+json": {
       "model_id": "0d76c4ab12ef45efbfc400a3d4b6e6ce",
       "version_major": 2,
       "version_minor": 0
      },
      "text/plain": [
       "  0%|          | 0/143 [00:00<?, ?it/s]"
      ]
     },
     "metadata": {},
     "output_type": "display_data"
    },
    {
     "name": "stdout",
     "output_type": "stream",
     "text": [
      "Decomposing first pass: 35.00281262397766\n",
      "Only Using MeshParty Skeletonization and Mesh Correspondence\n",
      "Another print\n",
      "Divinding into MP and MAP pieces: 3.0994415283203125e-05\n",
      "Total time for MAP sublimb processing 5.4836273193359375e-06\n",
      "---- Working on MP Decomposition #0 ----\n",
      "Using Quicker soma_to_piece_touching_vertices because no MAP and only one sublimb_mesh piece \n",
      "MP filtering soma verts: 5.4836273193359375e-05\n",
      "Fixing Possible Soma Extension Branch for Sublimb 0\n",
      "Total time for mesh KDTree = 0.11427974700927734\n",
      "sbv[0].reshape(-1,3) = [[1322725.   783175.7  775942.7]]\n",
      "closest_sk_pt_coord BEFORE = [1322231.7851775   783090.80225341  775672.50336181]\n",
      "current_skeleton.shape = (439, 2, 3)\n",
      "node_for_stitch = 389: [1322231.7851775   783090.80225341  775672.50336181]\n",
      "node_for_stitch AFTER = 389: [1322231.7851775   783090.80225341  775672.50336181]\n",
      "possible_node_loc = [383 439]\n",
      "possible_node_loc AFTER = [383 439]\n",
      "curr_shortest_path = [389, 386.0, 383.0]\n",
      "Current stitch point was not a branch or endpoint, shortest_path_length to one = 199.99742150584683\n",
      "Changing the stitch point becasue the distance to end or branch node was 199.99742150584683\n",
      "New stitch point has degree 1\n",
      "change_status for create soma extending pieces = True\n",
      "closest_sk_pt_coord AFTER = [1322165.54232971  782914.28449714  775605.85087998]\n",
      "skipping soma 0 because closest skeleton node was already end node\n",
      "endpoints_must_keep = {0: array([[1322165.54232971,  782914.28449714,  775605.85087998]])}\n",
      "match_sk_branches = [142]\n",
      "The new branch info was none so skipping \n",
      "\n",
      "No soma extending branch was added for this sublimb even though it had a soma border (means they already existed)\n",
      "MP (because soma touching verts) soma extension add: 9.65474820137024\n",
      "There were not both MAP and MP pieces so skipping the stitch resolving phase\n",
      "Time for decomp of Limb = 56.390531063079834\n",
      "Number of matching vertices = 32\n",
      "Only one endpoint after filtering away the endpoints that are not on the skeleton\n",
      "Using Distance measure skeletal_distance\n",
      "endpoints_must_keep = [[1322165.54232971  782914.28449714  775605.85087998]]\n",
      "Number of end_nodes BEFORE filtering = 83\n",
      "all_single_nodes_to_eliminate = [9]\n"
     ]
    },
    {
     "data": {
      "application/vnd.jupyter.widget-view+json": {
       "model_id": "d89b30a435c74651be02ffff816e984c",
       "version_major": 2,
       "version_minor": 0
      },
      "text/plain": [
       "  0%|          | 0/4 [00:00<?, ?it/s]"
      ]
     },
     "metadata": {},
     "output_type": "display_data"
    },
    {
     "name": "stdout",
     "output_type": "stream",
     "text": [
      "Removed 4 skeletal branches\n"
     ]
    },
    {
     "data": {
      "application/vnd.jupyter.widget-view+json": {
       "model_id": "107b8e5b49a2401f84e6a98d6f06c92f",
       "version_major": 2,
       "version_minor": 0
      },
      "text/plain": [
       "  0%|          | 0/143 [00:00<?, ?it/s]"
      ]
     },
     "metadata": {},
     "output_type": "display_data"
    },
    {
     "name": "stdout",
     "output_type": "stream",
     "text": [
      "202548 202549\n",
      "For marked faces: None\n",
      "empty_indices % = 0.0\n",
      " conflict_indices % = 0.0\n"
     ]
    },
    {
     "data": {
      "application/vnd.jupyter.widget-view+json": {
       "model_id": "de8cd804635f4094b227271854a472c2",
       "version_major": 2,
       "version_minor": 0
      },
      "text/plain": [
       "0it [00:00, ?it/s]"
      ]
     },
     "metadata": {},
     "output_type": "display_data"
    },
    {
     "name": "stdout",
     "output_type": "stream",
     "text": [
      "AFTER face_lookup_resolved_test\n"
     ]
    },
    {
     "data": {
      "application/vnd.jupyter.widget-view+json": {
       "model_id": "43928a0e6b3f4761bf3058acad0c2088",
       "version_major": 2,
       "version_minor": 0
      },
      "text/plain": [
       "  0%|          | 0/135 [00:00<?, ?it/s]"
      ]
     },
     "metadata": {},
     "output_type": "display_data"
    },
    {
     "name": "stdout",
     "output_type": "stream",
     "text": [
      "Limb Correspondence before stitching = 135\n",
      "Limb Correspondence AFTER stitching = 135\n",
      "Readjusting starting axon branch skeleton\n",
      "Fixing the axon starting branch endpoint to align with upstream branch\n",
      "Starting Branch 8 skeleton before fix: (439, 2, 3)\n",
      "Starting Branch 8 skeleton AFTER fix: (440, 2, 3)\n",
      "concept_network_dict = {0: [<networkx_utils.GraphOrderedEdges object at 0x7f3f301a8a90>]}\n",
      "Assigning the old width calculation because no valid new widths\n",
      "Assigning the old width calculation because no valid new widths\n",
      "\n",
      "\n",
      "----Working on seperate_graph 0----\n",
      "\n",
      "\n",
      "---------Working on soma_idx = 0, soma_group_idx 0, endpt = [1327130.  772680.  774614.]---------\n",
      "Starting_edge inside branches_to_conept = [[1326100.  775771.  774934.]\n",
      " [1327130.  772680.  774614.]]\n",
      "At the start, starting_node (in terms of the skeleton, that shouldn't match the starting edge) = [65]\n",
      "printing out current edge:\n",
      "[[1327130.  772680.  774614.]\n",
      " [1326100.  775771.  774934.]]\n",
      "edge_endpoints_to_process was empty so exiting loop after 182 iterations\n",
      "starting_node in concept map (that should match the starting edge) = 135\n",
      "Total time for branches to concept conversion = 8.153316974639893\n",
      "\n",
      "Done generating concept network \n",
      "\n",
      "\n"
     ]
    },
    {
     "data": {
      "application/vnd.jupyter.widget-view+json": {
       "model_id": "152d25cd50f040f799ccde98c1b96014",
       "version_major": 2,
       "version_minor": 0
      },
      "text/plain": [
       "  0%|          | 0/116 [00:00<?, ?it/s]"
      ]
     },
     "metadata": {},
     "output_type": "display_data"
    },
    {
     "data": {
      "application/vnd.jupyter.widget-view+json": {
       "model_id": "af7f748dd52748e483e701d5a5d09912",
       "version_major": 2,
       "version_minor": 0
      },
      "text/plain": [
       "  0%|          | 0/16 [00:00<?, ?it/s]"
      ]
     },
     "metadata": {},
     "output_type": "display_data"
    },
    {
     "data": {
      "application/vnd.jupyter.widget-view+json": {
       "model_id": "0fbae9af45c945cfb1a28d40599bb850",
       "version_major": 2,
       "version_minor": 0
      },
      "text/plain": [
       "  0%|          | 0/38 [00:00<?, ?it/s]"
      ]
     },
     "metadata": {},
     "output_type": "display_data"
    },
    {
     "data": {
      "application/vnd.jupyter.widget-view+json": {
       "model_id": "c95cb92db49f455ca4e7e4949502f2c6",
       "version_major": 2,
       "version_minor": 0
      },
      "text/plain": [
       "  0%|          | 0/7 [00:00<?, ?it/s]"
      ]
     },
     "metadata": {},
     "output_type": "display_data"
    },
    {
     "data": {
      "application/vnd.jupyter.widget-view+json": {
       "model_id": "77451371d6284143807a2774d6729948",
       "version_major": 2,
       "version_minor": 0
      },
      "text/plain": [
       "  0%|          | 0/20 [00:00<?, ?it/s]"
      ]
     },
     "metadata": {},
     "output_type": "display_data"
    },
    {
     "data": {
      "application/vnd.jupyter.widget-view+json": {
       "model_id": "0a106334413843998b139292863bdecc",
       "version_major": 2,
       "version_minor": 0
      },
      "text/plain": [
       "  0%|          | 0/9 [00:00<?, ?it/s]"
      ]
     },
     "metadata": {},
     "output_type": "display_data"
    },
    {
     "data": {
      "application/vnd.jupyter.widget-view+json": {
       "model_id": "1f0742cf0efd42819983c2550984379d",
       "version_major": 2,
       "version_minor": 0
      },
      "text/plain": [
       "  0%|          | 0/5 [00:00<?, ?it/s]"
      ]
     },
     "metadata": {},
     "output_type": "display_data"
    },
    {
     "data": {
      "application/vnd.jupyter.widget-view+json": {
       "model_id": "16fbc9f7ef3c4f9486fd60771d1a7096",
       "version_major": 2,
       "version_minor": 0
      },
      "text/plain": [
       "  0%|          | 0/9 [00:00<?, ?it/s]"
      ]
     },
     "metadata": {},
     "output_type": "display_data"
    },
    {
     "data": {
      "application/vnd.jupyter.widget-view+json": {
       "model_id": "47abcd7a62d241f28f13b35af1911664",
       "version_major": 2,
       "version_minor": 0
      },
      "text/plain": [
       "  0%|          | 0/51 [00:00<?, ?it/s]"
      ]
     },
     "metadata": {},
     "output_type": "display_data"
    },
    {
     "data": {
      "application/vnd.jupyter.widget-view+json": {
       "model_id": "e41b5d53267e4a27afc60a8f4a9fbc07",
       "version_major": 2,
       "version_minor": 0
      },
      "text/plain": [
       "  0%|          | 0/7 [00:00<?, ?it/s]"
      ]
     },
     "metadata": {},
     "output_type": "display_data"
    },
    {
     "data": {
      "application/vnd.jupyter.widget-view+json": {
       "model_id": "b98b570548d14349aa73ca7a465936cc",
       "version_major": 2,
       "version_minor": 0
      },
      "text/plain": [
       "  0%|          | 0/9 [00:00<?, ?it/s]"
      ]
     },
     "metadata": {},
     "output_type": "display_data"
    },
    {
     "data": {
      "application/vnd.jupyter.widget-view+json": {
       "model_id": "edf673088bea4fad8f91c0fc01e063b5",
       "version_major": 2,
       "version_minor": 0
      },
      "text/plain": [
       "  0%|          | 0/13 [00:00<?, ?it/s]"
      ]
     },
     "metadata": {},
     "output_type": "display_data"
    },
    {
     "data": {
      "application/vnd.jupyter.widget-view+json": {
       "model_id": "9e809f7cf1a74a5895b6a2bb073519f5",
       "version_major": 2,
       "version_minor": 0
      },
      "text/plain": [
       "  0%|          | 0/5 [00:00<?, ?it/s]"
      ]
     },
     "metadata": {},
     "output_type": "display_data"
    },
    {
     "data": {
      "application/vnd.jupyter.widget-view+json": {
       "model_id": "ec3393e4443b441c9eddb99937d25010",
       "version_major": 2,
       "version_minor": 0
      },
      "text/plain": [
       "  0%|          | 0/6 [00:00<?, ?it/s]"
      ]
     },
     "metadata": {},
     "output_type": "display_data"
    },
    {
     "data": {
      "application/vnd.jupyter.widget-view+json": {
       "model_id": "91985b44f9d849ab8caf78df3bd5f7fe",
       "version_major": 2,
       "version_minor": 0
      },
      "text/plain": [
       "  0%|          | 0/7 [00:00<?, ?it/s]"
      ]
     },
     "metadata": {},
     "output_type": "display_data"
    },
    {
     "data": {
      "application/vnd.jupyter.widget-view+json": {
       "model_id": "4661dbc7aab54ad48fbc5f802f8c092e",
       "version_major": 2,
       "version_minor": 0
      },
      "text/plain": [
       "  0%|          | 0/1 [00:00<?, ?it/s]"
      ]
     },
     "metadata": {},
     "output_type": "display_data"
    },
    {
     "data": {
      "application/vnd.jupyter.widget-view+json": {
       "model_id": "190e72811c8247fcaa73dc583dcb5c16",
       "version_major": 2,
       "version_minor": 0
      },
      "text/plain": [
       "  0%|          | 0/13 [00:00<?, ?it/s]"
      ]
     },
     "metadata": {},
     "output_type": "display_data"
    },
    {
     "data": {
      "application/vnd.jupyter.widget-view+json": {
       "model_id": "e923adf78e934410a05d263777397e0b",
       "version_major": 2,
       "version_minor": 0
      },
      "text/plain": [
       "  0%|          | 0/77 [00:00<?, ?it/s]"
      ]
     },
     "metadata": {},
     "output_type": "display_data"
    },
    {
     "data": {
      "application/vnd.jupyter.widget-view+json": {
       "model_id": "5728d2d7942c4d7b9322d43fc39c121a",
       "version_major": 2,
       "version_minor": 0
      },
      "text/plain": [
       "  0%|          | 0/5 [00:00<?, ?it/s]"
      ]
     },
     "metadata": {},
     "output_type": "display_data"
    },
    {
     "data": {
      "application/vnd.jupyter.widget-view+json": {
       "model_id": "7023a5779ea747e59d02b4acd95a7003",
       "version_major": 2,
       "version_minor": 0
      },
      "text/plain": [
       "  0%|          | 0/9 [00:00<?, ?it/s]"
      ]
     },
     "metadata": {},
     "output_type": "display_data"
    },
    {
     "data": {
      "application/vnd.jupyter.widget-view+json": {
       "model_id": "5243545506c64c048f0a9c5f730120b7",
       "version_major": 2,
       "version_minor": 0
      },
      "text/plain": [
       "  0%|          | 0/7 [00:00<?, ?it/s]"
      ]
     },
     "metadata": {},
     "output_type": "display_data"
    },
    {
     "data": {
      "application/vnd.jupyter.widget-view+json": {
       "model_id": "1c86b4bd7f3844d79b4f4437dcc89b2e",
       "version_major": 2,
       "version_minor": 0
      },
      "text/plain": [
       "  0%|          | 0/7 [00:00<?, ?it/s]"
      ]
     },
     "metadata": {},
     "output_type": "display_data"
    },
    {
     "data": {
      "application/vnd.jupyter.widget-view+json": {
       "model_id": "bb1b3cd0e1e949cfa389a1d4d1af2a04",
       "version_major": 2,
       "version_minor": 0
      },
      "text/plain": [
       "  0%|          | 0/5 [00:00<?, ?it/s]"
      ]
     },
     "metadata": {},
     "output_type": "display_data"
    },
    {
     "data": {
      "application/vnd.jupyter.widget-view+json": {
       "model_id": "e346ac442c654742acb85108b2fcde18",
       "version_major": 2,
       "version_minor": 0
      },
      "text/plain": [
       "  0%|          | 0/29 [00:00<?, ?it/s]"
      ]
     },
     "metadata": {},
     "output_type": "display_data"
    },
    {
     "data": {
      "application/vnd.jupyter.widget-view+json": {
       "model_id": "3eba6ec3b3714a10901863440f6524d9",
       "version_major": 2,
       "version_minor": 0
      },
      "text/plain": [
       "  0%|          | 0/4 [00:00<?, ?it/s]"
      ]
     },
     "metadata": {},
     "output_type": "display_data"
    },
    {
     "data": {
      "application/vnd.jupyter.widget-view+json": {
       "model_id": "df0d39723e8744959e8001ff83dc5075",
       "version_major": 2,
       "version_minor": 0
      },
      "text/plain": [
       "  0%|          | 0/16 [00:00<?, ?it/s]"
      ]
     },
     "metadata": {},
     "output_type": "display_data"
    },
    {
     "data": {
      "application/vnd.jupyter.widget-view+json": {
       "model_id": "1cc8a8485d8c4d66a75ae8a3ab777e83",
       "version_major": 2,
       "version_minor": 0
      },
      "text/plain": [
       "  0%|          | 0/20 [00:00<?, ?it/s]"
      ]
     },
     "metadata": {},
     "output_type": "display_data"
    },
    {
     "data": {
      "application/vnd.jupyter.widget-view+json": {
       "model_id": "33fe0836d18944aeb6c20da048ba6265",
       "version_major": 2,
       "version_minor": 0
      },
      "text/plain": [
       "  0%|          | 0/13 [00:00<?, ?it/s]"
      ]
     },
     "metadata": {},
     "output_type": "display_data"
    },
    {
     "data": {
      "application/vnd.jupyter.widget-view+json": {
       "model_id": "f6b7fa3e652f4b489af85ed8095d725d",
       "version_major": 2,
       "version_minor": 0
      },
      "text/plain": [
       "  0%|          | 0/6 [00:00<?, ?it/s]"
      ]
     },
     "metadata": {},
     "output_type": "display_data"
    },
    {
     "data": {
      "application/vnd.jupyter.widget-view+json": {
       "model_id": "ff8c4160c3d044f29cf27ae7eab35e80",
       "version_major": 2,
       "version_minor": 0
      },
      "text/plain": [
       "  0%|          | 0/11 [00:00<?, ?it/s]"
      ]
     },
     "metadata": {},
     "output_type": "display_data"
    },
    {
     "data": {
      "application/vnd.jupyter.widget-view+json": {
       "model_id": "ad23a2a85d304859876b77d41df03bd1",
       "version_major": 2,
       "version_minor": 0
      },
      "text/plain": [
       "  0%|          | 0/19 [00:00<?, ?it/s]"
      ]
     },
     "metadata": {},
     "output_type": "display_data"
    },
    {
     "data": {
      "application/vnd.jupyter.widget-view+json": {
       "model_id": "38aad18c5ea94aa58de6f67bb8ca32ae",
       "version_major": 2,
       "version_minor": 0
      },
      "text/plain": [
       "  0%|          | 0/7 [00:00<?, ?it/s]"
      ]
     },
     "metadata": {},
     "output_type": "display_data"
    },
    {
     "data": {
      "application/vnd.jupyter.widget-view+json": {
       "model_id": "cba2b17cdbad4bb7a89b9375274bbb4a",
       "version_major": 2,
       "version_minor": 0
      },
      "text/plain": [
       "  0%|          | 0/10 [00:00<?, ?it/s]"
      ]
     },
     "metadata": {},
     "output_type": "display_data"
    },
    {
     "data": {
      "application/vnd.jupyter.widget-view+json": {
       "model_id": "ef4c9d35530d4296a45a33b24c958964",
       "version_major": 2,
       "version_minor": 0
      },
      "text/plain": [
       "  0%|          | 0/23 [00:00<?, ?it/s]"
      ]
     },
     "metadata": {},
     "output_type": "display_data"
    },
    {
     "data": {
      "application/vnd.jupyter.widget-view+json": {
       "model_id": "98622d8b1891499093dd9dc26322162b",
       "version_major": 2,
       "version_minor": 0
      },
      "text/plain": [
       "  0%|          | 0/4 [00:00<?, ?it/s]"
      ]
     },
     "metadata": {},
     "output_type": "display_data"
    },
    {
     "data": {
      "application/vnd.jupyter.widget-view+json": {
       "model_id": "4f30dc8409544abfa0c42a714881a95d",
       "version_major": 2,
       "version_minor": 0
      },
      "text/plain": [
       "  0%|          | 0/4 [00:00<?, ?it/s]"
      ]
     },
     "metadata": {},
     "output_type": "display_data"
    },
    {
     "data": {
      "application/vnd.jupyter.widget-view+json": {
       "model_id": "c5dab84fbd05498fb3de8804cf7ca88d",
       "version_major": 2,
       "version_minor": 0
      },
      "text/plain": [
       "  0%|          | 0/5 [00:00<?, ?it/s]"
      ]
     },
     "metadata": {},
     "output_type": "display_data"
    },
    {
     "data": {
      "application/vnd.jupyter.widget-view+json": {
       "model_id": "44e8255e67a646d78cb9b6c9b43ef7d0",
       "version_major": 2,
       "version_minor": 0
      },
      "text/plain": [
       "  0%|          | 0/6 [00:00<?, ?it/s]"
      ]
     },
     "metadata": {},
     "output_type": "display_data"
    },
    {
     "data": {
      "application/vnd.jupyter.widget-view+json": {
       "model_id": "68b7d62d6d934d18b6e24df6c3e81201",
       "version_major": 2,
       "version_minor": 0
      },
      "text/plain": [
       "  0%|          | 0/12 [00:00<?, ?it/s]"
      ]
     },
     "metadata": {},
     "output_type": "display_data"
    },
    {
     "data": {
      "application/vnd.jupyter.widget-view+json": {
       "model_id": "f4ec84490970402cb6033af75e23c093",
       "version_major": 2,
       "version_minor": 0
      },
      "text/plain": [
       "  0%|          | 0/30 [00:00<?, ?it/s]"
      ]
     },
     "metadata": {},
     "output_type": "display_data"
    },
    {
     "data": {
      "application/vnd.jupyter.widget-view+json": {
       "model_id": "0e28a8635d64436fabdfd77213d09916",
       "version_major": 2,
       "version_minor": 0
      },
      "text/plain": [
       "  0%|          | 0/6 [00:00<?, ?it/s]"
      ]
     },
     "metadata": {},
     "output_type": "display_data"
    },
    {
     "data": {
      "application/vnd.jupyter.widget-view+json": {
       "model_id": "d77ff99f5fd4417a8c21729d474d5aae",
       "version_major": 2,
       "version_minor": 0
      },
      "text/plain": [
       "  0%|          | 0/37 [00:00<?, ?it/s]"
      ]
     },
     "metadata": {},
     "output_type": "display_data"
    },
    {
     "data": {
      "application/vnd.jupyter.widget-view+json": {
       "model_id": "916c82e8d5614b3fa519ec800cf22473",
       "version_major": 2,
       "version_minor": 0
      },
      "text/plain": [
       "  0%|          | 0/10 [00:00<?, ?it/s]"
      ]
     },
     "metadata": {},
     "output_type": "display_data"
    },
    {
     "data": {
      "application/vnd.jupyter.widget-view+json": {
       "model_id": "7eb85f9067e448b58d01664917a67e00",
       "version_major": 2,
       "version_minor": 0
      },
      "text/plain": [
       "  0%|          | 0/9 [00:00<?, ?it/s]"
      ]
     },
     "metadata": {},
     "output_type": "display_data"
    },
    {
     "data": {
      "application/vnd.jupyter.widget-view+json": {
       "model_id": "bfca2be5c7324df8886ddec948f98236",
       "version_major": 2,
       "version_minor": 0
      },
      "text/plain": [
       "  0%|          | 0/9 [00:00<?, ?it/s]"
      ]
     },
     "metadata": {},
     "output_type": "display_data"
    },
    {
     "data": {
      "application/vnd.jupyter.widget-view+json": {
       "model_id": "300bfdcb14d349ed873bb33a304c3c14",
       "version_major": 2,
       "version_minor": 0
      },
      "text/plain": [
       "  0%|          | 0/6 [00:00<?, ?it/s]"
      ]
     },
     "metadata": {},
     "output_type": "display_data"
    },
    {
     "data": {
      "application/vnd.jupyter.widget-view+json": {
       "model_id": "29ec46e50e4e41a689dced33131c9d67",
       "version_major": 2,
       "version_minor": 0
      },
      "text/plain": [
       "  0%|          | 0/11 [00:00<?, ?it/s]"
      ]
     },
     "metadata": {},
     "output_type": "display_data"
    },
    {
     "data": {
      "application/vnd.jupyter.widget-view+json": {
       "model_id": "2e0536138aea499ebd684aaf2cfded2e",
       "version_major": 2,
       "version_minor": 0
      },
      "text/plain": [
       "  0%|          | 0/24 [00:00<?, ?it/s]"
      ]
     },
     "metadata": {},
     "output_type": "display_data"
    },
    {
     "data": {
      "application/vnd.jupyter.widget-view+json": {
       "model_id": "337d42ef79f74076b63f9538ddc0a19f",
       "version_major": 2,
       "version_minor": 0
      },
      "text/plain": [
       "  0%|          | 0/9 [00:00<?, ?it/s]"
      ]
     },
     "metadata": {},
     "output_type": "display_data"
    },
    {
     "data": {
      "application/vnd.jupyter.widget-view+json": {
       "model_id": "50752fb659114e1bbccc08cefa704f20",
       "version_major": 2,
       "version_minor": 0
      },
      "text/plain": [
       "  0%|          | 0/18 [00:00<?, ?it/s]"
      ]
     },
     "metadata": {},
     "output_type": "display_data"
    },
    {
     "data": {
      "application/vnd.jupyter.widget-view+json": {
       "model_id": "fd97f969cd284c339c719db242af1650",
       "version_major": 2,
       "version_minor": 0
      },
      "text/plain": [
       "  0%|          | 0/7 [00:00<?, ?it/s]"
      ]
     },
     "metadata": {},
     "output_type": "display_data"
    },
    {
     "data": {
      "application/vnd.jupyter.widget-view+json": {
       "model_id": "56f148c8883f4a209dd7a0ef523666af",
       "version_major": 2,
       "version_minor": 0
      },
      "text/plain": [
       "  0%|          | 0/4 [00:00<?, ?it/s]"
      ]
     },
     "metadata": {},
     "output_type": "display_data"
    },
    {
     "data": {
      "application/vnd.jupyter.widget-view+json": {
       "model_id": "4166d60ed23c4afa8dd6040daa4b7082",
       "version_major": 2,
       "version_minor": 0
      },
      "text/plain": [
       "  0%|          | 0/15 [00:00<?, ?it/s]"
      ]
     },
     "metadata": {},
     "output_type": "display_data"
    },
    {
     "data": {
      "application/vnd.jupyter.widget-view+json": {
       "model_id": "3c89e17ef675400daafc06e5b839cb5a",
       "version_major": 2,
       "version_minor": 0
      },
      "text/plain": [
       "  0%|          | 0/47 [00:00<?, ?it/s]"
      ]
     },
     "metadata": {},
     "output_type": "display_data"
    },
    {
     "data": {
      "application/vnd.jupyter.widget-view+json": {
       "model_id": "70fff323b3fe478e9bdc8c683082ada6",
       "version_major": 2,
       "version_minor": 0
      },
      "text/plain": [
       "  0%|          | 0/33 [00:00<?, ?it/s]"
      ]
     },
     "metadata": {},
     "output_type": "display_data"
    },
    {
     "data": {
      "application/vnd.jupyter.widget-view+json": {
       "model_id": "f8893511d5364c4292c38f6e49e9e7df",
       "version_major": 2,
       "version_minor": 0
      },
      "text/plain": [
       "  0%|          | 0/6 [00:00<?, ?it/s]"
      ]
     },
     "metadata": {},
     "output_type": "display_data"
    },
    {
     "data": {
      "application/vnd.jupyter.widget-view+json": {
       "model_id": "8754561a96514c868788a6e58bb72719",
       "version_major": 2,
       "version_minor": 0
      },
      "text/plain": [
       "  0%|          | 0/5 [00:00<?, ?it/s]"
      ]
     },
     "metadata": {},
     "output_type": "display_data"
    },
    {
     "data": {
      "application/vnd.jupyter.widget-view+json": {
       "model_id": "c4c7ecbd91ca498692debf20c892a288",
       "version_major": 2,
       "version_minor": 0
      },
      "text/plain": [
       "  0%|          | 0/5 [00:00<?, ?it/s]"
      ]
     },
     "metadata": {},
     "output_type": "display_data"
    },
    {
     "data": {
      "application/vnd.jupyter.widget-view+json": {
       "model_id": "4efca0b0b7c443c78052b3357ece9db7",
       "version_major": 2,
       "version_minor": 0
      },
      "text/plain": [
       "  0%|          | 0/13 [00:00<?, ?it/s]"
      ]
     },
     "metadata": {},
     "output_type": "display_data"
    },
    {
     "data": {
      "application/vnd.jupyter.widget-view+json": {
       "model_id": "0384c8131f1a48d0833c3a7f5cee388c",
       "version_major": 2,
       "version_minor": 0
      },
      "text/plain": [
       "  0%|          | 0/20 [00:00<?, ?it/s]"
      ]
     },
     "metadata": {},
     "output_type": "display_data"
    },
    {
     "data": {
      "application/vnd.jupyter.widget-view+json": {
       "model_id": "ca231ce4f3284d43bc735d41a444a1ac",
       "version_major": 2,
       "version_minor": 0
      },
      "text/plain": [
       "  0%|          | 0/16 [00:00<?, ?it/s]"
      ]
     },
     "metadata": {},
     "output_type": "display_data"
    },
    {
     "data": {
      "application/vnd.jupyter.widget-view+json": {
       "model_id": "330493135a6340628018f22b2d85dfae",
       "version_major": 2,
       "version_minor": 0
      },
      "text/plain": [
       "  0%|          | 0/5 [00:00<?, ?it/s]"
      ]
     },
     "metadata": {},
     "output_type": "display_data"
    },
    {
     "data": {
      "application/vnd.jupyter.widget-view+json": {
       "model_id": "bbee662942ad4aa2ac46986d33e4f05d",
       "version_major": 2,
       "version_minor": 0
      },
      "text/plain": [
       "  0%|          | 0/5 [00:00<?, ?it/s]"
      ]
     },
     "metadata": {},
     "output_type": "display_data"
    },
    {
     "data": {
      "application/vnd.jupyter.widget-view+json": {
       "model_id": "412ebfd0db7e4255833d8f442035b239",
       "version_major": 2,
       "version_minor": 0
      },
      "text/plain": [
       "  0%|          | 0/15 [00:00<?, ?it/s]"
      ]
     },
     "metadata": {},
     "output_type": "display_data"
    },
    {
     "data": {
      "application/vnd.jupyter.widget-view+json": {
       "model_id": "fc5e1395fbf54b45b4d9471e2b8e0985",
       "version_major": 2,
       "version_minor": 0
      },
      "text/plain": [
       "  0%|          | 0/20 [00:00<?, ?it/s]"
      ]
     },
     "metadata": {},
     "output_type": "display_data"
    },
    {
     "data": {
      "application/vnd.jupyter.widget-view+json": {
       "model_id": "18ffc215cb5f470cb254ad375f63198f",
       "version_major": 2,
       "version_minor": 0
      },
      "text/plain": [
       "  0%|          | 0/5 [00:00<?, ?it/s]"
      ]
     },
     "metadata": {},
     "output_type": "display_data"
    },
    {
     "data": {
      "application/vnd.jupyter.widget-view+json": {
       "model_id": "e4ee10b114e140bebbeefe67b2edaa4d",
       "version_major": 2,
       "version_minor": 0
      },
      "text/plain": [
       "  0%|          | 0/5 [00:00<?, ?it/s]"
      ]
     },
     "metadata": {},
     "output_type": "display_data"
    },
    {
     "data": {
      "application/vnd.jupyter.widget-view+json": {
       "model_id": "9e84fc2be81c48e5a7921d95824b61f0",
       "version_major": 2,
       "version_minor": 0
      },
      "text/plain": [
       "  0%|          | 0/7 [00:00<?, ?it/s]"
      ]
     },
     "metadata": {},
     "output_type": "display_data"
    },
    {
     "data": {
      "application/vnd.jupyter.widget-view+json": {
       "model_id": "4b7e1013ec694e9e841d4d9b587324c6",
       "version_major": 2,
       "version_minor": 0
      },
      "text/plain": [
       "  0%|          | 0/11 [00:00<?, ?it/s]"
      ]
     },
     "metadata": {},
     "output_type": "display_data"
    },
    {
     "data": {
      "application/vnd.jupyter.widget-view+json": {
       "model_id": "576f5d7344bd44f2bb448b592dbcf256",
       "version_major": 2,
       "version_minor": 0
      },
      "text/plain": [
       "  0%|          | 0/19 [00:00<?, ?it/s]"
      ]
     },
     "metadata": {},
     "output_type": "display_data"
    },
    {
     "data": {
      "application/vnd.jupyter.widget-view+json": {
       "model_id": "b4d27661fcad4984bdaef514eb1f0882",
       "version_major": 2,
       "version_minor": 0
      },
      "text/plain": [
       "  0%|          | 0/44 [00:00<?, ?it/s]"
      ]
     },
     "metadata": {},
     "output_type": "display_data"
    },
    {
     "data": {
      "application/vnd.jupyter.widget-view+json": {
       "model_id": "2cdf5ea1c22b4f59823b5753dc863275",
       "version_major": 2,
       "version_minor": 0
      },
      "text/plain": [
       "  0%|          | 0/10 [00:00<?, ?it/s]"
      ]
     },
     "metadata": {},
     "output_type": "display_data"
    },
    {
     "data": {
      "application/vnd.jupyter.widget-view+json": {
       "model_id": "df38d217681d4a4fb2fbc20b15eb6000",
       "version_major": 2,
       "version_minor": 0
      },
      "text/plain": [
       "  0%|          | 0/12 [00:00<?, ?it/s]"
      ]
     },
     "metadata": {},
     "output_type": "display_data"
    },
    {
     "data": {
      "application/vnd.jupyter.widget-view+json": {
       "model_id": "77268d3e943b4a6cbc430b2fa44b0d19",
       "version_major": 2,
       "version_minor": 0
      },
      "text/plain": [
       "  0%|          | 0/12 [00:00<?, ?it/s]"
      ]
     },
     "metadata": {},
     "output_type": "display_data"
    },
    {
     "data": {
      "application/vnd.jupyter.widget-view+json": {
       "model_id": "9dcb374a280b4c25970ce44f362a7c82",
       "version_major": 2,
       "version_minor": 0
      },
      "text/plain": [
       "  0%|          | 0/4 [00:00<?, ?it/s]"
      ]
     },
     "metadata": {},
     "output_type": "display_data"
    },
    {
     "data": {
      "application/vnd.jupyter.widget-view+json": {
       "model_id": "ae028ac6e33349c1bc0197d5721341b4",
       "version_major": 2,
       "version_minor": 0
      },
      "text/plain": [
       "  0%|          | 0/4 [00:00<?, ?it/s]"
      ]
     },
     "metadata": {},
     "output_type": "display_data"
    },
    {
     "data": {
      "application/vnd.jupyter.widget-view+json": {
       "model_id": "7f8075c972a54dbd890805a632740bc2",
       "version_major": 2,
       "version_minor": 0
      },
      "text/plain": [
       "  0%|          | 0/4 [00:00<?, ?it/s]"
      ]
     },
     "metadata": {},
     "output_type": "display_data"
    },
    {
     "data": {
      "application/vnd.jupyter.widget-view+json": {
       "model_id": "838a195f70a34551bf7fd233e0bb8ba0",
       "version_major": 2,
       "version_minor": 0
      },
      "text/plain": [
       "  0%|          | 0/2 [00:00<?, ?it/s]"
      ]
     },
     "metadata": {},
     "output_type": "display_data"
    },
    {
     "data": {
      "application/vnd.jupyter.widget-view+json": {
       "model_id": "c222a00d2d2b4ad095d087ad74cabdf0",
       "version_major": 2,
       "version_minor": 0
      },
      "text/plain": [
       "  0%|          | 0/4 [00:00<?, ?it/s]"
      ]
     },
     "metadata": {},
     "output_type": "display_data"
    },
    {
     "data": {
      "application/vnd.jupyter.widget-view+json": {
       "model_id": "c095e789a8674f649f81718dcf581a49",
       "version_major": 2,
       "version_minor": 0
      },
      "text/plain": [
       "  0%|          | 0/6 [00:00<?, ?it/s]"
      ]
     },
     "metadata": {},
     "output_type": "display_data"
    },
    {
     "data": {
      "application/vnd.jupyter.widget-view+json": {
       "model_id": "9120391e0b2d4ab6a1ca68224d60c7d2",
       "version_major": 2,
       "version_minor": 0
      },
      "text/plain": [
       "  0%|          | 0/24 [00:00<?, ?it/s]"
      ]
     },
     "metadata": {},
     "output_type": "display_data"
    },
    {
     "data": {
      "application/vnd.jupyter.widget-view+json": {
       "model_id": "b835bb11b16d4324a86b9a9ef0a562ac",
       "version_major": 2,
       "version_minor": 0
      },
      "text/plain": [
       "  0%|          | 0/30 [00:00<?, ?it/s]"
      ]
     },
     "metadata": {},
     "output_type": "display_data"
    },
    {
     "data": {
      "application/vnd.jupyter.widget-view+json": {
       "model_id": "fbb876aeb48f42a682fdff3379e86f2d",
       "version_major": 2,
       "version_minor": 0
      },
      "text/plain": [
       "  0%|          | 0/17 [00:00<?, ?it/s]"
      ]
     },
     "metadata": {},
     "output_type": "display_data"
    },
    {
     "data": {
      "application/vnd.jupyter.widget-view+json": {
       "model_id": "23bf2bc584dc44fb9d3d9b55eda2d92c",
       "version_major": 2,
       "version_minor": 0
      },
      "text/plain": [
       "  0%|          | 0/13 [00:00<?, ?it/s]"
      ]
     },
     "metadata": {},
     "output_type": "display_data"
    },
    {
     "data": {
      "application/vnd.jupyter.widget-view+json": {
       "model_id": "fab25f41aa554c24bae60e2082bf2302",
       "version_major": 2,
       "version_minor": 0
      },
      "text/plain": [
       "  0%|          | 0/22 [00:00<?, ?it/s]"
      ]
     },
     "metadata": {},
     "output_type": "display_data"
    },
    {
     "data": {
      "application/vnd.jupyter.widget-view+json": {
       "model_id": "8ee42bc4beff492caea467033044a1d2",
       "version_major": 2,
       "version_minor": 0
      },
      "text/plain": [
       "  0%|          | 0/12 [00:00<?, ?it/s]"
      ]
     },
     "metadata": {},
     "output_type": "display_data"
    },
    {
     "data": {
      "application/vnd.jupyter.widget-view+json": {
       "model_id": "db6b0ea2c0fc41fe9c8467076dc9f735",
       "version_major": 2,
       "version_minor": 0
      },
      "text/plain": [
       "  0%|          | 0/11 [00:00<?, ?it/s]"
      ]
     },
     "metadata": {},
     "output_type": "display_data"
    },
    {
     "data": {
      "application/vnd.jupyter.widget-view+json": {
       "model_id": "f2f3504e34484f51b7f0f8bbf7f6e61e",
       "version_major": 2,
       "version_minor": 0
      },
      "text/plain": [
       "  0%|          | 0/16 [00:00<?, ?it/s]"
      ]
     },
     "metadata": {},
     "output_type": "display_data"
    },
    {
     "data": {
      "application/vnd.jupyter.widget-view+json": {
       "model_id": "246865e1467641c0a3085d8191da7c8f",
       "version_major": 2,
       "version_minor": 0
      },
      "text/plain": [
       "  0%|          | 0/6 [00:00<?, ?it/s]"
      ]
     },
     "metadata": {},
     "output_type": "display_data"
    },
    {
     "data": {
      "application/vnd.jupyter.widget-view+json": {
       "model_id": "d0991c039e28417e930a9fddc60d4ce4",
       "version_major": 2,
       "version_minor": 0
      },
      "text/plain": [
       "  0%|          | 0/6 [00:00<?, ?it/s]"
      ]
     },
     "metadata": {},
     "output_type": "display_data"
    },
    {
     "data": {
      "application/vnd.jupyter.widget-view+json": {
       "model_id": "3ae4e74ba1b44181ae6d9ed516bf3865",
       "version_major": 2,
       "version_minor": 0
      },
      "text/plain": [
       "  0%|          | 0/2 [00:00<?, ?it/s]"
      ]
     },
     "metadata": {},
     "output_type": "display_data"
    },
    {
     "data": {
      "application/vnd.jupyter.widget-view+json": {
       "model_id": "cd5a870b857a4df1a76b7279403232ed",
       "version_major": 2,
       "version_minor": 0
      },
      "text/plain": [
       "  0%|          | 0/22 [00:00<?, ?it/s]"
      ]
     },
     "metadata": {},
     "output_type": "display_data"
    },
    {
     "data": {
      "application/vnd.jupyter.widget-view+json": {
       "model_id": "b906983fbe9842d388edde9d362e0cde",
       "version_major": 2,
       "version_minor": 0
      },
      "text/plain": [
       "  0%|          | 0/6 [00:00<?, ?it/s]"
      ]
     },
     "metadata": {},
     "output_type": "display_data"
    },
    {
     "data": {
      "application/vnd.jupyter.widget-view+json": {
       "model_id": "1288daf125704c158df67e8ee97f42f2",
       "version_major": 2,
       "version_minor": 0
      },
      "text/plain": [
       "  0%|          | 0/7 [00:00<?, ?it/s]"
      ]
     },
     "metadata": {},
     "output_type": "display_data"
    },
    {
     "data": {
      "application/vnd.jupyter.widget-view+json": {
       "model_id": "8c04144105e8499a93cdb0bd8a143a3e",
       "version_major": 2,
       "version_minor": 0
      },
      "text/plain": [
       "  0%|          | 0/13 [00:00<?, ?it/s]"
      ]
     },
     "metadata": {},
     "output_type": "display_data"
    },
    {
     "data": {
      "application/vnd.jupyter.widget-view+json": {
       "model_id": "9ce3fd4b7f0d48618d24a6d9ea49fbf5",
       "version_major": 2,
       "version_minor": 0
      },
      "text/plain": [
       "  0%|          | 0/10 [00:00<?, ?it/s]"
      ]
     },
     "metadata": {},
     "output_type": "display_data"
    },
    {
     "data": {
      "application/vnd.jupyter.widget-view+json": {
       "model_id": "4e784dff28694161a5f96c604ce73c54",
       "version_major": 2,
       "version_minor": 0
      },
      "text/plain": [
       "  0%|          | 0/14 [00:00<?, ?it/s]"
      ]
     },
     "metadata": {},
     "output_type": "display_data"
    },
    {
     "data": {
      "application/vnd.jupyter.widget-view+json": {
       "model_id": "9021c88fa70a4457a459cace36eeee46",
       "version_major": 2,
       "version_minor": 0
      },
      "text/plain": [
       "  0%|          | 0/7 [00:00<?, ?it/s]"
      ]
     },
     "metadata": {},
     "output_type": "display_data"
    },
    {
     "data": {
      "application/vnd.jupyter.widget-view+json": {
       "model_id": "19e4b12c874e4e1c9fd7a53e30e88ea7",
       "version_major": 2,
       "version_minor": 0
      },
      "text/plain": [
       "  0%|          | 0/29 [00:00<?, ?it/s]"
      ]
     },
     "metadata": {},
     "output_type": "display_data"
    },
    {
     "data": {
      "application/vnd.jupyter.widget-view+json": {
       "model_id": "6544aeb19dfb4ccd82e6f837c31bdf72",
       "version_major": 2,
       "version_minor": 0
      },
      "text/plain": [
       "  0%|          | 0/4 [00:00<?, ?it/s]"
      ]
     },
     "metadata": {},
     "output_type": "display_data"
    },
    {
     "data": {
      "application/vnd.jupyter.widget-view+json": {
       "model_id": "1322a601d38b47899bd998ad12f66285",
       "version_major": 2,
       "version_minor": 0
      },
      "text/plain": [
       "  0%|          | 0/10 [00:00<?, ?it/s]"
      ]
     },
     "metadata": {},
     "output_type": "display_data"
    },
    {
     "data": {
      "application/vnd.jupyter.widget-view+json": {
       "model_id": "16edf81773194de69ffa84a137418c72",
       "version_major": 2,
       "version_minor": 0
      },
      "text/plain": [
       "  0%|          | 0/32 [00:00<?, ?it/s]"
      ]
     },
     "metadata": {},
     "output_type": "display_data"
    },
    {
     "data": {
      "application/vnd.jupyter.widget-view+json": {
       "model_id": "cba6c20e3de24027a5a37179f720e6df",
       "version_major": 2,
       "version_minor": 0
      },
      "text/plain": [
       "  0%|          | 0/6 [00:00<?, ?it/s]"
      ]
     },
     "metadata": {},
     "output_type": "display_data"
    },
    {
     "data": {
      "application/vnd.jupyter.widget-view+json": {
       "model_id": "8245ba29227347bd834c229e60c16a08",
       "version_major": 2,
       "version_minor": 0
      },
      "text/plain": [
       "  0%|          | 0/4 [00:00<?, ?it/s]"
      ]
     },
     "metadata": {},
     "output_type": "display_data"
    },
    {
     "data": {
      "application/vnd.jupyter.widget-view+json": {
       "model_id": "d11ad3eae5ee4f629287507fe2799878",
       "version_major": 2,
       "version_minor": 0
      },
      "text/plain": [
       "  0%|          | 0/1 [00:00<?, ?it/s]"
      ]
     },
     "metadata": {},
     "output_type": "display_data"
    },
    {
     "data": {
      "application/vnd.jupyter.widget-view+json": {
       "model_id": "67408a3ed5e1488db794c394a07068c0",
       "version_major": 2,
       "version_minor": 0
      },
      "text/plain": [
       "  0%|          | 0/11 [00:00<?, ?it/s]"
      ]
     },
     "metadata": {},
     "output_type": "display_data"
    },
    {
     "data": {
      "application/vnd.jupyter.widget-view+json": {
       "model_id": "357d71265ee6477e9b103a26458a7d15",
       "version_major": 2,
       "version_minor": 0
      },
      "text/plain": [
       "  0%|          | 0/8 [00:00<?, ?it/s]"
      ]
     },
     "metadata": {},
     "output_type": "display_data"
    },
    {
     "data": {
      "application/vnd.jupyter.widget-view+json": {
       "model_id": "b99f97d1825043f98445e12448c234f6",
       "version_major": 2,
       "version_minor": 0
      },
      "text/plain": [
       "  0%|          | 0/8 [00:00<?, ?it/s]"
      ]
     },
     "metadata": {},
     "output_type": "display_data"
    },
    {
     "data": {
      "application/vnd.jupyter.widget-view+json": {
       "model_id": "743d2d00751641e78fe50165c6540fc3",
       "version_major": 2,
       "version_minor": 0
      },
      "text/plain": [
       "  0%|          | 0/4 [00:00<?, ?it/s]"
      ]
     },
     "metadata": {},
     "output_type": "display_data"
    },
    {
     "data": {
      "application/vnd.jupyter.widget-view+json": {
       "model_id": "3c0e94e7ca0f49419394745590930493",
       "version_major": 2,
       "version_minor": 0
      },
      "text/plain": [
       "  0%|          | 0/2 [00:00<?, ?it/s]"
      ]
     },
     "metadata": {},
     "output_type": "display_data"
    },
    {
     "data": {
      "application/vnd.jupyter.widget-view+json": {
       "model_id": "d339b3f2ae7440ee9af7201fe59e8da3",
       "version_major": 2,
       "version_minor": 0
      },
      "text/plain": [
       "  0%|          | 0/10 [00:00<?, ?it/s]"
      ]
     },
     "metadata": {},
     "output_type": "display_data"
    },
    {
     "data": {
      "application/vnd.jupyter.widget-view+json": {
       "model_id": "b264cafa62e94306a83b7dbcfe2928c5",
       "version_major": 2,
       "version_minor": 0
      },
      "text/plain": [
       "  0%|          | 0/4 [00:00<?, ?it/s]"
      ]
     },
     "metadata": {},
     "output_type": "display_data"
    },
    {
     "data": {
      "application/vnd.jupyter.widget-view+json": {
       "model_id": "f964a586a92e42d1b7f1898a349312eb",
       "version_major": 2,
       "version_minor": 0
      },
      "text/plain": [
       "  0%|          | 0/32 [00:00<?, ?it/s]"
      ]
     },
     "metadata": {},
     "output_type": "display_data"
    },
    {
     "data": {
      "application/vnd.jupyter.widget-view+json": {
       "model_id": "bc97344bc0bd42a6af003351aea6cfc4",
       "version_major": 2,
       "version_minor": 0
      },
      "text/plain": [
       "  0%|          | 0/5 [00:00<?, ?it/s]"
      ]
     },
     "metadata": {},
     "output_type": "display_data"
    },
    {
     "data": {
      "application/vnd.jupyter.widget-view+json": {
       "model_id": "307ea15a027f4094a7714b300c7eeaae",
       "version_major": 2,
       "version_minor": 0
      },
      "text/plain": [
       "  0%|          | 0/7 [00:00<?, ?it/s]"
      ]
     },
     "metadata": {},
     "output_type": "display_data"
    },
    {
     "data": {
      "application/vnd.jupyter.widget-view+json": {
       "model_id": "6329ab2ad3cd472b972cccfaf8bbadd8",
       "version_major": 2,
       "version_minor": 0
      },
      "text/plain": [
       "  0%|          | 0/3 [00:00<?, ?it/s]"
      ]
     },
     "metadata": {},
     "output_type": "display_data"
    },
    {
     "data": {
      "application/vnd.jupyter.widget-view+json": {
       "model_id": "51043690376d4faeb373cbb93628f6e1",
       "version_major": 2,
       "version_minor": 0
      },
      "text/plain": [
       "  0%|          | 0/5 [00:00<?, ?it/s]"
      ]
     },
     "metadata": {},
     "output_type": "display_data"
    },
    {
     "data": {
      "application/vnd.jupyter.widget-view+json": {
       "model_id": "d107a29dd8d144a88f4e06938cc9d883",
       "version_major": 2,
       "version_minor": 0
      },
      "text/plain": [
       "  0%|          | 0/130 [00:00<?, ?it/s]"
      ]
     },
     "metadata": {},
     "output_type": "display_data"
    },
    {
     "data": {
      "application/vnd.jupyter.widget-view+json": {
       "model_id": "fd1d58c1d0d74b0da046d6b24d590a30",
       "version_major": 2,
       "version_minor": 0
      },
      "text/plain": [
       "  0%|          | 0/40 [00:00<?, ?it/s]"
      ]
     },
     "metadata": {},
     "output_type": "display_data"
    },
    {
     "data": {
      "application/vnd.jupyter.widget-view+json": {
       "model_id": "31200c4d6a9045a2953d19ba2bf074c7",
       "version_major": 2,
       "version_minor": 0
      },
      "text/plain": [
       "  0%|          | 0/209 [00:00<?, ?it/s]"
      ]
     },
     "metadata": {},
     "output_type": "display_data"
    },
    {
     "data": {
      "application/vnd.jupyter.widget-view+json": {
       "model_id": "9a576acb89fc4061b253e88f303cef29",
       "version_major": 2,
       "version_minor": 0
      },
      "text/plain": [
       "  0%|          | 0/124 [00:00<?, ?it/s]"
      ]
     },
     "metadata": {},
     "output_type": "display_data"
    },
    {
     "data": {
      "application/vnd.jupyter.widget-view+json": {
       "model_id": "ea4e0db418374b188e486b8008f5c8e4",
       "version_major": 2,
       "version_minor": 0
      },
      "text/plain": [
       "  0%|          | 0/45 [00:00<?, ?it/s]"
      ]
     },
     "metadata": {},
     "output_type": "display_data"
    },
    {
     "data": {
      "application/vnd.jupyter.widget-view+json": {
       "model_id": "ed1b4696acc04337b720a58d59fe91fb",
       "version_major": 2,
       "version_minor": 0
      },
      "text/plain": [
       "  0%|          | 0/148 [00:00<?, ?it/s]"
      ]
     },
     "metadata": {},
     "output_type": "display_data"
    },
    {
     "data": {
      "application/vnd.jupyter.widget-view+json": {
       "model_id": "9c14bd103cb645ed896244ea15f417e2",
       "version_major": 2,
       "version_minor": 0
      },
      "text/plain": [
       "  0%|          | 0/22 [00:00<?, ?it/s]"
      ]
     },
     "metadata": {},
     "output_type": "display_data"
    },
    {
     "data": {
      "application/vnd.jupyter.widget-view+json": {
       "model_id": "2eb813fb9e464b44a5e7efcb01fa117f",
       "version_major": 2,
       "version_minor": 0
      },
      "text/plain": [
       "  0%|          | 0/16 [00:00<?, ?it/s]"
      ]
     },
     "metadata": {},
     "output_type": "display_data"
    },
    {
     "data": {
      "application/vnd.jupyter.widget-view+json": {
       "model_id": "82d2ca067d394a3c981ea4e49cb81892",
       "version_major": 2,
       "version_minor": 0
      },
      "text/plain": [
       "  0%|          | 0/16 [00:00<?, ?it/s]"
      ]
     },
     "metadata": {},
     "output_type": "display_data"
    },
    {
     "data": {
      "application/vnd.jupyter.widget-view+json": {
       "model_id": "9b7293c9616343ea972e0a708351189b",
       "version_major": 2,
       "version_minor": 0
      },
      "text/plain": [
       "  0%|          | 0/26 [00:00<?, ?it/s]"
      ]
     },
     "metadata": {},
     "output_type": "display_data"
    },
    {
     "data": {
      "application/vnd.jupyter.widget-view+json": {
       "model_id": "4b99421f81d44f76b664aff16b94cac4",
       "version_major": 2,
       "version_minor": 0
      },
      "text/plain": [
       "  0%|          | 0/37 [00:00<?, ?it/s]"
      ]
     },
     "metadata": {},
     "output_type": "display_data"
    },
    {
     "data": {
      "application/vnd.jupyter.widget-view+json": {
       "model_id": "c2ce18aacd6645aab5e1fc816d70e746",
       "version_major": 2,
       "version_minor": 0
      },
      "text/plain": [
       "  0%|          | 0/29 [00:00<?, ?it/s]"
      ]
     },
     "metadata": {},
     "output_type": "display_data"
    },
    {
     "data": {
      "application/vnd.jupyter.widget-view+json": {
       "model_id": "ab89969f17454781b5777b973a15fc61",
       "version_major": 2,
       "version_minor": 0
      },
      "text/plain": [
       "  0%|          | 0/29 [00:00<?, ?it/s]"
      ]
     },
     "metadata": {},
     "output_type": "display_data"
    },
    {
     "data": {
      "application/vnd.jupyter.widget-view+json": {
       "model_id": "4c5697c575b84a46b67a5ca57e3b6f17",
       "version_major": 2,
       "version_minor": 0
      },
      "text/plain": [
       "  0%|          | 0/147 [00:00<?, ?it/s]"
      ]
     },
     "metadata": {},
     "output_type": "display_data"
    },
    {
     "data": {
      "application/vnd.jupyter.widget-view+json": {
       "model_id": "f9f44df7cc464f4da829a9db3e66fe68",
       "version_major": 2,
       "version_minor": 0
      },
      "text/plain": [
       "  0%|          | 0/19 [00:00<?, ?it/s]"
      ]
     },
     "metadata": {},
     "output_type": "display_data"
    },
    {
     "data": {
      "application/vnd.jupyter.widget-view+json": {
       "model_id": "bcc407a66fe342c585e0142d3affc7b8",
       "version_major": 2,
       "version_minor": 0
      },
      "text/plain": [
       "  0%|          | 0/21 [00:00<?, ?it/s]"
      ]
     },
     "metadata": {},
     "output_type": "display_data"
    },
    {
     "data": {
      "application/vnd.jupyter.widget-view+json": {
       "model_id": "4ecdebbabd0344778f7d0a07f5882c71",
       "version_major": 2,
       "version_minor": 0
      },
      "text/plain": [
       "  0%|          | 0/28 [00:00<?, ?it/s]"
      ]
     },
     "metadata": {},
     "output_type": "display_data"
    },
    {
     "data": {
      "application/vnd.jupyter.widget-view+json": {
       "model_id": "4252c12405ec471091a44e51ac10d9f9",
       "version_major": 2,
       "version_minor": 0
      },
      "text/plain": [
       "  0%|          | 0/21 [00:00<?, ?it/s]"
      ]
     },
     "metadata": {},
     "output_type": "display_data"
    },
    {
     "data": {
      "application/vnd.jupyter.widget-view+json": {
       "model_id": "c5f1191dd1f143adb4e3258db59d2cb0",
       "version_major": 2,
       "version_minor": 0
      },
      "text/plain": [
       "  0%|          | 0/31 [00:00<?, ?it/s]"
      ]
     },
     "metadata": {},
     "output_type": "display_data"
    },
    {
     "data": {
      "application/vnd.jupyter.widget-view+json": {
       "model_id": "93d71202180e492c845189b351d0e9ac",
       "version_major": 2,
       "version_minor": 0
      },
      "text/plain": [
       "  0%|          | 0/32 [00:00<?, ?it/s]"
      ]
     },
     "metadata": {},
     "output_type": "display_data"
    },
    {
     "data": {
      "application/vnd.jupyter.widget-view+json": {
       "model_id": "4ae47fe4d6f846c2aa243433afef8527",
       "version_major": 2,
       "version_minor": 0
      },
      "text/plain": [
       "  0%|          | 0/56 [00:00<?, ?it/s]"
      ]
     },
     "metadata": {},
     "output_type": "display_data"
    },
    {
     "data": {
      "application/vnd.jupyter.widget-view+json": {
       "model_id": "67a0e9a0dc81406f907d47b57a9dcf8e",
       "version_major": 2,
       "version_minor": 0
      },
      "text/plain": [
       "  0%|          | 0/23 [00:00<?, ?it/s]"
      ]
     },
     "metadata": {},
     "output_type": "display_data"
    },
    {
     "data": {
      "application/vnd.jupyter.widget-view+json": {
       "model_id": "84c2d7610eff4e3d88e0672795669363",
       "version_major": 2,
       "version_minor": 0
      },
      "text/plain": [
       "  0%|          | 0/58 [00:00<?, ?it/s]"
      ]
     },
     "metadata": {},
     "output_type": "display_data"
    },
    {
     "data": {
      "application/vnd.jupyter.widget-view+json": {
       "model_id": "36fc7ad0cfe348c58d5e13a7052b1fd2",
       "version_major": 2,
       "version_minor": 0
      },
      "text/plain": [
       "  0%|          | 0/13 [00:00<?, ?it/s]"
      ]
     },
     "metadata": {},
     "output_type": "display_data"
    },
    {
     "data": {
      "application/vnd.jupyter.widget-view+json": {
       "model_id": "7be532972a1e4e3692125e42bcc0af94",
       "version_major": 2,
       "version_minor": 0
      },
      "text/plain": [
       "  0%|          | 0/32 [00:00<?, ?it/s]"
      ]
     },
     "metadata": {},
     "output_type": "display_data"
    },
    {
     "data": {
      "application/vnd.jupyter.widget-view+json": {
       "model_id": "0711a1c1f63b4f6d9222b58c975b4caf",
       "version_major": 2,
       "version_minor": 0
      },
      "text/plain": [
       "  0%|          | 0/26 [00:00<?, ?it/s]"
      ]
     },
     "metadata": {},
     "output_type": "display_data"
    },
    {
     "data": {
      "application/vnd.jupyter.widget-view+json": {
       "model_id": "22bf1c20dcce480d994fc3cfb1c6f636",
       "version_major": 2,
       "version_minor": 0
      },
      "text/plain": [
       "  0%|          | 0/39 [00:00<?, ?it/s]"
      ]
     },
     "metadata": {},
     "output_type": "display_data"
    },
    {
     "data": {
      "application/vnd.jupyter.widget-view+json": {
       "model_id": "df7822a7f7a449c2950421622a126ebd",
       "version_major": 2,
       "version_minor": 0
      },
      "text/plain": [
       "  0%|          | 0/20 [00:00<?, ?it/s]"
      ]
     },
     "metadata": {},
     "output_type": "display_data"
    },
    {
     "data": {
      "application/vnd.jupyter.widget-view+json": {
       "model_id": "f69000af42f343e98ae456bc1c81b5ec",
       "version_major": 2,
       "version_minor": 0
      },
      "text/plain": [
       "  0%|          | 0/37 [00:00<?, ?it/s]"
      ]
     },
     "metadata": {},
     "output_type": "display_data"
    },
    {
     "data": {
      "application/vnd.jupyter.widget-view+json": {
       "model_id": "d0b4299bae8c43029dd7648e7de72dba",
       "version_major": 2,
       "version_minor": 0
      },
      "text/plain": [
       "  0%|          | 0/16 [00:00<?, ?it/s]"
      ]
     },
     "metadata": {},
     "output_type": "display_data"
    },
    {
     "data": {
      "application/vnd.jupyter.widget-view+json": {
       "model_id": "20ed9d2d59494c269d7a974984e53b38",
       "version_major": 2,
       "version_minor": 0
      },
      "text/plain": [
       "  0%|          | 0/26 [00:00<?, ?it/s]"
      ]
     },
     "metadata": {},
     "output_type": "display_data"
    },
    {
     "data": {
      "application/vnd.jupyter.widget-view+json": {
       "model_id": "2a21c4758c64477091885accdad2d21c",
       "version_major": 2,
       "version_minor": 0
      },
      "text/plain": [
       "  0%|          | 0/10 [00:00<?, ?it/s]"
      ]
     },
     "metadata": {},
     "output_type": "display_data"
    },
    {
     "data": {
      "application/vnd.jupyter.widget-view+json": {
       "model_id": "463228bb78c349f9b7920598e41da1c3",
       "version_major": 2,
       "version_minor": 0
      },
      "text/plain": [
       "  0%|          | 0/30 [00:00<?, ?it/s]"
      ]
     },
     "metadata": {},
     "output_type": "display_data"
    },
    {
     "data": {
      "application/vnd.jupyter.widget-view+json": {
       "model_id": "d50d791c74e14a69bed44b4cfbe0af90",
       "version_major": 2,
       "version_minor": 0
      },
      "text/plain": [
       "  0%|          | 0/22 [00:00<?, ?it/s]"
      ]
     },
     "metadata": {},
     "output_type": "display_data"
    },
    {
     "data": {
      "application/vnd.jupyter.widget-view+json": {
       "model_id": "dfc4cf7da6d149d3b5e2349eb1539977",
       "version_major": 2,
       "version_minor": 0
      },
      "text/plain": [
       "  0%|          | 0/17 [00:00<?, ?it/s]"
      ]
     },
     "metadata": {},
     "output_type": "display_data"
    },
    {
     "data": {
      "application/vnd.jupyter.widget-view+json": {
       "model_id": "30f67bda4cf2413dbf18e7c26f835a05",
       "version_major": 2,
       "version_minor": 0
      },
      "text/plain": [
       "  0%|          | 0/29 [00:00<?, ?it/s]"
      ]
     },
     "metadata": {},
     "output_type": "display_data"
    },
    {
     "data": {
      "application/vnd.jupyter.widget-view+json": {
       "model_id": "ac35317c272f44cfa8c1e32dce28bb27",
       "version_major": 2,
       "version_minor": 0
      },
      "text/plain": [
       "  0%|          | 0/11 [00:00<?, ?it/s]"
      ]
     },
     "metadata": {},
     "output_type": "display_data"
    },
    {
     "data": {
      "application/vnd.jupyter.widget-view+json": {
       "model_id": "ad47c72e2a654e50b308dd4dfefb1fcb",
       "version_major": 2,
       "version_minor": 0
      },
      "text/plain": [
       "  0%|          | 0/29 [00:00<?, ?it/s]"
      ]
     },
     "metadata": {},
     "output_type": "display_data"
    },
    {
     "data": {
      "application/vnd.jupyter.widget-view+json": {
       "model_id": "cf07fec6a0f84baf95bdf3dd6d27169d",
       "version_major": 2,
       "version_minor": 0
      },
      "text/plain": [
       "  0%|          | 0/30 [00:00<?, ?it/s]"
      ]
     },
     "metadata": {},
     "output_type": "display_data"
    },
    {
     "data": {
      "application/vnd.jupyter.widget-view+json": {
       "model_id": "0be7b80ae3ed4d2c87757a38f4dd8c88",
       "version_major": 2,
       "version_minor": 0
      },
      "text/plain": [
       "  0%|          | 0/54 [00:00<?, ?it/s]"
      ]
     },
     "metadata": {},
     "output_type": "display_data"
    },
    {
     "data": {
      "application/vnd.jupyter.widget-view+json": {
       "model_id": "05a96dd98bda4f3e88c5896cf379abd1",
       "version_major": 2,
       "version_minor": 0
      },
      "text/plain": [
       "  0%|          | 0/9 [00:00<?, ?it/s]"
      ]
     },
     "metadata": {},
     "output_type": "display_data"
    },
    {
     "data": {
      "application/vnd.jupyter.widget-view+json": {
       "model_id": "f8b636c5f8e54e9ba6efa74524ce9b37",
       "version_major": 2,
       "version_minor": 0
      },
      "text/plain": [
       "  0%|          | 0/12 [00:00<?, ?it/s]"
      ]
     },
     "metadata": {},
     "output_type": "display_data"
    },
    {
     "data": {
      "application/vnd.jupyter.widget-view+json": {
       "model_id": "3954e122e6de445692a8949ea43b3fb6",
       "version_major": 2,
       "version_minor": 0
      },
      "text/plain": [
       "  0%|          | 0/9 [00:00<?, ?it/s]"
      ]
     },
     "metadata": {},
     "output_type": "display_data"
    },
    {
     "data": {
      "application/vnd.jupyter.widget-view+json": {
       "model_id": "2ee3e0d233d04063b424b8320ea4367c",
       "version_major": 2,
       "version_minor": 0
      },
      "text/plain": [
       "  0%|          | 0/11 [00:00<?, ?it/s]"
      ]
     },
     "metadata": {},
     "output_type": "display_data"
    },
    {
     "data": {
      "application/vnd.jupyter.widget-view+json": {
       "model_id": "c1a92bef31bd4d78bbdf1f6f0ca5f5bb",
       "version_major": 2,
       "version_minor": 0
      },
      "text/plain": [
       "  0%|          | 0/37 [00:00<?, ?it/s]"
      ]
     },
     "metadata": {},
     "output_type": "display_data"
    },
    {
     "data": {
      "application/vnd.jupyter.widget-view+json": {
       "model_id": "86e32515a53c473a88ef9416a4febdfc",
       "version_major": 2,
       "version_minor": 0
      },
      "text/plain": [
       "  0%|          | 0/16 [00:00<?, ?it/s]"
      ]
     },
     "metadata": {},
     "output_type": "display_data"
    },
    {
     "data": {
      "application/vnd.jupyter.widget-view+json": {
       "model_id": "01d7f24001024ebeb8edc522ff26c9dd",
       "version_major": 2,
       "version_minor": 0
      },
      "text/plain": [
       "  0%|          | 0/12 [00:00<?, ?it/s]"
      ]
     },
     "metadata": {},
     "output_type": "display_data"
    },
    {
     "data": {
      "application/vnd.jupyter.widget-view+json": {
       "model_id": "e424ee0e8dbc490887bc94af288baee8",
       "version_major": 2,
       "version_minor": 0
      },
      "text/plain": [
       "  0%|          | 0/74 [00:00<?, ?it/s]"
      ]
     },
     "metadata": {},
     "output_type": "display_data"
    },
    {
     "data": {
      "application/vnd.jupyter.widget-view+json": {
       "model_id": "dae31263e6f742bcba836d7eb4e02941",
       "version_major": 2,
       "version_minor": 0
      },
      "text/plain": [
       "  0%|          | 0/33 [00:00<?, ?it/s]"
      ]
     },
     "metadata": {},
     "output_type": "display_data"
    },
    {
     "data": {
      "application/vnd.jupyter.widget-view+json": {
       "model_id": "1b2d0fa257654c0d8c8273fc61c6da9c",
       "version_major": 2,
       "version_minor": 0
      },
      "text/plain": [
       "  0%|          | 0/30 [00:00<?, ?it/s]"
      ]
     },
     "metadata": {},
     "output_type": "display_data"
    },
    {
     "data": {
      "application/vnd.jupyter.widget-view+json": {
       "model_id": "99ac2151da434d78b5b4c28d915530a3",
       "version_major": 2,
       "version_minor": 0
      },
      "text/plain": [
       "  0%|          | 0/15 [00:00<?, ?it/s]"
      ]
     },
     "metadata": {},
     "output_type": "display_data"
    },
    {
     "data": {
      "application/vnd.jupyter.widget-view+json": {
       "model_id": "5032e020f33347859f39dc329f2c3cb1",
       "version_major": 2,
       "version_minor": 0
      },
      "text/plain": [
       "  0%|          | 0/5 [00:00<?, ?it/s]"
      ]
     },
     "metadata": {},
     "output_type": "display_data"
    },
    {
     "data": {
      "application/vnd.jupyter.widget-view+json": {
       "model_id": "919063fa4eee4d18a4935e6c3e63a75f",
       "version_major": 2,
       "version_minor": 0
      },
      "text/plain": [
       "  0%|          | 0/24 [00:00<?, ?it/s]"
      ]
     },
     "metadata": {},
     "output_type": "display_data"
    },
    {
     "data": {
      "application/vnd.jupyter.widget-view+json": {
       "model_id": "13d4b65a36ea4019b668ceb84b43b377",
       "version_major": 2,
       "version_minor": 0
      },
      "text/plain": [
       "  0%|          | 0/23 [00:00<?, ?it/s]"
      ]
     },
     "metadata": {},
     "output_type": "display_data"
    },
    {
     "data": {
      "application/vnd.jupyter.widget-view+json": {
       "model_id": "457ece71aed5422584677a227e887b01",
       "version_major": 2,
       "version_minor": 0
      },
      "text/plain": [
       "  0%|          | 0/12 [00:00<?, ?it/s]"
      ]
     },
     "metadata": {},
     "output_type": "display_data"
    },
    {
     "data": {
      "application/vnd.jupyter.widget-view+json": {
       "model_id": "cf92029ab87c4d8aadee9a67612e41b0",
       "version_major": 2,
       "version_minor": 0
      },
      "text/plain": [
       "  0%|          | 0/16 [00:00<?, ?it/s]"
      ]
     },
     "metadata": {},
     "output_type": "display_data"
    },
    {
     "data": {
      "application/vnd.jupyter.widget-view+json": {
       "model_id": "cc4aa27af629452b8e164c465ddb8f56",
       "version_major": 2,
       "version_minor": 0
      },
      "text/plain": [
       "  0%|          | 0/19 [00:00<?, ?it/s]"
      ]
     },
     "metadata": {},
     "output_type": "display_data"
    },
    {
     "name": "stdout",
     "output_type": "stream",
     "text": [
      "Synapsse Results:\n",
      "Total Number of Synapses = 4783\n",
      "n_valid_syn_ids_presyn = 7\n",
      "n_errored_syn_ids_presyn = 178\n",
      "n_valid_syn_ids_postsyn = 4551\n",
      "n_errored_syn_ids_postsyn = 47\n",
      "Synapsse Results:\n",
      "Total Number of Synapses = 4783\n",
      "n_valid_syn_ids_presyn = 7\n",
      "n_errored_syn_ids_presyn = 178\n",
      "n_valid_syn_ids_postsyn = 4551\n",
      "n_errored_syn_ids_postsyn = 47\n"
     ]
    },
    {
     "data": {
      "application/vnd.jupyter.widget-view+json": {
       "model_id": "6241cc9a83fb4cd7919d50fdb1ebb5f5",
       "version_major": 2,
       "version_minor": 0
      },
      "text/plain": [
       "  0%|          | 0/27 [00:00<?, ?it/s]"
      ]
     },
     "metadata": {},
     "output_type": "display_data"
    },
    {
     "data": {
      "application/vnd.jupyter.widget-view+json": {
       "model_id": "9248b47eee9b44b4b27bbb32a5d3da0a",
       "version_major": 2,
       "version_minor": 0
      },
      "text/plain": [
       "  0%|          | 0/17 [00:00<?, ?it/s]"
      ]
     },
     "metadata": {},
     "output_type": "display_data"
    },
    {
     "name": "stdout",
     "output_type": "stream",
     "text": [
      "Synapsse Results:\n",
      "Total Number of Synapses = 4783\n",
      "n_valid_syn_ids_presyn = 7\n",
      "n_errored_syn_ids_presyn = 178\n",
      "n_valid_syn_ids_postsyn = 4551\n",
      "n_errored_syn_ids_postsyn = 47\n",
      "Synapsse Results:\n",
      "Total Number of Synapses = 4783\n",
      "n_valid_syn_ids_presyn = 7\n",
      "n_errored_syn_ids_presyn = 178\n",
      "n_valid_syn_ids_postsyn = 4551\n",
      "n_errored_syn_ids_postsyn = 47\n"
     ]
    },
    {
     "data": {
      "application/vnd.jupyter.widget-view+json": {
       "model_id": "e903c7bd056444879c412989f2bedda1",
       "version_major": 2,
       "version_minor": 0
      },
      "text/plain": [
       "  0%|          | 0/27 [00:00<?, ?it/s]"
      ]
     },
     "metadata": {},
     "output_type": "display_data"
    },
    {
     "data": {
      "application/vnd.jupyter.widget-view+json": {
       "model_id": "4a76531723f24383bb0a075e8257ac8a",
       "version_major": 2,
       "version_minor": 0
      },
      "text/plain": [
       "  0%|          | 0/17 [00:00<?, ?it/s]"
      ]
     },
     "metadata": {},
     "output_type": "display_data"
    },
    {
     "name": "stdout",
     "output_type": "stream",
     "text": [
      "\n",
      "\n",
      "len(branch_attr_keys) = 44\n",
      "Saving Neuorn in suppress_output mode...please wait\n",
      "Saved File at location: /mnt/dj-stor01/platinum/minnie65/02/decomposition/864691135699269154_0_25_full_axon\n",
      "Save time = 379.6198990345001\n",
      "\n",
      "\n",
      " ***------ Total time for 864691135699269154 = 1495.0145485401154 ------ ***\n",
      "\n",
      "\n",
      "\n",
      "---- Working on Neuron 864691135212632448 ----\n",
      "Decompressing Neuron in minimal output mode...please wait\n",
      "Dont need spine recalculation\n",
      "Number of Neurons found = 1\n",
      "\n",
      "Part 1: Axon like branchese \n",
      "{'L0': array([ 0,  1,  2,  3,  4,  5,  6,  7,  8,  9, 10, 11, 12, 13, 14, 16, 17,\n",
      "       18, 19, 20, 22, 23, 24, 25, 26, 27, 28, 29, 30, 31, 32, 33, 34, 35,\n",
      "       36, 37, 38, 39, 40, 41, 42, 43, 44, 51]), 'L1': array([5]), 'L2': array([11]), 'L4': array([ 0,  1,  2,  3,  4,  5,  6,  7,  8,  9, 10, 11, 12, 13, 14, 15, 16,\n",
      "       17, 18, 19, 20, 21, 22, 23, 24, 25, 26, 27, 28, 29, 30, 31, 32, 33,\n",
      "       34, 35, 36, 37, 38, 39, 40, 41, 42, 43, 44, 45, 46, 47, 48, 49, 50,\n",
      "       51, 52, 53, 54, 55]), 'L5': array([ 1,  2,  3,  4,  5,  7,  8, 10, 11]), 'L6': array([ 8, 13])}\n",
      "Limb L0 soma angle: 73.36 \n",
      "Limb L1 soma angle: 39.44 \n",
      "Limb L2 soma angle: 101.61 \n",
      "Limb L3 soma angle: 111.28 \n",
      "Limb L4 soma angle: 161.23 \n",
      "Limb L5 soma angle: 25.74 \n",
      "Limb L6 soma angle: 123.13 \n",
      "\n",
      "Part 2: possible_axon_limbs = [0, 2, 3, 4, 6]\n",
      "\n",
      "Phase 2: Working on Limb L0\n",
      "nodes_to_eliminate = [45]\n",
      "\n",
      "Phase 2: Working on Limb L2\n",
      "nodes_to_eliminate = [0 2 3]\n",
      "\n",
      "Phase 2: Working on Limb L3\n",
      "nodes_to_eliminate = [ 9 12]\n",
      "\n",
      "Phase 2: Working on Limb L4\n",
      "nodes_to_eliminate = []\n",
      "\n",
      "Phase 2: Working on Limb L6\n",
      "nodes_to_eliminate = [10]\n",
      "\n",
      "----Working on Limb L0-----\n",
      "No endpoints were eliminated so don't need to add back any candidates\n",
      "\n",
      "----Working on Limb L2-----\n",
      "No endpoints were eliminated so don't need to add back any candidates\n",
      "\n",
      "----Working on Limb L3-----\n",
      "No endpoints were eliminated so don't need to add back any candidates\n",
      "\n",
      "----Working on Limb L4-----\n",
      "No nodes were eliminated so don't need to add back any candidates\n",
      "\n",
      "----Working on Limb L6-----\n",
      "No endpoints were eliminated so don't need to add back any candidates\n",
      "Final Candidates\n",
      "\n",
      "Limb 0\n",
      "Candidate 0 (olive): array([ 0,  1,  2,  3,  4,  5,  6,  7,  8,  9, 10, 11, 12, 13, 14, 15, 16,\n",
      "       17, 18, 19, 20, 21, 22, 23, 24, 25, 26, 27, 28, 29, 30, 31, 32, 33,\n",
      "       34, 35, 36, 37, 38, 39, 40, 41, 42, 43, 44, 46, 47])\n",
      "Candidate 1 (tan): array([48, 49, 50, 51, 52])\n",
      "\n",
      "Limb 2\n",
      "Candidate 0 (crimson): array([1])\n",
      "Candidate 1 (pink): array([4])\n",
      "Candidate 2 (palegreen): array([8, 5, 7])\n",
      "Candidate 3 (magenta): array([ 6,  9, 10, 11, 12])\n",
      "\n",
      "Limb 3\n",
      "Candidate 0 (darkslategray): array([ 3, 10, 11, 13])\n",
      "Candidate 1 (crimson): array([7])\n",
      "Candidate 2 (cyan): array([0, 1, 2, 4, 5, 6, 8])\n",
      "\n",
      "Limb 4\n",
      "Candidate 0 (crimson): array([ 0,  1,  2,  3,  4,  5,  6,  7,  8,  9, 10, 11, 12, 13, 14, 15, 16,\n",
      "       17, 18, 19, 20, 21, 22, 23, 24, 25, 26, 27, 28, 29, 30, 31, 32, 33,\n",
      "       34, 35, 36, 37, 38, 39, 40, 41, 42, 43, 44, 45, 46, 47, 48, 49, 50,\n",
      "       51, 52, 53, 54, 55])\n",
      "\n",
      "Limb 6\n",
      "Candidate 0 (brown): array([4, 5, 6, 8, 9])\n",
      "Candidate 1 (magenta): array([ 0,  1,  2,  3,  7, 11, 12, 13, 14, 15])\n",
      "Part 3: axon_subgraph_candidates = {0: [[0, 1, 2, 3, 4, 5, 6, 7, 8, 9, 10, 11, 12, 13, 14, 15, 16, 17, 18, 19, 20, 21, 22, 23, 24, 25, 26, 27, 28, 29, 30, 31, 32, 33, 34, 35, 36, 37, 38, 39, 40, 41, 42, 43, 44, 46, 47], [48, 49, 50, 51, 52]], 2: [[1], [4], [8, 5, 7], [6, 9, 10, 11, 12]], 3: [[3, 10, 11, 13], [7], [0, 1, 2, 4, 5, 6, 8]], 4: [[0, 1, 2, 3, 4, 5, 6, 7, 8, 9, 10, 11, 12, 13, 14, 15, 16, 17, 18, 19, 20, 21, 22, 23, 24, 25, 26, 27, 28, 29, 30, 31, 32, 33, 34, 35, 36, 37, 38, 39, 40, 41, 42, 43, 44, 45, 46, 47, 48, 49, 50, 51, 52, 53, 54, 55]], 6: [[4, 5, 6, 8, 9], [0, 1, 2, 3, 7, 11, 12, 13, 14, 15]]}\n",
      "\n",
      "\n",
      " --- Working on limb 0, candidate # 0\n",
      "43 out of 47 branches are axons\n",
      "Axon percentage = 0.9148936170212766\n",
      "curr_axon_angle_threshold = 95\n",
      "candidate_nodes = [ 0  1  2  3  4  5  6  7  8  9 10 11 12 13 14 15 16 17 18 19 20 21 22 23\n",
      " 24 25 26 27 28 29 30 31 32 33 34 35 36 37 38 39 40 41 42 43 44 45 46 47]\n",
      "non_axon_branches_on_subgraph = [15 21 45 46 47]\n",
      "endnodes_to_test = []\n",
      "candidate_angles,restr_skels = (None, None)\n",
      "Not adding candidate because no angles (None) passed the threhold 95 \n",
      "\n",
      "\n",
      " --- Working on limb 0, candidate # 1\n",
      "1 out of 5 branches are axons\n",
      "Axon percentage = 0.2\n",
      "curr_axon_angle_threshold = 120\n",
      "candidate_nodes = [45 48 49 50 51 52]\n",
      "non_axon_branches_on_subgraph = [45 48 49 50 52]\n",
      "endnodes_to_test = []\n",
      "candidate_angles,restr_skels = (None, None)\n",
      "Not adding candidate because no angles (None) passed the threhold 120 \n",
      "\n",
      "\n",
      " --- Working on limb 2, candidate # 0\n",
      "0 out of 1 branches are axons\n",
      "Axon percentage = 0.0\n",
      "Not adding candidate no axon branches detected \n",
      "\n",
      "\n",
      " --- Working on limb 2, candidate # 1\n",
      "0 out of 1 branches are axons\n",
      "Axon percentage = 0.0\n",
      "Not adding candidate no axon branches detected \n",
      "\n",
      "\n",
      " --- Working on limb 2, candidate # 2\n",
      "0 out of 3 branches are axons\n",
      "Axon percentage = 0.0\n",
      "Not adding candidate no axon branches detected \n",
      "\n",
      "\n",
      " --- Working on limb 2, candidate # 3\n",
      "1 out of 5 branches are axons\n",
      "Axon percentage = 0.2\n",
      "curr_axon_angle_threshold = 120\n",
      "candidate_nodes = [ 0  2  3  6  9 10 11 12]\n",
      "non_axon_branches_on_subgraph = [ 0  2  3  6  9 10 12]\n",
      "endnodes_to_test = []\n",
      "candidate_angles,restr_skels = (None, None)\n",
      "Not adding candidate because no angles (None) passed the threhold 120 \n",
      "\n",
      "\n",
      " --- Working on limb 3, candidate # 0\n",
      "0 out of 4 branches are axons\n",
      "Axon percentage = 0.0\n",
      "Not adding candidate no axon branches detected \n",
      "\n",
      "\n",
      " --- Working on limb 3, candidate # 1\n",
      "0 out of 1 branches are axons\n",
      "Axon percentage = 0.0\n",
      "Not adding candidate no axon branches detected \n",
      "\n",
      "\n",
      " --- Working on limb 3, candidate # 2\n",
      "0 out of 7 branches are axons\n",
      "Axon percentage = 0.0\n",
      "Not adding candidate no axon branches detected \n",
      "\n",
      "\n",
      " --- Working on limb 4, candidate # 0\n",
      "56 out of 56 branches are axons\n",
      "Axon percentage = 1.0\n",
      "curr_axon_angle_threshold = 95\n",
      "candidate_nodes = [ 0  1  2  3  4  5  6  7  8  9 10 11 12 13 14 15 16 17 18 19 20 21 22 23\n",
      " 24 25 26 27 28 29 30 31 32 33 34 35 36 37 38 39 40 41 42 43 44 45 46 47\n",
      " 48 49 50 51 52 53 54 55]\n",
      "non_axon_branches_on_subgraph = []\n",
      "endnodes_to_test = [8090]\n",
      "Skeleton paths distances = [24939.21074461]\n",
      "Filtered indexes = [0]\n",
      "len(filtered_skeletons) = 1\n",
      "sk_angles = [169.61302403]\n",
      "candidate_angles,restr_skels = (array([169.61302403]), [array([[[745651., 758185., 853570.],\n",
      "        [745661., 758357., 853586.]],\n",
      "\n",
      "       [[745661., 758357., 853586.],\n",
      "        [745674., 758493., 853600.]],\n",
      "\n",
      "       [[745674., 758493., 853600.],\n",
      "        [745684., 758582., 853610.]],\n",
      "\n",
      "       [[745684., 758582., 853610.],\n",
      "        [745699., 758690., 853626.]],\n",
      "\n",
      "       [[745699., 758690., 853626.],\n",
      "        [745721., 758830., 853644.]],\n",
      "\n",
      "       [[745721., 758830., 853644.],\n",
      "        [745741., 758933., 853659.]],\n",
      "\n",
      "       [[745741., 758933., 853659.],\n",
      "        [745763., 759048., 853675.]],\n",
      "\n",
      "       [[745763., 759048., 853675.],\n",
      "        [745796., 759199., 853699.]],\n",
      "\n",
      "       [[745796., 759199., 853699.],\n",
      "        [745829., 759319., 853719.]],\n",
      "\n",
      "       [[745829., 759319., 853719.],\n",
      "        [745862., 759434., 853742.]],\n",
      "\n",
      "       [[745862., 759434., 853742.],\n",
      "        [745890., 759529., 853760.]],\n",
      "\n",
      "       [[745890., 759529., 853760.],\n",
      "        [745942., 759706., 853794.]],\n",
      "\n",
      "       [[745942., 759706., 853794.],\n",
      "        [745979., 759831., 853818.]],\n",
      "\n",
      "       [[745979., 759831., 853818.],\n",
      "        [746024., 760001., 853855.]],\n",
      "\n",
      "       [[746024., 760001., 853855.],\n",
      "        [746040., 760066., 853869.]],\n",
      "\n",
      "       [[746040., 760066., 853869.],\n",
      "        [746065., 760165., 853889.]],\n",
      "\n",
      "       [[746065., 760165., 853889.],\n",
      "        [746096., 760302., 853918.]],\n",
      "\n",
      "       [[746096., 760302., 853918.],\n",
      "        [746118., 760419., 853946.]],\n",
      "\n",
      "       [[746118., 760419., 853946.],\n",
      "        [746129., 760479., 853960.]],\n",
      "\n",
      "       [[746129., 760479., 853960.],\n",
      "        [746150., 760601., 853988.]],\n",
      "\n",
      "       [[746150., 760601., 853988.],\n",
      "        [746166., 760724., 854016.]],\n",
      "\n",
      "       [[746166., 760724., 854016.],\n",
      "        [746177., 760815., 854039.]],\n",
      "\n",
      "       [[746177., 760815., 854039.],\n",
      "        [746191., 760939., 854068.]],\n",
      "\n",
      "       [[746191., 760939., 854068.],\n",
      "        [746201., 761035., 854095.]],\n",
      "\n",
      "       [[746201., 761035., 854095.],\n",
      "        [746213., 761134., 854123.]],\n",
      "\n",
      "       [[746213., 761134., 854123.],\n",
      "        [746225., 761226., 854151.]],\n",
      "\n",
      "       [[746225., 761226., 854151.],\n",
      "        [746243., 761356., 854194.]],\n",
      "\n",
      "       [[746243., 761356., 854194.],\n",
      "        [746262., 761483., 854239.]],\n",
      "\n",
      "       [[746262., 761483., 854239.],\n",
      "        [746282., 761607., 854286.]],\n",
      "\n",
      "       [[746282., 761607., 854286.],\n",
      "        [746293., 761678., 854312.]],\n",
      "\n",
      "       [[746293., 761678., 854312.],\n",
      "        [746314., 761823., 854365.]],\n",
      "\n",
      "       [[746314., 761823., 854365.],\n",
      "        [746324., 761902., 854391.]],\n",
      "\n",
      "       [[746324., 761902., 854391.],\n",
      "        [746327., 761938., 854402.]],\n",
      "\n",
      "       [[746327., 761938., 854402.],\n",
      "        [746336., 762048., 854432.]],\n",
      "\n",
      "       [[746336., 762048., 854432.],\n",
      "        [746338., 762070., 854437.]],\n",
      "\n",
      "       [[746338., 762070., 854437.],\n",
      "        [746345., 762224., 854471.]],\n",
      "\n",
      "       [[746345., 762224., 854471.],\n",
      "        [746341., 762450., 854498.]],\n",
      "\n",
      "       [[746341., 762450., 854498.],\n",
      "        [746330., 762612., 854505.]],\n",
      "\n",
      "       [[746330., 762612., 854505.],\n",
      "        [746315., 762720., 854497.]],\n",
      "\n",
      "       [[746315., 762720., 854497.],\n",
      "        [746308., 762768., 854492.]],\n",
      "\n",
      "       [[746308., 762768., 854492.],\n",
      "        [746275., 762904., 854461.]],\n",
      "\n",
      "       [[746275., 762904., 854461.],\n",
      "        [746241., 763044., 854424.]],\n",
      "\n",
      "       [[746241., 763044., 854424.],\n",
      "        [746195., 763220., 854376.]],\n",
      "\n",
      "       [[746195., 763220., 854376.],\n",
      "        [746152., 763388., 854332.]],\n",
      "\n",
      "       [[746152., 763388., 854332.],\n",
      "        [746139., 763436., 854322.]],\n",
      "\n",
      "       [[746139., 763436., 854322.],\n",
      "        [746117., 763520., 854305.]],\n",
      "\n",
      "       [[746117., 763520., 854305.],\n",
      "        [746087., 763633., 854289.]],\n",
      "\n",
      "       [[746087., 763633., 854289.],\n",
      "        [746060., 763737., 854276.]],\n",
      "\n",
      "       [[746060., 763737., 854276.],\n",
      "        [746008., 763945., 854264.]],\n",
      "\n",
      "       [[746008., 763945., 854264.],\n",
      "        [745975., 764078., 854263.]],\n",
      "\n",
      "       [[745975., 764078., 854263.],\n",
      "        [745941., 764228., 854274.]],\n",
      "\n",
      "       [[745941., 764228., 854274.],\n",
      "        [745915., 764349., 854288.]],\n",
      "\n",
      "       [[745915., 764349., 854288.],\n",
      "        [745880., 764546., 854329.]],\n",
      "\n",
      "       [[745880., 764546., 854329.],\n",
      "        [745859., 764719., 854381.]],\n",
      "\n",
      "       [[745859., 764719., 854381.],\n",
      "        [745847., 764874., 854435.]],\n",
      "\n",
      "       [[745847., 764874., 854435.],\n",
      "        [745839., 765126., 854539.]],\n",
      "\n",
      "       [[745839., 765126., 854539.],\n",
      "        [745838., 765274., 854606.]],\n",
      "\n",
      "       [[745838., 765274., 854606.],\n",
      "        [745838., 765405., 854669.]],\n",
      "\n",
      "       [[745838., 765405., 854669.],\n",
      "        [745835., 765563., 854749.]],\n",
      "\n",
      "       [[745835., 765563., 854749.],\n",
      "        [745834., 765638., 854789.]],\n",
      "\n",
      "       [[745834., 765638., 854789.],\n",
      "        [745830., 765742., 854848.]],\n",
      "\n",
      "       [[745830., 765742., 854848.],\n",
      "        [745826., 765810., 854887.]],\n",
      "\n",
      "       [[745826., 765810., 854887.],\n",
      "        [745821., 765898., 854939.]],\n",
      "\n",
      "       [[745821., 765898., 854939.],\n",
      "        [745807., 766074., 855043.]],\n",
      "\n",
      "       [[745807., 766074., 855043.],\n",
      "        [745795., 766207., 855120.]],\n",
      "\n",
      "       [[745795., 766207., 855120.],\n",
      "        [745781., 766337., 855190.]],\n",
      "\n",
      "       [[745781., 766337., 855190.],\n",
      "        [745767., 766480., 855261.]],\n",
      "\n",
      "       [[745767., 766480., 855261.],\n",
      "        [745751., 766708., 855351.]],\n",
      "\n",
      "       [[745751., 766708., 855351.],\n",
      "        [745746., 766873., 855389.]],\n",
      "\n",
      "       [[745746., 766873., 855389.],\n",
      "        [745743., 766995., 855407.]],\n",
      "\n",
      "       [[745743., 766995., 855407.],\n",
      "        [745742., 767032., 855409.]],\n",
      "\n",
      "       [[745742., 767032., 855409.],\n",
      "        [745740., 767141., 855412.]],\n",
      "\n",
      "       [[745740., 767141., 855412.],\n",
      "        [745734., 767306., 855406.]],\n",
      "\n",
      "       [[745734., 767306., 855406.],\n",
      "        [745726., 767476., 855391.]],\n",
      "\n",
      "       [[745726., 767476., 855391.],\n",
      "        [745714., 767648., 855369.]],\n",
      "\n",
      "       [[745714., 767648., 855369.],\n",
      "        [745696., 767839., 855339.]]])])\n"
     ]
    },
    {
     "name": "stdout",
     "output_type": "stream",
     "text": [
      "base_final_widths = [251.46068896  72.42524813]\n",
      "overall_ais_width = 251.46068895869251\n",
      "ais_width = 161.94296854411516\n",
      "Adding the following branches as true axons: [ 0.  1.  2.  3.  4.  5.  6.  7.  8.  9. 10. 11. 12. 13. 14. 15. 16. 17.\n",
      " 18. 19. 20. 21. 22. 23. 24. 25. 26. 27. 28. 29. 30. 31. 32. 33. 34. 35.\n",
      " 36. 37. 38. 39. 40. 41. 42. 43. 44. 45. 46. 47. 48. 49. 50. 51. 52. 53.\n",
      " 54. 55.]\n",
      "curr_soma_angle = 161.23\n",
      "max_axon_angle = 169.6130240301964\n",
      "Changing to a better axon candidate\n",
      "\n",
      "\n",
      " --- Working on limb 6, candidate # 0\n",
      "1 out of 5 branches are axons\n",
      "Axon percentage = 0.2\n",
      "curr_axon_angle_threshold = 120\n",
      "candidate_nodes = [ 4  5  6  8  9 10]\n",
      "non_axon_branches_on_subgraph = [ 4  5  6  9 10]\n",
      "endnodes_to_test = []\n",
      "candidate_angles,restr_skels = (None, None)\n",
      "Not adding candidate because no angles (None) passed the threhold 120 \n",
      "\n",
      "\n",
      " --- Working on limb 6, candidate # 1\n",
      "1 out of 10 branches are axons\n",
      "Axon percentage = 0.1\n",
      "curr_axon_angle_threshold = 120\n",
      "candidate_nodes = [ 0  1  2  3  7 10 11 12 13 14 15]\n",
      "non_axon_branches_on_subgraph = [ 0  1  2  3  7 10 11 12 14 15]\n",
      "endnodes_to_test = []\n",
      "candidate_angles,restr_skels = (None, None)\n",
      "Not adding candidate because no angles (None) passed the threhold 120 \n",
      "Using the best axon approach\n",
      "Using True\n",
      "Limb L4: Axon branches before dendritic path filter = [ 0.  1.  2.  3.  4.  5.  6.  7.  8.  9. 10. 11. 12. 13. 14. 15. 16. 17.\n",
      " 18. 19. 20. 21. 22. 23. 24. 25. 26. 27. 28. 29. 30. 31. 32. 33. 34. 35.\n",
      " 36. 37. 38. 39. 40. 41. 42. 43. 44. 45. 46. 47. 48. 49. 50. 51. 52. 53.\n",
      " 54. 55.]\n",
      "Limb L4: Axon branches AFTER dendritic path filter = [ 0.  1.  2.  3.  4.  5.  6.  7.  8.  9. 10. 11. 12. 13. 14. 15. 16. 17.\n",
      " 18. 19. 20. 21. 22. 23. 24. 25. 26. 27. 28. 29. 30. 31. 32. 33. 34. 35.\n",
      " 36. 37. 38. 39. 40. 41. 42. 43. 44. 45. 46. 47. 48. 49. 50. 51. 52. 53.\n",
      " 54. 55.]\n",
      "\n",
      "\n",
      "Part 4: final_true_axons = {'L4': array([ 0.,  1.,  2.,  3.,  4.,  5.,  6.,  7.,  8.,  9., 10., 11., 12.,\n",
      "       13., 14., 15., 16., 17., 18., 19., 20., 21., 22., 23., 24., 25.,\n",
      "       26., 27., 28., 29., 30., 31., 32., 33., 34., 35., 36., 37., 38.,\n",
      "       39., 40., 41., 42., 43., 44., 45., 46., 47., 48., 49., 50., 51.,\n",
      "       52., 53., 54., 55.])}\n",
      "\n",
      "--- Working on filter 0:\n",
      "function = dendrite_on_axon_merges\n",
      "function __name__ = filter_away_dendrite_on_axon_merges\n",
      "function arguments = {'use_pre_existing_axon_labels': True}\n",
      "\n",
      "\n",
      "\n",
      "\n",
      "\n",
      " ---- Total time for applying filter: 1.2952816486358643 -----\n",
      "Starting axon branch was the starting node so using border vertices and NOT computing upstream branch\n",
      "upstream_node_to_axon_starting_branch = None\n",
      "root_curr = [742948.9 748461.6 851662. ]\n",
      "Time for preparing soma vertices and root: 0.0008330345153808594\n",
      "invalidation_d = 2000\n",
      "cc_vertex_thresh = 10\n"
     ]
    },
    {
     "name": "stderr",
     "output_type": "stream",
     "text": [
      "\r",
      "  0%|          | 0/1 [00:00<?, ?it/s]"
     ]
    },
    {
     "data": {
      "application/vnd.jupyter.widget-view+json": {
       "model_id": "88a64e90dc584d4f8df6e803f060cd8a",
       "version_major": 2,
       "version_minor": 0
      },
      "text/plain": [
       "  0%|          | 0/67170 [00:00<?, ?it/s]"
      ]
     },
     "metadata": {},
     "output_type": "display_data"
    },
    {
     "name": "stderr",
     "output_type": "stream",
     "text": [
      "100%|██████████| 1/1 [00:04<00:00,  4.19s/it]\n"
     ]
    },
    {
     "name": "stdout",
     "output_type": "stream",
     "text": [
      "meshparty_segment_size = 100\n",
      "Time for 1st pass MP skeletonization: 5.821616172790527\n",
      "branches_touching_root = [8]\n",
      "combining close nodes\n",
      "combine_threshold = 1300\n",
      "length of Graph = 20288\n",
      "After combining close endpoints max(kept_branches_idx) = 171, len(kept_branches_idx) = 156\n",
      "empty_indices % = 0.0\n",
      " conflict_indices % = 0.02214013862822363\n"
     ]
    },
    {
     "data": {
      "application/vnd.jupyter.widget-view+json": {
       "model_id": "d850ce9b466846ed9253bf49d49c7a37",
       "version_major": 2,
       "version_minor": 0
      },
      "text/plain": [
       "  0%|          | 0/77 [00:00<?, ?it/s]"
      ]
     },
     "metadata": {},
     "output_type": "display_data"
    },
    {
     "name": "stdout",
     "output_type": "stream",
     "text": [
      "AFTER face_lookup_resolved_test\n"
     ]
    },
    {
     "data": {
      "application/vnd.jupyter.widget-view+json": {
       "model_id": "ace932202b7344a4bb9fb613f9ced8dc",
       "version_major": 2,
       "version_minor": 0
      },
      "text/plain": [
       "  0%|          | 0/156 [00:00<?, ?it/s]"
      ]
     },
     "metadata": {},
     "output_type": "display_data"
    },
    {
     "name": "stdout",
     "output_type": "stream",
     "text": [
      "Decomposing first pass: 29.687050580978394\n",
      "Only Using MeshParty Skeletonization and Mesh Correspondence\n",
      "Another print\n",
      "Divinding into MP and MAP pieces: 0.0001857280731201172\n",
      "Total time for MAP sublimb processing 3.814697265625e-06\n",
      "---- Working on MP Decomposition #0 ----\n",
      "Using Quicker soma_to_piece_touching_vertices because no MAP and only one sublimb_mesh piece \n",
      "MP filtering soma verts: 0.00027942657470703125\n",
      "Fixing Possible Soma Extension Branch for Sublimb 0\n",
      "Total time for mesh KDTree = 0.004242420196533203\n",
      "sbv[0].reshape(-1,3) = [[742948.9 748461.6 851662. ]]\n",
      "closest_sk_pt_coord BEFORE = [743251.56236007 748961.83532259 851947.77430191]\n",
      "current_skeleton.shape = (20, 2, 3)\n",
      "node_for_stitch = 5: [743251.56236007 748961.83532259 851947.77430191]\n",
      "node_for_stitch AFTER = 5: [743251.56236007 748961.83532259 851947.77430191]\n",
      "possible_node_loc = [ 0 17]\n",
      "possible_node_loc AFTER = [ 0 17]\n",
      "curr_shortest_path = [5, 4.0, 3.0, 2.0, 1.0, 0.0]\n",
      "Current stitch point was not a branch or endpoint, shortest_path_length to one = 499.9741823132092\n",
      "Changing the stitch point becasue the distance to end or branch node was 499.9741823132092\n",
      "New stitch point has degree 1\n",
      "change_status for create soma extending pieces = True\n",
      "closest_sk_pt_coord AFTER = [743010.53741999 748582.70209488 851728.93869076]\n",
      "skipping soma 0 because closest skeleton node was already end node\n",
      "endpoints_must_keep = {0: array([[743010.53741999, 748582.70209488, 851728.93869076]])}\n",
      "match_sk_branches = [8]\n",
      "The new branch info was none so skipping \n",
      "\n",
      "No soma extending branch was added for this sublimb even though it had a soma border (means they already existed)\n",
      "MP (because soma touching verts) soma extension add: 14.145154237747192\n",
      "There were not both MAP and MP pieces so skipping the stitch resolving phase\n",
      "Time for decomp of Limb = 50.78066802024841\n",
      "Number of matching vertices = 36\n",
      "Only one endpoint after filtering away the endpoints that are not on the skeleton\n",
      "Using Distance measure skeletal_distance\n",
      "endpoints_must_keep = [[743010.53741999 748582.70209488 851728.93869076]]\n",
      "Number of end_nodes BEFORE filtering = 88\n",
      "all_single_nodes_to_eliminate = [38]\n"
     ]
    },
    {
     "data": {
      "application/vnd.jupyter.widget-view+json": {
       "model_id": "7e87291c4df44b688a0f974d6fadf796",
       "version_major": 2,
       "version_minor": 0
      },
      "text/plain": [
       "  0%|          | 0/7 [00:00<?, ?it/s]"
      ]
     },
     "metadata": {},
     "output_type": "display_data"
    },
    {
     "name": "stdout",
     "output_type": "stream",
     "text": [
      "Removed 7 skeletal branches\n"
     ]
    },
    {
     "data": {
      "application/vnd.jupyter.widget-view+json": {
       "model_id": "785e27da485649ddb9b86e8d3182c5d0",
       "version_major": 2,
       "version_minor": 0
      },
      "text/plain": [
       "  0%|          | 0/156 [00:00<?, ?it/s]"
      ]
     },
     "metadata": {},
     "output_type": "display_data"
    },
    {
     "name": "stdout",
     "output_type": "stream",
     "text": [
      "134061 134062\n",
      "For marked faces: None\n",
      "empty_indices % = 0.0008801897629455029\n",
      " conflict_indices % = 0.0\n"
     ]
    },
    {
     "data": {
      "application/vnd.jupyter.widget-view+json": {
       "model_id": "c22add0b8c1a4a5f8849b85da38439f9",
       "version_major": 2,
       "version_minor": 0
      },
      "text/plain": [
       "  0%|          | 0/1 [00:00<?, ?it/s]"
      ]
     },
     "metadata": {},
     "output_type": "display_data"
    },
    {
     "name": "stdout",
     "output_type": "stream",
     "text": [
      "AFTER face_lookup_resolved_test\n"
     ]
    },
    {
     "data": {
      "application/vnd.jupyter.widget-view+json": {
       "model_id": "f62824dba9f646b08dfe259ebce29379",
       "version_major": 2,
       "version_minor": 0
      },
      "text/plain": [
       "  0%|          | 0/143 [00:00<?, ?it/s]"
      ]
     },
     "metadata": {},
     "output_type": "display_data"
    },
    {
     "name": "stdout",
     "output_type": "stream",
     "text": [
      "Limb Correspondence before stitching = 143\n",
      "Limb Correspondence AFTER stitching = 143\n",
      "Upstream node was None so don't have to adjust\n",
      "concept_network_dict = {0: [<networkx_utils.GraphOrderedEdges object at 0x7f3d645f30b8>]}\n",
      "\n",
      "\n",
      "----Working on seperate_graph 0----\n",
      "\n",
      "\n",
      "---------Working on soma_idx = 0, soma_group_idx 0, endpt = [743010.53741999 748582.70209488 851728.93869076]---------\n",
      "Starting_edge inside branches_to_conept = [[743010.53741999 748582.70209488 851728.93869076]\n",
      " [748227.12313113 784200.59323633 852263.21933526]]\n",
      "At the start, starting_node (in terms of the skeleton, that shouldn't match the starting edge) = [58]\n",
      "printing out current edge:\n",
      "[[743010.53741999 748582.70209488 851728.93869076]\n",
      " [748227.12313113 784200.59323633 852263.21933526]]\n",
      "edge_endpoints_to_process was empty so exiting loop after 143 iterations\n",
      "starting_node in concept map (that should match the starting edge) = 65\n",
      "Total time for branches to concept conversion = 2.511068820953369\n",
      "\n",
      "Done generating concept network \n",
      "\n",
      "\n"
     ]
    },
    {
     "data": {
      "application/vnd.jupyter.widget-view+json": {
       "model_id": "d2df6bc947a341d0b30b9ed78ac2f0bb",
       "version_major": 2,
       "version_minor": 0
      },
      "text/plain": [
       "  0%|          | 0/128 [00:00<?, ?it/s]"
      ]
     },
     "metadata": {},
     "output_type": "display_data"
    },
    {
     "data": {
      "application/vnd.jupyter.widget-view+json": {
       "model_id": "937c38efd79443308a3af441815bea6b",
       "version_major": 2,
       "version_minor": 0
      },
      "text/plain": [
       "  0%|          | 0/39 [00:00<?, ?it/s]"
      ]
     },
     "metadata": {},
     "output_type": "display_data"
    },
    {
     "data": {
      "application/vnd.jupyter.widget-view+json": {
       "model_id": "a472d597c21c4551ab7aed6afa151adb",
       "version_major": 2,
       "version_minor": 0
      },
      "text/plain": [
       "  0%|          | 0/5 [00:00<?, ?it/s]"
      ]
     },
     "metadata": {},
     "output_type": "display_data"
    },
    {
     "data": {
      "application/vnd.jupyter.widget-view+json": {
       "model_id": "ab038fb63965483f97017fca2a1822b8",
       "version_major": 2,
       "version_minor": 0
      },
      "text/plain": [
       "  0%|          | 0/46 [00:00<?, ?it/s]"
      ]
     },
     "metadata": {},
     "output_type": "display_data"
    },
    {
     "data": {
      "application/vnd.jupyter.widget-view+json": {
       "model_id": "b068320179bb447aaf54a7fd35d2468a",
       "version_major": 2,
       "version_minor": 0
      },
      "text/plain": [
       "  0%|          | 0/5 [00:00<?, ?it/s]"
      ]
     },
     "metadata": {},
     "output_type": "display_data"
    },
    {
     "data": {
      "application/vnd.jupyter.widget-view+json": {
       "model_id": "055a2fc6f1454c80b87322f1a0e1ad3e",
       "version_major": 2,
       "version_minor": 0
      },
      "text/plain": [
       "  0%|          | 0/19 [00:00<?, ?it/s]"
      ]
     },
     "metadata": {},
     "output_type": "display_data"
    },
    {
     "data": {
      "application/vnd.jupyter.widget-view+json": {
       "model_id": "1e93a93c67d14c5a81f1655da2e2f422",
       "version_major": 2,
       "version_minor": 0
      },
      "text/plain": [
       "  0%|          | 0/11 [00:00<?, ?it/s]"
      ]
     },
     "metadata": {},
     "output_type": "display_data"
    },
    {
     "data": {
      "application/vnd.jupyter.widget-view+json": {
       "model_id": "38bd70b7942744a7802bdce0912ff863",
       "version_major": 2,
       "version_minor": 0
      },
      "text/plain": [
       "  0%|          | 0/10 [00:00<?, ?it/s]"
      ]
     },
     "metadata": {},
     "output_type": "display_data"
    },
    {
     "data": {
      "application/vnd.jupyter.widget-view+json": {
       "model_id": "acae6c3eb0e04c6eb8654c7d2b5c6e55",
       "version_major": 2,
       "version_minor": 0
      },
      "text/plain": [
       "  0%|          | 0/23 [00:00<?, ?it/s]"
      ]
     },
     "metadata": {},
     "output_type": "display_data"
    },
    {
     "data": {
      "application/vnd.jupyter.widget-view+json": {
       "model_id": "03b68a93a8cc4169aa362d2b6ab0f210",
       "version_major": 2,
       "version_minor": 0
      },
      "text/plain": [
       "  0%|          | 0/11 [00:00<?, ?it/s]"
      ]
     },
     "metadata": {},
     "output_type": "display_data"
    },
    {
     "data": {
      "application/vnd.jupyter.widget-view+json": {
       "model_id": "a0939033d35b41c7a6a2117f08a1a0c7",
       "version_major": 2,
       "version_minor": 0
      },
      "text/plain": [
       "  0%|          | 0/4 [00:00<?, ?it/s]"
      ]
     },
     "metadata": {},
     "output_type": "display_data"
    },
    {
     "data": {
      "application/vnd.jupyter.widget-view+json": {
       "model_id": "e14e54be6b564509b64f7bfbf5ba1abf",
       "version_major": 2,
       "version_minor": 0
      },
      "text/plain": [
       "  0%|          | 0/6 [00:00<?, ?it/s]"
      ]
     },
     "metadata": {},
     "output_type": "display_data"
    },
    {
     "data": {
      "application/vnd.jupyter.widget-view+json": {
       "model_id": "a6e371b971cc444cb8616168653172fc",
       "version_major": 2,
       "version_minor": 0
      },
      "text/plain": [
       "  0%|          | 0/6 [00:00<?, ?it/s]"
      ]
     },
     "metadata": {},
     "output_type": "display_data"
    },
    {
     "data": {
      "application/vnd.jupyter.widget-view+json": {
       "model_id": "9d15fd85dbca4bd9be41826720ea62e2",
       "version_major": 2,
       "version_minor": 0
      },
      "text/plain": [
       "  0%|          | 0/11 [00:00<?, ?it/s]"
      ]
     },
     "metadata": {},
     "output_type": "display_data"
    },
    {
     "data": {
      "application/vnd.jupyter.widget-view+json": {
       "model_id": "87454c15c69e4bdfaa9d2cb62de50205",
       "version_major": 2,
       "version_minor": 0
      },
      "text/plain": [
       "  0%|          | 0/6 [00:00<?, ?it/s]"
      ]
     },
     "metadata": {},
     "output_type": "display_data"
    },
    {
     "data": {
      "application/vnd.jupyter.widget-view+json": {
       "model_id": "da10b990eb7247b8b33c0ddef871b06e",
       "version_major": 2,
       "version_minor": 0
      },
      "text/plain": [
       "  0%|          | 0/7 [00:00<?, ?it/s]"
      ]
     },
     "metadata": {},
     "output_type": "display_data"
    },
    {
     "data": {
      "application/vnd.jupyter.widget-view+json": {
       "model_id": "e829709e8db640978483aadd77e964e4",
       "version_major": 2,
       "version_minor": 0
      },
      "text/plain": [
       "  0%|          | 0/8 [00:00<?, ?it/s]"
      ]
     },
     "metadata": {},
     "output_type": "display_data"
    },
    {
     "data": {
      "application/vnd.jupyter.widget-view+json": {
       "model_id": "ae9226df34144ecd8255feeaeae8a39b",
       "version_major": 2,
       "version_minor": 0
      },
      "text/plain": [
       "  0%|          | 0/6 [00:00<?, ?it/s]"
      ]
     },
     "metadata": {},
     "output_type": "display_data"
    },
    {
     "data": {
      "application/vnd.jupyter.widget-view+json": {
       "model_id": "0fe121b22144423a9a5b8c322881995b",
       "version_major": 2,
       "version_minor": 0
      },
      "text/plain": [
       "  0%|          | 0/8 [00:00<?, ?it/s]"
      ]
     },
     "metadata": {},
     "output_type": "display_data"
    },
    {
     "data": {
      "application/vnd.jupyter.widget-view+json": {
       "model_id": "62cd78f8bb774b339cf794a97c40d18e",
       "version_major": 2,
       "version_minor": 0
      },
      "text/plain": [
       "  0%|          | 0/6 [00:00<?, ?it/s]"
      ]
     },
     "metadata": {},
     "output_type": "display_data"
    },
    {
     "data": {
      "application/vnd.jupyter.widget-view+json": {
       "model_id": "a38bf7d87f784af08e97741b5805b45c",
       "version_major": 2,
       "version_minor": 0
      },
      "text/plain": [
       "  0%|          | 0/1 [00:00<?, ?it/s]"
      ]
     },
     "metadata": {},
     "output_type": "display_data"
    },
    {
     "data": {
      "application/vnd.jupyter.widget-view+json": {
       "model_id": "bae21c97cfd9430cabc5487b01d22d95",
       "version_major": 2,
       "version_minor": 0
      },
      "text/plain": [
       "  0%|          | 0/15 [00:00<?, ?it/s]"
      ]
     },
     "metadata": {},
     "output_type": "display_data"
    },
    {
     "data": {
      "application/vnd.jupyter.widget-view+json": {
       "model_id": "8118c373cd9b45329b4d95456e078f02",
       "version_major": 2,
       "version_minor": 0
      },
      "text/plain": [
       "  0%|          | 0/5 [00:00<?, ?it/s]"
      ]
     },
     "metadata": {},
     "output_type": "display_data"
    },
    {
     "data": {
      "application/vnd.jupyter.widget-view+json": {
       "model_id": "ef8d362c79874e39bb6198701fbc3a88",
       "version_major": 2,
       "version_minor": 0
      },
      "text/plain": [
       "  0%|          | 0/7 [00:00<?, ?it/s]"
      ]
     },
     "metadata": {},
     "output_type": "display_data"
    },
    {
     "data": {
      "application/vnd.jupyter.widget-view+json": {
       "model_id": "80ab2df3e8c6423da93e60c223656c6e",
       "version_major": 2,
       "version_minor": 0
      },
      "text/plain": [
       "  0%|          | 0/3 [00:00<?, ?it/s]"
      ]
     },
     "metadata": {},
     "output_type": "display_data"
    },
    {
     "data": {
      "application/vnd.jupyter.widget-view+json": {
       "model_id": "6ceca4e3dcb14f24a052743d61225dfa",
       "version_major": 2,
       "version_minor": 0
      },
      "text/plain": [
       "  0%|          | 0/3 [00:00<?, ?it/s]"
      ]
     },
     "metadata": {},
     "output_type": "display_data"
    },
    {
     "data": {
      "application/vnd.jupyter.widget-view+json": {
       "model_id": "70d6ee2eaa884aff84928bcd42cdce13",
       "version_major": 2,
       "version_minor": 0
      },
      "text/plain": [
       "  0%|          | 0/10 [00:00<?, ?it/s]"
      ]
     },
     "metadata": {},
     "output_type": "display_data"
    },
    {
     "data": {
      "application/vnd.jupyter.widget-view+json": {
       "model_id": "2fc2bbb588cf47649729aa48917b5a97",
       "version_major": 2,
       "version_minor": 0
      },
      "text/plain": [
       "  0%|          | 0/2 [00:00<?, ?it/s]"
      ]
     },
     "metadata": {},
     "output_type": "display_data"
    },
    {
     "data": {
      "application/vnd.jupyter.widget-view+json": {
       "model_id": "3dbdf85af8524fbd83d28e6130d86693",
       "version_major": 2,
       "version_minor": 0
      },
      "text/plain": [
       "  0%|          | 0/6 [00:00<?, ?it/s]"
      ]
     },
     "metadata": {},
     "output_type": "display_data"
    },
    {
     "data": {
      "application/vnd.jupyter.widget-view+json": {
       "model_id": "81910d6b02af4362887025750cb6076e",
       "version_major": 2,
       "version_minor": 0
      },
      "text/plain": [
       "  0%|          | 0/20 [00:00<?, ?it/s]"
      ]
     },
     "metadata": {},
     "output_type": "display_data"
    },
    {
     "data": {
      "application/vnd.jupyter.widget-view+json": {
       "model_id": "30f2810700a4486b831f7a920910f64d",
       "version_major": 2,
       "version_minor": 0
      },
      "text/plain": [
       "  0%|          | 0/6 [00:00<?, ?it/s]"
      ]
     },
     "metadata": {},
     "output_type": "display_data"
    },
    {
     "data": {
      "application/vnd.jupyter.widget-view+json": {
       "model_id": "f01b77b2e40548b6800f8c1afe3d99b0",
       "version_major": 2,
       "version_minor": 0
      },
      "text/plain": [
       "  0%|          | 0/9 [00:00<?, ?it/s]"
      ]
     },
     "metadata": {},
     "output_type": "display_data"
    },
    {
     "data": {
      "application/vnd.jupyter.widget-view+json": {
       "model_id": "9ebfe04520ca4bed93112aa75538a963",
       "version_major": 2,
       "version_minor": 0
      },
      "text/plain": [
       "  0%|          | 0/29 [00:00<?, ?it/s]"
      ]
     },
     "metadata": {},
     "output_type": "display_data"
    },
    {
     "data": {
      "application/vnd.jupyter.widget-view+json": {
       "model_id": "423888f352e74564a8705a9ac87f77de",
       "version_major": 2,
       "version_minor": 0
      },
      "text/plain": [
       "  0%|          | 0/7 [00:00<?, ?it/s]"
      ]
     },
     "metadata": {},
     "output_type": "display_data"
    },
    {
     "data": {
      "application/vnd.jupyter.widget-view+json": {
       "model_id": "5cf078d5368645d4bd21e9430729f6b8",
       "version_major": 2,
       "version_minor": 0
      },
      "text/plain": [
       "  0%|          | 0/12 [00:00<?, ?it/s]"
      ]
     },
     "metadata": {},
     "output_type": "display_data"
    },
    {
     "data": {
      "application/vnd.jupyter.widget-view+json": {
       "model_id": "994587c8f5ee4087bf2678d5f1aaee55",
       "version_major": 2,
       "version_minor": 0
      },
      "text/plain": [
       "  0%|          | 0/2 [00:00<?, ?it/s]"
      ]
     },
     "metadata": {},
     "output_type": "display_data"
    },
    {
     "data": {
      "application/vnd.jupyter.widget-view+json": {
       "model_id": "12f28a39fd7a484b8fc84a239e973b2c",
       "version_major": 2,
       "version_minor": 0
      },
      "text/plain": [
       "  0%|          | 0/5 [00:00<?, ?it/s]"
      ]
     },
     "metadata": {},
     "output_type": "display_data"
    },
    {
     "data": {
      "application/vnd.jupyter.widget-view+json": {
       "model_id": "68bf90dde717412786136adab60cb308",
       "version_major": 2,
       "version_minor": 0
      },
      "text/plain": [
       "  0%|          | 0/22 [00:00<?, ?it/s]"
      ]
     },
     "metadata": {},
     "output_type": "display_data"
    },
    {
     "data": {
      "application/vnd.jupyter.widget-view+json": {
       "model_id": "31842baf101e4d7c88217762df07fed9",
       "version_major": 2,
       "version_minor": 0
      },
      "text/plain": [
       "  0%|          | 0/3 [00:00<?, ?it/s]"
      ]
     },
     "metadata": {},
     "output_type": "display_data"
    },
    {
     "data": {
      "application/vnd.jupyter.widget-view+json": {
       "model_id": "b4bc20418c634fd290348c3f65fe4d45",
       "version_major": 2,
       "version_minor": 0
      },
      "text/plain": [
       "  0%|          | 0/3 [00:00<?, ?it/s]"
      ]
     },
     "metadata": {},
     "output_type": "display_data"
    },
    {
     "data": {
      "application/vnd.jupyter.widget-view+json": {
       "model_id": "07efa46f22d847298edf71fd8d51ae3e",
       "version_major": 2,
       "version_minor": 0
      },
      "text/plain": [
       "  0%|          | 0/5 [00:00<?, ?it/s]"
      ]
     },
     "metadata": {},
     "output_type": "display_data"
    },
    {
     "data": {
      "application/vnd.jupyter.widget-view+json": {
       "model_id": "c6f2662620ed42e4bee5f4b5e282e29d",
       "version_major": 2,
       "version_minor": 0
      },
      "text/plain": [
       "  0%|          | 0/10 [00:00<?, ?it/s]"
      ]
     },
     "metadata": {},
     "output_type": "display_data"
    },
    {
     "data": {
      "application/vnd.jupyter.widget-view+json": {
       "model_id": "c34b393f9c234e638f2214227c004ad6",
       "version_major": 2,
       "version_minor": 0
      },
      "text/plain": [
       "  0%|          | 0/10 [00:00<?, ?it/s]"
      ]
     },
     "metadata": {},
     "output_type": "display_data"
    },
    {
     "data": {
      "application/vnd.jupyter.widget-view+json": {
       "model_id": "3198de9be9884199a3061d1c699e8858",
       "version_major": 2,
       "version_minor": 0
      },
      "text/plain": [
       "  0%|          | 0/9 [00:00<?, ?it/s]"
      ]
     },
     "metadata": {},
     "output_type": "display_data"
    },
    {
     "data": {
      "application/vnd.jupyter.widget-view+json": {
       "model_id": "e9442e34b9574be9a2a6349c51fb37bb",
       "version_major": 2,
       "version_minor": 0
      },
      "text/plain": [
       "  0%|          | 0/18 [00:00<?, ?it/s]"
      ]
     },
     "metadata": {},
     "output_type": "display_data"
    },
    {
     "data": {
      "application/vnd.jupyter.widget-view+json": {
       "model_id": "91ee78d8b4f94ecab5f91264008380b0",
       "version_major": 2,
       "version_minor": 0
      },
      "text/plain": [
       "  0%|          | 0/3 [00:00<?, ?it/s]"
      ]
     },
     "metadata": {},
     "output_type": "display_data"
    },
    {
     "name": "stdout",
     "output_type": "stream",
     "text": [
      "Assigning the old width calculation because no valid new widths\n"
     ]
    },
    {
     "data": {
      "application/vnd.jupyter.widget-view+json": {
       "model_id": "7ddd2521fe384c27a4206510d5867f25",
       "version_major": 2,
       "version_minor": 0
      },
      "text/plain": [
       "  0%|          | 0/4 [00:00<?, ?it/s]"
      ]
     },
     "metadata": {},
     "output_type": "display_data"
    },
    {
     "data": {
      "application/vnd.jupyter.widget-view+json": {
       "model_id": "709088322b59498a9a71b62217baf42a",
       "version_major": 2,
       "version_minor": 0
      },
      "text/plain": [
       "  0%|          | 0/7 [00:00<?, ?it/s]"
      ]
     },
     "metadata": {},
     "output_type": "display_data"
    },
    {
     "data": {
      "application/vnd.jupyter.widget-view+json": {
       "model_id": "0a8a3daa6cff4b6ba12f8813ba20d83d",
       "version_major": 2,
       "version_minor": 0
      },
      "text/plain": [
       "  0%|          | 0/13 [00:00<?, ?it/s]"
      ]
     },
     "metadata": {},
     "output_type": "display_data"
    },
    {
     "data": {
      "application/vnd.jupyter.widget-view+json": {
       "model_id": "86a85679077d417d81b3270a89e1cc9c",
       "version_major": 2,
       "version_minor": 0
      },
      "text/plain": [
       "  0%|          | 0/37 [00:00<?, ?it/s]"
      ]
     },
     "metadata": {},
     "output_type": "display_data"
    },
    {
     "data": {
      "application/vnd.jupyter.widget-view+json": {
       "model_id": "b50571d2f818400f9788c8c1eaf43dcc",
       "version_major": 2,
       "version_minor": 0
      },
      "text/plain": [
       "  0%|          | 0/4 [00:00<?, ?it/s]"
      ]
     },
     "metadata": {},
     "output_type": "display_data"
    },
    {
     "data": {
      "application/vnd.jupyter.widget-view+json": {
       "model_id": "a5f285a022264cfd96f514d50ceaec30",
       "version_major": 2,
       "version_minor": 0
      },
      "text/plain": [
       "  0%|          | 0/2 [00:00<?, ?it/s]"
      ]
     },
     "metadata": {},
     "output_type": "display_data"
    },
    {
     "data": {
      "application/vnd.jupyter.widget-view+json": {
       "model_id": "7e036df15fae4b4ea40d4ec11c9d65a4",
       "version_major": 2,
       "version_minor": 0
      },
      "text/plain": [
       "  0%|          | 0/6 [00:00<?, ?it/s]"
      ]
     },
     "metadata": {},
     "output_type": "display_data"
    },
    {
     "data": {
      "application/vnd.jupyter.widget-view+json": {
       "model_id": "c7d1d33904a34194a8d61b7d033ce51f",
       "version_major": 2,
       "version_minor": 0
      },
      "text/plain": [
       "  0%|          | 0/7 [00:00<?, ?it/s]"
      ]
     },
     "metadata": {},
     "output_type": "display_data"
    },
    {
     "data": {
      "application/vnd.jupyter.widget-view+json": {
       "model_id": "d7bf771b5c724f7b870c7f6d561e9b5b",
       "version_major": 2,
       "version_minor": 0
      },
      "text/plain": [
       "  0%|          | 0/10 [00:00<?, ?it/s]"
      ]
     },
     "metadata": {},
     "output_type": "display_data"
    },
    {
     "data": {
      "application/vnd.jupyter.widget-view+json": {
       "model_id": "430afe3679714f61928279b519162cb1",
       "version_major": 2,
       "version_minor": 0
      },
      "text/plain": [
       "  0%|          | 0/14 [00:00<?, ?it/s]"
      ]
     },
     "metadata": {},
     "output_type": "display_data"
    },
    {
     "data": {
      "application/vnd.jupyter.widget-view+json": {
       "model_id": "f1790e13af1848d5970f1e0cc4508403",
       "version_major": 2,
       "version_minor": 0
      },
      "text/plain": [
       "  0%|          | 0/15 [00:00<?, ?it/s]"
      ]
     },
     "metadata": {},
     "output_type": "display_data"
    },
    {
     "data": {
      "application/vnd.jupyter.widget-view+json": {
       "model_id": "60be8ceb4f8f4d3a8d2a5d80524683fb",
       "version_major": 2,
       "version_minor": 0
      },
      "text/plain": [
       "  0%|          | 0/4 [00:00<?, ?it/s]"
      ]
     },
     "metadata": {},
     "output_type": "display_data"
    },
    {
     "data": {
      "application/vnd.jupyter.widget-view+json": {
       "model_id": "95ac7324af614899864c7f0f563d4a52",
       "version_major": 2,
       "version_minor": 0
      },
      "text/plain": [
       "  0%|          | 0/6 [00:00<?, ?it/s]"
      ]
     },
     "metadata": {},
     "output_type": "display_data"
    },
    {
     "data": {
      "application/vnd.jupyter.widget-view+json": {
       "model_id": "e4208b95f5b44622b28b1b9214803c15",
       "version_major": 2,
       "version_minor": 0
      },
      "text/plain": [
       "  0%|          | 0/24 [00:00<?, ?it/s]"
      ]
     },
     "metadata": {},
     "output_type": "display_data"
    },
    {
     "data": {
      "application/vnd.jupyter.widget-view+json": {
       "model_id": "34b8e95b4aa2440684f5e36f563457bc",
       "version_major": 2,
       "version_minor": 0
      },
      "text/plain": [
       "  0%|          | 0/19 [00:00<?, ?it/s]"
      ]
     },
     "metadata": {},
     "output_type": "display_data"
    },
    {
     "data": {
      "application/vnd.jupyter.widget-view+json": {
       "model_id": "8df27f632b974876bb3e0886c6766695",
       "version_major": 2,
       "version_minor": 0
      },
      "text/plain": [
       "  0%|          | 0/11 [00:00<?, ?it/s]"
      ]
     },
     "metadata": {},
     "output_type": "display_data"
    },
    {
     "data": {
      "application/vnd.jupyter.widget-view+json": {
       "model_id": "5c6249a204c046c5a95b2998e67a71f4",
       "version_major": 2,
       "version_minor": 0
      },
      "text/plain": [
       "  0%|          | 0/6 [00:00<?, ?it/s]"
      ]
     },
     "metadata": {},
     "output_type": "display_data"
    },
    {
     "data": {
      "application/vnd.jupyter.widget-view+json": {
       "model_id": "9cd1d2599bb34f348953ccb7d7870a3d",
       "version_major": 2,
       "version_minor": 0
      },
      "text/plain": [
       "  0%|          | 0/4 [00:00<?, ?it/s]"
      ]
     },
     "metadata": {},
     "output_type": "display_data"
    },
    {
     "data": {
      "application/vnd.jupyter.widget-view+json": {
       "model_id": "30031772fb114afeb399fbc33907c738",
       "version_major": 2,
       "version_minor": 0
      },
      "text/plain": [
       "  0%|          | 0/8 [00:00<?, ?it/s]"
      ]
     },
     "metadata": {},
     "output_type": "display_data"
    },
    {
     "data": {
      "application/vnd.jupyter.widget-view+json": {
       "model_id": "2fa6ffc9b7234bf2bfb5bbab85259bda",
       "version_major": 2,
       "version_minor": 0
      },
      "text/plain": [
       "  0%|          | 0/5 [00:00<?, ?it/s]"
      ]
     },
     "metadata": {},
     "output_type": "display_data"
    },
    {
     "data": {
      "application/vnd.jupyter.widget-view+json": {
       "model_id": "e127f921ec1d40438a30fa84da040771",
       "version_major": 2,
       "version_minor": 0
      },
      "text/plain": [
       "  0%|          | 0/9 [00:00<?, ?it/s]"
      ]
     },
     "metadata": {},
     "output_type": "display_data"
    },
    {
     "data": {
      "application/vnd.jupyter.widget-view+json": {
       "model_id": "cfe31799a1314405b528884034d9ce02",
       "version_major": 2,
       "version_minor": 0
      },
      "text/plain": [
       "  0%|          | 0/7 [00:00<?, ?it/s]"
      ]
     },
     "metadata": {},
     "output_type": "display_data"
    },
    {
     "data": {
      "application/vnd.jupyter.widget-view+json": {
       "model_id": "da60104f899a416883f5b440b170b17e",
       "version_major": 2,
       "version_minor": 0
      },
      "text/plain": [
       "  0%|          | 0/3 [00:00<?, ?it/s]"
      ]
     },
     "metadata": {},
     "output_type": "display_data"
    },
    {
     "data": {
      "application/vnd.jupyter.widget-view+json": {
       "model_id": "f3f96e0e43e340d3af971c59436e54cc",
       "version_major": 2,
       "version_minor": 0
      },
      "text/plain": [
       "  0%|          | 0/6 [00:00<?, ?it/s]"
      ]
     },
     "metadata": {},
     "output_type": "display_data"
    },
    {
     "data": {
      "application/vnd.jupyter.widget-view+json": {
       "model_id": "55da3062078d406ca06e3cf53cd73aef",
       "version_major": 2,
       "version_minor": 0
      },
      "text/plain": [
       "  0%|          | 0/4 [00:00<?, ?it/s]"
      ]
     },
     "metadata": {},
     "output_type": "display_data"
    },
    {
     "data": {
      "application/vnd.jupyter.widget-view+json": {
       "model_id": "6222aa60fcae4227bfdbafb77cfb4689",
       "version_major": 2,
       "version_minor": 0
      },
      "text/plain": [
       "  0%|          | 0/28 [00:00<?, ?it/s]"
      ]
     },
     "metadata": {},
     "output_type": "display_data"
    },
    {
     "data": {
      "application/vnd.jupyter.widget-view+json": {
       "model_id": "fd027e91b9dd4d87b3073267df7938d4",
       "version_major": 2,
       "version_minor": 0
      },
      "text/plain": [
       "  0%|          | 0/30 [00:00<?, ?it/s]"
      ]
     },
     "metadata": {},
     "output_type": "display_data"
    },
    {
     "data": {
      "application/vnd.jupyter.widget-view+json": {
       "model_id": "86572cc334ae498a8f1729ece530a2f8",
       "version_major": 2,
       "version_minor": 0
      },
      "text/plain": [
       "  0%|          | 0/5 [00:00<?, ?it/s]"
      ]
     },
     "metadata": {},
     "output_type": "display_data"
    },
    {
     "data": {
      "application/vnd.jupyter.widget-view+json": {
       "model_id": "efcb79b6866a47ba954b03f936938e69",
       "version_major": 2,
       "version_minor": 0
      },
      "text/plain": [
       "  0%|          | 0/4 [00:00<?, ?it/s]"
      ]
     },
     "metadata": {},
     "output_type": "display_data"
    },
    {
     "data": {
      "application/vnd.jupyter.widget-view+json": {
       "model_id": "af6df83bbfc94eefb0dfe3695d0aead1",
       "version_major": 2,
       "version_minor": 0
      },
      "text/plain": [
       "  0%|          | 0/8 [00:00<?, ?it/s]"
      ]
     },
     "metadata": {},
     "output_type": "display_data"
    },
    {
     "data": {
      "application/vnd.jupyter.widget-view+json": {
       "model_id": "d69d43ec2711453499f31e5e13d62013",
       "version_major": 2,
       "version_minor": 0
      },
      "text/plain": [
       "  0%|          | 0/2 [00:00<?, ?it/s]"
      ]
     },
     "metadata": {},
     "output_type": "display_data"
    },
    {
     "data": {
      "application/vnd.jupyter.widget-view+json": {
       "model_id": "e723ec6870954b1dbf783d1327cdc59b",
       "version_major": 2,
       "version_minor": 0
      },
      "text/plain": [
       "  0%|          | 0/6 [00:00<?, ?it/s]"
      ]
     },
     "metadata": {},
     "output_type": "display_data"
    },
    {
     "data": {
      "application/vnd.jupyter.widget-view+json": {
       "model_id": "94c522b4ab664482a82b0db580f5a9b9",
       "version_major": 2,
       "version_minor": 0
      },
      "text/plain": [
       "  0%|          | 0/10 [00:00<?, ?it/s]"
      ]
     },
     "metadata": {},
     "output_type": "display_data"
    },
    {
     "data": {
      "application/vnd.jupyter.widget-view+json": {
       "model_id": "c87348202f564565bcdc974058fc0d5b",
       "version_major": 2,
       "version_minor": 0
      },
      "text/plain": [
       "  0%|          | 0/4 [00:00<?, ?it/s]"
      ]
     },
     "metadata": {},
     "output_type": "display_data"
    },
    {
     "data": {
      "application/vnd.jupyter.widget-view+json": {
       "model_id": "1c1dd66dfe9d4b97af011800d83e03ae",
       "version_major": 2,
       "version_minor": 0
      },
      "text/plain": [
       "  0%|          | 0/7 [00:00<?, ?it/s]"
      ]
     },
     "metadata": {},
     "output_type": "display_data"
    },
    {
     "data": {
      "application/vnd.jupyter.widget-view+json": {
       "model_id": "ee7fb45a97ee49dba0307d4ee7d03c1c",
       "version_major": 2,
       "version_minor": 0
      },
      "text/plain": [
       "  0%|          | 0/3 [00:00<?, ?it/s]"
      ]
     },
     "metadata": {},
     "output_type": "display_data"
    },
    {
     "data": {
      "application/vnd.jupyter.widget-view+json": {
       "model_id": "db0982a78a7c42e2ab352d3b5b05bc4c",
       "version_major": 2,
       "version_minor": 0
      },
      "text/plain": [
       "  0%|          | 0/8 [00:00<?, ?it/s]"
      ]
     },
     "metadata": {},
     "output_type": "display_data"
    },
    {
     "data": {
      "application/vnd.jupyter.widget-view+json": {
       "model_id": "b51be4087fad4222b1dab14a8c1b399b",
       "version_major": 2,
       "version_minor": 0
      },
      "text/plain": [
       "  0%|          | 0/10 [00:00<?, ?it/s]"
      ]
     },
     "metadata": {},
     "output_type": "display_data"
    },
    {
     "data": {
      "application/vnd.jupyter.widget-view+json": {
       "model_id": "95040e8f3895432b84c9cb7cd061deca",
       "version_major": 2,
       "version_minor": 0
      },
      "text/plain": [
       "  0%|          | 0/9 [00:00<?, ?it/s]"
      ]
     },
     "metadata": {},
     "output_type": "display_data"
    },
    {
     "data": {
      "application/vnd.jupyter.widget-view+json": {
       "model_id": "0358072804294640a5f59d863c7f5c27",
       "version_major": 2,
       "version_minor": 0
      },
      "text/plain": [
       "  0%|          | 0/7 [00:00<?, ?it/s]"
      ]
     },
     "metadata": {},
     "output_type": "display_data"
    },
    {
     "data": {
      "application/vnd.jupyter.widget-view+json": {
       "model_id": "3fc9693e17844d80a5ba6b8b6cab1c0a",
       "version_major": 2,
       "version_minor": 0
      },
      "text/plain": [
       "  0%|          | 0/7 [00:00<?, ?it/s]"
      ]
     },
     "metadata": {},
     "output_type": "display_data"
    },
    {
     "data": {
      "application/vnd.jupyter.widget-view+json": {
       "model_id": "bd24422ed23f423a9d786c249f631e27",
       "version_major": 2,
       "version_minor": 0
      },
      "text/plain": [
       "  0%|          | 0/3 [00:00<?, ?it/s]"
      ]
     },
     "metadata": {},
     "output_type": "display_data"
    },
    {
     "data": {
      "application/vnd.jupyter.widget-view+json": {
       "model_id": "8558315dac6e4d80a4afc841f4d4e207",
       "version_major": 2,
       "version_minor": 0
      },
      "text/plain": [
       "  0%|          | 0/13 [00:00<?, ?it/s]"
      ]
     },
     "metadata": {},
     "output_type": "display_data"
    },
    {
     "data": {
      "application/vnd.jupyter.widget-view+json": {
       "model_id": "ab50b9b287c44dd4a5da681b40eb84f2",
       "version_major": 2,
       "version_minor": 0
      },
      "text/plain": [
       "  0%|          | 0/3 [00:00<?, ?it/s]"
      ]
     },
     "metadata": {},
     "output_type": "display_data"
    },
    {
     "data": {
      "application/vnd.jupyter.widget-view+json": {
       "model_id": "be5a34c80e7a417f8e7ab5706064f4b7",
       "version_major": 2,
       "version_minor": 0
      },
      "text/plain": [
       "  0%|          | 0/5 [00:00<?, ?it/s]"
      ]
     },
     "metadata": {},
     "output_type": "display_data"
    },
    {
     "data": {
      "application/vnd.jupyter.widget-view+json": {
       "model_id": "e710b3a0babd47f8b9e349f7017e6581",
       "version_major": 2,
       "version_minor": 0
      },
      "text/plain": [
       "  0%|          | 0/7 [00:00<?, ?it/s]"
      ]
     },
     "metadata": {},
     "output_type": "display_data"
    },
    {
     "data": {
      "application/vnd.jupyter.widget-view+json": {
       "model_id": "ddef0336c5d34f6bb478d314cc79e37b",
       "version_major": 2,
       "version_minor": 0
      },
      "text/plain": [
       "  0%|          | 0/23 [00:00<?, ?it/s]"
      ]
     },
     "metadata": {},
     "output_type": "display_data"
    },
    {
     "data": {
      "application/vnd.jupyter.widget-view+json": {
       "model_id": "1a0e6d88a91d44e8b17e20baff533c8c",
       "version_major": 2,
       "version_minor": 0
      },
      "text/plain": [
       "  0%|          | 0/22 [00:00<?, ?it/s]"
      ]
     },
     "metadata": {},
     "output_type": "display_data"
    },
    {
     "data": {
      "application/vnd.jupyter.widget-view+json": {
       "model_id": "ac650d15a4754703a53d35b3b61fa336",
       "version_major": 2,
       "version_minor": 0
      },
      "text/plain": [
       "  0%|          | 0/5 [00:00<?, ?it/s]"
      ]
     },
     "metadata": {},
     "output_type": "display_data"
    },
    {
     "data": {
      "application/vnd.jupyter.widget-view+json": {
       "model_id": "74d58bde2dac431c96ec8931746df182",
       "version_major": 2,
       "version_minor": 0
      },
      "text/plain": [
       "  0%|          | 0/3 [00:00<?, ?it/s]"
      ]
     },
     "metadata": {},
     "output_type": "display_data"
    },
    {
     "data": {
      "application/vnd.jupyter.widget-view+json": {
       "model_id": "e2cbd20503b3434587016a848f0de241",
       "version_major": 2,
       "version_minor": 0
      },
      "text/plain": [
       "  0%|          | 0/13 [00:00<?, ?it/s]"
      ]
     },
     "metadata": {},
     "output_type": "display_data"
    },
    {
     "data": {
      "application/vnd.jupyter.widget-view+json": {
       "model_id": "59daf09450954fc09a0c56b2f1438aad",
       "version_major": 2,
       "version_minor": 0
      },
      "text/plain": [
       "  0%|          | 0/11 [00:00<?, ?it/s]"
      ]
     },
     "metadata": {},
     "output_type": "display_data"
    },
    {
     "data": {
      "application/vnd.jupyter.widget-view+json": {
       "model_id": "5b7949aee8b942d2a6fc29703a379ea8",
       "version_major": 2,
       "version_minor": 0
      },
      "text/plain": [
       "  0%|          | 0/22 [00:00<?, ?it/s]"
      ]
     },
     "metadata": {},
     "output_type": "display_data"
    },
    {
     "data": {
      "application/vnd.jupyter.widget-view+json": {
       "model_id": "4bcccf5991b143df82974db14a95cc54",
       "version_major": 2,
       "version_minor": 0
      },
      "text/plain": [
       "  0%|          | 0/7 [00:00<?, ?it/s]"
      ]
     },
     "metadata": {},
     "output_type": "display_data"
    },
    {
     "data": {
      "application/vnd.jupyter.widget-view+json": {
       "model_id": "39de3fbc9f344b078c5c50516662a24f",
       "version_major": 2,
       "version_minor": 0
      },
      "text/plain": [
       "  0%|          | 0/3 [00:00<?, ?it/s]"
      ]
     },
     "metadata": {},
     "output_type": "display_data"
    },
    {
     "data": {
      "application/vnd.jupyter.widget-view+json": {
       "model_id": "dcb151bce5a342c09c69d5d9241cf7e2",
       "version_major": 2,
       "version_minor": 0
      },
      "text/plain": [
       "  0%|          | 0/9 [00:00<?, ?it/s]"
      ]
     },
     "metadata": {},
     "output_type": "display_data"
    },
    {
     "data": {
      "application/vnd.jupyter.widget-view+json": {
       "model_id": "a1fcd8057c50464f9fa2e1ed455ad04a",
       "version_major": 2,
       "version_minor": 0
      },
      "text/plain": [
       "  0%|          | 0/7 [00:00<?, ?it/s]"
      ]
     },
     "metadata": {},
     "output_type": "display_data"
    },
    {
     "data": {
      "application/vnd.jupyter.widget-view+json": {
       "model_id": "442a91f53bd54b088aedb8cfbfc5cae2",
       "version_major": 2,
       "version_minor": 0
      },
      "text/plain": [
       "  0%|          | 0/10 [00:00<?, ?it/s]"
      ]
     },
     "metadata": {},
     "output_type": "display_data"
    },
    {
     "data": {
      "application/vnd.jupyter.widget-view+json": {
       "model_id": "ae48342c89524234a62835b512379d50",
       "version_major": 2,
       "version_minor": 0
      },
      "text/plain": [
       "  0%|          | 0/7 [00:00<?, ?it/s]"
      ]
     },
     "metadata": {},
     "output_type": "display_data"
    },
    {
     "data": {
      "application/vnd.jupyter.widget-view+json": {
       "model_id": "745698b8461b458d819b3d5ea3478d0b",
       "version_major": 2,
       "version_minor": 0
      },
      "text/plain": [
       "  0%|          | 0/5 [00:00<?, ?it/s]"
      ]
     },
     "metadata": {},
     "output_type": "display_data"
    },
    {
     "data": {
      "application/vnd.jupyter.widget-view+json": {
       "model_id": "6c918add65564335ad447efae1d8aa17",
       "version_major": 2,
       "version_minor": 0
      },
      "text/plain": [
       "  0%|          | 0/4 [00:00<?, ?it/s]"
      ]
     },
     "metadata": {},
     "output_type": "display_data"
    },
    {
     "data": {
      "application/vnd.jupyter.widget-view+json": {
       "model_id": "875af4884b4340d79067b2b6a8b53050",
       "version_major": 2,
       "version_minor": 0
      },
      "text/plain": [
       "  0%|          | 0/7 [00:00<?, ?it/s]"
      ]
     },
     "metadata": {},
     "output_type": "display_data"
    },
    {
     "data": {
      "application/vnd.jupyter.widget-view+json": {
       "model_id": "9f5d852fc0a445b0be7f86bebfe24689",
       "version_major": 2,
       "version_minor": 0
      },
      "text/plain": [
       "  0%|          | 0/5 [00:00<?, ?it/s]"
      ]
     },
     "metadata": {},
     "output_type": "display_data"
    },
    {
     "data": {
      "application/vnd.jupyter.widget-view+json": {
       "model_id": "fc706495325041d0a70a1ef977b34a94",
       "version_major": 2,
       "version_minor": 0
      },
      "text/plain": [
       "  0%|          | 0/31 [00:00<?, ?it/s]"
      ]
     },
     "metadata": {},
     "output_type": "display_data"
    },
    {
     "data": {
      "application/vnd.jupyter.widget-view+json": {
       "model_id": "7f82b091f80e4ed0ad4354f4b48f3004",
       "version_major": 2,
       "version_minor": 0
      },
      "text/plain": [
       "  0%|          | 0/10 [00:00<?, ?it/s]"
      ]
     },
     "metadata": {},
     "output_type": "display_data"
    },
    {
     "data": {
      "application/vnd.jupyter.widget-view+json": {
       "model_id": "b2666feccaf1420d9d003266a4f1772d",
       "version_major": 2,
       "version_minor": 0
      },
      "text/plain": [
       "  0%|          | 0/12 [00:00<?, ?it/s]"
      ]
     },
     "metadata": {},
     "output_type": "display_data"
    },
    {
     "data": {
      "application/vnd.jupyter.widget-view+json": {
       "model_id": "9fae1fd0e3904f15b8e6ba4ab45c19d6",
       "version_major": 2,
       "version_minor": 0
      },
      "text/plain": [
       "  0%|          | 0/16 [00:00<?, ?it/s]"
      ]
     },
     "metadata": {},
     "output_type": "display_data"
    },
    {
     "data": {
      "application/vnd.jupyter.widget-view+json": {
       "model_id": "222528caba1647b9b81ae6ff467d9aa9",
       "version_major": 2,
       "version_minor": 0
      },
      "text/plain": [
       "  0%|          | 0/1 [00:00<?, ?it/s]"
      ]
     },
     "metadata": {},
     "output_type": "display_data"
    },
    {
     "data": {
      "application/vnd.jupyter.widget-view+json": {
       "model_id": "4c88cde89c684ab38a9f98c582f4d7a3",
       "version_major": 2,
       "version_minor": 0
      },
      "text/plain": [
       "  0%|          | 0/1 [00:00<?, ?it/s]"
      ]
     },
     "metadata": {},
     "output_type": "display_data"
    },
    {
     "data": {
      "application/vnd.jupyter.widget-view+json": {
       "model_id": "44ca4a0159b44810a0f5b9352193bc12",
       "version_major": 2,
       "version_minor": 0
      },
      "text/plain": [
       "  0%|          | 0/16 [00:00<?, ?it/s]"
      ]
     },
     "metadata": {},
     "output_type": "display_data"
    },
    {
     "data": {
      "application/vnd.jupyter.widget-view+json": {
       "model_id": "2f257a042195428e973890063705a895",
       "version_major": 2,
       "version_minor": 0
      },
      "text/plain": [
       "  0%|          | 0/3 [00:00<?, ?it/s]"
      ]
     },
     "metadata": {},
     "output_type": "display_data"
    },
    {
     "data": {
      "application/vnd.jupyter.widget-view+json": {
       "model_id": "dc6eb9a995934c16b5c1094d9c887728",
       "version_major": 2,
       "version_minor": 0
      },
      "text/plain": [
       "  0%|          | 0/7 [00:00<?, ?it/s]"
      ]
     },
     "metadata": {},
     "output_type": "display_data"
    },
    {
     "data": {
      "application/vnd.jupyter.widget-view+json": {
       "model_id": "308ecdfc41224b0a9d39c1933cd6035e",
       "version_major": 2,
       "version_minor": 0
      },
      "text/plain": [
       "  0%|          | 0/4 [00:00<?, ?it/s]"
      ]
     },
     "metadata": {},
     "output_type": "display_data"
    },
    {
     "data": {
      "application/vnd.jupyter.widget-view+json": {
       "model_id": "60797cff4de945098aec3d43ad66fd91",
       "version_major": 2,
       "version_minor": 0
      },
      "text/plain": [
       "  0%|          | 0/6 [00:00<?, ?it/s]"
      ]
     },
     "metadata": {},
     "output_type": "display_data"
    },
    {
     "data": {
      "application/vnd.jupyter.widget-view+json": {
       "model_id": "b476d5ec1d8049de893898c4d3465826",
       "version_major": 2,
       "version_minor": 0
      },
      "text/plain": [
       "  0%|          | 0/18 [00:00<?, ?it/s]"
      ]
     },
     "metadata": {},
     "output_type": "display_data"
    },
    {
     "data": {
      "application/vnd.jupyter.widget-view+json": {
       "model_id": "32fd6d7a0b034b6a97ae4099434d6984",
       "version_major": 2,
       "version_minor": 0
      },
      "text/plain": [
       "  0%|          | 0/5 [00:00<?, ?it/s]"
      ]
     },
     "metadata": {},
     "output_type": "display_data"
    },
    {
     "data": {
      "application/vnd.jupyter.widget-view+json": {
       "model_id": "2ee712b3274249839375ad5376ad629c",
       "version_major": 2,
       "version_minor": 0
      },
      "text/plain": [
       "  0%|          | 0/20 [00:00<?, ?it/s]"
      ]
     },
     "metadata": {},
     "output_type": "display_data"
    },
    {
     "data": {
      "application/vnd.jupyter.widget-view+json": {
       "model_id": "b11bb7864a1b40f6aa315c4b07712e5b",
       "version_major": 2,
       "version_minor": 0
      },
      "text/plain": [
       "  0%|          | 0/4 [00:00<?, ?it/s]"
      ]
     },
     "metadata": {},
     "output_type": "display_data"
    },
    {
     "data": {
      "application/vnd.jupyter.widget-view+json": {
       "model_id": "4b47d966536843e0a65f811c5b729297",
       "version_major": 2,
       "version_minor": 0
      },
      "text/plain": [
       "  0%|          | 0/7 [00:00<?, ?it/s]"
      ]
     },
     "metadata": {},
     "output_type": "display_data"
    },
    {
     "data": {
      "application/vnd.jupyter.widget-view+json": {
       "model_id": "22584f8c29f9410eb646798760f7e3a5",
       "version_major": 2,
       "version_minor": 0
      },
      "text/plain": [
       "  0%|          | 0/9 [00:00<?, ?it/s]"
      ]
     },
     "metadata": {},
     "output_type": "display_data"
    },
    {
     "data": {
      "application/vnd.jupyter.widget-view+json": {
       "model_id": "3f9dd35687f24615b27566721d699d63",
       "version_major": 2,
       "version_minor": 0
      },
      "text/plain": [
       "  0%|          | 0/2 [00:00<?, ?it/s]"
      ]
     },
     "metadata": {},
     "output_type": "display_data"
    },
    {
     "data": {
      "application/vnd.jupyter.widget-view+json": {
       "model_id": "45d15af7afed4231a41230fcc3b9b17b",
       "version_major": 2,
       "version_minor": 0
      },
      "text/plain": [
       "  0%|          | 0/7 [00:00<?, ?it/s]"
      ]
     },
     "metadata": {},
     "output_type": "display_data"
    },
    {
     "data": {
      "application/vnd.jupyter.widget-view+json": {
       "model_id": "d75862653db345088ec39193bb6deb4a",
       "version_major": 2,
       "version_minor": 0
      },
      "text/plain": [
       "  0%|          | 0/6 [00:00<?, ?it/s]"
      ]
     },
     "metadata": {},
     "output_type": "display_data"
    },
    {
     "data": {
      "application/vnd.jupyter.widget-view+json": {
       "model_id": "c2df458770c6420384f9ba00c64922a4",
       "version_major": 2,
       "version_minor": 0
      },
      "text/plain": [
       "  0%|          | 0/12 [00:00<?, ?it/s]"
      ]
     },
     "metadata": {},
     "output_type": "display_data"
    },
    {
     "data": {
      "application/vnd.jupyter.widget-view+json": {
       "model_id": "1cd0dcdf3dd2481a93493c03b710993a",
       "version_major": 2,
       "version_minor": 0
      },
      "text/plain": [
       "  0%|          | 0/21 [00:00<?, ?it/s]"
      ]
     },
     "metadata": {},
     "output_type": "display_data"
    },
    {
     "data": {
      "application/vnd.jupyter.widget-view+json": {
       "model_id": "7742bf53ad2d407b9b35a6c6f4fb608f",
       "version_major": 2,
       "version_minor": 0
      },
      "text/plain": [
       "  0%|          | 0/14 [00:00<?, ?it/s]"
      ]
     },
     "metadata": {},
     "output_type": "display_data"
    },
    {
     "data": {
      "application/vnd.jupyter.widget-view+json": {
       "model_id": "f2f8d9bd4aa2499888811645e3a2a2a6",
       "version_major": 2,
       "version_minor": 0
      },
      "text/plain": [
       "  0%|          | 0/24 [00:00<?, ?it/s]"
      ]
     },
     "metadata": {},
     "output_type": "display_data"
    },
    {
     "data": {
      "application/vnd.jupyter.widget-view+json": {
       "model_id": "0e5e1d024fc448a282afe6ad2400a7a5",
       "version_major": 2,
       "version_minor": 0
      },
      "text/plain": [
       "  0%|          | 0/9 [00:00<?, ?it/s]"
      ]
     },
     "metadata": {},
     "output_type": "display_data"
    },
    {
     "data": {
      "application/vnd.jupyter.widget-view+json": {
       "model_id": "20a2d1b1a2ff4ac28fd083105e02f102",
       "version_major": 2,
       "version_minor": 0
      },
      "text/plain": [
       "  0%|          | 0/16 [00:00<?, ?it/s]"
      ]
     },
     "metadata": {},
     "output_type": "display_data"
    },
    {
     "data": {
      "application/vnd.jupyter.widget-view+json": {
       "model_id": "b4dc2a31fb80414682943fab80b14eaf",
       "version_major": 2,
       "version_minor": 0
      },
      "text/plain": [
       "  0%|          | 0/22 [00:00<?, ?it/s]"
      ]
     },
     "metadata": {},
     "output_type": "display_data"
    },
    {
     "data": {
      "application/vnd.jupyter.widget-view+json": {
       "model_id": "a5fff0bd62af4b0bb7e9fdb53816804e",
       "version_major": 2,
       "version_minor": 0
      },
      "text/plain": [
       "  0%|          | 0/9 [00:00<?, ?it/s]"
      ]
     },
     "metadata": {},
     "output_type": "display_data"
    },
    {
     "data": {
      "application/vnd.jupyter.widget-view+json": {
       "model_id": "655674a58d3641759be1874aca7c38a6",
       "version_major": 2,
       "version_minor": 0
      },
      "text/plain": [
       "  0%|          | 0/7 [00:00<?, ?it/s]"
      ]
     },
     "metadata": {},
     "output_type": "display_data"
    },
    {
     "data": {
      "application/vnd.jupyter.widget-view+json": {
       "model_id": "fd431346e5714ca9b94dabf025920faa",
       "version_major": 2,
       "version_minor": 0
      },
      "text/plain": [
       "  0%|          | 0/24 [00:00<?, ?it/s]"
      ]
     },
     "metadata": {},
     "output_type": "display_data"
    },
    {
     "data": {
      "application/vnd.jupyter.widget-view+json": {
       "model_id": "60d853f0b7d04b2a8d6522fdc09e1a75",
       "version_major": 2,
       "version_minor": 0
      },
      "text/plain": [
       "  0%|          | 0/21 [00:00<?, ?it/s]"
      ]
     },
     "metadata": {},
     "output_type": "display_data"
    },
    {
     "data": {
      "application/vnd.jupyter.widget-view+json": {
       "model_id": "814719731b0c4a849fa186c3faf286c2",
       "version_major": 2,
       "version_minor": 0
      },
      "text/plain": [
       "  0%|          | 0/19 [00:00<?, ?it/s]"
      ]
     },
     "metadata": {},
     "output_type": "display_data"
    },
    {
     "data": {
      "application/vnd.jupyter.widget-view+json": {
       "model_id": "8c1824732ab04aef93ce882e40a1afe0",
       "version_major": 2,
       "version_minor": 0
      },
      "text/plain": [
       "  0%|          | 0/15 [00:00<?, ?it/s]"
      ]
     },
     "metadata": {},
     "output_type": "display_data"
    },
    {
     "data": {
      "application/vnd.jupyter.widget-view+json": {
       "model_id": "1d32db3735a341e0a50bbf8ecc49e701",
       "version_major": 2,
       "version_minor": 0
      },
      "text/plain": [
       "  0%|          | 0/15 [00:00<?, ?it/s]"
      ]
     },
     "metadata": {},
     "output_type": "display_data"
    },
    {
     "data": {
      "application/vnd.jupyter.widget-view+json": {
       "model_id": "735bc154dca14d60b0102f153a0a566f",
       "version_major": 2,
       "version_minor": 0
      },
      "text/plain": [
       "  0%|          | 0/7 [00:00<?, ?it/s]"
      ]
     },
     "metadata": {},
     "output_type": "display_data"
    },
    {
     "data": {
      "application/vnd.jupyter.widget-view+json": {
       "model_id": "97bcb32a5255467883ed4744e73a0a11",
       "version_major": 2,
       "version_minor": 0
      },
      "text/plain": [
       "  0%|          | 0/9 [00:00<?, ?it/s]"
      ]
     },
     "metadata": {},
     "output_type": "display_data"
    },
    {
     "data": {
      "application/vnd.jupyter.widget-view+json": {
       "model_id": "980f2de67b9f40a0a9902cc4882b0d99",
       "version_major": 2,
       "version_minor": 0
      },
      "text/plain": [
       "  0%|          | 0/17 [00:00<?, ?it/s]"
      ]
     },
     "metadata": {},
     "output_type": "display_data"
    },
    {
     "data": {
      "application/vnd.jupyter.widget-view+json": {
       "model_id": "d5efdb3b12e64d6bac76b3023b03a296",
       "version_major": 2,
       "version_minor": 0
      },
      "text/plain": [
       "  0%|          | 0/13 [00:00<?, ?it/s]"
      ]
     },
     "metadata": {},
     "output_type": "display_data"
    },
    {
     "data": {
      "application/vnd.jupyter.widget-view+json": {
       "model_id": "4aafaba835c3482da20fe65d663a0149",
       "version_major": 2,
       "version_minor": 0
      },
      "text/plain": [
       "  0%|          | 0/25 [00:00<?, ?it/s]"
      ]
     },
     "metadata": {},
     "output_type": "display_data"
    },
    {
     "data": {
      "application/vnd.jupyter.widget-view+json": {
       "model_id": "b10ea188036c40c384e946ef045e8d41",
       "version_major": 2,
       "version_minor": 0
      },
      "text/plain": [
       "  0%|          | 0/117 [00:00<?, ?it/s]"
      ]
     },
     "metadata": {},
     "output_type": "display_data"
    },
    {
     "data": {
      "application/vnd.jupyter.widget-view+json": {
       "model_id": "21cba2e40ac94838be12d64493f27f81",
       "version_major": 2,
       "version_minor": 0
      },
      "text/plain": [
       "  0%|          | 0/16 [00:00<?, ?it/s]"
      ]
     },
     "metadata": {},
     "output_type": "display_data"
    },
    {
     "data": {
      "application/vnd.jupyter.widget-view+json": {
       "model_id": "a34bff5a7e9046a3b354aa2deeb42fe1",
       "version_major": 2,
       "version_minor": 0
      },
      "text/plain": [
       "  0%|          | 0/10 [00:00<?, ?it/s]"
      ]
     },
     "metadata": {},
     "output_type": "display_data"
    },
    {
     "data": {
      "application/vnd.jupyter.widget-view+json": {
       "model_id": "b775996ce05a4c39a72b8f9b3f0ddb24",
       "version_major": 2,
       "version_minor": 0
      },
      "text/plain": [
       "  0%|          | 0/12 [00:00<?, ?it/s]"
      ]
     },
     "metadata": {},
     "output_type": "display_data"
    },
    {
     "data": {
      "application/vnd.jupyter.widget-view+json": {
       "model_id": "ab06790b73ee45809a019a9f11ab6f8f",
       "version_major": 2,
       "version_minor": 0
      },
      "text/plain": [
       "  0%|          | 0/14 [00:00<?, ?it/s]"
      ]
     },
     "metadata": {},
     "output_type": "display_data"
    },
    {
     "data": {
      "application/vnd.jupyter.widget-view+json": {
       "model_id": "d7e6445abdee4f80a03cfb6a2d035724",
       "version_major": 2,
       "version_minor": 0
      },
      "text/plain": [
       "  0%|          | 0/11 [00:00<?, ?it/s]"
      ]
     },
     "metadata": {},
     "output_type": "display_data"
    },
    {
     "data": {
      "application/vnd.jupyter.widget-view+json": {
       "model_id": "26f10384f45849e584e1f7cd841db8b6",
       "version_major": 2,
       "version_minor": 0
      },
      "text/plain": [
       "  0%|          | 0/19 [00:00<?, ?it/s]"
      ]
     },
     "metadata": {},
     "output_type": "display_data"
    },
    {
     "data": {
      "application/vnd.jupyter.widget-view+json": {
       "model_id": "ba2ddc64233e4284a018dac1af550c83",
       "version_major": 2,
       "version_minor": 0
      },
      "text/plain": [
       "  0%|          | 0/28 [00:00<?, ?it/s]"
      ]
     },
     "metadata": {},
     "output_type": "display_data"
    },
    {
     "data": {
      "application/vnd.jupyter.widget-view+json": {
       "model_id": "da914de6322b450dae1c1f135591bc39",
       "version_major": 2,
       "version_minor": 0
      },
      "text/plain": [
       "  0%|          | 0/21 [00:00<?, ?it/s]"
      ]
     },
     "metadata": {},
     "output_type": "display_data"
    },
    {
     "data": {
      "application/vnd.jupyter.widget-view+json": {
       "model_id": "78b78f894c4047c9bddbf4b7dc6e9f13",
       "version_major": 2,
       "version_minor": 0
      },
      "text/plain": [
       "  0%|          | 0/39 [00:00<?, ?it/s]"
      ]
     },
     "metadata": {},
     "output_type": "display_data"
    },
    {
     "data": {
      "application/vnd.jupyter.widget-view+json": {
       "model_id": "a045a022604841d4b0405849f69f9060",
       "version_major": 2,
       "version_minor": 0
      },
      "text/plain": [
       "  0%|          | 0/14 [00:00<?, ?it/s]"
      ]
     },
     "metadata": {},
     "output_type": "display_data"
    },
    {
     "data": {
      "application/vnd.jupyter.widget-view+json": {
       "model_id": "d69870940c644908a2c6eb9fcd6c0af6",
       "version_major": 2,
       "version_minor": 0
      },
      "text/plain": [
       "  0%|          | 0/24 [00:00<?, ?it/s]"
      ]
     },
     "metadata": {},
     "output_type": "display_data"
    },
    {
     "data": {
      "application/vnd.jupyter.widget-view+json": {
       "model_id": "588384ae203d45e3b5b6d47a44de8aa4",
       "version_major": 2,
       "version_minor": 0
      },
      "text/plain": [
       "  0%|          | 0/17 [00:00<?, ?it/s]"
      ]
     },
     "metadata": {},
     "output_type": "display_data"
    },
    {
     "data": {
      "application/vnd.jupyter.widget-view+json": {
       "model_id": "b9fceaa0d91c41c39f4f6497ddf7945d",
       "version_major": 2,
       "version_minor": 0
      },
      "text/plain": [
       "  0%|          | 0/34 [00:00<?, ?it/s]"
      ]
     },
     "metadata": {},
     "output_type": "display_data"
    },
    {
     "data": {
      "application/vnd.jupyter.widget-view+json": {
       "model_id": "5f7f6301dc1c44eeaf055d0315d6082f",
       "version_major": 2,
       "version_minor": 0
      },
      "text/plain": [
       "  0%|          | 0/23 [00:00<?, ?it/s]"
      ]
     },
     "metadata": {},
     "output_type": "display_data"
    },
    {
     "data": {
      "application/vnd.jupyter.widget-view+json": {
       "model_id": "4d790cb5f7954a19a0cc4167545885da",
       "version_major": 2,
       "version_minor": 0
      },
      "text/plain": [
       "  0%|          | 0/19 [00:00<?, ?it/s]"
      ]
     },
     "metadata": {},
     "output_type": "display_data"
    },
    {
     "data": {
      "application/vnd.jupyter.widget-view+json": {
       "model_id": "c5f221c7507c48228000029b18acc270",
       "version_major": 2,
       "version_minor": 0
      },
      "text/plain": [
       "  0%|          | 0/33 [00:00<?, ?it/s]"
      ]
     },
     "metadata": {},
     "output_type": "display_data"
    },
    {
     "data": {
      "application/vnd.jupyter.widget-view+json": {
       "model_id": "4f230d8a037545b7884296a66876cf22",
       "version_major": 2,
       "version_minor": 0
      },
      "text/plain": [
       "  0%|          | 0/20 [00:00<?, ?it/s]"
      ]
     },
     "metadata": {},
     "output_type": "display_data"
    },
    {
     "data": {
      "application/vnd.jupyter.widget-view+json": {
       "model_id": "734eebc7b966474eb03e3ff0730cd36f",
       "version_major": 2,
       "version_minor": 0
      },
      "text/plain": [
       "  0%|          | 0/15 [00:00<?, ?it/s]"
      ]
     },
     "metadata": {},
     "output_type": "display_data"
    },
    {
     "data": {
      "application/vnd.jupyter.widget-view+json": {
       "model_id": "36d4d1072adb4d73a7a1a6c3f8592c7a",
       "version_major": 2,
       "version_minor": 0
      },
      "text/plain": [
       "  0%|          | 0/14 [00:00<?, ?it/s]"
      ]
     },
     "metadata": {},
     "output_type": "display_data"
    },
    {
     "data": {
      "application/vnd.jupyter.widget-view+json": {
       "model_id": "9ddfe5218e2f4d52b8bd50f201e5dd7c",
       "version_major": 2,
       "version_minor": 0
      },
      "text/plain": [
       "  0%|          | 0/22 [00:00<?, ?it/s]"
      ]
     },
     "metadata": {},
     "output_type": "display_data"
    },
    {
     "data": {
      "application/vnd.jupyter.widget-view+json": {
       "model_id": "f18d7aa05011429c9faa7819f311d5d4",
       "version_major": 2,
       "version_minor": 0
      },
      "text/plain": [
       "  0%|          | 0/31 [00:00<?, ?it/s]"
      ]
     },
     "metadata": {},
     "output_type": "display_data"
    },
    {
     "data": {
      "application/vnd.jupyter.widget-view+json": {
       "model_id": "d4d1061a2dc34572b221be47e8684372",
       "version_major": 2,
       "version_minor": 0
      },
      "text/plain": [
       "  0%|          | 0/25 [00:00<?, ?it/s]"
      ]
     },
     "metadata": {},
     "output_type": "display_data"
    },
    {
     "data": {
      "application/vnd.jupyter.widget-view+json": {
       "model_id": "8507f367da4642e39815c0cdd3ad746a",
       "version_major": 2,
       "version_minor": 0
      },
      "text/plain": [
       "  0%|          | 0/10 [00:00<?, ?it/s]"
      ]
     },
     "metadata": {},
     "output_type": "display_data"
    },
    {
     "data": {
      "application/vnd.jupyter.widget-view+json": {
       "model_id": "945fdb9f028e46a4a8bcc39fc8e32338",
       "version_major": 2,
       "version_minor": 0
      },
      "text/plain": [
       "  0%|          | 0/25 [00:00<?, ?it/s]"
      ]
     },
     "metadata": {},
     "output_type": "display_data"
    },
    {
     "data": {
      "application/vnd.jupyter.widget-view+json": {
       "model_id": "72e6ebe708394610961fc844d265490c",
       "version_major": 2,
       "version_minor": 0
      },
      "text/plain": [
       "  0%|          | 0/10 [00:00<?, ?it/s]"
      ]
     },
     "metadata": {},
     "output_type": "display_data"
    },
    {
     "data": {
      "application/vnd.jupyter.widget-view+json": {
       "model_id": "06b92eacaa6648cb90e3bc9794ebf79c",
       "version_major": 2,
       "version_minor": 0
      },
      "text/plain": [
       "  0%|          | 0/11 [00:00<?, ?it/s]"
      ]
     },
     "metadata": {},
     "output_type": "display_data"
    },
    {
     "data": {
      "application/vnd.jupyter.widget-view+json": {
       "model_id": "1ba9db1cb17c425881899de938478c71",
       "version_major": 2,
       "version_minor": 0
      },
      "text/plain": [
       "  0%|          | 0/18 [00:00<?, ?it/s]"
      ]
     },
     "metadata": {},
     "output_type": "display_data"
    },
    {
     "data": {
      "application/vnd.jupyter.widget-view+json": {
       "model_id": "5b2b4cd2f49543568ef2b878403bbc8f",
       "version_major": 2,
       "version_minor": 0
      },
      "text/plain": [
       "  0%|          | 0/28 [00:00<?, ?it/s]"
      ]
     },
     "metadata": {},
     "output_type": "display_data"
    },
    {
     "data": {
      "application/vnd.jupyter.widget-view+json": {
       "model_id": "56e8b2224b1d484d86e5100df8c7174d",
       "version_major": 2,
       "version_minor": 0
      },
      "text/plain": [
       "  0%|          | 0/11 [00:00<?, ?it/s]"
      ]
     },
     "metadata": {},
     "output_type": "display_data"
    },
    {
     "data": {
      "application/vnd.jupyter.widget-view+json": {
       "model_id": "9b35926da2a44877b57b4bc10a629137",
       "version_major": 2,
       "version_minor": 0
      },
      "text/plain": [
       "  0%|          | 0/14 [00:00<?, ?it/s]"
      ]
     },
     "metadata": {},
     "output_type": "display_data"
    },
    {
     "data": {
      "application/vnd.jupyter.widget-view+json": {
       "model_id": "0918adb20b684576acb2be2d32ce4a14",
       "version_major": 2,
       "version_minor": 0
      },
      "text/plain": [
       "  0%|          | 0/11 [00:00<?, ?it/s]"
      ]
     },
     "metadata": {},
     "output_type": "display_data"
    },
    {
     "data": {
      "application/vnd.jupyter.widget-view+json": {
       "model_id": "bf77cc36aaf641869480095ee1eabc98",
       "version_major": 2,
       "version_minor": 0
      },
      "text/plain": [
       "  0%|          | 0/17 [00:00<?, ?it/s]"
      ]
     },
     "metadata": {},
     "output_type": "display_data"
    },
    {
     "data": {
      "application/vnd.jupyter.widget-view+json": {
       "model_id": "1dfd68d0265746efa06a1aefa2078bf9",
       "version_major": 2,
       "version_minor": 0
      },
      "text/plain": [
       "  0%|          | 0/20 [00:00<?, ?it/s]"
      ]
     },
     "metadata": {},
     "output_type": "display_data"
    },
    {
     "data": {
      "application/vnd.jupyter.widget-view+json": {
       "model_id": "8b4b60b1b5744119beffbd4b5a0d0cea",
       "version_major": 2,
       "version_minor": 0
      },
      "text/plain": [
       "  0%|          | 0/8 [00:00<?, ?it/s]"
      ]
     },
     "metadata": {},
     "output_type": "display_data"
    },
    {
     "data": {
      "application/vnd.jupyter.widget-view+json": {
       "model_id": "5058896e188741b88e6f75da09efb052",
       "version_major": 2,
       "version_minor": 0
      },
      "text/plain": [
       "  0%|          | 0/21 [00:00<?, ?it/s]"
      ]
     },
     "metadata": {},
     "output_type": "display_data"
    },
    {
     "data": {
      "application/vnd.jupyter.widget-view+json": {
       "model_id": "1c4bdebf649b4b079decaed6feb3926a",
       "version_major": 2,
       "version_minor": 0
      },
      "text/plain": [
       "  0%|          | 0/19 [00:00<?, ?it/s]"
      ]
     },
     "metadata": {},
     "output_type": "display_data"
    },
    {
     "data": {
      "application/vnd.jupyter.widget-view+json": {
       "model_id": "2d87f0f22229406f94d04277f71cfc8d",
       "version_major": 2,
       "version_minor": 0
      },
      "text/plain": [
       "  0%|          | 0/10 [00:00<?, ?it/s]"
      ]
     },
     "metadata": {},
     "output_type": "display_data"
    },
    {
     "data": {
      "application/vnd.jupyter.widget-view+json": {
       "model_id": "d4cd98ef09804c69afbbacc0eda62672",
       "version_major": 2,
       "version_minor": 0
      },
      "text/plain": [
       "  0%|          | 0/16 [00:00<?, ?it/s]"
      ]
     },
     "metadata": {},
     "output_type": "display_data"
    },
    {
     "data": {
      "application/vnd.jupyter.widget-view+json": {
       "model_id": "fe9e587eeba0418bbe5574ddc26e77be",
       "version_major": 2,
       "version_minor": 0
      },
      "text/plain": [
       "  0%|          | 0/11 [00:00<?, ?it/s]"
      ]
     },
     "metadata": {},
     "output_type": "display_data"
    },
    {
     "data": {
      "application/vnd.jupyter.widget-view+json": {
       "model_id": "8537bc5db8e24ea99f62743c4dcf14c7",
       "version_major": 2,
       "version_minor": 0
      },
      "text/plain": [
       "  0%|          | 0/9 [00:00<?, ?it/s]"
      ]
     },
     "metadata": {},
     "output_type": "display_data"
    },
    {
     "data": {
      "application/vnd.jupyter.widget-view+json": {
       "model_id": "db58ab6eebcd407aa72496b339f3580c",
       "version_major": 2,
       "version_minor": 0
      },
      "text/plain": [
       "  0%|          | 0/26 [00:00<?, ?it/s]"
      ]
     },
     "metadata": {},
     "output_type": "display_data"
    },
    {
     "data": {
      "application/vnd.jupyter.widget-view+json": {
       "model_id": "2d55743c2df34caf9cb5bb11148671dd",
       "version_major": 2,
       "version_minor": 0
      },
      "text/plain": [
       "  0%|          | 0/17 [00:00<?, ?it/s]"
      ]
     },
     "metadata": {},
     "output_type": "display_data"
    },
    {
     "data": {
      "application/vnd.jupyter.widget-view+json": {
       "model_id": "82ed1ba731214df489f8ed787a85d287",
       "version_major": 2,
       "version_minor": 0
      },
      "text/plain": [
       "  0%|          | 0/15 [00:00<?, ?it/s]"
      ]
     },
     "metadata": {},
     "output_type": "display_data"
    },
    {
     "name": "stdout",
     "output_type": "stream",
     "text": [
      "Synapsse Results:\n",
      "Total Number of Synapses = 3772\n",
      "n_valid_syn_ids_presyn = 40\n",
      "n_errored_syn_ids_presyn = 373\n",
      "n_valid_syn_ids_postsyn = 3319\n",
      "n_errored_syn_ids_postsyn = 40\n",
      "Synapsse Results:\n",
      "Total Number of Synapses = 3772\n",
      "n_valid_syn_ids_presyn = 40\n",
      "n_errored_syn_ids_presyn = 373\n",
      "n_valid_syn_ids_postsyn = 3319\n",
      "n_errored_syn_ids_postsyn = 40\n"
     ]
    },
    {
     "data": {
      "application/vnd.jupyter.widget-view+json": {
       "model_id": "d61bb80c516e4830b21449e1fdfab7c4",
       "version_major": 2,
       "version_minor": 0
      },
      "text/plain": [
       "  0%|          | 0/24 [00:00<?, ?it/s]"
      ]
     },
     "metadata": {},
     "output_type": "display_data"
    },
    {
     "data": {
      "application/vnd.jupyter.widget-view+json": {
       "model_id": "2f3e7c2a382c43e09c73b6783e1db9d8",
       "version_major": 2,
       "version_minor": 0
      },
      "text/plain": [
       "  0%|          | 0/10 [00:00<?, ?it/s]"
      ]
     },
     "metadata": {},
     "output_type": "display_data"
    },
    {
     "name": "stdout",
     "output_type": "stream",
     "text": [
      "Synapsse Results:\n",
      "Total Number of Synapses = 3772\n",
      "n_valid_syn_ids_presyn = 40\n",
      "n_errored_syn_ids_presyn = 373\n",
      "n_valid_syn_ids_postsyn = 3319\n",
      "n_errored_syn_ids_postsyn = 40\n",
      "Synapsse Results:\n",
      "Total Number of Synapses = 3772\n",
      "n_valid_syn_ids_presyn = 40\n",
      "n_errored_syn_ids_presyn = 373\n",
      "n_valid_syn_ids_postsyn = 3319\n",
      "n_errored_syn_ids_postsyn = 40\n"
     ]
    },
    {
     "data": {
      "application/vnd.jupyter.widget-view+json": {
       "model_id": "ee68f260f8984962af38cfa8ab20b10e",
       "version_major": 2,
       "version_minor": 0
      },
      "text/plain": [
       "  0%|          | 0/24 [00:00<?, ?it/s]"
      ]
     },
     "metadata": {},
     "output_type": "display_data"
    },
    {
     "data": {
      "application/vnd.jupyter.widget-view+json": {
       "model_id": "be45169c9bcb477d8b365ceb69aa588b",
       "version_major": 2,
       "version_minor": 0
      },
      "text/plain": [
       "  0%|          | 0/10 [00:00<?, ?it/s]"
      ]
     },
     "metadata": {},
     "output_type": "display_data"
    },
    {
     "name": "stdout",
     "output_type": "stream",
     "text": [
      "\n",
      "\n",
      "len(branch_attr_keys) = 34\n",
      "Saving Neuorn in suppress_output mode...please wait\n",
      "Saved File at location: /mnt/dj-stor01/platinum/minnie65/02/decomposition/864691135212632448_0_25_soma_0_split_full_axon\n",
      "Save time = 212.62727284431458\n",
      "\n",
      "\n",
      " ***------ Total time for 864691135212632448 = 1007.7164075374603 ------ ***\n",
      "Populate Done\n",
      "Total time for AutoProofreadValidationBorder populate = 9606.493953227997\n"
     ]
    }
   ],
   "source": [
    "\n",
    "import time\n",
    "pru = reload(pru)\n",
    "nru = reload(nru)\n",
    "import neuron_searching as ns\n",
    "ns = reload(ns)\n",
    "clu = reload(clu)\n",
    "du = reload(du)\n",
    "import random\n",
    "\n",
    "start_time = time.time()\n",
    "if not test_mode:\n",
    "    time.sleep(random.randint(0, 800))\n",
    "print('Populate Started')\n",
    "if not test_mode:\n",
    "    AutoProofreadValidationBorder.populate(reserve_jobs=True, suppress_errors=True, order=\"random\")\n",
    "else:\n",
    "    AutoProofreadValidationBorder.populate(reserve_jobs=True, suppress_errors=True, order=\"random\")\n",
    "print('Populate Done')\n",
    "\n",
    "print(f\"Total time for AutoProofreadValidationBorder populate = {time.time() - start_time}\")\n"
   ]
  },
  {
   "cell_type": "code",
   "execution_count": null,
   "metadata": {},
   "outputs": [],
   "source": []
  }
 ],
 "metadata": {
  "kernelspec": {
   "display_name": "Python 3",
   "language": "python",
   "name": "python3"
  },
  "language_info": {
   "codemirror_mode": {
    "name": "ipython",
    "version": 3
   },
   "file_extension": ".py",
   "mimetype": "text/x-python",
   "name": "python",
   "nbconvert_exporter": "python",
   "pygments_lexer": "ipython3",
   "version": "3.6.9"
  }
 },
 "nbformat": 4,
 "nbformat_minor": 4
}
