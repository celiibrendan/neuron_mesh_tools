{
 "cells": [
  {
   "cell_type": "code",
   "execution_count": null,
   "metadata": {},
   "outputs": [],
   "source": [
    "\"\"\"\n",
    "Purpose: To check the errors on the validation test set\n",
    "to get ideas on how to make validation score go up\n",
    "\n",
    "\"\"\""
   ]
  },
  {
   "cell_type": "code",
   "execution_count": 1,
   "metadata": {},
   "outputs": [],
   "source": [
    "%load_ext autoreload\n",
    "%autoreload 2"
   ]
  },
  {
   "cell_type": "code",
   "execution_count": 2,
   "metadata": {},
   "outputs": [],
   "source": [
    "from os import sys\n",
    "sys.path.append(\"/meshAfterParty/\")\n",
    "sys.path.append(\"/meshAfterParty/meshAfterParty/\")"
   ]
  },
  {
   "cell_type": "code",
   "execution_count": 3,
   "metadata": {},
   "outputs": [
    {
     "name": "stderr",
     "output_type": "stream",
     "text": [
      "INFO - 2021-03-31 18:07:32,744 - settings - Setting database.host to at-database.ad.bcm.edu\n",
      "INFO - 2021-03-31 18:07:32,745 - settings - Setting database.user to celiib\n",
      "INFO - 2021-03-31 18:07:32,746 - settings - Setting database.password to newceliipass\n",
      "INFO - 2021-03-31 18:07:32,750 - settings - Setting stores to {'minnie65': {'protocol': 'file', 'location': '/mnt/dj-stor01/platinum/minnie65', 'stage': '/mnt/dj-stor01/platinum/minnie65'}, 'meshes': {'protocol': 'file', 'location': '/mnt/dj-stor01/platinum/minnie65/02/meshes', 'stage': '/mnt/dj-stor01/platinum/minnie65/02/meshes'}, 'decimated_meshes': {'protocol': 'file', 'location': '/mnt/dj-stor01/platinum/minnie65/02/decimated_meshes', 'stage': '/mnt/dj-stor01/platinum/minnie65/02/decimated_meshes'}, 'skeletons': {'protocol': 'file', 'location': '/mnt/dj-stor01/platinum/minnie65/02/skeletons'}}\n",
      "INFO - 2021-03-31 18:07:32,751 - settings - Setting enable_python_native_blobs to True\n",
      "INFO - 2021-03-31 18:07:32,760 - connection - Connected celiib@at-database.ad.bcm.edu:3306\n"
     ]
    },
    {
     "name": "stdout",
     "output_type": "stream",
     "text": [
      "Connecting celiib@at-database.ad.bcm.edu:3306\n"
     ]
    },
    {
     "name": "stderr",
     "output_type": "stream",
     "text": [
      "INFO - 2021-03-31 18:07:33,106 - settings - Setting enable_python_native_blobs to True\n",
      "INFO - 2021-03-31 18:07:33,110 - settings - Setting database.host to at-database.ad.bcm.edu\n",
      "INFO - 2021-03-31 18:07:33,112 - settings - Setting database.user to celiib\n",
      "INFO - 2021-03-31 18:07:33,112 - settings - Setting database.password to newceliipass\n",
      "INFO - 2021-03-31 18:07:33,113 - settings - Setting database.host to at-database.ad.bcm.edu\n",
      "INFO - 2021-03-31 18:07:33,114 - settings - Setting database.user to celiib\n",
      "INFO - 2021-03-31 18:07:33,115 - settings - Setting database.password to newceliipass\n",
      "INFO - 2021-03-31 18:07:33,117 - settings - Setting enable_python_native_blobs to True\n",
      "INFO - 2021-03-31 18:07:33,538 - settings - Setting enable_python_native_blobs to True\n"
     ]
    }
   ],
   "source": [
    "from pathlib import Path\n",
    "import numpy as np\n",
    "import neuron_visualizations as nviz\n",
    "import datajoint as dj\n",
    "\n",
    "import proofreading_utils as pru\n",
    "import classification_utils as clu\n",
    "\n",
    "import neuron_utils as nru\n",
    "import validation_utils as vu\n",
    "import pandas as pd\n",
    "import datajoint_utils as du"
   ]
  },
  {
   "cell_type": "markdown",
   "metadata": {},
   "source": [
    "# Computing the validation statistics (to pick the ones to look at)"
   ]
  },
  {
   "cell_type": "code",
   "execution_count": 5,
   "metadata": {
    "scrolled": true
   },
   "outputs": [
    {
     "name": "stdout",
     "output_type": "stream",
     "text": [
      "Synapsse Results:\n",
      "Total Number of Synapses = 3990\n",
      "n_valid_syn_ids_presyn = 5\n",
      "n_errored_syn_ids_presyn = 29\n",
      "n_valid_syn_ids_postsyn = 3891\n",
      "n_errored_syn_ids_postsyn = 65\n",
      "Synapsse Results:\n",
      "Total Number of Synapses = 4434\n",
      "n_valid_syn_ids_presyn = 39\n",
      "n_errored_syn_ids_presyn = 482\n",
      "n_valid_syn_ids_postsyn = 3898\n",
      "n_errored_syn_ids_postsyn = 15\n",
      "Synapsse Results:\n",
      "Total Number of Synapses = 923\n",
      "n_valid_syn_ids_presyn = 13\n",
      "n_errored_syn_ids_presyn = 153\n",
      "n_valid_syn_ids_postsyn = 753\n",
      "n_errored_syn_ids_postsyn = 4\n",
      "Synapsse Results:\n",
      "Total Number of Synapses = 4361\n",
      "n_valid_syn_ids_presyn = 86\n",
      "n_errored_syn_ids_presyn = 621\n",
      "n_valid_syn_ids_postsyn = 3649\n",
      "n_errored_syn_ids_postsyn = 5\n",
      "Synapsse Results:\n",
      "Total Number of Synapses = 3452\n",
      "n_valid_syn_ids_presyn = 76\n",
      "n_errored_syn_ids_presyn = 345\n",
      "n_valid_syn_ids_postsyn = 3007\n",
      "n_errored_syn_ids_postsyn = 24\n",
      "Synapsse Results:\n",
      "Total Number of Synapses = 3190\n",
      "n_valid_syn_ids_presyn = 18\n",
      "n_errored_syn_ids_presyn = 89\n",
      "n_valid_syn_ids_postsyn = 3081\n",
      "n_errored_syn_ids_postsyn = 2\n",
      "Synapsse Results:\n",
      "Total Number of Synapses = 3772\n",
      "n_valid_syn_ids_presyn = 40\n",
      "n_errored_syn_ids_presyn = 373\n",
      "n_valid_syn_ids_postsyn = 3319\n",
      "n_errored_syn_ids_postsyn = 40\n",
      "Synapsse Results:\n",
      "Total Number of Synapses = 3611\n",
      "n_valid_syn_ids_presyn = 0\n",
      "n_errored_syn_ids_presyn = 277\n",
      "n_valid_syn_ids_postsyn = 3329\n",
      "n_errored_syn_ids_postsyn = 5\n",
      "Synapsse Results:\n",
      "Total Number of Synapses = 3806\n",
      "n_valid_syn_ids_presyn = 24\n",
      "n_errored_syn_ids_presyn = 273\n",
      "n_valid_syn_ids_postsyn = 3352\n",
      "n_errored_syn_ids_postsyn = 157\n",
      "Synapsse Results:\n",
      "Total Number of Synapses = 7152\n",
      "n_valid_syn_ids_presyn = 0\n",
      "n_errored_syn_ids_presyn = 99\n",
      "n_valid_syn_ids_postsyn = 7046\n",
      "n_errored_syn_ids_postsyn = 7\n",
      "Synapsse Results:\n",
      "Total Number of Synapses = 6474\n",
      "n_valid_syn_ids_presyn = 66\n",
      "n_errored_syn_ids_presyn = 385\n",
      "n_valid_syn_ids_postsyn = 6018\n",
      "n_errored_syn_ids_postsyn = 5\n",
      "Synapsse Results:\n",
      "Total Number of Synapses = 4706\n",
      "n_valid_syn_ids_presyn = 6\n",
      "n_errored_syn_ids_presyn = 58\n",
      "n_valid_syn_ids_postsyn = 4632\n",
      "n_errored_syn_ids_postsyn = 10\n",
      "Synapsse Results:\n",
      "Total Number of Synapses = 2462\n",
      "n_valid_syn_ids_presyn = 32\n",
      "n_errored_syn_ids_presyn = 175\n",
      "n_valid_syn_ids_postsyn = 2224\n",
      "n_errored_syn_ids_postsyn = 31\n",
      "Synapsse Results:\n",
      "Total Number of Synapses = 4846\n",
      "n_valid_syn_ids_presyn = 2\n",
      "n_errored_syn_ids_presyn = 25\n",
      "n_valid_syn_ids_postsyn = 4817\n",
      "n_errored_syn_ids_postsyn = 2\n",
      "Synapsse Results:\n",
      "Total Number of Synapses = 3713\n",
      "n_valid_syn_ids_presyn = 61\n",
      "n_errored_syn_ids_presyn = 199\n",
      "n_valid_syn_ids_postsyn = 2662\n",
      "n_errored_syn_ids_postsyn = 791\n",
      "Synapsse Results:\n",
      "Total Number of Synapses = 1159\n",
      "n_valid_syn_ids_presyn = 84\n",
      "n_errored_syn_ids_presyn = 197\n",
      "n_valid_syn_ids_postsyn = 806\n",
      "n_errored_syn_ids_postsyn = 72\n",
      "Synapsse Results:\n",
      "Total Number of Synapses = 4783\n",
      "n_valid_syn_ids_presyn = 7\n",
      "n_errored_syn_ids_presyn = 178\n",
      "n_valid_syn_ids_postsyn = 4551\n",
      "n_errored_syn_ids_postsyn = 47\n",
      "Synapsse Results:\n",
      "Total Number of Synapses = 1760\n",
      "n_valid_syn_ids_presyn = 65\n",
      "n_errored_syn_ids_presyn = 225\n",
      "n_valid_syn_ids_postsyn = 1467\n",
      "n_errored_syn_ids_postsyn = 3\n",
      "Synapsse Results:\n",
      "Total Number of Synapses = 5362\n",
      "n_valid_syn_ids_presyn = 0\n",
      "n_errored_syn_ids_presyn = 108\n",
      "n_valid_syn_ids_postsyn = 5033\n",
      "n_errored_syn_ids_postsyn = 221\n",
      "Synapsse Results:\n",
      "Total Number of Synapses = 4072\n",
      "n_valid_syn_ids_presyn = 54\n",
      "n_errored_syn_ids_presyn = 161\n",
      "n_valid_syn_ids_postsyn = 3746\n",
      "n_errored_syn_ids_postsyn = 111\n",
      "Synapsse Results:\n",
      "Total Number of Synapses = 5846\n",
      "n_valid_syn_ids_presyn = 0\n",
      "n_errored_syn_ids_presyn = 235\n",
      "n_valid_syn_ids_postsyn = 5601\n",
      "n_errored_syn_ids_postsyn = 10\n",
      "Synapsse Results:\n",
      "Total Number of Synapses = 4377\n",
      "n_valid_syn_ids_presyn = 5\n",
      "n_errored_syn_ids_presyn = 196\n",
      "n_valid_syn_ids_postsyn = 4155\n",
      "n_errored_syn_ids_postsyn = 21\n",
      "Synapsse Results:\n",
      "Total Number of Synapses = 6287\n",
      "n_valid_syn_ids_presyn = 0\n",
      "n_errored_syn_ids_presyn = 23\n",
      "n_valid_syn_ids_postsyn = 6262\n",
      "n_errored_syn_ids_postsyn = 2\n",
      "Synapsse Results:\n",
      "Total Number of Synapses = 2875\n",
      "n_valid_syn_ids_presyn = 19\n",
      "n_errored_syn_ids_presyn = 1\n",
      "n_valid_syn_ids_postsyn = 2834\n",
      "n_errored_syn_ids_postsyn = 21\n",
      "Synapsse Results:\n",
      "Total Number of Synapses = 2717\n",
      "n_valid_syn_ids_presyn = 54\n",
      "n_errored_syn_ids_presyn = 29\n",
      "n_valid_syn_ids_postsyn = 2631\n",
      "n_errored_syn_ids_postsyn = 3\n",
      "Synapsse Results:\n",
      "Total Number of Synapses = 3329\n",
      "n_valid_syn_ids_presyn = 0\n",
      "n_errored_syn_ids_presyn = 230\n",
      "n_valid_syn_ids_postsyn = 3021\n",
      "n_errored_syn_ids_postsyn = 78\n",
      "Synapsse Results:\n",
      "Total Number of Synapses = 4803\n",
      "n_valid_syn_ids_presyn = 2\n",
      "n_errored_syn_ids_presyn = 226\n",
      "n_valid_syn_ids_postsyn = 4524\n",
      "n_errored_syn_ids_postsyn = 51\n",
      "Synapsse Results:\n",
      "Total Number of Synapses = 5263\n",
      "n_valid_syn_ids_presyn = 0\n",
      "n_errored_syn_ids_presyn = 89\n",
      "n_valid_syn_ids_postsyn = 5156\n",
      "n_errored_syn_ids_postsyn = 18\n",
      "Synapsse Results:\n",
      "Total Number of Synapses = 2171\n",
      "n_valid_syn_ids_presyn = 2\n",
      "n_errored_syn_ids_presyn = 152\n",
      "n_valid_syn_ids_postsyn = 2012\n",
      "n_errored_syn_ids_postsyn = 5\n",
      "Synapsse Results:\n",
      "Total Number of Synapses = 2978\n",
      "n_valid_syn_ids_presyn = 45\n",
      "n_errored_syn_ids_presyn = 132\n",
      "n_valid_syn_ids_postsyn = 2798\n",
      "n_errored_syn_ids_postsyn = 3\n",
      "Synapsse Results:\n",
      "Total Number of Synapses = 1221\n",
      "n_valid_syn_ids_presyn = 16\n",
      "n_errored_syn_ids_presyn = 72\n",
      "n_valid_syn_ids_postsyn = 1124\n",
      "n_errored_syn_ids_postsyn = 9\n",
      "Synapsse Results:\n",
      "Total Number of Synapses = 7110\n",
      "n_valid_syn_ids_presyn = 41\n",
      "n_errored_syn_ids_presyn = 119\n",
      "n_valid_syn_ids_postsyn = 6602\n",
      "n_errored_syn_ids_postsyn = 348\n",
      "Synapsse Results:\n",
      "Total Number of Synapses = 2757\n",
      "n_valid_syn_ids_presyn = 166\n",
      "n_errored_syn_ids_presyn = 103\n",
      "n_valid_syn_ids_postsyn = 2457\n",
      "n_errored_syn_ids_postsyn = 31\n",
      "Synapsse Results:\n",
      "Total Number of Synapses = 6716\n",
      "n_valid_syn_ids_presyn = 35\n",
      "n_errored_syn_ids_presyn = 41\n",
      "n_valid_syn_ids_postsyn = 6639\n",
      "n_errored_syn_ids_postsyn = 1\n",
      "Synapsse Results:\n",
      "Total Number of Synapses = 3348\n",
      "n_valid_syn_ids_presyn = 124\n",
      "n_errored_syn_ids_presyn = 229\n",
      "n_valid_syn_ids_postsyn = 2991\n",
      "n_errored_syn_ids_postsyn = 4\n",
      "Synapsse Results:\n",
      "Total Number of Synapses = 5879\n",
      "n_valid_syn_ids_presyn = 31\n",
      "n_errored_syn_ids_presyn = 183\n",
      "n_valid_syn_ids_postsyn = 5650\n",
      "n_errored_syn_ids_postsyn = 15\n",
      "Synapsse Results:\n",
      "Total Number of Synapses = 2510\n",
      "n_valid_syn_ids_presyn = 23\n",
      "n_errored_syn_ids_presyn = 23\n",
      "n_valid_syn_ids_postsyn = 2463\n",
      "n_errored_syn_ids_postsyn = 1\n",
      "Synapsse Results:\n",
      "Total Number of Synapses = 792\n",
      "n_valid_syn_ids_presyn = 11\n",
      "n_errored_syn_ids_presyn = 48\n",
      "n_valid_syn_ids_postsyn = 725\n",
      "n_errored_syn_ids_postsyn = 8\n",
      "Synapsse Results:\n",
      "Total Number of Synapses = 7459\n",
      "n_valid_syn_ids_presyn = 176\n",
      "n_errored_syn_ids_presyn = 270\n",
      "n_valid_syn_ids_postsyn = 6896\n",
      "n_errored_syn_ids_postsyn = 117\n",
      "Synapsse Results:\n",
      "Total Number of Synapses = 1990\n",
      "n_valid_syn_ids_presyn = 10\n",
      "n_errored_syn_ids_presyn = 234\n",
      "n_valid_syn_ids_postsyn = 1740\n",
      "n_errored_syn_ids_postsyn = 6\n",
      "Synapsse Results:\n",
      "Total Number of Synapses = 3302\n",
      "n_valid_syn_ids_presyn = 36\n",
      "n_errored_syn_ids_presyn = 123\n",
      "n_valid_syn_ids_postsyn = 3128\n",
      "n_errored_syn_ids_postsyn = 15\n",
      "Synapsse Results:\n",
      "Total Number of Synapses = 2523\n",
      "n_valid_syn_ids_presyn = 58\n",
      "n_errored_syn_ids_presyn = 398\n",
      "n_valid_syn_ids_postsyn = 2010\n",
      "n_errored_syn_ids_postsyn = 57\n",
      "Synapsse Results:\n",
      "Total Number of Synapses = 6246\n",
      "n_valid_syn_ids_presyn = 5\n",
      "n_errored_syn_ids_presyn = 386\n",
      "n_valid_syn_ids_postsyn = 5696\n",
      "n_errored_syn_ids_postsyn = 159\n",
      "Synapsse Results:\n",
      "Total Number of Synapses = 1896\n",
      "n_valid_syn_ids_presyn = 2\n",
      "n_errored_syn_ids_presyn = 121\n",
      "n_valid_syn_ids_postsyn = 1757\n",
      "n_errored_syn_ids_postsyn = 16\n",
      "Synapsse Results:\n",
      "Total Number of Synapses = 10149\n",
      "n_valid_syn_ids_presyn = 291\n",
      "n_errored_syn_ids_presyn = 547\n",
      "n_valid_syn_ids_postsyn = 9293\n",
      "n_errored_syn_ids_postsyn = 18\n",
      "Synapsse Results:\n",
      "Total Number of Synapses = 1708\n",
      "n_valid_syn_ids_presyn = 12\n",
      "n_errored_syn_ids_presyn = 92\n",
      "n_valid_syn_ids_postsyn = 1591\n",
      "n_errored_syn_ids_postsyn = 13\n",
      "Synapsse Results:\n",
      "Total Number of Synapses = 1899\n",
      "n_valid_syn_ids_presyn = 27\n",
      "n_errored_syn_ids_presyn = 107\n",
      "n_valid_syn_ids_postsyn = 1756\n",
      "n_errored_syn_ids_postsyn = 9\n",
      "Synapsse Results:\n",
      "Total Number of Synapses = 8418\n",
      "n_valid_syn_ids_presyn = 52\n",
      "n_errored_syn_ids_presyn = 332\n",
      "n_valid_syn_ids_postsyn = 8018\n",
      "n_errored_syn_ids_postsyn = 16\n",
      "Synapsse Results:\n",
      "Total Number of Synapses = 2080\n",
      "n_valid_syn_ids_presyn = 8\n",
      "n_errored_syn_ids_presyn = 42\n",
      "n_valid_syn_ids_postsyn = 2029\n",
      "n_errored_syn_ids_postsyn = 1\n"
     ]
    },
    {
     "name": "stdout",
     "output_type": "stream",
     "text": [
      "Synapsse Results:\n",
      "Total Number of Synapses = 1645\n",
      "n_valid_syn_ids_presyn = 0\n",
      "n_errored_syn_ids_presyn = 108\n",
      "n_valid_syn_ids_postsyn = 1536\n",
      "n_errored_syn_ids_postsyn = 1\n",
      "Synapsse Results:\n",
      "Total Number of Synapses = 4633\n",
      "n_valid_syn_ids_presyn = 72\n",
      "n_errored_syn_ids_presyn = 219\n",
      "n_valid_syn_ids_postsyn = 4328\n",
      "n_errored_syn_ids_postsyn = 14\n",
      "Synapsse Results:\n",
      "Total Number of Synapses = 2383\n",
      "n_valid_syn_ids_presyn = 0\n",
      "n_errored_syn_ids_presyn = 47\n",
      "n_valid_syn_ids_postsyn = 2334\n",
      "n_errored_syn_ids_postsyn = 2\n",
      "Synapsse Results:\n",
      "Total Number of Synapses = 4015\n",
      "n_valid_syn_ids_presyn = 12\n",
      "n_errored_syn_ids_presyn = 109\n",
      "n_valid_syn_ids_postsyn = 3879\n",
      "n_errored_syn_ids_postsyn = 15\n",
      "Synapsse Results:\n",
      "Total Number of Synapses = 1914\n",
      "n_valid_syn_ids_presyn = 3\n",
      "n_errored_syn_ids_presyn = 212\n",
      "n_valid_syn_ids_postsyn = 1528\n",
      "n_errored_syn_ids_postsyn = 171\n",
      "Synapsse Results:\n",
      "Total Number of Synapses = 10012\n",
      "n_valid_syn_ids_presyn = 8\n",
      "n_errored_syn_ids_presyn = 164\n",
      "n_valid_syn_ids_postsyn = 9825\n",
      "n_errored_syn_ids_postsyn = 15\n"
     ]
    }
   ],
   "source": [
    "segment_ids = du.proofreading_stats_table(validation=True).fetch(\"segment_id\")\n",
    "\n",
    "validation_dfs = [vu.synapse_validation_df_single_neuron(k,\n",
    "                                        remove_presyn_on_dendrite = False,\n",
    "                        count_presyn_on_dendrite_as_correct = True,\n",
    "                                                        include_extension_synapse=False) for k in segment_ids]"
   ]
  },
  {
   "cell_type": "code",
   "execution_count": 15,
   "metadata": {},
   "outputs": [
    {
     "data": {
      "text/html": [
       "<div>\n",
       "<style scoped>\n",
       "    .dataframe tbody tr th:only-of-type {\n",
       "        vertical-align: middle;\n",
       "    }\n",
       "\n",
       "    .dataframe tbody tr th {\n",
       "        vertical-align: top;\n",
       "    }\n",
       "\n",
       "    .dataframe thead th {\n",
       "        text-align: right;\n",
       "    }\n",
       "</style>\n",
       "<table border=\"1\" class=\"dataframe\">\n",
       "  <thead>\n",
       "    <tr style=\"text-align: right;\">\n",
       "      <th></th>\n",
       "      <th>synapse_id</th>\n",
       "      <th>synapse_type</th>\n",
       "      <th>auto_valid</th>\n",
       "      <th>synapse_x</th>\n",
       "      <th>synapse_y</th>\n",
       "      <th>synapse_z</th>\n",
       "      <th>manual_valid</th>\n",
       "      <th>category</th>\n",
       "      <th>old_segment_id</th>\n",
       "      <th>new_segment_id</th>\n",
       "      <th>euclidean_distance_to_nuclei</th>\n",
       "    </tr>\n",
       "  </thead>\n",
       "  <tbody>\n",
       "    <tr>\n",
       "      <th>0</th>\n",
       "      <td>343254413</td>\n",
       "      <td>presyn</td>\n",
       "      <td>True</td>\n",
       "      <td>1155616</td>\n",
       "      <td>623184</td>\n",
       "      <td>1106200</td>\n",
       "      <td>True</td>\n",
       "      <td>TP</td>\n",
       "      <td>864691136545546146</td>\n",
       "      <td>864691135700409211</td>\n",
       "      <td>167185.430944</td>\n",
       "    </tr>\n",
       "    <tr>\n",
       "      <th>1</th>\n",
       "      <td>343254632</td>\n",
       "      <td>presyn</td>\n",
       "      <td>True</td>\n",
       "      <td>1156584</td>\n",
       "      <td>624656</td>\n",
       "      <td>1105600</td>\n",
       "      <td>True</td>\n",
       "      <td>TP</td>\n",
       "      <td>864691136545546146</td>\n",
       "      <td>864691135700409211</td>\n",
       "      <td>166078.490552</td>\n",
       "    </tr>\n",
       "    <tr>\n",
       "      <th>2</th>\n",
       "      <td>350190489</td>\n",
       "      <td>presyn</td>\n",
       "      <td>True</td>\n",
       "      <td>1174432</td>\n",
       "      <td>645680</td>\n",
       "      <td>1082000</td>\n",
       "      <td>True</td>\n",
       "      <td>TP</td>\n",
       "      <td>864691136545546146</td>\n",
       "      <td>864691135700409211</td>\n",
       "      <td>138160.483844</td>\n",
       "    </tr>\n",
       "    <tr>\n",
       "      <th>3</th>\n",
       "      <td>352680416</td>\n",
       "      <td>presyn</td>\n",
       "      <td>True</td>\n",
       "      <td>1172128</td>\n",
       "      <td>640256</td>\n",
       "      <td>1088400</td>\n",
       "      <td>True</td>\n",
       "      <td>TP</td>\n",
       "      <td>864691136545546146</td>\n",
       "      <td>864691135700409211</td>\n",
       "      <td>143683.921773</td>\n",
       "    </tr>\n",
       "    <tr>\n",
       "      <th>4</th>\n",
       "      <td>354877614</td>\n",
       "      <td>presyn</td>\n",
       "      <td>True</td>\n",
       "      <td>1166408</td>\n",
       "      <td>631904</td>\n",
       "      <td>1097840</td>\n",
       "      <td>True</td>\n",
       "      <td>TP</td>\n",
       "      <td>864691136545546146</td>\n",
       "      <td>864691135700409211</td>\n",
       "      <td>153885.395278</td>\n",
       "    </tr>\n",
       "    <tr>\n",
       "      <th>...</th>\n",
       "      <td>...</td>\n",
       "      <td>...</td>\n",
       "      <td>...</td>\n",
       "      <td>...</td>\n",
       "      <td>...</td>\n",
       "      <td>...</td>\n",
       "      <td>...</td>\n",
       "      <td>...</td>\n",
       "      <td>...</td>\n",
       "      <td>...</td>\n",
       "      <td>...</td>\n",
       "    </tr>\n",
       "    <tr>\n",
       "      <th>2870</th>\n",
       "      <td>385162788</td>\n",
       "      <td>postsyn</td>\n",
       "      <td>False</td>\n",
       "      <td>1244792</td>\n",
       "      <td>377360</td>\n",
       "      <td>953840</td>\n",
       "      <td>True</td>\n",
       "      <td>FN</td>\n",
       "      <td>864691136545546146</td>\n",
       "      <td>864691135700409211</td>\n",
       "      <td>250647.235644</td>\n",
       "    </tr>\n",
       "    <tr>\n",
       "      <th>2871</th>\n",
       "      <td>385162943</td>\n",
       "      <td>postsyn</td>\n",
       "      <td>False</td>\n",
       "      <td>1245528</td>\n",
       "      <td>379944</td>\n",
       "      <td>952240</td>\n",
       "      <td>True</td>\n",
       "      <td>FN</td>\n",
       "      <td>864691136545546146</td>\n",
       "      <td>864691135700409211</td>\n",
       "      <td>248215.147322</td>\n",
       "    </tr>\n",
       "    <tr>\n",
       "      <th>2872</th>\n",
       "      <td>385163214</td>\n",
       "      <td>postsyn</td>\n",
       "      <td>False</td>\n",
       "      <td>1246568</td>\n",
       "      <td>380248</td>\n",
       "      <td>953720</td>\n",
       "      <td>True</td>\n",
       "      <td>FN</td>\n",
       "      <td>864691136545546146</td>\n",
       "      <td>864691135700409211</td>\n",
       "      <td>247643.262133</td>\n",
       "    </tr>\n",
       "    <tr>\n",
       "      <th>2873</th>\n",
       "      <td>385163449</td>\n",
       "      <td>postsyn</td>\n",
       "      <td>False</td>\n",
       "      <td>1247560</td>\n",
       "      <td>382000</td>\n",
       "      <td>954680</td>\n",
       "      <td>True</td>\n",
       "      <td>FN</td>\n",
       "      <td>864691136545546146</td>\n",
       "      <td>864691135700409211</td>\n",
       "      <td>245712.873737</td>\n",
       "    </tr>\n",
       "    <tr>\n",
       "      <th>2874</th>\n",
       "      <td>385163555</td>\n",
       "      <td>postsyn</td>\n",
       "      <td>False</td>\n",
       "      <td>1247792</td>\n",
       "      <td>379744</td>\n",
       "      <td>953440</td>\n",
       "      <td>True</td>\n",
       "      <td>FN</td>\n",
       "      <td>864691136545546146</td>\n",
       "      <td>864691135700409211</td>\n",
       "      <td>248070.310162</td>\n",
       "    </tr>\n",
       "  </tbody>\n",
       "</table>\n",
       "<p>2875 rows × 11 columns</p>\n",
       "</div>"
      ],
      "text/plain": [
       "      synapse_id synapse_type  auto_valid  synapse_x  synapse_y  synapse_z  \\\n",
       "0      343254413       presyn        True    1155616     623184    1106200   \n",
       "1      343254632       presyn        True    1156584     624656    1105600   \n",
       "2      350190489       presyn        True    1174432     645680    1082000   \n",
       "3      352680416       presyn        True    1172128     640256    1088400   \n",
       "4      354877614       presyn        True    1166408     631904    1097840   \n",
       "...          ...          ...         ...        ...        ...        ...   \n",
       "2870   385162788      postsyn       False    1244792     377360     953840   \n",
       "2871   385162943      postsyn       False    1245528     379944     952240   \n",
       "2872   385163214      postsyn       False    1246568     380248     953720   \n",
       "2873   385163449      postsyn       False    1247560     382000     954680   \n",
       "2874   385163555      postsyn       False    1247792     379744     953440   \n",
       "\n",
       "      manual_valid category      old_segment_id      new_segment_id  \\\n",
       "0             True       TP  864691136545546146  864691135700409211   \n",
       "1             True       TP  864691136545546146  864691135700409211   \n",
       "2             True       TP  864691136545546146  864691135700409211   \n",
       "3             True       TP  864691136545546146  864691135700409211   \n",
       "4             True       TP  864691136545546146  864691135700409211   \n",
       "...            ...      ...                 ...                 ...   \n",
       "2870          True       FN  864691136545546146  864691135700409211   \n",
       "2871          True       FN  864691136545546146  864691135700409211   \n",
       "2872          True       FN  864691136545546146  864691135700409211   \n",
       "2873          True       FN  864691136545546146  864691135700409211   \n",
       "2874          True       FN  864691136545546146  864691135700409211   \n",
       "\n",
       "      euclidean_distance_to_nuclei  \n",
       "0                    167185.430944  \n",
       "1                    166078.490552  \n",
       "2                    138160.483844  \n",
       "3                    143683.921773  \n",
       "4                    153885.395278  \n",
       "...                            ...  \n",
       "2870                 250647.235644  \n",
       "2871                 248215.147322  \n",
       "2872                 247643.262133  \n",
       "2873                 245712.873737  \n",
       "2874                 248070.310162  \n",
       "\n",
       "[2875 rows x 11 columns]"
      ]
     },
     "execution_count": 15,
     "metadata": {},
     "output_type": "execute_result"
    }
   ],
   "source": [
    "curr_validation_df"
   ]
  },
  {
   "cell_type": "code",
   "execution_count": 14,
   "metadata": {},
   "outputs": [
    {
     "name": "stdout",
     "output_type": "stream",
     "text": [
      "Segment_id = 864691136545546146\n"
     ]
    },
    {
     "data": {
      "image/png": "[encoded data removed]",
      "text/plain": [
       "<Figure size 700x400 with 2 Axes>"
      ]
     },
     "metadata": {},
     "output_type": "display_data"
    }
   ],
   "source": [
    "curr_idx = 23\n",
    "segment_id = segment_ids[curr_idx]\n",
    "print(f\"Segment_id = {segment_id}\")\n",
    "curr_validation_df = validation_dfs[curr_idx]\n",
    "vu.synapse_validation_df_to_score_plot(curr_validation_df)"
   ]
  },
  {
   "cell_type": "markdown",
   "metadata": {},
   "source": [
    "# Picking the neuron to visualize"
   ]
  },
  {
   "cell_type": "code",
   "execution_count": 17,
   "metadata": {},
   "outputs": [
    {
     "name": "stdout",
     "output_type": "stream",
     "text": [
      "Working on Neuron: 864691136545546146\n",
      "\n",
      "\n",
      "Synapse Category Results, synapse_type = presyn\n",
      "# of TP = 19\n",
      "# of TN = 1\n",
      "# of FP = 0\n",
      "# of FN = 0\n",
      "No axon skeleton attribute stored in database table\n"
     ]
    },
    {
     "data": {
      "application/vnd.jupyter.widget-view+json": {
       "model_id": "fb780c8233e846ff9997a4de8681beae",
       "version_major": 2,
       "version_minor": 0
      },
      "text/plain": [
       "VBox(children=(Figure(camera=PerspectiveCamera(fov=46.0, position=(0.0, 0.0, 2.0), projectionMatrix=(1.0, 0.0,…"
      ]
     },
     "metadata": {},
     "output_type": "display_data"
    },
    {
     "name": "stdout",
     "output_type": "stream",
     "text": [
      "TP:yellow\n",
      "TN:aqua\n",
      "FP:black\n",
      "FN:orange\n"
     ]
    }
   ],
   "source": [
    "du.plot_proofread_validation_neuron(\n",
    "    segment_id = segment_id,\n",
    "    validation_df=curr_validation_df,\n",
    "    verbose = True,\n",
    "    synapse_type = \"presyn\",\n",
    ")"
   ]
  },
  {
   "cell_type": "markdown",
   "metadata": {},
   "source": [
    "# Checking the neuron proofreading"
   ]
  },
  {
   "cell_type": "code",
   "execution_count": 18,
   "metadata": {},
   "outputs": [
    {
     "data": {
      "text/plain": [
       "864691136545546146"
      ]
     },
     "execution_count": 18,
     "metadata": {},
     "output_type": "execute_result"
    }
   ],
   "source": [
    "segment_id = vu.validation_df_to_old_segment_id(curr_validation_df)\n",
    "segment_id"
   ]
  },
  {
   "cell_type": "code",
   "execution_count": 19,
   "metadata": {},
   "outputs": [
    {
     "name": "stdout",
     "output_type": "stream",
     "text": [
      "Decompressing Neuron in minimal output mode...please wait\n",
      "Pulled from Table Decomposition so setting split_index = 0\n",
      "Dont need spine recalculation\n",
      "Number of Neurons found = 1\n"
     ]
    }
   ],
   "source": [
    "neuron_objs,neuron_split_idxs = du.decomposition_with_spine_recalculation(segment_id)"
   ]
  },
  {
   "cell_type": "code",
   "execution_count": 20,
   "metadata": {},
   "outputs": [
    {
     "data": {
      "text/plain": [
       "864691136545546146"
      ]
     },
     "execution_count": 20,
     "metadata": {},
     "output_type": "execute_result"
    }
   ],
   "source": [
    "neuron_obj = neuron_objs[0]\n",
    "neuron_obj.segment_id"
   ]
  },
  {
   "cell_type": "code",
   "execution_count": 21,
   "metadata": {},
   "outputs": [
    {
     "name": "stdout",
     "output_type": "stream",
     "text": [
      "\n",
      "Part 1: Axon like branchese \n",
      "{'L0': array([5]), 'L4': array([ 0,  1,  2,  3,  4,  5,  6,  7,  8,  9, 10, 11, 12, 13, 14, 15, 16])}\n",
      "Limb L0 soma angle: 11.3 \n",
      "Limb L1 soma angle: 98.86 \n",
      "Limb L2 soma angle: 88.93 \n",
      "Limb L3 soma angle: 140.78 \n",
      "Limb L4 soma angle: 145.22 \n",
      "Limb L5 soma angle: 106.24 \n",
      "\n",
      "Part 2: possible_axon_limbs = [1, 2, 3, 4, 5]\n",
      "\n",
      "Phase 2: Working on Limb L1\n",
      "nodes_to_eliminate = []\n",
      "\n",
      "Phase 2: Working on Limb L2\n",
      "nodes_to_eliminate = [8]\n",
      "\n",
      "Phase 2: Working on Limb L3\n",
      "nodes_to_eliminate = [5 9]\n",
      "\n",
      "Phase 2: Working on Limb L4\n",
      "nodes_to_eliminate = []\n",
      "\n",
      "Phase 2: Working on Limb L5\n",
      "nodes_to_eliminate = []\n",
      "\n",
      "----Working on Limb L1-----\n",
      "No nodes were eliminated so don't need to add back any candidates\n",
      "\n",
      "----Working on Limb L2-----\n",
      "No endpoints were eliminated so don't need to add back any candidates\n",
      "\n",
      "----Working on Limb L3-----\n",
      "No endpoints were eliminated so don't need to add back any candidates\n",
      "\n",
      "----Working on Limb L4-----\n",
      "No nodes were eliminated so don't need to add back any candidates\n",
      "\n",
      "----Working on Limb L5-----\n",
      "No nodes were eliminated so don't need to add back any candidates\n",
      "Final Candidates\n",
      "\n",
      "Limb 1\n",
      "Candidate 0 (cadetblue): array([0, 1, 2, 3, 4, 5, 6, 7, 8, 9])\n",
      "\n",
      "Limb 2\n",
      "Candidate 0 (palegreen): array([0, 2, 3])\n",
      "Candidate 1 (forestgreen): array([1, 4, 5, 6, 7])\n",
      "\n",
      "Limb 3\n",
      "Candidate 0 (green): array([ 2,  6,  7,  8, 10])\n",
      "Candidate 1 (gold): array([0])\n",
      "Candidate 2 (palegreen): array([1, 3, 4])\n",
      "\n",
      "Limb 4\n",
      "Candidate 0 (sandybrown): array([ 0,  1,  2,  3,  4,  5,  6,  7,  8,  9, 10, 11, 12, 13, 14, 15, 16])\n",
      "\n",
      "Limb 5\n",
      "Candidate 0 (pink): array([0])\n",
      "Part 3: axon_subgraph_candidates = {1: [[0, 1, 2, 3, 4, 5, 6, 7, 8, 9]], 2: [[0, 2, 3], [1, 4, 5, 6, 7]], 3: [[2, 6, 7, 8, 10], [0], [1, 3, 4]], 4: [[0, 1, 2, 3, 4, 5, 6, 7, 8, 9, 10, 11, 12, 13, 14, 15, 16]], 5: [[0]]}\n",
      "\n",
      "\n",
      " --- Working on limb 1, candidate # 0\n",
      "0 out of 10 branches are axons\n",
      "Axon percentage = 0.0\n",
      "Not adding candidate no axon branches detected \n",
      "\n",
      "\n",
      " --- Working on limb 2, candidate # 0\n",
      "0 out of 3 branches are axons\n",
      "Axon percentage = 0.0\n",
      "Not adding candidate no axon branches detected \n",
      "\n",
      "\n",
      " --- Working on limb 2, candidate # 1\n",
      "0 out of 5 branches are axons\n",
      "Axon percentage = 0.0\n",
      "Not adding candidate no axon branches detected \n",
      "\n",
      "\n",
      " --- Working on limb 3, candidate # 0\n",
      "0 out of 5 branches are axons\n",
      "Axon percentage = 0.0\n",
      "Not adding candidate no axon branches detected \n",
      "\n",
      "\n",
      " --- Working on limb 3, candidate # 1\n",
      "0 out of 1 branches are axons\n",
      "Axon percentage = 0.0\n",
      "Not adding candidate no axon branches detected \n",
      "\n",
      "\n",
      " --- Working on limb 3, candidate # 2\n",
      "0 out of 3 branches are axons\n",
      "Axon percentage = 0.0\n",
      "Not adding candidate no axon branches detected \n",
      "\n",
      "\n",
      " --- Working on limb 4, candidate # 0\n",
      "17 out of 17 branches are axons\n",
      "Axon percentage = 1.0\n",
      "curr_axon_angle_threshold = 95\n",
      "candidate_nodes = [ 0  1  2  3  4  5  6  7  8  9 10 11 12 13 14 15 16]\n",
      "non_axon_branches_on_subgraph = []\n",
      "endnodes_to_test = [6578]\n",
      "Skeleton paths distances = [24952.31423777]\n",
      "Filtered indexes = [0]\n",
      "len(filtered_skeletons) = 1\n",
      "sk_angles = [163.4172722]\n",
      "candidate_angles,restr_skels = (array([163.4172722]), [array([[[1270177.07276742,  641947.2255244 ,  980252.78044253],\n",
      "        [1270157.4115644 ,  642045.08868996,  980246.76064841]],\n",
      "\n",
      "       [[1270157.4115644 ,  642045.08868996,  980246.76064841],\n",
      "        [1270137.69831696,  642142.92337758,  980240.517007  ]],\n",
      "\n",
      "       [[1270137.69831696,  642142.92337758,  980240.517007  ],\n",
      "        [1270117.22933793,  642240.34454   ,  980231.02290299]],\n",
      "\n",
      "       [[1270117.22933793,  642240.34454   ,  980231.02290299],\n",
      "        [1270096.7603589 ,  642337.76570242,  980221.52879899]],\n",
      "\n",
      "       [[1270096.7603589 ,  642337.76570242,  980221.52879899],\n",
      "        [1270075.89353643,  642434.72352945,  980208.82097747]],\n",
      "\n",
      "       [[1270075.89353643,  642434.72352945,  980208.82097747],\n",
      "        [1270054.94243917,  642531.58320858,  980195.4323972 ]],\n",
      "\n",
      "       [[1270054.94243917,  642531.58320858,  980195.4323972 ],\n",
      "        [1270033.87198264,  642627.9386439 ,  980179.05651638]],\n",
      "\n",
      "       [[1270033.87198264,  642627.9386439 ,  980179.05651638],\n",
      "        [1270012.7561263 ,  642724.10228369,  980161.54437793]],\n",
      "\n",
      "       [[1270012.7561263 ,  642724.10228369,  980161.54437793],\n",
      "        [1269991.72847345,  642819.58879521,  980140.62617704]],\n",
      "\n",
      "       [[1269991.72847345,  642819.58879521,  980140.62617704],\n",
      "        [1269970.7734272 ,  642914.77460833,  980118.30460597]],\n",
      "\n",
      "       [[1269970.7734272 ,  642914.77460833,  980118.30460597],\n",
      "        [1269950.07596269,  643009.21529978,  980092.75914139]],\n",
      "\n",
      "       [[1269950.07596269,  643009.21529978,  980092.75914139],\n",
      "        [1269929.67895665,  643102.95589641,  980064.56792377]],\n",
      "\n",
      "       [[1269929.67895665,  643102.95589641,  980064.56792377],\n",
      "        [1269909.39556156,  643196.01569626,  980034.11770781]],\n",
      "\n",
      "       [[1269909.39556156,  643196.01569626,  980034.11770781],\n",
      "        [1269887.92298832,  643288.33954063,  980002.2772662 ]],\n",
      "\n",
      "       [[1269887.92298832,  643288.33954063,  980002.2772662 ],\n",
      "        [1269860.67487863,  643379.33444037,  979971.15048408]],\n",
      "\n",
      "       [[1269860.67487863,  643379.33444037,  979971.15048408],\n",
      "        [1269825.62817129,  643468.10094478,  979941.42190679]],\n",
      "\n",
      "       [[1269825.62817129,  643468.10094478,  979941.42190679],\n",
      "        [1269784.23947934,  643554.5308171 ,  979912.87546492]],\n",
      "\n",
      "       [[1269784.23947934,  643554.5308171 ,  979912.87546492],\n",
      "        [1269739.22837024,  643639.51710814,  979885.4788018 ]],\n",
      "\n",
      "       [[1269739.22837024,  643639.51710814,  979885.4788018 ],\n",
      "        [1269692.61314247,  643723.99174373,  979859.21403843]],\n",
      "\n",
      "       [[1269692.61314247,  643723.99174373,  979859.21403843],\n",
      "        [1269645.35328089,  643808.37993771,  979833.82814335]],\n",
      "\n",
      "       [[1269645.35328089,  643808.37993771,  979833.82814335],\n",
      "        [1269597.75128413,  643892.95982343,  979809.73887528]],\n",
      "\n",
      "       [[1269597.75128413,  643892.95982343,  979809.73887528],\n",
      "        [1269550.79372352,  643978.22641727,  979786.87140275]],\n",
      "\n",
      "       [[1269550.79372352,  643978.22641727,  979786.87140275],\n",
      "        [1269504.28954839,  644063.97613657,  979764.86351015]],\n",
      "\n",
      "       [[1269504.28954839,  644063.97613657,  979764.86351015],\n",
      "        [1269459.84168139,  644151.20095173,  979744.55171299]],\n",
      "\n",
      "       [[1269459.84168139,  644151.20095173,  979744.55171299],\n",
      "        [1269416.20242719,  644239.00582655,  979724.90688031]],\n",
      "\n",
      "       [[1269416.20242719,  644239.00582655,  979724.90688031],\n",
      "        [1269376.00783246,  644328.80072896,  979707.19019456]],\n",
      "\n",
      "       [[1269376.00783246,  644328.80072896,  979707.19019456],\n",
      "        [1269337.11560196,  644419.34802527,  979690.20250672]],\n",
      "\n",
      "       [[1269337.11560196,  644419.34802527,  979690.20250672],\n",
      "        [1269302.4348266 ,  644511.85502716,  979675.14446758]],\n",
      "\n",
      "       [[1269302.4348266 ,  644511.85502716,  979675.14446758],\n",
      "        [1269269.91033332,  644605.36540624,  979661.07441638]],\n",
      "\n",
      "       [[1269269.91033332,  644605.36540624,  979661.07441638],\n",
      "        [1269241.30089775,  644700.29027564,  979648.64958622]],\n",
      "\n",
      "       [[1269241.30089775,  644700.29027564,  979648.64958622],\n",
      "        [1269215.89479172,  644796.37249162,  979637.57088822]],\n",
      "\n",
      "       [[1269215.89479172,  644796.37249162,  979637.57088822],\n",
      "        [1269193.04685212,  644893.14311075,  979627.5435408 ]],\n",
      "\n",
      "       [[1269193.04685212,  644893.14311075,  979627.5435408 ],\n",
      "        [1269174.25220806,  644991.00447262,  979619.1820094 ]],\n",
      "\n",
      "       [[1269174.25220806,  644991.00447262,  979619.1820094 ],\n",
      "        [1269156.22978098,  645089.01667048,  979611.13610693]],\n",
      "\n",
      "       [[1269156.22978098,  645089.01667048,  979611.13610693],\n",
      "        [1269142.57471656,  645187.88193874,  979604.87528045]],\n",
      "\n",
      "       [[1269142.57471656,  645187.88193874,  979604.87528045],\n",
      "        [1269128.91965213,  645286.74720699,  979598.61445397]],\n",
      "\n",
      "       [[1269128.91965213,  645286.74720699,  979598.61445397],\n",
      "        [1269118.09078873,  645386.01409163,  979593.44000776]],\n",
      "\n",
      "       [[1269118.09078873,  645386.01409163,  979593.44000776],\n",
      "        [1269107.88189434,  645485.36907676,  979588.50387514]],\n",
      "\n",
      "       [[1269107.88189434,  645485.36907676,  979588.50387514],\n",
      "        [1269098.49535229,  645584.81054039,  979583.79764994]],\n",
      "\n",
      "       [[1269098.49535229,  645584.81054039,  979583.79764994],\n",
      "        [1269090.38106221,  645684.38579391,  979579.4471119 ]],\n",
      "\n",
      "       [[1269090.38106221,  645684.38579391,  979579.4471119 ],\n",
      "        [1269082.26677213,  645783.96104744,  979575.09657385]],\n",
      "\n",
      "       [[1269082.26677213,  645783.96104744,  979575.09657385],\n",
      "        [1269075.20579942,  645883.61474389,  979570.72214325]],\n",
      "\n",
      "       [[1269075.20579942,  645883.61474389,  979570.72214325],\n",
      "        [1269068.28430475,  645983.27882759,  979566.34454885]],\n",
      "\n",
      "       [[1269068.28430475,  645983.27882759,  979566.34454885],\n",
      "        [1269061.53284075,  646082.94633358,  979561.79663528]],\n",
      "\n",
      "       [[1269061.53284075,  646082.94633358,  979561.79663528],\n",
      "        [1269055.14082021,  646182.62107428,  979556.88866837]],\n",
      "\n",
      "       [[1269055.14082021,  646182.62107428,  979556.88866837],\n",
      "        [1269048.74879968,  646282.29581499,  979551.98070147]],\n",
      "\n",
      "       [[1269048.74879968,  646282.29581499,  979551.98070147],\n",
      "        [1269042.2111295 ,  646381.92148308,  979546.34225096]],\n",
      "\n",
      "       [[1269042.2111295 ,  646381.92148308,  979546.34225096],\n",
      "        [1269035.62301234,  646481.53015447,  979540.4507913 ]],\n",
      "\n",
      "       [[1269035.62301234,  646481.53015447,  979540.4507913 ],\n",
      "        [1269028.8143348 ,  646581.10581311,  979534.30186033]],\n",
      "\n",
      "       [[1269028.8143348 ,  646581.10581311,  979534.30186033],\n",
      "        [1269021.01572295,  646680.53330162,  979526.99732881]],\n",
      "\n",
      "       [[1269021.01572295,  646680.53330162,  979526.99732881],\n",
      "        [1269013.21711111,  646779.96079014,  979519.69279729]],\n",
      "\n",
      "       [[1269013.21711111,  646779.96079014,  979519.69279729],\n",
      "        [1269003.70923365,  646879.13508696,  979511.21536461]],\n",
      "\n",
      "       [[1269003.70923365,  646879.13508696,  979511.21536461],\n",
      "        [1268993.34219535,  646978.18211722,  979502.14837419]],\n",
      "\n",
      "       [[1268993.34219535,  646978.18211722,  979502.14837419],\n",
      "        [1268982.13583923,  647077.08416396,  979492.69307877]],\n",
      "\n",
      "       [[1268982.13583923,  647077.08416396,  979492.69307877],\n",
      "        [1268967.67269083,  647175.42363339,  979481.73104925]],\n",
      "\n",
      "       [[1268967.67269083,  647175.42363339,  979481.73104925],\n",
      "        [1268953.20954243,  647273.76310282,  979470.76901974]],\n",
      "\n",
      "       [[1268953.20954243,  647273.76310282,  979470.76901974],\n",
      "        [1268934.44021319,  647371.185667  ,  979458.47525207]],\n",
      "\n",
      "       [[1268934.44021319,  647371.185667  ,  979458.47525207],\n",
      "        [1268914.56784191,  647468.37336296,  979445.84035539]],\n",
      "\n",
      "       [[1268914.56784191,  647468.37336296,  979445.84035539],\n",
      "        [1268892.14464593,  647564.89294305,  979432.75342885]],\n",
      "\n",
      "       [[1268892.14464593,  647564.89294305,  979432.75342885],\n",
      "        [1268866.1920247 ,  647660.48809075,  979419.04105531]],\n",
      "\n",
      "       [[1268866.1920247 ,  647660.48809075,  979419.04105531],\n",
      "        [1268839.95534346,  647755.99470848,  979405.31630167]],\n",
      "\n",
      "       [[1268839.95534346,  647755.99470848,  979405.31630167],\n",
      "        [1268808.10137722,  647849.75064665,  979391.34673146]],\n",
      "\n",
      "       [[1268808.10137722,  647849.75064665,  979391.34673146],\n",
      "        [1268776.24741099,  647943.50658483,  979377.37716125]],\n",
      "\n",
      "       [[1268776.24741099,  647943.50658483,  979377.37716125],\n",
      "        [1268741.10342037,  648036.10127492,  979363.78538312]],\n",
      "\n",
      "       [[1268741.10342037,  648036.10127492,  979363.78538312],\n",
      "        [1268704.25321028,  648128.09373722,  979350.38952945]],\n",
      "\n",
      "       [[1268704.25321028,  648128.09373722,  979350.38952945],\n",
      "        [1268666.51937847,  648219.75471642,  979337.30066901]],\n",
      "\n",
      "       [[1268666.51937847,  648219.75471642,  979337.30066901],\n",
      "        [1268626.00026805,  648310.37082227,  979325.17948701]],\n",
      "\n",
      "       [[1268626.00026805,  648310.37082227,  979325.17948701],\n",
      "        [1268585.48115764,  648400.98692811,  979313.05830501]],\n",
      "\n",
      "       [[1268585.48115764,  648400.98692811,  979313.05830501],\n",
      "        [1268543.20258779,  648490.97221116,  979302.39075885]],\n",
      "\n",
      "       [[1268543.20258779,  648490.97221116,  979302.39075885],\n",
      "        [1268500.49257824,  648580.80280919,  979292.07966094]],\n",
      "\n",
      "       [[1268500.49257824,  648580.80280919,  979292.07966094],\n",
      "        [1268457.51739218,  648670.58871116,  979282.5721569 ]],\n",
      "\n",
      "       [[1268457.51739218,  648670.58871116,  979282.5721569 ],\n",
      "        [1268414.08704002,  648760.29789391,  979274.44399338]],\n",
      "\n",
      "       [[1268414.08704002,  648760.29789391,  979274.44399338],\n",
      "        [1268370.65668785,  648850.00707665,  979266.31582987]],\n",
      "\n",
      "       [[1268370.65668785,  648850.00707665,  979266.31582987],\n",
      "        [1268327.86331101,  648940.19795051,  979260.47370783]],\n",
      "\n",
      "       [[1268327.86331101,  648940.19795051,  979260.47370783],\n",
      "        [1268285.09196215,  649030.40548229,  979254.71064206]],\n",
      "\n",
      "       [[1268285.09196215,  649030.40548229,  979254.71064206],\n",
      "        [1268243.48959982,  649121.22528265,  979250.37932973]],\n",
      "\n",
      "       [[1268243.48959982,  649121.22528265,  979250.37932973],\n",
      "        [1268202.58007417,  649212.40796325,  979246.89659117]],\n",
      "\n",
      "       [[1268202.58007417,  649212.40796325,  979246.89659117],\n",
      "        [1268162.69681999,  649304.05183125,  979244.10376414]],\n",
      "\n",
      "       [[1268162.69681999,  649304.05183125,  979244.10376414],\n",
      "        [1268124.53841535,  649396.47081469,  979242.47046814]],\n",
      "\n",
      "       [[1268124.53841535,  649396.47081469,  979242.47046814],\n",
      "        [1268087.04821398,  649489.15513233,  979241.06427996]],\n",
      "\n",
      "       [[1268087.04821398,  649489.15513233,  979241.06427996],\n",
      "        [1268052.05544851,  649582.83114692,  979240.50691615]],\n",
      "\n",
      "       [[1268052.05544851,  649582.83114692,  979240.50691615],\n",
      "        [1268017.4880023 ,  649676.65835609,  979239.9646891 ]],\n",
      "\n",
      "       [[1268017.4880023 ,  649676.65835609,  979239.9646891 ],\n",
      "        [1267985.5320185 ,  649771.41390074,  979239.51540173]],\n",
      "\n",
      "       [[1267985.5320185 ,  649771.41390074,  979239.51540173],\n",
      "        [1267953.95488325,  649866.29062434,  979238.9452644 ]],\n",
      "\n",
      "       [[1267953.95488325,  649866.29062434,  979238.9452644 ],\n",
      "        [1267924.49716157,  649961.84526621,  979237.6990494 ]],\n",
      "\n",
      "       [[1267924.49716157,  649961.84526621,  979237.6990494 ],\n",
      "        [1267895.47612549,  650057.52325604,  979236.12287548]],\n",
      "\n",
      "       [[1267895.47612549,  650057.52325604,  979236.12287548],\n",
      "        [1267867.86649354,  650153.59991678,  979233.48024694]],\n",
      "\n",
      "       [[1267867.86649354,  650153.59991678,  979233.48024694],\n",
      "        [1267840.78521607,  650249.80288916,  979230.2334977 ]],\n",
      "\n",
      "       [[1267840.78521607,  650249.80288916,  979230.2334977 ],\n",
      "        [1267814.54531604,  650346.20700636,  979226.02471721]],\n",
      "\n",
      "       [[1267814.54531604,  650346.20700636,  979226.02471721],\n",
      "        [1267789.0007592 ,  650442.75674965,  979221.0390247 ]],\n",
      "\n",
      "       [[1267789.0007592 ,  650442.75674965,  979221.0390247 ],\n",
      "        [1267763.93650838,  650539.40708369,  979215.51668275]],\n",
      "\n",
      "       [[1267763.93650838,  650539.40708369,  979215.51668275],\n",
      "        [1267739.87565221,  650636.27325669,  979209.37295685]],\n",
      "\n",
      "       [[1267739.87565221,  650636.27325669,  979209.37295685],\n",
      "        [1267716.14445486,  650733.21360904,  979203.10952524]],\n",
      "\n",
      "       [[1267716.14445486,  650733.21360904,  979203.10952524],\n",
      "        [1267693.55996846,  650830.42769299,  979196.83554276]],\n",
      "\n",
      "       [[1267693.55996846,  650830.42769299,  979196.83554276],\n",
      "        [1267671.46880834,  650927.76750912,  979190.80430615]],\n",
      "\n",
      "       [[1267671.46880834,  650927.76750912,  979190.80430615],\n",
      "        [1267650.25390548,  651025.33065359,  979185.20424023]],\n",
      "\n",
      "       [[1267650.25390548,  651025.33065359,  979185.20424023],\n",
      "        [1267629.85727364,  651123.09883269,  979180.25960765]],\n",
      "\n",
      "       [[1267629.85727364,  651123.09883269,  979180.25960765],\n",
      "        [1267610.11397803,  651221.03071862,  979175.83829599]],\n",
      "\n",
      "       [[1267610.11397803,  651221.03071862,  979175.83829599],\n",
      "        [1267591.4431986 ,  651319.20633628,  979172.40172885]],\n",
      "\n",
      "       [[1267591.4431986 ,  651319.20633628,  979172.40172885],\n",
      "        [1267573.33347472,  651417.50945508,  979169.48030208]]])])\n"
     ]
    },
    {
     "name": "stdout",
     "output_type": "stream",
     "text": [
      "base_final_widths = [ 71.2684394  176.65866322 201.47105814]\n",
      "overall_ais_width = 163.96293997712442\n",
      "ais_width = 149.79938691820925\n",
      "Adding the following branches as true axons: [ 0.  1.  2.  3.  4.  5.  6.  7.  8.  9. 10. 11. 12. 13. 14. 15. 16.]\n",
      "curr_soma_angle = 145.22\n",
      "max_axon_angle = 163.4172722030586\n",
      "Changing to a better axon candidate\n",
      "\n",
      "\n",
      " --- Working on limb 5, candidate # 0\n",
      "0 out of 1 branches are axons\n",
      "Axon percentage = 0.0\n",
      "Not adding candidate no axon branches detected \n",
      "Using the best axon approach\n",
      "Using True\n",
      "Limb L4: Axon branches before dendritic path filter = [ 0.  1.  2.  3.  4.  5.  6.  7.  8.  9. 10. 11. 12. 13. 14. 15. 16.]\n",
      "Limb L4: Axon branches AFTER dendritic path filter = [ 0.  1.  2.  3.  4.  5.  6.  7.  8.  9. 10. 11. 12. 13. 14. 15. 16.]\n",
      "\n",
      "\n",
      "Part 4: final_true_axons = {'L4': array([ 0.,  1.,  2.,  3.,  4.,  5.,  6.,  7.,  8.,  9., 10., 11., 12.,\n",
      "       13., 14., 15., 16.])}\n",
      "\n",
      " Working on visualization type: mesh\n"
     ]
    },
    {
     "data": {
      "application/vnd.jupyter.widget-view+json": {
       "model_id": "b039233b35c94394aef4ecd13f81aea8",
       "version_major": 2,
       "version_minor": 0
      },
      "text/plain": [
       "VBox(children=(Figure(camera=PerspectiveCamera(fov=46.0, position=(0.0, 0.0, 2.0), projectionMatrix=(1.0, 0.0,…"
      ]
     },
     "metadata": {},
     "output_type": "display_data"
    },
    {
     "data": {
      "text/plain": [
       "({'L4': array([ 0.,  1.,  2.,  3.,  4.,  5.,  6.,  7.,  8.,  9., 10., 11., 12.,\n",
       "         13., 14., 15., 16.])},\n",
       " {'L0': array([5])})"
      ]
     },
     "execution_count": 21,
     "metadata": {},
     "output_type": "execute_result"
    }
   ],
   "source": [
    "clu.axon_classification(neuron_obj,\n",
    "                       plot_axons=True)"
   ]
  },
  {
   "cell_type": "code",
   "execution_count": 23,
   "metadata": {
    "scrolled": false
   },
   "outputs": [
    {
     "name": "stdout",
     "output_type": "stream",
     "text": [
      "\n",
      " Working on visualization type: mesh\n",
      "\n",
      " Working on visualization type: skeleton\n"
     ]
    },
    {
     "data": {
      "application/vnd.jupyter.widget-view+json": {
       "model_id": "daca2fc58dd34ba9ba6666f53601e64f",
       "version_major": 2,
       "version_minor": 0
      },
      "text/plain": [
       "VBox(children=(Figure(camera=PerspectiveCamera(fov=46.0, position=(0.0, 0.0, 2.0), projectionMatrix=(1.0, 0.0,…"
      ]
     },
     "metadata": {},
     "output_type": "display_data"
    }
   ],
   "source": [
    "nviz.plot_axon(neuron_obj,skeleton = True)"
   ]
  },
  {
   "cell_type": "markdown",
   "metadata": {},
   "source": [
    "# Just want to label thin vs. thick axon"
   ]
  },
  {
   "cell_type": "code",
   "execution_count": 24,
   "metadata": {
    "scrolled": true
   },
   "outputs": [
    {
     "name": "stdout",
     "output_type": "stream",
     "text": [
      "Starting axon branch was the starting node so using border vertices and NOT computing upstream branch\n",
      "upstream_node_to_axon_starting_branch = None\n"
     ]
    },
    {
     "name": "stderr",
     "output_type": "stream",
     "text": [
      "\r",
      "  0%|          | 0/1 [00:00<?, ?it/s]"
     ]
    },
    {
     "name": "stdout",
     "output_type": "stream",
     "text": [
      "root_curr = [1272394.   632033.6  980102.4]\n",
      "Time for preparing soma vertices and root: 0.0009136199951171875\n",
      "invalidation_d = 2000\n",
      "cc_vertex_thresh = 10\n"
     ]
    },
    {
     "data": {
      "application/vnd.jupyter.widget-view+json": {
       "model_id": "4bc90dbe5ab049119c5c6c1d865be7b0",
       "version_major": 2,
       "version_minor": 0
      },
      "text/plain": [
       "  0%|          | 0/40101 [00:00<?, ?it/s]"
      ]
     },
     "metadata": {},
     "output_type": "display_data"
    },
    {
     "name": "stderr",
     "output_type": "stream",
     "text": [
      "100%|██████████| 1/1 [00:00<00:00,  1.94it/s]\n"
     ]
    },
    {
     "name": "stdout",
     "output_type": "stream",
     "text": [
      "meshparty_segment_size = 100\n",
      "Time for 1st pass MP skeletonization: 0.9966645240783691\n",
      "branches_touching_root = [5]\n",
      "combining close nodes\n",
      "combine_threshold = 1300\n",
      "length of Graph = 8917\n",
      "After combining close endpoints max(kept_branches_idx) = 30, len(kept_branches_idx) = 31\n",
      "empty_indices % = 0.0\n",
      " conflict_indices % = 0.009127674759287316\n"
     ]
    },
    {
     "data": {
      "application/vnd.jupyter.widget-view+json": {
       "model_id": "664d163fb39e431aa701f3df7a29f1c9",
       "version_major": 2,
       "version_minor": 0
      },
      "text/plain": [
       "  0%|          | 0/15 [00:00<?, ?it/s]"
      ]
     },
     "metadata": {},
     "output_type": "display_data"
    },
    {
     "name": "stdout",
     "output_type": "stream",
     "text": [
      "AFTER face_lookup_resolved_test\n"
     ]
    },
    {
     "data": {
      "application/vnd.jupyter.widget-view+json": {
       "model_id": "b77b2beac5c34e63a845b97f7f025bf8",
       "version_major": 2,
       "version_minor": 0
      },
      "text/plain": [
       "  0%|          | 0/31 [00:00<?, ?it/s]"
      ]
     },
     "metadata": {},
     "output_type": "display_data"
    },
    {
     "name": "stdout",
     "output_type": "stream",
     "text": [
      "Decomposing first pass: 6.316967725753784\n",
      "Only Using MeshParty Skeletonization and Mesh Correspondence\n",
      "Another print\n",
      "Divinding into MP and MAP pieces: 5.2928924560546875e-05\n",
      "Total time for MAP sublimb processing 9.298324584960938e-06\n",
      "---- Working on MP Decomposition #0 ----\n",
      "Using Quicker soma_to_piece_touching_vertices because no MAP and only one sublimb_mesh piece \n",
      "MP filtering soma verts: 9.34600830078125e-05\n",
      "Fixing Possible Soma Extension Branch for Sublimb 0\n",
      "Total time for mesh KDTree = 0.08289694786071777\n",
      "sbv[0].reshape(-1,3) = [[1272394.   632033.6  980102.4]]\n",
      "closest_sk_pt_coord BEFORE = [1272753.70534828  632356.19846315  980489.44992463]\n",
      "current_skeleton.shape = (452, 2, 3)\n",
      "node_for_stitch = 452: [1272753.70534828  632356.19846315  980489.44992463]\n",
      "node_for_stitch AFTER = 452: [1272753.70534828  632356.19846315  980489.44992463]\n",
      "possible_node_loc = [450 452]\n",
      "possible_node_loc AFTER = [450 452]\n",
      "curr_shortest_path = [452]\n",
      "Current stitch point was a branch or endpoint\n",
      "change_status for create soma extending pieces = False\n",
      "closest_sk_pt_coord AFTER = [1272753.70534828  632356.19846315  980489.44992463]\n",
      "skipping soma 0 because closest skeleton node was already end node\n",
      "endpoints_must_keep = {0: array([[1272753.70534828,  632356.19846315,  980489.44992463]])}\n",
      "match_sk_branches = [5]\n",
      "The new branch info was none so skipping \n",
      "\n",
      "No soma extending branch was added for this sublimb even though it had a soma border (means they already existed)\n",
      "MP (because soma touching verts) soma extension add: 1.4665260314941406\n",
      "There were not both MAP and MP pieces so skipping the stitch resolving phase\n",
      "Time for decomp of Limb = 9.174258470535278\n",
      "Number of matching vertices = 17\n",
      "Only one endpoint after filtering away the endpoints that are not on the skeleton\n",
      "Using Distance measure skeletal_distance\n",
      "endpoints_must_keep = [[1272753.70534828  632356.19846315  980489.44992463]]\n",
      "Number of end_nodes BEFORE filtering = 17\n",
      "all_single_nodes_to_eliminate = [11]\n"
     ]
    },
    {
     "data": {
      "application/vnd.jupyter.widget-view+json": {
       "model_id": "6e724265fadb4a3682576cf2e0b7cff5",
       "version_major": 2,
       "version_minor": 0
      },
      "text/plain": [
       "  0%|          | 0/1 [00:00<?, ?it/s]"
      ]
     },
     "metadata": {},
     "output_type": "display_data"
    },
    {
     "name": "stdout",
     "output_type": "stream",
     "text": [
      "Removed 1 skeletal branches\n"
     ]
    },
    {
     "data": {
      "application/vnd.jupyter.widget-view+json": {
       "model_id": "5a097c2f6c3744149f5cde91e1860fd7",
       "version_major": 2,
       "version_minor": 0
      },
      "text/plain": [
       "  0%|          | 0/31 [00:00<?, ?it/s]"
      ]
     },
     "metadata": {},
     "output_type": "display_data"
    },
    {
     "name": "stdout",
     "output_type": "stream",
     "text": [
      "79866 79867\n",
      "For marked faces: None\n",
      "empty_indices % = 0.0\n",
      " conflict_indices % = 0.0\n"
     ]
    },
    {
     "data": {
      "application/vnd.jupyter.widget-view+json": {
       "model_id": "c44f9901f4644c7fa1f07d5b1596d61f",
       "version_major": 2,
       "version_minor": 0
      },
      "text/plain": [
       "0it [00:00, ?it/s]"
      ]
     },
     "metadata": {},
     "output_type": "display_data"
    },
    {
     "name": "stdout",
     "output_type": "stream",
     "text": [
      "AFTER face_lookup_resolved_test\n"
     ]
    },
    {
     "data": {
      "application/vnd.jupyter.widget-view+json": {
       "model_id": "428224ce1235481591ccc9584de97fd1",
       "version_major": 2,
       "version_minor": 0
      },
      "text/plain": [
       "  0%|          | 0/29 [00:00<?, ?it/s]"
      ]
     },
     "metadata": {},
     "output_type": "display_data"
    },
    {
     "name": "stdout",
     "output_type": "stream",
     "text": [
      "Limb Correspondence before stitching = 29\n",
      "Limb Correspondence AFTER stitching = 29\n",
      "Upstream node was None so don't have to adjust\n",
      "concept_network_dict = {0: [<networkx_utils.GraphOrderedEdges object at 0x7fe9fa1026a0>]}\n",
      "\n",
      "\n",
      "----Working on seperate_graph 0----\n",
      "\n",
      "\n",
      "---------Working on soma_idx = 0, soma_group_idx 0, endpt = [1272753.70534828  632356.19846315  980489.44992463]---------\n",
      "Starting_edge inside branches_to_conept = [[1272741.7341808   674594.74403301  982583.25549652]\n",
      " [1272753.70534828  632356.19846315  980489.44992463]]\n",
      "At the start, starting_node (in terms of the skeleton, that shouldn't match the starting edge) = [20]\n",
      "printing out current edge:\n",
      "[[1272753.70534828  632356.19846315  980489.44992463]\n",
      " [1272741.7341808   674594.74403301  982583.25549652]]\n",
      "edge_endpoints_to_process was empty so exiting loop after 29 iterations\n",
      "starting_node in concept map (that should match the starting edge) = 18\n",
      "Total time for branches to concept conversion = 0.599468469619751\n",
      "\n",
      "Done generating concept network \n",
      "\n",
      "\n"
     ]
    }
   ],
   "source": [
    "# Getting the high fidelity axon\n",
    "neuron_obj_high_fid_axon = pru.refine_axon_for_high_fidelity_skeleton(neuron_obj)"
   ]
  },
  {
   "cell_type": "code",
   "execution_count": 25,
   "metadata": {},
   "outputs": [
    {
     "data": {
      "text/plain": [
       "{'L4': array([ 0,  1,  2,  3,  4,  5,  6,  7,  8,  9, 10, 11, 12, 13, 14, 15, 16,\n",
       "        17, 18, 19, 20, 21, 22, 23, 24, 25, 26, 27, 28])}"
      ]
     },
     "execution_count": 25,
     "metadata": {},
     "output_type": "execute_result"
    }
   ],
   "source": [
    "neuron_obj_high_fid_axon.axon_limb_branch_dict"
   ]
  },
  {
   "cell_type": "code",
   "execution_count": 26,
   "metadata": {},
   "outputs": [],
   "source": [
    "import neuron_searching as ns"
   ]
  },
  {
   "cell_type": "code",
   "execution_count": 27,
   "metadata": {},
   "outputs": [
    {
     "name": "stdout",
     "output_type": "stream",
     "text": [
      "\n",
      " Working on visualization type: mesh\n",
      "\n",
      " Working on visualization type: skeleton\n"
     ]
    },
    {
     "data": {
      "application/vnd.jupyter.widget-view+json": {
       "model_id": "906f3feadf55449680bd00cacee7f47e",
       "version_major": 2,
       "version_minor": 0
      },
      "text/plain": [
       "VBox(children=(Figure(camera=PerspectiveCamera(fov=46.0, position=(0.0, 0.0, 2.0), projectionMatrix=(1.0, 0.0,…"
      ]
     },
     "metadata": {},
     "output_type": "display_data"
    }
   ],
   "source": [
    "large_width_limb_branch = ns.query_neuron(neuron_obj_high_fid_axon,\n",
    "                functions_list=[\"median_mesh_center\",\"axon_label\"],\n",
    "               query = \"(median_mesh_center > 90) and (axon_label == True)\",\n",
    "                \n",
    "               function_kwargs=dict(limbs_to_process=[\"L1\"],\n",
    "                                   ))\n",
    "large_width_limb_branch\n",
    "\n",
    "nviz.plot_limb_branch_dict(neuron_obj_high_fid_axon,\n",
    "                          large_width_limb_branch,\n",
    "                          visualize_type=[\"mesh\",\"skeleton\"])"
   ]
  },
  {
   "cell_type": "markdown",
   "metadata": {},
   "source": [
    "# Run bouton finding on all of the axon below a ertain width"
   ]
  },
  {
   "cell_type": "code",
   "execution_count": 34,
   "metadata": {},
   "outputs": [],
   "source": [
    "max_bouton_width_to_check = 120"
   ]
  },
  {
   "cell_type": "code",
   "execution_count": 35,
   "metadata": {},
   "outputs": [
    {
     "name": "stdout",
     "output_type": "stream",
     "text": [
      "large_width_limb_branch = {'L4': array([ 1,  6,  8, 11, 18, 19, 20, 21])}\n",
      "\n",
      " Working on visualization type: mesh\n",
      "\n",
      " Working on visualization type: skeleton\n"
     ]
    },
    {
     "data": {
      "application/vnd.jupyter.widget-view+json": {
       "model_id": "2e619baba95a494ca8b40a48a327f4cc",
       "version_major": 2,
       "version_minor": 0
      },
      "text/plain": [
       "VBox(children=(Figure(camera=PerspectiveCamera(fov=46.0, position=(0.0, 0.0, 2.0), projectionMatrix=(1.0, 0.0,…"
      ]
     },
     "metadata": {},
     "output_type": "display_data"
    }
   ],
   "source": [
    "large_width_limb_branch = ns.query_neuron(neuron_obj_high_fid_axon,\n",
    "                functions_list=[\"median_mesh_center\",\"axon_label\"],\n",
    "               query = f\"(median_mesh_center > {max_bouton_width_to_check}) and (axon_label == True)\",\n",
    "                \n",
    "               function_kwargs=dict(limbs_to_process=[ax_limb_name],\n",
    "                                   ))\n",
    "print(f\"large_width_limb_branch = {large_width_limb_branch}\")\n",
    "\n",
    "nviz.plot_limb_branch_dict(neuron_obj_high_fid_axon,\n",
    "                          large_width_limb_branch,\n",
    "                          visualize_type=[\"mesh\",\"skeleton\"])"
   ]
  },
  {
   "cell_type": "code",
   "execution_count": 224,
   "metadata": {},
   "outputs": [
    {
     "name": "stdout",
     "output_type": "stream",
     "text": [
      "axon_check_for_boutons = {'L4': array([ 0,  2,  3,  4,  5,  7,  9, 10, 12, 13, 14, 15, 16, 17, 22, 23, 24,\n",
      "       25, 26, 27, 28])}\n",
      "\n",
      " Working on visualization type: mesh\n",
      "\n",
      " Working on visualization type: skeleton\n"
     ]
    },
    {
     "data": {
      "application/vnd.jupyter.widget-view+json": {
       "model_id": "aa98f49e7d5f4bd5a61ef71c7d6f433b",
       "version_major": 2,
       "version_minor": 0
      },
      "text/plain": [
       "VBox(children=(Figure(camera=PerspectiveCamera(fov=46.0, position=(0.0, 0.0, 2.0), projectionMatrix=(1.0, 0.0,…"
      ]
     },
     "metadata": {},
     "output_type": "display_data"
    }
   ],
   "source": [
    "ax_limb_name = neuron_obj_high_fid_axon.axon_limb_name\n",
    "axon_check_for_boutons = ns.query_neuron(neuron_obj_high_fid_axon,\n",
    "                functions_list=[\"median_mesh_center\",\"axon_label\"],\n",
    "               query = f\"(median_mesh_center < {max_bouton_width_to_check}) and (axon_label == True)\",\n",
    "                \n",
    "               function_kwargs=dict(limbs_to_process=[ax_limb_name],\n",
    "                                   ))\n",
    "print(f\"axon_check_for_boutons = {axon_check_for_boutons}\")\n",
    "\n",
    "nviz.plot_limb_branch_dict(neuron_obj_high_fid_axon,\n",
    "                          axon_check_for_boutons,\n",
    "                          visualize_type=[\"mesh\",\"skeleton\"])"
   ]
  },
  {
   "cell_type": "code",
   "execution_count": 232,
   "metadata": {
    "scrolled": true
   },
   "outputs": [
    {
     "name": "stdout",
     "output_type": "stream",
     "text": [
      "Recieved another instance of Neuron class in init -- so just copying data\n"
     ]
    },
    {
     "data": {
      "application/vnd.jupyter.widget-view+json": {
       "model_id": "1911c50527254dd59d54b8aa2cb673ef",
       "version_major": 2,
       "version_minor": 0
      },
      "text/plain": [
       "  0%|          | 0/21 [00:00<?, ?it/s]"
      ]
     },
     "metadata": {},
     "output_type": "display_data"
    },
    {
     "data": {
      "application/vnd.jupyter.widget-view+json": {
       "model_id": "25889b41043a4fd4bb8349a36d6f03d1",
       "version_major": 2,
       "version_minor": 0
      },
      "text/plain": [
       "  0%|          | 0/75 [00:00<?, ?it/s]"
      ]
     },
     "metadata": {},
     "output_type": "display_data"
    },
    {
     "data": {
      "application/vnd.jupyter.widget-view+json": {
       "model_id": "9924eca5b08a45d589499e508cd883cc",
       "version_major": 2,
       "version_minor": 0
      },
      "text/plain": [
       "  0%|          | 0/9 [00:00<?, ?it/s]"
      ]
     },
     "metadata": {},
     "output_type": "display_data"
    },
    {
     "data": {
      "application/vnd.jupyter.widget-view+json": {
       "model_id": "f6f93ac2f4a4464a9f0a9cc8390a12fb",
       "version_major": 2,
       "version_minor": 0
      },
      "text/plain": [
       "  0%|          | 0/7 [00:00<?, ?it/s]"
      ]
     },
     "metadata": {},
     "output_type": "display_data"
    },
    {
     "data": {
      "application/vnd.jupyter.widget-view+json": {
       "model_id": "1a262185d1c0422780b90e630e488fcd",
       "version_major": 2,
       "version_minor": 0
      },
      "text/plain": [
       "  0%|          | 0/5 [00:00<?, ?it/s]"
      ]
     },
     "metadata": {},
     "output_type": "display_data"
    },
    {
     "data": {
      "application/vnd.jupyter.widget-view+json": {
       "model_id": "02f904c60476406fad2e551cee5f8c3a",
       "version_major": 2,
       "version_minor": 0
      },
      "text/plain": [
       "  0%|          | 0/46 [00:00<?, ?it/s]"
      ]
     },
     "metadata": {},
     "output_type": "display_data"
    },
    {
     "data": {
      "application/vnd.jupyter.widget-view+json": {
       "model_id": "c78e7c346d54459f98bb02a094efbc45",
       "version_major": 2,
       "version_minor": 0
      },
      "text/plain": [
       "  0%|          | 0/13 [00:00<?, ?it/s]"
      ]
     },
     "metadata": {},
     "output_type": "display_data"
    },
    {
     "data": {
      "application/vnd.jupyter.widget-view+json": {
       "model_id": "2bb662cf94934448a3884478b092962b",
       "version_major": 2,
       "version_minor": 0
      },
      "text/plain": [
       "  0%|          | 0/13 [00:00<?, ?it/s]"
      ]
     },
     "metadata": {},
     "output_type": "display_data"
    },
    {
     "data": {
      "application/vnd.jupyter.widget-view+json": {
       "model_id": "79661e7917784c5695794e850a45d195",
       "version_major": 2,
       "version_minor": 0
      },
      "text/plain": [
       "  0%|          | 0/9 [00:00<?, ?it/s]"
      ]
     },
     "metadata": {},
     "output_type": "display_data"
    },
    {
     "data": {
      "application/vnd.jupyter.widget-view+json": {
       "model_id": "d13a9e4755d6495ea9d6e3987a06de4e",
       "version_major": 2,
       "version_minor": 0
      },
      "text/plain": [
       "  0%|          | 0/8 [00:00<?, ?it/s]"
      ]
     },
     "metadata": {},
     "output_type": "display_data"
    },
    {
     "data": {
      "application/vnd.jupyter.widget-view+json": {
       "model_id": "1d96b5b3f8f74008b01dfce7a9183fe3",
       "version_major": 2,
       "version_minor": 0
      },
      "text/plain": [
       "  0%|          | 0/7 [00:00<?, ?it/s]"
      ]
     },
     "metadata": {},
     "output_type": "display_data"
    },
    {
     "data": {
      "application/vnd.jupyter.widget-view+json": {
       "model_id": "bfc1c31213e3403c89b0957d5c7bdc32",
       "version_major": 2,
       "version_minor": 0
      },
      "text/plain": [
       "  0%|          | 0/9 [00:00<?, ?it/s]"
      ]
     },
     "metadata": {},
     "output_type": "display_data"
    },
    {
     "data": {
      "application/vnd.jupyter.widget-view+json": {
       "model_id": "f5ac6a2dd23f4364985c65b746b57550",
       "version_major": 2,
       "version_minor": 0
      },
      "text/plain": [
       "  0%|          | 0/14 [00:00<?, ?it/s]"
      ]
     },
     "metadata": {},
     "output_type": "display_data"
    },
    {
     "data": {
      "application/vnd.jupyter.widget-view+json": {
       "model_id": "ad4b5201bdd94d0a96bcce78133e65c3",
       "version_major": 2,
       "version_minor": 0
      },
      "text/plain": [
       "  0%|          | 0/14 [00:00<?, ?it/s]"
      ]
     },
     "metadata": {},
     "output_type": "display_data"
    },
    {
     "data": {
      "application/vnd.jupyter.widget-view+json": {
       "model_id": "c2d1b9c6701a4dbcb6962f55a380f90a",
       "version_major": 2,
       "version_minor": 0
      },
      "text/plain": [
       "  0%|          | 0/15 [00:00<?, ?it/s]"
      ]
     },
     "metadata": {},
     "output_type": "display_data"
    },
    {
     "data": {
      "application/vnd.jupyter.widget-view+json": {
       "model_id": "e5c2d755ec874c5688480d89d557f30e",
       "version_major": 2,
       "version_minor": 0
      },
      "text/plain": [
       "  0%|          | 0/10 [00:00<?, ?it/s]"
      ]
     },
     "metadata": {},
     "output_type": "display_data"
    },
    {
     "data": {
      "application/vnd.jupyter.widget-view+json": {
       "model_id": "8eb9d35db7bc427496da2fa414af0387",
       "version_major": 2,
       "version_minor": 0
      },
      "text/plain": [
       "  0%|          | 0/5 [00:00<?, ?it/s]"
      ]
     },
     "metadata": {},
     "output_type": "display_data"
    },
    {
     "data": {
      "application/vnd.jupyter.widget-view+json": {
       "model_id": "e356f3d887c34262a5175e9dd8fdc843",
       "version_major": 2,
       "version_minor": 0
      },
      "text/plain": [
       "  0%|          | 0/5 [00:00<?, ?it/s]"
      ]
     },
     "metadata": {},
     "output_type": "display_data"
    },
    {
     "data": {
      "application/vnd.jupyter.widget-view+json": {
       "model_id": "7f943afa7ed54fa5bdd6b162a4af9835",
       "version_major": 2,
       "version_minor": 0
      },
      "text/plain": [
       "  0%|          | 0/7 [00:00<?, ?it/s]"
      ]
     },
     "metadata": {},
     "output_type": "display_data"
    },
    {
     "data": {
      "application/vnd.jupyter.widget-view+json": {
       "model_id": "bc9fcc32583b44f3a875866b82fae14c",
       "version_major": 2,
       "version_minor": 0
      },
      "text/plain": [
       "  0%|          | 0/2 [00:00<?, ?it/s]"
      ]
     },
     "metadata": {},
     "output_type": "display_data"
    },
    {
     "data": {
      "application/vnd.jupyter.widget-view+json": {
       "model_id": "25ada59767e94777baf3c4663bc997ca",
       "version_major": 2,
       "version_minor": 0
      },
      "text/plain": [
       "  0%|          | 0/12 [00:00<?, ?it/s]"
      ]
     },
     "metadata": {},
     "output_type": "display_data"
    },
    {
     "data": {
      "application/vnd.jupyter.widget-view+json": {
       "model_id": "8ad06c1c89df4d849edf940555cd9147",
       "version_major": 2,
       "version_minor": 0
      },
      "text/plain": [
       "  0%|          | 0/7 [00:00<?, ?it/s]"
      ]
     },
     "metadata": {},
     "output_type": "display_data"
    }
   ],
   "source": [
    "import width_utils as wu\n",
    "import trimesh_utils as tu\n",
    "\n",
    "\n",
    "\"\"\"\n",
    "Psuedocode: Iterate through all of the branch objects and \n",
    "compute the bouton meshes and store as boutons\n",
    "\n",
    "\n",
    "\"\"\"\n",
    "from tqdm_utils import tqdm\n",
    "\n",
    "width_name = \"no_bouton_median\"\n",
    "verbose = False\n",
    "\n",
    "#neuron_obj_high_fid_axon = neuron.Neuron(neuron_obj_high_fid_axon)\n",
    "\n",
    "for l_idx,branch_list in axon_check_for_boutons.items():\n",
    "    for b in tqdm(branch_list):\n",
    "        branch_obj = neuron_obj_high_fid_axon[l_idx][b]\n",
    "        b_meshes= tu.bouton_meshes(branch_obj,\n",
    "                                            return_non_boutons=False,\n",
    "                                                 return_cdf_widths=False)\n",
    "        \n",
    "\n",
    "        branch_obj.boutons = list(b_meshes)\n",
    "        \n",
    "        \n",
    "        # ----- Doing the new width calculation -------- #\n",
    "        \n",
    "        skeleton_segment_size=1000\n",
    "        width_segment_size = None\n",
    "        distance_by_mesh_center = True\n",
    "        no_spines = False\n",
    "        summary_measure = \"median\"\n",
    "\n",
    "        if len(b_meshes) > 0:\n",
    "            if verbose:\n",
    "                print(f\"Calculating new width because had {branch_obj.n_boutons} boutons\")\n",
    "            current_width_array,current_width = wu.calculate_new_width(branch_obj, \n",
    "                          skeleton_segment_size=skeleton_segment_size,\n",
    "                          width_segment_size=width_segment_size, \n",
    "                          distance_by_mesh_center=distance_by_mesh_center,\n",
    "                          no_spines=no_spines,\n",
    "                          summary_measure=summary_measure,\n",
    "                          return_average=True,\n",
    "                          print_flag=False,\n",
    "                        no_boutons=True,\n",
    "                            old_width_calculation=branch_obj.width_new[\"no_spine_median_mesh_center\"])\n",
    "                                  \n",
    "        else:\n",
    "            current_width = branch_obj.width_new[\"no_spine_median_mesh_center\"]\n",
    "            current_width_array = branch_obj.width_array[\"no_spine_median_mesh_center\"] \n",
    "        #calculating the mean/width width of boutons and non_boutons\n",
    "        \n",
    "        branch_obj.width_new[width_name]  = current_width\n",
    "        branch_obj.width_array[width_name] = current_width_array\n"
   ]
  },
  {
   "cell_type": "code",
   "execution_count": 90,
   "metadata": {},
   "outputs": [
    {
     "name": "stdout",
     "output_type": "stream",
     "text": [
      "No boutons to plot\n",
      "width = {'median_mesh_center': 50.46740832192515, 'no_spine_median_mesh_center': 50.46740832192515, 'bouton_median': 50.46740832192515}, \n",
      "n_boutons = 0,\n",
      "skeleton_length (in microns) = 20.918272057580122\n",
      "area = 10.698956407397715\n"
     ]
    },
    {
     "data": {
      "application/vnd.jupyter.widget-view+json": {
       "model_id": "8a93a632a04c4543a991c664375cb422",
       "version_major": 2,
       "version_minor": 0
      },
      "text/plain": [
       "VBox(children=(Figure(camera=PerspectiveCamera(fov=46.0, position=(0.0, 0.0, 2.0), projectionMatrix=(1.0, 0.0,…"
      ]
     },
     "metadata": {},
     "output_type": "display_data"
    }
   ],
   "source": [
    "branch_obj = neuron_obj_high_fid_axon[neuron_obj_high_fid_axon.axon_limb_name][15]\n",
    "nviz.plot_branches_with_boutons(branch_obj,\n",
    "                               plot_skeletons=False)"
   ]
  },
  {
   "cell_type": "code",
   "execution_count": 110,
   "metadata": {},
   "outputs": [
    {
     "data": {
      "application/vnd.jupyter.widget-view+json": {
       "model_id": "25ebb5512f804cc4904d2583aba64a4f",
       "version_major": 2,
       "version_minor": 0
      },
      "text/plain": [
       "  0%|          | 0/14 [00:00<?, ?it/s]"
      ]
     },
     "metadata": {},
     "output_type": "display_data"
    },
    {
     "data": {
      "text/plain": [
       "([<trimesh.Trimesh(vertices.shape=(114, 3), faces.shape=(220, 3))>,\n",
       "  <trimesh.Trimesh(vertices.shape=(108, 3), faces.shape=(206, 3))>,\n",
       "  <trimesh.Trimesh(vertices.shape=(82, 3), faces.shape=(157, 3))>,\n",
       "  <trimesh.Trimesh(vertices.shape=(45, 3), faces.shape=(84, 3))>,\n",
       "  <trimesh.Trimesh(vertices.shape=(39, 3), faces.shape=(72, 3))>,\n",
       "  <trimesh.Trimesh(vertices.shape=(51, 3), faces.shape=(65, 3))>,\n",
       "  <trimesh.Trimesh(vertices.shape=(33, 3), faces.shape=(60, 3))>,\n",
       "  <trimesh.Trimesh(vertices.shape=(30, 3), faces.shape=(53, 3))>,\n",
       "  <trimesh.Trimesh(vertices.shape=(26, 3), faces.shape=(46, 3))>,\n",
       "  <trimesh.Trimesh(vertices.shape=(25, 3), faces.shape=(43, 3))>,\n",
       "  <trimesh.Trimesh(vertices.shape=(19, 3), faces.shape=(32, 3))>,\n",
       "  <trimesh.Trimesh(vertices.shape=(14, 3), faces.shape=(22, 3))>,\n",
       "  <trimesh.Trimesh(vertices.shape=(13, 3), faces.shape=(17, 3))>,\n",
       "  <trimesh.Trimesh(vertices.shape=(11, 3), faces.shape=(16, 3))>],\n",
       " array([0.1274785 , 0.1332005 , 0.0773645 , 0.172135  , 0.0764593 ,\n",
       "        0.584969  , 0.0719101 , 0.242424  , 0.3296185 , 0.085358  ,\n",
       "        0.04179825, 0.08071985, 0.0339948 , 0.2264285 ]))"
      ]
     },
     "execution_count": 110,
     "metadata": {},
     "output_type": "execute_result"
    }
   ],
   "source": [
    "new_meshes, cgal_info = tu.mesh_segmentation(branch_obj.mesh,\n",
    "                    clusters=5,\n",
    "                    smoothness=0.1)\n",
    "new_meshes, cgal_info"
   ]
  },
  {
   "cell_type": "code",
   "execution_count": 124,
   "metadata": {},
   "outputs": [
    {
     "data": {
      "application/vnd.jupyter.widget-view+json": {
       "model_id": "0b829b5173f8498186827f791097777b",
       "version_major": 2,
       "version_minor": 0
      },
      "text/plain": [
       "VBox(children=(Figure(camera=PerspectiveCamera(fov=46.0, position=(0.0, 0.0, 2.0), projectionMatrix=(1.0, 0.0,…"
      ]
     },
     "metadata": {},
     "output_type": "display_data"
    }
   ],
   "source": [
    "nviz.plot_objects(branch_obj.mesh,\n",
    "                  meshes=[new_meshes[12]],\n",
    "                 meshes_colors=\"red\")"
   ]
  },
  {
   "cell_type": "code",
   "execution_count": null,
   "metadata": {},
   "outputs": [],
   "source": []
  },
  {
   "cell_type": "code",
   "execution_count": 131,
   "metadata": {
    "scrolled": false
   },
   "outputs": [
    {
     "data": {
      "application/vnd.jupyter.widget-view+json": {
       "model_id": "a8ed86c73ab34964a4db52b2bee78f45",
       "version_major": 2,
       "version_minor": 0
      },
      "text/plain": [
       "  0%|          | 0/10 [00:00<?, ?it/s]"
      ]
     },
     "metadata": {},
     "output_type": "display_data"
    },
    {
     "name": "stdout",
     "output_type": "stream",
     "text": [
      "Segmentation Info:\n",
      "Mesh 0: <trimesh.Trimesh(vertices.shape=(150, 3), faces.shape=(248, 3))> (0.51414)\n",
      "Mesh 1: <trimesh.Trimesh(vertices.shape=(105, 3), faces.shape=(203, 3))> (0.120292)\n",
      "Mesh 2: <trimesh.Trimesh(vertices.shape=(47, 3), faces.shape=(81, 3))> (0.194492)\n",
      "Mesh 3: <trimesh.Trimesh(vertices.shape=(36, 3), faces.shape=(57, 3))> (0.330561)\n",
      "Mesh 4: <trimesh.Trimesh(vertices.shape=(28, 3), faces.shape=(39, 3))> (0.353399)\n",
      "Mesh 5: <trimesh.Trimesh(vertices.shape=(7, 3), faces.shape=(9, 3))> (0.0335454)\n",
      "Mesh 6: <trimesh.Trimesh(vertices.shape=(7, 3), faces.shape=(6, 3))> (0.4453465)\n",
      "Mesh 7: <trimesh.Trimesh(vertices.shape=(15, 3), faces.shape=(5, 3))> (0.0)\n",
      "Mesh 8: <trimesh.Trimesh(vertices.shape=(4, 3), faces.shape=(2, 3))> (0.425363)\n",
      "Mesh 9: <trimesh.Trimesh(vertices.shape=(3, 3), faces.shape=(1, 3))> (0.0730909)\n"
     ]
    },
    {
     "data": {
      "application/vnd.jupyter.widget-view+json": {
       "model_id": "4f216340248f4ff9af54a3249a79c86c",
       "version_major": 2,
       "version_minor": 0
      },
      "text/plain": [
       "VBox(children=(Figure(camera=PerspectiveCamera(fov=46.0, position=(0.0, 0.0, 2.0), projectionMatrix=(1.0, 0.0,…"
      ]
     },
     "metadata": {},
     "output_type": "display_data"
    },
    {
     "name": "stdout",
     "output_type": "stream",
     "text": [
      "\n",
      " After CDF Trheshold:\n",
      "# of bouton meshes = 5:\n",
      "boutons_idx = [0 3 4 6 8]\n",
      "bouton_meshes = [<trimesh.Trimesh(vertices.shape=(150, 3), faces.shape=(248, 3))>\n",
      " <trimesh.Trimesh(vertices.shape=(36, 3), faces.shape=(57, 3))>\n",
      " <trimesh.Trimesh(vertices.shape=(28, 3), faces.shape=(39, 3))>\n",
      " <trimesh.Trimesh(vertices.shape=(7, 3), faces.shape=(6, 3))>\n",
      " <trimesh.Trimesh(vertices.shape=(4, 3), faces.shape=(2, 3))>]\n",
      "bouton_meshes_cdf = [0.51414   0.330561  0.353399  0.4453465 0.425363 ]\n",
      "\n",
      "Using endpoint_radius with radius 1000 method for filter_away_end_meshes\n",
      "\n",
      "Using endpoint_radius with radius 1000 method for filter_away_end_meshes\n",
      "end_meshes_idx = [1, 2, 4, 5, 6, 8, 0, 1, 3, 9]\n",
      "\n",
      "--After Filtering End Meshes--\n",
      "# of bouton meshes = 0:\n",
      "bouton_meshes = []\n",
      "bouton_meshes_cdf = []\n",
      "Applying size threshold of 27< faces <= 350\n",
      "boutons_idx = []\n",
      "\n",
      "--After Filtering for size --\n",
      "# of bouton meshes = 0:\n",
      "bouton_meshes = []\n",
      "bouton_meshes_cdf = []\n",
      "original_bouton_idx = []\n",
      "\n",
      "--Applying ray trace threshold = 200--\n",
      "mesh_sizes with type (ray_trace_percentile): []\n",
      "keep_indices = []\n",
      "boutons_idx = []\n",
      "\n",
      "--After Filtering for ray trace distance --\n",
      "# of bouton meshes = 0:\n",
      "bouton_meshes = []\n",
      "bouton_meshes_cdf = []\n",
      "original_bouton_idx = []\n",
      "No boutons to plot\n"
     ]
    }
   ],
   "source": [
    "branch_obj = neuron_obj_high_fid_axon[neuron_obj_high_fid_axon.axon_limb_name][22]\n",
    "b_meshes= tu.bouton_meshes(branch_obj,\n",
    "                           clusters=5,\n",
    "                           smoothness = 0.1,\n",
    "                                            return_non_boutons=False,\n",
    "                                                 return_cdf_widths=False,\n",
    "                           min_size_threshold=27,\n",
    "                           cdf_threshold = 0.20,\n",
    "                           ray_trace_threshold=200,\n",
    "                           plot_segmentation=True,\n",
    "                           plot_boutons=True,\n",
    "                          verbose=True)"
   ]
  },
  {
   "cell_type": "code",
   "execution_count": 89,
   "metadata": {},
   "outputs": [
    {
     "name": "stdout",
     "output_type": "stream",
     "text": [
      "\n",
      " Working on visualization type: mesh\n",
      "\n",
      " Working on visualization type: skeleton\n"
     ]
    },
    {
     "data": {
      "application/vnd.jupyter.widget-view+json": {
       "model_id": "c844d0749ea745fca5cdde5a190a8c8f",
       "version_major": 2,
       "version_minor": 0
      },
      "text/plain": [
       "VBox(children=(Figure(camera=PerspectiveCamera(fov=46.0, position=(0.0, 0.0, 2.0), projectionMatrix=(1.0, 0.0,…"
      ]
     },
     "metadata": {},
     "output_type": "display_data"
    },
    {
     "name": "stdout",
     "output_type": "stream",
     "text": [
      "No limb name was given so using L4 because was the limb in the first key\n"
     ]
    },
    {
     "data": {
      "image/png": "[encoded data removed]",
      "text/plain": [
       "<Figure size 4000x2000 with 1 Axes>"
      ]
     },
     "metadata": {},
     "output_type": "display_data"
    }
   ],
   "source": [
    "nviz.visualize_neuron_specific_limb(neuron_obj_high_fid_axon,\n",
    "                                   neuron_obj_high_fid_axon.axon_limb_name)"
   ]
  },
  {
   "cell_type": "code",
   "execution_count": 138,
   "metadata": {},
   "outputs": [
    {
     "data": {
      "text/plain": [
       "['feature_over_limb_branch_dict', 'sum_feature_over_limb_branch_dict']"
      ]
     },
     "execution_count": 138,
     "metadata": {},
     "output_type": "execute_result"
    }
   ],
   "source": [
    "[k for k in dir(nru) if \"feature\" in k]"
   ]
  },
  {
   "cell_type": "code",
   "execution_count": 137,
   "metadata": {},
   "outputs": [
    {
     "data": {
      "text/plain": [
       "['KDTree',\n",
       " 'Path',\n",
       " '__builtins__',\n",
       " '__cached__',\n",
       " '__doc__',\n",
       " '__file__',\n",
       " '__loader__',\n",
       " '__name__',\n",
       " '__package__',\n",
       " '__spec__',\n",
       " 'add_branch_label',\n",
       " 'align_and_restrict_branch',\n",
       " 'all_concept_network_data_to_dict',\n",
       " 'all_concept_network_data_to_limb_network_stating_info',\n",
       " 'all_medain_mesh_center_widths',\n",
       " 'all_no_spine_median_mesh_center_widths',\n",
       " 'all_skeletal_lengths',\n",
       " 'all_soma_connnecting_endpionts_from_starting_info',\n",
       " 'all_starting_attr_by_limb_and_soma',\n",
       " 'all_starting_dicts_by_soma',\n",
       " 'apply_adaptive_mesh_correspondence_to_neuron',\n",
       " 'axon_area',\n",
       " 'axon_length',\n",
       " 'axon_mesh',\n",
       " 'axon_only_group',\n",
       " 'axon_skeleton',\n",
       " 'branch_boundary_transition',\n",
       " 'branch_boundary_transition_old',\n",
       " 'branch_mesh_no_boutons',\n",
       " 'branch_mesh_no_spines',\n",
       " 'branch_skeletal_distance_from_soma',\n",
       " 'branches_at_high_degree_coordinates',\n",
       " 'branches_on_limb_after_edges_deleted_and_created',\n",
       " 'branches_to_concept_network',\n",
       " 'branches_within_skeletal_distance',\n",
       " 'check_concept_network',\n",
       " 'check_points_inside_soma_bbox',\n",
       " 'classify_endpoint_error_branches_from_limb_concept_network',\n",
       " 'classify_error_branch',\n",
       " 'clean_all_concept_network_data',\n",
       " 'clean_neuron_all_concept_network_data',\n",
       " 'clear_all_branch_labels',\n",
       " 'clear_certain_branch_labels',\n",
       " 'closest_branch_endpoint_to_limb_starting_coordinate',\n",
       " 'clu',\n",
       " 'compute_all_concept_network_data_from_limb',\n",
       " 'compute_mesh_attribute_volume',\n",
       " 'convert_concept_network_to_directional',\n",
       " 'convert_concept_network_to_skeleton',\n",
       " 'convert_concept_network_to_undirectional',\n",
       " 'convert_int_names_to_string_names',\n",
       " 'convert_limb_concept_network_to_neuron_skeleton',\n",
       " 'convert_string_names_to_int_names',\n",
       " 'copy',\n",
       " 'cu',\n",
       " 'decompress_neuron',\n",
       " 'deepcopy',\n",
       " 'dendrite_skeleton',\n",
       " 'distance_to_soma_from_coordinate_close_to_branch',\n",
       " 'empty_limb_object',\n",
       " 'error_limb_indexes',\n",
       " 'error_limbs',\n",
       " 'feature_over_limb_branch_dict',\n",
       " 'filter_limbs_below_soma_percentile',\n",
       " 'find_branch_with_specific_coordinate',\n",
       " 'find_face_idx_and_check_recovery',\n",
       " 'find_parent_child_skeleton_angle',\n",
       " 'find_sibling_child_skeleton_angle',\n",
       " 'generate_limb_concept_networks_from_global_connectivity',\n",
       " 'get_limb_int_name',\n",
       " 'get_limb_names_from_concept_network',\n",
       " 'get_limb_starting_angle_dict',\n",
       " 'get_limb_string_name',\n",
       " 'get_limb_to_soma_border_vertices',\n",
       " 'get_matching_concept_network_data',\n",
       " 'get_soma_names_from_concept_network',\n",
       " 'get_soma_skeleton',\n",
       " 'get_starting_info_from_concept_network',\n",
       " 'get_whole_neuron_skeleton',\n",
       " 'gu',\n",
       " 'high_degree_branching_coordinates_on_limb',\n",
       " 'high_degree_branching_coordinates_on_neuron',\n",
       " 'itertools',\n",
       " 'limb_branch_after_limb_branch_removal',\n",
       " 'limb_branch_after_limb_edge_removal',\n",
       " 'limb_branch_combining',\n",
       " 'limb_branch_dict_to_connected_components',\n",
       " 'limb_branch_dict_to_faces',\n",
       " 'limb_branch_dict_to_limb_true_false_dict',\n",
       " 'limb_branch_dict_to_skeleton',\n",
       " 'limb_branch_from_edge_function',\n",
       " 'limb_branch_intersection',\n",
       " 'limb_branch_invert',\n",
       " 'limb_branch_setdiff',\n",
       " 'limb_branch_union',\n",
       " 'limb_edge_dict_with_function',\n",
       " 'limb_label',\n",
       " 'limb_to_soma_mapping',\n",
       " 'limb_true_false_dict_to_limb_branch_dict',\n",
       " 'low_branch_length_clusters',\n",
       " 'm_sk',\n",
       " 'max_limb_n_branches',\n",
       " 'max_limb_skeletal_length',\n",
       " 'max_soma_n_faces',\n",
       " 'max_soma_volume',\n",
       " 'median_branch_length',\n",
       " 'mu',\n",
       " 'multi_soma_touching_limbs',\n",
       " 'n_boutons',\n",
       " 'n_branches',\n",
       " 'n_branches_per_limb',\n",
       " 'n_error_limbs',\n",
       " 'n_limbs',\n",
       " 'n_somas',\n",
       " 'n_spine_eligible_branches',\n",
       " 'n_spines',\n",
       " 'neuron',\n",
       " 'neuron_limb_branch_dict',\n",
       " 'neuron_limb_overwrite',\n",
       " 'neuron_spine_density',\n",
       " 'np',\n",
       " 'nru',\n",
       " 'ns',\n",
       " 'nst',\n",
       " 'nu',\n",
       " 'nviz',\n",
       " 'nx',\n",
       " 'ordered_endpoints_on_branch_path',\n",
       " 'original_mesh_face_to_limb_branch',\n",
       " 'pair_neuron_obj_to_nuclei',\n",
       " 'pre',\n",
       " 'pru',\n",
       " 'ray_pyembree',\n",
       " 'reload',\n",
       " 'return_concept_network',\n",
       " 'same_soma_multi_touching_limbs',\n",
       " 'save_compressed_neuron',\n",
       " 'sdf_filter',\n",
       " 'shared_skeleton_endpoints_for_connected_branches',\n",
       " 'sk',\n",
       " 'skeletal_distance_from_soma',\n",
       " 'skeletal_length',\n",
       " 'skeletal_length_eligible',\n",
       " 'skeleton_length_per_limb',\n",
       " 'skeleton_points_along_path',\n",
       " 'skeleton_touching_branches',\n",
       " 'sm',\n",
       " 'smaller_preprocessed_data',\n",
       " 'soma_centers',\n",
       " 'soma_label',\n",
       " 'spine_density',\n",
       " 'spine_density_eligible',\n",
       " 'spine_eligible_branch_lengths',\n",
       " 'spine_volume_density',\n",
       " 'spine_volume_density_eligible',\n",
       " 'spine_volume_median',\n",
       " 'spine_volume_per_branch_eligible',\n",
       " 'spines_per_branch',\n",
       " 'spines_per_branch_eligible',\n",
       " 'su',\n",
       " 'sum_feature_over_limb_branch_dict',\n",
       " 'synapse_skeletal_distances_to_soma',\n",
       " 'time',\n",
       " 'total_spine_volume',\n",
       " 'tqdm',\n",
       " 'trimesh',\n",
       " 'trimesh_io',\n",
       " 'tu',\n",
       " 'viable_axon_limbs_by_starting_angle',\n",
       " 'viable_axon_limbs_by_starting_angle_old',\n",
       " 'whole_neuron_branch_concept_network',\n",
       " 'whole_neuron_branch_concept_network_old',\n",
       " 'width_median',\n",
       " 'width_no_spine_median',\n",
       " 'width_no_spine_perc',\n",
       " 'width_perc',\n",
       " 'wu',\n",
       " 'xu']"
      ]
     },
     "execution_count": 137,
     "metadata": {},
     "output_type": "execute_result"
    }
   ],
   "source": [
    "dir(nru)"
   ]
  },
  {
   "cell_type": "code",
   "execution_count": 135,
   "metadata": {},
   "outputs": [
    {
     "name": "stdout",
     "output_type": "stream",
     "text": [
      "\n",
      " Working on visualization type: mesh\n",
      "\n",
      " Working on visualization type: skeleton\n"
     ]
    },
    {
     "data": {
      "application/vnd.jupyter.widget-view+json": {
       "model_id": "79117cfcb3954964a9e39963465c0b3a",
       "version_major": 2,
       "version_minor": 0
      },
      "text/plain": [
       "VBox(children=(Figure(camera=PerspectiveCamera(fov=46.0, position=(0.0, 0.0, 2.0), projectionMatrix=(1.0, 0.0,…"
      ]
     },
     "metadata": {},
     "output_type": "display_data"
    }
   ],
   "source": [
    "nviz.plot_boutons(neuron_obj_high_fid_axon,\n",
    "                  mesh_whole_neuron_alpha=0.2,\n",
    "                 )"
   ]
  },
  {
   "cell_type": "code",
   "execution_count": 140,
   "metadata": {},
   "outputs": [],
   "source": [
    "from importlib import reload\n",
    "import neuron \n",
    "\n",
    "neuron = reload(neuron)"
   ]
  },
  {
   "cell_type": "code",
   "execution_count": 141,
   "metadata": {},
   "outputs": [
    {
     "name": "stdout",
     "output_type": "stream",
     "text": [
      "Recieved another instance of Neuron class in init -- so just copying data\n"
     ]
    }
   ],
   "source": [
    "neuron_obj_2 = neuron.Neuron(neuron_obj_high_fid_axon)"
   ]
  },
  {
   "cell_type": "code",
   "execution_count": 142,
   "metadata": {},
   "outputs": [
    {
     "name": "stdout",
     "output_type": "stream",
     "text": [
      "\n",
      " Working on visualization type: mesh\n",
      "\n",
      " Working on visualization type: skeleton\n"
     ]
    },
    {
     "data": {
      "application/vnd.jupyter.widget-view+json": {
       "model_id": "504d776ff2ee44e8867454d73a821646",
       "version_major": 2,
       "version_minor": 0
      },
      "text/plain": [
       "VBox(children=(Figure(camera=PerspectiveCamera(fov=46.0, position=(0.0, 0.0, 2.0), projectionMatrix=(1.0, 0.0,…"
      ]
     },
     "metadata": {},
     "output_type": "display_data"
    }
   ],
   "source": [
    "nviz.plot_boutons(neuron_obj_2)"
   ]
  },
  {
   "cell_type": "code",
   "execution_count": 151,
   "metadata": {},
   "outputs": [],
   "source": [
    "neuron_obj_2.compute_boutons_volume()"
   ]
  },
  {
   "cell_type": "code",
   "execution_count": 153,
   "metadata": {},
   "outputs": [
    {
     "data": {
      "text/plain": [
       "[226412538.12000528,\n",
       " 91963919.92167154,\n",
       " 106800571.95506349,\n",
       " 554450659.406709,\n",
       " 481275270.4785156,\n",
       " 500968526.67661536,\n",
       " 446376900.78326416,\n",
       " 101591350.12836137,\n",
       " 356313831.3534342,\n",
       " 255989528.59006754,\n",
       " 110827004.64172363,\n",
       " 776894043.9084616,\n",
       " 503275578.6416321,\n",
       " 184803392.8649953,\n",
       " 314087237.21998656,\n",
       " 408026309.75185645,\n",
       " 242114461.77500406,\n",
       " 182309276.16323853,\n",
       " 176559387.8984553,\n",
       " 229544345.1082967,\n",
       " 455141174.4899495,\n",
       " 126576326.09005737,\n",
       " 71901627.72001138,\n",
       " 684353704.5216064,\n",
       " 272585633.4301694,\n",
       " 79368686.20665486,\n",
       " 480029913.911499,\n",
       " 208133242.64333263,\n",
       " 157942736.8634081,\n",
       " 426890879.2616628,\n",
       " 231158099.03998438,\n",
       " 139402894.06667072,\n",
       " 341489762.7916056,\n",
       " 141455296.2800393,\n",
       " 201688463.95167032,\n",
       " 153733428.90669757,\n",
       " 67216240.87666829,\n",
       " 213209427.79838306,\n",
       " 330801722.85672,\n",
       " 193194990.56833902,\n",
       " 102617408.31002231,\n",
       " 81069850.48164876,\n",
       " 35069616.2333374,\n",
       " 32484979.218343098,\n",
       " 123658243.52665201,\n",
       " 125676338.98332722,\n",
       " 131301025.49169667,\n",
       " 30478332.783334095,\n",
       " 124049704.2483317,\n",
       " 131755296.60331726,\n",
       " 153230363.36669922,\n",
       " 89655940.87166849,\n",
       " 128270337.18155923,\n",
       " 40119223.15498352,\n",
       " 72733651.4150238,\n",
       " 83473755.04165056,\n",
       " 28084093.23332723,\n",
       " 108406487.578331,\n",
       " 59216445.02992884,\n",
       " 100195820.4050242,\n",
       " 50414938.42665863,\n",
       " 30657263.259994507,\n",
       " 78871747.33996454,\n",
       " 46009026.28500366,\n",
       " 45050048.8316803,\n",
       " 28403157.814992268,\n",
       " 38264495.298339844,\n",
       " 33700279.326675415,\n",
       " 20233210.323349,\n",
       " 19895120.47500229,\n",
       " 33034725.208346047,\n",
       " 502034276.58326656,\n",
       " 331514357.86668396,\n",
       " 943538136.1831589,\n",
       " 321755729.2333226,\n",
       " 275982140.8833618,\n",
       " 279236836.9666341,\n",
       " 286034791.7666346,\n",
       " 397997211.916687,\n",
       " 307375124.4799677,\n",
       " 319810102.02176917,\n",
       " 418868943.8501383,\n",
       " 242836714.1032222,\n",
       " 337609113.73676044,\n",
       " 300268476.8500366,\n",
       " 81521321.95000711,\n",
       " 217238577.49996057,\n",
       " 185535937.04996744,\n",
       " 233152253.94995624,\n",
       " 52942000.26668294,\n",
       " 145411940.09995776,\n",
       " 417798124.116628,\n",
       " 63244914.083361305,\n",
       " 183518324.55331293,\n",
       " 130998827.84999593,\n",
       " 69560260.2666626,\n",
       " 284601682.8833516,\n",
       " 31683970.94999186,\n",
       " 228451767.29996744,\n",
       " 65272126.79998112,\n",
       " 82055885.16660786,\n",
       " 183186898.29996744,\n",
       " 28287064.56665929,\n",
       " 263529555.0334015,\n",
       " 254287201.8899892,\n",
       " 242546976.65667725,\n",
       " 29688438.26668294,\n",
       " 175897707.883433,\n",
       " 160968258.18332225,\n",
       " 48303067.283325195,\n",
       " 57845939.8666687,\n",
       " 159450936.349912,\n",
       " 101602109.78334045,\n",
       " 27422853.616667427,\n",
       " 37059959.64998007,\n",
       " 158327795.88335162,\n",
       " 62100182.76666514,\n",
       " 26974976.345007576,\n",
       " 118199272.59991455,\n",
       " 120011646.1833318,\n",
       " 71362967.7166748,\n",
       " 126567583.24998982,\n",
       " 112304944.91670735,\n",
       " 29247868.14999008,\n",
       " 67990975.01667404,\n",
       " 21058033.266667683,\n",
       " 36878574.533335365,\n",
       " 28441108.850001015,\n",
       " 49077502.24997965,\n",
       " 30844090.083353676,\n",
       " 59628394.699910164,\n",
       " 54911645.81665039,\n",
       " 30768137.924995422,\n",
       " 36354961.916666664,\n",
       " 23616353.49999491,\n",
       " 1639485044.2834473,\n",
       " 302243005.7150847,\n",
       " 150050671.58335367,\n",
       " 134045425.12340927,\n",
       " 272267178.75008136,\n",
       " 351167403.0999616,\n",
       " 305267483.3517252,\n",
       " 369612875.0731576,\n",
       " 54695898.26332346,\n",
       " 215673479.81672412,\n",
       " 201970114.5834147,\n",
       " 325219776.1083323,\n",
       " 205617866.059995,\n",
       " 118036261.38163757,\n",
       " 43191924.86665852,\n",
       " 25532779.715006508,\n",
       " 171418807.7783578,\n",
       " 27059339.519999184,\n",
       " 91511879.5332845,\n",
       " 78235181.13839848,\n",
       " 23006987.461664833,\n",
       " 60015482.80000559,\n",
       " 41041173.99998474,\n",
       " 41723916.89503987,\n",
       " 64170553.18333435,\n",
       " 46194922.23832829,\n",
       " 47004555.483317055,\n",
       " 31422951.861688294,\n",
       " 30078222.39167706,\n",
       " 34006067.03333409,\n",
       " 34448638.3499705,\n",
       " 29657225.62500254,\n",
       " 433244680.34993553,\n",
       " 415752703.9834238,\n",
       " 394541159.9834086,\n",
       " 249235174.44996133,\n",
       " 184110761.73490396,\n",
       " 175523682.48331705,\n",
       " 273197718.9165751,\n",
       " 250470534.7232132,\n",
       " 269124715.48672736,\n",
       " 244556379.6999715,\n",
       " 407662651.3166529,\n",
       " 252744165.86661783,\n",
       " 244156536.83331996,\n",
       " 137123357.58329296,\n",
       " 191671322.63341776,\n",
       " 257322896.81663385,\n",
       " 192129333.4833272,\n",
       " 197815239.6165034,\n",
       " 143158228.73331705,\n",
       " 94011639.49993896,\n",
       " 239884049.28336588,\n",
       " 473376903.6549797,\n",
       " 310961039.57486975,\n",
       " 198928432.4832738,\n",
       " 272653667.6833089,\n",
       " 435803835.5332845,\n",
       " 27335641.63334147,\n",
       " 226849099.00004068,\n",
       " 77935018.43335469,\n",
       " 38487221.03331629,\n",
       " 34196430.2666626,\n",
       " 150985355.98329163,\n",
       " 96558941.06665166,\n",
       " 73087223.83337593,\n",
       " 77899314.51664224,\n",
       " 138470813.58329263,\n",
       " 106729680.42507298,\n",
       " 118386496.91674805,\n",
       " 117532722.74998474,\n",
       " 21984062.60000006,\n",
       " 90041945.5166626,\n",
       " 70362555.33332315,\n",
       " 28757911.266663868,\n",
       " 68233172.40000534,\n",
       " 46587821.849975586,\n",
       " 30983583.833351135,\n",
       " 44412348.600001015,\n",
       " 51937256.30000178,\n",
       " 29695762.73332723,\n",
       " 52896062.88334147,\n",
       " 399714310.16999304,\n",
       " 224066861.98170978,\n",
       " 194650083.57831955,\n",
       " 229734758.67160797,\n",
       " 230113976.8433838,\n",
       " 257742422.21655273,\n",
       " 161902830.43334547,\n",
       " 224349550.5966568,\n",
       " 140226237.66336417,\n",
       " 33817794.13000168,\n",
       " 24107863.04665947,\n",
       " 21077748.97165934,\n",
       " 53367961.67663256,\n",
       " 31034755.023308754,\n",
       " 164452085.89998817,\n",
       " 94332974.0183843,\n",
       " 159553314.04668808,\n",
       " 304367188.42165756,\n",
       " 82665761.10000196,\n",
       " 177973111.3133939,\n",
       " 28193514.658329643,\n",
       " 32029121.61500168,\n",
       " 32054713.403330483,\n",
       " 50132018.45832443,\n",
       " 39645212.49333191,\n",
       " 29833341.92832438,\n",
       " 116147423.72666422,\n",
       " 417049100.62158453,\n",
       " 136376713.4066569,\n",
       " 60668115.76002089,\n",
       " 57608924.121658325,\n",
       " 937005543.0697987,\n",
       " 527451634.7565918,\n",
       " 189113222.26330692,\n",
       " 156152241.81496683,\n",
       " 539264888.2115986,\n",
       " 281000936.0083211,\n",
       " 42033585.06833903,\n",
       " 222676523.9466756,\n",
       " 243746929.4067033,\n",
       " 420874091.9350077,\n",
       " 78666813.00331624,\n",
       " 116223098.28826776,\n",
       " 53321797.1683197,\n",
       " 28378056.541666664,\n",
       " 109159321.96659341,\n",
       " 328081587.43164504,\n",
       " 292459114.31833774,\n",
       " 211285277.26004535,\n",
       " 228067530.39001465,\n",
       " 123088282.59667969,\n",
       " 37030692.77501424,\n",
       " 246920323.60660425,\n",
       " 99555978.89664713,\n",
       " 100881490.47832234,\n",
       " 78150808.61998811,\n",
       " 157652594.2550284,\n",
       " 86647533.77833302,\n",
       " 114566003.1800181,\n",
       " 95363278.62503305,\n",
       " 81465125.44498189,\n",
       " 107114160.45002747,\n",
       " 64582730.18999884,\n",
       " 102107791.84999593,\n",
       " 48970531.760002136,\n",
       " 21627010.303300858,\n",
       " 33540977.873357136,\n",
       " 33613438.349995926,\n",
       " 46521102.19666544,\n",
       " 51898726.40667088,\n",
       " 24795114.458328247,\n",
       " 21944150.415044148,\n",
       " 223223200.8533147,\n",
       " 326814110.00337344,\n",
       " 76587615.03831418,\n",
       " 137879557.60999042,\n",
       " 48563826.09330241,\n",
       " 105411126.53336588,\n",
       " 41714340.228356674,\n",
       " 45705976.938344315,\n",
       " 173843485.58163452,\n",
       " 103830315.6683019,\n",
       " 700117160.5383198,\n",
       " 622922765.8299332,\n",
       " 359570621.0533447,\n",
       " 97716288.45167542,\n",
       " 47279846.92167155,\n",
       " 823012765.8833618,\n",
       " 308787606.30669653,\n",
       " 305600515.3099365,\n",
       " 372165041.77833045,\n",
       " 157445847.3284505,\n",
       " 129093292.54346211,\n",
       " 215745165.51163736,\n",
       " 254911581.09006244,\n",
       " 296117843.8799642,\n",
       " 310959245.26673377,\n",
       " 75202409.79336548,\n",
       " 238811710.5316607,\n",
       " 99941603.12831624,\n",
       " 46685442.70504073,\n",
       " 79394166.35343933,\n",
       " 136460855.21169025,\n",
       " 101395716.84998575,\n",
       " 36018681.64664713,\n",
       " 56213731.8683141,\n",
       " 22723023.94000244,\n",
       " 264105024.16662598,\n",
       " 1933592828.89977,\n",
       " 564218176.6833191,\n",
       " 543463375.1900227,\n",
       " 326276275.0499878,\n",
       " 544589123.3999939,\n",
       " 434325166.6334635,\n",
       " 294291822.58335364,\n",
       " 466417737.63340247,\n",
       " 174012499.5099662,\n",
       " 407816615.3833008,\n",
       " 444381623.28329337,\n",
       " 233831402.43332416,\n",
       " 304129063.17663574,\n",
       " 569874264.9497477,\n",
       " 311453288.10005695,\n",
       " 143029994.166687,\n",
       " 275320722.79996234,\n",
       " 219497717.73337808,\n",
       " 377516759.5016581,\n",
       " 328945634.36668646,\n",
       " 175592792.2833252,\n",
       " 290100734.78343105,\n",
       " 52971847.91668701,\n",
       " 203209903.72506204,\n",
       " 29144831.966650642,\n",
       " 212434796.5833028,\n",
       " 158646175.10004678,\n",
       " 184708728.3333333,\n",
       " 195998289.28166834,\n",
       " 134768816.149971,\n",
       " 24765968.066673912,\n",
       " 70097269.51663652,\n",
       " 66927237.66333008,\n",
       " 182681412.8666458,\n",
       " 23644074.599975586,\n",
       " 28908088.25002543,\n",
       " 80533194.09992345,\n",
       " 84475926.21668434,\n",
       " 59239573.18332926,\n",
       " 35368132.90000407,\n",
       " 25057881.86668396,\n",
       " 29699067.516672768,\n",
       " 46321388.78335571,\n",
       " 88082664.00003815,\n",
       " 50142471.564969376,\n",
       " 50196145.983306885,\n",
       " 26541848.40001424,\n",
       " 47671923.65000407,\n",
       " 22546111.24999491,\n",
       " 23495769.38331095,\n",
       " 225759793.4749953,\n",
       " 255789347.56000453,\n",
       " 236871513.54497337,\n",
       " 211213094.26663843,\n",
       " 659911966.1483256,\n",
       " 215702219.89665604,\n",
       " 48622142.34832732,\n",
       " 413825395.4032389,\n",
       " 251087051.50335756,\n",
       " 431979728.0814794,\n",
       " 308146015.32165015,\n",
       " 43031069.24166361,\n",
       " 33148097.50001017,\n",
       " 275598952.4732869,\n",
       " 380536088.52663165,\n",
       " 224800216.1914978,\n",
       " 213937298.92507425,\n",
       " 47559435.69170085,\n",
       " 178763600.44163513,\n",
       " 139593215.72493744,\n",
       " 120250164.17002359,\n",
       " 36609204.40664927,\n",
       " 53717416.59334246,\n",
       " 42469479.70163981,\n",
       " 402116215.8682454,\n",
       " 130108930.03831649,\n",
       " 777318586.4280598,\n",
       " 227333967.51846313,\n",
       " 272859469.45501167,\n",
       " 536643497.1466878,\n",
       " 219648340.84342447,\n",
       " 138113896.3400065,\n",
       " 347349529.83176166,\n",
       " 277736406.1633275,\n",
       " 185184300.05159503,\n",
       " 50306604.63334147,\n",
       " 27342494.92999776,\n",
       " 166691056.2516581,\n",
       " 227748553.68170166,\n",
       " 160643004.6932373,\n",
       " 91867882.84999609,\n",
       " 29133863.603331245,\n",
       " 100232694.75002034,\n",
       " 121320915.14998372,\n",
       " 152087769.87999278,\n",
       " 115808425.02498372,\n",
       " 75809087.47163835,\n",
       " 41878381.19165993,\n",
       " 30207450.670010246,\n",
       " 133679290.04664929,\n",
       " 23582599.89167404,\n",
       " 74708723.62666321,\n",
       " 41871577.18168131,\n",
       " 64867884.00835673,\n",
       " 47369181.07999642,\n",
       " 47356508.69666544,\n",
       " 39630964.67834981,\n",
       " 65733468.85668818,\n",
       " 70422181.404953,\n",
       " 97627193.54162088,\n",
       " 23823119.401652016,\n",
       " 48473634.82502238,\n",
       " 23987101.033333458,\n",
       " 81690564.77333958,\n",
       " 656317915.3332926,\n",
       " 314747028.96671546,\n",
       " 253673084.9167277,\n",
       " 383931749.38330585,\n",
       " 142922678.6666514,\n",
       " 113167057.69996133,\n",
       " 333044953.46668494,\n",
       " 91578072.26163736,\n",
       " 187805357.68328857,\n",
       " 268483999.783315,\n",
       " 275905668.41656744,\n",
       " 49851793.21665064,\n",
       " 336298874.9333089,\n",
       " 139600210.6833089,\n",
       " 54072896.10497284,\n",
       " 132905649.8999939,\n",
       " 150414942.73331705,\n",
       " 143601669.8166504,\n",
       " 65971574.216687515,\n",
       " 222895053.4165039,\n",
       " 299852500.2666562,\n",
       " 176953833.23162842,\n",
       " 158020159.25,\n",
       " 150606883.74998727,\n",
       " 246622034.74334717,\n",
       " 169321265.9000117,\n",
       " 120550761.66667238,\n",
       " 238761277.2333787,\n",
       " 229767077.3000183,\n",
       " 210296860.66662598,\n",
       " 254138254.29839134,\n",
       " 128510709.5333379,\n",
       " 221633170.69995117,\n",
       " 201369458.59824625,\n",
       " 144600563.3667062,\n",
       " 57131912.693330124,\n",
       " 58215054.36664581,\n",
       " 49642601.03330485,\n",
       " 77467377.91668287,\n",
       " 121593897.94999059,\n",
       " 52952460.13333638,\n",
       " 24465145.850006104,\n",
       " 44611818.151652016,\n",
       " 39385674.549992874,\n",
       " 34858113.06667582,\n",
       " 53224305.383282185,\n",
       " 40441152.278315224,\n",
       " 50321097.36665852,\n",
       " 31303505.199986774,\n",
       " 1797964922.579722,\n",
       " 511980275.0916341,\n",
       " 1038533328.3830401,\n",
       " 216755047.96667606,\n",
       " 338639443.57995474,\n",
       " 283957994.99503577,\n",
       " 325105587.8732961,\n",
       " 337787563.7666931,\n",
       " 86109341.23999023,\n",
       " 194379308.23995972,\n",
       " 174530318.45999146,\n",
       " 169312813.13338214,\n",
       " 107648030.28496297,\n",
       " 246140574.66503906,\n",
       " 159297137.48180643,\n",
       " 233205101.48508197,\n",
       " 340442690.3165995,\n",
       " 407889541.88995916,\n",
       " 29683463.071624756,\n",
       " 168859969.47171783,\n",
       " 232036690.08669788,\n",
       " 211376125.6483294,\n",
       " 72102480.27502441,\n",
       " 196556082.39499918,\n",
       " 154173916.8900086,\n",
       " 280766180.0649007,\n",
       " 246769433.7632904,\n",
       " 460802367.3350423,\n",
       " 76708621.63169098,\n",
       " 63421897.8100179,\n",
       " 26661065.231674194,\n",
       " 64240695.52501424,\n",
       " 201647544.0333557,\n",
       " 138681977.2233467,\n",
       " 192256904.830005,\n",
       " 70089241.31831868,\n",
       " 111773837.72665405,\n",
       " 40171049.279997505,\n",
       " 46688574.55329895,\n",
       " 43689059.728377655,\n",
       " 168336318.71995035,\n",
       " 33763702.996671036,\n",
       " 86593359.66335042,\n",
       " 54954975.28833103,\n",
       " 22001285.236667633,\n",
       " 21441308.974985756,\n",
       " 41954019.945004776,\n",
       " 36700019.43168131,\n",
       " 52199629.06668599,\n",
       " 43738089.09833145,\n",
       " 54203686.50998564,\n",
       " 45765842.30507405,\n",
       " 20057515.61499532,\n",
       " 24707919.664993286,\n",
       " 99035883.806722,\n",
       " 282480097.5183614,\n",
       " 612053923.4749565,\n",
       " 242771459.64186603,\n",
       " 121968015.70006306,\n",
       " 182696067.69329453,\n",
       " 37716343.56501261,\n",
       " 143518103.68335214,\n",
       " 97083734.57670084,\n",
       " 87437048.54170544,\n",
       " 28625209.034998573,\n",
       " 56751413.73333867,\n",
       " 572372955.3667532,\n",
       " 312371143.96663666,\n",
       " 509624330.29984343,\n",
       " 554147039.7334391,\n",
       " 251571851.966643,\n",
       " 146684908.16664886,\n",
       " 246059556.48325092,\n",
       " 92628968.46662903,\n",
       " 64250081.69998677,\n",
       " 186319420.83335114,\n",
       " 280149749.49997836,\n",
       " 174320606.1383565,\n",
       " 26766668.15000979,\n",
       " 104956075.98334756,\n",
       " 154285396.17668787,\n",
       " 89348966.80998993,\n",
       " 142001398.13502502,\n",
       " 31590630.383361816,\n",
       " 140420931.45003763,\n",
       " 60708419.54999033,\n",
       " 68864914.58331299,\n",
       " 32459917.26668294,\n",
       " 31519916.933347065,\n",
       " 305520129.22666323,\n",
       " 206551357.96000162,\n",
       " 40123618.541653946,\n",
       " 78968681.36169434,\n",
       " 203701413.44334412,\n",
       " 2401861179.350155,\n",
       " 186682642.98321533,\n",
       " 337216850.33332443,\n",
       " 279121372.650004,\n",
       " 224868012.7166748,\n",
       " 528114236.88500977,\n",
       " 258846100.19331867,\n",
       " 295298822.4549967,\n",
       " 908883087.9501368,\n",
       " 344357048.89994967,\n",
       " 97740399.9666748,\n",
       " 163740324.56663322,\n",
       " 364317616.74991095,\n",
       " 377215989.38334143,\n",
       " 132984025.61671701,\n",
       " 247915500.6999486,\n",
       " 460087180.6998291,\n",
       " 245629369.20157495,\n",
       " 463365377.19998676,\n",
       " 259712829.51668292,\n",
       " 333129161.1850128,\n",
       " 176480281.19997787,\n",
       " 46889479.333343506,\n",
       " 114314314.6166954,\n",
       " 484013352.62989295,\n",
       " 180145153.0166626,\n",
       " 475901467.1664632,\n",
       " 128369731.83332825,\n",
       " 176964678.00002033,\n",
       " 47524747.533335365,\n",
       " 154647908.93340284,\n",
       " 188086912.98333484,\n",
       " 309839913.55670166,\n",
       " 144335403.76672617,\n",
       " 70833106.9500122,\n",
       " 24150638.083330788,\n",
       " 57669307.083353676,\n",
       " 78233258.84999847,\n",
       " 88317010.08337656,\n",
       " 26898432.94999949,\n",
       " 125080614.35662842,\n",
       " 55997721.33333333,\n",
       " 54621966.00002098,\n",
       " 161081212.10501224,\n",
       " 128801168.20001729,\n",
       " 104447390.51671346,\n",
       " 81140986.04998016,\n",
       " 31940756.600016274,\n",
       " 39109446.16671753,\n",
       " 29322622.165018715,\n",
       " 33452501.566679955,\n",
       " 55844247.76667023,\n",
       " 34106262.333332814,\n",
       " 36506292.03333855,\n",
       " 56804483.33332316,\n",
       " 25347591.733317055,\n",
       " 21969170.366663612,\n",
       " 24200242.49999237,\n",
       " 32504061.31666056,\n",
       " 30733072.51668294,\n",
       " 39177906.6999944,\n",
       " 205573114.92830402,\n",
       " 402666345.6899706,\n",
       " 287233627.09012854,\n",
       " 190959843.15327707,\n",
       " 183925622.99672443,\n",
       " 209488048.07164508,\n",
       " 157081937.17826653,\n",
       " 102692995.13167317,\n",
       " 36428908.71500651,\n",
       " 148718865.0966797,\n",
       " 72187760.06334972,\n",
       " 499025011.06679785,\n",
       " 344782089.44336444,\n",
       " 104274137.25500488,\n",
       " 233139546.08337402,\n",
       " 116801630.17332967,\n",
       " 182935007.23330146,\n",
       " 295557349.2166956,\n",
       " 278053674.7232958,\n",
       " 238840785.74657947,\n",
       " 117243115.28499348,\n",
       " 30174831.808337606,\n",
       " 335357833.0801035,\n",
       " 342818267.5832901,\n",
       " 107704137.43336487,\n",
       " 282783408.04168445,\n",
       " 375649733.6030884,\n",
       " 484079149.80517066,\n",
       " 154245909.50330606,\n",
       " 405935579.7050267,\n",
       " 172095084.3733037,\n",
       " 391135129.64347327,\n",
       " 305825399.7466634,\n",
       " 151571609.14500427,\n",
       " 419078998.61009467,\n",
       " 190059540.36502075,\n",
       " 272670128.77005005,\n",
       " 83579072.32669671,\n",
       " 401183829.23838294,\n",
       " 169889484.8232142,\n",
       " 66323916.84838867,\n",
       " 109119652.13006654,\n",
       " 216050679.83164978,\n",
       " 67905736.64498901,\n",
       " 90724593.19333902,\n",
       " 155025671.77333194,\n",
       " 29756640.298332848,\n",
       " 81886491.66828664,\n",
       " 66546664.87327067,\n",
       " 38881819.694994606,\n",
       " 102768731.31670125,\n",
       " 27327815.465020813,\n",
       " 87969503.16670735,\n",
       " 102808972.02168527,\n",
       " 44980981.903325394,\n",
       " 75892829.46333821,\n",
       " 39159390.65502675,\n",
       " 25942218.698340096,\n",
       " 33308403.348318733,\n",
       " 33723059.92666371,\n",
       " 21481198.8783404,\n",
       " 23117715.958351135,\n",
       " 1016901400.7733967,\n",
       " 335204065.8502248,\n",
       " 1093228580.4584298,\n",
       " 626159327.6312662,\n",
       " 465259504.26178455,\n",
       " 187407372.94493103,\n",
       " 262425144.6866862,\n",
       " 52163882.89999644,\n",
       " 319064445.7332674,\n",
       " 389707690.38167316,\n",
       " 143959981.3016707,\n",
       " 276300885.8966217,\n",
       " 166449502.0699717,\n",
       " 234720204.8618164,\n",
       " 204460500.01335144,\n",
       " 50965761.7666626,\n",
       " 263884092.10165912,\n",
       " 331829673.713342,\n",
       " 55603204.223345436,\n",
       " 40856614.41330973,\n",
       " 44028306.77331543,\n",
       " 180761016.1633008,\n",
       " 224191102.59499502,\n",
       " 208208646.5149727,\n",
       " 199029144.59665933,\n",
       " 212959010.2532997,\n",
       " 329029456.483408,\n",
       " 132807440.06672159,\n",
       " 114566494.28177896,\n",
       " 250660076.5099894,\n",
       " 75579838.09839693,\n",
       " 56977877.20665292,\n",
       " 106413178.13501866,\n",
       " 290157395.90656024,\n",
       " 86421833.18003526,\n",
       " 90978865.76501465,\n",
       " 141254435.35501224,\n",
       " 121728361.41178384,\n",
       " 132457804.23496754,\n",
       " 38861185.918309525,\n",
       " 36833767.51664225,\n",
       " 29976734.125,\n",
       " 86381389.85324097,\n",
       " 85009703.38165283,\n",
       " 77456173.09500122,\n",
       " 28942692.903340656,\n",
       " 94632270.2332789,\n",
       " 41970290.68332672,\n",
       " 32198235.124973297,\n",
       " 26092947.458302815,\n",
       " 43111207.56995646,\n",
       " 50522503.15497843,\n",
       " 36583439.236665726,\n",
       " 34918044.23499075,\n",
       " 47146401.25666809,\n",
       " 24377886.020003635,\n",
       " 27568666.97499593,\n",
       " 1391039090.8829918,\n",
       " 213323297.66672006,\n",
       " 400353451.2500305,\n",
       " 202762801.71671548,\n",
       " 449091268.3333333,\n",
       " 277155616.4666341,\n",
       " 337115401.8833529,\n",
       " 218411205.0999959,\n",
       " 1472651656.8338673,\n",
       " 135644898.1833496,\n",
       " 168873282.0666237,\n",
       " 168744112.42500812,\n",
       " 337165123.23331004,\n",
       " 240560337.38330013,\n",
       " 518831873.4168294,\n",
       " 381055177.0667,\n",
       " 372724857.83013916,\n",
       " 343343606.11666167,\n",
       " 302849133.89992774,\n",
       " 253957927.10003662,\n",
       " 226577306.53348508,\n",
       " 185728938.2166748,\n",
       " 198837013.20004272,\n",
       " 301389738.9832916,\n",
       " 314403245.9499512,\n",
       " 257183197.03323108,\n",
       " 109219359.50002034,\n",
       " 482360512.02018225,\n",
       " 668606489.9501088,\n",
       " 398427884.84000903,\n",
       " 57712585.349995926,\n",
       " 141682245.19997692,\n",
       " 341861348.94963324,\n",
       " 369577461.9999186,\n",
       " 317409278.75006104,\n",
       " 340418756.9999695,\n",
       " 208385267.20001727,\n",
       " 104339211.64996338,\n",
       " 209809914.1832606,\n",
       " 67298348.31664021,\n",
       " 20363148.266665775,\n",
       " 76997585.26669312,\n",
       " 190920218.60009766,\n",
       " 69367828.30003865,\n",
       " 35481111.68333689,\n",
       " 33791990.95001221,\n",
       " 133249805.86671193,\n",
       " 89152041.86669922,\n",
       " 83580486.85663858,\n",
       " 137883456.3166275,\n",
       " 54613559.78333028,\n",
       " 80000412.05002466,\n",
       " 50281599.58333079,\n",
       " 72816809.03333902,\n",
       " 45874629.45000966,\n",
       " 81028536.81666628,\n",
       " 83121030.25001779,\n",
       " 53536052.81664021,\n",
       " 49098163.933353424,\n",
       " 43003455.14999294,\n",
       " 26642668.346639633,\n",
       " 25017616.59999593,\n",
       " 183507628.97501627,\n",
       " 159842620.3399612,\n",
       " 241926414.26035815,\n",
       " 53727533.804992676,\n",
       " 102773142.84834798,\n",
       " 161881193.11002094,\n",
       " 172269750.93163806,\n",
       " 273929125.1982269,\n",
       " 93673242.19002278,\n",
       " 33437347.191640217,\n",
       " 28053094.81997617,\n",
       " 493521243.4166666,\n",
       " 927250910.2163658,\n",
       " 445097782.1667887,\n",
       " 704002334.1500161,\n",
       " 283431742.35005695,\n",
       " 442648715.3333336,\n",
       " 351026616.8499349,\n",
       " 175198016.98342958,\n",
       " 106825906.81669107,\n",
       " 468313537.0498682,\n",
       " 192257256.2834676,\n",
       " 352790048.7666829,\n",
       " 258758761.31658936,\n",
       " 121324156.0333201,\n",
       " 158614256.56661668,\n",
       " 319911326.3000081,\n",
       " 104748903.83334604,\n",
       " 99428045.59999593,\n",
       " 288843436.36653644,\n",
       " 351013123.95003253,\n",
       " 189438501.85002136,\n",
       " 187488567.64992267,\n",
       " 183205288.50004068,\n",
       " 336667624.0666504,\n",
       " 295795800.6330124,\n",
       " 377001147.6000188,\n",
       " 95947863.90000406,\n",
       " 541018260.5830485,\n",
       " 245667363.2336731,\n",
       " 361743870.9500104,\n",
       " 300232518.1166687,\n",
       " 23507599.150004067,\n",
       " 45978789.06667073,\n",
       " 203040990.75007373,\n",
       " 129224499.76664224,\n",
       " 267760648.98335773,\n",
       " 312791154.6832682,\n",
       " 85972547.2333552,\n",
       " 152254744.05004883,\n",
       " 107448985.30002308,\n",
       " 337986405.7832514,\n",
       " 261267618.8499654,\n",
       " 69888221.64997736,\n",
       " 227772219.28336588,\n",
       " 102983003.38335514,\n",
       " 63075682.21669006,\n",
       " 67103416.749959625,\n",
       " 81076095.65000916,\n",
       " 61013865.18336487,\n",
       " 123520538.31665039,\n",
       " 129957603.29995473,\n",
       " 40592938.099975586,\n",
       " 106411597.69999185,\n",
       " 100243387.51664224,\n",
       " 104187977.46663919,\n",
       " 69554598.04997762,\n",
       " 83906017.54999033,\n",
       " 86789829.68331686,\n",
       " 100163731.24996693,\n",
       " 22283171.766672768,\n",
       " 98749931.31667836,\n",
       " 75628275.94998422,\n",
       " 67082852.69998169,\n",
       " 58308991.183340706,\n",
       " 45536759.01663939,\n",
       " 37331497.26667658,\n",
       " 35396464.01663208,\n",
       " 45950197.88335927,\n",
       " 22947052.39999771,\n",
       " 33774536.8833313,\n",
       " 33920286.11666107,\n",
       " 33141578.65000089,\n",
       " 41066772.76666768,\n",
       " 43338099.7666626,\n",
       " 38041160.43332863,\n",
       " 31120457.450003304,\n",
       " 30926784.13334147,\n",
       " 37670206.58332825,\n",
       " 21234001.316646457,\n",
       " 29098947.266692955,\n",
       " 29410075.21666463,\n",
       " 405777133.3499349,\n",
       " 129007667.63339233,\n",
       " 896973150.7168782,\n",
       " 388333334.5166651,\n",
       " 247520135.48324203,\n",
       " 805238619.0500507,\n",
       " 546041705.7499372,\n",
       " 207211865.7999878,\n",
       " 152542395.6333173,\n",
       " 410142934.4166498,\n",
       " 185375099.89999008,\n",
       " 243853428.56661987,\n",
       " 89269033.06666818,\n",
       " 564459283.7166659,\n",
       " 85405057.91665521,\n",
       " 541110240.2499516,\n",
       " 301560115.5499064,\n",
       " 603863331.2168076,\n",
       " 162248504.3999837,\n",
       " 128593435.43331273,\n",
       " 200036553.93332925,\n",
       " 131737684.39997354,\n",
       " 164072232.35002136,\n",
       " 249862916.04992676,\n",
       " 466091191.83320105,\n",
       " 38166039.83333588,\n",
       " 243932869.7166646,\n",
       " 159820514.70004463,\n",
       " 35405363.0,\n",
       " 27507453.149996437,\n",
       " 174416922.86669922,\n",
       " 122696713.33333333,\n",
       " 196669450.25,\n",
       " 71252840.51666005,\n",
       " 153191253.81673175,\n",
       " 44674154.76668294,\n",
       " 194952759.19992065,\n",
       " 148024788.6833458,\n",
       " 26147729.883346558,\n",
       " 134405381.66666666,\n",
       " 53264441.799967445,\n",
       " 26460954.54998334,\n",
       " 139410706.0000712,\n",
       " 105801736.24993896,\n",
       " 144622137.31669107,\n",
       " 100628288.24998982,\n",
       " 166593246.4500122,\n",
       " 22647142.616658527,\n",
       " 41620716.083311714,\n",
       " 31642137.499997456,\n",
       " 65499889.19997151,\n",
       " 52332154.11667378,\n",
       " 127696144.76665242,\n",
       " 105352960.23332468,\n",
       " 68282669.78334554,\n",
       " 38356899.366686344,\n",
       " 33792572.63332192,\n",
       " 25523594.733337402,\n",
       " 78966120.2333323,\n",
       " 54315226.416651405,\n",
       " 54178321.416666664,\n",
       " 21572379.266667683,\n",
       " 20815911.33332316,\n",
       " 57521455.29999542,\n",
       " 39587529.900009155,\n",
       " 24079710.016668953,\n",
       " 622485052.0664532,\n",
       " 824064428.0495911,\n",
       " 367384933.35001624,\n",
       " 152780359.66671243,\n",
       " 402220364.05006343,\n",
       " 462728453.96663916,\n",
       " 244624265.25006104,\n",
       " 587448798.4665934,\n",
       " 128490103.3500212,\n",
       " 171788145.1166636,\n",
       " 188592446.31666374,\n",
       " 160851269.96665955,\n",
       " 235372849.1332194,\n",
       " 53844039.03330485,\n",
       " 159118503.48335773,\n",
       " 302880205.4333496,\n",
       " 256529557.50011602,\n",
       " 161799563.88336435,\n",
       " ...]"
      ]
     },
     "execution_count": 153,
     "metadata": {},
     "output_type": "execute_result"
    }
   ],
   "source": [
    "neuron_obj_2.spines_volume"
   ]
  },
  {
   "cell_type": "markdown",
   "metadata": {},
   "source": [
    "# checking individual boutons (for other additional filters)"
   ]
  },
  {
   "cell_type": "code",
   "execution_count": 170,
   "metadata": {},
   "outputs": [
    {
     "data": {
      "text/plain": [
       "[0, 2, 3, 5, 7, 12, 13, 14, 15, 16, 17, 27, 28]"
      ]
     },
     "execution_count": 170,
     "metadata": {},
     "output_type": "execute_result"
    }
   ],
   "source": [
    "ax_name = neuron_obj_2.axon_limb_name\n",
    "prospective_branches = neuron_obj_2.axon_limb_branch_dict[ax_name]\n",
    "b_with_boutons = [k for k in prospective_branches if neuron_obj_2[ax_name][k].n_boutons > 0]\n",
    "b_with_boutons"
   ]
  },
  {
   "cell_type": "code",
   "execution_count": 209,
   "metadata": {},
   "outputs": [],
   "source": [
    "volume_ratios = np.array([tu.mesh_volume_ratio(k) for k in bouton_meshes])\n",
    "volume_errors = np.where(volume_ratios<2)[0]"
   ]
  },
  {
   "cell_type": "code",
   "execution_count": 206,
   "metadata": {},
   "outputs": [
    {
     "data": {
      "text/plain": [
       "array([2.35728986, 2.36371472, 2.21300833, 2.07958173, 2.17048076,\n",
       "       2.43799677, 2.48403837, 2.17711226, 2.55793881, 2.20340208,\n",
       "       1.96083665, 2.13110101, 2.43495484, 2.38338862, 2.1841239 ,\n",
       "       2.30721285, 2.26343746, 2.4920921 , 2.45302623, 2.22754426,\n",
       "       2.56358124, 2.30413927, 2.14852485, 2.70164685, 2.09596081,\n",
       "       1.94378026, 1.91964738, 2.02703968, 2.37487656, 2.06207596,\n",
       "       2.59947089, 2.2714665 , 2.05568381, 2.13194046, 2.13570053,\n",
       "       2.39512235, 2.16790986, 2.40437386, 2.46310181, 2.70096524,\n",
       "       2.50821134, 2.09300565, 1.91457095, 2.04208003, 2.36738297,\n",
       "       2.04494159, 2.19691263, 2.19078116, 1.85380693])"
      ]
     },
     "execution_count": 206,
     "metadata": {},
     "output_type": "execute_result"
    }
   ],
   "source": [
    "volume_ratios"
   ]
  },
  {
   "cell_type": "code",
   "execution_count": 197,
   "metadata": {},
   "outputs": [],
   "source": [
    "bouton_meshes = np.array(neuron_obj_2[ax_name].boutons)\n",
    "bouton_side_length_rat = np.max([tu.side_length_ratios(k) for k in bouton_meshes],axis=1)\n",
    "high_ratios = np.where(bouton_side_length_rat>2.5)[0]"
   ]
  },
  {
   "cell_type": "code",
   "execution_count": 212,
   "metadata": {},
   "outputs": [
    {
     "data": {
      "text/plain": [
       "array([10, 25, 26, 42, 48])"
      ]
     },
     "execution_count": 212,
     "metadata": {},
     "output_type": "execute_result"
    }
   ],
   "source": [
    "volume_errors"
   ]
  },
  {
   "cell_type": "code",
   "execution_count": 211,
   "metadata": {},
   "outputs": [
    {
     "data": {
      "application/vnd.jupyter.widget-view+json": {
       "model_id": "85a9144cc1424c13a62e6eaf56be33b5",
       "version_major": 2,
       "version_minor": 0
      },
      "text/plain": [
       "VBox(children=(Figure(camera=PerspectiveCamera(fov=46.0, position=(0.0, 0.0, 2.0), projectionMatrix=(1.0, 0.0,…"
      ]
     },
     "metadata": {},
     "output_type": "display_data"
    }
   ],
   "source": [
    "nviz.plot_objects(neuron_obj_2.axon_mesh,\n",
    "                  \n",
    "                meshes=bouton_meshes[volume_errors],\n",
    "                 meshes_colors='red')"
   ]
  },
  {
   "cell_type": "code",
   "execution_count": 217,
   "metadata": {},
   "outputs": [
    {
     "name": "stdout",
     "output_type": "stream",
     "text": [
      "\n",
      " Working on visualization type: mesh\n",
      "\n",
      " Working on visualization type: skeleton\n"
     ]
    },
    {
     "data": {
      "application/vnd.jupyter.widget-view+json": {
       "model_id": "504543b7d47947b08c3b258047e63a93",
       "version_major": 2,
       "version_minor": 0
      },
      "text/plain": [
       "VBox(children=(Figure(camera=PerspectiveCamera(fov=46.0, position=(0.0, 0.0, 2.0), projectionMatrix=(1.0, 0.0,…"
      ]
     },
     "metadata": {},
     "output_type": "display_data"
    }
   ],
   "source": [
    "nviz.plot_boutons(neuron_obj_2)"
   ]
  },
  {
   "cell_type": "code",
   "execution_count": null,
   "metadata": {},
   "outputs": [],
   "source": []
  },
  {
   "cell_type": "code",
   "execution_count": null,
   "metadata": {},
   "outputs": [],
   "source": []
  },
  {
   "cell_type": "code",
   "execution_count": 192,
   "metadata": {},
   "outputs": [
    {
     "data": {
      "application/vnd.jupyter.widget-view+json": {
       "model_id": "b73e8c9262e94465b5ef743d1c989fe4",
       "version_major": 2,
       "version_minor": 0
      },
      "text/plain": [
       "VBox(children=(Figure(camera=PerspectiveCamera(fov=46.0, position=(0.0, 0.0, 2.0), projectionMatrix=(1.0, 0.0,…"
      ]
     },
     "metadata": {},
     "output_type": "display_data"
    }
   ],
   "source": [
    "nviz.plot_objects(branch_obj.mesh,\n",
    "                 meshes=[branch_obj.boutons[6]],\n",
    "                 meshes_colors=\"red\")"
   ]
  },
  {
   "cell_type": "code",
   "execution_count": null,
   "metadata": {},
   "outputs": [],
   "source": []
  },
  {
   "cell_type": "code",
   "execution_count": 178,
   "metadata": {},
   "outputs": [
    {
     "name": "stdout",
     "output_type": "stream",
     "text": [
      "branch_idx = 5\n",
      "width = {'median_mesh_center': 56.032099550785254, 'no_spine_median_mesh_center': 56.032099550785254, 'bouton_median': 53.658098350707995}, \n",
      "n_boutons = 8,\n",
      "skeleton_length (in microns) = 70.14340509038581\n",
      "area = 44.18171294980903\n"
     ]
    },
    {
     "data": {
      "application/vnd.jupyter.widget-view+json": {
       "model_id": "b7c6243927524616b6cdd6fe233558d4",
       "version_major": 2,
       "version_minor": 0
      },
      "text/plain": [
       "VBox(children=(Figure(camera=PerspectiveCamera(fov=46.0, position=(0.0, 0.0, 2.0), projectionMatrix=(1.0, 0.0,…"
      ]
     },
     "metadata": {},
     "output_type": "display_data"
    }
   ],
   "source": [
    "curr_idx = 3\n",
    "curr_branch_idx =b_with_boutons[curr_idx]\n",
    "print(f\"branch_idx = {curr_branch_idx}\")\n",
    "branch_obj = neuron_obj_2[ax_name][curr_branch_idx]\n",
    "nviz.plot_branches_with_boutons(branch_obj,\n",
    "                               plot_skeletons=False)"
   ]
  },
  {
   "cell_type": "code",
   "execution_count": null,
   "metadata": {},
   "outputs": [],
   "source": []
  },
  {
   "cell_type": "code",
   "execution_count": null,
   "metadata": {},
   "outputs": [],
   "source": []
  },
  {
   "cell_type": "code",
   "execution_count": null,
   "metadata": {},
   "outputs": [],
   "source": [
    "curr_idx = 0\n",
    "nviz.plot_objects(neuron_obj_2.axon_mesh,\n",
    "    meshes=[neuron_obj_2.boutons[curr_idx]],\n",
    "                 meshes_colors=\"red\",)"
   ]
  },
  {
   "cell_type": "code",
   "execution_count": 159,
   "metadata": {},
   "outputs": [
    {
     "data": {
      "application/vnd.jupyter.widget-view+json": {
       "model_id": "56acb7f1c2374021ac29a70e76ad6d0c",
       "version_major": 2,
       "version_minor": 0
      },
      "text/plain": [
       "VBox(children=(Figure(camera=PerspectiveCamera(fov=46.0, position=(0.0, 0.0, 2.0), projectionMatrix=(1.0, 0.0,…"
      ]
     },
     "metadata": {},
     "output_type": "display_data"
    }
   ],
   "source": [
    "curr_idx = 0\n",
    "nviz.plot_objects(neuron_obj_2.axon_mesh,\n",
    "    meshes=[neuron_obj_2.boutons[curr_idx]],\n",
    "                 meshes_colors=\"red\",)"
   ]
  },
  {
   "cell_type": "code",
   "execution_count": null,
   "metadata": {},
   "outputs": [],
   "source": []
  },
  {
   "cell_type": "markdown",
   "metadata": {},
   "source": [
    "# Come up with way to find the webbing"
   ]
  },
  {
   "cell_type": "code",
   "execution_count": 221,
   "metadata": {},
   "outputs": [],
   "source": [
    "import networkx_utils as xu"
   ]
  },
  {
   "cell_type": "code",
   "execution_count": 253,
   "metadata": {},
   "outputs": [
    {
     "name": "stdout",
     "output_type": "stream",
     "text": [
      "viable_nodes = [3, 5, 12, 13, 22, 25, 27]\n",
      "downstream_nodes = [array([2, 4]), array([0, 3]), array([14, 17]), array([ 5, 12]), array([27, 28]), array([16, 24]), array([25, 26])]\n",
      "\n",
      " Working on visualization type: mesh\n"
     ]
    },
    {
     "data": {
      "application/vnd.jupyter.widget-view+json": {
       "model_id": "45e7365a20bd49749a57e583390e0352",
       "version_major": 2,
       "version_minor": 0
      },
      "text/plain": [
       "VBox(children=(Figure(camera=PerspectiveCamera(fov=46.0, position=(0.0, 0.0, 2.0), projectionMatrix=(1.0, 0.0,…"
      ]
     },
     "metadata": {},
     "output_type": "display_data"
    }
   ],
   "source": [
    "# find all the nodes that branch off into 2 nodes\n",
    "\n",
    "\"\"\"\n",
    "Pseudocode: Find all of the nodes that branch off into 2 other nodes\n",
    "so that can try and isolate webbing in between if thin enough\n",
    "\n",
    "Pseudocode: \n",
    "Iterate through all nodes of the axon\n",
    "1) Find the number of downstream nodes\n",
    "\"\"\"\n",
    "\n",
    "n_obj = neuron_obj_high_fid_axon\n",
    "\n",
    "n_downstream_targets_threshold = 2\n",
    "width_threshold = 90\n",
    "width_name = \"no_bouton_median\"\n",
    "\n",
    "verbose = True\n",
    "\n",
    "ax_limb_name = n_obj.axon_limb_name\n",
    "ax_limb_idx = int(ax_limb_name[1:])\n",
    "ax_branches = n_obj.axon_limb_branch_dict[ax_limb_name]\n",
    "\n",
    "ax_limb = n_obj[ax_limb_name]\n",
    "\n",
    "curr_nx = ax_limb.concept_network_directional\n",
    "\n",
    "viable_nodes = []\n",
    "downstream_nodes = []\n",
    "for a in ax_branches:\n",
    "    b_obj = ax_limb[a]\n",
    "    curr_downstream_nodes = xu.downstream_nodes(curr_nx,a)\n",
    "    if (len(curr_downstream_nodes) == n_downstream_targets and\n",
    "        (width_name in ax_limb[a].width_new.keys()) and\n",
    "        ax_limb[a].width_new[width_name] < width_threshold):\n",
    "        viable_nodes.append(a)\n",
    "        downstream_nodes.append(curr_downstream_nodes)\n",
    "\n",
    "if verbose:\n",
    "    print(f\"viable_nodes = {viable_nodes}\")\n",
    "    print(f\"downstream_nodes = {downstream_nodes}\")\n",
    "    \n",
    "nviz.visualize_neuron_path(n_obj,ax_limb_idx,path=viable_nodes,\n",
    "                          visualize_type=[\"mesh\"])"
   ]
  },
  {
   "cell_type": "code",
   "execution_count": 309,
   "metadata": {},
   "outputs": [
    {
     "data": {
      "text/plain": [
       "[<neuron.Branch at 0x7fe9c91d6eb8>, <neuron.Branch at 0x7fe9c91e0240>]"
      ]
     },
     "execution_count": 309,
     "metadata": {},
     "output_type": "execute_result"
    }
   ],
   "source": [
    "d_nodes_obj"
   ]
  },
  {
   "cell_type": "code",
   "execution_count": 311,
   "metadata": {},
   "outputs": [
    {
     "name": "stdout",
     "output_type": "stream",
     "text": [
      "width = {'median_mesh_center': 57.480040517277324, 'no_spine_median_mesh_center': 57.480040517277324, 'bouton_median': 55.97265809539341, 'no_bouton_median': 55.97265809539341}, \n",
      "n_boutons = 1,\n",
      "skeleton_length (in microns) = 8.79616173214034\n",
      "area = 4.347478323587673\n"
     ]
    },
    {
     "data": {
      "application/vnd.jupyter.widget-view+json": {
       "model_id": "7193e5dbf4b942a88d1e8bcf8b2dc8de",
       "version_major": 2,
       "version_minor": 0
      },
      "text/plain": [
       "VBox(children=(Figure(camera=PerspectiveCamera(fov=46.0, position=(0.0, 0.0, 2.0), projectionMatrix=(1.0, 0.0,…"
      ]
     },
     "metadata": {},
     "output_type": "display_data"
    }
   ],
   "source": [
    "nviz.plot_branches_with_boutons(d_nodes_obj[1])"
   ]
  },
  {
   "cell_type": "code",
   "execution_count": 316,
   "metadata": {},
   "outputs": [
    {
     "name": "stdout",
     "output_type": "stream",
     "text": [
      "width = {'median_mesh_center': 56.872334850786416, 'no_spine_median_mesh_center': 56.872334850786416, 'bouton_median': 47.529637225858295, 'no_bouton_median': 47.529637225858295}, \n",
      "n_boutons = 24,\n",
      "skeleton_length (in microns) = 137.34573215342127\n",
      "area = 82.52218588000041\n"
     ]
    },
    {
     "data": {
      "application/vnd.jupyter.widget-view+json": {
       "model_id": "05e301035fd84698b03e445d8b3350cc",
       "version_major": 2,
       "version_minor": 0
      },
      "text/plain": [
       "VBox(children=(Figure(camera=PerspectiveCamera(fov=46.0, position=(0.0, 0.0, 2.0), projectionMatrix=(1.0, 0.0,…"
      ]
     },
     "metadata": {},
     "output_type": "display_data"
    }
   ],
   "source": [
    "nviz.plot_branches_with_boutons(d_nodes_obj[0])"
   ]
  },
  {
   "cell_type": "code",
   "execution_count": 312,
   "metadata": {},
   "outputs": [
    {
     "name": "stdout",
     "output_type": "stream",
     "text": [
      "width = {'median_mesh_center': 57.480040517277324, 'no_spine_median_mesh_center': 57.480040517277324, 'bouton_median': 55.97265809539341, 'no_bouton_median': 55.97265809539341}, \n",
      "n_boutons = 1,\n",
      "skeleton_length (in microns) = 8.79616173214034\n",
      "area = 4.347478323587673\n"
     ]
    },
    {
     "data": {
      "application/vnd.jupyter.widget-view+json": {
       "model_id": "dd07e93b32824607b73b346fb180faa1",
       "version_major": 2,
       "version_minor": 0
      },
      "text/plain": [
       "VBox(children=(Figure(camera=PerspectiveCamera(fov=46.0, position=(0.0, 0.0, 2.0), projectionMatrix=(1.0, 0.0,…"
      ]
     },
     "metadata": {},
     "output_type": "display_data"
    }
   ],
   "source": [
    "nviz.plot_branches_with_boutons(v_obj)"
   ]
  },
  {
   "cell_type": "code",
   "execution_count": 313,
   "metadata": {},
   "outputs": [
    {
     "data": {
      "text/plain": [
       "5"
      ]
     },
     "execution_count": 313,
     "metadata": {},
     "output_type": "execute_result"
    }
   ],
   "source": [
    "v"
   ]
  },
  {
   "cell_type": "code",
   "execution_count": 314,
   "metadata": {},
   "outputs": [
    {
     "data": {
      "text/plain": [
       "array([0, 3])"
      ]
     },
     "execution_count": 314,
     "metadata": {},
     "output_type": "execute_result"
    }
   ],
   "source": [
    "d_nodes"
   ]
  },
  {
   "cell_type": "code",
   "execution_count": null,
   "metadata": {},
   "outputs": [],
   "source": []
  },
  {
   "cell_type": "code",
   "execution_count": 369,
   "metadata": {},
   "outputs": [
    {
     "name": "stdout",
     "output_type": "stream",
     "text": [
      "Current Node = 27 with width 64.22077544310893\n"
     ]
    },
    {
     "data": {
      "application/vnd.jupyter.widget-view+json": {
       "model_id": "4242888be0ef425391549797d8872db8",
       "version_major": 2,
       "version_minor": 0
      },
      "text/plain": [
       "VBox(children=(Figure(camera=PerspectiveCamera(fov=46.0, position=(0.0, 0.0, 2.0), projectionMatrix=(1.0, 0.0,…"
      ]
     },
     "metadata": {},
     "output_type": "display_data"
    },
    {
     "data": {
      "application/vnd.jupyter.widget-view+json": {
       "model_id": "18b74ba8357840649dff7c1fea4c8313",
       "version_major": 2,
       "version_minor": 0
      },
      "text/plain": [
       "VBox(children=(Figure(camera=PerspectiveCamera(fov=46.0, position=(0.0, 0.0, 2.0), projectionMatrix=(1.0, 0.0,…"
      ]
     },
     "metadata": {},
     "output_type": "display_data"
    }
   ],
   "source": [
    "curr_n_idx = 6\n",
    "v = viable_nodes[curr_n_idx]\n",
    "v_obj = ax_limb[v]\n",
    "\n",
    "if verbose:\n",
    "    print(f\"Current Node = {v} with width {ax_limb[v].width_new['no_bouton_median']}\")\n",
    "\n",
    "\n",
    "d_nodes = downstream_nodes[curr_n_idx]\n",
    "d_nodes_obj = [ax_limb[d] for d in d_nodes]\n",
    "\n",
    "v_mesh_with_boutons = v_obj.mesh\n",
    "d_meshes_with_boutons = [k.mesh for k in d_nodes_obj]\n",
    "\n",
    "\n",
    "nviz.plot_objects(meshes=[v_mesh_with_boutons] + d_meshes_with_boutons,\n",
    "                 meshes_colors=[\"red\",\"aqua\",\"black\"],\n",
    "                 mesh_alpha=1)\n",
    "\n",
    "\n",
    "v_mesh_without_boutons = nru.mesh_without_boutons(v_obj)\n",
    "d_meshes_without_boutons = [nru.mesh_without_boutons(d_obj) for d_obj in d_nodes_obj]\n",
    "intersection_mesh = tu.combine_meshes([v_mesh_without_boutons] + d_meshes_without_boutons)\n",
    "\n",
    "nviz.plot_objects(meshes=[v_mesh_without_boutons] + d_meshes_without_boutons,\n",
    "                 meshes_colors=[\"red\",\"aqua\",\"black\"],\n",
    "                 mesh_alpha=1)"
   ]
  },
  {
   "cell_type": "code",
   "execution_count": 370,
   "metadata": {},
   "outputs": [
    {
     "name": "stdout",
     "output_type": "stream",
     "text": [
      "joining_endpoint_1 = [1279712.35354271  669030.25418228  993566.51159415]\n",
      "coordinates_of_intersection = [array([1279675.64442825,  668989.13411599,  994122.86849841]), array([1279692.08025977,  668587.40144323,  993337.20194052]), array([1279722.05857917,  669329.04164685,  993165.99352115])]\n"
     ]
    }
   ],
   "source": [
    "# finding the point of intersection for their skeletons\n",
    "import skeleton_utils \n",
    "all_intersecting_skeletons = [d.skeleton for d in d_nodes_obj] + [v_obj.skeleton]\n",
    "joining_endpoint_1 = sk.shared_coordiantes(all_intersecting_skeletons,\n",
    "                     return_one=True)\n",
    "\n",
    "coordinates_of_intersection = [sk.skeleton_coordinate_offset_from_endpoint(k,joining_endpoint_1,500) for k in all_intersecting_skeletons]\n",
    "\n",
    "\n",
    "if verbose:\n",
    "    print(f\"joining_endpoint_1 = {joining_endpoint_1}\")\n",
    "    print(f\"coordinates_of_intersection = {coordinates_of_intersection}\")"
   ]
  },
  {
   "cell_type": "code",
   "execution_count": 371,
   "metadata": {
    "scrolled": false
   },
   "outputs": [
    {
     "name": "stdout",
     "output_type": "stream",
     "text": [
      "Winning Mesh idx = 0, mesh = <trimesh.Trimesh(vertices.shape=(369, 3), faces.shape=(710, 3))>\n"
     ]
    },
    {
     "data": {
      "application/vnd.jupyter.widget-view+json": {
       "model_id": "c4578d12ab224a0881cc07cb817a3615",
       "version_major": 2,
       "version_minor": 0
      },
      "text/plain": [
       "VBox(children=(Figure(camera=PerspectiveCamera(fov=46.0, position=(0.0, 0.0, 2.0), projectionMatrix=(1.0, 0.0,…"
      ]
     },
     "metadata": {},
     "output_type": "display_data"
    }
   ],
   "source": [
    "potential_webbing_mesh = tu.closest_split_to_coordinate(intersection_mesh,\n",
    "                              coordinate = coordinates_of_intersection,\n",
    "                              plot_split=False,\n",
    "                              plot_closest_mesh=True,\n",
    "                              significance_threshold = 20,\n",
    "                              verbose = True)"
   ]
  },
  {
   "cell_type": "code",
   "execution_count": 372,
   "metadata": {
    "scrolled": false
   },
   "outputs": [
    {
     "data": {
      "application/vnd.jupyter.widget-view+json": {
       "model_id": "6c45deb93f71451fb58466ffe32e519e",
       "version_major": 2,
       "version_minor": 0
      },
      "text/plain": [
       "  0%|          | 0/12 [00:00<?, ?it/s]"
      ]
     },
     "metadata": {},
     "output_type": "display_data"
    },
    {
     "name": "stdout",
     "output_type": "stream",
     "text": [
      "Segmentation Info:\n",
      "Mesh 0: <trimesh.Trimesh(vertices.shape=(97, 3), faces.shape=(166, 3))> (0.652782)\n",
      "Mesh 1: <trimesh.Trimesh(vertices.shape=(71, 3), faces.shape=(135, 3))> (0.246117)\n",
      "Mesh 2: <trimesh.Trimesh(vertices.shape=(67, 3), faces.shape=(128, 3))> (0.130484)\n",
      "Mesh 3: <trimesh.Trimesh(vertices.shape=(50, 3), faces.shape=(94, 3))> (0.09953429999999999)\n",
      "Mesh 4: <trimesh.Trimesh(vertices.shape=(34, 3), faces.shape=(60, 3))> (0.6005335)\n",
      "Mesh 5: <trimesh.Trimesh(vertices.shape=(28, 3), faces.shape=(49, 3))> (0.330091)\n",
      "Mesh 6: <trimesh.Trimesh(vertices.shape=(17, 3), faces.shape=(28, 3))> (0.103911)\n",
      "Mesh 7: <trimesh.Trimesh(vertices.shape=(14, 3), faces.shape=(22, 3))> (0.121444)\n",
      "Mesh 8: <trimesh.Trimesh(vertices.shape=(9, 3), faces.shape=(12, 3))> (0.283903)\n",
      "Mesh 9: <trimesh.Trimesh(vertices.shape=(9, 3), faces.shape=(12, 3))> (0.282559)\n",
      "Mesh 10: <trimesh.Trimesh(vertices.shape=(4, 3), faces.shape=(3, 3))> (0.040125)\n",
      "Mesh 11: <trimesh.Trimesh(vertices.shape=(3, 3), faces.shape=(1, 3))> (0.254204)\n"
     ]
    },
    {
     "data": {
      "application/vnd.jupyter.widget-view+json": {
       "model_id": "5c74b81d80d9436e9a4f27a2a8ec40a0",
       "version_major": 2,
       "version_minor": 0
      },
      "text/plain": [
       "VBox(children=(Figure(camera=PerspectiveCamera(fov=46.0, position=(0.0, 0.0, 2.0), projectionMatrix=(1.0, 0.0,…"
      ]
     },
     "metadata": {},
     "output_type": "display_data"
    },
    {
     "data": {
      "application/vnd.jupyter.widget-view+json": {
       "model_id": "1ff5aadf0dc84e0ea49bf77a080c4a4c",
       "version_major": 2,
       "version_minor": 0
      },
      "text/plain": [
       "VBox(children=(Figure(camera=PerspectiveCamera(fov=46.0, position=(0.0, 0.0, 2.0), projectionMatrix=(1.0, 0.0,…"
      ]
     },
     "metadata": {},
     "output_type": "display_data"
    },
    {
     "name": "stdout",
     "output_type": "stream",
     "text": [
      "web_mesh = <trimesh.Trimesh(vertices.shape=(34, 3), faces.shape=(60, 3))>, web_cdf = 0.6005335\n"
     ]
    }
   ],
   "source": [
    "web_mesh,web_cdf = tu.closest_segmentation_to_coordinate(potential_webbing_mesh,\n",
    "                                  coordinates_of_intersection,\n",
    "                                smoothness = 0.08,\n",
    "                                clusters=5,\n",
    "                                  plot_segmentation=True,\n",
    "                                  plot_closest_mesh=True,\n",
    "                                     return_cgal=True)\n",
    "print(f\"web_mesh = {web_mesh}, web_cdf = {web_cdf}\")"
   ]
  },
  {
   "cell_type": "code",
   "execution_count": null,
   "metadata": {},
   "outputs": [],
   "source": []
  },
  {
   "cell_type": "code",
   "execution_count": null,
   "metadata": {},
   "outputs": [],
   "source": []
  },
  {
   "cell_type": "code",
   "execution_count": null,
   "metadata": {},
   "outputs": [],
   "source": []
  },
  {
   "cell_type": "code",
   "execution_count": null,
   "metadata": {},
   "outputs": [],
   "source": []
  },
  {
   "cell_type": "code",
   "execution_count": null,
   "metadata": {},
   "outputs": [],
   "source": [
    "[k for k in dir(pu) if \"width\" in k]"
   ]
  },
  {
   "cell_type": "code",
   "execution_count": null,
   "metadata": {},
   "outputs": [],
   "source": [
    "exc_double_back_and_width_change_filter = pru.make_filter_dict(\"double_back_and_width_change\",\n",
    "                                                         pru.filter_away_large_double_back_or_width_changes,\n",
    "                                                          dict(perform_double_back_errors=True,\n",
    "                                                              skip_double_back_errors_for_axon=False,\n",
    "                                                              #double_back_threshold = 140,\n",
    "                                                               \n",
    "                                                               width_jump_threshold = 50,\n",
    "                                                               running_width_jump_method=True, \n",
    "                                                               \n",
    "                                                               \n",
    "                                                               double_back_axon_like_threshold=145,\n",
    "                                                               #double_back_threshold = 115,\n",
    "                                                               double_back_threshold = 120,\n",
    "                                                               width_name = \"bouton_median\"\n",
    "                                                              ),catch_error=False,\n",
    "                                                               \n",
    "                                                               \n",
    "                                                         )\n",
    "\n",
    "bouton_double_back_filter = [exc_double_back_and_width_change_filter]"
   ]
  },
  {
   "cell_type": "code",
   "execution_count": null,
   "metadata": {},
   "outputs": [],
   "source": [
    "plot_limb_branch_filter_with_disconnect_effect = True\n",
    "verbose= True\n",
    "verbose_outline= True\n",
    "\n",
    "\n",
    "o_neuron_pre, filtering_info_pre = pru.apply_proofreading_filters_to_neuron(input_neuron = neuron_obj_high_fid_axon,\n",
    "                                        filter_list = bouton_double_back_filter,\n",
    "                    plot_limb_branch_filter_with_disconnect_effect=plot_limb_branch_filter_with_disconnect_effect,\n",
    "                                        plot_limb_branch_filter_away=False,\n",
    "                                        plot_final_neuron=False,\n",
    "\n",
    "                                        return_error_info=True,\n",
    "                                         verbose=verbose,\n",
    "                                        verbose_outline=verbose_outline)"
   ]
  },
  {
   "cell_type": "code",
   "execution_count": null,
   "metadata": {},
   "outputs": [],
   "source": [
    "o_neuron_pre"
   ]
  },
  {
   "cell_type": "code",
   "execution_count": 128,
   "metadata": {},
   "outputs": [
    {
     "data": {
      "text/plain": [
       "['check_coordinates_inside_bounding_box',\n",
       " 'closest_face_to_coordinate',\n",
       " 'closest_mesh_to_coordinate',\n",
       " 'filter_meshes_by_containing_coordinates',\n",
       " 'find_closest_face_to_coordinates',\n",
       " 'largest_border_to_coordinate',\n",
       " 'vertices_coordinates_to_faces',\n",
       " 'vertices_coordinates_to_faces_old',\n",
       " 'vertices_coordinates_to_vertex_index']"
      ]
     },
     "execution_count": 128,
     "metadata": {},
     "output_type": "execute_result"
    }
   ],
   "source": [
    "[k for k in dir(tu) if \"coordinate\" in k]"
   ]
  },
  {
   "cell_type": "code",
   "execution_count": null,
   "metadata": {},
   "outputs": [],
   "source": [
    "minnie.AutoProofreadNeurons3() & \"spine_category = 'densely_spined'\""
   ]
  },
  {
   "cell_type": "code",
   "execution_count": null,
   "metadata": {},
   "outputs": [],
   "source": [
    "minnie.AutoProofreadNeurons3() & \"cell_type_predicted = 'inhibitory'\""
   ]
  },
  {
   "cell_type": "code",
   "execution_count": null,
   "metadata": {},
   "outputs": [],
   "source": []
  },
  {
   "cell_type": "code",
   "execution_count": null,
   "metadata": {},
   "outputs": [],
   "source": [
    "nviz.plot_objects(meshes=new_branch_mesh,\n",
    "                 meshes_colors=\"random\")"
   ]
  },
  {
   "cell_type": "code",
   "execution_count": null,
   "metadata": {},
   "outputs": [],
   "source": []
  },
  {
   "cell_type": "code",
   "execution_count": null,
   "metadata": {},
   "outputs": [],
   "source": [
    "non_b_meshes_too_small_colors = mu.generate_unique_random_color_list(len(non_b_meshes_too_small),\n",
    "                                    colors_to_omit=[\"black\",\"red\"])\n",
    "\n",
    "color_list = [bouton_color]*len(b_meshes) + [non_bouton_color]*len(non_b_meshes) + non_b_meshes_too_small_colors\n",
    "meshes_list = list(b_meshes) + list(non_b_meshes) + list(non_b_meshes_too_small)\n",
    "\n",
    "nviz.plot_objects(main_mesh = branch_obj.mesh,\n",
    "                      main_mesh_alpha=1,\n",
    "                     main_mesh_color=main_mesh_color,\n",
    "                     meshes=meshes_list,\n",
    "                     meshes_colors=color_list,\n",
    "                     mesh_alpha=1)"
   ]
  },
  {
   "cell_type": "code",
   "execution_count": null,
   "metadata": {},
   "outputs": [],
   "source": [
    "branch_obj = neuron_obj_high_fid_axon[l_idx][1]\n",
    "\n",
    "bouton_color = \"red\"\n",
    "non_bouton_color = \"black\"\n",
    "main_mesh_color = \"green\"\n",
    "\n",
    "if hasattr(branch_obj,\"boutons\"):\n",
    "    b_meshes = branch_obj.boutons\n",
    "    non_b_meshes = branch_obj.non_boutons\n",
    "    \n",
    "    width_types = [\"bouton_mean\",\n",
    "                  \"bouton_median\",\n",
    "                  \"non_bouton_mean\",\n",
    "                  \"non_bouton_median\"]\n",
    "    for w_t in width_types:\n",
    "        print(f\"{w_t}:{branch_obj.width_new[w_t]}\")\n",
    "    \n",
    "    color_list = [bouton_color]*len(b_meshes) + [non_bouton_color]*len(non_b_meshes)\n",
    "    meshes_list = b_meshes + non_b_meshes\n",
    "    \n",
    "    nviz.plot_objects(main_mesh = branch_obj.mesh,\n",
    "                      main_mesh_alpha=1,\n",
    "                     main_mesh_color=main_mesh_color,\n",
    "                     meshes=meshes_list,\n",
    "                     meshes_colors=color_list,\n",
    "                     mesh_alpha=1)\n",
    "else:\n",
    "    print(f\"No boutons analysis\")"
   ]
  },
  {
   "cell_type": "code",
   "execution_count": null,
   "metadata": {},
   "outputs": [],
   "source": [
    "print(\"hi\")"
   ]
  },
  {
   "cell_type": "code",
   "execution_count": null,
   "metadata": {},
   "outputs": [],
   "source": []
  }
 ],
 "metadata": {
  "kernelspec": {
   "display_name": "Python 3",
   "language": "python",
   "name": "python3"
  },
  "language_info": {
   "codemirror_mode": {
    "name": "ipython",
    "version": 3
   },
   "file_extension": ".py",
   "mimetype": "text/x-python",
   "name": "python",
   "nbconvert_exporter": "python",
   "pygments_lexer": "ipython3",
   "version": "3.6.9"
  }
 },
 "nbformat": 4,
 "nbformat_minor": 4
}
