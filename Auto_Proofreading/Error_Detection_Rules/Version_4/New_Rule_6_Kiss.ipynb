{
 "cells": [
  {
   "cell_type": "code",
   "execution_count": null,
   "metadata": {},
   "outputs": [],
   "source": [
    "\"\"\"\n",
    "Purpose: To merge \n",
    "\n",
    "\n",
    "\"\"\""
   ]
  },
  {
   "cell_type": "code",
   "execution_count": 1,
   "metadata": {},
   "outputs": [],
   "source": [
    "%load_ext autoreload\n",
    "%autoreload 2"
   ]
  },
  {
   "cell_type": "code",
   "execution_count": 2,
   "metadata": {},
   "outputs": [
    {
     "name": "stderr",
     "output_type": "stream",
     "text": [
      "INFO - 2021-04-29 15:23:18,619 - settings - Setting database.host to at-database.ad.bcm.edu\n",
      "INFO - 2021-04-29 15:23:18,620 - settings - Setting database.user to celiib\n",
      "INFO - 2021-04-29 15:23:18,621 - settings - Setting database.password to newceliipass\n",
      "INFO - 2021-04-29 15:23:18,625 - settings - Setting stores to {'minnie65': {'protocol': 'file', 'location': '/mnt/dj-stor01/platinum/minnie65', 'stage': '/mnt/dj-stor01/platinum/minnie65'}, 'meshes': {'protocol': 'file', 'location': '/mnt/dj-stor01/platinum/minnie65/02/meshes', 'stage': '/mnt/dj-stor01/platinum/minnie65/02/meshes'}, 'decimated_meshes': {'protocol': 'file', 'location': '/mnt/dj-stor01/platinum/minnie65/02/decimated_meshes', 'stage': '/mnt/dj-stor01/platinum/minnie65/02/decimated_meshes'}, 'skeletons': {'protocol': 'file', 'location': '/mnt/dj-stor01/platinum/minnie65/02/skeletons'}}\n",
      "INFO - 2021-04-29 15:23:18,626 - settings - Setting enable_python_native_blobs to True\n",
      "INFO - 2021-04-29 15:23:18,637 - connection - Connected celiib@at-database.ad.bcm.edu:3306\n"
     ]
    },
    {
     "name": "stdout",
     "output_type": "stream",
     "text": [
      "Connecting celiib@at-database.ad.bcm.edu:3306\n"
     ]
    },
    {
     "name": "stderr",
     "output_type": "stream",
     "text": [
      "INFO - 2021-04-29 15:23:19,066 - settings - Setting enable_python_native_blobs to True\n",
      "INFO - 2021-04-29 15:23:19,069 - settings - Setting database.host to at-database.ad.bcm.edu\n",
      "INFO - 2021-04-29 15:23:19,070 - settings - Setting database.user to celiib\n",
      "INFO - 2021-04-29 15:23:19,070 - settings - Setting database.password to newceliipass\n",
      "INFO - 2021-04-29 15:23:19,071 - settings - Setting database.host to at-database.ad.bcm.edu\n",
      "INFO - 2021-04-29 15:23:19,072 - settings - Setting database.user to celiib\n",
      "INFO - 2021-04-29 15:23:19,073 - settings - Setting database.password to newceliipass\n",
      "INFO - 2021-04-29 15:23:19,076 - settings - Setting enable_python_native_blobs to True\n",
      "INFO - 2021-04-29 15:23:19,726 - settings - Setting enable_python_native_blobs to True\n"
     ]
    }
   ],
   "source": [
    "import numpy as np\n",
    "import datajoint as dj\n",
    "import trimesh\n",
    "from tqdm.notebook import tqdm\n",
    "from pathlib import Path\n",
    "\n",
    "from os import sys\n",
    "sys.path.append(\"/meshAfterParty/\")\n",
    "sys.path.append(\"/meshAfterParty/meshAfterParty\")\n",
    "\n",
    "import datajoint_utils as du\n",
    "from importlib import reload"
   ]
  },
  {
   "cell_type": "code",
   "execution_count": 3,
   "metadata": {},
   "outputs": [
    {
     "name": "stderr",
     "output_type": "stream",
     "text": [
      "INFO - 2021-04-29 15:23:19,883 - settings - Setting database.host to at-database.ad.bcm.edu\n",
      "INFO - 2021-04-29 15:23:19,884 - settings - Setting database.user to celiib\n",
      "INFO - 2021-04-29 15:23:19,885 - settings - Setting database.password to newceliipass\n",
      "INFO - 2021-04-29 15:23:19,887 - settings - Setting enable_python_native_blobs to True\n",
      "INFO - 2021-04-29 15:23:20,305 - settings - Setting enable_python_native_blobs to True\n"
     ]
    }
   ],
   "source": [
    "#configuring will include the adapters\n",
    "minnie,schema = du.configure_minnie_vm()"
   ]
  },
  {
   "cell_type": "code",
   "execution_count": 4,
   "metadata": {},
   "outputs": [],
   "source": [
    "import validation_utils as vu\n",
    "import neuron_visualizations as nviz\n",
    "import neuron_utils as nru"
   ]
  },
  {
   "cell_type": "markdown",
   "metadata": {},
   "source": [
    "# Downloading the Neuron"
   ]
  },
  {
   "cell_type": "code",
   "execution_count": 5,
   "metadata": {},
   "outputs": [
    {
     "data": {
      "text/html": [
       "\n",
       "        \n",
       "        <style type=\"text/css\">\n",
       "            .Relation{\n",
       "                border-collapse:collapse;\n",
       "            }\n",
       "            .Relation th{\n",
       "                background: #A0A0A0; color: #ffffff; padding:4px; border:#f0e0e0 1px solid;\n",
       "                font-weight: normal; font-family: monospace; font-size: 100%;\n",
       "            }\n",
       "            .Relation td{\n",
       "                padding:4px; border:#f0e0e0 1px solid; font-size:100%;\n",
       "            }\n",
       "            .Relation tr:nth-child(odd){\n",
       "                background: #ffffff;\n",
       "            }\n",
       "            .Relation tr:nth-child(even){\n",
       "                background: #f3f1ff;\n",
       "            }\n",
       "            /* Tooltip container */\n",
       "            .djtooltip {\n",
       "            }\n",
       "            /* Tooltip text */\n",
       "            .djtooltip .djtooltiptext {\n",
       "                visibility: hidden;\n",
       "                width: 120px;\n",
       "                background-color: black;\n",
       "                color: #fff;\n",
       "                text-align: center;\n",
       "                padding: 5px 0;\n",
       "                border-radius: 6px;\n",
       "                /* Position the tooltip text - see examples below! */\n",
       "                position: absolute;\n",
       "                z-index: 1;\n",
       "            }\n",
       "            #primary {\n",
       "                font-weight: bold;\n",
       "                color: black;\n",
       "            }\n",
       "\n",
       "            #nonprimary {\n",
       "                font-weight: normal;\n",
       "                color: white;\n",
       "            }\n",
       "\n",
       "            /* Show the tooltip text when you mouse over the tooltip container */\n",
       "            .djtooltip:hover .djtooltiptext {\n",
       "                visibility: visible;\n",
       "            }\n",
       "        </style>\n",
       "        \n",
       "        <b></b>\n",
       "            <div style=\"max-height:1000px;max-width:1500px;overflow:auto;\">\n",
       "            <table border=\"1\" class=\"Relation\">\n",
       "                <thead> <tr style=\"text-align: right;\"> <th> <div class=\"djtooltip\">\n",
       "                                <p id=\"primary\">segment_id</p>\n",
       "                                <span class=\"djtooltiptext\">segment id unique within each Segmentation</span>\n",
       "                            </div></th><th><div class=\"djtooltip\">\n",
       "                                <p id=\"primary\">decimation_version</p>\n",
       "                                <span class=\"djtooltiptext\"></span>\n",
       "                            </div></th><th><div class=\"djtooltip\">\n",
       "                                <p id=\"primary\">decimation_ratio</p>\n",
       "                                <span class=\"djtooltiptext\">ratio of remaining mesh vertices/faces (which ones depends on what metric the decimation technique uses)</span>\n",
       "                            </div></th><th><div class=\"djtooltip\">\n",
       "                                <p id=\"primary\">ver</p>\n",
       "                                <span class=\"djtooltiptext\">the version number of the materializaiton</span>\n",
       "                            </div></th><th><div class=\"djtooltip\">\n",
       "                                <p id=\"primary\">process_version</p>\n",
       "                                <span class=\"djtooltiptext\">the version of the preprocessing pipeline run</span>\n",
       "                            </div></th><th><div class=\"djtooltip\">\n",
       "                                <p id=\"primary\">index</p>\n",
       "                                <span class=\"djtooltiptext\">the index of the neuron object that resulted from that mesh (indexed starting at 0)</span>\n",
       "                            </div></th><th><div class=\"djtooltip\">\n",
       "                                <p id=\"nonprimary\">multiplicity</p>\n",
       "                                <span class=\"djtooltiptext\">the number of somas found for this base segment</span>\n",
       "                            </div></th><th><div class=\"djtooltip\">\n",
       "                                <p id=\"nonprimary\">decomposition</p>\n",
       "                                <span class=\"djtooltiptext\"></span>\n",
       "                            </div></th><th><div class=\"djtooltip\">\n",
       "                                <p id=\"nonprimary\">n_vertices</p>\n",
       "                                <span class=\"djtooltiptext\">number of vertices</span>\n",
       "                            </div></th><th><div class=\"djtooltip\">\n",
       "                                <p id=\"nonprimary\">n_faces</p>\n",
       "                                <span class=\"djtooltiptext\">number of faces</span>\n",
       "                            </div></th><th><div class=\"djtooltip\">\n",
       "                                <p id=\"nonprimary\">n_not_processed_soma_containing_meshes</p>\n",
       "                                <span class=\"djtooltiptext\">the number of meshes with somas that were not processed</span>\n",
       "                            </div></th><th><div class=\"djtooltip\">\n",
       "                                <p id=\"nonprimary\">n_error_limbs</p>\n",
       "                                <span class=\"djtooltiptext\">the number of limbs that are touching multiple somas or 1 soma in multiple places</span>\n",
       "                            </div></th><th><div class=\"djtooltip\">\n",
       "                                <p id=\"nonprimary\">n_same_soma_multi_touching_limbs</p>\n",
       "                                <span class=\"djtooltiptext\">number of limbs that touch the same soma multiple times</span>\n",
       "                            </div></th><th><div class=\"djtooltip\">\n",
       "                                <p id=\"nonprimary\">n_multi_soma_touching_limbs</p>\n",
       "                                <span class=\"djtooltiptext\">number of limbs that touch multiple somas</span>\n",
       "                            </div></th><th><div class=\"djtooltip\">\n",
       "                                <p id=\"nonprimary\">n_somas</p>\n",
       "                                <span class=\"djtooltiptext\">number of soma meshes detected</span>\n",
       "                            </div></th><th><div class=\"djtooltip\">\n",
       "                                <p id=\"nonprimary\">n_limbs</p>\n",
       "                                <span class=\"djtooltiptext\"></span>\n",
       "                            </div></th><th><div class=\"djtooltip\">\n",
       "                                <p id=\"nonprimary\">n_branches</p>\n",
       "                                <span class=\"djtooltiptext\"></span>\n",
       "                            </div></th><th><div class=\"djtooltip\">\n",
       "                                <p id=\"nonprimary\">max_limb_n_branches</p>\n",
       "                                <span class=\"djtooltiptext\"></span>\n",
       "                            </div></th><th><div class=\"djtooltip\">\n",
       "                                <p id=\"nonprimary\">skeletal_length</p>\n",
       "                                <span class=\"djtooltiptext\"></span>\n",
       "                            </div></th><th><div class=\"djtooltip\">\n",
       "                                <p id=\"nonprimary\">max_limb_skeletal_length</p>\n",
       "                                <span class=\"djtooltiptext\"></span>\n",
       "                            </div></th><th><div class=\"djtooltip\">\n",
       "                                <p id=\"nonprimary\">median_branch_length</p>\n",
       "                                <span class=\"djtooltiptext\">gives information on average skeletal length to next branch point</span>\n",
       "                            </div></th><th><div class=\"djtooltip\">\n",
       "                                <p id=\"nonprimary\">width_median</p>\n",
       "                                <span class=\"djtooltiptext\">median width from mesh center without spines removed</span>\n",
       "                            </div></th><th><div class=\"djtooltip\">\n",
       "                                <p id=\"nonprimary\">width_no_spine_median</p>\n",
       "                                <span class=\"djtooltiptext\">median width from mesh center with spines removed</span>\n",
       "                            </div></th><th><div class=\"djtooltip\">\n",
       "                                <p id=\"nonprimary\">width_90_perc</p>\n",
       "                                <span class=\"djtooltiptext\">90th percentile for width without spines removed</span>\n",
       "                            </div></th><th><div class=\"djtooltip\">\n",
       "                                <p id=\"nonprimary\">width_no_spine_90_perc</p>\n",
       "                                <span class=\"djtooltiptext\">90th percentile for width with spines removed</span>\n",
       "                            </div></th><th><div class=\"djtooltip\">\n",
       "                                <p id=\"nonprimary\">n_spines</p>\n",
       "                                <span class=\"djtooltiptext\"></span>\n",
       "                            </div></th><th><div class=\"djtooltip\">\n",
       "                                <p id=\"nonprimary\">spine_density</p>\n",
       "                                <span class=\"djtooltiptext\">n_spines/ skeletal_length</span>\n",
       "                            </div></th><th><div class=\"djtooltip\">\n",
       "                                <p id=\"nonprimary\">spines_per_branch</p>\n",
       "                                <span class=\"djtooltiptext\"></span>\n",
       "                            </div></th><th><div class=\"djtooltip\">\n",
       "                                <p id=\"nonprimary\">skeletal_length_eligible</p>\n",
       "                                <span class=\"djtooltiptext\">the skeletal length for all branches searched for spines</span>\n",
       "                            </div></th><th><div class=\"djtooltip\">\n",
       "                                <p id=\"nonprimary\">n_spine_eligible_branches</p>\n",
       "                                <span class=\"djtooltiptext\">the number of branches that were checked for spines because passed width threshold</span>\n",
       "                            </div></th><th><div class=\"djtooltip\">\n",
       "                                <p id=\"nonprimary\">spine_density_eligible</p>\n",
       "                                <span class=\"djtooltiptext\">n_spines/skeletal_length_eligible</span>\n",
       "                            </div></th><th><div class=\"djtooltip\">\n",
       "                                <p id=\"nonprimary\">spines_per_branch_eligible</p>\n",
       "                                <span class=\"djtooltiptext\">n_spines/n_spine_eligible_branches</span>\n",
       "                            </div></th><th><div class=\"djtooltip\">\n",
       "                                <p id=\"nonprimary\">total_spine_volume</p>\n",
       "                                <span class=\"djtooltiptext\">the sum of all spine volume</span>\n",
       "                            </div></th><th><div class=\"djtooltip\">\n",
       "                                <p id=\"nonprimary\">spine_volume_median</p>\n",
       "                                <span class=\"djtooltiptext\">median of the spine volume for those spines with able to calculate volume</span>\n",
       "                            </div></th><th><div class=\"djtooltip\">\n",
       "                                <p id=\"nonprimary\">spine_volume_density</p>\n",
       "                                <span class=\"djtooltiptext\">total_spine_volume/skeletal_length</span>\n",
       "                            </div></th><th><div class=\"djtooltip\">\n",
       "                                <p id=\"nonprimary\">spine_volume_density_eligible</p>\n",
       "                                <span class=\"djtooltiptext\">total_spine_volume/skeletal_length_eligible</span>\n",
       "                            </div></th><th><div class=\"djtooltip\">\n",
       "                                <p id=\"nonprimary\">spine_volume_per_branch_eligible</p>\n",
       "                                <span class=\"djtooltiptext\">total_spine_volume/n_spine_eligible_branches</span>\n",
       "                            </div></th><th><div class=\"djtooltip\">\n",
       "                                <p id=\"nonprimary\">run_time</p>\n",
       "                                <span class=\"djtooltiptext\">the amount of time to run (seconds)</span>\n",
       "                            </div> </th> </tr> </thead>\n",
       "                <tbody> <tr> <td>864691136194042326</td>\n",
       "<td>0</td>\n",
       "<td>0.25</td>\n",
       "<td>30.00</td>\n",
       "<td>7</td>\n",
       "<td>0</td>\n",
       "<td>1</td>\n",
       "<td>=BLOB=</td>\n",
       "<td>543348</td>\n",
       "<td>1100473</td>\n",
       "<td>0</td>\n",
       "<td>0</td>\n",
       "<td>0</td>\n",
       "<td>0</td>\n",
       "<td>1</td>\n",
       "<td>5</td>\n",
       "<td>134</td>\n",
       "<td>92</td>\n",
       "<td>5711902.431454649</td>\n",
       "<td>3489105.382868428</td>\n",
       "<td>24117.997</td>\n",
       "<td>87.607</td>\n",
       "<td>87.607</td>\n",
       "<td>543.496</td>\n",
       "<td>482.187</td>\n",
       "<td>1643</td>\n",
       "<td>0.00028764496938046916</td>\n",
       "<td>12.261194029850746</td>\n",
       "<td>3062061.696</td>\n",
       "<td>52</td>\n",
       "<td>0.0005365665891534016</td>\n",
       "<td>31.596</td>\n",
       "<td>495451480854.54834</td>\n",
       "<td>172336953.29870287</td>\n",
       "<td>86740.18626896814</td>\n",
       "<td>161803.232606894</td>\n",
       "<td>9527913093.356699</td>\n",
       "<td>5274.2019</td> </tr> </tbody>\n",
       "            </table>\n",
       "            \n",
       "            <p>Total: 1</p></div>\n",
       "            "
      ],
      "text/plain": [
       "*segment_id    *decimation_ve *decimation_ra *ver      *process_versi *index    multiplicity   decomposit n_vertices     n_faces     n_not_processe n_error_limbs  n_same_soma_mu n_multi_soma_t n_somas     n_limbs     n_branches     max_limb_n_bra skeletal_lengt max_limb_skele median_branch_ width_median   width_no_spine width_90_perc  width_no_spine n_spines     spine_density  spines_per_bra skeletal_lengt n_spine_eligib spine_density_ spines_per_bra total_spine_vo spine_volume_m spine_volume_d spine_volume_d spine_volume_p run_time     \n",
       "+------------+ +------------+ +------------+ +-------+ +------------+ +-------+ +------------+ +--------+ +------------+ +---------+ +------------+ +------------+ +------------+ +------------+ +---------+ +---------+ +------------+ +------------+ +------------+ +------------+ +------------+ +------------+ +------------+ +------------+ +------------+ +----------+ +------------+ +------------+ +------------+ +------------+ +------------+ +------------+ +------------+ +------------+ +------------+ +------------+ +------------+ +-----------+\n",
       "86469113619404 0              0.25           30.00     7              0         1              =BLOB=     543348         1100473     0              0              0              0              1           5           134            92             5711902.431454 3489105.382868 24117.997      87.607         87.607         543.496        482.187        1643         0.000287644969 12.26119402985 3062061.696    52             0.000536566589 31.596         495451480854.5 172336953.2987 86740.18626896 161803.2326068 9527913093.356 5274.2019    \n",
       " (Total: 1)"
      ]
     },
     "execution_count": 5,
     "metadata": {},
     "output_type": "execute_result"
    }
   ],
   "source": [
    "segment_id = 864691136194042326\n",
    "minnie.Decomposition() & f\"segment_id = {segment_id}\""
   ]
  },
  {
   "cell_type": "code",
   "execution_count": 6,
   "metadata": {},
   "outputs": [
    {
     "name": "stdout",
     "output_type": "stream",
     "text": [
      "Decompressing Neuron in minimal output mode...please wait\n"
     ]
    }
   ],
   "source": [
    "neuron_obj = du.fetch_neuron_obj_manual(segment_id,border_validation=True)"
   ]
  },
  {
   "cell_type": "markdown",
   "metadata": {},
   "source": [
    "# Filtering Using the Current Function"
   ]
  },
  {
   "cell_type": "code",
   "execution_count": 7,
   "metadata": {
    "scrolled": false
   },
   "outputs": [
    {
     "name": "stdout",
     "output_type": "stream",
     "text": [
      "\n",
      "--- Working on filter 0:\n",
      "function = axon_on_dendrite_merges\n",
      "function __name__ = filter_away_axon_on_dendrite_merges\n",
      "function arguments = {'use_pre_existing_axon_labels': True}\n",
      "\n",
      "\n",
      "\n",
      "\n",
      "Branches Requested to Remove (WITH disconnect effect)\n",
      "\n",
      " Working on visualization type: mesh\n"
     ]
    },
    {
     "data": {
      "application/vnd.jupyter.widget-view+json": {
       "model_id": "a2fc1ee6f1b74ee386cf663c4095c541",
       "version_major": 2,
       "version_minor": 0
      },
      "text/plain": [
       "VBox(children=(Figure(camera=PerspectiveCamera(fov=46.0, position=(0.0, 0.0, 2.0), projectionMatrix=(1.0, 0.0,…"
      ]
     },
     "metadata": {},
     "output_type": "display_data"
    },
    {
     "name": "stdout",
     "output_type": "stream",
     "text": [
      "\n",
      "--- Working on filter 1:\n",
      "function = high_degree_branching\n",
      "function __name__ = filter_away_high_degree_branching\n",
      "function arguments = {'offset': 1500, 'comparison_distance': 2000, 'worst_case_match_threshold': 65, 'width_diff_max': 75, 'width_diff_perc': 60, 'match_threshold': 45, 'angle_buffer': 15, 'max_degree_to_resolve': 8, 'match_method': 'best_match'}\n",
      "\n",
      "\n",
      "\n",
      "\n",
      " ----- Working on coordinate 0: [633369.46396577 642628.37375774 904286.15810562]--------\n",
      "winning_downstream = None,error_downstream = [] \n",
      "coordinate [633369.46396577 642628.37375774 904286.15810562] had error branches []--------\n",
      "\n",
      "\n",
      " ----- Working on coordinate 1: [655835.01357908 654071.79933467 886661.69334533]--------\n",
      "winning_downstream = 9,error_downstream = [10 18] \n",
      "coordinate [655835.01357908 654071.79933467 886661.69334533] had error branches [10 18]--------\n",
      "\n",
      "\n",
      " ----- Working on coordinate 2: [703150.15902442 700224.74801046 786377.94326672]--------\n",
      "winning_downstream = 48,error_downstream = [46 44] \n",
      "coordinate [703150.15902442 700224.74801046 786377.94326672] had error branches [46 44]--------\n",
      "\n",
      "\n",
      " ----- Working on coordinate 3: [705796.38338002 711368.54932521 761452.07011226]--------\n",
      "winning_downstream = 45,error_downstream = [58 66] \n",
      "coordinate [705796.38338002 711368.54932521 761452.07011226] had error branches [58 66]--------\n",
      "\n",
      "\n",
      " ----- Working on coordinate 4: [711853.1830047  552176.20588093 767067.14412926]--------\n",
      "winning_downstream = None,error_downstream = [79 89 72] \n",
      "coordinate [711853.1830047  552176.20588093 767067.14412926] had error branches [79 89 72]--------\n",
      "\n",
      "\n",
      " ----- Working on coordinate 5: [713252.41248611 668208.00353725 834130.63609803]--------\n",
      "winning_downstream = 100,error_downstream = [83 93 81] \n",
      "coordinate [713252.41248611 668208.00353725 834130.63609803] had error branches [83 93 81]--------\n",
      "\n",
      "\n",
      " ----- Working on coordinate 6: [719501.00551068 601977.08581794 840192.81639721]--------\n",
      "winning_downstream = 127,error_downstream = [121 131] \n",
      "coordinate [719501.00551068 601977.08581794 840192.81639721] had error branches [121 131]--------\n",
      "\n",
      "\n",
      " ----- Working on coordinate 7: [719805.70771174 679693.9415088  844847.81574894]--------\n",
      "winning_downstream = None,error_downstream = [] \n",
      "coordinate [719805.70771174 679693.9415088  844847.81574894] had error branches []--------\n",
      "\n",
      "\n",
      " ----- Working on coordinate 8: [720981.3 562902.3 765358.2]--------\n",
      "winning_downstream = 116,error_downstream = [143 103] \n",
      "coordinate [720981.3 562902.3 765358.2] had error branches [143 103]--------\n",
      "\n",
      "\n",
      " ----- Working on coordinate 9: [728999.61952349 582089.64207094 768015.20907531]--------\n",
      "winning_downstream = 158,error_downstream = [165 171] \n",
      "coordinate [728999.61952349 582089.64207094 768015.20907531] had error branches [165 171]--------\n",
      "\n",
      "\n",
      " ----- Working on coordinate 10: [733771.5 548121.  740360.2]--------\n",
      "winning_downstream = 182,error_downstream = [183  39] \n",
      "coordinate [733771.5 548121.  740360.2] had error branches [183  39]--------\n",
      "\n",
      "\n",
      " ----- Working on coordinate 11: [736772.19569597 611850.46123094 775357.26609334]--------\n",
      "winning_downstream = 184,error_downstream = [185 160] \n",
      "coordinate [736772.19569597 611850.46123094 775357.26609334] had error branches [185 160]--------\n",
      "\n",
      "\n",
      " ----- Working on coordinate 12: [743911.0929221  628175.96933381 780234.59592461]--------\n",
      "winning_downstream = 192,error_downstream = [194 196] \n",
      "coordinate [743911.0929221  628175.96933381 780234.59592461] had error branches [194 196]--------\n",
      "\n",
      "\n",
      " ----- Working on coordinate 13: [750591.55787221 617483.44533858 774418.16749602]--------\n",
      "winning_downstream = None,error_downstream = [] \n",
      "coordinate [750591.55787221 617483.44533858 774418.16749602] had error branches []--------\n",
      "limb_branch_dict_to_cancel = {'L0': array([ 10,  18,  46,  44,  58,  66,  79,  89,  72,  83,  93,  81, 121,\n",
      "       131, 143, 103, 165, 171, 183,  39, 185, 160, 194, 196])}\n",
      "\n",
      "\n",
      "Branches Requested to Remove (WITH disconnect effect)\n",
      "\n",
      " Working on visualization type: mesh\n"
     ]
    },
    {
     "data": {
      "application/vnd.jupyter.widget-view+json": {
       "model_id": "b6f839e60dc64ef79470f1c6d18aa328",
       "version_major": 2,
       "version_minor": 0
      },
      "text/plain": [
       "VBox(children=(Figure(camera=PerspectiveCamera(fov=46.0, position=(0.0, 0.0, 2.0), projectionMatrix=(1.0, 0.0,…"
      ]
     },
     "metadata": {},
     "output_type": "display_data"
    },
    {
     "name": "stdout",
     "output_type": "stream",
     "text": [
      "\n",
      "--- Working on filter 2:\n",
      "function = axon_webbing_t_merges\n",
      "function __name__ = filter_away_webbing_t_merges\n",
      "function arguments = {'child_width_maximum': 75, 'parent_width_maximum': 75, 'axon_only': True, 'error_if_web_is_none': True, 'web_size_threshold': 120, 'web_size_type': 'ray_trace_median', 'web_above_threshold': True}\n",
      "\n",
      "\n",
      "limb_branch_dict_to_cancel = {}\n",
      "\n",
      "--- Working on filter 3:\n",
      "function = thick_t_merge\n",
      "function __name__ = filter_away_thick_t_merge\n",
      "function arguments = {}\n",
      "\n",
      "\n",
      "limb_branch_dict_to_cancel = {}\n",
      "\n",
      "--- Working on filter 4:\n",
      "function = double_back_and_width_change\n",
      "function __name__ = filter_away_large_double_back_or_width_changes\n",
      "function arguments = {'perform_double_back_errors': True, 'skip_double_back_errors_for_axon': False, 'width_jump_threshold': 250, 'running_width_jump_method': True, 'double_back_axon_like_threshold': 145, 'double_back_threshold': 120, 'allow_axon_double_back_angle_with_top': None, 'allow_axon_double_back_angle_with_top_width_min': 140, 'skeletal_length_to_skip': 4000, 'comparison_distance': 3000, 'perform_width_errors': True, 'perform_axon_width_errors': False}\n",
      "\n",
      "\n",
      "limb_branch_dict_to_cancel = {'L0': [16, 20, 14]}\n",
      "\n",
      "\n",
      "Branches Requested to Remove (WITH disconnect effect)\n",
      "\n",
      " Working on visualization type: mesh\n"
     ]
    },
    {
     "data": {
      "application/vnd.jupyter.widget-view+json": {
       "model_id": "029533eb05d04548a7d51bf38ba34250",
       "version_major": 2,
       "version_minor": 0
      },
      "text/plain": [
       "VBox(children=(Figure(camera=PerspectiveCamera(fov=46.0, position=(0.0, 0.0, 2.0), projectionMatrix=(1.0, 0.0,…"
      ]
     },
     "metadata": {},
     "output_type": "display_data"
    },
    {
     "name": "stdout",
     "output_type": "stream",
     "text": [
      "\n",
      "--- Working on filter 5:\n",
      "function = axon_fork_divergence\n",
      "function __name__ = filter_away_small_axon_fork_divergence\n",
      "function arguments = {'divergence_threshold_mean': 165}\n",
      "\n",
      "\n",
      "limb_branch_dict_to_cancel = {}\n",
      "\n",
      "\n",
      "\n",
      " ---- Total time for applying filter: 100.33262729644775 -----\n",
      "\n",
      "--- Finished Part 1: Filtering Neuron -----\n",
      "Apply the presyn non_error\n",
      "For presyn: # valid synapses = 54, # error synapses  = 367, # error presyns = 25\n",
      "For postsyn: # valid synapses = 3007, # error synapses  = 24, # error presyns = 0\n",
      "\n",
      "--- Finished Part 2: Filtering Synapses -----\n",
      "Synapsse Results:\n",
      "Total Number of Synapses = 3452\n",
      "n_valid_syn_ids_presyn = 54\n",
      "n_errored_syn_ids_presyn = 367\n",
      "n_valid_syn_ids_postsyn = 3007\n",
      "n_errored_syn_ids_postsyn = 24\n",
      "\n",
      "--- Finished Part 3: Generating Validation Dataframe -----\n"
     ]
    }
   ],
   "source": [
    "import proofreading_utils as pru\n",
    "(filt_neuron,\n",
    " return_synapse_df_revised,\n",
    "return_validation_df_revised) =  vu.filtered_neuron_score(neuron_obj = neuron_obj,   \n",
    "                        filter_list = pru.v4_exc_filters(),\n",
    "                        verbose = True,\n",
    "                        plot_score=False)"
   ]
  },
  {
   "cell_type": "code",
   "execution_count": 8,
   "metadata": {},
   "outputs": [
    {
     "name": "stdout",
     "output_type": "stream",
     "text": [
      "Segment Id = 864691136194042326\n",
      "Postsyn counts:\n",
      "TP:2982\n",
      "TN:7\n",
      "FP:25\n",
      "FN:17\n",
      "Presyn counts:\n",
      "TP:42\n",
      "TN:315\n",
      "FP:12\n",
      "FN:27\n"
     ]
    },
    {
     "data": {
      "image/png": "[encoded data removed]",
      "text/plain": [
       "<Figure size 700x400 with 2 Axes>"
      ]
     },
     "metadata": {},
     "output_type": "display_data"
    }
   ],
   "source": [
    "vu.synapse_validation_df_to_score_plot(return_validation_df_revised)"
   ]
  },
  {
   "cell_type": "code",
   "execution_count": 9,
   "metadata": {},
   "outputs": [
    {
     "name": "stdout",
     "output_type": "stream",
     "text": [
      "Using the mesh from the neuron object\n"
     ]
    },
    {
     "data": {
      "application/vnd.jupyter.widget-view+json": {
       "model_id": "028713c92eb34e199a11a7afe6ece0fa",
       "version_major": 2,
       "version_minor": 0
      },
      "text/plain": [
       "VBox(children=(Figure(camera=PerspectiveCamera(fov=46.0, position=(0.0, 0.0, 2.0), projectionMatrix=(1.0, 0.0,…"
      ]
     },
     "metadata": {},
     "output_type": "display_data"
    },
    {
     "name": "stdout",
     "output_type": "stream",
     "text": [
      "TP:yellow\n",
      "TN:aqua\n",
      "FP:black\n",
      "FN:orange\n"
     ]
    }
   ],
   "source": [
    "vu.plot_validation_synapses(segment_id,\n",
    "                            validation_df = return_validation_df_revised,\n",
    "                             synapse_dict = None,\n",
    "                             synapses_type_to_plot = None,\n",
    "                             synapses_type_to_not_plot = None,\n",
    "                             verbose=False,\n",
    "                             synapse_type = \"presyn\",\n",
    "                             TP_color=\"yellow\",\n",
    "                            TN_color=\"aqua\",\n",
    "                            FP_color=\"black\",\n",
    "                            FN_color=\"orange\",\n",
    "                             synapse_scatter_size = 0.15,\n",
    "                             \n",
    "                             #for plotting the actual mesh parts to go along\n",
    "                             \n",
    "                             neuron_obj = filt_neuron,\n",
    "                             plot_only_axon_skeleton = True,\n",
    "                             error_mesh_color = \"red\",\n",
    "                             valid_mesh_color = \"green\",\n",
    "                             valid_skeleton_color = \"black\",\n",
    "                             mesh_alpha = 0.3,)"
   ]
  },
  {
   "cell_type": "code",
   "execution_count": 19,
   "metadata": {},
   "outputs": [
    {
     "data": {
      "text/plain": [
       "array([713252.41248611, 668208.00353725, 834130.63609803])"
      ]
     },
     "execution_count": 19,
     "metadata": {},
     "output_type": "execute_result"
    }
   ],
   "source": [
    "crossover_coordinates[5]"
   ]
  },
  {
   "cell_type": "code",
   "execution_count": 21,
   "metadata": {},
   "outputs": [],
   "source": [
    "good_kissing_coordinates = [np.array([705796.38338002, 711368.54932521, 761452.07011226]),\n",
    "                            np.array([713252.41248611, 668208.00353725, 834130.63609803])]"
   ]
  },
  {
   "cell_type": "code",
   "execution_count": 309,
   "metadata": {
    "scrolled": true
   },
   "outputs": [
    {
     "name": "stdout",
     "output_type": "stream",
     "text": [
      "For test node 45, sibling nodes were: [58 66]\n",
      "overlap = [58 66]\n",
      "With test node equal to the downstream node\n",
      "upstream = 61, downstream_nodes = [58 66 45]\n",
      "branches_at_coord = [45 58 61 66]\n",
      "widths_in_branches = [82.11199534 61.89983121 75.43752764 46.40518361]\n",
      "coordinate_branches = [45, 58, 61, 66]\n",
      "45 = red\n",
      "58 = aqua\n",
      "61 = purple\n",
      "66 = green\n"
     ]
    },
    {
     "data": {
      "application/vnd.jupyter.widget-view+json": {
       "model_id": "00be420018484e17a208dfceeb407d41",
       "version_major": 2,
       "version_minor": 0
      },
      "text/plain": [
       "VBox(children=(Figure(camera=PerspectiveCamera(fov=46.0, position=(0.0, 0.0, 2.0), projectionMatrix=(1.0, 0.0,…"
      ]
     },
     "metadata": {},
     "output_type": "display_data"
    },
    {
     "name": "stdout",
     "output_type": "stream",
     "text": [
      "Angle between 45 and 58 = 156.78 \n",
      "Angle between 45 and 61 = 25.51 \n",
      "Angle between 45 and 66 = 21.38 \n",
      "Angle between 58 and 61 = 45.5 \n",
      "Angle between 58 and 66 = 4.13 \n",
      "Angle between 61 and 66 = 134.91 \n",
      "Final Matches = [[45, 61], [45, 66], [58, 61], [58, 66]], Final Matches Angle = [25.51, 21.38, 45.5, 4.13]\n",
      "Aligned Skeleton Parts\n"
     ]
    },
    {
     "data": {
      "application/vnd.jupyter.widget-view+json": {
       "model_id": "2e4a64265650491b991d0a37169f048c",
       "version_major": 2,
       "version_minor": 0
      },
      "text/plain": [
       "VBox(children=(Figure(camera=PerspectiveCamera(fov=46.0, position=(0.0, 0.0, 2.0), projectionMatrix=(1.0, 0.0,…"
      ]
     },
     "metadata": {},
     "output_type": "display_data"
    },
    {
     "data": {
      "application/vnd.jupyter.widget-view+json": {
       "model_id": "315798d0c21742149b9cd6a66c42f782",
       "version_major": 2,
       "version_minor": 0
      },
      "text/plain": [
       "VBox(children=(Figure(camera=PerspectiveCamera(fov=46.0, position=(0.0, 0.0, 2.0), projectionMatrix=(1.0, 0.0,…"
      ]
     },
     "metadata": {},
     "output_type": "display_data"
    },
    {
     "data": {
      "application/vnd.jupyter.widget-view+json": {
       "model_id": "c7b4ff1cc3064ecdb10b98f38af29ae5",
       "version_major": 2,
       "version_minor": 0
      },
      "text/plain": [
       "VBox(children=(Figure(camera=PerspectiveCamera(fov=46.0, position=(0.0, 0.0, 2.0), projectionMatrix=(1.0, 0.0,…"
      ]
     },
     "metadata": {},
     "output_type": "display_data"
    },
    {
     "data": {
      "application/vnd.jupyter.widget-view+json": {
       "model_id": "e83604df24f5457cb8341d470ce1ef56",
       "version_major": 2,
       "version_minor": 0
      },
      "text/plain": [
       "VBox(children=(Figure(camera=PerspectiveCamera(fov=46.0, position=(0.0, 0.0, 2.0), projectionMatrix=(1.0, 0.0,…"
      ]
     },
     "metadata": {},
     "output_type": "display_data"
    },
    {
     "data": {
      "application/vnd.jupyter.widget-view+json": {
       "model_id": "921627c5be3649c090a3de64ff602983",
       "version_major": 2,
       "version_minor": 0
      },
      "text/plain": [
       "VBox(children=(Figure(camera=PerspectiveCamera(fov=46.0, position=(0.0, 0.0, 2.0), projectionMatrix=(1.0, 0.0,…"
      ]
     },
     "metadata": {},
     "output_type": "display_data"
    },
    {
     "name": "stdout",
     "output_type": "stream",
     "text": [
      "matched_edges = [[45, 61], [45, 66], [58, 61], [58, 66]]matched_edges_angles = [25.51, 21.38, 45.5, 4.13]\n",
      "Step 2: Edges with worst case scenario matching = 65\n",
      "Remaining Edges = [(45, 61), (45, 66), (58, 61), (58, 66)], Remaining Nodes = [45, 58, 61, 66]\n",
      "edges_to_remove_by_width = []\n",
      "Step 2: Edges after widht mismatch\n",
      "Remaining Edges = [(45, 61), (45, 66), (58, 61), (58, 66)], Remaining Nodes = [45, 58, 61, 66]\n",
      "--Working on edge [45 61]--\n",
      "--Working on edge [45 66]--\n",
      "--Working on edge [58 61]--\n",
      "--Working on edge [58 66]--\n",
      "Edge [58 66] is matches definite match threshold with: \n",
      "Edge Buffer of 17.25 (angle_buffer = 15)\n",
      "Edge Angle of 4.13 (match_threshold = 45)\n",
      "Step 4: Definite Edges\n",
      "Remaining Edges = [(45, 61), (58, 66)], Remaining Nodes = [45, 58, 61, 66]\n",
      "upstream_subgraph = [61 45]\n",
      "Possible Connections = [45], angles = [25.51]\n",
      "Deleting the following nodes because above match threshold while 1 are: []\n",
      "Step 5: Removing worst case edges\n",
      "Remaining Edges = [(45, 61), (58, 66)]\n",
      "Using best match method\n",
      "for upstream node 61, winning_node = 45, error_branches = [58 66]\n",
      "45 [58 66]\n"
     ]
    }
   ],
   "source": [
    "import error_detection as ed\n",
    "winning_downstream,error_downstream = ed.high_degree_upstream_match(limb_obj,\n",
    "                          coordinate = good_kissing_coordinates[0],\n",
    "                        plot_intermediates = True,\n",
    "                        plot_match_intermediates = True,\n",
    "                          verbose=True)\n",
    "print(winning_downstream,error_downstream)"
   ]
  },
  {
   "cell_type": "markdown",
   "metadata": {},
   "source": [
    "# Partition Function"
   ]
  },
  {
   "cell_type": "code",
   "execution_count": 391,
   "metadata": {},
   "outputs": [
    {
     "data": {
      "text/plain": [
       "EdgeView([(81, 94), (83, 93), (83, 100), (93, 94), (94, 100)])"
      ]
     },
     "execution_count": 391,
     "metadata": {},
     "output_type": "execute_result"
    }
   ],
   "source": [
    "G.edges()"
   ]
  },
  {
   "cell_type": "code",
   "execution_count": 390,
   "metadata": {
    "scrolled": false
   },
   "outputs": [
    {
     "name": "stdout",
     "output_type": "stream",
     "text": [
      "branches = [ 81  83  93  94 100]\n",
      "unique_comb = [[81, 83], [81, 93], [81, 94], [81, 100]]\n",
      "81:purple\n",
      "83:aqua\n",
      "93:green\n",
      "94:red\n",
      "100:purple\n"
     ]
    },
    {
     "data": {
      "application/vnd.jupyter.widget-view+json": {
       "model_id": "e3a101fe55f2490eac12de3e6205ae83",
       "version_major": 2,
       "version_minor": 0
      },
      "text/plain": [
       "VBox(children=(Figure(camera=PerspectiveCamera(fov=46.0, position=(0.0, 0.0, 2.0), projectionMatrix=(1.0, 0.0,…"
      ]
     },
     "metadata": {},
     "output_type": "display_data"
    },
    {
     "name": "stdout",
     "output_type": "stream",
     "text": [
      "skeleton_offset_points_dict = {81: array([711596.05572653, 669874.28769926, 832807.30882245]), 83: array([713518.98775759, 670542.19047425, 836010.00062444]), 93: array([713532.55701768, 666263.39913517, 831421.83304927]), 94: array([714231.60826384, 670855.29225146, 835299.2193177 ]), 100: array([714181.59433497, 665240.03128078, 833288.51452666])}\n",
      "node_partitions\n",
      "choose_k_options = [2]\n",
      "partition 0: [[81, 83], [93, 94, 100]]\n",
      "partition 1: [[81, 93], [83, 94, 100]]\n",
      "partition 2: [[81, 94], [83, 93, 100]]\n",
      "partition 3: [[81, 100], [83, 93, 94]]\n",
      "partition 4: [[83, 93], [81, 94, 100]]\n",
      "partition 5: [[83, 94], [81, 93, 100]]\n",
      "partition 6: [[83, 100], [81, 93, 94]]\n",
      "partition 7: [[93, 94], [81, 83, 100]]\n",
      "partition 8: [[93, 100], [81, 83, 94]]\n",
      "partition 9: [[94, 100], [81, 83, 93]]\n",
      "Working on partition 0: [81, 83],[93, 94, 100]\n",
      "cut_weight = 20000\n",
      "nodes_in_edge_cut = [1599  893 1599  960]\n",
      "G_cut_edges = None\n",
      "Could not find a cut edge for the source and sink coordinates: returning None\n",
      "Output was None so continuing\n",
      "Working on partition 1: [81, 93],[83, 94, 100]\n",
      "cut_weight = 20000\n",
      "nodes_in_edge_cut = [1599  375 1599  893]\n",
      "G_cut_edges = None\n",
      "Could not find a cut edge for the source and sink coordinates: returning None\n",
      "Output was None so continuing\n",
      "Working on partition 2: [81, 94],[83, 93, 100]\n",
      "cut_weight = 8\n",
      "nodes_in_edge_cut = [  37  286   37 1591  987 1591 1297 1591 1493  286 1493  307 1493 1591\n",
      " 1501  286]\n",
      "G_cut_edges = [[  37  286]\n",
      " [  37 1591]\n",
      " [ 987 1591]\n",
      " [1297 1591]\n",
      " [1493  286]\n",
      " [1493  307]\n",
      " [1493 1591]\n",
      " [1501  286]]\n",
      "# 0f cut points = 8\n"
     ]
    },
    {
     "data": {
      "application/vnd.jupyter.widget-view+json": {
       "model_id": "d73fe508097848f19298ec0c74e73749",
       "version_major": 2,
       "version_minor": 0
      },
      "text/plain": [
       "VBox(children=(Figure(camera=PerspectiveCamera(fov=46.0, position=(0.0, 0.0, 2.0), projectionMatrix=(1.0, 0.0,…"
      ]
     },
     "metadata": {},
     "output_type": "display_data"
    },
    {
     "name": "stdout",
     "output_type": "stream",
     "text": [
      "cut_bbox_volume = 1909969.2164486006, cut_bbox_longest_side = 261.7612477694638\n"
     ]
    },
    {
     "data": {
      "application/vnd.jupyter.widget-view+json": {
       "model_id": "7330a8bf910b4b24952b09c468cedc83",
       "version_major": 2,
       "version_minor": 0
      },
      "text/plain": [
       "VBox(children=(Figure(camera=PerspectiveCamera(fov=46.0, position=(0.0, 0.0, 2.0), projectionMatrix=(1.0, 0.0,…"
      ]
     },
     "metadata": {},
     "output_type": "display_data"
    },
    {
     "name": "stdout",
     "output_type": "stream",
     "text": [
      "** triggered kiss check cut becuase cut_bbox_longest_side = 261.7612477694638***\n",
      "Edges after removing partition = [[ 81.    94.    62.5 ]\n",
      " [ 83.    93.    21.67]\n",
      " [ 83.   100.     8.07]]\n",
      "Working on partition 3: [81, 100],[83, 93, 94]\n",
      "cut_weight = 20000\n",
      "nodes_in_edge_cut = [1599  476 1599  893]\n",
      "G_cut_edges = None\n",
      "Could not find a cut edge for the source and sink coordinates: returning None\n",
      "Output was None so continuing\n",
      "Working on partition 4: [83, 93],[81, 94, 100]\n",
      "cut_weight = 27\n",
      "nodes_in_edge_cut = [  41  414   41  997   88 1200   88 1330   88 1368  101  222  101 1032\n",
      "  140  997  148 1368  148 1512  238 1360  238 1512  380  142  380  222\n",
      "  380  405  457  997  457 1360  941 1150 1046  658 1046 1032 1343 1200\n",
      " 1465 1150 1465 1200 1491  414 1491  658 1568  405 1568 1150]\n",
      "G_cut_edges = [[  41  414]\n",
      " [  41  997]\n",
      " [  88 1200]\n",
      " [  88 1330]\n",
      " [  88 1368]\n",
      " [ 101  222]\n",
      " [ 101 1032]\n",
      " [ 140  997]\n",
      " [ 148 1368]\n",
      " [ 148 1512]\n",
      " [ 238 1360]\n",
      " [ 238 1512]\n",
      " [ 380  142]\n",
      " [ 380  222]\n",
      " [ 380  405]\n",
      " [ 457  997]\n",
      " [ 457 1360]\n",
      " [ 941 1150]\n",
      " [1046  658]\n",
      " [1046 1032]\n",
      " [1343 1200]\n",
      " [1465 1150]\n",
      " [1465 1200]\n",
      " [1491  414]\n",
      " [1491  658]\n",
      " [1568  405]\n",
      " [1568 1150]]\n",
      "# 0f cut points = 27\n"
     ]
    },
    {
     "data": {
      "application/vnd.jupyter.widget-view+json": {
       "model_id": "9f52aaeb9fc24dacb2248a69baafac80",
       "version_major": 2,
       "version_minor": 0
      },
      "text/plain": [
       "VBox(children=(Figure(camera=PerspectiveCamera(fov=46.0, position=(0.0, 0.0, 2.0), projectionMatrix=(1.0, 0.0,…"
      ]
     },
     "metadata": {},
     "output_type": "display_data"
    },
    {
     "name": "stdout",
     "output_type": "stream",
     "text": [
      "cut_bbox_volume = 64787800.242149636, cut_bbox_longest_side = 970.1968713370152\n"
     ]
    },
    {
     "data": {
      "application/vnd.jupyter.widget-view+json": {
       "model_id": "43ecdd1dc2f54e6da7563ec1c705313a",
       "version_major": 2,
       "version_minor": 0
      },
      "text/plain": [
       "VBox(children=(Figure(camera=PerspectiveCamera(fov=46.0, position=(0.0, 0.0, 2.0), projectionMatrix=(1.0, 0.0,…"
      ]
     },
     "metadata": {},
     "output_type": "display_data"
    },
    {
     "name": "stdout",
     "output_type": "stream",
     "text": [
      "Working on partition 5: [83, 94],[81, 93, 100]\n",
      "cut_weight = 20000\n",
      "nodes_in_edge_cut = [1599  960 1599 1459]\n",
      "G_cut_edges = None\n",
      "Could not find a cut edge for the source and sink coordinates: returning None\n",
      "Output was None so continuing\n",
      "Working on partition 6: [83, 100],[81, 93, 94]\n",
      "cut_weight = 13\n",
      "nodes_in_edge_cut = [ 397   28  397 1150  405 1150  658   28  658  414  658 1136 1491   41\n",
      " 1491  140 1491  414 1521  140 1568  140 1568  941 1568 1150]\n",
      "G_cut_edges = [[ 397   28]\n",
      " [ 397 1150]\n",
      " [ 405 1150]\n",
      " [ 658   28]\n",
      " [ 658  414]\n",
      " [ 658 1136]\n",
      " [1491   41]\n",
      " [1491  140]\n",
      " [1491  414]\n",
      " [1521  140]\n",
      " [1568  140]\n",
      " [1568  941]\n",
      " [1568 1150]]\n",
      "# 0f cut points = 13\n"
     ]
    },
    {
     "data": {
      "application/vnd.jupyter.widget-view+json": {
       "model_id": "bbad4410d4f647a1aaa7b20247dc1802",
       "version_major": 2,
       "version_minor": 0
      },
      "text/plain": [
       "VBox(children=(Figure(camera=PerspectiveCamera(fov=46.0, position=(0.0, 0.0, 2.0), projectionMatrix=(1.0, 0.0,…"
      ]
     },
     "metadata": {},
     "output_type": "display_data"
    },
    {
     "name": "stdout",
     "output_type": "stream",
     "text": [
      "cut_bbox_volume = 3814045.1104618073, cut_bbox_longest_side = 411.6791600298602\n"
     ]
    },
    {
     "data": {
      "application/vnd.jupyter.widget-view+json": {
       "model_id": "c288e48f27504fa5a9d1147c84575886",
       "version_major": 2,
       "version_minor": 0
      },
      "text/plain": [
       "VBox(children=(Figure(camera=PerspectiveCamera(fov=46.0, position=(0.0, 0.0, 2.0), projectionMatrix=(1.0, 0.0,…"
      ]
     },
     "metadata": {},
     "output_type": "display_data"
    },
    {
     "name": "stdout",
     "output_type": "stream",
     "text": [
      "** triggered kiss check cut becuase cut_bbox_longest_side = 411.6791600298602***\n",
      "Edges after removing partition = [[ 81.    94.    62.5 ]\n",
      " [ 83.   100.     8.07]]\n",
      "Working on partition 7: [93, 94],[81, 83, 100]\n",
      "cut_weight = 20000\n",
      "nodes_in_edge_cut = [1599  375 1599 1459]\n",
      "G_cut_edges = None\n",
      "Could not find a cut edge for the source and sink coordinates: returning None\n",
      "Output was None so continuing\n",
      "Working on partition 8: [93, 100],[81, 83, 94]\n",
      "cut_weight = 25\n",
      "nodes_in_edge_cut = [  28  658   28 1055   28 1136   88 1330   88 1368  148 1368  148 1512\n",
      "  238 1360  238 1512  397  145  397  658  405  142  405  380  457  140\n",
      "  457  997  457 1360  655  142  655  145  655 1266  941  140 1200 1055\n",
      " 1200 1330 1568  140 1568  380 1568 1521]\n",
      "G_cut_edges = [[  28  658]\n",
      " [  28 1055]\n",
      " [  28 1136]\n",
      " [  88 1330]\n",
      " [  88 1368]\n",
      " [ 148 1368]\n",
      " [ 148 1512]\n",
      " [ 238 1360]\n",
      " [ 238 1512]\n",
      " [ 397  145]\n",
      " [ 397  658]\n",
      " [ 405  142]\n",
      " [ 405  380]\n",
      " [ 457  140]\n",
      " [ 457  997]\n",
      " [ 457 1360]\n",
      " [ 655  142]\n",
      " [ 655  145]\n",
      " [ 655 1266]\n",
      " [ 941  140]\n",
      " [1200 1055]\n",
      " [1200 1330]\n",
      " [1568  140]\n",
      " [1568  380]\n",
      " [1568 1521]]\n",
      "# 0f cut points = 25\n"
     ]
    },
    {
     "data": {
      "application/vnd.jupyter.widget-view+json": {
       "model_id": "8309e73f6a2c41b9af652cf17bd76944",
       "version_major": 2,
       "version_minor": 0
      },
      "text/plain": [
       "VBox(children=(Figure(camera=PerspectiveCamera(fov=46.0, position=(0.0, 0.0, 2.0), projectionMatrix=(1.0, 0.0,…"
      ]
     },
     "metadata": {},
     "output_type": "display_data"
    },
    {
     "name": "stdout",
     "output_type": "stream",
     "text": [
      "cut_bbox_volume = 38170154.96768996, cut_bbox_longest_side = 810.7869925238192\n"
     ]
    },
    {
     "data": {
      "application/vnd.jupyter.widget-view+json": {
       "model_id": "79453a2383e84ba4a9c0bfae2e74a478",
       "version_major": 2,
       "version_minor": 0
      },
      "text/plain": [
       "VBox(children=(Figure(camera=PerspectiveCamera(fov=46.0, position=(0.0, 0.0, 2.0), projectionMatrix=(1.0, 0.0,…"
      ]
     },
     "metadata": {},
     "output_type": "display_data"
    },
    {
     "name": "stdout",
     "output_type": "stream",
     "text": [
      "Working on partition 9: [94, 100],[81, 83, 93]\n",
      "cut_weight = 20000\n",
      "nodes_in_edge_cut = [1599  476 1599 1459]\n",
      "G_cut_edges = None\n",
      "Could not find a cut edge for the source and sink coordinates: returning None\n",
      "Output was None so continuing\n"
     ]
    }
   ],
   "source": [
    "ret_G = ed.cut_kissing_graph_edges(G,limb_obj,\n",
    "    kiss_check_bbox_longest_side_threshold = 450,\n",
    "    coordinate = good_kissing_coordinates[1],\n",
    "    offset=1500,\n",
    "    comparison_distance = 2000,\n",
    "    plot_offset_skeletons = True,\n",
    "    plot_source_sink_vertices = False,\n",
    "    plot_cut_vertices = True,\n",
    "    plot_cut_bbox = True,\n",
    "    verbose = True\n",
    "                )"
   ]
  },
  {
   "cell_type": "markdown",
   "metadata": {},
   "source": [
    "# Fleshing Out Crossover"
   ]
  },
  {
   "cell_type": "code",
   "execution_count": 311,
   "metadata": {},
   "outputs": [],
   "source": [
    "import axon_utils as au"
   ]
  },
  {
   "cell_type": "code",
   "execution_count": 388,
   "metadata": {},
   "outputs": [
    {
     "name": "stdout",
     "output_type": "stream",
     "text": [
      "For test node 81, sibling nodes were: [ 83  93 100]\n",
      "overlap = [ 83  93 100]\n",
      "With test node equal to the downstream node\n",
      "upstream = 94, downstream_nodes = [ 83  93 100  81]\n",
      "branches_at_coord = [ 81  83  93  94 100]\n",
      "widths_in_branches = [126.39878383  55.46542958  81.48527104  62.36045901  46.83167964]\n",
      "coordinate_branches = [81, 83, 93, 94, 100]\n",
      "81 = blue\n",
      "83 = green\n",
      "93 = red\n",
      "94 = cyan\n",
      "100 = magenta\n"
     ]
    },
    {
     "data": {
      "application/vnd.jupyter.widget-view+json": {
       "model_id": "ba20b1452e0e42508ace0174b1cbaa7e",
       "version_major": 2,
       "version_minor": 0
      },
      "text/plain": [
       "VBox(children=(Figure(camera=PerspectiveCamera(fov=46.0, position=(0.0, 0.0, 2.0), projectionMatrix=(1.0, 0.0,…"
      ]
     },
     "metadata": {},
     "output_type": "display_data"
    },
    {
     "name": "stdout",
     "output_type": "stream",
     "text": [
      "Angle between 81 and 83 = 77.37 \n",
      "Angle between 81 and 93 = 117.69 \n",
      "Angle between 81 and 94 = 62.5 \n",
      "Angle between 81 and 100 = 95.62 \n",
      "Angle between 83 and 93 = 21.67 \n",
      "Angle between 83 and 94 = 138.51 \n",
      "Angle between 83 and 100 = 8.07 \n",
      "Angle between 93 and 94 = 51.05 \n",
      "Angle between 93 and 100 = 150.43 \n",
      "Angle between 94 and 100 = 41.76 \n",
      "Final Matches = [[81, 94], [83, 93], [83, 100], [93, 94], [94, 100]], Final Matches Angle = [62.5, 21.67, 8.07, 51.05, 41.76]\n",
      "matched_edges = [[81, 94], [83, 93], [83, 100], [93, 94], [94, 100]]matched_edges_angles = [62.5, 21.67, 8.07, 51.05, 41.76]\n",
      "Step 2: Edges with worst case scenario matching = 65\n",
      "Remaining Edges = [(81, 94), (83, 93), (83, 100), (93, 94), (94, 100)], Remaining Nodes = [81, 83, 93, 94, 100]\n",
      "edges_to_remove_by_width = []\n",
      "Step 2: Edges after widht mismatch\n",
      "Remaining Edges = [(81, 94), (83, 93), (83, 100), (93, 94), (94, 100)], Remaining Nodes = [81, 83, 93, 94, 100]\n",
      "Working on Kissing check\n"
     ]
    }
   ],
   "source": [
    "limb_obj = neuron_obj[neuron_obj.axon_limb_name]\n",
    "coordinate = good_kissing_coordinates[1]\n",
    "upstream_branch = None\n",
    "downstream_branches = None\n",
    "\n",
    "#arguments for the angle checking\n",
    "offset=1500\n",
    "comparison_distance = 2000\n",
    "worst_case_match_threshold = 65\n",
    "plot_intermediates = True\n",
    "plot_match_intermediates = False\n",
    "\n",
    "#args for width matching\n",
    "width_diff_max = 75#np.inf,100,\n",
    "width_diff_perc = 60\n",
    "\n",
    "#args for definite pairs\n",
    "match_threshold = 45\n",
    "angle_buffer = 15\n",
    "\n",
    "max_degree_to_resolve = 6\n",
    "max_degree_to_resolve_wide = 8\n",
    "max_degree_to_resolve_width_threshold = 200\n",
    "\n",
    "axon_dependent = True\n",
    "\n",
    "width_max = 170\n",
    "\n",
    "#args for picking the final winner\n",
    "match_method = \"best_match\" #other option is \"best_match\"\n",
    "\n",
    "remove_short_thick_endnodes = True\n",
    "short_thick_endnodes_to_remove = None\n",
    "min_degree_to_resolve = 4\n",
    "\n",
    "kiss_check = True\n",
    "kiss_check_bbox_longest_side_threshold = 450\n",
    "\n",
    "verbose = True\n",
    "\n",
    "\n",
    "\"\"\"\n",
    "Purpose: To figure out which downstream\n",
    "node is the most likely continuation of the \n",
    "upstream node\n",
    "\n",
    "Pseudocode: \n",
    "0) Determine branches touching coordinate and which node is the upstream node and which are downstream\n",
    "1) Compute the skeletal angles between all branches\n",
    "2) Create a skeletal graph where make the edges between\n",
    "all nodes that meet the worst case scenario\n",
    "3) Compute the width difference between all branches connected by an edge\n",
    "Remove all the edges that violate the width difference threshold\n",
    "4) Create definite pairs by looking for edges that meet:\n",
    "- match threshold\n",
    "- have buffer better than other edges\n",
    "** for those edges, eliminate all edges on those\n",
    "2 nodes except that edge\n",
    "\n",
    "5) If the upstream node has at least one valid \n",
    "match then eliminate others above the match threshold\n",
    "\n",
    "6) Get a subgraph that includes the upstream node:\n",
    "if there are other nodes in the group use on of the following to determine winner\n",
    "    a) best match\n",
    "    b) least sum angle\n",
    "\n",
    "7) Return the winning edge, and optionally all of the other\n",
    "downstream nodes that are errored out\n",
    "\n",
    "\"\"\"\n",
    "\n",
    "\n",
    "#0) Determine which node is the upstream node and which are downstream\n",
    "if upstream_branch is None or downstream_branches is None:\n",
    "    branches_at_coord = nru.find_branch_with_specific_coordinate(limb_obj,coordinate)\n",
    "\n",
    "    upstream_branch, downstream_branches = nru.classify_upstream_downsream(limb_obj,\n",
    "                               branch_list = branches_at_coord,\n",
    "                                verbose = verbose)\n",
    "else:\n",
    "    branches_at_coord = np.hstack([downstream_branches,[upstream_branch]])\n",
    "\n",
    "if verbose:\n",
    "    print(f\"branches_at_coord = {branches_at_coord}\")\n",
    "\n",
    "\n",
    "\"\"\"\n",
    "4/24 Addition: Will remove the short thick axon endnodes\n",
    "\"\"\"\n",
    "if remove_short_thick_endnodes:\n",
    "    if short_thick_endnodes_to_remove is None:\n",
    "        short_thick_endnodes_to_remove = au.short_thick_branches_from_limb(limb_obj,\n",
    "                             verbose = False)\n",
    "    branches_at_coord = np.setdiff1d(branches_at_coord,short_thick_endnodes_to_remove)\n",
    "\n",
    "if len(branches_at_coord) < min_degree_to_resolve:\n",
    "    if verbose:\n",
    "        print(f\"Number of branches ({len(branches_at_coord)}, aka branches_at_coord = {branches_at_coord}) was less than min_degree_to_resolve ({min_degree_to_resolve}) so returning no error branches\")\n",
    "    #return None,np.array([])\n",
    "    raise Exception(\"Returned\")\n",
    "\n",
    "# -- end of short thick addition --------\n",
    "\n",
    "\n",
    "if max_degree_to_resolve_wide is not None:\n",
    "    up_width = au.axon_width(limb_obj[upstream_branch])\n",
    "    if up_width > max_degree_to_resolve_width_threshold:\n",
    "        max_degree_to_resolve = max_degree_to_resolve_wide\n",
    "        print(f\"Changing max_degree_to_resolve = {max_degree_to_resolve_wide} because upstream width was {up_width} \")\n",
    "\n",
    "if len(branches_at_coord) > max_degree_to_resolve:\n",
    "    if verbose:\n",
    "        print(f\"Number of branches ({len(branches_at_coord)}) was more than max_degree_to_resolve ({max_degree_to_resolve}) so returning all downstream as error branches\")\n",
    "    #return None,branches_at_coord\n",
    "    raise Exception(\"Returned\")\n",
    "\n",
    "widths_in_branches = np.array([au.axon_width(limb_obj[b]) for b in branches_at_coord])\n",
    "if verbose:\n",
    "    print(f\"widths_in_branches = {widths_in_branches}\")\n",
    "\n",
    "widths_in_branches = widths_in_branches[widths_in_branches != 0]\n",
    "\n",
    "if width_max is not None:\n",
    "    if len(widths_in_branches[widths_in_branches>width_max]) == len(widths_in_branches):\n",
    "        if verbose:\n",
    "            print(f\"Returning No errors because widths are too thick for skeletons to be trusted\")\n",
    "        #return None,[]\n",
    "        raise Exception(\"Returned\")\n",
    "\n",
    "if axon_dependent:\n",
    "    for b in branches_at_coord:\n",
    "        if \"axon\" not in limb_obj[b].labels:\n",
    "            if verbose:\n",
    "                print(f\"Returning No errors because not all branches were axons\")\n",
    "            #return None,[]\n",
    "            raise Exception(\"Returned\")\n",
    "\n",
    "#1) Compute the skeletal angles between all branches\n",
    "matched_edges, matched_edges_angles = ed.matched_branches_by_angle_at_coordinate(limb_obj,\n",
    "                                        coordinate,\n",
    "                                           coordinate_branches = branches_at_coord,\n",
    "                                        offset=offset,\n",
    "                                        comparison_distance = comparison_distance,\n",
    "                                        match_threshold = worst_case_match_threshold,\n",
    "                                        verbose = verbose,\n",
    "                                        plot_intermediates = plot_intermediates,\n",
    "                                        plot_match_intermediates = plot_match_intermediates,\n",
    "                                        )\n",
    "if verbose:\n",
    "    print(f\"matched_edges = {matched_edges}\"\n",
    "          f\"matched_edges_angles = {matched_edges_angles}\")\n",
    "\n",
    "\n",
    "\n",
    "# 2) Create a skeletal graph where make the edges between\n",
    "# all nodes that meet the worst case scenario\n",
    "\n",
    "G = nx.Graph()\n",
    "G.add_nodes_from(branches_at_coord)\n",
    "G.add_weighted_edges_from([k+[v] for k,v in zip(matched_edges,matched_edges_angles)])\n",
    "\n",
    "if verbose:\n",
    "    print(f\"Step 2: Edges with worst case scenario matching = {worst_case_match_threshold}\")\n",
    "    print(f\"Remaining Edges = {G.edges()}, Remaining Nodes = {G.nodes()}\")\n",
    "#     nx.draw(G,with_labels=True)\n",
    "#     plt.show()\n",
    "\n",
    "\n",
    "\"\"\"\n",
    "3) Compute the width difference between all branches connected by an edge\n",
    "Remove all the edges that violate the width difference threshold\n",
    "\"\"\"\n",
    "\n",
    "\n",
    "edges_to_remove_by_width = []\n",
    "for e in G.edges():\n",
    "    b1,b2 = e\n",
    "    b1_width = au.axon_width(limb_obj[b1])\n",
    "    b2_width = au.axon_width(limb_obj[b2])    \n",
    "    width_difference = np.abs(b1_width-b2_width)\n",
    "\n",
    "    if width_diff_perc is not None:\n",
    "        width_diff_max_perc = width_diff_perc*np.max([b1_width,b2_width])/100\n",
    "        #print(f\"Computed width_diff_max as {width_diff_max_perc} using width_diff_perc = {width_diff_perc} and width_diff_max = {width_diff_max}\")\n",
    "        if width_diff_max is not None:\n",
    "            width_diff_max = np.max([width_diff_max_perc,width_diff_max])\n",
    "\n",
    "            #print(f\"The maximum width chosen was {width_diff_max}\")\n",
    "        else:\n",
    "            width_diff_max = width_diff_max_perc\n",
    "\n",
    "    if width_difference > width_diff_max:\n",
    "        if verbose:\n",
    "            print(f\"Removing edges {e} because width difference {width_difference}\")\n",
    "        edges_to_remove_by_width.append(e)\n",
    "if verbose:\n",
    "    print(f\"edges_to_remove_by_width = {edges_to_remove_by_width}\")\n",
    "\n",
    "G.remove_edges_from(edges_to_remove_by_width)\n",
    "\n",
    "if verbose:\n",
    "    print(f\"Step 2: Edges after widht mismatch\")\n",
    "    print(f\"Remaining Edges = {G.edges()}, Remaining Nodes = {G.nodes()}\")\n",
    "#     nx.draw(G,with_labels=True)\n",
    "#     plt.show()\n",
    "\n",
    "\n",
    "\"\"\"\n",
    "---------- 4/29 Addition: Kiss Filter -----------\n",
    "\n",
    "Pseudocode:\n",
    "0) Get the offset skeleton coordinates for all nodes in graph\n",
    "1) find all the possible partitions of the remaining nodes\n",
    "\n",
    "\"\"\" \n",
    "if kiss_check:\n",
    "    if len(G.nodes())>3:\n",
    "        print(\"Working on Kissing check\")\n",
    "    else:\n",
    "        if verbose:\n",
    "            print(f\"Not doing kiss check because not 4 or more nodes\")\n",
    "            \n",
    "\n",
    "    \n",
    "    \n",
    "\n",
    "    \n",
    "\n",
    "\n",
    "# \"\"\"\n",
    "# 4) Create definite pairs by looking for edges that meet:\n",
    "# - match threshold\n",
    "# - have buffer better than other edges\n",
    "# ** for those edges, eliminate all edges on those\n",
    "# 2 nodes except that edge\n",
    "\n",
    "# Pseudocode: \n",
    "# Iterate through each edge:\n",
    "# a) get the current weight of this edge\n",
    "# b) get all the other edges that are touching the two nodes and their weights\n",
    "# c) Run the following test on the edge:\n",
    "#    i) Is it in the match limit\n",
    "#    ii) is it less than other edge weightbs by the buffer size\n",
    "# d) If pass the tests then delete all of the other edges from the graph\n",
    "# \"\"\"\n",
    "# other_edges_to_remove = []\n",
    "# for e in G.edges():\n",
    "#     e = np.sort(e)\n",
    "#     if verbose:\n",
    "#         print(f\"--Working on edge {e}--\")\n",
    "#     e_weight = xu.get_edge_weight(G,e)\n",
    "#     all_edges = np.unique(\n",
    "#                 np.sort(\n",
    "#                 np.array(xu.node_to_edges(G,e[0]) + xu.node_to_edges(G,e[1])),axis=1)\n",
    "#                 ,axis=0)\n",
    "\n",
    "\n",
    "#     #b) get all the other edges that are touching the two nodes and their weights\n",
    "#     other_edges = nu.setdiff2d(all_edges,e.reshape(-1,2))\n",
    "\n",
    "#     if len(other_edges) == 0:\n",
    "#         other_edge_min = np.inf\n",
    "#     else:\n",
    "#         other_edge_weights = [xu.get_edge_weight(G,edg) for edg in other_edges]\n",
    "#         #print(f\"other_edge_weights = {other_edge_weights}\")\n",
    "#         other_edge_min = np.min(other_edge_weights)\n",
    "#         #print(f\"other_edge_min = {other_edge_min}\")\n",
    "\n",
    "#     edge_buffer = other_edge_min - e_weight\n",
    "#     if e_weight <= match_threshold and edge_buffer > angle_buffer:\n",
    "#         if verbose:\n",
    "#             print(f\"Edge {e} is matches definite match threshold with: \"\n",
    "#                  f\"\\nEdge Buffer of {edge_buffer} (angle_buffer = {angle_buffer})\"\n",
    "#                  f\"\\nEdge Angle of {e_weight} (match_threshold = {match_threshold})\")\n",
    "#         other_edges_to_remove += list(other_edges)\n",
    "\n",
    "        \n",
    "# #G.remove_edges_from(other_edges_to_remove)\n",
    "\n",
    "# if verbose:\n",
    "#     print(f\"Step 4: Definite Edges\")\n",
    "#     print(f\"Remaining Edges = {G.edges()}, Remaining Nodes = {G.nodes()}\")\n",
    "# #     nx.draw(G,with_labels=True)\n",
    "# #     plt.show()\n",
    "\n",
    "\n",
    "# \"\"\"\n",
    "# 5) If the upstream node has at least one valid \n",
    "# match then eliminate others above the match threshold\n",
    "# \"\"\"\n",
    "\n",
    "# upstream_subgraph = np.array([list(k) for k in nx.connected_components(G) \n",
    "#                               if upstream_branch in k][0])\n",
    "# upstream_G = G.subgraph(upstream_subgraph)\n",
    "\n",
    "# if verbose:\n",
    "#     print(f\"upstream_subgraph = {upstream_subgraph}\")\n",
    "\n",
    "# poss_connections = np.array(xu.get_neighbors(upstream_G,upstream_branch))\n",
    "# poss_connections_weights = np.array([xu.get_edge_weight(G,(upstream_branch,k)) for k in poss_connections])\n",
    "\n",
    "# if verbose:\n",
    "#     print(f\"Possible Connections = {poss_connections}, angles = {poss_connections_weights}\")\n",
    "\n",
    "# n_below_match = len(np.where(poss_connections_weights<=match_threshold)[0])\n",
    "# if n_below_match > 0:\n",
    "#     e_to_delete = [(upstream_branch,k) for k in \n",
    "#                    poss_connections[poss_connections_weights>match_threshold]]\n",
    "#     if verbose:\n",
    "#         print(f\"Deleting the following nodes because above match threshold while {n_below_match} are: {e_to_delete}\")\n",
    "#     G.remove_edges_from(e_to_delete)\n",
    "\n",
    "# if verbose:\n",
    "#     print(f\"Step 5: Removing worst case edges\")\n",
    "#     print(f\"Remaining Edges = {G.edges()}\")\n",
    "\n",
    "\n",
    "\n",
    "# \"\"\"\n",
    "# Part 6:\n",
    "# if there are other nodes in the group use on of the following to determine winner\n",
    "#     a) best match\n",
    "#     b) least sum angle\n",
    "# \"\"\"\n",
    "# upstream_subgraph = np.array([list(k) for k in nx.connected_components(G) \n",
    "#                               if upstream_branch in k][0])\n",
    "\n",
    "\n",
    "\n",
    "# if len(upstream_subgraph) == 1:\n",
    "#     winning_node = None\n",
    "#     error_branches = downstream_branches\n",
    "# else:\n",
    "#     if match_method == \"best_match\":\n",
    "#         if verbose:\n",
    "#             print(f\"Using best match method\")\n",
    "#         winning_node = xu.get_neighbor_min_weighted_edge(G,upstream_branch)\n",
    "#     elif match_method == \"lowest_angle_sum\":\n",
    "#         if verbose:\n",
    "#             print(f\"Using lowest_angle_sum method\")\n",
    "#         raise Exception(\"hasn't been fixed to make sure the upstream node is guaranteed to be in the output graph\")\n",
    "#         G_final = xu.graph_to_lowest_weighted_sum_singular_matches(G,\n",
    "#         verbose = verbose,\n",
    "#         return_graph = True)\n",
    "\n",
    "\n",
    "#         winning_node = xu.get_neighbors(G_final,upstream_branch)\n",
    "#         if len(winning_node) != 1:\n",
    "#             raise Exception(f\"Not just one winning node: {winning_node}\")\n",
    "#         else:\n",
    "#             winning_node = winning_node[0]\n",
    "#     else:\n",
    "#         raise Exception(f\"Unimplemented match_method : {match_method} \")\n",
    "\n",
    "\n",
    "#     error_branches = downstream_branches[downstream_branches!= winning_node]\n",
    "\n",
    "#     if verbose:\n",
    "#         print(f\"for upstream node {upstream_branch}, winning_node = {winning_node}, error_branches = {error_branches}\")\n"
   ]
  },
  {
   "cell_type": "code",
   "execution_count": 313,
   "metadata": {},
   "outputs": [
    {
     "data": {
      "text/plain": [
       "array([61, 45])"
      ]
     },
     "execution_count": 313,
     "metadata": {},
     "output_type": "execute_result"
    }
   ],
   "source": [
    "upstream_subgraph"
   ]
  },
  {
   "cell_type": "code",
   "execution_count": 314,
   "metadata": {},
   "outputs": [
    {
     "data": {
      "text/plain": [
       "61"
      ]
     },
     "execution_count": 314,
     "metadata": {},
     "output_type": "execute_result"
    }
   ],
   "source": [
    "upstream_branch"
   ]
  },
  {
   "cell_type": "code",
   "execution_count": null,
   "metadata": {},
   "outputs": [],
   "source": []
  },
  {
   "cell_type": "code",
   "execution_count": null,
   "metadata": {},
   "outputs": [],
   "source": []
  },
  {
   "cell_type": "code",
   "execution_count": null,
   "metadata": {},
   "outputs": [],
   "source": []
  },
  {
   "cell_type": "code",
   "execution_count": null,
   "metadata": {},
   "outputs": [],
   "source": []
  },
  {
   "cell_type": "markdown",
   "metadata": {},
   "source": [
    "# Visualizing the meshes working with"
   ]
  },
  {
   "cell_type": "code",
   "execution_count": 302,
   "metadata": {},
   "outputs": [
    {
     "name": "stdout",
     "output_type": "stream",
     "text": [
      "branches = [45 58 61 66]\n",
      "upstream_branch = 61,downstream_branches = [58 66 45]\n"
     ]
    },
    {
     "data": {
      "text/plain": [
       "[[61, 45], [61, 58], [61, 66]]"
      ]
     },
     "execution_count": 302,
     "metadata": {},
     "output_type": "execute_result"
    }
   ],
   "source": [
    "\"\"\"\n",
    "Pseudocode: \n",
    "1) Get the meshes of all the branches\n",
    "2) Get the skeleton points that are offset\n",
    "3) Plot\n",
    "\"\"\"\n",
    "\n",
    "\n",
    "offset=1500\n",
    "comparison_distance = 2000\n",
    "verbose = False\n",
    "limb_obj = neuron_obj[neuron_obj.axon_limb_name]\n",
    "coordinate = good_kissing_coordinates[0]\n",
    "\n",
    "branches = nru.find_branch_with_specific_coordinate(limb_obj,coordinate)\n",
    "\n",
    "upstream_branch, downstream_branches = nru.classify_upstream_downsream(limb_obj,\n",
    "                           branch_list = branches,\n",
    "                            verbose = verbose)\n",
    "\n",
    "print(f\"branches = {branches}\")\n",
    "print(f\"upstream_branch = {upstream_branch},downstream_branches = {downstream_branches}\")\n",
    "\n",
    "branches = np.array([upstream_branch] + list(branches[branches != upstream_branch]))\n",
    "\n",
    "meshes = [limb_obj[k].mesh for k in branches]\n",
    "\n",
    "import trimesh_utils as tu\n",
    "mesh_inter = tu.combine_meshes(meshes)\n",
    "#nviz.plot_objects(mesh_inter)\n",
    "\n",
    "skeletons = dict([(k,limb_obj[k].skeleton) for k in branches])\n",
    "unique_comb = [[upstream_branch,k] for k in branches[1:]]\n",
    "unique_comb"
   ]
  },
  {
   "cell_type": "code",
   "execution_count": 303,
   "metadata": {
    "scrolled": true
   },
   "outputs": [
    {
     "name": "stdout",
     "output_type": "stream",
     "text": [
      "upstream = 61\n",
      "61:purple\n",
      "45:aqua\n",
      "58:green\n",
      "66:red\n"
     ]
    },
    {
     "data": {
      "application/vnd.jupyter.widget-view+json": {
       "model_id": "451d02f5973444fc8c5297de2612a374",
       "version_major": 2,
       "version_minor": 0
      },
      "text/plain": [
       "VBox(children=(Figure(camera=PerspectiveCamera(fov=46.0, position=(0.0, 0.0, 2.0), projectionMatrix=(1.0, 0.0,…"
      ]
     },
     "metadata": {},
     "output_type": "display_data"
    }
   ],
   "source": [
    "import skeleton_utils as sk\n",
    "aligned_skeletons = []\n",
    "for pair in unique_comb:\n",
    "    edge_skeletons = [skeletons[pair[0]],skeletons[pair[1]]]\n",
    "    aligned_sk_parts = sk.offset_skeletons_aligned_at_shared_endpoint(edge_skeletons,\n",
    "                                                                             offset=offset,\n",
    "                                                                             comparison_distance=comparison_distance,\n",
    "                                                                             common_endpoint=coordinate)\n",
    "    aligned_skeletons.append(aligned_sk_parts)\n",
    "    \n",
    "offset_skeletons = [aligned_skeletons[0][0]] + [k[1] for k in aligned_skeletons]\n",
    "skeleton_offset_points = [k[-1][-1] for k in offset_skeletons]\n",
    "\n",
    "skeleton_offset_points_dict = {b:sk_o for b,sk_o in zip(branches,skeleton_offset_points)}\n",
    "\n",
    "print(f\"upstream = {upstream_branch}\")\n",
    "colors = [\"purple\",\"aqua\",\"green\",\"red\",\"yellow\"]\n",
    "for b,c in zip(branches,colors):\n",
    "    print(f\"{b}:{c}\")\n",
    "nviz.plot_objects(meshes=meshes,\n",
    "                  meshes_colors=colors,\n",
    "                  skeletons=offset_skeletons,\n",
    "                  skeletons_colors=colors,\n",
    "                 scatters=skeleton_offset_points,\n",
    "                 scatters_colors=colors)"
   ]
  },
  {
   "cell_type": "code",
   "execution_count": 304,
   "metadata": {},
   "outputs": [
    {
     "data": {
      "text/plain": [
       "([array([704697.20695751, 711418.66004434, 758447.65591418]),\n",
       "  array([705360.4710984 , 711329.21633915, 764445.91179283])],\n",
       " [array([705104.21799455, 712701.71706844, 758509.28893496]),\n",
       "  array([707741.0402271 , 710269.09355972, 763043.49779072])])"
      ]
     },
     "execution_count": 304,
     "metadata": {},
     "output_type": "execute_result"
    }
   ],
   "source": [
    "source_coordinates = [skeleton_offset_points_dict[45], skeleton_offset_points_dict[61]]\n",
    "sink_coordinates = [skeleton_offset_points_dict[58], skeleton_offset_points_dict[66]]\n",
    "source_coordinates,sink_coordinates"
   ]
  },
  {
   "cell_type": "code",
   "execution_count": 305,
   "metadata": {},
   "outputs": [
    {
     "data": {
      "text/plain": [
       "([[45, 61], [45, 66], [58, 61], [58, 66]], [25.51, 21.38, 45.5, 4.13])"
      ]
     },
     "execution_count": 305,
     "metadata": {},
     "output_type": "execute_result"
    }
   ],
   "source": [
    "matched_edges, matched_edges_angles = ed.matched_branches_by_angle_at_coordinate(limb_obj,\n",
    "                                            coordinate,\n",
    "                                               coordinate_branches = branches_at_coord,\n",
    "                                            offset=offset,\n",
    "                                            comparison_distance = comparison_distance,\n",
    "                                            match_threshold = 65,\n",
    "                                            verbose = verbose,\n",
    "                                            plot_intermediates = False,\n",
    "                                            plot_match_intermediates = False,\n",
    "                                            )\n",
    "matched_edges, matched_edges_angles"
   ]
  },
  {
   "cell_type": "code",
   "execution_count": 306,
   "metadata": {
    "scrolled": true
   },
   "outputs": [
    {
     "name": "stdout",
     "output_type": "stream",
     "text": [
      "cut_weight = 8\n",
      "nodes_in_edge_cut = [   7  888   98  719   98  888   98 1302  802  888  811  888  811 1302\n",
      " 1249  888]\n",
      "G_cut_edges = [[   7  888]\n",
      " [  98  719]\n",
      " [  98  888]\n",
      " [  98 1302]\n",
      " [ 802  888]\n",
      " [ 811  888]\n",
      " [ 811 1302]\n",
      " [1249  888]]\n",
      "# 0f cut points = 8\n",
      "cut_weight = 20000\n",
      "nodes_in_edge_cut = [ 336 1458  948 1458]\n",
      "G_cut_edges = None\n",
      "Could not find a cut edge for the source and sink coordinates: returning None\n"
     ]
    }
   ],
   "source": [
    "source_coordinates = [skeleton_offset_points_dict[45], skeleton_offset_points_dict[61]]\n",
    "sink_coordinates = [skeleton_offset_points_dict[58], skeleton_offset_points_dict[66]]\n",
    "source_coordinates,sink_coordinates\n",
    "\n",
    "curr_output_incorrect = tu.min_cut_to_partition_mesh_vertices(mesh_inter,\n",
    "                                      source_coordinates,\n",
    "                                      sink_coordinates,\n",
    "                                       plot_source_sink_vertices= False,\n",
    "                                      verbose = True,\n",
    "                                      return_edge_midpoint = True,\n",
    "                                                plot_cut_vertices = False)\n",
    "\n",
    "source_coordinates = [skeleton_offset_points_dict[45], skeleton_offset_points_dict[66]]\n",
    "sink_coordinates = [skeleton_offset_points_dict[58], skeleton_offset_points_dict[61]]\n",
    "source_coordinates,sink_coordinates\n",
    "\n",
    "curr_output_correct = tu.min_cut_to_partition_mesh_vertices(mesh_inter,\n",
    "                                      source_coordinates,\n",
    "                                      sink_coordinates,\n",
    "                                       plot_source_sink_vertices= False,\n",
    "                                      verbose = True,\n",
    "                                      return_edge_midpoint = True,\n",
    "                                                plot_cut_vertices = False)"
   ]
  },
  {
   "cell_type": "code",
   "execution_count": 307,
   "metadata": {},
   "outputs": [],
   "source": [
    "# threshold for longest side angle\n",
    "bbox_longests_side_angle_threshold = 450\n"
   ]
  },
  {
   "cell_type": "code",
   "execution_count": 308,
   "metadata": {},
   "outputs": [
    {
     "name": "stdout",
     "output_type": "stream",
     "text": [
      "\n",
      "1301803.5294948057 255.18694548122585\n"
     ]
    },
    {
     "data": {
      "application/vnd.jupyter.widget-view+json": {
       "model_id": "4709b48fc95649d493412cb1fa02266f",
       "version_major": 2,
       "version_minor": 0
      },
      "text/plain": [
       "VBox(children=(Figure(camera=PerspectiveCamera(fov=46.0, position=(0.0, 0.0, 2.0), projectionMatrix=(1.0, 0.0,…"
      ]
     },
     "metadata": {},
     "output_type": "display_data"
    },
    {
     "name": "stdout",
     "output_type": "stream",
     "text": [
      "\n",
      "Output was None so continuing\n"
     ]
    },
    {
     "ename": "AttributeError",
     "evalue": "'NoneType' object has no attribute 'close'",
     "output_type": "error",
     "traceback": [
      "\u001b[0;31m---------------------------------------------------------------------------\u001b[0m",
      "\u001b[0;31mAttributeError\u001b[0m                            Traceback (most recent call last)",
      "\u001b[0;31mAttributeError\u001b[0m: 'NoneType' object has no attribute 'close'"
     ]
    },
    {
     "name": "stderr",
     "output_type": "stream",
     "text": [
      "Exception ignored in: 'scipy.spatial.qhull._Qhull.__dealloc__'\n",
      "AttributeError: 'NoneType' object has no attribute 'close'\n"
     ]
    },
    {
     "ename": "ValueError",
     "evalue": "Buffer has wrong number of dimensions (expected 2, got 1)",
     "output_type": "error",
     "traceback": [
      "\u001b[0;31m---------------------------------------------------------------------------\u001b[0m",
      "\u001b[0;31mValueError\u001b[0m                                Traceback (most recent call last)",
      "\u001b[0;32m<ipython-input-308-a218fdd505b5>\u001b[0m in \u001b[0;36m<module>\u001b[0;34m\u001b[0m\n\u001b[1;32m      3\u001b[0m     \u001b[0;32mif\u001b[0m \u001b[0moutput\u001b[0m \u001b[0;32mis\u001b[0m \u001b[0;32mNone\u001b[0m\u001b[0;34m:\u001b[0m\u001b[0;34m\u001b[0m\u001b[0;34m\u001b[0m\u001b[0m\n\u001b[1;32m      4\u001b[0m         \u001b[0mprint\u001b[0m\u001b[0;34m(\u001b[0m\u001b[0;34mf\"Output was None so continuing\"\u001b[0m\u001b[0;34m)\u001b[0m\u001b[0;34m\u001b[0m\u001b[0;34m\u001b[0m\u001b[0m\n\u001b[0;32m----> 5\u001b[0;31m     \u001b[0msphere_inc\u001b[0m \u001b[0;34m=\u001b[0m \u001b[0mtu\u001b[0m\u001b[0;34m.\u001b[0m\u001b[0mcoordinates_to_bounding_box\u001b[0m\u001b[0;34m(\u001b[0m\u001b[0moutput\u001b[0m\u001b[0;34m)\u001b[0m\u001b[0;34m\u001b[0m\u001b[0;34m\u001b[0m\u001b[0m\n\u001b[0m\u001b[1;32m      6\u001b[0m \u001b[0;34m\u001b[0m\u001b[0m\n\u001b[1;32m      7\u001b[0m     \u001b[0mprint\u001b[0m\u001b[0;34m(\u001b[0m\u001b[0msphere_inc\u001b[0m\u001b[0;34m.\u001b[0m\u001b[0mvolume\u001b[0m\u001b[0;34m,\u001b[0m\u001b[0mtu\u001b[0m\u001b[0;34m.\u001b[0m\u001b[0mbounding_box_longest_side\u001b[0m\u001b[0;34m(\u001b[0m\u001b[0msphere_inc\u001b[0m\u001b[0;34m)\u001b[0m\u001b[0;34m)\u001b[0m\u001b[0;34m\u001b[0m\u001b[0;34m\u001b[0m\u001b[0m\n",
      "\u001b[0;32m/meshAfterParty/meshAfterParty/trimesh_utils.py\u001b[0m in \u001b[0;36mcoordinates_to_bounding_box\u001b[0;34m(coordinates, oriented)\u001b[0m\n\u001b[1;32m   4902\u001b[0m     \u001b[0mt\u001b[0m \u001b[0;34m=\u001b[0m \u001b[0mtrimesh\u001b[0m\u001b[0;34m.\u001b[0m\u001b[0mTrimesh\u001b[0m\u001b[0;34m(\u001b[0m\u001b[0;34m)\u001b[0m\u001b[0;34m\u001b[0m\u001b[0;34m\u001b[0m\u001b[0m\n\u001b[1;32m   4903\u001b[0m     \u001b[0mt\u001b[0m\u001b[0;34m.\u001b[0m\u001b[0mvertices\u001b[0m \u001b[0;34m=\u001b[0m \u001b[0mcoordinates\u001b[0m\u001b[0;34m\u001b[0m\u001b[0;34m\u001b[0m\u001b[0m\n\u001b[0;32m-> 4904\u001b[0;31m     \u001b[0;32mreturn\u001b[0m \u001b[0mtu\u001b[0m\u001b[0;34m.\u001b[0m\u001b[0mbounding_box\u001b[0m\u001b[0;34m(\u001b[0m\u001b[0mt\u001b[0m\u001b[0;34m,\u001b[0m\u001b[0moriented\u001b[0m\u001b[0;34m=\u001b[0m\u001b[0moriented\u001b[0m\u001b[0;34m)\u001b[0m\u001b[0;34m\u001b[0m\u001b[0;34m\u001b[0m\u001b[0m\n\u001b[0m\u001b[1;32m   4905\u001b[0m \u001b[0;34m\u001b[0m\u001b[0m\n\u001b[1;32m   4906\u001b[0m \u001b[0;32mimport\u001b[0m \u001b[0mtrimesh_utils\u001b[0m \u001b[0;32mas\u001b[0m \u001b[0mtu\u001b[0m\u001b[0;34m\u001b[0m\u001b[0;34m\u001b[0m\u001b[0m\n",
      "\u001b[0;32m/meshAfterParty/meshAfterParty/trimesh_utils.py\u001b[0m in \u001b[0;36mbounding_box\u001b[0;34m(mesh, oriented)\u001b[0m\n\u001b[1;32m    233\u001b[0m     \"\"\"\n\u001b[1;32m    234\u001b[0m     \u001b[0;32mif\u001b[0m \u001b[0moriented\u001b[0m\u001b[0;34m:\u001b[0m\u001b[0;34m\u001b[0m\u001b[0;34m\u001b[0m\u001b[0m\n\u001b[0;32m--> 235\u001b[0;31m         \u001b[0;32mreturn\u001b[0m \u001b[0mmesh\u001b[0m\u001b[0;34m.\u001b[0m\u001b[0mbounding_box_oriented\u001b[0m\u001b[0;34m\u001b[0m\u001b[0;34m\u001b[0m\u001b[0m\n\u001b[0m\u001b[1;32m    236\u001b[0m     \u001b[0;32melse\u001b[0m\u001b[0;34m:\u001b[0m\u001b[0;34m\u001b[0m\u001b[0;34m\u001b[0m\u001b[0m\n\u001b[1;32m    237\u001b[0m         \u001b[0;32mreturn\u001b[0m \u001b[0mmesh\u001b[0m\u001b[0;34m.\u001b[0m\u001b[0mbounding_box\u001b[0m\u001b[0;34m\u001b[0m\u001b[0;34m\u001b[0m\u001b[0m\n",
      "\u001b[0;32m/usr/local/lib/python3.6/dist-packages/trimesh/caching.py\u001b[0m in \u001b[0;36mget_cached\u001b[0;34m(*args, **kwargs)\u001b[0m\n\u001b[1;32m     98\u001b[0m             \u001b[0;32mreturn\u001b[0m \u001b[0mself\u001b[0m\u001b[0;34m.\u001b[0m\u001b[0m_cache\u001b[0m\u001b[0;34m.\u001b[0m\u001b[0mcache\u001b[0m\u001b[0;34m[\u001b[0m\u001b[0mname\u001b[0m\u001b[0;34m]\u001b[0m\u001b[0;34m\u001b[0m\u001b[0;34m\u001b[0m\u001b[0m\n\u001b[1;32m     99\u001b[0m         \u001b[0;31m# value not in cache so execute the function\u001b[0m\u001b[0;34m\u001b[0m\u001b[0;34m\u001b[0m\u001b[0;34m\u001b[0m\u001b[0m\n\u001b[0;32m--> 100\u001b[0;31m         \u001b[0mvalue\u001b[0m \u001b[0;34m=\u001b[0m \u001b[0mfunction\u001b[0m\u001b[0;34m(\u001b[0m\u001b[0;34m*\u001b[0m\u001b[0margs\u001b[0m\u001b[0;34m,\u001b[0m \u001b[0;34m**\u001b[0m\u001b[0mkwargs\u001b[0m\u001b[0;34m)\u001b[0m\u001b[0;34m\u001b[0m\u001b[0;34m\u001b[0m\u001b[0m\n\u001b[0m\u001b[1;32m    101\u001b[0m         \u001b[0;31m# store the value\u001b[0m\u001b[0;34m\u001b[0m\u001b[0;34m\u001b[0m\u001b[0;34m\u001b[0m\u001b[0m\n\u001b[1;32m    102\u001b[0m         if self._cache.force_immutable and hasattr(\n",
      "\u001b[0;32m/usr/local/lib/python3.6/dist-packages/trimesh/parent.py\u001b[0m in \u001b[0;36mbounding_box_oriented\u001b[0;34m(self)\u001b[0m\n\u001b[1;32m    192\u001b[0m         \"\"\"\n\u001b[1;32m    193\u001b[0m         \u001b[0;32mfrom\u001b[0m \u001b[0;34m.\u001b[0m \u001b[0;32mimport\u001b[0m \u001b[0mprimitives\u001b[0m\u001b[0;34m,\u001b[0m \u001b[0mbounds\u001b[0m\u001b[0;34m\u001b[0m\u001b[0;34m\u001b[0m\u001b[0m\n\u001b[0;32m--> 194\u001b[0;31m         \u001b[0mto_origin\u001b[0m\u001b[0;34m,\u001b[0m \u001b[0mextents\u001b[0m \u001b[0;34m=\u001b[0m \u001b[0mbounds\u001b[0m\u001b[0;34m.\u001b[0m\u001b[0moriented_bounds\u001b[0m\u001b[0;34m(\u001b[0m\u001b[0mself\u001b[0m\u001b[0;34m)\u001b[0m\u001b[0;34m\u001b[0m\u001b[0;34m\u001b[0m\u001b[0m\n\u001b[0m\u001b[1;32m    195\u001b[0m         obb = primitives.Box(transform=np.linalg.inv(to_origin),\n\u001b[1;32m    196\u001b[0m                              \u001b[0mextents\u001b[0m\u001b[0;34m=\u001b[0m\u001b[0mextents\u001b[0m\u001b[0;34m,\u001b[0m\u001b[0;34m\u001b[0m\u001b[0;34m\u001b[0m\u001b[0m\n",
      "\u001b[0;32m/usr/local/lib/python3.6/dist-packages/trimesh/bounds.py\u001b[0m in \u001b[0;36moriented_bounds\u001b[0;34m(obj, angle_digits, ordered, normal)\u001b[0m\n\u001b[1;32m    139\u001b[0m     \u001b[0;31m# we bother to do this to avoid recomputing the full convex hull if\u001b[0m\u001b[0;34m\u001b[0m\u001b[0;34m\u001b[0m\u001b[0;34m\u001b[0m\u001b[0m\n\u001b[1;32m    140\u001b[0m     \u001b[0;31m# possible\u001b[0m\u001b[0;34m\u001b[0m\u001b[0;34m\u001b[0m\u001b[0;34m\u001b[0m\u001b[0m\n\u001b[0;32m--> 141\u001b[0;31m     \u001b[0;32mif\u001b[0m \u001b[0mhasattr\u001b[0m\u001b[0;34m(\u001b[0m\u001b[0mobj\u001b[0m\u001b[0;34m,\u001b[0m \u001b[0;34m'convex_hull'\u001b[0m\u001b[0;34m)\u001b[0m\u001b[0;34m:\u001b[0m\u001b[0;34m\u001b[0m\u001b[0;34m\u001b[0m\u001b[0m\n\u001b[0m\u001b[1;32m    142\u001b[0m         \u001b[0;31m# if we have been passed a mesh, use its existing convex hull to pull from\u001b[0m\u001b[0;34m\u001b[0m\u001b[0;34m\u001b[0m\u001b[0;34m\u001b[0m\u001b[0m\n\u001b[1;32m    143\u001b[0m         \u001b[0;31m# cache rather than recomputing. This version of the cached convex hull has\u001b[0m\u001b[0;34m\u001b[0m\u001b[0;34m\u001b[0m\u001b[0;34m\u001b[0m\u001b[0m\n",
      "\u001b[0;32m/usr/local/lib/python3.6/dist-packages/trimesh/caching.py\u001b[0m in \u001b[0;36mget_cached\u001b[0;34m(*args, **kwargs)\u001b[0m\n\u001b[1;32m     98\u001b[0m             \u001b[0;32mreturn\u001b[0m \u001b[0mself\u001b[0m\u001b[0;34m.\u001b[0m\u001b[0m_cache\u001b[0m\u001b[0;34m.\u001b[0m\u001b[0mcache\u001b[0m\u001b[0;34m[\u001b[0m\u001b[0mname\u001b[0m\u001b[0;34m]\u001b[0m\u001b[0;34m\u001b[0m\u001b[0;34m\u001b[0m\u001b[0m\n\u001b[1;32m     99\u001b[0m         \u001b[0;31m# value not in cache so execute the function\u001b[0m\u001b[0;34m\u001b[0m\u001b[0;34m\u001b[0m\u001b[0;34m\u001b[0m\u001b[0m\n\u001b[0;32m--> 100\u001b[0;31m         \u001b[0mvalue\u001b[0m \u001b[0;34m=\u001b[0m \u001b[0mfunction\u001b[0m\u001b[0;34m(\u001b[0m\u001b[0;34m*\u001b[0m\u001b[0margs\u001b[0m\u001b[0;34m,\u001b[0m \u001b[0;34m**\u001b[0m\u001b[0mkwargs\u001b[0m\u001b[0;34m)\u001b[0m\u001b[0;34m\u001b[0m\u001b[0;34m\u001b[0m\u001b[0m\n\u001b[0m\u001b[1;32m    101\u001b[0m         \u001b[0;31m# store the value\u001b[0m\u001b[0;34m\u001b[0m\u001b[0;34m\u001b[0m\u001b[0;34m\u001b[0m\u001b[0m\n\u001b[1;32m    102\u001b[0m         if self._cache.force_immutable and hasattr(\n",
      "\u001b[0;32m/usr/local/lib/python3.6/dist-packages/trimesh/base.py\u001b[0m in \u001b[0;36mconvex_hull\u001b[0;34m(self)\u001b[0m\n\u001b[1;32m   2135\u001b[0m           \u001b[0mMesh\u001b[0m \u001b[0mof\u001b[0m \u001b[0mconvex\u001b[0m \u001b[0mhull\u001b[0m \u001b[0mof\u001b[0m \u001b[0mcurrent\u001b[0m \u001b[0mmesh\u001b[0m\u001b[0;34m\u001b[0m\u001b[0;34m\u001b[0m\u001b[0m\n\u001b[1;32m   2136\u001b[0m         \"\"\"\n\u001b[0;32m-> 2137\u001b[0;31m         \u001b[0mhull\u001b[0m \u001b[0;34m=\u001b[0m \u001b[0mconvex\u001b[0m\u001b[0;34m.\u001b[0m\u001b[0mconvex_hull\u001b[0m\u001b[0;34m(\u001b[0m\u001b[0mself\u001b[0m\u001b[0;34m)\u001b[0m\u001b[0;34m\u001b[0m\u001b[0;34m\u001b[0m\u001b[0m\n\u001b[0m\u001b[1;32m   2138\u001b[0m         \u001b[0;32mreturn\u001b[0m \u001b[0mhull\u001b[0m\u001b[0;34m\u001b[0m\u001b[0;34m\u001b[0m\u001b[0m\n\u001b[1;32m   2139\u001b[0m \u001b[0;34m\u001b[0m\u001b[0m\n",
      "\u001b[0;32m/usr/local/lib/python3.6/dist-packages/trimesh/convex.py\u001b[0m in \u001b[0;36mconvex_hull\u001b[0;34m(obj, qhull_options)\u001b[0m\n\u001b[1;32m     57\u001b[0m \u001b[0;34m\u001b[0m\u001b[0m\n\u001b[1;32m     58\u001b[0m     hull = spatial.ConvexHull(points,\n\u001b[0;32m---> 59\u001b[0;31m                               qhull_options=qhull_options)\n\u001b[0m\u001b[1;32m     60\u001b[0m \u001b[0;34m\u001b[0m\u001b[0m\n\u001b[1;32m     61\u001b[0m     \u001b[0;31m# hull object doesn't remove unreferenced vertices\u001b[0m\u001b[0;34m\u001b[0m\u001b[0;34m\u001b[0m\u001b[0;34m\u001b[0m\u001b[0m\n",
      "\u001b[0;32mqhull.pyx\u001b[0m in \u001b[0;36mscipy.spatial.qhull.ConvexHull.__init__\u001b[0;34m()\u001b[0m\n",
      "\u001b[0;32mqhull.pyx\u001b[0m in \u001b[0;36mscipy.spatial.qhull._Qhull.__init__\u001b[0;34m()\u001b[0m\n",
      "\u001b[0;31mValueError\u001b[0m: Buffer has wrong number of dimensions (expected 2, got 1)"
     ]
    }
   ],
   "source": [
    "for output in [curr_output_incorrect,curr_output_correct]:\n",
    "    print(\"\")\n",
    "    if output is None:\n",
    "        print(f\"Output was None so continuing\")\n",
    "    sphere_inc = tu.coordinates_to_bounding_box(output)\n",
    "\n",
    "    print(sphere_inc.volume,tu.bounding_box_longest_side(sphere_inc))\n",
    "\n",
    "    nviz.plot_objects(main_mesh=sphere_inc,\n",
    "                      main_mesh_color=\"blue\",\n",
    "        meshes=meshes,\n",
    "                      meshes_colors=\"random\"\n",
    "                     )"
   ]
  },
  {
   "cell_type": "code",
   "execution_count": 298,
   "metadata": {},
   "outputs": [
    {
     "data": {
      "application/vnd.jupyter.widget-view+json": {
       "model_id": "250e3b619da0411c836a1e2adb81265d",
       "version_major": 2,
       "version_minor": 0
      },
      "text/plain": [
       "VBox(children=(Figure(camera=PerspectiveCamera(fov=46.0, position=(0.0, 0.0, 2.0), projectionMatrix=(1.0, 0.0,…"
      ]
     },
     "metadata": {},
     "output_type": "display_data"
    }
   ],
   "source": [
    "nviz.plot_objects(main_mesh=sphere_inc,\n",
    "              main_mesh_color=\"blue\",\n",
    "                #meshes=meshes,\n",
    "              meshes_colors=\"random\"\n",
    "             )"
   ]
  },
  {
   "cell_type": "code",
   "execution_count": 255,
   "metadata": {
    "scrolled": false
   },
   "outputs": [
    {
     "name": "stdout",
     "output_type": "stream",
     "text": [
      "n_components = 2\n",
      "whiten = False\n",
      "---- Using sklearn method ----\n"
     ]
    },
    {
     "data": {
      "application/vnd.jupyter.widget-view+json": {
       "model_id": "9dc56eaf9e5e42589257692be8fb2bbd",
       "version_major": 2,
       "version_minor": 0
      },
      "text/plain": [
       "VBox(children=(Figure(camera=PerspectiveCamera(fov=46.0, position=(0.0, 0.0, 2.0), projectionMatrix=(1.0, 0.0,…"
      ]
     },
     "metadata": {},
     "output_type": "display_data"
    },
    {
     "data": {
      "text/plain": [
       "(52.367872040374884, 115.68353205372206)"
      ]
     },
     "execution_count": 255,
     "metadata": {},
     "output_type": "execute_result"
    }
   ],
   "source": [
    "# import dimensionality_reduction_utils as dru\n",
    "\n",
    "# plot_proj_points = False\n",
    "# cut_points = curr_output_correct\n",
    "\n",
    "# pca_output = dru.pca_analysis(cut_points,n_components=2,plot_sqrt_eigvals=False)\n",
    "# eignvectors = pca_output[\"eigenVectors\"]\n",
    "# cut_normal_line = np.cross(eignvectors[0],eignvectors[1])\n",
    "\n",
    "# dim_red_points = pca_output[\"data_proj\"]\n",
    "# dim_red_points\n",
    "\n",
    "# if plot_proj_points:\n",
    "#     plt.scatter(dim_red_points[:,0],dim_red_points[:,1])\n",
    "#     plt.show()\n",
    "\n",
    "# # plotting the normal line\n",
    "# cut_middle = np.mean(cut_points,axis=0)\n",
    "# nviz.plot_objects(mesh_inter,\n",
    "#                  scatters=[cut_points,\n",
    "#                            nviz.vector_to_scatter_line(cut_normal_line,cut_middle),\n",
    "#                           nviz.vector_to_scatter_line(eignvectors[0],cut_middle),\n",
    "#                           nviz.vector_to_scatter_line(eignvectors[1],cut_middle)],\n",
    "#                   skeletons=[offset_skeletons[2]],\n",
    "#                  scatters_colors=[\"blue\",\"red\",\"purple\",\"black\"])\n",
    "\n",
    "# # testing to see how the vectors align with the upstream skeleton\n",
    "# upstream = 61\n",
    "# up_vec = sk.skeleton_endpoint_vector(limb_obj[upstream].skeleton)\n",
    "# nu.angle_between_vectors(up_vec,cut_normal_line),nu.angle_between_vectors(up_vec,eignvectors[0])"
   ]
  },
  {
   "cell_type": "code",
   "execution_count": null,
   "metadata": {},
   "outputs": [],
   "source": []
  },
  {
   "cell_type": "code",
   "execution_count": 10,
   "metadata": {},
   "outputs": [
    {
     "data": {
      "text/plain": [
       "array([[633369.46396577, 642628.37375774, 904286.15810562],\n",
       "       [655835.01357908, 654071.79933467, 886661.69334533],\n",
       "       [703150.15902442, 700224.74801046, 786377.94326672],\n",
       "       [705796.38338002, 711368.54932521, 761452.07011226],\n",
       "       [711853.1830047 , 552176.20588093, 767067.14412926],\n",
       "       [713252.41248611, 668208.00353725, 834130.63609803],\n",
       "       [719501.00551068, 601977.08581794, 840192.81639721],\n",
       "       [719805.70771174, 679693.9415088 , 844847.81574894],\n",
       "       [720981.3       , 562902.3       , 765358.2       ],\n",
       "       [728999.61952349, 582089.64207094, 768015.20907531],\n",
       "       [733771.5       , 548121.        , 740360.2       ],\n",
       "       [736772.19569597, 611850.46123094, 775357.26609334],\n",
       "       [743911.0929221 , 628175.96933381, 780234.59592461],\n",
       "       [750591.55787221, 617483.44533858, 774418.16749602],\n",
       "       [757709.        , 627037.        , 883750.        ],\n",
       "       [764716.17668896, 550429.59903124, 756843.11309073],\n",
       "       [778454.85295756, 579963.51230716, 761154.47918387],\n",
       "       [778997.63860834, 575057.52431717, 763678.03793613]])"
      ]
     },
     "execution_count": 10,
     "metadata": {},
     "output_type": "execute_result"
    }
   ],
   "source": [
    "exactly_equal = False\n",
    "limb_obj = neuron_obj[neuron_obj.axon_limb_name]\n",
    "crossover_coordinates = nru.high_degree_branching_coordinates_on_limb(limb_obj,min_degree_to_find=4,\n",
    "                                                                         exactly_equal=exactly_equal,\n",
    "                                                                         )\n",
    "crossover_coordinates"
   ]
  },
  {
   "cell_type": "code",
   "execution_count": 11,
   "metadata": {},
   "outputs": [],
   "source": []
  },
  {
   "cell_type": "markdown",
   "metadata": {},
   "source": [
    "# Inspecting High Degree Node"
   ]
  },
  {
   "cell_type": "code",
   "execution_count": null,
   "metadata": {},
   "outputs": [],
   "source": [
    "exactly_equal = False\n",
    "limb_obj = neuron_obj[neuron_obj.axon_limb_name]\n",
    "crossover_coordinates = nru.high_degree_branching_coordinates_on_limb(limb_obj,min_degree_to_find=4,\n",
    "                                                                         exactly_equal=exactly_equal,\n",
    "                                                                         )\n",
    "crossover_coordinatescurr_coordinate = crossover_coordinates[]\n",
    "nviz.set_zoom(curr_coordinate,\n",
    "             radius = 5000)"
   ]
  },
  {
   "cell_type": "code",
   "execution_count": null,
   "metadata": {},
   "outputs": [],
   "source": []
  },
  {
   "cell_type": "markdown",
   "metadata": {},
   "source": [
    "# Checking Features About the Kissing Errors"
   ]
  },
  {
   "cell_type": "code",
   "execution_count": null,
   "metadata": {},
   "outputs": [],
   "source": []
  },
  {
   "cell_type": "code",
   "execution_count": null,
   "metadata": {},
   "outputs": [],
   "source": [
    "filt_neuron"
   ]
  },
  {
   "cell_type": "code",
   "execution_count": null,
   "metadata": {},
   "outputs": [],
   "source": [
    "import axon_utils as au\n",
    "import numpy as np\n",
    "import neuron_searching as ns\n",
    "import error_detection as ed"
   ]
  },
  {
   "cell_type": "code",
   "execution_count": null,
   "metadata": {
    "scrolled": false
   },
   "outputs": [],
   "source": [
    "ed.thick_t_errors_limb_branch_dict(filt_neuron,\n",
    "                               plot_two_downstream_thin_axon_limb_branch = False,\n",
    "                            plot_wide_angled_children = False,\n",
    "                            plot_thick_t_crossing_limb_branch = False,\n",
    "                            plot_t_error_limb_branch = True,\n",
    "                            verbose = True)"
   ]
  },
  {
   "cell_type": "code",
   "execution_count": null,
   "metadata": {
    "scrolled": false
   },
   "outputs": [],
   "source": [
    "import proofreading_utils as pru\n",
    "(filt_neuron_2,\n",
    " return_synapse_df_revised_2,\n",
    "return_validation_df_revised_2) =  vu.filtered_neuron_score(neuron_obj = filt_neuron,   \n",
    "                        filter_list = pru.v4_exc_filters(),\n",
    "                        verbose = True,\n",
    "                        plot_score=True)"
   ]
  },
  {
   "cell_type": "code",
   "execution_count": null,
   "metadata": {},
   "outputs": [],
   "source": []
  }
 ],
 "metadata": {
  "kernelspec": {
   "display_name": "Python 3",
   "language": "python",
   "name": "python3"
  },
  "language_info": {
   "codemirror_mode": {
    "name": "ipython",
    "version": 3
   },
   "file_extension": ".py",
   "mimetype": "text/x-python",
   "name": "python",
   "nbconvert_exporter": "python",
   "pygments_lexer": "ipython3",
   "version": "3.6.9"
  }
 },
 "nbformat": 4,
 "nbformat_minor": 4
}
