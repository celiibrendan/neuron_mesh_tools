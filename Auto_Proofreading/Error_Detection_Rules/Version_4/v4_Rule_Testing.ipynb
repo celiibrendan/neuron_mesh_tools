{
 "cells": [
  {
   "cell_type": "code",
   "execution_count": null,
   "metadata": {},
   "outputs": [],
   "source": [
    "\"\"\"\n",
    "Purpose: To Compare how the new rules do when proofreading a cell\n",
    "\n",
    "\"\"\""
   ]
  },
  {
   "cell_type": "markdown",
   "metadata": {},
   "source": [
    "# The procedure when proofreadig the cell"
   ]
  },
  {
   "cell_type": "code",
   "execution_count": null,
   "metadata": {},
   "outputs": [],
   "source": [
    "\"\"\"\n",
    "1) Downloads the neuorn\n",
    "2) Apply the New Proofreading rules to the cell (that just creates a new limb brnach dict)\n",
    "3) Do the synapse Filtering\n",
    "4) Get the synapses that should belong\n",
    "5) Compare and give a score\n",
    "\n",
    "\"\"\""
   ]
  },
  {
   "cell_type": "code",
   "execution_count": 2,
   "metadata": {},
   "outputs": [],
   "source": [
    "%load_ext autoreload\n",
    "%autoreload 2"
   ]
  },
  {
   "cell_type": "code",
   "execution_count": 1,
   "metadata": {},
   "outputs": [
    {
     "name": "stderr",
     "output_type": "stream",
     "text": [
      "INFO - 2021-04-20 02:15:04,861 - settings - Setting database.host to at-database.ad.bcm.edu\n",
      "INFO - 2021-04-20 02:15:04,863 - settings - Setting database.user to celiib\n",
      "INFO - 2021-04-20 02:15:04,864 - settings - Setting database.password to newceliipass\n",
      "INFO - 2021-04-20 02:15:04,867 - settings - Setting stores to {'minnie65': {'protocol': 'file', 'location': '/mnt/dj-stor01/platinum/minnie65', 'stage': '/mnt/dj-stor01/platinum/minnie65'}, 'meshes': {'protocol': 'file', 'location': '/mnt/dj-stor01/platinum/minnie65/02/meshes', 'stage': '/mnt/dj-stor01/platinum/minnie65/02/meshes'}, 'decimated_meshes': {'protocol': 'file', 'location': '/mnt/dj-stor01/platinum/minnie65/02/decimated_meshes', 'stage': '/mnt/dj-stor01/platinum/minnie65/02/decimated_meshes'}, 'skeletons': {'protocol': 'file', 'location': '/mnt/dj-stor01/platinum/minnie65/02/skeletons'}}\n",
      "INFO - 2021-04-20 02:15:04,869 - settings - Setting enable_python_native_blobs to True\n",
      "INFO - 2021-04-20 02:15:04,882 - connection - Connected celiib@at-database.ad.bcm.edu:3306\n"
     ]
    },
    {
     "name": "stdout",
     "output_type": "stream",
     "text": [
      "Connecting celiib@at-database.ad.bcm.edu:3306\n"
     ]
    },
    {
     "name": "stderr",
     "output_type": "stream",
     "text": [
      "INFO - 2021-04-20 02:15:05,314 - settings - Setting enable_python_native_blobs to True\n",
      "INFO - 2021-04-20 02:15:05,317 - settings - Setting database.host to at-database.ad.bcm.edu\n",
      "INFO - 2021-04-20 02:15:05,318 - settings - Setting database.user to celiib\n",
      "INFO - 2021-04-20 02:15:05,319 - settings - Setting database.password to newceliipass\n",
      "INFO - 2021-04-20 02:15:05,320 - settings - Setting database.host to at-database.ad.bcm.edu\n",
      "INFO - 2021-04-20 02:15:05,320 - settings - Setting database.user to celiib\n",
      "INFO - 2021-04-20 02:15:05,321 - settings - Setting database.password to newceliipass\n",
      "INFO - 2021-04-20 02:15:05,322 - settings - Setting enable_python_native_blobs to True\n",
      "INFO - 2021-04-20 02:15:05,765 - settings - Setting enable_python_native_blobs to True\n"
     ]
    }
   ],
   "source": [
    "import numpy as np\n",
    "import datajoint as dj\n",
    "import trimesh\n",
    "from tqdm.notebook import tqdm\n",
    "from pathlib import Path\n",
    "\n",
    "from os import sys\n",
    "sys.path.append(\"/meshAfterParty/\")\n",
    "sys.path.append(\"/meshAfterParty/meshAfterParty\")\n",
    "\n",
    "import datajoint_utils as du\n",
    "from importlib import reload"
   ]
  },
  {
   "cell_type": "code",
   "execution_count": 3,
   "metadata": {},
   "outputs": [
    {
     "name": "stderr",
     "output_type": "stream",
     "text": [
      "INFO - 2021-04-20 02:16:58,830 - settings - Setting database.host to at-database.ad.bcm.edu\n",
      "INFO - 2021-04-20 02:16:58,833 - settings - Setting database.user to celiib\n",
      "INFO - 2021-04-20 02:16:58,834 - settings - Setting database.password to newceliipass\n",
      "INFO - 2021-04-20 02:16:58,838 - settings - Setting enable_python_native_blobs to True\n",
      "INFO - 2021-04-20 02:16:59,366 - settings - Setting enable_python_native_blobs to True\n"
     ]
    }
   ],
   "source": [
    "#configuring will include the adapters\n",
    "minnie,schema = du.configure_minnie_vm()"
   ]
  },
  {
   "cell_type": "code",
   "execution_count": 7,
   "metadata": {},
   "outputs": [],
   "source": [
    "import validation_utils as vu"
   ]
  },
  {
   "cell_type": "markdown",
   "metadata": {},
   "source": [
    "# Downloading the neuron and the synapse information"
   ]
  },
  {
   "cell_type": "code",
   "execution_count": 6,
   "metadata": {},
   "outputs": [
    {
     "data": {
      "text/html": [
       "\n",
       "        \n",
       "        <style type=\"text/css\">\n",
       "            .Relation{\n",
       "                border-collapse:collapse;\n",
       "            }\n",
       "            .Relation th{\n",
       "                background: #A0A0A0; color: #ffffff; padding:4px; border:#f0e0e0 1px solid;\n",
       "                font-weight: normal; font-family: monospace; font-size: 100%;\n",
       "            }\n",
       "            .Relation td{\n",
       "                padding:4px; border:#f0e0e0 1px solid; font-size:100%;\n",
       "            }\n",
       "            .Relation tr:nth-child(odd){\n",
       "                background: #ffffff;\n",
       "            }\n",
       "            .Relation tr:nth-child(even){\n",
       "                background: #f3f1ff;\n",
       "            }\n",
       "            /* Tooltip container */\n",
       "            .djtooltip {\n",
       "            }\n",
       "            /* Tooltip text */\n",
       "            .djtooltip .djtooltiptext {\n",
       "                visibility: hidden;\n",
       "                width: 120px;\n",
       "                background-color: black;\n",
       "                color: #fff;\n",
       "                text-align: center;\n",
       "                padding: 5px 0;\n",
       "                border-radius: 6px;\n",
       "                /* Position the tooltip text - see examples below! */\n",
       "                position: absolute;\n",
       "                z-index: 1;\n",
       "            }\n",
       "            #primary {\n",
       "                font-weight: bold;\n",
       "                color: black;\n",
       "            }\n",
       "\n",
       "            #nonprimary {\n",
       "                font-weight: normal;\n",
       "                color: white;\n",
       "            }\n",
       "\n",
       "            /* Show the tooltip text when you mouse over the tooltip container */\n",
       "            .djtooltip:hover .djtooltiptext {\n",
       "                visibility: visible;\n",
       "            }\n",
       "        </style>\n",
       "        \n",
       "        <b></b>\n",
       "            <div style=\"max-height:1000px;max-width:1500px;overflow:auto;\">\n",
       "            <table border=\"1\" class=\"Relation\">\n",
       "                <thead> <tr style=\"text-align: right;\"> <th> <div class=\"djtooltip\">\n",
       "                                <p id=\"primary\">segment_id</p>\n",
       "                                <span class=\"djtooltiptext\">segment id unique within each Segmentation</span>\n",
       "                            </div></th><th><div class=\"djtooltip\">\n",
       "                                <p id=\"primary\">decimation_version</p>\n",
       "                                <span class=\"djtooltiptext\"></span>\n",
       "                            </div></th><th><div class=\"djtooltip\">\n",
       "                                <p id=\"primary\">decimation_ratio</p>\n",
       "                                <span class=\"djtooltiptext\">ratio of remaining mesh vertices/faces (which ones depends on what metric the decimation technique uses)</span>\n",
       "                            </div></th><th><div class=\"djtooltip\">\n",
       "                                <p id=\"primary\">ver</p>\n",
       "                                <span class=\"djtooltiptext\">the version number of the materializaiton</span>\n",
       "                            </div></th><th><div class=\"djtooltip\">\n",
       "                                <p id=\"primary\">process_version</p>\n",
       "                                <span class=\"djtooltiptext\">the version of the preprocessing pipeline run</span>\n",
       "                            </div></th><th><div class=\"djtooltip\">\n",
       "                                <p id=\"primary\">index</p>\n",
       "                                <span class=\"djtooltiptext\">the index of the neuron object that resulted from that mesh (indexed starting at 0)</span>\n",
       "                            </div></th><th><div class=\"djtooltip\">\n",
       "                                <p id=\"primary\">split_index</p>\n",
       "                                <span class=\"djtooltiptext\">the index of the neuron object that resulted AFTER THE SPLITTING ALGORITHM</span>\n",
       "                            </div></th><th><div class=\"djtooltip\">\n",
       "                                <p id=\"primary\">proof_version</p>\n",
       "                                <span class=\"djtooltiptext\">the version of code used for this cell typing classification</span>\n",
       "                            </div></th><th><div class=\"djtooltip\">\n",
       "                                <p id=\"nonprimary\">decomposition</p>\n",
       "                                <span class=\"djtooltiptext\"></span>\n",
       "                            </div> </th> </tr> </thead>\n",
       "                <tbody> <tr> <td>864691136311791677</td>\n",
       "<td>0</td>\n",
       "<td>0.25</td>\n",
       "<td>30.00</td>\n",
       "<td>5</td>\n",
       "<td>0</td>\n",
       "<td>0</td>\n",
       "<td>3</td>\n",
       "<td>=BLOB=</td> </tr> </tbody>\n",
       "            </table>\n",
       "            \n",
       "            <p>Total: 1</p></div>\n",
       "            "
      ],
      "text/plain": [
       "*segment_id    *decimation_ve *decimation_ra *ver      *process_versi *index    *split_index   *proof_version decomposit\n",
       "+------------+ +------------+ +------------+ +-------+ +------------+ +-------+ +------------+ +------------+ +--------+\n",
       "86469113631179 0              0.25           30.00     5              0         0              3              =BLOB=    \n",
       " (Total: 1)"
      ]
     },
     "execution_count": 6,
     "metadata": {},
     "output_type": "execute_result"
    }
   ],
   "source": [
    "minnie.AutoProofreadValidationBorderNeurons() & \"segment_id = 864691136311791677\""
   ]
  },
  {
   "cell_type": "code",
   "execution_count": 8,
   "metadata": {},
   "outputs": [],
   "source": [
    "segment_id = 864691136311791677"
   ]
  },
  {
   "cell_type": "code",
   "execution_count": 9,
   "metadata": {},
   "outputs": [
    {
     "name": "stdout",
     "output_type": "stream",
     "text": [
      "Decompressing Neuron in minimal output mode...please wait\n"
     ]
    }
   ],
   "source": [
    "neuron_obj = du.fetch_neuron_obj_manual(segment_id=segment_id,\n",
    "                                       border_validation=True)"
   ]
  },
  {
   "cell_type": "code",
   "execution_count": 10,
   "metadata": {},
   "outputs": [
    {
     "name": "stdout",
     "output_type": "stream",
     "text": [
      "Synapsse Results:\n",
      "Total Number of Synapses = 7459\n",
      "n_valid_syn_ids_presyn = 176\n",
      "n_errored_syn_ids_presyn = 270\n",
      "n_valid_syn_ids_postsyn = 6896\n",
      "n_errored_syn_ids_postsyn = 117\n"
     ]
    }
   ],
   "source": [
    "validation_df = vu.synapse_validation_df_single_neuron(segment_id,\n",
    "                                        remove_presyn_on_dendrite = False,\n",
    "                        count_presyn_on_dendrite_as_correct = True,\n",
    "                                                        include_extension_synapse=False)"
   ]
  },
  {
   "cell_type": "code",
   "execution_count": 11,
   "metadata": {},
   "outputs": [
    {
     "data": {
      "text/html": [
       "<div>\n",
       "<style scoped>\n",
       "    .dataframe tbody tr th:only-of-type {\n",
       "        vertical-align: middle;\n",
       "    }\n",
       "\n",
       "    .dataframe tbody tr th {\n",
       "        vertical-align: top;\n",
       "    }\n",
       "\n",
       "    .dataframe thead th {\n",
       "        text-align: right;\n",
       "    }\n",
       "</style>\n",
       "<table border=\"1\" class=\"dataframe\">\n",
       "  <thead>\n",
       "    <tr style=\"text-align: right;\">\n",
       "      <th></th>\n",
       "      <th>synapse_id</th>\n",
       "      <th>synapse_type</th>\n",
       "      <th>auto_valid</th>\n",
       "      <th>synapse_x</th>\n",
       "      <th>synapse_y</th>\n",
       "      <th>synapse_z</th>\n",
       "      <th>manual_valid</th>\n",
       "      <th>category</th>\n",
       "      <th>old_segment_id</th>\n",
       "      <th>new_segment_id</th>\n",
       "      <th>euclidean_distance_to_nuclei</th>\n",
       "    </tr>\n",
       "  </thead>\n",
       "  <tbody>\n",
       "    <tr>\n",
       "      <th>0</th>\n",
       "      <td>200140198</td>\n",
       "      <td>presyn</td>\n",
       "      <td>True</td>\n",
       "      <td>803444</td>\n",
       "      <td>792224</td>\n",
       "      <td>978600</td>\n",
       "      <td>True</td>\n",
       "      <td>TP</td>\n",
       "      <td>864691136311791677</td>\n",
       "      <td>864691135497743635</td>\n",
       "      <td>611655.979662</td>\n",
       "    </tr>\n",
       "    <tr>\n",
       "      <th>1</th>\n",
       "      <td>200140435</td>\n",
       "      <td>presyn</td>\n",
       "      <td>True</td>\n",
       "      <td>804792</td>\n",
       "      <td>791640</td>\n",
       "      <td>974480</td>\n",
       "      <td>True</td>\n",
       "      <td>TP</td>\n",
       "      <td>864691136311791677</td>\n",
       "      <td>864691135497743635</td>\n",
       "      <td>608971.709451</td>\n",
       "    </tr>\n",
       "    <tr>\n",
       "      <th>2</th>\n",
       "      <td>204085515</td>\n",
       "      <td>presyn</td>\n",
       "      <td>True</td>\n",
       "      <td>808960</td>\n",
       "      <td>789816</td>\n",
       "      <td>970560</td>\n",
       "      <td>True</td>\n",
       "      <td>TP</td>\n",
       "      <td>864691136311791677</td>\n",
       "      <td>864691135497743635</td>\n",
       "      <td>603435.856913</td>\n",
       "    </tr>\n",
       "    <tr>\n",
       "      <th>3</th>\n",
       "      <td>210185918</td>\n",
       "      <td>presyn</td>\n",
       "      <td>True</td>\n",
       "      <td>822176</td>\n",
       "      <td>785808</td>\n",
       "      <td>944960</td>\n",
       "      <td>True</td>\n",
       "      <td>TP</td>\n",
       "      <td>864691136311791677</td>\n",
       "      <td>864691135497743635</td>\n",
       "      <td>582923.562742</td>\n",
       "    </tr>\n",
       "    <tr>\n",
       "      <th>4</th>\n",
       "      <td>210282162</td>\n",
       "      <td>presyn</td>\n",
       "      <td>True</td>\n",
       "      <td>819760</td>\n",
       "      <td>788240</td>\n",
       "      <td>961080</td>\n",
       "      <td>True</td>\n",
       "      <td>TP</td>\n",
       "      <td>864691136311791677</td>\n",
       "      <td>864691135497743635</td>\n",
       "      <td>590612.596412</td>\n",
       "    </tr>\n",
       "    <tr>\n",
       "      <th>...</th>\n",
       "      <td>...</td>\n",
       "      <td>...</td>\n",
       "      <td>...</td>\n",
       "      <td>...</td>\n",
       "      <td>...</td>\n",
       "      <td>...</td>\n",
       "      <td>...</td>\n",
       "      <td>...</td>\n",
       "      <td>...</td>\n",
       "      <td>...</td>\n",
       "      <td>...</td>\n",
       "    </tr>\n",
       "    <tr>\n",
       "      <th>7454</th>\n",
       "      <td>426556338</td>\n",
       "      <td>postsyn</td>\n",
       "      <td>False</td>\n",
       "      <td>1345416</td>\n",
       "      <td>590504</td>\n",
       "      <td>754080</td>\n",
       "      <td>True</td>\n",
       "      <td>FN</td>\n",
       "      <td>864691136311791677</td>\n",
       "      <td>864691135497743635</td>\n",
       "      <td>55499.085974</td>\n",
       "    </tr>\n",
       "    <tr>\n",
       "      <th>7455</th>\n",
       "      <td>439176646</td>\n",
       "      <td>postsyn</td>\n",
       "      <td>False</td>\n",
       "      <td>1386208</td>\n",
       "      <td>543936</td>\n",
       "      <td>796960</td>\n",
       "      <td>True</td>\n",
       "      <td>FN</td>\n",
       "      <td>864691136311791677</td>\n",
       "      <td>864691135497743635</td>\n",
       "      <td>57739.775407</td>\n",
       "    </tr>\n",
       "    <tr>\n",
       "      <th>7456</th>\n",
       "      <td>439176781</td>\n",
       "      <td>postsyn</td>\n",
       "      <td>False</td>\n",
       "      <td>1387128</td>\n",
       "      <td>545064</td>\n",
       "      <td>797120</td>\n",
       "      <td>True</td>\n",
       "      <td>FN</td>\n",
       "      <td>864691136311791677</td>\n",
       "      <td>864691135497743635</td>\n",
       "      <td>58612.885955</td>\n",
       "    </tr>\n",
       "    <tr>\n",
       "      <th>7457</th>\n",
       "      <td>439283160</td>\n",
       "      <td>postsyn</td>\n",
       "      <td>False</td>\n",
       "      <td>1388464</td>\n",
       "      <td>543776</td>\n",
       "      <td>799840</td>\n",
       "      <td>True</td>\n",
       "      <td>FN</td>\n",
       "      <td>864691136311791677</td>\n",
       "      <td>864691135497743635</td>\n",
       "      <td>60573.739525</td>\n",
       "    </tr>\n",
       "    <tr>\n",
       "      <th>7458</th>\n",
       "      <td>445650399</td>\n",
       "      <td>postsyn</td>\n",
       "      <td>False</td>\n",
       "      <td>1391520</td>\n",
       "      <td>545112</td>\n",
       "      <td>798600</td>\n",
       "      <td>True</td>\n",
       "      <td>FN</td>\n",
       "      <td>864691136311791677</td>\n",
       "      <td>864691135497743635</td>\n",
       "      <td>63208.008100</td>\n",
       "    </tr>\n",
       "  </tbody>\n",
       "</table>\n",
       "<p>7459 rows × 11 columns</p>\n",
       "</div>"
      ],
      "text/plain": [
       "      synapse_id synapse_type  auto_valid  synapse_x  synapse_y  synapse_z  \\\n",
       "0      200140198       presyn        True     803444     792224     978600   \n",
       "1      200140435       presyn        True     804792     791640     974480   \n",
       "2      204085515       presyn        True     808960     789816     970560   \n",
       "3      210185918       presyn        True     822176     785808     944960   \n",
       "4      210282162       presyn        True     819760     788240     961080   \n",
       "...          ...          ...         ...        ...        ...        ...   \n",
       "7454   426556338      postsyn       False    1345416     590504     754080   \n",
       "7455   439176646      postsyn       False    1386208     543936     796960   \n",
       "7456   439176781      postsyn       False    1387128     545064     797120   \n",
       "7457   439283160      postsyn       False    1388464     543776     799840   \n",
       "7458   445650399      postsyn       False    1391520     545112     798600   \n",
       "\n",
       "      manual_valid category      old_segment_id      new_segment_id  \\\n",
       "0             True       TP  864691136311791677  864691135497743635   \n",
       "1             True       TP  864691136311791677  864691135497743635   \n",
       "2             True       TP  864691136311791677  864691135497743635   \n",
       "3             True       TP  864691136311791677  864691135497743635   \n",
       "4             True       TP  864691136311791677  864691135497743635   \n",
       "...            ...      ...                 ...                 ...   \n",
       "7454          True       FN  864691136311791677  864691135497743635   \n",
       "7455          True       FN  864691136311791677  864691135497743635   \n",
       "7456          True       FN  864691136311791677  864691135497743635   \n",
       "7457          True       FN  864691136311791677  864691135497743635   \n",
       "7458          True       FN  864691136311791677  864691135497743635   \n",
       "\n",
       "      euclidean_distance_to_nuclei  \n",
       "0                    611655.979662  \n",
       "1                    608971.709451  \n",
       "2                    603435.856913  \n",
       "3                    582923.562742  \n",
       "4                    590612.596412  \n",
       "...                            ...  \n",
       "7454                  55499.085974  \n",
       "7455                  57739.775407  \n",
       "7456                  58612.885955  \n",
       "7457                  60573.739525  \n",
       "7458                  63208.008100  \n",
       "\n",
       "[7459 rows x 11 columns]"
      ]
     },
     "execution_count": 11,
     "metadata": {},
     "output_type": "execute_result"
    }
   ],
   "source": [
    "validation_df"
   ]
  },
  {
   "cell_type": "markdown",
   "metadata": {},
   "source": [
    "# Processing the Neuron"
   ]
  },
  {
   "cell_type": "code",
   "execution_count": 14,
   "metadata": {},
   "outputs": [
    {
     "data": {
      "text/plain": [
       "array([583848])"
      ]
     },
     "execution_count": 14,
     "metadata": {},
     "output_type": "execute_result"
    }
   ],
   "source": [
    "ver = 0.08\n",
    "nucleus_ids,nucleus_centers = du.segment_to_nuclei(segment_id,\n",
    "                                                       nuclei_version=ver)\n",
    "nucleus_ids"
   ]
  },
  {
   "cell_type": "code",
   "execution_count": 17,
   "metadata": {},
   "outputs": [],
   "source": [
    "from pykdtree.kdtree import KDTree\n",
    "import trimesh_utils as tu\n",
    "\n",
    "filtered_neuron = neuron_obj\n",
    "split_index = 0\n",
    "winning_nucleus_id = nucleus_ids[0]\n",
    "\n",
    "compute_synapse_to_soma_skeletal_distance = True\n",
    "return_errored_synapses_ids_non_axons = True\n",
    "soma_center_in_nm = False\n",
    "validation=True\n",
    "\n",
    "original_mesh = du.fetch_segment_id_mesh(segment_id)\n",
    "original_mesh_kdtree = KDTree(original_mesh.triangles_center)\n",
    "\n",
    "original_mesh_faces = tu.original_mesh_faces_map(original_mesh,\n",
    "                                                    filtered_neuron.mesh,\n",
    "                                                    exact_match=True,\n",
    "                                                    original_mesh_kdtree=original_mesh_kdtree)"
   ]
  },
  {
   "cell_type": "code",
   "execution_count": 18,
   "metadata": {},
   "outputs": [],
   "source": [
    "# getting the axon faces\n",
    "\n",
    "import classification_utils as clu\n",
    "import neuron_utils as nru\n",
    "\n",
    "axon_limb_branch_dict = clu.axon_limb_branch_dict(filtered_neuron)\n",
    "\n",
    "axon_skeletal_length = nru.sum_feature_over_limb_branch_dict(filtered_neuron,\n",
    "                                 limb_branch_dict=axon_limb_branch_dict,\n",
    "                                 feature=\"skeletal_length\")\n",
    "\n",
    "axon_mesh_area = nru.sum_feature_over_limb_branch_dict(filtered_neuron,\n",
    "                                     limb_branch_dict=axon_limb_branch_dict,\n",
    "                                     feature=\"area\")\n",
    "\n",
    "axon_face_labels = clu.axon_faces_from_labels_on_original_mesh(filtered_neuron,\n",
    "                                       original_mesh=original_mesh,\n",
    "                                       original_mesh_kdtree=original_mesh_kdtree,\n",
    "                                        plot_axon=False,\n",
    "                                       verbose=False,)"
   ]
  },
  {
   "cell_type": "code",
   "execution_count": 25,
   "metadata": {},
   "outputs": [
    {
     "name": "stdout",
     "output_type": "stream",
     "text": [
      "Apply the presyn non_error\n",
      "For presyn: # valid synapses = 406, # error synapses  = 40, # error presyns = 40\n",
      "For postsyn: # valid synapses = 7012, # error synapses  = 1, # error presyns = 0\n"
     ]
    }
   ],
   "source": [
    "# doing the synapse filtering\n",
    "compute_synapse_to_soma_skeletal_distance = False\n",
    "import proofreading_utils as pru\n",
    "\n",
    "(keys_to_write_without_version,\n",
    "         synapse_stats,\n",
    "         total_error_synapse_ids,\n",
    "         \n",
    ") = pru.synapse_filtering(filtered_neuron,\n",
    "                split_index,\n",
    "                nucleus_id=winning_nucleus_id,\n",
    "                segment_id=None,\n",
    "                return_synapse_filter_info = True,\n",
    "                return_synapse_center_data = False,\n",
    "                return_error_synapse_ids = True,\n",
    "               return_valid_synapse_centers=compute_synapse_to_soma_skeletal_distance,\n",
    "                return_errored_synapses_ids_non_axons=return_errored_synapses_ids_non_axons,\n",
    "                mapping_threshold = 500,\n",
    "                  plot_synapses=False,\n",
    "                verbose = True,\n",
    "                original_mesh_method = True,\n",
    "                original_mesh = original_mesh,\n",
    "                original_mesh_kdtree = original_mesh_kdtree,\n",
    "                valid_faces_on_original_mesh=original_mesh_faces, \n",
    "                axon_faces_on_original_mesh=axon_face_labels,\n",
    "\n",
    "                #will only apply the filter if it is excitatory\n",
    "                apply_non_axon_presyn_errors=True,\n",
    "                validation=validation,\n",
    "\n",
    "                )"
   ]
  },
  {
   "cell_type": "code",
   "execution_count": 46,
   "metadata": {},
   "outputs": [
    {
     "data": {
      "text/html": [
       "<div>\n",
       "<style scoped>\n",
       "    .dataframe tbody tr th:only-of-type {\n",
       "        vertical-align: middle;\n",
       "    }\n",
       "\n",
       "    .dataframe tbody tr th {\n",
       "        vertical-align: top;\n",
       "    }\n",
       "\n",
       "    .dataframe thead th {\n",
       "        text-align: right;\n",
       "    }\n",
       "</style>\n",
       "<table border=\"1\" class=\"dataframe\">\n",
       "  <thead>\n",
       "    <tr style=\"text-align: right;\">\n",
       "      <th></th>\n",
       "      <th>synapse_id</th>\n",
       "      <th>synapse_type</th>\n",
       "      <th>nucleus_id</th>\n",
       "      <th>segment_id</th>\n",
       "      <th>split_index</th>\n",
       "      <th>skeletal_distance_to_soma</th>\n",
       "    </tr>\n",
       "  </thead>\n",
       "  <tbody>\n",
       "    <tr>\n",
       "      <th>0</th>\n",
       "      <td>192248410</td>\n",
       "      <td>presyn</td>\n",
       "      <td>583848</td>\n",
       "      <td>864691136311791677</td>\n",
       "      <td>0</td>\n",
       "      <td>1</td>\n",
       "    </tr>\n",
       "    <tr>\n",
       "      <th>1</th>\n",
       "      <td>193839101</td>\n",
       "      <td>presyn</td>\n",
       "      <td>583848</td>\n",
       "      <td>864691136311791677</td>\n",
       "      <td>0</td>\n",
       "      <td>1</td>\n",
       "    </tr>\n",
       "    <tr>\n",
       "      <th>2</th>\n",
       "      <td>199666779</td>\n",
       "      <td>presyn</td>\n",
       "      <td>583848</td>\n",
       "      <td>864691136311791677</td>\n",
       "      <td>0</td>\n",
       "      <td>1</td>\n",
       "    </tr>\n",
       "    <tr>\n",
       "      <th>3</th>\n",
       "      <td>199667343</td>\n",
       "      <td>presyn</td>\n",
       "      <td>583848</td>\n",
       "      <td>864691136311791677</td>\n",
       "      <td>0</td>\n",
       "      <td>1</td>\n",
       "    </tr>\n",
       "    <tr>\n",
       "      <th>4</th>\n",
       "      <td>199668240</td>\n",
       "      <td>presyn</td>\n",
       "      <td>583848</td>\n",
       "      <td>864691136311791677</td>\n",
       "      <td>0</td>\n",
       "      <td>1</td>\n",
       "    </tr>\n",
       "    <tr>\n",
       "      <th>...</th>\n",
       "      <td>...</td>\n",
       "      <td>...</td>\n",
       "      <td>...</td>\n",
       "      <td>...</td>\n",
       "      <td>...</td>\n",
       "      <td>...</td>\n",
       "    </tr>\n",
       "    <tr>\n",
       "      <th>7413</th>\n",
       "      <td>456294489</td>\n",
       "      <td>postsyn</td>\n",
       "      <td>583848</td>\n",
       "      <td>864691136311791677</td>\n",
       "      <td>0</td>\n",
       "      <td>1</td>\n",
       "    </tr>\n",
       "    <tr>\n",
       "      <th>7414</th>\n",
       "      <td>456294843</td>\n",
       "      <td>postsyn</td>\n",
       "      <td>583848</td>\n",
       "      <td>864691136311791677</td>\n",
       "      <td>0</td>\n",
       "      <td>1</td>\n",
       "    </tr>\n",
       "    <tr>\n",
       "      <th>7415</th>\n",
       "      <td>456295391</td>\n",
       "      <td>postsyn</td>\n",
       "      <td>583848</td>\n",
       "      <td>864691136311791677</td>\n",
       "      <td>0</td>\n",
       "      <td>1</td>\n",
       "    </tr>\n",
       "    <tr>\n",
       "      <th>7416</th>\n",
       "      <td>456295476</td>\n",
       "      <td>postsyn</td>\n",
       "      <td>583848</td>\n",
       "      <td>864691136311791677</td>\n",
       "      <td>0</td>\n",
       "      <td>1</td>\n",
       "    </tr>\n",
       "    <tr>\n",
       "      <th>7417</th>\n",
       "      <td>456295686</td>\n",
       "      <td>postsyn</td>\n",
       "      <td>583848</td>\n",
       "      <td>864691136311791677</td>\n",
       "      <td>0</td>\n",
       "      <td>1</td>\n",
       "    </tr>\n",
       "  </tbody>\n",
       "</table>\n",
       "<p>7418 rows × 6 columns</p>\n",
       "</div>"
      ],
      "text/plain": [
       "      synapse_id synapse_type  nucleus_id          segment_id  split_index  \\\n",
       "0      192248410       presyn      583848  864691136311791677            0   \n",
       "1      193839101       presyn      583848  864691136311791677            0   \n",
       "2      199666779       presyn      583848  864691136311791677            0   \n",
       "3      199667343       presyn      583848  864691136311791677            0   \n",
       "4      199668240       presyn      583848  864691136311791677            0   \n",
       "...          ...          ...         ...                 ...          ...   \n",
       "7413   456294489      postsyn      583848  864691136311791677            0   \n",
       "7414   456294843      postsyn      583848  864691136311791677            0   \n",
       "7415   456295391      postsyn      583848  864691136311791677            0   \n",
       "7416   456295476      postsyn      583848  864691136311791677            0   \n",
       "7417   456295686      postsyn      583848  864691136311791677            0   \n",
       "\n",
       "      skeletal_distance_to_soma  \n",
       "0                             1  \n",
       "1                             1  \n",
       "2                             1  \n",
       "3                             1  \n",
       "4                             1  \n",
       "...                         ...  \n",
       "7413                          1  \n",
       "7414                          1  \n",
       "7415                          1  \n",
       "7416                          1  \n",
       "7417                          1  \n",
       "\n",
       "[7418 rows x 6 columns]"
      ]
     },
     "execution_count": 46,
     "metadata": {},
     "output_type": "execute_result"
    }
   ],
   "source": [
    "valid_synapse_df = pru.valid_synapse_records_to_unique_synapse_df(keys_to_write_without_version)"
   ]
  },
  {
   "cell_type": "code",
   "execution_count": 49,
   "metadata": {},
   "outputs": [
    {
     "name": "stdout",
     "output_type": "stream",
     "text": [
      "Synapsse Results:\n",
      "Total Number of Synapses = 7459\n",
      "n_valid_syn_ids_presyn = 406\n",
      "n_errored_syn_ids_presyn = 40\n",
      "n_valid_syn_ids_postsyn = 7012\n",
      "n_errored_syn_ids_postsyn = 1\n",
      "Presyn counts:\n",
      "TP:116\n",
      "TN:39\n",
      "FP:290\n",
      "FN:1\n",
      "Postsyn counts:\n",
      "TP:6971\n",
      "TN:0\n",
      "FP:41\n",
      "FN:1\n"
     ]
    },
    {
     "data": {
      "text/plain": [
       "{'presyn': {'TP': 116, 'TN': 39, 'FP': 290, 'FN': 1},\n",
       " 'postsyn': {'TP': 6971, 'TN': 0, 'FP': 41, 'FN': 1}}"
      ]
     },
     "execution_count": 49,
     "metadata": {},
     "output_type": "execute_result"
    }
   ],
   "source": [
    "validation_df = vu.synapse_validation_df_single_neuron(segment_id,\n",
    "                                        remove_presyn_on_dendrite = False,\n",
    "                        count_presyn_on_dendrite_as_correct = True,\n",
    "                                    include_extension_synapse=False,\n",
    "                                      valid_synapses_ids=valid_synapse_df[\"synapse_id\"].to_list())\n",
    "\n",
    "vu.synapse_validation_df_to_category_counts(validation_df,\n",
    "                                            print_postsyn=True,\n",
    "                                            print_presyn=True)\n",
    "                                         "
   ]
  },
  {
   "cell_type": "code",
   "execution_count": 50,
   "metadata": {},
   "outputs": [
    {
     "name": "stdout",
     "output_type": "stream",
     "text": [
      "Presyn counts:\n",
      "TP:116\n",
      "TN:39\n",
      "FP:290\n",
      "FN:1\n"
     ]
    },
    {
     "data": {
      "image/png": "[encoded data removed]",
      "text/plain": [
       "<Figure size 700x400 with 2 Axes>"
      ]
     },
     "metadata": {},
     "output_type": "display_data"
    }
   ],
   "source": [
    "vu.synapse_validation_df_to_score_plot(validation_df)"
   ]
  },
  {
   "cell_type": "code",
   "execution_count": 58,
   "metadata": {},
   "outputs": [
    {
     "name": "stdout",
     "output_type": "stream",
     "text": [
      "Synapsse Results:\n",
      "Total Number of Synapses = 7459\n",
      "n_valid_syn_ids_presyn = 176\n",
      "n_errored_syn_ids_presyn = 270\n",
      "n_valid_syn_ids_postsyn = 6896\n",
      "n_errored_syn_ids_postsyn = 117\n",
      "Presyn counts:\n",
      "TP:115\n",
      "TN:268\n",
      "FP:61\n",
      "FN:2\n",
      "Postsyn counts:\n",
      "TP:6888\n",
      "TN:33\n",
      "FP:8\n",
      "FN:84\n",
      "Presyn counts:\n",
      "TP:115\n",
      "TN:268\n",
      "FP:61\n",
      "FN:2\n"
     ]
    },
    {
     "data": {
      "image/png": "[encoded data removed]",
      "text/plain": [
       "<Figure size 700x400 with 2 Axes>"
      ]
     },
     "metadata": {},
     "output_type": "display_data"
    }
   ],
   "source": [
    "# if had the original\n",
    "validation_df_original = vu.synapse_validation_df_single_neuron(segment_id,\n",
    "                                        remove_presyn_on_dendrite = False,\n",
    "                        count_presyn_on_dendrite_as_correct = True,\n",
    "                                                        include_extension_synapse=False,)\n",
    "vu.synapse_validation_df_to_category_counts(validation_df_original,\n",
    "                                            print_postsyn=True,\n",
    "                                            print_presyn=True)\n",
    "vu.synapse_validation_df_to_score_plot(validation_df_original)"
   ]
  },
  {
   "cell_type": "markdown",
   "metadata": {},
   "source": [
    "# Take the Synapse Data and Convert it into form that can be processed by the validation functions"
   ]
  },
  {
   "cell_type": "code",
   "execution_count": null,
   "metadata": {},
   "outputs": [],
   "source": []
  }
 ],
 "metadata": {
  "kernelspec": {
   "display_name": "Python 3",
   "language": "python",
   "name": "python3"
  },
  "language_info": {
   "codemirror_mode": {
    "name": "ipython",
    "version": 3
   },
   "file_extension": ".py",
   "mimetype": "text/x-python",
   "name": "python",
   "nbconvert_exporter": "python",
   "pygments_lexer": "ipython3",
   "version": "3.6.9"
  }
 },
 "nbformat": 4,
 "nbformat_minor": 4
}
