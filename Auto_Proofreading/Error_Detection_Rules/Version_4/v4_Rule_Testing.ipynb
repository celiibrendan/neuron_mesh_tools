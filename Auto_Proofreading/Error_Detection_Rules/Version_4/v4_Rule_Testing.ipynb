{
 "cells": [
  {
   "cell_type": "code",
   "execution_count": null,
   "metadata": {},
   "outputs": [],
   "source": [
    "\"\"\"\n",
    "Purpose: To Compare how the new rules do when proofreading a cell\n",
    "\n",
    "\"\"\""
   ]
  },
  {
   "cell_type": "markdown",
   "metadata": {},
   "source": [
    "# The procedure when proofreadig the cell"
   ]
  },
  {
   "cell_type": "code",
   "execution_count": null,
   "metadata": {},
   "outputs": [],
   "source": [
    "\"\"\"\n",
    "1) Downloads the neuorn\n",
    "2) Apply the New Proofreading rules to the cell (that just creates a new limb brnach dict)\n",
    "3) Do the synapse Filtering\n",
    "4) Get the synapses that should belong\n",
    "5) Compare and give a score\n",
    "\n",
    "\"\"\""
   ]
  },
  {
   "cell_type": "code",
   "execution_count": 2,
   "metadata": {},
   "outputs": [],
   "source": [
    "%load_ext autoreload\n",
    "%autoreload 2"
   ]
  },
  {
   "cell_type": "code",
   "execution_count": 1,
   "metadata": {},
   "outputs": [
    {
     "name": "stderr",
     "output_type": "stream",
     "text": [
      "INFO - 2021-04-20 02:15:04,861 - settings - Setting database.host to at-database.ad.bcm.edu\n",
      "INFO - 2021-04-20 02:15:04,863 - settings - Setting database.user to celiib\n",
      "INFO - 2021-04-20 02:15:04,864 - settings - Setting database.password to newceliipass\n",
      "INFO - 2021-04-20 02:15:04,867 - settings - Setting stores to {'minnie65': {'protocol': 'file', 'location': '/mnt/dj-stor01/platinum/minnie65', 'stage': '/mnt/dj-stor01/platinum/minnie65'}, 'meshes': {'protocol': 'file', 'location': '/mnt/dj-stor01/platinum/minnie65/02/meshes', 'stage': '/mnt/dj-stor01/platinum/minnie65/02/meshes'}, 'decimated_meshes': {'protocol': 'file', 'location': '/mnt/dj-stor01/platinum/minnie65/02/decimated_meshes', 'stage': '/mnt/dj-stor01/platinum/minnie65/02/decimated_meshes'}, 'skeletons': {'protocol': 'file', 'location': '/mnt/dj-stor01/platinum/minnie65/02/skeletons'}}\n",
      "INFO - 2021-04-20 02:15:04,869 - settings - Setting enable_python_native_blobs to True\n",
      "INFO - 2021-04-20 02:15:04,882 - connection - Connected celiib@at-database.ad.bcm.edu:3306\n"
     ]
    },
    {
     "name": "stdout",
     "output_type": "stream",
     "text": [
      "Connecting celiib@at-database.ad.bcm.edu:3306\n"
     ]
    },
    {
     "name": "stderr",
     "output_type": "stream",
     "text": [
      "INFO - 2021-04-20 02:15:05,314 - settings - Setting enable_python_native_blobs to True\n",
      "INFO - 2021-04-20 02:15:05,317 - settings - Setting database.host to at-database.ad.bcm.edu\n",
      "INFO - 2021-04-20 02:15:05,318 - settings - Setting database.user to celiib\n",
      "INFO - 2021-04-20 02:15:05,319 - settings - Setting database.password to newceliipass\n",
      "INFO - 2021-04-20 02:15:05,320 - settings - Setting database.host to at-database.ad.bcm.edu\n",
      "INFO - 2021-04-20 02:15:05,320 - settings - Setting database.user to celiib\n",
      "INFO - 2021-04-20 02:15:05,321 - settings - Setting database.password to newceliipass\n",
      "INFO - 2021-04-20 02:15:05,322 - settings - Setting enable_python_native_blobs to True\n",
      "INFO - 2021-04-20 02:15:05,765 - settings - Setting enable_python_native_blobs to True\n"
     ]
    }
   ],
   "source": [
    "import numpy as np\n",
    "import datajoint as dj\n",
    "import trimesh\n",
    "from tqdm.notebook import tqdm\n",
    "from pathlib import Path\n",
    "\n",
    "from os import sys\n",
    "sys.path.append(\"/meshAfterParty/\")\n",
    "sys.path.append(\"/meshAfterParty/meshAfterParty\")\n",
    "\n",
    "import datajoint_utils as du\n",
    "from importlib import reload"
   ]
  },
  {
   "cell_type": "code",
   "execution_count": 3,
   "metadata": {},
   "outputs": [
    {
     "name": "stderr",
     "output_type": "stream",
     "text": [
      "INFO - 2021-04-20 02:16:58,830 - settings - Setting database.host to at-database.ad.bcm.edu\n",
      "INFO - 2021-04-20 02:16:58,833 - settings - Setting database.user to celiib\n",
      "INFO - 2021-04-20 02:16:58,834 - settings - Setting database.password to newceliipass\n",
      "INFO - 2021-04-20 02:16:58,838 - settings - Setting enable_python_native_blobs to True\n",
      "INFO - 2021-04-20 02:16:59,366 - settings - Setting enable_python_native_blobs to True\n"
     ]
    }
   ],
   "source": [
    "#configuring will include the adapters\n",
    "minnie,schema = du.configure_minnie_vm()"
   ]
  },
  {
   "cell_type": "code",
   "execution_count": 85,
   "metadata": {},
   "outputs": [],
   "source": [
    "import validation_utils as vu\n",
    "import neuron_visualizations as nviz\n",
    "import neuron_utils as nru"
   ]
  },
  {
   "cell_type": "markdown",
   "metadata": {},
   "source": [
    "# Downloading the neuron and the synapse information"
   ]
  },
  {
   "cell_type": "code",
   "execution_count": null,
   "metadata": {},
   "outputs": [],
   "source": [
    "segment_id = 864691136311791677\n",
    "segment_id = 864691135645592260"
   ]
  },
  {
   "cell_type": "code",
   "execution_count": 92,
   "metadata": {},
   "outputs": [
    {
     "data": {
      "text/html": [
       "\n",
       "        \n",
       "        <style type=\"text/css\">\n",
       "            .Relation{\n",
       "                border-collapse:collapse;\n",
       "            }\n",
       "            .Relation th{\n",
       "                background: #A0A0A0; color: #ffffff; padding:4px; border:#f0e0e0 1px solid;\n",
       "                font-weight: normal; font-family: monospace; font-size: 100%;\n",
       "            }\n",
       "            .Relation td{\n",
       "                padding:4px; border:#f0e0e0 1px solid; font-size:100%;\n",
       "            }\n",
       "            .Relation tr:nth-child(odd){\n",
       "                background: #ffffff;\n",
       "            }\n",
       "            .Relation tr:nth-child(even){\n",
       "                background: #f3f1ff;\n",
       "            }\n",
       "            /* Tooltip container */\n",
       "            .djtooltip {\n",
       "            }\n",
       "            /* Tooltip text */\n",
       "            .djtooltip .djtooltiptext {\n",
       "                visibility: hidden;\n",
       "                width: 120px;\n",
       "                background-color: black;\n",
       "                color: #fff;\n",
       "                text-align: center;\n",
       "                padding: 5px 0;\n",
       "                border-radius: 6px;\n",
       "                /* Position the tooltip text - see examples below! */\n",
       "                position: absolute;\n",
       "                z-index: 1;\n",
       "            }\n",
       "            #primary {\n",
       "                font-weight: bold;\n",
       "                color: black;\n",
       "            }\n",
       "\n",
       "            #nonprimary {\n",
       "                font-weight: normal;\n",
       "                color: white;\n",
       "            }\n",
       "\n",
       "            /* Show the tooltip text when you mouse over the tooltip container */\n",
       "            .djtooltip:hover .djtooltiptext {\n",
       "                visibility: visible;\n",
       "            }\n",
       "        </style>\n",
       "        \n",
       "        <b></b>\n",
       "            <div style=\"max-height:1000px;max-width:1500px;overflow:auto;\">\n",
       "            <table border=\"1\" class=\"Relation\">\n",
       "                <thead> <tr style=\"text-align: right;\"> <th> <div class=\"djtooltip\">\n",
       "                                <p id=\"primary\">segment_id</p>\n",
       "                                <span class=\"djtooltiptext\">segment id unique within each Segmentation</span>\n",
       "                            </div></th><th><div class=\"djtooltip\">\n",
       "                                <p id=\"primary\">decimation_version</p>\n",
       "                                <span class=\"djtooltiptext\"></span>\n",
       "                            </div></th><th><div class=\"djtooltip\">\n",
       "                                <p id=\"primary\">decimation_ratio</p>\n",
       "                                <span class=\"djtooltiptext\">ratio of remaining mesh vertices/faces (which ones depends on what metric the decimation technique uses)</span>\n",
       "                            </div></th><th><div class=\"djtooltip\">\n",
       "                                <p id=\"primary\">ver</p>\n",
       "                                <span class=\"djtooltiptext\">the version number of the materializaiton</span>\n",
       "                            </div></th><th><div class=\"djtooltip\">\n",
       "                                <p id=\"primary\">process_version</p>\n",
       "                                <span class=\"djtooltiptext\">the version of the preprocessing pipeline run</span>\n",
       "                            </div></th><th><div class=\"djtooltip\">\n",
       "                                <p id=\"primary\">index</p>\n",
       "                                <span class=\"djtooltiptext\">the index of the neuron object that resulted from that mesh (indexed starting at 0)</span>\n",
       "                            </div></th><th><div class=\"djtooltip\">\n",
       "                                <p id=\"primary\">split_index</p>\n",
       "                                <span class=\"djtooltiptext\">the index of the neuron object that resulted AFTER THE SPLITTING ALGORITHM</span>\n",
       "                            </div></th><th><div class=\"djtooltip\">\n",
       "                                <p id=\"primary\">proof_version</p>\n",
       "                                <span class=\"djtooltiptext\">the version of code used for this cell typing classification</span>\n",
       "                            </div></th><th><div class=\"djtooltip\">\n",
       "                                <p id=\"nonprimary\">decomposition</p>\n",
       "                                <span class=\"djtooltiptext\"></span>\n",
       "                            </div> </th> </tr> </thead>\n",
       "                <tbody> <tr> <td>864691136311791677</td>\n",
       "<td>0</td>\n",
       "<td>0.25</td>\n",
       "<td>30.00</td>\n",
       "<td>5</td>\n",
       "<td>0</td>\n",
       "<td>0</td>\n",
       "<td>3</td>\n",
       "<td>=BLOB=</td> </tr> </tbody>\n",
       "            </table>\n",
       "            \n",
       "            <p>Total: 1</p></div>\n",
       "            "
      ],
      "text/plain": [
       "*segment_id    *decimation_ve *decimation_ra *ver      *process_versi *index    *split_index   *proof_version decomposit\n",
       "+------------+ +------------+ +------------+ +-------+ +------------+ +-------+ +------------+ +------------+ +--------+\n",
       "86469113631179 0              0.25           30.00     5              0         0              3              =BLOB=    \n",
       " (Total: 1)"
      ]
     },
     "execution_count": 92,
     "metadata": {},
     "output_type": "execute_result"
    }
   ],
   "source": [
    "minnie.AutoProofreadValidationBorderNeurons() & f\"segment_id = {segment_id}\""
   ]
  },
  {
   "cell_type": "code",
   "execution_count": 9,
   "metadata": {},
   "outputs": [
    {
     "name": "stdout",
     "output_type": "stream",
     "text": [
      "Decompressing Neuron in minimal output mode...please wait\n"
     ]
    }
   ],
   "source": [
    "neuron_obj = du.fetch_neuron_obj_manual(segment_id=segment_id,\n",
    "                                       border_validation=True)"
   ]
  },
  {
   "cell_type": "code",
   "execution_count": 10,
   "metadata": {},
   "outputs": [
    {
     "name": "stdout",
     "output_type": "stream",
     "text": [
      "Synapsse Results:\n",
      "Total Number of Synapses = 7459\n",
      "n_valid_syn_ids_presyn = 176\n",
      "n_errored_syn_ids_presyn = 270\n",
      "n_valid_syn_ids_postsyn = 6896\n",
      "n_errored_syn_ids_postsyn = 117\n"
     ]
    }
   ],
   "source": [
    "validation_df = vu.synapse_validation_df_single_neuron(segment_id,\n",
    "                                        remove_presyn_on_dendrite = False,\n",
    "                        count_presyn_on_dendrite_as_correct = True,\n",
    "                                                        include_extension_synapse=False)"
   ]
  },
  {
   "cell_type": "code",
   "execution_count": 11,
   "metadata": {},
   "outputs": [
    {
     "data": {
      "text/html": [
       "<div>\n",
       "<style scoped>\n",
       "    .dataframe tbody tr th:only-of-type {\n",
       "        vertical-align: middle;\n",
       "    }\n",
       "\n",
       "    .dataframe tbody tr th {\n",
       "        vertical-align: top;\n",
       "    }\n",
       "\n",
       "    .dataframe thead th {\n",
       "        text-align: right;\n",
       "    }\n",
       "</style>\n",
       "<table border=\"1\" class=\"dataframe\">\n",
       "  <thead>\n",
       "    <tr style=\"text-align: right;\">\n",
       "      <th></th>\n",
       "      <th>synapse_id</th>\n",
       "      <th>synapse_type</th>\n",
       "      <th>auto_valid</th>\n",
       "      <th>synapse_x</th>\n",
       "      <th>synapse_y</th>\n",
       "      <th>synapse_z</th>\n",
       "      <th>manual_valid</th>\n",
       "      <th>category</th>\n",
       "      <th>old_segment_id</th>\n",
       "      <th>new_segment_id</th>\n",
       "      <th>euclidean_distance_to_nuclei</th>\n",
       "    </tr>\n",
       "  </thead>\n",
       "  <tbody>\n",
       "    <tr>\n",
       "      <th>0</th>\n",
       "      <td>200140198</td>\n",
       "      <td>presyn</td>\n",
       "      <td>True</td>\n",
       "      <td>803444</td>\n",
       "      <td>792224</td>\n",
       "      <td>978600</td>\n",
       "      <td>True</td>\n",
       "      <td>TP</td>\n",
       "      <td>864691136311791677</td>\n",
       "      <td>864691135497743635</td>\n",
       "      <td>611655.979662</td>\n",
       "    </tr>\n",
       "    <tr>\n",
       "      <th>1</th>\n",
       "      <td>200140435</td>\n",
       "      <td>presyn</td>\n",
       "      <td>True</td>\n",
       "      <td>804792</td>\n",
       "      <td>791640</td>\n",
       "      <td>974480</td>\n",
       "      <td>True</td>\n",
       "      <td>TP</td>\n",
       "      <td>864691136311791677</td>\n",
       "      <td>864691135497743635</td>\n",
       "      <td>608971.709451</td>\n",
       "    </tr>\n",
       "    <tr>\n",
       "      <th>2</th>\n",
       "      <td>204085515</td>\n",
       "      <td>presyn</td>\n",
       "      <td>True</td>\n",
       "      <td>808960</td>\n",
       "      <td>789816</td>\n",
       "      <td>970560</td>\n",
       "      <td>True</td>\n",
       "      <td>TP</td>\n",
       "      <td>864691136311791677</td>\n",
       "      <td>864691135497743635</td>\n",
       "      <td>603435.856913</td>\n",
       "    </tr>\n",
       "    <tr>\n",
       "      <th>3</th>\n",
       "      <td>210185918</td>\n",
       "      <td>presyn</td>\n",
       "      <td>True</td>\n",
       "      <td>822176</td>\n",
       "      <td>785808</td>\n",
       "      <td>944960</td>\n",
       "      <td>True</td>\n",
       "      <td>TP</td>\n",
       "      <td>864691136311791677</td>\n",
       "      <td>864691135497743635</td>\n",
       "      <td>582923.562742</td>\n",
       "    </tr>\n",
       "    <tr>\n",
       "      <th>4</th>\n",
       "      <td>210282162</td>\n",
       "      <td>presyn</td>\n",
       "      <td>True</td>\n",
       "      <td>819760</td>\n",
       "      <td>788240</td>\n",
       "      <td>961080</td>\n",
       "      <td>True</td>\n",
       "      <td>TP</td>\n",
       "      <td>864691136311791677</td>\n",
       "      <td>864691135497743635</td>\n",
       "      <td>590612.596412</td>\n",
       "    </tr>\n",
       "    <tr>\n",
       "      <th>...</th>\n",
       "      <td>...</td>\n",
       "      <td>...</td>\n",
       "      <td>...</td>\n",
       "      <td>...</td>\n",
       "      <td>...</td>\n",
       "      <td>...</td>\n",
       "      <td>...</td>\n",
       "      <td>...</td>\n",
       "      <td>...</td>\n",
       "      <td>...</td>\n",
       "      <td>...</td>\n",
       "    </tr>\n",
       "    <tr>\n",
       "      <th>7454</th>\n",
       "      <td>426556338</td>\n",
       "      <td>postsyn</td>\n",
       "      <td>False</td>\n",
       "      <td>1345416</td>\n",
       "      <td>590504</td>\n",
       "      <td>754080</td>\n",
       "      <td>True</td>\n",
       "      <td>FN</td>\n",
       "      <td>864691136311791677</td>\n",
       "      <td>864691135497743635</td>\n",
       "      <td>55499.085974</td>\n",
       "    </tr>\n",
       "    <tr>\n",
       "      <th>7455</th>\n",
       "      <td>439176646</td>\n",
       "      <td>postsyn</td>\n",
       "      <td>False</td>\n",
       "      <td>1386208</td>\n",
       "      <td>543936</td>\n",
       "      <td>796960</td>\n",
       "      <td>True</td>\n",
       "      <td>FN</td>\n",
       "      <td>864691136311791677</td>\n",
       "      <td>864691135497743635</td>\n",
       "      <td>57739.775407</td>\n",
       "    </tr>\n",
       "    <tr>\n",
       "      <th>7456</th>\n",
       "      <td>439176781</td>\n",
       "      <td>postsyn</td>\n",
       "      <td>False</td>\n",
       "      <td>1387128</td>\n",
       "      <td>545064</td>\n",
       "      <td>797120</td>\n",
       "      <td>True</td>\n",
       "      <td>FN</td>\n",
       "      <td>864691136311791677</td>\n",
       "      <td>864691135497743635</td>\n",
       "      <td>58612.885955</td>\n",
       "    </tr>\n",
       "    <tr>\n",
       "      <th>7457</th>\n",
       "      <td>439283160</td>\n",
       "      <td>postsyn</td>\n",
       "      <td>False</td>\n",
       "      <td>1388464</td>\n",
       "      <td>543776</td>\n",
       "      <td>799840</td>\n",
       "      <td>True</td>\n",
       "      <td>FN</td>\n",
       "      <td>864691136311791677</td>\n",
       "      <td>864691135497743635</td>\n",
       "      <td>60573.739525</td>\n",
       "    </tr>\n",
       "    <tr>\n",
       "      <th>7458</th>\n",
       "      <td>445650399</td>\n",
       "      <td>postsyn</td>\n",
       "      <td>False</td>\n",
       "      <td>1391520</td>\n",
       "      <td>545112</td>\n",
       "      <td>798600</td>\n",
       "      <td>True</td>\n",
       "      <td>FN</td>\n",
       "      <td>864691136311791677</td>\n",
       "      <td>864691135497743635</td>\n",
       "      <td>63208.008100</td>\n",
       "    </tr>\n",
       "  </tbody>\n",
       "</table>\n",
       "<p>7459 rows × 11 columns</p>\n",
       "</div>"
      ],
      "text/plain": [
       "      synapse_id synapse_type  auto_valid  synapse_x  synapse_y  synapse_z  \\\n",
       "0      200140198       presyn        True     803444     792224     978600   \n",
       "1      200140435       presyn        True     804792     791640     974480   \n",
       "2      204085515       presyn        True     808960     789816     970560   \n",
       "3      210185918       presyn        True     822176     785808     944960   \n",
       "4      210282162       presyn        True     819760     788240     961080   \n",
       "...          ...          ...         ...        ...        ...        ...   \n",
       "7454   426556338      postsyn       False    1345416     590504     754080   \n",
       "7455   439176646      postsyn       False    1386208     543936     796960   \n",
       "7456   439176781      postsyn       False    1387128     545064     797120   \n",
       "7457   439283160      postsyn       False    1388464     543776     799840   \n",
       "7458   445650399      postsyn       False    1391520     545112     798600   \n",
       "\n",
       "      manual_valid category      old_segment_id      new_segment_id  \\\n",
       "0             True       TP  864691136311791677  864691135497743635   \n",
       "1             True       TP  864691136311791677  864691135497743635   \n",
       "2             True       TP  864691136311791677  864691135497743635   \n",
       "3             True       TP  864691136311791677  864691135497743635   \n",
       "4             True       TP  864691136311791677  864691135497743635   \n",
       "...            ...      ...                 ...                 ...   \n",
       "7454          True       FN  864691136311791677  864691135497743635   \n",
       "7455          True       FN  864691136311791677  864691135497743635   \n",
       "7456          True       FN  864691136311791677  864691135497743635   \n",
       "7457          True       FN  864691136311791677  864691135497743635   \n",
       "7458          True       FN  864691136311791677  864691135497743635   \n",
       "\n",
       "      euclidean_distance_to_nuclei  \n",
       "0                    611655.979662  \n",
       "1                    608971.709451  \n",
       "2                    603435.856913  \n",
       "3                    582923.562742  \n",
       "4                    590612.596412  \n",
       "...                            ...  \n",
       "7454                  55499.085974  \n",
       "7455                  57739.775407  \n",
       "7456                  58612.885955  \n",
       "7457                  60573.739525  \n",
       "7458                  63208.008100  \n",
       "\n",
       "[7459 rows x 11 columns]"
      ]
     },
     "execution_count": 11,
     "metadata": {},
     "output_type": "execute_result"
    }
   ],
   "source": [
    "validation_df"
   ]
  },
  {
   "cell_type": "markdown",
   "metadata": {},
   "source": [
    "# Processing the Neuron"
   ]
  },
  {
   "cell_type": "code",
   "execution_count": 14,
   "metadata": {},
   "outputs": [
    {
     "data": {
      "text/plain": [
       "array([583848])"
      ]
     },
     "execution_count": 14,
     "metadata": {},
     "output_type": "execute_result"
    }
   ],
   "source": [
    "ver = 0.08\n",
    "nucleus_ids,nucleus_centers = du.segment_to_nuclei(segment_id,\n",
    "                                                       nuclei_version=ver)\n",
    "nucleus_ids"
   ]
  },
  {
   "cell_type": "markdown",
   "metadata": {},
   "source": [
    "# Exploring the Better Crossover"
   ]
  },
  {
   "cell_type": "code",
   "execution_count": null,
   "metadata": {},
   "outputs": [],
   "source": [
    "pru.edges_to_create_and_delete_crossover #finds the edges to cut\n",
    "pru.crossover_elimination_limb_branch_dict # turns the edges information into limb branch dict elimination\n",
    "pru.filter_away_crossovers # filters away the limb branch dict"
   ]
  },
  {
   "cell_type": "code",
   "execution_count": 84,
   "metadata": {},
   "outputs": [
    {
     "ename": "NameError",
     "evalue": "name 'nviz' is not defined",
     "output_type": "error",
     "traceback": [
      "\u001b[0;31m---------------------------------------------------------------------------\u001b[0m",
      "\u001b[0;31mNameError\u001b[0m                                 Traceback (most recent call last)",
      "\u001b[0;32m<ipython-input-84-042b0b069ed2>\u001b[0m in \u001b[0;36m<module>\u001b[0;34m\u001b[0m\n\u001b[0;32m----> 1\u001b[0;31m \u001b[0mnviz\u001b[0m \u001b[0;34m=\u001b[0m \u001b[0mreload\u001b[0m\u001b[0;34m(\u001b[0m\u001b[0mnviz\u001b[0m\u001b[0;34m)\u001b[0m\u001b[0;34m\u001b[0m\u001b[0;34m\u001b[0m\u001b[0m\n\u001b[0m",
      "\u001b[0;31mNameError\u001b[0m: name 'nviz' is not defined"
     ]
    }
   ],
   "source": [
    "nviz = reload(nviz)"
   ]
  },
  {
   "cell_type": "code",
   "execution_count": 86,
   "metadata": {},
   "outputs": [
    {
     "name": "stdout",
     "output_type": "stream",
     "text": [
      "\n",
      " Working on visualization type: mesh\n",
      "\n",
      " Working on visualization type: skeleton\n"
     ]
    },
    {
     "data": {
      "application/vnd.jupyter.widget-view+json": {
       "model_id": "4d6b1d6e147c4c5e9969101c8fc66cc4",
       "version_major": 2,
       "version_minor": 0
      },
      "text/plain": [
       "VBox(children=(Figure(camera=PerspectiveCamera(fov=46.0, position=(0.0, 0.0, 2.0), projectionMatrix=(1.0, 0.0,…"
      ]
     },
     "metadata": {},
     "output_type": "display_data"
    }
   ],
   "source": [
    "nviz.plot_axon(neuron_obj_test)"
   ]
  },
  {
   "cell_type": "code",
   "execution_count": 90,
   "metadata": {},
   "outputs": [
    {
     "data": {
      "text/plain": [
       "(17, 3)"
      ]
     },
     "execution_count": 90,
     "metadata": {},
     "output_type": "execute_result"
    }
   ],
   "source": [
    "crossover_coordinates = nru.high_degree_branching_coordinates_on_limb(neuron_obj_test[1],\n",
    "                                                                      min_degree_to_find=4,\n",
    "                                                                         exactly_equal=True,\n",
    "                                                                         )\n",
    "crossover_coordinates.shape"
   ]
  },
  {
   "cell_type": "code",
   "execution_count": 91,
   "metadata": {},
   "outputs": [],
   "source": [
    "nviz.add_scatter_to_current_plot(scatters=[crossover_coordinates],\n",
    "                                scatters_colors=[\"red\"],\n",
    "                                 scatter_size=0.2\n",
    "                                )"
   ]
  },
  {
   "cell_type": "code",
   "execution_count": null,
   "metadata": {},
   "outputs": [],
   "source": []
  },
  {
   "cell_type": "code",
   "execution_count": null,
   "metadata": {},
   "outputs": [],
   "source": []
  },
  {
   "cell_type": "code",
   "execution_count": 82,
   "metadata": {},
   "outputs": [],
   "source": [
    "from copy import deepcopy\n",
    "neuron_obj_test = deepcopy(neuron_obj)"
   ]
  },
  {
   "cell_type": "code",
   "execution_count": 106,
   "metadata": {},
   "outputs": [
    {
     "name": "stdout",
     "output_type": "stream",
     "text": [
      "286: {'median_mesh_center': 58.41032418314019, 'no_spine_median_mesh_center': 58.41032418314019, 'no_bouton_median': 57.68264722043223}\n",
      "294: {'median_mesh_center': 74.93190555175075, 'no_spine_median_mesh_center': 74.93190555175075, 'no_bouton_median': 67.13004588931672}\n",
      "296: {'median_mesh_center': 56.592974459011906, 'no_spine_median_mesh_center': 56.592974459011906, 'no_bouton_median': 56.592974459011906}\n",
      "297: {'median_mesh_center': 96.59089438478281, 'no_spine_median_mesh_center': 96.59089438478281, 'no_bouton_median': 96.59089438478281}\n"
     ]
    }
   ],
   "source": [
    "branch_list = [286,294,296,297]\n",
    "for b in branch_list:\n",
    "    print(f\"{b}: {neuron_obj_test[1][b].width_new}\")"
   ]
  },
  {
   "cell_type": "code",
   "execution_count": 110,
   "metadata": {},
   "outputs": [
    {
     "name": "stdout",
     "output_type": "stream",
     "text": [
      "\n",
      " Working on visualization type: mesh\n",
      "\n",
      " Working on visualization type: skeleton\n"
     ]
    },
    {
     "data": {
      "application/vnd.jupyter.widget-view+json": {
       "model_id": "51dbbdce21954ba68bb59bc6d33227cd",
       "version_major": 2,
       "version_minor": 0
      },
      "text/plain": [
       "VBox(children=(Figure(camera=PerspectiveCamera(fov=46.0, position=(0.0, 0.0, 2.0), projectionMatrix=(1.0, 0.0,…"
      ]
     },
     "metadata": {},
     "output_type": "display_data"
    }
   ],
   "source": [
    "nviz.visualize_neuron(neuron_obj_test,\n",
    "                      limb_branch_dict=dict(L1=[286,294,296,297]),\n",
    "                      mesh_soma=False,\n",
    "                      skeleton_soma=False,\n",
    "                     mesh_color=dict(L1={286:\"red\",\n",
    "                                        294:\"green\",\n",
    "                                        296:\"aqua\",\n",
    "                                        297:\"purple\"}),\n",
    "                     skeleton_color=dict(L1={286:\"red\",\n",
    "                                        294:\"green\",\n",
    "                                        296:\"aqua\",\n",
    "                                        297:\"purple\"}))"
   ]
  },
  {
   "cell_type": "code",
   "execution_count": 111,
   "metadata": {
    "scrolled": true
   },
   "outputs": [
    {
     "name": "stdout",
     "output_type": "stream",
     "text": [
      "coordinate_branches = [22, 36, 37, 40]\n",
      "22 = red\n",
      "36 = aqua\n",
      "37 = purple\n",
      "40 = green\n"
     ]
    },
    {
     "data": {
      "application/vnd.jupyter.widget-view+json": {
       "model_id": "aa5b69d8779d4beb9df7f01da97f2b9d",
       "version_major": 2,
       "version_minor": 0
      },
      "text/plain": [
       "VBox(children=(Figure(camera=PerspectiveCamera(fov=46.0, position=(0.0, 0.0, 2.0), projectionMatrix=(1.0, 0.0,…"
      ]
     },
     "metadata": {},
     "output_type": "display_data"
    },
    {
     "name": "stdout",
     "output_type": "stream",
     "text": [
      "Angle between 22 and 36 = 165.51 \n",
      "Angle between 22 and 37 = 42.49 \n",
      "Angle between 22 and 40 = 12.46 \n",
      "Angle between 36 and 37 = 52.86 \n",
      "Angle between 36 and 40 = 23.96 \n",
      "Angle between 37 and 40 = 133.3 \n",
      "Final Matches = [[22, 37], [22, 40], [36, 40]]\n",
      "matched_branches_revised = [[22, 40]]\n",
      "Aligned Skeleton Parts\n"
     ]
    },
    {
     "data": {
      "application/vnd.jupyter.widget-view+json": {
       "model_id": "934e2db39960480189dec6acce10d5e6",
       "version_major": 2,
       "version_minor": 0
      },
      "text/plain": [
       "VBox(children=(Figure(camera=PerspectiveCamera(fov=46.0, position=(0.0, 0.0, 2.0), projectionMatrix=(1.0, 0.0,…"
      ]
     },
     "metadata": {},
     "output_type": "display_data"
    },
    {
     "data": {
      "application/vnd.jupyter.widget-view+json": {
       "model_id": "d145f2bddae7438b85384b8b9727d600",
       "version_major": 2,
       "version_minor": 0
      },
      "text/plain": [
       "VBox(children=(Figure(camera=PerspectiveCamera(fov=46.0, position=(0.0, 0.0, 2.0), projectionMatrix=(1.0, 0.0,…"
      ]
     },
     "metadata": {},
     "output_type": "display_data"
    },
    {
     "name": "stdout",
     "output_type": "stream",
     "text": [
      "Original graph\n"
     ]
    },
    {
     "data": {
      "image/png": "[encoded data removed]",
      "text/plain": [
       "<Figure size 640x480 with 1 Axes>"
      ]
     },
     "metadata": {},
     "output_type": "display_data"
    },
    {
     "name": "stdout",
     "output_type": "stream",
     "text": [
      "match_branches = [[22, 40]]\n",
      "edges_to_delete (resolve crossover) = [[22, 36], [22, 37], [36, 37], [36, 40], [37, 40]]\n",
      "edges_to_create (resolve crossover) = [[22, 40]]\n",
      "coordinate_branches = [52, 53, 54, 55]\n",
      "52 = red\n",
      "53 = aqua\n",
      "54 = purple\n",
      "55 = green\n"
     ]
    },
    {
     "data": {
      "application/vnd.jupyter.widget-view+json": {
       "model_id": "e913f7dc832843099bfbf11e8ee0a544",
       "version_major": 2,
       "version_minor": 0
      },
      "text/plain": [
       "VBox(children=(Figure(camera=PerspectiveCamera(fov=46.0, position=(0.0, 0.0, 2.0), projectionMatrix=(1.0, 0.0,…"
      ]
     },
     "metadata": {},
     "output_type": "display_data"
    },
    {
     "name": "stdout",
     "output_type": "stream",
     "text": [
      "Angle between 52 and 53 = 124.86 \n",
      "Angle between 52 and 54 = 44.37 \n",
      "Angle between 52 and 55 = 37.81 \n",
      "Angle between 53 and 54 = 10.79 \n",
      "Angle between 53 and 55 = 78.05 \n",
      "Angle between 54 and 55 = 111.19 \n",
      "Final Matches = [[52, 54], [52, 55], [53, 54]]\n",
      "matched_branches_revised = [[53, 54], [52, 55]]\n",
      "Aligned Skeleton Parts\n"
     ]
    },
    {
     "data": {
      "application/vnd.jupyter.widget-view+json": {
       "model_id": "05f988c4344c434cab3eb38daa7208bd",
       "version_major": 2,
       "version_minor": 0
      },
      "text/plain": [
       "VBox(children=(Figure(camera=PerspectiveCamera(fov=46.0, position=(0.0, 0.0, 2.0), projectionMatrix=(1.0, 0.0,…"
      ]
     },
     "metadata": {},
     "output_type": "display_data"
    },
    {
     "data": {
      "application/vnd.jupyter.widget-view+json": {
       "model_id": "e6186974190d4c5391add497f55c3ab7",
       "version_major": 2,
       "version_minor": 0
      },
      "text/plain": [
       "VBox(children=(Figure(camera=PerspectiveCamera(fov=46.0, position=(0.0, 0.0, 2.0), projectionMatrix=(1.0, 0.0,…"
      ]
     },
     "metadata": {},
     "output_type": "display_data"
    },
    {
     "data": {
      "application/vnd.jupyter.widget-view+json": {
       "model_id": "e49afa78ee3f418b9952eca74e8ac910",
       "version_major": 2,
       "version_minor": 0
      },
      "text/plain": [
       "VBox(children=(Figure(camera=PerspectiveCamera(fov=46.0, position=(0.0, 0.0, 2.0), projectionMatrix=(1.0, 0.0,…"
      ]
     },
     "metadata": {},
     "output_type": "display_data"
    },
    {
     "name": "stdout",
     "output_type": "stream",
     "text": [
      "Original graph\n"
     ]
    },
    {
     "data": {
      "image/png": "[encoded data removed]",
      "text/plain": [
       "<Figure size 640x480 with 1 Axes>"
      ]
     },
     "metadata": {},
     "output_type": "display_data"
    },
    {
     "name": "stdout",
     "output_type": "stream",
     "text": [
      "match_branches = [[53, 54], [52, 55]]\n",
      "edges_to_delete (resolve crossover) = [[52, 53], [52, 54], [53, 55], [54, 55]]\n",
      "edges_to_create (resolve crossover) = [[53, 54], [52, 55]]\n",
      "coordinate_branches = [74, 86, 95, 98]\n",
      "74 = red\n",
      "86 = aqua\n",
      "95 = purple\n",
      "98 = green\n"
     ]
    },
    {
     "data": {
      "application/vnd.jupyter.widget-view+json": {
       "model_id": "c1dad898a0ef46e5bc5e69e286bbe965",
       "version_major": 2,
       "version_minor": 0
      },
      "text/plain": [
       "VBox(children=(Figure(camera=PerspectiveCamera(fov=46.0, position=(0.0, 0.0, 2.0), projectionMatrix=(1.0, 0.0,…"
      ]
     },
     "metadata": {},
     "output_type": "display_data"
    },
    {
     "name": "stdout",
     "output_type": "stream",
     "text": [
      "Angle between 74 and 86 = 127.35 \n",
      "Angle between 74 and 95 = 63.22 \n",
      "Angle between 74 and 98 = 23.5 \n",
      "Angle between 86 and 95 = 112.04 \n",
      "Angle between 86 and 98 = 33.51 \n",
      "Angle between 95 and 98 = 93.36 \n",
      "Final Matches = [[74, 98], [86, 98]]\n",
      "matched_branches_revised = [[74, 98]]\n",
      "Aligned Skeleton Parts\n"
     ]
    },
    {
     "data": {
      "application/vnd.jupyter.widget-view+json": {
       "model_id": "123db2adcab6477eb564f38c4fa8f68d",
       "version_major": 2,
       "version_minor": 0
      },
      "text/plain": [
       "VBox(children=(Figure(camera=PerspectiveCamera(fov=46.0, position=(0.0, 0.0, 2.0), projectionMatrix=(1.0, 0.0,…"
      ]
     },
     "metadata": {},
     "output_type": "display_data"
    },
    {
     "data": {
      "application/vnd.jupyter.widget-view+json": {
       "model_id": "5cdfb6c735324df5ac2353d20832618c",
       "version_major": 2,
       "version_minor": 0
      },
      "text/plain": [
       "VBox(children=(Figure(camera=PerspectiveCamera(fov=46.0, position=(0.0, 0.0, 2.0), projectionMatrix=(1.0, 0.0,…"
      ]
     },
     "metadata": {},
     "output_type": "display_data"
    },
    {
     "name": "stdout",
     "output_type": "stream",
     "text": [
      "Original graph\n"
     ]
    },
    {
     "data": {
      "image/png": "[encoded data removed]",
      "text/plain": [
       "<Figure size 640x480 with 1 Axes>"
      ]
     },
     "metadata": {},
     "output_type": "display_data"
    },
    {
     "name": "stdout",
     "output_type": "stream",
     "text": [
      "match_branches = [[74, 98]]\n",
      "edges_to_delete (resolve crossover) = [[74, 86], [74, 95], [86, 95], [86, 98], [95, 98]]\n",
      "edges_to_create (resolve crossover) = [[74, 98]]\n",
      "coordinate_branches = [99, 107, 110, 111]\n",
      "99 = red\n",
      "107 = aqua\n",
      "110 = purple\n",
      "111 = green\n"
     ]
    },
    {
     "data": {
      "application/vnd.jupyter.widget-view+json": {
       "model_id": "14a9c65266be42a9bf4f4df226d74e97",
       "version_major": 2,
       "version_minor": 0
      },
      "text/plain": [
       "VBox(children=(Figure(camera=PerspectiveCamera(fov=46.0, position=(0.0, 0.0, 2.0), projectionMatrix=(1.0, 0.0,…"
      ]
     },
     "metadata": {},
     "output_type": "display_data"
    },
    {
     "name": "stdout",
     "output_type": "stream",
     "text": [
      "Angle between 99 and 107 = 107.19 \n",
      "Angle between 99 and 110 = 20.13 \n",
      "Angle between 99 and 111 = 77.01 \n",
      "Angle between 107 and 110 = 90.59 \n",
      "Angle between 107 and 111 = 20.2 \n",
      "Angle between 110 and 111 = 83.07 \n",
      "Final Matches = [[99, 110], [107, 111]]\n",
      "matched_branches_revised = [[99, 110], [107, 111]]\n",
      "Aligned Skeleton Parts\n"
     ]
    },
    {
     "data": {
      "application/vnd.jupyter.widget-view+json": {
       "model_id": "aed3d40d06044485a9815220a28db232",
       "version_major": 2,
       "version_minor": 0
      },
      "text/plain": [
       "VBox(children=(Figure(camera=PerspectiveCamera(fov=46.0, position=(0.0, 0.0, 2.0), projectionMatrix=(1.0, 0.0,…"
      ]
     },
     "metadata": {},
     "output_type": "display_data"
    },
    {
     "data": {
      "application/vnd.jupyter.widget-view+json": {
       "model_id": "a13fd2c68b5b4ffca208773570a5e7c9",
       "version_major": 2,
       "version_minor": 0
      },
      "text/plain": [
       "VBox(children=(Figure(camera=PerspectiveCamera(fov=46.0, position=(0.0, 0.0, 2.0), projectionMatrix=(1.0, 0.0,…"
      ]
     },
     "metadata": {},
     "output_type": "display_data"
    },
    {
     "data": {
      "application/vnd.jupyter.widget-view+json": {
       "model_id": "51368287465249fca75d65ad394392ee",
       "version_major": 2,
       "version_minor": 0
      },
      "text/plain": [
       "VBox(children=(Figure(camera=PerspectiveCamera(fov=46.0, position=(0.0, 0.0, 2.0), projectionMatrix=(1.0, 0.0,…"
      ]
     },
     "metadata": {},
     "output_type": "display_data"
    },
    {
     "name": "stdout",
     "output_type": "stream",
     "text": [
      "Original graph\n"
     ]
    },
    {
     "data": {
      "image/png": "[encoded data removed]",
      "text/plain": [
       "<Figure size 640x480 with 1 Axes>"
      ]
     },
     "metadata": {},
     "output_type": "display_data"
    },
    {
     "name": "stdout",
     "output_type": "stream",
     "text": [
      "match_branches = [[99, 110], [107, 111]]\n",
      "edges_to_delete (resolve crossover) = [[99, 107], [99, 111], [107, 110], [110, 111]]\n",
      "edges_to_create (resolve crossover) = [[99, 110], [107, 111]]\n",
      "coordinate_branches = [113, 114, 119, 121]\n",
      "113 = red\n",
      "114 = aqua\n",
      "119 = purple\n",
      "121 = green\n"
     ]
    },
    {
     "data": {
      "application/vnd.jupyter.widget-view+json": {
       "model_id": "91fba1e033fa4027bab17dd844c7e7a0",
       "version_major": 2,
       "version_minor": 0
      },
      "text/plain": [
       "VBox(children=(Figure(camera=PerspectiveCamera(fov=46.0, position=(0.0, 0.0, 2.0), projectionMatrix=(1.0, 0.0,…"
      ]
     },
     "metadata": {},
     "output_type": "display_data"
    },
    {
     "name": "stdout",
     "output_type": "stream",
     "text": [
      "Angle between 113 and 114 = 47.51 \n",
      "Angle between 113 and 119 = 3.82 \n",
      "Angle between 113 and 121 = 128.0 \n",
      "Angle between 114 and 119 = 132.29 \n",
      "Angle between 114 and 121 = 40.76 \n",
      "Angle between 119 and 121 = 48.99 \n",
      "Final Matches = [[113, 119], [114, 121]]\n",
      "matched_branches_revised = [[113, 119], [114, 121]]\n",
      "Aligned Skeleton Parts\n"
     ]
    },
    {
     "data": {
      "application/vnd.jupyter.widget-view+json": {
       "model_id": "53a68922bf684e1299717f43ca48a8b1",
       "version_major": 2,
       "version_minor": 0
      },
      "text/plain": [
       "VBox(children=(Figure(camera=PerspectiveCamera(fov=46.0, position=(0.0, 0.0, 2.0), projectionMatrix=(1.0, 0.0,…"
      ]
     },
     "metadata": {},
     "output_type": "display_data"
    },
    {
     "data": {
      "application/vnd.jupyter.widget-view+json": {
       "model_id": "b6f752a42eb941739ca4157cad4bfffa",
       "version_major": 2,
       "version_minor": 0
      },
      "text/plain": [
       "VBox(children=(Figure(camera=PerspectiveCamera(fov=46.0, position=(0.0, 0.0, 2.0), projectionMatrix=(1.0, 0.0,…"
      ]
     },
     "metadata": {},
     "output_type": "display_data"
    },
    {
     "data": {
      "application/vnd.jupyter.widget-view+json": {
       "model_id": "561e0849e00e4af3a2ee72d21581dfe1",
       "version_major": 2,
       "version_minor": 0
      },
      "text/plain": [
       "VBox(children=(Figure(camera=PerspectiveCamera(fov=46.0, position=(0.0, 0.0, 2.0), projectionMatrix=(1.0, 0.0,…"
      ]
     },
     "metadata": {},
     "output_type": "display_data"
    },
    {
     "name": "stdout",
     "output_type": "stream",
     "text": [
      "Original graph\n"
     ]
    },
    {
     "data": {
      "image/png": "[encoded data removed]",
      "text/plain": [
       "<Figure size 640x480 with 1 Axes>"
      ]
     },
     "metadata": {},
     "output_type": "display_data"
    },
    {
     "name": "stdout",
     "output_type": "stream",
     "text": [
      "match_branches = [[113, 119], [114, 121]]\n",
      "edges_to_delete (resolve crossover) = [[113, 114], [113, 121], [114, 119], [119, 121]]\n",
      "edges_to_create (resolve crossover) = [[113, 119], [114, 121]]\n",
      "coordinate_branches = [128, 132, 133, 134]\n",
      "128 = red\n",
      "132 = aqua\n",
      "133 = purple\n",
      "134 = green\n"
     ]
    },
    {
     "data": {
      "application/vnd.jupyter.widget-view+json": {
       "model_id": "44bf492353df4d79ae1699bb8384f776",
       "version_major": 2,
       "version_minor": 0
      },
      "text/plain": [
       "VBox(children=(Figure(camera=PerspectiveCamera(fov=46.0, position=(0.0, 0.0, 2.0), projectionMatrix=(1.0, 0.0,…"
      ]
     },
     "metadata": {},
     "output_type": "display_data"
    },
    {
     "name": "stdout",
     "output_type": "stream",
     "text": [
      "Angle between 128 and 132 = 101.76 \n",
      "Angle between 128 and 133 = 41.53 \n",
      "Angle between 128 and 134 = 10.55 \n",
      "Angle between 132 and 133 = 37.32 \n",
      "Angle between 132 and 134 = 80.59 \n",
      "Angle between 133 and 134 = 136.71 \n",
      "Final Matches = [[128, 133], [128, 134], [132, 133]]\n",
      "matched_branches_revised = [[128, 134], [132, 133]]\n",
      "Aligned Skeleton Parts\n"
     ]
    },
    {
     "data": {
      "application/vnd.jupyter.widget-view+json": {
       "model_id": "e3e5b8959ac746c3afe96964d1c2e247",
       "version_major": 2,
       "version_minor": 0
      },
      "text/plain": [
       "VBox(children=(Figure(camera=PerspectiveCamera(fov=46.0, position=(0.0, 0.0, 2.0), projectionMatrix=(1.0, 0.0,…"
      ]
     },
     "metadata": {},
     "output_type": "display_data"
    },
    {
     "data": {
      "application/vnd.jupyter.widget-view+json": {
       "model_id": "b638ded7a3684aad9dff2ccb38de4a80",
       "version_major": 2,
       "version_minor": 0
      },
      "text/plain": [
       "VBox(children=(Figure(camera=PerspectiveCamera(fov=46.0, position=(0.0, 0.0, 2.0), projectionMatrix=(1.0, 0.0,…"
      ]
     },
     "metadata": {},
     "output_type": "display_data"
    },
    {
     "data": {
      "application/vnd.jupyter.widget-view+json": {
       "model_id": "73a61cb76fb944478b16c0aa9b7e99a1",
       "version_major": 2,
       "version_minor": 0
      },
      "text/plain": [
       "VBox(children=(Figure(camera=PerspectiveCamera(fov=46.0, position=(0.0, 0.0, 2.0), projectionMatrix=(1.0, 0.0,…"
      ]
     },
     "metadata": {},
     "output_type": "display_data"
    },
    {
     "name": "stdout",
     "output_type": "stream",
     "text": [
      "Original graph\n"
     ]
    },
    {
     "data": {
      "image/png": "[encoded data removed]",
      "text/plain": [
       "<Figure size 640x480 with 1 Axes>"
      ]
     },
     "metadata": {},
     "output_type": "display_data"
    },
    {
     "name": "stdout",
     "output_type": "stream",
     "text": [
      "match_branches = [[128, 134], [132, 133]]\n",
      "edges_to_delete (resolve crossover) = [[128, 132], [128, 133], [132, 134], [133, 134]]\n",
      "edges_to_create (resolve crossover) = [[128, 134], [132, 133]]\n",
      "coordinate_branches = [116, 130, 140, 142]\n",
      "116 = red\n",
      "130 = aqua\n",
      "140 = purple\n",
      "142 = green\n"
     ]
    },
    {
     "data": {
      "application/vnd.jupyter.widget-view+json": {
       "model_id": "08add367e6ad4733966601265b1e566c",
       "version_major": 2,
       "version_minor": 0
      },
      "text/plain": [
       "VBox(children=(Figure(camera=PerspectiveCamera(fov=46.0, position=(0.0, 0.0, 2.0), projectionMatrix=(1.0, 0.0,…"
      ]
     },
     "metadata": {},
     "output_type": "display_data"
    },
    {
     "name": "stdout",
     "output_type": "stream",
     "text": [
      "Angle between 116 and 130 = 18.51 \n",
      "Angle between 116 and 140 = 36.94 \n",
      "Angle between 116 and 142 = 146.17 \n",
      "Angle between 130 and 140 = 149.29 \n",
      "Angle between 130 and 142 = 51.45 \n",
      "Angle between 140 and 142 = 53.04 \n",
      "Final Matches = [[116, 130], [116, 140]]\n",
      "matched_branches_revised = [[116, 130]]\n",
      "Aligned Skeleton Parts\n"
     ]
    },
    {
     "data": {
      "application/vnd.jupyter.widget-view+json": {
       "model_id": "e80e25dd53704058a60b0d74cc19b586",
       "version_major": 2,
       "version_minor": 0
      },
      "text/plain": [
       "VBox(children=(Figure(camera=PerspectiveCamera(fov=46.0, position=(0.0, 0.0, 2.0), projectionMatrix=(1.0, 0.0,…"
      ]
     },
     "metadata": {},
     "output_type": "display_data"
    },
    {
     "data": {
      "application/vnd.jupyter.widget-view+json": {
       "model_id": "4c51bf56471949ca90f3602be02107ba",
       "version_major": 2,
       "version_minor": 0
      },
      "text/plain": [
       "VBox(children=(Figure(camera=PerspectiveCamera(fov=46.0, position=(0.0, 0.0, 2.0), projectionMatrix=(1.0, 0.0,…"
      ]
     },
     "metadata": {},
     "output_type": "display_data"
    },
    {
     "name": "stdout",
     "output_type": "stream",
     "text": [
      "Original graph\n"
     ]
    },
    {
     "data": {
      "image/png": "[encoded data removed]",
      "text/plain": [
       "<Figure size 640x480 with 1 Axes>"
      ]
     },
     "metadata": {},
     "output_type": "display_data"
    },
    {
     "name": "stdout",
     "output_type": "stream",
     "text": [
      "match_branches = [[116, 130]]\n",
      "edges_to_delete (resolve crossover) = [[116, 140], [116, 142], [130, 140], [130, 142], [140, 142]]\n",
      "edges_to_create (resolve crossover) = [[116, 130]]\n",
      "coordinate_branches = [149, 158, 160, 162]\n",
      "149 = red\n",
      "158 = aqua\n",
      "160 = purple\n",
      "162 = green\n"
     ]
    },
    {
     "data": {
      "application/vnd.jupyter.widget-view+json": {
       "model_id": "7fad450036914f0eac3a2e8506b17947",
       "version_major": 2,
       "version_minor": 0
      },
      "text/plain": [
       "VBox(children=(Figure(camera=PerspectiveCamera(fov=46.0, position=(0.0, 0.0, 2.0), projectionMatrix=(1.0, 0.0,…"
      ]
     },
     "metadata": {},
     "output_type": "display_data"
    },
    {
     "name": "stdout",
     "output_type": "stream",
     "text": [
      "Angle between 149 and 158 = 47.67 \n",
      "Angle between 149 and 160 = 139.5 \n",
      "Angle between 149 and 162 = 54.68 \n",
      "Angle between 158 and 160 = 11.75 \n",
      "Angle between 158 and 162 = 123.41 \n",
      "Angle between 160 and 162 = 45.89 \n",
      "Final Matches = [[158, 160]]\n",
      "matched_branches_revised = [[158, 160]]\n",
      "Aligned Skeleton Parts\n"
     ]
    },
    {
     "data": {
      "application/vnd.jupyter.widget-view+json": {
       "model_id": "b49db960f16a4b6cab93ab1ae5dc33e7",
       "version_major": 2,
       "version_minor": 0
      },
      "text/plain": [
       "VBox(children=(Figure(camera=PerspectiveCamera(fov=46.0, position=(0.0, 0.0, 2.0), projectionMatrix=(1.0, 0.0,…"
      ]
     },
     "metadata": {},
     "output_type": "display_data"
    },
    {
     "data": {
      "application/vnd.jupyter.widget-view+json": {
       "model_id": "927065d9e40a43548df69c1ebae5637e",
       "version_major": 2,
       "version_minor": 0
      },
      "text/plain": [
       "VBox(children=(Figure(camera=PerspectiveCamera(fov=46.0, position=(0.0, 0.0, 2.0), projectionMatrix=(1.0, 0.0,…"
      ]
     },
     "metadata": {},
     "output_type": "display_data"
    },
    {
     "name": "stdout",
     "output_type": "stream",
     "text": [
      "Original graph\n"
     ]
    },
    {
     "data": {
      "image/png": "[encoded data removed]",
      "text/plain": [
       "<Figure size 640x480 with 1 Axes>"
      ]
     },
     "metadata": {},
     "output_type": "display_data"
    },
    {
     "name": "stdout",
     "output_type": "stream",
     "text": [
      "match_branches = [[158, 160]]\n",
      "edges_to_delete (resolve crossover) = [[149, 158], [149, 160], [149, 162], [158, 162], [160, 162]]\n",
      "edges_to_create (resolve crossover) = [[158, 160]]\n",
      "coordinate_branches = [178, 189, 207, 208]\n",
      "178 = red\n",
      "189 = aqua\n",
      "207 = purple\n",
      "208 = green\n"
     ]
    },
    {
     "data": {
      "application/vnd.jupyter.widget-view+json": {
       "model_id": "10b75e19c08748fba2cba901711ba1ee",
       "version_major": 2,
       "version_minor": 0
      },
      "text/plain": [
       "VBox(children=(Figure(camera=PerspectiveCamera(fov=46.0, position=(0.0, 0.0, 2.0), projectionMatrix=(1.0, 0.0,…"
      ]
     },
     "metadata": {},
     "output_type": "display_data"
    },
    {
     "name": "stdout",
     "output_type": "stream",
     "text": [
      "Angle between 178 and 189 = 133.32 \n",
      "Angle between 178 and 207 = 113.58 \n",
      "Angle between 178 and 208 = 31.43 \n",
      "Angle between 189 and 207 = 87.12 \n",
      "Angle between 189 and 208 = 61.82 \n",
      "Angle between 207 and 208 = 35.99 \n",
      "Final Matches = [[178, 208], [207, 208]]\n",
      "matched_branches_revised = [[178, 208]]\n",
      "Aligned Skeleton Parts\n"
     ]
    },
    {
     "data": {
      "application/vnd.jupyter.widget-view+json": {
       "model_id": "e59e383756c24f3db99f7453eaea2262",
       "version_major": 2,
       "version_minor": 0
      },
      "text/plain": [
       "VBox(children=(Figure(camera=PerspectiveCamera(fov=46.0, position=(0.0, 0.0, 2.0), projectionMatrix=(1.0, 0.0,…"
      ]
     },
     "metadata": {},
     "output_type": "display_data"
    },
    {
     "data": {
      "application/vnd.jupyter.widget-view+json": {
       "model_id": "43ead0a7890d49509a7563172dcc1ddb",
       "version_major": 2,
       "version_minor": 0
      },
      "text/plain": [
       "VBox(children=(Figure(camera=PerspectiveCamera(fov=46.0, position=(0.0, 0.0, 2.0), projectionMatrix=(1.0, 0.0,…"
      ]
     },
     "metadata": {},
     "output_type": "display_data"
    },
    {
     "name": "stdout",
     "output_type": "stream",
     "text": [
      "Original graph\n"
     ]
    },
    {
     "data": {
      "image/png": "[encoded data removed]",
      "text/plain": [
       "<Figure size 640x480 with 1 Axes>"
      ]
     },
     "metadata": {},
     "output_type": "display_data"
    },
    {
     "name": "stdout",
     "output_type": "stream",
     "text": [
      "match_branches = [[178, 208]]\n",
      "edges_to_delete (resolve crossover) = [[178, 189], [178, 207], [189, 207], [189, 208], [207, 208]]\n",
      "edges_to_create (resolve crossover) = [[178, 208]]\n",
      "coordinate_branches = [184, 210, 213, 218]\n",
      "184 = red\n",
      "210 = aqua\n",
      "213 = purple\n",
      "218 = green\n"
     ]
    },
    {
     "data": {
      "application/vnd.jupyter.widget-view+json": {
       "model_id": "d5cc98f3a6744bc1bdf97cad3b257618",
       "version_major": 2,
       "version_minor": 0
      },
      "text/plain": [
       "VBox(children=(Figure(camera=PerspectiveCamera(fov=46.0, position=(0.0, 0.0, 2.0), projectionMatrix=(1.0, 0.0,…"
      ]
     },
     "metadata": {},
     "output_type": "display_data"
    },
    {
     "name": "stdout",
     "output_type": "stream",
     "text": [
      "Angle between 184 and 210 = 79.92 \n",
      "Angle between 184 and 213 = 32.75 \n",
      "Angle between 184 and 218 = 20.64 \n",
      "Angle between 210 and 213 = 126.5 \n",
      "Angle between 210 and 218 = 120.52 \n",
      "Angle between 213 and 218 = 163.62 \n",
      "Final Matches = [[184, 213], [184, 218]]\n",
      "matched_branches_revised = [[184, 218]]\n",
      "Aligned Skeleton Parts\n"
     ]
    },
    {
     "data": {
      "application/vnd.jupyter.widget-view+json": {
       "model_id": "22da3af506fa464b9b65628fe7e24495",
       "version_major": 2,
       "version_minor": 0
      },
      "text/plain": [
       "VBox(children=(Figure(camera=PerspectiveCamera(fov=46.0, position=(0.0, 0.0, 2.0), projectionMatrix=(1.0, 0.0,…"
      ]
     },
     "metadata": {},
     "output_type": "display_data"
    },
    {
     "data": {
      "application/vnd.jupyter.widget-view+json": {
       "model_id": "94db42ff10014d9284e1cf8467a846dd",
       "version_major": 2,
       "version_minor": 0
      },
      "text/plain": [
       "VBox(children=(Figure(camera=PerspectiveCamera(fov=46.0, position=(0.0, 0.0, 2.0), projectionMatrix=(1.0, 0.0,…"
      ]
     },
     "metadata": {},
     "output_type": "display_data"
    },
    {
     "name": "stdout",
     "output_type": "stream",
     "text": [
      "Original graph\n"
     ]
    },
    {
     "data": {
      "image/png": "[encoded data removed]",
      "text/plain": [
       "<Figure size 640x480 with 1 Axes>"
      ]
     },
     "metadata": {},
     "output_type": "display_data"
    },
    {
     "name": "stdout",
     "output_type": "stream",
     "text": [
      "match_branches = [[184, 218]]\n",
      "edges_to_delete (resolve crossover) = [[184, 210], [184, 213], [210, 213], [210, 218], [213, 218]]\n",
      "edges_to_create (resolve crossover) = [[184, 218]]\n",
      "coordinate_branches = [206, 208, 216, 217]\n",
      "206 = red\n",
      "208 = aqua\n",
      "216 = purple\n",
      "217 = green\n"
     ]
    },
    {
     "data": {
      "application/vnd.jupyter.widget-view+json": {
       "model_id": "dacfcd0ed2a2454ea215d0be81ad5d76",
       "version_major": 2,
       "version_minor": 0
      },
      "text/plain": [
       "VBox(children=(Figure(camera=PerspectiveCamera(fov=46.0, position=(0.0, 0.0, 2.0), projectionMatrix=(1.0, 0.0,…"
      ]
     },
     "metadata": {},
     "output_type": "display_data"
    },
    {
     "name": "stdout",
     "output_type": "stream",
     "text": [
      "Angle between 206 and 208 = 150.32 \n",
      "Angle between 206 and 216 = 52.01 \n",
      "Angle between 206 and 217 = 24.0 \n",
      "Angle between 208 and 216 = 23.3 \n",
      "Angle between 208 and 217 = 52.48 \n",
      "Angle between 216 and 217 = 104.48 \n",
      "Final Matches = [[206, 217], [208, 216]]\n",
      "matched_branches_revised = [[208, 216], [206, 217]]\n",
      "Aligned Skeleton Parts\n"
     ]
    },
    {
     "data": {
      "application/vnd.jupyter.widget-view+json": {
       "model_id": "0794a76e7bba4b85af457b26a8b1d0de",
       "version_major": 2,
       "version_minor": 0
      },
      "text/plain": [
       "VBox(children=(Figure(camera=PerspectiveCamera(fov=46.0, position=(0.0, 0.0, 2.0), projectionMatrix=(1.0, 0.0,…"
      ]
     },
     "metadata": {},
     "output_type": "display_data"
    },
    {
     "data": {
      "application/vnd.jupyter.widget-view+json": {
       "model_id": "527a055c8d854d3eb35f8995badcad36",
       "version_major": 2,
       "version_minor": 0
      },
      "text/plain": [
       "VBox(children=(Figure(camera=PerspectiveCamera(fov=46.0, position=(0.0, 0.0, 2.0), projectionMatrix=(1.0, 0.0,…"
      ]
     },
     "metadata": {},
     "output_type": "display_data"
    },
    {
     "data": {
      "application/vnd.jupyter.widget-view+json": {
       "model_id": "e8c99e4a6fc34a88bb516be2ca978ec5",
       "version_major": 2,
       "version_minor": 0
      },
      "text/plain": [
       "VBox(children=(Figure(camera=PerspectiveCamera(fov=46.0, position=(0.0, 0.0, 2.0), projectionMatrix=(1.0, 0.0,…"
      ]
     },
     "metadata": {},
     "output_type": "display_data"
    },
    {
     "name": "stdout",
     "output_type": "stream",
     "text": [
      "Original graph\n"
     ]
    },
    {
     "data": {
      "image/png": "[encoded data removed]",
      "text/plain": [
       "<Figure size 640x480 with 1 Axes>"
      ]
     },
     "metadata": {},
     "output_type": "display_data"
    },
    {
     "name": "stdout",
     "output_type": "stream",
     "text": [
      "match_branches = [[208, 216], [206, 217]]\n",
      "edges_to_delete (resolve crossover) = [[206, 208], [206, 216], [208, 217], [216, 217]]\n",
      "edges_to_create (resolve crossover) = [[208, 216], [206, 217]]\n",
      "coordinate_branches = [207, 215, 225, 226]\n",
      "207 = red\n",
      "215 = aqua\n",
      "225 = purple\n",
      "226 = green\n"
     ]
    },
    {
     "data": {
      "application/vnd.jupyter.widget-view+json": {
       "model_id": "2b36a12c00ac43bebf837650208eb852",
       "version_major": 2,
       "version_minor": 0
      },
      "text/plain": [
       "VBox(children=(Figure(camera=PerspectiveCamera(fov=46.0, position=(0.0, 0.0, 2.0), projectionMatrix=(1.0, 0.0,…"
      ]
     },
     "metadata": {},
     "output_type": "display_data"
    },
    {
     "name": "stdout",
     "output_type": "stream",
     "text": [
      "Angle between 207 and 215 = 75.96 \n",
      "Angle between 207 and 225 = 13.44 \n",
      "Angle between 207 and 226 = 108.97 \n",
      "Angle between 215 and 225 = 117.38 \n",
      "Angle between 215 and 226 = 15.58 \n",
      "Angle between 225 and 226 = 58.67 \n",
      "Final Matches = [[207, 225], [215, 226]]\n",
      "matched_branches_revised = [[207, 225], [215, 226]]\n",
      "Aligned Skeleton Parts\n"
     ]
    },
    {
     "data": {
      "application/vnd.jupyter.widget-view+json": {
       "model_id": "dc4a8e21d0384f4f809f86b20144c427",
       "version_major": 2,
       "version_minor": 0
      },
      "text/plain": [
       "VBox(children=(Figure(camera=PerspectiveCamera(fov=46.0, position=(0.0, 0.0, 2.0), projectionMatrix=(1.0, 0.0,…"
      ]
     },
     "metadata": {},
     "output_type": "display_data"
    },
    {
     "data": {
      "application/vnd.jupyter.widget-view+json": {
       "model_id": "0adeb2be043e4ddc99fd14c5b52395db",
       "version_major": 2,
       "version_minor": 0
      },
      "text/plain": [
       "VBox(children=(Figure(camera=PerspectiveCamera(fov=46.0, position=(0.0, 0.0, 2.0), projectionMatrix=(1.0, 0.0,…"
      ]
     },
     "metadata": {},
     "output_type": "display_data"
    },
    {
     "data": {
      "application/vnd.jupyter.widget-view+json": {
       "model_id": "cf235040390a49e091df6f951338a109",
       "version_major": 2,
       "version_minor": 0
      },
      "text/plain": [
       "VBox(children=(Figure(camera=PerspectiveCamera(fov=46.0, position=(0.0, 0.0, 2.0), projectionMatrix=(1.0, 0.0,…"
      ]
     },
     "metadata": {},
     "output_type": "display_data"
    },
    {
     "name": "stdout",
     "output_type": "stream",
     "text": [
      "Original graph\n"
     ]
    },
    {
     "data": {
      "image/png": "[encoded data removed]",
      "text/plain": [
       "<Figure size 640x480 with 1 Axes>"
      ]
     },
     "metadata": {},
     "output_type": "display_data"
    },
    {
     "name": "stdout",
     "output_type": "stream",
     "text": [
      "match_branches = [[207, 225], [215, 226]]\n",
      "edges_to_delete (resolve crossover) = [[207, 215], [207, 226], [215, 225], [225, 226]]\n",
      "edges_to_create (resolve crossover) = [[207, 225], [215, 226]]\n",
      "coordinate_branches = [219, 224, 229, 230]\n",
      "219 = red\n",
      "224 = aqua\n",
      "229 = purple\n",
      "230 = green\n"
     ]
    },
    {
     "data": {
      "application/vnd.jupyter.widget-view+json": {
       "model_id": "d5bf3460c96541df92aed196ff6c9322",
       "version_major": 2,
       "version_minor": 0
      },
      "text/plain": [
       "VBox(children=(Figure(camera=PerspectiveCamera(fov=46.0, position=(0.0, 0.0, 2.0), projectionMatrix=(1.0, 0.0,…"
      ]
     },
     "metadata": {},
     "output_type": "display_data"
    },
    {
     "name": "stdout",
     "output_type": "stream",
     "text": [
      "Angle between 219 and 224 = 48.67 \n",
      "Angle between 219 and 229 = 8.94 \n",
      "Angle between 219 and 230 = 92.98 \n",
      "Angle between 224 and 229 = 133.63 \n",
      "Angle between 224 and 230 = 43.58 \n",
      "Angle between 229 and 230 = 87.71 \n",
      "Final Matches = [[219, 229], [224, 230]]\n",
      "matched_branches_revised = [[219, 229], [224, 230]]\n",
      "Aligned Skeleton Parts\n"
     ]
    },
    {
     "data": {
      "application/vnd.jupyter.widget-view+json": {
       "model_id": "2bc95226acfb4d0ebd15fd932924a39e",
       "version_major": 2,
       "version_minor": 0
      },
      "text/plain": [
       "VBox(children=(Figure(camera=PerspectiveCamera(fov=46.0, position=(0.0, 0.0, 2.0), projectionMatrix=(1.0, 0.0,…"
      ]
     },
     "metadata": {},
     "output_type": "display_data"
    },
    {
     "data": {
      "application/vnd.jupyter.widget-view+json": {
       "model_id": "1d104aee3876481ebe0245afa410f092",
       "version_major": 2,
       "version_minor": 0
      },
      "text/plain": [
       "VBox(children=(Figure(camera=PerspectiveCamera(fov=46.0, position=(0.0, 0.0, 2.0), projectionMatrix=(1.0, 0.0,…"
      ]
     },
     "metadata": {},
     "output_type": "display_data"
    },
    {
     "data": {
      "application/vnd.jupyter.widget-view+json": {
       "model_id": "c8be8a442b9345979916f839e77ef27b",
       "version_major": 2,
       "version_minor": 0
      },
      "text/plain": [
       "VBox(children=(Figure(camera=PerspectiveCamera(fov=46.0, position=(0.0, 0.0, 2.0), projectionMatrix=(1.0, 0.0,…"
      ]
     },
     "metadata": {},
     "output_type": "display_data"
    },
    {
     "name": "stdout",
     "output_type": "stream",
     "text": [
      "Original graph\n"
     ]
    },
    {
     "data": {
      "image/png": "[encoded data removed]",
      "text/plain": [
       "<Figure size 640x480 with 1 Axes>"
      ]
     },
     "metadata": {},
     "output_type": "display_data"
    },
    {
     "name": "stdout",
     "output_type": "stream",
     "text": [
      "match_branches = [[219, 229], [224, 230]]\n",
      "edges_to_delete (resolve crossover) = [[219, 224], [219, 230], [224, 229], [229, 230]]\n",
      "edges_to_create (resolve crossover) = [[219, 229], [224, 230]]\n",
      "coordinate_branches = [119, 259, 262, 263]\n",
      "119 = red\n",
      "259 = aqua\n",
      "262 = purple\n",
      "263 = green\n"
     ]
    },
    {
     "data": {
      "application/vnd.jupyter.widget-view+json": {
       "model_id": "766b19cafad844a6ac3b9a9f6cdd25a0",
       "version_major": 2,
       "version_minor": 0
      },
      "text/plain": [
       "VBox(children=(Figure(camera=PerspectiveCamera(fov=46.0, position=(0.0, 0.0, 2.0), projectionMatrix=(1.0, 0.0,…"
      ]
     },
     "metadata": {},
     "output_type": "display_data"
    },
    {
     "name": "stdout",
     "output_type": "stream",
     "text": [
      "Angle between 119 and 259 = 22.18 \n",
      "Angle between 119 and 262 = 91.09 \n",
      "Angle between 119 and 263 = 37.41 \n",
      "Angle between 259 and 262 = 68.51 \n",
      "Angle between 259 and 263 = 120.92 \n",
      "Angle between 262 and 263 = 125.93 \n",
      "Final Matches = [[119, 259], [119, 263]]\n",
      "matched_branches_revised = [[119, 259]]\n",
      "Aligned Skeleton Parts\n"
     ]
    },
    {
     "data": {
      "application/vnd.jupyter.widget-view+json": {
       "model_id": "9e32cd10c68249069b480a3380cc9c99",
       "version_major": 2,
       "version_minor": 0
      },
      "text/plain": [
       "VBox(children=(Figure(camera=PerspectiveCamera(fov=46.0, position=(0.0, 0.0, 2.0), projectionMatrix=(1.0, 0.0,…"
      ]
     },
     "metadata": {},
     "output_type": "display_data"
    },
    {
     "data": {
      "application/vnd.jupyter.widget-view+json": {
       "model_id": "3981455c3a614f729a1fd019036b9850",
       "version_major": 2,
       "version_minor": 0
      },
      "text/plain": [
       "VBox(children=(Figure(camera=PerspectiveCamera(fov=46.0, position=(0.0, 0.0, 2.0), projectionMatrix=(1.0, 0.0,…"
      ]
     },
     "metadata": {},
     "output_type": "display_data"
    },
    {
     "name": "stdout",
     "output_type": "stream",
     "text": [
      "Original graph\n"
     ]
    },
    {
     "data": {
      "image/png": "[encoded data removed]",
      "text/plain": [
       "<Figure size 640x480 with 1 Axes>"
      ]
     },
     "metadata": {},
     "output_type": "display_data"
    },
    {
     "name": "stdout",
     "output_type": "stream",
     "text": [
      "match_branches = [[119, 259]]\n",
      "edges_to_delete (resolve crossover) = [[119, 262], [119, 263], [259, 262], [259, 263], [262, 263]]\n",
      "edges_to_create (resolve crossover) = [[119, 259]]\n",
      "coordinate_branches = [271, 274, 275, 276]\n",
      "271 = red\n",
      "274 = aqua\n",
      "275 = purple\n",
      "276 = green\n"
     ]
    },
    {
     "data": {
      "application/vnd.jupyter.widget-view+json": {
       "model_id": "ba75fb86c2124d99ae929fc5c952f8b6",
       "version_major": 2,
       "version_minor": 0
      },
      "text/plain": [
       "VBox(children=(Figure(camera=PerspectiveCamera(fov=46.0, position=(0.0, 0.0, 2.0), projectionMatrix=(1.0, 0.0,…"
      ]
     },
     "metadata": {},
     "output_type": "display_data"
    },
    {
     "name": "stdout",
     "output_type": "stream",
     "text": [
      "Angle between 271 and 274 = 99.44 \n",
      "Angle between 271 and 275 = 110.58 \n",
      "Angle between 271 and 276 = 23.24 \n",
      "Angle between 274 and 275 = 36.13 \n",
      "Angle between 274 and 276 = 94.57 \n",
      "Angle between 275 and 276 = 50.81 \n",
      "Final Matches = [[271, 276], [274, 275]]\n",
      "matched_branches_revised = [[271, 276], [274, 275]]\n",
      "Aligned Skeleton Parts\n"
     ]
    },
    {
     "data": {
      "application/vnd.jupyter.widget-view+json": {
       "model_id": "49672306c96a42d69516575a3582bd53",
       "version_major": 2,
       "version_minor": 0
      },
      "text/plain": [
       "VBox(children=(Figure(camera=PerspectiveCamera(fov=46.0, position=(0.0, 0.0, 2.0), projectionMatrix=(1.0, 0.0,…"
      ]
     },
     "metadata": {},
     "output_type": "display_data"
    },
    {
     "data": {
      "application/vnd.jupyter.widget-view+json": {
       "model_id": "36888ecabd1d4afc827edd2bd77b2ed5",
       "version_major": 2,
       "version_minor": 0
      },
      "text/plain": [
       "VBox(children=(Figure(camera=PerspectiveCamera(fov=46.0, position=(0.0, 0.0, 2.0), projectionMatrix=(1.0, 0.0,…"
      ]
     },
     "metadata": {},
     "output_type": "display_data"
    },
    {
     "data": {
      "application/vnd.jupyter.widget-view+json": {
       "model_id": "18bb2df7469e49e1982586a8fd70782c",
       "version_major": 2,
       "version_minor": 0
      },
      "text/plain": [
       "VBox(children=(Figure(camera=PerspectiveCamera(fov=46.0, position=(0.0, 0.0, 2.0), projectionMatrix=(1.0, 0.0,…"
      ]
     },
     "metadata": {},
     "output_type": "display_data"
    },
    {
     "name": "stdout",
     "output_type": "stream",
     "text": [
      "Original graph\n"
     ]
    },
    {
     "data": {
      "image/png": "[encoded data removed]",
      "text/plain": [
       "<Figure size 640x480 with 1 Axes>"
      ]
     },
     "metadata": {},
     "output_type": "display_data"
    },
    {
     "name": "stdout",
     "output_type": "stream",
     "text": [
      "match_branches = [[271, 276], [274, 275]]\n",
      "edges_to_delete (resolve crossover) = [[271, 274], [271, 275], [274, 276], [275, 276]]\n",
      "edges_to_create (resolve crossover) = [[271, 276], [274, 275]]\n",
      "coordinate_branches = [277, 279, 281, 282]\n",
      "277 = red\n",
      "279 = aqua\n",
      "281 = purple\n",
      "282 = green\n"
     ]
    },
    {
     "data": {
      "application/vnd.jupyter.widget-view+json": {
       "model_id": "256a4b22b025495ba95626a0dc1b9786",
       "version_major": 2,
       "version_minor": 0
      },
      "text/plain": [
       "VBox(children=(Figure(camera=PerspectiveCamera(fov=46.0, position=(0.0, 0.0, 2.0), projectionMatrix=(1.0, 0.0,…"
      ]
     },
     "metadata": {},
     "output_type": "display_data"
    },
    {
     "name": "stdout",
     "output_type": "stream",
     "text": [
      "Angle between 277 and 279 = 28.67 \n",
      "Angle between 277 and 281 = 99.13 \n",
      "Angle between 277 and 282 = 65.17 \n",
      "Angle between 279 and 281 = 66.58 \n",
      "Angle between 279 and 282 = 110.19 \n",
      "Angle between 281 and 282 = 37.75 \n",
      "Final Matches = [[277, 279], [281, 282]]\n",
      "matched_branches_revised = [[277, 279], [281, 282]]\n",
      "Aligned Skeleton Parts\n"
     ]
    },
    {
     "data": {
      "application/vnd.jupyter.widget-view+json": {
       "model_id": "1a0bbb6903014441aef9f39c57ffd586",
       "version_major": 2,
       "version_minor": 0
      },
      "text/plain": [
       "VBox(children=(Figure(camera=PerspectiveCamera(fov=46.0, position=(0.0, 0.0, 2.0), projectionMatrix=(1.0, 0.0,…"
      ]
     },
     "metadata": {},
     "output_type": "display_data"
    },
    {
     "data": {
      "application/vnd.jupyter.widget-view+json": {
       "model_id": "2b62b3e2e8a84f6bb5b383cd24c3a5af",
       "version_major": 2,
       "version_minor": 0
      },
      "text/plain": [
       "VBox(children=(Figure(camera=PerspectiveCamera(fov=46.0, position=(0.0, 0.0, 2.0), projectionMatrix=(1.0, 0.0,…"
      ]
     },
     "metadata": {},
     "output_type": "display_data"
    },
    {
     "data": {
      "application/vnd.jupyter.widget-view+json": {
       "model_id": "23272f48f3b544d5bd16304bedfc8e4c",
       "version_major": 2,
       "version_minor": 0
      },
      "text/plain": [
       "VBox(children=(Figure(camera=PerspectiveCamera(fov=46.0, position=(0.0, 0.0, 2.0), projectionMatrix=(1.0, 0.0,…"
      ]
     },
     "metadata": {},
     "output_type": "display_data"
    },
    {
     "name": "stdout",
     "output_type": "stream",
     "text": [
      "Original graph\n"
     ]
    },
    {
     "data": {
      "image/png": "[encoded data removed]",
      "text/plain": [
       "<Figure size 640x480 with 1 Axes>"
      ]
     },
     "metadata": {},
     "output_type": "display_data"
    },
    {
     "name": "stdout",
     "output_type": "stream",
     "text": [
      "match_branches = [[277, 279], [281, 282]]\n",
      "edges_to_delete (resolve crossover) = [[277, 281], [277, 282], [279, 281], [279, 282]]\n",
      "edges_to_create (resolve crossover) = [[277, 279], [281, 282]]\n",
      "coordinate_branches = [286, 294, 296, 297]\n",
      "286 = red\n",
      "294 = aqua\n",
      "296 = purple\n",
      "297 = green\n"
     ]
    },
    {
     "data": {
      "application/vnd.jupyter.widget-view+json": {
       "model_id": "159d0add31354d37aba97e52d0222074",
       "version_major": 2,
       "version_minor": 0
      },
      "text/plain": [
       "VBox(children=(Figure(camera=PerspectiveCamera(fov=46.0, position=(0.0, 0.0, 2.0), projectionMatrix=(1.0, 0.0,…"
      ]
     },
     "metadata": {},
     "output_type": "display_data"
    },
    {
     "name": "stdout",
     "output_type": "stream",
     "text": [
      "Angle between 286 and 294 = 14.66 \n",
      "Angle between 286 and 296 = 138.48 \n",
      "Angle between 286 and 297 = 35.22 \n",
      "Angle between 294 and 296 = 27.09 \n",
      "Angle between 294 and 297 = 139.25 \n",
      "Angle between 296 and 297 = 54.38 \n",
      "Final Matches = [[286, 294], [286, 297], [294, 296]]\n",
      "matched_branches_revised = [[286, 294]]\n",
      "Aligned Skeleton Parts\n"
     ]
    },
    {
     "data": {
      "application/vnd.jupyter.widget-view+json": {
       "model_id": "a4e4798b7963485eb5217bae1bb70fa6",
       "version_major": 2,
       "version_minor": 0
      },
      "text/plain": [
       "VBox(children=(Figure(camera=PerspectiveCamera(fov=46.0, position=(0.0, 0.0, 2.0), projectionMatrix=(1.0, 0.0,…"
      ]
     },
     "metadata": {},
     "output_type": "display_data"
    },
    {
     "data": {
      "application/vnd.jupyter.widget-view+json": {
       "model_id": "da914f894669433a98e5c03c8650c55c",
       "version_major": 2,
       "version_minor": 0
      },
      "text/plain": [
       "VBox(children=(Figure(camera=PerspectiveCamera(fov=46.0, position=(0.0, 0.0, 2.0), projectionMatrix=(1.0, 0.0,…"
      ]
     },
     "metadata": {},
     "output_type": "display_data"
    },
    {
     "name": "stdout",
     "output_type": "stream",
     "text": [
      "Original graph\n"
     ]
    },
    {
     "data": {
      "image/png": "[encoded data removed]",
      "text/plain": [
       "<Figure size 640x480 with 1 Axes>"
      ]
     },
     "metadata": {},
     "output_type": "display_data"
    },
    {
     "name": "stdout",
     "output_type": "stream",
     "text": [
      "match_branches = [[286, 294]]\n",
      "edges_to_delete (resolve crossover) = [[286, 296], [286, 297], [294, 296], [294, 297], [296, 297]]\n",
      "edges_to_create (resolve crossover) = [[286, 294]]\n"
     ]
    },
    {
     "data": {
      "text/plain": [
       "([[53, 54],\n",
       "  [52, 55],\n",
       "  [99, 110],\n",
       "  [107, 111],\n",
       "  [113, 119],\n",
       "  [114, 121],\n",
       "  [128, 134],\n",
       "  [132, 133],\n",
       "  [208, 216],\n",
       "  [206, 217],\n",
       "  [207, 225],\n",
       "  [215, 226],\n",
       "  [219, 229],\n",
       "  [224, 230],\n",
       "  [271, 276],\n",
       "  [274, 275],\n",
       "  [277, 279],\n",
       "  [281, 282]],\n",
       " [[52, 53],\n",
       "  [52, 54],\n",
       "  [53, 55],\n",
       "  [54, 55],\n",
       "  [99, 107],\n",
       "  [99, 111],\n",
       "  [107, 110],\n",
       "  [110, 111],\n",
       "  [113, 114],\n",
       "  [113, 121],\n",
       "  [114, 119],\n",
       "  [119, 121],\n",
       "  [128, 132],\n",
       "  [128, 133],\n",
       "  [132, 134],\n",
       "  [133, 134],\n",
       "  [206, 208],\n",
       "  [206, 216],\n",
       "  [208, 217],\n",
       "  [216, 217],\n",
       "  [207, 215],\n",
       "  [207, 226],\n",
       "  [215, 225],\n",
       "  [225, 226],\n",
       "  [219, 224],\n",
       "  [219, 230],\n",
       "  [224, 229],\n",
       "  [229, 230],\n",
       "  [271, 274],\n",
       "  [271, 275],\n",
       "  [274, 276],\n",
       "  [275, 276],\n",
       "  [277, 281],\n",
       "  [277, 282],\n",
       "  [279, 281],\n",
       "  [279, 282]])"
      ]
     },
     "execution_count": 111,
     "metadata": {},
     "output_type": "execute_result"
    }
   ],
   "source": [
    "pru.edges_to_create_and_delete_crossover(\n",
    "                                        neuron_obj_test[1],\n",
    "                                        high_degree_offset = 1500,\n",
    "                                        comparison_distance = 2000,\n",
    "    \n",
    "                                        match_threshold = 45,\n",
    "                                        axon_dependent = True,\n",
    "                                        require_two_pairs = True,\n",
    "                                        verbose = False,\n",
    "                                        )"
   ]
  },
  {
   "cell_type": "code",
   "execution_count": null,
   "metadata": {},
   "outputs": [],
   "source": [
    "limb_edge_dict = dict()\n",
    "for limb_name in neuron_obj.get_limb_node_names():\n",
    "\n",
    "    limb_obj = neuron_obj[limb_name]\n",
    "\n",
    "    edges_to_create,edges_to_delete = edge_function(limb_obj,\n",
    "                                      verbose=verbose,**kwargs)\n",
    "\n",
    "    if verbose:\n",
    "        print(f\"\\n--- Working on Limb {limb_name} ---\\n\"\n",
    "             f\"edges_to_create = {edges_to_create}\\n\"\n",
    "             f\"edges_to_create = {edges_to_create}\")\n",
    "\n",
    "    edges_to_create = list(nu.unique_rows(edges_to_create))\n",
    "    edges_to_delete = list(nu.unique_rows(edges_to_delete))\n",
    "\n",
    "    if len(edges_to_create)>0 or len(edges_to_delete):\n",
    "        limb_edge_dict[limb_name] = dict(edges_to_create=edges_to_create,\n",
    "                                        edges_to_delete=edges_to_delete)"
   ]
  },
  {
   "cell_type": "markdown",
   "metadata": {},
   "source": [
    "# doing the new filtering"
   ]
  },
  {
   "cell_type": "code",
   "execution_count": 62,
   "metadata": {},
   "outputs": [],
   "source": [
    "exc_crossovers_filter = pru.make_filter_dict(\"crossovers\",\n",
    "                                                         pru.filter_away_crossovers,\n",
    "                                                          dict(axon_dependent=True,\n",
    "                                                              match_threshold = 30)\n",
    "                                                         )\n",
    "    \n",
    "exc_high_degree_coordinates_filter = pru.make_filter_dict(\"high_degree_coordinates\",\n",
    "                                                         pru.filter_away_high_degree_coordinates,\n",
    "                                                          dict(axon_dependent=True,min_degree_to_find=4)\n",
    "                                                         )\n",
    "\n",
    "exc_axon_on_dendrite_merges_filter = pru.make_filter_dict(\"axon_on_dendrite_merges\",\n",
    "                                         pru.filter_away_axon_on_dendrite_merges,\n",
    "                                         dict(use_pre_existing_axon_labels=True)\n",
    "                                              \n",
    "                                        )\n",
    "\n",
    "exc_low_branch_clusters_filter = pru.make_filter_dict(\"low_branch_clusters\",\n",
    "                                            pru.filter_away_low_branch_length_clusters,\n",
    "                                            dict())\n",
    "\n",
    "filter_list = [\n",
    "    exc_axon_on_dendrite_merges_filter,\n",
    "    exc_crossovers_filter,\n",
    "    exc_high_degree_coordinates_filter,\n",
    "    \n",
    "    ]"
   ]
  },
  {
   "cell_type": "code",
   "execution_count": 65,
   "metadata": {},
   "outputs": [],
   "source": [
    "from importlib import reload\n",
    "pru = reload(pru)"
   ]
  },
  {
   "cell_type": "code",
   "execution_count": 75,
   "metadata": {
    "scrolled": true
   },
   "outputs": [
    {
     "name": "stdout",
     "output_type": "stream",
     "text": [
      "\n",
      "\n",
      " Using high_fidelity_axon_on_excitatory\n",
      "\n",
      "\n",
      "---Step 1: Applying Dendrite on Axon Filtering\n",
      "\n",
      "--- Working on filter 0:\n",
      "function = dendrite_on_axon_merges\n",
      "function __name__ = filter_away_dendrite_on_axon_merges\n",
      "function arguments = {'use_pre_existing_axon_labels': True}\n",
      "\n",
      "\n",
      "\n",
      "\n",
      "\n",
      " ---- Total time for applying filter: 7.2621238231658936 -----\n",
      "\n",
      "\n",
      "---- Step 2: Applying High Fidelity Axon -----\n",
      "Starting axon branch was the starting node so using border vertices and NOT computing upstream branch\n",
      "upstream_node_to_axon_starting_branch = None\n",
      "root_curr = [1330917.  555807.  786429.]\n",
      "Time for preparing soma vertices and root: 0.0009057521820068359\n",
      "invalidation_d = 2000\n",
      "cc_vertex_thresh = 10\n"
     ]
    },
    {
     "name": "stderr",
     "output_type": "stream",
     "text": [
      "\r",
      "  0%|          | 0/1 [00:00<?, ?it/s]"
     ]
    },
    {
     "data": {
      "application/vnd.jupyter.widget-view+json": {
       "model_id": "8dcdc653097f41cabfbf7f09005006a6",
       "version_major": 2,
       "version_minor": 0
      },
      "text/plain": [
       "  0%|          | 0/260689 [00:00<?, ?it/s]"
      ]
     },
     "metadata": {},
     "output_type": "display_data"
    },
    {
     "name": "stderr",
     "output_type": "stream",
     "text": [
      "100%|██████████| 1/1 [00:19<00:00, 19.82s/it]\n"
     ]
    },
    {
     "name": "stdout",
     "output_type": "stream",
     "text": [
      "meshparty_segment_size = 100\n",
      "Time for 1st pass MP skeletonization: 21.888715505599976\n",
      "branches_touching_root = [24]\n",
      "combining close nodes\n",
      "combine_threshold = 1300\n",
      "length of Graph = 61741\n",
      "After combining close endpoints max(kept_branches_idx) = 321, len(kept_branches_idx) = 300\n",
      "empty_indices % = 0.0\n",
      " conflict_indices % = 0.011852159900192338\n"
     ]
    },
    {
     "data": {
      "application/vnd.jupyter.widget-view+json": {
       "model_id": "42f00e182e9b49a1bb01c512ae8f1f27",
       "version_major": 2,
       "version_minor": 0
      },
      "text/plain": [
       "  0%|          | 0/137 [00:00<?, ?it/s]"
      ]
     },
     "metadata": {},
     "output_type": "display_data"
    },
    {
     "name": "stdout",
     "output_type": "stream",
     "text": [
      "AFTER face_lookup_resolved_test\n"
     ]
    },
    {
     "data": {
      "application/vnd.jupyter.widget-view+json": {
       "model_id": "cb8a56eea3ba4451992011a457f22dea",
       "version_major": 2,
       "version_minor": 0
      },
      "text/plain": [
       "  0%|          | 0/300 [00:00<?, ?it/s]"
      ]
     },
     "metadata": {},
     "output_type": "display_data"
    },
    {
     "name": "stdout",
     "output_type": "stream",
     "text": [
      "Decomposing first pass: 50.14862895011902\n",
      "Only Using MeshParty Skeletonization and Mesh Correspondence\n",
      "Another print\n",
      "Divinding into MP and MAP pieces: 2.9802322387695312e-05\n",
      "Total time for MAP sublimb processing 5.0067901611328125e-06\n",
      "---- Working on MP Decomposition #0 ----\n",
      "Using Quicker soma_to_piece_touching_vertices because no MAP and only one sublimb_mesh piece \n",
      "MP filtering soma verts: 4.2438507080078125e-05\n",
      "Fixing Possible Soma Extension Branch for Sublimb 0\n",
      "Total time for mesh KDTree = 0.006901979446411133\n",
      "sbv[0].reshape(-1,3) = [[1330917.  555807.  786429.]]\n",
      "closest_sk_pt_coord BEFORE = [1331565.2069994   556148.05070718  786870.09578686]\n",
      "current_skeleton.shape = (58, 2, 3)\n",
      "node_for_stitch = 0: [1331565.2069994   556148.05070718  786870.09578686]\n",
      "node_for_stitch AFTER = 0: [1331565.2069994   556148.05070718  786870.09578686]\n",
      "possible_node_loc = [ 0 34]\n",
      "possible_node_loc AFTER = [ 0 34]\n",
      "curr_shortest_path = [0]\n",
      "Current stitch point was a branch or endpoint\n",
      "change_status for create soma extending pieces = False\n",
      "closest_sk_pt_coord AFTER = [1331565.2069994   556148.05070718  786870.09578686]\n",
      "skipping soma 0 because closest skeleton node was already end node\n",
      "endpoints_must_keep = {0: array([[1331565.2069994 ,  556148.05070718,  786870.09578686]])}\n",
      "match_sk_branches = [23]\n",
      "The new branch info was none so skipping \n",
      "\n",
      "No soma extending branch was added for this sublimb even though it had a soma border (means they already existed)\n",
      "MP (because soma touching verts) soma extension add: 0.3455958366394043\n",
      "There were not both MAP and MP pieces so skipping the stitch resolving phase\n",
      "Time for decomp of Limb = 74.3783450126648\n",
      "Number of matching vertices = 31\n",
      "Only one endpoint after filtering away the endpoints that are not on the skeleton\n",
      "Using Distance measure skeletal_distance\n",
      "endpoints_must_keep = [[1331565.2069994   556148.05070718  786870.09578686]]\n",
      "Number of end_nodes BEFORE filtering = 165\n",
      "all_single_nodes_to_eliminate = [137]\n"
     ]
    },
    {
     "data": {
      "application/vnd.jupyter.widget-view+json": {
       "model_id": "4c29eb76dc1248519a89bb4c31f9893b",
       "version_major": 2,
       "version_minor": 0
      },
      "text/plain": [
       "  0%|          | 0/21 [00:00<?, ?it/s]"
      ]
     },
     "metadata": {},
     "output_type": "display_data"
    },
    {
     "name": "stdout",
     "output_type": "stream",
     "text": [
      "Removed 21 skeletal branches\n"
     ]
    },
    {
     "data": {
      "application/vnd.jupyter.widget-view+json": {
       "model_id": "946adee0b7d94003a32261faa5be0612",
       "version_major": 2,
       "version_minor": 0
      },
      "text/plain": [
       "  0%|          | 0/300 [00:00<?, ?it/s]"
      ]
     },
     "metadata": {},
     "output_type": "display_data"
    },
    {
     "name": "stdout",
     "output_type": "stream",
     "text": [
      "519581 519582\n",
      "For marked faces: None\n",
      "empty_indices % = 0.0\n",
      " conflict_indices % = 0.0\n"
     ]
    },
    {
     "data": {
      "application/vnd.jupyter.widget-view+json": {
       "model_id": "d9b48477dce349d6bcc049a8fb0d7740",
       "version_major": 2,
       "version_minor": 0
      },
      "text/plain": [
       "0it [00:00, ?it/s]"
      ]
     },
     "metadata": {},
     "output_type": "display_data"
    },
    {
     "name": "stdout",
     "output_type": "stream",
     "text": [
      "AFTER face_lookup_resolved_test\n"
     ]
    },
    {
     "data": {
      "application/vnd.jupyter.widget-view+json": {
       "model_id": "137ce6423ead4e36ad876bb9b851bf38",
       "version_major": 2,
       "version_minor": 0
      },
      "text/plain": [
       "  0%|          | 0/258 [00:00<?, ?it/s]"
      ]
     },
     "metadata": {},
     "output_type": "display_data"
    },
    {
     "name": "stdout",
     "output_type": "stream",
     "text": [
      "Limb Correspondence before stitching = 258\n",
      "Limb Correspondence AFTER stitching = 258\n",
      "Upstream node was None so don't have to adjust\n",
      "concept_network_dict = {0: [<networkx_utils.GraphOrderedEdges object at 0x7faf55a56f60>]}\n",
      "Assigning the old width calculation because no valid new widths\n",
      "Assigning the old width calculation because no valid new widths\n",
      "Assigning the old width calculation because no valid new widths\n",
      "Assigning the old width calculation because no valid new widths\n",
      "Assigning the old width calculation because no valid new widths\n",
      "\n",
      "\n",
      "----Working on seperate_graph 0----\n",
      "\n",
      "\n",
      "---------Working on soma_idx = 0, soma_group_idx 0, endpt = [1331565.2069994   556148.05070718  786870.09578686]---------\n",
      "Starting_edge inside branches_to_conept = [[1331565.2069994   556148.05070718  786870.09578686]\n",
      " [1332053.99387603  561807.60538939  786825.7359915 ]]\n",
      "At the start, starting_node (in terms of the skeleton, that shouldn't match the starting edge) = [222]\n",
      "printing out current edge:\n",
      "[[1331565.2069994   556148.05070718  786870.09578686]\n",
      " [1332053.99387603  561807.60538939  786825.7359915 ]]\n",
      "edge_endpoints_to_process was empty so exiting loop after 258 iterations\n",
      "starting_node in concept map (that should match the starting edge) = 231\n",
      "Total time for branches to concept conversion = 4.120960712432861\n",
      "\n",
      "Done generating concept network \n",
      "\n",
      "\n",
      "\n",
      "\n",
      "---- Step 3: Applying Excitatory Filters Post-processing -----\n",
      "\n",
      "--- Working on filter 0:\n",
      "function = axon_on_dendrite_merges\n",
      "function __name__ = filter_away_axon_on_dendrite_merges\n",
      "function arguments = {'use_pre_existing_axon_labels': True}\n",
      "\n",
      "\n",
      "\n",
      "\n",
      "Branches Requested to Remove (WITH disconnect effect)\n",
      "\n",
      " Working on visualization type: mesh\n"
     ]
    },
    {
     "data": {
      "application/vnd.jupyter.widget-view+json": {
       "model_id": "8442e4ebdea34e37b15fa5f0d6675122",
       "version_major": 2,
       "version_minor": 0
      },
      "text/plain": [
       "VBox(children=(Figure(camera=PerspectiveCamera(fov=46.0, position=(0.0, 0.0, 2.0), projectionMatrix=(1.0, 0.0,…"
      ]
     },
     "metadata": {},
     "output_type": "display_data"
    },
    {
     "name": "stdout",
     "output_type": "stream",
     "text": [
      "\n",
      "--- Working on filter 1:\n",
      "function = crossovers\n",
      "function __name__ = filter_away_crossovers\n",
      "function arguments = {'axon_dependent': True, 'match_threshold': 50, 'require_two_pairs': False}\n",
      "\n",
      "\n",
      "\n",
      "\n",
      "Branches Requested to Remove (WITH disconnect effect)\n",
      "\n",
      " Working on visualization type: mesh\n"
     ]
    },
    {
     "data": {
      "application/vnd.jupyter.widget-view+json": {
       "model_id": "39bc387198b442e088ebfb442417c54e",
       "version_major": 2,
       "version_minor": 0
      },
      "text/plain": [
       "VBox(children=(Figure(camera=PerspectiveCamera(fov=46.0, position=(0.0, 0.0, 2.0), projectionMatrix=(1.0, 0.0,…"
      ]
     },
     "metadata": {},
     "output_type": "display_data"
    },
    {
     "name": "stdout",
     "output_type": "stream",
     "text": [
      "\n",
      "--- Working on filter 2:\n",
      "function = low_branch_clusters\n",
      "function __name__ = filter_away_low_branch_length_clusters\n",
      "function arguments = {}\n",
      "\n",
      "\n",
      "\n",
      "--- Working on filter 3:\n",
      "function = double_back_and_width_change\n",
      "function __name__ = filter_away_large_double_back_or_width_changes\n",
      "function arguments = {'perform_double_back_errors': True, 'skip_double_back_errors_for_axon': False, 'width_jump_threshold': 250, 'running_width_jump_method': True, 'double_back_axon_like_threshold': 145, 'double_back_threshold': 120}\n",
      "\n",
      "\n",
      "\n",
      "\n",
      "Branches Requested to Remove (WITH disconnect effect)\n",
      "\n",
      " Working on visualization type: mesh\n"
     ]
    },
    {
     "data": {
      "application/vnd.jupyter.widget-view+json": {
       "model_id": "da9cb0cc19c742ff9d38adb3caf6c5b2",
       "version_major": 2,
       "version_minor": 0
      },
      "text/plain": [
       "VBox(children=(Figure(camera=PerspectiveCamera(fov=46.0, position=(0.0, 0.0, 2.0), projectionMatrix=(1.0, 0.0,…"
      ]
     },
     "metadata": {},
     "output_type": "display_data"
    },
    {
     "name": "stdout",
     "output_type": "stream",
     "text": [
      "\n",
      "--- Working on filter 4:\n",
      "function = high_degree_coordinates\n",
      "function __name__ = filter_away_high_degree_coordinates\n",
      "function arguments = {'axon_dependent': True, 'min_degree_to_find': 4}\n",
      "\n",
      "\n",
      "min_degree_to_find = 4\n",
      "min_degree_to_find = 4\n",
      "min_degree_to_find = 4\n",
      "min_degree_to_find = 4\n",
      "min_degree_to_find = 4\n",
      "min_degree_to_find = 4\n",
      "min_degree_to_find = 4\n",
      "min_degree_to_find = 4\n",
      "\n",
      "\n",
      "\n",
      " ---- Total time for applying filter: 225.59211468696594 -----\n"
     ]
    }
   ],
   "source": [
    "#filtered_neuron = neuron_obj\n",
    "filtered_neuron,filtering_info = pru.proofread_neuron_class_predetermined(neuron_obj,\n",
    "    inh_exc_class=\"excitatory\",\n",
    "    perform_axon_classification=False,\n",
    "                                         \n",
    "    plot_limb_branch_filter_with_disconnect_effect = True,\n",
    "\n",
    "    \n",
    "    plot_final_filtered_neuron = False,\n",
    "\n",
    "    #arguments for the axon high fidelity:\n",
    "    plot_new_axon_limb_correspondence = False,\n",
    "    plot_new_limb_object = False,\n",
    "    plot_final_revised_axon_branch = False,\n",
    "\n",
    "    verbose = False,\n",
    "    verbose_outline = True,\n",
    "    #filter_list = filter_list\n",
    "    high_fidelity_axon_on_excitatory = True,\n",
    "                                                                         )\n"
   ]
  },
  {
   "cell_type": "markdown",
   "metadata": {},
   "source": [
    "# Crossover Exploration"
   ]
  },
  {
   "cell_type": "code",
   "execution_count": null,
   "metadata": {},
   "outputs": [],
   "source": []
  },
  {
   "cell_type": "code",
   "execution_count": null,
   "metadata": {},
   "outputs": [],
   "source": []
  },
  {
   "cell_type": "markdown",
   "metadata": {},
   "source": [
    "# finishing the new filtering"
   ]
  },
  {
   "cell_type": "code",
   "execution_count": 76,
   "metadata": {},
   "outputs": [],
   "source": [
    "from pykdtree.kdtree import KDTree\n",
    "import trimesh_utils as tu\n",
    "\n",
    "\n",
    "split_index = 0\n",
    "winning_nucleus_id = nucleus_ids[0]\n",
    "\n",
    "compute_synapse_to_soma_skeletal_distance = True\n",
    "return_errored_synapses_ids_non_axons = True\n",
    "soma_center_in_nm = False\n",
    "validation=True\n",
    "\n",
    "original_mesh = du.fetch_segment_id_mesh(segment_id)\n",
    "original_mesh_kdtree = KDTree(original_mesh.triangles_center)\n",
    "\n",
    "original_mesh_faces = tu.original_mesh_faces_map(original_mesh,\n",
    "                                                    filtered_neuron.mesh,\n",
    "                                                    exact_match=True,\n",
    "                                                    original_mesh_kdtree=original_mesh_kdtree)"
   ]
  },
  {
   "cell_type": "code",
   "execution_count": 77,
   "metadata": {},
   "outputs": [],
   "source": [
    "# getting the axon faces\n",
    "\n",
    "import classification_utils as clu\n",
    "import neuron_utils as nru\n",
    "\n",
    "axon_limb_branch_dict = clu.axon_limb_branch_dict(filtered_neuron)\n",
    "\n",
    "axon_skeletal_length = nru.sum_feature_over_limb_branch_dict(filtered_neuron,\n",
    "                                 limb_branch_dict=axon_limb_branch_dict,\n",
    "                                 feature=\"skeletal_length\")\n",
    "\n",
    "axon_mesh_area = nru.sum_feature_over_limb_branch_dict(filtered_neuron,\n",
    "                                     limb_branch_dict=axon_limb_branch_dict,\n",
    "                                     feature=\"area\")\n",
    "\n",
    "axon_face_labels = clu.axon_faces_from_labels_on_original_mesh(filtered_neuron,\n",
    "                                       original_mesh=original_mesh,\n",
    "                                       original_mesh_kdtree=original_mesh_kdtree,\n",
    "                                        plot_axon=False,\n",
    "                                       verbose=False,)"
   ]
  },
  {
   "cell_type": "code",
   "execution_count": 78,
   "metadata": {},
   "outputs": [
    {
     "name": "stdout",
     "output_type": "stream",
     "text": [
      "Apply the presyn non_error\n",
      "For presyn: # valid synapses = 176, # error synapses  = 270, # error presyns = 34\n",
      "For postsyn: # valid synapses = 6896, # error synapses  = 117, # error presyns = 0\n"
     ]
    }
   ],
   "source": [
    "# doing the synapse filtering\n",
    "compute_synapse_to_soma_skeletal_distance = False\n",
    "import proofreading_utils as pru\n",
    "\n",
    "(keys_to_write_without_version,\n",
    "         synapse_stats,\n",
    "         total_error_synapse_ids,\n",
    "         \n",
    ") = pru.synapse_filtering(filtered_neuron,\n",
    "                split_index,\n",
    "                nucleus_id=winning_nucleus_id,\n",
    "                segment_id=None,\n",
    "                return_synapse_filter_info = True,\n",
    "                return_synapse_center_data = False,\n",
    "                return_error_synapse_ids = True,\n",
    "               return_valid_synapse_centers=compute_synapse_to_soma_skeletal_distance,\n",
    "                return_errored_synapses_ids_non_axons=return_errored_synapses_ids_non_axons,\n",
    "                mapping_threshold = 500,\n",
    "                  plot_synapses=False,\n",
    "                verbose = True,\n",
    "                original_mesh_method = True,\n",
    "                original_mesh = original_mesh,\n",
    "                original_mesh_kdtree = original_mesh_kdtree,\n",
    "                valid_faces_on_original_mesh=original_mesh_faces, \n",
    "                axon_faces_on_original_mesh=axon_face_labels,\n",
    "\n",
    "                #will only apply the filter if it is excitatory\n",
    "                apply_non_axon_presyn_errors=True,\n",
    "                validation=validation,\n",
    "\n",
    "                )"
   ]
  },
  {
   "cell_type": "code",
   "execution_count": 79,
   "metadata": {},
   "outputs": [],
   "source": [
    "valid_synapse_df = pru.valid_synapse_records_to_unique_synapse_df(keys_to_write_without_version)"
   ]
  },
  {
   "cell_type": "code",
   "execution_count": 80,
   "metadata": {},
   "outputs": [
    {
     "name": "stdout",
     "output_type": "stream",
     "text": [
      "Synapsse Results:\n",
      "Total Number of Synapses = 7459\n",
      "n_valid_syn_ids_presyn = 176\n",
      "n_errored_syn_ids_presyn = 270\n",
      "n_valid_syn_ids_postsyn = 6896\n",
      "n_errored_syn_ids_postsyn = 117\n",
      "Presyn counts:\n",
      "TP:115\n",
      "TN:268\n",
      "FP:61\n",
      "FN:2\n",
      "Postsyn counts:\n",
      "TP:6888\n",
      "TN:33\n",
      "FP:8\n",
      "FN:84\n"
     ]
    },
    {
     "data": {
      "text/plain": [
       "{'presyn': {'TP': 115, 'TN': 268, 'FP': 61, 'FN': 2},\n",
       " 'postsyn': {'TP': 6888, 'TN': 33, 'FP': 8, 'FN': 84}}"
      ]
     },
     "execution_count": 80,
     "metadata": {},
     "output_type": "execute_result"
    }
   ],
   "source": [
    "validation_df = vu.synapse_validation_df_single_neuron(segment_id,\n",
    "                                        remove_presyn_on_dendrite = False,\n",
    "                        count_presyn_on_dendrite_as_correct = True,\n",
    "                                    include_extension_synapse=False,\n",
    "                                      valid_synapses_ids=valid_synapse_df[\"synapse_id\"].to_list())\n",
    "\n",
    "vu.synapse_validation_df_to_category_counts(validation_df,\n",
    "                                            print_postsyn=True,\n",
    "                                            print_presyn=True)\n",
    "                                         "
   ]
  },
  {
   "cell_type": "code",
   "execution_count": 81,
   "metadata": {},
   "outputs": [
    {
     "name": "stdout",
     "output_type": "stream",
     "text": [
      "Presyn counts:\n",
      "TP:115\n",
      "TN:268\n",
      "FP:61\n",
      "FN:2\n"
     ]
    },
    {
     "data": {
      "image/png": "[encoded data removed]",
      "text/plain": [
       "<Figure size 700x400 with 2 Axes>"
      ]
     },
     "metadata": {},
     "output_type": "display_data"
    }
   ],
   "source": [
    "vu.synapse_validation_df_to_score_plot(validation_df)"
   ]
  },
  {
   "cell_type": "code",
   "execution_count": 73,
   "metadata": {},
   "outputs": [
    {
     "name": "stdout",
     "output_type": "stream",
     "text": [
      "Synapsse Results:\n",
      "Total Number of Synapses = 7459\n",
      "n_valid_syn_ids_presyn = 176\n",
      "n_errored_syn_ids_presyn = 270\n",
      "n_valid_syn_ids_postsyn = 6896\n",
      "n_errored_syn_ids_postsyn = 117\n",
      "Presyn counts:\n",
      "TP:115\n",
      "TN:268\n",
      "FP:61\n",
      "FN:2\n",
      "Postsyn counts:\n",
      "TP:6888\n",
      "TN:33\n",
      "FP:8\n",
      "FN:84\n",
      "Presyn counts:\n",
      "TP:115\n",
      "TN:268\n",
      "FP:61\n",
      "FN:2\n"
     ]
    },
    {
     "data": {
      "image/png": "[encoded data removed]",
      "text/plain": [
       "<Figure size 700x400 with 2 Axes>"
      ]
     },
     "metadata": {},
     "output_type": "display_data"
    }
   ],
   "source": [
    "# if had the original\n",
    "validation_df_original = vu.synapse_validation_df_single_neuron(segment_id,\n",
    "                                        remove_presyn_on_dendrite = False,\n",
    "                        count_presyn_on_dendrite_as_correct = True,\n",
    "                                                        include_extension_synapse=False,)\n",
    "vu.synapse_validation_df_to_category_counts(validation_df_original,\n",
    "                                            print_postsyn=True,\n",
    "                                            print_presyn=True)\n",
    "vu.synapse_validation_df_to_score_plot(validation_df_original)"
   ]
  },
  {
   "cell_type": "markdown",
   "metadata": {},
   "source": [
    "# Take the Synapse Data and Convert it into form that can be processed by the validation functions"
   ]
  },
  {
   "cell_type": "code",
   "execution_count": null,
   "metadata": {},
   "outputs": [],
   "source": []
  }
 ],
 "metadata": {
  "kernelspec": {
   "display_name": "Python 3",
   "language": "python",
   "name": "python3"
  },
  "language_info": {
   "codemirror_mode": {
    "name": "ipython",
    "version": 3
   },
   "file_extension": ".py",
   "mimetype": "text/x-python",
   "name": "python",
   "nbconvert_exporter": "python",
   "pygments_lexer": "ipython3",
   "version": "3.6.9"
  }
 },
 "nbformat": 4,
 "nbformat_minor": 4
}
