{
 "cells": [
  {
   "cell_type": "code",
   "execution_count": null,
   "metadata": {},
   "outputs": [],
   "source": [
    "\"\"\"\n",
    "Purpose: To check the errors on the validation test set\n",
    "to get ideas on how to make validation score go up\n",
    "\n",
    "\"\"\""
   ]
  },
  {
   "cell_type": "code",
   "execution_count": 1,
   "metadata": {},
   "outputs": [],
   "source": [
    "%load_ext autoreload\n",
    "%autoreload 2"
   ]
  },
  {
   "cell_type": "code",
   "execution_count": 2,
   "metadata": {},
   "outputs": [],
   "source": [
    "from os import sys\n",
    "sys.path.append(\"/meshAfterParty/\")\n",
    "sys.path.append(\"/meshAfterParty/meshAfterParty/\")"
   ]
  },
  {
   "cell_type": "code",
   "execution_count": 3,
   "metadata": {},
   "outputs": [
    {
     "name": "stderr",
     "output_type": "stream",
     "text": [
      "INFO - 2021-03-31 18:07:32,744 - settings - Setting database.host to at-database.ad.bcm.edu\n",
      "INFO - 2021-03-31 18:07:32,745 - settings - Setting database.user to celiib\n",
      "INFO - 2021-03-31 18:07:32,746 - settings - Setting database.password to newceliipass\n",
      "INFO - 2021-03-31 18:07:32,750 - settings - Setting stores to {'minnie65': {'protocol': 'file', 'location': '/mnt/dj-stor01/platinum/minnie65', 'stage': '/mnt/dj-stor01/platinum/minnie65'}, 'meshes': {'protocol': 'file', 'location': '/mnt/dj-stor01/platinum/minnie65/02/meshes', 'stage': '/mnt/dj-stor01/platinum/minnie65/02/meshes'}, 'decimated_meshes': {'protocol': 'file', 'location': '/mnt/dj-stor01/platinum/minnie65/02/decimated_meshes', 'stage': '/mnt/dj-stor01/platinum/minnie65/02/decimated_meshes'}, 'skeletons': {'protocol': 'file', 'location': '/mnt/dj-stor01/platinum/minnie65/02/skeletons'}}\n",
      "INFO - 2021-03-31 18:07:32,751 - settings - Setting enable_python_native_blobs to True\n",
      "INFO - 2021-03-31 18:07:32,760 - connection - Connected celiib@at-database.ad.bcm.edu:3306\n"
     ]
    },
    {
     "name": "stdout",
     "output_type": "stream",
     "text": [
      "Connecting celiib@at-database.ad.bcm.edu:3306\n"
     ]
    },
    {
     "name": "stderr",
     "output_type": "stream",
     "text": [
      "INFO - 2021-03-31 18:07:33,106 - settings - Setting enable_python_native_blobs to True\n",
      "INFO - 2021-03-31 18:07:33,110 - settings - Setting database.host to at-database.ad.bcm.edu\n",
      "INFO - 2021-03-31 18:07:33,112 - settings - Setting database.user to celiib\n",
      "INFO - 2021-03-31 18:07:33,112 - settings - Setting database.password to newceliipass\n",
      "INFO - 2021-03-31 18:07:33,113 - settings - Setting database.host to at-database.ad.bcm.edu\n",
      "INFO - 2021-03-31 18:07:33,114 - settings - Setting database.user to celiib\n",
      "INFO - 2021-03-31 18:07:33,115 - settings - Setting database.password to newceliipass\n",
      "INFO - 2021-03-31 18:07:33,117 - settings - Setting enable_python_native_blobs to True\n",
      "INFO - 2021-03-31 18:07:33,538 - settings - Setting enable_python_native_blobs to True\n"
     ]
    }
   ],
   "source": [
    "from pathlib import Path\n",
    "import numpy as np\n",
    "import neuron_visualizations as nviz\n",
    "import datajoint as dj\n",
    "\n",
    "import proofreading_utils as pru\n",
    "import classification_utils as clu\n",
    "\n",
    "import neuron_utils as nru\n",
    "import validation_utils as vu\n",
    "import pandas as pd\n",
    "import datajoint_utils as du"
   ]
  },
  {
   "cell_type": "markdown",
   "metadata": {},
   "source": [
    "# Computing the validation statistics (to pick the ones to look at)"
   ]
  },
  {
   "cell_type": "code",
   "execution_count": 5,
   "metadata": {
    "scrolled": true
   },
   "outputs": [
    {
     "name": "stdout",
     "output_type": "stream",
     "text": [
      "Synapsse Results:\n",
      "Total Number of Synapses = 3990\n",
      "n_valid_syn_ids_presyn = 5\n",
      "n_errored_syn_ids_presyn = 29\n",
      "n_valid_syn_ids_postsyn = 3891\n",
      "n_errored_syn_ids_postsyn = 65\n",
      "Synapsse Results:\n",
      "Total Number of Synapses = 4434\n",
      "n_valid_syn_ids_presyn = 39\n",
      "n_errored_syn_ids_presyn = 482\n",
      "n_valid_syn_ids_postsyn = 3898\n",
      "n_errored_syn_ids_postsyn = 15\n",
      "Synapsse Results:\n",
      "Total Number of Synapses = 923\n",
      "n_valid_syn_ids_presyn = 13\n",
      "n_errored_syn_ids_presyn = 153\n",
      "n_valid_syn_ids_postsyn = 753\n",
      "n_errored_syn_ids_postsyn = 4\n",
      "Synapsse Results:\n",
      "Total Number of Synapses = 4361\n",
      "n_valid_syn_ids_presyn = 86\n",
      "n_errored_syn_ids_presyn = 621\n",
      "n_valid_syn_ids_postsyn = 3649\n",
      "n_errored_syn_ids_postsyn = 5\n",
      "Synapsse Results:\n",
      "Total Number of Synapses = 3452\n",
      "n_valid_syn_ids_presyn = 76\n",
      "n_errored_syn_ids_presyn = 345\n",
      "n_valid_syn_ids_postsyn = 3007\n",
      "n_errored_syn_ids_postsyn = 24\n",
      "Synapsse Results:\n",
      "Total Number of Synapses = 3190\n",
      "n_valid_syn_ids_presyn = 18\n",
      "n_errored_syn_ids_presyn = 89\n",
      "n_valid_syn_ids_postsyn = 3081\n",
      "n_errored_syn_ids_postsyn = 2\n",
      "Synapsse Results:\n",
      "Total Number of Synapses = 3772\n",
      "n_valid_syn_ids_presyn = 40\n",
      "n_errored_syn_ids_presyn = 373\n",
      "n_valid_syn_ids_postsyn = 3319\n",
      "n_errored_syn_ids_postsyn = 40\n",
      "Synapsse Results:\n",
      "Total Number of Synapses = 3611\n",
      "n_valid_syn_ids_presyn = 0\n",
      "n_errored_syn_ids_presyn = 277\n",
      "n_valid_syn_ids_postsyn = 3329\n",
      "n_errored_syn_ids_postsyn = 5\n",
      "Synapsse Results:\n",
      "Total Number of Synapses = 3806\n",
      "n_valid_syn_ids_presyn = 24\n",
      "n_errored_syn_ids_presyn = 273\n",
      "n_valid_syn_ids_postsyn = 3352\n",
      "n_errored_syn_ids_postsyn = 157\n",
      "Synapsse Results:\n",
      "Total Number of Synapses = 7152\n",
      "n_valid_syn_ids_presyn = 0\n",
      "n_errored_syn_ids_presyn = 99\n",
      "n_valid_syn_ids_postsyn = 7046\n",
      "n_errored_syn_ids_postsyn = 7\n",
      "Synapsse Results:\n",
      "Total Number of Synapses = 6474\n",
      "n_valid_syn_ids_presyn = 66\n",
      "n_errored_syn_ids_presyn = 385\n",
      "n_valid_syn_ids_postsyn = 6018\n",
      "n_errored_syn_ids_postsyn = 5\n",
      "Synapsse Results:\n",
      "Total Number of Synapses = 4706\n",
      "n_valid_syn_ids_presyn = 6\n",
      "n_errored_syn_ids_presyn = 58\n",
      "n_valid_syn_ids_postsyn = 4632\n",
      "n_errored_syn_ids_postsyn = 10\n",
      "Synapsse Results:\n",
      "Total Number of Synapses = 2462\n",
      "n_valid_syn_ids_presyn = 32\n",
      "n_errored_syn_ids_presyn = 175\n",
      "n_valid_syn_ids_postsyn = 2224\n",
      "n_errored_syn_ids_postsyn = 31\n",
      "Synapsse Results:\n",
      "Total Number of Synapses = 4846\n",
      "n_valid_syn_ids_presyn = 2\n",
      "n_errored_syn_ids_presyn = 25\n",
      "n_valid_syn_ids_postsyn = 4817\n",
      "n_errored_syn_ids_postsyn = 2\n",
      "Synapsse Results:\n",
      "Total Number of Synapses = 3713\n",
      "n_valid_syn_ids_presyn = 61\n",
      "n_errored_syn_ids_presyn = 199\n",
      "n_valid_syn_ids_postsyn = 2662\n",
      "n_errored_syn_ids_postsyn = 791\n",
      "Synapsse Results:\n",
      "Total Number of Synapses = 1159\n",
      "n_valid_syn_ids_presyn = 84\n",
      "n_errored_syn_ids_presyn = 197\n",
      "n_valid_syn_ids_postsyn = 806\n",
      "n_errored_syn_ids_postsyn = 72\n",
      "Synapsse Results:\n",
      "Total Number of Synapses = 4783\n",
      "n_valid_syn_ids_presyn = 7\n",
      "n_errored_syn_ids_presyn = 178\n",
      "n_valid_syn_ids_postsyn = 4551\n",
      "n_errored_syn_ids_postsyn = 47\n",
      "Synapsse Results:\n",
      "Total Number of Synapses = 1760\n",
      "n_valid_syn_ids_presyn = 65\n",
      "n_errored_syn_ids_presyn = 225\n",
      "n_valid_syn_ids_postsyn = 1467\n",
      "n_errored_syn_ids_postsyn = 3\n",
      "Synapsse Results:\n",
      "Total Number of Synapses = 5362\n",
      "n_valid_syn_ids_presyn = 0\n",
      "n_errored_syn_ids_presyn = 108\n",
      "n_valid_syn_ids_postsyn = 5033\n",
      "n_errored_syn_ids_postsyn = 221\n",
      "Synapsse Results:\n",
      "Total Number of Synapses = 4072\n",
      "n_valid_syn_ids_presyn = 54\n",
      "n_errored_syn_ids_presyn = 161\n",
      "n_valid_syn_ids_postsyn = 3746\n",
      "n_errored_syn_ids_postsyn = 111\n",
      "Synapsse Results:\n",
      "Total Number of Synapses = 5846\n",
      "n_valid_syn_ids_presyn = 0\n",
      "n_errored_syn_ids_presyn = 235\n",
      "n_valid_syn_ids_postsyn = 5601\n",
      "n_errored_syn_ids_postsyn = 10\n",
      "Synapsse Results:\n",
      "Total Number of Synapses = 4377\n",
      "n_valid_syn_ids_presyn = 5\n",
      "n_errored_syn_ids_presyn = 196\n",
      "n_valid_syn_ids_postsyn = 4155\n",
      "n_errored_syn_ids_postsyn = 21\n",
      "Synapsse Results:\n",
      "Total Number of Synapses = 6287\n",
      "n_valid_syn_ids_presyn = 0\n",
      "n_errored_syn_ids_presyn = 23\n",
      "n_valid_syn_ids_postsyn = 6262\n",
      "n_errored_syn_ids_postsyn = 2\n",
      "Synapsse Results:\n",
      "Total Number of Synapses = 2875\n",
      "n_valid_syn_ids_presyn = 19\n",
      "n_errored_syn_ids_presyn = 1\n",
      "n_valid_syn_ids_postsyn = 2834\n",
      "n_errored_syn_ids_postsyn = 21\n",
      "Synapsse Results:\n",
      "Total Number of Synapses = 2717\n",
      "n_valid_syn_ids_presyn = 54\n",
      "n_errored_syn_ids_presyn = 29\n",
      "n_valid_syn_ids_postsyn = 2631\n",
      "n_errored_syn_ids_postsyn = 3\n",
      "Synapsse Results:\n",
      "Total Number of Synapses = 3329\n",
      "n_valid_syn_ids_presyn = 0\n",
      "n_errored_syn_ids_presyn = 230\n",
      "n_valid_syn_ids_postsyn = 3021\n",
      "n_errored_syn_ids_postsyn = 78\n",
      "Synapsse Results:\n",
      "Total Number of Synapses = 4803\n",
      "n_valid_syn_ids_presyn = 2\n",
      "n_errored_syn_ids_presyn = 226\n",
      "n_valid_syn_ids_postsyn = 4524\n",
      "n_errored_syn_ids_postsyn = 51\n",
      "Synapsse Results:\n",
      "Total Number of Synapses = 5263\n",
      "n_valid_syn_ids_presyn = 0\n",
      "n_errored_syn_ids_presyn = 89\n",
      "n_valid_syn_ids_postsyn = 5156\n",
      "n_errored_syn_ids_postsyn = 18\n",
      "Synapsse Results:\n",
      "Total Number of Synapses = 2171\n",
      "n_valid_syn_ids_presyn = 2\n",
      "n_errored_syn_ids_presyn = 152\n",
      "n_valid_syn_ids_postsyn = 2012\n",
      "n_errored_syn_ids_postsyn = 5\n",
      "Synapsse Results:\n",
      "Total Number of Synapses = 2978\n",
      "n_valid_syn_ids_presyn = 45\n",
      "n_errored_syn_ids_presyn = 132\n",
      "n_valid_syn_ids_postsyn = 2798\n",
      "n_errored_syn_ids_postsyn = 3\n",
      "Synapsse Results:\n",
      "Total Number of Synapses = 1221\n",
      "n_valid_syn_ids_presyn = 16\n",
      "n_errored_syn_ids_presyn = 72\n",
      "n_valid_syn_ids_postsyn = 1124\n",
      "n_errored_syn_ids_postsyn = 9\n",
      "Synapsse Results:\n",
      "Total Number of Synapses = 7110\n",
      "n_valid_syn_ids_presyn = 41\n",
      "n_errored_syn_ids_presyn = 119\n",
      "n_valid_syn_ids_postsyn = 6602\n",
      "n_errored_syn_ids_postsyn = 348\n",
      "Synapsse Results:\n",
      "Total Number of Synapses = 2757\n",
      "n_valid_syn_ids_presyn = 166\n",
      "n_errored_syn_ids_presyn = 103\n",
      "n_valid_syn_ids_postsyn = 2457\n",
      "n_errored_syn_ids_postsyn = 31\n",
      "Synapsse Results:\n",
      "Total Number of Synapses = 6716\n",
      "n_valid_syn_ids_presyn = 35\n",
      "n_errored_syn_ids_presyn = 41\n",
      "n_valid_syn_ids_postsyn = 6639\n",
      "n_errored_syn_ids_postsyn = 1\n",
      "Synapsse Results:\n",
      "Total Number of Synapses = 3348\n",
      "n_valid_syn_ids_presyn = 124\n",
      "n_errored_syn_ids_presyn = 229\n",
      "n_valid_syn_ids_postsyn = 2991\n",
      "n_errored_syn_ids_postsyn = 4\n",
      "Synapsse Results:\n",
      "Total Number of Synapses = 5879\n",
      "n_valid_syn_ids_presyn = 31\n",
      "n_errored_syn_ids_presyn = 183\n",
      "n_valid_syn_ids_postsyn = 5650\n",
      "n_errored_syn_ids_postsyn = 15\n",
      "Synapsse Results:\n",
      "Total Number of Synapses = 2510\n",
      "n_valid_syn_ids_presyn = 23\n",
      "n_errored_syn_ids_presyn = 23\n",
      "n_valid_syn_ids_postsyn = 2463\n",
      "n_errored_syn_ids_postsyn = 1\n",
      "Synapsse Results:\n",
      "Total Number of Synapses = 792\n",
      "n_valid_syn_ids_presyn = 11\n",
      "n_errored_syn_ids_presyn = 48\n",
      "n_valid_syn_ids_postsyn = 725\n",
      "n_errored_syn_ids_postsyn = 8\n",
      "Synapsse Results:\n",
      "Total Number of Synapses = 7459\n",
      "n_valid_syn_ids_presyn = 176\n",
      "n_errored_syn_ids_presyn = 270\n",
      "n_valid_syn_ids_postsyn = 6896\n",
      "n_errored_syn_ids_postsyn = 117\n",
      "Synapsse Results:\n",
      "Total Number of Synapses = 1990\n",
      "n_valid_syn_ids_presyn = 10\n",
      "n_errored_syn_ids_presyn = 234\n",
      "n_valid_syn_ids_postsyn = 1740\n",
      "n_errored_syn_ids_postsyn = 6\n",
      "Synapsse Results:\n",
      "Total Number of Synapses = 3302\n",
      "n_valid_syn_ids_presyn = 36\n",
      "n_errored_syn_ids_presyn = 123\n",
      "n_valid_syn_ids_postsyn = 3128\n",
      "n_errored_syn_ids_postsyn = 15\n",
      "Synapsse Results:\n",
      "Total Number of Synapses = 2523\n",
      "n_valid_syn_ids_presyn = 58\n",
      "n_errored_syn_ids_presyn = 398\n",
      "n_valid_syn_ids_postsyn = 2010\n",
      "n_errored_syn_ids_postsyn = 57\n",
      "Synapsse Results:\n",
      "Total Number of Synapses = 6246\n",
      "n_valid_syn_ids_presyn = 5\n",
      "n_errored_syn_ids_presyn = 386\n",
      "n_valid_syn_ids_postsyn = 5696\n",
      "n_errored_syn_ids_postsyn = 159\n",
      "Synapsse Results:\n",
      "Total Number of Synapses = 1896\n",
      "n_valid_syn_ids_presyn = 2\n",
      "n_errored_syn_ids_presyn = 121\n",
      "n_valid_syn_ids_postsyn = 1757\n",
      "n_errored_syn_ids_postsyn = 16\n",
      "Synapsse Results:\n",
      "Total Number of Synapses = 10149\n",
      "n_valid_syn_ids_presyn = 291\n",
      "n_errored_syn_ids_presyn = 547\n",
      "n_valid_syn_ids_postsyn = 9293\n",
      "n_errored_syn_ids_postsyn = 18\n",
      "Synapsse Results:\n",
      "Total Number of Synapses = 1708\n",
      "n_valid_syn_ids_presyn = 12\n",
      "n_errored_syn_ids_presyn = 92\n",
      "n_valid_syn_ids_postsyn = 1591\n",
      "n_errored_syn_ids_postsyn = 13\n",
      "Synapsse Results:\n",
      "Total Number of Synapses = 1899\n",
      "n_valid_syn_ids_presyn = 27\n",
      "n_errored_syn_ids_presyn = 107\n",
      "n_valid_syn_ids_postsyn = 1756\n",
      "n_errored_syn_ids_postsyn = 9\n",
      "Synapsse Results:\n",
      "Total Number of Synapses = 8418\n",
      "n_valid_syn_ids_presyn = 52\n",
      "n_errored_syn_ids_presyn = 332\n",
      "n_valid_syn_ids_postsyn = 8018\n",
      "n_errored_syn_ids_postsyn = 16\n",
      "Synapsse Results:\n",
      "Total Number of Synapses = 2080\n",
      "n_valid_syn_ids_presyn = 8\n",
      "n_errored_syn_ids_presyn = 42\n",
      "n_valid_syn_ids_postsyn = 2029\n",
      "n_errored_syn_ids_postsyn = 1\n"
     ]
    },
    {
     "name": "stdout",
     "output_type": "stream",
     "text": [
      "Synapsse Results:\n",
      "Total Number of Synapses = 1645\n",
      "n_valid_syn_ids_presyn = 0\n",
      "n_errored_syn_ids_presyn = 108\n",
      "n_valid_syn_ids_postsyn = 1536\n",
      "n_errored_syn_ids_postsyn = 1\n",
      "Synapsse Results:\n",
      "Total Number of Synapses = 4633\n",
      "n_valid_syn_ids_presyn = 72\n",
      "n_errored_syn_ids_presyn = 219\n",
      "n_valid_syn_ids_postsyn = 4328\n",
      "n_errored_syn_ids_postsyn = 14\n",
      "Synapsse Results:\n",
      "Total Number of Synapses = 2383\n",
      "n_valid_syn_ids_presyn = 0\n",
      "n_errored_syn_ids_presyn = 47\n",
      "n_valid_syn_ids_postsyn = 2334\n",
      "n_errored_syn_ids_postsyn = 2\n",
      "Synapsse Results:\n",
      "Total Number of Synapses = 4015\n",
      "n_valid_syn_ids_presyn = 12\n",
      "n_errored_syn_ids_presyn = 109\n",
      "n_valid_syn_ids_postsyn = 3879\n",
      "n_errored_syn_ids_postsyn = 15\n",
      "Synapsse Results:\n",
      "Total Number of Synapses = 1914\n",
      "n_valid_syn_ids_presyn = 3\n",
      "n_errored_syn_ids_presyn = 212\n",
      "n_valid_syn_ids_postsyn = 1528\n",
      "n_errored_syn_ids_postsyn = 171\n",
      "Synapsse Results:\n",
      "Total Number of Synapses = 10012\n",
      "n_valid_syn_ids_presyn = 8\n",
      "n_errored_syn_ids_presyn = 164\n",
      "n_valid_syn_ids_postsyn = 9825\n",
      "n_errored_syn_ids_postsyn = 15\n"
     ]
    }
   ],
   "source": [
    "segment_ids = du.proofreading_stats_table(validation=True).fetch(\"segment_id\")\n",
    "\n",
    "validation_dfs = [vu.synapse_validation_df_single_neuron(k,\n",
    "                                        remove_presyn_on_dendrite = False,\n",
    "                        count_presyn_on_dendrite_as_correct = True,\n",
    "                                                        include_extension_synapse=False) for k in segment_ids]"
   ]
  },
  {
   "cell_type": "code",
   "execution_count": 15,
   "metadata": {},
   "outputs": [
    {
     "data": {
      "text/html": [
       "<div>\n",
       "<style scoped>\n",
       "    .dataframe tbody tr th:only-of-type {\n",
       "        vertical-align: middle;\n",
       "    }\n",
       "\n",
       "    .dataframe tbody tr th {\n",
       "        vertical-align: top;\n",
       "    }\n",
       "\n",
       "    .dataframe thead th {\n",
       "        text-align: right;\n",
       "    }\n",
       "</style>\n",
       "<table border=\"1\" class=\"dataframe\">\n",
       "  <thead>\n",
       "    <tr style=\"text-align: right;\">\n",
       "      <th></th>\n",
       "      <th>synapse_id</th>\n",
       "      <th>synapse_type</th>\n",
       "      <th>auto_valid</th>\n",
       "      <th>synapse_x</th>\n",
       "      <th>synapse_y</th>\n",
       "      <th>synapse_z</th>\n",
       "      <th>manual_valid</th>\n",
       "      <th>category</th>\n",
       "      <th>old_segment_id</th>\n",
       "      <th>new_segment_id</th>\n",
       "      <th>euclidean_distance_to_nuclei</th>\n",
       "    </tr>\n",
       "  </thead>\n",
       "  <tbody>\n",
       "    <tr>\n",
       "      <th>0</th>\n",
       "      <td>343254413</td>\n",
       "      <td>presyn</td>\n",
       "      <td>True</td>\n",
       "      <td>1155616</td>\n",
       "      <td>623184</td>\n",
       "      <td>1106200</td>\n",
       "      <td>True</td>\n",
       "      <td>TP</td>\n",
       "      <td>864691136545546146</td>\n",
       "      <td>864691135700409211</td>\n",
       "      <td>167185.430944</td>\n",
       "    </tr>\n",
       "    <tr>\n",
       "      <th>1</th>\n",
       "      <td>343254632</td>\n",
       "      <td>presyn</td>\n",
       "      <td>True</td>\n",
       "      <td>1156584</td>\n",
       "      <td>624656</td>\n",
       "      <td>1105600</td>\n",
       "      <td>True</td>\n",
       "      <td>TP</td>\n",
       "      <td>864691136545546146</td>\n",
       "      <td>864691135700409211</td>\n",
       "      <td>166078.490552</td>\n",
       "    </tr>\n",
       "    <tr>\n",
       "      <th>2</th>\n",
       "      <td>350190489</td>\n",
       "      <td>presyn</td>\n",
       "      <td>True</td>\n",
       "      <td>1174432</td>\n",
       "      <td>645680</td>\n",
       "      <td>1082000</td>\n",
       "      <td>True</td>\n",
       "      <td>TP</td>\n",
       "      <td>864691136545546146</td>\n",
       "      <td>864691135700409211</td>\n",
       "      <td>138160.483844</td>\n",
       "    </tr>\n",
       "    <tr>\n",
       "      <th>3</th>\n",
       "      <td>352680416</td>\n",
       "      <td>presyn</td>\n",
       "      <td>True</td>\n",
       "      <td>1172128</td>\n",
       "      <td>640256</td>\n",
       "      <td>1088400</td>\n",
       "      <td>True</td>\n",
       "      <td>TP</td>\n",
       "      <td>864691136545546146</td>\n",
       "      <td>864691135700409211</td>\n",
       "      <td>143683.921773</td>\n",
       "    </tr>\n",
       "    <tr>\n",
       "      <th>4</th>\n",
       "      <td>354877614</td>\n",
       "      <td>presyn</td>\n",
       "      <td>True</td>\n",
       "      <td>1166408</td>\n",
       "      <td>631904</td>\n",
       "      <td>1097840</td>\n",
       "      <td>True</td>\n",
       "      <td>TP</td>\n",
       "      <td>864691136545546146</td>\n",
       "      <td>864691135700409211</td>\n",
       "      <td>153885.395278</td>\n",
       "    </tr>\n",
       "    <tr>\n",
       "      <th>...</th>\n",
       "      <td>...</td>\n",
       "      <td>...</td>\n",
       "      <td>...</td>\n",
       "      <td>...</td>\n",
       "      <td>...</td>\n",
       "      <td>...</td>\n",
       "      <td>...</td>\n",
       "      <td>...</td>\n",
       "      <td>...</td>\n",
       "      <td>...</td>\n",
       "      <td>...</td>\n",
       "    </tr>\n",
       "    <tr>\n",
       "      <th>2870</th>\n",
       "      <td>385162788</td>\n",
       "      <td>postsyn</td>\n",
       "      <td>False</td>\n",
       "      <td>1244792</td>\n",
       "      <td>377360</td>\n",
       "      <td>953840</td>\n",
       "      <td>True</td>\n",
       "      <td>FN</td>\n",
       "      <td>864691136545546146</td>\n",
       "      <td>864691135700409211</td>\n",
       "      <td>250647.235644</td>\n",
       "    </tr>\n",
       "    <tr>\n",
       "      <th>2871</th>\n",
       "      <td>385162943</td>\n",
       "      <td>postsyn</td>\n",
       "      <td>False</td>\n",
       "      <td>1245528</td>\n",
       "      <td>379944</td>\n",
       "      <td>952240</td>\n",
       "      <td>True</td>\n",
       "      <td>FN</td>\n",
       "      <td>864691136545546146</td>\n",
       "      <td>864691135700409211</td>\n",
       "      <td>248215.147322</td>\n",
       "    </tr>\n",
       "    <tr>\n",
       "      <th>2872</th>\n",
       "      <td>385163214</td>\n",
       "      <td>postsyn</td>\n",
       "      <td>False</td>\n",
       "      <td>1246568</td>\n",
       "      <td>380248</td>\n",
       "      <td>953720</td>\n",
       "      <td>True</td>\n",
       "      <td>FN</td>\n",
       "      <td>864691136545546146</td>\n",
       "      <td>864691135700409211</td>\n",
       "      <td>247643.262133</td>\n",
       "    </tr>\n",
       "    <tr>\n",
       "      <th>2873</th>\n",
       "      <td>385163449</td>\n",
       "      <td>postsyn</td>\n",
       "      <td>False</td>\n",
       "      <td>1247560</td>\n",
       "      <td>382000</td>\n",
       "      <td>954680</td>\n",
       "      <td>True</td>\n",
       "      <td>FN</td>\n",
       "      <td>864691136545546146</td>\n",
       "      <td>864691135700409211</td>\n",
       "      <td>245712.873737</td>\n",
       "    </tr>\n",
       "    <tr>\n",
       "      <th>2874</th>\n",
       "      <td>385163555</td>\n",
       "      <td>postsyn</td>\n",
       "      <td>False</td>\n",
       "      <td>1247792</td>\n",
       "      <td>379744</td>\n",
       "      <td>953440</td>\n",
       "      <td>True</td>\n",
       "      <td>FN</td>\n",
       "      <td>864691136545546146</td>\n",
       "      <td>864691135700409211</td>\n",
       "      <td>248070.310162</td>\n",
       "    </tr>\n",
       "  </tbody>\n",
       "</table>\n",
       "<p>2875 rows × 11 columns</p>\n",
       "</div>"
      ],
      "text/plain": [
       "      synapse_id synapse_type  auto_valid  synapse_x  synapse_y  synapse_z  \\\n",
       "0      343254413       presyn        True    1155616     623184    1106200   \n",
       "1      343254632       presyn        True    1156584     624656    1105600   \n",
       "2      350190489       presyn        True    1174432     645680    1082000   \n",
       "3      352680416       presyn        True    1172128     640256    1088400   \n",
       "4      354877614       presyn        True    1166408     631904    1097840   \n",
       "...          ...          ...         ...        ...        ...        ...   \n",
       "2870   385162788      postsyn       False    1244792     377360     953840   \n",
       "2871   385162943      postsyn       False    1245528     379944     952240   \n",
       "2872   385163214      postsyn       False    1246568     380248     953720   \n",
       "2873   385163449      postsyn       False    1247560     382000     954680   \n",
       "2874   385163555      postsyn       False    1247792     379744     953440   \n",
       "\n",
       "      manual_valid category      old_segment_id      new_segment_id  \\\n",
       "0             True       TP  864691136545546146  864691135700409211   \n",
       "1             True       TP  864691136545546146  864691135700409211   \n",
       "2             True       TP  864691136545546146  864691135700409211   \n",
       "3             True       TP  864691136545546146  864691135700409211   \n",
       "4             True       TP  864691136545546146  864691135700409211   \n",
       "...            ...      ...                 ...                 ...   \n",
       "2870          True       FN  864691136545546146  864691135700409211   \n",
       "2871          True       FN  864691136545546146  864691135700409211   \n",
       "2872          True       FN  864691136545546146  864691135700409211   \n",
       "2873          True       FN  864691136545546146  864691135700409211   \n",
       "2874          True       FN  864691136545546146  864691135700409211   \n",
       "\n",
       "      euclidean_distance_to_nuclei  \n",
       "0                    167185.430944  \n",
       "1                    166078.490552  \n",
       "2                    138160.483844  \n",
       "3                    143683.921773  \n",
       "4                    153885.395278  \n",
       "...                            ...  \n",
       "2870                 250647.235644  \n",
       "2871                 248215.147322  \n",
       "2872                 247643.262133  \n",
       "2873                 245712.873737  \n",
       "2874                 248070.310162  \n",
       "\n",
       "[2875 rows x 11 columns]"
      ]
     },
     "execution_count": 15,
     "metadata": {},
     "output_type": "execute_result"
    }
   ],
   "source": [
    "curr_validation_df"
   ]
  },
  {
   "cell_type": "code",
   "execution_count": 14,
   "metadata": {},
   "outputs": [
    {
     "name": "stdout",
     "output_type": "stream",
     "text": [
      "Segment_id = 864691136545546146\n"
     ]
    },
    {
     "data": {
      "image/png": "[encoded data removed]",
      "text/plain": [
       "<Figure size 700x400 with 2 Axes>"
      ]
     },
     "metadata": {},
     "output_type": "display_data"
    }
   ],
   "source": [
    "curr_idx = 23\n",
    "segment_id = segment_ids[curr_idx]\n",
    "print(f\"Segment_id = {segment_id}\")\n",
    "curr_validation_df = validation_dfs[curr_idx]\n",
    "vu.synapse_validation_df_to_score_plot(curr_validation_df)"
   ]
  },
  {
   "cell_type": "markdown",
   "metadata": {},
   "source": [
    "# Picking the neuron to visualize"
   ]
  },
  {
   "cell_type": "code",
   "execution_count": 17,
   "metadata": {},
   "outputs": [
    {
     "name": "stdout",
     "output_type": "stream",
     "text": [
      "Working on Neuron: 864691136545546146\n",
      "\n",
      "\n",
      "Synapse Category Results, synapse_type = presyn\n",
      "# of TP = 19\n",
      "# of TN = 1\n",
      "# of FP = 0\n",
      "# of FN = 0\n",
      "No axon skeleton attribute stored in database table\n"
     ]
    },
    {
     "data": {
      "application/vnd.jupyter.widget-view+json": {
       "model_id": "fb780c8233e846ff9997a4de8681beae",
       "version_major": 2,
       "version_minor": 0
      },
      "text/plain": [
       "VBox(children=(Figure(camera=PerspectiveCamera(fov=46.0, position=(0.0, 0.0, 2.0), projectionMatrix=(1.0, 0.0,…"
      ]
     },
     "metadata": {},
     "output_type": "display_data"
    },
    {
     "name": "stdout",
     "output_type": "stream",
     "text": [
      "TP:yellow\n",
      "TN:aqua\n",
      "FP:black\n",
      "FN:orange\n"
     ]
    }
   ],
   "source": [
    "du.plot_proofread_validation_neuron(\n",
    "    segment_id = segment_id,\n",
    "    validation_df=curr_validation_df,\n",
    "    verbose = True,\n",
    "    synapse_type = \"presyn\",\n",
    ")"
   ]
  },
  {
   "cell_type": "markdown",
   "metadata": {},
   "source": [
    "# Checking the neuron proofreading"
   ]
  },
  {
   "cell_type": "code",
   "execution_count": 18,
   "metadata": {},
   "outputs": [
    {
     "data": {
      "text/plain": [
       "864691136545546146"
      ]
     },
     "execution_count": 18,
     "metadata": {},
     "output_type": "execute_result"
    }
   ],
   "source": [
    "segment_id = vu.validation_df_to_old_segment_id(curr_validation_df)\n",
    "segment_id"
   ]
  },
  {
   "cell_type": "code",
   "execution_count": 19,
   "metadata": {},
   "outputs": [
    {
     "name": "stdout",
     "output_type": "stream",
     "text": [
      "Decompressing Neuron in minimal output mode...please wait\n",
      "Pulled from Table Decomposition so setting split_index = 0\n",
      "Dont need spine recalculation\n",
      "Number of Neurons found = 1\n"
     ]
    }
   ],
   "source": [
    "neuron_objs,neuron_split_idxs = du.decomposition_with_spine_recalculation(segment_id)"
   ]
  },
  {
   "cell_type": "code",
   "execution_count": 20,
   "metadata": {},
   "outputs": [
    {
     "data": {
      "text/plain": [
       "864691136545546146"
      ]
     },
     "execution_count": 20,
     "metadata": {},
     "output_type": "execute_result"
    }
   ],
   "source": [
    "neuron_obj = neuron_objs[0]\n",
    "neuron_obj.segment_id"
   ]
  },
  {
   "cell_type": "code",
   "execution_count": 21,
   "metadata": {},
   "outputs": [
    {
     "name": "stdout",
     "output_type": "stream",
     "text": [
      "\n",
      "Part 1: Axon like branchese \n",
      "{'L0': array([5]), 'L4': array([ 0,  1,  2,  3,  4,  5,  6,  7,  8,  9, 10, 11, 12, 13, 14, 15, 16])}\n",
      "Limb L0 soma angle: 11.3 \n",
      "Limb L1 soma angle: 98.86 \n",
      "Limb L2 soma angle: 88.93 \n",
      "Limb L3 soma angle: 140.78 \n",
      "Limb L4 soma angle: 145.22 \n",
      "Limb L5 soma angle: 106.24 \n",
      "\n",
      "Part 2: possible_axon_limbs = [1, 2, 3, 4, 5]\n",
      "\n",
      "Phase 2: Working on Limb L1\n",
      "nodes_to_eliminate = []\n",
      "\n",
      "Phase 2: Working on Limb L2\n",
      "nodes_to_eliminate = [8]\n",
      "\n",
      "Phase 2: Working on Limb L3\n",
      "nodes_to_eliminate = [5 9]\n",
      "\n",
      "Phase 2: Working on Limb L4\n",
      "nodes_to_eliminate = []\n",
      "\n",
      "Phase 2: Working on Limb L5\n",
      "nodes_to_eliminate = []\n",
      "\n",
      "----Working on Limb L1-----\n",
      "No nodes were eliminated so don't need to add back any candidates\n",
      "\n",
      "----Working on Limb L2-----\n",
      "No endpoints were eliminated so don't need to add back any candidates\n",
      "\n",
      "----Working on Limb L3-----\n",
      "No endpoints were eliminated so don't need to add back any candidates\n",
      "\n",
      "----Working on Limb L4-----\n",
      "No nodes were eliminated so don't need to add back any candidates\n",
      "\n",
      "----Working on Limb L5-----\n",
      "No nodes were eliminated so don't need to add back any candidates\n",
      "Final Candidates\n",
      "\n",
      "Limb 1\n",
      "Candidate 0 (cadetblue): array([0, 1, 2, 3, 4, 5, 6, 7, 8, 9])\n",
      "\n",
      "Limb 2\n",
      "Candidate 0 (palegreen): array([0, 2, 3])\n",
      "Candidate 1 (forestgreen): array([1, 4, 5, 6, 7])\n",
      "\n",
      "Limb 3\n",
      "Candidate 0 (green): array([ 2,  6,  7,  8, 10])\n",
      "Candidate 1 (gold): array([0])\n",
      "Candidate 2 (palegreen): array([1, 3, 4])\n",
      "\n",
      "Limb 4\n",
      "Candidate 0 (sandybrown): array([ 0,  1,  2,  3,  4,  5,  6,  7,  8,  9, 10, 11, 12, 13, 14, 15, 16])\n",
      "\n",
      "Limb 5\n",
      "Candidate 0 (pink): array([0])\n",
      "Part 3: axon_subgraph_candidates = {1: [[0, 1, 2, 3, 4, 5, 6, 7, 8, 9]], 2: [[0, 2, 3], [1, 4, 5, 6, 7]], 3: [[2, 6, 7, 8, 10], [0], [1, 3, 4]], 4: [[0, 1, 2, 3, 4, 5, 6, 7, 8, 9, 10, 11, 12, 13, 14, 15, 16]], 5: [[0]]}\n",
      "\n",
      "\n",
      " --- Working on limb 1, candidate # 0\n",
      "0 out of 10 branches are axons\n",
      "Axon percentage = 0.0\n",
      "Not adding candidate no axon branches detected \n",
      "\n",
      "\n",
      " --- Working on limb 2, candidate # 0\n",
      "0 out of 3 branches are axons\n",
      "Axon percentage = 0.0\n",
      "Not adding candidate no axon branches detected \n",
      "\n",
      "\n",
      " --- Working on limb 2, candidate # 1\n",
      "0 out of 5 branches are axons\n",
      "Axon percentage = 0.0\n",
      "Not adding candidate no axon branches detected \n",
      "\n",
      "\n",
      " --- Working on limb 3, candidate # 0\n",
      "0 out of 5 branches are axons\n",
      "Axon percentage = 0.0\n",
      "Not adding candidate no axon branches detected \n",
      "\n",
      "\n",
      " --- Working on limb 3, candidate # 1\n",
      "0 out of 1 branches are axons\n",
      "Axon percentage = 0.0\n",
      "Not adding candidate no axon branches detected \n",
      "\n",
      "\n",
      " --- Working on limb 3, candidate # 2\n",
      "0 out of 3 branches are axons\n",
      "Axon percentage = 0.0\n",
      "Not adding candidate no axon branches detected \n",
      "\n",
      "\n",
      " --- Working on limb 4, candidate # 0\n",
      "17 out of 17 branches are axons\n",
      "Axon percentage = 1.0\n",
      "curr_axon_angle_threshold = 95\n",
      "candidate_nodes = [ 0  1  2  3  4  5  6  7  8  9 10 11 12 13 14 15 16]\n",
      "non_axon_branches_on_subgraph = []\n",
      "endnodes_to_test = [6578]\n",
      "Skeleton paths distances = [24952.31423777]\n",
      "Filtered indexes = [0]\n",
      "len(filtered_skeletons) = 1\n",
      "sk_angles = [163.4172722]\n",
      "candidate_angles,restr_skels = (array([163.4172722]), [array([[[1270177.07276742,  641947.2255244 ,  980252.78044253],\n",
      "        [1270157.4115644 ,  642045.08868996,  980246.76064841]],\n",
      "\n",
      "       [[1270157.4115644 ,  642045.08868996,  980246.76064841],\n",
      "        [1270137.69831696,  642142.92337758,  980240.517007  ]],\n",
      "\n",
      "       [[1270137.69831696,  642142.92337758,  980240.517007  ],\n",
      "        [1270117.22933793,  642240.34454   ,  980231.02290299]],\n",
      "\n",
      "       [[1270117.22933793,  642240.34454   ,  980231.02290299],\n",
      "        [1270096.7603589 ,  642337.76570242,  980221.52879899]],\n",
      "\n",
      "       [[1270096.7603589 ,  642337.76570242,  980221.52879899],\n",
      "        [1270075.89353643,  642434.72352945,  980208.82097747]],\n",
      "\n",
      "       [[1270075.89353643,  642434.72352945,  980208.82097747],\n",
      "        [1270054.94243917,  642531.58320858,  980195.4323972 ]],\n",
      "\n",
      "       [[1270054.94243917,  642531.58320858,  980195.4323972 ],\n",
      "        [1270033.87198264,  642627.9386439 ,  980179.05651638]],\n",
      "\n",
      "       [[1270033.87198264,  642627.9386439 ,  980179.05651638],\n",
      "        [1270012.7561263 ,  642724.10228369,  980161.54437793]],\n",
      "\n",
      "       [[1270012.7561263 ,  642724.10228369,  980161.54437793],\n",
      "        [1269991.72847345,  642819.58879521,  980140.62617704]],\n",
      "\n",
      "       [[1269991.72847345,  642819.58879521,  980140.62617704],\n",
      "        [1269970.7734272 ,  642914.77460833,  980118.30460597]],\n",
      "\n",
      "       [[1269970.7734272 ,  642914.77460833,  980118.30460597],\n",
      "        [1269950.07596269,  643009.21529978,  980092.75914139]],\n",
      "\n",
      "       [[1269950.07596269,  643009.21529978,  980092.75914139],\n",
      "        [1269929.67895665,  643102.95589641,  980064.56792377]],\n",
      "\n",
      "       [[1269929.67895665,  643102.95589641,  980064.56792377],\n",
      "        [1269909.39556156,  643196.01569626,  980034.11770781]],\n",
      "\n",
      "       [[1269909.39556156,  643196.01569626,  980034.11770781],\n",
      "        [1269887.92298832,  643288.33954063,  980002.2772662 ]],\n",
      "\n",
      "       [[1269887.92298832,  643288.33954063,  980002.2772662 ],\n",
      "        [1269860.67487863,  643379.33444037,  979971.15048408]],\n",
      "\n",
      "       [[1269860.67487863,  643379.33444037,  979971.15048408],\n",
      "        [1269825.62817129,  643468.10094478,  979941.42190679]],\n",
      "\n",
      "       [[1269825.62817129,  643468.10094478,  979941.42190679],\n",
      "        [1269784.23947934,  643554.5308171 ,  979912.87546492]],\n",
      "\n",
      "       [[1269784.23947934,  643554.5308171 ,  979912.87546492],\n",
      "        [1269739.22837024,  643639.51710814,  979885.4788018 ]],\n",
      "\n",
      "       [[1269739.22837024,  643639.51710814,  979885.4788018 ],\n",
      "        [1269692.61314247,  643723.99174373,  979859.21403843]],\n",
      "\n",
      "       [[1269692.61314247,  643723.99174373,  979859.21403843],\n",
      "        [1269645.35328089,  643808.37993771,  979833.82814335]],\n",
      "\n",
      "       [[1269645.35328089,  643808.37993771,  979833.82814335],\n",
      "        [1269597.75128413,  643892.95982343,  979809.73887528]],\n",
      "\n",
      "       [[1269597.75128413,  643892.95982343,  979809.73887528],\n",
      "        [1269550.79372352,  643978.22641727,  979786.87140275]],\n",
      "\n",
      "       [[1269550.79372352,  643978.22641727,  979786.87140275],\n",
      "        [1269504.28954839,  644063.97613657,  979764.86351015]],\n",
      "\n",
      "       [[1269504.28954839,  644063.97613657,  979764.86351015],\n",
      "        [1269459.84168139,  644151.20095173,  979744.55171299]],\n",
      "\n",
      "       [[1269459.84168139,  644151.20095173,  979744.55171299],\n",
      "        [1269416.20242719,  644239.00582655,  979724.90688031]],\n",
      "\n",
      "       [[1269416.20242719,  644239.00582655,  979724.90688031],\n",
      "        [1269376.00783246,  644328.80072896,  979707.19019456]],\n",
      "\n",
      "       [[1269376.00783246,  644328.80072896,  979707.19019456],\n",
      "        [1269337.11560196,  644419.34802527,  979690.20250672]],\n",
      "\n",
      "       [[1269337.11560196,  644419.34802527,  979690.20250672],\n",
      "        [1269302.4348266 ,  644511.85502716,  979675.14446758]],\n",
      "\n",
      "       [[1269302.4348266 ,  644511.85502716,  979675.14446758],\n",
      "        [1269269.91033332,  644605.36540624,  979661.07441638]],\n",
      "\n",
      "       [[1269269.91033332,  644605.36540624,  979661.07441638],\n",
      "        [1269241.30089775,  644700.29027564,  979648.64958622]],\n",
      "\n",
      "       [[1269241.30089775,  644700.29027564,  979648.64958622],\n",
      "        [1269215.89479172,  644796.37249162,  979637.57088822]],\n",
      "\n",
      "       [[1269215.89479172,  644796.37249162,  979637.57088822],\n",
      "        [1269193.04685212,  644893.14311075,  979627.5435408 ]],\n",
      "\n",
      "       [[1269193.04685212,  644893.14311075,  979627.5435408 ],\n",
      "        [1269174.25220806,  644991.00447262,  979619.1820094 ]],\n",
      "\n",
      "       [[1269174.25220806,  644991.00447262,  979619.1820094 ],\n",
      "        [1269156.22978098,  645089.01667048,  979611.13610693]],\n",
      "\n",
      "       [[1269156.22978098,  645089.01667048,  979611.13610693],\n",
      "        [1269142.57471656,  645187.88193874,  979604.87528045]],\n",
      "\n",
      "       [[1269142.57471656,  645187.88193874,  979604.87528045],\n",
      "        [1269128.91965213,  645286.74720699,  979598.61445397]],\n",
      "\n",
      "       [[1269128.91965213,  645286.74720699,  979598.61445397],\n",
      "        [1269118.09078873,  645386.01409163,  979593.44000776]],\n",
      "\n",
      "       [[1269118.09078873,  645386.01409163,  979593.44000776],\n",
      "        [1269107.88189434,  645485.36907676,  979588.50387514]],\n",
      "\n",
      "       [[1269107.88189434,  645485.36907676,  979588.50387514],\n",
      "        [1269098.49535229,  645584.81054039,  979583.79764994]],\n",
      "\n",
      "       [[1269098.49535229,  645584.81054039,  979583.79764994],\n",
      "        [1269090.38106221,  645684.38579391,  979579.4471119 ]],\n",
      "\n",
      "       [[1269090.38106221,  645684.38579391,  979579.4471119 ],\n",
      "        [1269082.26677213,  645783.96104744,  979575.09657385]],\n",
      "\n",
      "       [[1269082.26677213,  645783.96104744,  979575.09657385],\n",
      "        [1269075.20579942,  645883.61474389,  979570.72214325]],\n",
      "\n",
      "       [[1269075.20579942,  645883.61474389,  979570.72214325],\n",
      "        [1269068.28430475,  645983.27882759,  979566.34454885]],\n",
      "\n",
      "       [[1269068.28430475,  645983.27882759,  979566.34454885],\n",
      "        [1269061.53284075,  646082.94633358,  979561.79663528]],\n",
      "\n",
      "       [[1269061.53284075,  646082.94633358,  979561.79663528],\n",
      "        [1269055.14082021,  646182.62107428,  979556.88866837]],\n",
      "\n",
      "       [[1269055.14082021,  646182.62107428,  979556.88866837],\n",
      "        [1269048.74879968,  646282.29581499,  979551.98070147]],\n",
      "\n",
      "       [[1269048.74879968,  646282.29581499,  979551.98070147],\n",
      "        [1269042.2111295 ,  646381.92148308,  979546.34225096]],\n",
      "\n",
      "       [[1269042.2111295 ,  646381.92148308,  979546.34225096],\n",
      "        [1269035.62301234,  646481.53015447,  979540.4507913 ]],\n",
      "\n",
      "       [[1269035.62301234,  646481.53015447,  979540.4507913 ],\n",
      "        [1269028.8143348 ,  646581.10581311,  979534.30186033]],\n",
      "\n",
      "       [[1269028.8143348 ,  646581.10581311,  979534.30186033],\n",
      "        [1269021.01572295,  646680.53330162,  979526.99732881]],\n",
      "\n",
      "       [[1269021.01572295,  646680.53330162,  979526.99732881],\n",
      "        [1269013.21711111,  646779.96079014,  979519.69279729]],\n",
      "\n",
      "       [[1269013.21711111,  646779.96079014,  979519.69279729],\n",
      "        [1269003.70923365,  646879.13508696,  979511.21536461]],\n",
      "\n",
      "       [[1269003.70923365,  646879.13508696,  979511.21536461],\n",
      "        [1268993.34219535,  646978.18211722,  979502.14837419]],\n",
      "\n",
      "       [[1268993.34219535,  646978.18211722,  979502.14837419],\n",
      "        [1268982.13583923,  647077.08416396,  979492.69307877]],\n",
      "\n",
      "       [[1268982.13583923,  647077.08416396,  979492.69307877],\n",
      "        [1268967.67269083,  647175.42363339,  979481.73104925]],\n",
      "\n",
      "       [[1268967.67269083,  647175.42363339,  979481.73104925],\n",
      "        [1268953.20954243,  647273.76310282,  979470.76901974]],\n",
      "\n",
      "       [[1268953.20954243,  647273.76310282,  979470.76901974],\n",
      "        [1268934.44021319,  647371.185667  ,  979458.47525207]],\n",
      "\n",
      "       [[1268934.44021319,  647371.185667  ,  979458.47525207],\n",
      "        [1268914.56784191,  647468.37336296,  979445.84035539]],\n",
      "\n",
      "       [[1268914.56784191,  647468.37336296,  979445.84035539],\n",
      "        [1268892.14464593,  647564.89294305,  979432.75342885]],\n",
      "\n",
      "       [[1268892.14464593,  647564.89294305,  979432.75342885],\n",
      "        [1268866.1920247 ,  647660.48809075,  979419.04105531]],\n",
      "\n",
      "       [[1268866.1920247 ,  647660.48809075,  979419.04105531],\n",
      "        [1268839.95534346,  647755.99470848,  979405.31630167]],\n",
      "\n",
      "       [[1268839.95534346,  647755.99470848,  979405.31630167],\n",
      "        [1268808.10137722,  647849.75064665,  979391.34673146]],\n",
      "\n",
      "       [[1268808.10137722,  647849.75064665,  979391.34673146],\n",
      "        [1268776.24741099,  647943.50658483,  979377.37716125]],\n",
      "\n",
      "       [[1268776.24741099,  647943.50658483,  979377.37716125],\n",
      "        [1268741.10342037,  648036.10127492,  979363.78538312]],\n",
      "\n",
      "       [[1268741.10342037,  648036.10127492,  979363.78538312],\n",
      "        [1268704.25321028,  648128.09373722,  979350.38952945]],\n",
      "\n",
      "       [[1268704.25321028,  648128.09373722,  979350.38952945],\n",
      "        [1268666.51937847,  648219.75471642,  979337.30066901]],\n",
      "\n",
      "       [[1268666.51937847,  648219.75471642,  979337.30066901],\n",
      "        [1268626.00026805,  648310.37082227,  979325.17948701]],\n",
      "\n",
      "       [[1268626.00026805,  648310.37082227,  979325.17948701],\n",
      "        [1268585.48115764,  648400.98692811,  979313.05830501]],\n",
      "\n",
      "       [[1268585.48115764,  648400.98692811,  979313.05830501],\n",
      "        [1268543.20258779,  648490.97221116,  979302.39075885]],\n",
      "\n",
      "       [[1268543.20258779,  648490.97221116,  979302.39075885],\n",
      "        [1268500.49257824,  648580.80280919,  979292.07966094]],\n",
      "\n",
      "       [[1268500.49257824,  648580.80280919,  979292.07966094],\n",
      "        [1268457.51739218,  648670.58871116,  979282.5721569 ]],\n",
      "\n",
      "       [[1268457.51739218,  648670.58871116,  979282.5721569 ],\n",
      "        [1268414.08704002,  648760.29789391,  979274.44399338]],\n",
      "\n",
      "       [[1268414.08704002,  648760.29789391,  979274.44399338],\n",
      "        [1268370.65668785,  648850.00707665,  979266.31582987]],\n",
      "\n",
      "       [[1268370.65668785,  648850.00707665,  979266.31582987],\n",
      "        [1268327.86331101,  648940.19795051,  979260.47370783]],\n",
      "\n",
      "       [[1268327.86331101,  648940.19795051,  979260.47370783],\n",
      "        [1268285.09196215,  649030.40548229,  979254.71064206]],\n",
      "\n",
      "       [[1268285.09196215,  649030.40548229,  979254.71064206],\n",
      "        [1268243.48959982,  649121.22528265,  979250.37932973]],\n",
      "\n",
      "       [[1268243.48959982,  649121.22528265,  979250.37932973],\n",
      "        [1268202.58007417,  649212.40796325,  979246.89659117]],\n",
      "\n",
      "       [[1268202.58007417,  649212.40796325,  979246.89659117],\n",
      "        [1268162.69681999,  649304.05183125,  979244.10376414]],\n",
      "\n",
      "       [[1268162.69681999,  649304.05183125,  979244.10376414],\n",
      "        [1268124.53841535,  649396.47081469,  979242.47046814]],\n",
      "\n",
      "       [[1268124.53841535,  649396.47081469,  979242.47046814],\n",
      "        [1268087.04821398,  649489.15513233,  979241.06427996]],\n",
      "\n",
      "       [[1268087.04821398,  649489.15513233,  979241.06427996],\n",
      "        [1268052.05544851,  649582.83114692,  979240.50691615]],\n",
      "\n",
      "       [[1268052.05544851,  649582.83114692,  979240.50691615],\n",
      "        [1268017.4880023 ,  649676.65835609,  979239.9646891 ]],\n",
      "\n",
      "       [[1268017.4880023 ,  649676.65835609,  979239.9646891 ],\n",
      "        [1267985.5320185 ,  649771.41390074,  979239.51540173]],\n",
      "\n",
      "       [[1267985.5320185 ,  649771.41390074,  979239.51540173],\n",
      "        [1267953.95488325,  649866.29062434,  979238.9452644 ]],\n",
      "\n",
      "       [[1267953.95488325,  649866.29062434,  979238.9452644 ],\n",
      "        [1267924.49716157,  649961.84526621,  979237.6990494 ]],\n",
      "\n",
      "       [[1267924.49716157,  649961.84526621,  979237.6990494 ],\n",
      "        [1267895.47612549,  650057.52325604,  979236.12287548]],\n",
      "\n",
      "       [[1267895.47612549,  650057.52325604,  979236.12287548],\n",
      "        [1267867.86649354,  650153.59991678,  979233.48024694]],\n",
      "\n",
      "       [[1267867.86649354,  650153.59991678,  979233.48024694],\n",
      "        [1267840.78521607,  650249.80288916,  979230.2334977 ]],\n",
      "\n",
      "       [[1267840.78521607,  650249.80288916,  979230.2334977 ],\n",
      "        [1267814.54531604,  650346.20700636,  979226.02471721]],\n",
      "\n",
      "       [[1267814.54531604,  650346.20700636,  979226.02471721],\n",
      "        [1267789.0007592 ,  650442.75674965,  979221.0390247 ]],\n",
      "\n",
      "       [[1267789.0007592 ,  650442.75674965,  979221.0390247 ],\n",
      "        [1267763.93650838,  650539.40708369,  979215.51668275]],\n",
      "\n",
      "       [[1267763.93650838,  650539.40708369,  979215.51668275],\n",
      "        [1267739.87565221,  650636.27325669,  979209.37295685]],\n",
      "\n",
      "       [[1267739.87565221,  650636.27325669,  979209.37295685],\n",
      "        [1267716.14445486,  650733.21360904,  979203.10952524]],\n",
      "\n",
      "       [[1267716.14445486,  650733.21360904,  979203.10952524],\n",
      "        [1267693.55996846,  650830.42769299,  979196.83554276]],\n",
      "\n",
      "       [[1267693.55996846,  650830.42769299,  979196.83554276],\n",
      "        [1267671.46880834,  650927.76750912,  979190.80430615]],\n",
      "\n",
      "       [[1267671.46880834,  650927.76750912,  979190.80430615],\n",
      "        [1267650.25390548,  651025.33065359,  979185.20424023]],\n",
      "\n",
      "       [[1267650.25390548,  651025.33065359,  979185.20424023],\n",
      "        [1267629.85727364,  651123.09883269,  979180.25960765]],\n",
      "\n",
      "       [[1267629.85727364,  651123.09883269,  979180.25960765],\n",
      "        [1267610.11397803,  651221.03071862,  979175.83829599]],\n",
      "\n",
      "       [[1267610.11397803,  651221.03071862,  979175.83829599],\n",
      "        [1267591.4431986 ,  651319.20633628,  979172.40172885]],\n",
      "\n",
      "       [[1267591.4431986 ,  651319.20633628,  979172.40172885],\n",
      "        [1267573.33347472,  651417.50945508,  979169.48030208]]])])\n"
     ]
    },
    {
     "name": "stdout",
     "output_type": "stream",
     "text": [
      "base_final_widths = [ 71.2684394  176.65866322 201.47105814]\n",
      "overall_ais_width = 163.96293997712442\n",
      "ais_width = 149.79938691820925\n",
      "Adding the following branches as true axons: [ 0.  1.  2.  3.  4.  5.  6.  7.  8.  9. 10. 11. 12. 13. 14. 15. 16.]\n",
      "curr_soma_angle = 145.22\n",
      "max_axon_angle = 163.4172722030586\n",
      "Changing to a better axon candidate\n",
      "\n",
      "\n",
      " --- Working on limb 5, candidate # 0\n",
      "0 out of 1 branches are axons\n",
      "Axon percentage = 0.0\n",
      "Not adding candidate no axon branches detected \n",
      "Using the best axon approach\n",
      "Using True\n",
      "Limb L4: Axon branches before dendritic path filter = [ 0.  1.  2.  3.  4.  5.  6.  7.  8.  9. 10. 11. 12. 13. 14. 15. 16.]\n",
      "Limb L4: Axon branches AFTER dendritic path filter = [ 0.  1.  2.  3.  4.  5.  6.  7.  8.  9. 10. 11. 12. 13. 14. 15. 16.]\n",
      "\n",
      "\n",
      "Part 4: final_true_axons = {'L4': array([ 0.,  1.,  2.,  3.,  4.,  5.,  6.,  7.,  8.,  9., 10., 11., 12.,\n",
      "       13., 14., 15., 16.])}\n",
      "\n",
      " Working on visualization type: mesh\n"
     ]
    },
    {
     "data": {
      "application/vnd.jupyter.widget-view+json": {
       "model_id": "b039233b35c94394aef4ecd13f81aea8",
       "version_major": 2,
       "version_minor": 0
      },
      "text/plain": [
       "VBox(children=(Figure(camera=PerspectiveCamera(fov=46.0, position=(0.0, 0.0, 2.0), projectionMatrix=(1.0, 0.0,…"
      ]
     },
     "metadata": {},
     "output_type": "display_data"
    },
    {
     "data": {
      "text/plain": [
       "({'L4': array([ 0.,  1.,  2.,  3.,  4.,  5.,  6.,  7.,  8.,  9., 10., 11., 12.,\n",
       "         13., 14., 15., 16.])},\n",
       " {'L0': array([5])})"
      ]
     },
     "execution_count": 21,
     "metadata": {},
     "output_type": "execute_result"
    }
   ],
   "source": [
    "clu.axon_classification(neuron_obj,\n",
    "                       plot_axons=True)"
   ]
  },
  {
   "cell_type": "code",
   "execution_count": 23,
   "metadata": {
    "scrolled": false
   },
   "outputs": [
    {
     "name": "stdout",
     "output_type": "stream",
     "text": [
      "\n",
      " Working on visualization type: mesh\n",
      "\n",
      " Working on visualization type: skeleton\n"
     ]
    },
    {
     "data": {
      "application/vnd.jupyter.widget-view+json": {
       "model_id": "daca2fc58dd34ba9ba6666f53601e64f",
       "version_major": 2,
       "version_minor": 0
      },
      "text/plain": [
       "VBox(children=(Figure(camera=PerspectiveCamera(fov=46.0, position=(0.0, 0.0, 2.0), projectionMatrix=(1.0, 0.0,…"
      ]
     },
     "metadata": {},
     "output_type": "display_data"
    }
   ],
   "source": [
    "nviz.plot_axon(neuron_obj,skeleton = True)"
   ]
  },
  {
   "cell_type": "markdown",
   "metadata": {},
   "source": [
    "# Filtering Dendrite on Axon then recomputing High Fidelity Axon"
   ]
  },
  {
   "cell_type": "code",
   "execution_count": 373,
   "metadata": {},
   "outputs": [
    {
     "name": "stdout",
     "output_type": "stream",
     "text": [
      "\n",
      "--- Working on filter 0:\n",
      "function = dendrite_on_axon_merges\n",
      "function __name__ = filter_away_dendrite_on_axon_merges\n",
      "function arguments = {'use_pre_existing_axon_labels': True}\n",
      "\n",
      "\n",
      "\n",
      "\n",
      "\n",
      " ---- Total time for applying filter: 1.5394892692565918 -----\n"
     ]
    }
   ],
   "source": [
    "plot_limb_branch_filter_with_disconnect_effect = False\n",
    "verbose = False\n",
    "verbose_outline = True\n",
    "\n",
    "pre_filters = pru.get_exc_filters_high_fidelity_axon_preprocessing()\n",
    "o_neuron_pre, filtering_info_pre = pru.apply_proofreading_filters_to_neuron(input_neuron = neuron_obj,\n",
    "                                        filter_list = pre_filters,\n",
    "                    plot_limb_branch_filter_with_disconnect_effect=plot_limb_branch_filter_with_disconnect_effect,\n",
    "                                        plot_limb_branch_filter_away=False,\n",
    "                                        plot_final_neuron=False,\n",
    "\n",
    "                                        return_error_info=True,\n",
    "                                         verbose=verbose,\n",
    "                                        verbose_outline=verbose_outline)"
   ]
  },
  {
   "cell_type": "code",
   "execution_count": 374,
   "metadata": {
    "scrolled": true
   },
   "outputs": [
    {
     "name": "stdout",
     "output_type": "stream",
     "text": [
      "Starting axon branch was the starting node so using border vertices and NOT computing upstream branch\n",
      "upstream_node_to_axon_starting_branch = None\n"
     ]
    },
    {
     "name": "stderr",
     "output_type": "stream",
     "text": [
      "\r",
      "  0%|          | 0/1 [00:00<?, ?it/s]"
     ]
    },
    {
     "name": "stdout",
     "output_type": "stream",
     "text": [
      "root_curr = [1272394.   632033.6  980102.4]\n",
      "Time for preparing soma vertices and root: 0.0004725456237792969\n",
      "invalidation_d = 2000\n",
      "cc_vertex_thresh = 10\n"
     ]
    },
    {
     "data": {
      "application/vnd.jupyter.widget-view+json": {
       "model_id": "ac4b21f09b444242819bf7534ee3169a",
       "version_major": 2,
       "version_minor": 0
      },
      "text/plain": [
       "  0%|          | 0/40101 [00:00<?, ?it/s]"
      ]
     },
     "metadata": {},
     "output_type": "display_data"
    },
    {
     "name": "stderr",
     "output_type": "stream",
     "text": [
      "100%|██████████| 1/1 [00:00<00:00,  2.12it/s]\n"
     ]
    },
    {
     "name": "stdout",
     "output_type": "stream",
     "text": [
      "meshparty_segment_size = 100\n",
      "Time for 1st pass MP skeletonization: 0.9762043952941895\n",
      "branches_touching_root = [5]\n",
      "combining close nodes\n",
      "combine_threshold = 1300\n",
      "length of Graph = 8917\n",
      "After combining close endpoints max(kept_branches_idx) = 30, len(kept_branches_idx) = 31\n",
      "empty_indices % = 0.0\n",
      " conflict_indices % = 0.009127674759287316\n"
     ]
    },
    {
     "data": {
      "application/vnd.jupyter.widget-view+json": {
       "model_id": "d4ec45eabc2e451a816f9d7368501b38",
       "version_major": 2,
       "version_minor": 0
      },
      "text/plain": [
       "  0%|          | 0/15 [00:00<?, ?it/s]"
      ]
     },
     "metadata": {},
     "output_type": "display_data"
    },
    {
     "name": "stdout",
     "output_type": "stream",
     "text": [
      "AFTER face_lookup_resolved_test\n"
     ]
    },
    {
     "data": {
      "application/vnd.jupyter.widget-view+json": {
       "model_id": "a1273872ffe74ff1bbfd7eece60c5418",
       "version_major": 2,
       "version_minor": 0
      },
      "text/plain": [
       "  0%|          | 0/31 [00:00<?, ?it/s]"
      ]
     },
     "metadata": {},
     "output_type": "display_data"
    },
    {
     "name": "stdout",
     "output_type": "stream",
     "text": [
      "Decomposing first pass: 5.926814556121826\n",
      "Only Using MeshParty Skeletonization and Mesh Correspondence\n",
      "Another print\n",
      "Divinding into MP and MAP pieces: 3.910064697265625e-05\n",
      "Total time for MAP sublimb processing 4.0531158447265625e-06\n",
      "---- Working on MP Decomposition #0 ----\n",
      "Using Quicker soma_to_piece_touching_vertices because no MAP and only one sublimb_mesh piece \n",
      "MP filtering soma verts: 0.0010612010955810547\n",
      "Fixing Possible Soma Extension Branch for Sublimb 0\n",
      "Total time for mesh KDTree = 0.050627946853637695\n",
      "sbv[0].reshape(-1,3) = [[1272394.   632033.6  980102.4]]\n",
      "closest_sk_pt_coord BEFORE = [1272753.70534828  632356.19846315  980489.44992463]\n",
      "current_skeleton.shape = (452, 2, 3)\n",
      "node_for_stitch = 452: [1272753.70534828  632356.19846315  980489.44992463]\n",
      "node_for_stitch AFTER = 452: [1272753.70534828  632356.19846315  980489.44992463]\n",
      "possible_node_loc = [450 452]\n",
      "possible_node_loc AFTER = [450 452]\n",
      "curr_shortest_path = [452]\n",
      "Current stitch point was a branch or endpoint\n",
      "change_status for create soma extending pieces = False\n",
      "closest_sk_pt_coord AFTER = [1272753.70534828  632356.19846315  980489.44992463]\n",
      "skipping soma 0 because closest skeleton node was already end node\n",
      "endpoints_must_keep = {0: array([[1272753.70534828,  632356.19846315,  980489.44992463]])}\n",
      "match_sk_branches = [5]\n",
      "The new branch info was none so skipping \n",
      "\n",
      "No soma extending branch was added for this sublimb even though it had a soma border (means they already existed)\n",
      "MP (because soma touching verts) soma extension add: 0.6448187828063965\n",
      "There were not both MAP and MP pieces so skipping the stitch resolving phase\n",
      "Time for decomp of Limb = 7.825667142868042\n",
      "Number of matching vertices = 17\n",
      "Only one endpoint after filtering away the endpoints that are not on the skeleton\n",
      "Using Distance measure skeletal_distance\n",
      "endpoints_must_keep = [[1272753.70534828  632356.19846315  980489.44992463]]\n",
      "Number of end_nodes BEFORE filtering = 17\n",
      "all_single_nodes_to_eliminate = [11]\n"
     ]
    },
    {
     "data": {
      "application/vnd.jupyter.widget-view+json": {
       "model_id": "4e67fdc70aa24f8985318bba8c2a7b35",
       "version_major": 2,
       "version_minor": 0
      },
      "text/plain": [
       "  0%|          | 0/1 [00:00<?, ?it/s]"
      ]
     },
     "metadata": {},
     "output_type": "display_data"
    },
    {
     "name": "stdout",
     "output_type": "stream",
     "text": [
      "Removed 1 skeletal branches\n"
     ]
    },
    {
     "data": {
      "application/vnd.jupyter.widget-view+json": {
       "model_id": "9ec6c069dc2c4c9290fdd99ed2a2b154",
       "version_major": 2,
       "version_minor": 0
      },
      "text/plain": [
       "  0%|          | 0/31 [00:00<?, ?it/s]"
      ]
     },
     "metadata": {},
     "output_type": "display_data"
    },
    {
     "name": "stdout",
     "output_type": "stream",
     "text": [
      "79866 79867\n",
      "For marked faces: None\n",
      "empty_indices % = 0.0\n",
      " conflict_indices % = 0.0\n"
     ]
    },
    {
     "data": {
      "application/vnd.jupyter.widget-view+json": {
       "model_id": "235a46f22dd24147a127877280986e8b",
       "version_major": 2,
       "version_minor": 0
      },
      "text/plain": [
       "0it [00:00, ?it/s]"
      ]
     },
     "metadata": {},
     "output_type": "display_data"
    },
    {
     "name": "stdout",
     "output_type": "stream",
     "text": [
      "AFTER face_lookup_resolved_test\n"
     ]
    },
    {
     "data": {
      "application/vnd.jupyter.widget-view+json": {
       "model_id": "a5446c8576054703b9496e2ed94a0264",
       "version_major": 2,
       "version_minor": 0
      },
      "text/plain": [
       "  0%|          | 0/29 [00:00<?, ?it/s]"
      ]
     },
     "metadata": {},
     "output_type": "display_data"
    },
    {
     "name": "stdout",
     "output_type": "stream",
     "text": [
      "Limb Correspondence before stitching = 29\n",
      "Limb Correspondence AFTER stitching = 29\n",
      "Upstream node was None so don't have to adjust\n",
      "concept_network_dict = {0: [<networkx_utils.GraphOrderedEdges object at 0x7fe8970d9550>]}\n",
      "\n",
      "\n",
      "----Working on seperate_graph 0----\n",
      "\n",
      "\n",
      "---------Working on soma_idx = 0, soma_group_idx 0, endpt = [1272753.70534828  632356.19846315  980489.44992463]---------\n",
      "Starting_edge inside branches_to_conept = [[1272741.7341808   674594.74403301  982583.25549652]\n",
      " [1272753.70534828  632356.19846315  980489.44992463]]\n",
      "At the start, starting_node (in terms of the skeleton, that shouldn't match the starting edge) = [20]\n",
      "printing out current edge:\n",
      "[[1272753.70534828  632356.19846315  980489.44992463]\n",
      " [1272741.7341808   674594.74403301  982583.25549652]]\n",
      "edge_endpoints_to_process was empty so exiting loop after 29 iterations\n",
      "starting_node in concept map (that should match the starting edge) = 18\n",
      "Total time for branches to concept conversion = 0.6349184513092041\n",
      "\n",
      "Done generating concept network \n",
      "\n",
      "\n"
     ]
    }
   ],
   "source": [
    "# Getting the high fidelity axon\n",
    "neuron_obj_high_fid_axon = pru.refine_axon_for_high_fidelity_skeleton(o_neuron_pre)"
   ]
  },
  {
   "cell_type": "code",
   "execution_count": 375,
   "metadata": {},
   "outputs": [
    {
     "name": "stdout",
     "output_type": "stream",
     "text": [
      "\n",
      " Working on visualization type: mesh\n",
      "\n",
      " Working on visualization type: skeleton\n"
     ]
    },
    {
     "data": {
      "application/vnd.jupyter.widget-view+json": {
       "model_id": "0d980ca59e1540848a4d6668da0f8111",
       "version_major": 2,
       "version_minor": 0
      },
      "text/plain": [
       "VBox(children=(Figure(camera=PerspectiveCamera(fov=46.0, position=(0.0, 0.0, 2.0), projectionMatrix=(1.0, 0.0,…"
      ]
     },
     "metadata": {},
     "output_type": "display_data"
    }
   ],
   "source": [
    "nviz.plot_axon(neuron_obj_high_fid_axon)"
   ]
  },
  {
   "cell_type": "markdown",
   "metadata": {},
   "source": [
    "# Computing the Boutons of the Axon"
   ]
  },
  {
   "cell_type": "code",
   "execution_count": 440,
   "metadata": {},
   "outputs": [
    {
     "data": {
      "application/vnd.jupyter.widget-view+json": {
       "model_id": "312573430950408db4a3c84a2f2d560a",
       "version_major": 2,
       "version_minor": 0
      },
      "text/plain": [
       "  0%|          | 0/21 [00:00<?, ?it/s]"
      ]
     },
     "metadata": {},
     "output_type": "display_data"
    },
    {
     "data": {
      "application/vnd.jupyter.widget-view+json": {
       "model_id": "9e0eb2ce111246df9751e662c7e41775",
       "version_major": 2,
       "version_minor": 0
      },
      "text/plain": [
       "  0%|          | 0/75 [00:00<?, ?it/s]"
      ]
     },
     "metadata": {},
     "output_type": "display_data"
    },
    {
     "data": {
      "application/vnd.jupyter.widget-view+json": {
       "model_id": "cfb327f2a44f4e88ac32e74723bc68a8",
       "version_major": 2,
       "version_minor": 0
      },
      "text/plain": [
       "  0%|          | 0/9 [00:00<?, ?it/s]"
      ]
     },
     "metadata": {},
     "output_type": "display_data"
    },
    {
     "data": {
      "application/vnd.jupyter.widget-view+json": {
       "model_id": "b241697be9b44d64bea089fce13be1dd",
       "version_major": 2,
       "version_minor": 0
      },
      "text/plain": [
       "  0%|          | 0/7 [00:00<?, ?it/s]"
      ]
     },
     "metadata": {},
     "output_type": "display_data"
    },
    {
     "data": {
      "application/vnd.jupyter.widget-view+json": {
       "model_id": "ea54ed9ae42c46549f9b12460bdae707",
       "version_major": 2,
       "version_minor": 0
      },
      "text/plain": [
       "  0%|          | 0/4 [00:00<?, ?it/s]"
      ]
     },
     "metadata": {},
     "output_type": "display_data"
    },
    {
     "data": {
      "application/vnd.jupyter.widget-view+json": {
       "model_id": "858f0861ead547608d929dcc0754a337",
       "version_major": 2,
       "version_minor": 0
      },
      "text/plain": [
       "  0%|          | 0/44 [00:00<?, ?it/s]"
      ]
     },
     "metadata": {},
     "output_type": "display_data"
    },
    {
     "data": {
      "application/vnd.jupyter.widget-view+json": {
       "model_id": "bcf463a206e74802949e5024c2746e32",
       "version_major": 2,
       "version_minor": 0
      },
      "text/plain": [
       "  0%|          | 0/8 [00:00<?, ?it/s]"
      ]
     },
     "metadata": {},
     "output_type": "display_data"
    },
    {
     "data": {
      "application/vnd.jupyter.widget-view+json": {
       "model_id": "0502e1aedbb74acbb7919721cfcd2d9a",
       "version_major": 2,
       "version_minor": 0
      },
      "text/plain": [
       "  0%|          | 0/12 [00:00<?, ?it/s]"
      ]
     },
     "metadata": {},
     "output_type": "display_data"
    },
    {
     "data": {
      "application/vnd.jupyter.widget-view+json": {
       "model_id": "0ac0c048441b4242800ac69834cd7496",
       "version_major": 2,
       "version_minor": 0
      },
      "text/plain": [
       "  0%|          | 0/10 [00:00<?, ?it/s]"
      ]
     },
     "metadata": {},
     "output_type": "display_data"
    },
    {
     "data": {
      "application/vnd.jupyter.widget-view+json": {
       "model_id": "97c653b347da4ca09afa86291eb625d7",
       "version_major": 2,
       "version_minor": 0
      },
      "text/plain": [
       "  0%|          | 0/7 [00:00<?, ?it/s]"
      ]
     },
     "metadata": {},
     "output_type": "display_data"
    },
    {
     "data": {
      "application/vnd.jupyter.widget-view+json": {
       "model_id": "c15b5dec1af74f4690fcd72c0462e405",
       "version_major": 2,
       "version_minor": 0
      },
      "text/plain": [
       "  0%|          | 0/6 [00:00<?, ?it/s]"
      ]
     },
     "metadata": {},
     "output_type": "display_data"
    },
    {
     "data": {
      "application/vnd.jupyter.widget-view+json": {
       "model_id": "d5a7310519164a9699d1a1ac59cd3d17",
       "version_major": 2,
       "version_minor": 0
      },
      "text/plain": [
       "  0%|          | 0/9 [00:00<?, ?it/s]"
      ]
     },
     "metadata": {},
     "output_type": "display_data"
    },
    {
     "data": {
      "application/vnd.jupyter.widget-view+json": {
       "model_id": "8f67f086c64042ab82b2b5ddb84c2d46",
       "version_major": 2,
       "version_minor": 0
      },
      "text/plain": [
       "  0%|          | 0/13 [00:00<?, ?it/s]"
      ]
     },
     "metadata": {},
     "output_type": "display_data"
    },
    {
     "data": {
      "application/vnd.jupyter.widget-view+json": {
       "model_id": "e3fe756070dd491e9b16c50ac4ce047f",
       "version_major": 2,
       "version_minor": 0
      },
      "text/plain": [
       "  0%|          | 0/14 [00:00<?, ?it/s]"
      ]
     },
     "metadata": {},
     "output_type": "display_data"
    },
    {
     "data": {
      "application/vnd.jupyter.widget-view+json": {
       "model_id": "6aa54dab1361437cb9d66de8c947541e",
       "version_major": 2,
       "version_minor": 0
      },
      "text/plain": [
       "  0%|          | 0/17 [00:00<?, ?it/s]"
      ]
     },
     "metadata": {},
     "output_type": "display_data"
    },
    {
     "data": {
      "application/vnd.jupyter.widget-view+json": {
       "model_id": "ad33bb66d9dd494796e9809c650a246a",
       "version_major": 2,
       "version_minor": 0
      },
      "text/plain": [
       "  0%|          | 0/9 [00:00<?, ?it/s]"
      ]
     },
     "metadata": {},
     "output_type": "display_data"
    },
    {
     "data": {
      "application/vnd.jupyter.widget-view+json": {
       "model_id": "0633c500c47f4456be6c37b76d08f63c",
       "version_major": 2,
       "version_minor": 0
      },
      "text/plain": [
       "  0%|          | 0/6 [00:00<?, ?it/s]"
      ]
     },
     "metadata": {},
     "output_type": "display_data"
    },
    {
     "data": {
      "application/vnd.jupyter.widget-view+json": {
       "model_id": "33aee493412b49b09dc901e68d28ca59",
       "version_major": 2,
       "version_minor": 0
      },
      "text/plain": [
       "  0%|          | 0/4 [00:00<?, ?it/s]"
      ]
     },
     "metadata": {},
     "output_type": "display_data"
    },
    {
     "data": {
      "application/vnd.jupyter.widget-view+json": {
       "model_id": "792ebd8d04024d9ebc15281ab567dd9f",
       "version_major": 2,
       "version_minor": 0
      },
      "text/plain": [
       "  0%|          | 0/6 [00:00<?, ?it/s]"
      ]
     },
     "metadata": {},
     "output_type": "display_data"
    },
    {
     "data": {
      "application/vnd.jupyter.widget-view+json": {
       "model_id": "ccae376cc8484812a0ae7e2c3e396b02",
       "version_major": 2,
       "version_minor": 0
      },
      "text/plain": [
       "  0%|          | 0/4 [00:00<?, ?it/s]"
      ]
     },
     "metadata": {},
     "output_type": "display_data"
    },
    {
     "data": {
      "application/vnd.jupyter.widget-view+json": {
       "model_id": "e6d51079aca54994848969bc956f1d26",
       "version_major": 2,
       "version_minor": 0
      },
      "text/plain": [
       "  0%|          | 0/14 [00:00<?, ?it/s]"
      ]
     },
     "metadata": {},
     "output_type": "display_data"
    },
    {
     "data": {
      "application/vnd.jupyter.widget-view+json": {
       "model_id": "39e2bd50a4ed4ac4b084e51b592a79a7",
       "version_major": 2,
       "version_minor": 0
      },
      "text/plain": [
       "  0%|          | 0/8 [00:00<?, ?it/s]"
      ]
     },
     "metadata": {},
     "output_type": "display_data"
    },
    {
     "name": "stdout",
     "output_type": "stream",
     "text": [
      "\n",
      " Working on visualization type: mesh\n",
      "\n",
      " Working on visualization type: skeleton\n"
     ]
    },
    {
     "data": {
      "application/vnd.jupyter.widget-view+json": {
       "model_id": "ae6d95e4030e48da84838911119098b0",
       "version_major": 2,
       "version_minor": 0
      },
      "text/plain": [
       "VBox(children=(Figure(camera=PerspectiveCamera(fov=46.0, position=(0.0, 0.0, 2.0), projectionMatrix=(1.0, 0.0,…"
      ]
     },
     "metadata": {},
     "output_type": "display_data"
    }
   ],
   "source": [
    "import axon_utils as au\n",
    "neuron_obj_with_boutons = au.calculate_boutons(#parameters for run\n",
    "neuron_obj = neuron_obj_high_fid_axon,\n",
    "plot_axon_branches_to_check = False,\n",
    "plot_boutons = True,\n",
    "verbose = False,\n",
    ")\n"
   ]
  },
  {
   "cell_type": "markdown",
   "metadata": {},
   "source": [
    "# Computing the Webbing"
   ]
  },
  {
   "cell_type": "code",
   "execution_count": 444,
   "metadata": {
    "scrolled": true
   },
   "outputs": [
    {
     "name": "stdout",
     "output_type": "stream",
     "text": [
      "branches_to_check_for_webbing = [ 3  5  6  8 11 12 13 18 19 20 21 22 25 27]\n",
      "\n",
      " -- Working on Node 0: Branch 3\n",
      "Upstream Node (red), Downstream Nodes (aqua)\n"
     ]
    },
    {
     "data": {
      "application/vnd.jupyter.widget-view+json": {
       "model_id": "233d7a229e494ac08a5699d433a37b16",
       "version_major": 2,
       "version_minor": 0
      },
      "text/plain": [
       "VBox(children=(Figure(camera=PerspectiveCamera(fov=46.0, position=(0.0, 0.0, 2.0), projectionMatrix=(1.0, 0.0,…"
      ]
     },
     "metadata": {},
     "output_type": "display_data"
    },
    {
     "name": "stdout",
     "output_type": "stream",
     "text": [
      "Upstream Node (red), Downstream Nodes (aqua)\n"
     ]
    },
    {
     "data": {
      "application/vnd.jupyter.widget-view+json": {
       "model_id": "d6aa57684e434c5f8058f316acdb32e6",
       "version_major": 2,
       "version_minor": 0
      },
      "text/plain": [
       "VBox(children=(Figure(camera=PerspectiveCamera(fov=46.0, position=(0.0, 0.0, 2.0), projectionMatrix=(1.0, 0.0,…"
      ]
     },
     "metadata": {},
     "output_type": "display_data"
    },
    {
     "name": "stdout",
     "output_type": "stream",
     "text": [
      "joining_endpoint_1 = [1216461.20063894  683082.30315186 1029657.5916486 ]\n",
      "coordinates_of_intersection = [array([1216382.96411963,  683510.26719732, 1029903.90002271]), array([1216563.00600507,  682804.31262984, 1030059.52295796]), array([1216486.16871561,  682848.22785324, 1029216.50932277])]\n",
      "Mesh Split with significance_threshold = 20\n"
     ]
    },
    {
     "data": {
      "application/vnd.jupyter.widget-view+json": {
       "model_id": "8df5f20fe68c48a6a65da6aa84a3cdbd",
       "version_major": 2,
       "version_minor": 0
      },
      "text/plain": [
       "VBox(children=(Figure(camera=PerspectiveCamera(fov=46.0, position=(0.0, 0.0, 2.0), projectionMatrix=(1.0, 0.0,…"
      ]
     },
     "metadata": {},
     "output_type": "display_data"
    },
    {
     "data": {
      "application/vnd.jupyter.widget-view+json": {
       "model_id": "3b4f4d1b8fee47d7a76fe60110551710",
       "version_major": 2,
       "version_minor": 0
      },
      "text/plain": [
       "VBox(children=(Figure(camera=PerspectiveCamera(fov=46.0, position=(0.0, 0.0, 2.0), projectionMatrix=(1.0, 0.0,…"
      ]
     },
     "metadata": {},
     "output_type": "display_data"
    },
    {
     "data": {
      "application/vnd.jupyter.widget-view+json": {
       "model_id": "fdec9289a1be4928b321804f23891424",
       "version_major": 2,
       "version_minor": 0
      },
      "text/plain": [
       "  0%|          | 0/9 [00:00<?, ?it/s]"
      ]
     },
     "metadata": {},
     "output_type": "display_data"
    },
    {
     "name": "stdout",
     "output_type": "stream",
     "text": [
      "Segmentation Info:\n",
      "Mesh 0: <trimesh.Trimesh(vertices.shape=(104, 3), faces.shape=(201, 3))> (0.0936978)\n",
      "Mesh 1: <trimesh.Trimesh(vertices.shape=(71, 3), faces.shape=(136, 3))> (0.09351514999999999)\n",
      "Mesh 2: <trimesh.Trimesh(vertices.shape=(64, 3), faces.shape=(119, 3))> (0.707347)\n",
      "Mesh 3: <trimesh.Trimesh(vertices.shape=(62, 3), faces.shape=(118, 3))> (0.131666)\n",
      "Mesh 4: <trimesh.Trimesh(vertices.shape=(61, 3), faces.shape=(113, 3))> (0.192354)\n",
      "Mesh 5: <trimesh.Trimesh(vertices.shape=(60, 3), faces.shape=(111, 3))> (0.123656)\n",
      "Mesh 6: <trimesh.Trimesh(vertices.shape=(44, 3), faces.shape=(82, 3))> (0.1276145)\n",
      "Mesh 7: <trimesh.Trimesh(vertices.shape=(25, 3), faces.shape=(44, 3))> (0.164754)\n",
      "Mesh 8: <trimesh.Trimesh(vertices.shape=(24, 3), faces.shape=(42, 3))> (0.6368745)\n"
     ]
    },
    {
     "data": {
      "application/vnd.jupyter.widget-view+json": {
       "model_id": "2688056d4e9f4ce6bf1d624224fff0e9",
       "version_major": 2,
       "version_minor": 0
      },
      "text/plain": [
       "VBox(children=(Figure(camera=PerspectiveCamera(fov=46.0, position=(0.0, 0.0, 2.0), projectionMatrix=(1.0, 0.0,…"
      ]
     },
     "metadata": {},
     "output_type": "display_data"
    },
    {
     "data": {
      "application/vnd.jupyter.widget-view+json": {
       "model_id": "d01fe11a801148c3bbcfdffed4198e6f",
       "version_major": 2,
       "version_minor": 0
      },
      "text/plain": [
       "VBox(children=(Figure(camera=PerspectiveCamera(fov=46.0, position=(0.0, 0.0, 2.0), projectionMatrix=(1.0, 0.0,…"
      ]
     },
     "metadata": {},
     "output_type": "display_data"
    },
    {
     "name": "stdout",
     "output_type": "stream",
     "text": [
      "web_mesh = <trimesh.Trimesh(vertices.shape=(64, 3), faces.shape=(119, 3))>, web_cdf = 0.707347\n",
      "\n",
      " -- Working on Node 1: Branch 5\n",
      "joining_endpoint_1 = [1219453.78905928  678747.84504584 1023104.35637144]\n",
      "coordinates_of_intersection = [array([1219344.27094817,  678237.86392844, 1023310.99723309]), array([1219267.57086685,  679187.67715832, 1023239.61998518]), array([1219755.37929311,  678887.08264316, 1022730.79070321])]\n"
     ]
    },
    {
     "data": {
      "application/vnd.jupyter.widget-view+json": {
       "model_id": "92f30dfb616340b087ee5750bc3f9b7c",
       "version_major": 2,
       "version_minor": 0
      },
      "text/plain": [
       "  0%|          | 0/11 [00:00<?, ?it/s]"
      ]
     },
     "metadata": {},
     "output_type": "display_data"
    },
    {
     "name": "stdout",
     "output_type": "stream",
     "text": [
      "web_mesh = <trimesh.Trimesh(vertices.shape=(98, 3), faces.shape=(189, 3))>, web_cdf = 0.460643\n",
      "\n",
      " -- Working on Node 2: Branch 6\n",
      "joining_endpoint_1 = [1242184.92874804  927286.71609319 1041277.25728136]\n",
      "coordinates_of_intersection = [array([1242269.63029859,  927866.33159246, 1041232.90568624]), array([1242277.14367004,  927187.00055099, 1041809.26822473]), array([1242083.54513478,  926893.7616837 , 1040985.40699234])]\n"
     ]
    },
    {
     "data": {
      "application/vnd.jupyter.widget-view+json": {
       "model_id": "e5caab6c9d194bcd9f1010cf328d8c6f",
       "version_major": 2,
       "version_minor": 0
      },
      "text/plain": [
       "  0%|          | 0/91 [00:00<?, ?it/s]"
      ]
     },
     "metadata": {},
     "output_type": "display_data"
    },
    {
     "name": "stdout",
     "output_type": "stream",
     "text": [
      "web_mesh = <trimesh.Trimesh(vertices.shape=(155, 3), faces.shape=(293, 3))>, web_cdf = 0.433575\n",
      "\n",
      " -- Working on Node 3: Branch 8\n",
      "joining_endpoint_1 = [1242399.7154334   880011.91429822 1024859.80299775]\n",
      "coordinates_of_intersection = [array([1242000.40328848,  880429.194808  , 1024976.7256141 ]), array([1242740.2491812 ,  880246.26913428, 1024578.94889461]), array([1242573.26257033,  879546.35339865, 1024915.67350549])]\n"
     ]
    },
    {
     "data": {
      "application/vnd.jupyter.widget-view+json": {
       "model_id": "0aa371a6bb534375a95a0678cb108c92",
       "version_major": 2,
       "version_minor": 0
      },
      "text/plain": [
       "  0%|          | 0/106 [00:00<?, ?it/s]"
      ]
     },
     "metadata": {},
     "output_type": "display_data"
    },
    {
     "name": "stdout",
     "output_type": "stream",
     "text": [
      "web_mesh = <trimesh.Trimesh(vertices.shape=(360, 3), faces.shape=(703, 3))>, web_cdf = 0.328745\n",
      "\n",
      " -- Working on Node 4: Branch 11\n",
      "joining_endpoint_1 = [1269169.99265729  769469.47988036  990631.82532513]\n",
      "coordinates_of_intersection = [array([1269358.8743146 ,  769787.1383213 ,  990992.51902671]), array([1268635.50285199,  769537.15046162,  990440.45792025]), array([1269343.05225762,  769035.10022119,  990456.18057911])]\n"
     ]
    },
    {
     "data": {
      "application/vnd.jupyter.widget-view+json": {
       "model_id": "dd0206c7589f4b09a4c37d38ea8ad52e",
       "version_major": 2,
       "version_minor": 0
      },
      "text/plain": [
       "  0%|          | 0/138 [00:00<?, ?it/s]"
      ]
     },
     "metadata": {},
     "output_type": "display_data"
    },
    {
     "name": "stdout",
     "output_type": "stream",
     "text": [
      "web_mesh = <trimesh.Trimesh(vertices.shape=(164, 3), faces.shape=(313, 3))>, web_cdf = 0.470639\n",
      "\n",
      " -- Working on Node 5: Branch 12\n",
      "joining_endpoint_1 = [1266091.19883481  696616.08107994  972729.57887759]\n",
      "coordinates_of_intersection = [array([1265961.51755302,  696727.71017449,  972265.58672502]), array([1266535.57104227,  696750.24030406,  972544.16812887]), array([1265849.08826225,  696364.62809322,  973180.03861682])]\n"
     ]
    },
    {
     "data": {
      "application/vnd.jupyter.widget-view+json": {
       "model_id": "e1282629788f4d19a2ed7d079a6f4b83",
       "version_major": 2,
       "version_minor": 0
      },
      "text/plain": [
       "  0%|          | 0/24 [00:00<?, ?it/s]"
      ]
     },
     "metadata": {},
     "output_type": "display_data"
    },
    {
     "name": "stdout",
     "output_type": "stream",
     "text": [
      "web_mesh = <trimesh.Trimesh(vertices.shape=(69, 3), faces.shape=(128, 3))>, web_cdf = 0.3786395\n",
      "\n",
      " -- Working on Node 6: Branch 13\n",
      "joining_endpoint_1 = [1263675.8560901   693277.56771598  979951.12530957]\n",
      "coordinates_of_intersection = [array([1263137.13698996,  693244.41344368,  980036.6365113 ]), array([1263771.56954777,  693383.19151226,  979472.03972553]), array([1264061.80699069,  693166.80103955,  980248.25210276])]\n"
     ]
    },
    {
     "data": {
      "application/vnd.jupyter.widget-view+json": {
       "model_id": "45100b5883be408494d6831732585445",
       "version_major": 2,
       "version_minor": 0
      },
      "text/plain": [
       "  0%|          | 0/16 [00:00<?, ?it/s]"
      ]
     },
     "metadata": {},
     "output_type": "display_data"
    },
    {
     "name": "stdout",
     "output_type": "stream",
     "text": [
      "web_mesh = <trimesh.Trimesh(vertices.shape=(162, 3), faces.shape=(289, 3))>, web_cdf = 0.244424\n",
      "\n",
      " -- Working on Node 7: Branch 18\n",
      "joining_endpoint_1 = [1272741.7341808   674594.74403301  982583.25549652]\n",
      "coordinates_of_intersection = [array([1272749.70321024,  675089.84399044,  982515.34446842]), array([1273165.0342592 ,  674462.42263264,  982812.02967485]), array([1272474.10351592,  674174.43038996,  982542.31347004])]\n"
     ]
    },
    {
     "data": {
      "application/vnd.jupyter.widget-view+json": {
       "model_id": "cf3a4c1f635848ed803f2ae1a04f6d3c",
       "version_major": 2,
       "version_minor": 0
      },
      "text/plain": [
       "  0%|          | 0/39 [00:00<?, ?it/s]"
      ]
     },
     "metadata": {},
     "output_type": "display_data"
    },
    {
     "name": "stdout",
     "output_type": "stream",
     "text": [
      "web_mesh = <trimesh.Trimesh(vertices.shape=(233, 3), faces.shape=(451, 3))>, web_cdf = 0.546813\n",
      "\n",
      " -- Working on Node 8: Branch 19\n",
      "joining_endpoint_1 = [1267776.69414603  692701.05687253  983254.48376296]\n",
      "coordinates_of_intersection = [array([1267306.52858094,  692530.2437082 ,  983120.1564357 ]), array([1267977.86500652,  693145.05798804,  983365.7185445 ]), array([1267892.92386417,  692220.13107885,  983185.12642224])]\n"
     ]
    },
    {
     "data": {
      "application/vnd.jupyter.widget-view+json": {
       "model_id": "23fdf3950dcb486195c5095f9333b0d7",
       "version_major": 2,
       "version_minor": 0
      },
      "text/plain": [
       "  0%|          | 0/22 [00:00<?, ?it/s]"
      ]
     },
     "metadata": {},
     "output_type": "display_data"
    },
    {
     "name": "stdout",
     "output_type": "stream",
     "text": [
      "web_mesh = <trimesh.Trimesh(vertices.shape=(117, 3), faces.shape=(200, 3))>, web_cdf = 0.596239\n",
      "\n",
      " -- Working on Node 9: Branch 20\n",
      "joining_endpoint_1 = [1271346.91378915  702772.26308223  984182.10009978]\n",
      "coordinates_of_intersection = [array([1271483.54057149,  703206.79216427,  984379.85713677]), array([1271405.69337462,  702889.58915943,  983679.79970534]), array([1271180.10416086,  702308.32425419,  984359.62676284])]\n"
     ]
    },
    {
     "data": {
      "application/vnd.jupyter.widget-view+json": {
       "model_id": "05c6149bf57f40cb848911d3aa640f36",
       "version_major": 2,
       "version_minor": 0
      },
      "text/plain": [
       "  0%|          | 0/54 [00:00<?, ?it/s]"
      ]
     },
     "metadata": {},
     "output_type": "display_data"
    },
    {
     "name": "stdout",
     "output_type": "stream",
     "text": [
      "web_mesh = <trimesh.Trimesh(vertices.shape=(94, 3), faces.shape=(169, 3))>, web_cdf = 0.555934\n",
      "\n",
      " -- Working on Node 10: Branch 21\n",
      "joining_endpoint_1 = [1273672.26317785  683171.77245944  981705.70354634]\n",
      "coordinates_of_intersection = [array([1273483.20305439,  683672.22294864,  981591.48434922]), array([1274124.47046761,  683292.19838967,  981878.42980398]), array([1273619.04232318,  682666.35805656,  981801.466735  ])]\n"
     ]
    },
    {
     "data": {
      "application/vnd.jupyter.widget-view+json": {
       "model_id": "c12631a056544f67849d9f34ae92aea2",
       "version_major": 2,
       "version_minor": 0
      },
      "text/plain": [
       "  0%|          | 0/15 [00:00<?, ?it/s]"
      ]
     },
     "metadata": {},
     "output_type": "display_data"
    },
    {
     "name": "stdout",
     "output_type": "stream",
     "text": [
      "web_mesh = <trimesh.Trimesh(vertices.shape=(158, 3), faces.shape=(305, 3))>, web_cdf = 0.660049\n",
      "\n",
      " -- Working on Node 11: Branch 22\n",
      "joining_endpoint_1 = [1279772.83312792  674283.56061183  986140.75473685]\n",
      "coordinates_of_intersection = [array([1279849.947671  ,  674119.16498135,  986650.88304282]), array([1280153.45249342,  674594.79229829,  986052.34548198]), array([1279400.10929646,  674194.63310389,  985722.25078767])]\n"
     ]
    },
    {
     "data": {
      "application/vnd.jupyter.widget-view+json": {
       "model_id": "a56f8e7088544e5cbe1361c7c04b531f",
       "version_major": 2,
       "version_minor": 0
      },
      "text/plain": [
       "  0%|          | 0/17 [00:00<?, ?it/s]"
      ]
     },
     "metadata": {},
     "output_type": "display_data"
    },
    {
     "name": "stdout",
     "output_type": "stream",
     "text": [
      "web_mesh = <trimesh.Trimesh(vertices.shape=(110, 3), faces.shape=(202, 3))>, web_cdf = 0.4588775\n",
      "\n",
      " -- Working on Node 12: Branch 25\n",
      "joining_endpoint_1 = [1277693.91721463  666480.33010946  998693.85298009]\n",
      "coordinates_of_intersection = [array([1277384.02556308,  666384.76132847,  999138.72863577]), array([1277838.24759297,  666022.09258261,  998563.58453033]), array([1277896.61089944,  666779.69854032,  998348.53076733])]\n"
     ]
    },
    {
     "data": {
      "application/vnd.jupyter.widget-view+json": {
       "model_id": "7e099fd21a854895919ee5db5d4cc2c1",
       "version_major": 2,
       "version_minor": 0
      },
      "text/plain": [
       "  0%|          | 0/13 [00:00<?, ?it/s]"
      ]
     },
     "metadata": {},
     "output_type": "display_data"
    },
    {
     "name": "stdout",
     "output_type": "stream",
     "text": [
      "web_mesh = <trimesh.Trimesh(vertices.shape=(133, 3), faces.shape=(254, 3))>, web_cdf = 0.6621585\n",
      "\n",
      " -- Working on Node 13: Branch 27\n",
      "joining_endpoint_1 = [1279712.35354271  669030.25418228  993566.51159415]\n",
      "coordinates_of_intersection = [array([1279675.64442825,  668989.13411599,  994122.86849841]), array([1279692.08025977,  668587.40144323,  993337.20194052]), array([1279722.05857917,  669329.04164685,  993165.99352115])]\n"
     ]
    },
    {
     "data": {
      "application/vnd.jupyter.widget-view+json": {
       "model_id": "6f962c55cdd44bd98d1e1658c931c84b",
       "version_major": 2,
       "version_minor": 0
      },
      "text/plain": [
       "  0%|          | 0/12 [00:00<?, ?it/s]"
      ]
     },
     "metadata": {},
     "output_type": "display_data"
    },
    {
     "name": "stdout",
     "output_type": "stream",
     "text": [
      "web_mesh = <trimesh.Trimesh(vertices.shape=(34, 3), faces.shape=(60, 3))>, web_cdf = 0.60563\n",
      "\n",
      " Working on visualization type: mesh\n",
      "\n",
      " Working on visualization type: skeleton\n"
     ]
    },
    {
     "data": {
      "application/vnd.jupyter.widget-view+json": {
       "model_id": "14b3ac55f941491fb7a52106e7066095",
       "version_major": 2,
       "version_minor": 0
      },
      "text/plain": [
       "VBox(children=(Figure(camera=PerspectiveCamera(fov=46.0, position=(0.0, 0.0, 2.0), projectionMatrix=(1.0, 0.0,…"
      ]
     },
     "metadata": {},
     "output_type": "display_data"
    }
   ],
   "source": [
    "neuron_obj_with_web = au.calculate_axon_webbing(neuron_obj_with_boutons,\n",
    "                      idx_to_plot = [0],\n",
    "                plot_intersection_mesh = True,\n",
    "                plot_intersection_mesh_without_boutons = True,\n",
    "                plot_split = True,\n",
    "                plot_split_closest_mesh = True,\n",
    "                plot_segmentation_before_web = True,\n",
    "                plot_web = True,\n",
    "                        plot_webbing_on_neuron = True,\n",
    "                    verbose = True,\n",
    "                        )"
   ]
  },
  {
   "cell_type": "code",
   "execution_count": 445,
   "metadata": {},
   "outputs": [
    {
     "name": "stdout",
     "output_type": "stream",
     "text": [
      "\n",
      " Working on visualization type: mesh\n",
      "\n",
      " Working on visualization type: skeleton\n"
     ]
    },
    {
     "data": {
      "application/vnd.jupyter.widget-view+json": {
       "model_id": "db88a93cf0444e4f8ac3c1ee8916f0b2",
       "version_major": 2,
       "version_minor": 0
      },
      "text/plain": [
       "VBox(children=(Figure(camera=PerspectiveCamera(fov=46.0, position=(0.0, 0.0, 2.0), projectionMatrix=(1.0, 0.0,…"
      ]
     },
     "metadata": {},
     "output_type": "display_data"
    }
   ],
   "source": [
    "nviz.plot_boutons(neuron_obj,\n",
    "                  mesh_whole_neuron_alpha = 0.2,\n",
    "                 plot_web=True)"
   ]
  },
  {
   "cell_type": "code",
   "execution_count": null,
   "metadata": {},
   "outputs": [],
   "source": []
  }
 ],
 "metadata": {
  "kernelspec": {
   "display_name": "Python 3",
   "language": "python",
   "name": "python3"
  },
  "language_info": {
   "codemirror_mode": {
    "name": "ipython",
    "version": 3
   },
   "file_extension": ".py",
   "mimetype": "text/x-python",
   "name": "python",
   "nbconvert_exporter": "python",
   "pygments_lexer": "ipython3",
   "version": "3.6.9"
  }
 },
 "nbformat": 4,
 "nbformat_minor": 4
}
