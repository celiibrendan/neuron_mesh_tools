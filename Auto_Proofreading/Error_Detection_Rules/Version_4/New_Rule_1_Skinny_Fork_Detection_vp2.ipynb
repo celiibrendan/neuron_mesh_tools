{
 "cells": [
  {
   "cell_type": "code",
   "execution_count": null,
   "metadata": {},
   "outputs": [],
   "source": [
    "\"\"\"\n",
    "Purpose: To be able and tell when theh branching activity\n",
    "does not have a large angle between the sides and they run alongside each other\n",
    "\n",
    "- this will be ignored for the very thick apical\n",
    "\n",
    "\"\"\""
   ]
  },
  {
   "cell_type": "code",
   "execution_count": 1,
   "metadata": {},
   "outputs": [],
   "source": [
    "%load_ext autoreload\n",
    "%autoreload 2"
   ]
  },
  {
   "cell_type": "code",
   "execution_count": 2,
   "metadata": {},
   "outputs": [
    {
     "name": "stderr",
     "output_type": "stream",
     "text": [
      "INFO - 2021-04-24 08:27:01,249 - settings - Setting database.host to at-database.ad.bcm.edu\n",
      "INFO - 2021-04-24 08:27:01,252 - settings - Setting database.user to celiib\n",
      "INFO - 2021-04-24 08:27:01,253 - settings - Setting database.password to newceliipass\n",
      "INFO - 2021-04-24 08:27:01,257 - settings - Setting stores to {'minnie65': {'protocol': 'file', 'location': '/mnt/dj-stor01/platinum/minnie65', 'stage': '/mnt/dj-stor01/platinum/minnie65'}, 'meshes': {'protocol': 'file', 'location': '/mnt/dj-stor01/platinum/minnie65/02/meshes', 'stage': '/mnt/dj-stor01/platinum/minnie65/02/meshes'}, 'decimated_meshes': {'protocol': 'file', 'location': '/mnt/dj-stor01/platinum/minnie65/02/decimated_meshes', 'stage': '/mnt/dj-stor01/platinum/minnie65/02/decimated_meshes'}, 'skeletons': {'protocol': 'file', 'location': '/mnt/dj-stor01/platinum/minnie65/02/skeletons'}}\n",
      "INFO - 2021-04-24 08:27:01,258 - settings - Setting enable_python_native_blobs to True\n",
      "INFO - 2021-04-24 08:27:01,273 - connection - Connected celiib@at-database.ad.bcm.edu:3306\n"
     ]
    },
    {
     "name": "stdout",
     "output_type": "stream",
     "text": [
      "Connecting celiib@at-database.ad.bcm.edu:3306\n"
     ]
    },
    {
     "name": "stderr",
     "output_type": "stream",
     "text": [
      "INFO - 2021-04-24 08:27:01,713 - settings - Setting enable_python_native_blobs to True\n",
      "INFO - 2021-04-24 08:27:01,716 - settings - Setting database.host to at-database.ad.bcm.edu\n",
      "INFO - 2021-04-24 08:27:01,717 - settings - Setting database.user to celiib\n",
      "INFO - 2021-04-24 08:27:01,718 - settings - Setting database.password to newceliipass\n",
      "INFO - 2021-04-24 08:27:01,719 - settings - Setting database.host to at-database.ad.bcm.edu\n",
      "INFO - 2021-04-24 08:27:01,720 - settings - Setting database.user to celiib\n",
      "INFO - 2021-04-24 08:27:01,721 - settings - Setting database.password to newceliipass\n",
      "INFO - 2021-04-24 08:27:01,724 - settings - Setting enable_python_native_blobs to True\n",
      "INFO - 2021-04-24 08:27:02,190 - settings - Setting enable_python_native_blobs to True\n"
     ]
    }
   ],
   "source": [
    "import numpy as np\n",
    "import datajoint as dj\n",
    "import trimesh\n",
    "from tqdm.notebook import tqdm\n",
    "from pathlib import Path\n",
    "\n",
    "from os import sys\n",
    "sys.path.append(\"/meshAfterParty/\")\n",
    "sys.path.append(\"/meshAfterParty/meshAfterParty\")\n",
    "\n",
    "import datajoint_utils as du\n",
    "from importlib import reload"
   ]
  },
  {
   "cell_type": "code",
   "execution_count": 3,
   "metadata": {},
   "outputs": [
    {
     "name": "stderr",
     "output_type": "stream",
     "text": [
      "INFO - 2021-04-24 08:27:02,349 - settings - Setting database.host to at-database.ad.bcm.edu\n",
      "INFO - 2021-04-24 08:27:02,351 - settings - Setting database.user to celiib\n",
      "INFO - 2021-04-24 08:27:02,352 - settings - Setting database.password to newceliipass\n",
      "INFO - 2021-04-24 08:27:02,356 - settings - Setting enable_python_native_blobs to True\n",
      "INFO - 2021-04-24 08:27:02,868 - settings - Setting enable_python_native_blobs to True\n"
     ]
    }
   ],
   "source": [
    "#configuring will include the adapters\n",
    "minnie,schema = du.configure_minnie_vm()"
   ]
  },
  {
   "cell_type": "code",
   "execution_count": 9,
   "metadata": {},
   "outputs": [],
   "source": [
    "import validation_utils as vu\n",
    "import neuron_visualizations as nviz\n",
    "import neuron_utils as nru\n",
    "import proofreading_utils as pru\n",
    "import validation_utils as vu"
   ]
  },
  {
   "cell_type": "markdown",
   "metadata": {},
   "source": [
    "# Downloading the neuron"
   ]
  },
  {
   "cell_type": "code",
   "execution_count": 5,
   "metadata": {},
   "outputs": [
    {
     "data": {
      "text/plain": [
       "864691135724333739"
      ]
     },
     "execution_count": 5,
     "metadata": {},
     "output_type": "execute_result"
    }
   ],
   "source": [
    "vu.old_to_new_segment_id(segment_id = 864691135564655959)"
   ]
  },
  {
   "cell_type": "code",
   "execution_count": 6,
   "metadata": {},
   "outputs": [
    {
     "data": {
      "text/html": [
       "\n",
       "        \n",
       "        <style type=\"text/css\">\n",
       "            .Relation{\n",
       "                border-collapse:collapse;\n",
       "            }\n",
       "            .Relation th{\n",
       "                background: #A0A0A0; color: #ffffff; padding:4px; border:#f0e0e0 1px solid;\n",
       "                font-weight: normal; font-family: monospace; font-size: 100%;\n",
       "            }\n",
       "            .Relation td{\n",
       "                padding:4px; border:#f0e0e0 1px solid; font-size:100%;\n",
       "            }\n",
       "            .Relation tr:nth-child(odd){\n",
       "                background: #ffffff;\n",
       "            }\n",
       "            .Relation tr:nth-child(even){\n",
       "                background: #f3f1ff;\n",
       "            }\n",
       "            /* Tooltip container */\n",
       "            .djtooltip {\n",
       "            }\n",
       "            /* Tooltip text */\n",
       "            .djtooltip .djtooltiptext {\n",
       "                visibility: hidden;\n",
       "                width: 120px;\n",
       "                background-color: black;\n",
       "                color: #fff;\n",
       "                text-align: center;\n",
       "                padding: 5px 0;\n",
       "                border-radius: 6px;\n",
       "                /* Position the tooltip text - see examples below! */\n",
       "                position: absolute;\n",
       "                z-index: 1;\n",
       "            }\n",
       "            #primary {\n",
       "                font-weight: bold;\n",
       "                color: black;\n",
       "            }\n",
       "\n",
       "            #nonprimary {\n",
       "                font-weight: normal;\n",
       "                color: white;\n",
       "            }\n",
       "\n",
       "            /* Show the tooltip text when you mouse over the tooltip container */\n",
       "            .djtooltip:hover .djtooltiptext {\n",
       "                visibility: visible;\n",
       "            }\n",
       "        </style>\n",
       "        \n",
       "        <b></b>\n",
       "            <div style=\"max-height:1000px;max-width:1500px;overflow:auto;\">\n",
       "            <table border=\"1\" class=\"Relation\">\n",
       "                <thead> <tr style=\"text-align: right;\"> <th> <div class=\"djtooltip\">\n",
       "                                <p id=\"primary\">segment_id</p>\n",
       "                                <span class=\"djtooltiptext\">segment id unique within each Segmentation</span>\n",
       "                            </div></th><th><div class=\"djtooltip\">\n",
       "                                <p id=\"primary\">decimation_version</p>\n",
       "                                <span class=\"djtooltiptext\"></span>\n",
       "                            </div></th><th><div class=\"djtooltip\">\n",
       "                                <p id=\"primary\">decimation_ratio</p>\n",
       "                                <span class=\"djtooltiptext\">ratio of remaining mesh vertices/faces (which ones depends on what metric the decimation technique uses)</span>\n",
       "                            </div></th><th><div class=\"djtooltip\">\n",
       "                                <p id=\"primary\">ver</p>\n",
       "                                <span class=\"djtooltiptext\">the version number of the materializaiton</span>\n",
       "                            </div></th><th><div class=\"djtooltip\">\n",
       "                                <p id=\"primary\">process_version</p>\n",
       "                                <span class=\"djtooltiptext\">the version of the preprocessing pipeline run</span>\n",
       "                            </div></th><th><div class=\"djtooltip\">\n",
       "                                <p id=\"primary\">index</p>\n",
       "                                <span class=\"djtooltiptext\">the index of the neuron object that resulted from that mesh (indexed starting at 0)</span>\n",
       "                            </div></th><th><div class=\"djtooltip\">\n",
       "                                <p id=\"nonprimary\">multiplicity</p>\n",
       "                                <span class=\"djtooltiptext\">the number of somas found for this base segment</span>\n",
       "                            </div></th><th><div class=\"djtooltip\">\n",
       "                                <p id=\"nonprimary\">decomposition</p>\n",
       "                                <span class=\"djtooltiptext\"></span>\n",
       "                            </div></th><th><div class=\"djtooltip\">\n",
       "                                <p id=\"nonprimary\">n_vertices</p>\n",
       "                                <span class=\"djtooltiptext\">number of vertices</span>\n",
       "                            </div></th><th><div class=\"djtooltip\">\n",
       "                                <p id=\"nonprimary\">n_faces</p>\n",
       "                                <span class=\"djtooltiptext\">number of faces</span>\n",
       "                            </div></th><th><div class=\"djtooltip\">\n",
       "                                <p id=\"nonprimary\">n_not_processed_soma_containing_meshes</p>\n",
       "                                <span class=\"djtooltiptext\">the number of meshes with somas that were not processed</span>\n",
       "                            </div></th><th><div class=\"djtooltip\">\n",
       "                                <p id=\"nonprimary\">n_error_limbs</p>\n",
       "                                <span class=\"djtooltiptext\">the number of limbs that are touching multiple somas or 1 soma in multiple places</span>\n",
       "                            </div></th><th><div class=\"djtooltip\">\n",
       "                                <p id=\"nonprimary\">n_same_soma_multi_touching_limbs</p>\n",
       "                                <span class=\"djtooltiptext\">number of limbs that touch the same soma multiple times</span>\n",
       "                            </div></th><th><div class=\"djtooltip\">\n",
       "                                <p id=\"nonprimary\">n_multi_soma_touching_limbs</p>\n",
       "                                <span class=\"djtooltiptext\">number of limbs that touch multiple somas</span>\n",
       "                            </div></th><th><div class=\"djtooltip\">\n",
       "                                <p id=\"nonprimary\">n_somas</p>\n",
       "                                <span class=\"djtooltiptext\">number of soma meshes detected</span>\n",
       "                            </div></th><th><div class=\"djtooltip\">\n",
       "                                <p id=\"nonprimary\">n_limbs</p>\n",
       "                                <span class=\"djtooltiptext\"></span>\n",
       "                            </div></th><th><div class=\"djtooltip\">\n",
       "                                <p id=\"nonprimary\">n_branches</p>\n",
       "                                <span class=\"djtooltiptext\"></span>\n",
       "                            </div></th><th><div class=\"djtooltip\">\n",
       "                                <p id=\"nonprimary\">max_limb_n_branches</p>\n",
       "                                <span class=\"djtooltiptext\"></span>\n",
       "                            </div></th><th><div class=\"djtooltip\">\n",
       "                                <p id=\"nonprimary\">skeletal_length</p>\n",
       "                                <span class=\"djtooltiptext\"></span>\n",
       "                            </div></th><th><div class=\"djtooltip\">\n",
       "                                <p id=\"nonprimary\">max_limb_skeletal_length</p>\n",
       "                                <span class=\"djtooltiptext\"></span>\n",
       "                            </div></th><th><div class=\"djtooltip\">\n",
       "                                <p id=\"nonprimary\">median_branch_length</p>\n",
       "                                <span class=\"djtooltiptext\">gives information on average skeletal length to next branch point</span>\n",
       "                            </div></th><th><div class=\"djtooltip\">\n",
       "                                <p id=\"nonprimary\">width_median</p>\n",
       "                                <span class=\"djtooltiptext\">median width from mesh center without spines removed</span>\n",
       "                            </div></th><th><div class=\"djtooltip\">\n",
       "                                <p id=\"nonprimary\">width_no_spine_median</p>\n",
       "                                <span class=\"djtooltiptext\">median width from mesh center with spines removed</span>\n",
       "                            </div></th><th><div class=\"djtooltip\">\n",
       "                                <p id=\"nonprimary\">width_90_perc</p>\n",
       "                                <span class=\"djtooltiptext\">90th percentile for width without spines removed</span>\n",
       "                            </div></th><th><div class=\"djtooltip\">\n",
       "                                <p id=\"nonprimary\">width_no_spine_90_perc</p>\n",
       "                                <span class=\"djtooltiptext\">90th percentile for width with spines removed</span>\n",
       "                            </div></th><th><div class=\"djtooltip\">\n",
       "                                <p id=\"nonprimary\">n_spines</p>\n",
       "                                <span class=\"djtooltiptext\"></span>\n",
       "                            </div></th><th><div class=\"djtooltip\">\n",
       "                                <p id=\"nonprimary\">spine_density</p>\n",
       "                                <span class=\"djtooltiptext\">n_spines/ skeletal_length</span>\n",
       "                            </div></th><th><div class=\"djtooltip\">\n",
       "                                <p id=\"nonprimary\">spines_per_branch</p>\n",
       "                                <span class=\"djtooltiptext\"></span>\n",
       "                            </div></th><th><div class=\"djtooltip\">\n",
       "                                <p id=\"nonprimary\">skeletal_length_eligible</p>\n",
       "                                <span class=\"djtooltiptext\">the skeletal length for all branches searched for spines</span>\n",
       "                            </div></th><th><div class=\"djtooltip\">\n",
       "                                <p id=\"nonprimary\">n_spine_eligible_branches</p>\n",
       "                                <span class=\"djtooltiptext\">the number of branches that were checked for spines because passed width threshold</span>\n",
       "                            </div></th><th><div class=\"djtooltip\">\n",
       "                                <p id=\"nonprimary\">spine_density_eligible</p>\n",
       "                                <span class=\"djtooltiptext\">n_spines/skeletal_length_eligible</span>\n",
       "                            </div></th><th><div class=\"djtooltip\">\n",
       "                                <p id=\"nonprimary\">spines_per_branch_eligible</p>\n",
       "                                <span class=\"djtooltiptext\">n_spines/n_spine_eligible_branches</span>\n",
       "                            </div></th><th><div class=\"djtooltip\">\n",
       "                                <p id=\"nonprimary\">total_spine_volume</p>\n",
       "                                <span class=\"djtooltiptext\">the sum of all spine volume</span>\n",
       "                            </div></th><th><div class=\"djtooltip\">\n",
       "                                <p id=\"nonprimary\">spine_volume_median</p>\n",
       "                                <span class=\"djtooltiptext\">median of the spine volume for those spines with able to calculate volume</span>\n",
       "                            </div></th><th><div class=\"djtooltip\">\n",
       "                                <p id=\"nonprimary\">spine_volume_density</p>\n",
       "                                <span class=\"djtooltiptext\">total_spine_volume/skeletal_length</span>\n",
       "                            </div></th><th><div class=\"djtooltip\">\n",
       "                                <p id=\"nonprimary\">spine_volume_density_eligible</p>\n",
       "                                <span class=\"djtooltiptext\">total_spine_volume/skeletal_length_eligible</span>\n",
       "                            </div></th><th><div class=\"djtooltip\">\n",
       "                                <p id=\"nonprimary\">spine_volume_per_branch_eligible</p>\n",
       "                                <span class=\"djtooltiptext\">total_spine_volume/n_spine_eligible_branches</span>\n",
       "                            </div></th><th><div class=\"djtooltip\">\n",
       "                                <p id=\"nonprimary\">run_time</p>\n",
       "                                <span class=\"djtooltiptext\">the amount of time to run (seconds)</span>\n",
       "                            </div> </th> </tr> </thead>\n",
       "                <tbody> <tr> <td>864691136105498585</td>\n",
       "<td>0</td>\n",
       "<td>0.25</td>\n",
       "<td>30.00</td>\n",
       "<td>7</td>\n",
       "<td>0</td>\n",
       "<td>1</td>\n",
       "<td>=BLOB=</td>\n",
       "<td>332957</td>\n",
       "<td>689602</td>\n",
       "<td>0</td>\n",
       "<td>0</td>\n",
       "<td>0</td>\n",
       "<td>0</td>\n",
       "<td>1</td>\n",
       "<td>6</td>\n",
       "<td>62</td>\n",
       "<td>39</td>\n",
       "<td>4207536.831588222</td>\n",
       "<td>1856257.3544398847</td>\n",
       "<td>45864.626</td>\n",
       "<td>85.841</td>\n",
       "<td>85.841</td>\n",
       "<td>276.001</td>\n",
       "<td>272.655</td>\n",
       "<td>272</td>\n",
       "<td>6.464589874958456e-05</td>\n",
       "<td>4.387096774193548</td>\n",
       "<td>2604692.559</td>\n",
       "<td>22</td>\n",
       "<td>0.00010442691175208291</td>\n",
       "<td>12.364</td>\n",
       "<td>104312137661.36154</td>\n",
       "<td>119065350.43993981</td>\n",
       "<td>24791.734888268766</td>\n",
       "<td>40047.7735082137</td>\n",
       "<td>4741460802.789161</td>\n",
       "<td>3808.4313</td> </tr> </tbody>\n",
       "            </table>\n",
       "            \n",
       "            <p>Total: 1</p></div>\n",
       "            "
      ],
      "text/plain": [
       "*segment_id    *decimation_ve *decimation_ra *ver      *process_versi *index    multiplicity   decomposit n_vertices     n_faces     n_not_processe n_error_limbs  n_same_soma_mu n_multi_soma_t n_somas     n_limbs     n_branches     max_limb_n_bra skeletal_lengt max_limb_skele median_branch_ width_median   width_no_spine width_90_perc  width_no_spine n_spines     spine_density  spines_per_bra skeletal_lengt n_spine_eligib spine_density_ spines_per_bra total_spine_vo spine_volume_m spine_volume_d spine_volume_d spine_volume_p run_time     \n",
       "+------------+ +------------+ +------------+ +-------+ +------------+ +-------+ +------------+ +--------+ +------------+ +---------+ +------------+ +------------+ +------------+ +------------+ +---------+ +---------+ +------------+ +------------+ +------------+ +------------+ +------------+ +------------+ +------------+ +------------+ +------------+ +----------+ +------------+ +------------+ +------------+ +------------+ +------------+ +------------+ +------------+ +------------+ +------------+ +------------+ +------------+ +-----------+\n",
       "86469113610549 0              0.25           30.00     7              0         1              =BLOB=     332957         689602      0              0              0              0              1           6           62             39             4207536.831588 1856257.354439 45864.626      85.841         85.841         276.001        272.655        272          6.464589874958 4.387096774193 2604692.559    22             0.000104426911 12.364         104312137661.3 119065350.4399 24791.73488826 40047.77350821 4741460802.789 3808.4313    \n",
       " (Total: 1)"
      ]
     },
     "execution_count": 6,
     "metadata": {},
     "output_type": "execute_result"
    }
   ],
   "source": [
    "segment_id = 864691136105498585 # worked for this segment\n",
    "# segment_id = 864691135212632448 # dont think fork existed\n",
    "# segment_id = 864691135564655959\n",
    "minnie.Decomposition() & f\"segment_id = {segment_id}\""
   ]
  },
  {
   "cell_type": "code",
   "execution_count": 7,
   "metadata": {},
   "outputs": [
    {
     "name": "stdout",
     "output_type": "stream",
     "text": [
      "Decompressing Neuron in minimal output mode...please wait\n"
     ]
    }
   ],
   "source": [
    "# neuron_objs,split_indexes = du.decomposition_with_spine_recalculation(segment_id=segment_id,)\n",
    "#                                        #border_validation=False)\n",
    "    \n",
    "# neuron_obj = neuron_objs[0]\n",
    "\n",
    "# import axon_utils as au\n",
    "# neuron_obj_axon = au.complete_axon_processing(neuron_obj)\n",
    "# neuron_obj_axon\n",
    "\n",
    "neuron_obj = du.fetch_neuron_obj_manual(segment_id,\n",
    "                                       border_validation=True)"
   ]
  },
  {
   "cell_type": "code",
   "execution_count": null,
   "metadata": {},
   "outputs": [],
   "source": [
    "nviz.plot_axon(neuron_obj_axon)"
   ]
  },
  {
   "cell_type": "markdown",
   "metadata": {},
   "source": [
    "# Want to visualize the error mesh where might have forking"
   ]
  },
  {
   "cell_type": "code",
   "execution_count": null,
   "metadata": {},
   "outputs": [],
   "source": [
    "neuron_obj_axon.segment_id"
   ]
  },
  {
   "cell_type": "code",
   "execution_count": null,
   "metadata": {},
   "outputs": [],
   "source": [
    "nviz.visualize_neuron_specific_limb(neuron_obj_axon,\n",
    "                                   neuron_obj.axon_limb_name)"
   ]
  },
  {
   "cell_type": "code",
   "execution_count": null,
   "metadata": {},
   "outputs": [],
   "source": [
    "error_mesh = vu.error_mesh_from_manual_proofreading(neuron_obj_axon.segment_id,\n",
    "                                                   plot_error_and_valid_mesh=False)"
   ]
  },
  {
   "cell_type": "code",
   "execution_count": null,
   "metadata": {},
   "outputs": [],
   "source": [
    "nviz.plot_objects(error_mesh,\n",
    "                  main_mesh_color=\"red\",\n",
    "                  mesh_alpha=1,\n",
    "                 append_figure=True,\n",
    "                 show_at_end=False)"
   ]
  },
  {
   "cell_type": "code",
   "execution_count": null,
   "metadata": {},
   "outputs": [],
   "source": [
    "error_branches = vu.error_branches_from_old_new_segment_mesh(neuron_obj_axon,\n",
    "                                           )[neuron_obj_axon.axon_limb_name]"
   ]
  },
  {
   "cell_type": "code",
   "execution_count": null,
   "metadata": {
    "scrolled": true
   },
   "outputs": [],
   "source": [
    "for b in error_branches:\n",
    "    print(f\"Branch {b}:\")\n",
    "    nviz.plot_branches_with_boutons(neuron_obj_axon[0][b])"
   ]
  },
  {
   "cell_type": "code",
   "execution_count": null,
   "metadata": {},
   "outputs": [],
   "source": [
    "thin_fork_branch = 205"
   ]
  },
  {
   "cell_type": "code",
   "execution_count": null,
   "metadata": {
    "scrolled": true
   },
   "outputs": [],
   "source": [
    "nviz.visualize_neuron(neuron_obj_axon,\n",
    "                      visualize_type=[\"skeleton\",\"mesh\"],\n",
    "                     limb_branch_dict=dict(L0=[thin_fork_branch]),\n",
    "                     mesh_whole_neuron=True)"
   ]
  },
  {
   "cell_type": "code",
   "execution_count": null,
   "metadata": {
    "scrolled": true
   },
   "outputs": [],
   "source": [
    "# neuron_obj_axon.save_compressed_neuron(\"./\",file_name=f\"{neuron_obj.segment_id}_fork_test\",\n",
    "#                                        export_mesh=True)"
   ]
  },
  {
   "cell_type": "markdown",
   "metadata": {},
   "source": [
    "# Examples of How to Run Fork Divergence"
   ]
  },
  {
   "cell_type": "code",
   "execution_count": null,
   "metadata": {},
   "outputs": [],
   "source": [
    "# import numpy_utils as nu\n",
    "# nu.turn_off_scientific_notation()\n",
    "# nst.fork_divergence_from_skeletons(upstream_skeleton=limb_obj[289].skeleton,\n",
    "#                     downstream_skeletons=[limb_obj[k].skeleton for k in [12, 290]],\n",
    "#                                   verbose = False)"
   ]
  },
  {
   "cell_type": "code",
   "execution_count": null,
   "metadata": {},
   "outputs": [],
   "source": [
    "# import neuron_statistics as nst\n",
    "# # nst.fork_divergence(upstream_skeleton = upstream_sk,\n",
    "# #                     downstream_skeletons = downstream_sk,\n",
    "# #                     comparison_distance = 500,\n",
    "# #                     skeletal_segment_size = 50,\n",
    "# #                     plot_restrictions = True,\n",
    "# #                     combining_function = np.mean)\n",
    "\n",
    "# nst.fork_divergence_from_branch(branch_idx = 206,\n",
    "#     limb_obj = neuron_obj_axon[neuron_obj_axon.axon_limb_name],\n",
    "#     verbose = False,\n",
    "#     plot_fork_skeleton = False,)"
   ]
  },
  {
   "cell_type": "markdown",
   "metadata": {},
   "source": [
    "# Searching over the neuron object for fork divergences"
   ]
  },
  {
   "cell_type": "code",
   "execution_count": null,
   "metadata": {},
   "outputs": [],
   "source": []
  },
  {
   "cell_type": "code",
   "execution_count": null,
   "metadata": {
    "scrolled": true
   },
   "outputs": [],
   "source": [
    "import neuron_searching as ns\n",
    "\n",
    "two_downstream_limb_branch = ns.query_neuron(neuron_obj_axon,\n",
    "               functions_list = [\"n_siblings\"],\n",
    "               query = \"n_siblings == 1\",\n",
    "               return_dataframe=False,\n",
    "               limbs_to_process=[neuron_obj_axon.axon_limb_name])\n",
    "\n",
    "fork_div_limb_branch = ns.query_neuron(neuron_obj_axon,\n",
    "               functions_list = [\"fork_divergence\"],\n",
    "               query = \"fork_divergence < 165\",\n",
    "               return_dataframe=False,\n",
    "                limb_branch_dict_restriction=two_downstream_limb_branch,\n",
    "               limbs_to_process=[neuron_obj_axon.axon_limb_name])\n",
    "\n",
    "\"\"\"\n",
    "Maybe a good threshold is 160??\n",
    "\n",
    "\n",
    "\"\"\"\n",
    "fork_div_limb_branch"
   ]
  },
  {
   "cell_type": "code",
   "execution_count": null,
   "metadata": {},
   "outputs": [],
   "source": [
    "nviz.visualize_neuron(neuron_obj_axon,\n",
    "                     limb_branch_dict={neuron_obj_axon.axon_limb_name:[72,78]},\n",
    "                     mesh_whole_neuron=True)"
   ]
  },
  {
   "cell_type": "markdown",
   "metadata": {},
   "source": [
    "# Building the Edit Rule that we can now apply to hopefully achieve higher results"
   ]
  },
  {
   "cell_type": "markdown",
   "metadata": {},
   "source": [
    "# -- A) Building the Function that will apply new rule"
   ]
  },
  {
   "cell_type": "code",
   "execution_count": null,
   "metadata": {},
   "outputs": [],
   "source": [
    "import error_detection as ed\n",
    "ed.axon_fork_divergence_errors_limb_branch_dict(neuron_obj = neuron_obj_axon,\n",
    "    divergence_threshold_mean = 160,\n",
    "    verbose = True,\n",
    ")"
   ]
  },
  {
   "cell_type": "markdown",
   "metadata": {},
   "source": [
    "# -- B) Applying the Proofreading Rules (without the new addition) and measure performance"
   ]
  },
  {
   "cell_type": "code",
   "execution_count": null,
   "metadata": {
    "scrolled": false
   },
   "outputs": [],
   "source": [
    "(base_filt_neuron,\n",
    " return_synapse_df,\n",
    "return_validation_df) =  vu.filtered_neuron_score(neuron_obj = neuron_obj,   \n",
    "                        filter_list = pru.get_exc_filters_high_fidelity_axon_postprocessing(),\n",
    "                        verbose = True,\n",
    "                                                 plot_score=False)"
   ]
  },
  {
   "cell_type": "code",
   "execution_count": null,
   "metadata": {},
   "outputs": [],
   "source": [
    "vu.synapse_validation_df_to_score_plot(return_validation_df)"
   ]
  },
  {
   "cell_type": "markdown",
   "metadata": {},
   "source": [
    "# Plot to see the synapses that were not included"
   ]
  },
  {
   "cell_type": "code",
   "execution_count": null,
   "metadata": {},
   "outputs": [],
   "source": [
    "vu.plot_validation_synapses(segment_id,\n",
    "                            validation_df = return_validation_df,\n",
    "                             synapse_dict = None,\n",
    "                             synapses_type_to_plot = None,\n",
    "                             synapses_type_to_not_plot = None,\n",
    "                             verbose=False,\n",
    "                             synapse_type = \"presyn\",\n",
    "                             TP_color=\"yellow\",\n",
    "                            TN_color=\"aqua\",\n",
    "                            FP_color=\"black\",\n",
    "                            FN_color=\"orange\",\n",
    "                             synapse_scatter_size = 0.15,\n",
    "                             \n",
    "                             #for plotting the actual mesh parts to go along\n",
    "                             \n",
    "                             neuron_obj = base_filt_neuron,\n",
    "                             plot_only_axon_skeleton = True,\n",
    "                             error_mesh_color = \"red\",\n",
    "                             valid_mesh_color = \"green\",\n",
    "                             valid_skeleton_color = \"black\",\n",
    "                             mesh_alpha = 0.3,)"
   ]
  },
  {
   "cell_type": "markdown",
   "metadata": {},
   "source": [
    "# -- C) Apply the proofreading rules (with addition) and measure perfromance"
   ]
  },
  {
   "cell_type": "code",
   "execution_count": 10,
   "metadata": {
    "scrolled": false
   },
   "outputs": [
    {
     "name": "stdout",
     "output_type": "stream",
     "text": [
      "\n",
      "--- Working on filter 0:\n",
      "function = axon_on_dendrite_merges\n",
      "function __name__ = filter_away_axon_on_dendrite_merges\n",
      "function arguments = {'use_pre_existing_axon_labels': True}\n",
      "\n",
      "\n",
      "\n",
      "\n",
      "Branches Requested to Remove (WITH disconnect effect)\n",
      "\n",
      " Working on visualization type: mesh\n"
     ]
    },
    {
     "data": {
      "application/vnd.jupyter.widget-view+json": {
       "model_id": "f9e41cf0b8ab4d619ce1bff81623b5c4",
       "version_major": 2,
       "version_minor": 0
      },
      "text/plain": [
       "VBox(children=(Figure(camera=PerspectiveCamera(fov=46.0, position=(0.0, 0.0, 2.0), projectionMatrix=(1.0, 0.0,…"
      ]
     },
     "metadata": {},
     "output_type": "display_data"
    },
    {
     "name": "stdout",
     "output_type": "stream",
     "text": [
      "\n",
      "--- Working on filter 1:\n",
      "function = high_degree_branching\n",
      "function __name__ = filter_away_high_degree_branching\n",
      "function arguments = {'offset': 1500, 'comparison_distance': 2000, 'worst_case_match_threshold': 65, 'width_diff_max': inf, 'match_threshold': 45, 'angle_buffer': 15, 'max_degree_to_resolve': 6, 'match_method': 'best_match'}\n",
      "\n",
      "\n",
      "limb_branch_dict_to_cancel = {'L0': array([220, 223, 225, 226, 254, 247, 257, 258, 259, 251, 150, 151, 153,\n",
      "       149, 276, 278, 169, 170, 174, 175,  57,  64,  80,  81, 103, 104,\n",
      "       122, 123, 130, 129])}\n",
      "\n",
      "\n",
      "Branches Requested to Remove (WITH disconnect effect)\n",
      "\n",
      " Working on visualization type: mesh\n"
     ]
    },
    {
     "data": {
      "application/vnd.jupyter.widget-view+json": {
       "model_id": "818cb6614b184d838f5dc1e91baae5a1",
       "version_major": 2,
       "version_minor": 0
      },
      "text/plain": [
       "VBox(children=(Figure(camera=PerspectiveCamera(fov=46.0, position=(0.0, 0.0, 2.0), projectionMatrix=(1.0, 0.0,…"
      ]
     },
     "metadata": {},
     "output_type": "display_data"
    },
    {
     "name": "stdout",
     "output_type": "stream",
     "text": [
      "\n",
      "--- Working on filter 2:\n",
      "function = axon_webbing_t_merges\n",
      "function __name__ = filter_away_webbing_t_merges\n",
      "function arguments = {'child_width_maximum': 75, 'parent_width_maximum': 75, 'axon_only': True, 'error_if_web_is_none': True, 'web_size_threshold': 120, 'web_size_type': 'ray_trace_median', 'web_above_threshold': True}\n",
      "\n",
      "\n",
      "limb_branch_dict_to_cancel = {}\n",
      "\n",
      "--- Working on filter 3:\n",
      "function = double_back_and_width_change\n",
      "function __name__ = filter_away_large_double_back_or_width_changes\n",
      "function arguments = {'perform_double_back_errors': True, 'skip_double_back_errors_for_axon': False, 'width_jump_threshold': 250, 'running_width_jump_method': True, 'double_back_axon_like_threshold': 145, 'double_back_threshold': 120, 'allow_axon_double_back_angle_with_top': 39, 'skeletal_length_to_skip': 4000, 'comparison_distance': 3000}\n",
      "\n",
      "\n",
      "limb_branch_dict_to_cancel = {'L1': [1]}\n",
      "\n",
      "\n",
      "Branches Requested to Remove (WITH disconnect effect)\n",
      "\n",
      " Working on visualization type: mesh\n"
     ]
    },
    {
     "data": {
      "application/vnd.jupyter.widget-view+json": {
       "model_id": "6858cde0a91e4250b38dab01386f1e7b",
       "version_major": 2,
       "version_minor": 0
      },
      "text/plain": [
       "VBox(children=(Figure(camera=PerspectiveCamera(fov=46.0, position=(0.0, 0.0, 2.0), projectionMatrix=(1.0, 0.0,…"
      ]
     },
     "metadata": {},
     "output_type": "display_data"
    },
    {
     "name": "stdout",
     "output_type": "stream",
     "text": [
      "\n",
      "--- Working on filter 4:\n",
      "function = axon_fork_divergence\n",
      "function __name__ = filter_away_small_axon_fork_divergence\n",
      "function arguments = {'divergence_threshold_mean': 165}\n",
      "\n",
      "\n",
      "limb_branch_dict_to_cancel = {'L0': array([ 68,  71, 168, 170])}\n",
      "\n",
      "\n",
      "Branches Requested to Remove (WITH disconnect effect)\n",
      "\n",
      " Working on visualization type: mesh\n"
     ]
    },
    {
     "data": {
      "application/vnd.jupyter.widget-view+json": {
       "model_id": "0b30bc297fff47b7876020ab647490b6",
       "version_major": 2,
       "version_minor": 0
      },
      "text/plain": [
       "VBox(children=(Figure(camera=PerspectiveCamera(fov=46.0, position=(0.0, 0.0, 2.0), projectionMatrix=(1.0, 0.0,…"
      ]
     },
     "metadata": {},
     "output_type": "display_data"
    },
    {
     "name": "stdout",
     "output_type": "stream",
     "text": [
      "\n",
      "\n",
      "\n",
      " ---- Total time for applying filter: 151.89027762413025 -----\n",
      "\n",
      "--- Finished Part 1: Filtering Neuron -----\n",
      "Apply the presyn non_error\n",
      "For presyn: # valid synapses = 214, # error synapses  = 67, # error presyns = 42\n",
      "For postsyn: # valid synapses = 812, # error synapses  = 66, # error presyns = 0\n",
      "\n",
      "--- Finished Part 2: Filtering Synapses -----\n",
      "Synapsse Results:\n",
      "Total Number of Synapses = 1159\n",
      "n_valid_syn_ids_presyn = 214\n",
      "n_errored_syn_ids_presyn = 67\n",
      "n_valid_syn_ids_postsyn = 812\n",
      "n_errored_syn_ids_postsyn = 66\n",
      "\n",
      "--- Finished Part 3: Generating Validation Dataframe -----\n"
     ]
    }
   ],
   "source": [
    "(filt_neuron,\n",
    " return_synapse_df_revised,\n",
    "return_validation_df_revised) =  vu.filtered_neuron_score(neuron_obj = neuron_obj,   \n",
    "                        filter_list = pru.v4_exc_filters(),\n",
    "                        verbose = True,\n",
    "                        plot_score=False)"
   ]
  },
  {
   "cell_type": "code",
   "execution_count": 11,
   "metadata": {},
   "outputs": [
    {
     "name": "stdout",
     "output_type": "stream",
     "text": [
      "Segment Id = 864691136105498585\n",
      "Postsyn counts:\n",
      "TP:805\n",
      "TN:0\n",
      "FP:7\n",
      "FN:66\n",
      "Presyn counts:\n",
      "TP:210\n",
      "TN:0\n",
      "FP:4\n",
      "FN:25\n"
     ]
    },
    {
     "data": {
      "image/png": "[encoded data removed]",
      "text/plain": [
       "<Figure size 700x400 with 2 Axes>"
      ]
     },
     "metadata": {},
     "output_type": "display_data"
    }
   ],
   "source": [
    "vu.synapse_validation_df_to_score_plot(return_validation_df_revised)"
   ]
  },
  {
   "cell_type": "code",
   "execution_count": 12,
   "metadata": {},
   "outputs": [
    {
     "ename": "NameError",
     "evalue": "name 'base_filt_neuron' is not defined",
     "output_type": "error",
     "traceback": [
      "\u001b[0;31m---------------------------------------------------------------------------\u001b[0m",
      "\u001b[0;31mNameError\u001b[0m                                 Traceback (most recent call last)",
      "\u001b[0;32m<ipython-input-12-27bada4e70b4>\u001b[0m in \u001b[0;36m<module>\u001b[0;34m\u001b[0m\n\u001b[1;32m     14\u001b[0m                              \u001b[0;31m#for plotting the actual mesh parts to go along\u001b[0m\u001b[0;34m\u001b[0m\u001b[0;34m\u001b[0m\u001b[0;34m\u001b[0m\u001b[0m\n\u001b[1;32m     15\u001b[0m \u001b[0;34m\u001b[0m\u001b[0m\n\u001b[0;32m---> 16\u001b[0;31m                              \u001b[0mneuron_obj\u001b[0m \u001b[0;34m=\u001b[0m \u001b[0mbase_filt_neuron\u001b[0m\u001b[0;34m,\u001b[0m\u001b[0;34m\u001b[0m\u001b[0;34m\u001b[0m\u001b[0m\n\u001b[0m\u001b[1;32m     17\u001b[0m                              \u001b[0mplot_only_axon_skeleton\u001b[0m \u001b[0;34m=\u001b[0m \u001b[0;32mTrue\u001b[0m\u001b[0;34m,\u001b[0m\u001b[0;34m\u001b[0m\u001b[0;34m\u001b[0m\u001b[0m\n\u001b[1;32m     18\u001b[0m                              \u001b[0merror_mesh_color\u001b[0m \u001b[0;34m=\u001b[0m \u001b[0;34m\"red\"\u001b[0m\u001b[0;34m,\u001b[0m\u001b[0;34m\u001b[0m\u001b[0;34m\u001b[0m\u001b[0m\n",
      "\u001b[0;31mNameError\u001b[0m: name 'base_filt_neuron' is not defined"
     ]
    }
   ],
   "source": [
    "vu.plot_validation_synapses(segment_id,\n",
    "                            validation_df = return_validation_df_revised,\n",
    "                             synapse_dict = None,\n",
    "                             synapses_type_to_plot = None,\n",
    "                             synapses_type_to_not_plot = None,\n",
    "                             verbose=False,\n",
    "                             synapse_type = \"presyn\",\n",
    "                             TP_color=\"yellow\",\n",
    "                            TN_color=\"aqua\",\n",
    "                            FP_color=\"black\",\n",
    "                            FN_color=\"orange\",\n",
    "                             synapse_scatter_size = 0.15,\n",
    "                             \n",
    "                             #for plotting the actual mesh parts to go along\n",
    "                             \n",
    "                             neuron_obj = base_filt_neuron,\n",
    "                             plot_only_axon_skeleton = True,\n",
    "                             error_mesh_color = \"red\",\n",
    "                             valid_mesh_color = \"green\",\n",
    "                             valid_skeleton_color = \"black\",\n",
    "                             mesh_alpha = 0.3,)"
   ]
  },
  {
   "cell_type": "code",
   "execution_count": 14,
   "metadata": {},
   "outputs": [
    {
     "name": "stdout",
     "output_type": "stream",
     "text": [
      "Saved object at /neuron_mesh_tools/Auto_Proofreading/Error_Detection_Rules/Version_4/example_df.pbz2\n",
      "File size is 0.024535 MB\n"
     ]
    }
   ],
   "source": [
    "import system_utils as su\n",
    "su.compressed_pickle(return_validation_df_revised,\"example_df\")"
   ]
  },
  {
   "cell_type": "code",
   "execution_count": 15,
   "metadata": {},
   "outputs": [
    {
     "data": {
      "text/html": [
       "<div>\n",
       "<style scoped>\n",
       "    .dataframe tbody tr th:only-of-type {\n",
       "        vertical-align: middle;\n",
       "    }\n",
       "\n",
       "    .dataframe tbody tr th {\n",
       "        vertical-align: top;\n",
       "    }\n",
       "\n",
       "    .dataframe thead th {\n",
       "        text-align: right;\n",
       "    }\n",
       "</style>\n",
       "<table border=\"1\" class=\"dataframe\">\n",
       "  <thead>\n",
       "    <tr style=\"text-align: right;\">\n",
       "      <th></th>\n",
       "      <th>synapse_id</th>\n",
       "      <th>synapse_type</th>\n",
       "      <th>auto_valid</th>\n",
       "      <th>synapse_x</th>\n",
       "      <th>synapse_y</th>\n",
       "      <th>synapse_z</th>\n",
       "      <th>manual_valid</th>\n",
       "      <th>category</th>\n",
       "      <th>old_segment_id</th>\n",
       "      <th>new_segment_id</th>\n",
       "      <th>euclidean_distance_to_nuclei</th>\n",
       "    </tr>\n",
       "  </thead>\n",
       "  <tbody>\n",
       "    <tr>\n",
       "      <th>0</th>\n",
       "      <td>104776252</td>\n",
       "      <td>presyn</td>\n",
       "      <td>True</td>\n",
       "      <td>587224</td>\n",
       "      <td>896760</td>\n",
       "      <td>851440</td>\n",
       "      <td>False</td>\n",
       "      <td>FP</td>\n",
       "      <td>864691136105498585</td>\n",
       "      <td>864691135462463389</td>\n",
       "      <td>141306.595039</td>\n",
       "    </tr>\n",
       "    <tr>\n",
       "      <th>1</th>\n",
       "      <td>113727235</td>\n",
       "      <td>presyn</td>\n",
       "      <td>True</td>\n",
       "      <td>588280</td>\n",
       "      <td>896056</td>\n",
       "      <td>851400</td>\n",
       "      <td>False</td>\n",
       "      <td>FP</td>\n",
       "      <td>864691136105498585</td>\n",
       "      <td>864691135462463389</td>\n",
       "      <td>140166.167602</td>\n",
       "    </tr>\n",
       "    <tr>\n",
       "      <th>2</th>\n",
       "      <td>113729461</td>\n",
       "      <td>presyn</td>\n",
       "      <td>True</td>\n",
       "      <td>602896</td>\n",
       "      <td>888784</td>\n",
       "      <td>854480</td>\n",
       "      <td>False</td>\n",
       "      <td>FP</td>\n",
       "      <td>864691136105498585</td>\n",
       "      <td>864691135462463389</td>\n",
       "      <td>126905.700773</td>\n",
       "    </tr>\n",
       "    <tr>\n",
       "      <th>3</th>\n",
       "      <td>114063971</td>\n",
       "      <td>presyn</td>\n",
       "      <td>True</td>\n",
       "      <td>603504</td>\n",
       "      <td>929464</td>\n",
       "      <td>825200</td>\n",
       "      <td>True</td>\n",
       "      <td>TP</td>\n",
       "      <td>864691136105498585</td>\n",
       "      <td>864691135462463389</td>\n",
       "      <td>133223.914628</td>\n",
       "    </tr>\n",
       "    <tr>\n",
       "      <th>4</th>\n",
       "      <td>116415948</td>\n",
       "      <td>presyn</td>\n",
       "      <td>True</td>\n",
       "      <td>617744</td>\n",
       "      <td>908040</td>\n",
       "      <td>923520</td>\n",
       "      <td>True</td>\n",
       "      <td>TP</td>\n",
       "      <td>864691136105498585</td>\n",
       "      <td>864691135462463389</td>\n",
       "      <td>166236.202746</td>\n",
       "    </tr>\n",
       "    <tr>\n",
       "      <th>...</th>\n",
       "      <td>...</td>\n",
       "      <td>...</td>\n",
       "      <td>...</td>\n",
       "      <td>...</td>\n",
       "      <td>...</td>\n",
       "      <td>...</td>\n",
       "      <td>...</td>\n",
       "      <td>...</td>\n",
       "      <td>...</td>\n",
       "      <td>...</td>\n",
       "      <td>...</td>\n",
       "    </tr>\n",
       "    <tr>\n",
       "      <th>1112</th>\n",
       "      <td>155937233</td>\n",
       "      <td>postsyn</td>\n",
       "      <td>False</td>\n",
       "      <td>685528</td>\n",
       "      <td>876652</td>\n",
       "      <td>986920</td>\n",
       "      <td>True</td>\n",
       "      <td>FN</td>\n",
       "      <td>864691136105498585</td>\n",
       "      <td>864691135462463389</td>\n",
       "      <td>193801.981941</td>\n",
       "    </tr>\n",
       "    <tr>\n",
       "      <th>1113</th>\n",
       "      <td>155937293</td>\n",
       "      <td>postsyn</td>\n",
       "      <td>False</td>\n",
       "      <td>685808</td>\n",
       "      <td>873920</td>\n",
       "      <td>989760</td>\n",
       "      <td>True</td>\n",
       "      <td>FN</td>\n",
       "      <td>864691136105498585</td>\n",
       "      <td>864691135462463389</td>\n",
       "      <td>196294.043252</td>\n",
       "    </tr>\n",
       "    <tr>\n",
       "      <th>1114</th>\n",
       "      <td>155937318</td>\n",
       "      <td>postsyn</td>\n",
       "      <td>False</td>\n",
       "      <td>685952</td>\n",
       "      <td>877416</td>\n",
       "      <td>987640</td>\n",
       "      <td>True</td>\n",
       "      <td>FN</td>\n",
       "      <td>864691136105498585</td>\n",
       "      <td>864691135462463389</td>\n",
       "      <td>194541.703784</td>\n",
       "    </tr>\n",
       "    <tr>\n",
       "      <th>1115</th>\n",
       "      <td>155937451</td>\n",
       "      <td>postsyn</td>\n",
       "      <td>False</td>\n",
       "      <td>686768</td>\n",
       "      <td>873568</td>\n",
       "      <td>992200</td>\n",
       "      <td>True</td>\n",
       "      <td>FN</td>\n",
       "      <td>864691136105498585</td>\n",
       "      <td>864691135462463389</td>\n",
       "      <td>198555.456960</td>\n",
       "    </tr>\n",
       "    <tr>\n",
       "      <th>1116</th>\n",
       "      <td>210711827</td>\n",
       "      <td>postsyn</td>\n",
       "      <td>False</td>\n",
       "      <td>820072</td>\n",
       "      <td>869456</td>\n",
       "      <td>790560</td>\n",
       "      <td>True</td>\n",
       "      <td>FN</td>\n",
       "      <td>864691136105498585</td>\n",
       "      <td>864691135462463389</td>\n",
       "      <td>110579.421339</td>\n",
       "    </tr>\n",
       "  </tbody>\n",
       "</table>\n",
       "<p>1117 rows × 11 columns</p>\n",
       "</div>"
      ],
      "text/plain": [
       "      synapse_id synapse_type  auto_valid  synapse_x  synapse_y  synapse_z  \\\n",
       "0      104776252       presyn        True     587224     896760     851440   \n",
       "1      113727235       presyn        True     588280     896056     851400   \n",
       "2      113729461       presyn        True     602896     888784     854480   \n",
       "3      114063971       presyn        True     603504     929464     825200   \n",
       "4      116415948       presyn        True     617744     908040     923520   \n",
       "...          ...          ...         ...        ...        ...        ...   \n",
       "1112   155937233      postsyn       False     685528     876652     986920   \n",
       "1113   155937293      postsyn       False     685808     873920     989760   \n",
       "1114   155937318      postsyn       False     685952     877416     987640   \n",
       "1115   155937451      postsyn       False     686768     873568     992200   \n",
       "1116   210711827      postsyn       False     820072     869456     790560   \n",
       "\n",
       "      manual_valid category      old_segment_id      new_segment_id  \\\n",
       "0            False       FP  864691136105498585  864691135462463389   \n",
       "1            False       FP  864691136105498585  864691135462463389   \n",
       "2            False       FP  864691136105498585  864691135462463389   \n",
       "3             True       TP  864691136105498585  864691135462463389   \n",
       "4             True       TP  864691136105498585  864691135462463389   \n",
       "...            ...      ...                 ...                 ...   \n",
       "1112          True       FN  864691136105498585  864691135462463389   \n",
       "1113          True       FN  864691136105498585  864691135462463389   \n",
       "1114          True       FN  864691136105498585  864691135462463389   \n",
       "1115          True       FN  864691136105498585  864691135462463389   \n",
       "1116          True       FN  864691136105498585  864691135462463389   \n",
       "\n",
       "      euclidean_distance_to_nuclei  \n",
       "0                    141306.595039  \n",
       "1                    140166.167602  \n",
       "2                    126905.700773  \n",
       "3                    133223.914628  \n",
       "4                    166236.202746  \n",
       "...                            ...  \n",
       "1112                 193801.981941  \n",
       "1113                 196294.043252  \n",
       "1114                 194541.703784  \n",
       "1115                 198555.456960  \n",
       "1116                 110579.421339  \n",
       "\n",
       "[1117 rows x 11 columns]"
      ]
     },
     "execution_count": 15,
     "metadata": {},
     "output_type": "execute_result"
    }
   ],
   "source": [
    "su.decompress_pickle(\"example_df\")"
   ]
  },
  {
   "cell_type": "code",
   "execution_count": null,
   "metadata": {},
   "outputs": [],
   "source": []
  }
 ],
 "metadata": {
  "kernelspec": {
   "display_name": "Python 3",
   "language": "python",
   "name": "python3"
  },
  "language_info": {
   "codemirror_mode": {
    "name": "ipython",
    "version": 3
   },
   "file_extension": ".py",
   "mimetype": "text/x-python",
   "name": "python",
   "nbconvert_exporter": "python",
   "pygments_lexer": "ipython3",
   "version": "3.6.9"
  }
 },
 "nbformat": 4,
 "nbformat_minor": 4
}
