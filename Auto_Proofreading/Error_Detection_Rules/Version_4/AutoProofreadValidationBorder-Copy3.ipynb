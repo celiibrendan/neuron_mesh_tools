{
 "cells": [
  {
   "cell_type": "code",
   "execution_count": 1,
   "metadata": {},
   "outputs": [
    {
     "data": {
      "text/plain": [
       "'\\nPurpose: To decompose the multi-somas for splitting\\nusing the new decomposition method\\n\\n\\n\\n\\n'"
      ]
     },
     "execution_count": 1,
     "metadata": {},
     "output_type": "execute_result"
    }
   ],
   "source": [
    "\"\"\"\n",
    "Purpose: To decompose the multi-somas for splitting\n",
    "using the new decomposition method\n",
    "\n",
    "\n",
    "\n",
    "\n",
    "\"\"\"\n"
   ]
  },
  {
   "cell_type": "code",
   "execution_count": 2,
   "metadata": {},
   "outputs": [
    {
     "name": "stderr",
     "output_type": "stream",
     "text": [
      "INFO - 2021-04-07 06:51:56,707 - settings - Setting database.host to at-database.ad.bcm.edu\n",
      "INFO - 2021-04-07 06:51:56,709 - settings - Setting database.user to celiib\n",
      "INFO - 2021-04-07 06:51:56,722 - settings - Setting database.password to newceliipass\n",
      "INFO - 2021-04-07 06:51:56,730 - settings - Setting stores to {'minnie65': {'protocol': 'file', 'location': '/mnt/dj-stor01/platinum/minnie65', 'stage': '/mnt/dj-stor01/platinum/minnie65'}, 'meshes': {'protocol': 'file', 'location': '/mnt/dj-stor01/platinum/minnie65/02/meshes', 'stage': '/mnt/dj-stor01/platinum/minnie65/02/meshes'}, 'decimated_meshes': {'protocol': 'file', 'location': '/mnt/dj-stor01/platinum/minnie65/02/decimated_meshes', 'stage': '/mnt/dj-stor01/platinum/minnie65/02/decimated_meshes'}, 'skeletons': {'protocol': 'file', 'location': '/mnt/dj-stor01/platinum/minnie65/02/skeletons'}}\n",
      "INFO - 2021-04-07 06:51:56,730 - settings - Setting enable_python_native_blobs to True\n",
      "INFO - 2021-04-07 06:51:56,741 - connection - Connected celiib@at-database.ad.bcm.edu:3306\n"
     ]
    },
    {
     "name": "stdout",
     "output_type": "stream",
     "text": [
      "Connecting celiib@at-database.ad.bcm.edu:3306\n"
     ]
    },
    {
     "name": "stderr",
     "output_type": "stream",
     "text": [
      "INFO - 2021-04-07 06:51:57,208 - settings - Setting enable_python_native_blobs to True\n",
      "INFO - 2021-04-07 06:51:57,212 - settings - Setting database.host to at-database.ad.bcm.edu\n",
      "INFO - 2021-04-07 06:51:57,214 - settings - Setting database.user to celiib\n",
      "INFO - 2021-04-07 06:51:57,225 - settings - Setting database.password to newceliipass\n",
      "INFO - 2021-04-07 06:51:57,225 - settings - Setting database.host to at-database.ad.bcm.edu\n",
      "INFO - 2021-04-07 06:51:57,226 - settings - Setting database.user to celiib\n",
      "INFO - 2021-04-07 06:51:57,226 - settings - Setting database.password to newceliipass\n",
      "INFO - 2021-04-07 06:51:57,227 - settings - Setting enable_python_native_blobs to True\n",
      "INFO - 2021-04-07 06:51:57,694 - settings - Setting enable_python_native_blobs to True\n"
     ]
    }
   ],
   "source": [
    "import numpy as np\n",
    "import datajoint as dj\n",
    "import trimesh\n",
    "from tqdm.notebook import tqdm\n",
    "from pathlib import Path\n",
    "\n",
    "from os import sys\n",
    "sys.path.append(\"/meshAfterParty/\")\n",
    "sys.path.append(\"/meshAfterParty/meshAfterParty\")\n",
    "\n",
    "import datajoint_utils as du\n",
    "from importlib import reload"
   ]
  },
  {
   "cell_type": "code",
   "execution_count": 3,
   "metadata": {},
   "outputs": [],
   "source": [
    "#so that it will have the adapter defined\n",
    "from datajoint_utils import *"
   ]
  },
  {
   "cell_type": "code",
   "execution_count": 4,
   "metadata": {},
   "outputs": [],
   "source": [
    "test_mode = True"
   ]
  },
  {
   "cell_type": "markdown",
   "metadata": {},
   "source": [
    "# Debugging the contains method"
   ]
  },
  {
   "cell_type": "code",
   "execution_count": 5,
   "metadata": {},
   "outputs": [],
   "source": [
    "import system_utils as su"
   ]
  },
  {
   "cell_type": "code",
   "execution_count": 6,
   "metadata": {},
   "outputs": [
    {
     "name": "stderr",
     "output_type": "stream",
     "text": [
      "INFO - 2021-04-07 06:51:58,923 - settings - Setting database.host to at-database.ad.bcm.edu\n",
      "INFO - 2021-04-07 06:51:58,925 - settings - Setting database.user to celiib\n",
      "INFO - 2021-04-07 06:51:58,926 - settings - Setting database.password to newceliipass\n",
      "INFO - 2021-04-07 06:51:58,927 - settings - Setting database.host to at-database.ad.bcm.edu\n",
      "INFO - 2021-04-07 06:51:58,927 - settings - Setting database.user to celiib\n",
      "INFO - 2021-04-07 06:51:58,928 - settings - Setting database.password to newceliipass\n",
      "INFO - 2021-04-07 06:51:58,931 - settings - Setting enable_python_native_blobs to True\n"
     ]
    },
    {
     "name": "stdout",
     "output_type": "stream",
     "text": [
      "Sleeping 117 sec before conneting\n",
      "Done sleeping\n",
      "Current path for external_segmentation_path = /mnt/dj-stor01/platinum/minnie65/02\n",
      "Current path for external_mesh_path = /mnt/dj-stor01/platinum/minnie65/02/meshes\n",
      "Current path for external_decimated_mesh_path = /mnt/dj-stor01/platinum/minnie65/02/decimated_meshes\n",
      "Current path for external_skeleton_path = /mnt/dj-stor01/platinum/minnie65/02/skeletons\n"
     ]
    },
    {
     "name": "stderr",
     "output_type": "stream",
     "text": [
      "INFO - 2021-04-07 06:51:59,291 - settings - Setting enable_python_native_blobs to True\n"
     ]
    }
   ],
   "source": [
    "import minfig\n",
    "import time\n",
    "import numpy as np\n",
    "#want to add in a wait for the connection part\n",
    "random_sleep_sec = np.random.randint(0, 200)\n",
    "print(f\"Sleeping {random_sleep_sec} sec before conneting\")\n",
    "if not test_mode:\n",
    "    time.sleep(random_sleep_sec)\n",
    "print(\"Done sleeping\")\n",
    "\n",
    "du.config_celii()\n",
    "du.set_minnie65_config_segmentation(minfig)\n",
    "du.print_minnie65_config_paths(minfig)\n",
    "\n",
    "#configuring will include the adapters\n",
    "minnie,schema = du.configure_minnie_vm()"
   ]
  },
  {
   "cell_type": "code",
   "execution_count": 7,
   "metadata": {},
   "outputs": [],
   "source": [
    "from importlib import reload\n",
    "\n",
    "import neuron_utils as nru\n",
    "\n",
    "import neuron\n",
    "\n",
    "import neuron_visualizations as nviz\n",
    "\n",
    "import time\n",
    "\n",
    "import datajoint_utils as du\n",
    "\n",
    "import numpy as np\n",
    "\n",
    "import proofreading_utils as pru\n",
    "\n",
    "import preprocessing_vp2 as pre\n",
    "\n",
    "# -- For the axon classification --\n",
    "\n",
    "import neuron_searching as ns\n",
    "\n",
    "import skeleton_utils as sk\n",
    "\n",
    "import numpy_utils as nu\n",
    "\n",
    "import networkx_utils as xu\n",
    "\n",
    "import system_utils as su\n",
    "\n",
    "import classification_utils as clu\n",
    "import proofreading_utils as pru\n",
    "\n",
    "import datajoint as dj\n",
    "\n",
    "from pykdtree.kdtree import KDTree\n",
    "import trimesh_utils as tu\n",
    "import proofreading_utils as pru\n",
    "import numpy as np\n",
    "import axon_utils as au\n",
    "import validation_utils as vu"
   ]
  },
  {
   "cell_type": "markdown",
   "metadata": {},
   "source": [
    "# Defining the Table"
   ]
  },
  {
   "cell_type": "code",
   "execution_count": 8,
   "metadata": {},
   "outputs": [],
   "source": [
    "import neuron_utils as nru\n",
    "import neuron\n",
    "import trimesh_utils as tu\n",
    "import numpy as np"
   ]
  },
  {
   "cell_type": "code",
   "execution_count": 9,
   "metadata": {},
   "outputs": [
    {
     "name": "stdout",
     "output_type": "stream",
     "text": [
      "No port chosen so picked random port 2700\n"
     ]
    }
   ],
   "source": [
    "import meshlab\n",
    "meshlab.set_meshlab_port(current_port=None)"
   ]
  },
  {
   "cell_type": "markdown",
   "metadata": {},
   "source": [
    "# Creating the Auto Proofread Neuron Table"
   ]
  },
  {
   "cell_type": "code",
   "execution_count": 10,
   "metadata": {},
   "outputs": [],
   "source": [
    "# minnie,schema = du.configure_minnie_vm()\n",
    "# AutoProofreadValidationBorderNeurons.drop()\n",
    "# AutoProofreadValidationBorder.drop()\n",
    "# minnie.schema.external['decomposition'].delete(delete_external_files=True)"
   ]
  },
  {
   "cell_type": "code",
   "execution_count": 11,
   "metadata": {},
   "outputs": [],
   "source": [
    "@schema\n",
    "class AutoProofreadValidationBorderNeurons(dj.Manual):\n",
    "    definition=\"\"\"\n",
    "    -> minnie.AutoProofreadValidationStats3()\n",
    "    ---\n",
    "    decomposition: <decomposition>\n",
    "    \"\"\""
   ]
  },
  {
   "cell_type": "code",
   "execution_count": 12,
   "metadata": {},
   "outputs": [],
   "source": [
    "import numpy as np\n",
    "import time\n",
    "\n",
    "verbose = True\n",
    "axon_version = 0\n",
    "@schema\n",
    "class AutoProofreadValidationBorder(dj.Computed):\n",
    "    definition=\"\"\"\n",
    "    -> minnie.AutoProofreadValidationStats3()\n",
    "    axon_version    : tinyint unsigned \n",
    "    parent_idx: smallint unsigned\n",
    "    ---\n",
    "    web_size_faces=NULL : smallint unsigned\n",
    "    web_size_volume=NULL : double\n",
    "    web_size_skeleton=NULL : double\n",
    "    web_size_ray_trace_percentile=NULL : double\n",
    "    web_bbox_ratios_max=NULL: double\n",
    "    web_bbox_ratios_min=NULL: double\n",
    "    web_volume_ratio=NULL: double\n",
    "    web_cdf=NULL: double\n",
    "    parent_n_large_boutons=NULL : tinyint unsigned \n",
    "    parent_n_boutons=NULL : tinyint unsigned \n",
    "    parent_no_bouton_median=NULL : double\n",
    "    parent_no_spine_median_mesh_center=NULL : double\n",
    "    child_no_bouton_median_min =NULL: double\n",
    "    child_no_bouton_median_diff_min=NULL : double\n",
    "    child_no_spine_median_mesh_center_min=NULL :double\n",
    "    child_no_spine_median_mesh_center_diff_min=NULL : double\n",
    "    child_angle_min=NULL : double\n",
    "    child_n_boutons_min=NULL : tinyint unsigned\n",
    "    child_n_large_boutons_min=NULL : tinyint unsigned\n",
    "    child_no_bouton_median_max =NULL: double\n",
    "    child_no_bouton_median_diff_max=NULL: double\n",
    "    child_no_spine_median_mesh_center_max=NULL : double\n",
    "    child_no_spine_median_mesh_center_diff_max=NULL :double\n",
    "    child_angle_max=NULL : double\n",
    "    child_n_boutons_max =NULL: tinyint unsigned\n",
    "    child_n_large_boutons_max=NULL : tinyint unsigned\n",
    "    sibling_angles_min=NULL: double\n",
    "    sibling_angles_max=NULL: double\n",
    "    label: varchar(10)\n",
    "    \n",
    "    \"\"\"\n",
    "\n",
    "    key_source = du.proofreading_stats_table(validation=True)\n",
    "    \n",
    "    \n",
    "\n",
    "    def make(self,key):\n",
    "        \"\"\"\n",
    "        Pseudocode:\n",
    "        1) Pull down the neuron object\n",
    "        2) Run the complete axon preprocessing on the neuron\n",
    "        3) Run the borders attributes dictionary\n",
    "        4) Save off the neuron object\n",
    "        5) Write the Attribute records\n",
    "\n",
    "        \"\"\"\n",
    "        print(f\"\\n\\n\\n---- Working on Neuron {key['segment_id']} ----\")\n",
    "        \n",
    "        # 1) Pull Down All of the Neurons\n",
    "        segment_id = key[\"segment_id\"]\n",
    "        \n",
    "        whole_pass_time = time.time()\n",
    "        neuron_objs,neuron_split_idxs = du.decomposition_with_spine_recalculation(segment_id)    \n",
    "        neuron_obj = neuron_objs[0]\n",
    "        \n",
    "        #2) Run the complete axon preprocessing on the neuron\n",
    "        neuron_obj_with_web = au.complete_axon_processing(neuron_obj,\n",
    "                                                 verbose=True)\n",
    "        \n",
    "        \n",
    "        branch_attr = vu.neuron_to_border_branching_attributes(neuron_obj_with_web,\n",
    "                                         plot_valid_border_branches=False,\n",
    "                                          plot_invalid_border_branches = False,\n",
    "                                          verbose=False\n",
    "                                         )\n",
    "        \n",
    "        #3) Run the borders attributes dictionary\n",
    "        branch_attr = vu.neuron_to_border_branching_attributes(neuron_obj_with_web,\n",
    "                                         plot_valid_border_branches=False,\n",
    "                                          plot_invalid_border_branches = False,\n",
    "                                          verbose=False\n",
    "                                         )\n",
    "        branch_attr_keys = []\n",
    "        for k in branch_attr:\n",
    "            new_dict  = dict(key)\n",
    "            new_dict.update(k)\n",
    "            new_dict[\"axon_version\"] = axon_version\n",
    "            branch_attr_keys.append(new_dict)\n",
    "            \n",
    "        if verbose:\n",
    "            print(f\"\\n\\nlen(branch_attr_keys) = {len(branch_attr_keys)}\")\n",
    "            \n",
    "            \n",
    "        \n",
    "        #4) Save the file in a certain location\n",
    "        save_time = time.time()\n",
    "        ret_file_path = neuron_obj_with_web.save_compressed_neuron(output_folder=str(du.get_decomposition_path()),\n",
    "                                        file_name=f\"{neuron_obj_with_web.segment_id}_{neuron_obj_with_web.description}_full_axon\",\n",
    "                                          return_file_path=True,\n",
    "                                         export_mesh=False,\n",
    "                                         suppress_output=True)\n",
    "\n",
    "        ret_file_path_str = str(ret_file_path.absolute()) + \".pbz2\"\n",
    "        print(f\"Save time = {time.time() - save_time}\")\n",
    "        \n",
    "        n_dict = dict(key,\n",
    "                     decomposition=ret_file_path_str)\n",
    "        \n",
    "        AutoProofreadValidationBorderNeurons.insert1(n_dict,skip_duplicates=True)\n",
    "        \n",
    "        \n",
    "        \n",
    "        \n",
    "        #5) Write the Attribute records\n",
    "        if len(branch_attr_keys)>0:\n",
    "            AutoProofreadValidationBorder.insert(branch_attr_keys,skip_duplicates=True)\n",
    "\n",
    "    \n",
    "\n",
    "        print(f\"\\n\\n ***------ Total time for {key['segment_id']} = {time.time() - whole_pass_time} ------ ***\")\n",
    "    \n"
   ]
  },
  {
   "cell_type": "markdown",
   "metadata": {},
   "source": [
    "# Running the Populate"
   ]
  },
  {
   "cell_type": "code",
   "execution_count": 13,
   "metadata": {},
   "outputs": [
    {
     "data": {
      "text/html": [
       "\n",
       "        \n",
       "        <style type=\"text/css\">\n",
       "            .Relation{\n",
       "                border-collapse:collapse;\n",
       "            }\n",
       "            .Relation th{\n",
       "                background: #A0A0A0; color: #ffffff; padding:4px; border:#f0e0e0 1px solid;\n",
       "                font-weight: normal; font-family: monospace; font-size: 100%;\n",
       "            }\n",
       "            .Relation td{\n",
       "                padding:4px; border:#f0e0e0 1px solid; font-size:100%;\n",
       "            }\n",
       "            .Relation tr:nth-child(odd){\n",
       "                background: #ffffff;\n",
       "            }\n",
       "            .Relation tr:nth-child(even){\n",
       "                background: #f3f1ff;\n",
       "            }\n",
       "            /* Tooltip container */\n",
       "            .djtooltip {\n",
       "            }\n",
       "            /* Tooltip text */\n",
       "            .djtooltip .djtooltiptext {\n",
       "                visibility: hidden;\n",
       "                width: 120px;\n",
       "                background-color: black;\n",
       "                color: #fff;\n",
       "                text-align: center;\n",
       "                padding: 5px 0;\n",
       "                border-radius: 6px;\n",
       "                /* Position the tooltip text - see examples below! */\n",
       "                position: absolute;\n",
       "                z-index: 1;\n",
       "            }\n",
       "            #primary {\n",
       "                font-weight: bold;\n",
       "                color: black;\n",
       "            }\n",
       "\n",
       "            #nonprimary {\n",
       "                font-weight: normal;\n",
       "                color: white;\n",
       "            }\n",
       "\n",
       "            /* Show the tooltip text when you mouse over the tooltip container */\n",
       "            .djtooltip:hover .djtooltiptext {\n",
       "                visibility: visible;\n",
       "            }\n",
       "        </style>\n",
       "        \n",
       "        <b>job reservation table for `microns_minnie65_02`</b>\n",
       "            <div style=\"max-height:1000px;max-width:1500px;overflow:auto;\">\n",
       "            <table border=\"1\" class=\"Relation\">\n",
       "                <thead> <tr style=\"text-align: right;\"> <th> <div class=\"djtooltip\">\n",
       "                                <p id=\"primary\">table_name</p>\n",
       "                                <span class=\"djtooltiptext\">className of the table</span>\n",
       "                            </div></th><th><div class=\"djtooltip\">\n",
       "                                <p id=\"primary\">key_hash</p>\n",
       "                                <span class=\"djtooltiptext\">key hash</span>\n",
       "                            </div></th><th><div class=\"djtooltip\">\n",
       "                                <p id=\"nonprimary\">status</p>\n",
       "                                <span class=\"djtooltiptext\">if tuple is missing, the job is available</span>\n",
       "                            </div></th><th><div class=\"djtooltip\">\n",
       "                                <p id=\"nonprimary\">key</p>\n",
       "                                <span class=\"djtooltiptext\">structure containing the key</span>\n",
       "                            </div></th><th><div class=\"djtooltip\">\n",
       "                                <p id=\"nonprimary\">error_message</p>\n",
       "                                <span class=\"djtooltiptext\">error message returned if failed</span>\n",
       "                            </div></th><th><div class=\"djtooltip\">\n",
       "                                <p id=\"nonprimary\">error_stack</p>\n",
       "                                <span class=\"djtooltiptext\">error stack if failed</span>\n",
       "                            </div></th><th><div class=\"djtooltip\">\n",
       "                                <p id=\"nonprimary\">user</p>\n",
       "                                <span class=\"djtooltiptext\">database user</span>\n",
       "                            </div></th><th><div class=\"djtooltip\">\n",
       "                                <p id=\"nonprimary\">host</p>\n",
       "                                <span class=\"djtooltiptext\">system hostname</span>\n",
       "                            </div></th><th><div class=\"djtooltip\">\n",
       "                                <p id=\"nonprimary\">pid</p>\n",
       "                                <span class=\"djtooltiptext\">system process id</span>\n",
       "                            </div></th><th><div class=\"djtooltip\">\n",
       "                                <p id=\"nonprimary\">connection_id</p>\n",
       "                                <span class=\"djtooltiptext\">connection_id()</span>\n",
       "                            </div></th><th><div class=\"djtooltip\">\n",
       "                                <p id=\"nonprimary\">timestamp</p>\n",
       "                                <span class=\"djtooltiptext\">automatic timestamp</span>\n",
       "                            </div> </th> </tr> </thead>\n",
       "                <tbody> <tr> <td>__auto_proofread_validation_border</td>\n",
       "<td>0de74ad7b84cfc9c306638e0a442aebe</td>\n",
       "<td>reserved</td>\n",
       "<td>=BLOB=</td>\n",
       "<td></td>\n",
       "<td>=BLOB=</td>\n",
       "<td>celiib@10.28.0.83</td>\n",
       "<td>at-compute004</td>\n",
       "<td>273689</td>\n",
       "<td>297416</td>\n",
       "<td>2021-04-07 01:51:45</td></tr><tr><td>__auto_proofread_validation_border</td>\n",
       "<td>777dd02c41181ca7ee9a337fc3b82f88</td>\n",
       "<td>reserved</td>\n",
       "<td>=BLOB=</td>\n",
       "<td></td>\n",
       "<td>=BLOB=</td>\n",
       "<td>celiib@10.28.0.83</td>\n",
       "<td>at-compute004</td>\n",
       "<td>273374</td>\n",
       "<td>297415</td>\n",
       "<td>2021-04-07 01:51:21</td></tr><tr><td>__auto_proofread_validation_border</td>\n",
       "<td>ec8fc00b71abce477c9b9b20392f42df</td>\n",
       "<td>reserved</td>\n",
       "<td>=BLOB=</td>\n",
       "<td></td>\n",
       "<td>=BLOB=</td>\n",
       "<td>celiib@10.28.0.83</td>\n",
       "<td>at-compute004</td>\n",
       "<td>272949</td>\n",
       "<td>297265</td>\n",
       "<td>2021-04-07 01:50:58</td> </tr> </tbody>\n",
       "            </table>\n",
       "            \n",
       "            <p>Total: 3</p></div>\n",
       "            "
      ],
      "text/plain": [
       "*table_name    *key_hash      status       key        error_message  error_stac user           host           pid        connection_id  timestamp     \n",
       "+------------+ +------------+ +----------+ +--------+ +------------+ +--------+ +------------+ +------------+ +--------+ +------------+ +------------+\n",
       "__auto_proofre 0de74ad7b84cfc reserved     =BLOB=                    =BLOB=     celiib@10.28.0 at-compute004  273689     297416         2021-04-07 01:\n",
       "__auto_proofre 777dd02c41181c reserved     =BLOB=                    =BLOB=     celiib@10.28.0 at-compute004  273374     297415         2021-04-07 01:\n",
       "__auto_proofre ec8fc00b71abce reserved     =BLOB=                    =BLOB=     celiib@10.28.0 at-compute004  272949     297265         2021-04-07 01:\n",
       " (Total: 3)"
      ]
     },
     "execution_count": 13,
     "metadata": {},
     "output_type": "execute_result"
    }
   ],
   "source": [
    "curr_table = (minnie.schema.jobs & \"table_name='__auto_proofread_validation_border'\")\n",
    "(curr_table)#.delete()# & \"status='error'\")\n",
    "#curr_table.delete()\n",
    "#(curr_table & \"error_message = 'ValueError: need at least one array to concatenate'\").delete()\n"
   ]
  },
  {
   "cell_type": "code",
   "execution_count": 14,
   "metadata": {},
   "outputs": [
    {
     "name": "stderr",
     "output_type": "stream",
     "text": [
      "INFO - 2021-04-07 06:51:59,395 - settings - Setting database.host to at-database.ad.bcm.edu\n",
      "INFO - 2021-04-07 06:51:59,395 - settings - Setting database.user to celiib\n",
      "INFO - 2021-04-07 06:51:59,396 - settings - Setting database.password to newceliipass\n",
      "INFO - 2021-04-07 06:51:59,396 - settings - Setting database.host to at-database.ad.bcm.edu\n",
      "INFO - 2021-04-07 06:51:59,397 - settings - Setting database.user to celiib\n",
      "INFO - 2021-04-07 06:51:59,397 - settings - Setting database.password to newceliipass\n",
      "INFO - 2021-04-07 06:51:59,398 - settings - Setting enable_python_native_blobs to True\n",
      "INFO - 2021-04-07 06:51:59,823 - settings - Setting enable_python_native_blobs to True\n",
      "INFO - 2021-04-07 06:51:59,900 - autopopulate - Found 53 keys to populate\n",
      "INFO - 2021-04-07 06:51:59,909 - connection - Transaction started\n",
      "INFO - 2021-04-07 06:51:59,912 - autopopulate - Populating: {'segment_id': 864691135974454895, 'decimation_version': 0, 'decimation_ratio': Decimal('0.25'), 'ver': Decimal('30.00'), 'process_version': 5, 'index': 0, 'split_index': 0, 'proof_version': 3}\n"
     ]
    },
    {
     "name": "stdout",
     "output_type": "stream",
     "text": [
      "Populate Started\n",
      "\n",
      "\n",
      "\n",
      "---- Working on Neuron 864691135974454895 ----\n",
      "Decompressing Neuron in minimal output mode...please wait\n",
      "Dont need spine recalculation\n",
      "Number of Neurons found = 1\n",
      "\n",
      "Part 1: Axon like branchese \n",
      "{'L0': array([ 8, 30]), 'L1': array([ 0,  1,  2,  3,  4,  5,  6,  7,  8,  9, 10, 11, 12, 13, 14, 15, 16,\n",
      "       17, 18, 19, 20, 21, 22, 23, 24, 25, 26, 27, 28, 29, 30, 31, 32, 33,\n",
      "       34, 35, 36, 37, 38, 39, 40, 41, 42, 43, 44, 45, 46, 47, 48, 49, 50,\n",
      "       51, 52, 53, 54, 55, 56, 57, 58, 59, 60, 61, 62, 63, 64, 65, 66, 67,\n",
      "       68, 69, 70, 71, 72]), 'L4': array([7])}\n",
      "Limb L0 soma angle: 11.37 \n",
      "Limb L1 soma angle: 162.43 \n",
      "Limb L2 soma angle: 62.06 \n",
      "Limb L3 soma angle: 98.65 \n",
      "Limb L4 soma angle: 108.16 \n",
      "Limb L5 soma angle: 82.46 \n",
      "Limb L6 soma angle: 118.75 \n",
      "Limb L7 soma angle: 119.54 \n",
      "\n",
      "Part 2: possible_axon_limbs = [1, 3, 4, 5, 6, 7]\n",
      "\n",
      "Phase 2: Working on Limb L1\n",
      "nodes_to_eliminate = []\n",
      "\n",
      "Phase 2: Working on Limb L3\n",
      "nodes_to_eliminate = []\n",
      "\n",
      "Phase 2: Working on Limb L4\n",
      "nodes_to_eliminate = []\n",
      "\n",
      "Phase 2: Working on Limb L5\n",
      "nodes_to_eliminate = [8]\n",
      "\n",
      "Phase 2: Working on Limb L6\n",
      "nodes_to_eliminate = [1]\n",
      "\n",
      "Phase 2: Working on Limb L7\n",
      "nodes_to_eliminate = [8 9]\n",
      "\n",
      "----Working on Limb L1-----\n",
      "No nodes were eliminated so don't need to add back any candidates\n",
      "\n",
      "----Working on Limb L3-----\n",
      "No nodes were eliminated so don't need to add back any candidates\n",
      "\n",
      "----Working on Limb L4-----\n",
      "No nodes were eliminated so don't need to add back any candidates\n",
      "\n",
      "----Working on Limb L5-----\n",
      "No endpoints were eliminated so don't need to add back any candidates\n",
      "\n",
      "----Working on Limb L6-----\n",
      "No endpoints were eliminated so don't need to add back any candidates\n",
      "\n",
      "----Working on Limb L7-----\n",
      "No endpoints were eliminated so don't need to add back any candidates\n",
      "Final Candidates\n",
      "\n",
      "Limb 1\n",
      "Candidate 0 (crimson): array([ 0,  1,  2,  3,  4,  5,  6,  7,  8,  9, 10, 11, 12, 13, 14, 15, 16,\n",
      "       17, 18, 19, 20, 21, 22, 23, 24, 25, 26, 27, 28, 29, 30, 31, 32, 33,\n",
      "       34, 35, 36, 37, 38, 39, 40, 41, 42, 43, 44, 45, 46, 47, 48, 49, 50,\n",
      "       51, 52, 53, 54, 55, 56, 57, 58, 59, 60, 61, 62, 63, 64, 65, 66, 67,\n",
      "       68, 69, 70, 71, 72])\n",
      "\n",
      "Limb 3\n",
      "Candidate 0 (olive): array([0, 1, 2, 3, 4, 5, 6, 7, 8])\n",
      "\n",
      "Limb 4\n",
      "Candidate 0 (red): array([ 0,  1,  2,  3,  4,  5,  6,  7,  8,  9, 10])\n",
      "\n",
      "Limb 5\n",
      "Candidate 0 (orange): array([4])\n",
      "Candidate 1 (sandybrown): array([0, 1, 2, 3, 5, 6, 7])\n",
      "\n",
      "Limb 6\n",
      "Candidate 0 (forestgreen): array([0, 2, 4])\n",
      "Candidate 1 (cyan): array([3, 5, 6])\n",
      "\n",
      "Limb 7\n",
      "Candidate 0 (cyan): array([1])\n",
      "Candidate 1 (cyan): array([0, 4, 6, 7])\n",
      "Candidate 2 (darkslategray): array([ 2,  3,  5, 10, 12, 13, 14, 15, 16])\n",
      "Candidate 3 (cadetblue): array([11, 17, 18, 19, 20])\n",
      "Part 3: axon_subgraph_candidates = {1: [[0, 1, 2, 3, 4, 5, 6, 7, 8, 9, 10, 11, 12, 13, 14, 15, 16, 17, 18, 19, 20, 21, 22, 23, 24, 25, 26, 27, 28, 29, 30, 31, 32, 33, 34, 35, 36, 37, 38, 39, 40, 41, 42, 43, 44, 45, 46, 47, 48, 49, 50, 51, 52, 53, 54, 55, 56, 57, 58, 59, 60, 61, 62, 63, 64, 65, 66, 67, 68, 69, 70, 71, 72]], 3: [[0, 1, 2, 3, 4, 5, 6, 7, 8]], 4: [[0, 1, 2, 3, 4, 5, 6, 7, 8, 9, 10]], 5: [[4], [0, 1, 2, 3, 5, 6, 7]], 6: [[0, 2, 4], [3, 5, 6]], 7: [[1], [0, 4, 6, 7], [2, 3, 5, 10, 12, 13, 14, 15, 16], [11, 17, 18, 19, 20]]}\n",
      "\n",
      "\n",
      " --- Working on limb 1, candidate # 0\n",
      "73 out of 73 branches are axons\n",
      "Axon percentage = 1.0\n",
      "curr_axon_angle_threshold = 95\n",
      "candidate_nodes = [ 0  1  2  3  4  5  6  7  8  9 10 11 12 13 14 15 16 17 18 19 20 21 22 23\n",
      " 24 25 26 27 28 29 30 31 32 33 34 35 36 37 38 39 40 41 42 43 44 45 46 47\n",
      " 48 49 50 51 52 53 54 55 56 57 58 59 60 61 62 63 64 65 66 67 68 69 70 71\n",
      " 72]\n",
      "non_axon_branches_on_subgraph = []\n",
      "endnodes_to_test = [7620]\n",
      "Skeleton paths distances = [24920.48050264]\n",
      "Filtered indexes = [0]\n",
      "len(filtered_skeletons) = 1\n",
      "sk_angles = [166.41835399]\n",
      "candidate_angles,restr_skels = (array([166.41835399]), [array([[[1247810.,  716105., 1047720.],\n",
      "        [1247780.,  716198., 1047760.]],\n",
      "\n",
      "       [[1247780.,  716198., 1047760.],\n",
      "        [1247750.,  716316., 1047770.]],\n",
      "\n",
      "       [[1247750.,  716316., 1047770.],\n",
      "        [1247700.,  716462., 1047790.]],\n",
      "\n",
      "       [[1247700.,  716462., 1047790.],\n",
      "        [1247630.,  716653., 1047810.]],\n",
      "\n",
      "       [[1247630.,  716653., 1047810.],\n",
      "        [1247580.,  716771., 1047810.]],\n",
      "\n",
      "       [[1247580.,  716771., 1047810.],\n",
      "        [1247540.,  716874., 1047820.]],\n",
      "\n",
      "       [[1247540.,  716874., 1047820.],\n",
      "        [1247500.,  716988., 1047820.]],\n",
      "\n",
      "       [[1247500.,  716988., 1047820.],\n",
      "        [1247460.,  717099., 1047830.]],\n",
      "\n",
      "       [[1247460.,  717099., 1047830.],\n",
      "        [1247430.,  717182., 1047830.]],\n",
      "\n",
      "       [[1247430.,  717182., 1047830.],\n",
      "        [1247400.,  717239., 1047830.]],\n",
      "\n",
      "       [[1247400.,  717239., 1047830.],\n",
      "        [1247380.,  717345., 1047820.]],\n",
      "\n",
      "       [[1247380.,  717345., 1047820.],\n",
      "        [1247340.,  717485., 1047810.]],\n",
      "\n",
      "       [[1247340.,  717485., 1047810.],\n",
      "        [1247320.,  717544., 1047800.]],\n",
      "\n",
      "       [[1247320.,  717544., 1047800.],\n",
      "        [1247300.,  717644., 1047790.]],\n",
      "\n",
      "       [[1247300.,  717644., 1047790.],\n",
      "        [1247270.,  717753., 1047790.]],\n",
      "\n",
      "       [[1247270.,  717753., 1047790.],\n",
      "        [1247240.,  717868., 1047780.]],\n",
      "\n",
      "       [[1247240.,  717868., 1047780.],\n",
      "        [1247210.,  718028., 1047780.]],\n",
      "\n",
      "       [[1247210.,  718028., 1047780.],\n",
      "        [1247190.,  718159., 1047780.]],\n",
      "\n",
      "       [[1247190.,  718159., 1047780.],\n",
      "        [1247180.,  718257., 1047780.]],\n",
      "\n",
      "       [[1247180.,  718257., 1047780.],\n",
      "        [1247160.,  718400., 1047790.]],\n",
      "\n",
      "       [[1247160.,  718400., 1047790.],\n",
      "        [1247130.,  718575., 1047790.]],\n",
      "\n",
      "       [[1247130.,  718575., 1047790.],\n",
      "        [1247110.,  718776., 1047810.]],\n",
      "\n",
      "       [[1247110.,  718776., 1047810.],\n",
      "        [1247100.,  718798., 1047810.]],\n",
      "\n",
      "       [[1247100.,  718798., 1047810.],\n",
      "        [1247080.,  718954., 1047820.]],\n",
      "\n",
      "       [[1247080.,  718954., 1047820.],\n",
      "        [1247060.,  719132., 1047840.]],\n",
      "\n",
      "       [[1247060.,  719132., 1047840.],\n",
      "        [1247050.,  719244., 1047880.]],\n",
      "\n",
      "       [[1247050.,  719244., 1047880.],\n",
      "        [1247020.,  719422., 1047910.]],\n",
      "\n",
      "       [[1247020.,  719422., 1047910.],\n",
      "        [1247000.,  719538., 1047910.]],\n",
      "\n",
      "       [[1247000.,  719538., 1047910.],\n",
      "        [1246980.,  719667., 1047930.]],\n",
      "\n",
      "       [[1246980.,  719667., 1047930.],\n",
      "        [1246940.,  719832., 1047970.]],\n",
      "\n",
      "       [[1246940.,  719832., 1047970.],\n",
      "        [1246900.,  720008., 1048010.]],\n",
      "\n",
      "       [[1246900.,  720008., 1048010.],\n",
      "        [1246870.,  720155., 1048030.]],\n",
      "\n",
      "       [[1246870.,  720155., 1048030.],\n",
      "        [1246830.,  720308., 1048070.]],\n",
      "\n",
      "       [[1246830.,  720308., 1048070.],\n",
      "        [1246800.,  720431., 1048100.]],\n",
      "\n",
      "       [[1246800.,  720431., 1048100.],\n",
      "        [1246770.,  720547., 1048130.]],\n",
      "\n",
      "       [[1246770.,  720547., 1048130.],\n",
      "        [1246750.,  720664., 1048150.]],\n",
      "\n",
      "       [[1246750.,  720664., 1048150.],\n",
      "        [1246730.,  720777., 1048180.]],\n",
      "\n",
      "       [[1246730.,  720777., 1048180.],\n",
      "        [1246710.,  720886., 1048210.]],\n",
      "\n",
      "       [[1246710.,  720886., 1048210.],\n",
      "        [1246690.,  721060., 1048250.]],\n",
      "\n",
      "       [[1246690.,  721060., 1048250.],\n",
      "        [1246680.,  721190., 1048280.]],\n",
      "\n",
      "       [[1246680.,  721190., 1048280.],\n",
      "        [1246680.,  721307., 1048310.]],\n",
      "\n",
      "       [[1246680.,  721307., 1048310.],\n",
      "        [1246670.,  721434., 1048340.]],\n",
      "\n",
      "       [[1246670.,  721434., 1048340.],\n",
      "        [1246670.,  721529., 1048370.]],\n",
      "\n",
      "       [[1246670.,  721529., 1048370.],\n",
      "        [1246660.,  721666., 1048410.]],\n",
      "\n",
      "       [[1246660.,  721666., 1048410.],\n",
      "        [1246660.,  721845., 1048460.]],\n",
      "\n",
      "       [[1246660.,  721845., 1048460.],\n",
      "        [1246650.,  721955., 1048490.]],\n",
      "\n",
      "       [[1246650.,  721955., 1048490.],\n",
      "        [1246650.,  722071., 1048530.]],\n",
      "\n",
      "       [[1246650.,  722071., 1048530.],\n",
      "        [1246640.,  722199., 1048560.]],\n",
      "\n",
      "       [[1246640.,  722199., 1048560.],\n",
      "        [1246630.,  722322., 1048590.]],\n",
      "\n",
      "       [[1246630.,  722322., 1048590.],\n",
      "        [1246620.,  722412., 1048610.]],\n",
      "\n",
      "       [[1246620.,  722412., 1048610.],\n",
      "        [1246610.,  722499., 1048630.]],\n",
      "\n",
      "       [[1246610.,  722499., 1048630.],\n",
      "        [1246600.,  722591., 1048650.]],\n",
      "\n",
      "       [[1246600.,  722591., 1048650.],\n",
      "        [1246580.,  722722., 1048670.]],\n",
      "\n",
      "       [[1246580.,  722722., 1048670.],\n",
      "        [1246550.,  722877., 1048690.]],\n",
      "\n",
      "       [[1246550.,  722877., 1048690.],\n",
      "        [1246530.,  723012., 1048690.]],\n",
      "\n",
      "       [[1246530.,  723012., 1048690.],\n",
      "        [1246500.,  723131., 1048690.]],\n",
      "\n",
      "       [[1246500.,  723131., 1048690.],\n",
      "        [1246460.,  723309., 1048680.]],\n",
      "\n",
      "       [[1246460.,  723309., 1048680.],\n",
      "        [1246440.,  723392., 1048680.]],\n",
      "\n",
      "       [[1246440.,  723392., 1048680.],\n",
      "        [1246400.,  723521., 1048670.]],\n",
      "\n",
      "       [[1246400.,  723521., 1048670.],\n",
      "        [1246380.,  723619., 1048660.]],\n",
      "\n",
      "       [[1246380.,  723619., 1048660.],\n",
      "        [1246340.,  723751., 1048650.]],\n",
      "\n",
      "       [[1246340.,  723751., 1048650.],\n",
      "        [1246300.,  723904., 1048630.]],\n",
      "\n",
      "       [[1246300.,  723904., 1048630.],\n",
      "        [1246260.,  724040., 1048620.]],\n",
      "\n",
      "       [[1246260.,  724040., 1048620.],\n",
      "        [1246250.,  724094., 1048610.]],\n",
      "\n",
      "       [[1246250.,  724094., 1048610.],\n",
      "        [1246220.,  724189., 1048600.]],\n",
      "\n",
      "       [[1246220.,  724189., 1048600.],\n",
      "        [1246180.,  724301., 1048590.]],\n",
      "\n",
      "       [[1246180.,  724301., 1048590.],\n",
      "        [1246150.,  724414., 1048590.]],\n",
      "\n",
      "       [[1246150.,  724414., 1048590.],\n",
      "        [1246120.,  724485., 1048590.]],\n",
      "\n",
      "       [[1246120.,  724485., 1048590.],\n",
      "        [1246080.,  724619., 1048580.]],\n",
      "\n",
      "       [[1246080.,  724619., 1048580.],\n",
      "        [1246020.,  724778., 1048590.]],\n",
      "\n",
      "       [[1246020.,  724778., 1048590.],\n",
      "        [1245970.,  724911., 1048600.]],\n",
      "\n",
      "       [[1245970.,  724911., 1048600.],\n",
      "        [1245940.,  725008., 1048610.]],\n",
      "\n",
      "       [[1245940.,  725008., 1048610.],\n",
      "        [1245920.,  725086., 1048620.]],\n",
      "\n",
      "       [[1245920.,  725086., 1048620.],\n",
      "        [1245880.,  725181., 1048630.]],\n",
      "\n",
      "       [[1245880.,  725181., 1048630.],\n",
      "        [1245840.,  725311., 1048660.]],\n",
      "\n",
      "       [[1245840.,  725311., 1048660.],\n",
      "        [1245810.,  725439., 1048690.]],\n",
      "\n",
      "       [[1245810.,  725439., 1048690.],\n",
      "        [1245780.,  725525., 1048710.]],\n",
      "\n",
      "       [[1245780.,  725525., 1048710.],\n",
      "        [1245760.,  725620., 1048730.]],\n",
      "\n",
      "       [[1245760.,  725620., 1048730.],\n",
      "        [1245730.,  725731., 1048760.]]])])\n"
     ]
    },
    {
     "name": "stdout",
     "output_type": "stream",
     "text": [
      "base_final_widths = [383.14742453 639.65276725 468.19419737]\n",
      "overall_ais_width = 343.438602268539\n",
      "ais_width = 496.99812971822877\n",
      "Adding the following branches as true axons: [ 0.  1.  2.  3.  4.  5.  6.  7.  8.  9. 10. 11. 12. 13. 14. 15. 16. 17.\n",
      " 18. 19. 20. 21. 22. 23. 24. 25. 26. 27. 28. 29. 30. 31. 32. 33. 34. 35.\n",
      " 36. 37. 38. 39. 40. 41. 42. 43. 44. 45. 46. 47. 48. 49. 50. 51. 52. 53.\n",
      " 54. 55. 56. 57. 58. 59. 60. 61. 62. 63. 64. 65. 66. 67. 68. 69. 70. 71.\n",
      " 72.]\n",
      "curr_soma_angle = 162.43\n",
      "max_axon_angle = 166.41835398554622\n",
      "Changing to a better axon candidate\n",
      "\n",
      "\n",
      " --- Working on limb 3, candidate # 0\n",
      "0 out of 9 branches are axons\n",
      "Axon percentage = 0.0\n",
      "Not adding candidate no axon branches detected \n",
      "\n",
      "\n",
      " --- Working on limb 4, candidate # 0\n",
      "1 out of 11 branches are axons\n",
      "Axon percentage = 0.09090909090909091\n",
      "curr_axon_angle_threshold = 120\n",
      "candidate_nodes = [ 0  1  2  3  4  5  6  7  8  9 10]\n",
      "non_axon_branches_on_subgraph = [ 0  1  2  3  4  5  6  8  9 10]\n",
      "endnodes_to_test = []\n",
      "candidate_angles,restr_skels = (None, None)\n",
      "Not adding candidate because no angles (None) passed the threhold 120 \n",
      "\n",
      "\n",
      " --- Working on limb 5, candidate # 0\n",
      "0 out of 1 branches are axons\n",
      "Axon percentage = 0.0\n",
      "Not adding candidate no axon branches detected \n",
      "\n",
      "\n",
      " --- Working on limb 5, candidate # 1\n",
      "0 out of 7 branches are axons\n",
      "Axon percentage = 0.0\n",
      "Not adding candidate no axon branches detected \n",
      "\n",
      "\n",
      " --- Working on limb 6, candidate # 0\n",
      "0 out of 3 branches are axons\n",
      "Axon percentage = 0.0\n",
      "Not adding candidate no axon branches detected \n",
      "\n",
      "\n",
      " --- Working on limb 6, candidate # 1\n",
      "0 out of 3 branches are axons\n",
      "Axon percentage = 0.0\n",
      "Not adding candidate no axon branches detected \n",
      "\n",
      "\n",
      " --- Working on limb 7, candidate # 0\n",
      "0 out of 1 branches are axons\n",
      "Axon percentage = 0.0\n",
      "Not adding candidate no axon branches detected \n",
      "\n",
      "\n",
      " --- Working on limb 7, candidate # 1\n",
      "0 out of 4 branches are axons\n",
      "Axon percentage = 0.0\n",
      "Not adding candidate no axon branches detected \n",
      "\n",
      "\n",
      " --- Working on limb 7, candidate # 2\n",
      "0 out of 9 branches are axons\n",
      "Axon percentage = 0.0\n",
      "Not adding candidate no axon branches detected \n",
      "\n",
      "\n",
      " --- Working on limb 7, candidate # 3\n",
      "0 out of 5 branches are axons\n",
      "Axon percentage = 0.0\n",
      "Not adding candidate no axon branches detected \n",
      "Using the best axon approach\n",
      "Using True\n",
      "Limb L1: Axon branches before dendritic path filter = [ 0.  1.  2.  3.  4.  5.  6.  7.  8.  9. 10. 11. 12. 13. 14. 15. 16. 17.\n",
      " 18. 19. 20. 21. 22. 23. 24. 25. 26. 27. 28. 29. 30. 31. 32. 33. 34. 35.\n",
      " 36. 37. 38. 39. 40. 41. 42. 43. 44. 45. 46. 47. 48. 49. 50. 51. 52. 53.\n",
      " 54. 55. 56. 57. 58. 59. 60. 61. 62. 63. 64. 65. 66. 67. 68. 69. 70. 71.\n",
      " 72.]\n",
      "Limb L1: Axon branches AFTER dendritic path filter = [ 0.  1.  2.  3.  4.  5.  6.  7.  8.  9. 10. 11. 12. 13. 14. 15. 16. 17.\n",
      " 18. 19. 20. 21. 22. 23. 24. 25. 26. 27. 28. 29. 30. 31. 32. 33. 34. 35.\n",
      " 36. 37. 38. 39. 40. 41. 42. 43. 44. 45. 46. 47. 48. 49. 50. 51. 52. 53.\n",
      " 54. 55. 56. 57. 58. 59. 60. 61. 62. 63. 64. 65. 66. 67. 68. 69. 70. 71.\n",
      " 72.]\n",
      "\n",
      "\n",
      "Part 4: final_true_axons = {'L1': array([ 0.,  1.,  2.,  3.,  4.,  5.,  6.,  7.,  8.,  9., 10., 11., 12.,\n",
      "       13., 14., 15., 16., 17., 18., 19., 20., 21., 22., 23., 24., 25.,\n",
      "       26., 27., 28., 29., 30., 31., 32., 33., 34., 35., 36., 37., 38.,\n",
      "       39., 40., 41., 42., 43., 44., 45., 46., 47., 48., 49., 50., 51.,\n",
      "       52., 53., 54., 55., 56., 57., 58., 59., 60., 61., 62., 63., 64.,\n",
      "       65., 66., 67., 68., 69., 70., 71., 72.])}\n",
      "\n",
      "--- Working on filter 0:\n",
      "function = dendrite_on_axon_merges\n",
      "function __name__ = filter_away_dendrite_on_axon_merges\n",
      "function arguments = {'use_pre_existing_axon_labels': True}\n",
      "\n",
      "\n",
      "\n",
      "\n",
      "\n",
      " ---- Total time for applying filter: 0.347628116607666 -----\n",
      "Starting axon branch was the starting node so using border vertices and NOT computing upstream branch\n",
      "upstream_node_to_axon_starting_branch = None\n",
      "root_curr = [1250932.  706434. 1048602.]\n",
      "Time for preparing soma vertices and root: 0.0006232261657714844\n",
      "invalidation_d = 2000\n"
     ]
    },
    {
     "name": "stderr",
     "output_type": "stream",
     "text": [
      "\r",
      "  0%|          | 0/1 [00:00<?, ?it/s]"
     ]
    },
    {
     "name": "stdout",
     "output_type": "stream",
     "text": [
      "cc_vertex_thresh = 10\n"
     ]
    },
    {
     "data": {
      "application/vnd.jupyter.widget-view+json": {
       "model_id": "de70faeba8ca4c3ea7822a26e49060b5",
       "version_major": 2,
       "version_minor": 0
      },
      "text/plain": [
       "  0%|          | 0/107999 [00:00<?, ?it/s]"
      ]
     },
     "metadata": {},
     "output_type": "display_data"
    },
    {
     "name": "stderr",
     "output_type": "stream",
     "text": [
      "100%|██████████| 1/1 [00:12<00:00, 12.50s/it]\n"
     ]
    },
    {
     "name": "stdout",
     "output_type": "stream",
     "text": [
      "meshparty_segment_size = 100\n",
      "Time for 1st pass MP skeletonization: 16.11722493171692\n",
      "branches_touching_root = [27]\n",
      "combining close nodes\n",
      "combine_threshold = 1300\n",
      "length of Graph = 30256\n",
      "After combining close endpoints max(kept_branches_idx) = 192, len(kept_branches_idx) = 174\n",
      "empty_indices % = 0.0\n",
      " conflict_indices % = 0.016304195836790245\n"
     ]
    },
    {
     "data": {
      "application/vnd.jupyter.widget-view+json": {
       "model_id": "4a419e7e179d490d9d36fb643ff163fa",
       "version_major": 2,
       "version_minor": 0
      },
      "text/plain": [
       "  0%|          | 0/80 [00:00<?, ?it/s]"
      ]
     },
     "metadata": {},
     "output_type": "display_data"
    },
    {
     "name": "stdout",
     "output_type": "stream",
     "text": [
      "AFTER face_lookup_resolved_test\n"
     ]
    },
    {
     "data": {
      "application/vnd.jupyter.widget-view+json": {
       "model_id": "232d7b0883204f0fb35b52e8d493b1f0",
       "version_major": 2,
       "version_minor": 0
      },
      "text/plain": [
       "  0%|          | 0/174 [00:00<?, ?it/s]"
      ]
     },
     "metadata": {},
     "output_type": "display_data"
    },
    {
     "name": "stdout",
     "output_type": "stream",
     "text": [
      "Decomposing first pass: 45.117233991622925\n",
      "Only Using MeshParty Skeletonization and Mesh Correspondence\n",
      "Another print\n",
      "Divinding into MP and MAP pieces: 0.00021696090698242188\n",
      "Total time for MAP sublimb processing 5.4836273193359375e-06\n",
      "---- Working on MP Decomposition #0 ----\n",
      "Using Quicker soma_to_piece_touching_vertices because no MAP and only one sublimb_mesh piece \n",
      "MP filtering soma verts: 0.00033211708068847656\n",
      "Fixing Possible Soma Extension Branch for Sublimb 0\n",
      "Total time for mesh KDTree = 0.04391360282897949\n",
      "sbv[0].reshape(-1,3) = [[1250932.  706434. 1048602.]]\n",
      "closest_sk_pt_coord BEFORE = [1251214.56982851  706646.13124183 1047674.01834508]\n",
      "current_skeleton.shape = (49, 2, 3)\n",
      "node_for_stitch = 48: [1251214.56982851  706646.13124183 1047674.01834508]\n",
      "node_for_stitch AFTER = 48: [1251214.56982851  706646.13124183 1047674.01834508]\n",
      "possible_node_loc = [ 0 31 38]\n",
      "possible_node_loc AFTER = [ 0 31 38]\n",
      "curr_shortest_path = [48, 49.0, 47.0, 45.0, 43.0, 41.0, 39.0, 38.0]\n",
      "Current stitch point was not a branch or endpoint, shortest_path_length to one = 628.2780670473172\n",
      "Changing the stitch point becasue the distance to end or branch node was 628.2780670473172\n",
      "New stitch point has degree 1\n",
      "change_status for create soma extending pieces = True\n",
      "closest_sk_pt_coord AFTER = [1251131.47334483  706528.32744112 1048282.35844343]\n",
      "skipping soma 0 because closest skeleton node was already end node\n",
      "endpoints_must_keep = {0: array([[1251131.47334483,  706528.32744112, 1048282.35844343]])}\n",
      "match_sk_branches = [26]\n",
      "The new branch info was none so skipping \n",
      "\n",
      "No soma extending branch was added for this sublimb even though it had a soma border (means they already existed)\n",
      "MP (because soma touching verts) soma extension add: 15.810335636138916\n",
      "There were not both MAP and MP pieces so skipping the stitch resolving phase\n",
      "Time for decomp of Limb = 79.61811757087708\n",
      "Number of matching vertices = 59\n",
      "Only one endpoint after filtering away the endpoints that are not on the skeleton\n",
      "Using Distance measure skeletal_distance\n",
      "endpoints_must_keep = [[1251131.47334483  706528.32744112 1048282.35844343]]\n",
      "Number of end_nodes BEFORE filtering = 98\n",
      "all_single_nodes_to_eliminate = [42]\n"
     ]
    },
    {
     "data": {
      "application/vnd.jupyter.widget-view+json": {
       "model_id": "a20a6abf1bee4d17928046c395005655",
       "version_major": 2,
       "version_minor": 0
      },
      "text/plain": [
       "  0%|          | 0/10 [00:00<?, ?it/s]"
      ]
     },
     "metadata": {},
     "output_type": "display_data"
    },
    {
     "name": "stdout",
     "output_type": "stream",
     "text": [
      "Removed 10 skeletal branches\n"
     ]
    },
    {
     "data": {
      "application/vnd.jupyter.widget-view+json": {
       "model_id": "3287139015d74cb68cb0874640df75fa",
       "version_major": 2,
       "version_minor": 0
      },
      "text/plain": [
       "  0%|          | 0/174 [00:00<?, ?it/s]"
      ]
     },
     "metadata": {},
     "output_type": "display_data"
    },
    {
     "name": "stdout",
     "output_type": "stream",
     "text": [
      "215017 215018\n",
      "For marked faces: None\n",
      "empty_indices % = 0.0007022667869666726\n",
      " conflict_indices % = 0.0\n"
     ]
    },
    {
     "data": {
      "application/vnd.jupyter.widget-view+json": {
       "model_id": "5c34865ac1774ecab502ce6b90daae7a",
       "version_major": 2,
       "version_minor": 0
      },
      "text/plain": [
       "  0%|          | 0/2 [00:00<?, ?it/s]"
      ]
     },
     "metadata": {},
     "output_type": "display_data"
    },
    {
     "name": "stdout",
     "output_type": "stream",
     "text": [
      "AFTER face_lookup_resolved_test\n"
     ]
    },
    {
     "data": {
      "application/vnd.jupyter.widget-view+json": {
       "model_id": "213293a19052467b88adc16600d3db0f",
       "version_major": 2,
       "version_minor": 0
      },
      "text/plain": [
       "  0%|          | 0/156 [00:00<?, ?it/s]"
      ]
     },
     "metadata": {},
     "output_type": "display_data"
    },
    {
     "name": "stdout",
     "output_type": "stream",
     "text": [
      "Limb Correspondence before stitching = 156\n",
      "Limb Correspondence AFTER stitching = 156\n",
      "Upstream node was None so don't have to adjust\n",
      "concept_network_dict = {0: [<networkx_utils.GraphOrderedEdges object at 0x7f0317441208>]}\n",
      "Assigning the old width calculation because no valid new widths\n",
      "\n",
      "\n",
      "----Working on seperate_graph 0----\n",
      "\n",
      "\n",
      "---------Working on soma_idx = 0, soma_group_idx 0, endpt = [1251131.47334483  706528.32744112 1048282.35844343]---------\n",
      "Starting_edge inside branches_to_conept = [[1250824.79883922  706525.04310426 1046729.50237231]\n",
      " [1251131.47334483  706528.32744112 1048282.35844343]]\n",
      "At the start, starting_node (in terms of the skeleton, that shouldn't match the starting edge) = [66]\n",
      "printing out current edge:\n",
      "[[1251131.47334483  706528.32744112 1048282.35844343]\n",
      " [1250824.79883922  706525.04310426 1046729.50237231]]\n",
      "edge_endpoints_to_process was empty so exiting loop after 156 iterations\n",
      "starting_node in concept map (that should match the starting edge) = 68\n",
      "Total time for branches to concept conversion = 5.505804061889648\n",
      "\n",
      "Done generating concept network \n",
      "\n",
      "\n"
     ]
    },
    {
     "data": {
      "application/vnd.jupyter.widget-view+json": {
       "model_id": "bfb77946af2241739e3d18208eeba09c",
       "version_major": 2,
       "version_minor": 0
      },
      "text/plain": [
       "  0%|          | 0/143 [00:00<?, ?it/s]"
      ]
     },
     "metadata": {},
     "output_type": "display_data"
    },
    {
     "data": {
      "application/vnd.jupyter.widget-view+json": {
       "model_id": "4923f29d410c4bdd812035b02354fb87",
       "version_major": 2,
       "version_minor": 0
      },
      "text/plain": [
       "  0%|          | 0/23 [00:00<?, ?it/s]"
      ]
     },
     "metadata": {},
     "output_type": "display_data"
    },
    {
     "data": {
      "application/vnd.jupyter.widget-view+json": {
       "model_id": "3a53ac9b35b3418392b53435d4adf82d",
       "version_major": 2,
       "version_minor": 0
      },
      "text/plain": [
       "  0%|          | 0/13 [00:00<?, ?it/s]"
      ]
     },
     "metadata": {},
     "output_type": "display_data"
    },
    {
     "data": {
      "application/vnd.jupyter.widget-view+json": {
       "model_id": "115a4081aa13493ab4d46cd3dd438b72",
       "version_major": 2,
       "version_minor": 0
      },
      "text/plain": [
       "  0%|          | 0/15 [00:00<?, ?it/s]"
      ]
     },
     "metadata": {},
     "output_type": "display_data"
    },
    {
     "data": {
      "application/vnd.jupyter.widget-view+json": {
       "model_id": "275c3e55e6bf4a2098b405635e2d17d5",
       "version_major": 2,
       "version_minor": 0
      },
      "text/plain": [
       "  0%|          | 0/18 [00:00<?, ?it/s]"
      ]
     },
     "metadata": {},
     "output_type": "display_data"
    },
    {
     "data": {
      "application/vnd.jupyter.widget-view+json": {
       "model_id": "c23d400cd72c4a79b19d6b90520d6d0c",
       "version_major": 2,
       "version_minor": 0
      },
      "text/plain": [
       "  0%|          | 0/5 [00:00<?, ?it/s]"
      ]
     },
     "metadata": {},
     "output_type": "display_data"
    },
    {
     "data": {
      "application/vnd.jupyter.widget-view+json": {
       "model_id": "d1d072cfc3a946ddb88a26cbe8bfa3b2",
       "version_major": 2,
       "version_minor": 0
      },
      "text/plain": [
       "  0%|          | 0/6 [00:00<?, ?it/s]"
      ]
     },
     "metadata": {},
     "output_type": "display_data"
    },
    {
     "data": {
      "application/vnd.jupyter.widget-view+json": {
       "model_id": "c53a07ed03444f7d9d589fd895fd4adb",
       "version_major": 2,
       "version_minor": 0
      },
      "text/plain": [
       "  0%|          | 0/7 [00:00<?, ?it/s]"
      ]
     },
     "metadata": {},
     "output_type": "display_data"
    },
    {
     "data": {
      "application/vnd.jupyter.widget-view+json": {
       "model_id": "a034b59498db4f89922a14556d3af84a",
       "version_major": 2,
       "version_minor": 0
      },
      "text/plain": [
       "  0%|          | 0/9 [00:00<?, ?it/s]"
      ]
     },
     "metadata": {},
     "output_type": "display_data"
    },
    {
     "data": {
      "application/vnd.jupyter.widget-view+json": {
       "model_id": "de09c08149e9449380027330f5964660",
       "version_major": 2,
       "version_minor": 0
      },
      "text/plain": [
       "  0%|          | 0/35 [00:00<?, ?it/s]"
      ]
     },
     "metadata": {},
     "output_type": "display_data"
    },
    {
     "data": {
      "application/vnd.jupyter.widget-view+json": {
       "model_id": "e93f24d572434816841a88c863b82f99",
       "version_major": 2,
       "version_minor": 0
      },
      "text/plain": [
       "  0%|          | 0/11 [00:00<?, ?it/s]"
      ]
     },
     "metadata": {},
     "output_type": "display_data"
    },
    {
     "data": {
      "application/vnd.jupyter.widget-view+json": {
       "model_id": "876a17b6a0df4b5db85990ebfdfef83b",
       "version_major": 2,
       "version_minor": 0
      },
      "text/plain": [
       "  0%|          | 0/6 [00:00<?, ?it/s]"
      ]
     },
     "metadata": {},
     "output_type": "display_data"
    },
    {
     "data": {
      "application/vnd.jupyter.widget-view+json": {
       "model_id": "0c3d6ab7b97045e6b82c9978900bea85",
       "version_major": 2,
       "version_minor": 0
      },
      "text/plain": [
       "  0%|          | 0/3 [00:00<?, ?it/s]"
      ]
     },
     "metadata": {},
     "output_type": "display_data"
    },
    {
     "data": {
      "application/vnd.jupyter.widget-view+json": {
       "model_id": "3696bf2fd5894df8b5e2f317a4fe6829",
       "version_major": 2,
       "version_minor": 0
      },
      "text/plain": [
       "  0%|          | 0/8 [00:00<?, ?it/s]"
      ]
     },
     "metadata": {},
     "output_type": "display_data"
    },
    {
     "data": {
      "application/vnd.jupyter.widget-view+json": {
       "model_id": "6c46eaa118ca42ee9743047db57ff02b",
       "version_major": 2,
       "version_minor": 0
      },
      "text/plain": [
       "  0%|          | 0/2 [00:00<?, ?it/s]"
      ]
     },
     "metadata": {},
     "output_type": "display_data"
    },
    {
     "data": {
      "application/vnd.jupyter.widget-view+json": {
       "model_id": "e1339fdd0a8b41f8b69ecaa7d5e609c6",
       "version_major": 2,
       "version_minor": 0
      },
      "text/plain": [
       "  0%|          | 0/9 [00:00<?, ?it/s]"
      ]
     },
     "metadata": {},
     "output_type": "display_data"
    },
    {
     "data": {
      "application/vnd.jupyter.widget-view+json": {
       "model_id": "a96ca43431984f18afc446427a8ef37b",
       "version_major": 2,
       "version_minor": 0
      },
      "text/plain": [
       "  0%|          | 0/11 [00:00<?, ?it/s]"
      ]
     },
     "metadata": {},
     "output_type": "display_data"
    },
    {
     "data": {
      "application/vnd.jupyter.widget-view+json": {
       "model_id": "5d02ab4ac29346fa9e1a98c91210bc53",
       "version_major": 2,
       "version_minor": 0
      },
      "text/plain": [
       "  0%|          | 0/17 [00:00<?, ?it/s]"
      ]
     },
     "metadata": {},
     "output_type": "display_data"
    },
    {
     "data": {
      "application/vnd.jupyter.widget-view+json": {
       "model_id": "8bef6c237fd447d5b2e352b009842719",
       "version_major": 2,
       "version_minor": 0
      },
      "text/plain": [
       "  0%|          | 0/9 [00:00<?, ?it/s]"
      ]
     },
     "metadata": {},
     "output_type": "display_data"
    },
    {
     "data": {
      "application/vnd.jupyter.widget-view+json": {
       "model_id": "e3192bc8908f4bc78def24fa5279ae52",
       "version_major": 2,
       "version_minor": 0
      },
      "text/plain": [
       "  0%|          | 0/12 [00:00<?, ?it/s]"
      ]
     },
     "metadata": {},
     "output_type": "display_data"
    },
    {
     "data": {
      "application/vnd.jupyter.widget-view+json": {
       "model_id": "2a93037c631b4200a5cb93b5d3a87d4b",
       "version_major": 2,
       "version_minor": 0
      },
      "text/plain": [
       "  0%|          | 0/19 [00:00<?, ?it/s]"
      ]
     },
     "metadata": {},
     "output_type": "display_data"
    },
    {
     "data": {
      "application/vnd.jupyter.widget-view+json": {
       "model_id": "a6234feca8c942ef9924125107fc238e",
       "version_major": 2,
       "version_minor": 0
      },
      "text/plain": [
       "  0%|          | 0/8 [00:00<?, ?it/s]"
      ]
     },
     "metadata": {},
     "output_type": "display_data"
    },
    {
     "data": {
      "application/vnd.jupyter.widget-view+json": {
       "model_id": "98b02ad42566451c83d6905c18e6fc7e",
       "version_major": 2,
       "version_minor": 0
      },
      "text/plain": [
       "  0%|          | 0/7 [00:00<?, ?it/s]"
      ]
     },
     "metadata": {},
     "output_type": "display_data"
    },
    {
     "data": {
      "application/vnd.jupyter.widget-view+json": {
       "model_id": "a56f250050db4a2280a665405afb7dad",
       "version_major": 2,
       "version_minor": 0
      },
      "text/plain": [
       "  0%|          | 0/6 [00:00<?, ?it/s]"
      ]
     },
     "metadata": {},
     "output_type": "display_data"
    },
    {
     "data": {
      "application/vnd.jupyter.widget-view+json": {
       "model_id": "75426ab4f5e744d7b51eefaf6701ebbe",
       "version_major": 2,
       "version_minor": 0
      },
      "text/plain": [
       "  0%|          | 0/4 [00:00<?, ?it/s]"
      ]
     },
     "metadata": {},
     "output_type": "display_data"
    },
    {
     "data": {
      "application/vnd.jupyter.widget-view+json": {
       "model_id": "d836cede360b474db84d1c5a9d2dff10",
       "version_major": 2,
       "version_minor": 0
      },
      "text/plain": [
       "  0%|          | 0/20 [00:00<?, ?it/s]"
      ]
     },
     "metadata": {},
     "output_type": "display_data"
    },
    {
     "data": {
      "application/vnd.jupyter.widget-view+json": {
       "model_id": "b0d53f009cf64e19b3d679f723284c8e",
       "version_major": 2,
       "version_minor": 0
      },
      "text/plain": [
       "  0%|          | 0/2 [00:00<?, ?it/s]"
      ]
     },
     "metadata": {},
     "output_type": "display_data"
    },
    {
     "data": {
      "application/vnd.jupyter.widget-view+json": {
       "model_id": "b753cdc141d644368a24ddad5b4a132e",
       "version_major": 2,
       "version_minor": 0
      },
      "text/plain": [
       "  0%|          | 0/20 [00:00<?, ?it/s]"
      ]
     },
     "metadata": {},
     "output_type": "display_data"
    },
    {
     "data": {
      "application/vnd.jupyter.widget-view+json": {
       "model_id": "0b60caef93bb4164b0aaf05dbd1294fe",
       "version_major": 2,
       "version_minor": 0
      },
      "text/plain": [
       "  0%|          | 0/4 [00:00<?, ?it/s]"
      ]
     },
     "metadata": {},
     "output_type": "display_data"
    },
    {
     "data": {
      "application/vnd.jupyter.widget-view+json": {
       "model_id": "83d5979a38054b86a248b55db5586ec9",
       "version_major": 2,
       "version_minor": 0
      },
      "text/plain": [
       "  0%|          | 0/3 [00:00<?, ?it/s]"
      ]
     },
     "metadata": {},
     "output_type": "display_data"
    },
    {
     "data": {
      "application/vnd.jupyter.widget-view+json": {
       "model_id": "4130845cdb894f4ab06b0dd2cb093734",
       "version_major": 2,
       "version_minor": 0
      },
      "text/plain": [
       "  0%|          | 0/2 [00:00<?, ?it/s]"
      ]
     },
     "metadata": {},
     "output_type": "display_data"
    },
    {
     "data": {
      "application/vnd.jupyter.widget-view+json": {
       "model_id": "1eca334cf36d4f8699c0a1f9d767dd09",
       "version_major": 2,
       "version_minor": 0
      },
      "text/plain": [
       "  0%|          | 0/6 [00:00<?, ?it/s]"
      ]
     },
     "metadata": {},
     "output_type": "display_data"
    },
    {
     "data": {
      "application/vnd.jupyter.widget-view+json": {
       "model_id": "66b22567bb104439896e355cf6693633",
       "version_major": 2,
       "version_minor": 0
      },
      "text/plain": [
       "  0%|          | 0/6 [00:00<?, ?it/s]"
      ]
     },
     "metadata": {},
     "output_type": "display_data"
    },
    {
     "data": {
      "application/vnd.jupyter.widget-view+json": {
       "model_id": "205bfa50c4764beca67a5418c2a4a8ae",
       "version_major": 2,
       "version_minor": 0
      },
      "text/plain": [
       "  0%|          | 0/10 [00:00<?, ?it/s]"
      ]
     },
     "metadata": {},
     "output_type": "display_data"
    },
    {
     "data": {
      "application/vnd.jupyter.widget-view+json": {
       "model_id": "581622a3f6fe4659a6a0ee75d063eac9",
       "version_major": 2,
       "version_minor": 0
      },
      "text/plain": [
       "  0%|          | 0/6 [00:00<?, ?it/s]"
      ]
     },
     "metadata": {},
     "output_type": "display_data"
    },
    {
     "data": {
      "application/vnd.jupyter.widget-view+json": {
       "model_id": "18e84123b1c140768b7a51bf159d1f56",
       "version_major": 2,
       "version_minor": 0
      },
      "text/plain": [
       "  0%|          | 0/3 [00:00<?, ?it/s]"
      ]
     },
     "metadata": {},
     "output_type": "display_data"
    },
    {
     "data": {
      "application/vnd.jupyter.widget-view+json": {
       "model_id": "138600c9c31a4972b0d373917dfbf54e",
       "version_major": 2,
       "version_minor": 0
      },
      "text/plain": [
       "  0%|          | 0/6 [00:00<?, ?it/s]"
      ]
     },
     "metadata": {},
     "output_type": "display_data"
    },
    {
     "data": {
      "application/vnd.jupyter.widget-view+json": {
       "model_id": "49b012a027694ba3a66b4f4dba90eb5b",
       "version_major": 2,
       "version_minor": 0
      },
      "text/plain": [
       "  0%|          | 0/5 [00:00<?, ?it/s]"
      ]
     },
     "metadata": {},
     "output_type": "display_data"
    },
    {
     "data": {
      "application/vnd.jupyter.widget-view+json": {
       "model_id": "d10d74694a8e4eebb114913e28a59eb1",
       "version_major": 2,
       "version_minor": 0
      },
      "text/plain": [
       "  0%|          | 0/69 [00:00<?, ?it/s]"
      ]
     },
     "metadata": {},
     "output_type": "display_data"
    },
    {
     "data": {
      "application/vnd.jupyter.widget-view+json": {
       "model_id": "7c264589df6548d6a1d6161c4dd61078",
       "version_major": 2,
       "version_minor": 0
      },
      "text/plain": [
       "  0%|          | 0/5 [00:00<?, ?it/s]"
      ]
     },
     "metadata": {},
     "output_type": "display_data"
    },
    {
     "data": {
      "application/vnd.jupyter.widget-view+json": {
       "model_id": "3dbfb7e9e2754ffc85b9226d0ba898df",
       "version_major": 2,
       "version_minor": 0
      },
      "text/plain": [
       "  0%|          | 0/3 [00:00<?, ?it/s]"
      ]
     },
     "metadata": {},
     "output_type": "display_data"
    },
    {
     "data": {
      "application/vnd.jupyter.widget-view+json": {
       "model_id": "206b3dab045646969914c2aef6b59417",
       "version_major": 2,
       "version_minor": 0
      },
      "text/plain": [
       "  0%|          | 0/3 [00:00<?, ?it/s]"
      ]
     },
     "metadata": {},
     "output_type": "display_data"
    },
    {
     "data": {
      "application/vnd.jupyter.widget-view+json": {
       "model_id": "30d8af70f7884523a75d569435a17d89",
       "version_major": 2,
       "version_minor": 0
      },
      "text/plain": [
       "  0%|          | 0/3 [00:00<?, ?it/s]"
      ]
     },
     "metadata": {},
     "output_type": "display_data"
    },
    {
     "data": {
      "application/vnd.jupyter.widget-view+json": {
       "model_id": "d6244306348b47fd93ddd920da5371b1",
       "version_major": 2,
       "version_minor": 0
      },
      "text/plain": [
       "  0%|          | 0/4 [00:00<?, ?it/s]"
      ]
     },
     "metadata": {},
     "output_type": "display_data"
    },
    {
     "data": {
      "application/vnd.jupyter.widget-view+json": {
       "model_id": "9579b4222c73408fbaa7c963456c01aa",
       "version_major": 2,
       "version_minor": 0
      },
      "text/plain": [
       "  0%|          | 0/3 [00:00<?, ?it/s]"
      ]
     },
     "metadata": {},
     "output_type": "display_data"
    },
    {
     "data": {
      "application/vnd.jupyter.widget-view+json": {
       "model_id": "a5e5382be3424cd0a83e6362a87b043b",
       "version_major": 2,
       "version_minor": 0
      },
      "text/plain": [
       "  0%|          | 0/14 [00:00<?, ?it/s]"
      ]
     },
     "metadata": {},
     "output_type": "display_data"
    },
    {
     "data": {
      "application/vnd.jupyter.widget-view+json": {
       "model_id": "eae0c8da42e243c3abccb6dc9e259a67",
       "version_major": 2,
       "version_minor": 0
      },
      "text/plain": [
       "  0%|          | 0/20 [00:00<?, ?it/s]"
      ]
     },
     "metadata": {},
     "output_type": "display_data"
    },
    {
     "data": {
      "application/vnd.jupyter.widget-view+json": {
       "model_id": "dc9bb34aac254e5cae0e44f3a5298068",
       "version_major": 2,
       "version_minor": 0
      },
      "text/plain": [
       "  0%|          | 0/5 [00:00<?, ?it/s]"
      ]
     },
     "metadata": {},
     "output_type": "display_data"
    },
    {
     "data": {
      "application/vnd.jupyter.widget-view+json": {
       "model_id": "6ed390f9ba05447989ea7ba81765c44c",
       "version_major": 2,
       "version_minor": 0
      },
      "text/plain": [
       "  0%|          | 0/2 [00:00<?, ?it/s]"
      ]
     },
     "metadata": {},
     "output_type": "display_data"
    },
    {
     "data": {
      "application/vnd.jupyter.widget-view+json": {
       "model_id": "21e03fbdc68a4b6d992ed6bdaa4c75f3",
       "version_major": 2,
       "version_minor": 0
      },
      "text/plain": [
       "  0%|          | 0/21 [00:00<?, ?it/s]"
      ]
     },
     "metadata": {},
     "output_type": "display_data"
    },
    {
     "data": {
      "application/vnd.jupyter.widget-view+json": {
       "model_id": "e66e870adc1646f2a05ca7473d4726cd",
       "version_major": 2,
       "version_minor": 0
      },
      "text/plain": [
       "  0%|          | 0/13 [00:00<?, ?it/s]"
      ]
     },
     "metadata": {},
     "output_type": "display_data"
    },
    {
     "data": {
      "application/vnd.jupyter.widget-view+json": {
       "model_id": "8f06235cc9c34d7580123b63c06f2e7d",
       "version_major": 2,
       "version_minor": 0
      },
      "text/plain": [
       "  0%|          | 0/12 [00:00<?, ?it/s]"
      ]
     },
     "metadata": {},
     "output_type": "display_data"
    },
    {
     "data": {
      "application/vnd.jupyter.widget-view+json": {
       "model_id": "3ae5d7289aa34eafbad325b9d24b127d",
       "version_major": 2,
       "version_minor": 0
      },
      "text/plain": [
       "  0%|          | 0/17 [00:00<?, ?it/s]"
      ]
     },
     "metadata": {},
     "output_type": "display_data"
    },
    {
     "data": {
      "application/vnd.jupyter.widget-view+json": {
       "model_id": "0e23cd2833024b16a13840bec53bcd8a",
       "version_major": 2,
       "version_minor": 0
      },
      "text/plain": [
       "  0%|          | 0/4 [00:00<?, ?it/s]"
      ]
     },
     "metadata": {},
     "output_type": "display_data"
    },
    {
     "data": {
      "application/vnd.jupyter.widget-view+json": {
       "model_id": "ab7df4d396d84210a3baf2bd8961b63f",
       "version_major": 2,
       "version_minor": 0
      },
      "text/plain": [
       "  0%|          | 0/19 [00:00<?, ?it/s]"
      ]
     },
     "metadata": {},
     "output_type": "display_data"
    },
    {
     "data": {
      "application/vnd.jupyter.widget-view+json": {
       "model_id": "2c1a2d5df90c42338e2bb15a8a3d9b4c",
       "version_major": 2,
       "version_minor": 0
      },
      "text/plain": [
       "  0%|          | 0/12 [00:00<?, ?it/s]"
      ]
     },
     "metadata": {},
     "output_type": "display_data"
    },
    {
     "data": {
      "application/vnd.jupyter.widget-view+json": {
       "model_id": "916b0a7674f94f7c950e52dcf1b91520",
       "version_major": 2,
       "version_minor": 0
      },
      "text/plain": [
       "  0%|          | 0/50 [00:00<?, ?it/s]"
      ]
     },
     "metadata": {},
     "output_type": "display_data"
    },
    {
     "data": {
      "application/vnd.jupyter.widget-view+json": {
       "model_id": "fa52924d27064d1d856ad9fa24fdb874",
       "version_major": 2,
       "version_minor": 0
      },
      "text/plain": [
       "  0%|          | 0/4 [00:00<?, ?it/s]"
      ]
     },
     "metadata": {},
     "output_type": "display_data"
    },
    {
     "data": {
      "application/vnd.jupyter.widget-view+json": {
       "model_id": "d12d5d35925c4b22b81fa2d29ad95f90",
       "version_major": 2,
       "version_minor": 0
      },
      "text/plain": [
       "  0%|          | 0/6 [00:00<?, ?it/s]"
      ]
     },
     "metadata": {},
     "output_type": "display_data"
    },
    {
     "data": {
      "application/vnd.jupyter.widget-view+json": {
       "model_id": "109782f0f65c413686be0a91c7fb3718",
       "version_major": 2,
       "version_minor": 0
      },
      "text/plain": [
       "  0%|          | 0/16 [00:00<?, ?it/s]"
      ]
     },
     "metadata": {},
     "output_type": "display_data"
    },
    {
     "data": {
      "application/vnd.jupyter.widget-view+json": {
       "model_id": "88d896c326be4335b3c1ddc631dce0e9",
       "version_major": 2,
       "version_minor": 0
      },
      "text/plain": [
       "  0%|          | 0/12 [00:00<?, ?it/s]"
      ]
     },
     "metadata": {},
     "output_type": "display_data"
    },
    {
     "data": {
      "application/vnd.jupyter.widget-view+json": {
       "model_id": "ff33aee029d34cc7a476b226725edb0d",
       "version_major": 2,
       "version_minor": 0
      },
      "text/plain": [
       "  0%|          | 0/5 [00:00<?, ?it/s]"
      ]
     },
     "metadata": {},
     "output_type": "display_data"
    },
    {
     "data": {
      "application/vnd.jupyter.widget-view+json": {
       "model_id": "ff13717be88b478d8d37b72d283b4851",
       "version_major": 2,
       "version_minor": 0
      },
      "text/plain": [
       "  0%|          | 0/19 [00:00<?, ?it/s]"
      ]
     },
     "metadata": {},
     "output_type": "display_data"
    },
    {
     "data": {
      "application/vnd.jupyter.widget-view+json": {
       "model_id": "a0402bae1fd9486ba1a66bd830a8f7ed",
       "version_major": 2,
       "version_minor": 0
      },
      "text/plain": [
       "  0%|          | 0/23 [00:00<?, ?it/s]"
      ]
     },
     "metadata": {},
     "output_type": "display_data"
    },
    {
     "data": {
      "application/vnd.jupyter.widget-view+json": {
       "model_id": "091afe8420d64b9394b3f69d31404375",
       "version_major": 2,
       "version_minor": 0
      },
      "text/plain": [
       "  0%|          | 0/3 [00:00<?, ?it/s]"
      ]
     },
     "metadata": {},
     "output_type": "display_data"
    },
    {
     "data": {
      "application/vnd.jupyter.widget-view+json": {
       "model_id": "beb060b77f8044a5b5e23ec9c3935fba",
       "version_major": 2,
       "version_minor": 0
      },
      "text/plain": [
       "  0%|          | 0/17 [00:00<?, ?it/s]"
      ]
     },
     "metadata": {},
     "output_type": "display_data"
    },
    {
     "data": {
      "application/vnd.jupyter.widget-view+json": {
       "model_id": "17bdb3a3950b49a5b151d2cbb92a9b0d",
       "version_major": 2,
       "version_minor": 0
      },
      "text/plain": [
       "  0%|          | 0/11 [00:00<?, ?it/s]"
      ]
     },
     "metadata": {},
     "output_type": "display_data"
    },
    {
     "data": {
      "application/vnd.jupyter.widget-view+json": {
       "model_id": "f15eba4e11064842bbd1fb9cdc8cd52d",
       "version_major": 2,
       "version_minor": 0
      },
      "text/plain": [
       "  0%|          | 0/9 [00:00<?, ?it/s]"
      ]
     },
     "metadata": {},
     "output_type": "display_data"
    },
    {
     "data": {
      "application/vnd.jupyter.widget-view+json": {
       "model_id": "6a8e128da957411b843f43a435624fa9",
       "version_major": 2,
       "version_minor": 0
      },
      "text/plain": [
       "  0%|          | 0/6 [00:00<?, ?it/s]"
      ]
     },
     "metadata": {},
     "output_type": "display_data"
    },
    {
     "data": {
      "application/vnd.jupyter.widget-view+json": {
       "model_id": "28d60fd07b1d4dec9ca1af8e43e07c7f",
       "version_major": 2,
       "version_minor": 0
      },
      "text/plain": [
       "  0%|          | 0/3 [00:00<?, ?it/s]"
      ]
     },
     "metadata": {},
     "output_type": "display_data"
    },
    {
     "data": {
      "application/vnd.jupyter.widget-view+json": {
       "model_id": "b4912989572a4fbf85b27b04f5367e0b",
       "version_major": 2,
       "version_minor": 0
      },
      "text/plain": [
       "  0%|          | 0/40 [00:00<?, ?it/s]"
      ]
     },
     "metadata": {},
     "output_type": "display_data"
    },
    {
     "data": {
      "application/vnd.jupyter.widget-view+json": {
       "model_id": "def94c3e6e5f4c298f6de940f4bb0ecd",
       "version_major": 2,
       "version_minor": 0
      },
      "text/plain": [
       "  0%|          | 0/10 [00:00<?, ?it/s]"
      ]
     },
     "metadata": {},
     "output_type": "display_data"
    },
    {
     "data": {
      "application/vnd.jupyter.widget-view+json": {
       "model_id": "55da983429634635a0991225de58df54",
       "version_major": 2,
       "version_minor": 0
      },
      "text/plain": [
       "  0%|          | 0/11 [00:00<?, ?it/s]"
      ]
     },
     "metadata": {},
     "output_type": "display_data"
    },
    {
     "data": {
      "application/vnd.jupyter.widget-view+json": {
       "model_id": "4ac2a2e64c09421cbd8f68cd9eac9a03",
       "version_major": 2,
       "version_minor": 0
      },
      "text/plain": [
       "  0%|          | 0/29 [00:00<?, ?it/s]"
      ]
     },
     "metadata": {},
     "output_type": "display_data"
    },
    {
     "data": {
      "application/vnd.jupyter.widget-view+json": {
       "model_id": "ff4fcf4499104251b95b3fae6cf7174e",
       "version_major": 2,
       "version_minor": 0
      },
      "text/plain": [
       "  0%|          | 0/6 [00:00<?, ?it/s]"
      ]
     },
     "metadata": {},
     "output_type": "display_data"
    },
    {
     "data": {
      "application/vnd.jupyter.widget-view+json": {
       "model_id": "d98384655da6453fa1d1bde1d4851f7a",
       "version_major": 2,
       "version_minor": 0
      },
      "text/plain": [
       "  0%|          | 0/6 [00:00<?, ?it/s]"
      ]
     },
     "metadata": {},
     "output_type": "display_data"
    },
    {
     "data": {
      "application/vnd.jupyter.widget-view+json": {
       "model_id": "7872bd63439b47e396b07a61a903fe07",
       "version_major": 2,
       "version_minor": 0
      },
      "text/plain": [
       "  0%|          | 0/13 [00:00<?, ?it/s]"
      ]
     },
     "metadata": {},
     "output_type": "display_data"
    },
    {
     "data": {
      "application/vnd.jupyter.widget-view+json": {
       "model_id": "28520985f088412094aeae113c0a8676",
       "version_major": 2,
       "version_minor": 0
      },
      "text/plain": [
       "  0%|          | 0/6 [00:00<?, ?it/s]"
      ]
     },
     "metadata": {},
     "output_type": "display_data"
    },
    {
     "data": {
      "application/vnd.jupyter.widget-view+json": {
       "model_id": "290051fe6fbc481c84332a9a20090b5a",
       "version_major": 2,
       "version_minor": 0
      },
      "text/plain": [
       "  0%|          | 0/34 [00:00<?, ?it/s]"
      ]
     },
     "metadata": {},
     "output_type": "display_data"
    },
    {
     "data": {
      "application/vnd.jupyter.widget-view+json": {
       "model_id": "539ef5ab7cbd4ad0860f664237324bb6",
       "version_major": 2,
       "version_minor": 0
      },
      "text/plain": [
       "  0%|          | 0/6 [00:00<?, ?it/s]"
      ]
     },
     "metadata": {},
     "output_type": "display_data"
    },
    {
     "data": {
      "application/vnd.jupyter.widget-view+json": {
       "model_id": "f26e131c5fba4048a418396db15869a3",
       "version_major": 2,
       "version_minor": 0
      },
      "text/plain": [
       "  0%|          | 0/25 [00:00<?, ?it/s]"
      ]
     },
     "metadata": {},
     "output_type": "display_data"
    },
    {
     "data": {
      "application/vnd.jupyter.widget-view+json": {
       "model_id": "5f3cd0bdbf3b47198d117389bab46705",
       "version_major": 2,
       "version_minor": 0
      },
      "text/plain": [
       "  0%|          | 0/29 [00:00<?, ?it/s]"
      ]
     },
     "metadata": {},
     "output_type": "display_data"
    },
    {
     "data": {
      "application/vnd.jupyter.widget-view+json": {
       "model_id": "5c8cc477f2f74e01b67f75c15d08dec7",
       "version_major": 2,
       "version_minor": 0
      },
      "text/plain": [
       "  0%|          | 0/21 [00:00<?, ?it/s]"
      ]
     },
     "metadata": {},
     "output_type": "display_data"
    },
    {
     "data": {
      "application/vnd.jupyter.widget-view+json": {
       "model_id": "f8afa68781ae4cda8fc4d882f28e6e45",
       "version_major": 2,
       "version_minor": 0
      },
      "text/plain": [
       "  0%|          | 0/5 [00:00<?, ?it/s]"
      ]
     },
     "metadata": {},
     "output_type": "display_data"
    },
    {
     "data": {
      "application/vnd.jupyter.widget-view+json": {
       "model_id": "525d816ba7aa42ca9d7bc1f0eb80ca3b",
       "version_major": 2,
       "version_minor": 0
      },
      "text/plain": [
       "  0%|          | 0/27 [00:00<?, ?it/s]"
      ]
     },
     "metadata": {},
     "output_type": "display_data"
    },
    {
     "data": {
      "application/vnd.jupyter.widget-view+json": {
       "model_id": "0b1c7464c280467383afe2d1a1963beb",
       "version_major": 2,
       "version_minor": 0
      },
      "text/plain": [
       "  0%|          | 0/2 [00:00<?, ?it/s]"
      ]
     },
     "metadata": {},
     "output_type": "display_data"
    },
    {
     "data": {
      "application/vnd.jupyter.widget-view+json": {
       "model_id": "55820d2b62754b79a8805b96ed9c6759",
       "version_major": 2,
       "version_minor": 0
      },
      "text/plain": [
       "  0%|          | 0/10 [00:00<?, ?it/s]"
      ]
     },
     "metadata": {},
     "output_type": "display_data"
    },
    {
     "data": {
      "application/vnd.jupyter.widget-view+json": {
       "model_id": "fb88c74619c642eaba274809c9f9265f",
       "version_major": 2,
       "version_minor": 0
      },
      "text/plain": [
       "  0%|          | 0/3 [00:00<?, ?it/s]"
      ]
     },
     "metadata": {},
     "output_type": "display_data"
    },
    {
     "data": {
      "application/vnd.jupyter.widget-view+json": {
       "model_id": "501c35bfe03f4ed5b961da35b48d1afb",
       "version_major": 2,
       "version_minor": 0
      },
      "text/plain": [
       "  0%|          | 0/14 [00:00<?, ?it/s]"
      ]
     },
     "metadata": {},
     "output_type": "display_data"
    },
    {
     "data": {
      "application/vnd.jupyter.widget-view+json": {
       "model_id": "e6b6674c800741a689a2e7b4de3bf3f4",
       "version_major": 2,
       "version_minor": 0
      },
      "text/plain": [
       "  0%|          | 0/23 [00:00<?, ?it/s]"
      ]
     },
     "metadata": {},
     "output_type": "display_data"
    },
    {
     "data": {
      "application/vnd.jupyter.widget-view+json": {
       "model_id": "6c1ed430d03c4079ab97f46be62b9604",
       "version_major": 2,
       "version_minor": 0
      },
      "text/plain": [
       "  0%|          | 0/42 [00:00<?, ?it/s]"
      ]
     },
     "metadata": {},
     "output_type": "display_data"
    },
    {
     "data": {
      "application/vnd.jupyter.widget-view+json": {
       "model_id": "0dfb7c7f3ead4e94ae495138d0a7b885",
       "version_major": 2,
       "version_minor": 0
      },
      "text/plain": [
       "  0%|          | 0/10 [00:00<?, ?it/s]"
      ]
     },
     "metadata": {},
     "output_type": "display_data"
    },
    {
     "data": {
      "application/vnd.jupyter.widget-view+json": {
       "model_id": "4028cac4b1d747c9a8b0f0a0cc020160",
       "version_major": 2,
       "version_minor": 0
      },
      "text/plain": [
       "  0%|          | 0/4 [00:00<?, ?it/s]"
      ]
     },
     "metadata": {},
     "output_type": "display_data"
    },
    {
     "data": {
      "application/vnd.jupyter.widget-view+json": {
       "model_id": "a63b1c6a6a064c75ac72a03205786ca6",
       "version_major": 2,
       "version_minor": 0
      },
      "text/plain": [
       "  0%|          | 0/17 [00:00<?, ?it/s]"
      ]
     },
     "metadata": {},
     "output_type": "display_data"
    },
    {
     "data": {
      "application/vnd.jupyter.widget-view+json": {
       "model_id": "a51e2f7f690e4f1ebb6f9f8b99a79bc9",
       "version_major": 2,
       "version_minor": 0
      },
      "text/plain": [
       "  0%|          | 0/5 [00:00<?, ?it/s]"
      ]
     },
     "metadata": {},
     "output_type": "display_data"
    },
    {
     "data": {
      "application/vnd.jupyter.widget-view+json": {
       "model_id": "10e68ff5b39647d68a72b2ccf29c8656",
       "version_major": 2,
       "version_minor": 0
      },
      "text/plain": [
       "  0%|          | 0/3 [00:00<?, ?it/s]"
      ]
     },
     "metadata": {},
     "output_type": "display_data"
    },
    {
     "data": {
      "application/vnd.jupyter.widget-view+json": {
       "model_id": "9f2cebf0cc1743ef9a286cc893c6398c",
       "version_major": 2,
       "version_minor": 0
      },
      "text/plain": [
       "  0%|          | 0/103 [00:00<?, ?it/s]"
      ]
     },
     "metadata": {},
     "output_type": "display_data"
    },
    {
     "data": {
      "application/vnd.jupyter.widget-view+json": {
       "model_id": "71ece259778540c49ba72dd2c4cdbd55",
       "version_major": 2,
       "version_minor": 0
      },
      "text/plain": [
       "  0%|          | 0/19 [00:00<?, ?it/s]"
      ]
     },
     "metadata": {},
     "output_type": "display_data"
    },
    {
     "data": {
      "application/vnd.jupyter.widget-view+json": {
       "model_id": "212c84d36c8542fc8b45d1b075d26195",
       "version_major": 2,
       "version_minor": 0
      },
      "text/plain": [
       "  0%|          | 0/24 [00:00<?, ?it/s]"
      ]
     },
     "metadata": {},
     "output_type": "display_data"
    },
    {
     "data": {
      "application/vnd.jupyter.widget-view+json": {
       "model_id": "1386ecab8a54455f8f1498e9a892dd50",
       "version_major": 2,
       "version_minor": 0
      },
      "text/plain": [
       "  0%|          | 0/6 [00:00<?, ?it/s]"
      ]
     },
     "metadata": {},
     "output_type": "display_data"
    },
    {
     "data": {
      "application/vnd.jupyter.widget-view+json": {
       "model_id": "224accf9fcf04ab48d1e222d004a4e16",
       "version_major": 2,
       "version_minor": 0
      },
      "text/plain": [
       "  0%|          | 0/21 [00:00<?, ?it/s]"
      ]
     },
     "metadata": {},
     "output_type": "display_data"
    },
    {
     "data": {
      "application/vnd.jupyter.widget-view+json": {
       "model_id": "8792dc2c14b9456abb5ed487ea7e2653",
       "version_major": 2,
       "version_minor": 0
      },
      "text/plain": [
       "  0%|          | 0/13 [00:00<?, ?it/s]"
      ]
     },
     "metadata": {},
     "output_type": "display_data"
    },
    {
     "data": {
      "application/vnd.jupyter.widget-view+json": {
       "model_id": "b474f43ccec3482394825ca9cfa3e8eb",
       "version_major": 2,
       "version_minor": 0
      },
      "text/plain": [
       "  0%|          | 0/5 [00:00<?, ?it/s]"
      ]
     },
     "metadata": {},
     "output_type": "display_data"
    },
    {
     "data": {
      "application/vnd.jupyter.widget-view+json": {
       "model_id": "a10f8ace76054651aefafa7f227215c9",
       "version_major": 2,
       "version_minor": 0
      },
      "text/plain": [
       "  0%|          | 0/7 [00:00<?, ?it/s]"
      ]
     },
     "metadata": {},
     "output_type": "display_data"
    },
    {
     "data": {
      "application/vnd.jupyter.widget-view+json": {
       "model_id": "2b33c49d062f468792c008963f90f0b6",
       "version_major": 2,
       "version_minor": 0
      },
      "text/plain": [
       "  0%|          | 0/21 [00:00<?, ?it/s]"
      ]
     },
     "metadata": {},
     "output_type": "display_data"
    },
    {
     "data": {
      "application/vnd.jupyter.widget-view+json": {
       "model_id": "8a1bfec8f80b4df6a0a2af7b858fb1fc",
       "version_major": 2,
       "version_minor": 0
      },
      "text/plain": [
       "  0%|          | 0/7 [00:00<?, ?it/s]"
      ]
     },
     "metadata": {},
     "output_type": "display_data"
    },
    {
     "data": {
      "application/vnd.jupyter.widget-view+json": {
       "model_id": "66ae61e98497475298c584f06d61f157",
       "version_major": 2,
       "version_minor": 0
      },
      "text/plain": [
       "  0%|          | 0/6 [00:00<?, ?it/s]"
      ]
     },
     "metadata": {},
     "output_type": "display_data"
    },
    {
     "data": {
      "application/vnd.jupyter.widget-view+json": {
       "model_id": "636f2a49b0c943e883cdc428562ae042",
       "version_major": 2,
       "version_minor": 0
      },
      "text/plain": [
       "  0%|          | 0/7 [00:00<?, ?it/s]"
      ]
     },
     "metadata": {},
     "output_type": "display_data"
    },
    {
     "data": {
      "application/vnd.jupyter.widget-view+json": {
       "model_id": "906194be9c8446d7b1450fcb891db723",
       "version_major": 2,
       "version_minor": 0
      },
      "text/plain": [
       "  0%|          | 0/2 [00:00<?, ?it/s]"
      ]
     },
     "metadata": {},
     "output_type": "display_data"
    },
    {
     "data": {
      "application/vnd.jupyter.widget-view+json": {
       "model_id": "c8a3e63806aa4f2a9ae8f10f817d0fed",
       "version_major": 2,
       "version_minor": 0
      },
      "text/plain": [
       "  0%|          | 0/10 [00:00<?, ?it/s]"
      ]
     },
     "metadata": {},
     "output_type": "display_data"
    },
    {
     "data": {
      "application/vnd.jupyter.widget-view+json": {
       "model_id": "89c2f96b9f554dac85e0e1b96494455a",
       "version_major": 2,
       "version_minor": 0
      },
      "text/plain": [
       "  0%|          | 0/4 [00:00<?, ?it/s]"
      ]
     },
     "metadata": {},
     "output_type": "display_data"
    },
    {
     "data": {
      "application/vnd.jupyter.widget-view+json": {
       "model_id": "f44bad51ddca47a6ba44a3ad440199f4",
       "version_major": 2,
       "version_minor": 0
      },
      "text/plain": [
       "  0%|          | 0/43 [00:00<?, ?it/s]"
      ]
     },
     "metadata": {},
     "output_type": "display_data"
    },
    {
     "data": {
      "application/vnd.jupyter.widget-view+json": {
       "model_id": "5506efef7df14050894b9c3ee8bda330",
       "version_major": 2,
       "version_minor": 0
      },
      "text/plain": [
       "  0%|          | 0/6 [00:00<?, ?it/s]"
      ]
     },
     "metadata": {},
     "output_type": "display_data"
    },
    {
     "data": {
      "application/vnd.jupyter.widget-view+json": {
       "model_id": "ebcf90f87ea24f12a5e8d5b426c396a7",
       "version_major": 2,
       "version_minor": 0
      },
      "text/plain": [
       "  0%|          | 0/5 [00:00<?, ?it/s]"
      ]
     },
     "metadata": {},
     "output_type": "display_data"
    },
    {
     "data": {
      "application/vnd.jupyter.widget-view+json": {
       "model_id": "d0c45653a3f24029bf914b64979a5bf3",
       "version_major": 2,
       "version_minor": 0
      },
      "text/plain": [
       "  0%|          | 0/24 [00:00<?, ?it/s]"
      ]
     },
     "metadata": {},
     "output_type": "display_data"
    },
    {
     "data": {
      "application/vnd.jupyter.widget-view+json": {
       "model_id": "06766d643bf74c4b8289abc4826bbef6",
       "version_major": 2,
       "version_minor": 0
      },
      "text/plain": [
       "  0%|          | 0/4 [00:00<?, ?it/s]"
      ]
     },
     "metadata": {},
     "output_type": "display_data"
    },
    {
     "data": {
      "application/vnd.jupyter.widget-view+json": {
       "model_id": "7d41cc9038324abc9b745d14d0e4ba92",
       "version_major": 2,
       "version_minor": 0
      },
      "text/plain": [
       "  0%|          | 0/40 [00:00<?, ?it/s]"
      ]
     },
     "metadata": {},
     "output_type": "display_data"
    },
    {
     "data": {
      "application/vnd.jupyter.widget-view+json": {
       "model_id": "8570fbc4f3584ec0b5d78e5e96bb8e3c",
       "version_major": 2,
       "version_minor": 0
      },
      "text/plain": [
       "  0%|          | 0/3 [00:00<?, ?it/s]"
      ]
     },
     "metadata": {},
     "output_type": "display_data"
    },
    {
     "data": {
      "application/vnd.jupyter.widget-view+json": {
       "model_id": "04305b34e399474ea7109c89663fb36e",
       "version_major": 2,
       "version_minor": 0
      },
      "text/plain": [
       "  0%|          | 0/69 [00:00<?, ?it/s]"
      ]
     },
     "metadata": {},
     "output_type": "display_data"
    },
    {
     "data": {
      "application/vnd.jupyter.widget-view+json": {
       "model_id": "5e705ac5374549968ded28a9cb0b7af2",
       "version_major": 2,
       "version_minor": 0
      },
      "text/plain": [
       "  0%|          | 0/19 [00:00<?, ?it/s]"
      ]
     },
     "metadata": {},
     "output_type": "display_data"
    },
    {
     "data": {
      "application/vnd.jupyter.widget-view+json": {
       "model_id": "6f7cc5e0ccd342378a6f33f562f04814",
       "version_major": 2,
       "version_minor": 0
      },
      "text/plain": [
       "  0%|          | 0/6 [00:00<?, ?it/s]"
      ]
     },
     "metadata": {},
     "output_type": "display_data"
    },
    {
     "data": {
      "application/vnd.jupyter.widget-view+json": {
       "model_id": "c2fcd389b109458baecc6fca40b7561f",
       "version_major": 2,
       "version_minor": 0
      },
      "text/plain": [
       "  0%|          | 0/23 [00:00<?, ?it/s]"
      ]
     },
     "metadata": {},
     "output_type": "display_data"
    },
    {
     "data": {
      "application/vnd.jupyter.widget-view+json": {
       "model_id": "88d1ec2ce9924100b0f5e1288b04192f",
       "version_major": 2,
       "version_minor": 0
      },
      "text/plain": [
       "  0%|          | 0/14 [00:00<?, ?it/s]"
      ]
     },
     "metadata": {},
     "output_type": "display_data"
    },
    {
     "data": {
      "application/vnd.jupyter.widget-view+json": {
       "model_id": "b23986b822a4480b97a58b3e625a0ace",
       "version_major": 2,
       "version_minor": 0
      },
      "text/plain": [
       "  0%|          | 0/4 [00:00<?, ?it/s]"
      ]
     },
     "metadata": {},
     "output_type": "display_data"
    },
    {
     "data": {
      "application/vnd.jupyter.widget-view+json": {
       "model_id": "27db868a22b547bc98606159a59aee03",
       "version_major": 2,
       "version_minor": 0
      },
      "text/plain": [
       "  0%|          | 0/33 [00:00<?, ?it/s]"
      ]
     },
     "metadata": {},
     "output_type": "display_data"
    },
    {
     "data": {
      "application/vnd.jupyter.widget-view+json": {
       "model_id": "96068d6c888a42f59c05d55fa23196fa",
       "version_major": 2,
       "version_minor": 0
      },
      "text/plain": [
       "  0%|          | 0/5 [00:00<?, ?it/s]"
      ]
     },
     "metadata": {},
     "output_type": "display_data"
    },
    {
     "data": {
      "application/vnd.jupyter.widget-view+json": {
       "model_id": "95097953858b403baaa10e21758dc776",
       "version_major": 2,
       "version_minor": 0
      },
      "text/plain": [
       "  0%|          | 0/8 [00:00<?, ?it/s]"
      ]
     },
     "metadata": {},
     "output_type": "display_data"
    },
    {
     "data": {
      "application/vnd.jupyter.widget-view+json": {
       "model_id": "a0ab1dd7855a430098f2f19466a047c6",
       "version_major": 2,
       "version_minor": 0
      },
      "text/plain": [
       "  0%|          | 0/6 [00:00<?, ?it/s]"
      ]
     },
     "metadata": {},
     "output_type": "display_data"
    },
    {
     "data": {
      "application/vnd.jupyter.widget-view+json": {
       "model_id": "47004760e11844339fdd30627c7c3096",
       "version_major": 2,
       "version_minor": 0
      },
      "text/plain": [
       "  0%|          | 0/8 [00:00<?, ?it/s]"
      ]
     },
     "metadata": {},
     "output_type": "display_data"
    },
    {
     "data": {
      "application/vnd.jupyter.widget-view+json": {
       "model_id": "a45f6ba099734af799ba6d3f030f9aaf",
       "version_major": 2,
       "version_minor": 0
      },
      "text/plain": [
       "  0%|          | 0/19 [00:00<?, ?it/s]"
      ]
     },
     "metadata": {},
     "output_type": "display_data"
    },
    {
     "data": {
      "application/vnd.jupyter.widget-view+json": {
       "model_id": "5cb9f59a429a4b6e9ff6342ea652b4b3",
       "version_major": 2,
       "version_minor": 0
      },
      "text/plain": [
       "  0%|          | 0/6 [00:00<?, ?it/s]"
      ]
     },
     "metadata": {},
     "output_type": "display_data"
    },
    {
     "data": {
      "application/vnd.jupyter.widget-view+json": {
       "model_id": "b14c6d7eb221444784ee53e2b9cac600",
       "version_major": 2,
       "version_minor": 0
      },
      "text/plain": [
       "  0%|          | 0/7 [00:00<?, ?it/s]"
      ]
     },
     "metadata": {},
     "output_type": "display_data"
    },
    {
     "data": {
      "application/vnd.jupyter.widget-view+json": {
       "model_id": "fd344f08106f4cceba4c4bdfa3ab1271",
       "version_major": 2,
       "version_minor": 0
      },
      "text/plain": [
       "  0%|          | 0/47 [00:00<?, ?it/s]"
      ]
     },
     "metadata": {},
     "output_type": "display_data"
    },
    {
     "data": {
      "application/vnd.jupyter.widget-view+json": {
       "model_id": "b9a9501d745143628dbe685ff2257643",
       "version_major": 2,
       "version_minor": 0
      },
      "text/plain": [
       "  0%|          | 0/3 [00:00<?, ?it/s]"
      ]
     },
     "metadata": {},
     "output_type": "display_data"
    },
    {
     "data": {
      "application/vnd.jupyter.widget-view+json": {
       "model_id": "c5fb73aab4a844a09a648fc984f01a68",
       "version_major": 2,
       "version_minor": 0
      },
      "text/plain": [
       "  0%|          | 0/10 [00:00<?, ?it/s]"
      ]
     },
     "metadata": {},
     "output_type": "display_data"
    },
    {
     "data": {
      "application/vnd.jupyter.widget-view+json": {
       "model_id": "61212034abde4a25a85d162e09368fe0",
       "version_major": 2,
       "version_minor": 0
      },
      "text/plain": [
       "  0%|          | 0/4 [00:00<?, ?it/s]"
      ]
     },
     "metadata": {},
     "output_type": "display_data"
    },
    {
     "data": {
      "application/vnd.jupyter.widget-view+json": {
       "model_id": "88e9aa7f5e4844fd8f8e38bebaaa144a",
       "version_major": 2,
       "version_minor": 0
      },
      "text/plain": [
       "  0%|          | 0/34 [00:00<?, ?it/s]"
      ]
     },
     "metadata": {},
     "output_type": "display_data"
    },
    {
     "data": {
      "application/vnd.jupyter.widget-view+json": {
       "model_id": "3f280a0c65cb414c92baa98b99f70a16",
       "version_major": 2,
       "version_minor": 0
      },
      "text/plain": [
       "  0%|          | 0/11 [00:00<?, ?it/s]"
      ]
     },
     "metadata": {},
     "output_type": "display_data"
    },
    {
     "data": {
      "application/vnd.jupyter.widget-view+json": {
       "model_id": "77dff2c3c5614bc0a2fd701ebb5175cf",
       "version_major": 2,
       "version_minor": 0
      },
      "text/plain": [
       "  0%|          | 0/11 [00:00<?, ?it/s]"
      ]
     },
     "metadata": {},
     "output_type": "display_data"
    },
    {
     "data": {
      "application/vnd.jupyter.widget-view+json": {
       "model_id": "d1adbb7cf71240829634e2cd440a44fa",
       "version_major": 2,
       "version_minor": 0
      },
      "text/plain": [
       "  0%|          | 0/2 [00:00<?, ?it/s]"
      ]
     },
     "metadata": {},
     "output_type": "display_data"
    },
    {
     "data": {
      "application/vnd.jupyter.widget-view+json": {
       "model_id": "dcefa8a3883946c09f6e79e0727c0a94",
       "version_major": 2,
       "version_minor": 0
      },
      "text/plain": [
       "  0%|          | 0/24 [00:00<?, ?it/s]"
      ]
     },
     "metadata": {},
     "output_type": "display_data"
    },
    {
     "data": {
      "application/vnd.jupyter.widget-view+json": {
       "model_id": "75d3c78238b7465db13089a676209fd7",
       "version_major": 2,
       "version_minor": 0
      },
      "text/plain": [
       "  0%|          | 0/10 [00:00<?, ?it/s]"
      ]
     },
     "metadata": {},
     "output_type": "display_data"
    },
    {
     "data": {
      "application/vnd.jupyter.widget-view+json": {
       "model_id": "965e74683a994cd3968ac076983efa27",
       "version_major": 2,
       "version_minor": 0
      },
      "text/plain": [
       "  0%|          | 0/12 [00:00<?, ?it/s]"
      ]
     },
     "metadata": {},
     "output_type": "display_data"
    },
    {
     "data": {
      "application/vnd.jupyter.widget-view+json": {
       "model_id": "39ac0912a69f42b685321f74c682d1eb",
       "version_major": 2,
       "version_minor": 0
      },
      "text/plain": [
       "  0%|          | 0/7 [00:00<?, ?it/s]"
      ]
     },
     "metadata": {},
     "output_type": "display_data"
    },
    {
     "data": {
      "application/vnd.jupyter.widget-view+json": {
       "model_id": "9d4b0715562d4ee8b17f2e218010a1da",
       "version_major": 2,
       "version_minor": 0
      },
      "text/plain": [
       "  0%|          | 0/11 [00:00<?, ?it/s]"
      ]
     },
     "metadata": {},
     "output_type": "display_data"
    },
    {
     "data": {
      "application/vnd.jupyter.widget-view+json": {
       "model_id": "efab2a242d8d46bba66d42e7b0841102",
       "version_major": 2,
       "version_minor": 0
      },
      "text/plain": [
       "  0%|          | 0/13 [00:00<?, ?it/s]"
      ]
     },
     "metadata": {},
     "output_type": "display_data"
    },
    {
     "data": {
      "application/vnd.jupyter.widget-view+json": {
       "model_id": "983d947cbf774ff2845a260e7d658de6",
       "version_major": 2,
       "version_minor": 0
      },
      "text/plain": [
       "  0%|          | 0/8 [00:00<?, ?it/s]"
      ]
     },
     "metadata": {},
     "output_type": "display_data"
    },
    {
     "data": {
      "application/vnd.jupyter.widget-view+json": {
       "model_id": "1d3c0c69142943979dac31ece2326866",
       "version_major": 2,
       "version_minor": 0
      },
      "text/plain": [
       "  0%|          | 0/15 [00:00<?, ?it/s]"
      ]
     },
     "metadata": {},
     "output_type": "display_data"
    },
    {
     "data": {
      "application/vnd.jupyter.widget-view+json": {
       "model_id": "7ac16c474d994725afe929bdd8166bc9",
       "version_major": 2,
       "version_minor": 0
      },
      "text/plain": [
       "  0%|          | 0/19 [00:00<?, ?it/s]"
      ]
     },
     "metadata": {},
     "output_type": "display_data"
    },
    {
     "data": {
      "application/vnd.jupyter.widget-view+json": {
       "model_id": "015af74f44aa4b8188c43e8684547bc0",
       "version_major": 2,
       "version_minor": 0
      },
      "text/plain": [
       "  0%|          | 0/15 [00:00<?, ?it/s]"
      ]
     },
     "metadata": {},
     "output_type": "display_data"
    },
    {
     "data": {
      "application/vnd.jupyter.widget-view+json": {
       "model_id": "d9a86a305c2d4637836b4452600a307b",
       "version_major": 2,
       "version_minor": 0
      },
      "text/plain": [
       "  0%|          | 0/8 [00:00<?, ?it/s]"
      ]
     },
     "metadata": {},
     "output_type": "display_data"
    },
    {
     "data": {
      "application/vnd.jupyter.widget-view+json": {
       "model_id": "7d97ab9e33614620bae9566f079bb8cd",
       "version_major": 2,
       "version_minor": 0
      },
      "text/plain": [
       "  0%|          | 0/19 [00:00<?, ?it/s]"
      ]
     },
     "metadata": {},
     "output_type": "display_data"
    },
    {
     "data": {
      "application/vnd.jupyter.widget-view+json": {
       "model_id": "c3b72ad93a4b4067bc115a864bfb7374",
       "version_major": 2,
       "version_minor": 0
      },
      "text/plain": [
       "  0%|          | 0/13 [00:00<?, ?it/s]"
      ]
     },
     "metadata": {},
     "output_type": "display_data"
    },
    {
     "data": {
      "application/vnd.jupyter.widget-view+json": {
       "model_id": "6284c1e4a77c4f558ab5346dab2e7bfd",
       "version_major": 2,
       "version_minor": 0
      },
      "text/plain": [
       "  0%|          | 0/18 [00:00<?, ?it/s]"
      ]
     },
     "metadata": {},
     "output_type": "display_data"
    },
    {
     "data": {
      "application/vnd.jupyter.widget-view+json": {
       "model_id": "1481050d65b2496d85f70804e1297052",
       "version_major": 2,
       "version_minor": 0
      },
      "text/plain": [
       "  0%|          | 0/32 [00:00<?, ?it/s]"
      ]
     },
     "metadata": {},
     "output_type": "display_data"
    },
    {
     "data": {
      "application/vnd.jupyter.widget-view+json": {
       "model_id": "d966ada0dc5a4724a278d2cb24ccb684",
       "version_major": 2,
       "version_minor": 0
      },
      "text/plain": [
       "  0%|          | 0/26 [00:00<?, ?it/s]"
      ]
     },
     "metadata": {},
     "output_type": "display_data"
    },
    {
     "data": {
      "application/vnd.jupyter.widget-view+json": {
       "model_id": "1718cc4f49574362b91430e6e7a7d2dc",
       "version_major": 2,
       "version_minor": 0
      },
      "text/plain": [
       "  0%|          | 0/9 [00:00<?, ?it/s]"
      ]
     },
     "metadata": {},
     "output_type": "display_data"
    },
    {
     "data": {
      "application/vnd.jupyter.widget-view+json": {
       "model_id": "788674a4aa6e4546a15d1b9fd22f8aa5",
       "version_major": 2,
       "version_minor": 0
      },
      "text/plain": [
       "  0%|          | 0/9 [00:00<?, ?it/s]"
      ]
     },
     "metadata": {},
     "output_type": "display_data"
    },
    {
     "data": {
      "application/vnd.jupyter.widget-view+json": {
       "model_id": "7dcd09fd8f26471fb67b019a18c5f331",
       "version_major": 2,
       "version_minor": 0
      },
      "text/plain": [
       "  0%|          | 0/14 [00:00<?, ?it/s]"
      ]
     },
     "metadata": {},
     "output_type": "display_data"
    },
    {
     "data": {
      "application/vnd.jupyter.widget-view+json": {
       "model_id": "8b86d6968b2a4f2b91c48450d753cfd1",
       "version_major": 2,
       "version_minor": 0
      },
      "text/plain": [
       "  0%|          | 0/6 [00:00<?, ?it/s]"
      ]
     },
     "metadata": {},
     "output_type": "display_data"
    },
    {
     "data": {
      "application/vnd.jupyter.widget-view+json": {
       "model_id": "be5621bee6ae4e70bd15bfec3016cdf5",
       "version_major": 2,
       "version_minor": 0
      },
      "text/plain": [
       "  0%|          | 0/12 [00:00<?, ?it/s]"
      ]
     },
     "metadata": {},
     "output_type": "display_data"
    },
    {
     "data": {
      "application/vnd.jupyter.widget-view+json": {
       "model_id": "8ad63b862a56434b82726192e0b77e3c",
       "version_major": 2,
       "version_minor": 0
      },
      "text/plain": [
       "  0%|          | 0/8 [00:00<?, ?it/s]"
      ]
     },
     "metadata": {},
     "output_type": "display_data"
    },
    {
     "data": {
      "application/vnd.jupyter.widget-view+json": {
       "model_id": "9d1045f81a634df8953da173b42c6b4c",
       "version_major": 2,
       "version_minor": 0
      },
      "text/plain": [
       "  0%|          | 0/18 [00:00<?, ?it/s]"
      ]
     },
     "metadata": {},
     "output_type": "display_data"
    },
    {
     "data": {
      "application/vnd.jupyter.widget-view+json": {
       "model_id": "71b2eb4dde3342d58f7d26a55e5778fb",
       "version_major": 2,
       "version_minor": 0
      },
      "text/plain": [
       "  0%|          | 0/12 [00:00<?, ?it/s]"
      ]
     },
     "metadata": {},
     "output_type": "display_data"
    },
    {
     "data": {
      "application/vnd.jupyter.widget-view+json": {
       "model_id": "05790467ac594bd8828cf22b061174d9",
       "version_major": 2,
       "version_minor": 0
      },
      "text/plain": [
       "  0%|          | 0/19 [00:00<?, ?it/s]"
      ]
     },
     "metadata": {},
     "output_type": "display_data"
    },
    {
     "data": {
      "application/vnd.jupyter.widget-view+json": {
       "model_id": "9158a9363fdc46a596d6b4e4730b13db",
       "version_major": 2,
       "version_minor": 0
      },
      "text/plain": [
       "  0%|          | 0/12 [00:00<?, ?it/s]"
      ]
     },
     "metadata": {},
     "output_type": "display_data"
    },
    {
     "data": {
      "application/vnd.jupyter.widget-view+json": {
       "model_id": "1274cc9c18324deba4b8bf87876c36d5",
       "version_major": 2,
       "version_minor": 0
      },
      "text/plain": [
       "  0%|          | 0/12 [00:00<?, ?it/s]"
      ]
     },
     "metadata": {},
     "output_type": "display_data"
    },
    {
     "data": {
      "application/vnd.jupyter.widget-view+json": {
       "model_id": "e521835726224e25bb7eb7268fa1833e",
       "version_major": 2,
       "version_minor": 0
      },
      "text/plain": [
       "  0%|          | 0/99 [00:00<?, ?it/s]"
      ]
     },
     "metadata": {},
     "output_type": "display_data"
    },
    {
     "data": {
      "application/vnd.jupyter.widget-view+json": {
       "model_id": "d9c53ec1a7b54f7c8e0107cfe6e9d74f",
       "version_major": 2,
       "version_minor": 0
      },
      "text/plain": [
       "  0%|          | 0/67 [00:00<?, ?it/s]"
      ]
     },
     "metadata": {},
     "output_type": "display_data"
    },
    {
     "data": {
      "application/vnd.jupyter.widget-view+json": {
       "model_id": "4333c1db129b4181b8de483691aca25f",
       "version_major": 2,
       "version_minor": 0
      },
      "text/plain": [
       "  0%|          | 0/25 [00:00<?, ?it/s]"
      ]
     },
     "metadata": {},
     "output_type": "display_data"
    },
    {
     "data": {
      "application/vnd.jupyter.widget-view+json": {
       "model_id": "3b69f9b84fa3493093af37d5cb5b51ce",
       "version_major": 2,
       "version_minor": 0
      },
      "text/plain": [
       "  0%|          | 0/18 [00:00<?, ?it/s]"
      ]
     },
     "metadata": {},
     "output_type": "display_data"
    },
    {
     "data": {
      "application/vnd.jupyter.widget-view+json": {
       "model_id": "e6c490a7408444c58820bf59014d671e",
       "version_major": 2,
       "version_minor": 0
      },
      "text/plain": [
       "  0%|          | 0/42 [00:00<?, ?it/s]"
      ]
     },
     "metadata": {},
     "output_type": "display_data"
    },
    {
     "data": {
      "application/vnd.jupyter.widget-view+json": {
       "model_id": "754d4074fe104e1399f357c59d5dcf48",
       "version_major": 2,
       "version_minor": 0
      },
      "text/plain": [
       "  0%|          | 0/22 [00:00<?, ?it/s]"
      ]
     },
     "metadata": {},
     "output_type": "display_data"
    },
    {
     "data": {
      "application/vnd.jupyter.widget-view+json": {
       "model_id": "dc7fbed74e064f95a5e17b09d2a5e769",
       "version_major": 2,
       "version_minor": 0
      },
      "text/plain": [
       "  0%|          | 0/16 [00:00<?, ?it/s]"
      ]
     },
     "metadata": {},
     "output_type": "display_data"
    },
    {
     "data": {
      "application/vnd.jupyter.widget-view+json": {
       "model_id": "b38b20c41c8f45419e7870553dcf7068",
       "version_major": 2,
       "version_minor": 0
      },
      "text/plain": [
       "  0%|          | 0/10 [00:00<?, ?it/s]"
      ]
     },
     "metadata": {},
     "output_type": "display_data"
    },
    {
     "data": {
      "application/vnd.jupyter.widget-view+json": {
       "model_id": "c5f0653f5553489a943bea923426d99e",
       "version_major": 2,
       "version_minor": 0
      },
      "text/plain": [
       "  0%|          | 0/20 [00:00<?, ?it/s]"
      ]
     },
     "metadata": {},
     "output_type": "display_data"
    },
    {
     "data": {
      "application/vnd.jupyter.widget-view+json": {
       "model_id": "264027e1513b4f4ab544655081a7d5ec",
       "version_major": 2,
       "version_minor": 0
      },
      "text/plain": [
       "  0%|          | 0/59 [00:00<?, ?it/s]"
      ]
     },
     "metadata": {},
     "output_type": "display_data"
    },
    {
     "data": {
      "application/vnd.jupyter.widget-view+json": {
       "model_id": "e979abfa4d0d4a3e80014d16c41d272d",
       "version_major": 2,
       "version_minor": 0
      },
      "text/plain": [
       "  0%|          | 0/23 [00:00<?, ?it/s]"
      ]
     },
     "metadata": {},
     "output_type": "display_data"
    },
    {
     "data": {
      "application/vnd.jupyter.widget-view+json": {
       "model_id": "eb1d29a020d140ee8520992db348eb84",
       "version_major": 2,
       "version_minor": 0
      },
      "text/plain": [
       "  0%|          | 0/15 [00:00<?, ?it/s]"
      ]
     },
     "metadata": {},
     "output_type": "display_data"
    },
    {
     "data": {
      "application/vnd.jupyter.widget-view+json": {
       "model_id": "f627fde491dc4cc99f271758418478cf",
       "version_major": 2,
       "version_minor": 0
      },
      "text/plain": [
       "  0%|          | 0/20 [00:00<?, ?it/s]"
      ]
     },
     "metadata": {},
     "output_type": "display_data"
    },
    {
     "data": {
      "application/vnd.jupyter.widget-view+json": {
       "model_id": "9e4133669d1d415f8ee172765c6fc1c1",
       "version_major": 2,
       "version_minor": 0
      },
      "text/plain": [
       "  0%|          | 0/17 [00:00<?, ?it/s]"
      ]
     },
     "metadata": {},
     "output_type": "display_data"
    },
    {
     "data": {
      "application/vnd.jupyter.widget-view+json": {
       "model_id": "ad25cbd804e84a81a4d0ee41e8d0d0e8",
       "version_major": 2,
       "version_minor": 0
      },
      "text/plain": [
       "  0%|          | 0/13 [00:00<?, ?it/s]"
      ]
     },
     "metadata": {},
     "output_type": "display_data"
    },
    {
     "data": {
      "application/vnd.jupyter.widget-view+json": {
       "model_id": "c4657ef1a8b24b019c6693947aa1719e",
       "version_major": 2,
       "version_minor": 0
      },
      "text/plain": [
       "  0%|          | 0/10 [00:00<?, ?it/s]"
      ]
     },
     "metadata": {},
     "output_type": "display_data"
    },
    {
     "data": {
      "application/vnd.jupyter.widget-view+json": {
       "model_id": "760b5ee3984a45e98800be6c132927bb",
       "version_major": 2,
       "version_minor": 0
      },
      "text/plain": [
       "  0%|          | 0/20 [00:00<?, ?it/s]"
      ]
     },
     "metadata": {},
     "output_type": "display_data"
    },
    {
     "data": {
      "application/vnd.jupyter.widget-view+json": {
       "model_id": "be56d58326c2413db54ef585fd756db7",
       "version_major": 2,
       "version_minor": 0
      },
      "text/plain": [
       "  0%|          | 0/15 [00:00<?, ?it/s]"
      ]
     },
     "metadata": {},
     "output_type": "display_data"
    },
    {
     "data": {
      "application/vnd.jupyter.widget-view+json": {
       "model_id": "022a58e3dfcf426d89d576129286077f",
       "version_major": 2,
       "version_minor": 0
      },
      "text/plain": [
       "  0%|          | 0/12 [00:00<?, ?it/s]"
      ]
     },
     "metadata": {},
     "output_type": "display_data"
    },
    {
     "data": {
      "application/vnd.jupyter.widget-view+json": {
       "model_id": "e3aba0369e6741b4b480bed28a9a7a4a",
       "version_major": 2,
       "version_minor": 0
      },
      "text/plain": [
       "  0%|          | 0/14 [00:00<?, ?it/s]"
      ]
     },
     "metadata": {},
     "output_type": "display_data"
    },
    {
     "data": {
      "application/vnd.jupyter.widget-view+json": {
       "model_id": "6d5694753e144a11a1ba15b168b72860",
       "version_major": 2,
       "version_minor": 0
      },
      "text/plain": [
       "  0%|          | 0/18 [00:00<?, ?it/s]"
      ]
     },
     "metadata": {},
     "output_type": "display_data"
    },
    {
     "data": {
      "application/vnd.jupyter.widget-view+json": {
       "model_id": "a2a2c3aac6bc42a49e45721139aac5e2",
       "version_major": 2,
       "version_minor": 0
      },
      "text/plain": [
       "  0%|          | 0/23 [00:00<?, ?it/s]"
      ]
     },
     "metadata": {},
     "output_type": "display_data"
    },
    {
     "data": {
      "application/vnd.jupyter.widget-view+json": {
       "model_id": "729992ac27a640248a6b818b26b5828a",
       "version_major": 2,
       "version_minor": 0
      },
      "text/plain": [
       "  0%|          | 0/8 [00:00<?, ?it/s]"
      ]
     },
     "metadata": {},
     "output_type": "display_data"
    },
    {
     "data": {
      "application/vnd.jupyter.widget-view+json": {
       "model_id": "b9f8fcddc086498e80d3108667c45757",
       "version_major": 2,
       "version_minor": 0
      },
      "text/plain": [
       "  0%|          | 0/21 [00:00<?, ?it/s]"
      ]
     },
     "metadata": {},
     "output_type": "display_data"
    },
    {
     "data": {
      "application/vnd.jupyter.widget-view+json": {
       "model_id": "053e9f7d580f4a8b8308cf8f49871ca2",
       "version_major": 2,
       "version_minor": 0
      },
      "text/plain": [
       "  0%|          | 0/19 [00:00<?, ?it/s]"
      ]
     },
     "metadata": {},
     "output_type": "display_data"
    },
    {
     "data": {
      "application/vnd.jupyter.widget-view+json": {
       "model_id": "7520e889f74941f59daa9818de9b65d7",
       "version_major": 2,
       "version_minor": 0
      },
      "text/plain": [
       "  0%|          | 0/15 [00:00<?, ?it/s]"
      ]
     },
     "metadata": {},
     "output_type": "display_data"
    },
    {
     "data": {
      "application/vnd.jupyter.widget-view+json": {
       "model_id": "82aaf49c2e964e3abf61d9c372e4d987",
       "version_major": 2,
       "version_minor": 0
      },
      "text/plain": [
       "  0%|          | 0/17 [00:00<?, ?it/s]"
      ]
     },
     "metadata": {},
     "output_type": "display_data"
    },
    {
     "data": {
      "application/vnd.jupyter.widget-view+json": {
       "model_id": "348a0bbaee7440239d70fd63c45306fa",
       "version_major": 2,
       "version_minor": 0
      },
      "text/plain": [
       "  0%|          | 0/22 [00:00<?, ?it/s]"
      ]
     },
     "metadata": {},
     "output_type": "display_data"
    },
    {
     "data": {
      "application/vnd.jupyter.widget-view+json": {
       "model_id": "22a19bcc34384e0987e311adbd43e573",
       "version_major": 2,
       "version_minor": 0
      },
      "text/plain": [
       "  0%|          | 0/26 [00:00<?, ?it/s]"
      ]
     },
     "metadata": {},
     "output_type": "display_data"
    },
    {
     "data": {
      "application/vnd.jupyter.widget-view+json": {
       "model_id": "d5c4f88b2fec4948ab70e7bc2783dc18",
       "version_major": 2,
       "version_minor": 0
      },
      "text/plain": [
       "  0%|          | 0/23 [00:00<?, ?it/s]"
      ]
     },
     "metadata": {},
     "output_type": "display_data"
    },
    {
     "data": {
      "application/vnd.jupyter.widget-view+json": {
       "model_id": "e29c5173cd7b43f2a0388d35012e8251",
       "version_major": 2,
       "version_minor": 0
      },
      "text/plain": [
       "  0%|          | 0/12 [00:00<?, ?it/s]"
      ]
     },
     "metadata": {},
     "output_type": "display_data"
    },
    {
     "data": {
      "application/vnd.jupyter.widget-view+json": {
       "model_id": "5cf562cc831e490aa695d514c46531be",
       "version_major": 2,
       "version_minor": 0
      },
      "text/plain": [
       "  0%|          | 0/6 [00:00<?, ?it/s]"
      ]
     },
     "metadata": {},
     "output_type": "display_data"
    },
    {
     "data": {
      "application/vnd.jupyter.widget-view+json": {
       "model_id": "8444991cc500401c84674016e396a572",
       "version_major": 2,
       "version_minor": 0
      },
      "text/plain": [
       "  0%|          | 0/5 [00:00<?, ?it/s]"
      ]
     },
     "metadata": {},
     "output_type": "display_data"
    },
    {
     "data": {
      "application/vnd.jupyter.widget-view+json": {
       "model_id": "b3509ddef6254d0c86c67c0cb66cc92e",
       "version_major": 2,
       "version_minor": 0
      },
      "text/plain": [
       "  0%|          | 0/11 [00:00<?, ?it/s]"
      ]
     },
     "metadata": {},
     "output_type": "display_data"
    },
    {
     "data": {
      "application/vnd.jupyter.widget-view+json": {
       "model_id": "821afa379610494689cdbf1657110d1b",
       "version_major": 2,
       "version_minor": 0
      },
      "text/plain": [
       "  0%|          | 0/23 [00:00<?, ?it/s]"
      ]
     },
     "metadata": {},
     "output_type": "display_data"
    },
    {
     "data": {
      "application/vnd.jupyter.widget-view+json": {
       "model_id": "a1c685fcf31b485eaa1117be6c3bc857",
       "version_major": 2,
       "version_minor": 0
      },
      "text/plain": [
       "  0%|          | 0/11 [00:00<?, ?it/s]"
      ]
     },
     "metadata": {},
     "output_type": "display_data"
    },
    {
     "data": {
      "application/vnd.jupyter.widget-view+json": {
       "model_id": "de5369320bb547af8b3bd977fcd13bb9",
       "version_major": 2,
       "version_minor": 0
      },
      "text/plain": [
       "  0%|          | 0/23 [00:00<?, ?it/s]"
      ]
     },
     "metadata": {},
     "output_type": "display_data"
    },
    {
     "data": {
      "application/vnd.jupyter.widget-view+json": {
       "model_id": "a411d306e91542bca07be0ad852230aa",
       "version_major": 2,
       "version_minor": 0
      },
      "text/plain": [
       "  0%|          | 0/15 [00:00<?, ?it/s]"
      ]
     },
     "metadata": {},
     "output_type": "display_data"
    },
    {
     "data": {
      "application/vnd.jupyter.widget-view+json": {
       "model_id": "4312179146714fdba8f3fabe9bcc40b8",
       "version_major": 2,
       "version_minor": 0
      },
      "text/plain": [
       "  0%|          | 0/9 [00:00<?, ?it/s]"
      ]
     },
     "metadata": {},
     "output_type": "display_data"
    },
    {
     "data": {
      "application/vnd.jupyter.widget-view+json": {
       "model_id": "4d489d86f0de466ab125923632b386c3",
       "version_major": 2,
       "version_minor": 0
      },
      "text/plain": [
       "  0%|          | 0/32 [00:00<?, ?it/s]"
      ]
     },
     "metadata": {},
     "output_type": "display_data"
    },
    {
     "data": {
      "application/vnd.jupyter.widget-view+json": {
       "model_id": "7b44551852524563a182800fc8e37b2a",
       "version_major": 2,
       "version_minor": 0
      },
      "text/plain": [
       "  0%|          | 0/22 [00:00<?, ?it/s]"
      ]
     },
     "metadata": {},
     "output_type": "display_data"
    },
    {
     "data": {
      "application/vnd.jupyter.widget-view+json": {
       "model_id": "77b4c0aefbd84b7d8521369f9f3d79fd",
       "version_major": 2,
       "version_minor": 0
      },
      "text/plain": [
       "  0%|          | 0/13 [00:00<?, ?it/s]"
      ]
     },
     "metadata": {},
     "output_type": "display_data"
    },
    {
     "data": {
      "application/vnd.jupyter.widget-view+json": {
       "model_id": "7e4ef9f835b342e09bd8197715c9a378",
       "version_major": 2,
       "version_minor": 0
      },
      "text/plain": [
       "  0%|          | 0/17 [00:00<?, ?it/s]"
      ]
     },
     "metadata": {},
     "output_type": "display_data"
    },
    {
     "data": {
      "application/vnd.jupyter.widget-view+json": {
       "model_id": "2dbdc46817504a6fb144db1b85c325e7",
       "version_major": 2,
       "version_minor": 0
      },
      "text/plain": [
       "  0%|          | 0/27 [00:00<?, ?it/s]"
      ]
     },
     "metadata": {},
     "output_type": "display_data"
    },
    {
     "data": {
      "application/vnd.jupyter.widget-view+json": {
       "model_id": "a80e5b744485453eb8595f3c7efe1039",
       "version_major": 2,
       "version_minor": 0
      },
      "text/plain": [
       "  0%|          | 0/8 [00:00<?, ?it/s]"
      ]
     },
     "metadata": {},
     "output_type": "display_data"
    },
    {
     "data": {
      "application/vnd.jupyter.widget-view+json": {
       "model_id": "bb8b88fb049d4882b41f177d642ef349",
       "version_major": 2,
       "version_minor": 0
      },
      "text/plain": [
       "  0%|          | 0/11 [00:00<?, ?it/s]"
      ]
     },
     "metadata": {},
     "output_type": "display_data"
    },
    {
     "name": "stdout",
     "output_type": "stream",
     "text": [
      "Synapsse Results:\n",
      "Total Number of Synapses = 4633\n",
      "n_valid_syn_ids_presyn = 72\n",
      "n_errored_syn_ids_presyn = 219\n",
      "n_valid_syn_ids_postsyn = 4328\n",
      "n_errored_syn_ids_postsyn = 14\n",
      "Synapsse Results:\n",
      "Total Number of Synapses = 4633\n",
      "n_valid_syn_ids_presyn = 72\n",
      "n_errored_syn_ids_presyn = 219\n",
      "n_valid_syn_ids_postsyn = 4328\n",
      "n_errored_syn_ids_postsyn = 14\n"
     ]
    },
    {
     "data": {
      "application/vnd.jupyter.widget-view+json": {
       "model_id": "af74418ae3614810a5eedeb9c56c5e02",
       "version_major": 2,
       "version_minor": 0
      },
      "text/plain": [
       "  0%|          | 0/35 [00:00<?, ?it/s]"
      ]
     },
     "metadata": {},
     "output_type": "display_data"
    },
    {
     "data": {
      "application/vnd.jupyter.widget-view+json": {
       "model_id": "c9c63d70fd5640269c97e9ca0756299d",
       "version_major": 2,
       "version_minor": 0
      },
      "text/plain": [
       "  0%|          | 0/12 [00:00<?, ?it/s]"
      ]
     },
     "metadata": {},
     "output_type": "display_data"
    },
    {
     "name": "stdout",
     "output_type": "stream",
     "text": [
      "Synapsse Results:\n",
      "Total Number of Synapses = 4633\n",
      "n_valid_syn_ids_presyn = 72\n",
      "n_errored_syn_ids_presyn = 219\n",
      "n_valid_syn_ids_postsyn = 4328\n",
      "n_errored_syn_ids_postsyn = 14\n",
      "Synapsse Results:\n",
      "Total Number of Synapses = 4633\n",
      "n_valid_syn_ids_presyn = 72\n",
      "n_errored_syn_ids_presyn = 219\n",
      "n_valid_syn_ids_postsyn = 4328\n",
      "n_errored_syn_ids_postsyn = 14\n"
     ]
    },
    {
     "data": {
      "application/vnd.jupyter.widget-view+json": {
       "model_id": "52a66147208e4891ae7514816e0595f0",
       "version_major": 2,
       "version_minor": 0
      },
      "text/plain": [
       "  0%|          | 0/35 [00:00<?, ?it/s]"
      ]
     },
     "metadata": {},
     "output_type": "display_data"
    },
    {
     "data": {
      "application/vnd.jupyter.widget-view+json": {
       "model_id": "70718a8b877e4f56bfad4bc1718b2729",
       "version_major": 2,
       "version_minor": 0
      },
      "text/plain": [
       "  0%|          | 0/12 [00:00<?, ?it/s]"
      ]
     },
     "metadata": {},
     "output_type": "display_data"
    },
    {
     "name": "stdout",
     "output_type": "stream",
     "text": [
      "\n",
      "\n",
      "len(branch_attr_keys) = 47\n",
      "Saving Neuorn in suppress_output mode...please wait\n",
      "Saved File at location: /mnt/dj-stor01/platinum/minnie65/02/decomposition/864691135974454895_0_25_soma_0_split_full_axon\n",
      "Save time = 326.44532799720764\n",
      "\n",
      "\n",
      " ***------ Total time for 864691135974454895 = 1368.681265592575 ------ ***\n",
      "\n",
      "\n",
      "\n",
      "---- Working on Neuron 864691136311791677 ----\n",
      "Decompressing Neuron in minimal output mode...please wait\n",
      "Pulled from Table Decomposition so setting split_index = 0\n",
      "Dont need spine recalculation\n",
      "Number of Neurons found = 1\n",
      "\n",
      "Part 1: Axon like branchese \n",
      "{'L0': array([29, 40]), 'L1': array([  0,   1,   2,   3,   4,   5,   6,   7,   8,   9,  10,  11,  12,\n",
      "        13,  14,  15,  16,  17,  18,  19,  20,  21,  22,  23,  24,  25,\n",
      "        26,  27,  28,  29,  30,  31,  32,  33,  34,  35,  36,  37,  38,\n",
      "        39,  40,  41,  42,  43,  44,  45,  46,  47,  48,  49,  50,  51,\n",
      "        52,  53,  54,  55,  56,  57,  58,  59,  60,  61,  62,  63,  64,\n",
      "        65,  66,  67,  68,  69,  70,  71,  72,  73,  74,  75,  76,  77,\n",
      "        78,  79,  80,  81,  82,  83,  84,  85,  86,  87,  88,  89,  90,\n",
      "        91,  92,  93,  94,  95,  96,  97,  98,  99, 100, 101, 102, 103,\n",
      "       104, 105, 106, 107, 108, 109, 110, 111, 112, 113, 114, 115, 116]), 'L2': array([13]), 'L3': array([ 3,  5, 13, 14]), 'L4': array([6]), 'L5': array([3, 6])}\n",
      "Limb L0 soma angle: 10.63 \n",
      "Limb L1 soma angle: 165.27 \n",
      "Limb L2 soma angle: 122.29 \n",
      "Limb L3 soma angle: 136.47 \n",
      "Limb L4 soma angle: 105.74 \n",
      "Limb L5 soma angle: 106.77 \n",
      "Limb L6 soma angle: 72.85 \n",
      "Limb L7 soma angle: 123.76 \n",
      "\n",
      "Part 2: possible_axon_limbs = [1, 2, 3, 4, 5, 6, 7]\n",
      "\n",
      "Phase 2: Working on Limb L1\n",
      "nodes_to_eliminate = []\n",
      "\n",
      "Phase 2: Working on Limb L2\n",
      "nodes_to_eliminate = [10]\n",
      "\n",
      "Phase 2: Working on Limb L3\n",
      "nodes_to_eliminate = [12]\n",
      "\n",
      "Phase 2: Working on Limb L4\n",
      "nodes_to_eliminate = [1]\n",
      "\n",
      "Phase 2: Working on Limb L5\n",
      "nodes_to_eliminate = [0]\n",
      "\n",
      "Phase 2: Working on Limb L6\n",
      "nodes_to_eliminate = [0]\n",
      "\n",
      "Phase 2: Working on Limb L7\n",
      "nodes_to_eliminate = []\n",
      "\n",
      "----Working on Limb L1-----\n",
      "No nodes were eliminated so don't need to add back any candidates\n",
      "\n",
      "----Working on Limb L2-----\n",
      "No endpoints were eliminated so don't need to add back any candidates\n",
      "\n",
      "----Working on Limb L3-----\n",
      "No endpoints were eliminated so don't need to add back any candidates\n",
      "\n",
      "----Working on Limb L4-----\n",
      "No endpoints were eliminated so don't need to add back any candidates\n",
      "\n",
      "----Working on Limb L5-----\n",
      "No endpoints were eliminated so don't need to add back any candidates\n",
      "\n",
      "----Working on Limb L6-----\n",
      "No endpoints were eliminated so don't need to add back any candidates\n",
      "\n",
      "----Working on Limb L7-----\n",
      "No nodes were eliminated so don't need to add back any candidates\n",
      "Final Candidates\n",
      "\n",
      "Limb 1\n",
      "Candidate 0 (brown): array([  0,   1,   2,   3,   4,   5,   6,   7,   8,   9,  10,  11,  12,\n",
      "        13,  14,  15,  16,  17,  18,  19,  20,  21,  22,  23,  24,  25,\n",
      "        26,  27,  28,  29,  30,  31,  32,  33,  34,  35,  36,  37,  38,\n",
      "        39,  40,  41,  42,  43,  44,  45,  46,  47,  48,  49,  50,  51,\n",
      "        52,  53,  54,  55,  56,  57,  58,  59,  60,  61,  62,  63,  64,\n",
      "        65,  66,  67,  68,  69,  70,  71,  72,  73,  74,  75,  76,  77,\n",
      "        78,  79,  80,  81,  82,  83,  84,  85,  86,  87,  88,  89,  90,\n",
      "        91,  92,  93,  94,  95,  96,  97,  98,  99, 100, 101, 102, 103,\n",
      "       104, 105, 106, 107, 108, 109, 110, 111, 112, 113, 114, 115, 116])\n",
      "\n",
      "Limb 2\n",
      "Candidate 0 (magenta): array([0, 1, 4, 5, 7])\n",
      "Candidate 1 (palegreen): array([ 2,  3,  6,  8,  9, 11, 12, 13, 14])\n",
      "\n",
      "Limb 3\n",
      "Candidate 0 (gray): array([0, 2, 5, 6, 7, 8, 9])\n",
      "Candidate 1 (olive): array([ 1,  3,  4, 10, 11, 13, 14])\n",
      "\n",
      "Limb 4\n",
      "Candidate 0 (darkslategray): array([0, 5, 6])\n",
      "Candidate 1 (cyan): array([2, 3, 4, 7, 8])\n",
      "\n",
      "Limb 5\n",
      "Candidate 0 (olive): array([1])\n",
      "Candidate 1 (cyan): array([2, 3, 4, 5, 6])\n",
      "\n",
      "Limb 6\n",
      "Candidate 0 (blue): array([1])\n",
      "Candidate 1 (blue): array([2])\n",
      "\n",
      "Limb 7\n",
      "Candidate 0 (brown): array([0, 1, 2])\n",
      "Part 3: axon_subgraph_candidates = {1: [[0, 1, 2, 3, 4, 5, 6, 7, 8, 9, 10, 11, 12, 13, 14, 15, 16, 17, 18, 19, 20, 21, 22, 23, 24, 25, 26, 27, 28, 29, 30, 31, 32, 33, 34, 35, 36, 37, 38, 39, 40, 41, 42, 43, 44, 45, 46, 47, 48, 49, 50, 51, 52, 53, 54, 55, 56, 57, 58, 59, 60, 61, 62, 63, 64, 65, 66, 67, 68, 69, 70, 71, 72, 73, 74, 75, 76, 77, 78, 79, 80, 81, 82, 83, 84, 85, 86, 87, 88, 89, 90, 91, 92, 93, 94, 95, 96, 97, 98, 99, 100, 101, 102, 103, 104, 105, 106, 107, 108, 109, 110, 111, 112, 113, 114, 115, 116]], 2: [[0, 1, 4, 5, 7], [2, 3, 6, 8, 9, 11, 12, 13, 14]], 3: [[0, 2, 5, 6, 7, 8, 9], [1, 3, 4, 10, 11, 13, 14]], 4: [[0, 5, 6], [2, 3, 4, 7, 8]], 5: [[1], [2, 3, 4, 5, 6]], 6: [[1], [2]], 7: [[0, 1, 2]]}\n",
      "\n",
      "\n",
      " --- Working on limb 1, candidate # 0\n",
      "117 out of 117 branches are axons\n",
      "Axon percentage = 1.0\n",
      "curr_axon_angle_threshold = 95\n",
      "candidate_nodes = [  0   1   2   3   4   5   6   7   8   9  10  11  12  13  14  15  16  17\n",
      "  18  19  20  21  22  23  24  25  26  27  28  29  30  31  32  33  34  35\n",
      "  36  37  38  39  40  41  42  43  44  45  46  47  48  49  50  51  52  53\n",
      "  54  55  56  57  58  59  60  61  62  63  64  65  66  67  68  69  70  71\n",
      "  72  73  74  75  76  77  78  79  80  81  82  83  84  85  86  87  88  89\n",
      "  90  91  92  93  94  95  96  97  98  99 100 101 102 103 104 105 106 107\n",
      " 108 109 110 111 112 113 114 115 116]\n",
      "non_axon_branches_on_subgraph = []\n",
      "endnodes_to_test = [46367]\n",
      "Skeleton paths distances = [24962.3141104]\n",
      "Filtered indexes = [0]\n",
      "len(filtered_skeletons) = 1\n",
      "sk_angles = [168.56498837]\n",
      "candidate_angles,restr_skels = (array([168.56498837]), [array([[[1331292.60940972,  565969.04092829,  787492.58175602],\n",
      "        [1331257.11920875,  566062.44404317,  787488.54396368]],\n",
      "\n",
      "       [[1331257.11920875,  566062.44404317,  787488.54396368],\n",
      "        [1331222.15382881,  566155.9693221 ,  787483.3564272 ]],\n",
      "\n",
      "       [[1331222.15382881,  566155.9693221 ,  787483.3564272 ],\n",
      "        [1331188.33878128,  566249.76236715,  787475.64881652]],\n",
      "\n",
      "       [[1331188.33878128,  566249.76236715,  787475.64881652],\n",
      "        [1331154.52373376,  566343.55541219,  787467.94120583]],\n",
      "\n",
      "       [[1331154.52373376,  566343.55541219,  787467.94120583],\n",
      "        [1331121.43729454,  566437.53329589,  787459.56926408]],\n",
      "\n",
      "       [[1331121.43729454,  566437.53329589,  787459.56926408],\n",
      "        [1331090.78022782,  566532.12748046,  787448.98226715]],\n",
      "\n",
      "       [[1331090.78022782,  566532.12748046,  787448.98226715],\n",
      "        [1331060.1231611 ,  566626.72166504,  787438.39527023]],\n",
      "\n",
      "       [[1331060.1231611 ,  566626.72166504,  787438.39527023],\n",
      "        [1331030.11913614,  566721.47381472,  787427.49665957]],\n",
      "\n",
      "       [[1331030.11913614,  566721.47381472,  787427.49665957],\n",
      "        [1331003.69737061,  566817.09248167,  787414.88869236]],\n",
      "\n",
      "       [[1331003.69737061,  566817.09248167,  787414.88869236],\n",
      "        [1330977.27560508,  566912.71114862,  787402.28072516]],\n",
      "\n",
      "       [[1330977.27560508,  566912.71114862,  787402.28072516],\n",
      "        [1330951.0902775 ,  567008.38043801,  787389.60853318]],\n",
      "\n",
      "       [[1330951.0902775 ,  567008.38043801,  787389.60853318],\n",
      "        [1330929.17825522,  567104.96466141,  787375.77556281]],\n",
      "\n",
      "       [[1330929.17825522,  567104.96466141,  787375.77556281],\n",
      "        [1330907.26623293,  567201.54888481,  787361.94259244]],\n",
      "\n",
      "       [[1330907.26623293,  567201.54888481,  787361.94259244],\n",
      "        [1330885.35421065,  567298.13310821,  787348.10962206]],\n",
      "\n",
      "       [[1330885.35421065,  567298.13310821,  787348.10962206],\n",
      "        [1330866.90277508,  567395.35460319,  787333.75656199]],\n",
      "\n",
      "       [[1330866.90277508,  567395.35460319,  787333.75656199],\n",
      "        [1330848.86574395,  567492.65241129,  787319.3412213 ]],\n",
      "\n",
      "       [[1330848.86574395,  567492.65241129,  787319.3412213 ],\n",
      "        [1330830.82871282,  567589.95021939,  787304.92588061]],\n",
      "\n",
      "       [[1330830.82871282,  567589.95021939,  787304.92588061],\n",
      "        [1330814.49208663,  567687.53074208,  787290.44934657]],\n",
      "\n",
      "       [[1330814.49208663,  567687.53074208,  787290.44934657],\n",
      "        [1330799.06206019,  567785.26199886,  787275.94018626]],\n",
      "\n",
      "       [[1330799.06206019,  567785.26199886,  787275.94018626],\n",
      "        [1330783.63203376,  567882.99325563,  787261.43102596]],\n",
      "\n",
      "       [[1330783.63203376,  567882.99325563,  787261.43102596],\n",
      "        [1330768.58873711,  567980.7984909 ,  787247.02670671]],\n",
      "\n",
      "       [[1330768.58873711,  567980.7984909 ,  787247.02670671],\n",
      "        [1330754.3625031 ,  568078.76002407,  787232.84389021]],\n",
      "\n",
      "       [[1330754.3625031 ,  568078.76002407,  787232.84389021],\n",
      "        [1330740.13626908,  568176.72155725,  787218.6610737 ]],\n",
      "\n",
      "       [[1330740.13626908,  568176.72155725,  787218.6610737 ],\n",
      "        [1330725.91003507,  568274.68309042,  787204.4782572 ]],\n",
      "\n",
      "       [[1330725.91003507,  568274.68309042,  787204.4782572 ],\n",
      "        [1330711.80771183,  568372.76524996,  787191.02620574]],\n",
      "\n",
      "       [[1330711.80771183,  568372.76524996,  787191.02620574],\n",
      "        [1330697.7178629 ,  568470.85955316,  787177.64772165]],\n",
      "\n",
      "       [[1330697.7178629 ,  568470.85955316,  787177.64772165],\n",
      "        [1330683.62801397,  568568.95385637,  787164.26923757]],\n",
      "\n",
      "       [[1330683.62801397,  568568.95385637,  787164.26923757],\n",
      "        [1330669.39986874,  568667.10995175,  787151.52579352]],\n",
      "\n",
      "       [[1330669.39986874,  568667.10995175,  787151.52579352],\n",
      "        [1330654.99473841,  568765.34512585,  787139.59504375]],\n",
      "\n",
      "       [[1330654.99473841,  568765.34512585,  787139.59504375],\n",
      "        [1330640.58960809,  568863.58029995,  787127.66429398]],\n",
      "\n",
      "       [[1330640.58960809,  568863.58029995,  787127.66429398],\n",
      "        [1330626.18447777,  568961.81547405,  787115.73354422]],\n",
      "\n",
      "       [[1330626.18447777,  568961.81547405,  787115.73354422],\n",
      "        [1330611.68026135,  569060.27401667,  787105.97193499]],\n",
      "\n",
      "       [[1330611.68026135,  569060.27401667,  787105.97193499],\n",
      "        [1330597.17076139,  569158.74446988,  787096.32598995]],\n",
      "\n",
      "       [[1330597.17076139,  569158.74446988,  787096.32598995],\n",
      "        [1330582.66126144,  569257.21492309,  787086.68004491]],\n",
      "\n",
      "       [[1330582.66126144,  569257.21492309,  787086.68004491],\n",
      "        [1330568.45130949,  569355.85545031,  787078.59106297]],\n",
      "\n",
      "       [[1330568.45130949,  569355.85545031,  787078.59106297],\n",
      "        [1330554.5584863 ,  569454.67603334,  787072.1504238 ]],\n",
      "\n",
      "       [[1330554.5584863 ,  569454.67603334,  787072.1504238 ],\n",
      "        [1330540.66566311,  569553.49661637,  787065.70978462]],\n",
      "\n",
      "       [[1330540.66566311,  569553.49661637,  787065.70978462],\n",
      "        [1330526.91103087,  569652.35138679,  787059.62016488]],\n",
      "\n",
      "       [[1330526.91103087,  569652.35138679,  787059.62016488],\n",
      "        [1330514.56353026,  569751.55427082,  787057.10480637]],\n",
      "\n",
      "       [[1330514.56353026,  569751.55427082,  787057.10480637],\n",
      "        [1330502.21602965,  569850.75715485,  787054.58944787]],\n",
      "\n",
      "       [[1330502.21602965,  569850.75715485,  787054.58944787],\n",
      "        [1330489.86852904,  569949.96003888,  787052.07408936]],\n",
      "\n",
      "       [[1330489.86852904,  569949.96003888,  787052.07408936],\n",
      "        [1330479.31685931,  570049.38127816,  787052.73717526]],\n",
      "\n",
      "       [[1330479.31685931,  570049.38127816,  787052.73717526],\n",
      "        [1330469.25388521,  570148.86193799,  787054.26520446]],\n",
      "\n",
      "       [[1330469.25388521,  570148.86193799,  787054.26520446],\n",
      "        [1330459.19091111,  570248.34259781,  787055.79323366]],\n",
      "\n",
      "       [[1330459.19091111,  570248.34259781,  787055.79323366],\n",
      "        [1330450.55212998,  570347.88993232,  787059.20187049]],\n",
      "\n",
      "       [[1330450.55212998,  570347.88993232,  787059.20187049],\n",
      "        [1330442.95688232,  570447.48612065,  787063.98846454]],\n",
      "\n",
      "       [[1330442.95688232,  570447.48612065,  787063.98846454],\n",
      "        [1330435.36163465,  570547.08230899,  787068.77505859]],\n",
      "\n",
      "       [[1330435.36163465,  570547.08230899,  787068.77505859],\n",
      "        [1330428.6278059 ,  570646.69478178,  787074.28855771]],\n",
      "\n",
      "       [[1330428.6278059 ,  570646.69478178,  787074.28855771],\n",
      "        [1330422.98686387,  570746.32791475,  787080.72428512]],\n",
      "\n",
      "       [[1330422.98686387,  570746.32791475,  787080.72428512],\n",
      "        [1330417.34592183,  570845.96104772,  787087.16001253]],\n",
      "\n",
      "       [[1330417.34592183,  570845.96104772,  787087.16001253],\n",
      "        [1330412.01786119,  570945.61636175,  787093.50213111]],\n",
      "\n",
      "       [[1330412.01786119,  570945.61636175,  787093.50213111],\n",
      "        [1330407.29625852,  571045.31466932,  787099.66280767]],\n",
      "\n",
      "       [[1330407.29625852,  571045.31466932,  787099.66280767],\n",
      "        [1330402.57465586,  571145.01297689,  787105.82348424]],\n",
      "\n",
      "       [[1330402.57465586,  571145.01297689,  787105.82348424],\n",
      "        [1330397.78455494,  571244.73066307,  787111.55103214]],\n",
      "\n",
      "       [[1330397.78455494,  571244.73066307,  787111.55103214],\n",
      "        [1330392.76933879,  571344.51203582,  787115.85513007]],\n",
      "\n",
      "       [[1330392.76933879,  571344.51203582,  787115.85513007],\n",
      "        [1330387.75412265,  571444.29340857,  787120.15922799]],\n",
      "\n",
      "       [[1330387.75412265,  571444.29340857,  787120.15922799],\n",
      "        [1330382.62690619,  571544.07463419,  787124.25239275]],\n",
      "\n",
      "       [[1330382.62690619,  571544.07463419,  787124.25239275],\n",
      "        [1330376.19451582,  571643.85414518,  787125.88748886]],\n",
      "\n",
      "       [[1330376.19451582,  571643.85414518,  787125.88748886],\n",
      "        [1330369.76212545,  571743.63365618,  787127.52258497]],\n",
      "\n",
      "       [[1330369.76212545,  571743.63365618,  787127.52258497],\n",
      "        [1330363.32973508,  571843.41316718,  787129.15768109]],\n",
      "\n",
      "       [[1330363.32973508,  571843.41316718,  787129.15768109],\n",
      "        [1330354.88403526,  571943.04536601,  787128.51429652]],\n",
      "\n",
      "       [[1330354.88403526,  571943.04536601,  787128.51429652],\n",
      "        [1330346.07307616,  572042.65083913,  787127.45754469]],\n",
      "\n",
      "       [[1330346.07307616,  572042.65083913,  787127.45754469],\n",
      "        [1330337.26211705,  572142.25631225,  787126.40079286]],\n",
      "\n",
      "       [[1330337.26211705,  572142.25631225,  787126.40079286],\n",
      "        [1330326.77206088,  572241.66097655,  787124.20150698]],\n",
      "\n",
      "       [[1330326.77206088,  572241.66097655,  787124.20150698],\n",
      "        [1330314.73614312,  572340.8807661 ,  787120.95034653]],\n",
      "\n",
      "       [[1330314.73614312,  572340.8807661 ,  787120.95034653],\n",
      "        [1330302.70022535,  572440.10055566,  787117.69918609]],\n",
      "\n",
      "       [[1330302.70022535,  572440.10055566,  787117.69918609],\n",
      "        [1330290.24977332,  572539.25526066,  787114.29120586]],\n",
      "\n",
      "       [[1330290.24977332,  572539.25526066,  787114.29120586],\n",
      "        [1330274.25363406,  572637.85326992,  787109.54187957]],\n",
      "\n",
      "       [[1330274.25363406,  572637.85326992,  787109.54187957],\n",
      "        [1330258.2574948 ,  572736.45127917,  787104.79255327]],\n",
      "\n",
      "       [[1330258.2574948 ,  572736.45127917,  787104.79255327],\n",
      "        [1330242.26135554,  572835.04928842,  787100.04322698]],\n",
      "\n",
      "       [[1330242.26135554,  572835.04928842,  787100.04322698],\n",
      "        [1330223.53706834,  572933.11412357,  787094.78301627]],\n",
      "\n",
      "       [[1330223.53706834,  572933.11412357,  787094.78301627],\n",
      "        [1330203.09853009,  573030.843935  ,  787089.20178772]],\n",
      "\n",
      "       [[1330203.09853009,  573030.843935  ,  787089.20178772],\n",
      "        [1330182.65999184,  573128.57374643,  787083.62055916]],\n",
      "\n",
      "       [[1330182.65999184,  573128.57374643,  787083.62055916],\n",
      "        [1330161.91428653,  573226.23065891,  787078.01706864]],\n",
      "\n",
      "       [[1330161.91428653,  573226.23065891,  787078.01706864],\n",
      "        [1330137.04676058,  573322.90935331,  787072.11484855]],\n",
      "\n",
      "       [[1330137.04676058,  573322.90935331,  787072.11484855],\n",
      "        [1330112.17923462,  573419.58804771,  787066.21262845]],\n",
      "\n",
      "       [[1330112.17923462,  573419.58804771,  787066.21262845],\n",
      "        [1330087.31170866,  573516.26674211,  787060.31040836]],\n",
      "\n",
      "       [[1330087.31170866,  573516.26674211,  787060.31040836],\n",
      "        [1330060.59716222,  573612.43079429,  787054.39325797]],\n",
      "\n",
      "       [[1330060.59716222,  573612.43079429,  787054.39325797],\n",
      "        [1330031.97589092,  573708.0635686 ,  787048.46069466]],\n",
      "\n",
      "       [[1330031.97589092,  573708.0635686 ,  787048.46069466],\n",
      "        [1330003.35461963,  573803.69634291,  787042.52813134]],\n",
      "\n",
      "       [[1330003.35461963,  573803.69634291,  787042.52813134],\n",
      "        [1329974.73334834,  573899.32911722,  787036.59556803]],\n",
      "\n",
      "       [[1329974.73334834,  573899.32911722,  787036.59556803],\n",
      "        [1329943.84791253,  573994.25238822,  787030.67049987]],\n",
      "\n",
      "       [[1329943.84791253,  573994.25238822,  787030.67049987],\n",
      "        [1329912.73885312,  574089.10558406,  787024.74617198]],\n",
      "\n",
      "       [[1329912.73885312,  574089.10558406,  787024.74617198],\n",
      "        [1329881.62979372,  574183.95877991,  787018.82184409]],\n",
      "\n",
      "       [[1329881.62979372,  574183.95877991,  787018.82184409],\n",
      "        [1329850.18179507,  574278.69423792,  787012.82307906]],\n",
      "\n",
      "       [[1329850.18179507,  574278.69423792,  787012.82307906],\n",
      "        [1329818.15024668,  574373.22698739,  787006.69615605]],\n",
      "\n",
      "       [[1329818.15024668,  574373.22698739,  787006.69615605],\n",
      "        [1329786.11869828,  574467.75973686,  787000.56923304]],\n",
      "\n",
      "       [[1329786.11869828,  574467.75973686,  787000.56923304],\n",
      "        [1329754.08714989,  574562.29248632,  786994.44231003]],\n",
      "\n",
      "       [[1329754.08714989,  574562.29248632,  786994.44231003],\n",
      "        [1329722.60709818,  574656.97158266,  786987.74712248]],\n",
      "\n",
      "       [[1329722.60709818,  574656.97158266,  786987.74712248],\n",
      "        [1329691.16916383,  574751.6618554 ,  786981.00853701]],\n",
      "\n",
      "       [[1329691.16916383,  574751.6618554 ,  786981.00853701],\n",
      "        [1329659.73122949,  574846.35212813,  786974.26995155]],\n",
      "\n",
      "       [[1329659.73122949,  574846.35212813,  786974.26995155],\n",
      "        [1329629.50542128,  574941.37521902,  786966.787592  ]],\n",
      "\n",
      "       [[1329629.50542128,  574941.37521902,  786966.787592  ],\n",
      "        [1329599.86317581,  575036.55854099,  786958.94715185]],\n",
      "\n",
      "       [[1329599.86317581,  575036.55854099,  786958.94715185],\n",
      "        [1329570.22093034,  575131.74186297,  786951.1067117 ]],\n",
      "\n",
      "       [[1329570.22093034,  575131.74186297,  786951.1067117 ],\n",
      "        [1329542.31211298,  575227.35011969,  786942.26311303]],\n",
      "\n",
      "       [[1329542.31211298,  575227.35011969,  786942.26311303],\n",
      "        [1329515.20966893,  575323.15605178,  786932.95285511]],\n",
      "\n",
      "       [[1329515.20966893,  575323.15605178,  786932.95285511],\n",
      "        [1329488.11458603,  575418.96356051,  786923.6388243 ]],\n",
      "\n",
      "       [[1329488.11458603,  575418.96356051,  786923.6388243 ],\n",
      "        [1329463.7793506 ,  575515.36218218,  786912.91026166]],\n",
      "\n",
      "       [[1329463.7793506 ,  575515.36218218,  786912.91026166],\n",
      "        [1329439.44411518,  575611.76080385,  786902.18169903]],\n",
      "\n",
      "       [[1329439.44411518,  575611.76080385,  786902.18169903],\n",
      "        [1329416.68381599,  575708.48910218,  786891.04356238]]])])\n"
     ]
    },
    {
     "name": "stdout",
     "output_type": "stream",
     "text": [
      "base_final_widths = [211.186789   209.65124278 219.07889111]\n",
      "overall_ais_width = 195.91688053156355\n",
      "ais_width = 213.30564096170565\n",
      "Adding the following branches as true axons: [  0.   1.   2.   3.   4.   5.   6.   7.   8.   9.  10.  11.  12.  13.\n",
      "  14.  15.  16.  17.  18.  19.  20.  21.  22.  23.  24.  25.  26.  27.\n",
      "  28.  29.  30.  31.  32.  33.  34.  35.  36.  37.  38.  39.  40.  41.\n",
      "  42.  43.  44.  45.  46.  47.  48.  49.  50.  51.  52.  53.  54.  55.\n",
      "  56.  57.  58.  59.  60.  61.  62.  63.  64.  65.  66.  67.  68.  69.\n",
      "  70.  71.  72.  73.  74.  75.  76.  77.  78.  79.  80.  81.  82.  83.\n",
      "  84.  85.  86.  87.  88.  89.  90.  91.  92.  93.  94.  95.  96.  97.\n",
      "  98.  99. 100. 101. 102. 103. 104. 105. 106. 107. 108. 109. 110. 111.\n",
      " 112. 113. 114. 115. 116.]\n",
      "curr_soma_angle = 165.27\n",
      "max_axon_angle = 168.564988368274\n",
      "Changing to a better axon candidate\n",
      "\n",
      "\n",
      " --- Working on limb 2, candidate # 0\n",
      "0 out of 5 branches are axons\n",
      "Axon percentage = 0.0\n",
      "Not adding candidate no axon branches detected \n",
      "\n",
      "\n",
      " --- Working on limb 2, candidate # 1\n",
      "1 out of 9 branches are axons\n",
      "Axon percentage = 0.1111111111111111\n",
      "curr_axon_angle_threshold = 120\n",
      "candidate_nodes = [ 2  3  6  8  9 10 11 12 13 14]\n",
      "non_axon_branches_on_subgraph = [ 2  3  6  8  9 10 11 12 14]\n",
      "endnodes_to_test = []\n",
      "candidate_angles,restr_skels = (None, None)\n",
      "Not adding candidate because no angles (None) passed the threhold 120 \n",
      "\n",
      "\n",
      " --- Working on limb 3, candidate # 0\n",
      "1 out of 7 branches are axons\n",
      "Axon percentage = 0.14285714285714285\n",
      "curr_axon_angle_threshold = 120\n",
      "candidate_nodes = [ 0  2  5  6  7  8  9 12]\n",
      "non_axon_branches_on_subgraph = [ 0  2  6  7  8  9 12]\n",
      "endnodes_to_test = []\n",
      "candidate_angles,restr_skels = (None, None)\n",
      "Not adding candidate because no angles (None) passed the threhold 120 \n",
      "\n",
      "\n",
      " --- Working on limb 3, candidate # 1\n",
      "3 out of 7 branches are axons\n",
      "Axon percentage = 0.42857142857142855\n",
      "curr_axon_angle_threshold = 120\n",
      "candidate_nodes = [ 1  3  4 10 11 12 13 14]\n",
      "non_axon_branches_on_subgraph = [ 1  4 10 11 12]\n",
      "endnodes_to_test = []\n",
      "candidate_angles,restr_skels = (None, None)\n",
      "Not adding candidate because no angles (None) passed the threhold 120 \n",
      "\n",
      "\n",
      " --- Working on limb 4, candidate # 0\n",
      "1 out of 3 branches are axons\n",
      "Axon percentage = 0.3333333333333333\n",
      "curr_axon_angle_threshold = 120\n",
      "candidate_nodes = [0 1 5 6]\n",
      "non_axon_branches_on_subgraph = [0 1 5]\n",
      "endnodes_to_test = []\n",
      "candidate_angles,restr_skels = (None, None)\n",
      "Not adding candidate because no angles (None) passed the threhold 120 \n",
      "\n",
      "\n",
      " --- Working on limb 4, candidate # 1\n",
      "0 out of 5 branches are axons\n",
      "Axon percentage = 0.0\n",
      "Not adding candidate no axon branches detected \n",
      "\n",
      "\n",
      " --- Working on limb 5, candidate # 0\n",
      "0 out of 1 branches are axons\n",
      "Axon percentage = 0.0\n",
      "Not adding candidate no axon branches detected \n",
      "\n",
      "\n",
      " --- Working on limb 5, candidate # 1\n",
      "2 out of 5 branches are axons\n",
      "Axon percentage = 0.4\n",
      "curr_axon_angle_threshold = 120\n",
      "candidate_nodes = [0 2 3 4 5 6]\n",
      "non_axon_branches_on_subgraph = [0 2 4 5]\n",
      "endnodes_to_test = []\n",
      "candidate_angles,restr_skels = (None, None)\n",
      "Not adding candidate because no angles (None) passed the threhold 120 \n",
      "\n",
      "\n",
      " --- Working on limb 6, candidate # 0\n",
      "0 out of 1 branches are axons\n",
      "Axon percentage = 0.0\n",
      "Not adding candidate no axon branches detected \n",
      "\n",
      "\n",
      " --- Working on limb 6, candidate # 1\n",
      "0 out of 1 branches are axons\n",
      "Axon percentage = 0.0\n",
      "Not adding candidate no axon branches detected \n",
      "\n",
      "\n",
      " --- Working on limb 7, candidate # 0\n",
      "0 out of 3 branches are axons\n",
      "Axon percentage = 0.0\n",
      "Not adding candidate no axon branches detected \n",
      "Using the best axon approach\n",
      "Using True\n",
      "Limb L1: Axon branches before dendritic path filter = [  0.   1.   2.   3.   4.   5.   6.   7.   8.   9.  10.  11.  12.  13.\n",
      "  14.  15.  16.  17.  18.  19.  20.  21.  22.  23.  24.  25.  26.  27.\n",
      "  28.  29.  30.  31.  32.  33.  34.  35.  36.  37.  38.  39.  40.  41.\n",
      "  42.  43.  44.  45.  46.  47.  48.  49.  50.  51.  52.  53.  54.  55.\n",
      "  56.  57.  58.  59.  60.  61.  62.  63.  64.  65.  66.  67.  68.  69.\n",
      "  70.  71.  72.  73.  74.  75.  76.  77.  78.  79.  80.  81.  82.  83.\n",
      "  84.  85.  86.  87.  88.  89.  90.  91.  92.  93.  94.  95.  96.  97.\n",
      "  98.  99. 100. 101. 102. 103. 104. 105. 106. 107. 108. 109. 110. 111.\n",
      " 112. 113. 114. 115. 116.]\n",
      "Limb L1: Axon branches AFTER dendritic path filter = [  0.   1.   2.   3.   4.   5.   6.   7.   8.   9.  10.  11.  12.  13.\n",
      "  14.  15.  16.  17.  18.  19.  20.  21.  22.  23.  24.  25.  26.  27.\n",
      "  28.  29.  30.  31.  32.  33.  34.  35.  36.  37.  38.  39.  40.  41.\n",
      "  42.  43.  44.  45.  46.  47.  48.  49.  50.  51.  52.  53.  54.  55.\n",
      "  56.  57.  58.  59.  60.  61.  62.  63.  64.  65.  66.  67.  68.  69.\n",
      "  70.  71.  72.  73.  74.  75.  76.  77.  78.  79.  80.  81.  82.  83.\n",
      "  84.  85.  86.  87.  88.  89.  90.  91.  92.  93.  94.  95.  96.  97.\n",
      "  98.  99. 100. 101. 102. 103. 104. 105. 106. 107. 108. 109. 110. 111.\n",
      " 112. 113. 114. 115. 116.]\n",
      "\n",
      "\n",
      "Part 4: final_true_axons = {'L1': array([  0.,   1.,   2.,   3.,   4.,   5.,   6.,   7.,   8.,   9.,  10.,\n",
      "        11.,  12.,  13.,  14.,  15.,  16.,  17.,  18.,  19.,  20.,  21.,\n",
      "        22.,  23.,  24.,  25.,  26.,  27.,  28.,  29.,  30.,  31.,  32.,\n",
      "        33.,  34.,  35.,  36.,  37.,  38.,  39.,  40.,  41.,  42.,  43.,\n",
      "        44.,  45.,  46.,  47.,  48.,  49.,  50.,  51.,  52.,  53.,  54.,\n",
      "        55.,  56.,  57.,  58.,  59.,  60.,  61.,  62.,  63.,  64.,  65.,\n",
      "        66.,  67.,  68.,  69.,  70.,  71.,  72.,  73.,  74.,  75.,  76.,\n",
      "        77.,  78.,  79.,  80.,  81.,  82.,  83.,  84.,  85.,  86.,  87.,\n",
      "        88.,  89.,  90.,  91.,  92.,  93.,  94.,  95.,  96.,  97.,  98.,\n",
      "        99., 100., 101., 102., 103., 104., 105., 106., 107., 108., 109.,\n",
      "       110., 111., 112., 113., 114., 115., 116.])}\n",
      "\n",
      "--- Working on filter 0:\n",
      "function = dendrite_on_axon_merges\n",
      "function __name__ = filter_away_dendrite_on_axon_merges\n",
      "function arguments = {'use_pre_existing_axon_labels': True}\n",
      "\n",
      "\n",
      "\n",
      "\n",
      "\n",
      " ---- Total time for applying filter: 1.7996690273284912 -----\n",
      "Starting axon branch was the starting node so using border vertices and NOT computing upstream branch\n",
      "upstream_node_to_axon_starting_branch = None\n",
      "root_curr = [1330917.  555807.  786429.]\n",
      "Time for preparing soma vertices and root: 0.00044536590576171875\n",
      "invalidation_d = 2000\n",
      "cc_vertex_thresh = 10\n"
     ]
    },
    {
     "name": "stderr",
     "output_type": "stream",
     "text": [
      "\r",
      "  0%|          | 0/1 [00:00<?, ?it/s]"
     ]
    },
    {
     "data": {
      "application/vnd.jupyter.widget-view+json": {
       "model_id": "a3c6b199ef2c4161b379241859e25633",
       "version_major": 2,
       "version_minor": 0
      },
      "text/plain": [
       "  0%|          | 0/260689 [00:00<?, ?it/s]"
      ]
     },
     "metadata": {},
     "output_type": "display_data"
    },
    {
     "name": "stderr",
     "output_type": "stream",
     "text": [
      "100%|██████████| 1/1 [00:36<00:00, 36.21s/it]\n"
     ]
    },
    {
     "name": "stdout",
     "output_type": "stream",
     "text": [
      "meshparty_segment_size = 100\n",
      "Time for 1st pass MP skeletonization: 40.38680601119995\n",
      "branches_touching_root = [24]\n",
      "combining close nodes\n",
      "combine_threshold = 1300\n",
      "length of Graph = 61741\n",
      "After combining close endpoints max(kept_branches_idx) = 321, len(kept_branches_idx) = 300\n",
      "empty_indices % = 0.0\n",
      " conflict_indices % = 0.011852159900192338\n"
     ]
    },
    {
     "data": {
      "application/vnd.jupyter.widget-view+json": {
       "model_id": "f7c1539e3c4a4eceb0a23f18d4fbbc97",
       "version_major": 2,
       "version_minor": 0
      },
      "text/plain": [
       "  0%|          | 0/137 [00:00<?, ?it/s]"
      ]
     },
     "metadata": {},
     "output_type": "display_data"
    },
    {
     "name": "stdout",
     "output_type": "stream",
     "text": [
      "AFTER face_lookup_resolved_test\n"
     ]
    },
    {
     "data": {
      "application/vnd.jupyter.widget-view+json": {
       "model_id": "759d1af67948461299565fe84b7e8425",
       "version_major": 2,
       "version_minor": 0
      },
      "text/plain": [
       "  0%|          | 0/300 [00:00<?, ?it/s]"
      ]
     },
     "metadata": {},
     "output_type": "display_data"
    },
    {
     "name": "stdout",
     "output_type": "stream",
     "text": [
      "Decomposing first pass: 96.85516881942749\n",
      "Only Using MeshParty Skeletonization and Mesh Correspondence\n",
      "Another print\n",
      "Divinding into MP and MAP pieces: 0.0001900196075439453\n",
      "Total time for MAP sublimb processing 4.76837158203125e-06\n",
      "---- Working on MP Decomposition #0 ----\n",
      "Using Quicker soma_to_piece_touching_vertices because no MAP and only one sublimb_mesh piece \n",
      "MP filtering soma verts: 0.00028514862060546875\n",
      "Fixing Possible Soma Extension Branch for Sublimb 0\n",
      "Total time for mesh KDTree = 0.01051020622253418\n",
      "sbv[0].reshape(-1,3) = [[1330917.  555807.  786429.]]\n",
      "closest_sk_pt_coord BEFORE = [1331565.2069994   556148.05070718  786870.09578686]\n",
      "current_skeleton.shape = (58, 2, 3)\n",
      "node_for_stitch = 0: [1331565.2069994   556148.05070718  786870.09578686]\n",
      "node_for_stitch AFTER = 0: [1331565.2069994   556148.05070718  786870.09578686]\n",
      "possible_node_loc = [ 0 34]\n",
      "possible_node_loc AFTER = [ 0 34]\n",
      "curr_shortest_path = [0]\n",
      "Current stitch point was a branch or endpoint\n",
      "change_status for create soma extending pieces = False\n",
      "closest_sk_pt_coord AFTER = [1331565.2069994   556148.05070718  786870.09578686]\n",
      "skipping soma 0 because closest skeleton node was already end node\n",
      "endpoints_must_keep = {0: array([[1331565.2069994 ,  556148.05070718,  786870.09578686]])}\n",
      "match_sk_branches = [23]\n",
      "The new branch info was none so skipping \n",
      "\n",
      "No soma extending branch was added for this sublimb even though it had a soma border (means they already existed)\n",
      "MP (because soma touching verts) soma extension add: 16.156662702560425\n",
      "There were not both MAP and MP pieces so skipping the stitch resolving phase\n",
      "Time for decomp of Limb = 157.6655147075653\n",
      "Number of matching vertices = 31\n",
      "Only one endpoint after filtering away the endpoints that are not on the skeleton\n",
      "Using Distance measure skeletal_distance\n",
      "endpoints_must_keep = [[1331565.2069994   556148.05070718  786870.09578686]]\n",
      "Number of end_nodes BEFORE filtering = 165\n",
      "all_single_nodes_to_eliminate = [137]\n"
     ]
    },
    {
     "data": {
      "application/vnd.jupyter.widget-view+json": {
       "model_id": "ed6a4b55134a4cddbad38676759af322",
       "version_major": 2,
       "version_minor": 0
      },
      "text/plain": [
       "  0%|          | 0/21 [00:00<?, ?it/s]"
      ]
     },
     "metadata": {},
     "output_type": "display_data"
    },
    {
     "name": "stdout",
     "output_type": "stream",
     "text": [
      "Removed 21 skeletal branches\n"
     ]
    },
    {
     "data": {
      "application/vnd.jupyter.widget-view+json": {
       "model_id": "cee9e47147dd46869df2f88a95456ebd",
       "version_major": 2,
       "version_minor": 0
      },
      "text/plain": [
       "  0%|          | 0/300 [00:00<?, ?it/s]"
      ]
     },
     "metadata": {},
     "output_type": "display_data"
    },
    {
     "name": "stdout",
     "output_type": "stream",
     "text": [
      "519581 519582\n",
      "For marked faces: None\n",
      "empty_indices % = 0.0\n",
      " conflict_indices % = 0.0\n"
     ]
    },
    {
     "data": {
      "application/vnd.jupyter.widget-view+json": {
       "model_id": "eb521930ab8142b08de8f6bc0345fb26",
       "version_major": 2,
       "version_minor": 0
      },
      "text/plain": [
       "0it [00:00, ?it/s]"
      ]
     },
     "metadata": {},
     "output_type": "display_data"
    },
    {
     "name": "stdout",
     "output_type": "stream",
     "text": [
      "AFTER face_lookup_resolved_test\n"
     ]
    },
    {
     "data": {
      "application/vnd.jupyter.widget-view+json": {
       "model_id": "b87242bcbf534fd2abfb03a25c85816e",
       "version_major": 2,
       "version_minor": 0
      },
      "text/plain": [
       "  0%|          | 0/258 [00:00<?, ?it/s]"
      ]
     },
     "metadata": {},
     "output_type": "display_data"
    },
    {
     "name": "stdout",
     "output_type": "stream",
     "text": [
      "Limb Correspondence before stitching = 258\n",
      "Limb Correspondence AFTER stitching = 258\n",
      "Upstream node was None so don't have to adjust\n",
      "concept_network_dict = {0: [<networkx_utils.GraphOrderedEdges object at 0x7f028c3873c8>]}\n",
      "Assigning the old width calculation because no valid new widths\n",
      "Assigning the old width calculation because no valid new widths\n",
      "Assigning the old width calculation because no valid new widths\n",
      "Assigning the old width calculation because no valid new widths\n",
      "\n",
      "\n",
      "----Working on seperate_graph 0----\n",
      "\n",
      "\n",
      "---------Working on soma_idx = 0, soma_group_idx 0, endpt = [1331565.2069994   556148.05070718  786870.09578686]---------\n",
      "Starting_edge inside branches_to_conept = [[1331565.2069994   556148.05070718  786870.09578686]\n",
      " [1332053.99387603  561807.60538939  786825.7359915 ]]\n",
      "At the start, starting_node (in terms of the skeleton, that shouldn't match the starting edge) = [222]\n",
      "printing out current edge:\n",
      "[[1331565.2069994   556148.05070718  786870.09578686]\n",
      " [1332053.99387603  561807.60538939  786825.7359915 ]]\n",
      "edge_endpoints_to_process was empty so exiting loop after 258 iterations\n",
      "starting_node in concept map (that should match the starting edge) = 231\n",
      "Total time for branches to concept conversion = 7.7889084815979\n",
      "\n",
      "Done generating concept network \n",
      "\n",
      "\n"
     ]
    },
    {
     "data": {
      "application/vnd.jupyter.widget-view+json": {
       "model_id": "29bc41f014734efd94c0cf9383868b2b",
       "version_major": 2,
       "version_minor": 0
      },
      "text/plain": [
       "  0%|          | 0/226 [00:00<?, ?it/s]"
      ]
     },
     "metadata": {},
     "output_type": "display_data"
    },
    {
     "data": {
      "application/vnd.jupyter.widget-view+json": {
       "model_id": "83622c2ca2b34100a3492acee000ac22",
       "version_major": 2,
       "version_minor": 0
      },
      "text/plain": [
       "  0%|          | 0/10 [00:00<?, ?it/s]"
      ]
     },
     "metadata": {},
     "output_type": "display_data"
    },
    {
     "data": {
      "application/vnd.jupyter.widget-view+json": {
       "model_id": "8ceaa856324343f29ba85f17220de0a6",
       "version_major": 2,
       "version_minor": 0
      },
      "text/plain": [
       "  0%|          | 0/20 [00:00<?, ?it/s]"
      ]
     },
     "metadata": {},
     "output_type": "display_data"
    },
    {
     "data": {
      "application/vnd.jupyter.widget-view+json": {
       "model_id": "5dfb2389951f4da2b904e58fc900d4f7",
       "version_major": 2,
       "version_minor": 0
      },
      "text/plain": [
       "  0%|          | 0/34 [00:00<?, ?it/s]"
      ]
     },
     "metadata": {},
     "output_type": "display_data"
    },
    {
     "data": {
      "application/vnd.jupyter.widget-view+json": {
       "model_id": "7057ce2a6f1f479f8b9d46a2ff7f03a1",
       "version_major": 2,
       "version_minor": 0
      },
      "text/plain": [
       "  0%|          | 0/33 [00:00<?, ?it/s]"
      ]
     },
     "metadata": {},
     "output_type": "display_data"
    },
    {
     "data": {
      "application/vnd.jupyter.widget-view+json": {
       "model_id": "2a4e9a9369da4bbd82ed5fbda0f891ff",
       "version_major": 2,
       "version_minor": 0
      },
      "text/plain": [
       "  0%|          | 0/30 [00:00<?, ?it/s]"
      ]
     },
     "metadata": {},
     "output_type": "display_data"
    },
    {
     "data": {
      "application/vnd.jupyter.widget-view+json": {
       "model_id": "9e0f6ca1c00646a1b92baa28c975506e",
       "version_major": 2,
       "version_minor": 0
      },
      "text/plain": [
       "  0%|          | 0/5 [00:00<?, ?it/s]"
      ]
     },
     "metadata": {},
     "output_type": "display_data"
    },
    {
     "data": {
      "application/vnd.jupyter.widget-view+json": {
       "model_id": "95e563c273734705811909bc98cb863a",
       "version_major": 2,
       "version_minor": 0
      },
      "text/plain": [
       "  0%|          | 0/16 [00:00<?, ?it/s]"
      ]
     },
     "metadata": {},
     "output_type": "display_data"
    },
    {
     "data": {
      "application/vnd.jupyter.widget-view+json": {
       "model_id": "d48c242583e14a34b84be20ba9978dfe",
       "version_major": 2,
       "version_minor": 0
      },
      "text/plain": [
       "  0%|          | 0/5 [00:00<?, ?it/s]"
      ]
     },
     "metadata": {},
     "output_type": "display_data"
    },
    {
     "data": {
      "application/vnd.jupyter.widget-view+json": {
       "model_id": "deff9db0995947a6b874f6f8ae078785",
       "version_major": 2,
       "version_minor": 0
      },
      "text/plain": [
       "  0%|          | 0/47 [00:00<?, ?it/s]"
      ]
     },
     "metadata": {},
     "output_type": "display_data"
    },
    {
     "data": {
      "application/vnd.jupyter.widget-view+json": {
       "model_id": "f994d6c5e48c48cfb541799e6d4a51ec",
       "version_major": 2,
       "version_minor": 0
      },
      "text/plain": [
       "  0%|          | 0/10 [00:00<?, ?it/s]"
      ]
     },
     "metadata": {},
     "output_type": "display_data"
    },
    {
     "data": {
      "application/vnd.jupyter.widget-view+json": {
       "model_id": "999505691a57462498dc2ddb5efcfc70",
       "version_major": 2,
       "version_minor": 0
      },
      "text/plain": [
       "  0%|          | 0/7 [00:00<?, ?it/s]"
      ]
     },
     "metadata": {},
     "output_type": "display_data"
    },
    {
     "data": {
      "application/vnd.jupyter.widget-view+json": {
       "model_id": "0bf2fe1c53c942b3b342f44dca1c68a8",
       "version_major": 2,
       "version_minor": 0
      },
      "text/plain": [
       "  0%|          | 0/17 [00:00<?, ?it/s]"
      ]
     },
     "metadata": {},
     "output_type": "display_data"
    },
    {
     "data": {
      "application/vnd.jupyter.widget-view+json": {
       "model_id": "e567f370dbed4b1e86cb26fdd22895e6",
       "version_major": 2,
       "version_minor": 0
      },
      "text/plain": [
       "  0%|          | 0/29 [00:00<?, ?it/s]"
      ]
     },
     "metadata": {},
     "output_type": "display_data"
    },
    {
     "data": {
      "application/vnd.jupyter.widget-view+json": {
       "model_id": "fb12c97791424e6fa675006a7d51ae37",
       "version_major": 2,
       "version_minor": 0
      },
      "text/plain": [
       "  0%|          | 0/2 [00:00<?, ?it/s]"
      ]
     },
     "metadata": {},
     "output_type": "display_data"
    },
    {
     "data": {
      "application/vnd.jupyter.widget-view+json": {
       "model_id": "779eb93bf0e944e9bf17c8bea769ad28",
       "version_major": 2,
       "version_minor": 0
      },
      "text/plain": [
       "  0%|          | 0/25 [00:00<?, ?it/s]"
      ]
     },
     "metadata": {},
     "output_type": "display_data"
    },
    {
     "data": {
      "application/vnd.jupyter.widget-view+json": {
       "model_id": "542f601a95f341ae8a88f565b5758210",
       "version_major": 2,
       "version_minor": 0
      },
      "text/plain": [
       "  0%|          | 0/4 [00:00<?, ?it/s]"
      ]
     },
     "metadata": {},
     "output_type": "display_data"
    },
    {
     "data": {
      "application/vnd.jupyter.widget-view+json": {
       "model_id": "8f6caa1b07e645a7b9b83f29a38f989c",
       "version_major": 2,
       "version_minor": 0
      },
      "text/plain": [
       "  0%|          | 0/7 [00:00<?, ?it/s]"
      ]
     },
     "metadata": {},
     "output_type": "display_data"
    },
    {
     "data": {
      "application/vnd.jupyter.widget-view+json": {
       "model_id": "ad4e6f8d02644a0990bce7eba7da65c4",
       "version_major": 2,
       "version_minor": 0
      },
      "text/plain": [
       "  0%|          | 0/32 [00:00<?, ?it/s]"
      ]
     },
     "metadata": {},
     "output_type": "display_data"
    },
    {
     "data": {
      "application/vnd.jupyter.widget-view+json": {
       "model_id": "2bb2ac0728404816a8ab602da33a236b",
       "version_major": 2,
       "version_minor": 0
      },
      "text/plain": [
       "  0%|          | 0/15 [00:00<?, ?it/s]"
      ]
     },
     "metadata": {},
     "output_type": "display_data"
    },
    {
     "data": {
      "application/vnd.jupyter.widget-view+json": {
       "model_id": "2ef067756a484a5e9ac79102dd8abfdf",
       "version_major": 2,
       "version_minor": 0
      },
      "text/plain": [
       "  0%|          | 0/5 [00:00<?, ?it/s]"
      ]
     },
     "metadata": {},
     "output_type": "display_data"
    },
    {
     "data": {
      "application/vnd.jupyter.widget-view+json": {
       "model_id": "d260b6fb425c4af395eb2a354cfec7f1",
       "version_major": 2,
       "version_minor": 0
      },
      "text/plain": [
       "  0%|          | 0/53 [00:00<?, ?it/s]"
      ]
     },
     "metadata": {},
     "output_type": "display_data"
    },
    {
     "data": {
      "application/vnd.jupyter.widget-view+json": {
       "model_id": "3cec4bc349ab47a7ab50a1f8200fec1b",
       "version_major": 2,
       "version_minor": 0
      },
      "text/plain": [
       "  0%|          | 0/21 [00:00<?, ?it/s]"
      ]
     },
     "metadata": {},
     "output_type": "display_data"
    },
    {
     "data": {
      "application/vnd.jupyter.widget-view+json": {
       "model_id": "4502d67544ee4a24bdd9c24fe084aa3f",
       "version_major": 2,
       "version_minor": 0
      },
      "text/plain": [
       "  0%|          | 0/25 [00:00<?, ?it/s]"
      ]
     },
     "metadata": {},
     "output_type": "display_data"
    },
    {
     "data": {
      "application/vnd.jupyter.widget-view+json": {
       "model_id": "b316d5ef64f9469492e1eaaf6432a8cc",
       "version_major": 2,
       "version_minor": 0
      },
      "text/plain": [
       "  0%|          | 0/26 [00:00<?, ?it/s]"
      ]
     },
     "metadata": {},
     "output_type": "display_data"
    },
    {
     "data": {
      "application/vnd.jupyter.widget-view+json": {
       "model_id": "1d5b2d2da6a148f989774f40f7d8e7f1",
       "version_major": 2,
       "version_minor": 0
      },
      "text/plain": [
       "  0%|          | 0/14 [00:00<?, ?it/s]"
      ]
     },
     "metadata": {},
     "output_type": "display_data"
    },
    {
     "data": {
      "application/vnd.jupyter.widget-view+json": {
       "model_id": "c5efcbda119c46e49a5c0c38bc4c7b38",
       "version_major": 2,
       "version_minor": 0
      },
      "text/plain": [
       "  0%|          | 0/7 [00:00<?, ?it/s]"
      ]
     },
     "metadata": {},
     "output_type": "display_data"
    },
    {
     "data": {
      "application/vnd.jupyter.widget-view+json": {
       "model_id": "20e883294141471f93f95eef61aab9cf",
       "version_major": 2,
       "version_minor": 0
      },
      "text/plain": [
       "  0%|          | 0/20 [00:00<?, ?it/s]"
      ]
     },
     "metadata": {},
     "output_type": "display_data"
    },
    {
     "data": {
      "application/vnd.jupyter.widget-view+json": {
       "model_id": "15c42248e5b14d37aa6535f083ad169d",
       "version_major": 2,
       "version_minor": 0
      },
      "text/plain": [
       "  0%|          | 0/15 [00:00<?, ?it/s]"
      ]
     },
     "metadata": {},
     "output_type": "display_data"
    },
    {
     "data": {
      "application/vnd.jupyter.widget-view+json": {
       "model_id": "5cf943202faa484ba1c63008beab114f",
       "version_major": 2,
       "version_minor": 0
      },
      "text/plain": [
       "  0%|          | 0/37 [00:00<?, ?it/s]"
      ]
     },
     "metadata": {},
     "output_type": "display_data"
    },
    {
     "data": {
      "application/vnd.jupyter.widget-view+json": {
       "model_id": "08c63b81f3b049ffae42a2339a6af6cb",
       "version_major": 2,
       "version_minor": 0
      },
      "text/plain": [
       "  0%|          | 0/6 [00:00<?, ?it/s]"
      ]
     },
     "metadata": {},
     "output_type": "display_data"
    },
    {
     "data": {
      "application/vnd.jupyter.widget-view+json": {
       "model_id": "331cdaee0d954debac52808fee0b3141",
       "version_major": 2,
       "version_minor": 0
      },
      "text/plain": [
       "  0%|          | 0/26 [00:00<?, ?it/s]"
      ]
     },
     "metadata": {},
     "output_type": "display_data"
    },
    {
     "data": {
      "application/vnd.jupyter.widget-view+json": {
       "model_id": "3eaa60d338954d99a6cdc506f2990fee",
       "version_major": 2,
       "version_minor": 0
      },
      "text/plain": [
       "  0%|          | 0/71 [00:00<?, ?it/s]"
      ]
     },
     "metadata": {},
     "output_type": "display_data"
    },
    {
     "data": {
      "application/vnd.jupyter.widget-view+json": {
       "model_id": "39fe0110bce041989deb57aff7f3cfee",
       "version_major": 2,
       "version_minor": 0
      },
      "text/plain": [
       "  0%|          | 0/15 [00:00<?, ?it/s]"
      ]
     },
     "metadata": {},
     "output_type": "display_data"
    },
    {
     "data": {
      "application/vnd.jupyter.widget-view+json": {
       "model_id": "a882d06d491846a4884ddd21d1ec52c0",
       "version_major": 2,
       "version_minor": 0
      },
      "text/plain": [
       "  0%|          | 0/26 [00:00<?, ?it/s]"
      ]
     },
     "metadata": {},
     "output_type": "display_data"
    },
    {
     "data": {
      "application/vnd.jupyter.widget-view+json": {
       "model_id": "1eb4c45604274a00a88fb8063442f76d",
       "version_major": 2,
       "version_minor": 0
      },
      "text/plain": [
       "  0%|          | 0/14 [00:00<?, ?it/s]"
      ]
     },
     "metadata": {},
     "output_type": "display_data"
    },
    {
     "data": {
      "application/vnd.jupyter.widget-view+json": {
       "model_id": "6bb29066523f4790abf5b0fd7edd8c5c",
       "version_major": 2,
       "version_minor": 0
      },
      "text/plain": [
       "  0%|          | 0/5 [00:00<?, ?it/s]"
      ]
     },
     "metadata": {},
     "output_type": "display_data"
    },
    {
     "data": {
      "application/vnd.jupyter.widget-view+json": {
       "model_id": "c6fd45f81b1240ca800c0ac309782f31",
       "version_major": 2,
       "version_minor": 0
      },
      "text/plain": [
       "  0%|          | 0/14 [00:00<?, ?it/s]"
      ]
     },
     "metadata": {},
     "output_type": "display_data"
    },
    {
     "data": {
      "application/vnd.jupyter.widget-view+json": {
       "model_id": "611c900be831478eb5719a9324ec7c6e",
       "version_major": 2,
       "version_minor": 0
      },
      "text/plain": [
       "  0%|          | 0/35 [00:00<?, ?it/s]"
      ]
     },
     "metadata": {},
     "output_type": "display_data"
    },
    {
     "data": {
      "application/vnd.jupyter.widget-view+json": {
       "model_id": "6f75b8ee2beb43a79baf52b9328a560c",
       "version_major": 2,
       "version_minor": 0
      },
      "text/plain": [
       "  0%|          | 0/29 [00:00<?, ?it/s]"
      ]
     },
     "metadata": {},
     "output_type": "display_data"
    },
    {
     "data": {
      "application/vnd.jupyter.widget-view+json": {
       "model_id": "b2d1dc94e6e5443482bc975eb570db5b",
       "version_major": 2,
       "version_minor": 0
      },
      "text/plain": [
       "  0%|          | 0/18 [00:00<?, ?it/s]"
      ]
     },
     "metadata": {},
     "output_type": "display_data"
    },
    {
     "data": {
      "application/vnd.jupyter.widget-view+json": {
       "model_id": "eed862e7de374fba872cf49e2ccea0af",
       "version_major": 2,
       "version_minor": 0
      },
      "text/plain": [
       "  0%|          | 0/19 [00:00<?, ?it/s]"
      ]
     },
     "metadata": {},
     "output_type": "display_data"
    },
    {
     "data": {
      "application/vnd.jupyter.widget-view+json": {
       "model_id": "faeaead8b038494d938b2a618d639266",
       "version_major": 2,
       "version_minor": 0
      },
      "text/plain": [
       "  0%|          | 0/16 [00:00<?, ?it/s]"
      ]
     },
     "metadata": {},
     "output_type": "display_data"
    },
    {
     "data": {
      "application/vnd.jupyter.widget-view+json": {
       "model_id": "90d8e4a45c8e4a35a3f652bf45aa9ced",
       "version_major": 2,
       "version_minor": 0
      },
      "text/plain": [
       "  0%|          | 0/33 [00:00<?, ?it/s]"
      ]
     },
     "metadata": {},
     "output_type": "display_data"
    },
    {
     "data": {
      "application/vnd.jupyter.widget-view+json": {
       "model_id": "fdeb2953a19c44ab99ce5a2e043d38de",
       "version_major": 2,
       "version_minor": 0
      },
      "text/plain": [
       "  0%|          | 0/11 [00:00<?, ?it/s]"
      ]
     },
     "metadata": {},
     "output_type": "display_data"
    },
    {
     "data": {
      "application/vnd.jupyter.widget-view+json": {
       "model_id": "3dbe8ca3093647d2943a98ae6ba94457",
       "version_major": 2,
       "version_minor": 0
      },
      "text/plain": [
       "  0%|          | 0/41 [00:00<?, ?it/s]"
      ]
     },
     "metadata": {},
     "output_type": "display_data"
    },
    {
     "data": {
      "application/vnd.jupyter.widget-view+json": {
       "model_id": "55b2b11fb8184c2883fb7f5774dc27fe",
       "version_major": 2,
       "version_minor": 0
      },
      "text/plain": [
       "  0%|          | 0/56 [00:00<?, ?it/s]"
      ]
     },
     "metadata": {},
     "output_type": "display_data"
    },
    {
     "data": {
      "application/vnd.jupyter.widget-view+json": {
       "model_id": "3cf18ad22471411ea4c4873292136638",
       "version_major": 2,
       "version_minor": 0
      },
      "text/plain": [
       "  0%|          | 0/43 [00:00<?, ?it/s]"
      ]
     },
     "metadata": {},
     "output_type": "display_data"
    },
    {
     "data": {
      "application/vnd.jupyter.widget-view+json": {
       "model_id": "ab58a7723d5e4174a8e633ceecb78875",
       "version_major": 2,
       "version_minor": 0
      },
      "text/plain": [
       "  0%|          | 0/7 [00:00<?, ?it/s]"
      ]
     },
     "metadata": {},
     "output_type": "display_data"
    },
    {
     "data": {
      "application/vnd.jupyter.widget-view+json": {
       "model_id": "1e7ff964b3df4262b464034dc3e34280",
       "version_major": 2,
       "version_minor": 0
      },
      "text/plain": [
       "  0%|          | 0/97 [00:00<?, ?it/s]"
      ]
     },
     "metadata": {},
     "output_type": "display_data"
    },
    {
     "data": {
      "application/vnd.jupyter.widget-view+json": {
       "model_id": "3595e861c73e444b8afab110768ebde4",
       "version_major": 2,
       "version_minor": 0
      },
      "text/plain": [
       "  0%|          | 0/6 [00:00<?, ?it/s]"
      ]
     },
     "metadata": {},
     "output_type": "display_data"
    },
    {
     "data": {
      "application/vnd.jupyter.widget-view+json": {
       "model_id": "8d3a64b78aac45f28701a445883fa4da",
       "version_major": 2,
       "version_minor": 0
      },
      "text/plain": [
       "  0%|          | 0/36 [00:00<?, ?it/s]"
      ]
     },
     "metadata": {},
     "output_type": "display_data"
    },
    {
     "data": {
      "application/vnd.jupyter.widget-view+json": {
       "model_id": "d9a168d6e46a4cd5a76b3698912b9167",
       "version_major": 2,
       "version_minor": 0
      },
      "text/plain": [
       "  0%|          | 0/16 [00:00<?, ?it/s]"
      ]
     },
     "metadata": {},
     "output_type": "display_data"
    },
    {
     "data": {
      "application/vnd.jupyter.widget-view+json": {
       "model_id": "feced34afa0642a9b6f0d76ee4e57807",
       "version_major": 2,
       "version_minor": 0
      },
      "text/plain": [
       "  0%|          | 0/105 [00:00<?, ?it/s]"
      ]
     },
     "metadata": {},
     "output_type": "display_data"
    },
    {
     "data": {
      "application/vnd.jupyter.widget-view+json": {
       "model_id": "638601265155478db7461a2d9e1f85a9",
       "version_major": 2,
       "version_minor": 0
      },
      "text/plain": [
       "  0%|          | 0/13 [00:00<?, ?it/s]"
      ]
     },
     "metadata": {},
     "output_type": "display_data"
    },
    {
     "data": {
      "application/vnd.jupyter.widget-view+json": {
       "model_id": "cbfdd126d05441998da173cfe71feb88",
       "version_major": 2,
       "version_minor": 0
      },
      "text/plain": [
       "  0%|          | 0/9 [00:00<?, ?it/s]"
      ]
     },
     "metadata": {},
     "output_type": "display_data"
    },
    {
     "data": {
      "application/vnd.jupyter.widget-view+json": {
       "model_id": "28564f85870b4b96a7b6c145351343df",
       "version_major": 2,
       "version_minor": 0
      },
      "text/plain": [
       "  0%|          | 0/69 [00:00<?, ?it/s]"
      ]
     },
     "metadata": {},
     "output_type": "display_data"
    },
    {
     "data": {
      "application/vnd.jupyter.widget-view+json": {
       "model_id": "7511394ceb334ac0b858c3f9da83609e",
       "version_major": 2,
       "version_minor": 0
      },
      "text/plain": [
       "  0%|          | 0/14 [00:00<?, ?it/s]"
      ]
     },
     "metadata": {},
     "output_type": "display_data"
    },
    {
     "data": {
      "application/vnd.jupyter.widget-view+json": {
       "model_id": "00c01666a84d4264b93cc47318c654d7",
       "version_major": 2,
       "version_minor": 0
      },
      "text/plain": [
       "  0%|          | 0/6 [00:00<?, ?it/s]"
      ]
     },
     "metadata": {},
     "output_type": "display_data"
    },
    {
     "data": {
      "application/vnd.jupyter.widget-view+json": {
       "model_id": "34912b9f6d1b4fe9b218f538004324d4",
       "version_major": 2,
       "version_minor": 0
      },
      "text/plain": [
       "  0%|          | 0/11 [00:00<?, ?it/s]"
      ]
     },
     "metadata": {},
     "output_type": "display_data"
    },
    {
     "data": {
      "application/vnd.jupyter.widget-view+json": {
       "model_id": "20231ba8064e47f2a47b3b3401ebfc4f",
       "version_major": 2,
       "version_minor": 0
      },
      "text/plain": [
       "  0%|          | 0/6 [00:00<?, ?it/s]"
      ]
     },
     "metadata": {},
     "output_type": "display_data"
    },
    {
     "data": {
      "application/vnd.jupyter.widget-view+json": {
       "model_id": "a9a5202939364ff19ef76b45aa253b7d",
       "version_major": 2,
       "version_minor": 0
      },
      "text/plain": [
       "  0%|          | 0/35 [00:00<?, ?it/s]"
      ]
     },
     "metadata": {},
     "output_type": "display_data"
    },
    {
     "data": {
      "application/vnd.jupyter.widget-view+json": {
       "model_id": "1c0679005fc94f0482730b4848f50388",
       "version_major": 2,
       "version_minor": 0
      },
      "text/plain": [
       "  0%|          | 0/12 [00:00<?, ?it/s]"
      ]
     },
     "metadata": {},
     "output_type": "display_data"
    },
    {
     "data": {
      "application/vnd.jupyter.widget-view+json": {
       "model_id": "19e4445c5d0446f2b85a5be3725857b1",
       "version_major": 2,
       "version_minor": 0
      },
      "text/plain": [
       "  0%|          | 0/22 [00:00<?, ?it/s]"
      ]
     },
     "metadata": {},
     "output_type": "display_data"
    },
    {
     "data": {
      "application/vnd.jupyter.widget-view+json": {
       "model_id": "caa109b7cd1848448db17b991ccff19f",
       "version_major": 2,
       "version_minor": 0
      },
      "text/plain": [
       "  0%|          | 0/15 [00:00<?, ?it/s]"
      ]
     },
     "metadata": {},
     "output_type": "display_data"
    },
    {
     "data": {
      "application/vnd.jupyter.widget-view+json": {
       "model_id": "2efe7560ab3c4d0b909229bc8ea88373",
       "version_major": 2,
       "version_minor": 0
      },
      "text/plain": [
       "  0%|          | 0/41 [00:00<?, ?it/s]"
      ]
     },
     "metadata": {},
     "output_type": "display_data"
    },
    {
     "data": {
      "application/vnd.jupyter.widget-view+json": {
       "model_id": "a8935d0efdee4ebab52d4458e64b04a3",
       "version_major": 2,
       "version_minor": 0
      },
      "text/plain": [
       "  0%|          | 0/38 [00:00<?, ?it/s]"
      ]
     },
     "metadata": {},
     "output_type": "display_data"
    },
    {
     "data": {
      "application/vnd.jupyter.widget-view+json": {
       "model_id": "edb37378f55d497e85672d97b2367bcf",
       "version_major": 2,
       "version_minor": 0
      },
      "text/plain": [
       "  0%|          | 0/32 [00:00<?, ?it/s]"
      ]
     },
     "metadata": {},
     "output_type": "display_data"
    },
    {
     "data": {
      "application/vnd.jupyter.widget-view+json": {
       "model_id": "685be7592cdf4712a7c4742fc86bb352",
       "version_major": 2,
       "version_minor": 0
      },
      "text/plain": [
       "  0%|          | 0/5 [00:00<?, ?it/s]"
      ]
     },
     "metadata": {},
     "output_type": "display_data"
    },
    {
     "data": {
      "application/vnd.jupyter.widget-view+json": {
       "model_id": "6686878045994b8cb5801d5fa5d77b5b",
       "version_major": 2,
       "version_minor": 0
      },
      "text/plain": [
       "  0%|          | 0/11 [00:00<?, ?it/s]"
      ]
     },
     "metadata": {},
     "output_type": "display_data"
    },
    {
     "data": {
      "application/vnd.jupyter.widget-view+json": {
       "model_id": "7051741e235e4809ad7b152540dfa5cb",
       "version_major": 2,
       "version_minor": 0
      },
      "text/plain": [
       "  0%|          | 0/5 [00:00<?, ?it/s]"
      ]
     },
     "metadata": {},
     "output_type": "display_data"
    },
    {
     "data": {
      "application/vnd.jupyter.widget-view+json": {
       "model_id": "bca29f400bf049f5b31ee2b38fec6781",
       "version_major": 2,
       "version_minor": 0
      },
      "text/plain": [
       "  0%|          | 0/59 [00:00<?, ?it/s]"
      ]
     },
     "metadata": {},
     "output_type": "display_data"
    },
    {
     "data": {
      "application/vnd.jupyter.widget-view+json": {
       "model_id": "3d8406e70af94ed18309d7f09072e661",
       "version_major": 2,
       "version_minor": 0
      },
      "text/plain": [
       "  0%|          | 0/1 [00:00<?, ?it/s]"
      ]
     },
     "metadata": {},
     "output_type": "display_data"
    },
    {
     "data": {
      "application/vnd.jupyter.widget-view+json": {
       "model_id": "7f79d6d51d4e4081b8fb39bf41ee567b",
       "version_major": 2,
       "version_minor": 0
      },
      "text/plain": [
       "  0%|          | 0/6 [00:00<?, ?it/s]"
      ]
     },
     "metadata": {},
     "output_type": "display_data"
    },
    {
     "data": {
      "application/vnd.jupyter.widget-view+json": {
       "model_id": "4783306537574f3bbb453c6202cd4b6b",
       "version_major": 2,
       "version_minor": 0
      },
      "text/plain": [
       "  0%|          | 0/14 [00:00<?, ?it/s]"
      ]
     },
     "metadata": {},
     "output_type": "display_data"
    },
    {
     "data": {
      "application/vnd.jupyter.widget-view+json": {
       "model_id": "0ae4c2a2531c4a7fb7ea45715377bdfa",
       "version_major": 2,
       "version_minor": 0
      },
      "text/plain": [
       "  0%|          | 0/5 [00:00<?, ?it/s]"
      ]
     },
     "metadata": {},
     "output_type": "display_data"
    },
    {
     "data": {
      "application/vnd.jupyter.widget-view+json": {
       "model_id": "52e3dbe5b0da4daaa5c9f389b58d5cb4",
       "version_major": 2,
       "version_minor": 0
      },
      "text/plain": [
       "  0%|          | 0/33 [00:00<?, ?it/s]"
      ]
     },
     "metadata": {},
     "output_type": "display_data"
    },
    {
     "data": {
      "application/vnd.jupyter.widget-view+json": {
       "model_id": "5d4b98fd41ce45baaa8043b275a4cd51",
       "version_major": 2,
       "version_minor": 0
      },
      "text/plain": [
       "  0%|          | 0/4 [00:00<?, ?it/s]"
      ]
     },
     "metadata": {},
     "output_type": "display_data"
    },
    {
     "data": {
      "application/vnd.jupyter.widget-view+json": {
       "model_id": "c9bc9493c29a4fa885fd604270cb03cb",
       "version_major": 2,
       "version_minor": 0
      },
      "text/plain": [
       "  0%|          | 0/8 [00:00<?, ?it/s]"
      ]
     },
     "metadata": {},
     "output_type": "display_data"
    },
    {
     "data": {
      "application/vnd.jupyter.widget-view+json": {
       "model_id": "b162e59750f24371bb33e674fb8300d6",
       "version_major": 2,
       "version_minor": 0
      },
      "text/plain": [
       "  0%|          | 0/116 [00:00<?, ?it/s]"
      ]
     },
     "metadata": {},
     "output_type": "display_data"
    },
    {
     "data": {
      "application/vnd.jupyter.widget-view+json": {
       "model_id": "ed2dea57626d4068a8f364d87db57b11",
       "version_major": 2,
       "version_minor": 0
      },
      "text/plain": [
       "  0%|          | 0/8 [00:00<?, ?it/s]"
      ]
     },
     "metadata": {},
     "output_type": "display_data"
    },
    {
     "data": {
      "application/vnd.jupyter.widget-view+json": {
       "model_id": "ec797593c7d843cbafba6f834d2e7f77",
       "version_major": 2,
       "version_minor": 0
      },
      "text/plain": [
       "  0%|          | 0/3 [00:00<?, ?it/s]"
      ]
     },
     "metadata": {},
     "output_type": "display_data"
    },
    {
     "data": {
      "application/vnd.jupyter.widget-view+json": {
       "model_id": "3d81626b5b6c4237bf55f997b29005fe",
       "version_major": 2,
       "version_minor": 0
      },
      "text/plain": [
       "  0%|          | 0/24 [00:00<?, ?it/s]"
      ]
     },
     "metadata": {},
     "output_type": "display_data"
    },
    {
     "data": {
      "application/vnd.jupyter.widget-view+json": {
       "model_id": "97610d26a672430aa6e7202bf98751f6",
       "version_major": 2,
       "version_minor": 0
      },
      "text/plain": [
       "  0%|          | 0/5 [00:00<?, ?it/s]"
      ]
     },
     "metadata": {},
     "output_type": "display_data"
    },
    {
     "data": {
      "application/vnd.jupyter.widget-view+json": {
       "model_id": "d2a35fdd560f435b9f30d6ff1a719404",
       "version_major": 2,
       "version_minor": 0
      },
      "text/plain": [
       "  0%|          | 0/6 [00:00<?, ?it/s]"
      ]
     },
     "metadata": {},
     "output_type": "display_data"
    },
    {
     "data": {
      "application/vnd.jupyter.widget-view+json": {
       "model_id": "5aaf64d2278248719069b660a4487d3c",
       "version_major": 2,
       "version_minor": 0
      },
      "text/plain": [
       "  0%|          | 0/24 [00:00<?, ?it/s]"
      ]
     },
     "metadata": {},
     "output_type": "display_data"
    },
    {
     "data": {
      "application/vnd.jupyter.widget-view+json": {
       "model_id": "285ecee109044ee297b78dd232a8d0e0",
       "version_major": 2,
       "version_minor": 0
      },
      "text/plain": [
       "  0%|          | 0/16 [00:00<?, ?it/s]"
      ]
     },
     "metadata": {},
     "output_type": "display_data"
    },
    {
     "data": {
      "application/vnd.jupyter.widget-view+json": {
       "model_id": "9641b196a3f44b25a9589baf1e257fd8",
       "version_major": 2,
       "version_minor": 0
      },
      "text/plain": [
       "  0%|          | 0/1 [00:00<?, ?it/s]"
      ]
     },
     "metadata": {},
     "output_type": "display_data"
    },
    {
     "data": {
      "application/vnd.jupyter.widget-view+json": {
       "model_id": "f06ea137909c41b9b6add848ee3c41d0",
       "version_major": 2,
       "version_minor": 0
      },
      "text/plain": [
       "  0%|          | 0/6 [00:00<?, ?it/s]"
      ]
     },
     "metadata": {},
     "output_type": "display_data"
    },
    {
     "data": {
      "application/vnd.jupyter.widget-view+json": {
       "model_id": "250e381d298a4ebab81355402c8920c0",
       "version_major": 2,
       "version_minor": 0
      },
      "text/plain": [
       "  0%|          | 0/41 [00:00<?, ?it/s]"
      ]
     },
     "metadata": {},
     "output_type": "display_data"
    },
    {
     "data": {
      "application/vnd.jupyter.widget-view+json": {
       "model_id": "deaa058b5f774a7692a7f6ba3e27eb81",
       "version_major": 2,
       "version_minor": 0
      },
      "text/plain": [
       "  0%|          | 0/4 [00:00<?, ?it/s]"
      ]
     },
     "metadata": {},
     "output_type": "display_data"
    },
    {
     "data": {
      "application/vnd.jupyter.widget-view+json": {
       "model_id": "b4f91fff36544cb78740a499fdb32a62",
       "version_major": 2,
       "version_minor": 0
      },
      "text/plain": [
       "  0%|          | 0/27 [00:00<?, ?it/s]"
      ]
     },
     "metadata": {},
     "output_type": "display_data"
    },
    {
     "data": {
      "application/vnd.jupyter.widget-view+json": {
       "model_id": "5251db98f21e4328b7552a9a1d8b4a09",
       "version_major": 2,
       "version_minor": 0
      },
      "text/plain": [
       "  0%|          | 0/64 [00:00<?, ?it/s]"
      ]
     },
     "metadata": {},
     "output_type": "display_data"
    },
    {
     "data": {
      "application/vnd.jupyter.widget-view+json": {
       "model_id": "c83e74a1df924621aae8fadf5a0989bf",
       "version_major": 2,
       "version_minor": 0
      },
      "text/plain": [
       "  0%|          | 0/5 [00:00<?, ?it/s]"
      ]
     },
     "metadata": {},
     "output_type": "display_data"
    },
    {
     "data": {
      "application/vnd.jupyter.widget-view+json": {
       "model_id": "f859cdb7b1044551a3cf829db3b9e749",
       "version_major": 2,
       "version_minor": 0
      },
      "text/plain": [
       "  0%|          | 0/3 [00:00<?, ?it/s]"
      ]
     },
     "metadata": {},
     "output_type": "display_data"
    },
    {
     "data": {
      "application/vnd.jupyter.widget-view+json": {
       "model_id": "23b7d8c0fc0f47ff9b79385b7257e677",
       "version_major": 2,
       "version_minor": 0
      },
      "text/plain": [
       "  0%|          | 0/10 [00:00<?, ?it/s]"
      ]
     },
     "metadata": {},
     "output_type": "display_data"
    },
    {
     "data": {
      "application/vnd.jupyter.widget-view+json": {
       "model_id": "fbba765704b446c2b53c57e8c9d90c3a",
       "version_major": 2,
       "version_minor": 0
      },
      "text/plain": [
       "  0%|          | 0/71 [00:00<?, ?it/s]"
      ]
     },
     "metadata": {},
     "output_type": "display_data"
    },
    {
     "data": {
      "application/vnd.jupyter.widget-view+json": {
       "model_id": "c18f94cc95be4150a8bc4bdfbc1127d1",
       "version_major": 2,
       "version_minor": 0
      },
      "text/plain": [
       "  0%|          | 0/7 [00:00<?, ?it/s]"
      ]
     },
     "metadata": {},
     "output_type": "display_data"
    },
    {
     "data": {
      "application/vnd.jupyter.widget-view+json": {
       "model_id": "c7adf73adb874d57bfa7d85ea1f57341",
       "version_major": 2,
       "version_minor": 0
      },
      "text/plain": [
       "  0%|          | 0/5 [00:00<?, ?it/s]"
      ]
     },
     "metadata": {},
     "output_type": "display_data"
    },
    {
     "data": {
      "application/vnd.jupyter.widget-view+json": {
       "model_id": "de79b67f4a0e46f6b2ea5b1b4c9a0e6a",
       "version_major": 2,
       "version_minor": 0
      },
      "text/plain": [
       "  0%|          | 0/22 [00:00<?, ?it/s]"
      ]
     },
     "metadata": {},
     "output_type": "display_data"
    },
    {
     "data": {
      "application/vnd.jupyter.widget-view+json": {
       "model_id": "c77448cc6784489fb7908da17378b81e",
       "version_major": 2,
       "version_minor": 0
      },
      "text/plain": [
       "  0%|          | 0/9 [00:00<?, ?it/s]"
      ]
     },
     "metadata": {},
     "output_type": "display_data"
    },
    {
     "data": {
      "application/vnd.jupyter.widget-view+json": {
       "model_id": "a94a504050fe4d70a4f13eafac0dac00",
       "version_major": 2,
       "version_minor": 0
      },
      "text/plain": [
       "  0%|          | 0/10 [00:00<?, ?it/s]"
      ]
     },
     "metadata": {},
     "output_type": "display_data"
    },
    {
     "data": {
      "application/vnd.jupyter.widget-view+json": {
       "model_id": "80888e343cea4f84ba2ba4fe97d8d2d6",
       "version_major": 2,
       "version_minor": 0
      },
      "text/plain": [
       "  0%|          | 0/17 [00:00<?, ?it/s]"
      ]
     },
     "metadata": {},
     "output_type": "display_data"
    },
    {
     "data": {
      "application/vnd.jupyter.widget-view+json": {
       "model_id": "de74e00afbda4689ac753f288a039cc1",
       "version_major": 2,
       "version_minor": 0
      },
      "text/plain": [
       "  0%|          | 0/18 [00:00<?, ?it/s]"
      ]
     },
     "metadata": {},
     "output_type": "display_data"
    },
    {
     "data": {
      "application/vnd.jupyter.widget-view+json": {
       "model_id": "23993cc1317f4a9aa7612c5ffba41523",
       "version_major": 2,
       "version_minor": 0
      },
      "text/plain": [
       "  0%|          | 0/14 [00:00<?, ?it/s]"
      ]
     },
     "metadata": {},
     "output_type": "display_data"
    },
    {
     "data": {
      "application/vnd.jupyter.widget-view+json": {
       "model_id": "7457c6f812db4167973ef5396a5a9efc",
       "version_major": 2,
       "version_minor": 0
      },
      "text/plain": [
       "  0%|          | 0/16 [00:00<?, ?it/s]"
      ]
     },
     "metadata": {},
     "output_type": "display_data"
    },
    {
     "data": {
      "application/vnd.jupyter.widget-view+json": {
       "model_id": "1f671799a98b4171a5542adf80685296",
       "version_major": 2,
       "version_minor": 0
      },
      "text/plain": [
       "  0%|          | 0/22 [00:00<?, ?it/s]"
      ]
     },
     "metadata": {},
     "output_type": "display_data"
    },
    {
     "data": {
      "application/vnd.jupyter.widget-view+json": {
       "model_id": "1e76ff87649244d7a8220589d0b1884f",
       "version_major": 2,
       "version_minor": 0
      },
      "text/plain": [
       "  0%|          | 0/2 [00:00<?, ?it/s]"
      ]
     },
     "metadata": {},
     "output_type": "display_data"
    },
    {
     "data": {
      "application/vnd.jupyter.widget-view+json": {
       "model_id": "e6fa9ecc96af4dfb9cd3a79270ca7e09",
       "version_major": 2,
       "version_minor": 0
      },
      "text/plain": [
       "  0%|          | 0/5 [00:00<?, ?it/s]"
      ]
     },
     "metadata": {},
     "output_type": "display_data"
    },
    {
     "data": {
      "application/vnd.jupyter.widget-view+json": {
       "model_id": "56a690a8fc9441ffaaf024c6d54727b4",
       "version_major": 2,
       "version_minor": 0
      },
      "text/plain": [
       "  0%|          | 0/3 [00:00<?, ?it/s]"
      ]
     },
     "metadata": {},
     "output_type": "display_data"
    },
    {
     "data": {
      "application/vnd.jupyter.widget-view+json": {
       "model_id": "1a22e1f6f5cd4712b4839054fdeeaf80",
       "version_major": 2,
       "version_minor": 0
      },
      "text/plain": [
       "  0%|          | 0/6 [00:00<?, ?it/s]"
      ]
     },
     "metadata": {},
     "output_type": "display_data"
    },
    {
     "data": {
      "application/vnd.jupyter.widget-view+json": {
       "model_id": "3319fd0e15b345c3b6e2a44c190c50ce",
       "version_major": 2,
       "version_minor": 0
      },
      "text/plain": [
       "  0%|          | 0/19 [00:00<?, ?it/s]"
      ]
     },
     "metadata": {},
     "output_type": "display_data"
    },
    {
     "data": {
      "application/vnd.jupyter.widget-view+json": {
       "model_id": "348daef8d6ac49ce852b7630cfdf355b",
       "version_major": 2,
       "version_minor": 0
      },
      "text/plain": [
       "  0%|          | 0/4 [00:00<?, ?it/s]"
      ]
     },
     "metadata": {},
     "output_type": "display_data"
    },
    {
     "data": {
      "application/vnd.jupyter.widget-view+json": {
       "model_id": "8fa9880fe98d4690b6bb27b93383cb08",
       "version_major": 2,
       "version_minor": 0
      },
      "text/plain": [
       "  0%|          | 0/8 [00:00<?, ?it/s]"
      ]
     },
     "metadata": {},
     "output_type": "display_data"
    },
    {
     "data": {
      "application/vnd.jupyter.widget-view+json": {
       "model_id": "ceb4bc2cc5c04a70bcd265500dff5a98",
       "version_major": 2,
       "version_minor": 0
      },
      "text/plain": [
       "  0%|          | 0/4 [00:00<?, ?it/s]"
      ]
     },
     "metadata": {},
     "output_type": "display_data"
    },
    {
     "data": {
      "application/vnd.jupyter.widget-view+json": {
       "model_id": "830ecddf7e7f4d3582e0bdeee2969db8",
       "version_major": 2,
       "version_minor": 0
      },
      "text/plain": [
       "  0%|          | 0/38 [00:00<?, ?it/s]"
      ]
     },
     "metadata": {},
     "output_type": "display_data"
    },
    {
     "data": {
      "application/vnd.jupyter.widget-view+json": {
       "model_id": "a8b5dbee91e94944b89cd5891c2b17c7",
       "version_major": 2,
       "version_minor": 0
      },
      "text/plain": [
       "  0%|          | 0/9 [00:00<?, ?it/s]"
      ]
     },
     "metadata": {},
     "output_type": "display_data"
    },
    {
     "data": {
      "application/vnd.jupyter.widget-view+json": {
       "model_id": "94ce16ec8e9e423d80adfd9e29a12a5b",
       "version_major": 2,
       "version_minor": 0
      },
      "text/plain": [
       "  0%|          | 0/34 [00:00<?, ?it/s]"
      ]
     },
     "metadata": {},
     "output_type": "display_data"
    },
    {
     "data": {
      "application/vnd.jupyter.widget-view+json": {
       "model_id": "6f418d01689e482db13f43f25e662c18",
       "version_major": 2,
       "version_minor": 0
      },
      "text/plain": [
       "  0%|          | 0/6 [00:00<?, ?it/s]"
      ]
     },
     "metadata": {},
     "output_type": "display_data"
    },
    {
     "data": {
      "application/vnd.jupyter.widget-view+json": {
       "model_id": "ad0ff1743bfb4fda99bff0884b9707e6",
       "version_major": 2,
       "version_minor": 0
      },
      "text/plain": [
       "  0%|          | 0/8 [00:00<?, ?it/s]"
      ]
     },
     "metadata": {},
     "output_type": "display_data"
    },
    {
     "data": {
      "application/vnd.jupyter.widget-view+json": {
       "model_id": "ea8cf46c2efb4f90ba734dbe56a360e8",
       "version_major": 2,
       "version_minor": 0
      },
      "text/plain": [
       "  0%|          | 0/19 [00:00<?, ?it/s]"
      ]
     },
     "metadata": {},
     "output_type": "display_data"
    },
    {
     "data": {
      "application/vnd.jupyter.widget-view+json": {
       "model_id": "ef6aea868ad843d386cc9c79c32b15e1",
       "version_major": 2,
       "version_minor": 0
      },
      "text/plain": [
       "  0%|          | 0/17 [00:00<?, ?it/s]"
      ]
     },
     "metadata": {},
     "output_type": "display_data"
    },
    {
     "data": {
      "application/vnd.jupyter.widget-view+json": {
       "model_id": "176d16c29b2345e9946d7f3a011d145e",
       "version_major": 2,
       "version_minor": 0
      },
      "text/plain": [
       "  0%|          | 0/11 [00:00<?, ?it/s]"
      ]
     },
     "metadata": {},
     "output_type": "display_data"
    },
    {
     "data": {
      "application/vnd.jupyter.widget-view+json": {
       "model_id": "d701abb413bb4b7abc31f23e10901f53",
       "version_major": 2,
       "version_minor": 0
      },
      "text/plain": [
       "  0%|          | 0/6 [00:00<?, ?it/s]"
      ]
     },
     "metadata": {},
     "output_type": "display_data"
    },
    {
     "data": {
      "application/vnd.jupyter.widget-view+json": {
       "model_id": "61cf60343f6c41e99cb03a9b4babba7f",
       "version_major": 2,
       "version_minor": 0
      },
      "text/plain": [
       "  0%|          | 0/8 [00:00<?, ?it/s]"
      ]
     },
     "metadata": {},
     "output_type": "display_data"
    },
    {
     "data": {
      "application/vnd.jupyter.widget-view+json": {
       "model_id": "ab77ecdff5774e2f8fc66d4c30f431e0",
       "version_major": 2,
       "version_minor": 0
      },
      "text/plain": [
       "  0%|          | 0/13 [00:00<?, ?it/s]"
      ]
     },
     "metadata": {},
     "output_type": "display_data"
    },
    {
     "data": {
      "application/vnd.jupyter.widget-view+json": {
       "model_id": "c748cb724a954c7e88066ed1c76892c9",
       "version_major": 2,
       "version_minor": 0
      },
      "text/plain": [
       "  0%|          | 0/9 [00:00<?, ?it/s]"
      ]
     },
     "metadata": {},
     "output_type": "display_data"
    },
    {
     "data": {
      "application/vnd.jupyter.widget-view+json": {
       "model_id": "62bcaab806304dddb325a6672a0fcf37",
       "version_major": 2,
       "version_minor": 0
      },
      "text/plain": [
       "  0%|          | 0/18 [00:00<?, ?it/s]"
      ]
     },
     "metadata": {},
     "output_type": "display_data"
    },
    {
     "data": {
      "application/vnd.jupyter.widget-view+json": {
       "model_id": "e8d4049c3f994dc48f157ac68dcd36d6",
       "version_major": 2,
       "version_minor": 0
      },
      "text/plain": [
       "  0%|          | 0/2 [00:00<?, ?it/s]"
      ]
     },
     "metadata": {},
     "output_type": "display_data"
    },
    {
     "data": {
      "application/vnd.jupyter.widget-view+json": {
       "model_id": "6ab2d9f9dfb04ec7802d5e048d868a09",
       "version_major": 2,
       "version_minor": 0
      },
      "text/plain": [
       "  0%|          | 0/11 [00:00<?, ?it/s]"
      ]
     },
     "metadata": {},
     "output_type": "display_data"
    },
    {
     "data": {
      "application/vnd.jupyter.widget-view+json": {
       "model_id": "3493e599e17349b1a85aaa1a6b950dce",
       "version_major": 2,
       "version_minor": 0
      },
      "text/plain": [
       "  0%|          | 0/25 [00:00<?, ?it/s]"
      ]
     },
     "metadata": {},
     "output_type": "display_data"
    },
    {
     "data": {
      "application/vnd.jupyter.widget-view+json": {
       "model_id": "78563bec127b4a30af5c20709a9f825f",
       "version_major": 2,
       "version_minor": 0
      },
      "text/plain": [
       "  0%|          | 0/83 [00:00<?, ?it/s]"
      ]
     },
     "metadata": {},
     "output_type": "display_data"
    },
    {
     "data": {
      "application/vnd.jupyter.widget-view+json": {
       "model_id": "3efe2e1b62e842758b1fc41a720103e6",
       "version_major": 2,
       "version_minor": 0
      },
      "text/plain": [
       "  0%|          | 0/3 [00:00<?, ?it/s]"
      ]
     },
     "metadata": {},
     "output_type": "display_data"
    },
    {
     "data": {
      "application/vnd.jupyter.widget-view+json": {
       "model_id": "d378a006d5bb4811bd74810c3a93d6a9",
       "version_major": 2,
       "version_minor": 0
      },
      "text/plain": [
       "  0%|          | 0/13 [00:00<?, ?it/s]"
      ]
     },
     "metadata": {},
     "output_type": "display_data"
    },
    {
     "data": {
      "application/vnd.jupyter.widget-view+json": {
       "model_id": "e7dba524035e4113a26fa0becb73c15f",
       "version_major": 2,
       "version_minor": 0
      },
      "text/plain": [
       "  0%|          | 0/28 [00:00<?, ?it/s]"
      ]
     },
     "metadata": {},
     "output_type": "display_data"
    },
    {
     "data": {
      "application/vnd.jupyter.widget-view+json": {
       "model_id": "4e0cc54cf32445e992f528d09ff43dc7",
       "version_major": 2,
       "version_minor": 0
      },
      "text/plain": [
       "  0%|          | 0/4 [00:00<?, ?it/s]"
      ]
     },
     "metadata": {},
     "output_type": "display_data"
    },
    {
     "data": {
      "application/vnd.jupyter.widget-view+json": {
       "model_id": "4a8c7c217548435bb823acc312b299bc",
       "version_major": 2,
       "version_minor": 0
      },
      "text/plain": [
       "  0%|          | 0/8 [00:00<?, ?it/s]"
      ]
     },
     "metadata": {},
     "output_type": "display_data"
    },
    {
     "data": {
      "application/vnd.jupyter.widget-view+json": {
       "model_id": "227922b9d46c4448907438d8f3101095",
       "version_major": 2,
       "version_minor": 0
      },
      "text/plain": [
       "  0%|          | 0/22 [00:00<?, ?it/s]"
      ]
     },
     "metadata": {},
     "output_type": "display_data"
    },
    {
     "data": {
      "application/vnd.jupyter.widget-view+json": {
       "model_id": "01b26618dcca4392972cb2d0ea7bbce5",
       "version_major": 2,
       "version_minor": 0
      },
      "text/plain": [
       "  0%|          | 0/48 [00:00<?, ?it/s]"
      ]
     },
     "metadata": {},
     "output_type": "display_data"
    },
    {
     "data": {
      "application/vnd.jupyter.widget-view+json": {
       "model_id": "7c78d86dcbf74680b98a433618fd4334",
       "version_major": 2,
       "version_minor": 0
      },
      "text/plain": [
       "  0%|          | 0/4 [00:00<?, ?it/s]"
      ]
     },
     "metadata": {},
     "output_type": "display_data"
    },
    {
     "data": {
      "application/vnd.jupyter.widget-view+json": {
       "model_id": "97c977f883cf4a1a8e955058814f1ea6",
       "version_major": 2,
       "version_minor": 0
      },
      "text/plain": [
       "  0%|          | 0/5 [00:00<?, ?it/s]"
      ]
     },
     "metadata": {},
     "output_type": "display_data"
    },
    {
     "data": {
      "application/vnd.jupyter.widget-view+json": {
       "model_id": "8344571bc0134d099f40604fe975fb4e",
       "version_major": 2,
       "version_minor": 0
      },
      "text/plain": [
       "  0%|          | 0/9 [00:00<?, ?it/s]"
      ]
     },
     "metadata": {},
     "output_type": "display_data"
    },
    {
     "data": {
      "application/vnd.jupyter.widget-view+json": {
       "model_id": "a3fb24905b3349769241441d9a2b810a",
       "version_major": 2,
       "version_minor": 0
      },
      "text/plain": [
       "  0%|          | 0/9 [00:00<?, ?it/s]"
      ]
     },
     "metadata": {},
     "output_type": "display_data"
    },
    {
     "data": {
      "application/vnd.jupyter.widget-view+json": {
       "model_id": "16635fc2c4ad4305b6510eb931bcb76e",
       "version_major": 2,
       "version_minor": 0
      },
      "text/plain": [
       "  0%|          | 0/21 [00:00<?, ?it/s]"
      ]
     },
     "metadata": {},
     "output_type": "display_data"
    },
    {
     "data": {
      "application/vnd.jupyter.widget-view+json": {
       "model_id": "8541132257f449809ba906ef3e4f7626",
       "version_major": 2,
       "version_minor": 0
      },
      "text/plain": [
       "  0%|          | 0/9 [00:00<?, ?it/s]"
      ]
     },
     "metadata": {},
     "output_type": "display_data"
    },
    {
     "data": {
      "application/vnd.jupyter.widget-view+json": {
       "model_id": "bc0209d1ae9e4652adbb6a01f7a8014a",
       "version_major": 2,
       "version_minor": 0
      },
      "text/plain": [
       "  0%|          | 0/13 [00:00<?, ?it/s]"
      ]
     },
     "metadata": {},
     "output_type": "display_data"
    },
    {
     "data": {
      "application/vnd.jupyter.widget-view+json": {
       "model_id": "6a7e6076e407409a8152d54dbe3ce7d4",
       "version_major": 2,
       "version_minor": 0
      },
      "text/plain": [
       "  0%|          | 0/13 [00:00<?, ?it/s]"
      ]
     },
     "metadata": {},
     "output_type": "display_data"
    },
    {
     "data": {
      "application/vnd.jupyter.widget-view+json": {
       "model_id": "7e5840ca631e413b840841a9b7971b06",
       "version_major": 2,
       "version_minor": 0
      },
      "text/plain": [
       "  0%|          | 0/10 [00:00<?, ?it/s]"
      ]
     },
     "metadata": {},
     "output_type": "display_data"
    },
    {
     "data": {
      "application/vnd.jupyter.widget-view+json": {
       "model_id": "5517455ba53f4e44a810b9781ef9cc1b",
       "version_major": 2,
       "version_minor": 0
      },
      "text/plain": [
       "  0%|          | 0/2 [00:00<?, ?it/s]"
      ]
     },
     "metadata": {},
     "output_type": "display_data"
    },
    {
     "data": {
      "application/vnd.jupyter.widget-view+json": {
       "model_id": "75caa337e0724225a59feea2412d9ec8",
       "version_major": 2,
       "version_minor": 0
      },
      "text/plain": [
       "  0%|          | 0/7 [00:00<?, ?it/s]"
      ]
     },
     "metadata": {},
     "output_type": "display_data"
    },
    {
     "data": {
      "application/vnd.jupyter.widget-view+json": {
       "model_id": "3f5c867aaee24d2aa652d769400907fb",
       "version_major": 2,
       "version_minor": 0
      },
      "text/plain": [
       "  0%|          | 0/9 [00:00<?, ?it/s]"
      ]
     },
     "metadata": {},
     "output_type": "display_data"
    },
    {
     "data": {
      "application/vnd.jupyter.widget-view+json": {
       "model_id": "f7b43dff91684f15a4285a73e53935fc",
       "version_major": 2,
       "version_minor": 0
      },
      "text/plain": [
       "  0%|          | 0/22 [00:00<?, ?it/s]"
      ]
     },
     "metadata": {},
     "output_type": "display_data"
    },
    {
     "data": {
      "application/vnd.jupyter.widget-view+json": {
       "model_id": "fa3ea8b09adf4448bd76442ddff28d6d",
       "version_major": 2,
       "version_minor": 0
      },
      "text/plain": [
       "  0%|          | 0/80 [00:00<?, ?it/s]"
      ]
     },
     "metadata": {},
     "output_type": "display_data"
    },
    {
     "data": {
      "application/vnd.jupyter.widget-view+json": {
       "model_id": "8435a517db0f4134a3733a8ad84a2af7",
       "version_major": 2,
       "version_minor": 0
      },
      "text/plain": [
       "  0%|          | 0/2 [00:00<?, ?it/s]"
      ]
     },
     "metadata": {},
     "output_type": "display_data"
    },
    {
     "data": {
      "application/vnd.jupyter.widget-view+json": {
       "model_id": "01a876812f60441486973619664d1a9d",
       "version_major": 2,
       "version_minor": 0
      },
      "text/plain": [
       "  0%|          | 0/10 [00:00<?, ?it/s]"
      ]
     },
     "metadata": {},
     "output_type": "display_data"
    },
    {
     "data": {
      "application/vnd.jupyter.widget-view+json": {
       "model_id": "f019c809a4c24a50bc42ffcb84f9a23a",
       "version_major": 2,
       "version_minor": 0
      },
      "text/plain": [
       "  0%|          | 0/5 [00:00<?, ?it/s]"
      ]
     },
     "metadata": {},
     "output_type": "display_data"
    },
    {
     "data": {
      "application/vnd.jupyter.widget-view+json": {
       "model_id": "325c90e889174cf7a8e12774b74d82a8",
       "version_major": 2,
       "version_minor": 0
      },
      "text/plain": [
       "  0%|          | 0/44 [00:00<?, ?it/s]"
      ]
     },
     "metadata": {},
     "output_type": "display_data"
    },
    {
     "data": {
      "application/vnd.jupyter.widget-view+json": {
       "model_id": "029137f054b3434fa755a0cea8653c6a",
       "version_major": 2,
       "version_minor": 0
      },
      "text/plain": [
       "  0%|          | 0/14 [00:00<?, ?it/s]"
      ]
     },
     "metadata": {},
     "output_type": "display_data"
    },
    {
     "data": {
      "application/vnd.jupyter.widget-view+json": {
       "model_id": "8e5150ad501a4136aff36a58c12c9dc0",
       "version_major": 2,
       "version_minor": 0
      },
      "text/plain": [
       "  0%|          | 0/11 [00:00<?, ?it/s]"
      ]
     },
     "metadata": {},
     "output_type": "display_data"
    },
    {
     "data": {
      "application/vnd.jupyter.widget-view+json": {
       "model_id": "72f99ca25eb9462cb9e948a7be363692",
       "version_major": 2,
       "version_minor": 0
      },
      "text/plain": [
       "  0%|          | 0/28 [00:00<?, ?it/s]"
      ]
     },
     "metadata": {},
     "output_type": "display_data"
    },
    {
     "data": {
      "application/vnd.jupyter.widget-view+json": {
       "model_id": "01528e6f160a45d492f7cd76fd464b00",
       "version_major": 2,
       "version_minor": 0
      },
      "text/plain": [
       "  0%|          | 0/9 [00:00<?, ?it/s]"
      ]
     },
     "metadata": {},
     "output_type": "display_data"
    },
    {
     "data": {
      "application/vnd.jupyter.widget-view+json": {
       "model_id": "91a3a4bf766b4956a557f7e5674d8f0a",
       "version_major": 2,
       "version_minor": 0
      },
      "text/plain": [
       "  0%|          | 0/37 [00:00<?, ?it/s]"
      ]
     },
     "metadata": {},
     "output_type": "display_data"
    },
    {
     "data": {
      "application/vnd.jupyter.widget-view+json": {
       "model_id": "d79132ef70b54b00a45beabcd693b4f3",
       "version_major": 2,
       "version_minor": 0
      },
      "text/plain": [
       "  0%|          | 0/7 [00:00<?, ?it/s]"
      ]
     },
     "metadata": {},
     "output_type": "display_data"
    },
    {
     "data": {
      "application/vnd.jupyter.widget-view+json": {
       "model_id": "6c2d8946c2a4419a9aa17439dbfd2b02",
       "version_major": 2,
       "version_minor": 0
      },
      "text/plain": [
       "  0%|          | 0/6 [00:00<?, ?it/s]"
      ]
     },
     "metadata": {},
     "output_type": "display_data"
    },
    {
     "data": {
      "application/vnd.jupyter.widget-view+json": {
       "model_id": "1f068a7b23e1446681a8d07c6959b668",
       "version_major": 2,
       "version_minor": 0
      },
      "text/plain": [
       "  0%|          | 0/4 [00:00<?, ?it/s]"
      ]
     },
     "metadata": {},
     "output_type": "display_data"
    },
    {
     "data": {
      "application/vnd.jupyter.widget-view+json": {
       "model_id": "f054db4ab9094a6cab4b23637fbf338d",
       "version_major": 2,
       "version_minor": 0
      },
      "text/plain": [
       "  0%|          | 0/8 [00:00<?, ?it/s]"
      ]
     },
     "metadata": {},
     "output_type": "display_data"
    },
    {
     "data": {
      "application/vnd.jupyter.widget-view+json": {
       "model_id": "031fa7316fc74a5996c2e8c2302e7e28",
       "version_major": 2,
       "version_minor": 0
      },
      "text/plain": [
       "  0%|          | 0/6 [00:00<?, ?it/s]"
      ]
     },
     "metadata": {},
     "output_type": "display_data"
    },
    {
     "data": {
      "application/vnd.jupyter.widget-view+json": {
       "model_id": "ec7e17809ed54f65bd8aeca64a566130",
       "version_major": 2,
       "version_minor": 0
      },
      "text/plain": [
       "  0%|          | 0/3 [00:00<?, ?it/s]"
      ]
     },
     "metadata": {},
     "output_type": "display_data"
    },
    {
     "data": {
      "application/vnd.jupyter.widget-view+json": {
       "model_id": "4cfc04334fbf49b3b758cc365c3a5c68",
       "version_major": 2,
       "version_minor": 0
      },
      "text/plain": [
       "  0%|          | 0/7 [00:00<?, ?it/s]"
      ]
     },
     "metadata": {},
     "output_type": "display_data"
    },
    {
     "data": {
      "application/vnd.jupyter.widget-view+json": {
       "model_id": "ef7ab5285a8d473a9fb58b99486a2899",
       "version_major": 2,
       "version_minor": 0
      },
      "text/plain": [
       "  0%|          | 0/10 [00:00<?, ?it/s]"
      ]
     },
     "metadata": {},
     "output_type": "display_data"
    },
    {
     "data": {
      "application/vnd.jupyter.widget-view+json": {
       "model_id": "3412591f2f97482f93a28e050640526f",
       "version_major": 2,
       "version_minor": 0
      },
      "text/plain": [
       "  0%|          | 0/5 [00:00<?, ?it/s]"
      ]
     },
     "metadata": {},
     "output_type": "display_data"
    },
    {
     "data": {
      "application/vnd.jupyter.widget-view+json": {
       "model_id": "755ab8d73baa4270acef9e538f73cc63",
       "version_major": 2,
       "version_minor": 0
      },
      "text/plain": [
       "  0%|          | 0/9 [00:00<?, ?it/s]"
      ]
     },
     "metadata": {},
     "output_type": "display_data"
    },
    {
     "data": {
      "application/vnd.jupyter.widget-view+json": {
       "model_id": "1690aa5ea78b42bc8bad69ece4040013",
       "version_major": 2,
       "version_minor": 0
      },
      "text/plain": [
       "  0%|          | 0/11 [00:00<?, ?it/s]"
      ]
     },
     "metadata": {},
     "output_type": "display_data"
    },
    {
     "data": {
      "application/vnd.jupyter.widget-view+json": {
       "model_id": "affdda889bdd4129a7f18796aec299bb",
       "version_major": 2,
       "version_minor": 0
      },
      "text/plain": [
       "  0%|          | 0/17 [00:00<?, ?it/s]"
      ]
     },
     "metadata": {},
     "output_type": "display_data"
    },
    {
     "data": {
      "application/vnd.jupyter.widget-view+json": {
       "model_id": "cba09f5b378e40f490919e013439a0e4",
       "version_major": 2,
       "version_minor": 0
      },
      "text/plain": [
       "  0%|          | 0/23 [00:00<?, ?it/s]"
      ]
     },
     "metadata": {},
     "output_type": "display_data"
    },
    {
     "data": {
      "application/vnd.jupyter.widget-view+json": {
       "model_id": "4237b911663342418c5a81d9b786cd22",
       "version_major": 2,
       "version_minor": 0
      },
      "text/plain": [
       "  0%|          | 0/2 [00:00<?, ?it/s]"
      ]
     },
     "metadata": {},
     "output_type": "display_data"
    },
    {
     "data": {
      "application/vnd.jupyter.widget-view+json": {
       "model_id": "6b442d138cb34316949bd6d80f61c2a6",
       "version_major": 2,
       "version_minor": 0
      },
      "text/plain": [
       "  0%|          | 0/9 [00:00<?, ?it/s]"
      ]
     },
     "metadata": {},
     "output_type": "display_data"
    },
    {
     "data": {
      "application/vnd.jupyter.widget-view+json": {
       "model_id": "d25632aafa8849248d2864bdfca7b37c",
       "version_major": 2,
       "version_minor": 0
      },
      "text/plain": [
       "  0%|          | 0/20 [00:00<?, ?it/s]"
      ]
     },
     "metadata": {},
     "output_type": "display_data"
    },
    {
     "data": {
      "application/vnd.jupyter.widget-view+json": {
       "model_id": "9916d4256bdc4ad391fc2aed86e56e9a",
       "version_major": 2,
       "version_minor": 0
      },
      "text/plain": [
       "  0%|          | 0/26 [00:00<?, ?it/s]"
      ]
     },
     "metadata": {},
     "output_type": "display_data"
    },
    {
     "data": {
      "application/vnd.jupyter.widget-view+json": {
       "model_id": "a3a2f4693cf64ea6b810073d41ac986b",
       "version_major": 2,
       "version_minor": 0
      },
      "text/plain": [
       "  0%|          | 0/14 [00:00<?, ?it/s]"
      ]
     },
     "metadata": {},
     "output_type": "display_data"
    },
    {
     "data": {
      "application/vnd.jupyter.widget-view+json": {
       "model_id": "2a02b34ee85a485788949dadea5267ad",
       "version_major": 2,
       "version_minor": 0
      },
      "text/plain": [
       "  0%|          | 0/29 [00:00<?, ?it/s]"
      ]
     },
     "metadata": {},
     "output_type": "display_data"
    },
    {
     "data": {
      "application/vnd.jupyter.widget-view+json": {
       "model_id": "82936aacde2d4c43a8a5b3f0e5a4edd1",
       "version_major": 2,
       "version_minor": 0
      },
      "text/plain": [
       "  0%|          | 0/58 [00:00<?, ?it/s]"
      ]
     },
     "metadata": {},
     "output_type": "display_data"
    },
    {
     "data": {
      "application/vnd.jupyter.widget-view+json": {
       "model_id": "554ebecf63c84b3c9567ee1e4f782929",
       "version_major": 2,
       "version_minor": 0
      },
      "text/plain": [
       "  0%|          | 0/11 [00:00<?, ?it/s]"
      ]
     },
     "metadata": {},
     "output_type": "display_data"
    },
    {
     "data": {
      "application/vnd.jupyter.widget-view+json": {
       "model_id": "352a928dae324f31b1c3c2487c3fd563",
       "version_major": 2,
       "version_minor": 0
      },
      "text/plain": [
       "  0%|          | 0/6 [00:00<?, ?it/s]"
      ]
     },
     "metadata": {},
     "output_type": "display_data"
    },
    {
     "data": {
      "application/vnd.jupyter.widget-view+json": {
       "model_id": "ffb2186a6b7a4f57836040ce5a3f2c81",
       "version_major": 2,
       "version_minor": 0
      },
      "text/plain": [
       "  0%|          | 0/16 [00:00<?, ?it/s]"
      ]
     },
     "metadata": {},
     "output_type": "display_data"
    },
    {
     "data": {
      "application/vnd.jupyter.widget-view+json": {
       "model_id": "eea39607d0a847d8889af33c191634bc",
       "version_major": 2,
       "version_minor": 0
      },
      "text/plain": [
       "  0%|          | 0/9 [00:00<?, ?it/s]"
      ]
     },
     "metadata": {},
     "output_type": "display_data"
    },
    {
     "data": {
      "application/vnd.jupyter.widget-view+json": {
       "model_id": "b177132b04ae4a43a774ebd73ebf4234",
       "version_major": 2,
       "version_minor": 0
      },
      "text/plain": [
       "  0%|          | 0/7 [00:00<?, ?it/s]"
      ]
     },
     "metadata": {},
     "output_type": "display_data"
    },
    {
     "data": {
      "application/vnd.jupyter.widget-view+json": {
       "model_id": "daab17dafccd4eb0b4a726505647d638",
       "version_major": 2,
       "version_minor": 0
      },
      "text/plain": [
       "  0%|          | 0/80 [00:00<?, ?it/s]"
      ]
     },
     "metadata": {},
     "output_type": "display_data"
    },
    {
     "data": {
      "application/vnd.jupyter.widget-view+json": {
       "model_id": "b574543501434960b216f83e57f6c45b",
       "version_major": 2,
       "version_minor": 0
      },
      "text/plain": [
       "  0%|          | 0/12 [00:00<?, ?it/s]"
      ]
     },
     "metadata": {},
     "output_type": "display_data"
    },
    {
     "data": {
      "application/vnd.jupyter.widget-view+json": {
       "model_id": "5bbc8d1af2e74d06b1e9543a917656c5",
       "version_major": 2,
       "version_minor": 0
      },
      "text/plain": [
       "  0%|          | 0/14 [00:00<?, ?it/s]"
      ]
     },
     "metadata": {},
     "output_type": "display_data"
    },
    {
     "data": {
      "application/vnd.jupyter.widget-view+json": {
       "model_id": "56c491e513a8464a88b8a7a6eb7b5dc7",
       "version_major": 2,
       "version_minor": 0
      },
      "text/plain": [
       "  0%|          | 0/8 [00:00<?, ?it/s]"
      ]
     },
     "metadata": {},
     "output_type": "display_data"
    },
    {
     "data": {
      "application/vnd.jupyter.widget-view+json": {
       "model_id": "fb80f04e3fda415c8c3e9b8a06c48834",
       "version_major": 2,
       "version_minor": 0
      },
      "text/plain": [
       "  0%|          | 0/10 [00:00<?, ?it/s]"
      ]
     },
     "metadata": {},
     "output_type": "display_data"
    },
    {
     "data": {
      "application/vnd.jupyter.widget-view+json": {
       "model_id": "5afa60bf2e5d438da4e2e7517ee586f8",
       "version_major": 2,
       "version_minor": 0
      },
      "text/plain": [
       "  0%|          | 0/26 [00:00<?, ?it/s]"
      ]
     },
     "metadata": {},
     "output_type": "display_data"
    },
    {
     "data": {
      "application/vnd.jupyter.widget-view+json": {
       "model_id": "36b0a91ae093494aae5eb44eb93d10a9",
       "version_major": 2,
       "version_minor": 0
      },
      "text/plain": [
       "  0%|          | 0/102 [00:00<?, ?it/s]"
      ]
     },
     "metadata": {},
     "output_type": "display_data"
    },
    {
     "data": {
      "application/vnd.jupyter.widget-view+json": {
       "model_id": "5a4298dc5a194a86abfa21ed27899a57",
       "version_major": 2,
       "version_minor": 0
      },
      "text/plain": [
       "  0%|          | 0/10 [00:00<?, ?it/s]"
      ]
     },
     "metadata": {},
     "output_type": "display_data"
    },
    {
     "data": {
      "application/vnd.jupyter.widget-view+json": {
       "model_id": "229a61f863314e6fba8aa8ef96bc8845",
       "version_major": 2,
       "version_minor": 0
      },
      "text/plain": [
       "  0%|          | 0/7 [00:00<?, ?it/s]"
      ]
     },
     "metadata": {},
     "output_type": "display_data"
    },
    {
     "data": {
      "application/vnd.jupyter.widget-view+json": {
       "model_id": "37db2ed2f8fb4334af236cc6f89765ff",
       "version_major": 2,
       "version_minor": 0
      },
      "text/plain": [
       "  0%|          | 0/7 [00:00<?, ?it/s]"
      ]
     },
     "metadata": {},
     "output_type": "display_data"
    },
    {
     "data": {
      "application/vnd.jupyter.widget-view+json": {
       "model_id": "90979c7cf9214856b725470f0b716a3c",
       "version_major": 2,
       "version_minor": 0
      },
      "text/plain": [
       "  0%|          | 0/8 [00:00<?, ?it/s]"
      ]
     },
     "metadata": {},
     "output_type": "display_data"
    },
    {
     "data": {
      "application/vnd.jupyter.widget-view+json": {
       "model_id": "51df8be5b6334bfc9e5fed0e1baf8222",
       "version_major": 2,
       "version_minor": 0
      },
      "text/plain": [
       "  0%|          | 0/36 [00:00<?, ?it/s]"
      ]
     },
     "metadata": {},
     "output_type": "display_data"
    },
    {
     "data": {
      "application/vnd.jupyter.widget-view+json": {
       "model_id": "7c25862b9f4e435e893543a8da63dbea",
       "version_major": 2,
       "version_minor": 0
      },
      "text/plain": [
       "  0%|          | 0/6 [00:00<?, ?it/s]"
      ]
     },
     "metadata": {},
     "output_type": "display_data"
    },
    {
     "data": {
      "application/vnd.jupyter.widget-view+json": {
       "model_id": "18f83aa957d04d6682b1bd2e970e0f25",
       "version_major": 2,
       "version_minor": 0
      },
      "text/plain": [
       "  0%|          | 0/14 [00:00<?, ?it/s]"
      ]
     },
     "metadata": {},
     "output_type": "display_data"
    },
    {
     "data": {
      "application/vnd.jupyter.widget-view+json": {
       "model_id": "bcf14eea7349442198c07ff37ad16b48",
       "version_major": 2,
       "version_minor": 0
      },
      "text/plain": [
       "  0%|          | 0/11 [00:00<?, ?it/s]"
      ]
     },
     "metadata": {},
     "output_type": "display_data"
    },
    {
     "data": {
      "application/vnd.jupyter.widget-view+json": {
       "model_id": "6856b6836dee4aefb7904dc9f893b9c0",
       "version_major": 2,
       "version_minor": 0
      },
      "text/plain": [
       "  0%|          | 0/5 [00:00<?, ?it/s]"
      ]
     },
     "metadata": {},
     "output_type": "display_data"
    },
    {
     "data": {
      "application/vnd.jupyter.widget-view+json": {
       "model_id": "7457704c07524e7e96d09462a058093e",
       "version_major": 2,
       "version_minor": 0
      },
      "text/plain": [
       "  0%|          | 0/41 [00:00<?, ?it/s]"
      ]
     },
     "metadata": {},
     "output_type": "display_data"
    },
    {
     "data": {
      "application/vnd.jupyter.widget-view+json": {
       "model_id": "d3baad7bd90b4933a63a74fe6fb56d05",
       "version_major": 2,
       "version_minor": 0
      },
      "text/plain": [
       "  0%|          | 0/5 [00:00<?, ?it/s]"
      ]
     },
     "metadata": {},
     "output_type": "display_data"
    },
    {
     "data": {
      "application/vnd.jupyter.widget-view+json": {
       "model_id": "d889ddf2cb31435ab8977938552ef287",
       "version_major": 2,
       "version_minor": 0
      },
      "text/plain": [
       "  0%|          | 0/28 [00:00<?, ?it/s]"
      ]
     },
     "metadata": {},
     "output_type": "display_data"
    },
    {
     "data": {
      "application/vnd.jupyter.widget-view+json": {
       "model_id": "a54f596f85fe4d1290738bef499a800f",
       "version_major": 2,
       "version_minor": 0
      },
      "text/plain": [
       "  0%|          | 0/32 [00:00<?, ?it/s]"
      ]
     },
     "metadata": {},
     "output_type": "display_data"
    },
    {
     "data": {
      "application/vnd.jupyter.widget-view+json": {
       "model_id": "b7b05d75aafa48e8ad8102ee659022ab",
       "version_major": 2,
       "version_minor": 0
      },
      "text/plain": [
       "  0%|          | 0/10 [00:00<?, ?it/s]"
      ]
     },
     "metadata": {},
     "output_type": "display_data"
    },
    {
     "data": {
      "application/vnd.jupyter.widget-view+json": {
       "model_id": "28ee515419b946cd9835c42c5b084c5a",
       "version_major": 2,
       "version_minor": 0
      },
      "text/plain": [
       "  0%|          | 0/19 [00:00<?, ?it/s]"
      ]
     },
     "metadata": {},
     "output_type": "display_data"
    },
    {
     "data": {
      "application/vnd.jupyter.widget-view+json": {
       "model_id": "6586074da83c491fb15a4d58d2db4251",
       "version_major": 2,
       "version_minor": 0
      },
      "text/plain": [
       "  0%|          | 0/63 [00:00<?, ?it/s]"
      ]
     },
     "metadata": {},
     "output_type": "display_data"
    },
    {
     "data": {
      "application/vnd.jupyter.widget-view+json": {
       "model_id": "37d31616b9094cda9f8454b3f532e794",
       "version_major": 2,
       "version_minor": 0
      },
      "text/plain": [
       "  0%|          | 0/2 [00:00<?, ?it/s]"
      ]
     },
     "metadata": {},
     "output_type": "display_data"
    },
    {
     "data": {
      "application/vnd.jupyter.widget-view+json": {
       "model_id": "cfc1057e7a084c91b7bc9ef7f8ea9a3f",
       "version_major": 2,
       "version_minor": 0
      },
      "text/plain": [
       "  0%|          | 0/3 [00:00<?, ?it/s]"
      ]
     },
     "metadata": {},
     "output_type": "display_data"
    },
    {
     "data": {
      "application/vnd.jupyter.widget-view+json": {
       "model_id": "b8e878b4af0344e8b59480d13e71290b",
       "version_major": 2,
       "version_minor": 0
      },
      "text/plain": [
       "  0%|          | 0/29 [00:00<?, ?it/s]"
      ]
     },
     "metadata": {},
     "output_type": "display_data"
    },
    {
     "data": {
      "application/vnd.jupyter.widget-view+json": {
       "model_id": "34b824e863e143e9ab42b6e2759b1dd4",
       "version_major": 2,
       "version_minor": 0
      },
      "text/plain": [
       "  0%|          | 0/9 [00:00<?, ?it/s]"
      ]
     },
     "metadata": {},
     "output_type": "display_data"
    },
    {
     "data": {
      "application/vnd.jupyter.widget-view+json": {
       "model_id": "dee396d4f3a440deb12118007c4f3ec3",
       "version_major": 2,
       "version_minor": 0
      },
      "text/plain": [
       "  0%|          | 0/8 [00:00<?, ?it/s]"
      ]
     },
     "metadata": {},
     "output_type": "display_data"
    },
    {
     "data": {
      "application/vnd.jupyter.widget-view+json": {
       "model_id": "1fa28692ede646adb062360eb48c2a6f",
       "version_major": 2,
       "version_minor": 0
      },
      "text/plain": [
       "  0%|          | 0/5 [00:00<?, ?it/s]"
      ]
     },
     "metadata": {},
     "output_type": "display_data"
    },
    {
     "data": {
      "application/vnd.jupyter.widget-view+json": {
       "model_id": "8878d48bad6c4619aa8ff752b9833fa2",
       "version_major": 2,
       "version_minor": 0
      },
      "text/plain": [
       "  0%|          | 0/5 [00:00<?, ?it/s]"
      ]
     },
     "metadata": {},
     "output_type": "display_data"
    },
    {
     "data": {
      "application/vnd.jupyter.widget-view+json": {
       "model_id": "7d2b539b37d1487d835fc397b51bfb42",
       "version_major": 2,
       "version_minor": 0
      },
      "text/plain": [
       "  0%|          | 0/59 [00:00<?, ?it/s]"
      ]
     },
     "metadata": {},
     "output_type": "display_data"
    },
    {
     "data": {
      "application/vnd.jupyter.widget-view+json": {
       "model_id": "09dd9cf30b6f486980f7f0d81bb6adc2",
       "version_major": 2,
       "version_minor": 0
      },
      "text/plain": [
       "  0%|          | 0/8 [00:00<?, ?it/s]"
      ]
     },
     "metadata": {},
     "output_type": "display_data"
    },
    {
     "data": {
      "application/vnd.jupyter.widget-view+json": {
       "model_id": "5addf53ffbca4c9cb4cf97eda9817099",
       "version_major": 2,
       "version_minor": 0
      },
      "text/plain": [
       "  0%|          | 0/1 [00:00<?, ?it/s]"
      ]
     },
     "metadata": {},
     "output_type": "display_data"
    },
    {
     "data": {
      "application/vnd.jupyter.widget-view+json": {
       "model_id": "edf39ff4e8144df59b1bf669bcea233d",
       "version_major": 2,
       "version_minor": 0
      },
      "text/plain": [
       "  0%|          | 0/37 [00:00<?, ?it/s]"
      ]
     },
     "metadata": {},
     "output_type": "display_data"
    },
    {
     "data": {
      "application/vnd.jupyter.widget-view+json": {
       "model_id": "d00f6fcdc233478693b78c2e0135feb4",
       "version_major": 2,
       "version_minor": 0
      },
      "text/plain": [
       "  0%|          | 0/3 [00:00<?, ?it/s]"
      ]
     },
     "metadata": {},
     "output_type": "display_data"
    },
    {
     "data": {
      "application/vnd.jupyter.widget-view+json": {
       "model_id": "b5897abef4eb4d2d9d097080efc97283",
       "version_major": 2,
       "version_minor": 0
      },
      "text/plain": [
       "  0%|          | 0/27 [00:00<?, ?it/s]"
      ]
     },
     "metadata": {},
     "output_type": "display_data"
    },
    {
     "data": {
      "application/vnd.jupyter.widget-view+json": {
       "model_id": "0e8c4e753b924ba0848fb09047b7b0fd",
       "version_major": 2,
       "version_minor": 0
      },
      "text/plain": [
       "  0%|          | 0/5 [00:00<?, ?it/s]"
      ]
     },
     "metadata": {},
     "output_type": "display_data"
    },
    {
     "data": {
      "application/vnd.jupyter.widget-view+json": {
       "model_id": "46c8ae351bdd4911a9e45b4da39687b3",
       "version_major": 2,
       "version_minor": 0
      },
      "text/plain": [
       "  0%|          | 0/8 [00:00<?, ?it/s]"
      ]
     },
     "metadata": {},
     "output_type": "display_data"
    },
    {
     "data": {
      "application/vnd.jupyter.widget-view+json": {
       "model_id": "04b9e4e79c2d4ffa8dda00764edfd4d0",
       "version_major": 2,
       "version_minor": 0
      },
      "text/plain": [
       "  0%|          | 0/35 [00:00<?, ?it/s]"
      ]
     },
     "metadata": {},
     "output_type": "display_data"
    },
    {
     "data": {
      "application/vnd.jupyter.widget-view+json": {
       "model_id": "878dd2c3e18e4cb99cd8fddb0cccd7c8",
       "version_major": 2,
       "version_minor": 0
      },
      "text/plain": [
       "  0%|          | 0/72 [00:00<?, ?it/s]"
      ]
     },
     "metadata": {},
     "output_type": "display_data"
    },
    {
     "data": {
      "application/vnd.jupyter.widget-view+json": {
       "model_id": "df21917dba7d4d4b9dc5dba2afda8c11",
       "version_major": 2,
       "version_minor": 0
      },
      "text/plain": [
       "  0%|          | 0/237 [00:00<?, ?it/s]"
      ]
     },
     "metadata": {},
     "output_type": "display_data"
    },
    {
     "data": {
      "application/vnd.jupyter.widget-view+json": {
       "model_id": "a7cd663d22c4406b8cc49bb9ca6ab7d4",
       "version_major": 2,
       "version_minor": 0
      },
      "text/plain": [
       "  0%|          | 0/73 [00:00<?, ?it/s]"
      ]
     },
     "metadata": {},
     "output_type": "display_data"
    },
    {
     "data": {
      "application/vnd.jupyter.widget-view+json": {
       "model_id": "4c4fc864ceba4be6bd1958b57ac065d2",
       "version_major": 2,
       "version_minor": 0
      },
      "text/plain": [
       "  0%|          | 0/13 [00:00<?, ?it/s]"
      ]
     },
     "metadata": {},
     "output_type": "display_data"
    },
    {
     "data": {
      "application/vnd.jupyter.widget-view+json": {
       "model_id": "17c6c3e5200c4aa3acbb01b7e087bff7",
       "version_major": 2,
       "version_minor": 0
      },
      "text/plain": [
       "  0%|          | 0/14 [00:00<?, ?it/s]"
      ]
     },
     "metadata": {},
     "output_type": "display_data"
    },
    {
     "data": {
      "application/vnd.jupyter.widget-view+json": {
       "model_id": "08a87f4e7a17429d950e45c7eaaad338",
       "version_major": 2,
       "version_minor": 0
      },
      "text/plain": [
       "  0%|          | 0/39 [00:00<?, ?it/s]"
      ]
     },
     "metadata": {},
     "output_type": "display_data"
    },
    {
     "data": {
      "application/vnd.jupyter.widget-view+json": {
       "model_id": "48339d6e0f554c449f3606e50cbfdca3",
       "version_major": 2,
       "version_minor": 0
      },
      "text/plain": [
       "  0%|          | 0/566 [00:00<?, ?it/s]"
      ]
     },
     "metadata": {},
     "output_type": "display_data"
    },
    {
     "data": {
      "application/vnd.jupyter.widget-view+json": {
       "model_id": "22d426c0cc7e41a0a852bc7ef9854778",
       "version_major": 2,
       "version_minor": 0
      },
      "text/plain": [
       "  0%|          | 0/37 [00:00<?, ?it/s]"
      ]
     },
     "metadata": {},
     "output_type": "display_data"
    },
    {
     "data": {
      "application/vnd.jupyter.widget-view+json": {
       "model_id": "ecdcc4c1bd2c4d158e063c5bc455dc67",
       "version_major": 2,
       "version_minor": 0
      },
      "text/plain": [
       "  0%|          | 0/26 [00:00<?, ?it/s]"
      ]
     },
     "metadata": {},
     "output_type": "display_data"
    },
    {
     "data": {
      "application/vnd.jupyter.widget-view+json": {
       "model_id": "c17011630e404c5fb2d3bad240779254",
       "version_major": 2,
       "version_minor": 0
      },
      "text/plain": [
       "  0%|          | 0/29 [00:00<?, ?it/s]"
      ]
     },
     "metadata": {},
     "output_type": "display_data"
    },
    {
     "data": {
      "application/vnd.jupyter.widget-view+json": {
       "model_id": "59ebe67f0a6048d197f1386811e4710c",
       "version_major": 2,
       "version_minor": 0
      },
      "text/plain": [
       "  0%|          | 0/47 [00:00<?, ?it/s]"
      ]
     },
     "metadata": {},
     "output_type": "display_data"
    },
    {
     "data": {
      "application/vnd.jupyter.widget-view+json": {
       "model_id": "f1a51b16b3bc425e8c686af05f693dce",
       "version_major": 2,
       "version_minor": 0
      },
      "text/plain": [
       "  0%|          | 0/64 [00:00<?, ?it/s]"
      ]
     },
     "metadata": {},
     "output_type": "display_data"
    },
    {
     "data": {
      "application/vnd.jupyter.widget-view+json": {
       "model_id": "b9151f0df3d3443d9f10b75aed7fc1e4",
       "version_major": 2,
       "version_minor": 0
      },
      "text/plain": [
       "  0%|          | 0/39 [00:00<?, ?it/s]"
      ]
     },
     "metadata": {},
     "output_type": "display_data"
    },
    {
     "data": {
      "application/vnd.jupyter.widget-view+json": {
       "model_id": "39517e32c1364d0a959e59b8e7bcc540",
       "version_major": 2,
       "version_minor": 0
      },
      "text/plain": [
       "  0%|          | 0/27 [00:00<?, ?it/s]"
      ]
     },
     "metadata": {},
     "output_type": "display_data"
    },
    {
     "data": {
      "application/vnd.jupyter.widget-view+json": {
       "model_id": "fa53236343c9446e873781f21eb8b6a0",
       "version_major": 2,
       "version_minor": 0
      },
      "text/plain": [
       "  0%|          | 0/33 [00:00<?, ?it/s]"
      ]
     },
     "metadata": {},
     "output_type": "display_data"
    },
    {
     "data": {
      "application/vnd.jupyter.widget-view+json": {
       "model_id": "1558b832aa104930942be47f1ac6ff10",
       "version_major": 2,
       "version_minor": 0
      },
      "text/plain": [
       "  0%|          | 0/14 [00:00<?, ?it/s]"
      ]
     },
     "metadata": {},
     "output_type": "display_data"
    },
    {
     "data": {
      "application/vnd.jupyter.widget-view+json": {
       "model_id": "682b3a7232ec46dfaa7fba982a82b7b0",
       "version_major": 2,
       "version_minor": 0
      },
      "text/plain": [
       "  0%|          | 0/12 [00:00<?, ?it/s]"
      ]
     },
     "metadata": {},
     "output_type": "display_data"
    },
    {
     "data": {
      "application/vnd.jupyter.widget-view+json": {
       "model_id": "cafaf1b41f124f15a93b0dc338fea287",
       "version_major": 2,
       "version_minor": 0
      },
      "text/plain": [
       "  0%|          | 0/69 [00:00<?, ?it/s]"
      ]
     },
     "metadata": {},
     "output_type": "display_data"
    },
    {
     "data": {
      "application/vnd.jupyter.widget-view+json": {
       "model_id": "8213b086fa29406bb45a0edee724cfa9",
       "version_major": 2,
       "version_minor": 0
      },
      "text/plain": [
       "  0%|          | 0/32 [00:00<?, ?it/s]"
      ]
     },
     "metadata": {},
     "output_type": "display_data"
    },
    {
     "data": {
      "application/vnd.jupyter.widget-view+json": {
       "model_id": "6fb8cfe5a53e4333acee798ed3a07f7b",
       "version_major": 2,
       "version_minor": 0
      },
      "text/plain": [
       "  0%|          | 0/18 [00:00<?, ?it/s]"
      ]
     },
     "metadata": {},
     "output_type": "display_data"
    },
    {
     "data": {
      "application/vnd.jupyter.widget-view+json": {
       "model_id": "971e78adb1f9440cb8af0dfc60949a55",
       "version_major": 2,
       "version_minor": 0
      },
      "text/plain": [
       "  0%|          | 0/373 [00:00<?, ?it/s]"
      ]
     },
     "metadata": {},
     "output_type": "display_data"
    },
    {
     "data": {
      "application/vnd.jupyter.widget-view+json": {
       "model_id": "b62519a0f0f347d5b5449b4b4aebba5b",
       "version_major": 2,
       "version_minor": 0
      },
      "text/plain": [
       "  0%|          | 0/20 [00:00<?, ?it/s]"
      ]
     },
     "metadata": {},
     "output_type": "display_data"
    },
    {
     "data": {
      "application/vnd.jupyter.widget-view+json": {
       "model_id": "6f156ee36dc04390b1bda71a17af2752",
       "version_major": 2,
       "version_minor": 0
      },
      "text/plain": [
       "  0%|          | 0/31 [00:00<?, ?it/s]"
      ]
     },
     "metadata": {},
     "output_type": "display_data"
    },
    {
     "data": {
      "application/vnd.jupyter.widget-view+json": {
       "model_id": "6ed475c9c36244f1a3750dc89b76f1ab",
       "version_major": 2,
       "version_minor": 0
      },
      "text/plain": [
       "  0%|          | 0/35 [00:00<?, ?it/s]"
      ]
     },
     "metadata": {},
     "output_type": "display_data"
    },
    {
     "data": {
      "application/vnd.jupyter.widget-view+json": {
       "model_id": "0647d0c1b74f4d0f86114c1efdf78ef4",
       "version_major": 2,
       "version_minor": 0
      },
      "text/plain": [
       "  0%|          | 0/28 [00:00<?, ?it/s]"
      ]
     },
     "metadata": {},
     "output_type": "display_data"
    },
    {
     "data": {
      "application/vnd.jupyter.widget-view+json": {
       "model_id": "ab361afcad014393988820e22b52d339",
       "version_major": 2,
       "version_minor": 0
      },
      "text/plain": [
       "  0%|          | 0/22 [00:00<?, ?it/s]"
      ]
     },
     "metadata": {},
     "output_type": "display_data"
    },
    {
     "data": {
      "application/vnd.jupyter.widget-view+json": {
       "model_id": "32a35aad57f34ba6948b0ed91cac6e06",
       "version_major": 2,
       "version_minor": 0
      },
      "text/plain": [
       "  0%|          | 0/33 [00:00<?, ?it/s]"
      ]
     },
     "metadata": {},
     "output_type": "display_data"
    },
    {
     "data": {
      "application/vnd.jupyter.widget-view+json": {
       "model_id": "705b6677551f4c9dbbb0ba2a0c639ba1",
       "version_major": 2,
       "version_minor": 0
      },
      "text/plain": [
       "  0%|          | 0/15 [00:00<?, ?it/s]"
      ]
     },
     "metadata": {},
     "output_type": "display_data"
    },
    {
     "data": {
      "application/vnd.jupyter.widget-view+json": {
       "model_id": "49d7155d72c84dc9b1973978e98a0a59",
       "version_major": 2,
       "version_minor": 0
      },
      "text/plain": [
       "  0%|          | 0/14 [00:00<?, ?it/s]"
      ]
     },
     "metadata": {},
     "output_type": "display_data"
    },
    {
     "data": {
      "application/vnd.jupyter.widget-view+json": {
       "model_id": "5b62f721b50e41848c3950b08558ab37",
       "version_major": 2,
       "version_minor": 0
      },
      "text/plain": [
       "  0%|          | 0/30 [00:00<?, ?it/s]"
      ]
     },
     "metadata": {},
     "output_type": "display_data"
    },
    {
     "data": {
      "application/vnd.jupyter.widget-view+json": {
       "model_id": "c005d4b2740040e685ac2b7d7e535bbf",
       "version_major": 2,
       "version_minor": 0
      },
      "text/plain": [
       "  0%|          | 0/32 [00:00<?, ?it/s]"
      ]
     },
     "metadata": {},
     "output_type": "display_data"
    },
    {
     "data": {
      "application/vnd.jupyter.widget-view+json": {
       "model_id": "19612200c91c4e2dacaa0affdcb11d7d",
       "version_major": 2,
       "version_minor": 0
      },
      "text/plain": [
       "  0%|          | 0/12 [00:00<?, ?it/s]"
      ]
     },
     "metadata": {},
     "output_type": "display_data"
    },
    {
     "data": {
      "application/vnd.jupyter.widget-view+json": {
       "model_id": "c7fdbd5251ec4423827fc306cf7772ea",
       "version_major": 2,
       "version_minor": 0
      },
      "text/plain": [
       "  0%|          | 0/19 [00:00<?, ?it/s]"
      ]
     },
     "metadata": {},
     "output_type": "display_data"
    },
    {
     "data": {
      "application/vnd.jupyter.widget-view+json": {
       "model_id": "97342325286c4c779e7bebe1bfb23bdd",
       "version_major": 2,
       "version_minor": 0
      },
      "text/plain": [
       "  0%|          | 0/26 [00:00<?, ?it/s]"
      ]
     },
     "metadata": {},
     "output_type": "display_data"
    },
    {
     "data": {
      "application/vnd.jupyter.widget-view+json": {
       "model_id": "8af36f86e723466d9178465834087fb5",
       "version_major": 2,
       "version_minor": 0
      },
      "text/plain": [
       "  0%|          | 0/17 [00:00<?, ?it/s]"
      ]
     },
     "metadata": {},
     "output_type": "display_data"
    },
    {
     "data": {
      "application/vnd.jupyter.widget-view+json": {
       "model_id": "c7a49bf2e08f41299ac96124f1e6401c",
       "version_major": 2,
       "version_minor": 0
      },
      "text/plain": [
       "  0%|          | 0/74 [00:00<?, ?it/s]"
      ]
     },
     "metadata": {},
     "output_type": "display_data"
    },
    {
     "data": {
      "application/vnd.jupyter.widget-view+json": {
       "model_id": "1c75e6e4b10341ccb9429052fcbe7c35",
       "version_major": 2,
       "version_minor": 0
      },
      "text/plain": [
       "  0%|          | 0/26 [00:00<?, ?it/s]"
      ]
     },
     "metadata": {},
     "output_type": "display_data"
    },
    {
     "data": {
      "application/vnd.jupyter.widget-view+json": {
       "model_id": "1e04c8adb260470eb34dd593f92a67f6",
       "version_major": 2,
       "version_minor": 0
      },
      "text/plain": [
       "  0%|          | 0/12 [00:00<?, ?it/s]"
      ]
     },
     "metadata": {},
     "output_type": "display_data"
    },
    {
     "data": {
      "application/vnd.jupyter.widget-view+json": {
       "model_id": "b6fa63a040ad4eb18a34fc98f10e6464",
       "version_major": 2,
       "version_minor": 0
      },
      "text/plain": [
       "  0%|          | 0/24 [00:00<?, ?it/s]"
      ]
     },
     "metadata": {},
     "output_type": "display_data"
    },
    {
     "data": {
      "application/vnd.jupyter.widget-view+json": {
       "model_id": "d665fa50c642458f93a29f4daa676077",
       "version_major": 2,
       "version_minor": 0
      },
      "text/plain": [
       "  0%|          | 0/35 [00:00<?, ?it/s]"
      ]
     },
     "metadata": {},
     "output_type": "display_data"
    },
    {
     "data": {
      "application/vnd.jupyter.widget-view+json": {
       "model_id": "f64058376dbf49d197abf29d170f7c99",
       "version_major": 2,
       "version_minor": 0
      },
      "text/plain": [
       "  0%|          | 0/9 [00:00<?, ?it/s]"
      ]
     },
     "metadata": {},
     "output_type": "display_data"
    },
    {
     "data": {
      "application/vnd.jupyter.widget-view+json": {
       "model_id": "3cfbb81c51924e2da84c16ab1a0d1b3e",
       "version_major": 2,
       "version_minor": 0
      },
      "text/plain": [
       "  0%|          | 0/20 [00:00<?, ?it/s]"
      ]
     },
     "metadata": {},
     "output_type": "display_data"
    },
    {
     "data": {
      "application/vnd.jupyter.widget-view+json": {
       "model_id": "0686abd6b9d24f32b8f9ec31c3f34d6b",
       "version_major": 2,
       "version_minor": 0
      },
      "text/plain": [
       "  0%|          | 0/14 [00:00<?, ?it/s]"
      ]
     },
     "metadata": {},
     "output_type": "display_data"
    },
    {
     "data": {
      "application/vnd.jupyter.widget-view+json": {
       "model_id": "3ba1d538854e46fba7f3c5ed22aceda7",
       "version_major": 2,
       "version_minor": 0
      },
      "text/plain": [
       "  0%|          | 0/23 [00:00<?, ?it/s]"
      ]
     },
     "metadata": {},
     "output_type": "display_data"
    },
    {
     "data": {
      "application/vnd.jupyter.widget-view+json": {
       "model_id": "75948485d23d48c4b87f7526d0e05258",
       "version_major": 2,
       "version_minor": 0
      },
      "text/plain": [
       "  0%|          | 0/24 [00:00<?, ?it/s]"
      ]
     },
     "metadata": {},
     "output_type": "display_data"
    },
    {
     "data": {
      "application/vnd.jupyter.widget-view+json": {
       "model_id": "a104ee28bcac4888a499f1cacf81c4b6",
       "version_major": 2,
       "version_minor": 0
      },
      "text/plain": [
       "  0%|          | 0/35 [00:00<?, ?it/s]"
      ]
     },
     "metadata": {},
     "output_type": "display_data"
    },
    {
     "data": {
      "application/vnd.jupyter.widget-view+json": {
       "model_id": "28c31b60fdf1427da72f57864370ccc8",
       "version_major": 2,
       "version_minor": 0
      },
      "text/plain": [
       "  0%|          | 0/29 [00:00<?, ?it/s]"
      ]
     },
     "metadata": {},
     "output_type": "display_data"
    },
    {
     "data": {
      "application/vnd.jupyter.widget-view+json": {
       "model_id": "fb2125179c29479c9624d9586d745692",
       "version_major": 2,
       "version_minor": 0
      },
      "text/plain": [
       "  0%|          | 0/23 [00:00<?, ?it/s]"
      ]
     },
     "metadata": {},
     "output_type": "display_data"
    },
    {
     "data": {
      "application/vnd.jupyter.widget-view+json": {
       "model_id": "001e5302f4f54c50abd06be69ef1a5cc",
       "version_major": 2,
       "version_minor": 0
      },
      "text/plain": [
       "  0%|          | 0/47 [00:00<?, ?it/s]"
      ]
     },
     "metadata": {},
     "output_type": "display_data"
    },
    {
     "data": {
      "application/vnd.jupyter.widget-view+json": {
       "model_id": "e69fb6c156414e2f99440c99da9de57b",
       "version_major": 2,
       "version_minor": 0
      },
      "text/plain": [
       "  0%|          | 0/45 [00:00<?, ?it/s]"
      ]
     },
     "metadata": {},
     "output_type": "display_data"
    },
    {
     "data": {
      "application/vnd.jupyter.widget-view+json": {
       "model_id": "073bdbf2330046d3acb260e0c34496bd",
       "version_major": 2,
       "version_minor": 0
      },
      "text/plain": [
       "  0%|          | 0/15 [00:00<?, ?it/s]"
      ]
     },
     "metadata": {},
     "output_type": "display_data"
    },
    {
     "data": {
      "application/vnd.jupyter.widget-view+json": {
       "model_id": "bbbc3968b90d4967a558f75823f3141a",
       "version_major": 2,
       "version_minor": 0
      },
      "text/plain": [
       "  0%|          | 0/36 [00:00<?, ?it/s]"
      ]
     },
     "metadata": {},
     "output_type": "display_data"
    },
    {
     "data": {
      "application/vnd.jupyter.widget-view+json": {
       "model_id": "dc773dc1fe984c40a74ddd7546a34966",
       "version_major": 2,
       "version_minor": 0
      },
      "text/plain": [
       "  0%|          | 0/17 [00:00<?, ?it/s]"
      ]
     },
     "metadata": {},
     "output_type": "display_data"
    },
    {
     "data": {
      "application/vnd.jupyter.widget-view+json": {
       "model_id": "94dd2ea7798b482bb321137c668df97d",
       "version_major": 2,
       "version_minor": 0
      },
      "text/plain": [
       "  0%|          | 0/27 [00:00<?, ?it/s]"
      ]
     },
     "metadata": {},
     "output_type": "display_data"
    },
    {
     "data": {
      "application/vnd.jupyter.widget-view+json": {
       "model_id": "fc53b98a58264f8e9fb658319e1a07f2",
       "version_major": 2,
       "version_minor": 0
      },
      "text/plain": [
       "  0%|          | 0/20 [00:00<?, ?it/s]"
      ]
     },
     "metadata": {},
     "output_type": "display_data"
    },
    {
     "data": {
      "application/vnd.jupyter.widget-view+json": {
       "model_id": "d49eb1b3606444079ae10d7f8a9b070c",
       "version_major": 2,
       "version_minor": 0
      },
      "text/plain": [
       "  0%|          | 0/22 [00:00<?, ?it/s]"
      ]
     },
     "metadata": {},
     "output_type": "display_data"
    },
    {
     "data": {
      "application/vnd.jupyter.widget-view+json": {
       "model_id": "bff4389114d847219efca93a43811f4d",
       "version_major": 2,
       "version_minor": 0
      },
      "text/plain": [
       "  0%|          | 0/45 [00:00<?, ?it/s]"
      ]
     },
     "metadata": {},
     "output_type": "display_data"
    },
    {
     "data": {
      "application/vnd.jupyter.widget-view+json": {
       "model_id": "e47d6205d7714fce81b01df5a9322248",
       "version_major": 2,
       "version_minor": 0
      },
      "text/plain": [
       "  0%|          | 0/20 [00:00<?, ?it/s]"
      ]
     },
     "metadata": {},
     "output_type": "display_data"
    },
    {
     "data": {
      "application/vnd.jupyter.widget-view+json": {
       "model_id": "d70b2f25ce87469faf8dd9c2efba1f1e",
       "version_major": 2,
       "version_minor": 0
      },
      "text/plain": [
       "  0%|          | 0/47 [00:00<?, ?it/s]"
      ]
     },
     "metadata": {},
     "output_type": "display_data"
    },
    {
     "data": {
      "application/vnd.jupyter.widget-view+json": {
       "model_id": "e14fb74ddfd64a93b349eb79b95cb695",
       "version_major": 2,
       "version_minor": 0
      },
      "text/plain": [
       "  0%|          | 0/35 [00:00<?, ?it/s]"
      ]
     },
     "metadata": {},
     "output_type": "display_data"
    },
    {
     "data": {
      "application/vnd.jupyter.widget-view+json": {
       "model_id": "0a8b023c914441ad839c982048ca917d",
       "version_major": 2,
       "version_minor": 0
      },
      "text/plain": [
       "  0%|          | 0/15 [00:00<?, ?it/s]"
      ]
     },
     "metadata": {},
     "output_type": "display_data"
    },
    {
     "data": {
      "application/vnd.jupyter.widget-view+json": {
       "model_id": "6c1975745a2c4f6db3b3eb8ba4c78c23",
       "version_major": 2,
       "version_minor": 0
      },
      "text/plain": [
       "  0%|          | 0/16 [00:00<?, ?it/s]"
      ]
     },
     "metadata": {},
     "output_type": "display_data"
    },
    {
     "data": {
      "application/vnd.jupyter.widget-view+json": {
       "model_id": "8d73bb5c00334691b714f34736904984",
       "version_major": 2,
       "version_minor": 0
      },
      "text/plain": [
       "  0%|          | 0/43 [00:00<?, ?it/s]"
      ]
     },
     "metadata": {},
     "output_type": "display_data"
    },
    {
     "data": {
      "application/vnd.jupyter.widget-view+json": {
       "model_id": "643b0804d3d344e697b44f2bd2faf3f3",
       "version_major": 2,
       "version_minor": 0
      },
      "text/plain": [
       "  0%|          | 0/72 [00:00<?, ?it/s]"
      ]
     },
     "metadata": {},
     "output_type": "display_data"
    },
    {
     "data": {
      "application/vnd.jupyter.widget-view+json": {
       "model_id": "1a191cd65b8c47928b99e6f8c4eb2333",
       "version_major": 2,
       "version_minor": 0
      },
      "text/plain": [
       "  0%|          | 0/44 [00:00<?, ?it/s]"
      ]
     },
     "metadata": {},
     "output_type": "display_data"
    },
    {
     "data": {
      "application/vnd.jupyter.widget-view+json": {
       "model_id": "5ec56046f1244d4c95c81a3893ca944c",
       "version_major": 2,
       "version_minor": 0
      },
      "text/plain": [
       "  0%|          | 0/31 [00:00<?, ?it/s]"
      ]
     },
     "metadata": {},
     "output_type": "display_data"
    },
    {
     "data": {
      "application/vnd.jupyter.widget-view+json": {
       "model_id": "3a60226496cf4c5f99a431a89d70d034",
       "version_major": 2,
       "version_minor": 0
      },
      "text/plain": [
       "  0%|          | 0/19 [00:00<?, ?it/s]"
      ]
     },
     "metadata": {},
     "output_type": "display_data"
    },
    {
     "data": {
      "application/vnd.jupyter.widget-view+json": {
       "model_id": "80c0e31ba2d84592b0b6212e961a6551",
       "version_major": 2,
       "version_minor": 0
      },
      "text/plain": [
       "  0%|          | 0/18 [00:00<?, ?it/s]"
      ]
     },
     "metadata": {},
     "output_type": "display_data"
    },
    {
     "data": {
      "application/vnd.jupyter.widget-view+json": {
       "model_id": "ddb8a8dfa5a14c41a2ba40eb9e02dd43",
       "version_major": 2,
       "version_minor": 0
      },
      "text/plain": [
       "  0%|          | 0/16 [00:00<?, ?it/s]"
      ]
     },
     "metadata": {},
     "output_type": "display_data"
    },
    {
     "data": {
      "application/vnd.jupyter.widget-view+json": {
       "model_id": "b1249626721f49fca82b00b77ab335df",
       "version_major": 2,
       "version_minor": 0
      },
      "text/plain": [
       "  0%|          | 0/140 [00:00<?, ?it/s]"
      ]
     },
     "metadata": {},
     "output_type": "display_data"
    },
    {
     "data": {
      "application/vnd.jupyter.widget-view+json": {
       "model_id": "5dc395371f224b418c2a8bb5d04baed3",
       "version_major": 2,
       "version_minor": 0
      },
      "text/plain": [
       "  0%|          | 0/28 [00:00<?, ?it/s]"
      ]
     },
     "metadata": {},
     "output_type": "display_data"
    },
    {
     "data": {
      "application/vnd.jupyter.widget-view+json": {
       "model_id": "fd97392a3d6d494c9f3a77554a86b463",
       "version_major": 2,
       "version_minor": 0
      },
      "text/plain": [
       "  0%|          | 0/41 [00:00<?, ?it/s]"
      ]
     },
     "metadata": {},
     "output_type": "display_data"
    },
    {
     "data": {
      "application/vnd.jupyter.widget-view+json": {
       "model_id": "8b77d21ed78f4783b374410736c84012",
       "version_major": 2,
       "version_minor": 0
      },
      "text/plain": [
       "  0%|          | 0/24 [00:00<?, ?it/s]"
      ]
     },
     "metadata": {},
     "output_type": "display_data"
    },
    {
     "data": {
      "application/vnd.jupyter.widget-view+json": {
       "model_id": "272bcd08197f41e4b1d59a10f7baa67e",
       "version_major": 2,
       "version_minor": 0
      },
      "text/plain": [
       "  0%|          | 0/32 [00:00<?, ?it/s]"
      ]
     },
     "metadata": {},
     "output_type": "display_data"
    },
    {
     "data": {
      "application/vnd.jupyter.widget-view+json": {
       "model_id": "78164667b89742bb9af814387acd2ace",
       "version_major": 2,
       "version_minor": 0
      },
      "text/plain": [
       "  0%|          | 0/17 [00:00<?, ?it/s]"
      ]
     },
     "metadata": {},
     "output_type": "display_data"
    },
    {
     "data": {
      "application/vnd.jupyter.widget-view+json": {
       "model_id": "71553e8223eb45a88ec51a8329a8f1f9",
       "version_major": 2,
       "version_minor": 0
      },
      "text/plain": [
       "  0%|          | 0/83 [00:00<?, ?it/s]"
      ]
     },
     "metadata": {},
     "output_type": "display_data"
    },
    {
     "data": {
      "application/vnd.jupyter.widget-view+json": {
       "model_id": "ee688c4176864b60aec53faebff1f9be",
       "version_major": 2,
       "version_minor": 0
      },
      "text/plain": [
       "  0%|          | 0/34 [00:00<?, ?it/s]"
      ]
     },
     "metadata": {},
     "output_type": "display_data"
    },
    {
     "data": {
      "application/vnd.jupyter.widget-view+json": {
       "model_id": "1cc2df36b46b42b492c29ecc49b7ff0a",
       "version_major": 2,
       "version_minor": 0
      },
      "text/plain": [
       "  0%|          | 0/13 [00:00<?, ?it/s]"
      ]
     },
     "metadata": {},
     "output_type": "display_data"
    },
    {
     "data": {
      "application/vnd.jupyter.widget-view+json": {
       "model_id": "c03af49db7f6403a966a2194d5e90719",
       "version_major": 2,
       "version_minor": 0
      },
      "text/plain": [
       "  0%|          | 0/16 [00:00<?, ?it/s]"
      ]
     },
     "metadata": {},
     "output_type": "display_data"
    },
    {
     "data": {
      "application/vnd.jupyter.widget-view+json": {
       "model_id": "ae0d3e148d18419b9a6ac182a42340d5",
       "version_major": 2,
       "version_minor": 0
      },
      "text/plain": [
       "  0%|          | 0/37 [00:00<?, ?it/s]"
      ]
     },
     "metadata": {},
     "output_type": "display_data"
    },
    {
     "data": {
      "application/vnd.jupyter.widget-view+json": {
       "model_id": "4fe25d72c39c414686b997cc43f1177c",
       "version_major": 2,
       "version_minor": 0
      },
      "text/plain": [
       "  0%|          | 0/22 [00:00<?, ?it/s]"
      ]
     },
     "metadata": {},
     "output_type": "display_data"
    },
    {
     "data": {
      "application/vnd.jupyter.widget-view+json": {
       "model_id": "62c228667a3d47ed94599ba5820ca2d5",
       "version_major": 2,
       "version_minor": 0
      },
      "text/plain": [
       "  0%|          | 0/41 [00:00<?, ?it/s]"
      ]
     },
     "metadata": {},
     "output_type": "display_data"
    },
    {
     "data": {
      "application/vnd.jupyter.widget-view+json": {
       "model_id": "3fc836a6d34a48b4a61de082e9621680",
       "version_major": 2,
       "version_minor": 0
      },
      "text/plain": [
       "  0%|          | 0/17 [00:00<?, ?it/s]"
      ]
     },
     "metadata": {},
     "output_type": "display_data"
    },
    {
     "data": {
      "application/vnd.jupyter.widget-view+json": {
       "model_id": "c30b3fd02413497987d43b038ce32d24",
       "version_major": 2,
       "version_minor": 0
      },
      "text/plain": [
       "  0%|          | 0/14 [00:00<?, ?it/s]"
      ]
     },
     "metadata": {},
     "output_type": "display_data"
    },
    {
     "data": {
      "application/vnd.jupyter.widget-view+json": {
       "model_id": "c5e88c2a8edf4049ab96830641b5655e",
       "version_major": 2,
       "version_minor": 0
      },
      "text/plain": [
       "  0%|          | 0/16 [00:00<?, ?it/s]"
      ]
     },
     "metadata": {},
     "output_type": "display_data"
    },
    {
     "data": {
      "application/vnd.jupyter.widget-view+json": {
       "model_id": "5ec3f5f5705b423587f35e1b77fe09ae",
       "version_major": 2,
       "version_minor": 0
      },
      "text/plain": [
       "  0%|          | 0/38 [00:00<?, ?it/s]"
      ]
     },
     "metadata": {},
     "output_type": "display_data"
    },
    {
     "data": {
      "application/vnd.jupyter.widget-view+json": {
       "model_id": "342e3b2f313243ea9e3f3a89a9f2e380",
       "version_major": 2,
       "version_minor": 0
      },
      "text/plain": [
       "  0%|          | 0/23 [00:00<?, ?it/s]"
      ]
     },
     "metadata": {},
     "output_type": "display_data"
    },
    {
     "data": {
      "application/vnd.jupyter.widget-view+json": {
       "model_id": "b7327320ce974966a22142b5183891ad",
       "version_major": 2,
       "version_minor": 0
      },
      "text/plain": [
       "  0%|          | 0/38 [00:00<?, ?it/s]"
      ]
     },
     "metadata": {},
     "output_type": "display_data"
    },
    {
     "data": {
      "application/vnd.jupyter.widget-view+json": {
       "model_id": "0c4755f4d8da4fb391e1817706ce490a",
       "version_major": 2,
       "version_minor": 0
      },
      "text/plain": [
       "  0%|          | 0/46 [00:00<?, ?it/s]"
      ]
     },
     "metadata": {},
     "output_type": "display_data"
    },
    {
     "data": {
      "application/vnd.jupyter.widget-view+json": {
       "model_id": "dae61f8fa9344b7c82b7a4c04e20e68a",
       "version_major": 2,
       "version_minor": 0
      },
      "text/plain": [
       "  0%|          | 0/20 [00:00<?, ?it/s]"
      ]
     },
     "metadata": {},
     "output_type": "display_data"
    },
    {
     "data": {
      "application/vnd.jupyter.widget-view+json": {
       "model_id": "863ff41a134b4a0da18fe441fa288c26",
       "version_major": 2,
       "version_minor": 0
      },
      "text/plain": [
       "  0%|          | 0/13 [00:00<?, ?it/s]"
      ]
     },
     "metadata": {},
     "output_type": "display_data"
    },
    {
     "data": {
      "application/vnd.jupyter.widget-view+json": {
       "model_id": "d6557fa9082f4dc7913a91a1bdb6ed5a",
       "version_major": 2,
       "version_minor": 0
      },
      "text/plain": [
       "  0%|          | 0/32 [00:00<?, ?it/s]"
      ]
     },
     "metadata": {},
     "output_type": "display_data"
    },
    {
     "data": {
      "application/vnd.jupyter.widget-view+json": {
       "model_id": "ffba77743850415997cfed828e485b57",
       "version_major": 2,
       "version_minor": 0
      },
      "text/plain": [
       "  0%|          | 0/20 [00:00<?, ?it/s]"
      ]
     },
     "metadata": {},
     "output_type": "display_data"
    },
    {
     "data": {
      "application/vnd.jupyter.widget-view+json": {
       "model_id": "632ae5edfa0e4da3881525081d7e7fc5",
       "version_major": 2,
       "version_minor": 0
      },
      "text/plain": [
       "  0%|          | 0/48 [00:00<?, ?it/s]"
      ]
     },
     "metadata": {},
     "output_type": "display_data"
    },
    {
     "data": {
      "application/vnd.jupyter.widget-view+json": {
       "model_id": "0c9e3a5862884b8bbd962147ab742d5f",
       "version_major": 2,
       "version_minor": 0
      },
      "text/plain": [
       "  0%|          | 0/152 [00:00<?, ?it/s]"
      ]
     },
     "metadata": {},
     "output_type": "display_data"
    },
    {
     "data": {
      "application/vnd.jupyter.widget-view+json": {
       "model_id": "ad2d9ee06019430f909f64d23dbe87db",
       "version_major": 2,
       "version_minor": 0
      },
      "text/plain": [
       "  0%|          | 0/67 [00:00<?, ?it/s]"
      ]
     },
     "metadata": {},
     "output_type": "display_data"
    },
    {
     "data": {
      "application/vnd.jupyter.widget-view+json": {
       "model_id": "c55beb3927d64f9994db21da46bf7963",
       "version_major": 2,
       "version_minor": 0
      },
      "text/plain": [
       "  0%|          | 0/34 [00:00<?, ?it/s]"
      ]
     },
     "metadata": {},
     "output_type": "display_data"
    },
    {
     "data": {
      "application/vnd.jupyter.widget-view+json": {
       "model_id": "3098c402c1ba44a29bc319dddaae4f53",
       "version_major": 2,
       "version_minor": 0
      },
      "text/plain": [
       "  0%|          | 0/38 [00:00<?, ?it/s]"
      ]
     },
     "metadata": {},
     "output_type": "display_data"
    },
    {
     "data": {
      "application/vnd.jupyter.widget-view+json": {
       "model_id": "03aacfab93dd4265aa76da51ea3acdca",
       "version_major": 2,
       "version_minor": 0
      },
      "text/plain": [
       "  0%|          | 0/16 [00:00<?, ?it/s]"
      ]
     },
     "metadata": {},
     "output_type": "display_data"
    },
    {
     "data": {
      "application/vnd.jupyter.widget-view+json": {
       "model_id": "515e0c4b74d04ecdaa9ceff5b5159b35",
       "version_major": 2,
       "version_minor": 0
      },
      "text/plain": [
       "  0%|          | 0/51 [00:00<?, ?it/s]"
      ]
     },
     "metadata": {},
     "output_type": "display_data"
    },
    {
     "data": {
      "application/vnd.jupyter.widget-view+json": {
       "model_id": "1f93859138a148798f023751c3d78f76",
       "version_major": 2,
       "version_minor": 0
      },
      "text/plain": [
       "  0%|          | 0/40 [00:00<?, ?it/s]"
      ]
     },
     "metadata": {},
     "output_type": "display_data"
    },
    {
     "data": {
      "application/vnd.jupyter.widget-view+json": {
       "model_id": "38fbad987c7c43bd81a41688e1a2cd66",
       "version_major": 2,
       "version_minor": 0
      },
      "text/plain": [
       "  0%|          | 0/67 [00:00<?, ?it/s]"
      ]
     },
     "metadata": {},
     "output_type": "display_data"
    },
    {
     "data": {
      "application/vnd.jupyter.widget-view+json": {
       "model_id": "22dfc6aba5b2464d86c62e1fbb0efaa7",
       "version_major": 2,
       "version_minor": 0
      },
      "text/plain": [
       "  0%|          | 0/20 [00:00<?, ?it/s]"
      ]
     },
     "metadata": {},
     "output_type": "display_data"
    },
    {
     "data": {
      "application/vnd.jupyter.widget-view+json": {
       "model_id": "fe9cd2b2c0c645ba95a20bab66dde531",
       "version_major": 2,
       "version_minor": 0
      },
      "text/plain": [
       "  0%|          | 0/68 [00:00<?, ?it/s]"
      ]
     },
     "metadata": {},
     "output_type": "display_data"
    },
    {
     "data": {
      "application/vnd.jupyter.widget-view+json": {
       "model_id": "1ef62bd9cddd4d11bc15b6187d2bbdf8",
       "version_major": 2,
       "version_minor": 0
      },
      "text/plain": [
       "  0%|          | 0/35 [00:00<?, ?it/s]"
      ]
     },
     "metadata": {},
     "output_type": "display_data"
    },
    {
     "data": {
      "application/vnd.jupyter.widget-view+json": {
       "model_id": "9aae1f924d224cf3a36cc8c90b9b285b",
       "version_major": 2,
       "version_minor": 0
      },
      "text/plain": [
       "  0%|          | 0/32 [00:00<?, ?it/s]"
      ]
     },
     "metadata": {},
     "output_type": "display_data"
    },
    {
     "data": {
      "application/vnd.jupyter.widget-view+json": {
       "model_id": "da8f7e19501447e9a755b70bbc29bb67",
       "version_major": 2,
       "version_minor": 0
      },
      "text/plain": [
       "  0%|          | 0/19 [00:00<?, ?it/s]"
      ]
     },
     "metadata": {},
     "output_type": "display_data"
    },
    {
     "data": {
      "application/vnd.jupyter.widget-view+json": {
       "model_id": "f87e1d823405455281667e219ee3cff0",
       "version_major": 2,
       "version_minor": 0
      },
      "text/plain": [
       "  0%|          | 0/52 [00:00<?, ?it/s]"
      ]
     },
     "metadata": {},
     "output_type": "display_data"
    },
    {
     "data": {
      "application/vnd.jupyter.widget-view+json": {
       "model_id": "bc95fdecb1a64ad3b39ed57fe845c657",
       "version_major": 2,
       "version_minor": 0
      },
      "text/plain": [
       "  0%|          | 0/46 [00:00<?, ?it/s]"
      ]
     },
     "metadata": {},
     "output_type": "display_data"
    },
    {
     "data": {
      "application/vnd.jupyter.widget-view+json": {
       "model_id": "a077cbaaa28d4bc0b8a63f6ca8a52742",
       "version_major": 2,
       "version_minor": 0
      },
      "text/plain": [
       "  0%|          | 0/25 [00:00<?, ?it/s]"
      ]
     },
     "metadata": {},
     "output_type": "display_data"
    },
    {
     "data": {
      "application/vnd.jupyter.widget-view+json": {
       "model_id": "c8d65223b70949728704236e4d26dbee",
       "version_major": 2,
       "version_minor": 0
      },
      "text/plain": [
       "  0%|          | 0/38 [00:00<?, ?it/s]"
      ]
     },
     "metadata": {},
     "output_type": "display_data"
    },
    {
     "data": {
      "application/vnd.jupyter.widget-view+json": {
       "model_id": "048274fceebc4acea534f519f3e0de06",
       "version_major": 2,
       "version_minor": 0
      },
      "text/plain": [
       "  0%|          | 0/16 [00:00<?, ?it/s]"
      ]
     },
     "metadata": {},
     "output_type": "display_data"
    },
    {
     "data": {
      "application/vnd.jupyter.widget-view+json": {
       "model_id": "9d754246bc384e68934df14c32c9b31b",
       "version_major": 2,
       "version_minor": 0
      },
      "text/plain": [
       "  0%|          | 0/22 [00:00<?, ?it/s]"
      ]
     },
     "metadata": {},
     "output_type": "display_data"
    },
    {
     "data": {
      "application/vnd.jupyter.widget-view+json": {
       "model_id": "80ba9f726c7648788fe121429ce46610",
       "version_major": 2,
       "version_minor": 0
      },
      "text/plain": [
       "  0%|          | 0/8 [00:00<?, ?it/s]"
      ]
     },
     "metadata": {},
     "output_type": "display_data"
    },
    {
     "data": {
      "application/vnd.jupyter.widget-view+json": {
       "model_id": "a9fc40e8e2ef45389ebcf51994af6adc",
       "version_major": 2,
       "version_minor": 0
      },
      "text/plain": [
       "  0%|          | 0/25 [00:00<?, ?it/s]"
      ]
     },
     "metadata": {},
     "output_type": "display_data"
    },
    {
     "data": {
      "application/vnd.jupyter.widget-view+json": {
       "model_id": "3b92601fd99942a8a0b929f281571c74",
       "version_major": 2,
       "version_minor": 0
      },
      "text/plain": [
       "  0%|          | 0/199 [00:00<?, ?it/s]"
      ]
     },
     "metadata": {},
     "output_type": "display_data"
    },
    {
     "name": "stdout",
     "output_type": "stream",
     "text": [
      "Synapsse Results:\n",
      "Total Number of Synapses = 7459\n",
      "n_valid_syn_ids_presyn = 176\n",
      "n_errored_syn_ids_presyn = 270\n",
      "n_valid_syn_ids_postsyn = 6896\n",
      "n_errored_syn_ids_postsyn = 117\n",
      "Synapsse Results:\n",
      "Total Number of Synapses = 7459\n",
      "n_valid_syn_ids_presyn = 176\n",
      "n_errored_syn_ids_presyn = 270\n",
      "n_valid_syn_ids_postsyn = 6896\n",
      "n_errored_syn_ids_postsyn = 117\n"
     ]
    },
    {
     "data": {
      "application/vnd.jupyter.widget-view+json": {
       "model_id": "72cf129aa6cf495799f9252346e2dce9",
       "version_major": 2,
       "version_minor": 0
      },
      "text/plain": [
       "0it [00:00, ?it/s]"
      ]
     },
     "metadata": {},
     "output_type": "display_data"
    },
    {
     "data": {
      "application/vnd.jupyter.widget-view+json": {
       "model_id": "22c58a1ac2344ebea76143cb53b59fae",
       "version_major": 2,
       "version_minor": 0
      },
      "text/plain": [
       "  0%|          | 0/1 [00:00<?, ?it/s]"
      ]
     },
     "metadata": {},
     "output_type": "display_data"
    },
    {
     "name": "stdout",
     "output_type": "stream",
     "text": [
      "Synapsse Results:\n",
      "Total Number of Synapses = 7459\n",
      "n_valid_syn_ids_presyn = 176\n",
      "n_errored_syn_ids_presyn = 270\n",
      "n_valid_syn_ids_postsyn = 6896\n",
      "n_errored_syn_ids_postsyn = 117\n",
      "Synapsse Results:\n",
      "Total Number of Synapses = 7459\n",
      "n_valid_syn_ids_presyn = 176\n",
      "n_errored_syn_ids_presyn = 270\n",
      "n_valid_syn_ids_postsyn = 6896\n",
      "n_errored_syn_ids_postsyn = 117\n"
     ]
    },
    {
     "data": {
      "application/vnd.jupyter.widget-view+json": {
       "model_id": "38c3257ecd0948dbb14bdcadb5ef955c",
       "version_major": 2,
       "version_minor": 0
      },
      "text/plain": [
       "0it [00:00, ?it/s]"
      ]
     },
     "metadata": {},
     "output_type": "display_data"
    },
    {
     "data": {
      "application/vnd.jupyter.widget-view+json": {
       "model_id": "740782256a9c4928a0054eb3c5763145",
       "version_major": 2,
       "version_minor": 0
      },
      "text/plain": [
       "  0%|          | 0/1 [00:00<?, ?it/s]"
      ]
     },
     "metadata": {},
     "output_type": "display_data"
    },
    {
     "name": "stdout",
     "output_type": "stream",
     "text": [
      "\n",
      "\n",
      "len(branch_attr_keys) = 1\n",
      "Saving Neuorn in suppress_output mode...please wait\n",
      "Saved File at location: /mnt/dj-stor01/platinum/minnie65/02/decomposition/864691136311791677_0_25_full_axon\n",
      "Save time = 531.2657647132874\n",
      "\n",
      "\n",
      " ***------ Total time for 864691136311791677 = 2744.9898869991302 ------ ***\n",
      "\n",
      "\n",
      "\n",
      "---- Working on Neuron 864691136618412685 ----\n",
      "Decompressing Neuron in minimal output mode...please wait\n",
      "Pulled from Table Decomposition so setting split_index = 0\n",
      "Dont need spine recalculation\n",
      "Number of Neurons found = 1\n",
      "\n",
      "Part 1: Axon like branchese \n",
      "{'L0': array([9]), 'L1': array([7]), 'L2': array([0, 1, 2, 6]), 'L4': array([ 0,  1,  2,  3,  4,  5,  6,  7,  8,  9, 10, 11, 12, 13, 14, 15, 16])}\n",
      "Limb L0 soma angle: 12.11 \n",
      "Limb L1 soma angle: 114.77 \n",
      "Limb L2 soma angle: 100.17 \n",
      "Limb L3 soma angle: 93.21 \n",
      "Limb L4 soma angle: 140.2 \n",
      "Limb L5 soma angle: 119.9 \n",
      "\n",
      "Part 2: possible_axon_limbs = [1, 2, 3, 4, 5]\n",
      "\n",
      "Phase 2: Working on Limb L1\n",
      "nodes_to_eliminate = [ 6 10 11 13]\n",
      "\n",
      "Phase 2: Working on Limb L2\n",
      "nodes_to_eliminate = [3]\n",
      "\n",
      "Phase 2: Working on Limb L3\n",
      "nodes_to_eliminate = [2 5]\n",
      "\n",
      "Phase 2: Working on Limb L4\n",
      "nodes_to_eliminate = []\n",
      "\n",
      "Phase 2: Working on Limb L5\n",
      "nodes_to_eliminate = [0]\n",
      "\n",
      "----Working on Limb L1-----\n",
      "No endpoints were eliminated so don't need to add back any candidates\n",
      "\n",
      "----Working on Limb L2-----\n",
      "No endpoints were eliminated so don't need to add back any candidates\n",
      "\n",
      "----Working on Limb L3-----\n",
      "No endpoints were eliminated so don't need to add back any candidates\n",
      "\n",
      "----Working on Limb L4-----\n",
      "No nodes were eliminated so don't need to add back any candidates\n",
      "\n",
      "----Working on Limb L5-----\n",
      "No endpoints were eliminated so don't need to add back any candidates\n",
      "Final Candidates\n",
      "\n",
      "Limb 1\n",
      "Candidate 0 (magenta): array([1])\n",
      "Candidate 1 (tan): array([7])\n",
      "Candidate 2 (crimson): array([0])\n",
      "Candidate 3 (blue): array([ 4,  5,  8,  9, 12])\n",
      "Candidate 4 (olive): array([2])\n",
      "Candidate 5 (green): array([3])\n",
      "\n",
      "Limb 2\n",
      "Candidate 0 (cadetblue): array([0, 1, 2, 4, 6])\n",
      "Candidate 1 (palegreen): array([5])\n",
      "\n",
      "Limb 3\n",
      "Candidate 0 (tan): array([3, 4, 6])\n",
      "Candidate 1 (cyan): array([0])\n",
      "Candidate 2 (palegreen): array([1])\n",
      "\n",
      "Limb 4\n",
      "Candidate 0 (crimson): array([ 0,  1,  2,  3,  4,  5,  6,  7,  8,  9, 10, 11, 12, 13, 14, 15, 16])\n",
      "\n",
      "Limb 5\n",
      "Candidate 0 (crimson): array([1])\n",
      "Candidate 1 (green): array([2])\n",
      "Part 3: axon_subgraph_candidates = {1: [[1], [7], [0], [4, 5, 8, 9, 12], [2], [3]], 2: [[0, 1, 2, 4, 6], [5]], 3: [[3, 4, 6], [0], [1]], 4: [[0, 1, 2, 3, 4, 5, 6, 7, 8, 9, 10, 11, 12, 13, 14, 15, 16]], 5: [[1], [2]]}\n",
      "\n",
      "\n",
      " --- Working on limb 1, candidate # 0\n",
      "0 out of 1 branches are axons\n",
      "Axon percentage = 0.0\n",
      "Not adding candidate no axon branches detected \n",
      "\n",
      "\n",
      " --- Working on limb 1, candidate # 1\n",
      "1 out of 1 branches are axons\n",
      "Axon percentage = 1.0\n",
      "curr_axon_angle_threshold = 95\n",
      "candidate_nodes = [ 7 10 13]\n",
      "non_axon_branches_on_subgraph = [10 13]\n",
      "endnodes_to_test = [0]\n",
      "Skeleton paths distances = [21278.60814592]\n",
      "Filtered indexes = [0]\n",
      "len(filtered_skeletons) = 1\n",
      "sk_angles = [149.50345337]\n",
      "candidate_angles,restr_skels = (array([149.50345337]), [array([[[1321960.55552441,  624467.25371813,  788809.59153695],\n",
      "        [1321901.48236404,  624386.97764918,  788801.54266683]],\n",
      "\n",
      "       [[1321901.48236404,  624386.97764918,  788801.54266683],\n",
      "        [1321842.15251312,  624306.88497894,  788793.48294981]],\n",
      "\n",
      "       [[1321842.15251312,  624306.88497894,  788793.48294981],\n",
      "        [1321778.77740877,  624230.02258413,  788784.7784445 ]],\n",
      "\n",
      "       [[1321778.77740877,  624230.02258413,  788784.7784445 ],\n",
      "        [1321715.26031123,  624153.28839323,  788776.04008925]],\n",
      "\n",
      "       [[1321715.26031123,  624153.28839323,  788776.04008925],\n",
      "        [1321647.66741698,  624080.23418909,  788766.3300993 ]],\n",
      "\n",
      "       [[1321647.66741698,  624080.23418909,  788766.3300993 ],\n",
      "        [1321579.94327536,  624007.31417976,  788756.5856962 ]],\n",
      "\n",
      "       [[1321579.94327536,  624007.31417976,  788756.5856962 ],\n",
      "        [1321508.0404733 ,  623938.66667174,  788745.74564559]],\n",
      "\n",
      "       [[1321508.0404733 ,  623938.66667174,  788745.74564559],\n",
      "        [1321436.13767123,  623870.01916372,  788734.90559497]],\n",
      "\n",
      "       [[1321436.13767123,  623870.01916372,  788734.90559497],\n",
      "        [1321386.32947286,  623903.67000775,  788717.3936492 ]],\n",
      "\n",
      "       [[1321386.32947286,  623903.67000775,  788717.3936492 ],\n",
      "        [1321307.04257425,  623958.1164505 ,  788690.04957606]],\n",
      "\n",
      "       [[1321307.04257425,  623958.1164505 ,  788690.04957606],\n",
      "        [1321228.19913673,  624013.70874603,  788663.72507704]],\n",
      "\n",
      "       [[1321228.19913673,  624013.70874603,  788663.72507704],\n",
      "        [1321150.27208836,  624071.27190015,  788638.94891067]],\n",
      "\n",
      "       [[1321150.27208836,  624071.27190015,  788638.94891067],\n",
      "        [1321072.95736589,  624129.90874405,  788614.81182429]],\n",
      "\n",
      "       [[1321072.95736589,  624129.90874405,  788614.81182429],\n",
      "        [1320996.13451165,  624189.40805984,  788591.18809709]],\n",
      "\n",
      "       [[1320996.13451165,  624189.40805984,  788591.18809709],\n",
      "        [1320920.70231706,  624250.81944779,  788567.9827291 ]],\n",
      "\n",
      "       [[1320920.70231706,  624250.81944779,  788567.9827291 ],\n",
      "        [1320845.9797912 ,  624313.04357499,  788544.6933705 ]],\n",
      "\n",
      "       [[1320845.9797912 ,  624313.04357499,  788544.6933705 ],\n",
      "        [1320772.73647457,  624376.94523566,  788521.19881084]],\n",
      "\n",
      "       [[1320772.73647457,  624376.94523566,  788521.19881084],\n",
      "        [1320701.4769944 ,  624442.84751801,  788497.25834691]],\n",
      "\n",
      "       [[1320701.4769944 ,  624442.84751801,  788497.25834691],\n",
      "        [1320631.63887111,  624510.18318336,  788472.9984065 ]],\n",
      "\n",
      "       [[1320631.63887111,  624510.18318336,  788472.9984065 ],\n",
      "        [1320565.89202016,  624581.23255237,  788448.06436033]],\n",
      "\n",
      "       [[1320565.89202016,  624581.23255237,  788448.06436033],\n",
      "        [1320501.15292967,  624653.19667929,  788422.96426871]],\n",
      "\n",
      "       [[1320501.15292967,  624653.19667929,  788422.96426871],\n",
      "        [1320443.39061034,  624730.6813712 ,  788397.29060902]],\n",
      "\n",
      "       [[1320443.39061034,  624730.6813712 ,  788397.29060902],\n",
      "        [1320387.21003152,  624809.21032094,  788371.58267769]],\n",
      "\n",
      "       [[1320387.21003152,  624809.21032094,  788371.58267769],\n",
      "        [1320338.32060139,  624892.52556682,  788345.72937182]],\n",
      "\n",
      "       [[1320338.32060139,  624892.52556682,  788345.72937182],\n",
      "        [1320293.00792214,  624977.67851446,  788319.9191938 ]],\n",
      "\n",
      "       [[1320293.00792214,  624977.67851446,  788319.9191938 ],\n",
      "        [1320254.23544985,  625066.19176038,  788294.1878765 ]],\n",
      "\n",
      "       [[1320254.23544985,  625066.19176038,  788294.1878765 ],\n",
      "        [1320221.09156247,  625156.81228598,  788268.54189866]],\n",
      "\n",
      "       [[1320221.09156247,  625156.81228598,  788268.54189866],\n",
      "        [1320192.88423416,  625249.28100449,  788242.97076791]],\n",
      "\n",
      "       [[1320192.88423416,  625249.28100449,  788242.97076791],\n",
      "        [1320171.80499925,  625343.49860528,  788217.35210861]],\n",
      "\n",
      "       [[1320171.80499925,  625343.49860528,  788217.35210861],\n",
      "        [1320153.6888941 ,  625438.44321186,  788191.71369182]],\n",
      "\n",
      "       [[1320153.6888941 ,  625438.44321186,  788191.71369182],\n",
      "        [1320143.24597575,  625534.37994236,  788165.67705202]],\n",
      "\n",
      "       [[1320143.24597575,  625534.37994236,  788165.67705202],\n",
      "        [1320134.05744911,  625630.47045471,  788139.56936924]],\n",
      "\n",
      "       [[1320134.05744911,  625630.47045471,  788139.56936924],\n",
      "        [1320131.87848296,  625726.73487981,  788112.58024981]],\n",
      "\n",
      "       [[1320131.87848296,  625726.73487981,  788112.58024981],\n",
      "        [1320130.40945428,  625822.94664525,  788085.41719524]],\n",
      "\n",
      "       [[1320130.40945428,  625822.94664525,  788085.41719524],\n",
      "        [1320133.3116033 ,  625918.83417838,  788057.18319939]],\n",
      "\n",
      "       [[1320133.3116033 ,  625918.83417838,  788057.18319939],\n",
      "        [1320137.01393483,  626014.57606099,  788028.59075929]],\n",
      "\n",
      "       [[1320137.01393483,  626014.57606099,  788028.59075929],\n",
      "        [1320143.00241658,  626109.90181483,  787998.97423111]],\n",
      "\n",
      "       [[1320143.00241658,  626109.90181483,  787998.97423111],\n",
      "        [1320149.53118122,  626205.04818379,  787968.91274228]],\n",
      "\n",
      "       [[1320149.53118122,  626205.04818379,  787968.91274228],\n",
      "        [1320156.94020643,  626299.9022884 ,  787938.12629746]],\n",
      "\n",
      "       [[1320156.94020643,  626299.9022884 ,  787938.12629746],\n",
      "        [1320164.56846207,  626394.64254495,  787907.04649238]],\n",
      "\n",
      "       [[1320164.56846207,  626394.64254495,  787907.04649238],\n",
      "        [1320172.40422828,  626489.27503966,  787875.68900981]],\n",
      "\n",
      "       [[1320172.40422828,  626489.27503966,  787875.68900981],\n",
      "        [1320180.47105648,  626583.94290155,  787844.49796373]],\n",
      "\n",
      "       [[1320180.47105648,  626583.94290155,  787844.49796373],\n",
      "        [1320188.65252122,  626678.62831012,  787813.38949161]],\n",
      "\n",
      "       [[1320188.65252122,  626678.62831012,  787813.38949161],\n",
      "        [1320197.81962465,  626773.47824224,  787783.07168953]],\n",
      "\n",
      "       [[1320197.81962465,  626773.47824224,  787783.07168953],\n",
      "        [1320207.32035351,  626868.36012978,  787752.95998275]],\n",
      "\n",
      "       [[1320207.32035351,  626868.36012978,  787752.95998275],\n",
      "        [1320219.20183333,  626963.28700828,  787723.84438256]],\n",
      "\n",
      "       [[1320219.20183333,  626963.28700828,  787723.84438256],\n",
      "        [1320232.29501064,  627058.07538186,  787694.85610425]],\n",
      "\n",
      "       [[1320232.29501064,  627058.07538186,  787694.85610425],\n",
      "        [1320248.1383222 ,  627152.54939713,  787666.15680256]],\n",
      "\n",
      "       [[1320248.1383222 ,  627152.54939713,  787666.15680256],\n",
      "        [1320266.77826373,  627246.31992421,  787636.94573087]],\n",
      "\n",
      "       [[1320266.77826373,  627246.31992421,  787636.94573087],\n",
      "        [1320287.4898121 ,  627339.56934161,  787607.35556497]],\n",
      "\n",
      "       [[1320287.4898121 ,  627339.56934161,  787607.35556497],\n",
      "        [1320312.39698861,  627431.07874879,  787575.70634795]],\n",
      "\n",
      "       [[1320312.39698861,  627431.07874879,  787575.70634795],\n",
      "        [1320338.59623365,  627521.90842533,  787543.16316123]],\n",
      "\n",
      "       [[1320338.59623365,  627521.90842533,  787543.16316123],\n",
      "        [1320368.03604828,  627610.64127699,  787507.66980481]],\n",
      "\n",
      "       [[1320368.03604828,  627610.64127699,  787507.66980481],\n",
      "        [1320398.42729061,  627698.25690197,  787470.33942986]],\n",
      "\n",
      "       [[1320398.42729061,  627698.25690197,  787470.33942986],\n",
      "        [1320429.90587653,  627784.59569923,  787430.90960971]],\n",
      "\n",
      "       [[1320429.90587653,  627784.59569923,  787430.90960971],\n",
      "        [1320461.19958554,  627869.61163513,  787388.59864639]],\n",
      "\n",
      "       [[1320461.19958554,  627869.61163513,  787388.59864639],\n",
      "        [1320492.11978739,  627954.18681945,  787345.13280556]],\n",
      "\n",
      "       [[1320492.11978739,  627954.18681945,  787345.13280556],\n",
      "        [1320520.76133001,  628038.22151831,  787299.11290309]],\n",
      "\n",
      "       [[1320520.76133001,  628038.22151831,  787299.11290309],\n",
      "        [1320547.03681922,  628122.49365631,  787252.19425991]],\n",
      "\n",
      "       [[1320547.03681922,  628122.49365631,  787252.19425991],\n",
      "        [1320570.9521034 ,  628207.00264653,  787204.37909753]],\n",
      "\n",
      "       [[1320570.9521034 ,  628207.00264653,  787204.37909753],\n",
      "        [1320589.08669323,  628292.74456501,  787156.24847405]],\n",
      "\n",
      "       [[1320589.08669323,  628292.74456501,  787156.24847405],\n",
      "        [1320604.05686376,  628379.32846016,  787108.63989739]],\n",
      "\n",
      "       [[1320604.05686376,  628379.32846016,  787108.63989739],\n",
      "        [1320614.84644522,  628467.06407745,  787061.88472237]],\n",
      "\n",
      "       [[1320614.84644522,  628467.06407745,  787061.88472237],\n",
      "        [1320619.92854665,  628556.73764775,  787017.98408859]],\n",
      "\n",
      "       [[1320619.92854665,  628556.73764775,  787017.98408859],\n",
      "        [1320622.2590203 ,  628647.51983112,  786976.26621203]],\n",
      "\n",
      "       [[1320622.2590203 ,  628647.51983112,  786976.26621203],\n",
      "        [1320621.42748717,  628739.64603675,  786937.38085762]],\n",
      "\n",
      "       [[1320621.42748717,  628739.64603675,  786937.38085762],\n",
      "        [1320617.27919635,  628833.47359813,  786903.11754054]],\n",
      "\n",
      "       [[1320617.27919635,  628833.47359813,  786903.11754054],\n",
      "        [1320611.79015698,  628927.99101532,  786871.03944638]],\n",
      "\n",
      "       [[1320611.79015698,  628927.99101532,  786871.03944638],\n",
      "        [1320604.33801511,  629023.52028486,  786842.4278361 ]],\n",
      "\n",
      "       [[1320604.33801511,  629023.52028486,  786842.4278361 ],\n",
      "        [1320595.22288351,  629119.61428694,  786816.38677875]],\n",
      "\n",
      "       [[1320595.22288351,  629119.61428694,  786816.38677875],\n",
      "        [1320585.29781236,  629215.98333536,  786791.59767891]],\n",
      "\n",
      "       [[1320585.29781236,  629215.98333536,  786791.59767891],\n",
      "        [1320572.73947868,  629312.58538863,  786769.01144834]],\n",
      "\n",
      "       [[1320572.73947868,  629312.58538863,  786769.01144834],\n",
      "        [1320559.35821542,  629409.11313542,  786746.6190293 ]],\n",
      "\n",
      "       [[1320559.35821542,  629409.11313542,  786746.6190293 ],\n",
      "        [1320543.63984232,  629505.40676756,  786724.69942262]],\n",
      "\n",
      "       [[1320543.63984232,  629505.40676756,  786724.69942262],\n",
      "        [1320526.231414  ,  629601.32092627,  786702.46973253]],\n",
      "\n",
      "       [[1320526.231414  ,  629601.32092627,  786702.46973253],\n",
      "        [1320507.04275146,  629696.83536339,  786679.91341343]],\n",
      "\n",
      "       [[1320507.04275146,  629696.83536339,  786679.91341343],\n",
      "        [1320485.33683895,  629791.56439499,  786656.41918289]],\n",
      "\n",
      "       [[1320485.33683895,  629791.56439499,  786656.41918289],\n",
      "        [1320462.57523358,  629885.96404054,  786632.53160786]],\n",
      "\n",
      "       [[1320462.57523358,  629885.96404054,  786632.53160786],\n",
      "        [1320436.61247874,  629979.17442342,  786607.30517842]],\n",
      "\n",
      "       [[1320436.61247874,  629979.17442342,  786607.30517842],\n",
      "        [1320409.97261694,  630072.11978835,  786581.81042441]],\n",
      "\n",
      "       [[1320409.97261694,  630072.11978835,  786581.81042441],\n",
      "        [1320380.04401822,  630163.71575724,  786555.08108732]],\n",
      "\n",
      "       [[1320380.04401822,  630163.71575724,  786555.08108732],\n",
      "        [1320348.96907662,  630254.79082874,  786527.96692217]],\n",
      "\n",
      "       [[1320348.96907662,  630254.79082874,  786527.96692217],\n",
      "        [1320314.9174593 ,  630344.51330091,  786499.85348506]],\n",
      "\n",
      "       [[1320314.9174593 ,  630344.51330091,  786499.85348506],\n",
      "        [1320278.54104638,  630432.99931964,  786470.90098849]],\n",
      "\n",
      "       [[1320278.54104638,  630432.99931964,  786470.90098849],\n",
      "        [1320239.50607146,  630520.07136971,  786440.98897035]],\n",
      "\n",
      "       [[1320239.50607146,  630520.07136971,  786440.98897035],\n",
      "        [1320196.46827167,  630604.52441453,  786409.32013798]],\n",
      "\n",
      "       [[1320196.46827167,  630604.52441453,  786409.32013798],\n",
      "        [1320151.501203  ,  630687.71515947,  786376.80456184]],\n",
      "\n",
      "       [[1320151.501203  ,  630687.71515947,  786376.80456184],\n",
      "        [1320100.57316053,  630765.97349184,  786341.09409359]],\n",
      "\n",
      "       [[1320100.57316053,  630765.97349184,  786341.09409359],\n",
      "        [1320047.90992758,  630842.53000976,  786304.34786729]],\n",
      "\n",
      "       [[1320047.90992758,  630842.53000976,  786304.34786729],\n",
      "        [1319989.96736683,  630913.51013347,  786264.29188531]],\n",
      "\n",
      "       [[1319989.96736683,  630913.51013347,  786264.29188531],\n",
      "        [1319929.35733255,  630980.93022797,  786222.39762877]],\n",
      "\n",
      "       [[1319929.35733255,  630980.93022797,  786222.39762877],\n",
      "        [1319865.77386882,  631044.38196229,  786178.45424985]],\n",
      "\n",
      "       [[1319865.77386882,  631044.38196229,  786178.45424985],\n",
      "        [1319798.70181182,  631102.16843045,  786132.10663004]],\n",
      "\n",
      "       [[1319798.70181182,  631102.16843045,  786132.10663004],\n",
      "        [1319730.30320274,  631157.72878076,  786084.88624096]],\n",
      "\n",
      "       [[1319730.30320274,  631157.72878076,  786084.88624096],\n",
      "        [1319658.92499437,  631207.84431336,  786035.96196516]],\n",
      "\n",
      "       [[1319658.92499437,  631207.84431336,  786035.96196516],\n",
      "        [1319586.39704785,  631255.8928569 ,  785986.7256779 ]],\n",
      "\n",
      "       [[1319586.39704785,  631255.8928569 ,  785986.7256779 ],\n",
      "        [1319512.49094605,  631301.46376507,  785937.11539222]],\n",
      "\n",
      "       [[1319512.49094605,  631301.46376507,  785937.11539222],\n",
      "        [1319436.78989317,  631344.40862417,  785887.88889375]],\n",
      "\n",
      "       [[1319436.78989317,  631344.40862417,  785887.88889375],\n",
      "        [1319360.14113353,  631386.27173111,  785839.20379419]],\n",
      "\n",
      "       [[1319360.14113353,  631386.27173111,  785839.20379419],\n",
      "        [1319282.0929949 ,  631426.76911298,  785791.57554504]],\n",
      "\n",
      "       [[1319282.0929949 ,  631426.76911298,  785791.57554504],\n",
      "        [1319202.27823819,  631466.34801323,  785746.17028189]]])])\n"
     ]
    },
    {
     "name": "stdout",
     "output_type": "stream",
     "text": [
      "base_final_widths = [58.29189308 72.2249088  69.13822629]\n",
      "overall_ais_width = 69.13822629480082\n",
      "ais_width = 66.55167605810944\n",
      "Not adding candidate the because AIS width was not higher than threshold (85): 66.55167605810944 \n",
      "\n",
      "\n",
      " --- Working on limb 1, candidate # 2\n",
      "0 out of 1 branches are axons\n",
      "Axon percentage = 0.0\n",
      "Not adding candidate no axon branches detected \n",
      "\n",
      "\n",
      " --- Working on limb 1, candidate # 3\n",
      "0 out of 5 branches are axons\n",
      "Axon percentage = 0.0\n",
      "Not adding candidate no axon branches detected \n",
      "\n",
      "\n",
      " --- Working on limb 1, candidate # 4\n",
      "0 out of 1 branches are axons\n",
      "Axon percentage = 0.0\n",
      "Not adding candidate no axon branches detected \n",
      "\n",
      "\n",
      " --- Working on limb 1, candidate # 5\n",
      "0 out of 1 branches are axons\n",
      "Axon percentage = 0.0\n",
      "Not adding candidate no axon branches detected \n",
      "\n",
      "\n",
      " --- Working on limb 2, candidate # 0\n",
      "4 out of 5 branches are axons\n",
      "Axon percentage = 0.8\n",
      "curr_axon_angle_threshold = 120\n",
      "candidate_nodes = [0 1 2 3 4 6]\n",
      "non_axon_branches_on_subgraph = [3 4]\n",
      "endnodes_to_test = []\n",
      "candidate_angles,restr_skels = (None, None)\n",
      "Not adding candidate because no angles (None) passed the threhold 120 \n",
      "\n",
      "\n",
      " --- Working on limb 2, candidate # 1\n",
      "0 out of 1 branches are axons\n",
      "Axon percentage = 0.0\n",
      "Not adding candidate no axon branches detected \n",
      "\n",
      "\n",
      " --- Working on limb 3, candidate # 0\n",
      "0 out of 3 branches are axons\n",
      "Axon percentage = 0.0\n",
      "Not adding candidate no axon branches detected \n",
      "\n",
      "\n",
      " --- Working on limb 3, candidate # 1\n",
      "0 out of 1 branches are axons\n",
      "Axon percentage = 0.0\n",
      "Not adding candidate no axon branches detected \n",
      "\n",
      "\n",
      " --- Working on limb 3, candidate # 2\n",
      "0 out of 1 branches are axons\n",
      "Axon percentage = 0.0\n",
      "Not adding candidate no axon branches detected \n",
      "\n",
      "\n",
      " --- Working on limb 4, candidate # 0\n",
      "17 out of 17 branches are axons\n",
      "Axon percentage = 1.0\n",
      "curr_axon_angle_threshold = 95\n",
      "candidate_nodes = [ 0  1  2  3  4  5  6  7  8  9 10 11 12 13 14 15 16]\n",
      "non_axon_branches_on_subgraph = []\n",
      "endnodes_to_test = [2947]\n",
      "Skeleton paths distances = [24933.07473038]\n",
      "Filtered indexes = [0]\n",
      "len(filtered_skeletons) = 1\n",
      "sk_angles = [177.25375196]\n",
      "candidate_angles,restr_skels = (array([177.25375196]), [array([[[1329236.13475215,  642360.65008763,  794522.03216974],\n",
      "        [1329236.06295219,  642460.63505093,  794520.54405322]],\n",
      "\n",
      "       [[1329236.06295219,  642460.63505093,  794520.54405322],\n",
      "        [1329237.07025881,  642560.62398806,  794519.92153788]],\n",
      "\n",
      "       [[1329237.07025881,  642560.62398806,  794519.92153788],\n",
      "        [1329239.33878287,  642660.59806124,  794520.11772965]],\n",
      "\n",
      "       [[1329239.33878287,  642660.59806124,  794520.11772965],\n",
      "        [1329243.34647934,  642760.51086495,  794521.2738983 ]],\n",
      "\n",
      "       [[1329243.34647934,  642760.51086495,  794521.2738983 ],\n",
      "        [1329248.54512683,  642860.35779904,  794523.02210082]],\n",
      "\n",
      "       [[1329248.54512683,  642860.35779904,  794523.02210082],\n",
      "        [1329254.78154166,  642960.13727981,  794525.23167826]],\n",
      "\n",
      "       [[1329254.78154166,  642960.13727981,  794525.23167826],\n",
      "        [1329261.52039339,  643059.88349144,  794527.52725612]],\n",
      "\n",
      "       [[1329261.52039339,  643059.88349144,  794527.52725612],\n",
      "        [1329266.73986923,  643159.73107921,  794528.45185302]],\n",
      "\n",
      "       [[1329266.73986923,  643159.73107921,  794528.45185302],\n",
      "        [1329266.91225756,  643259.62314284,  794525.15214948]],\n",
      "\n",
      "       [[1329266.91225756,  643259.62314284,  794525.15214948],\n",
      "        [1329261.13204914,  643359.00593773,  794515.90694893]],\n",
      "\n",
      "       [[1329261.13204914,  643359.00593773,  794515.90694893],\n",
      "        [1329253.25815119,  643457.82879458,  794502.8271317 ]],\n",
      "\n",
      "       [[1329253.25815119,  643457.82879458,  794502.8271317 ],\n",
      "        [1329245.70913715,  643556.41322805,  794487.87278128]],\n",
      "\n",
      "       [[1329245.70913715,  643556.41322805,  794487.87278128],\n",
      "        [1329239.20501826,  643654.89577543,  794471.80028224]],\n",
      "\n",
      "       [[1329239.20501826,  643654.89577543,  794471.80028224],\n",
      "        [1329233.86503838,  643753.31119217,  794454.89728592]],\n",
      "\n",
      "       [[1329233.86503838,  643753.31119217,  794454.89728592],\n",
      "        [1329229.96339994,  643851.64175868,  794437.12435969]],\n",
      "\n",
      "       [[1329229.96339994,  643851.64175868,  794437.12435969],\n",
      "        [1329227.08827695,  643949.90831255,  794418.82243412]],\n",
      "\n",
      "       [[1329227.08827695,  643949.90831255,  794418.82243412],\n",
      "        [1329224.89773293,  644048.14873411,  794400.28140164]],\n",
      "\n",
      "       [[1329224.89773293,  644048.14873411,  794400.28140164],\n",
      "        [1329223.43820798,  644146.37987004,  794381.61287944]],\n",
      "\n",
      "       [[1329223.43820798,  644146.37987004,  794381.61287944],\n",
      "        [1329222.56733915,  644244.72370883,  794363.51489007]],\n",
      "\n",
      "       [[1329222.56733915,  644244.72370883,  794363.51489007],\n",
      "        [1329221.96301619,  644343.15369231,  794345.89137848]],\n",
      "\n",
      "       [[1329221.96301619,  644343.15369231,  794345.89137848],\n",
      "        [1329221.88592806,  644441.86976534,  794329.91855831]],\n",
      "\n",
      "       [[1329221.88592806,  644441.86976534,  794329.91855831],\n",
      "        [1329222.17391251,  644540.80849913,  794315.49168062]],\n",
      "\n",
      "       [[1329222.17391251,  644540.80849913,  794315.49168062],\n",
      "        [1329222.87470747,  644639.99900945,  794302.81289715]],\n",
      "\n",
      "       [[1329222.87470747,  644639.99900945,  794302.81289715],\n",
      "        [1329224.41024189,  644739.51961012,  794293.37726132]],\n",
      "\n",
      "       [[1329224.41024189,  644739.51961012,  794293.37726132],\n",
      "        [1329226.25987578,  644839.16441865,  794285.1619715 ]],\n",
      "\n",
      "       [[1329226.25987578,  644839.16441865,  794285.1619715 ],\n",
      "        [1329229.55150254,  644939.05158687,  794281.95204219]],\n",
      "\n",
      "       [[1329229.55150254,  644939.05158687,  794281.95204219],\n",
      "        [1329233.17026983,  645038.94232372,  794279.90797744]],\n",
      "\n",
      "       [[1329233.17026983,  645038.94232372,  794279.90797744],\n",
      "        [1329238.09243341,  645138.78629632,  794282.54491554]],\n",
      "\n",
      "       [[1329238.09243341,  645138.78629632,  794282.54491554],\n",
      "        [1329243.36759085,  645238.50136752,  794287.23640863]],\n",
      "\n",
      "       [[1329243.36759085,  645238.50136752,  794287.23640863],\n",
      "        [1329249.21460373,  645338.00761653,  794295.25631195]],\n",
      "\n",
      "       [[1329249.21460373,  645338.00761653,  794295.25631195],\n",
      "        [1329254.67409135,  645437.23007306,  794306.20280541]],\n",
      "\n",
      "       [[1329254.67409135,  645437.23007306,  794306.20280541],\n",
      "        [1329259.90128371,  645536.28241515,  794318.90359229]],\n",
      "\n",
      "       [[1329259.90128371,  645536.28241515,  794318.90359229],\n",
      "        [1329262.35538018,  645634.96137335,  794334.85320544]],\n",
      "\n",
      "       [[1329262.35538018,  645634.96137335,  794334.85320544],\n",
      "        [1329263.28405601,  645733.50156949,  794351.64927277]],\n",
      "\n",
      "       [[1329263.28405601,  645733.50156949,  794351.64927277],\n",
      "        [1329259.37052563,  645831.65507745,  794370.37287164]],\n",
      "\n",
      "       [[1329259.37052563,  645831.65507745,  794370.37287164],\n",
      "        [1329250.99844073,  645929.29697064,  794389.77452991]],\n",
      "\n",
      "       [[1329250.99844073,  645929.29697064,  794389.77452991],\n",
      "        [1329238.39628394,  646026.45346721,  794409.81949983]],\n",
      "\n",
      "       [[1329238.39628394,  646026.45346721,  794409.81949983],\n",
      "        [1329217.69902838,  646122.05258777,  794430.23444601]],\n",
      "\n",
      "       [[1329217.69902838,  646122.05258777,  794430.23444601],\n",
      "        [1329194.45561711,  646217.0986228 ,  794450.71893894]],\n",
      "\n",
      "       [[1329194.45561711,  646217.0986228 ,  794450.71893894],\n",
      "        [1329162.59090864,  646309.68919643,  794471.00750785]],\n",
      "\n",
      "       [[1329162.59090864,  646309.68919643,  794471.00750785],\n",
      "        [1329128.81207625,  646401.58344432,  794491.0906705 ]],\n",
      "\n",
      "       [[1329128.81207625,  646401.58344432,  794491.0906705 ],\n",
      "        [1329089.96159399,  646491.63271222,  794510.62959011]],\n",
      "\n",
      "       [[1329089.96159399,  646491.63271222,  794510.62959011],\n",
      "        [1329049.59270026,  646581.09304495,  794529.68246058]],\n",
      "\n",
      "       [[1329049.59270026,  646581.09304495,  794529.68246058],\n",
      "        [1329007.02166081,  646669.6992475 ,  794548.03041606]],\n",
      "\n",
      "       [[1329007.02166081,  646669.6992475 ,  794548.03041606],\n",
      "        [1328964.36696661,  646758.41109827,  794565.6427207 ]],\n",
      "\n",
      "       [[1328964.36696661,  646758.41109827,  794565.6427207 ],\n",
      "        [1328921.62383504,  646847.23463729,  794582.47731662]],\n",
      "\n",
      "       [[1328921.62383504,  646847.23463729,  794582.47731662],\n",
      "        [1328880.57019511,  646936.99198252,  794598.42065497]],\n",
      "\n",
      "       [[1328880.57019511,  646936.99198252,  794598.42065497],\n",
      "        [1328841.0217541 ,  647027.58127273,  794613.5699557 ]],\n",
      "\n",
      "       [[1328841.0217541 ,  647027.58127273,  794613.5699557 ],\n",
      "        [1328804.79905313,  647119.64311826,  794627.75898437]],\n",
      "\n",
      "       [[1328804.79905313,  647119.64311826,  794627.75898437],\n",
      "        [1328771.20947708,  647212.87084629,  794641.18772621]],\n",
      "\n",
      "       [[1328771.20947708,  647212.87084629,  794641.18772621],\n",
      "        [1328742.16547895,  647307.66157566,  794653.6139599 ]],\n",
      "\n",
      "       [[1328742.16547895,  647307.66157566,  794653.6139599 ],\n",
      "        [1328716.27987945,  647403.53832344,  794665.34362201]],\n",
      "\n",
      "       [[1328716.27987945,  647403.53832344,  794665.34362201],\n",
      "        [1328695.61459272,  647500.71158999,  794675.97378443]],\n",
      "\n",
      "       [[1328695.61459272,  647500.71158999,  794675.97378443],\n",
      "        [1328677.94586996,  647598.62908426,  794685.97281202]],\n",
      "\n",
      "       [[1328677.94586996,  647598.62908426,  794685.97281202],\n",
      "        [1328665.6643265 ,  647697.42559727,  794694.64123583]],\n",
      "\n",
      "       [[1328665.6643265 ,  647697.42559727,  794694.64123583],\n",
      "        [1328655.64776815,  647796.59168484,  794702.75022072]],\n",
      "\n",
      "       [[1328655.64776815,  647796.59168484,  794702.75022072],\n",
      "        [1328650.82885745,  647896.23767379,  794709.09500421]],\n",
      "\n",
      "       [[1328650.82885745,  647896.23767379,  794709.09500421],\n",
      "        [1328647.2424403 ,  647995.99745948,  794715.02145097]],\n",
      "\n",
      "       [[1328647.2424403 ,  647995.99745948,  794715.02145097],\n",
      "        [1328648.47334005,  648095.92344974,  794718.49493194]],\n",
      "\n",
      "       [[1328648.47334005,  648095.92344974,  794718.49493194],\n",
      "        [1328650.5299798 ,  648195.84466549,  794721.38643249]],\n",
      "\n",
      "       [[1328650.5299798 ,  648195.84466549,  794721.38643249],\n",
      "        [1328655.76575675,  648295.70648309,  794721.83812369]],\n",
      "\n",
      "       [[1328655.76575675,  648295.70648309,  794721.83812369],\n",
      "        [1328662.26689232,  648395.46753028,  794720.97324425]],\n",
      "\n",
      "       [[1328662.26689232,  648395.46753028,  794720.97324425],\n",
      "        [1328670.55397399,  648495.08634862,  794718.25013729]],\n",
      "\n",
      "       [[1328670.55397399,  648495.08634862,  794718.25013729],\n",
      "        [1328680.78857114,  648594.41741392,  794713.28551749]],\n",
      "\n",
      "       [[1328680.78857114,  648594.41741392,  794713.28551749],\n",
      "        [1328691.88642911,  648693.62092907,  794707.32731884]],\n",
      "\n",
      "       [[1328691.88642911,  648693.62092907,  794707.32731884],\n",
      "        [1328705.80152357,  648792.2399473 ,  794698.37121822]],\n",
      "\n",
      "       [[1328705.80152357,  648792.2399473 ,  794698.37121822],\n",
      "        [1328720.49699359,  648890.66328656,  794688.68532097]],\n",
      "\n",
      "       [[1328720.49699359,  648890.66328656,  794688.68532097],\n",
      "        [1328737.4610301 ,  648988.50764495,  794676.90809737]],\n",
      "\n",
      "       [[1328737.4610301 ,  648988.50764495,  794676.90809737],\n",
      "        [1328755.75225479,  649085.95747729,  794664.04614441]],\n",
      "\n",
      "       [[1328755.75225479,  649085.95747729,  794664.04614441],\n",
      "        [1328775.55844981,  649182.95696258,  794649.94598512]],\n",
      "\n",
      "       [[1328775.55844981,  649182.95696258,  794649.94598512],\n",
      "        [1328796.97262258,  649279.41299178,  794634.60424088]],\n",
      "\n",
      "       [[1328796.97262258,  649279.41299178,  794634.60424088],\n",
      "        [1328819.22251996,  649375.58656706,  794618.61719973]],\n",
      "\n",
      "       [[1328819.22251996,  649375.58656706,  794618.61719973],\n",
      "        [1328842.9697978 ,  649471.19056371,  794601.4404573 ]],\n",
      "\n",
      "       [[1328842.9697978 ,  649471.19056371,  794601.4404573 ],\n",
      "        [1328867.05631701,  649566.66551859,  794583.99418024]],\n",
      "\n",
      "       [[1328867.05631701,  649566.66551859,  794583.99418024],\n",
      "        [1328892.13621976,  649661.70630838,  794565.60571829]],\n",
      "\n",
      "       [[1328892.13621976,  649661.70630838,  794565.60571829],\n",
      "        [1328917.27050238,  649756.718471  ,  794547.14094536]],\n",
      "\n",
      "       [[1328917.27050238,  649756.718471  ,  794547.14094536],\n",
      "        [1328942.41566059,  649851.66180132,  794528.33974733]],\n",
      "\n",
      "       [[1328942.41566059,  649851.66180132,  794528.33974733],\n",
      "        [1328967.29904226,  649946.69539822,  794509.65687886]],\n",
      "\n",
      "       [[1328967.29904226,  649946.69539822,  794509.65687886],\n",
      "        [1328991.07614948,  650042.11046404,  794491.47407421]],\n",
      "\n",
      "       [[1328991.07614948,  650042.11046404,  794491.47407421],\n",
      "        [1329013.85625434,  650137.87802233,  794473.97288179]],\n",
      "\n",
      "       [[1329013.85625434,  650137.87802233,  794473.97288179],\n",
      "        [1329034.52636528,  650234.39157378,  794457.91421123]],\n",
      "\n",
      "       [[1329034.52636528,  650234.39157378,  794457.91421123],\n",
      "        [1329052.85507891,  650331.62358759,  794443.81706787]],\n",
      "\n",
      "       [[1329052.85507891,  650331.62358759,  794443.81706787],\n",
      "        [1329068.50509947,  650429.67756362,  794431.96402436]],\n",
      "\n",
      "       [[1329068.50509947,  650429.67756362,  794431.96402436],\n",
      "        [1329079.94774757,  650528.61807231,  794424.29735252]],\n",
      "\n",
      "       [[1329079.94774757,  650528.61807231,  794424.29735252],\n",
      "        [1329088.92958354,  650628.07709709,  794419.07920984]],\n",
      "\n",
      "       [[1329088.92958354,  650628.07709709,  794419.07920984],\n",
      "        [1329091.86980727,  650727.91234094,  794421.01157478]],\n",
      "\n",
      "       [[1329091.86980727,  650727.91234094,  794421.01157478],\n",
      "        [1329093.39585335,  650827.83564749,  794424.6176797 ]],\n",
      "\n",
      "       [[1329093.39585335,  650827.83564749,  794424.6176797 ],\n",
      "        [1329088.00134915,  650926.75767896,  794438.18994824]],\n",
      "\n",
      "       [[1329088.00134915,  650926.75767896,  794438.18994824],\n",
      "        [1329081.68197663,  651025.29280064,  794453.45059371]],\n",
      "\n",
      "       [[1329081.68197663,  651025.29280064,  794453.45059371],\n",
      "        [1329070.88172601,  651121.87958564,  794476.99518015]],\n",
      "\n",
      "       [[1329070.88172601,  651121.87958564,  794476.99518015],\n",
      "        [1329059.07983438,  651217.54977787,  794503.22682391]],\n",
      "\n",
      "       [[1329059.07983438,  651217.54977787,  794503.22682391],\n",
      "        [1329045.0864457 ,  651311.21455063,  794535.3374984 ]],\n",
      "\n",
      "       [[1329045.0864457 ,  651311.21455063,  794535.3374984 ],\n",
      "        [1329030.58409079,  651403.67913241,  794570.37115103]],\n",
      "\n",
      "       [[1329030.58409079,  651403.67913241,  794570.37115103],\n",
      "        [1329015.45437905,  651494.66434688,  794609.00769554]],\n",
      "\n",
      "       [[1329015.45437905,  651494.66434688,  794609.00769554],\n",
      "        [1329000.54209055,  651584.57942202,  794650.0888681 ]],\n",
      "\n",
      "       [[1329000.54209055,  651584.57942202,  794650.0888681 ],\n",
      "        [1328985.78873455,  651673.71224446,  794692.95702004]],\n",
      "\n",
      "       [[1328985.78873455,  651673.71224446,  794692.95702004],\n",
      "        [1328971.82540639,  651762.24319106,  794737.29719856]],\n",
      "\n",
      "       [[1328971.82540639,  651762.24319106,  794737.29719856],\n",
      "        [1328958.17413709,  651850.53639833,  794782.2188236 ]],\n",
      "\n",
      "       [[1328958.17413709,  651850.53639833,  794782.2188236 ],\n",
      "        [1328945.36512826,  651938.81228126,  794827.42042741]],\n",
      "\n",
      "       [[1328945.36512826,  651938.81228126,  794827.42042741],\n",
      "        [1328932.68000393,  652027.10653468,  794872.62194604]]])])\n"
     ]
    },
    {
     "name": "stdout",
     "output_type": "stream",
     "text": [
      "base_final_widths = [147.68556534 183.60707013 202.17257185]\n",
      "overall_ais_width = 169.19820698231223\n",
      "ais_width = 177.82173577295717\n",
      "Adding the following branches as true axons: [ 0.  1.  2.  3.  4.  5.  6.  7.  8.  9. 10. 11. 12. 13. 14. 15. 16.]\n",
      "curr_soma_angle = 140.2\n",
      "max_axon_angle = 177.2537519612904\n",
      "Changing to a better axon candidate\n",
      "\n",
      "\n",
      " --- Working on limb 5, candidate # 0\n",
      "0 out of 1 branches are axons\n",
      "Axon percentage = 0.0\n",
      "Not adding candidate no axon branches detected \n",
      "\n",
      "\n",
      " --- Working on limb 5, candidate # 1\n",
      "0 out of 1 branches are axons\n",
      "Axon percentage = 0.0\n",
      "Not adding candidate no axon branches detected \n",
      "Using the best axon approach\n",
      "Using True\n",
      "Limb L4: Axon branches before dendritic path filter = [ 0.  1.  2.  3.  4.  5.  6.  7.  8.  9. 10. 11. 12. 13. 14. 15. 16.]\n",
      "Limb L4: Axon branches AFTER dendritic path filter = [ 0.  1.  2.  3.  4.  5.  6.  7.  8.  9. 10. 11. 12. 13. 14. 15. 16.]\n",
      "\n",
      "\n",
      "Part 4: final_true_axons = {'L4': array([ 0.,  1.,  2.,  3.,  4.,  5.,  6.,  7.,  8.,  9., 10., 11., 12.,\n",
      "       13., 14., 15., 16.])}\n",
      "\n",
      "--- Working on filter 0:\n",
      "function = dendrite_on_axon_merges\n",
      "function __name__ = filter_away_dendrite_on_axon_merges\n",
      "function arguments = {'use_pre_existing_axon_labels': True}\n",
      "\n",
      "\n",
      "\n",
      "\n",
      "\n",
      " ---- Total time for applying filter: 0.20524358749389648 -----\n",
      "Starting axon branch was the starting node so using border vertices and NOT computing upstream branch\n",
      "upstream_node_to_axon_starting_branch = None\n"
     ]
    },
    {
     "name": "stderr",
     "output_type": "stream",
     "text": [
      "\r",
      "  0%|          | 0/1 [00:00<?, ?it/s]"
     ]
    },
    {
     "name": "stdout",
     "output_type": "stream",
     "text": [
      "root_curr = [1331676.   632825.1  796523.6]\n",
      "Time for preparing soma vertices and root: 0.0005834102630615234\n",
      "invalidation_d = 2000\n",
      "cc_vertex_thresh = 10\n"
     ]
    },
    {
     "data": {
      "application/vnd.jupyter.widget-view+json": {
       "model_id": "c8051cc035a248558b202d0c904909d6",
       "version_major": 2,
       "version_minor": 0
      },
      "text/plain": [
       "  0%|          | 0/28387 [00:00<?, ?it/s]"
      ]
     },
     "metadata": {},
     "output_type": "display_data"
    },
    {
     "name": "stderr",
     "output_type": "stream",
     "text": [
      "100%|██████████| 1/1 [00:00<00:00,  2.62it/s]\n"
     ]
    },
    {
     "name": "stdout",
     "output_type": "stream",
     "text": [
      "meshparty_segment_size = 100\n",
      "Time for 1st pass MP skeletonization: 1.124457836151123\n",
      "branches_touching_root = [3]\n",
      "combining close nodes\n",
      "combine_threshold = 1300\n",
      "length of Graph = 7918\n",
      "After combining close endpoints max(kept_branches_idx) = 34, len(kept_branches_idx) = 32\n",
      "empty_indices % = 0.0\n",
      " conflict_indices % = 0.012060141321479803\n"
     ]
    },
    {
     "data": {
      "application/vnd.jupyter.widget-view+json": {
       "model_id": "e477f11cb5e74b9fa015e71fa540abe2",
       "version_major": 2,
       "version_minor": 0
      },
      "text/plain": [
       "  0%|          | 0/14 [00:00<?, ?it/s]"
      ]
     },
     "metadata": {},
     "output_type": "display_data"
    },
    {
     "name": "stdout",
     "output_type": "stream",
     "text": [
      "AFTER face_lookup_resolved_test\n"
     ]
    },
    {
     "data": {
      "application/vnd.jupyter.widget-view+json": {
       "model_id": "dab3e500be584686a37026a23133cdcc",
       "version_major": 2,
       "version_minor": 0
      },
      "text/plain": [
       "  0%|          | 0/32 [00:00<?, ?it/s]"
      ]
     },
     "metadata": {},
     "output_type": "display_data"
    },
    {
     "name": "stdout",
     "output_type": "stream",
     "text": [
      "Decomposing first pass: 7.2047765254974365\n",
      "Only Using MeshParty Skeletonization and Mesh Correspondence\n",
      "Another print\n",
      "Divinding into MP and MAP pieces: 0.00018644332885742188\n",
      "Total time for MAP sublimb processing 5.245208740234375e-06\n",
      "---- Working on MP Decomposition #0 ----\n",
      "Using Quicker soma_to_piece_touching_vertices because no MAP and only one sublimb_mesh piece \n",
      "MP filtering soma verts: 0.0003120899200439453\n",
      "Fixing Possible Soma Extension Branch for Sublimb 0\n",
      "Total time for mesh KDTree = 0.1762082576751709\n",
      "sbv[0].reshape(-1,3) = [[1331676.   632825.1  796523.6]]\n",
      "closest_sk_pt_coord BEFORE = [1332049.72131943  632927.01155634  795789.16686248]\n",
      "current_skeleton.shape = (564, 2, 3)\n",
      "node_for_stitch = 564: [1332049.72131943  632927.01155634  795789.16686248]\n",
      "node_for_stitch AFTER = 564: [1332049.72131943  632927.01155634  795789.16686248]\n",
      "possible_node_loc = [114 564]\n",
      "possible_node_loc AFTER = [114 564]\n",
      "curr_shortest_path = [564]\n",
      "Current stitch point was a branch or endpoint\n",
      "change_status for create soma extending pieces = False\n",
      "closest_sk_pt_coord AFTER = [1332049.72131943  632927.01155634  795789.16686248]\n",
      "skipping soma 0 because closest skeleton node was already end node\n",
      "endpoints_must_keep = {0: array([[1332049.72131943,  632927.01155634,  795789.16686248]])}\n",
      "match_sk_branches = [3]\n",
      "The new branch info was none so skipping \n",
      "\n",
      "No soma extending branch was added for this sublimb even though it had a soma border (means they already existed)\n",
      "MP (because soma touching verts) soma extension add: 2.327057123184204\n",
      "There were not both MAP and MP pieces so skipping the stitch resolving phase\n",
      "Time for decomp of Limb = 11.374869108200073\n",
      "Number of matching vertices = 16\n",
      "Only one endpoint after filtering away the endpoints that are not on the skeleton\n",
      "Using Distance measure skeletal_distance\n",
      "endpoints_must_keep = [[1332049.72131943  632927.01155634  795789.16686248]]\n",
      "Number of end_nodes BEFORE filtering = 19\n",
      "all_single_nodes_to_eliminate = [10]\n",
      "no small end nodes to get rid of so returning whole skeleton\n",
      "Removed 0 skeletal branches\n"
     ]
    },
    {
     "data": {
      "application/vnd.jupyter.widget-view+json": {
       "model_id": "1e168d11cafb41a3917266cb446e835a",
       "version_major": 2,
       "version_minor": 0
      },
      "text/plain": [
       "  0%|          | 0/32 [00:00<?, ?it/s]"
      ]
     },
     "metadata": {},
     "output_type": "display_data"
    },
    {
     "name": "stdout",
     "output_type": "stream",
     "text": [
      "56518 56519\n",
      "For marked faces: None\n",
      "empty_indices % = 0.0\n",
      " conflict_indices % = 0.0\n"
     ]
    },
    {
     "data": {
      "application/vnd.jupyter.widget-view+json": {
       "model_id": "4f1080b4d32f419f89d8a01918ada27a",
       "version_major": 2,
       "version_minor": 0
      },
      "text/plain": [
       "0it [00:00, ?it/s]"
      ]
     },
     "metadata": {},
     "output_type": "display_data"
    },
    {
     "name": "stdout",
     "output_type": "stream",
     "text": [
      "AFTER face_lookup_resolved_test\n"
     ]
    },
    {
     "data": {
      "application/vnd.jupyter.widget-view+json": {
       "model_id": "11d1e5d61771445c854764e978c48df5",
       "version_major": 2,
       "version_minor": 0
      },
      "text/plain": [
       "  0%|          | 0/32 [00:00<?, ?it/s]"
      ]
     },
     "metadata": {},
     "output_type": "display_data"
    },
    {
     "name": "stdout",
     "output_type": "stream",
     "text": [
      "Limb Correspondence before stitching = 32\n",
      "Limb Correspondence AFTER stitching = 32\n",
      "Upstream node was None so don't have to adjust\n",
      "concept_network_dict = {0: [<networkx_utils.GraphOrderedEdges object at 0x7f0311fa3ba8>]}\n",
      "Assigning the old width calculation because no valid new widths\n",
      "\n",
      "\n",
      "----Working on seperate_graph 0----\n",
      "\n",
      "\n",
      "---------Working on soma_idx = 0, soma_group_idx 0, endpt = [1332049.72131943  632927.01155634  795789.16686248]---------\n",
      "Starting_edge inside branches_to_conept = [[1319396.01077763  682990.08261451  807192.03488386]\n",
      " [1332049.72131943  632927.01155634  795789.16686248]]\n",
      "At the start, starting_node (in terms of the skeleton, that shouldn't match the starting edge) = [20]\n",
      "printing out current edge:\n",
      "[[1332049.72131943  632927.01155634  795789.16686248]\n",
      " [1319396.01077763  682990.08261451  807192.03488386]]\n",
      "edge_endpoints_to_process was empty so exiting loop after 32 iterations\n",
      "starting_node in concept map (that should match the starting edge) = 17\n",
      "Total time for branches to concept conversion = 1.2675163745880127\n",
      "\n",
      "Done generating concept network \n",
      "\n",
      "\n"
     ]
    },
    {
     "data": {
      "application/vnd.jupyter.widget-view+json": {
       "model_id": "23cace4e69c140e381f2205877e938bc",
       "version_major": 2,
       "version_minor": 0
      },
      "text/plain": [
       "  0%|          | 0/25 [00:00<?, ?it/s]"
      ]
     },
     "metadata": {},
     "output_type": "display_data"
    },
    {
     "data": {
      "application/vnd.jupyter.widget-view+json": {
       "model_id": "5849618d9d90412e9f16384164cfa1f8",
       "version_major": 2,
       "version_minor": 0
      },
      "text/plain": [
       "  0%|          | 0/15 [00:00<?, ?it/s]"
      ]
     },
     "metadata": {},
     "output_type": "display_data"
    },
    {
     "data": {
      "application/vnd.jupyter.widget-view+json": {
       "model_id": "8f2f5ea4bca54297a6856f4c45e97938",
       "version_major": 2,
       "version_minor": 0
      },
      "text/plain": [
       "  0%|          | 0/6 [00:00<?, ?it/s]"
      ]
     },
     "metadata": {},
     "output_type": "display_data"
    },
    {
     "data": {
      "application/vnd.jupyter.widget-view+json": {
       "model_id": "cbbbd613cc2e45dd8bad76d23c7597d6",
       "version_major": 2,
       "version_minor": 0
      },
      "text/plain": [
       "  0%|          | 0/17 [00:00<?, ?it/s]"
      ]
     },
     "metadata": {},
     "output_type": "display_data"
    },
    {
     "data": {
      "application/vnd.jupyter.widget-view+json": {
       "model_id": "075b4f15b6074de682611c376aa5038d",
       "version_major": 2,
       "version_minor": 0
      },
      "text/plain": [
       "  0%|          | 0/9 [00:00<?, ?it/s]"
      ]
     },
     "metadata": {},
     "output_type": "display_data"
    },
    {
     "data": {
      "application/vnd.jupyter.widget-view+json": {
       "model_id": "ae0571b11924408295a4590f094f7e73",
       "version_major": 2,
       "version_minor": 0
      },
      "text/plain": [
       "  0%|          | 0/7 [00:00<?, ?it/s]"
      ]
     },
     "metadata": {},
     "output_type": "display_data"
    },
    {
     "data": {
      "application/vnd.jupyter.widget-view+json": {
       "model_id": "0ee1027e2ad0438db73cc9954c94c8de",
       "version_major": 2,
       "version_minor": 0
      },
      "text/plain": [
       "  0%|          | 0/8 [00:00<?, ?it/s]"
      ]
     },
     "metadata": {},
     "output_type": "display_data"
    },
    {
     "data": {
      "application/vnd.jupyter.widget-view+json": {
       "model_id": "7da53e3502b34e1586eb6cf612e20dc6",
       "version_major": 2,
       "version_minor": 0
      },
      "text/plain": [
       "  0%|          | 0/5 [00:00<?, ?it/s]"
      ]
     },
     "metadata": {},
     "output_type": "display_data"
    },
    {
     "data": {
      "application/vnd.jupyter.widget-view+json": {
       "model_id": "c33bf9d275d347bd9798734a1cffceb3",
       "version_major": 2,
       "version_minor": 0
      },
      "text/plain": [
       "  0%|          | 0/5 [00:00<?, ?it/s]"
      ]
     },
     "metadata": {},
     "output_type": "display_data"
    },
    {
     "data": {
      "application/vnd.jupyter.widget-view+json": {
       "model_id": "a89a58894de8454f82faae5269ee6eb1",
       "version_major": 2,
       "version_minor": 0
      },
      "text/plain": [
       "  0%|          | 0/15 [00:00<?, ?it/s]"
      ]
     },
     "metadata": {},
     "output_type": "display_data"
    },
    {
     "data": {
      "application/vnd.jupyter.widget-view+json": {
       "model_id": "811a5e3b85ba45d9bb0459a9cd6b2cf0",
       "version_major": 2,
       "version_minor": 0
      },
      "text/plain": [
       "  0%|          | 0/24 [00:00<?, ?it/s]"
      ]
     },
     "metadata": {},
     "output_type": "display_data"
    },
    {
     "data": {
      "application/vnd.jupyter.widget-view+json": {
       "model_id": "0d5d45df3310467a99b6aa3ee3fb2414",
       "version_major": 2,
       "version_minor": 0
      },
      "text/plain": [
       "  0%|          | 0/11 [00:00<?, ?it/s]"
      ]
     },
     "metadata": {},
     "output_type": "display_data"
    },
    {
     "data": {
      "application/vnd.jupyter.widget-view+json": {
       "model_id": "68cd1b56588049559ee7d35be824bc9d",
       "version_major": 2,
       "version_minor": 0
      },
      "text/plain": [
       "  0%|          | 0/13 [00:00<?, ?it/s]"
      ]
     },
     "metadata": {},
     "output_type": "display_data"
    },
    {
     "data": {
      "application/vnd.jupyter.widget-view+json": {
       "model_id": "33232e674dff453aab6b5465f7f8826b",
       "version_major": 2,
       "version_minor": 0
      },
      "text/plain": [
       "  0%|          | 0/34 [00:00<?, ?it/s]"
      ]
     },
     "metadata": {},
     "output_type": "display_data"
    },
    {
     "data": {
      "application/vnd.jupyter.widget-view+json": {
       "model_id": "fcad31ad322e49f7b833c71661f34416",
       "version_major": 2,
       "version_minor": 0
      },
      "text/plain": [
       "  0%|          | 0/3 [00:00<?, ?it/s]"
      ]
     },
     "metadata": {},
     "output_type": "display_data"
    },
    {
     "data": {
      "application/vnd.jupyter.widget-view+json": {
       "model_id": "eb0655e26d9441fc8226811049513f88",
       "version_major": 2,
       "version_minor": 0
      },
      "text/plain": [
       "  0%|          | 0/6 [00:00<?, ?it/s]"
      ]
     },
     "metadata": {},
     "output_type": "display_data"
    },
    {
     "data": {
      "application/vnd.jupyter.widget-view+json": {
       "model_id": "9ca91884eb9d40849537231b1cacf9dd",
       "version_major": 2,
       "version_minor": 0
      },
      "text/plain": [
       "  0%|          | 0/5 [00:00<?, ?it/s]"
      ]
     },
     "metadata": {},
     "output_type": "display_data"
    },
    {
     "data": {
      "application/vnd.jupyter.widget-view+json": {
       "model_id": "9f69470270cd48cd83061b909ff888aa",
       "version_major": 2,
       "version_minor": 0
      },
      "text/plain": [
       "  0%|          | 0/15 [00:00<?, ?it/s]"
      ]
     },
     "metadata": {},
     "output_type": "display_data"
    },
    {
     "data": {
      "application/vnd.jupyter.widget-view+json": {
       "model_id": "4c42c46de0ca465eaf7514cbf7661078",
       "version_major": 2,
       "version_minor": 0
      },
      "text/plain": [
       "  0%|          | 0/8 [00:00<?, ?it/s]"
      ]
     },
     "metadata": {},
     "output_type": "display_data"
    },
    {
     "data": {
      "application/vnd.jupyter.widget-view+json": {
       "model_id": "97270420cdaa4675acc3e968e25e211e",
       "version_major": 2,
       "version_minor": 0
      },
      "text/plain": [
       "  0%|          | 0/12 [00:00<?, ?it/s]"
      ]
     },
     "metadata": {},
     "output_type": "display_data"
    },
    {
     "data": {
      "application/vnd.jupyter.widget-view+json": {
       "model_id": "e287507752c44ece8b16ec08496f357e",
       "version_major": 2,
       "version_minor": 0
      },
      "text/plain": [
       "  0%|          | 0/148 [00:00<?, ?it/s]"
      ]
     },
     "metadata": {},
     "output_type": "display_data"
    },
    {
     "data": {
      "application/vnd.jupyter.widget-view+json": {
       "model_id": "bf21af44d9cf4c54bd828da3cb5a8da3",
       "version_major": 2,
       "version_minor": 0
      },
      "text/plain": [
       "  0%|          | 0/11 [00:00<?, ?it/s]"
      ]
     },
     "metadata": {},
     "output_type": "display_data"
    },
    {
     "data": {
      "application/vnd.jupyter.widget-view+json": {
       "model_id": "2f3c2819f6f7485cba96ac2c700323f9",
       "version_major": 2,
       "version_minor": 0
      },
      "text/plain": [
       "  0%|          | 0/11 [00:00<?, ?it/s]"
      ]
     },
     "metadata": {},
     "output_type": "display_data"
    },
    {
     "data": {
      "application/vnd.jupyter.widget-view+json": {
       "model_id": "7d5cbb3003744cc3b526da11916331cc",
       "version_major": 2,
       "version_minor": 0
      },
      "text/plain": [
       "  0%|          | 0/5 [00:00<?, ?it/s]"
      ]
     },
     "metadata": {},
     "output_type": "display_data"
    },
    {
     "data": {
      "application/vnd.jupyter.widget-view+json": {
       "model_id": "9bcf64e4f15849458172f13ca9c2337a",
       "version_major": 2,
       "version_minor": 0
      },
      "text/plain": [
       "  0%|          | 0/15 [00:00<?, ?it/s]"
      ]
     },
     "metadata": {},
     "output_type": "display_data"
    },
    {
     "data": {
      "application/vnd.jupyter.widget-view+json": {
       "model_id": "b721f3586d0348238bd9f382a39b89af",
       "version_major": 2,
       "version_minor": 0
      },
      "text/plain": [
       "  0%|          | 0/43 [00:00<?, ?it/s]"
      ]
     },
     "metadata": {},
     "output_type": "display_data"
    },
    {
     "data": {
      "application/vnd.jupyter.widget-view+json": {
       "model_id": "ea9b464b39b243389fc8817aec9f8f71",
       "version_major": 2,
       "version_minor": 0
      },
      "text/plain": [
       "  0%|          | 0/34 [00:00<?, ?it/s]"
      ]
     },
     "metadata": {},
     "output_type": "display_data"
    },
    {
     "data": {
      "application/vnd.jupyter.widget-view+json": {
       "model_id": "9c35021e758c44048a6ca06b982de871",
       "version_major": 2,
       "version_minor": 0
      },
      "text/plain": [
       "  0%|          | 0/16 [00:00<?, ?it/s]"
      ]
     },
     "metadata": {},
     "output_type": "display_data"
    },
    {
     "data": {
      "application/vnd.jupyter.widget-view+json": {
       "model_id": "84adeded3d1245f9b0f73d0f18954de5",
       "version_major": 2,
       "version_minor": 0
      },
      "text/plain": [
       "  0%|          | 0/63 [00:00<?, ?it/s]"
      ]
     },
     "metadata": {},
     "output_type": "display_data"
    },
    {
     "data": {
      "application/vnd.jupyter.widget-view+json": {
       "model_id": "fc7c806f3ebb44a2b6a88c2d59fc0c00",
       "version_major": 2,
       "version_minor": 0
      },
      "text/plain": [
       "  0%|          | 0/34 [00:00<?, ?it/s]"
      ]
     },
     "metadata": {},
     "output_type": "display_data"
    },
    {
     "data": {
      "application/vnd.jupyter.widget-view+json": {
       "model_id": "3339a21431574516a0c4642de15efe3a",
       "version_major": 2,
       "version_minor": 0
      },
      "text/plain": [
       "  0%|          | 0/20 [00:00<?, ?it/s]"
      ]
     },
     "metadata": {},
     "output_type": "display_data"
    },
    {
     "data": {
      "application/vnd.jupyter.widget-view+json": {
       "model_id": "24f9399a256744e6818fcfdaa22514c7",
       "version_major": 2,
       "version_minor": 0
      },
      "text/plain": [
       "  0%|          | 0/38 [00:00<?, ?it/s]"
      ]
     },
     "metadata": {},
     "output_type": "display_data"
    },
    {
     "data": {
      "application/vnd.jupyter.widget-view+json": {
       "model_id": "6cfececd8e0f4eba97ba37bc0f44dbc6",
       "version_major": 2,
       "version_minor": 0
      },
      "text/plain": [
       "  0%|          | 0/22 [00:00<?, ?it/s]"
      ]
     },
     "metadata": {},
     "output_type": "display_data"
    },
    {
     "data": {
      "application/vnd.jupyter.widget-view+json": {
       "model_id": "a4ea43b7686d417893c9eccaa052b5b1",
       "version_major": 2,
       "version_minor": 0
      },
      "text/plain": [
       "  0%|          | 0/37 [00:00<?, ?it/s]"
      ]
     },
     "metadata": {},
     "output_type": "display_data"
    },
    {
     "data": {
      "application/vnd.jupyter.widget-view+json": {
       "model_id": "48aa98f29a144548952fd21eff4f48eb",
       "version_major": 2,
       "version_minor": 0
      },
      "text/plain": [
       "  0%|          | 0/13 [00:00<?, ?it/s]"
      ]
     },
     "metadata": {},
     "output_type": "display_data"
    },
    {
     "data": {
      "application/vnd.jupyter.widget-view+json": {
       "model_id": "2ee84c48bca64d56873027e67b0860ce",
       "version_major": 2,
       "version_minor": 0
      },
      "text/plain": [
       "  0%|          | 0/67 [00:00<?, ?it/s]"
      ]
     },
     "metadata": {},
     "output_type": "display_data"
    },
    {
     "data": {
      "application/vnd.jupyter.widget-view+json": {
       "model_id": "97e5d3d9dddc4d598ac20f60d264d93b",
       "version_major": 2,
       "version_minor": 0
      },
      "text/plain": [
       "  0%|          | 0/16 [00:00<?, ?it/s]"
      ]
     },
     "metadata": {},
     "output_type": "display_data"
    },
    {
     "data": {
      "application/vnd.jupyter.widget-view+json": {
       "model_id": "e4dcb733be304af3b04af95c8977816c",
       "version_major": 2,
       "version_minor": 0
      },
      "text/plain": [
       "  0%|          | 0/27 [00:00<?, ?it/s]"
      ]
     },
     "metadata": {},
     "output_type": "display_data"
    },
    {
     "data": {
      "application/vnd.jupyter.widget-view+json": {
       "model_id": "decd709b08204575a28569f830df2353",
       "version_major": 2,
       "version_minor": 0
      },
      "text/plain": [
       "  0%|          | 0/33 [00:00<?, ?it/s]"
      ]
     },
     "metadata": {},
     "output_type": "display_data"
    },
    {
     "data": {
      "application/vnd.jupyter.widget-view+json": {
       "model_id": "bb3c7222da474552baeff58ba71b3230",
       "version_major": 2,
       "version_minor": 0
      },
      "text/plain": [
       "  0%|          | 0/9 [00:00<?, ?it/s]"
      ]
     },
     "metadata": {},
     "output_type": "display_data"
    },
    {
     "name": "stdout",
     "output_type": "stream",
     "text": [
      "Synapsse Results:\n",
      "Total Number of Synapses = 1899\n",
      "n_valid_syn_ids_presyn = 27\n",
      "n_errored_syn_ids_presyn = 107\n",
      "n_valid_syn_ids_postsyn = 1756\n",
      "n_errored_syn_ids_postsyn = 9\n",
      "Synapsse Results:\n",
      "Total Number of Synapses = 1899\n",
      "n_valid_syn_ids_presyn = 27\n",
      "n_errored_syn_ids_presyn = 107\n",
      "n_valid_syn_ids_postsyn = 1756\n",
      "n_errored_syn_ids_postsyn = 9\n"
     ]
    },
    {
     "data": {
      "application/vnd.jupyter.widget-view+json": {
       "model_id": "8dc0a1c93eb4473e90cdc325ea7bea75",
       "version_major": 2,
       "version_minor": 0
      },
      "text/plain": [
       "  0%|          | 0/11 [00:00<?, ?it/s]"
      ]
     },
     "metadata": {},
     "output_type": "display_data"
    },
    {
     "data": {
      "application/vnd.jupyter.widget-view+json": {
       "model_id": "17beb768bd5d4364876bc1ab47cb5f03",
       "version_major": 2,
       "version_minor": 0
      },
      "text/plain": [
       "  0%|          | 0/2 [00:00<?, ?it/s]"
      ]
     },
     "metadata": {},
     "output_type": "display_data"
    },
    {
     "name": "stdout",
     "output_type": "stream",
     "text": [
      "Synapsse Results:\n",
      "Total Number of Synapses = 1899\n",
      "n_valid_syn_ids_presyn = 27\n",
      "n_errored_syn_ids_presyn = 107\n",
      "n_valid_syn_ids_postsyn = 1756\n",
      "n_errored_syn_ids_postsyn = 9\n",
      "Synapsse Results:\n",
      "Total Number of Synapses = 1899\n",
      "n_valid_syn_ids_presyn = 27\n",
      "n_errored_syn_ids_presyn = 107\n",
      "n_valid_syn_ids_postsyn = 1756\n",
      "n_errored_syn_ids_postsyn = 9\n"
     ]
    },
    {
     "data": {
      "application/vnd.jupyter.widget-view+json": {
       "model_id": "16dd4c87bb124dc1af95ae3ca1d523e4",
       "version_major": 2,
       "version_minor": 0
      },
      "text/plain": [
       "  0%|          | 0/11 [00:00<?, ?it/s]"
      ]
     },
     "metadata": {},
     "output_type": "display_data"
    },
    {
     "data": {
      "application/vnd.jupyter.widget-view+json": {
       "model_id": "8cf035f0d44b4f58be6b65f08ebe4a2e",
       "version_major": 2,
       "version_minor": 0
      },
      "text/plain": [
       "  0%|          | 0/2 [00:00<?, ?it/s]"
      ]
     },
     "metadata": {},
     "output_type": "display_data"
    },
    {
     "name": "stdout",
     "output_type": "stream",
     "text": [
      "\n",
      "\n",
      "len(branch_attr_keys) = 13\n",
      "Saving Neuorn in suppress_output mode...please wait\n",
      "Saved File at location: /mnt/dj-stor01/platinum/minnie65/02/decomposition/864691136618412685_0_25_full_axon\n",
      "Save time = 176.35470151901245\n",
      "\n",
      "\n",
      " ***------ Total time for 864691136618412685 = 551.8984885215759 ------ ***\n",
      "\n",
      "\n",
      "\n",
      "---- Working on Neuron 864691135785277636 ----\n",
      "Decompressing Neuron in minimal output mode...please wait\n",
      "Dont need spine recalculation\n",
      "Number of Neurons found = 1\n",
      "\n",
      "Part 1: Axon like branchese \n",
      "{'L0': array([ 1, 40]), 'L1': array([ 0,  2,  4,  6,  7,  8,  9, 10, 11, 12, 13, 14, 15, 16, 17, 18, 19,\n",
      "       21, 22, 23, 24, 25, 26, 27, 32, 33, 34, 39, 41, 42, 44, 45, 46, 48,\n",
      "       49, 52, 53, 54, 55, 56, 57, 58]), 'L2': array([4, 6])}\n",
      "Limb L0 soma angle: 18.94 \n",
      "Limb L1 soma angle: 157.52 \n",
      "Limb L2 soma angle: 121.26 \n",
      "Limb L3 soma angle: 82.63 \n",
      "Limb L4 soma angle: 78.79 \n",
      "Limb L5 soma angle: 30.73 \n",
      "Limb L6 soma angle: 130.81 \n",
      "\n",
      "Part 2: possible_axon_limbs = [1, 2, 3, 4, 6]\n",
      "\n",
      "Phase 2: Working on Limb L1\n",
      "nodes_to_eliminate = [29 30 35]\n",
      "\n",
      "Phase 2: Working on Limb L2\n",
      "nodes_to_eliminate = [10]\n",
      "\n",
      "Phase 2: Working on Limb L3\n",
      "nodes_to_eliminate = [8]\n",
      "\n",
      "Phase 2: Working on Limb L4\n",
      "nodes_to_eliminate = [0]\n",
      "\n",
      "Phase 2: Working on Limb L6\n",
      "nodes_to_eliminate = [8]\n",
      "\n",
      "----Working on Limb L1-----\n",
      "No endpoints were eliminated so don't need to add back any candidates\n",
      "\n",
      "----Working on Limb L2-----\n",
      "No endpoints were eliminated so don't need to add back any candidates\n",
      "\n",
      "----Working on Limb L3-----\n",
      "No endpoints were eliminated so don't need to add back any candidates\n",
      "\n",
      "----Working on Limb L4-----\n",
      "No endpoints were eliminated so don't need to add back any candidates\n",
      "\n",
      "----Working on Limb L6-----\n",
      "No endpoints were eliminated so don't need to add back any candidates\n",
      "Final Candidates\n",
      "\n",
      "Limb 1\n",
      "Candidate 0 (orange): array([59, 36, 60, 47])\n",
      "Candidate 1 (gold): array([ 0,  6,  9, 10, 12, 13, 14, 15, 16, 17, 18, 19, 21, 22, 23, 24, 25,\n",
      "       26, 27, 39, 42, 55, 56])\n",
      "Candidate 2 (palegreen): array([ 1,  3,  5, 20, 28])\n",
      "Candidate 3 (olive): array([ 2,  4,  7,  8, 11, 31, 32, 33, 34, 37, 38, 40, 41, 43, 44, 45, 46,\n",
      "       48, 49, 50, 51, 52, 53, 54, 57, 58])\n",
      "\n",
      "Limb 2\n",
      "Candidate 0 (pink): array([0, 1, 7])\n",
      "Candidate 1 (darkslategray): array([2, 3, 4, 5, 6, 8, 9])\n",
      "\n",
      "Limb 3\n",
      "Candidate 0 (forestgreen): array([0, 4, 5])\n",
      "Candidate 1 (olive): array([1, 2, 3, 6, 7])\n",
      "\n",
      "Limb 4\n",
      "Candidate 0 (gold): array([1, 3, 4])\n",
      "Candidate 1 (tan): array([2, 5, 6])\n",
      "\n",
      "Limb 6\n",
      "Candidate 0 (green): array([0, 1, 3])\n",
      "Candidate 1 (cyan): array([ 2,  4,  5,  6,  7,  9, 10, 11, 12])\n",
      "Part 3: axon_subgraph_candidates = {1: [[59, 36, 60, 47], [0, 6, 9, 10, 12, 13, 14, 15, 16, 17, 18, 19, 21, 22, 23, 24, 25, 26, 27, 39, 42, 55, 56], [1, 3, 5, 20, 28], [2, 4, 7, 8, 11, 31, 32, 33, 34, 37, 38, 40, 41, 43, 44, 45, 46, 48, 49, 50, 51, 52, 53, 54, 57, 58]], 2: [[0, 1, 7], [2, 3, 4, 5, 6, 8, 9]], 3: [[0, 4, 5], [1, 2, 3, 6, 7]], 4: [[1, 3, 4], [2, 5, 6]], 6: [[0, 1, 3], [2, 4, 5, 6, 7, 9, 10, 11, 12]]}\n",
      "\n",
      "\n",
      " --- Working on limb 1, candidate # 0\n",
      "0 out of 4 branches are axons\n",
      "Axon percentage = 0.0\n",
      "Not adding candidate no axon branches detected \n",
      "\n",
      "\n",
      " --- Working on limb 1, candidate # 1\n",
      "23 out of 23 branches are axons\n",
      "Axon percentage = 1.0\n",
      "curr_axon_angle_threshold = 95\n",
      "candidate_nodes = [ 0  6  9 10 12 13 14 15 16 17 18 19 21 22 23 24 25 26 27 29 35 39 42 55\n",
      " 56]\n",
      "non_axon_branches_on_subgraph = [29 35]\n",
      "endnodes_to_test = [6371]\n",
      "Skeleton paths distances = [24900.32239064]\n",
      "Filtered indexes = [0]\n",
      "len(filtered_skeletons) = 1\n",
      "sk_angles = [155.51958066]\n",
      "candidate_angles,restr_skels = (array([155.51958066]), [array([[[1195296.47503933,  509109.55069101,  917488.21763843],\n",
      "        [1195250.72573732,  509175.74682144,  917547.5898306 ]],\n",
      "\n",
      "       [[1195250.72573732,  509175.74682144,  917547.5898306 ],\n",
      "        [1195205.35141211,  509241.28920058,  917607.96663897]],\n",
      "\n",
      "       [[1195205.35141211,  509241.28920058,  917607.96663897],\n",
      "        [1195160.37661268,  509306.49561151,  917669.00254404]],\n",
      "\n",
      "       [[1195160.37661268,  509306.49561151,  917669.00254404],\n",
      "        [1195116.13872313,  509371.76906969,  917730.50359062]],\n",
      "\n",
      "       [[1195116.13872313,  509371.76906969,  917730.50359062],\n",
      "        [1195072.49816313,  509437.20402162,  917792.25909585]],\n",
      "\n",
      "       [[1195072.49816313,  509437.20402162,  917792.25909585],\n",
      "        [1195029.80163341,  509503.52427775,  917853.7295229 ]],\n",
      "\n",
      "       [[1195029.80163341,  509503.52427775,  917853.7295229 ],\n",
      "        [1194987.82829315,  509570.53818585,  917914.94479561]],\n",
      "\n",
      "       [[1194987.82829315,  509570.53818585,  917914.94479561],\n",
      "        [1194946.74873877,  509638.98254615,  917975.17592271]],\n",
      "\n",
      "       [[1194946.74873877,  509638.98254615,  917975.17592271],\n",
      "        [1194906.42998302,  509708.63694326,  918034.52733514]],\n",
      "\n",
      "       [[1194906.42998302,  509708.63694326,  918034.52733514],\n",
      "        [1194866.70775471,  509779.66251742,  918092.64307594]],\n",
      "\n",
      "       [[1194866.70775471,  509779.66251742,  918092.64307594],\n",
      "        [1194827.55357027,  509851.99059674,  918149.52487353]],\n",
      "\n",
      "       [[1194827.55357027,  509851.99059674,  918149.52487353],\n",
      "        [1194788.74331242,  509925.42575163,  918205.21130965]],\n",
      "\n",
      "       [[1194788.74331242,  509925.42575163,  918205.21130965],\n",
      "        [1194750.23624026,  509999.92831631,  918259.67726073]],\n",
      "\n",
      "       [[1194750.23624026,  509999.92831631,  918259.67726073],\n",
      "        [1194711.86096803,  510075.16205664,  918313.22343505]],\n",
      "\n",
      "       [[1194711.86096803,  510075.16205664,  918313.22343505],\n",
      "        [1194673.55094472,  510151.04096599,  918365.89907035]],\n",
      "\n",
      "       [[1194673.55094472,  510151.04096599,  918365.89907035],\n",
      "        [1194635.22486635,  510227.27429153,  918418.04873196]],\n",
      "\n",
      "       [[1194635.22486635,  510227.27429153,  918418.04873196],\n",
      "        [1194596.81424598,  510303.69995396,  918469.85357427]],\n",
      "\n",
      "       [[1194596.81424598,  510303.69995396,  918469.85357427],\n",
      "        [1194558.30130265,  510380.14666005,  918521.55127454]],\n",
      "\n",
      "       [[1194558.30130265,  510380.14666005,  918521.55127454],\n",
      "        [1194519.6427064 ,  510456.41856904,  918573.39820912]],\n",
      "\n",
      "       [[1194519.6427064 ,  510456.41856904,  918573.39820912],\n",
      "        [1194480.84343324,  510532.44500718,  918625.49989328]],\n",
      "\n",
      "       [[1194480.84343324,  510532.44500718,  918625.49989328],\n",
      "        [1194441.88760325,  510608.08413919,  918678.04655796]],\n",
      "\n",
      "       [[1194441.88760325,  510608.08413919,  918678.04655796],\n",
      "        [1194402.77915307,  510683.31805954,  918731.05949736]],\n",
      "\n",
      "       [[1194402.77915307,  510683.31805954,  918731.05949736],\n",
      "        [1194363.52318716,  510758.12979222,  918784.55865682]],\n",
      "\n",
      "       [[1194363.52318716,  510758.12979222,  918784.55865682],\n",
      "        [1194324.13047119,  510832.53904985,  918838.51668303]],\n",
      "\n",
      "       [[1194324.13047119,  510832.53904985,  918838.51668303],\n",
      "        [1194284.64164735,  510906.65069551,  918892.81302619]],\n",
      "\n",
      "       [[1194284.64164735,  510906.65069551,  918892.81302619],\n",
      "        [1194245.16180997,  510980.57682515,  918947.36821419]],\n",
      "\n",
      "       [[1194245.16180997,  510980.57682515,  918947.36821419],\n",
      "        [1194205.81964273,  511054.48417679,  919002.04808393]],\n",
      "\n",
      "       [[1194205.81964273,  511054.48417679,  919002.04808393],\n",
      "        [1194166.92619434,  511128.6341241 ,  919056.72017929]],\n",
      "\n",
      "       [[1194166.92619434,  511128.6341241 ,  919056.72017929],\n",
      "        [1194128.95548473,  511203.36617181,  919111.24788711]],\n",
      "\n",
      "       [[1194128.95548473,  511203.36617181,  919111.24788711],\n",
      "        [1194092.12856747,  511278.85083831,  919165.52184651]],\n",
      "\n",
      "       [[1194092.12856747,  511278.85083831,  919165.52184651],\n",
      "        [1194056.99548736,  511355.49216304,  919219.29399829]],\n",
      "\n",
      "       [[1194056.99548736,  511355.49216304,  919219.29399829],\n",
      "        [1194023.93700816,  511433.69259516,  919272.12928213]],\n",
      "\n",
      "       [[1194023.93700816,  511433.69259516,  919272.12928213],\n",
      "        [1193992.54345457,  511513.31992095,  919323.83550758]],\n",
      "\n",
      "       [[1193992.54345457,  511513.31992095,  919323.83550758],\n",
      "        [1193962.80576309,  511594.70217772,  919373.75594943]],\n",
      "\n",
      "       [[1193962.80576309,  511594.70217772,  919373.75594943],\n",
      "        [1193934.45337867,  511678.01887117,  919421.23332129]],\n",
      "\n",
      "       [[1193934.45337867,  511678.01887117,  919421.23332129],\n",
      "        [1193906.89058281,  511762.85732981,  919466.42097761]],\n",
      "\n",
      "       [[1193906.89058281,  511762.85732981,  919466.42097761],\n",
      "        [1193879.93830422,  511849.6580528 ,  919508.11720101]],\n",
      "\n",
      "       [[1193879.93830422,  511849.6580528 ,  919508.11720101],\n",
      "        [1193853.32789325,  511938.03671453,  919546.59054062]],\n",
      "\n",
      "       [[1193853.32789325,  511938.03671453,  919546.59054062],\n",
      "        [1193826.8178326 ,  512028.03622718,  919581.17962771]],\n",
      "\n",
      "       [[1193826.8178326 ,  512028.03622718,  919581.17962771],\n",
      "        [1193800.35492171,  512119.44844032,  919611.88341575]],\n",
      "\n",
      "       [[1193800.35492171,  512119.44844032,  919611.88341575],\n",
      "        [1193773.85042586,  512212.00937737,  919638.88638299]],\n",
      "\n",
      "       [[1193773.85042586,  512212.00937737,  919638.88638299],\n",
      "        [1193747.33086613,  512305.57387557,  919662.1615233 ]],\n",
      "\n",
      "       [[1193747.33086613,  512305.57387557,  919662.1615233 ],\n",
      "        [1193720.82238751,  512399.9131486 ,  919682.08187847]],\n",
      "\n",
      "       [[1193720.82238751,  512399.9131486 ,  919682.08187847],\n",
      "        [1193694.38248675,  512494.87461007,  919698.89982617]],\n",
      "\n",
      "       [[1193694.38248675,  512494.87461007,  919698.89982617],\n",
      "        [1193668.07953222,  512590.29673567,  919713.12918689]],\n",
      "\n",
      "       [[1193668.07953222,  512590.29673567,  919713.12918689],\n",
      "        [1193641.97507906,  512686.072353  ,  919725.18853875]],\n",
      "\n",
      "       [[1193641.97507906,  512686.072353  ,  919725.18853875],\n",
      "        [1193616.14944527,  512782.10767333,  919735.68438246]],\n",
      "\n",
      "       [[1193616.14944527,  512782.10767333,  919735.68438246],\n",
      "        [1193590.66376565,  512878.34918491,  919745.06643832]],\n",
      "\n",
      "       [[1193590.66376565,  512878.34918491,  919745.06643832],\n",
      "        [1193565.60828751,  512974.74910678,  919753.96925382]],\n",
      "\n",
      "       [[1193565.60828751,  512974.74910678,  919753.96925382],\n",
      "        [1193541.06176225,  513071.28704671,  919762.79292435]],\n",
      "\n",
      "       [[1193541.06176225,  513071.28704671,  919762.79292435],\n",
      "        [1193517.13072432,  513167.93541406,  919772.0841563 ]],\n",
      "\n",
      "       [[1193517.13072432,  513167.93541406,  919772.0841563 ],\n",
      "        [1193493.93241991,  513264.68436801,  919782.15163073]],\n",
      "\n",
      "       [[1193493.93241991,  513264.68436801,  919782.15163073],\n",
      "        [1193471.58046835,  513361.5112221 ,  919793.32193937]],\n",
      "\n",
      "       [[1193471.58046835,  513361.5112221 ,  919793.32193937],\n",
      "        [1193450.23227504,  513458.40907691,  919805.76630366]],\n",
      "\n",
      "       [[1193450.23227504,  513458.40907691,  919805.76630366],\n",
      "        [1193429.97595275,  513555.36188827,  919819.5359064 ]],\n",
      "\n",
      "       [[1193429.97595275,  513555.36188827,  919819.5359064 ],\n",
      "        [1193410.98183379,  513652.37376365,  919834.62589849]],\n",
      "\n",
      "       [[1193410.98183379,  513652.37376365,  919834.62589849],\n",
      "        [1193393.28076974,  513749.44187748,  919850.88114619]],\n",
      "\n",
      "       [[1193393.28076974,  513749.44187748,  919850.88114619],\n",
      "        [1193377.01464777,  513846.58826908,  919868.13821929]],\n",
      "\n",
      "       [[1193377.01464777,  513846.58826908,  919868.13821929],\n",
      "        [1193362.15054085,  513943.81883992,  919886.16849963]],\n",
      "\n",
      "       [[1193362.15054085,  513943.81883992,  919886.16849963],\n",
      "        [1193348.76604872,  514041.16494771,  919904.72751375]],\n",
      "\n",
      "       [[1193348.76604872,  514041.16494771,  919904.72751375],\n",
      "        [1193336.77568764,  514138.62874927,  919923.61912365]],\n",
      "\n",
      "       [[1193336.77568764,  514138.62874927,  919923.61912365],\n",
      "        [1193326.16037835,  514236.23292034,  919942.60910209]],\n",
      "\n",
      "       [[1193326.16037835,  514236.23292034,  919942.60910209],\n",
      "        [1193316.7932208 ,  514333.96862563,  919961.57990254]],\n",
      "\n",
      "       [[1193316.7932208 ,  514333.96862563,  919961.57990254],\n",
      "        [1193308.51793004,  514431.83718973,  919980.37316351]],\n",
      "\n",
      "       [[1193308.51793004,  514431.83718973,  919980.37316351],\n",
      "        [1193301.1789687 ,  514529.82184628,  919998.95032709]],\n",
      "\n",
      "       [[1193301.1789687 ,  514529.82184628,  919998.95032709],\n",
      "        [1193294.44154831,  514627.90003054,  920017.26020097]],\n",
      "\n",
      "       [[1193294.44154831,  514627.90003054,  920017.26020097],\n",
      "        [1193288.1457748 ,  514726.05628524,  920035.30764871]],\n",
      "\n",
      "       [[1193288.1457748 ,  514726.05628524,  920035.30764871],\n",
      "        [1193281.77886027,  514824.23795703,  920053.19102672]],\n",
      "\n",
      "       [[1193281.77886027,  514824.23795703,  920053.19102672],\n",
      "        [1193275.12737591,  514922.42244259,  920070.95418894]],\n",
      "\n",
      "       [[1193275.12737591,  514922.42244259,  920070.95418894],\n",
      "        [1193267.80144545,  515020.55129392,  920088.75814421]],\n",
      "\n",
      "       [[1193267.80144545,  515020.55129392,  920088.75814421],\n",
      "        [1193259.50955569,  515118.57359068,  920106.7238682 ]],\n",
      "\n",
      "       [[1193259.50955569,  515118.57359068,  920106.7238682 ],\n",
      "        [1193250.11295842,  515216.43856646,  920124.99864585]],\n",
      "\n",
      "       [[1193250.11295842,  515216.43856646,  920124.99864585],\n",
      "        [1193239.36812931,  515314.06867739,  920143.78014082]],\n",
      "\n",
      "       [[1193239.36812931,  515314.06867739,  920143.78014082],\n",
      "        [1193227.37070021,  515411.43757555,  920163.1485641 ]],\n",
      "\n",
      "       [[1193227.37070021,  515411.43757555,  920163.1485641 ],\n",
      "        [1193214.0494122 ,  515508.46997872,  920183.32471258]],\n",
      "\n",
      "       [[1193214.0494122 ,  515508.46997872,  920183.32471258],\n",
      "        [1193199.59884016,  515605.16918195,  920204.30715162]],\n",
      "\n",
      "       [[1193199.59884016,  515605.16918195,  920204.30715162],\n",
      "        [1193184.15005962,  515701.49993184,  920226.25106751]],\n",
      "\n",
      "       [[1193184.15005962,  515701.49993184,  920226.25106751],\n",
      "        [1193167.81164708,  515797.45091173,  920249.1941269 ]],\n",
      "\n",
      "       [[1193167.81164708,  515797.45091173,  920249.1941269 ],\n",
      "        [1193150.99709855,  515893.12876763,  920272.92016287]],\n",
      "\n",
      "       [[1193150.99709855,  515893.12876763,  920272.92016287],\n",
      "        [1193133.78765143,  515988.52362519,  920297.48882629]],\n",
      "\n",
      "       [[1193133.78765143,  515988.52362519,  920297.48882629],\n",
      "        [1193116.48707733,  516083.74773202,  920322.64886563]],\n",
      "\n",
      "       [[1193116.48707733,  516083.74773202,  920322.64886563],\n",
      "        [1193099.33533024,  516178.85581789,  920348.34417384]],\n",
      "\n",
      "       [[1193099.33533024,  516178.85581789,  920348.34417384],\n",
      "        [1193082.55187212,  516273.9396539 ,  920374.36940867]],\n",
      "\n",
      "       [[1193082.55187212,  516273.9396539 ,  920374.36940867],\n",
      "        [1193066.60950669,  516369.11452991,  920400.58890821]],\n",
      "\n",
      "       [[1193066.60950669,  516369.11452991,  920400.58890821],\n",
      "        [1193051.81002722,  516464.4507017 ,  920426.89092772]],\n",
      "\n",
      "       [[1193051.81002722,  516464.4507017 ,  920426.89092772],\n",
      "        [1193038.47376439,  516560.0105096 ,  920453.16006645]],\n",
      "\n",
      "       [[1193038.47376439,  516560.0105096 ,  920453.16006645],\n",
      "        [1193027.12622074,  516655.84619654,  920479.35921653]],\n",
      "\n",
      "       [[1193027.12622074,  516655.84619654,  920479.35921653],\n",
      "        [1193017.74036757,  516751.91207269,  920505.48619162]],\n",
      "\n",
      "       [[1193017.74036757,  516751.91207269,  920505.48619162],\n",
      "        [1193010.83658419,  516848.20488846,  920531.55384186]],\n",
      "\n",
      "       [[1193010.83658419,  516848.20488846,  920531.55384186],\n",
      "        [1193006.20509519,  516944.64190317,  920557.58890299]],\n",
      "\n",
      "       [[1193006.20509519,  516944.64190317,  920557.58890299],\n",
      "        [1193004.05871815,  517041.1653379 ,  920583.62710294]],\n",
      "\n",
      "       [[1193004.05871815,  517041.1653379 ,  920583.62710294],\n",
      "        [1193004.32169903,  517137.71144944,  920609.67369226]],\n",
      "\n",
      "       [[1193004.32169903,  517137.71144944,  920609.67369226],\n",
      "        [1193006.45703052,  517234.23234492,  920635.72615216]],\n",
      "\n",
      "       [[1193006.45703052,  517234.23234492,  920635.72615216],\n",
      "        [1193010.54841022,  517330.69551651,  920661.76244573]],\n",
      "\n",
      "       [[1193010.54841022,  517330.69551651,  920661.76244573],\n",
      "        [1193016.12146054,  517427.10094038,  920687.7370456 ]],\n",
      "\n",
      "       [[1193016.12146054,  517427.10094038,  920687.7370456 ],\n",
      "        [1193023.20627836,  517523.43536529,  920713.60813701]],\n",
      "\n",
      "       [[1193023.20627836,  517523.43536529,  920713.60813701],\n",
      "        [1193031.54766858,  517619.71540888,  920739.30616063]],\n",
      "\n",
      "       [[1193031.54766858,  517619.71540888,  920739.30616063],\n",
      "        [1193041.17643083,  517715.93356644,  920764.78516136]],\n",
      "\n",
      "       [[1193041.17643083,  517715.93356644,  920764.78516136],\n",
      "        [1193052.04053059,  517812.0993011 ,  920789.96311757]],\n",
      "\n",
      "       [[1193052.04053059,  517812.0993011 ,  920789.96311757],\n",
      "        [1193064.2061441 ,  517908.1972279 ,  920814.80154916]]])])\n"
     ]
    },
    {
     "name": "stdout",
     "output_type": "stream",
     "text": [
      "base_final_widths = [238.75506259 238.75506259 403.21212306]\n",
      "overall_ais_width = 238.7550625920818\n",
      "ais_width = 293.57408274942713\n",
      "Adding the following branches as true axons: [ 0  6  9 10 12 13 14 15 16 17 18 19 21 22 23 24 25 26 27 39 42 55 56]\n",
      "curr_soma_angle = 157.52\n",
      "max_axon_angle = 155.51958066297135\n",
      "Changing to a better axon candidate\n",
      "\n",
      "\n",
      " --- Working on limb 1, candidate # 2\n",
      "0 out of 5 branches are axons\n",
      "Axon percentage = 0.0\n",
      "Not adding candidate no axon branches detected \n",
      "\n",
      "\n",
      " --- Working on limb 1, candidate # 3\n",
      "19 out of 26 branches are axons\n",
      "Axon percentage = 0.7307692307692307\n",
      "curr_axon_angle_threshold = 120\n",
      "candidate_nodes = [ 2  4  7  8 11 29 30 31 32 33 34 35 37 38 40 41 43 44 45 46 48 49 50 51\n",
      " 52 53 54 57 58]\n",
      "non_axon_branches_on_subgraph = [29 30 31 35 37 38 40 43 50 51]\n",
      "endnodes_to_test = []\n",
      "candidate_angles,restr_skels = (None, None)\n",
      "Not adding candidate because no angles (None) passed the threhold 120 \n",
      "\n",
      "\n",
      " --- Working on limb 2, candidate # 0\n",
      "0 out of 3 branches are axons\n",
      "Axon percentage = 0.0\n",
      "Not adding candidate no axon branches detected \n",
      "\n",
      "\n",
      " --- Working on limb 2, candidate # 1\n",
      "2 out of 7 branches are axons\n",
      "Axon percentage = 0.2857142857142857\n",
      "curr_axon_angle_threshold = 120\n",
      "candidate_nodes = [ 2  3  4  5  6  8  9 10]\n",
      "non_axon_branches_on_subgraph = [ 2  3  5  8  9 10]\n",
      "endnodes_to_test = []\n",
      "candidate_angles,restr_skels = (None, None)\n",
      "Not adding candidate because no angles (None) passed the threhold 120 \n",
      "\n",
      "\n",
      " --- Working on limb 3, candidate # 0\n",
      "0 out of 3 branches are axons\n",
      "Axon percentage = 0.0\n",
      "Not adding candidate no axon branches detected \n",
      "\n",
      "\n",
      " --- Working on limb 3, candidate # 1\n",
      "0 out of 5 branches are axons\n",
      "Axon percentage = 0.0\n",
      "Not adding candidate no axon branches detected \n",
      "\n",
      "\n",
      " --- Working on limb 4, candidate # 0\n",
      "0 out of 3 branches are axons\n",
      "Axon percentage = 0.0\n",
      "Not adding candidate no axon branches detected \n",
      "\n",
      "\n",
      " --- Working on limb 4, candidate # 1\n",
      "0 out of 3 branches are axons\n",
      "Axon percentage = 0.0\n",
      "Not adding candidate no axon branches detected \n",
      "\n",
      "\n",
      " --- Working on limb 6, candidate # 0\n",
      "0 out of 3 branches are axons\n",
      "Axon percentage = 0.0\n",
      "Not adding candidate no axon branches detected \n",
      "\n",
      "\n",
      " --- Working on limb 6, candidate # 1\n",
      "0 out of 9 branches are axons\n",
      "Axon percentage = 0.0\n",
      "Not adding candidate no axon branches detected \n",
      "Using the best axon approach\n",
      "Using True\n",
      "Limb L1: Axon branches before dendritic path filter = [ 0  6  9 10 12 13 14 15 16 17 18 19 21 22 23 24 25 26 27 39 42 55 56]\n",
      "Limb L1: Axon branches AFTER dendritic path filter = [ 0  6  9 10 12 13 14 15 16 17 18 19 21 22 23 24 25 26 27 39 42 55 56]\n",
      "\n",
      "\n",
      "Part 4: final_true_axons = {'L1': array([ 0,  6,  9, 10, 12, 13, 14, 15, 16, 17, 18, 19, 21, 22, 23, 24, 25,\n",
      "       26, 27, 39, 42, 55, 56])}\n",
      "\n",
      "--- Working on filter 0:\n",
      "function = dendrite_on_axon_merges\n",
      "function __name__ = filter_away_dendrite_on_axon_merges\n",
      "function arguments = {'use_pre_existing_axon_labels': True}\n",
      "\n",
      "\n",
      "\n",
      "\n",
      "\n",
      " ---- Total time for applying filter: 1.1693542003631592 -----\n",
      "Starting axon branch was not the limb starting node so generating border vertices and computing upstream branch\n",
      "upstream_node_to_axon_starting_branch = 29\n",
      "root_curr = [1196370.  506625.  916923.]\n",
      "Time for preparing soma vertices and root: 0.0004074573516845703\n",
      "invalidation_d = 2000\n",
      "cc_vertex_thresh = 10\n"
     ]
    },
    {
     "name": "stderr",
     "output_type": "stream",
     "text": [
      "\r",
      "  0%|          | 0/1 [00:00<?, ?it/s]"
     ]
    },
    {
     "data": {
      "application/vnd.jupyter.widget-view+json": {
       "model_id": "428c50d1570e4abea4043a5dab4b02c6",
       "version_major": 2,
       "version_minor": 0
      },
      "text/plain": [
       "  0%|          | 0/52857 [00:00<?, ?it/s]"
      ]
     },
     "metadata": {},
     "output_type": "display_data"
    },
    {
     "name": "stderr",
     "output_type": "stream",
     "text": [
      "100%|██████████| 1/1 [00:01<00:00,  1.26s/it]\n"
     ]
    },
    {
     "name": "stdout",
     "output_type": "stream",
     "text": [
      "meshparty_segment_size = 100\n",
      "Time for 1st pass MP skeletonization: 2.138307571411133\n",
      "branches_touching_root = [15]\n",
      "combining close nodes\n",
      "combine_threshold = 1300\n",
      "length of Graph = 12763\n",
      "After combining close endpoints max(kept_branches_idx) = 68, len(kept_branches_idx) = 66\n",
      "empty_indices % = 0.0\n",
      " conflict_indices % = 0.01381045038204167\n"
     ]
    },
    {
     "data": {
      "application/vnd.jupyter.widget-view+json": {
       "model_id": "b8d02de494e8474da944804ce3664e1f",
       "version_major": 2,
       "version_minor": 0
      },
      "text/plain": [
       "  0%|          | 0/34 [00:00<?, ?it/s]"
      ]
     },
     "metadata": {},
     "output_type": "display_data"
    },
    {
     "name": "stdout",
     "output_type": "stream",
     "text": [
      "AFTER face_lookup_resolved_test\n"
     ]
    },
    {
     "data": {
      "application/vnd.jupyter.widget-view+json": {
       "model_id": "53c269ac86fc44f8b384b21cf423c192",
       "version_major": 2,
       "version_minor": 0
      },
      "text/plain": [
       "  0%|          | 0/66 [00:00<?, ?it/s]"
      ]
     },
     "metadata": {},
     "output_type": "display_data"
    },
    {
     "name": "stdout",
     "output_type": "stream",
     "text": [
      "Decomposing first pass: 10.730112075805664\n",
      "Only Using MeshParty Skeletonization and Mesh Correspondence\n",
      "Another print\n",
      "Divinding into MP and MAP pieces: 0.00018858909606933594\n",
      "Total time for MAP sublimb processing 5.4836273193359375e-06\n",
      "---- Working on MP Decomposition #0 ----\n",
      "Using Quicker soma_to_piece_touching_vertices because no MAP and only one sublimb_mesh piece \n",
      "MP filtering soma verts: 0.0002906322479248047\n",
      "Fixing Possible Soma Extension Branch for Sublimb 0\n",
      "Total time for mesh KDTree = 0.17075181007385254\n",
      "sbv[0].reshape(-1,3) = [[1196370.  506625.  916923.]]\n",
      "closest_sk_pt_coord BEFORE = [1196479.00304277  507076.15213518  916575.45569843]\n",
      "current_skeleton.shape = (661, 2, 3)\n",
      "node_for_stitch = 661: [1196479.00304277  507076.15213518  916575.45569843]\n",
      "node_for_stitch AFTER = 661: [1196479.00304277  507076.15213518  916575.45569843]\n",
      "possible_node_loc = [  0 650 661]\n",
      "possible_node_loc AFTER = [  0 650 661]\n",
      "curr_shortest_path = [661]\n",
      "Current stitch point was a branch or endpoint\n",
      "change_status for create soma extending pieces = False\n",
      "closest_sk_pt_coord AFTER = [1196479.00304277  507076.15213518  916575.45569843]\n",
      "skipping soma 0 because closest skeleton node was already end node\n",
      "endpoints_must_keep = {0: array([[1196479.00304277,  507076.15213518,  916575.45569843]])}\n",
      "match_sk_branches = [13]\n",
      "The new branch info was none so skipping \n",
      "\n",
      "No soma extending branch was added for this sublimb even though it had a soma border (means they already existed)\n",
      "MP (because soma touching verts) soma extension add: 5.131143093109131\n",
      "There were not both MAP and MP pieces so skipping the stitch resolving phase\n",
      "Time for decomp of Limb = 18.946226596832275\n",
      "Number of matching vertices = 52\n",
      "Only one endpoint after filtering away the endpoints that are not on the skeleton\n",
      "Using Distance measure skeletal_distance\n",
      "endpoints_must_keep = [[1196479.00304277  507076.15213518  916575.45569843]]\n",
      "Number of end_nodes BEFORE filtering = 36\n",
      "all_single_nodes_to_eliminate = [24]\n"
     ]
    },
    {
     "data": {
      "application/vnd.jupyter.widget-view+json": {
       "model_id": "107bd172ff3a426c840ebe713423a275",
       "version_major": 2,
       "version_minor": 0
      },
      "text/plain": [
       "  0%|          | 0/9 [00:00<?, ?it/s]"
      ]
     },
     "metadata": {},
     "output_type": "display_data"
    },
    {
     "name": "stdout",
     "output_type": "stream",
     "text": [
      "Removed 9 skeletal branches\n"
     ]
    },
    {
     "data": {
      "application/vnd.jupyter.widget-view+json": {
       "model_id": "ce459d5d0ac141e0bca22bceff313b96",
       "version_major": 2,
       "version_minor": 0
      },
      "text/plain": [
       "  0%|          | 0/66 [00:00<?, ?it/s]"
      ]
     },
     "metadata": {},
     "output_type": "display_data"
    },
    {
     "name": "stdout",
     "output_type": "stream",
     "text": [
      "105514 105515\n",
      "For marked faces: None\n",
      "empty_indices % = 0.0\n",
      " conflict_indices % = 0.0\n"
     ]
    },
    {
     "data": {
      "application/vnd.jupyter.widget-view+json": {
       "model_id": "a48a84c8073843cba1ab0971d9d7058b",
       "version_major": 2,
       "version_minor": 0
      },
      "text/plain": [
       "0it [00:00, ?it/s]"
      ]
     },
     "metadata": {},
     "output_type": "display_data"
    },
    {
     "name": "stdout",
     "output_type": "stream",
     "text": [
      "AFTER face_lookup_resolved_test\n"
     ]
    },
    {
     "data": {
      "application/vnd.jupyter.widget-view+json": {
       "model_id": "4163f8b010024d5793eaba07c1cc777f",
       "version_major": 2,
       "version_minor": 0
      },
      "text/plain": [
       "  0%|          | 0/48 [00:00<?, ?it/s]"
      ]
     },
     "metadata": {},
     "output_type": "display_data"
    },
    {
     "name": "stdout",
     "output_type": "stream",
     "text": [
      "Limb Correspondence before stitching = 48\n",
      "Limb Correspondence AFTER stitching = 48\n",
      "Readjusting starting axon branch skeleton\n",
      "Fixing the axon starting branch endpoint to align with upstream branch\n",
      "Starting Branch 22 skeleton before fix: (878, 2, 3)\n",
      "Starting Branch 22 skeleton AFTER fix: (879, 2, 3)\n",
      "concept_network_dict = {0: [<networkx_utils.GraphOrderedEdges object at 0x7f031a187c18>]}\n",
      "\n",
      "\n",
      "----Working on seperate_graph 0----\n",
      "\n",
      "\n",
      "---------Working on soma_idx = 0, soma_group_idx 0, endpt = [1198493.52525253  501107.9050505   916132.93232323]---------\n",
      "Starting_edge inside branches_to_conept = [[1198430.          500987.          916095.        ]\n",
      " [1198493.52525253  501107.9050505   916132.93232323]]\n",
      "At the start, starting_node (in terms of the skeleton, that shouldn't match the starting edge) = [48]\n",
      "printing out current edge:\n",
      "[[1198493.52525253  501107.9050505   916132.93232323]\n",
      " [1198430.          500987.          916095.        ]]\n",
      "edge_endpoints_to_process was empty so exiting loop after 86 iterations\n",
      "starting_node in concept map (that should match the starting edge) = 48\n",
      "Total time for branches to concept conversion = 2.8369762897491455\n",
      "\n",
      "Done generating concept network \n",
      "\n",
      "\n"
     ]
    },
    {
     "data": {
      "application/vnd.jupyter.widget-view+json": {
       "model_id": "47eb96b5b77548babf5cbc2aa55599ac",
       "version_major": 2,
       "version_minor": 0
      },
      "text/plain": [
       "  0%|          | 0/37 [00:00<?, ?it/s]"
      ]
     },
     "metadata": {},
     "output_type": "display_data"
    },
    {
     "data": {
      "application/vnd.jupyter.widget-view+json": {
       "model_id": "806554e5eb2b4023ac8e5084a5ff4b38",
       "version_major": 2,
       "version_minor": 0
      },
      "text/plain": [
       "  0%|          | 0/29 [00:00<?, ?it/s]"
      ]
     },
     "metadata": {},
     "output_type": "display_data"
    },
    {
     "data": {
      "application/vnd.jupyter.widget-view+json": {
       "model_id": "bfa27f4236ee46db81e7f013372497cd",
       "version_major": 2,
       "version_minor": 0
      },
      "text/plain": [
       "  0%|          | 0/4 [00:00<?, ?it/s]"
      ]
     },
     "metadata": {},
     "output_type": "display_data"
    },
    {
     "data": {
      "application/vnd.jupyter.widget-view+json": {
       "model_id": "0ad500789858481fa3a10dc9c9054276",
       "version_major": 2,
       "version_minor": 0
      },
      "text/plain": [
       "  0%|          | 0/44 [00:00<?, ?it/s]"
      ]
     },
     "metadata": {},
     "output_type": "display_data"
    },
    {
     "data": {
      "application/vnd.jupyter.widget-view+json": {
       "model_id": "999b958affdf4f4382c8b058ce1dc132",
       "version_major": 2,
       "version_minor": 0
      },
      "text/plain": [
       "  0%|          | 0/11 [00:00<?, ?it/s]"
      ]
     },
     "metadata": {},
     "output_type": "display_data"
    },
    {
     "data": {
      "application/vnd.jupyter.widget-view+json": {
       "model_id": "ac6e38dc7ca542efb04f6ec4ebf890c1",
       "version_major": 2,
       "version_minor": 0
      },
      "text/plain": [
       "  0%|          | 0/11 [00:00<?, ?it/s]"
      ]
     },
     "metadata": {},
     "output_type": "display_data"
    },
    {
     "data": {
      "application/vnd.jupyter.widget-view+json": {
       "model_id": "576c36d388884f6d977b993b20dabe03",
       "version_major": 2,
       "version_minor": 0
      },
      "text/plain": [
       "  0%|          | 0/12 [00:00<?, ?it/s]"
      ]
     },
     "metadata": {},
     "output_type": "display_data"
    },
    {
     "data": {
      "application/vnd.jupyter.widget-view+json": {
       "model_id": "72a60b220e3a43f49ae2647ed1cce49e",
       "version_major": 2,
       "version_minor": 0
      },
      "text/plain": [
       "  0%|          | 0/4 [00:00<?, ?it/s]"
      ]
     },
     "metadata": {},
     "output_type": "display_data"
    },
    {
     "data": {
      "application/vnd.jupyter.widget-view+json": {
       "model_id": "faff41a8660e434c8bc1f60712d9705d",
       "version_major": 2,
       "version_minor": 0
      },
      "text/plain": [
       "  0%|          | 0/20 [00:00<?, ?it/s]"
      ]
     },
     "metadata": {},
     "output_type": "display_data"
    },
    {
     "data": {
      "application/vnd.jupyter.widget-view+json": {
       "model_id": "7be30f82d229487fb44c3ac2635aa9ca",
       "version_major": 2,
       "version_minor": 0
      },
      "text/plain": [
       "  0%|          | 0/14 [00:00<?, ?it/s]"
      ]
     },
     "metadata": {},
     "output_type": "display_data"
    },
    {
     "data": {
      "application/vnd.jupyter.widget-view+json": {
       "model_id": "8646695323b74fe98a851d3773c783ce",
       "version_major": 2,
       "version_minor": 0
      },
      "text/plain": [
       "  0%|          | 0/2 [00:00<?, ?it/s]"
      ]
     },
     "metadata": {},
     "output_type": "display_data"
    },
    {
     "data": {
      "application/vnd.jupyter.widget-view+json": {
       "model_id": "872419a61bf640d193ba0e9c10b9bfa1",
       "version_major": 2,
       "version_minor": 0
      },
      "text/plain": [
       "  0%|          | 0/3 [00:00<?, ?it/s]"
      ]
     },
     "metadata": {},
     "output_type": "display_data"
    },
    {
     "data": {
      "application/vnd.jupyter.widget-view+json": {
       "model_id": "2d15e5abba8f4548969149b73f94ad93",
       "version_major": 2,
       "version_minor": 0
      },
      "text/plain": [
       "  0%|          | 0/3 [00:00<?, ?it/s]"
      ]
     },
     "metadata": {},
     "output_type": "display_data"
    },
    {
     "data": {
      "application/vnd.jupyter.widget-view+json": {
       "model_id": "bfef835063b14441b0521409d617bed8",
       "version_major": 2,
       "version_minor": 0
      },
      "text/plain": [
       "  0%|          | 0/4 [00:00<?, ?it/s]"
      ]
     },
     "metadata": {},
     "output_type": "display_data"
    },
    {
     "data": {
      "application/vnd.jupyter.widget-view+json": {
       "model_id": "4d5e5728a0594b63842af6a6b30be85b",
       "version_major": 2,
       "version_minor": 0
      },
      "text/plain": [
       "  0%|          | 0/3 [00:00<?, ?it/s]"
      ]
     },
     "metadata": {},
     "output_type": "display_data"
    },
    {
     "data": {
      "application/vnd.jupyter.widget-view+json": {
       "model_id": "4798788ef0cf496c8e3480c089dbecfb",
       "version_major": 2,
       "version_minor": 0
      },
      "text/plain": [
       "  0%|          | 0/3 [00:00<?, ?it/s]"
      ]
     },
     "metadata": {},
     "output_type": "display_data"
    },
    {
     "data": {
      "application/vnd.jupyter.widget-view+json": {
       "model_id": "f50134e13fc643149529e6f8764630cb",
       "version_major": 2,
       "version_minor": 0
      },
      "text/plain": [
       "  0%|          | 0/10 [00:00<?, ?it/s]"
      ]
     },
     "metadata": {},
     "output_type": "display_data"
    },
    {
     "data": {
      "application/vnd.jupyter.widget-view+json": {
       "model_id": "7c259f1f1a72409a9e07c3679b270674",
       "version_major": 2,
       "version_minor": 0
      },
      "text/plain": [
       "  0%|          | 0/2 [00:00<?, ?it/s]"
      ]
     },
     "metadata": {},
     "output_type": "display_data"
    },
    {
     "data": {
      "application/vnd.jupyter.widget-view+json": {
       "model_id": "9cb7dad468e24956917d31ac10f35ea9",
       "version_major": 2,
       "version_minor": 0
      },
      "text/plain": [
       "  0%|          | 0/16 [00:00<?, ?it/s]"
      ]
     },
     "metadata": {},
     "output_type": "display_data"
    },
    {
     "data": {
      "application/vnd.jupyter.widget-view+json": {
       "model_id": "a855ea57bee447d284a2d40ccc3f8225",
       "version_major": 2,
       "version_minor": 0
      },
      "text/plain": [
       "  0%|          | 0/50 [00:00<?, ?it/s]"
      ]
     },
     "metadata": {},
     "output_type": "display_data"
    },
    {
     "data": {
      "application/vnd.jupyter.widget-view+json": {
       "model_id": "bc56e39975364733b982c0b09279e3f5",
       "version_major": 2,
       "version_minor": 0
      },
      "text/plain": [
       "  0%|          | 0/6 [00:00<?, ?it/s]"
      ]
     },
     "metadata": {},
     "output_type": "display_data"
    },
    {
     "data": {
      "application/vnd.jupyter.widget-view+json": {
       "model_id": "8e73790ee53c4f658fbf0327d2ed9532",
       "version_major": 2,
       "version_minor": 0
      },
      "text/plain": [
       "  0%|          | 0/18 [00:00<?, ?it/s]"
      ]
     },
     "metadata": {},
     "output_type": "display_data"
    },
    {
     "data": {
      "application/vnd.jupyter.widget-view+json": {
       "model_id": "214ae191955f4707abca2a307cf3194b",
       "version_major": 2,
       "version_minor": 0
      },
      "text/plain": [
       "  0%|          | 0/27 [00:00<?, ?it/s]"
      ]
     },
     "metadata": {},
     "output_type": "display_data"
    },
    {
     "data": {
      "application/vnd.jupyter.widget-view+json": {
       "model_id": "a10cac8dadc24de7a440cc739d39be36",
       "version_major": 2,
       "version_minor": 0
      },
      "text/plain": [
       "  0%|          | 0/16 [00:00<?, ?it/s]"
      ]
     },
     "metadata": {},
     "output_type": "display_data"
    },
    {
     "data": {
      "application/vnd.jupyter.widget-view+json": {
       "model_id": "420dabf4636548a6b4e7959927315590",
       "version_major": 2,
       "version_minor": 0
      },
      "text/plain": [
       "  0%|          | 0/6 [00:00<?, ?it/s]"
      ]
     },
     "metadata": {},
     "output_type": "display_data"
    },
    {
     "data": {
      "application/vnd.jupyter.widget-view+json": {
       "model_id": "84b5c7bad8ea4142856b784f4d0d58d3",
       "version_major": 2,
       "version_minor": 0
      },
      "text/plain": [
       "  0%|          | 0/53 [00:00<?, ?it/s]"
      ]
     },
     "metadata": {},
     "output_type": "display_data"
    },
    {
     "data": {
      "application/vnd.jupyter.widget-view+json": {
       "model_id": "75db46a04dd74c7a93ba8b7078f59f9c",
       "version_major": 2,
       "version_minor": 0
      },
      "text/plain": [
       "  0%|          | 0/5 [00:00<?, ?it/s]"
      ]
     },
     "metadata": {},
     "output_type": "display_data"
    },
    {
     "data": {
      "application/vnd.jupyter.widget-view+json": {
       "model_id": "82d494532c2245ae9fff807114d430b1",
       "version_major": 2,
       "version_minor": 0
      },
      "text/plain": [
       "  0%|          | 0/28 [00:00<?, ?it/s]"
      ]
     },
     "metadata": {},
     "output_type": "display_data"
    },
    {
     "data": {
      "application/vnd.jupyter.widget-view+json": {
       "model_id": "0b68b13594774c3ab5bbff6a6892fad5",
       "version_major": 2,
       "version_minor": 0
      },
      "text/plain": [
       "  0%|          | 0/17 [00:00<?, ?it/s]"
      ]
     },
     "metadata": {},
     "output_type": "display_data"
    },
    {
     "data": {
      "application/vnd.jupyter.widget-view+json": {
       "model_id": "56dc0a7312c5413c8623c21ecf7e5c40",
       "version_major": 2,
       "version_minor": 0
      },
      "text/plain": [
       "  0%|          | 0/8 [00:00<?, ?it/s]"
      ]
     },
     "metadata": {},
     "output_type": "display_data"
    },
    {
     "data": {
      "application/vnd.jupyter.widget-view+json": {
       "model_id": "18d7cb1a5e4d407286d661985f7a023f",
       "version_major": 2,
       "version_minor": 0
      },
      "text/plain": [
       "  0%|          | 0/3 [00:00<?, ?it/s]"
      ]
     },
     "metadata": {},
     "output_type": "display_data"
    },
    {
     "data": {
      "application/vnd.jupyter.widget-view+json": {
       "model_id": "ddeed234aafd4e06811d167f4b780d23",
       "version_major": 2,
       "version_minor": 0
      },
      "text/plain": [
       "  0%|          | 0/8 [00:00<?, ?it/s]"
      ]
     },
     "metadata": {},
     "output_type": "display_data"
    },
    {
     "data": {
      "application/vnd.jupyter.widget-view+json": {
       "model_id": "d388ab69402643229d6acac73571ca86",
       "version_major": 2,
       "version_minor": 0
      },
      "text/plain": [
       "  0%|          | 0/7 [00:00<?, ?it/s]"
      ]
     },
     "metadata": {},
     "output_type": "display_data"
    },
    {
     "data": {
      "application/vnd.jupyter.widget-view+json": {
       "model_id": "9a0c98574d1d40108a12eaf7282ba163",
       "version_major": 2,
       "version_minor": 0
      },
      "text/plain": [
       "  0%|          | 0/7 [00:00<?, ?it/s]"
      ]
     },
     "metadata": {},
     "output_type": "display_data"
    },
    {
     "data": {
      "application/vnd.jupyter.widget-view+json": {
       "model_id": "a9431efe7e474ad5a617cad0848f404e",
       "version_major": 2,
       "version_minor": 0
      },
      "text/plain": [
       "  0%|          | 0/7 [00:00<?, ?it/s]"
      ]
     },
     "metadata": {},
     "output_type": "display_data"
    },
    {
     "data": {
      "application/vnd.jupyter.widget-view+json": {
       "model_id": "49aa91161a2949edbf6360e3d2bc5de8",
       "version_major": 2,
       "version_minor": 0
      },
      "text/plain": [
       "  0%|          | 0/3 [00:00<?, ?it/s]"
      ]
     },
     "metadata": {},
     "output_type": "display_data"
    },
    {
     "data": {
      "application/vnd.jupyter.widget-view+json": {
       "model_id": "2b97c52455d94af684d9767f849fe55b",
       "version_major": 2,
       "version_minor": 0
      },
      "text/plain": [
       "  0%|          | 0/16 [00:00<?, ?it/s]"
      ]
     },
     "metadata": {},
     "output_type": "display_data"
    },
    {
     "data": {
      "application/vnd.jupyter.widget-view+json": {
       "model_id": "ce9436e0cdd64639a1d48b7621482bba",
       "version_major": 2,
       "version_minor": 0
      },
      "text/plain": [
       "  0%|          | 0/14 [00:00<?, ?it/s]"
      ]
     },
     "metadata": {},
     "output_type": "display_data"
    },
    {
     "data": {
      "application/vnd.jupyter.widget-view+json": {
       "model_id": "bde17ecd06ca41be84bafbe9fef3b848",
       "version_major": 2,
       "version_minor": 0
      },
      "text/plain": [
       "  0%|          | 0/15 [00:00<?, ?it/s]"
      ]
     },
     "metadata": {},
     "output_type": "display_data"
    },
    {
     "data": {
      "application/vnd.jupyter.widget-view+json": {
       "model_id": "ce4651f971b840a3b0b85b680e5ccb0c",
       "version_major": 2,
       "version_minor": 0
      },
      "text/plain": [
       "  0%|          | 0/15 [00:00<?, ?it/s]"
      ]
     },
     "metadata": {},
     "output_type": "display_data"
    },
    {
     "data": {
      "application/vnd.jupyter.widget-view+json": {
       "model_id": "818c798d44334d018c3655c9928925c3",
       "version_major": 2,
       "version_minor": 0
      },
      "text/plain": [
       "  0%|          | 0/18 [00:00<?, ?it/s]"
      ]
     },
     "metadata": {},
     "output_type": "display_data"
    },
    {
     "data": {
      "application/vnd.jupyter.widget-view+json": {
       "model_id": "40f6bf4c19a94a7fa0350e477cd75aac",
       "version_major": 2,
       "version_minor": 0
      },
      "text/plain": [
       "  0%|          | 0/10 [00:00<?, ?it/s]"
      ]
     },
     "metadata": {},
     "output_type": "display_data"
    },
    {
     "data": {
      "application/vnd.jupyter.widget-view+json": {
       "model_id": "6c15b5c14622489fb9687997ac7e5826",
       "version_major": 2,
       "version_minor": 0
      },
      "text/plain": [
       "  0%|          | 0/12 [00:00<?, ?it/s]"
      ]
     },
     "metadata": {},
     "output_type": "display_data"
    },
    {
     "data": {
      "application/vnd.jupyter.widget-view+json": {
       "model_id": "20e45648d7e143e5978f78da3698545a",
       "version_major": 2,
       "version_minor": 0
      },
      "text/plain": [
       "  0%|          | 0/60 [00:00<?, ?it/s]"
      ]
     },
     "metadata": {},
     "output_type": "display_data"
    },
    {
     "data": {
      "application/vnd.jupyter.widget-view+json": {
       "model_id": "b9d90b673944469894e206f8380b59c6",
       "version_major": 2,
       "version_minor": 0
      },
      "text/plain": [
       "  0%|          | 0/24 [00:00<?, ?it/s]"
      ]
     },
     "metadata": {},
     "output_type": "display_data"
    },
    {
     "data": {
      "application/vnd.jupyter.widget-view+json": {
       "model_id": "659a3748a4ec44beb18dadd915c37ecd",
       "version_major": 2,
       "version_minor": 0
      },
      "text/plain": [
       "  0%|          | 0/106 [00:00<?, ?it/s]"
      ]
     },
     "metadata": {},
     "output_type": "display_data"
    },
    {
     "data": {
      "application/vnd.jupyter.widget-view+json": {
       "model_id": "3cb089d0b86a482380eee8bc1643acbd",
       "version_major": 2,
       "version_minor": 0
      },
      "text/plain": [
       "  0%|          | 0/18 [00:00<?, ?it/s]"
      ]
     },
     "metadata": {},
     "output_type": "display_data"
    },
    {
     "data": {
      "application/vnd.jupyter.widget-view+json": {
       "model_id": "b85deee04a594454becf566817b70211",
       "version_major": 2,
       "version_minor": 0
      },
      "text/plain": [
       "  0%|          | 0/54 [00:00<?, ?it/s]"
      ]
     },
     "metadata": {},
     "output_type": "display_data"
    },
    {
     "data": {
      "application/vnd.jupyter.widget-view+json": {
       "model_id": "1f23e1041c4049c0b8c57ca4926b0937",
       "version_major": 2,
       "version_minor": 0
      },
      "text/plain": [
       "  0%|          | 0/16 [00:00<?, ?it/s]"
      ]
     },
     "metadata": {},
     "output_type": "display_data"
    },
    {
     "data": {
      "application/vnd.jupyter.widget-view+json": {
       "model_id": "0ef7953ff3144218ac94918ea80f2589",
       "version_major": 2,
       "version_minor": 0
      },
      "text/plain": [
       "  0%|          | 0/58 [00:00<?, ?it/s]"
      ]
     },
     "metadata": {},
     "output_type": "display_data"
    },
    {
     "data": {
      "application/vnd.jupyter.widget-view+json": {
       "model_id": "57c3eeb7827d441b951c7aee5228276e",
       "version_major": 2,
       "version_minor": 0
      },
      "text/plain": [
       "  0%|          | 0/12 [00:00<?, ?it/s]"
      ]
     },
     "metadata": {},
     "output_type": "display_data"
    },
    {
     "data": {
      "application/vnd.jupyter.widget-view+json": {
       "model_id": "52e144cfb3324039a71a11ba440fad4d",
       "version_major": 2,
       "version_minor": 0
      },
      "text/plain": [
       "  0%|          | 0/32 [00:00<?, ?it/s]"
      ]
     },
     "metadata": {},
     "output_type": "display_data"
    },
    {
     "data": {
      "application/vnd.jupyter.widget-view+json": {
       "model_id": "838b7a8f5ccd409bbdc3a782fe197a50",
       "version_major": 2,
       "version_minor": 0
      },
      "text/plain": [
       "  0%|          | 0/14 [00:00<?, ?it/s]"
      ]
     },
     "metadata": {},
     "output_type": "display_data"
    },
    {
     "data": {
      "application/vnd.jupyter.widget-view+json": {
       "model_id": "ba1e9c135eca49fb8f80231339a6b7a4",
       "version_major": 2,
       "version_minor": 0
      },
      "text/plain": [
       "  0%|          | 0/16 [00:00<?, ?it/s]"
      ]
     },
     "metadata": {},
     "output_type": "display_data"
    },
    {
     "data": {
      "application/vnd.jupyter.widget-view+json": {
       "model_id": "3ea67f7c34c54962bc5a6bdcc68ef901",
       "version_major": 2,
       "version_minor": 0
      },
      "text/plain": [
       "  0%|          | 0/30 [00:00<?, ?it/s]"
      ]
     },
     "metadata": {},
     "output_type": "display_data"
    },
    {
     "data": {
      "application/vnd.jupyter.widget-view+json": {
       "model_id": "13a8bc4e467847d0912e12ca32b34877",
       "version_major": 2,
       "version_minor": 0
      },
      "text/plain": [
       "  0%|          | 0/73 [00:00<?, ?it/s]"
      ]
     },
     "metadata": {},
     "output_type": "display_data"
    },
    {
     "data": {
      "application/vnd.jupyter.widget-view+json": {
       "model_id": "92292d8cbc07490386fbc5c36596cb97",
       "version_major": 2,
       "version_minor": 0
      },
      "text/plain": [
       "  0%|          | 0/59 [00:00<?, ?it/s]"
      ]
     },
     "metadata": {},
     "output_type": "display_data"
    },
    {
     "data": {
      "application/vnd.jupyter.widget-view+json": {
       "model_id": "7710246747564a73a6f1e3227f20d04d",
       "version_major": 2,
       "version_minor": 0
      },
      "text/plain": [
       "  0%|          | 0/17 [00:00<?, ?it/s]"
      ]
     },
     "metadata": {},
     "output_type": "display_data"
    },
    {
     "data": {
      "application/vnd.jupyter.widget-view+json": {
       "model_id": "3dce78aa9dc4425981aedb8a71fec8de",
       "version_major": 2,
       "version_minor": 0
      },
      "text/plain": [
       "  0%|          | 0/93 [00:00<?, ?it/s]"
      ]
     },
     "metadata": {},
     "output_type": "display_data"
    },
    {
     "data": {
      "application/vnd.jupyter.widget-view+json": {
       "model_id": "3988a578a92141479d385a28b41e7266",
       "version_major": 2,
       "version_minor": 0
      },
      "text/plain": [
       "  0%|          | 0/75 [00:00<?, ?it/s]"
      ]
     },
     "metadata": {},
     "output_type": "display_data"
    },
    {
     "name": "stdout",
     "output_type": "stream",
     "text": [
      "Synapsse Results:\n",
      "Total Number of Synapses = 7110\n",
      "n_valid_syn_ids_presyn = 41\n",
      "n_errored_syn_ids_presyn = 119\n",
      "n_valid_syn_ids_postsyn = 6602\n",
      "n_errored_syn_ids_postsyn = 348\n",
      "Synapsse Results:\n",
      "Total Number of Synapses = 7110\n",
      "n_valid_syn_ids_presyn = 41\n",
      "n_errored_syn_ids_presyn = 119\n",
      "n_valid_syn_ids_postsyn = 6602\n",
      "n_errored_syn_ids_postsyn = 348\n"
     ]
    },
    {
     "data": {
      "application/vnd.jupyter.widget-view+json": {
       "model_id": "2e65870a362440349f454f0a1b00ed97",
       "version_major": 2,
       "version_minor": 0
      },
      "text/plain": [
       "  0%|          | 0/24 [00:00<?, ?it/s]"
      ]
     },
     "metadata": {},
     "output_type": "display_data"
    },
    {
     "data": {
      "application/vnd.jupyter.widget-view+json": {
       "model_id": "72e0d23891734112a0fc581aa76d016f",
       "version_major": 2,
       "version_minor": 0
      },
      "text/plain": [
       "  0%|          | 0/5 [00:00<?, ?it/s]"
      ]
     },
     "metadata": {},
     "output_type": "display_data"
    },
    {
     "name": "stdout",
     "output_type": "stream",
     "text": [
      "Synapsse Results:\n",
      "Total Number of Synapses = 7110\n",
      "n_valid_syn_ids_presyn = 41\n",
      "n_errored_syn_ids_presyn = 119\n",
      "n_valid_syn_ids_postsyn = 6602\n",
      "n_errored_syn_ids_postsyn = 348\n",
      "Synapsse Results:\n",
      "Total Number of Synapses = 7110\n",
      "n_valid_syn_ids_presyn = 41\n",
      "n_errored_syn_ids_presyn = 119\n",
      "n_valid_syn_ids_postsyn = 6602\n",
      "n_errored_syn_ids_postsyn = 348\n"
     ]
    },
    {
     "data": {
      "application/vnd.jupyter.widget-view+json": {
       "model_id": "22aa696d435b4cb28a62555ef63ada3d",
       "version_major": 2,
       "version_minor": 0
      },
      "text/plain": [
       "  0%|          | 0/24 [00:00<?, ?it/s]"
      ]
     },
     "metadata": {},
     "output_type": "display_data"
    },
    {
     "data": {
      "application/vnd.jupyter.widget-view+json": {
       "model_id": "8afa74a3874841e38d1a97c8caeef913",
       "version_major": 2,
       "version_minor": 0
      },
      "text/plain": [
       "  0%|          | 0/5 [00:00<?, ?it/s]"
      ]
     },
     "metadata": {},
     "output_type": "display_data"
    },
    {
     "name": "stdout",
     "output_type": "stream",
     "text": [
      "\n",
      "\n",
      "len(branch_attr_keys) = 29\n",
      "Saving Neuorn in suppress_output mode...please wait\n",
      "Saved File at location: /mnt/dj-stor01/platinum/minnie65/02/decomposition/864691135785277636_0_25_soma_0_split_full_axon\n",
      "Save time = 489.39551424980164\n",
      "\n",
      "\n",
      " ***------ Total time for 864691135785277636 = 1154.0329468250275 ------ ***\n",
      "\n",
      "\n",
      "\n",
      "---- Working on Neuron 864691135945413668 ----\n",
      "Decompressing Neuron in minimal output mode...please wait\n",
      "Pulled from Table Decomposition so setting split_index = 0\n",
      "Dont need spine recalculation\n",
      "Number of Neurons found = 1\n",
      "\n",
      "Part 1: Axon like branchese \n",
      "{'L0': array([ 0,  1,  2,  3,  4,  5,  6,  8, 10, 12, 13, 14, 15, 18, 19, 20, 28,\n",
      "       29]), 'L2': array([6]), 'L5': array([0])}\n",
      "Limb L0 soma angle: 15.43 \n",
      "Limb L1 soma angle: 84.63 \n",
      "Limb L2 soma angle: 52.89 \n",
      "Limb L3 soma angle: 104.77 \n",
      "Limb L4 soma angle: 115.78 \n",
      "Limb L5 soma angle: 170.42 \n",
      "\n",
      "Part 2: possible_axon_limbs = [1, 3, 4, 5]\n",
      "\n",
      "Phase 2: Working on Limb L1\n",
      "nodes_to_eliminate = [5 6]\n",
      "\n",
      "Phase 2: Working on Limb L3\n",
      "nodes_to_eliminate = []\n",
      "\n",
      "Phase 2: Working on Limb L4\n",
      "nodes_to_eliminate = []\n",
      "\n",
      "Phase 2: Working on Limb L5\n",
      "nodes_to_eliminate = []\n",
      "\n",
      "----Working on Limb L1-----\n",
      "No endpoints were eliminated so don't need to add back any candidates\n",
      "\n",
      "----Working on Limb L3-----\n",
      "No nodes were eliminated so don't need to add back any candidates\n",
      "\n",
      "----Working on Limb L4-----\n",
      "No nodes were eliminated so don't need to add back any candidates\n",
      "\n",
      "----Working on Limb L5-----\n",
      "No nodes were eliminated so don't need to add back any candidates\n",
      "Final Candidates\n",
      "\n",
      "Limb 1\n",
      "Candidate 0 (olive): array([3])\n",
      "Candidate 1 (green): array([0])\n",
      "Candidate 2 (crimson): array([1, 2, 4])\n",
      "\n",
      "Limb 3\n",
      "Candidate 0 (forestgreen): array([0, 1, 2])\n",
      "\n",
      "Limb 4\n",
      "Candidate 0 (blue): array([0])\n",
      "\n",
      "Limb 5\n",
      "Candidate 0 (olive): array([0])\n",
      "Part 3: axon_subgraph_candidates = {1: [[3], [0], [1, 2, 4]], 3: [[0, 1, 2]], 4: [[0]], 5: [[0]]}\n",
      "\n",
      "\n",
      " --- Working on limb 1, candidate # 0\n",
      "0 out of 1 branches are axons\n",
      "Axon percentage = 0.0\n",
      "Not adding candidate no axon branches detected \n",
      "\n",
      "\n",
      " --- Working on limb 1, candidate # 1\n",
      "0 out of 1 branches are axons\n",
      "Axon percentage = 0.0\n",
      "Not adding candidate no axon branches detected \n",
      "\n",
      "\n",
      " --- Working on limb 1, candidate # 2\n",
      "0 out of 3 branches are axons\n",
      "Axon percentage = 0.0\n",
      "Not adding candidate no axon branches detected \n",
      "\n",
      "\n",
      " --- Working on limb 3, candidate # 0\n",
      "0 out of 3 branches are axons\n",
      "Axon percentage = 0.0\n",
      "Not adding candidate no axon branches detected \n",
      "\n",
      "\n",
      " --- Working on limb 4, candidate # 0\n",
      "0 out of 1 branches are axons\n",
      "Axon percentage = 0.0\n",
      "Not adding candidate no axon branches detected \n",
      "\n",
      "\n",
      " --- Working on limb 5, candidate # 0\n",
      "1 out of 1 branches are axons\n",
      "Axon percentage = 1.0\n",
      "curr_axon_angle_threshold = 95\n",
      "candidate_nodes = [0]\n",
      "non_axon_branches_on_subgraph = []\n",
      "endnodes_to_test = [212]\n",
      "Skeleton paths distances = [22676.83077439]\n",
      "Filtered indexes = [0]\n",
      "len(filtered_skeletons) = 1\n",
      "sk_angles = [157.50823577]\n",
      "candidate_angles,restr_skels = (array([157.50823577]), [array([[[796326.19694009, 715304.58603134, 683129.78846469],\n",
      "        [796327.61224106, 715402.08038653, 683151.98719177]],\n",
      "\n",
      "       [[796327.61224106, 715402.08038653, 683151.98719177],\n",
      "        [796328.90589238, 715499.56415256, 683174.24051139]],\n",
      "\n",
      "       [[796328.90589238, 715499.56415256, 683174.24051139],\n",
      "        [796329.89789804, 715597.02734745, 683196.59988449]],\n",
      "\n",
      "       [[796329.89789804, 715597.02734745, 683196.59988449],\n",
      "        [796331.23442698, 715694.55420263, 683218.65663126]],\n",
      "\n",
      "       [[796331.23442698, 715694.55420263, 683218.65663126],\n",
      "        [796332.93444778, 715792.14822306, 683240.39408985]],\n",
      "\n",
      "       [[796332.93444778, 715792.14822306, 683240.39408985],\n",
      "        [796335.87064432, 715889.8456637 , 683261.51025198]],\n",
      "\n",
      "       [[796335.87064432, 715889.8456637 , 683261.51025198],\n",
      "        [796339.25417425, 715987.5805289 , 683282.40158633]],\n",
      "\n",
      "       [[796339.25417425, 715987.5805289 , 683282.40158633],\n",
      "        [796345.00244026, 716085.29141787, 683302.88188689]],\n",
      "\n",
      "       [[796345.00244026, 716085.29141787, 683302.88188689],\n",
      "        [796351.49438484, 716182.92277029, 683323.48240673]],\n",
      "\n",
      "       [[796351.49438484, 716182.92277029, 683323.48240673],\n",
      "        [796360.15042528, 716280.31083441, 683344.47378427]],\n",
      "\n",
      "       [[796360.15042528, 716280.31083441, 683344.47378427],\n",
      "        [796370.49276373, 716377.32103791, 683366.35528685]],\n",
      "\n",
      "       [[796370.49276373, 716377.32103791, 683366.35528685],\n",
      "        [796382.28826973, 716474.00561997, 683389.0038548 ]],\n",
      "\n",
      "       [[796382.28826973, 716474.00561997, 683389.0038548 ],\n",
      "        [796396.95072225, 716569.70562663, 683413.9932594 ]],\n",
      "\n",
      "       [[796396.95072225, 716569.70562663, 683413.9932594 ],\n",
      "        [796412.92347585, 716664.84522818, 683440.2338239 ]],\n",
      "\n",
      "       [[796412.92347585, 716664.84522818, 683440.2338239 ],\n",
      "        [796431.22451573, 716758.90256367, 683468.8395852 ]],\n",
      "\n",
      "       [[796431.22451573, 716758.90256367, 683468.8395852 ],\n",
      "        [796451.76497215, 716851.65693739, 683499.99062312]],\n",
      "\n",
      "       [[796451.76497215, 716851.65693739, 683499.99062312],\n",
      "        [796473.72287283, 716943.50895601, 683532.81679285]],\n",
      "\n",
      "       [[796473.72287283, 716943.50895601, 683532.81679285],\n",
      "        [796497.39108856, 717034.17131647, 683567.74746648]],\n",
      "\n",
      "       [[796497.39108856, 717034.17131647, 683567.74746648],\n",
      "        [796522.33320385, 717123.7657307 , 683604.48600719]],\n",
      "\n",
      "       [[796522.33320385, 717123.7657307 , 683604.48600719],\n",
      "        [796547.66370429, 717212.93174895, 683642.00102912]],\n",
      "\n",
      "       [[796547.66370429, 717212.93174895, 683642.00102912],\n",
      "        [796573.22046903, 717301.7749895 , 683680.12884554]],\n",
      "\n",
      "       [[796573.22046903, 717301.7749895 , 683680.12884554],\n",
      "        [796598.16913035, 717390.75960029, 683718.32963014]],\n",
      "\n",
      "       [[796598.16913035, 717390.75960029, 683718.32963014],\n",
      "        [796622.45184348, 717480.089131  , 683756.14333469]],\n",
      "\n",
      "       [[796622.45184348, 717480.089131  , 683756.14333469],\n",
      "        [796646.07052633, 717569.76408835, 683793.56738906]],\n",
      "\n",
      "       [[796646.07052633, 717569.76408835, 683793.56738906],\n",
      "        [796668.16368062, 717660.3545398 , 683829.69202274]],\n",
      "\n",
      "       [[796668.16368062, 717660.3545398 , 683829.69202274],\n",
      "        [796689.68189538, 717751.32734195, 683865.18323563]],\n",
      "\n",
      "       [[796689.68189538, 717751.32734195, 683865.18323563],\n",
      "        [796710.24811459, 717842.94410976, 683899.58379499]],\n",
      "\n",
      "       [[796710.24811459, 717842.94410976, 683899.58379499],\n",
      "        [796730.24613903, 717935.08559149, 683932.88883276]],\n",
      "\n",
      "       [[796730.24613903, 717935.08559149, 683932.88883276],\n",
      "        [796749.99584094, 718027.46951575, 683965.67789257]],\n",
      "\n",
      "       [[796749.99584094, 718027.46951575, 683965.67789257],\n",
      "        [796769.9428749 , 718120.22195809, 683997.28644007]],\n",
      "\n",
      "       [[796769.9428749 , 718120.22195809, 683997.28644007],\n",
      "        [796790.41784325, 718212.9352852 , 684028.66147318]],\n",
      "\n",
      "       [[796790.41784325, 718212.9352852 , 684028.66147318],\n",
      "        [796811.87361206, 718305.57594373, 684059.6026815 ]],\n",
      "\n",
      "       [[796811.87361206, 718305.57594373, 684059.6026815 ],\n",
      "        [796835.29873734, 718397.7693637 , 684090.42039994]],\n",
      "\n",
      "       [[796835.29873734, 718397.7693637 , 684090.42039994],\n",
      "        [796859.74313126, 718489.72459771, 684121.18180513]],\n",
      "\n",
      "       [[796859.74313126, 718489.72459771, 684121.18180513],\n",
      "        [796888.15278131, 718580.5204375 , 684151.98776657]],\n",
      "\n",
      "       [[796888.15278131, 718580.5204375 , 684151.98776657],\n",
      "        [796918.38520451, 718670.69958311, 684182.77139969]],\n",
      "\n",
      "       [[796918.38520451, 718670.69958311, 684182.77139969],\n",
      "        [796951.61523726, 718759.86455514, 684213.51831315]],\n",
      "\n",
      "       [[796951.61523726, 718759.86455514, 684213.51831315],\n",
      "        [796988.53416466, 718847.63434464, 684243.97961172]],\n",
      "\n",
      "       [[796988.53416466, 718847.63434464, 684243.97961172],\n",
      "        [797027.21408775, 718934.72150172, 684274.26955362]],\n",
      "\n",
      "       [[797027.21408775, 718934.72150172, 684274.26955362],\n",
      "        [797070.01803161, 719020.09600252, 684303.91777454]],\n",
      "\n",
      "       [[797070.01803161, 719020.09600252, 684303.91777454],\n",
      "        [797114.43429072, 719104.74767693, 684333.19879534]],\n",
      "\n",
      "       [[797114.43429072, 719104.74767693, 684333.19879534],\n",
      "        [797160.78706924, 719188.53117912, 684362.03877947]],\n",
      "\n",
      "       [[797160.78706924, 719188.53117912, 684362.03877947],\n",
      "        [797208.72348303, 719271.5703018 , 684390.42551436]],\n",
      "\n",
      "       [[797208.72348303, 719271.5703018 , 684390.42551436],\n",
      "        [797257.02851041, 719354.43822011, 684418.70147495]],\n",
      "\n",
      "       [[797257.02851041, 719354.43822011, 684418.70147495],\n",
      "        [797305.22998058, 719437.36668891, 684446.97668205]],\n",
      "\n",
      "       [[797305.22998058, 719437.36668891, 684446.97668205],\n",
      "        [797352.13980051, 719520.89244311, 684475.62418993]],\n",
      "\n",
      "       [[797352.13980051, 719520.89244311, 684475.62418993],\n",
      "        [797397.71394266, 719605.03584195, 684504.65668893]],\n",
      "\n",
      "       [[797397.71394266, 719605.03584195, 684504.65668893],\n",
      "        [797438.89262238, 719690.94673913, 684534.97163776]],\n",
      "\n",
      "       [[797438.89262238, 719690.94673913, 684534.97163776],\n",
      "        [797477.88984827, 719777.61758784, 684565.92257845]],\n",
      "\n",
      "       [[797477.88984827, 719777.61758784, 684565.92257845],\n",
      "        [797510.92695414, 719866.16170631, 684598.61032417]],\n",
      "\n",
      "       [[797510.92695414, 719866.16170631, 684598.61032417],\n",
      "        [797539.9476297 , 719955.54328743, 684632.53337597]],\n",
      "\n",
      "       [[797539.9476297 , 719955.54328743, 684632.53337597],\n",
      "        [797565.0391941 , 720045.74412436, 684667.66487769]],\n",
      "\n",
      "       [[797565.0391941 , 720045.74412436, 684667.66487769],\n",
      "        [797584.80379438, 720136.43201896, 684704.75564565]],\n",
      "\n",
      "       [[797584.80379438, 720136.43201896, 684704.75564565],\n",
      "        [797603.03505586, 720227.26011056, 684742.41037816]],\n",
      "\n",
      "       [[797603.03505586, 720227.26011056, 684742.41037816],\n",
      "        [797616.80184709, 720317.85740483, 684782.43253295]],\n",
      "\n",
      "       [[797616.80184709, 720317.85740483, 684782.43253295],\n",
      "        [797630.27573748, 720408.39925885, 684822.68158019]],\n",
      "\n",
      "       [[797630.27573748, 720408.39925885, 684822.68158019],\n",
      "        [797641.71604607, 720498.28075369, 684864.99512679]],\n",
      "\n",
      "       [[797641.71604607, 720498.28075369, 684864.99512679],\n",
      "        [797653.13213603, 720588.09570245, 684907.45272734]],\n",
      "\n",
      "       [[797653.13213603, 720588.09570245, 684907.45272734],\n",
      "        [797664.26622594, 720677.13579348, 684951.5876821 ]],\n",
      "\n",
      "       [[797664.26622594, 720677.13579348, 684951.5876821 ],\n",
      "        [797675.42038607, 720766.1558183 , 684995.75717526]],\n",
      "\n",
      "       [[797675.42038607, 720766.1558183 , 684995.75717526],\n",
      "        [797687.33549762, 720854.41504355, 685041.23617345]],\n",
      "\n",
      "       [[797687.33549762, 720854.41504355, 685041.23617345],\n",
      "        [797699.25060917, 720942.67426879, 685086.71517163]],\n",
      "\n",
      "       [[797699.25060917, 720942.67426879, 685086.71517163],\n",
      "        [797712.35442866, 721030.2909719 , 685133.09888164]],\n",
      "\n",
      "       [[797712.35442866, 721030.2909719 , 685133.09888164],\n",
      "        [797725.52778794, 721117.87008727, 685179.53551758]],\n",
      "\n",
      "       [[797725.52778794, 721117.87008727, 685179.53551758],\n",
      "        [797740.03316698, 721204.83426474, 685226.72092729]],\n",
      "\n",
      "       [[797740.03316698, 721204.83426474, 685226.72092729],\n",
      "        [797754.71672877, 721291.71618267, 685274.00649961]],\n",
      "\n",
      "       [[797754.71672877, 721291.71618267, 685274.00649961],\n",
      "        [797771.08470413, 721377.75225672, 685322.2692004 ]],\n",
      "\n",
      "       [[797771.08470413, 721377.75225672, 685322.2692004 ],\n",
      "        [797787.67504778, 721463.67666649, 685370.66089705]],\n",
      "\n",
      "       [[797787.67504778, 721463.67666649, 685370.66089705],\n",
      "        [797806.8364467 , 721548.14518152, 685420.63819414]],\n",
      "\n",
      "       [[797806.8364467 , 721548.14518152, 685420.63819414],\n",
      "        [797826.72989647, 721632.17536944, 685471.03616391]],\n",
      "\n",
      "       [[797826.72989647, 721632.17536944, 685471.03616391],\n",
      "        [797849.38698318, 721714.54541768, 685523.01530948]],\n",
      "\n",
      "       [[797849.38698318, 721714.54541768, 685523.01530948],\n",
      "        [797874.1004255 , 721795.72313208, 685575.86930957]],\n",
      "\n",
      "       [[797874.1004255 , 721795.72313208, 685575.86930957],\n",
      "        [797900.6982626 , 721875.80822045, 685629.52500528]],\n",
      "\n",
      "       [[797900.6982626 , 721875.80822045, 685629.52500528],\n",
      "        [797930.56060667, 721954.44962618, 685683.58650428]],\n",
      "\n",
      "       [[797930.56060667, 721954.44962618, 685683.58650428],\n",
      "        [797961.45750357, 722033.02089547, 685737.16271381]],\n",
      "\n",
      "       [[797961.45750357, 722033.02089547, 685737.16271381],\n",
      "        [797993.7232649 , 722111.69361384, 685789.7889813 ]],\n",
      "\n",
      "       [[797993.7232649 , 722111.69361384, 685789.7889813 ],\n",
      "        [798025.93389912, 722192.13783135, 685839.67179016]],\n",
      "\n",
      "       [[798025.93389912, 722192.13783135, 685839.67179016],\n",
      "        [798057.66842462, 722273.7653407 , 685887.86776623]],\n",
      "\n",
      "       [[798057.66842462, 722273.7653407 , 685887.86776623],\n",
      "        [798087.36104147, 722358.49433235, 685931.90577798]],\n",
      "\n",
      "       [[798087.36104147, 722358.49433235, 685931.90577798],\n",
      "        [798114.63959376, 722445.45913818, 685972.82596619]],\n",
      "\n",
      "       [[798114.63959376, 722445.45913818, 685972.82596619],\n",
      "        [798139.73976944, 722534.441473  , 686010.93272765]],\n",
      "\n",
      "       [[798139.73976944, 722534.441473  , 686010.93272765],\n",
      "        [798160.18729497, 722626.36248439, 686044.38160746]],\n",
      "\n",
      "       [[798160.18729497, 722626.36248439, 686044.38160746],\n",
      "        [798179.41758498, 722719.05231814, 686076.61188307]],\n",
      "\n",
      "       [[798179.41758498, 722719.05231814, 686076.61188307],\n",
      "        [798192.58722305, 722814.35359773, 686103.86178726]],\n",
      "\n",
      "       [[798192.58722305, 722814.35359773, 686103.86178726],\n",
      "        [798205.14115257, 722909.85060888, 686130.67334851]],\n",
      "\n",
      "       [[798205.14115257, 722909.85060888, 686130.67334851],\n",
      "        [798212.32949364, 723006.86144506, 686153.85147216]],\n",
      "\n",
      "       [[798212.32949364, 723006.86144506, 686153.85147216],\n",
      "        [798218.88845178, 723103.97798769, 686176.69132258]],\n",
      "\n",
      "       [[798218.88845178, 723103.97798769, 686176.69132258],\n",
      "        [798220.98579171, 723201.84387036, 686197.13319565]],\n",
      "\n",
      "       [[798220.98579171, 723201.84387036, 686197.13319565],\n",
      "        [798222.49809451, 723299.75512743, 686217.3476577 ]],\n",
      "\n",
      "       [[798222.49809451, 723299.75512743, 686217.3476577 ],\n",
      "        [798220.35549045, 723397.94985236, 686236.14141316]],\n",
      "\n",
      "       [[798220.35549045, 723397.94985236, 686236.14141316],\n",
      "        [798217.66591363, 723496.14613616, 686254.81270881]],\n",
      "\n",
      "       [[798217.66591363, 723496.14613616, 686254.81270881],\n",
      "        [798212.12334278, 723594.35055098, 686272.84525767]],\n",
      "\n",
      "       [[798212.12334278, 723594.35055098, 686272.84525767],\n",
      "        [798205.98277774, 723692.51659893, 686290.85920842]],\n",
      "\n",
      "       [[798205.98277774, 723692.51659893, 686290.85920842],\n",
      "        [798197.81559167, 723790.55262037, 686308.81012963]],\n",
      "\n",
      "       [[798197.81559167, 723790.55262037, 686308.81012963],\n",
      "        [798188.92254979, 723888.491598  , 686326.91786576]],\n",
      "\n",
      "       [[798188.92254979, 723888.491598  , 686326.91786576],\n",
      "        [798178.76077891, 723986.26095202, 686345.29969995]],\n",
      "\n",
      "       [[798178.76077891, 723986.26095202, 686345.29969995],\n",
      "        [798167.65639889, 724083.83016084, 686364.16994058]],\n",
      "\n",
      "       [[798167.65639889, 724083.83016084, 686364.16994058],\n",
      "        [798155.86047225, 724181.25253284, 686383.39850133]],\n",
      "\n",
      "       [[798155.86047225, 724181.25253284, 686383.39850133],\n",
      "        [798142.71035314, 724278.28541135, 686403.67573722]],\n",
      "\n",
      "       [[798142.71035314, 724278.28541135, 686403.67573722],\n",
      "        [798129.06138496, 724375.15567941, 686424.39056608]]])])\n",
      "base_final_widths = [220.1121722  236.38849586]\n",
      "overall_ais_width = 205.97119937353833\n",
      "ais_width = 228.25033402643572\n",
      "Adding the following branches as true axons: [0.]\n",
      "curr_soma_angle = 170.42\n",
      "max_axon_angle = 157.50823577302162\n",
      "Changing to a better axon candidate\n",
      "Using the best axon approach\n",
      "Using True\n",
      "Limb L5: Axon branches before dendritic path filter = [0.]\n",
      "Limb L5: Axon branches AFTER dendritic path filter = [0.]\n",
      "\n",
      "\n",
      "Part 4: final_true_axons = {'L5': array([0.])}\n",
      "\n",
      "--- Working on filter 0:\n",
      "function = dendrite_on_axon_merges\n",
      "function __name__ = filter_away_dendrite_on_axon_merges\n",
      "function arguments = {'use_pre_existing_axon_labels': True}\n",
      "\n",
      "\n"
     ]
    },
    {
     "name": "stderr",
     "output_type": "stream",
     "text": [
      "\r",
      "  0%|          | 0/1 [00:00<?, ?it/s]"
     ]
    },
    {
     "name": "stdout",
     "output_type": "stream",
     "text": [
      "\n",
      "\n",
      "\n",
      " ---- Total time for applying filter: 0.15212798118591309 -----\n",
      "Starting axon branch was the starting node so using border vertices and NOT computing upstream branch\n",
      "upstream_node_to_axon_starting_branch = None\n",
      "root_curr = [792874.2 706609.1 679392.8]\n",
      "Time for preparing soma vertices and root: 0.0005140304565429688\n",
      "invalidation_d = 2000\n",
      "cc_vertex_thresh = 10\n"
     ]
    },
    {
     "data": {
      "application/vnd.jupyter.widget-view+json": {
       "model_id": "0d0551b7e8fb47f38604af5b452ced43",
       "version_major": 2,
       "version_minor": 0
      },
      "text/plain": [
       "  0%|          | 0/1262 [00:00<?, ?it/s]"
      ]
     },
     "metadata": {},
     "output_type": "display_data"
    },
    {
     "name": "stderr",
     "output_type": "stream",
     "text": [
      "\r",
      "100%|██████████| 1/1 [00:00<00:00, 29.87it/s]"
     ]
    },
    {
     "name": "stdout",
     "output_type": "stream",
     "text": [
      "meshparty_segment_size = 100\n",
      "Time for 1st pass MP skeletonization: 0.09863591194152832\n",
      "branches_touching_root = [0]\n"
     ]
    },
    {
     "name": "stderr",
     "output_type": "stream",
     "text": [
      "\n"
     ]
    },
    {
     "name": "stdout",
     "output_type": "stream",
     "text": [
      "combining close nodes\n",
      "combine_threshold = 1300\n",
      "length of Graph = 228\n",
      "After combining close endpoints max(kept_branches_idx) = 0, len(kept_branches_idx) = 1\n",
      "empty_indices % = 0.0\n",
      " conflict_indices % = 0.0\n"
     ]
    },
    {
     "data": {
      "application/vnd.jupyter.widget-view+json": {
       "model_id": "641f0734d03049a2877e3717857e35b9",
       "version_major": 2,
       "version_minor": 0
      },
      "text/plain": [
       "0it [00:00, ?it/s]"
      ]
     },
     "metadata": {},
     "output_type": "display_data"
    },
    {
     "name": "stdout",
     "output_type": "stream",
     "text": [
      "AFTER face_lookup_resolved_test\n"
     ]
    },
    {
     "data": {
      "application/vnd.jupyter.widget-view+json": {
       "model_id": "edb7fdc4b448426b92c77e2914f662fb",
       "version_major": 2,
       "version_minor": 0
      },
      "text/plain": [
       "  0%|          | 0/1 [00:00<?, ?it/s]"
      ]
     },
     "metadata": {},
     "output_type": "display_data"
    },
    {
     "name": "stdout",
     "output_type": "stream",
     "text": [
      "Decomposing first pass: 0.2004542350769043\n",
      "Only Using MeshParty Skeletonization and Mesh Correspondence\n",
      "Another print\n",
      "Divinding into MP and MAP pieces: 3.600120544433594e-05\n",
      "Total time for MAP sublimb processing 4.76837158203125e-06\n",
      "---- Working on MP Decomposition #0 ----\n",
      "Using Quicker soma_to_piece_touching_vertices because no MAP and only one sublimb_mesh piece \n",
      "MP filtering soma verts: 7.891654968261719e-05\n",
      "Fixing Possible Soma Extension Branch for Sublimb 0\n",
      "Total time for mesh KDTree = 0.0566554069519043\n",
      "sbv[0].reshape(-1,3) = [[792874.2 706609.1 679392.8]]\n",
      "closest_sk_pt_coord BEFORE = [792166.95883094 707090.85970709 679678.74255349]\n",
      "current_skeleton.shape = (227, 2, 3)\n",
      "node_for_stitch = 0: [792166.95883094 707090.85970709 679678.74255349]\n",
      "node_for_stitch AFTER = 0: [792166.95883094 707090.85970709 679678.74255349]\n",
      "possible_node_loc = [  0 212]\n",
      "possible_node_loc AFTER = [  0 212]\n",
      "curr_shortest_path = [0]\n",
      "Current stitch point was a branch or endpoint\n",
      "change_status for create soma extending pieces = False\n",
      "closest_sk_pt_coord AFTER = [792166.95883094 707090.85970709 679678.74255349]\n",
      "skipping soma 0 because closest skeleton node was already end node\n",
      "endpoints_must_keep = {0: array([[792166.95883094, 707090.85970709, 679678.74255349]])}\n",
      "match_sk_branches = [0]\n",
      "The new branch info was none so skipping \n",
      "\n",
      "No soma extending branch was added for this sublimb even though it had a soma border (means they already existed)\n",
      "MP (because soma touching verts) soma extension add: 0.19816923141479492\n",
      "There were not both MAP and MP pieces so skipping the stitch resolving phase\n",
      "Time for decomp of Limb = 0.5053582191467285\n",
      "Number of matching vertices = 23\n",
      "Only one endpoint after filtering away the endpoints that are not on the skeleton\n",
      "Using Distance measure skeletal_distance\n",
      "endpoints_must_keep = [[792166.95883094 707090.85970709 679678.74255349]]\n",
      "Number of end_nodes BEFORE filtering = 2\n",
      "all_single_nodes_to_eliminate = [0]\n",
      "no small end nodes to get rid of so returning whole skeleton\n",
      "Removed 0 skeletal branches\n"
     ]
    },
    {
     "data": {
      "application/vnd.jupyter.widget-view+json": {
       "model_id": "375a05444a9949f8ba80dcea4a31faaf",
       "version_major": 2,
       "version_minor": 0
      },
      "text/plain": [
       "  0%|          | 0/1 [00:00<?, ?it/s]"
      ]
     },
     "metadata": {},
     "output_type": "display_data"
    },
    {
     "name": "stdout",
     "output_type": "stream",
     "text": [
      "2500 2501\n",
      "For marked faces: None\n",
      "empty_indices % = 0.0\n",
      " conflict_indices % = 0.0\n"
     ]
    },
    {
     "data": {
      "application/vnd.jupyter.widget-view+json": {
       "model_id": "38672aaf8af04b278d9f3003e55e62b7",
       "version_major": 2,
       "version_minor": 0
      },
      "text/plain": [
       "0it [00:00, ?it/s]"
      ]
     },
     "metadata": {},
     "output_type": "display_data"
    },
    {
     "name": "stdout",
     "output_type": "stream",
     "text": [
      "AFTER face_lookup_resolved_test\n"
     ]
    },
    {
     "data": {
      "application/vnd.jupyter.widget-view+json": {
       "model_id": "93a328ba5bd24adc958887cdbd85b5bc",
       "version_major": 2,
       "version_minor": 0
      },
      "text/plain": [
       "  0%|          | 0/1 [00:00<?, ?it/s]"
      ]
     },
     "metadata": {},
     "output_type": "display_data"
    },
    {
     "name": "stdout",
     "output_type": "stream",
     "text": [
      "Limb Correspondence before stitching = 1\n",
      "Limb Correspondence AFTER stitching = 1\n",
      "Upstream node was None so don't have to adjust\n",
      "concept_network_dict = {0: [<networkx_utils.GraphOrderedEdges object at 0x7f0317b26588>]}\n",
      "\n",
      "\n",
      "----Working on seperate_graph 0----\n",
      "\n",
      "\n",
      "---------Working on soma_idx = 0, soma_group_idx 0, endpt = [792166.95883094 707090.85970709 679678.74255349]---------\n",
      "Starting_edge inside branches_to_conept = [[792166.95883094 707090.85970709 679678.74255349]\n",
      " [798165.49955713 726941.0453741  687086.15003067]]\n",
      "Done generating concept network \n",
      "\n",
      "\n",
      "Synapsse Results:\n",
      "Total Number of Synapses = 1645\n",
      "n_valid_syn_ids_presyn = 0\n",
      "n_errored_syn_ids_presyn = 108\n",
      "n_valid_syn_ids_postsyn = 1536\n",
      "n_errored_syn_ids_postsyn = 1\n",
      "Synapsse Results:\n",
      "Total Number of Synapses = 1645\n",
      "n_valid_syn_ids_presyn = 0\n",
      "n_errored_syn_ids_presyn = 108\n",
      "n_valid_syn_ids_postsyn = 1536\n",
      "n_errored_syn_ids_postsyn = 1\n"
     ]
    },
    {
     "data": {
      "application/vnd.jupyter.widget-view+json": {
       "model_id": "9d4030da7728473a97f85a9ff1d23d94",
       "version_major": 2,
       "version_minor": 0
      },
      "text/plain": [
       "0it [00:00, ?it/s]"
      ]
     },
     "metadata": {},
     "output_type": "display_data"
    },
    {
     "data": {
      "application/vnd.jupyter.widget-view+json": {
       "model_id": "1324912a107a414fa28e9d7a44cd25f5",
       "version_major": 2,
       "version_minor": 0
      },
      "text/plain": [
       "0it [00:00, ?it/s]"
      ]
     },
     "metadata": {},
     "output_type": "display_data"
    },
    {
     "name": "stdout",
     "output_type": "stream",
     "text": [
      "Synapsse Results:\n",
      "Total Number of Synapses = 1645\n",
      "n_valid_syn_ids_presyn = 0\n",
      "n_errored_syn_ids_presyn = 108\n",
      "n_valid_syn_ids_postsyn = 1536\n",
      "n_errored_syn_ids_postsyn = 1\n",
      "Synapsse Results:\n",
      "Total Number of Synapses = 1645\n",
      "n_valid_syn_ids_presyn = 0\n",
      "n_errored_syn_ids_presyn = 108\n",
      "n_valid_syn_ids_postsyn = 1536\n",
      "n_errored_syn_ids_postsyn = 1\n"
     ]
    },
    {
     "data": {
      "application/vnd.jupyter.widget-view+json": {
       "model_id": "18d9933310ba4039a7698a07a78ffc76",
       "version_major": 2,
       "version_minor": 0
      },
      "text/plain": [
       "0it [00:00, ?it/s]"
      ]
     },
     "metadata": {},
     "output_type": "display_data"
    },
    {
     "data": {
      "application/vnd.jupyter.widget-view+json": {
       "model_id": "313025405a754170add0fbe6444aaecc",
       "version_major": 2,
       "version_minor": 0
      },
      "text/plain": [
       "0it [00:00, ?it/s]"
      ]
     },
     "metadata": {},
     "output_type": "display_data"
    },
    {
     "name": "stdout",
     "output_type": "stream",
     "text": [
      "\n",
      "\n",
      "len(branch_attr_keys) = 0\n",
      "Saving Neuorn in suppress_output mode...please wait\n",
      "Saved File at location: /mnt/dj-stor01/platinum/minnie65/02/decomposition/864691135945413668_0_25_full_axon\n",
      "Save time = 79.77445125579834\n",
      "\n",
      "\n",
      " ***------ Total time for 864691135945413668 = 122.6787543296814 ------ ***\n",
      "\n",
      "\n",
      "\n",
      "---- Working on Neuron 864691135974454639 ----\n",
      "Decompressing Neuron in minimal output mode...please wait\n",
      "Pulled from Table Decomposition so setting split_index = 0\n",
      "Dont need spine recalculation\n",
      "Number of Neurons found = 1\n",
      "\n",
      "Part 1: Axon like branchese \n",
      "{'L0': array([16]), 'L2': array([ 0,  1,  2,  3,  4,  5,  6,  7,  8,  9, 10, 11, 12, 13, 14, 15, 16,\n",
      "       17, 18, 19, 20, 21, 22, 23, 24, 25]), 'L5': array([0, 1, 2, 3, 4, 5, 6]), 'L6': array([0, 4])}\n",
      "Limb L0 soma angle: 10.97 \n",
      "Limb L1 soma angle: 111.17 \n",
      "Limb L2 soma angle: 96.04 \n",
      "Limb L3 soma angle: 115.03 \n",
      "Limb L4 soma angle: 138.68 \n",
      "Limb L5 soma angle: 163.04 \n",
      "Limb L6 soma angle: 53.65 \n",
      "\n",
      "Part 2: possible_axon_limbs = [1, 2, 3, 4, 5]\n",
      "\n",
      "Phase 2: Working on Limb L1\n",
      "nodes_to_eliminate = [1]\n",
      "\n",
      "Phase 2: Working on Limb L2\n",
      "nodes_to_eliminate = [30]\n",
      "\n",
      "Phase 2: Working on Limb L3\n",
      "nodes_to_eliminate = [4]\n",
      "\n",
      "Phase 2: Working on Limb L4\n",
      "nodes_to_eliminate = [1 2]\n",
      "\n",
      "Phase 2: Working on Limb L5\n",
      "nodes_to_eliminate = []\n",
      "\n",
      "----Working on Limb L1-----\n",
      "No endpoints were eliminated so don't need to add back any candidates\n",
      "\n",
      "----Working on Limb L2-----\n",
      "No endpoints were eliminated so don't need to add back any candidates\n",
      "\n",
      "----Working on Limb L3-----\n",
      "No endpoints were eliminated so don't need to add back any candidates\n",
      "\n",
      "----Working on Limb L4-----\n",
      "No endpoints were eliminated so don't need to add back any candidates\n",
      "\n",
      "----Working on Limb L5-----\n",
      "No nodes were eliminated so don't need to add back any candidates\n",
      "Final Candidates\n",
      "\n",
      "Limb 1\n",
      "Candidate 0 (palegreen): array([0, 2, 4, 5, 6])\n",
      "Candidate 1 (green): array([8, 3, 7])\n",
      "\n",
      "Limb 2\n",
      "Candidate 0 (orange): array([27])\n",
      "Candidate 1 (forestgreen): array([ 0,  1,  2,  3,  4,  5,  6,  7,  8,  9, 10, 11, 12, 13, 14, 15, 16,\n",
      "       17, 18, 19, 20, 21, 22, 23, 24, 25, 26, 28, 29])\n",
      "\n",
      "Limb 3\n",
      "Candidate 0 (cadetblue): array([0])\n",
      "Candidate 1 (sandybrown): array([1, 2, 3])\n",
      "\n",
      "Limb 4\n",
      "Candidate 0 (green): array([0])\n",
      "Candidate 1 (magenta): array([3])\n",
      "Candidate 2 (olive): array([4])\n",
      "\n",
      "Limb 5\n",
      "Candidate 0 (tan): array([0, 1, 2, 3, 4, 5, 6])\n",
      "Part 3: axon_subgraph_candidates = {1: [[0, 2, 4, 5, 6], [8, 3, 7]], 2: [[27], [0, 1, 2, 3, 4, 5, 6, 7, 8, 9, 10, 11, 12, 13, 14, 15, 16, 17, 18, 19, 20, 21, 22, 23, 24, 25, 26, 28, 29]], 3: [[0], [1, 2, 3]], 4: [[0], [3], [4]], 5: [[0, 1, 2, 3, 4, 5, 6]]}\n",
      "\n",
      "\n",
      " --- Working on limb 1, candidate # 0\n",
      "0 out of 5 branches are axons\n",
      "Axon percentage = 0.0\n",
      "Not adding candidate no axon branches detected \n",
      "\n",
      "\n",
      " --- Working on limb 1, candidate # 1\n",
      "0 out of 3 branches are axons\n",
      "Axon percentage = 0.0\n",
      "Not adding candidate no axon branches detected \n",
      "\n",
      "\n",
      " --- Working on limb 2, candidate # 0\n",
      "0 out of 1 branches are axons\n",
      "Axon percentage = 0.0\n",
      "Not adding candidate no axon branches detected \n",
      "\n",
      "\n",
      " --- Working on limb 2, candidate # 1\n",
      "26 out of 29 branches are axons\n",
      "Axon percentage = 0.896551724137931\n",
      "curr_axon_angle_threshold = 95\n",
      "candidate_nodes = [ 0  1  2  3  4  5  6  7  8  9 10 11 12 13 14 15 16 17 18 19 20 21 22 23\n",
      " 24 25 26 28 29 30]\n",
      "non_axon_branches_on_subgraph = [26 28 29 30]\n",
      "endnodes_to_test = []\n",
      "candidate_angles,restr_skels = (None, None)\n",
      "Not adding candidate because no angles (None) passed the threhold 95 \n",
      "\n",
      "\n",
      " --- Working on limb 3, candidate # 0\n",
      "0 out of 1 branches are axons\n",
      "Axon percentage = 0.0\n",
      "Not adding candidate no axon branches detected \n",
      "\n",
      "\n",
      " --- Working on limb 3, candidate # 1\n",
      "0 out of 3 branches are axons\n",
      "Axon percentage = 0.0\n",
      "Not adding candidate no axon branches detected \n",
      "\n",
      "\n",
      " --- Working on limb 4, candidate # 0\n",
      "0 out of 1 branches are axons\n",
      "Axon percentage = 0.0\n",
      "Not adding candidate no axon branches detected \n",
      "\n",
      "\n",
      " --- Working on limb 4, candidate # 1\n",
      "0 out of 1 branches are axons\n",
      "Axon percentage = 0.0\n",
      "Not adding candidate no axon branches detected \n",
      "\n",
      "\n",
      " --- Working on limb 4, candidate # 2\n",
      "0 out of 1 branches are axons\n",
      "Axon percentage = 0.0\n",
      "Not adding candidate no axon branches detected \n",
      "\n",
      "\n",
      " --- Working on limb 5, candidate # 0\n",
      "7 out of 7 branches are axons\n",
      "Axon percentage = 1.0\n",
      "curr_axon_angle_threshold = 95\n",
      "candidate_nodes = [0 1 2 3 4 5 6]\n",
      "non_axon_branches_on_subgraph = []\n",
      "endnodes_to_test = [852]\n",
      "Skeleton paths distances = [24965.6674933]\n",
      "Filtered indexes = [0]\n",
      "len(filtered_skeletons) = 1\n",
      "sk_angles = [159.45053748]\n",
      "candidate_angles,restr_skels = (array([159.45053748]), [array([[[1161138.0149787 ,  559563.45417562, 1078963.26864615],\n",
      "        [1161116.99533029,  559660.58201421, 1078952.12012172]],\n",
      "\n",
      "       [[1161116.99533029,  559660.58201421, 1078952.12012172],\n",
      "        [1161095.9630031 ,  559757.7270435 , 1078941.14357868]],\n",
      "\n",
      "       [[1161095.9630031 ,  559757.7270435 , 1078941.14357868],\n",
      "        [1161075.01846118,  559854.84102471, 1078929.73351991]],\n",
      "\n",
      "       [[1161075.01846118,  559854.84102471, 1078929.73351991],\n",
      "        [1161054.0790085 ,  559951.91107547, 1078917.96487147]],\n",
      "\n",
      "       [[1161054.0790085 ,  559951.91107547, 1078917.96487147],\n",
      "        [1161033.13959342,  560048.81576779, 1078904.88735251]],\n",
      "\n",
      "       [[1161033.13959342,  560048.81576779, 1078904.88735251],\n",
      "        [1161012.06222521,  560145.49628758, 1078890.51009664]],\n",
      "\n",
      "       [[1161012.06222521,  560145.49628758, 1078890.51009664],\n",
      "        [1160990.83454452,  560241.93255104, 1078874.71665929]],\n",
      "\n",
      "       [[1160990.83454452,  560241.93255104, 1078874.71665929],\n",
      "        [1160969.10292267,  560337.77042373, 1078856.25785502]],\n",
      "\n",
      "       [[1160969.10292267,  560337.77042373, 1078856.25785502],\n",
      "        [1160947.12180336,  560433.31989484, 1078836.62100263]],\n",
      "\n",
      "       [[1160947.12180336,  560433.31989484, 1078836.62100263],\n",
      "        [1160924.3996275 ,  560528.04158909, 1078814.00456252]],\n",
      "\n",
      "       [[1160924.3996275 ,  560528.04158909, 1078814.00456252],\n",
      "        [1160901.29537091,  560622.31065246, 1078789.97690435]],\n",
      "\n",
      "       [[1160901.29537091,  560622.31065246, 1078789.97690435],\n",
      "        [1160877.8308478 ,  560716.1529271 , 1078764.61859911]],\n",
      "\n",
      "       [[1160877.8308478 ,  560716.1529271 , 1078764.61859911],\n",
      "        [1160854.08225691,  560809.51619453, 1078737.80232453]],\n",
      "\n",
      "       [[1160854.08225691,  560809.51619453, 1078737.80232453],\n",
      "        [1160830.397131  ,  560902.82122784, 1078710.72590159]],\n",
      "\n",
      "       [[1160830.397131  ,  560902.82122784, 1078710.72590159],\n",
      "        [1160806.86939157,  560996.08878297, 1078683.38346868]],\n",
      "\n",
      "       [[1160806.86939157,  560996.08878297, 1078683.38346868],\n",
      "        [1160783.8157626 ,  561089.53632469, 1078656.25412908]],\n",
      "\n",
      "       [[1160783.8157626 ,  561089.53632469, 1078656.25412908],\n",
      "        [1160761.01458743,  561183.07990623, 1078629.24256095]],\n",
      "\n",
      "       [[1160761.01458743,  561183.07990623, 1078629.24256095],\n",
      "        [1160738.70549189,  561276.81113614, 1078602.47017225]],\n",
      "\n",
      "       [[1160738.70549189,  561276.81113614, 1078602.47017225],\n",
      "        [1160716.56656313,  561370.55178787, 1078575.59025345]],\n",
      "\n",
      "       [[1160716.56656313,  561370.55178787, 1078575.59025345],\n",
      "        [1160694.54501331,  561464.29893867, 1078548.63616171]],\n",
      "\n",
      "       [[1160694.54501331,  561464.29893867, 1078548.63616171],\n",
      "        [1160672.36519569,  561557.78203409, 1078520.90620788]],\n",
      "\n",
      "       [[1160672.36519569,  561557.78203409, 1078520.90620788],\n",
      "        [1160649.98275326,  561651.0856385 , 1078492.74548975]],\n",
      "\n",
      "       [[1160649.98275326,  561651.0856385 , 1078492.74548975],\n",
      "        [1160627.23747171,  561744.0730888 , 1078463.83206287]],\n",
      "\n",
      "       [[1160627.23747171,  561744.0730888 , 1078463.83206287],\n",
      "        [1160603.84632159,  561836.65730216, 1078434.15751512]],\n",
      "\n",
      "       [[1160603.84632159,  561836.65730216, 1078434.15751512],\n",
      "        [1160580.09724116,  561929.04751394, 1078404.15972689]],\n",
      "\n",
      "       [[1160580.09724116,  561929.04751394, 1078404.15972689],\n",
      "        [1160555.18138813,  562021.01233217, 1078373.80066767]],\n",
      "\n",
      "       [[1160555.18138813,  562021.01233217, 1078373.80066767],\n",
      "        [1160529.45688131,  562112.83928563, 1078343.71595118]],\n",
      "\n",
      "       [[1160529.45688131,  562112.83928563, 1078343.71595118],\n",
      "        [1160502.68376979,  562204.48746587, 1078313.98698285]],\n",
      "\n",
      "       [[1160502.68376979,  562204.48746587, 1078313.98698285],\n",
      "        [1160473.98854641,  562295.95602061, 1078285.55590654]],\n",
      "\n",
      "       [[1160473.98854641,  562295.95602061, 1078285.55590654],\n",
      "        [1160444.55707465,  562387.35577162, 1078257.63964351]],\n",
      "\n",
      "       [[1160444.55707465,  562387.35577162, 1078257.63964351],\n",
      "        [1160412.17611901,  562478.47989424, 1078232.18639244]],\n",
      "\n",
      "       [[1160412.17611901,  562478.47989424, 1078232.18639244],\n",
      "        [1160378.94002988,  562569.50037067, 1078207.54953161]],\n",
      "\n",
      "       [[1160378.94002988,  562569.50037067, 1078207.54953161],\n",
      "        [1160343.48164629,  562660.25149462, 1078185.03428045]],\n",
      "\n",
      "       [[1160343.48164629,  562660.25149462, 1078185.03428045],\n",
      "        [1160306.82201751,  562750.8385182 , 1078163.90380382]],\n",
      "\n",
      "       [[1160306.82201751,  562750.8385182 , 1078163.90380382],\n",
      "        [1160268.89794705,  562841.25280822, 1078144.2309535 ]],\n",
      "\n",
      "       [[1160268.89794705,  562841.25280822, 1078144.2309535 ],\n",
      "        [1160230.07472192,  562931.61427069, 1078126.17662466]],\n",
      "\n",
      "       [[1160230.07472192,  562931.61427069, 1078126.17662466],\n",
      "        [1160190.83099425,  563021.9510276 , 1078108.87922054]],\n",
      "\n",
      "       [[1160190.83099425,  563021.9510276 , 1078108.87922054],\n",
      "        [1160151.67841436,  563112.60161144, 1078093.09224733]],\n",
      "\n",
      "       [[1160151.67841436,  563112.60161144, 1078093.09224733],\n",
      "        [1160112.69458657,  563203.37887911, 1078077.62025682]],\n",
      "\n",
      "       [[1160112.69458657,  563203.37887911, 1078077.62025682],\n",
      "        [1160074.99730985,  563294.85298571, 1078063.08054741]],\n",
      "\n",
      "       [[1160074.99730985,  563294.85298571, 1078063.08054741],\n",
      "        [1160038.14706577,  563386.69433985, 1078048.73828013]],\n",
      "\n",
      "       [[1160038.14706577,  563386.69433985, 1078048.73828013],\n",
      "        [1160002.74562314,  563479.16385016, 1078034.73372648]],\n",
      "\n",
      "       [[1160002.74562314,  563479.16385016, 1078034.73372648],\n",
      "        [1159968.90503079,  563572.23015868, 1078020.8757205 ]],\n",
      "\n",
      "       [[1159968.90503079,  563572.23015868, 1078020.8757205 ],\n",
      "        [1159935.85886974,  563665.60022161, 1078007.09230339]],\n",
      "\n",
      "       [[1159935.85886974,  563665.60022161, 1078007.09230339],\n",
      "        [1159904.37157992,  563759.50573782, 1077993.29878373]],\n",
      "\n",
      "       [[1159904.37157992,  563759.50573782, 1077993.29878373],\n",
      "        [1159872.98775996,  563853.42958071, 1077979.39447329]],\n",
      "\n",
      "       [[1159872.98775996,  563853.42958071, 1077979.39447329],\n",
      "        [1159841.76411896,  563947.37334321, 1077965.26458546]],\n",
      "\n",
      "       [[1159841.76411896,  563947.37334321, 1077965.26458546],\n",
      "        [1159809.67601646,  564040.93478054, 1077950.56512256]],\n",
      "\n",
      "       [[1159809.67601646,  564040.93478054, 1077950.56512256],\n",
      "        [1159777.03178633,  564134.24832772, 1077935.51998768]],\n",
      "\n",
      "       [[1159777.03178633,  564134.24832772, 1077935.51998768],\n",
      "        [1159742.17428879,  564226.55858592, 1077919.27895646]],\n",
      "\n",
      "       [[1159742.17428879,  564226.55858592, 1077919.27895646],\n",
      "        [1159706.04225294,  564318.24757209, 1077902.40595476]],\n",
      "\n",
      "       [[1159706.04225294,  564318.24757209, 1077902.40595476],\n",
      "        [1159668.37239424,  564409.18694851, 1077884.77043485]],\n",
      "\n",
      "       [[1159668.37239424,  564409.18694851, 1077884.77043485],\n",
      "        [1159628.72261503,  564499.13253592, 1077866.42808313]],\n",
      "\n",
      "       [[1159628.72261503,  564499.13253592, 1077866.42808313],\n",
      "        [1159588.41945045,  564588.76493223, 1077847.95168024]],\n",
      "\n",
      "       [[1159588.41945045,  564588.76493223, 1077847.95168024],\n",
      "        [1159546.80938055,  564677.83894263, 1077829.66445098]],\n",
      "\n",
      "       [[1159546.80938055,  564677.83894263, 1077829.66445098],\n",
      "        [1159505.04964531,  564766.96066411, 1077811.97663671]],\n",
      "\n",
      "       [[1159505.04964531,  564766.96066411, 1077811.97663671],\n",
      "        [1159463.06208422,  564856.15501307, 1077795.20127297]],\n",
      "\n",
      "       [[1159463.06208422,  564856.15501307, 1077795.20127297],\n",
      "        [1159421.49308157,  564945.81713262, 1077780.00686863]],\n",
      "\n",
      "       [[1159421.49308157,  564945.81713262, 1077780.00686863],\n",
      "        [1159380.19204539,  565035.7787249 , 1077765.82461475]],\n",
      "\n",
      "       [[1159380.19204539,  565035.7787249 , 1077765.82461475],\n",
      "        [1159340.10651185,  565126.62874244, 1077754.11437648]],\n",
      "\n",
      "       [[1159340.10651185,  565126.62874244, 1077754.11437648],\n",
      "        [1159300.35390544,  565217.72210036, 1077743.08122524]],\n",
      "\n",
      "       [[1159300.35390544,  565217.72210036, 1077743.08122524],\n",
      "        [1159262.60238262,  565309.95749557, 1077734.91780166]],\n",
      "\n",
      "       [[1159262.60238262,  565309.95749557, 1077734.91780166],\n",
      "        [1159225.21983859,  565402.37732378, 1077727.173025  ]],\n",
      "\n",
      "       [[1159225.21983859,  565402.37732378, 1077727.173025  ],\n",
      "        [1159189.92068115,  565495.76727922, 1077721.4909737 ]],\n",
      "\n",
      "       [[1159189.92068115,  565495.76727922, 1077721.4909737 ],\n",
      "        [1159155.24820813,  565589.40371858, 1077716.13519775]],\n",
      "\n",
      "       [[1159155.24820813,  565589.40371858, 1077716.13519775],\n",
      "        [1159122.08944511,  565683.63552169, 1077711.56751582]],\n",
      "\n",
      "       [[1159122.08944511,  565683.63552169, 1077711.56751582],\n",
      "        [1159089.74263354,  565778.13725079, 1077706.83643109]],\n",
      "\n",
      "       [[1159089.74263354,  565778.13725079, 1077706.83643109],\n",
      "        [1159058.17031215,  565872.89645222, 1077701.94948251]],\n",
      "\n",
      "       [[1159058.17031215,  565872.89645222, 1077701.94948251],\n",
      "        [1159027.24274368,  565967.78606361, 1077695.72367029]],\n",
      "\n",
      "       [[1159027.24274368,  565967.78606361, 1077695.72367029],\n",
      "        [1158996.52247098,  566062.70830843, 1077688.96433719]],\n",
      "\n",
      "       [[1158996.52247098,  566062.70830843, 1077688.96433719],\n",
      "        [1158965.99946516,  566157.45246147, 1077679.37832764]],\n",
      "\n",
      "       [[1158965.99946516,  566157.45246147, 1077679.37832764],\n",
      "        [1158935.46469118,  566252.04632744, 1077668.58255506]],\n",
      "\n",
      "       [[1158935.46469118,  566252.04632744, 1077668.58255506],\n",
      "        [1158904.90553451,  566346.32881067, 1077655.28025079]],\n",
      "\n",
      "       [[1158904.90553451,  566346.32881067, 1077655.28025079],\n",
      "        [1158874.49032924,  566440.26896841, 1077639.58737954]],\n",
      "\n",
      "       [[1158874.49032924,  566440.26896841, 1077639.58737954],\n",
      "        [1158844.17094479,  566533.98125819, 1077622.30323448]],\n",
      "\n",
      "       [[1158844.17094479,  566533.98125819, 1077622.30323448],\n",
      "        [1158814.64161105,  566627.28295924, 1077601.78834082]],\n",
      "\n",
      "       [[1158814.64161105,  566627.28295924, 1077601.78834082],\n",
      "        [1158785.38329688,  566720.49450134, 1077580.46710205]],\n",
      "\n",
      "       [[1158785.38329688,  566720.49450134, 1077580.46710205],\n",
      "        [1158757.76986484,  566813.47422886, 1077556.130532  ]],\n",
      "\n",
      "       [[1158757.76986484,  566813.47422886, 1077556.130532  ],\n",
      "        [1158730.84226214,  566906.45996073, 1077531.10954256]],\n",
      "\n",
      "       [[1158730.84226214,  566906.45996073, 1077531.10954256],\n",
      "        [1158705.74677299,  566999.46173251, 1077504.26020609]],\n",
      "\n",
      "       [[1158705.74677299,  566999.46173251, 1077504.26020609],\n",
      "        [1158681.95715258,  567092.57093823, 1077476.65687252]],\n",
      "\n",
      "       [[1158681.95715258,  567092.57093823, 1077476.65687252],\n",
      "        [1158659.75933471,  567185.81110167, 1077448.13444622]],\n",
      "\n",
      "       [[1158659.75933471,  567185.81110167, 1077448.13444622],\n",
      "        [1158639.25217926,  567279.26085991, 1077419.07185414]],\n",
      "\n",
      "       [[1158639.25217926,  567279.26085991, 1077419.07185414],\n",
      "        [1158619.78513212,  567372.83956245, 1077389.676948  ]],\n",
      "\n",
      "       [[1158619.78513212,  567372.83956245, 1077389.676948  ],\n",
      "        [1158601.84702902,  567466.66489074, 1077360.10710317]],\n",
      "\n",
      "       [[1158601.84702902,  567466.66489074, 1077360.10710317],\n",
      "        [1158584.32214907,  567560.55687384, 1077330.48997819]],\n",
      "\n",
      "       [[1158584.32214907,  567560.55687384, 1077330.48997819],\n",
      "        [1158567.40996651,  567654.63257792, 1077301.1008107 ]],\n",
      "\n",
      "       [[1158567.40996651,  567654.63257792, 1077301.1008107 ],\n",
      "        [1158550.37814883,  567748.71670036, 1077271.8100612 ]],\n",
      "\n",
      "       [[1158550.37814883,  567748.71670036, 1077271.8100612 ],\n",
      "        [1158532.6078889 ,  567842.80975912, 1077242.98794895]],\n",
      "\n",
      "       [[1158532.6078889 ,  567842.80975912, 1077242.98794895],\n",
      "        [1158514.0129877 ,  567936.83769413, 1077214.49759941]],\n",
      "\n",
      "       [[1158514.0129877 ,  567936.83769413, 1077214.49759941],\n",
      "        [1158494.0923008 ,  568030.76092889, 1077186.5406288 ]],\n",
      "\n",
      "       [[1158494.0923008 ,  568030.76092889, 1077186.5406288 ],\n",
      "        [1158472.42533535,  568124.52033437, 1077159.38248708]],\n",
      "\n",
      "       [[1158472.42533535,  568124.52033437, 1077159.38248708],\n",
      "        [1158449.74672946,  568218.18483156, 1077132.68711667]],\n",
      "\n",
      "       [[1158449.74672946,  568218.18483156, 1077132.68711667],\n",
      "        [1158424.75285308,  568311.70035494, 1077107.60076637]],\n",
      "\n",
      "       [[1158424.75285308,  568311.70035494, 1077107.60076637],\n",
      "        [1158399.17815237,  568405.220197  , 1077083.13393166]],\n",
      "\n",
      "       [[1158399.17815237,  568405.220197  , 1077083.13393166],\n",
      "        [1158372.17385556,  568498.82318566, 1077060.5673974 ]],\n",
      "\n",
      "       [[1158372.17385556,  568498.82318566, 1077060.5673974 ],\n",
      "        [1158344.76352255,  568592.62013015, 1077039.38941837]],\n",
      "\n",
      "       [[1158344.76352255,  568592.62013015, 1077039.38941837],\n",
      "        [1158316.91485398,  568686.62645928, 1077019.71045134]],\n",
      "\n",
      "       [[1158316.91485398,  568686.62645928, 1077019.71045134],\n",
      "        [1158288.95928702,  568781.07749412, 1077002.52104592]],\n",
      "\n",
      "       [[1158288.95928702,  568781.07749412, 1077002.52104592],\n",
      "        [1158260.97697863,  568875.683755  , 1076986.20100053]]])])\n"
     ]
    },
    {
     "name": "stdout",
     "output_type": "stream",
     "text": [
      "base_final_widths = [201.34714697 244.00468433 245.47555386]\n",
      "overall_ais_width = 186.58869936930157\n",
      "ais_width = 230.27579505239305\n",
      "Adding the following branches as true axons: [0. 1. 2. 3. 4. 5. 6.]\n",
      "curr_soma_angle = 163.04\n",
      "max_axon_angle = 159.45053747594073\n",
      "Changing to a better axon candidate\n",
      "Using the best axon approach\n",
      "Using True\n",
      "Limb L5: Axon branches before dendritic path filter = [0. 1. 2. 3. 4. 5. 6.]\n",
      "Limb L5: Axon branches AFTER dendritic path filter = [0. 1. 2. 3. 4. 5. 6.]\n",
      "\n",
      "\n",
      "Part 4: final_true_axons = {'L5': array([0., 1., 2., 3., 4., 5., 6.])}\n",
      "\n",
      "--- Working on filter 0:\n",
      "function = dendrite_on_axon_merges\n",
      "function __name__ = filter_away_dendrite_on_axon_merges\n",
      "function arguments = {'use_pre_existing_axon_labels': True}\n",
      "\n",
      "\n",
      "\n",
      "\n",
      "\n",
      " ---- Total time for applying filter: 0.3142580986022949 -----\n",
      "Starting axon branch was the starting node so using border vertices and NOT computing upstream branch\n",
      "upstream_node_to_axon_starting_branch = None\n"
     ]
    },
    {
     "name": "stderr",
     "output_type": "stream",
     "text": [
      "\r",
      "  0%|          | 0/1 [00:00<?, ?it/s]"
     ]
    },
    {
     "name": "stdout",
     "output_type": "stream",
     "text": [
      "root_curr = [1162104.   549420.4 1079798. ]\n",
      "Time for preparing soma vertices and root: 0.0006086826324462891\n",
      "invalidation_d = 2000\n",
      "cc_vertex_thresh = 10\n"
     ]
    },
    {
     "data": {
      "application/vnd.jupyter.widget-view+json": {
       "model_id": "9ef4fe2935774439a56aedd9b5c5b893",
       "version_major": 2,
       "version_minor": 0
      },
      "text/plain": [
       "  0%|          | 0/8919 [00:00<?, ?it/s]"
      ]
     },
     "metadata": {},
     "output_type": "display_data"
    },
    {
     "name": "stderr",
     "output_type": "stream",
     "text": [
      "100%|██████████| 1/1 [00:00<00:00,  5.97it/s]\n"
     ]
    },
    {
     "name": "stdout",
     "output_type": "stream",
     "text": [
      "meshparty_segment_size = 100\n",
      "Time for 1st pass MP skeletonization: 0.5700516700744629\n",
      "branches_touching_root = [5]\n",
      "combining close nodes\n",
      "combine_threshold = 1300\n",
      "length of Graph = 2339\n",
      "After combining close endpoints max(kept_branches_idx) = 12, len(kept_branches_idx) = 13\n",
      "empty_indices % = 0.0\n",
      " conflict_indices % = 0.014232252211385802\n"
     ]
    },
    {
     "data": {
      "application/vnd.jupyter.widget-view+json": {
       "model_id": "f59d95ca52e9416db2c8818e6a1d78b9",
       "version_major": 2,
       "version_minor": 0
      },
      "text/plain": [
       "  0%|          | 0/6 [00:00<?, ?it/s]"
      ]
     },
     "metadata": {},
     "output_type": "display_data"
    },
    {
     "name": "stdout",
     "output_type": "stream",
     "text": [
      "AFTER face_lookup_resolved_test\n"
     ]
    },
    {
     "data": {
      "application/vnd.jupyter.widget-view+json": {
       "model_id": "e19631c061aa443b882e2c831acea1f7",
       "version_major": 2,
       "version_minor": 0
      },
      "text/plain": [
       "  0%|          | 0/13 [00:00<?, ?it/s]"
      ]
     },
     "metadata": {},
     "output_type": "display_data"
    },
    {
     "name": "stdout",
     "output_type": "stream",
     "text": [
      "Decomposing first pass: 1.5183336734771729\n",
      "Only Using MeshParty Skeletonization and Mesh Correspondence\n",
      "Another print\n",
      "Divinding into MP and MAP pieces: 0.0002086162567138672\n",
      "Total time for MAP sublimb processing 5.0067901611328125e-06\n",
      "---- Working on MP Decomposition #0 ----\n",
      "Using Quicker soma_to_piece_touching_vertices because no MAP and only one sublimb_mesh piece \n",
      "MP filtering soma verts: 0.0003209114074707031\n",
      "Fixing Possible Soma Extension Branch for Sublimb 0\n",
      "Total time for mesh KDTree = 0.14564156532287598\n",
      "sbv[0].reshape(-1,3) = [[1162104.   549420.4 1079798. ]]\n",
      "closest_sk_pt_coord BEFORE = [1162569.5782297   549723.20109407 1079429.14082103]\n",
      "current_skeleton.shape = (637, 2, 3)\n",
      "node_for_stitch = 637: [1162569.5782297   549723.20109407 1079429.14082103]\n",
      "node_for_stitch AFTER = 637: [1162569.5782297   549723.20109407 1079429.14082103]\n",
      "possible_node_loc = [499 637]\n",
      "possible_node_loc AFTER = [499 637]\n",
      "curr_shortest_path = [637]\n",
      "Current stitch point was a branch or endpoint\n",
      "change_status for create soma extending pieces = False\n",
      "closest_sk_pt_coord AFTER = [1162569.5782297   549723.20109407 1079429.14082103]\n",
      "skipping soma 0 because closest skeleton node was already end node\n",
      "endpoints_must_keep = {0: array([[1162569.5782297 ,  549723.20109407, 1079429.14082103]])}\n",
      "match_sk_branches = [5]\n",
      "The new branch info was none so skipping \n",
      "\n",
      "No soma extending branch was added for this sublimb even though it had a soma border (means they already existed)\n",
      "MP (because soma touching verts) soma extension add: 1.068321943283081\n",
      "There were not both MAP and MP pieces so skipping the stitch resolving phase\n",
      "Time for decomp of Limb = 3.266298770904541\n",
      "Number of matching vertices = 16\n",
      "Only one endpoint after filtering away the endpoints that are not on the skeleton\n",
      "Using Distance measure skeletal_distance\n",
      "endpoints_must_keep = [[1162569.5782297   549723.20109407 1079429.14082103]]\n",
      "Number of end_nodes BEFORE filtering = 8\n",
      "all_single_nodes_to_eliminate = [3]\n"
     ]
    },
    {
     "data": {
      "application/vnd.jupyter.widget-view+json": {
       "model_id": "3aa2f1b2e5ef465dba69ee414eed14b6",
       "version_major": 2,
       "version_minor": 0
      },
      "text/plain": [
       "  0%|          | 0/2 [00:00<?, ?it/s]"
      ]
     },
     "metadata": {},
     "output_type": "display_data"
    },
    {
     "name": "stdout",
     "output_type": "stream",
     "text": [
      "Removed 1 skeletal branches\n"
     ]
    },
    {
     "data": {
      "application/vnd.jupyter.widget-view+json": {
       "model_id": "59262eb2dbb5441380a359449406f0d3",
       "version_major": 2,
       "version_minor": 0
      },
      "text/plain": [
       "  0%|          | 0/13 [00:00<?, ?it/s]"
      ]
     },
     "metadata": {},
     "output_type": "display_data"
    },
    {
     "name": "stdout",
     "output_type": "stream",
     "text": [
      "17635 17636\n",
      "For marked faces: None\n",
      "empty_indices % = 0.0\n",
      " conflict_indices % = 0.0\n"
     ]
    },
    {
     "data": {
      "application/vnd.jupyter.widget-view+json": {
       "model_id": "d33f2c92ac894f22ae7373a30dc8341b",
       "version_major": 2,
       "version_minor": 0
      },
      "text/plain": [
       "0it [00:00, ?it/s]"
      ]
     },
     "metadata": {},
     "output_type": "display_data"
    },
    {
     "name": "stdout",
     "output_type": "stream",
     "text": [
      "AFTER face_lookup_resolved_test\n"
     ]
    },
    {
     "data": {
      "application/vnd.jupyter.widget-view+json": {
       "model_id": "34b120026af44cdea7c27633b7ce9869",
       "version_major": 2,
       "version_minor": 0
      },
      "text/plain": [
       "  0%|          | 0/11 [00:00<?, ?it/s]"
      ]
     },
     "metadata": {},
     "output_type": "display_data"
    },
    {
     "name": "stdout",
     "output_type": "stream",
     "text": [
      "Limb Correspondence before stitching = 11\n",
      "Limb Correspondence AFTER stitching = 11\n",
      "Upstream node was None so don't have to adjust\n",
      "concept_network_dict = {0: [<networkx_utils.GraphOrderedEdges object at 0x7f030fd42ba8>]}\n",
      "\n",
      "\n",
      "----Working on seperate_graph 0----\n",
      "\n",
      "\n",
      "---------Working on soma_idx = 0, soma_group_idx 0, endpt = [1162569.5782297   549723.20109407 1079429.14082103]---------\n",
      "Starting_edge inside branches_to_conept = [[1160216.61202056  611155.22824703 1078182.91494103]\n",
      " [1162569.5782297   549723.20109407 1079429.14082103]]\n",
      "At the start, starting_node (in terms of the skeleton, that shouldn't match the starting edge) = [8]\n",
      "printing out current edge:\n",
      "[[1162569.5782297   549723.20109407 1079429.14082103]\n",
      " [1160216.61202056  611155.22824703 1078182.91494103]]\n",
      "edge_endpoints_to_process was empty so exiting loop after 11 iterations\n",
      "starting_node in concept map (that should match the starting edge) = 2\n",
      "Total time for branches to concept conversion = 0.201615571975708\n",
      "\n",
      "Done generating concept network \n",
      "\n",
      "\n"
     ]
    },
    {
     "data": {
      "application/vnd.jupyter.widget-view+json": {
       "model_id": "3afc4159650e43878824a02f32260726",
       "version_major": 2,
       "version_minor": 0
      },
      "text/plain": [
       "  0%|          | 0/5 [00:00<?, ?it/s]"
      ]
     },
     "metadata": {},
     "output_type": "display_data"
    },
    {
     "data": {
      "application/vnd.jupyter.widget-view+json": {
       "model_id": "572d2b9ffde34b17b6c45049ea71b9ef",
       "version_major": 2,
       "version_minor": 0
      },
      "text/plain": [
       "  0%|          | 0/29 [00:00<?, ?it/s]"
      ]
     },
     "metadata": {},
     "output_type": "display_data"
    },
    {
     "data": {
      "application/vnd.jupyter.widget-view+json": {
       "model_id": "584159478087457dbf99df80e36e312f",
       "version_major": 2,
       "version_minor": 0
      },
      "text/plain": [
       "  0%|          | 0/15 [00:00<?, ?it/s]"
      ]
     },
     "metadata": {},
     "output_type": "display_data"
    },
    {
     "data": {
      "application/vnd.jupyter.widget-view+json": {
       "model_id": "ee11f5bfde3a4bbd8021b9f5c7e412f4",
       "version_major": 2,
       "version_minor": 0
      },
      "text/plain": [
       "  0%|          | 0/22 [00:00<?, ?it/s]"
      ]
     },
     "metadata": {},
     "output_type": "display_data"
    },
    {
     "data": {
      "application/vnd.jupyter.widget-view+json": {
       "model_id": "4dafd10020bf44a18c810a470b741831",
       "version_major": 2,
       "version_minor": 0
      },
      "text/plain": [
       "  0%|          | 0/9 [00:00<?, ?it/s]"
      ]
     },
     "metadata": {},
     "output_type": "display_data"
    },
    {
     "data": {
      "application/vnd.jupyter.widget-view+json": {
       "model_id": "c2dbb467988f4c1896c1febf8802d14a",
       "version_major": 2,
       "version_minor": 0
      },
      "text/plain": [
       "  0%|          | 0/9 [00:00<?, ?it/s]"
      ]
     },
     "metadata": {},
     "output_type": "display_data"
    },
    {
     "data": {
      "application/vnd.jupyter.widget-view+json": {
       "model_id": "d7ee5a4fe664403cafc9f0af50da8833",
       "version_major": 2,
       "version_minor": 0
      },
      "text/plain": [
       "  0%|          | 0/44 [00:00<?, ?it/s]"
      ]
     },
     "metadata": {},
     "output_type": "display_data"
    },
    {
     "data": {
      "application/vnd.jupyter.widget-view+json": {
       "model_id": "50a570b1c27f483da0749592cbe4b01f",
       "version_major": 2,
       "version_minor": 0
      },
      "text/plain": [
       "  0%|          | 0/19 [00:00<?, ?it/s]"
      ]
     },
     "metadata": {},
     "output_type": "display_data"
    },
    {
     "data": {
      "application/vnd.jupyter.widget-view+json": {
       "model_id": "afa3d611d5d54624bb823d05133d9baa",
       "version_major": 2,
       "version_minor": 0
      },
      "text/plain": [
       "  0%|          | 0/23 [00:00<?, ?it/s]"
      ]
     },
     "metadata": {},
     "output_type": "display_data"
    },
    {
     "data": {
      "application/vnd.jupyter.widget-view+json": {
       "model_id": "0a703b2c69a842b49c79237887cf0068",
       "version_major": 2,
       "version_minor": 0
      },
      "text/plain": [
       "  0%|          | 0/21 [00:00<?, ?it/s]"
      ]
     },
     "metadata": {},
     "output_type": "display_data"
    },
    {
     "data": {
      "application/vnd.jupyter.widget-view+json": {
       "model_id": "8dec92b1424340c5a224eff157937c9f",
       "version_major": 2,
       "version_minor": 0
      },
      "text/plain": [
       "  0%|          | 0/20 [00:00<?, ?it/s]"
      ]
     },
     "metadata": {},
     "output_type": "display_data"
    },
    {
     "name": "stdout",
     "output_type": "stream",
     "text": [
      "Synapsse Results:\n",
      "Total Number of Synapses = 1896\n",
      "n_valid_syn_ids_presyn = 2\n",
      "n_errored_syn_ids_presyn = 121\n",
      "n_valid_syn_ids_postsyn = 1757\n",
      "n_errored_syn_ids_postsyn = 16\n",
      "Synapsse Results:\n",
      "Total Number of Synapses = 1896\n",
      "n_valid_syn_ids_presyn = 2\n",
      "n_errored_syn_ids_presyn = 121\n",
      "n_valid_syn_ids_postsyn = 1757\n",
      "n_errored_syn_ids_postsyn = 16\n"
     ]
    },
    {
     "data": {
      "application/vnd.jupyter.widget-view+json": {
       "model_id": "7d68f7fde2334198adf4a3c41397b24a",
       "version_major": 2,
       "version_minor": 0
      },
      "text/plain": [
       "  0%|          | 0/5 [00:00<?, ?it/s]"
      ]
     },
     "metadata": {},
     "output_type": "display_data"
    },
    {
     "data": {
      "application/vnd.jupyter.widget-view+json": {
       "model_id": "496c3d759d204d44bc89ff790d079055",
       "version_major": 2,
       "version_minor": 0
      },
      "text/plain": [
       "0it [00:00, ?it/s]"
      ]
     },
     "metadata": {},
     "output_type": "display_data"
    },
    {
     "name": "stdout",
     "output_type": "stream",
     "text": [
      "Synapsse Results:\n",
      "Total Number of Synapses = 1896\n",
      "n_valid_syn_ids_presyn = 2\n",
      "n_errored_syn_ids_presyn = 121\n",
      "n_valid_syn_ids_postsyn = 1757\n",
      "n_errored_syn_ids_postsyn = 16\n",
      "Synapsse Results:\n",
      "Total Number of Synapses = 1896\n",
      "n_valid_syn_ids_presyn = 2\n",
      "n_errored_syn_ids_presyn = 121\n",
      "n_valid_syn_ids_postsyn = 1757\n",
      "n_errored_syn_ids_postsyn = 16\n"
     ]
    },
    {
     "data": {
      "application/vnd.jupyter.widget-view+json": {
       "model_id": "b1350a7a66df4f559953cfc7b2e53886",
       "version_major": 2,
       "version_minor": 0
      },
      "text/plain": [
       "  0%|          | 0/5 [00:00<?, ?it/s]"
      ]
     },
     "metadata": {},
     "output_type": "display_data"
    },
    {
     "data": {
      "application/vnd.jupyter.widget-view+json": {
       "model_id": "b9f96f7e232e4db8b473ea9308ad1da6",
       "version_major": 2,
       "version_minor": 0
      },
      "text/plain": [
       "0it [00:00, ?it/s]"
      ]
     },
     "metadata": {},
     "output_type": "display_data"
    },
    {
     "name": "stdout",
     "output_type": "stream",
     "text": [
      "\n",
      "\n",
      "len(branch_attr_keys) = 5\n",
      "Saving Neuorn in suppress_output mode...please wait\n",
      "Saved File at location: /mnt/dj-stor01/platinum/minnie65/02/decomposition/864691135974454639_0_25_full_axon\n",
      "Save time = 143.81815910339355\n",
      "\n",
      "\n",
      " ***------ Total time for 864691135974454639 = 270.3105137348175 ------ ***\n",
      "\n",
      "\n",
      "\n",
      "---- Working on Neuron 864691135407289801 ----\n",
      "Decompressing Neuron in minimal output mode...please wait\n",
      "Pulled from Table Decomposition so setting split_index = 0\n",
      "Dont need spine recalculation\n",
      "Number of Neurons found = 1\n",
      "\n",
      "Part 1: Axon like branchese \n",
      "{'L0': array([ 1,  7, 10, 11, 22, 35, 36, 37, 38, 39, 40, 41, 42, 43, 44, 45, 46,\n",
      "       47, 48, 50, 51, 52, 53, 54, 57, 58, 59, 60, 62, 63]), 'L1': array([ 0,  1,  2,  3,  4,  5,  6,  7,  8,  9, 10, 12]), 'L4': array([ 1,  6,  7,  8,  9, 10]), 'L6': array([0])}\n",
      "Limb L0 soma angle: 18.79 \n",
      "Limb L1 soma angle: 164.18 \n",
      "Limb L2 soma angle: 108.41 \n",
      "Limb L3 soma angle: 99.46 \n",
      "Limb L4 soma angle: 88.24 \n",
      "Limb L5 soma angle: 56.03 \n",
      "Limb L6 soma angle: 158.91 \n",
      "\n",
      "Part 2: possible_axon_limbs = [1, 2, 3, 4, 6]\n",
      "\n",
      "Phase 2: Working on Limb L1\n",
      "nodes_to_eliminate = [16]\n",
      "\n",
      "Phase 2: Working on Limb L2\n",
      "nodes_to_eliminate = [7]\n",
      "\n",
      "Phase 2: Working on Limb L3\n",
      "nodes_to_eliminate = [0]\n",
      "\n",
      "Phase 2: Working on Limb L4\n",
      "nodes_to_eliminate = []\n",
      "\n",
      "Phase 2: Working on Limb L6\n",
      "nodes_to_eliminate = []\n",
      "\n",
      "----Working on Limb L1-----\n",
      "No endpoints were eliminated so don't need to add back any candidates\n",
      "\n",
      "----Working on Limb L2-----\n",
      "No endpoints were eliminated so don't need to add back any candidates\n",
      "\n",
      "----Working on Limb L3-----\n",
      "No endpoints were eliminated so don't need to add back any candidates\n",
      "\n",
      "----Working on Limb L4-----\n",
      "No nodes were eliminated so don't need to add back any candidates\n",
      "\n",
      "----Working on Limb L6-----\n",
      "No nodes were eliminated so don't need to add back any candidates\n",
      "Final Candidates\n",
      "\n",
      "Limb 1\n",
      "Candidate 0 (gray): array([ 0,  1,  2,  3,  4,  5,  6,  7,  8,  9, 10, 11, 12])\n",
      "Candidate 1 (cadetblue): array([13, 14, 15])\n",
      "\n",
      "Limb 2\n",
      "Candidate 0 (gray): array([0, 1, 2, 4, 5])\n",
      "Candidate 1 (sandybrown): array([ 3,  6,  8,  9, 10])\n",
      "\n",
      "Limb 3\n",
      "Candidate 0 (gray): array([1, 5, 6])\n",
      "Candidate 1 (forestgreen): array([2, 3, 4, 7, 8])\n",
      "\n",
      "Limb 4\n",
      "Candidate 0 (sandybrown): array([ 0,  1,  2,  3,  4,  5,  6,  7,  8,  9, 10])\n",
      "\n",
      "Limb 6\n",
      "Candidate 0 (pink): array([0])\n",
      "Part 3: axon_subgraph_candidates = {1: [[0, 1, 2, 3, 4, 5, 6, 7, 8, 9, 10, 11, 12], [13, 14, 15]], 2: [[0, 1, 2, 4, 5], [3, 6, 8, 9, 10]], 3: [[1, 5, 6], [2, 3, 4, 7, 8]], 4: [[0, 1, 2, 3, 4, 5, 6, 7, 8, 9, 10]], 6: [[0]]}\n",
      "\n",
      "\n",
      " --- Working on limb 1, candidate # 0\n",
      "12 out of 13 branches are axons\n",
      "Axon percentage = 0.9230769230769231\n",
      "curr_axon_angle_threshold = 95\n",
      "candidate_nodes = [ 0  1  2  3  4  5  6  7  8  9 10 11 12 16]\n",
      "non_axon_branches_on_subgraph = [11 16]\n",
      "endnodes_to_test = []\n",
      "candidate_angles,restr_skels = (None, None)\n",
      "Not adding candidate because no angles (None) passed the threhold 95 \n",
      "\n",
      "\n",
      " --- Working on limb 1, candidate # 1\n",
      "0 out of 3 branches are axons\n",
      "Axon percentage = 0.0\n",
      "Not adding candidate no axon branches detected \n",
      "\n",
      "\n",
      " --- Working on limb 2, candidate # 0\n",
      "0 out of 5 branches are axons\n",
      "Axon percentage = 0.0\n",
      "Not adding candidate no axon branches detected \n",
      "\n",
      "\n",
      " --- Working on limb 2, candidate # 1\n",
      "0 out of 5 branches are axons\n",
      "Axon percentage = 0.0\n",
      "Not adding candidate no axon branches detected \n",
      "\n",
      "\n",
      " --- Working on limb 3, candidate # 0\n",
      "0 out of 3 branches are axons\n",
      "Axon percentage = 0.0\n",
      "Not adding candidate no axon branches detected \n",
      "\n",
      "\n",
      " --- Working on limb 3, candidate # 1\n",
      "0 out of 5 branches are axons\n",
      "Axon percentage = 0.0\n",
      "Not adding candidate no axon branches detected \n",
      "\n",
      "\n",
      " --- Working on limb 4, candidate # 0\n",
      "6 out of 11 branches are axons\n",
      "Axon percentage = 0.5454545454545454\n",
      "curr_axon_angle_threshold = 120\n",
      "candidate_nodes = [ 0  1  2  3  4  5  6  7  8  9 10]\n",
      "non_axon_branches_on_subgraph = [0 2 3 4 5]\n",
      "endnodes_to_test = []\n",
      "candidate_angles,restr_skels = (None, None)\n",
      "Not adding candidate because no angles (None) passed the threhold 120 \n",
      "\n",
      "\n",
      " --- Working on limb 6, candidate # 0\n",
      "1 out of 1 branches are axons\n",
      "Axon percentage = 1.0\n",
      "curr_axon_angle_threshold = 95\n",
      "candidate_nodes = [0]\n",
      "non_axon_branches_on_subgraph = []\n",
      "endnodes_to_test = [0]\n",
      "Skeleton paths distances = [22978.75140966]\n",
      "Filtered indexes = [0]\n",
      "len(filtered_skeletons) = 1\n",
      "sk_angles = [160.77815439]\n",
      "candidate_angles,restr_skels = (array([160.77815439]), [array([[[1297077.03564812,  538955.16228435,  837311.77191764],\n",
      "        [1297060.76367883,  539052.59645051,  837327.15582405]],\n",
      "\n",
      "       [[1297060.76367883,  539052.59645051,  837327.15582405],\n",
      "        [1297045.87784886,  539150.53408018,  837340.68134846]],\n",
      "\n",
      "       [[1297045.87784886,  539150.53408018,  837340.68134846],\n",
      "        [1297033.48818111,  539249.06633563,  837352.42403847]],\n",
      "\n",
      "       [[1297033.48818111,  539249.06633563,  837352.42403847],\n",
      "        [1297024.05127301,  539347.88029627,  837364.41755926]],\n",
      "\n",
      "       [[1297024.05127301,  539347.88029627,  837364.41755926],\n",
      "        [1297016.13498169,  539446.76165295,  837376.95308699]],\n",
      "\n",
      "       [[1297016.13498169,  539446.76165295,  837376.95308699],\n",
      "        [1297011.06903209,  539545.51513891,  837391.85560905]],\n",
      "\n",
      "       [[1297011.06903209,  539545.51513891,  837391.85560905],\n",
      "        [1297007.14358489,  539643.94363951,  837408.88472315]],\n",
      "\n",
      "       [[1297007.14358489,  539643.94363951,  837408.88472315],\n",
      "        [1297004.45514205,  539742.01965656,  837428.22036782]],\n",
      "\n",
      "       [[1297004.45514205,  539742.01965656,  837428.22036782],\n",
      "        [1297002.68526426,  539839.34870948,  837450.98106342]],\n",
      "\n",
      "       [[1297002.68526426,  539839.34870948,  837450.98106342],\n",
      "        [1297001.32622379,  539936.34367527,  837475.27364704]],\n",
      "\n",
      "       [[1297001.32622379,  539936.34367527,  837475.27364704],\n",
      "        [1297000.39422941,  540032.3257144 ,  837503.25246097]],\n",
      "\n",
      "       [[1297000.39422941,  540032.3257144 ,  837503.25246097],\n",
      "        [1296999.57091153,  540128.04997968,  837532.16936234]],\n",
      "\n",
      "       [[1296999.57091153,  540128.04997968,  837532.16936234],\n",
      "        [1296998.75585745,  540222.74858157,  837564.24785949]],\n",
      "\n",
      "       [[1296998.75585745,  540222.74858157,  837564.24785949],\n",
      "        [1296997.94265881,  540317.21689514,  837597.03621777]],\n",
      "\n",
      "       [[1296997.94265881,  540317.21689514,  837597.03621777],\n",
      "        [1296996.81175648,  540410.79274789,  837632.25559829]],\n",
      "\n",
      "       [[1296996.81175648,  540410.79274789,  837632.25559829],\n",
      "        [1296995.59329554,  540504.12263993,  837668.14496448]],\n",
      "\n",
      "       [[1296995.59329554,  540504.12263993,  837668.14496448],\n",
      "        [1296993.70569823,  540596.68176441,  837705.92896628]],\n",
      "\n",
      "       [[1296993.70569823,  540596.68176441,  837705.92896628],\n",
      "        [1296991.58482131,  540688.97217783,  837744.37349089]],\n",
      "\n",
      "       [[1296991.58482131,  540688.97217783,  837744.37349089],\n",
      "        [1296988.31122512,  540780.51140784,  837784.47488596]],\n",
      "\n",
      "       [[1296988.31122512,  540780.51140784,  837784.47488596],\n",
      "        [1296984.60742122,  540871.77028782,  837825.19464359]],\n",
      "\n",
      "       [[1296984.60742122,  540871.77028782,  837825.19464359],\n",
      "        [1296979.07519113,  540962.18767051,  837867.52787109]],\n",
      "\n",
      "       [[1296979.07519113,  540962.18767051,  837867.52787109],\n",
      "        [1296972.99640522,  541052.35351162,  837910.34339935]],\n",
      "\n",
      "       [[1296972.99640522,  541052.35351162,  837910.34339935],\n",
      "        [1296964.24754181,  541141.55814241,  837954.66627433]],\n",
      "\n",
      "       [[1296964.24754181,  541141.55814241,  837954.66627433],\n",
      "        [1296954.98725474,  541230.59133985,  837999.24036685]],\n",
      "\n",
      "       [[1296954.98725474,  541230.59133985,  837999.24036685],\n",
      "        [1296942.46248986,  541318.76702175,  838044.71760716]],\n",
      "\n",
      "       [[1296942.46248986,  541318.76702175,  838044.71760716],\n",
      "        [1296929.09362265,  541406.83139095,  838090.14596445]],\n",
      "\n",
      "       [[1296929.09362265,  541406.83139095,  838090.14596445],\n",
      "        [1296913.16603914,  541494.55833943,  838135.42614326]],\n",
      "\n",
      "       [[1296913.16603914,  541494.55833943,  838135.42614326],\n",
      "        [1296895.60175564,  541582.30107844,  838180.02993563]],\n",
      "\n",
      "       [[1296895.60175564,  541582.30107844,  838180.02993563],\n",
      "        [1296876.36274755,  541670.05997481,  838223.9416274 ]],\n",
      "\n",
      "       [[1296876.36274755,  541670.05997481,  838223.9416274 ],\n",
      "        [1296854.48991405,  541758.01150547,  838266.16975815]],\n",
      "\n",
      "       [[1296854.48991405,  541758.01150547,  838266.16975815],\n",
      "        [1296831.53240834,  541846.02088392,  838307.7126404 ]],\n",
      "\n",
      "       [[1296831.53240834,  541846.02088392,  838307.7126404 ],\n",
      "        [1296805.05570076,  541934.04217844,  838347.09836963]],\n",
      "\n",
      "       [[1296805.05570076,  541934.04217844,  838347.09836963],\n",
      "        [1296776.74829629,  542021.79525578,  838385.73095497]],\n",
      "\n",
      "       [[1296776.74829629,  542021.79525578,  838385.73095497],\n",
      "        [1296745.86656005,  542109.17116528,  838423.30446701]],\n",
      "\n",
      "       [[1296745.86656005,  542109.17116528,  838423.30446701],\n",
      "        [1296711.34842047,  542195.41063457,  838460.27438883]],\n",
      "\n",
      "       [[1296711.34842047,  542195.41063457,  838460.27438883],\n",
      "        [1296675.1948092 ,  542281.04697832,  838497.10885037]],\n",
      "\n",
      "       [[1296675.1948092 ,  542281.04697832,  838497.10885037],\n",
      "        [1296635.23450946,  542364.84665611,  838534.26781224]],\n",
      "\n",
      "       [[1296635.23450946,  542364.84665611,  838534.26781224],\n",
      "        [1296593.85040285,  542447.65126589,  838572.04140568]],\n",
      "\n",
      "       [[1296593.85040285,  542447.65126589,  838572.04140568],\n",
      "        [1296550.82744021,  542529.31051445,  838610.5224635 ]],\n",
      "\n",
      "       [[1296550.82744021,  542529.31051445,  838610.5224635 ],\n",
      "        [1296506.99134695,  542609.81489994,  838650.4754556 ]],\n",
      "\n",
      "       [[1296506.99134695,  542609.81489994,  838650.4754556 ],\n",
      "        [1296462.99609557,  542689.96729252,  838690.96850085]],\n",
      "\n",
      "       [[1296462.99609557,  542689.96729252,  838690.96850085],\n",
      "        [1296420.25773764,  542769.79896932,  838733.39886897]],\n",
      "\n",
      "       [[1296420.25773764,  542769.79896932,  838733.39886897],\n",
      "        [1296378.68817321,  542849.92072154,  838776.39473002]],\n",
      "\n",
      "       [[1296378.68817321,  542849.92072154,  838776.39473002],\n",
      "        [1296339.64905273,  542930.67048852,  838820.6148861 ]],\n",
      "\n",
      "       [[1296339.64905273,  542930.67048852,  838820.6148861 ],\n",
      "        [1296303.85842652,  543012.51088433,  838865.4717412 ]],\n",
      "\n",
      "       [[1296303.85842652,  543012.51088433,  838865.4717412 ],\n",
      "        [1296270.48613653,  543095.16319698,  838910.80258582]],\n",
      "\n",
      "       [[1296270.48613653,  543095.16319698,  838910.80258582],\n",
      "        [1296242.86874037,  543179.82753199,  838956.21693572]],\n",
      "\n",
      "       [[1296242.86874037,  543179.82753199,  838956.21693572],\n",
      "        [1296217.27936173,  543265.19919119,  839001.4979818 ]],\n",
      "\n",
      "       [[1296217.27936173,  543265.19919119,  839001.4979818 ],\n",
      "        [1296197.47656001,  543352.58385765,  839045.90258868]],\n",
      "\n",
      "       [[1296197.47656001,  543352.58385765,  839045.90258868],\n",
      "        [1296180.30579667,  543440.93480272,  839089.37121086]],\n",
      "\n",
      "       [[1296180.30579667,  543440.93480272,  839089.37121086],\n",
      "        [1296166.07339817,  543530.36448551,  839131.79491496]],\n",
      "\n",
      "       [[1296166.07339817,  543530.36448551,  839131.79491496],\n",
      "        [1296154.84592426,  543621.18870698,  839172.06425853]],\n",
      "\n",
      "       [[1296154.84592426,  543621.18870698,  839172.06425853],\n",
      "        [1296144.56653277,  543712.58576528,  839211.29214577]],\n",
      "\n",
      "       [[1296144.56653277,  543712.58576528,  839211.29214577],\n",
      "        [1296135.5441865 ,  543805.09461989,  839248.17993623]],\n",
      "\n",
      "       [[1296135.5441865 ,  543805.09461989,  839248.17993623],\n",
      "        [1296126.45212809,  543898.27886686,  839283.27217842]],\n",
      "\n",
      "       [[1296126.45212809,  543898.27886686,  839283.27217842],\n",
      "        [1296117.31154316,  543991.93325344,  839317.11454214]],\n",
      "\n",
      "       [[1296117.31154316,  543991.93325344,  839317.11454214],\n",
      "        [1296107.03051872,  544086.4822046 ,  839348.01129809]],\n",
      "\n",
      "       [[1296107.03051872,  544086.4822046 ,  839348.01129809],\n",
      "        [1296096.1805908 ,  544181.29527932,  839377.85107715]],\n",
      "\n",
      "       [[1296096.1805908 ,  544181.29527932,  839377.85107715],\n",
      "        [1296084.39328415,  544276.53274432,  839405.97374884]],\n",
      "\n",
      "       [[1296084.39328415,  544276.53274432,  839405.97374884],\n",
      "        [1296071.73327333,  544372.10837157,  839432.50304172]],\n",
      "\n",
      "       [[1296071.73327333,  544372.10837157,  839432.50304172],\n",
      "        [1296058.72865345,  544467.82755836,  839458.35969061]],\n",
      "\n",
      "       [[1296058.72865345,  544467.82755836,  839458.35969061],\n",
      "        [1296045.32078143,  544563.82641658,  839482.94521862]],\n",
      "\n",
      "       [[1296045.32078143,  544563.82641658,  839482.94521862],\n",
      "        [1296032.12096059,  544659.90817544,  839507.31534308]],\n",
      "\n",
      "       [[1296032.12096059,  544659.90817544,  839507.31534308],\n",
      "        [1296019.26024401,  544756.12505469,  839531.33437963]],\n",
      "\n",
      "       [[1296019.26024401,  544756.12505469,  839531.33437963],\n",
      "        [1296007.43080382,  544852.47304239,  839555.34601792]],\n",
      "\n",
      "       [[1296007.43080382,  544852.47304239,  839555.34601792],\n",
      "        [1295996.14605815,  544948.8902783 ,  839579.35374863]],\n",
      "\n",
      "       [[1295996.14605815,  544948.8902783 ,  839579.35374863],\n",
      "        [1295987.13394358,  545045.52369295,  839603.44150469]],\n",
      "\n",
      "       [[1295987.13394358,  545045.52369295,  839603.44150469],\n",
      "        [1295978.82885299,  545142.22460483,  839627.49611886]],\n",
      "\n",
      "       [[1295978.82885299,  545142.22460483,  839627.49611886],\n",
      "        [1295973.31807026,  545239.19276584,  839651.3038282 ]],\n",
      "\n",
      "       [[1295973.31807026,  545239.19276584,  839651.3038282 ],\n",
      "        [1295969.25139597,  545336.30000577,  839674.75593709]],\n",
      "\n",
      "       [[1295969.25139597,  545336.30000577,  839674.75593709],\n",
      "        [1295967.54365052,  545433.63442897,  839697.62717812]],\n",
      "\n",
      "       [[1295967.54365052,  545433.63442897,  839697.62717812],\n",
      "        [1295968.39135225,  545531.16957789,  839719.57338103]],\n",
      "\n",
      "       [[1295968.39135225,  545531.16957789,  839719.57338103],\n",
      "        [1295970.80140857,  545628.82744692,  839740.95403223]],\n",
      "\n",
      "       [[1295970.80140857,  545628.82744692,  839740.95403223],\n",
      "        [1295976.86333146,  545726.61089764,  839760.93905605]],\n",
      "\n",
      "       [[1295976.86333146,  545726.61089764,  839760.93905605],\n",
      "        [1295984.01101019,  545824.39494781,  839780.56451083]],\n",
      "\n",
      "       [[1295984.01101019,  545824.39494781,  839780.56451083],\n",
      "        [1295994.58462031,  545922.06756274,  839799.22621126]],\n",
      "\n",
      "       [[1295994.58462031,  545922.06756274,  839799.22621126],\n",
      "        [1296006.62186931,  546019.56801038,  839817.82238168]],\n",
      "\n",
      "       [[1296006.62186931,  546019.56801038,  839817.82238168],\n",
      "        [1296020.64307212,  546116.8350863 ,  839836.32972657]],\n",
      "\n",
      "       [[1296020.64307212,  546116.8350863 ,  839836.32972657],\n",
      "        [1296036.60432193,  546213.64866561,  839855.58457105]],\n",
      "\n",
      "       [[1296036.60432193,  546213.64866561,  839855.58457105],\n",
      "        [1296053.38543483,  546310.24281149,  839875.26771326]],\n",
      "\n",
      "       [[1296053.38543483,  546310.24281149,  839875.26771326],\n",
      "        [1296071.67472475,  546406.15090874,  839896.88110625]],\n",
      "\n",
      "       [[1296071.67472475,  546406.15090874,  839896.88110625],\n",
      "        [1296090.219858  ,  546501.70571883,  839919.75312558]],\n",
      "\n",
      "       [[1296090.219858  ,  546501.70571883,  839919.75312558],\n",
      "        [1296109.08609653,  546596.81712326,  839944.20482878]],\n",
      "\n",
      "       [[1296109.08609653,  546596.81712326,  839944.20482878],\n",
      "        [1296127.58800302,  546691.2947203 ,  839971.22645137]],\n",
      "\n",
      "       [[1296127.58800302,  546691.2947203 ,  839971.22645137],\n",
      "        [1296145.71905428,  546785.50925639,  839999.38941229]],\n",
      "\n",
      "       [[1296145.71905428,  546785.50925639,  839999.38941229],\n",
      "        [1296162.75777993,  546879.2404823 ,  840029.78906881]],\n",
      "\n",
      "       [[1296162.75777993,  546879.2404823 ,  840029.78906881],\n",
      "        [1296178.48276521,  546972.79095038,  840061.39197931]],\n",
      "\n",
      "       [[1296178.48276521,  546972.79095038,  840061.39197931],\n",
      "        [1296193.26915218,  547066.2122765 ,  840093.85455139]],\n",
      "\n",
      "       [[1296193.26915218,  547066.2122765 ,  840093.85455139],\n",
      "        [1296205.28418151,  547159.73463448,  840127.14906452]],\n",
      "\n",
      "       [[1296205.28418151,  547159.73463448,  840127.14906452],\n",
      "        [1296216.26339785,  547253.38753154,  840160.40973971]],\n",
      "\n",
      "       [[1296216.26339785,  547253.38753154,  840160.40973971],\n",
      "        [1296224.48571307,  547347.45670857,  840193.32453071]],\n",
      "\n",
      "       [[1296224.48571307,  547347.45670857,  840193.32453071],\n",
      "        [1296230.7686958 ,  547441.94454373,  840225.38221348]],\n",
      "\n",
      "       [[1296230.7686958 ,  547441.94454373,  840225.38221348],\n",
      "        [1296235.02632232,  547536.86960761,  840256.54476895]],\n",
      "\n",
      "       [[1296235.02632232,  547536.86960761,  840256.54476895],\n",
      "        [1296236.20268927,  547632.50295067,  840285.65358835]],\n",
      "\n",
      "       [[1296236.20268927,  547632.50295067,  840285.65358835],\n",
      "        [1296236.17451091,  547728.41317866,  840313.95954837]],\n",
      "\n",
      "       [[1296236.17451091,  547728.41317866,  840313.95954837],\n",
      "        [1296231.80643994,  547825.17376713,  840338.77968039]],\n",
      "\n",
      "       [[1296231.80643994,  547825.17376713,  840338.77968039],\n",
      "        [1296226.35625344,  547922.09411244,  840362.67129109]],\n",
      "\n",
      "       [[1296226.35625344,  547922.09411244,  840362.67129109],\n",
      "        [1296216.6123797 ,  548019.56484097,  840382.7838246 ]],\n",
      "\n",
      "       [[1296216.6123797 ,  548019.56484097,  840382.7838246 ],\n",
      "        [1296204.78988047,  548117.12821598,  840400.91605947]],\n",
      "\n",
      "       [[1296204.78988047,  548117.12821598,  840400.91605947],\n",
      "        [1296189.73301381,  548214.83575009,  840415.96692472]]])])\n",
      "base_final_widths = [196.33676946 218.15401287 219.50524386]\n",
      "overall_ais_width = 218.15401286552526\n",
      "ais_width = 211.3320087273229\n",
      "Adding the following branches as true axons: [0.]\n",
      "curr_soma_angle = 158.91\n",
      "max_axon_angle = 160.77815438728922\n",
      "Changing to a better axon candidate\n",
      "Using the best axon approach\n",
      "Using True\n",
      "Limb L6: Axon branches before dendritic path filter = [0.]\n",
      "Limb L6: Axon branches AFTER dendritic path filter = [0.]\n",
      "\n",
      "\n",
      "Part 4: final_true_axons = {'L6': array([0.])}\n"
     ]
    },
    {
     "name": "stdout",
     "output_type": "stream",
     "text": [
      "\n",
      "--- Working on filter 0:\n",
      "function = dendrite_on_axon_merges\n",
      "function __name__ = filter_away_dendrite_on_axon_merges\n",
      "function arguments = {'use_pre_existing_axon_labels': True}\n",
      "\n",
      "\n",
      "\n",
      "\n",
      "\n",
      " ---- Total time for applying filter: 0.58028244972229 -----\n",
      "Starting axon branch was the starting node so using border vertices and NOT computing upstream branch\n",
      "upstream_node_to_axon_starting_branch = None\n",
      "root_curr = [1295868.  530061.  833721.]\n",
      "Time for preparing soma vertices and root: 0.0003402233123779297\n",
      "invalidation_d = 2000\n"
     ]
    },
    {
     "name": "stderr",
     "output_type": "stream",
     "text": [
      "\r",
      "  0%|          | 0/1 [00:00<?, ?it/s]"
     ]
    },
    {
     "name": "stdout",
     "output_type": "stream",
     "text": [
      "cc_vertex_thresh = 10\n"
     ]
    },
    {
     "data": {
      "application/vnd.jupyter.widget-view+json": {
       "model_id": "50b41423640a48f6a9de8abac41427e5",
       "version_major": 2,
       "version_minor": 0
      },
      "text/plain": [
       "  0%|          | 0/1851 [00:00<?, ?it/s]"
      ]
     },
     "metadata": {},
     "output_type": "display_data"
    },
    {
     "name": "stderr",
     "output_type": "stream",
     "text": [
      "100%|██████████| 1/1 [00:00<00:00, 17.05it/s]\n"
     ]
    },
    {
     "name": "stdout",
     "output_type": "stream",
     "text": [
      "meshparty_segment_size = 100\n",
      "Time for 1st pass MP skeletonization: 0.7375712394714355\n",
      "connecting at the root\n",
      "branches_touching_root = [0]\n",
      "combining close nodes\n",
      "combine_threshold = 1300\n",
      "length of Graph = 231\n",
      "After combining close endpoints max(kept_branches_idx) = 0, len(kept_branches_idx) = 1\n",
      "empty_indices % = 0.0\n",
      " conflict_indices % = 0.0\n"
     ]
    },
    {
     "data": {
      "application/vnd.jupyter.widget-view+json": {
       "model_id": "fec66923d7ae4f8e888d51e985fe8271",
       "version_major": 2,
       "version_minor": 0
      },
      "text/plain": [
       "0it [00:00, ?it/s]"
      ]
     },
     "metadata": {},
     "output_type": "display_data"
    },
    {
     "name": "stdout",
     "output_type": "stream",
     "text": [
      "AFTER face_lookup_resolved_test\n"
     ]
    },
    {
     "data": {
      "application/vnd.jupyter.widget-view+json": {
       "model_id": "e02f01f41f984f07adf1cbefe9b2cf1c",
       "version_major": 2,
       "version_minor": 0
      },
      "text/plain": [
       "  0%|          | 0/1 [00:00<?, ?it/s]"
      ]
     },
     "metadata": {},
     "output_type": "display_data"
    },
    {
     "name": "stdout",
     "output_type": "stream",
     "text": [
      "Decomposing first pass: 0.45716166496276855\n",
      "Only Using MeshParty Skeletonization and Mesh Correspondence\n",
      "Another print\n",
      "Divinding into MP and MAP pieces: 0.0001819133758544922\n",
      "Total time for MAP sublimb processing 4.76837158203125e-06\n",
      "---- Working on MP Decomposition #0 ----\n",
      "Using Quicker soma_to_piece_touching_vertices because no MAP and only one sublimb_mesh piece \n",
      "MP filtering soma verts: 0.0002808570861816406\n",
      "Fixing Possible Soma Extension Branch for Sublimb 0\n",
      "Total time for mesh KDTree = 0.17991900444030762\n",
      "sbv[0].reshape(-1,3) = [[1295868.  530061.  833721.]]\n",
      "closest_sk_pt_coord BEFORE = [1295794.71789855  530501.46686198  832820.91415581]\n",
      "current_skeleton.shape = (230, 2, 3)\n",
      "node_for_stitch = 14: [1295794.71789855  530501.46686198  832820.91415581]\n",
      "node_for_stitch AFTER = 14: [1295794.71789855  530501.46686198  832820.91415581]\n",
      "possible_node_loc = [0 5]\n",
      "possible_node_loc AFTER = [0 5]\n",
      "curr_shortest_path = [14, 11.0, 8.0, 5.0]\n",
      "Current stitch point was not a branch or endpoint, shortest_path_length to one = 280.77871032682987\n",
      "Changing the stitch point becasue the distance to end or branch node was 280.77871032682987\n",
      "New stitch point has degree 1\n",
      "change_status for create soma extending pieces = True\n",
      "closest_sk_pt_coord AFTER = [1295746.11366268  530357.70676541  832584.81560598]\n",
      "skipping soma 0 because closest skeleton node was already end node\n",
      "endpoints_must_keep = {0: array([[1295746.11366268,  530357.70676541,  832584.81560598]])}\n",
      "match_sk_branches = [0]\n",
      "The new branch info was none so skipping \n",
      "\n",
      "No soma extending branch was added for this sublimb even though it had a soma border (means they already existed)\n",
      "MP (because soma touching verts) soma extension add: 0.5523011684417725\n",
      "There were not both MAP and MP pieces so skipping the stitch resolving phase\n",
      "Time for decomp of Limb = 1.760838508605957\n",
      "Number of matching vertices = 28\n",
      "Only one endpoint after filtering away the endpoints that are not on the skeleton\n",
      "Using Distance measure skeletal_distance\n",
      "endpoints_must_keep = [[1295746.11366268  530357.70676541  832584.81560598]]\n",
      "Number of end_nodes BEFORE filtering = 2\n",
      "all_single_nodes_to_eliminate = [1]\n",
      "no small end nodes to get rid of so returning whole skeleton\n",
      "Removed 0 skeletal branches\n"
     ]
    },
    {
     "data": {
      "application/vnd.jupyter.widget-view+json": {
       "model_id": "cdad1f5055f441b3bc9a6770cc99d077",
       "version_major": 2,
       "version_minor": 0
      },
      "text/plain": [
       "  0%|          | 0/1 [00:00<?, ?it/s]"
      ]
     },
     "metadata": {},
     "output_type": "display_data"
    },
    {
     "name": "stdout",
     "output_type": "stream",
     "text": [
      "3618 3619\n",
      "For marked faces: None\n",
      "empty_indices % = 0.0\n",
      " conflict_indices % = 0.0\n"
     ]
    },
    {
     "data": {
      "application/vnd.jupyter.widget-view+json": {
       "model_id": "579e5510bda4485d9efce3d22e85b7e7",
       "version_major": 2,
       "version_minor": 0
      },
      "text/plain": [
       "0it [00:00, ?it/s]"
      ]
     },
     "metadata": {},
     "output_type": "display_data"
    },
    {
     "name": "stdout",
     "output_type": "stream",
     "text": [
      "AFTER face_lookup_resolved_test\n"
     ]
    },
    {
     "data": {
      "application/vnd.jupyter.widget-view+json": {
       "model_id": "78b5604f06fe473eb4ecdcac03f94d14",
       "version_major": 2,
       "version_minor": 0
      },
      "text/plain": [
       "  0%|          | 0/1 [00:00<?, ?it/s]"
      ]
     },
     "metadata": {},
     "output_type": "display_data"
    },
    {
     "name": "stdout",
     "output_type": "stream",
     "text": [
      "Limb Correspondence before stitching = 1\n",
      "Limb Correspondence AFTER stitching = 1\n",
      "Upstream node was None so don't have to adjust\n",
      "concept_network_dict = {0: [<networkx_utils.GraphOrderedEdges object at 0x7f026c2316a0>]}\n",
      "\n",
      "\n",
      "----Working on seperate_graph 0----\n",
      "\n",
      "\n",
      "---------Working on soma_idx = 0, soma_group_idx 0, endpt = [1295746.11366268  530357.70676541  832584.81560598]---------\n",
      "Starting_edge inside branches_to_conept = [[1295701.1683154   551050.2441675   840343.93793426]\n",
      " [1295746.11366268  530357.70676541  832584.81560598]]\n",
      "Done generating concept network \n",
      "\n",
      "\n",
      "Synapsse Results:\n",
      "Total Number of Synapses = 3611\n",
      "n_valid_syn_ids_presyn = 0\n",
      "n_errored_syn_ids_presyn = 277\n",
      "n_valid_syn_ids_postsyn = 3329\n",
      "n_errored_syn_ids_postsyn = 5\n",
      "Synapsse Results:\n",
      "Total Number of Synapses = 3611\n",
      "n_valid_syn_ids_presyn = 0\n",
      "n_errored_syn_ids_presyn = 277\n",
      "n_valid_syn_ids_postsyn = 3329\n",
      "n_errored_syn_ids_postsyn = 5\n"
     ]
    },
    {
     "data": {
      "application/vnd.jupyter.widget-view+json": {
       "model_id": "327c591dcfd94497b5431635d232201b",
       "version_major": 2,
       "version_minor": 0
      },
      "text/plain": [
       "0it [00:00, ?it/s]"
      ]
     },
     "metadata": {},
     "output_type": "display_data"
    },
    {
     "data": {
      "application/vnd.jupyter.widget-view+json": {
       "model_id": "e3cc3d1955aa4ec8b201deb5e70a8a01",
       "version_major": 2,
       "version_minor": 0
      },
      "text/plain": [
       "0it [00:00, ?it/s]"
      ]
     },
     "metadata": {},
     "output_type": "display_data"
    },
    {
     "name": "stdout",
     "output_type": "stream",
     "text": [
      "Synapsse Results:\n",
      "Total Number of Synapses = 3611\n",
      "n_valid_syn_ids_presyn = 0\n",
      "n_errored_syn_ids_presyn = 277\n",
      "n_valid_syn_ids_postsyn = 3329\n",
      "n_errored_syn_ids_postsyn = 5\n",
      "Synapsse Results:\n",
      "Total Number of Synapses = 3611\n",
      "n_valid_syn_ids_presyn = 0\n",
      "n_errored_syn_ids_presyn = 277\n",
      "n_valid_syn_ids_postsyn = 3329\n",
      "n_errored_syn_ids_postsyn = 5\n"
     ]
    },
    {
     "data": {
      "application/vnd.jupyter.widget-view+json": {
       "model_id": "8656d62b2bfb4ab69dced3577d4400f9",
       "version_major": 2,
       "version_minor": 0
      },
      "text/plain": [
       "0it [00:00, ?it/s]"
      ]
     },
     "metadata": {},
     "output_type": "display_data"
    },
    {
     "data": {
      "application/vnd.jupyter.widget-view+json": {
       "model_id": "7347a9e9379544e0a6c62fa35d5ff0dd",
       "version_major": 2,
       "version_minor": 0
      },
      "text/plain": [
       "0it [00:00, ?it/s]"
      ]
     },
     "metadata": {},
     "output_type": "display_data"
    },
    {
     "name": "stdout",
     "output_type": "stream",
     "text": [
      "\n",
      "\n",
      "len(branch_attr_keys) = 0\n",
      "Saving Neuorn in suppress_output mode...please wait\n",
      "Saved File at location: /mnt/dj-stor01/platinum/minnie65/02/decomposition/864691135407289801_0_25_full_axon\n",
      "Save time = 254.15276765823364\n",
      "\n",
      "\n",
      " ***------ Total time for 864691135407289801 = 428.4901885986328 ------ ***\n",
      "\n",
      "\n",
      "\n",
      "---- Working on Neuron 864691135736387732 ----\n",
      "Decompressing Neuron in minimal output mode...please wait\n",
      "Pulled from Table Decomposition so setting split_index = 0\n",
      "Dont need spine recalculation\n",
      "Number of Neurons found = 1\n",
      "\n",
      "Part 1: Axon like branchese \n",
      "{'L0': array([ 3,  5,  6,  7, 12, 37, 38, 39]), 'L1': array([ 0,  2,  3,  5,  7,  9, 10, 11, 12, 13, 14, 15, 16, 17, 18, 19, 21,\n",
      "       22, 23, 24, 25, 26, 27, 28, 30, 31, 32, 33, 35, 36, 37, 38, 39, 40,\n",
      "       41, 42, 43, 44, 45, 46, 47, 48, 49, 50, 51, 52, 53, 54, 55, 56, 57]), 'L3': array([ 2,  3,  4,  6,  7, 11, 12]), 'L4': array([5])}\n",
      "Limb L0 soma angle: 30.29 \n",
      "Limb L1 soma angle: 139.55 \n",
      "Limb L2 soma angle: 83.02 \n",
      "Limb L3 soma angle: 117.24 \n",
      "Limb L4 soma angle: 75.13 \n",
      "Limb L5 soma angle: 93.85 \n",
      "Limb L6 soma angle: 110.95 \n",
      "Limb L7 soma angle: 95.04 \n",
      "Limb L8 soma angle: 129.69 \n",
      "Limb L9 soma angle: 63.95 \n",
      "Limb L10 soma angle: 56.89 \n",
      "\n",
      "Part 2: possible_axon_limbs = [1, 2, 3, 4, 5, 6, 7, 8]\n",
      "\n",
      "Phase 2: Working on Limb L1\n",
      "nodes_to_eliminate = []\n",
      "\n",
      "Phase 2: Working on Limb L2\n",
      "nodes_to_eliminate = []\n",
      "\n",
      "Phase 2: Working on Limb L3\n",
      "nodes_to_eliminate = [ 9 10]\n",
      "\n",
      "Phase 2: Working on Limb L4\n",
      "nodes_to_eliminate = []\n",
      "\n",
      "Phase 2: Working on Limb L5\n",
      "nodes_to_eliminate = []\n",
      "\n",
      "Phase 2: Working on Limb L6\n",
      "nodes_to_eliminate = [0]\n",
      "\n",
      "Phase 2: Working on Limb L7\n",
      "nodes_to_eliminate = []\n",
      "\n",
      "Phase 2: Working on Limb L8\n",
      "nodes_to_eliminate = [4]\n",
      "\n",
      "----Working on Limb L1-----\n",
      "No nodes were eliminated so don't need to add back any candidates\n",
      "\n",
      "----Working on Limb L2-----\n",
      "No nodes were eliminated so don't need to add back any candidates\n",
      "\n",
      "----Working on Limb L3-----\n",
      "No endpoints were eliminated so don't need to add back any candidates\n",
      "\n",
      "----Working on Limb L4-----\n",
      "No nodes were eliminated so don't need to add back any candidates\n",
      "\n",
      "----Working on Limb L5-----\n",
      "No nodes were eliminated so don't need to add back any candidates\n",
      "\n",
      "----Working on Limb L6-----\n",
      "No endpoints were eliminated so don't need to add back any candidates\n",
      "\n",
      "----Working on Limb L7-----\n",
      "No nodes were eliminated so don't need to add back any candidates\n",
      "\n",
      "----Working on Limb L8-----\n",
      "No endpoints were eliminated so don't need to add back any candidates\n",
      "Final Candidates\n",
      "\n",
      "Limb 1\n",
      "Candidate 0 (brown): array([ 0,  1,  2,  3,  4,  5,  6,  7,  8,  9, 10, 11, 12, 13, 14, 15, 16,\n",
      "       17, 18, 19, 20, 21, 22, 23, 24, 25, 26, 27, 28, 29, 30, 31, 32, 33,\n",
      "       34, 35, 36, 37, 38, 39, 40, 41, 42, 43, 44, 45, 46, 47, 48, 49, 50,\n",
      "       51, 52, 53, 54, 55, 56, 57])\n",
      "\n",
      "Limb 2\n",
      "Candidate 0 (blue): array([0, 1, 2, 3, 4])\n",
      "\n",
      "Limb 3\n",
      "Candidate 0 (brown): array([ 2,  3,  4,  6,  7, 11, 12])\n",
      "Candidate 1 (pink): array([0, 1, 5])\n",
      "Candidate 2 (magenta): array([8])\n",
      "\n",
      "Limb 4\n",
      "Candidate 0 (magenta): array([0, 1, 2, 3, 4, 5, 6])\n",
      "\n",
      "Limb 5\n",
      "Candidate 0 (blue): array([0, 1, 2])\n",
      "\n",
      "Limb 6\n",
      "Candidate 0 (forestgreen): array([1, 3, 4])\n",
      "Candidate 1 (orange): array([2])\n",
      "\n",
      "Limb 7\n",
      "Candidate 0 (sandybrown): array([0, 1, 2])\n",
      "\n",
      "Limb 8\n",
      "Candidate 0 (gray): array([1])\n",
      "Candidate 1 (orange): array([0, 2, 3])\n",
      "Part 3: axon_subgraph_candidates = {1: [[0, 1, 2, 3, 4, 5, 6, 7, 8, 9, 10, 11, 12, 13, 14, 15, 16, 17, 18, 19, 20, 21, 22, 23, 24, 25, 26, 27, 28, 29, 30, 31, 32, 33, 34, 35, 36, 37, 38, 39, 40, 41, 42, 43, 44, 45, 46, 47, 48, 49, 50, 51, 52, 53, 54, 55, 56, 57]], 2: [[0, 1, 2, 3, 4]], 3: [[2, 3, 4, 6, 7, 11, 12], [0, 1, 5], [8]], 4: [[0, 1, 2, 3, 4, 5, 6]], 5: [[0, 1, 2]], 6: [[1, 3, 4], [2]], 7: [[0, 1, 2]], 8: [[1], [0, 2, 3]]}\n",
      "\n",
      "\n",
      " --- Working on limb 1, candidate # 0\n",
      "51 out of 58 branches are axons\n",
      "Axon percentage = 0.8793103448275862\n",
      "curr_axon_angle_threshold = 95\n",
      "candidate_nodes = [ 0  1  2  3  4  5  6  7  8  9 10 11 12 13 14 15 16 17 18 19 20 21 22 23\n",
      " 24 25 26 27 28 29 30 31 32 33 34 35 36 37 38 39 40 41 42 43 44 45 46 47\n",
      " 48 49 50 51 52 53 54 55 56 57]\n",
      "non_axon_branches_on_subgraph = [ 1  4  6  8 20 29 34]\n",
      "endnodes_to_test = [7867]\n",
      "Skeleton paths distances = [24895.79563773]\n",
      "Filtered indexes = [0]\n",
      "len(filtered_skeletons) = 1\n",
      "sk_angles = [164.1176861]\n",
      "candidate_angles,restr_skels = (array([164.1176861]), [array([[[1316970.,  785391.,  881379.],\n",
      "        [1316980.,  785497.,  881417.]],\n",
      "\n",
      "       [[1316980.,  785497.,  881417.],\n",
      "        [1316990.,  785586.,  881449.]],\n",
      "\n",
      "       [[1316990.,  785586.,  881449.],\n",
      "        [1317000.,  785675.,  881481.]],\n",
      "\n",
      "       [[1317000.,  785675.,  881481.],\n",
      "        [1317010.,  785792.,  881524.]],\n",
      "\n",
      "       [[1317010.,  785792.,  881524.],\n",
      "        [1317020.,  785943.,  881581.]],\n",
      "\n",
      "       [[1317020.,  785943.,  881581.],\n",
      "        [1317050.,  786159.,  881663.]],\n",
      "\n",
      "       [[1317050.,  786159.,  881663.],\n",
      "        [1317060.,  786278.,  881711.]],\n",
      "\n",
      "       [[1317060.,  786278.,  881711.],\n",
      "        [1317070.,  786378.,  881752.]],\n",
      "\n",
      "       [[1317070.,  786378.,  881752.],\n",
      "        [1317080.,  786480.,  881794.]],\n",
      "\n",
      "       [[1317080.,  786480.,  881794.],\n",
      "        [1317100.,  786574.,  881835.]],\n",
      "\n",
      "       [[1317100.,  786574.,  881835.],\n",
      "        [1317120.,  786691.,  881887.]],\n",
      "\n",
      "       [[1317120.,  786691.,  881887.],\n",
      "        [1317150.,  786857.,  881962.]],\n",
      "\n",
      "       [[1317150.,  786857.,  881962.],\n",
      "        [1317190.,  787092.,  882069.]],\n",
      "\n",
      "       [[1317190.,  787092.,  882069.],\n",
      "        [1317220.,  787273.,  882151.]],\n",
      "\n",
      "       [[1317220.,  787273.,  882151.],\n",
      "        [1317260.,  787468.,  882237.]],\n",
      "\n",
      "       [[1317260.,  787468.,  882237.],\n",
      "        [1317290.,  787650.,  882311.]],\n",
      "\n",
      "       [[1317290.,  787650.,  882311.],\n",
      "        [1317300.,  787729.,  882342.]],\n",
      "\n",
      "       [[1317300.,  787729.,  882342.],\n",
      "        [1317320.,  787843.,  882382.]],\n",
      "\n",
      "       [[1317320.,  787843.,  882382.],\n",
      "        [1317330.,  788010.,  882437.]],\n",
      "\n",
      "       [[1317330.,  788010.,  882437.],\n",
      "        [1317340.,  788115.,  882468.]],\n",
      "\n",
      "       [[1317340.,  788115.,  882468.],\n",
      "        [1317350.,  788147.,  882477.]],\n",
      "\n",
      "       [[1317350.,  788147.,  882477.],\n",
      "        [1317350.,  788242.,  882502.]],\n",
      "\n",
      "       [[1317350.,  788242.,  882502.],\n",
      "        [1317370.,  788400.,  882541.]],\n",
      "\n",
      "       [[1317370.,  788400.,  882541.],\n",
      "        [1317400.,  788514.,  882555.]],\n",
      "\n",
      "       [[1317400.,  788514.,  882555.],\n",
      "        [1317430.,  788680.,  882581.]],\n",
      "\n",
      "       [[1317430.,  788680.,  882581.],\n",
      "        [1317440.,  788826.,  882596.]],\n",
      "\n",
      "       [[1317440.,  788826.,  882596.],\n",
      "        [1317450.,  788903.,  882602.]],\n",
      "\n",
      "       [[1317450.,  788903.,  882602.],\n",
      "        [1317460.,  789053.,  882614.]],\n",
      "\n",
      "       [[1317460.,  789053.,  882614.],\n",
      "        [1317480.,  789203.,  882637.]],\n",
      "\n",
      "       [[1317480.,  789203.,  882637.],\n",
      "        [1317500.,  789338.,  882662.]],\n",
      "\n",
      "       [[1317500.,  789338.,  882662.],\n",
      "        [1317540.,  789447.,  882682.]],\n",
      "\n",
      "       [[1317540.,  789447.,  882682.],\n",
      "        [1317580.,  789596.,  882714.]],\n",
      "\n",
      "       [[1317580.,  789596.,  882714.],\n",
      "        [1317610.,  789761.,  882737.]],\n",
      "\n",
      "       [[1317610.,  789761.,  882737.],\n",
      "        [1317650.,  789918.,  882760.]],\n",
      "\n",
      "       [[1317650.,  789918.,  882760.],\n",
      "        [1317690.,  790079.,  882780.]],\n",
      "\n",
      "       [[1317690.,  790079.,  882780.],\n",
      "        [1317730.,  790243.,  882798.]],\n",
      "\n",
      "       [[1317730.,  790243.,  882798.],\n",
      "        [1317750.,  790390.,  882819.]],\n",
      "\n",
      "       [[1317750.,  790390.,  882819.],\n",
      "        [1317780.,  790531.,  882841.]],\n",
      "\n",
      "       [[1317780.,  790531.,  882841.],\n",
      "        [1317800.,  790689.,  882866.]],\n",
      "\n",
      "       [[1317800.,  790689.,  882866.],\n",
      "        [1317800.,  790837.,  882875.]],\n",
      "\n",
      "       [[1317800.,  790837.,  882875.],\n",
      "        [1317800.,  790989.,  882893.]],\n",
      "\n",
      "       [[1317800.,  790989.,  882893.],\n",
      "        [1317780.,  791135.,  882901.]],\n",
      "\n",
      "       [[1317780.,  791135.,  882901.],\n",
      "        [1317770.,  791252.,  882923.]],\n",
      "\n",
      "       [[1317770.,  791252.,  882923.],\n",
      "        [1317770.,  791317.,  882931.]],\n",
      "\n",
      "       [[1317770.,  791317.,  882931.],\n",
      "        [1317750.,  791398.,  882936.]],\n",
      "\n",
      "       [[1317750.,  791398.,  882936.],\n",
      "        [1317720.,  791503.,  882939.]],\n",
      "\n",
      "       [[1317720.,  791503.,  882939.],\n",
      "        [1317710.,  791657.,  882967.]],\n",
      "\n",
      "       [[1317710.,  791657.,  882967.],\n",
      "        [1317690.,  791737.,  882987.]],\n",
      "\n",
      "       [[1317690.,  791737.,  882987.],\n",
      "        [1317650.,  791913.,  883012.]],\n",
      "\n",
      "       [[1317650.,  791913.,  883012.],\n",
      "        [1317630.,  792038.,  883042.]],\n",
      "\n",
      "       [[1317630.,  792038.,  883042.],\n",
      "        [1317610.,  792149.,  883065.]],\n",
      "\n",
      "       [[1317610.,  792149.,  883065.],\n",
      "        [1317550.,  792295.,  883082.]],\n",
      "\n",
      "       [[1317550.,  792295.,  883082.],\n",
      "        [1317480.,  792476.,  883108.]],\n",
      "\n",
      "       [[1317480.,  792476.,  883108.],\n",
      "        [1317420.,  792585.,  883126.]],\n",
      "\n",
      "       [[1317420.,  792585.,  883126.],\n",
      "        [1317370.,  792707.,  883148.]],\n",
      "\n",
      "       [[1317370.,  792707.,  883148.],\n",
      "        [1317310.,  792814.,  883176.]],\n",
      "\n",
      "       [[1317310.,  792814.,  883176.],\n",
      "        [1317260.,  792921.,  883195.]],\n",
      "\n",
      "       [[1317260.,  792921.,  883195.],\n",
      "        [1317210.,  792990.,  883207.]],\n",
      "\n",
      "       [[1317210.,  792990.,  883207.],\n",
      "        [1317130.,  793116.,  883243.]],\n",
      "\n",
      "       [[1317130.,  793116.,  883243.],\n",
      "        [1317070.,  793240.,  883281.]],\n",
      "\n",
      "       [[1317070.,  793240.,  883281.],\n",
      "        [1316980.,  793360.,  883331.]],\n",
      "\n",
      "       [[1316980.,  793360.,  883331.],\n",
      "        [1316920.,  793450.,  883368.]],\n",
      "\n",
      "       [[1316920.,  793450.,  883368.],\n",
      "        [1316850.,  793537.,  883404.]],\n",
      "\n",
      "       [[1316850.,  793537.,  883404.],\n",
      "        [1316810.,  793606.,  883433.]],\n",
      "\n",
      "       [[1316810.,  793606.,  883433.],\n",
      "        [1316720.,  793722.,  883482.]],\n",
      "\n",
      "       [[1316720.,  793722.,  883482.],\n",
      "        [1316660.,  793817.,  883524.]],\n",
      "\n",
      "       [[1316660.,  793817.,  883524.],\n",
      "        [1316580.,  793930.,  883575.]],\n",
      "\n",
      "       [[1316580.,  793930.,  883575.],\n",
      "        [1316530.,  794010.,  883613.]],\n",
      "\n",
      "       [[1316530.,  794010.,  883613.],\n",
      "        [1316470.,  794094.,  883653.]],\n",
      "\n",
      "       [[1316470.,  794094.,  883653.],\n",
      "        [1316370.,  794240.,  883724.]],\n",
      "\n",
      "       [[1316370.,  794240.,  883724.],\n",
      "        [1316320.,  794310.,  883758.]],\n",
      "\n",
      "       [[1316320.,  794310.,  883758.],\n",
      "        [1316260.,  794413.,  883804.]],\n",
      "\n",
      "       [[1316260.,  794413.,  883804.],\n",
      "        [1316200.,  794501.,  883854.]]])])\n"
     ]
    },
    {
     "name": "stdout",
     "output_type": "stream",
     "text": [
      "base_final_widths = [693.29676417 652.73839527 642.92519445]\n",
      "overall_ais_width = 386.5305243510367\n",
      "ais_width = 662.9867846277334\n",
      "Adding the following branches as true axons: [ 0.  1.  2.  3.  4.  5.  6.  7.  8.  9. 10. 11. 12. 13. 14. 15. 16. 17.\n",
      " 18. 19. 20. 21. 22. 23. 24. 25. 26. 27. 28. 29. 30. 31. 32. 33. 34. 35.\n",
      " 36. 37. 38. 39. 40. 41. 42. 43. 44. 45. 46. 47. 48. 49. 50. 51. 52. 53.\n",
      " 54. 55. 56. 57.]\n",
      "curr_soma_angle = 139.55\n",
      "max_axon_angle = 164.11768610484077\n",
      "Changing to a better axon candidate\n",
      "\n",
      "\n",
      " --- Working on limb 2, candidate # 0\n",
      "0 out of 5 branches are axons\n",
      "Axon percentage = 0.0\n",
      "Not adding candidate no axon branches detected \n",
      "\n",
      "\n",
      " --- Working on limb 3, candidate # 0\n",
      "7 out of 7 branches are axons\n",
      "Axon percentage = 1.0\n",
      "curr_axon_angle_threshold = 95\n",
      "candidate_nodes = [ 2  3  4  6  7 10 11 12]\n",
      "non_axon_branches_on_subgraph = [10]\n",
      "endnodes_to_test = [2165]\n",
      "Skeleton paths distances = [24964.39498322]\n",
      "Filtered indexes = [0]\n",
      "len(filtered_skeletons) = 1\n",
      "sk_angles = [98.40260944]\n",
      "candidate_angles,restr_skels = (array([98.40260944]), [array([[[1293905.03420054,  778307.70239816,  879927.6383212 ],\n",
      "        [1293898.14098009,  778320.44971079,  880026.55254753]],\n",
      "\n",
      "       [[1293898.14098009,  778320.44971079,  880026.55254753],\n",
      "        [1293888.57755196,  778336.09975906,  880124.85624447]],\n",
      "\n",
      "       [[1293888.57755196,  778336.09975906,  880124.85624447],\n",
      "        [1293878.59966014,  778353.89064721,  880222.72658087]],\n",
      "\n",
      "       [[1293878.59966014,  778353.89064721,  880222.72658087],\n",
      "        [1293868.17540311,  778373.98715696,  880320.13020073]],\n",
      "\n",
      "       [[1293868.17540311,  778373.98715696,  880320.13020073],\n",
      "        [1293858.56518342,  778397.334991  ,  880416.86500841]],\n",
      "\n",
      "       [[1293858.56518342,  778397.334991  ,  880416.86500841],\n",
      "        [1293849.2963893 ,  778422.04650357,  880513.31930123]],\n",
      "\n",
      "       [[1293849.2963893 ,  778422.04650357,  880513.31930123],\n",
      "        [1293842.4169385 ,  778450.95749608,  880608.79572001]],\n",
      "\n",
      "       [[1293842.4169385 ,  778450.95749608,  880608.79572001],\n",
      "        [1293836.41154203,  778480.91922988,  880703.98865967]],\n",
      "\n",
      "       [[1293836.41154203,  778480.91922988,  880703.98865967],\n",
      "        [1293832.90437393,  778513.69207612,  880798.40073687]],\n",
      "\n",
      "       [[1293832.90437393,  778513.69207612,  880798.40073687],\n",
      "        [1293831.25271396,  778547.75819172,  880892.37822604]],\n",
      "\n",
      "       [[1293831.25271396,  778547.75819172,  880892.37822604],\n",
      "        [1293831.35126703,  778583.04418712,  880985.94578888]],\n",
      "\n",
      "       [[1293831.35126703,  778583.04418712,  880985.94578888],\n",
      "        [1293834.25887045,  778619.18278943,  881079.12748692]],\n",
      "\n",
      "       [[1293834.25887045,  778619.18278943,  881079.12748692],\n",
      "        [1293838.03752658,  778655.58577488,  881172.18953294]],\n",
      "\n",
      "       [[1293838.03752658,  778655.58577488,  881172.18953294],\n",
      "        [1293845.23364956,  778691.82075721,  881265.11208666]],\n",
      "\n",
      "       [[1293845.23364956,  778691.82075721,  881265.11208666],\n",
      "        [1293852.76419661,  778728.00016394,  881358.03040562]],\n",
      "\n",
      "       [[1293852.76419661,  778728.00016394,  881358.03040562],\n",
      "        [1293863.54400259,  778763.15864352,  881451.02329297]],\n",
      "\n",
      "       [[1293863.54400259,  778763.15864352,  881451.02329297],\n",
      "        [1293874.43169897,  778798.26658848,  881544.0206345 ]],\n",
      "\n",
      "       [[1293874.43169897,  778798.26658848,  881544.0206345 ],\n",
      "        [1293888.23971634,  778832.00668844,  881637.13853993]],\n",
      "\n",
      "       [[1293888.23971634,  778832.00668844,  881637.13853993],\n",
      "        [1293902.04773372,  778865.74678839,  881730.25644536]],\n",
      "\n",
      "       [[1293902.04773372,  778865.74678839,  881730.25644536],\n",
      "        [1293918.17652593,  778898.27105085,  881823.4309501 ]],\n",
      "\n",
      "       [[1293918.17652593,  778898.27105085,  881823.4309501 ],\n",
      "        [1293934.48985905,  778930.69863363,  881916.60995545]],\n",
      "\n",
      "       [[1293934.48985905,  778930.69863363,  881916.60995545],\n",
      "        [1293952.20849072,  778962.39114958,  882009.78034441]],\n",
      "\n",
      "       [[1293952.20849072,  778962.39114958,  882009.78034441],\n",
      "        [1293970.43730484,  778993.81680538,  882102.94760525]],\n",
      "\n",
      "       [[1293970.43730484,  778993.81680538,  882102.94760525],\n",
      "        [1293989.35369628,  779024.85571314,  882196.10397235]],\n",
      "\n",
      "       [[1293989.35369628,  779024.85571314,  882196.10397235],\n",
      "        [1294008.98544968,  779055.49224459,  882289.2490055 ]],\n",
      "\n",
      "       [[1294008.98544968,  779055.49224459,  882289.2490055 ],\n",
      "        [1294028.87826805,  779085.9179547 ,  882382.40580095]],\n",
      "\n",
      "       [[1294028.87826805,  779085.9179547 ,  882382.40580095],\n",
      "        [1294049.61260377,  779115.66410288,  882475.60051105]],\n",
      "\n",
      "       [[1294049.61260377,  779115.66410288,  882475.60051105],\n",
      "        [1294070.36234694,  779145.39091621,  882568.79773656]],\n",
      "\n",
      "       [[1294070.36234694,  779145.39091621,  882568.79773656],\n",
      "        [1294092.15708599,  779173.80636052,  882662.16556761]],\n",
      "\n",
      "       [[1294092.15708599,  779173.80636052,  882662.16556761],\n",
      "        [1294113.95182503,  779202.22180483,  882755.53339865]],\n",
      "\n",
      "       [[1294113.95182503,  779202.22180483,  882755.53339865],\n",
      "        [1294136.75358936,  779229.00496495,  882849.13954531]],\n",
      "\n",
      "       [[1294136.75358936,  779229.00496495,  882849.13954531],\n",
      "        [1294159.72552183,  779255.51230004,  882942.78596278]],\n",
      "\n",
      "       [[1294159.72552183,  779255.51230004,  882942.78596278],\n",
      "        [1294183.65323469,  779280.24655095,  883036.67158748]],\n",
      "\n",
      "       [[1294183.65323469,  779280.24655095,  883036.67158748],\n",
      "        [1294207.85293002,  779304.47624259,  883130.6252824 ]],\n",
      "\n",
      "       [[1294207.85293002,  779304.47624259,  883130.6252824 ],\n",
      "        [1294232.82350014,  779326.98998129,  883224.79881973]],\n",
      "\n",
      "       [[1294232.82350014,  779326.98998129,  883224.79881973],\n",
      "        [1294257.99759756,  779349.050672  ,  883319.03040013]],\n",
      "\n",
      "       [[1294257.99759756,  779349.050672  ,  883319.03040013],\n",
      "        [1294283.43232486,  779369.67484365,  883413.51564525]],\n",
      "\n",
      "       [[1294283.43232486,  779369.67484365,  883413.51564525],\n",
      "        [1294308.82319257,  779390.04698426,  883508.0679673 ]],\n",
      "\n",
      "       [[1294308.82319257,  779390.04698426,  883508.0679673 ],\n",
      "        [1294333.48100265,  779409.58927403,  883602.98946809]],\n",
      "\n",
      "       [[1294333.48100265,  779409.58927403,  883602.98946809],\n",
      "        [1294357.30415514,  779428.92746884,  883698.15870959]],\n",
      "\n",
      "       [[1294357.30415514,  779428.92746884,  883698.15870959],\n",
      "        [1294379.76304351,  779447.93206647,  883793.73288813]],\n",
      "\n",
      "       [[1294379.76304351,  779447.93206647,  883793.73288813],\n",
      "        [1294399.49336715,  779466.36199296,  883890.00468297]],\n",
      "\n",
      "       [[1294399.49336715,  779466.36199296,  883890.00468297],\n",
      "        [1294417.4788    ,  779484.33225013,  883986.69899381]],\n",
      "\n",
      "       [[1294417.4788    ,  779484.33225013,  883986.69899381],\n",
      "        [1294431.46079114,  779501.01056323,  884084.30195379]],\n",
      "\n",
      "       [[1294431.46079114,  779501.01056323,  884084.30195379],\n",
      "        [1294442.12309678,  779516.1524609 ,  884182.52763111]],\n",
      "\n",
      "       [[1294442.12309678,  779516.1524609 ,  884182.52763111],\n",
      "        [1294450.51608862,  779530.22354838,  884281.17051172]],\n",
      "\n",
      "       [[1294450.51608862,  779530.22354838,  884281.17051172],\n",
      "        [1294453.63688714,  779541.17205194,  884380.52035261]],\n",
      "\n",
      "       [[1294453.63688714,  779541.17205194,  884380.52035261],\n",
      "        [1294454.79144581,  779550.73509809,  884480.01014472]],\n",
      "\n",
      "       [[1294454.79144581,  779550.73509809,  884480.01014472],\n",
      "        [1294452.89888043,  779558.15107121,  884579.71682223]],\n",
      "\n",
      "       [[1294452.89888043,  779558.15107121,  884579.71682223],\n",
      "        [1294448.03017038,  779563.10778956,  884679.44094254]],\n",
      "\n",
      "       [[1294448.03017038,  779563.10778956,  884679.44094254],\n",
      "        [1294441.79845913,  779566.9382296 ,  884779.17305123]],\n",
      "\n",
      "       [[1294441.79845913,  779566.9382296 ,  884779.17305123],\n",
      "        [1294432.43215669,  779567.54375309,  884878.7219738 ]],\n",
      "\n",
      "       [[1294432.43215669,  779567.54375309,  884878.7219738 ],\n",
      "        [1294422.56381336,  779567.53768812,  884978.22689302]],\n",
      "\n",
      "       [[1294422.56381336,  779567.53768812,  884978.22689302],\n",
      "        [1294410.61248413,  779564.42402145,  885077.46131653]],\n",
      "\n",
      "       [[1294410.61248413,  779564.42402145,  885077.46131653],\n",
      "        [1294398.41924142,  779560.57429332,  885176.63039053]],\n",
      "\n",
      "       [[1294398.41924142,  779560.57429332,  885176.63039053],\n",
      "        [1294385.42605356,  779554.29060085,  885275.58337067]],\n",
      "\n",
      "       [[1294385.42605356,  779554.29060085,  885275.58337067],\n",
      "        [1294372.43824134,  779547.05748647,  885374.46389433]],\n",
      "\n",
      "       [[1294372.43824134,  779547.05748647,  885374.46389433],\n",
      "        [1294359.46015746,  779538.10619187,  885473.21329263]],\n",
      "\n",
      "       [[1294359.46015746,  779538.10619187,  885473.21329263],\n",
      "        [1294346.75318037,  779528.31867923,  885571.91418581]],\n",
      "\n",
      "       [[1294346.75318037,  779528.31867923,  885571.91418581],\n",
      "        [1294334.35085312,  779517.59148638,  885670.56057253]],\n",
      "\n",
      "       [[1294334.35085312,  779517.59148638,  885670.56057253],\n",
      "        [1294322.25964828,  779506.61439022,  885769.2175125 ]],\n",
      "\n",
      "       [[1294322.25964828,  779506.61439022,  885769.2175125 ],\n",
      "        [1294310.39163682,  779495.45801812,  885867.88202316]],\n",
      "\n",
      "       [[1294310.39163682,  779495.45801812,  885867.88202316],\n",
      "        [1294298.58526914,  779485.20904749,  885966.65040802]],\n",
      "\n",
      "       [[1294298.58526914,  779485.20904749,  885966.65040802],\n",
      "        [1294286.80644625,  779475.3655384 ,  886065.46520783]],\n",
      "\n",
      "       [[1294286.80644625,  779475.3655384 ,  886065.46520783],\n",
      "        [1294274.74238208,  779468.07729956,  886164.45823797]],\n",
      "\n",
      "       [[1294274.74238208,  779468.07729956,  886164.45823797],\n",
      "        [1294262.60446202,  779461.45068221,  886263.49741627]],\n",
      "\n",
      "       [[1294262.60446202,  779461.45068221,  886263.49741627],\n",
      "        [1294250.07044142,  779459.15235994,  886362.66976066]],\n",
      "\n",
      "       [[1294250.07044142,  779459.15235994,  886362.66976066],\n",
      "        [1294237.48484372,  779457.41763423,  886461.85944489]],\n",
      "\n",
      "       [[1294237.48484372,  779457.41763423,  886461.85944489],\n",
      "        [1294224.84680785,  779461.3481897 ,  886560.97205287]],\n",
      "\n",
      "       [[1294224.84680785,  779461.3481897 ,  886560.97205287],\n",
      "        [1294212.2072908 ,  779465.55622271,  886660.08047593]],\n",
      "\n",
      "       [[1294212.2072908 ,  779465.55622271,  886660.08047593],\n",
      "        [1294200.25388004,  779475.87509057,  886758.82578942]],\n",
      "\n",
      "       [[1294200.25388004,  779475.87509057,  886758.82578942],\n",
      "        [1294188.35101562,  779486.37244543,  886857.55318922]],\n",
      "\n",
      "       [[1294188.35101562,  779486.37244543,  886857.55318922],\n",
      "        [1294177.94400073,  779502.1518783 ,  886955.75045771]],\n",
      "\n",
      "       [[1294177.94400073,  779502.1518783 ,  886955.75045771],\n",
      "        [1294167.6931802 ,  779518.20564311,  887053.91254113]],\n",
      "\n",
      "       [[1294167.6931802 ,  779518.20564311,  887053.91254113],\n",
      "        [1294159.61390312,  779538.07339834,  887151.58545234]],\n",
      "\n",
      "       [[1294159.61390312,  779538.07339834,  887151.58545234],\n",
      "        [1294151.90502545,  779558.21725723,  887249.22427179]],\n",
      "\n",
      "       [[1294151.90502545,  779558.21725723,  887249.22427179],\n",
      "        [1294146.71463915,  779580.23845358,  887346.63128797]],\n",
      "\n",
      "       [[1294146.71463915,  779580.23845358,  887346.63128797],\n",
      "        [1294142.25123356,  779602.22511643,  887444.0732261 ]],\n",
      "\n",
      "       [[1294142.25123356,  779602.22511643,  887444.0732261 ],\n",
      "        [1294140.16132372,  779624.09903197,  887541.62917977]],\n",
      "\n",
      "       [[1294140.16132372,  779624.09903197,  887541.62917977],\n",
      "        [1294139.1888499 ,  779645.01339642,  887639.39517518]],\n",
      "\n",
      "       [[1294139.1888499 ,  779645.01339642,  887639.39517518],\n",
      "        [1294139.95993223,  779664.43055555,  887737.48890262]],\n",
      "\n",
      "       [[1294139.95993223,  779664.43055555,  887737.48890262],\n",
      "        [1294142.01595606,  779681.37290262,  887835.99309224]],\n",
      "\n",
      "       [[1294142.01595606,  779681.37290262,  887835.99309224],\n",
      "        [1294144.98652893,  779696.55381779,  887934.78942573]],\n",
      "\n",
      "       [[1294144.98652893,  779696.55381779,  887934.78942573],\n",
      "        [1294149.0269725 ,  779707.78423815,  888034.05190057]],\n",
      "\n",
      "       [[1294149.0269725 ,  779707.78423815,  888034.05190057],\n",
      "        [1294153.35200115,  779717.96382884,  888133.43836876]],\n",
      "\n",
      "       [[1294153.35200115,  779717.96382884,  888133.43836876],\n",
      "        [1294158.33499932,  779723.57985422,  888233.15379797]],\n",
      "\n",
      "       [[1294158.33499932,  779723.57985422,  888233.15379797],\n",
      "        [1294163.38269914,  779728.63538528,  888332.8910239 ]],\n",
      "\n",
      "       [[1294163.38269914,  779728.63538528,  888332.8910239 ],\n",
      "        [1294168.76885135,  779730.59371667,  888432.72666033]],\n",
      "\n",
      "       [[1294168.76885135,  779730.59371667,  888432.72666033],\n",
      "        [1294174.28113114,  779732.04378005,  888532.55964638]],\n",
      "\n",
      "       [[1294174.28113114,  779732.04378005,  888532.55964638],\n",
      "        [1294180.20133254,  779731.85000389,  888632.38406056]],\n",
      "\n",
      "       [[1294180.20133254,  779731.85000389,  888632.38406056],\n",
      "        [1294186.4299861 ,  779731.41945257,  888732.18724625]],\n",
      "\n",
      "       [[1294186.4299861 ,  779731.41945257,  888732.18724625],\n",
      "        [1294193.35550732,  779730.45396917,  888831.94247166]],\n",
      "\n",
      "       [[1294193.35550732,  779730.45396917,  888831.94247166],\n",
      "        [1294200.88267404,  779729.63447436,  888931.65198506]],\n",
      "\n",
      "       [[1294200.88267404,  779729.63447436,  888931.65198506],\n",
      "        [1294209.47632407,  779729.0737605 ,  889031.28046883]],\n",
      "\n",
      "       [[1294209.47632407,  779729.0737605 ,  889031.28046883],\n",
      "        [1294219.07625077,  779729.04428953,  889130.80959441]],\n",
      "\n",
      "       [[1294219.07625077,  779729.04428953,  889130.80959441],\n",
      "        [1294230.05962362,  779729.74518024,  889230.20212065]],\n",
      "\n",
      "       [[1294230.05962362,  779729.74518024,  889230.20212065],\n",
      "        [1294242.5902343 ,  779731.31602642,  889329.38610187]],\n",
      "\n",
      "       [[1294242.5902343 ,  779731.31602642,  889329.38610187],\n",
      "        [1294256.6001965 ,  779733.71865807,  889428.37068815]],\n",
      "\n",
      "       [[1294256.6001965 ,  779733.71865807,  889428.37068815],\n",
      "        [1294272.84009081,  779737.22347402,  889526.96377763]],\n",
      "\n",
      "       [[1294272.84009081,  779737.22347402,  889526.96377763],\n",
      "        [1294290.27037559,  779741.31666201,  889625.34787688]]])])\n"
     ]
    },
    {
     "name": "stdout",
     "output_type": "stream",
     "text": [
      "base_final_widths = [133.66179201 161.73425926 165.32061477]\n",
      "overall_ais_width = 133.6617920131298\n",
      "ais_width = 153.57222201325035\n",
      "Adding the following branches as true axons: [ 2  3  4  6  7 11 12]\n",
      "curr_soma_angle = 117.24\n",
      "max_axon_angle = 98.40260943821251\n",
      "\n",
      "\n",
      " --- Working on limb 3, candidate # 1\n",
      "0 out of 3 branches are axons\n",
      "Axon percentage = 0.0\n",
      "Not adding candidate no axon branches detected \n",
      "\n",
      "\n",
      " --- Working on limb 3, candidate # 2\n",
      "0 out of 1 branches are axons\n",
      "Axon percentage = 0.0\n",
      "Not adding candidate no axon branches detected \n",
      "\n",
      "\n",
      " --- Working on limb 4, candidate # 0\n",
      "1 out of 7 branches are axons\n",
      "Axon percentage = 0.14285714285714285\n",
      "curr_axon_angle_threshold = 120\n",
      "candidate_nodes = [0 1 2 3 4 5 6]\n",
      "non_axon_branches_on_subgraph = [0 1 2 3 4 6]\n",
      "endnodes_to_test = []\n",
      "candidate_angles,restr_skels = (None, None)\n",
      "Not adding candidate because no angles (None) passed the threhold 120 \n",
      "\n",
      "\n",
      " --- Working on limb 5, candidate # 0\n",
      "0 out of 3 branches are axons\n",
      "Axon percentage = 0.0\n",
      "Not adding candidate no axon branches detected \n",
      "\n",
      "\n",
      " --- Working on limb 6, candidate # 0\n",
      "0 out of 3 branches are axons\n",
      "Axon percentage = 0.0\n",
      "Not adding candidate no axon branches detected \n",
      "\n",
      "\n",
      " --- Working on limb 6, candidate # 1\n",
      "0 out of 1 branches are axons\n",
      "Axon percentage = 0.0\n",
      "Not adding candidate no axon branches detected \n",
      "\n",
      "\n",
      " --- Working on limb 7, candidate # 0\n",
      "0 out of 3 branches are axons\n",
      "Axon percentage = 0.0\n",
      "Not adding candidate no axon branches detected \n",
      "\n",
      "\n",
      " --- Working on limb 8, candidate # 0\n",
      "0 out of 1 branches are axons\n",
      "Axon percentage = 0.0\n",
      "Not adding candidate no axon branches detected \n",
      "\n",
      "\n",
      " --- Working on limb 8, candidate # 1\n",
      "0 out of 3 branches are axons\n",
      "Axon percentage = 0.0\n",
      "Not adding candidate no axon branches detected \n",
      "Using the best axon approach\n",
      "Using True\n",
      "Limb L1: Axon branches before dendritic path filter = [ 0.  1.  2.  3.  4.  5.  6.  7.  8.  9. 10. 11. 12. 13. 14. 15. 16. 17.\n",
      " 18. 19. 20. 21. 22. 23. 24. 25. 26. 27. 28. 29. 30. 31. 32. 33. 34. 35.\n",
      " 36. 37. 38. 39. 40. 41. 42. 43. 44. 45. 46. 47. 48. 49. 50. 51. 52. 53.\n",
      " 54. 55. 56. 57.]\n",
      "Limb L1: Axon branches AFTER dendritic path filter = [ 0.  1.  2.  3.  4.  5.  6.  7.  8.  9. 10. 11. 12. 13. 14. 15. 16. 17.\n",
      " 18. 19. 20. 21. 22. 23. 24. 25. 26. 27. 28. 29. 30. 31. 32. 33. 34. 35.\n",
      " 36. 37. 38. 39. 40. 41. 42. 43. 44. 45. 46. 47. 48. 49. 50. 51. 52. 53.\n",
      " 54. 55. 56. 57.]\n",
      "\n",
      "\n",
      "Part 4: final_true_axons = {'L1': array([ 0.,  1.,  2.,  3.,  4.,  5.,  6.,  7.,  8.,  9., 10., 11., 12.,\n",
      "       13., 14., 15., 16., 17., 18., 19., 20., 21., 22., 23., 24., 25.,\n",
      "       26., 27., 28., 29., 30., 31., 32., 33., 34., 35., 36., 37., 38.,\n",
      "       39., 40., 41., 42., 43., 44., 45., 46., 47., 48., 49., 50., 51.,\n",
      "       52., 53., 54., 55., 56., 57.])}\n",
      "\n",
      "--- Working on filter 0:\n",
      "function = dendrite_on_axon_merges\n",
      "function __name__ = filter_away_dendrite_on_axon_merges\n",
      "function arguments = {'use_pre_existing_axon_labels': True}\n",
      "\n",
      "\n",
      "\n",
      "\n",
      "\n",
      " ---- Total time for applying filter: 55.105355978012085 -----\n",
      "Starting axon branch was the starting node so using border vertices and NOT computing upstream branch\n",
      "upstream_node_to_axon_starting_branch = None\n",
      "root_curr = [1312941.  777231.  877023.]\n",
      "Time for preparing soma vertices and root: 0.0006268024444580078\n",
      "invalidation_d = 2000\n",
      "cc_vertex_thresh = 10\n"
     ]
    },
    {
     "name": "stderr",
     "output_type": "stream",
     "text": [
      "\r",
      "  0%|          | 0/1 [00:00<?, ?it/s]"
     ]
    },
    {
     "data": {
      "application/vnd.jupyter.widget-view+json": {
       "model_id": "854c6029c09f4f85bd9d28be2ad85b70",
       "version_major": 2,
       "version_minor": 0
      },
      "text/plain": [
       "  0%|          | 0/164744 [00:00<?, ?it/s]"
      ]
     },
     "metadata": {},
     "output_type": "display_data"
    },
    {
     "name": "stderr",
     "output_type": "stream",
     "text": [
      "100%|██████████| 1/1 [00:19<00:00, 19.57s/it]\n"
     ]
    },
    {
     "name": "stdout",
     "output_type": "stream",
     "text": [
      "meshparty_segment_size = 100\n",
      "Time for 1st pass MP skeletonization: 23.31750226020813\n",
      "connecting at the root\n",
      "branches_touching_root = [239]\n",
      "combining close nodes\n",
      "combine_threshold = 1300\n",
      "length of Graph = 30477\n",
      "After combining close endpoints max(kept_branches_idx) = 239, len(kept_branches_idx) = 213\n",
      "empty_indices % = 0.0\n",
      " conflict_indices % = 0.025398345615148112\n"
     ]
    },
    {
     "data": {
      "application/vnd.jupyter.widget-view+json": {
       "model_id": "e78d13a0830442449642102555a62079",
       "version_major": 2,
       "version_minor": 0
      },
      "text/plain": [
       "  0%|          | 0/85 [00:00<?, ?it/s]"
      ]
     },
     "metadata": {},
     "output_type": "display_data"
    },
    {
     "name": "stdout",
     "output_type": "stream",
     "text": [
      "AFTER face_lookup_resolved_test\n"
     ]
    },
    {
     "data": {
      "application/vnd.jupyter.widget-view+json": {
       "model_id": "83921d6ffdde442aadf090e2675a31de",
       "version_major": 2,
       "version_minor": 0
      },
      "text/plain": [
       "  0%|          | 0/213 [00:00<?, ?it/s]"
      ]
     },
     "metadata": {},
     "output_type": "display_data"
    },
    {
     "name": "stdout",
     "output_type": "stream",
     "text": [
      "Decomposing first pass: 81.9490053653717\n",
      "Only Using MeshParty Skeletonization and Mesh Correspondence\n",
      "Another print\n",
      "Divinding into MP and MAP pieces: 0.00019073486328125\n",
      "Total time for MAP sublimb processing 6.198883056640625e-06\n",
      "---- Working on MP Decomposition #0 ----\n",
      "Using Quicker soma_to_piece_touching_vertices because no MAP and only one sublimb_mesh piece \n",
      "MP filtering soma verts: 0.0002956390380859375\n",
      "Fixing Possible Soma Extension Branch for Sublimb 0\n",
      "Total time for mesh KDTree = 0.008353233337402344\n",
      "sbv[0].reshape(-1,3) = [[1312941.  777231.  877023.]]\n",
      "closest_sk_pt_coord BEFORE = [1313829.19071822  777266.57736807  876173.29356731]\n",
      "current_skeleton.shape = (61, 2, 3)\n",
      "node_for_stitch = 21: [1313829.19071822  777266.57736807  876173.29356731]\n",
      "node_for_stitch AFTER = 21: [1313829.19071822  777266.57736807  876173.29356731]\n",
      "possible_node_loc = [ 0 19 61]\n",
      "possible_node_loc AFTER = [ 0 19 61]\n",
      "curr_shortest_path = [21, 20.0, 17.0, 13.0, 10.0, 6.0, 1.0, 0.0]\n",
      "Current stitch point was not a branch or endpoint, shortest_path_length to one = 681.0192962457661\n",
      "Changing the stitch point becasue the distance to end or branch node was 681.0192962457661\n",
      "New stitch point has degree 1\n",
      "change_status for create soma extending pieces = True\n",
      "closest_sk_pt_coord AFTER = [1313393.97354786  777704.50315279  875995.02744395]\n",
      "skipping soma 0 because closest skeleton node was already end node\n",
      "endpoints_must_keep = {0: array([[1313393.97354786,  777704.50315279,  875995.02744395]])}\n",
      "match_sk_branches = [199]\n",
      "The new branch info was none so skipping \n",
      "\n",
      "No soma extending branch was added for this sublimb even though it had a soma border (means they already existed)\n",
      "MP (because soma touching verts) soma extension add: 19.81614637374878\n",
      "There were not both MAP and MP pieces so skipping the stitch resolving phase\n",
      "Time for decomp of Limb = 127.95809245109558\n",
      "Number of matching vertices = 34\n",
      "Only one endpoint after filtering away the endpoints that are not on the skeleton\n",
      "Using Distance measure skeletal_distance\n",
      "endpoints_must_keep = [[1313393.97354786  777704.50315279  875995.02744395]]\n",
      "Number of end_nodes BEFORE filtering = 123\n",
      "all_single_nodes_to_eliminate = [44]\n"
     ]
    },
    {
     "data": {
      "application/vnd.jupyter.widget-view+json": {
       "model_id": "a97d41e5e67a423bb3921bc7bab1ac82",
       "version_major": 2,
       "version_minor": 0
      },
      "text/plain": [
       "  0%|          | 0/36 [00:00<?, ?it/s]"
      ]
     },
     "metadata": {},
     "output_type": "display_data"
    },
    {
     "name": "stdout",
     "output_type": "stream",
     "text": [
      "Removed 36 skeletal branches\n"
     ]
    },
    {
     "data": {
      "application/vnd.jupyter.widget-view+json": {
       "model_id": "2eb2d6aae5ef4bdc8b46503b3f2a44fe",
       "version_major": 2,
       "version_minor": 0
      },
      "text/plain": [
       "  0%|          | 0/213 [00:00<?, ?it/s]"
      ]
     },
     "metadata": {},
     "output_type": "display_data"
    },
    {
     "name": "stdout",
     "output_type": "stream",
     "text": [
      "329110 329111\n",
      "For marked faces: None\n",
      "empty_indices % = 9.4193144562169e-05\n",
      " conflict_indices % = 0.0\n"
     ]
    },
    {
     "data": {
      "application/vnd.jupyter.widget-view+json": {
       "model_id": "a7e9974fa1894dd887c9d18f6ede63fb",
       "version_major": 2,
       "version_minor": 0
      },
      "text/plain": [
       "  0%|          | 0/1 [00:00<?, ?it/s]"
      ]
     },
     "metadata": {},
     "output_type": "display_data"
    },
    {
     "name": "stdout",
     "output_type": "stream",
     "text": [
      "AFTER face_lookup_resolved_test\n"
     ]
    },
    {
     "data": {
      "application/vnd.jupyter.widget-view+json": {
       "model_id": "dcc6ed26ab54470aa24ac7d2767a885d",
       "version_major": 2,
       "version_minor": 0
      },
      "text/plain": [
       "  0%|          | 0/142 [00:00<?, ?it/s]"
      ]
     },
     "metadata": {},
     "output_type": "display_data"
    },
    {
     "name": "stdout",
     "output_type": "stream",
     "text": [
      "Limb Correspondence before stitching = 142\n",
      "Limb Correspondence AFTER stitching = 142\n",
      "Upstream node was None so don't have to adjust\n",
      "concept_network_dict = {0: [<networkx_utils.GraphOrderedEdges object at 0x7f031709f5c0>]}\n",
      "Assigning the old width calculation because no valid new widths\n",
      "\n",
      "\n",
      "----Working on seperate_graph 0----\n",
      "\n",
      "\n",
      "---------Working on soma_idx = 0, soma_group_idx 0, endpt = [1313393.97354786  777704.50315279  875995.02744395]---------\n",
      "Starting_edge inside branches_to_conept = [[1303848.88047922  848934.61452384  896914.2955191 ]\n",
      " [1313393.97354786  777704.50315279  875995.02744395]]\n",
      "At the start, starting_node (in terms of the skeleton, that shouldn't match the starting edge) = [46]\n",
      "printing out current edge:\n",
      "[[1313393.97354786  777704.50315279  875995.02744395]\n",
      " [1303848.88047922  848934.61452384  896914.2955191 ]]\n",
      "edge_endpoints_to_process was empty so exiting loop after 142 iterations\n",
      "starting_node in concept map (that should match the starting edge) = 34\n",
      "Total time for branches to concept conversion = 4.637335777282715\n",
      "\n",
      "Done generating concept network \n",
      "\n",
      "\n"
     ]
    },
    {
     "data": {
      "application/vnd.jupyter.widget-view+json": {
       "model_id": "23a88a4da46746c4a2e327005ea059bc",
       "version_major": 2,
       "version_minor": 0
      },
      "text/plain": [
       "  0%|          | 0/89 [00:00<?, ?it/s]"
      ]
     },
     "metadata": {},
     "output_type": "display_data"
    },
    {
     "data": {
      "application/vnd.jupyter.widget-view+json": {
       "model_id": "85c2129148cb458cb307e56c004c429c",
       "version_major": 2,
       "version_minor": 0
      },
      "text/plain": [
       "  0%|          | 0/22 [00:00<?, ?it/s]"
      ]
     },
     "metadata": {},
     "output_type": "display_data"
    },
    {
     "data": {
      "application/vnd.jupyter.widget-view+json": {
       "model_id": "e64cf3e9edbc4906aa57cf2c052e01cd",
       "version_major": 2,
       "version_minor": 0
      },
      "text/plain": [
       "  0%|          | 0/3 [00:00<?, ?it/s]"
      ]
     },
     "metadata": {},
     "output_type": "display_data"
    },
    {
     "data": {
      "application/vnd.jupyter.widget-view+json": {
       "model_id": "baab343a7d8240838c9e2c58c28d2ee3",
       "version_major": 2,
       "version_minor": 0
      },
      "text/plain": [
       "  0%|          | 0/26 [00:00<?, ?it/s]"
      ]
     },
     "metadata": {},
     "output_type": "display_data"
    },
    {
     "data": {
      "application/vnd.jupyter.widget-view+json": {
       "model_id": "ef6a17eaef2d49ed95a2fe8c4316aca9",
       "version_major": 2,
       "version_minor": 0
      },
      "text/plain": [
       "  0%|          | 0/25 [00:00<?, ?it/s]"
      ]
     },
     "metadata": {},
     "output_type": "display_data"
    },
    {
     "data": {
      "application/vnd.jupyter.widget-view+json": {
       "model_id": "bb977a1a5b3b43e4a62d0b78123ddd89",
       "version_major": 2,
       "version_minor": 0
      },
      "text/plain": [
       "  0%|          | 0/13 [00:00<?, ?it/s]"
      ]
     },
     "metadata": {},
     "output_type": "display_data"
    },
    {
     "data": {
      "application/vnd.jupyter.widget-view+json": {
       "model_id": "322123e356a24b46842d381767bc50ea",
       "version_major": 2,
       "version_minor": 0
      },
      "text/plain": [
       "  0%|          | 0/10 [00:00<?, ?it/s]"
      ]
     },
     "metadata": {},
     "output_type": "display_data"
    },
    {
     "data": {
      "application/vnd.jupyter.widget-view+json": {
       "model_id": "2e53a5c575cb4266bfed47d0884c84d2",
       "version_major": 2,
       "version_minor": 0
      },
      "text/plain": [
       "  0%|          | 0/6 [00:00<?, ?it/s]"
      ]
     },
     "metadata": {},
     "output_type": "display_data"
    },
    {
     "data": {
      "application/vnd.jupyter.widget-view+json": {
       "model_id": "a503a383f9154030a21bc724fc8b43fb",
       "version_major": 2,
       "version_minor": 0
      },
      "text/plain": [
       "  0%|          | 0/3 [00:00<?, ?it/s]"
      ]
     },
     "metadata": {},
     "output_type": "display_data"
    },
    {
     "data": {
      "application/vnd.jupyter.widget-view+json": {
       "model_id": "c907112792144e71ae6d31e5f2b013ee",
       "version_major": 2,
       "version_minor": 0
      },
      "text/plain": [
       "  0%|          | 0/14 [00:00<?, ?it/s]"
      ]
     },
     "metadata": {},
     "output_type": "display_data"
    },
    {
     "data": {
      "application/vnd.jupyter.widget-view+json": {
       "model_id": "46c95a3b2f53446286a23506058ec4f5",
       "version_major": 2,
       "version_minor": 0
      },
      "text/plain": [
       "  0%|          | 0/5 [00:00<?, ?it/s]"
      ]
     },
     "metadata": {},
     "output_type": "display_data"
    },
    {
     "data": {
      "application/vnd.jupyter.widget-view+json": {
       "model_id": "807a7a9246864b02a2a540490c6a3fe0",
       "version_major": 2,
       "version_minor": 0
      },
      "text/plain": [
       "  0%|          | 0/3 [00:00<?, ?it/s]"
      ]
     },
     "metadata": {},
     "output_type": "display_data"
    },
    {
     "data": {
      "application/vnd.jupyter.widget-view+json": {
       "model_id": "b48eba15f7c1439baabc71e62fb42269",
       "version_major": 2,
       "version_minor": 0
      },
      "text/plain": [
       "  0%|          | 0/8 [00:00<?, ?it/s]"
      ]
     },
     "metadata": {},
     "output_type": "display_data"
    },
    {
     "data": {
      "application/vnd.jupyter.widget-view+json": {
       "model_id": "04d10c4566094dd9918dabbf77888c64",
       "version_major": 2,
       "version_minor": 0
      },
      "text/plain": [
       "  0%|          | 0/5 [00:00<?, ?it/s]"
      ]
     },
     "metadata": {},
     "output_type": "display_data"
    },
    {
     "data": {
      "application/vnd.jupyter.widget-view+json": {
       "model_id": "dce7d4985ddb4bebaa94d4549eb7f890",
       "version_major": 2,
       "version_minor": 0
      },
      "text/plain": [
       "  0%|          | 0/8 [00:00<?, ?it/s]"
      ]
     },
     "metadata": {},
     "output_type": "display_data"
    },
    {
     "data": {
      "application/vnd.jupyter.widget-view+json": {
       "model_id": "6a50d9fb92e64e8eb59e83770f4070db",
       "version_major": 2,
       "version_minor": 0
      },
      "text/plain": [
       "  0%|          | 0/20 [00:00<?, ?it/s]"
      ]
     },
     "metadata": {},
     "output_type": "display_data"
    },
    {
     "data": {
      "application/vnd.jupyter.widget-view+json": {
       "model_id": "d366f2eec2354d78ab8d2f39fa5a28cb",
       "version_major": 2,
       "version_minor": 0
      },
      "text/plain": [
       "  0%|          | 0/22 [00:00<?, ?it/s]"
      ]
     },
     "metadata": {},
     "output_type": "display_data"
    },
    {
     "data": {
      "application/vnd.jupyter.widget-view+json": {
       "model_id": "729eae0be4ba40ad989c541c7ae2c1bf",
       "version_major": 2,
       "version_minor": 0
      },
      "text/plain": [
       "  0%|          | 0/64 [00:00<?, ?it/s]"
      ]
     },
     "metadata": {},
     "output_type": "display_data"
    },
    {
     "data": {
      "application/vnd.jupyter.widget-view+json": {
       "model_id": "ac15405f6c38435c9baec78a2e4ac4ab",
       "version_major": 2,
       "version_minor": 0
      },
      "text/plain": [
       "  0%|          | 0/4 [00:00<?, ?it/s]"
      ]
     },
     "metadata": {},
     "output_type": "display_data"
    },
    {
     "data": {
      "application/vnd.jupyter.widget-view+json": {
       "model_id": "1b81f4bbaea044b9a09279584d73e32e",
       "version_major": 2,
       "version_minor": 0
      },
      "text/plain": [
       "  0%|          | 0/20 [00:00<?, ?it/s]"
      ]
     },
     "metadata": {},
     "output_type": "display_data"
    },
    {
     "data": {
      "application/vnd.jupyter.widget-view+json": {
       "model_id": "c55a46db3294437ea2698554398d551e",
       "version_major": 2,
       "version_minor": 0
      },
      "text/plain": [
       "  0%|          | 0/4 [00:00<?, ?it/s]"
      ]
     },
     "metadata": {},
     "output_type": "display_data"
    },
    {
     "data": {
      "application/vnd.jupyter.widget-view+json": {
       "model_id": "e01e1e7e51f345fcbdcd73542bf3c58e",
       "version_major": 2,
       "version_minor": 0
      },
      "text/plain": [
       "  0%|          | 0/12 [00:00<?, ?it/s]"
      ]
     },
     "metadata": {},
     "output_type": "display_data"
    },
    {
     "data": {
      "application/vnd.jupyter.widget-view+json": {
       "model_id": "c011055f370e43958911d2d3797db088",
       "version_major": 2,
       "version_minor": 0
      },
      "text/plain": [
       "  0%|          | 0/9 [00:00<?, ?it/s]"
      ]
     },
     "metadata": {},
     "output_type": "display_data"
    },
    {
     "data": {
      "application/vnd.jupyter.widget-view+json": {
       "model_id": "47417c18837e4bf89a418048a9a5e8bf",
       "version_major": 2,
       "version_minor": 0
      },
      "text/plain": [
       "  0%|          | 0/3 [00:00<?, ?it/s]"
      ]
     },
     "metadata": {},
     "output_type": "display_data"
    },
    {
     "data": {
      "application/vnd.jupyter.widget-view+json": {
       "model_id": "8bcf794b6809415a804e3a831d413e5a",
       "version_major": 2,
       "version_minor": 0
      },
      "text/plain": [
       "  0%|          | 0/2 [00:00<?, ?it/s]"
      ]
     },
     "metadata": {},
     "output_type": "display_data"
    },
    {
     "data": {
      "application/vnd.jupyter.widget-view+json": {
       "model_id": "097fa01dd4f74a3ab9baf69c37b49dcb",
       "version_major": 2,
       "version_minor": 0
      },
      "text/plain": [
       "  0%|          | 0/10 [00:00<?, ?it/s]"
      ]
     },
     "metadata": {},
     "output_type": "display_data"
    },
    {
     "data": {
      "application/vnd.jupyter.widget-view+json": {
       "model_id": "62ee00c22f044e888d4fd5bb0b64ca57",
       "version_major": 2,
       "version_minor": 0
      },
      "text/plain": [
       "  0%|          | 0/6 [00:00<?, ?it/s]"
      ]
     },
     "metadata": {},
     "output_type": "display_data"
    },
    {
     "data": {
      "application/vnd.jupyter.widget-view+json": {
       "model_id": "685448d2cd4248daa819be2cbf339eca",
       "version_major": 2,
       "version_minor": 0
      },
      "text/plain": [
       "  0%|          | 0/4 [00:00<?, ?it/s]"
      ]
     },
     "metadata": {},
     "output_type": "display_data"
    },
    {
     "data": {
      "application/vnd.jupyter.widget-view+json": {
       "model_id": "214eb47e8abd432fb256ab8d6ea52ead",
       "version_major": 2,
       "version_minor": 0
      },
      "text/plain": [
       "  0%|          | 0/22 [00:00<?, ?it/s]"
      ]
     },
     "metadata": {},
     "output_type": "display_data"
    },
    {
     "data": {
      "application/vnd.jupyter.widget-view+json": {
       "model_id": "8e004e95f00d4ab4a4afc49230b5ef74",
       "version_major": 2,
       "version_minor": 0
      },
      "text/plain": [
       "  0%|          | 0/21 [00:00<?, ?it/s]"
      ]
     },
     "metadata": {},
     "output_type": "display_data"
    },
    {
     "data": {
      "application/vnd.jupyter.widget-view+json": {
       "model_id": "65e18ee436054f709efc3ab33f6dc91e",
       "version_major": 2,
       "version_minor": 0
      },
      "text/plain": [
       "  0%|          | 0/57 [00:00<?, ?it/s]"
      ]
     },
     "metadata": {},
     "output_type": "display_data"
    },
    {
     "data": {
      "application/vnd.jupyter.widget-view+json": {
       "model_id": "2915721a9dcf4a65b5069edc06a67d5b",
       "version_major": 2,
       "version_minor": 0
      },
      "text/plain": [
       "  0%|          | 0/39 [00:00<?, ?it/s]"
      ]
     },
     "metadata": {},
     "output_type": "display_data"
    },
    {
     "data": {
      "application/vnd.jupyter.widget-view+json": {
       "model_id": "38aa55077a5b4901a77da90ec5157e17",
       "version_major": 2,
       "version_minor": 0
      },
      "text/plain": [
       "  0%|          | 0/6 [00:00<?, ?it/s]"
      ]
     },
     "metadata": {},
     "output_type": "display_data"
    },
    {
     "data": {
      "application/vnd.jupyter.widget-view+json": {
       "model_id": "35ea4035b64e4da8b3006527bdb9ee1c",
       "version_major": 2,
       "version_minor": 0
      },
      "text/plain": [
       "  0%|          | 0/17 [00:00<?, ?it/s]"
      ]
     },
     "metadata": {},
     "output_type": "display_data"
    },
    {
     "data": {
      "application/vnd.jupyter.widget-view+json": {
       "model_id": "30b992fec6fa4f29884cbe5b2930b7fe",
       "version_major": 2,
       "version_minor": 0
      },
      "text/plain": [
       "  0%|          | 0/27 [00:00<?, ?it/s]"
      ]
     },
     "metadata": {},
     "output_type": "display_data"
    },
    {
     "data": {
      "application/vnd.jupyter.widget-view+json": {
       "model_id": "ffaef9b7124f4df290a2b7baf1a55d37",
       "version_major": 2,
       "version_minor": 0
      },
      "text/plain": [
       "  0%|          | 0/9 [00:00<?, ?it/s]"
      ]
     },
     "metadata": {},
     "output_type": "display_data"
    },
    {
     "data": {
      "application/vnd.jupyter.widget-view+json": {
       "model_id": "bb82bd02ed144b2aa1560746b4900ede",
       "version_major": 2,
       "version_minor": 0
      },
      "text/plain": [
       "  0%|          | 0/1 [00:00<?, ?it/s]"
      ]
     },
     "metadata": {},
     "output_type": "display_data"
    },
    {
     "data": {
      "application/vnd.jupyter.widget-view+json": {
       "model_id": "34f69e47ecae442c830a4529d1989f73",
       "version_major": 2,
       "version_minor": 0
      },
      "text/plain": [
       "  0%|          | 0/2 [00:00<?, ?it/s]"
      ]
     },
     "metadata": {},
     "output_type": "display_data"
    },
    {
     "data": {
      "application/vnd.jupyter.widget-view+json": {
       "model_id": "eea8d96681974a1d9b39c9a446e6c7e8",
       "version_major": 2,
       "version_minor": 0
      },
      "text/plain": [
       "  0%|          | 0/4 [00:00<?, ?it/s]"
      ]
     },
     "metadata": {},
     "output_type": "display_data"
    },
    {
     "data": {
      "application/vnd.jupyter.widget-view+json": {
       "model_id": "96086ca9d9c546e390589b99bd09fa54",
       "version_major": 2,
       "version_minor": 0
      },
      "text/plain": [
       "  0%|          | 0/1 [00:00<?, ?it/s]"
      ]
     },
     "metadata": {},
     "output_type": "display_data"
    },
    {
     "data": {
      "application/vnd.jupyter.widget-view+json": {
       "model_id": "4b0dcf6e05c143339bc57f1c53886c89",
       "version_major": 2,
       "version_minor": 0
      },
      "text/plain": [
       "  0%|          | 0/6 [00:00<?, ?it/s]"
      ]
     },
     "metadata": {},
     "output_type": "display_data"
    },
    {
     "data": {
      "application/vnd.jupyter.widget-view+json": {
       "model_id": "12ac15e4cda94f27b889da2f99da8b86",
       "version_major": 2,
       "version_minor": 0
      },
      "text/plain": [
       "  0%|          | 0/2 [00:00<?, ?it/s]"
      ]
     },
     "metadata": {},
     "output_type": "display_data"
    },
    {
     "data": {
      "application/vnd.jupyter.widget-view+json": {
       "model_id": "68b3cd3d8a0a4b92a3d0d0bed96526f1",
       "version_major": 2,
       "version_minor": 0
      },
      "text/plain": [
       "  0%|          | 0/7 [00:00<?, ?it/s]"
      ]
     },
     "metadata": {},
     "output_type": "display_data"
    },
    {
     "data": {
      "application/vnd.jupyter.widget-view+json": {
       "model_id": "b52f5fefc67d4eac93b20d4af29f2954",
       "version_major": 2,
       "version_minor": 0
      },
      "text/plain": [
       "  0%|          | 0/66 [00:00<?, ?it/s]"
      ]
     },
     "metadata": {},
     "output_type": "display_data"
    },
    {
     "data": {
      "application/vnd.jupyter.widget-view+json": {
       "model_id": "30ebc45a4a5c477b81e13989b77791b7",
       "version_major": 2,
       "version_minor": 0
      },
      "text/plain": [
       "  0%|          | 0/8 [00:00<?, ?it/s]"
      ]
     },
     "metadata": {},
     "output_type": "display_data"
    },
    {
     "data": {
      "application/vnd.jupyter.widget-view+json": {
       "model_id": "687e691789954d75a8e5bbf33b8e5262",
       "version_major": 2,
       "version_minor": 0
      },
      "text/plain": [
       "  0%|          | 0/4 [00:00<?, ?it/s]"
      ]
     },
     "metadata": {},
     "output_type": "display_data"
    },
    {
     "data": {
      "application/vnd.jupyter.widget-view+json": {
       "model_id": "014e74b6a9d9475bb08dd0f2fd9cc6d4",
       "version_major": 2,
       "version_minor": 0
      },
      "text/plain": [
       "  0%|          | 0/9 [00:00<?, ?it/s]"
      ]
     },
     "metadata": {},
     "output_type": "display_data"
    },
    {
     "data": {
      "application/vnd.jupyter.widget-view+json": {
       "model_id": "b57eede4b27d4702b0ea9bf4a2b60bc0",
       "version_major": 2,
       "version_minor": 0
      },
      "text/plain": [
       "  0%|          | 0/5 [00:00<?, ?it/s]"
      ]
     },
     "metadata": {},
     "output_type": "display_data"
    },
    {
     "data": {
      "application/vnd.jupyter.widget-view+json": {
       "model_id": "0c98ea92763d4ceeb99886404da41e10",
       "version_major": 2,
       "version_minor": 0
      },
      "text/plain": [
       "  0%|          | 0/7 [00:00<?, ?it/s]"
      ]
     },
     "metadata": {},
     "output_type": "display_data"
    },
    {
     "data": {
      "application/vnd.jupyter.widget-view+json": {
       "model_id": "2e1220c4e51b4da389c9d25bd7ce2879",
       "version_major": 2,
       "version_minor": 0
      },
      "text/plain": [
       "  0%|          | 0/11 [00:00<?, ?it/s]"
      ]
     },
     "metadata": {},
     "output_type": "display_data"
    },
    {
     "data": {
      "application/vnd.jupyter.widget-view+json": {
       "model_id": "aed4d4a30286496988c2bdd7165f0728",
       "version_major": 2,
       "version_minor": 0
      },
      "text/plain": [
       "  0%|          | 0/14 [00:00<?, ?it/s]"
      ]
     },
     "metadata": {},
     "output_type": "display_data"
    },
    {
     "data": {
      "application/vnd.jupyter.widget-view+json": {
       "model_id": "0a9c4527f8ec40d4ac77f0f6c8dfa7db",
       "version_major": 2,
       "version_minor": 0
      },
      "text/plain": [
       "  0%|          | 0/4 [00:00<?, ?it/s]"
      ]
     },
     "metadata": {},
     "output_type": "display_data"
    },
    {
     "data": {
      "application/vnd.jupyter.widget-view+json": {
       "model_id": "9ff3ff0ea53b4a269d06f3c637f80948",
       "version_major": 2,
       "version_minor": 0
      },
      "text/plain": [
       "  0%|          | 0/6 [00:00<?, ?it/s]"
      ]
     },
     "metadata": {},
     "output_type": "display_data"
    },
    {
     "data": {
      "application/vnd.jupyter.widget-view+json": {
       "model_id": "661a0d0e0b0d460b9a456d50048b7fe0",
       "version_major": 2,
       "version_minor": 0
      },
      "text/plain": [
       "  0%|          | 0/38 [00:00<?, ?it/s]"
      ]
     },
     "metadata": {},
     "output_type": "display_data"
    },
    {
     "data": {
      "application/vnd.jupyter.widget-view+json": {
       "model_id": "9fb2cd7487f24fa1a52d10e3597c1b24",
       "version_major": 2,
       "version_minor": 0
      },
      "text/plain": [
       "  0%|          | 0/10 [00:00<?, ?it/s]"
      ]
     },
     "metadata": {},
     "output_type": "display_data"
    },
    {
     "data": {
      "application/vnd.jupyter.widget-view+json": {
       "model_id": "98cfa8e60e9a465eadcbbb479dc256d9",
       "version_major": 2,
       "version_minor": 0
      },
      "text/plain": [
       "  0%|          | 0/13 [00:00<?, ?it/s]"
      ]
     },
     "metadata": {},
     "output_type": "display_data"
    },
    {
     "data": {
      "application/vnd.jupyter.widget-view+json": {
       "model_id": "70a33e95e1da49b0b1bc5498e7a8b27d",
       "version_major": 2,
       "version_minor": 0
      },
      "text/plain": [
       "  0%|          | 0/4 [00:00<?, ?it/s]"
      ]
     },
     "metadata": {},
     "output_type": "display_data"
    },
    {
     "data": {
      "application/vnd.jupyter.widget-view+json": {
       "model_id": "cdbb7ee642ae4dbb99065ae35d52f86b",
       "version_major": 2,
       "version_minor": 0
      },
      "text/plain": [
       "  0%|          | 0/32 [00:00<?, ?it/s]"
      ]
     },
     "metadata": {},
     "output_type": "display_data"
    },
    {
     "data": {
      "application/vnd.jupyter.widget-view+json": {
       "model_id": "2aff4c7e819f4ea5a1e7839304eb6fcb",
       "version_major": 2,
       "version_minor": 0
      },
      "text/plain": [
       "  0%|          | 0/5 [00:00<?, ?it/s]"
      ]
     },
     "metadata": {},
     "output_type": "display_data"
    },
    {
     "data": {
      "application/vnd.jupyter.widget-view+json": {
       "model_id": "3183847856f94e3cbb6fa7ac190bf7f4",
       "version_major": 2,
       "version_minor": 0
      },
      "text/plain": [
       "  0%|          | 0/37 [00:00<?, ?it/s]"
      ]
     },
     "metadata": {},
     "output_type": "display_data"
    },
    {
     "data": {
      "application/vnd.jupyter.widget-view+json": {
       "model_id": "badc472f6bba4c3786f8880fb398f90d",
       "version_major": 2,
       "version_minor": 0
      },
      "text/plain": [
       "  0%|          | 0/59 [00:00<?, ?it/s]"
      ]
     },
     "metadata": {},
     "output_type": "display_data"
    },
    {
     "data": {
      "application/vnd.jupyter.widget-view+json": {
       "model_id": "f32dd3675b6f42b0ba74a5007667927e",
       "version_major": 2,
       "version_minor": 0
      },
      "text/plain": [
       "  0%|          | 0/29 [00:00<?, ?it/s]"
      ]
     },
     "metadata": {},
     "output_type": "display_data"
    },
    {
     "data": {
      "application/vnd.jupyter.widget-view+json": {
       "model_id": "642748d15c51464f85896313b539958e",
       "version_major": 2,
       "version_minor": 0
      },
      "text/plain": [
       "  0%|          | 0/5 [00:00<?, ?it/s]"
      ]
     },
     "metadata": {},
     "output_type": "display_data"
    },
    {
     "data": {
      "application/vnd.jupyter.widget-view+json": {
       "model_id": "afae5f3347fa4b6a881ea2c42028eb05",
       "version_major": 2,
       "version_minor": 0
      },
      "text/plain": [
       "  0%|          | 0/6 [00:00<?, ?it/s]"
      ]
     },
     "metadata": {},
     "output_type": "display_data"
    },
    {
     "data": {
      "application/vnd.jupyter.widget-view+json": {
       "model_id": "bda2a5ea1d674a55acfb786eaed20d2b",
       "version_major": 2,
       "version_minor": 0
      },
      "text/plain": [
       "  0%|          | 0/11 [00:00<?, ?it/s]"
      ]
     },
     "metadata": {},
     "output_type": "display_data"
    },
    {
     "data": {
      "application/vnd.jupyter.widget-view+json": {
       "model_id": "e0815f2ecaa04d75bcd7cb51be864641",
       "version_major": 2,
       "version_minor": 0
      },
      "text/plain": [
       "  0%|          | 0/11 [00:00<?, ?it/s]"
      ]
     },
     "metadata": {},
     "output_type": "display_data"
    },
    {
     "data": {
      "application/vnd.jupyter.widget-view+json": {
       "model_id": "fb2f58d72f7440f295c8501582cc4a3f",
       "version_major": 2,
       "version_minor": 0
      },
      "text/plain": [
       "  0%|          | 0/35 [00:00<?, ?it/s]"
      ]
     },
     "metadata": {},
     "output_type": "display_data"
    },
    {
     "data": {
      "application/vnd.jupyter.widget-view+json": {
       "model_id": "368986f3696e4bb6864a5a81a6129f44",
       "version_major": 2,
       "version_minor": 0
      },
      "text/plain": [
       "  0%|          | 0/8 [00:00<?, ?it/s]"
      ]
     },
     "metadata": {},
     "output_type": "display_data"
    },
    {
     "data": {
      "application/vnd.jupyter.widget-view+json": {
       "model_id": "5bd5c1fdc81b4e7ba8c00137ffa73547",
       "version_major": 2,
       "version_minor": 0
      },
      "text/plain": [
       "  0%|          | 0/26 [00:00<?, ?it/s]"
      ]
     },
     "metadata": {},
     "output_type": "display_data"
    },
    {
     "data": {
      "application/vnd.jupyter.widget-view+json": {
       "model_id": "38a10ded1412476e920dc4f1a935e4d7",
       "version_major": 2,
       "version_minor": 0
      },
      "text/plain": [
       "  0%|          | 0/8 [00:00<?, ?it/s]"
      ]
     },
     "metadata": {},
     "output_type": "display_data"
    },
    {
     "data": {
      "application/vnd.jupyter.widget-view+json": {
       "model_id": "81bb67dabdc1488ab219657debe5bd24",
       "version_major": 2,
       "version_minor": 0
      },
      "text/plain": [
       "  0%|          | 0/5 [00:00<?, ?it/s]"
      ]
     },
     "metadata": {},
     "output_type": "display_data"
    },
    {
     "data": {
      "application/vnd.jupyter.widget-view+json": {
       "model_id": "6661652945754944b73bc6d42bd80c0c",
       "version_major": 2,
       "version_minor": 0
      },
      "text/plain": [
       "  0%|          | 0/14 [00:00<?, ?it/s]"
      ]
     },
     "metadata": {},
     "output_type": "display_data"
    },
    {
     "data": {
      "application/vnd.jupyter.widget-view+json": {
       "model_id": "d8404665888344f3b5e0ec6ca71fe07a",
       "version_major": 2,
       "version_minor": 0
      },
      "text/plain": [
       "  0%|          | 0/13 [00:00<?, ?it/s]"
      ]
     },
     "metadata": {},
     "output_type": "display_data"
    },
    {
     "data": {
      "application/vnd.jupyter.widget-view+json": {
       "model_id": "3a3ad13815ff438eb7cb9ee09c043331",
       "version_major": 2,
       "version_minor": 0
      },
      "text/plain": [
       "  0%|          | 0/19 [00:00<?, ?it/s]"
      ]
     },
     "metadata": {},
     "output_type": "display_data"
    },
    {
     "data": {
      "application/vnd.jupyter.widget-view+json": {
       "model_id": "02636671c5fa4f149b59b6296cc83dab",
       "version_major": 2,
       "version_minor": 0
      },
      "text/plain": [
       "  0%|          | 0/7 [00:00<?, ?it/s]"
      ]
     },
     "metadata": {},
     "output_type": "display_data"
    },
    {
     "data": {
      "application/vnd.jupyter.widget-view+json": {
       "model_id": "f27a4fe8de7643ca9b53d7b9d69fb80b",
       "version_major": 2,
       "version_minor": 0
      },
      "text/plain": [
       "  0%|          | 0/27 [00:00<?, ?it/s]"
      ]
     },
     "metadata": {},
     "output_type": "display_data"
    },
    {
     "data": {
      "application/vnd.jupyter.widget-view+json": {
       "model_id": "617ae4fb44034495943a8265814e635c",
       "version_major": 2,
       "version_minor": 0
      },
      "text/plain": [
       "  0%|          | 0/5 [00:00<?, ?it/s]"
      ]
     },
     "metadata": {},
     "output_type": "display_data"
    },
    {
     "data": {
      "application/vnd.jupyter.widget-view+json": {
       "model_id": "e813582e0aa749f695a652cf514cd71e",
       "version_major": 2,
       "version_minor": 0
      },
      "text/plain": [
       "  0%|          | 0/9 [00:00<?, ?it/s]"
      ]
     },
     "metadata": {},
     "output_type": "display_data"
    },
    {
     "data": {
      "application/vnd.jupyter.widget-view+json": {
       "model_id": "6119e84b3c014972843518de71261143",
       "version_major": 2,
       "version_minor": 0
      },
      "text/plain": [
       "  0%|          | 0/9 [00:00<?, ?it/s]"
      ]
     },
     "metadata": {},
     "output_type": "display_data"
    },
    {
     "data": {
      "application/vnd.jupyter.widget-view+json": {
       "model_id": "1f92bda8b8aa4dcda8c931085d2eb16b",
       "version_major": 2,
       "version_minor": 0
      },
      "text/plain": [
       "  0%|          | 0/7 [00:00<?, ?it/s]"
      ]
     },
     "metadata": {},
     "output_type": "display_data"
    },
    {
     "data": {
      "application/vnd.jupyter.widget-view+json": {
       "model_id": "1219a0880f044f938f0ddde2af985cbe",
       "version_major": 2,
       "version_minor": 0
      },
      "text/plain": [
       "  0%|          | 0/10 [00:00<?, ?it/s]"
      ]
     },
     "metadata": {},
     "output_type": "display_data"
    },
    {
     "data": {
      "application/vnd.jupyter.widget-view+json": {
       "model_id": "92dae6d6dc4d4cd2a3aa68873df2c465",
       "version_major": 2,
       "version_minor": 0
      },
      "text/plain": [
       "  0%|          | 0/6 [00:00<?, ?it/s]"
      ]
     },
     "metadata": {},
     "output_type": "display_data"
    },
    {
     "data": {
      "application/vnd.jupyter.widget-view+json": {
       "model_id": "cbda6f585a6f4b9fa1da5cc2eb99ae7b",
       "version_major": 2,
       "version_minor": 0
      },
      "text/plain": [
       "  0%|          | 0/9 [00:00<?, ?it/s]"
      ]
     },
     "metadata": {},
     "output_type": "display_data"
    },
    {
     "data": {
      "application/vnd.jupyter.widget-view+json": {
       "model_id": "024a53bbe37841a3b7cced5c51467a81",
       "version_major": 2,
       "version_minor": 0
      },
      "text/plain": [
       "  0%|          | 0/2 [00:00<?, ?it/s]"
      ]
     },
     "metadata": {},
     "output_type": "display_data"
    },
    {
     "data": {
      "application/vnd.jupyter.widget-view+json": {
       "model_id": "857ebb3cb6a54d9e92f04ed40109b7ad",
       "version_major": 2,
       "version_minor": 0
      },
      "text/plain": [
       "  0%|          | 0/24 [00:00<?, ?it/s]"
      ]
     },
     "metadata": {},
     "output_type": "display_data"
    },
    {
     "data": {
      "application/vnd.jupyter.widget-view+json": {
       "model_id": "fcbcd9f7126f454da906f26be202e1e1",
       "version_major": 2,
       "version_minor": 0
      },
      "text/plain": [
       "  0%|          | 0/8 [00:00<?, ?it/s]"
      ]
     },
     "metadata": {},
     "output_type": "display_data"
    },
    {
     "data": {
      "application/vnd.jupyter.widget-view+json": {
       "model_id": "187d476775cc486093f5cb428482b40d",
       "version_major": 2,
       "version_minor": 0
      },
      "text/plain": [
       "  0%|          | 0/14 [00:00<?, ?it/s]"
      ]
     },
     "metadata": {},
     "output_type": "display_data"
    },
    {
     "data": {
      "application/vnd.jupyter.widget-view+json": {
       "model_id": "f613f9f08add44a4876c6d1727b52235",
       "version_major": 2,
       "version_minor": 0
      },
      "text/plain": [
       "  0%|          | 0/9 [00:00<?, ?it/s]"
      ]
     },
     "metadata": {},
     "output_type": "display_data"
    },
    {
     "data": {
      "application/vnd.jupyter.widget-view+json": {
       "model_id": "83d92057282b4bc88a4087f263148a3d",
       "version_major": 2,
       "version_minor": 0
      },
      "text/plain": [
       "  0%|          | 0/7 [00:00<?, ?it/s]"
      ]
     },
     "metadata": {},
     "output_type": "display_data"
    },
    {
     "data": {
      "application/vnd.jupyter.widget-view+json": {
       "model_id": "4e2ee15459bd40c28bbeaafd50833c9c",
       "version_major": 2,
       "version_minor": 0
      },
      "text/plain": [
       "  0%|          | 0/17 [00:00<?, ?it/s]"
      ]
     },
     "metadata": {},
     "output_type": "display_data"
    },
    {
     "data": {
      "application/vnd.jupyter.widget-view+json": {
       "model_id": "482aeafbb7a245c69c165d8a050aea15",
       "version_major": 2,
       "version_minor": 0
      },
      "text/plain": [
       "  0%|          | 0/168 [00:00<?, ?it/s]"
      ]
     },
     "metadata": {},
     "output_type": "display_data"
    },
    {
     "data": {
      "application/vnd.jupyter.widget-view+json": {
       "model_id": "3dfd4958ac2945abb81bb4fdc328c9de",
       "version_major": 2,
       "version_minor": 0
      },
      "text/plain": [
       "  0%|          | 0/89 [00:00<?, ?it/s]"
      ]
     },
     "metadata": {},
     "output_type": "display_data"
    },
    {
     "data": {
      "application/vnd.jupyter.widget-view+json": {
       "model_id": "c454688e43164f15bf70ee08d996aeb5",
       "version_major": 2,
       "version_minor": 0
      },
      "text/plain": [
       "  0%|          | 0/103 [00:00<?, ?it/s]"
      ]
     },
     "metadata": {},
     "output_type": "display_data"
    },
    {
     "data": {
      "application/vnd.jupyter.widget-view+json": {
       "model_id": "2310ef8e3c2d4dd0bca2387633304fdf",
       "version_major": 2,
       "version_minor": 0
      },
      "text/plain": [
       "  0%|          | 0/17 [00:00<?, ?it/s]"
      ]
     },
     "metadata": {},
     "output_type": "display_data"
    },
    {
     "data": {
      "application/vnd.jupyter.widget-view+json": {
       "model_id": "e50b47c63fcc47a1993b5be268e8bddd",
       "version_major": 2,
       "version_minor": 0
      },
      "text/plain": [
       "  0%|          | 0/39 [00:00<?, ?it/s]"
      ]
     },
     "metadata": {},
     "output_type": "display_data"
    },
    {
     "data": {
      "application/vnd.jupyter.widget-view+json": {
       "model_id": "050eca427a634193ae3812ec41d61cbd",
       "version_major": 2,
       "version_minor": 0
      },
      "text/plain": [
       "  0%|          | 0/17 [00:00<?, ?it/s]"
      ]
     },
     "metadata": {},
     "output_type": "display_data"
    },
    {
     "data": {
      "application/vnd.jupyter.widget-view+json": {
       "model_id": "09a08e4660b846a696df6425806c48db",
       "version_major": 2,
       "version_minor": 0
      },
      "text/plain": [
       "  0%|          | 0/37 [00:00<?, ?it/s]"
      ]
     },
     "metadata": {},
     "output_type": "display_data"
    },
    {
     "data": {
      "application/vnd.jupyter.widget-view+json": {
       "model_id": "b877c87189b44a888aba283be5794296",
       "version_major": 2,
       "version_minor": 0
      },
      "text/plain": [
       "  0%|          | 0/13 [00:00<?, ?it/s]"
      ]
     },
     "metadata": {},
     "output_type": "display_data"
    },
    {
     "data": {
      "application/vnd.jupyter.widget-view+json": {
       "model_id": "5af1e5bc0bfa4d8d9595f580eb7bf3fa",
       "version_major": 2,
       "version_minor": 0
      },
      "text/plain": [
       "  0%|          | 0/14 [00:00<?, ?it/s]"
      ]
     },
     "metadata": {},
     "output_type": "display_data"
    },
    {
     "data": {
      "application/vnd.jupyter.widget-view+json": {
       "model_id": "fc055c2ee5494de49f6baa9302b3c3d8",
       "version_major": 2,
       "version_minor": 0
      },
      "text/plain": [
       "  0%|          | 0/175 [00:00<?, ?it/s]"
      ]
     },
     "metadata": {},
     "output_type": "display_data"
    },
    {
     "data": {
      "application/vnd.jupyter.widget-view+json": {
       "model_id": "0ea9d4ebe81c4096b8038d3820934fd3",
       "version_major": 2,
       "version_minor": 0
      },
      "text/plain": [
       "  0%|          | 0/35 [00:00<?, ?it/s]"
      ]
     },
     "metadata": {},
     "output_type": "display_data"
    },
    {
     "data": {
      "application/vnd.jupyter.widget-view+json": {
       "model_id": "56ba39720f49498c8e2c6f664ecf4977",
       "version_major": 2,
       "version_minor": 0
      },
      "text/plain": [
       "  0%|          | 0/37 [00:00<?, ?it/s]"
      ]
     },
     "metadata": {},
     "output_type": "display_data"
    },
    {
     "data": {
      "application/vnd.jupyter.widget-view+json": {
       "model_id": "06a47c5405ab4cb4bac6b9a7b8beb4fb",
       "version_major": 2,
       "version_minor": 0
      },
      "text/plain": [
       "  0%|          | 0/151 [00:00<?, ?it/s]"
      ]
     },
     "metadata": {},
     "output_type": "display_data"
    },
    {
     "data": {
      "application/vnd.jupyter.widget-view+json": {
       "model_id": "35c0e4047b224691995dd73e41dc9e03",
       "version_major": 2,
       "version_minor": 0
      },
      "text/plain": [
       "  0%|          | 0/55 [00:00<?, ?it/s]"
      ]
     },
     "metadata": {},
     "output_type": "display_data"
    },
    {
     "data": {
      "application/vnd.jupyter.widget-view+json": {
       "model_id": "a413b9613ecd4d9986ebb4252882ec8a",
       "version_major": 2,
       "version_minor": 0
      },
      "text/plain": [
       "  0%|          | 0/49 [00:00<?, ?it/s]"
      ]
     },
     "metadata": {},
     "output_type": "display_data"
    },
    {
     "data": {
      "application/vnd.jupyter.widget-view+json": {
       "model_id": "043a0c94fa4845ca89c38428ff4385fe",
       "version_major": 2,
       "version_minor": 0
      },
      "text/plain": [
       "  0%|          | 0/99 [00:00<?, ?it/s]"
      ]
     },
     "metadata": {},
     "output_type": "display_data"
    },
    {
     "data": {
      "application/vnd.jupyter.widget-view+json": {
       "model_id": "166095d4df134cdcb4f76ace8e514532",
       "version_major": 2,
       "version_minor": 0
      },
      "text/plain": [
       "  0%|          | 0/30 [00:00<?, ?it/s]"
      ]
     },
     "metadata": {},
     "output_type": "display_data"
    },
    {
     "data": {
      "application/vnd.jupyter.widget-view+json": {
       "model_id": "7dd047c2094d4325867802e6ba80f3cf",
       "version_major": 2,
       "version_minor": 0
      },
      "text/plain": [
       "  0%|          | 0/39 [00:00<?, ?it/s]"
      ]
     },
     "metadata": {},
     "output_type": "display_data"
    },
    {
     "data": {
      "application/vnd.jupyter.widget-view+json": {
       "model_id": "3a326033fa684f7dbb0739dd5349a4e4",
       "version_major": 2,
       "version_minor": 0
      },
      "text/plain": [
       "  0%|          | 0/227 [00:00<?, ?it/s]"
      ]
     },
     "metadata": {},
     "output_type": "display_data"
    },
    {
     "data": {
      "application/vnd.jupyter.widget-view+json": {
       "model_id": "ef8ae0249bb54a29a9545e2252af2ed7",
       "version_major": 2,
       "version_minor": 0
      },
      "text/plain": [
       "  0%|          | 0/240 [00:00<?, ?it/s]"
      ]
     },
     "metadata": {},
     "output_type": "display_data"
    },
    {
     "data": {
      "application/vnd.jupyter.widget-view+json": {
       "model_id": "e2e0446e989f4ee0ae10abc0c3def950",
       "version_major": 2,
       "version_minor": 0
      },
      "text/plain": [
       "  0%|          | 0/12 [00:00<?, ?it/s]"
      ]
     },
     "metadata": {},
     "output_type": "display_data"
    },
    {
     "data": {
      "application/vnd.jupyter.widget-view+json": {
       "model_id": "b77e108e05224af8be7c5b4e53deb5ee",
       "version_major": 2,
       "version_minor": 0
      },
      "text/plain": [
       "  0%|          | 0/48 [00:00<?, ?it/s]"
      ]
     },
     "metadata": {},
     "output_type": "display_data"
    },
    {
     "data": {
      "application/vnd.jupyter.widget-view+json": {
       "model_id": "6954dbb19fbb4e8c83ce5e289e43d55c",
       "version_major": 2,
       "version_minor": 0
      },
      "text/plain": [
       "  0%|          | 0/75 [00:00<?, ?it/s]"
      ]
     },
     "metadata": {},
     "output_type": "display_data"
    },
    {
     "data": {
      "application/vnd.jupyter.widget-view+json": {
       "model_id": "d110e998815f469986ba9f7c445f2fa2",
       "version_major": 2,
       "version_minor": 0
      },
      "text/plain": [
       "  0%|          | 0/17 [00:00<?, ?it/s]"
      ]
     },
     "metadata": {},
     "output_type": "display_data"
    },
    {
     "data": {
      "application/vnd.jupyter.widget-view+json": {
       "model_id": "71f2eb0bab744a3f9ece61a63cf05bc9",
       "version_major": 2,
       "version_minor": 0
      },
      "text/plain": [
       "  0%|          | 0/16 [00:00<?, ?it/s]"
      ]
     },
     "metadata": {},
     "output_type": "display_data"
    },
    {
     "data": {
      "application/vnd.jupyter.widget-view+json": {
       "model_id": "d6ecd6e1c6074ff0b1614d026a3fb837",
       "version_major": 2,
       "version_minor": 0
      },
      "text/plain": [
       "  0%|          | 0/110 [00:00<?, ?it/s]"
      ]
     },
     "metadata": {},
     "output_type": "display_data"
    },
    {
     "data": {
      "application/vnd.jupyter.widget-view+json": {
       "model_id": "35a13afd5d754d02b8d8c8ca0903ef1c",
       "version_major": 2,
       "version_minor": 0
      },
      "text/plain": [
       "  0%|          | 0/29 [00:00<?, ?it/s]"
      ]
     },
     "metadata": {},
     "output_type": "display_data"
    },
    {
     "data": {
      "application/vnd.jupyter.widget-view+json": {
       "model_id": "5040a72ebb0745f686b68b37317dc213",
       "version_major": 2,
       "version_minor": 0
      },
      "text/plain": [
       "  0%|          | 0/23 [00:00<?, ?it/s]"
      ]
     },
     "metadata": {},
     "output_type": "display_data"
    },
    {
     "data": {
      "application/vnd.jupyter.widget-view+json": {
       "model_id": "70e0408f27364703b6f3e16a37e39d69",
       "version_major": 2,
       "version_minor": 0
      },
      "text/plain": [
       "  0%|          | 0/89 [00:00<?, ?it/s]"
      ]
     },
     "metadata": {},
     "output_type": "display_data"
    },
    {
     "data": {
      "application/vnd.jupyter.widget-view+json": {
       "model_id": "12d518b5fc514c64a6a5696c2faf676d",
       "version_major": 2,
       "version_minor": 0
      },
      "text/plain": [
       "  0%|          | 0/23 [00:00<?, ?it/s]"
      ]
     },
     "metadata": {},
     "output_type": "display_data"
    },
    {
     "data": {
      "application/vnd.jupyter.widget-view+json": {
       "model_id": "a70591e7ece24376b0982b3b2499d6f8",
       "version_major": 2,
       "version_minor": 0
      },
      "text/plain": [
       "  0%|          | 0/13 [00:00<?, ?it/s]"
      ]
     },
     "metadata": {},
     "output_type": "display_data"
    },
    {
     "data": {
      "application/vnd.jupyter.widget-view+json": {
       "model_id": "9db48d137f0c4ab8815f2b5bb0cd025b",
       "version_major": 2,
       "version_minor": 0
      },
      "text/plain": [
       "  0%|          | 0/23 [00:00<?, ?it/s]"
      ]
     },
     "metadata": {},
     "output_type": "display_data"
    },
    {
     "data": {
      "application/vnd.jupyter.widget-view+json": {
       "model_id": "3cd1a7e92e59451db19d7663a9fac218",
       "version_major": 2,
       "version_minor": 0
      },
      "text/plain": [
       "  0%|          | 0/23 [00:00<?, ?it/s]"
      ]
     },
     "metadata": {},
     "output_type": "display_data"
    },
    {
     "data": {
      "application/vnd.jupyter.widget-view+json": {
       "model_id": "abac486d64fe4505a69ca151a60e02fe",
       "version_major": 2,
       "version_minor": 0
      },
      "text/plain": [
       "  0%|          | 0/10 [00:00<?, ?it/s]"
      ]
     },
     "metadata": {},
     "output_type": "display_data"
    },
    {
     "data": {
      "application/vnd.jupyter.widget-view+json": {
       "model_id": "5eb2c6397f7f44e8a604a78fbab05297",
       "version_major": 2,
       "version_minor": 0
      },
      "text/plain": [
       "  0%|          | 0/24 [00:00<?, ?it/s]"
      ]
     },
     "metadata": {},
     "output_type": "display_data"
    },
    {
     "data": {
      "application/vnd.jupyter.widget-view+json": {
       "model_id": "4fac8d1e70ac40ebacf31b789551b3da",
       "version_major": 2,
       "version_minor": 0
      },
      "text/plain": [
       "  0%|          | 0/23 [00:00<?, ?it/s]"
      ]
     },
     "metadata": {},
     "output_type": "display_data"
    },
    {
     "data": {
      "application/vnd.jupyter.widget-view+json": {
       "model_id": "522483c13dcb4aa48a5c9a85ad3559e4",
       "version_major": 2,
       "version_minor": 0
      },
      "text/plain": [
       "  0%|          | 0/33 [00:00<?, ?it/s]"
      ]
     },
     "metadata": {},
     "output_type": "display_data"
    },
    {
     "data": {
      "application/vnd.jupyter.widget-view+json": {
       "model_id": "bb2a4a1c8b1045fdb1df6ec499c68bdf",
       "version_major": 2,
       "version_minor": 0
      },
      "text/plain": [
       "  0%|          | 0/14 [00:00<?, ?it/s]"
      ]
     },
     "metadata": {},
     "output_type": "display_data"
    },
    {
     "data": {
      "application/vnd.jupyter.widget-view+json": {
       "model_id": "3bb55b1d1fbf43878d4e2e9fa9fd155c",
       "version_major": 2,
       "version_minor": 0
      },
      "text/plain": [
       "  0%|          | 0/29 [00:00<?, ?it/s]"
      ]
     },
     "metadata": {},
     "output_type": "display_data"
    },
    {
     "data": {
      "application/vnd.jupyter.widget-view+json": {
       "model_id": "74c1fd4b7841409a97ed5ed504153c01",
       "version_major": 2,
       "version_minor": 0
      },
      "text/plain": [
       "  0%|          | 0/17 [00:00<?, ?it/s]"
      ]
     },
     "metadata": {},
     "output_type": "display_data"
    },
    {
     "data": {
      "application/vnd.jupyter.widget-view+json": {
       "model_id": "1d5b77c83cc346718f85493bad8eded7",
       "version_major": 2,
       "version_minor": 0
      },
      "text/plain": [
       "  0%|          | 0/28 [00:00<?, ?it/s]"
      ]
     },
     "metadata": {},
     "output_type": "display_data"
    },
    {
     "data": {
      "application/vnd.jupyter.widget-view+json": {
       "model_id": "13c739a67ae542cc97c62da0b720646a",
       "version_major": 2,
       "version_minor": 0
      },
      "text/plain": [
       "  0%|          | 0/170 [00:00<?, ?it/s]"
      ]
     },
     "metadata": {},
     "output_type": "display_data"
    },
    {
     "data": {
      "application/vnd.jupyter.widget-view+json": {
       "model_id": "333d115d36c947ee8cdda8a22a5e1a5b",
       "version_major": 2,
       "version_minor": 0
      },
      "text/plain": [
       "  0%|          | 0/30 [00:00<?, ?it/s]"
      ]
     },
     "metadata": {},
     "output_type": "display_data"
    },
    {
     "data": {
      "application/vnd.jupyter.widget-view+json": {
       "model_id": "34bda96c1f7d4ac0b51157dd7dcbb8fc",
       "version_major": 2,
       "version_minor": 0
      },
      "text/plain": [
       "  0%|          | 0/8 [00:00<?, ?it/s]"
      ]
     },
     "metadata": {},
     "output_type": "display_data"
    },
    {
     "data": {
      "application/vnd.jupyter.widget-view+json": {
       "model_id": "df40914e03184726b27852d9d3b742d3",
       "version_major": 2,
       "version_minor": 0
      },
      "text/plain": [
       "  0%|          | 0/8 [00:00<?, ?it/s]"
      ]
     },
     "metadata": {},
     "output_type": "display_data"
    },
    {
     "data": {
      "application/vnd.jupyter.widget-view+json": {
       "model_id": "9c636c4d340e47fe9597277dbc293a66",
       "version_major": 2,
       "version_minor": 0
      },
      "text/plain": [
       "  0%|          | 0/36 [00:00<?, ?it/s]"
      ]
     },
     "metadata": {},
     "output_type": "display_data"
    },
    {
     "data": {
      "application/vnd.jupyter.widget-view+json": {
       "model_id": "94adf2f1748940d392a9f3f60683c40b",
       "version_major": 2,
       "version_minor": 0
      },
      "text/plain": [
       "  0%|          | 0/23 [00:00<?, ?it/s]"
      ]
     },
     "metadata": {},
     "output_type": "display_data"
    },
    {
     "data": {
      "application/vnd.jupyter.widget-view+json": {
       "model_id": "28df29f928bd463aaaacad36dbd9b558",
       "version_major": 2,
       "version_minor": 0
      },
      "text/plain": [
       "  0%|          | 0/19 [00:00<?, ?it/s]"
      ]
     },
     "metadata": {},
     "output_type": "display_data"
    },
    {
     "data": {
      "application/vnd.jupyter.widget-view+json": {
       "model_id": "95ce3c23a321473a82eca651e944a02d",
       "version_major": 2,
       "version_minor": 0
      },
      "text/plain": [
       "  0%|          | 0/21 [00:00<?, ?it/s]"
      ]
     },
     "metadata": {},
     "output_type": "display_data"
    },
    {
     "data": {
      "application/vnd.jupyter.widget-view+json": {
       "model_id": "788cd0d21ccf43469905ea50bbbeed6e",
       "version_major": 2,
       "version_minor": 0
      },
      "text/plain": [
       "  0%|          | 0/12 [00:00<?, ?it/s]"
      ]
     },
     "metadata": {},
     "output_type": "display_data"
    },
    {
     "data": {
      "application/vnd.jupyter.widget-view+json": {
       "model_id": "948cb2de05fe47d3be9335a1a314e0c7",
       "version_major": 2,
       "version_minor": 0
      },
      "text/plain": [
       "  0%|          | 0/37 [00:00<?, ?it/s]"
      ]
     },
     "metadata": {},
     "output_type": "display_data"
    },
    {
     "data": {
      "application/vnd.jupyter.widget-view+json": {
       "model_id": "9394e80c5c9742f1a5ed12d67cfa795f",
       "version_major": 2,
       "version_minor": 0
      },
      "text/plain": [
       "  0%|          | 0/17 [00:00<?, ?it/s]"
      ]
     },
     "metadata": {},
     "output_type": "display_data"
    },
    {
     "data": {
      "application/vnd.jupyter.widget-view+json": {
       "model_id": "3b3c23cac07c4c2f8004ea992479338c",
       "version_major": 2,
       "version_minor": 0
      },
      "text/plain": [
       "  0%|          | 0/22 [00:00<?, ?it/s]"
      ]
     },
     "metadata": {},
     "output_type": "display_data"
    },
    {
     "data": {
      "application/vnd.jupyter.widget-view+json": {
       "model_id": "844ea12d922546f0bc84894e7a07f938",
       "version_major": 2,
       "version_minor": 0
      },
      "text/plain": [
       "  0%|          | 0/35 [00:00<?, ?it/s]"
      ]
     },
     "metadata": {},
     "output_type": "display_data"
    },
    {
     "data": {
      "application/vnd.jupyter.widget-view+json": {
       "model_id": "919be31192a843b0b36fac9ef8f0df1a",
       "version_major": 2,
       "version_minor": 0
      },
      "text/plain": [
       "  0%|          | 0/20 [00:00<?, ?it/s]"
      ]
     },
     "metadata": {},
     "output_type": "display_data"
    },
    {
     "data": {
      "application/vnd.jupyter.widget-view+json": {
       "model_id": "7c14c6a7e5ca4feaa6d3a162b5040b1f",
       "version_major": 2,
       "version_minor": 0
      },
      "text/plain": [
       "  0%|          | 0/25 [00:00<?, ?it/s]"
      ]
     },
     "metadata": {},
     "output_type": "display_data"
    },
    {
     "name": "stdout",
     "output_type": "stream",
     "text": [
      "Synapsse Results:\n",
      "Total Number of Synapses = 4377\n",
      "n_valid_syn_ids_presyn = 5\n",
      "n_errored_syn_ids_presyn = 196\n",
      "n_valid_syn_ids_postsyn = 4155\n",
      "n_errored_syn_ids_postsyn = 21\n",
      "Synapsse Results:\n",
      "Total Number of Synapses = 4377\n",
      "n_valid_syn_ids_presyn = 5\n",
      "n_errored_syn_ids_presyn = 196\n",
      "n_valid_syn_ids_postsyn = 4155\n",
      "n_errored_syn_ids_postsyn = 21\n"
     ]
    },
    {
     "data": {
      "application/vnd.jupyter.widget-view+json": {
       "model_id": "bcf94a5d40354aa8887bed5e3cb0739a",
       "version_major": 2,
       "version_minor": 0
      },
      "text/plain": [
       "  0%|          | 0/38 [00:00<?, ?it/s]"
      ]
     },
     "metadata": {},
     "output_type": "display_data"
    },
    {
     "data": {
      "application/vnd.jupyter.widget-view+json": {
       "model_id": "75e9871c17394ca592d00e9ec6091dba",
       "version_major": 2,
       "version_minor": 0
      },
      "text/plain": [
       "  0%|          | 0/14 [00:00<?, ?it/s]"
      ]
     },
     "metadata": {},
     "output_type": "display_data"
    },
    {
     "name": "stdout",
     "output_type": "stream",
     "text": [
      "Synapsse Results:\n",
      "Total Number of Synapses = 4377\n",
      "n_valid_syn_ids_presyn = 5\n",
      "n_errored_syn_ids_presyn = 196\n",
      "n_valid_syn_ids_postsyn = 4155\n",
      "n_errored_syn_ids_postsyn = 21\n",
      "Synapsse Results:\n",
      "Total Number of Synapses = 4377\n",
      "n_valid_syn_ids_presyn = 5\n",
      "n_errored_syn_ids_presyn = 196\n",
      "n_valid_syn_ids_postsyn = 4155\n",
      "n_errored_syn_ids_postsyn = 21\n"
     ]
    },
    {
     "data": {
      "application/vnd.jupyter.widget-view+json": {
       "model_id": "d468c9a091004d3fac514ad3c76af6c3",
       "version_major": 2,
       "version_minor": 0
      },
      "text/plain": [
       "  0%|          | 0/38 [00:00<?, ?it/s]"
      ]
     },
     "metadata": {},
     "output_type": "display_data"
    },
    {
     "data": {
      "application/vnd.jupyter.widget-view+json": {
       "model_id": "6378e201820d474aa51d33d6b8fc56eb",
       "version_major": 2,
       "version_minor": 0
      },
      "text/plain": [
       "  0%|          | 0/14 [00:00<?, ?it/s]"
      ]
     },
     "metadata": {},
     "output_type": "display_data"
    },
    {
     "name": "stdout",
     "output_type": "stream",
     "text": [
      "\n",
      "\n",
      "len(branch_attr_keys) = 52\n",
      "Saving Neuorn in suppress_output mode...please wait\n",
      "Saved File at location: /mnt/dj-stor01/platinum/minnie65/02/decomposition/864691135736387732_0_25_soma_0_split_full_axon\n",
      "Save time = 214.26577520370483\n",
      "\n",
      "\n",
      " ***------ Total time for 864691135736387732 = 1416.5030376911163 ------ ***\n",
      "\n",
      "\n",
      "\n",
      "---- Working on Neuron 864691135865518469 ----\n",
      "Decompressing Neuron in minimal output mode...please wait\n",
      "Pulled from Table Decomposition so setting split_index = 0\n",
      "Dont need spine recalculation\n",
      "Number of Neurons found = 1\n",
      "\n",
      "Part 1: Axon like branchese \n",
      "{'L0': array([ 2,  7, 23, 32]), 'L1': array([ 1,  6,  9, 14, 18, 24, 26, 27, 28, 29, 31, 32, 33, 34, 35]), 'L2': array([ 3,  7, 19, 21, 23, 24, 25, 26, 27, 28, 29])}\n",
      "Limb L0 soma angle: 13.19 \n",
      "Limb L1 soma angle: 133.99 \n",
      "Limb L2 soma angle: 160.56 \n",
      "Limb L3 soma angle: 121.68 \n",
      "Limb L4 soma angle: 71.86 \n",
      "\n",
      "Part 2: possible_axon_limbs = [1, 2, 3, 4]\n",
      "\n",
      "Phase 2: Working on Limb L1\n",
      "nodes_to_eliminate = [12 17 21 22]\n",
      "\n",
      "Phase 2: Working on Limb L2\n",
      "nodes_to_eliminate = [ 9 10]\n",
      "\n",
      "Phase 2: Working on Limb L3\n",
      "nodes_to_eliminate = [1 3]\n",
      "\n",
      "Phase 2: Working on Limb L4\n",
      "nodes_to_eliminate = []\n",
      "\n",
      "----Working on Limb L1-----\n",
      "No endpoints were eliminated so don't need to add back any candidates\n",
      "\n",
      "----Working on Limb L2-----\n",
      "No endpoints were eliminated so don't need to add back any candidates\n",
      "\n",
      "----Working on Limb L3-----\n",
      "No endpoints were eliminated so don't need to add back any candidates\n",
      "\n",
      "----Working on Limb L4-----\n",
      "No nodes were eliminated so don't need to add back any candidates\n",
      "Final Candidates\n",
      "\n",
      "Limb 1\n",
      "Candidate 0 (darkslategray): array([2])\n",
      "Candidate 1 (cyan): array([ 8, 10, 16, 19, 20])\n",
      "Candidate 2 (blue): array([32, 33, 34, 35,  9, 13, 14, 15, 18, 23, 24, 25, 26, 27, 28, 29, 30,\n",
      "       31])\n",
      "Candidate 3 (blue): array([3])\n",
      "Candidate 4 (green): array([ 0,  1,  4,  5,  6,  7, 11])\n",
      "\n",
      "Limb 2\n",
      "Candidate 0 (cyan): array([7])\n",
      "Candidate 1 (gray): array([ 0,  1,  2,  3,  4,  5,  6,  8, 11, 12, 13])\n",
      "Candidate 2 (brown): array([14, 15, 16, 17, 18, 19, 20, 21, 22, 23, 24, 25, 26, 27, 28, 29, 30])\n",
      "\n",
      "Limb 3\n",
      "Candidate 0 (cyan): array([ 2,  4,  5, 10, 11])\n",
      "Candidate 1 (palegreen): array([6])\n",
      "Candidate 2 (blue): array([ 0,  7,  8,  9, 12])\n",
      "\n",
      "Limb 4\n",
      "Candidate 0 (palegreen): array([0, 1, 2, 3, 4])\n",
      "Part 3: axon_subgraph_candidates = {1: [[2], [8, 10, 16, 19, 20], [32, 33, 34, 35, 9, 13, 14, 15, 18, 23, 24, 25, 26, 27, 28, 29, 30, 31], [3], [0, 1, 4, 5, 6, 7, 11]], 2: [[7], [0, 1, 2, 3, 4, 5, 6, 8, 11, 12, 13], [14, 15, 16, 17, 18, 19, 20, 21, 22, 23, 24, 25, 26, 27, 28, 29, 30]], 3: [[2, 4, 5, 10, 11], [6], [0, 7, 8, 9, 12]], 4: [[0, 1, 2, 3, 4]]}\n",
      "\n",
      "\n",
      " --- Working on limb 1, candidate # 0\n",
      "0 out of 1 branches are axons\n",
      "Axon percentage = 0.0\n",
      "Not adding candidate no axon branches detected \n",
      "\n",
      "\n",
      " --- Working on limb 1, candidate # 1\n",
      "0 out of 5 branches are axons\n",
      "Axon percentage = 0.0\n",
      "Not adding candidate no axon branches detected \n",
      "\n",
      "\n",
      " --- Working on limb 1, candidate # 2\n",
      "13 out of 18 branches are axons\n",
      "Axon percentage = 0.7222222222222222\n",
      "curr_axon_angle_threshold = 120\n",
      "candidate_nodes = [ 9 13 14 15 18 21 22 23 24 25 26 27 28 29 30 31 32 33 34 35]\n",
      "non_axon_branches_on_subgraph = [13 15 21 22 23 25 30]\n",
      "endnodes_to_test = []\n",
      "candidate_angles,restr_skels = (None, None)\n",
      "Not adding candidate because no angles (None) passed the threhold 120 \n",
      "\n",
      "\n",
      " --- Working on limb 1, candidate # 3\n",
      "0 out of 1 branches are axons\n",
      "Axon percentage = 0.0\n",
      "Not adding candidate no axon branches detected \n",
      "\n",
      "\n",
      " --- Working on limb 1, candidate # 4\n",
      "2 out of 7 branches are axons\n",
      "Axon percentage = 0.2857142857142857\n",
      "curr_axon_angle_threshold = 120\n",
      "candidate_nodes = [ 0  1  4  5  6  7 11 12 17 22]\n",
      "non_axon_branches_on_subgraph = [ 0  4  5  7 11 12 17 22]\n",
      "endnodes_to_test = []\n",
      "candidate_angles,restr_skels = (None, None)\n",
      "Not adding candidate because no angles (None) passed the threhold 120 \n",
      "\n",
      "\n",
      " --- Working on limb 2, candidate # 0\n",
      "1 out of 1 branches are axons\n",
      "Axon percentage = 1.0\n",
      "curr_axon_angle_threshold = 95\n",
      "candidate_nodes = [7 9]\n",
      "non_axon_branches_on_subgraph = [9]\n",
      "endnodes_to_test = [44]\n",
      "Skeleton paths distances = [20654.83057133]\n",
      "Filtered indexes = [0]\n",
      "len(filtered_skeletons) = 1\n",
      "sk_angles = [176.82989577]\n",
      "candidate_angles,restr_skels = (array([176.82989577]), [array([[[1313590.,  491166.,  757836.],\n",
      "        [1313650.,  491270.,  757866.]],\n",
      "\n",
      "       [[1313650.,  491270.,  757866.],\n",
      "        [1313680.,  491335.,  757888.]],\n",
      "\n",
      "       [[1313680.,  491335.,  757888.],\n",
      "        [1313750.,  491472.,  757937.]],\n",
      "\n",
      "       [[1313750.,  491472.,  757937.],\n",
      "        [1313820.,  491622.,  757996.]],\n",
      "\n",
      "       [[1313820.,  491622.,  757996.],\n",
      "        [1313870.,  491744.,  758045.]],\n",
      "\n",
      "       [[1313870.,  491744.,  758045.],\n",
      "        [1313910.,  491830.,  758080.]],\n",
      "\n",
      "       [[1313910.,  491830.,  758080.],\n",
      "        [1313960.,  491952.,  758133.]],\n",
      "\n",
      "       [[1313960.,  491952.,  758133.],\n",
      "        [1314050.,  492154.,  758290.]],\n",
      "\n",
      "       [[1314050.,  492154.,  758290.],\n",
      "        [1314070.,  492317.,  758376.]],\n",
      "\n",
      "       [[1314070.,  492317.,  758376.],\n",
      "        [1314090.,  492407.,  758411.]],\n",
      "\n",
      "       [[1314090.,  492407.,  758411.],\n",
      "        [1314120.,  492607.,  758489.]],\n",
      "\n",
      "       [[1314120.,  492607.,  758489.],\n",
      "        [1314150.,  492811.,  758567.]],\n",
      "\n",
      "       [[1314150.,  492811.,  758567.],\n",
      "        [1314160.,  492943.,  758615.]],\n",
      "\n",
      "       [[1314160.,  492943.,  758615.],\n",
      "        [1314170.,  493043.,  758649.]],\n",
      "\n",
      "       [[1314170.,  493043.,  758649.],\n",
      "        [1314180.,  493263.,  758717.]],\n",
      "\n",
      "       [[1314180.,  493263.,  758717.],\n",
      "        [1314180.,  493399.,  758757.]],\n",
      "\n",
      "       [[1314180.,  493399.,  758757.],\n",
      "        [1314180.,  493571.,  758805.]],\n",
      "\n",
      "       [[1314180.,  493571.,  758805.],\n",
      "        [1314170.,  493798.,  758848.]],\n",
      "\n",
      "       [[1314170.,  493798.,  758848.],\n",
      "        [1314160.,  493915.,  758865.]],\n",
      "\n",
      "       [[1314160.,  493915.,  758865.],\n",
      "        [1314160.,  493997.,  758872.]],\n",
      "\n",
      "       [[1314160.,  493997.,  758872.],\n",
      "        [1314140.,  494145.,  758877.]],\n",
      "\n",
      "       [[1314140.,  494145.,  758877.],\n",
      "        [1314130.,  494195.,  758875.]],\n",
      "\n",
      "       [[1314130.,  494195.,  758875.],\n",
      "        [1314110.,  494359.,  758863.]],\n",
      "\n",
      "       [[1314110.,  494359.,  758863.],\n",
      "        [1314080.,  494626.,  758820.]],\n",
      "\n",
      "       [[1314080.,  494626.,  758820.],\n",
      "        [1314050.,  494835.,  758766.]],\n",
      "\n",
      "       [[1314050.,  494835.,  758766.],\n",
      "        [1314040.,  494920.,  758742.]],\n",
      "\n",
      "       [[1314040.,  494920.,  758742.],\n",
      "        [1314030.,  495003.,  758713.]],\n",
      "\n",
      "       [[1314030.,  495003.,  758713.],\n",
      "        [1314020.,  495092.,  758681.]],\n",
      "\n",
      "       [[1314020.,  495092.,  758681.],\n",
      "        [1314010.,  495174.,  758649.]],\n",
      "\n",
      "       [[1314010.,  495174.,  758649.],\n",
      "        [1314000.,  495299.,  758600.]],\n",
      "\n",
      "       [[1314000.,  495299.,  758600.],\n",
      "        [1314000.,  495362.,  758573.]],\n",
      "\n",
      "       [[1314000.,  495362.,  758573.],\n",
      "        [1314000.,  495403.,  758556.]],\n",
      "\n",
      "       [[1314000.,  495403.,  758556.],\n",
      "        [1313990.,  495516.,  758506.]],\n",
      "\n",
      "       [[1313990.,  495516.,  758506.],\n",
      "        [1313990.,  495635.,  758453.]],\n",
      "\n",
      "       [[1313990.,  495635.,  758453.],\n",
      "        [1313980.,  495708.,  758420.]],\n",
      "\n",
      "       [[1313980.,  495708.,  758420.],\n",
      "        [1313980.,  495771.,  758391.]],\n",
      "\n",
      "       [[1313980.,  495771.,  758391.],\n",
      "        [1313980.,  495868.,  758348.]],\n",
      "\n",
      "       [[1313980.,  495868.,  758348.],\n",
      "        [1314000.,  495978.,  758297.]],\n",
      "\n",
      "       [[1314000.,  495978.,  758297.],\n",
      "        [1314000.,  496023.,  758277.]],\n",
      "\n",
      "       [[1314000.,  496023.,  758277.],\n",
      "        [1314020.,  496190.,  758250.]],\n",
      "\n",
      "       [[1314020.,  496190.,  758250.],\n",
      "        [1314030.,  496387.,  758228.]],\n",
      "\n",
      "       [[1314030.,  496387.,  758228.],\n",
      "        [1314040.,  496599.,  758212.]],\n",
      "\n",
      "       [[1314040.,  496599.,  758212.],\n",
      "        [1314050.,  496801.,  758197.]],\n",
      "\n",
      "       [[1314050.,  496801.,  758197.],\n",
      "        [1314050.,  496988.,  758184.]],\n",
      "\n",
      "       [[1314050.,  496988.,  758184.],\n",
      "        [1314050.,  497155.,  758161.]],\n",
      "\n",
      "       [[1314050.,  497155.,  758161.],\n",
      "        [1314040.,  497367.,  758120.]],\n",
      "\n",
      "       [[1314040.,  497367.,  758120.],\n",
      "        [1314030.,  497562.,  758085.]],\n",
      "\n",
      "       [[1314030.,  497562.,  758085.],\n",
      "        [1314030.,  497814.,  758039.]],\n",
      "\n",
      "       [[1314030.,  497814.,  758039.],\n",
      "        [1314030.,  497969.,  758011.]],\n",
      "\n",
      "       [[1314030.,  497969.,  758011.],\n",
      "        [1314020.,  498127.,  757984.]],\n",
      "\n",
      "       [[1314020.,  498127.,  757984.],\n",
      "        [1313990.,  498343.,  757949.]],\n",
      "\n",
      "       [[1313990.,  498343.,  757949.],\n",
      "        [1313960.,  498514.,  757925.]],\n",
      "\n",
      "       [[1313960.,  498514.,  757925.],\n",
      "        [1313930.,  498619.,  757911.]],\n",
      "\n",
      "       [[1313930.,  498619.,  757911.],\n",
      "        [1313910.,  498720.,  757897.]],\n",
      "\n",
      "       [[1313910.,  498720.,  757897.],\n",
      "        [1313860.,  498891.,  757874.]],\n",
      "\n",
      "       [[1313860.,  498891.,  757874.],\n",
      "        [1313790.,  499119.,  757839.]],\n",
      "\n",
      "       [[1313790.,  499119.,  757839.],\n",
      "        [1313740.,  499273.,  757805.]],\n",
      "\n",
      "       [[1313740.,  499273.,  757805.],\n",
      "        [1313690.,  499386.,  757776.]],\n",
      "\n",
      "       [[1313690.,  499386.,  757776.],\n",
      "        [1313640.,  499491.,  757741.]],\n",
      "\n",
      "       [[1313640.,  499491.,  757741.],\n",
      "        [1313600.,  499587.,  757707.]],\n",
      "\n",
      "       [[1313600.,  499587.,  757707.],\n",
      "        [1313520.,  499761.,  757641.]],\n",
      "\n",
      "       [[1313520.,  499761.,  757641.],\n",
      "        [1313480.,  499863.,  757602.]],\n",
      "\n",
      "       [[1313480.,  499863.,  757602.],\n",
      "        [1313440.,  499958.,  757565.]],\n",
      "\n",
      "       [[1313440.,  499958.,  757565.],\n",
      "        [1313370.,  500113.,  757512.]],\n",
      "\n",
      "       [[1313370.,  500113.,  757512.],\n",
      "        [1313320.,  500250.,  757493.]],\n",
      "\n",
      "       [[1313320.,  500250.,  757493.],\n",
      "        [1313280.,  500384.,  757482.]],\n",
      "\n",
      "       [[1313280.,  500384.,  757482.],\n",
      "        [1313220.,  500550.,  757471.]]])])\n"
     ]
    },
    {
     "name": "stdout",
     "output_type": "stream",
     "text": [
      "base_final_widths = [263.70092017 201.69925104 397.83341247]\n",
      "overall_ais_width = 263.7009201729347\n",
      "ais_width = 287.74452789180344\n",
      "Adding the following branches as true axons: [7]\n",
      "curr_soma_angle = 160.56\n",
      "max_axon_angle = 176.8298957672769\n",
      "Changing to a better axon candidate\n",
      "\n",
      "\n",
      " --- Working on limb 2, candidate # 1\n",
      "1 out of 11 branches are axons\n",
      "Axon percentage = 0.09090909090909091\n",
      "curr_axon_angle_threshold = 120\n",
      "candidate_nodes = [ 0  1  2  3  4  5  6  8  9 10 11 12 13]\n",
      "non_axon_branches_on_subgraph = [ 0  1  2  4  5  6  8  9 10 11 12 13]\n",
      "endnodes_to_test = []\n",
      "candidate_angles,restr_skels = (None, None)\n",
      "Not adding candidate because no angles (None) passed the threhold 120 \n",
      "\n",
      "\n",
      " --- Working on limb 2, candidate # 2\n",
      "9 out of 17 branches are axons\n",
      "Axon percentage = 0.5294117647058824\n",
      "curr_axon_angle_threshold = 120\n",
      "candidate_nodes = [ 9 10 14 15 16 17 18 19 20 21 22 23 24 25 26 27 28 29 30]\n",
      "non_axon_branches_on_subgraph = [ 9 10 14 15 16 17 18 20 22 30]\n",
      "endnodes_to_test = []\n",
      "candidate_angles,restr_skels = (None, None)\n",
      "Not adding candidate because no angles (None) passed the threhold 120 \n",
      "\n",
      "\n",
      " --- Working on limb 3, candidate # 0\n",
      "0 out of 5 branches are axons\n",
      "Axon percentage = 0.0\n",
      "Not adding candidate no axon branches detected \n",
      "\n",
      "\n",
      " --- Working on limb 3, candidate # 1\n",
      "0 out of 1 branches are axons\n",
      "Axon percentage = 0.0\n",
      "Not adding candidate no axon branches detected \n",
      "\n",
      "\n",
      " --- Working on limb 3, candidate # 2\n",
      "0 out of 5 branches are axons\n",
      "Axon percentage = 0.0\n",
      "Not adding candidate no axon branches detected \n",
      "\n",
      "\n",
      " --- Working on limb 4, candidate # 0\n",
      "0 out of 5 branches are axons\n",
      "Axon percentage = 0.0\n",
      "Not adding candidate no axon branches detected \n",
      "Using the best axon approach\n",
      "Using True\n",
      "Limb L2: Axon branches before dendritic path filter = [7]\n",
      "Limb L2: Axon branches AFTER dendritic path filter = [7]\n",
      "\n",
      "\n",
      "Part 4: final_true_axons = {'L2': array([7])}\n",
      "\n",
      "--- Working on filter 0:\n",
      "function = dendrite_on_axon_merges\n",
      "function __name__ = filter_away_dendrite_on_axon_merges\n",
      "function arguments = {'use_pre_existing_axon_labels': True}\n",
      "\n",
      "\n",
      "\n",
      "\n",
      "\n",
      " ---- Total time for applying filter: 0.7495744228363037 -----\n"
     ]
    },
    {
     "name": "stderr",
     "output_type": "stream",
     "text": [
      "\r",
      "  0%|          | 0/1 [00:00<?, ?it/s]"
     ]
    },
    {
     "name": "stdout",
     "output_type": "stream",
     "text": [
      "Starting axon branch was not the limb starting node so generating border vertices and computing upstream branch\n",
      "upstream_node_to_axon_starting_branch = 9\n",
      "root_curr = [1313789.   483423.7  759426.2]\n",
      "Time for preparing soma vertices and root: 0.0005872249603271484\n",
      "invalidation_d = 2000\n",
      "cc_vertex_thresh = 10\n"
     ]
    },
    {
     "data": {
      "application/vnd.jupyter.widget-view+json": {
       "model_id": "598c04f8a5e1446db3f37ad8d4a11690",
       "version_major": 2,
       "version_minor": 0
      },
      "text/plain": [
       "  0%|          | 0/1411 [00:00<?, ?it/s]"
      ]
     },
     "metadata": {},
     "output_type": "display_data"
    },
    {
     "name": "stderr",
     "output_type": "stream",
     "text": [
      "\r",
      "100%|██████████| 1/1 [00:00<00:00, 28.80it/s]"
     ]
    },
    {
     "name": "stdout",
     "output_type": "stream",
     "text": [
      "meshparty_segment_size = 100\n",
      "Time for 1st pass MP skeletonization: 0.11018109321594238\n",
      "connecting at the root\n",
      "branches_touching_root = [0]\n",
      "combining close nodes\n",
      "combine_threshold = 1300\n"
     ]
    },
    {
     "name": "stderr",
     "output_type": "stream",
     "text": [
      "\n"
     ]
    },
    {
     "name": "stdout",
     "output_type": "stream",
     "text": [
      "length of Graph = 195\n",
      "After combining close endpoints max(kept_branches_idx) = 0, len(kept_branches_idx) = 1\n",
      "empty_indices % = 0.0\n",
      " conflict_indices % = 0.0\n"
     ]
    },
    {
     "data": {
      "application/vnd.jupyter.widget-view+json": {
       "model_id": "b7b84ed914c74faca5bc37dc500c2139",
       "version_major": 2,
       "version_minor": 0
      },
      "text/plain": [
       "0it [00:00, ?it/s]"
      ]
     },
     "metadata": {},
     "output_type": "display_data"
    },
    {
     "name": "stdout",
     "output_type": "stream",
     "text": [
      "AFTER face_lookup_resolved_test\n"
     ]
    },
    {
     "data": {
      "application/vnd.jupyter.widget-view+json": {
       "model_id": "127958933a1a4c7897cb64372eaf11ef",
       "version_major": 2,
       "version_minor": 0
      },
      "text/plain": [
       "  0%|          | 0/1 [00:00<?, ?it/s]"
      ]
     },
     "metadata": {},
     "output_type": "display_data"
    },
    {
     "name": "stdout",
     "output_type": "stream",
     "text": [
      "Decomposing first pass: 0.14339327812194824\n",
      "Only Using MeshParty Skeletonization and Mesh Correspondence\n",
      "Another print\n",
      "Divinding into MP and MAP pieces: 6.008148193359375e-05\n",
      "Total time for MAP sublimb processing 5.9604644775390625e-06\n",
      "---- Working on MP Decomposition #0 ----\n",
      "Using Quicker soma_to_piece_touching_vertices because no MAP and only one sublimb_mesh piece \n",
      "MP filtering soma verts: 0.00010085105895996094\n",
      "Fixing Possible Soma Extension Branch for Sublimb 0\n",
      "Total time for mesh KDTree = 0.07693767547607422\n",
      "sbv[0].reshape(-1,3) = [[1313789.   483423.7  759426.2]]\n",
      "closest_sk_pt_coord BEFORE = [1312929.50303404  483380.11574483  759695.99395563]\n",
      "current_skeleton.shape = (194, 2, 3)\n",
      "node_for_stitch = 61: [1312929.50303404  483380.11574483  759695.99395563]\n",
      "node_for_stitch AFTER = 61: [1312929.50303404  483380.11574483  759695.99395563]\n",
      "possible_node_loc = [33 43]\n",
      "possible_node_loc AFTER = [33 43]\n",
      "curr_shortest_path = [61, 58.0, 56.0, 53.0, 50.0, 46.0, 42.0, 38.0, 33.0]\n",
      "Current stitch point was not a branch or endpoint, shortest_path_length to one = 799.9301896264941\n",
      "Changing the stitch point becasue the distance to end or branch node was 799.9301896264941\n",
      "New stitch point has degree 1\n",
      "change_status for create soma extending pieces = True\n",
      "closest_sk_pt_coord AFTER = [1312839.60137538  482673.03189801  760056.07808449]\n",
      "skipping soma 0 because closest skeleton node was already end node\n",
      "endpoints_must_keep = {0: array([[1312839.60137538,  482673.03189801,  760056.07808449]])}\n",
      "match_sk_branches = [0]\n",
      "The new branch info was none so skipping \n",
      "\n",
      "No soma extending branch was added for this sublimb even though it had a soma border (means they already existed)\n",
      "MP (because soma touching verts) soma extension add: 0.2517728805541992\n",
      "There were not both MAP and MP pieces so skipping the stitch resolving phase\n",
      "Time for decomp of Limb = 0.5122354030609131\n",
      "Number of matching vertices = 53\n",
      "Only one endpoint after filtering away the endpoints that are not on the skeleton\n",
      "Using Distance measure skeletal_distance\n",
      "endpoints_must_keep = [[1312839.60137538  482673.03189801  760056.07808449]]\n",
      "Number of end_nodes BEFORE filtering = 2\n",
      "all_single_nodes_to_eliminate = [0]\n",
      "no small end nodes to get rid of so returning whole skeleton\n",
      "Removed 0 skeletal branches\n"
     ]
    },
    {
     "data": {
      "application/vnd.jupyter.widget-view+json": {
       "model_id": "75d7e2368eff4c668f221e1438ff062a",
       "version_major": 2,
       "version_minor": 0
      },
      "text/plain": [
       "  0%|          | 0/1 [00:00<?, ?it/s]"
      ]
     },
     "metadata": {},
     "output_type": "display_data"
    },
    {
     "name": "stdout",
     "output_type": "stream",
     "text": [
      "2767 2768\n",
      "For marked faces: None\n",
      "empty_indices % = 0.0\n",
      " conflict_indices % = 0.0\n"
     ]
    },
    {
     "data": {
      "application/vnd.jupyter.widget-view+json": {
       "model_id": "c5bb4e969bf441e3907bc1db61eb5113",
       "version_major": 2,
       "version_minor": 0
      },
      "text/plain": [
       "0it [00:00, ?it/s]"
      ]
     },
     "metadata": {},
     "output_type": "display_data"
    },
    {
     "name": "stdout",
     "output_type": "stream",
     "text": [
      "AFTER face_lookup_resolved_test\n"
     ]
    },
    {
     "data": {
      "application/vnd.jupyter.widget-view+json": {
       "model_id": "f845ba7ff43b4bc293b8a07ee09832dd",
       "version_major": 2,
       "version_minor": 0
      },
      "text/plain": [
       "  0%|          | 0/1 [00:00<?, ?it/s]"
      ]
     },
     "metadata": {},
     "output_type": "display_data"
    },
    {
     "name": "stdout",
     "output_type": "stream",
     "text": [
      "Limb Correspondence before stitching = 1\n",
      "Limb Correspondence AFTER stitching = 1\n",
      "Readjusting starting axon branch skeleton\n",
      "Fixing the axon starting branch endpoint to align with upstream branch\n",
      "Starting Branch 0 skeleton before fix: (194, 2, 3)\n",
      "Starting Branch 0 skeleton AFTER fix: (195, 2, 3)\n",
      "concept_network_dict = {0: [<networkx_utils.GraphOrderedEdges object at 0x7f0375df4dd8>]}\n",
      "\n",
      "\n",
      "----Working on seperate_graph 0----\n",
      "\n",
      "\n",
      "---------Working on soma_idx = 0, soma_group_idx 0, endpt = [1313743.64179104  482405.25970149  760136.7119403 ]---------\n",
      "Starting_edge inside branches_to_conept = [[1313743.64179104  482405.25970149  760136.7119403 ]\n",
      " [1313750.          482889.          760184.        ]]\n",
      "At the start, starting_node (in terms of the skeleton, that shouldn't match the starting edge) = [8]\n",
      "printing out current edge:\n",
      "[[1313743.64179104  482405.25970149  760136.7119403 ]\n",
      " [1313750.          482889.          760184.        ]]\n",
      "edge_endpoints_to_process was empty so exiting loop after 31 iterations\n",
      "starting_node in concept map (that should match the starting edge) = 1\n",
      "Total time for branches to concept conversion = 0.7472512722015381\n",
      "\n",
      "Done generating concept network \n",
      "\n",
      "\n",
      "Synapsse Results:\n",
      "Total Number of Synapses = 5263\n",
      "n_valid_syn_ids_presyn = 0\n",
      "n_errored_syn_ids_presyn = 89\n",
      "n_valid_syn_ids_postsyn = 5156\n",
      "n_errored_syn_ids_postsyn = 18\n",
      "Synapsse Results:\n",
      "Total Number of Synapses = 5263\n",
      "n_valid_syn_ids_presyn = 0\n",
      "n_errored_syn_ids_presyn = 89\n",
      "n_valid_syn_ids_postsyn = 5156\n",
      "n_errored_syn_ids_postsyn = 18\n"
     ]
    },
    {
     "data": {
      "application/vnd.jupyter.widget-view+json": {
       "model_id": "cce112fe49b941f6a2a95d2f68c49619",
       "version_major": 2,
       "version_minor": 0
      },
      "text/plain": [
       "0it [00:00, ?it/s]"
      ]
     },
     "metadata": {},
     "output_type": "display_data"
    },
    {
     "data": {
      "application/vnd.jupyter.widget-view+json": {
       "model_id": "079e8dfb0d1e45ed9224d84268323941",
       "version_major": 2,
       "version_minor": 0
      },
      "text/plain": [
       "  0%|          | 0/1 [00:00<?, ?it/s]"
      ]
     },
     "metadata": {},
     "output_type": "display_data"
    },
    {
     "name": "stdout",
     "output_type": "stream",
     "text": [
      "Synapsse Results:\n",
      "Total Number of Synapses = 5263\n",
      "n_valid_syn_ids_presyn = 0\n",
      "n_errored_syn_ids_presyn = 89\n",
      "n_valid_syn_ids_postsyn = 5156\n",
      "n_errored_syn_ids_postsyn = 18\n",
      "Synapsse Results:\n",
      "Total Number of Synapses = 5263\n",
      "n_valid_syn_ids_presyn = 0\n",
      "n_errored_syn_ids_presyn = 89\n",
      "n_valid_syn_ids_postsyn = 5156\n",
      "n_errored_syn_ids_postsyn = 18\n"
     ]
    },
    {
     "data": {
      "application/vnd.jupyter.widget-view+json": {
       "model_id": "a9354229c9ec4c20b2a07310d915b416",
       "version_major": 2,
       "version_minor": 0
      },
      "text/plain": [
       "0it [00:00, ?it/s]"
      ]
     },
     "metadata": {},
     "output_type": "display_data"
    },
    {
     "data": {
      "application/vnd.jupyter.widget-view+json": {
       "model_id": "34680f15ddaa4034afc8585c72e3994a",
       "version_major": 2,
       "version_minor": 0
      },
      "text/plain": [
       "  0%|          | 0/1 [00:00<?, ?it/s]"
      ]
     },
     "metadata": {},
     "output_type": "display_data"
    },
    {
     "name": "stdout",
     "output_type": "stream",
     "text": [
      "\n",
      "\n",
      "len(branch_attr_keys) = 1\n",
      "Saving Neuorn in suppress_output mode...please wait\n",
      "Saved File at location: /mnt/dj-stor01/platinum/minnie65/02/decomposition/864691135865518469_0_25_full_axon\n",
      "Save time = 306.11484026908875\n",
      "\n",
      "\n",
      " ***------ Total time for 864691135865518469 = 499.57358860969543 ------ ***\n",
      "\n",
      "\n",
      "\n",
      "---- Working on Neuron 864691136008573614 ----\n",
      "Decompressing Neuron in minimal output mode...please wait\n",
      "Pulled from Table Decomposition so setting split_index = 0\n",
      "Dont need spine recalculation\n",
      "Number of Neurons found = 1\n",
      "\n",
      "Part 1: Axon like branchese \n",
      "{'L0': array([16, 17, 23, 63]), 'L2': array([6]), 'L3': array([ 0,  1,  2,  3,  4,  5,  6,  7,  8,  9, 10, 11, 12, 13, 14, 15, 16,\n",
      "       17, 18, 19, 20, 21, 22, 23, 24, 25, 26, 28, 29, 30, 31, 32, 34, 36,\n",
      "       37, 38, 39])}\n",
      "Limb L0 soma angle: 12.27 \n",
      "Limb L1 soma angle: 120.36 \n",
      "Limb L2 soma angle: 107.5 \n",
      "Limb L3 soma angle: 166.01 \n",
      "Limb L4 soma angle: 102.56 \n",
      "Limb L5 soma angle: 33.24 \n",
      "Limb L6 soma angle: 25.87 \n",
      "Limb L7 soma angle: 132.59 \n",
      "Limb L8 soma angle: 24.14 \n",
      "Limb L9 soma angle: 113.62 \n",
      "\n",
      "Part 2: possible_axon_limbs = [1, 2, 3, 4, 7, 9]\n",
      "\n",
      "Phase 2: Working on Limb L1\n",
      "nodes_to_eliminate = [2 5]\n",
      "\n",
      "Phase 2: Working on Limb L2\n",
      "nodes_to_eliminate = [12 13 14 15 16]\n",
      "\n",
      "Phase 2: Working on Limb L3\n",
      "nodes_to_eliminate = []\n",
      "\n",
      "Phase 2: Working on Limb L4\n",
      "nodes_to_eliminate = [3]\n",
      "\n",
      "Phase 2: Working on Limb L7\n",
      "nodes_to_eliminate = [2]\n",
      "\n",
      "Phase 2: Working on Limb L9\n",
      "nodes_to_eliminate = []\n",
      "\n",
      "----Working on Limb L1-----\n",
      "No endpoints were eliminated so don't need to add back any candidates\n",
      "\n",
      "----Working on Limb L2-----\n",
      "No endpoints were eliminated so don't need to add back any candidates\n",
      "\n",
      "----Working on Limb L3-----\n",
      "No nodes were eliminated so don't need to add back any candidates\n",
      "\n",
      "----Working on Limb L4-----\n",
      "No endpoints were eliminated so don't need to add back any candidates\n",
      "\n",
      "----Working on Limb L7-----\n",
      "No endpoints were eliminated so don't need to add back any candidates\n",
      "\n",
      "----Working on Limb L9-----\n",
      "No nodes were eliminated so don't need to add back any candidates\n",
      "Final Candidates\n",
      "\n",
      "Limb 1\n",
      "Candidate 0 (forestgreen): array([0, 3, 4])\n",
      "Candidate 1 (forestgreen): array([ 6, 10, 11, 12, 13, 14, 15])\n",
      "Candidate 2 (red): array([7])\n",
      "Candidate 3 (green): array([8, 1, 9])\n",
      "\n",
      "Limb 2\n",
      "Candidate 0 (tan): array([ 6,  7,  8,  9, 10])\n",
      "Candidate 1 (cyan): array([11])\n",
      "Candidate 2 (gold): array([0])\n",
      "Candidate 3 (crimson): array([3])\n",
      "Candidate 4 (forestgreen): array([4])\n",
      "Candidate 5 (cyan): array([1, 2, 5])\n",
      "\n",
      "Limb 3\n",
      "Candidate 0 (magenta): array([ 0,  1,  2,  3,  4,  5,  6,  7,  8,  9, 10, 11, 12, 13, 14, 15, 16,\n",
      "       17, 18, 19, 20, 21, 22, 23, 24, 25, 26, 27, 28, 29, 30, 31, 32, 33,\n",
      "       34, 35, 36, 37, 38, 39])\n",
      "\n",
      "Limb 4\n",
      "Candidate 0 (magenta): array([0, 1, 2, 4, 5, 6, 7])\n",
      "Candidate 1 (olive): array([ 8,  9, 10, 11, 12])\n",
      "\n",
      "Limb 7\n",
      "Candidate 0 (gold): array([0])\n",
      "Candidate 1 (sandybrown): array([1])\n",
      "\n",
      "Limb 9\n",
      "Candidate 0 (magenta): array([0, 1, 2])\n",
      "Part 3: axon_subgraph_candidates = {1: [[0, 3, 4], [6, 10, 11, 12, 13, 14, 15], [7], [8, 1, 9]], 2: [[6, 7, 8, 9, 10], [11], [0], [3], [4], [1, 2, 5]], 3: [[0, 1, 2, 3, 4, 5, 6, 7, 8, 9, 10, 11, 12, 13, 14, 15, 16, 17, 18, 19, 20, 21, 22, 23, 24, 25, 26, 27, 28, 29, 30, 31, 32, 33, 34, 35, 36, 37, 38, 39]], 4: [[0, 1, 2, 4, 5, 6, 7], [8, 9, 10, 11, 12]], 7: [[0], [1]], 9: [[0, 1, 2]]}\n",
      "\n",
      "\n",
      " --- Working on limb 1, candidate # 0\n",
      "0 out of 3 branches are axons\n",
      "Axon percentage = 0.0\n",
      "Not adding candidate no axon branches detected \n",
      "\n",
      "\n",
      " --- Working on limb 1, candidate # 1\n",
      "0 out of 7 branches are axons\n",
      "Axon percentage = 0.0\n",
      "Not adding candidate no axon branches detected \n",
      "\n",
      "\n",
      " --- Working on limb 1, candidate # 2\n",
      "0 out of 1 branches are axons\n",
      "Axon percentage = 0.0\n",
      "Not adding candidate no axon branches detected \n",
      "\n",
      "\n",
      " --- Working on limb 1, candidate # 3\n",
      "0 out of 3 branches are axons\n",
      "Axon percentage = 0.0\n",
      "Not adding candidate no axon branches detected \n",
      "\n",
      "\n",
      " --- Working on limb 2, candidate # 0\n",
      "1 out of 5 branches are axons\n",
      "Axon percentage = 0.2\n",
      "curr_axon_angle_threshold = 120\n",
      "candidate_nodes = [ 6  7  8  9 10 14 16]\n",
      "non_axon_branches_on_subgraph = [ 7  8  9 10 14 16]\n",
      "endnodes_to_test = []\n",
      "candidate_angles,restr_skels = (None, None)\n",
      "Not adding candidate because no angles (None) passed the threhold 120 \n",
      "\n",
      "\n",
      " --- Working on limb 2, candidate # 1\n",
      "0 out of 1 branches are axons\n",
      "Axon percentage = 0.0\n",
      "Not adding candidate no axon branches detected \n",
      "\n",
      "\n",
      " --- Working on limb 2, candidate # 2\n",
      "0 out of 1 branches are axons\n",
      "Axon percentage = 0.0\n",
      "Not adding candidate no axon branches detected \n",
      "\n",
      "\n",
      " --- Working on limb 2, candidate # 3\n",
      "0 out of 1 branches are axons\n",
      "Axon percentage = 0.0\n",
      "Not adding candidate no axon branches detected \n",
      "\n",
      "\n",
      " --- Working on limb 2, candidate # 4\n",
      "0 out of 1 branches are axons\n",
      "Axon percentage = 0.0\n",
      "Not adding candidate no axon branches detected \n",
      "\n",
      "\n",
      " --- Working on limb 2, candidate # 5\n",
      "0 out of 3 branches are axons\n",
      "Axon percentage = 0.0\n",
      "Not adding candidate no axon branches detected \n",
      "\n",
      "\n",
      " --- Working on limb 3, candidate # 0\n",
      "37 out of 40 branches are axons\n",
      "Axon percentage = 0.925\n",
      "curr_axon_angle_threshold = 95\n",
      "candidate_nodes = [ 0  1  2  3  4  5  6  7  8  9 10 11 12 13 14 15 16 17 18 19 20 21 22 23\n",
      " 24 25 26 27 28 29 30 31 32 33 34 35 36 37 38 39]\n",
      "non_axon_branches_on_subgraph = [27 33 35]\n",
      "endnodes_to_test = [10278]\n",
      "Skeleton paths distances = [24974.62899043]\n",
      "Filtered indexes = [0]\n",
      "len(filtered_skeletons) = 1\n",
      "sk_angles = [168.00997726]\n",
      "candidate_angles,restr_skels = (array([168.00997726]), [array([[[1281790.,  746967.,  680440.],\n",
      "        [1281790.,  747134.,  680441.]],\n",
      "\n",
      "       [[1281790.,  747134.,  680441.],\n",
      "        [1281800.,  747315.,  680444.]],\n",
      "\n",
      "       [[1281800.,  747315.,  680444.],\n",
      "        [1281800.,  747469.,  680450.]],\n",
      "\n",
      "       [[1281800.,  747469.,  680450.],\n",
      "        [1281800.,  747602.,  680462.]],\n",
      "\n",
      "       [[1281800.,  747602.,  680462.],\n",
      "        [1281800.,  747662.,  680467.]],\n",
      "\n",
      "       [[1281800.,  747662.,  680467.],\n",
      "        [1281800.,  747773.,  680481.]],\n",
      "\n",
      "       [[1281800.,  747773.,  680481.],\n",
      "        [1281800.,  747820.,  680486.]],\n",
      "\n",
      "       [[1281800.,  747820.,  680486.],\n",
      "        [1281790.,  747972.,  680510.]],\n",
      "\n",
      "       [[1281790.,  747972.,  680510.],\n",
      "        [1281780.,  748109.,  680536.]],\n",
      "\n",
      "       [[1281780.,  748109.,  680536.],\n",
      "        [1281770.,  748217.,  680558.]],\n",
      "\n",
      "       [[1281770.,  748217.,  680558.],\n",
      "        [1281750.,  748385.,  680597.]],\n",
      "\n",
      "       [[1281750.,  748385.,  680597.],\n",
      "        [1281710.,  748549.,  680638.]],\n",
      "\n",
      "       [[1281710.,  748549.,  680638.],\n",
      "        [1281680.,  748701.,  680678.]],\n",
      "\n",
      "       [[1281680.,  748701.,  680678.],\n",
      "        [1281600.,  748965.,  680748.]],\n",
      "\n",
      "       [[1281600.,  748965.,  680748.],\n",
      "        [1281530.,  749147.,  680798.]],\n",
      "\n",
      "       [[1281530.,  749147.,  680798.],\n",
      "        [1281460.,  749324.,  680848.]],\n",
      "\n",
      "       [[1281460.,  749324.,  680848.],\n",
      "        [1281390.,  749523.,  680906.]],\n",
      "\n",
      "       [[1281390.,  749523.,  680906.],\n",
      "        [1281350.,  749628.,  680936.]],\n",
      "\n",
      "       [[1281350.,  749628.,  680936.],\n",
      "        [1281310.,  749738.,  680968.]],\n",
      "\n",
      "       [[1281310.,  749738.,  680968.],\n",
      "        [1281280.,  749866.,  681007.]],\n",
      "\n",
      "       [[1281280.,  749866.,  681007.],\n",
      "        [1281250.,  749974.,  681039.]],\n",
      "\n",
      "       [[1281250.,  749974.,  681039.],\n",
      "        [1281220.,  750137.,  681089.]],\n",
      "\n",
      "       [[1281220.,  750137.,  681089.],\n",
      "        [1281200.,  750269.,  681128.]],\n",
      "\n",
      "       [[1281200.,  750269.,  681128.],\n",
      "        [1281180.,  750392.,  681165.]],\n",
      "\n",
      "       [[1281180.,  750392.,  681165.],\n",
      "        [1281180.,  750458.,  681184.]],\n",
      "\n",
      "       [[1281180.,  750458.,  681184.],\n",
      "        [1281170.,  750553.,  681211.]],\n",
      "\n",
      "       [[1281170.,  750553.,  681211.],\n",
      "        [1281160.,  750637.,  681234.]],\n",
      "\n",
      "       [[1281160.,  750637.,  681234.],\n",
      "        [1281150.,  750729.,  681258.]],\n",
      "\n",
      "       [[1281150.,  750729.,  681258.],\n",
      "        [1281140.,  750822.,  681280.]],\n",
      "\n",
      "       [[1281140.,  750822.,  681280.],\n",
      "        [1281130.,  750930.,  681304.]],\n",
      "\n",
      "       [[1281130.,  750930.,  681304.],\n",
      "        [1281120.,  751049.,  681327.]],\n",
      "\n",
      "       [[1281120.,  751049.,  681327.],\n",
      "        [1281090.,  751248.,  681358.]],\n",
      "\n",
      "       [[1281090.,  751248.,  681358.],\n",
      "        [1281080.,  751399.,  681376.]],\n",
      "\n",
      "       [[1281080.,  751399.,  681376.],\n",
      "        [1281060.,  751542.,  681390.]],\n",
      "\n",
      "       [[1281060.,  751542.,  681390.],\n",
      "        [1281040.,  751734.,  681404.]],\n",
      "\n",
      "       [[1281040.,  751734.,  681404.],\n",
      "        [1281020.,  751896.,  681412.]],\n",
      "\n",
      "       [[1281020.,  751896.,  681412.],\n",
      "        [1281010.,  751957.,  681415.]],\n",
      "\n",
      "       [[1281010.,  751957.,  681415.],\n",
      "        [1280990.,  752110.,  681417.]],\n",
      "\n",
      "       [[1280990.,  752110.,  681417.],\n",
      "        [1280970.,  752284.,  681417.]],\n",
      "\n",
      "       [[1280970.,  752284.,  681417.],\n",
      "        [1280950.,  752459.,  681413.]],\n",
      "\n",
      "       [[1280950.,  752459.,  681413.],\n",
      "        [1280920.,  752604.,  681405.]],\n",
      "\n",
      "       [[1280920.,  752604.,  681405.],\n",
      "        [1280900.,  752717.,  681394.]],\n",
      "\n",
      "       [[1280900.,  752717.,  681394.],\n",
      "        [1280860.,  752854.,  681379.]],\n",
      "\n",
      "       [[1280860.,  752854.,  681379.],\n",
      "        [1280800.,  753003.,  681355.]],\n",
      "\n",
      "       [[1280800.,  753003.,  681355.],\n",
      "        [1280770.,  753091.,  681337.]],\n",
      "\n",
      "       [[1280770.,  753091.,  681337.],\n",
      "        [1280690.,  753247.,  681299.]],\n",
      "\n",
      "       [[1280690.,  753247.,  681299.],\n",
      "        [1280640.,  753343.,  681271.]],\n",
      "\n",
      "       [[1280640.,  753343.,  681271.],\n",
      "        [1280580.,  753452.,  681239.]],\n",
      "\n",
      "       [[1280580.,  753452.,  681239.],\n",
      "        [1280510.,  753566.,  681204.]],\n",
      "\n",
      "       [[1280510.,  753566.,  681204.],\n",
      "        [1280450.,  753665.,  681175.]],\n",
      "\n",
      "       [[1280450.,  753665.,  681175.],\n",
      "        [1280400.,  753756.,  681150.]],\n",
      "\n",
      "       [[1280400.,  753756.,  681150.],\n",
      "        [1280290.,  753960.,  681107.]],\n",
      "\n",
      "       [[1280290.,  753960.,  681107.],\n",
      "        [1280180.,  754225.,  681075.]],\n",
      "\n",
      "       [[1280180.,  754225.,  681075.],\n",
      "        [1280140.,  754356.,  681069.]],\n",
      "\n",
      "       [[1280140.,  754356.,  681069.],\n",
      "        [1280100.,  754471.,  681067.]],\n",
      "\n",
      "       [[1280100.,  754471.,  681067.],\n",
      "        [1280070.,  754594.,  681066.]],\n",
      "\n",
      "       [[1280070.,  754594.,  681066.],\n",
      "        [1280050.,  754754.,  681070.]],\n",
      "\n",
      "       [[1280050.,  754754.,  681070.],\n",
      "        [1280040.,  754804.,  681072.]],\n",
      "\n",
      "       [[1280040.,  754804.,  681072.],\n",
      "        [1280020.,  754994.,  681080.]],\n",
      "\n",
      "       [[1280020.,  754994.,  681080.],\n",
      "        [1280020.,  755151.,  681089.]],\n",
      "\n",
      "       [[1280020.,  755151.,  681089.],\n",
      "        [1280020.,  755262.,  681097.]],\n",
      "\n",
      "       [[1280020.,  755262.,  681097.],\n",
      "        [1280030.,  755380.,  681105.]],\n",
      "\n",
      "       [[1280030.,  755380.,  681105.],\n",
      "        [1280030.,  755516.,  681118.]],\n",
      "\n",
      "       [[1280030.,  755516.,  681118.],\n",
      "        [1280040.,  755571.,  681124.]],\n",
      "\n",
      "       [[1280040.,  755571.,  681124.],\n",
      "        [1280040.,  755712.,  681144.]],\n",
      "\n",
      "       [[1280040.,  755712.,  681144.],\n",
      "        [1280040.,  755976.,  681194.]],\n",
      "\n",
      "       [[1280040.,  755976.,  681194.],\n",
      "        [1280030.,  756197.,  681236.]],\n",
      "\n",
      "       [[1280030.,  756197.,  681236.],\n",
      "        [1279960.,  756480.,  681278.]],\n",
      "\n",
      "       [[1279960.,  756480.,  681278.],\n",
      "        [1279920.,  756645.,  681293.]]])])\n"
     ]
    },
    {
     "name": "stdout",
     "output_type": "stream",
     "text": [
      "base_final_widths = [654.74897002 775.50428077 762.39035516]\n",
      "overall_ais_width = 412.2976346545454\n",
      "ais_width = 730.8812019856949\n",
      "Adding the following branches as true axons: [ 0.  1.  2.  3.  4.  5.  6.  7.  8.  9. 10. 11. 12. 13. 14. 15. 16. 17.\n",
      " 18. 19. 20. 21. 22. 23. 24. 25. 26. 27. 28. 29. 30. 31. 32. 33. 34. 35.\n",
      " 36. 37. 38. 39.]\n",
      "curr_soma_angle = 166.01\n",
      "max_axon_angle = 168.00997725873188\n",
      "Changing to a better axon candidate\n",
      "\n",
      "\n",
      " --- Working on limb 4, candidate # 0\n",
      "0 out of 7 branches are axons\n",
      "Axon percentage = 0.0\n",
      "Not adding candidate no axon branches detected \n",
      "\n",
      "\n",
      " --- Working on limb 4, candidate # 1\n",
      "0 out of 5 branches are axons\n",
      "Axon percentage = 0.0\n",
      "Not adding candidate no axon branches detected \n",
      "\n",
      "\n",
      " --- Working on limb 7, candidate # 0\n",
      "0 out of 1 branches are axons\n",
      "Axon percentage = 0.0\n",
      "Not adding candidate no axon branches detected \n",
      "\n",
      "\n",
      " --- Working on limb 7, candidate # 1\n",
      "0 out of 1 branches are axons\n",
      "Axon percentage = 0.0\n",
      "Not adding candidate no axon branches detected \n",
      "\n",
      "\n",
      " --- Working on limb 9, candidate # 0\n",
      "0 out of 3 branches are axons\n",
      "Axon percentage = 0.0\n",
      "Not adding candidate no axon branches detected \n",
      "Using the best axon approach\n",
      "Using True\n",
      "Limb L3: Axon branches before dendritic path filter = [ 0.  1.  2.  3.  4.  5.  6.  7.  8.  9. 10. 11. 12. 13. 14. 15. 16. 17.\n",
      " 18. 19. 20. 21. 22. 23. 24. 25. 26. 27. 28. 29. 30. 31. 32. 33. 34. 35.\n",
      " 36. 37. 38. 39.]\n",
      "Limb L3: Axon branches AFTER dendritic path filter = [ 0.  1.  2.  3.  4.  5.  6.  7.  8.  9. 10. 11. 12. 13. 14. 15. 16. 17.\n",
      " 18. 19. 20. 21. 22. 23. 24. 25. 26. 27. 28. 29. 30. 31. 32. 33. 34. 35.\n",
      " 36. 37. 38. 39.]\n",
      "\n",
      "\n",
      "Part 4: final_true_axons = {'L3': array([ 0.,  1.,  2.,  3.,  4.,  5.,  6.,  7.,  8.,  9., 10., 11., 12.,\n",
      "       13., 14., 15., 16., 17., 18., 19., 20., 21., 22., 23., 24., 25.,\n",
      "       26., 27., 28., 29., 30., 31., 32., 33., 34., 35., 36., 37., 38.,\n",
      "       39.])}\n",
      "\n",
      "--- Working on filter 0:\n",
      "function = dendrite_on_axon_merges\n",
      "function __name__ = filter_away_dendrite_on_axon_merges\n",
      "function arguments = {'use_pre_existing_axon_labels': True}\n",
      "\n",
      "\n",
      "\n",
      "\n",
      "\n",
      " ---- Total time for applying filter: 1.5265073776245117 -----\n",
      "Starting axon branch was the starting node so using border vertices and NOT computing upstream branch\n",
      "upstream_node_to_axon_starting_branch = None\n",
      "root_curr = [1282627.   736734.3  679797.8]\n",
      "Time for preparing soma vertices and root: 0.0004761219024658203\n",
      "invalidation_d = 2000\n",
      "cc_vertex_thresh = 10\n"
     ]
    },
    {
     "name": "stderr",
     "output_type": "stream",
     "text": [
      "\r",
      "  0%|          | 0/1 [00:00<?, ?it/s]"
     ]
    },
    {
     "data": {
      "application/vnd.jupyter.widget-view+json": {
       "model_id": "ce969b8e583f4654b7b75efdc05c4020",
       "version_major": 2,
       "version_minor": 0
      },
      "text/plain": [
       "  0%|          | 0/101729 [00:00<?, ?it/s]"
      ]
     },
     "metadata": {},
     "output_type": "display_data"
    },
    {
     "name": "stderr",
     "output_type": "stream",
     "text": [
      "100%|██████████| 1/1 [00:08<00:00,  8.18s/it]\n"
     ]
    },
    {
     "name": "stdout",
     "output_type": "stream",
     "text": [
      "meshparty_segment_size = 100\n",
      "Time for 1st pass MP skeletonization: 10.686033725738525\n",
      "branches_touching_root = [14]\n",
      "combining close nodes\n",
      "combine_threshold = 1300\n",
      "length of Graph = 19638\n",
      "After combining close endpoints max(kept_branches_idx) = 143, len(kept_branches_idx) = 130\n",
      "empty_indices % = 0.0\n",
      " conflict_indices % = 0.019456466836355713\n"
     ]
    },
    {
     "data": {
      "application/vnd.jupyter.widget-view+json": {
       "model_id": "396dd9de391d43a2aad8b76aa36aff25",
       "version_major": 2,
       "version_minor": 0
      },
      "text/plain": [
       "  0%|          | 0/56 [00:00<?, ?it/s]"
      ]
     },
     "metadata": {},
     "output_type": "display_data"
    },
    {
     "name": "stdout",
     "output_type": "stream",
     "text": [
      "AFTER face_lookup_resolved_test\n"
     ]
    },
    {
     "data": {
      "application/vnd.jupyter.widget-view+json": {
       "model_id": "f63f686123874c8e9b899eaa76338171",
       "version_major": 2,
       "version_minor": 0
      },
      "text/plain": [
       "  0%|          | 0/130 [00:00<?, ?it/s]"
      ]
     },
     "metadata": {},
     "output_type": "display_data"
    },
    {
     "name": "stdout",
     "output_type": "stream",
     "text": [
      "Decomposing first pass: 40.041481018066406\n",
      "Only Using MeshParty Skeletonization and Mesh Correspondence\n",
      "Another print\n",
      "Divinding into MP and MAP pieces: 0.0001881122589111328\n",
      "Total time for MAP sublimb processing 5.9604644775390625e-06\n",
      "---- Working on MP Decomposition #0 ----\n",
      "Using Quicker soma_to_piece_touching_vertices because no MAP and only one sublimb_mesh piece \n",
      "MP filtering soma verts: 0.00028443336486816406\n",
      "Fixing Possible Soma Extension Branch for Sublimb 0\n",
      "Total time for mesh KDTree = 0.2401261329650879\n",
      "sbv[0].reshape(-1,3) = [[1282627.   736734.3  679797.8]]\n",
      "closest_sk_pt_coord BEFORE = [1282679.28150759  737232.01912115  678621.67895946]\n",
      "current_skeleton.shape = (378, 2, 3)\n",
      "node_for_stitch = 303: [1282679.28150759  737232.01912115  678621.67895946]\n",
      "node_for_stitch AFTER = 303: [1282679.28150759  737232.01912115  678621.67895946]\n",
      "possible_node_loc = [  0 233 312 360 378]\n",
      "possible_node_loc AFTER = [  0 233 312 360 378]\n",
      "curr_shortest_path = [303, 335.0, 354.0, 357.0, 364.0, 360.0]\n",
      "Current stitch point was not a branch or endpoint, shortest_path_length to one = 753.8265475461544\n",
      "Changing the stitch point becasue the distance to end or branch node was 753.8265475461544\n",
      "New stitch point has degree 1\n",
      "change_status for create soma extending pieces = True\n",
      "closest_sk_pt_coord AFTER = [1282906.58074568  737380.33452318  678359.16024911]\n",
      "skipping soma 0 because closest skeleton node was already end node\n",
      "endpoints_must_keep = {0: array([[1282906.58074568,  737380.33452318,  678359.16024911]])}\n",
      "match_sk_branches = [129]\n",
      "The new branch info was none so skipping \n",
      "\n",
      "No soma extending branch was added for this sublimb even though it had a soma border (means they already existed)\n",
      "MP (because soma touching verts) soma extension add: 12.198988676071167\n",
      "There were not both MAP and MP pieces so skipping the stitch resolving phase\n",
      "Time for decomp of Limb = 64.5593273639679\n",
      "Number of matching vertices = 44\n",
      "Only one endpoint after filtering away the endpoints that are not on the skeleton\n",
      "Using Distance measure skeletal_distance\n",
      "endpoints_must_keep = [[1282906.58074568  737380.33452318  678359.16024911]]\n",
      "Number of end_nodes BEFORE filtering = 74\n",
      "all_single_nodes_to_eliminate = [36]\n"
     ]
    },
    {
     "data": {
      "application/vnd.jupyter.widget-view+json": {
       "model_id": "6acda1ae94e94be3b2a0707d61b73148",
       "version_major": 2,
       "version_minor": 0
      },
      "text/plain": [
       "  0%|          | 0/14 [00:00<?, ?it/s]"
      ]
     },
     "metadata": {},
     "output_type": "display_data"
    },
    {
     "name": "stdout",
     "output_type": "stream",
     "text": [
      "Removed 14 skeletal branches\n"
     ]
    },
    {
     "data": {
      "application/vnd.jupyter.widget-view+json": {
       "model_id": "412b4f66cd9a498796171384ba3c6951",
       "version_major": 2,
       "version_minor": 0
      },
      "text/plain": [
       "  0%|          | 0/130 [00:00<?, ?it/s]"
      ]
     },
     "metadata": {},
     "output_type": "display_data"
    },
    {
     "name": "stdout",
     "output_type": "stream",
     "text": [
      "202981 202982\n",
      "For marked faces: None\n",
      "empty_indices % = 0.0051088273837089\n",
      " conflict_indices % = 0.0\n"
     ]
    },
    {
     "data": {
      "application/vnd.jupyter.widget-view+json": {
       "model_id": "7144f2f248fe4d1d9b82da42f929c3b9",
       "version_major": 2,
       "version_minor": 0
      },
      "text/plain": [
       "  0%|          | 0/3 [00:00<?, ?it/s]"
      ]
     },
     "metadata": {},
     "output_type": "display_data"
    },
    {
     "name": "stdout",
     "output_type": "stream",
     "text": [
      "AFTER face_lookup_resolved_test\n"
     ]
    },
    {
     "data": {
      "application/vnd.jupyter.widget-view+json": {
       "model_id": "f0c5dfff7542494b91d213e90afb7e0f",
       "version_major": 2,
       "version_minor": 0
      },
      "text/plain": [
       "  0%|          | 0/105 [00:00<?, ?it/s]"
      ]
     },
     "metadata": {},
     "output_type": "display_data"
    },
    {
     "name": "stdout",
     "output_type": "stream",
     "text": [
      "Limb Correspondence before stitching = 105\n",
      "Limb Correspondence AFTER stitching = 105\n",
      "Upstream node was None so don't have to adjust\n",
      "concept_network_dict = {0: [<networkx_utils.GraphOrderedEdges object at 0x7f03112fba20>]}\n",
      "Assigning the old width calculation because no valid new widths\n",
      "Assigning the old width calculation because no valid new widths\n",
      "Assigning the old width calculation because no valid new widths\n",
      "\n",
      "\n",
      "----Working on seperate_graph 0----\n",
      "\n",
      "\n",
      "---------Working on soma_idx = 0, soma_group_idx 0, endpt = [1282906.58074568  737380.33452318  678359.16024911]---------\n",
      "Starting_edge inside branches_to_conept = [[1282906.58074568  737380.33452318  678359.16024911]\n",
      " [1283025.30176384  737528.79689206  678322.95254955]]\n",
      "At the start, starting_node (in terms of the skeleton, that shouldn't match the starting edge) = [57]\n",
      "printing out current edge:\n",
      "[[1282906.58074568  737380.33452318  678359.16024911]\n",
      " [1283025.30176384  737528.79689206  678322.95254955]]\n",
      "edge_endpoints_to_process was empty so exiting loop after 105 iterations\n",
      "starting_node in concept map (that should match the starting edge) = 60\n",
      "Total time for branches to concept conversion = 1.7805192470550537\n",
      "\n",
      "Done generating concept network \n",
      "\n",
      "\n"
     ]
    },
    {
     "data": {
      "application/vnd.jupyter.widget-view+json": {
       "model_id": "2d8337122fb845229a71bfb60e1e97bf",
       "version_major": 2,
       "version_minor": 0
      },
      "text/plain": [
       "  0%|          | 0/75 [00:00<?, ?it/s]"
      ]
     },
     "metadata": {},
     "output_type": "display_data"
    },
    {
     "data": {
      "application/vnd.jupyter.widget-view+json": {
       "model_id": "73e5f18a6b8541b8b6b28bc160e0f8cb",
       "version_major": 2,
       "version_minor": 0
      },
      "text/plain": [
       "  0%|          | 0/5 [00:00<?, ?it/s]"
      ]
     },
     "metadata": {},
     "output_type": "display_data"
    },
    {
     "data": {
      "application/vnd.jupyter.widget-view+json": {
       "model_id": "2b6a35fcdd4d4442a186ededa12f747a",
       "version_major": 2,
       "version_minor": 0
      },
      "text/plain": [
       "  0%|          | 0/16 [00:00<?, ?it/s]"
      ]
     },
     "metadata": {},
     "output_type": "display_data"
    },
    {
     "data": {
      "application/vnd.jupyter.widget-view+json": {
       "model_id": "da0d5c2903c2476ba488957ed94dad2d",
       "version_major": 2,
       "version_minor": 0
      },
      "text/plain": [
       "  0%|          | 0/11 [00:00<?, ?it/s]"
      ]
     },
     "metadata": {},
     "output_type": "display_data"
    },
    {
     "data": {
      "application/vnd.jupyter.widget-view+json": {
       "model_id": "0b8be809811a464f96bb80b5b752b091",
       "version_major": 2,
       "version_minor": 0
      },
      "text/plain": [
       "  0%|          | 0/9 [00:00<?, ?it/s]"
      ]
     },
     "metadata": {},
     "output_type": "display_data"
    },
    {
     "data": {
      "application/vnd.jupyter.widget-view+json": {
       "model_id": "07848acdf34a48e8a1eac5228c4e48d6",
       "version_major": 2,
       "version_minor": 0
      },
      "text/plain": [
       "  0%|          | 0/9 [00:00<?, ?it/s]"
      ]
     },
     "metadata": {},
     "output_type": "display_data"
    },
    {
     "data": {
      "application/vnd.jupyter.widget-view+json": {
       "model_id": "bb1370c3df3d4fe8bb99edcaa9596ec6",
       "version_major": 2,
       "version_minor": 0
      },
      "text/plain": [
       "  0%|          | 0/5 [00:00<?, ?it/s]"
      ]
     },
     "metadata": {},
     "output_type": "display_data"
    },
    {
     "data": {
      "application/vnd.jupyter.widget-view+json": {
       "model_id": "9e225f4ab5aa44e0b690090b2fe41e3b",
       "version_major": 2,
       "version_minor": 0
      },
      "text/plain": [
       "  0%|          | 0/8 [00:00<?, ?it/s]"
      ]
     },
     "metadata": {},
     "output_type": "display_data"
    },
    {
     "data": {
      "application/vnd.jupyter.widget-view+json": {
       "model_id": "b6596b630adc447a983e952623e2e6ab",
       "version_major": 2,
       "version_minor": 0
      },
      "text/plain": [
       "  0%|          | 0/4 [00:00<?, ?it/s]"
      ]
     },
     "metadata": {},
     "output_type": "display_data"
    },
    {
     "data": {
      "application/vnd.jupyter.widget-view+json": {
       "model_id": "57a7cd8c1a84475aba27fed3abd3bc0c",
       "version_major": 2,
       "version_minor": 0
      },
      "text/plain": [
       "  0%|          | 0/5 [00:00<?, ?it/s]"
      ]
     },
     "metadata": {},
     "output_type": "display_data"
    },
    {
     "data": {
      "application/vnd.jupyter.widget-view+json": {
       "model_id": "7ab42a6be4e24ce782cbe0df18a33d83",
       "version_major": 2,
       "version_minor": 0
      },
      "text/plain": [
       "  0%|          | 0/36 [00:00<?, ?it/s]"
      ]
     },
     "metadata": {},
     "output_type": "display_data"
    },
    {
     "data": {
      "application/vnd.jupyter.widget-view+json": {
       "model_id": "1b59b47327e742828a7f8da5ee4f002e",
       "version_major": 2,
       "version_minor": 0
      },
      "text/plain": [
       "  0%|          | 0/15 [00:00<?, ?it/s]"
      ]
     },
     "metadata": {},
     "output_type": "display_data"
    },
    {
     "data": {
      "application/vnd.jupyter.widget-view+json": {
       "model_id": "1cbca6813bc146cc8bac1e360f73a8a4",
       "version_major": 2,
       "version_minor": 0
      },
      "text/plain": [
       "  0%|          | 0/6 [00:00<?, ?it/s]"
      ]
     },
     "metadata": {},
     "output_type": "display_data"
    },
    {
     "data": {
      "application/vnd.jupyter.widget-view+json": {
       "model_id": "df3506deda7a4d7a927177fb2521ab40",
       "version_major": 2,
       "version_minor": 0
      },
      "text/plain": [
       "  0%|          | 0/3 [00:00<?, ?it/s]"
      ]
     },
     "metadata": {},
     "output_type": "display_data"
    },
    {
     "data": {
      "application/vnd.jupyter.widget-view+json": {
       "model_id": "49e4d32dc2614027a6d16f3f4d6ac27c",
       "version_major": 2,
       "version_minor": 0
      },
      "text/plain": [
       "  0%|          | 0/7 [00:00<?, ?it/s]"
      ]
     },
     "metadata": {},
     "output_type": "display_data"
    },
    {
     "data": {
      "application/vnd.jupyter.widget-view+json": {
       "model_id": "5ba75eefa8ad40d1b2690eae8ad501e1",
       "version_major": 2,
       "version_minor": 0
      },
      "text/plain": [
       "  0%|          | 0/8 [00:00<?, ?it/s]"
      ]
     },
     "metadata": {},
     "output_type": "display_data"
    },
    {
     "data": {
      "application/vnd.jupyter.widget-view+json": {
       "model_id": "a48c78bf031d48e2b4569af02b4bac47",
       "version_major": 2,
       "version_minor": 0
      },
      "text/plain": [
       "  0%|          | 0/2 [00:00<?, ?it/s]"
      ]
     },
     "metadata": {},
     "output_type": "display_data"
    },
    {
     "data": {
      "application/vnd.jupyter.widget-view+json": {
       "model_id": "f1cdae3f9d0448febf6fb2e24ea19c4c",
       "version_major": 2,
       "version_minor": 0
      },
      "text/plain": [
       "  0%|          | 0/49 [00:00<?, ?it/s]"
      ]
     },
     "metadata": {},
     "output_type": "display_data"
    },
    {
     "data": {
      "application/vnd.jupyter.widget-view+json": {
       "model_id": "a015ba4f2a114812b39d15755499f5a1",
       "version_major": 2,
       "version_minor": 0
      },
      "text/plain": [
       "  0%|          | 0/7 [00:00<?, ?it/s]"
      ]
     },
     "metadata": {},
     "output_type": "display_data"
    },
    {
     "data": {
      "application/vnd.jupyter.widget-view+json": {
       "model_id": "26dd4c2d47f54bec8a8c982fdc970a22",
       "version_major": 2,
       "version_minor": 0
      },
      "text/plain": [
       "  0%|          | 0/12 [00:00<?, ?it/s]"
      ]
     },
     "metadata": {},
     "output_type": "display_data"
    },
    {
     "data": {
      "application/vnd.jupyter.widget-view+json": {
       "model_id": "68977a5e81db4b13bb9253a8812272f0",
       "version_major": 2,
       "version_minor": 0
      },
      "text/plain": [
       "  0%|          | 0/5 [00:00<?, ?it/s]"
      ]
     },
     "metadata": {},
     "output_type": "display_data"
    },
    {
     "data": {
      "application/vnd.jupyter.widget-view+json": {
       "model_id": "bc9727a32f034b288805228190f9cf19",
       "version_major": 2,
       "version_minor": 0
      },
      "text/plain": [
       "  0%|          | 0/22 [00:00<?, ?it/s]"
      ]
     },
     "metadata": {},
     "output_type": "display_data"
    },
    {
     "data": {
      "application/vnd.jupyter.widget-view+json": {
       "model_id": "cff5ae3a83ef4309829322da85ff0d87",
       "version_major": 2,
       "version_minor": 0
      },
      "text/plain": [
       "  0%|          | 0/34 [00:00<?, ?it/s]"
      ]
     },
     "metadata": {},
     "output_type": "display_data"
    },
    {
     "data": {
      "application/vnd.jupyter.widget-view+json": {
       "model_id": "887f72eeaec0441ab000419e175fc950",
       "version_major": 2,
       "version_minor": 0
      },
      "text/plain": [
       "  0%|          | 0/9 [00:00<?, ?it/s]"
      ]
     },
     "metadata": {},
     "output_type": "display_data"
    },
    {
     "data": {
      "application/vnd.jupyter.widget-view+json": {
       "model_id": "147fb7f241f148a793375dd7be9c5921",
       "version_major": 2,
       "version_minor": 0
      },
      "text/plain": [
       "  0%|          | 0/3 [00:00<?, ?it/s]"
      ]
     },
     "metadata": {},
     "output_type": "display_data"
    },
    {
     "data": {
      "application/vnd.jupyter.widget-view+json": {
       "model_id": "951a01adb27b4f5fb4e2b425a00a4865",
       "version_major": 2,
       "version_minor": 0
      },
      "text/plain": [
       "  0%|          | 0/4 [00:00<?, ?it/s]"
      ]
     },
     "metadata": {},
     "output_type": "display_data"
    },
    {
     "data": {
      "application/vnd.jupyter.widget-view+json": {
       "model_id": "ed28454c4d53408693b41dcc89ff30fe",
       "version_major": 2,
       "version_minor": 0
      },
      "text/plain": [
       "  0%|          | 0/9 [00:00<?, ?it/s]"
      ]
     },
     "metadata": {},
     "output_type": "display_data"
    },
    {
     "data": {
      "application/vnd.jupyter.widget-view+json": {
       "model_id": "f43216297bae4c4885321767601fd922",
       "version_major": 2,
       "version_minor": 0
      },
      "text/plain": [
       "  0%|          | 0/6 [00:00<?, ?it/s]"
      ]
     },
     "metadata": {},
     "output_type": "display_data"
    },
    {
     "data": {
      "application/vnd.jupyter.widget-view+json": {
       "model_id": "998dca1d167247eab3dc549ad652083b",
       "version_major": 2,
       "version_minor": 0
      },
      "text/plain": [
       "  0%|          | 0/32 [00:00<?, ?it/s]"
      ]
     },
     "metadata": {},
     "output_type": "display_data"
    },
    {
     "data": {
      "application/vnd.jupyter.widget-view+json": {
       "model_id": "4931f2a529544dddbc4d1e0e7feb40c2",
       "version_major": 2,
       "version_minor": 0
      },
      "text/plain": [
       "  0%|          | 0/7 [00:00<?, ?it/s]"
      ]
     },
     "metadata": {},
     "output_type": "display_data"
    },
    {
     "data": {
      "application/vnd.jupyter.widget-view+json": {
       "model_id": "0a7896040bde46408534f7fc563d9f8a",
       "version_major": 2,
       "version_minor": 0
      },
      "text/plain": [
       "  0%|          | 0/10 [00:00<?, ?it/s]"
      ]
     },
     "metadata": {},
     "output_type": "display_data"
    },
    {
     "data": {
      "application/vnd.jupyter.widget-view+json": {
       "model_id": "a0860df9703044fab51be4295bda42b2",
       "version_major": 2,
       "version_minor": 0
      },
      "text/plain": [
       "  0%|          | 0/5 [00:00<?, ?it/s]"
      ]
     },
     "metadata": {},
     "output_type": "display_data"
    },
    {
     "data": {
      "application/vnd.jupyter.widget-view+json": {
       "model_id": "d41e2da673e346a6a0729733a2eb511b",
       "version_major": 2,
       "version_minor": 0
      },
      "text/plain": [
       "  0%|          | 0/63 [00:00<?, ?it/s]"
      ]
     },
     "metadata": {},
     "output_type": "display_data"
    },
    {
     "data": {
      "application/vnd.jupyter.widget-view+json": {
       "model_id": "0750fd1e5b7c4c82894440529ff2bb43",
       "version_major": 2,
       "version_minor": 0
      },
      "text/plain": [
       "  0%|          | 0/29 [00:00<?, ?it/s]"
      ]
     },
     "metadata": {},
     "output_type": "display_data"
    },
    {
     "data": {
      "application/vnd.jupyter.widget-view+json": {
       "model_id": "bf2d06db76c247f1ab05e55ab927e751",
       "version_major": 2,
       "version_minor": 0
      },
      "text/plain": [
       "  0%|          | 0/7 [00:00<?, ?it/s]"
      ]
     },
     "metadata": {},
     "output_type": "display_data"
    },
    {
     "data": {
      "application/vnd.jupyter.widget-view+json": {
       "model_id": "a33b9a1a66cf42a593b5a0469cbfdcd8",
       "version_major": 2,
       "version_minor": 0
      },
      "text/plain": [
       "  0%|          | 0/10 [00:00<?, ?it/s]"
      ]
     },
     "metadata": {},
     "output_type": "display_data"
    },
    {
     "data": {
      "application/vnd.jupyter.widget-view+json": {
       "model_id": "987455e4dd2c44768d96258bc05ec6e7",
       "version_major": 2,
       "version_minor": 0
      },
      "text/plain": [
       "  0%|          | 0/18 [00:00<?, ?it/s]"
      ]
     },
     "metadata": {},
     "output_type": "display_data"
    },
    {
     "data": {
      "application/vnd.jupyter.widget-view+json": {
       "model_id": "d792db8bcfb24875a46c4d9c37dbaf7c",
       "version_major": 2,
       "version_minor": 0
      },
      "text/plain": [
       "  0%|          | 0/29 [00:00<?, ?it/s]"
      ]
     },
     "metadata": {},
     "output_type": "display_data"
    },
    {
     "data": {
      "application/vnd.jupyter.widget-view+json": {
       "model_id": "7e01c3d9bf88467eb68772166232d3c4",
       "version_major": 2,
       "version_minor": 0
      },
      "text/plain": [
       "  0%|          | 0/36 [00:00<?, ?it/s]"
      ]
     },
     "metadata": {},
     "output_type": "display_data"
    },
    {
     "data": {
      "application/vnd.jupyter.widget-view+json": {
       "model_id": "3ef290d71a5f4bde8dfe2a82e6376f2d",
       "version_major": 2,
       "version_minor": 0
      },
      "text/plain": [
       "  0%|          | 0/11 [00:00<?, ?it/s]"
      ]
     },
     "metadata": {},
     "output_type": "display_data"
    },
    {
     "data": {
      "application/vnd.jupyter.widget-view+json": {
       "model_id": "804c725fc8f34d39a749e7aafd94a2e2",
       "version_major": 2,
       "version_minor": 0
      },
      "text/plain": [
       "  0%|          | 0/22 [00:00<?, ?it/s]"
      ]
     },
     "metadata": {},
     "output_type": "display_data"
    },
    {
     "data": {
      "application/vnd.jupyter.widget-view+json": {
       "model_id": "a6d7862b538e4ad49215375b8b429599",
       "version_major": 2,
       "version_minor": 0
      },
      "text/plain": [
       "  0%|          | 0/8 [00:00<?, ?it/s]"
      ]
     },
     "metadata": {},
     "output_type": "display_data"
    },
    {
     "data": {
      "application/vnd.jupyter.widget-view+json": {
       "model_id": "3cf0cea0440749778e1546237188e89a",
       "version_major": 2,
       "version_minor": 0
      },
      "text/plain": [
       "  0%|          | 0/8 [00:00<?, ?it/s]"
      ]
     },
     "metadata": {},
     "output_type": "display_data"
    },
    {
     "data": {
      "application/vnd.jupyter.widget-view+json": {
       "model_id": "538dad1ba5ba429c97ad37c9b8ffd88d",
       "version_major": 2,
       "version_minor": 0
      },
      "text/plain": [
       "  0%|          | 0/13 [00:00<?, ?it/s]"
      ]
     },
     "metadata": {},
     "output_type": "display_data"
    },
    {
     "data": {
      "application/vnd.jupyter.widget-view+json": {
       "model_id": "681f6803e4db4f79a4c1b71ed8820a65",
       "version_major": 2,
       "version_minor": 0
      },
      "text/plain": [
       "  0%|          | 0/10 [00:00<?, ?it/s]"
      ]
     },
     "metadata": {},
     "output_type": "display_data"
    },
    {
     "data": {
      "application/vnd.jupyter.widget-view+json": {
       "model_id": "cab12200fbfe42d3ae3a15b38768e311",
       "version_major": 2,
       "version_minor": 0
      },
      "text/plain": [
       "  0%|          | 0/5 [00:00<?, ?it/s]"
      ]
     },
     "metadata": {},
     "output_type": "display_data"
    },
    {
     "data": {
      "application/vnd.jupyter.widget-view+json": {
       "model_id": "ba99c788b10a486e918bd8b2d09bf302",
       "version_major": 2,
       "version_minor": 0
      },
      "text/plain": [
       "  0%|          | 0/5 [00:00<?, ?it/s]"
      ]
     },
     "metadata": {},
     "output_type": "display_data"
    },
    {
     "data": {
      "application/vnd.jupyter.widget-view+json": {
       "model_id": "17332bfc7f504568a21e21bf262408c9",
       "version_major": 2,
       "version_minor": 0
      },
      "text/plain": [
       "  0%|          | 0/5 [00:00<?, ?it/s]"
      ]
     },
     "metadata": {},
     "output_type": "display_data"
    },
    {
     "data": {
      "application/vnd.jupyter.widget-view+json": {
       "model_id": "c5d6659fa37042e19818d4b64f77e684",
       "version_major": 2,
       "version_minor": 0
      },
      "text/plain": [
       "  0%|          | 0/8 [00:00<?, ?it/s]"
      ]
     },
     "metadata": {},
     "output_type": "display_data"
    },
    {
     "data": {
      "application/vnd.jupyter.widget-view+json": {
       "model_id": "5281de60d34249ccad7345018694daea",
       "version_major": 2,
       "version_minor": 0
      },
      "text/plain": [
       "  0%|          | 0/16 [00:00<?, ?it/s]"
      ]
     },
     "metadata": {},
     "output_type": "display_data"
    },
    {
     "data": {
      "application/vnd.jupyter.widget-view+json": {
       "model_id": "70c2dfd6ba314a2abe619fea7aa71b49",
       "version_major": 2,
       "version_minor": 0
      },
      "text/plain": [
       "  0%|          | 0/12 [00:00<?, ?it/s]"
      ]
     },
     "metadata": {},
     "output_type": "display_data"
    },
    {
     "data": {
      "application/vnd.jupyter.widget-view+json": {
       "model_id": "cc114ed45fe848b3be0c6f9635709d1d",
       "version_major": 2,
       "version_minor": 0
      },
      "text/plain": [
       "  0%|          | 0/8 [00:00<?, ?it/s]"
      ]
     },
     "metadata": {},
     "output_type": "display_data"
    },
    {
     "data": {
      "application/vnd.jupyter.widget-view+json": {
       "model_id": "b47057b9b4964d22b4d819ef55eb153f",
       "version_major": 2,
       "version_minor": 0
      },
      "text/plain": [
       "  0%|          | 0/17 [00:00<?, ?it/s]"
      ]
     },
     "metadata": {},
     "output_type": "display_data"
    },
    {
     "data": {
      "application/vnd.jupyter.widget-view+json": {
       "model_id": "ef23488e752e4c8dbb3ede7855b7f653",
       "version_major": 2,
       "version_minor": 0
      },
      "text/plain": [
       "  0%|          | 0/7 [00:00<?, ?it/s]"
      ]
     },
     "metadata": {},
     "output_type": "display_data"
    },
    {
     "data": {
      "application/vnd.jupyter.widget-view+json": {
       "model_id": "f6db04b0e5e341598f98ddbc0dd3ec44",
       "version_major": 2,
       "version_minor": 0
      },
      "text/plain": [
       "  0%|          | 0/9 [00:00<?, ?it/s]"
      ]
     },
     "metadata": {},
     "output_type": "display_data"
    },
    {
     "data": {
      "application/vnd.jupyter.widget-view+json": {
       "model_id": "cdb4e5028e544886932e6870e16884b3",
       "version_major": 2,
       "version_minor": 0
      },
      "text/plain": [
       "  0%|          | 0/9 [00:00<?, ?it/s]"
      ]
     },
     "metadata": {},
     "output_type": "display_data"
    },
    {
     "data": {
      "application/vnd.jupyter.widget-view+json": {
       "model_id": "3eed2078dcb646c0b56934fd73f1ff43",
       "version_major": 2,
       "version_minor": 0
      },
      "text/plain": [
       "  0%|          | 0/16 [00:00<?, ?it/s]"
      ]
     },
     "metadata": {},
     "output_type": "display_data"
    },
    {
     "data": {
      "application/vnd.jupyter.widget-view+json": {
       "model_id": "5987bf5cc0b94d298087d2cc217627fb",
       "version_major": 2,
       "version_minor": 0
      },
      "text/plain": [
       "  0%|          | 0/5 [00:00<?, ?it/s]"
      ]
     },
     "metadata": {},
     "output_type": "display_data"
    },
    {
     "data": {
      "application/vnd.jupyter.widget-view+json": {
       "model_id": "1622b55e23584c29a0ab30d607031fa0",
       "version_major": 2,
       "version_minor": 0
      },
      "text/plain": [
       "  0%|          | 0/2 [00:00<?, ?it/s]"
      ]
     },
     "metadata": {},
     "output_type": "display_data"
    },
    {
     "data": {
      "application/vnd.jupyter.widget-view+json": {
       "model_id": "312082e9b24f43b3a39cf88f30f17b13",
       "version_major": 2,
       "version_minor": 0
      },
      "text/plain": [
       "  0%|          | 0/10 [00:00<?, ?it/s]"
      ]
     },
     "metadata": {},
     "output_type": "display_data"
    },
    {
     "data": {
      "application/vnd.jupyter.widget-view+json": {
       "model_id": "3ad8a9fdecef4e65a4691ce3d4e501c1",
       "version_major": 2,
       "version_minor": 0
      },
      "text/plain": [
       "  0%|          | 0/13 [00:00<?, ?it/s]"
      ]
     },
     "metadata": {},
     "output_type": "display_data"
    },
    {
     "data": {
      "application/vnd.jupyter.widget-view+json": {
       "model_id": "88a77efec8414ae7ab5290acf9ccb5c5",
       "version_major": 2,
       "version_minor": 0
      },
      "text/plain": [
       "  0%|          | 0/8 [00:00<?, ?it/s]"
      ]
     },
     "metadata": {},
     "output_type": "display_data"
    },
    {
     "data": {
      "application/vnd.jupyter.widget-view+json": {
       "model_id": "8135bc40db924d15b81cacabc926c7b5",
       "version_major": 2,
       "version_minor": 0
      },
      "text/plain": [
       "  0%|          | 0/12 [00:00<?, ?it/s]"
      ]
     },
     "metadata": {},
     "output_type": "display_data"
    },
    {
     "data": {
      "application/vnd.jupyter.widget-view+json": {
       "model_id": "8e5f1b76690e43ac8a032b35b45f1970",
       "version_major": 2,
       "version_minor": 0
      },
      "text/plain": [
       "  0%|          | 0/6 [00:00<?, ?it/s]"
      ]
     },
     "metadata": {},
     "output_type": "display_data"
    },
    {
     "data": {
      "application/vnd.jupyter.widget-view+json": {
       "model_id": "4ad4bc6e6db54610af9f6e5f20692d07",
       "version_major": 2,
       "version_minor": 0
      },
      "text/plain": [
       "  0%|          | 0/16 [00:00<?, ?it/s]"
      ]
     },
     "metadata": {},
     "output_type": "display_data"
    },
    {
     "data": {
      "application/vnd.jupyter.widget-view+json": {
       "model_id": "fcd295a08fed4c3fb6767a306c9c5ed8",
       "version_major": 2,
       "version_minor": 0
      },
      "text/plain": [
       "  0%|          | 0/4 [00:00<?, ?it/s]"
      ]
     },
     "metadata": {},
     "output_type": "display_data"
    },
    {
     "data": {
      "application/vnd.jupyter.widget-view+json": {
       "model_id": "7f036678a1d847268827d8530f254b3b",
       "version_major": 2,
       "version_minor": 0
      },
      "text/plain": [
       "  0%|          | 0/10 [00:00<?, ?it/s]"
      ]
     },
     "metadata": {},
     "output_type": "display_data"
    },
    {
     "data": {
      "application/vnd.jupyter.widget-view+json": {
       "model_id": "74baa671a67e47e6826ea7b2fd7e7564",
       "version_major": 2,
       "version_minor": 0
      },
      "text/plain": [
       "  0%|          | 0/6 [00:00<?, ?it/s]"
      ]
     },
     "metadata": {},
     "output_type": "display_data"
    },
    {
     "data": {
      "application/vnd.jupyter.widget-view+json": {
       "model_id": "6d3f3be362ec4d47beb5331bce00ba14",
       "version_major": 2,
       "version_minor": 0
      },
      "text/plain": [
       "  0%|          | 0/5 [00:00<?, ?it/s]"
      ]
     },
     "metadata": {},
     "output_type": "display_data"
    },
    {
     "data": {
      "application/vnd.jupyter.widget-view+json": {
       "model_id": "7f57f75a1f604602b750878ccf70f8bd",
       "version_major": 2,
       "version_minor": 0
      },
      "text/plain": [
       "  0%|          | 0/20 [00:00<?, ?it/s]"
      ]
     },
     "metadata": {},
     "output_type": "display_data"
    },
    {
     "data": {
      "application/vnd.jupyter.widget-view+json": {
       "model_id": "858ffe40bbaf40f386bd52ee80f0aaa5",
       "version_major": 2,
       "version_minor": 0
      },
      "text/plain": [
       "  0%|          | 0/7 [00:00<?, ?it/s]"
      ]
     },
     "metadata": {},
     "output_type": "display_data"
    },
    {
     "data": {
      "application/vnd.jupyter.widget-view+json": {
       "model_id": "1cc85289c3f845fda9c953ed5914b6f2",
       "version_major": 2,
       "version_minor": 0
      },
      "text/plain": [
       "  0%|          | 0/11 [00:00<?, ?it/s]"
      ]
     },
     "metadata": {},
     "output_type": "display_data"
    },
    {
     "data": {
      "application/vnd.jupyter.widget-view+json": {
       "model_id": "0a137d6209c14cee8c208ea1026b489e",
       "version_major": 2,
       "version_minor": 0
      },
      "text/plain": [
       "  0%|          | 0/27 [00:00<?, ?it/s]"
      ]
     },
     "metadata": {},
     "output_type": "display_data"
    },
    {
     "data": {
      "application/vnd.jupyter.widget-view+json": {
       "model_id": "73ad6ad81f384d20a30089a0b288eca2",
       "version_major": 2,
       "version_minor": 0
      },
      "text/plain": [
       "  0%|          | 0/4 [00:00<?, ?it/s]"
      ]
     },
     "metadata": {},
     "output_type": "display_data"
    },
    {
     "data": {
      "application/vnd.jupyter.widget-view+json": {
       "model_id": "211d814b83c345478c3795d2927780e3",
       "version_major": 2,
       "version_minor": 0
      },
      "text/plain": [
       "  0%|          | 0/9 [00:00<?, ?it/s]"
      ]
     },
     "metadata": {},
     "output_type": "display_data"
    },
    {
     "data": {
      "application/vnd.jupyter.widget-view+json": {
       "model_id": "9f6956ca73b345a78317097af08fbd6c",
       "version_major": 2,
       "version_minor": 0
      },
      "text/plain": [
       "  0%|          | 0/5 [00:00<?, ?it/s]"
      ]
     },
     "metadata": {},
     "output_type": "display_data"
    },
    {
     "data": {
      "application/vnd.jupyter.widget-view+json": {
       "model_id": "302643faa5bd45c1b4ae920d26e2cefd",
       "version_major": 2,
       "version_minor": 0
      },
      "text/plain": [
       "  0%|          | 0/178 [00:00<?, ?it/s]"
      ]
     },
     "metadata": {},
     "output_type": "display_data"
    },
    {
     "data": {
      "application/vnd.jupyter.widget-view+json": {
       "model_id": "417998946c6144949afeda3f77ae711c",
       "version_major": 2,
       "version_minor": 0
      },
      "text/plain": [
       "  0%|          | 0/119 [00:00<?, ?it/s]"
      ]
     },
     "metadata": {},
     "output_type": "display_data"
    },
    {
     "data": {
      "application/vnd.jupyter.widget-view+json": {
       "model_id": "fe83f1747e46467e85dd911a8866a626",
       "version_major": 2,
       "version_minor": 0
      },
      "text/plain": [
       "  0%|          | 0/15 [00:00<?, ?it/s]"
      ]
     },
     "metadata": {},
     "output_type": "display_data"
    },
    {
     "data": {
      "application/vnd.jupyter.widget-view+json": {
       "model_id": "ad826b51bad8487895a410271629e6fc",
       "version_major": 2,
       "version_minor": 0
      },
      "text/plain": [
       "  0%|          | 0/21 [00:00<?, ?it/s]"
      ]
     },
     "metadata": {},
     "output_type": "display_data"
    },
    {
     "data": {
      "application/vnd.jupyter.widget-view+json": {
       "model_id": "70616be3c48d47e8a512bd71b56c6111",
       "version_major": 2,
       "version_minor": 0
      },
      "text/plain": [
       "  0%|          | 0/82 [00:00<?, ?it/s]"
      ]
     },
     "metadata": {},
     "output_type": "display_data"
    },
    {
     "data": {
      "application/vnd.jupyter.widget-view+json": {
       "model_id": "32f9a6cfa11f4c559391099b1fc94cda",
       "version_major": 2,
       "version_minor": 0
      },
      "text/plain": [
       "  0%|          | 0/105 [00:00<?, ?it/s]"
      ]
     },
     "metadata": {},
     "output_type": "display_data"
    },
    {
     "data": {
      "application/vnd.jupyter.widget-view+json": {
       "model_id": "86c6f049910d417ab8f95979922458e1",
       "version_major": 2,
       "version_minor": 0
      },
      "text/plain": [
       "  0%|          | 0/12 [00:00<?, ?it/s]"
      ]
     },
     "metadata": {},
     "output_type": "display_data"
    },
    {
     "data": {
      "application/vnd.jupyter.widget-view+json": {
       "model_id": "2f4d2e769d424c4cacaf9aaa910bca56",
       "version_major": 2,
       "version_minor": 0
      },
      "text/plain": [
       "  0%|          | 0/39 [00:00<?, ?it/s]"
      ]
     },
     "metadata": {},
     "output_type": "display_data"
    },
    {
     "data": {
      "application/vnd.jupyter.widget-view+json": {
       "model_id": "f4f18e3249a442a194a5a61c78de9e2f",
       "version_major": 2,
       "version_minor": 0
      },
      "text/plain": [
       "  0%|          | 0/100 [00:00<?, ?it/s]"
      ]
     },
     "metadata": {},
     "output_type": "display_data"
    },
    {
     "data": {
      "application/vnd.jupyter.widget-view+json": {
       "model_id": "888390e4ff624a12833ea9990160a4c6",
       "version_major": 2,
       "version_minor": 0
      },
      "text/plain": [
       "  0%|          | 0/13 [00:00<?, ?it/s]"
      ]
     },
     "metadata": {},
     "output_type": "display_data"
    },
    {
     "data": {
      "application/vnd.jupyter.widget-view+json": {
       "model_id": "e686fad2790741e799dd17f2c9b3b5a0",
       "version_major": 2,
       "version_minor": 0
      },
      "text/plain": [
       "  0%|          | 0/10 [00:00<?, ?it/s]"
      ]
     },
     "metadata": {},
     "output_type": "display_data"
    },
    {
     "data": {
      "application/vnd.jupyter.widget-view+json": {
       "model_id": "c11c2526d7704098acdf33688c00b3dc",
       "version_major": 2,
       "version_minor": 0
      },
      "text/plain": [
       "  0%|          | 0/11 [00:00<?, ?it/s]"
      ]
     },
     "metadata": {},
     "output_type": "display_data"
    },
    {
     "data": {
      "application/vnd.jupyter.widget-view+json": {
       "model_id": "2d9224119dcd4ab6b903ce9c0965f802",
       "version_major": 2,
       "version_minor": 0
      },
      "text/plain": [
       "  0%|          | 0/88 [00:00<?, ?it/s]"
      ]
     },
     "metadata": {},
     "output_type": "display_data"
    },
    {
     "data": {
      "application/vnd.jupyter.widget-view+json": {
       "model_id": "f434ee0d3d9e408c916db26177516e10",
       "version_major": 2,
       "version_minor": 0
      },
      "text/plain": [
       "  0%|          | 0/18 [00:00<?, ?it/s]"
      ]
     },
     "metadata": {},
     "output_type": "display_data"
    },
    {
     "data": {
      "application/vnd.jupyter.widget-view+json": {
       "model_id": "3394d3012898413ab355d39adb9827d4",
       "version_major": 2,
       "version_minor": 0
      },
      "text/plain": [
       "  0%|          | 0/29 [00:00<?, ?it/s]"
      ]
     },
     "metadata": {},
     "output_type": "display_data"
    },
    {
     "data": {
      "application/vnd.jupyter.widget-view+json": {
       "model_id": "9974cff651f74eb2b4fa3b5962c8ee59",
       "version_major": 2,
       "version_minor": 0
      },
      "text/plain": [
       "  0%|          | 0/14 [00:00<?, ?it/s]"
      ]
     },
     "metadata": {},
     "output_type": "display_data"
    },
    {
     "data": {
      "application/vnd.jupyter.widget-view+json": {
       "model_id": "268fa63a410941e981b2ffa63b2bbc90",
       "version_major": 2,
       "version_minor": 0
      },
      "text/plain": [
       "  0%|          | 0/43 [00:00<?, ?it/s]"
      ]
     },
     "metadata": {},
     "output_type": "display_data"
    },
    {
     "data": {
      "application/vnd.jupyter.widget-view+json": {
       "model_id": "3dd9019cf001418ea8946dc33c1226f9",
       "version_major": 2,
       "version_minor": 0
      },
      "text/plain": [
       "  0%|          | 0/11 [00:00<?, ?it/s]"
      ]
     },
     "metadata": {},
     "output_type": "display_data"
    },
    {
     "data": {
      "application/vnd.jupyter.widget-view+json": {
       "model_id": "5071279dbf4d4387a2f33f01de3c3b71",
       "version_major": 2,
       "version_minor": 0
      },
      "text/plain": [
       "  0%|          | 0/19 [00:00<?, ?it/s]"
      ]
     },
     "metadata": {},
     "output_type": "display_data"
    },
    {
     "data": {
      "application/vnd.jupyter.widget-view+json": {
       "model_id": "c2b37b6d817345118dcb0cf29c09bb55",
       "version_major": 2,
       "version_minor": 0
      },
      "text/plain": [
       "  0%|          | 0/22 [00:00<?, ?it/s]"
      ]
     },
     "metadata": {},
     "output_type": "display_data"
    },
    {
     "data": {
      "application/vnd.jupyter.widget-view+json": {
       "model_id": "afcb048741754b808c8f0b255b22a3c4",
       "version_major": 2,
       "version_minor": 0
      },
      "text/plain": [
       "  0%|          | 0/26 [00:00<?, ?it/s]"
      ]
     },
     "metadata": {},
     "output_type": "display_data"
    },
    {
     "data": {
      "application/vnd.jupyter.widget-view+json": {
       "model_id": "506997cd69d4457c921b2115602baf40",
       "version_major": 2,
       "version_minor": 0
      },
      "text/plain": [
       "  0%|          | 0/9 [00:00<?, ?it/s]"
      ]
     },
     "metadata": {},
     "output_type": "display_data"
    },
    {
     "data": {
      "application/vnd.jupyter.widget-view+json": {
       "model_id": "bdc0b67ff00842509a185e1c5bae0134",
       "version_major": 2,
       "version_minor": 0
      },
      "text/plain": [
       "  0%|          | 0/15 [00:00<?, ?it/s]"
      ]
     },
     "metadata": {},
     "output_type": "display_data"
    },
    {
     "data": {
      "application/vnd.jupyter.widget-view+json": {
       "model_id": "c8bf82c80aab49518b5da252c0693ff5",
       "version_major": 2,
       "version_minor": 0
      },
      "text/plain": [
       "  0%|          | 0/156 [00:00<?, ?it/s]"
      ]
     },
     "metadata": {},
     "output_type": "display_data"
    },
    {
     "data": {
      "application/vnd.jupyter.widget-view+json": {
       "model_id": "da0718afe0dc4f0796d8ca5f364c6bd2",
       "version_major": 2,
       "version_minor": 0
      },
      "text/plain": [
       "  0%|          | 0/25 [00:00<?, ?it/s]"
      ]
     },
     "metadata": {},
     "output_type": "display_data"
    },
    {
     "data": {
      "application/vnd.jupyter.widget-view+json": {
       "model_id": "beb2cae312204d909e75f652cb2a3cc1",
       "version_major": 2,
       "version_minor": 0
      },
      "text/plain": [
       "  0%|          | 0/19 [00:00<?, ?it/s]"
      ]
     },
     "metadata": {},
     "output_type": "display_data"
    },
    {
     "data": {
      "application/vnd.jupyter.widget-view+json": {
       "model_id": "8b23f7b468e44880872903b16d1fd37e",
       "version_major": 2,
       "version_minor": 0
      },
      "text/plain": [
       "  0%|          | 0/59 [00:00<?, ?it/s]"
      ]
     },
     "metadata": {},
     "output_type": "display_data"
    },
    {
     "data": {
      "application/vnd.jupyter.widget-view+json": {
       "model_id": "7b7c1d6fcb02408c9502732763d5ad1e",
       "version_major": 2,
       "version_minor": 0
      },
      "text/plain": [
       "  0%|          | 0/40 [00:00<?, ?it/s]"
      ]
     },
     "metadata": {},
     "output_type": "display_data"
    },
    {
     "data": {
      "application/vnd.jupyter.widget-view+json": {
       "model_id": "e6b6c269105241ef9536065f4ec6bb5e",
       "version_major": 2,
       "version_minor": 0
      },
      "text/plain": [
       "  0%|          | 0/208 [00:00<?, ?it/s]"
      ]
     },
     "metadata": {},
     "output_type": "display_data"
    },
    {
     "data": {
      "application/vnd.jupyter.widget-view+json": {
       "model_id": "5010386bad504f96a5347221b96f3464",
       "version_major": 2,
       "version_minor": 0
      },
      "text/plain": [
       "  0%|          | 0/32 [00:00<?, ?it/s]"
      ]
     },
     "metadata": {},
     "output_type": "display_data"
    },
    {
     "data": {
      "application/vnd.jupyter.widget-view+json": {
       "model_id": "13fce75656974c17959ba0111e27bd4f",
       "version_major": 2,
       "version_minor": 0
      },
      "text/plain": [
       "  0%|          | 0/77 [00:00<?, ?it/s]"
      ]
     },
     "metadata": {},
     "output_type": "display_data"
    },
    {
     "data": {
      "application/vnd.jupyter.widget-view+json": {
       "model_id": "2c537b93bcfc490f8755870c28c71449",
       "version_major": 2,
       "version_minor": 0
      },
      "text/plain": [
       "  0%|          | 0/16 [00:00<?, ?it/s]"
      ]
     },
     "metadata": {},
     "output_type": "display_data"
    },
    {
     "data": {
      "application/vnd.jupyter.widget-view+json": {
       "model_id": "af5e8086d4e04b41b0decf1b976d62c8",
       "version_major": 2,
       "version_minor": 0
      },
      "text/plain": [
       "  0%|          | 0/24 [00:00<?, ?it/s]"
      ]
     },
     "metadata": {},
     "output_type": "display_data"
    },
    {
     "data": {
      "application/vnd.jupyter.widget-view+json": {
       "model_id": "1a08fe9d0fba4278b9710a11eed1388d",
       "version_major": 2,
       "version_minor": 0
      },
      "text/plain": [
       "  0%|          | 0/116 [00:00<?, ?it/s]"
      ]
     },
     "metadata": {},
     "output_type": "display_data"
    },
    {
     "data": {
      "application/vnd.jupyter.widget-view+json": {
       "model_id": "96211f3b08124bd799a13f5d06e9ba3f",
       "version_major": 2,
       "version_minor": 0
      },
      "text/plain": [
       "  0%|          | 0/35 [00:00<?, ?it/s]"
      ]
     },
     "metadata": {},
     "output_type": "display_data"
    },
    {
     "data": {
      "application/vnd.jupyter.widget-view+json": {
       "model_id": "ef5f2b8b36cd4648b4f1a04261f8a01f",
       "version_major": 2,
       "version_minor": 0
      },
      "text/plain": [
       "  0%|          | 0/15 [00:00<?, ?it/s]"
      ]
     },
     "metadata": {},
     "output_type": "display_data"
    },
    {
     "data": {
      "application/vnd.jupyter.widget-view+json": {
       "model_id": "9ed4a686bfe54493bcbd834e10355b0e",
       "version_major": 2,
       "version_minor": 0
      },
      "text/plain": [
       "  0%|          | 0/31 [00:00<?, ?it/s]"
      ]
     },
     "metadata": {},
     "output_type": "display_data"
    },
    {
     "data": {
      "application/vnd.jupyter.widget-view+json": {
       "model_id": "de31e20cf5bb41a495b89e063bdce1c2",
       "version_major": 2,
       "version_minor": 0
      },
      "text/plain": [
       "  0%|          | 0/14 [00:00<?, ?it/s]"
      ]
     },
     "metadata": {},
     "output_type": "display_data"
    },
    {
     "data": {
      "application/vnd.jupyter.widget-view+json": {
       "model_id": "13781f52495e4cb6892af6c820d6be16",
       "version_major": 2,
       "version_minor": 0
      },
      "text/plain": [
       "  0%|          | 0/10 [00:00<?, ?it/s]"
      ]
     },
     "metadata": {},
     "output_type": "display_data"
    },
    {
     "data": {
      "application/vnd.jupyter.widget-view+json": {
       "model_id": "cd383569723a4fb096963b4a8a9a1ad9",
       "version_major": 2,
       "version_minor": 0
      },
      "text/plain": [
       "  0%|          | 0/216 [00:00<?, ?it/s]"
      ]
     },
     "metadata": {},
     "output_type": "display_data"
    },
    {
     "data": {
      "application/vnd.jupyter.widget-view+json": {
       "model_id": "a23e9b098764463680ab8e4654ad8775",
       "version_major": 2,
       "version_minor": 0
      },
      "text/plain": [
       "  0%|          | 0/30 [00:00<?, ?it/s]"
      ]
     },
     "metadata": {},
     "output_type": "display_data"
    },
    {
     "data": {
      "application/vnd.jupyter.widget-view+json": {
       "model_id": "f4dbf060ea374bd7945790771380fcbb",
       "version_major": 2,
       "version_minor": 0
      },
      "text/plain": [
       "  0%|          | 0/30 [00:00<?, ?it/s]"
      ]
     },
     "metadata": {},
     "output_type": "display_data"
    },
    {
     "data": {
      "application/vnd.jupyter.widget-view+json": {
       "model_id": "3e031e8fc3564736ac9c39561a647be8",
       "version_major": 2,
       "version_minor": 0
      },
      "text/plain": [
       "  0%|          | 0/41 [00:00<?, ?it/s]"
      ]
     },
     "metadata": {},
     "output_type": "display_data"
    },
    {
     "data": {
      "application/vnd.jupyter.widget-view+json": {
       "model_id": "54009638e23b437c99c7056093f6d61f",
       "version_major": 2,
       "version_minor": 0
      },
      "text/plain": [
       "  0%|          | 0/133 [00:00<?, ?it/s]"
      ]
     },
     "metadata": {},
     "output_type": "display_data"
    },
    {
     "data": {
      "application/vnd.jupyter.widget-view+json": {
       "model_id": "2594dce1cf0044dcb02b62514dab29e7",
       "version_major": 2,
       "version_minor": 0
      },
      "text/plain": [
       "  0%|          | 0/20 [00:00<?, ?it/s]"
      ]
     },
     "metadata": {},
     "output_type": "display_data"
    },
    {
     "data": {
      "application/vnd.jupyter.widget-view+json": {
       "model_id": "34eb13d78f5645bc8a78bde7c1acc191",
       "version_major": 2,
       "version_minor": 0
      },
      "text/plain": [
       "  0%|          | 0/57 [00:00<?, ?it/s]"
      ]
     },
     "metadata": {},
     "output_type": "display_data"
    },
    {
     "name": "stdout",
     "output_type": "stream",
     "text": [
      "Synapsse Results:\n",
      "Total Number of Synapses = 10012\n",
      "n_valid_syn_ids_presyn = 8\n",
      "n_errored_syn_ids_presyn = 164\n",
      "n_valid_syn_ids_postsyn = 9825\n",
      "n_errored_syn_ids_postsyn = 15\n",
      "Synapsse Results:\n",
      "Total Number of Synapses = 10012\n",
      "n_valid_syn_ids_presyn = 8\n",
      "n_errored_syn_ids_presyn = 164\n",
      "n_valid_syn_ids_postsyn = 9825\n",
      "n_errored_syn_ids_postsyn = 15\n"
     ]
    },
    {
     "data": {
      "application/vnd.jupyter.widget-view+json": {
       "model_id": "a0983f35d5854c4096a409191a542c31",
       "version_major": 2,
       "version_minor": 0
      },
      "text/plain": [
       "  0%|          | 0/26 [00:00<?, ?it/s]"
      ]
     },
     "metadata": {},
     "output_type": "display_data"
    },
    {
     "data": {
      "application/vnd.jupyter.widget-view+json": {
       "model_id": "4d661bf3e60840ed8c5e2eb2baa489f5",
       "version_major": 2,
       "version_minor": 0
      },
      "text/plain": [
       "  0%|          | 0/7 [00:00<?, ?it/s]"
      ]
     },
     "metadata": {},
     "output_type": "display_data"
    },
    {
     "name": "stdout",
     "output_type": "stream",
     "text": [
      "Synapsse Results:\n",
      "Total Number of Synapses = 10012\n",
      "n_valid_syn_ids_presyn = 8\n",
      "n_errored_syn_ids_presyn = 164\n",
      "n_valid_syn_ids_postsyn = 9825\n",
      "n_errored_syn_ids_postsyn = 15\n",
      "Synapsse Results:\n",
      "Total Number of Synapses = 10012\n",
      "n_valid_syn_ids_presyn = 8\n",
      "n_errored_syn_ids_presyn = 164\n",
      "n_valid_syn_ids_postsyn = 9825\n",
      "n_errored_syn_ids_postsyn = 15\n"
     ]
    },
    {
     "data": {
      "application/vnd.jupyter.widget-view+json": {
       "model_id": "378423e464424b0a95071924ab4ba9ce",
       "version_major": 2,
       "version_minor": 0
      },
      "text/plain": [
       "  0%|          | 0/26 [00:00<?, ?it/s]"
      ]
     },
     "metadata": {},
     "output_type": "display_data"
    },
    {
     "data": {
      "application/vnd.jupyter.widget-view+json": {
       "model_id": "df783bc43d324b93839ac2153016c294",
       "version_major": 2,
       "version_minor": 0
      },
      "text/plain": [
       "  0%|          | 0/7 [00:00<?, ?it/s]"
      ]
     },
     "metadata": {},
     "output_type": "display_data"
    },
    {
     "name": "stdout",
     "output_type": "stream",
     "text": [
      "\n",
      "\n",
      "len(branch_attr_keys) = 33\n",
      "Saving Neuorn in suppress_output mode...please wait\n",
      "Saved File at location: /mnt/dj-stor01/platinum/minnie65/02/decomposition/864691136008573614_0_25_full_axon\n",
      "Save time = 224.68319630622864\n",
      "\n",
      "\n",
      " ***------ Total time for 864691136008573614 = 1065.020536661148 ------ ***\n",
      "Populate Done\n",
      "Total time for AutoProofreadValidationBorder populate = 9623.04983139038\n"
     ]
    }
   ],
   "source": [
    "\n",
    "import time\n",
    "pru = reload(pru)\n",
    "nru = reload(nru)\n",
    "import neuron_searching as ns\n",
    "ns = reload(ns)\n",
    "clu = reload(clu)\n",
    "du = reload(du)\n",
    "import random\n",
    "\n",
    "start_time = time.time()\n",
    "if not test_mode:\n",
    "    time.sleep(random.randint(0, 800))\n",
    "print('Populate Started')\n",
    "if not test_mode:\n",
    "    AutoProofreadValidationBorder.populate(reserve_jobs=True, suppress_errors=True, order=\"random\")\n",
    "else:\n",
    "    AutoProofreadValidationBorder.populate(reserve_jobs=True, suppress_errors=True, order=\"random\")\n",
    "print('Populate Done')\n",
    "\n",
    "print(f\"Total time for AutoProofreadValidationBorder populate = {time.time() - start_time}\")\n"
   ]
  },
  {
   "cell_type": "code",
   "execution_count": null,
   "metadata": {},
   "outputs": [],
   "source": []
  }
 ],
 "metadata": {
  "kernelspec": {
   "display_name": "Python 3",
   "language": "python",
   "name": "python3"
  },
  "language_info": {
   "codemirror_mode": {
    "name": "ipython",
    "version": 3
   },
   "file_extension": ".py",
   "mimetype": "text/x-python",
   "name": "python",
   "nbconvert_exporter": "python",
   "pygments_lexer": "ipython3",
   "version": "3.6.9"
  }
 },
 "nbformat": 4,
 "nbformat_minor": 4
}
