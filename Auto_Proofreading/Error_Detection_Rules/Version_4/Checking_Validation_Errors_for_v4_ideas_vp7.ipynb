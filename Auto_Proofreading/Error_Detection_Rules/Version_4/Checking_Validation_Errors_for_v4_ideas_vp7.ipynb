{
 "cells": [
  {
   "cell_type": "code",
   "execution_count": null,
   "metadata": {},
   "outputs": [],
   "source": [
    "\"\"\"\n",
    "Purpose: To check the errors on the validation test set\n",
    "to get ideas on how to make validation score go up\n",
    "\n",
    "\"\"\""
   ]
  },
  {
   "cell_type": "code",
   "execution_count": 1,
   "metadata": {},
   "outputs": [],
   "source": [
    "%load_ext autoreload\n",
    "%autoreload 2"
   ]
  },
  {
   "cell_type": "code",
   "execution_count": 2,
   "metadata": {},
   "outputs": [],
   "source": [
    "from os import sys\n",
    "sys.path.append(\"/meshAfterParty/\")\n",
    "sys.path.append(\"/meshAfterParty/meshAfterParty/\")"
   ]
  },
  {
   "cell_type": "code",
   "execution_count": 3,
   "metadata": {},
   "outputs": [
    {
     "name": "stderr",
     "output_type": "stream",
     "text": [
      "INFO - 2021-04-07 04:31:33,056 - settings - Setting database.host to at-database.ad.bcm.edu\n",
      "INFO - 2021-04-07 04:31:33,058 - settings - Setting database.user to celiib\n",
      "INFO - 2021-04-07 04:31:33,059 - settings - Setting database.password to newceliipass\n",
      "INFO - 2021-04-07 04:31:33,063 - settings - Setting stores to {'minnie65': {'protocol': 'file', 'location': '/mnt/dj-stor01/platinum/minnie65', 'stage': '/mnt/dj-stor01/platinum/minnie65'}, 'meshes': {'protocol': 'file', 'location': '/mnt/dj-stor01/platinum/minnie65/02/meshes', 'stage': '/mnt/dj-stor01/platinum/minnie65/02/meshes'}, 'decimated_meshes': {'protocol': 'file', 'location': '/mnt/dj-stor01/platinum/minnie65/02/decimated_meshes', 'stage': '/mnt/dj-stor01/platinum/minnie65/02/decimated_meshes'}, 'skeletons': {'protocol': 'file', 'location': '/mnt/dj-stor01/platinum/minnie65/02/skeletons'}}\n",
      "INFO - 2021-04-07 04:31:33,065 - settings - Setting enable_python_native_blobs to True\n",
      "INFO - 2021-04-07 04:31:33,078 - connection - Connected celiib@at-database.ad.bcm.edu:3306\n"
     ]
    },
    {
     "name": "stdout",
     "output_type": "stream",
     "text": [
      "Connecting celiib@at-database.ad.bcm.edu:3306\n"
     ]
    },
    {
     "name": "stderr",
     "output_type": "stream",
     "text": [
      "INFO - 2021-04-07 04:31:33,509 - settings - Setting enable_python_native_blobs to True\n",
      "INFO - 2021-04-07 04:31:33,513 - settings - Setting database.host to at-database.ad.bcm.edu\n",
      "INFO - 2021-04-07 04:31:33,514 - settings - Setting database.user to celiib\n",
      "INFO - 2021-04-07 04:31:33,515 - settings - Setting database.password to newceliipass\n",
      "INFO - 2021-04-07 04:31:33,515 - settings - Setting database.host to at-database.ad.bcm.edu\n",
      "INFO - 2021-04-07 04:31:33,516 - settings - Setting database.user to celiib\n",
      "INFO - 2021-04-07 04:31:33,517 - settings - Setting database.password to newceliipass\n",
      "INFO - 2021-04-07 04:31:33,519 - settings - Setting enable_python_native_blobs to True\n",
      "INFO - 2021-04-07 04:31:33,977 - settings - Setting enable_python_native_blobs to True\n"
     ]
    }
   ],
   "source": [
    "from pathlib import Path\n",
    "import numpy as np\n",
    "import neuron_visualizations as nviz\n",
    "import datajoint as dj\n",
    "\n",
    "import proofreading_utils as pru\n",
    "import classification_utils as clu\n",
    "\n",
    "import neuron_utils as nru\n",
    "import validation_utils as vu\n",
    "import pandas as pd\n",
    "import datajoint_utils as du"
   ]
  },
  {
   "cell_type": "markdown",
   "metadata": {},
   "source": [
    "# Computing the validation statistics (to pick the ones to look at)"
   ]
  },
  {
   "cell_type": "code",
   "execution_count": 5,
   "metadata": {},
   "outputs": [
    {
     "data": {
      "text/html": [
       "\n",
       "        \n",
       "        <style type=\"text/css\">\n",
       "            .Relation{\n",
       "                border-collapse:collapse;\n",
       "            }\n",
       "            .Relation th{\n",
       "                background: #A0A0A0; color: #ffffff; padding:4px; border:#f0e0e0 1px solid;\n",
       "                font-weight: normal; font-family: monospace; font-size: 100%;\n",
       "            }\n",
       "            .Relation td{\n",
       "                padding:4px; border:#f0e0e0 1px solid; font-size:100%;\n",
       "            }\n",
       "            .Relation tr:nth-child(odd){\n",
       "                background: #ffffff;\n",
       "            }\n",
       "            .Relation tr:nth-child(even){\n",
       "                background: #f3f1ff;\n",
       "            }\n",
       "            /* Tooltip container */\n",
       "            .djtooltip {\n",
       "            }\n",
       "            /* Tooltip text */\n",
       "            .djtooltip .djtooltiptext {\n",
       "                visibility: hidden;\n",
       "                width: 120px;\n",
       "                background-color: black;\n",
       "                color: #fff;\n",
       "                text-align: center;\n",
       "                padding: 5px 0;\n",
       "                border-radius: 6px;\n",
       "                /* Position the tooltip text - see examples below! */\n",
       "                position: absolute;\n",
       "                z-index: 1;\n",
       "            }\n",
       "            #primary {\n",
       "                font-weight: bold;\n",
       "                color: black;\n",
       "            }\n",
       "\n",
       "            #nonprimary {\n",
       "                font-weight: normal;\n",
       "                color: white;\n",
       "            }\n",
       "\n",
       "            /* Show the tooltip text when you mouse over the tooltip container */\n",
       "            .djtooltip:hover .djtooltiptext {\n",
       "                visibility: visible;\n",
       "            }\n",
       "        </style>\n",
       "        \n",
       "        <b></b>\n",
       "            <div style=\"max-height:1000px;max-width:1500px;overflow:auto;\">\n",
       "            <table border=\"1\" class=\"Relation\">\n",
       "                <thead> <tr style=\"text-align: right;\"> <th> <div class=\"djtooltip\">\n",
       "                                <p id=\"primary\">segment_id</p>\n",
       "                                <span class=\"djtooltiptext\">segment id unique within each Segmentation</span>\n",
       "                            </div></th><th><div class=\"djtooltip\">\n",
       "                                <p id=\"primary\">decimation_version</p>\n",
       "                                <span class=\"djtooltiptext\"></span>\n",
       "                            </div></th><th><div class=\"djtooltip\">\n",
       "                                <p id=\"primary\">decimation_ratio</p>\n",
       "                                <span class=\"djtooltiptext\">ratio of remaining mesh vertices/faces (which ones depends on what metric the decimation technique uses)</span>\n",
       "                            </div></th><th><div class=\"djtooltip\">\n",
       "                                <p id=\"primary\">ver</p>\n",
       "                                <span class=\"djtooltiptext\">the version number of the materializaiton</span>\n",
       "                            </div></th><th><div class=\"djtooltip\">\n",
       "                                <p id=\"primary\">process_version</p>\n",
       "                                <span class=\"djtooltiptext\">the version of the preprocessing pipeline run</span>\n",
       "                            </div></th><th><div class=\"djtooltip\">\n",
       "                                <p id=\"primary\">index</p>\n",
       "                                <span class=\"djtooltiptext\">the index of the neuron object that resulted from that mesh (indexed starting at 0)</span>\n",
       "                            </div></th><th><div class=\"djtooltip\">\n",
       "                                <p id=\"primary\">split_index</p>\n",
       "                                <span class=\"djtooltiptext\">the index of the neuron object that resulted AFTER THE SPLITTING ALGORITHM</span>\n",
       "                            </div></th><th><div class=\"djtooltip\">\n",
       "                                <p id=\"primary\">proof_version</p>\n",
       "                                <span class=\"djtooltiptext\">the version of code used for this cell typing classification</span>\n",
       "                            </div></th><th><div class=\"djtooltip\">\n",
       "                                <p id=\"nonprimary\">mesh_faces</p>\n",
       "                                <span class=\"djtooltiptext\">faces indices that were saved off as belonging to proofread neuron (external storage)</span>\n",
       "                            </div></th><th><div class=\"djtooltip\">\n",
       "                                <p id=\"nonprimary\">axon_faces</p>\n",
       "                                <span class=\"djtooltiptext\">faces indices that were saved off as belonging to proofread neuron's axon (external storage)</span>\n",
       "                            </div></th><th><div class=\"djtooltip\">\n",
       "                                <p id=\"nonprimary\">axon_on_dendrite_merges_error_area</p>\n",
       "                                <span class=\"djtooltiptext\">the area (in um ^ 2) of the faces canceled out by filter</span>\n",
       "                            </div></th><th><div class=\"djtooltip\">\n",
       "                                <p id=\"nonprimary\">axon_on_dendrite_merges_error_length</p>\n",
       "                                <span class=\"djtooltiptext\">the length (in um) of skeleton distance canceled out by filter</span>\n",
       "                            </div></th><th><div class=\"djtooltip\">\n",
       "                                <p id=\"nonprimary\">low_branch_clusters_error_area</p>\n",
       "                                <span class=\"djtooltiptext\">the area (in um ^ 2) of the faces canceled out by filter</span>\n",
       "                            </div></th><th><div class=\"djtooltip\">\n",
       "                                <p id=\"nonprimary\">low_branch_clusters_error_length</p>\n",
       "                                <span class=\"djtooltiptext\">the length (in um) of skeleton distance canceled out by filter</span>\n",
       "                            </div></th><th><div class=\"djtooltip\">\n",
       "                                <p id=\"nonprimary\">dendrite_on_axon_merges_error_area</p>\n",
       "                                <span class=\"djtooltiptext\">the area (in um ^ 2) of the faces canceled out by filter</span>\n",
       "                            </div></th><th><div class=\"djtooltip\">\n",
       "                                <p id=\"nonprimary\">dendrite_on_axon_merges_error_length</p>\n",
       "                                <span class=\"djtooltiptext\">the length (in um) of skeleton distance canceled out by filter</span>\n",
       "                            </div></th><th><div class=\"djtooltip\">\n",
       "                                <p id=\"nonprimary\">double_back_and_width_change_error_area</p>\n",
       "                                <span class=\"djtooltiptext\">the area (in um ^ 2) of the faces canceled out by filter</span>\n",
       "                            </div></th><th><div class=\"djtooltip\">\n",
       "                                <p id=\"nonprimary\">double_back_and_width_change_error_length</p>\n",
       "                                <span class=\"djtooltiptext\">the length (in um) of skeleton distance canceled out by filter</span>\n",
       "                            </div></th><th><div class=\"djtooltip\">\n",
       "                                <p id=\"nonprimary\">crossovers_error_area</p>\n",
       "                                <span class=\"djtooltiptext\">the area (in um ^ 2) of the faces canceled out by filter</span>\n",
       "                            </div></th><th><div class=\"djtooltip\">\n",
       "                                <p id=\"nonprimary\">crossovers_error_length</p>\n",
       "                                <span class=\"djtooltiptext\">the length (in um) of skeleton distance canceled out by filter</span>\n",
       "                            </div></th><th><div class=\"djtooltip\">\n",
       "                                <p id=\"nonprimary\">high_degree_coordinates_error_area</p>\n",
       "                                <span class=\"djtooltiptext\">the area (in um ^ 2) of the faces canceled out by filter</span>\n",
       "                            </div></th><th><div class=\"djtooltip\">\n",
       "                                <p id=\"nonprimary\">high_degree_coordinates_error_length</p>\n",
       "                                <span class=\"djtooltiptext\">the length (in um) of skeleton distance canceled out by filter</span>\n",
       "                            </div></th><th><div class=\"djtooltip\">\n",
       "                                <p id=\"nonprimary\">n_valid_syn_presyn_for_split</p>\n",
       "                                <span class=\"djtooltiptext\"></span>\n",
       "                            </div></th><th><div class=\"djtooltip\">\n",
       "                                <p id=\"nonprimary\">n_valid_syn_postsyn_for_split</p>\n",
       "                                <span class=\"djtooltiptext\"></span>\n",
       "                            </div></th><th><div class=\"djtooltip\">\n",
       "                                <p id=\"nonprimary\">n_presyn_error_syn_non_axon</p>\n",
       "                                <span class=\"djtooltiptext\"></span>\n",
       "                            </div></th><th><div class=\"djtooltip\">\n",
       "                                <p id=\"nonprimary\">presyn_error_syn_non_axon_ids</p>\n",
       "                                <span class=\"djtooltiptext\">the ids of the synapses that were errored out</span>\n",
       "                            </div></th><th><div class=\"djtooltip\">\n",
       "                                <p id=\"nonprimary\">n_presyn_error_syn</p>\n",
       "                                <span class=\"djtooltiptext\"></span>\n",
       "                            </div></th><th><div class=\"djtooltip\">\n",
       "                                <p id=\"nonprimary\">n_postsyn_error_syn</p>\n",
       "                                <span class=\"djtooltiptext\"></span>\n",
       "                            </div></th><th><div class=\"djtooltip\">\n",
       "                                <p id=\"nonprimary\">total_error_synapses</p>\n",
       "                                <span class=\"djtooltiptext\"></span>\n",
       "                            </div></th><th><div class=\"djtooltip\">\n",
       "                                <p id=\"nonprimary\">total_presyns</p>\n",
       "                                <span class=\"djtooltiptext\"></span>\n",
       "                            </div></th><th><div class=\"djtooltip\">\n",
       "                                <p id=\"nonprimary\">total_postsyns</p>\n",
       "                                <span class=\"djtooltiptext\"></span>\n",
       "                            </div></th><th><div class=\"djtooltip\">\n",
       "                                <p id=\"nonprimary\">total_synapses</p>\n",
       "                                <span class=\"djtooltiptext\"></span>\n",
       "                            </div></th><th><div class=\"djtooltip\">\n",
       "                                <p id=\"nonprimary\">perc_error_presyn</p>\n",
       "                                <span class=\"djtooltiptext\"></span>\n",
       "                            </div></th><th><div class=\"djtooltip\">\n",
       "                                <p id=\"nonprimary\">perc_error_postsyn</p>\n",
       "                                <span class=\"djtooltiptext\"></span>\n",
       "                            </div></th><th><div class=\"djtooltip\">\n",
       "                                <p id=\"nonprimary\">overall_percent_error</p>\n",
       "                                <span class=\"djtooltiptext\"></span>\n",
       "                            </div> </th> </tr> </thead>\n",
       "                <tbody> <tr> <td>864691135113167769</td>\n",
       "<td>0</td>\n",
       "<td>0.25</td>\n",
       "<td>30.00</td>\n",
       "<td>5</td>\n",
       "<td>0</td>\n",
       "<td>0</td>\n",
       "<td>3</td>\n",
       "<td>=BLOB=</td>\n",
       "<td>=BLOB=</td>\n",
       "<td>594.89</td>\n",
       "<td>535.07</td>\n",
       "<td>0.0</td>\n",
       "<td>0.0</td>\n",
       "<td>0.0</td>\n",
       "<td>0.0</td>\n",
       "<td>0.0</td>\n",
       "<td>0.0</td>\n",
       "<td>736.23</td>\n",
       "<td>1014.68</td>\n",
       "<td>0.0</td>\n",
       "<td>0.0</td>\n",
       "<td>32</td>\n",
       "<td>2224</td>\n",
       "<td>29</td>\n",
       "<td>=BLOB=</td>\n",
       "<td>175</td>\n",
       "<td>31</td>\n",
       "<td>206</td>\n",
       "<td>207</td>\n",
       "<td>2255</td>\n",
       "<td>2462</td>\n",
       "<td>0.8454</td>\n",
       "<td>0.0137</td>\n",
       "<td>0.0837</td></tr><tr><td>864691135212632448</td>\n",
       "<td>0</td>\n",
       "<td>0.25</td>\n",
       "<td>30.00</td>\n",
       "<td>5</td>\n",
       "<td>0</td>\n",
       "<td>0</td>\n",
       "<td>3</td>\n",
       "<td>=BLOB=</td>\n",
       "<td>=BLOB=</td>\n",
       "<td>1470.86</td>\n",
       "<td>1470.71</td>\n",
       "<td>0.0</td>\n",
       "<td>0.0</td>\n",
       "<td>0.0</td>\n",
       "<td>0.0</td>\n",
       "<td>73.85</td>\n",
       "<td>85.33</td>\n",
       "<td>721.37</td>\n",
       "<td>846.32</td>\n",
       "<td>0.0</td>\n",
       "<td>0.0</td>\n",
       "<td>40</td>\n",
       "<td>3319</td>\n",
       "<td>28</td>\n",
       "<td>=BLOB=</td>\n",
       "<td>373</td>\n",
       "<td>40</td>\n",
       "<td>413</td>\n",
       "<td>413</td>\n",
       "<td>3359</td>\n",
       "<td>3772</td>\n",
       "<td>0.9031</td>\n",
       "<td>0.0119</td>\n",
       "<td>0.1095</td></tr><tr><td>864691135212690816</td>\n",
       "<td>0</td>\n",
       "<td>0.25</td>\n",
       "<td>30.00</td>\n",
       "<td>5</td>\n",
       "<td>0</td>\n",
       "<td>0</td>\n",
       "<td>3</td>\n",
       "<td>=BLOB=</td>\n",
       "<td>=BLOB=</td>\n",
       "<td>493.5</td>\n",
       "<td>646.11</td>\n",
       "<td>0.0</td>\n",
       "<td>0.0</td>\n",
       "<td>0.0</td>\n",
       "<td>0.0</td>\n",
       "<td>0.0</td>\n",
       "<td>0.0</td>\n",
       "<td>0.0</td>\n",
       "<td>0.0</td>\n",
       "<td>0.0</td>\n",
       "<td>0.0</td>\n",
       "<td>0</td>\n",
       "<td>2334</td>\n",
       "<td>17</td>\n",
       "<td>=BLOB=</td>\n",
       "<td>47</td>\n",
       "<td>2</td>\n",
       "<td>49</td>\n",
       "<td>47</td>\n",
       "<td>2336</td>\n",
       "<td>2383</td>\n",
       "<td>1.0</td>\n",
       "<td>0.0009</td>\n",
       "<td>0.0206</td></tr><tr><td>864691135233108569</td>\n",
       "<td>0</td>\n",
       "<td>0.25</td>\n",
       "<td>30.00</td>\n",
       "<td>5</td>\n",
       "<td>0</td>\n",
       "<td>0</td>\n",
       "<td>3</td>\n",
       "<td>=BLOB=</td>\n",
       "<td>=BLOB=</td>\n",
       "<td>32.62</td>\n",
       "<td>32.43</td>\n",
       "<td>0.0</td>\n",
       "<td>0.0</td>\n",
       "<td>0.0</td>\n",
       "<td>0.0</td>\n",
       "<td>0.0</td>\n",
       "<td>0.0</td>\n",
       "<td>451.36</td>\n",
       "<td>559.06</td>\n",
       "<td>0.0</td>\n",
       "<td>0.0</td>\n",
       "<td>11</td>\n",
       "<td>725</td>\n",
       "<td>3</td>\n",
       "<td>=BLOB=</td>\n",
       "<td>48</td>\n",
       "<td>8</td>\n",
       "<td>56</td>\n",
       "<td>59</td>\n",
       "<td>733</td>\n",
       "<td>792</td>\n",
       "<td>0.8136</td>\n",
       "<td>0.0109</td>\n",
       "<td>0.0707</td></tr><tr><td>864691135272164113</td>\n",
       "<td>0</td>\n",
       "<td>0.25</td>\n",
       "<td>30.00</td>\n",
       "<td>5</td>\n",
       "<td>0</td>\n",
       "<td>0</td>\n",
       "<td>3</td>\n",
       "<td>=BLOB=</td>\n",
       "<td>=BLOB=</td>\n",
       "<td>304.86</td>\n",
       "<td>296.4</td>\n",
       "<td>0.0</td>\n",
       "<td>0.0</td>\n",
       "<td>0.0</td>\n",
       "<td>0.0</td>\n",
       "<td>0.0</td>\n",
       "<td>0.0</td>\n",
       "<td>361.91</td>\n",
       "<td>434.12</td>\n",
       "<td>0.0</td>\n",
       "<td>0.0</td>\n",
       "<td>31</td>\n",
       "<td>5650</td>\n",
       "<td>30</td>\n",
       "<td>=BLOB=</td>\n",
       "<td>183</td>\n",
       "<td>15</td>\n",
       "<td>198</td>\n",
       "<td>214</td>\n",
       "<td>5665</td>\n",
       "<td>5879</td>\n",
       "<td>0.8551</td>\n",
       "<td>0.0026</td>\n",
       "<td>0.0337</td></tr><tr><td>864691135348272855</td>\n",
       "<td>0</td>\n",
       "<td>0.25</td>\n",
       "<td>30.00</td>\n",
       "<td>5</td>\n",
       "<td>0</td>\n",
       "<td>0</td>\n",
       "<td>3</td>\n",
       "<td>=BLOB=</td>\n",
       "<td>=BLOB=</td>\n",
       "<td>1985.0</td>\n",
       "<td>2325.09</td>\n",
       "<td>15.29</td>\n",
       "<td>14.75</td>\n",
       "<td>0.0</td>\n",
       "<td>0.0</td>\n",
       "<td>4.14</td>\n",
       "<td>6.82</td>\n",
       "<td>86.6</td>\n",
       "<td>108.43</td>\n",
       "<td>0.0</td>\n",
       "<td>0.0</td>\n",
       "<td>66</td>\n",
       "<td>6018</td>\n",
       "<td>16</td>\n",
       "<td>=BLOB=</td>\n",
       "<td>385</td>\n",
       "<td>5</td>\n",
       "<td>390</td>\n",
       "<td>451</td>\n",
       "<td>6023</td>\n",
       "<td>6474</td>\n",
       "<td>0.8537</td>\n",
       "<td>0.0008</td>\n",
       "<td>0.0602</td></tr><tr><td>864691135382947307</td>\n",
       "<td>0</td>\n",
       "<td>0.25</td>\n",
       "<td>30.00</td>\n",
       "<td>5</td>\n",
       "<td>0</td>\n",
       "<td>0</td>\n",
       "<td>3</td>\n",
       "<td>=BLOB=</td>\n",
       "<td>=BLOB=</td>\n",
       "<td>362.58</td>\n",
       "<td>477.62</td>\n",
       "<td>0.0</td>\n",
       "<td>0.0</td>\n",
       "<td>0.0</td>\n",
       "<td>0.0</td>\n",
       "<td>12.34</td>\n",
       "<td>5.74</td>\n",
       "<td>61.7</td>\n",
       "<td>91.29</td>\n",
       "<td>0.0</td>\n",
       "<td>0.0</td>\n",
       "<td>54</td>\n",
       "<td>2631</td>\n",
       "<td>9</td>\n",
       "<td>=BLOB=</td>\n",
       "<td>29</td>\n",
       "<td>3</td>\n",
       "<td>32</td>\n",
       "<td>83</td>\n",
       "<td>2634</td>\n",
       "<td>2717</td>\n",
       "<td>0.3494</td>\n",
       "<td>0.0011</td>\n",
       "<td>0.0118</td></tr><tr><td>864691135393964789</td>\n",
       "<td>0</td>\n",
       "<td>0.25</td>\n",
       "<td>30.00</td>\n",
       "<td>5</td>\n",
       "<td>0</td>\n",
       "<td>0</td>\n",
       "<td>3</td>\n",
       "<td>=BLOB=</td>\n",
       "<td>=BLOB=</td>\n",
       "<td>586.91</td>\n",
       "<td>441.25</td>\n",
       "<td>0.0</td>\n",
       "<td>0.0</td>\n",
       "<td>0.0</td>\n",
       "<td>0.0</td>\n",
       "<td>0.0</td>\n",
       "<td>0.0</td>\n",
       "<td>0.0</td>\n",
       "<td>0.0</td>\n",
       "<td>0.0</td>\n",
       "<td>0.0</td>\n",
       "<td>3</td>\n",
       "<td>1528</td>\n",
       "<td>21</td>\n",
       "<td>=BLOB=</td>\n",
       "<td>212</td>\n",
       "<td>171</td>\n",
       "<td>383</td>\n",
       "<td>215</td>\n",
       "<td>1699</td>\n",
       "<td>1914</td>\n",
       "<td>0.986</td>\n",
       "<td>0.1006</td>\n",
       "<td>0.2001</td></tr><tr><td>864691135407289801</td>\n",
       "<td>0</td>\n",
       "<td>0.25</td>\n",
       "<td>30.00</td>\n",
       "<td>5</td>\n",
       "<td>0</td>\n",
       "<td>0</td>\n",
       "<td>3</td>\n",
       "<td>=BLOB=</td>\n",
       "<td>=BLOB=</td>\n",
       "<td>1548.19</td>\n",
       "<td>1817.04</td>\n",
       "<td>0.0</td>\n",
       "<td>0.0</td>\n",
       "<td>0.0</td>\n",
       "<td>0.0</td>\n",
       "<td>0.0</td>\n",
       "<td>0.0</td>\n",
       "<td>0.0</td>\n",
       "<td>0.0</td>\n",
       "<td>0.0</td>\n",
       "<td>0.0</td>\n",
       "<td>0</td>\n",
       "<td>3329</td>\n",
       "<td>12</td>\n",
       "<td>=BLOB=</td>\n",
       "<td>277</td>\n",
       "<td>5</td>\n",
       "<td>282</td>\n",
       "<td>277</td>\n",
       "<td>3334</td>\n",
       "<td>3611</td>\n",
       "<td>1.0</td>\n",
       "<td>0.0015</td>\n",
       "<td>0.0781</td></tr><tr><td>864691135491233631</td>\n",
       "<td>0</td>\n",
       "<td>0.25</td>\n",
       "<td>30.00</td>\n",
       "<td>5</td>\n",
       "<td>0</td>\n",
       "<td>0</td>\n",
       "<td>3</td>\n",
       "<td>=BLOB=</td>\n",
       "<td>=BLOB=</td>\n",
       "<td>341.95</td>\n",
       "<td>371.9</td>\n",
       "<td>0.0</td>\n",
       "<td>0.0</td>\n",
       "<td>0.0</td>\n",
       "<td>0.0</td>\n",
       "<td>0.0</td>\n",
       "<td>0.0</td>\n",
       "<td>584.3</td>\n",
       "<td>747.2</td>\n",
       "<td>0.0</td>\n",
       "<td>0.0</td>\n",
       "<td>13</td>\n",
       "<td>753</td>\n",
       "<td>13</td>\n",
       "<td>=BLOB=</td>\n",
       "<td>153</td>\n",
       "<td>4</td>\n",
       "<td>157</td>\n",
       "<td>166</td>\n",
       "<td>757</td>\n",
       "<td>923</td>\n",
       "<td>0.9217</td>\n",
       "<td>0.0053</td>\n",
       "<td>0.1701</td></tr><tr><td>864691135564655959</td>\n",
       "<td>0</td>\n",
       "<td>0.25</td>\n",
       "<td>30.00</td>\n",
       "<td>5</td>\n",
       "<td>0</td>\n",
       "<td>0</td>\n",
       "<td>3</td>\n",
       "<td>=BLOB=</td>\n",
       "<td>=BLOB=</td>\n",
       "<td>23.54</td>\n",
       "<td>15.49</td>\n",
       "<td>0.0</td>\n",
       "<td>0.0</td>\n",
       "<td>0.0</td>\n",
       "<td>0.0</td>\n",
       "<td>0.0</td>\n",
       "<td>0.0</td>\n",
       "<td>360.87</td>\n",
       "<td>481.23</td>\n",
       "<td>0.0</td>\n",
       "<td>0.0</td>\n",
       "<td>16</td>\n",
       "<td>1124</td>\n",
       "<td>8</td>\n",
       "<td>=BLOB=</td>\n",
       "<td>72</td>\n",
       "<td>9</td>\n",
       "<td>81</td>\n",
       "<td>88</td>\n",
       "<td>1133</td>\n",
       "<td>1221</td>\n",
       "<td>0.8182</td>\n",
       "<td>0.0079</td>\n",
       "<td>0.0663</td></tr><tr><td>864691135589906955</td>\n",
       "<td>0</td>\n",
       "<td>0.25</td>\n",
       "<td>30.00</td>\n",
       "<td>5</td>\n",
       "<td>0</td>\n",
       "<td>0</td>\n",
       "<td>3</td>\n",
       "<td>=BLOB=</td>\n",
       "<td>=BLOB=</td>\n",
       "<td>1419.9</td>\n",
       "<td>1518.97</td>\n",
       "<td>0.0</td>\n",
       "<td>0.0</td>\n",
       "<td>0.0</td>\n",
       "<td>0.0</td>\n",
       "<td>298.82</td>\n",
       "<td>122.66</td>\n",
       "<td>477.67</td>\n",
       "<td>546.83</td>\n",
       "<td>0.0</td>\n",
       "<td>0.0</td>\n",
       "<td>5</td>\n",
       "<td>5696</td>\n",
       "<td>38</td>\n",
       "<td>=BLOB=</td>\n",
       "<td>386</td>\n",
       "<td>159</td>\n",
       "<td>545</td>\n",
       "<td>391</td>\n",
       "<td>5855</td>\n",
       "<td>6246</td>\n",
       "<td>0.9872</td>\n",
       "<td>0.0272</td>\n",
       "<td>0.0873</td> </tr> </tbody>\n",
       "            </table>\n",
       "            <p>...</p>\n",
       "            <p>Total: 55</p></div>\n",
       "            "
      ],
      "text/plain": [
       "*segment_id    *decimation_ve *decimation_ra *ver      *process_versi *index    *split_index   *proof_version mesh_faces axon_faces axon_on_dendri axon_on_dendri low_branch_clu low_branch_clu dendrite_on_ax dendrite_on_ax double_back_an double_back_an crossovers_err crossovers_err high_degree_co high_degree_co n_valid_syn_pr n_valid_syn_po n_presyn_error presyn_err n_presyn_error n_postsyn_erro total_error_sy total_presyns  total_postsyns total_synapses perc_error_pre perc_error_pos overall_percen\n",
       "+------------+ +------------+ +------------+ +-------+ +------------+ +-------+ +------------+ +------------+ +--------+ +--------+ +------------+ +------------+ +------------+ +------------+ +------------+ +------------+ +------------+ +------------+ +------------+ +------------+ +------------+ +------------+ +------------+ +------------+ +------------+ +--------+ +------------+ +------------+ +------------+ +------------+ +------------+ +------------+ +------------+ +------------+ +------------+\n",
       "86469113511316 0              0.25           30.00     5              0         0              3              =BLOB=     =BLOB=     594.89         535.07         0.0            0.0            0.0            0.0            0.0            0.0            736.23         1014.68        0.0            0.0            32             2224           29             =BLOB=     175            31             206            207            2255           2462           0.8454         0.0137         0.0837        \n",
       "86469113521263 0              0.25           30.00     5              0         0              3              =BLOB=     =BLOB=     1470.86        1470.71        0.0            0.0            0.0            0.0            73.85          85.33          721.37         846.32         0.0            0.0            40             3319           28             =BLOB=     373            40             413            413            3359           3772           0.9031         0.0119         0.1095        \n",
       "86469113521269 0              0.25           30.00     5              0         0              3              =BLOB=     =BLOB=     493.5          646.11         0.0            0.0            0.0            0.0            0.0            0.0            0.0            0.0            0.0            0.0            0              2334           17             =BLOB=     47             2              49             47             2336           2383           1.0            0.0009         0.0206        \n",
       "86469113523310 0              0.25           30.00     5              0         0              3              =BLOB=     =BLOB=     32.62          32.43          0.0            0.0            0.0            0.0            0.0            0.0            451.36         559.06         0.0            0.0            11             725            3              =BLOB=     48             8              56             59             733            792            0.8136         0.0109         0.0707        \n",
       "86469113527216 0              0.25           30.00     5              0         0              3              =BLOB=     =BLOB=     304.86         296.4          0.0            0.0            0.0            0.0            0.0            0.0            361.91         434.12         0.0            0.0            31             5650           30             =BLOB=     183            15             198            214            5665           5879           0.8551         0.0026         0.0337        \n",
       "86469113534827 0              0.25           30.00     5              0         0              3              =BLOB=     =BLOB=     1985.0         2325.09        15.29          14.75          0.0            0.0            4.14           6.82           86.6           108.43         0.0            0.0            66             6018           16             =BLOB=     385            5              390            451            6023           6474           0.8537         0.0008         0.0602        \n",
       "86469113538294 0              0.25           30.00     5              0         0              3              =BLOB=     =BLOB=     362.58         477.62         0.0            0.0            0.0            0.0            12.34          5.74           61.7           91.29          0.0            0.0            54             2631           9              =BLOB=     29             3              32             83             2634           2717           0.3494         0.0011         0.0118        \n",
       "86469113539396 0              0.25           30.00     5              0         0              3              =BLOB=     =BLOB=     586.91         441.25         0.0            0.0            0.0            0.0            0.0            0.0            0.0            0.0            0.0            0.0            3              1528           21             =BLOB=     212            171            383            215            1699           1914           0.986          0.1006         0.2001        \n",
       "86469113540728 0              0.25           30.00     5              0         0              3              =BLOB=     =BLOB=     1548.19        1817.04        0.0            0.0            0.0            0.0            0.0            0.0            0.0            0.0            0.0            0.0            0              3329           12             =BLOB=     277            5              282            277            3334           3611           1.0            0.0015         0.0781        \n",
       "86469113549123 0              0.25           30.00     5              0         0              3              =BLOB=     =BLOB=     341.95         371.9          0.0            0.0            0.0            0.0            0.0            0.0            584.3          747.2          0.0            0.0            13             753            13             =BLOB=     153            4              157            166            757            923            0.9217         0.0053         0.1701        \n",
       "86469113556465 0              0.25           30.00     5              0         0              3              =BLOB=     =BLOB=     23.54          15.49          0.0            0.0            0.0            0.0            0.0            0.0            360.87         481.23         0.0            0.0            16             1124           8              =BLOB=     72             9              81             88             1133           1221           0.8182         0.0079         0.0663        \n",
       "86469113558990 0              0.25           30.00     5              0         0              3              =BLOB=     =BLOB=     1419.9         1518.97        0.0            0.0            0.0            0.0            298.82         122.66         477.67         546.83         0.0            0.0            5              5696           38             =BLOB=     386            159            545            391            5855           6246           0.9872         0.0272         0.0873        \n",
       "   ...\n",
       " (Total: 55)"
      ]
     },
     "execution_count": 5,
     "metadata": {},
     "output_type": "execute_result"
    }
   ],
   "source": [
    "du.proofreading_stats_table(validation=True)"
   ]
  },
  {
   "cell_type": "code",
   "execution_count": 38,
   "metadata": {
    "scrolled": true
   },
   "outputs": [
    {
     "name": "stdout",
     "output_type": "stream",
     "text": [
      "Segment_id = 864691135748575017\n"
     ]
    }
   ],
   "source": [
    "segment_ids = du.proofreading_stats_table(validation=True).fetch(\"segment_id\")\n",
    "segment_id = segment_ids[26]\n",
    "proofread_segment_id = segment_id\n",
    "print(f\"Segment_id = {segment_id}\")"
   ]
  },
  {
   "cell_type": "code",
   "execution_count": 39,
   "metadata": {},
   "outputs": [
    {
     "name": "stdout",
     "output_type": "stream",
     "text": [
      "Synapsse Results:\n",
      "Total Number of Synapses = 4803\n",
      "n_valid_syn_ids_presyn = 2\n",
      "n_errored_syn_ids_presyn = 226\n",
      "n_valid_syn_ids_postsyn = 4524\n",
      "n_errored_syn_ids_postsyn = 51\n"
     ]
    },
    {
     "data": {
      "image/png": "[encoded data removed]",
      "text/plain": [
       "<Figure size 700x400 with 2 Axes>"
      ]
     },
     "metadata": {},
     "output_type": "display_data"
    }
   ],
   "source": [
    "curr_validation_df = vu.synapse_validation_df_single_neuron(segment_id)\n",
    "vu.synapse_validation_df_to_score_plot(curr_validation_df)"
   ]
  },
  {
   "cell_type": "code",
   "execution_count": 40,
   "metadata": {},
   "outputs": [
    {
     "name": "stdout",
     "output_type": "stream",
     "text": [
      "Decompressing Neuron in minimal output mode...please wait\n",
      "Dont need spine recalculation\n",
      "Number of Neurons found = 1\n"
     ]
    }
   ],
   "source": [
    "neuron_objs,neuron_split_idxs = du.decomposition_with_spine_recalculation(segment_id)"
   ]
  },
  {
   "cell_type": "code",
   "execution_count": 41,
   "metadata": {},
   "outputs": [],
   "source": [
    "neuron_obj = neuron_objs[0]"
   ]
  },
  {
   "cell_type": "code",
   "execution_count": 51,
   "metadata": {},
   "outputs": [
    {
     "data": {
      "text/plain": [
       "864691135748575017"
      ]
     },
     "execution_count": 51,
     "metadata": {},
     "output_type": "execute_result"
    }
   ],
   "source": [
    "neuron_obj.segment_id"
   ]
  },
  {
   "cell_type": "code",
   "execution_count": 42,
   "metadata": {},
   "outputs": [
    {
     "name": "stdout",
     "output_type": "stream",
     "text": [
      "\n",
      "Part 1: Axon like branchese \n",
      "{'L1': array([11]), 'L2': array([10, 11]), 'L5': array([ 0,  3,  4,  6, 12, 13, 14, 15, 16, 17, 18, 19, 20, 23, 24, 25, 28,\n",
      "       29, 30, 31, 33, 34, 35, 36, 37, 38, 39, 40, 41])}\n",
      "Limb L0 soma angle: 108.15 \n",
      "Limb L1 soma angle: 13.98 \n",
      "Limb L2 soma angle: 129.94 \n",
      "Limb L3 soma angle: 51.58 \n",
      "Limb L4 soma angle: 78.11 \n",
      "Limb L5 soma angle: 157.51 \n",
      "\n",
      "Part 2: possible_axon_limbs = [0, 2, 4, 5]\n",
      "\n",
      "Phase 2: Working on Limb L0\n",
      "nodes_to_eliminate = [1]\n",
      "\n",
      "Phase 2: Working on Limb L2\n",
      "nodes_to_eliminate = [7 8]\n",
      "\n",
      "Phase 2: Working on Limb L4\n",
      "nodes_to_eliminate = [4]\n",
      "\n",
      "Phase 2: Working on Limb L5\n",
      "nodes_to_eliminate = [7 8]\n",
      "\n",
      "----Working on Limb L0-----\n",
      "No endpoints were eliminated so don't need to add back any candidates\n",
      "\n",
      "----Working on Limb L2-----\n",
      "No endpoints were eliminated so don't need to add back any candidates\n",
      "\n",
      "----Working on Limb L4-----\n",
      "No endpoints were eliminated so don't need to add back any candidates\n",
      "\n",
      "----Working on Limb L5-----\n",
      "No endpoints were eliminated so don't need to add back any candidates\n",
      "Final Candidates\n",
      "\n",
      "Limb 0\n",
      "Candidate 0 (tan): array([0, 2, 4, 7])\n",
      "Candidate 1 (red): array([3, 5, 6])\n",
      "\n",
      "Limb 2\n",
      "Candidate 0 (forestgreen): array([ 9, 10, 11,  6])\n",
      "Candidate 1 (gold): array([1, 3, 4])\n",
      "Candidate 2 (cadetblue): array([0, 2, 5])\n",
      "\n",
      "Limb 4\n",
      "Candidate 0 (forestgreen): array([0])\n",
      "Candidate 1 (crimson): array([1, 2, 3])\n",
      "\n",
      "Limb 5\n",
      "Candidate 0 (forestgreen): array([ 3,  6, 38, 39, 41, 40, 12, 13, 14, 15, 16, 17, 18, 19, 20, 24, 25])\n",
      "Candidate 1 (forestgreen): array([1, 2, 4, 5, 9])\n",
      "Candidate 2 (forestgreen): array([10])\n",
      "Candidate 3 (tan): array([32, 33, 34, 35,  0, 37, 36, 11, 21, 22, 23, 26, 27, 28, 29, 30, 31])\n",
      "Part 3: axon_subgraph_candidates = {0: [[0, 2, 4, 7], [3, 5, 6]], 2: [[9, 10, 11, 6], [1, 3, 4], [0, 2, 5]], 4: [[0], [1, 2, 3]], 5: [[3, 6, 38, 39, 41, 40, 12, 13, 14, 15, 16, 17, 18, 19, 20, 24, 25], [1, 2, 4, 5, 9], [10], [32, 33, 34, 35, 0, 37, 36, 11, 21, 22, 23, 26, 27, 28, 29, 30, 31]]}\n",
      "\n",
      "\n",
      " --- Working on limb 0, candidate # 0\n",
      "0 out of 4 branches are axons\n",
      "Axon percentage = 0.0\n",
      "Not adding candidate no axon branches detected \n",
      "\n",
      "\n",
      " --- Working on limb 0, candidate # 1\n",
      "0 out of 3 branches are axons\n",
      "Axon percentage = 0.0\n",
      "Not adding candidate no axon branches detected \n",
      "\n",
      "\n",
      " --- Working on limb 2, candidate # 0\n",
      "2 out of 4 branches are axons\n",
      "Axon percentage = 0.5\n",
      "curr_axon_angle_threshold = 120\n",
      "candidate_nodes = [ 6  8  9 10 11]\n",
      "non_axon_branches_on_subgraph = [6 8 9]\n",
      "endnodes_to_test = []\n",
      "candidate_angles,restr_skels = (None, None)\n",
      "Not adding candidate because no angles (None) passed the threhold 120 \n",
      "\n",
      "\n",
      " --- Working on limb 2, candidate # 1\n",
      "0 out of 3 branches are axons\n",
      "Axon percentage = 0.0\n",
      "Not adding candidate no axon branches detected \n",
      "\n",
      "\n",
      " --- Working on limb 2, candidate # 2\n",
      "0 out of 3 branches are axons\n",
      "Axon percentage = 0.0\n",
      "Not adding candidate no axon branches detected \n",
      "\n",
      "\n",
      " --- Working on limb 4, candidate # 0\n",
      "0 out of 1 branches are axons\n",
      "Axon percentage = 0.0\n",
      "Not adding candidate no axon branches detected \n",
      "\n",
      "\n",
      " --- Working on limb 4, candidate # 1\n",
      "0 out of 3 branches are axons\n",
      "Axon percentage = 0.0\n",
      "Not adding candidate no axon branches detected \n",
      "\n",
      "\n",
      " --- Working on limb 5, candidate # 0\n",
      "17 out of 17 branches are axons\n",
      "Axon percentage = 1.0\n",
      "curr_axon_angle_threshold = 95\n",
      "candidate_nodes = [ 3  6  7 12 13 14 15 16 17 18 19 20 24 25 38 39 40 41]\n",
      "non_axon_branches_on_subgraph = [7]\n",
      "endnodes_to_test = [1418]\n",
      "Skeleton paths distances = [24924.83704771]\n",
      "Filtered indexes = [0]\n",
      "len(filtered_skeletons) = 1\n",
      "sk_angles = [158.03407962]\n",
      "candidate_angles,restr_skels = (array([158.03407962]), [array([[[725707.0657523 , 593566.2067252 , 887744.24885657],\n",
      "        [725678.56160802, 593661.13211101, 887730.95656982]],\n",
      "\n",
      "       [[725678.56160802, 593661.13211101, 887730.95656982],\n",
      "        [725650.34081719, 593756.09411708, 887717.37368413]],\n",
      "\n",
      "       [[725650.34081719, 593756.09411708, 887717.37368413],\n",
      "        [725624.35437152, 593851.34488717, 887701.49931995]],\n",
      "\n",
      "       [[725624.35437152, 593851.34488717, 887701.49931995],\n",
      "        [725598.36792586, 593946.59565727, 887685.62495578]],\n",
      "\n",
      "       [[725598.36792586, 593946.59565727, 887685.62495578],\n",
      "        [725575.51151245, 594042.42809387, 887668.54594975]],\n",
      "\n",
      "       [[725575.51151245, 594042.42809387, 887668.54594975],\n",
      "        [725553.20511309, 594138.36274179, 887651.25526222]],\n",
      "\n",
      "       [[725553.20511309, 594138.36274179, 887651.25526222],\n",
      "        [725533.80408705, 594234.84016853, 887633.63734762]],\n",
      "\n",
      "       [[725533.80408705, 594234.84016853, 887633.63734762],\n",
      "        [725516.1494637 , 594331.6438564 , 887615.82273877]],\n",
      "\n",
      "       [[725516.1494637 , 594331.6438564 , 887615.82273877],\n",
      "        [725500.55029913, 594428.77365351, 887598.03756861]],\n",
      "\n",
      "       [[725500.55029913, 594428.77365351, 887598.03756861],\n",
      "        [725487.87210851, 594526.36687834, 887580.29423322]],\n",
      "\n",
      "       [[725487.87210851, 594526.36687834, 887580.29423322],\n",
      "        [725476.01101802, 594624.06065245, 887562.6236352 ]],\n",
      "\n",
      "       [[725476.01101802, 594624.06065245, 887562.6236352 ],\n",
      "        [725467.72789605, 594722.19471802, 887545.27154408]],\n",
      "\n",
      "       [[725467.72789605, 594722.19471802, 887545.27154408],\n",
      "        [725459.44477409, 594820.32878358, 887527.91945296]],\n",
      "\n",
      "       [[725459.44477409, 594820.32878358, 887527.91945296],\n",
      "        [725453.96040652, 594918.73341061, 887511.01620748]],\n",
      "\n",
      "       [[725453.96040652, 594918.73341061, 887511.01620748],\n",
      "        [725448.72851111, 595017.16244464, 887494.1534518 ]],\n",
      "\n",
      "       [[725448.72851111, 595017.16244464, 887494.1534518 ],\n",
      "        [725444.30090963, 595115.6689439 , 887477.52860922]],\n",
      "\n",
      "       [[725444.30090963, 595115.6689439 , 887477.52860922],\n",
      "        [725440.41807841, 595214.22791246, 887461.06491167]],\n",
      "\n",
      "       [[725440.41807841, 595214.22791246, 887461.06491167],\n",
      "        [725436.46237386, 595312.78761501, 887444.62355869]],\n",
      "\n",
      "       [[725436.46237386, 595312.78761501, 887444.62355869],\n",
      "        [725432.26401715, 595411.34976157, 887428.25660825]],\n",
      "\n",
      "       [[725432.26401715, 595411.34976157, 887428.25660825],\n",
      "        [725428.06566044, 595509.91190813, 887411.88965781]],\n",
      "\n",
      "       [[725428.06566044, 595509.91190813, 887411.88965781],\n",
      "        [725422.4408246 , 595608.33340332, 887395.12158968]],\n",
      "\n",
      "       [[725422.4408246 , 595608.33340332, 887395.12158968],\n",
      "        [725416.55690206, 595706.72935247, 887378.28066788]],\n",
      "\n",
      "       [[725416.55690206, 595706.72935247, 887378.28066788],\n",
      "        [725409.41655722, 595804.91966353, 887360.8032211 ]],\n",
      "\n",
      "       [[725409.41655722, 595804.91966353, 887360.8032211 ],\n",
      "        [725400.901286  , 595902.88494101, 887342.62921315]],\n",
      "\n",
      "       [[725400.901286  , 595902.88494101, 887342.62921315],\n",
      "        [725391.88117303, 596000.72016899, 887324.062324  ]],\n",
      "\n",
      "       [[725391.88117303, 596000.72016899, 887324.062324  ],\n",
      "        [725380.28272537, 596097.89120639, 887303.48890662]],\n",
      "\n",
      "       [[725380.28272537, 596097.89120639, 887303.48890662],\n",
      "        [725368.68427772, 596195.06224379, 887282.91548924]],\n",
      "\n",
      "       [[725368.68427772, 596195.06224379, 887282.91548924],\n",
      "        [725354.28964707, 596291.10139391, 887259.08195705]],\n",
      "\n",
      "       [[725354.28964707, 596291.10139391, 887259.08195705],\n",
      "        [725339.7194067 , 596387.0694577 , 887235.04367865]],\n",
      "\n",
      "       [[725339.7194067 , 596387.0694577 , 887235.04367865],\n",
      "        [725323.28035208, 596481.76233015, 887207.48423057]],\n",
      "\n",
      "       [[725323.28035208, 596481.76233015, 887207.48423057],\n",
      "        [725306.46851933, 596576.20083624, 887179.22240392]],\n",
      "\n",
      "       [[725306.46851933, 596576.20083624, 887179.22240392],\n",
      "        [725288.82950628, 596669.28036349, 887147.25093277]],\n",
      "\n",
      "       [[725288.82950628, 596669.28036349, 887147.25093277],\n",
      "        [725271.04367192, 596762.11867723, 887114.62101401]],\n",
      "\n",
      "       [[725271.04367192, 596762.11867723, 887114.62101401],\n",
      "        [725253.70830193, 596853.67725294, 887078.34275154]],\n",
      "\n",
      "       [[725253.70830193, 596853.67725294, 887078.34275154],\n",
      "        [725236.64127322, 596945.06717808, 887041.52830254]],\n",
      "\n",
      "       [[725236.64127322, 596945.06717808, 887041.52830254],\n",
      "        [725220.77061761, 597035.82788573, 887002.66165568]],\n",
      "\n",
      "       [[725220.77061761, 597035.82788573, 887002.66165568],\n",
      "        [725205.51904057, 597126.50920353, 886963.37459483]],\n",
      "\n",
      "       [[725205.51904057, 597126.50920353, 886963.37459483],\n",
      "        [725191.15824072, 597217.07628921, 886923.48261043]],\n",
      "\n",
      "       [[725191.15824072, 597217.07628921, 886923.48261043],\n",
      "        [725177.23656498, 597307.76955579, 886883.72356585]],\n",
      "\n",
      "       [[725177.23656498, 597307.76955579, 886883.72356585],\n",
      "        [725163.5800337 , 597398.53901078, 886844.04479074]],\n",
      "\n",
      "       [[725163.5800337 , 597398.53901078, 886844.04479074],\n",
      "        [725149.64021765, 597489.60359648, 886805.1514966 ]],\n",
      "\n",
      "       [[725149.64021765, 597489.60359648, 886805.1514966 ],\n",
      "        [725135.61573012, 597580.75639431, 886766.49297623]],\n",
      "\n",
      "       [[725135.61573012, 597580.75639431, 886766.49297623],\n",
      "        [725120.71532622, 597672.25004733, 886728.99121156]],\n",
      "\n",
      "       [[725120.71532622, 597672.25004733, 886728.99121156],\n",
      "        [725105.61499027, 597763.82150216, 886691.75348183]],\n",
      "\n",
      "       [[725105.61499027, 597763.82150216, 886691.75348183],\n",
      "        [725089.6623795 , 597855.67948168, 886655.60211837]],\n",
      "\n",
      "       [[725089.6623795 , 597855.67948168, 886655.60211837],\n",
      "        [725073.40774584, 597947.63899773, 886619.8357334 ]],\n",
      "\n",
      "       [[725073.40774584, 597947.63899773, 886619.8357334 ],\n",
      "        [725056.75309072, 598039.76526016, 886584.69477125]],\n",
      "\n",
      "       [[725056.75309072, 598039.76526016, 886584.69477125],\n",
      "        [725039.76195274, 598132.03178333, 886550.07989103]],\n",
      "\n",
      "       [[725039.76195274, 598132.03178333, 886550.07989103],\n",
      "        [725022.73065564, 598224.32755854, 886515.56340697]],\n",
      "\n",
      "       [[725022.73065564, 598224.32755854, 886515.56340697],\n",
      "        [725005.57665107, 598316.71271433, 886481.34757559]],\n",
      "\n",
      "       [[725005.57665107, 598316.71271433, 886481.34757559],\n",
      "        [724988.4226465 , 598409.09787012, 886447.1317442 ]],\n",
      "\n",
      "       [[724988.4226465 , 598409.09787012, 886447.1317442 ],\n",
      "        [724971.47171373, 598501.25746671, 886412.21477344]],\n",
      "\n",
      "       [[724971.47171373, 598501.25746671, 886412.21477344],\n",
      "        [724954.5485383 , 598593.38623222, 886377.20196578]],\n",
      "\n",
      "       [[724954.5485383 , 598593.38623222, 886377.20196578],\n",
      "        [724937.74833162, 598685.10028411, 886341.08060438]],\n",
      "\n",
      "       [[724937.74833162, 598685.10028411, 886341.08060438],\n",
      "        [724921.08125352, 598776.36535816, 886303.75909898]],\n",
      "\n",
      "       [[724921.08125352, 598776.36535816, 886303.75909898],\n",
      "        [724904.40770517, 598867.48935185, 886266.11519294]],\n",
      "\n",
      "       [[724904.40770517, 598867.48935185, 886266.11519294],\n",
      "        [724887.66381277, 598957.07953086, 886224.96617239]],\n",
      "\n",
      "       [[724887.66381277, 598957.07953086, 886224.96617239],\n",
      "        [724870.91992038, 599046.66970987, 886183.81715184]],\n",
      "\n",
      "       [[724870.91992038, 599046.66970987, 886183.81715184],\n",
      "        [724853.74044446, 599134.42519129, 886139.1228271 ]],\n",
      "\n",
      "       [[724853.74044446, 599134.42519129, 886139.1228271 ],\n",
      "        [724836.39191046, 599221.46859239, 886093.05250375]],\n",
      "\n",
      "       [[724836.39191046, 599221.46859239, 886093.05250375],\n",
      "        [724818.58380425, 599307.2081381 , 886044.86312762]],\n",
      "\n",
      "       [[724818.58380425, 599307.2081381 , 886044.86312762],\n",
      "        [724800.10190107, 599391.03604994, 885993.56692453]],\n",
      "\n",
      "       [[724800.10190107, 599391.03604994, 885993.56692453],\n",
      "        [724781.39096483, 599474.36357213, 885941.58675141]],\n",
      "\n",
      "       [[724781.39096483, 599474.36357213, 885941.58675141],\n",
      "        [724761.3466802 , 599554.7780052 , 885885.62474994]],\n",
      "\n",
      "       [[724761.3466802 , 599554.7780052 , 885885.62474994],\n",
      "        [724741.30239558, 599635.19243827, 885829.66274848]],\n",
      "\n",
      "       [[724741.30239558, 599635.19243827, 885829.66274848],\n",
      "        [724719.45420237, 599712.72280157, 885770.41369868]],\n",
      "\n",
      "       [[724719.45420237, 599712.72280157, 885770.41369868],\n",
      "        [724697.50529444, 599790.09214325, 885710.98112841]],\n",
      "\n",
      "       [[724697.50529444, 599790.09214325, 885710.98112841],\n",
      "        [724673.78684262, 599865.67390802, 885649.96649945]],\n",
      "\n",
      "       [[724673.78684262, 599865.67390802, 885649.96649945],\n",
      "        [724649.65816598, 599940.84126747, 885588.58510946]],\n",
      "\n",
      "       [[724649.65816598, 599940.84126747, 885588.58510946],\n",
      "        [724623.8189448 , 600015.25727288, 885526.99459353]],\n",
      "\n",
      "       [[724623.8189448 , 600015.25727288, 885526.99459353],\n",
      "        [724597.39838166, 600089.41792473, 885465.3330045 ]],\n",
      "\n",
      "       [[724597.39838166, 600089.41792473, 885465.3330045 ],\n",
      "        [724569.45869467, 600163.93571654, 885404.79160104]],\n",
      "\n",
      "       [[724569.45869467, 600163.93571654, 885404.79160104],\n",
      "        [724541.02044401, 600238.57071869, 885344.61783305]],\n",
      "\n",
      "       [[724541.02044401, 600238.57071869, 885344.61783305],\n",
      "        [724511.64492668, 600314.9518815 , 885287.16698351]],\n",
      "\n",
      "       [[724511.64492668, 600314.9518815 , 885287.16698351],\n",
      "        [724482.07133943, 600391.70205553, 885230.29156067]],\n",
      "\n",
      "       [[724482.07133943, 600391.70205553, 885230.29156067],\n",
      "        [724452.8616179 , 600471.83695575, 885178.10560241]],\n",
      "\n",
      "       [[724452.8616179 , 600471.83695575, 885178.10560241],\n",
      "        [724423.89522393, 600552.58465176, 885126.76970138]],\n",
      "\n",
      "       [[724423.89522393, 600552.58465176, 885126.76970138],\n",
      "        [724396.96747896, 600637.24989648, 885080.87097715]],\n",
      "\n",
      "       [[724396.96747896, 600637.24989648, 885080.87097715],\n",
      "        [724371.04056389, 600722.96050712, 885036.50835696]],\n",
      "\n",
      "       [[724371.04056389, 600722.96050712, 885036.50835696],\n",
      "        [724348.13457104, 600811.82646822, 884996.78233968]],\n",
      "\n",
      "       [[724348.13457104, 600811.82646822, 884996.78233968],\n",
      "        [724327.20472507, 600901.94077587, 884959.02293267]],\n",
      "\n",
      "       [[724327.20472507, 600901.94077587, 884959.02293267],\n",
      "        [724309.57448948, 600994.13947172, 884924.54721257]],\n",
      "\n",
      "       [[724309.57448948, 600994.13947172, 884924.54721257],\n",
      "        [724294.6877192 , 601087.34444032, 884891.71248413]],\n",
      "\n",
      "       [[724294.6877192 , 601087.34444032, 884891.71248413],\n",
      "        [724283.00030551, 601181.72289754, 884860.79143671]],\n",
      "\n",
      "       [[724283.00030551, 601181.72289754, 884860.79143671],\n",
      "        [724274.44209856, 601276.63847282, 884830.66829332]],\n",
      "\n",
      "       [[724274.44209856, 601276.63847282, 884830.66829332],\n",
      "        [724268.91668945, 601372.0746179 , 884801.31847106]],\n",
      "\n",
      "       [[724268.91668945, 601372.0746179 , 884801.31847106],\n",
      "        [724266.54729268, 601467.55006014, 884771.82978738]],\n",
      "\n",
      "       [[724266.54729268, 601467.55006014, 884771.82978738],\n",
      "        [724267.1006143 , 601563.06189469, 884742.21250699]],\n",
      "\n",
      "       [[724267.1006143 , 601563.06189469, 884742.21250699],\n",
      "        [724270.5427025 , 601658.19845219, 884711.7477398 ]],\n",
      "\n",
      "       [[724270.5427025 , 601658.19845219, 884711.7477398 ],\n",
      "        [724276.83632628, 601752.96456929, 884680.44640838]],\n",
      "\n",
      "       [[724276.83632628, 601752.96456929, 884680.44640838],\n",
      "        [724285.50796846, 601847.09717256, 884647.96201873]],\n",
      "\n",
      "       [[724285.50796846, 601847.09717256, 884647.96201873],\n",
      "        [724296.92891506, 601940.49734988, 884614.10985698]],\n",
      "\n",
      "       [[724296.92891506, 601940.49734988, 884614.10985698],\n",
      "        [724310.04156736, 602033.21532683, 884579.11699164]],\n",
      "\n",
      "       [[724310.04156736, 602033.21532683, 884579.11699164],\n",
      "        [724325.68877063, 602124.91121604, 884542.41509889]],\n",
      "\n",
      "       [[724325.68877063, 602124.91121604, 884542.41509889],\n",
      "        [724342.29058031, 602216.08485902, 884504.89655004]],\n",
      "\n",
      "       [[724342.29058031, 602216.08485902, 884504.89655004],\n",
      "        [724361.00962625, 602306.10020406, 884465.56672704]],\n",
      "\n",
      "       [[724361.00962625, 602306.10020406, 884465.56672704],\n",
      "        [724380.07140117, 602395.86625371, 884425.85078812]],\n",
      "\n",
      "       [[724380.07140117, 602395.86625371, 884425.85078812],\n",
      "        [724400.54004049, 602484.60897346, 884384.54988625]],\n",
      "\n",
      "       [[724400.54004049, 602484.60897346, 884384.54988625],\n",
      "        [724421.03194294, 602573.31695644, 884343.18697252]],\n",
      "\n",
      "       [[724421.03194294, 602573.31695644, 884343.18697252],\n",
      "        [724441.8776046 , 602661.49670229, 884300.88105318]]])])\n"
     ]
    },
    {
     "name": "stdout",
     "output_type": "stream",
     "text": [
      "base_final_widths = [167.477567   188.03630744 227.30013246]\n",
      "overall_ais_width = 207.82222572428898\n",
      "ais_width = 194.2713356329035\n",
      "Adding the following branches as true axons: [ 3  6 38 39 41 40 12 13 14 15 16 17 18 19 20 24 25]\n",
      "curr_soma_angle = 157.51\n",
      "max_axon_angle = 158.03407962486338\n",
      "Changing to a better axon candidate\n",
      "\n",
      "\n",
      " --- Working on limb 5, candidate # 1\n",
      "1 out of 5 branches are axons\n",
      "Axon percentage = 0.2\n",
      "curr_axon_angle_threshold = 120\n",
      "candidate_nodes = [1 2 4 5 7 8 9]\n",
      "non_axon_branches_on_subgraph = [1 2 5 7 8 9]\n",
      "endnodes_to_test = []\n",
      "candidate_angles,restr_skels = (None, None)\n",
      "Not adding candidate because no angles (None) passed the threhold 120 \n",
      "\n",
      "\n",
      " --- Working on limb 5, candidate # 2\n",
      "0 out of 1 branches are axons\n",
      "Axon percentage = 0.0\n",
      "Not adding candidate no axon branches detected \n",
      "\n",
      "\n",
      " --- Working on limb 5, candidate # 3\n",
      "11 out of 17 branches are axons\n",
      "Axon percentage = 0.6470588235294118\n",
      "curr_axon_angle_threshold = 120\n",
      "candidate_nodes = [ 0  7  8 11 21 22 23 26 27 28 29 30 31 32 33 34 35 36 37]\n",
      "non_axon_branches_on_subgraph = [ 7  8 11 21 22 26 27 32]\n",
      "endnodes_to_test = []\n",
      "candidate_angles,restr_skels = (None, None)\n",
      "Not adding candidate because no angles (None) passed the threhold 120 \n",
      "Using the best axon approach\n",
      "Using True\n",
      "Limb L5: Axon branches before dendritic path filter = [ 3  6 38 39 41 40 12 13 14 15 16 17 18 19 20 24 25]\n",
      "Limb L5: Axon branches AFTER dendritic path filter = [ 3  6 12 13 14 15 16 17 18 19 20 24 25 38 39 40 41]\n",
      "\n",
      "\n",
      "Part 4: final_true_axons = {'L5': array([ 3,  6, 12, 13, 14, 15, 16, 17, 18, 19, 20, 24, 25, 38, 39, 40, 41])}\n",
      "\n",
      "--- Working on filter 0:\n",
      "function = dendrite_on_axon_merges\n",
      "function __name__ = filter_away_dendrite_on_axon_merges\n",
      "function arguments = {'use_pre_existing_axon_labels': True}\n",
      "\n",
      "\n",
      "\n",
      "\n",
      "\n",
      " ---- Total time for applying filter: 0.3842275142669678 -----\n",
      "Starting axon branch was not the limb starting node so generating border vertices and computing upstream branch\n",
      "upstream_node_to_axon_starting_branch = 7\n"
     ]
    },
    {
     "name": "stderr",
     "output_type": "stream",
     "text": [
      "\r",
      "  0%|          | 0/1 [00:00<?, ?it/s]"
     ]
    },
    {
     "name": "stdout",
     "output_type": "stream",
     "text": [
      "root_curr = [725802.6 586360.4 885110.3]\n",
      "Time for preparing soma vertices and root: 0.0006244182586669922\n",
      "invalidation_d = 2000\n",
      "cc_vertex_thresh = 10\n"
     ]
    },
    {
     "data": {
      "application/vnd.jupyter.widget-view+json": {
       "model_id": "b1fc0a5cd4d34ad39590c67e45f3421c",
       "version_major": 2,
       "version_minor": 0
      },
      "text/plain": [
       "  0%|          | 0/57920 [00:00<?, ?it/s]"
      ]
     },
     "metadata": {},
     "output_type": "display_data"
    },
    {
     "name": "stderr",
     "output_type": "stream",
     "text": [
      "100%|██████████| 1/1 [00:00<00:00,  1.62it/s]\n"
     ]
    },
    {
     "name": "stdout",
     "output_type": "stream",
     "text": [
      "meshparty_segment_size = 100\n",
      "Time for 1st pass MP skeletonization: 1.0672307014465332\n",
      "connecting at the root\n",
      "branches_touching_root = [42]\n",
      "combining close nodes\n",
      "combine_threshold = 1300\n",
      "length of Graph = 10433\n",
      "After combining close endpoints max(kept_branches_idx) = 42, len(kept_branches_idx) = 43\n",
      "empty_indices % = 0.0\n",
      " conflict_indices % = 0.006900910885602466\n"
     ]
    },
    {
     "data": {
      "application/vnd.jupyter.widget-view+json": {
       "model_id": "6a0a3b8618104e3289f6169e0df3ddf8",
       "version_major": 2,
       "version_minor": 0
      },
      "text/plain": [
       "  0%|          | 0/21 [00:00<?, ?it/s]"
      ]
     },
     "metadata": {},
     "output_type": "display_data"
    },
    {
     "name": "stdout",
     "output_type": "stream",
     "text": [
      "AFTER face_lookup_resolved_test\n"
     ]
    },
    {
     "data": {
      "application/vnd.jupyter.widget-view+json": {
       "model_id": "b70cbd95ff6040ecabb62a325e095c00",
       "version_major": 2,
       "version_minor": 0
      },
      "text/plain": [
       "  0%|          | 0/43 [00:00<?, ?it/s]"
      ]
     },
     "metadata": {},
     "output_type": "display_data"
    },
    {
     "name": "stdout",
     "output_type": "stream",
     "text": [
      "Decomposing first pass: 5.496382474899292\n",
      "Only Using MeshParty Skeletonization and Mesh Correspondence\n",
      "Another print\n",
      "Divinding into MP and MAP pieces: 0.00012421607971191406\n",
      "Total time for MAP sublimb processing 5.7220458984375e-06\n",
      "---- Working on MP Decomposition #0 ----\n",
      "Using Quicker soma_to_piece_touching_vertices because no MAP and only one sublimb_mesh piece \n",
      "MP filtering soma verts: 0.001207590103149414\n",
      "Fixing Possible Soma Extension Branch for Sublimb 0\n",
      "Total time for mesh KDTree = 0.0751338005065918\n",
      "sbv[0].reshape(-1,3) = [[725802.6 586360.4 885110.3]]\n",
      "closest_sk_pt_coord BEFORE = [726500.52304072 586051.8789444  884564.27849289]\n",
      "current_skeleton.shape = (560, 2, 3)\n",
      "node_for_stitch = 261: [726500.52304072 586051.8789444  884564.27849289]\n",
      "node_for_stitch AFTER = 261: [726500.52304072 586051.8789444  884564.27849289]\n",
      "possible_node_loc = [257 560]\n",
      "possible_node_loc AFTER = [257 560]\n",
      "curr_shortest_path = [261, 260.0, 259.0, 257.0]\n",
      "Current stitch point was not a branch or endpoint, shortest_path_length to one = 299.9999112864919\n",
      "Changing the stitch point becasue the distance to end or branch node was 299.9999112864919\n",
      "New stitch point has degree 1\n",
      "change_status for create soma extending pieces = True\n",
      "closest_sk_pt_coord AFTER = [726493.06020382 585775.36600398 884448.15712123]\n",
      "skipping soma 0 because closest skeleton node was already end node\n",
      "endpoints_must_keep = {0: array([[726493.06020382, 585775.36600398, 884448.15712123]])}\n",
      "match_sk_branches = [42]\n",
      "The new branch info was none so skipping \n",
      "\n",
      "No soma extending branch was added for this sublimb even though it had a soma border (means they already existed)\n",
      "MP (because soma touching verts) soma extension add: 0.5052518844604492\n",
      "There were not both MAP and MP pieces so skipping the stitch resolving phase\n",
      "Time for decomp of Limb = 8.065608978271484\n",
      "Number of matching vertices = 30\n",
      "Only one endpoint after filtering away the endpoints that are not on the skeleton\n",
      "Using Distance measure skeletal_distance\n",
      "endpoints_must_keep = [[726493.06020382 585775.36600398 884448.15712123]]\n",
      "Number of end_nodes BEFORE filtering = 23\n",
      "all_single_nodes_to_eliminate = [9]\n"
     ]
    },
    {
     "data": {
      "application/vnd.jupyter.widget-view+json": {
       "model_id": "59a9b0be542a47e281f5e4befdecf9c3",
       "version_major": 2,
       "version_minor": 0
      },
      "text/plain": [
       "  0%|          | 0/4 [00:00<?, ?it/s]"
      ]
     },
     "metadata": {},
     "output_type": "display_data"
    },
    {
     "name": "stdout",
     "output_type": "stream",
     "text": [
      "Removed 4 skeletal branches\n"
     ]
    },
    {
     "data": {
      "application/vnd.jupyter.widget-view+json": {
       "model_id": "b8a6ac1d8a0e494594925a806f309e75",
       "version_major": 2,
       "version_minor": 0
      },
      "text/plain": [
       "  0%|          | 0/43 [00:00<?, ?it/s]"
      ]
     },
     "metadata": {},
     "output_type": "display_data"
    },
    {
     "name": "stdout",
     "output_type": "stream",
     "text": [
      "115491 115492\n",
      "For marked faces: None\n",
      "empty_indices % = 0.0\n",
      " conflict_indices % = 0.0\n"
     ]
    },
    {
     "data": {
      "application/vnd.jupyter.widget-view+json": {
       "model_id": "7745e29850e64e39a2e622b18c6fd7e3",
       "version_major": 2,
       "version_minor": 0
      },
      "text/plain": [
       "0it [00:00, ?it/s]"
      ]
     },
     "metadata": {},
     "output_type": "display_data"
    },
    {
     "name": "stdout",
     "output_type": "stream",
     "text": [
      "AFTER face_lookup_resolved_test\n"
     ]
    },
    {
     "data": {
      "application/vnd.jupyter.widget-view+json": {
       "model_id": "a85886ee11144b2bae038bc43ba8d286",
       "version_major": 2,
       "version_minor": 0
      },
      "text/plain": [
       "  0%|          | 0/35 [00:00<?, ?it/s]"
      ]
     },
     "metadata": {},
     "output_type": "display_data"
    },
    {
     "name": "stdout",
     "output_type": "stream",
     "text": [
      "Limb Correspondence before stitching = 35\n",
      "Limb Correspondence AFTER stitching = 35\n",
      "Readjusting starting axon branch skeleton\n",
      "Fixing the axon starting branch endpoint to align with upstream branch\n",
      "Starting Branch 12 skeleton before fix: (560, 2, 3)\n",
      "Starting Branch 12 skeleton AFTER fix: (561, 2, 3)\n",
      "concept_network_dict = {0: [<networkx_utils.GraphOrderedEdges object at 0x7f627cd86f98>]}\n",
      "\n",
      "\n",
      "----Working on seperate_graph 0----\n",
      "\n",
      "\n",
      "---------Working on soma_idx = 0, soma_group_idx 0, endpt = [726780.08461538 584692.84230769 884368.61923077]---------\n",
      "Starting_edge inside branches_to_conept = [[726780.08461538 584692.84230769 884368.61923077]\n",
      " [726795.23711895 585490.23636776 884148.44873445]]\n",
      "At the start, starting_node (in terms of the skeleton, that shouldn't match the starting edge) = [17]\n",
      "printing out current edge:\n",
      "[[726780.08461538 584692.84230769 884368.61923077]\n",
      " [726795.23711895 585490.23636776 884148.44873445]]\n",
      "edge_endpoints_to_process was empty so exiting loop after 60 iterations\n",
      "starting_node in concept map (that should match the starting edge) = 35\n",
      "Total time for branches to concept conversion = 1.4342353343963623\n",
      "\n",
      "Done generating concept network \n",
      "\n",
      "\n"
     ]
    },
    {
     "data": {
      "application/vnd.jupyter.widget-view+json": {
       "model_id": "ae8afee29d9f43129ae995151fe9ed11",
       "version_major": 2,
       "version_minor": 0
      },
      "text/plain": [
       "  0%|          | 0/28 [00:00<?, ?it/s]"
      ]
     },
     "metadata": {},
     "output_type": "display_data"
    },
    {
     "data": {
      "application/vnd.jupyter.widget-view+json": {
       "model_id": "37c5a3d12b5b4a7ebf7425ad82ede3b4",
       "version_major": 2,
       "version_minor": 0
      },
      "text/plain": [
       "  0%|          | 0/16 [00:00<?, ?it/s]"
      ]
     },
     "metadata": {},
     "output_type": "display_data"
    },
    {
     "data": {
      "application/vnd.jupyter.widget-view+json": {
       "model_id": "e0e89902478a47f8b70639fa74ad5697",
       "version_major": 2,
       "version_minor": 0
      },
      "text/plain": [
       "  0%|          | 0/5 [00:00<?, ?it/s]"
      ]
     },
     "metadata": {},
     "output_type": "display_data"
    },
    {
     "data": {
      "application/vnd.jupyter.widget-view+json": {
       "model_id": "6f263aec2f614f2e9fab5c0cd6d1fd3a",
       "version_major": 2,
       "version_minor": 0
      },
      "text/plain": [
       "  0%|          | 0/5 [00:00<?, ?it/s]"
      ]
     },
     "metadata": {},
     "output_type": "display_data"
    },
    {
     "data": {
      "application/vnd.jupyter.widget-view+json": {
       "model_id": "f050a9bdb7234aadb8254f16ba98c957",
       "version_major": 2,
       "version_minor": 0
      },
      "text/plain": [
       "  0%|          | 0/4 [00:00<?, ?it/s]"
      ]
     },
     "metadata": {},
     "output_type": "display_data"
    },
    {
     "data": {
      "application/vnd.jupyter.widget-view+json": {
       "model_id": "3c23e37c25e44d6e9d885007a3060a8c",
       "version_major": 2,
       "version_minor": 0
      },
      "text/plain": [
       "  0%|          | 0/4 [00:00<?, ?it/s]"
      ]
     },
     "metadata": {},
     "output_type": "display_data"
    },
    {
     "data": {
      "application/vnd.jupyter.widget-view+json": {
       "model_id": "c04c5945284e4d709cf129c667dd9b2f",
       "version_major": 2,
       "version_minor": 0
      },
      "text/plain": [
       "  0%|          | 0/3 [00:00<?, ?it/s]"
      ]
     },
     "metadata": {},
     "output_type": "display_data"
    },
    {
     "data": {
      "application/vnd.jupyter.widget-view+json": {
       "model_id": "9d1b40b757824e18924794549db39f3f",
       "version_major": 2,
       "version_minor": 0
      },
      "text/plain": [
       "  0%|          | 0/8 [00:00<?, ?it/s]"
      ]
     },
     "metadata": {},
     "output_type": "display_data"
    },
    {
     "data": {
      "application/vnd.jupyter.widget-view+json": {
       "model_id": "44c4e4a4cde646009b22b0dc6674df47",
       "version_major": 2,
       "version_minor": 0
      },
      "text/plain": [
       "  0%|          | 0/17 [00:00<?, ?it/s]"
      ]
     },
     "metadata": {},
     "output_type": "display_data"
    },
    {
     "data": {
      "application/vnd.jupyter.widget-view+json": {
       "model_id": "1481f8e95b99498495a7402aac771022",
       "version_major": 2,
       "version_minor": 0
      },
      "text/plain": [
       "  0%|          | 0/60 [00:00<?, ?it/s]"
      ]
     },
     "metadata": {},
     "output_type": "display_data"
    },
    {
     "data": {
      "application/vnd.jupyter.widget-view+json": {
       "model_id": "8652047ecd1b420db8108c9d32724870",
       "version_major": 2,
       "version_minor": 0
      },
      "text/plain": [
       "  0%|          | 0/6 [00:00<?, ?it/s]"
      ]
     },
     "metadata": {},
     "output_type": "display_data"
    },
    {
     "data": {
      "application/vnd.jupyter.widget-view+json": {
       "model_id": "14ab7b68a8c248cd94984f72b8b28411",
       "version_major": 2,
       "version_minor": 0
      },
      "text/plain": [
       "  0%|          | 0/4 [00:00<?, ?it/s]"
      ]
     },
     "metadata": {},
     "output_type": "display_data"
    },
    {
     "data": {
      "application/vnd.jupyter.widget-view+json": {
       "model_id": "c15bfe502ff94ce8b46cbbae3e3dd5ee",
       "version_major": 2,
       "version_minor": 0
      },
      "text/plain": [
       "  0%|          | 0/14 [00:00<?, ?it/s]"
      ]
     },
     "metadata": {},
     "output_type": "display_data"
    },
    {
     "data": {
      "application/vnd.jupyter.widget-view+json": {
       "model_id": "48319f8d74f94977949e5ebefeff93f5",
       "version_major": 2,
       "version_minor": 0
      },
      "text/plain": [
       "  0%|          | 0/6 [00:00<?, ?it/s]"
      ]
     },
     "metadata": {},
     "output_type": "display_data"
    },
    {
     "data": {
      "application/vnd.jupyter.widget-view+json": {
       "model_id": "391af263abcf424398783147f42c0ff0",
       "version_major": 2,
       "version_minor": 0
      },
      "text/plain": [
       "  0%|          | 0/20 [00:00<?, ?it/s]"
      ]
     },
     "metadata": {},
     "output_type": "display_data"
    },
    {
     "data": {
      "application/vnd.jupyter.widget-view+json": {
       "model_id": "b6213629d69840f9ba9d4121fbd77304",
       "version_major": 2,
       "version_minor": 0
      },
      "text/plain": [
       "  0%|          | 0/7 [00:00<?, ?it/s]"
      ]
     },
     "metadata": {},
     "output_type": "display_data"
    },
    {
     "data": {
      "application/vnd.jupyter.widget-view+json": {
       "model_id": "7996bb16352c4bc2af07afbe3185990c",
       "version_major": 2,
       "version_minor": 0
      },
      "text/plain": [
       "  0%|          | 0/7 [00:00<?, ?it/s]"
      ]
     },
     "metadata": {},
     "output_type": "display_data"
    },
    {
     "data": {
      "application/vnd.jupyter.widget-view+json": {
       "model_id": "53b7601014634c95947ea0604bf679f3",
       "version_major": 2,
       "version_minor": 0
      },
      "text/plain": [
       "  0%|          | 0/12 [00:00<?, ?it/s]"
      ]
     },
     "metadata": {},
     "output_type": "display_data"
    },
    {
     "data": {
      "application/vnd.jupyter.widget-view+json": {
       "model_id": "ffd89b671027475d9e8d4604d00a2a7a",
       "version_major": 2,
       "version_minor": 0
      },
      "text/plain": [
       "  0%|          | 0/5 [00:00<?, ?it/s]"
      ]
     },
     "metadata": {},
     "output_type": "display_data"
    },
    {
     "data": {
      "application/vnd.jupyter.widget-view+json": {
       "model_id": "43ac42bd6f1243048a10932dde11e5fb",
       "version_major": 2,
       "version_minor": 0
      },
      "text/plain": [
       "  0%|          | 0/23 [00:00<?, ?it/s]"
      ]
     },
     "metadata": {},
     "output_type": "display_data"
    },
    {
     "data": {
      "application/vnd.jupyter.widget-view+json": {
       "model_id": "36222dbdca9d4ed89845896c52fdf7b7",
       "version_major": 2,
       "version_minor": 0
      },
      "text/plain": [
       "  0%|          | 0/8 [00:00<?, ?it/s]"
      ]
     },
     "metadata": {},
     "output_type": "display_data"
    },
    {
     "data": {
      "application/vnd.jupyter.widget-view+json": {
       "model_id": "87de679ae542474dbe2a72c7d2335a80",
       "version_major": 2,
       "version_minor": 0
      },
      "text/plain": [
       "  0%|          | 0/8 [00:00<?, ?it/s]"
      ]
     },
     "metadata": {},
     "output_type": "display_data"
    },
    {
     "data": {
      "application/vnd.jupyter.widget-view+json": {
       "model_id": "9c4d2e4642774c7e9d403ab4d0809a8d",
       "version_major": 2,
       "version_minor": 0
      },
      "text/plain": [
       "  0%|          | 0/6 [00:00<?, ?it/s]"
      ]
     },
     "metadata": {},
     "output_type": "display_data"
    },
    {
     "data": {
      "application/vnd.jupyter.widget-view+json": {
       "model_id": "daf6f26e1a7d4a698b23187249acda87",
       "version_major": 2,
       "version_minor": 0
      },
      "text/plain": [
       "  0%|          | 0/12 [00:00<?, ?it/s]"
      ]
     },
     "metadata": {},
     "output_type": "display_data"
    },
    {
     "data": {
      "application/vnd.jupyter.widget-view+json": {
       "model_id": "0f899f9689ad4807a61ba57b6c13a8fe",
       "version_major": 2,
       "version_minor": 0
      },
      "text/plain": [
       "  0%|          | 0/15 [00:00<?, ?it/s]"
      ]
     },
     "metadata": {},
     "output_type": "display_data"
    },
    {
     "data": {
      "application/vnd.jupyter.widget-view+json": {
       "model_id": "16595c85a43d40ec8897c9debacf271d",
       "version_major": 2,
       "version_minor": 0
      },
      "text/plain": [
       "  0%|          | 0/6 [00:00<?, ?it/s]"
      ]
     },
     "metadata": {},
     "output_type": "display_data"
    },
    {
     "data": {
      "application/vnd.jupyter.widget-view+json": {
       "model_id": "51c8111a91e845e29f934643cc819051",
       "version_major": 2,
       "version_minor": 0
      },
      "text/plain": [
       "  0%|          | 0/13 [00:00<?, ?it/s]"
      ]
     },
     "metadata": {},
     "output_type": "display_data"
    },
    {
     "data": {
      "application/vnd.jupyter.widget-view+json": {
       "model_id": "5d4db0a8092d44d78c6caef7573eeb14",
       "version_major": 2,
       "version_minor": 0
      },
      "text/plain": [
       "  0%|          | 0/7 [00:00<?, ?it/s]"
      ]
     },
     "metadata": {},
     "output_type": "display_data"
    },
    {
     "data": {
      "application/vnd.jupyter.widget-view+json": {
       "model_id": "7232aa58397a4ea1b956787468d8f4b6",
       "version_major": 2,
       "version_minor": 0
      },
      "text/plain": [
       "  0%|          | 0/41 [00:00<?, ?it/s]"
      ]
     },
     "metadata": {},
     "output_type": "display_data"
    },
    {
     "data": {
      "application/vnd.jupyter.widget-view+json": {
       "model_id": "0ab04f685b774dd6833868f0d79312b1",
       "version_major": 2,
       "version_minor": 0
      },
      "text/plain": [
       "  0%|          | 0/25 [00:00<?, ?it/s]"
      ]
     },
     "metadata": {},
     "output_type": "display_data"
    },
    {
     "data": {
      "application/vnd.jupyter.widget-view+json": {
       "model_id": "11baeb2d35de4b65a5ea1917d726799b",
       "version_major": 2,
       "version_minor": 0
      },
      "text/plain": [
       "  0%|          | 0/13 [00:00<?, ?it/s]"
      ]
     },
     "metadata": {},
     "output_type": "display_data"
    },
    {
     "data": {
      "application/vnd.jupyter.widget-view+json": {
       "model_id": "02109fb6c5e54b5faf8f097dabe6fc7d",
       "version_major": 2,
       "version_minor": 0
      },
      "text/plain": [
       "  0%|          | 0/17 [00:00<?, ?it/s]"
      ]
     },
     "metadata": {},
     "output_type": "display_data"
    },
    {
     "data": {
      "application/vnd.jupyter.widget-view+json": {
       "model_id": "be0c9a724e63430880a8957231b221bb",
       "version_major": 2,
       "version_minor": 0
      },
      "text/plain": [
       "  0%|          | 0/12 [00:00<?, ?it/s]"
      ]
     },
     "metadata": {},
     "output_type": "display_data"
    },
    {
     "data": {
      "application/vnd.jupyter.widget-view+json": {
       "model_id": "5cc9a08fd9474f45afd01876944d422e",
       "version_major": 2,
       "version_minor": 0
      },
      "text/plain": [
       "  0%|          | 0/27 [00:00<?, ?it/s]"
      ]
     },
     "metadata": {},
     "output_type": "display_data"
    },
    {
     "data": {
      "application/vnd.jupyter.widget-view+json": {
       "model_id": "b7cdb64a63bb4a16a9c3185ee7436f77",
       "version_major": 2,
       "version_minor": 0
      },
      "text/plain": [
       "  0%|          | 0/41 [00:00<?, ?it/s]"
      ]
     },
     "metadata": {},
     "output_type": "display_data"
    },
    {
     "data": {
      "application/vnd.jupyter.widget-view+json": {
       "model_id": "deceb5e936e84dcd8d7114a21ddaa0bf",
       "version_major": 2,
       "version_minor": 0
      },
      "text/plain": [
       "  0%|          | 0/17 [00:00<?, ?it/s]"
      ]
     },
     "metadata": {},
     "output_type": "display_data"
    },
    {
     "data": {
      "application/vnd.jupyter.widget-view+json": {
       "model_id": "e679bfa24ad24838bad4a6c45f8b6e1a",
       "version_major": 2,
       "version_minor": 0
      },
      "text/plain": [
       "  0%|          | 0/52 [00:00<?, ?it/s]"
      ]
     },
     "metadata": {},
     "output_type": "display_data"
    },
    {
     "data": {
      "application/vnd.jupyter.widget-view+json": {
       "model_id": "29a1068f547845a283bf3eb973cd1e55",
       "version_major": 2,
       "version_minor": 0
      },
      "text/plain": [
       "  0%|          | 0/78 [00:00<?, ?it/s]"
      ]
     },
     "metadata": {},
     "output_type": "display_data"
    },
    {
     "data": {
      "application/vnd.jupyter.widget-view+json": {
       "model_id": "3143829072624d888e10ab67e3ac0683",
       "version_major": 2,
       "version_minor": 0
      },
      "text/plain": [
       "  0%|          | 0/20 [00:00<?, ?it/s]"
      ]
     },
     "metadata": {},
     "output_type": "display_data"
    },
    {
     "data": {
      "application/vnd.jupyter.widget-view+json": {
       "model_id": "5a9f6918a3394f838153b3cc54e4c709",
       "version_major": 2,
       "version_minor": 0
      },
      "text/plain": [
       "  0%|          | 0/77 [00:00<?, ?it/s]"
      ]
     },
     "metadata": {},
     "output_type": "display_data"
    },
    {
     "data": {
      "application/vnd.jupyter.widget-view+json": {
       "model_id": "4203454e13e74466ab3867862a2c8260",
       "version_major": 2,
       "version_minor": 0
      },
      "text/plain": [
       "  0%|          | 0/24 [00:00<?, ?it/s]"
      ]
     },
     "metadata": {},
     "output_type": "display_data"
    },
    {
     "data": {
      "application/vnd.jupyter.widget-view+json": {
       "model_id": "91c4489c197a422586e96cf59d88523f",
       "version_major": 2,
       "version_minor": 0
      },
      "text/plain": [
       "  0%|          | 0/43 [00:00<?, ?it/s]"
      ]
     },
     "metadata": {},
     "output_type": "display_data"
    },
    {
     "data": {
      "application/vnd.jupyter.widget-view+json": {
       "model_id": "4820787efae24e848e03412f022fe6f9",
       "version_major": 2,
       "version_minor": 0
      },
      "text/plain": [
       "  0%|          | 0/284 [00:00<?, ?it/s]"
      ]
     },
     "metadata": {},
     "output_type": "display_data"
    },
    {
     "data": {
      "application/vnd.jupyter.widget-view+json": {
       "model_id": "22e57a8065784806a93716205aae5735",
       "version_major": 2,
       "version_minor": 0
      },
      "text/plain": [
       "  0%|          | 0/18 [00:00<?, ?it/s]"
      ]
     },
     "metadata": {},
     "output_type": "display_data"
    },
    {
     "data": {
      "application/vnd.jupyter.widget-view+json": {
       "model_id": "954e890077154743b55cb8c8ee7eadad",
       "version_major": 2,
       "version_minor": 0
      },
      "text/plain": [
       "  0%|          | 0/22 [00:00<?, ?it/s]"
      ]
     },
     "metadata": {},
     "output_type": "display_data"
    },
    {
     "data": {
      "application/vnd.jupyter.widget-view+json": {
       "model_id": "1258ed9538b244b0a5e09351f252dc9f",
       "version_major": 2,
       "version_minor": 0
      },
      "text/plain": [
       "  0%|          | 0/17 [00:00<?, ?it/s]"
      ]
     },
     "metadata": {},
     "output_type": "display_data"
    }
   ],
   "source": [
    "neuron_obj_with_web = au.complete_axon_processing(neuron_obj,\n",
    "                                                 verbose=True)"
   ]
  },
  {
   "cell_type": "markdown",
   "metadata": {},
   "source": [
    "# Need way of finding the intersection and webbings of incorrect to correct branching"
   ]
  },
  {
   "cell_type": "code",
   "execution_count": 43,
   "metadata": {},
   "outputs": [
    {
     "name": "stdout",
     "output_type": "stream",
     "text": [
      "Synapsse Results:\n",
      "Total Number of Synapses = 4803\n",
      "n_valid_syn_ids_presyn = 2\n",
      "n_errored_syn_ids_presyn = 226\n",
      "n_valid_syn_ids_postsyn = 4524\n",
      "n_errored_syn_ids_postsyn = 51\n",
      "Synapsse Results:\n",
      "Total Number of Synapses = 4803\n",
      "n_valid_syn_ids_presyn = 2\n",
      "n_errored_syn_ids_presyn = 226\n",
      "n_valid_syn_ids_postsyn = 4524\n",
      "n_errored_syn_ids_postsyn = 51\n"
     ]
    },
    {
     "data": {
      "application/vnd.jupyter.widget-view+json": {
       "model_id": "fa923980036e4672bc3c2b3793ce0099",
       "version_major": 2,
       "version_minor": 0
      },
      "text/plain": [
       "  0%|          | 0/15 [00:00<?, ?it/s]"
      ]
     },
     "metadata": {},
     "output_type": "display_data"
    },
    {
     "data": {
      "application/vnd.jupyter.widget-view+json": {
       "model_id": "b40ebfc19e2f4129a3550a48adc92b96",
       "version_major": 2,
       "version_minor": 0
      },
      "text/plain": [
       "  0%|          | 0/9 [00:00<?, ?it/s]"
      ]
     },
     "metadata": {},
     "output_type": "display_data"
    }
   ],
   "source": [
    "branch_attr = vu.neuron_to_border_branching_attributes(neuron_obj_with_web,\n",
    "                                         plot_valid_border_branches=False,\n",
    "                                          plot_invalid_border_branches = False,\n",
    "                                          verbose=False\n",
    "                                         )\n"
   ]
  },
  {
   "cell_type": "code",
   "execution_count": 50,
   "metadata": {},
   "outputs": [
    {
     "data": {
      "text/plain": [
       "{'web_size_faces': 134,\n",
       " 'web_size_volume': 196149084.61931258,\n",
       " 'web_size_skeleton': 1866.0059000128263,\n",
       " 'web_size_ray_trace_percentile': 272.8679244230306,\n",
       " 'web_bbox_ratios_max': 3.318545242206583,\n",
       " 'web_bbox_ratios_min': 1.191484494195247,\n",
       " 'web_volume_ratio': 2.484161397079591,\n",
       " 'web_cdf': 0.653768,\n",
       " 'parent_n_large_boutons': 1,\n",
       " 'parent_n_boutons': 1,\n",
       " 'parent_no_bouton_median': 64.40060207031769,\n",
       " 'parent_no_spine_median_mesh_center': 66.51419929514111,\n",
       " 'child_no_bouton_median_min': 24.452091541561487,\n",
       " 'child_no_bouton_median_diff_min': -39.9485105287562,\n",
       " 'child_no_spine_median_mesh_center_min': 24.452091541561487,\n",
       " 'child_no_spine_median_mesh_center_diff_min': -42.062107753579625,\n",
       " 'child_angle_min': 18.6,\n",
       " 'child_n_boutons_min': 0,\n",
       " 'child_n_large_boutons_min': 0,\n",
       " 'child_no_bouton_median_max': 24.452091541561487,\n",
       " 'child_no_bouton_median_diff_max': -39.9485105287562,\n",
       " 'child_no_spine_median_mesh_center_max': 24.452091541561487,\n",
       " 'child_no_spine_median_mesh_center_diff_max': -42.062107753579625,\n",
       " 'child_angle_max': 144.37,\n",
       " 'child_n_boutons_max': 0,\n",
       " 'child_n_large_boutons_max': 0,\n",
       " 'sibling_angles_min': 148.11,\n",
       " 'sibling_angles_max': 148.11,\n",
       " 'label': 'valid',\n",
       " 'segment_id': 864691135748575017,\n",
       " 'parent_idx': 3}"
      ]
     },
     "execution_count": 50,
     "metadata": {},
     "output_type": "execute_result"
    }
   ],
   "source": [
    "branch_attr[0]"
   ]
  },
  {
   "cell_type": "code",
   "execution_count": 44,
   "metadata": {},
   "outputs": [
    {
     "data": {
      "text/plain": [
       "24"
      ]
     },
     "execution_count": 44,
     "metadata": {},
     "output_type": "execute_result"
    }
   ],
   "source": [
    "len(branch_attr)"
   ]
  },
  {
   "cell_type": "code",
   "execution_count": 45,
   "metadata": {},
   "outputs": [
    {
     "name": "stdout",
     "output_type": "stream",
     "text": [
      "\n",
      " Working on visualization type: mesh\n",
      "\n",
      " Working on visualization type: skeleton\n"
     ]
    },
    {
     "data": {
      "application/vnd.jupyter.widget-view+json": {
       "model_id": "7f2aab03cd114ed39ce44887c3a032f1",
       "version_major": 2,
       "version_minor": 0
      },
      "text/plain": [
       "VBox(children=(Figure(camera=PerspectiveCamera(fov=46.0, position=(0.0, 0.0, 2.0), projectionMatrix=(1.0, 0.0,…"
      ]
     },
     "metadata": {},
     "output_type": "display_data"
    }
   ],
   "source": [
    "nviz.plot_boutons(neuron_obj_with_web,\n",
    "                  plot_web=True)"
   ]
  },
  {
   "cell_type": "code",
   "execution_count": 52,
   "metadata": {},
   "outputs": [],
   "source": [
    "minnie,_ = du.configure_minnie_vm()"
   ]
  },
  {
   "cell_type": "code",
   "execution_count": 53,
   "metadata": {},
   "outputs": [
    {
     "data": {
      "text/html": [
       "\n",
       "        \n",
       "        <style type=\"text/css\">\n",
       "            .Relation{\n",
       "                border-collapse:collapse;\n",
       "            }\n",
       "            .Relation th{\n",
       "                background: #A0A0A0; color: #ffffff; padding:4px; border:#f0e0e0 1px solid;\n",
       "                font-weight: normal; font-family: monospace; font-size: 100%;\n",
       "            }\n",
       "            .Relation td{\n",
       "                padding:4px; border:#f0e0e0 1px solid; font-size:100%;\n",
       "            }\n",
       "            .Relation tr:nth-child(odd){\n",
       "                background: #ffffff;\n",
       "            }\n",
       "            .Relation tr:nth-child(even){\n",
       "                background: #f3f1ff;\n",
       "            }\n",
       "            /* Tooltip container */\n",
       "            .djtooltip {\n",
       "            }\n",
       "            /* Tooltip text */\n",
       "            .djtooltip .djtooltiptext {\n",
       "                visibility: hidden;\n",
       "                width: 120px;\n",
       "                background-color: black;\n",
       "                color: #fff;\n",
       "                text-align: center;\n",
       "                padding: 5px 0;\n",
       "                border-radius: 6px;\n",
       "                /* Position the tooltip text - see examples below! */\n",
       "                position: absolute;\n",
       "                z-index: 1;\n",
       "            }\n",
       "            #primary {\n",
       "                font-weight: bold;\n",
       "                color: black;\n",
       "            }\n",
       "\n",
       "            #nonprimary {\n",
       "                font-weight: normal;\n",
       "                color: white;\n",
       "            }\n",
       "\n",
       "            /* Show the tooltip text when you mouse over the tooltip container */\n",
       "            .djtooltip:hover .djtooltiptext {\n",
       "                visibility: visible;\n",
       "            }\n",
       "        </style>\n",
       "        \n",
       "        <b></b>\n",
       "            <div style=\"max-height:1000px;max-width:1500px;overflow:auto;\">\n",
       "            <table border=\"1\" class=\"Relation\">\n",
       "                <thead> <tr style=\"text-align: right;\"> <th> <div class=\"djtooltip\">\n",
       "                                <p id=\"primary\">segment_id</p>\n",
       "                                <span class=\"djtooltiptext\">segment id unique within each Segmentation</span>\n",
       "                            </div></th><th><div class=\"djtooltip\">\n",
       "                                <p id=\"primary\">decimation_version</p>\n",
       "                                <span class=\"djtooltiptext\"></span>\n",
       "                            </div></th><th><div class=\"djtooltip\">\n",
       "                                <p id=\"primary\">decimation_ratio</p>\n",
       "                                <span class=\"djtooltiptext\">ratio of remaining mesh vertices/faces (which ones depends on what metric the decimation technique uses)</span>\n",
       "                            </div></th><th><div class=\"djtooltip\">\n",
       "                                <p id=\"primary\">ver</p>\n",
       "                                <span class=\"djtooltiptext\">the version number of the materializaiton</span>\n",
       "                            </div></th><th><div class=\"djtooltip\">\n",
       "                                <p id=\"primary\">process_version</p>\n",
       "                                <span class=\"djtooltiptext\">the version of the preprocessing pipeline run</span>\n",
       "                            </div></th><th><div class=\"djtooltip\">\n",
       "                                <p id=\"primary\">index</p>\n",
       "                                <span class=\"djtooltiptext\">the index of the neuron object that resulted from that mesh (indexed starting at 0)</span>\n",
       "                            </div></th><th><div class=\"djtooltip\">\n",
       "                                <p id=\"primary\">split_index</p>\n",
       "                                <span class=\"djtooltiptext\">the index of the neuron object that resulted AFTER THE SPLITTING ALGORITHM</span>\n",
       "                            </div></th><th><div class=\"djtooltip\">\n",
       "                                <p id=\"primary\">proof_version</p>\n",
       "                                <span class=\"djtooltiptext\">the version of code used for this cell typing classification</span>\n",
       "                            </div></th><th><div class=\"djtooltip\">\n",
       "                                <p id=\"primary\">axon_version</p>\n",
       "                                <span class=\"djtooltiptext\"></span>\n",
       "                            </div></th><th><div class=\"djtooltip\">\n",
       "                                <p id=\"primary\">parent_idx</p>\n",
       "                                <span class=\"djtooltiptext\"></span>\n",
       "                            </div></th><th><div class=\"djtooltip\">\n",
       "                                <p id=\"nonprimary\">web_size_faces</p>\n",
       "                                <span class=\"djtooltiptext\"></span>\n",
       "                            </div></th><th><div class=\"djtooltip\">\n",
       "                                <p id=\"nonprimary\">web_size_volume</p>\n",
       "                                <span class=\"djtooltiptext\"></span>\n",
       "                            </div></th><th><div class=\"djtooltip\">\n",
       "                                <p id=\"nonprimary\">web_size_skeleton</p>\n",
       "                                <span class=\"djtooltiptext\"></span>\n",
       "                            </div></th><th><div class=\"djtooltip\">\n",
       "                                <p id=\"nonprimary\">web_size_ray_trace_percentile</p>\n",
       "                                <span class=\"djtooltiptext\"></span>\n",
       "                            </div></th><th><div class=\"djtooltip\">\n",
       "                                <p id=\"nonprimary\">web_bbox_ratios_max</p>\n",
       "                                <span class=\"djtooltiptext\"></span>\n",
       "                            </div></th><th><div class=\"djtooltip\">\n",
       "                                <p id=\"nonprimary\">web_bbox_ratios_min</p>\n",
       "                                <span class=\"djtooltiptext\"></span>\n",
       "                            </div></th><th><div class=\"djtooltip\">\n",
       "                                <p id=\"nonprimary\">web_volume_ratio</p>\n",
       "                                <span class=\"djtooltiptext\"></span>\n",
       "                            </div></th><th><div class=\"djtooltip\">\n",
       "                                <p id=\"nonprimary\">web_cdf</p>\n",
       "                                <span class=\"djtooltiptext\"></span>\n",
       "                            </div></th><th><div class=\"djtooltip\">\n",
       "                                <p id=\"nonprimary\">parent_n_large_boutons</p>\n",
       "                                <span class=\"djtooltiptext\"></span>\n",
       "                            </div></th><th><div class=\"djtooltip\">\n",
       "                                <p id=\"nonprimary\">parent_n_boutons</p>\n",
       "                                <span class=\"djtooltiptext\"></span>\n",
       "                            </div></th><th><div class=\"djtooltip\">\n",
       "                                <p id=\"nonprimary\">parent_no_bouton_median</p>\n",
       "                                <span class=\"djtooltiptext\"></span>\n",
       "                            </div></th><th><div class=\"djtooltip\">\n",
       "                                <p id=\"nonprimary\">parent_no_spine_median_mesh_center</p>\n",
       "                                <span class=\"djtooltiptext\"></span>\n",
       "                            </div></th><th><div class=\"djtooltip\">\n",
       "                                <p id=\"nonprimary\">child_no_bouton_median_min</p>\n",
       "                                <span class=\"djtooltiptext\"></span>\n",
       "                            </div></th><th><div class=\"djtooltip\">\n",
       "                                <p id=\"nonprimary\">child_no_bouton_median_diff_min</p>\n",
       "                                <span class=\"djtooltiptext\"></span>\n",
       "                            </div></th><th><div class=\"djtooltip\">\n",
       "                                <p id=\"nonprimary\">child_no_spine_median_mesh_center_min</p>\n",
       "                                <span class=\"djtooltiptext\"></span>\n",
       "                            </div></th><th><div class=\"djtooltip\">\n",
       "                                <p id=\"nonprimary\">child_no_spine_median_mesh_center_diff_min</p>\n",
       "                                <span class=\"djtooltiptext\"></span>\n",
       "                            </div></th><th><div class=\"djtooltip\">\n",
       "                                <p id=\"nonprimary\">child_angle_min</p>\n",
       "                                <span class=\"djtooltiptext\"></span>\n",
       "                            </div></th><th><div class=\"djtooltip\">\n",
       "                                <p id=\"nonprimary\">child_n_boutons_min</p>\n",
       "                                <span class=\"djtooltiptext\"></span>\n",
       "                            </div></th><th><div class=\"djtooltip\">\n",
       "                                <p id=\"nonprimary\">child_n_large_boutons_min</p>\n",
       "                                <span class=\"djtooltiptext\"></span>\n",
       "                            </div></th><th><div class=\"djtooltip\">\n",
       "                                <p id=\"nonprimary\">child_no_bouton_median_max</p>\n",
       "                                <span class=\"djtooltiptext\"></span>\n",
       "                            </div></th><th><div class=\"djtooltip\">\n",
       "                                <p id=\"nonprimary\">child_no_bouton_median_diff_max</p>\n",
       "                                <span class=\"djtooltiptext\"></span>\n",
       "                            </div></th><th><div class=\"djtooltip\">\n",
       "                                <p id=\"nonprimary\">child_no_spine_median_mesh_center_max</p>\n",
       "                                <span class=\"djtooltiptext\"></span>\n",
       "                            </div></th><th><div class=\"djtooltip\">\n",
       "                                <p id=\"nonprimary\">child_no_spine_median_mesh_center_diff_max</p>\n",
       "                                <span class=\"djtooltiptext\"></span>\n",
       "                            </div></th><th><div class=\"djtooltip\">\n",
       "                                <p id=\"nonprimary\">child_angle_max</p>\n",
       "                                <span class=\"djtooltiptext\"></span>\n",
       "                            </div></th><th><div class=\"djtooltip\">\n",
       "                                <p id=\"nonprimary\">child_n_boutons_max</p>\n",
       "                                <span class=\"djtooltiptext\"></span>\n",
       "                            </div></th><th><div class=\"djtooltip\">\n",
       "                                <p id=\"nonprimary\">child_n_large_boutons_max</p>\n",
       "                                <span class=\"djtooltiptext\"></span>\n",
       "                            </div></th><th><div class=\"djtooltip\">\n",
       "                                <p id=\"nonprimary\">sibling_angles_min</p>\n",
       "                                <span class=\"djtooltiptext\"></span>\n",
       "                            </div></th><th><div class=\"djtooltip\">\n",
       "                                <p id=\"nonprimary\">sibling_angles_max</p>\n",
       "                                <span class=\"djtooltiptext\"></span>\n",
       "                            </div></th><th><div class=\"djtooltip\">\n",
       "                                <p id=\"nonprimary\">label</p>\n",
       "                                <span class=\"djtooltiptext\"></span>\n",
       "                            </div> </th> </tr> </thead>\n",
       "                <tbody> <tr> <td>864691135748575017</td>\n",
       "<td>0</td>\n",
       "<td>0.25</td>\n",
       "<td>30.00</td>\n",
       "<td>5</td>\n",
       "<td>0</td>\n",
       "<td>0</td>\n",
       "<td>3</td>\n",
       "<td>0</td>\n",
       "<td>2</td>\n",
       "<td>34</td>\n",
       "<td>27735696.313674927</td>\n",
       "<td>1125.5671006251805</td>\n",
       "<td>96.09770147727801</td>\n",
       "<td>1.074665853894799</td>\n",
       "<td>1.004122018911048</td>\n",
       "<td>2.507965451039187</td>\n",
       "<td>0.24284050000000001</td>\n",
       "<td>0</td>\n",
       "<td>0</td>\n",
       "<td>61.58688686584404</td>\n",
       "<td>61.58688686584404</td>\n",
       "<td>37.37862572592943</td>\n",
       "<td>-24.20826113991461</td>\n",
       "<td>37.37862572592943</td>\n",
       "<td>-24.20826113991461</td>\n",
       "<td>20.99</td>\n",
       "<td>0</td>\n",
       "<td>0</td>\n",
       "<td>37.37862572592943</td>\n",
       "<td>-24.20826113991461</td>\n",
       "<td>37.37862572592943</td>\n",
       "<td>-24.20826113991461</td>\n",
       "<td>63.78</td>\n",
       "<td>3</td>\n",
       "<td>1</td>\n",
       "<td>79.38</td>\n",
       "<td>79.38</td>\n",
       "<td>invalid</td></tr><tr><td>864691135748575017</td>\n",
       "<td>0</td>\n",
       "<td>0.25</td>\n",
       "<td>30.00</td>\n",
       "<td>5</td>\n",
       "<td>0</td>\n",
       "<td>0</td>\n",
       "<td>3</td>\n",
       "<td>0</td>\n",
       "<td>3</td>\n",
       "<td>127</td>\n",
       "<td>179890996.46164957</td>\n",
       "<td>1866.0059000128263</td>\n",
       "<td>275.41420165117063</td>\n",
       "<td>3.2925779468101974</td>\n",
       "<td>1.1486207360995195</td>\n",
       "<td>2.3777108993228486</td>\n",
       "<td>0.661265</td>\n",
       "<td>1</td>\n",
       "<td>2</td>\n",
       "<td>62.304373965260176</td>\n",
       "<td>66.51419929514111</td>\n",
       "<td>24.452091541561487</td>\n",
       "<td>-37.85228242369869</td>\n",
       "<td>24.452091541561487</td>\n",
       "<td>-42.062107753579625</td>\n",
       "<td>18.6</td>\n",
       "<td>0</td>\n",
       "<td>0</td>\n",
       "<td>24.452091541561487</td>\n",
       "<td>-37.85228242369869</td>\n",
       "<td>24.452091541561487</td>\n",
       "<td>-42.062107753579625</td>\n",
       "<td>144.37</td>\n",
       "<td>0</td>\n",
       "<td>0</td>\n",
       "<td>148.11</td>\n",
       "<td>148.11</td>\n",
       "<td>valid</td></tr><tr><td>864691135748575017</td>\n",
       "<td>0</td>\n",
       "<td>0.25</td>\n",
       "<td>30.00</td>\n",
       "<td>5</td>\n",
       "<td>0</td>\n",
       "<td>0</td>\n",
       "<td>3</td>\n",
       "<td>0</td>\n",
       "<td>6</td>\n",
       "<td>118</td>\n",
       "<td>295119844.2131678</td>\n",
       "<td>1951.9985409762412</td>\n",
       "<td>267.95570644943194</td>\n",
       "<td>1.6247692095739563</td>\n",
       "<td>1.219644090447042</td>\n",
       "<td>1.9500950095455305</td>\n",
       "<td>0.6742945</td>\n",
       "<td>1</td>\n",
       "<td>2</td>\n",
       "<td>73.43449433365741</td>\n",
       "<td>78.78563662431044</td>\n",
       "<td>76.69305070812324</td>\n",
       "<td>3.258556374465826</td>\n",
       "<td>76.69305070812324</td>\n",
       "<td>-2.092585916187204</td>\n",
       "<td>20.48</td>\n",
       "<td>0</td>\n",
       "<td>0</td>\n",
       "<td>76.69305070812324</td>\n",
       "<td>3.258556374465826</td>\n",
       "<td>76.69305070812324</td>\n",
       "<td>-2.092585916187204</td>\n",
       "<td>85.36</td>\n",
       "<td>2</td>\n",
       "<td>1</td>\n",
       "<td>65.11</td>\n",
       "<td>65.11</td>\n",
       "<td>invalid</td></tr><tr><td>864691135748575017</td>\n",
       "<td>0</td>\n",
       "<td>0.25</td>\n",
       "<td>30.00</td>\n",
       "<td>5</td>\n",
       "<td>0</td>\n",
       "<td>0</td>\n",
       "<td>3</td>\n",
       "<td>0</td>\n",
       "<td>10</td>\n",
       "<td>69</td>\n",
       "<td>72447375.59947968</td>\n",
       "<td>2482.352398595399</td>\n",
       "<td>91.78408357343342</td>\n",
       "<td>3.099203245843675</td>\n",
       "<td>1.0545063583963896</td>\n",
       "<td>2.1868721014081483</td>\n",
       "<td>0.281516</td>\n",
       "<td>0</td>\n",
       "<td>0</td>\n",
       "<td>70.40985769883694</td>\n",
       "<td>70.40985769883694</td>\n",
       "<td>47.176228172817915</td>\n",
       "<td>-23.23362952601903</td>\n",
       "<td>47.176228172817915</td>\n",
       "<td>-23.23362952601903</td>\n",
       "<td>10.53</td>\n",
       "<td>0</td>\n",
       "<td>0</td>\n",
       "<td>47.176228172817915</td>\n",
       "<td>-23.23362952601903</td>\n",
       "<td>47.176228172817915</td>\n",
       "<td>-23.23362952601903</td>\n",
       "<td>34.06</td>\n",
       "<td>2</td>\n",
       "<td>1</td>\n",
       "<td>23.54</td>\n",
       "<td>23.54</td>\n",
       "<td>valid</td></tr><tr><td>864691135748575017</td>\n",
       "<td>0</td>\n",
       "<td>0.25</td>\n",
       "<td>30.00</td>\n",
       "<td>5</td>\n",
       "<td>0</td>\n",
       "<td>0</td>\n",
       "<td>3</td>\n",
       "<td>0</td>\n",
       "<td>11</td>\n",
       "<td>260</td>\n",
       "<td>749850016.4361775</td>\n",
       "<td>3269.297518312119</td>\n",
       "<td>151.21551722379837</td>\n",
       "<td>2.712525971379573</td>\n",
       "<td>1.2632007513396994</td>\n",
       "<td>2.277238827529636</td>\n",
       "<td>0.132565</td>\n",
       "<td>0</td>\n",
       "<td>2</td>\n",
       "<td>66.6943016359959</td>\n",
       "<td>67.05416860344533</td>\n",
       "<td>70.40985769883694</td>\n",
       "<td>3.7155560628410456</td>\n",
       "<td>70.40985769883694</td>\n",
       "<td>3.355689095391611</td>\n",
       "<td>12.5</td>\n",
       "<td>0</td>\n",
       "<td>0</td>\n",
       "<td>70.40985769883694</td>\n",
       "<td>3.7155560628410456</td>\n",
       "<td>70.40985769883694</td>\n",
       "<td>3.355689095391611</td>\n",
       "<td>25.94</td>\n",
       "<td>3</td>\n",
       "<td>1</td>\n",
       "<td>19.22</td>\n",
       "<td>19.22</td>\n",
       "<td>invalid</td></tr><tr><td>864691135748575017</td>\n",
       "<td>0</td>\n",
       "<td>0.25</td>\n",
       "<td>30.00</td>\n",
       "<td>5</td>\n",
       "<td>0</td>\n",
       "<td>0</td>\n",
       "<td>3</td>\n",
       "<td>0</td>\n",
       "<td>12</td>\n",
       "<td>165</td>\n",
       "<td>258320487.25684738</td>\n",
       "<td>2357.602683315061</td>\n",
       "<td>222.04402099716475</td>\n",
       "<td>2.146650755194015</td>\n",
       "<td>1.14036736268325</td>\n",
       "<td>1.6450306683755218</td>\n",
       "<td>0.192647</td>\n",
       "<td>0</td>\n",
       "<td>0</td>\n",
       "<td>209.45221895685762</td>\n",
       "<td>209.45221895685762</td>\n",
       "<td>76.10460679705645</td>\n",
       "<td>-133.34761215980117</td>\n",
       "<td>85.04560855297068</td>\n",
       "<td>-124.40661040388694</td>\n",
       "<td>45.44</td>\n",
       "<td>0</td>\n",
       "<td>0</td>\n",
       "<td>76.10460679705645</td>\n",
       "<td>-133.34761215980117</td>\n",
       "<td>85.04560855297068</td>\n",
       "<td>-124.40661040388694</td>\n",
       "<td>77.87</td>\n",
       "<td>1</td>\n",
       "<td>0</td>\n",
       "<td>123.26</td>\n",
       "<td>123.26</td>\n",
       "<td>valid</td></tr><tr><td>864691135748575017</td>\n",
       "<td>0</td>\n",
       "<td>0.25</td>\n",
       "<td>30.00</td>\n",
       "<td>5</td>\n",
       "<td>0</td>\n",
       "<td>0</td>\n",
       "<td>3</td>\n",
       "<td>0</td>\n",
       "<td>16</td>\n",
       "<td>173</td>\n",
       "<td>117502593.1864686</td>\n",
       "<td>1568.0893768207625</td>\n",
       "<td>321.8376923878516</td>\n",
       "<td>1.4157374837920316</td>\n",
       "<td>1.0735991950045816</td>\n",
       "<td>2.822497228595611</td>\n",
       "<td>0.70552</td>\n",
       "<td>0</td>\n",
       "<td>0</td>\n",
       "<td>57.684690637726014</td>\n",
       "<td>57.684690637726014</td>\n",
       "<td>40.03116281509504</td>\n",
       "<td>-17.653527822630977</td>\n",
       "<td>40.03116281509504</td>\n",
       "<td>-17.653527822630977</td>\n",
       "<td>22.44</td>\n",
       "<td>0</td>\n",
       "<td>0</td>\n",
       "<td>40.03116281509504</td>\n",
       "<td>-17.653527822630977</td>\n",
       "<td>40.03116281509504</td>\n",
       "<td>-17.653527822630977</td>\n",
       "<td>64.28</td>\n",
       "<td>2</td>\n",
       "<td>0</td>\n",
       "<td>82.76</td>\n",
       "<td>82.76</td>\n",
       "<td>invalid</td></tr><tr><td>864691135748575017</td>\n",
       "<td>0</td>\n",
       "<td>0.25</td>\n",
       "<td>30.00</td>\n",
       "<td>5</td>\n",
       "<td>0</td>\n",
       "<td>0</td>\n",
       "<td>3</td>\n",
       "<td>0</td>\n",
       "<td>18</td>\n",
       "<td>24</td>\n",
       "<td>21601272.729171116</td>\n",
       "<td>594.6981932978631</td>\n",
       "<td>186.83925279855006</td>\n",
       "<td>1.439044285527437</td>\n",
       "<td>1.054459887527323</td>\n",
       "<td>2.191965367665313</td>\n",
       "<td>0.2334235</td>\n",
       "<td>0</td>\n",
       "<td>0</td>\n",
       "<td>210.38245456506203</td>\n",
       "<td>210.38245456506203</td>\n",
       "<td>220.04776539900266</td>\n",
       "<td>9.665310833940623</td>\n",
       "<td>220.04776539900266</td>\n",
       "<td>9.665310833940623</td>\n",
       "<td>13.64</td>\n",
       "<td>0</td>\n",
       "<td>0</td>\n",
       "<td>220.04776539900266</td>\n",
       "<td>9.665310833940623</td>\n",
       "<td>220.04776539900266</td>\n",
       "<td>9.665310833940623</td>\n",
       "<td>58.01</td>\n",
       "<td>0</td>\n",
       "<td>0</td>\n",
       "<td>71.55</td>\n",
       "<td>71.55</td>\n",
       "<td>valid</td></tr><tr><td>864691135748575017</td>\n",
       "<td>0</td>\n",
       "<td>0.25</td>\n",
       "<td>30.00</td>\n",
       "<td>5</td>\n",
       "<td>0</td>\n",
       "<td>0</td>\n",
       "<td>3</td>\n",
       "<td>0</td>\n",
       "<td>19</td>\n",
       "<td>295</td>\n",
       "<td>1097360197.5830586</td>\n",
       "<td>4291.311331965087</td>\n",
       "<td>441.99239218475736</td>\n",
       "<td>2.873428463190597</td>\n",
       "<td>1.3969379718888724</td>\n",
       "<td>1.6687542397488921</td>\n",
       "<td>0.452426</td>\n",
       "<td>0</td>\n",
       "<td>0</td>\n",
       "<td>220.04776539900266</td>\n",
       "<td>220.04776539900266</td>\n",
       "<td>255.4278250931224</td>\n",
       "<td>35.38005969411975</td>\n",
       "<td>255.4278250931224</td>\n",
       "<td>35.38005969411975</td>\n",
       "<td>10.34</td>\n",
       "<td>0</td>\n",
       "<td>0</td>\n",
       "<td>255.4278250931224</td>\n",
       "<td>35.38005969411975</td>\n",
       "<td>255.4278250931224</td>\n",
       "<td>35.38005969411975</td>\n",
       "<td>39.21</td>\n",
       "<td>3</td>\n",
       "<td>0</td>\n",
       "<td>47.94</td>\n",
       "<td>47.94</td>\n",
       "<td>valid</td></tr><tr><td>864691135748575017</td>\n",
       "<td>0</td>\n",
       "<td>0.25</td>\n",
       "<td>30.00</td>\n",
       "<td>5</td>\n",
       "<td>0</td>\n",
       "<td>0</td>\n",
       "<td>3</td>\n",
       "<td>0</td>\n",
       "<td>20</td>\n",
       "<td>75</td>\n",
       "<td>85369993.37697983</td>\n",
       "<td>1263.2956953632672</td>\n",
       "<td>200.7689286492217</td>\n",
       "<td>1.8543082266247446</td>\n",
       "<td>1.1507216144457815</td>\n",
       "<td>2.487264312178307</td>\n",
       "<td>0.716503</td>\n",
       "<td>0</td>\n",
       "<td>1</td>\n",
       "<td>76.10460679705645</td>\n",
       "<td>85.04560855297068</td>\n",
       "<td>76.43206967811699</td>\n",
       "<td>0.32746288106054067</td>\n",
       "<td>82.43831058699045</td>\n",
       "<td>-2.607297965980223</td>\n",
       "<td>27.91</td>\n",
       "<td>1</td>\n",
       "<td>0</td>\n",
       "<td>76.43206967811699</td>\n",
       "<td>0.32746288106054067</td>\n",
       "<td>82.43831058699045</td>\n",
       "<td>-2.607297965980223</td>\n",
       "<td>71.3</td>\n",
       "<td>2</td>\n",
       "<td>0</td>\n",
       "<td>97.79</td>\n",
       "<td>97.79</td>\n",
       "<td>valid</td></tr><tr><td>864691135748575017</td>\n",
       "<td>0</td>\n",
       "<td>0.25</td>\n",
       "<td>30.00</td>\n",
       "<td>5</td>\n",
       "<td>0</td>\n",
       "<td>0</td>\n",
       "<td>3</td>\n",
       "<td>0</td>\n",
       "<td>21</td>\n",
       "<td>251</td>\n",
       "<td>1401440609.306952</td>\n",
       "<td>2917.8594418114935</td>\n",
       "<td>750.7134657776535</td>\n",
       "<td>1.609420287236129</td>\n",
       "<td>1.2314616266604537</td>\n",
       "<td>1.66022754554843</td>\n",
       "<td>0.633015</td>\n",
       "<td>0</td>\n",
       "<td>0</td>\n",
       "<td>255.4278250931224</td>\n",
       "<td>255.4278250931224</td>\n",
       "<td>245.36936646137627</td>\n",
       "<td>-10.058458631746134</td>\n",
       "<td>245.36936646137627</td>\n",
       "<td>-10.058458631746134</td>\n",
       "<td>47.77</td>\n",
       "<td>0</td>\n",
       "<td>0</td>\n",
       "<td>245.36936646137627</td>\n",
       "<td>-10.058458631746134</td>\n",
       "<td>245.36936646137627</td>\n",
       "<td>-10.058458631746134</td>\n",
       "<td>78.75</td>\n",
       "<td>0</td>\n",
       "<td>0</td>\n",
       "<td>125.77</td>\n",
       "<td>125.77</td>\n",
       "<td>valid</td></tr><tr><td>864691135748575017</td>\n",
       "<td>0</td>\n",
       "<td>0.25</td>\n",
       "<td>30.00</td>\n",
       "<td>5</td>\n",
       "<td>0</td>\n",
       "<td>0</td>\n",
       "<td>3</td>\n",
       "<td>0</td>\n",
       "<td>23</td>\n",
       "<td>34</td>\n",
       "<td>38621157.67899752</td>\n",
       "<td>828.8496700928843</td>\n",
       "<td>280.40110721528663</td>\n",
       "<td>1.9123136243392023</td>\n",
       "<td>1.3455837807530786</td>\n",
       "<td>2.1271442315524514</td>\n",
       "<td>0.286155</td>\n",
       "<td>0</td>\n",
       "<td>0</td>\n",
       "<td>60.133600325115296</td>\n",
       "<td>60.133600325115296</td>\n",
       "<td>57.684690637726014</td>\n",
       "<td>-2.448909687389282</td>\n",
       "<td>57.684690637726014</td>\n",
       "<td>-2.448909687389282</td>\n",
       "<td>16.87</td>\n",
       "<td>0</td>\n",
       "<td>0</td>\n",
       "<td>57.684690637726014</td>\n",
       "<td>-2.448909687389282</td>\n",
       "<td>57.684690637726014</td>\n",
       "<td>-2.448909687389282</td>\n",
       "<td>75.11</td>\n",
       "<td>15</td>\n",
       "<td>5</td>\n",
       "<td>87.03</td>\n",
       "<td>87.03</td>\n",
       "<td>valid</td> </tr> </tbody>\n",
       "            </table>\n",
       "            <p>...</p>\n",
       "            <p>Total: 23</p></div>\n",
       "            "
      ],
      "text/plain": [
       "*segment_id    *decimation_ve *decimation_ra *ver      *process_versi *index    *split_index   *proof_version *axon_version  *parent_idx    web_size_faces web_size_volum web_size_skele web_size_ray_t web_bbox_ratio web_bbox_ratio web_volume_rat web_cdf        parent_n_large parent_n_bouto parent_no_bout parent_no_spin child_no_bouto child_no_bouto child_no_spine child_no_spine child_angle_mi child_n_bouton child_n_large_ child_no_bouto child_no_bouto child_no_spine child_no_spine child_angle_ma child_n_bouton child_n_large_ sibling_angles sibling_angles label      \n",
       "+------------+ +------------+ +------------+ +-------+ +------------+ +-------+ +------------+ +------------+ +------------+ +------------+ +------------+ +------------+ +------------+ +------------+ +------------+ +------------+ +------------+ +------------+ +------------+ +------------+ +------------+ +------------+ +------------+ +------------+ +------------+ +------------+ +------------+ +------------+ +------------+ +------------+ +------------+ +------------+ +------------+ +------------+ +------------+ +------------+ +------------+ +------------+ +---------+\n",
       "86469113574857 0              0.25           30.00     5              0         0              3              0              2              34             27735696.31367 1125.567100625 96.09770147727 1.074665853894 1.004122018911 2.507965451039 0.242840500000 0              0              61.58688686584 61.58688686584 37.37862572592 -24.2082611399 37.37862572592 -24.2082611399 20.99          0              0              37.37862572592 -24.2082611399 37.37862572592 -24.2082611399 63.78          3              1              79.38          79.38          invalid    \n",
       "86469113574857 0              0.25           30.00     5              0         0              3              0              3              127            179890996.4616 1866.005900012 275.4142016511 3.292577946810 1.148620736099 2.377710899322 0.661265       1              2              62.30437396526 66.51419929514 24.45209154156 -37.8522824236 24.45209154156 -42.0621077535 18.6           0              0              24.45209154156 -37.8522824236 24.45209154156 -42.0621077535 144.37         0              0              148.11         148.11         valid      \n",
       "86469113574857 0              0.25           30.00     5              0         0              3              0              6              118            295119844.2131 1951.998540976 267.9557064494 1.624769209573 1.219644090447 1.950095009545 0.6742945      1              2              73.43449433365 78.78563662431 76.69305070812 3.258556374465 76.69305070812 -2.09258591618 20.48          0              0              76.69305070812 3.258556374465 76.69305070812 -2.09258591618 85.36          2              1              65.11          65.11          invalid    \n",
       "86469113574857 0              0.25           30.00     5              0         0              3              0              10             69             72447375.59947 2482.352398595 91.78408357343 3.099203245843 1.054506358396 2.186872101408 0.281516       0              0              70.40985769883 70.40985769883 47.17622817281 -23.2336295260 47.17622817281 -23.2336295260 10.53          0              0              47.17622817281 -23.2336295260 47.17622817281 -23.2336295260 34.06          2              1              23.54          23.54          valid      \n",
       "86469113574857 0              0.25           30.00     5              0         0              3              0              11             260            749850016.4361 3269.297518312 151.2155172237 2.712525971379 1.263200751339 2.277238827529 0.132565       0              2              66.69430163599 67.05416860344 70.40985769883 3.715556062841 70.40985769883 3.355689095391 12.5           0              0              70.40985769883 3.715556062841 70.40985769883 3.355689095391 25.94          3              1              19.22          19.22          invalid    \n",
       "86469113574857 0              0.25           30.00     5              0         0              3              0              12             165            258320487.2568 2357.602683315 222.0440209971 2.146650755194 1.140367362683 1.645030668375 0.192647       0              0              209.4522189568 209.4522189568 76.10460679705 -133.347612159 85.04560855297 -124.406610403 45.44          0              0              76.10460679705 -133.347612159 85.04560855297 -124.406610403 77.87          1              0              123.26         123.26         valid      \n",
       "86469113574857 0              0.25           30.00     5              0         0              3              0              16             173            117502593.1864 1568.089376820 321.8376923878 1.415737483792 1.073599195004 2.822497228595 0.70552        0              0              57.68469063772 57.68469063772 40.03116281509 -17.6535278226 40.03116281509 -17.6535278226 22.44          0              0              40.03116281509 -17.6535278226 40.03116281509 -17.6535278226 64.28          2              0              82.76          82.76          invalid    \n",
       "86469113574857 0              0.25           30.00     5              0         0              3              0              18             24             21601272.72917 594.6981932978 186.8392527985 1.439044285527 1.054459887527 2.191965367665 0.2334235      0              0              210.3824545650 210.3824545650 220.0477653990 9.665310833940 220.0477653990 9.665310833940 13.64          0              0              220.0477653990 9.665310833940 220.0477653990 9.665310833940 58.01          0              0              71.55          71.55          valid      \n",
       "86469113574857 0              0.25           30.00     5              0         0              3              0              19             295            1097360197.583 4291.311331965 441.9923921847 2.873428463190 1.396937971888 1.668754239748 0.452426       0              0              220.0477653990 220.0477653990 255.4278250931 35.38005969411 255.4278250931 35.38005969411 10.34          0              0              255.4278250931 35.38005969411 255.4278250931 35.38005969411 39.21          3              0              47.94          47.94          valid      \n",
       "86469113574857 0              0.25           30.00     5              0         0              3              0              20             75             85369993.37697 1263.295695363 200.7689286492 1.854308226624 1.150721614445 2.487264312178 0.716503       0              1              76.10460679705 85.04560855297 76.43206967811 0.327462881060 82.43831058699 -2.60729796598 27.91          1              0              76.43206967811 0.327462881060 82.43831058699 -2.60729796598 71.3           2              0              97.79          97.79          valid      \n",
       "86469113574857 0              0.25           30.00     5              0         0              3              0              21             251            1401440609.306 2917.859441811 750.7134657776 1.609420287236 1.231461626660 1.660227545548 0.633015       0              0              255.4278250931 255.4278250931 245.3693664613 -10.0584586317 245.3693664613 -10.0584586317 47.77          0              0              245.3693664613 -10.0584586317 245.3693664613 -10.0584586317 78.75          0              0              125.77         125.77         valid      \n",
       "86469113574857 0              0.25           30.00     5              0         0              3              0              23             34             38621157.67899 828.8496700928 280.4011072152 1.912313624339 1.345583780753 2.127144231552 0.286155       0              0              60.13360032511 60.13360032511 57.68469063772 -2.44890968738 57.68469063772 -2.44890968738 16.87          0              0              57.68469063772 -2.44890968738 57.68469063772 -2.44890968738 75.11          15             5              87.03          87.03          valid      \n",
       "   ...\n",
       " (Total: 23)"
      ]
     },
     "execution_count": 53,
     "metadata": {},
     "output_type": "execute_result"
    }
   ],
   "source": [
    "minnie.AutoProofreadValidationBorder()"
   ]
  },
  {
   "cell_type": "code",
   "execution_count": null,
   "metadata": {},
   "outputs": [],
   "source": []
  }
 ],
 "metadata": {
  "kernelspec": {
   "display_name": "Python 3",
   "language": "python",
   "name": "python3"
  },
  "language_info": {
   "codemirror_mode": {
    "name": "ipython",
    "version": 3
   },
   "file_extension": ".py",
   "mimetype": "text/x-python",
   "name": "python",
   "nbconvert_exporter": "python",
   "pygments_lexer": "ipython3",
   "version": "3.6.9"
  }
 },
 "nbformat": 4,
 "nbformat_minor": 4
}
