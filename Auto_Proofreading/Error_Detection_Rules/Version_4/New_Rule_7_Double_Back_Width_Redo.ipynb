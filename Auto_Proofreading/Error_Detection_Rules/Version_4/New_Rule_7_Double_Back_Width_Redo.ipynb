{
 "cells": [
  {
   "cell_type": "code",
   "execution_count": null,
   "metadata": {},
   "outputs": [],
   "source": [
    "\"\"\"\n",
    "Purpose: To Redo the width and trheshold jump changes\n",
    "to a cleaner version that can have different\n",
    "thresholds for axon and dendrite\n",
    "\"\"\""
   ]
  },
  {
   "cell_type": "code",
   "execution_count": 1,
   "metadata": {},
   "outputs": [],
   "source": [
    "%load_ext autoreload\n",
    "%autoreload 2"
   ]
  },
  {
   "cell_type": "code",
   "execution_count": 2,
   "metadata": {},
   "outputs": [
    {
     "name": "stderr",
     "output_type": "stream",
     "text": [
      "INFO - 2021-05-26 19:04:10,845 - settings - Setting database.host to at-database.ad.bcm.edu\n",
      "INFO - 2021-05-26 19:04:10,849 - settings - Setting database.user to celiib\n",
      "INFO - 2021-05-26 19:04:10,851 - settings - Setting database.password to newceliipass\n",
      "INFO - 2021-05-26 19:04:10,870 - settings - Setting stores to {'minnie65': {'protocol': 'file', 'location': '/mnt/dj-stor01/platinum/minnie65', 'stage': '/mnt/dj-stor01/platinum/minnie65'}, 'meshes': {'protocol': 'file', 'location': '/mnt/dj-stor01/platinum/minnie65/02/meshes', 'stage': '/mnt/dj-stor01/platinum/minnie65/02/meshes'}, 'decimated_meshes': {'protocol': 'file', 'location': '/mnt/dj-stor01/platinum/minnie65/02/decimated_meshes', 'stage': '/mnt/dj-stor01/platinum/minnie65/02/decimated_meshes'}, 'skeletons': {'protocol': 'file', 'location': '/mnt/dj-stor01/platinum/minnie65/02/skeletons'}}\n",
      "INFO - 2021-05-26 19:04:10,872 - settings - Setting enable_python_native_blobs to True\n",
      "INFO - 2021-05-26 19:04:10,890 - connection - Connected celiib@at-database.ad.bcm.edu:3306\n"
     ]
    },
    {
     "name": "stdout",
     "output_type": "stream",
     "text": [
      "Connecting celiib@at-database.ad.bcm.edu:3306\n"
     ]
    },
    {
     "name": "stderr",
     "output_type": "stream",
     "text": [
      "INFO - 2021-05-26 19:04:11,429 - settings - Setting enable_python_native_blobs to True\n",
      "INFO - 2021-05-26 19:04:11,434 - settings - Setting database.host to at-database.ad.bcm.edu\n",
      "INFO - 2021-05-26 19:04:11,436 - settings - Setting database.user to celiib\n",
      "INFO - 2021-05-26 19:04:11,437 - settings - Setting database.password to newceliipass\n",
      "INFO - 2021-05-26 19:04:11,438 - settings - Setting database.host to at-database.ad.bcm.edu\n",
      "INFO - 2021-05-26 19:04:11,439 - settings - Setting database.user to celiib\n",
      "INFO - 2021-05-26 19:04:11,439 - settings - Setting database.password to newceliipass\n",
      "INFO - 2021-05-26 19:04:11,441 - settings - Setting enable_python_native_blobs to True\n",
      "INFO - 2021-05-26 19:04:11,991 - settings - Setting enable_python_native_blobs to True\n"
     ]
    }
   ],
   "source": [
    "import numpy as np\n",
    "import datajoint as dj\n",
    "import trimesh\n",
    "from tqdm.notebook import tqdm\n",
    "from pathlib import Path\n",
    "\n",
    "from os import sys\n",
    "sys.path.append(\"/meshAfterParty/\")\n",
    "sys.path.append(\"/meshAfterParty/meshAfterParty\")\n",
    "\n",
    "import datajoint_utils as du\n",
    "from importlib import reload"
   ]
  },
  {
   "cell_type": "code",
   "execution_count": 3,
   "metadata": {},
   "outputs": [
    {
     "name": "stderr",
     "output_type": "stream",
     "text": [
      "INFO - 2021-05-26 19:04:12,175 - settings - Setting database.host to at-database.ad.bcm.edu\n",
      "INFO - 2021-05-26 19:04:12,178 - settings - Setting database.user to celiib\n",
      "INFO - 2021-05-26 19:04:12,180 - settings - Setting database.password to newceliipass\n",
      "INFO - 2021-05-26 19:04:12,184 - settings - Setting enable_python_native_blobs to True\n",
      "INFO - 2021-05-26 19:04:12,819 - settings - Setting enable_python_native_blobs to True\n"
     ]
    }
   ],
   "source": [
    "#configuring will include the adapters\n",
    "minnie,schema = du.configure_minnie_vm()"
   ]
  },
  {
   "cell_type": "code",
   "execution_count": 4,
   "metadata": {},
   "outputs": [],
   "source": [
    "import validation_utils as vu\n",
    "import neuron_visualizations as nviz\n",
    "import neuron_utils as nru"
   ]
  },
  {
   "cell_type": "markdown",
   "metadata": {},
   "source": [
    "# Downloading the Neuron"
   ]
  },
  {
   "cell_type": "code",
   "execution_count": 5,
   "metadata": {},
   "outputs": [
    {
     "name": "stdout",
     "output_type": "stream",
     "text": [
      "Decompressing Neuron in minimal output mode...please wait\n"
     ]
    }
   ],
   "source": [
    "segment_id = 864691135462735678\n",
    "split_index = 0\n",
    "\n",
    "decomp_path = (minnie.DecompositionAxon() & dict(segment_id=segment_id,\n",
    "                                  split_index = split_index,\n",
    "                                 )).fetch1(\"decomposition\")\n",
    "pre_filt_neuron = du.filepath_to_neuron_obj(decomp_path)"
   ]
  },
  {
   "cell_type": "code",
   "execution_count": 6,
   "metadata": {},
   "outputs": [
    {
     "name": "stdout",
     "output_type": "stream",
     "text": [
      "\n",
      " Working on visualization type: mesh\n",
      "\n",
      " Working on visualization type: skeleton\n"
     ]
    },
    {
     "data": {
      "application/vnd.jupyter.widget-view+json": {
       "model_id": "1493b8d4eb854cc08d6bf9b6e8e2e617",
       "version_major": 2,
       "version_minor": 0
      },
      "text/plain": [
       "VBox(children=(Figure(camera=PerspectiveCamera(fov=46.0, position=(0.0, 0.0, 2.0), projectionMatrix=(1.0, 0.0,…"
      ]
     },
     "metadata": {},
     "output_type": "display_data"
    }
   ],
   "source": [
    "nviz.visualize_neuron(pre_filt_neuron,\n",
    "                     limb_branch_dict=\"all\")"
   ]
  },
  {
   "cell_type": "markdown",
   "metadata": {},
   "source": [
    "# Checking that the branch boundary transition skeleton extends past upstream node if need be"
   ]
  },
  {
   "cell_type": "code",
   "execution_count": 8,
   "metadata": {},
   "outputs": [
    {
     "data": {
      "text/plain": [
       "['classify_endpoint_error_branches_from_limb_concept_network',\n",
       " 'closest_branch_endpoint_to_limb_starting_coordinate',\n",
       " 'ordered_endpoints_on_branch_path',\n",
       " 'shared_skeleton_endpoints_for_connected_branches']"
      ]
     },
     "execution_count": 8,
     "metadata": {},
     "output_type": "execute_result"
    }
   ],
   "source": [
    "[k for k in dir(nru) if \"endpoint\" in k]"
   ]
  },
  {
   "cell_type": "code",
   "execution_count": 9,
   "metadata": {},
   "outputs": [],
   "source": [
    "neuron_obj = pre_filt_neuron"
   ]
  },
  {
   "cell_type": "code",
   "execution_count": 14,
   "metadata": {},
   "outputs": [
    {
     "name": "stdout",
     "output_type": "stream",
     "text": [
      "result_limb_branch = {'L0': array([293, 318])}\n",
      "\n",
      " Working on visualization type: mesh\n"
     ]
    },
    {
     "data": {
      "application/vnd.jupyter.widget-view+json": {
       "model_id": "89a6735065ec4d149315c4276aea04a1",
       "version_major": 2,
       "version_minor": 0
      },
      "text/plain": [
       "VBox(children=(Figure(camera=PerspectiveCamera(fov=46.0, position=(0.0, 0.0, 2.0), projectionMatrix=(1.0, 0.0,…"
      ]
     },
     "metadata": {},
     "output_type": "display_data"
    }
   ],
   "source": [
    "import neuron_searching as ns\n",
    "result_limb_branch = ns.query_neuron(neuron_obj,\n",
    "    functions_list=[\"parent_angle\",\"upstream_skeletal_length\",\"skeletal_length\",\"axon_width\"],\n",
    "    query=\"(parent_angle>110) and (skeletal_length>5000) and (upstream_skeletal_length>1000) and (axon_width>105)\",\n",
    "        function_kwargs=dict(comparison_distance=1000),\n",
    "    return_dataframe=False,\n",
    "    limbs_to_process=[neuron_obj.axon_limb_name])\n",
    "\n",
    "print(f\"result_limb_branch = {result_limb_branch}\")\n",
    "nviz.plot_limb_branch_dict(neuron_obj,\n",
    "                           result_limb_branch)"
   ]
  },
  {
   "cell_type": "code",
   "execution_count": 19,
   "metadata": {},
   "outputs": [],
   "source": [
    "interesting_node = 318"
   ]
  },
  {
   "cell_type": "code",
   "execution_count": 17,
   "metadata": {},
   "outputs": [
    {
     "data": {
      "text/plain": [
       "359"
      ]
     },
     "execution_count": 17,
     "metadata": {},
     "output_type": "execute_result"
    }
   ],
   "source": [
    "limb_obj = pre_filt_neuron[0]\n",
    "nru.upstream_node(limb_obj,interesting_node)"
   ]
  },
  {
   "cell_type": "code",
   "execution_count": 20,
   "metadata": {},
   "outputs": [],
   "source": [
    "nru.shared_skeleton_endpoints_for_connected_branches?"
   ]
  },
  {
   "cell_type": "code",
   "execution_count": 22,
   "metadata": {},
   "outputs": [],
   "source": [
    "common_endpoint = nru.shared_skeleton_endpoints_for_connected_branches(limb_obj,\n",
    "                                                    318,\n",
    "                                                    359)"
   ]
  },
  {
   "cell_type": "code",
   "execution_count": 23,
   "metadata": {},
   "outputs": [],
   "source": [
    "up_width,d_width,up_sk,d_sk = nru.branch_boundary_transition(limb_obj,\n",
    "                              edge=[359,318],\n",
    "                            upstream_common_endpoint=common_endpoint,\n",
    "                            downstream_common_endpoint=common_endpoint,\n",
    "                            error_on_no_network_connection=False,\n",
    "                            comparison_distance=10000,\n",
    "                            offset=0,\n",
    "                            width_name=\"no_spine_median_mesh_center\",\n",
    "                            verbose=False)"
   ]
  },
  {
   "cell_type": "markdown",
   "metadata": {},
   "source": [
    "# Develop the Function that will find a path back to the starting coordinate"
   ]
  },
  {
   "cell_type": "code",
   "execution_count": 100,
   "metadata": {},
   "outputs": [],
   "source": [
    "for k in limb_obj.get_branch_names():\n",
    "    nru.branch_path_to_start_node(limb_obj = neuron_obj[0],\n",
    "    branch_idx = k,\n",
    "    include_branch_idx = False,\n",
    "    skeletal_length_min = 2000,\n",
    "    verbose = False)"
   ]
  },
  {
   "cell_type": "code",
   "execution_count": 52,
   "metadata": {},
   "outputs": [
    {
     "data": {
      "text/plain": [
       "-22.86456963566667"
      ]
     },
     "execution_count": 52,
     "metadata": {},
     "output_type": "execute_result"
    }
   ],
   "source": [
    "import error_detection as ed\n",
    "ed.width_jump_from_upstream_min(limb_obj=neuron_obj[0],\n",
    "branch_idx=318,\n",
    "skeletal_length_min = 2000,\n",
    "verbose = False)\n",
    "\n"
   ]
  },
  {
   "cell_type": "markdown",
   "metadata": {},
   "source": [
    "# Trying out the function as a query"
   ]
  },
  {
   "cell_type": "code",
   "execution_count": 63,
   "metadata": {},
   "outputs": [],
   "source": [
    "import neuron_searching as ns\n",
    "width_jump_limb_branch = ns.query_neuron(neuron_obj,\n",
    "                functions_list=[\"width_jump_from_upstream_min\"],\n",
    "                query=\"width_jump_from_upstream_min>50\",\n",
    "                function_kwargs=dict(skeletal_length_min=4000),\n",
    "                return_dataframe=False,\n",
    "        limbs_to_process=[\"L0\"])"
   ]
  },
  {
   "cell_type": "code",
   "execution_count": 64,
   "metadata": {},
   "outputs": [
    {
     "name": "stdout",
     "output_type": "stream",
     "text": [
      "\n",
      " Working on visualization type: mesh\n"
     ]
    },
    {
     "data": {
      "application/vnd.jupyter.widget-view+json": {
       "model_id": "1d5714a5903e456abea22b20c83c6499",
       "version_major": 2,
       "version_minor": 0
      },
      "text/plain": [
       "VBox(children=(Figure(camera=PerspectiveCamera(fov=46.0, position=(0.0, 0.0, 2.0), projectionMatrix=(1.0, 0.0,…"
      ]
     },
     "metadata": {},
     "output_type": "display_data"
    }
   ],
   "source": [
    "nviz.plot_limb_branch_dict(neuron_obj,\n",
    "                          width_jump_limb_branch)"
   ]
  },
  {
   "cell_type": "markdown",
   "metadata": {},
   "source": [
    "# A) Putting Together the Width Query"
   ]
  },
  {
   "cell_type": "code",
   "execution_count": 122,
   "metadata": {},
   "outputs": [
    {
     "data": {
      "text/plain": [
       "66.6561904816918"
      ]
     },
     "execution_count": 122,
     "metadata": {},
     "output_type": "execute_result"
    }
   ],
   "source": [
    "nru.width(neuron_obj[1][0])"
   ]
  },
  {
   "cell_type": "code",
   "execution_count": 125,
   "metadata": {},
   "outputs": [
    {
     "data": {
      "text/plain": [
       "(469.26387991716604, 464.60513113947815)"
      ]
     },
     "execution_count": 125,
     "metadata": {},
     "output_type": "execute_result"
    }
   ],
   "source": [
    "nru.width(neuron_obj[1][8]),nru.width(neuron_obj[1][2])"
   ]
  },
  {
   "cell_type": "code",
   "execution_count": 124,
   "metadata": {},
   "outputs": [
    {
     "name": "stdout",
     "output_type": "stream",
     "text": [
      "limb_name = L1\n",
      "\n",
      " Working on visualization type: mesh\n",
      "\n",
      " Working on visualization type: skeleton\n"
     ]
    },
    {
     "data": {
      "application/vnd.jupyter.widget-view+json": {
       "model_id": "0b0223db0fbe4991a85fb0202fa23c14",
       "version_major": 2,
       "version_minor": 0
      },
      "text/plain": [
       "VBox(children=(Figure(camera=PerspectiveCamera(fov=46.0, position=(0.0, 0.0, 2.0), projectionMatrix=(1.0, 0.0,…"
      ]
     },
     "metadata": {},
     "output_type": "display_data"
    },
    {
     "name": "stdout",
     "output_type": "stream",
     "text": [
      "No limb name was given so using L1 because was the limb in the first key\n"
     ]
    },
    {
     "data": {
      "image/png": "[encoded data removed]",
      "text/plain": [
       "<Figure size 2880x1440 with 1 Axes>"
      ]
     },
     "metadata": {},
     "output_type": "display_data"
    }
   ],
   "source": [
    "nviz.visualize_neuron_specific_limb(neuron_obj,\n",
    "                                   1)"
   ]
  },
  {
   "cell_type": "code",
   "execution_count": 126,
   "metadata": {},
   "outputs": [
    {
     "name": "stdout",
     "output_type": "stream",
     "text": [
      "dendrite_limb_branch = {'L1': array([ 0,  1,  2,  3,  4,  5,  6,  7,  8,  9, 10, 11, 12, 13, 14, 15, 16,\n",
      "       17, 18, 19, 20, 21, 22]), 'L2': array([ 0,  1,  2,  3,  4,  5,  6,  7,  8,  9, 10, 11, 12, 13, 14, 15, 16,\n",
      "       17, 18]), 'L3': array([0, 1, 2, 3, 4, 5, 6, 7, 8]), 'L4': array([0]), 'L5': array([0]), 'L6': array([ 0,  1,  2,  3,  4,  5,  6,  7,  8,  9, 10, 11, 12, 13, 14, 15, 16,\n",
      "       17, 18])}\n",
      "width_errors = {'L1': array([ 0,  8, 21, 22]), 'L2': array([5])}\n",
      "\n",
      " Working on visualization type: mesh\n"
     ]
    },
    {
     "data": {
      "application/vnd.jupyter.widget-view+json": {
       "model_id": "78b1787acf154d5a955b2cf211daf453",
       "version_major": 2,
       "version_minor": 0
      },
      "text/plain": [
       "VBox(children=(Figure(camera=PerspectiveCamera(fov=46.0, position=(0.0, 0.0, 2.0), projectionMatrix=(1.0, 0.0,…"
      ]
     },
     "metadata": {},
     "output_type": "display_data"
    },
    {
     "data": {
      "text/plain": [
       "{'L1': array([ 0,  8, 21, 22]), 'L2': array([5])}"
      ]
     },
     "execution_count": 126,
     "metadata": {},
     "output_type": "execute_result"
    }
   ],
   "source": [
    "ed.width_jump_up_dendrite(neuron_obj,\n",
    "                     plot_width_errors=True,\n",
    "                         width_jump_max=3)"
   ]
  },
  {
   "cell_type": "code",
   "execution_count": 116,
   "metadata": {},
   "outputs": [
    {
     "name": "stdout",
     "output_type": "stream",
     "text": [
      "width_errors = {'L0': array([  6, 293])}\n",
      "\n",
      " Working on visualization type: mesh\n"
     ]
    },
    {
     "data": {
      "application/vnd.jupyter.widget-view+json": {
       "model_id": "a8832b95a47c4969a40c65001da75020",
       "version_major": 2,
       "version_minor": 0
      },
      "text/plain": [
       "VBox(children=(Figure(camera=PerspectiveCamera(fov=46.0, position=(0.0, 0.0, 2.0), projectionMatrix=(1.0, 0.0,…"
      ]
     },
     "metadata": {},
     "output_type": "display_data"
    },
    {
     "data": {
      "text/plain": [
       "{'L0': array([  6, 293])}"
      ]
     },
     "execution_count": 116,
     "metadata": {},
     "output_type": "execute_result"
    }
   ],
   "source": [
    "ed.width_jump_up_axon(neuron_obj,\n",
    "                     plot_width_errors=True)"
   ]
  },
  {
   "cell_type": "code",
   "execution_count": 141,
   "metadata": {},
   "outputs": [
    {
     "data": {
      "text/plain": [
       "864691135462735678"
      ]
     },
     "execution_count": 141,
     "metadata": {},
     "output_type": "execute_result"
    }
   ],
   "source": [
    "neuron_obj.segment_id"
   ]
  },
  {
   "cell_type": "code",
   "execution_count": null,
   "metadata": {},
   "outputs": [],
   "source": [
    "upstream_skeletal_length_min = 5000\n",
    "branch_skeletal_length_min = 6000\n",
    "upstream_skeletal_length_min_for_min = 4000\n",
    "width_jump_max = 200\n",
    "\n",
    "dendrite_limb_branch = ns.query_neuron_by_labels(neuron_obj,\n",
    "                                                        not_matching_labels=[\"axon\"])\n",
    "\n",
    "ed.width_jump_up_error_limb_branch_dict(neuron_obj,\n",
    "                                     limb_branch_dict_restriction = dendrite_limb_branch,\n",
    "                                     upstream_skeletal_length_min = upstream_skeletal_length_min,\n",
    "                                     branch_skeletal_length_min = branch_skeletal_length_min,\n",
    "                                     upstream_skeletal_length_min_for_min= upstream_skeletal_length_min_for_min,\n",
    "                                    width_jump_max = width_jump_max,\n",
    "                                    plot_final_width_jump = True,\n",
    "                                       plot_upstream_skeletal_length_min=True)\n"
   ]
  },
  {
   "cell_type": "markdown",
   "metadata": {},
   "source": [
    "# Develop the Width Query for the Dendrite and Axon (TO DO)"
   ]
  },
  {
   "cell_type": "code",
   "execution_count": null,
   "metadata": {},
   "outputs": [],
   "source": []
  },
  {
   "cell_type": "markdown",
   "metadata": {},
   "source": [
    "# For New Double Back Error"
   ]
  },
  {
   "cell_type": "code",
   "execution_count": 131,
   "metadata": {},
   "outputs": [
    {
     "name": "stdout",
     "output_type": "stream",
     "text": [
      "double_back_limb_branch_dict (WITH threshold 140) = {'L0': array([ 35,  40,  49,  93,  98, 120, 125, 161, 175, 183, 195, 207, 228,\n",
      "       232, 244, 314, 318, 338, 346])}\n",
      "\n",
      " Working on visualization type: mesh\n"
     ]
    },
    {
     "data": {
      "application/vnd.jupyter.widget-view+json": {
       "model_id": "4320300b41a3495ca7f992d662819afc",
       "version_major": 2,
       "version_minor": 0
      },
      "text/plain": [
       "VBox(children=(Figure(camera=PerspectiveCamera(fov=46.0, position=(0.0, 0.0, 2.0), projectionMatrix=(1.0, 0.0,…"
      ]
     },
     "metadata": {},
     "output_type": "display_data"
    },
    {
     "data": {
      "text/plain": [
       "{'L0': array([ 35,  40,  49,  93,  98, 120, 125, 161, 175, 183, 195, 207, 228,\n",
       "        232, 244, 314, 318, 338, 346])}"
      ]
     },
     "execution_count": 131,
     "metadata": {},
     "output_type": "execute_result"
    }
   ],
   "source": [
    "\"\"\"\n",
    "Purpose: \n",
    "To identify the branches that double \n",
    "back in terms of skeleton\n",
    "\n",
    "Pseudocode: \n",
    "1) Get the dendrite or axons (and maybe subset of axons with a certain width) limb branch\n",
    "2) Only get the branches that have certain upstream and are of certain length\n",
    "- will have different parameters for different axon/dendrite\n",
    "3) Query for those branches that double back with the specific parameters\n",
    "4) Plot final query\n",
    "\n",
    "\"\"\"\n",
    "\n",
    "ed.double_back_error_limb_branch_dict(neuron_obj,\n",
    "                                      double_back_threshold=140,\n",
    "                                  limb_branch_dict_restriction=axon_limb_branch,\n",
    "                                  plot_final_double_back=True,\n",
    "                                     comparison_distance = 1000,\n",
    "                                       offset = 500)"
   ]
  },
  {
   "cell_type": "code",
   "execution_count": 134,
   "metadata": {},
   "outputs": [
    {
     "name": "stdout",
     "output_type": "stream",
     "text": [
      "current_limb_branch_dict = {'L1': array([ 0,  1,  2,  3,  4,  5,  6,  7,  8,  9, 10, 11, 12, 13, 14, 15, 16,\n",
      "       17, 18, 19, 20, 21, 22]), 'L2': array([ 0,  1,  2,  3,  4,  5,  6,  7,  8,  9, 10, 11, 12, 13, 14, 15, 16,\n",
      "       17, 18]), 'L3': array([0, 1, 2, 3, 4, 5, 6, 7, 8]), 'L4': array([0]), 'L5': array([0]), 'L6': array([ 0,  1,  2,  3,  4,  5,  6,  7,  8,  9, 10, 11, 12, 13, 14, 15, 16,\n",
      "       17, 18])}\n",
      "\n",
      " Working on visualization type: mesh\n"
     ]
    },
    {
     "data": {
      "application/vnd.jupyter.widget-view+json": {
       "model_id": "1024bf1ec7bc46ed91920f1be15fe9f2",
       "version_major": 2,
       "version_minor": 0
      },
      "text/plain": [
       "VBox(children=(Figure(camera=PerspectiveCamera(fov=46.0, position=(0.0, 0.0, 2.0), projectionMatrix=(1.0, 0.0,…"
      ]
     },
     "metadata": {},
     "output_type": "display_data"
    },
    {
     "name": "stdout",
     "output_type": "stream",
     "text": [
      "double_back_errors = {'L1': array([ 1, 15, 17, 18, 21])}\n",
      "\n",
      " Working on visualization type: mesh\n"
     ]
    },
    {
     "data": {
      "application/vnd.jupyter.widget-view+json": {
       "model_id": "c4e8f930933942bcadd221f6ace830ea",
       "version_major": 2,
       "version_minor": 0
      },
      "text/plain": [
       "VBox(children=(Figure(camera=PerspectiveCamera(fov=46.0, position=(0.0, 0.0, 2.0), projectionMatrix=(1.0, 0.0,…"
      ]
     },
     "metadata": {},
     "output_type": "display_data"
    },
    {
     "data": {
      "text/plain": [
       "{'L1': array([ 1, 15, 17, 18, 21])}"
      ]
     },
     "execution_count": 134,
     "metadata": {},
     "output_type": "execute_result"
    }
   ],
   "source": [
    "ed.double_back_dendrite(neuron_obj,\n",
    "                        double_back_threshold=90,\n",
    "                         comparison_distance = 3000,\n",
    "                         offset = 0,\n",
    "                         branch_skeletal_length_min = 4000, #deciding which branches will be skipped because of length\n",
    "                        plot_starting_limb_branch = True,\n",
    "                         plot_double_back_errors = True\n",
    "                        )"
   ]
  },
  {
   "cell_type": "code",
   "execution_count": 137,
   "metadata": {},
   "outputs": [
    {
     "name": "stdout",
     "output_type": "stream",
     "text": [
      "current_limb_branch_dict = {'L0': array([  1,   2,   4,   5,   7,   8,   9,  11,  12,  13,  14,  15,  16,\n",
      "        17,  18,  19,  20,  21,  23,  24,  25,  26,  28,  30,  31,  32,\n",
      "        33,  34,  35,  36,  37,  38,  39,  40,  41,  42,  45,  46,  47,\n",
      "        49,  50,  51,  52,  53,  54,  55,  56,  57,  58,  59,  60,  61,\n",
      "        62,  63,  64,  65,  66,  67,  69,  70,  71,  72,  73,  74,  75,\n",
      "        76,  77,  78,  79,  80,  82,  84,  85,  86,  87,  88,  89,  90,\n",
      "        91,  92,  93,  94,  95,  96,  98, 100, 101, 102, 103, 105, 106,\n",
      "       107, 108, 109, 111, 112, 113, 114, 116, 117, 118, 119, 120, 121,\n",
      "       123, 124, 125, 126, 127, 128, 129, 130, 131, 132, 133, 134, 135,\n",
      "       136, 138, 139, 140, 141, 142, 143, 144, 145, 146, 149, 150, 151,\n",
      "       152, 153, 154, 155, 157, 158, 159, 160, 161, 162, 163, 164, 165,\n",
      "       166, 167, 168, 170, 171, 172, 174, 175, 176, 177, 179, 180, 181,\n",
      "       182, 183, 184, 185, 186, 187, 188, 189, 190, 191, 192, 193, 194,\n",
      "       195, 196, 197, 199, 200, 201, 203, 204, 205, 206, 207, 208, 209,\n",
      "       212, 213, 214, 215, 216, 217, 218, 219, 220, 221, 222, 223, 224,\n",
      "       225, 226, 227, 228, 229, 231, 232, 233, 235, 236, 237, 238, 240,\n",
      "       241, 242, 244, 245, 247, 248, 249, 251, 252, 253, 254, 255, 256,\n",
      "       257, 261, 262, 263, 264, 265, 267, 268, 269, 270, 271, 272, 273,\n",
      "       275, 278, 280, 281, 283, 284, 285, 286, 288, 289, 290, 291, 292,\n",
      "       294, 296, 299, 301, 302, 303, 305, 306, 307, 309, 310, 311, 312,\n",
      "       313, 314, 315, 316, 319, 321, 322, 323, 324, 325, 326, 327, 329,\n",
      "       331, 333, 334, 335, 337, 338, 339, 343, 345, 346, 347, 351, 353,\n",
      "       354, 361, 363, 364, 365, 367, 369, 371, 372, 373, 374, 376, 377,\n",
      "       378, 381, 382, 383, 384, 385, 388, 389, 390, 391, 392])}\n",
      "\n",
      " Working on visualization type: mesh\n"
     ]
    },
    {
     "data": {
      "application/vnd.jupyter.widget-view+json": {
       "model_id": "0455260e4320489593254947b15589fa",
       "version_major": 2,
       "version_minor": 0
      },
      "text/plain": [
       "VBox(children=(Figure(camera=PerspectiveCamera(fov=46.0, position=(0.0, 0.0, 2.0), projectionMatrix=(1.0, 0.0,…"
      ]
     },
     "metadata": {},
     "output_type": "display_data"
    },
    {
     "name": "stdout",
     "output_type": "stream",
     "text": [
      "double_back_errors = {'L0': array([ 40,  49,  65,  69,  90,  98, 113, 161, 183, 195, 228, 244, 314,\n",
      "       327, 346])}\n",
      "\n",
      " Working on visualization type: mesh\n"
     ]
    },
    {
     "data": {
      "application/vnd.jupyter.widget-view+json": {
       "model_id": "d17ed067a9724c9381190a7e1ef75be0",
       "version_major": 2,
       "version_minor": 0
      },
      "text/plain": [
       "VBox(children=(Figure(camera=PerspectiveCamera(fov=46.0, position=(0.0, 0.0, 2.0), projectionMatrix=(1.0, 0.0,…"
      ]
     },
     "metadata": {},
     "output_type": "display_data"
    },
    {
     "data": {
      "text/plain": [
       "{'L0': array([ 40,  49,  65,  69,  90,  98, 113, 161, 183, 195, 228, 244, 314,\n",
       "        327, 346])}"
      ]
     },
     "execution_count": 137,
     "metadata": {},
     "output_type": "execute_result"
    }
   ],
   "source": [
    "ed.double_back_axon_thin(neuron_obj,\n",
    "                          axon_width_threshold = 100,\n",
    "                        double_back_threshold=140,\n",
    "                         comparison_distance = 1200,\n",
    "                         offset = 0,\n",
    "                         branch_skeletal_length_min = 4000, #deciding which branches will be skipped because of length\n",
    "                         plot_starting_limb_branch = True,\n",
    "                         plot_double_back_errors = True,\n",
    "                        )"
   ]
  },
  {
   "cell_type": "code",
   "execution_count": 140,
   "metadata": {},
   "outputs": [
    {
     "name": "stdout",
     "output_type": "stream",
     "text": [
      "current_limb_branch_dict = {'L0': array([  0,   3,   6,  10,  22,  27,  29,  43,  44,  48,  68,  81,  83,\n",
      "        97,  99, 104, 110, 115, 122, 137, 147, 148, 156, 169, 173, 178,\n",
      "       198, 202, 210, 211, 230, 234, 239, 243, 246, 250, 258, 259, 260,\n",
      "       266, 274, 276, 277, 279, 282, 287, 293, 295, 297, 298, 300, 304,\n",
      "       308, 317, 318, 320, 328, 330, 332, 336, 340, 341, 342, 344, 348,\n",
      "       349, 350, 352, 355, 356, 357, 358, 359, 360, 362, 366, 368, 370,\n",
      "       375, 379, 380, 386, 387])}\n",
      "\n",
      " Working on visualization type: mesh\n"
     ]
    },
    {
     "data": {
      "application/vnd.jupyter.widget-view+json": {
       "model_id": "961820fcde114e2180f495e9fb4faa9e",
       "version_major": 2,
       "version_minor": 0
      },
      "text/plain": [
       "VBox(children=(Figure(camera=PerspectiveCamera(fov=46.0, position=(0.0, 0.0, 2.0), projectionMatrix=(1.0, 0.0,…"
      ]
     },
     "metadata": {},
     "output_type": "display_data"
    },
    {
     "name": "stdout",
     "output_type": "stream",
     "text": [
      "double_back_errors = {'L0': array([318])}\n",
      "\n",
      " Working on visualization type: mesh\n"
     ]
    },
    {
     "data": {
      "application/vnd.jupyter.widget-view+json": {
       "model_id": "e1a350a97a13409a8fff6ab295f3f6d0",
       "version_major": 2,
       "version_minor": 0
      },
      "text/plain": [
       "VBox(children=(Figure(camera=PerspectiveCamera(fov=46.0, position=(0.0, 0.0, 2.0), projectionMatrix=(1.0, 0.0,…"
      ]
     },
     "metadata": {},
     "output_type": "display_data"
    },
    {
     "data": {
      "text/plain": [
       "{'L0': array([318])}"
      ]
     },
     "execution_count": 140,
     "metadata": {},
     "output_type": "execute_result"
    }
   ],
   "source": [
    "import axon_utils as au\n",
    "ed.double_back_axon_thick(neuron_obj,\n",
    "                          axon_width_threshold = au.axon_thick_threshold,\n",
    "                        double_back_threshold=120,\n",
    "                         comparison_distance = 1000,\n",
    "                         offset = 0,\n",
    "                         branch_skeletal_length_min = 4000, #deciding which branches will be skipped because of length\n",
    "                         plot_starting_limb_branch = True,\n",
    "                         plot_double_back_errors = True,\n",
    "                        )"
   ]
  },
  {
   "cell_type": "code",
   "execution_count": null,
   "metadata": {},
   "outputs": [],
   "source": []
  }
 ],
 "metadata": {
  "kernelspec": {
   "display_name": "Python 3",
   "language": "python",
   "name": "python3"
  },
  "language_info": {
   "codemirror_mode": {
    "name": "ipython",
    "version": 3
   },
   "file_extension": ".py",
   "mimetype": "text/x-python",
   "name": "python",
   "nbconvert_exporter": "python",
   "pygments_lexer": "ipython3",
   "version": "3.6.9"
  }
 },
 "nbformat": 4,
 "nbformat_minor": 4
}
