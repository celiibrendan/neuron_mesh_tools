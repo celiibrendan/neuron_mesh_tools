{
 "cells": [
  {
   "cell_type": "code",
   "execution_count": null,
   "metadata": {},
   "outputs": [],
   "source": [
    "\"\"\"\n",
    "Purpose: To Redo the width and trheshold jump changes\n",
    "to a cleaner version that can have different\n",
    "thresholds for axon and dendrite\n",
    "\"\"\""
   ]
  },
  {
   "cell_type": "code",
   "execution_count": 1,
   "metadata": {},
   "outputs": [],
   "source": [
    "%load_ext autoreload\n",
    "%autoreload 2"
   ]
  },
  {
   "cell_type": "code",
   "execution_count": 2,
   "metadata": {},
   "outputs": [
    {
     "name": "stderr",
     "output_type": "stream",
     "text": [
      "INFO - 2021-05-26 19:04:10,845 - settings - Setting database.host to at-database.ad.bcm.edu\n",
      "INFO - 2021-05-26 19:04:10,849 - settings - Setting database.user to celiib\n",
      "INFO - 2021-05-26 19:04:10,851 - settings - Setting database.password to newceliipass\n",
      "INFO - 2021-05-26 19:04:10,870 - settings - Setting stores to {'minnie65': {'protocol': 'file', 'location': '/mnt/dj-stor01/platinum/minnie65', 'stage': '/mnt/dj-stor01/platinum/minnie65'}, 'meshes': {'protocol': 'file', 'location': '/mnt/dj-stor01/platinum/minnie65/02/meshes', 'stage': '/mnt/dj-stor01/platinum/minnie65/02/meshes'}, 'decimated_meshes': {'protocol': 'file', 'location': '/mnt/dj-stor01/platinum/minnie65/02/decimated_meshes', 'stage': '/mnt/dj-stor01/platinum/minnie65/02/decimated_meshes'}, 'skeletons': {'protocol': 'file', 'location': '/mnt/dj-stor01/platinum/minnie65/02/skeletons'}}\n",
      "INFO - 2021-05-26 19:04:10,872 - settings - Setting enable_python_native_blobs to True\n",
      "INFO - 2021-05-26 19:04:10,890 - connection - Connected celiib@at-database.ad.bcm.edu:3306\n"
     ]
    },
    {
     "name": "stdout",
     "output_type": "stream",
     "text": [
      "Connecting celiib@at-database.ad.bcm.edu:3306\n"
     ]
    },
    {
     "name": "stderr",
     "output_type": "stream",
     "text": [
      "INFO - 2021-05-26 19:04:11,429 - settings - Setting enable_python_native_blobs to True\n",
      "INFO - 2021-05-26 19:04:11,434 - settings - Setting database.host to at-database.ad.bcm.edu\n",
      "INFO - 2021-05-26 19:04:11,436 - settings - Setting database.user to celiib\n",
      "INFO - 2021-05-26 19:04:11,437 - settings - Setting database.password to newceliipass\n",
      "INFO - 2021-05-26 19:04:11,438 - settings - Setting database.host to at-database.ad.bcm.edu\n",
      "INFO - 2021-05-26 19:04:11,439 - settings - Setting database.user to celiib\n",
      "INFO - 2021-05-26 19:04:11,439 - settings - Setting database.password to newceliipass\n",
      "INFO - 2021-05-26 19:04:11,441 - settings - Setting enable_python_native_blobs to True\n",
      "INFO - 2021-05-26 19:04:11,991 - settings - Setting enable_python_native_blobs to True\n"
     ]
    }
   ],
   "source": [
    "import numpy as np\n",
    "import datajoint as dj\n",
    "import trimesh\n",
    "from tqdm.notebook import tqdm\n",
    "from pathlib import Path\n",
    "\n",
    "from os import sys\n",
    "sys.path.append(\"/meshAfterParty/\")\n",
    "sys.path.append(\"/meshAfterParty/meshAfterParty\")\n",
    "\n",
    "import datajoint_utils as du\n",
    "from importlib import reload"
   ]
  },
  {
   "cell_type": "code",
   "execution_count": 3,
   "metadata": {},
   "outputs": [
    {
     "name": "stderr",
     "output_type": "stream",
     "text": [
      "INFO - 2021-05-26 19:04:12,175 - settings - Setting database.host to at-database.ad.bcm.edu\n",
      "INFO - 2021-05-26 19:04:12,178 - settings - Setting database.user to celiib\n",
      "INFO - 2021-05-26 19:04:12,180 - settings - Setting database.password to newceliipass\n",
      "INFO - 2021-05-26 19:04:12,184 - settings - Setting enable_python_native_blobs to True\n",
      "INFO - 2021-05-26 19:04:12,819 - settings - Setting enable_python_native_blobs to True\n"
     ]
    }
   ],
   "source": [
    "#configuring will include the adapters\n",
    "minnie,schema = du.configure_minnie_vm()"
   ]
  },
  {
   "cell_type": "code",
   "execution_count": 4,
   "metadata": {},
   "outputs": [],
   "source": [
    "import validation_utils as vu\n",
    "import neuron_visualizations as nviz\n",
    "import neuron_utils as nru"
   ]
  },
  {
   "cell_type": "markdown",
   "metadata": {},
   "source": [
    "# Downloading the Neuron"
   ]
  },
  {
   "cell_type": "code",
   "execution_count": 5,
   "metadata": {},
   "outputs": [
    {
     "name": "stdout",
     "output_type": "stream",
     "text": [
      "Decompressing Neuron in minimal output mode...please wait\n"
     ]
    }
   ],
   "source": [
    "segment_id = 864691135462735678\n",
    "split_index = 0\n",
    "\n",
    "decomp_path = (minnie.DecompositionAxon() & dict(segment_id=segment_id,\n",
    "                                  split_index = split_index,\n",
    "                                 )).fetch1(\"decomposition\")\n",
    "pre_filt_neuron = du.filepath_to_neuron_obj(decomp_path)"
   ]
  },
  {
   "cell_type": "code",
   "execution_count": 6,
   "metadata": {},
   "outputs": [
    {
     "name": "stdout",
     "output_type": "stream",
     "text": [
      "\n",
      " Working on visualization type: mesh\n",
      "\n",
      " Working on visualization type: skeleton\n"
     ]
    },
    {
     "data": {
      "application/vnd.jupyter.widget-view+json": {
       "model_id": "1493b8d4eb854cc08d6bf9b6e8e2e617",
       "version_major": 2,
       "version_minor": 0
      },
      "text/plain": [
       "VBox(children=(Figure(camera=PerspectiveCamera(fov=46.0, position=(0.0, 0.0, 2.0), projectionMatrix=(1.0, 0.0,…"
      ]
     },
     "metadata": {},
     "output_type": "display_data"
    }
   ],
   "source": [
    "nviz.visualize_neuron(pre_filt_neuron,\n",
    "                     limb_branch_dict=\"all\")"
   ]
  },
  {
   "cell_type": "markdown",
   "metadata": {},
   "source": [
    "# Checking that the branch boundary transition skeleton extends past upstream node if need be"
   ]
  },
  {
   "cell_type": "code",
   "execution_count": 8,
   "metadata": {},
   "outputs": [
    {
     "data": {
      "text/plain": [
       "['classify_endpoint_error_branches_from_limb_concept_network',\n",
       " 'closest_branch_endpoint_to_limb_starting_coordinate',\n",
       " 'ordered_endpoints_on_branch_path',\n",
       " 'shared_skeleton_endpoints_for_connected_branches']"
      ]
     },
     "execution_count": 8,
     "metadata": {},
     "output_type": "execute_result"
    }
   ],
   "source": [
    "[k for k in dir(nru) if \"endpoint\" in k]"
   ]
  },
  {
   "cell_type": "code",
   "execution_count": 9,
   "metadata": {},
   "outputs": [],
   "source": [
    "neuron_obj = pre_filt_neuron"
   ]
  },
  {
   "cell_type": "code",
   "execution_count": 14,
   "metadata": {},
   "outputs": [
    {
     "name": "stdout",
     "output_type": "stream",
     "text": [
      "result_limb_branch = {'L0': array([293, 318])}\n",
      "\n",
      " Working on visualization type: mesh\n"
     ]
    },
    {
     "data": {
      "application/vnd.jupyter.widget-view+json": {
       "model_id": "89a6735065ec4d149315c4276aea04a1",
       "version_major": 2,
       "version_minor": 0
      },
      "text/plain": [
       "VBox(children=(Figure(camera=PerspectiveCamera(fov=46.0, position=(0.0, 0.0, 2.0), projectionMatrix=(1.0, 0.0,…"
      ]
     },
     "metadata": {},
     "output_type": "display_data"
    }
   ],
   "source": [
    "import neuron_searching as ns\n",
    "result_limb_branch = ns.query_neuron(neuron_obj,\n",
    "    functions_list=[\"parent_angle\",\"upstream_skeletal_length\",\"skeletal_length\",\"axon_width\"],\n",
    "    query=\"(parent_angle>110) and (skeletal_length>5000) and (upstream_skeletal_length>1000) and (axon_width>105)\",\n",
    "        function_kwargs=dict(comparison_distance=1000),\n",
    "    return_dataframe=False,\n",
    "    limbs_to_process=[neuron_obj.axon_limb_name])\n",
    "\n",
    "print(f\"result_limb_branch = {result_limb_branch}\")\n",
    "nviz.plot_limb_branch_dict(neuron_obj,\n",
    "                           result_limb_branch)"
   ]
  },
  {
   "cell_type": "code",
   "execution_count": 19,
   "metadata": {},
   "outputs": [],
   "source": [
    "interesting_node = 318"
   ]
  },
  {
   "cell_type": "code",
   "execution_count": 17,
   "metadata": {},
   "outputs": [
    {
     "data": {
      "text/plain": [
       "359"
      ]
     },
     "execution_count": 17,
     "metadata": {},
     "output_type": "execute_result"
    }
   ],
   "source": [
    "limb_obj = pre_filt_neuron[0]\n",
    "nru.upstream_node(limb_obj,interesting_node)"
   ]
  },
  {
   "cell_type": "code",
   "execution_count": 20,
   "metadata": {},
   "outputs": [],
   "source": [
    "nru.shared_skeleton_endpoints_for_connected_branches?"
   ]
  },
  {
   "cell_type": "code",
   "execution_count": 22,
   "metadata": {},
   "outputs": [],
   "source": [
    "common_endpoint = nru.shared_skeleton_endpoints_for_connected_branches(limb_obj,\n",
    "                                                    318,\n",
    "                                                    359)"
   ]
  },
  {
   "cell_type": "code",
   "execution_count": 23,
   "metadata": {},
   "outputs": [],
   "source": [
    "up_width,d_width,up_sk,d_sk = nru.branch_boundary_transition(limb_obj,\n",
    "                              edge=[359,318],\n",
    "                            upstream_common_endpoint=common_endpoint,\n",
    "                            downstream_common_endpoint=common_endpoint,\n",
    "                            error_on_no_network_connection=False,\n",
    "                            comparison_distance=10000,\n",
    "                            offset=0,\n",
    "                            width_name=\"no_spine_median_mesh_center\",\n",
    "                            verbose=False)"
   ]
  },
  {
   "cell_type": "markdown",
   "metadata": {},
   "source": [
    "# Develop the Function that will find a path back to the starting coordinate"
   ]
  },
  {
   "cell_type": "code",
   "execution_count": 100,
   "metadata": {},
   "outputs": [],
   "source": [
    "for k in limb_obj.get_branch_names():\n",
    "    nru.branch_path_to_start_node(limb_obj = neuron_obj[0],\n",
    "    branch_idx = k,\n",
    "    include_branch_idx = False,\n",
    "    skeletal_length_min = 2000,\n",
    "    verbose = False)"
   ]
  },
  {
   "cell_type": "code",
   "execution_count": 52,
   "metadata": {},
   "outputs": [
    {
     "data": {
      "text/plain": [
       "-22.86456963566667"
      ]
     },
     "execution_count": 52,
     "metadata": {},
     "output_type": "execute_result"
    }
   ],
   "source": [
    "import error_detection as ed\n",
    "ed.width_jump_from_upstream_min(limb_obj=neuron_obj[0],\n",
    "branch_idx=318,\n",
    "skeletal_length_min = 2000,\n",
    "verbose = False)\n",
    "\n"
   ]
  },
  {
   "cell_type": "markdown",
   "metadata": {},
   "source": [
    "# Trying out the function as a query"
   ]
  },
  {
   "cell_type": "code",
   "execution_count": 63,
   "metadata": {},
   "outputs": [],
   "source": [
    "import neuron_searching as ns\n",
    "width_jump_limb_branch = ns.query_neuron(neuron_obj,\n",
    "                functions_list=[\"width_jump_from_upstream_min\"],\n",
    "                query=\"width_jump_from_upstream_min>50\",\n",
    "                function_kwargs=dict(skeletal_length_min=4000),\n",
    "                return_dataframe=False,\n",
    "        limbs_to_process=[\"L0\"])"
   ]
  },
  {
   "cell_type": "code",
   "execution_count": 64,
   "metadata": {},
   "outputs": [
    {
     "name": "stdout",
     "output_type": "stream",
     "text": [
      "\n",
      " Working on visualization type: mesh\n"
     ]
    },
    {
     "data": {
      "application/vnd.jupyter.widget-view+json": {
       "model_id": "1d5714a5903e456abea22b20c83c6499",
       "version_major": 2,
       "version_minor": 0
      },
      "text/plain": [
       "VBox(children=(Figure(camera=PerspectiveCamera(fov=46.0, position=(0.0, 0.0, 2.0), projectionMatrix=(1.0, 0.0,…"
      ]
     },
     "metadata": {},
     "output_type": "display_data"
    }
   ],
   "source": [
    "nviz.plot_limb_branch_dict(neuron_obj,\n",
    "                          width_jump_limb_branch)"
   ]
  },
  {
   "cell_type": "markdown",
   "metadata": {},
   "source": [
    "# A) Putting Together the Width Query"
   ]
  },
  {
   "cell_type": "code",
   "execution_count": 112,
   "metadata": {
    "scrolled": true
   },
   "outputs": [
    {
     "name": "stdout",
     "output_type": "stream",
     "text": [
      "upstream_skeletal_length_min = {'L0': array([  0,   1,   4,   5,   6,   7,   9,  11,  14,  15,  16,  17,  18,\n",
      "        20,  21,  25,  26,  28,  29,  30,  31,  32,  34,  36,  37,  38,\n",
      "        40,  41,  45,  47,  49,  51,  54,  56,  57,  58,  59,  62,  64,\n",
      "        65,  67,  69,  70,  71,  80,  82,  84,  86,  90,  91,  94, 100,\n",
      "       101, 105, 111, 113, 114, 116, 119, 123, 124, 125, 126, 129, 131,\n",
      "       133, 134, 135, 136, 142, 144, 145, 146, 147, 149, 151, 153, 154,\n",
      "       157, 161, 162, 163, 166, 168, 170, 171, 172, 174, 175, 176, 177,\n",
      "       179, 180, 184, 185, 187, 189, 190, 191, 193, 194, 195, 196, 203,\n",
      "       208, 209, 211, 212, 213, 214, 216, 217, 219, 220, 221, 223, 228,\n",
      "       229, 235, 236, 237, 238, 240, 241, 242, 248, 249, 251, 252, 254,\n",
      "       255, 257, 258, 264, 265, 267, 268, 269, 270, 272, 274, 284, 286,\n",
      "       287, 288, 289, 290, 291, 293, 294, 296, 297, 299, 302, 303, 305,\n",
      "       306, 310, 311, 312, 313, 314, 318, 321, 322, 323, 326, 327, 329,\n",
      "       330, 332, 334, 335, 337, 338, 339, 343, 345, 346, 347, 350, 351,\n",
      "       353, 356, 365, 372, 373, 377, 378, 380, 384, 385, 390, 391])}\n",
      "\n",
      " Working on visualization type: mesh\n"
     ]
    },
    {
     "data": {
      "application/vnd.jupyter.widget-view+json": {
       "model_id": "549de5920d6246709612d76f0e87a261",
       "version_major": 2,
       "version_minor": 0
      },
      "text/plain": [
       "VBox(children=(Figure(camera=PerspectiveCamera(fov=46.0, position=(0.0, 0.0, 2.0), projectionMatrix=(1.0, 0.0,…"
      ]
     },
     "metadata": {},
     "output_type": "display_data"
    },
    {
     "name": "stdout",
     "output_type": "stream",
     "text": [
      "branch_skeletal_length_min = {'L0': array([293])}\n",
      "\n",
      " Working on visualization type: mesh\n"
     ]
    },
    {
     "data": {
      "application/vnd.jupyter.widget-view+json": {
       "model_id": "4d69d8400ace485c8b6a266ae5dd7cc5",
       "version_major": 2,
       "version_minor": 0
      },
      "text/plain": [
       "VBox(children=(Figure(camera=PerspectiveCamera(fov=46.0, position=(0.0, 0.0, 2.0), projectionMatrix=(1.0, 0.0,…"
      ]
     },
     "metadata": {},
     "output_type": "display_data"
    },
    {
     "data": {
      "text/plain": [
       "{'L0': array([293])}"
      ]
     },
     "execution_count": 112,
     "metadata": {},
     "output_type": "execute_result"
    }
   ],
   "source": [
    "axon_limb_branch = ns.query_neuron_by_labels(neuron_obj,\n",
    "                                                        matching_labels=[\"axon\"])\n",
    "dendrite_limb_branch = ns.query_neuron_by_labels(neuron_obj,\n",
    "                                                        not_matching_labels=[\"axon\"])\n",
    "ed.width_jump_up_error_limb_branch_dict(neuron_obj,\n",
    "                                     limb_branch_dict_restriction = axon_limb_branch,\n",
    "                                     upstream_skeletal_length_min = 10000,\n",
    "                                     branch_skeletal_length_min = 6000,\n",
    "                                     upstream_skeletal_length_min_for_min= 4000,\n",
    "                                    width_jump_max = 75,\n",
    "                                    plot_final_width_jump = True,\n",
    "                                       plot_upstream_skeletal_length_min=True)\n"
   ]
  },
  {
   "cell_type": "markdown",
   "metadata": {},
   "source": [
    "# Develop the Width Query for the Dendrite and Axon (TO DO)"
   ]
  },
  {
   "cell_type": "code",
   "execution_count": null,
   "metadata": {},
   "outputs": [],
   "source": []
  },
  {
   "cell_type": "markdown",
   "metadata": {},
   "source": [
    "# For New Double Back Error"
   ]
  },
  {
   "cell_type": "code",
   "execution_count": null,
   "metadata": {},
   "outputs": [],
   "source": [
    "\"\"\"\n",
    "Purpose: \n",
    "To highlight the branches that double \n",
    "\n",
    "\n",
    "\n",
    "\"\"\"\n"
   ]
  },
  {
   "cell_type": "code",
   "execution_count": null,
   "metadata": {},
   "outputs": [],
   "source": []
  },
  {
   "cell_type": "code",
   "execution_count": null,
   "metadata": {},
   "outputs": [],
   "source": []
  },
  {
   "cell_type": "code",
   "execution_count": 24,
   "metadata": {},
   "outputs": [
    {
     "name": "stdout",
     "output_type": "stream",
     "text": [
      "Parent (359):red, child (318):blue\n"
     ]
    },
    {
     "data": {
      "application/vnd.jupyter.widget-view+json": {
       "model_id": "9b63377bf11d4720b6b659ee9593d5c7",
       "version_major": 2,
       "version_minor": 0
      },
      "text/plain": [
       "VBox(children=(Figure(camera=PerspectiveCamera(fov=46.0, position=(0.0, 0.0, 2.0), projectionMatrix=(1.0, 0.0,…"
      ]
     },
     "metadata": {},
     "output_type": "display_data"
    },
    {
     "data": {
      "text/plain": [
       "117.46"
      ]
     },
     "execution_count": 24,
     "metadata": {},
     "output_type": "execute_result"
    }
   ],
   "source": [
    "nru.find_parent_child_skeleton_angle(limb_obj,\n",
    "                                     318,\n",
    "                                    359,\n",
    "                                     comparison_distance=10000,\n",
    "                                     plot_extracted_skeletons = True\n",
    "                                    )"
   ]
  },
  {
   "cell_type": "code",
   "execution_count": null,
   "metadata": {},
   "outputs": [],
   "source": []
  }
 ],
 "metadata": {
  "kernelspec": {
   "display_name": "Python 3",
   "language": "python",
   "name": "python3"
  },
  "language_info": {
   "codemirror_mode": {
    "name": "ipython",
    "version": 3
   },
   "file_extension": ".py",
   "mimetype": "text/x-python",
   "name": "python",
   "nbconvert_exporter": "python",
   "pygments_lexer": "ipython3",
   "version": "3.6.9"
  }
 },
 "nbformat": 4,
 "nbformat_minor": 4
}
