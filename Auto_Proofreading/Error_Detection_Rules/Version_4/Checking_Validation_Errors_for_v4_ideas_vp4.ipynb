{
 "cells": [
  {
   "cell_type": "code",
   "execution_count": null,
   "metadata": {},
   "outputs": [],
   "source": [
    "\"\"\"\n",
    "Purpose: To check the errors on the validation test set\n",
    "to get ideas on how to make validation score go up\n",
    "\n",
    "\"\"\""
   ]
  },
  {
   "cell_type": "code",
   "execution_count": 1,
   "metadata": {},
   "outputs": [],
   "source": [
    "%load_ext autoreload\n",
    "%autoreload 2"
   ]
  },
  {
   "cell_type": "code",
   "execution_count": 2,
   "metadata": {},
   "outputs": [],
   "source": [
    "from os import sys\n",
    "sys.path.append(\"/meshAfterParty/\")\n",
    "sys.path.append(\"/meshAfterParty/meshAfterParty/\")"
   ]
  },
  {
   "cell_type": "code",
   "execution_count": 3,
   "metadata": {},
   "outputs": [
    {
     "name": "stderr",
     "output_type": "stream",
     "text": [
      "INFO - 2021-04-01 23:58:41,461 - settings - Setting database.host to at-database.ad.bcm.edu\n",
      "INFO - 2021-04-01 23:58:41,462 - settings - Setting database.user to celiib\n",
      "INFO - 2021-04-01 23:58:41,463 - settings - Setting database.password to newceliipass\n",
      "INFO - 2021-04-01 23:58:41,477 - settings - Setting stores to {'minnie65': {'protocol': 'file', 'location': '/mnt/dj-stor01/platinum/minnie65', 'stage': '/mnt/dj-stor01/platinum/minnie65'}, 'meshes': {'protocol': 'file', 'location': '/mnt/dj-stor01/platinum/minnie65/02/meshes', 'stage': '/mnt/dj-stor01/platinum/minnie65/02/meshes'}, 'decimated_meshes': {'protocol': 'file', 'location': '/mnt/dj-stor01/platinum/minnie65/02/decimated_meshes', 'stage': '/mnt/dj-stor01/platinum/minnie65/02/decimated_meshes'}, 'skeletons': {'protocol': 'file', 'location': '/mnt/dj-stor01/platinum/minnie65/02/skeletons'}}\n",
      "INFO - 2021-04-01 23:58:41,478 - settings - Setting enable_python_native_blobs to True\n",
      "INFO - 2021-04-01 23:58:41,490 - connection - Connected celiib@at-database.ad.bcm.edu:3306\n"
     ]
    },
    {
     "name": "stdout",
     "output_type": "stream",
     "text": [
      "Connecting celiib@at-database.ad.bcm.edu:3306\n"
     ]
    },
    {
     "name": "stderr",
     "output_type": "stream",
     "text": [
      "INFO - 2021-04-01 23:58:41,935 - settings - Setting enable_python_native_blobs to True\n",
      "INFO - 2021-04-01 23:58:41,938 - settings - Setting database.host to at-database.ad.bcm.edu\n",
      "INFO - 2021-04-01 23:58:41,939 - settings - Setting database.user to celiib\n",
      "INFO - 2021-04-01 23:58:41,940 - settings - Setting database.password to newceliipass\n",
      "INFO - 2021-04-01 23:58:41,941 - settings - Setting database.host to at-database.ad.bcm.edu\n",
      "INFO - 2021-04-01 23:58:41,942 - settings - Setting database.user to celiib\n",
      "INFO - 2021-04-01 23:58:41,942 - settings - Setting database.password to newceliipass\n",
      "INFO - 2021-04-01 23:58:41,943 - settings - Setting enable_python_native_blobs to True\n",
      "INFO - 2021-04-01 23:58:42,406 - settings - Setting enable_python_native_blobs to True\n"
     ]
    }
   ],
   "source": [
    "from pathlib import Path\n",
    "import numpy as np\n",
    "import neuron_visualizations as nviz\n",
    "import datajoint as dj\n",
    "\n",
    "import proofreading_utils as pru\n",
    "import classification_utils as clu\n",
    "\n",
    "import neuron_utils as nru\n",
    "import validation_utils as vu\n",
    "import pandas as pd\n",
    "import datajoint_utils as du"
   ]
  },
  {
   "cell_type": "markdown",
   "metadata": {},
   "source": [
    "# Computing the validation statistics (to pick the ones to look at)"
   ]
  },
  {
   "cell_type": "code",
   "execution_count": 4,
   "metadata": {
    "scrolled": true
   },
   "outputs": [
    {
     "name": "stdout",
     "output_type": "stream",
     "text": [
      "Synapsse Results:\n",
      "Total Number of Synapses = 3990\n",
      "n_valid_syn_ids_presyn = 5\n",
      "n_errored_syn_ids_presyn = 29\n",
      "n_valid_syn_ids_postsyn = 3891\n",
      "n_errored_syn_ids_postsyn = 65\n",
      "Synapsse Results:\n",
      "Total Number of Synapses = 4434\n",
      "n_valid_syn_ids_presyn = 39\n",
      "n_errored_syn_ids_presyn = 482\n",
      "n_valid_syn_ids_postsyn = 3898\n",
      "n_errored_syn_ids_postsyn = 15\n",
      "Synapsse Results:\n",
      "Total Number of Synapses = 923\n",
      "n_valid_syn_ids_presyn = 13\n",
      "n_errored_syn_ids_presyn = 153\n",
      "n_valid_syn_ids_postsyn = 753\n",
      "n_errored_syn_ids_postsyn = 4\n",
      "Synapsse Results:\n",
      "Total Number of Synapses = 4361\n",
      "n_valid_syn_ids_presyn = 86\n",
      "n_errored_syn_ids_presyn = 621\n",
      "n_valid_syn_ids_postsyn = 3649\n",
      "n_errored_syn_ids_postsyn = 5\n",
      "Synapsse Results:\n",
      "Total Number of Synapses = 3452\n",
      "n_valid_syn_ids_presyn = 76\n",
      "n_errored_syn_ids_presyn = 345\n",
      "n_valid_syn_ids_postsyn = 3007\n",
      "n_errored_syn_ids_postsyn = 24\n",
      "Synapsse Results:\n",
      "Total Number of Synapses = 3190\n",
      "n_valid_syn_ids_presyn = 18\n",
      "n_errored_syn_ids_presyn = 89\n",
      "n_valid_syn_ids_postsyn = 3081\n",
      "n_errored_syn_ids_postsyn = 2\n",
      "Synapsse Results:\n",
      "Total Number of Synapses = 3772\n",
      "n_valid_syn_ids_presyn = 40\n",
      "n_errored_syn_ids_presyn = 373\n",
      "n_valid_syn_ids_postsyn = 3319\n",
      "n_errored_syn_ids_postsyn = 40\n",
      "Synapsse Results:\n",
      "Total Number of Synapses = 3611\n",
      "n_valid_syn_ids_presyn = 0\n",
      "n_errored_syn_ids_presyn = 277\n",
      "n_valid_syn_ids_postsyn = 3329\n",
      "n_errored_syn_ids_postsyn = 5\n",
      "Synapsse Results:\n",
      "Total Number of Synapses = 3806\n",
      "n_valid_syn_ids_presyn = 24\n",
      "n_errored_syn_ids_presyn = 273\n",
      "n_valid_syn_ids_postsyn = 3352\n",
      "n_errored_syn_ids_postsyn = 157\n",
      "Synapsse Results:\n",
      "Total Number of Synapses = 7152\n",
      "n_valid_syn_ids_presyn = 0\n",
      "n_errored_syn_ids_presyn = 99\n",
      "n_valid_syn_ids_postsyn = 7046\n",
      "n_errored_syn_ids_postsyn = 7\n",
      "Synapsse Results:\n",
      "Total Number of Synapses = 6474\n",
      "n_valid_syn_ids_presyn = 66\n",
      "n_errored_syn_ids_presyn = 385\n",
      "n_valid_syn_ids_postsyn = 6018\n",
      "n_errored_syn_ids_postsyn = 5\n",
      "Synapsse Results:\n",
      "Total Number of Synapses = 4706\n",
      "n_valid_syn_ids_presyn = 6\n",
      "n_errored_syn_ids_presyn = 58\n",
      "n_valid_syn_ids_postsyn = 4632\n",
      "n_errored_syn_ids_postsyn = 10\n",
      "Synapsse Results:\n",
      "Total Number of Synapses = 2462\n",
      "n_valid_syn_ids_presyn = 32\n",
      "n_errored_syn_ids_presyn = 175\n",
      "n_valid_syn_ids_postsyn = 2224\n",
      "n_errored_syn_ids_postsyn = 31\n",
      "Synapsse Results:\n",
      "Total Number of Synapses = 4846\n",
      "n_valid_syn_ids_presyn = 2\n",
      "n_errored_syn_ids_presyn = 25\n",
      "n_valid_syn_ids_postsyn = 4817\n",
      "n_errored_syn_ids_postsyn = 2\n",
      "Synapsse Results:\n",
      "Total Number of Synapses = 3713\n",
      "n_valid_syn_ids_presyn = 61\n",
      "n_errored_syn_ids_presyn = 199\n",
      "n_valid_syn_ids_postsyn = 2662\n",
      "n_errored_syn_ids_postsyn = 791\n",
      "Synapsse Results:\n",
      "Total Number of Synapses = 1159\n",
      "n_valid_syn_ids_presyn = 84\n",
      "n_errored_syn_ids_presyn = 197\n",
      "n_valid_syn_ids_postsyn = 806\n",
      "n_errored_syn_ids_postsyn = 72\n",
      "Synapsse Results:\n",
      "Total Number of Synapses = 4783\n",
      "n_valid_syn_ids_presyn = 7\n",
      "n_errored_syn_ids_presyn = 178\n",
      "n_valid_syn_ids_postsyn = 4551\n",
      "n_errored_syn_ids_postsyn = 47\n",
      "Synapsse Results:\n",
      "Total Number of Synapses = 1760\n",
      "n_valid_syn_ids_presyn = 65\n",
      "n_errored_syn_ids_presyn = 225\n",
      "n_valid_syn_ids_postsyn = 1467\n",
      "n_errored_syn_ids_postsyn = 3\n",
      "Synapsse Results:\n",
      "Total Number of Synapses = 5362\n",
      "n_valid_syn_ids_presyn = 0\n",
      "n_errored_syn_ids_presyn = 108\n",
      "n_valid_syn_ids_postsyn = 5033\n",
      "n_errored_syn_ids_postsyn = 221\n",
      "Synapsse Results:\n",
      "Total Number of Synapses = 4072\n",
      "n_valid_syn_ids_presyn = 54\n",
      "n_errored_syn_ids_presyn = 161\n",
      "n_valid_syn_ids_postsyn = 3746\n",
      "n_errored_syn_ids_postsyn = 111\n",
      "Synapsse Results:\n",
      "Total Number of Synapses = 5846\n",
      "n_valid_syn_ids_presyn = 0\n",
      "n_errored_syn_ids_presyn = 235\n",
      "n_valid_syn_ids_postsyn = 5601\n",
      "n_errored_syn_ids_postsyn = 10\n",
      "Synapsse Results:\n",
      "Total Number of Synapses = 4377\n",
      "n_valid_syn_ids_presyn = 5\n",
      "n_errored_syn_ids_presyn = 196\n",
      "n_valid_syn_ids_postsyn = 4155\n",
      "n_errored_syn_ids_postsyn = 21\n",
      "Synapsse Results:\n",
      "Total Number of Synapses = 6287\n",
      "n_valid_syn_ids_presyn = 0\n",
      "n_errored_syn_ids_presyn = 23\n",
      "n_valid_syn_ids_postsyn = 6262\n",
      "n_errored_syn_ids_postsyn = 2\n",
      "Synapsse Results:\n",
      "Total Number of Synapses = 2875\n",
      "n_valid_syn_ids_presyn = 19\n",
      "n_errored_syn_ids_presyn = 1\n",
      "n_valid_syn_ids_postsyn = 2834\n",
      "n_errored_syn_ids_postsyn = 21\n",
      "Synapsse Results:\n",
      "Total Number of Synapses = 2717\n",
      "n_valid_syn_ids_presyn = 54\n",
      "n_errored_syn_ids_presyn = 29\n",
      "n_valid_syn_ids_postsyn = 2631\n",
      "n_errored_syn_ids_postsyn = 3\n",
      "Synapsse Results:\n",
      "Total Number of Synapses = 3329\n",
      "n_valid_syn_ids_presyn = 0\n",
      "n_errored_syn_ids_presyn = 230\n",
      "n_valid_syn_ids_postsyn = 3021\n",
      "n_errored_syn_ids_postsyn = 78\n",
      "Synapsse Results:\n",
      "Total Number of Synapses = 4803\n",
      "n_valid_syn_ids_presyn = 2\n",
      "n_errored_syn_ids_presyn = 226\n",
      "n_valid_syn_ids_postsyn = 4524\n",
      "n_errored_syn_ids_postsyn = 51\n",
      "Synapsse Results:\n",
      "Total Number of Synapses = 5263\n",
      "n_valid_syn_ids_presyn = 0\n",
      "n_errored_syn_ids_presyn = 89\n",
      "n_valid_syn_ids_postsyn = 5156\n",
      "n_errored_syn_ids_postsyn = 18\n",
      "Synapsse Results:\n",
      "Total Number of Synapses = 2171\n",
      "n_valid_syn_ids_presyn = 2\n",
      "n_errored_syn_ids_presyn = 152\n",
      "n_valid_syn_ids_postsyn = 2012\n",
      "n_errored_syn_ids_postsyn = 5\n",
      "Synapsse Results:\n",
      "Total Number of Synapses = 2978\n",
      "n_valid_syn_ids_presyn = 45\n",
      "n_errored_syn_ids_presyn = 132\n",
      "n_valid_syn_ids_postsyn = 2798\n",
      "n_errored_syn_ids_postsyn = 3\n",
      "Synapsse Results:\n",
      "Total Number of Synapses = 1221\n",
      "n_valid_syn_ids_presyn = 16\n",
      "n_errored_syn_ids_presyn = 72\n",
      "n_valid_syn_ids_postsyn = 1124\n",
      "n_errored_syn_ids_postsyn = 9\n",
      "Synapsse Results:\n",
      "Total Number of Synapses = 7110\n",
      "n_valid_syn_ids_presyn = 41\n",
      "n_errored_syn_ids_presyn = 119\n",
      "n_valid_syn_ids_postsyn = 6602\n",
      "n_errored_syn_ids_postsyn = 348\n",
      "Synapsse Results:\n",
      "Total Number of Synapses = 2757\n",
      "n_valid_syn_ids_presyn = 166\n",
      "n_errored_syn_ids_presyn = 103\n",
      "n_valid_syn_ids_postsyn = 2457\n",
      "n_errored_syn_ids_postsyn = 31\n",
      "Synapsse Results:\n",
      "Total Number of Synapses = 6716\n",
      "n_valid_syn_ids_presyn = 35\n",
      "n_errored_syn_ids_presyn = 41\n",
      "n_valid_syn_ids_postsyn = 6639\n",
      "n_errored_syn_ids_postsyn = 1\n",
      "Synapsse Results:\n",
      "Total Number of Synapses = 3348\n",
      "n_valid_syn_ids_presyn = 124\n",
      "n_errored_syn_ids_presyn = 229\n",
      "n_valid_syn_ids_postsyn = 2991\n",
      "n_errored_syn_ids_postsyn = 4\n",
      "Synapsse Results:\n",
      "Total Number of Synapses = 5879\n",
      "n_valid_syn_ids_presyn = 31\n",
      "n_errored_syn_ids_presyn = 183\n",
      "n_valid_syn_ids_postsyn = 5650\n",
      "n_errored_syn_ids_postsyn = 15\n",
      "Synapsse Results:\n",
      "Total Number of Synapses = 2510\n",
      "n_valid_syn_ids_presyn = 23\n",
      "n_errored_syn_ids_presyn = 23\n",
      "n_valid_syn_ids_postsyn = 2463\n",
      "n_errored_syn_ids_postsyn = 1\n",
      "Synapsse Results:\n",
      "Total Number of Synapses = 792\n",
      "n_valid_syn_ids_presyn = 11\n",
      "n_errored_syn_ids_presyn = 48\n",
      "n_valid_syn_ids_postsyn = 725\n",
      "n_errored_syn_ids_postsyn = 8\n",
      "Synapsse Results:\n",
      "Total Number of Synapses = 7459\n",
      "n_valid_syn_ids_presyn = 176\n",
      "n_errored_syn_ids_presyn = 270\n",
      "n_valid_syn_ids_postsyn = 6896\n",
      "n_errored_syn_ids_postsyn = 117\n",
      "Synapsse Results:\n",
      "Total Number of Synapses = 1990\n",
      "n_valid_syn_ids_presyn = 10\n",
      "n_errored_syn_ids_presyn = 234\n",
      "n_valid_syn_ids_postsyn = 1740\n",
      "n_errored_syn_ids_postsyn = 6\n",
      "Synapsse Results:\n",
      "Total Number of Synapses = 3302\n",
      "n_valid_syn_ids_presyn = 36\n",
      "n_errored_syn_ids_presyn = 123\n",
      "n_valid_syn_ids_postsyn = 3128\n",
      "n_errored_syn_ids_postsyn = 15\n",
      "Synapsse Results:\n",
      "Total Number of Synapses = 2523\n",
      "n_valid_syn_ids_presyn = 58\n",
      "n_errored_syn_ids_presyn = 398\n",
      "n_valid_syn_ids_postsyn = 2010\n",
      "n_errored_syn_ids_postsyn = 57\n",
      "Synapsse Results:\n",
      "Total Number of Synapses = 6246\n",
      "n_valid_syn_ids_presyn = 5\n",
      "n_errored_syn_ids_presyn = 386\n",
      "n_valid_syn_ids_postsyn = 5696\n",
      "n_errored_syn_ids_postsyn = 159\n",
      "Synapsse Results:\n",
      "Total Number of Synapses = 1896\n",
      "n_valid_syn_ids_presyn = 2\n",
      "n_errored_syn_ids_presyn = 121\n",
      "n_valid_syn_ids_postsyn = 1757\n",
      "n_errored_syn_ids_postsyn = 16\n",
      "Synapsse Results:\n",
      "Total Number of Synapses = 10149\n",
      "n_valid_syn_ids_presyn = 291\n",
      "n_errored_syn_ids_presyn = 547\n",
      "n_valid_syn_ids_postsyn = 9293\n",
      "n_errored_syn_ids_postsyn = 18\n",
      "Synapsse Results:\n",
      "Total Number of Synapses = 1708\n",
      "n_valid_syn_ids_presyn = 12\n",
      "n_errored_syn_ids_presyn = 92\n",
      "n_valid_syn_ids_postsyn = 1591\n",
      "n_errored_syn_ids_postsyn = 13\n",
      "Synapsse Results:\n",
      "Total Number of Synapses = 1899\n",
      "n_valid_syn_ids_presyn = 27\n",
      "n_errored_syn_ids_presyn = 107\n",
      "n_valid_syn_ids_postsyn = 1756\n",
      "n_errored_syn_ids_postsyn = 9\n",
      "Synapsse Results:\n",
      "Total Number of Synapses = 8418\n",
      "n_valid_syn_ids_presyn = 52\n",
      "n_errored_syn_ids_presyn = 332\n",
      "n_valid_syn_ids_postsyn = 8018\n",
      "n_errored_syn_ids_postsyn = 16\n",
      "Synapsse Results:\n",
      "Total Number of Synapses = 2080\n",
      "n_valid_syn_ids_presyn = 8\n",
      "n_errored_syn_ids_presyn = 42\n",
      "n_valid_syn_ids_postsyn = 2029\n",
      "n_errored_syn_ids_postsyn = 1\n"
     ]
    },
    {
     "name": "stdout",
     "output_type": "stream",
     "text": [
      "Synapsse Results:\n",
      "Total Number of Synapses = 1645\n",
      "n_valid_syn_ids_presyn = 0\n",
      "n_errored_syn_ids_presyn = 108\n",
      "n_valid_syn_ids_postsyn = 1536\n",
      "n_errored_syn_ids_postsyn = 1\n",
      "Synapsse Results:\n",
      "Total Number of Synapses = 4633\n",
      "n_valid_syn_ids_presyn = 72\n",
      "n_errored_syn_ids_presyn = 219\n",
      "n_valid_syn_ids_postsyn = 4328\n",
      "n_errored_syn_ids_postsyn = 14\n",
      "Synapsse Results:\n",
      "Total Number of Synapses = 2383\n",
      "n_valid_syn_ids_presyn = 0\n",
      "n_errored_syn_ids_presyn = 47\n",
      "n_valid_syn_ids_postsyn = 2334\n",
      "n_errored_syn_ids_postsyn = 2\n",
      "Synapsse Results:\n",
      "Total Number of Synapses = 4015\n",
      "n_valid_syn_ids_presyn = 12\n",
      "n_errored_syn_ids_presyn = 109\n",
      "n_valid_syn_ids_postsyn = 3879\n",
      "n_errored_syn_ids_postsyn = 15\n",
      "Synapsse Results:\n",
      "Total Number of Synapses = 1914\n",
      "n_valid_syn_ids_presyn = 3\n",
      "n_errored_syn_ids_presyn = 212\n",
      "n_valid_syn_ids_postsyn = 1528\n",
      "n_errored_syn_ids_postsyn = 171\n",
      "Synapsse Results:\n",
      "Total Number of Synapses = 10012\n",
      "n_valid_syn_ids_presyn = 8\n",
      "n_errored_syn_ids_presyn = 164\n",
      "n_valid_syn_ids_postsyn = 9825\n",
      "n_errored_syn_ids_postsyn = 15\n"
     ]
    }
   ],
   "source": [
    "segment_ids = du.proofreading_stats_table(validation=True).fetch(\"segment_id\")\n",
    "\n",
    "validation_dfs = [vu.synapse_validation_df_single_neuron(k,\n",
    "                                        remove_presyn_on_dendrite = False,\n",
    "                        count_presyn_on_dendrite_as_correct = True,\n",
    "                                                        include_extension_synapse=False) for k in segment_ids]"
   ]
  },
  {
   "cell_type": "code",
   "execution_count": 12,
   "metadata": {},
   "outputs": [
    {
     "name": "stdout",
     "output_type": "stream",
     "text": [
      "Segment_id = 864691135564655959\n"
     ]
    },
    {
     "data": {
      "image/png": "[encoded data removed]",
      "text/plain": [
       "<Figure size 700x400 with 2 Axes>"
      ]
     },
     "metadata": {},
     "output_type": "display_data"
    }
   ],
   "source": [
    "curr_idx = 30\n",
    "segment_id = segment_ids[curr_idx]\n",
    "print(f\"Segment_id = {segment_id}\")\n",
    "curr_validation_df = validation_dfs[curr_idx]\n",
    "vu.synapse_validation_df_to_score_plot(curr_validation_df)"
   ]
  },
  {
   "cell_type": "markdown",
   "metadata": {},
   "source": [
    "# Picking the neuron to visualize"
   ]
  },
  {
   "cell_type": "code",
   "execution_count": 13,
   "metadata": {},
   "outputs": [
    {
     "name": "stdout",
     "output_type": "stream",
     "text": [
      "Working on Neuron: 864691135564655959\n",
      "\n",
      "\n",
      "Synapse Category Results, synapse_type = presyn\n",
      "# of TP = 11\n",
      "# of TN = 72\n",
      "# of FP = 5\n",
      "# of FN = 0\n",
      "No axon skeleton attribute stored in database table\n"
     ]
    },
    {
     "name": "stderr",
     "output_type": "stream",
     "text": [
      "/usr/local/lib/python3.6/dist-packages/traittypes/traittypes.py:101: UserWarning: Given trait value dtype \"float64\" does not match required type \"float64\". A coerced copy has been created.\n",
      "  np.dtype(self.dtype).name))\n"
     ]
    },
    {
     "data": {
      "application/vnd.jupyter.widget-view+json": {
       "model_id": "d08d7a48bb3447498d258bfcd3acb35a",
       "version_major": 2,
       "version_minor": 0
      },
      "text/plain": [
       "VBox(children=(Figure(camera=PerspectiveCamera(fov=46.0, position=(0.0, 0.0, 2.0), projectionMatrix=(1.0, 0.0,…"
      ]
     },
     "metadata": {},
     "output_type": "display_data"
    },
    {
     "name": "stdout",
     "output_type": "stream",
     "text": [
      "TP:yellow\n",
      "TN:aqua\n",
      "FP:black\n",
      "FN:orange\n"
     ]
    }
   ],
   "source": [
    "du.plot_proofread_validation_neuron(\n",
    "    segment_id = segment_id,\n",
    "    validation_df=curr_validation_df,\n",
    "    verbose = True,\n",
    "    synapse_type = \"presyn\",\n",
    ")"
   ]
  },
  {
   "cell_type": "markdown",
   "metadata": {},
   "source": [
    "# Checking the neuron proofreading"
   ]
  },
  {
   "cell_type": "code",
   "execution_count": 14,
   "metadata": {},
   "outputs": [
    {
     "data": {
      "text/plain": [
       "864691135564655959"
      ]
     },
     "execution_count": 14,
     "metadata": {},
     "output_type": "execute_result"
    }
   ],
   "source": [
    "segment_id = vu.validation_df_to_old_segment_id(curr_validation_df)\n",
    "segment_id"
   ]
  },
  {
   "cell_type": "code",
   "execution_count": 15,
   "metadata": {},
   "outputs": [
    {
     "name": "stdout",
     "output_type": "stream",
     "text": [
      "Decompressing Neuron in minimal output mode...please wait\n",
      "Pulled from Table Decomposition so setting split_index = 0\n",
      "Dont need spine recalculation\n",
      "Number of Neurons found = 1\n"
     ]
    }
   ],
   "source": [
    "neuron_objs,neuron_split_idxs = du.decomposition_with_spine_recalculation(segment_id)"
   ]
  },
  {
   "cell_type": "code",
   "execution_count": 16,
   "metadata": {},
   "outputs": [
    {
     "data": {
      "text/plain": [
       "864691135564655959"
      ]
     },
     "execution_count": 16,
     "metadata": {},
     "output_type": "execute_result"
    }
   ],
   "source": [
    "neuron_obj = neuron_objs[0]\n",
    "neuron_obj.segment_id"
   ]
  },
  {
   "cell_type": "code",
   "execution_count": 17,
   "metadata": {},
   "outputs": [
    {
     "name": "stdout",
     "output_type": "stream",
     "text": [
      "\n",
      "Part 1: Axon like branchese \n",
      "{'L0': array([10]), 'L4': array([ 0,  1,  2,  3,  4,  5,  6,  7,  8,  9, 10, 11, 12, 13, 14, 15, 16,\n",
      "       17, 18, 19, 20, 21, 22, 23])}\n",
      "Limb L0 soma angle: 14.97 \n",
      "Limb L1 soma angle: 148.54 \n",
      "Limb L2 soma angle: 127.76 \n",
      "Limb L3 soma angle: 105.66 \n",
      "Limb L4 soma angle: 173.62 \n",
      "Limb L5 soma angle: 70.57 \n",
      "Limb L6 soma angle: 85.74 \n",
      "\n",
      "Part 2: possible_axon_limbs = [1, 2, 3, 4, 5, 6]\n",
      "\n",
      "Phase 2: Working on Limb L1\n",
      "nodes_to_eliminate = [6]\n",
      "\n",
      "Phase 2: Working on Limb L2\n",
      "nodes_to_eliminate = [3]\n",
      "\n",
      "Phase 2: Working on Limb L3\n",
      "nodes_to_eliminate = [0 1]\n",
      "\n",
      "Phase 2: Working on Limb L4\n",
      "nodes_to_eliminate = []\n",
      "\n",
      "Phase 2: Working on Limb L5\n",
      "nodes_to_eliminate = [2]\n",
      "\n",
      "Phase 2: Working on Limb L6\n",
      "nodes_to_eliminate = []\n",
      "\n",
      "----Working on Limb L1-----\n",
      "No endpoints were eliminated so don't need to add back any candidates\n",
      "\n",
      "----Working on Limb L2-----\n",
      "No endpoints were eliminated so don't need to add back any candidates\n",
      "\n",
      "----Working on Limb L3-----\n",
      "No endpoints were eliminated so don't need to add back any candidates\n",
      "\n",
      "----Working on Limb L4-----\n",
      "No nodes were eliminated so don't need to add back any candidates\n",
      "\n",
      "----Working on Limb L5-----\n",
      "No endpoints were eliminated so don't need to add back any candidates\n",
      "\n",
      "----Working on Limb L6-----\n",
      "No nodes were eliminated so don't need to add back any candidates\n",
      "Final Candidates\n",
      "\n",
      "Limb 1\n",
      "Candidate 0 (orange): array([1, 2, 4])\n",
      "Candidate 1 (orange): array([0, 3, 5])\n",
      "\n",
      "Limb 2\n",
      "Candidate 0 (blue): array([0, 1, 2, 4, 5])\n",
      "Candidate 1 (gray): array([6])\n",
      "\n",
      "Limb 3\n",
      "Candidate 0 (tan): array([2, 5, 6])\n",
      "Candidate 1 (sandybrown): array([3])\n",
      "Candidate 2 (forestgreen): array([4])\n",
      "\n",
      "Limb 4\n",
      "Candidate 0 (crimson): array([ 0,  1,  2,  3,  4,  5,  6,  7,  8,  9, 10, 11, 12, 13, 14, 15, 16,\n",
      "       17, 18, 19, 20, 21, 22, 23])\n",
      "\n",
      "Limb 5\n",
      "Candidate 0 (cadetblue): array([0])\n",
      "Candidate 1 (brown): array([1])\n",
      "\n",
      "Limb 6\n",
      "Candidate 0 (orange): array([0])\n",
      "Part 3: axon_subgraph_candidates = {1: [[1, 2, 4], [0, 3, 5]], 2: [[0, 1, 2, 4, 5], [6]], 3: [[2, 5, 6], [3], [4]], 4: [[0, 1, 2, 3, 4, 5, 6, 7, 8, 9, 10, 11, 12, 13, 14, 15, 16, 17, 18, 19, 20, 21, 22, 23]], 5: [[0], [1]], 6: [[0]]}\n",
      "\n",
      "\n",
      " --- Working on limb 1, candidate # 0\n",
      "0 out of 3 branches are axons\n",
      "Axon percentage = 0.0\n",
      "Not adding candidate no axon branches detected \n",
      "\n",
      "\n",
      " --- Working on limb 1, candidate # 1\n",
      "0 out of 3 branches are axons\n",
      "Axon percentage = 0.0\n",
      "Not adding candidate no axon branches detected \n",
      "\n",
      "\n",
      " --- Working on limb 2, candidate # 0\n",
      "0 out of 5 branches are axons\n",
      "Axon percentage = 0.0\n",
      "Not adding candidate no axon branches detected \n",
      "\n",
      "\n",
      " --- Working on limb 2, candidate # 1\n",
      "0 out of 1 branches are axons\n",
      "Axon percentage = 0.0\n",
      "Not adding candidate no axon branches detected \n",
      "\n",
      "\n",
      " --- Working on limb 3, candidate # 0\n",
      "0 out of 3 branches are axons\n",
      "Axon percentage = 0.0\n",
      "Not adding candidate no axon branches detected \n",
      "\n",
      "\n",
      " --- Working on limb 3, candidate # 1\n",
      "0 out of 1 branches are axons\n",
      "Axon percentage = 0.0\n",
      "Not adding candidate no axon branches detected \n",
      "\n",
      "\n",
      " --- Working on limb 3, candidate # 2\n",
      "0 out of 1 branches are axons\n",
      "Axon percentage = 0.0\n",
      "Not adding candidate no axon branches detected \n",
      "\n",
      "\n",
      " --- Working on limb 4, candidate # 0\n",
      "24 out of 24 branches are axons\n",
      "Axon percentage = 1.0\n",
      "curr_axon_angle_threshold = 95\n",
      "candidate_nodes = [ 0  1  2  3  4  5  6  7  8  9 10 11 12 13 14 15 16 17 18 19 20 21 22 23]\n",
      "non_axon_branches_on_subgraph = []\n",
      "endnodes_to_test = [1614]\n",
      "Skeleton paths distances = [24998.91626104]\n",
      "Filtered indexes = [0]\n",
      "len(filtered_skeletons) = 1\n",
      "sk_angles = [171.90464439]\n",
      "candidate_angles,restr_skels = (array([171.90464439]), [array([[[599339.74103729, 623312.08318266, 703956.47573203],\n",
      "        [599368.74419641, 623402.4581695 , 703987.95871973]],\n",
      "\n",
      "       [[599368.74419641, 623402.4581695 , 703987.95871973],\n",
      "        [599399.70482418, 623492.1630624 , 704019.44557226]],\n",
      "\n",
      "       [[599399.70482418, 623492.1630624 , 704019.44557226],\n",
      "        [599432.06006638, 623581.39054142, 704050.93517831]],\n",
      "\n",
      "       [[599432.06006638, 623581.39054142, 704050.93517831],\n",
      "        [599465.47238589, 623670.27718032, 704082.27869824]],\n",
      "\n",
      "       [[599465.47238589, 623670.27718032, 704082.27869824],\n",
      "        [599499.18028187, 623759.07100932, 704113.57433477]],\n",
      "\n",
      "       [[599499.18028187, 623759.07100932, 704113.57433477],\n",
      "        [599531.9737859 , 623848.33794378, 704144.4935926 ]],\n",
      "\n",
      "       [[599531.9737859 , 623848.33794378, 704144.4935926 ],\n",
      "        [599563.87329548, 623937.9744868 , 704175.24102482]],\n",
      "\n",
      "       [[599563.87329548, 623937.9744868 , 704175.24102482],\n",
      "        [599593.63648799, 624028.49425797, 704205.57785721]],\n",
      "\n",
      "       [[599593.63648799, 624028.49425797, 704205.57785721],\n",
      "        [599620.67423084, 624119.98511948, 704235.45773922]],\n",
      "\n",
      "       [[599620.67423084, 624119.98511948, 704235.45773922],\n",
      "        [599645.9409266 , 624212.10701327, 704265.04068651]],\n",
      "\n",
      "       [[599645.9409266 , 624212.10701327, 704265.04068651],\n",
      "        [599666.45165781, 624305.62527363, 704293.88337311]],\n",
      "\n",
      "       [[599666.45165781, 624305.62527363, 704293.88337311],\n",
      "        [599685.30459902, 624399.54324731, 704322.50125061]],\n",
      "\n",
      "       [[599685.30459902, 624399.54324731, 704322.50125061],\n",
      "        [599700.63587362, 624494.26434434, 704350.65912333]],\n",
      "\n",
      "       [[599700.63587362, 624494.26434434, 704350.65912333],\n",
      "        [599713.4589231 , 624589.40708905, 704378.57779332]],\n",
      "\n",
      "       [[599713.4589231 , 624589.40708905, 704378.57779332],\n",
      "        [599724.7541011 , 624684.80667811, 704406.35075429]],\n",
      "\n",
      "       [[599724.7541011 , 624684.80667811, 704406.35075429],\n",
      "        [599733.17215308, 624780.59380612, 704433.80664756]],\n",
      "\n",
      "       [[599733.17215308, 624780.59380612, 704433.80664756],\n",
      "        [599740.90916195, 624876.51571047, 704460.97798383]],\n",
      "\n",
      "       [[599740.90916195, 624876.51571047, 704460.97798383],\n",
      "        [599747.56787823, 624972.65594498, 704487.67474032]],\n",
      "\n",
      "       [[599747.56787823, 624972.65594498, 704487.67474032],\n",
      "        [599753.78788018, 625069.20694587, 704512.94448403]],\n",
      "\n",
      "       [[599753.78788018, 625069.20694587, 704512.94448403],\n",
      "        [599759.97359026, 625166.04243582, 704537.08142655]],\n",
      "\n",
      "       [[599759.97359026, 625166.04243582, 704537.08142655],\n",
      "        [599766.45555746, 625263.47281097, 704558.65238153]],\n",
      "\n",
      "       [[599766.45555746, 625263.47281097, 704558.65238153],\n",
      "        [599773.57819026, 625361.48202489, 704577.04437136]],\n",
      "\n",
      "       [[599773.57819026, 625361.48202489, 704577.04437136],\n",
      "        [599781.13800325, 625459.8542796 , 704593.24246472]],\n",
      "\n",
      "       [[599781.13800325, 625459.8542796 , 704593.24246472],\n",
      "        [599789.62239215, 625558.83528132, 704604.67821763]],\n",
      "\n",
      "       [[599789.62239215, 625558.83528132, 704604.67821763],\n",
      "        [599798.53206762, 625658.03593357, 704613.20989238]],\n",
      "\n",
      "       [[599798.53206762, 625658.03593357, 704613.20989238],\n",
      "        [599807.78828452, 625757.41556633, 704619.37520191]],\n",
      "\n",
      "       [[599807.78828452, 625757.41556633, 704619.37520191],\n",
      "        [599817.31844749, 625856.93594743, 704621.36087841]],\n",
      "\n",
      "       [[599817.31844749, 625856.93594743, 704621.36087841],\n",
      "        [599826.80567751, 625956.47080222, 704622.09495673]],\n",
      "\n",
      "       [[599826.80567751, 625956.47080222, 704622.09495673],\n",
      "        [599836.17094741, 626056.02063234, 704620.6378904 ]],\n",
      "\n",
      "       [[599836.17094741, 626056.02063234, 704620.6378904 ],\n",
      "        [599845.22214153, 626155.56416608, 704617.78577117]],\n",
      "\n",
      "       [[599845.22214153, 626155.56416608, 704617.78577117],\n",
      "        [599854.11571965, 626255.10454003, 704614.23355769]],\n",
      "\n",
      "       [[599854.11571965, 626255.10454003, 704614.23355769],\n",
      "        [599862.48299493, 626354.64037362, 704609.48067626]],\n",
      "\n",
      "       [[599862.48299493, 626354.64037362, 704609.48067626],\n",
      "        [599870.72266364, 626454.17766679, 704604.54818673]],\n",
      "\n",
      "       [[599870.72266364, 626454.17766679, 704604.54818673],\n",
      "        [599878.66283287, 626553.71863591, 704599.20504352]],\n",
      "\n",
      "       [[599878.66283287, 626553.71863591, 704599.20504352],\n",
      "        [599886.43726793, 626653.270596  , 704593.82524243]],\n",
      "\n",
      "       [[599886.43726793, 626653.270596  , 704593.82524243],\n",
      "        [599894.07914056, 626752.83134722, 704588.41612054]],\n",
      "\n",
      "       [[599894.07914056, 626752.83134722, 704588.41612054],\n",
      "        [599901.47279481, 626852.42935118, 704583.36481647]],\n",
      "\n",
      "       [[599901.47279481, 626852.42935118, 704583.36481647],\n",
      "        [599908.79393053, 626952.03823875, 704578.41805109]],\n",
      "\n",
      "       [[599908.79393053, 626952.03823875, 704578.41805109],\n",
      "        [599915.58760495, 627051.72744815, 704574.44002103]],\n",
      "\n",
      "       [[599915.58760495, 627051.72744815, 704574.44002103],\n",
      "        [599922.30211032, 627151.426995  , 704570.59650704]],\n",
      "\n",
      "       [[599922.30211032, 627151.426995  , 704570.59650704],\n",
      "        [599928.08307897, 627251.23179272, 704568.23372159]],\n",
      "\n",
      "       [[599928.08307897, 627251.23179272, 704568.23372159],\n",
      "        [599933.70788552, 627351.04745267, 704566.07494401]],\n",
      "\n",
      "       [[599933.70788552, 627351.04745267, 704566.07494401],\n",
      "        [599938.06859182, 627450.95104025, 704565.56756839]],\n",
      "\n",
      "       [[599938.06859182, 627450.95104025, 704565.56756839],\n",
      "        [599942.16351072, 627550.86275986, 704565.34615612]],\n",
      "\n",
      "       [[599942.16351072, 627550.86275986, 704565.34615612],\n",
      "        [599944.81013125, 627650.81879167, 704566.68298273]],\n",
      "\n",
      "       [[599944.81013125, 627650.81879167, 704566.68298273],\n",
      "        [599947.10741493, 627750.77452437, 704568.33397489]],\n",
      "\n",
      "       [[599947.10741493, 627750.77452437, 704568.33397489],\n",
      "        [599948.06231928, 627850.72910772, 704571.19219536]],\n",
      "\n",
      "       [[599948.06231928, 627850.72910772, 704571.19219536],\n",
      "        [599948.66128187, 627950.67497777, 704574.34500628]],\n",
      "\n",
      "       [[599948.66128187, 627950.67497777, 704574.34500628],\n",
      "        [599948.38671869, 628050.59946425, 704578.22077917]],\n",
      "\n",
      "       [[599948.38671869, 628050.59946425, 704578.22077917],\n",
      "        [599947.99516209, 628150.51400566, 704582.32458753]],\n",
      "\n",
      "       [[599947.99516209, 628150.51400566, 704582.32458753],\n",
      "        [599947.44380619, 628250.41496324, 704586.73986565]],\n",
      "\n",
      "       [[599947.44380619, 628250.41496324, 704586.73986565],\n",
      "        [599947.55896507, 628350.30821929, 704591.3253961 ]],\n",
      "\n",
      "       [[599947.55896507, 628350.30821929, 704591.3253961 ],\n",
      "        [599948.09244173, 628450.19664171, 704596.01778026]],\n",
      "\n",
      "       [[599948.09244173, 628450.19664171, 704596.01778026],\n",
      "        [599950.83248487, 628550.03174391, 704600.98221061]],\n",
      "\n",
      "       [[599950.83248487, 628550.03174391, 704600.98221061],\n",
      "        [599954.46309701, 628649.82709199, 704606.0797692 ]],\n",
      "\n",
      "       [[599954.46309701, 628649.82709199, 704606.0797692 ],\n",
      "        [599961.22007062, 628749.4401622 , 704611.6993378 ]],\n",
      "\n",
      "       [[599961.22007062, 628749.4401622 , 704611.6993378 ],\n",
      "        [599969.70551622, 628848.87352635, 704617.77670389]],\n",
      "\n",
      "       [[599969.70551622, 628848.87352635, 704617.77670389],\n",
      "        [599980.36871571, 628948.08047341, 704624.43086283]],\n",
      "\n",
      "       [[599980.36871571, 628948.08047341, 704624.43086283],\n",
      "        [599993.3418182 , 629046.92312703, 704632.12955526]],\n",
      "\n",
      "       [[599993.3418182 , 629046.92312703, 704632.12955526],\n",
      "        [600007.21592392, 629145.62368397, 704640.23567952]],\n",
      "\n",
      "       [[600007.21592392, 629145.62368397, 704640.23567952],\n",
      "        [600022.93691821, 629243.89291634, 704650.01693706]],\n",
      "\n",
      "       [[600022.93691821, 629243.89291634, 704650.01693706],\n",
      "        [600038.83029542, 629342.10177367, 704660.1158349 ]],\n",
      "\n",
      "       [[600038.83029542, 629342.10177367, 704660.1158349 ],\n",
      "        [600055.26980111, 629440.03789764, 704671.87416275]],\n",
      "\n",
      "       [[600055.26980111, 629440.03789764, 704671.87416275],\n",
      "        [600071.61527235, 629537.93561827, 704684.050529  ]],\n",
      "\n",
      "       [[600071.61527235, 629537.93561827, 704684.050529  ],\n",
      "        [600087.65691861, 629635.70925781, 704697.57757581]],\n",
      "\n",
      "       [[600087.65691861, 629635.70925781, 704697.57757581],\n",
      "        [600103.39489169, 629733.46871801, 704711.53419393]],\n",
      "\n",
      "       [[600103.39489169, 629733.46871801, 704711.53419393],\n",
      "        [600118.45637669, 629831.19659107, 704726.44776142]],\n",
      "\n",
      "       [[600118.45637669, 629831.19659107, 704726.44776142],\n",
      "        [600133.10539018, 629928.93875741, 704741.66033526]],\n",
      "\n",
      "       [[600133.10539018, 629928.93875741, 704741.66033526],\n",
      "        [600147.03516457, 630026.70584737, 704757.39429555]],\n",
      "\n",
      "       [[600147.03516457, 630026.70584737, 704757.39429555],\n",
      "        [600160.56863817, 630124.51123423, 704773.22848776]],\n",
      "\n",
      "       [[600160.56863817, 630124.51123423, 704773.22848776],\n",
      "        [600173.56196824, 630222.36881836, 704789.19929242]],\n",
      "\n",
      "       [[600173.56196824, 630222.36881836, 704789.19929242],\n",
      "        [600186.27775579, 630320.27782696, 704805.0753139 ]],\n",
      "\n",
      "       [[600186.27775579, 630320.27782696, 704805.0753139 ],\n",
      "        [600198.72205487, 630418.2371383 , 704820.85861972]],\n",
      "\n",
      "       [[600198.72205487, 630418.2371383 , 704820.85861972],\n",
      "        [600211.03733055, 630516.25060084, 704836.40370224]],\n",
      "\n",
      "       [[600211.03733055, 630516.25060084, 704836.40370224],\n",
      "        [600223.27560352, 630614.29638147, 704851.80661027]],\n",
      "\n",
      "       [[600223.27560352, 630614.29638147, 704851.80661027],\n",
      "        [600235.35966087, 630712.41470082, 704866.86426283]],\n",
      "\n",
      "       [[600235.35966087, 630712.41470082, 704866.86426283],\n",
      "        [600247.38965245, 630810.55497673, 704881.82249338]],\n",
      "\n",
      "       [[600247.38965245, 630810.55497673, 704881.82249338],\n",
      "        [600258.69335879, 630908.86244488, 704896.24011901]],\n",
      "\n",
      "       [[600258.69335879, 630908.86244488, 704896.24011901],\n",
      "        [600269.44248311, 631007.26682211, 704910.38633465]],\n",
      "\n",
      "       [[600269.44248311, 631007.26682211, 704910.38633465],\n",
      "        [600278.88620554, 631105.89930862, 704923.89369238]],\n",
      "\n",
      "       [[600278.88620554, 631105.89930862, 704923.89369238],\n",
      "        [600286.30323216, 631204.81492603, 704936.44919994]],\n",
      "\n",
      "       [[600286.30323216, 631204.81492603, 704936.44919994],\n",
      "        [600292.5076744 , 631303.89994237, 704948.43520978]],\n",
      "\n",
      "       [[600292.5076744 , 631303.89994237, 704948.43520978],\n",
      "        [600294.44616617, 631403.39393418, 704958.28099985]],\n",
      "\n",
      "       [[600294.44616617, 631403.39393418, 704958.28099985],\n",
      "        [600294.64554334, 631502.96443304, 704967.19092533]],\n",
      "\n",
      "       [[600294.64554334, 631502.96443304, 704967.19092533],\n",
      "        [600291.97061569, 631602.65731296, 704974.55125508]],\n",
      "\n",
      "       [[600291.97061569, 631602.65731296, 704974.55125508],\n",
      "        [600286.37032839, 631702.31464197, 704980.32605664]],\n",
      "\n",
      "       [[600286.37032839, 631702.31464197, 704980.32605664],\n",
      "        [600279.50404876, 631801.94283004, 704985.45164733]],\n",
      "\n",
      "       [[600279.50404876, 631801.94283004, 704985.45164733],\n",
      "        [600270.24539808, 631901.42732137, 704989.58847863]],\n",
      "\n",
      "       [[600270.24539808, 631901.42732137, 704989.58847863],\n",
      "        [600260.37801401, 632000.84584626, 704993.84058761]],\n",
      "\n",
      "       [[600260.37801401, 632000.84584626, 704993.84058761],\n",
      "        [600249.70900099, 632100.17750127, 704998.24450346]],\n",
      "\n",
      "       [[600249.70900099, 632100.17750127, 704998.24450346],\n",
      "        [600238.69796506, 632199.41428066, 705003.74777098]],\n",
      "\n",
      "       [[600238.69796506, 632199.41428066, 705003.74777098],\n",
      "        [600227.55039446, 632298.61318594, 705009.68989684]],\n",
      "\n",
      "       [[600227.55039446, 632298.61318594, 705009.68989684],\n",
      "        [600216.3708474 , 632397.6536373 , 705017.79948668]],\n",
      "\n",
      "       [[600216.3708474 , 632397.6536373 , 705017.79948668],\n",
      "        [600205.18546984, 632496.65518617, 705026.34020949]],\n",
      "\n",
      "       [[600205.18546984, 632496.65518617, 705026.34020949],\n",
      "        [600193.9743072 , 632595.46746498, 705036.8494144 ]],\n",
      "\n",
      "       [[600193.9743072 , 632595.46746498, 705036.8494144 ],\n",
      "        [600182.67684321, 632694.21618578, 705047.82573186]],\n",
      "\n",
      "       [[600182.67684321, 632694.21618578, 705047.82573186],\n",
      "        [600171.16223536, 632792.80498745, 705059.97735683]],\n",
      "\n",
      "       [[600171.16223536, 632792.80498745, 705059.97735683],\n",
      "        [600159.39030569, 632891.33486437, 705072.35086757]],\n",
      "\n",
      "       [[600159.39030569, 632891.33486437, 705072.35086757],\n",
      "        [600147.22616541, 632989.77492802, 705085.06257719]],\n",
      "\n",
      "       [[600147.22616541, 632989.77492802, 705085.06257719],\n",
      "        [600134.62748535, 633088.20370735, 705097.42079055]]])])\n"
     ]
    },
    {
     "name": "stdout",
     "output_type": "stream",
     "text": [
      "base_final_widths = [153.21894469 151.93259789]\n",
      "overall_ais_width = 141.34716955741501\n",
      "ais_width = 152.57577128757714\n",
      "Adding the following branches as true axons: [ 0.  1.  2.  3.  4.  5.  6.  7.  8.  9. 10. 11. 12. 13. 14. 15. 16. 17.\n",
      " 18. 19. 20. 21. 22. 23.]\n",
      "curr_soma_angle = 173.62\n",
      "max_axon_angle = 171.90464438573505\n",
      "Changing to a better axon candidate\n",
      "\n",
      "\n",
      " --- Working on limb 5, candidate # 0\n",
      "0 out of 1 branches are axons\n",
      "Axon percentage = 0.0\n",
      "Not adding candidate no axon branches detected \n",
      "\n",
      "\n",
      " --- Working on limb 5, candidate # 1\n",
      "0 out of 1 branches are axons\n",
      "Axon percentage = 0.0\n",
      "Not adding candidate no axon branches detected \n",
      "\n",
      "\n",
      " --- Working on limb 6, candidate # 0\n",
      "0 out of 1 branches are axons\n",
      "Axon percentage = 0.0\n",
      "Not adding candidate no axon branches detected \n",
      "Using the best axon approach\n",
      "Using True\n",
      "Limb L4: Axon branches before dendritic path filter = [ 0.  1.  2.  3.  4.  5.  6.  7.  8.  9. 10. 11. 12. 13. 14. 15. 16. 17.\n",
      " 18. 19. 20. 21. 22. 23.]\n",
      "Limb L4: Axon branches AFTER dendritic path filter = [ 0.  1.  2.  3.  4.  5.  6.  7.  8.  9. 10. 11. 12. 13. 14. 15. 16. 17.\n",
      " 18. 19. 20. 21. 22. 23.]\n",
      "\n",
      "\n",
      "Part 4: final_true_axons = {'L4': array([ 0.,  1.,  2.,  3.,  4.,  5.,  6.,  7.,  8.,  9., 10., 11., 12.,\n",
      "       13., 14., 15., 16., 17., 18., 19., 20., 21., 22., 23.])}\n",
      "\n",
      " Working on visualization type: mesh\n"
     ]
    },
    {
     "data": {
      "application/vnd.jupyter.widget-view+json": {
       "model_id": "bb6d86d7ef9d4de4b48d7d22c9e689e6",
       "version_major": 2,
       "version_minor": 0
      },
      "text/plain": [
       "VBox(children=(Figure(camera=PerspectiveCamera(fov=46.0, position=(0.0, 0.0, 2.0), projectionMatrix=(1.0, 0.0,…"
      ]
     },
     "metadata": {},
     "output_type": "display_data"
    },
    {
     "data": {
      "text/plain": [
       "({'L4': array([ 0.,  1.,  2.,  3.,  4.,  5.,  6.,  7.,  8.,  9., 10., 11., 12.,\n",
       "         13., 14., 15., 16., 17., 18., 19., 20., 21., 22., 23.])},\n",
       " {'L0': array([10])})"
      ]
     },
     "execution_count": 17,
     "metadata": {},
     "output_type": "execute_result"
    }
   ],
   "source": [
    "clu.axon_classification(neuron_obj,\n",
    "                       plot_axons=True)"
   ]
  },
  {
   "cell_type": "code",
   "execution_count": 18,
   "metadata": {
    "scrolled": false
   },
   "outputs": [
    {
     "name": "stdout",
     "output_type": "stream",
     "text": [
      "\n",
      " Working on visualization type: mesh\n",
      "\n",
      " Working on visualization type: skeleton\n"
     ]
    },
    {
     "data": {
      "application/vnd.jupyter.widget-view+json": {
       "model_id": "fb866a7400914b4bb71163a6b541c378",
       "version_major": 2,
       "version_minor": 0
      },
      "text/plain": [
       "VBox(children=(Figure(camera=PerspectiveCamera(fov=46.0, position=(0.0, 0.0, 2.0), projectionMatrix=(1.0, 0.0,…"
      ]
     },
     "metadata": {},
     "output_type": "display_data"
    }
   ],
   "source": [
    "nviz.plot_axon(neuron_obj,skeleton = True)"
   ]
  },
  {
   "cell_type": "markdown",
   "metadata": {},
   "source": [
    "# Filtering Dendrite on Axon then recomputing High Fidelity Axon"
   ]
  },
  {
   "cell_type": "code",
   "execution_count": 19,
   "metadata": {},
   "outputs": [
    {
     "name": "stdout",
     "output_type": "stream",
     "text": [
      "\n",
      "--- Working on filter 0:\n",
      "function = dendrite_on_axon_merges\n",
      "function __name__ = filter_away_dendrite_on_axon_merges\n",
      "function arguments = {'use_pre_existing_axon_labels': True}\n",
      "\n",
      "\n",
      "\n",
      "\n",
      "\n",
      " ---- Total time for applying filter: 0.3215677738189697 -----\n"
     ]
    }
   ],
   "source": [
    "plot_limb_branch_filter_with_disconnect_effect = False\n",
    "verbose = False\n",
    "verbose_outline = True\n",
    "\n",
    "pre_filters = pru.get_exc_filters_high_fidelity_axon_preprocessing()\n",
    "o_neuron_pre, filtering_info_pre = pru.apply_proofreading_filters_to_neuron(input_neuron = neuron_obj,\n",
    "                                        filter_list = pre_filters,\n",
    "                    plot_limb_branch_filter_with_disconnect_effect=plot_limb_branch_filter_with_disconnect_effect,\n",
    "                                        plot_limb_branch_filter_away=False,\n",
    "                                        plot_final_neuron=False,\n",
    "\n",
    "                                        return_error_info=True,\n",
    "                                         verbose=verbose,\n",
    "                                        verbose_outline=verbose_outline)"
   ]
  },
  {
   "cell_type": "code",
   "execution_count": 20,
   "metadata": {
    "scrolled": true
   },
   "outputs": [
    {
     "name": "stdout",
     "output_type": "stream",
     "text": [
      "Starting axon branch was the starting node so using border vertices and NOT computing upstream branch\n",
      "upstream_node_to_axon_starting_branch = None\n"
     ]
    },
    {
     "name": "stderr",
     "output_type": "stream",
     "text": [
      "\r",
      "  0%|          | 0/1 [00:00<?, ?it/s]"
     ]
    },
    {
     "name": "stdout",
     "output_type": "stream",
     "text": [
      "root_curr = [597698.1 613470.1 702083. ]\n",
      "Time for preparing soma vertices and root: 0.0008862018585205078\n",
      "invalidation_d = 2000\n",
      "cc_vertex_thresh = 10\n"
     ]
    },
    {
     "data": {
      "application/vnd.jupyter.widget-view+json": {
       "model_id": "7d3f729852d243ff8669de916ee2488a",
       "version_major": 2,
       "version_minor": 0
      },
      "text/plain": [
       "  0%|          | 0/23495 [00:00<?, ?it/s]"
      ]
     },
     "metadata": {},
     "output_type": "display_data"
    },
    {
     "name": "stderr",
     "output_type": "stream",
     "text": [
      "100%|██████████| 1/1 [00:00<00:00,  2.49it/s]\n"
     ]
    },
    {
     "name": "stdout",
     "output_type": "stream",
     "text": [
      "meshparty_segment_size = 100\n",
      "Time for 1st pass MP skeletonization: 0.753972053527832\n",
      "branches_touching_root = [12]\n",
      "combining close nodes\n",
      "combine_threshold = 1300\n",
      "length of Graph = 7451\n",
      "After combining close endpoints max(kept_branches_idx) = 70, len(kept_branches_idx) = 63\n",
      "empty_indices % = 0.0\n",
      " conflict_indices % = 0.02232695014287542\n"
     ]
    },
    {
     "data": {
      "application/vnd.jupyter.widget-view+json": {
       "model_id": "7b99f28c47554849a621ae7f04148f64",
       "version_major": 2,
       "version_minor": 0
      },
      "text/plain": [
       "  0%|          | 0/27 [00:00<?, ?it/s]"
      ]
     },
     "metadata": {},
     "output_type": "display_data"
    },
    {
     "name": "stdout",
     "output_type": "stream",
     "text": [
      "AFTER face_lookup_resolved_test\n"
     ]
    },
    {
     "data": {
      "application/vnd.jupyter.widget-view+json": {
       "model_id": "01127e6d368d43ca8982fa05a03faa31",
       "version_major": 2,
       "version_minor": 0
      },
      "text/plain": [
       "  0%|          | 0/63 [00:00<?, ?it/s]"
      ]
     },
     "metadata": {},
     "output_type": "display_data"
    },
    {
     "name": "stdout",
     "output_type": "stream",
     "text": [
      "Decomposing first pass: 4.571765661239624\n",
      "Only Using MeshParty Skeletonization and Mesh Correspondence\n",
      "Another print\n",
      "Divinding into MP and MAP pieces: 0.0005419254302978516\n",
      "Total time for MAP sublimb processing 3.337860107421875e-06\n",
      "---- Working on MP Decomposition #0 ----\n",
      "Using Quicker soma_to_piece_touching_vertices because no MAP and only one sublimb_mesh piece \n",
      "MP filtering soma verts: 4.363059997558594e-05\n",
      "Fixing Possible Soma Extension Branch for Sublimb 0\n",
      "Total time for mesh KDTree = 0.03559398651123047\n",
      "sbv[0].reshape(-1,3) = [[597698.1 613470.1 702083. ]]\n",
      "closest_sk_pt_coord BEFORE = [597801.70542898 613820.78342672 701560.85435919]\n",
      "current_skeleton.shape = (606, 2, 3)\n",
      "node_for_stitch = 0: [597801.70542898 613820.78342672 701560.85435919]\n",
      "node_for_stitch AFTER = 0: [597801.70542898 613820.78342672 701560.85435919]\n",
      "possible_node_loc = [  0 600]\n",
      "possible_node_loc AFTER = [  0 600]\n",
      "curr_shortest_path = [0]\n",
      "Current stitch point was a branch or endpoint\n",
      "change_status for create soma extending pieces = False\n",
      "closest_sk_pt_coord AFTER = [597801.70542898 613820.78342672 701560.85435919]\n",
      "skipping soma 0 because closest skeleton node was already end node\n",
      "endpoints_must_keep = {0: array([[597801.70542898, 613820.78342672, 701560.85435919]])}\n",
      "match_sk_branches = [10]\n",
      "The new branch info was none so skipping \n",
      "\n",
      "No soma extending branch was added for this sublimb even though it had a soma border (means they already existed)\n",
      "MP (because soma touching verts) soma extension add: 1.6163523197174072\n",
      "There were not both MAP and MP pieces so skipping the stitch resolving phase\n",
      "Time for decomp of Limb = 7.141448497772217\n",
      "Number of matching vertices = 14\n",
      "Only one endpoint after filtering away the endpoints that are not on the skeleton\n",
      "Using Distance measure skeletal_distance\n",
      "endpoints_must_keep = [[597801.70542898 613820.78342672 701560.85435919]]\n",
      "Number of end_nodes BEFORE filtering = 37\n",
      "all_single_nodes_to_eliminate = [7]\n"
     ]
    },
    {
     "data": {
      "application/vnd.jupyter.widget-view+json": {
       "model_id": "31efc19dd08c4491b58dd4ec2eb8e5f6",
       "version_major": 2,
       "version_minor": 0
      },
      "text/plain": [
       "  0%|          | 0/4 [00:00<?, ?it/s]"
      ]
     },
     "metadata": {},
     "output_type": "display_data"
    },
    {
     "name": "stdout",
     "output_type": "stream",
     "text": [
      "Removed 3 skeletal branches\n"
     ]
    },
    {
     "data": {
      "application/vnd.jupyter.widget-view+json": {
       "model_id": "955e5527d3e44eaba5315eca21ec326d",
       "version_major": 2,
       "version_minor": 0
      },
      "text/plain": [
       "  0%|          | 0/63 [00:00<?, ?it/s]"
      ]
     },
     "metadata": {},
     "output_type": "display_data"
    },
    {
     "name": "stdout",
     "output_type": "stream",
     "text": [
      "46945 46946\n",
      "For marked faces: None\n",
      "empty_indices % = 0.0\n",
      " conflict_indices % = 0.0\n"
     ]
    },
    {
     "data": {
      "application/vnd.jupyter.widget-view+json": {
       "model_id": "d33b827069cf4fd4830f7f70a4157c4a",
       "version_major": 2,
       "version_minor": 0
      },
      "text/plain": [
       "0it [00:00, ?it/s]"
      ]
     },
     "metadata": {},
     "output_type": "display_data"
    },
    {
     "name": "stdout",
     "output_type": "stream",
     "text": [
      "AFTER face_lookup_resolved_test\n"
     ]
    },
    {
     "data": {
      "application/vnd.jupyter.widget-view+json": {
       "model_id": "73b2db422ba54189b51a2140058c281f",
       "version_major": 2,
       "version_minor": 0
      },
      "text/plain": [
       "  0%|          | 0/57 [00:00<?, ?it/s]"
      ]
     },
     "metadata": {},
     "output_type": "display_data"
    },
    {
     "name": "stdout",
     "output_type": "stream",
     "text": [
      "Limb Correspondence before stitching = 57\n",
      "Limb Correspondence AFTER stitching = 57\n",
      "Upstream node was None so don't have to adjust\n",
      "concept_network_dict = {0: [<networkx_utils.GraphOrderedEdges object at 0x7f9afd7339e8>]}\n",
      "\n",
      "\n",
      "----Working on seperate_graph 0----\n",
      "\n",
      "\n",
      "---------Working on soma_idx = 0, soma_group_idx 0, endpt = [597801.70542898 613820.78342672 701560.85435919]---------\n",
      "Starting_edge inside branches_to_conept = [[597801.70542898 613820.78342672 701560.85435919]\n",
      " [618476.6236395  666789.10272201 708209.89744269]]\n",
      "At the start, starting_node (in terms of the skeleton, that shouldn't match the starting edge) = [10]\n",
      "printing out current edge:\n",
      "[[597801.70542898 613820.78342672 701560.85435919]\n",
      " [618476.6236395  666789.10272201 708209.89744269]]\n",
      "edge_endpoints_to_process was empty so exiting loop after 57 iterations\n",
      "starting_node in concept map (that should match the starting edge) = 12\n",
      "Total time for branches to concept conversion = 0.3717625141143799\n",
      "\n",
      "Done generating concept network \n",
      "\n",
      "\n"
     ]
    }
   ],
   "source": [
    "# Getting the high fidelity axon\n",
    "neuron_obj_high_fid_axon = pru.refine_axon_for_high_fidelity_skeleton(o_neuron_pre)"
   ]
  },
  {
   "cell_type": "code",
   "execution_count": 23,
   "metadata": {},
   "outputs": [
    {
     "name": "stdout",
     "output_type": "stream",
     "text": [
      "\n",
      " Working on visualization type: mesh\n",
      "\n",
      " Working on visualization type: skeleton\n"
     ]
    },
    {
     "data": {
      "application/vnd.jupyter.widget-view+json": {
       "model_id": "c7a478d7fbab4edc86b948dea8c1463d",
       "version_major": 2,
       "version_minor": 0
      },
      "text/plain": [
       "VBox(children=(Figure(camera=PerspectiveCamera(fov=46.0, position=(0.0, 0.0, 2.0), projectionMatrix=(1.0, 0.0,…"
      ]
     },
     "metadata": {},
     "output_type": "display_data"
    }
   ],
   "source": [
    "nviz.plot_axon(neuron_obj_high_fid_axon)"
   ]
  },
  {
   "cell_type": "markdown",
   "metadata": {},
   "source": [
    "# Computing the Boutons of the Axon"
   ]
  },
  {
   "cell_type": "code",
   "execution_count": 21,
   "metadata": {},
   "outputs": [
    {
     "data": {
      "application/vnd.jupyter.widget-view+json": {
       "model_id": "47445bf98c6549b0bd10c091c4fe45af",
       "version_major": 2,
       "version_minor": 0
      },
      "text/plain": [
       "  0%|          | 0/53 [00:00<?, ?it/s]"
      ]
     },
     "metadata": {},
     "output_type": "display_data"
    },
    {
     "data": {
      "application/vnd.jupyter.widget-view+json": {
       "model_id": "781ee201e05b44be88e021586a60699d",
       "version_major": 2,
       "version_minor": 0
      },
      "text/plain": [
       "  0%|          | 0/9 [00:00<?, ?it/s]"
      ]
     },
     "metadata": {},
     "output_type": "display_data"
    },
    {
     "data": {
      "application/vnd.jupyter.widget-view+json": {
       "model_id": "54dfb0312db44d8cb46751f6dc301fbe",
       "version_major": 2,
       "version_minor": 0
      },
      "text/plain": [
       "  0%|          | 0/16 [00:00<?, ?it/s]"
      ]
     },
     "metadata": {},
     "output_type": "display_data"
    },
    {
     "data": {
      "application/vnd.jupyter.widget-view+json": {
       "model_id": "ba19bcba03db48d3bd850383b9fd50f2",
       "version_major": 2,
       "version_minor": 0
      },
      "text/plain": [
       "  0%|          | 0/12 [00:00<?, ?it/s]"
      ]
     },
     "metadata": {},
     "output_type": "display_data"
    },
    {
     "data": {
      "application/vnd.jupyter.widget-view+json": {
       "model_id": "ab2d472618394115b9fc9ed3cd920563",
       "version_major": 2,
       "version_minor": 0
      },
      "text/plain": [
       "  0%|          | 0/6 [00:00<?, ?it/s]"
      ]
     },
     "metadata": {},
     "output_type": "display_data"
    },
    {
     "data": {
      "application/vnd.jupyter.widget-view+json": {
       "model_id": "fed27ae9fb85489d82bce807b05c5826",
       "version_major": 2,
       "version_minor": 0
      },
      "text/plain": [
       "  0%|          | 0/4 [00:00<?, ?it/s]"
      ]
     },
     "metadata": {},
     "output_type": "display_data"
    },
    {
     "data": {
      "application/vnd.jupyter.widget-view+json": {
       "model_id": "7d8af8be80204edf896315ec3cf90761",
       "version_major": 2,
       "version_minor": 0
      },
      "text/plain": [
       "  0%|          | 0/5 [00:00<?, ?it/s]"
      ]
     },
     "metadata": {},
     "output_type": "display_data"
    },
    {
     "data": {
      "application/vnd.jupyter.widget-view+json": {
       "model_id": "eb12a58b4b824b2aa0e0207ce435187b",
       "version_major": 2,
       "version_minor": 0
      },
      "text/plain": [
       "  0%|          | 0/5 [00:00<?, ?it/s]"
      ]
     },
     "metadata": {},
     "output_type": "display_data"
    },
    {
     "data": {
      "application/vnd.jupyter.widget-view+json": {
       "model_id": "5d7b822be8d947e1ac4d69ccb782c622",
       "version_major": 2,
       "version_minor": 0
      },
      "text/plain": [
       "  0%|          | 0/6 [00:00<?, ?it/s]"
      ]
     },
     "metadata": {},
     "output_type": "display_data"
    },
    {
     "data": {
      "application/vnd.jupyter.widget-view+json": {
       "model_id": "c28dc4b8d8824eed9c9a8600c5453b13",
       "version_major": 2,
       "version_minor": 0
      },
      "text/plain": [
       "  0%|          | 0/12 [00:00<?, ?it/s]"
      ]
     },
     "metadata": {},
     "output_type": "display_data"
    },
    {
     "data": {
      "application/vnd.jupyter.widget-view+json": {
       "model_id": "632713d09948485294200b3ffe4042bf",
       "version_major": 2,
       "version_minor": 0
      },
      "text/plain": [
       "  0%|          | 0/5 [00:00<?, ?it/s]"
      ]
     },
     "metadata": {},
     "output_type": "display_data"
    },
    {
     "data": {
      "application/vnd.jupyter.widget-view+json": {
       "model_id": "4c47c7e4e2fd496a907d964f45e14afd",
       "version_major": 2,
       "version_minor": 0
      },
      "text/plain": [
       "  0%|          | 0/13 [00:00<?, ?it/s]"
      ]
     },
     "metadata": {},
     "output_type": "display_data"
    },
    {
     "data": {
      "application/vnd.jupyter.widget-view+json": {
       "model_id": "0986b19bf513495f99c4384d704b8265",
       "version_major": 2,
       "version_minor": 0
      },
      "text/plain": [
       "  0%|          | 0/11 [00:00<?, ?it/s]"
      ]
     },
     "metadata": {},
     "output_type": "display_data"
    },
    {
     "data": {
      "application/vnd.jupyter.widget-view+json": {
       "model_id": "a02db52d16834be5aec9d52aca323ac4",
       "version_major": 2,
       "version_minor": 0
      },
      "text/plain": [
       "  0%|          | 0/14 [00:00<?, ?it/s]"
      ]
     },
     "metadata": {},
     "output_type": "display_data"
    },
    {
     "data": {
      "application/vnd.jupyter.widget-view+json": {
       "model_id": "0b4e9db268234b37aeabd5cc64012203",
       "version_major": 2,
       "version_minor": 0
      },
      "text/plain": [
       "  0%|          | 0/18 [00:00<?, ?it/s]"
      ]
     },
     "metadata": {},
     "output_type": "display_data"
    },
    {
     "data": {
      "application/vnd.jupyter.widget-view+json": {
       "model_id": "b8e398042b49430e9eeb7ca1e3615ba5",
       "version_major": 2,
       "version_minor": 0
      },
      "text/plain": [
       "  0%|          | 0/11 [00:00<?, ?it/s]"
      ]
     },
     "metadata": {},
     "output_type": "display_data"
    },
    {
     "data": {
      "application/vnd.jupyter.widget-view+json": {
       "model_id": "f9170e52cecb4bfca84c3e2753f4af3f",
       "version_major": 2,
       "version_minor": 0
      },
      "text/plain": [
       "  0%|          | 0/28 [00:00<?, ?it/s]"
      ]
     },
     "metadata": {},
     "output_type": "display_data"
    },
    {
     "data": {
      "application/vnd.jupyter.widget-view+json": {
       "model_id": "e9c65f4d43f44392ad731b13ed246d00",
       "version_major": 2,
       "version_minor": 0
      },
      "text/plain": [
       "  0%|          | 0/8 [00:00<?, ?it/s]"
      ]
     },
     "metadata": {},
     "output_type": "display_data"
    },
    {
     "data": {
      "application/vnd.jupyter.widget-view+json": {
       "model_id": "ed09079efff14dd7a769996a1cbd60bd",
       "version_major": 2,
       "version_minor": 0
      },
      "text/plain": [
       "  0%|          | 0/9 [00:00<?, ?it/s]"
      ]
     },
     "metadata": {},
     "output_type": "display_data"
    },
    {
     "data": {
      "application/vnd.jupyter.widget-view+json": {
       "model_id": "f8494cbbe3944b94b70d2656fcde4661",
       "version_major": 2,
       "version_minor": 0
      },
      "text/plain": [
       "  0%|          | 0/16 [00:00<?, ?it/s]"
      ]
     },
     "metadata": {},
     "output_type": "display_data"
    },
    {
     "data": {
      "application/vnd.jupyter.widget-view+json": {
       "model_id": "5c56705571144502a0a666e86fd29194",
       "version_major": 2,
       "version_minor": 0
      },
      "text/plain": [
       "  0%|          | 0/9 [00:00<?, ?it/s]"
      ]
     },
     "metadata": {},
     "output_type": "display_data"
    },
    {
     "data": {
      "application/vnd.jupyter.widget-view+json": {
       "model_id": "da428a17b27c4d15ad8ef2b776458f2f",
       "version_major": 2,
       "version_minor": 0
      },
      "text/plain": [
       "  0%|          | 0/13 [00:00<?, ?it/s]"
      ]
     },
     "metadata": {},
     "output_type": "display_data"
    },
    {
     "data": {
      "application/vnd.jupyter.widget-view+json": {
       "model_id": "b3ac4eb50994403886ab113926c0be4e",
       "version_major": 2,
       "version_minor": 0
      },
      "text/plain": [
       "  0%|          | 0/3 [00:00<?, ?it/s]"
      ]
     },
     "metadata": {},
     "output_type": "display_data"
    },
    {
     "data": {
      "application/vnd.jupyter.widget-view+json": {
       "model_id": "c31c8d3b711f4c91a21c847e4b40dd05",
       "version_major": 2,
       "version_minor": 0
      },
      "text/plain": [
       "  0%|          | 0/3 [00:00<?, ?it/s]"
      ]
     },
     "metadata": {},
     "output_type": "display_data"
    },
    {
     "data": {
      "application/vnd.jupyter.widget-view+json": {
       "model_id": "a84af423a6bf48fb826a9112c24997c6",
       "version_major": 2,
       "version_minor": 0
      },
      "text/plain": [
       "  0%|          | 0/3 [00:00<?, ?it/s]"
      ]
     },
     "metadata": {},
     "output_type": "display_data"
    },
    {
     "data": {
      "application/vnd.jupyter.widget-view+json": {
       "model_id": "a56318e5c71e48e09f29b1d2d78af6e2",
       "version_major": 2,
       "version_minor": 0
      },
      "text/plain": [
       "  0%|          | 0/15 [00:00<?, ?it/s]"
      ]
     },
     "metadata": {},
     "output_type": "display_data"
    },
    {
     "data": {
      "application/vnd.jupyter.widget-view+json": {
       "model_id": "fba2bcefcee94c0881695f1f4a8855e4",
       "version_major": 2,
       "version_minor": 0
      },
      "text/plain": [
       "  0%|          | 0/22 [00:00<?, ?it/s]"
      ]
     },
     "metadata": {},
     "output_type": "display_data"
    },
    {
     "data": {
      "application/vnd.jupyter.widget-view+json": {
       "model_id": "91c94c2f391e42d9a912a522c67f08bb",
       "version_major": 2,
       "version_minor": 0
      },
      "text/plain": [
       "  0%|          | 0/3 [00:00<?, ?it/s]"
      ]
     },
     "metadata": {},
     "output_type": "display_data"
    },
    {
     "data": {
      "application/vnd.jupyter.widget-view+json": {
       "model_id": "da55aab658944b42a80a6703dd7285ba",
       "version_major": 2,
       "version_minor": 0
      },
      "text/plain": [
       "  0%|          | 0/5 [00:00<?, ?it/s]"
      ]
     },
     "metadata": {},
     "output_type": "display_data"
    },
    {
     "data": {
      "application/vnd.jupyter.widget-view+json": {
       "model_id": "e4772ae60fd04b24868a31d3095c4207",
       "version_major": 2,
       "version_minor": 0
      },
      "text/plain": [
       "  0%|          | 0/9 [00:00<?, ?it/s]"
      ]
     },
     "metadata": {},
     "output_type": "display_data"
    },
    {
     "data": {
      "application/vnd.jupyter.widget-view+json": {
       "model_id": "ebbc7d54f3954115875de1ed88e367db",
       "version_major": 2,
       "version_minor": 0
      },
      "text/plain": [
       "  0%|          | 0/34 [00:00<?, ?it/s]"
      ]
     },
     "metadata": {},
     "output_type": "display_data"
    },
    {
     "data": {
      "application/vnd.jupyter.widget-view+json": {
       "model_id": "5cce35958d9447ec905b195da253a5e6",
       "version_major": 2,
       "version_minor": 0
      },
      "text/plain": [
       "  0%|          | 0/8 [00:00<?, ?it/s]"
      ]
     },
     "metadata": {},
     "output_type": "display_data"
    },
    {
     "data": {
      "application/vnd.jupyter.widget-view+json": {
       "model_id": "7d6e1c3dfb8b4a44a983bb72daf9f592",
       "version_major": 2,
       "version_minor": 0
      },
      "text/plain": [
       "  0%|          | 0/8 [00:00<?, ?it/s]"
      ]
     },
     "metadata": {},
     "output_type": "display_data"
    },
    {
     "data": {
      "application/vnd.jupyter.widget-view+json": {
       "model_id": "3fb745e0768749a6b860128fcc3d1f69",
       "version_major": 2,
       "version_minor": 0
      },
      "text/plain": [
       "  0%|          | 0/6 [00:00<?, ?it/s]"
      ]
     },
     "metadata": {},
     "output_type": "display_data"
    },
    {
     "data": {
      "application/vnd.jupyter.widget-view+json": {
       "model_id": "abe9aae30ddf451b808da5aa0ba946e6",
       "version_major": 2,
       "version_minor": 0
      },
      "text/plain": [
       "  0%|          | 0/4 [00:00<?, ?it/s]"
      ]
     },
     "metadata": {},
     "output_type": "display_data"
    },
    {
     "data": {
      "application/vnd.jupyter.widget-view+json": {
       "model_id": "9449628d23fa4f9eaf9196e8af40666e",
       "version_major": 2,
       "version_minor": 0
      },
      "text/plain": [
       "  0%|          | 0/6 [00:00<?, ?it/s]"
      ]
     },
     "metadata": {},
     "output_type": "display_data"
    },
    {
     "data": {
      "application/vnd.jupyter.widget-view+json": {
       "model_id": "ab11dd2d1e4942f5b46797d1fa8f1f51",
       "version_major": 2,
       "version_minor": 0
      },
      "text/plain": [
       "  0%|          | 0/3 [00:00<?, ?it/s]"
      ]
     },
     "metadata": {},
     "output_type": "display_data"
    },
    {
     "data": {
      "application/vnd.jupyter.widget-view+json": {
       "model_id": "e449d4e0f23d49a4841b9d0e1d1def30",
       "version_major": 2,
       "version_minor": 0
      },
      "text/plain": [
       "  0%|          | 0/3 [00:00<?, ?it/s]"
      ]
     },
     "metadata": {},
     "output_type": "display_data"
    },
    {
     "data": {
      "application/vnd.jupyter.widget-view+json": {
       "model_id": "18cae3cef2ef42419d7ffdca212eaab5",
       "version_major": 2,
       "version_minor": 0
      },
      "text/plain": [
       "  0%|          | 0/6 [00:00<?, ?it/s]"
      ]
     },
     "metadata": {},
     "output_type": "display_data"
    },
    {
     "data": {
      "application/vnd.jupyter.widget-view+json": {
       "model_id": "7b0444dcb7294c96af306bb2f2d41dc0",
       "version_major": 2,
       "version_minor": 0
      },
      "text/plain": [
       "  0%|          | 0/10 [00:00<?, ?it/s]"
      ]
     },
     "metadata": {},
     "output_type": "display_data"
    },
    {
     "data": {
      "application/vnd.jupyter.widget-view+json": {
       "model_id": "db5ec796637d4f2ea0f7cdcb1c53a2a7",
       "version_major": 2,
       "version_minor": 0
      },
      "text/plain": [
       "  0%|          | 0/3 [00:00<?, ?it/s]"
      ]
     },
     "metadata": {},
     "output_type": "display_data"
    },
    {
     "data": {
      "application/vnd.jupyter.widget-view+json": {
       "model_id": "c1a041272a1343a18e008f117ee64ffb",
       "version_major": 2,
       "version_minor": 0
      },
      "text/plain": [
       "  0%|          | 0/5 [00:00<?, ?it/s]"
      ]
     },
     "metadata": {},
     "output_type": "display_data"
    },
    {
     "data": {
      "application/vnd.jupyter.widget-view+json": {
       "model_id": "6610f321d8c2428da161ee072a46ea5a",
       "version_major": 2,
       "version_minor": 0
      },
      "text/plain": [
       "  0%|          | 0/14 [00:00<?, ?it/s]"
      ]
     },
     "metadata": {},
     "output_type": "display_data"
    },
    {
     "data": {
      "application/vnd.jupyter.widget-view+json": {
       "model_id": "5b952eca1bfc40a7ab5b3404a1f636bf",
       "version_major": 2,
       "version_minor": 0
      },
      "text/plain": [
       "  0%|          | 0/19 [00:00<?, ?it/s]"
      ]
     },
     "metadata": {},
     "output_type": "display_data"
    },
    {
     "data": {
      "application/vnd.jupyter.widget-view+json": {
       "model_id": "2a04112dda1f40ff8b6cc556d2d153d0",
       "version_major": 2,
       "version_minor": 0
      },
      "text/plain": [
       "  0%|          | 0/14 [00:00<?, ?it/s]"
      ]
     },
     "metadata": {},
     "output_type": "display_data"
    },
    {
     "data": {
      "application/vnd.jupyter.widget-view+json": {
       "model_id": "268a14c49f3b4faf9d1e9fada6b5414c",
       "version_major": 2,
       "version_minor": 0
      },
      "text/plain": [
       "  0%|          | 0/4 [00:00<?, ?it/s]"
      ]
     },
     "metadata": {},
     "output_type": "display_data"
    },
    {
     "data": {
      "application/vnd.jupyter.widget-view+json": {
       "model_id": "f1202539cdcc418298f7a5ff48563d90",
       "version_major": 2,
       "version_minor": 0
      },
      "text/plain": [
       "  0%|          | 0/3 [00:00<?, ?it/s]"
      ]
     },
     "metadata": {},
     "output_type": "display_data"
    },
    {
     "data": {
      "application/vnd.jupyter.widget-view+json": {
       "model_id": "d9c837252f1e4f90a7ef48e0e7e3f2bf",
       "version_major": 2,
       "version_minor": 0
      },
      "text/plain": [
       "  0%|          | 0/4 [00:00<?, ?it/s]"
      ]
     },
     "metadata": {},
     "output_type": "display_data"
    },
    {
     "data": {
      "application/vnd.jupyter.widget-view+json": {
       "model_id": "d3342301c68f460f98f11e4e20396d92",
       "version_major": 2,
       "version_minor": 0
      },
      "text/plain": [
       "  0%|          | 0/5 [00:00<?, ?it/s]"
      ]
     },
     "metadata": {},
     "output_type": "display_data"
    },
    {
     "data": {
      "application/vnd.jupyter.widget-view+json": {
       "model_id": "faeef137ae6544e3a12a03131193935d",
       "version_major": 2,
       "version_minor": 0
      },
      "text/plain": [
       "  0%|          | 0/17 [00:00<?, ?it/s]"
      ]
     },
     "metadata": {},
     "output_type": "display_data"
    },
    {
     "data": {
      "application/vnd.jupyter.widget-view+json": {
       "model_id": "750ef958457d49268758725d05c4928f",
       "version_major": 2,
       "version_minor": 0
      },
      "text/plain": [
       "  0%|          | 0/11 [00:00<?, ?it/s]"
      ]
     },
     "metadata": {},
     "output_type": "display_data"
    },
    {
     "data": {
      "application/vnd.jupyter.widget-view+json": {
       "model_id": "f1af0c83c2a04b87b180edcb8d55b372",
       "version_major": 2,
       "version_minor": 0
      },
      "text/plain": [
       "  0%|          | 0/2 [00:00<?, ?it/s]"
      ]
     },
     "metadata": {},
     "output_type": "display_data"
    },
    {
     "data": {
      "application/vnd.jupyter.widget-view+json": {
       "model_id": "ea4e057569394a21965cdaa625b9e9bb",
       "version_major": 2,
       "version_minor": 0
      },
      "text/plain": [
       "  0%|          | 0/1 [00:00<?, ?it/s]"
      ]
     },
     "metadata": {},
     "output_type": "display_data"
    },
    {
     "data": {
      "application/vnd.jupyter.widget-view+json": {
       "model_id": "61a5fd1b2ca44787a884296c089d56ce",
       "version_major": 2,
       "version_minor": 0
      },
      "text/plain": [
       "  0%|          | 0/3 [00:00<?, ?it/s]"
      ]
     },
     "metadata": {},
     "output_type": "display_data"
    }
   ],
   "source": [
    "import axon_utils as au\n",
    "neuron_obj_with_boutons = au.calculate_boutons(#parameters for run\n",
    "neuron_obj = neuron_obj_high_fid_axon,\n",
    "plot_axon_branches_to_check = False,\n",
    "plot_boutons = False,\n",
    "verbose = False,\n",
    ")\n"
   ]
  },
  {
   "cell_type": "markdown",
   "metadata": {},
   "source": [
    "# Computing the Webbing"
   ]
  },
  {
   "cell_type": "code",
   "execution_count": 22,
   "metadata": {
    "scrolled": true
   },
   "outputs": [
    {
     "name": "stdout",
     "output_type": "stream",
     "text": [
      "Upstream Node (red), Downstream Nodes (aqua)\n"
     ]
    },
    {
     "data": {
      "application/vnd.jupyter.widget-view+json": {
       "model_id": "f76dc8512cdb483ab34d5e8764e64a9d",
       "version_major": 2,
       "version_minor": 0
      },
      "text/plain": [
       "VBox(children=(Figure(camera=PerspectiveCamera(fov=46.0, position=(0.0, 0.0, 2.0), projectionMatrix=(1.0, 0.0,…"
      ]
     },
     "metadata": {},
     "output_type": "display_data"
    },
    {
     "name": "stdout",
     "output_type": "stream",
     "text": [
      "Upstream Node (red), Downstream Nodes (aqua)\n"
     ]
    },
    {
     "data": {
      "application/vnd.jupyter.widget-view+json": {
       "model_id": "124502c9754c4ba6b2f6a268b680de9b",
       "version_major": 2,
       "version_minor": 0
      },
      "text/plain": [
       "VBox(children=(Figure(camera=PerspectiveCamera(fov=46.0, position=(0.0, 0.0, 2.0), projectionMatrix=(1.0, 0.0,…"
      ]
     },
     "metadata": {},
     "output_type": "display_data"
    },
    {
     "name": "stdout",
     "output_type": "stream",
     "text": [
      "Mesh Split with significance_threshold = 20\n"
     ]
    },
    {
     "data": {
      "application/vnd.jupyter.widget-view+json": {
       "model_id": "2b85b3f6e114411389a6e5b90a8d0bbf",
       "version_major": 2,
       "version_minor": 0
      },
      "text/plain": [
       "VBox(children=(Figure(camera=PerspectiveCamera(fov=46.0, position=(0.0, 0.0, 2.0), projectionMatrix=(1.0, 0.0,…"
      ]
     },
     "metadata": {},
     "output_type": "display_data"
    },
    {
     "data": {
      "application/vnd.jupyter.widget-view+json": {
       "model_id": "86e5f44bd5ab44f7b9029f7eeb2d30b1",
       "version_major": 2,
       "version_minor": 0
      },
      "text/plain": [
       "VBox(children=(Figure(camera=PerspectiveCamera(fov=46.0, position=(0.0, 0.0, 2.0), projectionMatrix=(1.0, 0.0,…"
      ]
     },
     "metadata": {},
     "output_type": "display_data"
    },
    {
     "data": {
      "application/vnd.jupyter.widget-view+json": {
       "model_id": "f5f3dd2599624b309983174a1aa72d34",
       "version_major": 2,
       "version_minor": 0
      },
      "text/plain": [
       "  0%|          | 0/24 [00:00<?, ?it/s]"
      ]
     },
     "metadata": {},
     "output_type": "display_data"
    },
    {
     "name": "stdout",
     "output_type": "stream",
     "text": [
      "Segmentation Info:\n",
      "Mesh 0: <trimesh.Trimesh(vertices.shape=(88, 3), faces.shape=(171, 3))> (0.177494)\n",
      "Mesh 1: <trimesh.Trimesh(vertices.shape=(75, 3), faces.shape=(140, 3))> (0.329194)\n",
      "Mesh 2: <trimesh.Trimesh(vertices.shape=(49, 3), faces.shape=(91, 3))> (0.73163)\n",
      "Mesh 3: <trimesh.Trimesh(vertices.shape=(48, 3), faces.shape=(90, 3))> (0.19982)\n",
      "Mesh 4: <trimesh.Trimesh(vertices.shape=(41, 3), faces.shape=(76, 3))> (0.3459465)\n",
      "Mesh 5: <trimesh.Trimesh(vertices.shape=(39, 3), faces.shape=(72, 3))> (0.234)\n",
      "Mesh 6: <trimesh.Trimesh(vertices.shape=(34, 3), faces.shape=(62, 3))> (0.1746815)\n",
      "Mesh 7: <trimesh.Trimesh(vertices.shape=(34, 3), faces.shape=(60, 3))> (0.6695455)\n",
      "Mesh 8: <trimesh.Trimesh(vertices.shape=(35, 3), faces.shape=(56, 3))> (0.511253)\n",
      "Mesh 9: <trimesh.Trimesh(vertices.shape=(30, 3), faces.shape=(54, 3))> (0.3353745)\n",
      "Mesh 10: <trimesh.Trimesh(vertices.shape=(32, 3), faces.shape=(53, 3))> (0.361958)\n",
      "Mesh 11: <trimesh.Trimesh(vertices.shape=(30, 3), faces.shape=(53, 3))> (0.214684)\n",
      "Mesh 12: <trimesh.Trimesh(vertices.shape=(29, 3), faces.shape=(51, 3))> (0.662485)\n",
      "Mesh 13: <trimesh.Trimesh(vertices.shape=(30, 3), faces.shape=(49, 3))> (0.165057)\n",
      "Mesh 14: <trimesh.Trimesh(vertices.shape=(21, 3), faces.shape=(33, 3))> (0.146142)\n",
      "Mesh 15: <trimesh.Trimesh(vertices.shape=(18, 3), faces.shape=(31, 3))> (0.348502)\n",
      "Mesh 16: <trimesh.Trimesh(vertices.shape=(19, 3), faces.shape=(31, 3))> (0.345554)\n",
      "Mesh 17: <trimesh.Trimesh(vertices.shape=(20, 3), faces.shape=(30, 3))> (0.13345115)\n",
      "Mesh 18: <trimesh.Trimesh(vertices.shape=(18, 3), faces.shape=(27, 3))> (0.185906)\n",
      "Mesh 19: <trimesh.Trimesh(vertices.shape=(14, 3), faces.shape=(21, 3))> (0.176623)\n",
      "Mesh 20: <trimesh.Trimesh(vertices.shape=(11, 3), faces.shape=(16, 3))> (0.42783000000000004)\n",
      "Mesh 21: <trimesh.Trimesh(vertices.shape=(9, 3), faces.shape=(13, 3))> (0.123133)\n",
      "Mesh 22: <trimesh.Trimesh(vertices.shape=(5, 3), faces.shape=(3, 3))> (0.220755)\n",
      "Mesh 23: <trimesh.Trimesh(vertices.shape=(6, 3), faces.shape=(2, 3))> (0.0)\n"
     ]
    },
    {
     "data": {
      "application/vnd.jupyter.widget-view+json": {
       "model_id": "7f5426029f1845ef88c94c13fd77f116",
       "version_major": 2,
       "version_minor": 0
      },
      "text/plain": [
       "VBox(children=(Figure(camera=PerspectiveCamera(fov=46.0, position=(0.0, 0.0, 2.0), projectionMatrix=(1.0, 0.0,…"
      ]
     },
     "metadata": {},
     "output_type": "display_data"
    },
    {
     "data": {
      "application/vnd.jupyter.widget-view+json": {
       "model_id": "9e516ab0116240ff9a1ec45dcc815d0e",
       "version_major": 2,
       "version_minor": 0
      },
      "text/plain": [
       "VBox(children=(Figure(camera=PerspectiveCamera(fov=46.0, position=(0.0, 0.0, 2.0), projectionMatrix=(1.0, 0.0,…"
      ]
     },
     "metadata": {},
     "output_type": "display_data"
    },
    {
     "data": {
      "application/vnd.jupyter.widget-view+json": {
       "model_id": "978454eb83f549d29871156b66801011",
       "version_major": 2,
       "version_minor": 0
      },
      "text/plain": [
       "  0%|          | 0/16 [00:00<?, ?it/s]"
      ]
     },
     "metadata": {},
     "output_type": "display_data"
    },
    {
     "data": {
      "application/vnd.jupyter.widget-view+json": {
       "model_id": "1b99d90002054b4688fac2a0a2986ab7",
       "version_major": 2,
       "version_minor": 0
      },
      "text/plain": [
       "  0%|          | 0/13 [00:00<?, ?it/s]"
      ]
     },
     "metadata": {},
     "output_type": "display_data"
    },
    {
     "data": {
      "application/vnd.jupyter.widget-view+json": {
       "model_id": "e994d76ff8e84e53a00f695ba216665c",
       "version_major": 2,
       "version_minor": 0
      },
      "text/plain": [
       "  0%|          | 0/12 [00:00<?, ?it/s]"
      ]
     },
     "metadata": {},
     "output_type": "display_data"
    },
    {
     "data": {
      "application/vnd.jupyter.widget-view+json": {
       "model_id": "a1342da9eae7435eb02ccc226333e264",
       "version_major": 2,
       "version_minor": 0
      },
      "text/plain": [
       "  0%|          | 0/3 [00:00<?, ?it/s]"
      ]
     },
     "metadata": {},
     "output_type": "display_data"
    },
    {
     "data": {
      "application/vnd.jupyter.widget-view+json": {
       "model_id": "48b89f45aa8b47ab8fb774b9c874f70c",
       "version_major": 2,
       "version_minor": 0
      },
      "text/plain": [
       "  0%|          | 0/16 [00:00<?, ?it/s]"
      ]
     },
     "metadata": {},
     "output_type": "display_data"
    },
    {
     "data": {
      "application/vnd.jupyter.widget-view+json": {
       "model_id": "ffa2099b235e47f68736403ee9642fe0",
       "version_major": 2,
       "version_minor": 0
      },
      "text/plain": [
       "  0%|          | 0/28 [00:00<?, ?it/s]"
      ]
     },
     "metadata": {},
     "output_type": "display_data"
    },
    {
     "data": {
      "application/vnd.jupyter.widget-view+json": {
       "model_id": "7619b9bf94a648b28761875e76729d6f",
       "version_major": 2,
       "version_minor": 0
      },
      "text/plain": [
       "  0%|          | 0/17 [00:00<?, ?it/s]"
      ]
     },
     "metadata": {},
     "output_type": "display_data"
    },
    {
     "data": {
      "application/vnd.jupyter.widget-view+json": {
       "model_id": "54322ca30c1e4601855a72908a289c65",
       "version_major": 2,
       "version_minor": 0
      },
      "text/plain": [
       "  0%|          | 0/9 [00:00<?, ?it/s]"
      ]
     },
     "metadata": {},
     "output_type": "display_data"
    },
    {
     "data": {
      "application/vnd.jupyter.widget-view+json": {
       "model_id": "5bc034483375409592a540d605507523",
       "version_major": 2,
       "version_minor": 0
      },
      "text/plain": [
       "  0%|          | 0/23 [00:00<?, ?it/s]"
      ]
     },
     "metadata": {},
     "output_type": "display_data"
    },
    {
     "data": {
      "application/vnd.jupyter.widget-view+json": {
       "model_id": "15f70393e9b64a76aa1fc3915006c914",
       "version_major": 2,
       "version_minor": 0
      },
      "text/plain": [
       "  0%|          | 0/12 [00:00<?, ?it/s]"
      ]
     },
     "metadata": {},
     "output_type": "display_data"
    },
    {
     "data": {
      "application/vnd.jupyter.widget-view+json": {
       "model_id": "ee1ef3744fc444f9a7b84671d2e0b558",
       "version_major": 2,
       "version_minor": 0
      },
      "text/plain": [
       "  0%|          | 0/13 [00:00<?, ?it/s]"
      ]
     },
     "metadata": {},
     "output_type": "display_data"
    },
    {
     "data": {
      "application/vnd.jupyter.widget-view+json": {
       "model_id": "9bae326bc8644d3fa89203a049f38384",
       "version_major": 2,
       "version_minor": 0
      },
      "text/plain": [
       "  0%|          | 0/9 [00:00<?, ?it/s]"
      ]
     },
     "metadata": {},
     "output_type": "display_data"
    },
    {
     "data": {
      "application/vnd.jupyter.widget-view+json": {
       "model_id": "3bcc7ab2232c4b05adffe5689d0e2d35",
       "version_major": 2,
       "version_minor": 0
      },
      "text/plain": [
       "  0%|          | 0/8 [00:00<?, ?it/s]"
      ]
     },
     "metadata": {},
     "output_type": "display_data"
    },
    {
     "data": {
      "application/vnd.jupyter.widget-view+json": {
       "model_id": "8cda3f88930349c2a46b9db683238284",
       "version_major": 2,
       "version_minor": 0
      },
      "text/plain": [
       "  0%|          | 0/21 [00:00<?, ?it/s]"
      ]
     },
     "metadata": {},
     "output_type": "display_data"
    },
    {
     "data": {
      "application/vnd.jupyter.widget-view+json": {
       "model_id": "08a67ae2122848048eb66c7cfbb4e33a",
       "version_major": 2,
       "version_minor": 0
      },
      "text/plain": [
       "  0%|          | 0/7 [00:00<?, ?it/s]"
      ]
     },
     "metadata": {},
     "output_type": "display_data"
    },
    {
     "data": {
      "application/vnd.jupyter.widget-view+json": {
       "model_id": "baa4a43d0ad54f6486877bb50cbcbc1f",
       "version_major": 2,
       "version_minor": 0
      },
      "text/plain": [
       "  0%|          | 0/13 [00:00<?, ?it/s]"
      ]
     },
     "metadata": {},
     "output_type": "display_data"
    },
    {
     "data": {
      "application/vnd.jupyter.widget-view+json": {
       "model_id": "886002c894ef460980c59567da47da7b",
       "version_major": 2,
       "version_minor": 0
      },
      "text/plain": [
       "  0%|          | 0/13 [00:00<?, ?it/s]"
      ]
     },
     "metadata": {},
     "output_type": "display_data"
    },
    {
     "data": {
      "application/vnd.jupyter.widget-view+json": {
       "model_id": "05417640def9490b93d67c29e2efde67",
       "version_major": 2,
       "version_minor": 0
      },
      "text/plain": [
       "  0%|          | 0/10 [00:00<?, ?it/s]"
      ]
     },
     "metadata": {},
     "output_type": "display_data"
    },
    {
     "data": {
      "application/vnd.jupyter.widget-view+json": {
       "model_id": "134ab0794e7444c2924aa8e7c983ca47",
       "version_major": 2,
       "version_minor": 0
      },
      "text/plain": [
       "  0%|          | 0/13 [00:00<?, ?it/s]"
      ]
     },
     "metadata": {},
     "output_type": "display_data"
    },
    {
     "data": {
      "application/vnd.jupyter.widget-view+json": {
       "model_id": "fb20f8b30025431a94ad43e46b92c994",
       "version_major": 2,
       "version_minor": 0
      },
      "text/plain": [
       "  0%|          | 0/8 [00:00<?, ?it/s]"
      ]
     },
     "metadata": {},
     "output_type": "display_data"
    },
    {
     "data": {
      "application/vnd.jupyter.widget-view+json": {
       "model_id": "fcf146e85b9d4dc1b9b35174a0b84c97",
       "version_major": 2,
       "version_minor": 0
      },
      "text/plain": [
       "  0%|          | 0/6 [00:00<?, ?it/s]"
      ]
     },
     "metadata": {},
     "output_type": "display_data"
    },
    {
     "data": {
      "application/vnd.jupyter.widget-view+json": {
       "model_id": "4ea4ceff20834ed399749d54b7124b69",
       "version_major": 2,
       "version_minor": 0
      },
      "text/plain": [
       "  0%|          | 0/7 [00:00<?, ?it/s]"
      ]
     },
     "metadata": {},
     "output_type": "display_data"
    },
    {
     "data": {
      "application/vnd.jupyter.widget-view+json": {
       "model_id": "1a224760409c46d788670af168f9db04",
       "version_major": 2,
       "version_minor": 0
      },
      "text/plain": [
       "  0%|          | 0/2 [00:00<?, ?it/s]"
      ]
     },
     "metadata": {},
     "output_type": "display_data"
    }
   ],
   "source": [
    "neuron_obj_with_web = au.calculate_axon_webbing(neuron_obj_with_boutons,\n",
    "                      idx_to_plot = [0],\n",
    "                plot_intersection_mesh = True,\n",
    "                plot_intersection_mesh_without_boutons = True,\n",
    "                plot_split = True,\n",
    "                plot_split_closest_mesh = True,\n",
    "                plot_segmentation_before_web = True,\n",
    "                plot_web = True,\n",
    "                        plot_webbing_on_neuron = False,\n",
    "                    verbose = False,\n",
    "                        )"
   ]
  },
  {
   "cell_type": "code",
   "execution_count": 24,
   "metadata": {},
   "outputs": [
    {
     "name": "stdout",
     "output_type": "stream",
     "text": [
      "\n",
      " Working on visualization type: mesh\n",
      "\n",
      " Working on visualization type: skeleton\n"
     ]
    },
    {
     "data": {
      "application/vnd.jupyter.widget-view+json": {
       "model_id": "d13efb590c984a4797af4b9cab1dceed",
       "version_major": 2,
       "version_minor": 0
      },
      "text/plain": [
       "VBox(children=(Figure(camera=PerspectiveCamera(fov=46.0, position=(0.0, 0.0, 2.0), projectionMatrix=(1.0, 0.0,…"
      ]
     },
     "metadata": {},
     "output_type": "display_data"
    }
   ],
   "source": [
    "nviz.plot_boutons(neuron_obj_with_web,\n",
    "                  mesh_whole_neuron_alpha = 0.2,\n",
    "                 plot_web=True)"
   ]
  },
  {
   "cell_type": "code",
   "execution_count": null,
   "metadata": {},
   "outputs": [],
   "source": []
  }
 ],
 "metadata": {
  "kernelspec": {
   "display_name": "Python 3",
   "language": "python",
   "name": "python3"
  },
  "language_info": {
   "codemirror_mode": {
    "name": "ipython",
    "version": 3
   },
   "file_extension": ".py",
   "mimetype": "text/x-python",
   "name": "python",
   "nbconvert_exporter": "python",
   "pygments_lexer": "ipython3",
   "version": "3.6.9"
  }
 },
 "nbformat": 4,
 "nbformat_minor": 4
}
