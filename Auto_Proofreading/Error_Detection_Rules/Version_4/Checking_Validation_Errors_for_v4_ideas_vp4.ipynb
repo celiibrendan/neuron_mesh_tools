{
 "cells": [
  {
   "cell_type": "code",
   "execution_count": null,
   "metadata": {},
   "outputs": [],
   "source": [
    "\"\"\"\n",
    "Purpose: To check the errors on the validation test set\n",
    "to get ideas on how to make validation score go up\n",
    "\n",
    "\"\"\""
   ]
  },
  {
   "cell_type": "code",
   "execution_count": 1,
   "metadata": {},
   "outputs": [],
   "source": [
    "%load_ext autoreload\n",
    "%autoreload 2"
   ]
  },
  {
   "cell_type": "code",
   "execution_count": 2,
   "metadata": {},
   "outputs": [],
   "source": [
    "from os import sys\n",
    "sys.path.append(\"/meshAfterParty/\")\n",
    "sys.path.append(\"/meshAfterParty/meshAfterParty/\")"
   ]
  },
  {
   "cell_type": "code",
   "execution_count": 3,
   "metadata": {},
   "outputs": [
    {
     "name": "stderr",
     "output_type": "stream",
     "text": [
      "INFO - 2021-04-06 05:22:47,318 - settings - Setting database.host to at-database.ad.bcm.edu\n",
      "INFO - 2021-04-06 05:22:47,320 - settings - Setting database.user to celiib\n",
      "INFO - 2021-04-06 05:22:47,321 - settings - Setting database.password to newceliipass\n",
      "INFO - 2021-04-06 05:22:47,370 - settings - Setting stores to {'minnie65': {'protocol': 'file', 'location': '/mnt/dj-stor01/platinum/minnie65', 'stage': '/mnt/dj-stor01/platinum/minnie65'}, 'meshes': {'protocol': 'file', 'location': '/mnt/dj-stor01/platinum/minnie65/02/meshes', 'stage': '/mnt/dj-stor01/platinum/minnie65/02/meshes'}, 'decimated_meshes': {'protocol': 'file', 'location': '/mnt/dj-stor01/platinum/minnie65/02/decimated_meshes', 'stage': '/mnt/dj-stor01/platinum/minnie65/02/decimated_meshes'}, 'skeletons': {'protocol': 'file', 'location': '/mnt/dj-stor01/platinum/minnie65/02/skeletons'}}\n",
      "INFO - 2021-04-06 05:22:47,372 - settings - Setting enable_python_native_blobs to True\n",
      "INFO - 2021-04-06 05:22:47,387 - connection - Connected celiib@at-database.ad.bcm.edu:3306\n"
     ]
    },
    {
     "name": "stdout",
     "output_type": "stream",
     "text": [
      "Connecting celiib@at-database.ad.bcm.edu:3306\n"
     ]
    },
    {
     "name": "stderr",
     "output_type": "stream",
     "text": [
      "INFO - 2021-04-06 05:22:47,802 - settings - Setting enable_python_native_blobs to True\n",
      "INFO - 2021-04-06 05:22:47,841 - settings - Setting database.host to at-database.ad.bcm.edu\n",
      "INFO - 2021-04-06 05:22:47,843 - settings - Setting database.user to celiib\n",
      "INFO - 2021-04-06 05:22:47,844 - settings - Setting database.password to newceliipass\n",
      "INFO - 2021-04-06 05:22:47,845 - settings - Setting database.host to at-database.ad.bcm.edu\n",
      "INFO - 2021-04-06 05:22:47,846 - settings - Setting database.user to celiib\n",
      "INFO - 2021-04-06 05:22:47,847 - settings - Setting database.password to newceliipass\n",
      "INFO - 2021-04-06 05:22:47,848 - settings - Setting enable_python_native_blobs to True\n",
      "INFO - 2021-04-06 05:22:48,303 - settings - Setting enable_python_native_blobs to True\n"
     ]
    }
   ],
   "source": [
    "from pathlib import Path\n",
    "import numpy as np\n",
    "import neuron_visualizations as nviz\n",
    "import datajoint as dj\n",
    "\n",
    "import proofreading_utils as pru\n",
    "import classification_utils as clu\n",
    "\n",
    "import neuron_utils as nru\n",
    "import validation_utils as vu\n",
    "import pandas as pd\n",
    "import datajoint_utils as du"
   ]
  },
  {
   "cell_type": "markdown",
   "metadata": {},
   "source": [
    "# Computing the validation statistics (to pick the ones to look at)"
   ]
  },
  {
   "cell_type": "code",
   "execution_count": 4,
   "metadata": {
    "scrolled": true
   },
   "outputs": [
    {
     "name": "stdout",
     "output_type": "stream",
     "text": [
      "Synapsse Results:\n",
      "Total Number of Synapses = 3990\n",
      "n_valid_syn_ids_presyn = 5\n",
      "n_errored_syn_ids_presyn = 29\n",
      "n_valid_syn_ids_postsyn = 3891\n",
      "n_errored_syn_ids_postsyn = 65\n",
      "Synapsse Results:\n",
      "Total Number of Synapses = 4434\n",
      "n_valid_syn_ids_presyn = 39\n",
      "n_errored_syn_ids_presyn = 482\n",
      "n_valid_syn_ids_postsyn = 3898\n",
      "n_errored_syn_ids_postsyn = 15\n",
      "Synapsse Results:\n",
      "Total Number of Synapses = 923\n",
      "n_valid_syn_ids_presyn = 13\n",
      "n_errored_syn_ids_presyn = 153\n",
      "n_valid_syn_ids_postsyn = 753\n",
      "n_errored_syn_ids_postsyn = 4\n",
      "Synapsse Results:\n",
      "Total Number of Synapses = 4361\n",
      "n_valid_syn_ids_presyn = 86\n",
      "n_errored_syn_ids_presyn = 621\n",
      "n_valid_syn_ids_postsyn = 3649\n",
      "n_errored_syn_ids_postsyn = 5\n",
      "Synapsse Results:\n",
      "Total Number of Synapses = 3452\n",
      "n_valid_syn_ids_presyn = 76\n",
      "n_errored_syn_ids_presyn = 345\n",
      "n_valid_syn_ids_postsyn = 3007\n",
      "n_errored_syn_ids_postsyn = 24\n",
      "Synapsse Results:\n",
      "Total Number of Synapses = 3190\n",
      "n_valid_syn_ids_presyn = 18\n",
      "n_errored_syn_ids_presyn = 89\n",
      "n_valid_syn_ids_postsyn = 3081\n",
      "n_errored_syn_ids_postsyn = 2\n",
      "Synapsse Results:\n",
      "Total Number of Synapses = 3772\n",
      "n_valid_syn_ids_presyn = 40\n",
      "n_errored_syn_ids_presyn = 373\n",
      "n_valid_syn_ids_postsyn = 3319\n",
      "n_errored_syn_ids_postsyn = 40\n",
      "Synapsse Results:\n",
      "Total Number of Synapses = 3611\n",
      "n_valid_syn_ids_presyn = 0\n",
      "n_errored_syn_ids_presyn = 277\n",
      "n_valid_syn_ids_postsyn = 3329\n",
      "n_errored_syn_ids_postsyn = 5\n",
      "Synapsse Results:\n",
      "Total Number of Synapses = 3806\n",
      "n_valid_syn_ids_presyn = 24\n",
      "n_errored_syn_ids_presyn = 273\n",
      "n_valid_syn_ids_postsyn = 3352\n",
      "n_errored_syn_ids_postsyn = 157\n",
      "Synapsse Results:\n",
      "Total Number of Synapses = 7152\n",
      "n_valid_syn_ids_presyn = 0\n",
      "n_errored_syn_ids_presyn = 99\n",
      "n_valid_syn_ids_postsyn = 7046\n",
      "n_errored_syn_ids_postsyn = 7\n",
      "Synapsse Results:\n",
      "Total Number of Synapses = 6474\n",
      "n_valid_syn_ids_presyn = 66\n",
      "n_errored_syn_ids_presyn = 385\n",
      "n_valid_syn_ids_postsyn = 6018\n",
      "n_errored_syn_ids_postsyn = 5\n",
      "Synapsse Results:\n",
      "Total Number of Synapses = 4706\n",
      "n_valid_syn_ids_presyn = 6\n",
      "n_errored_syn_ids_presyn = 58\n",
      "n_valid_syn_ids_postsyn = 4632\n",
      "n_errored_syn_ids_postsyn = 10\n",
      "Synapsse Results:\n",
      "Total Number of Synapses = 2462\n",
      "n_valid_syn_ids_presyn = 32\n",
      "n_errored_syn_ids_presyn = 175\n",
      "n_valid_syn_ids_postsyn = 2224\n",
      "n_errored_syn_ids_postsyn = 31\n",
      "Synapsse Results:\n",
      "Total Number of Synapses = 4846\n",
      "n_valid_syn_ids_presyn = 2\n",
      "n_errored_syn_ids_presyn = 25\n",
      "n_valid_syn_ids_postsyn = 4817\n",
      "n_errored_syn_ids_postsyn = 2\n",
      "Synapsse Results:\n",
      "Total Number of Synapses = 3713\n",
      "n_valid_syn_ids_presyn = 61\n",
      "n_errored_syn_ids_presyn = 199\n",
      "n_valid_syn_ids_postsyn = 2662\n",
      "n_errored_syn_ids_postsyn = 791\n",
      "Synapsse Results:\n",
      "Total Number of Synapses = 1159\n",
      "n_valid_syn_ids_presyn = 84\n",
      "n_errored_syn_ids_presyn = 197\n",
      "n_valid_syn_ids_postsyn = 806\n",
      "n_errored_syn_ids_postsyn = 72\n",
      "Synapsse Results:\n",
      "Total Number of Synapses = 4783\n",
      "n_valid_syn_ids_presyn = 7\n",
      "n_errored_syn_ids_presyn = 178\n",
      "n_valid_syn_ids_postsyn = 4551\n",
      "n_errored_syn_ids_postsyn = 47\n",
      "Synapsse Results:\n",
      "Total Number of Synapses = 1760\n",
      "n_valid_syn_ids_presyn = 65\n",
      "n_errored_syn_ids_presyn = 225\n",
      "n_valid_syn_ids_postsyn = 1467\n",
      "n_errored_syn_ids_postsyn = 3\n",
      "Synapsse Results:\n",
      "Total Number of Synapses = 5362\n",
      "n_valid_syn_ids_presyn = 0\n",
      "n_errored_syn_ids_presyn = 108\n",
      "n_valid_syn_ids_postsyn = 5033\n",
      "n_errored_syn_ids_postsyn = 221\n",
      "Synapsse Results:\n",
      "Total Number of Synapses = 4072\n",
      "n_valid_syn_ids_presyn = 54\n",
      "n_errored_syn_ids_presyn = 161\n",
      "n_valid_syn_ids_postsyn = 3746\n",
      "n_errored_syn_ids_postsyn = 111\n",
      "Synapsse Results:\n",
      "Total Number of Synapses = 5846\n",
      "n_valid_syn_ids_presyn = 0\n",
      "n_errored_syn_ids_presyn = 235\n",
      "n_valid_syn_ids_postsyn = 5601\n",
      "n_errored_syn_ids_postsyn = 10\n",
      "Synapsse Results:\n",
      "Total Number of Synapses = 4377\n",
      "n_valid_syn_ids_presyn = 5\n",
      "n_errored_syn_ids_presyn = 196\n",
      "n_valid_syn_ids_postsyn = 4155\n",
      "n_errored_syn_ids_postsyn = 21\n",
      "Synapsse Results:\n",
      "Total Number of Synapses = 6287\n",
      "n_valid_syn_ids_presyn = 0\n",
      "n_errored_syn_ids_presyn = 23\n",
      "n_valid_syn_ids_postsyn = 6262\n",
      "n_errored_syn_ids_postsyn = 2\n",
      "Synapsse Results:\n",
      "Total Number of Synapses = 2875\n",
      "n_valid_syn_ids_presyn = 19\n",
      "n_errored_syn_ids_presyn = 1\n",
      "n_valid_syn_ids_postsyn = 2834\n",
      "n_errored_syn_ids_postsyn = 21\n",
      "Synapsse Results:\n",
      "Total Number of Synapses = 2717\n",
      "n_valid_syn_ids_presyn = 54\n",
      "n_errored_syn_ids_presyn = 29\n",
      "n_valid_syn_ids_postsyn = 2631\n",
      "n_errored_syn_ids_postsyn = 3\n",
      "Synapsse Results:\n",
      "Total Number of Synapses = 3329\n",
      "n_valid_syn_ids_presyn = 0\n",
      "n_errored_syn_ids_presyn = 230\n",
      "n_valid_syn_ids_postsyn = 3021\n",
      "n_errored_syn_ids_postsyn = 78\n",
      "Synapsse Results:\n",
      "Total Number of Synapses = 4803\n",
      "n_valid_syn_ids_presyn = 2\n",
      "n_errored_syn_ids_presyn = 226\n",
      "n_valid_syn_ids_postsyn = 4524\n",
      "n_errored_syn_ids_postsyn = 51\n",
      "Synapsse Results:\n",
      "Total Number of Synapses = 5263\n",
      "n_valid_syn_ids_presyn = 0\n",
      "n_errored_syn_ids_presyn = 89\n",
      "n_valid_syn_ids_postsyn = 5156\n",
      "n_errored_syn_ids_postsyn = 18\n",
      "Synapsse Results:\n",
      "Total Number of Synapses = 2171\n",
      "n_valid_syn_ids_presyn = 2\n",
      "n_errored_syn_ids_presyn = 152\n",
      "n_valid_syn_ids_postsyn = 2012\n",
      "n_errored_syn_ids_postsyn = 5\n",
      "Synapsse Results:\n",
      "Total Number of Synapses = 2978\n",
      "n_valid_syn_ids_presyn = 45\n",
      "n_errored_syn_ids_presyn = 132\n",
      "n_valid_syn_ids_postsyn = 2798\n",
      "n_errored_syn_ids_postsyn = 3\n",
      "Synapsse Results:\n",
      "Total Number of Synapses = 1221\n",
      "n_valid_syn_ids_presyn = 16\n",
      "n_errored_syn_ids_presyn = 72\n",
      "n_valid_syn_ids_postsyn = 1124\n",
      "n_errored_syn_ids_postsyn = 9\n",
      "Synapsse Results:\n",
      "Total Number of Synapses = 7110\n",
      "n_valid_syn_ids_presyn = 41\n",
      "n_errored_syn_ids_presyn = 119\n",
      "n_valid_syn_ids_postsyn = 6602\n",
      "n_errored_syn_ids_postsyn = 348\n",
      "Synapsse Results:\n",
      "Total Number of Synapses = 2757\n",
      "n_valid_syn_ids_presyn = 166\n",
      "n_errored_syn_ids_presyn = 103\n",
      "n_valid_syn_ids_postsyn = 2457\n",
      "n_errored_syn_ids_postsyn = 31\n",
      "Synapsse Results:\n",
      "Total Number of Synapses = 6716\n",
      "n_valid_syn_ids_presyn = 35\n",
      "n_errored_syn_ids_presyn = 41\n",
      "n_valid_syn_ids_postsyn = 6639\n",
      "n_errored_syn_ids_postsyn = 1\n",
      "Synapsse Results:\n",
      "Total Number of Synapses = 3348\n",
      "n_valid_syn_ids_presyn = 124\n",
      "n_errored_syn_ids_presyn = 229\n",
      "n_valid_syn_ids_postsyn = 2991\n",
      "n_errored_syn_ids_postsyn = 4\n",
      "Synapsse Results:\n",
      "Total Number of Synapses = 5879\n",
      "n_valid_syn_ids_presyn = 31\n",
      "n_errored_syn_ids_presyn = 183\n",
      "n_valid_syn_ids_postsyn = 5650\n",
      "n_errored_syn_ids_postsyn = 15\n",
      "Synapsse Results:\n",
      "Total Number of Synapses = 2510\n",
      "n_valid_syn_ids_presyn = 23\n",
      "n_errored_syn_ids_presyn = 23\n",
      "n_valid_syn_ids_postsyn = 2463\n",
      "n_errored_syn_ids_postsyn = 1\n",
      "Synapsse Results:\n",
      "Total Number of Synapses = 792\n",
      "n_valid_syn_ids_presyn = 11\n",
      "n_errored_syn_ids_presyn = 48\n",
      "n_valid_syn_ids_postsyn = 725\n",
      "n_errored_syn_ids_postsyn = 8\n",
      "Synapsse Results:\n",
      "Total Number of Synapses = 7459\n",
      "n_valid_syn_ids_presyn = 176\n",
      "n_errored_syn_ids_presyn = 270\n",
      "n_valid_syn_ids_postsyn = 6896\n",
      "n_errored_syn_ids_postsyn = 117\n",
      "Synapsse Results:\n",
      "Total Number of Synapses = 1990\n",
      "n_valid_syn_ids_presyn = 10\n",
      "n_errored_syn_ids_presyn = 234\n",
      "n_valid_syn_ids_postsyn = 1740\n",
      "n_errored_syn_ids_postsyn = 6\n",
      "Synapsse Results:\n",
      "Total Number of Synapses = 3302\n",
      "n_valid_syn_ids_presyn = 36\n",
      "n_errored_syn_ids_presyn = 123\n",
      "n_valid_syn_ids_postsyn = 3128\n",
      "n_errored_syn_ids_postsyn = 15\n",
      "Synapsse Results:\n",
      "Total Number of Synapses = 2523\n",
      "n_valid_syn_ids_presyn = 58\n",
      "n_errored_syn_ids_presyn = 398\n",
      "n_valid_syn_ids_postsyn = 2010\n",
      "n_errored_syn_ids_postsyn = 57\n",
      "Synapsse Results:\n",
      "Total Number of Synapses = 6246\n",
      "n_valid_syn_ids_presyn = 5\n",
      "n_errored_syn_ids_presyn = 386\n",
      "n_valid_syn_ids_postsyn = 5696\n",
      "n_errored_syn_ids_postsyn = 159\n",
      "Synapsse Results:\n",
      "Total Number of Synapses = 1896\n",
      "n_valid_syn_ids_presyn = 2\n",
      "n_errored_syn_ids_presyn = 121\n",
      "n_valid_syn_ids_postsyn = 1757\n",
      "n_errored_syn_ids_postsyn = 16\n",
      "Synapsse Results:\n",
      "Total Number of Synapses = 10149\n",
      "n_valid_syn_ids_presyn = 291\n",
      "n_errored_syn_ids_presyn = 547\n",
      "n_valid_syn_ids_postsyn = 9293\n",
      "n_errored_syn_ids_postsyn = 18\n",
      "Synapsse Results:\n",
      "Total Number of Synapses = 1708\n",
      "n_valid_syn_ids_presyn = 12\n",
      "n_errored_syn_ids_presyn = 92\n",
      "n_valid_syn_ids_postsyn = 1591\n",
      "n_errored_syn_ids_postsyn = 13\n",
      "Synapsse Results:\n",
      "Total Number of Synapses = 1899\n",
      "n_valid_syn_ids_presyn = 27\n",
      "n_errored_syn_ids_presyn = 107\n",
      "n_valid_syn_ids_postsyn = 1756\n",
      "n_errored_syn_ids_postsyn = 9\n",
      "Synapsse Results:\n",
      "Total Number of Synapses = 8418\n",
      "n_valid_syn_ids_presyn = 52\n",
      "n_errored_syn_ids_presyn = 332\n",
      "n_valid_syn_ids_postsyn = 8018\n",
      "n_errored_syn_ids_postsyn = 16\n",
      "Synapsse Results:\n",
      "Total Number of Synapses = 2080\n",
      "n_valid_syn_ids_presyn = 8\n",
      "n_errored_syn_ids_presyn = 42\n",
      "n_valid_syn_ids_postsyn = 2029\n",
      "n_errored_syn_ids_postsyn = 1\n"
     ]
    },
    {
     "name": "stdout",
     "output_type": "stream",
     "text": [
      "Synapsse Results:\n",
      "Total Number of Synapses = 1645\n",
      "n_valid_syn_ids_presyn = 0\n",
      "n_errored_syn_ids_presyn = 108\n",
      "n_valid_syn_ids_postsyn = 1536\n",
      "n_errored_syn_ids_postsyn = 1\n",
      "Synapsse Results:\n",
      "Total Number of Synapses = 4633\n",
      "n_valid_syn_ids_presyn = 72\n",
      "n_errored_syn_ids_presyn = 219\n",
      "n_valid_syn_ids_postsyn = 4328\n",
      "n_errored_syn_ids_postsyn = 14\n",
      "Synapsse Results:\n",
      "Total Number of Synapses = 2383\n",
      "n_valid_syn_ids_presyn = 0\n",
      "n_errored_syn_ids_presyn = 47\n",
      "n_valid_syn_ids_postsyn = 2334\n",
      "n_errored_syn_ids_postsyn = 2\n",
      "Synapsse Results:\n",
      "Total Number of Synapses = 4015\n",
      "n_valid_syn_ids_presyn = 12\n",
      "n_errored_syn_ids_presyn = 109\n",
      "n_valid_syn_ids_postsyn = 3879\n",
      "n_errored_syn_ids_postsyn = 15\n",
      "Synapsse Results:\n",
      "Total Number of Synapses = 1914\n",
      "n_valid_syn_ids_presyn = 3\n",
      "n_errored_syn_ids_presyn = 212\n",
      "n_valid_syn_ids_postsyn = 1528\n",
      "n_errored_syn_ids_postsyn = 171\n",
      "Synapsse Results:\n",
      "Total Number of Synapses = 10012\n",
      "n_valid_syn_ids_presyn = 8\n",
      "n_errored_syn_ids_presyn = 164\n",
      "n_valid_syn_ids_postsyn = 9825\n",
      "n_errored_syn_ids_postsyn = 15\n"
     ]
    }
   ],
   "source": [
    "segment_ids = du.proofreading_stats_table(validation=True).fetch(\"segment_id\")\n",
    "\n",
    "validation_dfs = [vu.synapse_validation_df_single_neuron(k,\n",
    "                                        remove_presyn_on_dendrite = False,\n",
    "                        count_presyn_on_dendrite_as_correct = True,\n",
    "                                                        include_extension_synapse=False) for k in segment_ids]"
   ]
  },
  {
   "cell_type": "code",
   "execution_count": 5,
   "metadata": {},
   "outputs": [
    {
     "name": "stderr",
     "output_type": "stream",
     "text": [
      "WARNING - 2021-04-06 05:23:57,325 - font_manager - findfont: Font family ['normal'] not found. Falling back to DejaVu Sans.\n",
      "WARNING - 2021-04-06 05:23:57,338 - font_manager - findfont: Font family ['normal'] not found. Falling back to DejaVu Sans.\n",
      "WARNING - 2021-04-06 05:23:57,343 - font_manager - findfont: Font family ['normal'] not found. Falling back to DejaVu Sans.\n"
     ]
    },
    {
     "name": "stdout",
     "output_type": "stream",
     "text": [
      "Segment_id = 864691136175008774\n"
     ]
    },
    {
     "data": {
      "image/png": "[encoded data removed]",
      "text/plain": [
       "<Figure size 700x400 with 2 Axes>"
      ]
     },
     "metadata": {},
     "output_type": "display_data"
    }
   ],
   "source": [
    "curr_idx = 32\n",
    "segment_id = segment_ids[curr_idx]\n",
    "print(f\"Segment_id = {segment_id}\")\n",
    "curr_validation_df = validation_dfs[curr_idx]\n",
    "vu.synapse_validation_df_to_score_plot(curr_validation_df)"
   ]
  },
  {
   "cell_type": "markdown",
   "metadata": {},
   "source": [
    "# Picking the neuron to visualize"
   ]
  },
  {
   "cell_type": "code",
   "execution_count": 6,
   "metadata": {},
   "outputs": [
    {
     "name": "stdout",
     "output_type": "stream",
     "text": [
      "Working on Neuron: 864691136175008774\n",
      "\n",
      "\n",
      "Synapse Category Results, synapse_type = presyn\n",
      "# of TP = 105\n",
      "# of TN = 103\n",
      "# of FP = 61\n",
      "# of FN = 0\n",
      "No axon skeleton attribute stored in database table\n"
     ]
    },
    {
     "name": "stderr",
     "output_type": "stream",
     "text": [
      "/usr/local/lib/python3.6/dist-packages/traittypes/traittypes.py:101: UserWarning: Given trait value dtype \"float64\" does not match required type \"float64\". A coerced copy has been created.\n",
      "  np.dtype(self.dtype).name))\n"
     ]
    },
    {
     "data": {
      "application/vnd.jupyter.widget-view+json": {
       "model_id": "0bfe832d60c14e7a96f7647251c344df",
       "version_major": 2,
       "version_minor": 0
      },
      "text/plain": [
       "VBox(children=(Figure(camera=PerspectiveCamera(fov=46.0, position=(0.0, 0.0, 2.0), projectionMatrix=(1.0, 0.0,…"
      ]
     },
     "metadata": {},
     "output_type": "display_data"
    },
    {
     "name": "stdout",
     "output_type": "stream",
     "text": [
      "TP:yellow\n",
      "TN:aqua\n",
      "FP:black\n",
      "FN:orange\n"
     ]
    }
   ],
   "source": [
    "du.plot_proofread_validation_neuron(\n",
    "    segment_id = segment_id,\n",
    "    validation_df=curr_validation_df,\n",
    "    verbose = True,\n",
    "    synapse_type = \"presyn\",\n",
    "    synapse_scatter_size = 0.05,\n",
    ")"
   ]
  },
  {
   "cell_type": "markdown",
   "metadata": {},
   "source": [
    "# Checking the neuron proofreading"
   ]
  },
  {
   "cell_type": "code",
   "execution_count": 7,
   "metadata": {},
   "outputs": [
    {
     "data": {
      "text/plain": [
       "864691136175008774"
      ]
     },
     "execution_count": 7,
     "metadata": {},
     "output_type": "execute_result"
    }
   ],
   "source": [
    "segment_id = vu.validation_df_to_old_segment_id(curr_validation_df)\n",
    "segment_id"
   ]
  },
  {
   "cell_type": "code",
   "execution_count": 8,
   "metadata": {},
   "outputs": [
    {
     "name": "stdout",
     "output_type": "stream",
     "text": [
      "Decompressing Neuron in minimal output mode...please wait\n",
      "Pulled from Table Decomposition so setting split_index = 0\n",
      "Dont need spine recalculation\n",
      "Number of Neurons found = 1\n"
     ]
    }
   ],
   "source": [
    "neuron_objs,neuron_split_idxs = du.decomposition_with_spine_recalculation(segment_id)"
   ]
  },
  {
   "cell_type": "code",
   "execution_count": 9,
   "metadata": {},
   "outputs": [
    {
     "data": {
      "text/plain": [
       "864691136175008774"
      ]
     },
     "execution_count": 9,
     "metadata": {},
     "output_type": "execute_result"
    }
   ],
   "source": [
    "neuron_obj = neuron_objs[0]\n",
    "neuron_obj.segment_id"
   ]
  },
  {
   "cell_type": "code",
   "execution_count": 10,
   "metadata": {},
   "outputs": [
    {
     "name": "stdout",
     "output_type": "stream",
     "text": [
      "\n",
      "Part 1: Axon like branchese \n",
      "{'L0': array([ 0,  1,  2,  3,  4,  5,  6,  7,  8,  9, 10, 11, 12, 13, 14, 15, 16,\n",
      "       17, 18, 19, 20, 21, 22, 23, 24, 25, 26, 27, 28, 29, 30, 31, 32, 33,\n",
      "       34, 35, 36, 37, 38, 39, 40, 41, 42, 43, 44, 45, 46, 47, 48, 49, 50,\n",
      "       51, 52, 53, 54, 55, 56, 57, 58, 59, 60, 61, 62]), 'L1': array([ 2,  4, 12]), 'L6': array([3])}\n",
      "Limb L0 soma angle: 163.9 \n",
      "Limb L1 soma angle: 18.39 \n",
      "Limb L2 soma angle: 150.48 \n",
      "Limb L3 soma angle: 138.17 \n",
      "Limb L4 soma angle: 89.08 \n",
      "Limb L5 soma angle: 40.53 \n",
      "Limb L6 soma angle: 145.53 \n",
      "\n",
      "Part 2: possible_axon_limbs = [0, 2, 3, 4, 6]\n",
      "\n",
      "Phase 2: Working on Limb L0\n",
      "nodes_to_eliminate = []\n",
      "\n",
      "Phase 2: Working on Limb L2\n",
      "nodes_to_eliminate = [4]\n",
      "\n",
      "Phase 2: Working on Limb L3\n",
      "nodes_to_eliminate = [4]\n",
      "\n",
      "Phase 2: Working on Limb L4\n",
      "nodes_to_eliminate = []\n",
      "\n",
      "Phase 2: Working on Limb L6\n",
      "nodes_to_eliminate = [0 2 3]\n",
      "\n",
      "----Working on Limb L0-----\n",
      "No nodes were eliminated so don't need to add back any candidates\n",
      "\n",
      "----Working on Limb L2-----\n",
      "No endpoints were eliminated so don't need to add back any candidates\n",
      "\n",
      "----Working on Limb L3-----\n",
      "No endpoints were eliminated so don't need to add back any candidates\n",
      "\n",
      "----Working on Limb L4-----\n",
      "No nodes were eliminated so don't need to add back any candidates\n",
      "\n",
      "----Working on Limb L6-----\n",
      "New candidates added back: [[3]]\n",
      "Final Candidates\n",
      "\n",
      "Limb 0\n",
      "Candidate 0 (palegreen): array([ 0,  1,  2,  3,  4,  5,  6,  7,  8,  9, 10, 11, 12, 13, 14, 15, 16,\n",
      "       17, 18, 19, 20, 21, 22, 23, 24, 25, 26, 27, 28, 29, 30, 31, 32, 33,\n",
      "       34, 35, 36, 37, 38, 39, 40, 41, 42, 43, 44, 45, 46, 47, 48, 49, 50,\n",
      "       51, 52, 53, 54, 55, 56, 57, 58, 59, 60, 61, 62])\n",
      "\n",
      "Limb 2\n",
      "Candidate 0 (red): array([0, 1, 2])\n",
      "Candidate 1 (palegreen): array([3])\n",
      "\n",
      "Limb 3\n",
      "Candidate 0 (gray): array([2])\n",
      "Candidate 1 (red): array([0, 1, 3])\n",
      "\n",
      "Limb 4\n",
      "Candidate 0 (tan): array([0, 1, 2, 3, 4])\n",
      "\n",
      "Limb 6\n",
      "Candidate 0 (forestgreen): array([1])\n",
      "Candidate 1 (cadetblue): array([4, 5, 6, 7, 8])\n",
      "Candidate 2 (darkslategray): array([3])\n",
      "Part 3: axon_subgraph_candidates = {0: [[0, 1, 2, 3, 4, 5, 6, 7, 8, 9, 10, 11, 12, 13, 14, 15, 16, 17, 18, 19, 20, 21, 22, 23, 24, 25, 26, 27, 28, 29, 30, 31, 32, 33, 34, 35, 36, 37, 38, 39, 40, 41, 42, 43, 44, 45, 46, 47, 48, 49, 50, 51, 52, 53, 54, 55, 56, 57, 58, 59, 60, 61, 62]], 2: [[0, 1, 2], [3]], 3: [[2], [0, 1, 3]], 4: [[0, 1, 2, 3, 4]], 6: [[1], [4, 5, 6, 7, 8], [3]]}\n",
      "\n",
      "\n",
      " --- Working on limb 0, candidate # 0\n",
      "63 out of 63 branches are axons\n",
      "Axon percentage = 1.0\n",
      "curr_axon_angle_threshold = 95\n",
      "candidate_nodes = [ 0  1  2  3  4  5  6  7  8  9 10 11 12 13 14 15 16 17 18 19 20 21 22 23\n",
      " 24 25 26 27 28 29 30 31 32 33 34 35 36 37 38 39 40 41 42 43 44 45 46 47\n",
      " 48 49 50 51 52 53 54 55 56 57 58 59 60 61 62]\n",
      "non_axon_branches_on_subgraph = []\n",
      "endnodes_to_test = [20137]\n",
      "Skeleton paths distances = [24998.42107888]\n",
      "Filtered indexes = [0]\n",
      "len(filtered_skeletons) = 1\n",
      "sk_angles = [175.39361507]\n",
      "candidate_angles,restr_skels = (array([175.39361507]), [array([[[1245710.37033958,  649313.46420594,  918395.462239  ],\n",
      "        [1245692.46109393,  649411.76796788,  918391.50884693]],\n",
      "\n",
      "       [[1245692.46109393,  649411.76796788,  918391.50884693],\n",
      "        [1245674.55184828,  649510.07172982,  918387.55545487]],\n",
      "\n",
      "       [[1245674.55184828,  649510.07172982,  918387.55545487],\n",
      "        [1245656.31086578,  649608.31285078,  918383.61941662]],\n",
      "\n",
      "       [[1245656.31086578,  649608.31285078,  918383.61941662],\n",
      "        [1245636.74521601,  649706.3038384 ,  918379.75267436]],\n",
      "\n",
      "       [[1245636.74521601,  649706.3038384 ,  918379.75267436],\n",
      "        [1245617.17956624,  649804.29482601,  918375.8859321 ]],\n",
      "\n",
      "       [[1245617.17956624,  649804.29482601,  918375.8859321 ],\n",
      "        [1245597.47445189,  649902.24834338,  918371.79825391]],\n",
      "\n",
      "       [[1245597.47445189,  649902.24834338,  918371.79825391],\n",
      "        [1245577.55355468,  650000.14388591,  918367.36873855]],\n",
      "\n",
      "       [[1245577.55355468,  650000.14388591,  918367.36873855],\n",
      "        [1245557.63265748,  650098.03942845,  918362.93922319]],\n",
      "\n",
      "       [[1245557.63265748,  650098.03942845,  918362.93922319],\n",
      "        [1245538.19354922,  650195.9944946 ,  918357.7878661 ]],\n",
      "\n",
      "       [[1245538.19354922,  650195.9944946 ,  918357.7878661 ],\n",
      "        [1245519.00249495,  650293.98020711,  918352.26486138]],\n",
      "\n",
      "       [[1245519.00249495,  650293.98020711,  918352.26486138],\n",
      "        [1245499.86513916,  650391.97323247,  918346.69778242]],\n",
      "\n",
      "       [[1245499.86513916,  650391.97323247,  918346.69778242],\n",
      "        [1245482.22691925,  650490.17041575,  918339.90025389]],\n",
      "\n",
      "       [[1245482.22691925,  650490.17041575,  918339.90025389],\n",
      "        [1245464.58869934,  650588.36759903,  918333.10272536]],\n",
      "\n",
      "       [[1245464.58869934,  650588.36759903,  918333.10272536],\n",
      "        [1245448.09557432,  650686.71983769,  918325.79333577]],\n",
      "\n",
      "       [[1245448.09557432,  650686.71983769,  918325.79333577],\n",
      "        [1245432.5966472 ,  650785.20669903,  918318.03953654]],\n",
      "\n",
      "       [[1245432.5966472 ,  650785.20669903,  918318.03953654],\n",
      "        [1245417.53926302,  650883.75450659,  918310.25223117]],\n",
      "\n",
      "       [[1245417.53926302,  650883.75450659,  918310.25223117],\n",
      "        [1245404.60936032,  650982.5959707 ,  918302.30348347]],\n",
      "\n",
      "       [[1245404.60936032,  650982.5959707 ,  918302.30348347],\n",
      "        [1245391.67945763,  651081.4374348 ,  918294.35473577]],\n",
      "\n",
      "       [[1245391.67945763,  651081.4374348 ,  918294.35473577],\n",
      "        [1245381.53431826,  651180.65562348,  918287.11564513]],\n",
      "\n",
      "       [[1245381.53431826,  651180.65562348,  918287.11564513],\n",
      "        [1245371.52932138,  651279.89277072,  918279.91226781]],\n",
      "\n",
      "       [[1245371.52932138,  651279.89277072,  918279.91226781],\n",
      "        [1245364.403763  ,  651379.46105417,  918274.07378008]],\n",
      "\n",
      "       [[1245364.403763  ,  651379.46105417,  918274.07378008],\n",
      "        [1245357.64162474,  651479.07113104,  918268.40755801]],\n",
      "\n",
      "       [[1245357.64162474,  651479.07113104,  918268.40755801],\n",
      "        [1245354.36901668,  651578.94707611,  918264.66427254]],\n",
      "\n",
      "       [[1245354.36901668,  651578.94707611,  918264.66427254],\n",
      "        [1245352.16094427,  651678.8537592 ,  918261.44129225]],\n",
      "\n",
      "       [[1245352.16094427,  651678.8537592 ,  918261.44129225],\n",
      "        [1245352.56415692,  651778.83394791,  918259.49211646]],\n",
      "\n",
      "       [[1245352.56415692,  651778.83394791,  918259.49211646],\n",
      "        [1245355.70345894,  651878.76489277,  918258.33071487]],\n",
      "\n",
      "       [[1245355.70345894,  651878.76489277,  918258.33071487],\n",
      "        [1245360.94859174,  651978.60998404,  918257.3571819 ]],\n",
      "\n",
      "       [[1245360.94859174,  651978.60998404,  918257.3571819 ],\n",
      "        [1245368.45172675,  652078.31723234,  918256.14869384]],\n",
      "\n",
      "       [[1245368.45172675,  652078.31723234,  918256.14869384],\n",
      "        [1245378.25769376,  652177.80484774,  918253.6875169 ]],\n",
      "\n",
      "       [[1245378.25769376,  652177.80484774,  918253.6875169 ],\n",
      "        [1245389.44106461,  652277.08704909,  918249.56411175]],\n",
      "\n",
      "       [[1245389.44106461,  652277.08704909,  918249.56411175],\n",
      "        [1245401.35529494,  652376.21924636,  918244.11265884]],\n",
      "\n",
      "       [[1245401.35529494,  652376.21924636,  918244.11265884],\n",
      "        [1245413.71486284,  652475.23814916,  918237.60537126]],\n",
      "\n",
      "       [[1245413.71486284,  652475.23814916,  918237.60537126],\n",
      "        [1245426.26971581,  652574.12777488,  918229.65442213]],\n",
      "\n",
      "       [[1245426.26971581,  652574.12777488,  918229.65442213],\n",
      "        [1245438.58350724,  652672.99910918,  918221.14577203]],\n",
      "\n",
      "       [[1245438.58350724,  652672.99910918,  918221.14577203],\n",
      "        [1245450.61500807,  652771.84902366,  918211.9840367 ]],\n",
      "\n",
      "       [[1245450.61500807,  652771.84902366,  918211.9840367 ],\n",
      "        [1245461.65252509,  652870.74315298,  918202.11575371]],\n",
      "\n",
      "       [[1245461.65252509,  652870.74315298,  918202.11575371],\n",
      "        [1245472.1951789 ,  652969.65929503,  918191.89571003]],\n",
      "\n",
      "       [[1245472.1951789 ,  652969.65929503,  918191.89571003],\n",
      "        [1245480.91015466,  653068.66623616,  918180.94661227]],\n",
      "\n",
      "       [[1245480.91015466,  653068.66623616,  918180.94661227],\n",
      "        [1245488.78101404,  653167.71511301,  918169.66079957]],\n",
      "\n",
      "       [[1245488.78101404,  653167.71511301,  918169.66079957],\n",
      "        [1245494.66329729,  653266.81115869,  918157.77149367]],\n",
      "\n",
      "       [[1245494.66329729,  653266.81115869,  918157.77149367],\n",
      "        [1245498.6969067 ,  653365.95105475,  918145.32115214]],\n",
      "\n",
      "       [[1245498.6969067 ,  653365.95105475,  918145.32115214],\n",
      "        [1245501.86759191,  653465.07436653,  918132.6318158 ]],\n",
      "\n",
      "       [[1245501.86759191,  653465.07436653,  918132.6318158 ],\n",
      "        [1245501.2762475 ,  653564.12537697,  918118.90055065]],\n",
      "\n",
      "       [[1245501.2762475 ,  653564.12537697,  918118.90055065],\n",
      "        [1245500.68490308,  653663.17638741,  918105.16928551]],\n",
      "\n",
      "       [[1245500.68490308,  653663.17638741,  918105.16928551],\n",
      "        [1245496.70893514,  653761.98659988,  918090.48045751]],\n",
      "\n",
      "       [[1245496.70893514,  653761.98659988,  918090.48045751],\n",
      "        [1245491.3792024 ,  653860.70049917,  918075.40862832]],\n",
      "\n",
      "       [[1245491.3792024 ,  653860.70049917,  918075.40862832],\n",
      "        [1245485.47364978,  653959.34273953,  918060.15822957]],\n",
      "\n",
      "       [[1245485.47364978,  653959.34273953,  918060.15822957],\n",
      "        [1245476.04028707,  654057.54595529,  918043.81380901]],\n",
      "\n",
      "       [[1245476.04028707,  654057.54595529,  918043.81380901],\n",
      "        [1245466.60692436,  654155.74917104,  918027.46938845]],\n",
      "\n",
      "       [[1245466.60692436,  654155.74917104,  918027.46938845],\n",
      "        [1245455.67202775,  654253.69416906,  918010.59244616]],\n",
      "\n",
      "       [[1245455.67202775,  654253.69416906,  918010.59244616],\n",
      "        [1245443.36854718,  654351.40381265,  917993.2301331 ]],\n",
      "\n",
      "       [[1245443.36854718,  654351.40381265,  917993.2301331 ],\n",
      "        [1245431.06506662,  654449.11345625,  917975.86782003]],\n",
      "\n",
      "       [[1245431.06506662,  654449.11345625,  917975.86782003],\n",
      "        [1245417.55744011,  654546.57290329,  917958.00472443]],\n",
      "\n",
      "       [[1245417.55744011,  654546.57290329,  917958.00472443],\n",
      "        [1245403.97468167,  654644.01673948,  917940.11038282]],\n",
      "\n",
      "       [[1245403.97468167,  654644.01673948,  917940.11038282],\n",
      "        [1245390.61541999,  654741.51067198,  917922.32288639]],\n",
      "\n",
      "       [[1245390.61541999,  654741.51067198,  917922.32288639],\n",
      "        [1245377.49486501,  654839.05811007,  917904.64950644]],\n",
      "\n",
      "       [[1245377.49486501,  654839.05811007,  917904.64950644],\n",
      "        [1245364.88966136,  654936.72045843,  917887.27259618]],\n",
      "\n",
      "       [[1245364.88966136,  654936.72045843,  917887.27259618],\n",
      "        [1245353.99563237,  655034.7643553 ,  917870.88008512]],\n",
      "\n",
      "       [[1245353.99563237,  655034.7643553 ,  917870.88008512],\n",
      "        [1245344.04417223,  655132.99233869,  917855.13274759]],\n",
      "\n",
      "       [[1245344.04417223,  655132.99233869,  917855.13274759],\n",
      "        [1245337.08756021,  655231.80522487,  917841.43533642]],\n",
      "\n",
      "       [[1245337.08756021,  655231.80522487,  917841.43533642],\n",
      "        [1245332.9914285 ,  655331.00832861,  917830.06303415]],\n",
      "\n",
      "       [[1245332.9914285 ,  655331.00832861,  917830.06303415],\n",
      "        [1245331.830223  ,  655430.5823127 ,  917821.11946124]],\n",
      "\n",
      "       [[1245331.830223  ,  655430.5823127 ,  917821.11946124],\n",
      "        [1245337.0020184 ,  655530.40640869,  917818.2207732 ]],\n",
      "\n",
      "       [[1245337.0020184 ,  655530.40640869,  917818.2207732 ],\n",
      "        [1245347.37576869,  655629.72809182,  917820.97312979]],\n",
      "\n",
      "       [[1245347.37576869,  655629.72809182,  917820.97312979],\n",
      "        [1245362.85897067,  655728.03357528,  917829.51916695]],\n",
      "\n",
      "       [[1245362.85897067,  655728.03357528,  917829.51916695],\n",
      "        [1245382.80257823,  655825.01306375,  917843.12584079]],\n",
      "\n",
      "       [[1245382.80257823,  655825.01306375,  917843.12584079],\n",
      "        [1245406.13553358,  655920.70373861,  917860.39595488]],\n",
      "\n",
      "       [[1245406.13553358,  655920.70373861,  917860.39595488],\n",
      "        [1245432.86790186,  656014.98321508,  917880.31481034]],\n",
      "\n",
      "       [[1245432.86790186,  656014.98321508,  917880.31481034],\n",
      "        [1245461.08502306,  656108.77151905,  917900.46132235]],\n",
      "\n",
      "       [[1245461.08502306,  656108.77151905,  917900.46132235],\n",
      "        [1245490.32107087,  656202.2275408 ,  917920.7380075 ]],\n",
      "\n",
      "       [[1245490.32107087,  656202.2275408 ,  917920.7380075 ],\n",
      "        [1245521.33990349,  656295.39418927,  917939.65381137]],\n",
      "\n",
      "       [[1245521.33990349,  656295.39418927,  917939.65381137],\n",
      "        [1245552.7683052 ,  656388.55619029,  917957.85794425]],\n",
      "\n",
      "       [[1245552.7683052 ,  656388.55619029,  917957.85794425],\n",
      "        [1245585.2334272 ,  656481.70642748,  917974.26066251]],\n",
      "\n",
      "       [[1245585.2334272 ,  656481.70642748,  917974.26066251],\n",
      "        [1245618.25780695,  656574.86819382,  917989.3450359 ]],\n",
      "\n",
      "       [[1245618.25780695,  656574.86819382,  917989.3450359 ],\n",
      "        [1245652.02860906,  656668.04534773,  918002.66985911]],\n",
      "\n",
      "       [[1245652.02860906,  656668.04534773,  918002.66985911],\n",
      "        [1245686.41623602,  656761.1906824 ,  918014.43657386]],\n",
      "\n",
      "       [[1245686.41623602,  656761.1906824 ,  918014.43657386],\n",
      "        [1245721.45866916,  656854.30223855,  918024.54923875]],\n",
      "\n",
      "       [[1245721.45866916,  656854.30223855,  918024.54923875],\n",
      "        [1245757.07085382,  656947.33458738,  918033.15083866]],\n",
      "\n",
      "       [[1245757.07085382,  656947.33458738,  918033.15083866],\n",
      "        [1245793.2860583 ,  657040.2831039 ,  918040.1531412 ]],\n",
      "\n",
      "       [[1245793.2860583 ,  657040.2831039 ,  918040.1531412 ],\n",
      "        [1245829.88763059,  657133.15958979,  918045.8037284 ]],\n",
      "\n",
      "       [[1245829.88763059,  657133.15958979,  918045.8037284 ],\n",
      "        [1245866.94820682,  657225.95050348,  918049.84848137]],\n",
      "\n",
      "       [[1245866.94820682,  657225.95050348,  918049.84848137],\n",
      "        [1245904.10225502,  657318.73765033,  918052.70633058]],\n",
      "\n",
      "       [[1245904.10225502,  657318.73765033,  918052.70633058],\n",
      "        [1245941.38520488,  657411.51960257,  918053.92739086]],\n",
      "\n",
      "       [[1245941.38520488,  657411.51960257,  918053.92739086],\n",
      "        [1245978.41406829,  657504.40166388,  918054.11133178]],\n",
      "\n",
      "       [[1245978.41406829,  657504.40166388,  918054.11133178],\n",
      "        [1246015.05587507,  657597.43622399,  918052.71540129]],\n",
      "\n",
      "       [[1246015.05587507,  657597.43622399,  918052.71540129],\n",
      "        [1246051.0390493 ,  657690.70055135,  918050.44583267]],\n",
      "\n",
      "       [[1246051.0390493 ,  657690.70055135,  918050.44583267],\n",
      "        [1246086.06024355,  657784.30047025,  918046.90025301]],\n",
      "\n",
      "       [[1246086.06024355,  657784.30047025,  918046.90025301],\n",
      "        [1246119.87384738,  657878.30678527,  918042.75191442]],\n",
      "\n",
      "       [[1246119.87384738,  657878.30678527,  918042.75191442],\n",
      "        [1246152.32336575,  657972.77216243,  918037.92270367]],\n",
      "\n",
      "       [[1246152.32336575,  657972.77216243,  918037.92270367],\n",
      "        [1246182.79626229,  658067.87489826,  918033.0315137 ]],\n",
      "\n",
      "       [[1246182.79626229,  658067.87489826,  918033.0315137 ],\n",
      "        [1246211.91917481,  658163.41293438,  918028.09799346]],\n",
      "\n",
      "       [[1246211.91917481,  658163.41293438,  918028.09799346],\n",
      "        [1246238.18877613,  658259.79532683,  918023.90939174]],\n",
      "\n",
      "       [[1246238.18877613,  658259.79532683,  918023.90939174],\n",
      "        [1246263.60986826,  658356.42881145,  918019.94231168]],\n",
      "\n",
      "       [[1246263.60986826,  658356.42881145,  918019.94231168],\n",
      "        [1246285.519883  ,  658453.95999272,  918017.2612122 ]],\n",
      "\n",
      "       [[1246285.519883  ,  658453.95999272,  918017.2612122 ],\n",
      "        [1246306.81242007,  658551.62606314,  918014.72026077]],\n",
      "\n",
      "       [[1246306.81242007,  658551.62606314,  918014.72026077],\n",
      "        [1246325.40045194,  658649.86290309,  918012.7181748 ]],\n",
      "\n",
      "       [[1246325.40045194,  658649.86290309,  918012.7181748 ],\n",
      "        [1246343.12124914,  658748.24474082,  918010.46452967]],\n",
      "\n",
      "       [[1246343.12124914,  658748.24474082,  918010.46452967],\n",
      "        [1246358.86326034,  658846.95742277,  918007.6368972 ]],\n",
      "\n",
      "       [[1246358.86326034,  658846.95742277,  918007.6368972 ],\n",
      "        [1246373.53499389,  658945.78630388,  918003.84704313]],\n",
      "\n",
      "       [[1246373.53499389,  658945.78630388,  918003.84704313],\n",
      "        [1246386.54884694,  659044.79517972,  917998.56668941]]])])\n"
     ]
    },
    {
     "name": "stdout",
     "output_type": "stream",
     "text": [
      "base_final_widths = [286.08045254 239.83117497]\n",
      "overall_ais_width = 211.43902534388522\n",
      "ais_width = 262.955813753802\n",
      "Adding the following branches as true axons: [ 0.  1.  2.  3.  4.  5.  6.  7.  8.  9. 10. 11. 12. 13. 14. 15. 16. 17.\n",
      " 18. 19. 20. 21. 22. 23. 24. 25. 26. 27. 28. 29. 30. 31. 32. 33. 34. 35.\n",
      " 36. 37. 38. 39. 40. 41. 42. 43. 44. 45. 46. 47. 48. 49. 50. 51. 52. 53.\n",
      " 54. 55. 56. 57. 58. 59. 60. 61. 62.]\n",
      "curr_soma_angle = 163.9\n",
      "max_axon_angle = 175.39361506786526\n",
      "Changing to a better axon candidate\n",
      "\n",
      "\n",
      " --- Working on limb 2, candidate # 0\n",
      "0 out of 3 branches are axons\n",
      "Axon percentage = 0.0\n",
      "Not adding candidate no axon branches detected \n",
      "\n",
      "\n",
      " --- Working on limb 2, candidate # 1\n",
      "0 out of 1 branches are axons\n",
      "Axon percentage = 0.0\n",
      "Not adding candidate no axon branches detected \n",
      "\n",
      "\n",
      " --- Working on limb 3, candidate # 0\n",
      "0 out of 1 branches are axons\n",
      "Axon percentage = 0.0\n",
      "Not adding candidate no axon branches detected \n",
      "\n",
      "\n",
      " --- Working on limb 3, candidate # 1\n",
      "0 out of 3 branches are axons\n",
      "Axon percentage = 0.0\n",
      "Not adding candidate no axon branches detected \n",
      "\n",
      "\n",
      " --- Working on limb 4, candidate # 0\n",
      "0 out of 5 branches are axons\n",
      "Axon percentage = 0.0\n",
      "Not adding candidate no axon branches detected \n",
      "\n",
      "\n",
      " --- Working on limb 6, candidate # 0\n",
      "0 out of 1 branches are axons\n",
      "Axon percentage = 0.0\n",
      "Not adding candidate no axon branches detected \n",
      "\n",
      "\n",
      " --- Working on limb 6, candidate # 1\n",
      "0 out of 5 branches are axons\n",
      "Axon percentage = 0.0\n",
      "Not adding candidate no axon branches detected \n",
      "\n",
      "\n",
      " --- Working on limb 6, candidate # 2\n",
      "1 out of 1 branches are axons\n",
      "Axon percentage = 1.0\n",
      "curr_axon_angle_threshold = 95\n",
      "candidate_nodes = [0 2 3]\n",
      "non_axon_branches_on_subgraph = [0 2]\n",
      "endnodes_to_test = [47]\n",
      "Skeleton paths distances = [9101.91122551]\n",
      "Filtered indexes = []\n",
      "len(filtered_skeletons) = 1\n",
      "sk_angles = [89.43295407]\n",
      "candidate_angles,restr_skels = (array([89.43295407]), [array([[[1253045.78238725,  631563.97505927,  913267.50750992],\n",
      "        [1253090.0894299 ,  631563.36164192,  913177.86092777]],\n",
      "\n",
      "       [[1253090.0894299 ,  631563.36164192,  913177.86092777],\n",
      "        [1253131.96220095,  631562.58727273,  913087.09216404]],\n",
      "\n",
      "       [[1253131.96220095,  631562.58727273,  913087.09216404],\n",
      "        [1253171.43714163,  631561.65436117,  912995.21801787]],\n",
      "\n",
      "       [[1253171.43714163,  631561.65436117,  912995.21801787],\n",
      "        [1253208.55652797,  631560.63306765,  912902.39576327]],\n",
      "\n",
      "       [[1253208.55652797,  631560.63306765,  912902.39576327],\n",
      "        [1253243.80136631,  631559.54143984,  912808.81900483]],\n",
      "\n",
      "       [[1253243.80136631,  631559.54143984,  912808.81900483],\n",
      "        [1253276.85004776,  631558.42578499,  912714.46130002]],\n",
      "\n",
      "       [[1253276.85004776,  631558.42578499,  912714.46130002],\n",
      "        [1253308.62008872,  631557.29614118,  912619.64891475]],\n",
      "\n",
      "       [[1253308.62008872,  631557.29614118,  912619.64891475],\n",
      "        [1253338.10319532,  631556.19445533,  912524.10504677]],\n",
      "\n",
      "       [[1253338.10319532,  631556.19445533,  912524.10504677],\n",
      "        [1253366.47668021,  631555.1199037 ,  912428.22516264]],\n",
      "\n",
      "       [[1253366.47668021,  631555.1199037 ,  912428.22516264],\n",
      "        [1253389.62760046,  631554.23759899,  912345.68182814]]])])\n",
      "Not adding candidate because no angles ([89.43295407]) passed the threhold 95 \n",
      "Using the best axon approach\n",
      "Using True\n",
      "Limb L0: Axon branches before dendritic path filter = [ 0.  1.  2.  3.  4.  5.  6.  7.  8.  9. 10. 11. 12. 13. 14. 15. 16. 17.\n",
      " 18. 19. 20. 21. 22. 23. 24. 25. 26. 27. 28. 29. 30. 31. 32. 33. 34. 35.\n",
      " 36. 37. 38. 39. 40. 41. 42. 43. 44. 45. 46. 47. 48. 49. 50. 51. 52. 53.\n",
      " 54. 55. 56. 57. 58. 59. 60. 61. 62.]\n",
      "Limb L0: Axon branches AFTER dendritic path filter = [ 0.  1.  2.  3.  4.  5.  6.  7.  8.  9. 10. 11. 12. 13. 14. 15. 16. 17.\n",
      " 18. 19. 20. 21. 22. 23. 24. 25. 26. 27. 28. 29. 30. 31. 32. 33. 34. 35.\n",
      " 36. 37. 38. 39. 40. 41. 42. 43. 44. 45. 46. 47. 48. 49. 50. 51. 52. 53.\n",
      " 54. 55. 56. 57. 58. 59. 60. 61. 62.]\n",
      "\n",
      "\n",
      "Part 4: final_true_axons = {'L0': array([ 0.,  1.,  2.,  3.,  4.,  5.,  6.,  7.,  8.,  9., 10., 11., 12.,\n",
      "       13., 14., 15., 16., 17., 18., 19., 20., 21., 22., 23., 24., 25.,\n",
      "       26., 27., 28., 29., 30., 31., 32., 33., 34., 35., 36., 37., 38.,\n",
      "       39., 40., 41., 42., 43., 44., 45., 46., 47., 48., 49., 50., 51.,\n",
      "       52., 53., 54., 55., 56., 57., 58., 59., 60., 61., 62.])}\n",
      "\n",
      " Working on visualization type: mesh\n"
     ]
    },
    {
     "data": {
      "application/vnd.jupyter.widget-view+json": {
       "model_id": "5f6a668db9ff4a7aa0aefd2c97c1c440",
       "version_major": 2,
       "version_minor": 0
      },
      "text/plain": [
       "VBox(children=(Figure(camera=PerspectiveCamera(fov=46.0, position=(0.0, 0.0, 2.0), projectionMatrix=(1.0, 0.0,…"
      ]
     },
     "metadata": {},
     "output_type": "display_data"
    },
    {
     "data": {
      "text/plain": [
       "({'L0': array([ 0.,  1.,  2.,  3.,  4.,  5.,  6.,  7.,  8.,  9., 10., 11., 12.,\n",
       "         13., 14., 15., 16., 17., 18., 19., 20., 21., 22., 23., 24., 25.,\n",
       "         26., 27., 28., 29., 30., 31., 32., 33., 34., 35., 36., 37., 38.,\n",
       "         39., 40., 41., 42., 43., 44., 45., 46., 47., 48., 49., 50., 51.,\n",
       "         52., 53., 54., 55., 56., 57., 58., 59., 60., 61., 62.])},\n",
       " {'L1': array([4]), 'L6': array([3])})"
      ]
     },
     "execution_count": 10,
     "metadata": {},
     "output_type": "execute_result"
    }
   ],
   "source": [
    "clu.axon_classification(neuron_obj,\n",
    "                       plot_axons=True)"
   ]
  },
  {
   "cell_type": "code",
   "execution_count": 11,
   "metadata": {
    "scrolled": false
   },
   "outputs": [
    {
     "name": "stdout",
     "output_type": "stream",
     "text": [
      "\n",
      " Working on visualization type: mesh\n",
      "\n",
      " Working on visualization type: skeleton\n"
     ]
    },
    {
     "data": {
      "application/vnd.jupyter.widget-view+json": {
       "model_id": "ddcdfde98a354eb1a02a311dd208e536",
       "version_major": 2,
       "version_minor": 0
      },
      "text/plain": [
       "VBox(children=(Figure(camera=PerspectiveCamera(fov=46.0, position=(0.0, 0.0, 2.0), projectionMatrix=(1.0, 0.0,…"
      ]
     },
     "metadata": {},
     "output_type": "display_data"
    }
   ],
   "source": [
    "nviz.plot_axon(neuron_obj,skeleton = True)"
   ]
  },
  {
   "cell_type": "markdown",
   "metadata": {},
   "source": [
    "# Filtering Dendrite on Axon then recomputing High Fidelity Axon"
   ]
  },
  {
   "cell_type": "code",
   "execution_count": 12,
   "metadata": {},
   "outputs": [
    {
     "name": "stdout",
     "output_type": "stream",
     "text": [
      "\n",
      "--- Working on filter 0:\n",
      "function = dendrite_on_axon_merges\n",
      "function __name__ = filter_away_dendrite_on_axon_merges\n",
      "function arguments = {'use_pre_existing_axon_labels': True}\n",
      "\n",
      "\n",
      "\n",
      "\n",
      "\n",
      " ---- Total time for applying filter: 0.4126777648925781 -----\n"
     ]
    }
   ],
   "source": [
    "plot_limb_branch_filter_with_disconnect_effect = False\n",
    "verbose = False\n",
    "verbose_outline = True\n",
    "\n",
    "pre_filters = pru.get_exc_filters_high_fidelity_axon_preprocessing()\n",
    "o_neuron_pre, filtering_info_pre = pru.apply_proofreading_filters_to_neuron(input_neuron = neuron_obj,\n",
    "                                        filter_list = pre_filters,\n",
    "                    plot_limb_branch_filter_with_disconnect_effect=plot_limb_branch_filter_with_disconnect_effect,\n",
    "                                        plot_limb_branch_filter_away=False,\n",
    "                                        plot_final_neuron=False,\n",
    "\n",
    "                                        return_error_info=True,\n",
    "                                         verbose=verbose,\n",
    "                                        verbose_outline=verbose_outline)"
   ]
  },
  {
   "cell_type": "code",
   "execution_count": 13,
   "metadata": {
    "scrolled": true
   },
   "outputs": [
    {
     "name": "stdout",
     "output_type": "stream",
     "text": [
      "Starting axon branch was the starting node so using border vertices and NOT computing upstream branch\n",
      "upstream_node_to_axon_starting_branch = None\n"
     ]
    },
    {
     "name": "stderr",
     "output_type": "stream",
     "text": [
      "\r",
      "  0%|          | 0/1 [00:00<?, ?it/s]"
     ]
    },
    {
     "name": "stdout",
     "output_type": "stream",
     "text": [
      "root_curr = [1244453.   639584.   918857.6]\n",
      "Time for preparing soma vertices and root: 0.003618478775024414\n",
      "invalidation_d = 2000\n",
      "cc_vertex_thresh = 10\n"
     ]
    },
    {
     "data": {
      "application/vnd.jupyter.widget-view+json": {
       "model_id": "d069a210c9f447ceb766e1c3dff7cb3c",
       "version_major": 2,
       "version_minor": 0
      },
      "text/plain": [
       "  0%|          | 0/127411 [00:00<?, ?it/s]"
      ]
     },
     "metadata": {},
     "output_type": "display_data"
    },
    {
     "name": "stderr",
     "output_type": "stream",
     "text": [
      "100%|██████████| 1/1 [00:04<00:00,  4.43s/it]\n"
     ]
    },
    {
     "name": "stdout",
     "output_type": "stream",
     "text": [
      "meshparty_segment_size = 100\n",
      "Time for 1st pass MP skeletonization: 5.546816110610962\n",
      "connecting at the root\n",
      "branches_touching_root = [138]\n",
      "combining close nodes\n",
      "combine_threshold = 1300\n",
      "length of Graph = 37504\n",
      "After combining close endpoints max(kept_branches_idx) = 138, len(kept_branches_idx) = 134\n",
      "empty_indices % = 0.0\n",
      " conflict_indices % = 0.010037700468399758\n"
     ]
    },
    {
     "data": {
      "application/vnd.jupyter.widget-view+json": {
       "model_id": "93c4725cd6f14d5da5becd38c89aceca",
       "version_major": 2,
       "version_minor": 0
      },
      "text/plain": [
       "  0%|          | 0/64 [00:00<?, ?it/s]"
      ]
     },
     "metadata": {},
     "output_type": "display_data"
    },
    {
     "name": "stdout",
     "output_type": "stream",
     "text": [
      "AFTER face_lookup_resolved_test\n"
     ]
    },
    {
     "data": {
      "application/vnd.jupyter.widget-view+json": {
       "model_id": "ec15339d6a18434b84e731cb875d8233",
       "version_major": 2,
       "version_minor": 0
      },
      "text/plain": [
       "  0%|          | 0/134 [00:00<?, ?it/s]"
      ]
     },
     "metadata": {},
     "output_type": "display_data"
    },
    {
     "name": "stdout",
     "output_type": "stream",
     "text": [
      "Decomposing first pass: 17.338001012802124\n",
      "Only Using MeshParty Skeletonization and Mesh Correspondence\n",
      "Another print\n",
      "Divinding into MP and MAP pieces: 5.91278076171875e-05\n",
      "Total time for MAP sublimb processing 5.245208740234375e-06\n",
      "---- Working on MP Decomposition #0 ----\n",
      "Using Quicker soma_to_piece_touching_vertices because no MAP and only one sublimb_mesh piece \n",
      "MP filtering soma verts: 0.00024628639221191406\n",
      "Fixing Possible Soma Extension Branch for Sublimb 0\n",
      "Total time for mesh KDTree = 0.16279292106628418\n",
      "sbv[0].reshape(-1,3) = [[1244453.   639584.   918857.6]]\n",
      "closest_sk_pt_coord BEFORE = [1243887.22682918  639810.32696763  919335.60011188]\n",
      "current_skeleton.shape = (710, 2, 3)\n",
      "node_for_stitch = 0: [1243887.22682918  639810.32696763  919335.60011188]\n",
      "node_for_stitch AFTER = 0: [1243887.22682918  639810.32696763  919335.60011188]\n",
      "possible_node_loc = [  0 508]\n",
      "possible_node_loc AFTER = [  0 508]\n",
      "curr_shortest_path = [0]\n",
      "Current stitch point was a branch or endpoint\n",
      "change_status for create soma extending pieces = False\n",
      "closest_sk_pt_coord AFTER = [1243887.22682918  639810.32696763  919335.60011188]\n",
      "skipping soma 0 because closest skeleton node was already end node\n",
      "endpoints_must_keep = {0: array([[1243887.22682918,  639810.32696763,  919335.60011188]])}\n",
      "match_sk_branches = [133]\n",
      "The new branch info was none so skipping \n",
      "\n",
      "No soma extending branch was added for this sublimb even though it had a soma border (means they already existed)\n",
      "MP (because soma touching verts) soma extension add: 3.5032894611358643\n",
      "There were not both MAP and MP pieces so skipping the stitch resolving phase\n",
      "Time for decomp of Limb = 27.645556688308716\n",
      "Number of matching vertices = 17\n",
      "Only one endpoint after filtering away the endpoints that are not on the skeleton\n",
      "Using Distance measure skeletal_distance\n",
      "endpoints_must_keep = [[1243887.22682918  639810.32696763  919335.60011188]]\n",
      "Number of end_nodes BEFORE filtering = 71\n",
      "all_single_nodes_to_eliminate = [29]\n"
     ]
    },
    {
     "data": {
      "application/vnd.jupyter.widget-view+json": {
       "model_id": "b57d86ab400f4b68bed649fdbff94bbe",
       "version_major": 2,
       "version_minor": 0
      },
      "text/plain": [
       "  0%|          | 0/7 [00:00<?, ?it/s]"
      ]
     },
     "metadata": {},
     "output_type": "display_data"
    },
    {
     "name": "stdout",
     "output_type": "stream",
     "text": [
      "Removed 7 skeletal branches\n"
     ]
    },
    {
     "data": {
      "application/vnd.jupyter.widget-view+json": {
       "model_id": "fe8c11ba24064a878822c02906be7fc0",
       "version_major": 2,
       "version_minor": 0
      },
      "text/plain": [
       "  0%|          | 0/134 [00:00<?, ?it/s]"
      ]
     },
     "metadata": {},
     "output_type": "display_data"
    },
    {
     "name": "stdout",
     "output_type": "stream",
     "text": [
      "253868 253869\n",
      "For marked faces: None\n",
      "empty_indices % = 0.00024028140497658242\n",
      " conflict_indices % = 0.0\n"
     ]
    },
    {
     "data": {
      "application/vnd.jupyter.widget-view+json": {
       "model_id": "67064385c9fd49bfa52cf693224e3061",
       "version_major": 2,
       "version_minor": 0
      },
      "text/plain": [
       "  0%|          | 0/1 [00:00<?, ?it/s]"
      ]
     },
     "metadata": {},
     "output_type": "display_data"
    },
    {
     "name": "stdout",
     "output_type": "stream",
     "text": [
      "AFTER face_lookup_resolved_test\n"
     ]
    },
    {
     "data": {
      "application/vnd.jupyter.widget-view+json": {
       "model_id": "f874109f1e954c6fb65aca9d3cfe8166",
       "version_major": 2,
       "version_minor": 0
      },
      "text/plain": [
       "  0%|          | 0/121 [00:00<?, ?it/s]"
      ]
     },
     "metadata": {},
     "output_type": "display_data"
    },
    {
     "name": "stdout",
     "output_type": "stream",
     "text": [
      "Limb Correspondence before stitching = 121\n",
      "Limb Correspondence AFTER stitching = 121\n",
      "Upstream node was None so don't have to adjust\n",
      "concept_network_dict = {0: [<networkx_utils.GraphOrderedEdges object at 0x7f6fdf8cb240>]}\n",
      "Assigning the old width calculation because no valid new widths\n",
      "\n",
      "\n",
      "----Working on seperate_graph 0----\n",
      "\n",
      "\n",
      "---------Working on soma_idx = 0, soma_group_idx 0, endpt = [1243887.22682918  639810.32696763  919335.60011188]---------\n",
      "Starting_edge inside branches_to_conept = [[1243887.22682918  639810.32696763  919335.60011188]\n",
      " [1247339.58562196  706579.08494556  916647.93847151]]\n",
      "At the start, starting_node (in terms of the skeleton, that shouldn't match the starting edge) = [54]\n",
      "printing out current edge:\n",
      "[[1243887.22682918  639810.32696763  919335.60011188]\n",
      " [1247339.58562196  706579.08494556  916647.93847151]]\n",
      "edge_endpoints_to_process was empty so exiting loop after 121 iterations\n",
      "starting_node in concept map (that should match the starting edge) = 59\n",
      "Total time for branches to concept conversion = 2.3458869457244873\n",
      "\n",
      "Done generating concept network \n",
      "\n",
      "\n"
     ]
    }
   ],
   "source": [
    "# Getting the high fidelity axon\n",
    "neuron_obj_high_fid_axon = pru.refine_axon_for_high_fidelity_skeleton(o_neuron_pre)"
   ]
  },
  {
   "cell_type": "code",
   "execution_count": 14,
   "metadata": {},
   "outputs": [
    {
     "name": "stdout",
     "output_type": "stream",
     "text": [
      "\n",
      " Working on visualization type: mesh\n",
      "\n",
      " Working on visualization type: skeleton\n"
     ]
    },
    {
     "data": {
      "application/vnd.jupyter.widget-view+json": {
       "model_id": "f7b84672d0de4fa69dfa8ac4c18a8b82",
       "version_major": 2,
       "version_minor": 0
      },
      "text/plain": [
       "VBox(children=(Figure(camera=PerspectiveCamera(fov=46.0, position=(0.0, 0.0, 2.0), projectionMatrix=(1.0, 0.0,…"
      ]
     },
     "metadata": {},
     "output_type": "display_data"
    }
   ],
   "source": [
    "nviz.plot_axon(neuron_obj_high_fid_axon)"
   ]
  },
  {
   "cell_type": "markdown",
   "metadata": {},
   "source": [
    "# Computing the Boutons of the Axon"
   ]
  },
  {
   "cell_type": "code",
   "execution_count": 51,
   "metadata": {
    "scrolled": true
   },
   "outputs": [
    {
     "data": {
      "application/vnd.jupyter.widget-view+json": {
       "model_id": "022ec72bd669486d957adb71c1b19132",
       "version_major": 2,
       "version_minor": 0
      },
      "text/plain": [
       "  0%|          | 0/112 [00:00<?, ?it/s]"
      ]
     },
     "metadata": {},
     "output_type": "display_data"
    },
    {
     "data": {
      "application/vnd.jupyter.widget-view+json": {
       "model_id": "311d3531078c43fc9563c77c1a7ba8b2",
       "version_major": 2,
       "version_minor": 0
      },
      "text/plain": [
       "  0%|          | 0/5 [00:00<?, ?it/s]"
      ]
     },
     "metadata": {},
     "output_type": "display_data"
    },
    {
     "data": {
      "application/vnd.jupyter.widget-view+json": {
       "model_id": "f207935656564f878a20a14cad91ae67",
       "version_major": 2,
       "version_minor": 0
      },
      "text/plain": [
       "  0%|          | 0/7 [00:00<?, ?it/s]"
      ]
     },
     "metadata": {},
     "output_type": "display_data"
    },
    {
     "data": {
      "application/vnd.jupyter.widget-view+json": {
       "model_id": "a7095759910f44489a75fee7b57222d1",
       "version_major": 2,
       "version_minor": 0
      },
      "text/plain": [
       "  0%|          | 0/41 [00:00<?, ?it/s]"
      ]
     },
     "metadata": {},
     "output_type": "display_data"
    },
    {
     "data": {
      "application/vnd.jupyter.widget-view+json": {
       "model_id": "66399da9459142a7b1326baeecd08c28",
       "version_major": 2,
       "version_minor": 0
      },
      "text/plain": [
       "  0%|          | 0/5 [00:00<?, ?it/s]"
      ]
     },
     "metadata": {},
     "output_type": "display_data"
    },
    {
     "data": {
      "application/vnd.jupyter.widget-view+json": {
       "model_id": "7c538cb317cc48cdaa2e5dc91b37f34c",
       "version_major": 2,
       "version_minor": 0
      },
      "text/plain": [
       "  0%|          | 0/2 [00:00<?, ?it/s]"
      ]
     },
     "metadata": {},
     "output_type": "display_data"
    },
    {
     "data": {
      "application/vnd.jupyter.widget-view+json": {
       "model_id": "f278d4c9b08e4c6c91ba50132be2a51d",
       "version_major": 2,
       "version_minor": 0
      },
      "text/plain": [
       "  0%|          | 0/37 [00:00<?, ?it/s]"
      ]
     },
     "metadata": {},
     "output_type": "display_data"
    },
    {
     "data": {
      "application/vnd.jupyter.widget-view+json": {
       "model_id": "257742341a154a48854c527bf3ae32ec",
       "version_major": 2,
       "version_minor": 0
      },
      "text/plain": [
       "  0%|          | 0/21 [00:00<?, ?it/s]"
      ]
     },
     "metadata": {},
     "output_type": "display_data"
    },
    {
     "data": {
      "application/vnd.jupyter.widget-view+json": {
       "model_id": "c27096e8d8384f3a8ed33ed7c4c9edda",
       "version_major": 2,
       "version_minor": 0
      },
      "text/plain": [
       "  0%|          | 0/23 [00:00<?, ?it/s]"
      ]
     },
     "metadata": {},
     "output_type": "display_data"
    },
    {
     "data": {
      "application/vnd.jupyter.widget-view+json": {
       "model_id": "6c01519443d840f79d85d9888816e7d8",
       "version_major": 2,
       "version_minor": 0
      },
      "text/plain": [
       "  0%|          | 0/8 [00:00<?, ?it/s]"
      ]
     },
     "metadata": {},
     "output_type": "display_data"
    },
    {
     "data": {
      "application/vnd.jupyter.widget-view+json": {
       "model_id": "9e396ea813de4c2ea31455c28a887144",
       "version_major": 2,
       "version_minor": 0
      },
      "text/plain": [
       "  0%|          | 0/101 [00:00<?, ?it/s]"
      ]
     },
     "metadata": {},
     "output_type": "display_data"
    },
    {
     "data": {
      "application/vnd.jupyter.widget-view+json": {
       "model_id": "b40930c340004be3925f55ff9a07359a",
       "version_major": 2,
       "version_minor": 0
      },
      "text/plain": [
       "  0%|          | 0/15 [00:00<?, ?it/s]"
      ]
     },
     "metadata": {},
     "output_type": "display_data"
    },
    {
     "data": {
      "application/vnd.jupyter.widget-view+json": {
       "model_id": "63a0d62f5165409d86df8f9775c61ad6",
       "version_major": 2,
       "version_minor": 0
      },
      "text/plain": [
       "  0%|          | 0/3 [00:00<?, ?it/s]"
      ]
     },
     "metadata": {},
     "output_type": "display_data"
    },
    {
     "data": {
      "application/vnd.jupyter.widget-view+json": {
       "model_id": "b473d289e3d24c09b45df1d00ee55ae0",
       "version_major": 2,
       "version_minor": 0
      },
      "text/plain": [
       "  0%|          | 0/38 [00:00<?, ?it/s]"
      ]
     },
     "metadata": {},
     "output_type": "display_data"
    },
    {
     "data": {
      "application/vnd.jupyter.widget-view+json": {
       "model_id": "23ba25c34c154e38a7e649308d51e7ae",
       "version_major": 2,
       "version_minor": 0
      },
      "text/plain": [
       "  0%|          | 0/32 [00:00<?, ?it/s]"
      ]
     },
     "metadata": {},
     "output_type": "display_data"
    },
    {
     "data": {
      "application/vnd.jupyter.widget-view+json": {
       "model_id": "34d27dfe2627434f859259fd6bcf3efb",
       "version_major": 2,
       "version_minor": 0
      },
      "text/plain": [
       "  0%|          | 0/7 [00:00<?, ?it/s]"
      ]
     },
     "metadata": {},
     "output_type": "display_data"
    },
    {
     "data": {
      "application/vnd.jupyter.widget-view+json": {
       "model_id": "672c3680b4964ac09ec0944f88f3d43c",
       "version_major": 2,
       "version_minor": 0
      },
      "text/plain": [
       "  0%|          | 0/46 [00:00<?, ?it/s]"
      ]
     },
     "metadata": {},
     "output_type": "display_data"
    },
    {
     "data": {
      "application/vnd.jupyter.widget-view+json": {
       "model_id": "d3c19514ef5a496cb0047e632f971694",
       "version_major": 2,
       "version_minor": 0
      },
      "text/plain": [
       "  0%|          | 0/30 [00:00<?, ?it/s]"
      ]
     },
     "metadata": {},
     "output_type": "display_data"
    },
    {
     "data": {
      "application/vnd.jupyter.widget-view+json": {
       "model_id": "1d1c776522ee48a7bafb692527f396bd",
       "version_major": 2,
       "version_minor": 0
      },
      "text/plain": [
       "  0%|          | 0/123 [00:00<?, ?it/s]"
      ]
     },
     "metadata": {},
     "output_type": "display_data"
    },
    {
     "data": {
      "application/vnd.jupyter.widget-view+json": {
       "model_id": "9beb0c63890549ce9ba2553d3d608acf",
       "version_major": 2,
       "version_minor": 0
      },
      "text/plain": [
       "  0%|          | 0/65 [00:00<?, ?it/s]"
      ]
     },
     "metadata": {},
     "output_type": "display_data"
    },
    {
     "data": {
      "application/vnd.jupyter.widget-view+json": {
       "model_id": "4815f299847846ccaef4f1027a75e5af",
       "version_major": 2,
       "version_minor": 0
      },
      "text/plain": [
       "  0%|          | 0/10 [00:00<?, ?it/s]"
      ]
     },
     "metadata": {},
     "output_type": "display_data"
    },
    {
     "data": {
      "application/vnd.jupyter.widget-view+json": {
       "model_id": "2bc8371c842d4dcc80f0548f51631fa6",
       "version_major": 2,
       "version_minor": 0
      },
      "text/plain": [
       "  0%|          | 0/16 [00:00<?, ?it/s]"
      ]
     },
     "metadata": {},
     "output_type": "display_data"
    },
    {
     "data": {
      "application/vnd.jupyter.widget-view+json": {
       "model_id": "ba4ea15502c140018fdc651a6c72e3fc",
       "version_major": 2,
       "version_minor": 0
      },
      "text/plain": [
       "  0%|          | 0/6 [00:00<?, ?it/s]"
      ]
     },
     "metadata": {},
     "output_type": "display_data"
    },
    {
     "data": {
      "application/vnd.jupyter.widget-view+json": {
       "model_id": "e138c543ff1f42d0bab28a67ccc85222",
       "version_major": 2,
       "version_minor": 0
      },
      "text/plain": [
       "  0%|          | 0/47 [00:00<?, ?it/s]"
      ]
     },
     "metadata": {},
     "output_type": "display_data"
    },
    {
     "data": {
      "application/vnd.jupyter.widget-view+json": {
       "model_id": "52400364843c4aa6ae1285338451e4e0",
       "version_major": 2,
       "version_minor": 0
      },
      "text/plain": [
       "  0%|          | 0/24 [00:00<?, ?it/s]"
      ]
     },
     "metadata": {},
     "output_type": "display_data"
    },
    {
     "data": {
      "application/vnd.jupyter.widget-view+json": {
       "model_id": "31e74d12e2564fcf85f63dbe4f9b930e",
       "version_major": 2,
       "version_minor": 0
      },
      "text/plain": [
       "  0%|          | 0/1 [00:00<?, ?it/s]"
      ]
     },
     "metadata": {},
     "output_type": "display_data"
    },
    {
     "data": {
      "application/vnd.jupyter.widget-view+json": {
       "model_id": "ceec96bacb7149c7b0159ff5fb79a723",
       "version_major": 2,
       "version_minor": 0
      },
      "text/plain": [
       "  0%|          | 0/3 [00:00<?, ?it/s]"
      ]
     },
     "metadata": {},
     "output_type": "display_data"
    },
    {
     "data": {
      "application/vnd.jupyter.widget-view+json": {
       "model_id": "91faaf0c3b12484691426fbd5304ffac",
       "version_major": 2,
       "version_minor": 0
      },
      "text/plain": [
       "  0%|          | 0/2 [00:00<?, ?it/s]"
      ]
     },
     "metadata": {},
     "output_type": "display_data"
    },
    {
     "data": {
      "application/vnd.jupyter.widget-view+json": {
       "model_id": "2d0afcd750534df79afd48f38a9c55d4",
       "version_major": 2,
       "version_minor": 0
      },
      "text/plain": [
       "  0%|          | 0/13 [00:00<?, ?it/s]"
      ]
     },
     "metadata": {},
     "output_type": "display_data"
    },
    {
     "data": {
      "application/vnd.jupyter.widget-view+json": {
       "model_id": "6c9f2c769b79487daf49cdc690955396",
       "version_major": 2,
       "version_minor": 0
      },
      "text/plain": [
       "  0%|          | 0/6 [00:00<?, ?it/s]"
      ]
     },
     "metadata": {},
     "output_type": "display_data"
    },
    {
     "data": {
      "application/vnd.jupyter.widget-view+json": {
       "model_id": "468568fb1c3745c795c948dc99593b1f",
       "version_major": 2,
       "version_minor": 0
      },
      "text/plain": [
       "  0%|          | 0/28 [00:00<?, ?it/s]"
      ]
     },
     "metadata": {},
     "output_type": "display_data"
    },
    {
     "data": {
      "application/vnd.jupyter.widget-view+json": {
       "model_id": "49fbfc56a2ae4857b4925798af952d7f",
       "version_major": 2,
       "version_minor": 0
      },
      "text/plain": [
       "  0%|          | 0/15 [00:00<?, ?it/s]"
      ]
     },
     "metadata": {},
     "output_type": "display_data"
    },
    {
     "data": {
      "application/vnd.jupyter.widget-view+json": {
       "model_id": "cf7cae7829bd46d09dae8646a2bd55c8",
       "version_major": 2,
       "version_minor": 0
      },
      "text/plain": [
       "  0%|          | 0/21 [00:00<?, ?it/s]"
      ]
     },
     "metadata": {},
     "output_type": "display_data"
    },
    {
     "data": {
      "application/vnd.jupyter.widget-view+json": {
       "model_id": "c1bae9bd7528437387ada54e159562d5",
       "version_major": 2,
       "version_minor": 0
      },
      "text/plain": [
       "  0%|          | 0/35 [00:00<?, ?it/s]"
      ]
     },
     "metadata": {},
     "output_type": "display_data"
    },
    {
     "data": {
      "application/vnd.jupyter.widget-view+json": {
       "model_id": "5a385291a9dd4b128329a23148d0a8e4",
       "version_major": 2,
       "version_minor": 0
      },
      "text/plain": [
       "  0%|          | 0/37 [00:00<?, ?it/s]"
      ]
     },
     "metadata": {},
     "output_type": "display_data"
    },
    {
     "data": {
      "application/vnd.jupyter.widget-view+json": {
       "model_id": "ef905018c7b948e2971ac8732787bdbd",
       "version_major": 2,
       "version_minor": 0
      },
      "text/plain": [
       "  0%|          | 0/18 [00:00<?, ?it/s]"
      ]
     },
     "metadata": {},
     "output_type": "display_data"
    },
    {
     "data": {
      "application/vnd.jupyter.widget-view+json": {
       "model_id": "04ab42e77145432e8aed3a55f375c7de",
       "version_major": 2,
       "version_minor": 0
      },
      "text/plain": [
       "  0%|          | 0/33 [00:00<?, ?it/s]"
      ]
     },
     "metadata": {},
     "output_type": "display_data"
    },
    {
     "data": {
      "application/vnd.jupyter.widget-view+json": {
       "model_id": "545276388ba848de90cf291125a0db86",
       "version_major": 2,
       "version_minor": 0
      },
      "text/plain": [
       "  0%|          | 0/5 [00:00<?, ?it/s]"
      ]
     },
     "metadata": {},
     "output_type": "display_data"
    },
    {
     "data": {
      "application/vnd.jupyter.widget-view+json": {
       "model_id": "9a13fd89b3cc4c9e8527f683bccecb57",
       "version_major": 2,
       "version_minor": 0
      },
      "text/plain": [
       "  0%|          | 0/19 [00:00<?, ?it/s]"
      ]
     },
     "metadata": {},
     "output_type": "display_data"
    },
    {
     "data": {
      "application/vnd.jupyter.widget-view+json": {
       "model_id": "f76ab445867e42babd44b39850f5594c",
       "version_major": 2,
       "version_minor": 0
      },
      "text/plain": [
       "  0%|          | 0/55 [00:00<?, ?it/s]"
      ]
     },
     "metadata": {},
     "output_type": "display_data"
    },
    {
     "data": {
      "application/vnd.jupyter.widget-view+json": {
       "model_id": "6b8d6e660db54f8ab5ad7ecc26cc87a8",
       "version_major": 2,
       "version_minor": 0
      },
      "text/plain": [
       "  0%|          | 0/97 [00:00<?, ?it/s]"
      ]
     },
     "metadata": {},
     "output_type": "display_data"
    },
    {
     "data": {
      "application/vnd.jupyter.widget-view+json": {
       "model_id": "5c83ab95d25a428487db6443e468cc6c",
       "version_major": 2,
       "version_minor": 0
      },
      "text/plain": [
       "  0%|          | 0/19 [00:00<?, ?it/s]"
      ]
     },
     "metadata": {},
     "output_type": "display_data"
    },
    {
     "data": {
      "application/vnd.jupyter.widget-view+json": {
       "model_id": "1dc183d4a6d347328469561ad5506f5d",
       "version_major": 2,
       "version_minor": 0
      },
      "text/plain": [
       "  0%|          | 0/4 [00:00<?, ?it/s]"
      ]
     },
     "metadata": {},
     "output_type": "display_data"
    },
    {
     "data": {
      "application/vnd.jupyter.widget-view+json": {
       "model_id": "6ad0ddb36afb40b7a357a711ca391b6a",
       "version_major": 2,
       "version_minor": 0
      },
      "text/plain": [
       "  0%|          | 0/6 [00:00<?, ?it/s]"
      ]
     },
     "metadata": {},
     "output_type": "display_data"
    },
    {
     "data": {
      "application/vnd.jupyter.widget-view+json": {
       "model_id": "417ee86ce3d44f56a7a9b7fbd4a27ddd",
       "version_major": 2,
       "version_minor": 0
      },
      "text/plain": [
       "  0%|          | 0/17 [00:00<?, ?it/s]"
      ]
     },
     "metadata": {},
     "output_type": "display_data"
    },
    {
     "data": {
      "application/vnd.jupyter.widget-view+json": {
       "model_id": "e255f3f9f63d40d4b6ceb63d2f08b09f",
       "version_major": 2,
       "version_minor": 0
      },
      "text/plain": [
       "  0%|          | 0/49 [00:00<?, ?it/s]"
      ]
     },
     "metadata": {},
     "output_type": "display_data"
    },
    {
     "data": {
      "application/vnd.jupyter.widget-view+json": {
       "model_id": "c2dc8299fd2a48f49806ca8d00884480",
       "version_major": 2,
       "version_minor": 0
      },
      "text/plain": [
       "  0%|          | 0/3 [00:00<?, ?it/s]"
      ]
     },
     "metadata": {},
     "output_type": "display_data"
    },
    {
     "data": {
      "application/vnd.jupyter.widget-view+json": {
       "model_id": "48dcc17ab7114c0c9f1688a22bb5541d",
       "version_major": 2,
       "version_minor": 0
      },
      "text/plain": [
       "  0%|          | 0/3 [00:00<?, ?it/s]"
      ]
     },
     "metadata": {},
     "output_type": "display_data"
    },
    {
     "data": {
      "application/vnd.jupyter.widget-view+json": {
       "model_id": "e2b21aeca9ca43679f4d352f3cfeea89",
       "version_major": 2,
       "version_minor": 0
      },
      "text/plain": [
       "  0%|          | 0/7 [00:00<?, ?it/s]"
      ]
     },
     "metadata": {},
     "output_type": "display_data"
    },
    {
     "data": {
      "application/vnd.jupyter.widget-view+json": {
       "model_id": "5d96c75a23a249ba8e3c0cbf96d2d8a8",
       "version_major": 2,
       "version_minor": 0
      },
      "text/plain": [
       "  0%|          | 0/36 [00:00<?, ?it/s]"
      ]
     },
     "metadata": {},
     "output_type": "display_data"
    },
    {
     "data": {
      "application/vnd.jupyter.widget-view+json": {
       "model_id": "8a9c8db0d2094fb9a39ee57a32d7d56e",
       "version_major": 2,
       "version_minor": 0
      },
      "text/plain": [
       "  0%|          | 0/38 [00:00<?, ?it/s]"
      ]
     },
     "metadata": {},
     "output_type": "display_data"
    },
    {
     "data": {
      "application/vnd.jupyter.widget-view+json": {
       "model_id": "11df49401de44df7a1f3b88a8a6e1059",
       "version_major": 2,
       "version_minor": 0
      },
      "text/plain": [
       "  0%|          | 0/6 [00:00<?, ?it/s]"
      ]
     },
     "metadata": {},
     "output_type": "display_data"
    },
    {
     "name": "stdout",
     "output_type": "stream",
     "text": [
      "Assigning the old width calculation because no valid new widths\n"
     ]
    },
    {
     "data": {
      "application/vnd.jupyter.widget-view+json": {
       "model_id": "8943c0eaf6cc474bb3e877bcbe9aed26",
       "version_major": 2,
       "version_minor": 0
      },
      "text/plain": [
       "  0%|          | 0/9 [00:00<?, ?it/s]"
      ]
     },
     "metadata": {},
     "output_type": "display_data"
    },
    {
     "data": {
      "application/vnd.jupyter.widget-view+json": {
       "model_id": "cc2641d5c3424cd9bfa684f0595b811d",
       "version_major": 2,
       "version_minor": 0
      },
      "text/plain": [
       "  0%|          | 0/34 [00:00<?, ?it/s]"
      ]
     },
     "metadata": {},
     "output_type": "display_data"
    },
    {
     "data": {
      "application/vnd.jupyter.widget-view+json": {
       "model_id": "9d5545525d0446dd81b5d57e10673443",
       "version_major": 2,
       "version_minor": 0
      },
      "text/plain": [
       "  0%|          | 0/6 [00:00<?, ?it/s]"
      ]
     },
     "metadata": {},
     "output_type": "display_data"
    },
    {
     "data": {
      "application/vnd.jupyter.widget-view+json": {
       "model_id": "7c1b894f9a3c4738ad3fed6dd41c9236",
       "version_major": 2,
       "version_minor": 0
      },
      "text/plain": [
       "  0%|          | 0/42 [00:00<?, ?it/s]"
      ]
     },
     "metadata": {},
     "output_type": "display_data"
    },
    {
     "data": {
      "application/vnd.jupyter.widget-view+json": {
       "model_id": "e399832d45f943168111f1a3a1596f3b",
       "version_major": 2,
       "version_minor": 0
      },
      "text/plain": [
       "  0%|          | 0/9 [00:00<?, ?it/s]"
      ]
     },
     "metadata": {},
     "output_type": "display_data"
    },
    {
     "data": {
      "application/vnd.jupyter.widget-view+json": {
       "model_id": "c7e0cd490070450aa79f848278ffd568",
       "version_major": 2,
       "version_minor": 0
      },
      "text/plain": [
       "  0%|          | 0/9 [00:00<?, ?it/s]"
      ]
     },
     "metadata": {},
     "output_type": "display_data"
    },
    {
     "data": {
      "application/vnd.jupyter.widget-view+json": {
       "model_id": "462e2bf4ecad4ccc9cb1145d7f3c6ba5",
       "version_major": 2,
       "version_minor": 0
      },
      "text/plain": [
       "  0%|          | 0/8 [00:00<?, ?it/s]"
      ]
     },
     "metadata": {},
     "output_type": "display_data"
    },
    {
     "data": {
      "application/vnd.jupyter.widget-view+json": {
       "model_id": "87595d8611a7426d985002df344fda76",
       "version_major": 2,
       "version_minor": 0
      },
      "text/plain": [
       "  0%|          | 0/12 [00:00<?, ?it/s]"
      ]
     },
     "metadata": {},
     "output_type": "display_data"
    },
    {
     "data": {
      "application/vnd.jupyter.widget-view+json": {
       "model_id": "0eea014df12a460d9d71d8d7170ecfd0",
       "version_major": 2,
       "version_minor": 0
      },
      "text/plain": [
       "  0%|          | 0/5 [00:00<?, ?it/s]"
      ]
     },
     "metadata": {},
     "output_type": "display_data"
    },
    {
     "data": {
      "application/vnd.jupyter.widget-view+json": {
       "model_id": "fffd822dad07495d95fc5dbe7d0ff76b",
       "version_major": 2,
       "version_minor": 0
      },
      "text/plain": [
       "  0%|          | 0/6 [00:00<?, ?it/s]"
      ]
     },
     "metadata": {},
     "output_type": "display_data"
    },
    {
     "data": {
      "application/vnd.jupyter.widget-view+json": {
       "model_id": "3c0cf5a6652747309628a594deee0950",
       "version_major": 2,
       "version_minor": 0
      },
      "text/plain": [
       "  0%|          | 0/14 [00:00<?, ?it/s]"
      ]
     },
     "metadata": {},
     "output_type": "display_data"
    },
    {
     "data": {
      "application/vnd.jupyter.widget-view+json": {
       "model_id": "b0b0a6e533c8440a95e337b56afd73bb",
       "version_major": 2,
       "version_minor": 0
      },
      "text/plain": [
       "  0%|          | 0/7 [00:00<?, ?it/s]"
      ]
     },
     "metadata": {},
     "output_type": "display_data"
    },
    {
     "data": {
      "application/vnd.jupyter.widget-view+json": {
       "model_id": "7624fe2b13d14a4a90cfa22566ed596b",
       "version_major": 2,
       "version_minor": 0
      },
      "text/plain": [
       "  0%|          | 0/100 [00:00<?, ?it/s]"
      ]
     },
     "metadata": {},
     "output_type": "display_data"
    },
    {
     "data": {
      "application/vnd.jupyter.widget-view+json": {
       "model_id": "6880a3938d334b89820e192fa49bdc17",
       "version_major": 2,
       "version_minor": 0
      },
      "text/plain": [
       "  0%|          | 0/17 [00:00<?, ?it/s]"
      ]
     },
     "metadata": {},
     "output_type": "display_data"
    },
    {
     "data": {
      "application/vnd.jupyter.widget-view+json": {
       "model_id": "bf0db8a1bd33488fa4601db5e6214dbe",
       "version_major": 2,
       "version_minor": 0
      },
      "text/plain": [
       "  0%|          | 0/11 [00:00<?, ?it/s]"
      ]
     },
     "metadata": {},
     "output_type": "display_data"
    },
    {
     "data": {
      "application/vnd.jupyter.widget-view+json": {
       "model_id": "c2ed842829dc4127adc5e96eb683cd4e",
       "version_major": 2,
       "version_minor": 0
      },
      "text/plain": [
       "  0%|          | 0/12 [00:00<?, ?it/s]"
      ]
     },
     "metadata": {},
     "output_type": "display_data"
    },
    {
     "data": {
      "application/vnd.jupyter.widget-view+json": {
       "model_id": "91f9d8fd58c14b0298d90c9a15040afa",
       "version_major": 2,
       "version_minor": 0
      },
      "text/plain": [
       "  0%|          | 0/18 [00:00<?, ?it/s]"
      ]
     },
     "metadata": {},
     "output_type": "display_data"
    },
    {
     "data": {
      "application/vnd.jupyter.widget-view+json": {
       "model_id": "2fbf1755534941fab0637d27166aa1ea",
       "version_major": 2,
       "version_minor": 0
      },
      "text/plain": [
       "  0%|          | 0/8 [00:00<?, ?it/s]"
      ]
     },
     "metadata": {},
     "output_type": "display_data"
    },
    {
     "data": {
      "application/vnd.jupyter.widget-view+json": {
       "model_id": "bda7f75a794e488db758f477be40abfb",
       "version_major": 2,
       "version_minor": 0
      },
      "text/plain": [
       "  0%|          | 0/23 [00:00<?, ?it/s]"
      ]
     },
     "metadata": {},
     "output_type": "display_data"
    },
    {
     "data": {
      "application/vnd.jupyter.widget-view+json": {
       "model_id": "004a1d9af034421dbafb2160084dc674",
       "version_major": 2,
       "version_minor": 0
      },
      "text/plain": [
       "  0%|          | 0/29 [00:00<?, ?it/s]"
      ]
     },
     "metadata": {},
     "output_type": "display_data"
    },
    {
     "data": {
      "application/vnd.jupyter.widget-view+json": {
       "model_id": "d11e7f72f3a34eca9bc37f17770a8e13",
       "version_major": 2,
       "version_minor": 0
      },
      "text/plain": [
       "  0%|          | 0/10 [00:00<?, ?it/s]"
      ]
     },
     "metadata": {},
     "output_type": "display_data"
    },
    {
     "data": {
      "application/vnd.jupyter.widget-view+json": {
       "model_id": "79f774209e8f47aea385954254abb254",
       "version_major": 2,
       "version_minor": 0
      },
      "text/plain": [
       "  0%|          | 0/9 [00:00<?, ?it/s]"
      ]
     },
     "metadata": {},
     "output_type": "display_data"
    },
    {
     "data": {
      "application/vnd.jupyter.widget-view+json": {
       "model_id": "ae6769ad84874f30b7d37b4f08746774",
       "version_major": 2,
       "version_minor": 0
      },
      "text/plain": [
       "  0%|          | 0/145 [00:00<?, ?it/s]"
      ]
     },
     "metadata": {},
     "output_type": "display_data"
    },
    {
     "data": {
      "application/vnd.jupyter.widget-view+json": {
       "model_id": "8b9b30a8d9724d409e7913a4583054ed",
       "version_major": 2,
       "version_minor": 0
      },
      "text/plain": [
       "  0%|          | 0/5 [00:00<?, ?it/s]"
      ]
     },
     "metadata": {},
     "output_type": "display_data"
    },
    {
     "data": {
      "application/vnd.jupyter.widget-view+json": {
       "model_id": "5fbb1e6fc5544f3fa074fe3ec3c9e8ef",
       "version_major": 2,
       "version_minor": 0
      },
      "text/plain": [
       "  0%|          | 0/112 [00:00<?, ?it/s]"
      ]
     },
     "metadata": {},
     "output_type": "display_data"
    },
    {
     "data": {
      "application/vnd.jupyter.widget-view+json": {
       "model_id": "33081b589c8543549588e2f9b6ea5d29",
       "version_major": 2,
       "version_minor": 0
      },
      "text/plain": [
       "  0%|          | 0/22 [00:00<?, ?it/s]"
      ]
     },
     "metadata": {},
     "output_type": "display_data"
    },
    {
     "data": {
      "application/vnd.jupyter.widget-view+json": {
       "model_id": "98afdfefca484b4299f2aebac9545056",
       "version_major": 2,
       "version_minor": 0
      },
      "text/plain": [
       "  0%|          | 0/52 [00:00<?, ?it/s]"
      ]
     },
     "metadata": {},
     "output_type": "display_data"
    },
    {
     "data": {
      "application/vnd.jupyter.widget-view+json": {
       "model_id": "c93fc478a52a479eae156435f24466c1",
       "version_major": 2,
       "version_minor": 0
      },
      "text/plain": [
       "  0%|          | 0/5 [00:00<?, ?it/s]"
      ]
     },
     "metadata": {},
     "output_type": "display_data"
    },
    {
     "data": {
      "application/vnd.jupyter.widget-view+json": {
       "model_id": "ab8dba8037c34d84a081bbcf5c7b3261",
       "version_major": 2,
       "version_minor": 0
      },
      "text/plain": [
       "  0%|          | 0/5 [00:00<?, ?it/s]"
      ]
     },
     "metadata": {},
     "output_type": "display_data"
    },
    {
     "data": {
      "application/vnd.jupyter.widget-view+json": {
       "model_id": "f7151aa2ea9044b0b3c22bb86e73ce39",
       "version_major": 2,
       "version_minor": 0
      },
      "text/plain": [
       "  0%|          | 0/3 [00:00<?, ?it/s]"
      ]
     },
     "metadata": {},
     "output_type": "display_data"
    },
    {
     "data": {
      "application/vnd.jupyter.widget-view+json": {
       "model_id": "daa6d24784d84aefa351ca745ede07f9",
       "version_major": 2,
       "version_minor": 0
      },
      "text/plain": [
       "  0%|          | 0/3 [00:00<?, ?it/s]"
      ]
     },
     "metadata": {},
     "output_type": "display_data"
    },
    {
     "data": {
      "application/vnd.jupyter.widget-view+json": {
       "model_id": "cb1fcbadcaef4953b1ee1ccc4769d519",
       "version_major": 2,
       "version_minor": 0
      },
      "text/plain": [
       "  0%|          | 0/3 [00:00<?, ?it/s]"
      ]
     },
     "metadata": {},
     "output_type": "display_data"
    },
    {
     "data": {
      "application/vnd.jupyter.widget-view+json": {
       "model_id": "0b38dc4da2c44282a97badaa6cc6fd9b",
       "version_major": 2,
       "version_minor": 0
      },
      "text/plain": [
       "  0%|          | 0/20 [00:00<?, ?it/s]"
      ]
     },
     "metadata": {},
     "output_type": "display_data"
    },
    {
     "data": {
      "application/vnd.jupyter.widget-view+json": {
       "model_id": "783ccbf31b604fdc824630fa4ff2a4c6",
       "version_major": 2,
       "version_minor": 0
      },
      "text/plain": [
       "  0%|          | 0/4 [00:00<?, ?it/s]"
      ]
     },
     "metadata": {},
     "output_type": "display_data"
    },
    {
     "data": {
      "application/vnd.jupyter.widget-view+json": {
       "model_id": "4a9f0584d0a946359cd4b7037e6da7c8",
       "version_major": 2,
       "version_minor": 0
      },
      "text/plain": [
       "  0%|          | 0/51 [00:00<?, ?it/s]"
      ]
     },
     "metadata": {},
     "output_type": "display_data"
    },
    {
     "data": {
      "application/vnd.jupyter.widget-view+json": {
       "model_id": "b0ec8763f47c4f03a3831c9aa4dd9957",
       "version_major": 2,
       "version_minor": 0
      },
      "text/plain": [
       "  0%|          | 0/10 [00:00<?, ?it/s]"
      ]
     },
     "metadata": {},
     "output_type": "display_data"
    },
    {
     "data": {
      "application/vnd.jupyter.widget-view+json": {
       "model_id": "7dfae9be8d1e414f953a4dc84f8b9ae8",
       "version_major": 2,
       "version_minor": 0
      },
      "text/plain": [
       "  0%|          | 0/5 [00:00<?, ?it/s]"
      ]
     },
     "metadata": {},
     "output_type": "display_data"
    },
    {
     "data": {
      "application/vnd.jupyter.widget-view+json": {
       "model_id": "90727dec2ebb4b9a9ebd820b8b928a5d",
       "version_major": 2,
       "version_minor": 0
      },
      "text/plain": [
       "  0%|          | 0/5 [00:00<?, ?it/s]"
      ]
     },
     "metadata": {},
     "output_type": "display_data"
    },
    {
     "data": {
      "application/vnd.jupyter.widget-view+json": {
       "model_id": "176b7405e3f94dd0ba85bfb67991efd3",
       "version_major": 2,
       "version_minor": 0
      },
      "text/plain": [
       "  0%|          | 0/47 [00:00<?, ?it/s]"
      ]
     },
     "metadata": {},
     "output_type": "display_data"
    },
    {
     "data": {
      "application/vnd.jupyter.widget-view+json": {
       "model_id": "7ecc981a4d83457bb17832edc81b3cf9",
       "version_major": 2,
       "version_minor": 0
      },
      "text/plain": [
       "  0%|          | 0/2 [00:00<?, ?it/s]"
      ]
     },
     "metadata": {},
     "output_type": "display_data"
    },
    {
     "data": {
      "application/vnd.jupyter.widget-view+json": {
       "model_id": "a6e1c8db93df4553ba75655e405ec509",
       "version_major": 2,
       "version_minor": 0
      },
      "text/plain": [
       "  0%|          | 0/11 [00:00<?, ?it/s]"
      ]
     },
     "metadata": {},
     "output_type": "display_data"
    },
    {
     "data": {
      "application/vnd.jupyter.widget-view+json": {
       "model_id": "add978f15db04177b0ffbfee27b2352a",
       "version_major": 2,
       "version_minor": 0
      },
      "text/plain": [
       "  0%|          | 0/4 [00:00<?, ?it/s]"
      ]
     },
     "metadata": {},
     "output_type": "display_data"
    },
    {
     "data": {
      "application/vnd.jupyter.widget-view+json": {
       "model_id": "3f895a1b6f184a6a9cc6c2ec84ff4331",
       "version_major": 2,
       "version_minor": 0
      },
      "text/plain": [
       "  0%|          | 0/10 [00:00<?, ?it/s]"
      ]
     },
     "metadata": {},
     "output_type": "display_data"
    },
    {
     "data": {
      "application/vnd.jupyter.widget-view+json": {
       "model_id": "bb1cd505d7504c61be8ca791a26d10e3",
       "version_major": 2,
       "version_minor": 0
      },
      "text/plain": [
       "  0%|          | 0/8 [00:00<?, ?it/s]"
      ]
     },
     "metadata": {},
     "output_type": "display_data"
    },
    {
     "data": {
      "application/vnd.jupyter.widget-view+json": {
       "model_id": "e311481cfe574b4bb6c770ff28d3704f",
       "version_major": 2,
       "version_minor": 0
      },
      "text/plain": [
       "  0%|          | 0/13 [00:00<?, ?it/s]"
      ]
     },
     "metadata": {},
     "output_type": "display_data"
    },
    {
     "data": {
      "application/vnd.jupyter.widget-view+json": {
       "model_id": "58a61791425b448dbacdfb89c2521810",
       "version_major": 2,
       "version_minor": 0
      },
      "text/plain": [
       "  0%|          | 0/12 [00:00<?, ?it/s]"
      ]
     },
     "metadata": {},
     "output_type": "display_data"
    },
    {
     "data": {
      "application/vnd.jupyter.widget-view+json": {
       "model_id": "9d976c2926f94675a5adce05a447196a",
       "version_major": 2,
       "version_minor": 0
      },
      "text/plain": [
       "  0%|          | 0/38 [00:00<?, ?it/s]"
      ]
     },
     "metadata": {},
     "output_type": "display_data"
    },
    {
     "data": {
      "application/vnd.jupyter.widget-view+json": {
       "model_id": "0e3b2ff852b74a988098c911f5f322a6",
       "version_major": 2,
       "version_minor": 0
      },
      "text/plain": [
       "  0%|          | 0/5 [00:00<?, ?it/s]"
      ]
     },
     "metadata": {},
     "output_type": "display_data"
    },
    {
     "data": {
      "application/vnd.jupyter.widget-view+json": {
       "model_id": "cadab12ef6a74a00a7642b94b35fe5e8",
       "version_major": 2,
       "version_minor": 0
      },
      "text/plain": [
       "  0%|          | 0/23 [00:00<?, ?it/s]"
      ]
     },
     "metadata": {},
     "output_type": "display_data"
    },
    {
     "data": {
      "application/vnd.jupyter.widget-view+json": {
       "model_id": "0790bb5acd694818b8d83796ec2f153b",
       "version_major": 2,
       "version_minor": 0
      },
      "text/plain": [
       "  0%|          | 0/25 [00:00<?, ?it/s]"
      ]
     },
     "metadata": {},
     "output_type": "display_data"
    },
    {
     "data": {
      "application/vnd.jupyter.widget-view+json": {
       "model_id": "b0449762bd2446efb6117d69b9605068",
       "version_major": 2,
       "version_minor": 0
      },
      "text/plain": [
       "  0%|          | 0/15 [00:00<?, ?it/s]"
      ]
     },
     "metadata": {},
     "output_type": "display_data"
    },
    {
     "data": {
      "application/vnd.jupyter.widget-view+json": {
       "model_id": "ff00cdf79c8940749103e072216df4a8",
       "version_major": 2,
       "version_minor": 0
      },
      "text/plain": [
       "  0%|          | 0/5 [00:00<?, ?it/s]"
      ]
     },
     "metadata": {},
     "output_type": "display_data"
    },
    {
     "data": {
      "application/vnd.jupyter.widget-view+json": {
       "model_id": "b64e43629c5947e785c780f021a3e6e6",
       "version_major": 2,
       "version_minor": 0
      },
      "text/plain": [
       "  0%|          | 0/21 [00:00<?, ?it/s]"
      ]
     },
     "metadata": {},
     "output_type": "display_data"
    },
    {
     "data": {
      "application/vnd.jupyter.widget-view+json": {
       "model_id": "45176565eab541078cab5d51d79745b1",
       "version_major": 2,
       "version_minor": 0
      },
      "text/plain": [
       "  0%|          | 0/11 [00:00<?, ?it/s]"
      ]
     },
     "metadata": {},
     "output_type": "display_data"
    },
    {
     "data": {
      "application/vnd.jupyter.widget-view+json": {
       "model_id": "89a583cd20c24edb929ad1098b5745a2",
       "version_major": 2,
       "version_minor": 0
      },
      "text/plain": [
       "  0%|          | 0/5 [00:00<?, ?it/s]"
      ]
     },
     "metadata": {},
     "output_type": "display_data"
    },
    {
     "data": {
      "application/vnd.jupyter.widget-view+json": {
       "model_id": "b1dd64d84d62439d9af45635400a41c1",
       "version_major": 2,
       "version_minor": 0
      },
      "text/plain": [
       "  0%|          | 0/5 [00:00<?, ?it/s]"
      ]
     },
     "metadata": {},
     "output_type": "display_data"
    },
    {
     "data": {
      "application/vnd.jupyter.widget-view+json": {
       "model_id": "1e10180f23c14202947a2d6311d685fb",
       "version_major": 2,
       "version_minor": 0
      },
      "text/plain": [
       "  0%|          | 0/12 [00:00<?, ?it/s]"
      ]
     },
     "metadata": {},
     "output_type": "display_data"
    },
    {
     "data": {
      "application/vnd.jupyter.widget-view+json": {
       "model_id": "78dfed0f9e204ab9aad6b09537bdd297",
       "version_major": 2,
       "version_minor": 0
      },
      "text/plain": [
       "  0%|          | 0/1 [00:00<?, ?it/s]"
      ]
     },
     "metadata": {},
     "output_type": "display_data"
    },
    {
     "data": {
      "application/vnd.jupyter.widget-view+json": {
       "model_id": "a77f7e56cdf9443e9c0b9dde45da44eb",
       "version_major": 2,
       "version_minor": 0
      },
      "text/plain": [
       "  0%|          | 0/1 [00:00<?, ?it/s]"
      ]
     },
     "metadata": {},
     "output_type": "display_data"
    },
    {
     "data": {
      "application/vnd.jupyter.widget-view+json": {
       "model_id": "f82de34af8b240338ca18939e798b4d8",
       "version_major": 2,
       "version_minor": 0
      },
      "text/plain": [
       "  0%|          | 0/4 [00:00<?, ?it/s]"
      ]
     },
     "metadata": {},
     "output_type": "display_data"
    },
    {
     "data": {
      "application/vnd.jupyter.widget-view+json": {
       "model_id": "fcab74f4d0fb4c3297ba0bb862c4f55f",
       "version_major": 2,
       "version_minor": 0
      },
      "text/plain": [
       "  0%|          | 0/11 [00:00<?, ?it/s]"
      ]
     },
     "metadata": {},
     "output_type": "display_data"
    }
   ],
   "source": [
    "import axon_utils as au\n",
    "neuron_obj_with_boutons = au.calculate_boutons(#parameters for run\n",
    "neuron_obj = neuron_obj_high_fid_axon,\n",
    "plot_axon_branches_to_check = False,\n",
    "plot_boutons = False,\n",
    "verbose = False,\n",
    ")\n"
   ]
  },
  {
   "cell_type": "markdown",
   "metadata": {},
   "source": [
    "# Computing the Webbing"
   ]
  },
  {
   "cell_type": "code",
   "execution_count": 168,
   "metadata": {
    "scrolled": false
   },
   "outputs": [
    {
     "name": "stdout",
     "output_type": "stream",
     "text": [
      "Upstream Node (red), Downstream Nodes (aqua)\n"
     ]
    },
    {
     "data": {
      "application/vnd.jupyter.widget-view+json": {
       "model_id": "b8c79a8ce7774d5bb3367f29f5d2f3fd",
       "version_major": 2,
       "version_minor": 0
      },
      "text/plain": [
       "VBox(children=(Figure(camera=PerspectiveCamera(fov=46.0, position=(0.0, 0.0, 2.0), projectionMatrix=(1.0, 0.0,…"
      ]
     },
     "metadata": {},
     "output_type": "display_data"
    },
    {
     "name": "stdout",
     "output_type": "stream",
     "text": [
      "Upstream Node (red), Downstream Nodes (aqua)\n"
     ]
    },
    {
     "data": {
      "application/vnd.jupyter.widget-view+json": {
       "model_id": "1146d42413d84650a95cc4bea5f6cfde",
       "version_major": 2,
       "version_minor": 0
      },
      "text/plain": [
       "VBox(children=(Figure(camera=PerspectiveCamera(fov=46.0, position=(0.0, 0.0, 2.0), projectionMatrix=(1.0, 0.0,…"
      ]
     },
     "metadata": {},
     "output_type": "display_data"
    },
    {
     "name": "stdout",
     "output_type": "stream",
     "text": [
      "Mesh Split with significance_threshold = 20\n"
     ]
    },
    {
     "data": {
      "application/vnd.jupyter.widget-view+json": {
       "model_id": "88909684d94546428cf7bf62564ba5d8",
       "version_major": 2,
       "version_minor": 0
      },
      "text/plain": [
       "VBox(children=(Figure(camera=PerspectiveCamera(fov=46.0, position=(0.0, 0.0, 2.0), projectionMatrix=(1.0, 0.0,…"
      ]
     },
     "metadata": {},
     "output_type": "display_data"
    },
    {
     "data": {
      "application/vnd.jupyter.widget-view+json": {
       "model_id": "f693578076274110b31b6b0f9eb9af55",
       "version_major": 2,
       "version_minor": 0
      },
      "text/plain": [
       "VBox(children=(Figure(camera=PerspectiveCamera(fov=46.0, position=(0.0, 0.0, 2.0), projectionMatrix=(1.0, 0.0,…"
      ]
     },
     "metadata": {},
     "output_type": "display_data"
    },
    {
     "data": {
      "application/vnd.jupyter.widget-view+json": {
       "model_id": "a6703dadae584d608a02618793b808dc",
       "version_major": 2,
       "version_minor": 0
      },
      "text/plain": [
       "  0%|          | 0/14 [00:00<?, ?it/s]"
      ]
     },
     "metadata": {},
     "output_type": "display_data"
    },
    {
     "name": "stdout",
     "output_type": "stream",
     "text": [
      "Before volume filter\n",
      "Segmentation Info:\n",
      "Mesh 0: <trimesh.Trimesh(vertices.shape=(258, 3), faces.shape=(500, 3))> (0.413061)\n",
      "Mesh 1: <trimesh.Trimesh(vertices.shape=(52, 3), faces.shape=(97, 3))> (0.107141)\n",
      "Mesh 2: <trimesh.Trimesh(vertices.shape=(46, 3), faces.shape=(86, 3))> (0.2554515)\n",
      "Mesh 3: <trimesh.Trimesh(vertices.shape=(44, 3), faces.shape=(80, 3))> (0.7938000000000001)\n",
      "Mesh 4: <trimesh.Trimesh(vertices.shape=(24, 3), faces.shape=(41, 3))> (0.582937)\n",
      "Mesh 5: <trimesh.Trimesh(vertices.shape=(22, 3), faces.shape=(38, 3))> (0.12392600000000001)\n",
      "Mesh 6: <trimesh.Trimesh(vertices.shape=(12, 3), faces.shape=(15, 3))> (0.147838)\n",
      "Mesh 7: <trimesh.Trimesh(vertices.shape=(9, 3), faces.shape=(13, 3))> (0.177145)\n",
      "Mesh 8: <trimesh.Trimesh(vertices.shape=(10, 3), faces.shape=(13, 3))> (0.0421436)\n",
      "Mesh 9: <trimesh.Trimesh(vertices.shape=(9, 3), faces.shape=(12, 3))> (0.11487800000000001)\n",
      "Mesh 10: <trimesh.Trimesh(vertices.shape=(9, 3), faces.shape=(10, 3))> (0.13875)\n",
      "Mesh 11: <trimesh.Trimesh(vertices.shape=(7, 3), faces.shape=(9, 3))> (0.200175)\n",
      "Mesh 12: <trimesh.Trimesh(vertices.shape=(6, 3), faces.shape=(6, 3))> (0.07050855)\n",
      "Mesh 13: <trimesh.Trimesh(vertices.shape=(3, 3), faces.shape=(1, 3))> (0.0)\n"
     ]
    },
    {
     "data": {
      "application/vnd.jupyter.widget-view+json": {
       "model_id": "ba35757610934dd2b40f29b92a66684f",
       "version_major": 2,
       "version_minor": 0
      },
      "text/plain": [
       "VBox(children=(Figure(camera=PerspectiveCamera(fov=46.0, position=(0.0, 0.0, 2.0), projectionMatrix=(1.0, 0.0,…"
      ]
     },
     "metadata": {},
     "output_type": "display_data"
    },
    {
     "name": "stdout",
     "output_type": "stream",
     "text": [
      "After volume filter\n",
      "Segmentation Info:\n",
      "Mesh 0: <trimesh.Trimesh(vertices.shape=(52, 3), faces.shape=(97, 3))> (0.107141)\n",
      "Mesh 1: <trimesh.Trimesh(vertices.shape=(46, 3), faces.shape=(86, 3))> (0.2554515)\n",
      "Mesh 2: <trimesh.Trimesh(vertices.shape=(44, 3), faces.shape=(80, 3))> (0.7938000000000001)\n",
      "Mesh 3: <trimesh.Trimesh(vertices.shape=(24, 3), faces.shape=(41, 3))> (0.582937)\n",
      "Mesh 4: <trimesh.Trimesh(vertices.shape=(22, 3), faces.shape=(38, 3))> (0.12392600000000001)\n"
     ]
    },
    {
     "data": {
      "application/vnd.jupyter.widget-view+json": {
       "model_id": "c7faded687f342e49b8cfee545d9438e",
       "version_major": 2,
       "version_minor": 0
      },
      "text/plain": [
       "VBox(children=(Figure(camera=PerspectiveCamera(fov=46.0, position=(0.0, 0.0, 2.0), projectionMatrix=(1.0, 0.0,…"
      ]
     },
     "metadata": {},
     "output_type": "display_data"
    },
    {
     "data": {
      "application/vnd.jupyter.widget-view+json": {
       "model_id": "8d60816c35814a178eda9dddca186040",
       "version_major": 2,
       "version_minor": 0
      },
      "text/plain": [
       "VBox(children=(Figure(camera=PerspectiveCamera(fov=46.0, position=(0.0, 0.0, 2.0), projectionMatrix=(1.0, 0.0,…"
      ]
     },
     "metadata": {},
     "output_type": "display_data"
    },
    {
     "data": {
      "application/vnd.jupyter.widget-view+json": {
       "model_id": "5e9d02cfc51148f5bb218bd18091910f",
       "version_major": 2,
       "version_minor": 0
      },
      "text/plain": [
       "  0%|          | 0/13 [00:00<?, ?it/s]"
      ]
     },
     "metadata": {},
     "output_type": "display_data"
    },
    {
     "data": {
      "application/vnd.jupyter.widget-view+json": {
       "model_id": "0242c3be0c7142c29ccc92e2bb17bd43",
       "version_major": 2,
       "version_minor": 0
      },
      "text/plain": [
       "  0%|          | 0/6 [00:00<?, ?it/s]"
      ]
     },
     "metadata": {},
     "output_type": "display_data"
    },
    {
     "data": {
      "application/vnd.jupyter.widget-view+json": {
       "model_id": "064e63a39e1b467fae201d8ee173bb39",
       "version_major": 2,
       "version_minor": 0
      },
      "text/plain": [
       "  0%|          | 0/28 [00:00<?, ?it/s]"
      ]
     },
     "metadata": {},
     "output_type": "display_data"
    },
    {
     "data": {
      "application/vnd.jupyter.widget-view+json": {
       "model_id": "ff7e2f291a2342bcad21da702ce478d8",
       "version_major": 2,
       "version_minor": 0
      },
      "text/plain": [
       "  0%|          | 0/24 [00:00<?, ?it/s]"
      ]
     },
     "metadata": {},
     "output_type": "display_data"
    },
    {
     "data": {
      "application/vnd.jupyter.widget-view+json": {
       "model_id": "a4a4e82ec01e40c48db975603de2dd73",
       "version_major": 2,
       "version_minor": 0
      },
      "text/plain": [
       "  0%|          | 0/13 [00:00<?, ?it/s]"
      ]
     },
     "metadata": {},
     "output_type": "display_data"
    },
    {
     "data": {
      "application/vnd.jupyter.widget-view+json": {
       "model_id": "0cdb2dc20c424bd5af95a181cec2c721",
       "version_major": 2,
       "version_minor": 0
      },
      "text/plain": [
       "  0%|          | 0/9 [00:00<?, ?it/s]"
      ]
     },
     "metadata": {},
     "output_type": "display_data"
    },
    {
     "data": {
      "application/vnd.jupyter.widget-view+json": {
       "model_id": "bab8289872694181a5071b10997fcfbe",
       "version_major": 2,
       "version_minor": 0
      },
      "text/plain": [
       "  0%|          | 0/7 [00:00<?, ?it/s]"
      ]
     },
     "metadata": {},
     "output_type": "display_data"
    },
    {
     "data": {
      "application/vnd.jupyter.widget-view+json": {
       "model_id": "778e75266ea84587823061ebd7b3d85a",
       "version_major": 2,
       "version_minor": 0
      },
      "text/plain": [
       "  0%|          | 0/41 [00:00<?, ?it/s]"
      ]
     },
     "metadata": {},
     "output_type": "display_data"
    },
    {
     "data": {
      "application/vnd.jupyter.widget-view+json": {
       "model_id": "6ab5f2ec7a10449ab393f40a9cb34a95",
       "version_major": 2,
       "version_minor": 0
      },
      "text/plain": [
       "  0%|          | 0/11 [00:00<?, ?it/s]"
      ]
     },
     "metadata": {},
     "output_type": "display_data"
    },
    {
     "data": {
      "application/vnd.jupyter.widget-view+json": {
       "model_id": "9d5c9275d1c149bca326c519b82debf5",
       "version_major": 2,
       "version_minor": 0
      },
      "text/plain": [
       "  0%|          | 0/30 [00:00<?, ?it/s]"
      ]
     },
     "metadata": {},
     "output_type": "display_data"
    },
    {
     "data": {
      "application/vnd.jupyter.widget-view+json": {
       "model_id": "1b5003757a78402e8f5faa797e66413a",
       "version_major": 2,
       "version_minor": 0
      },
      "text/plain": [
       "  0%|          | 0/18 [00:00<?, ?it/s]"
      ]
     },
     "metadata": {},
     "output_type": "display_data"
    },
    {
     "data": {
      "application/vnd.jupyter.widget-view+json": {
       "model_id": "d450fafbd0b74e31ab772f6dea036f93",
       "version_major": 2,
       "version_minor": 0
      },
      "text/plain": [
       "  0%|          | 0/10 [00:00<?, ?it/s]"
      ]
     },
     "metadata": {},
     "output_type": "display_data"
    },
    {
     "data": {
      "application/vnd.jupyter.widget-view+json": {
       "model_id": "7d5986822b1e42b69e0bf42ea729fcaf",
       "version_major": 2,
       "version_minor": 0
      },
      "text/plain": [
       "  0%|          | 0/12 [00:00<?, ?it/s]"
      ]
     },
     "metadata": {},
     "output_type": "display_data"
    },
    {
     "data": {
      "application/vnd.jupyter.widget-view+json": {
       "model_id": "561416373da54143af6e0c626e5d8053",
       "version_major": 2,
       "version_minor": 0
      },
      "text/plain": [
       "  0%|          | 0/28 [00:00<?, ?it/s]"
      ]
     },
     "metadata": {},
     "output_type": "display_data"
    },
    {
     "data": {
      "application/vnd.jupyter.widget-view+json": {
       "model_id": "d7d4822c4dd14d9491adfdbaf15b01d5",
       "version_major": 2,
       "version_minor": 0
      },
      "text/plain": [
       "  0%|          | 0/39 [00:00<?, ?it/s]"
      ]
     },
     "metadata": {},
     "output_type": "display_data"
    },
    {
     "data": {
      "application/vnd.jupyter.widget-view+json": {
       "model_id": "dba0750095ab470aac4993647505e29e",
       "version_major": 2,
       "version_minor": 0
      },
      "text/plain": [
       "  0%|          | 0/18 [00:00<?, ?it/s]"
      ]
     },
     "metadata": {},
     "output_type": "display_data"
    },
    {
     "data": {
      "application/vnd.jupyter.widget-view+json": {
       "model_id": "233a3578a6bd4789b5d3dcdc2cee1052",
       "version_major": 2,
       "version_minor": 0
      },
      "text/plain": [
       "  0%|          | 0/20 [00:00<?, ?it/s]"
      ]
     },
     "metadata": {},
     "output_type": "display_data"
    },
    {
     "data": {
      "application/vnd.jupyter.widget-view+json": {
       "model_id": "0840a22a23b64a61b2bd5af8d1c7ac3b",
       "version_major": 2,
       "version_minor": 0
      },
      "text/plain": [
       "  0%|          | 0/51 [00:00<?, ?it/s]"
      ]
     },
     "metadata": {},
     "output_type": "display_data"
    },
    {
     "data": {
      "application/vnd.jupyter.widget-view+json": {
       "model_id": "db2577e6eca942bfb84bfa37bd18cca6",
       "version_major": 2,
       "version_minor": 0
      },
      "text/plain": [
       "  0%|          | 0/13 [00:00<?, ?it/s]"
      ]
     },
     "metadata": {},
     "output_type": "display_data"
    },
    {
     "data": {
      "application/vnd.jupyter.widget-view+json": {
       "model_id": "04e2cb15282b4e659faead2e53e19e32",
       "version_major": 2,
       "version_minor": 0
      },
      "text/plain": [
       "  0%|          | 0/9 [00:00<?, ?it/s]"
      ]
     },
     "metadata": {},
     "output_type": "display_data"
    },
    {
     "data": {
      "application/vnd.jupyter.widget-view+json": {
       "model_id": "1092529c2b1844d79794f472afd6761c",
       "version_major": 2,
       "version_minor": 0
      },
      "text/plain": [
       "  0%|          | 0/10 [00:00<?, ?it/s]"
      ]
     },
     "metadata": {},
     "output_type": "display_data"
    },
    {
     "data": {
      "application/vnd.jupyter.widget-view+json": {
       "model_id": "d5585e3178884b1ebf7c0cd6fb2c8ef6",
       "version_major": 2,
       "version_minor": 0
      },
      "text/plain": [
       "  0%|          | 0/14 [00:00<?, ?it/s]"
      ]
     },
     "metadata": {},
     "output_type": "display_data"
    },
    {
     "data": {
      "application/vnd.jupyter.widget-view+json": {
       "model_id": "4ab81c06ae62431192629d554b0c7bb9",
       "version_major": 2,
       "version_minor": 0
      },
      "text/plain": [
       "  0%|          | 0/6 [00:00<?, ?it/s]"
      ]
     },
     "metadata": {},
     "output_type": "display_data"
    },
    {
     "data": {
      "application/vnd.jupyter.widget-view+json": {
       "model_id": "0420ff6633234515a93eecb1bde66420",
       "version_major": 2,
       "version_minor": 0
      },
      "text/plain": [
       "  0%|          | 0/12 [00:00<?, ?it/s]"
      ]
     },
     "metadata": {},
     "output_type": "display_data"
    },
    {
     "data": {
      "application/vnd.jupyter.widget-view+json": {
       "model_id": "2a8161decef4471b8b85b283ce16baf5",
       "version_major": 2,
       "version_minor": 0
      },
      "text/plain": [
       "  0%|          | 0/58 [00:00<?, ?it/s]"
      ]
     },
     "metadata": {},
     "output_type": "display_data"
    },
    {
     "data": {
      "application/vnd.jupyter.widget-view+json": {
       "model_id": "8fce5b9e2a834dae926787a485fff13a",
       "version_major": 2,
       "version_minor": 0
      },
      "text/plain": [
       "  0%|          | 0/66 [00:00<?, ?it/s]"
      ]
     },
     "metadata": {},
     "output_type": "display_data"
    },
    {
     "data": {
      "application/vnd.jupyter.widget-view+json": {
       "model_id": "b9d7c399f5854cbdb6b620e788daa69e",
       "version_major": 2,
       "version_minor": 0
      },
      "text/plain": [
       "  0%|          | 0/21 [00:00<?, ?it/s]"
      ]
     },
     "metadata": {},
     "output_type": "display_data"
    },
    {
     "data": {
      "application/vnd.jupyter.widget-view+json": {
       "model_id": "833be5e505b84aba91a36837c63d79c1",
       "version_major": 2,
       "version_minor": 0
      },
      "text/plain": [
       "  0%|          | 0/19 [00:00<?, ?it/s]"
      ]
     },
     "metadata": {},
     "output_type": "display_data"
    },
    {
     "data": {
      "application/vnd.jupyter.widget-view+json": {
       "model_id": "5a009ee3e1ed485cad0b4fe3ae067b06",
       "version_major": 2,
       "version_minor": 0
      },
      "text/plain": [
       "  0%|          | 0/57 [00:00<?, ?it/s]"
      ]
     },
     "metadata": {},
     "output_type": "display_data"
    },
    {
     "data": {
      "application/vnd.jupyter.widget-view+json": {
       "model_id": "ccc22d9b8be141ca89b238bab073d70c",
       "version_major": 2,
       "version_minor": 0
      },
      "text/plain": [
       "  0%|          | 0/25 [00:00<?, ?it/s]"
      ]
     },
     "metadata": {},
     "output_type": "display_data"
    },
    {
     "data": {
      "application/vnd.jupyter.widget-view+json": {
       "model_id": "3893a391c55e4c018749d60d087dcd93",
       "version_major": 2,
       "version_minor": 0
      },
      "text/plain": [
       "  0%|          | 0/14 [00:00<?, ?it/s]"
      ]
     },
     "metadata": {},
     "output_type": "display_data"
    },
    {
     "data": {
      "application/vnd.jupyter.widget-view+json": {
       "model_id": "aa15882e20484323a54172a5997e8377",
       "version_major": 2,
       "version_minor": 0
      },
      "text/plain": [
       "  0%|          | 0/21 [00:00<?, ?it/s]"
      ]
     },
     "metadata": {},
     "output_type": "display_data"
    },
    {
     "data": {
      "application/vnd.jupyter.widget-view+json": {
       "model_id": "ad43382a98a34c5fb6774d77bdd811ba",
       "version_major": 2,
       "version_minor": 0
      },
      "text/plain": [
       "  0%|          | 0/55 [00:00<?, ?it/s]"
      ]
     },
     "metadata": {},
     "output_type": "display_data"
    },
    {
     "data": {
      "application/vnd.jupyter.widget-view+json": {
       "model_id": "76ab954c3c484fca9fe48b29a0be6ed7",
       "version_major": 2,
       "version_minor": 0
      },
      "text/plain": [
       "  0%|          | 0/22 [00:00<?, ?it/s]"
      ]
     },
     "metadata": {},
     "output_type": "display_data"
    },
    {
     "data": {
      "application/vnd.jupyter.widget-view+json": {
       "model_id": "7659ca7a037d4790857513527c499315",
       "version_major": 2,
       "version_minor": 0
      },
      "text/plain": [
       "  0%|          | 0/24 [00:00<?, ?it/s]"
      ]
     },
     "metadata": {},
     "output_type": "display_data"
    },
    {
     "data": {
      "application/vnd.jupyter.widget-view+json": {
       "model_id": "b6cb1863d42541fb96bab82fdd66aca1",
       "version_major": 2,
       "version_minor": 0
      },
      "text/plain": [
       "  0%|          | 0/13 [00:00<?, ?it/s]"
      ]
     },
     "metadata": {},
     "output_type": "display_data"
    },
    {
     "data": {
      "application/vnd.jupyter.widget-view+json": {
       "model_id": "a1f0d0f26e524d3b8b5fc67e41cfdf73",
       "version_major": 2,
       "version_minor": 0
      },
      "text/plain": [
       "  0%|          | 0/9 [00:00<?, ?it/s]"
      ]
     },
     "metadata": {},
     "output_type": "display_data"
    },
    {
     "data": {
      "application/vnd.jupyter.widget-view+json": {
       "model_id": "a6f4b1eda23847b494e83e9d0cf61bf3",
       "version_major": 2,
       "version_minor": 0
      },
      "text/plain": [
       "  0%|          | 0/11 [00:00<?, ?it/s]"
      ]
     },
     "metadata": {},
     "output_type": "display_data"
    },
    {
     "data": {
      "application/vnd.jupyter.widget-view+json": {
       "model_id": "ae0841e1bae14457a402ea859e79fac0",
       "version_major": 2,
       "version_minor": 0
      },
      "text/plain": [
       "  0%|          | 0/21 [00:00<?, ?it/s]"
      ]
     },
     "metadata": {},
     "output_type": "display_data"
    },
    {
     "data": {
      "application/vnd.jupyter.widget-view+json": {
       "model_id": "8ced35f18a0b48a79af6410c5e9f0573",
       "version_major": 2,
       "version_minor": 0
      },
      "text/plain": [
       "  0%|          | 0/26 [00:00<?, ?it/s]"
      ]
     },
     "metadata": {},
     "output_type": "display_data"
    },
    {
     "data": {
      "application/vnd.jupyter.widget-view+json": {
       "model_id": "732760760f2c4c61bef5a6d8f06a9e98",
       "version_major": 2,
       "version_minor": 0
      },
      "text/plain": [
       "  0%|          | 0/6 [00:00<?, ?it/s]"
      ]
     },
     "metadata": {},
     "output_type": "display_data"
    },
    {
     "data": {
      "application/vnd.jupyter.widget-view+json": {
       "model_id": "48ebd53cccc548a38d85efaebc0a3d38",
       "version_major": 2,
       "version_minor": 0
      },
      "text/plain": [
       "  0%|          | 0/18 [00:00<?, ?it/s]"
      ]
     },
     "metadata": {},
     "output_type": "display_data"
    },
    {
     "data": {
      "application/vnd.jupyter.widget-view+json": {
       "model_id": "b62fdaf3411c46fa81d3a941c2064ec4",
       "version_major": 2,
       "version_minor": 0
      },
      "text/plain": [
       "  0%|          | 0/6 [00:00<?, ?it/s]"
      ]
     },
     "metadata": {},
     "output_type": "display_data"
    },
    {
     "data": {
      "application/vnd.jupyter.widget-view+json": {
       "model_id": "33884e9e223840c1a130a5c11618923b",
       "version_major": 2,
       "version_minor": 0
      },
      "text/plain": [
       "  0%|          | 0/5 [00:00<?, ?it/s]"
      ]
     },
     "metadata": {},
     "output_type": "display_data"
    },
    {
     "data": {
      "application/vnd.jupyter.widget-view+json": {
       "model_id": "bcea8e9977b54ae5abbf799f29890d65",
       "version_major": 2,
       "version_minor": 0
      },
      "text/plain": [
       "  0%|          | 0/23 [00:00<?, ?it/s]"
      ]
     },
     "metadata": {},
     "output_type": "display_data"
    },
    {
     "data": {
      "application/vnd.jupyter.widget-view+json": {
       "model_id": "99b606e54127422e997027c6c40fb07a",
       "version_major": 2,
       "version_minor": 0
      },
      "text/plain": [
       "  0%|          | 0/3 [00:00<?, ?it/s]"
      ]
     },
     "metadata": {},
     "output_type": "display_data"
    },
    {
     "data": {
      "application/vnd.jupyter.widget-view+json": {
       "model_id": "91184d22639c4356bcfd5be5a14c5cae",
       "version_major": 2,
       "version_minor": 0
      },
      "text/plain": [
       "  0%|          | 0/10 [00:00<?, ?it/s]"
      ]
     },
     "metadata": {},
     "output_type": "display_data"
    },
    {
     "data": {
      "application/vnd.jupyter.widget-view+json": {
       "model_id": "62f32d88f74940adb1e885e6257a2586",
       "version_major": 2,
       "version_minor": 0
      },
      "text/plain": [
       "  0%|          | 0/15 [00:00<?, ?it/s]"
      ]
     },
     "metadata": {},
     "output_type": "display_data"
    },
    {
     "data": {
      "application/vnd.jupyter.widget-view+json": {
       "model_id": "1bf15b435a9248daa9316f98b725f8e1",
       "version_major": 2,
       "version_minor": 0
      },
      "text/plain": [
       "  0%|          | 0/18 [00:00<?, ?it/s]"
      ]
     },
     "metadata": {},
     "output_type": "display_data"
    },
    {
     "data": {
      "application/vnd.jupyter.widget-view+json": {
       "model_id": "db9cdc794f214ab9a61330f976200dbd",
       "version_major": 2,
       "version_minor": 0
      },
      "text/plain": [
       "  0%|          | 0/18 [00:00<?, ?it/s]"
      ]
     },
     "metadata": {},
     "output_type": "display_data"
    },
    {
     "data": {
      "application/vnd.jupyter.widget-view+json": {
       "model_id": "a3ae785543ce4865b78f52e617348ae1",
       "version_major": 2,
       "version_minor": 0
      },
      "text/plain": [
       "  0%|          | 0/12 [00:00<?, ?it/s]"
      ]
     },
     "metadata": {},
     "output_type": "display_data"
    },
    {
     "data": {
      "application/vnd.jupyter.widget-view+json": {
       "model_id": "5b99fca15f5d4893a8ff99d05a2ee0d2",
       "version_major": 2,
       "version_minor": 0
      },
      "text/plain": [
       "  0%|          | 0/13 [00:00<?, ?it/s]"
      ]
     },
     "metadata": {},
     "output_type": "display_data"
    },
    {
     "data": {
      "application/vnd.jupyter.widget-view+json": {
       "model_id": "f1f869ada75743c28a5ea71e58203eec",
       "version_major": 2,
       "version_minor": 0
      },
      "text/plain": [
       "  0%|          | 0/14 [00:00<?, ?it/s]"
      ]
     },
     "metadata": {},
     "output_type": "display_data"
    },
    {
     "data": {
      "application/vnd.jupyter.widget-view+json": {
       "model_id": "108141e0d05e49dbb7c130a8224a9c82",
       "version_major": 2,
       "version_minor": 0
      },
      "text/plain": [
       "  0%|          | 0/25 [00:00<?, ?it/s]"
      ]
     },
     "metadata": {},
     "output_type": "display_data"
    },
    {
     "data": {
      "application/vnd.jupyter.widget-view+json": {
       "model_id": "5c6cf1c8e77d473ca7f1acc75f76d7fe",
       "version_major": 2,
       "version_minor": 0
      },
      "text/plain": [
       "  0%|          | 0/17 [00:00<?, ?it/s]"
      ]
     },
     "metadata": {},
     "output_type": "display_data"
    },
    {
     "data": {
      "application/vnd.jupyter.widget-view+json": {
       "model_id": "4337f43378114094b7e1ec4986abe98d",
       "version_major": 2,
       "version_minor": 0
      },
      "text/plain": [
       "  0%|          | 0/3 [00:00<?, ?it/s]"
      ]
     },
     "metadata": {},
     "output_type": "display_data"
    },
    {
     "data": {
      "application/vnd.jupyter.widget-view+json": {
       "model_id": "53ef9135d77846ca89329abae976986b",
       "version_major": 2,
       "version_minor": 0
      },
      "text/plain": [
       "  0%|          | 0/18 [00:00<?, ?it/s]"
      ]
     },
     "metadata": {},
     "output_type": "display_data"
    }
   ],
   "source": [
    "neuron_obj_with_web = au.calculate_axon_webbing(neuron_obj_with_boutons,\n",
    "                      idx_to_plot = [0],\n",
    "                plot_intersection_mesh = True,\n",
    "                plot_intersection_mesh_without_boutons = True,\n",
    "                plot_split = True,\n",
    "                plot_split_closest_mesh = True,\n",
    "                plot_segmentation_before_web = True,\n",
    "                plot_web = True,\n",
    "                        plot_webbing_on_neuron = False,\n",
    "                    verbose = False,\n",
    "                        )"
   ]
  },
  {
   "cell_type": "code",
   "execution_count": 169,
   "metadata": {},
   "outputs": [
    {
     "name": "stdout",
     "output_type": "stream",
     "text": [
      "\n",
      " Working on visualization type: mesh\n",
      "\n",
      " Working on visualization type: skeleton\n"
     ]
    },
    {
     "data": {
      "application/vnd.jupyter.widget-view+json": {
       "model_id": "7dac4c6012e3411091ee5745a6d9ad45",
       "version_major": 2,
       "version_minor": 0
      },
      "text/plain": [
       "VBox(children=(Figure(camera=PerspectiveCamera(fov=46.0, position=(0.0, 0.0, 2.0), projectionMatrix=(1.0, 0.0,…"
      ]
     },
     "metadata": {},
     "output_type": "display_data"
    }
   ],
   "source": [
    "nviz.plot_boutons(neuron_obj_with_web,\n",
    "                  mesh_whole_neuron_alpha = 0.2,\n",
    "                 plot_web=True)"
   ]
  },
  {
   "cell_type": "markdown",
   "metadata": {},
   "source": [
    "# Need way of finding the intersection and webbings of incorrect to correct branching"
   ]
  },
  {
   "cell_type": "code",
   "execution_count": 178,
   "metadata": {},
   "outputs": [],
   "source": [
    "\"\"\"\n",
    "Purpose: The only thing to go off of is the boundaries from \n",
    "\n",
    "valid to invalid branch\n",
    "valid to valid branch\n",
    "\n",
    "because from invalid to invalid is that it coulb be a valid or invalid split\n",
    "\n",
    "Pseudocode: \n",
    "1) Label ranches as valid, invalid or unknown based on if valid/invalid\n",
    "synapse is mapped to it\n",
    "2) collet the invalid connected compoents of branches shortest path to the \n",
    "soma and then know the valid, invalid path \n",
    "\n",
    "may need to hand inspect and mark the incorrect boundary\n",
    "\n",
    "Things to do: \n",
    "1) Get the synapses and their labels\n",
    "2) Map the synapse labels to the branches (may have to resolve multi-labels)\n",
    "to get the valid and invalid branches of the axon\n",
    "3) Collect all invalid axon branches into connected components\n",
    "\n",
    "For each invalid connected component:\n",
    "    4) Find the shortest path from connected components back to starting node\n",
    "    5) Save off 2nd node on path\n",
    "\n",
    "\"\"\"\n",
    "n_obj = neuron_obj_with_web\n",
    "verbose = True\n",
    "\n",
    "plot_valid_limb_branch_dict = True\n",
    "plot_invalid_limb_branch_dict = True\n",
    "plot_invalid_conn_comp = True\n",
    "plot_invalid_conn_comp_idx = None\n",
    "plot_invalid_conn_comp_path = False"
   ]
  },
  {
   "cell_type": "code",
   "execution_count": 125,
   "metadata": {},
   "outputs": [
    {
     "name": "stdout",
     "output_type": "stream",
     "text": [
      "# valid_synapses_coords = 105, # invalid_synapses_coords = 164\n"
     ]
    }
   ],
   "source": [
    "syn_centers_dict = vu.validation_df_to_synapse_centers_dict(\n",
    "    curr_validation_df[curr_validation_df[\"synapse_type\"] == 'presyn']\n",
    ")\n",
    "valid_synapses_coords = np.vstack([syn_centers_dict[\"TP\"],syn_centers_dict[\"FN\"]])\n",
    "invalid_synapses_coords = np.vstack([syn_centers_dict[\"TN\"],syn_centers_dict[\"FP\"]])\n",
    "\n",
    "if verbose:\n",
    "    print(f\"# valid_synapses_coords = {len(valid_synapses_coords)}, # invalid_synapses_coords = {len(invalid_synapses_coords)}\")"
   ]
  },
  {
   "cell_type": "code",
   "execution_count": 126,
   "metadata": {},
   "outputs": [
    {
     "name": "stdout",
     "output_type": "stream",
     "text": [
      "valid_limb_branch_dict = {'L0': array([  5,   2,   8,  14,  15,   9,  17,  18,  22,  34,  33,  41,  36,\n",
      "        55,  56,  40,  57,  59,  31,  77,  71,  78,  75,  81,  82, 105])}\n",
      "invalid_limb_branch_dict = {'L0': [102, 103, 106, 107, 98, 47, 89, 90, 95, 86, 114, 115, 24, 25, 117, 118, 119, 99, 100, 10, 20, 6, 11, 13, 12, 16, 21, 19, 27, 29, 26, 23, 28, 35, 42, 50, 52, 83, 85, 88, 91, 84, 87, 97, 92, 110, 1, 3, 4, 53, 51, 58, 104, 101, 94, 93, 96, 109, 111, 108, 112, 116, 113, 120]}\n",
      "Overlap = {}\n",
      "invalid_axon_branches = [102, 103, 106, 107, 98, 47, 89, 90, 95, 86, 114, 115, 24, 25, 117, 118, 119, 99, 100, 10, 20, 6, 11, 13, 12, 16, 21, 19, 27, 29, 26, 23, 28, 35, 42, 50, 52, 83, 85, 88, 91, 84, 87, 97, 92, 110, 1, 3, 4, 53, 51, 58, 104, 101, 94, 93, 96, 109, 111, 108, 112, 116, 113, 120]\n",
      "valid_axon_branches = [  0   2   5   7   8   9  14  15  17  18  22  30  31  32  33  34  36  37\n",
      "  38  39  40  41  43  44  45  46  48  49  54  55  56  57  59  60  61  62\n",
      "  63  64  65  66  67  68  69  70  71  72  73  74  75  76  77  78  79  80\n",
      "  81  82 105]\n"
     ]
    }
   ],
   "source": [
    "axon_limb_name = n_obj.axon_limb_name\n",
    "filter_to_axon = True\n",
    "apply_removal_propogation = True\n",
    "ax_limb_obj = n_obj[axon_limb_name]\n",
    "\n",
    "invalid_limb_branch, invalid_distances = nru.coordinates_to_closest_limb_branch(n_obj,\n",
    "                                  invalid_synapses_coords,\n",
    "                                      return_distances_to_limb_branch=True)\n",
    "invalid_limb_branch_dict = nru.limb_branch_list_to_limb_branch_dict(invalid_limb_branch,\n",
    "                                    verbose=False)\n",
    "\n",
    "\n",
    "if apply_removal_propogation:\n",
    "    invalid_limb_branch_dict= nru.limb_branch_removed_after_limb_branch_removal(n_obj,\n",
    "                                         invalid_limb_branch_dict)\n",
    "if filter_to_axon:\n",
    "    invalid_limb_branch_dict = nru.filter_limb_branch_dict_by_limb(invalid_limb_branch_dict,\n",
    "                                                                limb_names=axon_limb_name)\n",
    "\n",
    "valid_limb_branch, valid_distances = nru.coordinates_to_closest_limb_branch(n_obj,\n",
    "                                  valid_synapses_coords,\n",
    "                                      return_distances_to_limb_branch=True)\n",
    "valid_limb_branch_dict = nru.limb_branch_list_to_limb_branch_dict(valid_limb_branch,\n",
    "                                    verbose=False)\n",
    "if filter_to_axon:\n",
    "    valid_limb_branch_dict = nru.filter_limb_branch_dict_by_limb(valid_limb_branch_dict,\n",
    "                                                                limb_names=axon_limb_name)\n",
    "    \n",
    "\n",
    "\n",
    "\n",
    "if verbose:\n",
    "    print(f\"valid_limb_branch_dict = {valid_limb_branch_dict}\")\n",
    "    print(f\"invalid_limb_branch_dict = {invalid_limb_branch_dict}\")\n",
    "    print(f\"Overlap = {nru.limb_branch_intersection([invalid_limb_branch_dict,valid_limb_branch_dict])}\")\n",
    "    \n",
    "invalid_axon_branches = invalid_limb_branch_dict[axon_limb_name]\n",
    "valid_axon_branches = np.setdiff1d(ax_limb_obj.get_branch_names(),invalid_axon_branches)\n",
    "if verbose:\n",
    "    print(f\"invalid_axon_branches = {invalid_axon_branches}\")\n",
    "    print(f\"valid_axon_branches = {valid_axon_branches}\")"
   ]
  },
  {
   "cell_type": "code",
   "execution_count": null,
   "metadata": {},
   "outputs": [],
   "source": [
    "if plot_valid_limb_branch_dict:\n",
    "    nviz.plot_limb_branch_dict(n_obj,\n",
    "                               valid_limb_branch_dict,\n",
    "                              scatters=[valid_synapses_coords],\n",
    "                               color = \"red\",\n",
    "                             scatter_size=0.1,\n",
    "                             scatters_colors=\"aqua\")"
   ]
  },
  {
   "cell_type": "code",
   "execution_count": null,
   "metadata": {
    "scrolled": false
   },
   "outputs": [],
   "source": [
    "if plot_invalid_limb_branch_dict:\n",
    "    nviz.plot_limb_branch_dict(n_obj,\n",
    "                           invalid_limb_branch_dict,\n",
    "                          scatters=[invalid_synapses_coords],\n",
    "                         scatter_size=0.1,\n",
    "                         scatters_colors=\"black\")\n",
    "\n",
    "#[k for k in dir(nru) if \"limb_branch\" in k]"
   ]
  },
  {
   "cell_type": "code",
   "execution_count": 23,
   "metadata": {},
   "outputs": [
    {
     "name": "stdout",
     "output_type": "stream",
     "text": [
      "Original Axon Graph length = 121\n",
      "Invalid Axon Subgraph = 64\n",
      "# conn comp Axon Subgraph = 8\n"
     ]
    }
   ],
   "source": [
    "\"\"\"\n",
    "3) Collect all invalid axon branches into connected components\n",
    "4) Find the shortest path from connected components back to starting node\n",
    "5) Save off the 2nd node in path as boundary node\n",
    "\n",
    "\"\"\"\n",
    "import networkx as nx\n",
    "import matplotlib.pyplot as plt\n",
    "G_ax = n_obj[axon_limb_name].concept_network_directional\n",
    "\n",
    "G_ax_invalid = G_ax.subgraph(invalid_axon_branches)\n",
    "\n",
    "\n",
    "invalid_conn_comp = [list(k) for k in nx.connected_components(nx.Graph(G_ax_invalid))]\n",
    "\n",
    "if verbose:\n",
    "    print(f\"Original Axon Graph length = {len(G_ax.nodes())}\")\n",
    "    print(f\"Invalid Axon Subgraph = {len(G_ax_invalid.nodes())}\")\n",
    "    print(f\"# conn comp Axon Subgraph = {len(invalid_conn_comp)}\")"
   ]
  },
  {
   "cell_type": "code",
   "execution_count": 24,
   "metadata": {},
   "outputs": [
    {
     "name": "stdout",
     "output_type": "stream",
     "text": [
      "\n",
      "curr_error_conn_comp 3: = [83, 84, 85, 86, 87, 88, 89, 90, 91, 92, 93, 94, 95, 96, 97, 98, 99, 100, 101, 102, 103, 104, 106, 107, 108, 109, 110, 111, 112, 113, 114, 115, 116, 117, 118, 119, 120]\n",
      "\n",
      " Working on visualization type: skeleton\n"
     ]
    },
    {
     "data": {
      "application/vnd.jupyter.widget-view+json": {
       "model_id": "dbc52e7b8bc34d0c88252ed7da0617f8",
       "version_major": 2,
       "version_minor": 0
      },
      "text/plain": [
       "VBox(children=(Figure(camera=PerspectiveCamera(fov=46.0, position=(0.0, 0.0, 2.0), projectionMatrix=(1.0, 0.0,…"
      ]
     },
     "metadata": {},
     "output_type": "display_data"
    }
   ],
   "source": [
    "plot_invalid_conn_comp_idx = [3]\n",
    "\n",
    "if plot_invalid_conn_comp_idx is None:\n",
    "    plot_invalid_conn_comp_idx = np.arange(len(invalid_conn_comp))\n",
    "\n",
    "if plot_invalid_conn_comp:\n",
    "    for curr_idx in range(len(invalid_conn_comp)):\n",
    "        if curr_idx in plot_invalid_conn_comp_idx:\n",
    "            curr_error_conn_comp = invalid_conn_comp[curr_idx]\n",
    "            print(f\"\\ncurr_error_conn_comp {curr_idx}: = {curr_error_conn_comp}\")\n",
    "            nviz.visualize_neuron_path(n_obj,\n",
    "                                       visualize_type = [\"skeleton\"],\n",
    "                                       limb_idx=axon_limb_name,\n",
    "                                       path = curr_error_conn_comp\n",
    "                                )"
   ]
  },
  {
   "cell_type": "code",
   "execution_count": 25,
   "metadata": {},
   "outputs": [
    {
     "name": "stdout",
     "output_type": "stream",
     "text": [
      "\n",
      "For invalid conn comp 0, path to starting node (59): [53, 56, 55, 72, 67, 59]\n",
      "Boundary node = 56\n",
      "\n",
      "For invalid conn comp 1, path to starting node (59): [58, 56, 55, 72, 67, 59]\n",
      "Boundary node = 56\n",
      "\n",
      "For invalid conn comp 2, path to starting node (59): [1, 2, 15, 38, 63, 66, 59]\n",
      "Boundary node = 2\n",
      "\n",
      "For invalid conn comp 3, path to starting node (59): [104, 81, 76, 73, 72, 67, 59]\n",
      "Boundary node = 81\n",
      "\n",
      "For invalid conn comp 4, path to starting node (59): [51, 40, 39, 64, 60, 69, 66, 59]\n",
      "Boundary node = 40\n",
      "\n",
      "For invalid conn comp 5, path to starting node (59): [50, 48, 49, 40, 39, 64, 60, 69, 66, 59]\n",
      "Boundary node = 48\n",
      "\n",
      "For invalid conn comp 6, path to starting node (59): [35, 43, 48, 49, 40, 39, 64, 60, 69, 66, 59]\n",
      "Boundary node = 43\n",
      "\n",
      "For invalid conn comp 7, path to starting node (59): [42, 43, 48, 49, 40, 39, 64, 60, 69, 66, 59]\n",
      "Boundary node = 43\n",
      "6 boundary_branches : [ 2 40 43 48 56 81]\n",
      "\n",
      " Working on visualization type: mesh\n",
      "\n",
      " Working on visualization type: skeleton\n"
     ]
    },
    {
     "data": {
      "application/vnd.jupyter.widget-view+json": {
       "model_id": "171580b841d94dc99fb93bdc5fb91dee",
       "version_major": 2,
       "version_minor": 0
      },
      "text/plain": [
       "VBox(children=(Figure(camera=PerspectiveCamera(fov=46.0, position=(0.0, 0.0, 2.0), projectionMatrix=(1.0, 0.0,…"
      ]
     },
     "metadata": {},
     "output_type": "display_data"
    }
   ],
   "source": [
    "\"\"\"\n",
    "For each invalid connected component:\n",
    "    4) Find the shortest path from connected components back to starting node\n",
    "    5) Save off 2nd node on path\n",
    "\n",
    "\"\"\"\n",
    "import networkx_utils as xu\n",
    "\n",
    "\n",
    "boundary_branches = []\n",
    "plot_invalid_conn_comp_path = False\n",
    "plot_boundary_branches = True\n",
    "\n",
    "G_ax_undirected = nx.Graph(G_ax)\n",
    "curr_start_branch = n_obj[axon_limb_name].current_starting_node\n",
    "for j,cc in enumerate(invalid_conn_comp):\n",
    "    cc_path,st_node,end_node = xu.shortest_path_between_two_sets_of_nodes(G_ax_undirected,\n",
    "                                                        cc,\n",
    "                                                        [curr_start_branch])\n",
    "    \n",
    "        \n",
    "    if plot_invalid_conn_comp_path: \n",
    "        nviz.visualize_neuron_path(n_obj,\n",
    "                                       visualize_type = [\"mesh\",\"skeleton\"],\n",
    "                                       limb_idx=axon_limb_name,\n",
    "                                       path = cc_path\n",
    "                                )\n",
    "    curr_boundary_node = cc_path[1]\n",
    "    boundary_branches.append(curr_boundary_node)\n",
    "        \n",
    "    if verbose:\n",
    "        print(f\"\\nFor invalid conn comp {j}, path to starting node ({curr_start_branch}): {cc_path}\")\n",
    "        print(f\"Boundary node = {curr_boundary_node}\")\n",
    "        \n",
    "boundary_branches = np.unique(boundary_branches)\n",
    "\n",
    "if plot_boundary_branches:\n",
    "    print(f\"{len(boundary_branches)} boundary_branches : {boundary_branches}\")\n",
    "    nviz.visualize_neuron(n_obj,\n",
    "                        limb_branch_dict = {axon_limb_name:boundary_branches},\n",
    "                          mesh_color=\"red\",\n",
    "                          mesh_boutons=True,\n",
    "                          mesh_web=True,\n",
    "                          mesh_whole_neuron=True,\n",
    "                          \n",
    "                                )"
   ]
  },
  {
   "cell_type": "markdown",
   "metadata": {},
   "source": [
    "# visualize each of the boundary branches and see if the webbing can tell us anything"
   ]
  },
  {
   "cell_type": "code",
   "execution_count": 26,
   "metadata": {},
   "outputs": [
    {
     "name": "stdout",
     "output_type": "stream",
     "text": [
      "Plotting web intersection for limb_idx 0, branch_idx 43\n",
      "Web Mesh = <trimesh.Trimesh(vertices.shape=(24, 3), faces.shape=(39, 3))>, web_cdf = 0.156437 \n",
      "web_bbox_rations = [1.4012294994752001, 1.281883823508806, 1.0931017879917684], web_volume_ratio = 1.9817747395575478\n",
      "Parent_width (no_bouton_median)= 113.53477364348096\n",
      "Parent_width (no_spine_median_mesh_center) = 113.53477364348096\n",
      "\n",
      "Downstream branch 35 width (no_spine_median_mesh_center) = 60.46133101205814\n",
      "Downstream branch 35 width (no_bouton_median)= 60.46133101205814\n",
      "child_angle = 35.37\n",
      "\n",
      "Downstream branch 42 width (no_spine_median_mesh_center) = 51.41102967402979\n",
      "Downstream branch 42 width (no_bouton_median)= 51.41102967402979\n",
      "child_angle = 17.32\n",
      "\n",
      "sibling_angles = {42: 52.34}\n",
      "\n"
     ]
    },
    {
     "data": {
      "application/vnd.jupyter.widget-view+json": {
       "model_id": "9ce3328c6a8f4933beb6d0d50affffc0",
       "version_major": 2,
       "version_minor": 0
      },
      "text/plain": [
       "VBox(children=(Figure(camera=PerspectiveCamera(fov=46.0, position=(0.0, 0.0, 2.0), projectionMatrix=(1.0, 0.0,…"
      ]
     },
     "metadata": {},
     "output_type": "display_data"
    }
   ],
   "source": [
    "boundary_idx = 2\n",
    "nviz.plot_web_intersection(n_obj,\n",
    "                          limb_idx=nru.limb_idx(axon_limb_name),\n",
    "                         branch_idx=boundary_branches[boundary_idx],\n",
    "                          parent_color=\"black\",\n",
    "                          downstream_color = \"red\",\n",
    "                          web_color = \"aqua\",\n",
    "                      mesh_alpha = 1,\n",
    "                          print_web_info = True,\n",
    "                         plot_boutons = True,\n",
    "                          plot_whole_limb = True,\n",
    "                           whole_limb_alpha=0.2,\n",
    "                          whole_limb_color = \"green\",\n",
    "                    mesh_boutons_color = \"aqua\",\n",
    "                          verbose=True)\n"
   ]
  },
  {
   "cell_type": "code",
   "execution_count": 27,
   "metadata": {},
   "outputs": [
    {
     "data": {
      "application/vnd.jupyter.widget-view+json": {
       "model_id": "22b32a4ee6914d1582525ea0d2ff8dc5",
       "version_major": 2,
       "version_minor": 0
      },
      "text/plain": [
       "VBox(children=(Figure(camera=PerspectiveCamera(fov=46.0, position=(0.0, 0.0, 2.0), projectionMatrix=(1.0, 0.0,…"
      ]
     },
     "metadata": {},
     "output_type": "display_data"
    }
   ],
   "source": [
    "nviz.plot_objects(n_obj[axon_limb_name][boundary_branches[boundary_idx]].web)"
   ]
  },
  {
   "cell_type": "markdown",
   "metadata": {},
   "source": [
    "# collecting the webbings for valid boundaries"
   ]
  },
  {
   "cell_type": "code",
   "execution_count": 28,
   "metadata": {},
   "outputs": [
    {
     "name": "stdout",
     "output_type": "stream",
     "text": [
      "Parent Nodes with at least 2 valid downstream nodes: [9, 15, 31, 34, 38, 39, 46, 48, 49, 54, 55, 59, 60, 61, 63, 64, 66, 67, 68, 69, 70, 71, 72, 73, 76, 78]\n"
     ]
    }
   ],
   "source": [
    "G_valid = G_ax.subgraph(valid_axon_branches)\n",
    "valid_parent_nodes = [k for k in valid_axon_branches if\n",
    "                             len(xu.downstream_nodes(G_valid,k))>=2]\n",
    "if verbose:\n",
    "    print(f\"Parent Nodes with at least 2 valid downstream nodes: {valid_parent_nodes}\")"
   ]
  },
  {
   "cell_type": "code",
   "execution_count": 30,
   "metadata": {},
   "outputs": [],
   "source": [
    "axon_limb_obj = n_obj[axon_limb_name]"
   ]
  },
  {
   "cell_type": "code",
   "execution_count": 34,
   "metadata": {},
   "outputs": [
    {
     "data": {
      "text/plain": [
       "[15, 31, 34, 38, 55, 63, 68]"
      ]
     },
     "execution_count": 34,
     "metadata": {},
     "output_type": "execute_result"
    }
   ],
   "source": [
    "valid_parent_nodes_thin = [v for v in valid_parent_nodes if\n",
    "                          axon_limb_obj[v].width_new[\"no_bouton_median\"] < 60]\n",
    "valid_parent_nodes_thin"
   ]
  },
  {
   "cell_type": "code",
   "execution_count": 50,
   "metadata": {},
   "outputs": [
    {
     "data": {
      "text/plain": [
       "[209.9679964371419]"
      ]
     },
     "execution_count": 50,
     "metadata": {},
     "output_type": "execute_result"
    }
   ],
   "source": [
    "[tu.mesh_size(k,\n",
    "            size_type=\"ray_trace_percentile\") for k in n_obj[axon_limb_name][branch_idx].boutons]"
   ]
  },
  {
   "cell_type": "code",
   "execution_count": 47,
   "metadata": {},
   "outputs": [
    {
     "data": {
      "text/plain": [
       "[211.65795347778595,\n",
       " 579.4369186652187,\n",
       " 324.8126525625711,\n",
       " 547.1708676749229,\n",
       " 229.51173329621844,\n",
       " 273.41485228303685,\n",
       " 328.418867334718,\n",
       " 277.7564035107946,\n",
       " 251.01322857564298,\n",
       " 289.6207632341576,\n",
       " 289.8598412809529,\n",
       " 270.2019687114988]"
      ]
     },
     "execution_count": 47,
     "metadata": {},
     "output_type": "execute_result"
    }
   ],
   "source": [
    "[tu.mesh_size(k,\n",
    "            size_type=\"ray_trace_percentile\") for k in n_obj[axon_limb_name][15].boutons]"
   ]
  },
  {
   "cell_type": "code",
   "execution_count": 44,
   "metadata": {},
   "outputs": [
    {
     "data": {
      "text/plain": [
       "['ray_pyembree', 'ray_trace_distance']"
      ]
     },
     "execution_count": 44,
     "metadata": {},
     "output_type": "execute_result"
    }
   ],
   "source": [
    "import trimesh_utils as tu\n",
    "[k for k in dir(tu) if \"ray\" in k]"
   ]
  },
  {
   "cell_type": "code",
   "execution_count": 46,
   "metadata": {},
   "outputs": [
    {
     "data": {
      "text/plain": [
       "211.62323715849342"
      ]
     },
     "execution_count": 46,
     "metadata": {},
     "output_type": "execute_result"
    }
   ],
   "source": []
  },
  {
   "cell_type": "code",
   "execution_count": null,
   "metadata": {},
   "outputs": [],
   "source": []
  },
  {
   "cell_type": "code",
   "execution_count": null,
   "metadata": {},
   "outputs": [],
   "source": []
  },
  {
   "cell_type": "code",
   "execution_count": 49,
   "metadata": {
    "scrolled": false
   },
   "outputs": [
    {
     "name": "stdout",
     "output_type": "stream",
     "text": [
      "Plotting web intersection for limb_idx 0, branch_idx 38\n",
      "Web Mesh = <trimesh.Trimesh(vertices.shape=(111, 3), faces.shape=(206, 3))>, web_cdf = 0.25173100000000004 \n",
      "web_bbox_rations = [1.9845574256367373, 1.3849251397806055, 1.4329709011933478], web_volume_ratio = 2.0577682530094146\n",
      "\n",
      "Parent Node 38, n_boutons = 1\n",
      "Parent_width (no_bouton_median)= 49.007038121031364\n",
      "Parent_width (no_spine_median_mesh_center) = 54.40558704818267\n",
      "\n",
      "Downstream Branch 15, n_boutons = 12\n",
      "\n",
      "Downstream branch 15 width (no_spine_median_mesh_center) = 62.40832704301233\n",
      "Downstream branch 15 width (no_bouton_median)= 52.08391943566838\n",
      "child_angle = 16.42\n",
      "\n",
      "Downstream Branch 37, n_boutons = 0\n",
      "\n",
      "Downstream branch 37 width (no_spine_median_mesh_center) = 44.51540956998426\n",
      "Downstream branch 37 width (no_bouton_median)= 44.51540956998426\n",
      "child_angle = 96.36\n",
      "\n",
      "sibling_angles = {37: 105.21}\n",
      "\n"
     ]
    },
    {
     "data": {
      "application/vnd.jupyter.widget-view+json": {
       "model_id": "a245c02534274a2c8495fa975a31cc64",
       "version_major": 2,
       "version_minor": 0
      },
      "text/plain": [
       "VBox(children=(Figure(camera=PerspectiveCamera(fov=46.0, position=(0.0, 0.0, 2.0), projectionMatrix=(1.0, 0.0,…"
      ]
     },
     "metadata": {},
     "output_type": "display_data"
    }
   ],
   "source": [
    "valid_idx = 3\n",
    "branch_idx = valid_parent_nodes_thin[valid_idx]\n",
    "#branch_idx = 15\n",
    "nviz.plot_web_intersection(n_obj,\n",
    "                          limb_idx=nru.limb_idx(axon_limb_name),\n",
    "                         branch_idx=branch_idx,\n",
    "                          parent_color=\"black\",\n",
    "                          downstream_color = \"red\",\n",
    "                          web_color = \"aqua\",\n",
    "                      mesh_alpha = 1,\n",
    "                          print_web_info = True,\n",
    "                         plot_boutons = True,\n",
    "                          plot_whole_limb = True,\n",
    "                           whole_limb_alpha=0.2,\n",
    "                          whole_limb_color = \"green\",\n",
    "                    mesh_boutons_color = \"aqua\",\n",
    "                          verbose=True,\n",
    "                          scatters=[valid_synapses_coords],\n",
    "                     scatter_size=0.1,\n",
    "                     scatters_colors=\"red\")\n"
   ]
  },
  {
   "cell_type": "code",
   "execution_count": 38,
   "metadata": {},
   "outputs": [
    {
     "data": {
      "application/vnd.jupyter.widget-view+json": {
       "model_id": "91cba2e4bcbb48999573eb3770a40c94",
       "version_major": 2,
       "version_minor": 0
      },
      "text/plain": [
       "VBox(children=(Figure(camera=PerspectiveCamera(fov=46.0, position=(0.0, 0.0, 2.0), projectionMatrix=(1.0, 0.0,…"
      ]
     },
     "metadata": {},
     "output_type": "display_data"
    }
   ],
   "source": [
    "nviz.plot_objects(n_obj[axon_limb_name][branch_idx].web)"
   ]
  },
  {
   "cell_type": "markdown",
   "metadata": {},
   "source": [
    "# would like to pick out the axon branches that are thin with thick boutons"
   ]
  },
  {
   "cell_type": "code",
   "execution_count": 170,
   "metadata": {},
   "outputs": [
    {
     "name": "stdout",
     "output_type": "stream",
     "text": [
      "{'median_mesh_center': 56.89047598394667, 'no_spine_median_mesh_center': 56.89047598394667, 'no_bouton_median': 53.28575622316487}\n"
     ]
    },
    {
     "data": {
      "application/vnd.jupyter.widget-view+json": {
       "model_id": "7cef3648d07c415e8a9174a5afa96cf0",
       "version_major": 2,
       "version_minor": 0
      },
      "text/plain": [
       "VBox(children=(Figure(camera=PerspectiveCamera(fov=46.0, position=(0.0, 0.0, 2.0), projectionMatrix=(1.0, 0.0,…"
      ]
     },
     "metadata": {},
     "output_type": "display_data"
    }
   ],
   "source": [
    "import neuron_searching as ns\n",
    "branch_obj = neuron_obj_with_boutons[axon_limb_name][5]\n",
    "print(f\"{branch_obj.width_new}\")\n",
    "b_meshes = nru.boutons_above_thresholds(branch_obj,\n",
    "                             faces=80,\n",
    "                            ray_trace_percentile=400)\n",
    "\n",
    "nviz.plot_objects(branch_obj.mesh,\n",
    "                 meshes=b_meshes,\n",
    "                 meshes_colors=\"red\")"
   ]
  },
  {
   "cell_type": "code",
   "execution_count": 171,
   "metadata": {},
   "outputs": [
    {
     "data": {
      "text/plain": [
       "{'L0': array([  2,   5,  12,  15,  18,  22,  29,  33,  34,  36,  40,  41,  78,\n",
       "         81,  83,  85,  97, 105, 108, 112])}"
      ]
     },
     "execution_count": 171,
     "metadata": {},
     "output_type": "execute_result"
    }
   ],
   "source": [
    "# search the neurons for thin axons with thick boutons\n",
    "bouton_limb_branch_dict = ns.query_neuron(n_obj,\n",
    "               functions_list=[\"n_boutons_above_thresholds\",\"width_new\"],\n",
    "               query=\"(n_boutons_above_thresholds>1) & (width_new < 65)\",\n",
    "               function_kwargs=dict(width_new_name='no_bouton_median',\n",
    "                                   faces=60,\n",
    "                                   ray_trace_percentile=400),\n",
    "               return_dataframe=False)\n",
    "bouton_limb_branch_dict"
   ]
  },
  {
   "cell_type": "code",
   "execution_count": 128,
   "metadata": {},
   "outputs": [
    {
     "name": "stdout",
     "output_type": "stream",
     "text": [
      "\n",
      " Working on visualization type: mesh\n"
     ]
    },
    {
     "data": {
      "application/vnd.jupyter.widget-view+json": {
       "model_id": "e6be08ed1808407e99c825ea96498a65",
       "version_major": 2,
       "version_minor": 0
      },
      "text/plain": [
       "VBox(children=(Figure(camera=PerspectiveCamera(fov=46.0, position=(0.0, 0.0, 2.0), projectionMatrix=(1.0, 0.0,…"
      ]
     },
     "metadata": {},
     "output_type": "display_data"
    }
   ],
   "source": [
    "nviz.visualize_neuron(n_obj,\n",
    "                      visualize_type=[\"mesh\"],\n",
    "                      limb_branch_dict=bouton_limb_branch_dict,\n",
    "                     mesh_color=\"red\",\n",
    "                     mesh_boutons=True,\n",
    "                     mesh_whole_neuron=True)"
   ]
  },
  {
   "cell_type": "markdown",
   "metadata": {},
   "source": [
    "# visualize the webbing in the thin axon parts"
   ]
  },
  {
   "cell_type": "code",
   "execution_count": 129,
   "metadata": {},
   "outputs": [],
   "source": [
    "#no_bouton_median\n",
    "types_of_widths = [52,57]"
   ]
  },
  {
   "cell_type": "code",
   "execution_count": 194,
   "metadata": {},
   "outputs": [
    {
     "ename": "IndexError",
     "evalue": "list index out of range",
     "output_type": "error",
     "traceback": [
      "\u001b[0;31m---------------------------------------------------------------------------\u001b[0m",
      "\u001b[0;31mIndexError\u001b[0m                                Traceback (most recent call last)",
      "\u001b[0;32m<ipython-input-194-a4394c1b3b70>\u001b[0m in \u001b[0;36m<module>\u001b[0;34m\u001b[0m\n\u001b[1;32m      2\u001b[0m \u001b[0mthin_branching\u001b[0m \u001b[0;34m=\u001b[0m \u001b[0;34m[\u001b[0m\u001b[0mk\u001b[0m \u001b[0;32mfor\u001b[0m \u001b[0mk\u001b[0m \u001b[0;32min\u001b[0m \u001b[0mthin_axon_bouton_branches\u001b[0m \u001b[0;32mif\u001b[0m \u001b[0mlen\u001b[0m\u001b[0;34m(\u001b[0m\u001b[0mxu\u001b[0m\u001b[0;34m.\u001b[0m\u001b[0mdownstream_nodes\u001b[0m\u001b[0;34m(\u001b[0m\u001b[0mn_obj\u001b[0m\u001b[0;34m[\u001b[0m\u001b[0maxon_limb_name\u001b[0m\u001b[0;34m]\u001b[0m\u001b[0;34m.\u001b[0m\u001b[0mconcept_network_directional\u001b[0m\u001b[0;34m,\u001b[0m\u001b[0mk\u001b[0m\u001b[0;34m)\u001b[0m\u001b[0;34m)\u001b[0m \u001b[0;34m>=\u001b[0m\u001b[0;36m2\u001b[0m\u001b[0;34m]\u001b[0m\u001b[0;34m\u001b[0m\u001b[0;34m\u001b[0m\u001b[0m\n\u001b[1;32m      3\u001b[0m \u001b[0mcurr_idx\u001b[0m \u001b[0;34m=\u001b[0m \u001b[0;36m9\u001b[0m\u001b[0;34m\u001b[0m\u001b[0;34m\u001b[0m\u001b[0m\n\u001b[0;32m----> 4\u001b[0;31m \u001b[0mbranch_idx\u001b[0m \u001b[0;34m=\u001b[0m \u001b[0mthin_branching\u001b[0m\u001b[0;34m[\u001b[0m\u001b[0mcurr_idx\u001b[0m\u001b[0;34m]\u001b[0m\u001b[0;34m\u001b[0m\u001b[0;34m\u001b[0m\u001b[0m\n\u001b[0m\u001b[1;32m      5\u001b[0m nviz.plot_web_intersection(n_obj,\n\u001b[1;32m      6\u001b[0m                           \u001b[0mlimb_idx\u001b[0m\u001b[0;34m=\u001b[0m\u001b[0mnru\u001b[0m\u001b[0;34m.\u001b[0m\u001b[0mlimb_idx\u001b[0m\u001b[0;34m(\u001b[0m\u001b[0maxon_limb_name\u001b[0m\u001b[0;34m)\u001b[0m\u001b[0;34m,\u001b[0m\u001b[0;34m\u001b[0m\u001b[0;34m\u001b[0m\u001b[0m\n",
      "\u001b[0;31mIndexError\u001b[0m: list index out of range"
     ]
    }
   ],
   "source": [
    "thin_axon_bouton_branches = bouton_limb_branch_dict[axon_limb_name]\n",
    "thin_branching = [k for k in thin_axon_bouton_branches if len(xu.downstream_nodes(n_obj[axon_limb_name].concept_network_directional,k)) >=2]\n",
    "curr_idx = 9\n",
    "branch_idx = thin_branching[curr_idx]\n",
    "nviz.plot_web_intersection(n_obj,\n",
    "                          limb_idx=nru.limb_idx(axon_limb_name),\n",
    "                         branch_idx=branch_idx,\n",
    "                          parent_color=\"black\",\n",
    "                          downstream_color = \"red\",\n",
    "                          web_color = \"aqua\",\n",
    "                      mesh_alpha = 1,\n",
    "                          print_web_info = True,\n",
    "                         plot_boutons = True,\n",
    "                          plot_whole_limb = False,\n",
    "                           whole_limb_alpha=0.2,\n",
    "                          whole_limb_color = \"green\",\n",
    "                    mesh_boutons_color = \"aqua\",\n",
    "                          verbose=True,\n",
    "#                           scatters=[valid_synapses_coords],\n",
    "#                      scatter_size=0.1,\n",
    "#                      scatters_colors=\"red\"\n",
    "                          )"
   ]
  },
  {
   "cell_type": "code",
   "execution_count": 193,
   "metadata": {},
   "outputs": [
    {
     "data": {
      "application/vnd.jupyter.widget-view+json": {
       "model_id": "525f5d438a8644e6b3b6ce56451dc9ed",
       "version_major": 2,
       "version_minor": 0
      },
      "text/plain": [
       "VBox(children=(Figure(camera=PerspectiveCamera(fov=46.0, position=(0.0, 0.0, 2.0), projectionMatrix=(1.0, 0.0,…"
      ]
     },
     "metadata": {},
     "output_type": "display_data"
    }
   ],
   "source": [
    "curr_web = neuron_obj_with_web[axon_limb_name][branch_idx].web\n",
    "nviz.plot_objects(curr_web)"
   ]
  },
  {
   "cell_type": "code",
   "execution_count": null,
   "metadata": {},
   "outputs": [],
   "source": []
  },
  {
   "cell_type": "code",
   "execution_count": null,
   "metadata": {},
   "outputs": [],
   "source": []
  },
  {
   "cell_type": "code",
   "execution_count": 180,
   "metadata": {
    "scrolled": false
   },
   "outputs": [
    {
     "name": "stdout",
     "output_type": "stream",
     "text": [
      "Upstream Node (red), Downstream Nodes (aqua)\n"
     ]
    },
    {
     "data": {
      "application/vnd.jupyter.widget-view+json": {
       "model_id": "b4c720d3066549f09276fabe9e58521a",
       "version_major": 2,
       "version_minor": 0
      },
      "text/plain": [
       "VBox(children=(Figure(camera=PerspectiveCamera(fov=46.0, position=(0.0, 0.0, 2.0), projectionMatrix=(1.0, 0.0,…"
      ]
     },
     "metadata": {},
     "output_type": "display_data"
    },
    {
     "name": "stdout",
     "output_type": "stream",
     "text": [
      "Upstream Node (red), Downstream Nodes (aqua)\n"
     ]
    },
    {
     "data": {
      "application/vnd.jupyter.widget-view+json": {
       "model_id": "bef740f2b3834821a84e1e21ccae2817",
       "version_major": 2,
       "version_minor": 0
      },
      "text/plain": [
       "VBox(children=(Figure(camera=PerspectiveCamera(fov=46.0, position=(0.0, 0.0, 2.0), projectionMatrix=(1.0, 0.0,…"
      ]
     },
     "metadata": {},
     "output_type": "display_data"
    },
    {
     "name": "stdout",
     "output_type": "stream",
     "text": [
      "joining_endpoint_1 = [1135542.1499611  701347.6538359  975404.1021107]\n",
      "coordinates_of_intersection = [array([1135055.70656978,  701115.88613709,  975575.88239262]), array([1135851.68531797,  701662.8927696 ,  975170.81816612]), array([1136029.37529759,  701372.55786141,  975509.15760697])]\n",
      "Mesh Split with significance_threshold = 20\n"
     ]
    },
    {
     "data": {
      "application/vnd.jupyter.widget-view+json": {
       "model_id": "141d1b816b64420c9e51aaf98c1eade4",
       "version_major": 2,
       "version_minor": 0
      },
      "text/plain": [
       "VBox(children=(Figure(camera=PerspectiveCamera(fov=46.0, position=(0.0, 0.0, 2.0), projectionMatrix=(1.0, 0.0,…"
      ]
     },
     "metadata": {},
     "output_type": "display_data"
    },
    {
     "data": {
      "application/vnd.jupyter.widget-view+json": {
       "model_id": "957420854176401fbad1a8bd15b9e54d",
       "version_major": 2,
       "version_minor": 0
      },
      "text/plain": [
       "VBox(children=(Figure(camera=PerspectiveCamera(fov=46.0, position=(0.0, 0.0, 2.0), projectionMatrix=(1.0, 0.0,…"
      ]
     },
     "metadata": {},
     "output_type": "display_data"
    },
    {
     "data": {
      "application/vnd.jupyter.widget-view+json": {
       "model_id": "ac2a745ffa5841aab3d06f4a1f098d43",
       "version_major": 2,
       "version_minor": 0
      },
      "text/plain": [
       "  0%|          | 0/13 [00:00<?, ?it/s]"
      ]
     },
     "metadata": {},
     "output_type": "display_data"
    },
    {
     "name": "stdout",
     "output_type": "stream",
     "text": [
      "Before volume filter\n",
      "Segmentation Info:\n",
      "Mesh 0: <trimesh.Trimesh(vertices.shape=(214, 3), faces.shape=(415, 3))> (0.493695)\n",
      "Mesh 1: <trimesh.Trimesh(vertices.shape=(187, 3), faces.shape=(355, 3))> (0.190356)\n",
      "Mesh 2: <trimesh.Trimesh(vertices.shape=(82, 3), faces.shape=(154, 3))> (0.319745)\n",
      "Mesh 3: <trimesh.Trimesh(vertices.shape=(55, 3), faces.shape=(102, 3))> (0.1572965)\n",
      "Mesh 4: <trimesh.Trimesh(vertices.shape=(28, 3), faces.shape=(51, 3))> (0.115328)\n",
      "Mesh 5: <trimesh.Trimesh(vertices.shape=(19, 3), faces.shape=(29, 3))> (0.378686)\n",
      "Mesh 6: <trimesh.Trimesh(vertices.shape=(16, 3), faces.shape=(23, 3))> (0.259744)\n",
      "Mesh 7: <trimesh.Trimesh(vertices.shape=(10, 3), faces.shape=(13, 3))> (0.0563972)\n",
      "Mesh 8: <trimesh.Trimesh(vertices.shape=(9, 3), faces.shape=(12, 3))> (0.0433097)\n",
      "Mesh 9: <trimesh.Trimesh(vertices.shape=(10, 3), faces.shape=(11, 3))> (0.0493241)\n",
      "Mesh 10: <trimesh.Trimesh(vertices.shape=(9, 3), faces.shape=(10, 3))> (0.1707105)\n",
      "Mesh 11: <trimesh.Trimesh(vertices.shape=(7, 3), faces.shape=(8, 3))> (0.0)\n",
      "Mesh 12: <trimesh.Trimesh(vertices.shape=(6, 3), faces.shape=(7, 3))> (0.0261446)\n"
     ]
    },
    {
     "data": {
      "application/vnd.jupyter.widget-view+json": {
       "model_id": "c05a5677e7164c7b8ebe731e5a6b06f6",
       "version_major": 2,
       "version_minor": 0
      },
      "text/plain": [
       "VBox(children=(Figure(camera=PerspectiveCamera(fov=46.0, position=(0.0, 0.0, 2.0), projectionMatrix=(1.0, 0.0,…"
      ]
     },
     "metadata": {},
     "output_type": "display_data"
    },
    {
     "name": "stdout",
     "output_type": "stream",
     "text": [
      "Number of segmentation before volume filter = 13\n",
      "Number of segmentation AFTER volume filter = 5\n",
      "After volume filter\n",
      "Segmentation Info:\n",
      "Mesh 0: <trimesh.Trimesh(vertices.shape=(214, 3), faces.shape=(415, 3))> (0.493695)\n",
      "Mesh 1: <trimesh.Trimesh(vertices.shape=(82, 3), faces.shape=(154, 3))> (0.319745)\n",
      "Mesh 2: <trimesh.Trimesh(vertices.shape=(55, 3), faces.shape=(102, 3))> (0.1572965)\n",
      "Mesh 3: <trimesh.Trimesh(vertices.shape=(28, 3), faces.shape=(51, 3))> (0.115328)\n",
      "Mesh 4: <trimesh.Trimesh(vertices.shape=(16, 3), faces.shape=(23, 3))> (0.259744)\n"
     ]
    },
    {
     "data": {
      "application/vnd.jupyter.widget-view+json": {
       "model_id": "5dc763c7227443419614356277aa5c37",
       "version_major": 2,
       "version_minor": 0
      },
      "text/plain": [
       "VBox(children=(Figure(camera=PerspectiveCamera(fov=46.0, position=(0.0, 0.0, 2.0), projectionMatrix=(1.0, 0.0,…"
      ]
     },
     "metadata": {},
     "output_type": "display_data"
    },
    {
     "data": {
      "application/vnd.jupyter.widget-view+json": {
       "model_id": "0f99aa765bd9476ca1791cedd1d83c7d",
       "version_major": 2,
       "version_minor": 0
      },
      "text/plain": [
       "VBox(children=(Figure(camera=PerspectiveCamera(fov=46.0, position=(0.0, 0.0, 2.0), projectionMatrix=(1.0, 0.0,…"
      ]
     },
     "metadata": {},
     "output_type": "display_data"
    },
    {
     "name": "stdout",
     "output_type": "stream",
     "text": [
      "web_mesh = <trimesh.Trimesh(vertices.shape=(214, 3), faces.shape=(415, 3))>, web_cdf = 0.493695\n"
     ]
    },
    {
     "data": {
      "text/plain": [
       "(<trimesh.Trimesh(vertices.shape=(214, 3), faces.shape=(415, 3))>, 0.493695)"
      ]
     },
     "execution_count": 180,
     "metadata": {},
     "output_type": "execute_result"
    }
   ],
   "source": [
    "# import axon_utils as au\n",
    "# au.calculate_axon_webbing_on_branch(n_obj,\n",
    "#                                    axon_limb_name,\n",
    "#                                    2,\n",
    "#                             allow_plotting = True,\n",
    "#                             plot_intersection_mesh = True,\n",
    "#                             plot_intersection_mesh_without_boutons = True,\n",
    "#                             split_significance_threshold = 20,\n",
    "#                             plot_split = True,\n",
    "#                             plot_split_closest_mesh = True,\n",
    "#                             plot_segmentation_before_web = True,\n",
    "#                             plot_web = True,\n",
    "#                           verbose = True,)"
   ]
  },
  {
   "cell_type": "code",
   "execution_count": 179,
   "metadata": {},
   "outputs": [
    {
     "data": {
      "application/vnd.jupyter.widget-view+json": {
       "model_id": "bca314a70d8544faa81d75d0fa3e66cf",
       "version_major": 2,
       "version_minor": 0
      },
      "text/plain": [
       "VBox(children=(Figure(camera=PerspectiveCamera(fov=46.0, position=(0.0, 0.0, 2.0), projectionMatrix=(1.0, 0.0,…"
      ]
     },
     "metadata": {},
     "output_type": "display_data"
    }
   ],
   "source": []
  },
  {
   "cell_type": "code",
   "execution_count": null,
   "metadata": {},
   "outputs": [],
   "source": []
  }
 ],
 "metadata": {
  "kernelspec": {
   "display_name": "Python 3",
   "language": "python",
   "name": "python3"
  },
  "language_info": {
   "codemirror_mode": {
    "name": "ipython",
    "version": 3
   },
   "file_extension": ".py",
   "mimetype": "text/x-python",
   "name": "python",
   "nbconvert_exporter": "python",
   "pygments_lexer": "ipython3",
   "version": "3.6.9"
  }
 },
 "nbformat": 4,
 "nbformat_minor": 4
}
