{
 "cells": [
  {
   "cell_type": "code",
   "execution_count": null,
   "metadata": {},
   "outputs": [],
   "source": [
    "\"\"\"\n",
    "Purpose: To put all of the rules together\n",
    "to autoatically proofread a cell\n",
    "\n",
    "\n",
    "\"\"\""
   ]
  },
  {
   "cell_type": "code",
   "execution_count": null,
   "metadata": {},
   "outputs": [],
   "source": [
    "%load_ext autoreload\n",
    "%autoreload 2"
   ]
  },
  {
   "cell_type": "code",
   "execution_count": null,
   "metadata": {},
   "outputs": [],
   "source": [
    "from os import sys\n",
    "sys.path.append(\"/meshAfterParty/\")"
   ]
  },
  {
   "cell_type": "code",
   "execution_count": null,
   "metadata": {},
   "outputs": [],
   "source": [
    "from importlib import reload\n",
    "\n",
    "import neuron_utils as nru\n",
    "\n",
    "import neuron\n",
    "\n",
    "import neuron_visualizations as nviz\n",
    "\n",
    "import time\n",
    "\n",
    "import datajoint_utils as du\n",
    "\n",
    "import numpy as np\n",
    "\n",
    "import proofreading_utils as pru\n",
    "\n",
    "import preprocessing_vp2 as pre\n",
    "\n",
    "# -- For the axon classification --\n",
    "\n",
    "import neuron_searching as ns\n",
    "\n",
    "import skeleton_utils as sk\n",
    "\n",
    "import numpy_utils as nu\n",
    "\n",
    "import networkx_utils as xu\n",
    "\n",
    "import system_utils as su\n",
    "\n",
    "import classification_utils as clu\n",
    "import proofreading_utils as pru"
   ]
  },
  {
   "cell_type": "code",
   "execution_count": null,
   "metadata": {},
   "outputs": [],
   "source": [
    "minnie,schema = du.configure_minnie_vm()"
   ]
  },
  {
   "cell_type": "markdown",
   "metadata": {},
   "source": [
    "# Importing the Neuron"
   ]
  },
  {
   "cell_type": "code",
   "execution_count": null,
   "metadata": {},
   "outputs": [],
   "source": [
    "curr_table = minnie.Decomposition & \"process_version = 4\" & \"n_limbs>5\" \n",
    "curr_table"
   ]
  },
  {
   "cell_type": "code",
   "execution_count": null,
   "metadata": {},
   "outputs": [],
   "source": [
    "segment_id = 864691135403709422"
   ]
  },
  {
   "cell_type": "code",
   "execution_count": null,
   "metadata": {},
   "outputs": [],
   "source": [
    "neuron_obj_original = (curr_table & dict(segment_id=segment_id)).fetch1(\"decomposition\")"
   ]
  },
  {
   "cell_type": "code",
   "execution_count": null,
   "metadata": {},
   "outputs": [],
   "source": [
    "nviz.visualize_neuron_lite(neuron_obj_original)"
   ]
  },
  {
   "cell_type": "code",
   "execution_count": null,
   "metadata": {},
   "outputs": [],
   "source": []
  },
  {
   "cell_type": "markdown",
   "metadata": {},
   "source": [
    "# Splitting the Neuron"
   ]
  },
  {
   "cell_type": "code",
   "execution_count": null,
   "metadata": {
    "scrolled": true
   },
   "outputs": [],
   "source": [
    "split_results = pru.multi_soma_split_suggestions(neuron_obj_original,\n",
    "                                                )"
   ]
  },
  {
   "cell_type": "code",
   "execution_count": null,
   "metadata": {},
   "outputs": [],
   "source": [
    "nviz.plot_split_suggestions_per_limb(neuron_obj_original,\n",
    "                                    split_results)"
   ]
  },
  {
   "cell_type": "code",
   "execution_count": null,
   "metadata": {},
   "outputs": [],
   "source": [
    "(neuron_list,\n",
    "neuron_list_errored_limbs_area,\n",
    " neuron_list_errored_limbs_skeletal_length,\n",
    "neuron_list_n_multi_soma_errors,\n",
    "neuron_list_n_same_soma_errors) = pru.split_neuron(neuron_obj_original,\n",
    "                limb_results=split_results,\n",
    "                               verbose=False,\n",
    "                                return_error_info=True\n",
    "                                    )\n",
    "\n",
    "print(f\" # of neurons = {len(neuron_list)}\")\n",
    "print(f\"neuron_list_errored_limbs_area = {neuron_list_errored_limbs_area}\")\n",
    "print(f\"neuron_list_errored_limbs_skeletal_length = {neuron_list_errored_limbs_skeletal_length}\")\n",
    "print(f\"neuron_list_n_multi_soma_errors = {neuron_list_n_multi_soma_errors}\")\n",
    "print(f\"neuron_list_n_same_soma_errors = {neuron_list_n_same_soma_errors}\")"
   ]
  },
  {
   "cell_type": "code",
   "execution_count": null,
   "metadata": {},
   "outputs": [],
   "source": [
    "neuron_obj_1 = neuron_list[0]\n",
    "nviz.visualize_neuron_lite(neuron_obj_1)"
   ]
  },
  {
   "cell_type": "code",
   "execution_count": null,
   "metadata": {},
   "outputs": [],
   "source": [
    "neuron_obj_2 = neuron_list[1]\n",
    "nviz.visualize_neuron_lite(neuron_obj_2)"
   ]
  },
  {
   "cell_type": "markdown",
   "metadata": {},
   "source": [
    "# Iterating through the Neurons"
   ]
  },
  {
   "cell_type": "code",
   "execution_count": null,
   "metadata": {},
   "outputs": [],
   "source": [
    "import copy\n",
    "import time\n",
    "neuron_obj = copy.deepcopy(neuron_obj_1)\n",
    "\n",
    "debug_time = True\n",
    "verbose = True"
   ]
  },
  {
   "cell_type": "markdown",
   "metadata": {},
   "source": [
    "# Step 1: Axon Classification"
   ]
  },
  {
   "cell_type": "code",
   "execution_count": null,
   "metadata": {},
   "outputs": [],
   "source": [
    "filter_time = time.time()\n",
    "\n",
    "axon_limb_branch_dict,axon_angles = clu.axon_classification(neuron_obj,\n",
    "                                                        return_error_labels=False,\n",
    "                                                        verbose=False,\n",
    "                                                        plot_axons=False,\n",
    "                                                        label_axon_errors=True,\n",
    "                                                        return_axon_angles=True)\n",
    "\n",
    "if debug_time:\n",
    "    print(f\"Axon Classification = {time.time() - filter_time}\")\n",
    "    filter_time = time.time()"
   ]
  },
  {
   "cell_type": "code",
   "execution_count": null,
   "metadata": {},
   "outputs": [],
   "source": [
    "print(f\"axon_angles = {axon_angles}\")"
   ]
  },
  {
   "cell_type": "code",
   "execution_count": null,
   "metadata": {},
   "outputs": [],
   "source": [
    "import neuron_searching as ns\n",
    "axon_limb_branch_dict = ns.query_neuron_by_labels(neuron_obj,\n",
    "                                                 matching_labels=[\"axon\"])\n",
    "nviz.plot_limb_branch_dict(neuron_obj,\n",
    "                          axon_limb_branch_dict)"
   ]
  },
  {
   "cell_type": "code",
   "execution_count": null,
   "metadata": {},
   "outputs": [],
   "source": [
    "axon_like_limb_branch_dict = ns.query_neuron_by_labels(neuron_obj,\n",
    "                                                 matching_labels=[\"axon-like\"])\n",
    "nviz.plot_limb_branch_dict(neuron_obj,\n",
    "                          axon_like_limb_branch_dict)"
   ]
  },
  {
   "cell_type": "markdown",
   "metadata": {},
   "source": [
    "# Classify the Neuron Cell Type"
   ]
  },
  {
   "cell_type": "code",
   "execution_count": null,
   "metadata": {},
   "outputs": [],
   "source": [
    "clu.inhibitory_excitatory_classifier(neuron_obj,\n",
    "                                     verbose=True,\n",
    "\n",
    "axon_limb_branch_dict=axon_limb_branch_dict,\n",
    "    axon_angles=axon_angles)"
   ]
  },
  {
   "cell_type": "code",
   "execution_count": null,
   "metadata": {},
   "outputs": [],
   "source": [
    "axon_limb_branch_dict"
   ]
  },
  {
   "cell_type": "code",
   "execution_count": null,
   "metadata": {},
   "outputs": [],
   "source": [
    "clu = reload(clu)"
   ]
  },
  {
   "cell_type": "code",
   "execution_count": null,
   "metadata": {},
   "outputs": [],
   "source": [
    "filter_time = time.time()\n",
    "\n",
    "(inh_exc_class,\n",
    "             spine_category,\n",
    "             axon_angles,\n",
    "             n_axons,\n",
    "             n_apicals,\n",
    "             neuron_spine_density,\n",
    "             n_branches_processed,\n",
    "             skeletal_length_processed,\n",
    "             n_branches_in_search_radius,\n",
    "             skeletal_length_in_search_radius\n",
    "             ) = clu.inhibitory_excitatory_classifier(neuron_obj,\n",
    "                                                return_spine_classification=True,\n",
    "                                                return_axon_angles=True,\n",
    "                                                 return_n_axons=True,\n",
    "                                                 return_n_apicals=True,\n",
    "                                                 return_spine_statistics=True,\n",
    "                                                     axon_limb_branch_dict_precomputed=axon_limb_branch_dict,\n",
    "                                                axon_angles_precomputed=axon_angles)\n",
    "\n",
    "if debug_time:\n",
    "    print(f\"Inhibitory Excitatory Classification = {time.time() - filter_time}\")\n",
    "    filter_time = time.time()"
   ]
  },
  {
   "cell_type": "code",
   "execution_count": null,
   "metadata": {},
   "outputs": [],
   "source": [
    "if verbose:\n",
    "    print(\"\\n -- Cell Type Classification Results --\")\n",
    "    print(f\"inh_exc_class={inh_exc_class}\")\n",
    "    print(f\"spine_category={spine_category}\")\n",
    "    print(f\"axon_angles={axon_angles}\")\n",
    "    print(f\"n_axons={n_axons}\")\n",
    "    print(f\"n_apicals={n_apicals}\")\n",
    "    print(f\"neuron_spine_density={neuron_spine_density}\")\n",
    "    print(f\"n_branches_processed={n_branches_processed}\")\n",
    "    print(f\"skeletal_length_processed={skeletal_length_processed}\")\n",
    "    print(f\"n_branches_in_search_radius={n_branches_in_search_radius}\")\n",
    "    print(f\"skeletal_length_in_search_radius={skeletal_length_in_search_radius}\")\n"
   ]
  },
  {
   "cell_type": "markdown",
   "metadata": {},
   "source": [
    "# Doing the Excitatory Filtering"
   ]
  }
 ],
 "metadata": {
  "kernelspec": {
   "display_name": "Python 3",
   "language": "python",
   "name": "python3"
  },
  "language_info": {
   "codemirror_mode": {
    "name": "ipython",
    "version": 3
   },
   "file_extension": ".py",
   "mimetype": "text/x-python",
   "name": "python",
   "nbconvert_exporter": "python",
   "pygments_lexer": "ipython3",
   "version": "3.6.9"
  }
 },
 "nbformat": 4,
 "nbformat_minor": 4
}
