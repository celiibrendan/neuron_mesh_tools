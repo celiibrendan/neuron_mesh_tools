{
 "cells": [
  {
   "cell_type": "code",
   "execution_count": null,
   "metadata": {},
   "outputs": [],
   "source": [
    "\"\"\"\n",
    "Purpose: To implement a proofreading rule that eliminates axon messes\n",
    "\n",
    "Psuedocode: \n",
    "1) Get the concept graph of the axon \n",
    "2) Eliminate all of the nodes that are too long skeletal length\n",
    "3) Divide the remaining axon into connected components\n",
    "- if too many nodes are in the connected component then it is\n",
    "an axon mess and should delete all those nodes\n",
    "\n",
    "\n",
    "\n",
    "\n",
    "\"\"\""
   ]
  },
  {
   "cell_type": "code",
   "execution_count": 1,
   "metadata": {},
   "outputs": [],
   "source": [
    "%load_ext autoreload\n",
    "%autoreload 2"
   ]
  },
  {
   "cell_type": "code",
   "execution_count": 2,
   "metadata": {},
   "outputs": [],
   "source": [
    "from os import sys\n",
    "sys.path.append(\"/meshAfterParty/\")"
   ]
  },
  {
   "cell_type": "code",
   "execution_count": 3,
   "metadata": {},
   "outputs": [
    {
     "name": "stderr",
     "output_type": "stream",
     "text": [
      "INFO - 2021-01-29 18:30:14,486 - settings - Setting database.host to at-database.ad.bcm.edu\n",
      "INFO - 2021-01-29 18:30:14,487 - settings - Setting database.user to celiib\n",
      "INFO - 2021-01-29 18:30:14,488 - settings - Setting database.password to newceliipass\n",
      "INFO - 2021-01-29 18:30:14,492 - settings - Setting stores to {'minnie65': {'protocol': 'file', 'location': '/mnt/dj-stor01/platinum/minnie65', 'stage': '/mnt/dj-stor01/platinum/minnie65'}, 'meshes': {'protocol': 'file', 'location': '/mnt/dj-stor01/platinum/minnie65/02/meshes', 'stage': '/mnt/dj-stor01/platinum/minnie65/02/meshes'}, 'decimated_meshes': {'protocol': 'file', 'location': '/mnt/dj-stor01/platinum/minnie65/02/decimated_meshes', 'stage': '/mnt/dj-stor01/platinum/minnie65/02/decimated_meshes'}, 'skeletons': {'protocol': 'file', 'location': '/mnt/dj-stor01/platinum/minnie65/02/skeletons'}}\n",
      "INFO - 2021-01-29 18:30:14,493 - settings - Setting enable_python_native_blobs to True\n",
      "INFO - 2021-01-29 18:30:14,506 - connection - Connected celiib@at-database.ad.bcm.edu:3306\n"
     ]
    },
    {
     "name": "stdout",
     "output_type": "stream",
     "text": [
      "Connecting celiib@at-database.ad.bcm.edu:3306\n"
     ]
    },
    {
     "name": "stderr",
     "output_type": "stream",
     "text": [
      "INFO - 2021-01-29 18:30:14,775 - settings - Setting enable_python_native_blobs to True\n"
     ]
    }
   ],
   "source": [
    "from importlib import reload\n",
    "\n",
    "import neuron_utils as nru\n",
    "\n",
    "import neuron\n",
    "\n",
    "import neuron_visualizations as nviz\n",
    "\n",
    "import time\n",
    "\n",
    "import datajoint_utils as du\n",
    "\n",
    "import numpy as np\n",
    "\n",
    "import proofreading_utils as pru\n",
    "\n",
    "import preprocessing_vp2 as pre\n",
    "\n",
    "# -- For the axon classification --\n",
    "\n",
    "import neuron_searching as ns\n",
    "\n",
    "import skeleton_utils as sk\n",
    "\n",
    "import numpy_utils as nu\n",
    "\n",
    "import networkx_utils as xu\n",
    "\n",
    "import system_utils as su\n",
    "\n",
    "import classification_utils as clu\n",
    "import proofreading_utils as pru"
   ]
  },
  {
   "cell_type": "code",
   "execution_count": 4,
   "metadata": {},
   "outputs": [
    {
     "name": "stderr",
     "output_type": "stream",
     "text": [
      "INFO - 2021-01-29 18:30:21,403 - settings - Setting enable_python_native_blobs to True\n",
      "INFO - 2021-01-29 18:30:21,677 - settings - Setting enable_python_native_blobs to True\n"
     ]
    }
   ],
   "source": [
    "minnie,schema = du.configure_minnie_vm()"
   ]
  },
  {
   "cell_type": "markdown",
   "metadata": {},
   "source": [
    "# Getting the Neuron"
   ]
  },
  {
   "cell_type": "code",
   "execution_count": 76,
   "metadata": {},
   "outputs": [],
   "source": [
    "segment_id = 864691134884741370 #worked\n",
    "#segment_id = 864691135578531524"
   ]
  },
  {
   "cell_type": "code",
   "execution_count": 77,
   "metadata": {},
   "outputs": [
    {
     "name": "stdout",
     "output_type": "stream",
     "text": [
      "Decompressing Neuron in minimal output mode...please wait\n"
     ]
    }
   ],
   "source": [
    "neuron_obj = (minnie.Decomposition() & dict(segment_id=segment_id)).fetch1(\"decomposition\")"
   ]
  },
  {
   "cell_type": "code",
   "execution_count": 78,
   "metadata": {},
   "outputs": [
    {
     "name": "stdout",
     "output_type": "stream",
     "text": [
      "\n",
      " Working on visualization type: mesh\n"
     ]
    },
    {
     "data": {
      "application/vnd.jupyter.widget-view+json": {
       "model_id": "6f6525ad1c5944a0a7f0df7e233257ec",
       "version_major": 2,
       "version_minor": 0
      },
      "text/plain": [
       "VBox(children=(Figure(camera=PerspectiveCamera(fov=46.0, position=(0.0, 0.0, 2.0), quaternion=(0.0, 0.0, 0.0, …"
      ]
     },
     "metadata": {},
     "output_type": "display_data"
    }
   ],
   "source": [
    "nviz.visualize_neuron_lite(neuron_obj)"
   ]
  },
  {
   "cell_type": "markdown",
   "metadata": {},
   "source": [
    "# Processing the Neuron"
   ]
  },
  {
   "cell_type": "code",
   "execution_count": 54,
   "metadata": {},
   "outputs": [
    {
     "data": {
      "text/plain": [
       "'\\n1) Split the neuron\\n2) Look for really high degree splits\\n2) Identify the Axon\\n\\n\\n'"
      ]
     },
     "execution_count": 54,
     "metadata": {},
     "output_type": "execute_result"
    }
   ],
   "source": [
    "\"\"\"\n",
    "1) Split the neuron\n",
    "2) Look for really high degree splits\n",
    "2) Identify the Axon\n",
    "\n",
    "\n",
    "\"\"\""
   ]
  },
  {
   "cell_type": "markdown",
   "metadata": {},
   "source": [
    "# Splittig the Neuron"
   ]
  },
  {
   "cell_type": "code",
   "execution_count": 79,
   "metadata": {},
   "outputs": [
    {
     "name": "stdout",
     "output_type": "stream",
     "text": [
      "No error limbs to processs so just returning the original neuron\n"
     ]
    }
   ],
   "source": [
    "import proofreading_utils as pru\n",
    "split_neurons = pru.split_neuron(neuron_obj)"
   ]
  },
  {
   "cell_type": "code",
   "execution_count": 80,
   "metadata": {},
   "outputs": [],
   "source": [
    "curr_neuron_obj = split_neurons[0]"
   ]
  },
  {
   "cell_type": "code",
   "execution_count": 81,
   "metadata": {},
   "outputs": [
    {
     "data": {
      "text/plain": [
       "0"
      ]
     },
     "execution_count": 81,
     "metadata": {},
     "output_type": "execute_result"
    }
   ],
   "source": [
    "curr_neuron_obj.n_error_limbs"
   ]
  },
  {
   "cell_type": "markdown",
   "metadata": {},
   "source": [
    "# Developing the Axon Mess Function "
   ]
  },
  {
   "cell_type": "code",
   "execution_count": 214,
   "metadata": {},
   "outputs": [
    {
     "data": {
      "text/plain": [
       "{'L0': [73, 78, 81, 83, 84, 85], 'L4': [3, 8, 11, 17, 18]}"
      ]
     },
     "execution_count": 214,
     "metadata": {},
     "output_type": "execute_result"
    }
   ],
   "source": [
    "ret_group = nru.low_branch_length_clusters(curr_neuron_obj,\n",
    "                         max_skeletal_length = 10000,\n",
    "                        use_axon_like_restriction=False)\n",
    "ret_group"
   ]
  },
  {
   "cell_type": "code",
   "execution_count": 185,
   "metadata": {},
   "outputs": [
    {
     "name": "stdout",
     "output_type": "stream",
     "text": [
      "\n",
      " Working on visualization type: mesh\n"
     ]
    },
    {
     "data": {
      "application/vnd.jupyter.widget-view+json": {
       "model_id": "7dd9104daac443c8b48aa7d5938997b8",
       "version_major": 2,
       "version_minor": 0
      },
      "text/plain": [
       "VBox(children=(Figure(camera=PerspectiveCamera(fov=46.0, position=(0.0, 0.0, 2.0), quaternion=(0.0, 0.0, 0.0, …"
      ]
     },
     "metadata": {},
     "output_type": "display_data"
    }
   ],
   "source": [
    "nviz.plot_limb_branch_dict(neuron_obj,\n",
    "                          ret_group)"
   ]
  },
  {
   "cell_type": "code",
   "execution_count": 219,
   "metadata": {
    "scrolled": false
   },
   "outputs": [
    {
     "name": "stdout",
     "output_type": "stream",
     "text": [
      "\n",
      "\n",
      "----Working on seperate_graph 0----\n",
      "\n",
      "\n",
      "---------Working on soma_idx = 0, soma_group_idx 0, endpt = [ 571559.  687939. 1051520.]---------\n",
      "Starting_edge inside branches_to_conept = [[ 571559.  687939. 1051520.]\n",
      " [ 572210.  686820. 1051460.]]\n",
      "At the start, starting_node (in terms of the skeleton, that shouldn't match the starting edge) = [17]\n",
      "printing out current edge:\n",
      "[[ 571559.  687939. 1051520.]\n",
      " [ 572210.  686820. 1051460.]]\n",
      "edge_endpoints_to_process was empty so exiting loop after 37 iterations\n",
      "starting_node in concept map (that should match the starting edge) = 18\n",
      "Total time for branches to concept conversion = 0.9459793567657471\n",
      "\n",
      "Done generating concept network \n",
      "\n",
      "\n",
      "\n",
      "\n",
      "----Working on seperate_graph 0----\n",
      "\n",
      "\n",
      "---------Working on soma_idx = 0, soma_group_idx 0, endpt = [ 569860.84988831  702506.41601337 1054316.10516109]---------\n",
      "Starting_edge inside branches_to_conept = [[ 569860.84988831  702506.41601337 1054316.10516109]\n",
      " [ 583740.9851677   749746.91737799 1059022.87518891]]\n",
      "At the start, starting_node (in terms of the skeleton, that shouldn't match the starting edge) = [1]\n",
      "printing out current edge:\n",
      "[[ 569860.84988831  702506.41601337 1054316.10516109]\n",
      " [ 583740.9851677   749746.91737799 1059022.87518891]]\n",
      "edge_endpoints_to_process was empty so exiting loop after 7 iterations\n",
      "starting_node in concept map (that should match the starting edge) = 1\n",
      "Total time for branches to concept conversion = 0.16135501861572266\n",
      "\n",
      "Done generating concept network \n",
      "\n",
      "\n",
      "\n",
      "\n",
      "------ Working on Soma 0 -------\n",
      "limb_neighbors = [0, 1, 2, 3, 4, 5, 6, 7, 8]\n",
      "limb_neighbors BEFORE error limbs removed = [0, 1, 2, 3, 4, 5, 6, 7, 8]\n",
      "limb_neighbors AFTER error limbs removed = [0 1 2 3 4 5 6 7 8]\n",
      "curr_n_multi_soma_limbs_cancelled = 0\n",
      "curr_n_same_soma_limbs_cancelled = 0\n",
      "n_errored_lims = 0\n",
      "curr_error_limbs_cancelled_area = []\n",
      "local_floating_meshes = []\n",
      "Already have preprocessed data\n",
      "--- 1) Finished unpacking preprocessed materials: 8.106231689453125e-05\n",
      "total_edges = [['S0', 'L0'], ['S0', 'L1'], ['S0', 'L2'], ['S0', 'L3'], ['S0', 'L4'], ['S0', 'L5'], ['S0', 'L6'], ['S0', 'L7'], ['S0', 'L8']]\n",
      "--- 2) Finished creating neuron connectivity graph: 0.0001373291015625\n",
      "Having to generate soma_meshes_face_idx because none in preprocessed data\n",
      "--- 3a) Finshed generating soma_meshes_face_idx: 0.14925217628479004\n",
      "Using precomputed volume ratio\n",
      "--- 3b) Finished soma creation: 0.08340787887573242\n",
      "--- 3) Finshed generating soma objects and adding them to concept graph: 2.7894973754882812e-05\n",
      "Using already existing limb_mehses_face_idx in preprocessed data \n",
      "curr_limb_concept_networks= {0: [<networkx_utils.GraphOrderedEdges object at 0x7fd5481a1b00>]}\n",
      "curr_limb_concept_networks= {0: [<networkx_utils.GraphOrderedEdges object at 0x7fd55919e278>]}\n",
      "curr_limb_concept_networks= {0: [<networkx_utils.GraphOrderedEdges object at 0x7fd553e17ac8>]}\n",
      "curr_limb_concept_networks= {0: [<networkx_utils.GraphOrderedEdges object at 0x7fd553e177b8>]}\n",
      "curr_limb_concept_networks= {0: [<networkx_utils.GraphOrderedEdges object at 0x7fd553e17b38>]}\n",
      "curr_limb_concept_networks= {0: [<networkx_utils.GraphOrderedEdges object at 0x7fd553e17f28>]}\n",
      "curr_limb_concept_networks= {0: [<networkx_utils.GraphOrderedEdges object at 0x7fd54fd34ba8>]}\n",
      "Concept graph size was 1 or less so returning original\n",
      "curr_limb_concept_networks= {0: [<networkx_utils.GraphOrderedEdges object at 0x7fd548235c88>]}\n",
      "Concept graph size was 1 or less so returning original\n",
      "curr_limb_concept_networks= {0: [<networkx_utils.GraphOrderedEdges object at 0x7fd54e219a58>]}\n",
      "Concept graph size was 1 or less so returning original\n",
      "--- 4) Finshed generating Limb objects and adding them to concept graph: 1.9405195713043213\n",
      "--- 5) SKIPPING Doing the adaptive mesh correspondence on the meshparty preprocessing ---\n",
      "--- 6) SKIPPING Using the computed_attribute_dict to populate neuron attributes ---\n",
      "self.n_limbs = 9\n",
      "7) Calculating the spines for the neuorn if do not already exist\n",
      "Total time for neuron instance creation = 4.1081438064575195\n",
      "\n",
      "\n",
      "Number of seperate neuron objects = 1\n",
      "\n",
      " Working on visualization type: mesh\n"
     ]
    },
    {
     "data": {
      "application/vnd.jupyter.widget-view+json": {
       "model_id": "7dc0491b36724f2dbbe4fb86692c30b4",
       "version_major": 2,
       "version_minor": 0
      },
      "text/plain": [
       "VBox(children=(Figure(camera=PerspectiveCamera(fov=46.0, position=(0.0, 0.0, 2.0), quaternion=(0.0, 0.0, 0.0, …"
      ]
     },
     "metadata": {},
     "output_type": "display_data"
    },
    {
     "data": {
      "text/plain": [
       "(<neuron.Neuron at 0x7fd558559470>, 2651.9004269156217, 2175.1189226707065)"
      ]
     },
     "execution_count": 219,
     "metadata": {},
     "output_type": "execute_result"
    }
   ],
   "source": [
    "pru.filter_away_low_branch_length_clusters(curr_neuron_obj,\n",
    "                                           max_skeletal_length=10000,\n",
    "                                           plot_limb_branch_filter_away=False,\n",
    "                                           plot_limb_branch_filter_with_disconnect_effect=False,\n",
    "                                          plot_final_neuron=True)"
   ]
  },
  {
   "cell_type": "markdown",
   "metadata": {},
   "source": [
    "# Find all the high degree nodes"
   ]
  },
  {
   "cell_type": "code",
   "execution_count": 16,
   "metadata": {},
   "outputs": [
    {
     "data": {
      "text/plain": [
       "'\\nPseudocode: \\nFor each limb\\n1) Get the limb skeleton\\n2) Convert the limb skeleton to a graph\\n3) Find all nodes with a degree above five\\n4) Get the coordinates of all of those nodes\\n5) Graph the results\\n\\n'"
      ]
     },
     "execution_count": 16,
     "metadata": {},
     "output_type": "execute_result"
    }
   ],
   "source": [
    "\"\"\"\n",
    "Pseudocode: \n",
    "For each limb\n",
    "1) Get the limb skeleton\n",
    "2) Convert the limb skeleton to a graph\n",
    "3) Find all nodes with a degree above five\n",
    "4) Get the coordinates of all of those nodes\n",
    "5) Graph the results\n",
    "\n",
    "\"\"\""
   ]
  },
  {
   "cell_type": "code",
   "execution_count": 18,
   "metadata": {},
   "outputs": [],
   "source": [
    "import skeleton_utils as sk\n",
    "import networkx_utils as xu"
   ]
  },
  {
   "cell_type": "code",
   "execution_count": 21,
   "metadata": {},
   "outputs": [
    {
     "data": {
      "text/plain": [
       "[]"
      ]
     },
     "execution_count": 21,
     "metadata": {},
     "output_type": "execute_result"
    }
   ],
   "source": [
    "curr_high_degree_nodes"
   ]
  },
  {
   "cell_type": "code",
   "execution_count": 50,
   "metadata": {},
   "outputs": [
    {
     "name": "stderr",
     "output_type": "stream",
     "text": [
      "[autoreload of proofreading_utils failed: Traceback (most recent call last):\n",
      "  File \"/usr/local/lib/python3.6/dist-packages/IPython/extensions/autoreload.py\", line 245, in check\n",
      "    superreload(m, reload, self.old_objects)\n",
      "  File \"/usr/local/lib/python3.6/dist-packages/IPython/extensions/autoreload.py\", line 394, in superreload\n",
      "    module = reload(module)\n",
      "  File \"/usr/lib/python3.6/imp.py\", line 315, in reload\n",
      "    return importlib.reload(module)\n",
      "  File \"/usr/lib/python3.6/importlib/__init__.py\", line 166, in reload\n",
      "    _bootstrap._exec(spec, module)\n",
      "  File \"<frozen importlib._bootstrap>\", line 618, in _exec\n",
      "  File \"<frozen importlib._bootstrap_external>\", line 674, in exec_module\n",
      "  File \"<frozen importlib._bootstrap_external>\", line 781, in get_code\n",
      "  File \"<frozen importlib._bootstrap_external>\", line 741, in source_to_code\n",
      "  File \"<frozen importlib._bootstrap>\", line 219, in _call_with_frames_removed\n",
      "  File \"/meshAfterParty/proofreading_utils.py\", line 2647\n",
      "    plot_final_neuron=False,\n",
      "                    ^\n",
      "SyntaxError: invalid syntax\n",
      "]\n"
     ]
    },
    {
     "name": "stdout",
     "output_type": "stream",
     "text": [
      "--- Working on Limb 0 ---\n",
      "curr_high_degree_nodes = []\n",
      "--- Working on Limb 1 ---\n",
      "curr_high_degree_nodes = []\n",
      "--- Working on Limb 2 ---\n",
      "curr_high_degree_nodes = []\n",
      "--- Working on Limb 3 ---\n",
      "curr_high_degree_nodes = []\n",
      "--- Working on Limb 4 ---\n",
      "curr_high_degree_nodes = []\n",
      "--- Working on Limb 5 ---\n",
      "curr_high_degree_nodes = []\n",
      "--- Working on Limb 6 ---\n",
      "curr_high_degree_nodes = []\n",
      "--- Working on Limb 7 ---\n",
      "curr_high_degree_nodes = []\n",
      "--- Working on Limb 8 ---\n",
      "curr_high_degree_nodes = []\n"
     ]
    }
   ],
   "source": [
    "limb_high_degree_coordinates = []\n",
    "max_degree = 4\n",
    "verbose = True\n",
    "\n",
    "for i,limb in enumerate(curr_neuron_obj):\n",
    "    \n",
    "    if verbose:\n",
    "        print(f\"--- Working on Limb {i} ---\")\n",
    "    \n",
    "    #1) Get the limb skeleton\n",
    "    #2) Convert the limb skeleton to a graph\n",
    "    limb_sk_gr = sk.convert_skeleton_to_graph(limb.skeleton)\n",
    "    \n",
    "    #3) Find all nodes with a degree above five\n",
    "    curr_high_degree_nodes = xu.get_nodes_greater_or_equal_degree_k(limb_sk_gr,max_degree)\n",
    "    \n",
    "    if verbose:\n",
    "        print(f\"curr_high_degree_nodes = {curr_high_degree_nodes}\")\n",
    "    \n",
    "    if len(curr_high_degree_nodes)>0:\n",
    "    \n",
    "        #4) Get the coordinates of all of those nodes\n",
    "        curr_high_degree_coordinates = xu.get_coordinate_by_graph_node(limb_sk_gr,curr_high_degree_nodes)\n",
    "\n",
    "        if verbose:\n",
    "            print(f\"curr_high_degree_coordinates = {curr_high_degree_coordinates}\")\n",
    "\n",
    "        limb_high_degree_coordinates += list(curr_high_degree_coordinates)\n",
    "        "
   ]
  },
  {
   "cell_type": "code",
   "execution_count": 24,
   "metadata": {},
   "outputs": [
    {
     "name": "stdout",
     "output_type": "stream",
     "text": [
      "\n",
      " Working on visualization type: mesh\n"
     ]
    },
    {
     "data": {
      "application/vnd.jupyter.widget-view+json": {
       "model_id": "5cc2216c84414e1f82369cad8a82e8b9",
       "version_major": 2,
       "version_minor": 0
      },
      "text/plain": [
       "VBox(children=(Figure(camera=PerspectiveCamera(fov=46.0, position=(0.0, 0.0, 2.0), quaternion=(0.0, 0.0, 0.0, …"
      ]
     },
     "metadata": {},
     "output_type": "display_data"
    }
   ],
   "source": [
    "#5) Graph the results\n",
    "nviz.visualize_neuron_lite(curr_neuron_obj,\n",
    "                           scatters=limb_high_degree_coordinates,\n",
    "                     scatter_size=1)"
   ]
  },
  {
   "cell_type": "code",
   "execution_count": 42,
   "metadata": {},
   "outputs": [
    {
     "name": "stdout",
     "output_type": "stream",
     "text": [
      "\n",
      " Working on visualization type: mesh\n",
      "\n",
      " Working on visualization type: skeleton\n"
     ]
    },
    {
     "data": {
      "application/vnd.jupyter.widget-view+json": {
       "model_id": "428c2b853e414308aa50f96035d2ee5c",
       "version_major": 2,
       "version_minor": 0
      },
      "text/plain": [
       "VBox(children=(Figure(camera=PerspectiveCamera(fov=46.0, position=(0.0, 0.0, 2.0), quaternion=(0.0, 0.0, 0.0, …"
      ]
     },
     "metadata": {},
     "output_type": "display_data"
    }
   ],
   "source": [
    "nviz.visualize_neuron(neuron_minus_mess[0],\n",
    "                     limb_branch_dict=dict(L0=\"all\"),\n",
    "                     )"
   ]
  },
  {
   "cell_type": "code",
   "execution_count": null,
   "metadata": {},
   "outputs": [],
   "source": []
  }
 ],
 "metadata": {
  "kernelspec": {
   "display_name": "Python 3",
   "language": "python",
   "name": "python3"
  },
  "language_info": {
   "codemirror_mode": {
    "name": "ipython",
    "version": 3
   },
   "file_extension": ".py",
   "mimetype": "text/x-python",
   "name": "python",
   "nbconvert_exporter": "python",
   "pygments_lexer": "ipython3",
   "version": "3.6.9"
  }
 },
 "nbformat": 4,
 "nbformat_minor": 4
}
