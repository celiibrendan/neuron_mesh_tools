{
 "cells": [
  {
   "cell_type": "code",
   "execution_count": 1,
   "metadata": {},
   "outputs": [
    {
     "data": {
      "text/plain": [
       "'\\nPurpose: To be able and tell when theh branching activity\\ndoes not have a large angle between the sides and they run alongside each other\\n\\n- this will be ignored for the very thick apical\\n\\n'"
      ]
     },
     "execution_count": 1,
     "metadata": {},
     "output_type": "execute_result"
    }
   ],
   "source": [
    "\"\"\"\n",
    "Purpose: To be able and tell when theh branching activity\n",
    "does not have a large angle between the sides and they run alongside each other\n",
    "\n",
    "- this will be ignored for the very thick apical\n",
    "\n",
    "\"\"\""
   ]
  },
  {
   "cell_type": "code",
   "execution_count": 2,
   "metadata": {},
   "outputs": [],
   "source": [
    "%load_ext autoreload\n",
    "%autoreload 2"
   ]
  },
  {
   "cell_type": "code",
   "execution_count": 3,
   "metadata": {},
   "outputs": [
    {
     "name": "stderr",
     "output_type": "stream",
     "text": [
      "INFO - 2021-04-20 21:41:00,638 - settings - Setting database.host to at-database.ad.bcm.edu\n",
      "INFO - 2021-04-20 21:41:00,644 - settings - Setting database.user to celiib\n",
      "INFO - 2021-04-20 21:41:00,645 - settings - Setting database.password to newceliipass\n",
      "INFO - 2021-04-20 21:41:00,653 - settings - Setting stores to {'minnie65': {'protocol': 'file', 'location': '/mnt/dj-stor01/platinum/minnie65', 'stage': '/mnt/dj-stor01/platinum/minnie65'}, 'meshes': {'protocol': 'file', 'location': '/mnt/dj-stor01/platinum/minnie65/02/meshes', 'stage': '/mnt/dj-stor01/platinum/minnie65/02/meshes'}, 'decimated_meshes': {'protocol': 'file', 'location': '/mnt/dj-stor01/platinum/minnie65/02/decimated_meshes', 'stage': '/mnt/dj-stor01/platinum/minnie65/02/decimated_meshes'}, 'skeletons': {'protocol': 'file', 'location': '/mnt/dj-stor01/platinum/minnie65/02/skeletons'}}\n",
      "INFO - 2021-04-20 21:41:00,658 - settings - Setting enable_python_native_blobs to True\n",
      "INFO - 2021-04-20 21:41:00,670 - connection - Connected celiib@at-database.ad.bcm.edu:3306\n"
     ]
    },
    {
     "name": "stdout",
     "output_type": "stream",
     "text": [
      "Connecting celiib@at-database.ad.bcm.edu:3306\n"
     ]
    },
    {
     "name": "stderr",
     "output_type": "stream",
     "text": [
      "INFO - 2021-04-20 21:41:01,197 - settings - Setting enable_python_native_blobs to True\n",
      "INFO - 2021-04-20 21:41:01,203 - settings - Setting database.host to at-database.ad.bcm.edu\n",
      "INFO - 2021-04-20 21:41:01,204 - settings - Setting database.user to celiib\n",
      "INFO - 2021-04-20 21:41:01,206 - settings - Setting database.password to newceliipass\n",
      "INFO - 2021-04-20 21:41:01,206 - settings - Setting database.host to at-database.ad.bcm.edu\n",
      "INFO - 2021-04-20 21:41:01,211 - settings - Setting database.user to celiib\n",
      "INFO - 2021-04-20 21:41:01,215 - settings - Setting database.password to newceliipass\n",
      "INFO - 2021-04-20 21:41:01,220 - settings - Setting enable_python_native_blobs to True\n",
      "INFO - 2021-04-20 21:41:01,888 - settings - Setting enable_python_native_blobs to True\n"
     ]
    }
   ],
   "source": [
    "import numpy as np\n",
    "import datajoint as dj\n",
    "import trimesh\n",
    "from tqdm.notebook import tqdm\n",
    "from pathlib import Path\n",
    "\n",
    "from os import sys\n",
    "sys.path.append(\"/meshAfterParty/\")\n",
    "sys.path.append(\"/meshAfterParty/meshAfterParty\")\n",
    "\n",
    "import datajoint_utils as du\n",
    "from importlib import reload"
   ]
  },
  {
   "cell_type": "code",
   "execution_count": 5,
   "metadata": {},
   "outputs": [
    {
     "name": "stderr",
     "output_type": "stream",
     "text": [
      "INFO - 2021-04-20 21:41:15,408 - settings - Setting database.host to at-database.ad.bcm.edu\n",
      "INFO - 2021-04-20 21:41:15,415 - settings - Setting database.user to celiib\n",
      "INFO - 2021-04-20 21:41:15,417 - settings - Setting database.password to newceliipass\n",
      "INFO - 2021-04-20 21:41:15,428 - settings - Setting enable_python_native_blobs to True\n",
      "INFO - 2021-04-20 21:41:16,392 - settings - Setting enable_python_native_blobs to True\n"
     ]
    }
   ],
   "source": [
    "#configuring will include the adapters\n",
    "minnie,schema = du.configure_minnie_vm()"
   ]
  },
  {
   "cell_type": "code",
   "execution_count": 6,
   "metadata": {},
   "outputs": [],
   "source": [
    "import validation_utils as vu\n",
    "import neuron_visualizations as nviz\n",
    "import neuron_utils as nru"
   ]
  },
  {
   "cell_type": "markdown",
   "metadata": {},
   "source": [
    "# Downloading the neuron"
   ]
  },
  {
   "cell_type": "code",
   "execution_count": 25,
   "metadata": {},
   "outputs": [
    {
     "data": {
      "text/html": [
       "\n",
       "        \n",
       "        <style type=\"text/css\">\n",
       "            .Relation{\n",
       "                border-collapse:collapse;\n",
       "            }\n",
       "            .Relation th{\n",
       "                background: #A0A0A0; color: #ffffff; padding:4px; border:#f0e0e0 1px solid;\n",
       "                font-weight: normal; font-family: monospace; font-size: 100%;\n",
       "            }\n",
       "            .Relation td{\n",
       "                padding:4px; border:#f0e0e0 1px solid; font-size:100%;\n",
       "            }\n",
       "            .Relation tr:nth-child(odd){\n",
       "                background: #ffffff;\n",
       "            }\n",
       "            .Relation tr:nth-child(even){\n",
       "                background: #f3f1ff;\n",
       "            }\n",
       "            /* Tooltip container */\n",
       "            .djtooltip {\n",
       "            }\n",
       "            /* Tooltip text */\n",
       "            .djtooltip .djtooltiptext {\n",
       "                visibility: hidden;\n",
       "                width: 120px;\n",
       "                background-color: black;\n",
       "                color: #fff;\n",
       "                text-align: center;\n",
       "                padding: 5px 0;\n",
       "                border-radius: 6px;\n",
       "                /* Position the tooltip text - see examples below! */\n",
       "                position: absolute;\n",
       "                z-index: 1;\n",
       "            }\n",
       "            #primary {\n",
       "                font-weight: bold;\n",
       "                color: black;\n",
       "            }\n",
       "\n",
       "            #nonprimary {\n",
       "                font-weight: normal;\n",
       "                color: white;\n",
       "            }\n",
       "\n",
       "            /* Show the tooltip text when you mouse over the tooltip container */\n",
       "            .djtooltip:hover .djtooltiptext {\n",
       "                visibility: visible;\n",
       "            }\n",
       "        </style>\n",
       "        \n",
       "        <b></b>\n",
       "            <div style=\"max-height:1000px;max-width:1500px;overflow:auto;\">\n",
       "            <table border=\"1\" class=\"Relation\">\n",
       "                <thead> <tr style=\"text-align: right;\"> <th> <div class=\"djtooltip\">\n",
       "                                <p id=\"primary\">segment_id</p>\n",
       "                                <span class=\"djtooltiptext\">segment id unique within each Segmentation</span>\n",
       "                            </div></th><th><div class=\"djtooltip\">\n",
       "                                <p id=\"primary\">decimation_version</p>\n",
       "                                <span class=\"djtooltiptext\"></span>\n",
       "                            </div></th><th><div class=\"djtooltip\">\n",
       "                                <p id=\"primary\">decimation_ratio</p>\n",
       "                                <span class=\"djtooltiptext\">ratio of remaining mesh vertices/faces (which ones depends on what metric the decimation technique uses)</span>\n",
       "                            </div></th><th><div class=\"djtooltip\">\n",
       "                                <p id=\"primary\">ver</p>\n",
       "                                <span class=\"djtooltiptext\">the version number of the materializaiton</span>\n",
       "                            </div></th><th><div class=\"djtooltip\">\n",
       "                                <p id=\"primary\">process_version</p>\n",
       "                                <span class=\"djtooltiptext\">the version of the preprocessing pipeline run</span>\n",
       "                            </div></th><th><div class=\"djtooltip\">\n",
       "                                <p id=\"primary\">index</p>\n",
       "                                <span class=\"djtooltiptext\">the index of the neuron object that resulted from that mesh (indexed starting at 0)</span>\n",
       "                            </div></th><th><div class=\"djtooltip\">\n",
       "                                <p id=\"nonprimary\">multiplicity</p>\n",
       "                                <span class=\"djtooltiptext\">the number of somas found for this base segment</span>\n",
       "                            </div></th><th><div class=\"djtooltip\">\n",
       "                                <p id=\"nonprimary\">decomposition</p>\n",
       "                                <span class=\"djtooltiptext\"></span>\n",
       "                            </div></th><th><div class=\"djtooltip\">\n",
       "                                <p id=\"nonprimary\">n_vertices</p>\n",
       "                                <span class=\"djtooltiptext\">number of vertices</span>\n",
       "                            </div></th><th><div class=\"djtooltip\">\n",
       "                                <p id=\"nonprimary\">n_faces</p>\n",
       "                                <span class=\"djtooltiptext\">number of faces</span>\n",
       "                            </div></th><th><div class=\"djtooltip\">\n",
       "                                <p id=\"nonprimary\">n_not_processed_soma_containing_meshes</p>\n",
       "                                <span class=\"djtooltiptext\">the number of meshes with somas that were not processed</span>\n",
       "                            </div></th><th><div class=\"djtooltip\">\n",
       "                                <p id=\"nonprimary\">n_error_limbs</p>\n",
       "                                <span class=\"djtooltiptext\">the number of limbs that are touching multiple somas or 1 soma in multiple places</span>\n",
       "                            </div></th><th><div class=\"djtooltip\">\n",
       "                                <p id=\"nonprimary\">n_same_soma_multi_touching_limbs</p>\n",
       "                                <span class=\"djtooltiptext\">number of limbs that touch the same soma multiple times</span>\n",
       "                            </div></th><th><div class=\"djtooltip\">\n",
       "                                <p id=\"nonprimary\">n_multi_soma_touching_limbs</p>\n",
       "                                <span class=\"djtooltiptext\">number of limbs that touch multiple somas</span>\n",
       "                            </div></th><th><div class=\"djtooltip\">\n",
       "                                <p id=\"nonprimary\">n_somas</p>\n",
       "                                <span class=\"djtooltiptext\">number of soma meshes detected</span>\n",
       "                            </div></th><th><div class=\"djtooltip\">\n",
       "                                <p id=\"nonprimary\">n_limbs</p>\n",
       "                                <span class=\"djtooltiptext\"></span>\n",
       "                            </div></th><th><div class=\"djtooltip\">\n",
       "                                <p id=\"nonprimary\">n_branches</p>\n",
       "                                <span class=\"djtooltiptext\"></span>\n",
       "                            </div></th><th><div class=\"djtooltip\">\n",
       "                                <p id=\"nonprimary\">max_limb_n_branches</p>\n",
       "                                <span class=\"djtooltiptext\"></span>\n",
       "                            </div></th><th><div class=\"djtooltip\">\n",
       "                                <p id=\"nonprimary\">skeletal_length</p>\n",
       "                                <span class=\"djtooltiptext\"></span>\n",
       "                            </div></th><th><div class=\"djtooltip\">\n",
       "                                <p id=\"nonprimary\">max_limb_skeletal_length</p>\n",
       "                                <span class=\"djtooltiptext\"></span>\n",
       "                            </div></th><th><div class=\"djtooltip\">\n",
       "                                <p id=\"nonprimary\">median_branch_length</p>\n",
       "                                <span class=\"djtooltiptext\">gives information on average skeletal length to next branch point</span>\n",
       "                            </div></th><th><div class=\"djtooltip\">\n",
       "                                <p id=\"nonprimary\">width_median</p>\n",
       "                                <span class=\"djtooltiptext\">median width from mesh center without spines removed</span>\n",
       "                            </div></th><th><div class=\"djtooltip\">\n",
       "                                <p id=\"nonprimary\">width_no_spine_median</p>\n",
       "                                <span class=\"djtooltiptext\">median width from mesh center with spines removed</span>\n",
       "                            </div></th><th><div class=\"djtooltip\">\n",
       "                                <p id=\"nonprimary\">width_90_perc</p>\n",
       "                                <span class=\"djtooltiptext\">90th percentile for width without spines removed</span>\n",
       "                            </div></th><th><div class=\"djtooltip\">\n",
       "                                <p id=\"nonprimary\">width_no_spine_90_perc</p>\n",
       "                                <span class=\"djtooltiptext\">90th percentile for width with spines removed</span>\n",
       "                            </div></th><th><div class=\"djtooltip\">\n",
       "                                <p id=\"nonprimary\">n_spines</p>\n",
       "                                <span class=\"djtooltiptext\"></span>\n",
       "                            </div></th><th><div class=\"djtooltip\">\n",
       "                                <p id=\"nonprimary\">spine_density</p>\n",
       "                                <span class=\"djtooltiptext\">n_spines/ skeletal_length</span>\n",
       "                            </div></th><th><div class=\"djtooltip\">\n",
       "                                <p id=\"nonprimary\">spines_per_branch</p>\n",
       "                                <span class=\"djtooltiptext\"></span>\n",
       "                            </div></th><th><div class=\"djtooltip\">\n",
       "                                <p id=\"nonprimary\">skeletal_length_eligible</p>\n",
       "                                <span class=\"djtooltiptext\">the skeletal length for all branches searched for spines</span>\n",
       "                            </div></th><th><div class=\"djtooltip\">\n",
       "                                <p id=\"nonprimary\">n_spine_eligible_branches</p>\n",
       "                                <span class=\"djtooltiptext\">the number of branches that were checked for spines because passed width threshold</span>\n",
       "                            </div></th><th><div class=\"djtooltip\">\n",
       "                                <p id=\"nonprimary\">spine_density_eligible</p>\n",
       "                                <span class=\"djtooltiptext\">n_spines/skeletal_length_eligible</span>\n",
       "                            </div></th><th><div class=\"djtooltip\">\n",
       "                                <p id=\"nonprimary\">spines_per_branch_eligible</p>\n",
       "                                <span class=\"djtooltiptext\">n_spines/n_spine_eligible_branches</span>\n",
       "                            </div></th><th><div class=\"djtooltip\">\n",
       "                                <p id=\"nonprimary\">total_spine_volume</p>\n",
       "                                <span class=\"djtooltiptext\">the sum of all spine volume</span>\n",
       "                            </div></th><th><div class=\"djtooltip\">\n",
       "                                <p id=\"nonprimary\">spine_volume_median</p>\n",
       "                                <span class=\"djtooltiptext\">median of the spine volume for those spines with able to calculate volume</span>\n",
       "                            </div></th><th><div class=\"djtooltip\">\n",
       "                                <p id=\"nonprimary\">spine_volume_density</p>\n",
       "                                <span class=\"djtooltiptext\">total_spine_volume/skeletal_length</span>\n",
       "                            </div></th><th><div class=\"djtooltip\">\n",
       "                                <p id=\"nonprimary\">spine_volume_density_eligible</p>\n",
       "                                <span class=\"djtooltiptext\">total_spine_volume/skeletal_length_eligible</span>\n",
       "                            </div></th><th><div class=\"djtooltip\">\n",
       "                                <p id=\"nonprimary\">spine_volume_per_branch_eligible</p>\n",
       "                                <span class=\"djtooltiptext\">total_spine_volume/n_spine_eligible_branches</span>\n",
       "                            </div></th><th><div class=\"djtooltip\">\n",
       "                                <p id=\"nonprimary\">run_time</p>\n",
       "                                <span class=\"djtooltiptext\">the amount of time to run (seconds)</span>\n",
       "                            </div> </th> </tr> </thead>\n",
       "                <tbody> <tr> <td>864691136105498585</td>\n",
       "<td>0</td>\n",
       "<td>0.25</td>\n",
       "<td>30.00</td>\n",
       "<td>7</td>\n",
       "<td>0</td>\n",
       "<td>1</td>\n",
       "<td>=BLOB=</td>\n",
       "<td>332957</td>\n",
       "<td>689602</td>\n",
       "<td>0</td>\n",
       "<td>0</td>\n",
       "<td>0</td>\n",
       "<td>0</td>\n",
       "<td>1</td>\n",
       "<td>6</td>\n",
       "<td>62</td>\n",
       "<td>39</td>\n",
       "<td>4205904.168949035</td>\n",
       "<td>1856257.3544398847</td>\n",
       "<td>45864.626</td>\n",
       "<td>85.841</td>\n",
       "<td>85.841</td>\n",
       "<td>265.2</td>\n",
       "<td>261.743</td>\n",
       "<td>273</td>\n",
       "<td>6.490875422589973e-05</td>\n",
       "<td>4.403225806451613</td>\n",
       "<td>2602808.095</td>\n",
       "<td>22</td>\n",
       "<td>0.00010488671851160812</td>\n",
       "<td>12.409</td>\n",
       "<td>104869717119.14374</td>\n",
       "<td>120838601.86167398</td>\n",
       "<td>24933.929282879602</td>\n",
       "<td>40290.990842005864</td>\n",
       "<td>4766805323.597443</td>\n",
       "<td>3630.983</td> </tr> </tbody>\n",
       "            </table>\n",
       "            \n",
       "            <p>Total: 1</p></div>\n",
       "            "
      ],
      "text/plain": [
       "*segment_id    *decimation_ve *decimation_ra *ver      *process_versi *index    multiplicity   decomposit n_vertices     n_faces     n_not_processe n_error_limbs  n_same_soma_mu n_multi_soma_t n_somas     n_limbs     n_branches     max_limb_n_bra skeletal_lengt max_limb_skele median_branch_ width_median   width_no_spine width_90_perc  width_no_spine n_spines     spine_density  spines_per_bra skeletal_lengt n_spine_eligib spine_density_ spines_per_bra total_spine_vo spine_volume_m spine_volume_d spine_volume_d spine_volume_p run_time    \n",
       "+------------+ +------------+ +------------+ +-------+ +------------+ +-------+ +------------+ +--------+ +------------+ +---------+ +------------+ +------------+ +------------+ +------------+ +---------+ +---------+ +------------+ +------------+ +------------+ +------------+ +------------+ +------------+ +------------+ +------------+ +------------+ +----------+ +------------+ +------------+ +------------+ +------------+ +------------+ +------------+ +------------+ +------------+ +------------+ +------------+ +------------+ +----------+\n",
       "86469113610549 0              0.25           30.00     7              0         1              =BLOB=     332957         689602      0              0              0              0              1           6           62             39             4205904.168949 1856257.354439 45864.626      85.841         85.841         265.2          261.743        273          6.490875422589 4.403225806451 2602808.095    22             0.000104886718 12.409         104869717119.1 120838601.8616 24933.92928287 40290.99084200 4766805323.597 3630.983    \n",
       " (Total: 1)"
      ]
     },
     "execution_count": 25,
     "metadata": {},
     "output_type": "execute_result"
    }
   ],
   "source": [
    "segment_id = 864691136105498585\n",
    "minnie.Decomposition() & f\"segment_id = {segment_id}\""
   ]
  },
  {
   "cell_type": "code",
   "execution_count": null,
   "metadata": {},
   "outputs": [],
   "source": [
    "neuron_obj = du.fetch_neuron_obj_manual(segment_id=segment_id,\n",
    "                                       border_validation=False)"
   ]
  },
  {
   "cell_type": "code",
   "execution_count": 170,
   "metadata": {
    "scrolled": true
   },
   "outputs": [
    {
     "name": "stdout",
     "output_type": "stream",
     "text": [
      "endnodes_to_test = [1935]\n",
      "Skeleton paths distances = [24973.03453593]\n",
      "Filtered indexes = [0]\n",
      "len(filtered_skeletons) = 1\n",
      "sk_angles = [122.1524023]\n",
      "base_final_widths = [107.94224631 107.94224631 107.94224631]\n",
      "overall_ais_width = 107.94224630762344\n",
      "ais_width = 107.94224630762342\n",
      "endnodes_to_test = []\n",
      "endnodes_to_test = []\n",
      "endnodes_to_test = []\n",
      "endnodes_to_test = []\n",
      "endnodes_to_test = []\n",
      "Starting axon branch was not the limb starting node so generating border vertices and computing upstream branch\n",
      "upstream_node_to_axon_starting_branch = 8\n",
      "More than 1 seperated mesh (taking the top one): [<trimesh.Trimesh(vertices.shape=(52110, 3), faces.shape=(104013, 3))>\n",
      " <trimesh.Trimesh(vertices.shape=(13721, 3), faces.shape=(27348, 3))>\n",
      " <trimesh.Trimesh(vertices.shape=(1756, 3), faces.shape=(3507, 3))>\n",
      " <trimesh.Trimesh(vertices.shape=(126, 3), faces.shape=(252, 3))>]\n",
      "root_curr = [712022.6 863223.5 798451.2]\n",
      "Time for preparing soma vertices and root: 0.0005376338958740234\n",
      "invalidation_d = 1500\n",
      "smooth_neighborhood = 0\n",
      "smooth_neighborhood = 0\n",
      "soma_pt = [712022.6 863223.5 798451.2]\n",
      "invalidation_d = 1500\n",
      "cc_vertex_thresh = 25\n",
      "cc_vertex_thresh = 10\n"
     ]
    },
    {
     "name": "stderr",
     "output_type": "stream",
     "text": [
      "100%|██████████| 1/1 [00:01<00:00,  1.97s/it]\n"
     ]
    },
    {
     "name": "stdout",
     "output_type": "stream",
     "text": [
      "all_paths = [[[3533, 48022, 42966, 46639, 47047, 36812, 33568, 50089, 43495, 21416, 3850, 50253, 27015, 9250, 17342, 25921, 34025, 34026, 20389, 20390, 20387, 48813, 24520, 2771, 45276, 47104, 44607, 23209, 27203, 20462, 13685, 39385, 17514, 50269, 51421, 8287, 11240, 28809, 50950, 6915, 48085, 18991, 49252, 23405, 1889, 5627, 31624, 5625, 50704, 46896, 13843, 30008, 26295, 624, 622, 26303, 4283, 12987, 50904, 49769, 32329, 48134, 30769, 34356, 34630, 8495, 48918, 18001, 18002, 13998, 18005, 23494, 1736, 33909, 49865, 49193, 27306, 46543, 48747, 29362, 7514, 37649, 32212, 28145, 51391, 28141, 51024, 25643, 11650, 51488, 26959, 39141, 3819, 21864, 14667, 10683, 1595, 31340, 31342, 48184, 2742, 197, 24895, 41276, 27070, 23118, 5192, 24609, 47430, 36744, 15921, 14823, 49472, 22849, 24454, 45654, 2869, 5984, 51561, 6809, 28582, 44533, 51223, 4835, 51548, 34173, 50311, 51210, 20502, 26719, 23308, 27492, 31701, 39638, 13768, 17905, 43616, 561, 26201, 26206, 564, 33575, 46621, 51100, 3359, 33412, 23313, 27496, 31704, 31699, 13765, 22008, 4388, 8406, 38459, 50130, 46049, 3222, 30171, 21879, 38591, 50773, 758, 51401, 47634, 5694, 47293, 2160, 27685, 32082, 9951, 14087, 47625, 50695, 20815, 42816, 30371, 6357, 49845, 47264, 38823, 42993, 25560, 261, 48720, 33630, 51989, 15126, 24160, 51594, 34600, 51215, 30831, 11003, 9280, 48106, 43131, 18587, 24635, 21835, 26150, 26151, 12310, 50116, 38238, 38235, 38236, 14657, 28842, 11543, 40717, 50393, 38390, 24915, 7143, 37272, 10997, 39003, 43514, 41659, 11291, 48284, 15306, 15307, 19658, 19654, 44971, 19657, 19653, 27931, 6031, 31984, 46938, 40722, 17374, 39939, 39937, 43916, 22371, 22369, 26631, 8741, 30698, 50682, 48138, 11483, 28886, 48076, 47153, 18597, 49867, 40126, 26802, 33961, 13041, 25658, 37883, 44697, 35459, 48220, 44367, 51946, 48456, 18106, 43040, 16623, 46135, 29065, 11039, 50915, 13945, 41881, 11189, 47941, 51745, 8370, 7266, 47223, 47981, 6118, 46920, 29009, 48801, 18216, 40471, 12190, 44647, 1952, 35540, 22187, 34482, 9163, 47789, 47570, 45010, 6062, 43938, 51224, 37630, 5254, 51499, 22811, 50385, 49613, 8395, 51466, 11109, 50757, 24229, 50220, 43824, 22282, 49694, 38496, 9980, 51114, 22770, 45803, 223, 19591, 49278, 49092, 32461, 43302, 43043, 46218, 24357, 6569, 11075, 10579, 43071, 49330, 6765, 32548, 36898, 13367, 2444, 39590, 676, 51734, 51688, 35947, 12713, 46236, 37532, 52033, 950, 34721, 21031, 46040, 51786, 48655, 47025, 49623, 18576, 26709, 43756, 15910, 49490, 50085, 16267, 28140, 36432, 44215, 47917, 50882, 49470, 49185, 32144, 32147, 36102, 18160, 1030, 23729, 51290, 7037, 4956, 8977, 17025, 51429, 22937, 50381, 42327, 28075, 47436, 43433, 30172, 34148, 20482, 28883, 37146, 51207, 34353, 5508, 41353, 17602, 19426, 27652, 5870, 9708, 35862, 31599, 707, 4571, 30531, 49742, 16759, 42552, 48861, 11138, 19712, 32043, 22434, 7421, 38772, 46447, 51796, 48825, 51560, 25890, 50333, 35425, 20225, 51725, 8014, 50723, 12257, 2909, 14908, 47456, 23383, 21562, 24884, 49077, 23125, 34499, 22527, 24061, 12678, 37637, 25431, 48697, 46723, 46725, 46727, 11438, 48660, 24668, 47024, 48508, 49257, 49208, 48057, 47363, 35609, 26308, 8998, 39097, 21298, 25795, 29794, 51557, 10422, 47085, 50291, 20331, 49132, 19292, 48240, 47630, 31866, 18661, 28543, 49836, 4326, 47199, 39613, 50180, 45568, 32495, 51152, 31044, 37829, 39092, 44688, 35793, 9579, 1620, 12446, 46184, 15120, 48816, 92, 50677, 51504, 24069, 6205, 18383, 26384, 42940, 34111, 51577, 50450, 44140, 9242, 49020, 51410, 9061, 44848, 31875, 38580, 27565, 18326, 34528, 42584, 1241, 26534, 24575, 16400, 48485, 45409, 51750, 18611, 26881, 40414, 51328, 34384, 51384, 26533, 35353, 22699, 34021, 38299, 49647, 3664, 48533, 29631, 33466, 15671, 24238, 2539, 6441, 49915, 36493, 18705, 31346, 43307, 4049, 12020, 20336, 32598, 49808, 35661, 46754, 29746, 48000, 51052, 34919, 33845, 27130, 49918, 46666, 25574, 33643, 48893, 17432, 49336, 49864, 43224, 34093, 40932, 2804, 10748, 40558, 23257, 5468, 39422, 4172, 49158, 16389, 45967, 38577, 48963, 47700, 15337, 45002, 6057, 14206, 43929, 1112, 4846, 34695, 12867, 48111, 22617, 41995, 43755, 44239, 1283, 5204, 35101, 43149, 25871, 33772, 45544, 27849, 41079, 41951, 25919, 36772, 23152, 51277, 42258, 7083, 10845, 46599, 19332, 3115, 46146, 7241, 11727, 2766, 41162, 34777, 21091, 29314, 33409, 21684, 5091, 30664, 3683, 13542, 45445, 2477, 50627, 50995, 25748, 49663, 49397, 7982, 39452, 31170, 2608, 45596, 20114, 15787, 37899, 26891, 43676, 3343, 48176, 21447, 17191, 9108, 31079, 48441, 49702, 40238, 36395, 10354, 31795, 49791, 31088, 9101, 39054, 10822, 7811, 22749, 47170, 47844, 47355, 50323, 13693, 51965, 13442, 35497, 13414, 35479, 9320, 9314, 51785, 13461, 13468, 13394, 4569, 43241, 21646, 43250, 50698, 49049, 13458, 13505, 13493, 13435, 21814, 13472, 13401, 13390, 13448, 13978, 52082, 13403, 9296, 5315, 10503, 44469, 18647, 49793, 9052, 2618, 4692, 47461, 47669, 23859, 29323, 51972, 97, 25752, 9349, 4828, 42472, 96, 13096, 25754, 109, 45661, 49420, 39042, 51232, 48068, 42358, 32396, 48222, 47855, 31084, 9100, 35275, 31086, 26917, 3746, 41033, 42205, 17093, 6264, 50203, 3009, 18347, 16261, 22703, 10136, 35457, 14770, 46637, 51733, 8933, 50447, 50615, 47246, 5235, 44568, 6852, 8213, 29523, 90, 52074, 47037, 7983, 47501, 49066, 49484, 35283, 51012, 51302, 50501, 39421, 31459, 27241, 1881, 36873, 32645, 31779, 45960, 47475, 49448, 8189, 16754, 4882, 19723, 33097, 18098, 35901, 9742, 44872, 15077, 51289, 47318, 48396, 48522, 16264, 33959, 33960, 30047, 21540, 13594, 13595, 5381, 5371, 2620, 48073, 51721, 22941, 37145, 1089, 36146, 6012, 37472, 29154, 1577, 27605, 49363, 48389, 5653, 23438, 48557, 44724, 9545, 8312, 24123, 24542, 47627, 6707, 24323, 20249, 11781, 29738, 39024, 5069, 44281, 14429, 10326, 28247, 45406, 15551, 48990, 8115, 51280, 49168, 30797, 26539, 18297, 51139, 48450, 39587, 11009, 7198, 16583, 34371, 17900, 31697, 44690, 18957, 48936, 2903, 50030, 50826, 50944, 48204, 24840, 40109, 36290, 28134, 45308, 41372, 50921, 46805, 49209, 12815, 44880, 51837, 11069, 51452, 14916, 5197, 48308, 21559, 21585, 35421, 44431, 14585, 28431, 41812, 10709, 36675, 6508, 48171, 50118, 23989, 47987, 41453, 49140, 15366, 46991, 12715, 27690, 51348, 49565, 49795, 17617, 13750, 19619, 49144, 49919, 40442, 45487, 48551, 3785, 21297, 13201, 25580, 47663, 21127, 38869, 19485, 452, 25407, 51942, 7189, 35815, 50070, 5338, 27129, 20460, 34243, 48060, 48719, 43357, 19529, 32935, 51751, 44115, 14249, 28215, 45221, 47974, 46445, 18331, 8237, 48792, 51037, 44346, 42847, 48513, 12810, 19260, 39699, 48360, 32161, 49069, 45479, 38661, 37251, 27078, 36712, 20491, 51319, 14020, 5658, 51554, 52079, 12995, 8970, 1932, 23188, 48800, 51772, 9776, 27562, 19594, 11053, 20932, 5270, 3102, 13658, 31584, 1666, 44586, 40772, 20710, 43422, 49078, 31523, 33137, 41406, 41973, 10247, 10245, 28396, 22955, 38950, 30934, 5019, 50546, 47578, 25453, 47139, 17598, 51681, 44595, 32330, 16082, 34128, 333, 31283, 18265, 6351, 47389, 4363, 29005, 6649, 46987, 2512, 48748, 42749, 47982, 48836, 49118, 24650, 42266, 45575, 17324, 3169, 52000, 40522, 29890, 8854, 12193, 41491, 51794, 41233, 51482, 47927, 20266, 32395, 23461, 11256, 32734, 6763, 35798, 11036, 43228, 33569, 30677, 39732, 47228, 11269, 49573, 49609, 42807, 46138, 20671, 12402, 49585, 46031, 22050, 22051, 39660, 31720, 18591, 48932, 26062, 43462, 35548, 12211, 40718, 36765, 32607, 2878, 50600, 13620, 43854, 40318, 48273, 36306, 32756, 47800, 43969, 30218, 51497, 22080, 47445, 40868, 47022, 2974, 20583, 497, 609, 5464, 12210, 48546, 47224, 38597, 26882, 40219, 47382, 24163, 15574, 33621, 3554, 43873, 7628, 26553, 52012, 49412, 18084, 18087, 47924, 5894, 50910, 41092, 7212, 3220, 48873, 31928, 52032, 50181, 24459, 41927, 30038, 48483, 51608, 51177, 24514, 6223, 19822, 33255, 29393, 3436, 3437, 42694, 16868, 38701, 4717, 49006, 47344, 20734, 27689, 35604, 45549, 48251, 47090, 7036, 37650, 49218, 30442, 50579, 2817, 6740, 20709, 3541, 9482, 49705, 52065, 51461, 20640, 16578, 26776, 547, 21992, 17891, 39619, 49338, 9542, 651, 23301, 15033, 43669, 47235, 48036, 51387, 24703, 8824, 40278, 6420, 24212, 35432, 23946, 15433, 47099, 1048, 18167, 9362, 45138, 49228, 32562, 44409, 8670, 4502, 4508, 43776, 38358, 30274, 26279, 39529, 27390, 37027, 10980, 21793, 39376, 47835, 49610, 18748, 36604, 51502, 7954, 25711, 43182, 1310, 1444, 8920, 5034, 36209, 23976, 41433, 41434, 11373, 51077, 30949, 33003, 37631, 50943, 42990, 29030, 46034, 38437, 48494, 31684, 44676, 15019, 22859, 50763, 50854, 50037, 12908, 6414, 45474, 46968, 38865, 30847, 51162, 47071, 48946, 49135, 25292, 46757, 40997, 40998, 808, 18625, 18844, 43497, 46899, 44594, 36796, 32644, 45705, 16304, 8078, 30080, 43348, 35404, 50151, 43366, 6534, 1579, 2413, 47865, 39303, 49973, 20587, 10202, 49275, 29744, 39207, 21673, 13738, 23282, 14772, 23617, 34472, 3748, 10566, 19544, 2011, 45310, 5403, 48163, 49751, 15094, 3094, 42346, 47632, 43473, 17676, 48005, 12058, 31392, 3866, 43163, 4244, 20031, 52002, 29666, 46604, 17097, 34126, 7547, 21016, 4869, 43939, 14219, 1809, 48882, 30513, 937, 39765, 9684, 23656, 19510, 11113, 41658, 40890, 24779, 51198, 25642, 36881, 40317, 16070, 34110, 29966, 21640, 13380, 35473, 44287, 47343, 47622, 25629, 22887, 50242, 1639, 22643, 18474, 14288, 28089, 45264, 33397, 47629, 46482, 38650, 8826, 1001, 50029, 48091, 2602, 29067, 24857, 16625, 8436, 22064, 9583, 5740, 48332, 48606, 14704, 27131, 50443, 17288, 35050, 22792, 40326, 6456, 41885, 13046, 26804, 22609, 46206, 29436, 50197, 37157, 9870, 6036, 37480, 52005, 18348, 48699, 8343, 26322, 22173, 50692, 47280, 21840, 9481, 25794, 37218, 4275, 5075, 599, 51517, 46946, 51862, 34815, 34541, 767, 22253, 45246, 46058, 38308, 22016, 12809, 49012, 45843, 47819, 1606, 18888, 36756, 2873, 20333, 51268, 4044, 48215, 48954, 25479, 49741, 1044, 10040, 1169, 37082, 20736, 51117, 16513, 30293, 43536, 39540, 9646, 50140, 26269, 254, 1404, 5265, 36656, 28441, 24313, 49093, 11775, 21419, 46322, 9752, 30533, 20053, 16762, 20615, 25008, 42574, 34523, 724, 28219, 49428, 28065, 32769, 24610, 42210, 16431, 30192, 46867, 11074, 47245, 49811, 24605, 29614, 10140, 38879, 44689, 18378, 40106, 51225, 6182, 28128, 19809, 44139, 39886, 5974, 45143, 7271, 27440, 12632, 4504, 862, 22320, 5802, 47798, 30277, 26284, 22116, 32022, 20217, 31288, 330, 21582, 51553, 15743, 11748, 33814, 61, 35144, 50836, 18593, 41147, 6502, 34344, 47419, 5074, 36186, 50238, 51314, 50940, 25903, 12488, 4200, 50346, 8905, 26009, 51657, 50609, 33490, 47187, 46923, 47536, 10192, 26809, 47095, 38027, 50517, 47554, 5442, 9627, 12781, 40005, 38016, 30081, 17490, 13275, 9232, 16849, 15911, 29874, 26007, 50719, 2421, 15736, 51572, 23630, 11354, 29490, 40160, 47950, 702, 11792, 51080, 30355, 682, 13893, 1975, 2476, 7009, 2312, 13739, 48771, 25997, 39260, 9139, 1556, 25503, 10584, 6574, 24360, 26438, 15800, 49121, 3750, 43046, 47783, 9118, 20003, 47198, 42841, 12988, 8966, 1207, 44158, 36259, 47830, 27397, 2185, 19777, 7455, 51085, 16652, 49798, 49312, 50761, 51407, 16473, 8455, 597, 39512, 19603, 5777, 19429, 32847, 28943, 42269, 42271, 12233, 4088, 39323, 27159, 40754, 32628, 41965, 8068, 25893, 21560, 35397, 18889, 39245, 35903, 35133, 4272, 29667, 46780, 51405, 51748, 47532, 46990, 51602, 5030, 8102, 29010, 45998, 16544, 4327, 47282, 50044, 31069, 5516, 50347, 50367, 37117, 32414, 28547, 2359, 50379, 18107, 40919, 27722, 22066, 21625, 44714, 14858, 19762, 42384, 49071, 25961, 25861, 48077, 14551, 10217, 48755, 30900, 14357, 32181, 2392, 24086, 47142, 8452, 44980, 51672, 33099, 29174, 46373, 38568, 30500, 49356, 35978, 40167, 10564, 51723, 51890, 10482, 28393, 6547, 26708, 36386, 30523, 24797, 51811, 8987, 2356, 42324, 29089, 24841, 16597, 8413, 26213, 27439, 35708, 27502, 40945, 32795, 47360, 39472, 32905, 12015, 8044, 48084, 50990, 24248, 15867, 35773, 5175, 40303, 43009, 32293, 2533, 19989, 11651, 3632, 21153, 51140, 37652, 8390, 22553, 6002, 48626, 23863, 4160, 16699, 47726, 46887, 47088, 51980, 50110, 480, 47567, 31615, 44610, 32686, 45734, 12089, 25933, 31396, 33898, 33829, 17152, 31234, 1325, 18605, 36363, 6520, 20061, 15548, 33577, 29700, 38395, 50248, 8853, 9524, 49321, 32219, 47005, 48845, 47949, 15607, 42156, 9501, 19620, 25639, 42867, 13021, 1403, 51257, 50847, 36118, 27854, 48594, 49792, 13950, 4961, 9631, 27395, 48912, 12636, 10700, 7219, 49868, 48578, 25717, 31247, 48595, 2432, 40859, 31707, 29476, 28232, 50314, 5248, 4451, 48386, 35170, 35149, 11168, 9076, 7716, 50361, 19909, 32978, 48030, 49704, 34943, 46272, 34444, 49526, 50350, 50809, 32977, 7600, 33559, 22448, 36024, 9925, 50932, 19716, 15361, 15042, 11143, 37368, 24999, 46251, 24996, 42561, 20836, 4366, 16769, 16768, 16776, 5085, 12536, 16779, 48100, 46256, 24961, 24969, 24968, 24992, 29238, 7387, 33144, 11146, 37319, 15363, 43474, 23753, 23755, 38918, 50304, 48349, 43416, 39997, 16438, 50103, 21374, 50159, 16949, 13080, 46457, 46876, 51390, 2305, 19249, 14409, 50217, 23986, 45228, 23987, 11073, 2308, 50002, 32215, 40807, 45229, 52056, 41444, 19890, 2306], [38368, 12448, 21539, 12454, 2556, 42320, 46191, 3127, 42478, 26103, 18066, 39897, 22545, 8690, 34818, 16874, 25426, 29360, 29384, 29413, 33254, 37649], [36302, 44070, 1249, 8886, 4984, 38898, 46574, 7686, 37813, 41566, 45333, 32303, 14534, 18551, 44216, 44218, 50841, 33365, 20054, 35036, 31153, 1437, 46850, 33469, 264, 52097, 6234, 48667, 7526, 3447, 20979, 32149, 20973, 42714, 16897, 12838, 46787, 10424, 4738, 4777, 4776, 26625, 49660, 4372, 12652, 13139, 51698, 50438, 21877, 51264, 24751, 42052, 16374, 8310, 21825, 39403, 9464, 9470, 5462, 27227, 44623, 18794, 91, 36834, 10725, 14902, 50497, 41842, 38034, 38036, 621, 513, 49532, 19875, 28273, 48214, 80, 25729, 8064, 25731, 48422, 22865, 18617, 14428, 36368, 10300, 10323, 32358, 6528, 2453, 20073, 41639, 20068, 24155, 45415, 41635, 45412, 24152, 20076, 47539, 50610, 49724, 46822, 8938, 37221, 26720, 22677, 22679, 37588, 42941, 9086, 47684, 50423, 37642, 36036, 50341, 52037, 8805, 8798, 34745, 12752, 16968, 4017, 50971, 49308, 14427, 47291, 24027, 27024, 32399, 20987, 21614, 276, 17369, 21608, 49807, 25655, 859, 41837, 20427, 24534, 24544, 41314, 27225, 27236, 5456, 9465, 13708, 20301, 32567, 38215, 29834, 42110, 42092, 42040, 42103, 49136, 46804, 20573, 24722, 43496, 51603, 13856, 641, 4296, 48700, 50707, 47525, 9825, 49750, 34650, 38553, 16711, 26018, 2225, 2229, 2233, 44934, 44962, 23891, 23887, 44959, 44963, 41176, 20026, 45621, 15290, 26144, 46772, 34471, 28860, 48128, 3822, 48297, 6353, 46533, 8022, 33247, 3132, 48926, 51970, 50165, 33820, 13758, 13350, 13341, 31376, 21617, 3935, 33048, 8142, 34047, 34072, 38035, 41829, 41834, 20412, 20428, 41850, 45756, 18675, 19425, 48977, 38225, 12298, 40909, 38232, 22768, 19793, 48713, 24719, 51974, 49570, 7316, 37634, 50296, 48615, 46789, 41026, 49153, 25341, 38550, 16714, 20754, 49263, 48364, 49549, 26500, 47512, 44071, 30882, 49293, 6488, 40313, 1439, 5183, 23377, 13234, 43126, 36049, 28554, 6632, 36495, 44500, 35566, 27124, 31348, 35378, 2879, 22237, 24464, 2876, 47896, 49286, 47874, 3040, 28917, 37440, 604, 23394, 29477, 5730, 31712, 31714, 35720, 13793, 17929, 30397, 34401, 42417, 46089, 8272, 49204, 34232, 18333, 23792, 27698, 45068, 2168, 49640, 32090, 9961, 51500, 27700, 2164, 23783, 37635, 47169, 46958, 17287, 47765, 48761, 10523, 49189, 15360, 10603, 50540, 50364, 30819, 51647, 46794, 48601, 1195, 26739, 26738, 48407, 229, 38824, 12960, 16992, 47094, 3562, 3565, 48705, 47889, 33634, 51287, 38347, 7276, 48827, 36693, 50386, 37699, 24332, 1691, 1045, 51962, 51770, 50414, 48701, 33997, 49879, 48135, 48889, 8162, 3961, 34090, 29955, 34088, 52040, 41864, 47232, 32699, 48571, 43562, 44064, 47426, 922, 4538, 8532, 20785, 25227, 33109, 19675, 48859, 18223, 43930, 22386, 1114, 8507, 43401, 48874, 36714, 38737, 30268, 12870, 16910, 46416, 45392, 42739, 20993, 38023, 16921, 19775, 18944, 47549, 44157, 10508, 27368, 50212, 51821, 48245, 26636, 51615, 4862, 8750, 38747, 16913, 6741, 45193, 51993, 50753, 38930, 18063, 17090, 17085, 42911, 42914, 21183, 37231, 7704, 33505, 11527, 15700, 15707, 15715, 20023, 6475, 20725, 50961, 39180, 48189, 51256, 12560, 14698, 1201, 37990, 16274, 41956, 20352, 45682, 24478, 49559, 1673, 44566, 27340, 31530, 50125, 47457, 4237, 48733, 49684, 41653, 48525, 21728, 385, 393, 28700, 34198, 20271, 28939, 7078, 1034, 20209, 27362, 31741, 9598, 49028, 47872, 50191, 28199, 15833, 19475, 49215, 51558, 3749, 43501, 8449, 4420, 8448, 20618, 584, 50618, 15905, 49612, 31888, 51118, 31539, 27333, 44565, 14849, 44231, 25644, 50812, 25480, 15899, 8666, 33998, 35099, 9040, 35242, 30757, 1285, 50878, 13211, 34985, 10238, 20263, 43144, 39181, 42373, 5202, 1724, 49443, 35519, 49264, 48447, 49541, 26649, 18227, 36160, 49883, 25255, 49065, 19494, 40194, 47387, 20613, 43273, 50586, 3165, 20611, 50628, 46208, 3148, 47000, 21189, 28736, 16973, 11101, 37281, 44804, 46759, 51191, 6878, 18030, 50998, 26473, 1462, 51009, 12797, 46384, 46380, 20779, 48471, 30768, 20782, 50397, 226, 29183, 37509, 23919, 44988, 41223, 44995, 23911, 6045, 32002, 32015, 17985, 31604, 17487, 27969, 2865, 49433, 50608, 19960, 27575, 46845, 30572, 49183, 7550, 29656, 11515, 41592, 30173, 37563, 46831, 5392, 17468, 50318, 25801, 10426, 51607, 32827, 10854, 40974, 33438, 19401, 19344, 36015, 23347, 5748, 31740, 31744, 31747, 35755, 13812, 17952, 22074, 14622, 47285, 47594, 24336, 31696, 17375, 48391, 27365, 28778, 47246], [6345, 16885, 23155, 18921, 51659, 34851, 51093, 1096, 22580, 10229, 12652], [2052, 46948, 51344, 49756, 23431, 19190, 19154, 14939, 50706, 2940, 49651, 28817, 32904, 6929, 45184, 28813, 50455, 6490, 42017, 16352, 48605, 49728, 26121, 467, 21808, 39391, 39386, 35622, 36079, 49036, 35143, 28445, 24317, 15758, 37877, 7962, 7961, 25722, 75, 43198, 39011, 32441, 31228, 49789, 36723, 45397, 37723, 3537, 21213, 38800, 8931, 8929, 30973, 22669, 11082, 47983, 13751, 40196, 18450, 44130, 52073, 1172, 26715, 15355, 17126, 17123, 21216, 38805, 30976, 51818, 17323, 46862, 42800, 16959, 34740, 34743, 42208, 49699, 3904, 28054, 23769, 2146, 49106, 48392, 15379, 15371, 15372, 37335, 37334, 49269, 19738, 49414, 2142, 45046, 19729, 19733, 36344, 46337, 11403, 2147, 38592, 44539, 37114, 40136, 25017, 38460, 8582, 727, 51684, 50969, 20270, 20643, 16580, 49446, 33381, 19265, 36945, 41615, 366, 49138, 47484, 3212, 18849, 38138, 6782, 26889, 48596, 3170, 48169, 40345, 41537, 33445, 21139, 32967, 21567, 25052, 51842, 1051, 51987, 23053, 44901, 37234, 37233, 33037, 22629, 50158, 24696, 49059, 43517, 39382, 35612, 51623, 47056, 8105, 9724, 51813, 17415, 15744, 11754, 33819, 21403, 51944, 14407, 16497, 50491, 26700, 44120, 26145, 50006, 48902, 25343, 46454, 30665, 34730, 30758, 49820, 22441, 14060, 32044, 6093, 39610, 3996, 50429, 49297, 51573, 49542, 48826, 21853, 47876, 16424, 49279, 30180, 30181, 30176, 26177, 34248, 47780, 49927, 32564, 34451, 12175, 20216, 51178, 51666, 1393, 40272, 19697, 43813, 51617, 48213, 47815, 30850, 32442, 8863, 30853, 26341, 22727, 50810, 50209, 35394, 50237, 45291, 24051, 39367, 10172, 47427, 11249, 33231, 33229, 15346, 28388, 32675, 4494, 849, 47973, 3106, 51865, 40415, 51473, 36284, 40806, 47796, 20355, 51562, 4109, 51676, 9438, 27189, 18951, 21121, 49642, 8095, 30084, 3890, 947, 5416, 42825, 52022, 11735, 48004, 54, 47664, 6497, 22875, 42209, 22649, 14354, 14394, 10081, 10082, 48804, 2297, 19866, 37554, 29502, 21037, 12723, 30752, 45832, 22430, 14235, 36019, 28011, 23738, 19706, 48809, 28942, 3717, 51151, 2116, 23498, 8635, 39093, 14246, 50844, 34809, 26344, 4349, 4356, 26357, 4348, 30358, 8385, 16561, 50462, 38433, 38430, 12509, 8376, 42326, 22709, 24803, 42170, 30167, 44922, 45812, 4495, 47275, 49334, 7841, 3762, 51625, 47309, 51518, 4054, 19924, 23643, 49552, 11238, 45240, 14778, 20515, 49689, 34434, 47452, 3229, 8255, 411, 37116, 13648, 48440, 24496, 47129, 50860, 40507, 18799, 45224, 48555, 51900, 17143, 23959, 3674, 21372, 51738, 17597, 38758, 48967, 29220, 20814, 34493, 4564, 36918, 32955, 47446, 2047, 21871, 24246, 2621, 19224, 51867, 34737, 34580, 43554, 24582, 39750, 48728, 43233, 15776, 52041, 15781, 49944, 43030, 39052, 46841, 44794, 21292, 6509, 36249, 17453, 6144, 25146, 26421, 48264, 41533, 51904, 37609, 33410, 47545, 50633, 12901, 49877, 18057, 42619, 38490, 50173, 49522, 48625, 16631, 47013, 5435, 49028], [51803, 37077, 2946, 2948, 49511, 42016, 2936, 6922, 10915, 40856, 50432, 23429, 23430, 23417, 23047, 14954, 8835, 6927, 24705, 6490], [45532, 41760, 25669, 11711, 11688, 11705, 11684, 11679, 11695, 37271, 11687, 6589, 33761, 50023, 51930, 51246, 48429, 38143, 3301, 18254, 35674, 31943, 48066, 33477, 13270, 9712, 15692, 33480, 3639, 3647, 7696, 22985, 29642, 48623, 25663, 22888, 21173, 42898, 47818, 51587, 46582, 33482, 49923, 51826, 13043, 30887, 30889, 4991, 35937, 1253, 33961], [38636, 4922, 50425, 4924, 4925, 30791, 30788, 30795, 30785, 14707, 38962, 8804, 16968], [34871, 30639, 47231, 33757, 17069, 13040, 13041], [6665, 31798, 46747, 8612, 42605, 25053, 25055, 7433, 41317, 23795, 45083, 32104, 17673, 25369, 25370, 27848, 26008, 11407, 45263, 51570, 29291, 3394, 1106, 7266], [38355, 8616, 11140, 16572, 12597, 12589, 805, 43824], [11969, 20670, 16208, 16141, 16143, 38112, 33831, 33912, 38123, 11991, 27040, 41906, 45639, 32571, 14804, 40684, 1774, 51894, 50601, 51148, 19740, 47185, 21670, 10337, 32569, 28721, 24448, 2852, 45640, 26614, 43423, 11990, 7500, 31334, 1588, 49494, 1591, 44358, 31695, 37936, 33726, 33729, 7874, 7875, 50521, 25828, 25815, 7321, 9811, 21415, 20165, 20173, 43814, 45495, 48481, 33737, 33740, 3805, 49641, 51768, 13225, 35025, 13215, 39134, 17249, 25816, 11959, 47574, 2670, 48849, 2678, 2126, 44417, 28534, 47967, 50726, 41116, 44893, 38864, 15861, 41717, 9952, 6594, 1408, 44211, 47670, 48806, 19659, 50322, 47043, 10028, 44062, 22746, 22745, 22814, 46742, 21148, 51097, 3627, 33461, 11647, 41548, 50838, 774, 51507, 49458, 1415, 33235, 15080, 14662, 18959, 1243, 5364, 9173, 13571, 26725, 21532, 49779, 38115, 11975, 47662, 34358, 8219, 38296, 45836, 7033, 39762, 16585, 24829, 7202, 11007, 41085, 44842, 27668, 37638, 18077, 49001, 30556, 35730, 49712, 32018, 977, 8801, 48179, 51020, 50141, 48180, 49444, 30365, 14784, 44443, 27034, 47734, 20431, 28645, 2461, 3017, 25800, 37342, 37086, 19195, 17503, 29144, 7484, 44915, 46871, 22358, 47121, 26465, 34652, 38552, 38389, 13996, 39914, 47518, 4802, 30694, 16895, 47220, 45177, 2576, 33281, 46576, 7682, 41572, 11731, 17274, 25839, 3829, 49124, 15834, 36540, 36502, 34105, 18698, 51021, 33955, 35706, 4224, 42235, 45846, 20189, 34393, 12388, 48866, 24854, 11774, 39814, 47217, 33164, 37354, 18952, 6127, 36057, 18323, 4642, 16809, 14280, 47821, 1189, 48987, 26993, 3721, 11790, 15772, 50771, 6549, 14620, 47603, 40430, 14757, 48505, 40597, 18814, 34411, 17588, 506, 14009, 10273, 38949, 41503, 3159, 11097, 37289, 41047, 23649, 47046, 16727, 42506, 50055, 29193, 26744, 32003, 51329, 19269, 49325, 43924, 22964, 21005, 25475, 43753, 47326, 51835, 17090], [18453, 43826, 26420, 8634, 12595, 42632, 25076, 11210, 51550, 223], [49346, 48784, 33035, 33908, 44325, 51621, 52042, 37006, 34598, 19876, 38157, 48457, 48093, 28967, 49537, 48248, 35504, 37778, 50632, 51303, 28771, 32641, 1808, 1664, 5591, 39343, 51899, 34231, 20516, 44899, 17974, 51263, 4256, 13000, 25294, 39701, 17980, 2625, 33220, 15262, 15261, 19041, 5589, 51318, 7365, 45469, 44747, 7567, 48646, 40361, 18837, 51512, 42172, 48750, 49575, 50163, 50599, 49912, 40996, 49127, 33721, 51399, 49697, 35677, 32333, 36354, 18589, 51212, 25706, 2730, 19592, 51102, 47560, 24515, 20737, 2350, 42766, 24676, 24678, 7099, 32867, 37017, 51237, 14826, 32873, 11061, 41002, 47485, 9056, 46900, 20508, 35828, 51653, 7041, 12549, 44368, 10594, 13199, 51389, 27369, 51403, 39034, 10747, 39626, 21996, 50325, 9345, 36241, 35528, 42211, 5384, 49737, 30188, 34157, 34164, 47229, 29286, 12138, 49754, 32086, 19536, 28964, 31395, 11409, 30550, 12548, 47244, 961, 47565, 41455, 14782, 50912, 49650, 50739, 50596, 28429, 47002, 14019, 5259, 13320, 25914, 15510, 9448, 12271, 2922, 10881, 44754, 48770, 17805, 44503, 46975, 24894, 11072, 23620, 51062, 41159, 23849, 31939, 48285, 1056, 48812, 49990, 41623, 51041, 36736, 47420, 21528, 26033, 49114, 186, 49119, 30020, 30033, 10988, 41910, 16112, 45643, 47439, 41245, 51312, 18871, 14796, 38682, 49945, 1786, 21863, 50573, 16817, 41538, 7201, 48149, 51566, 42607, 30243, 3567, 15091, 22680, 26722, 30981, 17138, 46656, 25549, 3549, 37733, 20071, 45419, 7940, 8782, 14432, 11611, 51286, 15904, 32361, 13356, 21609, 29932, 38063, 16010, 41857, 24554, 10718, 3871, 34289, 44680, 35956, 20596, 11810, 51863, 47857, 49331, 36052, 6026, 31965, 2069, 50368, 49007, 12335, 1247, 4988, 8885, 6299, 19999, 19996, 51586, 32305, 14536, 44224, 5189, 35037, 17273, 21330, 21333, 51598, 31485, 51860, 51271, 18893, 26458, 48981, 20513, 28923, 45198, 46963, 19489, 43534, 27526, 31899, 9744, 1163, 11182, 15214, 41307, 41303, 45079, 23791, 5441, 44833, 40297, 41925, 40043, 28007, 51015, 14441, 1336, 33894, 38677, 34485, 46800, 16041, 16760, 6747, 10758, 36856, 47836, 18806, 23252, 23251, 50927, 34546, 16384, 20452, 45966, 28856, 6975, 10946, 37112, 40875, 50338, 51337, 31659, 47267, 20610, 47563, 16382, 46382, 50770, 28505, 35875, 48282, 41403, 48120, 4997, 34887, 50119, 49111, 22799, 31182, 40360, 43145, 11724, 47773, 44399, 48354, 27142, 47751, 51008, 35727, 12216, 38000, 40958, 19315, 35986, 30425, 38330, 20682, 46142, 24869, 33016, 37201, 47514, 18712, 47119, 47952, 14103, 1011, 30827, 8829, 34776, 42837, 46491, 23493, 33406, 41338, 50228, 46680, 11599, 15587, 47038, 26905, 9105, 49762, 13096], [16098, 14783, 50877, 50569, 20644, 16689, 25143, 25144, 47942, 52023, 22537, 48844, 41368, 24067, 6187, 10176, 45883, 8881, 13024, 46735, 29621, 33459, 15647, 19980, 34410, 50591, 13630, 41719, 34506, 37941, 47967], [47932, 48788, 10230, 50544, 26109, 45024, 51178], [47486, 35501, 18691, 30198, 26605, 24447, 16342, 12004, 23934, 9952], [5142, 46961, 51838, 45857, 44818, 43867, 51249, 6897, 48937, 30833, 48994, 41887, 15513, 29994, 34545, 51455, 6583, 2628, 24367, 15808, 22094, 47397, 4245, 15277, 3071, 48559, 18435, 51296, 38980, 47709, 40908, 44188, 9989, 27773, 2409, 23824, 50290, 12606, 8647, 48639, 37313, 50686, 50712, 4135, 46973, 40816, 5065, 817, 30616, 24880, 46316, 46624, 29063, 23815, 23825, 23833, 23837, 10949, 20365, 48627, 45841, 18253, 51521, 47699, 37229, 48325, 23265, 21099, 21101, 16831, 38671, 9113, 51994, 3416, 11434, 45283, 50765, 10144, 10151, 15099, 50590, 47195, 6432, 50699, 42823, 24192, 28305, 6399, 47451, 46139, 31109, 50650, 39070, 51707, 42385, 44150, 50043, 47386, 13957, 49368, 15682, 25975, 681, 48564, 35032, 45462, 19941, 41508, 14024, 1342, 50636, 50602, 9019, 41880, 8595, 49003, 137, 21059, 25768, 3751, 48275, 29771, 7840, 7852, 7830, 7843, 11841, 49438, 11831, 11830, 11926, 48074, 11868, 11913, 11863, 48290, 7836, 7821, 45845, 50873, 36707, 14633, 40422, 44328, 22750, 47785, 20739, 50307, 49172, 7868, 24186, 51787, 45992, 9531, 31682, 49149, 50845, 51211, 50968, 11424, 29552, 50342, 12438, 50893, 6773, 29896, 24595, 45808, 49044, 24879, 11056, 41676, 11823, 7833, 48116, 9399, 28401, 32162, 36264, 6157, 45284, 51146, 30619, 2349, 12795, 8845, 47040, 45115, 50236, 33202, 14827, 37667, 8226, 32336, 262, 5779, 50823, 19431, 40978, 41610, 49905, 26083, 21746, 47681, 46452, 35586, 35576, 31573, 31560, 27162, 44574, 48027, 27160, 8374, 18930, 40759, 26697, 18800, 50107, 51082, 40764, 23171, 22698, 1652, 4870, 4892, 51415, 10160, 38004, 38005, 45696, 45699, 45267, 6339, 51460, 33554, 49831, 51113, 50896, 47621, 49813, 15167, 50377, 42753, 16936, 12878, 47135, 49076, 1468, 23713, 41062, 37300, 17969, 52094, 51876, 1740, 40629, 36890, 28696, 19713, 328, 49462, 17387, 40451, 45881, 7811], [26378, 17898, 35694, 41352, 17979, 10809, 2864, 16251, 195, 17438, 48862, 3818, 157, 49770, 50051, 38889, 46776, 50235, 47043], [50336, 1562, 14639, 28504, 48023, 41070, 5133, 18509, 10385, 50958, 37780, 29594, 3597, 38858, 8972, 4958, 40641, 5589], [6125, 19752, 7422, 47599, 3313, 2005, 8272], [48479, 3230, 36804, 32658, 32656, 20369, 10418, 15940, 15963, 15964, 15961, 34004, 947], [2391, 32205, 49326, 6324, 6306, 6321, 6302, 6303, 30417, 6326, 17770, 47003, 29495, 21038, 18461, 44723, 36198, 14394], [49115, 13140, 51220, 12759, 34752, 30803, 26022, 983, 26549, 26536, 26540, 26541, 30804, 8801], [19872, 3045, 34927, 50638, 11169, 22278, 44669, 23543, 19563, 37184, 21299, 12406, 10788, 25134, 51545, 17455, 13584, 22791, 50708, 42692, 47767, 41764, 8695, 32491, 30183, 41671, 33045, 43704, 2714, 19091, 14258, 2934, 8347, 8292, 8293, 4141, 469, 39388, 5437, 18962, 44699, 48338, 5267, 10481, 39197, 29906, 50219, 50069, 14719, 13081, 36360, 32346, 37722, 40052, 49017, 38561, 23057, 50097, 42557, 39458, 48575, 36920, 51695, 27106, 1584, 14654, 32411, 48487, 20149, 49167, 26665, 49809, 49513, 15668, 17775, 36116, 50903, 39715, 27581, 32858, 3955, 17433, 44099, 49621, 47986, 41103, 21405, 37477, 48717, 8041, 49362, 6960, 49243, 51940, 49681, 51875, 14220, 32522, 49429, 50861, 42558, 34369, 49141, 2191, 49872, 15182, 1042, 32152, 2192, 37434, 51905, 17984, 9782, 37930, 8227, 46155, 24667, 9578, 23194, 14729, 6890, 33200, 50851, 8089, 246, 39203, 50008, 49290, 15498, 21167, 12818, 25515, 34910, 1157, 40177, 36203, 47425, 23966, 50909, 41612, 18255, 35532, 48707, 50066, 51722, 37975, 41020, 16739, 47086, 35509, 5323, 48035, 47356, 3367, 3821, 49220, 12348, 44166, 304, 41358, 36086, 28189, 23829, 47713, 46760, 44434, 29029, 8323, 14732, 48067, 12909, 50710, 33140, 27168, 45771, 6873, 45267], [49000, 48641, 17478, 9739, 50362, 49498, 19442, 19452, 23382, 2932, 14826], [1717, 27226, 27235, 40169, 7045, 24309, 44402, 49649, 50802, 14650, 46890, 19574, 24806, 36841, 29792, 36103, 20423, 48803, 11452, 8133, 29920, 12122, 8145, 8140, 25312, 49082, 50709, 21096, 49873, 18772, 22089, 1496, 9277, 13338, 45064, 47817, 8137, 4280, 37768, 21030, 20816, 44696, 23230, 26501, 17662, 41844, 41839, 16022, 38053, 20416, 20406, 45744, 49441, 27224, 27232, 27238, 5460, 9467, 35629, 27252, 7253, 24744, 28836, 37088, 50470, 50138, 30955, 44315, 36210, 50603, 31760, 48651, 19760, 22356, 47677, 43443, 26342, 6767, 31824, 31821, 4458, 4167, 49291, 49505, 19636, 27919, 9847, 22570, 1083, 48872, 34845, 16891, 31754, 21224, 29433, 19827, 2375, 47838, 40118, 40119, 28216, 34870, 50276, 12086, 49921, 49213, 50571, 6440, 36462, 49631, 7895, 50566, 6626, 36538, 30896, 51670, 20056, 7816, 39266, 49688, 50862, 38305, 12204, 9702, 50993, 28911, 7255, 23322, 23321, 49358, 26226, 47206, 30413, 34399, 16612, 16618, 42408, 27453, 48455, 46129, 46094, 21441, 33141, 46074, 46075, 20662, 42422, 20665, 52046, 12387, 12386, 12395, 36244, 4397, 4404, 43638, 17933, 44296, 13777, 13784, 10878, 35613, 44113, 44806, 49050, 43639, 571, 569, 22041, 12712, 12382, 47520, 3049, 48385, 31931, 22043, 49765, 23782, 27699, 47007, 36056, 39828, 43995, 18632, 7790, 50815, 51234, 44144, 22686, 22692, 26728, 4940, 31004, 34947, 12958, 50729, 46678, 11594, 15582, 45442, 2470, 6380, 14443, 23794, 26888, 48350, 39031, 13134, 49598, 35762, 2511, 15773, 33982, 21046, 50887, 45777, 20437, 45776, 2814, 28688, 16850, 36869, 40603, 50533, 7479, 16980, 13722, 13723, 35651, 13730, 13720, 35646, 13719, 17573, 39411, 35644, 9492, 9488, 13717, 16071, 21844, 30141, 34304, 34310, 38252, 38940, 26005, 47442, 13917, 44644, 22766, 45820, 51221, 914, 4546, 38574, 16729, 51538, 20795, 2591, 3347, 52034, 31997, 25184, 4867, 52054, 14375, 40142, 44084, 18406, 43627, 44625, 49117, 26814, 34881, 38928, 50651, 49439, 47781, 1274, 5930, 13077, 39176, 39187, 43147, 29859, 26710, 15896, 51999, 6655, 36581, 47167, 27133, 1456, 1242, 27140, 1447, 1455, 49288, 8396, 16096, 4065, 8059, 37991, 24391, 47928, 7518, 39487, 51456, 4231, 49861, 46803, 38154, 1723, 4523, 32939, 28966, 47594], [2964, 24746, 24747, 17344, 49442, 18659, 34460, 46202, 33053, 44916, 2061, 14017, 39737, 18018, 22363, 4528, 30484, 23590, 8512, 30482, 38389], [41023, 41022, 37425, 12014, 32389, 50285, 38373, 38371, 8489, 15775, 1908, 40850, 51475, 45920, 16349, 8298, 470, 21810, 39387, 39388], [32369, 28279, 35965, 47756, 43212, 51770], [2337, 1926, 11432, 7636, 26290, 30626, 44030, 36089, 5942, 28797, 45118, 45126, 15254, 15051, 3581, 31930, 3375, 49687, 38508, 16667, 25089, 28271, 37415, 50469, 48439, 49552], [528, 13746, 50487, 20507, 31489, 1755, 51516, 3998, 21496, 35507, 49334], [27473, 48388, 27475, 23488, 30391, 15015, 7012, 47421, 47728, 49409, 14144, 20294, 38094, 38092, 46964, 51132, 9630, 45618, 47111, 29779, 25512, 39064, 25925, 46839, 41625, 47649, 6159, 15726, 7639, 48614, 24463, 47284, 51985, 27805, 2832, 23821, 45117, 47431, 50258, 49139, 51266, 6040, 50680, 22284, 44727, 40983, 50468, 42750, 39338, 9420, 18929, 36789, 32634, 2741, 50111, 48065, 3204, 39204, 50811, 29600, 29668, 45311, 21197, 34901, 26829, 18411, 10070, 10068, 22218, 7559, 29458, 29465, 29461, 33314, 41250, 4874, 1130, 40337, 49277, 26371, 30585, 51928, 6073, 6065, 43335, 50506, 14345, 9895, 36002, 22065, 36006, 39977, 14232, 39974, 18242, 13885, 33316, 37684, 14642, 37681, 33307, 51005, 46980, 38941, 37689, 37688, 11338, 25493, 46431, 20178, 16932, 38756, 47762, 47642, 12882, 47212, 21799, 12886, 49869, 28618, 15494, 51844, 49998, 26672, 14222, 24754, 19689, 20844, 15351, 33120, 7358, 3356, 7520, 51365, 18042, 9694, 33449, 34324, 38418, 38417, 11564, 23492, 6080, 49528, 49846, 45475, 31903, 12919, 10984, 46927, 50476, 43574, 13882, 38564, 49254, 37821, 6992, 28875, 20471, 12329, 23114, 9330, 47366, 38344, 20278, 24586, 24583, 18956, 28694, 6758, 10771, 49839, 23278, 1739, 31480, 31475, 51654, 5837, 42161, 21166, 50255, 19227, 15005, 8809, 13877, 47336, 21866, 665, 44473, 43572, 9660, 47339, 23464, 48666, 30147, 27639, 30163, 33350, 47322, 26488, 43747, 35993, 31852, 27640, 23675, 37295, 48656, 7909, 46421, 34409, 2471, 50951, 32270, 45435, 45981, 45987, 50326, 41781, 17262, 1964, 35765, 30101, 24331, 48262, 29544, 50970, 32106, 8015, 51687, 47609, 34319, 4188, 43952, 28691, 50768, 12151, 38086, 12148, 34115, 17653, 35494, 9313, 47787, 35498, 9317, 31271, 46223, 5301, 40404, 30159, 51506, 33855, 51018, 51505, 51519, 48884, 433, 38842, 48691, 38846, 38847, 38838, 11550, 46851, 48108, 46304, 48593, 50170, 46684, 15434, 16261], [44582, 44039, 31568, 5583, 9417, 35575, 9418, 17343, 34149, 8985, 48440], [9886, 32013, 49928, 47962, 25222, 46386, 42515, 49556, 14033, 47426], [7676, 11648, 2528, 28343, 32173, 6394, 15852, 24412, 24230, 45457, 46951, 10663, 28734, 2204, 16166, 16241, 47676, 30032, 4022, 191, 181, 14324, 17443, 19682, 41562, 51041], [41504, 48144, 32841, 2256, 26392, 27972, 23918, 48837, 49157, 44157], [37807, 48523, 39135, 17254, 43100, 13213, 45558, 30328, 51108, 4037, 33927, 16219, 45637, 45636, 49909, 38682], [32515, 6708, 50126, 15259, 27046, 13761, 30985, 47816, 48530, 3567], [221, 49394, 43326, 17473, 6542, 46819, 40740, 23140, 1630, 4378, 49684], [44374, 18708, 33219, 38302, 51714, 51378, 39775, 44965, 6130, 10976, 46796, 51863], [36973, 30661, 48783, 3725, 29826, 35259, 30150, 44301, 14464, 6390, 47028, 14293, 48356, 48920, 45687, 2175, 50115, 17596, 19475], [4780, 4739, 4766, 8734, 16892, 20976, 3453, 33274, 45170, 2374, 24080, 15459, 14070, 25441, 18898, 4593, 10976], [50391, 26701, 19755, 33170, 3240, 20865, 7619, 30579, 50562, 51713, 48541, 19489], [17669, 13627, 9386, 49387, 12045, 218, 19453, 35386, 27582, 34985], [26908, 35261, 52025, 34183, 24796, 48829, 8669, 31474, 35663, 17593, 22918, 34409], [2174, 23802, 13036, 17243, 22697, 35986], [8245, 43466, 47877, 5600, 2721, 41961, 33980, 217, 14142, 44397, 29523], [44641, 18808, 47628, 36864, 10752, 9671, 49920, 42139, 38659, 34305, 50501], [13538, 21628, 1847, 10555, 47529, 31310, 51142, 43285, 43283, 17430, 15838, 13535, 13536, 9156, 47286, 14647, 49683, 40441, 50479, 49543, 49186, 25580], [9441, 48227, 43503, 30255, 12256, 48366, 20548, 24674, 32861, 10873, 37016, 30313, 1870, 5608, 35782, 17799, 32872, 26506, 50597, 2198, 36916, 1688, 34802, 8859, 50875, 51942], [47416, 31365, 6254, 38875, 21132, 33698, 15634, 19966, 45480, 19964, 6418, 41600, 40275, 22943, 52070, 31130, 13201], [22708, 11370, 30855, 47959, 48095, 26845, 7568, 14577, 6482, 30648, 46055, 13290, 13308, 48254, 27551, 11637, 19440, 33669, 31597, 5426, 48060], [13097, 21393, 48194, 29878, 41798, 49682, 50837, 40518, 13590, 11253, 1475, 23023, 31378, 13306, 27551], [3019, 28149, 41515, 42573, 44184, 35614, 47408, 26929, 35322, 17224, 28448, 15828, 24382, 2637, 50321, 7732, 38661], [3967, 34100, 16063, 20265, 45786, 24836, 48802, 23266, 47682, 19774, 11036], [28803, 32879, 10896, 37051, 49411, 23398, 47376, 27418, 23409, 19039, 44760, 1894, 1892, 27412, 51251, 13914, 17893, 47008, 22339, 38576, 46342, 51508, 48870, 40725, 33255], [22850, 31224, 47383, 17337, 46792, 48347, 43367, 26740, 37650], [44748, 14912, 14910, 37022, 17834, 52062, 42297, 42299, 50246, 50567, 19250, 27198, 16999, 30264, 10980], [48010, 51023, 49653, 51528, 48886, 50343, 36207, 43366], [47308, 48507, 47912, 46295, 29743, 48547, 34565, 30011, 35907, 27540, 29173, 38370, 13799, 39661, 39663, 35734, 35733, 38916, 49518, 22064], [46329, 25121, 46324, 20919, 20918, 9747, 20922, 38526, 12620, 42458, 46326, 46328, 7260, 11641, 7257, 51947, 47095], [47243, 51274, 13631, 23159, 46817, 36780, 49784, 25891, 17480, 35398, 48676, 18889], [51206, 44734, 41948, 37981, 48009, 32448, 42873, 3851, 18578, 6599, 28374, 46913, 47861, 41588, 41581, 48755], [9675, 43723, 47103, 30503, 16723, 33098, 41206, 2241, 6042, 45377, 26570, 13048, 42907, 21180, 48755], [47476, 6000, 5999, 27898, 27879, 2212, 44933, 655, 51956, 8451, 48300, 29146, 7288, 15288, 15287, 44928, 27874, 25631, 36128, 39903, 43889, 25927, 40642, 30669, 34834, 30674, 26618, 22565, 39906, 15031, 2003, 4160], [37254, 25887, 12090, 30836, 28640, 24354, 47357, 9620, 31615], [48552, 48269, 37976, 24213, 33147, 37321, 48430, 22656, 14196, 26705, 24488, 48595], [19739, 49205, 49981, 12798, 49302, 46635, 7533, 41618, 29476], [40356, 14413, 10261, 24130, 20051, 49600, 47487, 38789, 5038, 18436, 9873, 32977], [48561, 50665, 51680, 36647, 36648, 36650, 50395, 33823, 3698, 70, 21865, 4721, 33561, 42955, 19249], [17335, 25804, 40366, 34915, 5039, 44122, 18438, 10092, 14409]]]\n",
      "roots = [2306]\n",
      "tot_path_lengths = [[472207.79060935974, 3261.8884830474854, 153203.4337463379, 2186.214912414551, 103225.25914001465, 2590.367702484131, 10725.976007461548, 2184.5583992004395, 1506.2219581604004, 4425.500778198242, 1880.6725616455078, 58030.13752937317, 1908.7236785888672, 94735.45258331299, 6886.948455810547, 2428.3703002929688, 2697.2904052734375, 75662.06719970703, 4607.490211486816, 2367.319320678711, 1561.858009338379, 1767.3080959320068, 2766.9226570129395, 1829.980239868164, 51850.06859588623, 2641.762870788574, 76037.59485816956, 2674.0640964508057, 3385.4142723083496, 1759.6916580200195, 4531.898021697998, 1643.5941467285156, 69685.82118415833, 2350.915557861328, 1582.3512992858887, 5892.730606079102, 2326.4232788085938, 3271.5044555664062, 3307.7160034179688, 2262.0837936401367, 4258.240837097168, 4700.556732177734, 2399.6869945526123, 2850.842071533203, 1654.778663635254, 2780.969566345215, 1787.1515350341797, 2386.1376724243164, 1854.8139381408691, 6031.812557220459, 4436.294652938843, 2530.1660919189453, 5553.156055450439, 2678.685749053955, 3279.658203125, 2253.652702331543, 3594.0128746032715, 1914.5788650512695, 3330.7468490600586, 2190.8284912109375, 3399.4625549316406, 2405.557430267334, 2516.0734634399414, 3371.8177032470703, 2770.6023292541504, 3489.644609451294, 1505.4774932861328, 3457.4863891601562, 2869.023727416992, 2155.4601669311523, 3131.016010284424, 1679.8174514770508]]\n"
     ]
    },
    {
     "name": "stdout",
     "output_type": "stream",
     "text": [
      "meshparty_segment_size = 100\n",
      "Time for 1st pass MP skeletonization: 3.386251449584961\n",
      "branches_touching_root = [16]\n",
      "combining close nodes\n",
      "combine_threshold = 1300\n",
      "length of Graph = 13518\n",
      "After combining close endpoints max(kept_branches_idx) = 141, len(kept_branches_idx) = 138\n",
      "empty_indices % = 0.0\n",
      " conflict_indices % = 0.031758088553434934\n",
      "AFTER face_lookup_resolved_test\n",
      "Decomposing first pass: 12.220884561538696\n",
      "Only Using MeshParty Skeletonization and Mesh Correspondence\n",
      "Another print\n",
      "Divinding into MP and MAP pieces: 0.0002779960632324219\n",
      "Total time for MAP sublimb processing 5.245208740234375e-06\n",
      "---- Working on MP Decomposition #0 ----\n",
      "Using Quicker soma_to_piece_touching_vertices because no MAP and only one sublimb_mesh piece \n",
      "MP filtering soma verts: 0.0004138946533203125\n",
      "Fixing Possible Soma Extension Branch for Sublimb 0\n",
      "Total time for mesh KDTree = 0.2631347179412842\n",
      "sbv[0].reshape(-1,3) = [[712022.6 863223.5 798451.2]]\n",
      "closest_sk_pt_coord BEFORE = [712057.07381247 863501.40690023 798343.59279273]\n",
      "current_skeleton.shape = (659, 2, 3)\n",
      "node_for_stitch = 3: [712057.07381247 863501.40690023 798343.59279273]\n",
      "node_for_stitch AFTER = 3: [712057.07381247 863501.40690023 798343.59279273]\n",
      "possible_node_loc = [  0 655]\n",
      "possible_node_loc AFTER = [  0 655]\n",
      "curr_shortest_path = [3, 2.0, 1.0, 0.0]\n",
      "Current stitch point was not a branch or endpoint, shortest_path_length to one = 299.99999999997385\n",
      "Changing the stitch point becasue the distance to end or branch node was 299.99999999997385\n",
      "New stitch point has degree 1\n",
      "change_status for create soma extending pieces = True\n",
      "closest_sk_pt_coord AFTER = [712022.6 863223.5 798451.2]\n",
      "skipping soma 0 because closest skeleton node was already end node\n",
      "endpoints_must_keep = {0: array([[712022.6, 863223.5, 798451.2]])}\n",
      "match_sk_branches = [16]\n",
      "The new branch info was none so skipping \n",
      "\n",
      "No soma extending branch was added for this sublimb even though it had a soma border (means they already existed)\n",
      "MP (because soma touching verts) soma extension add: 12.946741580963135\n",
      "There were not both MAP and MP pieces so skipping the stitch resolving phase\n",
      "Time for decomp of Limb = 29.258507251739502\n",
      "Number of matching vertices = 7\n",
      "Only one endpoint after filtering away the endpoints that are not on the skeleton\n",
      "Using Distance measure skeletal_distance\n",
      "endpoints_must_keep = [[712022.6 863223.5 798451.2]]\n",
      "Number of end_nodes BEFORE filtering = 73\n",
      "all_single_nodes_to_eliminate = [7]\n",
      "no small end nodes to get rid of so returning whole skeleton\n",
      "Removed 0 skeletal branches\n",
      "104012 104013\n",
      "For marked faces: None\n",
      "empty_indices % = 0.0\n",
      " conflict_indices % = 0.0\n",
      "AFTER face_lookup_resolved_test\n",
      "Limb Correspondence before stitching = 138\n",
      "meshes_to_stitch = [<trimesh.Trimesh(vertices.shape=(13721, 3), faces.shape=(27348, 3))>, <trimesh.Trimesh(vertices.shape=(1756, 3), faces.shape=(3507, 3))>, <trimesh.Trimesh(vertices.shape=(126, 3), faces.shape=(252, 3))>, <trimesh.Trimesh(vertices.shape=(29477, 3), faces.shape=(58666, 3))>]\n",
      "Limb Correspondence AFTER stitching = 289\n",
      "Readjusting starting axon branch skeleton\n",
      "Fixing the axon starting branch endpoint to align with upstream branch\n",
      "Starting Branch 12 skeleton before fix: (659, 2, 3)\n",
      "Starting Branch 12 skeleton AFTER fix: (660, 2, 3)\n",
      "concept_network_dict = {0: [<networkx_utils.GraphOrderedEdges object at 0x7fbd746fbc88>]}\n",
      "Assigning the old width calculation because no valid new widths\n",
      "\n",
      "\n",
      "----Working on seperate_graph 0----\n",
      "\n",
      "\n",
      "---------Working on soma_idx = 0, soma_group_idx 0, endpt = [713147.18730159 859537.7968254  798736.47301587]---------\n",
      "Starting_edge inside branches_to_conept = [[712953.51168846 860507.35481529 799542.83814458]\n",
      " [713147.18730159 859537.7968254  798736.47301587]]\n",
      "At the start, starting_node (in terms of the skeleton, that shouldn't match the starting edge) = [89]\n",
      "printing out current edge:\n",
      "[[713147.18730159 859537.7968254  798736.47301587]\n",
      " [712953.51168846 860507.35481529 799542.83814458]]\n",
      "edge_endpoints_to_process was empty so exiting loop after 297 iterations\n",
      "starting_node in concept map (that should match the starting edge) = 289\n",
      "Total time for branches to concept conversion = 3.629425525665283\n",
      "\n",
      "Done generating concept network \n",
      "\n",
      "\n"
     ]
    },
    {
     "data": {
      "text/plain": [
       "<neuron.Neuron at 0x7fbc7aa2f898>"
      ]
     },
     "execution_count": 170,
     "metadata": {},
     "output_type": "execute_result"
    }
   ],
   "source": [
    "import axon_utils as au\n",
    "neuron_obj_axon = au.complete_axon_processing(neuron_obj)\n",
    "neuron_obj_axon"
   ]
  },
  {
   "cell_type": "code",
   "execution_count": 171,
   "metadata": {},
   "outputs": [
    {
     "name": "stdout",
     "output_type": "stream",
     "text": [
      "\n",
      " Working on visualization type: mesh\n",
      "\n",
      " Working on visualization type: skeleton\n"
     ]
    },
    {
     "data": {
      "application/vnd.jupyter.widget-view+json": {
       "model_id": "a1135e9a92cf4b418febb8feffe33502",
       "version_major": 2,
       "version_minor": 0
      },
      "text/plain": [
       "VBox(children=(Figure(camera=PerspectiveCamera(fov=46.0, position=(0.0, 0.0, 2.0), projectionMatrix=(1.0, 0.0,…"
      ]
     },
     "metadata": {},
     "output_type": "display_data"
    }
   ],
   "source": [
    "nviz.plot_axon(neuron_obj_axon)"
   ]
  },
  {
   "cell_type": "code",
   "execution_count": 120,
   "metadata": {
    "scrolled": true
   },
   "outputs": [
    {
     "name": "stdout",
     "output_type": "stream",
     "text": [
      "\n",
      " Working on visualization type: mesh\n",
      "\n",
      " Working on visualization type: skeleton\n"
     ]
    },
    {
     "data": {
      "application/vnd.jupyter.widget-view+json": {
       "model_id": "3d6cc0f42d1e42fda334918f85b16f13",
       "version_major": 2,
       "version_minor": 0
      },
      "text/plain": [
       "VBox(children=(Figure(camera=PerspectiveCamera(fov=46.0, position=(0.0, 0.0, 2.0), projectionMatrix=(1.0, 0.0,…"
      ]
     },
     "metadata": {},
     "output_type": "display_data"
    }
   ],
   "source": [
    "nviz.plot_boutons(neuron_obj_axon,\n",
    "                  plot_web=True)"
   ]
  },
  {
   "cell_type": "markdown",
   "metadata": {},
   "source": [
    "# Want to visualize the error mesh where might have forking"
   ]
  },
  {
   "cell_type": "code",
   "execution_count": 173,
   "metadata": {
    "scrolled": true
   },
   "outputs": [
    {
     "data": {
      "application/vnd.jupyter.widget-view+json": {
       "model_id": "751318cc1bc249ceabb2a6db595383cd",
       "version_major": 2,
       "version_minor": 0
      },
      "text/plain": [
       "VBox(children=(Figure(camera=PerspectiveCamera(fov=46.0, position=(0.0, 0.0, 2.0), projectionMatrix=(1.0, 0.0,…"
      ]
     },
     "metadata": {},
     "output_type": "display_data"
    },
    {
     "data": {
      "text/plain": [
       "<trimesh.Trimesh(vertices.shape=(14211, 3), faces.shape=(26678, 3))>"
      ]
     },
     "execution_count": 173,
     "metadata": {},
     "output_type": "execute_result"
    }
   ],
   "source": [
    "error_mesh = vu.error_mesh_from_manual_proofreading(neuron_obj.segment_id,\n",
    "                                                       plot_error_and_valid_mesh=True)\n",
    "error_mesh"
   ]
  },
  {
   "cell_type": "code",
   "execution_count": 174,
   "metadata": {},
   "outputs": [],
   "source": [
    "error_branches = vu.error_branches_from_old_new_segment_mesh(neuron_obj_axon,\n",
    "                                           )[\"L0\"]"
   ]
  },
  {
   "cell_type": "code",
   "execution_count": 177,
   "metadata": {
    "scrolled": true
   },
   "outputs": [
    {
     "name": "stdout",
     "output_type": "stream",
     "text": [
      "Branch 106:\n",
      "No boutons to plot\n",
      "width = {'median_mesh_center': 77.34531379438725, 'no_spine_median_mesh_center': 77.34531379438725, 'no_bouton_median': 77.34531379438725}, \n",
      "n_boutons = 0,\n",
      "skeleton_length (in microns) = 3.2072250047303976\n",
      "area = 3.737826128004001\n"
     ]
    },
    {
     "data": {
      "application/vnd.jupyter.widget-view+json": {
       "model_id": "2d01b34946c1489cbbd1feabef63b622",
       "version_major": 2,
       "version_minor": 0
      },
      "text/plain": [
       "VBox(children=(Figure(camera=PerspectiveCamera(fov=46.0, position=(0.0, 0.0, 2.0), projectionMatrix=(1.0, 0.0,…"
      ]
     },
     "metadata": {},
     "output_type": "display_data"
    },
    {
     "name": "stdout",
     "output_type": "stream",
     "text": [
      "Branch 116:\n",
      "No boutons to plot\n",
      "width = {'median_mesh_center': 63.428307704865055, 'no_spine_median_mesh_center': 63.428307704865055, 'no_bouton_median': 63.428307704865055}, \n",
      "n_boutons = 0,\n",
      "skeleton_length (in microns) = 3.3466404488929307\n",
      "area = 1.5826053655587597\n"
     ]
    },
    {
     "data": {
      "application/vnd.jupyter.widget-view+json": {
       "model_id": "7ce63192e01344c49754eac9f74eb481",
       "version_major": 2,
       "version_minor": 0
      },
      "text/plain": [
       "VBox(children=(Figure(camera=PerspectiveCamera(fov=46.0, position=(0.0, 0.0, 2.0), projectionMatrix=(1.0, 0.0,…"
      ]
     },
     "metadata": {},
     "output_type": "display_data"
    },
    {
     "name": "stdout",
     "output_type": "stream",
     "text": [
      "Branch 201:\n",
      "width = {'median_mesh_center': 55.105065062492656, 'no_spine_median_mesh_center': 55.105065062492656, 'no_bouton_median': 54.329591673521904}, \n",
      "n_boutons = 1,\n",
      "skeleton_length (in microns) = 13.23998282920901\n",
      "area = 7.966232576286011\n"
     ]
    },
    {
     "data": {
      "application/vnd.jupyter.widget-view+json": {
       "model_id": "cde76055f2604215947c7cabe090944a",
       "version_major": 2,
       "version_minor": 0
      },
      "text/plain": [
       "VBox(children=(Figure(camera=PerspectiveCamera(fov=46.0, position=(0.0, 0.0, 2.0), projectionMatrix=(1.0, 0.0,…"
      ]
     },
     "metadata": {},
     "output_type": "display_data"
    },
    {
     "name": "stdout",
     "output_type": "stream",
     "text": [
      "Branch 202:\n",
      "width = {'median_mesh_center': 81.21958921474048, 'no_spine_median_mesh_center': 81.21958921474048, 'no_bouton_median': 71.43840606409488}, \n",
      "n_boutons = 1,\n",
      "skeleton_length (in microns) = 7.177023213392976\n",
      "area = 5.609573609002603\n"
     ]
    },
    {
     "data": {
      "application/vnd.jupyter.widget-view+json": {
       "model_id": "61c53353eec145d896f514ccda8e33c5",
       "version_major": 2,
       "version_minor": 0
      },
      "text/plain": [
       "VBox(children=(Figure(camera=PerspectiveCamera(fov=46.0, position=(0.0, 0.0, 2.0), projectionMatrix=(1.0, 0.0,…"
      ]
     },
     "metadata": {},
     "output_type": "display_data"
    },
    {
     "name": "stdout",
     "output_type": "stream",
     "text": [
      "Branch 203:\n",
      "No boutons to plot\n",
      "width = {'median_mesh_center': 68.1231045152641, 'no_spine_median_mesh_center': 68.1231045152641, 'no_bouton_median': 68.1231045152641}, \n",
      "n_boutons = 0,\n",
      "skeleton_length (in microns) = 2.872279976007936\n",
      "area = 2.3834528702048807\n"
     ]
    },
    {
     "data": {
      "application/vnd.jupyter.widget-view+json": {
       "model_id": "872966177a31477db84c3474f380f69d",
       "version_major": 2,
       "version_minor": 0
      },
      "text/plain": [
       "VBox(children=(Figure(camera=PerspectiveCamera(fov=46.0, position=(0.0, 0.0, 2.0), projectionMatrix=(1.0, 0.0,…"
      ]
     },
     "metadata": {},
     "output_type": "display_data"
    },
    {
     "name": "stdout",
     "output_type": "stream",
     "text": [
      "Branch 204:\n",
      "No boutons to plot\n",
      "width = {'median_mesh_center': 73.28560065406458, 'no_spine_median_mesh_center': 73.28560065406458, 'no_bouton_median': 73.28560065406458}, \n",
      "n_boutons = 0,\n",
      "skeleton_length (in microns) = 5.596428647506561\n",
      "area = 3.5518673207294\n"
     ]
    },
    {
     "data": {
      "application/vnd.jupyter.widget-view+json": {
       "model_id": "2b1b6e16e52e423dbecff823e2a73d3f",
       "version_major": 2,
       "version_minor": 0
      },
      "text/plain": [
       "VBox(children=(Figure(camera=PerspectiveCamera(fov=46.0, position=(0.0, 0.0, 2.0), projectionMatrix=(1.0, 0.0,…"
      ]
     },
     "metadata": {},
     "output_type": "display_data"
    },
    {
     "name": "stdout",
     "output_type": "stream",
     "text": [
      "Branch 205:\n",
      "width = {'median_mesh_center': 62.489472690448906, 'no_spine_median_mesh_center': 62.489472690448906, 'no_bouton_median': 62.32705630571049}, \n",
      "n_boutons = 1,\n",
      "skeleton_length (in microns) = 30.730819629073274\n",
      "area = 17.507151560305537\n"
     ]
    },
    {
     "data": {
      "application/vnd.jupyter.widget-view+json": {
       "model_id": "ff5734213620433b96d00e07578e7366",
       "version_major": 2,
       "version_minor": 0
      },
      "text/plain": [
       "VBox(children=(Figure(camera=PerspectiveCamera(fov=46.0, position=(0.0, 0.0, 2.0), projectionMatrix=(1.0, 0.0,…"
      ]
     },
     "metadata": {},
     "output_type": "display_data"
    },
    {
     "name": "stdout",
     "output_type": "stream",
     "text": [
      "Branch 206:\n",
      "width = {'median_mesh_center': 96.4635837978665, 'no_spine_median_mesh_center': 96.4635837978665, 'no_bouton_median': 82.5251764640407}, \n",
      "n_boutons = 24,\n",
      "skeleton_length (in microns) = 95.35040431091511\n",
      "area = 81.65812010772243\n"
     ]
    },
    {
     "data": {
      "application/vnd.jupyter.widget-view+json": {
       "model_id": "bdffdc6bf52d4fbd92901a45f819dcba",
       "version_major": 2,
       "version_minor": 0
      },
      "text/plain": [
       "VBox(children=(Figure(camera=PerspectiveCamera(fov=46.0, position=(0.0, 0.0, 2.0), projectionMatrix=(1.0, 0.0,…"
      ]
     },
     "metadata": {},
     "output_type": "display_data"
    },
    {
     "name": "stdout",
     "output_type": "stream",
     "text": [
      "Branch 215:\n",
      "No boutons to plot\n",
      "width = {'median_mesh_center': 79.97815376915433, 'no_spine_median_mesh_center': 79.97815376915433, 'no_bouton_median': 79.97815376915433}, \n",
      "n_boutons = 0,\n",
      "skeleton_length (in microns) = 4.231014502088096\n",
      "area = 2.674739811277842\n"
     ]
    },
    {
     "data": {
      "application/vnd.jupyter.widget-view+json": {
       "model_id": "ff082fc28c094f9bbee05cb87a7c6cb7",
       "version_major": 2,
       "version_minor": 0
      },
      "text/plain": [
       "VBox(children=(Figure(camera=PerspectiveCamera(fov=46.0, position=(0.0, 0.0, 2.0), projectionMatrix=(1.0, 0.0,…"
      ]
     },
     "metadata": {},
     "output_type": "display_data"
    },
    {
     "name": "stdout",
     "output_type": "stream",
     "text": [
      "Branch 225:\n",
      "No boutons to plot\n",
      "width = {'median_mesh_center': 61.554317101069984, 'no_spine_median_mesh_center': 61.554317101069984, 'no_bouton_median': 61.554317101069984}, \n",
      "n_boutons = 0,\n",
      "skeleton_length (in microns) = 9.171479041102499\n",
      "area = 6.51972313744994\n"
     ]
    },
    {
     "data": {
      "application/vnd.jupyter.widget-view+json": {
       "model_id": "bf34b57625b0446e99a338a422fa529a",
       "version_major": 2,
       "version_minor": 0
      },
      "text/plain": [
       "VBox(children=(Figure(camera=PerspectiveCamera(fov=46.0, position=(0.0, 0.0, 2.0), projectionMatrix=(1.0, 0.0,…"
      ]
     },
     "metadata": {},
     "output_type": "display_data"
    },
    {
     "name": "stdout",
     "output_type": "stream",
     "text": [
      "Branch 226:\n",
      "No boutons to plot\n",
      "width = {'median_mesh_center': 89.44114521968132, 'no_spine_median_mesh_center': 89.44114521968132, 'no_bouton_median': 89.44114521968132}, \n",
      "n_boutons = 0,\n",
      "skeleton_length (in microns) = 4.029544814065714\n",
      "area = 4.742516265537044\n"
     ]
    },
    {
     "data": {
      "application/vnd.jupyter.widget-view+json": {
       "model_id": "775caebcc69447cabae7a39eb0121ce4",
       "version_major": 2,
       "version_minor": 0
      },
      "text/plain": [
       "VBox(children=(Figure(camera=PerspectiveCamera(fov=46.0, position=(0.0, 0.0, 2.0), projectionMatrix=(1.0, 0.0,…"
      ]
     },
     "metadata": {},
     "output_type": "display_data"
    },
    {
     "name": "stdout",
     "output_type": "stream",
     "text": [
      "Branch 281:\n",
      "No boutons to plot\n",
      "width = {'median_mesh_center': 54.01629215672335, 'no_spine_median_mesh_center': 54.01629215672335, 'no_bouton_median': 54.01629215672335}, \n",
      "n_boutons = 0,\n",
      "skeleton_length (in microns) = 1.8366515251736644\n",
      "area = 1.1141174223114048\n"
     ]
    },
    {
     "data": {
      "application/vnd.jupyter.widget-view+json": {
       "model_id": "d333322e59474d2dae80f4d4875866fb",
       "version_major": 2,
       "version_minor": 0
      },
      "text/plain": [
       "VBox(children=(Figure(camera=PerspectiveCamera(fov=46.0, position=(0.0, 0.0, 2.0), projectionMatrix=(1.0, 0.0,…"
      ]
     },
     "metadata": {},
     "output_type": "display_data"
    }
   ],
   "source": [
    "for b in error_branches:\n",
    "    print(f\"Branch {b}:\")\n",
    "    nviz.plot_branches_with_boutons(neuron_obj_axon[0][b])"
   ]
  },
  {
   "cell_type": "code",
   "execution_count": 178,
   "metadata": {},
   "outputs": [],
   "source": [
    "thin_fork_branch = 205"
   ]
  },
  {
   "cell_type": "code",
   "execution_count": 179,
   "metadata": {
    "scrolled": true
   },
   "outputs": [
    {
     "name": "stdout",
     "output_type": "stream",
     "text": [
      "\n",
      " Working on visualization type: skeleton\n",
      "\n",
      " Working on visualization type: mesh\n"
     ]
    },
    {
     "data": {
      "application/vnd.jupyter.widget-view+json": {
       "model_id": "4360a39e24ef4aabad27467d1edff796",
       "version_major": 2,
       "version_minor": 0
      },
      "text/plain": [
       "VBox(children=(Figure(camera=PerspectiveCamera(fov=46.0, position=(0.0, 0.0, 2.0), projectionMatrix=(1.0, 0.0,…"
      ]
     },
     "metadata": {},
     "output_type": "display_data"
    }
   ],
   "source": [
    "nviz.visualize_neuron(neuron_obj_axon,\n",
    "                      visualize_type=[\"skeleton\",\"mesh\"],\n",
    "                     limb_branch_dict=dict(L0=[thin_fork_branch]),\n",
    "                     mesh_whole_neuron=True)"
   ]
  },
  {
   "cell_type": "code",
   "execution_count": 134,
   "metadata": {
    "scrolled": true
   },
   "outputs": [
    {
     "name": "stdout",
     "output_type": "stream",
     "text": [
      "Saving Neuorn in suppress_output mode...please wait\n",
      "Saved File at location: 864691136105498585_fork_test\n"
     ]
    }
   ],
   "source": [
    "neuron_obj_axon.save_compressed_neuron(\"./\",file_name=f\"{neuron_obj.segment_id}_fork_test\",\n",
    "                                       export_mesh=True)"
   ]
  },
  {
   "cell_type": "markdown",
   "metadata": {},
   "source": [
    "# Examples of How to Run Fork Divergence"
   ]
  },
  {
   "cell_type": "code",
   "execution_count": 259,
   "metadata": {},
   "outputs": [
    {
     "name": "stdout",
     "output_type": "stream",
     "text": [
      "\n",
      " Working on visualization type: mesh\n",
      "\n",
      " Working on visualization type: skeleton\n"
     ]
    },
    {
     "data": {
      "application/vnd.jupyter.widget-view+json": {
       "model_id": "8fff6ad443ee44a590a32a1b659b8bac",
       "version_major": 2,
       "version_minor": 0
      },
      "text/plain": [
       "VBox(children=(Figure(camera=PerspectiveCamera(fov=46.0, position=(0.0, 0.0, 2.0), projectionMatrix=(1.0, 0.0,…"
      ]
     },
     "metadata": {},
     "output_type": "display_data"
    }
   ],
   "source": [
    "nviz.visualize_neuron(neuron_obj_axon,\n",
    "                     limb_branch_dict=dict(L0=[12]),\n",
    "                     mesh_color=\"red\",\n",
    "                     mesh_whole_neuron=True)"
   ]
  },
  {
   "cell_type": "code",
   "execution_count": null,
   "metadata": {},
   "outputs": [],
   "source": [
    "downstream_sk = [limb_obj[0][12].skeleton,]"
   ]
  },
  {
   "cell_type": "code",
   "execution_count": 299,
   "metadata": {},
   "outputs": [
    {
     "data": {
      "text/plain": [
       "5194.6980293320985"
      ]
     },
     "execution_count": 299,
     "metadata": {},
     "output_type": "execute_result"
    }
   ],
   "source": [
    "import numpy_utils as nu\n",
    "nu.turn_off_scientific_notation()\n",
    "nst.fork_divergence_from_skeletons(upstream_skeleton=limb_obj[289].skeleton,\n",
    "                    downstream_skeletons=[limb_obj[k].skeleton for k in [12, 290]],\n",
    "                                  verbose = False)"
   ]
  },
  {
   "cell_type": "code",
   "execution_count": 324,
   "metadata": {},
   "outputs": [
    {
     "data": {
      "text/plain": [
       "95350.40431091511"
      ]
     },
     "execution_count": 324,
     "metadata": {},
     "output_type": "execute_result"
    }
   ],
   "source": [
    "sk.calculate_skeleton_distance(limb_obj[206].skeleton)"
   ]
  },
  {
   "cell_type": "code",
   "execution_count": 328,
   "metadata": {},
   "outputs": [
    {
     "data": {
      "text/plain": [
       "432.9941756354334"
      ]
     },
     "execution_count": 328,
     "metadata": {},
     "output_type": "execute_result"
    }
   ],
   "source": [
    "import neuron_statistics as nst\n",
    "# nst.fork_divergence(upstream_skeleton = upstream_sk,\n",
    "#                     downstream_skeletons = downstream_sk,\n",
    "#                     comparison_distance = 500,\n",
    "#                     skeletal_segment_size = 50,\n",
    "#                     plot_restrictions = True,\n",
    "#                     combining_function = np.mean)\n",
    "\n",
    "nst.fork_divergence_from_branch(branch_idx = 206,\n",
    "    limb_obj = neuron_obj_axon[neuron_obj_axon.axon_limb_name],\n",
    "    verbose = False,\n",
    "    plot_fork_skeleton = False,)"
   ]
  },
  {
   "cell_type": "code",
   "execution_count": 320,
   "metadata": {},
   "outputs": [
    {
     "data": {
      "text/plain": [
       "array([[[652032.8       , 887398.6       , 864802.1       ],\n",
       "        [652032.6998133 , 887398.31877416, 864801.82734276]],\n",
       "\n",
       "       [[652032.6998133 , 887398.31877416, 864801.82734276],\n",
       "        [652020.31000379, 887363.54036151, 864768.10858487]],\n",
       "\n",
       "       [[652020.31000379, 887363.54036151, 864768.10858487],\n",
       "        [652007.92019428, 887328.76194886, 864734.38982698]],\n",
       "\n",
       "       [[652007.92019428, 887328.76194886, 864734.38982698],\n",
       "        [651995.53038477, 887293.98353621, 864700.67106909]],\n",
       "\n",
       "       [[651995.53038477, 887293.98353621, 864700.67106909],\n",
       "        [651983.14057527, 887259.20512355, 864666.9523112 ]],\n",
       "\n",
       "       [[651983.14057527, 887259.20512355, 864666.9523112 ],\n",
       "        [651970.75076576, 887224.4267109 , 864633.2335533 ]],\n",
       "\n",
       "       [[651970.75076576, 887224.4267109 , 864633.2335533 ],\n",
       "        [651958.34919505, 887189.80627978, 864599.35741946]],\n",
       "\n",
       "       [[651958.34919505, 887189.80627978, 864599.35741946],\n",
       "        [651945.93952262, 887155.29467442, 864565.37287701]],\n",
       "\n",
       "       [[651945.93952262, 887155.29467442, 864565.37287701],\n",
       "        [651933.38683459, 887127.14203367, 864526.56163611]],\n",
       "\n",
       "       [[651933.38683459, 887127.14203367, 864526.56163611],\n",
       "        [651920.73646129, 887103.33281579, 864484.45357039]],\n",
       "\n",
       "       [[651920.73646129, 887103.33281579, 864484.45357039],\n",
       "        [651908.08608799, 887079.52359791, 864442.34550466]]])"
      ]
     },
     "execution_count": 320,
     "metadata": {},
     "output_type": "execute_result"
    }
   ],
   "source": [
    "x = np.array([[652032.8       , 887398.6       , 864802.1       ],\n",
    "       [652032.6998133 , 887398.31877416, 864801.82734276],\n",
    "       [652020.31000379, 887363.54036151, 864768.10858487],\n",
    "       [652007.92019428, 887328.76194886, 864734.38982698],\n",
    "       [651995.53038477, 887293.98353621, 864700.67106909],\n",
    "       [651983.14057527, 887259.20512355, 864666.9523112 ],\n",
    "       [651970.75076576, 887224.4267109 , 864633.2335533 ],\n",
    "       [651958.34919505, 887189.80627978, 864599.35741946],\n",
    "       [651945.93952262, 887155.29467442, 864565.37287701],\n",
    "       [651933.38683459, 887127.14203367, 864526.56163611],\n",
    "       [651920.73646129, 887103.33281579, 864484.45357039],\n",
    "       [651908.08608799, 887079.52359791, 864442.34550466]])\n",
    "# np.hstack([x[:-1],x[1:]]).reshape(-1,2,3)\n"
   ]
  },
  {
   "cell_type": "markdown",
   "metadata": {},
   "source": [
    "# Searching over the neuron object for fork divergences"
   ]
  },
  {
   "cell_type": "code",
   "execution_count": 308,
   "metadata": {},
   "outputs": [
    {
     "data": {
      "text/plain": [
       "{'L0': array([  0,   1,   2,   3,   4,   5,   6,   7,   8,   9,  10,  11,  12,\n",
       "         13,  14,  15,  16,  17,  18,  19,  20,  21,  22,  23,  24,  25,\n",
       "         26,  27,  28,  29,  30,  31,  32,  33,  34,  35,  36,  37,  38,\n",
       "         39,  40,  41,  42,  43,  44,  45,  46,  47,  48,  49,  50,  51,\n",
       "         52,  53,  54,  55,  56,  58,  60,  61,  62,  63,  65,  66,  67,\n",
       "         68,  69,  70,  71,  72,  73,  74,  75,  76,  77,  78,  79,  83,\n",
       "         84,  85,  86,  87,  88,  89,  90,  91,  92,  93,  94,  95,  96,\n",
       "         97,  98,  99, 100, 101, 102, 106, 107, 108, 109, 110, 111, 112,\n",
       "        113, 114, 115, 116, 117, 118, 119, 120, 121, 125, 126, 127, 128,\n",
       "        131, 132, 133, 134, 135, 136, 138, 140, 141, 142, 143, 144, 145,\n",
       "        146, 147, 148, 154, 156, 157, 158, 159, 160, 161, 162, 163, 164,\n",
       "        165, 166, 167, 168, 171, 172, 177, 178, 179, 180, 181, 182, 183,\n",
       "        184, 185, 186, 187, 188, 189, 190, 191, 192, 194, 195, 196, 197,\n",
       "        198, 199, 201, 202, 203, 204, 205, 206, 207, 208, 209, 210, 211,\n",
       "        212, 213, 214, 215, 216, 217, 219, 221, 222, 227, 228, 229, 230,\n",
       "        231, 232, 233, 234, 235, 236, 237, 238, 239, 240, 241, 242, 243,\n",
       "        244, 245, 246, 248, 249, 250, 253, 255, 260, 262, 263, 264, 265,\n",
       "        266, 267, 268, 269, 270, 271, 272, 273, 274, 275, 279, 280, 281,\n",
       "        282, 283, 284, 285, 286, 287, 288, 290, 291, 292, 293, 294, 295,\n",
       "        296])}"
      ]
     },
     "execution_count": 308,
     "metadata": {},
     "output_type": "execute_result"
    }
   ],
   "source": [
    "two_downstream_limb_branch"
   ]
  },
  {
   "cell_type": "code",
   "execution_count": 307,
   "metadata": {},
   "outputs": [
    {
     "data": {
      "text/plain": [
       "array([59, 64])"
      ]
     },
     "execution_count": 307,
     "metadata": {},
     "output_type": "execute_result"
    }
   ],
   "source": [
    "xu.sibling_nodes(limb_obj.concept_network_directional,57)"
   ]
  },
  {
   "cell_type": "code",
   "execution_count": 333,
   "metadata": {
    "scrolled": true
   },
   "outputs": [
    {
     "name": "stdout",
     "output_type": "stream",
     "text": [
      "b = 0\n",
      "b = 1\n",
      "b = 2\n",
      "b = 3\n",
      "b = 4\n",
      "b = 5\n",
      "b = 6\n",
      "b = 7\n",
      "b = 8\n",
      "b = 9\n",
      "b = 10\n",
      "b = 11\n",
      "b = 12\n",
      "b = 13\n",
      "b = 14\n",
      "b = 15\n",
      "b = 16\n",
      "b = 17\n",
      "b = 18\n",
      "b = 19\n",
      "b = 20\n",
      "b = 21\n",
      "b = 22\n",
      "b = 23\n",
      "b = 24\n",
      "b = 25\n",
      "b = 26\n",
      "b = 27\n",
      "b = 28\n",
      "b = 29\n",
      "b = 30\n",
      "b = 31\n",
      "b = 32\n",
      "b = 33\n",
      "b = 34\n",
      "b = 35\n",
      "b = 36\n",
      "b = 37\n",
      "b = 38\n",
      "b = 39\n",
      "b = 40\n",
      "b = 41\n",
      "b = 42\n",
      "b = 43\n",
      "b = 44\n",
      "b = 45\n",
      "b = 46\n",
      "b = 47\n",
      "b = 48\n",
      "b = 49\n",
      "b = 50\n",
      "b = 51\n",
      "b = 52\n",
      "b = 53\n",
      "b = 54\n",
      "b = 55\n",
      "b = 56\n",
      "b = 58\n",
      "b = 60\n",
      "b = 61\n",
      "b = 62\n",
      "b = 63\n",
      "b = 65\n",
      "b = 66\n",
      "b = 67\n",
      "b = 68\n",
      "b = 69\n",
      "b = 70\n",
      "b = 71\n",
      "b = 72\n",
      "b = 73\n",
      "b = 74\n",
      "b = 75\n",
      "b = 76\n",
      "b = 77\n",
      "b = 78\n",
      "b = 79\n",
      "b = 83\n",
      "b = 84\n",
      "b = 85\n",
      "b = 86\n",
      "b = 87\n",
      "b = 88\n",
      "b = 89\n",
      "b = 90\n",
      "b = 91\n",
      "b = 92\n",
      "b = 93\n",
      "b = 94\n",
      "b = 95\n",
      "b = 96\n",
      "b = 97\n",
      "b = 98\n",
      "b = 99\n",
      "b = 100\n",
      "b = 101\n",
      "b = 102\n",
      "b = 106\n",
      "b = 107\n",
      "b = 108\n",
      "b = 109\n",
      "b = 110\n",
      "b = 111\n",
      "b = 112\n",
      "b = 113\n",
      "b = 114\n",
      "b = 115\n",
      "b = 116\n",
      "b = 117\n",
      "b = 118\n",
      "b = 119\n",
      "b = 120\n",
      "b = 121\n",
      "b = 125\n",
      "b = 126\n",
      "b = 127\n",
      "b = 128\n",
      "b = 131\n",
      "b = 132\n",
      "b = 133\n",
      "b = 134\n",
      "b = 135\n",
      "b = 136\n",
      "b = 138\n",
      "b = 140\n",
      "b = 141\n",
      "b = 142\n",
      "b = 143\n",
      "b = 144\n",
      "b = 145\n",
      "b = 146\n",
      "b = 147\n",
      "b = 148\n",
      "b = 154\n",
      "b = 156\n",
      "b = 157\n",
      "b = 158\n",
      "b = 159\n",
      "b = 160\n",
      "b = 161\n",
      "b = 162\n",
      "b = 163\n",
      "b = 164\n",
      "b = 165\n",
      "b = 166\n",
      "b = 167\n",
      "b = 168\n",
      "b = 171\n",
      "b = 172\n",
      "b = 177\n",
      "b = 178\n",
      "b = 179\n",
      "b = 180\n",
      "b = 181\n",
      "b = 182\n",
      "b = 183\n",
      "b = 184\n",
      "b = 185\n",
      "b = 186\n",
      "b = 187\n",
      "b = 188\n",
      "b = 189\n",
      "b = 190\n",
      "b = 191\n",
      "b = 192\n",
      "b = 194\n",
      "b = 195\n",
      "b = 196\n",
      "b = 197\n",
      "b = 198\n",
      "b = 199\n",
      "b = 201\n",
      "b = 202\n",
      "b = 203\n",
      "b = 204\n",
      "b = 205\n",
      "b = 206\n",
      "b = 207\n",
      "b = 208\n",
      "b = 209\n",
      "b = 210\n",
      "b = 211\n",
      "b = 212\n",
      "b = 213\n",
      "b = 214\n",
      "b = 215\n",
      "b = 216\n",
      "b = 217\n",
      "b = 219\n",
      "b = 221\n",
      "b = 222\n",
      "b = 227\n",
      "b = 228\n",
      "b = 229\n",
      "b = 230\n",
      "b = 231\n",
      "b = 232\n",
      "b = 233\n",
      "b = 234\n",
      "b = 235\n",
      "b = 236\n",
      "b = 237\n",
      "b = 238\n",
      "b = 239\n",
      "b = 240\n",
      "b = 241\n",
      "b = 242\n",
      "b = 243\n",
      "b = 244\n",
      "b = 245\n",
      "b = 246\n",
      "b = 248\n",
      "b = 249\n",
      "b = 250\n",
      "b = 253\n",
      "b = 255\n",
      "b = 260\n",
      "b = 262\n",
      "b = 263\n",
      "b = 264\n",
      "b = 265\n",
      "b = 266\n",
      "b = 267\n",
      "b = 268\n",
      "b = 269\n",
      "b = 270\n",
      "b = 271\n",
      "b = 272\n",
      "b = 273\n",
      "b = 274\n",
      "b = 275\n",
      "b = 279\n",
      "b = 280\n",
      "b = 281\n",
      "b = 282\n",
      "b = 283\n",
      "b = 284\n",
      "b = 285\n",
      "b = 286\n",
      "b = 287\n",
      "b = 288\n",
      "b = 290\n",
      "b = 291\n",
      "b = 292\n",
      "b = 293\n",
      "b = 294\n",
      "b = 295\n",
      "b = 296\n"
     ]
    }
   ],
   "source": [
    "import neuron_searching as ns\n",
    "\n",
    "two_downstream_limb_branch = ns.query_neuron(neuron_obj_axon,\n",
    "               functions_list = [\"n_siblings\"],\n",
    "               query = \"n_siblings == 1\",\n",
    "               return_dataframe=False,\n",
    "               limbs_to_process=[neuron_obj_axon.axon_limb_name])\n",
    "\n",
    "fork_div_limb_branch = ns.query_neuron(neuron_obj_axon,\n",
    "               functions_list = [\"fork_divergence\"],\n",
    "               query = \"fork_divergence < 200\",\n",
    "               return_dataframe=True,\n",
    "                limb_branch_dict_restriction=two_downstream_limb_branch,\n",
    "               limbs_to_process=[neuron_obj_axon.axon_limb_name])\n"
   ]
  },
  {
   "cell_type": "code",
   "execution_count": 335,
   "metadata": {},
   "outputs": [
    {
     "name": "stdout",
     "output_type": "stream",
     "text": [
      "\n",
      " Working on visualization type: mesh\n",
      "\n",
      " Working on visualization type: skeleton\n"
     ]
    },
    {
     "data": {
      "application/vnd.jupyter.widget-view+json": {
       "model_id": "f7a1dddccd3b43b0afc8ed9371269f2a",
       "version_major": 2,
       "version_minor": 0
      },
      "text/plain": [
       "VBox(children=(Figure(camera=PerspectiveCamera(fov=46.0, position=(0.0, 0.0, 2.0), projectionMatrix=(1.0, 0.0,…"
      ]
     },
     "metadata": {},
     "output_type": "display_data"
    }
   ],
   "source": [
    "nviz.visualize_neuron(neuron_obj_axon,\n",
    "                     limb_branch_dict=dict(L0=[72,78,205,207]),\n",
    "                     mesh_whole_neuron=True)"
   ]
  },
  {
   "cell_type": "code",
   "execution_count": null,
   "metadata": {},
   "outputs": [],
   "source": []
  },
  {
   "cell_type": "code",
   "execution_count": 10,
   "metadata": {},
   "outputs": [
    {
     "name": "stdout",
     "output_type": "stream",
     "text": [
      "Synapsse Results:\n",
      "Total Number of Synapses = 1159\n",
      "n_valid_syn_ids_presyn = 84\n",
      "n_errored_syn_ids_presyn = 197\n",
      "n_valid_syn_ids_postsyn = 806\n",
      "n_errored_syn_ids_postsyn = 72\n"
     ]
    }
   ],
   "source": [
    "validation_df = vu.synapse_validation_df_single_neuron(segment_id,\n",
    "                                        remove_presyn_on_dendrite = False,\n",
    "                        count_presyn_on_dendrite_as_correct = True,\n",
    "                                                        include_extension_synapse=False)"
   ]
  },
  {
   "cell_type": "code",
   "execution_count": 11,
   "metadata": {},
   "outputs": [
    {
     "name": "stdout",
     "output_type": "stream",
     "text": [
      "Color key: {'TP_color': 'yellow', 'TN_color': 'aqua', 'FP_color': 'black', 'FN_color': 'orange'}\n",
      "Using precomputed synapse dict\n",
      "No axon skeleton attribute stored in database table\n"
     ]
    },
    {
     "data": {
      "application/vnd.jupyter.widget-view+json": {
       "model_id": "44f0977fe6eb4f3c8a8d8ca1958b9433",
       "version_major": 2,
       "version_minor": 0
      },
      "text/plain": [
       "VBox(children=(Figure(camera=PerspectiveCamera(fov=46.0, position=(0.0, 0.0, 2.0), projectionMatrix=(1.0, 0.0,…"
      ]
     },
     "metadata": {},
     "output_type": "display_data"
    }
   ],
   "source": [
    "vu.plot_validation_synapses(segment_id,\n",
    "                           validation_df=validation_df,\n",
    "                           synapse_scatter_size = 0.08)"
   ]
  },
  {
   "cell_type": "code",
   "execution_count": 13,
   "metadata": {},
   "outputs": [
    {
     "data": {
      "text/plain": [
       "'L0'"
      ]
     },
     "execution_count": 13,
     "metadata": {},
     "output_type": "execute_result"
    }
   ],
   "source": [
    "neuron_obj.axon_limb_name"
   ]
  },
  {
   "cell_type": "code",
   "execution_count": 16,
   "metadata": {},
   "outputs": [
    {
     "data": {
      "text/plain": [
       "(864691135462463389, 864691136105498585)"
      ]
     },
     "execution_count": 16,
     "metadata": {},
     "output_type": "execute_result"
    }
   ],
   "source": [
    "vu.old_to_new_segment_id(neuron_obj.segment_id),neuron_obj.segment_id"
   ]
  },
  {
   "cell_type": "code",
   "execution_count": 14,
   "metadata": {},
   "outputs": [
    {
     "name": "stdout",
     "output_type": "stream",
     "text": [
      "\n",
      " Working on visualization type: mesh\n",
      "\n",
      " Working on visualization type: skeleton\n"
     ]
    },
    {
     "data": {
      "application/vnd.jupyter.widget-view+json": {
       "model_id": "1661039c39da46bf86320ac952a02692",
       "version_major": 2,
       "version_minor": 0
      },
      "text/plain": [
       "VBox(children=(Figure(camera=PerspectiveCamera(fov=46.0, position=(0.0, 0.0, 2.0), projectionMatrix=(1.0, 0.0,…"
      ]
     },
     "metadata": {},
     "output_type": "display_data"
    }
   ],
   "source": [
    "ret_col = nviz.visualize_neuron(neuron_obj,\n",
    "                     limb_branch_dict=dict(L0=\"all\"),\n",
    "                     return_color_dict=True)"
   ]
  },
  {
   "cell_type": "code",
   "execution_count": 17,
   "metadata": {},
   "outputs": [
    {
     "data": {
      "text/plain": [
       "<trimesh.Trimesh(vertices.shape=(520639, 3), faces.shape=(1063820, 3))>"
      ]
     },
     "execution_count": 17,
     "metadata": {},
     "output_type": "execute_result"
    }
   ],
   "source": [
    "new_mesh = du.fetch_segment_id_mesh(864691135462463389)\n",
    "new_mesh"
   ]
  },
  {
   "cell_type": "code",
   "execution_count": 18,
   "metadata": {},
   "outputs": [],
   "source": [
    "nviz.plot_objects(meshes=[new_mesh],\n",
    "                 meshes_colors=\"lime\",\n",
    "                  mesh_alpha=1,\n",
    "                 append_figure=True,\n",
    "                 show_at_end=False)"
   ]
  },
  {
   "cell_type": "code",
   "execution_count": 20,
   "metadata": {},
   "outputs": [
    {
     "data": {
      "text/html": [
       "\n",
       "        \n",
       "        <style type=\"text/css\">\n",
       "            .Relation{\n",
       "                border-collapse:collapse;\n",
       "            }\n",
       "            .Relation th{\n",
       "                background: #A0A0A0; color: #ffffff; padding:4px; border:#f0e0e0 1px solid;\n",
       "                font-weight: normal; font-family: monospace; font-size: 100%;\n",
       "            }\n",
       "            .Relation td{\n",
       "                padding:4px; border:#f0e0e0 1px solid; font-size:100%;\n",
       "            }\n",
       "            .Relation tr:nth-child(odd){\n",
       "                background: #ffffff;\n",
       "            }\n",
       "            .Relation tr:nth-child(even){\n",
       "                background: #f3f1ff;\n",
       "            }\n",
       "            /* Tooltip container */\n",
       "            .djtooltip {\n",
       "            }\n",
       "            /* Tooltip text */\n",
       "            .djtooltip .djtooltiptext {\n",
       "                visibility: hidden;\n",
       "                width: 120px;\n",
       "                background-color: black;\n",
       "                color: #fff;\n",
       "                text-align: center;\n",
       "                padding: 5px 0;\n",
       "                border-radius: 6px;\n",
       "                /* Position the tooltip text - see examples below! */\n",
       "                position: absolute;\n",
       "                z-index: 1;\n",
       "            }\n",
       "            #primary {\n",
       "                font-weight: bold;\n",
       "                color: black;\n",
       "            }\n",
       "\n",
       "            #nonprimary {\n",
       "                font-weight: normal;\n",
       "                color: white;\n",
       "            }\n",
       "\n",
       "            /* Show the tooltip text when you mouse over the tooltip container */\n",
       "            .djtooltip:hover .djtooltiptext {\n",
       "                visibility: visible;\n",
       "            }\n",
       "        </style>\n",
       "        \n",
       "        <b></b>\n",
       "            <div style=\"max-height:1000px;max-width:1500px;overflow:auto;\">\n",
       "            <table border=\"1\" class=\"Relation\">\n",
       "                <thead> <tr style=\"text-align: right;\"> <th> <div class=\"djtooltip\">\n",
       "                                <p id=\"primary\">segment_id</p>\n",
       "                                <span class=\"djtooltiptext\">segment id unique within each Segmentation</span>\n",
       "                            </div></th><th><div class=\"djtooltip\">\n",
       "                                <p id=\"primary\">decimation_version</p>\n",
       "                                <span class=\"djtooltiptext\"></span>\n",
       "                            </div></th><th><div class=\"djtooltip\">\n",
       "                                <p id=\"primary\">decimation_ratio</p>\n",
       "                                <span class=\"djtooltiptext\">ratio of remaining mesh vertices/faces (which ones depends on what metric the decimation technique uses)</span>\n",
       "                            </div></th><th><div class=\"djtooltip\">\n",
       "                                <p id=\"primary\">ver</p>\n",
       "                                <span class=\"djtooltiptext\">the version number of the materializaiton</span>\n",
       "                            </div></th><th><div class=\"djtooltip\">\n",
       "                                <p id=\"primary\">process_version</p>\n",
       "                                <span class=\"djtooltiptext\">the version of the preprocessing pipeline run</span>\n",
       "                            </div></th><th><div class=\"djtooltip\">\n",
       "                                <p id=\"primary\">index</p>\n",
       "                                <span class=\"djtooltiptext\">the index of the neuron object that resulted from that mesh (indexed starting at 0)</span>\n",
       "                            </div></th><th><div class=\"djtooltip\">\n",
       "                                <p id=\"primary\">split_index</p>\n",
       "                                <span class=\"djtooltiptext\">the index of the neuron object that resulted AFTER THE SPLITTING ALGORITHM</span>\n",
       "                            </div></th><th><div class=\"djtooltip\">\n",
       "                                <p id=\"primary\">proof_version</p>\n",
       "                                <span class=\"djtooltiptext\">the version of code used for this cell typing classification</span>\n",
       "                            </div></th><th><div class=\"djtooltip\">\n",
       "                                <p id=\"primary\">axon_version</p>\n",
       "                                <span class=\"djtooltiptext\"></span>\n",
       "                            </div></th><th><div class=\"djtooltip\">\n",
       "                                <p id=\"primary\">parent_idx</p>\n",
       "                                <span class=\"djtooltiptext\"></span>\n",
       "                            </div></th><th><div class=\"djtooltip\">\n",
       "                                <p id=\"nonprimary\">n_downstream</p>\n",
       "                                <span class=\"djtooltiptext\"></span>\n",
       "                            </div></th><th><div class=\"djtooltip\">\n",
       "                                <p id=\"nonprimary\">web_size_faces</p>\n",
       "                                <span class=\"djtooltiptext\"></span>\n",
       "                            </div></th><th><div class=\"djtooltip\">\n",
       "                                <p id=\"nonprimary\">web_size_volume</p>\n",
       "                                <span class=\"djtooltiptext\"></span>\n",
       "                            </div></th><th><div class=\"djtooltip\">\n",
       "                                <p id=\"nonprimary\">web_size_skeleton</p>\n",
       "                                <span class=\"djtooltiptext\"></span>\n",
       "                            </div></th><th><div class=\"djtooltip\">\n",
       "                                <p id=\"nonprimary\">web_size_ray_trace_percentile</p>\n",
       "                                <span class=\"djtooltiptext\"></span>\n",
       "                            </div></th><th><div class=\"djtooltip\">\n",
       "                                <p id=\"nonprimary\">web_bbox_ratios_max</p>\n",
       "                                <span class=\"djtooltiptext\"></span>\n",
       "                            </div></th><th><div class=\"djtooltip\">\n",
       "                                <p id=\"nonprimary\">web_bbox_ratios_min</p>\n",
       "                                <span class=\"djtooltiptext\"></span>\n",
       "                            </div></th><th><div class=\"djtooltip\">\n",
       "                                <p id=\"nonprimary\">web_volume_ratio</p>\n",
       "                                <span class=\"djtooltiptext\"></span>\n",
       "                            </div></th><th><div class=\"djtooltip\">\n",
       "                                <p id=\"nonprimary\">web_cdf</p>\n",
       "                                <span class=\"djtooltiptext\"></span>\n",
       "                            </div></th><th><div class=\"djtooltip\">\n",
       "                                <p id=\"nonprimary\">parent_n_large_boutons</p>\n",
       "                                <span class=\"djtooltiptext\"></span>\n",
       "                            </div></th><th><div class=\"djtooltip\">\n",
       "                                <p id=\"nonprimary\">parent_n_boutons</p>\n",
       "                                <span class=\"djtooltiptext\"></span>\n",
       "                            </div></th><th><div class=\"djtooltip\">\n",
       "                                <p id=\"nonprimary\">parent_no_bouton_median</p>\n",
       "                                <span class=\"djtooltiptext\"></span>\n",
       "                            </div></th><th><div class=\"djtooltip\">\n",
       "                                <p id=\"nonprimary\">parent_no_spine_median_mesh_center</p>\n",
       "                                <span class=\"djtooltiptext\"></span>\n",
       "                            </div></th><th><div class=\"djtooltip\">\n",
       "                                <p id=\"nonprimary\">child_no_bouton_median_min</p>\n",
       "                                <span class=\"djtooltiptext\"></span>\n",
       "                            </div></th><th><div class=\"djtooltip\">\n",
       "                                <p id=\"nonprimary\">child_no_bouton_median_diff_min</p>\n",
       "                                <span class=\"djtooltiptext\"></span>\n",
       "                            </div></th><th><div class=\"djtooltip\">\n",
       "                                <p id=\"nonprimary\">child_no_spine_median_mesh_center_min</p>\n",
       "                                <span class=\"djtooltiptext\"></span>\n",
       "                            </div></th><th><div class=\"djtooltip\">\n",
       "                                <p id=\"nonprimary\">child_no_spine_median_mesh_center_diff_min</p>\n",
       "                                <span class=\"djtooltiptext\"></span>\n",
       "                            </div></th><th><div class=\"djtooltip\">\n",
       "                                <p id=\"nonprimary\">child_angle_min</p>\n",
       "                                <span class=\"djtooltiptext\"></span>\n",
       "                            </div></th><th><div class=\"djtooltip\">\n",
       "                                <p id=\"nonprimary\">child_n_boutons_min</p>\n",
       "                                <span class=\"djtooltiptext\"></span>\n",
       "                            </div></th><th><div class=\"djtooltip\">\n",
       "                                <p id=\"nonprimary\">child_n_large_boutons_min</p>\n",
       "                                <span class=\"djtooltiptext\"></span>\n",
       "                            </div></th><th><div class=\"djtooltip\">\n",
       "                                <p id=\"nonprimary\">child_no_bouton_median_max</p>\n",
       "                                <span class=\"djtooltiptext\"></span>\n",
       "                            </div></th><th><div class=\"djtooltip\">\n",
       "                                <p id=\"nonprimary\">child_no_bouton_median_diff_max</p>\n",
       "                                <span class=\"djtooltiptext\"></span>\n",
       "                            </div></th><th><div class=\"djtooltip\">\n",
       "                                <p id=\"nonprimary\">child_no_spine_median_mesh_center_max</p>\n",
       "                                <span class=\"djtooltiptext\"></span>\n",
       "                            </div></th><th><div class=\"djtooltip\">\n",
       "                                <p id=\"nonprimary\">child_no_spine_median_mesh_center_diff_max</p>\n",
       "                                <span class=\"djtooltiptext\"></span>\n",
       "                            </div></th><th><div class=\"djtooltip\">\n",
       "                                <p id=\"nonprimary\">child_angle_max</p>\n",
       "                                <span class=\"djtooltiptext\"></span>\n",
       "                            </div></th><th><div class=\"djtooltip\">\n",
       "                                <p id=\"nonprimary\">child_n_boutons_max</p>\n",
       "                                <span class=\"djtooltiptext\"></span>\n",
       "                            </div></th><th><div class=\"djtooltip\">\n",
       "                                <p id=\"nonprimary\">child_n_large_boutons_max</p>\n",
       "                                <span class=\"djtooltiptext\"></span>\n",
       "                            </div></th><th><div class=\"djtooltip\">\n",
       "                                <p id=\"nonprimary\">sibling_angles_min</p>\n",
       "                                <span class=\"djtooltiptext\"></span>\n",
       "                            </div></th><th><div class=\"djtooltip\">\n",
       "                                <p id=\"nonprimary\">sibling_angles_max</p>\n",
       "                                <span class=\"djtooltiptext\"></span>\n",
       "                            </div></th><th><div class=\"djtooltip\">\n",
       "                                <p id=\"nonprimary\">label</p>\n",
       "                                <span class=\"djtooltiptext\"></span>\n",
       "                            </div> </th> </tr> </thead>\n",
       "                <tbody> <tr> <td>864691136105498585</td>\n",
       "<td>0</td>\n",
       "<td>0.25</td>\n",
       "<td>30.00</td>\n",
       "<td>5</td>\n",
       "<td>0</td>\n",
       "<td>0</td>\n",
       "<td>3</td>\n",
       "<td>0</td>\n",
       "<td>80</td>\n",
       "<td>2</td>\n",
       "<td>178</td>\n",
       "<td>66206869.784993485</td>\n",
       "<td>945.005752076261</td>\n",
       "<td>343.0152114835352</td>\n",
       "<td>1.6091866634899104</td>\n",
       "<td>1.239197776428573</td>\n",
       "<td>2.0900791143141895</td>\n",
       "<td>0.7343095</td>\n",
       "<td>2</td>\n",
       "<td>8</td>\n",
       "<td>63.10743984202443</td>\n",
       "<td>72.71970293333928</td>\n",
       "<td>49.8785301229612</td>\n",
       "<td>-13.228909719063225</td>\n",
       "<td>57.39701492645298</td>\n",
       "<td>-15.322688006886295</td>\n",
       "<td>18.97</td>\n",
       "<td>0</td>\n",
       "<td>0</td>\n",
       "<td>49.8785301229612</td>\n",
       "<td>-13.228909719063225</td>\n",
       "<td>57.39701492645298</td>\n",
       "<td>-15.322688006886295</td>\n",
       "<td>71.52</td>\n",
       "<td>4</td>\n",
       "<td>1</td>\n",
       "<td>85.23</td>\n",
       "<td>85.23</td>\n",
       "<td>invalid</td></tr><tr><td>864691136105498585</td>\n",
       "<td>0</td>\n",
       "<td>0.25</td>\n",
       "<td>30.00</td>\n",
       "<td>5</td>\n",
       "<td>0</td>\n",
       "<td>0</td>\n",
       "<td>3</td>\n",
       "<td>0</td>\n",
       "<td>88</td>\n",
       "<td>2</td>\n",
       "<td>54</td>\n",
       "<td>32829402.11883545</td>\n",
       "<td>942.8169575388165</td>\n",
       "<td>204.99981659419694</td>\n",
       "<td>1.6244142784482813</td>\n",
       "<td>1.1125562626728347</td>\n",
       "<td>2.6295692374891835</td>\n",
       "<td>0.405677</td>\n",
       "<td>1</td>\n",
       "<td>5</td>\n",
       "<td>73.48881782440169</td>\n",
       "<td>77.82065580139377</td>\n",
       "<td>66.43813315310564</td>\n",
       "<td>-7.050684671296054</td>\n",
       "<td>68.98125629633374</td>\n",
       "<td>-8.83939950506003</td>\n",
       "<td>22.17</td>\n",
       "<td>0</td>\n",
       "<td>0</td>\n",
       "<td>66.43813315310564</td>\n",
       "<td>-7.050684671296054</td>\n",
       "<td>68.98125629633374</td>\n",
       "<td>-8.83939950506003</td>\n",
       "<td>125.81</td>\n",
       "<td>5</td>\n",
       "<td>2</td>\n",
       "<td>136.45</td>\n",
       "<td>136.45</td>\n",
       "<td>invalid</td> </tr> </tbody>\n",
       "            </table>\n",
       "            \n",
       "            <p>Total: 2</p></div>\n",
       "            "
      ],
      "text/plain": [
       "*segment_id    *decimation_ve *decimation_ra *ver      *process_versi *index    *split_index   *proof_version *axon_version  *parent_idx    n_downstream   web_size_faces web_size_volum web_size_skele web_size_ray_t web_bbox_ratio web_bbox_ratio web_volume_rat web_cdf       parent_n_large parent_n_bouto parent_no_bout parent_no_spin child_no_bouto child_no_bouto child_no_spine child_no_spine child_angle_mi child_n_bouton child_n_large_ child_no_bouto child_no_bouto child_no_spine child_no_spine child_angle_ma child_n_bouton child_n_large_ sibling_angles sibling_angles label      \n",
       "+------------+ +------------+ +------------+ +-------+ +------------+ +-------+ +------------+ +------------+ +------------+ +------------+ +------------+ +------------+ +------------+ +------------+ +------------+ +------------+ +------------+ +------------+ +-----------+ +------------+ +------------+ +------------+ +------------+ +------------+ +------------+ +------------+ +------------+ +------------+ +------------+ +------------+ +------------+ +------------+ +------------+ +------------+ +------------+ +------------+ +------------+ +------------+ +------------+ +---------+\n",
       "86469113610549 0              0.25           30.00     5              0         0              3              0              80             2              178            66206869.78499 945.0057520762 343.0152114835 1.609186663489 1.239197776428 2.090079114314 0.7343095     2              8              63.10743984202 72.71970293333 49.87853012296 -13.2289097190 57.39701492645 -15.3226880068 18.97          0              0              49.87853012296 -13.2289097190 57.39701492645 -15.3226880068 71.52          4              1              85.23          85.23          invalid    \n",
       "86469113610549 0              0.25           30.00     5              0         0              3              0              88             2              54             32829402.11883 942.8169575388 204.9998165941 1.624414278448 1.112556262672 2.629569237489 0.405677      1              5              73.48881782440 77.82065580139 66.43813315310 -7.05068467129 68.98125629633 -8.83939950506 22.17          0              0              66.43813315310 -7.05068467129 68.98125629633 -8.83939950506 125.81         5              2              136.45         136.45         invalid    \n",
       " (Total: 2)"
      ]
     },
     "execution_count": 20,
     "metadata": {},
     "output_type": "execute_result"
    }
   ],
   "source": [
    "minnie.AutoProofreadValidationBorder() & dict(segment_id=segment_id,label=\"invalid\")"
   ]
  },
  {
   "cell_type": "code",
   "execution_count": 22,
   "metadata": {},
   "outputs": [
    {
     "name": "stdout",
     "output_type": "stream",
     "text": [
      "\n",
      " Working on visualization type: mesh\n",
      "\n",
      " Working on visualization type: skeleton\n"
     ]
    },
    {
     "data": {
      "application/vnd.jupyter.widget-view+json": {
       "model_id": "531b006ede2646a890d6b649fd7ab032",
       "version_major": 2,
       "version_minor": 0
      },
      "text/plain": [
       "VBox(children=(Figure(camera=PerspectiveCamera(fov=46.0, position=(0.0, 0.0, 2.0), projectionMatrix=(1.0, 0.0,…"
      ]
     },
     "metadata": {},
     "output_type": "display_data"
    }
   ],
   "source": [
    "error_branches = [80,88]\n",
    "nviz.visualize_neuron(neuron_obj,\n",
    "                      visualize_type=[\"mesh\",\"skeleton\"],\n",
    "                     limb_branch_dict=dict(L0=error_branches),\n",
    "                      mesh_color=\"red\",\n",
    "                      mesh_color_alpha=1,\n",
    "                      skeleton_color=\"red\",\n",
    "                      skeleton_color_alpha=1,\n",
    "                     mesh_whole_neuron=True,\n",
    "                     skeleton_whole_neuron=True,\n",
    "                     )"
   ]
  },
  {
   "cell_type": "code",
   "execution_count": 24,
   "metadata": {},
   "outputs": [
    {
     "data": {
      "application/vnd.jupyter.widget-view+json": {
       "model_id": "432ce524392c4668ac476dd7fc701d21",
       "version_major": 2,
       "version_minor": 0
      },
      "text/plain": [
       "VBox(children=(Figure(camera=PerspectiveCamera(fov=46.0, position=(0.0, 0.0, 2.0), projectionMatrix=(1.0, 0.0,…"
      ]
     },
     "metadata": {},
     "output_type": "display_data"
    }
   ],
   "source": [
    "nviz.plot_objects(meshes=neuron_obj.non_soma_touching_meshes)"
   ]
  },
  {
   "cell_type": "code",
   "execution_count": null,
   "metadata": {},
   "outputs": [],
   "source": []
  }
 ],
 "metadata": {
  "kernelspec": {
   "display_name": "Python 3",
   "language": "python",
   "name": "python3"
  },
  "language_info": {
   "codemirror_mode": {
    "name": "ipython",
    "version": 3
   },
   "file_extension": ".py",
   "mimetype": "text/x-python",
   "name": "python",
   "nbconvert_exporter": "python",
   "pygments_lexer": "ipython3",
   "version": "3.6.9"
  }
 },
 "nbformat": 4,
 "nbformat_minor": 4
}
