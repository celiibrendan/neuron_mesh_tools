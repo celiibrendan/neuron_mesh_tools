{
 "cells": [
  {
   "cell_type": "code",
   "execution_count": null,
   "metadata": {},
   "outputs": [],
   "source": [
    "\"\"\"\n",
    "Purpose: To put all of the rules together\n",
    "to autoatically proofread a cell\n",
    "\n",
    "\n",
    "\"\"\""
   ]
  },
  {
   "cell_type": "code",
   "execution_count": 1,
   "metadata": {},
   "outputs": [],
   "source": [
    "%load_ext autoreload\n",
    "%autoreload 2"
   ]
  },
  {
   "cell_type": "code",
   "execution_count": 2,
   "metadata": {},
   "outputs": [],
   "source": [
    "from os import sys\n",
    "sys.path.append(\"/meshAfterParty/\")"
   ]
  },
  {
   "cell_type": "code",
   "execution_count": 3,
   "metadata": {},
   "outputs": [
    {
     "name": "stderr",
     "output_type": "stream",
     "text": [
      "INFO - 2021-02-02 19:01:28,860 - settings - Setting database.host to at-database.ad.bcm.edu\n",
      "INFO - 2021-02-02 19:01:28,862 - settings - Setting database.user to celiib\n",
      "INFO - 2021-02-02 19:01:28,862 - settings - Setting database.password to newceliipass\n",
      "INFO - 2021-02-02 19:01:28,874 - settings - Setting stores to {'minnie65': {'protocol': 'file', 'location': '/mnt/dj-stor01/platinum/minnie65', 'stage': '/mnt/dj-stor01/platinum/minnie65'}, 'meshes': {'protocol': 'file', 'location': '/mnt/dj-stor01/platinum/minnie65/02/meshes', 'stage': '/mnt/dj-stor01/platinum/minnie65/02/meshes'}, 'decimated_meshes': {'protocol': 'file', 'location': '/mnt/dj-stor01/platinum/minnie65/02/decimated_meshes', 'stage': '/mnt/dj-stor01/platinum/minnie65/02/decimated_meshes'}, 'skeletons': {'protocol': 'file', 'location': '/mnt/dj-stor01/platinum/minnie65/02/skeletons'}}\n",
      "INFO - 2021-02-02 19:01:28,875 - settings - Setting enable_python_native_blobs to True\n",
      "INFO - 2021-02-02 19:01:28,889 - connection - Connected celiib@at-database.ad.bcm.edu:3306\n"
     ]
    },
    {
     "name": "stdout",
     "output_type": "stream",
     "text": [
      "Connecting celiib@at-database.ad.bcm.edu:3306\n"
     ]
    },
    {
     "name": "stderr",
     "output_type": "stream",
     "text": [
      "INFO - 2021-02-02 19:01:29,173 - settings - Setting enable_python_native_blobs to True\n"
     ]
    }
   ],
   "source": [
    "from importlib import reload\n",
    "\n",
    "import neuron_utils as nru\n",
    "\n",
    "import neuron\n",
    "\n",
    "import neuron_visualizations as nviz\n",
    "\n",
    "import time\n",
    "\n",
    "import datajoint_utils as du\n",
    "\n",
    "import numpy as np\n",
    "\n",
    "import proofreading_utils as pru\n",
    "\n",
    "import preprocessing_vp2 as pre\n",
    "\n",
    "# -- For the axon classification --\n",
    "\n",
    "import neuron_searching as ns\n",
    "\n",
    "import skeleton_utils as sk\n",
    "\n",
    "import numpy_utils as nu\n",
    "\n",
    "import networkx_utils as xu\n",
    "\n",
    "import system_utils as su\n",
    "\n",
    "import classification_utils as clu\n",
    "import proofreading_utils as pru"
   ]
  },
  {
   "cell_type": "code",
   "execution_count": 4,
   "metadata": {},
   "outputs": [
    {
     "name": "stderr",
     "output_type": "stream",
     "text": [
      "INFO - 2021-02-02 19:01:53,711 - settings - Setting enable_python_native_blobs to True\n",
      "INFO - 2021-02-02 19:01:53,989 - settings - Setting enable_python_native_blobs to True\n"
     ]
    }
   ],
   "source": [
    "minnie,schema = du.configure_minnie_vm()"
   ]
  },
  {
   "cell_type": "markdown",
   "metadata": {},
   "source": [
    "# Importing the Neuron"
   ]
  },
  {
   "cell_type": "code",
   "execution_count": 11,
   "metadata": {},
   "outputs": [
    {
     "data": {
      "text/html": [
       "\n",
       "        \n",
       "        <style type=\"text/css\">\n",
       "            .Relation{\n",
       "                border-collapse:collapse;\n",
       "            }\n",
       "            .Relation th{\n",
       "                background: #A0A0A0; color: #ffffff; padding:4px; border:#f0e0e0 1px solid;\n",
       "                font-weight: normal; font-family: monospace; font-size: 100%;\n",
       "            }\n",
       "            .Relation td{\n",
       "                padding:4px; border:#f0e0e0 1px solid; font-size:100%;\n",
       "            }\n",
       "            .Relation tr:nth-child(odd){\n",
       "                background: #ffffff;\n",
       "            }\n",
       "            .Relation tr:nth-child(even){\n",
       "                background: #f3f1ff;\n",
       "            }\n",
       "            /* Tooltip container */\n",
       "            .djtooltip {\n",
       "            }\n",
       "            /* Tooltip text */\n",
       "            .djtooltip .djtooltiptext {\n",
       "                visibility: hidden;\n",
       "                width: 120px;\n",
       "                background-color: black;\n",
       "                color: #fff;\n",
       "                text-align: center;\n",
       "                padding: 5px 0;\n",
       "                border-radius: 6px;\n",
       "                /* Position the tooltip text - see examples below! */\n",
       "                position: absolute;\n",
       "                z-index: 1;\n",
       "            }\n",
       "            #primary {\n",
       "                font-weight: bold;\n",
       "                color: black;\n",
       "            }\n",
       "\n",
       "            #nonprimary {\n",
       "                font-weight: normal;\n",
       "                color: white;\n",
       "            }\n",
       "\n",
       "            /* Show the tooltip text when you mouse over the tooltip container */\n",
       "            .djtooltip:hover .djtooltiptext {\n",
       "                visibility: visible;\n",
       "            }\n",
       "        </style>\n",
       "        \n",
       "        <b></b>\n",
       "            <div style=\"max-height:1000px;max-width:1500px;overflow:auto;\">\n",
       "            <table border=\"1\" class=\"Relation\">\n",
       "                <thead> <tr style=\"text-align: right;\"> <th> <div class=\"djtooltip\">\n",
       "                                <p id=\"primary\">segment_id</p>\n",
       "                                <span class=\"djtooltiptext\">segment id unique within each Segmentation</span>\n",
       "                            </div></th><th><div class=\"djtooltip\">\n",
       "                                <p id=\"primary\">decimation_version</p>\n",
       "                                <span class=\"djtooltiptext\"></span>\n",
       "                            </div></th><th><div class=\"djtooltip\">\n",
       "                                <p id=\"primary\">decimation_ratio</p>\n",
       "                                <span class=\"djtooltiptext\">ratio of remaining mesh vertices/faces (which ones depends on what metric the decimation technique uses)</span>\n",
       "                            </div></th><th><div class=\"djtooltip\">\n",
       "                                <p id=\"primary\">ver</p>\n",
       "                                <span class=\"djtooltiptext\">the version number of the materializaiton</span>\n",
       "                            </div></th><th><div class=\"djtooltip\">\n",
       "                                <p id=\"primary\">process_version</p>\n",
       "                                <span class=\"djtooltiptext\">the version of the preprocessing pipeline run</span>\n",
       "                            </div></th><th><div class=\"djtooltip\">\n",
       "                                <p id=\"primary\">index</p>\n",
       "                                <span class=\"djtooltiptext\">the index of the neuron object that resulted from that mesh (indexed starting at 0)</span>\n",
       "                            </div></th><th><div class=\"djtooltip\">\n",
       "                                <p id=\"nonprimary\">multiplicity</p>\n",
       "                                <span class=\"djtooltiptext\">the number of somas found for this base segment</span>\n",
       "                            </div></th><th><div class=\"djtooltip\">\n",
       "                                <p id=\"nonprimary\">decomposition</p>\n",
       "                                <span class=\"djtooltiptext\"></span>\n",
       "                            </div></th><th><div class=\"djtooltip\">\n",
       "                                <p id=\"nonprimary\">n_vertices</p>\n",
       "                                <span class=\"djtooltiptext\">number of vertices</span>\n",
       "                            </div></th><th><div class=\"djtooltip\">\n",
       "                                <p id=\"nonprimary\">n_faces</p>\n",
       "                                <span class=\"djtooltiptext\">number of faces</span>\n",
       "                            </div></th><th><div class=\"djtooltip\">\n",
       "                                <p id=\"nonprimary\">n_not_processed_soma_containing_meshes</p>\n",
       "                                <span class=\"djtooltiptext\">the number of meshes with somas that were not processed</span>\n",
       "                            </div></th><th><div class=\"djtooltip\">\n",
       "                                <p id=\"nonprimary\">n_error_limbs</p>\n",
       "                                <span class=\"djtooltiptext\">the number of limbs that are touching multiple somas or 1 soma in multiple places</span>\n",
       "                            </div></th><th><div class=\"djtooltip\">\n",
       "                                <p id=\"nonprimary\">n_same_soma_multi_touching_limbs</p>\n",
       "                                <span class=\"djtooltiptext\">number of limbs that touch the same soma multiple times</span>\n",
       "                            </div></th><th><div class=\"djtooltip\">\n",
       "                                <p id=\"nonprimary\">n_multi_soma_touching_limbs</p>\n",
       "                                <span class=\"djtooltiptext\">number of limbs that touch multiple somas</span>\n",
       "                            </div></th><th><div class=\"djtooltip\">\n",
       "                                <p id=\"nonprimary\">n_somas</p>\n",
       "                                <span class=\"djtooltiptext\">number of soma meshes detected</span>\n",
       "                            </div></th><th><div class=\"djtooltip\">\n",
       "                                <p id=\"nonprimary\">n_limbs</p>\n",
       "                                <span class=\"djtooltiptext\"></span>\n",
       "                            </div></th><th><div class=\"djtooltip\">\n",
       "                                <p id=\"nonprimary\">n_branches</p>\n",
       "                                <span class=\"djtooltiptext\"></span>\n",
       "                            </div></th><th><div class=\"djtooltip\">\n",
       "                                <p id=\"nonprimary\">max_limb_n_branches</p>\n",
       "                                <span class=\"djtooltiptext\"></span>\n",
       "                            </div></th><th><div class=\"djtooltip\">\n",
       "                                <p id=\"nonprimary\">skeletal_length</p>\n",
       "                                <span class=\"djtooltiptext\"></span>\n",
       "                            </div></th><th><div class=\"djtooltip\">\n",
       "                                <p id=\"nonprimary\">max_limb_skeletal_length</p>\n",
       "                                <span class=\"djtooltiptext\"></span>\n",
       "                            </div></th><th><div class=\"djtooltip\">\n",
       "                                <p id=\"nonprimary\">median_branch_length</p>\n",
       "                                <span class=\"djtooltiptext\">gives information on average skeletal length to next branch point</span>\n",
       "                            </div></th><th><div class=\"djtooltip\">\n",
       "                                <p id=\"nonprimary\">width_median</p>\n",
       "                                <span class=\"djtooltiptext\">median width from mesh center without spines removed</span>\n",
       "                            </div></th><th><div class=\"djtooltip\">\n",
       "                                <p id=\"nonprimary\">width_no_spine_median</p>\n",
       "                                <span class=\"djtooltiptext\">median width from mesh center with spines removed</span>\n",
       "                            </div></th><th><div class=\"djtooltip\">\n",
       "                                <p id=\"nonprimary\">width_90_perc</p>\n",
       "                                <span class=\"djtooltiptext\">90th percentile for width without spines removed</span>\n",
       "                            </div></th><th><div class=\"djtooltip\">\n",
       "                                <p id=\"nonprimary\">width_no_spine_90_perc</p>\n",
       "                                <span class=\"djtooltiptext\">90th percentile for width with spines removed</span>\n",
       "                            </div></th><th><div class=\"djtooltip\">\n",
       "                                <p id=\"nonprimary\">n_spines</p>\n",
       "                                <span class=\"djtooltiptext\"></span>\n",
       "                            </div></th><th><div class=\"djtooltip\">\n",
       "                                <p id=\"nonprimary\">spine_density</p>\n",
       "                                <span class=\"djtooltiptext\">n_spines/ skeletal_length</span>\n",
       "                            </div></th><th><div class=\"djtooltip\">\n",
       "                                <p id=\"nonprimary\">spines_per_branch</p>\n",
       "                                <span class=\"djtooltiptext\"></span>\n",
       "                            </div></th><th><div class=\"djtooltip\">\n",
       "                                <p id=\"nonprimary\">skeletal_length_eligible</p>\n",
       "                                <span class=\"djtooltiptext\">the skeletal length for all branches searched for spines</span>\n",
       "                            </div></th><th><div class=\"djtooltip\">\n",
       "                                <p id=\"nonprimary\">n_spine_eligible_branches</p>\n",
       "                                <span class=\"djtooltiptext\">the number of branches that were checked for spines because passed width threshold</span>\n",
       "                            </div></th><th><div class=\"djtooltip\">\n",
       "                                <p id=\"nonprimary\">spine_density_eligible</p>\n",
       "                                <span class=\"djtooltiptext\">n_spines/skeletal_length_eligible</span>\n",
       "                            </div></th><th><div class=\"djtooltip\">\n",
       "                                <p id=\"nonprimary\">spines_per_branch_eligible</p>\n",
       "                                <span class=\"djtooltiptext\">n_spines/n_spine_eligible_branches</span>\n",
       "                            </div></th><th><div class=\"djtooltip\">\n",
       "                                <p id=\"nonprimary\">total_spine_volume</p>\n",
       "                                <span class=\"djtooltiptext\">the sum of all spine volume</span>\n",
       "                            </div></th><th><div class=\"djtooltip\">\n",
       "                                <p id=\"nonprimary\">spine_volume_median</p>\n",
       "                                <span class=\"djtooltiptext\">median of the spine volume for those spines with able to calculate volume</span>\n",
       "                            </div></th><th><div class=\"djtooltip\">\n",
       "                                <p id=\"nonprimary\">spine_volume_density</p>\n",
       "                                <span class=\"djtooltiptext\">total_spine_volume/skeletal_length</span>\n",
       "                            </div></th><th><div class=\"djtooltip\">\n",
       "                                <p id=\"nonprimary\">spine_volume_density_eligible</p>\n",
       "                                <span class=\"djtooltiptext\">total_spine_volume/skeletal_length_eligible</span>\n",
       "                            </div></th><th><div class=\"djtooltip\">\n",
       "                                <p id=\"nonprimary\">spine_volume_per_branch_eligible</p>\n",
       "                                <span class=\"djtooltiptext\">total_spine_volume/n_spine_eligible_branches</span>\n",
       "                            </div></th><th><div class=\"djtooltip\">\n",
       "                                <p id=\"nonprimary\">run_time</p>\n",
       "                                <span class=\"djtooltiptext\">the amount of time to run (seconds)</span>\n",
       "                            </div> </th> </tr> </thead>\n",
       "                <tbody> <tr> <td>864691135012398582</td>\n",
       "<td>0</td>\n",
       "<td>0.25</td>\n",
       "<td>30.00</td>\n",
       "<td>4</td>\n",
       "<td>0</td>\n",
       "<td>1</td>\n",
       "<td>=BLOB=</td>\n",
       "<td>1376990</td>\n",
       "<td>2794781</td>\n",
       "<td>0</td>\n",
       "<td>3</td>\n",
       "<td>1</td>\n",
       "<td>3</td>\n",
       "<td>2</td>\n",
       "<td>7</td>\n",
       "<td>332</td>\n",
       "<td>193</td>\n",
       "<td>13857599.090995071</td>\n",
       "<td>7698499.767603829</td>\n",
       "<td>24782.936</td>\n",
       "<td>182.056</td>\n",
       "<td>175.907</td>\n",
       "<td>512.504</td>\n",
       "<td>498.037</td>\n",
       "<td>5073</td>\n",
       "<td>0.00036608073062934334</td>\n",
       "<td>15.28012048192771</td>\n",
       "<td>9021770.899</td>\n",
       "<td>184</td>\n",
       "<td>0.0005623064536655776</td>\n",
       "<td>27.571</td>\n",
       "<td>1130755898564.6187</td>\n",
       "<td>149139625.2549947</td>\n",
       "<td>81598.25458505328</td>\n",
       "<td>125336.35704382107</td>\n",
       "<td>6145412492.199015</td>\n",
       "<td>18888.6673</td></tr><tr><td>864691135012571126</td>\n",
       "<td>0</td>\n",
       "<td>0.25</td>\n",
       "<td>30.00</td>\n",
       "<td>4</td>\n",
       "<td>0</td>\n",
       "<td>1</td>\n",
       "<td>=BLOB=</td>\n",
       "<td>1405952</td>\n",
       "<td>2834699</td>\n",
       "<td>0</td>\n",
       "<td>5</td>\n",
       "<td>5</td>\n",
       "<td>0</td>\n",
       "<td>1</td>\n",
       "<td>9</td>\n",
       "<td>438</td>\n",
       "<td>190</td>\n",
       "<td>15005335.104019193</td>\n",
       "<td>5950109.147626077</td>\n",
       "<td>22518.656</td>\n",
       "<td>140.086</td>\n",
       "<td>140.086</td>\n",
       "<td>469.827</td>\n",
       "<td>405.969</td>\n",
       "<td>5271</td>\n",
       "<td>0.000351275060734109</td>\n",
       "<td>12.034246575342467</td>\n",
       "<td>9075502.16</td>\n",
       "<td>228</td>\n",
       "<td>0.0005807943083559357</td>\n",
       "<td>23.118</td>\n",
       "<td>1169557046930.9404</td>\n",
       "<td>149701410.7930819</td>\n",
       "<td>77942.74761765724</td>\n",
       "<td>128869.67864827663</td>\n",
       "<td>5129636170.749739</td>\n",
       "<td>18283.2209</td></tr><tr><td>864691135065018692</td>\n",
       "<td>0</td>\n",
       "<td>0.25</td>\n",
       "<td>30.00</td>\n",
       "<td>4</td>\n",
       "<td>0</td>\n",
       "<td>1</td>\n",
       "<td>=BLOB=</td>\n",
       "<td>927599</td>\n",
       "<td>1896021</td>\n",
       "<td>0</td>\n",
       "<td>2</td>\n",
       "<td>2</td>\n",
       "<td>1</td>\n",
       "<td>2</td>\n",
       "<td>19</td>\n",
       "<td>275</td>\n",
       "<td>62</td>\n",
       "<td>10134692.441118384</td>\n",
       "<td>2065744.7931319945</td>\n",
       "<td>17371.879</td>\n",
       "<td>110.248</td>\n",
       "<td>110.248</td>\n",
       "<td>544.807</td>\n",
       "<td>544.758</td>\n",
       "<td>1859</td>\n",
       "<td>0.0001834293453699376</td>\n",
       "<td>6.76</td>\n",
       "<td>5876271.812</td>\n",
       "<td>132</td>\n",
       "<td>0.00031635704737206256</td>\n",
       "<td>14.083</td>\n",
       "<td>333744826425.14685</td>\n",
       "<td>116071713.89832559</td>\n",
       "<td>32930.92793532444</td>\n",
       "<td>56795.33505301828</td>\n",
       "<td>2528369897.1602035</td>\n",
       "<td>13467.9901</td></tr><tr><td>864691135065032772</td>\n",
       "<td>0</td>\n",
       "<td>0.25</td>\n",
       "<td>30.00</td>\n",
       "<td>4</td>\n",
       "<td>0</td>\n",
       "<td>1</td>\n",
       "<td>=BLOB=</td>\n",
       "<td>1284918</td>\n",
       "<td>2610256</td>\n",
       "<td>0</td>\n",
       "<td>1</td>\n",
       "<td>0</td>\n",
       "<td>1</td>\n",
       "<td>3</td>\n",
       "<td>19</td>\n",
       "<td>339</td>\n",
       "<td>49</td>\n",
       "<td>12070580.98087547</td>\n",
       "<td>2067456.6676802342</td>\n",
       "<td>24476.944</td>\n",
       "<td>293.07</td>\n",
       "<td>258.608</td>\n",
       "<td>496.883</td>\n",
       "<td>455.767</td>\n",
       "<td>4680</td>\n",
       "<td>0.00038771953126489554</td>\n",
       "<td>13.805309734513274</td>\n",
       "<td>9141427.307</td>\n",
       "<td>231</td>\n",
       "<td>0.0005119550637805012</td>\n",
       "<td>20.26</td>\n",
       "<td>984274848135.3904</td>\n",
       "<td>134477821.95931625</td>\n",
       "<td>81543.28691343585</td>\n",
       "<td>107671.90013989249</td>\n",
       "<td>4260930078.5081835</td>\n",
       "<td>10872.3472</td></tr><tr><td>864691135210078912</td>\n",
       "<td>0</td>\n",
       "<td>0.25</td>\n",
       "<td>30.00</td>\n",
       "<td>4</td>\n",
       "<td>0</td>\n",
       "<td>1</td>\n",
       "<td>=BLOB=</td>\n",
       "<td>2254579</td>\n",
       "<td>4581171</td>\n",
       "<td>0</td>\n",
       "<td>1</td>\n",
       "<td>1</td>\n",
       "<td>1</td>\n",
       "<td>3</td>\n",
       "<td>19</td>\n",
       "<td>680</td>\n",
       "<td>410</td>\n",
       "<td>25709086.238637865</td>\n",
       "<td>14910186.433055326</td>\n",
       "<td>22806.349</td>\n",
       "<td>91.868</td>\n",
       "<td>91.868</td>\n",
       "<td>488.977</td>\n",
       "<td>396.491</td>\n",
       "<td>7956</td>\n",
       "<td>0.00030946257389899087</td>\n",
       "<td>11.7</td>\n",
       "<td>14370940.599</td>\n",
       "<td>305</td>\n",
       "<td>0.0005536172072518077</td>\n",
       "<td>26.085</td>\n",
       "<td>1530423053724.611</td>\n",
       "<td>123769896.05576578</td>\n",
       "<td>59528.48885871943</td>\n",
       "<td>106494.2856858726</td>\n",
       "<td>5017780504.015119</td>\n",
       "<td>21160.2523</td></tr><tr><td>864691135341171909</td>\n",
       "<td>0</td>\n",
       "<td>0.25</td>\n",
       "<td>30.00</td>\n",
       "<td>4</td>\n",
       "<td>0</td>\n",
       "<td>1</td>\n",
       "<td>=BLOB=</td>\n",
       "<td>822316</td>\n",
       "<td>1638121</td>\n",
       "<td>0</td>\n",
       "<td>2</td>\n",
       "<td>2</td>\n",
       "<td>0</td>\n",
       "<td>1</td>\n",
       "<td>11</td>\n",
       "<td>199</td>\n",
       "<td>68</td>\n",
       "<td>9450347.657808917</td>\n",
       "<td>3250054.207938929</td>\n",
       "<td>29478.786</td>\n",
       "<td>237.546</td>\n",
       "<td>234.385</td>\n",
       "<td>470.636</td>\n",
       "<td>441.647</td>\n",
       "<td>2045</td>\n",
       "<td>0.00021639415543725485</td>\n",
       "<td>10.27638190954774</td>\n",
       "<td>7043457.152</td>\n",
       "<td>132</td>\n",
       "<td>0.00029034037630502505</td>\n",
       "<td>15.492</td>\n",
       "<td>324097367203.97284</td>\n",
       "<td>96991868.0799891</td>\n",
       "<td>34294.75601737974</td>\n",
       "<td>46013.961639838315</td>\n",
       "<td>2455283084.878582</td>\n",
       "<td>3309.9726</td></tr><tr><td>864691135345134239</td>\n",
       "<td>0</td>\n",
       "<td>0.25</td>\n",
       "<td>30.00</td>\n",
       "<td>4</td>\n",
       "<td>0</td>\n",
       "<td>1</td>\n",
       "<td>=BLOB=</td>\n",
       "<td>1300713</td>\n",
       "<td>2608916</td>\n",
       "<td>0</td>\n",
       "<td>1</td>\n",
       "<td>1</td>\n",
       "<td>0</td>\n",
       "<td>1</td>\n",
       "<td>7</td>\n",
       "<td>240</td>\n",
       "<td>90</td>\n",
       "<td>8832184.414140496</td>\n",
       "<td>2928317.149123956</td>\n",
       "<td>24303.97</td>\n",
       "<td>272.663</td>\n",
       "<td>252.338</td>\n",
       "<td>501.784</td>\n",
       "<td>443.997</td>\n",
       "<td>2960</td>\n",
       "<td>0.0003351379297811064</td>\n",
       "<td>12.333333333333334</td>\n",
       "<td>5967445.428</td>\n",
       "<td>155</td>\n",
       "<td>0.0004960246450032554</td>\n",
       "<td>19.097</td>\n",
       "<td>735869389721.0487</td>\n",
       "<td>160684713.825517</td>\n",
       "<td>83316.80535824271</td>\n",
       "<td>123313.97054227885</td>\n",
       "<td>4747544449.813217</td>\n",
       "<td>15212.2355</td></tr><tr><td>864691135345274271</td>\n",
       "<td>0</td>\n",
       "<td>0.25</td>\n",
       "<td>30.00</td>\n",
       "<td>4</td>\n",
       "<td>0</td>\n",
       "<td>1</td>\n",
       "<td>=BLOB=</td>\n",
       "<td>2309163</td>\n",
       "<td>4637079</td>\n",
       "<td>0</td>\n",
       "<td>3</td>\n",
       "<td>3</td>\n",
       "<td>1</td>\n",
       "<td>3</td>\n",
       "<td>23</td>\n",
       "<td>568</td>\n",
       "<td>232</td>\n",
       "<td>20083889.41475576</td>\n",
       "<td>7902329.442060159</td>\n",
       "<td>19837.799</td>\n",
       "<td>307.913</td>\n",
       "<td>275.329</td>\n",
       "<td>552.594</td>\n",
       "<td>537.217</td>\n",
       "<td>6717</td>\n",
       "<td>0.00033444717112737023</td>\n",
       "<td>11.825704225352112</td>\n",
       "<td>16093790.786</td>\n",
       "<td>398</td>\n",
       "<td>0.00041736593257090944</td>\n",
       "<td>16.877</td>\n",
       "<td>1327097700929.9097</td>\n",
       "<td>126146626.59829712</td>\n",
       "<td>66077.7239668967</td>\n",
       "<td>82460.2306924701</td>\n",
       "<td>3334416333.994748</td>\n",
       "<td>10629.5786</td></tr><tr><td>864691135345291423</td>\n",
       "<td>0</td>\n",
       "<td>0.25</td>\n",
       "<td>30.00</td>\n",
       "<td>4</td>\n",
       "<td>0</td>\n",
       "<td>1</td>\n",
       "<td>=BLOB=</td>\n",
       "<td>708043</td>\n",
       "<td>1432111</td>\n",
       "<td>0</td>\n",
       "<td>0</td>\n",
       "<td>0</td>\n",
       "<td>0</td>\n",
       "<td>1</td>\n",
       "<td>6</td>\n",
       "<td>249</td>\n",
       "<td>195</td>\n",
       "<td>9952249.61378499</td>\n",
       "<td>7106458.131142457</td>\n",
       "<td>25318.306</td>\n",
       "<td>75.818</td>\n",
       "<td>75.818</td>\n",
       "<td>386.718</td>\n",
       "<td>341.864</td>\n",
       "<td>1532</td>\n",
       "<td>0.00015393504578884427</td>\n",
       "<td>6.152610441767068</td>\n",
       "<td>3636560.395</td>\n",
       "<td>70</td>\n",
       "<td>0.00042127720526967903</td>\n",
       "<td>21.886</td>\n",
       "<td>366595548966.5923</td>\n",
       "<td>173941231.56845084</td>\n",
       "<td>36835.44557190528</td>\n",
       "<td>100808.3213661552</td>\n",
       "<td>5237079270.951319</td>\n",
       "<td>3031.7047</td></tr><tr><td>864691135373423816</td>\n",
       "<td>0</td>\n",
       "<td>0.25</td>\n",
       "<td>30.00</td>\n",
       "<td>4</td>\n",
       "<td>0</td>\n",
       "<td>1</td>\n",
       "<td>=BLOB=</td>\n",
       "<td>3383405</td>\n",
       "<td>6837747</td>\n",
       "<td>0</td>\n",
       "<td>0</td>\n",
       "<td>0</td>\n",
       "<td>0</td>\n",
       "<td>1</td>\n",
       "<td>8</td>\n",
       "<td>853</td>\n",
       "<td>808</td>\n",
       "<td>29828707.39402775</td>\n",
       "<td>27323282.569861326</td>\n",
       "<td>25105.522</td>\n",
       "<td>83.504</td>\n",
       "<td>83.504</td>\n",
       "<td>231.078</td>\n",
       "<td>231.078</td>\n",
       "<td>359</td>\n",
       "<td>1.2035385752983661e-05</td>\n",
       "<td>0.4208675263774912</td>\n",
       "<td>8650394.095</td>\n",
       "<td>265</td>\n",
       "<td>4.1500999383080705e-05</td>\n",
       "<td>1.355</td>\n",
       "<td>59226635728.49248</td>\n",
       "<td>77291152.34234586</td>\n",
       "<td>1985.5582391193634</td>\n",
       "<td>6846.697974457136</td>\n",
       "<td>223496738.5980848</td>\n",
       "<td>8559.7473</td></tr><tr><td>864691135373436616</td>\n",
       "<td>0</td>\n",
       "<td>0.25</td>\n",
       "<td>30.00</td>\n",
       "<td>4</td>\n",
       "<td>0</td>\n",
       "<td>1</td>\n",
       "<td>=BLOB=</td>\n",
       "<td>1785657</td>\n",
       "<td>3619863</td>\n",
       "<td>0</td>\n",
       "<td>5</td>\n",
       "<td>5</td>\n",
       "<td>1</td>\n",
       "<td>2</td>\n",
       "<td>20</td>\n",
       "<td>493</td>\n",
       "<td>131</td>\n",
       "<td>18421878.018574927</td>\n",
       "<td>4845043.772362778</td>\n",
       "<td>26060.468</td>\n",
       "<td>261.017</td>\n",
       "<td>241.851</td>\n",
       "<td>463.499</td>\n",
       "<td>437.895</td>\n",
       "<td>6055</td>\n",
       "<td>0.00032868527269015106</td>\n",
       "<td>12.281947261663285</td>\n",
       "<td>12347044.649</td>\n",
       "<td>315</td>\n",
       "<td>0.0004904007535512071</td>\n",
       "<td>19.222</td>\n",
       "<td>1150146548540.4912</td>\n",
       "<td>118282462.23017883</td>\n",
       "<td>62433.72946996985</td>\n",
       "<td>93151.56632511593</td>\n",
       "<td>3651258884.2555275</td>\n",
       "<td>18649.1189</td></tr><tr><td>864691135403709422</td>\n",
       "<td>0</td>\n",
       "<td>0.25</td>\n",
       "<td>30.00</td>\n",
       "<td>4</td>\n",
       "<td>0</td>\n",
       "<td>1</td>\n",
       "<td>=BLOB=</td>\n",
       "<td>998460</td>\n",
       "<td>2004896</td>\n",
       "<td>0</td>\n",
       "<td>1</td>\n",
       "<td>0</td>\n",
       "<td>1</td>\n",
       "<td>2</td>\n",
       "<td>11</td>\n",
       "<td>245</td>\n",
       "<td>63</td>\n",
       "<td>11460695.480328115</td>\n",
       "<td>2835157.9745788453</td>\n",
       "<td>26925.349</td>\n",
       "<td>86.582</td>\n",
       "<td>86.582</td>\n",
       "<td>485.441</td>\n",
       "<td>457.313</td>\n",
       "<td>3020</td>\n",
       "<td>0.00026350931365236297</td>\n",
       "<td>12.326530612244898</td>\n",
       "<td>6998782.469</td>\n",
       "<td>105</td>\n",
       "<td>0.00043150362414843044</td>\n",
       "<td>28.762</td>\n",
       "<td>571003808827.332</td>\n",
       "<td>129949880.3227547</td>\n",
       "<td>49822.78866125012</td>\n",
       "<td>81586.16321574547</td>\n",
       "<td>5438131512.641257</td>\n",
       "<td>12061.9218</td> </tr> </tbody>\n",
       "            </table>\n",
       "            <p>...</p>\n",
       "            <p>Total: 58</p></div>\n",
       "            "
      ],
      "text/plain": [
       "*segment_id    *decimation_ve *decimation_ra *ver      *process_versi *index    multiplicity   decomposit n_vertices     n_faces     n_not_processe n_error_limbs  n_same_soma_mu n_multi_soma_t n_somas     n_limbs     n_branches     max_limb_n_bra skeletal_lengt max_limb_skele median_branch_ width_median   width_no_spine width_90_perc  width_no_spine n_spines     spine_density  spines_per_bra skeletal_lengt n_spine_eligib spine_density_ spines_per_bra total_spine_vo spine_volume_m spine_volume_d spine_volume_d spine_volume_p run_time      \n",
       "+------------+ +------------+ +------------+ +-------+ +------------+ +-------+ +------------+ +--------+ +------------+ +---------+ +------------+ +------------+ +------------+ +------------+ +---------+ +---------+ +------------+ +------------+ +------------+ +------------+ +------------+ +------------+ +------------+ +------------+ +------------+ +----------+ +------------+ +------------+ +------------+ +------------+ +------------+ +------------+ +------------+ +------------+ +------------+ +------------+ +------------+ +------------+\n",
       "86469113501239 0              0.25           30.00     4              0         1              =BLOB=     1376990        2794781     0              3              1              3              2           7           332            193            13857599.09099 7698499.767603 24782.936      182.056        175.907        512.504        498.037        5073         0.000366080730 15.28012048192 9021770.899    184            0.000562306453 27.571         1130755898564. 149139625.2549 81598.25458505 125336.3570438 6145412492.199 18888.6673    \n",
       "86469113501257 0              0.25           30.00     4              0         1              =BLOB=     1405952        2834699     0              5              5              0              1           9           438            190            15005335.10401 5950109.147626 22518.656      140.086        140.086        469.827        405.969        5271         0.000351275060 12.03424657534 9075502.16     228            0.000580794308 23.118         1169557046930. 149701410.7930 77942.74761765 128869.6786482 5129636170.749 18283.2209    \n",
       "86469113506501 0              0.25           30.00     4              0         1              =BLOB=     927599         1896021     0              2              2              1              2           19          275            62             10134692.44111 2065744.793131 17371.879      110.248        110.248        544.807        544.758        1859         0.000183429345 6.76           5876271.812    132            0.000316357047 14.083         333744826425.1 116071713.8983 32930.92793532 56795.33505301 2528369897.160 13467.9901    \n",
       "86469113506503 0              0.25           30.00     4              0         1              =BLOB=     1284918        2610256     0              1              0              1              3           19          339            49             12070580.98087 2067456.667680 24476.944      293.07         258.608        496.883        455.767        4680         0.000387719531 13.80530973451 9141427.307    231            0.000511955063 20.26          984274848135.3 134477821.9593 81543.28691343 107671.9001398 4260930078.508 10872.3472    \n",
       "86469113521007 0              0.25           30.00     4              0         1              =BLOB=     2254579        4581171     0              1              1              1              3           19          680            410            25709086.23863 14910186.43305 22806.349      91.868         91.868         488.977        396.491        7956         0.000309462573 11.7           14370940.599   305            0.000553617207 26.085         1530423053724. 123769896.0557 59528.48885871 106494.2856858 5017780504.015 21160.2523    \n",
       "86469113534117 0              0.25           30.00     4              0         1              =BLOB=     822316         1638121     0              2              2              0              1           11          199            68             9450347.657808 3250054.207938 29478.786      237.546        234.385        470.636        441.647        2045         0.000216394155 10.27638190954 7043457.152    132            0.000290340376 15.492         324097367203.9 96991868.07998 34294.75601737 46013.96163983 2455283084.878 3309.9726     \n",
       "86469113534513 0              0.25           30.00     4              0         1              =BLOB=     1300713        2608916     0              1              1              0              1           7           240            90             8832184.414140 2928317.149123 24303.97       272.663        252.338        501.784        443.997        2960         0.000335137929 12.33333333333 5967445.428    155            0.000496024645 19.097         735869389721.0 160684713.8255 83316.80535824 123313.9705422 4747544449.813 15212.2355    \n",
       "86469113534527 0              0.25           30.00     4              0         1              =BLOB=     2309163        4637079     0              3              3              1              3           23          568            232            20083889.41475 7902329.442060 19837.799      307.913        275.329        552.594        537.217        6717         0.000334447171 11.82570422535 16093790.786   398            0.000417365932 16.877         1327097700929. 126146626.5982 66077.72396689 82460.23069247 3334416333.994 10629.5786    \n",
       "86469113534529 0              0.25           30.00     4              0         1              =BLOB=     708043         1432111     0              0              0              0              1           6           249            195            9952249.613784 7106458.131142 25318.306      75.818         75.818         386.718        341.864        1532         0.000153935045 6.152610441767 3636560.395    70             0.000421277205 21.886         366595548966.5 173941231.5684 36835.44557190 100808.3213661 5237079270.951 3031.7047     \n",
       "86469113537342 0              0.25           30.00     4              0         1              =BLOB=     3383405        6837747     0              0              0              0              1           8           853            808            29828707.39402 27323282.56986 25105.522      83.504         83.504         231.078        231.078        359          1.203538575298 0.420867526377 8650394.095    265            4.150099938308 1.355          59226635728.49 77291152.34234 1985.558239119 6846.697974457 223496738.5980 8559.7473     \n",
       "86469113537343 0              0.25           30.00     4              0         1              =BLOB=     1785657        3619863     0              5              5              1              2           20          493            131            18421878.01857 4845043.772362 26060.468      261.017        241.851        463.499        437.895        6055         0.000328685272 12.28194726166 12347044.649   315            0.000490400753 19.222         1150146548540. 118282462.2301 62433.72946996 93151.56632511 3651258884.255 18649.1189    \n",
       "86469113540370 0              0.25           30.00     4              0         1              =BLOB=     998460         2004896     0              1              0              1              2           11          245            63             11460695.48032 2835157.974578 26925.349      86.582         86.582         485.441        457.313        3020         0.000263509313 12.32653061224 6998782.469    105            0.000431503624 28.762         571003808827.3 129949880.3227 49822.78866125 81586.16321574 5438131512.641 12061.9218    \n",
       "   ...\n",
       " (Total: 58)"
      ]
     },
     "execution_count": 11,
     "metadata": {},
     "output_type": "execute_result"
    }
   ],
   "source": [
    "curr_table = minnie.Decomposition & \"process_version = 4\" & \"n_limbs>5\" \n",
    "curr_table"
   ]
  },
  {
   "cell_type": "code",
   "execution_count": 10,
   "metadata": {},
   "outputs": [],
   "source": [
    "segment_id = 864691135403709422"
   ]
  },
  {
   "cell_type": "code",
   "execution_count": 12,
   "metadata": {},
   "outputs": [
    {
     "name": "stdout",
     "output_type": "stream",
     "text": [
      "Decompressing Neuron in minimal output mode...please wait\n"
     ]
    }
   ],
   "source": [
    "neuron_obj_original = (curr_table & dict(segment_id=segment_id)).fetch1(\"decomposition\")"
   ]
  },
  {
   "cell_type": "code",
   "execution_count": 13,
   "metadata": {},
   "outputs": [
    {
     "name": "stdout",
     "output_type": "stream",
     "text": [
      "\n",
      " Working on visualization type: mesh\n"
     ]
    },
    {
     "data": {
      "application/vnd.jupyter.widget-view+json": {
       "model_id": "f44bd5d7c10c4671b314cc629b6f8b59",
       "version_major": 2,
       "version_minor": 0
      },
      "text/plain": [
       "VBox(children=(Figure(camera=PerspectiveCamera(fov=46.0, position=(0.0, 0.0, 2.0), quaternion=(0.0, 0.0, 0.0, …"
      ]
     },
     "metadata": {},
     "output_type": "display_data"
    }
   ],
   "source": [
    "nviz.visualize_neuron_lite(neuron_obj_original)"
   ]
  },
  {
   "cell_type": "code",
   "execution_count": null,
   "metadata": {},
   "outputs": [],
   "source": []
  },
  {
   "cell_type": "markdown",
   "metadata": {},
   "source": [
    "# Splitting the Neuron"
   ]
  },
  {
   "cell_type": "code",
   "execution_count": 25,
   "metadata": {
    "scrolled": true
   },
   "outputs": [
    {
     "name": "stdout",
     "output_type": "stream",
     "text": [
      "multi_soma_limbs = [0]\n",
      "multi_touch_limbs = []\n",
      "\n",
      "\n",
      " -------- Working on limb 0------------\n",
      "Starting combinations to process = [[ 0 10]]\n",
      "\n",
      "\n",
      "---- working on disconnecting 0 and 10\n",
      "---- This disconnects S1_0 from S0_0  \n",
      " Cut iteration 0\n",
      "Total number of graphs at the end of the split BEFORE DIRECTIONAL = 1\n",
      "Total number of graphs at the end of the split AFTER DIRECTIONAL = 1\n",
      "Shortest path = [0, 2, 8, 7, 11, 10]\n",
      "\n",
      " --------- START OF GET BEST EDGE --------- \n",
      "curr_limb.deleted_edges=[]\n",
      "consider_path_neighbors_for_removal is set so segments_to_consider = [ 1  2  5  7  8  9 11 12 13]\n",
      "Short segments to combine = [ 8 13]\n",
      "\n",
      "\n",
      "-------- Removing Segments -------------\n",
      "curr_short_seg_revised = 8\n",
      "np.sum(touch_len>0) = 2\n",
      "Using average stitch point\n",
      "touching_endpoints = [[842231.25 797537.   902547.  ]\n",
      " [842956.   799143.   902193.  ]]\n",
      "new_stitch_point = [842593.625 798340.    902370.   ]\n",
      "Angles for [2 5 7 9] are [54.47, 15.39, 32.03, 33.51]\n",
      "Branch that will absorb mesh of 8 is 5 \n",
      "curr_short_seg_revised = 13\n",
      "np.sum(touch_len>0) = 2\n",
      "Using average stitch point\n",
      "touching_endpoints = [[848862. 843342. 908768.]\n",
      " [850048. 842861. 907683.]]\n",
      "new_stitch_point = [849455.  843101.5 908225.5]\n",
      "Angles for [10 11 14 15] are [38.65, 86.58, 32.0, 12.76]\n",
      "Branch that will absorb mesh of 13 is 15 \n",
      "curr_limb.deleted_edges 2=[]\n",
      "curr_limb.deleted_edges 3=[]\n",
      "Revised cut path = [ 0  2  7 11 10]\n",
      "\n",
      "-------- Done Removing Segments -------------\n",
      "\n",
      "\n",
      "Found 2 high degree coordinates to cut\n",
      "high_degree_endpoint_coordinates_widths = [325.98664315253416, 492.0731946998092]\n",
      "high_degree_order = [0 1]\n",
      "Picking [842593.625 798340.    902370.   ] high degree coordinates to cut\n",
      "curr_limb.deleted_edges 4=[]\n",
      "coordinate_branches = [2, 5, 7, 9]\n",
      "2 = red\n",
      "5 = aqua\n",
      "7 = purple\n",
      "9 = green\n",
      "Angle between 2 and 5 = 128.5 \n",
      "Angle between 2 and 7 = 77.46 \n",
      "Angle between 2 and 9 = 17.11 \n",
      "Angle between 5 and 7 = 28.57 \n",
      "Angle between 5 and 9 = 35.07 \n",
      "Angle between 7 and 9 = 117.56 \n",
      "Final Matches = [[2, 9], [5, 7]]\n",
      "matched_branches_revised = [[2, 9], [5, 7]]\n",
      "Original graph\n"
     ]
    },
    {
     "data": {
      "image/png": "[encoded data removed]",
      "text/plain": [
       "<Figure size 432x288 with 1 Axes>"
      ]
     },
     "metadata": {},
     "output_type": "display_data"
    },
    {
     "name": "stdout",
     "output_type": "stream",
     "text": [
      "match_branches = [[2, 9], [5, 7]]\n",
      "edges_to_delete (resolve crossover) = [[2, 5], [2, 7], [5, 9], [7, 9]]\n",
      "edges_to_create (resolve crossover) = [[2, 9], [5, 7]]\n",
      "curr_limb.deleted_edges 5 =[]\n",
      "nx.number_connected_components(G) before = 1\n",
      "G.edges() = [(0, 2), (7, 11), (11, 10)]\n",
      "G.nodes() = [0, 2, 7, 11, 10]\n",
      "nx.number_connected_components(G) after = 2\n",
      "Using the resolve crossover delete edges because will help seperate the path\n",
      "skip_nodes = []\n",
      "edges_to_delete (cut_limb_network) = [[2, 5], [2, 7], [5, 9], [7, 9]]\n",
      "edges_to_create = [[2, 9], [5, 7]]\n",
      "Number of connected components = 4\n",
      "Comp 0 = {3, 4, 5, 6, 7, 10, 11, 12, 14, 15, 16, 17, 18, 19, 20, 21, 22, 23, 24, 25, 26, 27, 28, 29, 30, 31, 32, 33, 34, 35, 36, 37, 38, 39, 40, 41, 42, 43, 44, 45, 46, 47, 48, 49, 50, 51, 52, 53, 54, 55, 56, 57, 58, 59, 60, 61, 62}\n",
      "Comp 1 = {0, 9, 2, 1}\n",
      "Comp 2 = {8}\n",
      "Comp 3 = {13}\n",
      "curr_limb_copy.deleted_edges = [[2, 5], [2, 7], [5, 9], [7, 9]]\n",
      "curr_limb_copy.created_edges = [[2, 9], [5, 7]]\n",
      "After get best cut: cut_edges = [[2, 5], [2, 7], [5, 9], [7, 9]], added_edges = [[2, 9], [5, 7]]\n",
      "total_soma_paths_to_cut = []\n",
      "-----------counter = 0------------\n",
      " Cut iteration 1\n",
      "Total number of graphs at the end of the split BEFORE DIRECTIONAL = 4\n",
      "Total number of graphs at the end of the split AFTER DIRECTIONAL = 4\n",
      "No valid path so moving onto the next connection\n",
      "Total number of graphs at the end of the split = 4: [array([ 3,  4,  5,  6,  7, 10, 11, 12, 14, 15, 16, 17, 18, 19, 20, 21, 22,\n",
      "       23, 24, 25, 26, 27, 28, 29, 30, 31, 32, 33, 34, 35, 36, 37, 38, 39,\n",
      "       40, 41, 42, 43, 44, 45, 46, 47, 48, 49, 50, 51, 52, 53, 54, 55, 56,\n",
      "       57, 58, 59, 60, 61, 62]), array([0, 9, 2, 1]), array([8]), array([13])]\n"
     ]
    }
   ],
   "source": [
    "split_results = pru.multi_soma_split_suggestions(neuron_obj_original,\n",
    "                                                )"
   ]
  },
  {
   "cell_type": "code",
   "execution_count": 27,
   "metadata": {},
   "outputs": [
    {
     "name": "stdout",
     "output_type": "stream",
     "text": [
      "\n",
      "\n",
      "-------- Suggestions for Limb 0------\n",
      "\n",
      " Working on visualization type: mesh\n",
      "\n",
      " Working on visualization type: skeleton\n"
     ]
    },
    {
     "data": {
      "application/vnd.jupyter.widget-view+json": {
       "model_id": "47c4f2baa4204af8b1e533d7e6d746a4",
       "version_major": 2,
       "version_minor": 0
      },
      "text/plain": [
       "VBox(children=(Figure(camera=PerspectiveCamera(fov=46.0, position=(0.0, 0.0, 2.0), quaternion=(0.0, 0.0, 0.0, …"
      ]
     },
     "metadata": {},
     "output_type": "display_data"
    }
   ],
   "source": [
    "nviz.plot_split_suggestions_per_limb(neuron_obj_original,\n",
    "                                    split_results)"
   ]
  },
  {
   "cell_type": "code",
   "execution_count": 29,
   "metadata": {},
   "outputs": [
    {
     "name": "stdout",
     "output_type": "stream",
     "text": [
      "using precomputed split suggestions\n",
      "Concept graph size was 1 or less so returning original\n",
      "Concept graph size was 1 or less so returning original\n",
      "\n",
      "\n",
      "------ Working on Soma 0 -------\n",
      "limb_neighbors = [0, 3, 4, 5, 9, 10]\n",
      "limb_neighbors BEFORE error limbs removed = [0, 3, 4, 5, 9, 10]\n",
      "limb_neighbors AFTER error limbs removed = [ 0  3  4  5  9 10]\n",
      "curr_n_multi_soma_limbs_cancelled = 0\n",
      "curr_n_same_soma_limbs_cancelled = 0\n",
      "n_errored_lims = 0\n",
      "curr_error_limbs_cancelled_area = []\n",
      "local_floating_meshes = []\n",
      "Already have preprocessed data\n",
      "--- 1) Finished unpacking preprocessed materials: 8.487701416015625e-05\n",
      "total_edges = [['S0', 'L0'], ['S0', 'L1'], ['S0', 'L2'], ['S0', 'L3'], ['S0', 'L4'], ['S0', 'L5']]\n",
      "--- 2) Finished creating neuron connectivity graph: 0.0001232624053955078\n",
      "Having to generate soma_meshes_face_idx because none in preprocessed data\n",
      "--- 3a) Finshed generating soma_meshes_face_idx: 0.3206961154937744\n",
      "Using precomputed volume ratio\n",
      "--- 3b) Finished soma creation: 0.09976887702941895\n",
      "--- 3) Finshed generating soma objects and adding them to concept graph: 2.5272369384765625e-05\n",
      "Using already existing limb_mehses_face_idx in preprocessed data \n",
      "curr_limb_concept_networks= {0: [<networkx_utils.GraphOrderedEdges object at 0x7f92edd35518>]}\n",
      "curr_limb_concept_networks= {0: [<networkx_utils.GraphOrderedEdges object at 0x7f92edd351d0>]}\n",
      "curr_limb_concept_networks= {0: [<networkx_utils.GraphOrderedEdges object at 0x7f92edd35550>]}\n",
      "curr_limb_concept_networks= {0: [<networkx_utils.GraphOrderedEdges object at 0x7f92edd35898>]}\n",
      "curr_limb_concept_networks= {0: [<networkx_utils.GraphOrderedEdges object at 0x7f92edd35ba8>]}\n",
      "curr_limb_concept_networks= {0: [<networkx_utils.GraphOrderedEdges object at 0x7f92edd35828>]}\n",
      "--- 4) Finshed generating Limb objects and adding them to concept graph: 4.6393609046936035\n",
      "--- 5) SKIPPING Doing the adaptive mesh correspondence on the meshparty preprocessing ---\n",
      "--- 6) SKIPPING Using the computed_attribute_dict to populate neuron attributes ---\n",
      "self.n_limbs = 6\n",
      "7) Calculating the spines for the neuorn if do not already exist\n",
      "Total time for neuron instance creation = 9.389307022094727\n",
      "\n",
      "\n",
      "------ Working on Soma 1 -------\n",
      "limb_neighbors = [1, 2, 6, 7, 8, 11]\n",
      "limb_neighbors BEFORE error limbs removed = [1, 2, 6, 7, 8, 11]\n",
      "limb_neighbors AFTER error limbs removed = [ 1  2  6  7  8 11]\n",
      "curr_n_multi_soma_limbs_cancelled = 0\n",
      "curr_n_same_soma_limbs_cancelled = 0\n",
      "n_errored_lims = 0\n",
      "curr_error_limbs_cancelled_area = []\n",
      "local_floating_meshes = []\n",
      "Already have preprocessed data\n",
      "--- 1) Finished unpacking preprocessed materials: 8.58306884765625e-05\n",
      "total_edges = [['S0', 'L0'], ['S0', 'L1'], ['S0', 'L2'], ['S0', 'L3'], ['S0', 'L4'], ['S0', 'L5']]\n",
      "--- 2) Finished creating neuron connectivity graph: 0.0001232624053955078\n",
      "Having to generate soma_meshes_face_idx because none in preprocessed data\n",
      "--- 3a) Finshed generating soma_meshes_face_idx: 0.3066885471343994\n",
      "Using precomputed volume ratio\n",
      "--- 3b) Finished soma creation: 0.0966331958770752\n",
      "--- 3) Finshed generating soma objects and adding them to concept graph: 2.4557113647460938e-05\n",
      "Using already existing limb_mehses_face_idx in preprocessed data \n",
      "curr_limb_concept_networks= {0: [<networkx_utils.GraphOrderedEdges object at 0x7f92ee3b0630>]}\n",
      "curr_limb_concept_networks= {0: [<networkx_utils.GraphOrderedEdges object at 0x7f92eea4eb70>]}\n",
      "curr_limb_concept_networks= {0: [<networkx_utils.GraphOrderedEdges object at 0x7f92ee3d7978>]}\n",
      "curr_limb_concept_networks= {0: [<networkx_utils.GraphOrderedEdges object at 0x7f92eec122b0>]}\n",
      "curr_limb_concept_networks= {0: [<networkx_utils.GraphOrderedEdges object at 0x7f92ee3ee4e0>]}\n",
      "curr_limb_concept_networks= {0: [<networkx_utils.GraphOrderedEdges object at 0x7f92ee3eea90>]}\n",
      "--- 4) Finshed generating Limb objects and adding them to concept graph: 3.9319844245910645\n",
      "--- 5) SKIPPING Doing the adaptive mesh correspondence on the meshparty preprocessing ---\n",
      "--- 6) SKIPPING Using the computed_attribute_dict to populate neuron attributes ---\n",
      "self.n_limbs = 6\n",
      "7) Calculating the spines for the neuorn if do not already exist\n",
      "Total time for neuron instance creation = 8.239952325820923\n",
      "\n",
      "\n",
      "Number of seperate neuron objects = 2\n",
      " # of neurons = 2\n",
      "neuron_list_errored_limbs_area = [[], []]\n",
      "neuron_list_errored_limbs_skeletal_length = [[], []]\n",
      "neuron_list_n_multi_soma_errors = [0, 0]\n",
      "neuron_list_n_same_soma_errors = [0, 0]\n"
     ]
    }
   ],
   "source": [
    "(neuron_list,\n",
    "neuron_list_errored_limbs_area,\n",
    " neuron_list_errored_limbs_skeletal_length,\n",
    "neuron_list_n_multi_soma_errors,\n",
    "neuron_list_n_same_soma_errors) = pru.split_neuron(neuron_obj_original,\n",
    "                limb_results=split_results,\n",
    "                               verbose=False,\n",
    "                                return_error_info=True\n",
    "                                    )\n",
    "\n",
    "print(f\" # of neurons = {len(neuron_list)}\")\n",
    "print(f\"neuron_list_errored_limbs_area = {neuron_list_errored_limbs_area}\")\n",
    "print(f\"neuron_list_errored_limbs_skeletal_length = {neuron_list_errored_limbs_skeletal_length}\")\n",
    "print(f\"neuron_list_n_multi_soma_errors = {neuron_list_n_multi_soma_errors}\")\n",
    "print(f\"neuron_list_n_same_soma_errors = {neuron_list_n_same_soma_errors}\")"
   ]
  },
  {
   "cell_type": "code",
   "execution_count": 30,
   "metadata": {},
   "outputs": [
    {
     "name": "stdout",
     "output_type": "stream",
     "text": [
      "\n",
      " Working on visualization type: mesh\n"
     ]
    },
    {
     "data": {
      "application/vnd.jupyter.widget-view+json": {
       "model_id": "cf572b4b33384e42ab61010380550579",
       "version_major": 2,
       "version_minor": 0
      },
      "text/plain": [
       "VBox(children=(Figure(camera=PerspectiveCamera(fov=46.0, position=(0.0, 0.0, 2.0), quaternion=(0.0, 0.0, 0.0, …"
      ]
     },
     "metadata": {},
     "output_type": "display_data"
    }
   ],
   "source": [
    "neuron_obj_1 = neuron_list[0]\n",
    "nviz.visualize_neuron_lite(neuron_obj_1)"
   ]
  },
  {
   "cell_type": "code",
   "execution_count": 31,
   "metadata": {},
   "outputs": [
    {
     "name": "stdout",
     "output_type": "stream",
     "text": [
      "\n",
      " Working on visualization type: mesh\n"
     ]
    },
    {
     "data": {
      "application/vnd.jupyter.widget-view+json": {
       "model_id": "5c0f475978024af19b35fd11a5f66b7f",
       "version_major": 2,
       "version_minor": 0
      },
      "text/plain": [
       "VBox(children=(Figure(camera=PerspectiveCamera(fov=46.0, position=(0.0, 0.0, 2.0), quaternion=(0.0, 0.0, 0.0, …"
      ]
     },
     "metadata": {},
     "output_type": "display_data"
    }
   ],
   "source": [
    "neuron_obj_2 = neuron_list[1]\n",
    "nviz.visualize_neuron_lite(neuron_obj_2)"
   ]
  },
  {
   "cell_type": "markdown",
   "metadata": {},
   "source": [
    "# Iterating through the Neurons"
   ]
  },
  {
   "cell_type": "code",
   "execution_count": 45,
   "metadata": {},
   "outputs": [],
   "source": [
    "import copy\n",
    "import time\n",
    "neuron_obj = copy.deepcopy(neuron_obj_1)\n",
    "\n",
    "debug_time = True\n",
    "verbose = True"
   ]
  },
  {
   "cell_type": "markdown",
   "metadata": {},
   "source": [
    "# Step 1: Axon Classification"
   ]
  },
  {
   "cell_type": "code",
   "execution_count": 37,
   "metadata": {},
   "outputs": [
    {
     "name": "stdout",
     "output_type": "stream",
     "text": [
      "\n",
      "Phase 2: Working on Limb L1\n",
      "\n",
      "Phase 2: Working on Limb L2\n",
      "\n",
      "Phase 2: Working on Limb L3\n",
      "\n",
      "Phase 2: Working on Limb L4\n",
      "\n",
      "Phase 2: Working on Limb L5\n",
      "candidate_nodes = [ 0  1  2  3  4  5  6  7  8  9 10 11 12 13 14 15 16 17 18 19]\n",
      "non_axon_branches_on_subgraph = [ 1  2  3  4  5  7  8 10]\n",
      "endnodes_to_test BEFORE FILTER = [3352 3453 3465 3653 3669]\n",
      "candidate_nodes = [0 1 2 3 4 5 6 7 8 9]\n",
      "non_axon_branches_on_subgraph = [0 1 3 6 7 8 9]\n",
      "endnodes_to_test BEFORE FILTER = [4339 4368]\n",
      "candidate_nodes = [0 1 2 3 4]\n",
      "non_axon_branches_on_subgraph = [0 1 3 4]\n",
      "endnodes_to_test BEFORE FILTER = [1855 1948]\n",
      "candidate_nodes = [ 0  1  2  3  4  5  6  7  8  9 10 11 12 13 14 15 16 17 18 19 20 21 22]\n",
      "non_axon_branches_on_subgraph = []\n",
      "endnodes_to_test BEFORE FILTER = [1825]\n",
      "Axon Classification = 20.067079782485962\n"
     ]
    }
   ],
   "source": [
    "filter_time = time.time()\n",
    "\n",
    "axon_limb_branch_dict,axon_angles = clu.axon_classification(neuron_obj,\n",
    "                                                        return_error_labels=False,\n",
    "                                                        verbose=False,\n",
    "                                                        plot_axons=False,\n",
    "                                                        label_axon_errors=True,\n",
    "                                                        return_axon_angles=True)\n",
    "\n",
    "if debug_time:\n",
    "    print(f\"Axon Classification = {time.time() - filter_time}\")\n",
    "    filter_time = time.time()"
   ]
  },
  {
   "cell_type": "code",
   "execution_count": 41,
   "metadata": {},
   "outputs": [
    {
     "name": "stdout",
     "output_type": "stream",
     "text": [
      "axon_angles = {5: {0: 159.45430831044462}}\n"
     ]
    }
   ],
   "source": [
    "print(f\"axon_angles = {axon_angles}\")"
   ]
  },
  {
   "cell_type": "code",
   "execution_count": 38,
   "metadata": {},
   "outputs": [
    {
     "name": "stdout",
     "output_type": "stream",
     "text": [
      "\n",
      " Working on visualization type: mesh\n"
     ]
    },
    {
     "data": {
      "application/vnd.jupyter.widget-view+json": {
       "model_id": "57cf9145587942fba26715b351bb4cec",
       "version_major": 2,
       "version_minor": 0
      },
      "text/plain": [
       "VBox(children=(Figure(camera=PerspectiveCamera(fov=46.0, position=(0.0, 0.0, 2.0), quaternion=(0.0, 0.0, 0.0, …"
      ]
     },
     "metadata": {},
     "output_type": "display_data"
    }
   ],
   "source": [
    "import neuron_searching as ns\n",
    "axon_limb_branch_dict = ns.query_neuron_by_labels(neuron_obj,\n",
    "                                                 matching_labels=[\"axon\"])\n",
    "nviz.plot_limb_branch_dict(neuron_obj,\n",
    "                          axon_limb_branch_dict)"
   ]
  },
  {
   "cell_type": "code",
   "execution_count": 39,
   "metadata": {},
   "outputs": [
    {
     "name": "stdout",
     "output_type": "stream",
     "text": [
      "\n",
      " Working on visualization type: mesh\n"
     ]
    },
    {
     "data": {
      "application/vnd.jupyter.widget-view+json": {
       "model_id": "c394fb478cc34adebed6564955708017",
       "version_major": 2,
       "version_minor": 0
      },
      "text/plain": [
       "VBox(children=(Figure(camera=PerspectiveCamera(fov=46.0, position=(0.0, 0.0, 2.0), quaternion=(0.0, 0.0, 0.0, …"
      ]
     },
     "metadata": {},
     "output_type": "display_data"
    }
   ],
   "source": [
    "axon_like_limb_branch_dict = ns.query_neuron_by_labels(neuron_obj,\n",
    "                                                 matching_labels=[\"axon-like\"])\n",
    "nviz.plot_limb_branch_dict(neuron_obj,\n",
    "                          axon_like_limb_branch_dict)"
   ]
  },
  {
   "cell_type": "markdown",
   "metadata": {},
   "source": [
    "# Classify the Neuron Cell Type"
   ]
  },
  {
   "cell_type": "code",
   "execution_count": 40,
   "metadata": {},
   "outputs": [],
   "source": [
    "clu.inhibitory_excitatory_classifier(neuron_obj,\n",
    "                                     verbose=True,\n",
    "\n",
    "axon_limb_branch_dict=axon_limb_branch_dict,\n",
    "    axon_angles=axon_angles)"
   ]
  },
  {
   "cell_type": "code",
   "execution_count": 43,
   "metadata": {},
   "outputs": [
    {
     "data": {
      "text/plain": [
       "{'L5': array([ 0,  1,  2,  3,  4,  5,  6,  7,  8,  9, 10, 11, 12, 13, 14, 15, 16,\n",
       "        17, 18, 19, 20, 21, 22])}"
      ]
     },
     "execution_count": 43,
     "metadata": {},
     "output_type": "execute_result"
    }
   ],
   "source": [
    "axon_limb_branch_dict"
   ]
  },
  {
   "cell_type": "code",
   "execution_count": 54,
   "metadata": {},
   "outputs": [],
   "source": [
    "clu = reload(clu)"
   ]
  },
  {
   "cell_type": "code",
   "execution_count": 55,
   "metadata": {},
   "outputs": [
    {
     "name": "stdout",
     "output_type": "stream",
     "text": [
      "spine_category = densely_spined\n",
      "Using pre-computed axon classification for contains_excitatory_axon\n",
      "axon_limb_branch_dict = {'L5': array([ 0,  1,  2,  3,  4,  5,  6,  7,  8,  9, 10, 11, 12, 13, 14, 15, 16,\n",
      "       17, 18, 19, 20, 21, 22])}\n",
      "axon_angles = {5: {0: 159.45430831044462}}\n",
      "Inhibitory Excitatory Classification = 13.416588544845581\n"
     ]
    }
   ],
   "source": [
    "filter_time = time.time()\n",
    "\n",
    "(inh_exc_class,\n",
    "             spine_category,\n",
    "             axon_angles,\n",
    "             n_axons,\n",
    "             n_apicals,\n",
    "             neuron_spine_density,\n",
    "             n_branches_processed,\n",
    "             skeletal_length_processed,\n",
    "             n_branches_in_search_radius,\n",
    "             skeletal_length_in_search_radius\n",
    "             ) = clu.inhibitory_excitatory_classifier(neuron_obj,\n",
    "                                                return_spine_classification=True,\n",
    "                                                return_axon_angles=True,\n",
    "                                                 return_n_axons=True,\n",
    "                                                 return_n_apicals=True,\n",
    "                                                 return_spine_statistics=True,\n",
    "                                                     axon_limb_branch_dict_precomputed=axon_limb_branch_dict,\n",
    "                                                axon_angles_precomputed=axon_angles)\n",
    "\n",
    "if debug_time:\n",
    "    print(f\"Inhibitory Excitatory Classification = {time.time() - filter_time}\")\n",
    "    filter_time = time.time()"
   ]
  },
  {
   "cell_type": "code",
   "execution_count": 56,
   "metadata": {},
   "outputs": [
    {
     "name": "stdout",
     "output_type": "stream",
     "text": [
      "\n",
      " -- Cell Type Classification Results --\n",
      "inh_exc_class=excitatory\n",
      "spine_category=densely_spined\n",
      "axon_angles={5: {0: 159.45430831044462}}\n",
      "n_axons=1\n",
      "n_apicals=1\n",
      "neuron_spine_density=0.0005719720005404314\n",
      "n_branches_processed=22\n",
      "skeletal_length_processed=2556321.7933463836\n",
      "n_branches_in_search_radius=67\n",
      "skeletal_length_in_search_radius=3880744.5424105716\n"
     ]
    }
   ],
   "source": [
    "if verbose:\n",
    "    print(\"\\n -- Cell Type Classification Results --\")\n",
    "    print(f\"inh_exc_class={inh_exc_class}\")\n",
    "    print(f\"spine_category={spine_category}\")\n",
    "    print(f\"axon_angles={axon_angles}\")\n",
    "    print(f\"n_axons={n_axons}\")\n",
    "    print(f\"n_apicals={n_apicals}\")\n",
    "    print(f\"neuron_spine_density={neuron_spine_density}\")\n",
    "    print(f\"n_branches_processed={n_branches_processed}\")\n",
    "    print(f\"skeletal_length_processed={skeletal_length_processed}\")\n",
    "    print(f\"n_branches_in_search_radius={n_branches_in_search_radius}\")\n",
    "    print(f\"skeletal_length_in_search_radius={skeletal_length_in_search_radius}\")\n"
   ]
  },
  {
   "cell_type": "markdown",
   "metadata": {},
   "source": [
    "# Doing the Excitatory Filtering"
   ]
  },
  {
   "cell_type": "markdown",
   "metadata": {},
   "source": [
    "# -- Step 1: Remove Floating Axon --"
   ]
  },
  {
   "cell_type": "code",
   "execution_count": null,
   "metadata": {},
   "outputs": [],
   "source": [
    "input_neuron = neuron_obj"
   ]
  },
  {
   "cell_type": "code",
   "execution_count": 59,
   "metadata": {},
   "outputs": [
    {
     "data": {
      "text/plain": [
       "{'L0': array([ 0,  3, 12, 13, 14, 15, 16, 17, 18, 19, 20, 21, 22, 23, 24, 25, 26,\n",
       "        27, 28, 29, 30, 31, 32, 33, 34, 36, 37, 38, 39, 40, 41, 42, 43, 44,\n",
       "        46, 47, 48, 49, 50, 51, 52, 53, 54, 55, 56]),\n",
       " 'L1': array([ 0,  6,  9, 11, 12, 13, 14, 15, 16, 17, 18, 19]),\n",
       " 'L3': array([2, 4, 5]),\n",
       " 'L4': array([2])}"
      ]
     },
     "execution_count": 59,
     "metadata": {},
     "output_type": "execute_result"
    }
   ],
   "source": [
    "# checking that the axon labels are still there\n",
    "axon_limb_branch_dict = ns.query_neuron_by_labels(neuron_obj,\n",
    "                                                 matching_labels=[\"axon-error\"])\n",
    "axon_limb_branch_dict"
   ]
  },
  {
   "cell_type": "code",
   "execution_count": 61,
   "metadata": {
    "scrolled": true
   },
   "outputs": [
    {
     "name": "stdout",
     "output_type": "stream",
     "text": [
      "\n",
      "\n",
      "Branches Requested to Remove (without disconnect effect)\n",
      "\n",
      " Working on visualization type: mesh\n"
     ]
    },
    {
     "data": {
      "application/vnd.jupyter.widget-view+json": {
       "model_id": "c14014cc30cc42ec9e2e51dd5499a0a4",
       "version_major": 2,
       "version_minor": 0
      },
      "text/plain": [
       "VBox(children=(Figure(camera=PerspectiveCamera(fov=46.0, position=(0.0, 0.0, 2.0), quaternion=(0.0, 0.0, 0.0, …"
      ]
     },
     "metadata": {},
     "output_type": "display_data"
    },
    {
     "name": "stdout",
     "output_type": "stream",
     "text": [
      "\n",
      "\n",
      "----Working on seperate_graph 0----\n",
      "\n",
      "\n",
      "---------Working on soma_idx = 0, soma_group_idx 0, endpt = [845912. 854215. 911219.]---------\n",
      "Starting_edge inside branches_to_conept = [[845912.  854215.  911219. ]\n",
      " [849455.  843101.5 908225.5]]\n",
      "At the start, starting_node (in terms of the skeleton, that shouldn't match the starting edge) = [3]\n",
      "printing out current edge:\n",
      "[[845912.  854215.  911219. ]\n",
      " [849455.  843101.5 908225.5]]\n",
      "edge_endpoints_to_process was empty so exiting loop after 12 iterations\n",
      "starting_node in concept map (that should match the starting edge) = 4\n",
      "Total time for branches to concept conversion = 0.610905647277832\n",
      "\n",
      "Done generating concept network \n",
      "\n",
      "\n",
      "\n",
      "\n",
      "----Working on seperate_graph 0----\n",
      "\n",
      "\n",
      "---------Working on soma_idx = 0, soma_group_idx 0, endpt = [853953. 865995. 907230.]---------\n",
      "Starting_edge inside branches_to_conept = [[853953. 865995. 907230.]\n",
      " [861596. 868391. 905521.]]\n",
      "At the start, starting_node (in terms of the skeleton, that shouldn't match the starting edge) = [0]\n",
      "printing out current edge:\n",
      "[[853953. 865995. 907230.]\n",
      " [861596. 868391. 905521.]]\n",
      "edge_endpoints_to_process was empty so exiting loop after 8 iterations\n",
      "starting_node in concept map (that should match the starting edge) = 0\n",
      "Total time for branches to concept conversion = 0.41240525245666504\n",
      "\n",
      "Done generating concept network \n",
      "\n",
      "\n",
      "\n",
      "\n",
      "----Working on seperate_graph 0----\n",
      "\n",
      "\n",
      "---------Working on soma_idx = 0, soma_group_idx 0, endpt = [841460. 863038. 904719.]---------\n",
      "Starting_edge inside branches_to_conept = [[830844. 857837. 886509.]\n",
      " [841460. 863038. 904719.]]\n",
      "At the start, starting_node (in terms of the skeleton, that shouldn't match the starting edge) = [7]\n",
      "printing out current edge:\n",
      "[[841460. 863038. 904719.]\n",
      " [830844. 857837. 886509.]]\n",
      "edge_endpoints_to_process was empty so exiting loop after 7 iterations\n",
      "starting_node in concept map (that should match the starting edge) = 6\n",
      "Total time for branches to concept conversion = 0.3201169967651367\n",
      "\n",
      "Done generating concept network \n",
      "\n",
      "\n",
      "\n",
      "\n",
      "----Working on seperate_graph 0----\n",
      "\n",
      "\n",
      "---------Working on soma_idx = 0, soma_group_idx 0, endpt = [837851. 866526. 917257.]---------\n",
      "Starting_edge inside branches_to_conept = [[832954. 868366. 920469.]\n",
      " [837851. 866526. 917257.]]\n",
      "At the start, starting_node (in terms of the skeleton, that shouldn't match the starting edge) = [4]\n",
      "printing out current edge:\n",
      "[[837851. 866526. 917257.]\n",
      " [832954. 868366. 920469.]]\n",
      "edge_endpoints_to_process was empty so exiting loop after 4 iterations\n",
      "starting_node in concept map (that should match the starting edge) = 3\n",
      "Total time for branches to concept conversion = 0.16361260414123535\n",
      "\n",
      "Done generating concept network \n",
      "\n",
      "\n",
      "\n",
      "\n",
      "------ Working on Soma 0 -------\n",
      "limb_neighbors = [0, 1, 2, 3, 4, 5]\n",
      "limb_neighbors BEFORE error limbs removed = [0, 1, 2, 3, 4, 5]\n",
      "limb_neighbors AFTER error limbs removed = [0 1 2 3 4 5]\n",
      "curr_n_multi_soma_limbs_cancelled = 0\n",
      "curr_n_same_soma_limbs_cancelled = 0\n",
      "n_errored_lims = 0\n",
      "curr_error_limbs_cancelled_area = []\n",
      "local_floating_meshes = []\n",
      "Already have preprocessed data\n",
      "--- 1) Finished unpacking preprocessed materials: 8.58306884765625e-05\n",
      "total_edges = [['S0', 'L0'], ['S0', 'L1'], ['S0', 'L2'], ['S0', 'L3'], ['S0', 'L4'], ['S0', 'L5']]\n",
      "--- 2) Finished creating neuron connectivity graph: 0.0004127025604248047\n",
      "Having to generate soma_meshes_face_idx because none in preprocessed data\n",
      "--- 3a) Finshed generating soma_meshes_face_idx: 0.26256442070007324\n",
      "Using precomputed volume ratio\n",
      "--- 3b) Finished soma creation: 0.10068511962890625\n",
      "--- 3) Finshed generating soma objects and adding them to concept graph: 2.5272369384765625e-05\n",
      "Using already existing limb_mehses_face_idx in preprocessed data \n",
      "curr_limb_concept_networks= {0: [<networkx_utils.GraphOrderedEdges object at 0x7f930b529c18>]}\n",
      "curr_limb_concept_networks= {0: [<networkx_utils.GraphOrderedEdges object at 0x7f930b529c50>]}\n",
      "curr_limb_concept_networks= {0: [<networkx_utils.GraphOrderedEdges object at 0x7f931430d9b0>]}\n",
      "curr_limb_concept_networks= {0: [<networkx_utils.GraphOrderedEdges object at 0x7f930b520940>]}\n",
      "curr_limb_concept_networks= {0: [<networkx_utils.GraphOrderedEdges object at 0x7f930b520a58>]}\n",
      "curr_limb_concept_networks= {0: [<networkx_utils.GraphOrderedEdges object at 0x7f931ffec080>]}\n",
      "--- 4) Finshed generating Limb objects and adding them to concept graph: 2.566143035888672\n",
      "--- 5) SKIPPING Doing the adaptive mesh correspondence on the meshparty preprocessing ---\n",
      "--- 6) SKIPPING Using the computed_attribute_dict to populate neuron attributes ---\n",
      "self.n_limbs = 6\n",
      "7) Calculating the spines for the neuorn if do not already exist\n",
      "Total time for neuron instance creation = 5.352369546890259\n",
      "\n",
      "\n",
      "Number of seperate neuron objects = 1\n"
     ]
    }
   ],
   "source": [
    "filter_time = time.time()\n",
    "neuron_axon_merges,total_area_axon_merges,total_sk_distance_axon_merges = pru.filter_away_axon_on_dendrite_merges(\n",
    "                input_neuron,\n",
    "                use_pre_existing_axon_error_labels=True,\n",
    "                plot_limb_branch_filter_with_disconnect_effect=True,\n",
    "                return_error_info=True)\n",
    "\n",
    "if debug_time:\n",
    "    print(f\"Axon on Dendrite Merge Filter = {time.time() - filter_time}\")\n",
    "    filter_time = time.time()"
   ]
  },
  {
   "cell_type": "code",
   "execution_count": 62,
   "metadata": {},
   "outputs": [
    {
     "name": "stdout",
     "output_type": "stream",
     "text": [
      "\n",
      " --Filter Away Axon on Dendrite Merges Results --\n",
      "total_area_axon_merges=1685.7626820915536\n",
      "total_sk_distance_axon_merges=2271.1698364736794\n"
     ]
    }
   ],
   "source": [
    "if verbose:\n",
    "    print(\"\\n --Filter Away Axon on Dendrite Merges Results --\")\n",
    "    print(f\"total_area_axon_merges={total_area_axon_merges}\")\n",
    "    print(f\"total_sk_distance_axon_merges={total_sk_distance_axon_merges}\")"
   ]
  },
  {
   "cell_type": "code",
   "execution_count": 63,
   "metadata": {},
   "outputs": [
    {
     "name": "stdout",
     "output_type": "stream",
     "text": [
      "\n",
      " Working on visualization type: mesh\n"
     ]
    },
    {
     "data": {
      "application/vnd.jupyter.widget-view+json": {
       "model_id": "55b25aa079d740c493bb31f9559b4adc",
       "version_major": 2,
       "version_minor": 0
      },
      "text/plain": [
       "VBox(children=(Figure(camera=PerspectiveCamera(fov=46.0, position=(0.0, 0.0, 2.0), quaternion=(0.0, 0.0, 0.0, …"
      ]
     },
     "metadata": {},
     "output_type": "display_data"
    }
   ],
   "source": [
    "nviz.visualize_neuron_lite(neuron_axon_merges)"
   ]
  },
  {
   "cell_type": "markdown",
   "metadata": {},
   "source": [
    "# -- Step 2: Removing Hairball Mess --"
   ]
  },
  {
   "cell_type": "code",
   "execution_count": 78,
   "metadata": {},
   "outputs": [],
   "source": [
    "function_name = \"low_branch_cluster\"\n",
    "input_neuron = neuron_axon_merges"
   ]
  },
  {
   "cell_type": "code",
   "execution_count": 80,
   "metadata": {},
   "outputs": [
    {
     "data": {
      "text/plain": [
       "{'L5': array([ 0,  1,  2,  3,  4,  5,  6,  7,  8,  9, 10, 11, 12, 13, 14, 15, 16,\n",
       "        17, 18, 19, 20, 21, 22])}"
      ]
     },
     "execution_count": 80,
     "metadata": {},
     "output_type": "execute_result"
    }
   ],
   "source": [
    "# checking that the axon labels are still there\n",
    "axon_limb_branch_dict = ns.query_neuron_by_labels(input_neuron,\n",
    "                                                 matching_labels=[\"axon-like\"])\n",
    "axon_limb_branch_dict"
   ]
  },
  {
   "cell_type": "code",
   "execution_count": 81,
   "metadata": {},
   "outputs": [
    {
     "name": "stdout",
     "output_type": "stream",
     "text": [
      "limb_branch_dict was empty so returning original neuron\n",
      "low_branch_cluster Filter = 0.21339917182922363\n"
     ]
    }
   ],
   "source": [
    "filter_time = time.time()\n",
    "(neuron_axon_low_branch_cluster,\n",
    " total_area_current,\n",
    " total_sk_distance_current) = pru.filter_away_low_branch_length_clusters(input_neuron,\n",
    "                                    plot_limb_branch_filter_with_disconnect_effect=True,\n",
    "                                    use_pre_existing_axon_labels=True,\n",
    "                                    return_error_info=True\n",
    "                                   )\n",
    "\n",
    "if debug_time:\n",
    "    print(f\"{function_name} Filter = {time.time() - filter_time}\")\n",
    "    filter_time = time.time()"
   ]
  },
  {
   "cell_type": "code",
   "execution_count": 82,
   "metadata": {},
   "outputs": [
    {
     "name": "stdout",
     "output_type": "stream",
     "text": [
      "\n",
      " --Filter low_branch_cluster Results --\n",
      "total_area_axon_merges=0\n",
      "total_sk_distance_axon_merges=0\n"
     ]
    }
   ],
   "source": [
    "if verbose:\n",
    "    print(f\"\\n --Filter {function_name} Results --\")\n",
    "    print(f\"total_area_axon_merges={total_area_current}\")\n",
    "    print(f\"total_sk_distance_axon_merges={total_sk_distance_current}\")"
   ]
  },
  {
   "cell_type": "markdown",
   "metadata": {},
   "source": [
    "# -- Step 3: Remove Dendritic Parts on Axon --"
   ]
  },
  {
   "cell_type": "code",
   "execution_count": 75,
   "metadata": {},
   "outputs": [],
   "source": [
    "function_name = \"dendritic_merges\""
   ]
  },
  {
   "cell_type": "code",
   "execution_count": 64,
   "metadata": {},
   "outputs": [],
   "source": [
    "input_neuron = neuron_axon_merges"
   ]
  },
  {
   "cell_type": "code",
   "execution_count": 72,
   "metadata": {},
   "outputs": [
    {
     "data": {
      "text/plain": [
       "{'L5': array([ 0,  1,  2,  3,  4,  5,  6,  7,  8,  9, 10, 11, 12, 13, 14, 15, 16,\n",
       "        17, 18, 19, 20, 21, 22])}"
      ]
     },
     "execution_count": 72,
     "metadata": {},
     "output_type": "execute_result"
    }
   ],
   "source": [
    "# checking that the axon labels are still there\n",
    "axon_limb_branch_dict = ns.query_neuron_by_labels(input_neuron,\n",
    "                                                 matching_labels=[\"axon\"])\n",
    "axon_limb_branch_dict"
   ]
  },
  {
   "cell_type": "code",
   "execution_count": 73,
   "metadata": {},
   "outputs": [
    {
     "name": "stdout",
     "output_type": "stream",
     "text": [
      "Using pre-existing axon and axon-like labels\n",
      "limb_branch_dict was empty so returning original neuron\n",
      "Dendrite on Axon Merge Filter = 0.6090376377105713\n"
     ]
    }
   ],
   "source": [
    "filter_time = time.time()\n",
    "(neuron_axon_dendrite_merges,\n",
    " total_area_dendrite_merges,\n",
    " total_sk_distance_dendrite_merges) = pru.filter_away_dendrite_on_axon_merges(input_neuron,\n",
    "                                    plot_limb_branch_filter_with_disconnect_effect=True,\n",
    "                                    use_pre_existing_axon_labels=True,\n",
    "                                    return_error_info=True\n",
    "                                   )\n",
    "\n",
    "if debug_time:\n",
    "    print(f\"Dendrite on Axon Merge Filter = {time.time() - filter_time}\")\n",
    "    filter_time = time.time()"
   ]
  },
  {
   "cell_type": "code",
   "execution_count": 77,
   "metadata": {},
   "outputs": [
    {
     "name": "stdout",
     "output_type": "stream",
     "text": [
      "\n",
      " --Filter dendritic_merges Results --\n",
      "total_area_axon_merges=0\n",
      "total_sk_distance_axon_merges=0\n"
     ]
    }
   ],
   "source": [
    "if verbose:\n",
    "    print(f\"\\n --Filter {function_name} Results --\")\n",
    "    print(f\"total_area_axon_merges={total_area_dendrite_merges}\")\n",
    "    print(f\"total_sk_distance_axon_merges={total_sk_distance_dendrite_merges}\")"
   ]
  },
  {
   "cell_type": "code",
   "execution_count": null,
   "metadata": {},
   "outputs": [],
   "source": [
    "# Step 3: "
   ]
  }
 ],
 "metadata": {
  "kernelspec": {
   "display_name": "Python 3",
   "language": "python",
   "name": "python3"
  },
  "language_info": {
   "codemirror_mode": {
    "name": "ipython",
    "version": 3
   },
   "file_extension": ".py",
   "mimetype": "text/x-python",
   "name": "python",
   "nbconvert_exporter": "python",
   "pygments_lexer": "ipython3",
   "version": "3.6.9"
  }
 },
 "nbformat": 4,
 "nbformat_minor": 4
}
