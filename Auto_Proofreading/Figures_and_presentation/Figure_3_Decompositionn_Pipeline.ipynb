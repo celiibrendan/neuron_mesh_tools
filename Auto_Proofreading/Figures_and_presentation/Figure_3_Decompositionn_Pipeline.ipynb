{
 "cells": [
  {
   "cell_type": "code",
   "execution_count": null,
   "metadata": {},
   "outputs": [],
   "source": [
    "\"\"\"\n",
    "Purpose: To get screenshots of different types of reconstruction graph errors\n",
    "\n",
    "\n",
    "\"\"\""
   ]
  },
  {
   "cell_type": "code",
   "execution_count": 1,
   "metadata": {},
   "outputs": [],
   "source": [
    "%load_ext autoreload\n",
    "%autoreload 2"
   ]
  },
  {
   "cell_type": "code",
   "execution_count": 2,
   "metadata": {},
   "outputs": [],
   "source": [
    "from os import sys\n",
    "sys.path.append(\"/meshAfterParty/\")\n",
    "sys.path.append(\"/meshAfterParty/meshAfterParty/\")"
   ]
  },
  {
   "cell_type": "code",
   "execution_count": 3,
   "metadata": {},
   "outputs": [
    {
     "name": "stderr",
     "output_type": "stream",
     "text": [
      "INFO - 2021-03-06 03:55:32,612 - settings - Setting database.host to at-database.ad.bcm.edu\n",
      "INFO - 2021-03-06 03:55:32,615 - settings - Setting database.user to celiib\n",
      "INFO - 2021-03-06 03:55:32,617 - settings - Setting database.password to newceliipass\n",
      "INFO - 2021-03-06 03:55:32,630 - settings - Setting stores to {'minnie65': {'protocol': 'file', 'location': '/mnt/dj-stor01/platinum/minnie65', 'stage': '/mnt/dj-stor01/platinum/minnie65'}, 'meshes': {'protocol': 'file', 'location': '/mnt/dj-stor01/platinum/minnie65/02/meshes', 'stage': '/mnt/dj-stor01/platinum/minnie65/02/meshes'}, 'decimated_meshes': {'protocol': 'file', 'location': '/mnt/dj-stor01/platinum/minnie65/02/decimated_meshes', 'stage': '/mnt/dj-stor01/platinum/minnie65/02/decimated_meshes'}, 'skeletons': {'protocol': 'file', 'location': '/mnt/dj-stor01/platinum/minnie65/02/skeletons'}}\n",
      "INFO - 2021-03-06 03:55:32,632 - settings - Setting enable_python_native_blobs to True\n",
      "INFO - 2021-03-06 03:55:32,649 - connection - Connected celiib@at-database.ad.bcm.edu:3306\n"
     ]
    },
    {
     "name": "stdout",
     "output_type": "stream",
     "text": [
      "Connecting celiib@at-database.ad.bcm.edu:3306\n"
     ]
    },
    {
     "name": "stderr",
     "output_type": "stream",
     "text": [
      "INFO - 2021-03-06 03:55:33,113 - settings - Setting enable_python_native_blobs to True\n",
      "INFO - 2021-03-06 03:55:33,118 - settings - Setting database.host to at-database.ad.bcm.edu\n",
      "INFO - 2021-03-06 03:55:33,119 - settings - Setting database.user to celiib\n",
      "INFO - 2021-03-06 03:55:33,120 - settings - Setting database.password to newceliipass\n",
      "INFO - 2021-03-06 03:55:33,122 - settings - Setting database.host to at-database.ad.bcm.edu\n",
      "INFO - 2021-03-06 03:55:33,123 - settings - Setting database.user to celiib\n",
      "INFO - 2021-03-06 03:55:33,125 - settings - Setting database.password to newceliipass\n",
      "INFO - 2021-03-06 03:55:33,126 - settings - Setting enable_python_native_blobs to True\n",
      "INFO - 2021-03-06 03:55:33,473 - settings - Setting enable_python_native_blobs to True\n",
      "INFO - 2021-03-06 03:55:33,518 - settings - Setting database.host to at-database.ad.bcm.edu\n",
      "INFO - 2021-03-06 03:55:33,520 - settings - Setting database.user to celiib\n",
      "INFO - 2021-03-06 03:55:33,522 - settings - Setting database.password to newceliipass\n",
      "INFO - 2021-03-06 03:55:33,525 - settings - Setting enable_python_native_blobs to True\n",
      "INFO - 2021-03-06 03:55:34,021 - settings - Setting enable_python_native_blobs to True\n"
     ]
    }
   ],
   "source": [
    "import datajoint_utils as du\n",
    "minnie,schema = du.configure_minnie_vm()"
   ]
  },
  {
   "cell_type": "code",
   "execution_count": 4,
   "metadata": {},
   "outputs": [],
   "source": [
    "from pathlib import Path\n",
    "import numpy as np\n",
    "import neuron_visualizations as nviz\n",
    "import datajoint as dj\n",
    "\n",
    "import proofreading_utils as pru\n",
    "import classification_utils as clu\n",
    "\n",
    "import neuron_utils as nru\n",
    "import validation_utils as vu\n",
    "import pandas as pd"
   ]
  },
  {
   "cell_type": "code",
   "execution_count": 5,
   "metadata": {},
   "outputs": [
    {
     "data": {
      "text/plain": [
       "'\"\\nScreenshots we want\\n\\n1) Multi-Soma\\n2) Missing Presyn\\n3) Missing Postsyn\\n4) False Presyn\\n5) False Postsyn\\n\\n'"
      ]
     },
     "execution_count": 5,
     "metadata": {},
     "output_type": "execute_result"
    }
   ],
   "source": [
    "\"\"\"\"\n",
    "Screenshots we want\n",
    "\n",
    "1) Multi-Soma\n",
    "2) Missing Presyn\n",
    "3) Missing Postsyn\n",
    "4) False Presyn\n",
    "5) False Postsyn\n",
    "\n",
    "\"\"\""
   ]
  },
  {
   "cell_type": "code",
   "execution_count": 6,
   "metadata": {},
   "outputs": [],
   "source": [
    "segment_id = 864691135462301853"
   ]
  },
  {
   "cell_type": "markdown",
   "metadata": {},
   "source": [
    "# 1) Multi-Soma"
   ]
  },
  {
   "cell_type": "code",
   "execution_count": 10,
   "metadata": {
    "scrolled": true
   },
   "outputs": [
    {
     "name": "stdout",
     "output_type": "stream",
     "text": [
      "Segment_id = 864691135462301853\n",
      "vertices = 1556765, faces= = 3163472\n",
      "subtracting glia and nuclei\n",
      "curr_colors = ['black', 'black', 'aqua', 'black']\n",
      "curr_soma_meshes_filtered = [<trimesh.Trimesh(vertices.shape=(18422, 3), faces.shape=(36546, 3))>, <trimesh.Trimesh(vertices.shape=(14242, 3), faces.shape=(28117, 3))>]\n",
      "other_meshes_to_plot = [<trimesh.Trimesh(vertices.shape=(738641, 3), faces.shape=(1500843, 3))>, <trimesh.Trimesh(vertices.shape=(39656, 3), faces.shape=(104080, 3))>]\n"
     ]
    },
    {
     "name": "stderr",
     "output_type": "stream",
     "text": [
      "/usr/local/lib/python3.6/dist-packages/traittypes/traittypes.py:101: UserWarning: Given trait value dtype \"float64\" does not match required type \"float64\". A coerced copy has been created.\n",
      "  np.dtype(self.dtype).name))\n"
     ]
    },
    {
     "data": {
      "application/vnd.jupyter.widget-view+json": {
       "model_id": "9de8493882104a07a7e55d4807ba79c5",
       "version_major": 2,
       "version_minor": 0
      },
      "text/plain": [
       "VBox(children=(Figure(camera=PerspectiveCamera(fov=46.0, position=(0.0, 0.0, 2.0), projectionMatrix=(1.0, 0.0,…"
      ]
     },
     "metadata": {},
     "output_type": "display_data"
    }
   ],
   "source": [
    "#plotting the glia removal\n",
    "du.plot_decimated_mesh_with_somas(segment_id,\n",
    "                                  plot_glia_nuclei=True,\n",
    "                                  glia_color=\"aqua\",\n",
    "                                  soma_color=\"black\",\n",
    "                                 main_mesh_color=\"black\",\n",
    "                                  main_mesh_alpha=1,\n",
    "                                 mesh_alpha=1)"
   ]
  },
  {
   "cell_type": "code",
   "execution_count": 9,
   "metadata": {
    "scrolled": true
   },
   "outputs": [
    {
     "name": "stdout",
     "output_type": "stream",
     "text": [
      "Segment_id = 864691135462301853\n",
      "vertices = 1556765, faces= = 3163472\n",
      "subtracting glia and nuclei\n",
      "curr_colors = ['red', 'red']\n",
      "curr_soma_meshes_filtered = [<trimesh.Trimesh(vertices.shape=(18422, 3), faces.shape=(36546, 3))>, <trimesh.Trimesh(vertices.shape=(14242, 3), faces.shape=(28117, 3))>]\n",
      "other_meshes_to_plot = []\n"
     ]
    },
    {
     "name": "stderr",
     "output_type": "stream",
     "text": [
      "/usr/local/lib/python3.6/dist-packages/traittypes/traittypes.py:101: UserWarning: Given trait value dtype \"float64\" does not match required type \"float64\". A coerced copy has been created.\n",
      "  np.dtype(self.dtype).name))\n"
     ]
    },
    {
     "data": {
      "application/vnd.jupyter.widget-view+json": {
       "model_id": "2971c0d35efb4bd58bd3ee1273426f92",
       "version_major": 2,
       "version_minor": 0
      },
      "text/plain": [
       "VBox(children=(Figure(camera=PerspectiveCamera(fov=46.0, position=(0.0, 0.0, 2.0), projectionMatrix=(1.0, 0.0,…"
      ]
     },
     "metadata": {},
     "output_type": "display_data"
    }
   ],
   "source": [
    "#plotting the soma identification\n",
    "du.plot_decimated_mesh_with_somas(segment_id,\n",
    "                                  plot_glia_nuclei=False,\n",
    "                                  soma_color=\"red\",\n",
    "                                 main_mesh_color=\"black\",\n",
    "                                  main_mesh_alpha=1,\n",
    "                                 mesh_alpha=1)"
   ]
  },
  {
   "cell_type": "code",
   "execution_count": null,
   "metadata": {},
   "outputs": [],
   "source": [
    "# Going to get the neuron object so can "
   ]
  },
  {
   "cell_type": "code",
   "execution_count": 42,
   "metadata": {},
   "outputs": [
    {
     "data": {
      "text/html": [
       "\n",
       "        \n",
       "        <style type=\"text/css\">\n",
       "            .Relation{\n",
       "                border-collapse:collapse;\n",
       "            }\n",
       "            .Relation th{\n",
       "                background: #A0A0A0; color: #ffffff; padding:4px; border:#f0e0e0 1px solid;\n",
       "                font-weight: normal; font-family: monospace; font-size: 100%;\n",
       "            }\n",
       "            .Relation td{\n",
       "                padding:4px; border:#f0e0e0 1px solid; font-size:100%;\n",
       "            }\n",
       "            .Relation tr:nth-child(odd){\n",
       "                background: #ffffff;\n",
       "            }\n",
       "            .Relation tr:nth-child(even){\n",
       "                background: #f3f1ff;\n",
       "            }\n",
       "            /* Tooltip container */\n",
       "            .djtooltip {\n",
       "            }\n",
       "            /* Tooltip text */\n",
       "            .djtooltip .djtooltiptext {\n",
       "                visibility: hidden;\n",
       "                width: 120px;\n",
       "                background-color: black;\n",
       "                color: #fff;\n",
       "                text-align: center;\n",
       "                padding: 5px 0;\n",
       "                border-radius: 6px;\n",
       "                /* Position the tooltip text - see examples below! */\n",
       "                position: absolute;\n",
       "                z-index: 1;\n",
       "            }\n",
       "            #primary {\n",
       "                font-weight: bold;\n",
       "                color: black;\n",
       "            }\n",
       "\n",
       "            #nonprimary {\n",
       "                font-weight: normal;\n",
       "                color: white;\n",
       "            }\n",
       "\n",
       "            /* Show the tooltip text when you mouse over the tooltip container */\n",
       "            .djtooltip:hover .djtooltiptext {\n",
       "                visibility: visible;\n",
       "            }\n",
       "        </style>\n",
       "        \n",
       "        <b></b>\n",
       "            <div style=\"max-height:1000px;max-width:1500px;overflow:auto;\">\n",
       "            <table border=\"1\" class=\"Relation\">\n",
       "                <thead> <tr style=\"text-align: right;\"> <th> <div class=\"djtooltip\">\n",
       "                                <p id=\"primary\">segment_id</p>\n",
       "                                <span class=\"djtooltiptext\">segment id unique within each Segmentation</span>\n",
       "                            </div></th><th><div class=\"djtooltip\">\n",
       "                                <p id=\"primary\">decimation_version</p>\n",
       "                                <span class=\"djtooltiptext\"></span>\n",
       "                            </div></th><th><div class=\"djtooltip\">\n",
       "                                <p id=\"primary\">decimation_ratio</p>\n",
       "                                <span class=\"djtooltiptext\">ratio of remaining mesh vertices/faces (which ones depends on what metric the decimation technique uses)</span>\n",
       "                            </div></th><th><div class=\"djtooltip\">\n",
       "                                <p id=\"primary\">ver</p>\n",
       "                                <span class=\"djtooltiptext\">the version number of the materializaiton</span>\n",
       "                            </div></th><th><div class=\"djtooltip\">\n",
       "                                <p id=\"primary\">process_version</p>\n",
       "                                <span class=\"djtooltiptext\">the version of the preprocessing pipeline run</span>\n",
       "                            </div></th><th><div class=\"djtooltip\">\n",
       "                                <p id=\"primary\">index</p>\n",
       "                                <span class=\"djtooltiptext\">the index of the neuron object that resulted from that mesh (indexed starting at 0)</span>\n",
       "                            </div></th><th><div class=\"djtooltip\">\n",
       "                                <p id=\"nonprimary\">multiplicity</p>\n",
       "                                <span class=\"djtooltiptext\">the number of somas found for this base segment</span>\n",
       "                            </div></th><th><div class=\"djtooltip\">\n",
       "                                <p id=\"nonprimary\">decomposition</p>\n",
       "                                <span class=\"djtooltiptext\"></span>\n",
       "                            </div></th><th><div class=\"djtooltip\">\n",
       "                                <p id=\"nonprimary\">n_vertices</p>\n",
       "                                <span class=\"djtooltiptext\">number of vertices</span>\n",
       "                            </div></th><th><div class=\"djtooltip\">\n",
       "                                <p id=\"nonprimary\">n_faces</p>\n",
       "                                <span class=\"djtooltiptext\">number of faces</span>\n",
       "                            </div></th><th><div class=\"djtooltip\">\n",
       "                                <p id=\"nonprimary\">n_not_processed_soma_containing_meshes</p>\n",
       "                                <span class=\"djtooltiptext\">the number of meshes with somas that were not processed</span>\n",
       "                            </div></th><th><div class=\"djtooltip\">\n",
       "                                <p id=\"nonprimary\">n_error_limbs</p>\n",
       "                                <span class=\"djtooltiptext\">the number of limbs that are touching multiple somas or 1 soma in multiple places</span>\n",
       "                            </div></th><th><div class=\"djtooltip\">\n",
       "                                <p id=\"nonprimary\">n_same_soma_multi_touching_limbs</p>\n",
       "                                <span class=\"djtooltiptext\">number of limbs that touch the same soma multiple times</span>\n",
       "                            </div></th><th><div class=\"djtooltip\">\n",
       "                                <p id=\"nonprimary\">n_multi_soma_touching_limbs</p>\n",
       "                                <span class=\"djtooltiptext\">number of limbs that touch multiple somas</span>\n",
       "                            </div></th><th><div class=\"djtooltip\">\n",
       "                                <p id=\"nonprimary\">n_somas</p>\n",
       "                                <span class=\"djtooltiptext\">number of soma meshes detected</span>\n",
       "                            </div></th><th><div class=\"djtooltip\">\n",
       "                                <p id=\"nonprimary\">n_limbs</p>\n",
       "                                <span class=\"djtooltiptext\"></span>\n",
       "                            </div></th><th><div class=\"djtooltip\">\n",
       "                                <p id=\"nonprimary\">n_branches</p>\n",
       "                                <span class=\"djtooltiptext\"></span>\n",
       "                            </div></th><th><div class=\"djtooltip\">\n",
       "                                <p id=\"nonprimary\">max_limb_n_branches</p>\n",
       "                                <span class=\"djtooltiptext\"></span>\n",
       "                            </div></th><th><div class=\"djtooltip\">\n",
       "                                <p id=\"nonprimary\">skeletal_length</p>\n",
       "                                <span class=\"djtooltiptext\"></span>\n",
       "                            </div></th><th><div class=\"djtooltip\">\n",
       "                                <p id=\"nonprimary\">max_limb_skeletal_length</p>\n",
       "                                <span class=\"djtooltiptext\"></span>\n",
       "                            </div></th><th><div class=\"djtooltip\">\n",
       "                                <p id=\"nonprimary\">median_branch_length</p>\n",
       "                                <span class=\"djtooltiptext\">gives information on average skeletal length to next branch point</span>\n",
       "                            </div></th><th><div class=\"djtooltip\">\n",
       "                                <p id=\"nonprimary\">width_median</p>\n",
       "                                <span class=\"djtooltiptext\">median width from mesh center without spines removed</span>\n",
       "                            </div></th><th><div class=\"djtooltip\">\n",
       "                                <p id=\"nonprimary\">width_no_spine_median</p>\n",
       "                                <span class=\"djtooltiptext\">median width from mesh center with spines removed</span>\n",
       "                            </div></th><th><div class=\"djtooltip\">\n",
       "                                <p id=\"nonprimary\">width_90_perc</p>\n",
       "                                <span class=\"djtooltiptext\">90th percentile for width without spines removed</span>\n",
       "                            </div></th><th><div class=\"djtooltip\">\n",
       "                                <p id=\"nonprimary\">width_no_spine_90_perc</p>\n",
       "                                <span class=\"djtooltiptext\">90th percentile for width with spines removed</span>\n",
       "                            </div></th><th><div class=\"djtooltip\">\n",
       "                                <p id=\"nonprimary\">n_spines</p>\n",
       "                                <span class=\"djtooltiptext\"></span>\n",
       "                            </div></th><th><div class=\"djtooltip\">\n",
       "                                <p id=\"nonprimary\">spine_density</p>\n",
       "                                <span class=\"djtooltiptext\">n_spines/ skeletal_length</span>\n",
       "                            </div></th><th><div class=\"djtooltip\">\n",
       "                                <p id=\"nonprimary\">spines_per_branch</p>\n",
       "                                <span class=\"djtooltiptext\"></span>\n",
       "                            </div></th><th><div class=\"djtooltip\">\n",
       "                                <p id=\"nonprimary\">skeletal_length_eligible</p>\n",
       "                                <span class=\"djtooltiptext\">the skeletal length for all branches searched for spines</span>\n",
       "                            </div></th><th><div class=\"djtooltip\">\n",
       "                                <p id=\"nonprimary\">n_spine_eligible_branches</p>\n",
       "                                <span class=\"djtooltiptext\">the number of branches that were checked for spines because passed width threshold</span>\n",
       "                            </div></th><th><div class=\"djtooltip\">\n",
       "                                <p id=\"nonprimary\">spine_density_eligible</p>\n",
       "                                <span class=\"djtooltiptext\">n_spines/skeletal_length_eligible</span>\n",
       "                            </div></th><th><div class=\"djtooltip\">\n",
       "                                <p id=\"nonprimary\">spines_per_branch_eligible</p>\n",
       "                                <span class=\"djtooltiptext\">n_spines/n_spine_eligible_branches</span>\n",
       "                            </div></th><th><div class=\"djtooltip\">\n",
       "                                <p id=\"nonprimary\">total_spine_volume</p>\n",
       "                                <span class=\"djtooltiptext\">the sum of all spine volume</span>\n",
       "                            </div></th><th><div class=\"djtooltip\">\n",
       "                                <p id=\"nonprimary\">spine_volume_median</p>\n",
       "                                <span class=\"djtooltiptext\">median of the spine volume for those spines with able to calculate volume</span>\n",
       "                            </div></th><th><div class=\"djtooltip\">\n",
       "                                <p id=\"nonprimary\">spine_volume_density</p>\n",
       "                                <span class=\"djtooltiptext\">total_spine_volume/skeletal_length</span>\n",
       "                            </div></th><th><div class=\"djtooltip\">\n",
       "                                <p id=\"nonprimary\">spine_volume_density_eligible</p>\n",
       "                                <span class=\"djtooltiptext\">total_spine_volume/skeletal_length_eligible</span>\n",
       "                            </div></th><th><div class=\"djtooltip\">\n",
       "                                <p id=\"nonprimary\">spine_volume_per_branch_eligible</p>\n",
       "                                <span class=\"djtooltiptext\">total_spine_volume/n_spine_eligible_branches</span>\n",
       "                            </div></th><th><div class=\"djtooltip\">\n",
       "                                <p id=\"nonprimary\">run_time</p>\n",
       "                                <span class=\"djtooltiptext\">the amount of time to run (seconds)</span>\n",
       "                            </div> </th> </tr> </thead>\n",
       "                <tbody> <tr> <td>864691135462301853</td>\n",
       "<td>0</td>\n",
       "<td>0.25</td>\n",
       "<td>30.00</td>\n",
       "<td>5</td>\n",
       "<td>0</td>\n",
       "<td>1</td>\n",
       "<td>=BLOB=</td>\n",
       "<td>1556765</td>\n",
       "<td>3163472</td>\n",
       "<td>0</td>\n",
       "<td>2</td>\n",
       "<td>2</td>\n",
       "<td>1</td>\n",
       "<td>2</td>\n",
       "<td>10</td>\n",
       "<td>191</td>\n",
       "<td>77</td>\n",
       "<td>7709443.709327371</td>\n",
       "<td>3313582.5325792735</td>\n",
       "<td>26006.11</td>\n",
       "<td>297.587</td>\n",
       "<td>265.991</td>\n",
       "<td>464.396</td>\n",
       "<td>438.299</td>\n",
       "<td>3309</td>\n",
       "<td>0.00042921384794554804</td>\n",
       "<td>17.32460732984293</td>\n",
       "<td>6100326.762</td>\n",
       "<td>142</td>\n",
       "<td>0.0005424299597543427</td>\n",
       "<td>23.303</td>\n",
       "<td>555362402890.0355</td>\n",
       "<td>110235075.04633203</td>\n",
       "<td>72036.63763938287</td>\n",
       "<td>91038.14017791388</td>\n",
       "<td>3911002837.2537713</td>\n",
       "<td>3081.0037</td> </tr> </tbody>\n",
       "            </table>\n",
       "            \n",
       "            <p>Total: 1</p></div>\n",
       "            "
      ],
      "text/plain": [
       "*segment_id    *decimation_ve *decimation_ra *ver      *process_versi *index    multiplicity   decomposit n_vertices     n_faces     n_not_processe n_error_limbs  n_same_soma_mu n_multi_soma_t n_somas     n_limbs     n_branches     max_limb_n_bra skeletal_lengt max_limb_skele median_branch_ width_median   width_no_spine width_90_perc  width_no_spine n_spines     spine_density  spines_per_bra skeletal_lengt n_spine_eligib spine_density_ spines_per_bra total_spine_vo spine_volume_m spine_volume_d spine_volume_d spine_volume_p run_time     \n",
       "+------------+ +------------+ +------------+ +-------+ +------------+ +-------+ +------------+ +--------+ +------------+ +---------+ +------------+ +------------+ +------------+ +------------+ +---------+ +---------+ +------------+ +------------+ +------------+ +------------+ +------------+ +------------+ +------------+ +------------+ +------------+ +----------+ +------------+ +------------+ +------------+ +------------+ +------------+ +------------+ +------------+ +------------+ +------------+ +------------+ +------------+ +-----------+\n",
       "86469113546230 0              0.25           30.00     5              0         1              =BLOB=     1556765        3163472     0              2              2              1              2           10          191            77             7709443.709327 3313582.532579 26006.11       297.587        265.991        464.396        438.299        3309         0.000429213847 17.32460732984 6100326.762    142            0.000542429959 23.303         555362402890.0 110235075.0463 72036.63763938 91038.14017791 3911002837.253 3081.0037    \n",
       " (Total: 1)"
      ]
     },
     "execution_count": 42,
     "metadata": {},
     "output_type": "execute_result"
    }
   ],
   "source": [
    "(minnie.Decomposition() & dict(segment_id=segment_id))"
   ]
  },
  {
   "cell_type": "code",
   "execution_count": 100,
   "metadata": {},
   "outputs": [
    {
     "name": "stdout",
     "output_type": "stream",
     "text": [
      "Decompressing Neuron in minimal output mode...please wait\n"
     ]
    },
    {
     "data": {
      "text/plain": [
       "<neuron.Neuron at 0x7f1ef8ed7860>"
      ]
     },
     "execution_count": 100,
     "metadata": {},
     "output_type": "execute_result"
    }
   ],
   "source": [
    "neuron_obj = (minnie.Decomposition() & dict(segment_id=segment_id)).fetch1(\"decomposition\")\n",
    "neuron_obj"
   ]
  },
  {
   "cell_type": "code",
   "execution_count": 101,
   "metadata": {},
   "outputs": [
    {
     "name": "stdout",
     "output_type": "stream",
     "text": [
      "\n",
      " Working on visualization type: skeleton\n",
      "\n",
      " Working on visualization type: mesh\n"
     ]
    },
    {
     "data": {
      "application/vnd.jupyter.widget-view+json": {
       "model_id": "775affe84fb544d7a636c7e640db81dc",
       "version_major": 2,
       "version_minor": 0
      },
      "text/plain": [
       "VBox(children=(Figure(camera=PerspectiveCamera(fov=46.0, position=(0.0, 0.0, 2.0), projectionMatrix=(1.0, 0.0,…"
      ]
     },
     "metadata": {},
     "output_type": "display_data"
    }
   ],
   "source": [
    "nviz.visualize_neuron(neuron_obj,\n",
    "                     visualize_type=[\"skeleton\",'mesh'],\n",
    "                      mesh_limb_branch_dict=dict(),\n",
    "                      mesh_soma_alpha=1,\n",
    "                      skeleton_limb_branch_dict=\"all\",\n",
    "                      skeleton_color=\"blue\",\n",
    "                      \n",
    "                     )"
   ]
  },
  {
   "cell_type": "markdown",
   "metadata": {},
   "source": [
    "# Getting the Concept Networks"
   ]
  },
  {
   "cell_type": "code",
   "execution_count": 21,
   "metadata": {},
   "outputs": [
    {
     "name": "stdout",
     "output_type": "stream",
     "text": [
      "\n",
      " Working on visualization type: network\n",
      "\n",
      " Working on visualization type: mesh\n"
     ]
    },
    {
     "data": {
      "application/vnd.jupyter.widget-view+json": {
       "model_id": "2f36c5ff40c64f79ac380ee2e7723fa3",
       "version_major": 2,
       "version_minor": 0
      },
      "text/plain": [
       "VBox(children=(Figure(camera=PerspectiveCamera(fov=46.0, position=(0.0, 0.0, 2.0), projectionMatrix=(1.0, 0.0,…"
      ]
     },
     "metadata": {},
     "output_type": "display_data"
    }
   ],
   "source": [
    "nviz.visualize_neuron(neuron_obj,\n",
    "                     visualize_type=[\"network\",'mesh'],\n",
    "                      mesh_soma_alpha=1,\n",
    "                      network_directional=True,\n",
    "                      node_size=0.8,\n",
    "                      arrow_size =1.3,\n",
    "                      arrow_color=\"black\",\n",
    "                      network_color_alpha=1,\n",
    "                      arrow_alpha=1,\n",
    "                      limb_branch_dict=\"all\",\n",
    "                      mesh_limb_branch_dict=dict(),\n",
    "                     )"
   ]
  },
  {
   "cell_type": "code",
   "execution_count": null,
   "metadata": {},
   "outputs": [],
   "source": [
    "nviz.plot_soma_limb_concept_network"
   ]
  },
  {
   "cell_type": "code",
   "execution_count": 23,
   "metadata": {},
   "outputs": [
    {
     "data": {
      "image/png": "[encoded data removed]",
      "text/plain": [
       "<Figure size 432x288 with 1 Axes>"
      ]
     },
     "metadata": {},
     "output_type": "display_data"
    }
   ],
   "source": [
    "nviz.plot_soma_limb_concept_network(neuron_obj,\n",
    "                                    multi_touch_color=\"aqua\",\n",
    "                            )"
   ]
  },
  {
   "cell_type": "markdown",
   "metadata": {},
   "source": [
    "# Getting the Objects Split Suggestions and Splitting"
   ]
  },
  {
   "cell_type": "code",
   "execution_count": 24,
   "metadata": {},
   "outputs": [
    {
     "name": "stdout",
     "output_type": "stream",
     "text": [
      "multi_soma_limbs = [0]\n",
      "multi_touch_limbs = [0 2]\n",
      "\n",
      "\n",
      " -------- Working on limb 0------------\n",
      "Starting combinations to process = [[60 73]\n",
      " [60 74]\n",
      " [73 74]]\n",
      "\n",
      "\n",
      "---- working on disconnecting 60 and 73\n",
      "---- This disconnects S0_0 from S1_0  \n",
      " Cut iteration 0\n",
      "Total number of graphs at the end of the split BEFORE DIRECTIONAL = 1\n",
      "Total number of graphs at the end of the split AFTER DIRECTIONAL = 1\n",
      "Shortest path = [60, 57, 54, 53, 41, 32, 21, 28, 34, 36, 72, 73]\n",
      "consider_path_neighbors_for_removal is set so segments_to_consider = [11 12 13 21 28 29 32 34 35 36 39 40 41 52 53 54 55 56 57 59 64 68 72]\n",
      "Trying combining short segments with a larger threshold 2500\n",
      "Short segments to combine = [39]\n",
      "\n",
      "\n",
      "-------- Removing Segments -------------\n",
      "curr_short_seg_revised = 39\n",
      "np.sum(touch_len>0) = 2\n",
      "Using average stitch point\n",
      "touching_endpoints = [[772439.94394507 661820.16259302 762778.0021622 ]\n",
      " [773272.         661529.         764236.        ]]\n",
      "new_stitch_point = [772855.97197253 661674.58129651 763507.0010811 ]\n",
      "Angles for [ 5. 26. 32. 40. 41.] are [41.3, 117.59, 61.28, 76.43, 110.97]\n",
      "Branch that will absorb mesh of 39 is 5.0 \n",
      "Revised cut path = [60 57 54 53 41 32 21 28 34 36 72 73]\n",
      "\n",
      "-------- Done Removing Segments -------------\n",
      "\n",
      "\n",
      "Found 2 high degree coordinates to cut\n",
      "high_degree_endpoint_coordinates_widths = [259.83300833937506, 200.96909187768904]\n",
      "high_degree_order = [1 0]\n",
      "Picking [772855.97197253 661674.58129651 763507.0010811 ] high degree coordinates to cut\n",
      "curr_limb.deleted_edges 4=[]\n",
      "coordinate_branches = [5, 26, 32, 40, 41]\n",
      "5 = red\n",
      "26 = aqua\n",
      "32 = purple\n",
      "40 = green\n",
      "Angle between 5 and 26 = 100.08 \n",
      "Angle between 5 and 32 = 90.92 \n",
      "Angle between 5 and 40 = 31.46 \n",
      "Angle between 5 and 41 = 99.28 \n",
      "Angle between 26 and 32 = 131.25 \n",
      "Angle between 26 and 40 = 59.93 \n",
      "Angle between 26 and 41 = 70.91 \n",
      "Angle between 32 and 40 = 91.8 \n",
      "Angle between 32 and 41 = 22.72 \n",
      "Angle between 40 and 41 = 69.02 \n",
      "Final Matches = [[5, 40], [32, 41]]\n",
      "Original graph\n"
     ]
    },
    {
     "data": {
      "image/png": "[encoded data removed]",
      "text/plain": [
       "<Figure size 432x288 with 1 Axes>"
      ]
     },
     "metadata": {},
     "output_type": "display_data"
    },
    {
     "name": "stdout",
     "output_type": "stream",
     "text": [
      "match_branches = [array([ 5., 40.]), array([32., 41.])]\n",
      "edges_to_delete (resolve crossover) = [[5, 26], [5, 32], [5, 41], [26, 32], [26, 40], [26, 41], [32, 40], [40, 41]]\n",
      "edges_to_create (resolve crossover) = [[5.0, 40.0], [32.0, 41.0]]\n",
      "nx.number_connected_components(G) before = 1\n",
      "G.edges() = [(60, 57), (57, 54), (54, 53), (53, 41), (41, 32), (32, 21), (21, 28), (28, 34), (34, 36), (36, 72), (72, 73)]\n",
      "G.nodes() = [60, 57, 54, 53, 41, 32, 21, 28, 34, 36, 72, 73]\n",
      "nx.number_connected_components(G) after = 1\n",
      "NOT USING the resolve crossover delete edges because not help resolve the cut\n",
      "Picking [766377. 459514. 757791.] high degree coordinates to cut\n",
      "curr_limb.deleted_edges 4=[]\n",
      "coordinate_branches = [11, 21, 28, 29]\n",
      "11 = red\n",
      "21 = aqua\n",
      "28 = purple\n",
      "29 = green\n",
      "Angle between 11 and 21 = 105.11 \n",
      "Angle between 11 and 28 = 69.77 \n",
      "Angle between 11 and 29 = 83.43 \n",
      "Angle between 21 and 28 = 6.38 \n",
      "Angle between 21 and 29 = 61.97 \n",
      "Angle between 28 and 29 = 121.61 \n",
      "Final Matches = [[21, 28]]\n",
      "Original graph\n"
     ]
    },
    {
     "data": {
      "image/png": "[encoded data removed]",
      "text/plain": [
       "<Figure size 432x288 with 1 Axes>"
      ]
     },
     "metadata": {},
     "output_type": "display_data"
    },
    {
     "name": "stdout",
     "output_type": "stream",
     "text": [
      "match_branches = [array([21., 28.])]\n",
      "edges_to_delete (resolve crossover) = [[11, 21], [11, 28], [11, 29], [21, 29], [28, 29]]\n",
      "edges_to_create (resolve crossover) = [[21.0, 28.0]]\n",
      "nx.number_connected_components(G) before = 1\n",
      "G.edges() = [(60, 57), (57, 54), (54, 53), (53, 41), (41, 32), (32, 21), (21, 28), (28, 34), (34, 36), (36, 72), (72, 73)]\n",
      "G.nodes() = [60, 57, 54, 53, 41, 32, 21, 28, 34, 36, 72, 73]\n",
      "nx.number_connected_components(G) after = 1\n",
      "NOT USING the resolve crossover delete edges because not help resolve the cut\n",
      "Skipping endnode 73 because skeletal distance was 116.0529576498625 and threshold was 2500\n",
      "skip_nodes = [73]\n",
      "\n",
      "Attempting the doubling back check (symmetrical so don't need to check from both sides)\n"
     ]
    },
    {
     "data": {
      "application/vnd.jupyter.widget-view+json": {
       "model_id": "2330119f23ab485585f104ec25a4d452",
       "version_major": 2,
       "version_minor": 0
      },
      "text/plain": [
       "  0%|          | 0/10 [00:00<?, ?it/s]"
      ]
     },
     "metadata": {},
     "output_type": "display_data"
    },
    {
     "name": "stdout",
     "output_type": "stream",
     "text": [
      "  Edge: [60 57]: curr_angle = 61.81\n",
      "  Edge: [57 54]: curr_angle = 13.88\n",
      "  Edge: [54 53]: curr_angle = 10.12\n",
      "  Edge: [53 41]: curr_angle = 2.4\n",
      "  Edge: [41 32]: curr_angle = 15.33\n",
      "  Edge: [32 21]: curr_angle = 30.32\n",
      "  Edge: [21 28]: curr_angle = 10.83\n",
      "  Edge: [28 34]: curr_angle = 4.47\n",
      "  Edge: [34 36]: curr_angle = 124.18\n",
      "  Edge: [36 72]: curr_angle = 40.75\n",
      "Total time for doubling_back = 2.3840420246124268\n",
      "There were 1 edges that passed doubling back threshold of 80\n",
      "Winning edge [34 36] had a doubling back of 124.18257349287285\n",
      "edges_to_delete (cut_limb_network) = [array([12, 36]), array([34, 36])]\n",
      "edges_to_create = [[12.0, 34.0]]\n",
      "Number of connected components = 3\n",
      "Comp 0 = {64, 65, 66, 36, 68, 72, 73, 8, 15, 16, 25}\n",
      "Comp 1 = {0, 1, 2, 3, 4, 5, 6, 7, 9, 10, 11, 12, 13, 14, 17, 18, 19, 20, 21, 22, 23, 24, 26, 27, 28, 29, 30, 31, 32, 33, 34, 35, 37, 38, 40, 41, 42, 43, 44, 45, 46, 47, 48, 49, 50, 51.0, 52, 53, 54, 55, 56, 57, 58, 59, 60, 61, 62, 63, 67, 69, 70, 71, 74, 75, 76}\n",
      "Comp 2 = {39}\n",
      "curr_limb_copy.deleted_edges = [array([12, 36]), array([34, 36])]\n",
      "curr_limb_copy.created_edges = [[12.0, 34.0]]\n",
      "After get best cut: cut_edges = [array([12, 36]), array([34, 36])], added_edges = [[12.0, 34.0]]\n",
      "total_soma_paths_to_cut = []\n",
      "-----------counter = 0------------\n",
      " Cut iteration 1\n",
      "Total number of graphs at the end of the split BEFORE DIRECTIONAL = 3\n",
      "Total number of graphs at the end of the split AFTER DIRECTIONAL = 3\n",
      "No valid path so moving onto the next connection\n",
      "\n",
      "\n",
      "---- working on disconnecting 60 and 74\n",
      "---- This disconnects S0_0 from S1_1  \n",
      " Cut iteration 0\n",
      "Total number of graphs at the end of the split BEFORE DIRECTIONAL = 3\n",
      "Total number of graphs at the end of the split AFTER DIRECTIONAL = 3\n",
      "Shortest path = [60, 57, 54, 53, 41, 32, 21, 29, 71, 74]\n",
      "consider_path_neighbors_for_removal is set so segments_to_consider = [ 5  9 11 13 21 26 28 29 32 40 41 47 52 53 54 55 56 57 59 71]\n",
      "Trying combining short segments with a larger threshold 2500\n",
      "Short segments to combine = []\n",
      "Found 2 high degree coordinates to cut\n",
      "high_degree_endpoint_coordinates_widths = [259.83300833937506, 200.96909187768904]\n",
      "high_degree_order = [1 0]\n",
      "Picking [772855.97197253 661674.58129651 763507.0010811 ] high degree coordinates to cut\n",
      "curr_limb.deleted_edges 4=[array([12, 36]), array([34, 36])]\n",
      "coordinate_branches = [5, 26, 32, 40, 41]\n",
      "5 = red\n",
      "26 = aqua\n",
      "32 = purple\n",
      "40 = green\n",
      "Angle between 5 and 26 = 100.08 \n",
      "Angle between 5 and 32 = 90.92 \n",
      "Angle between 5 and 40 = 31.46 \n",
      "Angle between 5 and 41 = 99.28 \n",
      "Angle between 26 and 32 = 131.25 \n",
      "Angle between 26 and 40 = 59.93 \n",
      "Angle between 26 and 41 = 70.91 \n",
      "Angle between 32 and 40 = 91.8 \n",
      "Angle between 32 and 41 = 22.72 \n",
      "Angle between 40 and 41 = 69.02 \n",
      "Final Matches = [[5, 40], [32, 41]]\n",
      "Original graph\n"
     ]
    },
    {
     "data": {
      "image/png": "[encoded data removed]",
      "text/plain": [
       "<Figure size 432x288 with 1 Axes>"
      ]
     },
     "metadata": {},
     "output_type": "display_data"
    },
    {
     "name": "stdout",
     "output_type": "stream",
     "text": [
      "match_branches = [array([ 5., 40.]), array([32., 41.])]\n",
      "edges_to_delete (resolve crossover) = [[5, 26], [5, 32], [5, 41], [26, 32], [26, 40], [26, 41], [32, 40], [40, 41]]\n",
      "edges_to_create (resolve crossover) = [[5.0, 40.0], [32.0, 41.0]]\n",
      "nx.number_connected_components(G) before = 1\n",
      "G.edges() = [(60, 57), (57, 54), (54, 53), (53, 41), (41, 32), (32, 21), (21, 29), (29, 71), (71, 74)]\n",
      "G.nodes() = [60, 57, 54, 53, 41, 32, 21, 29, 71, 74]\n",
      "nx.number_connected_components(G) after = 1\n",
      "NOT USING the resolve crossover delete edges because not help resolve the cut\n",
      "Picking [766377. 459514. 757791.] high degree coordinates to cut\n",
      "curr_limb.deleted_edges 4=[array([12, 36]), array([34, 36])]\n",
      "coordinate_branches = [11, 21, 28, 29]\n",
      "11 = red\n",
      "21 = aqua\n",
      "28 = purple\n",
      "29 = green\n",
      "Angle between 11 and 21 = 105.11 \n",
      "Angle between 11 and 28 = 69.77 \n",
      "Angle between 11 and 29 = 83.43 \n",
      "Angle between 21 and 28 = 6.38 \n",
      "Angle between 21 and 29 = 61.97 \n",
      "Angle between 28 and 29 = 121.61 \n",
      "Final Matches = [[21, 28]]\n",
      "Original graph\n"
     ]
    },
    {
     "data": {
      "image/png": "[encoded data removed]",
      "text/plain": [
       "<Figure size 432x288 with 1 Axes>"
      ]
     },
     "metadata": {},
     "output_type": "display_data"
    },
    {
     "name": "stdout",
     "output_type": "stream",
     "text": [
      "match_branches = [array([21., 28.])]\n",
      "edges_to_delete (resolve crossover) = [[11, 21], [11, 28], [11, 29], [21, 29], [28, 29]]\n",
      "edges_to_create (resolve crossover) = [[21.0, 28.0]]\n",
      "nx.number_connected_components(G) before = 1\n",
      "G.edges() = [(60, 57), (57, 54), (54, 53), (53, 41), (41, 32), (32, 21), (29, 71), (71, 74)]\n",
      "G.nodes() = [60, 57, 54, 53, 41, 32, 21, 29, 71, 74]\n",
      "nx.number_connected_components(G) after = 2\n",
      "Using the resolve crossover delete edges because will help seperate the path\n",
      "skip_nodes = []\n",
      "edges_to_delete (cut_limb_network) = [[11, 21], [11, 28], [11, 29], [21, 29], [28, 29]]\n",
      "edges_to_create = [[21.0, 28.0]]\n",
      "Number of connected components = 5\n",
      "Comp 0 = {64, 65, 66, 36, 68, 72, 73, 8, 15, 16, 25}\n",
      "Comp 1 = {0, 1, 2, 3, 4, 5, 6, 7, 10, 12, 13, 14, 17, 18, 19, 20, 21, 22, 23, 24, 26, 27, 28, 30, 31, 32, 33, 34, 35, 37, 38, 40, 41, 42, 43, 44, 45, 46, 48, 49, 50, 51.0, 52, 53, 54, 55, 56, 57, 58, 59, 60, 61, 62, 63, 67, 69, 70, 75, 76}\n",
      "Comp 2 = {11}\n",
      "Comp 3 = {71, 9, 74, 47, 29}\n",
      "Comp 4 = {39}\n",
      "curr_limb_copy.deleted_edges = [array([12, 36]), array([34, 36]), [11, 21], [11, 28], [11, 29], [21, 29], [28, 29]]\n",
      "curr_limb_copy.created_edges = [[12.0, 34.0], [21.0, 28.0]]\n",
      "After get best cut: cut_edges = [[11, 21], [11, 28], [11, 29], [21, 29], [28, 29]], added_edges = [[21.0, 28.0]]\n",
      "total_soma_paths_to_cut = []\n",
      "-----------counter = 0------------\n",
      " Cut iteration 1\n",
      "Total number of graphs at the end of the split BEFORE DIRECTIONAL = 5\n",
      "Total number of graphs at the end of the split AFTER DIRECTIONAL = 5\n",
      "No valid path so moving onto the next connection\n",
      "\n",
      "\n",
      "---- working on disconnecting 73 and 74\n",
      "---- This disconnects S1_0 from S1_1  \n",
      " Cut iteration 0\n",
      "Total number of graphs at the end of the split BEFORE DIRECTIONAL = 5\n",
      "Total number of graphs at the end of the split AFTER DIRECTIONAL = 5\n",
      "No valid path so moving onto the next connection\n",
      "Total number of graphs at the end of the split = 5: [array([64, 65, 66, 68, 36, 72, 73,  8, 15, 16, 25]), array([ 0.,  1.,  2.,  3.,  4.,  5.,  6.,  7., 10., 12., 13., 14., 17.,\n",
      "       18., 19., 20., 21., 22., 23., 24., 26., 27., 28., 30., 31., 32.,\n",
      "       33., 34., 35., 37., 38., 40., 41., 42., 43., 44., 45., 46., 48.,\n",
      "       49., 50., 51., 52., 53., 54., 55., 56., 57., 58., 59., 60., 61.,\n",
      "       62., 63., 67., 69., 70., 75., 76.]), array([11]), array([71,  9, 74, 47, 29]), array([39])]\n",
      "\n",
      "\n",
      " -------- Working on limb 2------------\n",
      "Starting combinations to process = [[19 23]]\n",
      "\n",
      "\n",
      "---- working on disconnecting 19 and 23\n",
      "---- This disconnects S1_0 from S1_1  \n",
      " Cut iteration 0\n",
      "Total number of graphs at the end of the split BEFORE DIRECTIONAL = 1\n",
      "Total number of graphs at the end of the split AFTER DIRECTIONAL = 1\n",
      "Shortest path = [19, 20, 18, 17, 13, 9, 8, 11, 14, 40, 34, 23]\n",
      "consider_path_neighbors_for_removal is set so segments_to_consider = [ 0  2  6  8  9 10 11 13 14 15 16 17 18 20 21 22 33 34 38 39 40]\n",
      "Short segments to combine = [40]\n",
      "\n",
      "\n",
      "-------- Removing Segments -------------\n",
      "curr_short_seg_revised = 40\n",
      "np.sum(touch_len>0) = 2\n",
      "Using average stitch point\n",
      "touching_endpoints = [[838712.         437013.         789017.        ]\n",
      " [839346.90186864 436507.1992731  787823.91547932]]\n",
      "new_stitch_point = [839029.45093432 436760.09963655 788420.45773966]\n",
      "Angles for [34 39 14 38] are [65.13, 66.21, 70.37, 16.86]\n",
      "Branch that will absorb mesh of 40 is 38 \n",
      "Gettng rid of 1 nodes INSIDE SKELETON TO GRAPH CONVERSION\n",
      "Revised cut path = [19 20 18 17 13  9  8 11 14 34 23]\n",
      "\n",
      "-------- Done Removing Segments -------------\n",
      "\n",
      "\n",
      "Found 1 high degree coordinates to cut\n",
      "high_degree_endpoint_coordinates_widths = [224.73317925536017]\n",
      "high_degree_order = [0]\n",
      "Picking [839029.45093432 436760.09963655 788420.45773966] high degree coordinates to cut\n",
      "curr_limb.deleted_edges 4=[]\n",
      "coordinate_branches = [14, 34, 38, 39]\n",
      "14 = red\n",
      "34 = aqua\n",
      "38 = purple\n",
      "39 = green\n",
      "Angle between 14 and 34 = 59.94 \n",
      "Angle between 14 and 38 = 107.34 \n",
      "Angle between 14 and 39 = 123.92 \n",
      "Angle between 34 and 38 = 80.72 \n",
      "Angle between 34 and 39 = 60.18 \n",
      "Angle between 38 and 39 = 54.2 \n",
      "Final Matches = []\n",
      "Original graph\n"
     ]
    },
    {
     "data": {
      "image/png": "[encoded data removed]",
      "text/plain": [
       "<Figure size 432x288 with 1 Axes>"
      ]
     },
     "metadata": {},
     "output_type": "display_data"
    },
    {
     "name": "stdout",
     "output_type": "stream",
     "text": [
      "match_branches = []\n",
      "edges_to_delete (resolve crossover) = [[14, 34], [14, 38], [14, 39], [34, 38], [34, 39], [38, 39]]\n",
      "edges_to_create (resolve crossover) = []\n",
      "nx.number_connected_components(G) before = 1\n",
      "G.edges() = [(19, 20), (20, 18), (18, 17), (17, 13), (13, 9), (9, 8), (8, 11), (11, 14), (34, 23)]\n",
      "G.nodes() = [19, 20, 18, 17, 13, 9, 8, 11, 14, 34, 23]\n",
      "nx.number_connected_components(G) after = 2\n",
      "Using the resolve crossover delete edges because will help seperate the path\n",
      "Skipping endnode 19 because skeletal distance was 540.457529715561 and threshold was 2500\n",
      "skip_nodes = [19]\n",
      "edges_to_delete (cut_limb_network) = [[14, 34], [14, 38], [14, 39], [34, 38], [34, 39], [38, 39]]\n",
      "edges_to_create = []\n",
      "Number of connected components = 5\n",
      "Comp 0 = {0, 1, 2, 3, 4, 5, 6, 7, 8, 9, 10, 11, 12, 13, 14, 15, 16, 17, 18, 19, 20, 21, 22, 24, 25, 26, 27, 28, 29, 30, 31, 32, 35, 36, 37, 41, 42, 43, 44}\n",
      "Comp 1 = {33, 34, 23}\n",
      "Comp 2 = {38}\n",
      "Comp 3 = {39}\n",
      "Comp 4 = {40}\n",
      "curr_limb_copy.deleted_edges = [[14, 34], [14, 38], [14, 39], [34, 38], [34, 39], [38, 39]]\n",
      "curr_limb_copy.created_edges = []\n",
      "After get best cut: cut_edges = [[14, 34], [14, 38], [14, 39], [34, 38], [34, 39], [38, 39]], added_edges = []\n",
      "total_soma_paths_to_cut = []\n",
      "-----------counter = 0------------\n",
      " Cut iteration 1\n",
      "Total number of graphs at the end of the split BEFORE DIRECTIONAL = 5\n",
      "Total number of graphs at the end of the split AFTER DIRECTIONAL = 5\n",
      "No valid path so moving onto the next connection\n",
      "Total number of graphs at the end of the split = 5: [array([ 0,  1,  2,  3,  4,  5,  6,  7,  8,  9, 10, 11, 12, 13, 14, 15, 16,\n",
      "       17, 18, 19, 20, 21, 22, 24, 25, 26, 27, 28, 29, 30, 31, 32, 35, 36,\n",
      "       37, 41, 42, 43, 44]), array([33, 34, 23]), array([38]), array([39]), array([40])]\n"
     ]
    }
   ],
   "source": [
    "import proofreading_utils as pru\n",
    "limb_results = pru.multi_soma_split_suggestions(neuron_obj,\n",
    "                                               verbose=True)"
   ]
  },
  {
   "cell_type": "code",
   "execution_count": null,
   "metadata": {},
   "outputs": [],
   "source": [
    "nviz.visualize_neuron(mesh_color_alpha=)"
   ]
  },
  {
   "cell_type": "code",
   "execution_count": 50,
   "metadata": {},
   "outputs": [
    {
     "name": "stdout",
     "output_type": "stream",
     "text": [
      "\n",
      "\n",
      "-------- Suggestions for Limb 0------\n",
      "\n",
      " Working on visualization type: mesh\n",
      "\n",
      " Working on visualization type: skeleton\n"
     ]
    },
    {
     "data": {
      "application/vnd.jupyter.widget-view+json": {
       "model_id": "4bd3e15f85414f61a7b0b0234f5d31f6",
       "version_major": 2,
       "version_minor": 0
      },
      "text/plain": [
       "VBox(children=(Figure(camera=PerspectiveCamera(fov=46.0, position=(0.0, 0.0, 2.0), projectionMatrix=(1.0, 0.0,…"
      ]
     },
     "metadata": {},
     "output_type": "display_data"
    },
    {
     "name": "stdout",
     "output_type": "stream",
     "text": [
      "\n",
      "\n",
      "-------- Suggestions for Limb 2------\n",
      "Gettng rid of 1 nodes INSIDE SKELETON TO GRAPH CONVERSION\n",
      "\n",
      " Working on visualization type: mesh\n",
      "\n",
      " Working on visualization type: skeleton\n"
     ]
    },
    {
     "data": {
      "application/vnd.jupyter.widget-view+json": {
       "model_id": "5163b67fe6c1467f9d6a4b01e751652e",
       "version_major": 2,
       "version_minor": 0
      },
      "text/plain": [
       "VBox(children=(Figure(camera=PerspectiveCamera(fov=46.0, position=(0.0, 0.0, 2.0), projectionMatrix=(1.0, 0.0,…"
      ]
     },
     "metadata": {},
     "output_type": "display_data"
    }
   ],
   "source": [
    "nviz.plot_split_suggestions_per_limb(neuron_obj,\n",
    "                                    limb_results=limb_results,\n",
    "                                     scatter_alpha=1,\n",
    "                                     scatter_color=\"yellow\",\n",
    "                                     scatter_size=2.5,\n",
    "                                     \n",
    "                                    mesh_color_alpha=1,\n",
    "                                     component_colors=[\"aqua\",\"black\",\"aqua\",\"aqua\"])"
   ]
  },
  {
   "cell_type": "code",
   "execution_count": null,
   "metadata": {},
   "outputs": [],
   "source": []
  },
  {
   "cell_type": "code",
   "execution_count": 39,
   "metadata": {},
   "outputs": [
    {
     "name": "stdout",
     "output_type": "stream",
     "text": [
      "using precomputed split suggestions\n",
      "Gettng rid of 1 nodes INSIDE SKELETON TO GRAPH CONVERSION\n",
      "\n",
      "\n",
      "---Working on Splitting Limb 0 with 5 components----\n",
      "\n",
      "\n",
      "----Working on seperate_graph 0----\n",
      "\n",
      "\n",
      "---------Working on soma_idx = 1, soma_group_idx 0, endpt = [814261.94411765 433876.79705882 780089.52352941]---------\n",
      "Starting_edge inside branches_to_conept = [[814261.94411765 433876.79705882 780089.52352941]\n",
      " [814354.         433882.         780160.        ]]\n",
      "At the start, starting_node (in terms of the skeleton, that shouldn't match the starting edge) = [10]\n",
      "printing out current edge:\n",
      "[[814261.94411765 433876.79705882 780089.52352941]\n",
      " [814354.         433882.         780160.        ]]\n",
      "edge_endpoints_to_process was empty so exiting loop after 11 iterations\n",
      "starting_node in concept map (that should match the starting edge) = 6\n",
      "Total time for branches to concept conversion = 0.22029614448547363\n",
      "\n",
      "Done generating concept network \n",
      "\n",
      "\n",
      "\n",
      "\n",
      "----Working on seperate_graph 1----\n",
      "\n",
      "\n",
      "---------Working on soma_idx = 0, soma_group_idx 0, endpt = [793895.37794118 782477.85441176 783958.38676471]---------\n",
      "Starting_edge inside branches_to_conept = [[793774.11548674 772194.76980049 782937.73929241]\n",
      " [793895.37794118 782477.85441176 783958.38676471]]\n",
      "There were 1 duplication nodes found\n",
      "domination_map = {41: 39}\n",
      "At the start, starting_node (in terms of the skeleton, that shouldn't match the starting edge) = [41]\n",
      "printing out current edge:\n",
      "[[793895.37794118 782477.85441176 783958.38676471]\n",
      " [793774.11548674 772194.76980049 782937.73929241]]\n",
      "edge_endpoints_to_process was empty so exiting loop after 58 iterations\n",
      "starting_node in concept map (that should match the starting edge) = 50\n",
      "Total time for branches to concept conversion = 1.3715720176696777\n",
      "\n",
      "Working on adding back the edges that were duplicates\n",
      "Done generating concept network \n",
      "\n",
      "\n",
      "\n",
      "\n",
      "----Working on seperate_graph 2----\n",
      "There was no starting information so doing to put dummy information and random starting endpoint = [737050.14589603 486056.14834795 761543.31249532]\n",
      "\n",
      "\n",
      "---------Working on soma_idx = -1, soma_group_idx -1, endpt = [737050.14589603 486056.14834795 761543.31249532]---------\n",
      "Starting_edge inside branches_to_conept = [[737050.14589603 486056.14834795 761543.31249532]\n",
      " [766377.         459514.         757791.        ]]\n",
      "Done generating concept network \n",
      "\n",
      "\n",
      "\n",
      "\n",
      "----Working on seperate_graph 3----\n",
      "\n",
      "\n",
      "---------Working on soma_idx = 1, soma_group_idx 0, endpt = [814893.04       438631.98666667 775334.78666667]---------\n",
      "Starting_edge inside branches_to_conept = [[810000.27393395 440507.14243415 767177.1073511 ]\n",
      " [814893.04       438631.98666667 775334.78666667]]\n",
      "At the start, starting_node (in terms of the skeleton, that shouldn't match the starting edge) = [5]\n",
      "printing out current edge:\n",
      "[[814893.04       438631.98666667 775334.78666667]\n",
      " [810000.27393395 440507.14243415 767177.1073511 ]]\n",
      "edge_endpoints_to_process was empty so exiting loop after 5 iterations\n",
      "starting_node in concept map (that should match the starting edge) = 2\n",
      "Total time for branches to concept conversion = 0.13858938217163086\n",
      "\n",
      "Done generating concept network \n",
      "\n",
      "\n",
      "\n",
      "\n",
      "----Working on seperate_graph 4----\n",
      "There was no starting information so doing to put dummy information and random starting endpoint = [772845.853 661050.91  762795.648]\n",
      "\n",
      "\n",
      "---------Working on soma_idx = -1, soma_group_idx -1, endpt = [772845.853 661050.91  762795.648]---------\n",
      "Starting_edge inside branches_to_conept = [[772845.853  661050.91   762795.648 ]\n",
      " [772851.0875 661056.1445 762800.8825]]\n",
      "Done generating concept network \n",
      "\n",
      "\n",
      "Gettng rid of 1 nodes INSIDE SKELETON TO GRAPH CONVERSION\n",
      "\n",
      "\n",
      "---Working on Splitting Limb 2 with 5 components----\n",
      "\n",
      "\n",
      "----Working on seperate_graph 0----\n",
      "\n",
      "\n",
      "---------Working on soma_idx = 1, soma_group_idx 0, endpt = [822604.27218045 442956.53458647 778975.85112782]---------\n",
      "Starting_edge inside branches_to_conept = [[822604.27218045 442956.53458647 778975.85112782]\n",
      " [822904.         443240.         779325.        ]]\n",
      "At the start, starting_node (in terms of the skeleton, that shouldn't match the starting edge) = [15]\n",
      "printing out current edge:\n",
      "[[822604.27218045 442956.53458647 778975.85112782]\n",
      " [822904.         443240.         779325.        ]]\n",
      "edge_endpoints_to_process was empty so exiting loop after 39 iterations\n",
      "starting_node in concept map (that should match the starting edge) = 19\n",
      "Total time for branches to concept conversion = 0.5067062377929688\n",
      "\n",
      "Done generating concept network \n",
      "\n",
      "\n",
      "\n",
      "\n",
      "----Working on seperate_graph 1----\n",
      "\n",
      "\n",
      "---------Working on soma_idx = 1, soma_group_idx 0, endpt = [826011. 436518. 784135.]---------\n",
      "Starting_edge inside branches_to_conept = [[826011. 436518. 784135.]\n",
      " [832778. 433400. 790292.]]\n",
      "At the start, starting_node (in terms of the skeleton, that shouldn't match the starting edge) = [0]\n",
      "printing out current edge:\n",
      "[[826011. 436518. 784135.]\n",
      " [832778. 433400. 790292.]]\n",
      "edge_endpoints_to_process was empty so exiting loop after 3 iterations\n",
      "starting_node in concept map (that should match the starting edge) = 2\n",
      "Total time for branches to concept conversion = 0.08300900459289551\n",
      "\n",
      "Done generating concept network \n",
      "\n",
      "\n",
      "\n",
      "\n",
      "----Working on seperate_graph 2----\n",
      "There was no starting information so doing to put dummy information and random starting endpoint = [839029.45093432 436760.09963655 788420.45773966]\n",
      "\n",
      "\n",
      "---------Working on soma_idx = -1, soma_group_idx -1, endpt = [839029.45093432 436760.09963655 788420.45773966]---------\n",
      "Starting_edge inside branches_to_conept = [[839029.45093432 436760.09963655 788420.45773966]\n",
      " [854347.67310522 403701.60124038 756807.28508481]]\n",
      "Done generating concept network \n",
      "\n",
      "\n",
      "\n",
      "\n",
      "----Working on seperate_graph 3----\n",
      "There was no starting information so doing to put dummy information and random starting endpoint = [839029.45093432 436760.09963655 788420.45773966]\n",
      "\n",
      "\n",
      "---------Working on soma_idx = -1, soma_group_idx -1, endpt = [839029.45093432 436760.09963655 788420.45773966]---------\n",
      "Starting_edge inside branches_to_conept = [[839029.45093432 436760.09963655 788420.45773966]\n",
      " [852067.25385673 478777.26263528 818892.19849925]]\n",
      "Done generating concept network \n",
      "\n",
      "\n",
      "\n",
      "\n",
      "----Working on seperate_graph 4----\n",
      "There was no starting information so doing to put dummy information and random starting endpoint = [839084.31830065 436852.09215686 788310.89215686]\n",
      "\n",
      "\n",
      "---------Working on soma_idx = -1, soma_group_idx -1, endpt = [839084.31830065 436852.09215686 788310.89215686]---------\n",
      "Starting_edge inside branches_to_conept = [[839084.31830065 436852.09215686 788310.89215686]\n",
      " [839089.55280065 436857.32665686 788316.12665686]]\n",
      "Done generating concept network \n",
      "\n",
      "\n",
      "\n",
      "\n",
      "------ Working on Soma 0 -------\n",
      "limb_neighbors = [3, 4, 6, 7, 8, 9, 10]\n",
      "limb_neighbors BEFORE error limbs removed = [3, 4, 6, 7, 8, 9, 10]\n",
      "limb_neighbors AFTER error limbs removed = [ 3  4  6  7  8  9 10]\n",
      "curr_n_multi_soma_limbs_cancelled = 0\n",
      "curr_n_same_soma_limbs_cancelled = 0\n",
      "n_errored_lims = 0\n",
      "curr_error_limbs_cancelled_area = []\n",
      "local_floating_meshes = []\n",
      "Already have preprocessed data\n",
      "--- 1) Finished unpacking preprocessed materials: 0.00011682510375976562\n",
      "total_edges = [['S0', 'L0'], ['S0', 'L1'], ['S0', 'L2'], ['S0', 'L3'], ['S0', 'L4'], ['S0', 'L5'], ['S0', 'L6']]\n",
      "--- 2) Finished creating neuron connectivity graph: 0.0003292560577392578\n",
      "Having to generate soma_meshes_face_idx because none in preprocessed data\n",
      "--- 3a) Finshed generating soma_meshes_face_idx: 0.11371302604675293\n",
      "Using precomputed volume ratio\n",
      "--- 3b) Finished soma creation: 0.15658020973205566\n",
      "--- 3) Finshed generating soma objects and adding them to concept graph: 4.9591064453125e-05\n",
      "Using already existing limb_mehses_face_idx in preprocessed data \n",
      "curr_limb_concept_networks= {0: [<networkx_utils.GraphOrderedEdges object at 0x7f1f63630898>]}\n",
      "curr_limb_concept_networks= {0: [<networkx_utils.GraphOrderedEdges object at 0x7f1f63630f28>]}\n",
      "curr_limb_concept_networks= {0: [<networkx_utils.GraphOrderedEdges object at 0x7f1f73aabda0>]}\n",
      "curr_limb_concept_networks= {0: [<networkx_utils.GraphOrderedEdges object at 0x7f2063bb09e8>]}\n",
      "curr_limb_concept_networks= {0: [<networkx_utils.GraphOrderedEdges object at 0x7f1f6c63a6a0>]}\n",
      "curr_limb_concept_networks= {0: [<networkx_utils.GraphOrderedEdges object at 0x7f206e3397b8>]}\n",
      "curr_limb_concept_networks= {0: [<networkx_utils.GraphOrderedEdges object at 0x7f1f6c63a358>]}\n"
     ]
    },
    {
     "name": "stdout",
     "output_type": "stream",
     "text": [
      "--- 4) Finshed generating Limb objects and adding them to concept graph: 3.0439677238464355\n",
      "--- 5) SKIPPING Doing the adaptive mesh correspondence on the meshparty preprocessing ---\n",
      "--- 6) SKIPPING Using the computed_attribute_dict to populate neuron attributes ---\n",
      "self.n_limbs = 7\n",
      "7) Calculating the spines for the neuorn if do not already exist\n",
      "Total time for neuron instance creation = 5.37272572517395\n",
      "\n",
      "\n",
      "------ Working on Soma 1 -------\n",
      "limb_neighbors = [0, 1, 2, 5, 12, 14]\n",
      "limb_neighbors BEFORE error limbs removed = [0, 1, 2, 5, 12, 14]\n",
      "limb_neighbors AFTER error limbs removed = [ 0  1  2  5 12 14]\n",
      "curr_n_multi_soma_limbs_cancelled = 0\n",
      "curr_n_same_soma_limbs_cancelled = 0\n",
      "n_errored_lims = 0\n",
      "curr_error_limbs_cancelled_area = []\n",
      "local_floating_meshes = []\n",
      "Already have preprocessed data\n",
      "--- 1) Finished unpacking preprocessed materials: 8.559226989746094e-05\n",
      "total_edges = [['S0', 'L0'], ['S0', 'L1'], ['S0', 'L2'], ['S0', 'L3'], ['S0', 'L4'], ['S0', 'L5']]\n",
      "--- 2) Finished creating neuron connectivity graph: 0.0001354217529296875\n",
      "Having to generate soma_meshes_face_idx because none in preprocessed data\n",
      "--- 3a) Finshed generating soma_meshes_face_idx: 0.11653447151184082\n",
      "Using precomputed volume ratio\n",
      "--- 3b) Finished soma creation: 0.10200047492980957\n",
      "--- 3) Finshed generating soma objects and adding them to concept graph: 3.409385681152344e-05\n",
      "Using already existing limb_mehses_face_idx in preprocessed data \n",
      "curr_limb_concept_networks= {0: [<networkx_utils.GraphOrderedEdges object at 0x7f1f302aa9e8>]}\n",
      "curr_limb_concept_networks= {0: [<networkx_utils.GraphOrderedEdges object at 0x7f1f302aada0>]}\n",
      "curr_limb_concept_networks= {0: [<networkx_utils.GraphOrderedEdges object at 0x7f1f302aa978>]}\n",
      "curr_limb_concept_networks= {0: [<networkx_utils.GraphOrderedEdges object at 0x7f1f302aaa58>]}\n",
      "curr_limb_concept_networks= {0: [<networkx_utils.GraphOrderedEdges object at 0x7f1f302d1fd0>]}\n",
      "curr_limb_concept_networks= {0: [<networkx_utils.GraphOrderedEdges object at 0x7f1f303a7f28>]}\n",
      "--- 4) Finshed generating Limb objects and adding them to concept graph: 1.7917661666870117\n",
      "--- 5) SKIPPING Doing the adaptive mesh correspondence on the meshparty preprocessing ---\n",
      "--- 6) SKIPPING Using the computed_attribute_dict to populate neuron attributes ---\n",
      "self.n_limbs = 6\n",
      "7) Calculating the spines for the neuorn if do not already exist\n",
      "Total time for neuron instance creation = 3.7632763385772705\n",
      "\n",
      "\n",
      "Number of seperate neuron objects = 2\n"
     ]
    }
   ],
   "source": [
    "output = pru.split_neuron(neuron_obj,\n",
    "                limb_results=limb_results,\n",
    "                verbose=True)"
   ]
  },
  {
   "cell_type": "code",
   "execution_count": 41,
   "metadata": {},
   "outputs": [],
   "source": [
    "neuron_obj_1, neuron_obj_2 = output"
   ]
  },
  {
   "cell_type": "markdown",
   "metadata": {},
   "source": [
    "# Visualizing the Individual Neurons"
   ]
  },
  {
   "cell_type": "code",
   "execution_count": 45,
   "metadata": {},
   "outputs": [
    {
     "data": {
      "text/plain": [
       "<neuron.Neuron at 0x7f1f6279f828>"
      ]
     },
     "execution_count": 45,
     "metadata": {},
     "output_type": "execute_result"
    }
   ],
   "source": [
    "neuron_obj_1"
   ]
  },
  {
   "cell_type": "code",
   "execution_count": 46,
   "metadata": {
    "scrolled": false
   },
   "outputs": [
    {
     "name": "stdout",
     "output_type": "stream",
     "text": [
      "\n",
      " Working on visualization type: mesh\n"
     ]
    },
    {
     "data": {
      "application/vnd.jupyter.widget-view+json": {
       "model_id": "ff02fe79db0f4a8eb2ca00e40945f2fb",
       "version_major": 2,
       "version_minor": 0
      },
      "text/plain": [
       "VBox(children=(Figure(camera=PerspectiveCamera(fov=46.0, position=(0.0, 0.0, 2.0), projectionMatrix=(1.0, 0.0,…"
      ]
     },
     "metadata": {},
     "output_type": "display_data"
    }
   ],
   "source": [
    "nviz.visualize_neuron(neuron_obj_1,\n",
    "                      visualize_type=[\"mesh\"],\n",
    "                      limb_branch_dict=\"all\",\n",
    "                      mesh_color=\"black\",\n",
    "                      mesh_color_alpha=1,\n",
    "                      mesh_soma_alpha=1,)"
   ]
  },
  {
   "cell_type": "code",
   "execution_count": 48,
   "metadata": {},
   "outputs": [
    {
     "name": "stdout",
     "output_type": "stream",
     "text": [
      "\n",
      " Working on visualization type: mesh\n"
     ]
    },
    {
     "data": {
      "application/vnd.jupyter.widget-view+json": {
       "model_id": "b97eb7f332804cd6849c410629b92e55",
       "version_major": 2,
       "version_minor": 0
      },
      "text/plain": [
       "VBox(children=(Figure(camera=PerspectiveCamera(fov=46.0, position=(0.0, 0.0, 2.0), projectionMatrix=(1.0, 0.0,…"
      ]
     },
     "metadata": {},
     "output_type": "display_data"
    }
   ],
   "source": [
    "nviz.visualize_neuron(neuron_obj_2,\n",
    "                      visualize_type=[\"mesh\"],\n",
    "                      limb_branch_dict=\"all\",\n",
    "                      mesh_color=\"black\",\n",
    "                      mesh_color_alpha=1,\n",
    "                      mesh_soma_alpha=1,)"
   ]
  },
  {
   "cell_type": "markdown",
   "metadata": {},
   "source": [
    "# Individual Neuron Analysis"
   ]
  },
  {
   "cell_type": "code",
   "execution_count": 43,
   "metadata": {},
   "outputs": [
    {
     "name": "stdout",
     "output_type": "stream",
     "text": [
      "\n",
      " Working on visualization type: mesh\n",
      "\n",
      " Working on visualization type: skeleton\n"
     ]
    },
    {
     "data": {
      "application/vnd.jupyter.widget-view+json": {
       "model_id": "1dc4baed68f64a6f83110e7a6a2ba63a",
       "version_major": 2,
       "version_minor": 0
      },
      "text/plain": [
       "VBox(children=(Figure(camera=PerspectiveCamera(fov=46.0, position=(0.0, 0.0, 2.0), projectionMatrix=(1.0, 0.0,…"
      ]
     },
     "metadata": {},
     "output_type": "display_data"
    }
   ],
   "source": [
    "nviz.plot_spines(neuron_obj_1)"
   ]
  },
  {
   "cell_type": "markdown",
   "metadata": {},
   "source": [
    "# Plotting The Spines"
   ]
  },
  {
   "cell_type": "code",
   "execution_count": 58,
   "metadata": {},
   "outputs": [
    {
     "name": "stdout",
     "output_type": "stream",
     "text": [
      "\n",
      " Working on visualization type: mesh\n",
      "\n",
      " Working on visualization type: skeleton\n"
     ]
    },
    {
     "data": {
      "application/vnd.jupyter.widget-view+json": {
       "model_id": "f9022158bab34deebec2d8ba50a4dd28",
       "version_major": 2,
       "version_minor": 0
      },
      "text/plain": [
       "VBox(children=(Figure(camera=PerspectiveCamera(fov=46.0, position=(0.0, 0.0, 2.0), projectionMatrix=(1.0, 0.0,…"
      ]
     },
     "metadata": {},
     "output_type": "display_data"
    }
   ],
   "source": [
    "nviz.plot_spines(current_neuron=neuron_obj_1,\n",
    "                mesh_whole_neuron_alpha=0.8,\n",
    "                mesh_whole_neuron_color=\"black\",\n",
    "                mesh_spines_alpha=1,\n",
    "                spine_color=\"red\",\n",
    "                mesh_soma_alpha=1,)"
   ]
  },
  {
   "cell_type": "code",
   "execution_count": 59,
   "metadata": {},
   "outputs": [
    {
     "name": "stdout",
     "output_type": "stream",
     "text": [
      "\n",
      " Working on visualization type: mesh\n",
      "\n",
      " Working on visualization type: skeleton\n"
     ]
    },
    {
     "data": {
      "application/vnd.jupyter.widget-view+json": {
       "model_id": "4d6036c78f694ebb9a357270cc837771",
       "version_major": 2,
       "version_minor": 0
      },
      "text/plain": [
       "VBox(children=(Figure(camera=PerspectiveCamera(fov=46.0, position=(0.0, 0.0, 2.0), projectionMatrix=(1.0, 0.0,…"
      ]
     },
     "metadata": {},
     "output_type": "display_data"
    }
   ],
   "source": [
    "nviz.plot_spines(current_neuron=neuron_obj_2,\n",
    "                mesh_whole_neuron_alpha=0.8,\n",
    "                mesh_whole_neuron_color=\"black\",\n",
    "                mesh_spines_alpha=1,\n",
    "                spine_color=\"red\",\n",
    "                mesh_soma_alpha=1,)"
   ]
  },
  {
   "cell_type": "markdown",
   "metadata": {},
   "source": [
    "# Axon Classification"
   ]
  },
  {
   "cell_type": "code",
   "execution_count": 60,
   "metadata": {},
   "outputs": [],
   "source": [
    "import classification_utils as clu"
   ]
  },
  {
   "cell_type": "code",
   "execution_count": 61,
   "metadata": {},
   "outputs": [
    {
     "name": "stdout",
     "output_type": "stream",
     "text": [
      "\n",
      "Part 1: Axon like branchese \n",
      "{'L2': array([1]), 'L4': array([1]), 'L5': array([0]), 'L6': array([ 0,  1,  2,  3,  5,  6,  7,  8,  9, 11, 12, 13, 14, 15, 17, 18, 19,\n",
      "       20, 21, 23, 24, 26, 29, 30, 31, 33, 34, 35, 36, 37, 51, 52, 53, 54,\n",
      "       55, 56, 57, 58])}\n",
      "Limb L0 soma angle: 101.54 \n",
      "Limb L1 soma angle: 99.74 \n",
      "Limb L2 soma angle: 151.14 \n",
      "Limb L3 soma angle: 138.54 \n",
      "Limb L4 soma angle: 77.21 \n",
      "Limb L5 soma angle: 157.48 \n",
      "Limb L6 soma angle: 8.48 \n",
      "\n",
      "Part 2: possible_axon_limbs = [0, 1, 2, 3, 4, 5]\n",
      "\n",
      "Phase 2: Working on Limb L0\n",
      "nodes_to_eliminate = [4]\n",
      "\n",
      "Phase 2: Working on Limb L1\n",
      "nodes_to_eliminate = [0 2]\n",
      "\n",
      "Phase 2: Working on Limb L2\n",
      "nodes_to_eliminate = [4]\n",
      "\n",
      "Phase 2: Working on Limb L3\n",
      "nodes_to_eliminate = []\n",
      "\n",
      "Phase 2: Working on Limb L4\n",
      "nodes_to_eliminate = []\n",
      "\n",
      "Phase 2: Working on Limb L5\n",
      "nodes_to_eliminate = []\n",
      "\n",
      "----Working on Limb L0-----\n",
      "No endpoints were eliminated so don't need to add back any candidates\n",
      "\n",
      "----Working on Limb L1-----\n",
      "No endpoints were eliminated so don't need to add back any candidates\n",
      "\n",
      "----Working on Limb L2-----\n",
      "No endpoints were eliminated so don't need to add back any candidates\n",
      "\n",
      "----Working on Limb L3-----\n",
      "No nodes were eliminated so don't need to add back any candidates\n",
      "\n",
      "----Working on Limb L4-----\n",
      "No nodes were eliminated so don't need to add back any candidates\n",
      "\n",
      "----Working on Limb L5-----\n",
      "No nodes were eliminated so don't need to add back any candidates\n",
      "Final Candidates\n",
      "\n",
      "Limb 0\n",
      "Candidate 0 (cyan): array([0])\n",
      "Candidate 1 (darkslategray): array([1, 2, 3])\n",
      "\n",
      "Limb 1\n",
      "Candidate 0 (tan): array([1])\n",
      "Candidate 1 (cadetblue): array([3])\n",
      "Candidate 2 (crimson): array([4])\n",
      "\n",
      "Limb 2\n",
      "Candidate 0 (blue): array([0, 1, 2])\n",
      "Candidate 1 (orange): array([3])\n",
      "\n",
      "Limb 3\n",
      "Candidate 0 (brown): array([0, 1, 2])\n",
      "\n",
      "Limb 4\n",
      "Candidate 0 (cyan): array([0, 1, 2])\n",
      "\n",
      "Limb 5\n",
      "Candidate 0 (tan): array([0])\n",
      "Part 3: axon_subgraph_candidates = {0: [[0], [1, 2, 3]], 1: [[1], [3], [4]], 2: [[0, 1, 2], [3]], 3: [[0, 1, 2]], 4: [[0, 1, 2]], 5: [[0]]}\n",
      "\n",
      "\n",
      " --- Working on limb 0, candidate # 0\n",
      "0 out of 1 branches are axons\n",
      "Axon percentage = 0.0\n",
      "Not adding candidate no axon branches detected \n",
      "\n",
      "\n",
      " --- Working on limb 0, candidate # 1\n",
      "0 out of 3 branches are axons\n",
      "Axon percentage = 0.0\n",
      "Not adding candidate no axon branches detected \n",
      "\n",
      "\n",
      " --- Working on limb 1, candidate # 0\n",
      "0 out of 1 branches are axons\n",
      "Axon percentage = 0.0\n",
      "Not adding candidate no axon branches detected \n",
      "\n",
      "\n",
      " --- Working on limb 1, candidate # 1\n",
      "0 out of 1 branches are axons\n",
      "Axon percentage = 0.0\n",
      "Not adding candidate no axon branches detected \n",
      "\n",
      "\n",
      " --- Working on limb 1, candidate # 2\n",
      "0 out of 1 branches are axons\n",
      "Axon percentage = 0.0\n",
      "Not adding candidate no axon branches detected \n",
      "\n",
      "\n",
      " --- Working on limb 2, candidate # 0\n",
      "1 out of 3 branches are axons\n",
      "Axon percentage = 0.3333333333333333\n",
      "curr_axon_angle_threshold = 120\n",
      "candidate_nodes = [0 1 2 4]\n",
      "non_axon_branches_on_subgraph = [0 2 4]\n",
      "endnodes_to_test = []\n",
      "Not adding candidate because no angles (None) passed the threhold 120 \n",
      "\n",
      "\n",
      " --- Working on limb 2, candidate # 1\n",
      "0 out of 1 branches are axons\n",
      "Axon percentage = 0.0\n",
      "Not adding candidate no axon branches detected \n",
      "\n",
      "\n",
      " --- Working on limb 3, candidate # 0\n",
      "0 out of 3 branches are axons\n",
      "Axon percentage = 0.0\n",
      "Not adding candidate no axon branches detected \n",
      "\n",
      "\n",
      " --- Working on limb 4, candidate # 0\n",
      "1 out of 3 branches are axons\n",
      "Axon percentage = 0.3333333333333333\n",
      "curr_axon_angle_threshold = 120\n",
      "candidate_nodes = [0 1 2]\n",
      "non_axon_branches_on_subgraph = [0 2]\n",
      "endnodes_to_test = []\n",
      "Not adding candidate because no angles (None) passed the threhold 120 \n",
      "\n",
      "\n",
      " --- Working on limb 5, candidate # 0\n",
      "1 out of 1 branches are axons\n",
      "Axon percentage = 1.0\n",
      "curr_axon_angle_threshold = 95\n",
      "candidate_nodes = [0]\n",
      "non_axon_branches_on_subgraph = []\n",
      "endnodes_to_test = [340]\n",
      "Skeleton paths distances = [24998.52725839]\n",
      "Filtered indexes = [0]\n",
      "len(filtered_skeletons) = 1\n",
      "sk_angles = [168.03982351]\n",
      "base_final_widths = [261.41069341 220.72112003]\n",
      "overall_ais_width = 209.3992985918631\n",
      "ais_width = 241.06590671906685\n",
      "Adding the following branches as true axons: [0.]\n",
      "curr_soma_angle = 157.48\n",
      "max_axon_angle = 168.03982351036967\n",
      "Changing to a better axon candidate\n",
      "Using the best axon approach\n",
      "Using True\n",
      "Limb L5: Axon branches before dendritic path filter = [0.]\n",
      "Limb L5: Axon branches AFTER dendritic path filter = [0.]\n",
      "\n",
      "\n",
      "Part 4: final_true_axons = {'L5': array([0.])}\n",
      "\n",
      "Part 1: Axon like branchese \n",
      "{'L1': array([28, 39]), 'L2': array([ 1,  5,  6,  7, 11, 14, 15, 16, 24, 25, 28]), 'L5': array([1])}\n",
      "Limb L0 soma angle: 51.21 \n",
      "Limb L1 soma angle: 31.75 \n",
      "Limb L2 soma angle: 144.73 \n",
      "Limb L3 soma angle: 82.52 \n",
      "Limb L4 soma angle: 93.93 \n",
      "Limb L5 soma angle: 77.54 \n",
      "\n",
      "Part 2: possible_axon_limbs = [2, 3, 4, 5]\n",
      "\n",
      "Phase 2: Working on Limb L2\n",
      "nodes_to_eliminate = [17 18 19 20 22 27]\n",
      "\n",
      "Phase 2: Working on Limb L3\n",
      "nodes_to_eliminate = [5]\n",
      "\n",
      "Phase 2: Working on Limb L4\n",
      "nodes_to_eliminate = [2]\n",
      "\n",
      "Phase 2: Working on Limb L5\n",
      "nodes_to_eliminate = [2]\n",
      "\n",
      "----Working on Limb L2-----\n",
      "No endpoints were eliminated so don't need to add back any candidates\n",
      "\n",
      "----Working on Limb L3-----\n",
      "No endpoints were eliminated so don't need to add back any candidates\n",
      "\n",
      "----Working on Limb L4-----\n",
      "No endpoints were eliminated so don't need to add back any candidates\n",
      "\n",
      "----Working on Limb L5-----\n",
      "No endpoints were eliminated so don't need to add back any candidates\n",
      "Final Candidates\n",
      "\n",
      "Limb 2\n",
      "Candidate 0 (orange): array([32, 33, 34, 12, 21, 25, 30])\n",
      "Candidate 1 (gray): array([15])\n",
      "Candidate 2 (darkslategray): array([28])\n",
      "Candidate 3 (green): array([2])\n",
      "Candidate 4 (tan): array([ 0,  1,  3,  4,  6,  7,  8,  9, 10, 11, 13, 14, 16])\n",
      "Candidate 5 (red): array([ 5, 23, 24, 26, 29])\n",
      "Candidate 6 (tan): array([35, 36, 37, 38, 31])\n",
      "\n",
      "Limb 3\n",
      "Candidate 0 (blue): array([0, 1, 2, 3, 4])\n",
      "Candidate 1 (crimson): array([6])\n",
      "\n",
      "Limb 4\n",
      "Candidate 0 (palegreen): array([0, 3, 4])\n",
      "Candidate 1 (red): array([1])\n",
      "\n",
      "Limb 5\n",
      "Candidate 0 (gray): array([0])\n",
      "Candidate 1 (gray): array([1])\n",
      "Part 3: axon_subgraph_candidates = {2: [[32, 33, 34, 12, 21, 25, 30], [15], [28], [2], [0, 1, 3, 4, 6, 7, 8, 9, 10, 11, 13, 14, 16], [5, 23, 24, 26, 29], [35, 36, 37, 38, 31]], 3: [[0, 1, 2, 3, 4], [6]], 4: [[0, 3, 4], [1]], 5: [[0], [1]]}\n",
      "\n",
      "\n",
      " --- Working on limb 2, candidate # 0\n",
      "1 out of 7 branches are axons\n",
      "Axon percentage = 0.14285714285714285\n",
      "curr_axon_angle_threshold = 120\n",
      "candidate_nodes = [12 19 21 25 30 32 33 34]\n",
      "non_axon_branches_on_subgraph = [12 19 21 30 32 33 34]\n",
      "endnodes_to_test = []\n",
      "Not adding candidate because no angles (None) passed the threhold 120 \n",
      "\n",
      "\n",
      " --- Working on limb 2, candidate # 1\n",
      "1 out of 1 branches are axons\n",
      "Axon percentage = 1.0\n",
      "curr_axon_angle_threshold = 95\n",
      "candidate_nodes = [15 18 19 20]\n",
      "non_axon_branches_on_subgraph = [18 19 20]\n",
      "endnodes_to_test = [215]\n",
      "Skeleton paths distances = [24996.79224279]\n",
      "Filtered indexes = [0]\n",
      "len(filtered_skeletons) = 1\n",
      "sk_angles = [172.59604999]\n",
      "base_final_widths = [190.16136947 198.41112347]\n",
      "overall_ais_width = 173.50974897159324\n",
      "ais_width = 194.28624647033695\n",
      "Adding the following branches as true axons: [15]\n",
      "curr_soma_angle = 144.73\n",
      "max_axon_angle = 172.59604998659327\n",
      "Changing to a better axon candidate\n",
      "\n",
      "\n",
      " --- Working on limb 2, candidate # 2\n",
      "1 out of 1 branches are axons\n",
      "Axon percentage = 1.0\n",
      "curr_axon_angle_threshold = 95\n",
      "candidate_nodes = [19 20 22 28]\n",
      "non_axon_branches_on_subgraph = [19 20 22]\n",
      "endnodes_to_test = [102]\n",
      "Skeleton paths distances = [15936.76407382]\n",
      "Filtered indexes = []\n",
      "len(filtered_skeletons) = 1\n",
      "sk_angles = [95.9212563]\n",
      "base_final_widths = [201.31026893 165.60462081 248.32074342]\n",
      "overall_ais_width = 220.9572621948176\n",
      "ais_width = 205.07854438665416\n",
      "Adding the following branches as true axons: [28]\n",
      "curr_soma_angle = 144.73\n",
      "max_axon_angle = 95.92125630403272\n",
      "Changing to a better axon candidate\n",
      "\n",
      "\n",
      " --- Working on limb 2, candidate # 3\n",
      "0 out of 1 branches are axons\n",
      "Axon percentage = 0.0\n",
      "Not adding candidate no axon branches detected \n",
      "\n",
      "\n",
      " --- Working on limb 2, candidate # 4\n",
      "6 out of 13 branches are axons\n",
      "Axon percentage = 0.46153846153846156\n",
      "curr_axon_angle_threshold = 120\n",
      "candidate_nodes = [ 0  1  3  4  6  7  8  9 10 11 13 14 16 17 18 19 20]\n",
      "non_axon_branches_on_subgraph = [ 0  3  4  8  9 10 13 17 18 19 20]\n",
      "endnodes_to_test = []\n",
      "Not adding candidate because no angles (None) passed the threhold 120 \n",
      "\n",
      "\n",
      " --- Working on limb 2, candidate # 5\n"
     ]
    },
    {
     "name": "stdout",
     "output_type": "stream",
     "text": [
      "2 out of 5 branches are axons\n",
      "Axon percentage = 0.4\n",
      "curr_axon_angle_threshold = 120\n",
      "candidate_nodes = [ 5 19 20 22 23 24 26 27 29]\n",
      "non_axon_branches_on_subgraph = [19 20 22 23 26 27 29]\n",
      "endnodes_to_test = []\n",
      "Not adding candidate because no angles (None) passed the threhold 120 \n",
      "\n",
      "\n",
      " --- Working on limb 2, candidate # 6\n",
      "0 out of 5 branches are axons\n",
      "Axon percentage = 0.0\n",
      "Not adding candidate no axon branches detected \n",
      "\n",
      "\n",
      " --- Working on limb 3, candidate # 0\n",
      "0 out of 5 branches are axons\n",
      "Axon percentage = 0.0\n",
      "Not adding candidate no axon branches detected \n",
      "\n",
      "\n",
      " --- Working on limb 3, candidate # 1\n",
      "0 out of 1 branches are axons\n",
      "Axon percentage = 0.0\n",
      "Not adding candidate no axon branches detected \n",
      "\n",
      "\n",
      " --- Working on limb 4, candidate # 0\n",
      "0 out of 3 branches are axons\n",
      "Axon percentage = 0.0\n",
      "Not adding candidate no axon branches detected \n",
      "\n",
      "\n",
      " --- Working on limb 4, candidate # 1\n",
      "0 out of 1 branches are axons\n",
      "Axon percentage = 0.0\n",
      "Not adding candidate no axon branches detected \n",
      "\n",
      "\n",
      " --- Working on limb 5, candidate # 0\n",
      "0 out of 1 branches are axons\n",
      "Axon percentage = 0.0\n",
      "Not adding candidate no axon branches detected \n",
      "\n",
      "\n",
      " --- Working on limb 5, candidate # 1\n",
      "1 out of 1 branches are axons\n",
      "Axon percentage = 1.0\n",
      "curr_axon_angle_threshold = 95\n",
      "candidate_nodes = [1 2]\n",
      "non_axon_branches_on_subgraph = [2]\n",
      "endnodes_to_test = [123]\n",
      "Skeleton paths distances = [17726.63545542]\n",
      "Filtered indexes = []\n",
      "len(filtered_skeletons) = 1\n",
      "sk_angles = [117.53307865]\n",
      "base_final_widths = [452.94075036 344.37481058]\n",
      "overall_ais_width = 337.15360418607554\n",
      "ais_width = 398.6577804691343\n",
      "Adding the following branches as true axons: [1]\n",
      "curr_soma_angle = 77.54\n",
      "max_axon_angle = 117.53307865476954\n",
      "Using the best axon approach\n",
      "Using True\n",
      "Limb L2: Axon branches before dendritic path filter = [28]\n",
      "Limb L2: Axon branches AFTER dendritic path filter = [28]\n",
      "\n",
      "\n",
      "Part 4: final_true_axons = {'L2': array([28])}\n"
     ]
    },
    {
     "data": {
      "text/plain": [
       "({'L2': array([28])}, {'L2': array([ 1,  5,  6,  7, 11, 14, 16, 24, 25])})"
      ]
     },
     "execution_count": 61,
     "metadata": {},
     "output_type": "execute_result"
    }
   ],
   "source": [
    "clu.axon_classification(neuron_obj_1,)\n",
    "clu.axon_classification(neuron_obj_2,)"
   ]
  },
  {
   "cell_type": "code",
   "execution_count": 103,
   "metadata": {
    "scrolled": false
   },
   "outputs": [
    {
     "name": "stdout",
     "output_type": "stream",
     "text": [
      "\n",
      " Working on visualization type: mesh\n"
     ]
    },
    {
     "data": {
      "application/vnd.jupyter.widget-view+json": {
       "model_id": "3fe7f7de88f143c4b547589a3b5080ec",
       "version_major": 2,
       "version_minor": 0
      },
      "text/plain": [
       "VBox(children=(Figure(camera=PerspectiveCamera(fov=46.0, position=(0.0, 0.0, 2.0), projectionMatrix=(1.0, 0.0,…"
      ]
     },
     "metadata": {},
     "output_type": "display_data"
    }
   ],
   "source": [
    "nviz.visualize_neuron_axon_dendrite(\n",
    "    neuron_obj = neuron_obj_1,\n",
    "\n",
    "    visualize_type=[\"mesh\"],\n",
    "    axon_color = \"aqua\",\n",
    "    dendrite_color=\"blue\",\n",
    "\n",
    "    mesh_color_alpha = 1,\n",
    "\n",
    "    mesh_soma_color = \"red\",\n",
    "    mesh_soma_alpha = 1,)"
   ]
  },
  {
   "cell_type": "code",
   "execution_count": 69,
   "metadata": {},
   "outputs": [
    {
     "name": "stdout",
     "output_type": "stream",
     "text": [
      "\n",
      " Working on visualization type: mesh\n"
     ]
    },
    {
     "data": {
      "application/vnd.jupyter.widget-view+json": {
       "model_id": "b0cc747d20404504ba4a58150707a019",
       "version_major": 2,
       "version_minor": 0
      },
      "text/plain": [
       "VBox(children=(Figure(camera=PerspectiveCamera(fov=46.0, position=(0.0, 0.0, 2.0), projectionMatrix=(1.0, 0.0,…"
      ]
     },
     "metadata": {},
     "output_type": "display_data"
    }
   ],
   "source": [
    "nviz.visualize_neuron_axon_dendrite(\n",
    "    neuron_obj = neuron_obj_2,\n",
    "\n",
    "    visualize_type=[\"mesh\"],\n",
    "    axon_color = \"aqua\",\n",
    "    dendrite_color=\"blue\",\n",
    "\n",
    "    mesh_color_alpha = 1,\n",
    "\n",
    "    mesh_soma_color = \"red\",\n",
    "    mesh_soma_alpha = 1,)"
   ]
  },
  {
   "cell_type": "markdown",
   "metadata": {},
   "source": [
    "# Plotting the Axon that will be removed"
   ]
  },
  {
   "cell_type": "code",
   "execution_count": 88,
   "metadata": {},
   "outputs": [
    {
     "name": "stdout",
     "output_type": "stream",
     "text": [
      "\n",
      " Working on visualization type: mesh\n"
     ]
    },
    {
     "data": {
      "application/vnd.jupyter.widget-view+json": {
       "model_id": "f0aed21ed287492aab53a1ec8f090de3",
       "version_major": 2,
       "version_minor": 0
      },
      "text/plain": [
       "VBox(children=(Figure(camera=PerspectiveCamera(fov=46.0, position=(0.0, 0.0, 2.0), projectionMatrix=(1.0, 0.0,…"
      ]
     },
     "metadata": {},
     "output_type": "display_data"
    }
   ],
   "source": [
    "nviz.visualize_neuron_axon_merge_errors(neuron_obj_1)"
   ]
  },
  {
   "cell_type": "code",
   "execution_count": 90,
   "metadata": {},
   "outputs": [
    {
     "name": "stdout",
     "output_type": "stream",
     "text": [
      "\n",
      " Working on visualization type: mesh\n"
     ]
    },
    {
     "data": {
      "application/vnd.jupyter.widget-view+json": {
       "model_id": "9733a0f0548b49f2ad6cb7aada2474ff",
       "version_major": 2,
       "version_minor": 0
      },
      "text/plain": [
       "VBox(children=(Figure(camera=PerspectiveCamera(fov=46.0, position=(0.0, 0.0, 2.0), projectionMatrix=(1.0, 0.0,…"
      ]
     },
     "metadata": {},
     "output_type": "display_data"
    }
   ],
   "source": [
    "nviz.visualize_neuron_axon_merge_errors(neuron_obj_2)"
   ]
  },
  {
   "cell_type": "markdown",
   "metadata": {},
   "source": [
    "# Doing the Proofreading"
   ]
  },
  {
   "cell_type": "code",
   "execution_count": 71,
   "metadata": {
    "scrolled": true
   },
   "outputs": [
    {
     "name": "stdout",
     "output_type": "stream",
     "text": [
      "\n",
      "\n",
      " Using high_fidelity_axon_on_excitatory\n",
      "\n",
      "\n",
      "---Step 1: Applying Dendrite on Axon Filtering\n",
      "\n",
      "--- Working on filter 0:\n",
      "function = dendrite_on_axon_merges\n",
      "function __name__ = filter_away_dendrite_on_axon_merges\n",
      "function arguments = {'use_pre_existing_axon_labels': True}\n",
      "\n",
      "\n",
      "\n",
      "\n",
      "\n",
      " ---- Total time for applying filter: 0.43033742904663086 -----\n",
      "\n",
      "\n",
      "---- Step 2: Applying High Fidelity Axon -----\n",
      "Starting axon branch was the starting node so using border vertices and NOT computing upstream branch\n",
      "upstream_node_to_axon_starting_branch = None\n"
     ]
    },
    {
     "name": "stderr",
     "output_type": "stream",
     "text": [
      "\r",
      "  0%|          | 0/1 [00:00<?, ?it/s]"
     ]
    },
    {
     "name": "stdout",
     "output_type": "stream",
     "text": [
      "root_curr = [793410.8 797943.9 787102.9]\n",
      "Time for preparing soma vertices and root: 0.0005869865417480469\n",
      "invalidation_d = 2000\n",
      "cc_vertex_thresh = 10\n"
     ]
    },
    {
     "data": {
      "application/vnd.jupyter.widget-view+json": {
       "model_id": "dc713a880ad84aa5aece22a4e973fda7",
       "version_major": 2,
       "version_minor": 0
      },
      "text/plain": [
       "  0%|          | 0/2793 [00:00<?, ?it/s]"
      ]
     },
     "metadata": {},
     "output_type": "display_data"
    },
    {
     "name": "stderr",
     "output_type": "stream",
     "text": [
      "100%|██████████| 1/1 [00:00<00:00, 14.24it/s]\n"
     ]
    },
    {
     "name": "stdout",
     "output_type": "stream",
     "text": [
      "meshparty_segment_size = 100\n",
      "Time for 1st pass MP skeletonization: 0.29026246070861816\n",
      "branches_touching_root = [0]\n",
      "combining close nodes\n",
      "combine_threshold = 1300\n",
      "length of Graph = 410\n",
      "After combining close endpoints max(kept_branches_idx) = 0, len(kept_branches_idx) = 1\n",
      "empty_indices % = 0.0\n",
      " conflict_indices % = 0.0\n"
     ]
    },
    {
     "data": {
      "application/vnd.jupyter.widget-view+json": {
       "model_id": "da1ba0b75885475186cf8033056329cb",
       "version_major": 2,
       "version_minor": 0
      },
      "text/plain": [
       "0it [00:00, ?it/s]"
      ]
     },
     "metadata": {},
     "output_type": "display_data"
    },
    {
     "name": "stdout",
     "output_type": "stream",
     "text": [
      "AFTER face_lookup_resolved_test\n"
     ]
    },
    {
     "data": {
      "application/vnd.jupyter.widget-view+json": {
       "model_id": "1e1d4b83f1b746b398fb4e87f0650691",
       "version_major": 2,
       "version_minor": 0
      },
      "text/plain": [
       "  0%|          | 0/1 [00:00<?, ?it/s]"
      ]
     },
     "metadata": {},
     "output_type": "display_data"
    },
    {
     "name": "stdout",
     "output_type": "stream",
     "text": [
      "Decomposing first pass: 0.34587883949279785\n",
      "Only Using MeshParty Skeletonization and Mesh Correspondence\n",
      "Another print\n",
      "Divinding into MP and MAP pieces: 0.00032830238342285156\n",
      "Total time for MAP sublimb processing 6.67572021484375e-06\n",
      "---- Working on MP Decomposition #0 ----\n",
      "Using Quicker soma_to_piece_touching_vertices because no MAP and only one sublimb_mesh piece \n",
      "MP filtering soma verts: 0.0005130767822265625\n",
      "Fixing Possible Soma Extension Branch for Sublimb 0\n",
      "Total time for mesh KDTree = 0.11052918434143066\n",
      "sbv[0].reshape(-1,3) = [[793410.8 797943.9 787102.9]]\n",
      "closest_sk_pt_coord BEFORE = [794342.29852141 797930.97335567 787611.08282189]\n",
      "current_skeleton.shape = (409, 2, 3)\n",
      "node_for_stitch = 84: [794342.29852141 797930.97335567 787611.08282189]\n",
      "node_for_stitch AFTER = 84: [794342.29852141 797930.97335567 787611.08282189]\n",
      "possible_node_loc = [ 84 409]\n",
      "possible_node_loc AFTER = [ 84 409]\n",
      "curr_shortest_path = [84]\n",
      "Current stitch point was a branch or endpoint\n",
      "change_status for create soma extending pieces = False\n",
      "closest_sk_pt_coord AFTER = [794342.29852141 797930.97335567 787611.08282189]\n",
      "skipping soma 0 because closest skeleton node was already end node\n",
      "endpoints_must_keep = {0: array([[794342.29852141, 797930.97335567, 787611.08282189]])}\n",
      "match_sk_branches = [0]\n",
      "The new branch info was none so skipping \n",
      "\n",
      "No soma extending branch was added for this sublimb even though it had a soma border (means they already existed)\n",
      "MP (because soma touching verts) soma extension add: 0.41724348068237305\n",
      "There were not both MAP and MP pieces so skipping the stitch resolving phase\n",
      "Time for decomp of Limb = 1.09138822555542\n",
      "Number of matching vertices = 19\n",
      "Only one endpoint after filtering away the endpoints that are not on the skeleton\n",
      "Using Distance measure skeletal_distance\n",
      "endpoints_must_keep = [[794342.29852141 797930.97335567 787611.08282189]]\n",
      "Number of end_nodes BEFORE filtering = 2\n",
      "all_single_nodes_to_eliminate = [0]\n",
      "no small end nodes to get rid of so returning whole skeleton\n",
      "Removed 0 skeletal branches\n"
     ]
    },
    {
     "data": {
      "application/vnd.jupyter.widget-view+json": {
       "model_id": "a08c212dd1b44b3293dd9247c719193d",
       "version_major": 2,
       "version_minor": 0
      },
      "text/plain": [
       "  0%|          | 0/1 [00:00<?, ?it/s]"
      ]
     },
     "metadata": {},
     "output_type": "display_data"
    },
    {
     "name": "stdout",
     "output_type": "stream",
     "text": [
      "5570 5571\n",
      "For marked faces: None\n",
      "empty_indices % = 0.0\n",
      " conflict_indices % = 0.0\n"
     ]
    },
    {
     "data": {
      "application/vnd.jupyter.widget-view+json": {
       "model_id": "0f7b49b4487444f28f7e6a3d07690ceb",
       "version_major": 2,
       "version_minor": 0
      },
      "text/plain": [
       "0it [00:00, ?it/s]"
      ]
     },
     "metadata": {},
     "output_type": "display_data"
    },
    {
     "name": "stdout",
     "output_type": "stream",
     "text": [
      "AFTER face_lookup_resolved_test\n"
     ]
    },
    {
     "data": {
      "application/vnd.jupyter.widget-view+json": {
       "model_id": "87118140a16d40558a0715ba23d68eec",
       "version_major": 2,
       "version_minor": 0
      },
      "text/plain": [
       "  0%|          | 0/1 [00:00<?, ?it/s]"
      ]
     },
     "metadata": {},
     "output_type": "display_data"
    },
    {
     "name": "stdout",
     "output_type": "stream",
     "text": [
      "Upstream node was None so don't have to adjust\n",
      "concept_network_dict = {0: [<networkx_utils.GraphOrderedEdges object at 0x7f2062ce6198>]}\n",
      "\n",
      "\n",
      "----Working on seperate_graph 0----\n",
      "\n",
      "\n",
      "---------Working on soma_idx = 0, soma_group_idx 0, endpt = [794342.29852141 797930.97335567 787611.08282189]---------\n",
      "Starting_edge inside branches_to_conept = [[794342.29852141 797930.97335567 787611.08282189]\n",
      " [798087.61376209 834234.90198566 799521.95023291]]\n",
      "Done generating concept network \n",
      "\n",
      "\n",
      "\n",
      "\n",
      "---- Step 3: Applying Excitatory Filters Post-processing -----\n",
      "\n",
      "--- Working on filter 0:\n",
      "function = axon_on_dendrite_merges\n",
      "function __name__ = filter_away_axon_on_dendrite_merges\n",
      "function arguments = {'use_pre_existing_axon_labels': True}\n",
      "\n",
      "\n",
      "\n",
      "\n",
      "Branches Requested to Remove (WITH disconnect effect)\n",
      "\n",
      " Working on visualization type: mesh\n"
     ]
    },
    {
     "data": {
      "application/vnd.jupyter.widget-view+json": {
       "model_id": "2588228476c744488c1320a6a9179f72",
       "version_major": 2,
       "version_minor": 0
      },
      "text/plain": [
       "VBox(children=(Figure(camera=PerspectiveCamera(fov=46.0, position=(0.0, 0.0, 2.0), projectionMatrix=(1.0, 0.0,…"
      ]
     },
     "metadata": {},
     "output_type": "display_data"
    },
    {
     "name": "stdout",
     "output_type": "stream",
     "text": [
      "\n",
      "--- Working on filter 1:\n",
      "function = crossovers\n",
      "function __name__ = filter_away_crossovers\n",
      "function arguments = {'axon_dependent': True, 'match_threshold': 50, 'require_two_pairs': False}\n",
      "\n",
      "\n",
      "\n",
      "--- Working on filter 2:\n",
      "function = low_branch_clusters\n",
      "function __name__ = filter_away_low_branch_length_clusters\n",
      "function arguments = {}\n",
      "\n",
      "\n",
      "\n",
      "--- Working on filter 3:\n",
      "function = double_back_and_width_change\n",
      "function __name__ = filter_away_large_double_back_or_width_changes\n",
      "function arguments = {'perform_double_back_errors': True, 'skip_double_back_errors_for_axon': False, 'width_jump_threshold': 250, 'running_width_jump_method': True, 'double_back_axon_like_threshold': 145, 'double_back_threshold': 120}\n",
      "\n",
      "\n",
      "\n",
      "--- Working on filter 4:\n",
      "function = high_degree_coordinates\n",
      "function __name__ = filter_away_high_degree_coordinates\n",
      "function arguments = {'axon_dependent': True, 'min_degree_to_find': 4}\n",
      "\n",
      "\n",
      "min_degree_to_find = 4\n",
      "min_degree_to_find = 4\n",
      "min_degree_to_find = 4\n",
      "min_degree_to_find = 4\n",
      "min_degree_to_find = 4\n",
      "min_degree_to_find = 4\n",
      "min_degree_to_find = 4\n",
      "\n",
      "\n",
      "\n",
      " ---- Total time for applying filter: 33.861931800842285 -----\n"
     ]
    },
    {
     "data": {
      "text/plain": [
       "(<neuron.Neuron at 0x7f1f31b7c7b8>,\n",
       " {'axon_on_dendrite_merges_neuron': <neuron.Neuron at 0x7f1f3050f710>,\n",
       "  'axon_on_dendrite_merges_time': 20.51835870742798,\n",
       "  'axon_on_dendrite_merges_error_area': 1091.0973667077353,\n",
       "  'axon_on_dendrite_merges_error_length': 1371.837400627431,\n",
       "  'crossovers_neuron': <neuron.Neuron at 0x7f2065dc4a90>,\n",
       "  'crossovers_time': 2.8027729988098145,\n",
       "  'crossovers_error_area': 0,\n",
       "  'crossovers_error_length': 0,\n",
       "  'low_branch_clusters_neuron': <neuron.Neuron at 0x7f1f6cd71b70>,\n",
       "  'low_branch_clusters_time': 0.23731613159179688,\n",
       "  'low_branch_clusters_error_area': 0,\n",
       "  'low_branch_clusters_error_length': 0,\n",
       "  'double_back_and_width_change_neuron': <neuron.Neuron at 0x7f1f62857080>,\n",
       "  'double_back_and_width_change_time': 8.289572477340698,\n",
       "  'double_back_and_width_change_error_area': 0,\n",
       "  'double_back_and_width_change_error_length': 0,\n",
       "  'high_degree_coordinates_neuron': <neuron.Neuron at 0x7f1f31b7c7b8>,\n",
       "  'high_degree_coordinates_time': 2.012460708618164,\n",
       "  'high_degree_coordinates_error_area': 0,\n",
       "  'high_degree_coordinates_error_length': 0,\n",
       "  'dendrite_on_axon_merges_neuron': <neuron.Neuron at 0x7f206eb1b748>,\n",
       "  'dendrite_on_axon_merges_time': 0.43027544021606445,\n",
       "  'dendrite_on_axon_merges_error_area': 0,\n",
       "  'dendrite_on_axon_merges_error_length': 0})"
      ]
     },
     "execution_count": 71,
     "metadata": {},
     "output_type": "execute_result"
    }
   ],
   "source": [
    "pru.proofread_neuron_class_predetermined(neuron_obj_1,\n",
    "                                        inh_exc_class=\"excitatory\",\n",
    "                                        plot_limb_branch_filter_with_disconnect_effect=True)"
   ]
  },
  {
   "cell_type": "code",
   "execution_count": 72,
   "metadata": {},
   "outputs": [
    {
     "name": "stdout",
     "output_type": "stream",
     "text": [
      "\n",
      "\n",
      " Using high_fidelity_axon_on_excitatory\n",
      "\n",
      "\n",
      "---Step 1: Applying Dendrite on Axon Filtering\n",
      "\n",
      "--- Working on filter 0:\n",
      "function = dendrite_on_axon_merges\n",
      "function __name__ = filter_away_dendrite_on_axon_merges\n",
      "function arguments = {'use_pre_existing_axon_labels': True}\n",
      "\n",
      "\n",
      "\n",
      "\n",
      "\n",
      " ---- Total time for applying filter: 1.266096830368042 -----\n",
      "\n",
      "\n",
      "---- Step 2: Applying High Fidelity Axon -----\n"
     ]
    },
    {
     "name": "stderr",
     "output_type": "stream",
     "text": [
      "\r",
      "  0%|          | 0/1 [00:00<?, ?it/s]"
     ]
    },
    {
     "name": "stdout",
     "output_type": "stream",
     "text": [
      "Starting axon branch was not the limb starting node so generating border vertices and computing upstream branch\n",
      "upstream_node_to_axon_starting_branch = 22\n",
      "root_curr = [830319.  448717.5 779247. ]\n",
      "Time for preparing soma vertices and root: 0.0007467269897460938\n",
      "invalidation_d = 2000\n",
      "cc_vertex_thresh = 10\n"
     ]
    },
    {
     "data": {
      "application/vnd.jupyter.widget-view+json": {
       "model_id": "ab598149153947b2b46c1ac78052de81",
       "version_major": 2,
       "version_minor": 0
      },
      "text/plain": [
       "  0%|          | 0/396 [00:00<?, ?it/s]"
      ]
     },
     "metadata": {},
     "output_type": "display_data"
    },
    {
     "name": "stderr",
     "output_type": "stream",
     "text": [
      "\r",
      "100%|██████████| 1/1 [00:00<00:00, 18.22it/s]"
     ]
    },
    {
     "name": "stdout",
     "output_type": "stream",
     "text": [
      "meshparty_segment_size = 100\n",
      "Time for 1st pass MP skeletonization: 0.12822389602661133\n"
     ]
    },
    {
     "name": "stderr",
     "output_type": "stream",
     "text": [
      "\n"
     ]
    },
    {
     "name": "stdout",
     "output_type": "stream",
     "text": [
      "branches_touching_root = [0]\n",
      "combining close nodes\n",
      "combine_threshold = 1300\n",
      "length of Graph = 46\n",
      "After combining close endpoints max(kept_branches_idx) = 0, len(kept_branches_idx) = 1\n",
      "empty_indices % = 0.0\n",
      " conflict_indices % = 0.0\n"
     ]
    },
    {
     "data": {
      "application/vnd.jupyter.widget-view+json": {
       "model_id": "19ce1a54165841768106690a2571bb60",
       "version_major": 2,
       "version_minor": 0
      },
      "text/plain": [
       "0it [00:00, ?it/s]"
      ]
     },
     "metadata": {},
     "output_type": "display_data"
    },
    {
     "name": "stdout",
     "output_type": "stream",
     "text": [
      "AFTER face_lookup_resolved_test\n"
     ]
    },
    {
     "data": {
      "application/vnd.jupyter.widget-view+json": {
       "model_id": "db39249e09414756bd72c935c788f6f0",
       "version_major": 2,
       "version_minor": 0
      },
      "text/plain": [
       "  0%|          | 0/1 [00:00<?, ?it/s]"
      ]
     },
     "metadata": {},
     "output_type": "display_data"
    },
    {
     "name": "stdout",
     "output_type": "stream",
     "text": [
      "Decomposing first pass: 0.17286992073059082\n",
      "Only Using MeshParty Skeletonization and Mesh Correspondence\n",
      "Another print\n",
      "Divinding into MP and MAP pieces: 5.793571472167969e-05\n",
      "Total time for MAP sublimb processing 5.4836273193359375e-06\n",
      "---- Working on MP Decomposition #0 ----\n",
      "Using Quicker soma_to_piece_touching_vertices because no MAP and only one sublimb_mesh piece \n",
      "MP filtering soma verts: 0.00011348724365234375\n",
      "Fixing Possible Soma Extension Branch for Sublimb 0\n",
      "Total time for mesh KDTree = 0.013446331024169922\n",
      "sbv[0].reshape(-1,3) = [[830319.  448717.5 779247. ]]\n",
      "closest_sk_pt_coord BEFORE = [830541.48583672 448813.95014623 779545.6250654 ]\n",
      "current_skeleton.shape = (45, 2, 3)\n",
      "node_for_stitch = 0: [830541.48583672 448813.95014623 779545.6250654 ]\n",
      "node_for_stitch AFTER = 0: [830541.48583672 448813.95014623 779545.6250654 ]\n",
      "possible_node_loc = [ 0 45]\n",
      "possible_node_loc AFTER = [ 0 45]\n",
      "curr_shortest_path = [0]\n",
      "Current stitch point was a branch or endpoint\n",
      "change_status for create soma extending pieces = False\n",
      "closest_sk_pt_coord AFTER = [830541.48583672 448813.95014623 779545.6250654 ]\n",
      "skipping soma 0 because closest skeleton node was already end node\n",
      "endpoints_must_keep = {0: array([[830541.48583672, 448813.95014623, 779545.6250654 ]])}\n",
      "match_sk_branches = [0]\n",
      "The new branch info was none so skipping \n",
      "\n",
      "No soma extending branch was added for this sublimb even though it had a soma border (means they already existed)\n",
      "MP (because soma touching verts) soma extension add: 0.20050287246704102\n",
      "There were not both MAP and MP pieces so skipping the stitch resolving phase\n",
      "Time for decomp of Limb = 0.5071306228637695\n",
      "Number of matching vertices = 12\n",
      "Only one endpoint after filtering away the endpoints that are not on the skeleton\n",
      "Using Distance measure skeletal_distance\n",
      "endpoints_must_keep = [[830541.48583672 448813.95014623 779545.6250654 ]]\n",
      "Number of end_nodes BEFORE filtering = 2\n",
      "all_single_nodes_to_eliminate = [0]\n",
      "no small end nodes to get rid of so returning whole skeleton\n",
      "Removed 0 skeletal branches\n"
     ]
    },
    {
     "data": {
      "application/vnd.jupyter.widget-view+json": {
       "model_id": "4703db6f2524454eb5f996441f63d5df",
       "version_major": 2,
       "version_minor": 0
      },
      "text/plain": [
       "  0%|          | 0/1 [00:00<?, ?it/s]"
      ]
     },
     "metadata": {},
     "output_type": "display_data"
    },
    {
     "name": "stdout",
     "output_type": "stream",
     "text": [
      "763 764\n",
      "For marked faces: None\n",
      "empty_indices % = 0.0\n",
      " conflict_indices % = 0.0\n"
     ]
    },
    {
     "data": {
      "application/vnd.jupyter.widget-view+json": {
       "model_id": "54801fc31a404a4abda0421e7eabe561",
       "version_major": 2,
       "version_minor": 0
      },
      "text/plain": [
       "0it [00:00, ?it/s]"
      ]
     },
     "metadata": {},
     "output_type": "display_data"
    },
    {
     "name": "stdout",
     "output_type": "stream",
     "text": [
      "AFTER face_lookup_resolved_test\n"
     ]
    },
    {
     "data": {
      "application/vnd.jupyter.widget-view+json": {
       "model_id": "1a85b32b69764665ad67cb9e9998df51",
       "version_major": 2,
       "version_minor": 0
      },
      "text/plain": [
       "  0%|          | 0/1 [00:00<?, ?it/s]"
      ]
     },
     "metadata": {},
     "output_type": "display_data"
    },
    {
     "name": "stdout",
     "output_type": "stream",
     "text": [
      "Readjusting starting axon branch skeleton\n",
      "Fixing the axon starting branch endpoint to align with upstream branch\n",
      "Starting Branch 0 skeleton before fix: (45, 2, 3)\n",
      "Starting Branch 0 skeleton AFTER fix: (46, 2, 3)\n",
      "concept_network_dict = {0: [<networkx_utils.GraphOrderedEdges object at 0x7f206c34f828>]}\n",
      "\n",
      "\n",
      "----Working on seperate_graph 0----\n",
      "\n",
      "\n",
      "---------Working on soma_idx = 0, soma_group_idx 0, endpt = [822604.27218045 442956.53458647 778975.85112782]---------\n",
      "Starting_edge inside branches_to_conept = [[822604.27218045 442956.53458647 778975.85112782]\n",
      " [822904.         443240.         779325.        ]]\n",
      "At the start, starting_node (in terms of the skeleton, that shouldn't match the starting edge) = [15]\n",
      "printing out current edge:\n",
      "[[822604.27218045 442956.53458647 778975.85112782]\n",
      " [822904.         443240.         779325.        ]]\n",
      "edge_endpoints_to_process was empty so exiting loop after 39 iterations\n",
      "starting_node in concept map (that should match the starting edge) = 1\n",
      "Total time for branches to concept conversion = 0.7416436672210693\n",
      "\n",
      "Done generating concept network \n",
      "\n",
      "\n",
      "\n",
      "\n",
      "---- Step 3: Applying Excitatory Filters Post-processing -----\n",
      "\n",
      "--- Working on filter 0:\n",
      "function = axon_on_dendrite_merges\n",
      "function __name__ = filter_away_axon_on_dendrite_merges\n",
      "function arguments = {'use_pre_existing_axon_labels': True}\n",
      "\n",
      "\n",
      "\n",
      "\n",
      "Branches Requested to Remove (WITH disconnect effect)\n",
      "\n",
      " Working on visualization type: mesh\n"
     ]
    },
    {
     "data": {
      "application/vnd.jupyter.widget-view+json": {
       "model_id": "cdcd0d26dfd44345be7a6d4254fb5100",
       "version_major": 2,
       "version_minor": 0
      },
      "text/plain": [
       "VBox(children=(Figure(camera=PerspectiveCamera(fov=46.0, position=(0.0, 0.0, 2.0), projectionMatrix=(1.0, 0.0,…"
      ]
     },
     "metadata": {},
     "output_type": "display_data"
    },
    {
     "name": "stdout",
     "output_type": "stream",
     "text": [
      "\n",
      "--- Working on filter 1:\n",
      "function = crossovers\n",
      "function __name__ = filter_away_crossovers\n",
      "function arguments = {'axon_dependent': True, 'match_threshold': 50, 'require_two_pairs': False}\n",
      "\n",
      "\n",
      "\n",
      "--- Working on filter 2:\n",
      "function = low_branch_clusters\n",
      "function __name__ = filter_away_low_branch_length_clusters\n",
      "function arguments = {}\n",
      "\n",
      "\n",
      "\n",
      "--- Working on filter 3:\n",
      "function = double_back_and_width_change\n",
      "function __name__ = filter_away_large_double_back_or_width_changes\n",
      "function arguments = {'perform_double_back_errors': True, 'skip_double_back_errors_for_axon': False, 'width_jump_threshold': 250, 'running_width_jump_method': True, 'double_back_axon_like_threshold': 145, 'double_back_threshold': 120}\n",
      "\n",
      "\n",
      "\n",
      "--- Working on filter 4:\n",
      "function = high_degree_coordinates\n",
      "function __name__ = filter_away_high_degree_coordinates\n",
      "function arguments = {'axon_dependent': True, 'min_degree_to_find': 4}\n",
      "\n",
      "\n",
      "min_degree_to_find = 4\n",
      "min_degree_to_find = 4\n",
      "min_degree_to_find = 4\n",
      "min_degree_to_find = 4\n",
      "min_degree_to_find = 4\n",
      "min_degree_to_find = 4\n",
      "\n",
      "\n",
      "\n",
      " ---- Total time for applying filter: 35.27667498588562 -----\n"
     ]
    },
    {
     "data": {
      "text/plain": [
       "(<neuron.Neuron at 0x7f20665405f8>,\n",
       " {'axon_on_dendrite_merges_neuron': <neuron.Neuron at 0x7f1f6c0786a0>,\n",
       "  'axon_on_dendrite_merges_time': 17.443485498428345,\n",
       "  'axon_on_dendrite_merges_error_area': 217.3167980124794,\n",
       "  'axon_on_dendrite_merges_error_length': 264.5559680521039,\n",
       "  'crossovers_neuron': <neuron.Neuron at 0x7f2066e0c2b0>,\n",
       "  'crossovers_time': 4.560564994812012,\n",
       "  'crossovers_error_area': 0,\n",
       "  'crossovers_error_length': 0,\n",
       "  'low_branch_clusters_neuron': <neuron.Neuron at 0x7f2065d8aba8>,\n",
       "  'low_branch_clusters_time': 0.2624814510345459,\n",
       "  'low_branch_clusters_error_area': 0,\n",
       "  'low_branch_clusters_error_length': 0,\n",
       "  'double_back_and_width_change_neuron': <neuron.Neuron at 0x7f2062c2db70>,\n",
       "  'double_back_and_width_change_time': 10.085803270339966,\n",
       "  'double_back_and_width_change_error_area': 0,\n",
       "  'double_back_and_width_change_error_length': 0,\n",
       "  'high_degree_coordinates_neuron': <neuron.Neuron at 0x7f20665405f8>,\n",
       "  'high_degree_coordinates_time': 2.923274278640747,\n",
       "  'high_degree_coordinates_error_area': 0,\n",
       "  'high_degree_coordinates_error_length': 0,\n",
       "  'dendrite_on_axon_merges_neuron': <neuron.Neuron at 0x7f2065d20080>,\n",
       "  'dendrite_on_axon_merges_time': 1.26600980758667,\n",
       "  'dendrite_on_axon_merges_error_area': 0,\n",
       "  'dendrite_on_axon_merges_error_length': 0})"
      ]
     },
     "execution_count": 72,
     "metadata": {},
     "output_type": "execute_result"
    }
   ],
   "source": [
    "pru.proofread_neuron_class_predetermined(neuron_obj_2,\n",
    "                                        inh_exc_class=\"excitatory\",\n",
    "                                        plot_limb_branch_filter_with_disconnect_effect=True)"
   ]
  },
  {
   "cell_type": "markdown",
   "metadata": {},
   "source": [
    "# Plotting what the proofread neurons look like on the database"
   ]
  },
  {
   "cell_type": "code",
   "execution_count": null,
   "metadata": {},
   "outputs": [],
   "source": [
    "nviz.plot_objects(main_mesh_color=)"
   ]
  },
  {
   "cell_type": "code",
   "execution_count": 91,
   "metadata": {},
   "outputs": [
    {
     "data": {
      "text/plain": [
       "864691135462301853"
      ]
     },
     "execution_count": 91,
     "metadata": {},
     "output_type": "execute_result"
    }
   ],
   "source": [
    "segment_id"
   ]
  },
  {
   "cell_type": "code",
   "execution_count": 98,
   "metadata": {},
   "outputs": [
    {
     "name": "stdout",
     "output_type": "stream",
     "text": [
      "Synapsse Results:\n",
      "Total Number of Synapses = 616\n",
      "n_valid_syn_ids_presyn = 0\n",
      "n_errored_syn_ids_presyn = 260\n",
      "n_valid_syn_ids_postsyn = 205\n",
      "n_errored_syn_ids_postsyn = 151\n"
     ]
    },
    {
     "data": {
      "application/vnd.jupyter.widget-view+json": {
       "model_id": "8d55e8aee3124fd39c86edaab518fd9b",
       "version_major": 2,
       "version_minor": 0
      },
      "text/plain": [
       "VBox(children=(Figure(camera=PerspectiveCamera(fov=46.0, position=(0.0, 0.0, 2.0), projectionMatrix=(1.0, 0.0,…"
      ]
     },
     "metadata": {},
     "output_type": "display_data"
    }
   ],
   "source": [
    "#For the missing presyn\n",
    "du.plot_proofread_neuron(segment_id,\n",
    "                         split_index=0,\n",
    "                         \n",
    "                         \n",
    "                         \n",
    "                        plot_errored_faces=True,\n",
    "                        errored_faces_color=\"aqua\",\n",
    "                         \n",
    "                         plot_proofreading_synapses=True,\n",
    "                        synapse_scatter_size=0.5,\n",
    "                         \n",
    "                         valid_presyn_color=\"blue\",\n",
    "                          valid_postsyn_color=\"blue\",\n",
    "                          error_presyn_color=\"red\",\n",
    "                          error_postsyn_color=\"red\",\n",
    "                         \n",
    "                         \n",
    "                        plot_axon_skeleton=False,\n",
    "                         plot_axon=False,\n",
    "                         \n",
    "                         \n",
    "                        mesh_alpha=1,\n",
    "                        main_mesh_alpha=1,\n",
    "                         main_mesh_color=\"black\"\n",
    "                         \n",
    "                        )"
   ]
  },
  {
   "cell_type": "code",
   "execution_count": 97,
   "metadata": {},
   "outputs": [
    {
     "name": "stdout",
     "output_type": "stream",
     "text": [
      "Synapsse Results:\n",
      "Total Number of Synapses = 616\n",
      "n_valid_syn_ids_presyn = 0\n",
      "n_errored_syn_ids_presyn = 260\n",
      "n_valid_syn_ids_postsyn = 130\n",
      "n_errored_syn_ids_postsyn = 226\n"
     ]
    },
    {
     "data": {
      "application/vnd.jupyter.widget-view+json": {
       "model_id": "6d9d480c1a33447fb63a6fc56d9ddc7e",
       "version_major": 2,
       "version_minor": 0
      },
      "text/plain": [
       "VBox(children=(Figure(camera=PerspectiveCamera(fov=46.0, position=(0.0, 0.0, 2.0), projectionMatrix=(1.0, 0.0,…"
      ]
     },
     "metadata": {},
     "output_type": "display_data"
    }
   ],
   "source": [
    "#For the missing presyn\n",
    "du.plot_proofread_neuron(segment_id,\n",
    "                         split_index=1,\n",
    "                         \n",
    "                         \n",
    "                         \n",
    "                        plot_errored_faces=True,\n",
    "                        errored_faces_color=\"aqua\",\n",
    "                         \n",
    "                         plot_proofreading_synapses=True,\n",
    "                        synapse_scatter_size=0.6,\n",
    "                         \n",
    "                         valid_presyn_color=\"blue\",\n",
    "                          valid_postsyn_color=\"blue\",\n",
    "                          error_presyn_color=\"red\",\n",
    "                          error_postsyn_color=\"red\",\n",
    "                         \n",
    "                         \n",
    "                        plot_axon_skeleton=False,\n",
    "                         plot_axon=False,\n",
    "                         \n",
    "                         \n",
    "                        mesh_alpha=1,\n",
    "                        main_mesh_alpha=1,\n",
    "                         main_mesh_color=\"black\"\n",
    "                         \n",
    "                        )"
   ]
  },
  {
   "cell_type": "code",
   "execution_count": 113,
   "metadata": {},
   "outputs": [],
   "source": [
    "import system_utils as su\n",
    "segment_id = 864691135117980637\n",
    "sk_axon = su.decompress_pickle(f\"/mnt/dj-stor01/platinum/minnie65/02/proofread_skeletons/{segment_id}_axon_skeleton.pbz2\")"
   ]
  },
  {
   "cell_type": "code",
   "execution_count": 111,
   "metadata": {},
   "outputs": [
    {
     "data": {
      "text/plain": [
       "(50694, 2, 3)"
      ]
     },
     "execution_count": 111,
     "metadata": {},
     "output_type": "execute_result"
    }
   ],
   "source": [
    "sk_axon.shape"
   ]
  },
  {
   "cell_type": "code",
   "execution_count": 112,
   "metadata": {},
   "outputs": [
    {
     "data": {
      "application/vnd.jupyter.widget-view+json": {
       "model_id": "",
       "version_major": 2,
       "version_minor": 0
      },
      "text/plain": [
       "VBox(children=(Figure(camera=PerspectiveCamera(fov=46.0, position=(0.0, 0.0, 2.0), projectionMatrix=(1.0, 0.0,…"
      ]
     },
     "metadata": {},
     "output_type": "display_data"
    }
   ],
   "source": [
    "nviz.plot_objects(main_skeleton=sk_axon)"
   ]
  },
  {
   "cell_type": "code",
   "execution_count": null,
   "metadata": {},
   "outputs": [],
   "source": []
  }
 ],
 "metadata": {
  "kernelspec": {
   "display_name": "Python 3",
   "language": "python",
   "name": "python3"
  },
  "language_info": {
   "codemirror_mode": {
    "name": "ipython",
    "version": 3
   },
   "file_extension": ".py",
   "mimetype": "text/x-python",
   "name": "python",
   "nbconvert_exporter": "python",
   "pygments_lexer": "ipython3",
   "version": "3.6.9"
  }
 },
 "nbformat": 4,
 "nbformat_minor": 4
}
