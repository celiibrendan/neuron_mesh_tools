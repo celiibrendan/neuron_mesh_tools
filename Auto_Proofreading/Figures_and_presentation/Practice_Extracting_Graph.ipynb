{
 "cells": [
  {
   "cell_type": "code",
   "execution_count": 2,
   "metadata": {},
   "outputs": [],
   "source": [
    "import bz2\n",
    "import _pickle as cPickle\n",
    "from pathlib import Path\n",
    "\n",
    "# Load any compressed pickle file\n",
    "def decompress_pickle(filename):\n",
    "    \"\"\"\n",
    "    Example: \n",
    "    data = decompress_pickle('example_cp.pbz2') \n",
    "    \"\"\"\n",
    "    if type(filename) == type(Path()):\n",
    "        filename = str(filename.absolute())\n",
    "    if filename[-5:] != \".pbz2\":\n",
    "        filename += \".pbz2\"\n",
    "        \n",
    "    data = bz2.BZ2File(filename, 'rb')\n",
    "    data = cPickle.load(data)\n",
    "    return data\n",
    "\n",
    "G = decompress_pickle(\"/neuron_mesh_tools/Graph_Analysis/G_proof_v3_multi_di_with_attributes.pbz2\")\n",
    "\n",
    "import networkx as nx\n",
    "print(len(G.nodes()),len(G.edges()))"
   ]
  },
  {
   "cell_type": "code",
   "execution_count": 5,
   "metadata": {},
   "outputs": [],
   "source": [
    "from tabulate import tabulate"
   ]
  },
  {
   "cell_type": "code",
   "execution_count": 6,
   "metadata": {},
   "outputs": [],
   "source": [
    "data = [[\"Himanshu\",1123, 10025], [\"Rohit\",1126,10029], \n",
    "             [\"Sha\",111178,7355.4]]"
   ]
  },
  {
   "cell_type": "code",
   "execution_count": 8,
   "metadata": {},
   "outputs": [
    {
     "name": "stdout",
     "output_type": "stream",
     "text": [
      "--------  ------  -------\n",
      "Himanshu    1123  10025\n",
      "Rohit       1126  10029\n",
      "Sha       111178   7355.4\n",
      "--------  ------  -------\n"
     ]
    }
   ],
   "source": [
    "print(tabulate(data))"
   ]
  },
  {
   "cell_type": "code",
   "execution_count": 20,
   "metadata": {},
   "outputs": [
    {
     "data": {
      "text/html": [
       "<div>\n",
       "<style scoped>\n",
       "    .dataframe tbody tr th:only-of-type {\n",
       "        vertical-align: middle;\n",
       "    }\n",
       "\n",
       "    .dataframe tbody tr th {\n",
       "        vertical-align: top;\n",
       "    }\n",
       "\n",
       "    .dataframe thead th {\n",
       "        text-align: right;\n",
       "    }\n",
       "</style>\n",
       "<table border=\"1\" class=\"dataframe\">\n",
       "  <thead>\n",
       "    <tr style=\"text-align: right;\">\n",
       "      <th></th>\n",
       "      <th>0</th>\n",
       "      <th>1</th>\n",
       "      <th>2</th>\n",
       "    </tr>\n",
       "  </thead>\n",
       "  <tbody>\n",
       "    <tr>\n",
       "      <th>0</th>\n",
       "      <td>Himanshu</td>\n",
       "      <td>Rohit</td>\n",
       "      <td>Sha</td>\n",
       "    </tr>\n",
       "    <tr>\n",
       "      <th>1</th>\n",
       "      <td>1123</td>\n",
       "      <td>1126</td>\n",
       "      <td>111178</td>\n",
       "    </tr>\n",
       "    <tr>\n",
       "      <th>2</th>\n",
       "      <td>10025</td>\n",
       "      <td>10029</td>\n",
       "      <td>7355.4</td>\n",
       "    </tr>\n",
       "  </tbody>\n",
       "</table>\n",
       "</div>"
      ],
      "text/plain": [
       "          0      1       2\n",
       "0  Himanshu  Rohit     Sha\n",
       "1      1123   1126  111178\n",
       "2     10025  10029  7355.4"
      ]
     },
     "execution_count": 20,
     "metadata": {},
     "output_type": "execute_result"
    }
   ],
   "source": [
    "import pandas as pd\n",
    "df = pd.DataFrame.from_records(data)\n",
    "df.transpose()"
   ]
  },
  {
   "cell_type": "code",
   "execution_count": 19,
   "metadata": {},
   "outputs": [
    {
     "ename": "ModuleNotFoundError",
     "evalue": "No module named 'pandas_utils'",
     "output_type": "error",
     "traceback": [
      "\u001b[0;31m---------------------------------------------------------------------------\u001b[0m",
      "\u001b[0;31mModuleNotFoundError\u001b[0m                       Traceback (most recent call last)",
      "\u001b[0;32m<ipython-input-19-a6ff39bca764>\u001b[0m in \u001b[0;36m<module>\u001b[0;34m\u001b[0m\n\u001b[0;32m----> 1\u001b[0;31m \u001b[0;32mimport\u001b[0m \u001b[0mpandas_utils\u001b[0m \u001b[0;32mas\u001b[0m \u001b[0mpu\u001b[0m\u001b[0;34m\u001b[0m\u001b[0;34m\u001b[0m\u001b[0m\n\u001b[0m",
      "\u001b[0;31mModuleNotFoundError\u001b[0m: No module named 'pandas_utils'"
     ]
    }
   ],
   "source": [
    "\n",
    "import pandas_utils as pu"
   ]
  },
  {
   "cell_type": "code",
   "execution_count": null,
   "metadata": {},
   "outputs": [],
   "source": []
  }
 ],
 "metadata": {
  "kernelspec": {
   "display_name": "Python 3",
   "language": "python",
   "name": "python3"
  },
  "language_info": {
   "codemirror_mode": {
    "name": "ipython",
    "version": 3
   },
   "file_extension": ".py",
   "mimetype": "text/x-python",
   "name": "python",
   "nbconvert_exporter": "python",
   "pygments_lexer": "ipython3",
   "version": "3.6.9"
  }
 },
 "nbformat": 4,
 "nbformat_minor": 4
}
