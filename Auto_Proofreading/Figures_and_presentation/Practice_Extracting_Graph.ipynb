{
 "cells": [
  {
   "cell_type": "code",
   "execution_count": 2,
   "metadata": {},
   "outputs": [],
   "source": [
    "import bz2\n",
    "import _pickle as cPickle\n",
    "from pathlib import Path\n",
    "\n",
    "# Load any compressed pickle file\n",
    "def decompress_pickle(filename):\n",
    "    \"\"\"\n",
    "    Example: \n",
    "    data = decompress_pickle('example_cp.pbz2') \n",
    "    \"\"\"\n",
    "    if type(filename) == type(Path()):\n",
    "        filename = str(filename.absolute())\n",
    "    if filename[-5:] != \".pbz2\":\n",
    "        filename += \".pbz2\"\n",
    "        \n",
    "    data = bz2.BZ2File(filename, 'rb')\n",
    "    data = cPickle.load(data)\n",
    "    return data\n",
    "\n",
    "G = decompress_pickle(\"/neuron_mesh_tools/Graph_Analysis/G_proof_v3_multi_di_with_attributes.pbz2\")\n",
    "\n",
    "import networkx as nx\n",
    "print(len(G.nodes()),len(G.edges()))"
   ]
  }
 ],
 "metadata": {
  "kernelspec": {
   "display_name": "Python 3",
   "language": "python",
   "name": "python3"
  },
  "language_info": {
   "codemirror_mode": {
    "name": "ipython",
    "version": 3
   },
   "file_extension": ".py",
   "mimetype": "text/x-python",
   "name": "python",
   "nbconvert_exporter": "python",
   "pygments_lexer": "ipython3",
   "version": "3.6.9"
  }
 },
 "nbformat": 4,
 "nbformat_minor": 4
}
