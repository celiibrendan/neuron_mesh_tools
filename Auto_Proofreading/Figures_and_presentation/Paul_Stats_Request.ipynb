{
 "cells": [
  {
   "cell_type": "code",
   "execution_count": 1,
   "metadata": {},
   "outputs": [
    {
     "data": {
      "text/plain": [
       "'\\nPurpose: \\nTo compute the statistics Paul wants for the grant\\n\\n'"
      ]
     },
     "execution_count": 1,
     "metadata": {},
     "output_type": "execute_result"
    }
   ],
   "source": [
    "\"\"\"\n",
    "Purpose: \n",
    "To compute the statistics Paul wants for the grant\n",
    "\n",
    "\"\"\""
   ]
  },
  {
   "cell_type": "code",
   "execution_count": 2,
   "metadata": {},
   "outputs": [],
   "source": [
    "%load_ext autoreload\n",
    "%autoreload 2"
   ]
  },
  {
   "cell_type": "code",
   "execution_count": 3,
   "metadata": {},
   "outputs": [],
   "source": [
    "from os import sys\n",
    "sys.path.append(\"/meshAfterParty/\")\n",
    "sys.path.append(\"/meshAfterParty/meshAfterParty/\")"
   ]
  },
  {
   "cell_type": "code",
   "execution_count": 4,
   "metadata": {},
   "outputs": [
    {
     "name": "stderr",
     "output_type": "stream",
     "text": [
      "INFO - 2021-03-09 19:15:29,617 - settings - Setting database.host to at-database.ad.bcm.edu\n",
      "INFO - 2021-03-09 19:15:29,619 - settings - Setting database.user to celiib\n",
      "INFO - 2021-03-09 19:15:29,620 - settings - Setting database.password to newceliipass\n",
      "INFO - 2021-03-09 19:15:29,633 - settings - Setting stores to {'minnie65': {'protocol': 'file', 'location': '/mnt/dj-stor01/platinum/minnie65', 'stage': '/mnt/dj-stor01/platinum/minnie65'}, 'meshes': {'protocol': 'file', 'location': '/mnt/dj-stor01/platinum/minnie65/02/meshes', 'stage': '/mnt/dj-stor01/platinum/minnie65/02/meshes'}, 'decimated_meshes': {'protocol': 'file', 'location': '/mnt/dj-stor01/platinum/minnie65/02/decimated_meshes', 'stage': '/mnt/dj-stor01/platinum/minnie65/02/decimated_meshes'}, 'skeletons': {'protocol': 'file', 'location': '/mnt/dj-stor01/platinum/minnie65/02/skeletons'}}\n",
      "INFO - 2021-03-09 19:15:29,634 - settings - Setting enable_python_native_blobs to True\n",
      "INFO - 2021-03-09 19:15:29,648 - connection - Connected celiib@at-database.ad.bcm.edu:3306\n"
     ]
    },
    {
     "name": "stdout",
     "output_type": "stream",
     "text": [
      "Connecting celiib@at-database.ad.bcm.edu:3306\n"
     ]
    },
    {
     "name": "stderr",
     "output_type": "stream",
     "text": [
      "INFO - 2021-03-09 19:15:30,029 - settings - Setting enable_python_native_blobs to True\n",
      "INFO - 2021-03-09 19:15:30,032 - settings - Setting database.host to at-database.ad.bcm.edu\n",
      "INFO - 2021-03-09 19:15:30,033 - settings - Setting database.user to celiib\n",
      "INFO - 2021-03-09 19:15:30,034 - settings - Setting database.password to newceliipass\n",
      "INFO - 2021-03-09 19:15:30,035 - settings - Setting database.host to at-database.ad.bcm.edu\n",
      "INFO - 2021-03-09 19:15:30,035 - settings - Setting database.user to celiib\n",
      "INFO - 2021-03-09 19:15:30,036 - settings - Setting database.password to newceliipass\n",
      "INFO - 2021-03-09 19:15:30,038 - settings - Setting enable_python_native_blobs to True\n",
      "INFO - 2021-03-09 19:15:30,459 - settings - Setting enable_python_native_blobs to True\n",
      "INFO - 2021-03-09 19:15:30,501 - settings - Setting database.host to at-database.ad.bcm.edu\n",
      "INFO - 2021-03-09 19:15:30,502 - settings - Setting database.user to celiib\n",
      "INFO - 2021-03-09 19:15:30,503 - settings - Setting database.password to newceliipass\n",
      "INFO - 2021-03-09 19:15:30,504 - settings - Setting enable_python_native_blobs to True\n",
      "INFO - 2021-03-09 19:15:30,967 - settings - Setting enable_python_native_blobs to True\n"
     ]
    }
   ],
   "source": [
    "import datajoint_utils as du\n",
    "minnie,schema = du.configure_minnie_vm()"
   ]
  },
  {
   "cell_type": "markdown",
   "metadata": {},
   "source": [
    "# Computing the ratio of dendrite to axon lengths"
   ]
  },
  {
   "cell_type": "code",
   "execution_count": null,
   "metadata": {},
   "outputs": [],
   "source": [
    "\"\"\"\n",
    "Psuedocode:\n",
    "1) \n",
    "\n",
    "\"\"\"\n"
   ]
  },
  {
   "cell_type": "code",
   "execution_count": 7,
   "metadata": {},
   "outputs": [],
   "source": [
    "n_limbs,n_axons = (minnie.AutoProofreadNeurons3() & \"spine_category='densely_spined'\").fetch(\"n_limbs\",\"n_axons\")"
   ]
  },
  {
   "cell_type": "code",
   "execution_count": 10,
   "metadata": {},
   "outputs": [],
   "source": [
    "import numpy as np\n",
    "total_n_neurons = n_axons\n",
    "total_n_limbs = np.sum(n_limbs)\n",
    "total_n_axons = np.sum(n_axons)"
   ]
  },
  {
   "cell_type": "code",
   "execution_count": null,
   "metadata": {},
   "outputs": [],
   "source": []
  }
 ],
 "metadata": {
  "kernelspec": {
   "display_name": "Python 3",
   "language": "python",
   "name": "python3"
  },
  "language_info": {
   "codemirror_mode": {
    "name": "ipython",
    "version": 3
   },
   "file_extension": ".py",
   "mimetype": "text/x-python",
   "name": "python",
   "nbconvert_exporter": "python",
   "pygments_lexer": "ipython3",
   "version": "3.6.9"
  }
 },
 "nbformat": 4,
 "nbformat_minor": 4
}
