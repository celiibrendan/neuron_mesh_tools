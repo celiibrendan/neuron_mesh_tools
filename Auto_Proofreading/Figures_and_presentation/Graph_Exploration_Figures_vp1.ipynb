{
 "cells": [
  {
   "cell_type": "code",
   "execution_count": 1,
   "metadata": {},
   "outputs": [
    {
     "data": {
      "text/plain": [
       "'\\nPurpose: To look at the initial stats of the \\ngraph from autoproofreading\\n\\n\\n'"
      ]
     },
     "execution_count": 1,
     "metadata": {},
     "output_type": "execute_result"
    }
   ],
   "source": [
    "\"\"\"\n",
    "Purpose: To look at the initial stats of the \n",
    "graph from autoproofreading\n",
    "\n",
    "\n",
    "\"\"\""
   ]
  },
  {
   "cell_type": "code",
   "execution_count": 2,
   "metadata": {},
   "outputs": [],
   "source": [
    "%load_ext autoreload\n",
    "%autoreload 2"
   ]
  },
  {
   "cell_type": "code",
   "execution_count": 3,
   "metadata": {},
   "outputs": [],
   "source": [
    "from os import sys\n",
    "sys.path.append(\"/meshAfterParty/meshAfterParty\")\n",
    "sys.path.append(\"/meshAfterParty/meshAfterParty/graph/\")"
   ]
  },
  {
   "cell_type": "code",
   "execution_count": 4,
   "metadata": {},
   "outputs": [
    {
     "name": "stderr",
     "output_type": "stream",
     "text": [
      "INFO - 2021-03-11 07:37:10,591 - settings - Setting database.host to at-database.ad.bcm.edu\n",
      "INFO - 2021-03-11 07:37:10,593 - settings - Setting database.user to celiib\n",
      "INFO - 2021-03-11 07:37:10,594 - settings - Setting database.password to newceliipass\n",
      "INFO - 2021-03-11 07:37:10,599 - settings - Setting stores to {'minnie65': {'protocol': 'file', 'location': '/mnt/dj-stor01/platinum/minnie65', 'stage': '/mnt/dj-stor01/platinum/minnie65'}, 'meshes': {'protocol': 'file', 'location': '/mnt/dj-stor01/platinum/minnie65/02/meshes', 'stage': '/mnt/dj-stor01/platinum/minnie65/02/meshes'}, 'decimated_meshes': {'protocol': 'file', 'location': '/mnt/dj-stor01/platinum/minnie65/02/decimated_meshes', 'stage': '/mnt/dj-stor01/platinum/minnie65/02/decimated_meshes'}, 'skeletons': {'protocol': 'file', 'location': '/mnt/dj-stor01/platinum/minnie65/02/skeletons'}}\n",
      "INFO - 2021-03-11 07:37:10,600 - settings - Setting enable_python_native_blobs to True\n",
      "INFO - 2021-03-11 07:37:10,614 - connection - Connected celiib@at-database.ad.bcm.edu:3306\n"
     ]
    },
    {
     "name": "stdout",
     "output_type": "stream",
     "text": [
      "Connecting celiib@at-database.ad.bcm.edu:3306\n"
     ]
    },
    {
     "name": "stderr",
     "output_type": "stream",
     "text": [
      "INFO - 2021-03-11 07:37:10,946 - settings - Setting enable_python_native_blobs to True\n",
      "INFO - 2021-03-11 07:37:10,950 - settings - Setting database.host to at-database.ad.bcm.edu\n",
      "INFO - 2021-03-11 07:37:10,951 - settings - Setting database.user to celiib\n",
      "INFO - 2021-03-11 07:37:10,951 - settings - Setting database.password to newceliipass\n",
      "INFO - 2021-03-11 07:37:10,952 - settings - Setting database.host to at-database.ad.bcm.edu\n",
      "INFO - 2021-03-11 07:37:10,952 - settings - Setting database.user to celiib\n",
      "INFO - 2021-03-11 07:37:10,953 - settings - Setting database.password to newceliipass\n",
      "INFO - 2021-03-11 07:37:10,955 - settings - Setting enable_python_native_blobs to True\n",
      "INFO - 2021-03-11 07:37:11,313 - settings - Setting enable_python_native_blobs to True\n",
      "INFO - 2021-03-11 07:37:11,346 - settings - Setting database.host to at-database.ad.bcm.edu\n",
      "INFO - 2021-03-11 07:37:11,347 - settings - Setting database.user to celiib\n",
      "INFO - 2021-03-11 07:37:11,348 - settings - Setting database.password to newceliipass\n",
      "INFO - 2021-03-11 07:37:11,349 - settings - Setting enable_python_native_blobs to True\n",
      "INFO - 2021-03-11 07:37:11,741 - settings - Setting enable_python_native_blobs to True\n"
     ]
    }
   ],
   "source": [
    "import datajoint_utils as du\n",
    "minnie,schema = du.configure_minnie_vm()"
   ]
  },
  {
   "cell_type": "code",
   "execution_count": 5,
   "metadata": {},
   "outputs": [],
   "source": [
    "import pandas as pd\n",
    "import matplotlib.pyplot as plt\n",
    "import networkx as nx\n",
    "import numpy as np\n",
    "import networkx_utils as xu\n",
    "import numpy_utils as nu\n",
    "from importlib import reload"
   ]
  },
  {
   "cell_type": "code",
   "execution_count": 6,
   "metadata": {},
   "outputs": [],
   "source": [
    "import graph_visualizations as gviz\n",
    "import graph_analysis as ga"
   ]
  },
  {
   "cell_type": "markdown",
   "metadata": {},
   "source": [
    "# Getting the Statistics on the Initial Graph"
   ]
  },
  {
   "cell_type": "code",
   "execution_count": null,
   "metadata": {},
   "outputs": [],
   "source": []
  },
  {
   "cell_type": "code",
   "execution_count": 8,
   "metadata": {},
   "outputs": [
    {
     "name": "stdout",
     "output_type": "stream",
     "text": [
      "-> minnie.Decomposition\n",
      "split_index          : tinyint unsigned             # the index of the neuron object that resulted AFTER THE SPLITTING ALGORITHM\n",
      "-> minnie.AutoProofreadVersion\n",
      "---\n",
      "multiplicity         : tinyint unsigned             # the total number of neurons that came from the parent segment id\n",
      "cell_type_predicted  : enum('excitatory','inhibitory','other','unknown') # morphology predicted by classifier\n",
      "spine_category       : enum('no_spined','sparsely_spined','densely_spined') \n",
      "n_axons              : tinyint unsigned             # Number of axon candidates identified\n",
      "n_apicals            : tinyint unsigned             # Number of apicals identified\n",
      "axon_length          : double                       # length (in um) of the classified axon skeleton\n",
      "axon_area            : double                       # # area (in um^2) of the classified axon\n",
      "nucleus_id           : int unsigned                 # id of nucleus from the flat segmentation  Equivalent to Allen: 'id'.\n",
      "nuclei_distance      : double                       # the distance to the closest nuclei (even if no matching nuclei found)\n",
      "n_nuclei_in_radius   : tinyint unsigned             # the number of nuclei within the search radius of 15000 belonging to that segment\n",
      "n_nuclei_in_bbox     : tinyint unsigned             # the number of nuclei within the bounding box of that soma\n",
      "soma_x               : int unsigned                 # x coordinate of nucleus centroid in EM voxels (x: 4nm, y: 4nm, z: 40nm)\n",
      "soma_y               : int unsigned                 # y coordinate of nucleus centroid in EM voxels (x: 4nm, y: 4nm, z: 40nm)\n",
      "soma_z               : int unsigned                 # z coordinate of nucleus centroid in EM voxels (x: 4nm, y: 4nm, z: 40nm)\n",
      "max_soma_n_faces     : int unsigned                 # The largest number of faces of the somas\n",
      "max_soma_volume      : int unsigned                 # The largest volume of the somas the (volume in billions (10*9 nm^3))\n",
      "n_vertices           : int unsigned                 # number of vertices\n",
      "n_faces              : int unsigned                 # number of faces\n",
      "n_not_processed_soma_containing_meshes : int unsigned                 # the number of meshes with somas that were not processed\n",
      "n_error_limbs        : int                          # the number of limbs that are touching multiple somas or 1 soma in multiple places\n",
      "n_same_soma_multi_touching_limbs : int                          # number of limbs that touch the same soma multiple times\n",
      "n_multi_soma_touching_limbs : int                          # number of limbs that touch multiple somas\n",
      "n_somas              : int                          # number of soma meshes detected\n",
      "n_limbs              : int                          \n",
      "n_branches           : int                          \n",
      "max_limb_n_branches=null : int                          \n",
      "skeletal_length=null : double                       \n",
      "max_limb_skeletal_length=null : double                       \n",
      "median_branch_length=null : double                       # gives information on average skeletal length to next branch point\n",
      "width_median=null    : double                       # median width from mesh center without spines removed\n",
      "width_no_spine_median=null : double                       # median width from mesh center with spines removed\n",
      "width_90_perc=null   : double                       # 90th percentile for width without spines removed\n",
      "width_no_spine_90_perc=null : double                       # 90th percentile for width with spines removed\n",
      "n_spines             : bigint                       \n",
      "spine_density=null   : double                       # n_spines/ skeletal_length\n",
      "spines_per_branch=null : double                       \n",
      "skeletal_length_eligible=null : double                       # the skeletal length for all branches searched for spines\n",
      "n_spine_eligible_branches=null : int                          # the number of branches that were checked for spines because passed width threshold\n",
      "spine_density_eligible=null : double                       # n_spines/skeletal_length_eligible\n",
      "spines_per_branch_eligible=null : double                       # n_spines/n_spine_eligible_branches\n",
      "total_spine_volume=null : double                       # the sum of all spine volume\n",
      "spine_volume_median=null : double                       # median of the spine volume for those spines with able to calculate volume\n",
      "spine_volume_density=null : double                       # total_spine_volume/skeletal_length\n",
      "spine_volume_density_eligible=null : double                       # total_spine_volume/skeletal_length_eligible\n",
      "spine_volume_per_branch_eligible=null : double                       # total_spine_volume/n_spine_eligible_branches\n",
      "axon_angle_maximum=null : double                       # the anlge of an identified axon\n",
      "spine_density_classifier : double                       # the number of spines divided by skeletal length for branches analyzed in classification\n",
      "n_branches_processed : int unsigned                 # the number branches used for the spine density analysis\n",
      "skeletal_length_processed : double                       # The total skeletal length of the viable branches used for the spine density analysis\n",
      "n_branches_in_search_radius : int unsigned                 # the number branches existing in the search radius used for spine density\n",
      "skeletal_length_in_search_radius : double                       # The total skeletal length of the branches existing in the search radius used for spine density\n",
      "run_time=null        : double                       # the amount of time to run (seconds)\n",
      "\n"
     ]
    },
    {
     "data": {
      "text/plain": [
       "\"-> minnie.Decomposition\\nsplit_index          : tinyint unsigned             # the index of the neuron object that resulted AFTER THE SPLITTING ALGORITHM\\n-> minnie.AutoProofreadVersion\\n---\\nmultiplicity         : tinyint unsigned             # the total number of neurons that came from the parent segment id\\ncell_type_predicted  : enum('excitatory','inhibitory','other','unknown') # morphology predicted by classifier\\nspine_category       : enum('no_spined','sparsely_spined','densely_spined') \\nn_axons              : tinyint unsigned             # Number of axon candidates identified\\nn_apicals            : tinyint unsigned             # Number of apicals identified\\naxon_length          : double                       # length (in um) of the classified axon skeleton\\naxon_area            : double                       # # area (in um^2) of the classified axon\\nnucleus_id           : int unsigned                 # id of nucleus from the flat segmentation  Equivalent to Allen: 'id'.\\nnuclei_distance      : double                       # the distance to the closest nuclei (even if no matching nuclei found)\\nn_nuclei_in_radius   : tinyint unsigned             # the number of nuclei within the search radius of 15000 belonging to that segment\\nn_nuclei_in_bbox     : tinyint unsigned             # the number of nuclei within the bounding box of that soma\\nsoma_x               : int unsigned                 # x coordinate of nucleus centroid in EM voxels (x: 4nm, y: 4nm, z: 40nm)\\nsoma_y               : int unsigned                 # y coordinate of nucleus centroid in EM voxels (x: 4nm, y: 4nm, z: 40nm)\\nsoma_z               : int unsigned                 # z coordinate of nucleus centroid in EM voxels (x: 4nm, y: 4nm, z: 40nm)\\nmax_soma_n_faces     : int unsigned                 # The largest number of faces of the somas\\nmax_soma_volume      : int unsigned                 # The largest volume of the somas the (volume in billions (10*9 nm^3))\\nn_vertices           : int unsigned                 # number of vertices\\nn_faces              : int unsigned                 # number of faces\\nn_not_processed_soma_containing_meshes : int unsigned                 # the number of meshes with somas that were not processed\\nn_error_limbs        : int                          # the number of limbs that are touching multiple somas or 1 soma in multiple places\\nn_same_soma_multi_touching_limbs : int                          # number of limbs that touch the same soma multiple times\\nn_multi_soma_touching_limbs : int                          # number of limbs that touch multiple somas\\nn_somas              : int                          # number of soma meshes detected\\nn_limbs              : int                          \\nn_branches           : int                          \\nmax_limb_n_branches=null : int                          \\nskeletal_length=null : double                       \\nmax_limb_skeletal_length=null : double                       \\nmedian_branch_length=null : double                       # gives information on average skeletal length to next branch point\\nwidth_median=null    : double                       # median width from mesh center without spines removed\\nwidth_no_spine_median=null : double                       # median width from mesh center with spines removed\\nwidth_90_perc=null   : double                       # 90th percentile for width without spines removed\\nwidth_no_spine_90_perc=null : double                       # 90th percentile for width with spines removed\\nn_spines             : bigint                       \\nspine_density=null   : double                       # n_spines/ skeletal_length\\nspines_per_branch=null : double                       \\nskeletal_length_eligible=null : double                       # the skeletal length for all branches searched for spines\\nn_spine_eligible_branches=null : int                          # the number of branches that were checked for spines because passed width threshold\\nspine_density_eligible=null : double                       # n_spines/skeletal_length_eligible\\nspines_per_branch_eligible=null : double                       # n_spines/n_spine_eligible_branches\\ntotal_spine_volume=null : double                       # the sum of all spine volume\\nspine_volume_median=null : double                       # median of the spine volume for those spines with able to calculate volume\\nspine_volume_density=null : double                       # total_spine_volume/skeletal_length\\nspine_volume_density_eligible=null : double                       # total_spine_volume/skeletal_length_eligible\\nspine_volume_per_branch_eligible=null : double                       # total_spine_volume/n_spine_eligible_branches\\naxon_angle_maximum=null : double                       # the anlge of an identified axon\\nspine_density_classifier : double                       # the number of spines divided by skeletal length for branches analyzed in classification\\nn_branches_processed : int unsigned                 # the number branches used for the spine density analysis\\nskeletal_length_processed : double                       # The total skeletal length of the viable branches used for the spine density analysis\\nn_branches_in_search_radius : int unsigned                 # the number branches existing in the search radius used for spine density\\nskeletal_length_in_search_radius : double                       # The total skeletal length of the branches existing in the search radius used for spine density\\nrun_time=null        : double                       # the amount of time to run (seconds)\\n\""
      ]
     },
     "execution_count": 8,
     "metadata": {},
     "output_type": "execute_result"
    }
   ],
   "source": [
    "minnie.AutoProofreadNeurons3.describe()"
   ]
  },
  {
   "cell_type": "code",
   "execution_count": null,
   "metadata": {},
   "outputs": [],
   "source": []
  },
  {
   "cell_type": "code",
   "execution_count": null,
   "metadata": {},
   "outputs": [],
   "source": [
    "orig_presyn,orig_postsyn = (du.m65mat.NucleusSynapse() & \"presyn != postsyn\").fetch(\"presyn\",\"postsyn\")"
   ]
  },
  {
   "cell_type": "code",
   "execution_count": null,
   "metadata": {},
   "outputs": [],
   "source": [
    "original_edges = np.vstack([orig_presyn,orig_postsyn]).T\n",
    "original_edges"
   ]
  },
  {
   "cell_type": "markdown",
   "metadata": {},
   "source": [
    "# Function that will do a lot of the analysis for a graph and return results"
   ]
  },
  {
   "cell_type": "code",
   "execution_count": null,
   "metadata": {},
   "outputs": [],
   "source": []
  },
  {
   "cell_type": "code",
   "execution_count": null,
   "metadata": {},
   "outputs": [],
   "source": []
  },
  {
   "cell_type": "markdown",
   "metadata": {},
   "source": [
    "# a) Original Graph (Directed and Multi-Graph)"
   ]
  },
  {
   "cell_type": "code",
   "execution_count": null,
   "metadata": {},
   "outputs": [],
   "source": [
    "G_orig_multi_di = nx.MultiDiGraph()\n",
    "_ = G_orig_multi_di.add_edges_from(original_edges)"
   ]
  },
  {
   "cell_type": "code",
   "execution_count": null,
   "metadata": {},
   "outputs": [],
   "source": [
    "graph_title = \"Original Graph (Multi-Edge,Diretional)\""
   ]
  },
  {
   "cell_type": "code",
   "execution_count": null,
   "metadata": {
    "scrolled": true
   },
   "outputs": [],
   "source": [
    "print(f\"Stats for Original Graph (Multi-Edge, Directional)\")\n",
    "print(f\"Number of Nodes = {nu.comma_str(len(G_orig_multi_di.nodes()))}\")\n",
    "print(f\"Number of Edges = {nu.comma_str(G_orig_multi_di.size())}\")"
   ]
  },
  {
   "cell_type": "code",
   "execution_count": null,
   "metadata": {},
   "outputs": [],
   "source": [
    "degree_distribution_filtered_orig_multi_di = ga.degree_distribution(G_orig_multi_di,\n",
    "                                                     percentile=99.5)\n",
    "mean_orig_multi_di = np.mean(degree_distribution_filtered_orig_multi_di)\n",
    "median_orig_multi_di = np.median(degree_distribution_filtered_orig_multi_di)\n",
    "print(f\"mean_orig_multi_di = {nu.comma_str(mean_orig_multi_di)}, median_orig_multi_di = {nu.comma_str(median_orig_multi_di)}\")"
   ]
  },
  {
   "cell_type": "code",
   "execution_count": null,
   "metadata": {
    "scrolled": true
   },
   "outputs": [],
   "source": [
    "degree_type_list = [\"in_and_out\",\"in\",\"out\"]\n",
    "\n",
    "for k in degree_type_list:\n",
    "    gviz.plot_degree_distribution(G_orig_multi_di,\n",
    "                                 degree_type=k,\n",
    "                                 title_append=graph_title,\n",
    "                                 percentile=99.5)"
   ]
  },
  {
   "cell_type": "markdown",
   "metadata": {},
   "source": [
    "# For the Undirected Type"
   ]
  },
  {
   "cell_type": "code",
   "execution_count": null,
   "metadata": {},
   "outputs": [],
   "source": [
    "verbose=True"
   ]
  },
  {
   "cell_type": "code",
   "execution_count": null,
   "metadata": {},
   "outputs": [],
   "source": [
    "G_orig_multi = nx.MultiGraph(G_orig_multi_di)"
   ]
  },
  {
   "cell_type": "code",
   "execution_count": null,
   "metadata": {},
   "outputs": [],
   "source": [
    "graph_title = \"Original Graph (Multi-Edge, Undirectional)\""
   ]
  },
  {
   "cell_type": "code",
   "execution_count": null,
   "metadata": {},
   "outputs": [],
   "source": [
    "print(f\"Stats for {graph_title}\")\n",
    "print(f\"Number of Nodes = {nu.comma_str(len(G_orig_multi.nodes()))}\")\n",
    "print(f\"Number of Edges = {nu.comma_str(G_orig_multi.size())}\")"
   ]
  },
  {
   "cell_type": "code",
   "execution_count": null,
   "metadata": {},
   "outputs": [],
   "source": [
    "# getting the biggest connected component\n",
    "curr_graph_larg_comp = ga.largest_connected_component(G_orig_multi)\n",
    "print(f\"Largest Component of {graph_title}:\")\n",
    "print(f\"Number of Nodes = {nu.comma_str(len(curr_graph_larg_comp.nodes()))}\")\n",
    "print(f\"Number of Edges = {nu.comma_str(len(curr_graph_larg_comp.edges()))}\")"
   ]
  },
  {
   "cell_type": "code",
   "execution_count": null,
   "metadata": {},
   "outputs": [],
   "source": [
    "degree_type_list = [\"in_and_out\",\"in\",\"out\"]\n",
    "\n",
    "G = G_orig_multi\n",
    "\n",
    "for k in degree_type_list:\n",
    "    try:\n",
    "        curr_degree_distr = ga.degree_distribution(G,\n",
    "                                                   degree_type=k,\n",
    "                                                    percentile=99.5)\n",
    "    except:\n",
    "        continue\n",
    "        \n",
    "    curr_degree_distr_mean = np.mean(curr_degree_distr)\n",
    "    curr_degree_distr_median = np.median(curr_degree_distr)\n",
    "    \n",
    "    if verbose:\n",
    "        print(f\"{graph_title} {k} degree distribution mean = {nu.comma_str(curr_degree_distr_mean)},\\n\"\n",
    "              f\"{graph_title} {k} degree distribution median = {nu.comma_str(curr_degree_distr_median)}\")\n",
    "\n",
    "\n",
    "    gviz.plot_degree_distribution(G,\n",
    "                                 degree_type=k,\n",
    "                                 title_append=graph_title,\n",
    "                                  degree_distribution=curr_degree_distr,\n",
    "                                 print_degree_distribution_stats=False)"
   ]
  },
  {
   "cell_type": "code",
   "execution_count": null,
   "metadata": {},
   "outputs": [],
   "source": [
    "outptu_dict = ga.graph_analysis_basic_with_components(G=G_orig_multi_di,\n",
    "                        graph_title = \"Original Graph (Multi-Edge,Diretional)\",\n",
    "                        verbose = True,\n",
    "                        plot_distributions = True,\n",
    "                        degree_distribution_percentile=99.5)\n",
    "    "
   ]
  },
  {
   "cell_type": "code",
   "execution_count": null,
   "metadata": {},
   "outputs": [],
   "source": [
    "outptu_dict"
   ]
  },
  {
   "cell_type": "code",
   "execution_count": null,
   "metadata": {},
   "outputs": [],
   "source": [
    "ga.degree_distribution(G_orig_multi_di,\n",
    "                                                       degree_type=\"in\",\n",
    "                                                        percentile=99.5)"
   ]
  },
  {
   "cell_type": "code",
   "execution_count": null,
   "metadata": {},
   "outputs": [],
   "source": []
  },
  {
   "cell_type": "code",
   "execution_count": null,
   "metadata": {},
   "outputs": [],
   "source": []
  },
  {
   "cell_type": "code",
   "execution_count": null,
   "metadata": {},
   "outputs": [],
   "source": [
    "# degree_distribution_analysis(G = G_orig_multi)\n",
    "ga.degree_distribution_analysis(G = G_orig_multi_di)\n"
   ]
  },
  {
   "cell_type": "markdown",
   "metadata": {},
   "source": [
    "# Original Graph but undirected non-multi-edge (simple)"
   ]
  },
  {
   "cell_type": "code",
   "execution_count": null,
   "metadata": {
    "scrolled": true
   },
   "outputs": [],
   "source": [
    "G_orig = nx.Graph(G_orig_multi_di)"
   ]
  },
  {
   "cell_type": "code",
   "execution_count": null,
   "metadata": {},
   "outputs": [],
   "source": [
    "print(f\"Stats for Original Graph simple (Non-Multi-Edge, Undirectional)\")\n",
    "print(f\"Number of Nodes = {nu.comma_str(len(G_orig.nodes()))}\")\n",
    "print(f\"Number of Edges = {nu.comma_str(G_orig.size())}\")"
   ]
  },
  {
   "cell_type": "code",
   "execution_count": null,
   "metadata": {},
   "outputs": [],
   "source": [
    "# The Sizes of the components in the graph\n",
    "conn_comp = list(nx.connected_components(G_undirected_orig))\n",
    "conn_comp_size = [len(k) for k in conn_comp]\n",
    "print(f\"conn_comp_size = {conn_comp_size}\")"
   ]
  },
  {
   "cell_type": "markdown",
   "metadata": {},
   "source": [
    "# Pull Down and Calculating the Initial Graph"
   ]
  },
  {
   "cell_type": "code",
   "execution_count": null,
   "metadata": {},
   "outputs": [],
   "source": [
    "def fetch_graph_proofread(apply_non_limb_presyn_filter=True):\n",
    "    \"\"\"\n",
    "    Purpose: To get the \n",
    "    \n",
    "    \n",
    "    \"\"\"\n",
    "#subtracting off presyns that are not on limb branches \n",
    "if apply_non_limb_presyn_filter:\n",
    "    table_to_subtract = (du.proofreading_synapse_table() & \"skeletal_distance_to_soma<0 AND synapse_type='presyn'\").proj()\n",
    "    synapse_data = (du.proofreading_synapse_table() - table_to_subtract).fetch(as_dict=True)\n",
    "else:\n",
    "    synapse_data = du.proofreading_synapse_table() \n",
    "\n",
    "# pulling down the data\n",
    "synapse_data_df = pd.DataFrame.from_dict(synapse_data)\n",
    "\n",
    "#This function convert a dataframe that stores presyn and postsyn into a dataframe of \n"
   ]
  },
  {
   "cell_type": "code",
   "execution_count": null,
   "metadata": {},
   "outputs": [],
   "source": [
    "\"\""
   ]
  },
  {
   "cell_type": "code",
   "execution_count": null,
   "metadata": {},
   "outputs": [],
   "source": []
  },
  {
   "cell_type": "code",
   "execution_count": null,
   "metadata": {},
   "outputs": [],
   "source": [
    "uniq_synapse_ids,unique_synapse_indexes,inverse_indices,synapse_id_counts = np.unique(synapse_data_df[\"synapse_id\"].to_numpy(),\n",
    "                           return_index=True,\n",
    "                           return_inverse=True,\n",
    "                            return_counts=True)"
   ]
  },
  {
   "cell_type": "code",
   "execution_count": null,
   "metadata": {},
   "outputs": [],
   "source": [
    "direct_connection_synapse_idx = np.where(synapse_id_counts==2)[0]\n",
    "direct_connection_synapse_mask = np.zeros(len(synapse_id_counts))\n",
    "direct_connection_synapse_mask[direct_connection_synapse_idx] = 1\n",
    "direct_connection_synapse_mask = direct_connection_synapse_mask.astype(\"bool\")\n",
    "row_filter = direct_connection_synapse_mask[inverse_indices]\n",
    "\n",
    "direct_connections_df = synapse_data_df.iloc[row_filter]\n",
    "direct_connections_df"
   ]
  },
  {
   "cell_type": "code",
   "execution_count": null,
   "metadata": {},
   "outputs": [],
   "source": [
    "# Combining the table's presyns and postsyns onto the same row\n",
    "\n",
    "df_tables = []\n",
    "for synapse_type in [\"presyn\",\"postsyn\"]:\n",
    "    direct_connections_df_init = direct_connections_df[direct_connections_df[\"synapse_type\"]==synapse_type]\n",
    "    \n",
    "    direct_connections_df_init_sorted = direct_connections_df_init.sort_values(by=['synapse_id']).reset_index(drop=True)\n",
    "    \n",
    "    direct_connections_df_presyn = direct_connections_df_init_sorted[[k for k in direct_connections_df_init_sorted.columns if k != \"synapse_type\"] ]\n",
    "    \n",
    "    #column_mapper = dict([(k,f\"{k}_{synapse_type}\") if k != \"synapse_id\"  else (k,k) for k in direct_connections_df_presyn.columns])\n",
    "    column_mapper = dict([(k,f\"{synapse_type}_{k}\") for k in direct_connections_df_presyn.columns])\n",
    "\n",
    "    presyn_df = direct_connections_df_presyn.rename(columns=column_mapper)\n",
    "    df_tables.append(presyn_df)\n",
    "    \n",
    "direct_conn_df = pd.concat(df_tables,axis=1)\n",
    "direct_conn_df"
   ]
  },
  {
   "cell_type": "code",
   "execution_count": null,
   "metadata": {},
   "outputs": [],
   "source": [
    "edges_df = direct_conn_df[[\"presyn_nucleus_id\",\"postsyn_nucleus_id\"]]\n",
    "connectome_edges = edges_df.to_numpy()\n",
    "connectome_edges"
   ]
  },
  {
   "cell_type": "markdown",
   "metadata": {},
   "source": [
    "# Preliminary Look at the Graph"
   ]
  },
  {
   "cell_type": "code",
   "execution_count": null,
   "metadata": {},
   "outputs": [],
   "source": [
    "import networkx as nx"
   ]
  },
  {
   "cell_type": "code",
   "execution_count": null,
   "metadata": {},
   "outputs": [],
   "source": [
    "G = nx.MultiDiGraph()\n",
    "G.add_edges_from(connectome_edges)\n",
    "len(G.nodes()),len(G.edges())"
   ]
  },
  {
   "cell_type": "code",
   "execution_count": null,
   "metadata": {},
   "outputs": [],
   "source": [
    "G_undirected_non_multi = nx.Graph(G)\n",
    "len(G_undirected_non_multi.nodes()),len(G_undirected_non_multi.edges())"
   ]
  },
  {
   "cell_type": "code",
   "execution_count": null,
   "metadata": {},
   "outputs": [],
   "source": [
    "G_directed_non_multi = nx.DiGraph(G)\n",
    "len(G_directed_non_multi.nodes()),len(G_directed_non_multi.edges())"
   ]
  },
  {
   "cell_type": "code",
   "execution_count": null,
   "metadata": {},
   "outputs": [],
   "source": [
    "#For connected components cannot be a directed graph\n",
    "G_undirected = G_undirected_non_multi\n",
    "\n",
    "n_components = nx.number_connected_components(G_undirected)\n",
    "print(f\"Number of connected components = {n_components}\")\n",
    "\n",
    "# The Sizes of the components in the graph\n",
    "conn_comp = list(nx.connected_components(G_undirected))\n",
    "conn_comp_size = [len(k) for k in conn_comp]\n",
    "print(f\"conn_comp_size = {conn_comp_size}\")"
   ]
  },
  {
   "cell_type": "code",
   "execution_count": null,
   "metadata": {},
   "outputs": [],
   "source": [
    "fig,ax = plt.subplots(1,1)\n",
    "ax.hist(conn_comp_size)\n",
    "ax.set_title(\"Number of Neurons in Connected Components\")\n",
    "ax.set_xlabel(\"Number of Neurons\")\n",
    "plt.show()"
   ]
  },
  {
   "cell_type": "markdown",
   "metadata": {},
   "source": [
    "# Selecting the largest component"
   ]
  },
  {
   "cell_type": "code",
   "execution_count": null,
   "metadata": {},
   "outputs": [],
   "source": [
    "G_largest = G.subgraph(conn_comp[0])\n",
    "node_names_largest_comp = np.array(G_largest.nodes())\n",
    "node_names_largest_comp.shape"
   ]
  },
  {
   "cell_type": "markdown",
   "metadata": {},
   "source": [
    "# Plotting the Degree Distribution"
   ]
  },
  {
   "cell_type": "code",
   "execution_count": null,
   "metadata": {},
   "outputs": [],
   "source": [
    "import graph_visualizations as gu"
   ]
  },
  {
   "cell_type": "code",
   "execution_count": null,
   "metadata": {},
   "outputs": [],
   "source": [
    "G.nodes"
   ]
  },
  {
   "cell_type": "code",
   "execution_count": null,
   "metadata": {},
   "outputs": [],
   "source": [
    "gu.plot_degree_distribution(G,logscale=True,n_bins = 100,percentile=99,\n",
    "                           font_size=20)"
   ]
  },
  {
   "cell_type": "code",
   "execution_count": null,
   "metadata": {},
   "outputs": [],
   "source": [
    "gu.plot_degree_distribution(G,logscale=True,n_bins = 100,percentile=99,\n",
    "                           font_size=18,\n",
    "                           title=\"Degree Distribution v3 \\n Neurons with Axon Length > 1000\")"
   ]
  },
  {
   "cell_type": "markdown",
   "metadata": {},
   "source": [
    "# Getting the statistics on the graph"
   ]
  },
  {
   "cell_type": "code",
   "execution_count": null,
   "metadata": {},
   "outputs": [],
   "source": [
    "large_axon_nuclei = (du.proofreading_neurons_table() & \"axon_length>1000\").fetch(\"nucleus_id\")\n",
    "large_axon_nuclei.shape\n",
    "large_axon_subgraph = G.subgraph(large_axon_nuclei)\n"
   ]
  },
  {
   "cell_type": "code",
   "execution_count": null,
   "metadata": {},
   "outputs": [],
   "source": [
    "gu.plot_degree_distribution(large_axon_subgraph,logscale=True,n_bins = 100,percentile=99,\n",
    "                           font_size=18,\n",
    "                           title=\"Degree Distribution v3 \\n Neurons with Axon Length > 1000\")"
   ]
  },
  {
   "cell_type": "code",
   "execution_count": null,
   "metadata": {},
   "outputs": [],
   "source": []
  },
  {
   "cell_type": "code",
   "execution_count": null,
   "metadata": {},
   "outputs": [],
   "source": [
    "print(f\"\"\"\n",
    "Graph Statistics:\n",
    "\n",
    "Within the Direct Connection Graph\n",
    "1) {len(G.nodes())} Nodes\n",
    "2) {len(G.edges())} Direct Connections\n",
    "3) {len(large_axon_subgraph.nodes())} Nodes with Axon Skeletal Length > 1000\n",
    "4) {len(large_axon_subgraph.edges())} Direct Connections between Nodes with Axon Skeletal Length > 1000\n",
    "\n",
    "\"\"\")"
   ]
  },
  {
   "cell_type": "code",
   "execution_count": null,
   "metadata": {},
   "outputs": [],
   "source": [
    "excitatory_nuclei = (du.proofreading_neurons_table() & dict(spine_category = \"densely_spined\")).fetch(\"nucleus_id\")\n",
    "excitatory_nuclei\n",
    "G_exc = G.subgraph(excitatory_nuclei)\n",
    "large_axon_nuclei_exc =  (du.proofreading_neurons_table() & dict(spine_category = \"densely_spined\")\n",
    "                                             & \"axon_length>1000\").fetch(\"nucleus_id\")\n",
    "large_axon_subgraph_exc = G.subgraph(large_axon_nuclei_exc)\n",
    "                              "
   ]
  },
  {
   "cell_type": "code",
   "execution_count": null,
   "metadata": {},
   "outputs": [],
   "source": [
    "minnie.AutoProofreadNeurons3()"
   ]
  },
  {
   "cell_type": "code",
   "execution_count": null,
   "metadata": {},
   "outputs": [],
   "source": [
    "print(f\"\"\"\n",
    "Graph Statistics:\n",
    "\n",
    "* For an all densely spined excitatory graph *\n",
    "Within the Direct Connection Graph\n",
    "1) {len(G_exc.nodes())} Nodes\n",
    "2) {len(G_exc.edges())} Direct Connections\n",
    "3) {len(large_axon_subgraph_exc.nodes())} Nodes with Axon Skeletal Length > 1000\n",
    "4) {len(large_axon_subgraph_exc.edges())} Direct Connections between Nodes with Axon Skeletal Length > 1000\n",
    "\n",
    "\"\"\")"
   ]
  },
  {
   "cell_type": "code",
   "execution_count": null,
   "metadata": {},
   "outputs": [],
   "source": [
    "curr_graph = orig_G\n",
    "\n",
    "print(f\"\"\"\n",
    "Graph Statistics:\n",
    "\n",
    "* For an all densely spined excitatory graph *\n",
    "Within the Direct Connection Graph\n",
    "1) {len(orig_G.nodes())} Nodes\n",
    "2) {len(orig_G.edges())} Direct Connections\n",
    "3) {len(G_undirected_orig)}: Undirected, non-multi_edge Direct Connections\n",
    "\n",
    "\"\"\")"
   ]
  },
  {
   "cell_type": "code",
   "execution_count": null,
   "metadata": {},
   "outputs": [],
   "source": [
    "orig_G = nx.MultiDiGraph()\n",
    "orig_G.add_edges_from(original_edges)\n",
    "print(len(orig_G.nodes()),len(orig_G.edges()))\n",
    "\n",
    "G_undirected_orig = nx.Graph(orig_G)\n",
    "print(len(G_undirected_orig.nodes()),len(G_undirected_orig.edges()))"
   ]
  },
  {
   "cell_type": "code",
   "execution_count": null,
   "metadata": {},
   "outputs": [],
   "source": []
  },
  {
   "cell_type": "code",
   "execution_count": null,
   "metadata": {},
   "outputs": [],
   "source": [
    "\"\"\"\n",
    "Steps for Decomposition:\n",
    "\n",
    "Preprocessing:\n",
    "1) Auto Glia and Nuclei Removal\n",
    "\n",
    "Decomposition:\n",
    "1) Find Soma\n",
    "2) Divide into Soma and Branches\n",
    "3) Skeletonize All Branches\n",
    "4) Create Concept Graphs of all Limbs\n",
    "5) Automatic Spine Detection, Width calculation\n",
    "\n",
    "Proofreading:\n",
    "6) Split Multi-Nuclei Cells\n",
    "7) Axon and Apical Identification\n",
    "8) Excitatory/Inhibitory Classification\n",
    "9) E/I based mesh filtering away\n",
    "10) Synapse Filtering based on mesh filtering away\n",
    "\n",
    "\n",
    "\n",
    "\n",
    "\"\"\""
   ]
  },
  {
   "cell_type": "code",
   "execution_count": null,
   "metadata": {},
   "outputs": [],
   "source": []
  },
  {
   "cell_type": "markdown",
   "metadata": {},
   "source": [
    "# Table that will compute the graph stats"
   ]
  },
  {
   "cell_type": "code",
   "execution_count": null,
   "metadata": {},
   "outputs": [],
   "source": []
  },
  {
   "cell_type": "code",
   "execution_count": null,
   "metadata": {},
   "outputs": [],
   "source": []
  },
  {
   "cell_type": "code",
   "execution_count": null,
   "metadata": {},
   "outputs": [],
   "source": []
  },
  {
   "cell_type": "code",
   "execution_count": null,
   "metadata": {},
   "outputs": [],
   "source": []
  },
  {
   "cell_type": "code",
   "execution_count": null,
   "metadata": {},
   "outputs": [],
   "source": []
  },
  {
   "cell_type": "markdown",
   "metadata": {},
   "source": [
    "# Degree Distribution"
   ]
  },
  {
   "cell_type": "code",
   "execution_count": null,
   "metadata": {},
   "outputs": [],
   "source": [
    "undirectional_graph = nx.Graph(G_largest)\n",
    "no_selflooped_graph = xu.remove_selfloops(undirectional_graph)\n",
    "no_selflooped_graph"
   ]
  },
  {
   "cell_type": "code",
   "execution_count": null,
   "metadata": {},
   "outputs": [],
   "source": [
    "degree_distribution = np.array(xu.get_node_degree(no_selflooped_graph,node_names_largest_comp))\n",
    "degree_distribution_filtered = degree_distribution[degree_distribution<np.percentile(degree_distribution,99.5)]"
   ]
  },
  {
   "cell_type": "code",
   "execution_count": null,
   "metadata": {},
   "outputs": [],
   "source": [
    "print(f\"Average Degree of Node: {np.mean(degree_distribution_filtered)}\")\n",
    "print(f\"Median Degree of Node: {np.median(degree_distribution_filtered)}\")"
   ]
  },
  {
   "cell_type": "code",
   "execution_count": null,
   "metadata": {},
   "outputs": [],
   "source": [
    "fig,ax = plt.subplots(1,1)\n",
    "ax.hist(degree_distribution_filtered,bins=50,density=True)\n",
    "ax.set_title(\"Degree Distribution of Neurons \\n Unique Edges, No Self Loops\")\n",
    "ax.set_xlabel(\"Degree of Neuron\")\n",
    "ax.set_ylabel(\"Density\")\n",
    "plt.show()"
   ]
  },
  {
   "cell_type": "code",
   "execution_count": null,
   "metadata": {},
   "outputs": [],
   "source": []
  },
  {
   "cell_type": "code",
   "execution_count": null,
   "metadata": {},
   "outputs": [],
   "source": []
  },
  {
   "cell_type": "code",
   "execution_count": null,
   "metadata": {},
   "outputs": [],
   "source": []
  },
  {
   "cell_type": "markdown",
   "metadata": {},
   "source": [
    "# Degree Distribution In and Out"
   ]
  },
  {
   "cell_type": "code",
   "execution_count": null,
   "metadata": {},
   "outputs": [],
   "source": []
  },
  {
   "cell_type": "code",
   "execution_count": null,
   "metadata": {},
   "outputs": [],
   "source": [
    "np.sum(degree_distribution(G,degree_type=\"in\")),np.sum(degree_distribution(G,degree_type=\"out\"))"
   ]
  },
  {
   "cell_type": "code",
   "execution_count": null,
   "metadata": {},
   "outputs": [],
   "source": [
    "np.sum(degree_distribution(G,degree_type=\"in_and_out\"))"
   ]
  },
  {
   "cell_type": "code",
   "execution_count": null,
   "metadata": {},
   "outputs": [],
   "source": [
    "import graph_analysis as ga\n",
    "import graph_visualizations as gviz"
   ]
  },
  {
   "cell_type": "code",
   "execution_count": null,
   "metadata": {},
   "outputs": [],
   "source": [
    "from importlib import reload\n",
    "gviz = reload(gviz)"
   ]
  },
  {
   "cell_type": "code",
   "execution_count": null,
   "metadata": {},
   "outputs": [],
   "source": [
    "in_degree = np.array(list(dict(G.in_degree()).values()))\n",
    "in_degree"
   ]
  },
  {
   "cell_type": "code",
   "execution_count": null,
   "metadata": {},
   "outputs": [],
   "source": [
    "import matplotlib.pyplot as plt\n",
    "import matplotlib_utils as mu\n",
    "\n",
    "import numpy as np\n",
    "\n",
    "mu.histogram(in_degree,bin_max = 700,\n",
    "         bin_width = 10,return_fig_ax=True,logscale=True)"
   ]
  },
  {
   "cell_type": "code",
   "execution_count": null,
   "metadata": {},
   "outputs": [],
   "source": [
    "ga.degree_distribution(G,\n",
    "                                                       degree_type=\"in\",\n",
    "                                                       percentile=95)"
   ]
  },
  {
   "cell_type": "code",
   "execution_count": null,
   "metadata": {},
   "outputs": [],
   "source": [
    "gviz.plot_degree_distribution(G,degree_type=\"in\",\n",
    "                             percentile=100,\n",
    "                              bin_width = 10,\n",
    "                              bin_max = 600,\n",
    "                             )"
   ]
  },
  {
   "cell_type": "code",
   "execution_count": null,
   "metadata": {},
   "outputs": [],
   "source": [
    "gviz.plot_degree_distribution(G,degree_type=\"out\",\n",
    "                             percentile=100,\n",
    "                              bin_width = 10,\n",
    "                              bin_max = 600,\n",
    "                             )"
   ]
  },
  {
   "cell_type": "code",
   "execution_count": null,
   "metadata": {
    "scrolled": true
   },
   "outputs": [],
   "source": [
    "gviz.plot_degree_distribution(G,degree_type=\"in\",\n",
    "                         bin_width=5,\n",
    "                         bin_max = 800,\n",
    "                        percentile=99)"
   ]
  },
  {
   "cell_type": "code",
   "execution_count": null,
   "metadata": {},
   "outputs": [],
   "source": [
    "gviz.plot_degree_distribution(G,degree_type=\"out\",\n",
    "                         bin_width=5,\n",
    "                         bin_max = 800,\n",
    "                        percentile=99)"
   ]
  },
  {
   "cell_type": "code",
   "execution_count": null,
   "metadata": {},
   "outputs": [],
   "source": [
    "gviz.plot_degree_distribution(G,degree_type=\"in\",title=\"In-Degree Distribution\",\n",
    "                         bin_width=5,\n",
    "                         bin_max = 500,\n",
    "                        percentile=99)"
   ]
  },
  {
   "cell_type": "code",
   "execution_count": null,
   "metadata": {},
   "outputs": [],
   "source": []
  },
  {
   "cell_type": "code",
   "execution_count": null,
   "metadata": {},
   "outputs": [],
   "source": [
    "plot_degree_distribution(G,degree_type=\"out\",title=\"Out-Degree Distribution\",\n",
    "                        percentile=99)"
   ]
  },
  {
   "cell_type": "code",
   "execution_count": null,
   "metadata": {},
   "outputs": [],
   "source": [
    "fig,ax = plt.subplots(1,1)\n",
    "ax.hist(degree_distribution_filtered,bins=50,density=False)\n",
    "ax.set_title(\"Degree Distribution of Neurons \\n Unique Edges, No Self Loops\")\n",
    "ax.set_xlabel(\"Degree of Neuron\")\n",
    "ax.set_ylabel(\"Count\")\n",
    "ax.set_yscale(\"log\")\n",
    "plt.show()"
   ]
  },
  {
   "cell_type": "markdown",
   "metadata": {},
   "source": [
    "# Getting the Soma to Soma Distance"
   ]
  },
  {
   "cell_type": "code",
   "execution_count": null,
   "metadata": {},
   "outputs": [],
   "source": [
    "\"\"\"\n",
    "Psuedoode: Pull down the Nucleus IDs and Nucleus Centers\n",
    "\n",
    "1) Get the nucleus ids and centers\n",
    "2) Adjust the centers for nm\n",
    "\n",
    "\n",
    "\"\"\"\n",
    "\n",
    "nuc_table = du.configure_nucleus_table() & \"segment_id>0\"\n",
    "nuc_table"
   ]
  },
  {
   "cell_type": "code",
   "execution_count": null,
   "metadata": {},
   "outputs": [],
   "source": [
    "nucleu_ids,nuc_x,nuc_y,nuc_z = nuc_table.fetch(\"nucleus_id\",\"nucleus_x\",\"nucleus_y\",\"nucleus_z\")"
   ]
  },
  {
   "cell_type": "code",
   "execution_count": null,
   "metadata": {},
   "outputs": [],
   "source": [
    "nucleus_centers = np.vstack([nuc_x,nuc_y,nuc_z]).T * [4,4,40]\n",
    "nucleus_centers"
   ]
  },
  {
   "cell_type": "code",
   "execution_count": null,
   "metadata": {},
   "outputs": [],
   "source": [
    "nuc_id_to_center = dict([(k,v) for k,v in zip(nucleu_ids,nucleus_centers)])"
   ]
  },
  {
   "cell_type": "code",
   "execution_count": null,
   "metadata": {},
   "outputs": [],
   "source": [
    "len(G_undirected_non_multi.edges())"
   ]
  },
  {
   "cell_type": "code",
   "execution_count": null,
   "metadata": {},
   "outputs": [],
   "source": [
    "print(\"hi\")"
   ]
  },
  {
   "cell_type": "code",
   "execution_count": null,
   "metadata": {},
   "outputs": [],
   "source": [
    "import matplotlib.pyplot as plt\n",
    "def graph_to_soma_to_soma_distance(G):\n",
    "    total_unique_edges = np.array(list(G.edges()))\n",
    "    edges_mask = np.all(total_unique_edges>0,axis=1)\n",
    "    soma_distances = np.array([[nuc_id_to_center[k],nuc_id_to_center[v]] for k,v in total_unique_edges[edges_mask]])\n",
    "    soma_distances_norm = np.linalg.norm(soma_distances[:,0,:] - soma_distances[:,1,:],axis=1)\n",
    "\n",
    "    \n",
    "    fig,ax = plt.subplots(1,1)\n",
    "    ax.hist(soma_distances_norm/1000,bins=100,density=False)\n",
    "    ax.set_title(\"Soma to Soma Distance of Unique Direct Connections \\n After Auto Proofreading\")\n",
    "    ax.set_xlabel(\"Soma to Soma Distance (um)\")\n",
    "    ax.set_ylabel(\"Counts\")\n",
    "    plt.yscale(\"log\")\n",
    "    plt.xscale(\"linear\")\n",
    "    plt.show()\n",
    "\n",
    "graph_to_soma_to_soma_distance(G)"
   ]
  },
  {
   "cell_type": "code",
   "execution_count": null,
   "metadata": {},
   "outputs": [],
   "source": [
    "graph_to_soma_to_soma_distance(G_undirected_non_multi)"
   ]
  },
  {
   "cell_type": "code",
   "execution_count": null,
   "metadata": {},
   "outputs": [],
   "source": []
  },
  {
   "cell_type": "code",
   "execution_count": null,
   "metadata": {},
   "outputs": [],
   "source": [
    "total_unique_edges = np.array(list(G_undirected_non_multi.edges()))\n"
   ]
  },
  {
   "cell_type": "code",
   "execution_count": null,
   "metadata": {},
   "outputs": [],
   "source": [
    "edges_mask = np.all(total_unique_edges>0,axis=1)\n",
    "edges_mask"
   ]
  },
  {
   "cell_type": "code",
   "execution_count": null,
   "metadata": {},
   "outputs": [],
   "source": [
    "soma_distances = np.array([[nuc_id_to_center[k],nuc_id_to_center[v]] for k,v in total_unique_edges[edges_mask]])\n",
    "soma_distances"
   ]
  },
  {
   "cell_type": "code",
   "execution_count": null,
   "metadata": {},
   "outputs": [],
   "source": [
    "soma_distances.shape"
   ]
  },
  {
   "cell_type": "code",
   "execution_count": null,
   "metadata": {},
   "outputs": [],
   "source": [
    "soma_distances_norm = np.linalg.norm(soma_distances[:,0,:] - soma_distances[:,1,:],axis=1)\n",
    "soma_distances_norm.shape"
   ]
  },
  {
   "cell_type": "code",
   "execution_count": null,
   "metadata": {},
   "outputs": [],
   "source": []
  },
  {
   "cell_type": "code",
   "execution_count": null,
   "metadata": {},
   "outputs": [],
   "source": [
    "import matplotlib.pyplot as plt\n",
    "fig,ax = plt.subplots(1,1)\n",
    "ax.hist(soma_distances_norm/1000,bins=100,density=False)\n",
    "ax.set_title(\"Soma to Soma Distance of Unique Direct Connections \\n After Auto Proofreading\")\n",
    "ax.set_xlabel(\"Soma to Soma Distance (um)\")\n",
    "ax.set_ylabel(\"Counts\")\n",
    "plt.yscale(\"log\")\n",
    "plt.xscale(\"linear\")\n",
    "plt.show()"
   ]
  },
  {
   "cell_type": "code",
   "execution_count": null,
   "metadata": {},
   "outputs": [],
   "source": [
    "alpha_level = 0.7\n",
    "\n",
    "import matplotlib.pyplot as plt\n",
    "fig,ax = plt.subplots(1,1)\n",
    "ax.hist(total_distances_no_self_loops/1000,bins=100,density=False,color=\"blue\",label=\"Before Auto Proofreading\",alpha=alpha_level)\n",
    "ax.hist(total_distances_no_self_loops_auto/1000,bins=100,density=False,color=\"red\",label=\"After Auto Proofreading\",alpha=alpha_level)\n",
    "ax.set_title(\"Soma to Soma Distance of Direct Connections\")\n",
    "ax.set_xlabel(\"Soma to Soma Distance (um)\")\n",
    "ax.set_ylabel(\"Counts\")\n",
    "\n",
    "ax.set_yscale(\"log\")\n",
    "ax.set_xscale(\"linear\")\n",
    "ax.legend()\n",
    "plt.show()"
   ]
  }
 ],
 "metadata": {
  "kernelspec": {
   "display_name": "Python 3",
   "language": "python",
   "name": "python3"
  },
  "language_info": {
   "codemirror_mode": {
    "name": "ipython",
    "version": 3
   },
   "file_extension": ".py",
   "mimetype": "text/x-python",
   "name": "python",
   "nbconvert_exporter": "python",
   "pygments_lexer": "ipython3",
   "version": "3.6.9"
  }
 },
 "nbformat": 4,
 "nbformat_minor": 4
}
