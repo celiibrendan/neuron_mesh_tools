{
 "cells": [
  {
   "cell_type": "code",
   "execution_count": 1,
   "metadata": {},
   "outputs": [
    {
     "data": {
      "text/plain": [
       "'\\nTo package the suggested edits into a function that can be applied to \\nany neuron object\\n\\n\\n\\n'"
      ]
     },
     "execution_count": 1,
     "metadata": {},
     "output_type": "execute_result"
    }
   ],
   "source": [
    "\"\"\"\n",
    "To package the suggested edits into a function that can be applied to \n",
    "any neuron object\n",
    "\n",
    "\n",
    "\n",
    "\"\"\""
   ]
  },
  {
   "cell_type": "code",
   "execution_count": 2,
   "metadata": {},
   "outputs": [],
   "source": [
    "%load_ext autoreload\n",
    "%autoreload 2"
   ]
  },
  {
   "cell_type": "code",
   "execution_count": 3,
   "metadata": {},
   "outputs": [],
   "source": [
    "from os import sys\n",
    "sys.path.append(\"/meshAfterParty/\")"
   ]
  },
  {
   "cell_type": "code",
   "execution_count": 15,
   "metadata": {},
   "outputs": [],
   "source": [
    "from importlib import reload\n",
    "\n",
    "import neuron_utils as nru\n",
    "\n",
    "import neuron\n",
    "\n",
    "import neuron_visualizations as nviz\n",
    "\n",
    "import time\n",
    "\n",
    "import datajoint_utils as du\n",
    "\n",
    "import numpy as np"
   ]
  },
  {
   "cell_type": "code",
   "execution_count": 5,
   "metadata": {},
   "outputs": [
    {
     "name": "stderr",
     "output_type": "stream",
     "text": [
      "INFO - 2020-12-23 11:39:00,733 - settings - Setting enable_python_native_blobs to True\n",
      "INFO - 2020-12-23 11:39:00,960 - settings - Setting enable_python_native_blobs to True\n"
     ]
    }
   ],
   "source": [
    "minnie,schema = du.configure_minnie_vm()"
   ]
  },
  {
   "cell_type": "code",
   "execution_count": 6,
   "metadata": {},
   "outputs": [],
   "source": [
    "segment_id = 864691134884782074 "
   ]
  },
  {
   "cell_type": "code",
   "execution_count": 8,
   "metadata": {},
   "outputs": [
    {
     "name": "stdout",
     "output_type": "stream",
     "text": [
      "Decompressing Neuron in minimal output mode...please wait\n"
     ]
    }
   ],
   "source": [
    "neuron_obj = (minnie.Decomposition & dict(segment_id=segment_id)).fetch1(\"decomposition\")"
   ]
  },
  {
   "cell_type": "code",
   "execution_count": 45,
   "metadata": {},
   "outputs": [
    {
     "name": "stdout",
     "output_type": "stream",
     "text": [
      "\n",
      " Working on visualization type: mesh\n",
      "\n",
      " Working on visualization type: skeleton\n"
     ]
    },
    {
     "data": {
      "application/vnd.jupyter.widget-view+json": {
       "model_id": "e192f8805569477d9585bc6c8477a550",
       "version_major": 2,
       "version_minor": 0
      },
      "text/plain": [
       "VBox(children=(Figure(camera=PerspectiveCamera(fov=46.0, position=(0.0, 0.0, 2.0), quaternion=(0.0, 0.0, 0.0, …"
      ]
     },
     "metadata": {},
     "output_type": "display_data"
    }
   ],
   "source": [
    "nviz.visualize_neuron(neuron_obj,\n",
    "                     visualize_type=[\"mesh\",\"skeleton\"],\n",
    "                     limb_branch_dict=dict(),\n",
    "                     mesh_whole_neuron=True)"
   ]
  },
  {
   "cell_type": "code",
   "execution_count": 9,
   "metadata": {},
   "outputs": [
    {
     "name": "stdout",
     "output_type": "stream",
     "text": [
      "\n",
      " Working on visualization type: mesh\n",
      "\n",
      " Working on visualization type: skeleton\n"
     ]
    },
    {
     "data": {
      "application/vnd.jupyter.widget-view+json": {
       "model_id": "c11a7d5424e940e5a21ffae7157c83d9",
       "version_major": 2,
       "version_minor": 0
      },
      "text/plain": [
       "VBox(children=(Figure(camera=PerspectiveCamera(fov=46.0, position=(0.0, 0.0, 2.0), quaternion=(0.0, 0.0, 0.0, …"
      ]
     },
     "metadata": {},
     "output_type": "display_data"
    }
   ],
   "source": [
    "nviz.visualize_neuron(neuron_obj,\n",
    "                     visualize_type=[\"mesh\",\"skeleton\"],\n",
    "                     limb_branch_dict=\"all\")"
   ]
  },
  {
   "cell_type": "markdown",
   "metadata": {},
   "source": [
    "# Preview of How th Neuron Will Need to be Split"
   ]
  },
  {
   "cell_type": "code",
   "execution_count": 10,
   "metadata": {},
   "outputs": [
    {
     "data": {
      "image/png": "[encoded data removed]",
      "text/plain": [
       "<Figure size 432x288 with 1 Axes>"
      ]
     },
     "metadata": {},
     "output_type": "display_data"
    }
   ],
   "source": [
    "nviz.plot_soma_limb_concept_network(neuron_obj)"
   ]
  },
  {
   "cell_type": "code",
   "execution_count": 11,
   "metadata": {},
   "outputs": [
    {
     "data": {
      "text/plain": [
       "array([3, 4])"
      ]
     },
     "execution_count": 11,
     "metadata": {},
     "output_type": "execute_result"
    }
   ],
   "source": [
    "multi_soma_limbs = nru.multi_soma_touching_limbs(neuron_obj)\n",
    "multi_soma_limbs"
   ]
  },
  {
   "cell_type": "code",
   "execution_count": 13,
   "metadata": {},
   "outputs": [
    {
     "data": {
      "text/plain": [
       "array([4])"
      ]
     },
     "execution_count": 13,
     "metadata": {},
     "output_type": "execute_result"
    }
   ],
   "source": [
    "multi_touch_limbs = nru.same_soma_multi_touching_limbs(neuron_obj)\n",
    "multi_touch_limbs"
   ]
  },
  {
   "cell_type": "code",
   "execution_count": 16,
   "metadata": {},
   "outputs": [
    {
     "data": {
      "text/plain": [
       "array([3, 4])"
      ]
     },
     "execution_count": 16,
     "metadata": {},
     "output_type": "execute_result"
    }
   ],
   "source": [
    "total_limbs_to_process = np.unique(np.concatenate([multi_soma_limbs,multi_touch_limbs]))\n",
    "total_limbs_to_process"
   ]
  },
  {
   "cell_type": "markdown",
   "metadata": {},
   "source": [
    "# Starting the Function"
   ]
  },
  {
   "cell_type": "code",
   "execution_count": 29,
   "metadata": {},
   "outputs": [
    {
     "name": "stdout",
     "output_type": "stream",
     "text": [
      "Recieved another instance of Neuron class in init -- so just copying data\n"
     ]
    }
   ],
   "source": [
    "neuron_obj = neuron.Neuron(neuron_obj)"
   ]
  },
  {
   "cell_type": "code",
   "execution_count": 42,
   "metadata": {},
   "outputs": [
    {
     "name": "stdout",
     "output_type": "stream",
     "text": [
      "multi_soma_limbs = [3 4]\n",
      "multi_touch_limbs = [4]\n",
      "\n",
      "\n",
      " -------- Working on limb 3------------\n",
      "Starting combinations to process = [(2, 4)]\n",
      "\n",
      "\n",
      "---- working on disconnecting 2 and 4\n",
      "---- This disconnects S0_0 from S1_0  \n",
      " Cut iteration 0\n",
      "Shortest path = [2 1 7 4]\n",
      "Found 1 high degree coordinates to cut\n",
      "Picking [989865. 967476. 717657.] high degree coordinates to cut\n",
      "coordinate_branches = [1 3 7 9]\n",
      "Angle between 1 and 3 = 35.98 \n",
      "Angle between 1 and 7 = 131.43 \n",
      "Angle between 1 and 9 = 50.16 \n",
      "Angle between 3 and 7 = 79.78 \n",
      "Angle between 3 and 9 = 100.79 \n",
      "Angle between 7 and 9 = 5.65 \n",
      "Final Matches = [[1, 3], [7, 9]]\n",
      "Original graph\n"
     ]
    },
    {
     "data": {
      "image/png": "[encoded data removed]",
      "text/plain": [
       "<Figure size 432x288 with 1 Axes>"
      ]
     },
     "metadata": {},
     "output_type": "display_data"
    },
    {
     "name": "stdout",
     "output_type": "stream",
     "text": [
      "edges_to_delete = [array([1, 7]), array([1, 9])]\n",
      "edges_to_create = [array([7, 9])]\n",
      "edges_to_delete = [array([1, 7]), array([1, 9])]\n",
      "edges_to_create = [array([7, 9])]\n",
      " Cut iteration 1\n",
      "No valid path so moving onto the next connection\n",
      "Total number of graphs at the end of the split = 2\n",
      "\n",
      "\n",
      " -------- Working on limb 4------------\n",
      "Starting combinations to process = [(2, 24), (2, 0), (24, 0)]\n",
      "\n",
      "\n",
      "---- working on disconnecting 2 and 24\n",
      "---- This disconnects S0_0 from S0_1  \n",
      " Cut iteration 0\n",
      "Shortest path = [ 2  7 22 24]\n",
      "Found 1 high degree coordinates to cut\n",
      "Picking [998435.  976382.  751655.5] high degree coordinates to cut\n",
      "coordinate_branches = [2 3 4 7]\n",
      "Angle between 2 and 3 = 84.58 \n",
      "Angle between 2 and 4 = 23.24 \n",
      "Angle between 2 and 7 = 127.2 \n",
      "Angle between 3 and 4 = 75.29 \n",
      "Angle between 3 and 7 = 34.7 \n",
      "Angle between 4 and 7 = 70.5 \n",
      "Final Matches = [[2, 4], [3, 7]]\n",
      "Original graph\n"
     ]
    },
    {
     "data": {
      "image/png": "[encoded data removed]",
      "text/plain": [
       "<Figure size 432x288 with 1 Axes>"
      ]
     },
     "metadata": {},
     "output_type": "display_data"
    },
    {
     "name": "stdout",
     "output_type": "stream",
     "text": [
      "edges_to_delete = [array([2, 3]), array([2, 7])]\n",
      "edges_to_create = [array([3, 7])]\n",
      "edges_to_delete = [array([2, 3]), array([2, 7])]\n",
      "edges_to_create = [array([3, 7])]\n",
      " Cut iteration 1\n",
      "No valid path so moving onto the next connection\n",
      "\n",
      "\n",
      "---- working on disconnecting 2 and 0\n",
      "---- This disconnects S0_0 from S1_0  \n",
      " Cut iteration 0\n",
      "No valid path so moving onto the next connection\n",
      "\n",
      "\n",
      "---- working on disconnecting 24 and 0\n",
      "---- This disconnects S0_1 from S1_0  \n",
      " Cut iteration 0\n",
      "Shortest path = [24 22  7  0]\n",
      "Found 1 high degree coordinates to cut\n",
      "Picking [998435.  976382.  751655.5] high degree coordinates to cut\n",
      "coordinate_branches = [2 3 4 7]\n",
      "Angle between 2 and 3 = 84.58 \n",
      "Angle between 2 and 4 = 23.24 \n",
      "Angle between 2 and 7 = 127.2 \n",
      "Angle between 3 and 4 = 75.29 \n",
      "Angle between 3 and 7 = 34.7 \n",
      "Angle between 4 and 7 = 70.5 \n",
      "Final Matches = [[2, 4], [3, 7]]\n",
      "Original graph\n"
     ]
    },
    {
     "data": {
      "image/png": "[encoded data removed]",
      "text/plain": [
       "<Figure size 432x288 with 1 Axes>"
      ]
     },
     "metadata": {},
     "output_type": "display_data"
    },
    {
     "name": "stdout",
     "output_type": "stream",
     "text": [
      "edges_to_delete = []\n",
      "edges_to_create = []\n",
      "\n",
      "Attempting the doubling back check (symmetrical so don't need to check from both sides)\n",
      "  Edge: [24 22]\n",
      "  Edge: [22  7]\n",
      "  Edge: [7 0]\n",
      "Total time for doubling_back = 0.03843855857849121\n",
      "There were 1 edges that passed doubling back threshold of 130\n",
      "Winning edge [22  7] had a doubling back of 1\n",
      "edges_to_delete = [array([22,  7])]\n",
      " Cut iteration 1\n",
      "No valid path so moving onto the next connection\n",
      "Total number of graphs at the end of the split = 3\n"
     ]
    }
   ],
   "source": [
    "limb_results = pru.multi_soma_split_suggestions(neuron_obj)"
   ]
  },
  {
   "cell_type": "code",
   "execution_count": 34,
   "metadata": {},
   "outputs": [
    {
     "data": {
      "text/plain": [
       "{3: [{'starting_node_1': 2,\n",
       "   'starting_node_2': 4,\n",
       "   'title': 'S0_0 from S1_0 ',\n",
       "   'edges_to_cut': [array([1, 7]), array([1, 9])],\n",
       "   'coordinate_suggestions': [array([989865., 967476., 717657.]),\n",
       "    array([989865., 967476., 717657.])],\n",
       "   'successful_disconnection': True}],\n",
       " 4: [{'starting_node_1': 2,\n",
       "   'starting_node_2': 24,\n",
       "   'title': 'S0_0 from S0_1 ',\n",
       "   'edges_to_cut': [array([2, 3]), array([2, 7])],\n",
       "   'coordinate_suggestions': [array([998435. , 976382. , 751655.5]),\n",
       "    array([998435. , 976382. , 751655.5])],\n",
       "   'successful_disconnection': True},\n",
       "  {'starting_node_1': 2,\n",
       "   'starting_node_2': 0,\n",
       "   'title': 'S0_0 from S1_0 ',\n",
       "   'edges_to_cut': [],\n",
       "   'coordinate_suggestions': [],\n",
       "   'successful_disconnection': True},\n",
       "  {'starting_node_1': 24,\n",
       "   'starting_node_2': 0,\n",
       "   'title': 'S0_1 from S1_0 ',\n",
       "   'edges_to_cut': [array([22,  7])],\n",
       "   'coordinate_suggestions': [array([992144., 979056., 747836.])],\n",
       "   'successful_disconnection': True}]}"
      ]
     },
     "execution_count": 34,
     "metadata": {},
     "output_type": "execute_result"
    }
   ],
   "source": [
    "limb_results"
   ]
  },
  {
   "cell_type": "markdown",
   "metadata": {},
   "source": [
    "# Visualizing The Results"
   ]
  },
  {
   "cell_type": "code",
   "execution_count": 44,
   "metadata": {},
   "outputs": [
    {
     "name": "stdout",
     "output_type": "stream",
     "text": [
      "\n",
      "\n",
      "-------- Suggestions for Limb 3------\n",
      "\n",
      " Working on visualization type: mesh\n",
      "\n",
      " Working on visualization type: skeleton\n"
     ]
    },
    {
     "data": {
      "application/vnd.jupyter.widget-view+json": {
       "model_id": "0982133eef724a32acd20a02feae11b4",
       "version_major": 2,
       "version_minor": 0
      },
      "text/plain": [
       "VBox(children=(Figure(camera=PerspectiveCamera(fov=46.0, position=(0.0, 0.0, 2.0), quaternion=(0.0, 0.0, 0.0, …"
      ]
     },
     "metadata": {},
     "output_type": "display_data"
    },
    {
     "name": "stdout",
     "output_type": "stream",
     "text": [
      "\n",
      "\n",
      "-------- Suggestions for Limb 4------\n",
      "\n",
      " Working on visualization type: mesh\n",
      "\n",
      " Working on visualization type: skeleton\n"
     ]
    },
    {
     "data": {
      "application/vnd.jupyter.widget-view+json": {
       "model_id": "0e4689d4032c49d8abc3245bdc2dd21a",
       "version_major": 2,
       "version_minor": 0
      },
      "text/plain": [
       "VBox(children=(Figure(camera=PerspectiveCamera(fov=46.0, position=(0.0, 0.0, 2.0), quaternion=(0.0, 0.0, 0.0, …"
      ]
     },
     "metadata": {},
     "output_type": "display_data"
    }
   ],
   "source": [
    "nviz.plot_split_suggestions_per_limb(neuron_obj,\n",
    "                                    limb_results,\n",
    "                                    scatter_size = 1)\n",
    "    "
   ]
  },
  {
   "cell_type": "code",
   "execution_count": null,
   "metadata": {},
   "outputs": [],
   "source": []
  }
 ],
 "metadata": {
  "kernelspec": {
   "display_name": "Python 3",
   "language": "python",
   "name": "python3"
  },
  "language_info": {
   "codemirror_mode": {
    "name": "ipython",
    "version": 3
   },
   "file_extension": ".py",
   "mimetype": "text/x-python",
   "name": "python",
   "nbconvert_exporter": "python",
   "pygments_lexer": "ipython3",
   "version": "3.6.9"
  }
 },
 "nbformat": 4,
 "nbformat_minor": 4
}
