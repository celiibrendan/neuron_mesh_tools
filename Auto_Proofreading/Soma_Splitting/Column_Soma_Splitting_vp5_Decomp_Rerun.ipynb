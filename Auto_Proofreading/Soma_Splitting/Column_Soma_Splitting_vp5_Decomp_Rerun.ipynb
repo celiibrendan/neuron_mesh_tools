{
 "cells": [
  {
   "cell_type": "code",
   "execution_count": null,
   "metadata": {},
   "outputs": [],
   "source": [
    "\"\"\"\n",
    "Purpose: To Practice splitting different \n",
    "versions and then pushing the changes to \n",
    "neuroglancer\n",
    "\n",
    "\n",
    "\"\"\""
   ]
  },
  {
   "cell_type": "code",
   "execution_count": 1,
   "metadata": {},
   "outputs": [],
   "source": [
    "%load_ext autoreload\n",
    "%autoreload 2"
   ]
  },
  {
   "cell_type": "code",
   "execution_count": 2,
   "metadata": {},
   "outputs": [],
   "source": [
    "from os import sys\n",
    "sys.path.append(\"/meshAfterParty/\")"
   ]
  },
  {
   "cell_type": "code",
   "execution_count": 3,
   "metadata": {},
   "outputs": [
    {
     "name": "stderr",
     "output_type": "stream",
     "text": [
      "INFO - 2021-01-12 06:14:50,610 - settings - Setting database.host to at-database.ad.bcm.edu\n",
      "INFO - 2021-01-12 06:14:50,611 - settings - Setting database.user to celiib\n",
      "INFO - 2021-01-12 06:14:50,612 - settings - Setting database.password to newceliipass\n",
      "INFO - 2021-01-12 06:14:50,615 - settings - Setting stores to {'minnie65': {'protocol': 'file', 'location': '/mnt/dj-stor01/platinum/minnie65', 'stage': '/mnt/dj-stor01/platinum/minnie65'}, 'meshes': {'protocol': 'file', 'location': '/mnt/dj-stor01/platinum/minnie65/02/meshes', 'stage': '/mnt/dj-stor01/platinum/minnie65/02/meshes'}, 'decimated_meshes': {'protocol': 'file', 'location': '/mnt/dj-stor01/platinum/minnie65/02/decimated_meshes', 'stage': '/mnt/dj-stor01/platinum/minnie65/02/decimated_meshes'}, 'skeletons': {'protocol': 'file', 'location': '/mnt/dj-stor01/platinum/minnie65/02/skeletons'}}\n",
      "INFO - 2021-01-12 06:14:50,616 - settings - Setting enable_python_native_blobs to True\n",
      "INFO - 2021-01-12 06:14:50,628 - connection - Connected celiib@at-database.ad.bcm.edu:3306\n"
     ]
    },
    {
     "name": "stdout",
     "output_type": "stream",
     "text": [
      "Connecting celiib@at-database.ad.bcm.edu:3306\n"
     ]
    },
    {
     "name": "stderr",
     "output_type": "stream",
     "text": [
      "INFO - 2021-01-12 06:14:50,851 - settings - Setting enable_python_native_blobs to True\n"
     ]
    }
   ],
   "source": [
    "from importlib import reload\n",
    "\n",
    "import neuron_utils as nru\n",
    "\n",
    "import neuron\n",
    "\n",
    "import neuron_visualizations as nviz\n",
    "\n",
    "import time\n",
    "\n",
    "import datajoint_utils as du\n",
    "\n",
    "import numpy as np"
   ]
  },
  {
   "cell_type": "code",
   "execution_count": 4,
   "metadata": {},
   "outputs": [
    {
     "name": "stderr",
     "output_type": "stream",
     "text": [
      "INFO - 2021-01-12 06:14:51,470 - settings - Setting enable_python_native_blobs to True\n",
      "INFO - 2021-01-12 06:14:51,705 - settings - Setting enable_python_native_blobs to True\n"
     ]
    }
   ],
   "source": [
    "minnie,schema = du.configure_minnie_vm()"
   ]
  },
  {
   "cell_type": "markdown",
   "metadata": {},
   "source": [
    "# Picking the Neuron"
   ]
  },
  {
   "cell_type": "code",
   "execution_count": 52,
   "metadata": {},
   "outputs": [],
   "source": [
    "segment_id = 864691135462301853"
   ]
  },
  {
   "cell_type": "code",
   "execution_count": 53,
   "metadata": {},
   "outputs": [
    {
     "name": "stdout",
     "output_type": "stream",
     "text": [
      "Decompressing Neuron in minimal output mode...please wait\n"
     ]
    }
   ],
   "source": [
    "neuron_obj = (minnie.Decomposition & dict(segment_id=segment_id)).fetch1(\"decomposition\")"
   ]
  },
  {
   "cell_type": "markdown",
   "metadata": {},
   "source": [
    "# Visualizing the Error Branches"
   ]
  },
  {
   "cell_type": "code",
   "execution_count": 54,
   "metadata": {
    "scrolled": true
   },
   "outputs": [
    {
     "data": {
      "image/png": "[encoded data removed]",
      "text/plain": [
       "<Figure size 432x288 with 1 Axes>"
      ]
     },
     "metadata": {},
     "output_type": "display_data"
    }
   ],
   "source": [
    "nviz.plot_soma_limb_concept_network(neuron_obj)"
   ]
  },
  {
   "cell_type": "markdown",
   "metadata": {},
   "source": [
    "# Running the Splitting Algorithm"
   ]
  },
  {
   "cell_type": "code",
   "execution_count": 55,
   "metadata": {
    "scrolled": false
   },
   "outputs": [
    {
     "name": "stdout",
     "output_type": "stream",
     "text": [
      "multi_soma_limbs = [0]\n",
      "multi_touch_limbs = [0 2]\n",
      "\n",
      "\n",
      " -------- Working on limb 0------------\n",
      "Starting combinations to process = [[60 73]\n",
      " [60 74]\n",
      " [73 74]]\n",
      "\n",
      "\n",
      "---- working on disconnecting 60 and 73\n",
      "---- This disconnects S0_0 from S1_1  \n",
      " Cut iteration 0\n",
      "Total number of graphs at the end of the split BEFORE DIRECTIONAL = 1\n",
      "Total number of graphs at the end of the split AFTER DIRECTIONAL = 1\n",
      "Shortest path = [60, 57, 54, 53, 41, 32, 21, 28, 34, 36, 72, 73]\n",
      "\n",
      " --------- START OF GET BEST EDGE --------- \n",
      "curr_limb.deleted_edges=[]\n",
      "consider_path_neighbors_for_removal is set so segments_to_consider = [11 12 13 21 28 29 32 34 35 36 39 40 41 52 53 54 55 56 57 59 64 68 72]\n",
      "Short segments to combine = []\n",
      "Found 2 high degree coordinates to cut\n",
      "Picking [766362. 459476. 757791.] high degree coordinates to cut\n",
      "curr_limb.deleted_edges 4=[]\n",
      "***inside resolve crossover!!!!****\n",
      "coordinate_branches = [11, 21, 28, 29]\n",
      "11 = red\n",
      "21 = aqua\n",
      "28 = purple\n",
      "29 = green\n"
     ]
    },
    {
     "data": {
      "application/vnd.jupyter.widget-view+json": {
       "model_id": "a736ebd6a8e94a8d9584183ab7127e81",
       "version_major": 2,
       "version_minor": 0
      },
      "text/plain": [
       "VBox(children=(Figure(camera=PerspectiveCamera(fov=46.0, position=(0.0, 0.0, 2.0), quaternion=(0.0, 0.0, 0.0, …"
      ]
     },
     "metadata": {},
     "output_type": "display_data"
    },
    {
     "name": "stdout",
     "output_type": "stream",
     "text": [
      "Angle between 11 and 21 = 97.62 \n",
      "Angle between 11 and 28 = 77.71 \n",
      "Angle between 11 and 29 = 106.47 \n",
      "Angle between 21 and 28 = 5.59 \n",
      "Angle between 21 and 29 = 60.71 \n",
      "Angle between 28 and 29 = 120.05 \n",
      "Final Matches = [[21, 28]]\n",
      "matched_branches_revised = [[21, 28]]\n",
      "Aligned Skeleton Parts\n"
     ]
    },
    {
     "data": {
      "application/vnd.jupyter.widget-view+json": {
       "model_id": "b6be26f95b924f56b5c45080838ae032",
       "version_major": 2,
       "version_minor": 0
      },
      "text/plain": [
       "VBox(children=(Figure(camera=PerspectiveCamera(fov=46.0, position=(0.0, 0.0, 2.0), quaternion=(0.0, 0.0, 0.0, …"
      ]
     },
     "metadata": {},
     "output_type": "display_data"
    },
    {
     "data": {
      "application/vnd.jupyter.widget-view+json": {
       "model_id": "86548c25879a4e388c26cd01a38d377c",
       "version_major": 2,
       "version_minor": 0
      },
      "text/plain": [
       "VBox(children=(Figure(camera=PerspectiveCamera(fov=46.0, position=(0.0, 0.0, 2.0), quaternion=(0.0, 0.0, 0.0, …"
      ]
     },
     "metadata": {},
     "output_type": "display_data"
    },
    {
     "name": "stdout",
     "output_type": "stream",
     "text": [
      "Original graph\n"
     ]
    },
    {
     "data": {
      "image/png": "[encoded data removed]",
      "text/plain": [
       "<Figure size 432x288 with 1 Axes>"
      ]
     },
     "metadata": {},
     "output_type": "display_data"
    },
    {
     "name": "stdout",
     "output_type": "stream",
     "text": [
      "match_branches = [[21, 28]]\n",
      "edges_to_delete (resolve crossover) = [[11, 21], [11, 28], [11, 29], [21, 29], [28, 29]]\n",
      "edges_to_create (resolve crossover) = [[21, 28]]\n",
      "curr_limb.deleted_edges 5 =[]\n",
      "Skipping endnode 73 because skeletal distance was 105.96606355958694 and threshold was 2500\n",
      "skip_nodes = [73]\n",
      "edges_to_delete (cut_limb_network) = [[11, 21], [11, 28], [11, 29], [21, 29], [28, 29]]\n",
      "edges_to_create = [[21, 28]]\n",
      "Number of connected components = 3\n",
      "Comp 0 = {71, 9, 74, 47, 29}\n",
      "Comp 1 = {11}\n",
      "Comp 2 = {0, 1, 2, 3, 4, 5, 6, 7, 8, 10, 12, 13, 14, 15, 16, 17, 18, 19, 20, 21, 22, 23, 24, 25, 26, 27, 28, 30, 31, 32, 33, 34, 35, 36, 37, 38, 39, 40, 41, 42, 43, 44, 45, 46, 48, 49, 50, 51, 52, 53, 54, 55, 56, 57, 58, 59, 60, 61, 62, 63, 64, 65, 66, 67, 68, 69, 70, 72, 73, 75, 76}\n",
      "curr_limb_copy.deleted_edges = [[11, 21], [11, 28], [11, 29], [21, 29], [28, 29]]\n",
      "curr_limb_copy.created_edges = [[21, 28]]\n",
      "After get best cut: cut_edges = [[11, 21], [11, 28], [11, 29], [21, 29], [28, 29]], added_edges = [[21, 28]]\n",
      "total_soma_paths_to_cut = []\n",
      "-----------counter = 0------------\n",
      " Cut iteration 1\n",
      "Total number of graphs at the end of the split BEFORE DIRECTIONAL = 3\n",
      "Total number of graphs at the end of the split AFTER DIRECTIONAL = 3\n",
      "Shortest path = [60, 57, 54, 53, 41, 32, 21, 28, 34, 36, 72, 73]\n",
      "\n",
      " --------- START OF GET BEST EDGE --------- \n",
      "curr_limb.deleted_edges=[[11, 21], [11, 28], [11, 29], [21, 29], [28, 29]]\n",
      "consider_path_neighbors_for_removal is set so segments_to_consider = [12 13 21 28 32 34 35 36 39 40 41 52 53 54 55 56 57 59 64 68 72]\n",
      "Short segments to combine = []\n",
      "Found 1 high degree coordinates to cut\n",
      "Picking [773192. 661415. 764212.] high degree coordinates to cut\n",
      "curr_limb.deleted_edges 4=[[11, 21], [11, 28], [11, 29], [21, 29], [28, 29]]\n",
      "***inside resolve crossover!!!!****\n",
      "coordinate_branches = [32, 39, 40, 41]\n",
      "32 = red\n",
      "39 = aqua\n",
      "40 = purple\n",
      "41 = green\n"
     ]
    },
    {
     "data": {
      "application/vnd.jupyter.widget-view+json": {
       "model_id": "dacea654056c4b22977473771b6dece9",
       "version_major": 2,
       "version_minor": 0
      },
      "text/plain": [
       "VBox(children=(Figure(camera=PerspectiveCamera(fov=46.0, position=(0.0, 0.0, 2.0), quaternion=(0.0, 0.0, 0.0, …"
      ]
     },
     "metadata": {},
     "output_type": "display_data"
    },
    {
     "name": "stdout",
     "output_type": "stream",
     "text": [
      "Angle between 32 and 39 = 66.93 \n",
      "Angle between 32 and 40 = 84.91 \n",
      "Angle between 32 and 41 = 22.82 \n",
      "Angle between 39 and 40 = 67.13 \n",
      "Angle between 39 and 41 = 115.54 \n",
      "Angle between 40 and 41 = 73.19 \n",
      "Final Matches = [[32, 41]]\n",
      "matched_branches_revised = [[32, 41]]\n",
      "Aligned Skeleton Parts\n"
     ]
    },
    {
     "data": {
      "application/vnd.jupyter.widget-view+json": {
       "model_id": "6a43b09f7d634bb9972a654c901a1c8b",
       "version_major": 2,
       "version_minor": 0
      },
      "text/plain": [
       "VBox(children=(Figure(camera=PerspectiveCamera(fov=46.0, position=(0.0, 0.0, 2.0), quaternion=(0.0, 0.0, 0.0, …"
      ]
     },
     "metadata": {},
     "output_type": "display_data"
    },
    {
     "data": {
      "application/vnd.jupyter.widget-view+json": {
       "model_id": "f6a6444679774e8a82bd7dd333a03b5b",
       "version_major": 2,
       "version_minor": 0
      },
      "text/plain": [
       "VBox(children=(Figure(camera=PerspectiveCamera(fov=46.0, position=(0.0, 0.0, 2.0), quaternion=(0.0, 0.0, 0.0, …"
      ]
     },
     "metadata": {},
     "output_type": "display_data"
    },
    {
     "name": "stdout",
     "output_type": "stream",
     "text": [
      "Original graph\n"
     ]
    },
    {
     "data": {
      "image/png": "[encoded data removed]",
      "text/plain": [
       "<Figure size 432x288 with 1 Axes>"
      ]
     },
     "metadata": {},
     "output_type": "display_data"
    },
    {
     "name": "stdout",
     "output_type": "stream",
     "text": [
      "match_branches = [[32, 41]]\n",
      "edges_to_delete (resolve crossover) = [[32, 39], [32, 40], [39, 40], [39, 41], [40, 41]]\n",
      "edges_to_create (resolve crossover) = [[32, 41]]\n",
      "curr_limb.deleted_edges 5 =[[11, 21], [11, 28], [11, 29], [21, 29], [28, 29]]\n",
      "Skipping endnode 73 because skeletal distance was 105.96606355958694 and threshold was 2500\n",
      "skip_nodes = [73]\n",
      "edges_to_delete (cut_limb_network) = [[32, 39], [32, 40], [39, 40], [39, 41], [40, 41]]\n",
      "edges_to_create = [[32, 41]]\n",
      "Number of connected components = 5\n",
      "Comp 0 = {71, 9, 74, 47, 29}\n",
      "Comp 1 = {11}\n",
      "Comp 2 = {4, 8, 12, 13, 15, 16, 21, 25, 28, 32, 34, 35, 36, 41, 48, 49, 50, 51, 52, 53, 54, 55, 56, 57, 58, 59, 60, 64, 65, 66, 68, 72, 73}\n",
      "Comp 3 = {0, 1, 2, 3, 5, 6, 7, 10, 14, 17, 18, 19, 20, 22, 23, 24, 26, 27, 30, 31, 33, 37, 38, 39, 42, 43, 44, 45, 46, 61, 62, 63, 67, 75, 76}\n",
      "Comp 4 = {40, 69, 70}\n",
      "curr_limb_copy.deleted_edges = [[11, 21], [11, 28], [11, 29], [21, 29], [28, 29], [32, 39], [32, 40], [39, 40], [39, 41], [40, 41]]\n",
      "curr_limb_copy.created_edges = [[21, 28], [32, 41]]\n",
      "After get best cut: cut_edges = [[32, 39], [32, 40], [39, 40], [39, 41], [40, 41]], added_edges = [[32, 41]]\n",
      "total_soma_paths_to_cut = [[11, 21], [11, 28], [11, 29], [21, 29], [28, 29]]\n",
      "-----------counter = 1------------\n",
      " Cut iteration 2\n",
      "Total number of graphs at the end of the split BEFORE DIRECTIONAL = 5\n",
      "Total number of graphs at the end of the split AFTER DIRECTIONAL = 5\n",
      "Shortest path = [60, 57, 54, 53, 41, 32, 21, 28, 34, 36, 72, 73]\n",
      "\n",
      " --------- START OF GET BEST EDGE --------- \n",
      "curr_limb.deleted_edges=[[11, 21], [11, 28], [11, 29], [21, 29], [28, 29], [32, 39], [32, 40], [39, 40], [39, 41], [40, 41]]\n",
      "consider_path_neighbors_for_removal is set so segments_to_consider = [12 13 21 28 32 34 35 36 41 52 53 54 55 56 57 59 64 68 72]\n",
      "Short segments to combine = []\n",
      "Found 0 high degree coordinates to cut\n",
      "Skipping endnode 73 because skeletal distance was 105.96606355958694 and threshold was 2500\n",
      "skip_nodes = [73]\n",
      "\n",
      "Attempting the doubling back check (symmetrical so don't need to check from both sides)\n"
     ]
    },
    {
     "data": {
      "application/vnd.jupyter.widget-view+json": {
       "model_id": "078724dd2e5b462cb34ca920563b4f10",
       "version_major": 2,
       "version_minor": 0
      },
      "text/plain": [
       "HBox(children=(FloatProgress(value=0.0, max=10.0), HTML(value='')))"
      ]
     },
     "metadata": {},
     "output_type": "display_data"
    },
    {
     "name": "stdout",
     "output_type": "stream",
     "text": [
      "  Edge: [60 57]: curr_angle = 62.22\n",
      "  Edge: [57 54]: curr_angle = 27.89\n",
      "  Edge: [54 53]: curr_angle = 12.9\n",
      "  Edge: [53 41]: curr_angle = 7.12\n",
      "  Edge: [41 32]: curr_angle = 19.32\n",
      "  Edge: [32 21]: curr_angle = 36.15\n",
      "  Edge: [21 28]: curr_angle = 10.17\n",
      "  Edge: [28 34]: curr_angle = 3.04\n",
      "  Edge: [34 36]: curr_angle = 130.36\n",
      "  Edge: [36 72]: curr_angle = 37.14\n",
      "\n",
      "Total time for doubling_back = 1.2096800804138184\n",
      "There were 1 edges that passed doubling back threshold of 100\n",
      "Winning edge [34 36] had a doubling back of 130.35759779681874\n",
      "***inside resolve crossover!!!!****\n",
      "coordinate_branches = [12, 34, 36]\n",
      "12 = red\n",
      "34 = aqua\n",
      "36 = purple\n",
      "Angle between 12 and 34 = 14.15 \n",
      "Angle between 12 and 36 = 48.62 \n",
      "Angle between 34 and 36 = 139.17 \n",
      "Final Matches = [[12, 34]]\n",
      "matched_branches_revised = [[12, 34]]\n",
      "Original graph\n"
     ]
    },
    {
     "data": {
      "image/png": "[encoded data removed]",
      "text/plain": [
       "<Figure size 432x288 with 1 Axes>"
      ]
     },
     "metadata": {},
     "output_type": "display_data"
    },
    {
     "name": "stdout",
     "output_type": "stream",
     "text": [
      "match_branches = [[12, 34]]\n",
      "edges_to_delete (resolve crossover) = [[12, 36], [34, 36]]\n",
      "edges_to_create (resolve crossover) = [[12, 34]]\n",
      "edges_to_delete (cut_limb_network) = [array([12, 36]), array([34, 36])]\n",
      "edges_to_create = [[12, 34]]\n",
      "Number of connected components = 6\n",
      "Comp 0 = {71, 9, 74, 47, 29}\n",
      "Comp 1 = {11}\n",
      "Comp 2 = {4, 12, 13, 21, 28, 32, 34, 35, 41, 48, 49, 50, 51, 52, 53, 54, 55, 56, 57, 58, 59, 60}\n",
      "Comp 3 = {0, 1, 2, 3, 5, 6, 7, 10, 14, 17, 18, 19, 20, 22, 23, 24, 26, 27, 30, 31, 33, 37, 38, 39, 42, 43, 44, 45, 46, 61, 62, 63, 67, 75, 76}\n",
      "Comp 4 = {40, 69, 70}\n",
      "Comp 5 = {64, 65, 66, 36, 68, 72, 73, 8, 15, 16, 25}\n",
      "curr_limb_copy.deleted_edges = [[11, 21], [11, 28], [11, 29], [21, 29], [28, 29], [32, 39], [32, 40], [39, 40], [39, 41], [40, 41], array([12, 36]), array([34, 36])]\n",
      "curr_limb_copy.created_edges = [[21, 28], [32, 41], [12, 34]]\n",
      "After get best cut: cut_edges = [array([12, 36]), array([34, 36])], added_edges = [[12, 34]]\n",
      "total_soma_paths_to_cut = [[11, 21], [11, 28], [11, 29], [21, 29], [28, 29], [32, 39], [32, 40], [39, 40], [39, 41], [40, 41]]\n",
      "-----------counter = 2------------\n",
      " Cut iteration 3\n",
      "Total number of graphs at the end of the split BEFORE DIRECTIONAL = 6\n",
      "Total number of graphs at the end of the split AFTER DIRECTIONAL = 6\n",
      "No valid path so moving onto the next connection\n",
      "\n",
      "\n",
      "---- working on disconnecting 60 and 74\n",
      "---- This disconnects S0_0 from S1_0  \n",
      " Cut iteration 0\n",
      "Total number of graphs at the end of the split BEFORE DIRECTIONAL = 6\n",
      "Total number of graphs at the end of the split AFTER DIRECTIONAL = 6\n",
      "No valid path so moving onto the next connection\n",
      "\n",
      "\n",
      "---- working on disconnecting 73 and 74\n",
      "---- This disconnects S1_1 from S1_0  \n",
      " Cut iteration 0\n",
      "Total number of graphs at the end of the split BEFORE DIRECTIONAL = 6\n",
      "Total number of graphs at the end of the split AFTER DIRECTIONAL = 6\n",
      "No valid path so moving onto the next connection\n",
      "Total number of graphs at the end of the split = 6: [array([71,  9, 74, 47, 29]), array([11]), array([ 4, 12, 13, 21, 28, 32, 34, 35, 41, 48, 49, 50, 51, 52, 53, 54, 55,\n",
      "       56, 57, 58, 59, 60]), array([ 0,  1,  2,  3,  5,  6,  7, 10, 14, 17, 18, 19, 20, 22, 23, 24, 26,\n",
      "       27, 30, 31, 33, 37, 38, 39, 42, 43, 44, 45, 46, 61, 62, 63, 67, 75,\n",
      "       76]), array([40, 69, 70]), array([64, 65, 66, 36, 68, 72, 73,  8, 15, 16, 25])]\n",
      "\n",
      "\n",
      " -------- Working on limb 2------------\n",
      "Starting combinations to process = [[19 23]]\n",
      "\n",
      "\n",
      "---- working on disconnecting 19 and 23\n",
      "---- This disconnects S1_0 from S1_1  \n",
      " Cut iteration 0\n",
      "Total number of graphs at the end of the split BEFORE DIRECTIONAL = 1\n",
      "Total number of graphs at the end of the split AFTER DIRECTIONAL = 1\n",
      "Shortest path = [19, 20, 18, 17, 13, 9, 8, 11, 14, 40, 34, 23]\n",
      "\n",
      " --------- START OF GET BEST EDGE --------- \n",
      "curr_limb.deleted_edges=[]\n",
      "consider_path_neighbors_for_removal is set so segments_to_consider = [ 0  2  6  8  9 10 11 13 14 15 16 17 18 20 21 22 33 34 38 39 40]\n",
      "Short segments to combine = [40]\n",
      "\n",
      "\n",
      "-------- Removing Segments -------------\n",
      "curr_short_seg_revised = 40\n",
      "np.sum(touch_len>0) = 2\n",
      "Using average stitch point\n",
      "touching_endpoints = [[838738.         437018.         788981.        ]\n",
      " [839346.90186864 436507.1992731  787823.91547932]]\n",
      "new_stitch_point = [839042.45093432 436762.59963655 788402.45773966]\n",
      "Angles for [34 39 14 38] are [66.53, 65.24, 71.02, 16.17]\n",
      "Branch that will absorb mesh of 40 is 38 \n",
      "Gettng rid of 1 nodes INSIDE SKELETON TO GRAPH CONVERSION\n",
      "curr_limb.deleted_edges 2=[]\n",
      "curr_limb.deleted_edges 3=[]\n",
      "Revised cut path = [19 20 18 17 13  9  8 11 14 34 23]\n",
      "\n",
      "-------- Done Removing Segments -------------\n",
      "\n",
      "\n",
      "Found 1 high degree coordinates to cut\n",
      "Picking [839042.45093432 436762.59963655 788402.45773966] high degree coordinates to cut\n",
      "curr_limb.deleted_edges 4=[]\n",
      "***inside resolve crossover!!!!****\n",
      "coordinate_branches = [14, 34, 38, 39]\n",
      "14 = red\n",
      "34 = aqua\n",
      "38 = purple\n",
      "39 = green\n"
     ]
    },
    {
     "data": {
      "application/vnd.jupyter.widget-view+json": {
       "model_id": "2a8dceb26a0548c195110a1526ef6652",
       "version_major": 2,
       "version_minor": 0
      },
      "text/plain": [
       "VBox(children=(Figure(camera=PerspectiveCamera(fov=46.0, position=(0.0, 0.0, 2.0), quaternion=(0.0, 0.0, 0.0, …"
      ]
     },
     "metadata": {},
     "output_type": "display_data"
    },
    {
     "name": "stdout",
     "output_type": "stream",
     "text": [
      "Angle between 14 and 34 = 60.23 \n",
      "Angle between 14 and 38 = 108.63 \n",
      "Angle between 14 and 39 = 123.15 \n",
      "Angle between 34 and 38 = 75.14 \n",
      "Angle between 34 and 39 = 62.36 \n",
      "Angle between 38 and 39 = 55.94 \n",
      "Final Matches = []\n",
      "matched_branches_revised = []\n",
      "Aligned Skeleton Parts\n"
     ]
    },
    {
     "data": {
      "application/vnd.jupyter.widget-view+json": {
       "model_id": "fc41b2829d384403855cdd789dc46f34",
       "version_major": 2,
       "version_minor": 0
      },
      "text/plain": [
       "VBox(children=(Figure(camera=PerspectiveCamera(fov=46.0, position=(0.0, 0.0, 2.0), quaternion=(0.0, 0.0, 0.0, …"
      ]
     },
     "metadata": {},
     "output_type": "display_data"
    },
    {
     "name": "stdout",
     "output_type": "stream",
     "text": [
      "Original graph\n"
     ]
    },
    {
     "data": {
      "image/png": "[encoded data removed]",
      "text/plain": [
       "<Figure size 432x288 with 1 Axes>"
      ]
     },
     "metadata": {},
     "output_type": "display_data"
    },
    {
     "name": "stdout",
     "output_type": "stream",
     "text": [
      "match_branches = []\n",
      "edges_to_delete (resolve crossover) = [[14, 34], [14, 38], [14, 39], [34, 38], [34, 39], [38, 39]]\n",
      "edges_to_create (resolve crossover) = []\n",
      "curr_limb.deleted_edges 5 =[]\n",
      "Skipping endnode 19 because skeletal distance was 606.7223108259434 and threshold was 2500\n",
      "skip_nodes = [19]\n",
      "edges_to_delete (cut_limb_network) = [[14, 34], [14, 38], [14, 39], [34, 38], [34, 39], [38, 39]]\n",
      "edges_to_create = []\n",
      "Number of connected components = 5\n",
      "Comp 0 = {0, 1, 2, 3, 4, 5, 6, 7, 8, 9, 10, 11, 12, 13, 14, 15, 16, 17, 18, 19, 20, 21, 22, 24, 25, 26, 27, 28, 29, 30, 31, 32, 35, 36, 37, 41, 42, 43, 44}\n",
      "Comp 1 = {33, 34, 23}\n",
      "Comp 2 = {38}\n",
      "Comp 3 = {39}\n",
      "Comp 4 = {40}\n",
      "curr_limb_copy.deleted_edges = [[14, 34], [14, 38], [14, 39], [34, 38], [34, 39], [38, 39]]\n",
      "curr_limb_copy.created_edges = []\n",
      "After get best cut: cut_edges = [[14, 34], [14, 38], [14, 39], [34, 38], [34, 39], [38, 39]], added_edges = []\n",
      "total_soma_paths_to_cut = []\n",
      "-----------counter = 0------------\n",
      " Cut iteration 1\n",
      "Total number of graphs at the end of the split BEFORE DIRECTIONAL = 5\n",
      "Total number of graphs at the end of the split AFTER DIRECTIONAL = 5\n",
      "No valid path so moving onto the next connection\n",
      "Total number of graphs at the end of the split = 5: [array([ 0,  1,  2,  3,  4,  5,  6,  7,  8,  9, 10, 11, 12, 13, 14, 15, 16,\n",
      "       17, 18, 19, 20, 21, 22, 24, 25, 26, 27, 28, 29, 30, 31, 32, 35, 36,\n",
      "       37, 41, 42, 43, 44]), array([33, 34, 23]), array([38]), array([39]), array([40])]\n"
     ]
    }
   ],
   "source": [
    "import proofreading_utils as pru\n",
    "limb_results = pru.multi_soma_split_suggestions(neuron_obj,plot_intermediates=True)"
   ]
  },
  {
   "cell_type": "markdown",
   "metadata": {},
   "source": [
    "# Plotting the Splitting Algorithm Results"
   ]
  },
  {
   "cell_type": "code",
   "execution_count": 11,
   "metadata": {},
   "outputs": [
    {
     "name": "stdout",
     "output_type": "stream",
     "text": [
      "\n",
      "\n",
      "-------- Suggestions for Limb 1------\n",
      "Only 2 skeleton nodes so cannot do smoothing\n",
      "\n",
      " Working on visualization type: mesh\n",
      "\n",
      " Working on visualization type: skeleton\n"
     ]
    },
    {
     "data": {
      "application/vnd.jupyter.widget-view+json": {
       "model_id": "a3c96a9378a541ebae334436996dadeb",
       "version_major": 2,
       "version_minor": 0
      },
      "text/plain": [
       "VBox(children=(Figure(camera=PerspectiveCamera(fov=46.0, position=(0.0, 0.0, 2.0), quaternion=(0.0, 0.0, 0.0, …"
      ]
     },
     "metadata": {},
     "output_type": "display_data"
    }
   ],
   "source": [
    "nviz.plot_split_suggestions_per_limb(neuron_obj,\n",
    "                                    limb_results=limb_results,\n",
    "                                    scatter_size=0.3)"
   ]
  },
  {
   "cell_type": "markdown",
   "metadata": {},
   "source": [
    "# Doing the Simple Split Neuroglancer Link"
   ]
  },
  {
   "cell_type": "code",
   "execution_count": 12,
   "metadata": {},
   "outputs": [
    {
     "data": {
      "text/html": [
       "<a href=\"https://neuromancer-seung-import.appspot.com/#!%7B%22jsonStateServer%22:%22https://globalv1.daf-apis.com/nglstate/api/v1/post%22,%22navigation%22:%7B%22pose%22:%7B%22position%22:%7B%22voxelSize%22:%5B4.0,4.0,40.0%5D,%22voxelCoordinates%22:%5B238310.171875,185365.890625,25684.626953125%5D%7D%7D,%22zoomFactor%22:2.0%7D,%22showSlices%22:false,%22layout%22:%22xy-3d%22,%22perspectiveZoom%22:2000.0,%22layers%22:%5B%7B%22type%22:%22image%22,%22source%22:%22precomputed://https://seungdata.princeton.edu/minnie65-phase3-em/aligned/v1%22,%22name%22:%22img%22,%22shader%22:%22#uicontrol%20float%20black%20slider(min=0,%20max=1,%20default=0.35)%5Cn#uicontrol%20float%20white%20slider(min=0,%20max=1,%20default=0.65)%5Cnfloat%20rescale(float%20value)%20%7B%5Cn%20%20return%20(value%20-%20black)%20/%20(white%20-%20black);%5Cn%7D%5Cnvoid%20main()%20%7B%5Cn%20%20float%20val%20=%20toNormalized(getDataValue());%5Cn%20%20if%20(val%20%3C%20black)%20%7B%5Cn%20%20%20%20emitRGB(vec3(0,0,0));%5Cn%20%20%7D%20else%20if%20(val%20%3E%20white)%20%7B%5Cn%20%20%20%20emitRGB(vec3(1.0,%201.0,%201.0));%5Cn%20%20%7D%20else%20%7B%5Cn%20%20%20%20emitGrayscale(rescale(val));%5Cn%20%20%7D%5Cn%7D%5Cn%22%7D,%7B%22type%22:%22segmentation_with_graph%22,%22source%22:%22graphene://https://minniev1.microns-daf.com/segmentation/table/minnie3_v1%22,%22name%22:%22seg%22,%22segments%22:%5B%22864691135065018692%22%5D,%22segmentColors%22:%7B%7D%7D,%7B%22type%22:%22annotation%22,%22linkedSegmentationLayer%22:%22seg%22,%22filterBySegmentation%22:false,%22bracketShortcutsShowSegmentation%22:true,%22annotationSelectionShowsSegmentation%22:true,%22annotationColor%22:%22#FFFFFF%22,%22name%22:%22split_cands%22,%22annotations%22:%5B%7B%22tagIds%22:%5B%5D,%22type%22:%22point%22,%22point%22:%5B238310.0,185365.0,25684.0%5D,%22id%22:%22e4edbd547e6ed8ca3558e33f6d8668d309c71c4f%22,%22segments%22:%5B%22864691135065018692%22%5D%7D,%7B%22tagIds%22:%5B%5D,%22type%22:%22point%22,%22point%22:%5B240256.0,193881.0,26213.0%5D,%22id%22:%22ace5a0685f71d2eb9e1adef1088b788739ce036f%22,%22segments%22:%5B%22864691135065018692%22%5D%7D,%7B%22tagIds%22:%5B%5D,%22type%22:%22point%22,%22point%22:%5B240524.0,190458.0,26301.0%5D,%22id%22:%22ad28e09fee73badd8d31671be5d429236a8188f3%22,%22segments%22:%5B%22864691135065018692%22%5D%7D%5D%7D%5D,%22selectedLayer%22:%7B%22layer%22:%22split_cands%22,%22visible%22:true%7D%7D\" target=\"_blank\">Neuroglancer Link</a>"
      ],
      "text/plain": [
       "<IPython.core.display.HTML object>"
      ]
     },
     "execution_count": 12,
     "metadata": {},
     "output_type": "execute_result"
    }
   ],
   "source": [
    "split_coordinates = pru.get_all_coordinate_suggestions(limb_results)\n",
    "\n",
    "pru.neuroglancer_split_link(split_coordinates,\n",
    "                      neuron_obj.segment_id)"
   ]
  },
  {
   "cell_type": "markdown",
   "metadata": {},
   "source": [
    "# Doing the More Complex Neuroglancer Link"
   ]
  },
  {
   "cell_type": "code",
   "execution_count": 56,
   "metadata": {},
   "outputs": [
    {
     "name": "stdout",
     "output_type": "stream",
     "text": [
      "Number of different layers = 3\n"
     ]
    },
    {
     "data": {
      "text/html": [
       "<a href=\"https://neuromancer-seung-import.appspot.com/#!%7B%22jsonStateServer%22:%22https://globalv1.daf-apis.com/nglstate/api/v1/post%22,%22navigation%22:%7B%22pose%22:%7B%22position%22:%7B%22voxelSize%22:%5B4.0,4.0,40.0%5D,%22voxelCoordinates%22:%5B191590.5,114869.0,18944.775390625%5D%7D%7D,%22zoomFactor%22:2.0%7D,%22showSlices%22:false,%22layout%22:%22xy-3d%22,%22perspectiveZoom%22:2000.0,%22layers%22:%5B%7B%22type%22:%22image%22,%22source%22:%22precomputed://https://seungdata.princeton.edu/minnie65-phase3-em/aligned/v1%22,%22name%22:%22img%22,%22shader%22:%22#uicontrol%20float%20black%20slider(min=0,%20max=1,%20default=0.35)%5Cn#uicontrol%20float%20white%20slider(min=0,%20max=1,%20default=0.65)%5Cnfloat%20rescale(float%20value)%20%7B%5Cn%20%20return%20(value%20-%20black)%20/%20(white%20-%20black);%5Cn%7D%5Cnvoid%20main()%20%7B%5Cn%20%20float%20val%20=%20toNormalized(getDataValue());%5Cn%20%20if%20(val%20%3C%20black)%20%7B%5Cn%20%20%20%20emitRGB(vec3(0,0,0));%5Cn%20%20%7D%20else%20if%20(val%20%3E%20white)%20%7B%5Cn%20%20%20%20emitRGB(vec3(1.0,%201.0,%201.0));%5Cn%20%20%7D%20else%20%7B%5Cn%20%20%20%20emitGrayscale(rescale(val));%5Cn%20%20%7D%5Cn%7D%5Cn%22%7D,%7B%22type%22:%22segmentation_with_graph%22,%22source%22:%22graphene://https://minniev1.microns-daf.com/segmentation/table/minnie3_v1%22,%22name%22:%22seg%22,%22segments%22:%5B%22864691135462301853%22%5D,%22segmentColors%22:%7B%7D%7D,%7B%22type%22:%22annotation%22,%22linkedSegmentationLayer%22:%22seg%22,%22filterBySegmentation%22:false,%22bracketShortcutsShowSegmentation%22:true,%22annotationSelectionShowsSegmentation%22:true,%22annotationColor%22:%22#ffffff%22,%22name%22:%22cut_path%22,%22annotations%22:%5B%7B%22tagIds%22:%5B%5D,%22type%22:%22point%22,%22point%22:%5B191590.0,114869.0,18944.0%5D,%22id%22:%220e15c3c4fee45377f6fdf182dc64afc90a83af37%22,%22segments%22:%5B%22864691135462301853%22%5D%7D,%7B%22tagIds%22:%5B%5D,%22type%22:%22point%22,%22point%22:%5B191882.0,158742.0,19090.0%5D,%22id%22:%2287e8063807592f383e5e19e9aaeef973cb5637ac%22,%22segments%22:%5B%22864691135462301853%22%5D%7D,%7B%22tagIds%22:%5B%5D,%22type%22:%22point%22,%22point%22:%5B192575.0,106747.0,18848.0%5D,%22id%22:%22e7d2e0e9bbb39f3bf8943be43bea792c3d967eb9%22,%22segments%22:%5B%22864691135462301853%22%5D%7D,%7B%22tagIds%22:%5B%5D,%22type%22:%22point%22,%22point%22:%5B192688.0,102941.0,18738.0%5D,%22id%22:%22831653d06aaf64b023f0e99e47fb90953b19a690%22,%22segments%22:%5B%22864691135462301853%22%5D%7D,%7B%22tagIds%22:%5B%5D,%22type%22:%22point%22,%22point%22:%5B193298.0,165353.0,19105.0%5D,%22id%22:%226a526b9fadcbe68e711b6cda1681544852049ebd%22,%22segments%22:%5B%22864691135462301853%22%5D%7D,%7B%22tagIds%22:%5B%5D,%22type%22:%22point%22,%22point%22:%5B197347.0,188809.0,19440.0%5D,%22id%22:%228bfc52f7f47b602c07f0b87f10a161d3ec1b49a7%22,%22segments%22:%5B%22864691135462301853%22%5D%7D,%7B%22tagIds%22:%5B%5D,%22type%22:%22point%22,%22point%22:%5B197441.0,185355.0,19372.0%5D,%22id%22:%22f1fb643834a296bc3d3883c46440382c2b6b2563%22,%22segments%22:%5B%22864691135462301853%22%5D%7D,%7B%22tagIds%22:%5B%5D,%22type%22:%22point%22,%22point%22:%5B197912.0,192750.0,19586.0%5D,%22id%22:%22808f5d2f8580844bc0e2ea33cc1d6726e8bff9a1%22,%22segments%22:%5B%22864691135462301853%22%5D%7D,%7B%22tagIds%22:%5B%5D,%22type%22:%22point%22,%22point%22:%5B198443.0,193048.0,19573.0%5D,%22id%22:%222bbb09e9c8b8e8cb987a2189e5c5244792505801%22,%22segments%22:%5B%22864691135462301853%22%5D%7D,%7B%22tagIds%22:%5B%5D,%22type%22:%22point%22,%22point%22:%5B198473.0,195619.0,19598.0%5D,%22id%22:%229e9bf0cc6ed8c7017ea91bf6c9c421a5fbddce06%22,%22segments%22:%5B%22864691135462301853%22%5D%7D,%7B%22tagIds%22:%5B%5D,%22type%22:%22point%22,%22point%22:%5B202370.0,106914.0,19484.0%5D,%22id%22:%220f28c42657d67b28e9090f2af65cce63c5744184%22,%22segments%22:%5B%22864691135462301853%22%5D%7D,%7B%22tagIds%22:%5B%5D,%22type%22:%22point%22,%22point%22:%5B203561.0,108484.0,19504.0%5D,%22id%22:%220ac050f4c4c46dc83943d09f83c80719f2f40963%22,%22segments%22:%5B%22864691135462301853%22%5D%7D,%7B%22tagIds%22:%5B%5D,%22type%22:%22point%22,%22point%22:%5B203565.0,108469.0,19502.0%5D,%22id%22:%22e48c5ab28487e4b9bcb216d4e966a9888bc02a64%22,%22segments%22:%5B%22864691135462301853%22%5D%7D,%7B%22tagIds%22:%5B%5D,%22type%22:%22point%22,%22point%22:%5B191590.0,114869.0,18944.0%5D,%22id%22:%225297c7164c446a19eaa9c2d72a502da1364d8e2c%22,%22segments%22:%5B%22864691135462301853%22%5D%7D,%7B%22tagIds%22:%5B%5D,%22type%22:%22point%22,%22point%22:%5B191882.0,158742.0,19090.0%5D,%22id%22:%223224cadf989152044c669e3f16861faecaf086c3%22,%22segments%22:%5B%22864691135462301853%22%5D%7D,%7B%22tagIds%22:%5B%5D,%22type%22:%22point%22,%22point%22:%5B192575.0,106747.0,18848.0%5D,%22id%22:%2298a8dfe9d19800d63aa053eb4fdeca3b02913190%22,%22segments%22:%5B%22864691135462301853%22%5D%7D,%7B%22tagIds%22:%5B%5D,%22type%22:%22point%22,%22point%22:%5B192688.0,102941.0,18738.0%5D,%22id%22:%2246f59d3c75487e691e85a051a69c50273d1e6f96%22,%22segments%22:%5B%22864691135462301853%22%5D%7D,%7B%22tagIds%22:%5B%5D,%22type%22:%22point%22,%22point%22:%5B193298.0,165353.0,19105.0%5D,%22id%22:%225a6b1f0de03f09ec64d7fbace4b6743b3f9b4eee%22,%22segments%22:%5B%22864691135462301853%22%5D%7D,%7B%22tagIds%22:%5B%5D,%22type%22:%22point%22,%22point%22:%5B197347.0,188809.0,19440.0%5D,%22id%22:%22916fb761c5be87a4101dd7f723c7b67e731fd00b%22,%22segments%22:%5B%22864691135462301853%22%5D%7D,%7B%22tagIds%22:%5B%5D,%22type%22:%22point%22,%22point%22:%5B197441.0,185355.0,19372.0%5D,%22id%22:%22e076e4df6d0a6f3de39c79245146dd4bf4ecbc1e%22,%22segments%22:%5B%22864691135462301853%22%5D%7D,%7B%22tagIds%22:%5B%5D,%22type%22:%22point%22,%22point%22:%5B197912.0,192750.0,19586.0%5D,%22id%22:%22c7e3ede4703ee3e2ff50c9b77d754179ba099dd8%22,%22segments%22:%5B%22864691135462301853%22%5D%7D,%7B%22tagIds%22:%5B%5D,%22type%22:%22point%22,%22point%22:%5B198443.0,193048.0,19573.0%5D,%22id%22:%22882d1846eef83f63b8befc8df160cc797612afff%22,%22segments%22:%5B%22864691135462301853%22%5D%7D,%7B%22tagIds%22:%5B%5D,%22type%22:%22point%22,%22point%22:%5B198473.0,195619.0,19598.0%5D,%22id%22:%222f0a481b2904b4ca31f73284132876dec60817f2%22,%22segments%22:%5B%22864691135462301853%22%5D%7D,%7B%22tagIds%22:%5B%5D,%22type%22:%22point%22,%22point%22:%5B202370.0,106914.0,19484.0%5D,%22id%22:%226403a3043761f150d35de5d2fac76145ee8ea785%22,%22segments%22:%5B%22864691135462301853%22%5D%7D,%7B%22tagIds%22:%5B%5D,%22type%22:%22point%22,%22point%22:%5B203561.0,108484.0,19504.0%5D,%22id%22:%2222e30749f8ec2a47a0382336423b1b3bd4bca422%22,%22segments%22:%5B%22864691135462301853%22%5D%7D,%7B%22tagIds%22:%5B%5D,%22type%22:%22point%22,%22point%22:%5B203565.0,108469.0,19502.0%5D,%22id%22:%229506df8b4a8edc89aa519fe699c19bbbd7463e24%22,%22segments%22:%5B%22864691135462301853%22%5D%7D,%7B%22tagIds%22:%5B%5D,%22type%22:%22point%22,%22point%22:%5B191590.0,114869.0,18944.0%5D,%22id%22:%22b6c3a972f85c711f3b0ce646fcb6cd0777cf6b3d%22,%22segments%22:%5B%22864691135462301853%22%5D%7D,%7B%22tagIds%22:%5B%5D,%22type%22:%22point%22,%22point%22:%5B191882.0,158742.0,19090.0%5D,%22id%22:%228c04f73d88ae5e0633bd54ed0a808a4efd459844%22,%22segments%22:%5B%22864691135462301853%22%5D%7D,%7B%22tagIds%22:%5B%5D,%22type%22:%22point%22,%22point%22:%5B192575.0,106747.0,18848.0%5D,%22id%22:%22ffd6d59f0638d53cb2d9acbd820b1be4caf1d794%22,%22segments%22:%5B%22864691135462301853%22%5D%7D,%7B%22tagIds%22:%5B%5D,%22type%22:%22point%22,%22point%22:%5B192688.0,102941.0,18738.0%5D,%22id%22:%220fe42f4205efa1b08d035b3d1db3a2869d2324db%22,%22segments%22:%5B%22864691135462301853%22%5D%7D,%7B%22tagIds%22:%5B%5D,%22type%22:%22point%22,%22point%22:%5B193298.0,165353.0,19105.0%5D,%22id%22:%2203bee09b8bea1a70ccdd96b82efab7fa0acfad87%22,%22segments%22:%5B%22864691135462301853%22%5D%7D,%7B%22tagIds%22:%5B%5D,%22type%22:%22point%22,%22point%22:%5B197347.0,188809.0,19440.0%5D,%22id%22:%22b61835ee37569e690ef1c9ee77c22bab8a660b30%22,%22segments%22:%5B%22864691135462301853%22%5D%7D,%7B%22tagIds%22:%5B%5D,%22type%22:%22point%22,%22point%22:%5B197441.0,185355.0,19372.0%5D,%22id%22:%22c17463852abf4c70731a8c6df8bac40996a1c790%22,%22segments%22:%5B%22864691135462301853%22%5D%7D,%7B%22tagIds%22:%5B%5D,%22type%22:%22point%22,%22point%22:%5B197912.0,192750.0,19586.0%5D,%22id%22:%2211dabd1b78495f1ba0739c7da1044cf3010f3bb9%22,%22segments%22:%5B%22864691135462301853%22%5D%7D,%7B%22tagIds%22:%5B%5D,%22type%22:%22point%22,%22point%22:%5B198443.0,193048.0,19573.0%5D,%22id%22:%22c74fbaea62f3e0f64a45d7487234c2cb13c39db1%22,%22segments%22:%5B%22864691135462301853%22%5D%7D,%7B%22tagIds%22:%5B%5D,%22type%22:%22point%22,%22point%22:%5B198473.0,195619.0,19598.0%5D,%22id%22:%227addcdbe7ab7f2979b2689870bfa487e3c3971f7%22,%22segments%22:%5B%22864691135462301853%22%5D%7D,%7B%22tagIds%22:%5B%5D,%22type%22:%22point%22,%22point%22:%5B202370.0,106914.0,19484.0%5D,%22id%22:%223280fe953020eb3ec2cab2792daaa81b893678e0%22,%22segments%22:%5B%22864691135462301853%22%5D%7D,%7B%22tagIds%22:%5B%5D,%22type%22:%22point%22,%22point%22:%5B203561.0,108484.0,19504.0%5D,%22id%22:%22fd4a62ff2f53cc2449aa7bca7e1f5a6c12f926ef%22,%22segments%22:%5B%22864691135462301853%22%5D%7D,%7B%22tagIds%22:%5B%5D,%22type%22:%22point%22,%22point%22:%5B203565.0,108469.0,19502.0%5D,%22id%22:%22e2e8f86869d0679074cffd86f73a09a988f47481%22,%22segments%22:%5B%22864691135462301853%22%5D%7D,%7B%22tagIds%22:%5B%5D,%22type%22:%22point%22,%22point%22:%5B204270.0,117685.0,19318.0%5D,%22id%22:%22187d9b4eec15538f1a0b50314f7dc94b674e0c86%22,%22segments%22:%5B%22864691135462301853%22%5D%7D,%7B%22tagIds%22:%5B%5D,%22type%22:%22point%22,%22point%22:%5B204323.0,126503.0,19354.0%5D,%22id%22:%22e4eeb772b6090d1b1fb6811b9fab7113c00b7c47%22,%22segments%22:%5B%22864691135462301853%22%5D%7D,%7B%22tagIds%22:%5B%5D,%22type%22:%22point%22,%22point%22:%5B205254.0,115521.0,19309.0%5D,%22id%22:%225dbe795a6b54ed56dc8cd5e84856ded47cdd0221%22,%22segments%22:%5B%22864691135462301853%22%5D%7D,%7B%22tagIds%22:%5B%5D,%22type%22:%22point%22,%22point%22:%5B205514.0,123423.0,19471.0%5D,%22id%22:%229c790be5fea536a8b6066cad3fb6deb3635a4ecb%22,%22segments%22:%5B%22864691135462301853%22%5D%7D,%7B%22tagIds%22:%5B%5D,%22type%22:%22point%22,%22point%22:%5B205561.0,113524.0,19383.0%5D,%22id%22:%22752cde68b5a291ce80ff61c4c30e47b3d43f3f2a%22,%22segments%22:%5B%22864691135462301853%22%5D%7D,%7B%22tagIds%22:%5B%5D,%22type%22:%22point%22,%22point%22:%5B205630.0,112597.0,19444.0%5D,%22id%22:%2294d69e65f642e869894f2c81a0183efca6b56ba3%22,%22segments%22:%5B%22864691135462301853%22%5D%7D,%7B%22tagIds%22:%5B%5D,%22type%22:%22point%22,%22point%22:%5B205638.0,110738.0,19474.0%5D,%22id%22:%22b963dcc018966364936580a9f3a9344c65169676%22,%22segments%22:%5B%22864691135462301853%22%5D%7D,%7B%22tagIds%22:%5B%5D,%22type%22:%22point%22,%22point%22:%5B205728.0,110825.0,19482.0%5D,%22id%22:%22a88ebf77192ad7c4805f84dd11bd4f6ded4b125c%22,%22segments%22:%5B%22864691135462301853%22%5D%7D,%7B%22tagIds%22:%5B%5D,%22type%22:%22point%22,%22point%22:%5B205769.0,111367.0,19477.0%5D,%22id%22:%228ff8e881fa673a269429a54d6e032851c1272894%22,%22segments%22:%5B%22864691135462301853%22%5D%7D,%7B%22tagIds%22:%5B%5D,%22type%22:%22point%22,%22point%22:%5B206450.0,109179.0,19596.0%5D,%22id%22:%22827bce7cce20e19e2f9d3aaab3f2119f59bb4bf1%22,%22segments%22:%5B%22864691135462301853%22%5D%7D,%7B%22tagIds%22:%5B%5D,%22type%22:%22point%22,%22point%22:%5B208180.0,108345.0,19757.0%5D,%22id%22:%2244eb790bb971e79bbebe3fe3e5e9c5a40b05b72a%22,%22segments%22:%5B%22864691135462301853%22%5D%7D,%7B%22tagIds%22:%5B%5D,%22type%22:%22point%22,%22point%22:%5B209684.0,109254.0,19724.0%5D,%22id%22:%2272101bebc4d5cfb3d7db0345b168aa51410ac1ee%22,%22segments%22:%5B%22864691135462301853%22%5D%7D,%7B%22tagIds%22:%5B%5D,%22type%22:%22point%22,%22point%22:%5B209836.0,109126.0,19695.0%5D,%22id%22:%224f5240c6822c2935d8057c69c36811200027d68c%22,%22segments%22:%5B%22864691135462301853%22%5D%7D%5D%7D,%7B%22type%22:%22annotation%22,%22linkedSegmentationLayer%22:%22seg%22,%22filterBySegmentation%22:false,%22bracketShortcutsShowSegmentation%22:true,%22annotationSelectionShowsSegmentation%22:true,%22annotationColor%22:%22#008000%22,%22name%22:%22not_cut_path%22%7D,%7B%22type%22:%22annotation%22,%22linkedSegmentationLayer%22:%22seg%22,%22filterBySegmentation%22:false,%22bracketShortcutsShowSegmentation%22:true,%22annotationSelectionShowsSegmentation%22:true,%22annotationColor%22:%22#ff0000%22,%22name%22:%22split_location%22,%22annotations%22:%5B%7B%22tagIds%22:%5B%5D,%22type%22:%22point%22,%22point%22:%5B191590.0,114869.0,18944.0%5D,%22id%22:%22954cc0e9aa6c78e6e4e639cf92a736dad30f1ceb%22,%22segments%22:%5B%22864691135462301853%22%5D%7D,%7B%22tagIds%22:%5B%5D,%22type%22:%22point%22,%22point%22:%5B192688.0,102941.0,18738.0%5D,%22id%22:%229e44a86c03111f75949c85e05ae860e74ce96771%22,%22segments%22:%5B%22864691135462301853%22%5D%7D,%7B%22tagIds%22:%5B%5D,%22type%22:%22point%22,%22point%22:%5B193298.0,165353.0,19105.0%5D,%22id%22:%22ca50312ed8cf038423153f1443d2873d7d2ddd59%22,%22segments%22:%5B%22864691135462301853%22%5D%7D,%7B%22tagIds%22:%5B%5D,%22type%22:%22point%22,%22point%22:%5B209760.0,109190.0,19710.0%5D,%22id%22:%222be30924ca6d06f59c072c3115a96be695487e47%22,%22segments%22:%5B%22864691135462301853%22%5D%7D%5D%7D%5D,%22selectedLayer%22:%7B%22layer%22:%22split_location%22,%22visible%22:true%7D%7D\" target=\"_blank\">Neuroglancer Link</a>"
      ],
      "text/plain": [
       "<IPython.core.display.HTML object>"
      ]
     },
     "execution_count": 56,
     "metadata": {},
     "output_type": "execute_result"
    }
   ],
   "source": [
    "pru.split_info_to_neuroglancer_link(segment_id=segment_id,\n",
    "                split_info=limb_results)"
   ]
  },
  {
   "cell_type": "code",
   "execution_count": null,
   "metadata": {},
   "outputs": [],
   "source": []
  }
 ],
 "metadata": {
  "kernelspec": {
   "display_name": "Python 3",
   "language": "python",
   "name": "python3"
  },
  "language_info": {
   "codemirror_mode": {
    "name": "ipython",
    "version": 3
   },
   "file_extension": ".py",
   "mimetype": "text/x-python",
   "name": "python",
   "nbconvert_exporter": "python",
   "pygments_lexer": "ipython3",
   "version": "3.6.9"
  }
 },
 "nbformat": 4,
 "nbformat_minor": 4
}
