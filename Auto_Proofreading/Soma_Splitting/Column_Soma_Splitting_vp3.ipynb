{
 "cells": [
  {
   "cell_type": "code",
   "execution_count": 1,
   "metadata": {},
   "outputs": [
    {
     "data": {
      "text/plain": [
       "'\\nPurpose: Test the splitting procedure on more double neurons\\n\\n\\n'"
      ]
     },
     "execution_count": 1,
     "metadata": {},
     "output_type": "execute_result"
    }
   ],
   "source": [
    "\"\"\"\n",
    "Purpose: Test the splitting procedure on more double neurons\n",
    "\n",
    "\n",
    "\"\"\""
   ]
  },
  {
   "cell_type": "code",
   "execution_count": 2,
   "metadata": {},
   "outputs": [],
   "source": [
    "%load_ext autoreload\n",
    "%autoreload 2"
   ]
  },
  {
   "cell_type": "code",
   "execution_count": 3,
   "metadata": {},
   "outputs": [],
   "source": [
    "from os import sys\n",
    "sys.path.append(\"/meshAfterParty/\")"
   ]
  },
  {
   "cell_type": "code",
   "execution_count": 5,
   "metadata": {},
   "outputs": [
    {
     "name": "stderr",
     "output_type": "stream",
     "text": [
      "INFO - 2021-01-01 19:39:29,700 - settings - Setting database.host to at-database.ad.bcm.edu\n",
      "INFO - 2021-01-01 19:39:29,701 - settings - Setting database.user to celiib\n",
      "INFO - 2021-01-01 19:39:29,702 - settings - Setting database.password to newceliipass\n",
      "INFO - 2021-01-01 19:39:29,719 - settings - Setting stores to {'minnie65': {'protocol': 'file', 'location': '/mnt/dj-stor01/platinum/minnie65', 'stage': '/mnt/dj-stor01/platinum/minnie65'}, 'meshes': {'protocol': 'file', 'location': '/mnt/dj-stor01/platinum/minnie65/02/meshes', 'stage': '/mnt/dj-stor01/platinum/minnie65/02/meshes'}, 'decimated_meshes': {'protocol': 'file', 'location': '/mnt/dj-stor01/platinum/minnie65/02/decimated_meshes', 'stage': '/mnt/dj-stor01/platinum/minnie65/02/decimated_meshes'}, 'skeletons': {'protocol': 'file', 'location': '/mnt/dj-stor01/platinum/minnie65/02/skeletons'}}\n",
      "INFO - 2021-01-01 19:39:29,720 - settings - Setting enable_python_native_blobs to True\n",
      "INFO - 2021-01-01 19:39:29,738 - connection - Connected celiib@at-database.ad.bcm.edu:3306\n"
     ]
    },
    {
     "name": "stdout",
     "output_type": "stream",
     "text": [
      "Connecting celiib@at-database.ad.bcm.edu:3306\n"
     ]
    },
    {
     "name": "stderr",
     "output_type": "stream",
     "text": [
      "INFO - 2021-01-01 19:39:29,950 - settings - Setting enable_python_native_blobs to True\n"
     ]
    }
   ],
   "source": [
    "from importlib import reload\n",
    "\n",
    "import neuron_utils as nru\n",
    "\n",
    "import neuron\n",
    "\n",
    "import neuron_visualizations as nviz\n",
    "\n",
    "import time\n",
    "\n",
    "import datajoint_utils as du\n",
    "\n",
    "import numpy as np"
   ]
  },
  {
   "cell_type": "code",
   "execution_count": 6,
   "metadata": {},
   "outputs": [
    {
     "name": "stderr",
     "output_type": "stream",
     "text": [
      "INFO - 2021-01-01 19:39:30,735 - settings - Setting enable_python_native_blobs to True\n",
      "INFO - 2021-01-01 19:39:30,970 - settings - Setting enable_python_native_blobs to True\n"
     ]
    }
   ],
   "source": [
    "minnie,schema = du.configure_minnie_vm()"
   ]
  },
  {
   "cell_type": "markdown",
   "metadata": {},
   "source": [
    "# Picking the Neuron"
   ]
  },
  {
   "cell_type": "code",
   "execution_count": 10,
   "metadata": {},
   "outputs": [
    {
     "data": {
      "text/html": [
       "\n",
       "        \n",
       "        <style type=\"text/css\">\n",
       "            .Relation{\n",
       "                border-collapse:collapse;\n",
       "            }\n",
       "            .Relation th{\n",
       "                background: #A0A0A0; color: #ffffff; padding:4px; border:#f0e0e0 1px solid;\n",
       "                font-weight: normal; font-family: monospace; font-size: 100%;\n",
       "            }\n",
       "            .Relation td{\n",
       "                padding:4px; border:#f0e0e0 1px solid; font-size:100%;\n",
       "            }\n",
       "            .Relation tr:nth-child(odd){\n",
       "                background: #ffffff;\n",
       "            }\n",
       "            .Relation tr:nth-child(even){\n",
       "                background: #f3f1ff;\n",
       "            }\n",
       "            /* Tooltip container */\n",
       "            .djtooltip {\n",
       "            }\n",
       "            /* Tooltip text */\n",
       "            .djtooltip .djtooltiptext {\n",
       "                visibility: hidden;\n",
       "                width: 120px;\n",
       "                background-color: black;\n",
       "                color: #fff;\n",
       "                text-align: center;\n",
       "                padding: 5px 0;\n",
       "                border-radius: 6px;\n",
       "                /* Position the tooltip text - see examples below! */\n",
       "                position: absolute;\n",
       "                z-index: 1;\n",
       "            }\n",
       "            #primary {\n",
       "                font-weight: bold;\n",
       "                color: black;\n",
       "            }\n",
       "\n",
       "            #nonprimary {\n",
       "                font-weight: normal;\n",
       "                color: white;\n",
       "            }\n",
       "\n",
       "            /* Show the tooltip text when you mouse over the tooltip container */\n",
       "            .djtooltip:hover .djtooltiptext {\n",
       "                visibility: visible;\n",
       "            }\n",
       "        </style>\n",
       "        \n",
       "        <b></b>\n",
       "            <div style=\"max-height:1000px;max-width:1500px;overflow:auto;\">\n",
       "            <table border=\"1\" class=\"Relation\">\n",
       "                <thead> <tr style=\"text-align: right;\"> <th> <div class=\"djtooltip\">\n",
       "                                <p id=\"primary\">segment_id</p>\n",
       "                                <span class=\"djtooltiptext\">segment id unique within each Segmentation</span>\n",
       "                            </div></th><th><div class=\"djtooltip\">\n",
       "                                <p id=\"primary\">decimation_version</p>\n",
       "                                <span class=\"djtooltiptext\"></span>\n",
       "                            </div></th><th><div class=\"djtooltip\">\n",
       "                                <p id=\"primary\">decimation_ratio</p>\n",
       "                                <span class=\"djtooltiptext\">ratio of remaining mesh vertices/faces (which ones depends on what metric the decimation technique uses)</span>\n",
       "                            </div></th><th><div class=\"djtooltip\">\n",
       "                                <p id=\"nonprimary\">decomposition</p>\n",
       "                                <span class=\"djtooltiptext\"></span>\n",
       "                            </div></th><th><div class=\"djtooltip\">\n",
       "                                <p id=\"nonprimary\">n_vertices</p>\n",
       "                                <span class=\"djtooltiptext\">number of vertices</span>\n",
       "                            </div></th><th><div class=\"djtooltip\">\n",
       "                                <p id=\"nonprimary\">n_faces</p>\n",
       "                                <span class=\"djtooltiptext\">number of faces</span>\n",
       "                            </div></th><th><div class=\"djtooltip\">\n",
       "                                <p id=\"nonprimary\">n_error_limbs</p>\n",
       "                                <span class=\"djtooltiptext\">the number of limbs that are touching multiple somas or 1 soma in multiple places</span>\n",
       "                            </div></th><th><div class=\"djtooltip\">\n",
       "                                <p id=\"nonprimary\">n_same_soma_multi_touching_limbs</p>\n",
       "                                <span class=\"djtooltiptext\">number of limbs that touch the same soma multiple times</span>\n",
       "                            </div></th><th><div class=\"djtooltip\">\n",
       "                                <p id=\"nonprimary\">n_multi_soma_touching_limbs</p>\n",
       "                                <span class=\"djtooltiptext\">number of limbs that touch multiple somas</span>\n",
       "                            </div></th><th><div class=\"djtooltip\">\n",
       "                                <p id=\"nonprimary\">n_somas</p>\n",
       "                                <span class=\"djtooltiptext\">number of soma meshes detected</span>\n",
       "                            </div></th><th><div class=\"djtooltip\">\n",
       "                                <p id=\"nonprimary\">n_limbs</p>\n",
       "                                <span class=\"djtooltiptext\"></span>\n",
       "                            </div></th><th><div class=\"djtooltip\">\n",
       "                                <p id=\"nonprimary\">n_branches</p>\n",
       "                                <span class=\"djtooltiptext\"></span>\n",
       "                            </div></th><th><div class=\"djtooltip\">\n",
       "                                <p id=\"nonprimary\">max_limb_n_branches</p>\n",
       "                                <span class=\"djtooltiptext\"></span>\n",
       "                            </div></th><th><div class=\"djtooltip\">\n",
       "                                <p id=\"nonprimary\">skeletal_length</p>\n",
       "                                <span class=\"djtooltiptext\"></span>\n",
       "                            </div></th><th><div class=\"djtooltip\">\n",
       "                                <p id=\"nonprimary\">max_limb_skeletal_length</p>\n",
       "                                <span class=\"djtooltiptext\"></span>\n",
       "                            </div></th><th><div class=\"djtooltip\">\n",
       "                                <p id=\"nonprimary\">median_branch_length</p>\n",
       "                                <span class=\"djtooltiptext\">gives information on average skeletal length to next branch point</span>\n",
       "                            </div></th><th><div class=\"djtooltip\">\n",
       "                                <p id=\"nonprimary\">width_median</p>\n",
       "                                <span class=\"djtooltiptext\">median width from mesh center without spines removed</span>\n",
       "                            </div></th><th><div class=\"djtooltip\">\n",
       "                                <p id=\"nonprimary\">width_no_spine_median</p>\n",
       "                                <span class=\"djtooltiptext\">median width from mesh center with spines removed</span>\n",
       "                            </div></th><th><div class=\"djtooltip\">\n",
       "                                <p id=\"nonprimary\">width_90_perc</p>\n",
       "                                <span class=\"djtooltiptext\">90th percentile for width without spines removed</span>\n",
       "                            </div></th><th><div class=\"djtooltip\">\n",
       "                                <p id=\"nonprimary\">width_no_spine_90_perc</p>\n",
       "                                <span class=\"djtooltiptext\">90th percentile for width with spines removed</span>\n",
       "                            </div></th><th><div class=\"djtooltip\">\n",
       "                                <p id=\"nonprimary\">n_spines</p>\n",
       "                                <span class=\"djtooltiptext\"></span>\n",
       "                            </div></th><th><div class=\"djtooltip\">\n",
       "                                <p id=\"nonprimary\">spine_density</p>\n",
       "                                <span class=\"djtooltiptext\">n_spines/ skeletal_length</span>\n",
       "                            </div></th><th><div class=\"djtooltip\">\n",
       "                                <p id=\"nonprimary\">spines_per_branch</p>\n",
       "                                <span class=\"djtooltiptext\"></span>\n",
       "                            </div></th><th><div class=\"djtooltip\">\n",
       "                                <p id=\"nonprimary\">skeletal_length_eligible</p>\n",
       "                                <span class=\"djtooltiptext\">the skeletal length for all branches searched for spines</span>\n",
       "                            </div></th><th><div class=\"djtooltip\">\n",
       "                                <p id=\"nonprimary\">n_spine_eligible_branches</p>\n",
       "                                <span class=\"djtooltiptext\">the number of branches that were checked for spines because passed width threshold</span>\n",
       "                            </div></th><th><div class=\"djtooltip\">\n",
       "                                <p id=\"nonprimary\">spine_density_eligible</p>\n",
       "                                <span class=\"djtooltiptext\">n_spines/skeletal_length_eligible</span>\n",
       "                            </div></th><th><div class=\"djtooltip\">\n",
       "                                <p id=\"nonprimary\">spines_per_branch_eligible</p>\n",
       "                                <span class=\"djtooltiptext\">n_spines/n_spine_eligible_branches</span>\n",
       "                            </div></th><th><div class=\"djtooltip\">\n",
       "                                <p id=\"nonprimary\">total_spine_volume</p>\n",
       "                                <span class=\"djtooltiptext\">the sum of all spine volume</span>\n",
       "                            </div></th><th><div class=\"djtooltip\">\n",
       "                                <p id=\"nonprimary\">spine_volume_median</p>\n",
       "                                <span class=\"djtooltiptext\">median of the spine volume for those spines with able to calculate volume</span>\n",
       "                            </div></th><th><div class=\"djtooltip\">\n",
       "                                <p id=\"nonprimary\">spine_volume_density</p>\n",
       "                                <span class=\"djtooltiptext\">total_spine_volume/skeletal_length</span>\n",
       "                            </div></th><th><div class=\"djtooltip\">\n",
       "                                <p id=\"nonprimary\">spine_volume_density_eligible</p>\n",
       "                                <span class=\"djtooltiptext\">total_spine_volume/skeletal_length_eligible</span>\n",
       "                            </div></th><th><div class=\"djtooltip\">\n",
       "                                <p id=\"nonprimary\">spine_volume_per_branch_eligible</p>\n",
       "                                <span class=\"djtooltiptext\">total_spine_volume/n_spine_eligible_branches</span>\n",
       "                            </div></th><th><div class=\"djtooltip\">\n",
       "                                <p id=\"nonprimary\">run_time</p>\n",
       "                                <span class=\"djtooltiptext\">the amount of time to run (seconds)</span>\n",
       "                            </div> </th> </tr> </thead>\n",
       "                <tbody> <tr> <td>864691135081644023</td>\n",
       "<td>0</td>\n",
       "<td>0.25</td>\n",
       "<td>=BLOB=</td>\n",
       "<td>853714</td>\n",
       "<td>1717788</td>\n",
       "<td>3</td>\n",
       "<td>2</td>\n",
       "<td>2</td>\n",
       "<td>2</td>\n",
       "<td>12</td>\n",
       "<td>274</td>\n",
       "<td>133</td>\n",
       "<td>9162003.929362295</td>\n",
       "<td>3242331.927848693</td>\n",
       "<td>19865.182</td>\n",
       "<td>145.587</td>\n",
       "<td>144.967</td>\n",
       "<td>448.261</td>\n",
       "<td>414.128</td>\n",
       "<td>3469</td>\n",
       "<td>0.00037862895789452617</td>\n",
       "<td>12.66058394160584</td>\n",
       "<td>6081924.478</td>\n",
       "<td>136</td>\n",
       "<td>0.0005703786708546498</td>\n",
       "<td>25.507</td>\n",
       "<td>249007443922.7725</td>\n",
       "<td>43979761.86664835</td>\n",
       "<td>27178.272989466423</td>\n",
       "<td>40942.21242363353</td>\n",
       "<td>1830937087.6674447</td>\n",
       "<td>8646.5071</td></tr><tr><td>864691135334512105</td>\n",
       "<td>0</td>\n",
       "<td>0.25</td>\n",
       "<td>=BLOB=</td>\n",
       "<td>1284668</td>\n",
       "<td>2592422</td>\n",
       "<td>3</td>\n",
       "<td>2</td>\n",
       "<td>2</td>\n",
       "<td>2</td>\n",
       "<td>14</td>\n",
       "<td>392</td>\n",
       "<td>135</td>\n",
       "<td>12131472.348390516</td>\n",
       "<td>4130120.84771535</td>\n",
       "<td>16856.41</td>\n",
       "<td>184.141</td>\n",
       "<td>181.386</td>\n",
       "<td>515.629</td>\n",
       "<td>453.603</td>\n",
       "<td>5554</td>\n",
       "<td>0.0004578174718204629</td>\n",
       "<td>14.168367346938776</td>\n",
       "<td>7910845.395</td>\n",
       "<td>205</td>\n",
       "<td>0.0007020741428609351</td>\n",
       "<td>27.093</td>\n",
       "<td>364291552257.68677</td>\n",
       "<td>38879569.205490746</td>\n",
       "<td>30028.634760562873</td>\n",
       "<td>46049.636172631435</td>\n",
       "<td>1777031962.2326183</td>\n",
       "<td>14128.7911</td></tr><tr><td>864691135337716966</td>\n",
       "<td>0</td>\n",
       "<td>0.25</td>\n",
       "<td>=BLOB=</td>\n",
       "<td>901090</td>\n",
       "<td>1830584</td>\n",
       "<td>4</td>\n",
       "<td>2</td>\n",
       "<td>2</td>\n",
       "<td>2</td>\n",
       "<td>16</td>\n",
       "<td>317</td>\n",
       "<td>100</td>\n",
       "<td>10351773.472658275</td>\n",
       "<td>2638333.6885507177</td>\n",
       "<td>17244.394</td>\n",
       "<td>114.782</td>\n",
       "<td>114.782</td>\n",
       "<td>473.125</td>\n",
       "<td>451.843</td>\n",
       "<td>3154</td>\n",
       "<td>0.00030468209223574435</td>\n",
       "<td>9.949526813880126</td>\n",
       "<td>6556198.459</td>\n",
       "<td>145</td>\n",
       "<td>0.00048107146538103293</td>\n",
       "<td>21.752</td>\n",
       "<td>158664860294.77002</td>\n",
       "<td>31171798.182750065</td>\n",
       "<td>15327.311857610212</td>\n",
       "<td>24200.74091518132</td>\n",
       "<td>1094240415.8260002</td>\n",
       "<td>9261.2628</td> </tr> </tbody>\n",
       "            </table>\n",
       "            \n",
       "            <p>Total: 3</p></div>\n",
       "            "
      ],
      "text/plain": [
       "*segment_id    *decimation_ve *decimation_ra decomposit n_vertices     n_faces     n_error_limbs  n_same_soma_mu n_multi_soma_t n_somas     n_limbs     n_branches     max_limb_n_bra skeletal_lengt max_limb_skele median_branch_ width_median   width_no_spine width_90_perc  width_no_spine n_spines     spine_density  spines_per_bra skeletal_lengt n_spine_eligib spine_density_ spines_per_bra total_spine_vo spine_volume_m spine_volume_d spine_volume_d spine_volume_p run_time      \n",
       "+------------+ +------------+ +------------+ +--------+ +------------+ +---------+ +------------+ +------------+ +------------+ +---------+ +---------+ +------------+ +------------+ +------------+ +------------+ +------------+ +------------+ +------------+ +------------+ +------------+ +----------+ +------------+ +------------+ +------------+ +------------+ +------------+ +------------+ +------------+ +------------+ +------------+ +------------+ +------------+ +------------+\n",
       "86469113508164 0              0.25           =BLOB=     853714         1717788     3              2              2              2           12          274            133            9162003.929362 3242331.927848 19865.182      145.587        144.967        448.261        414.128        3469         0.000378628957 12.66058394160 6081924.478    136            0.000570378670 25.507         249007443922.7 43979761.86664 27178.27298946 40942.21242363 1830937087.667 8646.5071     \n",
       "86469113533451 0              0.25           =BLOB=     1284668        2592422     3              2              2              2           14          392            135            12131472.34839 4130120.847715 16856.41       184.141        181.386        515.629        453.603        5554         0.000457817471 14.16836734693 7910845.395    205            0.000702074142 27.093         364291552257.6 38879569.20549 30028.63476056 46049.63617263 1777031962.232 14128.7911    \n",
       "86469113533771 0              0.25           =BLOB=     901090         1830584     4              2              2              2           16          317            100            10351773.47265 2638333.688550 17244.394      114.782        114.782        473.125        451.843        3154         0.000304682092 9.949526813880 6556198.459    145            0.000481071465 21.752         158664860294.7 31171798.18275 15327.31185761 24200.74091518 1094240415.826 9261.2628     \n",
       " (Total: 3)"
      ]
     },
     "execution_count": 10,
     "metadata": {},
     "output_type": "execute_result"
    }
   ],
   "source": [
    "(minnie.Decomposition() & \"n_somas>=2\" & \"n_error_limbs>=3\"  \n",
    " & \"n_same_soma_multi_touching_limbs>=1\"\n",
    " & \"n_multi_soma_touching_limbs >= 2\")"
   ]
  },
  {
   "cell_type": "code",
   "execution_count": 11,
   "metadata": {},
   "outputs": [],
   "source": [
    "segment_id = 864691135337716966"
   ]
  },
  {
   "cell_type": "code",
   "execution_count": 13,
   "metadata": {},
   "outputs": [
    {
     "name": "stdout",
     "output_type": "stream",
     "text": [
      "Decompressing Neuron in minimal output mode...please wait\n"
     ]
    }
   ],
   "source": [
    "neuron_obj = (minnie.Decomposition & dict(segment_id=segment_id)).fetch1(\"decomposition\")"
   ]
  },
  {
   "cell_type": "code",
   "execution_count": 16,
   "metadata": {},
   "outputs": [
    {
     "name": "stdout",
     "output_type": "stream",
     "text": [
      "\n",
      " Working on visualization type: mesh\n",
      "\n",
      " Working on visualization type: skeleton\n"
     ]
    },
    {
     "data": {
      "application/vnd.jupyter.widget-view+json": {
       "model_id": "0616f9d7f4e248dfa6299bc050bd884b",
       "version_major": 2,
       "version_minor": 0
      },
      "text/plain": [
       "VBox(children=(Figure(camera=PerspectiveCamera(fov=46.0, position=(0.0, 0.0, 2.0), quaternion=(0.0, 0.0, 0.0, …"
      ]
     },
     "metadata": {},
     "output_type": "display_data"
    }
   ],
   "source": [
    "nviz.visualize_neuron(neuron_obj,\n",
    "                     visualize_type=[\"mesh\",\"skeleton\"],\n",
    "                     limb_branch_dict=\"all\")"
   ]
  },
  {
   "cell_type": "markdown",
   "metadata": {},
   "source": [
    "# # Preview of How th Neuron Will Need to be Split"
   ]
  },
  {
   "cell_type": "code",
   "execution_count": 14,
   "metadata": {},
   "outputs": [
    {
     "data": {
      "text/plain": [
       "array([ 1, 10])"
      ]
     },
     "execution_count": 14,
     "metadata": {},
     "output_type": "execute_result"
    }
   ],
   "source": [
    "multi_soma_limbs = nru.multi_soma_touching_limbs(neuron_obj)\n",
    "multi_soma_limbs"
   ]
  },
  {
   "cell_type": "code",
   "execution_count": 15,
   "metadata": {},
   "outputs": [
    {
     "data": {
      "text/plain": [
       "array([0, 5])"
      ]
     },
     "execution_count": 15,
     "metadata": {},
     "output_type": "execute_result"
    }
   ],
   "source": [
    "multi_touch_limbs = nru.same_soma_multi_touching_limbs(neuron_obj)\n",
    "multi_touch_limbs"
   ]
  },
  {
   "cell_type": "code",
   "execution_count": 17,
   "metadata": {},
   "outputs": [
    {
     "data": {
      "text/plain": [
       "array([ 0,  1,  5, 10])"
      ]
     },
     "execution_count": 17,
     "metadata": {},
     "output_type": "execute_result"
    }
   ],
   "source": [
    "total_limbs_to_process = np.unique(np.concatenate([multi_soma_limbs,multi_touch_limbs]))\n",
    "total_limbs_to_process"
   ]
  },
  {
   "cell_type": "markdown",
   "metadata": {},
   "source": [
    "# Doing the Splitting"
   ]
  },
  {
   "cell_type": "code",
   "execution_count": 19,
   "metadata": {},
   "outputs": [],
   "source": [
    "import proofreading_utils as pru"
   ]
  },
  {
   "cell_type": "code",
   "execution_count": 22,
   "metadata": {},
   "outputs": [
    {
     "name": "stdout",
     "output_type": "stream",
     "text": [
      "Recieved another instance of Neuron class in init -- so just copying data\n"
     ]
    }
   ],
   "source": [
    "neuron_obj = neuron.Neuron(neuron_obj)"
   ]
  },
  {
   "cell_type": "code",
   "execution_count": 30,
   "metadata": {
    "scrolled": false
   },
   "outputs": [
    {
     "name": "stdout",
     "output_type": "stream",
     "text": [
      "\n",
      " Working on visualization type: mesh\n",
      "\n",
      " Working on visualization type: skeleton\n"
     ]
    },
    {
     "data": {
      "application/vnd.jupyter.widget-view+json": {
       "model_id": "ad1da101f02e49a9a5d51872b7377a68",
       "version_major": 2,
       "version_minor": 0
      },
      "text/plain": [
       "VBox(children=(Figure(camera=PerspectiveCamera(fov=46.0, position=(0.0, 0.0, 2.0), quaternion=(0.0, 0.0, 0.0, …"
      ]
     },
     "metadata": {},
     "output_type": "display_data"
    }
   ],
   "source": [
    "nviz.visualize_neuron(neuron_obj,\n",
    "                      visualize_type=[\"mesh\",\"skeleton\"],\n",
    "                     limb_branch_dict=dict(L0=\"all\"))"
   ]
  },
  {
   "cell_type": "code",
   "execution_count": 29,
   "metadata": {
    "scrolled": false
   },
   "outputs": [
    {
     "name": "stdout",
     "output_type": "stream",
     "text": [
      "multi_soma_limbs = [ 1 10]\n",
      "multi_touch_limbs = [0 5]\n",
      "\n",
      "\n",
      " -------- Working on limb 0------------\n",
      "Starting combinations to process = [(56, 54)]\n",
      "\n",
      "\n",
      "---- working on disconnecting 56 and 54\n",
      "---- This disconnects S0_0 from S0_1  \n",
      " Cut iteration 0\n",
      "Shortest path = [56, 53, 33, 28, 27, 30, 54]\n",
      "Short segments to combine = [53]\n",
      "\n",
      "\n",
      "-------- Removing Segments -------------\n",
      "curr_short_seg_revised = 53\n",
      "np.sum(touch_len>0) = 2\n",
      "Using average stitch point\n",
      "touching_endpoints = [[805609. 747237. 787163.]\n",
      " [806107. 748034. 786720.]]\n",
      "new_stitch_point = [805858.  747635.5 786941.5]\n",
      "Angles for [33 52 56 31] are [64.54, 38.27, 25.82, 85.16]\n",
      "Branch that will absorb mesh of 53 is 56 \n",
      "\n",
      "-------- Done Removing Segments -------------\n",
      "\n",
      "\n",
      "Found 1 high degree coordinates to cut\n",
      "Picking [805858.  747635.5 786941.5] high degree coordinates to cut\n",
      "coordinate_branches = [31, 33, 52, 56]\n",
      "31 = red\n",
      "33 = aqua\n",
      "52 = purple\n",
      "56 = green\n"
     ]
    },
    {
     "data": {
      "application/vnd.jupyter.widget-view+json": {
       "model_id": "49d4fe50c7e6433e80a563a2268f14b5",
       "version_major": 2,
       "version_minor": 0
      },
      "text/plain": [
       "VBox(children=(Figure(camera=PerspectiveCamera(fov=46.0, position=(0.0, 0.0, 2.0), quaternion=(0.0, 0.0, 0.0, …"
      ]
     },
     "metadata": {},
     "output_type": "display_data"
    },
    {
     "name": "stdout",
     "output_type": "stream",
     "text": [
      "Angle between 31 and 33 = 121.79 \n",
      "Angle between 31 and 52 = 61.64 \n",
      "Angle between 31 and 56 = 74.52 \n",
      "Angle between 33 and 52 = 78.08 \n",
      "Angle between 33 and 56 = 63.59 \n",
      "Angle between 52 and 56 = 47.34 \n",
      "Final Matches = []\n",
      "matched_branches_revised = []\n",
      "Aligned Skeleton Parts\n"
     ]
    },
    {
     "data": {
      "application/vnd.jupyter.widget-view+json": {
       "model_id": "ad8605918c1d4dbbba89c43393133c54",
       "version_major": 2,
       "version_minor": 0
      },
      "text/plain": [
       "VBox(children=(Figure(camera=PerspectiveCamera(fov=46.0, position=(0.0, 0.0, 2.0), quaternion=(0.0, 0.0, 0.0, …"
      ]
     },
     "metadata": {},
     "output_type": "display_data"
    },
    {
     "name": "stdout",
     "output_type": "stream",
     "text": [
      "Original graph\n"
     ]
    },
    {
     "data": {
      "image/png": "[encoded data removed]",
      "text/plain": [
       "<Figure size 432x288 with 1 Axes>"
      ]
     },
     "metadata": {},
     "output_type": "display_data"
    },
    {
     "name": "stdout",
     "output_type": "stream",
     "text": [
      "edges_to_delete = [[31 56]\n",
      " [33 56]\n",
      " [52 56]]\n",
      "edges_to_create = []\n",
      "skip_nodes = []\n",
      "edges_to_delete = [[31 56]\n",
      " [33 56]\n",
      " [52 56]]\n",
      "edges_to_create = []\n",
      "Number of connected components = 5\n",
      "Comp 0 = {56}\n",
      "Comp 1 = {2, 9, 10, 11, 31}\n",
      "Comp 2 = {0, 33, 1, 3, 4, 5, 6, 7, 8, 12, 15, 16, 49, 18, 22, 54, 27, 28, 30}\n",
      "Comp 3 = {13, 14, 17, 19, 20, 21, 23, 24, 25, 26, 29, 32, 34, 35, 36, 37, 38, 39, 40, 41, 42, 43, 44, 45, 46, 47, 48, 50, 51, 52, 55, 57, 58, 59, 60, 61, 62, 63, 64, 65, 66}\n",
      "Comp 4 = {53}\n",
      "After get best cut: cut_edges = [array([31, 56]), array([33, 56]), array([52, 56])], added_edges = []\n",
      " Cut iteration 1\n",
      "No valid path so moving onto the next connection\n",
      "Total number of graphs at the end of the split = 5\n",
      "\n",
      "\n",
      " -------- Working on limb 1------------\n",
      "Starting combinations to process = [(81, 62)]\n",
      "\n",
      "\n",
      "---- working on disconnecting 81 and 62\n",
      "---- This disconnects S0_0 from S1_0  \n",
      " Cut iteration 0\n",
      "Shortest path = [81, 65, 61, 62]\n",
      "Short segments to combine = []\n",
      "Found 2 high degree coordinates to cut\n",
      "Picking [775348.66666667 777956.         785338.33333333] high degree coordinates to cut\n",
      "coordinate_branches = [24, 61, 62, 63]\n",
      "24 = red\n",
      "61 = aqua\n",
      "62 = purple\n",
      "63 = green\n"
     ]
    },
    {
     "data": {
      "application/vnd.jupyter.widget-view+json": {
       "model_id": "719bd423dff44d06bd50bcdc4011d57c",
       "version_major": 2,
       "version_minor": 0
      },
      "text/plain": [
       "VBox(children=(Figure(camera=PerspectiveCamera(fov=46.0, position=(0.0, 0.0, 2.0), quaternion=(0.0, 0.0, 0.0, …"
      ]
     },
     "metadata": {},
     "output_type": "display_data"
    },
    {
     "name": "stdout",
     "output_type": "stream",
     "text": [
      "Angle between 24 and 61 = 95.4 \n",
      "Angle between 24 and 62 = 70.23 \n",
      "Angle between 24 and 63 = 83.08 \n",
      "Angle between 61 and 62 = 87.23 \n",
      "Angle between 61 and 63 = 114.93 \n",
      "Angle between 62 and 63 = 150.84 \n",
      "Final Matches = []\n",
      "matched_branches_revised = []\n",
      "Aligned Skeleton Parts\n"
     ]
    },
    {
     "data": {
      "application/vnd.jupyter.widget-view+json": {
       "model_id": "cf2255846443424fb6cc0aaf069412fa",
       "version_major": 2,
       "version_minor": 0
      },
      "text/plain": [
       "VBox(children=(Figure(camera=PerspectiveCamera(fov=46.0, position=(0.0, 0.0, 2.0), quaternion=(0.0, 0.0, 0.0, …"
      ]
     },
     "metadata": {},
     "output_type": "display_data"
    },
    {
     "name": "stdout",
     "output_type": "stream",
     "text": [
      "Original graph\n"
     ]
    },
    {
     "data": {
      "image/png": "[encoded data removed]",
      "text/plain": [
       "<Figure size 432x288 with 1 Axes>"
      ]
     },
     "metadata": {},
     "output_type": "display_data"
    },
    {
     "name": "stdout",
     "output_type": "stream",
     "text": [
      "edges_to_delete = [[24 61]\n",
      " [61 62]\n",
      " [61 63]]\n",
      "edges_to_create = []\n",
      "Skipping endnode 62 because skeletal distance was 353.01117056824927 and threshold was 2500\n",
      "skip_nodes = [62]\n",
      "edges_to_delete = [[24 61]\n",
      " [61 62]\n",
      " [61 63]]\n",
      "edges_to_create = []\n",
      "Number of connected components = 4\n",
      "Comp 0 = {0, 1, 2, 3, 4, 5, 6, 7, 8, 9, 10, 11, 12, 13, 14, 16, 17, 18, 19, 20, 22, 23, 25, 26, 27, 28, 29, 30, 31, 32, 33, 34, 35, 36, 37, 38, 39, 40, 41, 42, 43, 44, 45, 46, 47, 48, 49, 50, 51, 52, 53, 54, 55, 56, 57, 58, 59, 60, 61, 64, 65, 68, 69, 70, 71, 72, 73, 74, 75, 76, 77, 78, 79, 80, 81, 84, 85, 88, 89, 90, 91, 92, 93, 94, 95, 96, 97, 98, 99}\n",
      "Comp 1 = {24, 21, 15}\n",
      "Comp 2 = {62}\n",
      "Comp 3 = {66, 67, 82, 83, 86, 87, 63}\n",
      "After get best cut: cut_edges = [array([24, 61]), array([61, 62]), array([61, 63])], added_edges = []\n",
      " Cut iteration 1\n",
      "No valid path so moving onto the next connection\n",
      "Total number of graphs at the end of the split = 4\n",
      "\n",
      "\n",
      " -------- Working on limb 5------------\n",
      "Starting combinations to process = [(9, 7)]\n",
      "\n",
      "\n",
      "---- working on disconnecting 9 and 7\n",
      "---- This disconnects S1_0 from S1_1  \n",
      " Cut iteration 0\n",
      "Shortest path = [9, 8, 10, 7]\n",
      "Short segments to combine = [ 8 10]\n",
      "\n",
      "\n",
      "-------- Removing Segments -------------\n",
      "curr_short_seg_revised = 8\n",
      "np.sum(touch_len>0) = 2\n",
      "Using average stitch point\n",
      "touching_endpoints = [[768352. 776266. 788752.]\n",
      " [769697. 776053. 788361.]]\n",
      "new_stitch_point = [769024.5 776159.5 788556.5]\n",
      "Angles for [ 2 10  9  1] are [10.23, 91.45, 23.5, 135.61]\n",
      "Branch that will absorb mesh of 8 is 2 \n",
      "curr_short_seg_revised = 10\n",
      "np.sum(touch_len>0) = 2\n",
      "Using average stitch point\n",
      "touching_endpoints = [[768125.  774953.  788730. ]\n",
      " [769024.5 776159.5 788556.5]]\n",
      "new_stitch_point = [768574.75 775556.25 788643.25]\n",
      "Angles for [6 7 9 1 2] are [67.12, 115.99, 78.32, 101.31, 110.14]\n",
      "Branch that will absorb mesh of 10 is 6 \n",
      "\n",
      "-------- Done Removing Segments -------------\n",
      "\n",
      "\n",
      "Found 1 high degree coordinates to cut\n",
      "Picking [768574.75 775556.25 788643.25] high degree coordinates to cut\n",
      "coordinate_branches = [1, 2, 6, 7, 9]\n",
      "1 = red\n",
      "2 = aqua\n",
      "6 = purple\n",
      "7 = green\n"
     ]
    },
    {
     "data": {
      "application/vnd.jupyter.widget-view+json": {
       "model_id": "a8bc041ff5b348a882730d421ac65c8b",
       "version_major": 2,
       "version_minor": 0
      },
      "text/plain": [
       "VBox(children=(Figure(camera=PerspectiveCamera(fov=46.0, position=(0.0, 0.0, 2.0), quaternion=(0.0, 0.0, 0.0, …"
      ]
     },
     "metadata": {},
     "output_type": "display_data"
    },
    {
     "name": "stdout",
     "output_type": "stream",
     "text": [
      "Angle between 1 and 2 = 143.67 \n",
      "Angle between 1 and 6 = 147.5 \n",
      "Angle between 1 and 7 = 47.37 \n",
      "Angle between 1 and 9 = 32.89 \n",
      "Angle between 2 and 6 = 170.27 \n",
      "Angle between 2 and 7 = 40.35 \n",
      "Angle between 2 and 9 = 5.54 \n",
      "Angle between 6 and 7 = 48.23 \n",
      "Angle between 6 and 9 = 12.66 \n",
      "Angle between 7 and 9 = 144.25 \n",
      "Final Matches = [[1, 9], [2, 9], [6, 9]]\n",
      "matched_branches_revised = [[2, 9]]\n",
      "Aligned Skeleton Parts\n"
     ]
    },
    {
     "data": {
      "application/vnd.jupyter.widget-view+json": {
       "model_id": "a736fe85652444be97568d43f68fc46d",
       "version_major": 2,
       "version_minor": 0
      },
      "text/plain": [
       "VBox(children=(Figure(camera=PerspectiveCamera(fov=46.0, position=(0.0, 0.0, 2.0), quaternion=(0.0, 0.0, 0.0, …"
      ]
     },
     "metadata": {},
     "output_type": "display_data"
    },
    {
     "data": {
      "application/vnd.jupyter.widget-view+json": {
       "model_id": "260cd22839024abc9c369a31d6b15c69",
       "version_major": 2,
       "version_minor": 0
      },
      "text/plain": [
       "VBox(children=(Figure(camera=PerspectiveCamera(fov=46.0, position=(0.0, 0.0, 2.0), quaternion=(0.0, 0.0, 0.0, …"
      ]
     },
     "metadata": {},
     "output_type": "display_data"
    },
    {
     "name": "stdout",
     "output_type": "stream",
     "text": [
      "Original graph\n"
     ]
    },
    {
     "data": {
      "image/png": "[encoded data removed]",
      "text/plain": [
       "<Figure size 432x288 with 1 Axes>"
      ]
     },
     "metadata": {},
     "output_type": "display_data"
    },
    {
     "name": "stdout",
     "output_type": "stream",
     "text": [
      "edges_to_delete = [array([1, 9]), array([6, 9]), array([7, 9])]\n",
      "edges_to_create = []\n",
      "Skipping endnode 9 because skeletal distance was 2491.2070282863892 and threshold was 2500\n",
      "Skipping endnode 7 because skeletal distance was 965.2563551875279 and threshold was 2500\n",
      "skip_nodes = [9, 7]\n",
      "edges_to_delete = [array([1, 9]), array([6, 9]), array([7, 9])]\n",
      "edges_to_create = []\n",
      "Number of connected components = 6\n",
      "Comp 0 = {9, 2}\n",
      "Comp 1 = {1}\n",
      "Comp 2 = {0, 3, 4, 5, 6}\n",
      "Comp 3 = {7}\n",
      "Comp 4 = {8}\n",
      "Comp 5 = {10}\n",
      "After get best cut: cut_edges = [array([1, 9]), array([6, 9]), array([7, 9])], added_edges = []\n",
      " Cut iteration 1\n",
      "No valid path so moving onto the next connection\n",
      "Total number of graphs at the end of the split = 6\n",
      "\n",
      "\n",
      " -------- Working on limb 10------------\n",
      "Starting combinations to process = [(2, 1)]\n",
      "\n",
      "\n",
      "---- working on disconnecting 2 and 1\n",
      "---- This disconnects S0_0 from S1_0  \n",
      " Cut iteration 0\n",
      "Shortest path = [2, 1]\n",
      "Short segments to combine = []\n",
      "Found 0 high degree coordinates to cut\n",
      "skip_nodes = []\n",
      "\n",
      "Attempting the doubling back check (symmetrical so don't need to check from both sides)\n"
     ]
    },
    {
     "data": {
      "application/vnd.jupyter.widget-view+json": {
       "model_id": "1121ed4284e140c3a494b4d1fad003d7",
       "version_major": 2,
       "version_minor": 0
      },
      "text/plain": [
       "HBox(children=(FloatProgress(value=0.0, max=1.0), HTML(value='')))"
      ]
     },
     "metadata": {},
     "output_type": "display_data"
    },
    {
     "name": "stdout",
     "output_type": "stream",
     "text": [
      "  Edge: [2 1]: curr_angle = 17.85\n",
      "\n",
      "Total time for doubling_back = 0.05461883544921875\n",
      "\n",
      "Attempting the width jump check (attempting from both sides)\n",
      "  Edge: [2 1]: jump = -137.3\n",
      "Total time for width = 0.03240156173706055\n",
      "Path starting at 2 had err_edges: []\n",
      "  Edge: [1 2]: jump = 137.3\n",
      "Total time for width = 0.029752016067504883\n",
      "Path starting at 1 had err_edges: []\n",
      "Did not find an error edge in either of the paths\n",
      "Number of connected components = 1\n",
      "Comp 0 = {0, 1, 2}\n",
      "After get best cut: cut_edges = None, added_edges = []\n",
      "***** there was no suggested cut for this limb even though it is still connnected***\n",
      "Total number of graphs at the end of the split = 1\n"
     ]
    }
   ],
   "source": [
    "limb_results = pru.multi_soma_split_suggestions(neuron_obj,plot_intermediates=True)"
   ]
  },
  {
   "cell_type": "code",
   "execution_count": 25,
   "metadata": {},
   "outputs": [
    {
     "name": "stdout",
     "output_type": "stream",
     "text": [
      "> \u001b[0;32m/meshAfterParty/proofreading_utils.py\u001b[0m(472)\u001b[0;36mmulti_soma_split_suggestions\u001b[0;34m()\u001b[0m\n",
      "\u001b[0;32m    470 \u001b[0;31m\u001b[0;34m\u001b[0m\u001b[0m\n",
      "\u001b[0m\u001b[0;32m    471 \u001b[0;31m                \u001b[0;32mif\u001b[0m \u001b[0;32mnot\u001b[0m \u001b[0mcut_edges\u001b[0m \u001b[0;32mis\u001b[0m \u001b[0;32mNone\u001b[0m\u001b[0;34m:\u001b[0m\u001b[0;34m\u001b[0m\u001b[0;34m\u001b[0m\u001b[0m\n",
      "\u001b[0m\u001b[0;32m--> 472 \u001b[0;31m                    \u001b[0mtotal_soma_paths_to_cut\u001b[0m \u001b[0;34m+=\u001b[0m \u001b[0mcut_edges\u001b[0m\u001b[0;34m\u001b[0m\u001b[0;34m\u001b[0m\u001b[0m\n",
      "\u001b[0m\u001b[0;32m    473 \u001b[0;31m                \u001b[0;32mif\u001b[0m \u001b[0;32mnot\u001b[0m \u001b[0madded_edges\u001b[0m \u001b[0;32mis\u001b[0m \u001b[0;32mNone\u001b[0m\u001b[0;34m:\u001b[0m\u001b[0;34m\u001b[0m\u001b[0;34m\u001b[0m\u001b[0m\n",
      "\u001b[0m\u001b[0;32m    474 \u001b[0;31m                    \u001b[0mtotal_soma_paths_to_add\u001b[0m \u001b[0;34m+=\u001b[0m \u001b[0madded_edges\u001b[0m\u001b[0;34m\u001b[0m\u001b[0;34m\u001b[0m\u001b[0m\n",
      "\u001b[0m\n",
      "ipdb> cut_edges\n",
      "array([[31, 56],\n",
      "       [33, 56],\n",
      "       [52, 56]])\n",
      "ipdb> list(cut_edges)\n",
      "*** Error in argument: '(cut_edges)'\n",
      "ipdb> cut_edges.to_list()\n",
      "*** AttributeError: 'numpy.ndarray' object has no attribute 'to_list'\n",
      "ipdb> list(cut_edges)\n",
      "*** Error in argument: '(cut_edges)'\n",
      "ipdb> c\n"
     ]
    }
   ],
   "source": [
    "debug"
   ]
  },
  {
   "cell_type": "code",
   "execution_count": 26,
   "metadata": {},
   "outputs": [
    {
     "data": {
      "text/plain": [
       "[array([1, 3]), array([4, 5])]"
      ]
     },
     "execution_count": 26,
     "metadata": {},
     "output_type": "execute_result"
    }
   ],
   "source": [
    "x = np.array([[1,3],[4,5]])\n",
    "list(x)"
   ]
  },
  {
   "cell_type": "code",
   "execution_count": null,
   "metadata": {},
   "outputs": [],
   "source": []
  }
 ],
 "metadata": {
  "kernelspec": {
   "display_name": "Python 3",
   "language": "python",
   "name": "python3"
  },
  "language_info": {
   "codemirror_mode": {
    "name": "ipython",
    "version": 3
   },
   "file_extension": ".py",
   "mimetype": "text/x-python",
   "name": "python",
   "nbconvert_exporter": "python",
   "pygments_lexer": "ipython3",
   "version": "3.6.9"
  }
 },
 "nbformat": 4,
 "nbformat_minor": 4
}
