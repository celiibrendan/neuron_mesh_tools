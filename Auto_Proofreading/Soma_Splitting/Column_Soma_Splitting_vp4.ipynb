{
 "cells": [
  {
   "cell_type": "code",
   "execution_count": null,
   "metadata": {},
   "outputs": [],
   "source": [
    "\"\"\"\n",
    "Look at Error Splitting For the 1/8 2/3 soma splitting\n",
    "tests\n",
    "\n",
    "\n",
    "\n",
    "\"\"\""
   ]
  },
  {
   "cell_type": "code",
   "execution_count": 1,
   "metadata": {},
   "outputs": [],
   "source": [
    "%load_ext autoreload\n",
    "%autoreload 2"
   ]
  },
  {
   "cell_type": "code",
   "execution_count": 2,
   "metadata": {},
   "outputs": [],
   "source": [
    "from os import sys\n",
    "sys.path.append(\"/meshAfterParty/\")"
   ]
  },
  {
   "cell_type": "code",
   "execution_count": 4,
   "metadata": {},
   "outputs": [
    {
     "name": "stderr",
     "output_type": "stream",
     "text": [
      "INFO - 2021-01-09 06:36:00,271 - settings - Setting database.host to at-database.ad.bcm.edu\n",
      "INFO - 2021-01-09 06:36:00,272 - settings - Setting database.user to celiib\n",
      "INFO - 2021-01-09 06:36:00,273 - settings - Setting database.password to newceliipass\n",
      "INFO - 2021-01-09 06:36:00,284 - settings - Setting stores to {'minnie65': {'protocol': 'file', 'location': '/mnt/dj-stor01/platinum/minnie65', 'stage': '/mnt/dj-stor01/platinum/minnie65'}, 'meshes': {'protocol': 'file', 'location': '/mnt/dj-stor01/platinum/minnie65/02/meshes', 'stage': '/mnt/dj-stor01/platinum/minnie65/02/meshes'}, 'decimated_meshes': {'protocol': 'file', 'location': '/mnt/dj-stor01/platinum/minnie65/02/decimated_meshes', 'stage': '/mnt/dj-stor01/platinum/minnie65/02/decimated_meshes'}, 'skeletons': {'protocol': 'file', 'location': '/mnt/dj-stor01/platinum/minnie65/02/skeletons'}}\n",
      "INFO - 2021-01-09 06:36:00,285 - settings - Setting enable_python_native_blobs to True\n",
      "INFO - 2021-01-09 06:36:00,299 - connection - Connected celiib@at-database.ad.bcm.edu:3306\n"
     ]
    },
    {
     "name": "stdout",
     "output_type": "stream",
     "text": [
      "Connecting celiib@at-database.ad.bcm.edu:3306\n"
     ]
    },
    {
     "name": "stderr",
     "output_type": "stream",
     "text": [
      "INFO - 2021-01-09 06:36:00,562 - settings - Setting enable_python_native_blobs to True\n"
     ]
    }
   ],
   "source": [
    "from importlib import reload\n",
    "\n",
    "import neuron_utils as nru\n",
    "\n",
    "import neuron\n",
    "\n",
    "import neuron_visualizations as nviz\n",
    "\n",
    "import time\n",
    "\n",
    "import datajoint_utils as du\n",
    "\n",
    "import numpy as np"
   ]
  },
  {
   "cell_type": "code",
   "execution_count": 5,
   "metadata": {},
   "outputs": [
    {
     "name": "stderr",
     "output_type": "stream",
     "text": [
      "INFO - 2021-01-09 06:36:01,264 - settings - Setting enable_python_native_blobs to True\n",
      "INFO - 2021-01-09 06:36:01,530 - settings - Setting enable_python_native_blobs to True\n"
     ]
    }
   ],
   "source": [
    "minnie,schema = du.configure_minnie_vm()"
   ]
  },
  {
   "cell_type": "markdown",
   "metadata": {},
   "source": [
    "# Picking the Neuron"
   ]
  },
  {
   "cell_type": "code",
   "execution_count": 6,
   "metadata": {},
   "outputs": [
    {
     "data": {
      "text/html": [
       "\n",
       "        \n",
       "        <style type=\"text/css\">\n",
       "            .Relation{\n",
       "                border-collapse:collapse;\n",
       "            }\n",
       "            .Relation th{\n",
       "                background: #A0A0A0; color: #ffffff; padding:4px; border:#f0e0e0 1px solid;\n",
       "                font-weight: normal; font-family: monospace; font-size: 100%;\n",
       "            }\n",
       "            .Relation td{\n",
       "                padding:4px; border:#f0e0e0 1px solid; font-size:100%;\n",
       "            }\n",
       "            .Relation tr:nth-child(odd){\n",
       "                background: #ffffff;\n",
       "            }\n",
       "            .Relation tr:nth-child(even){\n",
       "                background: #f3f1ff;\n",
       "            }\n",
       "            /* Tooltip container */\n",
       "            .djtooltip {\n",
       "            }\n",
       "            /* Tooltip text */\n",
       "            .djtooltip .djtooltiptext {\n",
       "                visibility: hidden;\n",
       "                width: 120px;\n",
       "                background-color: black;\n",
       "                color: #fff;\n",
       "                text-align: center;\n",
       "                padding: 5px 0;\n",
       "                border-radius: 6px;\n",
       "                /* Position the tooltip text - see examples below! */\n",
       "                position: absolute;\n",
       "                z-index: 1;\n",
       "            }\n",
       "            #primary {\n",
       "                font-weight: bold;\n",
       "                color: black;\n",
       "            }\n",
       "\n",
       "            #nonprimary {\n",
       "                font-weight: normal;\n",
       "                color: white;\n",
       "            }\n",
       "\n",
       "            /* Show the tooltip text when you mouse over the tooltip container */\n",
       "            .djtooltip:hover .djtooltiptext {\n",
       "                visibility: visible;\n",
       "            }\n",
       "        </style>\n",
       "        \n",
       "        <b></b>\n",
       "            <div style=\"max-height:1000px;max-width:1500px;overflow:auto;\">\n",
       "            <table border=\"1\" class=\"Relation\">\n",
       "                <thead> <tr style=\"text-align: right;\"> <th> <div class=\"djtooltip\">\n",
       "                                <p id=\"primary\">segment_id</p>\n",
       "                                <span class=\"djtooltiptext\">segment id unique within each Segmentation</span>\n",
       "                            </div></th><th><div class=\"djtooltip\">\n",
       "                                <p id=\"primary\">decimation_version</p>\n",
       "                                <span class=\"djtooltiptext\"></span>\n",
       "                            </div></th><th><div class=\"djtooltip\">\n",
       "                                <p id=\"primary\">decimation_ratio</p>\n",
       "                                <span class=\"djtooltiptext\">ratio of remaining mesh vertices/faces (which ones depends on what metric the decimation technique uses)</span>\n",
       "                            </div></th><th><div class=\"djtooltip\">\n",
       "                                <p id=\"primary\">ver</p>\n",
       "                                <span class=\"djtooltiptext\">the version number of the materializaiton</span>\n",
       "                            </div></th><th><div class=\"djtooltip\">\n",
       "                                <p id=\"nonprimary\">decomposition</p>\n",
       "                                <span class=\"djtooltiptext\"></span>\n",
       "                            </div></th><th><div class=\"djtooltip\">\n",
       "                                <p id=\"nonprimary\">n_vertices</p>\n",
       "                                <span class=\"djtooltiptext\">number of vertices</span>\n",
       "                            </div></th><th><div class=\"djtooltip\">\n",
       "                                <p id=\"nonprimary\">n_faces</p>\n",
       "                                <span class=\"djtooltiptext\">number of faces</span>\n",
       "                            </div></th><th><div class=\"djtooltip\">\n",
       "                                <p id=\"nonprimary\">n_error_limbs</p>\n",
       "                                <span class=\"djtooltiptext\">the number of limbs that are touching multiple somas or 1 soma in multiple places</span>\n",
       "                            </div></th><th><div class=\"djtooltip\">\n",
       "                                <p id=\"nonprimary\">n_same_soma_multi_touching_limbs</p>\n",
       "                                <span class=\"djtooltiptext\">number of limbs that touch the same soma multiple times</span>\n",
       "                            </div></th><th><div class=\"djtooltip\">\n",
       "                                <p id=\"nonprimary\">n_multi_soma_touching_limbs</p>\n",
       "                                <span class=\"djtooltiptext\">number of limbs that touch multiple somas</span>\n",
       "                            </div></th><th><div class=\"djtooltip\">\n",
       "                                <p id=\"nonprimary\">n_somas</p>\n",
       "                                <span class=\"djtooltiptext\">number of soma meshes detected</span>\n",
       "                            </div></th><th><div class=\"djtooltip\">\n",
       "                                <p id=\"nonprimary\">n_limbs</p>\n",
       "                                <span class=\"djtooltiptext\"></span>\n",
       "                            </div></th><th><div class=\"djtooltip\">\n",
       "                                <p id=\"nonprimary\">n_branches</p>\n",
       "                                <span class=\"djtooltiptext\"></span>\n",
       "                            </div></th><th><div class=\"djtooltip\">\n",
       "                                <p id=\"nonprimary\">max_limb_n_branches</p>\n",
       "                                <span class=\"djtooltiptext\"></span>\n",
       "                            </div></th><th><div class=\"djtooltip\">\n",
       "                                <p id=\"nonprimary\">skeletal_length</p>\n",
       "                                <span class=\"djtooltiptext\"></span>\n",
       "                            </div></th><th><div class=\"djtooltip\">\n",
       "                                <p id=\"nonprimary\">max_limb_skeletal_length</p>\n",
       "                                <span class=\"djtooltiptext\"></span>\n",
       "                            </div></th><th><div class=\"djtooltip\">\n",
       "                                <p id=\"nonprimary\">median_branch_length</p>\n",
       "                                <span class=\"djtooltiptext\">gives information on average skeletal length to next branch point</span>\n",
       "                            </div></th><th><div class=\"djtooltip\">\n",
       "                                <p id=\"nonprimary\">width_median</p>\n",
       "                                <span class=\"djtooltiptext\">median width from mesh center without spines removed</span>\n",
       "                            </div></th><th><div class=\"djtooltip\">\n",
       "                                <p id=\"nonprimary\">width_no_spine_median</p>\n",
       "                                <span class=\"djtooltiptext\">median width from mesh center with spines removed</span>\n",
       "                            </div></th><th><div class=\"djtooltip\">\n",
       "                                <p id=\"nonprimary\">width_90_perc</p>\n",
       "                                <span class=\"djtooltiptext\">90th percentile for width without spines removed</span>\n",
       "                            </div></th><th><div class=\"djtooltip\">\n",
       "                                <p id=\"nonprimary\">width_no_spine_90_perc</p>\n",
       "                                <span class=\"djtooltiptext\">90th percentile for width with spines removed</span>\n",
       "                            </div></th><th><div class=\"djtooltip\">\n",
       "                                <p id=\"nonprimary\">n_spines</p>\n",
       "                                <span class=\"djtooltiptext\"></span>\n",
       "                            </div></th><th><div class=\"djtooltip\">\n",
       "                                <p id=\"nonprimary\">spine_density</p>\n",
       "                                <span class=\"djtooltiptext\">n_spines/ skeletal_length</span>\n",
       "                            </div></th><th><div class=\"djtooltip\">\n",
       "                                <p id=\"nonprimary\">spines_per_branch</p>\n",
       "                                <span class=\"djtooltiptext\"></span>\n",
       "                            </div></th><th><div class=\"djtooltip\">\n",
       "                                <p id=\"nonprimary\">skeletal_length_eligible</p>\n",
       "                                <span class=\"djtooltiptext\">the skeletal length for all branches searched for spines</span>\n",
       "                            </div></th><th><div class=\"djtooltip\">\n",
       "                                <p id=\"nonprimary\">n_spine_eligible_branches</p>\n",
       "                                <span class=\"djtooltiptext\">the number of branches that were checked for spines because passed width threshold</span>\n",
       "                            </div></th><th><div class=\"djtooltip\">\n",
       "                                <p id=\"nonprimary\">spine_density_eligible</p>\n",
       "                                <span class=\"djtooltiptext\">n_spines/skeletal_length_eligible</span>\n",
       "                            </div></th><th><div class=\"djtooltip\">\n",
       "                                <p id=\"nonprimary\">spines_per_branch_eligible</p>\n",
       "                                <span class=\"djtooltiptext\">n_spines/n_spine_eligible_branches</span>\n",
       "                            </div></th><th><div class=\"djtooltip\">\n",
       "                                <p id=\"nonprimary\">total_spine_volume</p>\n",
       "                                <span class=\"djtooltiptext\">the sum of all spine volume</span>\n",
       "                            </div></th><th><div class=\"djtooltip\">\n",
       "                                <p id=\"nonprimary\">spine_volume_median</p>\n",
       "                                <span class=\"djtooltiptext\">median of the spine volume for those spines with able to calculate volume</span>\n",
       "                            </div></th><th><div class=\"djtooltip\">\n",
       "                                <p id=\"nonprimary\">spine_volume_density</p>\n",
       "                                <span class=\"djtooltiptext\">total_spine_volume/skeletal_length</span>\n",
       "                            </div></th><th><div class=\"djtooltip\">\n",
       "                                <p id=\"nonprimary\">spine_volume_density_eligible</p>\n",
       "                                <span class=\"djtooltiptext\">total_spine_volume/skeletal_length_eligible</span>\n",
       "                            </div></th><th><div class=\"djtooltip\">\n",
       "                                <p id=\"nonprimary\">spine_volume_per_branch_eligible</p>\n",
       "                                <span class=\"djtooltiptext\">total_spine_volume/n_spine_eligible_branches</span>\n",
       "                            </div></th><th><div class=\"djtooltip\">\n",
       "                                <p id=\"nonprimary\">run_time</p>\n",
       "                                <span class=\"djtooltiptext\">the amount of time to run (seconds)</span>\n",
       "                            </div> </th> </tr> </thead>\n",
       "                <tbody> <tr> <td>864691135012398582</td>\n",
       "<td>0</td>\n",
       "<td>0.25</td>\n",
       "<td>29.00</td>\n",
       "<td>=BLOB=</td>\n",
       "<td>1376990</td>\n",
       "<td>2794781</td>\n",
       "<td>4</td>\n",
       "<td>1</td>\n",
       "<td>4</td>\n",
       "<td>2</td>\n",
       "<td>8</td>\n",
       "<td>330</td>\n",
       "<td>131</td>\n",
       "<td>13929332.12258168</td>\n",
       "<td>4744489.087608502</td>\n",
       "<td>25208.79</td>\n",
       "<td>181.248</td>\n",
       "<td>177.914</td>\n",
       "<td>503.855</td>\n",
       "<td>470.905</td>\n",
       "<td>5197</td>\n",
       "<td>0.00037309757239364195</td>\n",
       "<td>15.748484848484848</td>\n",
       "<td>8746791.671</td>\n",
       "<td>174</td>\n",
       "<td>0.0005941607157777246</td>\n",
       "<td>29.868</td>\n",
       "<td>251421367265.7805</td>\n",
       "<td>24448738.045176186</td>\n",
       "<td>18049.7790599871</td>\n",
       "<td>28744.410147479375</td>\n",
       "<td>1444950386.5849454</td>\n",
       "<td>5996.9728</td></tr><tr><td>864691135012571126</td>\n",
       "<td>0</td>\n",
       "<td>0.25</td>\n",
       "<td>29.00</td>\n",
       "<td>=BLOB=</td>\n",
       "<td>1405952</td>\n",
       "<td>2834699</td>\n",
       "<td>4</td>\n",
       "<td>4</td>\n",
       "<td>0</td>\n",
       "<td>1</td>\n",
       "<td>8</td>\n",
       "<td>434</td>\n",
       "<td>190</td>\n",
       "<td>14952565.529701162</td>\n",
       "<td>5950582.376110614</td>\n",
       "<td>22558.465</td>\n",
       "<td>138.374</td>\n",
       "<td>138.374</td>\n",
       "<td>462.864</td>\n",
       "<td>403.433</td>\n",
       "<td>5410</td>\n",
       "<td>0.000361810820307311</td>\n",
       "<td>12.465437788018432</td>\n",
       "<td>8599310.865</td>\n",
       "<td>213</td>\n",
       "<td>0.0006291201800855004</td>\n",
       "<td>25.399</td>\n",
       "<td>343080427437.90247</td>\n",
       "<td>35381025.859495796</td>\n",
       "<td>22944.586115099886</td>\n",
       "<td>39896.26992486943</td>\n",
       "<td>1610706232.1028285</td>\n",
       "<td>18348.506</td></tr><tr><td>864691135337796326</td>\n",
       "<td>0</td>\n",
       "<td>0.25</td>\n",
       "<td>29.00</td>\n",
       "<td>=BLOB=</td>\n",
       "<td>564914</td>\n",
       "<td>1164053</td>\n",
       "<td>4</td>\n",
       "<td>3</td>\n",
       "<td>2</td>\n",
       "<td>3</td>\n",
       "<td>21</td>\n",
       "<td>251</td>\n",
       "<td>62</td>\n",
       "<td>6049123.641171044</td>\n",
       "<td>1248750.7203810683</td>\n",
       "<td>14560.197</td>\n",
       "<td>100.047</td>\n",
       "<td>100.047</td>\n",
       "<td>437.872</td>\n",
       "<td>414.532</td>\n",
       "<td>1212</td>\n",
       "<td>0.0002003596011413928</td>\n",
       "<td>4.828685258964144</td>\n",
       "<td>3135492.196</td>\n",
       "<td>102</td>\n",
       "<td>0.0003865421835672781</td>\n",
       "<td>11.882</td>\n",
       "<td>49955028484.44275</td>\n",
       "<td>21604523.06666692</td>\n",
       "<td>8258.225727846424</td>\n",
       "<td>15932.116988896103</td>\n",
       "<td>489755181.22002697</td>\n",
       "<td>5850.0526</td></tr><tr><td>864691135345274271</td>\n",
       "<td>0</td>\n",
       "<td>0.25</td>\n",
       "<td>29.00</td>\n",
       "<td>=BLOB=</td>\n",
       "<td>2309163</td>\n",
       "<td>4637079</td>\n",
       "<td>4</td>\n",
       "<td>4</td>\n",
       "<td>1</td>\n",
       "<td>3</td>\n",
       "<td>23</td>\n",
       "<td>576</td>\n",
       "<td>236</td>\n",
       "<td>20113666.76809177</td>\n",
       "<td>7920953.984248143</td>\n",
       "<td>18948.512</td>\n",
       "<td>303.282</td>\n",
       "<td>272.462</td>\n",
       "<td>547.291</td>\n",
       "<td>534.973</td>\n",
       "<td>7255</td>\n",
       "<td>0.000360700019725359</td>\n",
       "<td>12.59548611111111</td>\n",
       "<td>15854130.617</td>\n",
       "<td>379</td>\n",
       "<td>0.00045760945051257743</td>\n",
       "<td>19.142</td>\n",
       "<td>420948365210.4778</td>\n",
       "<td>25465665.476676144</td>\n",
       "<td>20928.47465675768</td>\n",
       "<td>26551.3370224858</td>\n",
       "<td>1110681702.402316</td>\n",
       "<td>11274.94</td></tr><tr><td>864691135373436616</td>\n",
       "<td>0</td>\n",
       "<td>0.25</td>\n",
       "<td>29.00</td>\n",
       "<td>=BLOB=</td>\n",
       "<td>1785657</td>\n",
       "<td>3619863</td>\n",
       "<td>5</td>\n",
       "<td>5</td>\n",
       "<td>1</td>\n",
       "<td>2</td>\n",
       "<td>20</td>\n",
       "<td>494</td>\n",
       "<td>129</td>\n",
       "<td>18445793.933226306</td>\n",
       "<td>4844793.838331169</td>\n",
       "<td>25974.596</td>\n",
       "<td>264.538</td>\n",
       "<td>243.436</td>\n",
       "<td>470.631</td>\n",
       "<td>443.913</td>\n",
       "<td>6676</td>\n",
       "<td>0.0003619253269426673</td>\n",
       "<td>13.51417004048583</td>\n",
       "<td>11972734.25</td>\n",
       "<td>302</td>\n",
       "<td>0.0005576002824918627</td>\n",
       "<td>22.106</td>\n",
       "<td>297687347090.0846</td>\n",
       "<td>19022402.5988334</td>\n",
       "<td>16138.494670802</td>\n",
       "<td>24863.77304249316</td>\n",
       "<td>985719692.3512735</td>\n",
       "<td>8023.5206</td></tr><tr><td>864691135609477127</td>\n",
       "<td>0</td>\n",
       "<td>0.25</td>\n",
       "<td>29.00</td>\n",
       "<td>=BLOB=</td>\n",
       "<td>1464777</td>\n",
       "<td>2991787</td>\n",
       "<td>5</td>\n",
       "<td>4</td>\n",
       "<td>2</td>\n",
       "<td>4</td>\n",
       "<td>20</td>\n",
       "<td>308</td>\n",
       "<td>162</td>\n",
       "<td>11751915.10167576</td>\n",
       "<td>6826308.578770805</td>\n",
       "<td>23111.142</td>\n",
       "<td>323.323</td>\n",
       "<td>272.881</td>\n",
       "<td>562.321</td>\n",
       "<td>501.13</td>\n",
       "<td>6281</td>\n",
       "<td>0.0005344660802650254</td>\n",
       "<td>20.392857142857142</td>\n",
       "<td>9236339.157</td>\n",
       "<td>212</td>\n",
       "<td>0.0006800313298629556</td>\n",
       "<td>29.627</td>\n",
       "<td>310692180364.76105</td>\n",
       "<td>26010135.328339256</td>\n",
       "<td>26437.578699020556</td>\n",
       "<td>33638.022065191806</td>\n",
       "<td>1465529152.6639671</td>\n",
       "<td>7043.3789</td></tr><tr><td>864691135683949751</td>\n",
       "<td>0</td>\n",
       "<td>0.25</td>\n",
       "<td>29.00</td>\n",
       "<td>=BLOB=</td>\n",
       "<td>849129</td>\n",
       "<td>1726173</td>\n",
       "<td>4</td>\n",
       "<td>4</td>\n",
       "<td>0</td>\n",
       "<td>1</td>\n",
       "<td>9</td>\n",
       "<td>257</td>\n",
       "<td>119</td>\n",
       "<td>8963818.95399291</td>\n",
       "<td>4100767.890448109</td>\n",
       "<td>20568.989</td>\n",
       "<td>122.305</td>\n",
       "<td>122.305</td>\n",
       "<td>493.651</td>\n",
       "<td>451.345</td>\n",
       "<td>3541</td>\n",
       "<td>0.0003950325210910993</td>\n",
       "<td>13.778210116731518</td>\n",
       "<td>4863336.276</td>\n",
       "<td>123</td>\n",
       "<td>0.0007281009987885115</td>\n",
       "<td>28.789</td>\n",
       "<td>156088357931.4395</td>\n",
       "<td>27874236.768163044</td>\n",
       "<td>17413.153783289024</td>\n",
       "<td>32094.913671036375</td>\n",
       "<td>1269011040.0930042</td>\n",
       "<td>3345.0896</td></tr><tr><td>864691136065225112</td>\n",
       "<td>0</td>\n",
       "<td>0.25</td>\n",
       "<td>29.00</td>\n",
       "<td>=BLOB=</td>\n",
       "<td>1332297</td>\n",
       "<td>2675956</td>\n",
       "<td>4</td>\n",
       "<td>4</td>\n",
       "<td>0</td>\n",
       "<td>1</td>\n",
       "<td>9</td>\n",
       "<td>379</td>\n",
       "<td>155</td>\n",
       "<td>16639163.906445242</td>\n",
       "<td>6880298.290247703</td>\n",
       "<td>31158.043</td>\n",
       "<td>75.288</td>\n",
       "<td>75.288</td>\n",
       "<td>492.961</td>\n",
       "<td>410.282</td>\n",
       "<td>4354</td>\n",
       "<td>0.0002616718018093122</td>\n",
       "<td>11.488126649076516</td>\n",
       "<td>7214675.154</td>\n",
       "<td>143</td>\n",
       "<td>0.0006034921749160157</td>\n",
       "<td>30.448</td>\n",
       "<td>188874233075.85187</td>\n",
       "<td>23168220.052829742</td>\n",
       "<td>11351.185320236596</td>\n",
       "<td>26179.173565581143</td>\n",
       "<td>1320798832.6982648</td>\n",
       "<td>5065.7306</td> </tr> </tbody>\n",
       "            </table>\n",
       "            \n",
       "            <p>Total: 8</p></div>\n",
       "            "
      ],
      "text/plain": [
       "*segment_id    *decimation_ve *decimation_ra *ver      decomposit n_vertices     n_faces     n_error_limbs  n_same_soma_mu n_multi_soma_t n_somas     n_limbs     n_branches     max_limb_n_bra skeletal_lengt max_limb_skele median_branch_ width_median   width_no_spine width_90_perc  width_no_spine n_spines     spine_density  spines_per_bra skeletal_lengt n_spine_eligib spine_density_ spines_per_bra total_spine_vo spine_volume_m spine_volume_d spine_volume_d spine_volume_p run_time     \n",
       "+------------+ +------------+ +------------+ +-------+ +--------+ +------------+ +---------+ +------------+ +------------+ +------------+ +---------+ +---------+ +------------+ +------------+ +------------+ +------------+ +------------+ +------------+ +------------+ +------------+ +------------+ +----------+ +------------+ +------------+ +------------+ +------------+ +------------+ +------------+ +------------+ +------------+ +------------+ +------------+ +------------+ +-----------+\n",
       "86469113501239 0              0.25           29.00     =BLOB=     1376990        2794781     4              1              4              2           8           330            131            13929332.12258 4744489.087608 25208.79       181.248        177.914        503.855        470.905        5197         0.000373097572 15.74848484848 8746791.671    174            0.000594160715 29.868         251421367265.7 24448738.04517 18049.77905998 28744.41014747 1444950386.584 5996.9728    \n",
       "86469113501257 0              0.25           29.00     =BLOB=     1405952        2834699     4              4              0              1           8           434            190            14952565.52970 5950582.376110 22558.465      138.374        138.374        462.864        403.433        5410         0.000361810820 12.46543778801 8599310.865    213            0.000629120180 25.399         343080427437.9 35381025.85949 22944.58611509 39896.26992486 1610706232.102 18348.506    \n",
       "86469113533779 0              0.25           29.00     =BLOB=     564914         1164053     4              3              2              3           21          251            62             6049123.641171 1248750.720381 14560.197      100.047        100.047        437.872        414.532        1212         0.000200359601 4.828685258964 3135492.196    102            0.000386542183 11.882         49955028484.44 21604523.06666 8258.225727846 15932.11698889 489755181.2200 5850.0526    \n",
       "86469113534527 0              0.25           29.00     =BLOB=     2309163        4637079     4              4              1              3           23          576            236            20113666.76809 7920953.984248 18948.512      303.282        272.462        547.291        534.973        7255         0.000360700019 12.59548611111 15854130.617   379            0.000457609450 19.142         420948365210.4 25465665.47667 20928.47465675 26551.33702248 1110681702.402 11274.94     \n",
       "86469113537343 0              0.25           29.00     =BLOB=     1785657        3619863     5              5              1              2           20          494            129            18445793.93322 4844793.838331 25974.596      264.538        243.436        470.631        443.913        6676         0.000361925326 13.51417004048 11972734.25    302            0.000557600282 22.106         297687347090.0 19022402.59883 16138.49467080 24863.77304249 985719692.3512 8023.5206    \n",
       "86469113560947 0              0.25           29.00     =BLOB=     1464777        2991787     5              4              2              4           20          308            162            11751915.10167 6826308.578770 23111.142      323.323        272.881        562.321        501.13         6281         0.000534466080 20.39285714285 9236339.157    212            0.000680031329 29.627         310692180364.7 26010135.32833 26437.57869902 33638.02206519 1465529152.663 7043.3789    \n",
       "86469113568394 0              0.25           29.00     =BLOB=     849129         1726173     4              4              0              1           9           257            119            8963818.953992 4100767.890448 20568.989      122.305        122.305        493.651        451.345        3541         0.000395032521 13.77821011673 4863336.276    123            0.000728100998 28.789         156088357931.4 27874236.76816 17413.15378328 32094.91367103 1269011040.093 3345.0896    \n",
       "86469113606522 0              0.25           29.00     =BLOB=     1332297        2675956     4              4              0              1           9           379            155            16639163.90644 6880298.290247 31158.043      75.288         75.288         492.961        410.282        4354         0.000261671801 11.48812664907 7214675.154    143            0.000603492174 30.448         188874233075.8 23168220.05282 11351.18532023 26179.17356558 1320798832.698 5065.7306    \n",
       " (Total: 8)"
      ]
     },
     "execution_count": 6,
     "metadata": {},
     "output_type": "execute_result"
    }
   ],
   "source": [
    "minnie.Decomposition() & \"n_error_limbs>3\""
   ]
  },
  {
   "cell_type": "code",
   "execution_count": 69,
   "metadata": {},
   "outputs": [],
   "source": [
    "segment_id = 864691135012571126 #worked\n",
    "segment_id = 864691135012398582 #worked\n",
    "segment_id = 864691135683949751 #worked\n",
    "segment_id = 864691135012398582 "
   ]
  },
  {
   "cell_type": "code",
   "execution_count": 70,
   "metadata": {},
   "outputs": [
    {
     "name": "stdout",
     "output_type": "stream",
     "text": [
      "Decompressing Neuron in minimal output mode...please wait\n"
     ]
    }
   ],
   "source": [
    "neuron_obj = (minnie.Decomposition & dict(segment_id=segment_id)).fetch1(\"decomposition\")"
   ]
  },
  {
   "cell_type": "code",
   "execution_count": null,
   "metadata": {},
   "outputs": [],
   "source": [
    "import neuron_visualizations as nviz\n",
    "nviz.visualize_neuron(neuron_obj,\n",
    "                      visualize_type=[\"mesh\"],\n",
    "                      limb_branch_dict=dict(),\n",
    "                     mesh_whole_neuron=True)"
   ]
  },
  {
   "cell_type": "markdown",
   "metadata": {},
   "source": [
    "# Visualizing the Error Branches"
   ]
  },
  {
   "cell_type": "code",
   "execution_count": 71,
   "metadata": {},
   "outputs": [
    {
     "data": {
      "image/png": "[encoded data removed]",
      "text/plain": [
       "<Figure size 432x288 with 1 Axes>"
      ]
     },
     "metadata": {},
     "output_type": "display_data"
    }
   ],
   "source": [
    "nviz.plot_soma_limb_concept_network(neuron_obj)"
   ]
  },
  {
   "cell_type": "markdown",
   "metadata": {},
   "source": [
    "# Running and Visualizing Splitting Algorithm"
   ]
  },
  {
   "cell_type": "code",
   "execution_count": 73,
   "metadata": {},
   "outputs": [
    {
     "name": "stdout",
     "output_type": "stream",
     "text": [
      "hii\n"
     ]
    }
   ],
   "source": [
    "print(\"hii\")"
   ]
  },
  {
   "cell_type": "code",
   "execution_count": 74,
   "metadata": {
    "scrolled": true
   },
   "outputs": [
    {
     "name": "stdout",
     "output_type": "stream",
     "text": [
      "multi_soma_limbs = [0 1 2 3]\n",
      "multi_touch_limbs = [0]\n",
      "\n",
      "\n",
      " -------- Working on limb 0------------\n",
      "Starting combinations to process = [[ 86  88]\n",
      " [ 86  95]\n",
      " [ 86  99]\n",
      " [ 86 105]\n",
      " [ 86 113]\n",
      " [ 86 119]\n",
      " [ 86 121]\n",
      " [ 88  95]\n",
      " [ 88  99]\n",
      " [ 88 105]\n",
      " [ 88 113]\n",
      " [ 88 119]\n",
      " [ 88 121]\n",
      " [ 95  99]\n",
      " [ 95 105]\n",
      " [ 95 113]\n",
      " [ 95 119]\n",
      " [ 95 121]\n",
      " [ 99 105]\n",
      " [ 99 113]\n",
      " [ 99 119]\n",
      " [ 99 121]\n",
      " [105 113]\n",
      " [105 119]\n",
      " [105 121]\n",
      " [113 119]\n",
      " [113 121]\n",
      " [119 121]]\n",
      "\n",
      "\n",
      "---- working on disconnecting 86 and 88\n",
      "---- This disconnects S0_0 from S1_2  \n",
      " Cut iteration 0\n",
      "Total number of graphs at the end of the split BEFORE DIRECTIONAL = 1\n",
      "Total number of graphs at the end of the split AFTER DIRECTIONAL = 1\n",
      "Shortest path = [86, 76, 77, 79, 87, 88]\n",
      "\n",
      " --------- START OF GET BEST EDGE --------- \n",
      "curr_limb.deleted_edges=[]\n",
      "consider_path_neighbors_for_removal is set so segments_to_consider = [ 3 57 75 76 77 79 82 87 89]\n",
      "Short segments to combine = [77 87]\n",
      "\n",
      "\n",
      "-------- Removing Segments -------------\n",
      "curr_short_seg_revised = 77\n",
      "np.sum(touch_len>0) = 2\n",
      "Using average stitch point\n",
      "touching_endpoints = [[1012280.  704109.  869922.]\n",
      " [1012850.  704444.  871088.]]\n",
      "new_stitch_point = [1012565.   704276.5  870505. ]\n",
      "Angles for [76  3 57 79] are [62.59, 88.88, 59.51, 53.36]\n",
      "Branch that will absorb mesh of 77 is 79 \n",
      "curr_short_seg_revised = 87\n",
      "np.sum(touch_len>0) = 2\n",
      "Using average stitch point\n",
      "touching_endpoints = [[1018730.  696795.  875941.]\n",
      " [1018870.  697813.  876083.]]\n",
      "new_stitch_point = [1018800.  697304.  876012.]\n",
      "Angles for [75 88 79 89] are [100.5, 60.79, 64.23, 41.73]\n",
      "Branch that will absorb mesh of 87 is 89 \n",
      "curr_limb.deleted_edges 2=[]\n",
      "curr_limb.deleted_edges 3=[]\n",
      "Revised cut path = [86 76 79 88]\n",
      "\n",
      "-------- Done Removing Segments -------------\n",
      "\n",
      "\n",
      "Found 2 high degree coordinates to cut\n",
      "Picking [1012565.   704276.5  870505. ] high degree coordinates to cut\n",
      "curr_limb.deleted_edges 4=[]\n",
      "***inside resolve crossover!!!!****\n",
      "coordinate_branches = [3, 57, 76, 79]\n",
      "3 = red\n",
      "57 = aqua\n",
      "76 = purple\n",
      "79 = green\n"
     ]
    },
    {
     "data": {
      "application/vnd.jupyter.widget-view+json": {
       "model_id": "51f498b0d7da454b9a4c34ddf591c488",
       "version_major": 2,
       "version_minor": 0
      },
      "text/plain": [
       "VBox(children=(Figure(camera=PerspectiveCamera(fov=46.0, position=(0.0, 0.0, 2.0), quaternion=(0.0, 0.0, 0.0, …"
      ]
     },
     "metadata": {},
     "output_type": "display_data"
    },
    {
     "name": "stdout",
     "output_type": "stream",
     "text": [
      "Angle between 3 and 57 = 144.22 \n",
      "Angle between 3 and 76 = 35.88 \n",
      "Angle between 3 and 79 = 93.76 \n",
      "Angle between 57 and 76 = 18.79 \n",
      "Angle between 57 and 79 = 129.05 \n",
      "Angle between 76 and 79 = 60.36 \n",
      "Final Matches = [[57, 76]]\n",
      "matched_branches_revised = [[57, 76]]\n",
      "Aligned Skeleton Parts\n"
     ]
    },
    {
     "data": {
      "application/vnd.jupyter.widget-view+json": {
       "model_id": "f1da378b906247b08b357c9098130491",
       "version_major": 2,
       "version_minor": 0
      },
      "text/plain": [
       "VBox(children=(Figure(camera=PerspectiveCamera(fov=46.0, position=(0.0, 0.0, 2.0), quaternion=(0.0, 0.0, 0.0, …"
      ]
     },
     "metadata": {},
     "output_type": "display_data"
    },
    {
     "data": {
      "application/vnd.jupyter.widget-view+json": {
       "model_id": "903f190812684d849abe0bccb4973082",
       "version_major": 2,
       "version_minor": 0
      },
      "text/plain": [
       "VBox(children=(Figure(camera=PerspectiveCamera(fov=46.0, position=(0.0, 0.0, 2.0), quaternion=(0.0, 0.0, 0.0, …"
      ]
     },
     "metadata": {},
     "output_type": "display_data"
    },
    {
     "name": "stdout",
     "output_type": "stream",
     "text": [
      "Original graph\n"
     ]
    },
    {
     "data": {
      "image/png": "[encoded data removed]",
      "text/plain": [
       "<Figure size 432x288 with 1 Axes>"
      ]
     },
     "metadata": {},
     "output_type": "display_data"
    },
    {
     "name": "stdout",
     "output_type": "stream",
     "text": [
      "match_branches = [[57, 76]]\n",
      "edges_to_delete (resolve crossover) = [[3, 57], [3, 76], [3, 79], [57, 79], [76, 79]]\n",
      "edges_to_create (resolve crossover) = [[57, 76]]\n",
      "curr_limb.deleted_edges 5 =[]\n",
      "skip_nodes = []\n",
      "edges_to_delete (cut_limb_network) = [[3, 57], [3, 76], [3, 79], [57, 79], [76, 79]]\n",
      "edges_to_create = [[57, 76]]\n",
      "Number of connected components = 4\n",
      "Comp 0 = {0, 1, 2, 4, 5, 6, 7, 8, 9, 10, 11, 12, 13, 14, 15, 16, 17, 18, 19, 20, 21, 22, 23, 24, 25, 26, 27, 28, 29, 30, 31, 32, 33, 34, 35, 36, 37, 38, 39, 40, 41, 42, 43, 44, 45, 46, 47, 48, 49, 50, 51, 52, 53, 54, 55, 56, 57, 58, 59, 60, 61, 62, 63, 64, 65, 66, 67, 68, 69, 70, 71, 72, 73, 74, 75, 76, 78, 79, 80, 81, 82, 83, 84, 85, 86, 88, 89, 90, 91, 92, 93, 94, 95, 96, 97, 98, 99, 100, 101, 102, 103, 104, 105, 106, 107, 108, 109, 110, 111, 112, 113, 114, 115, 116, 117, 118, 119, 120, 121, 122, 123, 124, 125, 126, 127, 128, 129, 130}\n",
      "Comp 1 = {3}\n",
      "Comp 2 = {77}\n",
      "Comp 3 = {87}\n",
      "curr_limb_copy.deleted_edges = [[3, 57], [3, 76], [3, 79], [57, 79], [76, 79]]\n",
      "curr_limb_copy.created_edges = [[57, 76]]\n",
      "After get best cut: cut_edges = [[3, 57], [3, 76], [3, 79], [57, 79], [76, 79]], added_edges = [[57, 76]]\n",
      "total_soma_paths_to_cut = []\n",
      "-----------counter = 0------------\n",
      " Cut iteration 1\n",
      "Total number of graphs at the end of the split BEFORE DIRECTIONAL = 4\n",
      "Total number of graphs at the end of the split AFTER DIRECTIONAL = 4\n",
      "Shortest path = [86, 82, 81, 92, 66, 65, 58, 69, 75, 79, 88]\n",
      "\n",
      " --------- START OF GET BEST EDGE --------- \n",
      "curr_limb.deleted_edges=[[3, 57], [3, 76], [3, 79], [57, 79], [76, 79]]\n",
      "consider_path_neighbors_for_removal is set so segments_to_consider = [41 44 46 50 51 58 64 65 66 69 73 75 76 79 81 82 85 89 92 94 95 96]\n",
      "Short segments to combine = [96]\n",
      "\n",
      "\n",
      "-------- Removing Segments -------------\n",
      "curr_short_seg_revised = 96\n",
      "np.sum(touch_len>0) = 2\n",
      "Using average stitch point\n",
      "touching_endpoints = [[1019930.  682219.  866960.]\n",
      " [1020850.  681846.  865902.]]\n",
      "new_stitch_point = [1020390.   682032.5  866431. ]\n",
      "Angles for [92 66 85 97 99] are [116.21, 20.84, 50.95, 80.31, 41.97]\n",
      "Branch that will absorb mesh of 96 is 66 \n",
      "Only 2 skeleton nodes so cannot do smoothing\n",
      "curr_limb.deleted_edges 2=[[3, 57], [3, 76], [3, 79], [57, 79], [76, 79]]\n",
      "curr_limb.deleted_edges 3=[[3, 57], [3, 76], [3, 79], [57, 79], [76, 79]]\n",
      "Revised cut path = [86 82 81 92 66 65 58 69 75 79 88]\n",
      "\n",
      "-------- Done Removing Segments -------------\n",
      "\n",
      "\n",
      "Found 5 high degree coordinates to cut\n",
      "Picking [1005710.  697517.  885512.] high degree coordinates to cut\n",
      "curr_limb.deleted_edges 4=[[3, 57], [3, 76], [3, 79], [57, 79], [76, 79]]\n",
      "***inside resolve crossover!!!!****\n",
      "coordinate_branches = [44, 46, 58, 69]\n",
      "44 = red\n",
      "46 = aqua\n",
      "58 = purple\n",
      "69 = green\n"
     ]
    },
    {
     "data": {
      "application/vnd.jupyter.widget-view+json": {
       "model_id": "dd6887e5e9cd416bb2b42f975b1b8119",
       "version_major": 2,
       "version_minor": 0
      },
      "text/plain": [
       "VBox(children=(Figure(camera=PerspectiveCamera(fov=46.0, position=(0.0, 0.0, 2.0), quaternion=(0.0, 0.0, 0.0, …"
      ]
     },
     "metadata": {},
     "output_type": "display_data"
    },
    {
     "name": "stdout",
     "output_type": "stream",
     "text": [
      "Angle between 44 and 46 = 174.24 \n",
      "Angle between 44 and 58 = 172.24 \n",
      "Angle between 44 and 69 = 16.9 \n",
      "Angle between 46 and 58 = 170.74 \n",
      "Angle between 46 and 69 = 16.14 \n",
      "Angle between 58 and 69 = 9.47 \n",
      "Final Matches = [[44, 69], [46, 69], [58, 69]]\n",
      "matched_branches_revised = [[58, 69]]\n",
      "Aligned Skeleton Parts\n"
     ]
    },
    {
     "data": {
      "application/vnd.jupyter.widget-view+json": {
       "model_id": "01bbc6fbb59e40e88012703e373893fa",
       "version_major": 2,
       "version_minor": 0
      },
      "text/plain": [
       "VBox(children=(Figure(camera=PerspectiveCamera(fov=46.0, position=(0.0, 0.0, 2.0), quaternion=(0.0, 0.0, 0.0, …"
      ]
     },
     "metadata": {},
     "output_type": "display_data"
    },
    {
     "data": {
      "application/vnd.jupyter.widget-view+json": {
       "model_id": "9e39e61414b14021b63b9f3667262f88",
       "version_major": 2,
       "version_minor": 0
      },
      "text/plain": [
       "VBox(children=(Figure(camera=PerspectiveCamera(fov=46.0, position=(0.0, 0.0, 2.0), quaternion=(0.0, 0.0, 0.0, …"
      ]
     },
     "metadata": {},
     "output_type": "display_data"
    },
    {
     "name": "stdout",
     "output_type": "stream",
     "text": [
      "Original graph\n"
     ]
    },
    {
     "data": {
      "image/png": "[encoded data removed]",
      "text/plain": [
       "<Figure size 432x288 with 1 Axes>"
      ]
     },
     "metadata": {},
     "output_type": "display_data"
    },
    {
     "name": "stdout",
     "output_type": "stream",
     "text": [
      "match_branches = [[58, 69]]\n",
      "edges_to_delete (resolve crossover) = [[44, 46], [44, 58], [44, 69], [46, 58], [46, 69]]\n",
      "edges_to_create (resolve crossover) = [[58, 69]]\n",
      "curr_limb.deleted_edges 5 =[[3, 57], [3, 76], [3, 79], [57, 79], [76, 79]]\n",
      "skip_nodes = []\n",
      "edges_to_delete (cut_limb_network) = [[44, 46], [44, 58], [44, 69], [46, 58], [46, 69]]\n",
      "edges_to_create = [[58, 69]]\n",
      "Number of connected components = 7\n",
      "Comp 0 = {0, 1, 2, 4, 5, 6, 7, 8, 9, 10, 11, 12, 13, 14, 15, 16, 17, 18, 19, 20, 21, 22, 23, 24, 25, 26, 27, 28, 29, 30, 31, 32, 33, 34, 35, 36, 37, 38, 39, 40, 41, 42, 43, 45, 47, 48, 49, 50, 51, 52, 53, 54, 55, 56, 57, 58, 59, 60, 61, 62, 63, 64, 65, 66, 67, 68, 69, 70, 71, 72, 73, 74, 75, 76, 78, 79, 80, 81, 82, 83, 84, 85, 86, 88, 89, 90, 91, 92, 93, 94, 95, 97, 98, 99, 100, 101, 102, 103, 104, 105, 106, 107, 108, 109, 110, 111, 112, 113, 114, 115, 116, 117, 118, 119, 120, 121, 122, 123, 124, 125, 126, 127, 128, 129, 130}\n",
      "Comp 1 = {3}\n",
      "Comp 2 = {44}\n",
      "Comp 3 = {46}\n",
      "Comp 4 = {77}\n",
      "Comp 5 = {87}\n",
      "Comp 6 = {96}\n",
      "curr_limb_copy.deleted_edges = [[3, 57], [3, 76], [3, 79], [57, 79], [76, 79], [44, 46], [44, 58], [44, 69], [46, 58], [46, 69]]\n",
      "curr_limb_copy.created_edges = [[57, 76], [58, 69]]\n",
      "After get best cut: cut_edges = [[44, 46], [44, 58], [44, 69], [46, 58], [46, 69]], added_edges = [[58, 69]]\n",
      "total_soma_paths_to_cut = [[3, 57], [3, 76], [3, 79], [57, 79], [76, 79]]\n",
      "-----------counter = 1------------\n",
      " Cut iteration 2\n",
      "Total number of graphs at the end of the split BEFORE DIRECTIONAL = 7\n",
      "Total number of graphs at the end of the split AFTER DIRECTIONAL = 7\n",
      "Shortest path = [86, 82, 81, 92, 66, 65, 58, 69, 75, 79, 88]\n",
      "\n",
      " --------- START OF GET BEST EDGE --------- \n",
      "curr_limb.deleted_edges=[[3, 57], [3, 76], [3, 79], [57, 79], [76, 79], [44, 46], [44, 58], [44, 69], [46, 58], [46, 69]]\n",
      "consider_path_neighbors_for_removal is set so segments_to_consider = [41 50 51 58 64 65 66 69 73 75 76 79 81 82 85 89 92 94 95 97 99]\n",
      "Short segments to combine = [97]\n",
      "\n",
      "\n",
      "-------- Removing Segments -------------\n",
      "curr_short_seg_revised = 97\n",
      "np.sum(touch_len>0) = 2\n",
      "Using average stitch point\n",
      "touching_endpoints = [[1020390.   682032.5  866431. ]\n",
      " [1020490.   681823.   865356. ]]\n",
      "new_stitch_point = [1020440.    681927.75  865893.5 ]\n",
      "Angles for [92 66 85 99 94  9] are [124.3, 27.52, 35.09, 103.52, 72.11, 80.61]\n",
      "Branch that will absorb mesh of 97 is 66 \n",
      "curr_limb.deleted_edges 2=[[3, 57], [3, 76], [3, 79], [57, 79], [76, 79], [44, 46], [44, 58], [44, 69], [46, 58], [46, 69]]\n",
      "curr_limb.deleted_edges 3=[[3, 57], [3, 76], [3, 79], [57, 79], [76, 79], [44, 46], [44, 58], [44, 69], [46, 58], [46, 69]]\n",
      "Revised cut path = [86 82 81 92 66 65 58 69 75 79 88]\n",
      "\n",
      "-------- Done Removing Segments -------------\n",
      "\n",
      "\n",
      "Found 4 high degree coordinates to cut\n",
      "Picking [1013660.          706712.66666667  855894.33333333] high degree coordinates to cut\n",
      "curr_limb.deleted_edges 4=[[3, 57], [3, 76], [3, 79], [57, 79], [76, 79], [44, 46], [44, 58], [44, 69], [46, 58], [46, 69]]\n",
      "***inside resolve crossover!!!!****\n",
      "coordinate_branches = [51, 73, 81, 82]\n",
      "51 = red\n",
      "73 = aqua\n",
      "81 = purple\n",
      "82 = green\n"
     ]
    },
    {
     "data": {
      "application/vnd.jupyter.widget-view+json": {
       "model_id": "bb07aa6aab564aa9a4d1f9e2a1b3d89b",
       "version_major": 2,
       "version_minor": 0
      },
      "text/plain": [
       "VBox(children=(Figure(camera=PerspectiveCamera(fov=46.0, position=(0.0, 0.0, 2.0), quaternion=(0.0, 0.0, 0.0, …"
      ]
     },
     "metadata": {},
     "output_type": "display_data"
    },
    {
     "name": "stdout",
     "output_type": "stream",
     "text": [
      "Angle between 51 and 73 = 133.42 \n",
      "Angle between 51 and 81 = 14.54 \n",
      "Angle between 51 and 82 = 21.21 \n",
      "Angle between 73 and 81 = 38.3 \n",
      "Angle between 73 and 82 = 25.54 \n",
      "Angle between 81 and 82 = 162.7 \n",
      "Final Matches = [[51, 81], [51, 82], [73, 82]]\n",
      "matched_branches_revised = [[51, 81], [73, 82]]\n",
      "Aligned Skeleton Parts\n"
     ]
    },
    {
     "data": {
      "application/vnd.jupyter.widget-view+json": {
       "model_id": "02d9eaf6973c4827bb24d5cfd2bbb8e9",
       "version_major": 2,
       "version_minor": 0
      },
      "text/plain": [
       "VBox(children=(Figure(camera=PerspectiveCamera(fov=46.0, position=(0.0, 0.0, 2.0), quaternion=(0.0, 0.0, 0.0, …"
      ]
     },
     "metadata": {},
     "output_type": "display_data"
    },
    {
     "data": {
      "application/vnd.jupyter.widget-view+json": {
       "model_id": "7ec8966a6e3f4e239c0103f298277dd5",
       "version_major": 2,
       "version_minor": 0
      },
      "text/plain": [
       "VBox(children=(Figure(camera=PerspectiveCamera(fov=46.0, position=(0.0, 0.0, 2.0), quaternion=(0.0, 0.0, 0.0, …"
      ]
     },
     "metadata": {},
     "output_type": "display_data"
    },
    {
     "data": {
      "application/vnd.jupyter.widget-view+json": {
       "model_id": "41dd5f78c1db4edf82f6b0124ffaf6cd",
       "version_major": 2,
       "version_minor": 0
      },
      "text/plain": [
       "VBox(children=(Figure(camera=PerspectiveCamera(fov=46.0, position=(0.0, 0.0, 2.0), quaternion=(0.0, 0.0, 0.0, …"
      ]
     },
     "metadata": {},
     "output_type": "display_data"
    },
    {
     "name": "stdout",
     "output_type": "stream",
     "text": [
      "Original graph\n"
     ]
    },
    {
     "data": {
      "image/png": "[encoded data removed]",
      "text/plain": [
       "<Figure size 432x288 with 1 Axes>"
      ]
     },
     "metadata": {},
     "output_type": "display_data"
    },
    {
     "name": "stdout",
     "output_type": "stream",
     "text": [
      "match_branches = [[51, 81], [73, 82]]\n",
      "edges_to_delete (resolve crossover) = [[51, 73], [51, 82], [73, 81], [81, 82]]\n",
      "edges_to_create (resolve crossover) = [[51, 81], [73, 82]]\n",
      "curr_limb.deleted_edges 5 =[[3, 57], [3, 76], [3, 79], [57, 79], [76, 79], [44, 46], [44, 58], [44, 69], [46, 58], [46, 69]]\n",
      "skip_nodes = []\n",
      "edges_to_delete (cut_limb_network) = [[51, 73], [51, 82], [73, 81], [81, 82]]\n",
      "edges_to_create = [[51, 81], [73, 82]]\n",
      "Number of connected components = 9\n",
      "Comp 0 = {0, 1, 4, 5, 6, 7, 8, 10, 11, 12, 13, 14, 15, 16, 17, 18, 19, 20, 21, 22, 23, 24, 25, 26, 27, 28, 29, 30, 31, 32, 33, 34, 35, 36, 37, 39, 40, 42, 45, 47, 49, 52, 53, 54, 55, 57, 61, 62, 63, 70, 71, 73, 76, 78, 82, 86, 93, 101, 102, 103, 104, 107, 108, 109, 111, 112, 113, 114, 115, 116, 118, 119, 120}\n",
      "Comp 1 = {3}\n",
      "Comp 2 = {128, 129, 2, 130, 9, 38, 41, 43, 48, 50, 51, 56, 58, 59, 60, 64, 65, 66, 67, 68, 69, 72, 74, 75, 79, 80, 81, 83, 84, 85, 88, 89, 90, 91, 92, 94.0, 95, 98, 99, 100, 105, 106, 110, 117, 121, 122, 123, 124, 125, 126, 127}\n",
      "Comp 3 = {44}\n",
      "Comp 4 = {46}\n",
      "Comp 5 = {77}\n",
      "Comp 6 = {87}\n",
      "Comp 7 = {96}\n",
      "Comp 8 = {97}\n",
      "curr_limb_copy.deleted_edges = [[3, 57], [3, 76], [3, 79], [57, 79], [76, 79], [44, 46], [44, 58], [44, 69], [46, 58], [46, 69], [51, 73], [51, 82], [73, 81], [81, 82]]\n",
      "curr_limb_copy.created_edges = [[57, 76], [58, 69], [51, 81], [73, 82]]\n",
      "After get best cut: cut_edges = [[51, 73], [51, 82], [73, 81], [81, 82]], added_edges = [[51, 81], [73, 82]]\n",
      "total_soma_paths_to_cut = [[3, 57], [3, 76], [3, 79], [57, 79], [76, 79], [44, 46], [44, 58], [44, 69], [46, 58], [46, 69]]\n",
      "-----------counter = 2------------\n",
      " Cut iteration 3\n",
      "Total number of graphs at the end of the split BEFORE DIRECTIONAL = 9\n",
      "Total number of graphs at the end of the split AFTER DIRECTIONAL = 9\n",
      "No valid path so moving onto the next connection\n",
      "\n",
      "\n",
      "---- working on disconnecting 86 and 95\n",
      "---- This disconnects S0_0 from S0_2  \n",
      " Cut iteration 0\n",
      "Total number of graphs at the end of the split BEFORE DIRECTIONAL = 9\n",
      "Total number of graphs at the end of the split AFTER DIRECTIONAL = 9\n",
      "No valid path so moving onto the next connection\n",
      "\n",
      "\n",
      "---- working on disconnecting 86 and 99\n",
      "---- This disconnects S0_0 from S1_3  \n",
      " Cut iteration 0\n",
      "Total number of graphs at the end of the split BEFORE DIRECTIONAL = 9\n",
      "Total number of graphs at the end of the split AFTER DIRECTIONAL = 9\n",
      "No valid path so moving onto the next connection\n",
      "\n",
      "\n",
      "---- working on disconnecting 86 and 105\n",
      "---- This disconnects S0_0 from S0_1  \n",
      " Cut iteration 0\n",
      "Total number of graphs at the end of the split BEFORE DIRECTIONAL = 9\n",
      "Total number of graphs at the end of the split AFTER DIRECTIONAL = 9\n",
      "No valid path so moving onto the next connection\n",
      "\n",
      "\n",
      "---- working on disconnecting 86 and 113\n",
      "---- This disconnects S0_0 from S0_3  \n",
      " Cut iteration 0\n",
      "Total number of graphs at the end of the split BEFORE DIRECTIONAL = 9\n",
      "Total number of graphs at the end of the split AFTER DIRECTIONAL = 9\n",
      "Shortest path = [86, 82, 73, 63, 62, 61, 113]\n",
      "\n",
      " --------- START OF GET BEST EDGE --------- \n",
      "curr_limb.deleted_edges=[[3, 57], [3, 76], [3, 79], [57, 79], [76, 79], [44, 46], [44, 58], [44, 69], [46, 58], [46, 69], [51, 73], [51, 82], [73, 81], [81, 82]]\n",
      "consider_path_neighbors_for_removal is set so segments_to_consider = [ 49  52  53  61  62  63  73  76  82 114 115]\n",
      "Short segments to combine = [ 62 115]\n",
      "\n",
      "\n",
      "-------- Removing Segments -------------\n",
      "curr_short_seg_revised = 62\n",
      "np.sum(touch_len>0) = 2\n",
      "Using average stitch point\n",
      "touching_endpoints = [[1002090.  727951.  827329.]\n",
      " [1002410.  729196.  827662.]]\n",
      "new_stitch_point = [1002250.   728573.5  827495.5]\n",
      "Angles for [49. 61. 63. 52.] are [68.88, 74.32, 106.37, 78.0]\n",
      "Branch that will absorb mesh of 62 is 49.0 \n",
      "curr_short_seg_revised = 115\n",
      "np.sum(touch_len>0) = 2\n",
      "Using average stitch point\n",
      "touching_endpoints = [[1028440.  702784.  854638.]\n",
      " [1028740.  703829.  855140.]]\n",
      "new_stitch_point = [1028590.   703306.5  854889. ]\n",
      "Angles for [ 61. 113. 114. 118. 112.] are [58.68, 56.06, 138.45, 93.66, 70.6]\n",
      "Branch that will absorb mesh of 115 is 113.0 \n",
      "curr_limb.deleted_edges 2=[[3, 57], [3, 76], [3, 79], [57, 79], [76, 79], [44, 46], [44, 58], [44, 69], [46, 58], [46, 69], [51, 73], [51, 82], [73, 81], [81, 82]]\n",
      "curr_limb.deleted_edges 3=[[3, 57], [3, 76], [3, 79], [57, 79], [76, 79], [44, 46], [44, 58], [44, 69], [46, 58], [46, 69], [51, 73], [51, 82], [73, 81], [81, 82]]\n",
      "Revised cut path = [ 86  82  73  63  61 113]\n",
      "\n",
      "-------- Done Removing Segments -------------\n",
      "\n",
      "\n",
      "Found 3 high degree coordinates to cut\n",
      "Picking [1002250.   728573.5  827495.5] high degree coordinates to cut\n",
      "curr_limb.deleted_edges 4=[[3, 57], [3, 76], [3, 79], [57, 79], [76, 79], [44, 46], [44, 58], [44, 69], [46, 58], [46, 69], [51, 73], [51, 82], [73, 81], [81, 82]]\n",
      "***inside resolve crossover!!!!****\n",
      "coordinate_branches = [49, 52, 61, 63]\n",
      "49 = red\n",
      "52 = aqua\n",
      "61 = purple\n",
      "63 = green\n"
     ]
    },
    {
     "data": {
      "application/vnd.jupyter.widget-view+json": {
       "model_id": "e877f3ffd5134d85ab339163119ee7ba",
       "version_major": 2,
       "version_minor": 0
      },
      "text/plain": [
       "VBox(children=(Figure(camera=PerspectiveCamera(fov=46.0, position=(0.0, 0.0, 2.0), quaternion=(0.0, 0.0, 0.0, …"
      ]
     },
     "metadata": {},
     "output_type": "display_data"
    },
    {
     "name": "stdout",
     "output_type": "stream",
     "text": [
      "Angle between 49 and 52 = 104.03 \n",
      "Angle between 49 and 61 = 58.22 \n",
      "Angle between 49 and 63 = 62.39 \n",
      "Angle between 52 and 61 = 21.81 \n",
      "Angle between 52 and 63 = 14.09 \n",
      "Angle between 61 and 63 = 170.52 \n",
      "Final Matches = [[52, 61], [52, 63]]\n",
      "matched_branches_revised = [[52, 63]]\n",
      "Aligned Skeleton Parts\n"
     ]
    },
    {
     "data": {
      "application/vnd.jupyter.widget-view+json": {
       "model_id": "fd40c78c1bf14e559e9689a410816bcb",
       "version_major": 2,
       "version_minor": 0
      },
      "text/plain": [
       "VBox(children=(Figure(camera=PerspectiveCamera(fov=46.0, position=(0.0, 0.0, 2.0), quaternion=(0.0, 0.0, 0.0, …"
      ]
     },
     "metadata": {},
     "output_type": "display_data"
    },
    {
     "data": {
      "application/vnd.jupyter.widget-view+json": {
       "model_id": "39fa788ad34340069c3bf487a7ec4d8b",
       "version_major": 2,
       "version_minor": 0
      },
      "text/plain": [
       "VBox(children=(Figure(camera=PerspectiveCamera(fov=46.0, position=(0.0, 0.0, 2.0), quaternion=(0.0, 0.0, 0.0, …"
      ]
     },
     "metadata": {},
     "output_type": "display_data"
    },
    {
     "name": "stdout",
     "output_type": "stream",
     "text": [
      "Original graph\n"
     ]
    },
    {
     "data": {
      "image/png": "[encoded data removed]",
      "text/plain": [
       "<Figure size 432x288 with 1 Axes>"
      ]
     },
     "metadata": {},
     "output_type": "display_data"
    },
    {
     "name": "stdout",
     "output_type": "stream",
     "text": [
      "match_branches = [[52, 63]]\n",
      "edges_to_delete (resolve crossover) = [[49, 52], [49, 61], [49, 63], [52, 61], [61, 63]]\n",
      "edges_to_create (resolve crossover) = [[52, 63]]\n",
      "curr_limb.deleted_edges 5 =[[3, 57], [3, 76], [3, 79], [57, 79], [76, 79], [44, 46], [44, 58], [44, 69], [46, 58], [46, 69], [51, 73], [51, 82], [73, 81], [81, 82]]\n",
      "skip_nodes = []\n",
      "edges_to_delete (cut_limb_network) = [[49, 52], [49, 61], [49, 63], [52, 61], [61, 63]]\n",
      "edges_to_create = [[52, 63]]\n",
      "Number of connected components = 13\n",
      "Comp 0 = {0, 1, 4, 5, 6, 7, 8, 10, 11, 12, 13, 14, 15, 16, 17, 19, 20, 21, 22, 23, 24, 25, 26, 27, 28, 29, 30, 31, 32, 33, 34, 35, 39, 40, 42, 45, 47, 52, 53, 54, 55, 57, 63, 73, 76, 82, 86}\n",
      "Comp 1 = {3}\n",
      "Comp 2 = {128, 129, 2, 130, 9, 38, 41, 43, 48, 50, 51, 56, 58, 59, 60, 64, 65, 66, 67, 68, 69, 72, 74, 75, 79, 80, 81, 83, 84, 85, 88, 89, 90, 91, 92, 94.0, 95, 98, 99, 100, 105, 106, 110, 117, 121, 122, 123, 124, 125, 126, 127}\n",
      "Comp 3 = {49}\n",
      "Comp 4 = {18, 36, 37, 61, 70, 71, 78, 93, 101, 102, 103, 104, 107, 108, 109, 111, 112, 113, 114, 116, 118.0, 119, 120}\n",
      "Comp 5 = {44}\n",
      "Comp 6 = {46}\n",
      "Comp 7 = {62}\n",
      "Comp 8 = {77}\n",
      "Comp 9 = {87}\n",
      "Comp 10 = {96}\n",
      "Comp 11 = {97}\n",
      "Comp 12 = {115}\n",
      "curr_limb_copy.deleted_edges = [[3, 57], [3, 76], [3, 79], [57, 79], [76, 79], [44, 46], [44, 58], [44, 69], [46, 58], [46, 69], [51, 73], [51, 82], [73, 81], [81, 82], [49, 52], [49, 61], [49, 63], [52, 61], [61, 63]]\n",
      "curr_limb_copy.created_edges = [[57, 76], [58, 69], [51, 81], [73, 82], [52, 63]]\n",
      "After get best cut: cut_edges = [[49, 52], [49, 61], [49, 63], [52, 61], [61, 63]], added_edges = [[52, 63]]\n",
      "total_soma_paths_to_cut = []\n",
      "-----------counter = 0------------\n",
      " Cut iteration 1\n",
      "Total number of graphs at the end of the split BEFORE DIRECTIONAL = 13\n",
      "Total number of graphs at the end of the split AFTER DIRECTIONAL = 13\n",
      "No valid path so moving onto the next connection\n",
      "\n",
      "\n",
      "---- working on disconnecting 86 and 119\n",
      "---- This disconnects S0_0 from S1_0  \n",
      " Cut iteration 0\n",
      "Total number of graphs at the end of the split BEFORE DIRECTIONAL = 13\n",
      "Total number of graphs at the end of the split AFTER DIRECTIONAL = 13\n",
      "No valid path so moving onto the next connection\n",
      "\n",
      "\n",
      "---- working on disconnecting 86 and 121\n",
      "---- This disconnects S0_0 from S1_1  \n",
      " Cut iteration 0\n",
      "Total number of graphs at the end of the split BEFORE DIRECTIONAL = 13\n",
      "Total number of graphs at the end of the split AFTER DIRECTIONAL = 13\n",
      "No valid path so moving onto the next connection\n",
      "\n",
      "\n",
      "---- working on disconnecting 88 and 95\n",
      "---- This disconnects S1_2 from S0_2  \n",
      " Cut iteration 0\n",
      "Total number of graphs at the end of the split BEFORE DIRECTIONAL = 13\n",
      "Total number of graphs at the end of the split AFTER DIRECTIONAL = 13\n",
      "Shortest path = [88, 79, 75, 69, 58, 65, 66, 92, 81, 95]\n",
      "\n",
      " --------- START OF GET BEST EDGE --------- \n",
      "curr_limb.deleted_edges=[[3, 57], [3, 76], [3, 79], [57, 79], [76, 79], [44, 46], [44, 58], [44, 69], [46, 58], [46, 69], [51, 73], [51, 82], [73, 81], [81, 82], [49, 52], [49, 61], [49, 63], [52, 61], [61, 63]]\n",
      "consider_path_neighbors_for_removal is set so segments_to_consider = [ 9 41 50 51 58 64 65 66 69 75 79 81 85 89 92 94 99]\n",
      "Short segments to combine = []\n",
      "Found 6 high degree coordinates to cut\n",
      "Picking [1005710.  697517.  885512.] high degree coordinates to cut\n",
      "curr_limb.deleted_edges 4=[[3, 57], [3, 76], [3, 79], [57, 79], [76, 79], [44, 46], [44, 58], [44, 69], [46, 58], [46, 69], [51, 73], [51, 82], [73, 81], [81, 82], [49, 52], [49, 61], [49, 63], [52, 61], [61, 63]]\n",
      "***inside resolve crossover!!!!****\n",
      "coordinate_branches = [44, 46, 58, 69]\n",
      "44 = red\n",
      "46 = aqua\n",
      "58 = purple\n",
      "69 = green\n"
     ]
    },
    {
     "data": {
      "application/vnd.jupyter.widget-view+json": {
       "model_id": "a2e224a0437a4234a45327598ae21498",
       "version_major": 2,
       "version_minor": 0
      },
      "text/plain": [
       "VBox(children=(Figure(camera=PerspectiveCamera(fov=46.0, position=(0.0, 0.0, 2.0), quaternion=(0.0, 0.0, 0.0, …"
      ]
     },
     "metadata": {},
     "output_type": "display_data"
    },
    {
     "name": "stdout",
     "output_type": "stream",
     "text": [
      "Angle between 44 and 46 = 174.24 \n",
      "Angle between 44 and 58 = 172.24 \n",
      "Angle between 44 and 69 = 16.9 \n",
      "Angle between 46 and 58 = 170.74 \n",
      "Angle between 46 and 69 = 16.14 \n",
      "Angle between 58 and 69 = 9.47 \n",
      "Final Matches = [[44, 69], [46, 69], [58, 69]]\n",
      "matched_branches_revised = [[58, 69]]\n",
      "Aligned Skeleton Parts\n"
     ]
    },
    {
     "data": {
      "application/vnd.jupyter.widget-view+json": {
       "model_id": "2eebdebdd2f34815b5fbe6f7a9902136",
       "version_major": 2,
       "version_minor": 0
      },
      "text/plain": [
       "VBox(children=(Figure(camera=PerspectiveCamera(fov=46.0, position=(0.0, 0.0, 2.0), quaternion=(0.0, 0.0, 0.0, …"
      ]
     },
     "metadata": {},
     "output_type": "display_data"
    },
    {
     "data": {
      "application/vnd.jupyter.widget-view+json": {
       "model_id": "9379a6e3234645039897b3fe1d0c4d15",
       "version_major": 2,
       "version_minor": 0
      },
      "text/plain": [
       "VBox(children=(Figure(camera=PerspectiveCamera(fov=46.0, position=(0.0, 0.0, 2.0), quaternion=(0.0, 0.0, 0.0, …"
      ]
     },
     "metadata": {},
     "output_type": "display_data"
    },
    {
     "name": "stdout",
     "output_type": "stream",
     "text": [
      "Original graph\n"
     ]
    },
    {
     "data": {
      "image/png": "[encoded data removed]",
      "text/plain": [
       "<Figure size 432x288 with 1 Axes>"
      ]
     },
     "metadata": {},
     "output_type": "display_data"
    },
    {
     "name": "stdout",
     "output_type": "stream",
     "text": [
      "match_branches = [[58, 69]]\n",
      "edges_to_delete (resolve crossover) = [[44, 46], [44, 58], [44, 69], [46, 58], [46, 69]]\n",
      "edges_to_create (resolve crossover) = [[58, 69]]\n",
      "curr_limb.deleted_edges 5 =[[3, 57], [3, 76], [3, 79], [57, 79], [76, 79], [44, 46], [44, 58], [44, 69], [46, 58], [46, 69], [51, 73], [51, 82], [73, 81], [81, 82], [49, 52], [49, 61], [49, 63], [52, 61], [61, 63]]\n",
      "skip_nodes = []\n",
      "edges_to_delete (cut_limb_network) = [[44, 46], [44, 58], [44, 69], [46, 58], [46, 69]]\n",
      "edges_to_create = [[58, 69]]\n",
      "Number of connected components = 13\n",
      "Comp 0 = {0, 1, 4, 5, 6, 7, 8, 10, 11, 12, 13, 14, 15, 16, 17, 19, 20, 21, 22, 23, 24, 25, 26, 27, 28, 29, 30, 31, 32, 33, 34, 35, 39, 40, 42, 45, 47, 52, 53, 54, 55, 57, 63, 73, 76, 82, 86}\n",
      "Comp 1 = {3}\n",
      "Comp 2 = {128, 129, 2, 130, 9, 38, 41, 43, 48, 50, 51, 56, 58, 59, 60, 64, 65, 66, 67, 68, 69, 72, 74, 75, 79, 80, 81, 83, 84, 85, 88, 89, 90, 91, 92, 94.0, 95, 98, 99, 100, 105, 106, 110, 117, 121, 122, 123, 124, 125, 126, 127}\n",
      "Comp 3 = {49}\n",
      "Comp 4 = {18, 36, 37, 61, 70, 71, 78, 93, 101, 102, 103, 104, 107, 108, 109, 111, 112, 113, 114, 116, 118.0, 119, 120}\n",
      "Comp 5 = {44}\n",
      "Comp 6 = {46}\n",
      "Comp 7 = {62}\n",
      "Comp 8 = {77}\n",
      "Comp 9 = {87}\n",
      "Comp 10 = {96}\n",
      "Comp 11 = {97}\n",
      "Comp 12 = {115}\n",
      "curr_limb_copy.deleted_edges = [[3, 57], [3, 76], [3, 79], [57, 79], [76, 79], [44, 46], [44, 58], [44, 69], [46, 58], [46, 69], [51, 73], [51, 82], [73, 81], [81, 82], [49, 52], [49, 61], [49, 63], [52, 61], [61, 63], [44, 46], [44, 58], [44, 69], [46, 58], [46, 69]]\n",
      "curr_limb_copy.created_edges = [[57, 76], [58, 69], [51, 81], [73, 82], [52, 63], [58, 69]]\n",
      "After get best cut: cut_edges = [[44, 46], [44, 58], [44, 69], [46, 58], [46, 69]], added_edges = [[58, 69]]\n",
      "total_soma_paths_to_cut = []\n",
      "-----------counter = 0------------\n",
      " Cut iteration 1\n",
      "Total number of graphs at the end of the split BEFORE DIRECTIONAL = 13\n",
      "Total number of graphs at the end of the split AFTER DIRECTIONAL = 13\n",
      "Shortest path = [88, 79, 75, 69, 58, 65, 66, 92, 81, 95]\n",
      "\n",
      " --------- START OF GET BEST EDGE --------- \n",
      "curr_limb.deleted_edges=[[3, 57], [3, 76], [3, 79], [57, 79], [76, 79], [44, 46], [44, 58], [44, 69], [46, 58], [46, 69], [51, 73], [51, 82], [73, 81], [81, 82], [49, 52], [49, 61], [49, 63], [52, 61], [61, 63], [44, 46], [44, 58], [44, 69], [46, 58], [46, 69]]\n",
      "consider_path_neighbors_for_removal is set so segments_to_consider = [ 9 41 50 51 58 64 65 66 69 75 79 81 85 89 92 94 99]\n",
      "Short segments to combine = []\n",
      "Found 5 high degree coordinates to cut\n",
      "Picking [1012565.   704276.5  870505. ] high degree coordinates to cut\n",
      "curr_limb.deleted_edges 4=[[3, 57], [3, 76], [3, 79], [57, 79], [76, 79], [44, 46], [44, 58], [44, 69], [46, 58], [46, 69], [51, 73], [51, 82], [73, 81], [81, 82], [49, 52], [49, 61], [49, 63], [52, 61], [61, 63], [44, 46], [44, 58], [44, 69], [46, 58], [46, 69]]\n",
      "***inside resolve crossover!!!!****\n",
      "coordinate_branches = [3, 57, 76, 79]\n",
      "3 = red\n",
      "57 = aqua\n",
      "76 = purple\n",
      "79 = green\n"
     ]
    },
    {
     "data": {
      "application/vnd.jupyter.widget-view+json": {
       "model_id": "06a80635a8724088aa2a84bc972bd1a4",
       "version_major": 2,
       "version_minor": 0
      },
      "text/plain": [
       "VBox(children=(Figure(camera=PerspectiveCamera(fov=46.0, position=(0.0, 0.0, 2.0), quaternion=(0.0, 0.0, 0.0, …"
      ]
     },
     "metadata": {},
     "output_type": "display_data"
    },
    {
     "name": "stdout",
     "output_type": "stream",
     "text": [
      "Angle between 3 and 57 = 144.22 \n",
      "Angle between 3 and 76 = 35.88 \n",
      "Angle between 3 and 79 = 93.76 \n",
      "Angle between 57 and 76 = 18.79 \n",
      "Angle between 57 and 79 = 129.05 \n",
      "Angle between 76 and 79 = 60.36 \n",
      "Final Matches = [[57, 76]]\n",
      "matched_branches_revised = [[57, 76]]\n",
      "Aligned Skeleton Parts\n"
     ]
    },
    {
     "data": {
      "application/vnd.jupyter.widget-view+json": {
       "model_id": "bcd4330bc516490f8844c7997bdeb430",
       "version_major": 2,
       "version_minor": 0
      },
      "text/plain": [
       "VBox(children=(Figure(camera=PerspectiveCamera(fov=46.0, position=(0.0, 0.0, 2.0), quaternion=(0.0, 0.0, 0.0, …"
      ]
     },
     "metadata": {},
     "output_type": "display_data"
    },
    {
     "data": {
      "application/vnd.jupyter.widget-view+json": {
       "model_id": "e21898cac00647fcbaa23d07ac0712e7",
       "version_major": 2,
       "version_minor": 0
      },
      "text/plain": [
       "VBox(children=(Figure(camera=PerspectiveCamera(fov=46.0, position=(0.0, 0.0, 2.0), quaternion=(0.0, 0.0, 0.0, …"
      ]
     },
     "metadata": {},
     "output_type": "display_data"
    },
    {
     "name": "stdout",
     "output_type": "stream",
     "text": [
      "Original graph\n"
     ]
    },
    {
     "data": {
      "image/png": "[encoded data removed]",
      "text/plain": [
       "<Figure size 432x288 with 1 Axes>"
      ]
     },
     "metadata": {},
     "output_type": "display_data"
    },
    {
     "name": "stdout",
     "output_type": "stream",
     "text": [
      "match_branches = [[57, 76]]\n",
      "edges_to_delete (resolve crossover) = [[3, 57], [3, 76], [3, 79], [57, 79], [76, 79]]\n",
      "edges_to_create (resolve crossover) = [[57, 76]]\n",
      "curr_limb.deleted_edges 5 =[[3, 57], [3, 76], [3, 79], [57, 79], [76, 79], [44, 46], [44, 58], [44, 69], [46, 58], [46, 69], [51, 73], [51, 82], [73, 81], [81, 82], [49, 52], [49, 61], [49, 63], [52, 61], [61, 63], [44, 46], [44, 58], [44, 69], [46, 58], [46, 69]]\n",
      "skip_nodes = []\n",
      "edges_to_delete (cut_limb_network) = [[3, 57], [3, 76], [3, 79], [57, 79], [76, 79]]\n",
      "edges_to_create = [[57, 76]]\n",
      "Number of connected components = 13\n",
      "Comp 0 = {0, 1, 4, 5, 6, 7, 8, 10, 11, 12, 13, 14, 15, 16, 17, 19, 20, 21, 22, 23, 24, 25, 26, 27, 28, 29, 30, 31, 32, 33, 34, 35, 39, 40, 42, 45, 47, 52, 53, 54, 55, 57, 63, 73, 76, 82, 86}\n",
      "Comp 1 = {3}\n",
      "Comp 2 = {128, 129, 2, 130, 9, 38, 41, 43, 48, 50, 51, 56, 58, 59, 60, 64, 65, 66, 67, 68, 69, 72, 74, 75, 79, 80, 81, 83, 84, 85, 88, 89, 90, 91, 92, 94.0, 95, 98, 99, 100, 105, 106, 110, 117, 121, 122, 123, 124, 125, 126, 127}\n",
      "Comp 3 = {49}\n",
      "Comp 4 = {18, 36, 37, 61, 70, 71, 78, 93, 101, 102, 103, 104, 107, 108, 109, 111, 112, 113, 114, 116, 118.0, 119, 120}\n",
      "Comp 5 = {44}\n",
      "Comp 6 = {46}\n",
      "Comp 7 = {62}\n",
      "Comp 8 = {77}\n",
      "Comp 9 = {87}\n",
      "Comp 10 = {96}\n",
      "Comp 11 = {97}\n",
      "Comp 12 = {115}\n",
      "curr_limb_copy.deleted_edges = [[3, 57], [3, 76], [3, 79], [57, 79], [76, 79], [44, 46], [44, 58], [44, 69], [46, 58], [46, 69], [51, 73], [51, 82], [73, 81], [81, 82], [49, 52], [49, 61], [49, 63], [52, 61], [61, 63], [44, 46], [44, 58], [44, 69], [46, 58], [46, 69], [3, 57], [3, 76], [3, 79], [57, 79], [76, 79]]\n",
      "curr_limb_copy.created_edges = [[57, 76], [58, 69], [51, 81], [73, 82], [52, 63], [58, 69], [57, 76]]\n",
      "After get best cut: cut_edges = [[3, 57], [3, 76], [3, 79], [57, 79], [76, 79]], added_edges = [[57, 76]]\n",
      "total_soma_paths_to_cut = [[44, 46], [44, 58], [44, 69], [46, 58], [46, 69]]\n",
      "-----------counter = 1------------\n",
      " Cut iteration 2\n",
      "Total number of graphs at the end of the split BEFORE DIRECTIONAL = 13\n",
      "Total number of graphs at the end of the split AFTER DIRECTIONAL = 13\n",
      "Shortest path = [88, 79, 75, 69, 58, 65, 66, 92, 81, 95]\n",
      "\n",
      " --------- START OF GET BEST EDGE --------- \n",
      "curr_limb.deleted_edges=[[3, 57], [3, 76], [3, 79], [57, 79], [76, 79], [44, 46], [44, 58], [44, 69], [46, 58], [46, 69], [51, 73], [51, 82], [73, 81], [81, 82], [49, 52], [49, 61], [49, 63], [52, 61], [61, 63], [44, 46], [44, 58], [44, 69], [46, 58], [46, 69], [3, 57], [3, 76], [3, 79], [57, 79], [76, 79]]\n",
      "consider_path_neighbors_for_removal is set so segments_to_consider = [ 9 41 50 51 58 64 65 66 69 75 79 81 85 89 92 94 99]\n",
      "Short segments to combine = []\n",
      "Found 4 high degree coordinates to cut\n",
      "Picking [1013660.          706712.66666667  855894.33333333] high degree coordinates to cut\n",
      "curr_limb.deleted_edges 4=[[3, 57], [3, 76], [3, 79], [57, 79], [76, 79], [44, 46], [44, 58], [44, 69], [46, 58], [46, 69], [51, 73], [51, 82], [73, 81], [81, 82], [49, 52], [49, 61], [49, 63], [52, 61], [61, 63], [44, 46], [44, 58], [44, 69], [46, 58], [46, 69], [3, 57], [3, 76], [3, 79], [57, 79], [76, 79]]\n",
      "***inside resolve crossover!!!!****\n",
      "coordinate_branches = [51, 73, 81, 82]\n",
      "51 = red\n",
      "73 = aqua\n",
      "81 = purple\n",
      "82 = green\n"
     ]
    },
    {
     "data": {
      "application/vnd.jupyter.widget-view+json": {
       "model_id": "22124930289d4ee7b0a55fb0820e937b",
       "version_major": 2,
       "version_minor": 0
      },
      "text/plain": [
       "VBox(children=(Figure(camera=PerspectiveCamera(fov=46.0, position=(0.0, 0.0, 2.0), quaternion=(0.0, 0.0, 0.0, …"
      ]
     },
     "metadata": {},
     "output_type": "display_data"
    },
    {
     "name": "stdout",
     "output_type": "stream",
     "text": [
      "Angle between 51 and 73 = 133.42 \n",
      "Angle between 51 and 81 = 14.54 \n",
      "Angle between 51 and 82 = 21.21 \n",
      "Angle between 73 and 81 = 38.3 \n",
      "Angle between 73 and 82 = 25.54 \n",
      "Angle between 81 and 82 = 162.7 \n",
      "Final Matches = [[51, 81], [51, 82], [73, 82]]\n",
      "matched_branches_revised = [[51, 81], [73, 82]]\n",
      "Aligned Skeleton Parts\n"
     ]
    },
    {
     "data": {
      "application/vnd.jupyter.widget-view+json": {
       "model_id": "b4c49560d39247c78d3a9f4de1e7048e",
       "version_major": 2,
       "version_minor": 0
      },
      "text/plain": [
       "VBox(children=(Figure(camera=PerspectiveCamera(fov=46.0, position=(0.0, 0.0, 2.0), quaternion=(0.0, 0.0, 0.0, …"
      ]
     },
     "metadata": {},
     "output_type": "display_data"
    },
    {
     "data": {
      "application/vnd.jupyter.widget-view+json": {
       "model_id": "fec1e7a912124ef2ab2f379704933303",
       "version_major": 2,
       "version_minor": 0
      },
      "text/plain": [
       "VBox(children=(Figure(camera=PerspectiveCamera(fov=46.0, position=(0.0, 0.0, 2.0), quaternion=(0.0, 0.0, 0.0, …"
      ]
     },
     "metadata": {},
     "output_type": "display_data"
    },
    {
     "data": {
      "application/vnd.jupyter.widget-view+json": {
       "model_id": "8c0f54873c374bf185cdbdab3473d6b2",
       "version_major": 2,
       "version_minor": 0
      },
      "text/plain": [
       "VBox(children=(Figure(camera=PerspectiveCamera(fov=46.0, position=(0.0, 0.0, 2.0), quaternion=(0.0, 0.0, 0.0, …"
      ]
     },
     "metadata": {},
     "output_type": "display_data"
    },
    {
     "name": "stdout",
     "output_type": "stream",
     "text": [
      "Original graph\n"
     ]
    },
    {
     "data": {
      "image/png": "[encoded data removed]",
      "text/plain": [
       "<Figure size 432x288 with 1 Axes>"
      ]
     },
     "metadata": {},
     "output_type": "display_data"
    },
    {
     "name": "stdout",
     "output_type": "stream",
     "text": [
      "match_branches = [[51, 81], [73, 82]]\n",
      "edges_to_delete (resolve crossover) = [[51, 73], [51, 82], [73, 81], [81, 82]]\n",
      "edges_to_create (resolve crossover) = [[51, 81], [73, 82]]\n",
      "curr_limb.deleted_edges 5 =[[3, 57], [3, 76], [3, 79], [57, 79], [76, 79], [44, 46], [44, 58], [44, 69], [46, 58], [46, 69], [51, 73], [51, 82], [73, 81], [81, 82], [49, 52], [49, 61], [49, 63], [52, 61], [61, 63], [44, 46], [44, 58], [44, 69], [46, 58], [46, 69], [3, 57], [3, 76], [3, 79], [57, 79], [76, 79]]\n",
      "skip_nodes = []\n",
      "edges_to_delete (cut_limb_network) = [[51, 73], [51, 82], [73, 81], [81, 82]]\n",
      "edges_to_create = [[51, 81], [73, 82]]\n",
      "Number of connected components = 13\n",
      "Comp 0 = {0, 1, 4, 5, 6, 7, 8, 10, 11, 12, 13, 14, 15, 16, 17, 19, 20, 21, 22, 23, 24, 25, 26, 27, 28, 29, 30, 31, 32, 33, 34, 35, 39, 40, 42, 45, 47, 52, 53, 54, 55, 57, 63, 73, 76, 82, 86}\n",
      "Comp 1 = {3}\n",
      "Comp 2 = {128, 129, 2, 130, 9, 38, 41, 43, 48, 50, 51, 56, 58, 59, 60, 64, 65, 66, 67, 68, 69, 72, 74, 75, 79, 80, 81, 83, 84, 85, 88, 89, 90, 91, 92, 94.0, 95, 98, 99, 100, 105, 106, 110, 117, 121, 122, 123, 124, 125, 126, 127}\n",
      "Comp 3 = {49}\n",
      "Comp 4 = {18, 36, 37, 61, 70, 71, 78, 93, 101, 102, 103, 104, 107, 108, 109, 111, 112, 113, 114, 116, 118.0, 119, 120}\n",
      "Comp 5 = {44}\n",
      "Comp 6 = {46}\n",
      "Comp 7 = {62}\n",
      "Comp 8 = {77}\n",
      "Comp 9 = {87}\n",
      "Comp 10 = {96}\n",
      "Comp 11 = {97}\n",
      "Comp 12 = {115}\n",
      "curr_limb_copy.deleted_edges = [[3, 57], [3, 76], [3, 79], [57, 79], [76, 79], [44, 46], [44, 58], [44, 69], [46, 58], [46, 69], [51, 73], [51, 82], [73, 81], [81, 82], [49, 52], [49, 61], [49, 63], [52, 61], [61, 63], [44, 46], [44, 58], [44, 69], [46, 58], [46, 69], [3, 57], [3, 76], [3, 79], [57, 79], [76, 79], [51, 73], [51, 82], [73, 81], [81, 82]]\n",
      "curr_limb_copy.created_edges = [[57, 76], [58, 69], [51, 81], [73, 82], [52, 63], [58, 69], [57, 76], [51, 81], [73, 82]]\n",
      "After get best cut: cut_edges = [[51, 73], [51, 82], [73, 81], [81, 82]], added_edges = [[51, 81], [73, 82]]\n",
      "total_soma_paths_to_cut = [[44, 46], [44, 58], [44, 69], [46, 58], [46, 69], [3, 57], [3, 76], [3, 79], [57, 79], [76, 79]]\n",
      "-----------counter = 2------------\n",
      " Cut iteration 3\n",
      "Total number of graphs at the end of the split BEFORE DIRECTIONAL = 13\n",
      "Total number of graphs at the end of the split AFTER DIRECTIONAL = 13\n",
      "Shortest path = [88, 79, 75, 69, 58, 65, 66, 92, 81, 95]\n",
      "\n",
      " --------- START OF GET BEST EDGE --------- \n",
      "curr_limb.deleted_edges=[[3, 57], [3, 76], [3, 79], [57, 79], [76, 79], [44, 46], [44, 58], [44, 69], [46, 58], [46, 69], [51, 73], [51, 82], [73, 81], [81, 82], [49, 52], [49, 61], [49, 63], [52, 61], [61, 63], [44, 46], [44, 58], [44, 69], [46, 58], [46, 69], [3, 57], [3, 76], [3, 79], [57, 79], [76, 79], [51, 73], [51, 82], [73, 81], [81, 82]]\n",
      "consider_path_neighbors_for_removal is set so segments_to_consider = [ 9 41 50 51 58 64 65 66 69 75 79 81 85 89 92 94 99]\n",
      "Short segments to combine = []\n",
      "Found 3 high degree coordinates to cut\n",
      "Picking [1018800.  697304.  876012.] high degree coordinates to cut\n",
      "curr_limb.deleted_edges 4=[[3, 57], [3, 76], [3, 79], [57, 79], [76, 79], [44, 46], [44, 58], [44, 69], [46, 58], [46, 69], [51, 73], [51, 82], [73, 81], [81, 82], [49, 52], [49, 61], [49, 63], [52, 61], [61, 63], [44, 46], [44, 58], [44, 69], [46, 58], [46, 69], [3, 57], [3, 76], [3, 79], [57, 79], [76, 79], [51, 73], [51, 82], [73, 81], [81, 82]]\n",
      "***inside resolve crossover!!!!****\n",
      "coordinate_branches = [75, 79, 88, 89]\n",
      "75 = red\n",
      "79 = aqua\n",
      "88 = purple\n",
      "89 = green\n"
     ]
    },
    {
     "data": {
      "application/vnd.jupyter.widget-view+json": {
       "model_id": "8eedbb7ca3294519882ab387ca0369ff",
       "version_major": 2,
       "version_minor": 0
      },
      "text/plain": [
       "VBox(children=(Figure(camera=PerspectiveCamera(fov=46.0, position=(0.0, 0.0, 2.0), quaternion=(0.0, 0.0, 0.0, …"
      ]
     },
     "metadata": {},
     "output_type": "display_data"
    },
    {
     "name": "stdout",
     "output_type": "stream",
     "text": [
      "Angle between 75 and 79 = 126.16 \n",
      "Angle between 75 and 88 = 30.16 \n",
      "Angle between 75 and 89 = 114.39 \n",
      "Angle between 79 and 88 = 64.9 \n",
      "Angle between 79 and 89 = 93.92 \n",
      "Angle between 88 and 89 = 35.47 \n",
      "Final Matches = [[75, 88]]\n",
      "matched_branches_revised = [[75, 88]]\n",
      "Aligned Skeleton Parts\n"
     ]
    },
    {
     "data": {
      "application/vnd.jupyter.widget-view+json": {
       "model_id": "0a16a4d563624e7d8306d3b19ba6e107",
       "version_major": 2,
       "version_minor": 0
      },
      "text/plain": [
       "VBox(children=(Figure(camera=PerspectiveCamera(fov=46.0, position=(0.0, 0.0, 2.0), quaternion=(0.0, 0.0, 0.0, …"
      ]
     },
     "metadata": {},
     "output_type": "display_data"
    },
    {
     "data": {
      "application/vnd.jupyter.widget-view+json": {
       "model_id": "f3c0bbeb3ab14fdfb583436976dd4113",
       "version_major": 2,
       "version_minor": 0
      },
      "text/plain": [
       "VBox(children=(Figure(camera=PerspectiveCamera(fov=46.0, position=(0.0, 0.0, 2.0), quaternion=(0.0, 0.0, 0.0, …"
      ]
     },
     "metadata": {},
     "output_type": "display_data"
    },
    {
     "name": "stdout",
     "output_type": "stream",
     "text": [
      "Original graph\n"
     ]
    },
    {
     "data": {
      "image/png": "[encoded data removed]",
      "text/plain": [
       "<Figure size 432x288 with 1 Axes>"
      ]
     },
     "metadata": {},
     "output_type": "display_data"
    },
    {
     "name": "stdout",
     "output_type": "stream",
     "text": [
      "match_branches = [[75, 88]]\n",
      "edges_to_delete (resolve crossover) = [[75, 79], [75, 89], [79, 88], [79, 89], [88, 89]]\n",
      "edges_to_create (resolve crossover) = [[75, 88]]\n",
      "curr_limb.deleted_edges 5 =[[3, 57], [3, 76], [3, 79], [57, 79], [76, 79], [44, 46], [44, 58], [44, 69], [46, 58], [46, 69], [51, 73], [51, 82], [73, 81], [81, 82], [49, 52], [49, 61], [49, 63], [52, 61], [61, 63], [44, 46], [44, 58], [44, 69], [46, 58], [46, 69], [3, 57], [3, 76], [3, 79], [57, 79], [76, 79], [51, 73], [51, 82], [73, 81], [81, 82]]\n",
      "skip_nodes = []\n",
      "edges_to_delete (cut_limb_network) = [[75, 79], [75, 89], [79, 88], [79, 89], [88, 89]]\n",
      "edges_to_create = [[75, 88]]\n",
      "Number of connected components = 15\n",
      "Comp 0 = {0, 1, 4, 5, 6, 7, 8, 10, 11, 12, 13, 14, 15, 16, 17, 19, 20, 21, 22, 23, 24, 25, 26, 27, 28, 29, 30, 31, 32, 33, 34, 35, 39, 40, 42, 45, 47, 52, 53, 54, 55, 57, 63, 73, 76, 82, 86}\n",
      "Comp 1 = {3}\n",
      "Comp 2 = {79}\n",
      "Comp 3 = {128, 129, 130, 2, 9, 38, 41, 43, 48, 50, 51, 56, 58, 59, 60, 64, 65, 66, 67, 69, 74, 75, 81, 84, 85, 88, 90, 91, 92, 94.0, 95, 98, 99, 100, 105, 106, 110, 117, 121, 122, 123, 124, 125, 126, 127}\n",
      "Comp 4 = {68, 72, 80, 83, 89}\n",
      "Comp 5 = {49}\n",
      "Comp 6 = {18, 36, 37, 61, 70, 71, 78, 93, 101, 102, 103, 104, 107, 108, 109, 111, 112, 113, 114, 116, 118.0, 119, 120}\n",
      "Comp 7 = {44}\n",
      "Comp 8 = {46}\n",
      "Comp 9 = {62}\n",
      "Comp 10 = {77}\n",
      "Comp 11 = {87}\n",
      "Comp 12 = {96}\n",
      "Comp 13 = {97}\n",
      "Comp 14 = {115}\n",
      "curr_limb_copy.deleted_edges = [[3, 57], [3, 76], [3, 79], [57, 79], [76, 79], [44, 46], [44, 58], [44, 69], [46, 58], [46, 69], [51, 73], [51, 82], [73, 81], [81, 82], [49, 52], [49, 61], [49, 63], [52, 61], [61, 63], [44, 46], [44, 58], [44, 69], [46, 58], [46, 69], [3, 57], [3, 76], [3, 79], [57, 79], [76, 79], [51, 73], [51, 82], [73, 81], [81, 82], [75, 79], [75, 89], [79, 88], [79, 89], [88, 89]]\n",
      "curr_limb_copy.created_edges = [[57, 76], [58, 69], [51, 81], [73, 82], [52, 63], [58, 69], [57, 76], [51, 81], [73, 82], [75, 88]]\n",
      "After get best cut: cut_edges = [[75, 79], [75, 89], [79, 88], [79, 89], [88, 89]], added_edges = [[75, 88]]\n",
      "total_soma_paths_to_cut = [[44, 46], [44, 58], [44, 69], [46, 58], [46, 69], [3, 57], [3, 76], [3, 79], [57, 79], [76, 79], [51, 73], [51, 82], [73, 81], [81, 82]]\n",
      "-----------counter = 3------------\n",
      " Cut iteration 4\n",
      "Total number of graphs at the end of the split BEFORE DIRECTIONAL = 15\n",
      "Total number of graphs at the end of the split AFTER DIRECTIONAL = 15\n",
      "Shortest path = [88, 75, 69, 58, 65, 66, 92, 81, 95]\n",
      "\n",
      " --------- START OF GET BEST EDGE --------- \n",
      "curr_limb.deleted_edges=[[3, 57], [3, 76], [3, 79], [57, 79], [76, 79], [44, 46], [44, 58], [44, 69], [46, 58], [46, 69], [51, 73], [51, 82], [73, 81], [81, 82], [49, 52], [49, 61], [49, 63], [52, 61], [61, 63], [44, 46], [44, 58], [44, 69], [46, 58], [46, 69], [3, 57], [3, 76], [3, 79], [57, 79], [76, 79], [51, 73], [51, 82], [73, 81], [81, 82], [75, 79], [75, 89], [79, 88], [79, 89], [88, 89]]\n",
      "consider_path_neighbors_for_removal is set so segments_to_consider = [ 9 41 50 51 58 64 65 66 69 75 81 85 92 94 99]\n",
      "Short segments to combine = []\n",
      "Found 2 high degree coordinates to cut\n",
      "Picking [1019756.66666667  684034.33333333  863510.        ] high degree coordinates to cut\n",
      "curr_limb.deleted_edges 4=[[3, 57], [3, 76], [3, 79], [57, 79], [76, 79], [44, 46], [44, 58], [44, 69], [46, 58], [46, 69], [51, 73], [51, 82], [73, 81], [81, 82], [49, 52], [49, 61], [49, 63], [52, 61], [61, 63], [44, 46], [44, 58], [44, 69], [46, 58], [46, 69], [3, 57], [3, 76], [3, 79], [57, 79], [76, 79], [51, 73], [51, 82], [73, 81], [81, 82], [75, 79], [75, 89], [79, 88], [79, 89], [88, 89]]\n",
      "***inside resolve crossover!!!!****\n",
      "coordinate_branches = [81, 92, 94, 95]\n",
      "81 = red\n",
      "92 = aqua\n",
      "94 = purple\n",
      "95 = green\n"
     ]
    },
    {
     "data": {
      "application/vnd.jupyter.widget-view+json": {
       "model_id": "0742016da90a49bda007fc4c08b4056b",
       "version_major": 2,
       "version_minor": 0
      },
      "text/plain": [
       "VBox(children=(Figure(camera=PerspectiveCamera(fov=46.0, position=(0.0, 0.0, 2.0), quaternion=(0.0, 0.0, 0.0, …"
      ]
     },
     "metadata": {},
     "output_type": "display_data"
    },
    {
     "name": "stdout",
     "output_type": "stream",
     "text": [
      "Angle between 81 and 92 = 19.64 \n",
      "Angle between 81 and 94 = 30.06 \n",
      "Angle between 81 and 95 = 140.68 \n",
      "Angle between 92 and 94 = 151.2 \n",
      "Angle between 92 and 95 = 33.22 \n",
      "Angle between 94 and 95 = 10.6 \n",
      "Final Matches = [[81, 92], [81, 94], [92, 95], [94, 95]]\n",
      "matched_branches_revised = [[94, 95], [81, 92]]\n",
      "Aligned Skeleton Parts\n"
     ]
    },
    {
     "data": {
      "application/vnd.jupyter.widget-view+json": {
       "model_id": "806c5baa37cf451aaa01cee9346f1c0c",
       "version_major": 2,
       "version_minor": 0
      },
      "text/plain": [
       "VBox(children=(Figure(camera=PerspectiveCamera(fov=46.0, position=(0.0, 0.0, 2.0), quaternion=(0.0, 0.0, 0.0, …"
      ]
     },
     "metadata": {},
     "output_type": "display_data"
    },
    {
     "data": {
      "application/vnd.jupyter.widget-view+json": {
       "model_id": "0aca90e4f06c4a1eb9a30a888dc6930d",
       "version_major": 2,
       "version_minor": 0
      },
      "text/plain": [
       "VBox(children=(Figure(camera=PerspectiveCamera(fov=46.0, position=(0.0, 0.0, 2.0), quaternion=(0.0, 0.0, 0.0, …"
      ]
     },
     "metadata": {},
     "output_type": "display_data"
    },
    {
     "data": {
      "application/vnd.jupyter.widget-view+json": {
       "model_id": "8e1be089134e4375a772ef9592612adb",
       "version_major": 2,
       "version_minor": 0
      },
      "text/plain": [
       "VBox(children=(Figure(camera=PerspectiveCamera(fov=46.0, position=(0.0, 0.0, 2.0), quaternion=(0.0, 0.0, 0.0, …"
      ]
     },
     "metadata": {},
     "output_type": "display_data"
    },
    {
     "name": "stdout",
     "output_type": "stream",
     "text": [
      "Original graph\n"
     ]
    },
    {
     "data": {
      "image/png": "[encoded data removed]",
      "text/plain": [
       "<Figure size 432x288 with 1 Axes>"
      ]
     },
     "metadata": {},
     "output_type": "display_data"
    },
    {
     "name": "stdout",
     "output_type": "stream",
     "text": [
      "match_branches = [[94, 95], [81, 92]]\n",
      "edges_to_delete (resolve crossover) = [[81, 94], [81, 95], [92, 94], [92, 95]]\n",
      "edges_to_create (resolve crossover) = [[94, 95], [81, 92]]\n",
      "curr_limb.deleted_edges 5 =[[3, 57], [3, 76], [3, 79], [57, 79], [76, 79], [44, 46], [44, 58], [44, 69], [46, 58], [46, 69], [51, 73], [51, 82], [73, 81], [81, 82], [49, 52], [49, 61], [49, 63], [52, 61], [61, 63], [44, 46], [44, 58], [44, 69], [46, 58], [46, 69], [3, 57], [3, 76], [3, 79], [57, 79], [76, 79], [51, 73], [51, 82], [73, 81], [81, 82], [75, 79], [75, 89], [79, 88], [79, 89], [88, 89]]\n",
      "skip_nodes = []\n",
      "edges_to_delete (cut_limb_network) = [[81, 94], [81, 95], [92, 94], [92, 95]]\n",
      "edges_to_create = [[94, 95], [81, 92]]\n",
      "Number of connected components = 15\n",
      "Comp 0 = {0, 1, 4, 5, 6, 7, 8, 10, 11, 12, 13, 14, 15, 16, 17, 19, 20, 21, 22, 23, 24, 25, 26, 27, 28, 29, 30, 31, 32, 33, 34, 35, 39, 40, 42, 45, 47, 52, 53, 54, 55, 57, 63, 73, 76, 82, 86}\n",
      "Comp 1 = {3}\n",
      "Comp 2 = {79}\n",
      "Comp 3 = {128, 129, 130, 2, 9, 38, 41, 43, 48, 50, 51, 56, 58, 59, 60, 64, 65, 66, 67, 69, 74, 75, 81, 84, 85, 88, 90, 91, 92, 94.0, 95, 98, 99, 100, 105, 106, 110, 117, 121, 122, 123, 124, 125, 126, 127}\n",
      "Comp 4 = {68, 72, 80, 83, 89}\n",
      "Comp 5 = {49}\n",
      "Comp 6 = {18, 36, 37, 61, 70, 71, 78, 93, 101, 102, 103, 104, 107, 108, 109, 111, 112, 113, 114, 116, 118.0, 119, 120}\n",
      "Comp 7 = {44}\n",
      "Comp 8 = {46}\n",
      "Comp 9 = {62}\n",
      "Comp 10 = {77}\n",
      "Comp 11 = {87}\n",
      "Comp 12 = {96}\n",
      "Comp 13 = {97}\n",
      "Comp 14 = {115}\n",
      "curr_limb_copy.deleted_edges = [[3, 57], [3, 76], [3, 79], [57, 79], [76, 79], [44, 46], [44, 58], [44, 69], [46, 58], [46, 69], [51, 73], [51, 82], [73, 81], [81, 82], [49, 52], [49, 61], [49, 63], [52, 61], [61, 63], [44, 46], [44, 58], [44, 69], [46, 58], [46, 69], [3, 57], [3, 76], [3, 79], [57, 79], [76, 79], [51, 73], [51, 82], [73, 81], [81, 82], [75, 79], [75, 89], [79, 88], [79, 89], [88, 89], [81, 94], [81, 95], [92, 94], [92, 95]]\n",
      "curr_limb_copy.created_edges = [[57, 76], [58, 69], [51, 81], [73, 82], [52, 63], [58, 69], [57, 76], [51, 81], [73, 82], [75, 88], [94, 95], [81, 92]]\n",
      "After get best cut: cut_edges = [[81, 94], [81, 95], [92, 94], [92, 95]], added_edges = [[94, 95], [81, 92]]\n",
      "total_soma_paths_to_cut = [[44, 46], [44, 58], [44, 69], [46, 58], [46, 69], [3, 57], [3, 76], [3, 79], [57, 79], [76, 79], [51, 73], [51, 82], [73, 81], [81, 82], [75, 79], [75, 89], [79, 88], [79, 89], [88, 89]]\n",
      "-----------counter = 4------------\n",
      " Cut iteration 5\n",
      "Total number of graphs at the end of the split BEFORE DIRECTIONAL = 15\n",
      "Total number of graphs at the end of the split AFTER DIRECTIONAL = 15\n",
      "Shortest path = [88, 75, 69, 58, 65, 66, 94, 95]\n",
      "\n",
      " --------- START OF GET BEST EDGE --------- \n",
      "curr_limb.deleted_edges=[[3, 57], [3, 76], [3, 79], [57, 79], [76, 79], [44, 46], [44, 58], [44, 69], [46, 58], [46, 69], [51, 73], [51, 82], [73, 81], [81, 82], [49, 52], [49, 61], [49, 63], [52, 61], [61, 63], [44, 46], [44, 58], [44, 69], [46, 58], [46, 69], [3, 57], [3, 76], [3, 79], [57, 79], [76, 79], [51, 73], [51, 82], [73, 81], [81, 82], [75, 79], [75, 89], [79, 88], [79, 89], [88, 89], [81, 94], [81, 95], [92, 94], [92, 95]]\n",
      "consider_path_neighbors_for_removal is set so segments_to_consider = [ 9 41 50 58 64 65 66 69 75 85 92 94 99]\n",
      "Short segments to combine = []\n",
      "Found 1 high degree coordinates to cut\n",
      "Picking [1020440.    681927.75  865893.5 ] high degree coordinates to cut\n",
      "curr_limb.deleted_edges 4=[[3, 57], [3, 76], [3, 79], [57, 79], [76, 79], [44, 46], [44, 58], [44, 69], [46, 58], [46, 69], [51, 73], [51, 82], [73, 81], [81, 82], [49, 52], [49, 61], [49, 63], [52, 61], [61, 63], [44, 46], [44, 58], [44, 69], [46, 58], [46, 69], [3, 57], [3, 76], [3, 79], [57, 79], [76, 79], [51, 73], [51, 82], [73, 81], [81, 82], [75, 79], [75, 89], [79, 88], [79, 89], [88, 89], [81, 94], [81, 95], [92, 94], [92, 95]]\n",
      "***inside resolve crossover!!!!****\n",
      "coordinate_branches = [9, 66, 85, 92, 94, 99]\n",
      "9 = red\n",
      "66 = aqua\n",
      "85 = purple\n",
      "92 = green\n"
     ]
    },
    {
     "data": {
      "application/vnd.jupyter.widget-view+json": {
       "model_id": "d3953787bda246379c8483d6feae5091",
       "version_major": 2,
       "version_minor": 0
      },
      "text/plain": [
       "VBox(children=(Figure(camera=PerspectiveCamera(fov=46.0, position=(0.0, 0.0, 2.0), quaternion=(0.0, 0.0, 0.0, …"
      ]
     },
     "metadata": {},
     "output_type": "display_data"
    },
    {
     "name": "stdout",
     "output_type": "stream",
     "text": [
      "Angle between 9 and 66 = 95.71 \n",
      "Angle between 9 and 85 = 93.85 \n",
      "Angle between 9 and 92 = 94.13 \n",
      "Angle between 9 and 94 = 99.22 \n",
      "Angle between 9 and 99 = 30.0 \n",
      "Angle between 66 and 85 = 129.22 \n",
      "Angle between 66 and 92 = 63.01 \n",
      "Angle between 66 and 94 = 91.19 \n",
      "Angle between 66 and 99 = 57.25 \n",
      "Angle between 85 and 92 = 13.9 \n",
      "Angle between 85 and 94 = 41.33 \n",
      "Angle between 85 and 99 = 79.14 \n",
      "Angle between 92 and 94 = 151.78 \n",
      "Angle between 92 and 99 = 88.29 \n",
      "Angle between 94 and 99 = 70.05 \n",
      "Final Matches = [[9, 99], [85, 92]]\n",
      "matched_branches_revised = [[85, 92], [9, 99]]\n",
      "Aligned Skeleton Parts\n"
     ]
    },
    {
     "data": {
      "application/vnd.jupyter.widget-view+json": {
       "model_id": "10dd1fbfef004a5594393194f5866fea",
       "version_major": 2,
       "version_minor": 0
      },
      "text/plain": [
       "VBox(children=(Figure(camera=PerspectiveCamera(fov=46.0, position=(0.0, 0.0, 2.0), quaternion=(0.0, 0.0, 0.0, …"
      ]
     },
     "metadata": {},
     "output_type": "display_data"
    },
    {
     "data": {
      "application/vnd.jupyter.widget-view+json": {
       "model_id": "3fb53670c49d4429ac05f8fc98f2adf9",
       "version_major": 2,
       "version_minor": 0
      },
      "text/plain": [
       "VBox(children=(Figure(camera=PerspectiveCamera(fov=46.0, position=(0.0, 0.0, 2.0), quaternion=(0.0, 0.0, 0.0, …"
      ]
     },
     "metadata": {},
     "output_type": "display_data"
    },
    {
     "data": {
      "application/vnd.jupyter.widget-view+json": {
       "model_id": "cebc6d063bda44c29af0e0856f4503cc",
       "version_major": 2,
       "version_minor": 0
      },
      "text/plain": [
       "VBox(children=(Figure(camera=PerspectiveCamera(fov=46.0, position=(0.0, 0.0, 2.0), quaternion=(0.0, 0.0, 0.0, …"
      ]
     },
     "metadata": {},
     "output_type": "display_data"
    },
    {
     "name": "stdout",
     "output_type": "stream",
     "text": [
      "Original graph\n"
     ]
    },
    {
     "data": {
      "image/png": "[encoded data removed]",
      "text/plain": [
       "<Figure size 432x288 with 1 Axes>"
      ]
     },
     "metadata": {},
     "output_type": "display_data"
    },
    {
     "name": "stdout",
     "output_type": "stream",
     "text": [
      "match_branches = [[85, 92], [9, 99]]\n",
      "edges_to_delete (resolve crossover) = [[9, 66], [9, 85], [9, 92], [9, 94], [66, 85], [66, 92], [66, 94], [66, 99], [85, 94], [85, 99], [92, 94], [92, 99], [94, 99]]\n",
      "edges_to_create (resolve crossover) = [[85, 92], [9, 99]]\n",
      "curr_limb.deleted_edges 5 =[[3, 57], [3, 76], [3, 79], [57, 79], [76, 79], [44, 46], [44, 58], [44, 69], [46, 58], [46, 69], [51, 73], [51, 82], [73, 81], [81, 82], [49, 52], [49, 61], [49, 63], [52, 61], [61, 63], [44, 46], [44, 58], [44, 69], [46, 58], [46, 69], [3, 57], [3, 76], [3, 79], [57, 79], [76, 79], [51, 73], [51, 82], [73, 81], [81, 82], [75, 79], [75, 89], [79, 88], [79, 89], [88, 89], [81, 94], [81, 95], [92, 94], [92, 95]]\n",
      "skip_nodes = []\n",
      "edges_to_delete (cut_limb_network) = [[9, 66], [9, 85], [9, 92], [9, 94], [66, 85], [66, 92], [66, 94], [66, 99], [85, 94], [85, 99], [92, 94], [92, 99], [94, 99]]\n",
      "edges_to_create = [[85, 92], [9, 99]]\n",
      "Number of connected components = 18\n",
      "Comp 0 = {0, 1, 4, 5, 6, 7, 8, 10, 11, 12, 13, 14, 15, 16, 17, 19, 20, 21, 22, 23, 24, 25, 26, 27, 28, 29, 30, 31, 32, 33, 34, 35, 39, 40, 42, 45, 47, 52, 53, 54, 55, 57, 63, 73, 76, 82, 86}\n",
      "Comp 1 = {3}\n",
      "Comp 2 = {79}\n",
      "Comp 3 = {129, 98, 130, 122, 123, 110, 124, 81, 51, 85, 121, 90, 91, 92}\n",
      "Comp 4 = {128, 2, 38, 41, 43, 48, 50, 56, 58, 59, 60, 64, 65, 66, 67, 69, 74, 75, 84, 88, 100, 105, 106, 117, 125, 126, 127}\n",
      "Comp 5 = {68, 72, 80, 83, 89}\n",
      "Comp 6 = {94, 95}\n",
      "Comp 7 = {49}\n",
      "Comp 8 = {18, 36, 37, 61, 70, 71, 78, 93, 101, 102, 103, 104, 107, 108, 109, 111, 112, 113, 114, 116, 118.0, 119, 120}\n",
      "Comp 9 = {9, 99}\n",
      "Comp 10 = {44}\n",
      "Comp 11 = {46}\n",
      "Comp 12 = {62}\n",
      "Comp 13 = {77}\n",
      "Comp 14 = {87}\n",
      "Comp 15 = {96}\n",
      "Comp 16 = {97}\n",
      "Comp 17 = {115}\n",
      "curr_limb_copy.deleted_edges = [[3, 57], [3, 76], [3, 79], [57, 79], [76, 79], [44, 46], [44, 58], [44, 69], [46, 58], [46, 69], [51, 73], [51, 82], [73, 81], [81, 82], [49, 52], [49, 61], [49, 63], [52, 61], [61, 63], [44, 46], [44, 58], [44, 69], [46, 58], [46, 69], [3, 57], [3, 76], [3, 79], [57, 79], [76, 79], [51, 73], [51, 82], [73, 81], [81, 82], [75, 79], [75, 89], [79, 88], [79, 89], [88, 89], [81, 94], [81, 95], [92, 94], [92, 95], [9, 66], [9, 85], [9, 92], [9, 94], [66, 85], [66, 92], [66, 94], [66, 99], [85, 94], [85, 99], [92, 94], [92, 99], [94, 99]]\n",
      "curr_limb_copy.created_edges = [[57, 76], [58, 69], [51, 81], [73, 82], [52, 63], [58, 69], [57, 76], [51, 81], [73, 82], [75, 88], [94, 95], [81, 92], [85, 92], [9, 99]]\n",
      "After get best cut: cut_edges = [[9, 66], [9, 85], [9, 92], [9, 94], [66, 85], [66, 92], [66, 94], [66, 99], [85, 94], [85, 99], [92, 94], [92, 99], [94, 99]], added_edges = [[85, 92], [9, 99]]\n",
      "total_soma_paths_to_cut = [[44, 46], [44, 58], [44, 69], [46, 58], [46, 69], [3, 57], [3, 76], [3, 79], [57, 79], [76, 79], [51, 73], [51, 82], [73, 81], [81, 82], [75, 79], [75, 89], [79, 88], [79, 89], [88, 89], [81, 94], [81, 95], [92, 94], [92, 95]]\n",
      "-----------counter = 5------------\n",
      " Cut iteration 6\n",
      "Total number of graphs at the end of the split BEFORE DIRECTIONAL = 18\n",
      "Total number of graphs at the end of the split AFTER DIRECTIONAL = 18\n",
      "No valid path so moving onto the next connection\n",
      "\n",
      "\n",
      "---- working on disconnecting 88 and 99\n",
      "---- This disconnects S1_2 from S1_3  \n",
      " Cut iteration 0\n",
      "Total number of graphs at the end of the split BEFORE DIRECTIONAL = 18\n",
      "Total number of graphs at the end of the split AFTER DIRECTIONAL = 18\n",
      "No valid path so moving onto the next connection\n",
      "\n",
      "\n",
      "---- working on disconnecting 88 and 105\n",
      "---- This disconnects S1_2 from S0_1  \n",
      " Cut iteration 0\n",
      "Total number of graphs at the end of the split BEFORE DIRECTIONAL = 18\n",
      "Total number of graphs at the end of the split AFTER DIRECTIONAL = 18\n",
      "Shortest path = [88, 75, 69, 58, 65, 64, 84, 100, 105]\n",
      "\n",
      " --------- START OF GET BEST EDGE --------- \n",
      "curr_limb.deleted_edges=[[3, 57], [3, 76], [3, 79], [57, 79], [76, 79], [44, 46], [44, 58], [44, 69], [46, 58], [46, 69], [51, 73], [51, 82], [73, 81], [81, 82], [49, 52], [49, 61], [49, 63], [52, 61], [61, 63], [44, 46], [44, 58], [44, 69], [46, 58], [46, 69], [3, 57], [3, 76], [3, 79], [57, 79], [76, 79], [51, 73], [51, 82], [73, 81], [81, 82], [75, 79], [75, 89], [79, 88], [79, 89], [88, 89], [81, 94], [81, 95], [92, 94], [92, 95], [9, 66], [9, 85], [9, 92], [9, 94], [66, 85], [66, 92], [66, 94], [66, 99], [85, 94], [85, 99], [92, 94], [92, 99], [94, 99]]\n",
      "consider_path_neighbors_for_removal is set so segments_to_consider = [ 50  58  64  65  66  67  69  74  75  84 100 106]\n",
      "Short segments to combine = []\n",
      "Found 2 high degree coordinates to cut\n",
      "Picking [1005710.  697517.  885512.] high degree coordinates to cut\n",
      "curr_limb.deleted_edges 4=[[3, 57], [3, 76], [3, 79], [57, 79], [76, 79], [44, 46], [44, 58], [44, 69], [46, 58], [46, 69], [51, 73], [51, 82], [73, 81], [81, 82], [49, 52], [49, 61], [49, 63], [52, 61], [61, 63], [44, 46], [44, 58], [44, 69], [46, 58], [46, 69], [3, 57], [3, 76], [3, 79], [57, 79], [76, 79], [51, 73], [51, 82], [73, 81], [81, 82], [75, 79], [75, 89], [79, 88], [79, 89], [88, 89], [81, 94], [81, 95], [92, 94], [92, 95], [9, 66], [9, 85], [9, 92], [9, 94], [66, 85], [66, 92], [66, 94], [66, 99], [85, 94], [85, 99], [92, 94], [92, 99], [94, 99]]\n",
      "***inside resolve crossover!!!!****\n",
      "coordinate_branches = [44, 46, 58, 69]\n",
      "44 = red\n",
      "46 = aqua\n",
      "58 = purple\n",
      "69 = green\n"
     ]
    },
    {
     "data": {
      "application/vnd.jupyter.widget-view+json": {
       "model_id": "23972653d83f466fbc28d4948935e2e7",
       "version_major": 2,
       "version_minor": 0
      },
      "text/plain": [
       "VBox(children=(Figure(camera=PerspectiveCamera(fov=46.0, position=(0.0, 0.0, 2.0), quaternion=(0.0, 0.0, 0.0, …"
      ]
     },
     "metadata": {},
     "output_type": "display_data"
    },
    {
     "name": "stdout",
     "output_type": "stream",
     "text": [
      "Angle between 44 and 46 = 174.24 \n",
      "Angle between 44 and 58 = 172.24 \n",
      "Angle between 44 and 69 = 16.9 \n",
      "Angle between 46 and 58 = 170.74 \n",
      "Angle between 46 and 69 = 16.14 \n",
      "Angle between 58 and 69 = 9.47 \n",
      "Final Matches = [[44, 69], [46, 69], [58, 69]]\n",
      "matched_branches_revised = [[58, 69]]\n",
      "Aligned Skeleton Parts\n"
     ]
    },
    {
     "data": {
      "application/vnd.jupyter.widget-view+json": {
       "model_id": "72583bb45d5e499a8f17c3279aec0ee3",
       "version_major": 2,
       "version_minor": 0
      },
      "text/plain": [
       "VBox(children=(Figure(camera=PerspectiveCamera(fov=46.0, position=(0.0, 0.0, 2.0), quaternion=(0.0, 0.0, 0.0, …"
      ]
     },
     "metadata": {},
     "output_type": "display_data"
    },
    {
     "data": {
      "application/vnd.jupyter.widget-view+json": {
       "model_id": "751705ecd8e74bbba757d7106a22c26e",
       "version_major": 2,
       "version_minor": 0
      },
      "text/plain": [
       "VBox(children=(Figure(camera=PerspectiveCamera(fov=46.0, position=(0.0, 0.0, 2.0), quaternion=(0.0, 0.0, 0.0, …"
      ]
     },
     "metadata": {},
     "output_type": "display_data"
    },
    {
     "name": "stdout",
     "output_type": "stream",
     "text": [
      "Original graph\n"
     ]
    },
    {
     "data": {
      "image/png": "[encoded data removed]",
      "text/plain": [
       "<Figure size 432x288 with 1 Axes>"
      ]
     },
     "metadata": {},
     "output_type": "display_data"
    },
    {
     "name": "stdout",
     "output_type": "stream",
     "text": [
      "match_branches = [[58, 69]]\n",
      "edges_to_delete (resolve crossover) = [[44, 46], [44, 58], [44, 69], [46, 58], [46, 69]]\n",
      "edges_to_create (resolve crossover) = [[58, 69]]\n",
      "curr_limb.deleted_edges 5 =[[3, 57], [3, 76], [3, 79], [57, 79], [76, 79], [44, 46], [44, 58], [44, 69], [46, 58], [46, 69], [51, 73], [51, 82], [73, 81], [81, 82], [49, 52], [49, 61], [49, 63], [52, 61], [61, 63], [44, 46], [44, 58], [44, 69], [46, 58], [46, 69], [3, 57], [3, 76], [3, 79], [57, 79], [76, 79], [51, 73], [51, 82], [73, 81], [81, 82], [75, 79], [75, 89], [79, 88], [79, 89], [88, 89], [81, 94], [81, 95], [92, 94], [92, 95], [9, 66], [9, 85], [9, 92], [9, 94], [66, 85], [66, 92], [66, 94], [66, 99], [85, 94], [85, 99], [92, 94], [92, 99], [94, 99]]\n",
      "Skipping endnode 105 because skeletal distance was 592.115544039816 and threshold was 2500\n",
      "skip_nodes = [105]\n",
      "edges_to_delete (cut_limb_network) = [[44, 46], [44, 58], [44, 69], [46, 58], [46, 69]]\n",
      "edges_to_create = [[58, 69]]\n",
      "Number of connected components = 18\n",
      "Comp 0 = {0, 1, 4, 5, 6, 7, 8, 10, 11, 12, 13, 14, 15, 16, 17, 19, 20, 21, 22, 23, 24, 25, 26, 27, 28, 29, 30, 31, 32, 33, 34, 35, 39, 40, 42, 45, 47, 52, 53, 54, 55, 57, 63, 73, 76, 82, 86}\n",
      "Comp 1 = {3}\n",
      "Comp 2 = {79}\n",
      "Comp 3 = {129, 98, 130, 122, 123, 110, 124, 81, 51, 85, 121, 90, 91, 92}\n",
      "Comp 4 = {128, 2, 38, 41, 43, 48, 50, 56, 58, 59, 60, 64, 65, 66, 67, 69, 74, 75, 84, 88, 100, 105, 106, 117, 125, 126, 127}\n",
      "Comp 5 = {68, 72, 80, 83, 89}\n",
      "Comp 6 = {94, 95}\n",
      "Comp 7 = {49}\n",
      "Comp 8 = {18, 36, 37, 61, 70, 71, 78, 93, 101, 102, 103, 104, 107, 108, 109, 111, 112, 113, 114, 116, 118.0, 119, 120}\n",
      "Comp 9 = {9, 99}\n",
      "Comp 10 = {44}\n",
      "Comp 11 = {46}\n",
      "Comp 12 = {62}\n",
      "Comp 13 = {77}\n",
      "Comp 14 = {87}\n",
      "Comp 15 = {96}\n",
      "Comp 16 = {97}\n",
      "Comp 17 = {115}\n",
      "curr_limb_copy.deleted_edges = [[3, 57], [3, 76], [3, 79], [57, 79], [76, 79], [44, 46], [44, 58], [44, 69], [46, 58], [46, 69], [51, 73], [51, 82], [73, 81], [81, 82], [49, 52], [49, 61], [49, 63], [52, 61], [61, 63], [44, 46], [44, 58], [44, 69], [46, 58], [46, 69], [3, 57], [3, 76], [3, 79], [57, 79], [76, 79], [51, 73], [51, 82], [73, 81], [81, 82], [75, 79], [75, 89], [79, 88], [79, 89], [88, 89], [81, 94], [81, 95], [92, 94], [92, 95], [9, 66], [9, 85], [9, 92], [9, 94], [66, 85], [66, 92], [66, 94], [66, 99], [85, 94], [85, 99], [92, 94], [92, 99], [94, 99], [44, 46], [44, 58], [44, 69], [46, 58], [46, 69]]\n",
      "curr_limb_copy.created_edges = [[57, 76], [58, 69], [51, 81], [73, 82], [52, 63], [58, 69], [57, 76], [51, 81], [73, 82], [75, 88], [94, 95], [81, 92], [85, 92], [9, 99], [58, 69]]\n",
      "After get best cut: cut_edges = [[44, 46], [44, 58], [44, 69], [46, 58], [46, 69]], added_edges = [[58, 69]]\n",
      "total_soma_paths_to_cut = []\n",
      "-----------counter = 0------------\n",
      " Cut iteration 1\n",
      "Total number of graphs at the end of the split BEFORE DIRECTIONAL = 18\n",
      "Total number of graphs at the end of the split AFTER DIRECTIONAL = 18\n",
      "Shortest path = [88, 75, 69, 58, 65, 64, 84, 100, 105]\n",
      "\n",
      " --------- START OF GET BEST EDGE --------- \n",
      "curr_limb.deleted_edges=[[3, 57], [3, 76], [3, 79], [57, 79], [76, 79], [44, 46], [44, 58], [44, 69], [46, 58], [46, 69], [51, 73], [51, 82], [73, 81], [81, 82], [49, 52], [49, 61], [49, 63], [52, 61], [61, 63], [44, 46], [44, 58], [44, 69], [46, 58], [46, 69], [3, 57], [3, 76], [3, 79], [57, 79], [76, 79], [51, 73], [51, 82], [73, 81], [81, 82], [75, 79], [75, 89], [79, 88], [79, 89], [88, 89], [81, 94], [81, 95], [92, 94], [92, 95], [9, 66], [9, 85], [9, 92], [9, 94], [66, 85], [66, 92], [66, 94], [66, 99], [85, 94], [85, 99], [92, 94], [92, 99], [94, 99], [44, 46], [44, 58], [44, 69], [46, 58], [46, 69]]\n",
      "consider_path_neighbors_for_removal is set so segments_to_consider = [ 50  58  64  65  66  67  69  74  75  84 100 106]\n",
      "Short segments to combine = []\n",
      "Found 1 high degree coordinates to cut\n",
      "Picking [1018800.  697304.  876012.] high degree coordinates to cut\n",
      "curr_limb.deleted_edges 4=[[3, 57], [3, 76], [3, 79], [57, 79], [76, 79], [44, 46], [44, 58], [44, 69], [46, 58], [46, 69], [51, 73], [51, 82], [73, 81], [81, 82], [49, 52], [49, 61], [49, 63], [52, 61], [61, 63], [44, 46], [44, 58], [44, 69], [46, 58], [46, 69], [3, 57], [3, 76], [3, 79], [57, 79], [76, 79], [51, 73], [51, 82], [73, 81], [81, 82], [75, 79], [75, 89], [79, 88], [79, 89], [88, 89], [81, 94], [81, 95], [92, 94], [92, 95], [9, 66], [9, 85], [9, 92], [9, 94], [66, 85], [66, 92], [66, 94], [66, 99], [85, 94], [85, 99], [92, 94], [92, 99], [94, 99], [44, 46], [44, 58], [44, 69], [46, 58], [46, 69]]\n",
      "***inside resolve crossover!!!!****\n",
      "coordinate_branches = [75, 79, 88, 89]\n",
      "75 = red\n",
      "79 = aqua\n",
      "88 = purple\n",
      "89 = green\n"
     ]
    },
    {
     "data": {
      "application/vnd.jupyter.widget-view+json": {
       "model_id": "ea5631d9f059402887c1ed3838e9e693",
       "version_major": 2,
       "version_minor": 0
      },
      "text/plain": [
       "VBox(children=(Figure(camera=PerspectiveCamera(fov=46.0, position=(0.0, 0.0, 2.0), quaternion=(0.0, 0.0, 0.0, …"
      ]
     },
     "metadata": {},
     "output_type": "display_data"
    },
    {
     "name": "stdout",
     "output_type": "stream",
     "text": [
      "Angle between 75 and 79 = 126.16 \n",
      "Angle between 75 and 88 = 30.16 \n",
      "Angle between 75 and 89 = 114.39 \n",
      "Angle between 79 and 88 = 64.9 \n",
      "Angle between 79 and 89 = 93.92 \n",
      "Angle between 88 and 89 = 35.47 \n",
      "Final Matches = [[75, 88]]\n",
      "matched_branches_revised = [[75, 88]]\n",
      "Aligned Skeleton Parts\n"
     ]
    },
    {
     "data": {
      "application/vnd.jupyter.widget-view+json": {
       "model_id": "b0e528323c1249c5b1998ab02d097cae",
       "version_major": 2,
       "version_minor": 0
      },
      "text/plain": [
       "VBox(children=(Figure(camera=PerspectiveCamera(fov=46.0, position=(0.0, 0.0, 2.0), quaternion=(0.0, 0.0, 0.0, …"
      ]
     },
     "metadata": {},
     "output_type": "display_data"
    },
    {
     "data": {
      "application/vnd.jupyter.widget-view+json": {
       "model_id": "75d5e6f70ea94b13865912b439dc4835",
       "version_major": 2,
       "version_minor": 0
      },
      "text/plain": [
       "VBox(children=(Figure(camera=PerspectiveCamera(fov=46.0, position=(0.0, 0.0, 2.0), quaternion=(0.0, 0.0, 0.0, …"
      ]
     },
     "metadata": {},
     "output_type": "display_data"
    },
    {
     "name": "stdout",
     "output_type": "stream",
     "text": [
      "Original graph\n"
     ]
    },
    {
     "data": {
      "image/png": "[encoded data removed]",
      "text/plain": [
       "<Figure size 432x288 with 1 Axes>"
      ]
     },
     "metadata": {},
     "output_type": "display_data"
    },
    {
     "name": "stdout",
     "output_type": "stream",
     "text": [
      "match_branches = [[75, 88]]\n",
      "edges_to_delete (resolve crossover) = [[75, 79], [75, 89], [79, 88], [79, 89], [88, 89]]\n",
      "edges_to_create (resolve crossover) = [[75, 88]]\n",
      "curr_limb.deleted_edges 5 =[[3, 57], [3, 76], [3, 79], [57, 79], [76, 79], [44, 46], [44, 58], [44, 69], [46, 58], [46, 69], [51, 73], [51, 82], [73, 81], [81, 82], [49, 52], [49, 61], [49, 63], [52, 61], [61, 63], [44, 46], [44, 58], [44, 69], [46, 58], [46, 69], [3, 57], [3, 76], [3, 79], [57, 79], [76, 79], [51, 73], [51, 82], [73, 81], [81, 82], [75, 79], [75, 89], [79, 88], [79, 89], [88, 89], [81, 94], [81, 95], [92, 94], [92, 95], [9, 66], [9, 85], [9, 92], [9, 94], [66, 85], [66, 92], [66, 94], [66, 99], [85, 94], [85, 99], [92, 94], [92, 99], [94, 99], [44, 46], [44, 58], [44, 69], [46, 58], [46, 69]]\n",
      "Skipping endnode 105 because skeletal distance was 592.115544039816 and threshold was 2500\n",
      "skip_nodes = [105]\n",
      "edges_to_delete (cut_limb_network) = [[75, 79], [75, 89], [79, 88], [79, 89], [88, 89]]\n",
      "edges_to_create = [[75, 88]]\n",
      "Number of connected components = 18\n",
      "Comp 0 = {0, 1, 4, 5, 6, 7, 8, 10, 11, 12, 13, 14, 15, 16, 17, 19, 20, 21, 22, 23, 24, 25, 26, 27, 28, 29, 30, 31, 32, 33, 34, 35, 39, 40, 42, 45, 47, 52, 53, 54, 55, 57, 63, 73, 76, 82, 86}\n",
      "Comp 1 = {3}\n",
      "Comp 2 = {79}\n",
      "Comp 3 = {129, 98, 130, 122, 123, 110, 124, 81, 51, 85, 121, 90, 91, 92}\n",
      "Comp 4 = {128, 2, 38, 41, 43, 48, 50, 56, 58, 59, 60, 64, 65, 66, 67, 69, 74, 75, 84, 88, 100, 105, 106, 117, 125, 126, 127}\n",
      "Comp 5 = {68, 72, 80, 83, 89}\n",
      "Comp 6 = {94, 95}\n",
      "Comp 7 = {49}\n",
      "Comp 8 = {18, 36, 37, 61, 70, 71, 78, 93, 101, 102, 103, 104, 107, 108, 109, 111, 112, 113, 114, 116, 118.0, 119, 120}\n",
      "Comp 9 = {9, 99}\n",
      "Comp 10 = {44}\n",
      "Comp 11 = {46}\n",
      "Comp 12 = {62}\n",
      "Comp 13 = {77}\n",
      "Comp 14 = {87}\n",
      "Comp 15 = {96}\n",
      "Comp 16 = {97}\n",
      "Comp 17 = {115}\n",
      "curr_limb_copy.deleted_edges = [[3, 57], [3, 76], [3, 79], [57, 79], [76, 79], [44, 46], [44, 58], [44, 69], [46, 58], [46, 69], [51, 73], [51, 82], [73, 81], [81, 82], [49, 52], [49, 61], [49, 63], [52, 61], [61, 63], [44, 46], [44, 58], [44, 69], [46, 58], [46, 69], [3, 57], [3, 76], [3, 79], [57, 79], [76, 79], [51, 73], [51, 82], [73, 81], [81, 82], [75, 79], [75, 89], [79, 88], [79, 89], [88, 89], [81, 94], [81, 95], [92, 94], [92, 95], [9, 66], [9, 85], [9, 92], [9, 94], [66, 85], [66, 92], [66, 94], [66, 99], [85, 94], [85, 99], [92, 94], [92, 99], [94, 99], [44, 46], [44, 58], [44, 69], [46, 58], [46, 69], [75, 79], [75, 89], [79, 88], [79, 89], [88, 89]]\n",
      "curr_limb_copy.created_edges = [[57, 76], [58, 69], [51, 81], [73, 82], [52, 63], [58, 69], [57, 76], [51, 81], [73, 82], [75, 88], [94, 95], [81, 92], [85, 92], [9, 99], [58, 69], [75, 88]]\n",
      "After get best cut: cut_edges = [[75, 79], [75, 89], [79, 88], [79, 89], [88, 89]], added_edges = [[75, 88]]\n",
      "total_soma_paths_to_cut = [[44, 46], [44, 58], [44, 69], [46, 58], [46, 69]]\n",
      "-----------counter = 1------------\n",
      " Cut iteration 2\n",
      "Total number of graphs at the end of the split BEFORE DIRECTIONAL = 18\n",
      "Total number of graphs at the end of the split AFTER DIRECTIONAL = 18\n",
      "Shortest path = [88, 75, 69, 58, 65, 64, 84, 100, 105]\n",
      "\n",
      " --------- START OF GET BEST EDGE --------- \n",
      "curr_limb.deleted_edges=[[3, 57], [3, 76], [3, 79], [57, 79], [76, 79], [44, 46], [44, 58], [44, 69], [46, 58], [46, 69], [51, 73], [51, 82], [73, 81], [81, 82], [49, 52], [49, 61], [49, 63], [52, 61], [61, 63], [44, 46], [44, 58], [44, 69], [46, 58], [46, 69], [3, 57], [3, 76], [3, 79], [57, 79], [76, 79], [51, 73], [51, 82], [73, 81], [81, 82], [75, 79], [75, 89], [79, 88], [79, 89], [88, 89], [81, 94], [81, 95], [92, 94], [92, 95], [9, 66], [9, 85], [9, 92], [9, 94], [66, 85], [66, 92], [66, 94], [66, 99], [85, 94], [85, 99], [92, 94], [92, 99], [94, 99], [44, 46], [44, 58], [44, 69], [46, 58], [46, 69], [75, 79], [75, 89], [79, 88], [79, 89], [88, 89]]\n",
      "consider_path_neighbors_for_removal is set so segments_to_consider = [ 50  58  64  65  66  67  69  74  75  84 100 106]\n",
      "Short segments to combine = []\n",
      "Found 0 high degree coordinates to cut\n",
      "Skipping endnode 105 because skeletal distance was 592.115544039816 and threshold was 2500\n",
      "skip_nodes = [105]\n",
      "\n",
      "Attempting the doubling back check (symmetrical so don't need to check from both sides)\n"
     ]
    },
    {
     "data": {
      "application/vnd.jupyter.widget-view+json": {
       "model_id": "bc1a80fa87f44eabbecc746b3af024a7",
       "version_major": 2,
       "version_minor": 0
      },
      "text/plain": [
       "HBox(children=(FloatProgress(value=0.0, max=7.0), HTML(value='')))"
      ]
     },
     "metadata": {},
     "output_type": "display_data"
    },
    {
     "name": "stdout",
     "output_type": "stream",
     "text": [
      "  Edge: [88 75]: curr_angle = 29.97\n",
      "  Edge: [75 69]: curr_angle = 30.09\n",
      "  Edge: [69 58]: curr_angle = 12.51\n",
      "  Edge: [58 65]: curr_angle = 81.79\n",
      "  Edge: [65 64]: curr_angle = 87.31\n",
      "  Edge: [64 84]: curr_angle = 39.02\n",
      "  Edge: [ 84 100]: curr_angle = 75.8\n",
      "\n",
      "Total time for doubling_back = 0.3571949005126953\n",
      "\n",
      "Attempting the width jump check (attempting from both sides)\n",
      "  Edge: [88 75]: jump = -239.23\n",
      "  Edge: [75 69]: jump = -144.97\n",
      "  Edge: [69 58]: jump = -68.86\n",
      "  Edge: [58 65]: jump = -223.03\n",
      "  Edge: [65 64]: jump = 216.83\n",
      "Adding error edge [65 64] because width jump was 216.82574037400224\n",
      "  Edge: [64 84]: jump = 96.2\n",
      "  Edge: [ 84 100]: jump = 239.65\n",
      "Adding error edge [ 84 100] because width jump was 239.65093317445616\n",
      "Total time for width = 0.3306589126586914\n",
      "Path starting at 88 had err_edges: [[65, 64], [84, 100]]\n",
      "  Edge: [100  84]: jump = -239.65\n",
      "  Edge: [84 64]: jump = -96.2\n",
      "  Edge: [64 65]: jump = -210.72\n",
      "  Edge: [65 58]: jump = 229.13\n",
      "Adding error edge [65 58] because width jump was 229.1345225759393\n",
      "  Edge: [58 69]: jump = 68.86\n",
      "  Edge: [69 75]: jump = 144.97\n",
      "  Edge: [75 88]: jump = 239.23\n",
      "Adding error edge [75 88] because width jump was 239.22716827027705\n",
      "Total time for width = 0.32207584381103516\n",
      "Path starting at 105 had err_edges: [[65, 58], [75, 88]]\n",
      "first_error_sizes = [216.82574037400224, 229.1345225759393], winning_path = 1\n",
      "***inside resolve crossover!!!!****\n",
      "coordinate_branches = [58, 64, 65]\n",
      "58 = red\n",
      "64 = aqua\n",
      "65 = purple\n",
      "Angle between 58 and 64 = 3.25 \n",
      "Angle between 58 and 65 = 92.47 \n",
      "Angle between 64 and 65 = 90.42 \n",
      "Final Matches = [[58, 64]]\n",
      "matched_branches_revised = [[58, 64]]\n",
      "Original graph\n"
     ]
    },
    {
     "data": {
      "image/png": "[encoded data removed]",
      "text/plain": [
       "<Figure size 432x288 with 1 Axes>"
      ]
     },
     "metadata": {},
     "output_type": "display_data"
    },
    {
     "name": "stdout",
     "output_type": "stream",
     "text": [
      "match_branches = [[58, 64]]\n",
      "edges_to_delete (resolve crossover) = [[58, 65], [64, 65]]\n",
      "edges_to_create (resolve crossover) = [[58, 64]]\n",
      "edges_to_delete (cut_limb_network) = [array([58, 65]), array([64, 65])]\n",
      "edges_to_create = [[58, 64]]\n",
      "Number of connected components = 19\n",
      "Comp 0 = {0, 1, 4, 5, 6, 7, 8, 10, 11, 12, 13, 14, 15, 16, 17, 19, 20, 21, 22, 23, 24, 25, 26, 27, 28, 29, 30, 31, 32, 33, 34, 35, 39, 40, 42, 45, 47, 52, 53, 54, 55, 57, 63, 73, 76, 82, 86}\n",
      "Comp 1 = {3}\n",
      "Comp 2 = {79}\n",
      "Comp 3 = {129, 98, 130, 122, 123, 110, 124, 81, 51, 85, 121, 90, 91, 92}\n",
      "Comp 4 = {128, 2, 38, 43, 48, 50, 56, 58, 59, 60, 64, 67, 69, 74, 75, 84, 88, 100, 105, 106, 117, 125, 126, 127}\n",
      "Comp 5 = {68, 72, 80, 83, 89}\n",
      "Comp 6 = {94.0, 95}\n",
      "Comp 7 = {49}\n",
      "Comp 8 = {18, 36, 37, 61, 70, 71, 78, 93, 101, 102, 103, 104, 107, 108, 109, 111, 112, 113, 114, 116, 118.0, 119, 120}\n",
      "Comp 9 = {9, 99}\n",
      "Comp 10 = {65, 66, 41}\n",
      "Comp 11 = {44}\n",
      "Comp 12 = {46}\n",
      "Comp 13 = {62}\n",
      "Comp 14 = {77}\n",
      "Comp 15 = {87}\n",
      "Comp 16 = {96}\n",
      "Comp 17 = {97}\n",
      "Comp 18 = {115}\n",
      "curr_limb_copy.deleted_edges = [[3, 57], [3, 76], [3, 79], [57, 79], [76, 79], [44, 46], [44, 58], [44, 69], [46, 58], [46, 69], [51, 73], [51, 82], [73, 81], [81, 82], [49, 52], [49, 61], [49, 63], [52, 61], [61, 63], [44, 46], [44, 58], [44, 69], [46, 58], [46, 69], [3, 57], [3, 76], [3, 79], [57, 79], [76, 79], [51, 73], [51, 82], [73, 81], [81, 82], [75, 79], [75, 89], [79, 88], [79, 89], [88, 89], [81, 94], [81, 95], [92, 94], [92, 95], [9, 66], [9, 85], [9, 92], [9, 94], [66, 85], [66, 92], [66, 94], [66, 99], [85, 94], [85, 99], [92, 94], [92, 99], [94, 99], [44, 46], [44, 58], [44, 69], [46, 58], [46, 69], [75, 79], [75, 89], [79, 88], [79, 89], [88, 89], array([58, 65]), array([64, 65])]\n",
      "curr_limb_copy.created_edges = [[57, 76], [58, 69], [51, 81], [73, 82], [52, 63], [58, 69], [57, 76], [51, 81], [73, 82], [75, 88], [94, 95], [81, 92], [85, 92], [9, 99], [58, 69], [75, 88], [58, 64]]\n",
      "After get best cut: cut_edges = [array([58, 65]), array([64, 65])], added_edges = [[58, 64]]\n",
      "total_soma_paths_to_cut = [[44, 46], [44, 58], [44, 69], [46, 58], [46, 69], [75, 79], [75, 89], [79, 88], [79, 89], [88, 89]]\n",
      "-----------counter = 2------------\n",
      " Cut iteration 3\n",
      "Total number of graphs at the end of the split BEFORE DIRECTIONAL = 19\n",
      "Total number of graphs at the end of the split AFTER DIRECTIONAL = 19\n",
      "Shortest path = [88, 75, 69, 58, 64, 84, 100, 105]\n",
      "\n",
      " --------- START OF GET BEST EDGE --------- \n",
      "curr_limb.deleted_edges=[[3, 57], [3, 76], [3, 79], [57, 79], [76, 79], [44, 46], [44, 58], [44, 69], [46, 58], [46, 69], [51, 73], [51, 82], [73, 81], [81, 82], [49, 52], [49, 61], [49, 63], [52, 61], [61, 63], [44, 46], [44, 58], [44, 69], [46, 58], [46, 69], [3, 57], [3, 76], [3, 79], [57, 79], [76, 79], [51, 73], [51, 82], [73, 81], [81, 82], [75, 79], [75, 89], [79, 88], [79, 89], [88, 89], [81, 94], [81, 95], [92, 94], [92, 95], [9, 66], [9, 85], [9, 92], [9, 94], [66, 85], [66, 92], [66, 94], [66, 99], [85, 94], [85, 99], [92, 94], [92, 99], [94, 99], [44, 46], [44, 58], [44, 69], [46, 58], [46, 69], [75, 79], [75, 89], [79, 88], [79, 89], [88, 89], array([58, 65]), array([64, 65])]\n",
      "consider_path_neighbors_for_removal is set so segments_to_consider = [ 50  58  64  67  69  74  75  84 100 106]\n",
      "Short segments to combine = []\n",
      "Found 0 high degree coordinates to cut\n",
      "Skipping endnode 105 because skeletal distance was 592.115544039816 and threshold was 2500\n",
      "skip_nodes = [105]\n",
      "\n",
      "Attempting the doubling back check (symmetrical so don't need to check from both sides)\n"
     ]
    },
    {
     "data": {
      "application/vnd.jupyter.widget-view+json": {
       "model_id": "1999f2c119224e70a5e1e95351c5c050",
       "version_major": 2,
       "version_minor": 0
      },
      "text/plain": [
       "HBox(children=(FloatProgress(value=0.0, max=6.0), HTML(value='')))"
      ]
     },
     "metadata": {},
     "output_type": "display_data"
    },
    {
     "name": "stdout",
     "output_type": "stream",
     "text": [
      "  Edge: [88 75]: curr_angle = 29.97\n",
      "  Edge: [75 69]: curr_angle = 30.09\n",
      "  Edge: [69 58]: curr_angle = 12.51\n",
      "  Edge: [58 64]: curr_angle = 14.05\n",
      "  Edge: [64 84]: curr_angle = 39.02\n",
      "  Edge: [ 84 100]: curr_angle = 75.8\n",
      "\n",
      "Total time for doubling_back = 0.34621429443359375\n",
      "\n",
      "Attempting the width jump check (attempting from both sides)\n",
      "  Edge: [88 75]: jump = -239.23\n",
      "  Edge: [75 69]: jump = -144.97\n",
      "  Edge: [69 58]: jump = -68.86\n",
      "  Edge: [58 64]: jump = -12.31\n",
      "  Edge: [64 84]: jump = 96.2\n",
      "  Edge: [ 84 100]: jump = 239.65\n",
      "Adding error edge [ 84 100] because width jump was 239.65093317445616\n",
      "Total time for width = 0.31922364234924316\n",
      "Path starting at 88 had err_edges: [[84, 100]]\n",
      "  Edge: [100  84]: jump = -239.65\n",
      "  Edge: [84 64]: jump = -96.2\n",
      "  Edge: [64 58]: jump = 12.31\n",
      "  Edge: [58 69]: jump = 68.86\n",
      "  Edge: [69 75]: jump = 144.97\n",
      "  Edge: [75 88]: jump = 239.23\n",
      "Adding error edge [75 88] because width jump was 239.22716827027705\n",
      "Total time for width = 0.31355857849121094\n",
      "Path starting at 105 had err_edges: [[75, 88]]\n",
      "first_error_sizes = [239.65093317445616, 239.22716827027705], winning_path = 0\n",
      "***inside resolve crossover!!!!****\n",
      "coordinate_branches = [74, 84, 100]\n",
      "74 = red\n",
      "84 = aqua\n",
      "100 = purple\n",
      "Angle between 74 and 84 = 107.74 \n",
      "Angle between 74 and 100 = 50.21 \n",
      "Angle between 84 and 100 = 24.88 \n",
      "Final Matches = [[84, 100]]\n",
      "matched_branches_revised = [[84, 100]]\n",
      "Original graph\n"
     ]
    },
    {
     "data": {
      "image/png": "[encoded data removed]",
      "text/plain": [
       "<Figure size 432x288 with 1 Axes>"
      ]
     },
     "metadata": {},
     "output_type": "display_data"
    },
    {
     "name": "stdout",
     "output_type": "stream",
     "text": [
      "match_branches = [[84, 100]]\n",
      "edges_to_delete (resolve crossover) = [[74, 84], [74, 100]]\n",
      "edges_to_create (resolve crossover) = [[84, 100]]\n",
      "Rejecting creating edge [84, 100] becuase did not involve only 1 node in the deleted edge\n",
      "edges_to_delete (cut_limb_network) = [array([74, 84]), array([ 74, 100]), array([ 84, 100])]\n",
      "edges_to_create = []\n",
      "Number of connected components = 21\n",
      "Comp 0 = {0, 1, 4, 5, 6, 7, 8, 10, 11, 12, 13, 14, 15, 16, 17, 19, 20, 21, 22, 23, 24, 25, 26, 27, 28, 29, 30, 31, 32, 33, 34, 35, 39, 40, 42, 45, 47, 52, 53, 54, 55, 57, 63, 73, 76, 82, 86}\n",
      "Comp 1 = {3}\n",
      "Comp 2 = {79}\n",
      "Comp 3 = {129, 98, 130, 122, 123, 110, 124, 81, 51, 85, 121, 90, 91, 92}\n",
      "Comp 4 = {64, 2, 67, 69, 38, 43, 75, 50, 84, 88, 58, 59}\n",
      "Comp 5 = {68, 72, 80, 83, 89}\n",
      "Comp 6 = {94.0, 95}\n",
      "Comp 7 = {49}\n",
      "Comp 8 = {18, 36, 37, 61, 70, 71, 78, 93, 101, 102, 103, 104, 107, 108, 109, 111, 112, 113, 114, 116, 118.0, 119, 120}\n",
      "Comp 9 = {9, 99}\n",
      "Comp 10 = {65, 66, 41}\n",
      "Comp 11 = {44}\n",
      "Comp 12 = {46}\n",
      "Comp 13 = {56, 74, 60}\n",
      "Comp 14 = {128, 100, 105, 106, 48, 117, 125, 126, 127}\n",
      "Comp 15 = {62}\n",
      "Comp 16 = {77}\n",
      "Comp 17 = {87}\n",
      "Comp 18 = {96}\n",
      "Comp 19 = {97}\n",
      "Comp 20 = {115}\n",
      "curr_limb_copy.deleted_edges = [[3, 57], [3, 76], [3, 79], [57, 79], [76, 79], [44, 46], [44, 58], [44, 69], [46, 58], [46, 69], [51, 73], [51, 82], [73, 81], [81, 82], [49, 52], [49, 61], [49, 63], [52, 61], [61, 63], [44, 46], [44, 58], [44, 69], [46, 58], [46, 69], [3, 57], [3, 76], [3, 79], [57, 79], [76, 79], [51, 73], [51, 82], [73, 81], [81, 82], [75, 79], [75, 89], [79, 88], [79, 89], [88, 89], [81, 94], [81, 95], [92, 94], [92, 95], [9, 66], [9, 85], [9, 92], [9, 94], [66, 85], [66, 92], [66, 94], [66, 99], [85, 94], [85, 99], [92, 94], [92, 99], [94, 99], [44, 46], [44, 58], [44, 69], [46, 58], [46, 69], [75, 79], [75, 89], [79, 88], [79, 89], [88, 89], array([58, 65]), array([64, 65]), array([74, 84]), array([ 74, 100]), array([ 84, 100])]\n",
      "curr_limb_copy.created_edges = [[57, 76], [58, 69], [51, 81], [73, 82], [52, 63], [58, 69], [57, 76], [51, 81], [73, 82], [75, 88], [94, 95], [81, 92], [85, 92], [9, 99], [58, 69], [75, 88], [58, 64]]\n",
      "After get best cut: cut_edges = [array([74, 84]), array([ 74, 100]), array([ 84, 100])], added_edges = []\n",
      "total_soma_paths_to_cut = [[44, 46], [44, 58], [44, 69], [46, 58], [46, 69], [75, 79], [75, 89], [79, 88], [79, 89], [88, 89], array([58, 65]), array([64, 65])]\n",
      "-----------counter = 3------------\n",
      " Cut iteration 4\n",
      "Total number of graphs at the end of the split BEFORE DIRECTIONAL = 21\n",
      "Total number of graphs at the end of the split AFTER DIRECTIONAL = 21\n",
      "No valid path so moving onto the next connection\n",
      "\n",
      "\n",
      "---- working on disconnecting 88 and 113\n",
      "---- This disconnects S1_2 from S0_3  \n",
      " Cut iteration 0\n",
      "Total number of graphs at the end of the split BEFORE DIRECTIONAL = 21\n",
      "Total number of graphs at the end of the split AFTER DIRECTIONAL = 21\n",
      "No valid path so moving onto the next connection\n",
      "\n",
      "\n",
      "---- working on disconnecting 88 and 119\n",
      "---- This disconnects S1_2 from S1_0  \n",
      " Cut iteration 0\n",
      "Total number of graphs at the end of the split BEFORE DIRECTIONAL = 21\n",
      "Total number of graphs at the end of the split AFTER DIRECTIONAL = 21\n",
      "No valid path so moving onto the next connection\n",
      "\n",
      "\n",
      "---- working on disconnecting 88 and 121\n",
      "---- This disconnects S1_2 from S1_1  \n",
      " Cut iteration 0\n",
      "Total number of graphs at the end of the split BEFORE DIRECTIONAL = 21\n",
      "Total number of graphs at the end of the split AFTER DIRECTIONAL = 21\n",
      "No valid path so moving onto the next connection\n",
      "\n",
      "\n",
      "---- working on disconnecting 95 and 99\n",
      "---- This disconnects S0_2 from S1_3  \n",
      " Cut iteration 0\n",
      "Total number of graphs at the end of the split BEFORE DIRECTIONAL = 21\n",
      "Total number of graphs at the end of the split AFTER DIRECTIONAL = 21\n",
      "No valid path so moving onto the next connection\n",
      "\n",
      "\n",
      "---- working on disconnecting 95 and 105\n",
      "---- This disconnects S0_2 from S0_1  \n",
      " Cut iteration 0\n",
      "Total number of graphs at the end of the split BEFORE DIRECTIONAL = 21\n",
      "Total number of graphs at the end of the split AFTER DIRECTIONAL = 21\n",
      "No valid path so moving onto the next connection\n",
      "\n",
      "\n",
      "---- working on disconnecting 95 and 113\n",
      "---- This disconnects S0_2 from S0_3  \n",
      " Cut iteration 0\n",
      "Total number of graphs at the end of the split BEFORE DIRECTIONAL = 21\n",
      "Total number of graphs at the end of the split AFTER DIRECTIONAL = 21\n",
      "No valid path so moving onto the next connection\n",
      "\n",
      "\n",
      "---- working on disconnecting 95 and 119\n",
      "---- This disconnects S0_2 from S1_0  \n",
      " Cut iteration 0\n",
      "Total number of graphs at the end of the split BEFORE DIRECTIONAL = 21\n",
      "Total number of graphs at the end of the split AFTER DIRECTIONAL = 21\n",
      "No valid path so moving onto the next connection\n",
      "\n",
      "\n",
      "---- working on disconnecting 95 and 121\n",
      "---- This disconnects S0_2 from S1_1  \n",
      " Cut iteration 0\n",
      "Total number of graphs at the end of the split BEFORE DIRECTIONAL = 21\n",
      "Total number of graphs at the end of the split AFTER DIRECTIONAL = 21\n",
      "No valid path so moving onto the next connection\n",
      "\n",
      "\n",
      "---- working on disconnecting 99 and 105\n",
      "---- This disconnects S1_3 from S0_1  \n",
      " Cut iteration 0\n",
      "Total number of graphs at the end of the split BEFORE DIRECTIONAL = 21\n",
      "Total number of graphs at the end of the split AFTER DIRECTIONAL = 21\n",
      "No valid path so moving onto the next connection\n",
      "\n",
      "\n",
      "---- working on disconnecting 99 and 113\n",
      "---- This disconnects S1_3 from S0_3  \n",
      " Cut iteration 0\n",
      "Total number of graphs at the end of the split BEFORE DIRECTIONAL = 21\n",
      "Total number of graphs at the end of the split AFTER DIRECTIONAL = 21\n",
      "No valid path so moving onto the next connection\n",
      "\n",
      "\n",
      "---- working on disconnecting 99 and 119\n",
      "---- This disconnects S1_3 from S1_0  \n",
      " Cut iteration 0\n",
      "Total number of graphs at the end of the split BEFORE DIRECTIONAL = 21\n",
      "Total number of graphs at the end of the split AFTER DIRECTIONAL = 21\n",
      "No valid path so moving onto the next connection\n",
      "\n",
      "\n",
      "---- working on disconnecting 99 and 121\n",
      "---- This disconnects S1_3 from S1_1  \n",
      " Cut iteration 0\n",
      "Total number of graphs at the end of the split BEFORE DIRECTIONAL = 21\n",
      "Total number of graphs at the end of the split AFTER DIRECTIONAL = 21\n",
      "No valid path so moving onto the next connection\n",
      "\n",
      "\n",
      "---- working on disconnecting 105 and 113\n",
      "---- This disconnects S0_1 from S0_3  \n",
      " Cut iteration 0\n",
      "Total number of graphs at the end of the split BEFORE DIRECTIONAL = 21\n",
      "Total number of graphs at the end of the split AFTER DIRECTIONAL = 21\n",
      "No valid path so moving onto the next connection\n",
      "\n",
      "\n",
      "---- working on disconnecting 105 and 119\n",
      "---- This disconnects S0_1 from S1_0  \n",
      " Cut iteration 0\n",
      "Total number of graphs at the end of the split BEFORE DIRECTIONAL = 21\n",
      "Total number of graphs at the end of the split AFTER DIRECTIONAL = 21\n",
      "No valid path so moving onto the next connection\n",
      "\n",
      "\n",
      "---- working on disconnecting 105 and 121\n",
      "---- This disconnects S0_1 from S1_1  \n",
      " Cut iteration 0\n",
      "Total number of graphs at the end of the split BEFORE DIRECTIONAL = 21\n",
      "Total number of graphs at the end of the split AFTER DIRECTIONAL = 21\n",
      "No valid path so moving onto the next connection\n",
      "\n",
      "\n",
      "---- working on disconnecting 113 and 119\n",
      "---- This disconnects S0_3 from S1_0  \n",
      " Cut iteration 0\n",
      "Total number of graphs at the end of the split BEFORE DIRECTIONAL = 21\n",
      "Total number of graphs at the end of the split AFTER DIRECTIONAL = 21\n",
      "Shortest path = [113, 114, 119]\n",
      "\n",
      " --------- START OF GET BEST EDGE --------- \n",
      "curr_limb.deleted_edges=[[3, 57], [3, 76], [3, 79], [57, 79], [76, 79], [44, 46], [44, 58], [44, 69], [46, 58], [46, 69], [51, 73], [51, 82], [73, 81], [81, 82], [49, 52], [49, 61], [49, 63], [52, 61], [61, 63], [44, 46], [44, 58], [44, 69], [46, 58], [46, 69], [3, 57], [3, 76], [3, 79], [57, 79], [76, 79], [51, 73], [51, 82], [73, 81], [81, 82], [75, 79], [75, 89], [79, 88], [79, 89], [88, 89], [81, 94], [81, 95], [92, 94], [92, 95], [9, 66], [9, 85], [9, 92], [9, 94], [66, 85], [66, 92], [66, 94], [66, 99], [85, 94], [85, 99], [92, 94], [92, 99], [94, 99], [44, 46], [44, 58], [44, 69], [46, 58], [46, 69], [75, 79], [75, 89], [79, 88], [79, 89], [88, 89], array([58, 65]), array([64, 65]), array([74, 84]), array([ 74, 100]), array([ 84, 100])]\n",
      "consider_path_neighbors_for_removal is set so segments_to_consider = [ 61 112 114 118 120]\n",
      "Short segments to combine = [114 118]\n",
      "\n",
      "\n",
      "-------- Removing Segments -------------\n"
     ]
    },
    {
     "name": "stdout",
     "output_type": "stream",
     "text": [
      "curr_short_seg_revised = 114\n",
      "np.sum(touch_len>0) = 2\n",
      "Using average stitch point\n",
      "touching_endpoints = [[1028590.          703306.5         854889.        ]\n",
      " [1029420.          703406.33333333  855602.        ]]\n",
      "new_stitch_point = [1029005.          703356.41666667  855245.5       ]\n",
      "More than one common endpoint so just choosing the first\n",
      "More than one common endpoint so just choosing the first\n",
      "Angles for [ 61. 112. 113. 118. 119. 120. 118.] are [6.7, 76.1, 82.65, 174.08, 58.89, 57.95, 174.08]\n",
      "Branch that will absorb mesh of 114 is 61.0 \n",
      "curr_short_seg_revised = 118\n",
      "np.sum(touch_len>0) = 1\n",
      "Using ONE stitch point\n",
      "touching_endpoints = [[1029005.          703356.41666667  855245.5       ]\n",
      " [1029420.          703406.33333333  855602.        ]]\n",
      "new_stitch_point = [1029005.          703356.41666667  855245.5       ]\n",
      "curr_limb.deleted_edges 2=[[3, 57], [3, 76], [3, 79], [57, 79], [76, 79], [44, 46], [44, 58], [44, 69], [46, 58], [46, 69], [51, 73], [51, 82], [73, 81], [81, 82], [49, 52], [49, 61], [49, 63], [52, 61], [61, 63], [44, 46], [44, 58], [44, 69], [46, 58], [46, 69], [3, 57], [3, 76], [3, 79], [57, 79], [76, 79], [51, 73], [51, 82], [73, 81], [81, 82], [75, 79], [75, 89], [79, 88], [79, 89], [88, 89], [81, 94], [81, 95], [92, 94], [92, 95], [9, 66], [9, 85], [9, 92], [9, 94], [66, 85], [66, 92], [66, 94], [66, 99], [85, 94], [85, 99], [92, 94], [92, 99], [94, 99], [44, 46], [44, 58], [44, 69], [46, 58], [46, 69], [75, 79], [75, 89], [79, 88], [79, 89], [88, 89], array([58, 65]), array([64, 65]), array([74, 84]), array([ 74, 100]), array([ 84, 100])]\n",
      "curr_limb.deleted_edges 3=[[3, 57], [3, 76], [3, 79], [57, 79], [76, 79], [44, 46], [44, 58], [44, 69], [46, 58], [46, 69], [51, 73], [51, 82], [73, 81], [81, 82], [49, 52], [49, 61], [49, 63], [52, 61], [61, 63], [44, 46], [44, 58], [44, 69], [46, 58], [46, 69], [3, 57], [3, 76], [3, 79], [57, 79], [76, 79], [51, 73], [51, 82], [73, 81], [81, 82], [75, 79], [75, 89], [79, 88], [79, 89], [88, 89], [81, 94], [81, 95], [92, 94], [92, 95], [9, 66], [9, 85], [9, 92], [9, 94], [66, 85], [66, 92], [66, 94], [66, 99], [85, 94], [85, 99], [92, 94], [92, 99], [94, 99], [44, 46], [44, 58], [44, 69], [46, 58], [46, 69], [75, 79], [75, 89], [79, 88], [79, 89], [88, 89], array([58, 65]), array([64, 65]), array([74, 84]), array([ 74, 100]), array([ 84, 100])]\n",
      "Revised cut path = [113 119]\n",
      "\n",
      "-------- Done Removing Segments -------------\n",
      "\n",
      "\n",
      "Found 1 high degree coordinates to cut\n",
      "Picking [1029005.          703356.41666667  855245.5       ] high degree coordinates to cut\n",
      "curr_limb.deleted_edges 4=[[3, 57], [3, 76], [3, 79], [57, 79], [76, 79], [44, 46], [44, 58], [44, 69], [46, 58], [46, 69], [51, 73], [51, 82], [73, 81], [81, 82], [49, 52], [49, 61], [49, 63], [52, 61], [61, 63], [44, 46], [44, 58], [44, 69], [46, 58], [46, 69], [3, 57], [3, 76], [3, 79], [57, 79], [76, 79], [51, 73], [51, 82], [73, 81], [81, 82], [75, 79], [75, 89], [79, 88], [79, 89], [88, 89], [81, 94], [81, 95], [92, 94], [92, 95], [9, 66], [9, 85], [9, 92], [9, 94], [66, 85], [66, 92], [66, 94], [66, 99], [85, 94], [85, 99], [92, 94], [92, 99], [94, 99], [44, 46], [44, 58], [44, 69], [46, 58], [46, 69], [75, 79], [75, 89], [79, 88], [79, 89], [88, 89], array([58, 65]), array([64, 65]), array([74, 84]), array([ 74, 100]), array([ 84, 100])]\n",
      "***inside resolve crossover!!!!****\n",
      "coordinate_branches = [61, 112, 113, 119, 120]\n",
      "61 = red\n",
      "112 = aqua\n",
      "113 = purple\n",
      "119 = green\n"
     ]
    },
    {
     "data": {
      "application/vnd.jupyter.widget-view+json": {
       "model_id": "051ade48fd084bab9b02ee3d91c744f1",
       "version_major": 2,
       "version_minor": 0
      },
      "text/plain": [
       "VBox(children=(Figure(camera=PerspectiveCamera(fov=46.0, position=(0.0, 0.0, 2.0), quaternion=(0.0, 0.0, 0.0, …"
      ]
     },
     "metadata": {},
     "output_type": "display_data"
    },
    {
     "name": "stdout",
     "output_type": "stream",
     "text": [
      "Angle between 61 and 112 = 117.04 \n",
      "Angle between 61 and 113 = 90.61 \n",
      "Angle between 61 and 119 = 61.66 \n",
      "Angle between 61 and 120 = 49.84 \n",
      "Angle between 112 and 113 = 29.79 \n",
      "Angle between 112 and 119 = 19.42 \n",
      "Angle between 112 and 120 = 109.8 \n",
      "Angle between 113 and 119 = 149.39 \n",
      "Angle between 113 and 120 = 40.65 \n",
      "Angle between 119 and 120 = 68.49 \n",
      "Final Matches = [[112, 113], [112, 119]]\n",
      "matched_branches_revised = [[112, 119]]\n",
      "Aligned Skeleton Parts\n"
     ]
    },
    {
     "data": {
      "application/vnd.jupyter.widget-view+json": {
       "model_id": "423e12ef5567458eb2fbbef8453f142d",
       "version_major": 2,
       "version_minor": 0
      },
      "text/plain": [
       "VBox(children=(Figure(camera=PerspectiveCamera(fov=46.0, position=(0.0, 0.0, 2.0), quaternion=(0.0, 0.0, 0.0, …"
      ]
     },
     "metadata": {},
     "output_type": "display_data"
    },
    {
     "data": {
      "application/vnd.jupyter.widget-view+json": {
       "model_id": "30b91fd7eafe41658a74762bc1966481",
       "version_major": 2,
       "version_minor": 0
      },
      "text/plain": [
       "VBox(children=(Figure(camera=PerspectiveCamera(fov=46.0, position=(0.0, 0.0, 2.0), quaternion=(0.0, 0.0, 0.0, …"
      ]
     },
     "metadata": {},
     "output_type": "display_data"
    },
    {
     "name": "stdout",
     "output_type": "stream",
     "text": [
      "Original graph\n"
     ]
    },
    {
     "data": {
      "image/png": "[encoded data removed]",
      "text/plain": [
       "<Figure size 432x288 with 1 Axes>"
      ]
     },
     "metadata": {},
     "output_type": "display_data"
    },
    {
     "name": "stdout",
     "output_type": "stream",
     "text": [
      "match_branches = [[112, 119]]\n",
      "edges_to_delete (resolve crossover) = [[61, 112], [61, 113], [61, 119], [61, 120], [112, 113], [112, 120], [113, 119], [113, 120], [119, 120]]\n",
      "edges_to_create (resolve crossover) = [[112, 119]]\n",
      "curr_limb.deleted_edges 5 =[[3, 57], [3, 76], [3, 79], [57, 79], [76, 79], [44, 46], [44, 58], [44, 69], [46, 58], [46, 69], [51, 73], [51, 82], [73, 81], [81, 82], [49, 52], [49, 61], [49, 63], [52, 61], [61, 63], [44, 46], [44, 58], [44, 69], [46, 58], [46, 69], [3, 57], [3, 76], [3, 79], [57, 79], [76, 79], [51, 73], [51, 82], [73, 81], [81, 82], [75, 79], [75, 89], [79, 88], [79, 89], [88, 89], [81, 94], [81, 95], [92, 94], [92, 95], [9, 66], [9, 85], [9, 92], [9, 94], [66, 85], [66, 92], [66, 94], [66, 99], [85, 94], [85, 99], [92, 94], [92, 99], [94, 99], [44, 46], [44, 58], [44, 69], [46, 58], [46, 69], [75, 79], [75, 89], [79, 88], [79, 89], [88, 89], array([58, 65]), array([64, 65]), array([74, 84]), array([ 74, 100]), array([ 84, 100])]\n",
      "skip_nodes = []\n",
      "edges_to_delete (cut_limb_network) = [[61, 112], [61, 113], [61, 119], [61, 120], [112, 113], [112, 120], [113, 119], [113, 120], [119, 120]]\n",
      "edges_to_create = [[112, 119]]\n",
      "Number of connected components = 26\n",
      "Comp 0 = {0, 1, 4, 5, 6, 7, 8, 10, 11, 12, 13, 14, 15, 16, 17, 19, 20, 21, 22, 23, 24, 25, 26, 27, 28, 29, 30, 31, 32, 33, 34, 35, 39, 40, 42, 45, 47, 52, 53, 54, 55, 57, 63, 73, 76, 82, 86}\n",
      "Comp 1 = {3}\n",
      "Comp 2 = {79}\n",
      "Comp 3 = {129, 98, 130, 122, 123, 110, 124, 81, 51, 85, 121, 90, 91, 92}\n",
      "Comp 4 = {64, 2, 67, 69, 38, 43, 75, 50, 84, 88, 58, 59}\n",
      "Comp 5 = {68, 72, 80, 83, 89}\n",
      "Comp 6 = {94, 95}\n",
      "Comp 7 = {49}\n",
      "Comp 8 = {61}\n",
      "Comp 9 = {9, 99}\n",
      "Comp 10 = {65, 66, 41}\n",
      "Comp 11 = {44}\n",
      "Comp 12 = {46}\n",
      "Comp 13 = {36, 37, 101, 102, 103, 70, 71, 107, 108, 109, 104, 111, 112, 78, 18, 116, 119, 93}\n",
      "Comp 14 = {113}\n",
      "Comp 15 = {120}\n",
      "Comp 16 = {56, 74, 60}\n",
      "Comp 17 = {128, 100, 105, 106, 48, 117, 125, 126, 127}\n",
      "Comp 18 = {62}\n",
      "Comp 19 = {77}\n",
      "Comp 20 = {87}\n",
      "Comp 21 = {96}\n",
      "Comp 22 = {97}\n",
      "Comp 23 = {114}\n",
      "Comp 24 = {115}\n",
      "Comp 25 = {118}\n",
      "curr_limb_copy.deleted_edges = [[3, 57], [3, 76], [3, 79], [57, 79], [76, 79], [44, 46], [44, 58], [44, 69], [46, 58], [46, 69], [51, 73], [51, 82], [73, 81], [81, 82], [49, 52], [49, 61], [49, 63], [52, 61], [61, 63], [44, 46], [44, 58], [44, 69], [46, 58], [46, 69], [3, 57], [3, 76], [3, 79], [57, 79], [76, 79], [51, 73], [51, 82], [73, 81], [81, 82], [75, 79], [75, 89], [79, 88], [79, 89], [88, 89], [81, 94], [81, 95], [92, 94], [92, 95], [9, 66], [9, 85], [9, 92], [9, 94], [66, 85], [66, 92], [66, 94], [66, 99], [85, 94], [85, 99], [92, 94], [92, 99], [94, 99], [44, 46], [44, 58], [44, 69], [46, 58], [46, 69], [75, 79], [75, 89], [79, 88], [79, 89], [88, 89], array([58, 65]), array([64, 65]), array([74, 84]), array([ 74, 100]), array([ 84, 100]), [61, 112], [61, 113], [61, 119], [61, 120], [112, 113], [112, 120], [113, 119], [113, 120], [119, 120]]\n",
      "curr_limb_copy.created_edges = [[57, 76], [58, 69], [51, 81], [73, 82], [52, 63], [58, 69], [57, 76], [51, 81], [73, 82], [75, 88], [94, 95], [81, 92], [85, 92], [9, 99], [58, 69], [75, 88], [58, 64], [112, 119]]\n",
      "After get best cut: cut_edges = [[61, 112], [61, 113], [61, 119], [61, 120], [112, 113], [112, 120], [113, 119], [113, 120], [119, 120]], added_edges = [[112, 119]]\n",
      "total_soma_paths_to_cut = []\n",
      "-----------counter = 0------------\n",
      " Cut iteration 1\n",
      "Total number of graphs at the end of the split BEFORE DIRECTIONAL = 26\n",
      "Total number of graphs at the end of the split AFTER DIRECTIONAL = 26\n",
      "No valid path so moving onto the next connection\n",
      "\n",
      "\n",
      "---- working on disconnecting 113 and 121\n",
      "---- This disconnects S0_3 from S1_1  \n",
      " Cut iteration 0\n",
      "Total number of graphs at the end of the split BEFORE DIRECTIONAL = 26\n",
      "Total number of graphs at the end of the split AFTER DIRECTIONAL = 26\n",
      "No valid path so moving onto the next connection\n",
      "\n",
      "\n",
      "---- working on disconnecting 119 and 121\n",
      "---- This disconnects S1_0 from S1_1  \n",
      " Cut iteration 0\n",
      "Total number of graphs at the end of the split BEFORE DIRECTIONAL = 26\n",
      "Total number of graphs at the end of the split AFTER DIRECTIONAL = 26\n",
      "No valid path so moving onto the next connection\n",
      "Total number of graphs at the end of the split = 26: [array([ 0,  1,  4,  5,  6,  7,  8, 10, 11, 12, 13, 14, 15, 16, 17, 19, 20,\n",
      "       21, 22, 23, 24, 25, 26, 27, 28, 29, 30, 31, 32, 33, 34, 35, 39, 40,\n",
      "       42, 45, 47, 52, 53, 54, 55, 57, 63, 73, 76, 82, 86]), array([3]), array([79]), array([129,  98, 130, 122, 123, 110, 124,  81,  51,  85, 121,  90,  91,\n",
      "        92]), array([64,  2, 67, 69, 38, 43, 75, 50, 84, 88, 58, 59]), array([68, 72, 80, 83, 89]), array([94, 95]), array([49]), array([61]), array([ 9, 99]), array([65, 66, 41]), array([44]), array([46]), array([ 36,  37, 101, 102, 103,  70,  71, 107, 108, 109, 104, 111, 112,\n",
      "        78,  18, 116, 119,  93]), array([113]), array([120]), array([56, 74, 60]), array([128, 100, 105, 106,  48, 117, 125, 126, 127]), array([62]), array([77]), array([87]), array([96]), array([97]), array([114]), array([115]), array([118])]\n",
      "\n",
      "\n",
      " -------- Working on limb 1------------\n",
      "Starting combinations to process = [[47 51]]\n",
      "\n",
      "\n",
      "---- working on disconnecting 47 and 51\n",
      "---- This disconnects S0_0 from S1_0  \n",
      " Cut iteration 0\n",
      "Total number of graphs at the end of the split BEFORE DIRECTIONAL = 1\n",
      "Total number of graphs at the end of the split AFTER DIRECTIONAL = 1\n",
      "Shortest path = [47, 60, 44, 51]\n",
      "\n",
      " --------- START OF GET BEST EDGE --------- \n",
      "curr_limb.deleted_edges=[]\n",
      "consider_path_neighbors_for_removal is set so segments_to_consider = [41 43 44 52 60]\n",
      "Short segments to combine = [60]\n",
      "\n",
      "\n",
      "-------- Removing Segments -------------\n",
      "curr_short_seg_revised = 60\n",
      "np.sum(touch_len>0) = 2\n",
      "Using average stitch point\n",
      "touching_endpoints = [[1027110.  692942.  838905.]\n",
      " [1028430.  693140.  838674.]]\n",
      "new_stitch_point = [1027770.   693041.   838789.5]\n",
      "Angles for [41 44 47 43] are [78.63, 101.28, 109.71, 85.79]\n",
      "Branch that will absorb mesh of 60 is 41 \n",
      "curr_limb.deleted_edges 2=[]\n",
      "curr_limb.deleted_edges 3=[]\n",
      "Revised cut path = [47 44 51]\n",
      "\n",
      "-------- Done Removing Segments -------------\n",
      "\n",
      "\n",
      "Found 1 high degree coordinates to cut\n",
      "Picking [1027770.   693041.   838789.5] high degree coordinates to cut\n",
      "curr_limb.deleted_edges 4=[]\n",
      "***inside resolve crossover!!!!****\n",
      "coordinate_branches = [41, 43, 44, 47]\n",
      "41 = red\n",
      "43 = aqua\n",
      "44 = purple\n",
      "47 = green\n"
     ]
    },
    {
     "data": {
      "application/vnd.jupyter.widget-view+json": {
       "model_id": "7b301fe6f6d64fdab4bfea68806743c7",
       "version_major": 2,
       "version_minor": 0
      },
      "text/plain": [
       "VBox(children=(Figure(camera=PerspectiveCamera(fov=46.0, position=(0.0, 0.0, 2.0), quaternion=(0.0, 0.0, 0.0, …"
      ]
     },
     "metadata": {},
     "output_type": "display_data"
    },
    {
     "name": "stdout",
     "output_type": "stream",
     "text": [
      "Angle between 41 and 43 = 139.06 \n",
      "Angle between 41 and 44 = 6.08 \n",
      "Angle between 41 and 47 = 40.32 \n",
      "Angle between 43 and 44 = 37.16 \n",
      "Angle between 43 and 47 = 20.94 \n",
      "Angle between 44 and 47 = 145.48 \n",
      "Final Matches = [[41, 44], [43, 47]]\n",
      "matched_branches_revised = [[41, 44], [43, 47]]\n",
      "Aligned Skeleton Parts\n"
     ]
    },
    {
     "data": {
      "application/vnd.jupyter.widget-view+json": {
       "model_id": "a518c9ed348f43418eb1aa10d019a57e",
       "version_major": 2,
       "version_minor": 0
      },
      "text/plain": [
       "VBox(children=(Figure(camera=PerspectiveCamera(fov=46.0, position=(0.0, 0.0, 2.0), quaternion=(0.0, 0.0, 0.0, …"
      ]
     },
     "metadata": {},
     "output_type": "display_data"
    },
    {
     "data": {
      "application/vnd.jupyter.widget-view+json": {
       "model_id": "ab3b28dcf335442fb1b40d0c297a60a5",
       "version_major": 2,
       "version_minor": 0
      },
      "text/plain": [
       "VBox(children=(Figure(camera=PerspectiveCamera(fov=46.0, position=(0.0, 0.0, 2.0), quaternion=(0.0, 0.0, 0.0, …"
      ]
     },
     "metadata": {},
     "output_type": "display_data"
    },
    {
     "data": {
      "application/vnd.jupyter.widget-view+json": {
       "model_id": "44c5bc2bfe0547c891fc03b8fa35128b",
       "version_major": 2,
       "version_minor": 0
      },
      "text/plain": [
       "VBox(children=(Figure(camera=PerspectiveCamera(fov=46.0, position=(0.0, 0.0, 2.0), quaternion=(0.0, 0.0, 0.0, …"
      ]
     },
     "metadata": {},
     "output_type": "display_data"
    },
    {
     "name": "stdout",
     "output_type": "stream",
     "text": [
      "Original graph\n"
     ]
    },
    {
     "data": {
      "image/png": "[encoded data removed]",
      "text/plain": [
       "<Figure size 432x288 with 1 Axes>"
      ]
     },
     "metadata": {},
     "output_type": "display_data"
    },
    {
     "name": "stdout",
     "output_type": "stream",
     "text": [
      "match_branches = [[41, 44], [43, 47]]\n",
      "edges_to_delete (resolve crossover) = [[41, 43], [41, 47], [43, 44], [44, 47]]\n",
      "edges_to_create (resolve crossover) = [[41, 44], [43, 47]]\n",
      "curr_limb.deleted_edges 5 =[]\n",
      "Skipping endnode 47 because skeletal distance was 2062.8092837841264 and threshold was 2500\n",
      "skip_nodes = [47]\n",
      "edges_to_delete (cut_limb_network) = [[41, 43], [41, 47], [43, 44], [44, 47]]\n",
      "edges_to_create = [[41, 44], [43, 47]]\n",
      "Number of connected components = 3\n",
      "Comp 0 = {35, 36, 38, 39, 40, 42, 43, 47, 21, 29}\n",
      "Comp 1 = {0, 1, 2, 3, 4, 5, 6, 7, 8, 9, 10, 11, 12, 13, 14, 15, 16, 17, 18, 19, 20, 22, 23, 24, 25, 26, 27, 28, 30, 31, 32, 33, 34, 37, 41, 44, 45, 46, 48, 49, 50, 51, 52, 53, 54, 55, 56, 57, 58, 59}\n",
      "Comp 2 = {60}\n",
      "curr_limb_copy.deleted_edges = [[41, 43], [41, 47], [43, 44], [44, 47]]\n",
      "curr_limb_copy.created_edges = [[41, 44], [43, 47]]\n",
      "After get best cut: cut_edges = [[41, 43], [41, 47], [43, 44], [44, 47]], added_edges = [[41, 44], [43, 47]]\n",
      "total_soma_paths_to_cut = []\n",
      "-----------counter = 0------------\n",
      " Cut iteration 1\n",
      "Total number of graphs at the end of the split BEFORE DIRECTIONAL = 3\n",
      "Total number of graphs at the end of the split AFTER DIRECTIONAL = 3\n",
      "No valid path so moving onto the next connection\n",
      "Total number of graphs at the end of the split = 3: [array([35, 36, 38, 39, 40, 42, 43, 47, 21, 29]), array([ 0,  1,  2,  3,  4,  5,  6,  7,  8,  9, 10, 11, 12, 13, 14, 15, 16,\n",
      "       17, 18, 19, 20, 22, 23, 24, 25, 26, 27, 28, 30, 31, 32, 33, 34, 37,\n",
      "       41, 44, 45, 46, 48, 49, 50, 51, 52, 53, 54, 55, 56, 57, 58, 59]), array([60])]\n",
      "\n",
      "\n",
      " -------- Working on limb 2------------\n",
      "Starting combinations to process = [[1 6]]\n",
      "\n",
      "\n",
      "---- working on disconnecting 1 and 6\n",
      "---- This disconnects S0_0 from S1_0  \n",
      " Cut iteration 0\n",
      "Total number of graphs at the end of the split BEFORE DIRECTIONAL = 1\n",
      "Total number of graphs at the end of the split AFTER DIRECTIONAL = 1\n",
      "Shortest path = [1, 3, 5, 8, 6]\n",
      "\n",
      " --------- START OF GET BEST EDGE --------- \n",
      "curr_limb.deleted_edges=[]\n",
      "consider_path_neighbors_for_removal is set so segments_to_consider = [ 2  3  4  5  7  8  9 10]\n",
      "Short segments to combine = [5]\n",
      "\n",
      "\n",
      "-------- Removing Segments -------------\n",
      "curr_short_seg_revised = 5\n",
      "np.sum(touch_len>0) = 2\n",
      "Using average stitch point\n",
      "touching_endpoints = [[1044585.    695862.5   857703.75]\n",
      " [1045660.    696071.    857884.  ]]\n",
      "new_stitch_point = [1045122.5    695966.75   857793.875]\n",
      "Angles for [3. 4. 7. 8.] are [44.63, 15.52, 72.17, 6.64]\n",
      "Branch that will absorb mesh of 5 is 8.0 \n",
      "curr_limb.deleted_edges 2=[]\n",
      "curr_limb.deleted_edges 3=[]\n",
      "Revised cut path = [1 3 8 6]\n",
      "\n",
      "-------- Done Removing Segments -------------\n",
      "\n",
      "\n",
      "Found 2 high degree coordinates to cut\n",
      "Picking [1045122.5    695966.75   857793.875] high degree coordinates to cut\n",
      "curr_limb.deleted_edges 4=[]\n",
      "***inside resolve crossover!!!!****\n",
      "coordinate_branches = [3, 4, 7, 8]\n",
      "3 = red\n",
      "4 = aqua\n",
      "7 = purple\n",
      "8 = green\n"
     ]
    },
    {
     "data": {
      "application/vnd.jupyter.widget-view+json": {
       "model_id": "23a235cc22c94610a08e6f5f893a1b3d",
       "version_major": 2,
       "version_minor": 0
      },
      "text/plain": [
       "VBox(children=(Figure(camera=PerspectiveCamera(fov=46.0, position=(0.0, 0.0, 2.0), quaternion=(0.0, 0.0, 0.0, …"
      ]
     },
     "metadata": {},
     "output_type": "display_data"
    },
    {
     "name": "stdout",
     "output_type": "stream",
     "text": [
      "Angle between 3 and 4 = 154.08 \n",
      "Angle between 3 and 7 = 49.46 \n",
      "Angle between 3 and 8 = 35.46 \n",
      "Angle between 4 and 7 = 59.57 \n",
      "Angle between 4 and 8 = 15.77 \n",
      "Angle between 7 and 8 = 104.73 \n",
      "Final Matches = [[4, 8]]\n",
      "matched_branches_revised = [[4, 8]]\n",
      "Aligned Skeleton Parts\n"
     ]
    },
    {
     "data": {
      "application/vnd.jupyter.widget-view+json": {
       "model_id": "75eed2871e8648cf85593eacd5908d3a",
       "version_major": 2,
       "version_minor": 0
      },
      "text/plain": [
       "VBox(children=(Figure(camera=PerspectiveCamera(fov=46.0, position=(0.0, 0.0, 2.0), quaternion=(0.0, 0.0, 0.0, …"
      ]
     },
     "metadata": {},
     "output_type": "display_data"
    },
    {
     "data": {
      "application/vnd.jupyter.widget-view+json": {
       "model_id": "ec02979d77724e89a5094acea553bdca",
       "version_major": 2,
       "version_minor": 0
      },
      "text/plain": [
       "VBox(children=(Figure(camera=PerspectiveCamera(fov=46.0, position=(0.0, 0.0, 2.0), quaternion=(0.0, 0.0, 0.0, …"
      ]
     },
     "metadata": {},
     "output_type": "display_data"
    },
    {
     "name": "stdout",
     "output_type": "stream",
     "text": [
      "Original graph\n"
     ]
    },
    {
     "data": {
      "image/png": "[encoded data removed]",
      "text/plain": [
       "<Figure size 432x288 with 1 Axes>"
      ]
     },
     "metadata": {},
     "output_type": "display_data"
    },
    {
     "name": "stdout",
     "output_type": "stream",
     "text": [
      "match_branches = [[4, 8]]\n",
      "edges_to_delete (resolve crossover) = [[3, 4], [3, 7], [3, 8], [4, 7], [7, 8]]\n",
      "edges_to_create (resolve crossover) = [[4, 8]]\n",
      "curr_limb.deleted_edges 5 =[]\n",
      "skip_nodes = []\n",
      "edges_to_delete (cut_limb_network) = [[3, 4], [3, 7], [3, 8], [4, 7], [7, 8]]\n",
      "edges_to_create = [[4, 8]]\n",
      "Number of connected components = 3\n",
      "Comp 0 = {0, 1, 2, 3, 4.0, 6, 8, 9, 10, 11, 12, 13, 14, 15, 16, 17, 18, 19, 20, 21, 22, 23, 24, 25, 26, 27, 28, 29, 30, 31, 32, 33, 34, 35, 36, 37, 38, 39, 40, 41, 42, 43, 44, 45, 46, 47, 48}\n",
      "Comp 1 = {7}\n",
      "Comp 2 = {5}\n",
      "curr_limb_copy.deleted_edges = [[3, 4], [3, 7], [3, 8], [4, 7], [7, 8]]\n",
      "curr_limb_copy.created_edges = [[4, 8]]\n",
      "After get best cut: cut_edges = [[3, 4], [3, 7], [3, 8], [4, 7], [7, 8]], added_edges = [[4, 8]]\n",
      "total_soma_paths_to_cut = []\n",
      "-----------counter = 0------------\n",
      " Cut iteration 1\n",
      "Total number of graphs at the end of the split BEFORE DIRECTIONAL = 3\n",
      "Total number of graphs at the end of the split AFTER DIRECTIONAL = 3\n",
      "Shortest path = [1.0, 4.0, 8.0, 6.0]\n",
      "\n",
      " --------- START OF GET BEST EDGE --------- \n",
      "curr_limb.deleted_edges=[[3, 4], [3, 7], [3, 8], [4, 7], [7, 8]]\n",
      "consider_path_neighbors_for_removal is set so segments_to_consider = [ 2  3  4  8  9 10]\n",
      "Short segments to combine = []\n",
      "Found 1 high degree coordinates to cut\n",
      "Picking [1047925.   696959.   858239.5] high degree coordinates to cut\n",
      "curr_limb.deleted_edges 4=[[3, 4], [3, 7], [3, 8], [4, 7], [7, 8]]\n",
      "***inside resolve crossover!!!!****\n",
      "coordinate_branches = [2, 6, 8, 9, 10]\n",
      "2 = red\n",
      "6 = aqua\n",
      "8 = purple\n",
      "9 = green\n"
     ]
    },
    {
     "data": {
      "application/vnd.jupyter.widget-view+json": {
       "model_id": "80e16c223b2b429bb23fb3c34afb0fd7",
       "version_major": 2,
       "version_minor": 0
      },
      "text/plain": [
       "VBox(children=(Figure(camera=PerspectiveCamera(fov=46.0, position=(0.0, 0.0, 2.0), quaternion=(0.0, 0.0, 0.0, …"
      ]
     },
     "metadata": {},
     "output_type": "display_data"
    },
    {
     "name": "stdout",
     "output_type": "stream",
     "text": [
      "Angle between 2 and 6 = 108.51 \n",
      "Angle between 2 and 8 = 127.07 \n",
      "Angle between 2 and 9 = 23.59 \n",
      "Angle between 2 and 10 = 80.54 \n",
      "Angle between 6 and 8 = 149.53 \n",
      "Angle between 6 and 9 = 73.01 \n",
      "Angle between 6 and 10 = 9.52 \n",
      "Angle between 8 and 9 = 45.47 \n",
      "Angle between 8 and 10 = 35.4 \n",
      "Angle between 9 and 10 = 99.97 \n",
      "Final Matches = [[2, 9], [6, 10]]\n",
      "matched_branches_revised = [[6, 10], [2, 9]]\n",
      "Aligned Skeleton Parts\n"
     ]
    },
    {
     "data": {
      "application/vnd.jupyter.widget-view+json": {
       "model_id": "8ad058eb14de40c68061d4b206f6f7ee",
       "version_major": 2,
       "version_minor": 0
      },
      "text/plain": [
       "VBox(children=(Figure(camera=PerspectiveCamera(fov=46.0, position=(0.0, 0.0, 2.0), quaternion=(0.0, 0.0, 0.0, …"
      ]
     },
     "metadata": {},
     "output_type": "display_data"
    },
    {
     "data": {
      "application/vnd.jupyter.widget-view+json": {
       "model_id": "f49efe20f88d490eb32c9029c982eb1a",
       "version_major": 2,
       "version_minor": 0
      },
      "text/plain": [
       "VBox(children=(Figure(camera=PerspectiveCamera(fov=46.0, position=(0.0, 0.0, 2.0), quaternion=(0.0, 0.0, 0.0, …"
      ]
     },
     "metadata": {},
     "output_type": "display_data"
    },
    {
     "data": {
      "application/vnd.jupyter.widget-view+json": {
       "model_id": "cbedd05605a244969946c9cf2256f571",
       "version_major": 2,
       "version_minor": 0
      },
      "text/plain": [
       "VBox(children=(Figure(camera=PerspectiveCamera(fov=46.0, position=(0.0, 0.0, 2.0), quaternion=(0.0, 0.0, 0.0, …"
      ]
     },
     "metadata": {},
     "output_type": "display_data"
    },
    {
     "name": "stdout",
     "output_type": "stream",
     "text": [
      "Original graph\n"
     ]
    },
    {
     "data": {
      "image/png": "[encoded data removed]",
      "text/plain": [
       "<Figure size 432x288 with 1 Axes>"
      ]
     },
     "metadata": {},
     "output_type": "display_data"
    },
    {
     "name": "stdout",
     "output_type": "stream",
     "text": [
      "match_branches = [[6, 10], [2, 9]]\n",
      "edges_to_delete (resolve crossover) = [[2, 6], [2, 8], [2, 10], [6, 8], [6, 9], [8, 9], [8, 10], [9, 10]]\n",
      "edges_to_create (resolve crossover) = [[6, 10], [2, 9]]\n",
      "curr_limb.deleted_edges 5 =[[3, 4], [3, 7], [3, 8], [4, 7], [7, 8]]\n",
      "skip_nodes = []\n",
      "edges_to_delete (cut_limb_network) = [[2, 6], [2, 8], [2, 10], [6, 8], [6, 9], [8, 9], [8, 10], [9, 10]]\n",
      "edges_to_create = [[6, 10], [2, 9]]\n",
      "Number of connected components = 5\n",
      "Comp 0 = {8, 1, 3, 4.0}\n",
      "Comp 1 = {7}\n",
      "Comp 2 = {2, 37, 38, 9, 13, 14}\n",
      "Comp 3 = {0, 6, 10, 11, 12, 15, 16, 17, 18, 19, 20, 21, 22, 23, 24, 25, 26, 27, 28, 29, 30, 31, 32, 33, 34, 35, 36, 39, 40, 41, 42, 43, 44, 45, 46, 47, 48}\n",
      "Comp 4 = {5}\n",
      "curr_limb_copy.deleted_edges = [[3, 4], [3, 7], [3, 8], [4, 7], [7, 8], [2, 6], [2, 8], [2, 10], [6, 8], [6, 9], [8, 9], [8, 10], [9, 10]]\n",
      "curr_limb_copy.created_edges = [[4, 8], [6, 10], [2, 9]]\n",
      "After get best cut: cut_edges = [[2, 6], [2, 8], [2, 10], [6, 8], [6, 9], [8, 9], [8, 10], [9, 10]], added_edges = [[6, 10], [2, 9]]\n",
      "total_soma_paths_to_cut = [[3, 4], [3, 7], [3, 8], [4, 7], [7, 8]]\n",
      "-----------counter = 1------------\n",
      " Cut iteration 2\n",
      "Total number of graphs at the end of the split BEFORE DIRECTIONAL = 5\n",
      "Total number of graphs at the end of the split AFTER DIRECTIONAL = 5\n",
      "No valid path so moving onto the next connection\n",
      "Total number of graphs at the end of the split = 5: [array([8., 1., 3., 4.]), array([7]), array([ 2, 37, 38,  9, 13, 14]), array([ 0,  6, 10, 11, 12, 15, 16, 17, 18, 19, 20, 21, 22, 23, 24, 25, 26,\n",
      "       27, 28, 29, 30, 31, 32, 33, 34, 35, 36, 39, 40, 41, 42, 43, 44, 45,\n",
      "       46, 47, 48]), array([5])]\n",
      "\n",
      "\n",
      " -------- Working on limb 3------------\n",
      "Starting combinations to process = [[0 3]]\n",
      "\n",
      "\n",
      "---- working on disconnecting 0 and 3\n",
      "---- This disconnects S0_0 from S1_0  \n",
      " Cut iteration 0\n",
      "Total number of graphs at the end of the split BEFORE DIRECTIONAL = 1\n",
      "Total number of graphs at the end of the split AFTER DIRECTIONAL = 1\n",
      "Shortest path = [0, 1, 6, 12, 11, 3]\n",
      "\n",
      " --------- START OF GET BEST EDGE --------- \n",
      "curr_limb.deleted_edges=[]\n",
      "consider_path_neighbors_for_removal is set so segments_to_consider = [ 1  2  6  7 10 11 12 13 14 15]\n",
      "Short segments to combine = []\n",
      "Found 1 high degree coordinates to cut\n",
      "Picking [1080500.  672761.  927264.] high degree coordinates to cut\n",
      "curr_limb.deleted_edges 4=[]\n",
      "***inside resolve crossover!!!!****\n",
      "coordinate_branches = [6, 12, 14, 15]\n",
      "6 = red\n",
      "12 = aqua\n",
      "14 = purple\n",
      "15 = green\n"
     ]
    },
    {
     "data": {
      "application/vnd.jupyter.widget-view+json": {
       "model_id": "fc12e842603f413d9ce944094315f0c2",
       "version_major": 2,
       "version_minor": 0
      },
      "text/plain": [
       "VBox(children=(Figure(camera=PerspectiveCamera(fov=46.0, position=(0.0, 0.0, 2.0), quaternion=(0.0, 0.0, 0.0, …"
      ]
     },
     "metadata": {},
     "output_type": "display_data"
    },
    {
     "name": "stdout",
     "output_type": "stream",
     "text": [
      "Angle between 6 and 12 = 151.56 \n",
      "Angle between 6 and 14 = 14.46 \n",
      "Angle between 6 and 15 = 16.53 \n",
      "Angle between 12 and 14 = 13.99 \n",
      "Angle between 12 and 15 = 31.7 \n",
      "Angle between 14 and 15 = 159.21 \n",
      "Final Matches = [[6, 14], [6, 15], [12, 14], [12, 15]]\n",
      "matched_branches_revised = [[12, 14], [6, 15]]\n",
      "Aligned Skeleton Parts\n"
     ]
    },
    {
     "data": {
      "application/vnd.jupyter.widget-view+json": {
       "model_id": "95a2a69ed9d2466c8bdf1dac6dcaad6f",
       "version_major": 2,
       "version_minor": 0
      },
      "text/plain": [
       "VBox(children=(Figure(camera=PerspectiveCamera(fov=46.0, position=(0.0, 0.0, 2.0), quaternion=(0.0, 0.0, 0.0, …"
      ]
     },
     "metadata": {},
     "output_type": "display_data"
    },
    {
     "data": {
      "application/vnd.jupyter.widget-view+json": {
       "model_id": "5f471b432e714a54ab5940ec10415896",
       "version_major": 2,
       "version_minor": 0
      },
      "text/plain": [
       "VBox(children=(Figure(camera=PerspectiveCamera(fov=46.0, position=(0.0, 0.0, 2.0), quaternion=(0.0, 0.0, 0.0, …"
      ]
     },
     "metadata": {},
     "output_type": "display_data"
    },
    {
     "data": {
      "application/vnd.jupyter.widget-view+json": {
       "model_id": "0c4558f47532469cb31edf5613d9f092",
       "version_major": 2,
       "version_minor": 0
      },
      "text/plain": [
       "VBox(children=(Figure(camera=PerspectiveCamera(fov=46.0, position=(0.0, 0.0, 2.0), quaternion=(0.0, 0.0, 0.0, …"
      ]
     },
     "metadata": {},
     "output_type": "display_data"
    },
    {
     "name": "stdout",
     "output_type": "stream",
     "text": [
      "Original graph\n"
     ]
    },
    {
     "data": {
      "image/png": "[encoded data removed]",
      "text/plain": [
       "<Figure size 432x288 with 1 Axes>"
      ]
     },
     "metadata": {},
     "output_type": "display_data"
    },
    {
     "name": "stdout",
     "output_type": "stream",
     "text": [
      "match_branches = [[12, 14], [6, 15]]\n",
      "edges_to_delete (resolve crossover) = [[6, 12], [6, 14], [12, 15], [14, 15]]\n",
      "edges_to_create (resolve crossover) = [[12, 14], [6, 15]]\n",
      "curr_limb.deleted_edges 5 =[]\n",
      "Skipping endnode 0 because skeletal distance was 123.6292000672982 and threshold was 2500\n",
      "skip_nodes = [0]\n",
      "edges_to_delete (cut_limb_network) = [[6, 12], [6, 14], [12, 15], [14, 15]]\n",
      "edges_to_create = [[12, 14], [6, 15]]\n",
      "Number of connected components = 2\n",
      "Comp 0 = {0, 1, 2, 4, 5, 6, 7, 8, 9, 15, 16, 17}\n",
      "Comp 1 = {3, 10, 11, 12, 13, 14}\n",
      "curr_limb_copy.deleted_edges = [[6, 12], [6, 14], [12, 15], [14, 15]]\n",
      "curr_limb_copy.created_edges = [[12, 14], [6, 15]]\n",
      "After get best cut: cut_edges = [[6, 12], [6, 14], [12, 15], [14, 15]], added_edges = [[12, 14], [6, 15]]\n",
      "total_soma_paths_to_cut = []\n",
      "-----------counter = 0------------\n",
      " Cut iteration 1\n",
      "Total number of graphs at the end of the split BEFORE DIRECTIONAL = 2\n",
      "Total number of graphs at the end of the split AFTER DIRECTIONAL = 2\n",
      "No valid path so moving onto the next connection\n",
      "Total number of graphs at the end of the split = 2: [array([ 0,  1,  2,  4,  5,  6,  7,  8,  9, 15, 16, 17]), array([ 3, 10, 11, 12, 13, 14])]\n"
     ]
    }
   ],
   "source": [
    "import proofreading_utils as pru\n",
    "limb_results = pru.multi_soma_split_suggestions(neuron_obj,plot_intermediates=True)"
   ]
  },
  {
   "cell_type": "code",
   "execution_count": 77,
   "metadata": {
    "scrolled": false
   },
   "outputs": [
    {
     "name": "stdout",
     "output_type": "stream",
     "text": [
      "\n",
      "\n",
      "-------- Suggestions for Limb 0------\n",
      "Only 2 skeleton nodes so cannot do smoothing\n",
      "More than one common endpoint so just choosing the first\n",
      "More than one common endpoint so just choosing the first\n",
      "\n",
      " Working on visualization type: mesh\n",
      "\n",
      " Working on visualization type: skeleton\n"
     ]
    },
    {
     "data": {
      "application/vnd.jupyter.widget-view+json": {
       "model_id": "eb9f5dc3f8614c6b9492e2f4cd9c58f9",
       "version_major": 2,
       "version_minor": 0
      },
      "text/plain": [
       "VBox(children=(Figure(camera=PerspectiveCamera(fov=46.0, position=(0.0, 0.0, 2.0), quaternion=(0.0, 0.0, 0.0, …"
      ]
     },
     "metadata": {},
     "output_type": "display_data"
    },
    {
     "name": "stdout",
     "output_type": "stream",
     "text": [
      "\n",
      "\n",
      "-------- Suggestions for Limb 1------\n",
      "\n",
      " Working on visualization type: mesh\n",
      "\n",
      " Working on visualization type: skeleton\n"
     ]
    },
    {
     "data": {
      "application/vnd.jupyter.widget-view+json": {
       "model_id": "b82625794db8482f83b787f1a3db1d40",
       "version_major": 2,
       "version_minor": 0
      },
      "text/plain": [
       "VBox(children=(Figure(camera=PerspectiveCamera(fov=46.0, position=(0.0, 0.0, 2.0), quaternion=(0.0, 0.0, 0.0, …"
      ]
     },
     "metadata": {},
     "output_type": "display_data"
    },
    {
     "name": "stdout",
     "output_type": "stream",
     "text": [
      "\n",
      "\n",
      "-------- Suggestions for Limb 2------\n",
      "\n",
      " Working on visualization type: mesh\n",
      "\n",
      " Working on visualization type: skeleton\n"
     ]
    },
    {
     "data": {
      "application/vnd.jupyter.widget-view+json": {
       "model_id": "15857129f7384d1399c77c81844f4ec8",
       "version_major": 2,
       "version_minor": 0
      },
      "text/plain": [
       "VBox(children=(Figure(camera=PerspectiveCamera(fov=46.0, position=(0.0, 0.0, 2.0), quaternion=(0.0, 0.0, 0.0, …"
      ]
     },
     "metadata": {},
     "output_type": "display_data"
    },
    {
     "name": "stdout",
     "output_type": "stream",
     "text": [
      "\n",
      "\n",
      "-------- Suggestions for Limb 3------\n",
      "\n",
      " Working on visualization type: mesh\n",
      "\n",
      " Working on visualization type: skeleton\n"
     ]
    },
    {
     "data": {
      "application/vnd.jupyter.widget-view+json": {
       "model_id": "f542d5513ba9401e9d5ce379b7a12fe3",
       "version_major": 2,
       "version_minor": 0
      },
      "text/plain": [
       "VBox(children=(Figure(camera=PerspectiveCamera(fov=46.0, position=(0.0, 0.0, 2.0), quaternion=(0.0, 0.0, 0.0, …"
      ]
     },
     "metadata": {},
     "output_type": "display_data"
    }
   ],
   "source": [
    "nviz.plot_split_suggestions_per_limb(neuron_obj,\n",
    "                                    limb_results=limb_results,\n",
    "                                    scatter_size=1)"
   ]
  },
  {
   "cell_type": "markdown",
   "metadata": {},
   "source": [
    "# Getting Neuroglancer link"
   ]
  },
  {
   "cell_type": "code",
   "execution_count": 79,
   "metadata": {},
   "outputs": [
    {
     "data": {
      "text/html": [
       "<a href=\"https://neuromancer-seung-import.appspot.com/#!%7B%22jsonStateServer%22:%22https://globalv1.daf-apis.com/nglstate/api/v1/post%22,%22navigation%22:%7B%22pose%22:%7B%22position%22:%7B%22voxelSize%22:%5B4.0,4.0,40.0%5D,%22voxelCoordinates%22:%5B250562.5,182143.375,20687.38671875%5D%7D%7D,%22zoomFactor%22:2.0%7D,%22showSlices%22:false,%22layout%22:%22xy-3d%22,%22perspectiveZoom%22:2000.0,%22layers%22:%5B%7B%22type%22:%22image%22,%22source%22:%22precomputed://https://seungdata.princeton.edu/minnie65-phase3-em/aligned/v1%22,%22name%22:%22img%22,%22shader%22:%22#uicontrol%20float%20black%20slider(min=0,%20max=1,%20default=0.35)%5Cn#uicontrol%20float%20white%20slider(min=0,%20max=1,%20default=0.65)%5Cnfloat%20rescale(float%20value)%20%7B%5Cn%20%20return%20(value%20-%20black)%20/%20(white%20-%20black);%5Cn%7D%5Cnvoid%20main()%20%7B%5Cn%20%20float%20val%20=%20toNormalized(getDataValue());%5Cn%20%20if%20(val%20%3C%20black)%20%7B%5Cn%20%20%20%20emitRGB(vec3(0,0,0));%5Cn%20%20%7D%20else%20if%20(val%20%3E%20white)%20%7B%5Cn%20%20%20%20emitRGB(vec3(1.0,%201.0,%201.0));%5Cn%20%20%7D%20else%20%7B%5Cn%20%20%20%20emitGrayscale(rescale(val));%5Cn%20%20%7D%5Cn%7D%5Cn%22%7D,%7B%22type%22:%22segmentation_with_graph%22,%22source%22:%22graphene://https://minniev1.microns-daf.com/segmentation/table/minnie3_v1%22,%22name%22:%22seg%22,%22segments%22:%5B%22864691135012398582%22%5D,%22segmentColors%22:%7B%7D%7D,%7B%22type%22:%22annotation%22,%22linkedSegmentationLayer%22:%22seg%22,%22filterBySegmentation%22:false,%22bracketShortcutsShowSegmentation%22:true,%22annotationSelectionShowsSegmentation%22:true,%22annotationColor%22:%22#FFFFFF%22,%22name%22:%22split_cands%22,%22annotations%22:%5B%7B%22tagIds%22:%5B%5D,%22type%22:%22point%22,%22point%22:%5B250562.0,182143.0,20687.0%5D,%22id%22:%224511d72266c3ee557a9c37c570de9fc0ae77d881%22,%22segments%22:%5B%22864691135012398582%22%5D%7D,%7B%22tagIds%22:%5B%5D,%22type%22:%22point%22,%22point%22:%5B250823.0,173297.0,22191.0%5D,%22id%22:%22c45c9fa6a4ff55aaad07e34c00bce96582336330%22,%22segments%22:%5B%22864691135012398582%22%5D%7D,%7B%22tagIds%22:%5B%5D,%22type%22:%22point%22,%22point%22:%5B251427.0,174379.0,22137.0%5D,%22id%22:%228f4802bddb1189721b936640e67dd8b301d77b46%22,%22segments%22:%5B%22864691135012398582%22%5D%7D,%7B%22tagIds%22:%5B%5D,%22type%22:%22point%22,%22point%22:%5B253141.0,176069.0,21762.0%5D,%22id%22:%223d2017fb60daefa86dec2ac17e597cc05226393d%22,%22segments%22:%5B%22864691135012398582%22%5D%7D,%7B%22tagIds%22:%5B%5D,%22type%22:%22point%22,%22point%22:%5B253415.0,176678.0,21397.0%5D,%22id%22:%2207fa6c692f4703f782bf177859abd030b4632b2b%22,%22segments%22:%5B%22864691135012398582%22%5D%7D,%7B%22tagIds%22:%5B%5D,%22type%22:%22point%22,%22point%22:%5B254700.0,174326.0,21900.0%5D,%22id%22:%22ddb9b56c7d32d3158f5de8ff2bc8ace58de30446%22,%22segments%22:%5B%22864691135012398582%22%5D%7D,%7B%22tagIds%22:%5B%5D,%22type%22:%22point%22,%22point%22:%5B254939.0,171008.0,21587.0%5D,%22id%22:%22a147a14d678dc155a01c4997a493bff52b7e878c%22,%22segments%22:%5B%22864691135012398582%22%5D%7D,%7B%22tagIds%22:%5B%5D,%22type%22:%22point%22,%22point%22:%5B255110.0,170481.0,21647.0%5D,%22id%22:%22162a4cffc95b0a0c23e1f95506235fc5481a7f96%22,%22segments%22:%5B%22864691135012398582%22%5D%7D,%7B%22tagIds%22:%5B%5D,%22type%22:%22point%22,%22point%22:%5B255317.0,164894.0,21263.0%5D,%22id%22:%22df590989c04302a0cc35101fe1d3402a925ac2f4%22,%22segments%22:%5B%22864691135012398582%22%5D%7D,%7B%22tagIds%22:%5B%5D,%22type%22:%22point%22,%22point%22:%5B256942.0,173260.0,20969.0%5D,%22id%22:%223c7f9578ad4c66a93febfc6a5ed1cb7fcf4aaf84%22,%22segments%22:%5B%22864691135012398582%22%5D%7D,%7B%22tagIds%22:%5B%5D,%22type%22:%22point%22,%22point%22:%5B257251.0,175839.0,21381.0%5D,%22id%22:%22502d1bc143f2183b78dfe6f3a088b1c4315e9ac1%22,%22segments%22:%5B%22864691135012398582%22%5D%7D,%7B%22tagIds%22:%5B%5D,%22type%22:%22point%22,%22point%22:%5B261280.0,173991.0,21444.0%5D,%22id%22:%22ee774e38aba07b60dd9ffa3c28fb92c90a49d85e%22,%22segments%22:%5B%22864691135012398582%22%5D%7D,%7B%22tagIds%22:%5B%5D,%22type%22:%22point%22,%22point%22:%5B261981.0,174239.0,21455.0%5D,%22id%22:%223d9f39edf947cfe39c83dc5913a13028fe66e1bc%22,%22segments%22:%5B%22864691135012398582%22%5D%7D,%7B%22tagIds%22:%5B%5D,%22type%22:%22point%22,%22point%22:%5B270125.0,168190.0,23181.0%5D,%22id%22:%22fa4cc1252f1cf8f247fc36878192bbcbfdc9b6f4%22,%22segments%22:%5B%22864691135012398582%22%5D%7D%5D%7D%5D,%22selectedLayer%22:%7B%22layer%22:%22split_cands%22,%22visible%22:true%7D%7D\" target=\"_blank\">Neuroglancer Link</a>"
      ],
      "text/plain": [
       "<IPython.core.display.HTML object>"
      ]
     },
     "execution_count": 79,
     "metadata": {},
     "output_type": "execute_result"
    }
   ],
   "source": [
    "split_coordinates = pru.get_all_coordinate_suggestions(limb_results)\n",
    "\n",
    "pru.split_coordinates_to_neuroglancer_link(split_coordinates,\n",
    "                      neuron_obj.segment_id)"
   ]
  },
  {
   "cell_type": "code",
   "execution_count": 80,
   "metadata": {},
   "outputs": [
    {
     "data": {
      "text/html": [
       "<a href=\"https://neuromancer-seung-import.appspot.com/#!%7B%22jsonStateServer%22:%22https://globalv1.daf-apis.com/nglstate/api/v1/post%22,%22navigation%22:%7B%22pose%22:%7B%22position%22:%7B%22voxelSize%22:%5B4.0,4.0,40.0%5D,%22voxelCoordinates%22:%5B250562.5,182143.375,20687.38671875%5D%7D%7D,%22zoomFactor%22:2.0%7D,%22showSlices%22:false,%22layout%22:%22xy-3d%22,%22perspectiveZoom%22:2000.0,%22layers%22:%5B%7B%22type%22:%22image%22,%22source%22:%22precomputed://https://seungdata.princeton.edu/minnie65-phase3-em/aligned/v1%22,%22name%22:%22img%22,%22shader%22:%22#uicontrol%20float%20black%20slider(min=0,%20max=1,%20default=0.35)%5Cn#uicontrol%20float%20white%20slider(min=0,%20max=1,%20default=0.65)%5Cnfloat%20rescale(float%20value)%20%7B%5Cn%20%20return%20(value%20-%20black)%20/%20(white%20-%20black);%5Cn%7D%5Cnvoid%20main()%20%7B%5Cn%20%20float%20val%20=%20toNormalized(getDataValue());%5Cn%20%20if%20(val%20%3C%20black)%20%7B%5Cn%20%20%20%20emitRGB(vec3(0,0,0));%5Cn%20%20%7D%20else%20if%20(val%20%3E%20white)%20%7B%5Cn%20%20%20%20emitRGB(vec3(1.0,%201.0,%201.0));%5Cn%20%20%7D%20else%20%7B%5Cn%20%20%20%20emitGrayscale(rescale(val));%5Cn%20%20%7D%5Cn%7D%5Cn%22%7D,%7B%22type%22:%22segmentation_with_graph%22,%22source%22:%22graphene://https://minniev1.microns-daf.com/segmentation/table/minnie3_v1%22,%22name%22:%22seg%22,%22segments%22:%5B%22864691135012398582%22%5D,%22segmentColors%22:%7B%7D%7D,%7B%22type%22:%22annotation%22,%22linkedSegmentationLayer%22:%22seg%22,%22filterBySegmentation%22:false,%22bracketShortcutsShowSegmentation%22:true,%22annotationSelectionShowsSegmentation%22:true,%22annotationColor%22:%22#ffffff%22,%22name%22:%22cut_path%22,%22annotations%22:%5B%7B%22tagIds%22:%5B%5D,%22type%22:%22point%22,%22point%22:%5B253070.0,176027.0,21748.0%5D,%22id%22:%224921fe993d1f78362a1d9d25255767c8649b94dc%22,%22segments%22:%5B%22864691135012398582%22%5D%7D,%7B%22tagIds%22:%5B%5D,%22type%22:%22point%22,%22point%22:%5B253212.0,176111.0,21777.0%5D,%22id%22:%22078b3fc355030744b2e89b63ac856e234d04c161%22,%22segments%22:%5B%22864691135012398582%22%5D%7D,%7B%22tagIds%22:%5B%5D,%22type%22:%22point%22,%22point%22:%5B254317.0,175786.0,21448.0%5D,%22id%22:%22560782900fe0404c6eefce95f5f150264903bc5f%22,%22segments%22:%5B%22864691135012398582%22%5D%7D,%7B%22tagIds%22:%5B%5D,%22type%22:%22point%22,%22point%22:%5B254682.0,174198.0,21898.0%5D,%22id%22:%22f63fc3be677d26cfae27ffdf6f7216a286f31c19%22,%22segments%22:%5B%22864691135012398582%22%5D%7D,%7B%22tagIds%22:%5B%5D,%22type%22:%22point%22,%22point%22:%5B254717.0,174453.0,21902.0%5D,%22id%22:%22d57ce93bd662821073f84c551b6070279d76ad0a%22,%22segments%22:%5B%22864691135012398582%22%5D%7D,%7B%22tagIds%22:%5B%5D,%22type%22:%22point%22,%22point%22:%5B255587.0,173860.0,21329.0%5D,%22id%22:%221d300f831364638f36a4608b2b0c7d9c82b8224c%22,%22segments%22:%5B%22864691135012398582%22%5D%7D,%7B%22tagIds%22:%5B%5D,%22type%22:%22point%22,%22point%22:%5B257447.0,173205.0,21736.0%5D,%22id%22:%22add435f87e67e0da9ba05da0af2a6a4febe2ebec%22,%22segments%22:%5B%22864691135012398582%22%5D%7D,%7B%22tagIds%22:%5B%5D,%22type%22:%22point%22,%22point%22:%5B250823.0,173297.0,22191.0%5D,%22id%22:%22ebbb7e865d1e9263eb1ab60388a27dcfe2df5b8e%22,%22segments%22:%5B%22864691135012398582%22%5D%7D,%7B%22tagIds%22:%5B%5D,%22type%22:%22point%22,%22point%22:%5B250967.0,173000.0,22223.0%5D,%22id%22:%2217efa8388b2792db57253e23f61d315ad4d7f3ac%22,%22segments%22:%5B%22864691135012398582%22%5D%7D,%7B%22tagIds%22:%5B%5D,%22type%22:%22point%22,%22point%22:%5B251427.0,174379.0,22137.0%5D,%22id%22:%228e7de5a8a6867685f8b6b3b2e2ae9170b394e3e6%22,%22segments%22:%5B%22864691135012398582%22%5D%7D,%7B%22tagIds%22:%5B%5D,%22type%22:%22point%22,%22point%22:%5B252832.0,174453.0,21980.0%5D,%22id%22:%221cc0a417e8ea8b53af20502fd928bef1ad7e1484%22,%22segments%22:%5B%22864691135012398582%22%5D%7D,%7B%22tagIds%22:%5B%5D,%22type%22:%22point%22,%22point%22:%5B253141.0,176069.0,21762.0%5D,%22id%22:%22d5c22f8be8dba93d77f8bde008c31cbfde76e4e3%22,%22segments%22:%5B%22864691135012398582%22%5D%7D,%7B%22tagIds%22:%5B%5D,%22type%22:%22point%22,%22point%22:%5B253415.0,176678.0,21397.0%5D,%22id%22:%22998c76e79e72499a87d1b13e414a1325d4208978%22,%22segments%22:%5B%22864691135012398582%22%5D%7D,%7B%22tagIds%22:%5B%5D,%22type%22:%22point%22,%22point%22:%5B254317.0,175786.0,21448.0%5D,%22id%22:%2270a08902628730522440bb3230eb6cd8f1046c29%22,%22segments%22:%5B%22864691135012398582%22%5D%7D,%7B%22tagIds%22:%5B%5D,%22type%22:%22point%22,%22point%22:%5B254700.0,174326.0,21900.0%5D,%22id%22:%226c3e335b59dfe12c45cc7137e0e154feaccf5b20%22,%22segments%22:%5B%22864691135012398582%22%5D%7D,%7B%22tagIds%22:%5B%5D,%22type%22:%22point%22,%22point%22:%5B254939.0,171008.0,21587.0%5D,%22id%22:%223bbb642441843d99f5609f34e4eb1ac93f75af02%22,%22segments%22:%5B%22864691135012398582%22%5D%7D,%7B%22tagIds%22:%5B%5D,%22type%22:%22point%22,%22point%22:%5B254982.0,170554.0,21674.0%5D,%22id%22:%22f7e5ccef303476fffcc170e9ded0ca89acc0ca16%22,%22segments%22:%5B%22864691135012398582%22%5D%7D,%7B%22tagIds%22:%5B%5D,%22type%22:%22point%22,%22point%22:%5B255587.0,173860.0,21329.0%5D,%22id%22:%22aae5ab8466eb18c195f73b14ccec05c38d3e8153%22,%22segments%22:%5B%22864691135012398582%22%5D%7D,%7B%22tagIds%22:%5B%5D,%22type%22:%22point%22,%22point%22:%5B257447.0,173205.0,21736.0%5D,%22id%22:%22959574a0ca6f49dc6d9240d31d5239b401524a38%22,%22segments%22:%5B%22864691135012398582%22%5D%7D,%7B%22tagIds%22:%5B%5D,%22type%22:%22point%22,%22point%22:%5B250823.0,173297.0,22191.0%5D,%22id%22:%22eaa18d379ed9de0b1feb42583247d01393d8c7d0%22,%22segments%22:%5B%22864691135012398582%22%5D%7D,%7B%22tagIds%22:%5B%5D,%22type%22:%22point%22,%22point%22:%5B250967.0,173000.0,22223.0%5D,%22id%22:%22c725873af3a8952fca51f72513039ac36f9c433b%22,%22segments%22:%5B%22864691135012398582%22%5D%7D,%7B%22tagIds%22:%5B%5D,%22type%22:%22point%22,%22point%22:%5B251427.0,174379.0,22137.0%5D,%22id%22:%22bcc487e5ba38635caceab4def6ff6145be26404b%22,%22segments%22:%5B%22864691135012398582%22%5D%7D,%7B%22tagIds%22:%5B%5D,%22type%22:%22point%22,%22point%22:%5B252832.0,174453.0,21980.0%5D,%22id%22:%22d49c9baeaf66b00c8cf7fa0bf309ac84f3fce48b%22,%22segments%22:%5B%22864691135012398582%22%5D%7D,%7B%22tagIds%22:%5B%5D,%22type%22:%22point%22,%22point%22:%5B253141.0,176069.0,21762.0%5D,%22id%22:%22525d7418bcb9e9f36aee3422db3bc0bfc749dbd7%22,%22segments%22:%5B%22864691135012398582%22%5D%7D,%7B%22tagIds%22:%5B%5D,%22type%22:%22point%22,%22point%22:%5B253415.0,176678.0,21397.0%5D,%22id%22:%2288b44d37951db8f03ad71f7c94e8d586b10884f2%22,%22segments%22:%5B%22864691135012398582%22%5D%7D,%7B%22tagIds%22:%5B%5D,%22type%22:%22point%22,%22point%22:%5B254317.0,175786.0,21448.0%5D,%22id%22:%22ff08699109da26a2d4d11bdc02f216763a23fe31%22,%22segments%22:%5B%22864691135012398582%22%5D%7D,%7B%22tagIds%22:%5B%5D,%22type%22:%22point%22,%22point%22:%5B254700.0,174326.0,21900.0%5D,%22id%22:%22cbe4fb51f372bebfba011ea3d0a9c02571244a0d%22,%22segments%22:%5B%22864691135012398582%22%5D%7D,%7B%22tagIds%22:%5B%5D,%22type%22:%22point%22,%22point%22:%5B254939.0,171008.0,21587.0%5D,%22id%22:%226e4c53e18cdbe25fa78513f3471f2a1d72001881%22,%22segments%22:%5B%22864691135012398582%22%5D%7D,%7B%22tagIds%22:%5B%5D,%22type%22:%22point%22,%22point%22:%5B255097.0,170508.0,21660.0%5D,%22id%22:%22d1a6af395c423e8a5062700d331259b71aa72ab8%22,%22segments%22:%5B%22864691135012398582%22%5D%7D,%7B%22tagIds%22:%5B%5D,%22type%22:%22point%22,%22point%22:%5B255587.0,173860.0,21329.0%5D,%22id%22:%22e71f74b30a10c0ac534de480f06423ffd99c1f9c%22,%22segments%22:%5B%22864691135012398582%22%5D%7D,%7B%22tagIds%22:%5B%5D,%22type%22:%22point%22,%22point%22:%5B257447.0,173205.0,21736.0%5D,%22id%22:%22001326d153b9f1cd1cf2631fab5fd4d0dd0e1ebc%22,%22segments%22:%5B%22864691135012398582%22%5D%7D,%7B%22tagIds%22:%5B%5D,%22type%22:%22point%22,%22point%22:%5B250522.0,181987.0,20683.0%5D,%22id%22:%22690513f5cc5315e50e956c491959c8ed767b83ae%22,%22segments%22:%5B%22864691135012398582%22%5D%7D,%7B%22tagIds%22:%5B%5D,%22type%22:%22point%22,%22point%22:%5B250602.0,182299.0,20691.0%5D,%22id%22:%22c14ac2957e58126a7ddeb0e2a3b3a6bcdf2b375a%22,%22segments%22:%5B%22864691135012398582%22%5D%7D,%7B%22tagIds%22:%5B%5D,%22type%22:%22point%22,%22point%22:%5B251867.0,177894.0,21274.0%5D,%22id%22:%2268c1b0a34c6cc407e558582a17b53ee7ce9d1491%22,%22segments%22:%5B%22864691135012398582%22%5D%7D,%7B%22tagIds%22:%5B%5D,%22type%22:%22point%22,%22point%22:%5B253415.0,176678.0,21397.0%5D,%22id%22:%22b62d0654527abe3f4f0515461a26bcdc670b68f0%22,%22segments%22:%5B%22864691135012398582%22%5D%7D,%7B%22tagIds%22:%5B%5D,%22type%22:%22point%22,%22point%22:%5B254317.0,175786.0,21448.0%5D,%22id%22:%22c61460f5a80b78fc7700340b867ae73c1ffe898d%22,%22segments%22:%5B%22864691135012398582%22%5D%7D,%7B%22tagIds%22:%5B%5D,%22type%22:%22point%22,%22point%22:%5B255587.0,173860.0,21329.0%5D,%22id%22:%2279ce2f119fb39523f5ea0bdade0595a76100a8be%22,%22segments%22:%5B%22864691135012398582%22%5D%7D,%7B%22tagIds%22:%5B%5D,%22type%22:%22point%22,%22point%22:%5B257110.0,175696.0,21365.0%5D,%22id%22:%2207a2468d63c73d8db8ab0af273659e35cd9142e4%22,%22segments%22:%5B%22864691135012398582%22%5D%7D,%7B%22tagIds%22:%5B%5D,%22type%22:%22point%22,%22point%22:%5B257160.0,173790.0,21354.0%5D,%22id%22:%22a4418c7145cfe2d69800005d179773a914952279%22,%22segments%22:%5B%22864691135012398582%22%5D%7D,%7B%22tagIds%22:%5B%5D,%22type%22:%22point%22,%22point%22:%5B250823.0,173297.0,22191.0%5D,%22id%22:%22f8dfed060e74f4db4ee0f360866793726c478c48%22,%22segments%22:%5B%22864691135012398582%22%5D%7D,%7B%22tagIds%22:%5B%5D,%22type%22:%22point%22,%22point%22:%5B250967.0,173000.0,22223.0%5D,%22id%22:%22f72cc5dc143868531d7350e3437fc813f326036b%22,%22segments%22:%5B%22864691135012398582%22%5D%7D,%7B%22tagIds%22:%5B%5D,%22type%22:%22point%22,%22point%22:%5B251427.0,174379.0,22137.0%5D,%22id%22:%229e5fc0b1ccbfb71f4e414d275b9cf1dd36daf607%22,%22segments%22:%5B%22864691135012398582%22%5D%7D,%7B%22tagIds%22:%5B%5D,%22type%22:%22point%22,%22point%22:%5B252832.0,174453.0,21980.0%5D,%22id%22:%228db462ac53d403a859b94ae45e7a573cd02a7996%22,%22segments%22:%5B%22864691135012398582%22%5D%7D,%7B%22tagIds%22:%5B%5D,%22type%22:%22point%22,%22point%22:%5B253141.0,176069.0,21762.0%5D,%22id%22:%226a4703b766a095f42937b96e2c4292b5dd0e398b%22,%22segments%22:%5B%22864691135012398582%22%5D%7D,%7B%22tagIds%22:%5B%5D,%22type%22:%22point%22,%22point%22:%5B253415.0,176678.0,21397.0%5D,%22id%22:%2214cb20d8cf41483f31a1c47742a34eea02765a96%22,%22segments%22:%5B%22864691135012398582%22%5D%7D,%7B%22tagIds%22:%5B%5D,%22type%22:%22point%22,%22point%22:%5B254700.0,174326.0,21900.0%5D,%22id%22:%2245c60d5d86777f1f12314b00319267f537c03eb0%22,%22segments%22:%5B%22864691135012398582%22%5D%7D,%7B%22tagIds%22:%5B%5D,%22type%22:%22point%22,%22point%22:%5B254939.0,171008.0,21587.0%5D,%22id%22:%22f5c710d100fbfef41b59cb8a12d5195996c0c7e5%22,%22segments%22:%5B%22864691135012398582%22%5D%7D,%7B%22tagIds%22:%5B%5D,%22type%22:%22point%22,%22point%22:%5B255110.0,170481.0,21647.0%5D,%22id%22:%228c84533494af86bd08278242fdf5071fa8ef1803%22,%22segments%22:%5B%22864691135012398582%22%5D%7D,%7B%22tagIds%22:%5B%5D,%22type%22:%22point%22,%22point%22:%5B255637.0,171466.0,21418.0%5D,%22id%22:%22f1f90d48e0a28c9412266f8b390bfdea1e76f6e4%22,%22segments%22:%5B%22864691135012398582%22%5D%7D,%7B%22tagIds%22:%5B%5D,%22type%22:%22point%22,%22point%22:%5B257447.0,173205.0,21736.0%5D,%22id%22:%22ea61347236e1f42d12036a1a49c1372beb1ba3ea%22,%22segments%22:%5B%22864691135012398582%22%5D%7D,%7B%22tagIds%22:%5B%5D,%22type%22:%22point%22,%22point%22:%5B250823.0,173297.0,22191.0%5D,%22id%22:%22ff94968efbdd9cff1095c6948bd13d7f7073ff10%22,%22segments%22:%5B%22864691135012398582%22%5D%7D,%7B%22tagIds%22:%5B%5D,%22type%22:%22point%22,%22point%22:%5B250967.0,173000.0,22223.0%5D,%22id%22:%22f492e7337c2be7ce29610109c2a40e06b41ec2fa%22,%22segments%22:%5B%22864691135012398582%22%5D%7D,%7B%22tagIds%22:%5B%5D,%22type%22:%22point%22,%22point%22:%5B251427.0,174379.0,22137.0%5D,%22id%22:%22c9d6b7c8b01af114ad46035ed7db22969697879b%22,%22segments%22:%5B%22864691135012398582%22%5D%7D,%7B%22tagIds%22:%5B%5D,%22type%22:%22point%22,%22point%22:%5B252832.0,174453.0,21980.0%5D,%22id%22:%2287963772696cf983cd541fb1f92dba307d2beb7b%22,%22segments%22:%5B%22864691135012398582%22%5D%7D,%7B%22tagIds%22:%5B%5D,%22type%22:%22point%22,%22point%22:%5B253141.0,176069.0,21762.0%5D,%22id%22:%22e0984bd5fbb71b4023e7a76bd7c7564c264aa20a%22,%22segments%22:%5B%22864691135012398582%22%5D%7D,%7B%22tagIds%22:%5B%5D,%22type%22:%22point%22,%22point%22:%5B253415.0,176678.0,21397.0%5D,%22id%22:%2207a4bedc65dd2dff0412268e2eecbb4b62466e58%22,%22segments%22:%5B%22864691135012398582%22%5D%7D,%7B%22tagIds%22:%5B%5D,%22type%22:%22point%22,%22point%22:%5B254700.0,174326.0,21900.0%5D,%22id%22:%221664d392288d25b2c795ce3f6e7748efa288a85b%22,%22segments%22:%5B%22864691135012398582%22%5D%7D,%7B%22tagIds%22:%5B%5D,%22type%22:%22point%22,%22point%22:%5B254939.0,171008.0,21587.0%5D,%22id%22:%22a42ee86dbaa969c1cb31dd0427c58d8c409fa867%22,%22segments%22:%5B%22864691135012398582%22%5D%7D,%7B%22tagIds%22:%5B%5D,%22type%22:%22point%22,%22point%22:%5B255110.0,170481.0,21647.0%5D,%22id%22:%2294285370d53138a45892448bd7fdf146b6be50c5%22,%22segments%22:%5B%22864691135012398582%22%5D%7D,%7B%22tagIds%22:%5B%5D,%22type%22:%22point%22,%22point%22:%5B255637.0,171466.0,21418.0%5D,%22id%22:%22bfd7940674d09718ce94dd9dcfb5dd7f4e01c112%22,%22segments%22:%5B%22864691135012398582%22%5D%7D,%7B%22tagIds%22:%5B%5D,%22type%22:%22point%22,%22point%22:%5B257447.0,173205.0,21736.0%5D,%22id%22:%223c95dce84ff2922ca1179936af7813907467f331%22,%22segments%22:%5B%22864691135012398582%22%5D%7D,%7B%22tagIds%22:%5B%5D,%22type%22:%22point%22,%22point%22:%5B250823.0,173297.0,22191.0%5D,%22id%22:%225768b306d6925cffc0400a11d46dea15c9cc1aaf%22,%22segments%22:%5B%22864691135012398582%22%5D%7D,%7B%22tagIds%22:%5B%5D,%22type%22:%22point%22,%22point%22:%5B250967.0,173000.0,22223.0%5D,%22id%22:%22e30a90c4140ee09b604e0c9ffa4af447fad3e2e5%22,%22segments%22:%5B%22864691135012398582%22%5D%7D,%7B%22tagIds%22:%5B%5D,%22type%22:%22point%22,%22point%22:%5B251427.0,174379.0,22137.0%5D,%22id%22:%2227a6d8144ebc965d6d205e8d7cbde3370e8253e6%22,%22segments%22:%5B%22864691135012398582%22%5D%7D,%7B%22tagIds%22:%5B%5D,%22type%22:%22point%22,%22point%22:%5B252832.0,174453.0,21980.0%5D,%22id%22:%227372f4eb3fa7bcfd46eeef25e0871f4064b8b568%22,%22segments%22:%5B%22864691135012398582%22%5D%7D,%7B%22tagIds%22:%5B%5D,%22type%22:%22point%22,%22point%22:%5B253141.0,176069.0,21762.0%5D,%22id%22:%22b2bf1d3bde5f32ed940bee42090a96a5bbcb3b2f%22,%22segments%22:%5B%22864691135012398582%22%5D%7D,%7B%22tagIds%22:%5B%5D,%22type%22:%22point%22,%22point%22:%5B253415.0,176678.0,21397.0%5D,%22id%22:%22d2388f993343c2c7d0b3aa6639c555c25e0dbb8e%22,%22segments%22:%5B%22864691135012398582%22%5D%7D,%7B%22tagIds%22:%5B%5D,%22type%22:%22point%22,%22point%22:%5B254700.0,174326.0,21900.0%5D,%22id%22:%22ad409b14bdadf9ae6a76cf2d8976057fca5d067d%22,%22segments%22:%5B%22864691135012398582%22%5D%7D,%7B%22tagIds%22:%5B%5D,%22type%22:%22point%22,%22point%22:%5B254939.0,171008.0,21587.0%5D,%22id%22:%225787fb424e74fd1c92f517f3753ee3524a6926c4%22,%22segments%22:%5B%22864691135012398582%22%5D%7D,%7B%22tagIds%22:%5B%5D,%22type%22:%22point%22,%22point%22:%5B255110.0,170481.0,21647.0%5D,%22id%22:%22b1cf6b3158259f31bf207c88530c223ecd140557%22,%22segments%22:%5B%22864691135012398582%22%5D%7D,%7B%22tagIds%22:%5B%5D,%22type%22:%22point%22,%22point%22:%5B255637.0,171466.0,21418.0%5D,%22id%22:%222681922adc3d38b0e170385ce9c43ff53edf6b6d%22,%22segments%22:%5B%22864691135012398582%22%5D%7D,%7B%22tagIds%22:%5B%5D,%22type%22:%22point%22,%22point%22:%5B257447.0,173205.0,21736.0%5D,%22id%22:%22d2ea4b848701df6fc19dbef7b766092311507c80%22,%22segments%22:%5B%22864691135012398582%22%5D%7D,%7B%22tagIds%22:%5B%5D,%22type%22:%22point%22,%22point%22:%5B250823.0,173297.0,22191.0%5D,%22id%22:%229731755f6a26f4ed6f8a85e10e7fa0d1360e8d2f%22,%22segments%22:%5B%22864691135012398582%22%5D%7D,%7B%22tagIds%22:%5B%5D,%22type%22:%22point%22,%22point%22:%5B250967.0,173000.0,22223.0%5D,%22id%22:%226a3b55e131106914ea4871ef43146e0d1e8b0dfa%22,%22segments%22:%5B%22864691135012398582%22%5D%7D,%7B%22tagIds%22:%5B%5D,%22type%22:%22point%22,%22point%22:%5B251427.0,174379.0,22137.0%5D,%22id%22:%22bf223957aa7e90708eba3dc465c004d37c67adbf%22,%22segments%22:%5B%22864691135012398582%22%5D%7D,%7B%22tagIds%22:%5B%5D,%22type%22:%22point%22,%22point%22:%5B252832.0,174453.0,21980.0%5D,%22id%22:%221a7e184ca2af15572b454d56f269027ebf37fc4e%22,%22segments%22:%5B%22864691135012398582%22%5D%7D,%7B%22tagIds%22:%5B%5D,%22type%22:%22point%22,%22point%22:%5B253141.0,176069.0,21762.0%5D,%22id%22:%224b54d0cd2626a5eb4d03a006888061c099d2c954%22,%22segments%22:%5B%22864691135012398582%22%5D%7D,%7B%22tagIds%22:%5B%5D,%22type%22:%22point%22,%22point%22:%5B253415.0,176678.0,21397.0%5D,%22id%22:%22060f1dd1344f74f53e76b81b8b90e172f0cafd84%22,%22segments%22:%5B%22864691135012398582%22%5D%7D,%7B%22tagIds%22:%5B%5D,%22type%22:%22point%22,%22point%22:%5B254700.0,174326.0,21900.0%5D,%22id%22:%22ed1915d69fed4d00216007447cdbb49c1c12c96e%22,%22segments%22:%5B%22864691135012398582%22%5D%7D,%7B%22tagIds%22:%5B%5D,%22type%22:%22point%22,%22point%22:%5B254939.0,171008.0,21587.0%5D,%22id%22:%22b43f786a7aeef1e9895bdda2df037bfa1c1f9d60%22,%22segments%22:%5B%22864691135012398582%22%5D%7D,%7B%22tagIds%22:%5B%5D,%22type%22:%22point%22,%22point%22:%5B255110.0,170481.0,21647.0%5D,%22id%22:%226eb12c302a025f1a9c123958c3a75a8f499a3734%22,%22segments%22:%5B%22864691135012398582%22%5D%7D,%7B%22tagIds%22:%5B%5D,%22type%22:%22point%22,%22point%22:%5B255637.0,171466.0,21418.0%5D,%22id%22:%220133fbcf9999097da03c31a52d8bb5db4aed6ac6%22,%22segments%22:%5B%22864691135012398582%22%5D%7D,%7B%22tagIds%22:%5B%5D,%22type%22:%22point%22,%22point%22:%5B257447.0,173205.0,21736.0%5D,%22id%22:%22b19a9d1be7974ecc42bcb9e833f3c13b7704ecba%22,%22segments%22:%5B%22864691135012398582%22%5D%7D,%7B%22tagIds%22:%5B%5D,%22type%22:%22point%22,%22point%22:%5B250823.0,173297.0,22191.0%5D,%22id%22:%22dad7285b492b24706b17526576e2c24e5791a41c%22,%22segments%22:%5B%22864691135012398582%22%5D%7D,%7B%22tagIds%22:%5B%5D,%22type%22:%22point%22,%22point%22:%5B250967.0,173000.0,22223.0%5D,%22id%22:%2288f865a65553f2553ec63ba095d9265fd7aa70f5%22,%22segments%22:%5B%22864691135012398582%22%5D%7D,%7B%22tagIds%22:%5B%5D,%22type%22:%22point%22,%22point%22:%5B251427.0,174379.0,22137.0%5D,%22id%22:%221f6d1207aaff4df642917954a32c3a60db6fe707%22,%22segments%22:%5B%22864691135012398582%22%5D%7D,%7B%22tagIds%22:%5B%5D,%22type%22:%22point%22,%22point%22:%5B252832.0,174453.0,21980.0%5D,%22id%22:%22ee8b1bfa229ea3c38f004897124eb2a52b65399b%22,%22segments%22:%5B%22864691135012398582%22%5D%7D,%7B%22tagIds%22:%5B%5D,%22type%22:%22point%22,%22point%22:%5B253415.0,176678.0,21397.0%5D,%22id%22:%22c429c8f0c1df89521f2a871f15e939fcd5e8935f%22,%22segments%22:%5B%22864691135012398582%22%5D%7D,%7B%22tagIds%22:%5B%5D,%22type%22:%22point%22,%22point%22:%5B254700.0,174326.0,21900.0%5D,%22id%22:%22e59a24f8c98cab76b6f98692b04f6e73d46c2109%22,%22segments%22:%5B%22864691135012398582%22%5D%7D,%7B%22tagIds%22:%5B%5D,%22type%22:%22point%22,%22point%22:%5B254939.0,171008.0,21587.0%5D,%22id%22:%22808a7559ba738c4acee9e18e4f0f4f860f2b477e%22,%22segments%22:%5B%22864691135012398582%22%5D%7D,%7B%22tagIds%22:%5B%5D,%22type%22:%22point%22,%22point%22:%5B255110.0,170481.0,21647.0%5D,%22id%22:%2240064f37a7de434a8c3d403dbc16668f0abd7ad6%22,%22segments%22:%5B%22864691135012398582%22%5D%7D,%7B%22tagIds%22:%5B%5D,%22type%22:%22point%22,%22point%22:%5B255637.0,171466.0,21418.0%5D,%22id%22:%2269b37040a133a309acf900534a9b8dac32b0bace%22,%22segments%22:%5B%22864691135012398582%22%5D%7D,%7B%22tagIds%22:%5B%5D,%22type%22:%22point%22,%22point%22:%5B257447.0,173205.0,21736.0%5D,%22id%22:%22cd81c1293148f8ac44c88481e285e6fb966e4a0d%22,%22segments%22:%5B%22864691135012398582%22%5D%7D,%7B%22tagIds%22:%5B%5D,%22type%22:%22point%22,%22point%22:%5B250823.0,173297.0,22191.0%5D,%22id%22:%22739af74bc926da50dee115223e0ca54f8aee2c6e%22,%22segments%22:%5B%22864691135012398582%22%5D%7D,%7B%22tagIds%22:%5B%5D,%22type%22:%22point%22,%22point%22:%5B250967.0,173000.0,22223.0%5D,%22id%22:%225592dd08b0d1639346c8db5641aa4061ee4de6a5%22,%22segments%22:%5B%22864691135012398582%22%5D%7D,%7B%22tagIds%22:%5B%5D,%22type%22:%22point%22,%22point%22:%5B251427.0,174379.0,22137.0%5D,%22id%22:%22a5df6bbd4d44f41d990525a6c7283f01667b0c0b%22,%22segments%22:%5B%22864691135012398582%22%5D%7D,%7B%22tagIds%22:%5B%5D,%22type%22:%22point%22,%22point%22:%5B252832.0,174453.0,21980.0%5D,%22id%22:%22eefef57d4b8925566f023e121b12b40439802d05%22,%22segments%22:%5B%22864691135012398582%22%5D%7D,%7B%22tagIds%22:%5B%5D,%22type%22:%22point%22,%22point%22:%5B254700.0,174326.0,21900.0%5D,%22id%22:%22e2f54bb1f9f71b72aa0d2ff46e6fe3b526d97c85%22,%22segments%22:%5B%22864691135012398582%22%5D%7D,%7B%22tagIds%22:%5B%5D,%22type%22:%22point%22,%22point%22:%5B254939.0,171008.0,21587.0%5D,%22id%22:%22c3c878bfacf0c14b707819cf124312a608c5c101%22,%22segments%22:%5B%22864691135012398582%22%5D%7D,%7B%22tagIds%22:%5B%5D,%22type%22:%22point%22,%22point%22:%5B255110.0,170481.0,21647.0%5D,%22id%22:%2230586b32bcf8f8f68b4b27ff850b888f46340d5c%22,%22segments%22:%5B%22864691135012398582%22%5D%7D,%7B%22tagIds%22:%5B%5D,%22type%22:%22point%22,%22point%22:%5B255637.0,171466.0,21418.0%5D,%22id%22:%224dcc2688949a3b38846f85521cb58b0aea518625%22,%22segments%22:%5B%22864691135012398582%22%5D%7D,%7B%22tagIds%22:%5B%5D,%22type%22:%22point%22,%22point%22:%5B257447.0,173205.0,21736.0%5D,%22id%22:%22a7896d75e4c3f02cbd93592d1e930d40c40bf380%22,%22segments%22:%5B%22864691135012398582%22%5D%7D,%7B%22tagIds%22:%5B%5D,%22type%22:%22point%22,%22point%22:%5B250823.0,173297.0,22191.0%5D,%22id%22:%22fa433743fd59d0b464a4c244e2b183b652e2129b%22,%22segments%22:%5B%22864691135012398582%22%5D%7D,%7B%22tagIds%22:%5B%5D,%22type%22:%22point%22,%22point%22:%5B250967.0,173000.0,22223.0%5D,%22id%22:%2291401eff44f0f9cf39ca472b3918d9590b5dd778%22,%22segments%22:%5B%22864691135012398582%22%5D%7D,%7B%22tagIds%22:%5B%5D,%22type%22:%22point%22,%22point%22:%5B251427.0,174379.0,22137.0%5D,%22id%22:%227bf5e8f86235d7a1730c7da37e5965314a949b1a%22,%22segments%22:%5B%22864691135012398582%22%5D%7D,%7B%22tagIds%22:%5B%5D,%22type%22:%22point%22,%22point%22:%5B252832.0,174453.0,21980.0%5D,%22id%22:%22f0ca8f162a4408586ab8ce5648bb94978ba190bb%22,%22segments%22:%5B%22864691135012398582%22%5D%7D,%7B%22tagIds%22:%5B%5D,%22type%22:%22point%22,%22point%22:%5B253632.0,165783.0,21673.0%5D,%22id%22:%2282f442a5088c0f07dd40111f4de7f0b047457888%22,%22segments%22:%5B%22864691135012398582%22%5D%7D,%7B%22tagIds%22:%5B%5D,%22type%22:%22point%22,%22point%22:%5B254700.0,174326.0,21900.0%5D,%22id%22:%22bb12bdfa69c8cdea3fb08b7a40c14539b01842db%22,%22segments%22:%5B%22864691135012398582%22%5D%7D,%7B%22tagIds%22:%5B%5D,%22type%22:%22point%22,%22point%22:%5B255317.0,164894.0,21263.0%5D,%22id%22:%22fcf2193ba3e8d693619378dfe1618fe79edbbf4d%22,%22segments%22:%5B%22864691135012398582%22%5D%7D,%7B%22tagIds%22:%5B%5D,%22type%22:%22point%22,%22point%22:%5B256110.0,169439.0,21184.0%5D,%22id%22:%226558ec86c97a21b990e4e0d4bb5674b4f64a33b4%22,%22segments%22:%5B%22864691135012398582%22%5D%7D,%7B%22tagIds%22:%5B%5D,%22type%22:%22point%22,%22point%22:%5B256125.0,169582.0,21187.0%5D,%22id%22:%223cd8a3fcf95ed3944bdb763869bc779d91bae69d%22,%22segments%22:%5B%22864691135012398582%22%5D%7D,%7B%22tagIds%22:%5B%5D,%22type%22:%22point%22,%22point%22:%5B257447.0,173205.0,21736.0%5D,%22id%22:%22f089ece450021965007ef1a2aee4b07571f768af%22,%22segments%22:%5B%22864691135012398582%22%5D%7D,%7B%22tagIds%22:%5B%5D,%22type%22:%22point%22,%22point%22:%5B250823.0,173297.0,22191.0%5D,%22id%22:%225cbd28923d85a6cc66ca2a02ad31b1e442037aa1%22,%22segments%22:%5B%22864691135012398582%22%5D%7D,%7B%22tagIds%22:%5B%5D,%22type%22:%22point%22,%22point%22:%5B250967.0,173000.0,22223.0%5D,%22id%22:%22989d4336ff983cee36a944a6b0be173e8c18463f%22,%22segments%22:%5B%22864691135012398582%22%5D%7D,%7B%22tagIds%22:%5B%5D,%22type%22:%22point%22,%22point%22:%5B251427.0,174379.0,22137.0%5D,%22id%22:%22f8604d6e071cbcaeac680c901bc786497f227029%22,%22segments%22:%5B%22864691135012398582%22%5D%7D,%7B%22tagIds%22:%5B%5D,%22type%22:%22point%22,%22point%22:%5B252832.0,174453.0,21980.0%5D,%22id%22:%22a2d374b0e0fc55d454f7718e608d03dffc30e235%22,%22segments%22:%5B%22864691135012398582%22%5D%7D,%7B%22tagIds%22:%5B%5D,%22type%22:%22point%22,%22point%22:%5B253632.0,165783.0,21673.0%5D,%22id%22:%22c5fee195a7e103081444ff6c015537199233223d%22,%22segments%22:%5B%22864691135012398582%22%5D%7D,%7B%22tagIds%22:%5B%5D,%22type%22:%22point%22,%22point%22:%5B254700.0,174326.0,21900.0%5D,%22id%22:%22bfe08847fc01a49cedf0390aa1067b30347ed104%22,%22segments%22:%5B%22864691135012398582%22%5D%7D,%7B%22tagIds%22:%5B%5D,%22type%22:%22point%22,%22point%22:%5B255317.0,164894.0,21263.0%5D,%22id%22:%22ac07ccf102f64575547ba458b8be9bfe49e5148c%22,%22segments%22:%5B%22864691135012398582%22%5D%7D,%7B%22tagIds%22:%5B%5D,%22type%22:%22point%22,%22point%22:%5B256110.0,169439.0,21184.0%5D,%22id%22:%22f083ccc9b2cc91e74de6803fc1ed42e10732a6a0%22,%22segments%22:%5B%22864691135012398582%22%5D%7D,%7B%22tagIds%22:%5B%5D,%22type%22:%22point%22,%22point%22:%5B256125.0,169582.0,21187.0%5D,%22id%22:%2261b539f82646b58c1322e9028699569db1b94a32%22,%22segments%22:%5B%22864691135012398582%22%5D%7D,%7B%22tagIds%22:%5B%5D,%22type%22:%22point%22,%22point%22:%5B257447.0,173205.0,21736.0%5D,%22id%22:%22159138d1b716615bf4d1bf7383873f23dd799639%22,%22segments%22:%5B%22864691135012398582%22%5D%7D,%7B%22tagIds%22:%5B%5D,%22type%22:%22point%22,%22point%22:%5B250823.0,173297.0,22191.0%5D,%22id%22:%22ed123133e8214d43aa99e00d5d139bf2e2545338%22,%22segments%22:%5B%22864691135012398582%22%5D%7D,%7B%22tagIds%22:%5B%5D,%22type%22:%22point%22,%22point%22:%5B250967.0,173000.0,22223.0%5D,%22id%22:%22333770ed04464f9f2f360b791c91723ce09f164c%22,%22segments%22:%5B%22864691135012398582%22%5D%7D,%7B%22tagIds%22:%5B%5D,%22type%22:%22point%22,%22point%22:%5B251427.0,174379.0,22137.0%5D,%22id%22:%227c3a27a78682153847d7d1e52a15b697ed926a8f%22,%22segments%22:%5B%22864691135012398582%22%5D%7D,%7B%22tagIds%22:%5B%5D,%22type%22:%22point%22,%22point%22:%5B252832.0,174453.0,21980.0%5D,%22id%22:%22612f34477bbdf8b2ab6bdec382af7afdf161a9ae%22,%22segments%22:%5B%22864691135012398582%22%5D%7D,%7B%22tagIds%22:%5B%5D,%22type%22:%22point%22,%22point%22:%5B253632.0,165783.0,21673.0%5D,%22id%22:%2278e55609966014b32d9f93e32d3196089a86312f%22,%22segments%22:%5B%22864691135012398582%22%5D%7D,%7B%22tagIds%22:%5B%5D,%22type%22:%22point%22,%22point%22:%5B254700.0,174326.0,21900.0%5D,%22id%22:%22e0d2e9eebfa68f6f4f3cd683d3f5cda21a15cf8b%22,%22segments%22:%5B%22864691135012398582%22%5D%7D,%7B%22tagIds%22:%5B%5D,%22type%22:%22point%22,%22point%22:%5B255317.0,164894.0,21263.0%5D,%22id%22:%22628314a687a0e220394225a65e77d063ff942b4f%22,%22segments%22:%5B%22864691135012398582%22%5D%7D,%7B%22tagIds%22:%5B%5D,%22type%22:%22point%22,%22point%22:%5B256110.0,169439.0,21184.0%5D,%22id%22:%224de3637d7680a3ae0f76a9b1f2301c175acc495f%22,%22segments%22:%5B%22864691135012398582%22%5D%7D,%7B%22tagIds%22:%5B%5D,%22type%22:%22point%22,%22point%22:%5B256125.0,169582.0,21187.0%5D,%22id%22:%226bb1b9ce012a8fad507077d5e606a459aa64541c%22,%22segments%22:%5B%22864691135012398582%22%5D%7D,%7B%22tagIds%22:%5B%5D,%22type%22:%22point%22,%22point%22:%5B257447.0,173205.0,21736.0%5D,%22id%22:%225c0a3cc264d330cf34927097bce397486cf76a2f%22,%22segments%22:%5B%22864691135012398582%22%5D%7D,%7B%22tagIds%22:%5B%5D,%22type%22:%22point%22,%22point%22:%5B250823.0,173297.0,22191.0%5D,%22id%22:%22538d3706b9ab6175a0c660269d549962a7e67c20%22,%22segments%22:%5B%22864691135012398582%22%5D%7D,%7B%22tagIds%22:%5B%5D,%22type%22:%22point%22,%22point%22:%5B251427.0,174379.0,22137.0%5D,%22id%22:%2221e46baaec18a38b7b14b74008cf38526716acf5%22,%22segments%22:%5B%22864691135012398582%22%5D%7D,%7B%22tagIds%22:%5B%5D,%22type%22:%22point%22,%22point%22:%5B252832.0,174453.0,21980.0%5D,%22id%22:%22c072d67418e9a0039fd0b5aa0725d4873640053d%22,%22segments%22:%5B%22864691135012398582%22%5D%7D,%7B%22tagIds%22:%5B%5D,%22type%22:%22point%22,%22point%22:%5B253632.0,165783.0,21673.0%5D,%22id%22:%22764b29dd9c1480f35aa530e6c884dc81ac3f4424%22,%22segments%22:%5B%22864691135012398582%22%5D%7D,%7B%22tagIds%22:%5B%5D,%22type%22:%22point%22,%22point%22:%5B254700.0,174326.0,21900.0%5D,%22id%22:%226bd0996eb476a1d21f4bf40676f6f02926f50d04%22,%22segments%22:%5B%22864691135012398582%22%5D%7D,%7B%22tagIds%22:%5B%5D,%22type%22:%22point%22,%22point%22:%5B255317.0,164894.0,21263.0%5D,%22id%22:%225e0070c1cf6ced9c7e8fcea018d939837efe0b68%22,%22segments%22:%5B%22864691135012398582%22%5D%7D,%7B%22tagIds%22:%5B%5D,%22type%22:%22point%22,%22point%22:%5B256110.0,169439.0,21184.0%5D,%22id%22:%228b2c7171c446b7fa63f6cfadb76e8ae8afebbd3d%22,%22segments%22:%5B%22864691135012398582%22%5D%7D,%7B%22tagIds%22:%5B%5D,%22type%22:%22point%22,%22point%22:%5B256125.0,169582.0,21187.0%5D,%22id%22:%225069590e4d36bab2c69ed8e8f12346f0946bac5b%22,%22segments%22:%5B%22864691135012398582%22%5D%7D,%7B%22tagIds%22:%5B%5D,%22type%22:%22point%22,%22point%22:%5B257447.0,173205.0,21736.0%5D,%22id%22:%229be18886bf7354617d6d3e0175412d9cfce10fd9%22,%22segments%22:%5B%22864691135012398582%22%5D%7D,%7B%22tagIds%22:%5B%5D,%22type%22:%22point%22,%22point%22:%5B257147.0,175826.0,21372.0%5D,%22id%22:%22985bb55e815e56756d819a4d9b5126a1508194df%22,%22segments%22:%5B%22864691135012398582%22%5D%7D,%7B%22tagIds%22:%5B%5D,%22type%22:%22point%22,%22point%22:%5B257160.0,173790.0,21354.0%5D,%22id%22:%22b4cc67bf108947f316738da91b096b63e859467c%22,%22segments%22:%5B%22864691135012398582%22%5D%7D,%7B%22tagIds%22:%5B%5D,%22type%22:%22point%22,%22point%22:%5B257355.0,175851.0,21390.0%5D,%22id%22:%22e61dfc6586f16a72a42a05015b426722d89faaa0%22,%22segments%22:%5B%22864691135012398582%22%5D%7D,%7B%22tagIds%22:%5B%5D,%22type%22:%22point%22,%22point%22:%5B258205.0,174312.0,21472.0%5D,%22id%22:%2275e16c5193d817a3895a52391449be21279675b5%22,%22segments%22:%5B%22864691135012398582%22%5D%7D,%7B%22tagIds%22:%5B%5D,%22type%22:%22point%22,%22point%22:%5B256777.0,173235.0,20972.0%5D,%22id%22:%224dc3dd0dab0f2be0b2f1f4c51d5a9dc6b5e82167%22,%22segments%22:%5B%22864691135012398582%22%5D%7D,%7B%22tagIds%22:%5B%5D,%22type%22:%22point%22,%22point%22:%5B257095.0,173187.0,21011.0%5D,%22id%22:%229e02acc745129ae115db15d20efa768f9b87ac67%22,%22segments%22:%5B%22864691135012398582%22%5D%7D,%7B%22tagIds%22:%5B%5D,%22type%22:%22point%22,%22point%22:%5B257107.0,173285.0,20966.0%5D,%22id%22:%2261a51871c8f7015d8941d7522a86bb683be91850%22,%22segments%22:%5B%22864691135012398582%22%5D%7D,%7B%22tagIds%22:%5B%5D,%22type%22:%22point%22,%22point%22:%5B258760.0,169694.0,21562.0%5D,%22id%22:%2278ff9d9edb1aeae39eb9dd59ec102d8d38b6c221%22,%22segments%22:%5B%22864691135012398582%22%5D%7D,%7B%22tagIds%22:%5B%5D,%22type%22:%22point%22,%22point%22:%5B259135.0,167931.0,21505.0%5D,%22id%22:%22ef949efa357324b05685a6c6b1f7fc5d4d1b3389%22,%22segments%22:%5B%22864691135012398582%22%5D%7D,%7B%22tagIds%22:%5B%5D,%22type%22:%22point%22,%22point%22:%5B258115.0,173008.0,21347.0%5D,%22id%22:%22a9124179004c422912f838c04a55307f0e8ee796%22,%22segments%22:%5B%22864691135012398582%22%5D%7D,%7B%22tagIds%22:%5B%5D,%22type%22:%22point%22,%22point%22:%5B260432.0,173669.0,21416.0%5D,%22id%22:%220c144f0132c7246e0e3019dce0d6df467d0fd3cb%22,%22segments%22:%5B%22864691135012398582%22%5D%7D,%7B%22tagIds%22:%5B%5D,%22type%22:%22point%22,%22point%22:%5B261146.0,173965.0,21442.0%5D,%22id%22:%22a1155385eef1849accba8a71e44b6a4271efb7b5%22,%22segments%22:%5B%22864691135012398582%22%5D%7D,%7B%22tagIds%22:%5B%5D,%22type%22:%22point%22,%22point%22:%5B261285.0,173562.0,21494.0%5D,%22id%22:%226b38408222e77066ba42fdf7abe0e1b0eba38928%22,%22segments%22:%5B%22864691135012398582%22%5D%7D,%7B%22tagIds%22:%5B%5D,%22type%22:%22point%22,%22point%22:%5B261415.0,174017.0,21447.0%5D,%22id%22:%221b6312f5a044f255dfd55af9e672473a553e43fc%22,%22segments%22:%5B%22864691135012398582%22%5D%7D,%7B%22tagIds%22:%5B%5D,%22type%22:%22point%22,%22point%22:%5B261981.0,174239.0,21455.0%5D,%22id%22:%2241d9c161a028f5428dc74acdfb9158352b0bbce8%22,%22segments%22:%5B%22864691135012398582%22%5D%7D,%7B%22tagIds%22:%5B%5D,%22type%22:%22point%22,%22point%22:%5B258115.0,173008.0,21347.0%5D,%22id%22:%22bec6f917789df3a062d45f34f429b94e561947e3%22,%22segments%22:%5B%22864691135012398582%22%5D%7D,%7B%22tagIds%22:%5B%5D,%22type%22:%22point%22,%22point%22:%5B260432.0,173669.0,21416.0%5D,%22id%22:%22244e3714af738e40e69d0326d7c8a3cb066c9869%22,%22segments%22:%5B%22864691135012398582%22%5D%7D,%7B%22tagIds%22:%5B%5D,%22type%22:%22point%22,%22point%22:%5B261280.0,173991.0,21444.0%5D,%22id%22:%22242dd8f57682c65356d58c1689ed6b038350a5b0%22,%22segments%22:%5B%22864691135012398582%22%5D%7D,%7B%22tagIds%22:%5B%5D,%22type%22:%22point%22,%22point%22:%5B261285.0,173562.0,21494.0%5D,%22id%22:%2252220a4dc0e088c8a7cba2e83a2680a73e8e297f%22,%22segments%22:%5B%22864691135012398582%22%5D%7D,%7B%22tagIds%22:%5B%5D,%22type%22:%22point%22,%22point%22:%5B261981.0,174239.0,21455.0%5D,%22id%22:%22ecfc87f003f5dff64bfc24e5247a2a2ede92a7bc%22,%22segments%22:%5B%22864691135012398582%22%5D%7D,%7B%22tagIds%22:%5B%5D,%22type%22:%22point%22,%22point%22:%5B258095.0,171269.0,21314.0%5D,%22id%22:%22948dd29b44fc2fdfbd2bad172e3549dcfbbb587e%22,%22segments%22:%5B%22864691135012398582%22%5D%7D,%7B%22tagIds%22:%5B%5D,%22type%22:%22point%22,%22point%22:%5B258125.0,171263.0,21315.0%5D,%22id%22:%228c7bbcba76f53614338dc7efb538320f99f143ec%22,%22segments%22:%5B%22864691135012398582%22%5D%7D,%7B%22tagIds%22:%5B%5D,%22type%22:%22point%22,%22point%22:%5B260600.0,172667.0,21739.0%5D,%22id%22:%221ddc8dbf63338cb7073e30b993bba4fbfda55c92%22,%22segments%22:%5B%22864691135012398582%22%5D%7D,%7B%22tagIds%22:%5B%5D,%22type%22:%22point%22,%22point%22:%5B261497.0,171289.0,21769.0%5D,%22id%22:%22df9e6d0bc71cc0f314685ae2df8a65315d2781fe%22,%22segments%22:%5B%22864691135012398582%22%5D%7D,%7B%22tagIds%22:%5B%5D,%22type%22:%22point%22,%22point%22:%5B266547.0,173063.0,22099.0%5D,%22id%22:%22869dcb92b453c26668c72574445898ff732a84eb%22,%22segments%22:%5B%22864691135012398582%22%5D%7D,%7B%22tagIds%22:%5B%5D,%22type%22:%22point%22,%22point%22:%5B267635.0,172002.0,22193.0%5D,%22id%22:%22db98fcc23b288485a2ab1575c7bfcf2432377a81%22,%22segments%22:%5B%22864691135012398582%22%5D%7D,%7B%22tagIds%22:%5B%5D,%22type%22:%22point%22,%22point%22:%5B270125.0,168190.0,23181.0%5D,%22id%22:%2254b9b8974760ae5a946cfc89b17c52d8ce602506%22,%22segments%22:%5B%22864691135012398582%22%5D%7D%5D%7D,%7B%22type%22:%22annotation%22,%22linkedSegmentationLayer%22:%22seg%22,%22filterBySegmentation%22:false,%22bracketShortcutsShowSegmentation%22:true,%22annotationSelectionShowsSegmentation%22:true,%22annotationColor%22:%22#008000%22,%22name%22:%22not_cut_path%22%7D,%7B%22type%22:%22annotation%22,%22linkedSegmentationLayer%22:%22seg%22,%22filterBySegmentation%22:false,%22bracketShortcutsShowSegmentation%22:true,%22annotationSelectionShowsSegmentation%22:true,%22annotationColor%22:%22#ff0000%22,%22name%22:%22split_location%22,%22annotations%22:%5B%7B%22tagIds%22:%5B%5D,%22type%22:%22point%22,%22point%22:%5B250562.0,182143.0,20687.0%5D,%22id%22:%22538a7327ad00a74dbd18a7fc81b66cfc20bface3%22,%22segments%22:%5B%22864691135012398582%22%5D%7D,%7B%22tagIds%22:%5B%5D,%22type%22:%22point%22,%22point%22:%5B250823.0,173297.0,22191.0%5D,%22id%22:%22b8e710aaa16d96e975dae5059745f4882aa82d13%22,%22segments%22:%5B%22864691135012398582%22%5D%7D,%7B%22tagIds%22:%5B%5D,%22type%22:%22point%22,%22point%22:%5B251427.0,174379.0,22137.0%5D,%22id%22:%22f651a6163fffd17ae3041a3fe0d6fda029b25095%22,%22segments%22:%5B%22864691135012398582%22%5D%7D,%7B%22tagIds%22:%5B%5D,%22type%22:%22point%22,%22point%22:%5B253141.0,176069.0,21762.0%5D,%22id%22:%221f846ddce00ee57a34d7619cfc15795fe99c4001%22,%22segments%22:%5B%22864691135012398582%22%5D%7D,%7B%22tagIds%22:%5B%5D,%22type%22:%22point%22,%22point%22:%5B253415.0,176678.0,21397.0%5D,%22id%22:%22ba36e32f5cb3af7d8aee815fa93f620dfa0d0e47%22,%22segments%22:%5B%22864691135012398582%22%5D%7D,%7B%22tagIds%22:%5B%5D,%22type%22:%22point%22,%22point%22:%5B254700.0,174326.0,21900.0%5D,%22id%22:%2247f56a8950239a7775e26cd50beb79ca32046bf9%22,%22segments%22:%5B%22864691135012398582%22%5D%7D,%7B%22tagIds%22:%5B%5D,%22type%22:%22point%22,%22point%22:%5B254939.0,171008.0,21587.0%5D,%22id%22:%2292a55b72da801545493524e3955e891912587133%22,%22segments%22:%5B%22864691135012398582%22%5D%7D,%7B%22tagIds%22:%5B%5D,%22type%22:%22point%22,%22point%22:%5B255110.0,170481.0,21647.0%5D,%22id%22:%22381591981c18d4f0c607b34b6f0210b5a7f266fa%22,%22segments%22:%5B%22864691135012398582%22%5D%7D,%7B%22tagIds%22:%5B%5D,%22type%22:%22point%22,%22point%22:%5B255317.0,164894.0,21263.0%5D,%22id%22:%2232ada0a984b5825e317a616125dcf463a2613e31%22,%22segments%22:%5B%22864691135012398582%22%5D%7D,%7B%22tagIds%22:%5B%5D,%22type%22:%22point%22,%22point%22:%5B256942.0,173260.0,20969.0%5D,%22id%22:%221011f80b870ae495199a5d921091ec24303b7233%22,%22segments%22:%5B%22864691135012398582%22%5D%7D,%7B%22tagIds%22:%5B%5D,%22type%22:%22point%22,%22point%22:%5B257251.0,175839.0,21381.0%5D,%22id%22:%22046c990df81bce26d8c03d216972d804e3fd942a%22,%22segments%22:%5B%22864691135012398582%22%5D%7D,%7B%22tagIds%22:%5B%5D,%22type%22:%22point%22,%22point%22:%5B261280.0,173991.0,21444.0%5D,%22id%22:%220470bf378dc3fad835b4b35efa148c466f9175c3%22,%22segments%22:%5B%22864691135012398582%22%5D%7D,%7B%22tagIds%22:%5B%5D,%22type%22:%22point%22,%22point%22:%5B261981.0,174239.0,21455.0%5D,%22id%22:%22b3c0d415d9a2dcb923ce47f4333c6591c186eecc%22,%22segments%22:%5B%22864691135012398582%22%5D%7D,%7B%22tagIds%22:%5B%5D,%22type%22:%22point%22,%22point%22:%5B270125.0,168190.0,23181.0%5D,%22id%22:%22563a33fa6fd0553ed2cc13365fcd9e6e552dcd1e%22,%22segments%22:%5B%22864691135012398582%22%5D%7D%5D%7D%5D,%22selectedLayer%22:%7B%22layer%22:%22split_location%22,%22visible%22:true%7D%7D\" target=\"_blank\">Neuroglancer Link</a>"
      ],
      "text/plain": [
       "<IPython.core.display.HTML object>"
      ]
     },
     "execution_count": 80,
     "metadata": {},
     "output_type": "execute_result"
    }
   ],
   "source": [
    "pru.split_info_to_neuroglancer_link(neuron_obj.segment_id,\n",
    "                                   split_info=limb_results)"
   ]
  },
  {
   "cell_type": "code",
   "execution_count": null,
   "metadata": {},
   "outputs": [],
   "source": []
  }
 ],
 "metadata": {
  "kernelspec": {
   "display_name": "Python 3",
   "language": "python",
   "name": "python3"
  },
  "language_info": {
   "codemirror_mode": {
    "name": "ipython",
    "version": 3
   },
   "file_extension": ".py",
   "mimetype": "text/x-python",
   "name": "python",
   "nbconvert_exporter": "python",
   "pygments_lexer": "ipython3",
   "version": "3.6.9"
  }
 },
 "nbformat": 4,
 "nbformat_minor": 4
}
