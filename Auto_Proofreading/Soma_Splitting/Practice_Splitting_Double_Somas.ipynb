{
 "cells": [
  {
   "cell_type": "code",
   "execution_count": null,
   "metadata": {},
   "outputs": [],
   "source": [
    "\"\"\"\n",
    "Purpose: To split a limb along a path that connects two somas together\n",
    "\n",
    "\n",
    "\"\"\""
   ]
  },
  {
   "cell_type": "code",
   "execution_count": 1,
   "metadata": {},
   "outputs": [],
   "source": [
    "from os import sys\n",
    "sys.path.append(\"/meshAfterParty/\")"
   ]
  },
  {
   "cell_type": "code",
   "execution_count": 3,
   "metadata": {},
   "outputs": [
    {
     "name": "stderr",
     "output_type": "stream",
     "text": [
      "INFO - 2020-12-02 18:52:52,419 - settings - Setting enable_python_native_blobs to True\n",
      "INFO - 2020-12-02 18:52:52,629 - settings - Setting enable_python_native_blobs to True\n",
      "INFO - 2020-12-02 18:52:52,635 - settings - Setting database.host to at-database.ad.bcm.edu\n",
      "INFO - 2020-12-02 18:52:52,636 - settings - Setting database.user to celiib\n",
      "INFO - 2020-12-02 18:52:52,637 - settings - Setting database.password to newceliipass\n",
      "INFO - 2020-12-02 18:52:52,640 - settings - Setting enable_python_native_blobs to True\n",
      "INFO - 2020-12-02 18:52:52,852 - settings - Setting enable_python_native_blobs to True\n"
     ]
    }
   ],
   "source": [
    "from importlib import reload\n",
    "\n",
    "import neuron_utils as nru\n",
    "\n",
    "import neuron\n",
    "\n",
    "import neuron_visualizations as nviz\n",
    "\n",
    "import time\n",
    "\n",
    "import datajoint_utils as du\n",
    "minnie,schema = du.configure_minnie_vm()\n",
    "du = reload(du)"
   ]
  },
  {
   "cell_type": "code",
   "execution_count": 7,
   "metadata": {},
   "outputs": [
    {
     "data": {
      "text/plain": [
       "array(['Exception: Something went wrong in remove_cycles_from_skeleton',\n",
       "       'Exception: Something went wrong in the connectivity',\n",
       "       'Exception: Something went wrong in waaterfilling algorithm',\n",
       "       'Exception: Something went wrong with 1 to 1 correspondence',\n",
       "       'Exception: Something went wrong with add_and_smooth_segment_to_branch',\n",
       "       'Exception: missing labels was not resolved',\n",
       "       'LostConnectionError: Connection was lost during a transaction.',\n",
       "       \"TypeError: fetch_segment_id_mesh() got an unexpected keyword argument 'minnie'\",\n",
       "       'ValueError: not enough values to unpack (expected 2, got 0)'],\n",
       "      dtype=object)"
      ]
     },
     "execution_count": 7,
     "metadata": {},
     "output_type": "execute_result"
    }
   ],
   "source": [
    "import numpy as np\n",
    "error_messages = (schema.jobs & 'table_name=\"__decomposition\"' & \"status='error'\").fetch(\"error_message\")\n",
    "np.unique(error_messages)"
   ]
  },
  {
   "cell_type": "code",
   "execution_count": null,
   "metadata": {},
   "outputs": [],
   "source": []
  }
 ],
 "metadata": {
  "kernelspec": {
   "display_name": "Python 3",
   "language": "python",
   "name": "python3"
  },
  "language_info": {
   "codemirror_mode": {
    "name": "ipython",
    "version": 3
   },
   "file_extension": ".py",
   "mimetype": "text/x-python",
   "name": "python",
   "nbconvert_exporter": "python",
   "pygments_lexer": "ipython3",
   "version": "3.6.9"
  }
 },
 "nbformat": 4,
 "nbformat_minor": 4
}
