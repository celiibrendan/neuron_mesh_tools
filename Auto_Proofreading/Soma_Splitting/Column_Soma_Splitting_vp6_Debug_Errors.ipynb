{
 "cells": [
  {
   "cell_type": "code",
   "execution_count": null,
   "metadata": {},
   "outputs": [],
   "source": [
    "\"\"\"\n",
    "Purpose: To Practice splitting different \n",
    "versions and then pushing the changes to \n",
    "neuroglancer\n",
    "\n",
    "\n",
    "\"\"\""
   ]
  },
  {
   "cell_type": "code",
   "execution_count": 1,
   "metadata": {},
   "outputs": [],
   "source": [
    "%load_ext autoreload\n",
    "%autoreload 2"
   ]
  },
  {
   "cell_type": "code",
   "execution_count": 2,
   "metadata": {},
   "outputs": [],
   "source": [
    "from os import sys\n",
    "sys.path.append(\"/meshAfterParty/\")"
   ]
  },
  {
   "cell_type": "code",
   "execution_count": 3,
   "metadata": {},
   "outputs": [
    {
     "name": "stderr",
     "output_type": "stream",
     "text": [
      "INFO - 2021-01-19 18:01:41,247 - settings - Setting database.host to at-database.ad.bcm.edu\n",
      "INFO - 2021-01-19 18:01:41,249 - settings - Setting database.user to celiib\n",
      "INFO - 2021-01-19 18:01:41,249 - settings - Setting database.password to newceliipass\n",
      "INFO - 2021-01-19 18:01:41,253 - settings - Setting stores to {'minnie65': {'protocol': 'file', 'location': '/mnt/dj-stor01/platinum/minnie65', 'stage': '/mnt/dj-stor01/platinum/minnie65'}, 'meshes': {'protocol': 'file', 'location': '/mnt/dj-stor01/platinum/minnie65/02/meshes', 'stage': '/mnt/dj-stor01/platinum/minnie65/02/meshes'}, 'decimated_meshes': {'protocol': 'file', 'location': '/mnt/dj-stor01/platinum/minnie65/02/decimated_meshes', 'stage': '/mnt/dj-stor01/platinum/minnie65/02/decimated_meshes'}, 'skeletons': {'protocol': 'file', 'location': '/mnt/dj-stor01/platinum/minnie65/02/skeletons'}}\n",
      "INFO - 2021-01-19 18:01:41,254 - settings - Setting enable_python_native_blobs to True\n",
      "INFO - 2021-01-19 18:01:41,266 - connection - Connected celiib@at-database.ad.bcm.edu:3306\n"
     ]
    },
    {
     "name": "stdout",
     "output_type": "stream",
     "text": [
      "Connecting celiib@at-database.ad.bcm.edu:3306\n"
     ]
    },
    {
     "name": "stderr",
     "output_type": "stream",
     "text": [
      "INFO - 2021-01-19 18:01:41,533 - settings - Setting enable_python_native_blobs to True\n"
     ]
    }
   ],
   "source": [
    "from importlib import reload\n",
    "\n",
    "import neuron_utils as nru\n",
    "\n",
    "import neuron\n",
    "\n",
    "import neuron_visualizations as nviz\n",
    "\n",
    "import time\n",
    "\n",
    "import datajoint_utils as du\n",
    "\n",
    "import numpy as np"
   ]
  },
  {
   "cell_type": "code",
   "execution_count": 4,
   "metadata": {},
   "outputs": [
    {
     "name": "stderr",
     "output_type": "stream",
     "text": [
      "INFO - 2021-01-19 18:01:41,623 - settings - Setting enable_python_native_blobs to True\n",
      "INFO - 2021-01-19 18:01:41,888 - settings - Setting enable_python_native_blobs to True\n"
     ]
    }
   ],
   "source": [
    "minnie,schema = du.configure_minnie_vm()"
   ]
  },
  {
   "cell_type": "markdown",
   "metadata": {},
   "source": [
    "# Picking the Neuron"
   ]
  },
  {
   "cell_type": "code",
   "execution_count": 115,
   "metadata": {},
   "outputs": [],
   "source": [
    "segment_id = 864691135373436616 #worked (but needed a branch sharp angling)\n",
    "segment_id = 864691135568932230 #worked\n",
    "segment_id = 864691135081756919"
   ]
  },
  {
   "cell_type": "code",
   "execution_count": 116,
   "metadata": {},
   "outputs": [
    {
     "name": "stdout",
     "output_type": "stream",
     "text": [
      "Decompressing Neuron in minimal output mode...please wait\n"
     ]
    }
   ],
   "source": [
    "neuron_obj = (minnie.Decomposition & dict(segment_id=segment_id)).fetch1(\"decomposition\")"
   ]
  },
  {
   "cell_type": "code",
   "execution_count": 122,
   "metadata": {},
   "outputs": [
    {
     "name": "stdout",
     "output_type": "stream",
     "text": [
      "\n",
      " Working on visualization type: mesh\n",
      "\n",
      " Working on visualization type: skeleton\n"
     ]
    },
    {
     "data": {
      "application/vnd.jupyter.widget-view+json": {
       "model_id": "4eae6e3395ab49efa22d1a88213c40ce",
       "version_major": 2,
       "version_minor": 0
      },
      "text/plain": [
       "VBox(children=(Figure(camera=PerspectiveCamera(fov=46.0, position=(0.0, 0.0, 2.0), quaternion=(0.0, 0.0, 0.0, …"
      ]
     },
     "metadata": {},
     "output_type": "display_data"
    }
   ],
   "source": [
    "nviz.visualize_neuron(neuron_obj,\n",
    "                      visualize_type=[\"mesh\",\"skeleton\"],\n",
    "                     limb_branch_dict=\"all\")"
   ]
  },
  {
   "cell_type": "markdown",
   "metadata": {},
   "source": [
    "# Visualizing the Error Branches"
   ]
  },
  {
   "cell_type": "code",
   "execution_count": 118,
   "metadata": {
    "scrolled": true
   },
   "outputs": [
    {
     "data": {
      "image/png": "[encoded data removed]",
      "text/plain": [
       "<Figure size 432x288 with 1 Axes>"
      ]
     },
     "metadata": {},
     "output_type": "display_data"
    }
   ],
   "source": [
    "nviz.plot_soma_limb_concept_network(neuron_obj)"
   ]
  },
  {
   "cell_type": "markdown",
   "metadata": {},
   "source": [
    "# Running the Splitting Algorithm"
   ]
  },
  {
   "cell_type": "code",
   "execution_count": 121,
   "metadata": {
    "scrolled": false
   },
   "outputs": [
    {
     "name": "stdout",
     "output_type": "stream",
     "text": [
      "multi_soma_limbs = []\n",
      "multi_touch_limbs = [0 1]\n",
      "\n",
      "\n",
      " -------- Working on limb 0------------\n",
      "Starting combinations to process = [[ 34  45]\n",
      " [ 34  50]\n",
      " [ 34  52]\n",
      " [ 34  75]\n",
      " [ 34  77]\n",
      " [ 34  82]\n",
      " [ 34 104]\n",
      " [ 45  50]\n",
      " [ 45  52]\n",
      " [ 45  75]\n",
      " [ 45  77]\n",
      " [ 45  82]\n",
      " [ 45 104]\n",
      " [ 50  52]\n",
      " [ 50  75]\n",
      " [ 50  77]\n",
      " [ 50  82]\n",
      " [ 50 104]\n",
      " [ 52  75]\n",
      " [ 52  77]\n",
      " [ 52  82]\n",
      " [ 52 104]\n",
      " [ 75  77]\n",
      " [ 75  82]\n",
      " [ 75 104]\n",
      " [ 77  82]\n",
      " [ 77 104]\n",
      " [ 82 104]]\n",
      "\n",
      "\n",
      "---- working on disconnecting 34 and 45\n",
      "---- This disconnects S0_3 from S0_5  \n",
      " Cut iteration 0\n",
      "Total number of graphs at the end of the split BEFORE DIRECTIONAL = 1\n",
      "Total number of graphs at the end of the split AFTER DIRECTIONAL = 1\n",
      "Shortest path = [34, 25, 24, 36, 45]\n",
      "\n",
      " --------- START OF GET BEST EDGE --------- \n",
      "curr_limb.deleted_edges=[]\n",
      "consider_path_neighbors_for_removal is set so segments_to_consider = [ 1 16 24 25 26 27 36 46]\n",
      "Short segments to combine = []\n",
      "Found 1 high degree coordinates to cut\n",
      "Picking [789391.31159321 748476.650764   699809.89517039] high degree coordinates to cut\n",
      "curr_limb.deleted_edges 4=[]\n",
      "***inside resolve crossover!!!!****\n",
      "coordinate_branches = [1, 16, 24, 25]\n",
      "1 = red\n",
      "16 = aqua\n",
      "24 = purple\n",
      "25 = green\n",
      "Angle between 1 and 16 = 109.56 \n",
      "Angle between 1 and 24 = 87.29 \n",
      "Angle between 1 and 25 = 10.49 \n",
      "Angle between 16 and 24 = 17.53 \n",
      "Angle between 16 and 25 = 77.42 \n",
      "Angle between 24 and 25 = 85.23 \n",
      "Final Matches = [[1, 25], [16, 24]]\n",
      "matched_branches_revised = [[1, 25], [16, 24]]\n",
      "Original graph\n"
     ]
    },
    {
     "data": {
      "image/png": "[encoded data removed]",
      "text/plain": [
       "<Figure size 432x288 with 1 Axes>"
      ]
     },
     "metadata": {},
     "output_type": "display_data"
    },
    {
     "name": "stdout",
     "output_type": "stream",
     "text": [
      "match_branches = [[1, 25], [16, 24]]\n",
      "edges_to_delete (resolve crossover) = [[1, 16], [1, 24], [16, 25], [24, 25]]\n",
      "edges_to_create (resolve crossover) = [[1, 25], [16, 24]]\n",
      "curr_limb.deleted_edges 5 =[]\n",
      "NOT USING the resolve crossover delete edges because will help seperate the path\n",
      "skip_nodes = []\n",
      "\n",
      "Attempting the doubling back check (symmetrical so don't need to check from both sides)\n"
     ]
    },
    {
     "data": {
      "application/vnd.jupyter.widget-view+json": {
       "model_id": "a42a0e9fee5b4ba18b20578cb9cb2020",
       "version_major": 2,
       "version_minor": 0
      },
      "text/plain": [
       "HBox(children=(FloatProgress(value=0.0, max=4.0), HTML(value='')))"
      ]
     },
     "metadata": {},
     "output_type": "display_data"
    },
    {
     "name": "stdout",
     "output_type": "stream",
     "text": [
      "  Edge: [34 25]: curr_angle = 55.19\n",
      "  Edge: [25 24]: curr_angle = 79.22\n",
      "  Edge: [24 36]: curr_angle = 33.94\n",
      "  Edge: [36 45]: curr_angle = 39.41\n",
      "\n",
      "Total time for doubling_back = 0.20995712280273438\n",
      "\n",
      "Attempting the width jump check (ARTIFICIALLY ATTEMPTING FROM BOTH SIDES)\n",
      "width_jump_threshold = 200\n",
      "  Edge: [34 25]: jump = -328.86\n",
      "  Edge: [25 24]: jump = -117.72\n",
      "  Edge: [24 36]: jump = 63.96\n",
      "  Edge: [36 45]: jump = 191.07\n",
      "Total time for width = 0.18374109268188477\n",
      "first_error_sizes = [-inf, 328.8564080612472], first_error_locations = [inf, 3], winning_path = 1\n",
      "***inside resolve crossover!!!!****\n",
      "coordinate_branches = [25, 27, 34]\n",
      "25 = red\n",
      "27 = aqua\n",
      "34 = purple\n",
      "Angle between 25 and 27 = 95.01 \n",
      "Angle between 25 and 34 = 46.08 \n",
      "Angle between 27 and 34 = 45.58 \n",
      "Final Matches = []\n",
      "matched_branches_revised = []\n",
      "Original graph\n"
     ]
    },
    {
     "data": {
      "image/png": "[encoded data removed]",
      "text/plain": [
       "<Figure size 432x288 with 1 Axes>"
      ]
     },
     "metadata": {},
     "output_type": "display_data"
    },
    {
     "name": "stdout",
     "output_type": "stream",
     "text": [
      "match_branches = []\n",
      "edges_to_delete (resolve crossover) = [[25, 27], [25, 34], [27, 34]]\n",
      "edges_to_create (resolve crossover) = []\n",
      "edges_to_delete (cut_limb_network) = [array([25, 27]), array([25, 34]), array([27, 34])]\n",
      "edges_to_create = []\n",
      "Number of connected components = 2\n",
      "Comp 0 = {0, 1, 2, 3, 4, 5, 6, 7, 8, 9, 10, 11, 12, 13, 14, 15, 16, 17, 18, 19, 20, 21, 22, 23, 24, 25, 26, 27, 28, 29, 30, 31, 32, 33, 35, 36, 37, 38, 39, 40, 41, 42, 43, 44, 45, 46, 47, 48, 49, 50, 51, 52, 53, 54, 55, 56, 57, 58, 59, 60, 61, 62, 63, 64, 65, 66, 67, 68, 69, 70, 71, 72, 73, 74, 75, 76, 77, 78, 79, 80, 81, 82, 83, 84, 85, 86, 87, 88, 89, 90, 91, 92, 93, 94, 95, 96, 97, 98, 99, 100, 101, 102, 103, 104, 105, 106, 107, 108, 109, 110, 111, 112, 113, 114, 115, 116, 117, 118, 119, 120, 121, 122, 123, 124, 125, 126, 127, 128, 129, 130, 131, 132, 133, 134, 135, 136, 137, 138, 139, 140, 141, 142, 143, 144, 145, 146, 147, 148, 149, 150, 151, 152, 153, 154, 155, 156, 157, 158}\n",
      "Comp 1 = {34}\n",
      "curr_limb_copy.deleted_edges = [array([25, 27]), array([25, 34]), array([27, 34])]\n",
      "curr_limb_copy.created_edges = []\n",
      "After get best cut: cut_edges = [array([25, 27]), array([25, 34]), array([27, 34])], added_edges = []\n",
      "total_soma_paths_to_cut = []\n",
      "-----------counter = 0------------\n",
      " Cut iteration 1\n",
      "Total number of graphs at the end of the split BEFORE DIRECTIONAL = 2\n",
      "Total number of graphs at the end of the split AFTER DIRECTIONAL = 2\n",
      "No valid path so moving onto the next connection\n",
      "\n",
      "\n",
      "---- working on disconnecting 34 and 50\n",
      "---- This disconnects S0_3 from S0_6  \n",
      " Cut iteration 0\n",
      "Total number of graphs at the end of the split BEFORE DIRECTIONAL = 2\n",
      "Total number of graphs at the end of the split AFTER DIRECTIONAL = 2\n",
      "No valid path so moving onto the next connection\n",
      "\n",
      "\n",
      "---- working on disconnecting 34 and 52\n",
      "---- This disconnects S0_3 from S0_7  \n",
      " Cut iteration 0\n",
      "Total number of graphs at the end of the split BEFORE DIRECTIONAL = 2\n",
      "Total number of graphs at the end of the split AFTER DIRECTIONAL = 2\n",
      "No valid path so moving onto the next connection\n",
      "\n",
      "\n",
      "---- working on disconnecting 34 and 75\n",
      "---- This disconnects S0_3 from S0_0  \n",
      " Cut iteration 0\n",
      "Total number of graphs at the end of the split BEFORE DIRECTIONAL = 2\n",
      "Total number of graphs at the end of the split AFTER DIRECTIONAL = 2\n",
      "No valid path so moving onto the next connection\n",
      "\n",
      "\n",
      "---- working on disconnecting 34 and 77\n",
      "---- This disconnects S0_3 from S0_2  \n",
      " Cut iteration 0\n",
      "Total number of graphs at the end of the split BEFORE DIRECTIONAL = 2\n",
      "Total number of graphs at the end of the split AFTER DIRECTIONAL = 2\n",
      "No valid path so moving onto the next connection\n",
      "\n",
      "\n",
      "---- working on disconnecting 34 and 82\n",
      "---- This disconnects S0_3 from S0_4  \n",
      " Cut iteration 0\n",
      "Total number of graphs at the end of the split BEFORE DIRECTIONAL = 2\n",
      "Total number of graphs at the end of the split AFTER DIRECTIONAL = 2\n",
      "No valid path so moving onto the next connection\n",
      "\n",
      "\n",
      "---- working on disconnecting 34 and 104\n",
      "---- This disconnects S0_3 from S0_1  \n",
      " Cut iteration 0\n",
      "Total number of graphs at the end of the split BEFORE DIRECTIONAL = 2\n",
      "Total number of graphs at the end of the split AFTER DIRECTIONAL = 2\n",
      "No valid path so moving onto the next connection\n",
      "\n",
      "\n",
      "---- working on disconnecting 45 and 50\n",
      "---- This disconnects S0_5 from S0_6  \n",
      " Cut iteration 0\n",
      "Total number of graphs at the end of the split BEFORE DIRECTIONAL = 2\n",
      "Total number of graphs at the end of the split AFTER DIRECTIONAL = 2\n",
      "Shortest path = [45, 46, 49, 51, 59, 78, 98, 97, 85, 70, 69, 80, 79, 81, 58, 53, 43, 8, 9, 27, 23, 22, 21, 30, 50]\n",
      "\n",
      " --------- START OF GET BEST EDGE --------- \n",
      "curr_limb.deleted_edges=[array([25, 27]), array([25, 34]), array([27, 34])]\n",
      "consider_path_neighbors_for_removal is set so segments_to_consider = [  6   7   8   9  10  15  17  19  21  22  23  27  28  30  36  37  39  40\n",
      "  41  43  44  46  47  49  51  53  57  58  59  64  67  69  70  72  73  74\n",
      "  78  79  80  81  85  86  87  88  94  97  98 105 106 107]\n",
      "Short segments to combine = []\n",
      "Found 4 high degree coordinates to cut\n",
      "Picking [815142. 744771. 689709.] high degree coordinates to cut\n",
      "curr_limb.deleted_edges 4=[array([25, 27]), array([25, 34]), array([27, 34])]\n",
      "***inside resolve crossover!!!!****\n",
      "coordinate_branches = [28, 39, 49, 51]\n",
      "28 = red\n",
      "39 = aqua\n",
      "49 = purple\n",
      "51 = green\n",
      "Angle between 28 and 39 = 133.52 \n",
      "Angle between 28 and 49 = 25.62 \n",
      "Angle between 28 and 51 = 49.9 \n",
      "Angle between 39 and 49 = 72.09 \n",
      "Angle between 39 and 51 = 7.96 \n",
      "Angle between 49 and 51 = 104.63 \n",
      "Final Matches = [[28, 49], [39, 51]]\n",
      "matched_branches_revised = [[39, 51], [28, 49]]\n",
      "Original graph\n"
     ]
    },
    {
     "data": {
      "image/png": "[encoded data removed]",
      "text/plain": [
       "<Figure size 432x288 with 1 Axes>"
      ]
     },
     "metadata": {},
     "output_type": "display_data"
    },
    {
     "name": "stdout",
     "output_type": "stream",
     "text": [
      "match_branches = [[39, 51], [28, 49]]\n",
      "edges_to_delete (resolve crossover) = [[28, 39], [28, 51], [39, 49], [49, 51]]\n",
      "edges_to_create (resolve crossover) = [[39, 51], [28, 49]]\n",
      "curr_limb.deleted_edges 5 =[array([25, 27]), array([25, 34]), array([27, 34])]\n",
      "NOT USING the resolve crossover delete edges because will help seperate the path\n",
      "Picking [826048. 780305. 736391.] high degree coordinates to cut\n",
      "curr_limb.deleted_edges 4=[array([25, 27]), array([25, 34]), array([27, 34])]\n",
      "***inside resolve crossover!!!!****\n",
      "coordinate_branches = [40, 64, 69, 72, 74, 80]\n",
      "40 = red\n",
      "64 = aqua\n",
      "69 = purple\n",
      "72 = green\n",
      "Angle between 40 and 64 = 171.81 \n",
      "Angle between 40 and 69 = 23.54 \n",
      "Angle between 40 and 72 = 154.13 \n",
      "Angle between 40 and 74 = 146.99 \n",
      "Angle between 40 and 80 = 160.37 \n",
      "Angle between 64 and 69 = 31.72 \n",
      "Angle between 64 and 72 = 155.82 \n",
      "Angle between 64 and 74 = 148.35 \n",
      "Angle between 64 and 80 = 154.38 \n",
      "Angle between 69 and 72 = 40.09 \n",
      "Angle between 69 and 74 = 44.73 \n",
      "Angle between 69 and 80 = 18.22 \n",
      "Angle between 72 and 74 = 172.52 \n",
      "Angle between 72 and 80 = 156.98 \n",
      "Angle between 74 and 80 = 153.27 \n",
      "Final Matches = [[40, 69], [64, 69], [69, 80]]\n",
      "matched_branches_revised = [[69, 80]]\n",
      "Original graph\n"
     ]
    },
    {
     "data": {
      "image/png": "[encoded data removed]",
      "text/plain": [
       "<Figure size 432x288 with 1 Axes>"
      ]
     },
     "metadata": {},
     "output_type": "display_data"
    },
    {
     "name": "stdout",
     "output_type": "stream",
     "text": [
      "match_branches = [[69, 80]]\n",
      "edges_to_delete (resolve crossover) = [[40, 64], [40, 69], [40, 72], [40, 74], [40, 80], [64, 69], [64, 72], [64, 74], [64, 80], [69, 72], [69, 74], [72, 74], [72, 80], [74, 80]]\n",
      "edges_to_create (resolve crossover) = [[69, 80]]\n",
      "curr_limb.deleted_edges 5 =[array([25, 27]), array([25, 34]), array([27, 34])]\n",
      "NOT USING the resolve crossover delete edges because will help seperate the path\n",
      "Picking [827386. 797053. 753666.] high degree coordinates to cut\n",
      "curr_limb.deleted_edges 4=[array([25, 27]), array([25, 34]), array([27, 34])]\n",
      "***inside resolve crossover!!!!****\n",
      "coordinate_branches = [79, 81, 87, 88]\n",
      "79 = red\n",
      "81 = aqua\n",
      "87 = purple\n",
      "88 = green\n",
      "Angle between 79 and 81 = 158.36 \n",
      "Angle between 79 and 87 = 33.35 \n",
      "Angle between 79 and 88 = 11.51 \n",
      "Angle between 81 and 87 = 53.28 \n",
      "Angle between 81 and 88 = 22.57 \n",
      "Angle between 87 and 88 = 148.55 \n",
      "Final Matches = [[79, 87], [79, 88], [81, 88]]\n",
      "matched_branches_revised = [[79, 88]]\n",
      "Original graph\n"
     ]
    },
    {
     "data": {
      "image/png": "[encoded data removed]",
      "text/plain": [
       "<Figure size 432x288 with 1 Axes>"
      ]
     },
     "metadata": {},
     "output_type": "display_data"
    },
    {
     "name": "stdout",
     "output_type": "stream",
     "text": [
      "match_branches = [[79, 88]]\n",
      "edges_to_delete (resolve crossover) = [[79, 81], [79, 87], [81, 87], [81, 88], [87, 88]]\n",
      "edges_to_create (resolve crossover) = [[79, 88]]\n",
      "curr_limb.deleted_edges 5 =[array([25, 27]), array([25, 34]), array([27, 34])]\n",
      "NOT USING the resolve crossover delete edges because will help seperate the path\n",
      "Picking [834596. 754025. 714108.] high degree coordinates to cut\n",
      "curr_limb.deleted_edges 4=[array([25, 27]), array([25, 34]), array([27, 34])]\n",
      "***inside resolve crossover!!!!****\n",
      "coordinate_branches = [85, 97, 105, 106, 107]\n",
      "85 = red\n",
      "97 = aqua\n",
      "105 = purple\n",
      "106 = green\n",
      "Angle between 85 and 97 = 108.16 \n",
      "Angle between 85 and 105 = 55.14 \n",
      "Angle between 85 and 106 = 59.28 \n",
      "Angle between 85 and 107 = 8.5 \n",
      "Angle between 97 and 105 = 99.26 \n",
      "Angle between 97 and 106 = 21.08 \n",
      "Angle between 97 and 107 = 66.92 \n",
      "Angle between 105 and 106 = 78.35 \n",
      "Angle between 105 and 107 = 116.5 \n",
      "Angle between 106 and 107 = 127.57 \n",
      "Final Matches = [[85, 107], [97, 106]]\n",
      "matched_branches_revised = [[85, 107], [97, 106]]\n",
      "Original graph\n"
     ]
    },
    {
     "data": {
      "image/png": "[encoded data removed]",
      "text/plain": [
       "<Figure size 432x288 with 1 Axes>"
      ]
     },
     "metadata": {},
     "output_type": "display_data"
    },
    {
     "name": "stdout",
     "output_type": "stream",
     "text": [
      "match_branches = [[85, 107], [97, 106]]\n",
      "edges_to_delete (resolve crossover) = [[85, 97], [85, 105], [85, 106], [97, 105], [97, 107], [105, 106], [105, 107], [106, 107]]\n",
      "edges_to_create (resolve crossover) = [[85, 107], [97, 106]]\n",
      "curr_limb.deleted_edges 5 =[array([25, 27]), array([25, 34]), array([27, 34])]\n",
      "NOT USING the resolve crossover delete edges because will help seperate the path\n",
      "skip_nodes = []\n",
      "\n",
      "Attempting the doubling back check (symmetrical so don't need to check from both sides)\n"
     ]
    },
    {
     "data": {
      "application/vnd.jupyter.widget-view+json": {
       "model_id": "5c0fb0f8a8564a8bb0e8848a97d2b872",
       "version_major": 2,
       "version_minor": 0
      },
      "text/plain": [
       "HBox(children=(FloatProgress(value=0.0, max=24.0), HTML(value='')))"
      ]
     },
     "metadata": {},
     "output_type": "display_data"
    },
    {
     "name": "stdout",
     "output_type": "stream",
     "text": [
      "  Edge: [45 46]: curr_angle = 47.92\n",
      "  Edge: [46 49]: curr_angle = 29.98\n",
      "  Edge: [49 51]: curr_angle = 111.16\n",
      "  Edge: [51 59]: curr_angle = 37.72\n",
      "  Edge: [59 78]: curr_angle = 78.59\n",
      "  Edge: [78 98]: curr_angle = 29.58\n",
      "  Edge: [98 97]: curr_angle = 155.38\n",
      "  Edge: [97 85]: curr_angle = 98.65\n",
      "  Edge: [85 70]: curr_angle = 86.43\n",
      "  Edge: [70 69]: curr_angle = 46.39\n",
      "  Edge: [69 80]: curr_angle = 18.32\n",
      "  Edge: [80 79]: curr_angle = 20.01\n",
      "  Edge: [79 81]: curr_angle = 145.11\n",
      "  Edge: [81 58]: curr_angle = 14.67\n",
      "  Edge: [58 53]: curr_angle = 16.91\n",
      "  Edge: [53 43]: curr_angle = 134.85\n",
      "  Edge: [43  8]: curr_angle = 16.99\n",
      "  Edge: [8 9]: curr_angle = 159.83\n",
      "  Edge: [ 9 27]: curr_angle = 48.93\n",
      "  Edge: [27 23]: curr_angle = 143.57\n",
      "  Edge: [23 22]: curr_angle = 91.34\n",
      "  Edge: [22 21]: curr_angle = 123.79\n",
      "  Edge: [21 30]: curr_angle = 19.73\n",
      "  Edge: [30 50]: curr_angle = 34.05\n",
      "\n",
      "Total time for doubling_back = 1.3961694240570068\n",
      "There were 10 edges that passed doubling back threshold of 80\n",
      "Winning edge [8 9] had a doubling back of 159.82518222470318\n",
      "***inside resolve crossover!!!!****\n",
      "coordinate_branches = [6, 8, 9]\n",
      "6 = red\n",
      "8 = aqua\n",
      "9 = purple\n",
      "Angle between 6 and 8 = 167.58 \n",
      "Angle between 6 and 9 = 167.27 \n",
      "Angle between 8 and 9 = 158.51 \n",
      "Final Matches = []\n",
      "matched_branches_revised = []\n",
      "Original graph\n"
     ]
    },
    {
     "data": {
      "image/png": "[encoded data removed]",
      "text/plain": [
       "<Figure size 432x288 with 1 Axes>"
      ]
     },
     "metadata": {},
     "output_type": "display_data"
    },
    {
     "name": "stdout",
     "output_type": "stream",
     "text": [
      "match_branches = []\n",
      "edges_to_delete (resolve crossover) = [[6, 8], [6, 9], [8, 9]]\n",
      "edges_to_create (resolve crossover) = []\n",
      "edges_to_delete (cut_limb_network) = [array([6, 8]), array([6, 9]), array([8, 9])]\n",
      "edges_to_create = []\n",
      "Number of connected components = 4\n",
      "Comp 0 = {7, 9, 10, 15, 50, 19, 21, 22, 23, 27, 30}\n",
      "Comp 1 = {2, 4, 6}\n",
      "Comp 2 = {0, 1, 3, 5, 8, 11, 12, 13, 14, 16, 17, 18, 20, 24, 25, 26, 28, 29, 31, 32, 33, 35, 36, 37, 38, 39, 40, 41, 42, 43, 44, 45, 46, 47, 48, 49, 51, 52, 53, 54, 55, 56, 57, 58, 59, 60, 61, 62, 63, 64, 65, 66, 67, 68, 69, 70, 71, 72, 73, 74, 75, 76, 77, 78, 79, 80, 81, 82, 83, 84, 85, 86, 87, 88, 89, 90, 91, 92, 93, 94, 95, 96, 97, 98, 99, 100, 101, 102, 103, 104, 105, 106, 107, 108, 109, 110, 111, 112, 113, 114, 115, 116, 117, 118, 119, 120, 121, 122, 123, 124, 125, 126, 127, 128, 129, 130, 131, 132, 133, 134, 135, 136, 137, 138, 139, 140, 141, 142, 143, 144, 145, 146, 147, 148, 149, 150, 151, 152, 153, 154, 155, 156, 157, 158}\n",
      "Comp 3 = {34}\n",
      "curr_limb_copy.deleted_edges = [array([25, 27]), array([25, 34]), array([27, 34]), array([6, 8]), array([6, 9]), array([8, 9])]\n",
      "curr_limb_copy.created_edges = []\n",
      "After get best cut: cut_edges = [array([6, 8]), array([6, 9]), array([8, 9])], added_edges = []\n",
      "total_soma_paths_to_cut = []\n",
      "-----------counter = 0------------\n",
      " Cut iteration 1\n",
      "Total number of graphs at the end of the split BEFORE DIRECTIONAL = 4\n",
      "Total number of graphs at the end of the split AFTER DIRECTIONAL = 4\n",
      "No valid path so moving onto the next connection\n",
      "\n",
      "\n",
      "---- working on disconnecting 45 and 52\n",
      "---- This disconnects S0_5 from S0_7  \n",
      " Cut iteration 0\n",
      "Total number of graphs at the end of the split BEFORE DIRECTIONAL = 4\n",
      "Total number of graphs at the end of the split AFTER DIRECTIONAL = 4\n",
      "Shortest path = [45, 46, 49, 51, 59, 78, 98, 97, 85, 70, 69, 80, 79, 81, 58, 53, 43, 52]\n",
      "\n",
      " --------- START OF GET BEST EDGE --------- \n",
      "curr_limb.deleted_edges=[array([25, 27]), array([25, 34]), array([27, 34]), array([6, 8]), array([6, 9]), array([8, 9])]\n",
      "consider_path_neighbors_for_removal is set so segments_to_consider = [  8  17  28  36  39  40  41  43  44  46  47  49  51  53  57  58  59  64\n",
      "  67  69  70  72  73  74  78  79  80  81  85  86  87  88  94  97  98 105\n",
      " 106 107]\n",
      "Short segments to combine = []\n",
      "Found 4 high degree coordinates to cut\n",
      "Picking [815142. 744771. 689709.] high degree coordinates to cut\n",
      "curr_limb.deleted_edges 4=[array([25, 27]), array([25, 34]), array([27, 34]), array([6, 8]), array([6, 9]), array([8, 9])]\n",
      "***inside resolve crossover!!!!****\n",
      "coordinate_branches = [28, 39, 49, 51]\n",
      "28 = red\n",
      "39 = aqua\n",
      "49 = purple\n",
      "51 = green\n",
      "Angle between 28 and 39 = 133.52 \n",
      "Angle between 28 and 49 = 25.62 \n",
      "Angle between 28 and 51 = 49.9 \n",
      "Angle between 39 and 49 = 72.09 \n",
      "Angle between 39 and 51 = 7.96 \n",
      "Angle between 49 and 51 = 104.63 \n",
      "Final Matches = [[28, 49], [39, 51]]\n",
      "matched_branches_revised = [[39, 51], [28, 49]]\n",
      "Original graph\n"
     ]
    },
    {
     "data": {
      "image/png": "[encoded data removed]",
      "text/plain": [
       "<Figure size 432x288 with 1 Axes>"
      ]
     },
     "metadata": {},
     "output_type": "display_data"
    },
    {
     "name": "stdout",
     "output_type": "stream",
     "text": [
      "match_branches = [[39, 51], [28, 49]]\n",
      "edges_to_delete (resolve crossover) = [[28, 39], [28, 51], [39, 49], [49, 51]]\n",
      "edges_to_create (resolve crossover) = [[39, 51], [28, 49]]\n",
      "curr_limb.deleted_edges 5 =[array([25, 27]), array([25, 34]), array([27, 34]), array([6, 8]), array([6, 9]), array([8, 9])]\n",
      "NOT USING the resolve crossover delete edges because will help seperate the path\n",
      "Picking [826048. 780305. 736391.] high degree coordinates to cut\n",
      "curr_limb.deleted_edges 4=[array([25, 27]), array([25, 34]), array([27, 34]), array([6, 8]), array([6, 9]), array([8, 9])]\n",
      "***inside resolve crossover!!!!****\n",
      "coordinate_branches = [40, 64, 69, 72, 74, 80]\n",
      "40 = red\n",
      "64 = aqua\n",
      "69 = purple\n",
      "72 = green\n",
      "Angle between 40 and 64 = 171.81 \n",
      "Angle between 40 and 69 = 23.54 \n",
      "Angle between 40 and 72 = 154.13 \n",
      "Angle between 40 and 74 = 146.99 \n",
      "Angle between 40 and 80 = 160.37 \n",
      "Angle between 64 and 69 = 31.72 \n",
      "Angle between 64 and 72 = 155.82 \n",
      "Angle between 64 and 74 = 148.35 \n",
      "Angle between 64 and 80 = 154.38 \n",
      "Angle between 69 and 72 = 40.09 \n",
      "Angle between 69 and 74 = 44.73 \n",
      "Angle between 69 and 80 = 18.22 \n",
      "Angle between 72 and 74 = 172.52 \n",
      "Angle between 72 and 80 = 156.98 \n",
      "Angle between 74 and 80 = 153.27 \n",
      "Final Matches = [[40, 69], [64, 69], [69, 80]]\n",
      "matched_branches_revised = [[69, 80]]\n",
      "Original graph\n"
     ]
    },
    {
     "data": {
      "image/png": "[encoded data removed]",
      "text/plain": [
       "<Figure size 432x288 with 1 Axes>"
      ]
     },
     "metadata": {},
     "output_type": "display_data"
    },
    {
     "name": "stdout",
     "output_type": "stream",
     "text": [
      "match_branches = [[69, 80]]\n",
      "edges_to_delete (resolve crossover) = [[40, 64], [40, 69], [40, 72], [40, 74], [40, 80], [64, 69], [64, 72], [64, 74], [64, 80], [69, 72], [69, 74], [72, 74], [72, 80], [74, 80]]\n",
      "edges_to_create (resolve crossover) = [[69, 80]]\n",
      "curr_limb.deleted_edges 5 =[array([25, 27]), array([25, 34]), array([27, 34]), array([6, 8]), array([6, 9]), array([8, 9])]\n",
      "NOT USING the resolve crossover delete edges because will help seperate the path\n",
      "Picking [827386. 797053. 753666.] high degree coordinates to cut\n",
      "curr_limb.deleted_edges 4=[array([25, 27]), array([25, 34]), array([27, 34]), array([6, 8]), array([6, 9]), array([8, 9])]\n",
      "***inside resolve crossover!!!!****\n",
      "coordinate_branches = [79, 81, 87, 88]\n",
      "79 = red\n",
      "81 = aqua\n",
      "87 = purple\n",
      "88 = green\n",
      "Angle between 79 and 81 = 158.36 \n",
      "Angle between 79 and 87 = 33.35 \n",
      "Angle between 79 and 88 = 11.51 \n",
      "Angle between 81 and 87 = 53.28 \n",
      "Angle between 81 and 88 = 22.57 \n",
      "Angle between 87 and 88 = 148.55 \n",
      "Final Matches = [[79, 87], [79, 88], [81, 88]]\n",
      "matched_branches_revised = [[79, 88]]\n",
      "Original graph\n"
     ]
    },
    {
     "data": {
      "image/png": "[encoded data removed]",
      "text/plain": [
       "<Figure size 432x288 with 1 Axes>"
      ]
     },
     "metadata": {},
     "output_type": "display_data"
    },
    {
     "name": "stdout",
     "output_type": "stream",
     "text": [
      "match_branches = [[79, 88]]\n",
      "edges_to_delete (resolve crossover) = [[79, 81], [79, 87], [81, 87], [81, 88], [87, 88]]\n",
      "edges_to_create (resolve crossover) = [[79, 88]]\n",
      "curr_limb.deleted_edges 5 =[array([25, 27]), array([25, 34]), array([27, 34]), array([6, 8]), array([6, 9]), array([8, 9])]\n",
      "NOT USING the resolve crossover delete edges because will help seperate the path\n",
      "Picking [834596. 754025. 714108.] high degree coordinates to cut\n",
      "curr_limb.deleted_edges 4=[array([25, 27]), array([25, 34]), array([27, 34]), array([6, 8]), array([6, 9]), array([8, 9])]\n",
      "***inside resolve crossover!!!!****\n",
      "coordinate_branches = [85, 97, 105, 106, 107]\n",
      "85 = red\n",
      "97 = aqua\n",
      "105 = purple\n",
      "106 = green\n",
      "Angle between 85 and 97 = 108.16 \n",
      "Angle between 85 and 105 = 55.14 \n",
      "Angle between 85 and 106 = 59.28 \n",
      "Angle between 85 and 107 = 8.5 \n",
      "Angle between 97 and 105 = 99.26 \n",
      "Angle between 97 and 106 = 21.08 \n",
      "Angle between 97 and 107 = 66.92 \n",
      "Angle between 105 and 106 = 78.35 \n",
      "Angle between 105 and 107 = 116.5 \n",
      "Angle between 106 and 107 = 127.57 \n",
      "Final Matches = [[85, 107], [97, 106]]\n",
      "matched_branches_revised = [[85, 107], [97, 106]]\n",
      "Original graph\n"
     ]
    },
    {
     "data": {
      "image/png": "[encoded data removed]",
      "text/plain": [
       "<Figure size 432x288 with 1 Axes>"
      ]
     },
     "metadata": {},
     "output_type": "display_data"
    },
    {
     "name": "stdout",
     "output_type": "stream",
     "text": [
      "match_branches = [[85, 107], [97, 106]]\n",
      "edges_to_delete (resolve crossover) = [[85, 97], [85, 105], [85, 106], [97, 105], [97, 107], [105, 106], [105, 107], [106, 107]]\n",
      "edges_to_create (resolve crossover) = [[85, 107], [97, 106]]\n",
      "curr_limb.deleted_edges 5 =[array([25, 27]), array([25, 34]), array([27, 34]), array([6, 8]), array([6, 9]), array([8, 9])]\n",
      "NOT USING the resolve crossover delete edges because will help seperate the path\n",
      "Skipping endnode 52 because skeletal distance was 453.22621593600496 and threshold was 2500\n",
      "skip_nodes = [52]\n",
      "\n",
      "Attempting the doubling back check (symmetrical so don't need to check from both sides)\n"
     ]
    },
    {
     "data": {
      "application/vnd.jupyter.widget-view+json": {
       "model_id": "c8ce8b1b67ec484ea2b190db8eaf88a9",
       "version_major": 2,
       "version_minor": 0
      },
      "text/plain": [
       "HBox(children=(FloatProgress(value=0.0, max=16.0), HTML(value='')))"
      ]
     },
     "metadata": {},
     "output_type": "display_data"
    },
    {
     "name": "stdout",
     "output_type": "stream",
     "text": [
      "  Edge: [45 46]: curr_angle = 47.92\n",
      "  Edge: [46 49]: curr_angle = 29.98\n",
      "  Edge: [49 51]: curr_angle = 111.16\n",
      "  Edge: [51 59]: curr_angle = 37.72\n",
      "  Edge: [59 78]: curr_angle = 78.59\n",
      "  Edge: [78 98]: curr_angle = 29.58\n",
      "  Edge: [98 97]: curr_angle = 155.38\n",
      "  Edge: [97 85]: curr_angle = 98.65\n",
      "  Edge: [85 70]: curr_angle = 86.43\n",
      "  Edge: [70 69]: curr_angle = 46.39\n",
      "  Edge: [69 80]: curr_angle = 18.32\n",
      "  Edge: [80 79]: curr_angle = 20.01\n",
      "  Edge: [79 81]: curr_angle = 145.11\n",
      "  Edge: [81 58]: curr_angle = 14.67\n",
      "  Edge: [58 53]: curr_angle = 16.91\n",
      "  Edge: [53 43]: curr_angle = 134.85\n",
      "\n",
      "Total time for doubling_back = 0.7415964603424072\n",
      "There were 6 edges that passed doubling back threshold of 80\n",
      "Winning edge [98 97] had a doubling back of 155.37533976254056\n",
      "***inside resolve crossover!!!!****\n",
      "coordinate_branches = [94, 97, 98]\n",
      "94 = red\n",
      "97 = aqua\n",
      "98 = purple\n",
      "Angle between 94 and 97 = 19.21 \n",
      "Angle between 94 and 98 = 18.98 \n",
      "Angle between 97 and 98 = 174.12 \n",
      "Final Matches = [[94, 97], [94, 98]]\n",
      "matched_branches_revised = [[94, 98]]\n",
      "Original graph\n"
     ]
    },
    {
     "data": {
      "image/png": "[encoded data removed]",
      "text/plain": [
       "<Figure size 432x288 with 1 Axes>"
      ]
     },
     "metadata": {},
     "output_type": "display_data"
    },
    {
     "name": "stdout",
     "output_type": "stream",
     "text": [
      "match_branches = [[94, 98]]\n",
      "edges_to_delete (resolve crossover) = [[94, 97], [97, 98]]\n",
      "edges_to_create (resolve crossover) = [[94, 98]]\n",
      "edges_to_delete (cut_limb_network) = [array([94, 97]), array([97, 98])]\n",
      "edges_to_create = [[94, 98]]\n",
      "Number of connected components = 4\n",
      "Comp 0 = {7, 9, 10, 15, 50, 19, 21, 22, 23, 27, 30}\n",
      "Comp 1 = {2, 4, 6}\n",
      "Comp 2 = {0, 1, 3, 5, 8, 11, 12, 13, 14, 16, 17, 18, 20, 24, 25, 26, 28, 29, 31, 32, 33, 35, 36, 37, 38, 39, 40, 41, 42, 43, 44, 45, 46, 47, 48, 49, 51, 52, 53, 54, 55, 56, 57, 58, 59, 60, 61, 62, 63, 64, 65, 66, 67, 68, 69, 70, 71, 72, 73, 74, 75, 76, 77, 78, 79, 80, 81, 82, 83, 84, 85, 86, 87, 88, 89, 90, 91, 92, 93, 94, 95, 96, 97, 98, 99, 100, 101, 102, 103, 104, 105, 106, 107, 108, 109, 110, 111, 112, 113, 114, 115, 116, 117, 118, 119, 120, 121, 122, 123, 124, 125, 126, 127, 128, 129, 130, 131, 132, 133, 134, 135, 136, 137, 138, 139, 140, 141, 142, 143, 144, 145, 146, 147, 148, 149, 150, 151, 152, 153, 154, 155, 156, 157, 158}\n",
      "Comp 3 = {34}\n",
      "curr_limb_copy.deleted_edges = [array([25, 27]), array([25, 34]), array([27, 34]), array([6, 8]), array([6, 9]), array([8, 9]), array([94, 97]), array([97, 98])]\n",
      "curr_limb_copy.created_edges = [[94, 98]]\n",
      "After get best cut: cut_edges = [array([94, 97]), array([97, 98])], added_edges = [[94, 98]]\n",
      "total_soma_paths_to_cut = []\n",
      "-----------counter = 0------------\n",
      " Cut iteration 1\n",
      "Total number of graphs at the end of the split BEFORE DIRECTIONAL = 4\n",
      "Total number of graphs at the end of the split AFTER DIRECTIONAL = 4\n",
      "Shortest path = [45, 46, 49, 51, 57, 56, 60, 102, 90, 91, 112, 125, 133, 109, 108, 106, 97, 85, 70, 69, 80, 79, 81, 58, 53, 43, 52]\n",
      "\n",
      " --------- START OF GET BEST EDGE --------- \n",
      "curr_limb.deleted_edges=[array([25, 27]), array([25, 34]), array([27, 34]), array([6, 8]), array([6, 9]), array([8, 9]), array([94, 97]), array([97, 98])]\n",
      "consider_path_neighbors_for_removal is set so segments_to_consider = [  8  17  28  31  36  39  40  41  43  44  46  47  48  49  51  53  56  57\n",
      "  58  59  60  64  69  70  72  74  79  80  81  85  86  87  88  90  91  97\n",
      " 101 102 103 105 106 107 108 109 111 112 114 125 126 132 133 134]\n",
      "Short segments to combine = [133]\n",
      "\n",
      "\n",
      "-------- Removing Segments -------------\n",
      "curr_short_seg_revised = 133\n",
      "np.sum(touch_len>0) = 2\n",
      "Using average stitch point\n",
      "touching_endpoints = [[860581. 734583. 723248.]\n",
      " [861589. 734622. 722510.]]\n",
      "new_stitch_point = [861085.  734602.5 722879. ]\n",
      "Angles for [109 132 125 134] are [62.33, 94.03, 117.7, 64.45]\n",
      "Branch that will absorb mesh of 133 is 109 \n",
      "curr_limb.deleted_edges 2=[array([25, 27]), array([25, 34]), array([27, 34]), array([6, 8]), array([6, 9]), array([8, 9]), array([94, 97]), array([97, 98])]\n",
      "curr_limb.deleted_edges 3=[array([25, 27]), array([25, 34]), array([27, 34]), array([6, 8]), array([6, 9]), array([8, 9]), array([94, 97]), array([97, 98])]\n",
      "Revised cut path = [ 45  46  49  51  57  56  60 102  90  91 112 125 109 108 106  97  85  70\n",
      "  69  80  79  81  58  53  43  52]\n",
      "\n",
      "-------- Done Removing Segments -------------\n",
      "\n",
      "\n",
      "Found 1 high degree coordinates to cut\n",
      "Picking [861085.  734602.5 722879. ] high degree coordinates to cut\n",
      "curr_limb.deleted_edges 4=[array([25, 27]), array([25, 34]), array([27, 34]), array([6, 8]), array([6, 9]), array([8, 9]), array([94, 97]), array([97, 98])]\n",
      "***inside resolve crossover!!!!****\n",
      "coordinate_branches = [109, 125, 132, 134]\n",
      "109 = red\n",
      "125 = aqua\n",
      "132 = purple\n",
      "134 = green\n",
      "Angle between 109 and 125 = 159.07 \n",
      "Angle between 109 and 132 = 23.58 \n",
      "Angle between 109 and 134 = 12.71 \n",
      "Angle between 125 and 132 = 29.77 \n",
      "Angle between 125 and 134 = 9.32 \n",
      "Angle between 132 and 134 = 157.65 \n",
      "Final Matches = [[109, 132], [109, 134], [125, 132], [125, 134]]\n",
      "matched_branches_revised = [[125, 134], [109, 132]]\n",
      "Original graph\n"
     ]
    },
    {
     "data": {
      "image/png": "[encoded data removed]",
      "text/plain": [
       "<Figure size 432x288 with 1 Axes>"
      ]
     },
     "metadata": {},
     "output_type": "display_data"
    },
    {
     "name": "stdout",
     "output_type": "stream",
     "text": [
      "match_branches = [[125, 134], [109, 132]]\n",
      "edges_to_delete (resolve crossover) = [[109, 125], [109, 134], [125, 132], [132, 134]]\n",
      "edges_to_create (resolve crossover) = [[125, 134], [109, 132]]\n",
      "curr_limb.deleted_edges 5 =[array([25, 27]), array([25, 34]), array([27, 34]), array([6, 8]), array([6, 9]), array([8, 9]), array([94, 97]), array([97, 98])]\n",
      "NOT USING the resolve crossover delete edges because will help seperate the path\n",
      "Skipping endnode 52 because skeletal distance was 453.22621593600496 and threshold was 2500\n",
      "skip_nodes = [52]\n",
      "\n",
      "Attempting the doubling back check (symmetrical so don't need to check from both sides)\n"
     ]
    },
    {
     "data": {
      "application/vnd.jupyter.widget-view+json": {
       "model_id": "7d62500899454096aabf7fc50db604fe",
       "version_major": 2,
       "version_minor": 0
      },
      "text/plain": [
       "HBox(children=(FloatProgress(value=0.0, max=24.0), HTML(value='')))"
      ]
     },
     "metadata": {},
     "output_type": "display_data"
    },
    {
     "name": "stdout",
     "output_type": "stream",
     "text": [
      "  Edge: [45 46]: curr_angle = 47.92\n",
      "  Edge: [46 49]: curr_angle = 29.98\n",
      "  Edge: [49 51]: curr_angle = 111.16\n",
      "  Edge: [51 57]: curr_angle = 137.29\n",
      "  Edge: [57 56]: curr_angle = 31.46\n",
      "  Edge: [56 60]: curr_angle = 81.26\n",
      "  Edge: [ 60 102]: curr_angle = 25.21\n",
      "  Edge: [102  90]: curr_angle = 60.45\n",
      "  Edge: [90 91]: curr_angle = 111.51\n",
      "  Edge: [ 91 112]: curr_angle = 7.85\n",
      "  Edge: [112 125]: curr_angle = 25.26\n",
      "  Edge: [125 109]: curr_angle = 159.46\n",
      "  Edge: [109 108]: curr_angle = 124.17\n",
      "  Edge: [108 106]: curr_angle = 69.33\n",
      "  Edge: [106  97]: curr_angle = 22.44\n",
      "  Edge: [97 85]: curr_angle = 98.65\n",
      "  Edge: [85 70]: curr_angle = 86.43\n",
      "  Edge: [70 69]: curr_angle = 46.39\n",
      "  Edge: [69 80]: curr_angle = 18.32\n",
      "  Edge: [80 79]: curr_angle = 20.01\n",
      "  Edge: [79 81]: curr_angle = 145.11\n",
      "  Edge: [81 58]: curr_angle = 14.67\n",
      "  Edge: [58 53]: curr_angle = 16.91\n",
      "  Edge: [53 43]: curr_angle = 134.85\n",
      "\n",
      "Total time for doubling_back = 0.9979290962219238\n",
      "There were 10 edges that passed doubling back threshold of 80\n",
      "Winning edge [125 109] had a doubling back of 159.46097924104384\n",
      "***inside resolve crossover!!!!****\n",
      "coordinate_branches = [109, 125, 132, 134]\n",
      "109 = red\n",
      "125 = aqua\n",
      "132 = purple\n",
      "134 = green\n",
      "Angle between 109 and 125 = 152.34 \n",
      "Angle between 109 and 132 = 38.13 \n",
      "Angle between 109 and 134 = 8.0 \n",
      "Angle between 125 and 132 = 29.9 \n",
      "Angle between 125 and 134 = 21.55 \n",
      "Angle between 132 and 134 = 141.37 \n",
      "Final Matches = [[109, 134], [125, 132], [125, 134]]\n",
      "matched_branches_revised = [[109, 134], [125, 132]]\n",
      "Original graph\n"
     ]
    },
    {
     "data": {
      "image/png": "[encoded data removed]",
      "text/plain": [
       "<Figure size 432x288 with 1 Axes>"
      ]
     },
     "metadata": {},
     "output_type": "display_data"
    },
    {
     "name": "stdout",
     "output_type": "stream",
     "text": [
      "match_branches = [[109, 134], [125, 132]]\n",
      "edges_to_delete (resolve crossover) = [[109, 125], [109, 132], [125, 134], [132, 134]]\n",
      "edges_to_create (resolve crossover) = [[109, 134], [125, 132]]\n",
      "edges_to_delete (cut_limb_network) = [array([109, 125]), array([109, 132]), array([125, 134]), array([132, 134])]\n",
      "edges_to_create = [[109, 134], [125, 132]]\n",
      "Number of connected components = 6\n",
      "Comp 0 = {7, 9, 10, 15, 50, 19, 21, 22, 23, 27, 30}\n",
      "Comp 1 = {2, 4, 6}\n",
      "Comp 2 = {8, 11, 12, 13, 14, 17, 18, 20, 29, 33, 35, 37, 38, 40, 41, 42, 43, 47, 52, 53, 54, 58, 62, 64, 65, 66, 68, 69, 70, 71, 72, 74, 76, 77, 79, 80, 81, 85, 86, 87, 88, 89, 92, 95, 96, 97, 99, 100, 104, 105, 106, 107, 108, 109, 113, 114, 115, 116, 118, 119, 121, 122, 124, 127, 128, 129, 130, 131, 134, 135, 136, 137, 138, 139, 142, 143, 144, 145, 146, 150, 151, 152, 153, 154, 157, 158}\n",
      "Comp 3 = {0, 1, 3, 132, 5, 140, 141, 16, 147, 148, 149, 24, 25, 26, 155, 28, 156, 31, 32, 36, 39, 44, 45, 46, 48, 49, 51, 55, 56, 57, 59, 60, 61, 63, 67, 73, 75, 78, 82, 83, 84, 90, 91, 93, 94, 98, 101, 102, 103, 110, 111, 112, 117, 120, 123, 125, 126}\n",
      "Comp 4 = {34}\n",
      "Comp 5 = {133}\n",
      "curr_limb_copy.deleted_edges = [array([25, 27]), array([25, 34]), array([27, 34]), array([6, 8]), array([6, 9]), array([8, 9]), array([94, 97]), array([97, 98]), array([109, 125]), array([109, 132]), array([125, 134]), array([132, 134])]\n",
      "curr_limb_copy.created_edges = [[94, 98], [109, 134], [125, 132]]\n",
      "After get best cut: cut_edges = [array([109, 125]), array([109, 132]), array([125, 134]), array([132, 134])], added_edges = [[109, 134], [125, 132]]\n",
      "total_soma_paths_to_cut = [array([94, 97]), array([97, 98])]\n",
      "-----------counter = 1------------\n",
      " Cut iteration 2\n",
      "Total number of graphs at the end of the split BEFORE DIRECTIONAL = 6\n",
      "Total number of graphs at the end of the split AFTER DIRECTIONAL = 6\n",
      "No valid path so moving onto the next connection\n",
      "\n",
      "\n",
      "---- working on disconnecting 45 and 75\n",
      "---- This disconnects S0_5 from S0_0  \n",
      " Cut iteration 0\n",
      "Total number of graphs at the end of the split BEFORE DIRECTIONAL = 6\n",
      "Total number of graphs at the end of the split AFTER DIRECTIONAL = 6\n",
      "Shortest path = [45, 46, 49, 51, 59, 73, 75]\n",
      "\n",
      " --------- START OF GET BEST EDGE --------- \n",
      "curr_limb.deleted_edges=[array([25, 27]), array([25, 34]), array([27, 34]), array([6, 8]), array([6, 9]), array([8, 9]), array([94, 97]), array([97, 98]), array([109, 125]), array([109, 132]), array([125, 134]), array([132, 134])]\n",
      "consider_path_neighbors_for_removal is set so segments_to_consider = [28 36 39 44 46 49 51 57 59 73 78 83]\n",
      "Short segments to combine = []\n",
      "Found 1 high degree coordinates to cut\n",
      "Picking [815142. 744771. 689709.] high degree coordinates to cut\n",
      "curr_limb.deleted_edges 4=[array([25, 27]), array([25, 34]), array([27, 34]), array([6, 8]), array([6, 9]), array([8, 9]), array([94, 97]), array([97, 98]), array([109, 125]), array([109, 132]), array([125, 134]), array([132, 134])]\n",
      "***inside resolve crossover!!!!****\n",
      "coordinate_branches = [28, 39, 49, 51]\n",
      "28 = red\n",
      "39 = aqua\n",
      "49 = purple\n",
      "51 = green\n",
      "Angle between 28 and 39 = 133.52 \n",
      "Angle between 28 and 49 = 25.62 \n",
      "Angle between 28 and 51 = 49.9 \n",
      "Angle between 39 and 49 = 72.09 \n",
      "Angle between 39 and 51 = 7.96 \n",
      "Angle between 49 and 51 = 104.63 \n",
      "Final Matches = [[28, 49], [39, 51]]\n",
      "matched_branches_revised = [[39, 51], [28, 49]]\n",
      "Original graph\n"
     ]
    },
    {
     "data": {
      "image/png": "[encoded data removed]",
      "text/plain": [
       "<Figure size 432x288 with 1 Axes>"
      ]
     },
     "metadata": {},
     "output_type": "display_data"
    },
    {
     "name": "stdout",
     "output_type": "stream",
     "text": [
      "match_branches = [[39, 51], [28, 49]]\n",
      "edges_to_delete (resolve crossover) = [[28, 39], [28, 51], [39, 49], [49, 51]]\n",
      "edges_to_create (resolve crossover) = [[39, 51], [28, 49]]\n",
      "curr_limb.deleted_edges 5 =[array([25, 27]), array([25, 34]), array([27, 34]), array([6, 8]), array([6, 9]), array([8, 9]), array([94, 97]), array([97, 98]), array([109, 125]), array([109, 132]), array([125, 134]), array([132, 134])]\n",
      "NOT USING the resolve crossover delete edges because will help seperate the path\n",
      "skip_nodes = []\n",
      "\n",
      "Attempting the doubling back check (symmetrical so don't need to check from both sides)\n"
     ]
    },
    {
     "data": {
      "application/vnd.jupyter.widget-view+json": {
       "model_id": "5ab2b56b210f46009dcabb2ec8a70b46",
       "version_major": 2,
       "version_minor": 0
      },
      "text/plain": [
       "HBox(children=(FloatProgress(value=0.0, max=6.0), HTML(value='')))"
      ]
     },
     "metadata": {},
     "output_type": "display_data"
    },
    {
     "name": "stdout",
     "output_type": "stream",
     "text": [
      "  Edge: [45 46]: curr_angle = 47.92\n",
      "  Edge: [46 49]: curr_angle = 29.98\n",
      "  Edge: [49 51]: curr_angle = 111.16\n",
      "  Edge: [51 59]: curr_angle = 37.72\n",
      "  Edge: [59 73]: curr_angle = 46.16\n",
      "  Edge: [73 75]: curr_angle = 19.43\n",
      "\n",
      "Total time for doubling_back = 0.17381858825683594\n",
      "There were 1 edges that passed doubling back threshold of 80\n",
      "Winning edge [49 51] had a doubling back of 111.15735078279374\n",
      "***inside resolve crossover!!!!****\n",
      "coordinate_branches = [28, 39, 49, 51]\n",
      "28 = red\n",
      "39 = aqua\n",
      "49 = purple\n",
      "51 = green\n",
      "Angle between 28 and 39 = 134.32 \n",
      "Angle between 28 and 49 = 37.77 \n",
      "Angle between 28 and 51 = 59.81 \n",
      "Angle between 39 and 49 = 64.65 \n",
      "Angle between 39 and 51 = 44.6 \n",
      "Angle between 49 and 51 = 84.13 \n",
      "Final Matches = []\n",
      "matched_branches_revised = []\n",
      "Original graph\n"
     ]
    },
    {
     "data": {
      "image/png": "[encoded data removed]",
      "text/plain": [
       "<Figure size 432x288 with 1 Axes>"
      ]
     },
     "metadata": {},
     "output_type": "display_data"
    },
    {
     "name": "stdout",
     "output_type": "stream",
     "text": [
      "match_branches = []\n",
      "edges_to_delete (resolve crossover) = [[28, 39], [28, 49], [28, 51], [39, 49], [39, 51], [49, 51]]\n",
      "edges_to_create (resolve crossover) = []\n",
      "edges_to_delete (cut_limb_network) = [array([28, 39]), array([28, 49]), array([28, 51]), array([39, 49]), array([39, 51]), array([49, 51])]\n",
      "edges_to_create = []\n",
      "Number of connected components = 9\n",
      "Comp 0 = {7, 9, 10, 15, 50, 19, 21, 22, 23, 27, 30}\n",
      "Comp 1 = {2, 4, 6}\n",
      "Comp 2 = {8, 11, 12, 13, 14, 17, 18, 20, 29, 33, 35, 37, 38, 40, 41, 42, 43, 47, 52, 53, 54, 58, 62, 64, 65, 66, 68, 69, 70, 71, 72, 74, 76, 77, 79, 80, 81, 85, 86, 87, 88, 89, 92, 95, 96, 97, 99, 100, 104, 105, 106, 107, 108, 109, 113, 114, 115, 116, 118, 119, 121, 122, 124, 127, 128, 129, 130, 131, 134, 135, 136, 137, 138, 139, 142, 143, 144, 145, 146, 150, 151, 152, 153, 154, 157, 158}\n",
      "Comp 3 = {0, 1, 3, 36, 44, 45, 46, 16, 49, 24, 25, 26}\n",
      "Comp 4 = {34}\n",
      "Comp 5 = {28}\n",
      "Comp 6 = {32, 5, 39}\n",
      "Comp 7 = {132, 140, 141, 147, 148, 149, 155, 156, 31, 48, 51, 55, 56, 57, 59, 60, 61, 63, 67, 73, 75, 78, 82, 83, 84, 90, 91, 93, 94, 98, 101, 102, 103, 110, 111, 112, 117, 120, 123, 125, 126}\n",
      "Comp 8 = {133}\n",
      "curr_limb_copy.deleted_edges = [array([25, 27]), array([25, 34]), array([27, 34]), array([6, 8]), array([6, 9]), array([8, 9]), array([94, 97]), array([97, 98]), array([109, 125]), array([109, 132]), array([125, 134]), array([132, 134]), array([28, 39]), array([28, 49]), array([28, 51]), array([39, 49]), array([39, 51]), array([49, 51])]\n",
      "curr_limb_copy.created_edges = [[94, 98], [109, 134], [125, 132]]\n",
      "After get best cut: cut_edges = [array([28, 39]), array([28, 49]), array([28, 51]), array([39, 49]), array([39, 51]), array([49, 51])], added_edges = []\n",
      "total_soma_paths_to_cut = []\n",
      "-----------counter = 0------------\n",
      " Cut iteration 1\n",
      "Total number of graphs at the end of the split BEFORE DIRECTIONAL = 9\n",
      "Total number of graphs at the end of the split AFTER DIRECTIONAL = 9\n",
      "No valid path so moving onto the next connection\n",
      "\n",
      "\n",
      "---- working on disconnecting 45 and 77\n",
      "---- This disconnects S0_5 from S0_2  \n",
      " Cut iteration 0\n",
      "Total number of graphs at the end of the split BEFORE DIRECTIONAL = 9\n",
      "Total number of graphs at the end of the split AFTER DIRECTIONAL = 9\n",
      "No valid path so moving onto the next connection\n",
      "\n",
      "\n",
      "---- working on disconnecting 45 and 82\n",
      "---- This disconnects S0_5 from S0_4  \n",
      " Cut iteration 0\n",
      "Total number of graphs at the end of the split BEFORE DIRECTIONAL = 9\n",
      "Total number of graphs at the end of the split AFTER DIRECTIONAL = 9\n",
      "No valid path so moving onto the next connection\n",
      "\n",
      "\n",
      "---- working on disconnecting 45 and 104\n",
      "---- This disconnects S0_5 from S0_1  \n",
      " Cut iteration 0\n",
      "Total number of graphs at the end of the split BEFORE DIRECTIONAL = 9\n",
      "Total number of graphs at the end of the split AFTER DIRECTIONAL = 9\n",
      "No valid path so moving onto the next connection\n",
      "\n",
      "\n",
      "---- working on disconnecting 50 and 52\n",
      "---- This disconnects S0_6 from S0_7  \n",
      " Cut iteration 0\n",
      "Total number of graphs at the end of the split BEFORE DIRECTIONAL = 9\n",
      "Total number of graphs at the end of the split AFTER DIRECTIONAL = 9\n",
      "No valid path so moving onto the next connection\n",
      "\n",
      "\n",
      "---- working on disconnecting 50 and 75\n",
      "---- This disconnects S0_6 from S0_0  \n",
      " Cut iteration 0\n",
      "Total number of graphs at the end of the split BEFORE DIRECTIONAL = 9\n",
      "Total number of graphs at the end of the split AFTER DIRECTIONAL = 9\n",
      "No valid path so moving onto the next connection\n",
      "\n",
      "\n",
      "---- working on disconnecting 50 and 77\n",
      "---- This disconnects S0_6 from S0_2  \n",
      " Cut iteration 0\n",
      "Total number of graphs at the end of the split BEFORE DIRECTIONAL = 9\n",
      "Total number of graphs at the end of the split AFTER DIRECTIONAL = 9\n",
      "No valid path so moving onto the next connection\n",
      "\n",
      "\n",
      "---- working on disconnecting 50 and 82\n",
      "---- This disconnects S0_6 from S0_4  \n",
      " Cut iteration 0\n",
      "Total number of graphs at the end of the split BEFORE DIRECTIONAL = 9\n",
      "Total number of graphs at the end of the split AFTER DIRECTIONAL = 9\n",
      "No valid path so moving onto the next connection\n",
      "\n",
      "\n",
      "---- working on disconnecting 50 and 104\n",
      "---- This disconnects S0_6 from S0_1  \n",
      " Cut iteration 0\n",
      "Total number of graphs at the end of the split BEFORE DIRECTIONAL = 9\n",
      "Total number of graphs at the end of the split AFTER DIRECTIONAL = 9\n",
      "No valid path so moving onto the next connection\n",
      "\n",
      "\n",
      "---- working on disconnecting 52 and 75\n",
      "---- This disconnects S0_7 from S0_0  \n",
      " Cut iteration 0\n",
      "Total number of graphs at the end of the split BEFORE DIRECTIONAL = 9\n",
      "Total number of graphs at the end of the split AFTER DIRECTIONAL = 9\n",
      "No valid path so moving onto the next connection\n",
      "\n",
      "\n",
      "---- working on disconnecting 52 and 77\n",
      "---- This disconnects S0_7 from S0_2  \n",
      " Cut iteration 0\n",
      "Total number of graphs at the end of the split BEFORE DIRECTIONAL = 9\n",
      "Total number of graphs at the end of the split AFTER DIRECTIONAL = 9\n",
      "Shortest path = [52, 53, 58, 81, 79, 80, 69, 70, 77]\n",
      "\n",
      " --------- START OF GET BEST EDGE --------- \n",
      "curr_limb.deleted_edges=[array([25, 27]), array([25, 34]), array([27, 34]), array([6, 8]), array([6, 9]), array([8, 9]), array([94, 97]), array([97, 98]), array([109, 125]), array([109, 132]), array([125, 134]), array([132, 134]), array([28, 39]), array([28, 49]), array([28, 51]), array([39, 49]), array([39, 51]), array([49, 51])]\n",
      "consider_path_neighbors_for_removal is set so segments_to_consider = [17 40 41 43 47 53 58 64 69 70 72 74 79 80 81 85 86 87 88]\n",
      "Short segments to combine = []\n",
      "Found 2 high degree coordinates to cut\n",
      "Picking [826048. 780305. 736391.] high degree coordinates to cut\n",
      "curr_limb.deleted_edges 4=[array([25, 27]), array([25, 34]), array([27, 34]), array([6, 8]), array([6, 9]), array([8, 9]), array([94, 97]), array([97, 98]), array([109, 125]), array([109, 132]), array([125, 134]), array([132, 134]), array([28, 39]), array([28, 49]), array([28, 51]), array([39, 49]), array([39, 51]), array([49, 51])]\n",
      "***inside resolve crossover!!!!****\n"
     ]
    },
    {
     "ename": "KeyboardInterrupt",
     "evalue": "",
     "output_type": "error",
     "traceback": [
      "\u001b[0;31m---------------------------------------------------------------------------\u001b[0m",
      "\u001b[0;31mKeyboardInterrupt\u001b[0m                         Traceback (most recent call last)",
      "\u001b[0;32m<ipython-input-121-730d4ac68f46>\u001b[0m in \u001b[0;36m<module>\u001b[0;34m\u001b[0m\n\u001b[1;32m      2\u001b[0m limb_results = pru.multi_soma_split_suggestions(neuron_obj,\n\u001b[1;32m      3\u001b[0m                                                 \u001b[0mplot_intermediates\u001b[0m\u001b[0;34m=\u001b[0m\u001b[0;32mFalse\u001b[0m\u001b[0;34m,\u001b[0m\u001b[0;34m\u001b[0m\u001b[0;34m\u001b[0m\u001b[0m\n\u001b[0;32m----> 4\u001b[0;31m                                                plot_cut_coordinates=False)\n\u001b[0m",
      "\u001b[0;32m/meshAfterParty/proofreading_utils.py\u001b[0m in \u001b[0;36mmulti_soma_split_suggestions\u001b[0;34m(neuron_obj, verbose, max_iterations, plot_suggestions, plot_suggestions_scatter_size, remove_segment_threshold, plot_cut_coordinates, **kwargs)\u001b[0m\n\u001b[1;32m    714\u001b[0m                                                                                \u001b[0mverbose\u001b[0m\u001b[0;34m=\u001b[0m\u001b[0mverbose\u001b[0m\u001b[0;34m,\u001b[0m\u001b[0;34m\u001b[0m\u001b[0;34m\u001b[0m\u001b[0m\n\u001b[1;32m    715\u001b[0m                                       \u001b[0mhigh_degree_endpoint_coordinates_tried\u001b[0m\u001b[0;34m=\u001b[0m\u001b[0mhigh_degree_endpoint_coordinates_tried\u001b[0m\u001b[0;34m,\u001b[0m\u001b[0;34m\u001b[0m\u001b[0;34m\u001b[0m\u001b[0m\n\u001b[0;32m--> 716\u001b[0;31m                                                                               **kwargs)\n\u001b[0m\u001b[1;32m    717\u001b[0m \u001b[0;34m\u001b[0m\u001b[0m\n\u001b[1;32m    718\u001b[0m \u001b[0;34m\u001b[0m\u001b[0m\n",
      "\u001b[0;32m/meshAfterParty/proofreading_utils.py\u001b[0m in \u001b[0;36mget_best_cut_edge\u001b[0;34m(curr_limb, cut_path, remove_segment_threshold, consider_path_neighbors_for_removal, high_degree_offset, comparison_distance, match_threshold, skip_small_soma_connectors, small_soma_connectors_skeletal_threshold, double_back_threshold, offset, comparison_distance_double_back, width_jump_threshold, verbose, high_degree_endpoint_coordinates_tried, **kwargs)\u001b[0m\n\u001b[1;32m    150\u001b[0m                                                                           \u001b[0mmatch_threshold\u001b[0m \u001b[0;34m=\u001b[0m\u001b[0mmatch_threshold\u001b[0m\u001b[0;34m,\u001b[0m\u001b[0;34m\u001b[0m\u001b[0;34m\u001b[0m\u001b[0m\n\u001b[1;32m    151\u001b[0m                                                 \u001b[0mverbose\u001b[0m \u001b[0;34m=\u001b[0m \u001b[0mverbose\u001b[0m\u001b[0;34m,\u001b[0m\u001b[0;34m\u001b[0m\u001b[0;34m\u001b[0m\u001b[0m\n\u001b[0;32m--> 152\u001b[0;31m                                                 \u001b[0;34m**\u001b[0m\u001b[0mkwargs\u001b[0m\u001b[0;34m\u001b[0m\u001b[0;34m\u001b[0m\u001b[0m\n\u001b[0m\u001b[1;32m    153\u001b[0m                                )\n\u001b[1;32m    154\u001b[0m         \u001b[0mprint\u001b[0m\u001b[0;34m(\u001b[0m\u001b[0;34mf\"curr_limb.deleted_edges 5 ={curr_limb.deleted_edges}\"\u001b[0m\u001b[0;34m)\u001b[0m\u001b[0;34m\u001b[0m\u001b[0;34m\u001b[0m\u001b[0m\n",
      "\u001b[0;32m/meshAfterParty/error_detection.py\u001b[0m in \u001b[0;36mresolving_crossovers\u001b[0;34m(limb_obj, coordinate, match_threshold, verbose, return_new_edges, return_subgraph, plot_intermediates, offset, comparison_distance, best_singular_match, return_existing_edges, **kwargs)\u001b[0m\n\u001b[1;32m    366\u001b[0m \u001b[0;34m\u001b[0m\u001b[0m\n\u001b[1;32m    367\u001b[0m     \u001b[0;31m#1) Get all the branches that correspond to the coordinate\u001b[0m\u001b[0;34m\u001b[0m\u001b[0;34m\u001b[0m\u001b[0;34m\u001b[0m\u001b[0m\n\u001b[0;32m--> 368\u001b[0;31m     \u001b[0msk_branches\u001b[0m \u001b[0;34m=\u001b[0m \u001b[0;34m[\u001b[0m\u001b[0mbr\u001b[0m\u001b[0;34m.\u001b[0m\u001b[0mskeleton\u001b[0m \u001b[0;32mfor\u001b[0m \u001b[0mbr\u001b[0m \u001b[0;32min\u001b[0m \u001b[0mlimb_obj\u001b[0m\u001b[0;34m]\u001b[0m\u001b[0;34m\u001b[0m\u001b[0;34m\u001b[0m\u001b[0m\n\u001b[0m\u001b[1;32m    369\u001b[0m \u001b[0;34m\u001b[0m\u001b[0m\n\u001b[1;32m    370\u001b[0m     \u001b[0mcoordinate_branches\u001b[0m \u001b[0;34m=\u001b[0m \u001b[0mnp\u001b[0m\u001b[0;34m.\u001b[0m\u001b[0msort\u001b[0m\u001b[0;34m(\u001b[0m\u001b[0msk\u001b[0m\u001b[0;34m.\u001b[0m\u001b[0mfind_branch_skeleton_with_specific_coordinate\u001b[0m\u001b[0;34m(\u001b[0m\u001b[0msk_branches\u001b[0m\u001b[0;34m,\u001b[0m\u001b[0mcoordinate\u001b[0m\u001b[0;34m)\u001b[0m\u001b[0;34m)\u001b[0m\u001b[0;34m\u001b[0m\u001b[0;34m\u001b[0m\u001b[0m\n",
      "\u001b[0;32m/meshAfterParty/error_detection.py\u001b[0m in \u001b[0;36m<listcomp>\u001b[0;34m(.0)\u001b[0m\n\u001b[1;32m    366\u001b[0m \u001b[0;34m\u001b[0m\u001b[0m\n\u001b[1;32m    367\u001b[0m     \u001b[0;31m#1) Get all the branches that correspond to the coordinate\u001b[0m\u001b[0;34m\u001b[0m\u001b[0;34m\u001b[0m\u001b[0;34m\u001b[0m\u001b[0m\n\u001b[0;32m--> 368\u001b[0;31m     \u001b[0msk_branches\u001b[0m \u001b[0;34m=\u001b[0m \u001b[0;34m[\u001b[0m\u001b[0mbr\u001b[0m\u001b[0;34m.\u001b[0m\u001b[0mskeleton\u001b[0m \u001b[0;32mfor\u001b[0m \u001b[0mbr\u001b[0m \u001b[0;32min\u001b[0m \u001b[0mlimb_obj\u001b[0m\u001b[0;34m]\u001b[0m\u001b[0;34m\u001b[0m\u001b[0;34m\u001b[0m\u001b[0m\n\u001b[0m\u001b[1;32m    369\u001b[0m \u001b[0;34m\u001b[0m\u001b[0m\n\u001b[1;32m    370\u001b[0m     \u001b[0mcoordinate_branches\u001b[0m \u001b[0;34m=\u001b[0m \u001b[0mnp\u001b[0m\u001b[0;34m.\u001b[0m\u001b[0msort\u001b[0m\u001b[0;34m(\u001b[0m\u001b[0msk\u001b[0m\u001b[0;34m.\u001b[0m\u001b[0mfind_branch_skeleton_with_specific_coordinate\u001b[0m\u001b[0;34m(\u001b[0m\u001b[0msk_branches\u001b[0m\u001b[0;34m,\u001b[0m\u001b[0mcoordinate\u001b[0m\u001b[0;34m)\u001b[0m\u001b[0;34m)\u001b[0m\u001b[0;34m\u001b[0m\u001b[0;34m\u001b[0m\u001b[0m\n",
      "\u001b[0;32m/meshAfterParty/neuron.py\u001b[0m in \u001b[0;36m__next__\u001b[0;34m(self)\u001b[0m\n\u001b[1;32m   1082\u001b[0m         \u001b[0mself\u001b[0m\u001b[0;34m.\u001b[0m\u001b[0m_index\u001b[0m \u001b[0;34m+=\u001b[0m \u001b[0;36m1\u001b[0m\u001b[0;34m\u001b[0m\u001b[0;34m\u001b[0m\u001b[0m\n\u001b[1;32m   1083\u001b[0m         \u001b[0;31m#print(f\"Limb self._index = {self._index}\")\u001b[0m\u001b[0;34m\u001b[0m\u001b[0;34m\u001b[0m\u001b[0;34m\u001b[0m\u001b[0m\n\u001b[0;32m-> 1084\u001b[0;31m         \u001b[0msorted_node_indexes\u001b[0m \u001b[0;34m=\u001b[0m \u001b[0mnp\u001b[0m\u001b[0;34m.\u001b[0m\u001b[0msort\u001b[0m\u001b[0;34m(\u001b[0m\u001b[0mlist\u001b[0m\u001b[0;34m(\u001b[0m\u001b[0mself\u001b[0m\u001b[0;34m.\u001b[0m\u001b[0mconcept_network\u001b[0m\u001b[0;34m.\u001b[0m\u001b[0mnodes\u001b[0m\u001b[0;34m(\u001b[0m\u001b[0;34m)\u001b[0m\u001b[0;34m)\u001b[0m\u001b[0;34m)\u001b[0m\u001b[0;34m\u001b[0m\u001b[0;34m\u001b[0m\u001b[0m\n\u001b[0m\u001b[1;32m   1085\u001b[0m         \u001b[0;32mif\u001b[0m \u001b[0mself\u001b[0m\u001b[0;34m.\u001b[0m\u001b[0m_index\u001b[0m \u001b[0;34m>=\u001b[0m \u001b[0mlen\u001b[0m\u001b[0;34m(\u001b[0m\u001b[0mself\u001b[0m\u001b[0;34m)\u001b[0m\u001b[0;34m:\u001b[0m\u001b[0;34m\u001b[0m\u001b[0;34m\u001b[0m\u001b[0m\n\u001b[1;32m   1086\u001b[0m             \u001b[0mself\u001b[0m\u001b[0;34m.\u001b[0m\u001b[0m_index\u001b[0m \u001b[0;34m=\u001b[0m \u001b[0;34m-\u001b[0m\u001b[0;36m1\u001b[0m\u001b[0;34m\u001b[0m\u001b[0;34m\u001b[0m\u001b[0m\n",
      "\u001b[0;32m<__array_function__ internals>\u001b[0m in \u001b[0;36msort\u001b[0;34m(*args, **kwargs)\u001b[0m\n",
      "\u001b[0;32m/usr/local/lib/python3.6/dist-packages/numpy/core/fromnumeric.py\u001b[0m in \u001b[0;36msort\u001b[0;34m(a, axis, kind, order)\u001b[0m\n\u001b[1;32m    988\u001b[0m         \u001b[0maxis\u001b[0m \u001b[0;34m=\u001b[0m \u001b[0;34m-\u001b[0m\u001b[0;36m1\u001b[0m\u001b[0;34m\u001b[0m\u001b[0;34m\u001b[0m\u001b[0m\n\u001b[1;32m    989\u001b[0m     \u001b[0;32melse\u001b[0m\u001b[0;34m:\u001b[0m\u001b[0;34m\u001b[0m\u001b[0;34m\u001b[0m\u001b[0m\n\u001b[0;32m--> 990\u001b[0;31m         \u001b[0ma\u001b[0m \u001b[0;34m=\u001b[0m \u001b[0masanyarray\u001b[0m\u001b[0;34m(\u001b[0m\u001b[0ma\u001b[0m\u001b[0;34m)\u001b[0m\u001b[0;34m.\u001b[0m\u001b[0mcopy\u001b[0m\u001b[0;34m(\u001b[0m\u001b[0morder\u001b[0m\u001b[0;34m=\u001b[0m\u001b[0;34m\"K\"\u001b[0m\u001b[0;34m)\u001b[0m\u001b[0;34m\u001b[0m\u001b[0;34m\u001b[0m\u001b[0m\n\u001b[0m\u001b[1;32m    991\u001b[0m     \u001b[0ma\u001b[0m\u001b[0;34m.\u001b[0m\u001b[0msort\u001b[0m\u001b[0;34m(\u001b[0m\u001b[0maxis\u001b[0m\u001b[0;34m=\u001b[0m\u001b[0maxis\u001b[0m\u001b[0;34m,\u001b[0m \u001b[0mkind\u001b[0m\u001b[0;34m=\u001b[0m\u001b[0mkind\u001b[0m\u001b[0;34m,\u001b[0m \u001b[0morder\u001b[0m\u001b[0;34m=\u001b[0m\u001b[0morder\u001b[0m\u001b[0;34m)\u001b[0m\u001b[0;34m\u001b[0m\u001b[0;34m\u001b[0m\u001b[0m\n\u001b[1;32m    992\u001b[0m     \u001b[0;32mreturn\u001b[0m \u001b[0ma\u001b[0m\u001b[0;34m\u001b[0m\u001b[0;34m\u001b[0m\u001b[0m\n",
      "\u001b[0;32m/usr/local/lib/python3.6/dist-packages/numpy/core/_asarray.py\u001b[0m in \u001b[0;36masanyarray\u001b[0;34m(a, dtype, order)\u001b[0m\n\u001b[1;32m    134\u001b[0m \u001b[0;34m\u001b[0m\u001b[0m\n\u001b[1;32m    135\u001b[0m     \"\"\"\n\u001b[0;32m--> 136\u001b[0;31m     \u001b[0;32mreturn\u001b[0m \u001b[0marray\u001b[0m\u001b[0;34m(\u001b[0m\u001b[0ma\u001b[0m\u001b[0;34m,\u001b[0m \u001b[0mdtype\u001b[0m\u001b[0;34m,\u001b[0m \u001b[0mcopy\u001b[0m\u001b[0;34m=\u001b[0m\u001b[0;32mFalse\u001b[0m\u001b[0;34m,\u001b[0m \u001b[0morder\u001b[0m\u001b[0;34m=\u001b[0m\u001b[0morder\u001b[0m\u001b[0;34m,\u001b[0m \u001b[0msubok\u001b[0m\u001b[0;34m=\u001b[0m\u001b[0;32mTrue\u001b[0m\u001b[0;34m)\u001b[0m\u001b[0;34m\u001b[0m\u001b[0;34m\u001b[0m\u001b[0m\n\u001b[0m\u001b[1;32m    137\u001b[0m \u001b[0;34m\u001b[0m\u001b[0m\n\u001b[1;32m    138\u001b[0m \u001b[0;34m\u001b[0m\u001b[0m\n",
      "\u001b[0;31mKeyboardInterrupt\u001b[0m: "
     ]
    }
   ],
   "source": [
    "import proofreading_utils as pru\n",
    "limb_results = pru.multi_soma_split_suggestions(neuron_obj,\n",
    "                                                plot_intermediates=False,\n",
    "                                               plot_cut_coordinates=False)"
   ]
  },
  {
   "cell_type": "code",
   "execution_count": 107,
   "metadata": {},
   "outputs": [
    {
     "data": {
      "text/plain": [
       "array([[818175.24880952, 443812.63333333, 809833.17738095],\n",
       "       [818841.01219512, 435357.13414634, 810292.0097561 ],\n",
       "       [822332.8625    , 446957.4       , 809322.675     ],\n",
       "       [733289.        , 444443.        , 715609.        ],\n",
       "       [663061.54042553, 427063.84468085, 676602.85319149]])"
      ]
     },
     "execution_count": 107,
     "metadata": {},
     "output_type": "execute_result"
    }
   ],
   "source": [
    "limb_obj.all_starting_coordinates"
   ]
  },
  {
   "cell_type": "code",
   "execution_count": 108,
   "metadata": {},
   "outputs": [],
   "source": [
    "limb_g = sk.convert_skeleton_to_graph(limb_obj.skeleton)"
   ]
  },
  {
   "cell_type": "code",
   "execution_count": 109,
   "metadata": {},
   "outputs": [],
   "source": [
    "import networkx_utils as xu"
   ]
  },
  {
   "cell_type": "code",
   "execution_count": null,
   "metadata": {},
   "outputs": [],
   "source": [
    "recovered_touching_piece = xu.get_nodes_with_attributes_dict(curr_limb_concept_network,dict(starting_coordinate=closest_endpoint))"
   ]
  },
  {
   "cell_type": "code",
   "execution_count": 105,
   "metadata": {},
   "outputs": [],
   "source": [
    "import networkx_utils as xu"
   ]
  },
  {
   "cell_type": "code",
   "execution_count": null,
   "metadata": {},
   "outputs": [],
   "source": [
    "xu.get"
   ]
  },
  {
   "cell_type": "markdown",
   "metadata": {},
   "source": [
    "# Plotting the Splitting Algorithm Results"
   ]
  },
  {
   "cell_type": "code",
   "execution_count": 120,
   "metadata": {
    "scrolled": false
   },
   "outputs": [
    {
     "name": "stdout",
     "output_type": "stream",
     "text": [
      "\n",
      "\n",
      "-------- Suggestions for Limb 0------\n",
      "\n",
      " Working on visualization type: mesh\n",
      "\n",
      " Working on visualization type: skeleton\n"
     ]
    },
    {
     "data": {
      "application/vnd.jupyter.widget-view+json": {
       "model_id": "5f2cafaeee7540579032028468113b40",
       "version_major": 2,
       "version_minor": 0
      },
      "text/plain": [
       "VBox(children=(Figure(camera=PerspectiveCamera(fov=46.0, position=(0.0, 0.0, 2.0), quaternion=(0.0, 0.0, 0.0, …"
      ]
     },
     "metadata": {},
     "output_type": "display_data"
    },
    {
     "name": "stdout",
     "output_type": "stream",
     "text": [
      "\n",
      "\n",
      "-------- Suggestions for Limb 1------\n",
      "\n",
      " Working on visualization type: mesh\n",
      "\n",
      " Working on visualization type: skeleton\n"
     ]
    },
    {
     "data": {
      "application/vnd.jupyter.widget-view+json": {
       "model_id": "ad521881ee9d406486e2ba74573b5393",
       "version_major": 2,
       "version_minor": 0
      },
      "text/plain": [
       "VBox(children=(Figure(camera=PerspectiveCamera(fov=46.0, position=(0.0, 0.0, 2.0), quaternion=(0.0, 0.0, 0.0, …"
      ]
     },
     "metadata": {},
     "output_type": "display_data"
    }
   ],
   "source": [
    "nviz.plot_split_suggestions_per_limb(neuron_obj,\n",
    "                                    limb_results=limb_results,\n",
    "                                    scatter_size=0.3)"
   ]
  },
  {
   "cell_type": "code",
   "execution_count": null,
   "metadata": {},
   "outputs": [],
   "source": []
  },
  {
   "cell_type": "markdown",
   "metadata": {},
   "source": [
    "# Doing the Simple Split Neuroglancer Link"
   ]
  },
  {
   "cell_type": "code",
   "execution_count": null,
   "metadata": {},
   "outputs": [],
   "source": [
    "split_coordinates = pru.get_all_coordinate_suggestions(limb_results)\n",
    "\n",
    "pru.neuroglancer_split_link(split_coordinates,\n",
    "                      neuron_obj.segment_id)"
   ]
  },
  {
   "cell_type": "markdown",
   "metadata": {},
   "source": [
    "# Doing the More Complex Neuroglancer Link"
   ]
  },
  {
   "cell_type": "code",
   "execution_count": null,
   "metadata": {},
   "outputs": [],
   "source": [
    "pru.split_info_to_neuroglancer_link(segment_id=segment_id,\n",
    "                split_info=limb_results)"
   ]
  },
  {
   "cell_type": "code",
   "execution_count": null,
   "metadata": {},
   "outputs": [],
   "source": []
  }
 ],
 "metadata": {
  "kernelspec": {
   "display_name": "Python 3",
   "language": "python",
   "name": "python3"
  },
  "language_info": {
   "codemirror_mode": {
    "name": "ipython",
    "version": 3
   },
   "file_extension": ".py",
   "mimetype": "text/x-python",
   "name": "python",
   "nbconvert_exporter": "python",
   "pygments_lexer": "ipython3",
   "version": "3.6.9"
  }
 },
 "nbformat": 4,
 "nbformat_minor": 4
}
