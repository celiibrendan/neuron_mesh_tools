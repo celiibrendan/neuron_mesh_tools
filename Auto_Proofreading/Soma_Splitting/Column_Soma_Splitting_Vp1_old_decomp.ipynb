{
 "cells": [
  {
   "cell_type": "code",
   "execution_count": null,
   "metadata": {},
   "outputs": [],
   "source": [
    "\"\"\"\n",
    "Purpose: To practice giving suggestions for splits\n",
    "\n",
    "\n",
    "\"\"\""
   ]
  },
  {
   "cell_type": "code",
   "execution_count": 81,
   "metadata": {},
   "outputs": [
    {
     "name": "stdout",
     "output_type": "stream",
     "text": [
      "The autoreload extension is already loaded. To reload it, use:\n",
      "  %reload_ext autoreload\n"
     ]
    }
   ],
   "source": [
    "%load_ext autoreload\n",
    "%autoreload 2\n",
    "%reload_ext autoreload"
   ]
  },
  {
   "cell_type": "code",
   "execution_count": 1,
   "metadata": {},
   "outputs": [],
   "source": [
    "from os import sys\n",
    "sys.path.append(\"/meshAfterParty/\")"
   ]
  },
  {
   "cell_type": "code",
   "execution_count": 2,
   "metadata": {},
   "outputs": [
    {
     "name": "stderr",
     "output_type": "stream",
     "text": [
      "INFO - 2020-12-18 21:46:36,048 - settings - Setting database.host to at-database.ad.bcm.edu\n",
      "INFO - 2020-12-18 21:46:36,049 - settings - Setting database.user to celiib\n",
      "INFO - 2020-12-18 21:46:36,050 - settings - Setting database.password to newceliipass\n",
      "INFO - 2020-12-18 21:46:36,054 - settings - Setting stores to {'minnie65': {'protocol': 'file', 'location': '/mnt/dj-stor01/platinum/minnie65', 'stage': '/mnt/dj-stor01/platinum/minnie65'}, 'meshes': {'protocol': 'file', 'location': '/mnt/dj-stor01/platinum/minnie65/02/meshes', 'stage': '/mnt/dj-stor01/platinum/minnie65/02/meshes'}, 'decimated_meshes': {'protocol': 'file', 'location': '/mnt/dj-stor01/platinum/minnie65/02/decimated_meshes', 'stage': '/mnt/dj-stor01/platinum/minnie65/02/decimated_meshes'}, 'skeletons': {'protocol': 'file', 'location': '/mnt/dj-stor01/platinum/minnie65/02/skeletons'}}\n",
      "INFO - 2020-12-18 21:46:36,055 - settings - Setting enable_python_native_blobs to True\n",
      "INFO - 2020-12-18 21:46:36,065 - connection - Connected celiib@at-database.ad.bcm.edu:3306\n"
     ]
    },
    {
     "name": "stdout",
     "output_type": "stream",
     "text": [
      "Connecting celiib@at-database.ad.bcm.edu:3306\n"
     ]
    },
    {
     "name": "stderr",
     "output_type": "stream",
     "text": [
      "INFO - 2020-12-18 21:46:36,266 - settings - Setting enable_python_native_blobs to True\n",
      "INFO - 2020-12-18 21:46:36,271 - settings - Setting database.host to at-database.ad.bcm.edu\n",
      "INFO - 2020-12-18 21:46:36,273 - settings - Setting database.user to celiib\n",
      "INFO - 2020-12-18 21:46:36,274 - settings - Setting database.password to newceliipass\n",
      "INFO - 2020-12-18 21:46:36,276 - settings - Setting enable_python_native_blobs to True\n",
      "INFO - 2020-12-18 21:46:36,482 - settings - Setting enable_python_native_blobs to True\n"
     ]
    }
   ],
   "source": [
    "from importlib import reload\n",
    "\n",
    "import neuron_utils as nru\n",
    "\n",
    "import neuron\n",
    "\n",
    "import neuron_visualizations as nviz\n",
    "\n",
    "import time\n",
    "\n",
    "import datajoint_utils as du\n",
    "du = reload(du)"
   ]
  },
  {
   "cell_type": "code",
   "execution_count": 3,
   "metadata": {},
   "outputs": [
    {
     "name": "stderr",
     "output_type": "stream",
     "text": [
      "INFO - 2020-12-18 21:46:36,500 - settings - Setting enable_python_native_blobs to True\n",
      "INFO - 2020-12-18 21:46:36,719 - settings - Setting enable_python_native_blobs to True\n"
     ]
    }
   ],
   "source": [
    "import neuron_visualizations as nviz\n",
    "minnie,schema = du.configure_minnie_vm()"
   ]
  },
  {
   "cell_type": "code",
   "execution_count": 10,
   "metadata": {},
   "outputs": [
    {
     "data": {
      "text/html": [
       "\n",
       "        \n",
       "        <style type=\"text/css\">\n",
       "            .Relation{\n",
       "                border-collapse:collapse;\n",
       "            }\n",
       "            .Relation th{\n",
       "                background: #A0A0A0; color: #ffffff; padding:4px; border:#f0e0e0 1px solid;\n",
       "                font-weight: normal; font-family: monospace; font-size: 100%;\n",
       "            }\n",
       "            .Relation td{\n",
       "                padding:4px; border:#f0e0e0 1px solid; font-size:100%;\n",
       "            }\n",
       "            .Relation tr:nth-child(odd){\n",
       "                background: #ffffff;\n",
       "            }\n",
       "            .Relation tr:nth-child(even){\n",
       "                background: #f3f1ff;\n",
       "            }\n",
       "            /* Tooltip container */\n",
       "            .djtooltip {\n",
       "            }\n",
       "            /* Tooltip text */\n",
       "            .djtooltip .djtooltiptext {\n",
       "                visibility: hidden;\n",
       "                width: 120px;\n",
       "                background-color: black;\n",
       "                color: #fff;\n",
       "                text-align: center;\n",
       "                padding: 5px 0;\n",
       "                border-radius: 6px;\n",
       "                /* Position the tooltip text - see examples below! */\n",
       "                position: absolute;\n",
       "                z-index: 1;\n",
       "            }\n",
       "            #primary {\n",
       "                font-weight: bold;\n",
       "                color: black;\n",
       "            }\n",
       "\n",
       "            #nonprimary {\n",
       "                font-weight: normal;\n",
       "                color: white;\n",
       "            }\n",
       "\n",
       "            /* Show the tooltip text when you mouse over the tooltip container */\n",
       "            .djtooltip:hover .djtooltiptext {\n",
       "                visibility: visible;\n",
       "            }\n",
       "        </style>\n",
       "        \n",
       "        <b></b>\n",
       "            <div style=\"max-height:1000px;max-width:1500px;overflow:auto;\">\n",
       "            <table border=\"1\" class=\"Relation\">\n",
       "                <thead> <tr style=\"text-align: right;\"> <th> <div class=\"djtooltip\">\n",
       "                                <p id=\"primary\">segment_id</p>\n",
       "                                <span class=\"djtooltiptext\">segment id unique within each Segmentation</span>\n",
       "                            </div></th><th><div class=\"djtooltip\">\n",
       "                                <p id=\"primary\">decimation_version</p>\n",
       "                                <span class=\"djtooltiptext\"></span>\n",
       "                            </div></th><th><div class=\"djtooltip\">\n",
       "                                <p id=\"primary\">decimation_ratio</p>\n",
       "                                <span class=\"djtooltiptext\">ratio of remaining mesh vertices/faces (which ones depends on what metric the decimation technique uses)</span>\n",
       "                            </div></th><th><div class=\"djtooltip\">\n",
       "                                <p id=\"nonprimary\">decomposition</p>\n",
       "                                <span class=\"djtooltiptext\"></span>\n",
       "                            </div></th><th><div class=\"djtooltip\">\n",
       "                                <p id=\"nonprimary\">n_vertices</p>\n",
       "                                <span class=\"djtooltiptext\">number of vertices</span>\n",
       "                            </div></th><th><div class=\"djtooltip\">\n",
       "                                <p id=\"nonprimary\">n_faces</p>\n",
       "                                <span class=\"djtooltiptext\">number of faces</span>\n",
       "                            </div></th><th><div class=\"djtooltip\">\n",
       "                                <p id=\"nonprimary\">n_error_limbs</p>\n",
       "                                <span class=\"djtooltiptext\">the number of limbs that are touching multiple somas or 1 soma in multiple places</span>\n",
       "                            </div></th><th><div class=\"djtooltip\">\n",
       "                                <p id=\"nonprimary\">n_same_soma_multi_touching_limbs</p>\n",
       "                                <span class=\"djtooltiptext\">number of limbs that touch the same soma multiple times</span>\n",
       "                            </div></th><th><div class=\"djtooltip\">\n",
       "                                <p id=\"nonprimary\">n_multi_soma_touching_limbs</p>\n",
       "                                <span class=\"djtooltiptext\">number of limbs that touch multiple somas</span>\n",
       "                            </div></th><th><div class=\"djtooltip\">\n",
       "                                <p id=\"nonprimary\">n_somas</p>\n",
       "                                <span class=\"djtooltiptext\">number of soma meshes detected</span>\n",
       "                            </div></th><th><div class=\"djtooltip\">\n",
       "                                <p id=\"nonprimary\">n_limbs</p>\n",
       "                                <span class=\"djtooltiptext\"></span>\n",
       "                            </div></th><th><div class=\"djtooltip\">\n",
       "                                <p id=\"nonprimary\">n_branches</p>\n",
       "                                <span class=\"djtooltiptext\"></span>\n",
       "                            </div></th><th><div class=\"djtooltip\">\n",
       "                                <p id=\"nonprimary\">max_limb_n_branches</p>\n",
       "                                <span class=\"djtooltiptext\"></span>\n",
       "                            </div></th><th><div class=\"djtooltip\">\n",
       "                                <p id=\"nonprimary\">skeletal_length</p>\n",
       "                                <span class=\"djtooltiptext\"></span>\n",
       "                            </div></th><th><div class=\"djtooltip\">\n",
       "                                <p id=\"nonprimary\">max_limb_skeletal_length</p>\n",
       "                                <span class=\"djtooltiptext\"></span>\n",
       "                            </div></th><th><div class=\"djtooltip\">\n",
       "                                <p id=\"nonprimary\">median_branch_length</p>\n",
       "                                <span class=\"djtooltiptext\">gives information on average skeletal length to next branch point</span>\n",
       "                            </div></th><th><div class=\"djtooltip\">\n",
       "                                <p id=\"nonprimary\">width_median</p>\n",
       "                                <span class=\"djtooltiptext\">median width from mesh center without spines removed</span>\n",
       "                            </div></th><th><div class=\"djtooltip\">\n",
       "                                <p id=\"nonprimary\">width_no_spine_median</p>\n",
       "                                <span class=\"djtooltiptext\">median width from mesh center with spines removed</span>\n",
       "                            </div></th><th><div class=\"djtooltip\">\n",
       "                                <p id=\"nonprimary\">width_90_perc</p>\n",
       "                                <span class=\"djtooltiptext\">90th percentile for width without spines removed</span>\n",
       "                            </div></th><th><div class=\"djtooltip\">\n",
       "                                <p id=\"nonprimary\">width_no_spine_90_perc</p>\n",
       "                                <span class=\"djtooltiptext\">90th percentile for width with spines removed</span>\n",
       "                            </div></th><th><div class=\"djtooltip\">\n",
       "                                <p id=\"nonprimary\">n_spines</p>\n",
       "                                <span class=\"djtooltiptext\"></span>\n",
       "                            </div></th><th><div class=\"djtooltip\">\n",
       "                                <p id=\"nonprimary\">spine_density</p>\n",
       "                                <span class=\"djtooltiptext\">n_spines/ skeletal_length</span>\n",
       "                            </div></th><th><div class=\"djtooltip\">\n",
       "                                <p id=\"nonprimary\">spines_per_branch</p>\n",
       "                                <span class=\"djtooltiptext\"></span>\n",
       "                            </div></th><th><div class=\"djtooltip\">\n",
       "                                <p id=\"nonprimary\">skeletal_length_eligible</p>\n",
       "                                <span class=\"djtooltiptext\">the skeletal length for all branches searched for spines</span>\n",
       "                            </div></th><th><div class=\"djtooltip\">\n",
       "                                <p id=\"nonprimary\">n_spine_eligible_branches</p>\n",
       "                                <span class=\"djtooltiptext\">the number of branches that were checked for spines because passed width threshold</span>\n",
       "                            </div></th><th><div class=\"djtooltip\">\n",
       "                                <p id=\"nonprimary\">spine_density_eligible</p>\n",
       "                                <span class=\"djtooltiptext\">n_spines/skeletal_length_eligible</span>\n",
       "                            </div></th><th><div class=\"djtooltip\">\n",
       "                                <p id=\"nonprimary\">spines_per_branch_eligible</p>\n",
       "                                <span class=\"djtooltiptext\">n_spines/n_spine_eligible_branches</span>\n",
       "                            </div></th><th><div class=\"djtooltip\">\n",
       "                                <p id=\"nonprimary\">total_spine_volume</p>\n",
       "                                <span class=\"djtooltiptext\">the sum of all spine volume</span>\n",
       "                            </div></th><th><div class=\"djtooltip\">\n",
       "                                <p id=\"nonprimary\">spine_volume_median</p>\n",
       "                                <span class=\"djtooltiptext\">median of the spine volume for those spines with able to calculate volume</span>\n",
       "                            </div></th><th><div class=\"djtooltip\">\n",
       "                                <p id=\"nonprimary\">spine_volume_density</p>\n",
       "                                <span class=\"djtooltiptext\">total_spine_volume/skeletal_length</span>\n",
       "                            </div></th><th><div class=\"djtooltip\">\n",
       "                                <p id=\"nonprimary\">spine_volume_density_eligible</p>\n",
       "                                <span class=\"djtooltiptext\">total_spine_volume/skeletal_length_eligible</span>\n",
       "                            </div></th><th><div class=\"djtooltip\">\n",
       "                                <p id=\"nonprimary\">spine_volume_per_branch_eligible</p>\n",
       "                                <span class=\"djtooltiptext\">total_spine_volume/n_spine_eligible_branches</span>\n",
       "                            </div></th><th><div class=\"djtooltip\">\n",
       "                                <p id=\"nonprimary\">run_time</p>\n",
       "                                <span class=\"djtooltiptext\">the amount of time to run (seconds)</span>\n",
       "                            </div> </th> </tr> </thead>\n",
       "                <tbody> <tr> <td>864691134873995002</td>\n",
       "<td>0</td>\n",
       "<td>0.25</td>\n",
       "<td>=BLOB=</td>\n",
       "<td>61102</td>\n",
       "<td>123190</td>\n",
       "<td>2</td>\n",
       "<td>2</td>\n",
       "<td>1</td>\n",
       "<td>2</td>\n",
       "<td>6</td>\n",
       "<td>37</td>\n",
       "<td>18</td>\n",
       "<td>340176.25705898437</td>\n",
       "<td>121760.54108850352</td>\n",
       "<td>7051.914</td>\n",
       "<td>95.707</td>\n",
       "<td>95.707</td>\n",
       "<td>204.908</td>\n",
       "<td>204.908</td>\n",
       "<td>11</td>\n",
       "<td>3.233617800107863e-05</td>\n",
       "<td>0.2972972972972973</td>\n",
       "<td>97702.391</td>\n",
       "<td>5</td>\n",
       "<td>nan</td>\n",
       "<td>nan</td>\n",
       "<td>532579888.4166296</td>\n",
       "<td>18932158.883336384</td>\n",
       "<td>1565.5998246940665</td>\n",
       "<td>5451.042527880711</td>\n",
       "<td>106515977.68332592</td>\n",
       "<td>103.5239</td></tr><tr><td>864691134884780538</td>\n",
       "<td>0</td>\n",
       "<td>0.25</td>\n",
       "<td>=BLOB=</td>\n",
       "<td>368083</td>\n",
       "<td>762245</td>\n",
       "<td>3</td>\n",
       "<td>3</td>\n",
       "<td>1</td>\n",
       "<td>2</td>\n",
       "<td>9</td>\n",
       "<td>179</td>\n",
       "<td>93</td>\n",
       "<td>2730823.88507292</td>\n",
       "<td>1300564.5666538128</td>\n",
       "<td>9463.896</td>\n",
       "<td>312.119</td>\n",
       "<td>283.262</td>\n",
       "<td>567.232</td>\n",
       "<td>561.396</td>\n",
       "<td>1267</td>\n",
       "<td>0.0004639625451225932</td>\n",
       "<td>7.078212290502793</td>\n",
       "<td>2091543.556</td>\n",
       "<td>118</td>\n",
       "<td>nan</td>\n",
       "<td>nan</td>\n",
       "<td>78258654703.78412</td>\n",
       "<td>36561888.533317566</td>\n",
       "<td>28657.52534667552</td>\n",
       "<td>37416.69853314024</td>\n",
       "<td>663208938.167662</td>\n",
       "<td>1482.0695</td></tr><tr><td>864691134884781562</td>\n",
       "<td>0</td>\n",
       "<td>0.25</td>\n",
       "<td>=BLOB=</td>\n",
       "<td>622060</td>\n",
       "<td>1284691</td>\n",
       "<td>2</td>\n",
       "<td>0</td>\n",
       "<td>2</td>\n",
       "<td>2</td>\n",
       "<td>8</td>\n",
       "<td>281</td>\n",
       "<td>171</td>\n",
       "<td>6276147.438207486</td>\n",
       "<td>3194514.227623636</td>\n",
       "<td>9691.002</td>\n",
       "<td>114.686</td>\n",
       "<td>114.686</td>\n",
       "<td>548.598</td>\n",
       "<td>494.387</td>\n",
       "<td>1945</td>\n",
       "<td>0.00030990349081976096</td>\n",
       "<td>6.92170818505338</td>\n",
       "<td>3814066.067</td>\n",
       "<td>117</td>\n",
       "<td>nan</td>\n",
       "<td>nan</td>\n",
       "<td>127318953913.38474</td>\n",
       "<td>29815131.054992676</td>\n",
       "<td>20286.16363253378</td>\n",
       "<td>33381.42330962007</td>\n",
       "<td>1088196187.2938867</td>\n",
       "<td>2265.187</td></tr><tr><td>864691134884782074</td>\n",
       "<td>0</td>\n",
       "<td>0.25</td>\n",
       "<td>=BLOB=</td>\n",
       "<td>666150</td>\n",
       "<td>1371797</td>\n",
       "<td>2</td>\n",
       "<td>1</td>\n",
       "<td>2</td>\n",
       "<td>2</td>\n",
       "<td>8</td>\n",
       "<td>295</td>\n",
       "<td>67</td>\n",
       "<td>7076400.532688094</td>\n",
       "<td>1887566.3249400053</td>\n",
       "<td>10495.549</td>\n",
       "<td>95.42</td>\n",
       "<td>95.42</td>\n",
       "<td>441.437</td>\n",
       "<td>402.293</td>\n",
       "<td>1803</td>\n",
       "<td>0.00025479055229722826</td>\n",
       "<td>6.111864406779661</td>\n",
       "<td>3984280.097</td>\n",
       "<td>94</td>\n",
       "<td>nan</td>\n",
       "<td>nan</td>\n",
       "<td>104216248653.80307</td>\n",
       "<td>34374210.809147514</td>\n",
       "<td>14727.296479671524</td>\n",
       "<td>26156.85798101234</td>\n",
       "<td>1108683496.317054</td>\n",
       "<td>4684.057</td></tr><tr><td>864691134917398026</td>\n",
       "<td>0</td>\n",
       "<td>0.25</td>\n",
       "<td>=BLOB=</td>\n",
       "<td>712916</td>\n",
       "<td>1432520</td>\n",
       "<td>2</td>\n",
       "<td>2</td>\n",
       "<td>1</td>\n",
       "<td>2</td>\n",
       "<td>14</td>\n",
       "<td>356</td>\n",
       "<td>148</td>\n",
       "<td>8100892.001324374</td>\n",
       "<td>3704685.194322776</td>\n",
       "<td>10322.443</td>\n",
       "<td>136.53</td>\n",
       "<td>136.53</td>\n",
       "<td>367.317</td>\n",
       "<td>341.525</td>\n",
       "<td>1817</td>\n",
       "<td>0.00022429628733514133</td>\n",
       "<td>5.103932584269663</td>\n",
       "<td>4063164.721</td>\n",
       "<td>119</td>\n",
       "<td>nan</td>\n",
       "<td>nan</td>\n",
       "<td>104738435237.1656</td>\n",
       "<td>34811720.200001396</td>\n",
       "<td>12929.24720142454</td>\n",
       "<td>25777.55085730023</td>\n",
       "<td>880154917.9593748</td>\n",
       "<td>3799.4597</td></tr><tr><td>864691134939968867</td>\n",
       "<td>0</td>\n",
       "<td>0.25</td>\n",
       "<td>=BLOB=</td>\n",
       "<td>1207017</td>\n",
       "<td>2423978</td>\n",
       "<td>1</td>\n",
       "<td>1</td>\n",
       "<td>1</td>\n",
       "<td>2</td>\n",
       "<td>12</td>\n",
       "<td>852</td>\n",
       "<td>563</td>\n",
       "<td>18130840.850977447</td>\n",
       "<td>10924200.654415801</td>\n",
       "<td>12545.117</td>\n",
       "<td>79.688</td>\n",
       "<td>79.688</td>\n",
       "<td>245.482</td>\n",
       "<td>243.732</td>\n",
       "<td>1902</td>\n",
       "<td>0.00010490412527654291</td>\n",
       "<td>2.232394366197183</td>\n",
       "<td>4453330.461</td>\n",
       "<td>113</td>\n",
       "<td>nan</td>\n",
       "<td>nan</td>\n",
       "<td>88094371750.43808</td>\n",
       "<td>26764679.34915924</td>\n",
       "<td>4858.8133597614615</td>\n",
       "<td>19781.683062131524</td>\n",
       "<td>779596210.1808679</td>\n",
       "<td>5587.1728</td></tr><tr><td>864691134947427324</td>\n",
       "<td>0</td>\n",
       "<td>0.25</td>\n",
       "<td>=BLOB=</td>\n",
       "<td>77600</td>\n",
       "<td>167069</td>\n",
       "<td>2</td>\n",
       "<td>1</td>\n",
       "<td>1</td>\n",
       "<td>2</td>\n",
       "<td>5</td>\n",
       "<td>18</td>\n",
       "<td>6</td>\n",
       "<td>225288.8287754873</td>\n",
       "<td>110347.36416330215</td>\n",
       "<td>5872.146</td>\n",
       "<td>176.144</td>\n",
       "<td>176.144</td>\n",
       "<td>647.326</td>\n",
       "<td>647.326</td>\n",
       "<td>47</td>\n",
       "<td>0.0002086210854548766</td>\n",
       "<td>2.611111111111111</td>\n",
       "<td>134920.516</td>\n",
       "<td>8</td>\n",
       "<td>nan</td>\n",
       "<td>nan</td>\n",
       "<td>3152112911.8665643</td>\n",
       "<td>26505289.975006737</td>\n",
       "<td>13991.430152126266</td>\n",
       "<td>23362.739821322386</td>\n",
       "<td>394014113.98332053</td>\n",
       "<td>180.5828</td></tr><tr><td>864691134947432444</td>\n",
       "<td>0</td>\n",
       "<td>0.25</td>\n",
       "<td>=BLOB=</td>\n",
       "<td>918318</td>\n",
       "<td>1853843</td>\n",
       "<td>1</td>\n",
       "<td>1</td>\n",
       "<td>1</td>\n",
       "<td>2</td>\n",
       "<td>14</td>\n",
       "<td>406</td>\n",
       "<td>222</td>\n",
       "<td>8635203.308264025</td>\n",
       "<td>3697771.6768877627</td>\n",
       "<td>11796.439</td>\n",
       "<td>159.463</td>\n",
       "<td>159.463</td>\n",
       "<td>461.535</td>\n",
       "<td>395.781</td>\n",
       "<td>3897</td>\n",
       "<td>0.0004512922117618829</td>\n",
       "<td>9.598522167487685</td>\n",
       "<td>5164880.743</td>\n",
       "<td>180</td>\n",
       "<td>nan</td>\n",
       "<td>nan</td>\n",
       "<td>253722109356.74722</td>\n",
       "<td>39075613.68458326</td>\n",
       "<td>29382.297127148264</td>\n",
       "<td>49124.485536402484</td>\n",
       "<td>1409567274.2041512</td>\n",
       "<td>3868.5377</td></tr><tr><td>864691134947442940</td>\n",
       "<td>0</td>\n",
       "<td>0.25</td>\n",
       "<td>=BLOB=</td>\n",
       "<td>536621</td>\n",
       "<td>1089318</td>\n",
       "<td>2</td>\n",
       "<td>2</td>\n",
       "<td>1</td>\n",
       "<td>2</td>\n",
       "<td>7</td>\n",
       "<td>272</td>\n",
       "<td>129</td>\n",
       "<td>6607712.549047122</td>\n",
       "<td>2419649.9432357866</td>\n",
       "<td>10272.431</td>\n",
       "<td>122.589</td>\n",
       "<td>122.589</td>\n",
       "<td>362.964</td>\n",
       "<td>336.924</td>\n",
       "<td>1171</td>\n",
       "<td>0.00017721715212458303</td>\n",
       "<td>4.305147058823529</td>\n",
       "<td>2853837.928</td>\n",
       "<td>79</td>\n",
       "<td>nan</td>\n",
       "<td>nan</td>\n",
       "<td>70407952031.88518</td>\n",
       "<td>36364390.98666191</td>\n",
       "<td>10655.419936818906</td>\n",
       "<td>24671.32115005137</td>\n",
       "<td>891239899.1377871</td>\n",
       "<td>3009.9395</td></tr><tr><td>864691134947445756</td>\n",
       "<td>0</td>\n",
       "<td>0.25</td>\n",
       "<td>=BLOB=</td>\n",
       "<td>1211450</td>\n",
       "<td>2441889</td>\n",
       "<td>1</td>\n",
       "<td>1</td>\n",
       "<td>1</td>\n",
       "<td>2</td>\n",
       "<td>12</td>\n",
       "<td>504</td>\n",
       "<td>173</td>\n",
       "<td>11146860.13904991</td>\n",
       "<td>5162270.746771923</td>\n",
       "<td>10119.441</td>\n",
       "<td>195.914</td>\n",
       "<td>195.914</td>\n",
       "<td>539.767</td>\n",
       "<td>460.083</td>\n",
       "<td>4474</td>\n",
       "<td>0.00040136863154195245</td>\n",
       "<td>8.876984126984127</td>\n",
       "<td>7321590.558</td>\n",
       "<td>249</td>\n",
       "<td>nan</td>\n",
       "<td>nan</td>\n",
       "<td>227460752739.91498</td>\n",
       "<td>26724439.54499308</td>\n",
       "<td>20405.813825820762</td>\n",
       "<td>31067.122770390102</td>\n",
       "<td>913496998.9554819</td>\n",
       "<td>7769.615</td></tr><tr><td>864691134964463647</td>\n",
       "<td>0</td>\n",
       "<td>0.25</td>\n",
       "<td>=BLOB=</td>\n",
       "<td>918327</td>\n",
       "<td>1844680</td>\n",
       "<td>1</td>\n",
       "<td>0</td>\n",
       "<td>1</td>\n",
       "<td>2</td>\n",
       "<td>13</td>\n",
       "<td>280</td>\n",
       "<td>117</td>\n",
       "<td>11697859.049354155</td>\n",
       "<td>4017969.1071367394</td>\n",
       "<td>22993.917</td>\n",
       "<td>107.658</td>\n",
       "<td>107.658</td>\n",
       "<td>442.902</td>\n",
       "<td>428.281</td>\n",
       "<td>2114</td>\n",
       "<td>0.00018071682955666277</td>\n",
       "<td>7.55</td>\n",
       "<td>6896227.857</td>\n",
       "<td>120</td>\n",
       "<td>nan</td>\n",
       "<td>nan</td>\n",
       "<td>93800465586.24603</td>\n",
       "<td>25738439.29891888</td>\n",
       "<td>8018.601112433887</td>\n",
       "<td>13601.706256128717</td>\n",
       "<td>781670546.5520502</td>\n",
       "<td>4996.6532</td></tr><tr><td>864691134964464159</td>\n",
       "<td>0</td>\n",
       "<td>0.25</td>\n",
       "<td>=BLOB=</td>\n",
       "<td>651816</td>\n",
       "<td>1357189</td>\n",
       "<td>1</td>\n",
       "<td>0</td>\n",
       "<td>1</td>\n",
       "<td>2</td>\n",
       "<td>11</td>\n",
       "<td>384</td>\n",
       "<td>104</td>\n",
       "<td>9202694.74587259</td>\n",
       "<td>2828461.544045133</td>\n",
       "<td>10453.198</td>\n",
       "<td>130.34</td>\n",
       "<td>130.34</td>\n",
       "<td>309.564</td>\n",
       "<td>307.087</td>\n",
       "<td>485</td>\n",
       "<td>5.270195452451822e-05</td>\n",
       "<td>1.2630208333333333</td>\n",
       "<td>4255271.548</td>\n",
       "<td>117</td>\n",
       "<td>nan</td>\n",
       "<td>nan</td>\n",
       "<td>20883129456.267654</td>\n",
       "<td>25996088.69141642</td>\n",
       "<td>2269.2406988326698</td>\n",
       "<td>4907.590319607883</td>\n",
       "<td>178488285.9510056</td>\n",
       "<td>3160.5993</td> </tr> </tbody>\n",
       "            </table>\n",
       "            <p>...</p>\n",
       "            <p>Total: 922</p></div>\n",
       "            "
      ],
      "text/plain": [
       "*segment_id    *decimation_ve *decimation_ra decomposit n_vertices     n_faces     n_error_limbs  n_same_soma_mu n_multi_soma_t n_somas     n_limbs     n_branches     max_limb_n_bra skeletal_lengt max_limb_skele median_branch_ width_median   width_no_spine width_90_perc  width_no_spine n_spines     spine_density  spines_per_bra skeletal_lengt n_spine_eligib spine_density_ spines_per_bra total_spine_vo spine_volume_m spine_volume_d spine_volume_d spine_volume_p run_time     \n",
       "+------------+ +------------+ +------------+ +--------+ +------------+ +---------+ +------------+ +------------+ +------------+ +---------+ +---------+ +------------+ +------------+ +------------+ +------------+ +------------+ +------------+ +------------+ +------------+ +------------+ +----------+ +------------+ +------------+ +------------+ +------------+ +------------+ +------------+ +------------+ +------------+ +------------+ +------------+ +------------+ +-----------+\n",
       "86469113487399 0              0.25           =BLOB=     61102          123190      2              2              1              2           6           37             18             340176.2570589 121760.5410885 7051.914       95.707         95.707         204.908        204.908        11           3.233617800107 0.297297297297 97702.391      5              nan            nan            532579888.4166 18932158.88333 1565.599824694 5451.042527880 106515977.6833 103.5239     \n",
       "86469113488478 0              0.25           =BLOB=     368083         762245      3              3              1              2           9           179            93             2730823.885072 1300564.566653 9463.896       312.119        283.262        567.232        561.396        1267         0.000463962545 7.078212290502 2091543.556    118            nan            nan            78258654703.78 36561888.53331 28657.52534667 37416.69853314 663208938.1676 1482.0695    \n",
       "86469113488478 0              0.25           =BLOB=     622060         1284691     2              0              2              2           8           281            171            6276147.438207 3194514.227623 9691.002       114.686        114.686        548.598        494.387        1945         0.000309903490 6.921708185053 3814066.067    117            nan            nan            127318953913.3 29815131.05499 20286.16363253 33381.42330962 1088196187.293 2265.187     \n",
       "86469113488478 0              0.25           =BLOB=     666150         1371797     2              1              2              2           8           295            67             7076400.532688 1887566.324940 10495.549      95.42          95.42          441.437        402.293        1803         0.000254790552 6.111864406779 3984280.097    94             nan            nan            104216248653.8 34374210.80914 14727.29647967 26156.85798101 1108683496.317 4684.057     \n",
       "86469113491739 0              0.25           =BLOB=     712916         1432520     2              2              1              2           14          356            148            8100892.001324 3704685.194322 10322.443      136.53         136.53         367.317        341.525        1817         0.000224296287 5.103932584269 4063164.721    119            nan            nan            104738435237.1 34811720.20000 12929.24720142 25777.55085730 880154917.9593 3799.4597    \n",
       "86469113493996 0              0.25           =BLOB=     1207017        2423978     1              1              1              2           12          852            563            18130840.85097 10924200.65441 12545.117      79.688         79.688         245.482        243.732        1902         0.000104904125 2.232394366197 4453330.461    113            nan            nan            88094371750.43 26764679.34915 4858.813359761 19781.68306213 779596210.1808 5587.1728    \n",
       "86469113494742 0              0.25           =BLOB=     77600          167069      2              1              1              2           5           18             6              225288.8287754 110347.3641633 5872.146       176.144        176.144        647.326        647.326        47           0.000208621085 2.611111111111 134920.516     8              nan            nan            3152112911.866 26505289.97500 13991.43015212 23362.73982132 394014113.9833 180.5828     \n",
       "86469113494743 0              0.25           =BLOB=     918318         1853843     1              1              1              2           14          406            222            8635203.308264 3697771.676887 11796.439      159.463        159.463        461.535        395.781        3897         0.000451292211 9.598522167487 5164880.743    180            nan            nan            253722109356.7 39075613.68458 29382.29712714 49124.48553640 1409567274.204 3868.5377    \n",
       "86469113494744 0              0.25           =BLOB=     536621         1089318     2              2              1              2           7           272            129            6607712.549047 2419649.943235 10272.431      122.589        122.589        362.964        336.924        1171         0.000177217152 4.305147058823 2853837.928    79             nan            nan            70407952031.88 36364390.98666 10655.41993681 24671.32115005 891239899.1377 3009.9395    \n",
       "86469113494744 0              0.25           =BLOB=     1211450        2441889     1              1              1              2           12          504            173            11146860.13904 5162270.746771 10119.441      195.914        195.914        539.767        460.083        4474         0.000401368631 8.876984126984 7321590.558    249            nan            nan            227460752739.9 26724439.54499 20405.81382582 31067.12277039 913496998.9554 7769.615     \n",
       "86469113496446 0              0.25           =BLOB=     918327         1844680     1              0              1              2           13          280            117            11697859.04935 4017969.107136 22993.917      107.658        107.658        442.902        428.281        2114         0.000180716829 7.55           6896227.857    120            nan            nan            93800465586.24 25738439.29891 8018.601112433 13601.70625612 781670546.5520 4996.6532    \n",
       "86469113496446 0              0.25           =BLOB=     651816         1357189     1              0              1              2           11          384            104            9202694.745872 2828461.544045 10453.198      130.34         130.34         309.564        307.087        485          5.270195452451 1.263020833333 4255271.548    117            nan            nan            20883129456.26 25996088.69141 2269.240698832 4907.590319607 178488285.9510 3160.5993    \n",
       "   ...\n",
       " (Total: 922)"
      ]
     },
     "execution_count": 10,
     "metadata": {},
     "output_type": "execute_result"
    }
   ],
   "source": [
    "minnie.Decomposition() & \"n_somas = 2\" & \"n_limbs>4\""
   ]
  },
  {
   "cell_type": "code",
   "execution_count": 11,
   "metadata": {},
   "outputs": [],
   "source": [
    "segment_id = 864691134884782074 "
   ]
  },
  {
   "cell_type": "code",
   "execution_count": 12,
   "metadata": {},
   "outputs": [
    {
     "name": "stdout",
     "output_type": "stream",
     "text": [
      "\n",
      "\n",
      "----- Working on 864691134884782074-------\n",
      "somas = [[<trimesh.Trimesh(vertices.shape=(16040, 3), faces.shape=(31923, 3))>, <trimesh.Trimesh(vertices.shape=(15444, 3), faces.shape=(30335, 3))>], array([272.429, 272.429]), array([0.814, 0.736])]\n"
     ]
    }
   ],
   "source": [
    "#1) Get the segment id from the key\n",
    "description = \"0_25\"\n",
    "print(f\"\\n\\n----- Working on {segment_id}-------\")\n",
    "global_start = time.time()\n",
    "\n",
    "#2) Get the decimated mesh\n",
    "current_neuron_mesh = du.fetch_segment_id_mesh(segment_id)\n",
    "\n",
    "#3) Get the somas info *************************** Need to change this when actually run *******************\n",
    "somas = du.get_soma_mesh_list(segment_id) \n",
    "print(f\"somas = {somas}\")\n",
    "#4) Run the preprocessing\n",
    "\n",
    "\n",
    "total_neuron_process_time = time.time()"
   ]
  },
  {
   "cell_type": "code",
   "execution_count": 13,
   "metadata": {},
   "outputs": [
    {
     "name": "stderr",
     "output_type": "stream",
     "text": [
      "/usr/local/lib/python3.6/dist-packages/traittypes/traittypes.py:101: UserWarning: Given trait value dtype \"float64\" does not match required type \"float64\". A coerced copy has been created.\n",
      "  np.dtype(self.dtype).name))\n"
     ]
    },
    {
     "data": {
      "application/vnd.jupyter.widget-view+json": {
       "model_id": "16df751781be430cba2d7c507caf0950",
       "version_major": 2,
       "version_minor": 0
      },
      "text/plain": [
       "VBox(children=(Figure(camera=PerspectiveCamera(fov=46.0, position=(0.0, 0.0, 2.0), quaternion=(0.0, 0.0, 0.0, …"
      ]
     },
     "metadata": {},
     "output_type": "display_data"
    }
   ],
   "source": [
    "import neuron_visualizations as nviz\n",
    "nviz.plot_objects(main_mesh = current_neuron_mesh,\n",
    "                 meshes=somas[0],\n",
    "                 meshes_colors=\"red\")"
   ]
  },
  {
   "cell_type": "markdown",
   "metadata": {},
   "source": [
    "# Getting the Decomposition"
   ]
  },
  {
   "cell_type": "code",
   "execution_count": null,
   "metadata": {},
   "outputs": [],
   "source": [
    "import preprocessing_vp2 as pre\n",
    "import soma_extraction_utils as sm\n",
    "import skeleton_utils as sk\n",
    "\n",
    "import neuron\n",
    "import compartment_utils as cu\n",
    "\n",
    "\n",
    "decomp_table = True\n",
    "\n",
    "if decomp_table:\n",
    "    neuron_obj = (minnie.Decomposition & dict(segment_id=segment_id)).fetch1(\"decomposition\")\n",
    "else:\n",
    "    print(f\"\\n--- Beginning preprocessing of {segment_id}---\")\n",
    "    neuron_obj = neuron.Neuron(\n",
    "    mesh = current_neuron_mesh,\n",
    "    somas = somas,\n",
    "    segment_id=segment_id,\n",
    "    description=description,\n",
    "    suppress_preprocessing_print=False,\n",
    "    suppress_output=False,\n",
    "    calculate_spines=True,\n",
    "    widths_to_calculate=[\"no_spine_median_mesh_center\"]\n",
    "\n",
    "            )"
   ]
  },
  {
   "cell_type": "code",
   "execution_count": 15,
   "metadata": {},
   "outputs": [
    {
     "name": "stdout",
     "output_type": "stream",
     "text": [
      "\n",
      " Working on visualization type: mesh\n",
      "\n",
      " Working on visualization type: skeleton\n"
     ]
    },
    {
     "data": {
      "application/vnd.jupyter.widget-view+json": {
       "model_id": "50b94d3622b240659ce11efcb61d9ffb",
       "version_major": 2,
       "version_minor": 0
      },
      "text/plain": [
       "VBox(children=(Figure(camera=PerspectiveCamera(fov=46.0, position=(0.0, 0.0, 2.0), quaternion=(0.0, 0.0, 0.0, …"
      ]
     },
     "metadata": {},
     "output_type": "display_data"
    }
   ],
   "source": [
    "nviz.visualize_neuron(neuron_obj,\n",
    "                     visualize_type=[\"mesh\",\"skeleton\"],\n",
    "                     limb_branch_dict=\"all\")"
   ]
  },
  {
   "cell_type": "code",
   "execution_count": 18,
   "metadata": {},
   "outputs": [
    {
     "data": {
      "image/png": "[encoded data removed]",
      "text/plain": [
       "<Figure size 432x288 with 1 Axes>"
      ]
     },
     "metadata": {},
     "output_type": "display_data"
    }
   ],
   "source": [
    "nviz.plot_soma_limb_concept_network(neuron_obj)"
   ]
  },
  {
   "cell_type": "code",
   "execution_count": 17,
   "metadata": {},
   "outputs": [
    {
     "data": {
      "text/plain": [
       "array([3, 4])"
      ]
     },
     "execution_count": 17,
     "metadata": {},
     "output_type": "execute_result"
    }
   ],
   "source": [
    "import neuron_utils as nru\n",
    "error_limbs = nru.multi_soma_touching_limbs(neuron_obj)\n",
    "error_limbs"
   ]
  },
  {
   "cell_type": "markdown",
   "metadata": {},
   "source": [
    "# Getting the branches that have errors"
   ]
  },
  {
   "cell_type": "code",
   "execution_count": 245,
   "metadata": {},
   "outputs": [
    {
     "name": "stdout",
     "output_type": "stream",
     "text": [
      "\n",
      " Working on visualization type: mesh\n",
      "\n",
      " Working on visualization type: skeleton\n"
     ]
    },
    {
     "data": {
      "application/vnd.jupyter.widget-view+json": {
       "model_id": "00525a2cf2214e889191defa33388d25",
       "version_major": 2,
       "version_minor": 0
      },
      "text/plain": [
       "VBox(children=(Figure(camera=PerspectiveCamera(fov=46.0, position=(0.0, 0.0, 2.0), quaternion=(0.0, 0.0, 0.0, …"
      ]
     },
     "metadata": {},
     "output_type": "display_data"
    }
   ],
   "source": [
    "ret_col_0 = nviz.visualize_neuron(neuron_obj,\n",
    "                     visualize_type=[\"mesh\",\"skeleton\"],\n",
    "                     limb_branch_dict=dict(L4=\"all\"),\n",
    "                     return_color_dict=True)"
   ]
  },
  {
   "cell_type": "code",
   "execution_count": 246,
   "metadata": {},
   "outputs": [
    {
     "name": "stdout",
     "output_type": "stream",
     "text": [
      "No limb name was given so using L4 because was the limb in the first key\n"
     ]
    },
    {
     "data": {
      "image/png": "[encoded data removed]",
      "text/plain": [
       "<Figure size 2880x1440 with 1 Axes>"
      ]
     },
     "metadata": {},
     "output_type": "display_data"
    }
   ],
   "source": [
    "nviz.plot_limb_concept_network_2D(neuron_obj,node_colors=ret_col_0,node_size=4000)"
   ]
  },
  {
   "cell_type": "code",
   "execution_count": 259,
   "metadata": {},
   "outputs": [],
   "source": [
    "import copy\n",
    "def find_high_degree_coordinates_on_path(limb_obj,curr_path_to_cut,\n",
    "                                   degree_to_check=4):\n",
    "    \"\"\"\n",
    "    Purpose: Find coordinates on a skeleton of the path speciifed (in terms of node ids)\n",
    "    that are above the degree_to_check (in reference to the skeleton)\n",
    "    \n",
    "    \n",
    "    \"\"\"\n",
    "    path_divergent_points = [sk.find_branch_endpoints(limb_obj[k].skeleton) for k in curr_path_to_cut]\n",
    "    endpoint_coordinates = np.unique(np.concatenate(path_divergent_points),axis=0)\n",
    "\n",
    "    limb_sk_gr = sk.convert_skeleton_to_graph(limb_obj.skeleton)\n",
    "    endpoint_degrees = xu.get_coordinate_degree(limb_sk_gr,endpoint_coordinates)\n",
    "    high_degree_endpoint_coordinates = endpoint_coordinates[endpoint_degrees>=degree_to_check]\n",
    "    \n",
    "    return high_degree_endpoint_coordinates\n",
    "\n",
    "\n",
    "def get_best_cut_edge(curr_limb,\n",
    "                      cut_path,\n",
    "                      \n",
    "                      #paraeters for high degree nodes\n",
    "                      high_degree_offset = 3000,\n",
    "                      \n",
    "                      # parameters for the doubling back\n",
    "                      double_back_threshold = 130,\n",
    "                      offset = 1000,\n",
    "                      \n",
    "                      #parameters for the width threshold\n",
    "                      width_jump_threshold = 200,\n",
    "                      verbose=True):\n",
    "    \"\"\"\n",
    "    Purpose: To choose the best path to cut to disconnect\n",
    "    a path based on the heuristic hierarchy of \n",
    "    \n",
    "    Cut in descending priority\n",
    "    1) high degree coordinates\n",
    "    2) Doubling Back \n",
    "    3) Width Jump\n",
    "    \n",
    "    Pseudocode: \n",
    "    1) Get any high degree cordinates on path\n",
    "    --> if there are then pick the first one and perform the cuts\n",
    "    \n",
    "    2) Check the doubling backs (and pick the highest one if above threshold)\n",
    "    3) Check for width jumps (and pick the highest one)\n",
    "    4) Record the cuts that will be made\n",
    "    5) Make the alterations to the graph (can be adding and creating edges)\n",
    "    \"\"\"\n",
    "    high_degree_endpoint_coordinates = find_high_degree_coordinates_on_path(curr_limb,cut_path)\n",
    "    \n",
    "    edges_to_create = None\n",
    "    edges_to_delete = None\n",
    "    \n",
    "    if verbose:\n",
    "        print(f\"Found {len(high_degree_endpoint_coordinates)} high degree coordinates to cut\")\n",
    "        \n",
    "    if len(high_degree_endpoint_coordinates)>0:\n",
    "        \n",
    "        curr_high_degree_coord = high_degree_endpoint_coordinates[0]\n",
    "\n",
    "        if verbose:\n",
    "            print(f\"Picking {curr_high_degree_coord} high degree coordinates to cut\")\n",
    "\n",
    "        edges_to_delete,edges_to_create = ed.resolving_crossovers(curr_limb,\n",
    "                                coordinate = curr_high_degree_coord,\n",
    "                                return_subgraph=False,\n",
    "                                plot_intermediates=False,\n",
    "                                                offset=high_degree_offset,\n",
    "                                verbose = verbose\n",
    "                               )\n",
    "    \n",
    "        \n",
    "    \n",
    "    \n",
    "    \n",
    "    curr_limb.set_concept_network_directional(starting_node = cut_path[0])\n",
    "    \n",
    "    \n",
    "    if edges_to_delete is None:\n",
    "        if verbose: \n",
    "            print(\"\\nAttempting the doubling back check (symmetrical so don't need to check from both sides)\")\n",
    "            \n",
    "        err_edges,edges,edges_double_back = ed.double_back_edges_path(curr_limb,\n",
    "                                path_to_check=cut_path,\n",
    "                              double_back_threshold = double_back_threshold,\n",
    "                             offset=offset,\n",
    "                            verbose = verbose)\n",
    "\n",
    "\n",
    "        if len(err_edges) > 0:\n",
    "\n",
    "            largest_double_back = np.argmax(edges_double_back)\n",
    "            winning_err_edge = edges[largest_double_back]\n",
    "\n",
    "            if verbose:\n",
    "                print(f\"There were {len(err_edges)} edges that passed doubling back threshold of {double_back_threshold}\")\n",
    "                print(f\"Winning edge {winning_err_edge} had a doubling back of {largest_double_back}\")\n",
    "                \n",
    "            edges_to_delete = [winning_err_edge]\n",
    "\n",
    "    if edges_to_delete is None:\n",
    "        if verbose: \n",
    "            print(\"\\nAttempting the width jump check (attempting from both sides)\")\n",
    "            \n",
    "        possible_starting_nodes = [cut_path[0],cut_path[-1]]\n",
    "        \n",
    "        \n",
    "        first_error_edges = []\n",
    "        first_error_sizes = []\n",
    "        for s_node in possible_starting_nodes:\n",
    "            curr_limb.set_concept_network_directional(starting_node = s_node)\n",
    "            err_edges,edges,edges_width_jump = ed.width_jump_edges_path(curr_limb,\n",
    "                                                                        path_to_check=cut_path,\n",
    "                                                                        width_jump_threshold=width_jump_threshold,\n",
    "                                                                        offset=offset,\n",
    "                                                                        verbose=verbose\n",
    "                                    )\n",
    "            \n",
    "            if verbose:\n",
    "                print(f\"Path starting at {s_node} had err_edges: {err_edges}\")\n",
    "            \n",
    "            err_edges_mask = edges_width_jump>=width_jump_threshold\n",
    "            \n",
    "            if np.any(err_edges_mask):\n",
    "                first_error_edges.append(edges[err_edges_mask][0])\n",
    "                first_error_sizes.append(edges_width_jump[err_edges_mask][0])\n",
    "            else:\n",
    "                first_error_edges.append(None)\n",
    "                first_error_sizes.append(-np.inf)\n",
    "     \n",
    "        \n",
    "        \"\"\"\n",
    "        Pseudocode: \n",
    "        1) Check if both error edges are not empty\n",
    "        2) Get the starting error \n",
    "        \n",
    "        \n",
    "        \"\"\"\n",
    "        if (not first_error_edges[0] is None) or (not first_error_edges[1] is None):\n",
    "            winning_path = np.argmax(first_error_sizes)\n",
    "            winning_err_edge = first_error_edges[winning_path]\n",
    "            if verbose: \n",
    "                print(f\"first_error_sizes = {first_error_sizes}, winning_path = {winning_path}\")\n",
    "                \n",
    "            edges_to_delete = [winning_err_edge]\n",
    "        else:\n",
    "            if verbose:\n",
    "                print(f\"Did not find an error edge in either of the paths\")\n",
    "                \n",
    "            \n",
    "    #apply the winning cut\n",
    "    if not edges_to_delete is None:\n",
    "        if verbose:\n",
    "            print(f\"edges_to_delete = {edges_to_delete}\")\n",
    "        curr_limb.concept_network.remove_edges_from(edges_to_delete)\n",
    "        \n",
    "    if not edges_to_create is None:\n",
    "        if verbose:\n",
    "            print(f\"edges_to_create = {edges_to_create}\")\n",
    "        curr_limb.concept_network.add_edges_from(edges_to_create)\n",
    "    \n",
    "    return edges_to_delete,edges_to_create,curr_limb"
   ]
  },
  {
   "cell_type": "code",
   "execution_count": 260,
   "metadata": {},
   "outputs": [
    {
     "name": "stdout",
     "output_type": "stream",
     "text": [
      "Recieved another instance of Neuron class in init -- so just copying data\n"
     ]
    }
   ],
   "source": [
    "import itertools\n",
    "import networkx as nx\n",
    "import copy\n",
    "import numpy as np\n",
    "\n",
    "verbose = True\n",
    "neuron = reload(neuron)\n",
    "neuron_obj = neuron.Neuron(neuron_obj)\n",
    "\n",
    "curr_limb_idx = 3\n",
    "curr_limb = neuron_obj[curr_limb_idx]\n",
    "curr_limb_copy = copy.deepcopy(curr_limb)"
   ]
  },
  {
   "cell_type": "code",
   "execution_count": 261,
   "metadata": {
    "scrolled": false
   },
   "outputs": [
    {
     "name": "stdout",
     "output_type": "stream",
     "text": [
      "\n",
      "\n",
      "---- working on disconnecting 2 and 4: iteration 1\n",
      "---- This disconnects S0_0 from S1_0  \n",
      " Cut iteration 0\n",
      "Shortest path = [2 1 7 4]\n",
      "Found 1 high degree coordinates to cut\n",
      "Picking [989865. 967476. 717657.] high degree coordinates to cut\n",
      "coordinate_branches = [1 3 7 9]\n",
      "Angle between 1 and 3 = 35.98 \n",
      "Angle between 1 and 7 = 131.43 \n",
      "Angle between 1 and 9 = 50.16 \n",
      "Angle between 3 and 7 = 79.78 \n",
      "Angle between 3 and 9 = 100.79 \n",
      "Angle between 7 and 9 = 5.65 \n",
      "Final Matches = [[1, 3], [7, 9]]\n",
      "Original graph\n"
     ]
    },
    {
     "data": {
      "image/png": "[encoded data removed]",
      "text/plain": [
       "<Figure size 432x288 with 1 Axes>"
      ]
     },
     "metadata": {},
     "output_type": "display_data"
    },
    {
     "name": "stdout",
     "output_type": "stream",
     "text": [
      "edges_to_delete = [array([1, 7]), array([1, 9])]\n",
      "edges_to_create = [array([7, 9])]\n",
      "edges_to_delete = [array([1, 7]), array([1, 9])]\n",
      "edges_to_create = [array([7, 9])]\n",
      " Cut iteration 1\n",
      "No valid path so moving onto the next connection\n",
      "Total number of graphs at the end of the split = 2\n"
     ]
    }
   ],
   "source": [
    "\"\"\"\n",
    "Find path to cut:\n",
    "1) Get the concept network\n",
    "2) Get all of the starting nodes for somas\n",
    "3) Get the shortest path between each combination of starting nodes\n",
    "\n",
    "\"\"\"\n",
    "max_iterations = 100\n",
    "\n",
    "#2) Get all of the starting nodes for somas\n",
    "all_starting_nodes = [k[\"starting_node\"] for k in curr_limb.all_concept_network_data]\n",
    "\n",
    "starting_node_combinations = list(itertools.combinations(all_starting_nodes,2))\n",
    "soma_combinations = []\n",
    "\n",
    "soma_to_soma_cuts = dict()\n",
    "\n",
    "results = []\n",
    "\n",
    "for st_n_1,st_n_2 in starting_node_combinations:\n",
    "    local_results = dict(starting_node_1=st_n_1,\n",
    "                        starting_node_2 = st_n_2)\n",
    "    st_n_1_soma,st_n_1_soma_group_idx = curr_limb.get_soma_by_starting_node(st_n_1),curr_limb.get_soma_group_by_starting_node(st_n_1)\n",
    "    st_n_2_soma,st_n_2_soma_group_idx = curr_limb.get_soma_by_starting_node(st_n_2),curr_limb.get_soma_group_by_starting_node(st_n_2)\n",
    "    \n",
    "    soma_title = f\"S{st_n_1_soma}_{st_n_1_soma_group_idx} from S{st_n_2_soma}_{st_n_2_soma_group_idx} \"\n",
    "    local_results[\"title\"] = soma_title\n",
    "    soma_combinations.append(soma_title)\n",
    "    \n",
    "    total_soma_paths_to_cut = []\n",
    "    # need to keep cutting until no path for them\n",
    "    if verbose:\n",
    "        print(f\"\\n\\n---- working on disconnecting {st_n_1} and {st_n_2}: iteration {counter}\")\n",
    "        print(f\"---- This disconnects {soma_title} \")\n",
    "        \n",
    "    counter = 0\n",
    "    success = False\n",
    "    while True:\n",
    "        if verbose:\n",
    "            print(f\" Cut iteration {counter}\")\n",
    "        try:\n",
    "            \n",
    "            soma_to_soma_path = np.array(nx.shortest_path(curr_limb_copy.concept_network,st_n_1,st_n_2))\n",
    "        except:\n",
    "            print(\"No valid path so moving onto the next connection\")\n",
    "            success = True\n",
    "            break\n",
    "\n",
    "        if verbose:\n",
    "            print(f\"Shortest path = {soma_to_soma_path}\")\n",
    "\n",
    "        # say we found the cut node to make\n",
    "        cut_edges, added_edges, curr_limb_copy = get_best_cut_edge(curr_limb_copy,soma_to_soma_path)\n",
    "        if cut_edges is None:\n",
    "            print(\"***** there was no suggested cut for this limb even though it is still connnected***\")\n",
    "            \n",
    "            break\n",
    "        \n",
    "        \n",
    "        total_soma_paths_to_cut += cut_edges\n",
    "        \n",
    "        counter += 1\n",
    "        \n",
    "        if counter > max_iterations:\n",
    "            print(f\"Breaking because hit max iterations {max_iterations}\")\n",
    "            \n",
    "    local_results[\"edges_to_cut\"] = total_soma_paths_to_cut\n",
    "    \n",
    "    suggested_cut_points = [sk.shared_endpoint(curr_limb_copy[cut_e[0]].skeleton,\n",
    "                                        curr_limb_copy[cut_e[1]].skeleton)\n",
    "                                     for cut_e in total_soma_paths_to_cut]\n",
    "    \n",
    "    local_results[\"coordinate_suggestions\"] =suggested_cut_points\n",
    "    local_results[\"successful_disconnection\"] = success\n",
    "    results.append(local_results)\n",
    "\n",
    "seperated_graphs = list(nx.connected_components(curr_limb_copy.concept_network))\n",
    "print(f\"Total number of graphs at the end of the split = {len(seperated_graphs)}\")\n",
    "\n"
   ]
  },
  {
   "cell_type": "code",
   "execution_count": 262,
   "metadata": {},
   "outputs": [
    {
     "data": {
      "text/plain": [
       "{'starting_node_1': 2,\n",
       " 'starting_node_2': 4,\n",
       " 'title': 'S0_0 from S1_0 ',\n",
       " 'edges_to_cut': [array([1, 7]), array([1, 9])],\n",
       " 'coordinate_suggestions': [array([989865., 967476., 717657.]),\n",
       "  array([989865., 967476., 717657.])]}"
      ]
     },
     "execution_count": 262,
     "metadata": {},
     "output_type": "execute_result"
    }
   ],
   "source": [
    "local_results"
   ]
  },
  {
   "cell_type": "markdown",
   "metadata": {},
   "source": [
    "# Getting th Points to Cut (From the Edge Cuts)"
   ]
  },
  {
   "cell_type": "code",
   "execution_count": 256,
   "metadata": {},
   "outputs": [
    {
     "data": {
      "text/plain": [
       "{'starting_node_1': 2,\n",
       " 'starting_node_2': 4,\n",
       " 'title': 'S0_0 from S1_0 ',\n",
       " 'edges_to_cut': [],\n",
       " 'coordinate_suggestions': []}"
      ]
     },
     "execution_count": 256,
     "metadata": {},
     "output_type": "execute_result"
    }
   ],
   "source": []
  },
  {
   "cell_type": "code",
   "execution_count": 244,
   "metadata": {},
   "outputs": [
    {
     "data": {
      "text/plain": [
       "array([[989865., 967476., 717657.],\n",
       "       [989865., 967476., 717657.]])"
      ]
     },
     "execution_count": 244,
     "metadata": {},
     "output_type": "execute_result"
    }
   ],
   "source": [
    "\n",
    "suggested_cut_points = np.array(suggested_cut_points)\n",
    "suggested_cut_points"
   ]
  },
  {
   "cell_type": "code",
   "execution_count": null,
   "metadata": {},
   "outputs": [],
   "source": []
  },
  {
   "cell_type": "code",
   "execution_count": null,
   "metadata": {},
   "outputs": [],
   "source": []
  },
  {
   "cell_type": "markdown",
   "metadata": {},
   "source": [
    "# Code Playing Around"
   ]
  },
  {
   "cell_type": "code",
   "execution_count": 166,
   "metadata": {},
   "outputs": [
    {
     "data": {
      "application/vnd.jupyter.widget-view+json": {
       "model_id": "50a666348e574986b0866ddfa064ba49",
       "version_major": 2,
       "version_minor": 0
      },
      "text/plain": [
       "VBox(children=(Figure(camera=PerspectiveCamera(fov=46.0, position=(0.0, 0.0, 2.0), quaternion=(0.0, 0.0, 0.0, …"
      ]
     },
     "metadata": {},
     "output_type": "display_data"
    }
   ],
   "source": [
    "# curr_colors = [\"red\",\"aqua\",\"purple\",\"green\"]\n",
    "# limb_obj = curr_limb\n",
    "# curr_match = [1,3,7]\n",
    "# nviz.plot_objects(meshes=[limb_obj[k].mesh for k in curr_match],\n",
    "#      meshes_colors=curr_colors,\n",
    "#      #skeletons=[limb_obj[k].skeleton for k in curr_match],\n",
    "#     skeletons=[up_sk,d_sk,],\n",
    "#      skeletons_colors=curr_colors,\n",
    "#                  scatters=[np.array([[989865., 967476., 717657.]])],\n",
    "#                   scatter_size=1)"
   ]
  },
  {
   "cell_type": "code",
   "execution_count": 101,
   "metadata": {},
   "outputs": [
    {
     "data": {
      "text/plain": [
       "array([2, 1, 7, 4])"
      ]
     },
     "execution_count": 101,
     "metadata": {},
     "output_type": "execute_result"
    }
   ],
   "source": [
    "soma_to_soma_path"
   ]
  },
  {
   "cell_type": "code",
   "execution_count": 45,
   "metadata": {},
   "outputs": [
    {
     "name": "stdout",
     "output_type": "stream",
     "text": [
      "\n",
      " Working on visualization type: mesh\n",
      "\n",
      " Working on visualization type: skeleton\n"
     ]
    },
    {
     "data": {
      "application/vnd.jupyter.widget-view+json": {
       "model_id": "7d24664769b54849959988ddc4f2e4aa",
       "version_major": 2,
       "version_minor": 0
      },
      "text/plain": [
       "VBox(children=(Figure(camera=PerspectiveCamera(fov=46.0, position=(0.0, 0.0, 2.0), quaternion=(0.0, 0.0, 0.0, …"
      ]
     },
     "metadata": {},
     "output_type": "display_data"
    }
   ],
   "source": [
    "nviz.visualize_neuron(neuron_obj,\n",
    "                     visualize_type=[\"mesh\",\"skeleton\"],\n",
    "                     limb_branch_dict={f\"L{curr_limb_idx}\":curr_path_to_cut})"
   ]
  },
  {
   "cell_type": "code",
   "execution_count": 46,
   "metadata": {},
   "outputs": [
    {
     "data": {
      "application/vnd.jupyter.widget-view+json": {
       "model_id": "c8c9368375e34854a94daf1616bfc39f",
       "version_major": 2,
       "version_minor": 0
      },
      "text/plain": [
       "HBox(children=(FloatProgress(value=0.0, max=64.0), HTML(value='')))"
      ]
     },
     "metadata": {},
     "output_type": "display_data"
    },
    {
     "name": "stdout",
     "output_type": "stream",
     "text": [
      "\n"
     ]
    },
    {
     "data": {
      "application/vnd.jupyter.widget-view+json": {
       "model_id": "a218a1786d7f46b380b95a8c65d9cc4c",
       "version_major": 2,
       "version_minor": 0
      },
      "text/plain": [
       "HBox(children=(FloatProgress(value=0.0, max=64.0), HTML(value='')))"
      ]
     },
     "metadata": {},
     "output_type": "display_data"
    },
    {
     "name": "stdout",
     "output_type": "stream",
     "text": [
      "\n"
     ]
    },
    {
     "data": {
      "text/plain": [
       "{0: {0: []}, 1: {0: []}}"
      ]
     },
     "execution_count": 46,
     "metadata": {},
     "output_type": "execute_result"
    }
   ],
   "source": [
    "#Width Algorithm\n",
    "import error_detection as ed  \n",
    "ed = reload(ed)\n",
    "\n",
    "\n",
    "\n",
    "error_edges = ed.width_jump_edges(limb=curr_limb,\n",
    "    width_jump_threshold = 200,\n",
    "    verbose = False,\n",
    "    path_to_check = curr_path_to_cut\n",
    "    )\n",
    "\n",
    "error_edges"
   ]
  },
  {
   "cell_type": "code",
   "execution_count": 47,
   "metadata": {},
   "outputs": [
    {
     "data": {
      "application/vnd.jupyter.widget-view+json": {
       "model_id": "be8c05632d984f72a00c82e9e17ac0b8",
       "version_major": 2,
       "version_minor": 0
      },
      "text/plain": [
       "HBox(children=(FloatProgress(value=0.0, max=64.0), HTML(value='')))"
      ]
     },
     "metadata": {},
     "output_type": "display_data"
    },
    {
     "name": "stdout",
     "output_type": "stream",
     "text": [
      "\n"
     ]
    },
    {
     "data": {
      "application/vnd.jupyter.widget-view+json": {
       "model_id": "a6bb80467d404b7ea32588fb64abde02",
       "version_major": 2,
       "version_minor": 0
      },
      "text/plain": [
       "HBox(children=(FloatProgress(value=0.0, max=64.0), HTML(value='')))"
      ]
     },
     "metadata": {},
     "output_type": "display_data"
    },
    {
     "name": "stdout",
     "output_type": "stream",
     "text": [
      "\n"
     ]
    },
    {
     "data": {
      "text/plain": [
       "{0: {0: []}, 1: {0: []}}"
      ]
     },
     "execution_count": 47,
     "metadata": {},
     "output_type": "execute_result"
    }
   ],
   "source": [
    "#doubling back algorithm\n",
    "import error_detection as ed  \n",
    "ed = reload(ed)\n",
    "\n",
    "error_edges_double_back = ed.double_back_edges(limb=curr_limb,\n",
    "    double_back_threshold = 100,\n",
    "                  comparison_distance=3000,                     \n",
    "                    verbose = False,\n",
    "                    path_to_check = curr_path_to_cut)\n",
    "\n",
    "error_edges_double_back"
   ]
  },
  {
   "cell_type": "code",
   "execution_count": 64,
   "metadata": {},
   "outputs": [],
   "source": [
    "import skeleton_utils as sk\n",
    "import networkx as nx\n",
    "import networkx_utils as xu"
   ]
  },
  {
   "cell_type": "code",
   "execution_count": 94,
   "metadata": {},
   "outputs": [
    {
     "data": {
      "text/plain": [
       "array([[974646., 971130., 727738.],\n",
       "       [986212., 967839., 718727.],\n",
       "       [988130., 968030., 726904.],\n",
       "       [989865., 967476., 717657.],\n",
       "       [992837., 970782., 735227.]])"
      ]
     },
     "execution_count": 94,
     "metadata": {},
     "output_type": "execute_result"
    }
   ],
   "source": [
    "path_divergent_points = [sk.find_branch_endpoints(curr_limb[k].skeleton) for k in curr_path_to_cut]\n",
    "endpoint_coordinates = np.unique(np.concatenate(path_divergent_points),axis=0)\n",
    "endpoint_coordinates"
   ]
  },
  {
   "cell_type": "code",
   "execution_count": 95,
   "metadata": {
    "scrolled": true
   },
   "outputs": [
    {
     "data": {
      "text/plain": [
       "array([[989865., 967476., 717657.]])"
      ]
     },
     "execution_count": 95,
     "metadata": {},
     "output_type": "execute_result"
    }
   ],
   "source": [
    "limb_sk_gr = sk.convert_skeleton_to_graph(curr_limb.skeleton)\n",
    "endpoint_degrees = xu.get_coordinate_degree(limb_sk_gr,endpoint_coordinates)\n",
    "high_degree_endpoint_coordinates = endpoint_coordinates[endpoint_degrees>=4]\n",
    "high_degree_endpoint_coordinates"
   ]
  },
  {
   "cell_type": "code",
   "execution_count": 55,
   "metadata": {},
   "outputs": [
    {
     "data": {
      "application/vnd.jupyter.widget-view+json": {
       "model_id": "69471d6cbb164348b76d8d02824cecf4",
       "version_major": 2,
       "version_minor": 0
      },
      "text/plain": [
       "VBox(children=(Figure(camera=PerspectiveCamera(fov=46.0, position=(0.0, 0.0, 2.0), quaternion=(0.0, 0.0, 0.0, …"
      ]
     },
     "metadata": {},
     "output_type": "display_data"
    }
   ],
   "source": [
    "nviz.plot_objects(skeletons=[curr_limb.skeleton])"
   ]
  },
  {
   "cell_type": "code",
   "execution_count": 48,
   "metadata": {},
   "outputs": [
    {
     "data": {
      "text/plain": [
       "array([1])"
      ]
     },
     "execution_count": 48,
     "metadata": {},
     "output_type": "execute_result"
    }
   ],
   "source": [
    "# the high degree algorithm:\n",
    "import networkx_utils as xu\n",
    "degrees_of_path = np.array(xu.get_node_degree(curr_limb.concept_network,curr_path_to_cut))\n",
    "nodes_to_cut = np.where(degrees_of_path>3)[0]\n",
    "nodes_to_cut"
   ]
  },
  {
   "cell_type": "code",
   "execution_count": 49,
   "metadata": {},
   "outputs": [
    {
     "data": {
      "text/plain": [
       "array([2, 4, 3, 1])"
      ]
     },
     "execution_count": 49,
     "metadata": {},
     "output_type": "execute_result"
    }
   ],
   "source": [
    "degrees_of_path"
   ]
  },
  {
   "cell_type": "code",
   "execution_count": 75,
   "metadata": {},
   "outputs": [
    {
     "name": "stdout",
     "output_type": "stream",
     "text": [
      "\n",
      " Working on visualization type: mesh\n",
      "\n",
      " Working on visualization type: skeleton\n"
     ]
    },
    {
     "data": {
      "application/vnd.jupyter.widget-view+json": {
       "model_id": "2c9f9ce45ed4478fa96a4656c9d7ba83",
       "version_major": 2,
       "version_minor": 0
      },
      "text/plain": [
       "VBox(children=(Figure(camera=PerspectiveCamera(fov=46.0, position=(0.0, 0.0, 2.0), quaternion=(0.0, 0.0, 0.0, …"
      ]
     },
     "metadata": {},
     "output_type": "display_data"
    }
   ],
   "source": [
    "nviz.visualize_neuron(neuron_obj,\n",
    "                     visualize_type=[\"mesh\",\"skeleton\"],\n",
    "                     limb_branch_dict={f\"L{curr_limb_idx}\":\"all\"},\n",
    "                     mesh_color={f\"L{curr_limb_idx}\":dict([(k,\"red\") for k in nodes_to_cut])},\n",
    "                     mesh_fill_color=\"green\",\n",
    "                     skeleton_color=\"black\",\n",
    "                     scatters=[high_degree_endpoint_coordinates],\n",
    "                     scatter_size=0.5,\n",
    "                     scatters_colors=\"red\")"
   ]
  },
  {
   "cell_type": "code",
   "execution_count": 76,
   "metadata": {},
   "outputs": [
    {
     "data": {
      "text/plain": [
       "array([1])"
      ]
     },
     "execution_count": 76,
     "metadata": {},
     "output_type": "execute_result"
    }
   ],
   "source": []
  },
  {
   "cell_type": "code",
   "execution_count": 87,
   "metadata": {
    "scrolled": false
   },
   "outputs": [
    {
     "name": "stdout",
     "output_type": "stream",
     "text": [
      "coordinate_branches = [1 3 7 9]\n"
     ]
    },
    {
     "data": {
      "application/vnd.jupyter.widget-view+json": {
       "model_id": "b1003822bde1414fb7f73edbe096c3ed",
       "version_major": 2,
       "version_minor": 0
      },
      "text/plain": [
       "VBox(children=(Figure(camera=PerspectiveCamera(fov=46.0, position=(0.0, 0.0, 2.0), quaternion=(0.0, 0.0, 0.0, …"
      ]
     },
     "metadata": {},
     "output_type": "display_data"
    },
    {
     "name": "stdout",
     "output_type": "stream",
     "text": [
      "Angle between 1 and 3 = 27.7 \n",
      "Angle between 1 and 7 = 87.42 \n",
      "Angle between 1 and 9 = 50.54 \n",
      "Angle between 3 and 7 = 64.88 \n",
      "Angle between 3 and 9 = 103.23 \n",
      "Angle between 7 and 9 = 8.21 \n",
      "Final Matches = [[1, 3], [7, 9]]\n"
     ]
    },
    {
     "data": {
      "application/vnd.jupyter.widget-view+json": {
       "model_id": "b787f6d60e3a419f84bb8b606cac40d2",
       "version_major": 2,
       "version_minor": 0
      },
      "text/plain": [
       "VBox(children=(Figure(camera=PerspectiveCamera(fov=46.0, position=(0.0, 0.0, 2.0), quaternion=(0.0, 0.0, 0.0, …"
      ]
     },
     "metadata": {},
     "output_type": "display_data"
    },
    {
     "data": {
      "application/vnd.jupyter.widget-view+json": {
       "model_id": "fa6b05147f244cbe8bd88add6fc8e490",
       "version_major": 2,
       "version_minor": 0
      },
      "text/plain": [
       "VBox(children=(Figure(camera=PerspectiveCamera(fov=46.0, position=(0.0, 0.0, 2.0), quaternion=(0.0, 0.0, 0.0, …"
      ]
     },
     "metadata": {},
     "output_type": "display_data"
    },
    {
     "name": "stdout",
     "output_type": "stream",
     "text": [
      "Original graph\n"
     ]
    },
    {
     "data": {
      "image/png": "[encoded data removed]",
      "text/plain": [
       "<Figure size 432x288 with 1 Axes>"
      ]
     },
     "metadata": {},
     "output_type": "display_data"
    },
    {
     "name": "stdout",
     "output_type": "stream",
     "text": [
      "edges_to_delete = [array([1, 7]), array([1, 9])]\n",
      "edges_to_create = [array([7, 9])]\n",
      "n_components in adjusted graph = 2\n"
     ]
    }
   ],
   "source": [
    "curr_high_degree_coord = high_degree_endpoint_coordinates[0]\n",
    "import error_detection as ed\n",
    "import neuron_statistics as n_st\n",
    "n_st = reload(n_st)\n",
    "ed = reload(ed)\n",
    "nru = reload(nru)\n",
    "\n",
    "edges_to_delete,edges_to_create,new_limb_graph = ed.resolving_crossovers(copy.deepcopy(curr_limb),\n",
    "                        coordinate = curr_high_degree_coord,\n",
    "                        return_subgraph=True,\n",
    "                        plot_intermediates=True,\n",
    "                                        offset=2000,\n",
    "                       )"
   ]
  },
  {
   "cell_type": "code",
   "execution_count": 88,
   "metadata": {},
   "outputs": [
    {
     "data": {
      "text/plain": [
       "[{0,\n",
       "  1,\n",
       "  2,\n",
       "  3,\n",
       "  5,\n",
       "  6,\n",
       "  12,\n",
       "  13,\n",
       "  14,\n",
       "  15,\n",
       "  16,\n",
       "  17,\n",
       "  18,\n",
       "  19,\n",
       "  20,\n",
       "  21,\n",
       "  22,\n",
       "  23,\n",
       "  24,\n",
       "  25,\n",
       "  26,\n",
       "  27,\n",
       "  28,\n",
       "  29,\n",
       "  30,\n",
       "  31,\n",
       "  32,\n",
       "  33,\n",
       "  34,\n",
       "  35,\n",
       "  36,\n",
       "  37,\n",
       "  38,\n",
       "  39,\n",
       "  40,\n",
       "  41,\n",
       "  42,\n",
       "  43,\n",
       "  44,\n",
       "  45,\n",
       "  46,\n",
       "  47,\n",
       "  48,\n",
       "  49,\n",
       "  50,\n",
       "  51,\n",
       "  52,\n",
       "  53,\n",
       "  54,\n",
       "  55,\n",
       "  56,\n",
       "  57,\n",
       "  58,\n",
       "  59,\n",
       "  60,\n",
       "  61,\n",
       "  62,\n",
       "  63,\n",
       "  64},\n",
       " {4, 7, 8, 9, 10, 11}]"
      ]
     },
     "execution_count": 88,
     "metadata": {},
     "output_type": "execute_result"
    }
   ],
   "source": [
    "limb_connect_comp = list(nx.connected_components(new_limb_graph))\n",
    "limb_connect_comp"
   ]
  },
  {
   "cell_type": "code",
   "execution_count": 89,
   "metadata": {},
   "outputs": [
    {
     "data": {
      "text/plain": [
       "[{'starting_soma': 0,\n",
       "  'starting_node': 2,\n",
       "  'starting_endpoints': array([[988130., 968030., 726904.],\n",
       "         [992837., 970782., 735227.]]),\n",
       "  'starting_coordinate': array([992837., 970782., 735227.]),\n",
       "  'touching_soma_vertices': TrackedArray([[993265.3, 971460.6, 736096.5],\n",
       "                [993799.9, 970573. , 736124.2],\n",
       "                [993997.8, 970757.6, 736214.5],\n",
       "                [992767.7, 970908.8, 736383.6],\n",
       "                [993042.8, 971493.2, 736339.8],\n",
       "                [993754.1, 970519.5, 736249.9],\n",
       "                [992924.8, 971394.2, 736479.1],\n",
       "                [993458.8, 971409. , 736089.8],\n",
       "                [993123.1, 970653.6, 736513.6],\n",
       "                [993937.4, 970747.9, 736043.8],\n",
       "                [993619.8, 970452.2, 736389.3],\n",
       "                [993909. , 970662. , 736281. ],\n",
       "                [993141.1, 971506.8, 736320.7],\n",
       "                [993872.4, 970983.9, 735925.1],\n",
       "                [993487.9, 971453.8, 736307.5],\n",
       "                [993901.1, 971154.8, 736157.6],\n",
       "                [993313.4, 970580.6, 736621.5],\n",
       "                [993962.8, 971068.4, 736117.2],\n",
       "                [992708.9, 970962.7, 736335.6],\n",
       "                [992706.7, 971178.8, 736436.1],\n",
       "                [992882.7, 970815.3, 736454.6],\n",
       "                [994117.2, 970970.8, 736158. ],\n",
       "                [993714.1, 971199.9, 736015.5],\n",
       "                [994022.2, 970892.9, 736004.2],\n",
       "                [993497.8, 970482.2, 736603.1],\n",
       "                [993743.3, 970484.8, 736539.9],\n",
       "                [993027. , 970767. , 736596. ],\n",
       "                [993625.4, 971396.5, 736181.8]]),\n",
       "  'soma_group_idx': 0,\n",
       "  'concept_network': <networkx_utils.GraphOrderedEdges at 0x7f34cfb3beb8>},\n",
       " {'starting_soma': 1,\n",
       "  'starting_node': 4,\n",
       "  'starting_endpoints': array([[974646., 971130., 727738.],\n",
       "         [986212., 967839., 718727.]]),\n",
       "  'starting_coordinate': array([974646., 971130., 727738.]),\n",
       "  'touching_soma_vertices': TrackedArray([[974946. , 971775. , 728973. ],\n",
       "                [974988. , 971502. , 729036. ],\n",
       "                [974480.8, 970991.1, 728988.5],\n",
       "                [974609.9, 971064. , 728936.2],\n",
       "                [974471.9, 970990.8, 728803.2],\n",
       "                [974967. , 971502. , 728994. ],\n",
       "                [974103. , 970942.4, 728950.8],\n",
       "                [974967. , 971733. , 728952. ],\n",
       "                [974119.7, 971512.7, 728800. ],\n",
       "                [974654.4, 971882.2, 728892.9],\n",
       "                [974967. , 971460. , 729015. ],\n",
       "                [974082.6, 970959.1, 728828.1],\n",
       "                [975009. , 971586. , 728973. ],\n",
       "                [974358. , 971628. , 729015. ],\n",
       "                [974127. , 971502. , 728931. ],\n",
       "                [975009. , 971544. , 729015. ],\n",
       "                [974326.1, 970974.8, 728880.8],\n",
       "                [974108.4, 971413.6, 728948.5],\n",
       "                [974914.2, 971819.5, 729048.1],\n",
       "                [974967. , 971418. , 729036. ],\n",
       "                [974967. , 971418. , 729015. ],\n",
       "                [974676.9, 971065.8, 729111.6],\n",
       "                [974967. , 971376. , 729015. ],\n",
       "                [974480.9, 971719.2, 729018.2],\n",
       "                [974574.5, 971777.5, 729034.4],\n",
       "                [975009. , 971691. , 728952. ],\n",
       "                [974967. , 971481. , 729015. ],\n",
       "                [974897.5, 971253. , 729075.1],\n",
       "                [974232.1, 971589.6, 728895.8],\n",
       "                [974741.1, 971125.6, 728882.1],\n",
       "                [974010.6, 971273.6, 728896.8],\n",
       "                [974988. , 971544. , 728994. ]]),\n",
       "  'soma_group_idx': 0,\n",
       "  'concept_network': <networkx_utils.GraphOrderedEdges at 0x7f34cfb3bb70>}]"
      ]
     },
     "execution_count": 89,
     "metadata": {},
     "output_type": "execute_result"
    }
   ],
   "source": [
    "curr_limb.all_concept_network_data"
   ]
  },
  {
   "cell_type": "code",
   "execution_count": null,
   "metadata": {},
   "outputs": [],
   "source": []
  }
 ],
 "metadata": {
  "kernelspec": {
   "display_name": "Python 3",
   "language": "python",
   "name": "python3"
  },
  "language_info": {
   "codemirror_mode": {
    "name": "ipython",
    "version": 3
   },
   "file_extension": ".py",
   "mimetype": "text/x-python",
   "name": "python",
   "nbconvert_exporter": "python",
   "pygments_lexer": "ipython3",
   "version": "3.6.9"
  }
 },
 "nbformat": 4,
 "nbformat_minor": 4
}
