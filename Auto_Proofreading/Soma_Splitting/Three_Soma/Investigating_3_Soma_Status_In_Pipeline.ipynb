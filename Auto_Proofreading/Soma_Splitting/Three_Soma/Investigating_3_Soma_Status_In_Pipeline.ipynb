{
 "cells": [
  {
   "cell_type": "code",
   "execution_count": null,
   "metadata": {},
   "outputs": [],
   "source": [
    "\"\"\"\n",
    "Purpose: To investigate the status of the 3 soma neurons that need to be split\n",
    "\n",
    "\n",
    "\n",
    "\"\"\"\n"
   ]
  },
  {
   "cell_type": "code",
   "execution_count": 1,
   "metadata": {},
   "outputs": [],
   "source": [
    "%load_ext autoreload\n",
    "%autoreload 2"
   ]
  },
  {
   "cell_type": "code",
   "execution_count": 2,
   "metadata": {},
   "outputs": [],
   "source": [
    "from os import sys\n",
    "sys.path.append(\"/meshAfterParty/\")"
   ]
  },
  {
   "cell_type": "code",
   "execution_count": 3,
   "metadata": {},
   "outputs": [
    {
     "name": "stderr",
     "output_type": "stream",
     "text": [
      "INFO - 2021-01-03 23:26:38,929 - settings - Setting database.host to at-database.ad.bcm.edu\n",
      "INFO - 2021-01-03 23:26:38,930 - settings - Setting database.user to celiib\n",
      "INFO - 2021-01-03 23:26:38,930 - settings - Setting database.password to newceliipass\n",
      "INFO - 2021-01-03 23:26:38,934 - settings - Setting stores to {'minnie65': {'protocol': 'file', 'location': '/mnt/dj-stor01/platinum/minnie65', 'stage': '/mnt/dj-stor01/platinum/minnie65'}, 'meshes': {'protocol': 'file', 'location': '/mnt/dj-stor01/platinum/minnie65/02/meshes', 'stage': '/mnt/dj-stor01/platinum/minnie65/02/meshes'}, 'decimated_meshes': {'protocol': 'file', 'location': '/mnt/dj-stor01/platinum/minnie65/02/decimated_meshes', 'stage': '/mnt/dj-stor01/platinum/minnie65/02/decimated_meshes'}, 'skeletons': {'protocol': 'file', 'location': '/mnt/dj-stor01/platinum/minnie65/02/skeletons'}}\n",
      "INFO - 2021-01-03 23:26:38,935 - settings - Setting enable_python_native_blobs to True\n",
      "INFO - 2021-01-03 23:26:38,946 - connection - Connected celiib@at-database.ad.bcm.edu:3306\n"
     ]
    },
    {
     "name": "stdout",
     "output_type": "stream",
     "text": [
      "Connecting celiib@at-database.ad.bcm.edu:3306\n"
     ]
    },
    {
     "name": "stderr",
     "output_type": "stream",
     "text": [
      "INFO - 2021-01-03 23:26:39,185 - settings - Setting enable_python_native_blobs to True\n"
     ]
    }
   ],
   "source": [
    "from importlib import reload\n",
    "\n",
    "import neuron_utils as nru\n",
    "\n",
    "import neuron\n",
    "\n",
    "import neuron_visualizations as nviz\n",
    "\n",
    "import time\n",
    "\n",
    "import datajoint_utils as du\n",
    "\n",
    "import numpy as np"
   ]
  },
  {
   "cell_type": "code",
   "execution_count": 4,
   "metadata": {},
   "outputs": [
    {
     "name": "stderr",
     "output_type": "stream",
     "text": [
      "INFO - 2021-01-03 23:26:46,284 - settings - Setting enable_python_native_blobs to True\n",
      "INFO - 2021-01-03 23:26:46,541 - settings - Setting enable_python_native_blobs to True\n"
     ]
    }
   ],
   "source": [
    "minnie,schema = du.configure_minnie_vm()"
   ]
  },
  {
   "cell_type": "code",
   "execution_count": 21,
   "metadata": {},
   "outputs": [],
   "source": [
    "import cloudvolume"
   ]
  },
  {
   "cell_type": "code",
   "execution_count": 23,
   "metadata": {},
   "outputs": [
    {
     "data": {
      "text/plain": [
       "'1.16.0'"
      ]
     },
     "execution_count": 23,
     "metadata": {},
     "output_type": "execute_result"
    }
   ],
   "source": [
    "cloudvolume.__version__"
   ]
  },
  {
   "cell_type": "code",
   "execution_count": null,
   "metadata": {},
   "outputs": [],
   "source": [
    "3.2.3"
   ]
  },
  {
   "cell_type": "markdown",
   "metadata": {},
   "source": [
    "# The 3 Soma Neuorns"
   ]
  },
  {
   "cell_type": "code",
   "execution_count": 5,
   "metadata": {},
   "outputs": [],
   "source": [
    "three_soma_ids = [\n",
    "    864691135065032772,\n",
    "864691135210078912,\n",
    "864691135345280671,\n",
    "864691135373436616,\n",
    "864691135403794158,\n",
    "864691135428492848,\n",
    "864691135490263655,\n",
    "864691135526114907,\n",
    "864691135568932230,\n",
    "864691135577031173,\n",
    "864691135589917707,\n",
    "864691135593563947,\n",
    "864691135593565995,\n",
    "864691135609477127,\n",
    "864691135609479687,\n",
    "864691135615814761,\n",
    "864691135654121154,\n",
    "864691135654192322,\n",
    "864691135686909664,\n",
    "864691135699307810,\n",
    "864691135780852304,\n",
    "864691135815508815,\n",
    "864691135837279635,\n",
    "864691135847950686,\n",
    "864691135855566638,\n",
    "864691135865528197,\n",
    "864691135866433814,\n",
    "864691135937436725,\n",
    "864691135939303681,\n",
    "864691135939679654,\n",
    "864691135974471279,\n",
    "864691136008595118,\n",
    "864691136236789519,\n",
    "864691136309708378,\n",
    "864691136521606033,\n",
    "864691137196956993,\n",
    "]"
   ]
  },
  {
   "cell_type": "code",
   "execution_count": 6,
   "metadata": {},
   "outputs": [
    {
     "data": {
      "text/plain": [
       "36"
      ]
     },
     "execution_count": 6,
     "metadata": {},
     "output_type": "execute_result"
    }
   ],
   "source": [
    "len(three_soma_ids)"
   ]
  },
  {
   "cell_type": "markdown",
   "metadata": {},
   "source": [
    "# Checking the Database for Neurons"
   ]
  },
  {
   "cell_type": "code",
   "execution_count": 7,
   "metadata": {},
   "outputs": [],
   "source": [
    "soma_dict_list =  [dict(segment_id=k) for k in three_soma_ids]"
   ]
  },
  {
   "cell_type": "code",
   "execution_count": 8,
   "metadata": {},
   "outputs": [
    {
     "data": {
      "text/html": [
       "\n",
       "        \n",
       "        <style type=\"text/css\">\n",
       "            .Relation{\n",
       "                border-collapse:collapse;\n",
       "            }\n",
       "            .Relation th{\n",
       "                background: #A0A0A0; color: #ffffff; padding:4px; border:#f0e0e0 1px solid;\n",
       "                font-weight: normal; font-family: monospace; font-size: 100%;\n",
       "            }\n",
       "            .Relation td{\n",
       "                padding:4px; border:#f0e0e0 1px solid; font-size:100%;\n",
       "            }\n",
       "            .Relation tr:nth-child(odd){\n",
       "                background: #ffffff;\n",
       "            }\n",
       "            .Relation tr:nth-child(even){\n",
       "                background: #f3f1ff;\n",
       "            }\n",
       "            /* Tooltip container */\n",
       "            .djtooltip {\n",
       "            }\n",
       "            /* Tooltip text */\n",
       "            .djtooltip .djtooltiptext {\n",
       "                visibility: hidden;\n",
       "                width: 120px;\n",
       "                background-color: black;\n",
       "                color: #fff;\n",
       "                text-align: center;\n",
       "                padding: 5px 0;\n",
       "                border-radius: 6px;\n",
       "                /* Position the tooltip text - see examples below! */\n",
       "                position: absolute;\n",
       "                z-index: 1;\n",
       "            }\n",
       "            #primary {\n",
       "                font-weight: bold;\n",
       "                color: black;\n",
       "            }\n",
       "\n",
       "            #nonprimary {\n",
       "                font-weight: normal;\n",
       "                color: white;\n",
       "            }\n",
       "\n",
       "            /* Show the tooltip text when you mouse over the tooltip container */\n",
       "            .djtooltip:hover .djtooltiptext {\n",
       "                visibility: visible;\n",
       "            }\n",
       "        </style>\n",
       "        \n",
       "        <b>Platinum mesh structures</b>\n",
       "            <div style=\"max-height:1000px;max-width:1500px;overflow:auto;\">\n",
       "            <table border=\"1\" class=\"Relation\">\n",
       "                <thead> <tr style=\"text-align: right;\"> <th> <div class=\"djtooltip\">\n",
       "                                <p id=\"primary\">segment_id</p>\n",
       "                                <span class=\"djtooltiptext\">segment id unique within each Segmentation</span>\n",
       "                            </div></th><th><div class=\"djtooltip\">\n",
       "                                <p id=\"nonprimary\">n_vertices</p>\n",
       "                                <span class=\"djtooltiptext\">number of vertices</span>\n",
       "                            </div></th><th><div class=\"djtooltip\">\n",
       "                                <p id=\"nonprimary\">n_faces</p>\n",
       "                                <span class=\"djtooltiptext\">number of faces</span>\n",
       "                            </div></th><th><div class=\"djtooltip\">\n",
       "                                <p id=\"nonprimary\">mesh</p>\n",
       "                                <span class=\"djtooltiptext\">in-place path to the hdf5 mesh file</span>\n",
       "                            </div> </th> </tr> </thead>\n",
       "                <tbody> <tr> <td>864691135428492848</td>\n",
       "<td>6578652</td>\n",
       "<td>13142122</td>\n",
       "<td>=BLOB=</td></tr><tr><td>864691135589917707</td>\n",
       "<td>3917310</td>\n",
       "<td>7813244</td>\n",
       "<td>=BLOB=</td></tr><tr><td>864691135686909664</td>\n",
       "<td>5510517</td>\n",
       "<td>11002799</td>\n",
       "<td>=BLOB=</td></tr><tr><td>864691135855566638</td>\n",
       "<td>11837493</td>\n",
       "<td>23630474</td>\n",
       "<td>=BLOB=</td></tr><tr><td>864691135865528197</td>\n",
       "<td>6611382</td>\n",
       "<td>13200573</td>\n",
       "<td>=BLOB=</td></tr><tr><td>864691135939303681</td>\n",
       "<td>9813408</td>\n",
       "<td>19644033</td>\n",
       "<td>=BLOB=</td> </tr> </tbody>\n",
       "            </table>\n",
       "            \n",
       "            <p>Total: 6</p></div>\n",
       "            "
      ],
      "text/plain": [
       "*segment_id    n_vertices     n_faces      mesh      \n",
       "+------------+ +------------+ +----------+ +--------+\n",
       "86469113542849 6578652        13142122     =BLOB=    \n",
       "86469113558991 3917310        7813244      =BLOB=    \n",
       "86469113568690 5510517        11002799     =BLOB=    \n",
       "86469113585556 11837493       23630474     =BLOB=    \n",
       "86469113586552 6611382        13200573     =BLOB=    \n",
       "86469113593930 9813408        19644033     =BLOB=    \n",
       " (Total: 6)"
      ]
     },
     "execution_count": 8,
     "metadata": {},
     "output_type": "execute_result"
    }
   ],
   "source": [
    "minnie.Mesh() & soma_dict_list"
   ]
  },
  {
   "cell_type": "code",
   "execution_count": 9,
   "metadata": {},
   "outputs": [
    {
     "data": {
      "text/html": [
       "\n",
       "        \n",
       "        <style type=\"text/css\">\n",
       "            .Relation{\n",
       "                border-collapse:collapse;\n",
       "            }\n",
       "            .Relation th{\n",
       "                background: #A0A0A0; color: #ffffff; padding:4px; border:#f0e0e0 1px solid;\n",
       "                font-weight: normal; font-family: monospace; font-size: 100%;\n",
       "            }\n",
       "            .Relation td{\n",
       "                padding:4px; border:#f0e0e0 1px solid; font-size:100%;\n",
       "            }\n",
       "            .Relation tr:nth-child(odd){\n",
       "                background: #ffffff;\n",
       "            }\n",
       "            .Relation tr:nth-child(even){\n",
       "                background: #f3f1ff;\n",
       "            }\n",
       "            /* Tooltip container */\n",
       "            .djtooltip {\n",
       "            }\n",
       "            /* Tooltip text */\n",
       "            .djtooltip .djtooltiptext {\n",
       "                visibility: hidden;\n",
       "                width: 120px;\n",
       "                background-color: black;\n",
       "                color: #fff;\n",
       "                text-align: center;\n",
       "                padding: 5px 0;\n",
       "                border-radius: 6px;\n",
       "                /* Position the tooltip text - see examples below! */\n",
       "                position: absolute;\n",
       "                z-index: 1;\n",
       "            }\n",
       "            #primary {\n",
       "                font-weight: bold;\n",
       "                color: black;\n",
       "            }\n",
       "\n",
       "            #nonprimary {\n",
       "                font-weight: normal;\n",
       "                color: white;\n",
       "            }\n",
       "\n",
       "            /* Show the tooltip text when you mouse over the tooltip container */\n",
       "            .djtooltip:hover .djtooltiptext {\n",
       "                visibility: visible;\n",
       "            }\n",
       "        </style>\n",
       "        \n",
       "        <b>Decimated meshes</b>\n",
       "            <div style=\"max-height:1000px;max-width:1500px;overflow:auto;\">\n",
       "            <table border=\"1\" class=\"Relation\">\n",
       "                <thead> <tr style=\"text-align: right;\"> <th> <div class=\"djtooltip\">\n",
       "                                <p id=\"primary\">segment_id</p>\n",
       "                                <span class=\"djtooltiptext\">segment id unique within each Segmentation</span>\n",
       "                            </div></th><th><div class=\"djtooltip\">\n",
       "                                <p id=\"primary\">version</p>\n",
       "                                <span class=\"djtooltiptext\"></span>\n",
       "                            </div></th><th><div class=\"djtooltip\">\n",
       "                                <p id=\"primary\">decimation_ratio</p>\n",
       "                                <span class=\"djtooltiptext\">ratio of remaining mesh vertices/faces (which ones depends on what metric the decimation technique uses)</span>\n",
       "                            </div></th><th><div class=\"djtooltip\">\n",
       "                                <p id=\"nonprimary\">n_vertices</p>\n",
       "                                <span class=\"djtooltiptext\"></span>\n",
       "                            </div></th><th><div class=\"djtooltip\">\n",
       "                                <p id=\"nonprimary\">n_faces</p>\n",
       "                                <span class=\"djtooltiptext\"></span>\n",
       "                            </div></th><th><div class=\"djtooltip\">\n",
       "                                <p id=\"nonprimary\">mesh</p>\n",
       "                                <span class=\"djtooltiptext\">in-place path to the hdf5 (decimated) mesh file</span>\n",
       "                            </div> </th> </tr> </thead>\n",
       "                <tbody> <tr> <td>864691135428492848</td>\n",
       "<td>0</td>\n",
       "<td>0.25</td>\n",
       "<td>1635395</td>\n",
       "<td>3281365</td>\n",
       "<td>=BLOB=</td></tr><tr><td>864691135589917707</td>\n",
       "<td>0</td>\n",
       "<td>0.25</td>\n",
       "<td>962928</td>\n",
       "<td>1952410</td>\n",
       "<td>=BLOB=</td></tr><tr><td>864691135686909664</td>\n",
       "<td>0</td>\n",
       "<td>0.25</td>\n",
       "<td>1362096</td>\n",
       "<td>2748359</td>\n",
       "<td>=BLOB=</td></tr><tr><td>864691135865528197</td>\n",
       "<td>0</td>\n",
       "<td>0.25</td>\n",
       "<td>1635208</td>\n",
       "<td>3296016</td>\n",
       "<td>=BLOB=</td></tr><tr><td>864691135939303681</td>\n",
       "<td>0</td>\n",
       "<td>0.25</td>\n",
       "<td>2423690</td>\n",
       "<td>4905861</td>\n",
       "<td>=BLOB=</td> </tr> </tbody>\n",
       "            </table>\n",
       "            \n",
       "            <p>Total: 5</p></div>\n",
       "            "
      ],
      "text/plain": [
       "*segment_id    *version    *decimation_ra n_vertices     n_faces     mesh      \n",
       "+------------+ +---------+ +------------+ +------------+ +---------+ +--------+\n",
       "86469113542849 0           0.25           1635395        3281365     =BLOB=    \n",
       "86469113558991 0           0.25           962928         1952410     =BLOB=    \n",
       "86469113568690 0           0.25           1362096        2748359     =BLOB=    \n",
       "86469113586552 0           0.25           1635208        3296016     =BLOB=    \n",
       "86469113593930 0           0.25           2423690        4905861     =BLOB=    \n",
       " (Total: 5)"
      ]
     },
     "execution_count": 9,
     "metadata": {},
     "output_type": "execute_result"
    }
   ],
   "source": [
    "minnie.Decimation() & soma_dict_list"
   ]
  },
  {
   "cell_type": "code",
   "execution_count": 14,
   "metadata": {},
   "outputs": [
    {
     "data": {
      "text/html": [
       "\n",
       "        \n",
       "        <style type=\"text/css\">\n",
       "            .Relation{\n",
       "                border-collapse:collapse;\n",
       "            }\n",
       "            .Relation th{\n",
       "                background: #A0A0A0; color: #ffffff; padding:4px; border:#f0e0e0 1px solid;\n",
       "                font-weight: normal; font-family: monospace; font-size: 100%;\n",
       "            }\n",
       "            .Relation td{\n",
       "                padding:4px; border:#f0e0e0 1px solid; font-size:100%;\n",
       "            }\n",
       "            .Relation tr:nth-child(odd){\n",
       "                background: #ffffff;\n",
       "            }\n",
       "            .Relation tr:nth-child(even){\n",
       "                background: #f3f1ff;\n",
       "            }\n",
       "            /* Tooltip container */\n",
       "            .djtooltip {\n",
       "            }\n",
       "            /* Tooltip text */\n",
       "            .djtooltip .djtooltiptext {\n",
       "                visibility: hidden;\n",
       "                width: 120px;\n",
       "                background-color: black;\n",
       "                color: #fff;\n",
       "                text-align: center;\n",
       "                padding: 5px 0;\n",
       "                border-radius: 6px;\n",
       "                /* Position the tooltip text - see examples below! */\n",
       "                position: absolute;\n",
       "                z-index: 1;\n",
       "            }\n",
       "            #primary {\n",
       "                font-weight: bold;\n",
       "                color: black;\n",
       "            }\n",
       "\n",
       "            #nonprimary {\n",
       "                font-weight: normal;\n",
       "                color: white;\n",
       "            }\n",
       "\n",
       "            /* Show the tooltip text when you mouse over the tooltip container */\n",
       "            .djtooltip:hover .djtooltiptext {\n",
       "                visibility: visible;\n",
       "            }\n",
       "        </style>\n",
       "        \n",
       "        <b></b>\n",
       "            <div style=\"max-height:1000px;max-width:1500px;overflow:auto;\">\n",
       "            <table border=\"1\" class=\"Relation\">\n",
       "                <thead> <tr style=\"text-align: right;\"> <th> <div class=\"djtooltip\">\n",
       "                                <p id=\"primary\">segment_id</p>\n",
       "                                <span class=\"djtooltiptext\">segment id unique within each Segmentation</span>\n",
       "                            </div></th><th><div class=\"djtooltip\">\n",
       "                                <p id=\"primary\">decimation_version</p>\n",
       "                                <span class=\"djtooltiptext\"></span>\n",
       "                            </div></th><th><div class=\"djtooltip\">\n",
       "                                <p id=\"primary\">decimation_ratio</p>\n",
       "                                <span class=\"djtooltiptext\">ratio of remaining mesh vertices/faces (which ones depends on what metric the decimation technique uses)</span>\n",
       "                            </div></th><th><div class=\"djtooltip\">\n",
       "                                <p id=\"primary\">soma_index</p>\n",
       "                                <span class=\"djtooltiptext\">index given to this soma to account for multiple somas in one base semgnet</span>\n",
       "                            </div></th><th><div class=\"djtooltip\">\n",
       "                                <p id=\"nonprimary\">centroid_x</p>\n",
       "                                <span class=\"djtooltiptext\">(EM voxels)</span>\n",
       "                            </div></th><th><div class=\"djtooltip\">\n",
       "                                <p id=\"nonprimary\">centroid_y</p>\n",
       "                                <span class=\"djtooltiptext\">(EM voxels)</span>\n",
       "                            </div></th><th><div class=\"djtooltip\">\n",
       "                                <p id=\"nonprimary\">centroid_z</p>\n",
       "                                <span class=\"djtooltiptext\">(EM voxels)</span>\n",
       "                            </div></th><th><div class=\"djtooltip\">\n",
       "                                <p id=\"nonprimary\">n_vertices</p>\n",
       "                                <span class=\"djtooltiptext\">number of vertices</span>\n",
       "                            </div></th><th><div class=\"djtooltip\">\n",
       "                                <p id=\"nonprimary\">n_faces</p>\n",
       "                                <span class=\"djtooltiptext\">number of faces</span>\n",
       "                            </div></th><th><div class=\"djtooltip\">\n",
       "                                <p id=\"nonprimary\">mesh</p>\n",
       "                                <span class=\"djtooltiptext\">datajoint adapter to get the somas mesh objects</span>\n",
       "                            </div></th><th><div class=\"djtooltip\">\n",
       "                                <p id=\"nonprimary\">multiplicity</p>\n",
       "                                <span class=\"djtooltiptext\">the number of somas found for this base segment</span>\n",
       "                            </div></th><th><div class=\"djtooltip\">\n",
       "                                <p id=\"nonprimary\">sdf</p>\n",
       "                                <span class=\"djtooltiptext\">sdf width value for the soma</span>\n",
       "                            </div></th><th><div class=\"djtooltip\">\n",
       "                                <p id=\"nonprimary\">max_side_ratio</p>\n",
       "                                <span class=\"djtooltiptext\">the maximum of the side length ratios used for check if soma</span>\n",
       "                            </div></th><th><div class=\"djtooltip\">\n",
       "                                <p id=\"nonprimary\">bbox_volume_ratio</p>\n",
       "                                <span class=\"djtooltiptext\">ratio of bbox (axis aligned) volume to mesh volume to use for check if soma</span>\n",
       "                            </div></th><th><div class=\"djtooltip\">\n",
       "                                <p id=\"nonprimary\">max_hole_length</p>\n",
       "                                <span class=\"djtooltiptext\">euclidean distance of the maximum hole size</span>\n",
       "                            </div></th><th><div class=\"djtooltip\">\n",
       "                                <p id=\"nonprimary\">run_time</p>\n",
       "                                <span class=\"djtooltiptext\">the amount of time to run (seconds)</span>\n",
       "                            </div> </th> </tr> </thead>\n",
       "                <tbody> <tr> <td>864691135428492848</td>\n",
       "<td>0</td>\n",
       "<td>0.25</td>\n",
       "<td>1</td>\n",
       "<td>255426</td>\n",
       "<td>194266</td>\n",
       "<td>19638</td>\n",
       "<td>18116</td>\n",
       "<td>35921</td>\n",
       "<td>=BLOB=</td>\n",
       "<td>2</td>\n",
       "<td>0.822</td>\n",
       "<td>1.19</td>\n",
       "<td>3.32</td>\n",
       "<td>109791.623</td>\n",
       "<td>734.5568</td></tr><tr><td>864691135428492848</td>\n",
       "<td>0</td>\n",
       "<td>0.25</td>\n",
       "<td>2</td>\n",
       "<td>199326</td>\n",
       "<td>103836</td>\n",
       "<td>16113</td>\n",
       "<td>18022</td>\n",
       "<td>35801</td>\n",
       "<td>=BLOB=</td>\n",
       "<td>2</td>\n",
       "<td>0.808</td>\n",
       "<td>1.16</td>\n",
       "<td>3.318</td>\n",
       "<td>68554.25</td>\n",
       "<td>734.5568</td></tr><tr><td>864691135589917707</td>\n",
       "<td>0</td>\n",
       "<td>0.25</td>\n",
       "<td>1</td>\n",
       "<td>155993</td>\n",
       "<td>109339</td>\n",
       "<td>26421</td>\n",
       "<td>15923</td>\n",
       "<td>31557</td>\n",
       "<td>=BLOB=</td>\n",
       "<td>3</td>\n",
       "<td>0.813</td>\n",
       "<td>1.369</td>\n",
       "<td>3.765</td>\n",
       "<td>67251.721</td>\n",
       "<td>259.3647</td></tr><tr><td>864691135589917707</td>\n",
       "<td>0</td>\n",
       "<td>0.25</td>\n",
       "<td>2</td>\n",
       "<td>154216</td>\n",
       "<td>108321</td>\n",
       "<td>27768</td>\n",
       "<td>10946</td>\n",
       "<td>20336</td>\n",
       "<td>=BLOB=</td>\n",
       "<td>3</td>\n",
       "<td>0.585</td>\n",
       "<td>1.276</td>\n",
       "<td>3.453</td>\n",
       "<td>5784901.359</td>\n",
       "<td>259.3647</td></tr><tr><td>864691135589917707</td>\n",
       "<td>0</td>\n",
       "<td>0.25</td>\n",
       "<td>3</td>\n",
       "<td>159446</td>\n",
       "<td>181017</td>\n",
       "<td>27041</td>\n",
       "<td>13359</td>\n",
       "<td>26606</td>\n",
       "<td>=BLOB=</td>\n",
       "<td>3</td>\n",
       "<td>0.845</td>\n",
       "<td>1.151</td>\n",
       "<td>3.98</td>\n",
       "<td>143550.291</td>\n",
       "<td>259.3647</td></tr><tr><td>864691135686909664</td>\n",
       "<td>0</td>\n",
       "<td>0.25</td>\n",
       "<td>1</td>\n",
       "<td>180434</td>\n",
       "<td>146669</td>\n",
       "<td>19631</td>\n",
       "<td>16019</td>\n",
       "<td>31817</td>\n",
       "<td>=BLOB=</td>\n",
       "<td>3</td>\n",
       "<td>0.834</td>\n",
       "<td>1.276</td>\n",
       "<td>3.557</td>\n",
       "<td>59630.15</td>\n",
       "<td>1016.6043</td></tr><tr><td>864691135686909664</td>\n",
       "<td>0</td>\n",
       "<td>0.25</td>\n",
       "<td>2</td>\n",
       "<td>187925</td>\n",
       "<td>163820</td>\n",
       "<td>22640</td>\n",
       "<td>16898</td>\n",
       "<td>33540</td>\n",
       "<td>=BLOB=</td>\n",
       "<td>3</td>\n",
       "<td>0.885</td>\n",
       "<td>1.531</td>\n",
       "<td>2.911</td>\n",
       "<td>113517.209</td>\n",
       "<td>1016.6043</td></tr><tr><td>864691135686909664</td>\n",
       "<td>0</td>\n",
       "<td>0.25</td>\n",
       "<td>3</td>\n",
       "<td>198220</td>\n",
       "<td>121064</td>\n",
       "<td>19204</td>\n",
       "<td>12706</td>\n",
       "<td>25214</td>\n",
       "<td>=BLOB=</td>\n",
       "<td>3</td>\n",
       "<td>0.87</td>\n",
       "<td>1.225</td>\n",
       "<td>3.695</td>\n",
       "<td>93118.672</td>\n",
       "<td>1016.6043</td></tr><tr><td>864691135939303681</td>\n",
       "<td>0</td>\n",
       "<td>0.25</td>\n",
       "<td>1</td>\n",
       "<td>158787</td>\n",
       "<td>220778</td>\n",
       "<td>26380</td>\n",
       "<td>1308</td>\n",
       "<td>2126</td>\n",
       "<td>=BLOB=</td>\n",
       "<td>2</td>\n",
       "<td>0.333</td>\n",
       "<td>1.134</td>\n",
       "<td>-0.013</td>\n",
       "<td>1151284.061</td>\n",
       "<td>1337.1217</td></tr><tr><td>864691135939303681</td>\n",
       "<td>0</td>\n",
       "<td>0.25</td>\n",
       "<td>2</td>\n",
       "<td>146557</td>\n",
       "<td>150673</td>\n",
       "<td>24133</td>\n",
       "<td>18952</td>\n",
       "<td>37585</td>\n",
       "<td>=BLOB=</td>\n",
       "<td>2</td>\n",
       "<td>0.902</td>\n",
       "<td>1.077</td>\n",
       "<td>4.015</td>\n",
       "<td>148006.085</td>\n",
       "<td>1337.1217</td> </tr> </tbody>\n",
       "            </table>\n",
       "            \n",
       "            <p>Total: 10</p></div>\n",
       "            "
      ],
      "text/plain": [
       "*segment_id    *decimation_ve *decimation_ra *soma_index    centroid_x     centroid_y     centroid_z     n_vertices     n_faces     mesh       multiplicity   sdf       max_side_ratio bbox_volume_ra max_hole_lengt run_time     \n",
       "+------------+ +------------+ +------------+ +------------+ +------------+ +------------+ +------------+ +------------+ +---------+ +--------+ +------------+ +-------+ +------------+ +------------+ +------------+ +-----------+\n",
       "86469113542849 0              0.25           1              255426         194266         19638          18116          35921       =BLOB=     2              0.822     1.19           3.32           109791.623     734.5568     \n",
       "86469113542849 0              0.25           2              199326         103836         16113          18022          35801       =BLOB=     2              0.808     1.16           3.318          68554.25       734.5568     \n",
       "86469113558991 0              0.25           1              155993         109339         26421          15923          31557       =BLOB=     3              0.813     1.369          3.765          67251.721      259.3647     \n",
       "86469113558991 0              0.25           2              154216         108321         27768          10946          20336       =BLOB=     3              0.585     1.276          3.453          5784901.359    259.3647     \n",
       "86469113558991 0              0.25           3              159446         181017         27041          13359          26606       =BLOB=     3              0.845     1.151          3.98           143550.291     259.3647     \n",
       "86469113568690 0              0.25           1              180434         146669         19631          16019          31817       =BLOB=     3              0.834     1.276          3.557          59630.15       1016.6043    \n",
       "86469113568690 0              0.25           2              187925         163820         22640          16898          33540       =BLOB=     3              0.885     1.531          2.911          113517.209     1016.6043    \n",
       "86469113568690 0              0.25           3              198220         121064         19204          12706          25214       =BLOB=     3              0.87      1.225          3.695          93118.672      1016.6043    \n",
       "86469113593930 0              0.25           1              158787         220778         26380          1308           2126        =BLOB=     2              0.333     1.134          -0.013         1151284.061    1337.1217    \n",
       "86469113593930 0              0.25           2              146557         150673         24133          18952          37585       =BLOB=     2              0.902     1.077          4.015          148006.085     1337.1217    \n",
       " (Total: 10)"
      ]
     },
     "execution_count": 14,
     "metadata": {},
     "output_type": "execute_result"
    }
   ],
   "source": [
    "import datajoint as dj\n",
    "minnie.BaylorSegmentCentroid & soma_dict_list"
   ]
  },
  {
   "cell_type": "code",
   "execution_count": null,
   "metadata": {},
   "outputs": [],
   "source": [
    "dj.U(\"segment_id\") & minnie.BaylorSegmentCentroid & soma_dict_list"
   ]
  },
  {
   "cell_type": "markdown",
   "metadata": {},
   "source": [
    "# Visualize all the Neurons that were picked up"
   ]
  },
  {
   "cell_type": "code",
   "execution_count": 15,
   "metadata": {},
   "outputs": [],
   "source": [
    "import datajoint_utils as du"
   ]
  },
  {
   "cell_type": "code",
   "execution_count": 16,
   "metadata": {},
   "outputs": [
    {
     "name": "stdout",
     "output_type": "stream",
     "text": [
      "Segment_id = 864691135428492848\n",
      "vertices = 1635395, faces= = 3281365\n"
     ]
    },
    {
     "name": "stderr",
     "output_type": "stream",
     "text": [
      "/usr/local/lib/python3.6/dist-packages/traittypes/traittypes.py:101: UserWarning: Given trait value dtype \"float64\" does not match required type \"float64\". A coerced copy has been created.\n",
      "  np.dtype(self.dtype).name))\n"
     ]
    },
    {
     "data": {
      "application/vnd.jupyter.widget-view+json": {
       "model_id": "1be7c9e42f5844939cef20dbaaec3fac",
       "version_major": 2,
       "version_minor": 0
      },
      "text/plain": [
       "VBox(children=(Figure(camera=PerspectiveCamera(fov=46.0, position=(0.0, 0.0, 2.0), quaternion=(0.0, 0.0, 0.0, …"
      ]
     },
     "metadata": {},
     "output_type": "display_data"
    }
   ],
   "source": [
    "du.plot_decimated_mesh_with_somas(864691135428492848)"
   ]
  },
  {
   "cell_type": "code",
   "execution_count": 17,
   "metadata": {},
   "outputs": [
    {
     "name": "stdout",
     "output_type": "stream",
     "text": [
      "Segment_id = 864691135589917707\n",
      "vertices = 962928, faces= = 1952410\n"
     ]
    },
    {
     "name": "stderr",
     "output_type": "stream",
     "text": [
      "/usr/local/lib/python3.6/dist-packages/traittypes/traittypes.py:101: UserWarning: Given trait value dtype \"float64\" does not match required type \"float64\". A coerced copy has been created.\n",
      "  np.dtype(self.dtype).name))\n"
     ]
    },
    {
     "data": {
      "application/vnd.jupyter.widget-view+json": {
       "model_id": "f03f663dac454edfb96ef6681f3331d3",
       "version_major": 2,
       "version_minor": 0
      },
      "text/plain": [
       "VBox(children=(Figure(camera=PerspectiveCamera(fov=46.0, position=(0.0, 0.0, 2.0), quaternion=(0.0, 0.0, 0.0, …"
      ]
     },
     "metadata": {},
     "output_type": "display_data"
    }
   ],
   "source": [
    "du.plot_decimated_mesh_with_somas(864691135589917707)"
   ]
  },
  {
   "cell_type": "code",
   "execution_count": 18,
   "metadata": {},
   "outputs": [
    {
     "name": "stdout",
     "output_type": "stream",
     "text": [
      "Segment_id = 864691135686909664\n",
      "vertices = 1362096, faces= = 2748359\n"
     ]
    },
    {
     "name": "stderr",
     "output_type": "stream",
     "text": [
      "/usr/local/lib/python3.6/dist-packages/traittypes/traittypes.py:101: UserWarning: Given trait value dtype \"float64\" does not match required type \"float64\". A coerced copy has been created.\n",
      "  np.dtype(self.dtype).name))\n"
     ]
    },
    {
     "data": {
      "application/vnd.jupyter.widget-view+json": {
       "model_id": "d18c8556a76c4a8298ff46b0aa5b8b71",
       "version_major": 2,
       "version_minor": 0
      },
      "text/plain": [
       "VBox(children=(Figure(camera=PerspectiveCamera(fov=46.0, position=(0.0, 0.0, 2.0), quaternion=(0.0, 0.0, 0.0, …"
      ]
     },
     "metadata": {},
     "output_type": "display_data"
    }
   ],
   "source": [
    "du.plot_decimated_mesh_with_somas(864691135686909664)"
   ]
  },
  {
   "cell_type": "code",
   "execution_count": 19,
   "metadata": {},
   "outputs": [
    {
     "name": "stdout",
     "output_type": "stream",
     "text": [
      "Segment_id = 864691135939303681\n",
      "vertices = 2423690, faces= = 4905861\n"
     ]
    },
    {
     "name": "stderr",
     "output_type": "stream",
     "text": [
      "/usr/local/lib/python3.6/dist-packages/traittypes/traittypes.py:101: UserWarning: Given trait value dtype \"float64\" does not match required type \"float64\". A coerced copy has been created.\n",
      "  np.dtype(self.dtype).name))\n"
     ]
    },
    {
     "data": {
      "application/vnd.jupyter.widget-view+json": {
       "model_id": "7811550572bf498cb005324be757905b",
       "version_major": 2,
       "version_minor": 0
      },
      "text/plain": [
       "VBox(children=(Figure(camera=PerspectiveCamera(fov=46.0, position=(0.0, 0.0, 2.0), quaternion=(0.0, 0.0, 0.0, …"
      ]
     },
     "metadata": {},
     "output_type": "display_data"
    }
   ],
   "source": [
    "du.plot_decimated_mesh_with_somas(864691135939303681)"
   ]
  },
  {
   "cell_type": "code",
   "execution_count": null,
   "metadata": {},
   "outputs": [],
   "source": [
    "# "
   ]
  }
 ],
 "metadata": {
  "kernelspec": {
   "display_name": "Python 3",
   "language": "python",
   "name": "python3"
  },
  "language_info": {
   "codemirror_mode": {
    "name": "ipython",
    "version": 3
   },
   "file_extension": ".py",
   "mimetype": "text/x-python",
   "name": "python",
   "nbconvert_exporter": "python",
   "pygments_lexer": "ipython3",
   "version": "3.6.9"
  }
 },
 "nbformat": 4,
 "nbformat_minor": 4
}
