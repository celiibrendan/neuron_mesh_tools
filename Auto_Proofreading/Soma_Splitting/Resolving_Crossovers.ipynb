{
 "cells": [
  {
   "cell_type": "code",
   "execution_count": null,
   "metadata": {},
   "outputs": [],
   "source": [
    "\"\"\"\n",
    "Purpose: To be able to determine where a limb object should \n",
    "be cut if it has a crossover\n",
    "(especially in application to double soma splitting)\n",
    "\n",
    "\n",
    "\n",
    "\"\"\""
   ]
  },
  {
   "cell_type": "code",
   "execution_count": 2,
   "metadata": {},
   "outputs": [],
   "source": [
    "%load_ext autoreload\n",
    "%autoreload 2"
   ]
  },
  {
   "cell_type": "code",
   "execution_count": 3,
   "metadata": {},
   "outputs": [],
   "source": [
    "from os import sys\n",
    "sys.path.append(\"/meshAfterParty/\")"
   ]
  },
  {
   "cell_type": "code",
   "execution_count": 39,
   "metadata": {},
   "outputs": [],
   "source": [
    "from importlib import reload\n",
    "\n",
    "import neuron_utils as nru\n",
    "\n",
    "import neuron\n",
    "\n",
    "import neuron_visualizations as nviz\n",
    "\n",
    "import time\n",
    "\n",
    "import datajoint_utils as du\n",
    "\n",
    "import numpy as np"
   ]
  },
  {
   "cell_type": "code",
   "execution_count": 5,
   "metadata": {},
   "outputs": [
    {
     "name": "stderr",
     "output_type": "stream",
     "text": [
      "INFO - 2020-12-23 03:00:10,724 - settings - Setting enable_python_native_blobs to True\n",
      "INFO - 2020-12-23 03:00:10,955 - settings - Setting enable_python_native_blobs to True\n"
     ]
    }
   ],
   "source": [
    "minnie,schema = du.configure_minnie_vm()"
   ]
  },
  {
   "cell_type": "markdown",
   "metadata": {},
   "source": [
    "# Picking a Neuron to Analyze"
   ]
  },
  {
   "cell_type": "code",
   "execution_count": 7,
   "metadata": {},
   "outputs": [
    {
     "data": {
      "text/html": [
       "\n",
       "        \n",
       "        <style type=\"text/css\">\n",
       "            .Relation{\n",
       "                border-collapse:collapse;\n",
       "            }\n",
       "            .Relation th{\n",
       "                background: #A0A0A0; color: #ffffff; padding:4px; border:#f0e0e0 1px solid;\n",
       "                font-weight: normal; font-family: monospace; font-size: 100%;\n",
       "            }\n",
       "            .Relation td{\n",
       "                padding:4px; border:#f0e0e0 1px solid; font-size:100%;\n",
       "            }\n",
       "            .Relation tr:nth-child(odd){\n",
       "                background: #ffffff;\n",
       "            }\n",
       "            .Relation tr:nth-child(even){\n",
       "                background: #f3f1ff;\n",
       "            }\n",
       "            /* Tooltip container */\n",
       "            .djtooltip {\n",
       "            }\n",
       "            /* Tooltip text */\n",
       "            .djtooltip .djtooltiptext {\n",
       "                visibility: hidden;\n",
       "                width: 120px;\n",
       "                background-color: black;\n",
       "                color: #fff;\n",
       "                text-align: center;\n",
       "                padding: 5px 0;\n",
       "                border-radius: 6px;\n",
       "                /* Position the tooltip text - see examples below! */\n",
       "                position: absolute;\n",
       "                z-index: 1;\n",
       "            }\n",
       "            #primary {\n",
       "                font-weight: bold;\n",
       "                color: black;\n",
       "            }\n",
       "\n",
       "            #nonprimary {\n",
       "                font-weight: normal;\n",
       "                color: white;\n",
       "            }\n",
       "\n",
       "            /* Show the tooltip text when you mouse over the tooltip container */\n",
       "            .djtooltip:hover .djtooltiptext {\n",
       "                visibility: visible;\n",
       "            }\n",
       "        </style>\n",
       "        \n",
       "        <b></b>\n",
       "            <div style=\"max-height:1000px;max-width:1500px;overflow:auto;\">\n",
       "            <table border=\"1\" class=\"Relation\">\n",
       "                <thead> <tr style=\"text-align: right;\"> <th> <div class=\"djtooltip\">\n",
       "                                <p id=\"primary\">segment_id</p>\n",
       "                                <span class=\"djtooltiptext\">segment id unique within each Segmentation</span>\n",
       "                            </div></th><th><div class=\"djtooltip\">\n",
       "                                <p id=\"primary\">decimation_version</p>\n",
       "                                <span class=\"djtooltiptext\"></span>\n",
       "                            </div></th><th><div class=\"djtooltip\">\n",
       "                                <p id=\"primary\">decimation_ratio</p>\n",
       "                                <span class=\"djtooltiptext\">ratio of remaining mesh vertices/faces (which ones depends on what metric the decimation technique uses)</span>\n",
       "                            </div></th><th><div class=\"djtooltip\">\n",
       "                                <p id=\"nonprimary\">decomposition</p>\n",
       "                                <span class=\"djtooltiptext\"></span>\n",
       "                            </div></th><th><div class=\"djtooltip\">\n",
       "                                <p id=\"nonprimary\">n_vertices</p>\n",
       "                                <span class=\"djtooltiptext\">number of vertices</span>\n",
       "                            </div></th><th><div class=\"djtooltip\">\n",
       "                                <p id=\"nonprimary\">n_faces</p>\n",
       "                                <span class=\"djtooltiptext\">number of faces</span>\n",
       "                            </div></th><th><div class=\"djtooltip\">\n",
       "                                <p id=\"nonprimary\">n_error_limbs</p>\n",
       "                                <span class=\"djtooltiptext\">the number of limbs that are touching multiple somas or 1 soma in multiple places</span>\n",
       "                            </div></th><th><div class=\"djtooltip\">\n",
       "                                <p id=\"nonprimary\">n_same_soma_multi_touching_limbs</p>\n",
       "                                <span class=\"djtooltiptext\">number of limbs that touch the same soma multiple times</span>\n",
       "                            </div></th><th><div class=\"djtooltip\">\n",
       "                                <p id=\"nonprimary\">n_multi_soma_touching_limbs</p>\n",
       "                                <span class=\"djtooltiptext\">number of limbs that touch multiple somas</span>\n",
       "                            </div></th><th><div class=\"djtooltip\">\n",
       "                                <p id=\"nonprimary\">n_somas</p>\n",
       "                                <span class=\"djtooltiptext\">number of soma meshes detected</span>\n",
       "                            </div></th><th><div class=\"djtooltip\">\n",
       "                                <p id=\"nonprimary\">n_limbs</p>\n",
       "                                <span class=\"djtooltiptext\"></span>\n",
       "                            </div></th><th><div class=\"djtooltip\">\n",
       "                                <p id=\"nonprimary\">n_branches</p>\n",
       "                                <span class=\"djtooltiptext\"></span>\n",
       "                            </div></th><th><div class=\"djtooltip\">\n",
       "                                <p id=\"nonprimary\">max_limb_n_branches</p>\n",
       "                                <span class=\"djtooltiptext\"></span>\n",
       "                            </div></th><th><div class=\"djtooltip\">\n",
       "                                <p id=\"nonprimary\">skeletal_length</p>\n",
       "                                <span class=\"djtooltiptext\"></span>\n",
       "                            </div></th><th><div class=\"djtooltip\">\n",
       "                                <p id=\"nonprimary\">max_limb_skeletal_length</p>\n",
       "                                <span class=\"djtooltiptext\"></span>\n",
       "                            </div></th><th><div class=\"djtooltip\">\n",
       "                                <p id=\"nonprimary\">median_branch_length</p>\n",
       "                                <span class=\"djtooltiptext\">gives information on average skeletal length to next branch point</span>\n",
       "                            </div></th><th><div class=\"djtooltip\">\n",
       "                                <p id=\"nonprimary\">width_median</p>\n",
       "                                <span class=\"djtooltiptext\">median width from mesh center without spines removed</span>\n",
       "                            </div></th><th><div class=\"djtooltip\">\n",
       "                                <p id=\"nonprimary\">width_no_spine_median</p>\n",
       "                                <span class=\"djtooltiptext\">median width from mesh center with spines removed</span>\n",
       "                            </div></th><th><div class=\"djtooltip\">\n",
       "                                <p id=\"nonprimary\">width_90_perc</p>\n",
       "                                <span class=\"djtooltiptext\">90th percentile for width without spines removed</span>\n",
       "                            </div></th><th><div class=\"djtooltip\">\n",
       "                                <p id=\"nonprimary\">width_no_spine_90_perc</p>\n",
       "                                <span class=\"djtooltiptext\">90th percentile for width with spines removed</span>\n",
       "                            </div></th><th><div class=\"djtooltip\">\n",
       "                                <p id=\"nonprimary\">n_spines</p>\n",
       "                                <span class=\"djtooltiptext\"></span>\n",
       "                            </div></th><th><div class=\"djtooltip\">\n",
       "                                <p id=\"nonprimary\">spine_density</p>\n",
       "                                <span class=\"djtooltiptext\">n_spines/ skeletal_length</span>\n",
       "                            </div></th><th><div class=\"djtooltip\">\n",
       "                                <p id=\"nonprimary\">spines_per_branch</p>\n",
       "                                <span class=\"djtooltiptext\"></span>\n",
       "                            </div></th><th><div class=\"djtooltip\">\n",
       "                                <p id=\"nonprimary\">skeletal_length_eligible</p>\n",
       "                                <span class=\"djtooltiptext\">the skeletal length for all branches searched for spines</span>\n",
       "                            </div></th><th><div class=\"djtooltip\">\n",
       "                                <p id=\"nonprimary\">n_spine_eligible_branches</p>\n",
       "                                <span class=\"djtooltiptext\">the number of branches that were checked for spines because passed width threshold</span>\n",
       "                            </div></th><th><div class=\"djtooltip\">\n",
       "                                <p id=\"nonprimary\">spine_density_eligible</p>\n",
       "                                <span class=\"djtooltiptext\">n_spines/skeletal_length_eligible</span>\n",
       "                            </div></th><th><div class=\"djtooltip\">\n",
       "                                <p id=\"nonprimary\">spines_per_branch_eligible</p>\n",
       "                                <span class=\"djtooltiptext\">n_spines/n_spine_eligible_branches</span>\n",
       "                            </div></th><th><div class=\"djtooltip\">\n",
       "                                <p id=\"nonprimary\">total_spine_volume</p>\n",
       "                                <span class=\"djtooltiptext\">the sum of all spine volume</span>\n",
       "                            </div></th><th><div class=\"djtooltip\">\n",
       "                                <p id=\"nonprimary\">spine_volume_median</p>\n",
       "                                <span class=\"djtooltiptext\">median of the spine volume for those spines with able to calculate volume</span>\n",
       "                            </div></th><th><div class=\"djtooltip\">\n",
       "                                <p id=\"nonprimary\">spine_volume_density</p>\n",
       "                                <span class=\"djtooltiptext\">total_spine_volume/skeletal_length</span>\n",
       "                            </div></th><th><div class=\"djtooltip\">\n",
       "                                <p id=\"nonprimary\">spine_volume_density_eligible</p>\n",
       "                                <span class=\"djtooltiptext\">total_spine_volume/skeletal_length_eligible</span>\n",
       "                            </div></th><th><div class=\"djtooltip\">\n",
       "                                <p id=\"nonprimary\">spine_volume_per_branch_eligible</p>\n",
       "                                <span class=\"djtooltiptext\">total_spine_volume/n_spine_eligible_branches</span>\n",
       "                            </div></th><th><div class=\"djtooltip\">\n",
       "                                <p id=\"nonprimary\">run_time</p>\n",
       "                                <span class=\"djtooltiptext\">the amount of time to run (seconds)</span>\n",
       "                            </div> </th> </tr> </thead>\n",
       "                <tbody> <tr> <td>864691134988402042</td>\n",
       "<td>0</td>\n",
       "<td>0.25</td>\n",
       "<td>=BLOB=</td>\n",
       "<td>939750</td>\n",
       "<td>1891203</td>\n",
       "<td>1</td>\n",
       "<td>0</td>\n",
       "<td>1</td>\n",
       "<td>2</td>\n",
       "<td>11</td>\n",
       "<td>260</td>\n",
       "<td>129</td>\n",
       "<td>9926423.076049272</td>\n",
       "<td>3837120.3077007174</td>\n",
       "<td>19498.793</td>\n",
       "<td>99.274</td>\n",
       "<td>99.274</td>\n",
       "<td>489.663</td>\n",
       "<td>475.385</td>\n",
       "<td>3464</td>\n",
       "<td>0.00034896759622890023</td>\n",
       "<td>13.323076923076924</td>\n",
       "<td>6602403.65</td>\n",
       "<td>127</td>\n",
       "<td>nan</td>\n",
       "<td>nan</td>\n",
       "<td>158333783964.6377</td>\n",
       "<td>22787252.596668243</td>\n",
       "<td>15950.739027703696</td>\n",
       "<td>23981.233556454503</td>\n",
       "<td>1246722708.382974</td>\n",
       "<td>2086.0103</td></tr><tr><td>864691134988472442</td>\n",
       "<td>0</td>\n",
       "<td>0.25</td>\n",
       "<td>=BLOB=</td>\n",
       "<td>760380</td>\n",
       "<td>1540479</td>\n",
       "<td>2</td>\n",
       "<td>2</td>\n",
       "<td>1</td>\n",
       "<td>2</td>\n",
       "<td>13</td>\n",
       "<td>363</td>\n",
       "<td>156</td>\n",
       "<td>8953235.669383887</td>\n",
       "<td>4544614.922947489</td>\n",
       "<td>14310.191</td>\n",
       "<td>84.402</td>\n",
       "<td>84.402</td>\n",
       "<td>468.087</td>\n",
       "<td>373.666</td>\n",
       "<td>2735</td>\n",
       "<td>0.0003054761542078572</td>\n",
       "<td>7.534435261707989</td>\n",
       "<td>3995011.885</td>\n",
       "<td>125</td>\n",
       "<td>nan</td>\n",
       "<td>nan</td>\n",
       "<td>141833693783.9872</td>\n",
       "<td>29636743.193003334</td>\n",
       "<td>15841.612911966098</td>\n",
       "<td>35502.696329021615</td>\n",
       "<td>1134669550.2718978</td>\n",
       "<td>2332.3713</td></tr><tr><td>864691135012400886</td>\n",
       "<td>0</td>\n",
       "<td>0.25</td>\n",
       "<td>=BLOB=</td>\n",
       "<td>802480</td>\n",
       "<td>1644474</td>\n",
       "<td>1</td>\n",
       "<td>1</td>\n",
       "<td>1</td>\n",
       "<td>2</td>\n",
       "<td>16</td>\n",
       "<td>269</td>\n",
       "<td>96</td>\n",
       "<td>7875858.169030763</td>\n",
       "<td>2360988.8843716034</td>\n",
       "<td>18603.612</td>\n",
       "<td>255.953</td>\n",
       "<td>230.461</td>\n",
       "<td>454.247</td>\n",
       "<td>405.981</td>\n",
       "<td>3810</td>\n",
       "<td>0.00048375680697013807</td>\n",
       "<td>14.1635687732342</td>\n",
       "<td>6797185.75</td>\n",
       "<td>192</td>\n",
       "<td>nan</td>\n",
       "<td>nan</td>\n",
       "<td>237479305298.37152</td>\n",
       "<td>35811946.28458786</td>\n",
       "<td>30152.816391765566</td>\n",
       "<td>34937.88665380691</td>\n",
       "<td>1236871381.7623518</td>\n",
       "<td>10256.3515</td></tr><tr><td>864691135081658359</td>\n",
       "<td>0</td>\n",
       "<td>0.25</td>\n",
       "<td>=BLOB=</td>\n",
       "<td>1607079</td>\n",
       "<td>3235599</td>\n",
       "<td>2</td>\n",
       "<td>2</td>\n",
       "<td>1</td>\n",
       "<td>2</td>\n",
       "<td>16</td>\n",
       "<td>566</td>\n",
       "<td>222</td>\n",
       "<td>17383118.66936267</td>\n",
       "<td>6172738.160942182</td>\n",
       "<td>16478.245</td>\n",
       "<td>104.692</td>\n",
       "<td>104.692</td>\n",
       "<td>487.313</td>\n",
       "<td>428.015</td>\n",
       "<td>6643</td>\n",
       "<td>0.000382152370144497</td>\n",
       "<td>11.736749116607774</td>\n",
       "<td>10212426.203</td>\n",
       "<td>268</td>\n",
       "<td>nan</td>\n",
       "<td>nan</td>\n",
       "<td>279434899541.12573</td>\n",
       "<td>20787632.10667928</td>\n",
       "<td>16075.072882843688</td>\n",
       "<td>27362.24419022377</td>\n",
       "<td>1042667535.6012154</td>\n",
       "<td>24169.9911</td></tr><tr><td>864691135103989069</td>\n",
       "<td>0</td>\n",
       "<td>0.25</td>\n",
       "<td>=BLOB=</td>\n",
       "<td>1245458</td>\n",
       "<td>2502307</td>\n",
       "<td>1</td>\n",
       "<td>0</td>\n",
       "<td>1</td>\n",
       "<td>2</td>\n",
       "<td>16</td>\n",
       "<td>331</td>\n",
       "<td>79</td>\n",
       "<td>11756897.144402271</td>\n",
       "<td>2465284.4707440175</td>\n",
       "<td>20465.579</td>\n",
       "<td>321.001</td>\n",
       "<td>265.448</td>\n",
       "<td>491.55</td>\n",
       "<td>445.508</td>\n",
       "<td>5678</td>\n",
       "<td>0.0004829505549177511</td>\n",
       "<td>17.154078549848943</td>\n",
       "<td>8429003.434</td>\n",
       "<td>209</td>\n",
       "<td>nan</td>\n",
       "<td>nan</td>\n",
       "<td>303415329029.90393</td>\n",
       "<td>27481356.392502148</td>\n",
       "<td>25807.432463110978</td>\n",
       "<td>35996.583867319365</td>\n",
       "<td>1451747985.789014</td>\n",
       "<td>7967.3317</td></tr><tr><td>864691135207768697</td>\n",
       "<td>0</td>\n",
       "<td>0.25</td>\n",
       "<td>=BLOB=</td>\n",
       "<td>1067465</td>\n",
       "<td>2149606</td>\n",
       "<td>2</td>\n",
       "<td>1</td>\n",
       "<td>1</td>\n",
       "<td>2</td>\n",
       "<td>17</td>\n",
       "<td>260</td>\n",
       "<td>85</td>\n",
       "<td>8946738.643342396</td>\n",
       "<td>2846658.3866573754</td>\n",
       "<td>23190.431</td>\n",
       "<td>358.987</td>\n",
       "<td>309.871</td>\n",
       "<td>566.021</td>\n",
       "<td>515.849</td>\n",
       "<td>4621</td>\n",
       "<td>0.0005165010608014865</td>\n",
       "<td>17.773076923076925</td>\n",
       "<td>7806528.505</td>\n",
       "<td>214</td>\n",
       "<td>nan</td>\n",
       "<td>nan</td>\n",
       "<td>294025101920.43787</td>\n",
       "<td>27074805.833293915</td>\n",
       "<td>32863.942229857465</td>\n",
       "<td>37664.0015766442</td>\n",
       "<td>1373949074.3945694</td>\n",
       "<td>19055.2293</td></tr><tr><td>864691135210033344</td>\n",
       "<td>0</td>\n",
       "<td>0.25</td>\n",
       "<td>=BLOB=</td>\n",
       "<td>1093479</td>\n",
       "<td>2238756</td>\n",
       "<td>2</td>\n",
       "<td>1</td>\n",
       "<td>1</td>\n",
       "<td>2</td>\n",
       "<td>11</td>\n",
       "<td>367</td>\n",
       "<td>186</td>\n",
       "<td>11431382.161309652</td>\n",
       "<td>5830748.601730345</td>\n",
       "<td>16936.767</td>\n",
       "<td>188.963</td>\n",
       "<td>185.938</td>\n",
       "<td>437.996</td>\n",
       "<td>402.889</td>\n",
       "<td>4500</td>\n",
       "<td>0.0003936531852841539</td>\n",
       "<td>12.26158038147139</td>\n",
       "<td>7261235.173</td>\n",
       "<td>202</td>\n",
       "<td>nan</td>\n",
       "<td>nan</td>\n",
       "<td>276047625630.4887</td>\n",
       "<td>31026774.45333735</td>\n",
       "<td>24148.228248793228</td>\n",
       "<td>38016.621009182774</td>\n",
       "<td>1366572404.1113303</td>\n",
       "<td>18653.8569</td></tr><tr><td>864691135212674944</td>\n",
       "<td>0</td>\n",
       "<td>0.25</td>\n",
       "<td>=BLOB=</td>\n",
       "<td>821891</td>\n",
       "<td>1661605</td>\n",
       "<td>2</td>\n",
       "<td>0</td>\n",
       "<td>2</td>\n",
       "<td>2</td>\n",
       "<td>13</td>\n",
       "<td>276</td>\n",
       "<td>50</td>\n",
       "<td>8901794.878945973</td>\n",
       "<td>2257632.407570495</td>\n",
       "<td>16481.263</td>\n",
       "<td>157.454</td>\n",
       "<td>157.454</td>\n",
       "<td>432.699</td>\n",
       "<td>398.887</td>\n",
       "<td>3040</td>\n",
       "<td>0.0003415041619516574</td>\n",
       "<td>11.014492753623188</td>\n",
       "<td>6168985.084</td>\n",
       "<td>144</td>\n",
       "<td>nan</td>\n",
       "<td>nan</td>\n",
       "<td>138354947342.73975</td>\n",
       "<td>25635010.61016337</td>\n",
       "<td>15542.365244785535</td>\n",
       "<td>22427.50557163444</td>\n",
       "<td>960798245.4356927</td>\n",
       "<td>14894.2093</td></tr><tr><td>864691135269687205</td>\n",
       "<td>0</td>\n",
       "<td>0.25</td>\n",
       "<td>=BLOB=</td>\n",
       "<td>1019758</td>\n",
       "<td>2051275</td>\n",
       "<td>1</td>\n",
       "<td>1</td>\n",
       "<td>1</td>\n",
       "<td>2</td>\n",
       "<td>11</td>\n",
       "<td>250</td>\n",
       "<td>93</td>\n",
       "<td>7764840.822271044</td>\n",
       "<td>2385639.2008542637</td>\n",
       "<td>19374.993</td>\n",
       "<td>337.392</td>\n",
       "<td>283.507</td>\n",
       "<td>506.0</td>\n",
       "<td>477.952</td>\n",
       "<td>5531</td>\n",
       "<td>0.0007123133785480878</td>\n",
       "<td>22.124</td>\n",
       "<td>6967621.577</td>\n",
       "<td>186</td>\n",
       "<td>nan</td>\n",
       "<td>nan</td>\n",
       "<td>362283816849.28394</td>\n",
       "<td>37982485.86582438</td>\n",
       "<td>46656.95345745979</td>\n",
       "<td>51995.33482776629</td>\n",
       "<td>1947762456.1789458</td>\n",
       "<td>7826.955</td></tr><tr><td>864691135307114822</td>\n",
       "<td>0</td>\n",
       "<td>0.25</td>\n",
       "<td>=BLOB=</td>\n",
       "<td>1206734</td>\n",
       "<td>2471803</td>\n",
       "<td>4</td>\n",
       "<td>4</td>\n",
       "<td>1</td>\n",
       "<td>2</td>\n",
       "<td>9</td>\n",
       "<td>453</td>\n",
       "<td>135</td>\n",
       "<td>13588998.815251242</td>\n",
       "<td>3803983.1224135263</td>\n",
       "<td>17404.577</td>\n",
       "<td>107.908</td>\n",
       "<td>107.908</td>\n",
       "<td>435.905</td>\n",
       "<td>369.304</td>\n",
       "<td>4961</td>\n",
       "<td>0.0003650747245950273</td>\n",
       "<td>10.951434878587197</td>\n",
       "<td>7459549.906</td>\n",
       "<td>216</td>\n",
       "<td>nan</td>\n",
       "<td>nan</td>\n",
       "<td>202856160125.47086</td>\n",
       "<td>15989806.642501831</td>\n",
       "<td>14927.969520300552</td>\n",
       "<td>27194.155502908547</td>\n",
       "<td>939148889.4697725</td>\n",
       "<td>20512.182</td></tr><tr><td>864691135337716966</td>\n",
       "<td>0</td>\n",
       "<td>0.25</td>\n",
       "<td>=BLOB=</td>\n",
       "<td>901090</td>\n",
       "<td>1830584</td>\n",
       "<td>4</td>\n",
       "<td>2</td>\n",
       "<td>2</td>\n",
       "<td>2</td>\n",
       "<td>16</td>\n",
       "<td>308</td>\n",
       "<td>96</td>\n",
       "<td>10235337.844136413</td>\n",
       "<td>2641696.621012976</td>\n",
       "<td>17308.971</td>\n",
       "<td>111.389</td>\n",
       "<td>111.389</td>\n",
       "<td>474.263</td>\n",
       "<td>456.437</td>\n",
       "<td>3102</td>\n",
       "<td>0.00030306767077327727</td>\n",
       "<td>10.071428571428571</td>\n",
       "<td>6428965.879</td>\n",
       "<td>137</td>\n",
       "<td>nan</td>\n",
       "<td>nan</td>\n",
       "<td>155359673433.1378</td>\n",
       "<td>31125622.89033381</td>\n",
       "<td>15178.753823171526</td>\n",
       "<td>24165.577537223355</td>\n",
       "<td>1134012214.840422</td>\n",
       "<td>7307.4413</td></tr><tr><td>864691135337742310</td>\n",
       "<td>0</td>\n",
       "<td>0.25</td>\n",
       "<td>=BLOB=</td>\n",
       "<td>773319</td>\n",
       "<td>1560878</td>\n",
       "<td>1</td>\n",
       "<td>0</td>\n",
       "<td>1</td>\n",
       "<td>2</td>\n",
       "<td>13</td>\n",
       "<td>285</td>\n",
       "<td>171</td>\n",
       "<td>9312255.949936314</td>\n",
       "<td>4380253.852358427</td>\n",
       "<td>19388.84</td>\n",
       "<td>86.305</td>\n",
       "<td>86.305</td>\n",
       "<td>391.735</td>\n",
       "<td>338.173</td>\n",
       "<td>2604</td>\n",
       "<td>0.00027963148929747886</td>\n",
       "<td>9.136842105263158</td>\n",
       "<td>4889665.614</td>\n",
       "<td>104</td>\n",
       "<td>nan</td>\n",
       "<td>nan</td>\n",
       "<td>153622576047.9171</td>\n",
       "<td>32964079.829320747</td>\n",
       "<td>16496.81633256308</td>\n",
       "<td>31417.8081233342</td>\n",
       "<td>1477140154.3068953</td>\n",
       "<td>14404.3692</td> </tr> </tbody>\n",
       "            </table>\n",
       "            <p>...</p>\n",
       "            <p>Total: 46</p></div>\n",
       "            "
      ],
      "text/plain": [
       "*segment_id    *decimation_ve *decimation_ra decomposit n_vertices     n_faces     n_error_limbs  n_same_soma_mu n_multi_soma_t n_somas     n_limbs     n_branches     max_limb_n_bra skeletal_lengt max_limb_skele median_branch_ width_median   width_no_spine width_90_perc  width_no_spine n_spines     spine_density  spines_per_bra skeletal_lengt n_spine_eligib spine_density_ spines_per_bra total_spine_vo spine_volume_m spine_volume_d spine_volume_d spine_volume_p run_time      \n",
       "+------------+ +------------+ +------------+ +--------+ +------------+ +---------+ +------------+ +------------+ +------------+ +---------+ +---------+ +------------+ +------------+ +------------+ +------------+ +------------+ +------------+ +------------+ +------------+ +------------+ +----------+ +------------+ +------------+ +------------+ +------------+ +------------+ +------------+ +------------+ +------------+ +------------+ +------------+ +------------+ +------------+\n",
       "86469113498840 0              0.25           =BLOB=     939750         1891203     1              0              1              2           11          260            129            9926423.076049 3837120.307700 19498.793      99.274         99.274         489.663        475.385        3464         0.000348967596 13.32307692307 6602403.65     127            nan            nan            158333783964.6 22787252.59666 15950.73902770 23981.23355645 1246722708.382 2086.0103     \n",
       "86469113498847 0              0.25           =BLOB=     760380         1540479     2              2              1              2           13          363            156            8953235.669383 4544614.922947 14310.191      84.402         84.402         468.087        373.666        2735         0.000305476154 7.534435261707 3995011.885    125            nan            nan            141833693783.9 29636743.19300 15841.61291196 35502.69632902 1134669550.271 2332.3713     \n",
       "86469113501240 0              0.25           =BLOB=     802480         1644474     1              1              1              2           16          269            96             7875858.169030 2360988.884371 18603.612      255.953        230.461        454.247        405.981        3810         0.000483756806 14.16356877323 6797185.75     192            nan            nan            237479305298.3 35811946.28458 30152.81639176 34937.88665380 1236871381.762 10256.3515    \n",
       "86469113508165 0              0.25           =BLOB=     1607079        3235599     2              2              1              2           16          566            222            17383118.66936 6172738.160942 16478.245      104.692        104.692        487.313        428.015        6643         0.000382152370 11.73674911660 10212426.203   268            nan            nan            279434899541.1 20787632.10667 16075.07288284 27362.24419022 1042667535.601 24169.9911    \n",
       "86469113510398 0              0.25           =BLOB=     1245458        2502307     1              0              1              2           16          331            79             11756897.14440 2465284.470744 20465.579      321.001        265.448        491.55         445.508        5678         0.000482950554 17.15407854984 8429003.434    209            nan            nan            303415329029.9 27481356.39250 25807.43246311 35996.58386731 1451747985.789 7967.3317     \n",
       "86469113520776 0              0.25           =BLOB=     1067465        2149606     2              1              1              2           17          260            85             8946738.643342 2846658.386657 23190.431      358.987        309.871        566.021        515.849        4621         0.000516501060 17.77307692307 7806528.505    214            nan            nan            294025101920.4 27074805.83329 32863.94222985 37664.00157664 1373949074.394 19055.2293    \n",
       "86469113521003 0              0.25           =BLOB=     1093479        2238756     2              1              1              2           11          367            186            11431382.16130 5830748.601730 16936.767      188.963        185.938        437.996        402.889        4500         0.000393653185 12.26158038147 7261235.173    202            nan            nan            276047625630.4 31026774.45333 24148.22824879 38016.62100918 1366572404.111 18653.8569    \n",
       "86469113521267 0              0.25           =BLOB=     821891         1661605     2              0              2              2           13          276            50             8901794.878945 2257632.407570 16481.263      157.454        157.454        432.699        398.887        3040         0.000341504161 11.01449275362 6168985.084    144            nan            nan            138354947342.7 25635010.61016 15542.36524478 22427.50557163 960798245.4356 14894.2093    \n",
       "86469113526968 0              0.25           =BLOB=     1019758        2051275     1              1              1              2           11          250            93             7764840.822271 2385639.200854 19374.993      337.392        283.507        506.0          477.952        5531         0.000712313378 22.124         6967621.577    186            nan            nan            362283816849.2 37982485.86582 46656.95345745 51995.33482776 1947762456.178 7826.955      \n",
       "86469113530711 0              0.25           =BLOB=     1206734        2471803     4              4              1              2           9           453            135            13588998.81525 3803983.122413 17404.577      107.908        107.908        435.905        369.304        4961         0.000365074724 10.95143487858 7459549.906    216            nan            nan            202856160125.4 15989806.64250 14927.96952030 27194.15550290 939148889.4697 20512.182     \n",
       "86469113533771 0              0.25           =BLOB=     901090         1830584     4              2              2              2           16          308            96             10235337.84413 2641696.621012 17308.971      111.389        111.389        474.263        456.437        3102         0.000303067670 10.07142857142 6428965.879    137            nan            nan            155359673433.1 31125622.89033 15178.75382317 24165.57753722 1134012214.840 7307.4413     \n",
       "86469113533774 0              0.25           =BLOB=     773319         1560878     1              0              1              2           13          285            171            9312255.949936 4380253.852358 19388.84       86.305         86.305         391.735        338.173        2604         0.000279631489 9.136842105263 4889665.614    104            nan            nan            153622576047.9 32964079.82932 16496.81633256 31417.80812333 1477140154.306 14404.3692    \n",
       "   ...\n",
       " (Total: 46)"
      ]
     },
     "execution_count": 7,
     "metadata": {},
     "output_type": "execute_result"
    }
   ],
   "source": [
    "minnie.DecompositionMultiSoma() & \"n_somas>1\""
   ]
  },
  {
   "cell_type": "code",
   "execution_count": 8,
   "metadata": {},
   "outputs": [],
   "source": [
    "segment_id = 864691134988402042"
   ]
  },
  {
   "cell_type": "code",
   "execution_count": 9,
   "metadata": {},
   "outputs": [
    {
     "name": "stdout",
     "output_type": "stream",
     "text": [
      "Decompressing Neuron in minimal output mode...please wait\n"
     ]
    }
   ],
   "source": [
    "neuron_obj = (minnie.DecompositionMultiSoma() & dict(segment_id=segment_id)).fetch1(\"decomposition\")"
   ]
  },
  {
   "cell_type": "code",
   "execution_count": 12,
   "metadata": {},
   "outputs": [
    {
     "name": "stdout",
     "output_type": "stream",
     "text": [
      "\n",
      " Working on visualization type: mesh\n",
      "\n",
      " Working on visualization type: skeleton\n"
     ]
    },
    {
     "data": {
      "application/vnd.jupyter.widget-view+json": {
       "model_id": "8781cf448075457c9494756ecb0f1be6",
       "version_major": 2,
       "version_minor": 0
      },
      "text/plain": [
       "VBox(children=(Figure(camera=PerspectiveCamera(fov=46.0, position=(0.0, 0.0, 2.0), quaternion=(0.0, 0.0, 0.0, …"
      ]
     },
     "metadata": {},
     "output_type": "display_data"
    }
   ],
   "source": [
    "nviz.visualize_neuron(neuron_obj,\n",
    "                     visualize_type=[\"mesh\",\"skeleton\"],\n",
    "                     limb_branch_dict=\"all\")"
   ]
  },
  {
   "cell_type": "code",
   "execution_count": 13,
   "metadata": {},
   "outputs": [
    {
     "data": {
      "image/png": "[encoded data removed]",
      "text/plain": [
       "<Figure size 432x288 with 1 Axes>"
      ]
     },
     "metadata": {},
     "output_type": "display_data"
    }
   ],
   "source": [
    "nviz.plot_soma_limb_concept_network(neuron_obj)"
   ]
  },
  {
   "cell_type": "markdown",
   "metadata": {},
   "source": [
    "# Finging all the high degree cross over nodes in the error limb"
   ]
  },
  {
   "cell_type": "code",
   "execution_count": 15,
   "metadata": {},
   "outputs": [
    {
     "name": "stdout",
     "output_type": "stream",
     "text": [
      "\n",
      " Working on visualization type: mesh\n",
      "\n",
      " Working on visualization type: skeleton\n"
     ]
    },
    {
     "data": {
      "application/vnd.jupyter.widget-view+json": {
       "model_id": "ceb7da19d46f487ea8eadf3fecec6b25",
       "version_major": 2,
       "version_minor": 0
      },
      "text/plain": [
       "VBox(children=(Figure(camera=PerspectiveCamera(fov=46.0, position=(0.0, 0.0, 2.0), quaternion=(0.0, 0.0, 0.0, …"
      ]
     },
     "metadata": {},
     "output_type": "display_data"
    }
   ],
   "source": [
    "mult_soma_touch_limbs = nru.multi_soma_touching_limbs(neuron_obj)\n",
    "curr_limb_idx = int(mult_soma_touch_limbs[0])\n",
    "\n",
    "\n",
    "nviz.visualize_neuron(neuron_obj,\n",
    "                     visualize_type=[\"mesh\",\"skeleton\"],\n",
    "                     limb_branch_dict={f\"L{curr_limb_idx}\":\"all\"})"
   ]
  },
  {
   "cell_type": "code",
   "execution_count": 17,
   "metadata": {},
   "outputs": [],
   "source": [
    "import skeleton_utils as sk\n",
    "import networkx_utils as xu"
   ]
  },
  {
   "cell_type": "code",
   "execution_count": 38,
   "metadata": {},
   "outputs": [
    {
     "data": {
      "text/plain": [
       "array([[1339708.81694217,  809556.2212723 ,  761526.3403248 ],\n",
       "       [1367182.94830553,  783034.86541071,  755420.31426427],\n",
       "       [1367227.6857212 ,  773050.38797514,  747281.48712281],\n",
       "       [1367884.89268873,  771898.36315752,  746446.84437338],\n",
       "       [1395195.70949673,  919307.14383089,  789227.77809425],\n",
       "       [1460260.90346243,  735376.82351291,  639255.00530794]])"
      ]
     },
     "execution_count": 38,
     "metadata": {},
     "output_type": "execute_result"
    }
   ],
   "source": [
    "curr_limb = neuron_obj[curr_limb_idx]\n",
    "curr_limb_name = f\"L{curr_limb_idx}\"\n",
    "\n",
    "limb_sk_graph = sk.convert_skeleton_to_graph(curr_limb.skeleton)\n",
    "high_degree_nodes = xu.get_nodes_greater_or_equal_degree_k(limb_sk_graph,4)\n",
    "\n",
    "high_degree_coordinates = xu.get_node_attributes(limb_sk_graph,node_list = high_degree_nodes)\n",
    "high_degree_coordinates"
   ]
  },
  {
   "cell_type": "code",
   "execution_count": 32,
   "metadata": {},
   "outputs": [
    {
     "name": "stdout",
     "output_type": "stream",
     "text": [
      "\n",
      " Working on visualization type: mesh\n",
      "\n",
      " Working on visualization type: skeleton\n"
     ]
    },
    {
     "data": {
      "application/vnd.jupyter.widget-view+json": {
       "model_id": "5d460e57ee834f9b9aecf22fa10f6923",
       "version_major": 2,
       "version_minor": 0
      },
      "text/plain": [
       "VBox(children=(Figure(camera=PerspectiveCamera(fov=46.0, position=(0.0, 0.0, 2.0), quaternion=(0.0, 0.0, 0.0, …"
      ]
     },
     "metadata": {},
     "output_type": "display_data"
    }
   ],
   "source": [
    "# Visualizing the locations of high degree coordinates\n",
    "\n",
    "nviz.visualize_neuron(neuron_obj,\n",
    "                     visualize_type=[\"mesh\",\"skeleton\"],\n",
    "                     limb_branch_dict={f\"L{curr_limb_idx}\":\"all\"},\n",
    "                      mesh_color=\"green\",\n",
    "                      skeleton_color=\"blue\",\n",
    "                     scatters=[high_degree_coordinates],\n",
    "                      scatters_colors=\"red\",\n",
    "                     scatter_size=0.3)"
   ]
  },
  {
   "cell_type": "code",
   "execution_count": 37,
   "metadata": {},
   "outputs": [
    {
     "data": {
      "text/plain": [
       "[[64, 65, 69, 98],\n",
       " [10, 11, 57, 78],\n",
       " [11, 12, 59, 60],\n",
       " [58, 59, 77, 81],\n",
       " [35, 36, 106, 110],\n",
       " [76, 77, 99, 109]]"
      ]
     },
     "execution_count": 37,
     "metadata": {},
     "output_type": "execute_result"
    }
   ],
   "source": [
    "# finding the branches for the high degree coordinates\n",
    "sk_branches = [br.skeleton for br in curr_limb]\n",
    "\n",
    "branches_per_high_degree_coordinate = [sk.find_branch_skeleton_with_specific_coordinate(sk_branches,coord)\n",
    "                                       for coord in high_degree_coordinates]\n",
    "\n",
    "branches_per_high_degree_coordinate"
   ]
  },
  {
   "cell_type": "code",
   "execution_count": 42,
   "metadata": {},
   "outputs": [
    {
     "name": "stdout",
     "output_type": "stream",
     "text": [
      "concat_branches = [ 64  65  69  98  10  11  57  78  11  12  59  60  58  59  77  81  35  36\n",
      " 106 110  76  77  99 109]\n",
      "\n",
      " Working on visualization type: mesh\n",
      "\n",
      " Working on visualization type: skeleton\n"
     ]
    },
    {
     "data": {
      "application/vnd.jupyter.widget-view+json": {
       "model_id": "bf55a3d50b8f438699d46ab5e3dc9536",
       "version_major": 2,
       "version_minor": 0
      },
      "text/plain": [
       "VBox(children=(Figure(camera=PerspectiveCamera(fov=46.0, position=(0.0, 0.0, 2.0), quaternion=(0.0, 0.0, 0.0, …"
      ]
     },
     "metadata": {},
     "output_type": "display_data"
    }
   ],
   "source": [
    "# visualizing the crossover branches\n",
    "concat_branches = np.concatenate(branches_per_high_degree_coordinate)\n",
    "print(f\"concat_branches = {concat_branches}\")\n",
    "nviz.visualize_neuron(neuron_obj,\n",
    "                      visualize_type=[\"mesh\",\"skeleton\"],\n",
    "                     limb_branch_dict={curr_limb_name:\"all\"},\n",
    "                     mesh_color={curr_limb_name:{k:\"red\" for k in concat_branches}},\n",
    "                      mesh_fill_color=\"green\",\n",
    "                      skeleton_color={curr_limb_name:{k:\"black\" for k in concat_branches}},\n",
    "                      skeleton_fill_color=\"green\")"
   ]
  },
  {
   "cell_type": "code",
   "execution_count": 34,
   "metadata": {},
   "outputs": [],
   "source": [
    "sk.find_branch_skeleton_with_specific_coordinate?"
   ]
  },
  {
   "cell_type": "code",
   "execution_count": 33,
   "metadata": {},
   "outputs": [
    {
     "data": {
      "text/plain": [
       "['KDTree',\n",
       " 'Mesh',\n",
       " 'Path',\n",
       " 'Skeleton',\n",
       " '__builtins__',\n",
       " '__cached__',\n",
       " '__doc__',\n",
       " '__file__',\n",
       " '__loader__',\n",
       " '__name__',\n",
       " '__package__',\n",
       " '__spec__',\n",
       " 'add_and_smooth_segment_to_branch',\n",
       " 'align_skeletons_at_connectivity',\n",
       " 'angle',\n",
       " 'calcification',\n",
       " 'calcification_param',\n",
       " 'calculate_skeleton_distance',\n",
       " 'calculate_skeleton_paths_on_mesh',\n",
       " 'calculate_skeleton_segment_distances',\n",
       " 'change_basis_matrix',\n",
       " 'check_correspondence_branches_have_2_endpoints',\n",
       " 'check_skeleton_connected_component',\n",
       " 'check_skeleton_one_component',\n",
       " 'clean_skeleton',\n",
       " 'clean_skeleton_with_decompose',\n",
       " 'clean_skeleton_with_soma_verts',\n",
       " 'cm',\n",
       " 'collapse_soma_skeleton',\n",
       " 'combine_close_branch_points',\n",
       " 'combine_meshes',\n",
       " 'compare_endpoints',\n",
       " 'compare_skeletons_ordered',\n",
       " 'compute_segments',\n",
       " 'convert_branch_graph_to_skeleton',\n",
       " 'convert_graph_to_skeleton',\n",
       " 'convert_nodes_edges_to_skeleton',\n",
       " 'convert_skeleton_to_graph',\n",
       " 'convert_skeleton_to_graph_old',\n",
       " 'convert_skeleton_to_nodes_edges',\n",
       " 'copy',\n",
       " 'create_soma_extending_branches',\n",
       " 'cu',\n",
       " 'cut_skeleton_at_coordinate',\n",
       " 'decompose_skeleton_to_branches',\n",
       " 'deepcopy',\n",
       " 'defaultdict',\n",
       " 'divide_branch',\n",
       " 'downsample_skeleton',\n",
       " 'endpoint_connectivity',\n",
       " 'find_branch_endpoints',\n",
       " 'find_branch_skeleton_with_specific_coordinate',\n",
       " 'find_skeleton_endpoint_coordinates',\n",
       " 'flip_skeleton',\n",
       " 'generate_surface_skeleton',\n",
       " 'generate_surface_skeleton_slower',\n",
       " 'get_ordered_branch_nodes_coordinates',\n",
       " 'gram_schmidt_columns',\n",
       " 'graph_skeleton_and_mesh',\n",
       " 'gu',\n",
       " 'ipv',\n",
       " 'itertools',\n",
       " 'list_len_measure',\n",
       " 'load_somas',\n",
       " 'logging',\n",
       " 'm_sk',\n",
       " 'matching_skeleton_branches_by_endpoints',\n",
       " 'matching_skeleton_branches_by_vertices',\n",
       " 'mesh_filters',\n",
       " 'mesh_subtraction_by_skeleton',\n",
       " 'mesh_teasar',\n",
       " 'meshlab',\n",
       " 'meshparty',\n",
       " 'move_point_to_nearest_branch_end_point_within_threshold',\n",
       " 'mu',\n",
       " 'np',\n",
       " 'nu',\n",
       " 'number_connected_components',\n",
       " 'number_connected_components_branches',\n",
       " 'nx',\n",
       " 'old_combine_close_branch_points',\n",
       " 'order_skeleton',\n",
       " 'os',\n",
       " 'path_ordered_skeleton',\n",
       " 'pathlib',\n",
       " 'pd',\n",
       " 'pdist',\n",
       " 'plot_ipv_mesh',\n",
       " 'plot_ipv_scatter',\n",
       " 'plot_ipv_skeleton',\n",
       " 'plt',\n",
       " 'pyKDTree',\n",
       " 'random',\n",
       " 'ray_pyembree',\n",
       " 'ray_trace_distance',\n",
       " 'read_skeleton_edges_coordinates',\n",
       " 'read_skeleton_verts_edges',\n",
       " 'recompose_skeleton_from_branches',\n",
       " 'recursive_soma_skeletonization',\n",
       " 'reduce_verts',\n",
       " 'reload',\n",
       " 'remove_cycles_from_skeleton',\n",
       " 'resize_skeleton_branch',\n",
       " 'restrict_skeleton_from_start',\n",
       " 'rmtree',\n",
       " 'rotation_matrix',\n",
       " 'save_skeleton_cgal',\n",
       " 'scipy',\n",
       " 'setup_root',\n",
       " 'shared_endpoint',\n",
       " 'sk',\n",
       " 'skeletal_distance',\n",
       " 'skeleton_cgal',\n",
       " 'skeleton_connected_components',\n",
       " 'skeleton_graph_nodes_to_group',\n",
       " 'skeleton_list_connectivity',\n",
       " 'skeleton_list_connectivity_slow',\n",
       " 'skeleton_n_components',\n",
       " 'skeleton_obj_to_branches',\n",
       " 'skeleton_unique_coordinates',\n",
       " 'skeletonize_and_clean_connected_branch_CGAL',\n",
       " 'skeletonize_components',\n",
       " 'skeletonize_connected_branch',\n",
       " 'skeletonize_mesh',\n",
       " 'skeletonize_mesh_largest_component',\n",
       " 'skeletonize_neuron',\n",
       " 'sm',\n",
       " 'smooth_graph',\n",
       " 'smooth_skeleton_branch',\n",
       " 'soma_skeleton_stitching',\n",
       " 'soma_utils',\n",
       " 'sparse',\n",
       " 'spatial',\n",
       " 'split',\n",
       " 'split_significant_pieces',\n",
       " 'split_skeleton_into_edges',\n",
       " 'squareform',\n",
       " 'stack_skeletons',\n",
       " 'stitch_skeleton',\n",
       " 'su',\n",
       " 'time',\n",
       " 'tqdm',\n",
       " 'trange',\n",
       " 'trimesh',\n",
       " 'trimesh_io',\n",
       " 'trimesh_vtk',\n",
       " 'tu',\n",
       " 'utils',\n",
       " 'write_neuron_off',\n",
       " 'xu']"
      ]
     },
     "execution_count": 33,
     "metadata": {},
     "output_type": "execute_result"
    }
   ],
   "source": [
    "dir(sk)"
   ]
  },
  {
   "cell_type": "markdown",
   "metadata": {},
   "source": [
    "# Spliiting Algorithm"
   ]
  },
  {
   "cell_type": "code",
   "execution_count": null,
   "metadata": {},
   "outputs": [],
   "source": [
    "\"\"\"\n",
    "Purpose: To determine the connectivity that should be at the location\n",
    "of a crossover (the cuts that should be made and the new connectivity)\n",
    "\n",
    "Pseudocode: \n",
    "1) Get all the branches that correspond to the coordinate\n",
    "2) For each branch\n",
    "- get the boundary cosine angle between the other branches\n",
    "- if within a threshold then add edge\n",
    "3) Ge the subgraph of all these branches:\n",
    "- find what edges you have to cut\n",
    "4) Return the cuts/subgraph\n",
    "\n",
    "\"\"\"\n"
   ]
  },
  {
   "cell_type": "code",
   "execution_count": 72,
   "metadata": {},
   "outputs": [],
   "source": [
    "import copy\n",
    "limb_obj = copy.deepcopy(curr_limb)\n",
    "coordinate = high_degree_coordinates[0]\n",
    "verbose = True"
   ]
  },
  {
   "cell_type": "code",
   "execution_count": 73,
   "metadata": {},
   "outputs": [
    {
     "data": {
      "application/vnd.jupyter.widget-view+json": {
       "model_id": "c851f846713d4cafa58b8d44804c3cf1",
       "version_major": 2,
       "version_minor": 0
      },
      "text/plain": [
       "VBox(children=(Figure(camera=PerspectiveCamera(fov=46.0, position=(0.0, 0.0, 2.0), quaternion=(0.0, 0.0, 0.0, …"
      ]
     },
     "metadata": {},
     "output_type": "display_data"
    }
   ],
   "source": [
    "#1) Get all the branches that correspond to the coordinate\n",
    "sk_branches = [br.skeleton for br in limb_obj]\n",
    "\n",
    "coordinate_branches = np.sort(sk.find_branch_skeleton_with_specific_coordinate(sk_branches,coordinate))\n",
    "\n",
    "curr_colors = [\"red\",\"aqua\",\"purple\",\"green\"]\n",
    "nviz.plot_objects(meshes=[limb_obj[k].mesh for k in coordinate_branches],\n",
    "                 meshes_colors=curr_colors,\n",
    "                 skeletons=[limb_obj[k].skeleton for k in coordinate_branches],\n",
    "                 skeletons_colors=curr_colors)"
   ]
  },
  {
   "cell_type": "code",
   "execution_count": 74,
   "metadata": {},
   "outputs": [
    {
     "data": {
      "text/plain": [
       "array([64, 65, 69, 98])"
      ]
     },
     "execution_count": 74,
     "metadata": {},
     "output_type": "execute_result"
    }
   ],
   "source": [
    "coordinate_branches"
   ]
  },
  {
   "cell_type": "code",
   "execution_count": 75,
   "metadata": {},
   "outputs": [
    {
     "name": "stdout",
     "output_type": "stream",
     "text": [
      "Angle between 64 and 65 = 83.94 \n",
      "Angle between 64 and 69 = 128.61 \n",
      "Angle between 64 and 98 = 57.0 \n",
      "Angle between 65 and 69 = 6.28 \n",
      "Angle between 65 and 98 = 173.33 \n",
      "Angle between 69 and 98 = 5.62 \n"
     ]
    }
   ],
   "source": [
    "# 2) For each branch\n",
    "# - get the boundary cosine angle between the other branches\n",
    "# - if within a threshold then add edge\n",
    "\n",
    "match_threshold = 40\n",
    "match_branches = []\n",
    "\n",
    "for br1_idx in coordinate_branches:\n",
    "    for br2_idx in coordinate_branches:\n",
    "        if br1_idx>=br2_idx:\n",
    "            continue\n",
    "            \n",
    "        # - get the boundary cosine angle between the other branches\n",
    "        curr_angle = nru.find_parent_child_skeleton_angle(limb_obj,\n",
    "                                                         child_node=br1_idx,\n",
    "                                                         parent_node=br2_idx,\n",
    "                                                         offset=2500,\n",
    "                                                         check_upstream_network_connectivity=False)\n",
    "        if verbose:\n",
    "            print(f\"Angle between {br1_idx} and {br2_idx} = {curr_angle} \")\n",
    "            \n",
    "        # - if within a threshold then add edge\n",
    "        if curr_angle <= match_threshold:\n",
    "            match_branches.append([br1_idx,br2_idx])"
   ]
  },
  {
   "cell_type": "code",
   "execution_count": 76,
   "metadata": {},
   "outputs": [
    {
     "data": {
      "text/plain": [
       "[[65, 69], [69, 98]]"
      ]
     },
     "execution_count": 76,
     "metadata": {},
     "output_type": "execute_result"
    }
   ],
   "source": [
    "match_branches"
   ]
  },
  {
   "cell_type": "code",
   "execution_count": 77,
   "metadata": {},
   "outputs": [
    {
     "data": {
      "application/vnd.jupyter.widget-view+json": {
       "model_id": "0930c4002bb844678a24cf5d0dfbc37a",
       "version_major": 2,
       "version_minor": 0
      },
      "text/plain": [
       "VBox(children=(Figure(camera=PerspectiveCamera(fov=46.0, position=(0.0, 0.0, 2.0), quaternion=(0.0, 0.0, 0.0, …"
      ]
     },
     "metadata": {},
     "output_type": "display_data"
    }
   ],
   "source": [
    "nviz.plot_objects(meshes=[limb_obj[k].mesh for k in match_branches[0]],\n",
    "                 meshes_colors=curr_colors,\n",
    "                 skeletons=[limb_obj[k].skeleton for k in match_branches[0]],\n",
    "                 skeletons_colors=curr_colors)"
   ]
  },
  {
   "cell_type": "code",
   "execution_count": 78,
   "metadata": {},
   "outputs": [],
   "source": [
    "import numpy_utils as nu"
   ]
  },
  {
   "cell_type": "code",
   "execution_count": 71,
   "metadata": {},
   "outputs": [
    {
     "data": {
      "text/plain": [
       "([array([64, 65]), array([65, 98])], [array([69, 98])])"
      ]
     },
     "execution_count": 71,
     "metadata": {},
     "output_type": "execute_result"
    },
    {
     "data": {
      "image/png": "[encoded data removed]",
      "text/plain": [
       "<Figure size 432x288 with 1 Axes>"
      ]
     },
     "metadata": {},
     "output_type": "display_data"
    }
   ],
   "source": [
    "\n",
    "# find what cuts and connections need to make\n",
    "import networkx as nx\n",
    "limb_subgraph = limb_obj.concept_network.subgraph(coordinate_branches)\n",
    "nx.draw(limb_subgraph,with_labels=True)\n",
    "\n",
    "sorted_edges = np.sort(limb_subgraph.edges(),axis=1)\n",
    "sorted_confirmed_edges = np.sort(match_branches,axis=1)\n",
    "sorted_confirmed_edges\n",
    "\n",
    "edges_to_delete = []\n",
    "\n",
    "for ed in sorted_edges:\n",
    "    if len(nu.matching_rows_old(sorted_confirmed_edges,ed))==0:\n",
    "        edges_to_delete.append(ed)\n",
    "\n",
    "edges_to_create = []\n",
    "\n",
    "for ed in sorted_confirmed_edges:\n",
    "    if len(nu.matching_rows_old(sorted_edges,ed))==0:\n",
    "        edges_to_create.append(ed)\n",
    "edges_to_delete,edges_to_create\n",
    "\n"
   ]
  },
  {
   "cell_type": "code",
   "execution_count": 81,
   "metadata": {},
   "outputs": [
    {
     "data": {
      "text/plain": [
       "<networkx_utils.GraphOrderedEdges at 0x7fa9724c4668>"
      ]
     },
     "execution_count": 81,
     "metadata": {},
     "output_type": "execute_result"
    }
   ],
   "source": [
    "#actually creating the new sugraph\n",
    "limb_obj.concept_network.remove_edges_from(edges_to_delete)\n",
    "limb_obj.concept_network.add_edges_from(edges_to_create)\n",
    "limb_obj.concept_network"
   ]
  },
  {
   "cell_type": "markdown",
   "metadata": {},
   "source": [
    "# Creating the Function"
   ]
  },
  {
   "cell_type": "code",
   "execution_count": 91,
   "metadata": {},
   "outputs": [
    {
     "data": {
      "text/plain": [
       "[[array([64, 65]), array([65, 69]), array([65, 98])],\n",
       " [array([69, 98])],\n",
       " <networkx_utils.GraphOrderedEdges at 0x7fa974652eb8>]"
      ]
     },
     "execution_count": 91,
     "metadata": {},
     "output_type": "execute_result"
    }
   ],
   "source": [
    "import error_detection as ed\n",
    "ed.resolving_crossovers(limb_obj = copy.deepcopy(curr_limb),\n",
    "                     coordinate = high_degree_coordinates[0],\n",
    "                    match_threshold = 40,\n",
    "                    verbose = False,\n",
    "                     return_new_edges = True,\n",
    "                    return_subgraph=True,\n",
    "                    plot_intermediates=False)"
   ]
  },
  {
   "cell_type": "code",
   "execution_count": 100,
   "metadata": {},
   "outputs": [
    {
     "data": {
      "text/plain": [
       "1"
      ]
     },
     "execution_count": 100,
     "metadata": {},
     "output_type": "execute_result"
    }
   ],
   "source": [
    "np.argmax([-np.inf,3])\n"
   ]
  },
  {
   "cell_type": "code",
   "execution_count": null,
   "metadata": {},
   "outputs": [],
   "source": []
  }
 ],
 "metadata": {
  "kernelspec": {
   "display_name": "Python 3",
   "language": "python",
   "name": "python3"
  },
  "language_info": {
   "codemirror_mode": {
    "name": "ipython",
    "version": 3
   },
   "file_extension": ".py",
   "mimetype": "text/x-python",
   "name": "python",
   "nbconvert_exporter": "python",
   "pygments_lexer": "ipython3",
   "version": "3.6.9"
  }
 },
 "nbformat": 4,
 "nbformat_minor": 4
}
