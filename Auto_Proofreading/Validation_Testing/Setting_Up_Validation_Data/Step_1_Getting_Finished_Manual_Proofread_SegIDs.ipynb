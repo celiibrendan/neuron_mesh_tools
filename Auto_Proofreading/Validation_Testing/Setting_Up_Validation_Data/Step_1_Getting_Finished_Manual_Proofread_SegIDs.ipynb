{
 "cells": [
  {
   "cell_type": "code",
   "execution_count": 1,
   "metadata": {},
   "outputs": [],
   "source": [
    "%load_ext autoreload\n",
    "%autoreload 2"
   ]
  },
  {
   "cell_type": "code",
   "execution_count": 64,
   "metadata": {},
   "outputs": [
    {
     "name": "stderr",
     "output_type": "stream",
     "text": [
      "INFO - 2021-05-03 23:31:28,835 - settings - Setting database.host to at-database.ad.bcm.edu\n",
      "INFO - 2021-05-03 23:31:28,837 - settings - Setting database.user to celiib\n",
      "INFO - 2021-05-03 23:31:28,838 - settings - Setting database.password to newceliipass\n",
      "INFO - 2021-05-03 23:31:28,848 - settings - Setting enable_python_native_blobs to True\n",
      "INFO - 2021-05-03 23:31:29,314 - settings - Setting enable_python_native_blobs to True\n"
     ]
    }
   ],
   "source": [
    "from os import sys\n",
    "sys.path.append(\"/meshAfterParty/meshAfterParty/\")\n",
    "import datajoint as dj\n",
    "import datajoint_utils as du\n",
    "\n",
    "minnie,schema = du.configure_minnie_vm()\n",
    "m65mat = du.m65mat"
   ]
  },
  {
   "cell_type": "code",
   "execution_count": 4,
   "metadata": {},
   "outputs": [],
   "source": [
    "import allen_utils as alu\n",
    "from annotationframeworkclient import FrameworkClient\n",
    "client = alu.configure_client()"
   ]
  },
  {
   "cell_type": "code",
   "execution_count": 12,
   "metadata": {},
   "outputs": [
    {
     "name": "stdout",
     "output_type": "stream",
     "text": [
      "https://minnie.microns-daf.com/annotation/api/v2/aligned_volume/minnie65_phase3/table\n"
     ]
    },
    {
     "data": {
      "text/plain": [
       "['functional_coreg',\n",
       " 'proofreading_functional_coreg_v2',\n",
       " 'proofreading_functional_coreg',\n",
       " 'nucleus_detection_v0',\n",
       " 'allen_v1_column_thalamic',\n",
       " 'my_new_table2',\n",
       " 'l5_mc_cg',\n",
       " 'allen_v1_column_pyc_proof',\n",
       " 'allen_v1_column_types_v3',\n",
       " 'allen_v1_column_types_slanted',\n",
       " 'allen_v1_column_types',\n",
       " 'synapses_pni_1M',\n",
       " 'synapses_pni_2',\n",
       " 'nucleus_neuron_svm',\n",
       " 'allen_v1_column_types_v2',\n",
       " 'allen_v1_column_proofreading']"
      ]
     },
     "execution_count": 12,
     "metadata": {},
     "output_type": "execute_result"
    }
   ],
   "source": [
    "client.annotation.get_tables()"
   ]
  },
  {
   "cell_type": "markdown",
   "metadata": {},
   "source": [
    "# Pulling Down the Table with the current proof status"
   ]
  },
  {
   "cell_type": "code",
   "execution_count": 31,
   "metadata": {},
   "outputs": [
    {
     "data": {
      "text/plain": [
       "230"
      ]
     },
     "execution_count": 31,
     "metadata": {},
     "output_type": "execute_result"
    }
   ],
   "source": [
    "current_table = \"proofreading_functional_coreg_v2\"\n",
    "#current_table = \"allen_v1_column_proofreading\"\n",
    "current_table = \"allen_v1_column_pyc_proof\" # only has whether the dendrite wa cleaned\n",
    "client.materialize.get_annotation_count(current_table)\n",
    "proof_df = client.materialize.query_table(current_table,\n",
    "                                         #filter_in_dict=dict(pre_pt_root_id=[864691135994684074])\n",
    "                                         )\n",
    "proof_df"
   ]
  },
  {
   "cell_type": "code",
   "execution_count": null,
   "metadata": {},
   "outputs": [],
   "source": [
    "\"\"\"\n",
    "The proofread segments were not stored anywhere in the \n",
    "database but instead were on the spreadsheet \n",
    "szi-chieh shared with  me:\n",
    "\n",
    "https://docs.google.com/spreadsheets/d/1lbLtQegeG7UPzGOmYE-lliPqTBldC9BP-JSzrWi8Ybo/edit?pli=1#gid=0\n",
    "\n",
    "\"\"\"\n"
   ]
  },
  {
   "cell_type": "markdown",
   "metadata": {},
   "source": [
    "# Loading in the Proofread Cells Spreadsheet"
   ]
  },
  {
   "cell_type": "code",
   "execution_count": 49,
   "metadata": {},
   "outputs": [],
   "source": [
    "import pandas as pd\n",
    "proof_pd = pd.read_csv('./Minnie65 core proofreading_5_3.csv', header=1)\n",
    "status_df = proof_pd[[\"Nucleus ID\",\"Date_Seeded\",\"Finished_Den\",\"Finished_Ax\"]]\n"
   ]
  },
  {
   "cell_type": "code",
   "execution_count": 61,
   "metadata": {},
   "outputs": [
    {
     "data": {
      "text/plain": [
       "array([296726., 294545., 225498., 335175., 258307., 271518., 269380.,\n",
       "       331945., 300763., 230236., 264870., 327859., 262773., 330079.,\n",
       "       301095., 301189., 330326., 269247., 332199., 236197., 559381.,\n",
       "       533187., 564808., 489675., 493419., 525758., 493968., 518898.,\n",
       "       556823., 531202., 522656., 518848., 487512., 460053., 557121.,\n",
       "       557030., 525498., 559081., 460391., 493885., 493806., 520364.,\n",
       "       525405., 588983., 560732., 588839., 560217., 560109., 562808.,\n",
       "       582129., 553325., 582056., 554921., 610498., 554741., 583848.,\n",
       "       583961., 582210., 560530., 585723., 558709., 526226., 554200.,\n",
       "       518853., 558684., 516758., 517056., 554833., 581967., 524491.,\n",
       "       587426., 616159., 553283., 554891., 580826., 612143., 612352.,\n",
       "       518623., 520027., 553321., 553407., 580988., 583891., 516621.,\n",
       "       518224., 580948., 612266.])"
      ]
     },
     "execution_count": 61,
     "metadata": {},
     "output_type": "execute_result"
    }
   ],
   "source": [
    "#status_df.query(\"(Finished_Den == True) & (Finished_Ax.isnull())\",engine='python')\n",
    "man_proof_nuc_ids = status_df.query(\"(Date_Seeded.isnull()) & (Finished_Den == True) & (Finished_Ax == 'TRUE')\",engine='python')[\"Nucleus ID\"].to_numpy()\n",
    "man_proof_nuc_ids"
   ]
  },
  {
   "cell_type": "markdown",
   "metadata": {},
   "source": [
    "# Want to now relate these Nucleus Ids to Segment IDs"
   ]
  },
  {
   "cell_type": "code",
   "execution_count": 62,
   "metadata": {},
   "outputs": [
    {
     "data": {
      "text/plain": [
       "array([296726., 294545., 225498., 335175., 258307., 271518., 269380.,\n",
       "       331945., 300763., 230236., 264870., 327859., 262773., 330079.,\n",
       "       301095., 301189., 330326., 269247., 332199., 236197., 559381.,\n",
       "       533187., 564808., 489675., 493419., 525758., 493968., 518898.,\n",
       "       556823., 531202., 522656., 518848., 487512., 460053., 557121.,\n",
       "       557030., 525498., 559081., 460391., 493885., 493806., 520364.,\n",
       "       525405., 588983., 560732., 588839., 560217., 560109., 562808.,\n",
       "       582129., 553325., 582056., 554921., 610498., 554741., 583848.,\n",
       "       583961., 582210., 560530., 585723., 558709., 526226., 554200.,\n",
       "       518853., 558684., 516758., 517056., 554833., 581967., 524491.,\n",
       "       587426., 616159., 553283., 554891., 580826., 612143., 612352.,\n",
       "       518623., 520027., 553321., 553407., 580988., 583891., 516621.,\n",
       "       518224., 580948., 612266.])"
      ]
     },
     "execution_count": 62,
     "metadata": {},
     "output_type": "execute_result"
    }
   ],
   "source": [
    "man_proof_nuc_ids"
   ]
  },
  {
   "cell_type": "code",
   "execution_count": null,
   "metadata": {},
   "outputs": [],
   "source": [
    "current_table = \"nucleus_detection_v0\"\n",
    "nuc_df = client.materialize.query_table('current_table',\n",
    "                                       filter_equal_dict={'cell_type':'neuron'},\n",
    "                                       filter_out_dict={'pt_root_id':[0]})"
   ]
  },
  {
   "cell_type": "code",
   "execution_count": 72,
   "metadata": {},
   "outputs": [],
   "source": [
    "nuc_table = du.configure_nucleus_table(version = 82)"
   ]
  },
  {
   "cell_type": "code",
   "execution_count": 74,
   "metadata": {},
   "outputs": [
    {
     "data": {
      "text/plain": [
       "array([864691135753932237, 864691135609687047, 864691136903144370,\n",
       "       864691135293126156, 864691136023889209, 864691136951664863,\n",
       "       864691135462463389, 864691135974639471, 864691136108768952,\n",
       "       864691135517422218, 864691136194248918, 864691136116205476,\n",
       "       864691135446675028, 864691136011067043, 864691136008689326,\n",
       "       864691135564752471, 864691136378815445, 864691135953898760,\n",
       "       864691137019596142, 864691135367058169, 864691135617953423,\n",
       "       864691135508879113, 864691135272206865, 864691135440543560,\n",
       "       864691135865773189, 864691136023980601, 864691136084313196,\n",
       "       864691135117980637, 864691135508871945, 864691136309871706,\n",
       "       864691135884023664, 864691136084302956, 864691136118618136,\n",
       "       864691134884807418, 864691135415666362, 864691135583884664,\n",
       "       864691136209258172, 864691135776732256, 864691135385422677,\n",
       "       864691135609594119, 864691136811995507, 864691135233242713,\n",
       "       864691135367033849, 864691135775906989, 864691136573079970,\n",
       "       864691136227020113, 864691135181923074, 864691135194621738,\n",
       "       864691136108938168, 864691136175223814, 864691136925601354,\n",
       "       864691135761634358, 864691135937286404, 864691135490697959,\n",
       "       864691135848030814, 864691135718541617, 864691135700409211,\n",
       "       864691135593659947, 864691136378859477, 864691135462420637,\n",
       "       864691135975633475, 864691135809608652, 864691135782544435,\n",
       "       864691136436509342, 864691136903228594, 864691135382556378,\n",
       "       864691135334584297, 864691135888577417, 864691135122469671,\n",
       "       864691135155702116, 864691136118618392, 864691136812081779,\n",
       "       864691135975539779, 864691135815579983, 864691135517531786,\n",
       "       864691135497743635, 864691135445704338, 864691135564739159,\n",
       "       864691135915343462, 864691135761725238, 864691135358985048,\n",
       "       864691135337845734, 864691135952122147, 864691135341198789,\n",
       "       864691135739733140, 864691136194400332, 864691135724393131])"
      ]
     },
     "execution_count": 74,
     "metadata": {},
     "output_type": "execute_result"
    }
   ],
   "source": [
    "man_proof_seg_ids = (nuc_table & [dict(nucleus_id=k) for k in man_proof_nuc_ids]).fetch(\"segment_id\")\n",
    "man_proof_seg_ids"
   ]
  },
  {
   "cell_type": "code",
   "execution_count": 75,
   "metadata": {},
   "outputs": [
    {
     "data": {
      "text/plain": [
       "array([864691134884807418, 864691135117980637, 864691135233242713,\n",
       "       864691135272206865, 864691135293126156, 864691135334584297,\n",
       "       864691135337845734, 864691135358985048, 864691135367058169,\n",
       "       864691135385422677, 864691135415666362, 864691135440543560,\n",
       "       864691135446675028, 864691135462420637, 864691135462463389,\n",
       "       864691135497743635, 864691135508879113, 864691135517422218,\n",
       "       864691135517531786, 864691135564739159, 864691135564752471,\n",
       "       864691135583884664, 864691135593659947, 864691135617953423,\n",
       "       864691135700409211, 864691135718541617, 864691135724393131,\n",
       "       864691135761634358, 864691135761725238, 864691135775906989,\n",
       "       864691135776732256, 864691135782544435, 864691135809608652,\n",
       "       864691135815579983, 864691135848030814, 864691135865773189,\n",
       "       864691135915343462, 864691135937286404, 864691135953898760,\n",
       "       864691135975539779, 864691135975633475, 864691136023889209,\n",
       "       864691136108768952, 864691136116205476, 864691136194248918,\n",
       "       864691136378815445, 864691136378859477, 864691136436509342,\n",
       "       864691136811995507, 864691136812081779, 864691136925601354,\n",
       "       864691136951664863, 864691137019596142])"
      ]
     },
     "execution_count": 75,
     "metadata": {},
     "output_type": "execute_result"
    }
   ],
   "source": [
    "training_seg_id = minnie.AutoProofreadValidationSegmentMap.fetch(\"segment_id\")\n",
    "np.intersect1d(man_proof_seg_ids,training_seg_id)"
   ]
  },
  {
   "cell_type": "markdown",
   "metadata": {},
   "source": [
    "## Turning the Segment IDs into the Synapse Spreadsheets"
   ]
  },
  {
   "cell_type": "code",
   "execution_count": 77,
   "metadata": {},
   "outputs": [
    {
     "data": {
      "text/plain": [
       "82"
      ]
     },
     "execution_count": 77,
     "metadata": {},
     "output_type": "execute_result"
    }
   ],
   "source": [
    "client.materialize._version "
   ]
  },
  {
   "cell_type": "code",
   "execution_count": 79,
   "metadata": {},
   "outputs": [
    {
     "data": {
      "text/html": [
       "<div>\n",
       "<style scoped>\n",
       "    .dataframe tbody tr th:only-of-type {\n",
       "        vertical-align: middle;\n",
       "    }\n",
       "\n",
       "    .dataframe tbody tr th {\n",
       "        vertical-align: top;\n",
       "    }\n",
       "\n",
       "    .dataframe thead th {\n",
       "        text-align: right;\n",
       "    }\n",
       "</style>\n",
       "<table border=\"1\" class=\"dataframe\">\n",
       "  <thead>\n",
       "    <tr style=\"text-align: right;\">\n",
       "      <th></th>\n",
       "      <th>id</th>\n",
       "      <th>valid</th>\n",
       "      <th>classification_system</th>\n",
       "      <th>cell_type</th>\n",
       "      <th>pt_supervoxel_id</th>\n",
       "      <th>pt_root_id</th>\n",
       "      <th>pt_position</th>\n",
       "    </tr>\n",
       "  </thead>\n",
       "  <tbody>\n",
       "    <tr>\n",
       "      <th>0</th>\n",
       "      <td>485509</td>\n",
       "      <td>t</td>\n",
       "      <td>is_neuron</td>\n",
       "      <td>neuron</td>\n",
       "      <td>103588564537113366</td>\n",
       "      <td>864691136740606812</td>\n",
       "      <td>[282608, 103808, 20318]</td>\n",
       "    </tr>\n",
       "    <tr>\n",
       "      <th>1</th>\n",
       "      <td>113721</td>\n",
       "      <td>t</td>\n",
       "      <td>is_neuron</td>\n",
       "      <td>neuron</td>\n",
       "      <td>79951332685465031</td>\n",
       "      <td>864691135366988025</td>\n",
       "      <td>[110208, 153664, 23546]</td>\n",
       "    </tr>\n",
       "    <tr>\n",
       "      <th>2</th>\n",
       "      <td>263203</td>\n",
       "      <td>t</td>\n",
       "      <td>is_neuron</td>\n",
       "      <td>neuron</td>\n",
       "      <td>87694643458256575</td>\n",
       "      <td>864691135181741826</td>\n",
       "      <td>[166512, 174176, 24523]</td>\n",
       "    </tr>\n",
       "    <tr>\n",
       "      <th>3</th>\n",
       "      <td>456177</td>\n",
       "      <td>t</td>\n",
       "      <td>is_neuron</td>\n",
       "      <td>neuron</td>\n",
       "      <td>102677963354799688</td>\n",
       "      <td>864691135337690598</td>\n",
       "      <td>[275616, 135120, 24873]</td>\n",
       "    </tr>\n",
       "    <tr>\n",
       "      <th>4</th>\n",
       "      <td>364447</td>\n",
       "      <td>t</td>\n",
       "      <td>is_neuron</td>\n",
       "      <td>neuron</td>\n",
       "      <td>94449079618306553</td>\n",
       "      <td>864691136883828334</td>\n",
       "      <td>[216064, 166800, 15025]</td>\n",
       "    </tr>\n",
       "    <tr>\n",
       "      <th>...</th>\n",
       "      <td>...</td>\n",
       "      <td>...</td>\n",
       "      <td>...</td>\n",
       "      <td>...</td>\n",
       "      <td>...</td>\n",
       "      <td>...</td>\n",
       "      <td>...</td>\n",
       "    </tr>\n",
       "    <tr>\n",
       "      <th>82239</th>\n",
       "      <td>390522</td>\n",
       "      <td>t</td>\n",
       "      <td>is_neuron</td>\n",
       "      <td>neuron</td>\n",
       "      <td>97749195318464441</td>\n",
       "      <td>864691135939301377</td>\n",
       "      <td>[239920, 112864, 17348]</td>\n",
       "    </tr>\n",
       "    <tr>\n",
       "      <th>82240</th>\n",
       "      <td>329229</td>\n",
       "      <td>t</td>\n",
       "      <td>is_neuron</td>\n",
       "      <td>neuron</td>\n",
       "      <td>92547130727975969</td>\n",
       "      <td>864691135740183915</td>\n",
       "      <td>[202176, 151760, 15660]</td>\n",
       "    </tr>\n",
       "    <tr>\n",
       "      <th>82241</th>\n",
       "      <td>190153</td>\n",
       "      <td>t</td>\n",
       "      <td>is_neuron</td>\n",
       "      <td>neuron</td>\n",
       "      <td>84663632759322436</td>\n",
       "      <td>864691135169731390</td>\n",
       "      <td>[144752, 135472, 18599]</td>\n",
       "    </tr>\n",
       "    <tr>\n",
       "      <th>82242</th>\n",
       "      <td>256280</td>\n",
       "      <td>t</td>\n",
       "      <td>is_neuron</td>\n",
       "      <td>neuron</td>\n",
       "      <td>87546415009833381</td>\n",
       "      <td>864691136266562036</td>\n",
       "      <td>[165808, 118256, 20198]</td>\n",
       "    </tr>\n",
       "    <tr>\n",
       "      <th>82243</th>\n",
       "      <td>258113</td>\n",
       "      <td>t</td>\n",
       "      <td>is_neuron</td>\n",
       "      <td>neuron</td>\n",
       "      <td>88181726572292650</td>\n",
       "      <td>864691135785513412</td>\n",
       "      <td>[170320, 132992, 20225]</td>\n",
       "    </tr>\n",
       "  </tbody>\n",
       "</table>\n",
       "<p>82244 rows × 7 columns</p>\n",
       "</div>"
      ],
      "text/plain": [
       "           id valid classification_system cell_type    pt_supervoxel_id  \\\n",
       "0      485509     t             is_neuron    neuron  103588564537113366   \n",
       "1      113721     t             is_neuron    neuron   79951332685465031   \n",
       "2      263203     t             is_neuron    neuron   87694643458256575   \n",
       "3      456177     t             is_neuron    neuron  102677963354799688   \n",
       "4      364447     t             is_neuron    neuron   94449079618306553   \n",
       "...       ...   ...                   ...       ...                 ...   \n",
       "82239  390522     t             is_neuron    neuron   97749195318464441   \n",
       "82240  329229     t             is_neuron    neuron   92547130727975969   \n",
       "82241  190153     t             is_neuron    neuron   84663632759322436   \n",
       "82242  256280     t             is_neuron    neuron   87546415009833381   \n",
       "82243  258113     t             is_neuron    neuron   88181726572292650   \n",
       "\n",
       "               pt_root_id              pt_position  \n",
       "0      864691136740606812  [282608, 103808, 20318]  \n",
       "1      864691135366988025  [110208, 153664, 23546]  \n",
       "2      864691135181741826  [166512, 174176, 24523]  \n",
       "3      864691135337690598  [275616, 135120, 24873]  \n",
       "4      864691136883828334  [216064, 166800, 15025]  \n",
       "...                   ...                      ...  \n",
       "82239  864691135939301377  [239920, 112864, 17348]  \n",
       "82240  864691135740183915  [202176, 151760, 15660]  \n",
       "82241  864691135169731390  [144752, 135472, 18599]  \n",
       "82242  864691136266562036  [165808, 118256, 20198]  \n",
       "82243  864691135785513412  [170320, 132992, 20225]  \n",
       "\n",
       "[82244 rows x 7 columns]"
      ]
     },
     "execution_count": 79,
     "metadata": {},
     "output_type": "execute_result"
    }
   ],
   "source": [
    "nuc_df = client.materialize.query_table('nucleus_neuron_svm',\n",
    "                                       filter_equal_dict={'cell_type':'neuron'},\n",
    "                                       filter_out_dict={'pt_root_id':[0]})\n",
    "nuc_df"
   ]
  },
  {
   "cell_type": "code",
   "execution_count": 101,
   "metadata": {},
   "outputs": [
    {
     "data": {
      "text/html": [
       "<div>\n",
       "<style scoped>\n",
       "    .dataframe tbody tr th:only-of-type {\n",
       "        vertical-align: middle;\n",
       "    }\n",
       "\n",
       "    .dataframe tbody tr th {\n",
       "        vertical-align: top;\n",
       "    }\n",
       "\n",
       "    .dataframe thead th {\n",
       "        text-align: right;\n",
       "    }\n",
       "</style>\n",
       "<table border=\"1\" class=\"dataframe\">\n",
       "  <thead>\n",
       "    <tr style=\"text-align: right;\">\n",
       "      <th></th>\n",
       "      <th>id</th>\n",
       "      <th>valid</th>\n",
       "      <th>classification_system</th>\n",
       "      <th>cell_type</th>\n",
       "      <th>pt_supervoxel_id</th>\n",
       "      <th>pt_root_id</th>\n",
       "      <th>pt_position</th>\n",
       "    </tr>\n",
       "  </thead>\n",
       "  <tbody>\n",
       "    <tr>\n",
       "      <th>13222</th>\n",
       "      <td>560217</td>\n",
       "      <td>t</td>\n",
       "      <td>is_neuron</td>\n",
       "      <td>neuron</td>\n",
       "      <td>107892602468387948</td>\n",
       "      <td>864691136436509342</td>\n",
       "      <td>[313472, 189904, 17692]</td>\n",
       "    </tr>\n",
       "  </tbody>\n",
       "</table>\n",
       "</div>"
      ],
      "text/plain": [
       "           id valid classification_system cell_type    pt_supervoxel_id  \\\n",
       "13222  560217     t             is_neuron    neuron  107892602468387948   \n",
       "\n",
       "               pt_root_id              pt_position  \n",
       "13222  864691136436509342  [313472, 189904, 17692]  "
      ]
     },
     "execution_count": 101,
     "metadata": {},
     "output_type": "execute_result"
    }
   ],
   "source": [
    "ex_1 = nuc_df[nuc_df[\"pt_root_id\"] == 864691136436509342]\n",
    "ex_1"
   ]
  },
  {
   "cell_type": "code",
   "execution_count": 82,
   "metadata": {},
   "outputs": [],
   "source": [
    "aug_nuc_df = alu.aug_nuc_df"
   ]
  },
  {
   "cell_type": "code",
   "execution_count": 102,
   "metadata": {},
   "outputs": [
    {
     "data": {
      "text/html": [
       "<div>\n",
       "<style scoped>\n",
       "    .dataframe tbody tr th:only-of-type {\n",
       "        vertical-align: middle;\n",
       "    }\n",
       "\n",
       "    .dataframe tbody tr th {\n",
       "        vertical-align: top;\n",
       "    }\n",
       "\n",
       "    .dataframe thead th {\n",
       "        text-align: right;\n",
       "    }\n",
       "</style>\n",
       "<table border=\"1\" class=\"dataframe\">\n",
       "  <thead>\n",
       "    <tr style=\"text-align: right;\">\n",
       "      <th></th>\n",
       "      <th>cleft_segid</th>\n",
       "      <th>size</th>\n",
       "      <th>centroid_x</th>\n",
       "      <th>centroid_y</th>\n",
       "      <th>centroid_z</th>\n",
       "      <th>bbox_bx</th>\n",
       "      <th>bbox_by</th>\n",
       "      <th>bbox_bz</th>\n",
       "      <th>bbox_ex</th>\n",
       "      <th>bbox_ey</th>\n",
       "      <th>bbox_ez</th>\n",
       "      <th>flat_nuc_id</th>\n",
       "      <th>svid</th>\n",
       "      <th>root_id</th>\n",
       "    </tr>\n",
       "  </thead>\n",
       "  <tbody>\n",
       "    <tr>\n",
       "      <th>141958</th>\n",
       "      <td>560217</td>\n",
       "      <td>2814951</td>\n",
       "      <td>19592</td>\n",
       "      <td>11869</td>\n",
       "      <td>17692</td>\n",
       "      <td>19512</td>\n",
       "      <td>11788</td>\n",
       "      <td>17565</td>\n",
       "      <td>19673</td>\n",
       "      <td>11952</td>\n",
       "      <td>17816</td>\n",
       "      <td>560217</td>\n",
       "      <td>107892602468387948</td>\n",
       "      <td>864691136134446219</td>\n",
       "    </tr>\n",
       "  </tbody>\n",
       "</table>\n",
       "</div>"
      ],
      "text/plain": [
       "        cleft_segid     size  centroid_x  centroid_y  centroid_z  bbox_bx  \\\n",
       "141958       560217  2814951       19592       11869       17692    19512   \n",
       "\n",
       "        bbox_by  bbox_bz  bbox_ex  bbox_ey  bbox_ez  flat_nuc_id  \\\n",
       "141958    11788    17565    19673    11952    17816       560217   \n",
       "\n",
       "                      svid             root_id  \n",
       "141958  107892602468387948  864691136134446219  "
      ]
     },
     "execution_count": 102,
     "metadata": {},
     "output_type": "execute_result"
    }
   ],
   "source": [
    "ex_2 = aug_nuc_df[aug_nuc_df[\"flat_nuc_id\"] == 560217]\n",
    "ex_2"
   ]
  },
  {
   "cell_type": "code",
   "execution_count": 111,
   "metadata": {},
   "outputs": [],
   "source": [
    "new_df = pd.merge(ex_1,ex_2,left_on=\"id\",right_on=\"flat_nuc_id\",how='inner')"
   ]
  },
  {
   "cell_type": "code",
   "execution_count": 108,
   "metadata": {},
   "outputs": [
    {
     "data": {
      "text/html": [
       "<div>\n",
       "<style scoped>\n",
       "    .dataframe tbody tr th:only-of-type {\n",
       "        vertical-align: middle;\n",
       "    }\n",
       "\n",
       "    .dataframe tbody tr th {\n",
       "        vertical-align: top;\n",
       "    }\n",
       "\n",
       "    .dataframe thead th {\n",
       "        text-align: right;\n",
       "    }\n",
       "</style>\n",
       "<table border=\"1\" class=\"dataframe\">\n",
       "  <thead>\n",
       "    <tr style=\"text-align: right;\">\n",
       "      <th></th>\n",
       "      <th>id</th>\n",
       "      <th>valid</th>\n",
       "      <th>classification_system</th>\n",
       "      <th>cell_type</th>\n",
       "      <th>pt_supervoxel_id</th>\n",
       "      <th>pt_root_id</th>\n",
       "      <th>pt_position</th>\n",
       "      <th>cleft_segid</th>\n",
       "      <th>size</th>\n",
       "      <th>centroid_x</th>\n",
       "      <th>...</th>\n",
       "      <th>centroid_z</th>\n",
       "      <th>bbox_bx</th>\n",
       "      <th>bbox_by</th>\n",
       "      <th>bbox_bz</th>\n",
       "      <th>bbox_ex</th>\n",
       "      <th>bbox_ey</th>\n",
       "      <th>bbox_ez</th>\n",
       "      <th>flat_nuc_id</th>\n",
       "      <th>svid</th>\n",
       "      <th>root_id</th>\n",
       "    </tr>\n",
       "  </thead>\n",
       "  <tbody>\n",
       "    <tr>\n",
       "      <th>13222</th>\n",
       "      <td>560217</td>\n",
       "      <td>t</td>\n",
       "      <td>is_neuron</td>\n",
       "      <td>neuron</td>\n",
       "      <td>107892602468387948</td>\n",
       "      <td>864691136436509342</td>\n",
       "      <td>[313472, 189904, 17692]</td>\n",
       "      <td>560217</td>\n",
       "      <td>2814951</td>\n",
       "      <td>19592</td>\n",
       "      <td>...</td>\n",
       "      <td>17692</td>\n",
       "      <td>19512</td>\n",
       "      <td>11788</td>\n",
       "      <td>17565</td>\n",
       "      <td>19673</td>\n",
       "      <td>11952</td>\n",
       "      <td>17816</td>\n",
       "      <td>560217</td>\n",
       "      <td>107892602468387948</td>\n",
       "      <td>864691136134446219</td>\n",
       "    </tr>\n",
       "  </tbody>\n",
       "</table>\n",
       "<p>1 rows × 21 columns</p>\n",
       "</div>"
      ],
      "text/plain": [
       "           id valid classification_system cell_type    pt_supervoxel_id  \\\n",
       "13222  560217     t             is_neuron    neuron  107892602468387948   \n",
       "\n",
       "               pt_root_id              pt_position  cleft_segid     size  \\\n",
       "13222  864691136436509342  [313472, 189904, 17692]       560217  2814951   \n",
       "\n",
       "       centroid_x  ...  centroid_z  bbox_bx  bbox_by  bbox_bz  bbox_ex  \\\n",
       "13222       19592  ...       17692    19512    11788    17565    19673   \n",
       "\n",
       "       bbox_ey  bbox_ez  flat_nuc_id                svid             root_id  \n",
       "13222    11952    17816       560217  107892602468387948  864691136134446219  \n",
       "\n",
       "[1 rows x 21 columns]"
      ]
     },
     "execution_count": 108,
     "metadata": {},
     "output_type": "execute_result"
    }
   ],
   "source": [
    "overlap[overlap[\"id\"] == 560217]"
   ]
  },
  {
   "cell_type": "code",
   "execution_count": 99,
   "metadata": {},
   "outputs": [
    {
     "data": {
      "text/html": [
       "<div>\n",
       "<style scoped>\n",
       "    .dataframe tbody tr th:only-of-type {\n",
       "        vertical-align: middle;\n",
       "    }\n",
       "\n",
       "    .dataframe tbody tr th {\n",
       "        vertical-align: top;\n",
       "    }\n",
       "\n",
       "    .dataframe thead th {\n",
       "        text-align: right;\n",
       "    }\n",
       "</style>\n",
       "<table border=\"1\" class=\"dataframe\">\n",
       "  <thead>\n",
       "    <tr style=\"text-align: right;\">\n",
       "      <th></th>\n",
       "      <th>id</th>\n",
       "      <th>valid</th>\n",
       "      <th>classification_system</th>\n",
       "      <th>cell_type</th>\n",
       "      <th>pt_supervoxel_id</th>\n",
       "      <th>pt_root_id</th>\n",
       "      <th>pt_position</th>\n",
       "      <th>cleft_segid</th>\n",
       "      <th>size</th>\n",
       "      <th>centroid_x</th>\n",
       "      <th>...</th>\n",
       "      <th>centroid_z</th>\n",
       "      <th>bbox_bx</th>\n",
       "      <th>bbox_by</th>\n",
       "      <th>bbox_bz</th>\n",
       "      <th>bbox_ex</th>\n",
       "      <th>bbox_ey</th>\n",
       "      <th>bbox_ez</th>\n",
       "      <th>flat_nuc_id</th>\n",
       "      <th>svid</th>\n",
       "      <th>root_id</th>\n",
       "    </tr>\n",
       "  </thead>\n",
       "  <tbody>\n",
       "  </tbody>\n",
       "</table>\n",
       "<p>0 rows × 21 columns</p>\n",
       "</div>"
      ],
      "text/plain": [
       "Empty DataFrame\n",
       "Columns: [id, valid, classification_system, cell_type, pt_supervoxel_id, pt_root_id, pt_position, cleft_segid, size, centroid_x, centroid_y, centroid_z, bbox_bx, bbox_by, bbox_bz, bbox_ex, bbox_ey, bbox_ez, flat_nuc_id, svid, root_id]\n",
       "Index: []\n",
       "\n",
       "[0 rows x 21 columns]"
      ]
     },
     "execution_count": 99,
     "metadata": {},
     "output_type": "execute_result"
    }
   ],
   "source": [
    "overlap = pd.merge(nuc_df, aug_nuc_df, left_on='id', right_on='flat_nuc_id', how='inner')\n",
    "overlap_df = overlap.query('pt_root_id==root_id')"
   ]
  },
  {
   "cell_type": "code",
   "execution_count": 120,
   "metadata": {},
   "outputs": [
    {
     "data": {
      "text/plain": [
       "[864691136134446219]"
      ]
     },
     "execution_count": 120,
     "metadata": {},
     "output_type": "execute_result"
    }
   ],
   "source": [
    "x = 864691136436509342\n",
    "overlap.query(f\"pt_root_id=={s}\")[\"root_id\"].to_list()"
   ]
  },
  {
   "cell_type": "markdown",
   "metadata": {},
   "source": [
    "# New Way to Get Synapses"
   ]
  },
  {
   "cell_type": "code",
   "execution_count": 161,
   "metadata": {},
   "outputs": [
    {
     "data": {
      "image/png": "[encoded data removed]",
      "text/plain": [
       "<Figure size 432x288 with 1 Axes>"
      ]
     },
     "metadata": {},
     "output_type": "display_data"
    }
   ],
   "source": [
    "\"\"\"\n",
    "Pseudocode: \n",
    "Using a segment Id from August\n",
    "1) get all of the leaves of the segment id (during a current timestamp)\n",
    "2) Query the synapse table based on those ids to get all of the \n",
    "synapse ids\n",
    "3) Concatenate the synapse ids into one table\n",
    "\"\"\"\n",
    "import pandas as pd\n",
    "import networkx_utils as xu\n",
    "\n",
    "root_id = 864691136134446219\n",
    "curr_time = datetime.datetime(2020, 8, 1, 1, 0, 0)\n",
    "\n",
    "DiG = alu.seg_id_to_nx_lineage_graph(root_id=root_id,\n",
    "                               timestamp_past = curr_time,\n",
    "                               timestamp_future = None,#curr_time,\n",
    "                              client=None)"
   ]
  },
  {
   "cell_type": "code",
   "execution_count": 178,
   "metadata": {},
   "outputs": [
    {
     "name": "stdout",
     "output_type": "stream",
     "text": [
      "# of end nodes = 73\n",
      "last_datetime_edited = 2020-09-24 20:49:32.183000\n"
     ]
    }
   ],
   "source": [
    "\"\"\"\n",
    "Get the edges of the graph\n",
    "\n",
    "\"\"\"\n",
    "import numpy_utils as nu\n",
    "\n",
    "end_nodes = xu.end_nodes_of_digraph(DiG,verbose = True)\n",
    "end_nodes_timestamps = xu.get_node_attributes(DiG,\"timestamp\",node_list=end_nodes)\n",
    "last_datetime_edited = nu.float_to_datetime(np.max(end_nodes_timestamps))\n",
    "print(f\"last_datetime_edited = {last_datetime_edited}\")"
   ]
  },
  {
   "cell_type": "markdown",
   "metadata": {},
   "source": [
    "# Turn the end nodes into synapse"
   ]
  },
  {
   "cell_type": "code",
   "execution_count": 179,
   "metadata": {},
   "outputs": [
    {
     "data": {
      "text/plain": [
       "array([864691135194481962, 864691135538168690, 864691136333863347,\n",
       "       864691135809565132, 864691135502122421, 864691135915287142,\n",
       "       864691136175120390, 864691135754731474, 864691135873663886,\n",
       "       864691135657900162, 864691136175129606, 864691135988426240,\n",
       "       864691136486862098, 864691135654187714, 864691135730272185,\n",
       "       864691136422886191, 864691136388323959, 864691135776713824,\n",
       "       864691135994604970, 864691135117907933, 864691135476214440,\n",
       "       864691135753797069, 864691136273718797, 864691135162339885,\n",
       "       864691135754731730, 864691135337837286, 864691135386473857,\n",
       "       864691135407345609, 864691136370856840, 864691136108861368,\n",
       "       864691136175130374, 864691135113217945, 864691136328954858,\n",
       "       864691136740512348, 864691135570886893, 864691135799814498,\n",
       "       864691135162337069, 864691135771770187, 864691135925585678,\n",
       "       864691135501634370, 864691135915287654, 864691136065339544,\n",
       "       864691136672726919, 864691136088996919, 864691135697425941,\n",
       "       864691135233155417, 864691136333871027, 864691135581663597,\n",
       "       864691135858750312, 864691135341280689, 864691135502131125,\n",
       "       864691135468217426, 864691136065331864, 864691136020359160,\n",
       "       864691135865646213, 864691135155603300, 864691135502131637,\n",
       "       864691135348342743, 864691135386474369, 864691135212778368,\n",
       "       864691135771728635, 864691135585199740, 864691135194488106,\n",
       "       864691135684110007, 864691136594626722, 864691135570887405,\n",
       "       864691136436509342, 864691135213199416, 864691136108859320,\n",
       "       864691135162337837, 864691136811876979, 864691135615852649,\n",
       "       864691135382543834])"
      ]
     },
     "execution_count": 179,
     "metadata": {},
     "output_type": "execute_result"
    }
   ],
   "source": [
    "end_nodes"
   ]
  },
  {
   "cell_type": "code",
   "execution_count": 187,
   "metadata": {},
   "outputs": [
    {
     "data": {
      "text/html": [
       "<div>\n",
       "<style scoped>\n",
       "    .dataframe tbody tr th:only-of-type {\n",
       "        vertical-align: middle;\n",
       "    }\n",
       "\n",
       "    .dataframe tbody tr th {\n",
       "        vertical-align: top;\n",
       "    }\n",
       "\n",
       "    .dataframe thead th {\n",
       "        text-align: right;\n",
       "    }\n",
       "</style>\n",
       "<table border=\"1\" class=\"dataframe\">\n",
       "  <thead>\n",
       "    <tr style=\"text-align: right;\">\n",
       "      <th></th>\n",
       "      <th>id</th>\n",
       "      <th>valid</th>\n",
       "      <th>pre_pt_supervoxel_id</th>\n",
       "      <th>pre_pt_root_id</th>\n",
       "      <th>post_pt_supervoxel_id</th>\n",
       "      <th>post_pt_root_id</th>\n",
       "      <th>size</th>\n",
       "      <th>pre_pt_position</th>\n",
       "      <th>post_pt_position</th>\n",
       "      <th>ctr_pt_position</th>\n",
       "    </tr>\n",
       "  </thead>\n",
       "  <tbody>\n",
       "    <tr>\n",
       "      <th>0</th>\n",
       "      <td>408491449</td>\n",
       "      <td>t</td>\n",
       "      <td>109371239583706523</td>\n",
       "      <td>864691135469400260</td>\n",
       "      <td>109371239583701097</td>\n",
       "      <td>864691136436509342</td>\n",
       "      <td>15112</td>\n",
       "      <td>[324236, 196458, 18869]</td>\n",
       "      <td>[324240, 196390, 18870]</td>\n",
       "      <td>[324242, 196424, 18866]</td>\n",
       "    </tr>\n",
       "    <tr>\n",
       "      <th>1</th>\n",
       "      <td>392515752</td>\n",
       "      <td>t</td>\n",
       "      <td>108103983646118046</td>\n",
       "      <td>864691135716142996</td>\n",
       "      <td>108103983646130341</td>\n",
       "      <td>864691136436509342</td>\n",
       "      <td>15084</td>\n",
       "      <td>[315102, 191870, 18344]</td>\n",
       "      <td>[315068, 191918, 18353]</td>\n",
       "      <td>[315146, 191913, 18351]</td>\n",
       "    </tr>\n",
       "    <tr>\n",
       "      <th>2</th>\n",
       "      <td>400264450</td>\n",
       "      <td>t</td>\n",
       "      <td>108807396277018572</td>\n",
       "      <td>864691136765611886</td>\n",
       "      <td>108807396277019937</td>\n",
       "      <td>864691136436509342</td>\n",
       "      <td>7172</td>\n",
       "      <td>[320164, 189858, 18775]</td>\n",
       "      <td>[320096, 189882, 18776]</td>\n",
       "      <td>[320102, 189880, 18775]</td>\n",
       "    </tr>\n",
       "    <tr>\n",
       "      <th>3</th>\n",
       "      <td>391325064</td>\n",
       "      <td>t</td>\n",
       "      <td>108170091715711287</td>\n",
       "      <td>864691136764424814</td>\n",
       "      <td>108170091782227115</td>\n",
       "      <td>864691136436509342</td>\n",
       "      <td>16340</td>\n",
       "      <td>[315664, 160192, 17912]</td>\n",
       "      <td>[315740, 160128, 17923]</td>\n",
       "      <td>[315680, 160198, 17917]</td>\n",
       "    </tr>\n",
       "    <tr>\n",
       "      <th>4</th>\n",
       "      <td>385412009</td>\n",
       "      <td>t</td>\n",
       "      <td>107821958846280525</td>\n",
       "      <td>864691135875998803</td>\n",
       "      <td>107821958846277097</td>\n",
       "      <td>864691136436509342</td>\n",
       "      <td>3488</td>\n",
       "      <td>[313056, 187650, 17691]</td>\n",
       "      <td>[313184, 187740, 17697]</td>\n",
       "      <td>[313112, 187688, 17692]</td>\n",
       "    </tr>\n",
       "    <tr>\n",
       "      <th>...</th>\n",
       "      <td>...</td>\n",
       "      <td>...</td>\n",
       "      <td>...</td>\n",
       "      <td>...</td>\n",
       "      <td>...</td>\n",
       "      <td>...</td>\n",
       "      <td>...</td>\n",
       "      <td>...</td>\n",
       "      <td>...</td>\n",
       "      <td>...</td>\n",
       "    </tr>\n",
       "    <tr>\n",
       "      <th>8364</th>\n",
       "      <td>373795961</td>\n",
       "      <td>t</td>\n",
       "      <td>106480966843048306</td>\n",
       "      <td>864691135531417074</td>\n",
       "      <td>106480966843055770</td>\n",
       "      <td>864691136436509342</td>\n",
       "      <td>45556</td>\n",
       "      <td>[303266, 157960, 16641]</td>\n",
       "      <td>[303204, 158040, 16639]</td>\n",
       "      <td>[303110, 158035, 16635]</td>\n",
       "    </tr>\n",
       "    <tr>\n",
       "      <th>8365</th>\n",
       "      <td>374575330</td>\n",
       "      <td>t</td>\n",
       "      <td>106696677616099674</td>\n",
       "      <td>864691135734009748</td>\n",
       "      <td>106696677616101015</td>\n",
       "      <td>864691136436509342</td>\n",
       "      <td>2104</td>\n",
       "      <td>[304728, 192322, 19252]</td>\n",
       "      <td>[304764, 192374, 19254]</td>\n",
       "      <td>[304734, 192358, 19254]</td>\n",
       "    </tr>\n",
       "    <tr>\n",
       "      <th>8366</th>\n",
       "      <td>408084919</td>\n",
       "      <td>t</td>\n",
       "      <td>109161714100341738</td>\n",
       "      <td>864691135957217994</td>\n",
       "      <td>109232082844516508</td>\n",
       "      <td>864691136436509342</td>\n",
       "      <td>2156</td>\n",
       "      <td>[323104, 208520, 20318]</td>\n",
       "      <td>[323140, 208562, 20311]</td>\n",
       "      <td>[323096, 208568, 20314]</td>\n",
       "    </tr>\n",
       "    <tr>\n",
       "      <th>8367</th>\n",
       "      <td>380478516</td>\n",
       "      <td>t</td>\n",
       "      <td>107323742572515865</td>\n",
       "      <td>864691135403749565</td>\n",
       "      <td>107323673853096755</td>\n",
       "      <td>864691136436509342</td>\n",
       "      <td>31136</td>\n",
       "      <td>[309416, 145658, 16900]</td>\n",
       "      <td>[309466, 145566, 16910]</td>\n",
       "      <td>[309472, 145636, 16905]</td>\n",
       "    </tr>\n",
       "    <tr>\n",
       "      <th>8368</th>\n",
       "      <td>384936408</td>\n",
       "      <td>t</td>\n",
       "      <td>107822233724068953</td>\n",
       "      <td>864691136902785646</td>\n",
       "      <td>107822233724080122</td>\n",
       "      <td>864691136436509342</td>\n",
       "      <td>2648</td>\n",
       "      <td>[313298, 190096, 17575]</td>\n",
       "      <td>[313362, 190078, 17587]</td>\n",
       "      <td>[313277, 190173, 17584]</td>\n",
       "    </tr>\n",
       "  </tbody>\n",
       "</table>\n",
       "<p>8369 rows × 10 columns</p>\n",
       "</div>"
      ],
      "text/plain": [
       "             id valid  pre_pt_supervoxel_id      pre_pt_root_id  \\\n",
       "0     408491449     t    109371239583706523  864691135469400260   \n",
       "1     392515752     t    108103983646118046  864691135716142996   \n",
       "2     400264450     t    108807396277018572  864691136765611886   \n",
       "3     391325064     t    108170091715711287  864691136764424814   \n",
       "4     385412009     t    107821958846280525  864691135875998803   \n",
       "...         ...   ...                   ...                 ...   \n",
       "8364  373795961     t    106480966843048306  864691135531417074   \n",
       "8365  374575330     t    106696677616099674  864691135734009748   \n",
       "8366  408084919     t    109161714100341738  864691135957217994   \n",
       "8367  380478516     t    107323742572515865  864691135403749565   \n",
       "8368  384936408     t    107822233724068953  864691136902785646   \n",
       "\n",
       "      post_pt_supervoxel_id     post_pt_root_id   size  \\\n",
       "0        109371239583701097  864691136436509342  15112   \n",
       "1        108103983646130341  864691136436509342  15084   \n",
       "2        108807396277019937  864691136436509342   7172   \n",
       "3        108170091782227115  864691136436509342  16340   \n",
       "4        107821958846277097  864691136436509342   3488   \n",
       "...                     ...                 ...    ...   \n",
       "8364     106480966843055770  864691136436509342  45556   \n",
       "8365     106696677616101015  864691136436509342   2104   \n",
       "8366     109232082844516508  864691136436509342   2156   \n",
       "8367     107323673853096755  864691136436509342  31136   \n",
       "8368     107822233724080122  864691136436509342   2648   \n",
       "\n",
       "              pre_pt_position         post_pt_position  \\\n",
       "0     [324236, 196458, 18869]  [324240, 196390, 18870]   \n",
       "1     [315102, 191870, 18344]  [315068, 191918, 18353]   \n",
       "2     [320164, 189858, 18775]  [320096, 189882, 18776]   \n",
       "3     [315664, 160192, 17912]  [315740, 160128, 17923]   \n",
       "4     [313056, 187650, 17691]  [313184, 187740, 17697]   \n",
       "...                       ...                      ...   \n",
       "8364  [303266, 157960, 16641]  [303204, 158040, 16639]   \n",
       "8365  [304728, 192322, 19252]  [304764, 192374, 19254]   \n",
       "8366  [323104, 208520, 20318]  [323140, 208562, 20311]   \n",
       "8367  [309416, 145658, 16900]  [309466, 145566, 16910]   \n",
       "8368  [313298, 190096, 17575]  [313362, 190078, 17587]   \n",
       "\n",
       "              ctr_pt_position  \n",
       "0     [324242, 196424, 18866]  \n",
       "1     [315146, 191913, 18351]  \n",
       "2     [320102, 189880, 18775]  \n",
       "3     [315680, 160198, 17917]  \n",
       "4     [313112, 187688, 17692]  \n",
       "...                       ...  \n",
       "8364  [303110, 158035, 16635]  \n",
       "8365  [304734, 192358, 19254]  \n",
       "8366  [323096, 208568, 20314]  \n",
       "8367  [309472, 145636, 16905]  \n",
       "8368  [313277, 190173, 17584]  \n",
       "\n",
       "[8369 rows x 10 columns]"
      ]
     },
     "execution_count": 187,
     "metadata": {},
     "output_type": "execute_result"
    }
   ],
   "source": [
    "df_pre = client.materialize.query_table('synapses_pni_2',\n",
    "                                           filter_in_dict={'pre_pt_root_id':end_nodes})\n",
    "df_post = client.materialize.query_table('synapses_pni_2',\n",
    "                                           filter_in_dict={'post_pt_root_id':end_nodes})\n",
    "df_post"
   ]
  },
  {
   "cell_type": "code",
   "execution_count": null,
   "metadata": {},
   "outputs": [],
   "source": [
    "# Want to  "
   ]
  },
  {
   "cell_type": "code",
   "execution_count": null,
   "metadata": {},
   "outputs": [],
   "source": []
  },
  {
   "cell_type": "code",
   "execution_count": 180,
   "metadata": {},
   "outputs": [
    {
     "data": {
      "text/plain": [
       "{'table_name': 'synapses_pni_2',\n",
       " 'valid': True,\n",
       " 'id': 36,\n",
       " 'deleted': None,\n",
       " 'description': 'Automated synapse detection performed by Nick Turner from the Seung Lab.  size represents the number of (4x4x40 nm) voxels painted by the automated cleft segmentation, and the IDs reference the IDs of the cleft segmentation.  Ctr_pt reflects the centroid of the cleft segmentation. The cleft segmentation volume is located in the flat_segmentation_source field. ',\n",
       " 'flat_segmentation_source': None,\n",
       " 'schema_type': 'synapse',\n",
       " 'created': '2020-11-04T06:48:36.953637',\n",
       " 'user_id': 'foo@bar.com',\n",
       " 'reference_table': None}"
      ]
     },
     "execution_count": 180,
     "metadata": {},
     "output_type": "execute_result"
    }
   ],
   "source": [
    "ann_metadata = client.annotation.get_table_metadata(client.info.get_datastack_info()[\"synapse_table\"])\n",
    "ann_metadata"
   ]
  },
  {
   "cell_type": "code",
   "execution_count": 184,
   "metadata": {},
   "outputs": [
    {
     "data": {
      "text/html": [
       "<div>\n",
       "<style scoped>\n",
       "    .dataframe tbody tr th:only-of-type {\n",
       "        vertical-align: middle;\n",
       "    }\n",
       "\n",
       "    .dataframe tbody tr th {\n",
       "        vertical-align: top;\n",
       "    }\n",
       "\n",
       "    .dataframe thead th {\n",
       "        text-align: right;\n",
       "    }\n",
       "</style>\n",
       "<table border=\"1\" class=\"dataframe\">\n",
       "  <thead>\n",
       "    <tr style=\"text-align: right;\">\n",
       "      <th></th>\n",
       "      <th>id</th>\n",
       "      <th>valid</th>\n",
       "      <th>pre_pt_position</th>\n",
       "      <th>pre_pt_supervoxel_id</th>\n",
       "      <th>pre_pt_root_id</th>\n",
       "      <th>ctr_pt_position</th>\n",
       "      <th>post_pt_position</th>\n",
       "      <th>post_pt_supervoxel_id</th>\n",
       "      <th>post_pt_root_id</th>\n",
       "      <th>size</th>\n",
       "      <th>pre_pt_root_id_Aug</th>\n",
       "      <th>post_pt_root_id_Aug</th>\n",
       "    </tr>\n",
       "  </thead>\n",
       "  <tbody>\n",
       "    <tr>\n",
       "      <th>0</th>\n",
       "      <td>92770509</td>\n",
       "      <td>True</td>\n",
       "      <td>[137036, 220554, 23068]</td>\n",
       "      <td>83619509633613772</td>\n",
       "      <td>864691136925486410</td>\n",
       "      <td>[137072, 220518, 23064]</td>\n",
       "      <td>[137136, 220586, 23072]</td>\n",
       "      <td>83619509633620146</td>\n",
       "      <td>864691135558675908</td>\n",
       "      <td>4508.0</td>\n",
       "      <td>8.646911e+17</td>\n",
       "      <td>8.646911e+17</td>\n",
       "    </tr>\n",
       "    <tr>\n",
       "      <th>1</th>\n",
       "      <td>92295389</td>\n",
       "      <td>True</td>\n",
       "      <td>[137958, 224872, 23504]</td>\n",
       "      <td>83760796878321067</td>\n",
       "      <td>864691136925486410</td>\n",
       "      <td>[137952, 224888, 23507]</td>\n",
       "      <td>[137912, 224910, 23508]</td>\n",
       "      <td>83760796878324723</td>\n",
       "      <td>864691135367338994</td>\n",
       "      <td>3488.0</td>\n",
       "      <td>8.646911e+17</td>\n",
       "      <td>8.646911e+17</td>\n",
       "    </tr>\n",
       "    <tr>\n",
       "      <th>2</th>\n",
       "      <td>107051621</td>\n",
       "      <td>True</td>\n",
       "      <td>[143000, 205778, 23818]</td>\n",
       "      <td>84461941766293729</td>\n",
       "      <td>864691136925486410</td>\n",
       "      <td>[142996, 205726, 23819]</td>\n",
       "      <td>[142930, 205708, 23827]</td>\n",
       "      <td>84461941766303990</td>\n",
       "      <td>864691135545878152</td>\n",
       "      <td>2576.0</td>\n",
       "      <td>8.646911e+17</td>\n",
       "      <td>8.646911e+17</td>\n",
       "    </tr>\n",
       "    <tr>\n",
       "      <th>3</th>\n",
       "      <td>107051674</td>\n",
       "      <td>True</td>\n",
       "      <td>[143004, 205774, 23811]</td>\n",
       "      <td>84461941766293729</td>\n",
       "      <td>864691136925486410</td>\n",
       "      <td>[143066, 205736, 23814]</td>\n",
       "      <td>[143098, 205756, 23812]</td>\n",
       "      <td>84461941766291497</td>\n",
       "      <td>864691136390364031</td>\n",
       "      <td>3252.0</td>\n",
       "      <td>8.646911e+17</td>\n",
       "      <td>8.646911e+17</td>\n",
       "    </tr>\n",
       "    <tr>\n",
       "      <th>4</th>\n",
       "      <td>113298846</td>\n",
       "      <td>True</td>\n",
       "      <td>[147356, 246832, 20291]</td>\n",
       "      <td>85030388808167240</td>\n",
       "      <td>864691135946711649</td>\n",
       "      <td>[147420, 246842, 20296]</td>\n",
       "      <td>[147398, 246870, 20290]</td>\n",
       "      <td>85030388808165948</td>\n",
       "      <td>864691135360177735</td>\n",
       "      <td>2192.0</td>\n",
       "      <td>8.646911e+17</td>\n",
       "      <td>8.646911e+17</td>\n",
       "    </tr>\n",
       "    <tr>\n",
       "      <th>...</th>\n",
       "      <td>...</td>\n",
       "      <td>...</td>\n",
       "      <td>...</td>\n",
       "      <td>...</td>\n",
       "      <td>...</td>\n",
       "      <td>...</td>\n",
       "      <td>...</td>\n",
       "      <td>...</td>\n",
       "      <td>...</td>\n",
       "      <td>...</td>\n",
       "      <td>...</td>\n",
       "      <td>...</td>\n",
       "    </tr>\n",
       "    <tr>\n",
       "      <th>230</th>\n",
       "      <td>169643736</td>\n",
       "      <td>True</td>\n",
       "      <td>[183640, 217206, 20692]</td>\n",
       "      <td>90022583982096732</td>\n",
       "      <td>864691135468692978</td>\n",
       "      <td>[183630, 217282, 20692]</td>\n",
       "      <td>[183608, 217358, 20692]</td>\n",
       "      <td>90022652701568715</td>\n",
       "      <td>864691135278269857</td>\n",
       "      <td>2632.0</td>\n",
       "      <td>8.646911e+17</td>\n",
       "      <td>8.646911e+17</td>\n",
       "    </tr>\n",
       "    <tr>\n",
       "      <th>231</th>\n",
       "      <td>166967052</td>\n",
       "      <td>True</td>\n",
       "      <td>[183464, 217458, 20771]</td>\n",
       "      <td>90022652701653980</td>\n",
       "      <td>864691136859404910</td>\n",
       "      <td>[183524, 217480, 20766]</td>\n",
       "      <td>[183500, 217472, 20759]</td>\n",
       "      <td>90022652701636980</td>\n",
       "      <td>864691135278269857</td>\n",
       "      <td>9304.0</td>\n",
       "      <td>8.646911e+17</td>\n",
       "      <td>8.646911e+17</td>\n",
       "    </tr>\n",
       "    <tr>\n",
       "      <th>232</th>\n",
       "      <td>166967074</td>\n",
       "      <td>True</td>\n",
       "      <td>[183488, 217516, 20753]</td>\n",
       "      <td>90022652701630247</td>\n",
       "      <td>864691135458881266</td>\n",
       "      <td>[183536, 217520, 20758]</td>\n",
       "      <td>[183562, 217448, 20759]</td>\n",
       "      <td>90022652701639810</td>\n",
       "      <td>864691135278269857</td>\n",
       "      <td>288.0</td>\n",
       "      <td>8.646911e+17</td>\n",
       "      <td>8.646911e+17</td>\n",
       "    </tr>\n",
       "    <tr>\n",
       "      <th>233</th>\n",
       "      <td>167580965</td>\n",
       "      <td>True</td>\n",
       "      <td>[183624, 239076, 23522]</td>\n",
       "      <td>90025539255461313</td>\n",
       "      <td>864691135454145010</td>\n",
       "      <td>[183558, 239132, 23518]</td>\n",
       "      <td>[183512, 239068, 23512]</td>\n",
       "      <td>90025539255456955</td>\n",
       "      <td>864691136008528556</td>\n",
       "      <td>1204.0</td>\n",
       "      <td>8.646911e+17</td>\n",
       "      <td>8.646911e+17</td>\n",
       "    </tr>\n",
       "    <tr>\n",
       "      <th>234</th>\n",
       "      <td>167581026</td>\n",
       "      <td>True</td>\n",
       "      <td>[183562, 239086, 23499]</td>\n",
       "      <td>90025539255446691</td>\n",
       "      <td>864691135594705092</td>\n",
       "      <td>[183628, 239128, 23504]</td>\n",
       "      <td>[183584, 239084, 23512]</td>\n",
       "      <td>90025539255458346</td>\n",
       "      <td>864691136008528556</td>\n",
       "      <td>328.0</td>\n",
       "      <td>8.646911e+17</td>\n",
       "      <td>8.646911e+17</td>\n",
       "    </tr>\n",
       "  </tbody>\n",
       "</table>\n",
       "<p>2196 rows × 12 columns</p>\n",
       "</div>"
      ],
      "text/plain": [
       "            id  valid          pre_pt_position  pre_pt_supervoxel_id  \\\n",
       "0     92770509   True  [137036, 220554, 23068]     83619509633613772   \n",
       "1     92295389   True  [137958, 224872, 23504]     83760796878321067   \n",
       "2    107051621   True  [143000, 205778, 23818]     84461941766293729   \n",
       "3    107051674   True  [143004, 205774, 23811]     84461941766293729   \n",
       "4    113298846   True  [147356, 246832, 20291]     85030388808167240   \n",
       "..         ...    ...                      ...                   ...   \n",
       "230  169643736   True  [183640, 217206, 20692]     90022583982096732   \n",
       "231  166967052   True  [183464, 217458, 20771]     90022652701653980   \n",
       "232  166967074   True  [183488, 217516, 20753]     90022652701630247   \n",
       "233  167580965   True  [183624, 239076, 23522]     90025539255461313   \n",
       "234  167581026   True  [183562, 239086, 23499]     90025539255446691   \n",
       "\n",
       "         pre_pt_root_id          ctr_pt_position         post_pt_position  \\\n",
       "0    864691136925486410  [137072, 220518, 23064]  [137136, 220586, 23072]   \n",
       "1    864691136925486410  [137952, 224888, 23507]  [137912, 224910, 23508]   \n",
       "2    864691136925486410  [142996, 205726, 23819]  [142930, 205708, 23827]   \n",
       "3    864691136925486410  [143066, 205736, 23814]  [143098, 205756, 23812]   \n",
       "4    864691135946711649  [147420, 246842, 20296]  [147398, 246870, 20290]   \n",
       "..                  ...                      ...                      ...   \n",
       "230  864691135468692978  [183630, 217282, 20692]  [183608, 217358, 20692]   \n",
       "231  864691136859404910  [183524, 217480, 20766]  [183500, 217472, 20759]   \n",
       "232  864691135458881266  [183536, 217520, 20758]  [183562, 217448, 20759]   \n",
       "233  864691135454145010  [183558, 239132, 23518]  [183512, 239068, 23512]   \n",
       "234  864691135594705092  [183628, 239128, 23504]  [183584, 239084, 23512]   \n",
       "\n",
       "     post_pt_supervoxel_id     post_pt_root_id    size  pre_pt_root_id_Aug  \\\n",
       "0        83619509633620146  864691135558675908  4508.0        8.646911e+17   \n",
       "1        83760796878324723  864691135367338994  3488.0        8.646911e+17   \n",
       "2        84461941766303990  864691135545878152  2576.0        8.646911e+17   \n",
       "3        84461941766291497  864691136390364031  3252.0        8.646911e+17   \n",
       "4        85030388808165948  864691135360177735  2192.0        8.646911e+17   \n",
       "..                     ...                 ...     ...                 ...   \n",
       "230      90022652701568715  864691135278269857  2632.0        8.646911e+17   \n",
       "231      90022652701636980  864691135278269857  9304.0        8.646911e+17   \n",
       "232      90022652701639810  864691135278269857   288.0        8.646911e+17   \n",
       "233      90025539255456955  864691136008528556  1204.0        8.646911e+17   \n",
       "234      90025539255458346  864691136008528556   328.0        8.646911e+17   \n",
       "\n",
       "     post_pt_root_id_Aug  \n",
       "0           8.646911e+17  \n",
       "1           8.646911e+17  \n",
       "2           8.646911e+17  \n",
       "3           8.646911e+17  \n",
       "4           8.646911e+17  \n",
       "..                   ...  \n",
       "230         8.646911e+17  \n",
       "231         8.646911e+17  \n",
       "232         8.646911e+17  \n",
       "233         8.646911e+17  \n",
       "234         8.646911e+17  \n",
       "\n",
       "[2196 rows x 12 columns]"
      ]
     },
     "execution_count": 184,
     "metadata": {},
     "output_type": "execute_result"
    }
   ],
   "source": [
    "import system_utils as su\n",
    "ex_df = su.load_object(\"./Syanpse_dfs/864691134988386682.pkl\")\n",
    "ex_df"
   ]
  },
  {
   "cell_type": "code",
   "execution_count": null,
   "metadata": {},
   "outputs": [],
   "source": []
  },
  {
   "cell_type": "code",
   "execution_count": 126,
   "metadata": {},
   "outputs": [],
   "source": [
    "import time\n",
    "import datetime\n",
    "import tqdm.notebook as tqdm\n",
    "def get_input_output_df(aug_seg_id,  n_chunks=50, timestamp=datetime.datetime(2020, 8, 1, 1, 0, 0),\n",
    "                       verbose = True,):\n",
    "    st = time.time()\n",
    "    \n",
    "    svids=client.chunkedgraph.get_leaves(aug_seg_id)\n",
    "    chunks = np.array_split(svids,n_chunks)\n",
    "    #need to break the supervoxels up into chunks to query\n",
    "    out_syn_dfs=[]\n",
    "    for chunk in tqdm.tqdm(chunks):\n",
    "        dft = client.materialize.query_table('synapses_pni_2',\n",
    "                                           filter_in_dict={'pre_pt_supervoxel_id':chunk})\n",
    "        out_syn_dfs.append(dft)\n",
    "    out_syn_df = pd.concat(out_syn_dfs)\n",
    "    out_syn_df['pre_pt_root_id_Aug']=aug_seg_id\n",
    "    post_sv_ids=out_syn_df.post_pt_supervoxel_id.values\n",
    "    post_root_ids_aug = client.chunkedgraph.get_roots(post_sv_ids, timestamp=august_timestamp)\n",
    "    out_syn_df['post_pt_root_id_Aug']=post_root_ids_aug\n",
    "    #  now the same for inputs\n",
    "    in_syn_dfs=[]\n",
    "    for chunk in tqdm.tqdm(chunks):\n",
    "        dft = client.materialize.query_table('synapses_pni_2',\n",
    "                                           filter_in_dict={'post_pt_supervoxel_id':chunk})\n",
    "        in_syn_dfs.append(dft)\n",
    "    in_syn_df = pd.concat(in_syn_dfs)\n",
    "    in_syn_df['post_pt_root_id_Aug']=aug_seg_id\n",
    "    pre_sv_ids=in_syn_df.pre_pt_supervoxel_id.values\n",
    "    pre_root_ids_aug = client.chunkedgraph.get_roots(pre_sv_ids, timestamp=timestamp)\n",
    "    in_syn_df['pre_pt_root_id_Aug']=pre_root_ids_aug\n",
    "    \n",
    "    if verbose:\n",
    "        print(f\"Total time for synapse table of segment {aug_seg_id} = {time.time() - st}\")\n",
    "    return pd.concat([out_syn_df, in_syn_df])"
   ]
  },
  {
   "cell_type": "code",
   "execution_count": 127,
   "metadata": {},
   "outputs": [
    {
     "data": {
      "application/vnd.jupyter.widget-view+json": {
       "model_id": "6b7932f642104640b3f64553cb25220e",
       "version_major": 2,
       "version_minor": 0
      },
      "text/plain": [
       "  0%|          | 0/50 [00:00<?, ?it/s]"
      ]
     },
     "metadata": {},
     "output_type": "display_data"
    },
    {
     "ename": "HTTPError",
     "evalue": "504 Server Error: Gateway Time-out for url: https://minnie.microns-daf.com/materialize/api/v2/datastack/minnie65_phase3_v1/version/82/table/synapses_pni_2/query?return_pyarrow=True&split_positions=False content:b'<html>\\r\\n<head><title>504 Gateway Time-out</title></head>\\r\\n<body>\\r\\n<center><h1>504 Gateway Time-out</h1></center>\\r\\n<hr><center>nginx</center>\\r\\n</body>\\r\\n</html>\\r\\n'",
     "output_type": "error",
     "traceback": [
      "\u001b[0;31m---------------------------------------------------------------------------\u001b[0m",
      "\u001b[0;31mHTTPError\u001b[0m                                 Traceback (most recent call last)",
      "\u001b[0;32m<ipython-input-127-e2fa36b7a5e5>\u001b[0m in \u001b[0;36m<module>\u001b[0;34m\u001b[0m\n\u001b[0;32m----> 1\u001b[0;31m \u001b[0mret_df\u001b[0m \u001b[0;34m=\u001b[0m \u001b[0mget_input_output_df\u001b[0m\u001b[0;34m(\u001b[0m\u001b[0;36m864691136134446219\u001b[0m\u001b[0;34m)\u001b[0m\u001b[0;34m\u001b[0m\u001b[0;34m\u001b[0m\u001b[0m\n\u001b[0m",
      "\u001b[0;32m<ipython-input-126-80115f83633b>\u001b[0m in \u001b[0;36mget_input_output_df\u001b[0;34m(aug_seg_id, n_chunks, timestamp, verbose)\u001b[0m\n\u001b[1;32m     12\u001b[0m     \u001b[0;32mfor\u001b[0m \u001b[0mchunk\u001b[0m \u001b[0;32min\u001b[0m \u001b[0mtqdm\u001b[0m\u001b[0;34m.\u001b[0m\u001b[0mtqdm\u001b[0m\u001b[0;34m(\u001b[0m\u001b[0mchunks\u001b[0m\u001b[0;34m)\u001b[0m\u001b[0;34m:\u001b[0m\u001b[0;34m\u001b[0m\u001b[0;34m\u001b[0m\u001b[0m\n\u001b[1;32m     13\u001b[0m         dft = client.materialize.query_table('synapses_pni_2',\n\u001b[0;32m---> 14\u001b[0;31m                                            filter_in_dict={'pre_pt_supervoxel_id':chunk})\n\u001b[0m\u001b[1;32m     15\u001b[0m         \u001b[0mout_syn_dfs\u001b[0m\u001b[0;34m.\u001b[0m\u001b[0mappend\u001b[0m\u001b[0;34m(\u001b[0m\u001b[0mdft\u001b[0m\u001b[0;34m)\u001b[0m\u001b[0;34m\u001b[0m\u001b[0;34m\u001b[0m\u001b[0m\n\u001b[1;32m     16\u001b[0m     \u001b[0mout_syn_df\u001b[0m \u001b[0;34m=\u001b[0m \u001b[0mpd\u001b[0m\u001b[0;34m.\u001b[0m\u001b[0mconcat\u001b[0m\u001b[0;34m(\u001b[0m\u001b[0mout_syn_dfs\u001b[0m\u001b[0;34m)\u001b[0m\u001b[0;34m\u001b[0m\u001b[0;34m\u001b[0m\u001b[0m\n",
      "\u001b[0;32m/usr/local/lib/python3.6/dist-packages/annotationframeworkclient/materializationengine.py\u001b[0m in \u001b[0;36mquery_table\u001b[0;34m(self, table, filter_in_dict, filter_out_dict, filter_equal_dict, filter_spatial, join_args, select_columns, offset, limit, datastack_name, return_df, split_positions, materialization_version)\u001b[0m\n\u001b[1;32m    413\u001b[0m                                      \u001b[0mstream\u001b[0m\u001b[0;34m=\u001b[0m\u001b[0;34m~\u001b[0m\u001b[0mreturn_df\u001b[0m\u001b[0;34m,\u001b[0m\u001b[0;34m\u001b[0m\u001b[0;34m\u001b[0m\u001b[0m\n\u001b[1;32m    414\u001b[0m                                      verify=self.verify)                         \n\u001b[0;32m--> 415\u001b[0;31m         \u001b[0mself\u001b[0m\u001b[0;34m.\u001b[0m\u001b[0mraise_for_status\u001b[0m\u001b[0;34m(\u001b[0m\u001b[0mresponse\u001b[0m\u001b[0;34m)\u001b[0m\u001b[0;34m\u001b[0m\u001b[0;34m\u001b[0m\u001b[0m\n\u001b[0m\u001b[1;32m    416\u001b[0m         \u001b[0;32mif\u001b[0m \u001b[0mreturn_df\u001b[0m\u001b[0;34m:\u001b[0m\u001b[0;34m\u001b[0m\u001b[0;34m\u001b[0m\u001b[0m\n\u001b[1;32m    417\u001b[0m             \u001b[0;32mreturn\u001b[0m \u001b[0mpa\u001b[0m\u001b[0;34m.\u001b[0m\u001b[0mdeserialize\u001b[0m\u001b[0;34m(\u001b[0m\u001b[0mresponse\u001b[0m\u001b[0;34m.\u001b[0m\u001b[0mcontent\u001b[0m\u001b[0;34m)\u001b[0m\u001b[0;34m\u001b[0m\u001b[0;34m\u001b[0m\u001b[0m\n",
      "\u001b[0;32m/usr/local/lib/python3.6/dist-packages/annotationframeworkclient/base.py\u001b[0m in \u001b[0;36mraise_for_status\u001b[0;34m(r)\u001b[0m\n\u001b[1;32m    127\u001b[0m \u001b[0;34m\u001b[0m\u001b[0m\n\u001b[1;32m    128\u001b[0m         \u001b[0;32mif\u001b[0m \u001b[0mhttp_error_msg\u001b[0m\u001b[0;34m:\u001b[0m\u001b[0;34m\u001b[0m\u001b[0;34m\u001b[0m\u001b[0m\n\u001b[0;32m--> 129\u001b[0;31m             \u001b[0;32mraise\u001b[0m \u001b[0mrequests\u001b[0m\u001b[0;34m.\u001b[0m\u001b[0mHTTPError\u001b[0m\u001b[0;34m(\u001b[0m\u001b[0mhttp_error_msg\u001b[0m\u001b[0;34m,\u001b[0m \u001b[0mresponse\u001b[0m\u001b[0;34m=\u001b[0m\u001b[0mr\u001b[0m\u001b[0;34m)\u001b[0m\u001b[0;34m\u001b[0m\u001b[0;34m\u001b[0m\u001b[0m\n\u001b[0m\u001b[1;32m    130\u001b[0m         \u001b[0mwarning\u001b[0m \u001b[0;34m=\u001b[0m \u001b[0mr\u001b[0m\u001b[0;34m.\u001b[0m\u001b[0mheaders\u001b[0m\u001b[0;34m.\u001b[0m\u001b[0mget\u001b[0m\u001b[0;34m(\u001b[0m\u001b[0;34m'Warning'\u001b[0m\u001b[0;34m)\u001b[0m\u001b[0;34m\u001b[0m\u001b[0;34m\u001b[0m\u001b[0m\n\u001b[1;32m    131\u001b[0m         \u001b[0;32mif\u001b[0m \u001b[0mwarning\u001b[0m\u001b[0;34m:\u001b[0m\u001b[0;34m\u001b[0m\u001b[0;34m\u001b[0m\u001b[0m\n",
      "\u001b[0;31mHTTPError\u001b[0m: 504 Server Error: Gateway Time-out for url: https://minnie.microns-daf.com/materialize/api/v2/datastack/minnie65_phase3_v1/version/82/table/synapses_pni_2/query?return_pyarrow=True&split_positions=False content:b'<html>\\r\\n<head><title>504 Gateway Time-out</title></head>\\r\\n<body>\\r\\n<center><h1>504 Gateway Time-out</h1></center>\\r\\n<hr><center>nginx</center>\\r\\n</body>\\r\\n</html>\\r\\n'"
     ]
    }
   ],
   "source": [
    "ret_df = get_input_output_df(864691136134446219)"
   ]
  },
  {
   "cell_type": "code",
   "execution_count": null,
   "metadata": {},
   "outputs": [],
   "source": []
  },
  {
   "cell_type": "code",
   "execution_count": null,
   "metadata": {},
   "outputs": [],
   "source": []
  },
  {
   "cell_type": "code",
   "execution_count": null,
   "metadata": {},
   "outputs": [],
   "source": [
    "@schema\n",
    "class AutoProofreadValidationSegmentExclude(dj.Manual):\n",
    "    definition=\"\"\"\n",
    "    segment_id           : bigint unsigned               # segments that were not finished proofreading\n",
    "    \"\"\"\n",
    "AutoProofreadValidationSegmentExclude.insert((dj.U(\"segment_id\") & (old_rel & [{'nucleus_id': n} for n in exclude])).fetch(as_dict=True),skip_duplicates=True)\n",
    "AutoProofreadValidationSegmentExclude()"
   ]
  },
  {
   "cell_type": "markdown",
   "metadata": {},
   "source": [
    "# Creating the Table with the valid synapses"
   ]
  },
  {
   "cell_type": "code",
   "execution_count": null,
   "metadata": {},
   "outputs": [],
   "source": [
    "minnie.AutoProofreadValidationManualSynapseUpdated"
   ]
  },
  {
   "cell_type": "code",
   "execution_count": null,
   "metadata": {},
   "outputs": [],
   "source": [
    "m65mat.ProofreadSynapse.describe()"
   ]
  },
  {
   "cell_type": "code",
   "execution_count": null,
   "metadata": {},
   "outputs": [],
   "source": [
    "\"\"\"\n",
    "Purpose: To Create a table that has the \n",
    "valid synpases for the proofread targets\n",
    "that can be used to restrict the set determined in the synapse spreadsheet\n",
    "\n",
    "Pseudocode: \n",
    "\n",
    "\"\"\"\n",
    "\n",
    "@schema\n",
    "class AutoProofreadValidationManualSynapseUpdated(dj.Manual):\n",
    "    definition=\"\"\"\n",
    "    -> m65mat.Materialization\n",
    "    synapse_id           : bigint unsigned              # synapse index within the segmentation\n",
    "    presyn               : bigint unsigned              # segment_id of the presynaptic cell. Equivalent to Allen 'pt_root_id'.\n",
    "    postsyn              : bigint unsigned              # segment_id of the postsynaptic cell. Equivalent to Allen 'pt_root_id'.\n",
    "    ---\n",
    "    synapse_x            : int unsigned                 # x coordinate of synapse centroid in EM voxels (x: 4nm, y: 4nm, z: 40nm). From Allen 'ctr_pt_position'.\n",
    "    synapse_y            : int unsigned                 # y coordinate of centroid in EM voxels (x: 4nm, y: 4nm, z: 40nm). From Allen 'ctr_pt_position'.\n",
    "    synapse_z            : int unsigned                 # z coordinate of centroid in EM voxels (x: 4nm, y: 4nm, z: 40nm). From Allen 'ctr_pt_position'.\n",
    "    synapse_size         : int unsigned                 # (EM voxels) scaled by (4x4x40)\n",
    "    \"\"\""
   ]
  },
  {
   "cell_type": "code",
   "execution_count": null,
   "metadata": {},
   "outputs": [],
   "source": [
    "presyn_table = m65mat.ProofreadSynapse & subfinal.proj(presyn='segment_id')\n",
    "presyn_data = presyn_table.proj(\"synapse_x\",\"synapse_y\",\"synapse_z\",\"synapse_size\").fetch(as_dict=True)\n",
    "AutoProofreadValidationManualSynapseUpdated.insert(presyn_data,skip_duplicates=True)"
   ]
  },
  {
   "cell_type": "code",
   "execution_count": null,
   "metadata": {},
   "outputs": [],
   "source": [
    "postsyn_table = m65mat.ProofreadSynapse & subfinal.proj(postsyn='segment_id')\n",
    "postsyn_data = postsyn_table.proj(\"synapse_x\",\"synapse_y\",\"synapse_z\",\"synapse_size\").fetch(as_dict=True)\n",
    "AutoProofreadValidationManualSynapseUpdated.insert(postsyn_data,skip_duplicates=True)"
   ]
  },
  {
   "cell_type": "code",
   "execution_count": null,
   "metadata": {},
   "outputs": [],
   "source": [
    "minnie.AutoProofreadValidationManualSynapseUpdated()"
   ]
  },
  {
   "cell_type": "code",
   "execution_count": null,
   "metadata": {},
   "outputs": [],
   "source": []
  }
 ],
 "metadata": {
  "kernelspec": {
   "display_name": "Python 3",
   "language": "python",
   "name": "python3"
  },
  "language_info": {
   "codemirror_mode": {
    "name": "ipython",
    "version": 3
   },
   "file_extension": ".py",
   "mimetype": "text/x-python",
   "name": "python",
   "nbconvert_exporter": "python",
   "pygments_lexer": "ipython3",
   "version": "3.6.9"
  }
 },
 "nbformat": 4,
 "nbformat_minor": 2
}
