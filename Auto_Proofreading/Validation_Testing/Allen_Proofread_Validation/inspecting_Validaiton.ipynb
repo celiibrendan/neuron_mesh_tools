{
 "cells": [
  {
   "cell_type": "code",
   "execution_count": null,
   "metadata": {},
   "outputs": [],
   "source": [
    "\"\"\"\n",
    "Purpose: To visualize the scores of different neurons\n",
    "and figure out how we can improve the version 3 process\n",
    "before the big run\n",
    "\n",
    "\n",
    "\"\"\""
   ]
  },
  {
   "cell_type": "code",
   "execution_count": 1,
   "metadata": {},
   "outputs": [],
   "source": [
    "%load_ext autoreload\n",
    "%autoreload 2"
   ]
  },
  {
   "cell_type": "code",
   "execution_count": 2,
   "metadata": {},
   "outputs": [],
   "source": [
    "from os import sys\n",
    "sys.path.append(\"/meshAfterParty/\")\n",
    "sys.path.append(\"/meshAfterParty/meshAfterParty/\")"
   ]
  },
  {
   "cell_type": "code",
   "execution_count": 3,
   "metadata": {},
   "outputs": [
    {
     "name": "stderr",
     "output_type": "stream",
     "text": [
      "INFO - 2021-04-21 02:06:16,332 - settings - Setting database.host to at-database.ad.bcm.edu\n",
      "INFO - 2021-04-21 02:06:16,334 - settings - Setting database.user to celiib\n",
      "INFO - 2021-04-21 02:06:16,335 - settings - Setting database.password to newceliipass\n",
      "INFO - 2021-04-21 02:06:16,339 - settings - Setting stores to {'minnie65': {'protocol': 'file', 'location': '/mnt/dj-stor01/platinum/minnie65', 'stage': '/mnt/dj-stor01/platinum/minnie65'}, 'meshes': {'protocol': 'file', 'location': '/mnt/dj-stor01/platinum/minnie65/02/meshes', 'stage': '/mnt/dj-stor01/platinum/minnie65/02/meshes'}, 'decimated_meshes': {'protocol': 'file', 'location': '/mnt/dj-stor01/platinum/minnie65/02/decimated_meshes', 'stage': '/mnt/dj-stor01/platinum/minnie65/02/decimated_meshes'}, 'skeletons': {'protocol': 'file', 'location': '/mnt/dj-stor01/platinum/minnie65/02/skeletons'}}\n",
      "INFO - 2021-04-21 02:06:16,340 - settings - Setting enable_python_native_blobs to True\n",
      "INFO - 2021-04-21 02:06:16,355 - connection - Connected celiib@at-database.ad.bcm.edu:3306\n"
     ]
    },
    {
     "name": "stdout",
     "output_type": "stream",
     "text": [
      "Connecting celiib@at-database.ad.bcm.edu:3306\n"
     ]
    },
    {
     "name": "stderr",
     "output_type": "stream",
     "text": [
      "INFO - 2021-04-21 02:06:16,729 - settings - Setting enable_python_native_blobs to True\n",
      "INFO - 2021-04-21 02:06:16,732 - settings - Setting database.host to at-database.ad.bcm.edu\n",
      "INFO - 2021-04-21 02:06:16,733 - settings - Setting database.user to celiib\n",
      "INFO - 2021-04-21 02:06:16,734 - settings - Setting database.password to newceliipass\n",
      "INFO - 2021-04-21 02:06:16,735 - settings - Setting database.host to at-database.ad.bcm.edu\n",
      "INFO - 2021-04-21 02:06:16,736 - settings - Setting database.user to celiib\n",
      "INFO - 2021-04-21 02:06:16,737 - settings - Setting database.password to newceliipass\n",
      "INFO - 2021-04-21 02:06:16,739 - settings - Setting enable_python_native_blobs to True\n",
      "INFO - 2021-04-21 02:06:17,134 - settings - Setting enable_python_native_blobs to True\n",
      "INFO - 2021-04-21 02:06:17,173 - settings - Setting database.host to at-database.ad.bcm.edu\n",
      "INFO - 2021-04-21 02:06:17,174 - settings - Setting database.user to celiib\n",
      "INFO - 2021-04-21 02:06:17,175 - settings - Setting database.password to newceliipass\n",
      "INFO - 2021-04-21 02:06:17,177 - settings - Setting enable_python_native_blobs to True\n",
      "INFO - 2021-04-21 02:06:17,611 - settings - Setting enable_python_native_blobs to True\n"
     ]
    }
   ],
   "source": [
    "import datajoint_utils as du\n",
    "minnie,schema = du.configure_minnie_vm()"
   ]
  },
  {
   "cell_type": "code",
   "execution_count": 4,
   "metadata": {},
   "outputs": [],
   "source": [
    "from pathlib import Path\n",
    "import numpy as np\n",
    "import neuron_visualizations as nviz\n",
    "import datajoint as dj\n",
    "\n",
    "import proofreading_utils as pru\n",
    "import classification_utils as clu\n",
    "\n",
    "import neuron_utils as nru\n",
    "import validation_utils as vu\n",
    "import pandas as pd"
   ]
  },
  {
   "cell_type": "code",
   "execution_count": 5,
   "metadata": {},
   "outputs": [],
   "source": [
    "import validation_utils as vu"
   ]
  },
  {
   "cell_type": "code",
   "execution_count": 10,
   "metadata": {},
   "outputs": [
    {
     "data": {
      "text/html": [
       "\n",
       "        \n",
       "        <style type=\"text/css\">\n",
       "            .Relation{\n",
       "                border-collapse:collapse;\n",
       "            }\n",
       "            .Relation th{\n",
       "                background: #A0A0A0; color: #ffffff; padding:4px; border:#f0e0e0 1px solid;\n",
       "                font-weight: normal; font-family: monospace; font-size: 100%;\n",
       "            }\n",
       "            .Relation td{\n",
       "                padding:4px; border:#f0e0e0 1px solid; font-size:100%;\n",
       "            }\n",
       "            .Relation tr:nth-child(odd){\n",
       "                background: #ffffff;\n",
       "            }\n",
       "            .Relation tr:nth-child(even){\n",
       "                background: #f3f1ff;\n",
       "            }\n",
       "            /* Tooltip container */\n",
       "            .djtooltip {\n",
       "            }\n",
       "            /* Tooltip text */\n",
       "            .djtooltip .djtooltiptext {\n",
       "                visibility: hidden;\n",
       "                width: 120px;\n",
       "                background-color: black;\n",
       "                color: #fff;\n",
       "                text-align: center;\n",
       "                padding: 5px 0;\n",
       "                border-radius: 6px;\n",
       "                /* Position the tooltip text - see examples below! */\n",
       "                position: absolute;\n",
       "                z-index: 1;\n",
       "            }\n",
       "            #primary {\n",
       "                font-weight: bold;\n",
       "                color: black;\n",
       "            }\n",
       "\n",
       "            #nonprimary {\n",
       "                font-weight: normal;\n",
       "                color: white;\n",
       "            }\n",
       "\n",
       "            /* Show the tooltip text when you mouse over the tooltip container */\n",
       "            .djtooltip:hover .djtooltiptext {\n",
       "                visibility: visible;\n",
       "            }\n",
       "        </style>\n",
       "        \n",
       "        \n",
       "            <div style=\"max-height:1000px;max-width:1500px;overflow:auto;\">\n",
       "            <table border=\"1\" class=\"Relation\">\n",
       "                <thead> <tr style=\"text-align: right;\"> <th> <div class=\"djtooltip\">\n",
       "                                <p id=\"primary\">segment_id</p>\n",
       "                                <span class=\"djtooltiptext\">segment id unique within each Segmentation</span>\n",
       "                            </div></th><th><div class=\"djtooltip\">\n",
       "                                <p id=\"primary\">decimation_version</p>\n",
       "                                <span class=\"djtooltiptext\"></span>\n",
       "                            </div></th><th><div class=\"djtooltip\">\n",
       "                                <p id=\"primary\">decimation_ratio</p>\n",
       "                                <span class=\"djtooltiptext\">ratio of remaining mesh vertices/faces (which ones depends on what metric the decimation technique uses)</span>\n",
       "                            </div> </th> </tr> </thead>\n",
       "                <tbody> <tr> <td>864691134988386682</td>\n",
       "<td>0</td>\n",
       "<td>0.25</td></tr><tr><td>864691135113167769</td>\n",
       "<td>0</td>\n",
       "<td>0.25</td></tr><tr><td>864691135212632448</td>\n",
       "<td>0</td>\n",
       "<td>0.25</td></tr><tr><td>864691135212690816</td>\n",
       "<td>0</td>\n",
       "<td>0.25</td></tr><tr><td>864691135233108569</td>\n",
       "<td>0</td>\n",
       "<td>0.25</td></tr><tr><td>864691135272164113</td>\n",
       "<td>0</td>\n",
       "<td>0.25</td></tr><tr><td>864691135348272855</td>\n",
       "<td>0</td>\n",
       "<td>0.25</td></tr><tr><td>864691135382947307</td>\n",
       "<td>0</td>\n",
       "<td>0.25</td></tr><tr><td>864691135393964789</td>\n",
       "<td>0</td>\n",
       "<td>0.25</td></tr><tr><td>864691135407289801</td>\n",
       "<td>0</td>\n",
       "<td>0.25</td></tr><tr><td>864691135491233631</td>\n",
       "<td>0</td>\n",
       "<td>0.25</td></tr><tr><td>864691135501578306</td>\n",
       "<td>0</td>\n",
       "<td>0.25</td> </tr> </tbody>\n",
       "            </table>\n",
       "            <p>...</p>\n",
       "            <p>Total: 63</p></div>\n",
       "            "
      ],
      "text/plain": [
       "*segment_id    *decimation_ve *decimation_ra\n",
       "+------------+ +------------+ +------------+\n",
       "86469113498838 0              0.25          \n",
       "86469113511316 0              0.25          \n",
       "86469113521263 0              0.25          \n",
       "86469113521269 0              0.25          \n",
       "86469113523310 0              0.25          \n",
       "86469113527216 0              0.25          \n",
       "86469113534827 0              0.25          \n",
       "86469113538294 0              0.25          \n",
       "86469113539396 0              0.25          \n",
       "86469113540728 0              0.25          \n",
       "86469113549123 0              0.25          \n",
       "86469113550157 0              0.25          \n",
       "   ...\n",
       " (Total: 63)"
      ]
     },
     "execution_count": 10,
     "metadata": {},
     "output_type": "execute_result"
    }
   ],
   "source": [
    "decimation_version = 0\n",
    "decimation_ratio = 0.25\n",
    "process_version = 7\n",
    "\n",
    "key_source = ((minnie.Decimation).proj(decimation_version='version') & \n",
    "                            \"decimation_version=\" + str(decimation_version) &\n",
    "                       f\"decimation_ratio={decimation_ratio}\" &  (minnie.BaylorSegmentCentroid() & \"multiplicity>0\")\n",
    "                 & minnie.AutoProofreadValidationSegment()) \n",
    "key_source"
   ]
  },
  {
   "cell_type": "markdown",
   "metadata": {},
   "source": [
    "# Getting the Validation Statistics"
   ]
  },
  {
   "cell_type": "code",
   "execution_count": null,
   "metadata": {
    "scrolled": true
   },
   "outputs": [],
   "source": [
    "segment_ids = du.proofreading_stats_table(validation=True).fetch(\"segment_id\")\n",
    "\n",
    "validation_dfs = [vu.synapse_validation_df_single_neuron(k,\n",
    "                                        remove_presyn_on_dendrite = False,\n",
    "                        count_presyn_on_dendrite_as_correct = True,\n",
    "                                                        include_extension_synapse=False) for k in segment_ids]"
   ]
  },
  {
   "cell_type": "markdown",
   "metadata": {},
   "source": [
    "# Develop the Visualizations for the FP, FN, Tp, TN visualization function"
   ]
  },
  {
   "cell_type": "code",
   "execution_count": null,
   "metadata": {},
   "outputs": [],
   "source": [
    "curr_validation_df = validation_dfs[6]"
   ]
  },
  {
   "cell_type": "code",
   "execution_count": null,
   "metadata": {},
   "outputs": [],
   "source": [
    "du.plot_proofread_validation_neuron(\n",
    "    #segment_id = 864691136370815112,\n",
    "    validation_df=curr_validation_df,\n",
    "    verbose = True,\n",
    "    synapse_type = \"presyn\",\n",
    ")"
   ]
  },
  {
   "cell_type": "markdown",
   "metadata": {},
   "source": [
    "# Trying the new crossover resolve method"
   ]
  },
  {
   "cell_type": "code",
   "execution_count": null,
   "metadata": {},
   "outputs": [],
   "source": [
    "segment_id = vu.validation_df_to_old_segment_id(curr_validation_df)\n",
    "segment_id"
   ]
  },
  {
   "cell_type": "code",
   "execution_count": null,
   "metadata": {},
   "outputs": [],
   "source": [
    "\"\"\"\n",
    "Pseudocode: \n",
    "\n",
    "\"\"\"\n",
    "\n",
    "neuron_objs,neuron_split_idxs = du.decomposition_with_spine_recalculation(segment_id)"
   ]
  },
  {
   "cell_type": "code",
   "execution_count": null,
   "metadata": {},
   "outputs": [],
   "source": [
    "neuron_obj = neuron_objs[0]\n",
    "neuron_obj.segment_id"
   ]
  },
  {
   "cell_type": "code",
   "execution_count": null,
   "metadata": {},
   "outputs": [],
   "source": [
    "clu.axon_classification(neuron_obj)"
   ]
  },
  {
   "cell_type": "code",
   "execution_count": null,
   "metadata": {
    "scrolled": true
   },
   "outputs": [],
   "source": [
    "import proofreading_utils as pru\n",
    "o_neuron,filter_dict = pru.proofread_neuron_class_predetermined(neuron_obj,\n",
    "    perform_axon_classification=False,\n",
    "    inh_exc_class=\"excitatory\",\n",
    "    plot_limb_branch_filter_with_disconnect_effect = True,\n",
    "\n",
    "    high_fidelity_axon_on_excitatory = True,\n",
    "    plot_final_filtered_neuron = False,\n",
    "\n",
    "    #arguments for the axon high fidelity:\n",
    "    plot_new_axon_limb_correspondence = True,\n",
    "    plot_new_limb_object = False,\n",
    "    plot_final_revised_axon_branch = False,\n",
    "\n",
    "    verbose = False,\n",
    "    verbose_outline = True)"
   ]
  },
  {
   "cell_type": "code",
   "execution_count": null,
   "metadata": {},
   "outputs": [],
   "source": [
    "nviz.visualize_neuron(o_neuron,\n",
    "                     limb_branch_dict=\"all\")"
   ]
  },
  {
   "cell_type": "code",
   "execution_count": null,
   "metadata": {},
   "outputs": [],
   "source": []
  },
  {
   "cell_type": "code",
   "execution_count": null,
   "metadata": {},
   "outputs": [],
   "source": []
  },
  {
   "cell_type": "code",
   "execution_count": null,
   "metadata": {},
   "outputs": [],
   "source": []
  },
  {
   "cell_type": "code",
   "execution_count": null,
   "metadata": {},
   "outputs": [],
   "source": []
  },
  {
   "cell_type": "code",
   "execution_count": null,
   "metadata": {},
   "outputs": [],
   "source": []
  },
  {
   "cell_type": "code",
   "execution_count": null,
   "metadata": {},
   "outputs": [],
   "source": [
    "matched_branches = list(return_info[0])\n",
    "match_branches_angle = list(return_info[1])\n",
    "matched_branches,match_branches_angle\n",
    "\n"
   ]
  },
  {
   "cell_type": "code",
   "execution_count": null,
   "metadata": {},
   "outputs": [],
   "source": [
    "\n",
    "\n",
    "return_info = xu.degree_1_max_edge_min_max_weight_graph(\n",
    "    G = G,\n",
    "    verbose = False,\n",
    "    plot_winning_graph = False,\n",
    "return_edge_info=True)\n",
    "\n",
    "return_info\n",
    "\n",
    "#xu.get_edges_with_weights(ret_G)"
   ]
  },
  {
   "cell_type": "code",
   "execution_count": null,
   "metadata": {},
   "outputs": [],
   "source": []
  },
  {
   "cell_type": "code",
   "execution_count": null,
   "metadata": {},
   "outputs": [],
   "source": [
    "import networkx as nx"
   ]
  },
  {
   "cell_type": "code",
   "execution_count": null,
   "metadata": {},
   "outputs": [],
   "source": [
    "G = nx.Graph()\n",
    "G.add_weighted_edges_from([[1,2,10],[1,3,20],[1,4,50],[4,5,1]])\n",
    "nx.draw(G,with_labels=True)"
   ]
  },
  {
   "cell_type": "code",
   "execution_count": null,
   "metadata": {},
   "outputs": [],
   "source": [
    "xu.sum_of_edge_weights(G)"
   ]
  },
  {
   "cell_type": "code",
   "execution_count": null,
   "metadata": {},
   "outputs": [],
   "source": [
    "xu.max_node_degree(G)"
   ]
  },
  {
   "cell_type": "code",
   "execution_count": null,
   "metadata": {},
   "outputs": [],
   "source": [
    "import networkx_utils as xu\n",
    "xu.all_subgraph_edges(G)"
   ]
  },
  {
   "cell_type": "code",
   "execution_count": null,
   "metadata": {},
   "outputs": [],
   "source": []
  },
  {
   "cell_type": "code",
   "execution_count": null,
   "metadata": {},
   "outputs": [],
   "source": [
    "G.score()"
   ]
  },
  {
   "cell_type": "code",
   "execution_count": null,
   "metadata": {},
   "outputs": [],
   "source": []
  }
 ],
 "metadata": {
  "kernelspec": {
   "display_name": "Python 3",
   "language": "python",
   "name": "python3"
  },
  "language_info": {
   "codemirror_mode": {
    "name": "ipython",
    "version": 3
   },
   "file_extension": ".py",
   "mimetype": "text/x-python",
   "name": "python",
   "nbconvert_exporter": "python",
   "pygments_lexer": "ipython3",
   "version": "3.6.9"
  }
 },
 "nbformat": 4,
 "nbformat_minor": 4
}
