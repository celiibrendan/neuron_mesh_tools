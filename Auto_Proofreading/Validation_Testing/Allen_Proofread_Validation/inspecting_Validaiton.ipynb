{
 "cells": [
  {
   "cell_type": "code",
   "execution_count": 1,
   "metadata": {},
   "outputs": [
    {
     "data": {
      "text/plain": [
       "'\\nPurpose: To visualize the scores of different neurons\\nand figure out how we can improve the version 3 process\\nbefore the big run\\n\\n\\n'"
      ]
     },
     "execution_count": 1,
     "metadata": {},
     "output_type": "execute_result"
    }
   ],
   "source": [
    "\"\"\"\n",
    "Purpose: To visualize the scores of different neurons\n",
    "and figure out how we can improve the version 3 process\n",
    "before the big run\n",
    "\n",
    "\n",
    "\"\"\""
   ]
  },
  {
   "cell_type": "code",
   "execution_count": 2,
   "metadata": {},
   "outputs": [],
   "source": [
    "%load_ext autoreload\n",
    "%autoreload 2"
   ]
  },
  {
   "cell_type": "code",
   "execution_count": 3,
   "metadata": {},
   "outputs": [],
   "source": [
    "from os import sys\n",
    "sys.path.append(\"/meshAfterParty/\")\n",
    "sys.path.append(\"/meshAfterParty/meshAfterParty/\")"
   ]
  },
  {
   "cell_type": "code",
   "execution_count": 4,
   "metadata": {},
   "outputs": [
    {
     "name": "stderr",
     "output_type": "stream",
     "text": [
      "INFO - 2021-02-26 16:47:55,451 - settings - Setting database.host to at-database.ad.bcm.edu\n",
      "INFO - 2021-02-26 16:47:55,453 - settings - Setting database.user to celiib\n",
      "INFO - 2021-02-26 16:47:55,454 - settings - Setting database.password to newceliipass\n",
      "INFO - 2021-02-26 16:47:55,466 - settings - Setting stores to {'minnie65': {'protocol': 'file', 'location': '/mnt/dj-stor01/platinum/minnie65', 'stage': '/mnt/dj-stor01/platinum/minnie65'}, 'meshes': {'protocol': 'file', 'location': '/mnt/dj-stor01/platinum/minnie65/02/meshes', 'stage': '/mnt/dj-stor01/platinum/minnie65/02/meshes'}, 'decimated_meshes': {'protocol': 'file', 'location': '/mnt/dj-stor01/platinum/minnie65/02/decimated_meshes', 'stage': '/mnt/dj-stor01/platinum/minnie65/02/decimated_meshes'}, 'skeletons': {'protocol': 'file', 'location': '/mnt/dj-stor01/platinum/minnie65/02/skeletons'}}\n",
      "INFO - 2021-02-26 16:47:55,468 - settings - Setting enable_python_native_blobs to True\n",
      "INFO - 2021-02-26 16:47:55,484 - connection - Connected celiib@at-database.ad.bcm.edu:3306\n"
     ]
    },
    {
     "name": "stdout",
     "output_type": "stream",
     "text": [
      "Connecting celiib@at-database.ad.bcm.edu:3306\n"
     ]
    },
    {
     "name": "stderr",
     "output_type": "stream",
     "text": [
      "INFO - 2021-02-26 16:47:55,868 - settings - Setting enable_python_native_blobs to True\n",
      "INFO - 2021-02-26 16:47:55,902 - settings - Setting enable_python_native_blobs to True\n",
      "INFO - 2021-02-26 16:47:56,318 - settings - Setting enable_python_native_blobs to True\n"
     ]
    }
   ],
   "source": [
    "import datajoint_utils as du\n",
    "minnie,schema = du.configure_minnie_vm()"
   ]
  },
  {
   "cell_type": "code",
   "execution_count": 5,
   "metadata": {},
   "outputs": [
    {
     "name": "stderr",
     "output_type": "stream",
     "text": [
      "INFO - 2021-02-26 16:48:35,834 - settings - Setting enable_python_native_blobs to True\n",
      "INFO - 2021-02-26 16:48:36,312 - settings - Setting enable_python_native_blobs to True\n"
     ]
    }
   ],
   "source": [
    "from pathlib import Path\n",
    "import numpy as np\n",
    "import neuron_visualizations as nviz\n",
    "import datajoint as dj\n",
    "\n",
    "import proofreading_utils as pru\n",
    "import classification_utils as clu\n",
    "\n",
    "import neuron_utils as nru\n",
    "import validation_utils as vu\n",
    "import pandas as pd"
   ]
  },
  {
   "cell_type": "code",
   "execution_count": 6,
   "metadata": {},
   "outputs": [],
   "source": [
    "import validation_utils as vu"
   ]
  },
  {
   "cell_type": "markdown",
   "metadata": {},
   "source": [
    "# Getting the Validation Statistics"
   ]
  },
  {
   "cell_type": "code",
   "execution_count": 28,
   "metadata": {
    "scrolled": true
   },
   "outputs": [
    {
     "name": "stdout",
     "output_type": "stream",
     "text": [
      "Synapsse Results:\n",
      "Total Number of Synapses = 3990\n",
      "n_valid_syn_ids_presyn = 5\n",
      "n_errored_syn_ids_presyn = 29\n",
      "n_valid_syn_ids_postsyn = 3891\n",
      "n_errored_syn_ids_postsyn = 65\n",
      "Synapsse Results:\n",
      "Total Number of Synapses = 4434\n",
      "n_valid_syn_ids_presyn = 73\n",
      "n_errored_syn_ids_presyn = 448\n",
      "n_valid_syn_ids_postsyn = 3899\n",
      "n_errored_syn_ids_postsyn = 14\n",
      "Synapsse Results:\n",
      "Total Number of Synapses = 923\n",
      "n_valid_syn_ids_presyn = 13\n",
      "n_errored_syn_ids_presyn = 153\n",
      "n_valid_syn_ids_postsyn = 753\n",
      "n_errored_syn_ids_postsyn = 4\n",
      "Synapsse Results:\n",
      "Total Number of Synapses = 4361\n",
      "n_valid_syn_ids_presyn = 87\n",
      "n_errored_syn_ids_presyn = 620\n",
      "n_valid_syn_ids_postsyn = 3649\n",
      "n_errored_syn_ids_postsyn = 5\n",
      "Synapsse Results:\n",
      "Total Number of Synapses = 3452\n",
      "n_valid_syn_ids_presyn = 76\n",
      "n_errored_syn_ids_presyn = 345\n",
      "n_valid_syn_ids_postsyn = 3007\n",
      "n_errored_syn_ids_postsyn = 24\n",
      "Synapsse Results:\n",
      "Total Number of Synapses = 3190\n",
      "n_valid_syn_ids_presyn = 18\n",
      "n_errored_syn_ids_presyn = 89\n",
      "n_valid_syn_ids_postsyn = 3081\n",
      "n_errored_syn_ids_postsyn = 2\n",
      "Synapsse Results:\n",
      "Total Number of Synapses = 3772\n",
      "n_valid_syn_ids_presyn = 39\n",
      "n_errored_syn_ids_presyn = 374\n",
      "n_valid_syn_ids_postsyn = 3319\n",
      "n_errored_syn_ids_postsyn = 40\n",
      "Synapsse Results:\n",
      "Total Number of Synapses = 3611\n",
      "n_valid_syn_ids_presyn = 0\n",
      "n_errored_syn_ids_presyn = 277\n",
      "n_valid_syn_ids_postsyn = 3329\n",
      "n_errored_syn_ids_postsyn = 5\n",
      "Synapsse Results:\n",
      "Total Number of Synapses = 3806\n",
      "n_valid_syn_ids_presyn = 24\n",
      "n_errored_syn_ids_presyn = 273\n",
      "n_valid_syn_ids_postsyn = 3352\n",
      "n_errored_syn_ids_postsyn = 157\n",
      "Synapsse Results:\n",
      "Total Number of Synapses = 7152\n",
      "n_valid_syn_ids_presyn = 0\n",
      "n_errored_syn_ids_presyn = 99\n",
      "n_valid_syn_ids_postsyn = 7046\n",
      "n_errored_syn_ids_postsyn = 7\n",
      "Synapsse Results:\n",
      "Total Number of Synapses = 6474\n",
      "n_valid_syn_ids_presyn = 66\n",
      "n_errored_syn_ids_presyn = 385\n",
      "n_valid_syn_ids_postsyn = 6018\n",
      "n_errored_syn_ids_postsyn = 5\n",
      "Synapsse Results:\n",
      "Total Number of Synapses = 4706\n",
      "n_valid_syn_ids_presyn = 6\n",
      "n_errored_syn_ids_presyn = 58\n",
      "n_valid_syn_ids_postsyn = 4632\n",
      "n_errored_syn_ids_postsyn = 10\n",
      "Synapsse Results:\n",
      "Total Number of Synapses = 2462\n",
      "n_valid_syn_ids_presyn = 32\n",
      "n_errored_syn_ids_presyn = 175\n",
      "n_valid_syn_ids_postsyn = 2224\n",
      "n_errored_syn_ids_postsyn = 31\n",
      "Synapsse Results:\n",
      "Total Number of Synapses = 4846\n",
      "n_valid_syn_ids_presyn = 2\n",
      "n_errored_syn_ids_presyn = 25\n",
      "n_valid_syn_ids_postsyn = 4817\n",
      "n_errored_syn_ids_postsyn = 2\n",
      "Synapsse Results:\n",
      "Total Number of Synapses = 3713\n",
      "n_valid_syn_ids_presyn = 61\n",
      "n_errored_syn_ids_presyn = 199\n",
      "n_valid_syn_ids_postsyn = 2662\n",
      "n_errored_syn_ids_postsyn = 791\n",
      "Synapsse Results:\n",
      "Total Number of Synapses = 1159\n",
      "n_valid_syn_ids_presyn = 91\n",
      "n_errored_syn_ids_presyn = 190\n",
      "n_valid_syn_ids_postsyn = 806\n",
      "n_errored_syn_ids_postsyn = 72\n",
      "Synapsse Results:\n",
      "Total Number of Synapses = 4783\n",
      "n_valid_syn_ids_presyn = 7\n",
      "n_errored_syn_ids_presyn = 178\n",
      "n_valid_syn_ids_postsyn = 4551\n",
      "n_errored_syn_ids_postsyn = 47\n",
      "Synapsse Results:\n",
      "Total Number of Synapses = 1760\n",
      "n_valid_syn_ids_presyn = 65\n",
      "n_errored_syn_ids_presyn = 225\n",
      "n_valid_syn_ids_postsyn = 1467\n",
      "n_errored_syn_ids_postsyn = 3\n",
      "Synapsse Results:\n",
      "Total Number of Synapses = 5362\n",
      "n_valid_syn_ids_presyn = 0\n",
      "n_errored_syn_ids_presyn = 108\n",
      "n_valid_syn_ids_postsyn = 5033\n",
      "n_errored_syn_ids_postsyn = 221\n",
      "Synapsse Results:\n",
      "Total Number of Synapses = 4072\n",
      "n_valid_syn_ids_presyn = 54\n",
      "n_errored_syn_ids_presyn = 161\n",
      "n_valid_syn_ids_postsyn = 3746\n",
      "n_errored_syn_ids_postsyn = 111\n",
      "Synapsse Results:\n",
      "Total Number of Synapses = 5846\n",
      "n_valid_syn_ids_presyn = 0\n",
      "n_errored_syn_ids_presyn = 235\n",
      "n_valid_syn_ids_postsyn = 5601\n",
      "n_errored_syn_ids_postsyn = 10\n",
      "Synapsse Results:\n",
      "Total Number of Synapses = 4377\n",
      "n_valid_syn_ids_presyn = 5\n",
      "n_errored_syn_ids_presyn = 196\n",
      "n_valid_syn_ids_postsyn = 4155\n",
      "n_errored_syn_ids_postsyn = 21\n",
      "Synapsse Results:\n",
      "Total Number of Synapses = 6287\n",
      "n_valid_syn_ids_presyn = 0\n",
      "n_errored_syn_ids_presyn = 23\n",
      "n_valid_syn_ids_postsyn = 6262\n",
      "n_errored_syn_ids_postsyn = 2\n",
      "Synapsse Results:\n",
      "Total Number of Synapses = 2875\n",
      "n_valid_syn_ids_presyn = 19\n",
      "n_errored_syn_ids_presyn = 1\n",
      "n_valid_syn_ids_postsyn = 2834\n",
      "n_errored_syn_ids_postsyn = 21\n",
      "Synapsse Results:\n",
      "Total Number of Synapses = 2717\n",
      "n_valid_syn_ids_presyn = 54\n",
      "n_errored_syn_ids_presyn = 29\n",
      "n_valid_syn_ids_postsyn = 2631\n",
      "n_errored_syn_ids_postsyn = 3\n",
      "Synapsse Results:\n",
      "Total Number of Synapses = 3329\n",
      "n_valid_syn_ids_presyn = 0\n",
      "n_errored_syn_ids_presyn = 230\n",
      "n_valid_syn_ids_postsyn = 3021\n",
      "n_errored_syn_ids_postsyn = 78\n",
      "Synapsse Results:\n",
      "Total Number of Synapses = 4803\n",
      "n_valid_syn_ids_presyn = 2\n",
      "n_errored_syn_ids_presyn = 226\n",
      "n_valid_syn_ids_postsyn = 4524\n",
      "n_errored_syn_ids_postsyn = 51\n",
      "Synapsse Results:\n",
      "Total Number of Synapses = 5263\n",
      "n_valid_syn_ids_presyn = 0\n",
      "n_errored_syn_ids_presyn = 89\n",
      "n_valid_syn_ids_postsyn = 5156\n",
      "n_errored_syn_ids_postsyn = 18\n",
      "Synapsse Results:\n",
      "Total Number of Synapses = 2171\n",
      "n_valid_syn_ids_presyn = 2\n",
      "n_errored_syn_ids_presyn = 152\n",
      "n_valid_syn_ids_postsyn = 2012\n",
      "n_errored_syn_ids_postsyn = 5\n",
      "Synapsse Results:\n",
      "Total Number of Synapses = 2978\n",
      "n_valid_syn_ids_presyn = 45\n",
      "n_errored_syn_ids_presyn = 132\n",
      "n_valid_syn_ids_postsyn = 2798\n",
      "n_errored_syn_ids_postsyn = 3\n",
      "Synapsse Results:\n",
      "Total Number of Synapses = 1221\n",
      "n_valid_syn_ids_presyn = 16\n",
      "n_errored_syn_ids_presyn = 72\n",
      "n_valid_syn_ids_postsyn = 1124\n",
      "n_errored_syn_ids_postsyn = 9\n",
      "Synapsse Results:\n",
      "Total Number of Synapses = 7110\n",
      "n_valid_syn_ids_presyn = 41\n",
      "n_errored_syn_ids_presyn = 119\n",
      "n_valid_syn_ids_postsyn = 6602\n",
      "n_errored_syn_ids_postsyn = 348\n",
      "Synapsse Results:\n",
      "Total Number of Synapses = 2757\n",
      "n_valid_syn_ids_presyn = 166\n",
      "n_errored_syn_ids_presyn = 103\n",
      "n_valid_syn_ids_postsyn = 2457\n",
      "n_errored_syn_ids_postsyn = 31\n",
      "Synapsse Results:\n",
      "Total Number of Synapses = 6716\n",
      "n_valid_syn_ids_presyn = 35\n",
      "n_errored_syn_ids_presyn = 41\n",
      "n_valid_syn_ids_postsyn = 6639\n",
      "n_errored_syn_ids_postsyn = 1\n",
      "Synapsse Results:\n",
      "Total Number of Synapses = 3348\n",
      "n_valid_syn_ids_presyn = 124\n",
      "n_errored_syn_ids_presyn = 229\n",
      "n_valid_syn_ids_postsyn = 2991\n",
      "n_errored_syn_ids_postsyn = 4\n",
      "Synapsse Results:\n",
      "Total Number of Synapses = 5879\n",
      "n_valid_syn_ids_presyn = 31\n",
      "n_errored_syn_ids_presyn = 183\n",
      "n_valid_syn_ids_postsyn = 5650\n",
      "n_errored_syn_ids_postsyn = 15\n",
      "Synapsse Results:\n",
      "Total Number of Synapses = 2510\n",
      "n_valid_syn_ids_presyn = 23\n",
      "n_errored_syn_ids_presyn = 23\n",
      "n_valid_syn_ids_postsyn = 2463\n",
      "n_errored_syn_ids_postsyn = 1\n",
      "Synapsse Results:\n",
      "Total Number of Synapses = 792\n",
      "n_valid_syn_ids_presyn = 11\n",
      "n_errored_syn_ids_presyn = 48\n",
      "n_valid_syn_ids_postsyn = 725\n",
      "n_errored_syn_ids_postsyn = 8\n",
      "Synapsse Results:\n",
      "Total Number of Synapses = 7459\n",
      "n_valid_syn_ids_presyn = 176\n",
      "n_errored_syn_ids_presyn = 270\n",
      "n_valid_syn_ids_postsyn = 6896\n",
      "n_errored_syn_ids_postsyn = 117\n",
      "Synapsse Results:\n",
      "Total Number of Synapses = 1990\n",
      "n_valid_syn_ids_presyn = 10\n",
      "n_errored_syn_ids_presyn = 234\n",
      "n_valid_syn_ids_postsyn = 1740\n",
      "n_errored_syn_ids_postsyn = 6\n",
      "Synapsse Results:\n",
      "Total Number of Synapses = 3302\n",
      "n_valid_syn_ids_presyn = 36\n",
      "n_errored_syn_ids_presyn = 123\n",
      "n_valid_syn_ids_postsyn = 3128\n",
      "n_errored_syn_ids_postsyn = 15\n",
      "Synapsse Results:\n",
      "Total Number of Synapses = 2523\n",
      "n_valid_syn_ids_presyn = 58\n",
      "n_errored_syn_ids_presyn = 398\n",
      "n_valid_syn_ids_postsyn = 2010\n",
      "n_errored_syn_ids_postsyn = 57\n",
      "Synapsse Results:\n",
      "Total Number of Synapses = 6246\n",
      "n_valid_syn_ids_presyn = 5\n",
      "n_errored_syn_ids_presyn = 386\n",
      "n_valid_syn_ids_postsyn = 5696\n",
      "n_errored_syn_ids_postsyn = 159\n",
      "Synapsse Results:\n",
      "Total Number of Synapses = 1896\n",
      "n_valid_syn_ids_presyn = 2\n",
      "n_errored_syn_ids_presyn = 121\n",
      "n_valid_syn_ids_postsyn = 1757\n",
      "n_errored_syn_ids_postsyn = 16\n",
      "Synapsse Results:\n",
      "Total Number of Synapses = 10149\n",
      "n_valid_syn_ids_presyn = 256\n",
      "n_errored_syn_ids_presyn = 582\n",
      "n_valid_syn_ids_postsyn = 9293\n",
      "n_errored_syn_ids_postsyn = 18\n",
      "Synapsse Results:\n",
      "Total Number of Synapses = 1708\n",
      "n_valid_syn_ids_presyn = 12\n",
      "n_errored_syn_ids_presyn = 92\n",
      "n_valid_syn_ids_postsyn = 1591\n",
      "n_errored_syn_ids_postsyn = 13\n",
      "Synapsse Results:\n",
      "Total Number of Synapses = 1899\n",
      "n_valid_syn_ids_presyn = 27\n",
      "n_errored_syn_ids_presyn = 107\n",
      "n_valid_syn_ids_postsyn = 1756\n",
      "n_errored_syn_ids_postsyn = 9\n",
      "Synapsse Results:\n",
      "Total Number of Synapses = 8418\n",
      "n_valid_syn_ids_presyn = 51\n",
      "n_errored_syn_ids_presyn = 333\n",
      "n_valid_syn_ids_postsyn = 8018\n",
      "n_errored_syn_ids_postsyn = 16\n",
      "Synapsse Results:\n",
      "Total Number of Synapses = 2080\n",
      "n_valid_syn_ids_presyn = 8\n",
      "n_errored_syn_ids_presyn = 42\n",
      "n_valid_syn_ids_postsyn = 2029\n",
      "n_errored_syn_ids_postsyn = 1\n"
     ]
    },
    {
     "name": "stdout",
     "output_type": "stream",
     "text": [
      "Synapsse Results:\n",
      "Total Number of Synapses = 1645\n",
      "n_valid_syn_ids_presyn = 0\n",
      "n_errored_syn_ids_presyn = 108\n",
      "n_valid_syn_ids_postsyn = 1536\n",
      "n_errored_syn_ids_postsyn = 1\n",
      "Synapsse Results:\n",
      "Total Number of Synapses = 4633\n",
      "n_valid_syn_ids_presyn = 72\n",
      "n_errored_syn_ids_presyn = 219\n",
      "n_valid_syn_ids_postsyn = 4328\n",
      "n_errored_syn_ids_postsyn = 14\n",
      "Synapsse Results:\n",
      "Total Number of Synapses = 2383\n",
      "n_valid_syn_ids_presyn = 0\n",
      "n_errored_syn_ids_presyn = 47\n",
      "n_valid_syn_ids_postsyn = 2334\n",
      "n_errored_syn_ids_postsyn = 2\n",
      "Synapsse Results:\n",
      "Total Number of Synapses = 4015\n",
      "n_valid_syn_ids_presyn = 12\n",
      "n_errored_syn_ids_presyn = 109\n",
      "n_valid_syn_ids_postsyn = 3879\n",
      "n_errored_syn_ids_postsyn = 15\n",
      "Synapsse Results:\n",
      "Total Number of Synapses = 1914\n",
      "n_valid_syn_ids_presyn = 3\n",
      "n_errored_syn_ids_presyn = 212\n",
      "n_valid_syn_ids_postsyn = 1528\n",
      "n_errored_syn_ids_postsyn = 171\n",
      "Synapsse Results:\n",
      "Total Number of Synapses = 10012\n",
      "n_valid_syn_ids_presyn = 8\n",
      "n_errored_syn_ids_presyn = 164\n",
      "n_valid_syn_ids_postsyn = 9825\n",
      "n_errored_syn_ids_postsyn = 15\n"
     ]
    }
   ],
   "source": [
    "segment_ids = du.proofreading_stats_table(validation=True).fetch(\"segment_id\")\n",
    "\n",
    "validation_dfs = [vu.synapse_validation_df_single_neuron(k,\n",
    "                                        remove_presyn_on_dendrite = False,\n",
    "                        count_presyn_on_dendrite_as_correct = True,\n",
    "                                                        include_extension_synapse=False) for k in segment_ids]"
   ]
  },
  {
   "cell_type": "markdown",
   "metadata": {},
   "source": [
    "# Develop the Visualizations for the FP, FN, Tp, TN visualization function"
   ]
  },
  {
   "cell_type": "code",
   "execution_count": 156,
   "metadata": {},
   "outputs": [],
   "source": [
    "curr_validation_df = validation_dfs[6]"
   ]
  },
  {
   "cell_type": "code",
   "execution_count": 157,
   "metadata": {},
   "outputs": [
    {
     "name": "stdout",
     "output_type": "stream",
     "text": [
      "Working on Neuron: 864691135212632448\n",
      "\n",
      "\n",
      "Synapse Category Results, synapse_type = presyn\n",
      "# of TP = 10\n",
      "# of TN = 371\n",
      "# of FP = 29\n",
      "# of FN = 3\n"
     ]
    },
    {
     "data": {
      "application/vnd.jupyter.widget-view+json": {
       "model_id": "f7f137ebadbf41a3aaca9df5e922d929",
       "version_major": 2,
       "version_minor": 0
      },
      "text/plain": [
       "VBox(children=(Figure(camera=PerspectiveCamera(fov=46.0, position=(0.0, 0.0, 2.0), projectionMatrix=(1.0, 0.0,…"
      ]
     },
     "metadata": {},
     "output_type": "display_data"
    },
    {
     "name": "stdout",
     "output_type": "stream",
     "text": [
      "TP:yellow\n",
      "TN:aqua\n",
      "FP:black\n",
      "FN:orange\n"
     ]
    }
   ],
   "source": [
    "du.plot_proofread_validation_neuron(\n",
    "    #segment_id = 864691136370815112,\n",
    "    validation_df=curr_validation_df,\n",
    "    verbose = True,\n",
    "    synapse_type = \"presyn\",\n",
    ")"
   ]
  },
  {
   "cell_type": "markdown",
   "metadata": {},
   "source": [
    "# Trying the new crossover resolve method"
   ]
  },
  {
   "cell_type": "code",
   "execution_count": 158,
   "metadata": {},
   "outputs": [
    {
     "data": {
      "text/plain": [
       "864691135212632448"
      ]
     },
     "execution_count": 158,
     "metadata": {},
     "output_type": "execute_result"
    }
   ],
   "source": [
    "segment_id = vu.validation_df_to_old_segment_id(curr_validation_df)\n",
    "segment_id"
   ]
  },
  {
   "cell_type": "code",
   "execution_count": 159,
   "metadata": {},
   "outputs": [
    {
     "name": "stdout",
     "output_type": "stream",
     "text": [
      "Decompressing Neuron in minimal output mode...please wait\n",
      "Dont need spine recalculation\n",
      "Number of Neurons found = 1\n"
     ]
    }
   ],
   "source": [
    "\"\"\"\n",
    "Pseudocode: \n",
    "\n",
    "\"\"\"\n",
    "\n",
    "neuron_objs,neuron_split_idxs = du.decomposition_with_spine_recalculation(segment_id)"
   ]
  },
  {
   "cell_type": "code",
   "execution_count": 160,
   "metadata": {},
   "outputs": [
    {
     "data": {
      "text/plain": [
       "864691135212632448"
      ]
     },
     "execution_count": 160,
     "metadata": {},
     "output_type": "execute_result"
    }
   ],
   "source": [
    "neuron_obj = neuron_objs[0]\n",
    "neuron_obj.segment_id"
   ]
  },
  {
   "cell_type": "code",
   "execution_count": 161,
   "metadata": {},
   "outputs": [
    {
     "name": "stdout",
     "output_type": "stream",
     "text": [
      "\n",
      "Part 1: Axon like branchese \n",
      "{'L0': array([ 0,  1,  2,  3,  4,  5,  6,  7,  8,  9, 10, 11, 12, 13, 14, 16, 17,\n",
      "       18, 19, 20, 22, 23, 24, 25, 26, 27, 28, 29, 30, 31, 32, 33, 34, 35,\n",
      "       36, 37, 38, 39, 40, 41, 42, 43, 44, 51]), 'L1': array([5]), 'L2': array([11]), 'L4': array([ 0,  1,  2,  3,  4,  5,  6,  7,  8,  9, 10, 11, 12, 13, 14, 15, 16,\n",
      "       17, 18, 19, 20, 21, 22, 23, 24, 25, 26, 27, 28, 29, 30, 31, 32, 33,\n",
      "       34, 35, 36, 37, 38, 39, 40, 41, 42, 43, 44, 45, 46, 47, 48, 49, 50,\n",
      "       51, 52, 53, 54, 55]), 'L5': array([ 1,  2,  3,  4,  5,  7,  8, 10, 11]), 'L6': array([ 8, 13])}\n",
      "Limb L0 soma angle: 73.36 \n",
      "Limb L1 soma angle: 39.44 \n",
      "Limb L2 soma angle: 101.61 \n",
      "Limb L3 soma angle: 111.28 \n",
      "Limb L4 soma angle: 161.23 \n",
      "Limb L5 soma angle: 25.74 \n",
      "Limb L6 soma angle: 123.13 \n",
      "\n",
      "Part 2: possible_axon_limbs = [0, 2, 3, 4, 6]\n",
      "\n",
      "Phase 2: Working on Limb L0\n",
      "nodes_to_eliminate = [45]\n",
      "\n",
      "Phase 2: Working on Limb L2\n",
      "nodes_to_eliminate = [0 2 3]\n",
      "\n",
      "Phase 2: Working on Limb L3\n",
      "nodes_to_eliminate = [ 9 12]\n",
      "\n",
      "Phase 2: Working on Limb L4\n",
      "nodes_to_eliminate = []\n",
      "\n",
      "Phase 2: Working on Limb L6\n",
      "nodes_to_eliminate = [10]\n",
      "\n",
      "----Working on Limb L0-----\n",
      "No endpoints were eliminated so don't need to add back any candidates\n",
      "\n",
      "----Working on Limb L2-----\n",
      "No endpoints were eliminated so don't need to add back any candidates\n",
      "\n",
      "----Working on Limb L3-----\n",
      "No endpoints were eliminated so don't need to add back any candidates\n",
      "\n",
      "----Working on Limb L4-----\n",
      "No nodes were eliminated so don't need to add back any candidates\n",
      "\n",
      "----Working on Limb L6-----\n",
      "No endpoints were eliminated so don't need to add back any candidates\n",
      "Final Candidates\n",
      "\n",
      "Limb 0\n",
      "Candidate 0 (orange): array([ 0,  1,  2,  3,  4,  5,  6,  7,  8,  9, 10, 11, 12, 13, 14, 15, 16,\n",
      "       17, 18, 19, 20, 21, 22, 23, 24, 25, 26, 27, 28, 29, 30, 31, 32, 33,\n",
      "       34, 35, 36, 37, 38, 39, 40, 41, 42, 43, 44, 46, 47])\n",
      "Candidate 1 (crimson): array([48, 49, 50, 51, 52])\n",
      "\n",
      "Limb 2\n",
      "Candidate 0 (forestgreen): array([1])\n",
      "Candidate 1 (darkslategray): array([4])\n",
      "Candidate 2 (green): array([8, 5, 7])\n",
      "Candidate 3 (darkslategray): array([ 6,  9, 10, 11, 12])\n",
      "\n",
      "Limb 3\n",
      "Candidate 0 (gray): array([ 3, 10, 11, 13])\n",
      "Candidate 1 (brown): array([7])\n",
      "Candidate 2 (gray): array([0, 1, 2, 4, 5, 6, 8])\n",
      "\n",
      "Limb 4\n",
      "Candidate 0 (gray): array([ 0,  1,  2,  3,  4,  5,  6,  7,  8,  9, 10, 11, 12, 13, 14, 15, 16,\n",
      "       17, 18, 19, 20, 21, 22, 23, 24, 25, 26, 27, 28, 29, 30, 31, 32, 33,\n",
      "       34, 35, 36, 37, 38, 39, 40, 41, 42, 43, 44, 45, 46, 47, 48, 49, 50,\n",
      "       51, 52, 53, 54, 55])\n",
      "\n",
      "Limb 6\n",
      "Candidate 0 (sandybrown): array([4, 5, 6, 8, 9])\n",
      "Candidate 1 (gray): array([ 0,  1,  2,  3,  7, 11, 12, 13, 14, 15])\n",
      "Part 3: axon_subgraph_candidates = {0: [[0, 1, 2, 3, 4, 5, 6, 7, 8, 9, 10, 11, 12, 13, 14, 15, 16, 17, 18, 19, 20, 21, 22, 23, 24, 25, 26, 27, 28, 29, 30, 31, 32, 33, 34, 35, 36, 37, 38, 39, 40, 41, 42, 43, 44, 46, 47], [48, 49, 50, 51, 52]], 2: [[1], [4], [8, 5, 7], [6, 9, 10, 11, 12]], 3: [[3, 10, 11, 13], [7], [0, 1, 2, 4, 5, 6, 8]], 4: [[0, 1, 2, 3, 4, 5, 6, 7, 8, 9, 10, 11, 12, 13, 14, 15, 16, 17, 18, 19, 20, 21, 22, 23, 24, 25, 26, 27, 28, 29, 30, 31, 32, 33, 34, 35, 36, 37, 38, 39, 40, 41, 42, 43, 44, 45, 46, 47, 48, 49, 50, 51, 52, 53, 54, 55]], 6: [[4, 5, 6, 8, 9], [0, 1, 2, 3, 7, 11, 12, 13, 14, 15]]}\n",
      "\n",
      "\n",
      " --- Working on limb 0, candidate # 0\n",
      "43 out of 47 branches are axons\n",
      "Axon percentage = 0.9148936170212766\n",
      "curr_axon_angle_threshold = 95\n",
      "candidate_nodes = [ 0  1  2  3  4  5  6  7  8  9 10 11 12 13 14 15 16 17 18 19 20 21 22 23\n",
      " 24 25 26 27 28 29 30 31 32 33 34 35 36 37 38 39 40 41 42 43 44 45 46 47]\n",
      "non_axon_branches_on_subgraph = [15 21 45 46 47]\n",
      "endnodes_to_test = []\n",
      "Not adding candidate because no angles (None) passed the threhold 95 \n",
      "\n",
      "\n",
      " --- Working on limb 0, candidate # 1\n",
      "1 out of 5 branches are axons\n",
      "Axon percentage = 0.2\n",
      "curr_axon_angle_threshold = 120\n",
      "candidate_nodes = [45 48 49 50 51 52]\n",
      "non_axon_branches_on_subgraph = [45 48 49 50 52]\n",
      "endnodes_to_test = []\n",
      "Not adding candidate because no angles (None) passed the threhold 120 \n",
      "\n",
      "\n",
      " --- Working on limb 2, candidate # 0\n",
      "0 out of 1 branches are axons\n",
      "Axon percentage = 0.0\n",
      "Not adding candidate no axon branches detected \n",
      "\n",
      "\n",
      " --- Working on limb 2, candidate # 1\n",
      "0 out of 1 branches are axons\n",
      "Axon percentage = 0.0\n",
      "Not adding candidate no axon branches detected \n",
      "\n",
      "\n",
      " --- Working on limb 2, candidate # 2\n",
      "0 out of 3 branches are axons\n",
      "Axon percentage = 0.0\n",
      "Not adding candidate no axon branches detected \n",
      "\n",
      "\n",
      " --- Working on limb 2, candidate # 3\n",
      "1 out of 5 branches are axons\n",
      "Axon percentage = 0.2\n",
      "curr_axon_angle_threshold = 120\n",
      "candidate_nodes = [ 0  2  3  6  9 10 11 12]\n",
      "non_axon_branches_on_subgraph = [ 0  2  3  6  9 10 12]\n",
      "endnodes_to_test = []\n",
      "Not adding candidate because no angles (None) passed the threhold 120 \n",
      "\n",
      "\n",
      " --- Working on limb 3, candidate # 0\n",
      "0 out of 4 branches are axons\n",
      "Axon percentage = 0.0\n",
      "Not adding candidate no axon branches detected \n",
      "\n",
      "\n",
      " --- Working on limb 3, candidate # 1\n",
      "0 out of 1 branches are axons\n",
      "Axon percentage = 0.0\n",
      "Not adding candidate no axon branches detected \n",
      "\n",
      "\n",
      " --- Working on limb 3, candidate # 2\n",
      "0 out of 7 branches are axons\n",
      "Axon percentage = 0.0\n",
      "Not adding candidate no axon branches detected \n",
      "\n",
      "\n",
      " --- Working on limb 4, candidate # 0\n",
      "56 out of 56 branches are axons\n",
      "Axon percentage = 1.0\n",
      "curr_axon_angle_threshold = 95\n",
      "candidate_nodes = [ 0  1  2  3  4  5  6  7  8  9 10 11 12 13 14 15 16 17 18 19 20 21 22 23\n",
      " 24 25 26 27 28 29 30 31 32 33 34 35 36 37 38 39 40 41 42 43 44 45 46 47\n",
      " 48 49 50 51 52 53 54 55]\n",
      "non_axon_branches_on_subgraph = []\n",
      "endnodes_to_test = [8090]\n",
      "Skeleton paths distances = [24939.21074461]\n",
      "Filtered indexes = [0]\n",
      "len(filtered_skeletons) = 1\n",
      "sk_angles = [169.61302403]\n",
      "base_final_widths = [251.46068896  72.42524813]\n",
      "overall_ais_width = 251.46068895869251\n",
      "ais_width = 161.94296854411516\n",
      "Adding the following branches as true axons: [ 0.  1.  2.  3.  4.  5.  6.  7.  8.  9. 10. 11. 12. 13. 14. 15. 16. 17.\n",
      " 18. 19. 20. 21. 22. 23. 24. 25. 26. 27. 28. 29. 30. 31. 32. 33. 34. 35.\n",
      " 36. 37. 38. 39. 40. 41. 42. 43. 44. 45. 46. 47. 48. 49. 50. 51. 52. 53.\n",
      " 54. 55.]\n",
      "curr_soma_angle = 161.23\n",
      "max_axon_angle = 169.6130240301964\n",
      "Changing to a better axon candidate\n",
      "\n",
      "\n",
      " --- Working on limb 6, candidate # 0\n",
      "1 out of 5 branches are axons\n",
      "Axon percentage = 0.2\n",
      "curr_axon_angle_threshold = 120\n",
      "candidate_nodes = [ 4  5  6  8  9 10]\n",
      "non_axon_branches_on_subgraph = [ 4  5  6  9 10]\n",
      "endnodes_to_test = []\n",
      "Not adding candidate because no angles (None) passed the threhold 120 \n",
      "\n",
      "\n",
      " --- Working on limb 6, candidate # 1\n",
      "1 out of 10 branches are axons\n",
      "Axon percentage = 0.1\n",
      "curr_axon_angle_threshold = 120\n",
      "candidate_nodes = [ 0  1  2  3  7 10 11 12 13 14 15]\n",
      "non_axon_branches_on_subgraph = [ 0  1  2  3  7 10 11 12 14 15]\n",
      "endnodes_to_test = []\n",
      "Not adding candidate because no angles (None) passed the threhold 120 \n",
      "Using the best axon approach\n",
      "\n",
      "\n",
      "Part 4: final_true_axons = {'L4': array([ 0.,  1.,  2.,  3.,  4.,  5.,  6.,  7.,  8.,  9., 10., 11., 12.,\n",
      "       13., 14., 15., 16., 17., 18., 19., 20., 21., 22., 23., 24., 25.,\n",
      "       26., 27., 28., 29., 30., 31., 32., 33., 34., 35., 36., 37., 38.,\n",
      "       39., 40., 41., 42., 43., 44., 45., 46., 47., 48., 49., 50., 51.,\n",
      "       52., 53., 54., 55.])}\n"
     ]
    },
    {
     "data": {
      "text/plain": [
       "({'L4': array([ 0.,  1.,  2.,  3.,  4.,  5.,  6.,  7.,  8.,  9., 10., 11., 12.,\n",
       "         13., 14., 15., 16., 17., 18., 19., 20., 21., 22., 23., 24., 25.,\n",
       "         26., 27., 28., 29., 30., 31., 32., 33., 34., 35., 36., 37., 38.,\n",
       "         39., 40., 41., 42., 43., 44., 45., 46., 47., 48., 49., 50., 51.,\n",
       "         52., 53., 54., 55.])},\n",
       " {'L0': array([ 0,  1,  2,  3,  4,  5,  6,  7,  8,  9, 10, 11, 12, 13, 14, 16, 17,\n",
       "         18, 19, 20, 22, 23, 24, 25, 26, 27, 28, 29, 30, 31, 32, 33, 34, 35,\n",
       "         36, 37, 38, 39, 41, 42, 43, 44, 51]),\n",
       "  'L2': array([11]),\n",
       "  'L5': array([ 1,  2,  3,  4,  5,  7,  8, 10, 11]),\n",
       "  'L6': array([ 8, 13])})"
      ]
     },
     "execution_count": 161,
     "metadata": {},
     "output_type": "execute_result"
    }
   ],
   "source": [
    "clu.axon_classification(neuron_obj)"
   ]
  },
  {
   "cell_type": "code",
   "execution_count": 162,
   "metadata": {
    "scrolled": true
   },
   "outputs": [
    {
     "name": "stdout",
     "output_type": "stream",
     "text": [
      "\n",
      "\n",
      " Using high_fidelity_axon_on_excitatory\n",
      "\n",
      "\n",
      "---Step 1: Applying Dendrite on Axon Filtering\n",
      "\n",
      "--- Working on filter 0:\n",
      "function = dendrite_on_axon_merges\n",
      "function __name__ = filter_away_dendrite_on_axon_merges\n",
      "function arguments = {'use_pre_existing_axon_labels': True}\n",
      "\n",
      "\n",
      "\n",
      "\n",
      "\n",
      " ---- Total time for applying filter: 0.28113293647766113 -----\n",
      "\n",
      "\n",
      "---- Step 2: Applying High Fidelity Axon -----\n",
      "Starting axon branch was the starting node so using border vertices and NOT computing upstream branch\n",
      "upstream_node_to_axon_starting_branch = None\n"
     ]
    },
    {
     "name": "stderr",
     "output_type": "stream",
     "text": [
      "\r",
      "  0%|          | 0/1 [00:00<?, ?it/s]"
     ]
    },
    {
     "name": "stdout",
     "output_type": "stream",
     "text": [
      "root_curr = [742948.9 748461.6 851662. ]\n",
      "Time for preparing soma vertices and root: 0.010429620742797852\n",
      "invalidation_d = 1600\n",
      "cc_vertex_thresh = 10\n"
     ]
    },
    {
     "data": {
      "application/vnd.jupyter.widget-view+json": {
       "model_id": "a6ceacc85a20421fbb0bc1eb1d74ec22",
       "version_major": 2,
       "version_minor": 0
      },
      "text/plain": [
       "HBox(children=(FloatProgress(value=0.0, max=67170.0), HTML(value='')))"
      ]
     },
     "metadata": {},
     "output_type": "display_data"
    },
    {
     "name": "stderr",
     "output_type": "stream",
     "text": [
      "100%|██████████| 1/1 [00:03<00:00,  3.02s/it]"
     ]
    },
    {
     "name": "stdout",
     "output_type": "stream",
     "text": [
      "\n"
     ]
    },
    {
     "name": "stderr",
     "output_type": "stream",
     "text": [
      "\n"
     ]
    },
    {
     "name": "stdout",
     "output_type": "stream",
     "text": [
      "meshparty_segment_size = 100\n",
      "Time for 1st pass MP skeletonization: 3.8701322078704834\n",
      "branches_touching_root = [8]\n",
      "combining close nodes\n",
      "combine_threshold = 1300\n",
      "length of Graph = 20473\n",
      "After combining close endpoints max(kept_branches_idx) = 201, len(kept_branches_idx) = 181\n",
      "empty_indices % = 0.0\n",
      " conflict_indices % = 0.025595750252515807\n"
     ]
    },
    {
     "data": {
      "application/vnd.jupyter.widget-view+json": {
       "model_id": "db96c909ed144d9389d834a77b920132",
       "version_major": 2,
       "version_minor": 0
      },
      "text/plain": [
       "HBox(children=(FloatProgress(value=0.0, max=88.0), HTML(value='')))"
      ]
     },
     "metadata": {},
     "output_type": "display_data"
    },
    {
     "name": "stdout",
     "output_type": "stream",
     "text": [
      "\n",
      "AFTER face_lookup_resolved_test\n"
     ]
    },
    {
     "data": {
      "application/vnd.jupyter.widget-view+json": {
       "model_id": "c99a11929ac449159ece2abc8d7db0ae",
       "version_major": 2,
       "version_minor": 0
      },
      "text/plain": [
       "HBox(children=(FloatProgress(value=0.0, max=181.0), HTML(value='')))"
      ]
     },
     "metadata": {},
     "output_type": "display_data"
    },
    {
     "name": "stdout",
     "output_type": "stream",
     "text": [
      "\n",
      "Decomposing first pass: 13.72525954246521\n",
      "Only Using MeshParty Skeletonization and Mesh Correspondence\n",
      "Another print\n",
      "Divinding into MP and MAP pieces: 2.9087066650390625e-05\n",
      "Total time for MAP sublimb processing 4.0531158447265625e-06\n",
      "---- Working on MP Decomposition #0 ----\n",
      "Using Quicker soma_to_piece_touching_vertices because no MAP and only one sublimb_mesh piece \n",
      "MP filtering soma verts: 0.0013260841369628906\n",
      "Fixing Possible Soma Extension Branch for Sublimb 0\n",
      "Total time for mesh KDTree = 0.0035572052001953125\n",
      "sbv[0].reshape(-1,3) = [[742948.9 748461.6 851662. ]]\n",
      "closest_sk_pt_coord BEFORE = [743736.61306778 748915.07115218 852209.08372999]\n",
      "current_skeleton.shape = (31, 2, 3)\n",
      "node_for_stitch = 11: [743736.61306778 748915.07115218 852209.08372999]\n",
      "node_for_stitch AFTER = 11: [743736.61306778 748915.07115218 852209.08372999]\n",
      "possible_node_loc = [ 0 27 31]\n",
      "possible_node_loc AFTER = [ 0 27 31]\n",
      "curr_shortest_path = [11, 27.0]\n",
      "Current stitch point was not a branch or endpoint, shortest_path_length to one = 427.49512287438034\n",
      "Changing the stitch point becasue the distance to end or branch node was 427.49512287438034\n",
      "New stitch point has degree 1\n",
      "change_status for create soma extending pieces = True\n",
      "closest_sk_pt_coord AFTER = [744024.36641074 748803.15095914 852504.75916707]\n",
      "skipping soma 0 because closest skeleton node was already end node\n",
      "endpoints_must_keep = {0: array([[744024.36641074, 748803.15095914, 852504.75916707]])}\n",
      "match_sk_branches = [169]\n",
      "The new branch info was none so skipping \n",
      "\n",
      "No soma extending branch was added for this sublimb even though it had a soma border (means they already existed)\n",
      "MP (because soma touching verts) soma extension add: 4.403423547744751\n",
      "There were not both MAP and MP pieces so skipping the stitch resolving phase\n",
      "Time for decomp of Limb = 22.55348038673401\n",
      "Number of matching vertices = 36\n",
      "Only one endpoint after filtering away the endpoints that are not on the skeleton\n",
      "Using Distance measure skeletal_distance\n",
      "endpoints_must_keep = [[744024.36641074 748803.15095914 852504.75916707]]\n",
      "Number of end_nodes BEFORE filtering = 103\n",
      "all_single_nodes_to_eliminate = [43]\n"
     ]
    },
    {
     "data": {
      "application/vnd.jupyter.widget-view+json": {
       "model_id": "73eb219b8ee4466b8120e00383255f9b",
       "version_major": 2,
       "version_minor": 0
      },
      "text/plain": [
       "HBox(children=(FloatProgress(value=0.0, max=21.0), HTML(value='')))"
      ]
     },
     "metadata": {},
     "output_type": "display_data"
    },
    {
     "name": "stdout",
     "output_type": "stream",
     "text": [
      "\n",
      "Removed 20 skeletal branches\n"
     ]
    },
    {
     "data": {
      "application/vnd.jupyter.widget-view+json": {
       "model_id": "b0d38830b0d242109e395ed460280899",
       "version_major": 2,
       "version_minor": 0
      },
      "text/plain": [
       "HBox(children=(FloatProgress(value=0.0, max=181.0), HTML(value='')))"
      ]
     },
     "metadata": {},
     "output_type": "display_data"
    },
    {
     "name": "stdout",
     "output_type": "stream",
     "text": [
      "\n",
      "134061 134062\n",
      "For marked faces: None\n",
      "empty_indices % = 0.0045277558144739\n",
      " conflict_indices % = 0.0\n"
     ]
    },
    {
     "data": {
      "application/vnd.jupyter.widget-view+json": {
       "model_id": "d88384c7524d48e6bf17fd1be451ab2e",
       "version_major": 2,
       "version_minor": 0
      },
      "text/plain": [
       "HBox(children=(FloatProgress(value=0.0, max=5.0), HTML(value='')))"
      ]
     },
     "metadata": {},
     "output_type": "display_data"
    },
    {
     "name": "stdout",
     "output_type": "stream",
     "text": [
      "\n",
      "AFTER face_lookup_resolved_test\n"
     ]
    },
    {
     "data": {
      "application/vnd.jupyter.widget-view+json": {
       "model_id": "c5dcb6baa840424198ff12acb8626d4a",
       "version_major": 2,
       "version_minor": 0
      },
      "text/plain": [
       "HBox(children=(FloatProgress(value=0.0, max=146.0), HTML(value='')))"
      ]
     },
     "metadata": {},
     "output_type": "display_data"
    },
    {
     "name": "stdout",
     "output_type": "stream",
     "text": [
      "\n",
      "Upstream node was None so don't have to adjust\n",
      "concept_network_dict = {0: [<networkx_utils.GraphOrderedEdges object at 0x7f9019cb5f60>]}\n",
      "Assigning the old width calculation because no valid new widths\n",
      "\n",
      "\n",
      "----Working on seperate_graph 0----\n",
      "\n",
      "\n",
      "---------Working on soma_idx = 0, soma_group_idx 0, endpt = [744024.36641074 748803.15095914 852504.75916707]---------\n",
      "Starting_edge inside branches_to_conept = [[743736.61306778 748915.07115218 852209.08372999]\n",
      " [744024.36641074 748803.15095914 852504.75916707]]\n",
      "At the start, starting_node (in terms of the skeleton, that shouldn't match the starting edge) = [62]\n",
      "printing out current edge:\n",
      "[[744024.36641074 748803.15095914 852504.75916707]\n",
      " [743736.61306778 748915.07115218 852209.08372999]]\n",
      "edge_endpoints_to_process was empty so exiting loop after 146 iterations\n",
      "starting_node in concept map (that should match the starting edge) = 71\n",
      "Total time for branches to concept conversion = 1.021984577178955\n",
      "\n",
      "Done generating concept network \n",
      "\n",
      "\n",
      "\n",
      "\n",
      "---- Step 3: Applying Excitatory Filters Post-processing -----\n",
      "\n",
      "--- Working on filter 0:\n",
      "function = axon_on_dendrite_merges\n",
      "function __name__ = filter_away_axon_on_dendrite_merges\n",
      "function arguments = {'use_pre_existing_axon_labels': True}\n",
      "\n",
      "\n",
      "\n",
      "\n",
      "Branches Requested to Remove (WITH disconnect effect)\n",
      "\n",
      " Working on visualization type: mesh\n"
     ]
    },
    {
     "data": {
      "application/vnd.jupyter.widget-view+json": {
       "model_id": "1c8a17ee484d46ac9333c560d4ff6e92",
       "version_major": 2,
       "version_minor": 0
      },
      "text/plain": [
       "VBox(children=(Figure(camera=PerspectiveCamera(fov=46.0, position=(0.0, 0.0, 2.0), projectionMatrix=(1.0, 0.0,…"
      ]
     },
     "metadata": {},
     "output_type": "display_data"
    },
    {
     "name": "stdout",
     "output_type": "stream",
     "text": [
      "\n",
      "--- Working on filter 1:\n",
      "function = crossovers\n",
      "function __name__ = filter_away_crossovers\n",
      "function arguments = {'axon_dependent': True, 'match_threshold': 50, 'require_two_pairs': False}\n",
      "\n",
      "\n",
      "Using lowest_angle_sum_for_pairs optimization\n",
      "Using lowest_angle_sum_for_pairs optimization\n",
      "Using lowest_angle_sum_for_pairs optimization\n",
      "Using lowest_angle_sum_for_pairs optimization\n",
      "Using lowest_angle_sum_for_pairs optimization\n",
      "Using lowest_angle_sum_for_pairs optimization\n",
      "Using lowest_angle_sum_for_pairs optimization\n",
      "Using lowest_angle_sum_for_pairs optimization\n",
      "Using lowest_angle_sum_for_pairs optimization\n",
      "Using lowest_angle_sum_for_pairs optimization\n",
      "Using lowest_angle_sum_for_pairs optimization\n",
      "\n",
      "\n",
      "Branches Requested to Remove (WITH disconnect effect)\n",
      "\n",
      " Working on visualization type: mesh\n"
     ]
    },
    {
     "data": {
      "application/vnd.jupyter.widget-view+json": {
       "model_id": "30851949e25f4ec2a30801c9c71af6ad",
       "version_major": 2,
       "version_minor": 0
      },
      "text/plain": [
       "VBox(children=(Figure(camera=PerspectiveCamera(fov=46.0, position=(0.0, 0.0, 2.0), projectionMatrix=(1.0, 0.0,…"
      ]
     },
     "metadata": {},
     "output_type": "display_data"
    },
    {
     "name": "stdout",
     "output_type": "stream",
     "text": [
      "\n",
      "--- Working on filter 2:\n",
      "function = low_branch_clusters\n",
      "function __name__ = filter_away_low_branch_length_clusters\n",
      "function arguments = {}\n",
      "\n",
      "\n",
      "\n",
      "--- Working on filter 3:\n",
      "function = double_back_and_width_change\n",
      "function __name__ = filter_away_large_double_back_or_width_changes\n",
      "function arguments = {'perform_double_back_errors': True, 'skip_double_back_errors_for_axon': False, 'width_jump_threshold': 250, 'running_width_jump_method': True, 'double_back_axon_like_threshold': 145, 'double_back_threshold': 120}\n",
      "\n",
      "\n",
      "\n",
      "\n",
      "Branches Requested to Remove (WITH disconnect effect)\n",
      "\n",
      " Working on visualization type: mesh\n"
     ]
    },
    {
     "data": {
      "application/vnd.jupyter.widget-view+json": {
       "model_id": "b598b24e1c9d46c0935e4d18a4330bba",
       "version_major": 2,
       "version_minor": 0
      },
      "text/plain": [
       "VBox(children=(Figure(camera=PerspectiveCamera(fov=46.0, position=(0.0, 0.0, 2.0), projectionMatrix=(1.0, 0.0,…"
      ]
     },
     "metadata": {},
     "output_type": "display_data"
    },
    {
     "name": "stdout",
     "output_type": "stream",
     "text": [
      "\n",
      "--- Working on filter 4:\n",
      "function = high_degree_coordinates\n",
      "function __name__ = filter_away_high_degree_coordinates\n",
      "function arguments = {'axon_dependent': True, 'min_degree_to_find': 4}\n",
      "\n",
      "\n",
      "min_degree_to_find = 4\n",
      "min_degree_to_find = 4\n",
      "min_degree_to_find = 4\n",
      "min_degree_to_find = 4\n",
      "min_degree_to_find = 4\n",
      "min_degree_to_find = 4\n",
      "min_degree_to_find = 4\n",
      "\n",
      "\n",
      "\n",
      " ---- Total time for applying filter: 95.89033198356628 -----\n"
     ]
    }
   ],
   "source": [
    "import proofreading_utils as pru\n",
    "o_neuron,filter_dict = pru.proofread_neuron_class_predetermined(neuron_obj,\n",
    "    perform_axon_classification=False,\n",
    "    inh_exc_class=\"excitatory\",\n",
    "    plot_limb_branch_filter_with_disconnect_effect = True,\n",
    "\n",
    "    high_fidelity_axon_on_excitatory = True,\n",
    "    plot_final_filtered_neuron = False,\n",
    "\n",
    "    #arguments for the axon high fidelity:\n",
    "    plot_new_axon_limb_correspondence = True,\n",
    "    plot_new_limb_object = False,\n",
    "    plot_final_revised_axon_branch = False,\n",
    "\n",
    "    verbose = False,\n",
    "    verbose_outline = True)"
   ]
  },
  {
   "cell_type": "code",
   "execution_count": 163,
   "metadata": {},
   "outputs": [
    {
     "name": "stdout",
     "output_type": "stream",
     "text": [
      "\n",
      " Working on visualization type: mesh\n",
      "\n",
      " Working on visualization type: skeleton\n"
     ]
    },
    {
     "data": {
      "application/vnd.jupyter.widget-view+json": {
       "model_id": "bd43a1690d0b49b9a9bc0cf7f8b44faf",
       "version_major": 2,
       "version_minor": 0
      },
      "text/plain": [
       "VBox(children=(Figure(camera=PerspectiveCamera(fov=46.0, position=(0.0, 0.0, 2.0), projectionMatrix=(1.0, 0.0,…"
      ]
     },
     "metadata": {},
     "output_type": "display_data"
    }
   ],
   "source": [
    "nviz.visualize_neuron(o_neuron,\n",
    "                     limb_branch_dict=\"all\")"
   ]
  },
  {
   "cell_type": "code",
   "execution_count": null,
   "metadata": {},
   "outputs": [],
   "source": []
  },
  {
   "cell_type": "code",
   "execution_count": null,
   "metadata": {},
   "outputs": [],
   "source": []
  },
  {
   "cell_type": "code",
   "execution_count": null,
   "metadata": {},
   "outputs": [],
   "source": []
  },
  {
   "cell_type": "code",
   "execution_count": null,
   "metadata": {},
   "outputs": [],
   "source": []
  },
  {
   "cell_type": "code",
   "execution_count": 49,
   "metadata": {},
   "outputs": [
    {
     "data": {
      "text/plain": [
       "[[],\n",
       " [[1, 'a']],\n",
       " [[2, 'b']],\n",
       " [[1, 'a'], [2, 'b']],\n",
       " [[3, 'c']],\n",
       " [[1, 'a'], [3, 'c']],\n",
       " [[2, 'b'], [3, 'c']],\n",
       " [[1, 'a'], [2, 'b'], [3, 'c']]]"
      ]
     },
     "execution_count": 49,
     "metadata": {},
     "output_type": "execute_result"
    }
   ],
   "source": []
  },
  {
   "cell_type": "code",
   "execution_count": 125,
   "metadata": {},
   "outputs": [
    {
     "data": {
      "text/plain": [
       "<networkx.classes.graph.Graph at 0x7f91ac039780>"
      ]
     },
     "execution_count": 125,
     "metadata": {},
     "output_type": "execute_result"
    }
   ],
   "source": [
    "matched_branches = list(return_info[0])\n",
    "match_branches_angle = list(return_info[1])\n",
    "matched_branches,match_branches_angle\n",
    "\n"
   ]
  },
  {
   "cell_type": "code",
   "execution_count": 117,
   "metadata": {},
   "outputs": [
    {
     "data": {
      "text/plain": [
       "(array([[1, 2],\n",
       "        [4, 5]]),\n",
       " array([10,  1]))"
      ]
     },
     "execution_count": 117,
     "metadata": {},
     "output_type": "execute_result"
    }
   ],
   "source": [
    "\n",
    "\n",
    "return_info = xu.degree_1_max_edge_min_max_weight_graph(\n",
    "    G = G,\n",
    "    verbose = False,\n",
    "    plot_winning_graph = False,\n",
    "return_edge_info=True)\n",
    "\n",
    "return_info\n",
    "\n",
    "#xu.get_edges_with_weights(ret_G)"
   ]
  },
  {
   "cell_type": "code",
   "execution_count": 128,
   "metadata": {},
   "outputs": [
    {
     "name": "stdout",
     "output_type": "stream",
     "text": [
      "N_edges for winning graph = 2\n"
     ]
    },
    {
     "data": {
      "text/plain": [
       "(array([[1, 4],\n",
       "        [3, 2]]),\n",
       " array([20, 40]))"
      ]
     },
     "execution_count": 128,
     "metadata": {},
     "output_type": "execute_result"
    },
    {
     "data": {
      "image/png": "[encoded data removed]",
      "text/plain": [
       "<Figure size 432x288 with 1 Axes>"
      ]
     },
     "metadata": {},
     "output_type": "display_data"
    }
   ],
   "source": []
  },
  {
   "cell_type": "code",
   "execution_count": 50,
   "metadata": {},
   "outputs": [],
   "source": [
    "import networkx as nx"
   ]
  },
  {
   "cell_type": "code",
   "execution_count": 70,
   "metadata": {},
   "outputs": [
    {
     "data": {
      "image/png": "[encoded data removed]",
      "text/plain": [
       "<Figure size 432x288 with 1 Axes>"
      ]
     },
     "metadata": {},
     "output_type": "display_data"
    }
   ],
   "source": [
    "G = nx.Graph()\n",
    "G.add_weighted_edges_from([[1,2,10],[1,3,20],[1,4,50],[4,5,1]])\n",
    "nx.draw(G,with_labels=True)"
   ]
  },
  {
   "cell_type": "code",
   "execution_count": 73,
   "metadata": {},
   "outputs": [
    {
     "data": {
      "text/plain": [
       "81.0"
      ]
     },
     "execution_count": 73,
     "metadata": {},
     "output_type": "execute_result"
    }
   ],
   "source": [
    "xu.sum_of_edge_weights(G)"
   ]
  },
  {
   "cell_type": "code",
   "execution_count": 78,
   "metadata": {},
   "outputs": [
    {
     "data": {
      "text/plain": [
       "3"
      ]
     },
     "execution_count": 78,
     "metadata": {},
     "output_type": "execute_result"
    }
   ],
   "source": [
    "xu.max_node_degree(G)"
   ]
  },
  {
   "cell_type": "code",
   "execution_count": 56,
   "metadata": {},
   "outputs": [
    {
     "data": {
      "text/plain": [
       "[[],\n",
       " [(1, 2)],\n",
       " [(1, 3)],\n",
       " [(1, 2), (1, 3)],\n",
       " [(1, 4)],\n",
       " [(1, 2), (1, 4)],\n",
       " [(1, 3), (1, 4)],\n",
       " [(1, 2), (1, 3), (1, 4)],\n",
       " [(4, 5)],\n",
       " [(1, 2), (4, 5)],\n",
       " [(1, 3), (4, 5)],\n",
       " [(1, 2), (1, 3), (4, 5)],\n",
       " [(1, 4), (4, 5)],\n",
       " [(1, 2), (1, 4), (4, 5)],\n",
       " [(1, 3), (1, 4), (4, 5)],\n",
       " [(1, 2), (1, 3), (1, 4), (4, 5)]]"
      ]
     },
     "execution_count": 56,
     "metadata": {},
     "output_type": "execute_result"
    }
   ],
   "source": [
    "import networkx_utils as xu\n",
    "xu.all_subgraph_edges(G)"
   ]
  },
  {
   "cell_type": "code",
   "execution_count": 64,
   "metadata": {},
   "outputs": [
    {
     "data": {
      "image/png": "[encoded data removed]",
      "text/plain": [
       "<Figure size 432x288 with 1 Axes>"
      ]
     },
     "metadata": {},
     "output_type": "display_data"
    },
    {
     "data": {
      "image/png": "[encoded data removed]",
      "text/plain": [
       "<Figure size 432x288 with 1 Axes>"
      ]
     },
     "metadata": {},
     "output_type": "display_data"
    },
    {
     "data": {
      "image/png": "[encoded data removed]",
      "text/plain": [
       "<Figure size 432x288 with 1 Axes>"
      ]
     },
     "metadata": {},
     "output_type": "display_data"
    },
    {
     "data": {
      "image/png": "[encoded data removed]",
      "text/plain": [
       "<Figure size 432x288 with 1 Axes>"
      ]
     },
     "metadata": {},
     "output_type": "display_data"
    },
    {
     "data": {
      "image/png": "[encoded data removed]",
      "text/plain": [
       "<Figure size 432x288 with 1 Axes>"
      ]
     },
     "metadata": {},
     "output_type": "display_data"
    },
    {
     "data": {
      "image/png": "[encoded data removed]",
      "text/plain": [
       "<Figure size 432x288 with 1 Axes>"
      ]
     },
     "metadata": {},
     "output_type": "display_data"
    },
    {
     "data": {
      "image/png": "[encoded data removed]",
      "text/plain": [
       "<Figure size 432x288 with 1 Axes>"
      ]
     },
     "metadata": {},
     "output_type": "display_data"
    },
    {
     "data": {
      "image/png": "[encoded data removed]",
      "text/plain": [
       "<Figure size 432x288 with 1 Axes>"
      ]
     },
     "metadata": {},
     "output_type": "display_data"
    }
   ],
   "source": []
  },
  {
   "cell_type": "code",
   "execution_count": 71,
   "metadata": {},
   "outputs": [
    {
     "ename": "AttributeError",
     "evalue": "'Graph' object has no attribute 'score'",
     "output_type": "error",
     "traceback": [
      "\u001b[0;31m---------------------------------------------------------------------------\u001b[0m",
      "\u001b[0;31mAttributeError\u001b[0m                            Traceback (most recent call last)",
      "\u001b[0;32m<ipython-input-71-c01751fe8c66>\u001b[0m in \u001b[0;36m<module>\u001b[0;34m\u001b[0m\n\u001b[0;32m----> 1\u001b[0;31m \u001b[0mG\u001b[0m\u001b[0;34m.\u001b[0m\u001b[0mscore\u001b[0m\u001b[0;34m(\u001b[0m\u001b[0;34m)\u001b[0m\u001b[0;34m\u001b[0m\u001b[0;34m\u001b[0m\u001b[0m\n\u001b[0m",
      "\u001b[0;31mAttributeError\u001b[0m: 'Graph' object has no attribute 'score'"
     ]
    }
   ],
   "source": [
    "G.score()"
   ]
  },
  {
   "cell_type": "code",
   "execution_count": null,
   "metadata": {},
   "outputs": [],
   "source": []
  }
 ],
 "metadata": {
  "kernelspec": {
   "display_name": "Python 3",
   "language": "python",
   "name": "python3"
  },
  "language_info": {
   "codemirror_mode": {
    "name": "ipython",
    "version": 3
   },
   "file_extension": ".py",
   "mimetype": "text/x-python",
   "name": "python",
   "nbconvert_exporter": "python",
   "pygments_lexer": "ipython3",
   "version": "3.6.9"
  }
 },
 "nbformat": 4,
 "nbformat_minor": 4
}
