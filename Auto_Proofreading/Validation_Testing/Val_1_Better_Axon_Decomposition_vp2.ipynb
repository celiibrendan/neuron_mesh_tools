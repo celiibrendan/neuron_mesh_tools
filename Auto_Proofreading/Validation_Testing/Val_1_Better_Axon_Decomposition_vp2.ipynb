{
 "cells": [
  {
   "cell_type": "code",
   "execution_count": null,
   "metadata": {},
   "outputs": [],
   "source": [
    "\"\"\"\n",
    "To Make sure the Best Axon method works and also\n",
    "to see if can decompose the axon any better \n",
    "(especially if can help with crosses and parts that aren't skeletonized             )\n",
    "\n",
    "\"\"\""
   ]
  },
  {
   "cell_type": "code",
   "execution_count": 1,
   "metadata": {},
   "outputs": [],
   "source": [
    "%load_ext autoreload\n",
    "%autoreload 2"
   ]
  },
  {
   "cell_type": "code",
   "execution_count": 2,
   "metadata": {},
   "outputs": [],
   "source": [
    "from os import sys\n",
    "sys.path.append(\"/meshAfterParty/\")\n",
    "sys.path.append(\"/meshAfterParty/meshAfterParty/\")"
   ]
  },
  {
   "cell_type": "code",
   "execution_count": 3,
   "metadata": {},
   "outputs": [
    {
     "name": "stderr",
     "output_type": "stream",
     "text": [
      "INFO - 2021-02-20 20:53:50,527 - settings - Setting database.host to at-database.ad.bcm.edu\n",
      "INFO - 2021-02-20 20:53:50,529 - settings - Setting database.user to celiib\n",
      "INFO - 2021-02-20 20:53:50,530 - settings - Setting database.password to newceliipass\n",
      "INFO - 2021-02-20 20:53:50,535 - settings - Setting stores to {'minnie65': {'protocol': 'file', 'location': '/mnt/dj-stor01/platinum/minnie65', 'stage': '/mnt/dj-stor01/platinum/minnie65'}, 'meshes': {'protocol': 'file', 'location': '/mnt/dj-stor01/platinum/minnie65/02/meshes', 'stage': '/mnt/dj-stor01/platinum/minnie65/02/meshes'}, 'decimated_meshes': {'protocol': 'file', 'location': '/mnt/dj-stor01/platinum/minnie65/02/decimated_meshes', 'stage': '/mnt/dj-stor01/platinum/minnie65/02/decimated_meshes'}, 'skeletons': {'protocol': 'file', 'location': '/mnt/dj-stor01/platinum/minnie65/02/skeletons'}}\n",
      "INFO - 2021-02-20 20:53:50,535 - settings - Setting enable_python_native_blobs to True\n",
      "INFO - 2021-02-20 20:53:50,549 - connection - Connected celiib@at-database.ad.bcm.edu:3306\n"
     ]
    },
    {
     "name": "stdout",
     "output_type": "stream",
     "text": [
      "Connecting celiib@at-database.ad.bcm.edu:3306\n"
     ]
    },
    {
     "name": "stderr",
     "output_type": "stream",
     "text": [
      "INFO - 2021-02-20 20:53:50,891 - settings - Setting enable_python_native_blobs to True\n",
      "INFO - 2021-02-20 20:53:50,924 - settings - Setting enable_python_native_blobs to True\n",
      "INFO - 2021-02-20 20:53:51,283 - settings - Setting enable_python_native_blobs to True\n"
     ]
    }
   ],
   "source": [
    "import datajoint_utils as du\n",
    "minnie,schema = du.configure_minnie_vm()"
   ]
  },
  {
   "cell_type": "code",
   "execution_count": 16,
   "metadata": {},
   "outputs": [],
   "source": [
    "import pandas as pd\n",
    "import matplotlib.pyplot as plt\n",
    "import networkx as nx\n",
    "import numpy as np\n",
    "import networkx_utils as xu\n",
    "import datajoint as dj\n",
    "import neuron_visualizations as nviz\n",
    "import neuron\n",
    "import neuron_utils as nru\n",
    "import proofreading_utils as pru\n",
    "import classification_utils as clu\n",
    "import system_utils as su\n",
    "from importlib import reload\n",
    "import trimesh_utils as tu"
   ]
  },
  {
   "cell_type": "markdown",
   "metadata": {},
   "source": [
    "# Getting a more high fidelity axon skeleton"
   ]
  },
  {
   "cell_type": "code",
   "execution_count": 6,
   "metadata": {},
   "outputs": [],
   "source": [
    "multi_axon_segs,multi_axon_splits = (minnie.AutoProofreadNeurons2() & \"cell_type_predicted='excitatory'\"\n",
    " & \"n_axons>1\").fetch(\"segment_id\",\"split_index\")"
   ]
  },
  {
   "cell_type": "code",
   "execution_count": 7,
   "metadata": {},
   "outputs": [
    {
     "data": {
      "text/plain": [
       "(864691135539149252, 1)"
      ]
     },
     "execution_count": 7,
     "metadata": {},
     "output_type": "execute_result"
    }
   ],
   "source": [
    "curr_index = 3010\n",
    "segment_id = multi_axon_segs[curr_index]\n",
    "split_index = multi_axon_splits[curr_index]\n",
    "segment_id,split_index"
   ]
  },
  {
   "cell_type": "code",
   "execution_count": 18,
   "metadata": {},
   "outputs": [],
   "source": [
    "segment_id,split_index = 864691135426651890,0"
   ]
  },
  {
   "cell_type": "code",
   "execution_count": 19,
   "metadata": {},
   "outputs": [
    {
     "data": {
      "text/html": [
       "\n",
       "        \n",
       "        <style type=\"text/css\">\n",
       "            .Relation{\n",
       "                border-collapse:collapse;\n",
       "            }\n",
       "            .Relation th{\n",
       "                background: #A0A0A0; color: #ffffff; padding:4px; border:#f0e0e0 1px solid;\n",
       "                font-weight: normal; font-family: monospace; font-size: 100%;\n",
       "            }\n",
       "            .Relation td{\n",
       "                padding:4px; border:#f0e0e0 1px solid; font-size:100%;\n",
       "            }\n",
       "            .Relation tr:nth-child(odd){\n",
       "                background: #ffffff;\n",
       "            }\n",
       "            .Relation tr:nth-child(even){\n",
       "                background: #f3f1ff;\n",
       "            }\n",
       "            /* Tooltip container */\n",
       "            .djtooltip {\n",
       "            }\n",
       "            /* Tooltip text */\n",
       "            .djtooltip .djtooltiptext {\n",
       "                visibility: hidden;\n",
       "                width: 120px;\n",
       "                background-color: black;\n",
       "                color: #fff;\n",
       "                text-align: center;\n",
       "                padding: 5px 0;\n",
       "                border-radius: 6px;\n",
       "                /* Position the tooltip text - see examples below! */\n",
       "                position: absolute;\n",
       "                z-index: 1;\n",
       "            }\n",
       "            #primary {\n",
       "                font-weight: bold;\n",
       "                color: black;\n",
       "            }\n",
       "\n",
       "            #nonprimary {\n",
       "                font-weight: normal;\n",
       "                color: white;\n",
       "            }\n",
       "\n",
       "            /* Show the tooltip text when you mouse over the tooltip container */\n",
       "            .djtooltip:hover .djtooltiptext {\n",
       "                visibility: visible;\n",
       "            }\n",
       "        </style>\n",
       "        \n",
       "        <b></b>\n",
       "            <div style=\"max-height:1000px;max-width:1500px;overflow:auto;\">\n",
       "            <table border=\"1\" class=\"Relation\">\n",
       "                <thead> <tr style=\"text-align: right;\"> <th> <div class=\"djtooltip\">\n",
       "                                <p id=\"primary\">segment_id</p>\n",
       "                                <span class=\"djtooltiptext\">segment id unique within each Segmentation</span>\n",
       "                            </div></th><th><div class=\"djtooltip\">\n",
       "                                <p id=\"primary\">decimation_version</p>\n",
       "                                <span class=\"djtooltiptext\"></span>\n",
       "                            </div></th><th><div class=\"djtooltip\">\n",
       "                                <p id=\"primary\">decimation_ratio</p>\n",
       "                                <span class=\"djtooltiptext\">ratio of remaining mesh vertices/faces (which ones depends on what metric the decimation technique uses)</span>\n",
       "                            </div></th><th><div class=\"djtooltip\">\n",
       "                                <p id=\"primary\">ver</p>\n",
       "                                <span class=\"djtooltiptext\">the version number of the materializaiton</span>\n",
       "                            </div></th><th><div class=\"djtooltip\">\n",
       "                                <p id=\"primary\">process_version</p>\n",
       "                                <span class=\"djtooltiptext\">the version of the preprocessing pipeline run</span>\n",
       "                            </div></th><th><div class=\"djtooltip\">\n",
       "                                <p id=\"primary\">index</p>\n",
       "                                <span class=\"djtooltiptext\">the index of the neuron object that resulted from that mesh (indexed starting at 0)</span>\n",
       "                            </div></th><th><div class=\"djtooltip\">\n",
       "                                <p id=\"primary\">split_index</p>\n",
       "                                <span class=\"djtooltiptext\">the index of the neuron object that resulted AFTER THE SPLITTING ALGORITHM</span>\n",
       "                            </div></th><th><div class=\"djtooltip\">\n",
       "                                <p id=\"primary\">proof_version</p>\n",
       "                                <span class=\"djtooltiptext\">the version of code used for this cell typing classification</span>\n",
       "                            </div></th><th><div class=\"djtooltip\">\n",
       "                                <p id=\"nonprimary\">multiplicity</p>\n",
       "                                <span class=\"djtooltiptext\">the total number of neurons that came from the parent segment id</span>\n",
       "                            </div></th><th><div class=\"djtooltip\">\n",
       "                                <p id=\"nonprimary\">cell_type_predicted</p>\n",
       "                                <span class=\"djtooltiptext\">morphology predicted by classifier</span>\n",
       "                            </div></th><th><div class=\"djtooltip\">\n",
       "                                <p id=\"nonprimary\">spine_category</p>\n",
       "                                <span class=\"djtooltiptext\"></span>\n",
       "                            </div></th><th><div class=\"djtooltip\">\n",
       "                                <p id=\"nonprimary\">n_axons</p>\n",
       "                                <span class=\"djtooltiptext\">Number of axon candidates identified</span>\n",
       "                            </div></th><th><div class=\"djtooltip\">\n",
       "                                <p id=\"nonprimary\">n_apicals</p>\n",
       "                                <span class=\"djtooltiptext\">Number of apicals identified</span>\n",
       "                            </div></th><th><div class=\"djtooltip\">\n",
       "                                <p id=\"nonprimary\">axon_length</p>\n",
       "                                <span class=\"djtooltiptext\">length (in um) of the classified axon skeleton</span>\n",
       "                            </div></th><th><div class=\"djtooltip\">\n",
       "                                <p id=\"nonprimary\">axon_area</p>\n",
       "                                <span class=\"djtooltiptext\"># area (in um^2) of the classified axon</span>\n",
       "                            </div></th><th><div class=\"djtooltip\">\n",
       "                                <p id=\"nonprimary\">nucleus_id</p>\n",
       "                                <span class=\"djtooltiptext\">id of nucleus from the flat segmentation  Equivalent to Allen: 'id'.</span>\n",
       "                            </div></th><th><div class=\"djtooltip\">\n",
       "                                <p id=\"nonprimary\">nuclei_distance</p>\n",
       "                                <span class=\"djtooltiptext\">the distance to the closest nuclei (even if no matching nuclei found)</span>\n",
       "                            </div></th><th><div class=\"djtooltip\">\n",
       "                                <p id=\"nonprimary\">n_nuclei_in_radius</p>\n",
       "                                <span class=\"djtooltiptext\">the number of nuclei within the search radius of 15000 belonging to that segment</span>\n",
       "                            </div></th><th><div class=\"djtooltip\">\n",
       "                                <p id=\"nonprimary\">n_nuclei_in_bbox</p>\n",
       "                                <span class=\"djtooltiptext\">the number of nuclei within the bounding box of that soma</span>\n",
       "                            </div></th><th><div class=\"djtooltip\">\n",
       "                                <p id=\"nonprimary\">soma_x</p>\n",
       "                                <span class=\"djtooltiptext\">x coordinate of nucleus centroid in EM voxels (x: 4nm, y: 4nm, z: 40nm)</span>\n",
       "                            </div></th><th><div class=\"djtooltip\">\n",
       "                                <p id=\"nonprimary\">soma_y</p>\n",
       "                                <span class=\"djtooltiptext\">y coordinate of nucleus centroid in EM voxels (x: 4nm, y: 4nm, z: 40nm)</span>\n",
       "                            </div></th><th><div class=\"djtooltip\">\n",
       "                                <p id=\"nonprimary\">soma_z</p>\n",
       "                                <span class=\"djtooltiptext\">z coordinate of nucleus centroid in EM voxels (x: 4nm, y: 4nm, z: 40nm)</span>\n",
       "                            </div></th><th><div class=\"djtooltip\">\n",
       "                                <p id=\"nonprimary\">max_soma_n_faces</p>\n",
       "                                <span class=\"djtooltiptext\">The largest number of faces of the somas</span>\n",
       "                            </div></th><th><div class=\"djtooltip\">\n",
       "                                <p id=\"nonprimary\">max_soma_volume</p>\n",
       "                                <span class=\"djtooltiptext\">The largest volume of the somas the (volume in billions (10*9 nm^3))</span>\n",
       "                            </div></th><th><div class=\"djtooltip\">\n",
       "                                <p id=\"nonprimary\">n_vertices</p>\n",
       "                                <span class=\"djtooltiptext\">number of vertices</span>\n",
       "                            </div></th><th><div class=\"djtooltip\">\n",
       "                                <p id=\"nonprimary\">n_faces</p>\n",
       "                                <span class=\"djtooltiptext\">number of faces</span>\n",
       "                            </div></th><th><div class=\"djtooltip\">\n",
       "                                <p id=\"nonprimary\">n_not_processed_soma_containing_meshes</p>\n",
       "                                <span class=\"djtooltiptext\">the number of meshes with somas that were not processed</span>\n",
       "                            </div></th><th><div class=\"djtooltip\">\n",
       "                                <p id=\"nonprimary\">n_error_limbs</p>\n",
       "                                <span class=\"djtooltiptext\">the number of limbs that are touching multiple somas or 1 soma in multiple places</span>\n",
       "                            </div></th><th><div class=\"djtooltip\">\n",
       "                                <p id=\"nonprimary\">n_same_soma_multi_touching_limbs</p>\n",
       "                                <span class=\"djtooltiptext\">number of limbs that touch the same soma multiple times</span>\n",
       "                            </div></th><th><div class=\"djtooltip\">\n",
       "                                <p id=\"nonprimary\">n_multi_soma_touching_limbs</p>\n",
       "                                <span class=\"djtooltiptext\">number of limbs that touch multiple somas</span>\n",
       "                            </div></th><th><div class=\"djtooltip\">\n",
       "                                <p id=\"nonprimary\">n_somas</p>\n",
       "                                <span class=\"djtooltiptext\">number of soma meshes detected</span>\n",
       "                            </div></th><th><div class=\"djtooltip\">\n",
       "                                <p id=\"nonprimary\">n_limbs</p>\n",
       "                                <span class=\"djtooltiptext\"></span>\n",
       "                            </div></th><th><div class=\"djtooltip\">\n",
       "                                <p id=\"nonprimary\">n_branches</p>\n",
       "                                <span class=\"djtooltiptext\"></span>\n",
       "                            </div></th><th><div class=\"djtooltip\">\n",
       "                                <p id=\"nonprimary\">max_limb_n_branches</p>\n",
       "                                <span class=\"djtooltiptext\"></span>\n",
       "                            </div></th><th><div class=\"djtooltip\">\n",
       "                                <p id=\"nonprimary\">skeletal_length</p>\n",
       "                                <span class=\"djtooltiptext\"></span>\n",
       "                            </div></th><th><div class=\"djtooltip\">\n",
       "                                <p id=\"nonprimary\">max_limb_skeletal_length</p>\n",
       "                                <span class=\"djtooltiptext\"></span>\n",
       "                            </div></th><th><div class=\"djtooltip\">\n",
       "                                <p id=\"nonprimary\">median_branch_length</p>\n",
       "                                <span class=\"djtooltiptext\">gives information on average skeletal length to next branch point</span>\n",
       "                            </div></th><th><div class=\"djtooltip\">\n",
       "                                <p id=\"nonprimary\">width_median</p>\n",
       "                                <span class=\"djtooltiptext\">median width from mesh center without spines removed</span>\n",
       "                            </div></th><th><div class=\"djtooltip\">\n",
       "                                <p id=\"nonprimary\">width_no_spine_median</p>\n",
       "                                <span class=\"djtooltiptext\">median width from mesh center with spines removed</span>\n",
       "                            </div></th><th><div class=\"djtooltip\">\n",
       "                                <p id=\"nonprimary\">width_90_perc</p>\n",
       "                                <span class=\"djtooltiptext\">90th percentile for width without spines removed</span>\n",
       "                            </div></th><th><div class=\"djtooltip\">\n",
       "                                <p id=\"nonprimary\">width_no_spine_90_perc</p>\n",
       "                                <span class=\"djtooltiptext\">90th percentile for width with spines removed</span>\n",
       "                            </div></th><th><div class=\"djtooltip\">\n",
       "                                <p id=\"nonprimary\">n_spines</p>\n",
       "                                <span class=\"djtooltiptext\"></span>\n",
       "                            </div></th><th><div class=\"djtooltip\">\n",
       "                                <p id=\"nonprimary\">spine_density</p>\n",
       "                                <span class=\"djtooltiptext\">n_spines/ skeletal_length</span>\n",
       "                            </div></th><th><div class=\"djtooltip\">\n",
       "                                <p id=\"nonprimary\">spines_per_branch</p>\n",
       "                                <span class=\"djtooltiptext\"></span>\n",
       "                            </div></th><th><div class=\"djtooltip\">\n",
       "                                <p id=\"nonprimary\">skeletal_length_eligible</p>\n",
       "                                <span class=\"djtooltiptext\">the skeletal length for all branches searched for spines</span>\n",
       "                            </div></th><th><div class=\"djtooltip\">\n",
       "                                <p id=\"nonprimary\">n_spine_eligible_branches</p>\n",
       "                                <span class=\"djtooltiptext\">the number of branches that were checked for spines because passed width threshold</span>\n",
       "                            </div></th><th><div class=\"djtooltip\">\n",
       "                                <p id=\"nonprimary\">spine_density_eligible</p>\n",
       "                                <span class=\"djtooltiptext\">n_spines/skeletal_length_eligible</span>\n",
       "                            </div></th><th><div class=\"djtooltip\">\n",
       "                                <p id=\"nonprimary\">spines_per_branch_eligible</p>\n",
       "                                <span class=\"djtooltiptext\">n_spines/n_spine_eligible_branches</span>\n",
       "                            </div></th><th><div class=\"djtooltip\">\n",
       "                                <p id=\"nonprimary\">total_spine_volume</p>\n",
       "                                <span class=\"djtooltiptext\">the sum of all spine volume</span>\n",
       "                            </div></th><th><div class=\"djtooltip\">\n",
       "                                <p id=\"nonprimary\">spine_volume_median</p>\n",
       "                                <span class=\"djtooltiptext\">median of the spine volume for those spines with able to calculate volume</span>\n",
       "                            </div></th><th><div class=\"djtooltip\">\n",
       "                                <p id=\"nonprimary\">spine_volume_density</p>\n",
       "                                <span class=\"djtooltiptext\">total_spine_volume/skeletal_length</span>\n",
       "                            </div></th><th><div class=\"djtooltip\">\n",
       "                                <p id=\"nonprimary\">spine_volume_density_eligible</p>\n",
       "                                <span class=\"djtooltiptext\">total_spine_volume/skeletal_length_eligible</span>\n",
       "                            </div></th><th><div class=\"djtooltip\">\n",
       "                                <p id=\"nonprimary\">spine_volume_per_branch_eligible</p>\n",
       "                                <span class=\"djtooltiptext\">total_spine_volume/n_spine_eligible_branches</span>\n",
       "                            </div></th><th><div class=\"djtooltip\">\n",
       "                                <p id=\"nonprimary\">axon_angle_maximum</p>\n",
       "                                <span class=\"djtooltiptext\">the anlge of an identified axon</span>\n",
       "                            </div></th><th><div class=\"djtooltip\">\n",
       "                                <p id=\"nonprimary\">spine_density_classifier</p>\n",
       "                                <span class=\"djtooltiptext\">the number of spines divided by skeletal length for branches analyzed in classification</span>\n",
       "                            </div></th><th><div class=\"djtooltip\">\n",
       "                                <p id=\"nonprimary\">n_branches_processed</p>\n",
       "                                <span class=\"djtooltiptext\">the number branches used for the spine density analysis</span>\n",
       "                            </div></th><th><div class=\"djtooltip\">\n",
       "                                <p id=\"nonprimary\">skeletal_length_processed</p>\n",
       "                                <span class=\"djtooltiptext\">The total skeletal length of the viable branches used for the spine density analysis</span>\n",
       "                            </div></th><th><div class=\"djtooltip\">\n",
       "                                <p id=\"nonprimary\">n_branches_in_search_radius</p>\n",
       "                                <span class=\"djtooltiptext\">the number branches existing in the search radius used for spine density</span>\n",
       "                            </div></th><th><div class=\"djtooltip\">\n",
       "                                <p id=\"nonprimary\">skeletal_length_in_search_radius</p>\n",
       "                                <span class=\"djtooltiptext\">The total skeletal length of the branches existing in the search radius used for spine density</span>\n",
       "                            </div></th><th><div class=\"djtooltip\">\n",
       "                                <p id=\"nonprimary\">run_time</p>\n",
       "                                <span class=\"djtooltiptext\">the amount of time to run (seconds)</span>\n",
       "                            </div> </th> </tr> </thead>\n",
       "                <tbody> <tr> <td>864691135426651890</td>\n",
       "<td>0</td>\n",
       "<td>0.25</td>\n",
       "<td>30.00</td>\n",
       "<td>0</td>\n",
       "<td>0</td>\n",
       "<td>0</td>\n",
       "<td>1</td>\n",
       "<td>1</td>\n",
       "<td>excitatory</td>\n",
       "<td>densely_spined</td>\n",
       "<td>2</td>\n",
       "<td>2</td>\n",
       "<td>1135.6141158087469</td>\n",
       "<td>1314.1385539441028</td>\n",
       "<td>334179</td>\n",
       "<td>1113.7</td>\n",
       "<td>1</td>\n",
       "<td>1</td>\n",
       "<td>197203</td>\n",
       "<td>187208</td>\n",
       "<td>15170</td>\n",
       "<td>36844</td>\n",
       "<td>0</td>\n",
       "<td>246618</td>\n",
       "<td>490630</td>\n",
       "<td>0</td>\n",
       "<td>0</td>\n",
       "<td>0</td>\n",
       "<td>0</td>\n",
       "<td>1</td>\n",
       "<td>9</td>\n",
       "<td>67</td>\n",
       "<td>33</td>\n",
       "<td>2710942.756842747</td>\n",
       "<td>1131347.3715695199</td>\n",
       "<td>25547.098</td>\n",
       "<td>218.031</td>\n",
       "<td>218.031</td>\n",
       "<td>467.057</td>\n",
       "<td>458.82</td>\n",
       "<td>795</td>\n",
       "<td>0.0002932559154904042</td>\n",
       "<td>11.865671641791044</td>\n",
       "<td>1961960.979</td>\n",
       "<td>40</td>\n",
       "<td>0.00040520683566561393</td>\n",
       "<td>19.875</td>\n",
       "<td>140518412072.4182</td>\n",
       "<td>115842454.78816223</td>\n",
       "<td>51833.78059818223</td>\n",
       "<td>71621.41019952376</td>\n",
       "<td>3512960301.8104553</td>\n",
       "<td>147.665545157858</td>\n",
       "<td>0.0005380310044851373</td>\n",
       "<td>0</td>\n",
       "<td>1399547.7601322262</td>\n",
       "<td>49</td>\n",
       "<td>1962542.2195552844</td>\n",
       "<td>122.4726</td> </tr> </tbody>\n",
       "            </table>\n",
       "            \n",
       "            <p>Total: 1</p></div>\n",
       "            "
      ],
      "text/plain": [
       "*segment_id    *decimation_ve *decimation_ra *ver      *process_versi *index    *split_index   *proof_version multiplicity   cell_type_pred spine_category n_axons     n_apicals     axon_length    axon_area      nucleus_id     nuclei_distanc n_nuclei_in_ra n_nuclei_in_bb soma_x     soma_y     soma_z     max_soma_n_fac max_soma_volum n_vertices     n_faces     n_not_processe n_error_limbs  n_same_soma_mu n_multi_soma_t n_somas     n_limbs     n_branches     max_limb_n_bra skeletal_lengt max_limb_skele median_branch_ width_median   width_no_spine width_90_perc  width_no_spine n_spines     spine_density  spines_per_bra skeletal_lengt n_spine_eligib spine_density_ spines_per_bra total_spine_vo spine_volume_m spine_volume_d spine_volume_d spine_volume_p axon_angle_max spine_density_ n_branches_pro skeletal_lengt n_branches_in_ skeletal_lengt run_time    \n",
       "+------------+ +------------+ +------------+ +-------+ +------------+ +-------+ +------------+ +------------+ +------------+ +------------+ +------------+ +---------+ +-----------+ +------------+ +------------+ +------------+ +------------+ +------------+ +------------+ +--------+ +--------+ +--------+ +------------+ +------------+ +------------+ +---------+ +------------+ +------------+ +------------+ +------------+ +---------+ +---------+ +------------+ +------------+ +------------+ +------------+ +------------+ +------------+ +------------+ +------------+ +------------+ +----------+ +------------+ +------------+ +------------+ +------------+ +------------+ +------------+ +------------+ +------------+ +------------+ +------------+ +------------+ +------------+ +------------+ +------------+ +------------+ +------------+ +------------+ +----------+\n",
       "86469113542665 0              0.25           30.00     0              0         0              1              1              excitatory     densely_spined 2           2             1135.614115808 1314.138553944 334179         1113.7         1              1              197203     187208     15170      36844          0              246618         490630      0              0              0              0              1           9           67             33             2710942.756842 1131347.371569 25547.098      218.031        218.031        467.057        458.82         795          0.000293255915 11.86567164179 1961960.979    40             0.000405206835 19.875         140518412072.4 115842454.7881 51833.78059818 71621.41019952 3512960301.810 147.6655451578 0.000538031004 0              1399547.760132 49             1962542.219555 122.4726    \n",
       " (Total: 1)"
      ]
     },
     "execution_count": 19,
     "metadata": {},
     "output_type": "execute_result"
    }
   ],
   "source": [
    "minnie.AutoProofreadNeurons2() & dict(segment_id = segment_id,\n",
    "                                      split_index=split_index)"
   ]
  },
  {
   "cell_type": "code",
   "execution_count": 20,
   "metadata": {},
   "outputs": [
    {
     "name": "stdout",
     "output_type": "stream",
     "text": [
      "Synapsse Results:\n",
      "Total Number of Synapses = 129\n",
      "n_valid_syn_centers_presyn = 28\n",
      "n_errored_syn_centers_presyn = 15\n",
      "n_valid_syn_centers_postsyn = 86\n",
      "n_errored_syn_centers_postsyn = 0\n",
      "Including axon mesh\n"
     ]
    },
    {
     "data": {
      "application/vnd.jupyter.widget-view+json": {
       "model_id": "b54fd3507fea4907ba006533adbd325e",
       "version_major": 2,
       "version_minor": 0
      },
      "text/plain": [
       "VBox(children=(Figure(camera=PerspectiveCamera(fov=46.0, position=(0.0, 0.0, 2.0), projectionMatrix=(1.0, 0.0,…"
      ]
     },
     "metadata": {},
     "output_type": "display_data"
    }
   ],
   "source": [
    "du.plot_proofread_neuron(segment_id,\n",
    "                        split_index=split_index,\n",
    "                        plot_errored_faces=True,\n",
    "                        plot_synapses=True,\n",
    "                        plot_nuclei=True,\n",
    "                        plot_axon=True)"
   ]
  },
  {
   "cell_type": "code",
   "execution_count": 21,
   "metadata": {},
   "outputs": [
    {
     "name": "stdout",
     "output_type": "stream",
     "text": [
      "Decompressing Neuron in minimal output mode...please wait\n",
      "Pulled from Table Decomposition so setting split_index = 0\n",
      "Number of Neurons found = 1\n"
     ]
    }
   ],
   "source": [
    "neuron_obj = du.decomposition_with_spine_recalculation(segment_id,\n",
    "                                                      split_index=split_index)"
   ]
  },
  {
   "cell_type": "code",
   "execution_count": 22,
   "metadata": {},
   "outputs": [],
   "source": [
    "if type(neuron_obj) == tuple:\n",
    "    neuron_obj = neuron_obj[0][split_index]"
   ]
  },
  {
   "cell_type": "code",
   "execution_count": 23,
   "metadata": {},
   "outputs": [
    {
     "data": {
      "text/plain": [
       "864691135426651890"
      ]
     },
     "execution_count": 23,
     "metadata": {},
     "output_type": "execute_result"
    }
   ],
   "source": [
    "neuron_obj.segment_id"
   ]
  },
  {
   "cell_type": "code",
   "execution_count": 24,
   "metadata": {},
   "outputs": [
    {
     "name": "stdout",
     "output_type": "stream",
     "text": [
      "\n",
      " Working on visualization type: mesh\n",
      "\n",
      " Working on visualization type: skeleton\n"
     ]
    },
    {
     "data": {
      "application/vnd.jupyter.widget-view+json": {
       "model_id": "5f0673ed2893497fb26aaf87aac123e9",
       "version_major": 2,
       "version_minor": 0
      },
      "text/plain": [
       "VBox(children=(Figure(camera=PerspectiveCamera(fov=46.0, position=(0.0, 0.0, 2.0), projectionMatrix=(1.0, 0.0,…"
      ]
     },
     "metadata": {},
     "output_type": "display_data"
    }
   ],
   "source": [
    "nviz.visualize_neuron(neuron_obj,\n",
    "                     limb_branch_dict=\"all\")"
   ]
  },
  {
   "cell_type": "code",
   "execution_count": 25,
   "metadata": {
    "scrolled": true
   },
   "outputs": [
    {
     "name": "stdout",
     "output_type": "stream",
     "text": [
      "\n",
      "Part 1: Axon like branchese \n",
      "{'L0': array([ 0,  1,  2,  3,  4,  5,  6,  7,  8,  9, 10, 11, 12, 13, 14, 15, 16,\n",
      "       17, 18, 19, 20, 21, 22, 23, 24, 25, 26, 27, 28, 29, 30, 31, 32, 33,\n",
      "       34, 35, 36, 37]), 'L2': array([0]), 'L5': array([1]), 'L7': array([0]), 'L8': array([0])}\n",
      "Limb L0 soma angle: 164.26 \n",
      "Limb L1 soma angle: 106.84 \n",
      "Limb L2 soma angle: 17.13 \n",
      "Limb L3 soma angle: 49.37 \n",
      "Limb L4 soma angle: 136.14 \n",
      "Limb L5 soma angle: 160.68 \n",
      "Limb L6 soma angle: 85.6 \n",
      "Limb L7 soma angle: 81.61 \n",
      "Limb L8 soma angle: 95.44 \n",
      "\n",
      "Part 2: possible_axon_limbs = [0, 1, 4, 5, 6, 7, 8]\n",
      "\n",
      "Phase 2: Working on Limb L0\n",
      "nodes_to_eliminate = []\n",
      "\n",
      "Phase 2: Working on Limb L1\n",
      "nodes_to_eliminate = [6]\n",
      "\n",
      "Phase 2: Working on Limb L4\n",
      "nodes_to_eliminate = [0]\n",
      "\n",
      "Phase 2: Working on Limb L5\n",
      "nodes_to_eliminate = [2]\n",
      "\n",
      "Phase 2: Working on Limb L6\n",
      "nodes_to_eliminate = []\n",
      "\n",
      "Phase 2: Working on Limb L7\n",
      "nodes_to_eliminate = [0]\n",
      "The filtered network is empty so just leaving the candidates as empty lists\n",
      "\n",
      "Phase 2: Working on Limb L8\n",
      "nodes_to_eliminate = [0]\n",
      "The filtered network is empty so just leaving the candidates as empty lists\n",
      "\n",
      "----Working on Limb L0-----\n",
      "No nodes were eliminated so don't need to add back any candidates\n",
      "\n",
      "----Working on Limb L1-----\n",
      "No endpoints were eliminated so don't need to add back any candidates\n",
      "\n",
      "----Working on Limb L4-----\n",
      "No endpoints were eliminated so don't need to add back any candidates\n",
      "\n",
      "----Working on Limb L5-----\n",
      "No endpoints were eliminated so don't need to add back any candidates\n",
      "\n",
      "----Working on Limb L6-----\n",
      "No nodes were eliminated so don't need to add back any candidates\n",
      "\n",
      "----Working on Limb L7-----\n",
      "network was only of size 1 and that node was eliminated so returning that as the only candidate\n",
      "\n",
      "----Working on Limb L8-----\n",
      "network was only of size 1 and that node was eliminated so returning that as the only candidate\n",
      "\n",
      " Working on visualization type: mesh\n"
     ]
    },
    {
     "data": {
      "application/vnd.jupyter.widget-view+json": {
       "model_id": "7ed187cd9a914b90b9dcf84a81a4b023",
       "version_major": 2,
       "version_minor": 0
      },
      "text/plain": [
       "VBox(children=(Figure(camera=PerspectiveCamera(fov=46.0, position=(0.0, 0.0, 2.0), projectionMatrix=(1.0, 0.0,…"
      ]
     },
     "metadata": {},
     "output_type": "display_data"
    },
    {
     "name": "stdout",
     "output_type": "stream",
     "text": [
      "Final Candidates\n",
      "\n",
      "Limb 0\n",
      "Candidate 0 (blue): array([ 0,  1,  2,  3,  4,  5,  6,  7,  8,  9, 10, 11, 12, 13, 14, 15, 16,\n",
      "       17, 18, 19, 20, 21, 22, 23, 24, 25, 26, 27, 28, 29, 30, 31, 32, 33,\n",
      "       34, 35, 36, 37])\n",
      "\n",
      "Limb 1\n",
      "Candidate 0 (magenta): array([4])\n",
      "Candidate 1 (tan): array([0, 1, 2, 3, 5])\n",
      "\n",
      "Limb 4\n",
      "Candidate 0 (orange): array([1])\n",
      "Candidate 1 (cyan): array([2, 3, 4])\n",
      "\n",
      "Limb 5\n",
      "Candidate 0 (gray): array([0])\n",
      "Candidate 1 (darkslategray): array([1])\n",
      "\n",
      "Limb 6\n",
      "Candidate 0 (blue): array([0, 1, 2])\n",
      "\n",
      "Limb 7\n",
      "Candidate 0 (brown): array([0])\n",
      "\n",
      "Limb 8\n",
      "Candidate 0 (olive): array([0])\n",
      "Part 3: axon_subgraph_candidates = {0: [[0, 1, 2, 3, 4, 5, 6, 7, 8, 9, 10, 11, 12, 13, 14, 15, 16, 17, 18, 19, 20, 21, 22, 23, 24, 25, 26, 27, 28, 29, 30, 31, 32, 33, 34, 35, 36, 37]], 1: [[4], [0, 1, 2, 3, 5]], 4: [[1], [2, 3, 4]], 5: [[0], [1]], 6: [[0, 1, 2]], 7: [[0]], 8: [[0]]}\n",
      "\n",
      "\n",
      " --- Working on limb 0, candidate # 0\n",
      "38 out of 38 branches are axons\n",
      "Axon percentage = 1.0\n",
      "curr_axon_angle_threshold = 95\n",
      "candidate_nodes = [ 0  1  2  3  4  5  6  7  8  9 10 11 12 13 14 15 16 17 18 19 20 21 22 23\n",
      " 24 25 26 27 28 29 30 31 32 33 34 35 36 37]\n",
      "non_axon_branches_on_subgraph = []\n",
      "endnodes_to_test = [5489]\n",
      "Skeleton paths distances = [24998.52998108]\n",
      "Filtered indexes = [0]\n",
      "len(filtered_skeletons) = 1\n",
      "sk_angles = [147.66554516]\n",
      "base_final_widths = [218.03017391 243.5590477 ]\n",
      "overall_ais_width = 213.30026019549257\n",
      "ais_width = 230.79461080739887\n",
      "Adding the following branches as true axons: [ 0.  1.  2.  3.  4.  5.  6.  7.  8.  9. 10. 11. 12. 13. 14. 15. 16. 17.\n",
      " 18. 19. 20. 21. 22. 23. 24. 25. 26. 27. 28. 29. 30. 31. 32. 33. 34. 35.\n",
      " 36. 37.]\n",
      "curr_soma_angle = 164.26\n",
      "max_axon_angle = 147.665545157858\n",
      "Changing to a better axon candidate\n",
      "\n",
      "\n",
      " --- Working on limb 1, candidate # 0\n",
      "0 out of 1 branches are axons\n",
      "Axon percentage = 0.0\n",
      "Not adding candidate no axon branches detected \n",
      "\n",
      "\n",
      " --- Working on limb 1, candidate # 1\n",
      "0 out of 5 branches are axons\n",
      "Axon percentage = 0.0\n",
      "Not adding candidate no axon branches detected \n",
      "\n",
      "\n",
      " --- Working on limb 4, candidate # 0\n",
      "0 out of 1 branches are axons\n",
      "Axon percentage = 0.0\n",
      "Not adding candidate no axon branches detected \n",
      "\n",
      "\n",
      " --- Working on limb 4, candidate # 1\n",
      "0 out of 3 branches are axons\n",
      "Axon percentage = 0.0\n",
      "Not adding candidate no axon branches detected \n",
      "\n",
      "\n",
      " --- Working on limb 5, candidate # 0\n",
      "0 out of 1 branches are axons\n",
      "Axon percentage = 0.0\n",
      "Not adding candidate no axon branches detected \n",
      "\n",
      "\n",
      " --- Working on limb 5, candidate # 1\n",
      "1 out of 1 branches are axons\n",
      "Axon percentage = 1.0\n",
      "curr_axon_angle_threshold = 95\n",
      "candidate_nodes = [1 2]\n",
      "non_axon_branches_on_subgraph = [2]\n",
      "endnodes_to_test = [0]\n",
      "Skeleton paths distances = [16066.74858607]\n",
      "Filtered indexes = []\n",
      "len(filtered_skeletons) = 1\n",
      "sk_angles = [124.35004368]\n",
      "base_final_widths = [325.38891954 237.69399071 339.07688401]\n",
      "overall_ais_width = 325.38891954105776\n",
      "ais_width = 300.71993141815307\n",
      "Adding the following branches as true axons: [1]\n",
      "curr_soma_angle = 160.68\n",
      "max_axon_angle = 124.35004368019995\n",
      "Not replacing best axon because angle (124.35004368019995) was less than the 147.665545157858 \n",
      "and/or skeletal_length_ratio (10.652760176990283) was not less than 1/best_axon_skeletal_legnth_ratio (0.05)\n",
      "\n",
      "\n",
      " --- Working on limb 6, candidate # 0\n",
      "0 out of 3 branches are axons\n",
      "Axon percentage = 0.0\n",
      "Not adding candidate no axon branches detected \n",
      "\n",
      "\n",
      " --- Working on limb 7, candidate # 0\n",
      "1 out of 1 branches are axons\n",
      "Axon percentage = 1.0\n",
      "curr_axon_angle_threshold = 95\n",
      "candidate_nodes = [0]\n",
      "non_axon_branches_on_subgraph = []\n",
      "endnodes_to_test = [81]\n",
      "Skeleton paths distances = [11922.33110165]\n",
      "Filtered indexes = []\n",
      "len(filtered_skeletons) = 1\n",
      "sk_angles = [94.38668164]\n",
      "Not adding candidate because no angles ([94.38668164]) passed the threhold 95 \n",
      "\n",
      "\n",
      " --- Working on limb 8, candidate # 0\n",
      "1 out of 1 branches are axons\n",
      "Axon percentage = 1.0\n",
      "curr_axon_angle_threshold = 95\n",
      "candidate_nodes = [0]\n",
      "non_axon_branches_on_subgraph = []\n",
      "endnodes_to_test = [0]\n",
      "Skeleton paths distances = [11753.84289471]\n",
      "Filtered indexes = []\n",
      "len(filtered_skeletons) = 1\n",
      "sk_angles = [93.83384575]\n",
      "Not adding candidate because no angles ([93.83384575]) passed the threhold 95 \n",
      "Using the best axon approach\n",
      "\n",
      "\n",
      "Part 4: final_true_axons = {'L0': array([ 0.,  1.,  2.,  3.,  4.,  5.,  6.,  7.,  8.,  9., 10., 11., 12.,\n",
      "       13., 14., 15., 16., 17., 18., 19., 20., 21., 22., 23., 24., 25.,\n",
      "       26., 27., 28., 29., 30., 31., 32., 33., 34., 35., 36., 37.])}\n",
      "\n",
      " Working on visualization type: mesh\n"
     ]
    },
    {
     "data": {
      "application/vnd.jupyter.widget-view+json": {
       "model_id": "59c32918cf6f47c0b8b6f13e706682d2",
       "version_major": 2,
       "version_minor": 0
      },
      "text/plain": [
       "VBox(children=(Figure(camera=PerspectiveCamera(fov=46.0, position=(0.0, 0.0, 2.0), projectionMatrix=(1.0, 0.0,…"
      ]
     },
     "metadata": {},
     "output_type": "display_data"
    },
    {
     "data": {
      "text/plain": [
       "({'L0': array([ 0.,  1.,  2.,  3.,  4.,  5.,  6.,  7.,  8.,  9., 10., 11., 12.,\n",
       "         13., 14., 15., 16., 17., 18., 19., 20., 21., 22., 23., 24., 25.,\n",
       "         26., 27., 28., 29., 30., 31., 32., 33., 34., 35., 36., 37.])},\n",
       " {})"
      ]
     },
     "execution_count": 25,
     "metadata": {},
     "output_type": "execute_result"
    }
   ],
   "source": [
    "clu.axon_classification(neuron_obj,\n",
    "                        plot_candidates=True,\n",
    "                       best_axon=True,\n",
    "                       plot_axons=True)"
   ]
  },
  {
   "cell_type": "markdown",
   "metadata": {},
   "source": [
    "# Should not be absolutely tiny at the start"
   ]
  },
  {
   "cell_type": "code",
   "execution_count": 36,
   "metadata": {},
   "outputs": [
    {
     "data": {
      "text/plain": [
       "{0: {0: {'touching_verts': TrackedArray([[789305.9, 756181.4, 608356.1],\n",
       "                 [790240.5, 756210. , 608044.5],\n",
       "                 [789318.4, 756236.1, 608083.2],\n",
       "                 [790146. , 756252. , 607908. ],\n",
       "                 [789726. , 755895. , 608412. ],\n",
       "                 [789978. , 755790. , 608433. ],\n",
       "                 [789735. , 756183.9, 607682.6],\n",
       "                 [789348. , 756294. , 607971. ],\n",
       "                 [789339.5, 756278.3, 608261. ],\n",
       "                 [789432. , 756052.5, 608485.5],\n",
       "                 [789400.5, 756304.5, 607871.2],\n",
       "                 [789531.4, 756218.2, 607709.7],\n",
       "                 [790144.5, 755929.4, 608369.4],\n",
       "                 [789907.9, 756191.2, 607755.3],\n",
       "                 [789872.9, 755893.8, 608452.2],\n",
       "                 [789639.6, 756372.7, 607791.6],\n",
       "                 [789558. , 756084. , 608412. ],\n",
       "                 [790158.6, 756062.9, 608195. ],\n",
       "                 [790192.9, 756104.8, 608006.9],\n",
       "                 [789703. , 756291. , 607756.6],\n",
       "                 [790046.2, 756220.5, 607855.5],\n",
       "                 [789390. , 756378. , 607876.5],\n",
       "                 [790167. , 756063. , 608412. ],\n",
       "                 [790083. , 755916. , 608433. ]]),\n",
       "   'endpoint': array([790137.51049628, 756301.14481754, 608453.20500677])}}}"
      ]
     },
     "execution_count": 36,
     "metadata": {},
     "output_type": "execute_result"
    }
   ],
   "source": [
    "neuron_obj.preprocessed_data[\"limb_network_stating_info\"][0]"
   ]
  },
  {
   "cell_type": "code",
   "execution_count": 41,
   "metadata": {},
   "outputs": [
    {
     "name": "stdout",
     "output_type": "stream",
     "text": [
      "Starting axon branch was the starting node so using border vertices and NOT computing upstream branch\n",
      "upstream_node_to_axon_starting_branch = None\n"
     ]
    },
    {
     "name": "stderr",
     "output_type": "stream",
     "text": [
      "\r",
      "  0%|          | 0/1 [00:00<?, ?it/s]"
     ]
    },
    {
     "name": "stdout",
     "output_type": "stream",
     "text": [
      "soma_touching_vertices_dict = {0: [TrackedArray([[789305.9, 756181.4, 608356.1],\n",
      "              [790240.5, 756210. , 608044.5],\n",
      "              [789318.4, 756236.1, 608083.2],\n",
      "              [790146. , 756252. , 607908. ],\n",
      "              [789726. , 755895. , 608412. ],\n",
      "              [789978. , 755790. , 608433. ],\n",
      "              [789735. , 756183.9, 607682.6],\n",
      "              [789348. , 756294. , 607971. ],\n",
      "              [789339.5, 756278.3, 608261. ],\n",
      "              [789432. , 756052.5, 608485.5],\n",
      "              [789400.5, 756304.5, 607871.2],\n",
      "              [789531.4, 756218.2, 607709.7],\n",
      "              [790144.5, 755929.4, 608369.4],\n",
      "              [789907.9, 756191.2, 607755.3],\n",
      "              [789872.9, 755893.8, 608452.2],\n",
      "              [789639.6, 756372.7, 607791.6],\n",
      "              [789558. , 756084. , 608412. ],\n",
      "              [790158.6, 756062.9, 608195. ],\n",
      "              [790192.9, 756104.8, 608006.9],\n",
      "              [789703. , 756291. , 607756.6],\n",
      "              [790046.2, 756220.5, 607855.5],\n",
      "              [789390. , 756378. , 607876.5],\n",
      "              [790167. , 756063. , 608412. ],\n",
      "              [790083. , 755916. , 608433. ]])]}\n",
      "root_curr = [789305.9 756181.4 608356.1]\n",
      "Time for preparing soma vertices and root: 0.00041675567626953125\n",
      "invalidation_d = 1200\n",
      "cc_vertex_thresh = 10\n"
     ]
    },
    {
     "data": {
      "application/vnd.jupyter.widget-view+json": {
       "model_id": "73126f987650481ca76da673be6b3684",
       "version_major": 2,
       "version_minor": 0
      },
      "text/plain": [
       "HBox(children=(FloatProgress(value=0.0, max=56775.0), HTML(value='')))"
      ]
     },
     "metadata": {},
     "output_type": "display_data"
    },
    {
     "name": "stderr",
     "output_type": "stream",
     "text": [
      "100%|██████████| 1/1 [00:02<00:00,  2.72s/it]"
     ]
    },
    {
     "name": "stdout",
     "output_type": "stream",
     "text": [
      "\n"
     ]
    },
    {
     "name": "stderr",
     "output_type": "stream",
     "text": [
      "\n"
     ]
    },
    {
     "name": "stdout",
     "output_type": "stream",
     "text": [
      "meshparty_segment_size = 100\n",
      "Time for 1st pass MP skeletonization: 3.3397390842437744\n",
      "branches_touching_root = [22]\n",
      "combining close nodes\n",
      "combine_threshold = 1300\n",
      "length of Graph = 14260\n",
      "Working on path [555. 557. 559. 560.]\n",
      "path_degrees = [4, 2, 2, 3]\n",
      "Working on path [2908. 2915. 2923. 2932. 2950. 2969. 2973.]\n",
      "path_degrees = [3, 2, 2, 2, 2, 2, 3]\n",
      "Working on path [4282. 4289. 4296. 4301. 4306. 4313. 4317. 4321. 4325. 4328. 4331. 4332.]\n",
      "path_degrees = [3, 2, 2, 2, 2, 2, 2, 2, 2, 2, 2, 3]\n",
      "Working on path [5902. 5926. 5949. 5953.]\n",
      "path_degrees = [3, 2, 2, 3]\n",
      "Working on path [6011. 6029. 6039.]\n",
      "path_degrees = [3, 2, 3]\n",
      "Working on path [9289. 9293. 9299. 9304. 9309. 9310.]\n",
      "path_degrees = [3, 2, 2, 2, 2, 3]\n",
      "Working on path [12884. 12907. 12920. 12933. 12945. 12960. 12970. 12980. 12984.]\n",
      "path_degrees = [3, 2, 2, 2, 2, 2, 2, 2, 3]\n",
      "Working on path [12968. 12981. 12995.]\n",
      "path_degrees = [3, 2, 3]\n",
      "Working on path [14266. 12988. 12987. 12986.]\n",
      "path_degrees = [4, 2, 2, 3]\n",
      "Working on path [14268. 12991. 12997. 13001. 13004. 13011. 13016. 13028.]\n",
      "path_degrees = [5, 2, 2, 2, 2, 2, 2, 3]\n",
      "Working on path [14267. 13009. 13017.]\n",
      "path_degrees = [4, 2, 3]\n",
      "Working on path [14270. 13021. 13024. 13026. 14269.]\n",
      "path_degrees = [5, 2, 2, 2, 6]\n",
      "Working on path [14271. 13034. 13042. 13052. 13061. 13072. 13079.]\n",
      "path_degrees = [9, 2, 2, 2, 2, 2, 3]\n",
      "Working on path [13066. 13069. 13075. 13078. 14272.]\n",
      "path_degrees = [3, 2, 2, 2, 10]\n",
      "Working on path [14273. 13077. 13087. 13095. 13102. 13109. 13116. 13118.]\n",
      "path_degrees = [11, 2, 2, 2, 2, 2, 2, 3]\n",
      "Working on path [13177. 13176. 13175. 13178. 13180. 13181.]\n",
      "path_degrees = [3, 2, 2, 2, 2, 3]\n",
      "Working on path [13285. 13292. 13299. 13307. 13312. 13318.]\n",
      "path_degrees = [3, 2, 2, 2, 2, 3]\n",
      "Working on path [13791. 13793. 13795. 13797. 13799.]\n",
      "path_degrees = [3, 2, 2, 2, 3]\n",
      "Working on path [14277. 13800. 13801. 13802. 13803. 13804.]\n",
      "path_degrees = [4, 2, 2, 2, 2, 3]\n",
      "After combining close endpoints max(kept_branches_idx) = 213, len(kept_branches_idx) = 195\n",
      "empty_indices % = 0.0\n",
      " conflict_indices % = 0.05167353289601641\n"
     ]
    },
    {
     "data": {
      "application/vnd.jupyter.widget-view+json": {
       "model_id": "6644e7e742424857961c3138e85ab074",
       "version_major": 2,
       "version_minor": 0
      },
      "text/plain": [
       "HBox(children=(FloatProgress(value=0.0, max=81.0), HTML(value='')))"
      ]
     },
     "metadata": {},
     "output_type": "display_data"
    },
    {
     "name": "stdout",
     "output_type": "stream",
     "text": [
      "\n",
      "AFTER face_lookup_resolved_test\n"
     ]
    },
    {
     "data": {
      "application/vnd.jupyter.widget-view+json": {
       "model_id": "dd7a935e2ba5454c92fbfc7e533a01ee",
       "version_major": 2,
       "version_minor": 0
      },
      "text/plain": [
       "HBox(children=(FloatProgress(value=0.0, max=195.0), HTML(value='')))"
      ]
     },
     "metadata": {},
     "output_type": "display_data"
    },
    {
     "name": "stdout",
     "output_type": "stream",
     "text": [
      "\n",
      "Decomposing first pass: 11.022558450698853\n",
      "Only Using MeshParty Skeletonization and Mesh Correspondence\n",
      "Another print\n",
      "Divinding into MP and MAP pieces: 2.765655517578125e-05\n",
      "Total time for MAP sublimb processing 4.291534423828125e-06\n",
      "---- Working on MP Decomposition #0 ----\n",
      "Using Quicker soma_to_piece_touching_vertices because no MAP and only one sublimb_mesh piece \n",
      "MP filtering soma verts: 0.00010824203491210938\n",
      "Fixing Possible Soma Extension Branch for Sublimb 0\n",
      "Total time for mesh KDTree = 0.0014483928680419922\n",
      "sbv[0].reshape(-1,3) = [[789305.9 756181.4 608356.1]]\n",
      "closest_sk_pt_coord BEFORE = [789936.85782423 756386.20058738 607863.09383671]\n",
      "current_skeleton.shape = (10, 2, 3)\n",
      "node_for_stitch = 0: [789936.85782423 756386.20058738 607863.09383671]\n",
      "node_for_stitch AFTER = 0: [789936.85782423 756386.20058738 607863.09383671]\n",
      "possible_node_loc = [0 4]\n",
      "possible_node_loc AFTER = [0 4]\n",
      "curr_shortest_path = [0]\n",
      "Current stitch point was a branch or endpoint\n",
      "change_status for create soma extending pieces = False\n",
      "closest_sk_pt_coord AFTER = [789936.85782423 756386.20058738 607863.09383671]\n",
      "skipping soma 0 because closest skeleton node was already end node\n",
      "endpoints_must_keep = {0: array([[789936.85782423, 756386.20058738, 607863.09383671]])}\n",
      "match_sk_branches = [20]\n",
      "The new branch info was none so skipping \n",
      "\n",
      "No soma extending branch was added for this sublimb even though it had a soma border (means they already existed)\n",
      "MP (because soma touching verts) soma extension add: 0.5594711303710938\n",
      "There were not both MAP and MP pieces so skipping the stitch resolving phase\n",
      "Time for decomp of Limb = 15.281219959259033\n",
      "Number of matching vertices = 24\n",
      "Only one endpoint after filtering away the endpoints that are not on the skeleton\n",
      "Using Distance measure skeletal_distance\n",
      "endpoints_must_keep = [[789936.85782423 756386.20058738 607863.09383671]]\n",
      "Number of end_nodes BEFORE filtering = 109\n",
      "all_single_nodes_to_eliminate = [27]\n"
     ]
    },
    {
     "data": {
      "application/vnd.jupyter.widget-view+json": {
       "model_id": "8447044a28604a09a024f13052d919f9",
       "version_major": 2,
       "version_minor": 0
      },
      "text/plain": [
       "HBox(children=(FloatProgress(value=0.0, max=58.0), HTML(value='')))"
      ]
     },
     "metadata": {},
     "output_type": "display_data"
    },
    {
     "name": "stdout",
     "output_type": "stream",
     "text": [
      "\n",
      "Removed 55 skeletal branches\n"
     ]
    },
    {
     "data": {
      "application/vnd.jupyter.widget-view+json": {
       "model_id": "cf95509537434ff3add7585e26c61c60",
       "version_major": 2,
       "version_minor": 0
      },
      "text/plain": [
       "HBox(children=(FloatProgress(value=0.0, max=195.0), HTML(value='')))"
      ]
     },
     "metadata": {},
     "output_type": "display_data"
    },
    {
     "name": "stdout",
     "output_type": "stream",
     "text": [
      "\n",
      "113368 113369\n",
      "For marked faces: None\n",
      "empty_indices % = 0.00216990535331528\n",
      " conflict_indices % = 0.0\n"
     ]
    },
    {
     "data": {
      "application/vnd.jupyter.widget-view+json": {
       "model_id": "02758a5cccf649d1b22c83126a967cb7",
       "version_major": 2,
       "version_minor": 0
      },
      "text/plain": [
       "HBox(children=(FloatProgress(value=0.0, max=2.0), HTML(value='')))"
      ]
     },
     "metadata": {},
     "output_type": "display_data"
    },
    {
     "name": "stdout",
     "output_type": "stream",
     "text": [
      "\n",
      "AFTER face_lookup_resolved_test\n"
     ]
    },
    {
     "data": {
      "application/vnd.jupyter.widget-view+json": {
       "model_id": "b966e24fd6544c32a6547752197081a1",
       "version_major": 2,
       "version_minor": 0
      },
      "text/plain": [
       "HBox(children=(FloatProgress(value=0.0, max=89.0), HTML(value='')))"
      ]
     },
     "metadata": {},
     "output_type": "display_data"
    },
    {
     "name": "stdout",
     "output_type": "stream",
     "text": [
      "\n",
      "Upstream node was None so don't have to adjust\n"
     ]
    }
   ],
   "source": [
    "new_limb_corr, st_info = pre.high_fidelity_axon_decomposition(neuron_obj,\n",
    "                                     plot_new_axon_limb_correspondence=False,\n",
    "                                     plot_connecting_skeleton_fix = False,\n",
    "                                     return_starting_info=True,\n",
    "                                verbose = True,\n",
    ")"
   ]
  },
  {
   "cell_type": "markdown",
   "metadata": {},
   "source": [
    "# The whole process of replacing the axon with higher fidelity"
   ]
  },
  {
   "cell_type": "code",
   "execution_count": 47,
   "metadata": {},
   "outputs": [
    {
     "data": {
      "text/html": [
       "\n",
       "        \n",
       "        <style type=\"text/css\">\n",
       "            .Relation{\n",
       "                border-collapse:collapse;\n",
       "            }\n",
       "            .Relation th{\n",
       "                background: #A0A0A0; color: #ffffff; padding:4px; border:#f0e0e0 1px solid;\n",
       "                font-weight: normal; font-family: monospace; font-size: 100%;\n",
       "            }\n",
       "            .Relation td{\n",
       "                padding:4px; border:#f0e0e0 1px solid; font-size:100%;\n",
       "            }\n",
       "            .Relation tr:nth-child(odd){\n",
       "                background: #ffffff;\n",
       "            }\n",
       "            .Relation tr:nth-child(even){\n",
       "                background: #f3f1ff;\n",
       "            }\n",
       "            /* Tooltip container */\n",
       "            .djtooltip {\n",
       "            }\n",
       "            /* Tooltip text */\n",
       "            .djtooltip .djtooltiptext {\n",
       "                visibility: hidden;\n",
       "                width: 120px;\n",
       "                background-color: black;\n",
       "                color: #fff;\n",
       "                text-align: center;\n",
       "                padding: 5px 0;\n",
       "                border-radius: 6px;\n",
       "                /* Position the tooltip text - see examples below! */\n",
       "                position: absolute;\n",
       "                z-index: 1;\n",
       "            }\n",
       "            #primary {\n",
       "                font-weight: bold;\n",
       "                color: black;\n",
       "            }\n",
       "\n",
       "            #nonprimary {\n",
       "                font-weight: normal;\n",
       "                color: white;\n",
       "            }\n",
       "\n",
       "            /* Show the tooltip text when you mouse over the tooltip container */\n",
       "            .djtooltip:hover .djtooltiptext {\n",
       "                visibility: visible;\n",
       "            }\n",
       "        </style>\n",
       "        \n",
       "        <b>nucleus_ids classified as neurons from AIBS table merge of nucleus_detection_v0 and nucleus_neuron_svm</b>\n",
       "            <div style=\"max-height:1000px;max-width:1500px;overflow:auto;\">\n",
       "            <table border=\"1\" class=\"Relation\">\n",
       "                <thead> <tr style=\"text-align: right;\"> <th> <div class=\"djtooltip\">\n",
       "                                <p id=\"primary\">nucleus_id</p>\n",
       "                                <span class=\"djtooltiptext\"></span>\n",
       "                            </div> </th> </tr> </thead>\n",
       "                <tbody> <tr> <td>1841</td></tr><tr><td>1896</td></tr><tr><td>2005</td></tr><tr><td>2020</td></tr><tr><td>2242</td></tr><tr><td>2260</td></tr><tr><td>2329</td></tr><tr><td>2417</td></tr><tr><td>2433</td></tr><tr><td>2765</td></tr><tr><td>2905</td></tr><tr><td>2961</td> </tr> </tbody>\n",
       "            </table>\n",
       "            <p>...</p>\n",
       "            <p>Total: 89056</p></div>\n",
       "            "
      ],
      "text/plain": [
       "*nucleus_id   \n",
       "+------------+\n",
       "1841          \n",
       "1896          \n",
       "2005          \n",
       "2020          \n",
       "2242          \n",
       "2260          \n",
       "2329          \n",
       "2417          \n",
       "2433          \n",
       "2765          \n",
       "2905          \n",
       "2961          \n",
       "   ...\n",
       " (Total: 89056)"
      ]
     },
     "execution_count": 47,
     "metadata": {},
     "output_type": "execute_result"
    }
   ],
   "source": []
  },
  {
   "cell_type": "code",
   "execution_count": 46,
   "metadata": {
    "scrolled": true
   },
   "outputs": [
    {
     "data": {
      "application/vnd.jupyter.widget-view+json": {
       "model_id": "69f3969bc5014f5d86bbb6b00babb002",
       "version_major": 2,
       "version_minor": 0
      },
      "text/plain": [
       "VBox(children=(Figure(camera=PerspectiveCamera(fov=46.0, position=(0.0, 0.0, 2.0), projectionMatrix=(1.0, 0.0,…"
      ]
     },
     "metadata": {},
     "output_type": "display_data"
    }
   ],
   "source": [
    "\"\"\"\n",
    "Purpose: To replace the axon branches with a higher\n",
    "fidelity representation within the neuron object\n",
    "(aka replacing all of the branch objects)\n",
    "\n",
    "Pseudocode:\n",
    "0) Get the limb branch dict for the axon (if empty then return)\n",
    "1) Generate the new limb correspondence for the axon\n",
    "2) Combine the data with any left over branches that still exist \n",
    "in the limb object\n",
    "\n",
    "a. Figure out if the starting branch was in the axon group or not\n",
    "--> if in axon group then use starting limb informatoin from there\n",
    "(if not then use existting)\n",
    "\n",
    "b. Delete all replaced branches\n",
    "\n",
    "c. Rename the existing branches so not incorporate any of the new names\n",
    "\n",
    "d. \n",
    "\n",
    "\"\"\"\n",
    "\n"
   ]
  },
  {
   "cell_type": "code",
   "execution_count": null,
   "metadata": {},
   "outputs": [],
   "source": []
  }
 ],
 "metadata": {
  "kernelspec": {
   "display_name": "Python 3",
   "language": "python",
   "name": "python3"
  },
  "language_info": {
   "codemirror_mode": {
    "name": "ipython",
    "version": 3
   },
   "file_extension": ".py",
   "mimetype": "text/x-python",
   "name": "python",
   "nbconvert_exporter": "python",
   "pygments_lexer": "ipython3",
   "version": "3.6.9"
  }
 },
 "nbformat": 4,
 "nbformat_minor": 4
}
