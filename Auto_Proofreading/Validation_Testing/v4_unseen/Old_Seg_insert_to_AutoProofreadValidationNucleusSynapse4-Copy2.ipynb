{
 "cells": [
  {
   "cell_type": "code",
   "execution_count": 1,
   "metadata": {},
   "outputs": [],
   "source": [
    "%load_ext autoreload\n",
    "%autoreload 2"
   ]
  },
  {
   "cell_type": "code",
   "execution_count": 2,
   "metadata": {},
   "outputs": [
    {
     "name": "stderr",
     "output_type": "stream",
     "text": [
      "INFO - 2021-05-24 15:22:57,357 - settings - Setting database.host to at-database.ad.bcm.edu\n",
      "INFO - 2021-05-24 15:22:57,359 - settings - Setting database.user to celiib\n",
      "INFO - 2021-05-24 15:22:57,360 - settings - Setting database.password to newceliipass\n",
      "INFO - 2021-05-24 15:22:57,363 - settings - Setting stores to {'minnie65': {'protocol': 'file', 'location': '/mnt/dj-stor01/platinum/minnie65', 'stage': '/mnt/dj-stor01/platinum/minnie65'}, 'meshes': {'protocol': 'file', 'location': '/mnt/dj-stor01/platinum/minnie65/02/meshes', 'stage': '/mnt/dj-stor01/platinum/minnie65/02/meshes'}, 'decimated_meshes': {'protocol': 'file', 'location': '/mnt/dj-stor01/platinum/minnie65/02/decimated_meshes', 'stage': '/mnt/dj-stor01/platinum/minnie65/02/decimated_meshes'}, 'skeletons': {'protocol': 'file', 'location': '/mnt/dj-stor01/platinum/minnie65/02/skeletons'}}\n",
      "INFO - 2021-05-24 15:22:57,364 - settings - Setting enable_python_native_blobs to True\n",
      "INFO - 2021-05-24 15:22:57,375 - connection - Connected celiib@at-database.ad.bcm.edu:3306\n"
     ]
    },
    {
     "name": "stdout",
     "output_type": "stream",
     "text": [
      "Connecting celiib@at-database.ad.bcm.edu:3306\n"
     ]
    },
    {
     "name": "stderr",
     "output_type": "stream",
     "text": [
      "INFO - 2021-05-24 15:22:57,833 - settings - Setting enable_python_native_blobs to True\n",
      "INFO - 2021-05-24 15:22:57,836 - settings - Setting database.host to at-database.ad.bcm.edu\n",
      "INFO - 2021-05-24 15:22:57,837 - settings - Setting database.user to celiib\n",
      "INFO - 2021-05-24 15:22:57,838 - settings - Setting database.password to newceliipass\n",
      "INFO - 2021-05-24 15:22:57,839 - settings - Setting database.host to at-database.ad.bcm.edu\n",
      "INFO - 2021-05-24 15:22:57,840 - settings - Setting database.user to celiib\n",
      "INFO - 2021-05-24 15:22:57,840 - settings - Setting database.password to newceliipass\n",
      "INFO - 2021-05-24 15:22:57,842 - settings - Setting enable_python_native_blobs to True\n",
      "INFO - 2021-05-24 15:22:58,346 - settings - Setting enable_python_native_blobs to True\n",
      "INFO - 2021-05-24 15:22:58,385 - settings - Setting database.host to at-database.ad.bcm.edu\n",
      "INFO - 2021-05-24 15:22:58,386 - settings - Setting database.user to celiib\n",
      "INFO - 2021-05-24 15:22:58,387 - settings - Setting database.password to newceliipass\n",
      "INFO - 2021-05-24 15:22:58,392 - settings - Setting enable_python_native_blobs to True\n",
      "INFO - 2021-05-24 15:22:58,930 - settings - Setting enable_python_native_blobs to True\n"
     ]
    }
   ],
   "source": [
    "from os import sys\n",
    "sys.path.append(\"/meshAfterParty/meshAfterParty/\")\n",
    "import datajoint as dj\n",
    "import datajoint_utils as du\n",
    "\n",
    "minnie,schema = du.configure_minnie_vm()\n",
    "m65mat = du.m65mat"
   ]
  },
  {
   "cell_type": "code",
   "execution_count": 3,
   "metadata": {},
   "outputs": [],
   "source": [
    "import validation_utils as vu"
   ]
  },
  {
   "cell_type": "code",
   "execution_count": 4,
   "metadata": {},
   "outputs": [],
   "source": [
    "# original_seg_ids = ((minnie.Decimation() & minnie.AutoProofreadValidationSegment4() & \"decimation_ratio=0.25\") \n",
    "#                     - minnie.AutoProofreadValidationSegmentExclude4()).fetch(\"segment_id\")\n",
    "# original_seg_ids"
   ]
  },
  {
   "cell_type": "code",
   "execution_count": 5,
   "metadata": {},
   "outputs": [],
   "source": [
    "import system_utils as su\n",
    "original_seg_ids = su.decompress_pickle(\"original_seg_ids\")"
   ]
  },
  {
   "cell_type": "code",
   "execution_count": 6,
   "metadata": {},
   "outputs": [
    {
     "data": {
      "text/plain": [
       "(138,)"
      ]
     },
     "execution_count": 6,
     "metadata": {},
     "output_type": "execute_result"
    }
   ],
   "source": [
    "original_seg_ids.shape"
   ]
  },
  {
   "cell_type": "code",
   "execution_count": 7,
   "metadata": {},
   "outputs": [
    {
     "name": "stdout",
     "output_type": "stream",
     "text": [
      "\n",
      "Working on neuron 56: 864691135736387732\n",
      "# of end nodes = 39\n",
      "last_datetime_edited = 2020-10-07 15:02:49.207000\n",
      "# of presyn = 484, # of postsyn = 6881\n",
      "Total synapses BEFORE filtering = 7365\n",
      "Total synapses AFTER filtering = 7279\n",
      "4382 out of 7279 were within threshold of original mesh\n"
     ]
    },
    {
     "name": "stderr",
     "output_type": "stream",
     "text": [
      "/meshAfterParty/meshAfterParty/validation_utils.py:2432: SettingWithCopyWarning: \n",
      "A value is trying to be set on a copy of a slice from a DataFrame.\n",
      "Try using .loc[row_indexer,col_indexer] = value instead\n",
      "\n",
      "See the caveats in the documentation: https://pandas.pydata.org/pandas-docs/stable/user_guide/indexing.html#returning-a-view-versus-a-copy\n",
      "  syn_match[\"synapse_x\"] = np.array(list(syn_match[\"ctr_pt_position\"].to_numpy()))[:,0]\n",
      "/meshAfterParty/meshAfterParty/validation_utils.py:2433: SettingWithCopyWarning: \n",
      "A value is trying to be set on a copy of a slice from a DataFrame.\n",
      "Try using .loc[row_indexer,col_indexer] = value instead\n",
      "\n",
      "See the caveats in the documentation: https://pandas.pydata.org/pandas-docs/stable/user_guide/indexing.html#returning-a-view-versus-a-copy\n",
      "  syn_match[\"synapse_y\"] = np.array(list(syn_match[\"ctr_pt_position\"].to_numpy()))[:,1]\n",
      "/meshAfterParty/meshAfterParty/validation_utils.py:2434: SettingWithCopyWarning: \n",
      "A value is trying to be set on a copy of a slice from a DataFrame.\n",
      "Try using .loc[row_indexer,col_indexer] = value instead\n",
      "\n",
      "See the caveats in the documentation: https://pandas.pydata.org/pandas-docs/stable/user_guide/indexing.html#returning-a-view-versus-a-copy\n",
      "  syn_match[\"synapse_z\"] = np.array(list(syn_match[\"ctr_pt_position\"].to_numpy()))[:,2]\n"
     ]
    },
    {
     "name": "stdout",
     "output_type": "stream",
     "text": [
      "\n",
      "Working on neuron 57: 864691135737374100\n",
      "# of end nodes = 77\n",
      "last_datetime_edited = 2020-09-11 03:32:26.589000\n",
      "# of presyn = 500, # of postsyn = 4065\n",
      "Total synapses BEFORE filtering = 4565\n",
      "Total synapses AFTER filtering = 4535\n",
      "4157 out of 4535 were within threshold of original mesh\n"
     ]
    },
    {
     "name": "stderr",
     "output_type": "stream",
     "text": [
      "/meshAfterParty/meshAfterParty/validation_utils.py:2432: SettingWithCopyWarning: \n",
      "A value is trying to be set on a copy of a slice from a DataFrame.\n",
      "Try using .loc[row_indexer,col_indexer] = value instead\n",
      "\n",
      "See the caveats in the documentation: https://pandas.pydata.org/pandas-docs/stable/user_guide/indexing.html#returning-a-view-versus-a-copy\n",
      "  syn_match[\"synapse_x\"] = np.array(list(syn_match[\"ctr_pt_position\"].to_numpy()))[:,0]\n",
      "/meshAfterParty/meshAfterParty/validation_utils.py:2433: SettingWithCopyWarning: \n",
      "A value is trying to be set on a copy of a slice from a DataFrame.\n",
      "Try using .loc[row_indexer,col_indexer] = value instead\n",
      "\n",
      "See the caveats in the documentation: https://pandas.pydata.org/pandas-docs/stable/user_guide/indexing.html#returning-a-view-versus-a-copy\n",
      "  syn_match[\"synapse_y\"] = np.array(list(syn_match[\"ctr_pt_position\"].to_numpy()))[:,1]\n",
      "/meshAfterParty/meshAfterParty/validation_utils.py:2434: SettingWithCopyWarning: \n",
      "A value is trying to be set on a copy of a slice from a DataFrame.\n",
      "Try using .loc[row_indexer,col_indexer] = value instead\n",
      "\n",
      "See the caveats in the documentation: https://pandas.pydata.org/pandas-docs/stable/user_guide/indexing.html#returning-a-view-versus-a-copy\n",
      "  syn_match[\"synapse_z\"] = np.array(list(syn_match[\"ctr_pt_position\"].to_numpy()))[:,2]\n"
     ]
    },
    {
     "name": "stdout",
     "output_type": "stream",
     "text": [
      "\n",
      "Working on neuron 58: 864691135737672084\n",
      "# of end nodes = 36\n",
      "last_datetime_edited = 2020-10-30 13:20:43.821000\n",
      "# of presyn = 1906, # of postsyn = 26510\n",
      "Total synapses BEFORE filtering = 28416\n",
      "Total synapses AFTER filtering = 28126\n",
      "17896 out of 28126 were within threshold of original mesh\n"
     ]
    },
    {
     "name": "stderr",
     "output_type": "stream",
     "text": [
      "/meshAfterParty/meshAfterParty/validation_utils.py:2432: SettingWithCopyWarning: \n",
      "A value is trying to be set on a copy of a slice from a DataFrame.\n",
      "Try using .loc[row_indexer,col_indexer] = value instead\n",
      "\n",
      "See the caveats in the documentation: https://pandas.pydata.org/pandas-docs/stable/user_guide/indexing.html#returning-a-view-versus-a-copy\n",
      "  syn_match[\"synapse_x\"] = np.array(list(syn_match[\"ctr_pt_position\"].to_numpy()))[:,0]\n",
      "/meshAfterParty/meshAfterParty/validation_utils.py:2433: SettingWithCopyWarning: \n",
      "A value is trying to be set on a copy of a slice from a DataFrame.\n",
      "Try using .loc[row_indexer,col_indexer] = value instead\n",
      "\n",
      "See the caveats in the documentation: https://pandas.pydata.org/pandas-docs/stable/user_guide/indexing.html#returning-a-view-versus-a-copy\n",
      "  syn_match[\"synapse_y\"] = np.array(list(syn_match[\"ctr_pt_position\"].to_numpy()))[:,1]\n",
      "/meshAfterParty/meshAfterParty/validation_utils.py:2434: SettingWithCopyWarning: \n",
      "A value is trying to be set on a copy of a slice from a DataFrame.\n",
      "Try using .loc[row_indexer,col_indexer] = value instead\n",
      "\n",
      "See the caveats in the documentation: https://pandas.pydata.org/pandas-docs/stable/user_guide/indexing.html#returning-a-view-versus-a-copy\n",
      "  syn_match[\"synapse_z\"] = np.array(list(syn_match[\"ctr_pt_position\"].to_numpy()))[:,2]\n"
     ]
    },
    {
     "name": "stdout",
     "output_type": "stream",
     "text": [
      "\n",
      "Working on neuron 59: 864691135740225387\n",
      "# of end nodes = 43\n",
      "last_datetime_edited = 2021-04-10 20:51:59.062000\n",
      "# of presyn = 1834, # of postsyn = 4519\n",
      "Total synapses BEFORE filtering = 6353\n",
      "Total synapses AFTER filtering = 6285\n",
      "2526 out of 6285 were within threshold of original mesh\n"
     ]
    },
    {
     "name": "stderr",
     "output_type": "stream",
     "text": [
      "/meshAfterParty/meshAfterParty/validation_utils.py:2432: SettingWithCopyWarning: \n",
      "A value is trying to be set on a copy of a slice from a DataFrame.\n",
      "Try using .loc[row_indexer,col_indexer] = value instead\n",
      "\n",
      "See the caveats in the documentation: https://pandas.pydata.org/pandas-docs/stable/user_guide/indexing.html#returning-a-view-versus-a-copy\n",
      "  syn_match[\"synapse_x\"] = np.array(list(syn_match[\"ctr_pt_position\"].to_numpy()))[:,0]\n",
      "/meshAfterParty/meshAfterParty/validation_utils.py:2433: SettingWithCopyWarning: \n",
      "A value is trying to be set on a copy of a slice from a DataFrame.\n",
      "Try using .loc[row_indexer,col_indexer] = value instead\n",
      "\n",
      "See the caveats in the documentation: https://pandas.pydata.org/pandas-docs/stable/user_guide/indexing.html#returning-a-view-versus-a-copy\n",
      "  syn_match[\"synapse_y\"] = np.array(list(syn_match[\"ctr_pt_position\"].to_numpy()))[:,1]\n",
      "/meshAfterParty/meshAfterParty/validation_utils.py:2434: SettingWithCopyWarning: \n",
      "A value is trying to be set on a copy of a slice from a DataFrame.\n",
      "Try using .loc[row_indexer,col_indexer] = value instead\n",
      "\n",
      "See the caveats in the documentation: https://pandas.pydata.org/pandas-docs/stable/user_guide/indexing.html#returning-a-view-versus-a-copy\n",
      "  syn_match[\"synapse_z\"] = np.array(list(syn_match[\"ctr_pt_position\"].to_numpy()))[:,2]\n"
     ]
    },
    {
     "name": "stdout",
     "output_type": "stream",
     "text": [
      "\n",
      "Working on neuron 60: 864691135748568361\n",
      "# of end nodes = 37\n",
      "last_datetime_edited = 2021-04-07 14:01:33.168000\n",
      "# of presyn = 1094, # of postsyn = 2125\n",
      "Total synapses BEFORE filtering = 3219\n",
      "Total synapses AFTER filtering = 3191\n",
      "2596 out of 3191 were within threshold of original mesh\n"
     ]
    },
    {
     "name": "stderr",
     "output_type": "stream",
     "text": [
      "/meshAfterParty/meshAfterParty/validation_utils.py:2432: SettingWithCopyWarning: \n",
      "A value is trying to be set on a copy of a slice from a DataFrame.\n",
      "Try using .loc[row_indexer,col_indexer] = value instead\n",
      "\n",
      "See the caveats in the documentation: https://pandas.pydata.org/pandas-docs/stable/user_guide/indexing.html#returning-a-view-versus-a-copy\n",
      "  syn_match[\"synapse_x\"] = np.array(list(syn_match[\"ctr_pt_position\"].to_numpy()))[:,0]\n",
      "/meshAfterParty/meshAfterParty/validation_utils.py:2433: SettingWithCopyWarning: \n",
      "A value is trying to be set on a copy of a slice from a DataFrame.\n",
      "Try using .loc[row_indexer,col_indexer] = value instead\n",
      "\n",
      "See the caveats in the documentation: https://pandas.pydata.org/pandas-docs/stable/user_guide/indexing.html#returning-a-view-versus-a-copy\n",
      "  syn_match[\"synapse_y\"] = np.array(list(syn_match[\"ctr_pt_position\"].to_numpy()))[:,1]\n",
      "/meshAfterParty/meshAfterParty/validation_utils.py:2434: SettingWithCopyWarning: \n",
      "A value is trying to be set on a copy of a slice from a DataFrame.\n",
      "Try using .loc[row_indexer,col_indexer] = value instead\n",
      "\n",
      "See the caveats in the documentation: https://pandas.pydata.org/pandas-docs/stable/user_guide/indexing.html#returning-a-view-versus-a-copy\n",
      "  syn_match[\"synapse_z\"] = np.array(list(syn_match[\"ctr_pt_position\"].to_numpy()))[:,2]\n"
     ]
    },
    {
     "name": "stdout",
     "output_type": "stream",
     "text": [
      "\n",
      "Working on neuron 61: 864691135748569897\n",
      "# of end nodes = 25\n",
      "last_datetime_edited = 2020-11-17 22:45:10.958000\n",
      "# of presyn = 789, # of postsyn = 4632\n",
      "Total synapses BEFORE filtering = 5421\n",
      "Total synapses AFTER filtering = 5395\n",
      "4271 out of 5395 were within threshold of original mesh\n"
     ]
    },
    {
     "name": "stderr",
     "output_type": "stream",
     "text": [
      "/meshAfterParty/meshAfterParty/validation_utils.py:2432: SettingWithCopyWarning: \n",
      "A value is trying to be set on a copy of a slice from a DataFrame.\n",
      "Try using .loc[row_indexer,col_indexer] = value instead\n",
      "\n",
      "See the caveats in the documentation: https://pandas.pydata.org/pandas-docs/stable/user_guide/indexing.html#returning-a-view-versus-a-copy\n",
      "  syn_match[\"synapse_x\"] = np.array(list(syn_match[\"ctr_pt_position\"].to_numpy()))[:,0]\n",
      "/meshAfterParty/meshAfterParty/validation_utils.py:2433: SettingWithCopyWarning: \n",
      "A value is trying to be set on a copy of a slice from a DataFrame.\n",
      "Try using .loc[row_indexer,col_indexer] = value instead\n",
      "\n",
      "See the caveats in the documentation: https://pandas.pydata.org/pandas-docs/stable/user_guide/indexing.html#returning-a-view-versus-a-copy\n",
      "  syn_match[\"synapse_y\"] = np.array(list(syn_match[\"ctr_pt_position\"].to_numpy()))[:,1]\n",
      "/meshAfterParty/meshAfterParty/validation_utils.py:2434: SettingWithCopyWarning: \n",
      "A value is trying to be set on a copy of a slice from a DataFrame.\n",
      "Try using .loc[row_indexer,col_indexer] = value instead\n",
      "\n",
      "See the caveats in the documentation: https://pandas.pydata.org/pandas-docs/stable/user_guide/indexing.html#returning-a-view-versus-a-copy\n",
      "  syn_match[\"synapse_z\"] = np.array(list(syn_match[\"ctr_pt_position\"].to_numpy()))[:,2]\n"
     ]
    },
    {
     "name": "stdout",
     "output_type": "stream",
     "text": [
      "\n",
      "Working on neuron 62: 864691135748575017\n",
      "# of end nodes = 34\n",
      "last_datetime_edited = 2021-01-15 21:54:22.391000\n",
      "# of presyn = 1144, # of postsyn = 4663\n",
      "Total synapses BEFORE filtering = 5807\n",
      "Total synapses AFTER filtering = 5785\n",
      "4804 out of 5785 were within threshold of original mesh\n"
     ]
    },
    {
     "name": "stderr",
     "output_type": "stream",
     "text": [
      "/meshAfterParty/meshAfterParty/validation_utils.py:2432: SettingWithCopyWarning: \n",
      "A value is trying to be set on a copy of a slice from a DataFrame.\n",
      "Try using .loc[row_indexer,col_indexer] = value instead\n",
      "\n",
      "See the caveats in the documentation: https://pandas.pydata.org/pandas-docs/stable/user_guide/indexing.html#returning-a-view-versus-a-copy\n",
      "  syn_match[\"synapse_x\"] = np.array(list(syn_match[\"ctr_pt_position\"].to_numpy()))[:,0]\n",
      "/meshAfterParty/meshAfterParty/validation_utils.py:2433: SettingWithCopyWarning: \n",
      "A value is trying to be set on a copy of a slice from a DataFrame.\n",
      "Try using .loc[row_indexer,col_indexer] = value instead\n",
      "\n",
      "See the caveats in the documentation: https://pandas.pydata.org/pandas-docs/stable/user_guide/indexing.html#returning-a-view-versus-a-copy\n",
      "  syn_match[\"synapse_y\"] = np.array(list(syn_match[\"ctr_pt_position\"].to_numpy()))[:,1]\n",
      "/meshAfterParty/meshAfterParty/validation_utils.py:2434: SettingWithCopyWarning: \n",
      "A value is trying to be set on a copy of a slice from a DataFrame.\n",
      "Try using .loc[row_indexer,col_indexer] = value instead\n",
      "\n",
      "See the caveats in the documentation: https://pandas.pydata.org/pandas-docs/stable/user_guide/indexing.html#returning-a-view-versus-a-copy\n",
      "  syn_match[\"synapse_z\"] = np.array(list(syn_match[\"ctr_pt_position\"].to_numpy()))[:,2]\n"
     ]
    },
    {
     "name": "stdout",
     "output_type": "stream",
     "text": [
      "\n",
      "Working on neuron 63: 864691135753585357\n",
      "# of end nodes = 12\n",
      "last_datetime_edited = 2020-12-23 20:58:36.560000\n",
      "# of presyn = 145, # of postsyn = 4695\n",
      "Total synapses BEFORE filtering = 4840\n",
      "Total synapses AFTER filtering = 4828\n",
      "4248 out of 4828 were within threshold of original mesh\n"
     ]
    },
    {
     "name": "stderr",
     "output_type": "stream",
     "text": [
      "/meshAfterParty/meshAfterParty/validation_utils.py:2432: SettingWithCopyWarning: \n",
      "A value is trying to be set on a copy of a slice from a DataFrame.\n",
      "Try using .loc[row_indexer,col_indexer] = value instead\n",
      "\n",
      "See the caveats in the documentation: https://pandas.pydata.org/pandas-docs/stable/user_guide/indexing.html#returning-a-view-versus-a-copy\n",
      "  syn_match[\"synapse_x\"] = np.array(list(syn_match[\"ctr_pt_position\"].to_numpy()))[:,0]\n",
      "/meshAfterParty/meshAfterParty/validation_utils.py:2433: SettingWithCopyWarning: \n",
      "A value is trying to be set on a copy of a slice from a DataFrame.\n",
      "Try using .loc[row_indexer,col_indexer] = value instead\n",
      "\n",
      "See the caveats in the documentation: https://pandas.pydata.org/pandas-docs/stable/user_guide/indexing.html#returning-a-view-versus-a-copy\n",
      "  syn_match[\"synapse_y\"] = np.array(list(syn_match[\"ctr_pt_position\"].to_numpy()))[:,1]\n",
      "/meshAfterParty/meshAfterParty/validation_utils.py:2434: SettingWithCopyWarning: \n",
      "A value is trying to be set on a copy of a slice from a DataFrame.\n",
      "Try using .loc[row_indexer,col_indexer] = value instead\n",
      "\n",
      "See the caveats in the documentation: https://pandas.pydata.org/pandas-docs/stable/user_guide/indexing.html#returning-a-view-versus-a-copy\n",
      "  syn_match[\"synapse_z\"] = np.array(list(syn_match[\"ctr_pt_position\"].to_numpy()))[:,2]\n"
     ]
    },
    {
     "name": "stdout",
     "output_type": "stream",
     "text": [
      "\n",
      "Working on neuron 64: 864691135758569550\n",
      "# of end nodes = 55\n",
      "last_datetime_edited = 2020-09-01 02:26:22.906000\n",
      "# of presyn = 2031, # of postsyn = 5436\n",
      "Total synapses BEFORE filtering = 7467\n",
      "Total synapses AFTER filtering = 7327\n",
      "6114 out of 7327 were within threshold of original mesh\n"
     ]
    },
    {
     "name": "stderr",
     "output_type": "stream",
     "text": [
      "/meshAfterParty/meshAfterParty/validation_utils.py:2432: SettingWithCopyWarning: \n",
      "A value is trying to be set on a copy of a slice from a DataFrame.\n",
      "Try using .loc[row_indexer,col_indexer] = value instead\n",
      "\n",
      "See the caveats in the documentation: https://pandas.pydata.org/pandas-docs/stable/user_guide/indexing.html#returning-a-view-versus-a-copy\n",
      "  syn_match[\"synapse_x\"] = np.array(list(syn_match[\"ctr_pt_position\"].to_numpy()))[:,0]\n",
      "/meshAfterParty/meshAfterParty/validation_utils.py:2433: SettingWithCopyWarning: \n",
      "A value is trying to be set on a copy of a slice from a DataFrame.\n",
      "Try using .loc[row_indexer,col_indexer] = value instead\n",
      "\n",
      "See the caveats in the documentation: https://pandas.pydata.org/pandas-docs/stable/user_guide/indexing.html#returning-a-view-versus-a-copy\n",
      "  syn_match[\"synapse_y\"] = np.array(list(syn_match[\"ctr_pt_position\"].to_numpy()))[:,1]\n",
      "/meshAfterParty/meshAfterParty/validation_utils.py:2434: SettingWithCopyWarning: \n",
      "A value is trying to be set on a copy of a slice from a DataFrame.\n",
      "Try using .loc[row_indexer,col_indexer] = value instead\n",
      "\n",
      "See the caveats in the documentation: https://pandas.pydata.org/pandas-docs/stable/user_guide/indexing.html#returning-a-view-versus-a-copy\n",
      "  syn_match[\"synapse_z\"] = np.array(list(syn_match[\"ctr_pt_position\"].to_numpy()))[:,2]\n"
     ]
    },
    {
     "name": "stdout",
     "output_type": "stream",
     "text": [
      "\n",
      "Working on neuron 65: 864691135771629819\n",
      "# of end nodes = 29\n",
      "last_datetime_edited = 2020-08-24 21:00:30.784000\n",
      "# of presyn = 1084, # of postsyn = 1630\n",
      "Total synapses BEFORE filtering = 2714\n",
      "Total synapses AFTER filtering = 2694\n",
      "1760 out of 2694 were within threshold of original mesh\n",
      "\n",
      "Working on neuron 66: 864691135771640059\n"
     ]
    },
    {
     "name": "stderr",
     "output_type": "stream",
     "text": [
      "/meshAfterParty/meshAfterParty/validation_utils.py:2432: SettingWithCopyWarning: \n",
      "A value is trying to be set on a copy of a slice from a DataFrame.\n",
      "Try using .loc[row_indexer,col_indexer] = value instead\n",
      "\n",
      "See the caveats in the documentation: https://pandas.pydata.org/pandas-docs/stable/user_guide/indexing.html#returning-a-view-versus-a-copy\n",
      "  syn_match[\"synapse_x\"] = np.array(list(syn_match[\"ctr_pt_position\"].to_numpy()))[:,0]\n",
      "/meshAfterParty/meshAfterParty/validation_utils.py:2433: SettingWithCopyWarning: \n",
      "A value is trying to be set on a copy of a slice from a DataFrame.\n",
      "Try using .loc[row_indexer,col_indexer] = value instead\n",
      "\n",
      "See the caveats in the documentation: https://pandas.pydata.org/pandas-docs/stable/user_guide/indexing.html#returning-a-view-versus-a-copy\n",
      "  syn_match[\"synapse_y\"] = np.array(list(syn_match[\"ctr_pt_position\"].to_numpy()))[:,1]\n",
      "/meshAfterParty/meshAfterParty/validation_utils.py:2434: SettingWithCopyWarning: \n",
      "A value is trying to be set on a copy of a slice from a DataFrame.\n",
      "Try using .loc[row_indexer,col_indexer] = value instead\n",
      "\n",
      "See the caveats in the documentation: https://pandas.pydata.org/pandas-docs/stable/user_guide/indexing.html#returning-a-view-versus-a-copy\n",
      "  syn_match[\"synapse_z\"] = np.array(list(syn_match[\"ctr_pt_position\"].to_numpy()))[:,2]\n"
     ]
    },
    {
     "name": "stdout",
     "output_type": "stream",
     "text": [
      "# of end nodes = 9\n",
      "last_datetime_edited = 2021-03-12 17:15:45.404000\n",
      "# of presyn = 887, # of postsyn = 16756\n",
      "Total synapses BEFORE filtering = 17643\n",
      "Total synapses AFTER filtering = 17541\n",
      "17268 out of 17541 were within threshold of original mesh\n"
     ]
    },
    {
     "name": "stderr",
     "output_type": "stream",
     "text": [
      "/meshAfterParty/meshAfterParty/validation_utils.py:2432: SettingWithCopyWarning: \n",
      "A value is trying to be set on a copy of a slice from a DataFrame.\n",
      "Try using .loc[row_indexer,col_indexer] = value instead\n",
      "\n",
      "See the caveats in the documentation: https://pandas.pydata.org/pandas-docs/stable/user_guide/indexing.html#returning-a-view-versus-a-copy\n",
      "  syn_match[\"synapse_x\"] = np.array(list(syn_match[\"ctr_pt_position\"].to_numpy()))[:,0]\n",
      "/meshAfterParty/meshAfterParty/validation_utils.py:2433: SettingWithCopyWarning: \n",
      "A value is trying to be set on a copy of a slice from a DataFrame.\n",
      "Try using .loc[row_indexer,col_indexer] = value instead\n",
      "\n",
      "See the caveats in the documentation: https://pandas.pydata.org/pandas-docs/stable/user_guide/indexing.html#returning-a-view-versus-a-copy\n",
      "  syn_match[\"synapse_y\"] = np.array(list(syn_match[\"ctr_pt_position\"].to_numpy()))[:,1]\n",
      "/meshAfterParty/meshAfterParty/validation_utils.py:2434: SettingWithCopyWarning: \n",
      "A value is trying to be set on a copy of a slice from a DataFrame.\n",
      "Try using .loc[row_indexer,col_indexer] = value instead\n",
      "\n",
      "See the caveats in the documentation: https://pandas.pydata.org/pandas-docs/stable/user_guide/indexing.html#returning-a-view-versus-a-copy\n",
      "  syn_match[\"synapse_z\"] = np.array(list(syn_match[\"ctr_pt_position\"].to_numpy()))[:,2]\n"
     ]
    },
    {
     "name": "stdout",
     "output_type": "stream",
     "text": [
      "\n",
      "Working on neuron 67: 864691135785277636\n",
      "# of end nodes = 61\n",
      "last_datetime_edited = 2020-08-27 21:20:43.997000\n",
      "# of presyn = 968, # of postsyn = 7044\n",
      "Total synapses BEFORE filtering = 8012\n",
      "Total synapses AFTER filtering = 7990\n",
      "7110 out of 7990 were within threshold of original mesh\n"
     ]
    },
    {
     "name": "stderr",
     "output_type": "stream",
     "text": [
      "/meshAfterParty/meshAfterParty/validation_utils.py:2432: SettingWithCopyWarning: \n",
      "A value is trying to be set on a copy of a slice from a DataFrame.\n",
      "Try using .loc[row_indexer,col_indexer] = value instead\n",
      "\n",
      "See the caveats in the documentation: https://pandas.pydata.org/pandas-docs/stable/user_guide/indexing.html#returning-a-view-versus-a-copy\n",
      "  syn_match[\"synapse_x\"] = np.array(list(syn_match[\"ctr_pt_position\"].to_numpy()))[:,0]\n",
      "/meshAfterParty/meshAfterParty/validation_utils.py:2433: SettingWithCopyWarning: \n",
      "A value is trying to be set on a copy of a slice from a DataFrame.\n",
      "Try using .loc[row_indexer,col_indexer] = value instead\n",
      "\n",
      "See the caveats in the documentation: https://pandas.pydata.org/pandas-docs/stable/user_guide/indexing.html#returning-a-view-versus-a-copy\n",
      "  syn_match[\"synapse_y\"] = np.array(list(syn_match[\"ctr_pt_position\"].to_numpy()))[:,1]\n",
      "/meshAfterParty/meshAfterParty/validation_utils.py:2434: SettingWithCopyWarning: \n",
      "A value is trying to be set on a copy of a slice from a DataFrame.\n",
      "Try using .loc[row_indexer,col_indexer] = value instead\n",
      "\n",
      "See the caveats in the documentation: https://pandas.pydata.org/pandas-docs/stable/user_guide/indexing.html#returning-a-view-versus-a-copy\n",
      "  syn_match[\"synapse_z\"] = np.array(list(syn_match[\"ctr_pt_position\"].to_numpy()))[:,2]\n"
     ]
    },
    {
     "name": "stdout",
     "output_type": "stream",
     "text": [
      "\n",
      "Working on neuron 68: 864691135809455564\n",
      "# of end nodes = 13\n",
      "last_datetime_edited = 2020-12-18 22:17:56.865000\n",
      "# of presyn = 333, # of postsyn = 3776\n",
      "Total synapses BEFORE filtering = 4109\n",
      "Total synapses AFTER filtering = 4093\n",
      "3162 out of 4093 were within threshold of original mesh\n"
     ]
    },
    {
     "name": "stderr",
     "output_type": "stream",
     "text": [
      "/meshAfterParty/meshAfterParty/validation_utils.py:2432: SettingWithCopyWarning: \n",
      "A value is trying to be set on a copy of a slice from a DataFrame.\n",
      "Try using .loc[row_indexer,col_indexer] = value instead\n",
      "\n",
      "See the caveats in the documentation: https://pandas.pydata.org/pandas-docs/stable/user_guide/indexing.html#returning-a-view-versus-a-copy\n",
      "  syn_match[\"synapse_x\"] = np.array(list(syn_match[\"ctr_pt_position\"].to_numpy()))[:,0]\n",
      "/meshAfterParty/meshAfterParty/validation_utils.py:2433: SettingWithCopyWarning: \n",
      "A value is trying to be set on a copy of a slice from a DataFrame.\n",
      "Try using .loc[row_indexer,col_indexer] = value instead\n",
      "\n",
      "See the caveats in the documentation: https://pandas.pydata.org/pandas-docs/stable/user_guide/indexing.html#returning-a-view-versus-a-copy\n",
      "  syn_match[\"synapse_y\"] = np.array(list(syn_match[\"ctr_pt_position\"].to_numpy()))[:,1]\n",
      "/meshAfterParty/meshAfterParty/validation_utils.py:2434: SettingWithCopyWarning: \n",
      "A value is trying to be set on a copy of a slice from a DataFrame.\n",
      "Try using .loc[row_indexer,col_indexer] = value instead\n",
      "\n",
      "See the caveats in the documentation: https://pandas.pydata.org/pandas-docs/stable/user_guide/indexing.html#returning-a-view-versus-a-copy\n",
      "  syn_match[\"synapse_z\"] = np.array(list(syn_match[\"ctr_pt_position\"].to_numpy()))[:,2]\n"
     ]
    },
    {
     "name": "stdout",
     "output_type": "stream",
     "text": [
      "\n",
      "Working on neuron 69: 864691135858702952\n",
      "# of end nodes = 55\n",
      "last_datetime_edited = 2021-02-04 22:10:32.946000\n",
      "# of presyn = 1273, # of postsyn = 11692\n",
      "Total synapses BEFORE filtering = 12965\n",
      "Total synapses AFTER filtering = 12877\n",
      "6433 out of 12877 were within threshold of original mesh\n"
     ]
    },
    {
     "name": "stderr",
     "output_type": "stream",
     "text": [
      "/meshAfterParty/meshAfterParty/validation_utils.py:2432: SettingWithCopyWarning: \n",
      "A value is trying to be set on a copy of a slice from a DataFrame.\n",
      "Try using .loc[row_indexer,col_indexer] = value instead\n",
      "\n",
      "See the caveats in the documentation: https://pandas.pydata.org/pandas-docs/stable/user_guide/indexing.html#returning-a-view-versus-a-copy\n",
      "  syn_match[\"synapse_x\"] = np.array(list(syn_match[\"ctr_pt_position\"].to_numpy()))[:,0]\n",
      "/meshAfterParty/meshAfterParty/validation_utils.py:2433: SettingWithCopyWarning: \n",
      "A value is trying to be set on a copy of a slice from a DataFrame.\n",
      "Try using .loc[row_indexer,col_indexer] = value instead\n",
      "\n",
      "See the caveats in the documentation: https://pandas.pydata.org/pandas-docs/stable/user_guide/indexing.html#returning-a-view-versus-a-copy\n",
      "  syn_match[\"synapse_y\"] = np.array(list(syn_match[\"ctr_pt_position\"].to_numpy()))[:,1]\n",
      "/meshAfterParty/meshAfterParty/validation_utils.py:2434: SettingWithCopyWarning: \n",
      "A value is trying to be set on a copy of a slice from a DataFrame.\n",
      "Try using .loc[row_indexer,col_indexer] = value instead\n",
      "\n",
      "See the caveats in the documentation: https://pandas.pydata.org/pandas-docs/stable/user_guide/indexing.html#returning-a-view-versus-a-copy\n",
      "  syn_match[\"synapse_z\"] = np.array(list(syn_match[\"ctr_pt_position\"].to_numpy()))[:,2]\n"
     ]
    },
    {
     "name": "stdout",
     "output_type": "stream",
     "text": [
      "\n",
      "Working on neuron 70: 864691135865518469\n",
      "# of end nodes = 51\n",
      "last_datetime_edited = 2020-10-07 16:19:10.553000\n",
      "# of presyn = 675, # of postsyn = 5513\n",
      "Total synapses BEFORE filtering = 6188\n",
      "Total synapses AFTER filtering = 6152\n",
      "5274 out of 6152 were within threshold of original mesh\n"
     ]
    },
    {
     "name": "stderr",
     "output_type": "stream",
     "text": [
      "/meshAfterParty/meshAfterParty/validation_utils.py:2432: SettingWithCopyWarning: \n",
      "A value is trying to be set on a copy of a slice from a DataFrame.\n",
      "Try using .loc[row_indexer,col_indexer] = value instead\n",
      "\n",
      "See the caveats in the documentation: https://pandas.pydata.org/pandas-docs/stable/user_guide/indexing.html#returning-a-view-versus-a-copy\n",
      "  syn_match[\"synapse_x\"] = np.array(list(syn_match[\"ctr_pt_position\"].to_numpy()))[:,0]\n",
      "/meshAfterParty/meshAfterParty/validation_utils.py:2433: SettingWithCopyWarning: \n",
      "A value is trying to be set on a copy of a slice from a DataFrame.\n",
      "Try using .loc[row_indexer,col_indexer] = value instead\n",
      "\n",
      "See the caveats in the documentation: https://pandas.pydata.org/pandas-docs/stable/user_guide/indexing.html#returning-a-view-versus-a-copy\n",
      "  syn_match[\"synapse_y\"] = np.array(list(syn_match[\"ctr_pt_position\"].to_numpy()))[:,1]\n",
      "/meshAfterParty/meshAfterParty/validation_utils.py:2434: SettingWithCopyWarning: \n",
      "A value is trying to be set on a copy of a slice from a DataFrame.\n",
      "Try using .loc[row_indexer,col_indexer] = value instead\n",
      "\n",
      "See the caveats in the documentation: https://pandas.pydata.org/pandas-docs/stable/user_guide/indexing.html#returning-a-view-versus-a-copy\n",
      "  syn_match[\"synapse_z\"] = np.array(list(syn_match[\"ctr_pt_position\"].to_numpy()))[:,2]\n"
     ]
    },
    {
     "name": "stdout",
     "output_type": "stream",
     "text": [
      "\n",
      "Working on neuron 71: 864691135865584005\n",
      "# of end nodes = 23\n",
      "last_datetime_edited = 2021-03-17 19:59:30.525000\n",
      "# of presyn = 659, # of postsyn = 9827\n",
      "Total synapses BEFORE filtering = 10486\n",
      "Total synapses AFTER filtering = 10428\n",
      "9946 out of 10428 were within threshold of original mesh\n"
     ]
    },
    {
     "name": "stderr",
     "output_type": "stream",
     "text": [
      "/meshAfterParty/meshAfterParty/validation_utils.py:2432: SettingWithCopyWarning: \n",
      "A value is trying to be set on a copy of a slice from a DataFrame.\n",
      "Try using .loc[row_indexer,col_indexer] = value instead\n",
      "\n",
      "See the caveats in the documentation: https://pandas.pydata.org/pandas-docs/stable/user_guide/indexing.html#returning-a-view-versus-a-copy\n",
      "  syn_match[\"synapse_x\"] = np.array(list(syn_match[\"ctr_pt_position\"].to_numpy()))[:,0]\n",
      "/meshAfterParty/meshAfterParty/validation_utils.py:2433: SettingWithCopyWarning: \n",
      "A value is trying to be set on a copy of a slice from a DataFrame.\n",
      "Try using .loc[row_indexer,col_indexer] = value instead\n",
      "\n",
      "See the caveats in the documentation: https://pandas.pydata.org/pandas-docs/stable/user_guide/indexing.html#returning-a-view-versus-a-copy\n",
      "  syn_match[\"synapse_y\"] = np.array(list(syn_match[\"ctr_pt_position\"].to_numpy()))[:,1]\n",
      "/meshAfterParty/meshAfterParty/validation_utils.py:2434: SettingWithCopyWarning: \n",
      "A value is trying to be set on a copy of a slice from a DataFrame.\n",
      "Try using .loc[row_indexer,col_indexer] = value instead\n",
      "\n",
      "See the caveats in the documentation: https://pandas.pydata.org/pandas-docs/stable/user_guide/indexing.html#returning-a-view-versus-a-copy\n",
      "  syn_match[\"synapse_z\"] = np.array(list(syn_match[\"ctr_pt_position\"].to_numpy()))[:,2]\n"
     ]
    },
    {
     "name": "stdout",
     "output_type": "stream",
     "text": [
      "\n",
      "Working on neuron 72: 864691135866394390\n",
      "# of end nodes = 53\n",
      "last_datetime_edited = 2021-01-13 14:59:46.124000\n",
      "# of presyn = 2395, # of postsyn = 10106\n",
      "Total synapses BEFORE filtering = 12501\n",
      "Total synapses AFTER filtering = 12451\n",
      "10160 out of 12451 were within threshold of original mesh\n"
     ]
    },
    {
     "name": "stderr",
     "output_type": "stream",
     "text": [
      "/meshAfterParty/meshAfterParty/validation_utils.py:2432: SettingWithCopyWarning: \n",
      "A value is trying to be set on a copy of a slice from a DataFrame.\n",
      "Try using .loc[row_indexer,col_indexer] = value instead\n",
      "\n",
      "See the caveats in the documentation: https://pandas.pydata.org/pandas-docs/stable/user_guide/indexing.html#returning-a-view-versus-a-copy\n",
      "  syn_match[\"synapse_x\"] = np.array(list(syn_match[\"ctr_pt_position\"].to_numpy()))[:,0]\n",
      "/meshAfterParty/meshAfterParty/validation_utils.py:2433: SettingWithCopyWarning: \n",
      "A value is trying to be set on a copy of a slice from a DataFrame.\n",
      "Try using .loc[row_indexer,col_indexer] = value instead\n",
      "\n",
      "See the caveats in the documentation: https://pandas.pydata.org/pandas-docs/stable/user_guide/indexing.html#returning-a-view-versus-a-copy\n",
      "  syn_match[\"synapse_y\"] = np.array(list(syn_match[\"ctr_pt_position\"].to_numpy()))[:,1]\n",
      "/meshAfterParty/meshAfterParty/validation_utils.py:2434: SettingWithCopyWarning: \n",
      "A value is trying to be set on a copy of a slice from a DataFrame.\n",
      "Try using .loc[row_indexer,col_indexer] = value instead\n",
      "\n",
      "See the caveats in the documentation: https://pandas.pydata.org/pandas-docs/stable/user_guide/indexing.html#returning-a-view-versus-a-copy\n",
      "  syn_match[\"synapse_z\"] = np.array(list(syn_match[\"ctr_pt_position\"].to_numpy()))[:,2]\n"
     ]
    },
    {
     "name": "stdout",
     "output_type": "stream",
     "text": [
      "\n",
      "Working on neuron 73: 864691135888524681\n",
      "# of end nodes = 6\n",
      "last_datetime_edited = 2021-01-26 18:34:40.338000\n",
      "# of presyn = 54, # of postsyn = 4662\n",
      "Total synapses BEFORE filtering = 4716\n",
      "Total synapses AFTER filtering = 4694\n",
      "4670 out of 4694 were within threshold of original mesh\n"
     ]
    },
    {
     "name": "stderr",
     "output_type": "stream",
     "text": [
      "/meshAfterParty/meshAfterParty/validation_utils.py:2432: SettingWithCopyWarning: \n",
      "A value is trying to be set on a copy of a slice from a DataFrame.\n",
      "Try using .loc[row_indexer,col_indexer] = value instead\n",
      "\n",
      "See the caveats in the documentation: https://pandas.pydata.org/pandas-docs/stable/user_guide/indexing.html#returning-a-view-versus-a-copy\n",
      "  syn_match[\"synapse_x\"] = np.array(list(syn_match[\"ctr_pt_position\"].to_numpy()))[:,0]\n",
      "/meshAfterParty/meshAfterParty/validation_utils.py:2433: SettingWithCopyWarning: \n",
      "A value is trying to be set on a copy of a slice from a DataFrame.\n",
      "Try using .loc[row_indexer,col_indexer] = value instead\n",
      "\n",
      "See the caveats in the documentation: https://pandas.pydata.org/pandas-docs/stable/user_guide/indexing.html#returning-a-view-versus-a-copy\n",
      "  syn_match[\"synapse_y\"] = np.array(list(syn_match[\"ctr_pt_position\"].to_numpy()))[:,1]\n",
      "/meshAfterParty/meshAfterParty/validation_utils.py:2434: SettingWithCopyWarning: \n",
      "A value is trying to be set on a copy of a slice from a DataFrame.\n",
      "Try using .loc[row_indexer,col_indexer] = value instead\n",
      "\n",
      "See the caveats in the documentation: https://pandas.pydata.org/pandas-docs/stable/user_guide/indexing.html#returning-a-view-versus-a-copy\n",
      "  syn_match[\"synapse_z\"] = np.array(list(syn_match[\"ctr_pt_position\"].to_numpy()))[:,2]\n"
     ]
    },
    {
     "name": "stdout",
     "output_type": "stream",
     "text": [
      "\n",
      "Working on neuron 74: 864691135925533454\n",
      "# of end nodes = 18\n",
      "last_datetime_edited = 2021-03-05 04:12:20.453000\n",
      "# of presyn = 300, # of postsyn = 4077\n",
      "Total synapses BEFORE filtering = 4377\n",
      "Total synapses AFTER filtering = 4355\n",
      "4258 out of 4355 were within threshold of original mesh\n"
     ]
    },
    {
     "name": "stderr",
     "output_type": "stream",
     "text": [
      "/meshAfterParty/meshAfterParty/validation_utils.py:2432: SettingWithCopyWarning: \n",
      "A value is trying to be set on a copy of a slice from a DataFrame.\n",
      "Try using .loc[row_indexer,col_indexer] = value instead\n",
      "\n",
      "See the caveats in the documentation: https://pandas.pydata.org/pandas-docs/stable/user_guide/indexing.html#returning-a-view-versus-a-copy\n",
      "  syn_match[\"synapse_x\"] = np.array(list(syn_match[\"ctr_pt_position\"].to_numpy()))[:,0]\n",
      "/meshAfterParty/meshAfterParty/validation_utils.py:2433: SettingWithCopyWarning: \n",
      "A value is trying to be set on a copy of a slice from a DataFrame.\n",
      "Try using .loc[row_indexer,col_indexer] = value instead\n",
      "\n",
      "See the caveats in the documentation: https://pandas.pydata.org/pandas-docs/stable/user_guide/indexing.html#returning-a-view-versus-a-copy\n",
      "  syn_match[\"synapse_y\"] = np.array(list(syn_match[\"ctr_pt_position\"].to_numpy()))[:,1]\n",
      "/meshAfterParty/meshAfterParty/validation_utils.py:2434: SettingWithCopyWarning: \n",
      "A value is trying to be set on a copy of a slice from a DataFrame.\n",
      "Try using .loc[row_indexer,col_indexer] = value instead\n",
      "\n",
      "See the caveats in the documentation: https://pandas.pydata.org/pandas-docs/stable/user_guide/indexing.html#returning-a-view-versus-a-copy\n",
      "  syn_match[\"synapse_z\"] = np.array(list(syn_match[\"ctr_pt_position\"].to_numpy()))[:,2]\n"
     ]
    },
    {
     "name": "stdout",
     "output_type": "stream",
     "text": [
      "\n",
      "Working on neuron 75: 864691135925564174\n",
      "# of end nodes = 23\n",
      "last_datetime_edited = 2020-11-20 15:05:44.158000\n",
      "# of presyn = 519, # of postsyn = 1720\n",
      "Total synapses BEFORE filtering = 2239\n",
      "Total synapses AFTER filtering = 2227\n",
      "1708 out of 2227 were within threshold of original mesh\n"
     ]
    },
    {
     "name": "stderr",
     "output_type": "stream",
     "text": [
      "/meshAfterParty/meshAfterParty/validation_utils.py:2432: SettingWithCopyWarning: \n",
      "A value is trying to be set on a copy of a slice from a DataFrame.\n",
      "Try using .loc[row_indexer,col_indexer] = value instead\n",
      "\n",
      "See the caveats in the documentation: https://pandas.pydata.org/pandas-docs/stable/user_guide/indexing.html#returning-a-view-versus-a-copy\n",
      "  syn_match[\"synapse_x\"] = np.array(list(syn_match[\"ctr_pt_position\"].to_numpy()))[:,0]\n",
      "/meshAfterParty/meshAfterParty/validation_utils.py:2433: SettingWithCopyWarning: \n",
      "A value is trying to be set on a copy of a slice from a DataFrame.\n",
      "Try using .loc[row_indexer,col_indexer] = value instead\n",
      "\n",
      "See the caveats in the documentation: https://pandas.pydata.org/pandas-docs/stable/user_guide/indexing.html#returning-a-view-versus-a-copy\n",
      "  syn_match[\"synapse_y\"] = np.array(list(syn_match[\"ctr_pt_position\"].to_numpy()))[:,1]\n",
      "/meshAfterParty/meshAfterParty/validation_utils.py:2434: SettingWithCopyWarning: \n",
      "A value is trying to be set on a copy of a slice from a DataFrame.\n",
      "Try using .loc[row_indexer,col_indexer] = value instead\n",
      "\n",
      "See the caveats in the documentation: https://pandas.pydata.org/pandas-docs/stable/user_guide/indexing.html#returning-a-view-versus-a-copy\n",
      "  syn_match[\"synapse_z\"] = np.array(list(syn_match[\"ctr_pt_position\"].to_numpy()))[:,2]\n"
     ]
    },
    {
     "name": "stdout",
     "output_type": "stream",
     "text": [
      "\n",
      "Working on neuron 76: 864691135937364533\n",
      "# of end nodes = 16\n",
      "last_datetime_edited = 2021-03-03 15:08:56.862000\n",
      "# of presyn = 360, # of postsyn = 7670\n",
      "Total synapses BEFORE filtering = 8030\n",
      "Total synapses AFTER filtering = 7998\n",
      "7940 out of 7998 were within threshold of original mesh\n"
     ]
    },
    {
     "name": "stderr",
     "output_type": "stream",
     "text": [
      "/meshAfterParty/meshAfterParty/validation_utils.py:2432: SettingWithCopyWarning: \n",
      "A value is trying to be set on a copy of a slice from a DataFrame.\n",
      "Try using .loc[row_indexer,col_indexer] = value instead\n",
      "\n",
      "See the caveats in the documentation: https://pandas.pydata.org/pandas-docs/stable/user_guide/indexing.html#returning-a-view-versus-a-copy\n",
      "  syn_match[\"synapse_x\"] = np.array(list(syn_match[\"ctr_pt_position\"].to_numpy()))[:,0]\n",
      "/meshAfterParty/meshAfterParty/validation_utils.py:2433: SettingWithCopyWarning: \n",
      "A value is trying to be set on a copy of a slice from a DataFrame.\n",
      "Try using .loc[row_indexer,col_indexer] = value instead\n",
      "\n",
      "See the caveats in the documentation: https://pandas.pydata.org/pandas-docs/stable/user_guide/indexing.html#returning-a-view-versus-a-copy\n",
      "  syn_match[\"synapse_y\"] = np.array(list(syn_match[\"ctr_pt_position\"].to_numpy()))[:,1]\n",
      "/meshAfterParty/meshAfterParty/validation_utils.py:2434: SettingWithCopyWarning: \n",
      "A value is trying to be set on a copy of a slice from a DataFrame.\n",
      "Try using .loc[row_indexer,col_indexer] = value instead\n",
      "\n",
      "See the caveats in the documentation: https://pandas.pydata.org/pandas-docs/stable/user_guide/indexing.html#returning-a-view-versus-a-copy\n",
      "  syn_match[\"synapse_z\"] = np.array(list(syn_match[\"ctr_pt_position\"].to_numpy()))[:,2]\n"
     ]
    },
    {
     "name": "stdout",
     "output_type": "stream",
     "text": [
      "\n",
      "Working on neuron 77: 864691135939655846\n",
      "# of end nodes = 11\n",
      "last_datetime_edited = 2021-03-03 15:12:50.491000\n",
      "# of presyn = 515, # of postsyn = 4251\n",
      "Total synapses BEFORE filtering = 4766\n",
      "Total synapses AFTER filtering = 4746\n",
      "4311 out of 4746 were within threshold of original mesh\n"
     ]
    },
    {
     "name": "stderr",
     "output_type": "stream",
     "text": [
      "/meshAfterParty/meshAfterParty/validation_utils.py:2432: SettingWithCopyWarning: \n",
      "A value is trying to be set on a copy of a slice from a DataFrame.\n",
      "Try using .loc[row_indexer,col_indexer] = value instead\n",
      "\n",
      "See the caveats in the documentation: https://pandas.pydata.org/pandas-docs/stable/user_guide/indexing.html#returning-a-view-versus-a-copy\n",
      "  syn_match[\"synapse_x\"] = np.array(list(syn_match[\"ctr_pt_position\"].to_numpy()))[:,0]\n",
      "/meshAfterParty/meshAfterParty/validation_utils.py:2433: SettingWithCopyWarning: \n",
      "A value is trying to be set on a copy of a slice from a DataFrame.\n",
      "Try using .loc[row_indexer,col_indexer] = value instead\n",
      "\n",
      "See the caveats in the documentation: https://pandas.pydata.org/pandas-docs/stable/user_guide/indexing.html#returning-a-view-versus-a-copy\n",
      "  syn_match[\"synapse_y\"] = np.array(list(syn_match[\"ctr_pt_position\"].to_numpy()))[:,1]\n",
      "/meshAfterParty/meshAfterParty/validation_utils.py:2434: SettingWithCopyWarning: \n",
      "A value is trying to be set on a copy of a slice from a DataFrame.\n",
      "Try using .loc[row_indexer,col_indexer] = value instead\n",
      "\n",
      "See the caveats in the documentation: https://pandas.pydata.org/pandas-docs/stable/user_guide/indexing.html#returning-a-view-versus-a-copy\n",
      "  syn_match[\"synapse_z\"] = np.array(list(syn_match[\"ctr_pt_position\"].to_numpy()))[:,2]\n"
     ]
    },
    {
     "name": "stdout",
     "output_type": "stream",
     "text": [
      "\n",
      "Working on neuron 78: 864691135945413668\n",
      "# of end nodes = 28\n",
      "last_datetime_edited = 2020-10-23 15:51:19.620000\n",
      "# of presyn = 498, # of postsyn = 1854\n",
      "Total synapses BEFORE filtering = 2352\n",
      "Total synapses AFTER filtering = 2314\n",
      "1646 out of 2314 were within threshold of original mesh\n",
      "\n",
      "Working on neuron 79: 864691135945453348\n"
     ]
    },
    {
     "name": "stderr",
     "output_type": "stream",
     "text": [
      "/meshAfterParty/meshAfterParty/validation_utils.py:2432: SettingWithCopyWarning: \n",
      "A value is trying to be set on a copy of a slice from a DataFrame.\n",
      "Try using .loc[row_indexer,col_indexer] = value instead\n",
      "\n",
      "See the caveats in the documentation: https://pandas.pydata.org/pandas-docs/stable/user_guide/indexing.html#returning-a-view-versus-a-copy\n",
      "  syn_match[\"synapse_x\"] = np.array(list(syn_match[\"ctr_pt_position\"].to_numpy()))[:,0]\n",
      "/meshAfterParty/meshAfterParty/validation_utils.py:2433: SettingWithCopyWarning: \n",
      "A value is trying to be set on a copy of a slice from a DataFrame.\n",
      "Try using .loc[row_indexer,col_indexer] = value instead\n",
      "\n",
      "See the caveats in the documentation: https://pandas.pydata.org/pandas-docs/stable/user_guide/indexing.html#returning-a-view-versus-a-copy\n",
      "  syn_match[\"synapse_y\"] = np.array(list(syn_match[\"ctr_pt_position\"].to_numpy()))[:,1]\n",
      "/meshAfterParty/meshAfterParty/validation_utils.py:2434: SettingWithCopyWarning: \n",
      "A value is trying to be set on a copy of a slice from a DataFrame.\n",
      "Try using .loc[row_indexer,col_indexer] = value instead\n",
      "\n",
      "See the caveats in the documentation: https://pandas.pydata.org/pandas-docs/stable/user_guide/indexing.html#returning-a-view-versus-a-copy\n",
      "  syn_match[\"synapse_z\"] = np.array(list(syn_match[\"ctr_pt_position\"].to_numpy()))[:,2]\n"
     ]
    },
    {
     "name": "stdout",
     "output_type": "stream",
     "text": [
      "# of end nodes = 13\n",
      "last_datetime_edited = 2021-01-20 14:23:41.653000\n"
     ]
    },
    {
     "ename": "HTTPError",
     "evalue": "500 Server Error: INTERNAL SERVER ERROR for url: https://minnie.microns-daf.com/materialize/api/v2/datastack/minnie65_phase3_v1/version/89/table/synapses_pni_2/query?return_pyarrow=True&split_positions=False content:b'{\"message\": \"Internal Server Error\"}\\n'",
     "output_type": "error",
     "traceback": [
      "\u001b[0;31m---------------------------------------------------------------------------\u001b[0m",
      "\u001b[0;31mHTTPError\u001b[0m                                 Traceback (most recent call last)",
      "\u001b[0;32m<ipython-input-7-94b3d3bcda98>\u001b[0m in \u001b[0;36m<module>\u001b[0;34m\u001b[0m\n\u001b[1;32m     13\u001b[0m     \u001b[0mplot_original_mesh\u001b[0m \u001b[0;34m=\u001b[0m \u001b[0;32mFalse\u001b[0m\u001b[0;34m,\u001b[0m\u001b[0;34m\u001b[0m\u001b[0;34m\u001b[0m\u001b[0m\n\u001b[1;32m     14\u001b[0m     \u001b[0mplot_potential_synapses\u001b[0m \u001b[0;34m=\u001b[0m \u001b[0;32mFalse\u001b[0m\u001b[0;34m,\u001b[0m\u001b[0;34m\u001b[0m\u001b[0;34m\u001b[0m\u001b[0m\n\u001b[0;32m---> 15\u001b[0;31m     plot_matched_synapses = False)\n\u001b[0m",
      "\u001b[0;32m/meshAfterParty/meshAfterParty/validation_utils.py\u001b[0m in \u001b[0;36mold_segment_id_validation_synapses\u001b[0;34m(segment_id, verbose, plot_original_mesh, plot_potential_synapses, distance_threshold, plot_matched_synapses, insert_synapse_df_into_dj, dj_table)\u001b[0m\n\u001b[1;32m   2504\u001b[0m \u001b[0;34m\u001b[0m\u001b[0m\n\u001b[1;32m   2505\u001b[0m     syn_df_filt = alu.segment_id_to_lineage_endnodes_synapse_df(segment_id,\n\u001b[0;32m-> 2506\u001b[0;31m                                          verbose=verbose)\n\u001b[0m\u001b[1;32m   2507\u001b[0m \u001b[0;34m\u001b[0m\u001b[0m\n\u001b[1;32m   2508\u001b[0m     synapse_df = vu.filter_synapse_table_by_mesh(segment_id,\n",
      "\u001b[0;32m/meshAfterParty/meshAfterParty/allen_utils.py\u001b[0m in \u001b[0;36msegment_id_to_lineage_endnodes_synapse_df\u001b[0;34m(segment_id, verbose)\u001b[0m\n\u001b[1;32m    473\u001b[0m     \u001b[0;31m#2) Get the synapses for all of the segments\u001b[0m\u001b[0;34m\u001b[0m\u001b[0;34m\u001b[0m\u001b[0;34m\u001b[0m\u001b[0m\n\u001b[1;32m    474\u001b[0m     \u001b[0mpre_syn_ids\u001b[0m \u001b[0;34m=\u001b[0m \u001b[0malu\u001b[0m\u001b[0;34m.\u001b[0m\u001b[0mget_presyn_df\u001b[0m\u001b[0;34m(\u001b[0m\u001b[0mend_nodes\u001b[0m\u001b[0;34m)\u001b[0m\u001b[0;34m\u001b[0m\u001b[0;34m\u001b[0m\u001b[0m\n\u001b[0;32m--> 475\u001b[0;31m     \u001b[0mpost_syn_ids\u001b[0m\u001b[0;34m=\u001b[0m \u001b[0malu\u001b[0m\u001b[0;34m.\u001b[0m\u001b[0mget_postsyn_df\u001b[0m\u001b[0;34m(\u001b[0m\u001b[0mend_nodes\u001b[0m\u001b[0;34m)\u001b[0m\u001b[0;34m\u001b[0m\u001b[0;34m\u001b[0m\u001b[0m\n\u001b[0m\u001b[1;32m    476\u001b[0m     \u001b[0msyn_df\u001b[0m \u001b[0;34m=\u001b[0m \u001b[0mpu\u001b[0m\u001b[0;34m.\u001b[0m\u001b[0mconcat\u001b[0m\u001b[0;34m(\u001b[0m\u001b[0;34m[\u001b[0m\u001b[0mpre_syn_ids\u001b[0m\u001b[0;34m,\u001b[0m\u001b[0mpost_syn_ids\u001b[0m\u001b[0;34m]\u001b[0m\u001b[0;34m)\u001b[0m\u001b[0;34m\u001b[0m\u001b[0;34m\u001b[0m\u001b[0m\n\u001b[1;32m    477\u001b[0m \u001b[0;34m\u001b[0m\u001b[0m\n",
      "\u001b[0;32m/meshAfterParty/meshAfterParty/allen_utils.py\u001b[0m in \u001b[0;36mget_postsyn_df\u001b[0;34m(segment_ids)\u001b[0m\n\u001b[1;32m    455\u001b[0m \u001b[0;34m\u001b[0m\u001b[0m\n\u001b[1;32m    456\u001b[0m     return client.materialize.query_table('synapses_pni_2',\n\u001b[0;32m--> 457\u001b[0;31m                                          filter_in_dict=dict(post_pt_root_id=segment_ids)).copy()\n\u001b[0m\u001b[1;32m    458\u001b[0m \u001b[0;34m\u001b[0m\u001b[0m\n\u001b[1;32m    459\u001b[0m \u001b[0;31m# -------------- Used for Validation of v4 ---------------- #\u001b[0m\u001b[0;34m\u001b[0m\u001b[0;34m\u001b[0m\u001b[0;34m\u001b[0m\u001b[0m\n",
      "\u001b[0;32m/usr/local/lib/python3.6/dist-packages/annotationframeworkclient/materializationengine.py\u001b[0m in \u001b[0;36mquery_table\u001b[0;34m(self, table, filter_in_dict, filter_out_dict, filter_equal_dict, filter_spatial, join_args, select_columns, offset, limit, datastack_name, return_df, split_positions, materialization_version)\u001b[0m\n\u001b[1;32m    413\u001b[0m                                      \u001b[0mstream\u001b[0m\u001b[0;34m=\u001b[0m\u001b[0;34m~\u001b[0m\u001b[0mreturn_df\u001b[0m\u001b[0;34m,\u001b[0m\u001b[0;34m\u001b[0m\u001b[0;34m\u001b[0m\u001b[0m\n\u001b[1;32m    414\u001b[0m                                      verify=self.verify)                         \n\u001b[0;32m--> 415\u001b[0;31m         \u001b[0mself\u001b[0m\u001b[0;34m.\u001b[0m\u001b[0mraise_for_status\u001b[0m\u001b[0;34m(\u001b[0m\u001b[0mresponse\u001b[0m\u001b[0;34m)\u001b[0m\u001b[0;34m\u001b[0m\u001b[0;34m\u001b[0m\u001b[0m\n\u001b[0m\u001b[1;32m    416\u001b[0m         \u001b[0;32mif\u001b[0m \u001b[0mreturn_df\u001b[0m\u001b[0;34m:\u001b[0m\u001b[0;34m\u001b[0m\u001b[0;34m\u001b[0m\u001b[0m\n\u001b[1;32m    417\u001b[0m             \u001b[0;32mreturn\u001b[0m \u001b[0mpa\u001b[0m\u001b[0;34m.\u001b[0m\u001b[0mdeserialize\u001b[0m\u001b[0;34m(\u001b[0m\u001b[0mresponse\u001b[0m\u001b[0;34m.\u001b[0m\u001b[0mcontent\u001b[0m\u001b[0;34m)\u001b[0m\u001b[0;34m\u001b[0m\u001b[0;34m\u001b[0m\u001b[0m\n",
      "\u001b[0;32m/usr/local/lib/python3.6/dist-packages/annotationframeworkclient/base.py\u001b[0m in \u001b[0;36mraise_for_status\u001b[0;34m(r)\u001b[0m\n\u001b[1;32m    127\u001b[0m \u001b[0;34m\u001b[0m\u001b[0m\n\u001b[1;32m    128\u001b[0m         \u001b[0;32mif\u001b[0m \u001b[0mhttp_error_msg\u001b[0m\u001b[0;34m:\u001b[0m\u001b[0;34m\u001b[0m\u001b[0;34m\u001b[0m\u001b[0m\n\u001b[0;32m--> 129\u001b[0;31m             \u001b[0;32mraise\u001b[0m \u001b[0mrequests\u001b[0m\u001b[0;34m.\u001b[0m\u001b[0mHTTPError\u001b[0m\u001b[0;34m(\u001b[0m\u001b[0mhttp_error_msg\u001b[0m\u001b[0;34m,\u001b[0m \u001b[0mresponse\u001b[0m\u001b[0;34m=\u001b[0m\u001b[0mr\u001b[0m\u001b[0;34m)\u001b[0m\u001b[0;34m\u001b[0m\u001b[0;34m\u001b[0m\u001b[0m\n\u001b[0m\u001b[1;32m    130\u001b[0m         \u001b[0mwarning\u001b[0m \u001b[0;34m=\u001b[0m \u001b[0mr\u001b[0m\u001b[0;34m.\u001b[0m\u001b[0mheaders\u001b[0m\u001b[0;34m.\u001b[0m\u001b[0mget\u001b[0m\u001b[0;34m(\u001b[0m\u001b[0;34m'Warning'\u001b[0m\u001b[0;34m)\u001b[0m\u001b[0;34m\u001b[0m\u001b[0;34m\u001b[0m\u001b[0m\n\u001b[1;32m    131\u001b[0m         \u001b[0;32mif\u001b[0m \u001b[0mwarning\u001b[0m\u001b[0;34m:\u001b[0m\u001b[0;34m\u001b[0m\u001b[0;34m\u001b[0m\u001b[0m\n",
      "\u001b[0;31mHTTPError\u001b[0m: 500 Server Error: INTERNAL SERVER ERROR for url: https://minnie.microns-daf.com/materialize/api/v2/datastack/minnie65_phase3_v1/version/89/table/synapses_pni_2/query?return_pyarrow=True&split_positions=False content:b'{\"message\": \"Internal Server Error\"}\\n'"
     ]
    }
   ],
   "source": [
    "idx = 2\n",
    "chunk_size = 28\n",
    "for i in range(idx*chunk_size,(idx+1)*chunk_size):\n",
    "    \n",
    "    if i >= len(original_seg_ids):\n",
    "        break\n",
    "        \n",
    "    segment_id = original_seg_ids[i]\n",
    "    print(f\"\\nWorking on neuron {i}: {segment_id}\")\n",
    "    \n",
    "    vu.old_segment_id_validation_synapses(segment_id = segment_id,\n",
    "    verbose = True,\n",
    "    plot_original_mesh = False,\n",
    "    plot_potential_synapses = False,\n",
    "    plot_matched_synapses = False)"
   ]
  },
  {
   "cell_type": "code",
   "execution_count": null,
   "metadata": {},
   "outputs": [],
   "source": []
  }
 ],
 "metadata": {
  "kernelspec": {
   "display_name": "Python 3",
   "language": "python",
   "name": "python3"
  },
  "language_info": {
   "codemirror_mode": {
    "name": "ipython",
    "version": 3
   },
   "file_extension": ".py",
   "mimetype": "text/x-python",
   "name": "python",
   "nbconvert_exporter": "python",
   "pygments_lexer": "ipython3",
   "version": "3.6.9"
  }
 },
 "nbformat": 4,
 "nbformat_minor": 4
}
