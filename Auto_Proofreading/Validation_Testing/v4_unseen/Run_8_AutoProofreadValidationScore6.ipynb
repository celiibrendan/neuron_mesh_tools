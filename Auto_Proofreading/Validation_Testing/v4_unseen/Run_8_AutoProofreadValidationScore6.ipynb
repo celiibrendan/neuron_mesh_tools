{
 "cells": [
  {
   "cell_type": "code",
   "execution_count": null,
   "metadata": {},
   "outputs": [],
   "source": [
    "\"\"\"\n",
    "Purpose: To save the validation synapse\n",
    "tables for different validations\n",
    "\n",
    "\"\"\""
   ]
  },
  {
   "cell_type": "code",
   "execution_count": 2,
   "metadata": {},
   "outputs": [
    {
     "name": "stderr",
     "output_type": "stream",
     "text": [
      "INFO - 2021-06-24 22:55:03,772 - settings - Setting database.host to at-database.ad.bcm.edu\n",
      "INFO - 2021-06-24 22:55:03,774 - settings - Setting database.user to celiib\n",
      "INFO - 2021-06-24 22:55:03,775 - settings - Setting database.password to newceliipass\n",
      "INFO - 2021-06-24 22:55:03,776 - settings - Setting database.host to at-database.ad.bcm.edu\n",
      "INFO - 2021-06-24 22:55:03,777 - settings - Setting database.user to celiib\n",
      "INFO - 2021-06-24 22:55:03,778 - settings - Setting database.password to newceliipass\n",
      "INFO - 2021-06-24 22:55:03,793 - settings - Setting stores to {'minnie65': {'protocol': 'file', 'location': '/mnt/dj-stor01/platinum/minnie65', 'stage': '/mnt/dj-stor01/platinum/minnie65'}, 'meshes': {'protocol': 'file', 'location': '/mnt/dj-stor01/platinum/minnie65/02/meshes', 'stage': '/mnt/dj-stor01/platinum/minnie65/02/meshes'}, 'decimated_meshes': {'protocol': 'file', 'location': '/mnt/dj-stor01/platinum/minnie65/02/decimated_meshes', 'stage': '/mnt/dj-stor01/platinum/minnie65/02/decimated_meshes'}, 'skeletons': {'protocol': 'file', 'location': '/mnt/dj-stor01/platinum/minnie65/02/skeletons'}}\n",
      "INFO - 2021-06-24 22:55:03,794 - settings - Setting enable_python_native_blobs to True\n",
      "INFO - 2021-06-24 22:55:03,807 - connection - Connected celiib@at-database.ad.bcm.edu:3306\n"
     ]
    },
    {
     "name": "stdout",
     "output_type": "stream",
     "text": [
      "Connecting celiib@at-database.ad.bcm.edu:3306\n"
     ]
    },
    {
     "name": "stderr",
     "output_type": "stream",
     "text": [
      "INFO - 2021-06-24 22:55:04,435 - settings - Setting enable_python_native_blobs to True\n",
      "INFO - 2021-06-24 22:55:04,487 - settings - Setting database.host to at-database.ad.bcm.edu\n",
      "INFO - 2021-06-24 22:55:04,488 - settings - Setting database.user to celiib\n",
      "INFO - 2021-06-24 22:55:04,489 - settings - Setting database.password to newceliipass\n",
      "INFO - 2021-06-24 22:55:04,491 - settings - Setting enable_python_native_blobs to True\n",
      "INFO - 2021-06-24 22:55:05,173 - settings - Setting enable_python_native_blobs to True\n",
      "INFO - 2021-06-24 22:55:05,232 - settings - Setting database.host to at-database.ad.bcm.edu\n",
      "INFO - 2021-06-24 22:55:05,233 - settings - Setting database.user to celiib\n",
      "INFO - 2021-06-24 22:55:05,234 - settings - Setting database.password to newceliipass\n",
      "INFO - 2021-06-24 22:55:05,235 - settings - Setting database.host to at-database.ad.bcm.edu\n",
      "INFO - 2021-06-24 22:55:05,236 - settings - Setting database.user to celiib\n",
      "INFO - 2021-06-24 22:55:05,237 - settings - Setting database.password to newceliipass\n",
      "INFO - 2021-06-24 22:55:05,240 - settings - Setting enable_python_native_blobs to True\n",
      "INFO - 2021-06-24 22:55:05,975 - settings - Setting enable_python_native_blobs to True\n"
     ]
    }
   ],
   "source": [
    "import numpy as np\n",
    "import datajoint as dj\n",
    "import trimesh\n",
    "from tqdm.notebook import tqdm\n",
    "from pathlib import Path\n",
    "\n",
    "from os import sys\n",
    "sys.path.append(\"/meshAfterParty/\")\n",
    "sys.path.append(\"/meshAfterParty/meshAfterParty\")\n",
    "\n",
    "import datajoint_utils as du\n",
    "from importlib import reload"
   ]
  },
  {
   "cell_type": "code",
   "execution_count": 3,
   "metadata": {},
   "outputs": [],
   "source": [
    "#so that it will have the adapter defined\n",
    "from datajoint_utils import *"
   ]
  },
  {
   "cell_type": "code",
   "execution_count": 4,
   "metadata": {},
   "outputs": [],
   "source": [
    "test_mode = True"
   ]
  },
  {
   "cell_type": "markdown",
   "metadata": {},
   "source": [
    "# Setting up the virtual module"
   ]
  },
  {
   "cell_type": "code",
   "execution_count": 5,
   "metadata": {},
   "outputs": [
    {
     "name": "stderr",
     "output_type": "stream",
     "text": [
      "INFO - 2021-06-24 22:55:06,095 - settings - Setting database.host to at-database.ad.bcm.edu\n",
      "INFO - 2021-06-24 22:55:06,096 - settings - Setting database.user to celiib\n",
      "INFO - 2021-06-24 22:55:06,097 - settings - Setting database.password to newceliipass\n",
      "INFO - 2021-06-24 22:55:06,098 - settings - Setting database.host to at-database.ad.bcm.edu\n",
      "INFO - 2021-06-24 22:55:06,098 - settings - Setting database.user to celiib\n",
      "INFO - 2021-06-24 22:55:06,099 - settings - Setting database.password to newceliipass\n",
      "INFO - 2021-06-24 22:55:06,101 - settings - Setting enable_python_native_blobs to True\n"
     ]
    },
    {
     "name": "stdout",
     "output_type": "stream",
     "text": [
      "Sleeping 47 sec before conneting\n",
      "Done sleeping\n",
      "Current path for external_segmentation_path = /mnt/dj-stor01/platinum/minnie65/02\n",
      "Current path for external_mesh_path = /mnt/dj-stor01/platinum/minnie65/02/meshes\n",
      "Current path for external_decimated_mesh_path = /mnt/dj-stor01/platinum/minnie65/02/decimated_meshes\n",
      "Current path for external_skeleton_path = /mnt/dj-stor01/platinum/minnie65/02/skeletons\n"
     ]
    },
    {
     "name": "stderr",
     "output_type": "stream",
     "text": [
      "INFO - 2021-06-24 22:55:06,913 - settings - Setting enable_python_native_blobs to True\n"
     ]
    }
   ],
   "source": [
    "import system_utils as su\n",
    "import minfig\n",
    "import time\n",
    "import numpy as np\n",
    "#want to add in a wait for the connection part\n",
    "random_sleep_sec = np.random.randint(0, 200)\n",
    "print(f\"Sleeping {random_sleep_sec} sec before conneting\")\n",
    "if not test_mode:\n",
    "    time.sleep(random_sleep_sec)\n",
    "print(\"Done sleeping\")\n",
    "\n",
    "du.config_celii()\n",
    "du.set_minnie65_config_segmentation(minfig)\n",
    "du.print_minnie65_config_paths(minfig)\n",
    "\n",
    "#configuring will include the adapters\n",
    "minnie,schema = du.configure_minnie_vm()"
   ]
  },
  {
   "cell_type": "code",
   "execution_count": 6,
   "metadata": {},
   "outputs": [],
   "source": [
    "from importlib import reload\n",
    "\n",
    "import neuron_utils as nru\n",
    "\n",
    "import neuron\n",
    "\n",
    "import neuron_visualizations as nviz\n",
    "\n",
    "import time\n",
    "\n",
    "import datajoint_utils as du\n",
    "\n",
    "import numpy as np\n",
    "\n",
    "import proofreading_utils as pru\n",
    "\n",
    "import preprocessing_vp2 as pre\n",
    "\n",
    "# -- For the axon classification --\n",
    "\n",
    "import neuron_searching as ns\n",
    "\n",
    "import skeleton_utils as sk\n",
    "\n",
    "import numpy_utils as nu\n",
    "\n",
    "import networkx_utils as xu\n",
    "\n",
    "import system_utils as su\n",
    "\n",
    "import classification_utils as clu\n",
    "import proofreading_utils as pru\n",
    "\n",
    "import datajoint as dj\n",
    "\n",
    "from pykdtree.kdtree import KDTree\n",
    "import trimesh_utils as tu\n",
    "import proofreading_utils as pru\n",
    "import numpy as np"
   ]
  },
  {
   "cell_type": "code",
   "execution_count": 7,
   "metadata": {},
   "outputs": [
    {
     "name": "stdout",
     "output_type": "stream",
     "text": [
      "No port chosen so picked random port 4515\n"
     ]
    }
   ],
   "source": [
    "import meshlab\n",
    "meshlab.set_meshlab_port(current_port=None)"
   ]
  },
  {
   "cell_type": "markdown",
   "metadata": {},
   "source": [
    "# Defining the Table"
   ]
  },
  {
   "cell_type": "code",
   "execution_count": 8,
   "metadata": {},
   "outputs": [
    {
     "data": {
      "text/plain": [
       "'\\nWhat table to inherit from:\\nDecomposition Axon\\n\\nThings want to save off:\\n1) validation_df\\n2) validation_df_ext\\n3) neuron object\\n\\nFor presyn/postsyn\\n- TP... counts\\n- scores\\n\\n\\n'"
      ]
     },
     "execution_count": 8,
     "metadata": {},
     "output_type": "execute_result"
    }
   ],
   "source": [
    "\"\"\"\n",
    "What table to inherit from:\n",
    "Decomposition Axon\n",
    "\n",
    "Things want to save off:\n",
    "1) validation_df\n",
    "2) validation_df_ext\n",
    "3) neuron object\n",
    "\n",
    "For presyn/postsyn\n",
    "- TP... counts\n",
    "- scores\n",
    "\n",
    "\n",
    "\"\"\""
   ]
  },
  {
   "cell_type": "code",
   "execution_count": 13,
   "metadata": {},
   "outputs": [
    {
     "name": "stdout",
     "output_type": "stream",
     "text": [
      "`microns_minnie65_02`.`__auto_proofread_validation_score6` (127 tuples)\n",
      "Proceed? [yes, No]: yes\n"
     ]
    },
    {
     "name": "stderr",
     "output_type": "stream",
     "text": [
      "INFO - 2021-06-25 04:12:22,045 - table - Dropped table `microns_minnie65_02`.`__auto_proofread_validation_score6`\n"
     ]
    },
    {
     "name": "stdout",
     "output_type": "stream",
     "text": [
      "Tables dropped.  Restart kernel.\n"
     ]
    },
    {
     "name": "stderr",
     "output_type": "stream",
     "text": [
      "100%|██████████| 127/127 [00:00<00:00, 139.67it/s]\n"
     ]
    },
    {
     "data": {
      "text/plain": [
       "[]"
      ]
     },
     "execution_count": 13,
     "metadata": {},
     "output_type": "execute_result"
    }
   ],
   "source": [
    "minnie.AutoProofreadValidationScore6.drop()\n",
    "minnie.schema.external['decomposition'].delete(delete_external_files=True)"
   ]
  },
  {
   "cell_type": "code",
   "execution_count": 10,
   "metadata": {},
   "outputs": [],
   "source": [
    "import numpy as np\n",
    "import time\n",
    "import classification_utils as clu\n",
    "\n",
    "import proofreading_utils as pru\n",
    "import axon_utils as au\n",
    "import validation_utils as vu\n",
    "\n",
    "axon_version = au.axon_version\n",
    "\n",
    "verbose = True\n",
    "\n",
    "@schema\n",
    "class AutoProofreadValidationScore6(dj.Computed):\n",
    "    definition=\"\"\"\n",
    "    -> minnie.AutoProofreadValidationSegmentMap4()\n",
    "    split_index          : tinyint unsigned             # the index of the neuron object that resulted AFTER THE SPLITTING ALGORITHM\n",
    "    ---\n",
    "    decomposition        : <decomposition> # saved neuron object with high fidelity axon\n",
    "    axon_length=NULL: double # axon length of the filtered neuron\n",
    "    validation_df: longblob\n",
    "    validation_df_ext: longblob #\n",
    "    pre_tp: int unsigned #\n",
    "    pre_tn: int unsigned\n",
    "    pre_fp: int unsigned\n",
    "    pre_fn: int unsigned\n",
    "    \n",
    "    pre_precision=NULL: double\n",
    "    pre_recall=NULL: double\n",
    "    pre_f1=NULL: double\n",
    "    \n",
    "    \n",
    "    \n",
    "    post_tp: int unsigned\n",
    "    post_tn: int unsigned\n",
    "    post_fp: int unsigned\n",
    "    post_fn: int unsigned\n",
    "    \n",
    "    post_precision=NULL: double\n",
    "    post_recall=NULL: double\n",
    "    post_f1=NULL: double\n",
    "    \n",
    "    run_time=NULL : double                   # the amount of time to run (seconds)\n",
    "    \n",
    "    \"\"\"\n",
    "                             \n",
    "    \n",
    "    #key_source = minnie.Decomposition() & minnie.NucleiSegmentsRun2() & \"segment_id=864691136540183458\"\n",
    "    pre_source = (minnie.AutoProofreadValidationSegmentMap4() & \n",
    "    (dj.U(\"old_segment_id\") & minnie.DecompositionCellType.proj(old_segment_id=\"segment_id\")))\n",
    "\n",
    "    key_source = (pre_source - \n",
    "                  du.current_validation_segment_id_exclude.proj(old_segment_id=\"segment_id\")\n",
    "                  #& dict(old_segment_id=864691135373402824)\n",
    "                 )\n",
    "    \n",
    "\n",
    "    def make(self,key):\n",
    "        whole_pass_time = time.time()\n",
    "        \n",
    "        # ----------- Doing the v4 Processing ------- #\n",
    "        \n",
    "        segment_id = key[\"segment_id\"]\n",
    "        if verbose:\n",
    "            print(f\"\\n-- Working on neuron {segment_id}---\")\n",
    "\n",
    "        segment_map_dict = (minnie.AutoProofreadValidationSegmentMap4() & dict(segment_id=segment_id)).fetch1()\n",
    "\n",
    "        #1) Find the coordinates of the nucleus for that new segment\n",
    "        nucleus_id = segment_map_dict[\"nucleus_id\"]\n",
    "        nuc_center_coords = du.nuclei_id_to_nucleus_centers(nucleus_id)\n",
    "        if verbose:\n",
    "            print(f\"nuc_center_coords = {nuc_center_coords}\")\n",
    "\n",
    "        #2) Make sure that same number of DecompositionCellType objects as in Decomposition\n",
    "        old_segment_id = segment_map_dict[\"old_segment_id\"]\n",
    "        if verbose:\n",
    "            print(f\"old_segment_id = {old_segment_id}\")\n",
    "\n",
    "        search_key = dict(segment_id=old_segment_id)\n",
    "        n_somas = len(minnie.BaylorSegmentCentroid() & search_key)\n",
    "        n_decomp_axon = len(minnie.DecompositionCellType() & search_key)\n",
    "        if verbose:\n",
    "            print(f\"# of somas = {n_somas} and # of DecompositionCellType = {n_decomp_axon}\")\n",
    "\n",
    "\n",
    "        if n_somas != n_decomp_axon:\n",
    "            raise Exception(f\"# of somas = {n_somas} NOT MATCH # of DecompositionCellType = {n_decomp_axon}\")\n",
    "\n",
    "        #3) Pick the neuron object that is closest and within a certain range of the nucleus\n",
    "        neuron_objs,split_idxs = du.decomposition_with_spine_recalculation(old_segment_id,\n",
    "                                                                          attempt_apply_spines_to_neuron = False)\n",
    "        if n_somas > 1:\n",
    "            \"\"\"\n",
    "            Finding the closest soma:\n",
    "            1) For each neuron object get the mesh center of the soma object\n",
    "            2) Find the distance of each from the nucleus center\n",
    "            3) Find the arg min distance and make sure within threshold\n",
    "            4) Mark the current neuron and the current split index\n",
    "            \"\"\"\n",
    "            nuclei_distance_threshold = 15000\n",
    "\n",
    "            soma_center_coords = [k[\"S0\"].mesh_center for k in neuron_objs]\n",
    "            soma_distances = [np.linalg.norm(k-nuc_center_coords) for k in soma_center_coords]\n",
    "            min_dist_arg = np.argmin(soma_distances)\n",
    "            min_dist = soma_distances[min_dist_arg]\n",
    "\n",
    "            if verbose:\n",
    "                print(f\"soma_distances = {soma_distances}\")\n",
    "                print(f\"min_dist_arg = {min_dist_arg}, with min distance = {min_dist}\")\n",
    "\n",
    "            if min_dist > nuclei_distance_threshold:\n",
    "                raise Exception(f\"min_dist ({min_dist}) larger than nuclei_distance_threshold ({nuclei_distance_threshold})\")\n",
    "\n",
    "            neuron_obj = neuron_objs[min_dist_arg]\n",
    "            split_index = split_idxs[min_dist_arg]\n",
    "\n",
    "            if verbose:\n",
    "                print(f\"Winning split_index = {split_index}\")\n",
    "        else:\n",
    "            split_index = split_idxs[0]\n",
    "            neuron_obj = neuron_objs[0]\n",
    "\n",
    "        (filt_neuron,\n",
    "                     return_synapse_df_revised,\n",
    "                     return_synapse_df_errors,\n",
    "                    return_validation_df_revised,\n",
    "                    return_validation_df_extension) =  vu.filtered_neuron_score(neuron_obj = neuron_obj,   \n",
    "                                        filter_list = pru.v6_exc_filters(),\n",
    "                                        plot_limb_branch_filter_with_disconnect_effect = False,\n",
    "                                        verbose = True,\n",
    "                                        plot_score=False,\n",
    "                                        nucleus_id = nucleus_id,\n",
    "                                        return_synapse_df_errors=True,\n",
    "                                        return_validation_df_extension = True,                                        \n",
    "                                        split_index=split_index)\n",
    "        \n",
    "        print(f\"\\n\\n ----- Done Filtering ----------\")\n",
    "        \n",
    "        \n",
    "        \n",
    "        #------- saving off the filtered neuron\n",
    "        \n",
    "        save_time = time.time()\n",
    "        file_name = f\"{filt_neuron.segment_id}_{filt_neuron.description}_v6_val\"\n",
    "        ret_file_path = filt_neuron.save_compressed_neuron(output_folder=str(du.get_decomposition_path()),\n",
    "                                        file_name=file_name,        \n",
    "                                          return_file_path=True,\n",
    "                                         export_mesh=False,\n",
    "                                         suppress_output=True)\n",
    "\n",
    "        ret_file_path_str = str(ret_file_path.absolute()) + \".pbz2\"\n",
    "        print(f\"Save time = {time.time() - save_time}\")\n",
    "        \n",
    "        \n",
    "        # ---------- Getting the scores of the proofreading ----- #\n",
    "        presyn_scores_dict = vu.scores_presyn(return_validation_df_revised)\n",
    "        postsyn_scores_dict = vu.scores_postsyn(return_validation_df_revised)\n",
    "\n",
    "        cat = vu.synapse_validation_df_to_category_counts(return_validation_df_revised,\n",
    "                                            print_postsyn=True,\n",
    "                                            print_presyn=False)\n",
    "        \n",
    "        \n",
    "        run_time = np.round(time.time() - whole_pass_time,2)\n",
    "        \n",
    "        final_dict = dict(key,\n",
    "                          split_index = split_index,\n",
    "                          \n",
    "                          decomposition=ret_file_path_str,\n",
    "                          axon_length = filt_neuron.axon_length,\n",
    "                          \n",
    "                          validation_df = return_validation_df_revised.to_numpy(),\n",
    "                          validation_df_ext=return_validation_df_extension.to_numpy(),\n",
    "                          \n",
    "                          pre_tp=cat[\"presyn\"][\"TP\"],\n",
    "                            pre_tn=cat[\"presyn\"][\"TN\"],\n",
    "                            pre_fp=cat[\"presyn\"][\"FP\"],\n",
    "                            pre_fn=cat[\"presyn\"][\"FN\"],\n",
    "\n",
    "                            pre_precision=presyn_scores_dict[\"precision\"],\n",
    "                            pre_recall=presyn_scores_dict[\"recall\"],\n",
    "                            pre_f1=presyn_scores_dict[\"f1\"],\n",
    "\n",
    "\n",
    "\n",
    "                            post_tp=cat[\"postsyn\"][\"TP\"],\n",
    "                            post_tn=cat[\"postsyn\"][\"TN\"],\n",
    "                            post_fp=cat[\"postsyn\"][\"FP\"],\n",
    "                            post_fn=cat[\"postsyn\"][\"FN\"],\n",
    "\n",
    "                            post_precision=postsyn_scores_dict[\"precision\"],\n",
    "                            post_recall=postsyn_scores_dict[\"recall\"],\n",
    "                            post_f1=postsyn_scores_dict[\"f1\"],\n",
    "                          \n",
    "                          \n",
    "                          run_time = run_time\n",
    "                         )\n",
    "        \n",
    "        self.insert1(final_dict,skip_duplicates=True,allow_direct_insert=True)\n",
    "    \n",
    "        print(f\"\\n\\n ***------ Total time for {key['segment_id']} = {run_time} ------ ***\")"
   ]
  },
  {
   "cell_type": "code",
   "execution_count": 11,
   "metadata": {},
   "outputs": [
    {
     "data": {
      "text/html": [
       "\n",
       "        \n",
       "        <style type=\"text/css\">\n",
       "            .Relation{\n",
       "                border-collapse:collapse;\n",
       "            }\n",
       "            .Relation th{\n",
       "                background: #A0A0A0; color: #ffffff; padding:4px; border:#f0e0e0 1px solid;\n",
       "                font-weight: normal; font-family: monospace; font-size: 100%;\n",
       "            }\n",
       "            .Relation td{\n",
       "                padding:4px; border:#f0e0e0 1px solid; font-size:100%;\n",
       "            }\n",
       "            .Relation tr:nth-child(odd){\n",
       "                background: #ffffff;\n",
       "            }\n",
       "            .Relation tr:nth-child(even){\n",
       "                background: #f3f1ff;\n",
       "            }\n",
       "            /* Tooltip container */\n",
       "            .djtooltip {\n",
       "            }\n",
       "            /* Tooltip text */\n",
       "            .djtooltip .djtooltiptext {\n",
       "                visibility: hidden;\n",
       "                width: 120px;\n",
       "                background-color: black;\n",
       "                color: #fff;\n",
       "                text-align: center;\n",
       "                padding: 5px 0;\n",
       "                border-radius: 6px;\n",
       "                /* Position the tooltip text - see examples below! */\n",
       "                position: absolute;\n",
       "                z-index: 1;\n",
       "            }\n",
       "            #primary {\n",
       "                font-weight: bold;\n",
       "                color: black;\n",
       "            }\n",
       "\n",
       "            #nonprimary {\n",
       "                font-weight: normal;\n",
       "                color: white;\n",
       "            }\n",
       "\n",
       "            /* Show the tooltip text when you mouse over the tooltip container */\n",
       "            .djtooltip:hover .djtooltiptext {\n",
       "                visibility: visible;\n",
       "            }\n",
       "        </style>\n",
       "        \n",
       "        <b>job reservation table for `microns_minnie65_02`</b>\n",
       "            <div style=\"max-height:1000px;max-width:1500px;overflow:auto;\">\n",
       "            <table border=\"1\" class=\"Relation\">\n",
       "                <thead> <tr style=\"text-align: right;\"> <th> <div class=\"djtooltip\">\n",
       "                                <p id=\"primary\">table_name</p>\n",
       "                                <span class=\"djtooltiptext\">className of the table</span>\n",
       "                            </div></th><th><div class=\"djtooltip\">\n",
       "                                <p id=\"primary\">key_hash</p>\n",
       "                                <span class=\"djtooltiptext\">key hash</span>\n",
       "                            </div></th><th><div class=\"djtooltip\">\n",
       "                                <p id=\"nonprimary\">status</p>\n",
       "                                <span class=\"djtooltiptext\">if tuple is missing, the job is available</span>\n",
       "                            </div></th><th><div class=\"djtooltip\">\n",
       "                                <p id=\"nonprimary\">key</p>\n",
       "                                <span class=\"djtooltiptext\">structure containing the key</span>\n",
       "                            </div></th><th><div class=\"djtooltip\">\n",
       "                                <p id=\"nonprimary\">error_message</p>\n",
       "                                <span class=\"djtooltiptext\">error message returned if failed</span>\n",
       "                            </div></th><th><div class=\"djtooltip\">\n",
       "                                <p id=\"nonprimary\">error_stack</p>\n",
       "                                <span class=\"djtooltiptext\">error stack if failed</span>\n",
       "                            </div></th><th><div class=\"djtooltip\">\n",
       "                                <p id=\"nonprimary\">user</p>\n",
       "                                <span class=\"djtooltiptext\">database user</span>\n",
       "                            </div></th><th><div class=\"djtooltip\">\n",
       "                                <p id=\"nonprimary\">host</p>\n",
       "                                <span class=\"djtooltiptext\">system hostname</span>\n",
       "                            </div></th><th><div class=\"djtooltip\">\n",
       "                                <p id=\"nonprimary\">pid</p>\n",
       "                                <span class=\"djtooltiptext\">system process id</span>\n",
       "                            </div></th><th><div class=\"djtooltip\">\n",
       "                                <p id=\"nonprimary\">connection_id</p>\n",
       "                                <span class=\"djtooltiptext\">connection_id()</span>\n",
       "                            </div></th><th><div class=\"djtooltip\">\n",
       "                                <p id=\"nonprimary\">timestamp</p>\n",
       "                                <span class=\"djtooltiptext\">automatic timestamp</span>\n",
       "                            </div> </th> </tr> </thead>\n",
       "                <tbody> <tr>  </tr> </tbody>\n",
       "            </table>\n",
       "            \n",
       "            <p>Total: 0</p></div>\n",
       "            "
      ],
      "text/plain": [
       "*table_name    *key_hash    status     key        error_message  error_stac user     host     pid     connection_id  timestamp    \n",
       "+------------+ +----------+ +--------+ +--------+ +------------+ +--------+ +------+ +------+ +-----+ +------------+ +-----------+\n",
       "\n",
       " (Total: 0)"
      ]
     },
     "execution_count": 11,
     "metadata": {},
     "output_type": "execute_result"
    }
   ],
   "source": [
    "curr_table = (minnie.schema.jobs & \"table_name='__auto_proofread_validation_score6'\")\n",
    "curr_table\n",
    "#curr_table#.delete()\n",
    "#curr_table.delete()"
   ]
  },
  {
   "cell_type": "code",
   "execution_count": null,
   "metadata": {
    "scrolled": true
   },
   "outputs": [],
   "source": [
    "import time\n",
    "import random\n",
    "pru = reload(pru)\n",
    "nru = reload(nru)\n",
    "import neuron\n",
    "neuron = reload(neuron)\n",
    "import datajoint_utils as du\n",
    "du = reload(du)\n",
    "\n",
    "start_time = time.time()\n",
    "if not test_mode:\n",
    "    time.sleep(random.randint(0, 800))\n",
    "print('Populate Started')\n",
    "if not test_mode:\n",
    "    AutoProofreadValidationScore6.populate(reserve_jobs=True, suppress_errors=True, order=\"random\")\n",
    "else:\n",
    "    AutoProofreadValidationScore6.populate(reserve_jobs=True, suppress_errors=False,order=\"random\")\n",
    "print('Populate Done')\n",
    "\n",
    "print(f\"Total time for AutoProofreadValidationScore6 populate = {time.time() - start_time}\")"
   ]
  },
  {
   "cell_type": "code",
   "execution_count": null,
   "metadata": {},
   "outputs": [],
   "source": []
  }
 ],
 "metadata": {
  "kernelspec": {
   "display_name": "Python 3",
   "language": "python",
   "name": "python3"
  },
  "language_info": {
   "codemirror_mode": {
    "name": "ipython",
    "version": 3
   },
   "file_extension": ".py",
   "mimetype": "text/x-python",
   "name": "python",
   "nbconvert_exporter": "python",
   "pygments_lexer": "ipython3",
   "version": "3.6.9"
  }
 },
 "nbformat": 4,
 "nbformat_minor": 4
}
