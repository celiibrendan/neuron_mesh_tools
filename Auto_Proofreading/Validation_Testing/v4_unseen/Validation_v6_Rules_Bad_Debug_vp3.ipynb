{
 "cells": [
  {
   "cell_type": "code",
   "execution_count": null,
   "metadata": {},
   "outputs": [],
   "source": [
    "\"\"\"\n",
    "Purpose: To Run the proofreading of neurons in the \n",
    "test set and measure the precision and recall of the new rules\n",
    "\n",
    "Segments to look out for that had no axon\n",
    "864691135012395766 # one of the split segments files not there (split index = 1)\n",
    "864691135865584005 #soma soma merger\n",
    "864691136451113215 #it was an inhibitory neuron (part of split)\n",
    "\n",
    "\"\"\""
   ]
  },
  {
   "cell_type": "code",
   "execution_count": 1,
   "metadata": {},
   "outputs": [],
   "source": [
    "%load_ext autoreload\n",
    "%autoreload 2"
   ]
  },
  {
   "cell_type": "code",
   "execution_count": 2,
   "metadata": {},
   "outputs": [
    {
     "name": "stderr",
     "output_type": "stream",
     "text": [
      "INFO - 2021-07-08 17:00:16,074 - settings - Setting database.host to at-database.ad.bcm.edu\n",
      "INFO - 2021-07-08 17:00:16,076 - settings - Setting database.user to celiib\n",
      "INFO - 2021-07-08 17:00:16,078 - settings - Setting database.password to newceliipass\n",
      "INFO - 2021-07-08 17:00:16,078 - settings - Setting database.host to at-database.ad.bcm.edu\n",
      "INFO - 2021-07-08 17:00:16,079 - settings - Setting database.user to celiib\n",
      "INFO - 2021-07-08 17:00:16,080 - settings - Setting database.password to newceliipass\n",
      "INFO - 2021-07-08 17:00:16,105 - settings - Setting stores to {'minnie65': {'protocol': 'file', 'location': '/mnt/dj-stor01/platinum/minnie65', 'stage': '/mnt/dj-stor01/platinum/minnie65'}, 'meshes': {'protocol': 'file', 'location': '/mnt/dj-stor01/platinum/minnie65/02/meshes', 'stage': '/mnt/dj-stor01/platinum/minnie65/02/meshes'}, 'decimated_meshes': {'protocol': 'file', 'location': '/mnt/dj-stor01/platinum/minnie65/02/decimated_meshes', 'stage': '/mnt/dj-stor01/platinum/minnie65/02/decimated_meshes'}, 'skeletons': {'protocol': 'file', 'location': '/mnt/dj-stor01/platinum/minnie65/02/skeletons'}}\n",
      "INFO - 2021-07-08 17:00:16,106 - settings - Setting enable_python_native_blobs to True\n",
      "INFO - 2021-07-08 17:00:16,122 - connection - Connected celiib@at-database.ad.bcm.edu:3306\n"
     ]
    },
    {
     "name": "stdout",
     "output_type": "stream",
     "text": [
      "Connecting celiib@at-database.ad.bcm.edu:3306\n"
     ]
    },
    {
     "name": "stderr",
     "output_type": "stream",
     "text": [
      "INFO - 2021-07-08 17:00:16,754 - settings - Setting enable_python_native_blobs to True\n",
      "INFO - 2021-07-08 17:00:16,859 - settings - Setting database.host to at-database.ad.bcm.edu\n",
      "INFO - 2021-07-08 17:00:16,860 - settings - Setting database.user to celiib\n",
      "INFO - 2021-07-08 17:00:16,861 - settings - Setting database.password to newceliipass\n",
      "INFO - 2021-07-08 17:00:16,863 - settings - Setting enable_python_native_blobs to True\n",
      "INFO - 2021-07-08 17:00:17,547 - settings - Setting enable_python_native_blobs to True\n",
      "INFO - 2021-07-08 17:00:17,753 - settings - Setting database.host to at-database.ad.bcm.edu\n",
      "INFO - 2021-07-08 17:00:17,754 - settings - Setting database.user to celiib\n",
      "INFO - 2021-07-08 17:00:17,755 - settings - Setting database.password to newceliipass\n",
      "INFO - 2021-07-08 17:00:17,755 - settings - Setting database.host to at-database.ad.bcm.edu\n",
      "INFO - 2021-07-08 17:00:17,756 - settings - Setting database.user to celiib\n",
      "INFO - 2021-07-08 17:00:17,757 - settings - Setting database.password to newceliipass\n",
      "INFO - 2021-07-08 17:00:17,760 - settings - Setting enable_python_native_blobs to True\n",
      "INFO - 2021-07-08 17:00:18,514 - settings - Setting enable_python_native_blobs to True\n"
     ]
    }
   ],
   "source": [
    "import numpy as np\n",
    "import datajoint as dj\n",
    "import trimesh\n",
    "from tqdm.notebook import tqdm\n",
    "from pathlib import Path\n",
    "\n",
    "from os import sys\n",
    "sys.path.append(\"/meshAfterParty/\")\n",
    "sys.path.append(\"/meshAfterParty/meshAfterParty\")\n",
    "\n",
    "import datajoint_utils as du\n",
    "from importlib import reload"
   ]
  },
  {
   "cell_type": "code",
   "execution_count": 3,
   "metadata": {},
   "outputs": [
    {
     "name": "stderr",
     "output_type": "stream",
     "text": [
      "INFO - 2021-07-08 17:00:18,648 - settings - Setting database.host to at-database.ad.bcm.edu\n",
      "INFO - 2021-07-08 17:00:18,649 - settings - Setting database.user to celiib\n",
      "INFO - 2021-07-08 17:00:18,650 - settings - Setting database.password to newceliipass\n",
      "INFO - 2021-07-08 17:00:18,652 - settings - Setting enable_python_native_blobs to True\n",
      "INFO - 2021-07-08 17:00:19,491 - settings - Setting enable_python_native_blobs to True\n"
     ]
    }
   ],
   "source": [
    "#configuring will include the adapters\n",
    "minnie,schema = du.configure_minnie_vm()"
   ]
  },
  {
   "cell_type": "code",
   "execution_count": 4,
   "metadata": {},
   "outputs": [],
   "source": [
    "import validation_utils as vu\n",
    "import neuron_visualizations as nviz\n",
    "import neuron_utils as nru\n",
    "import proofreading_utils as pru\n",
    "import time\n",
    "import system_utils as su"
   ]
  },
  {
   "cell_type": "markdown",
   "metadata": {},
   "source": [
    "# Runnig the validation"
   ]
  },
  {
   "cell_type": "code",
   "execution_count": 5,
   "metadata": {},
   "outputs": [
    {
     "data": {
      "text/plain": [
       "'\\nPsueodocode: \\n1) Pull down the segment ids of the valid neurons\\n\\nFor each neuron\\n1) Dwonload the neuron object\\n2) Run the Proofreading\\n3) Print out the validation plot\\n4) Save the validation df\\n\\n'"
      ]
     },
     "execution_count": 5,
     "metadata": {},
     "output_type": "execute_result"
    }
   ],
   "source": [
    "\"\"\"\n",
    "Psueodocode: \n",
    "1) Pull down the segment ids of the valid neurons\n",
    "\n",
    "For each neuron\n",
    "1) Dwonload the neuron object\n",
    "2) Run the Proofreading\n",
    "3) Print out the validation plot\n",
    "4) Save the validation df\n",
    "\n",
    "\"\"\""
   ]
  },
  {
   "cell_type": "code",
   "execution_count": 6,
   "metadata": {},
   "outputs": [
    {
     "data": {
      "text/plain": [
       "'\\nPseudocode: \\n1) Check if there are multiple somas associated with that segment\\n\\n'"
      ]
     },
     "execution_count": 6,
     "metadata": {},
     "output_type": "execute_result"
    }
   ],
   "source": [
    "\"\"\"\n",
    "Pseudocode: \n",
    "1) Check if there are multiple somas associated with that segment\n",
    "\n",
    "\"\"\""
   ]
  },
  {
   "cell_type": "code",
   "execution_count": 8,
   "metadata": {},
   "outputs": [
    {
     "data": {
      "text/html": [
       "\n",
       "        \n",
       "        <style type=\"text/css\">\n",
       "            .Relation{\n",
       "                border-collapse:collapse;\n",
       "            }\n",
       "            .Relation th{\n",
       "                background: #A0A0A0; color: #ffffff; padding:4px; border:#f0e0e0 1px solid;\n",
       "                font-weight: normal; font-family: monospace; font-size: 100%;\n",
       "            }\n",
       "            .Relation td{\n",
       "                padding:4px; border:#f0e0e0 1px solid; font-size:100%;\n",
       "            }\n",
       "            .Relation tr:nth-child(odd){\n",
       "                background: #ffffff;\n",
       "            }\n",
       "            .Relation tr:nth-child(even){\n",
       "                background: #f3f1ff;\n",
       "            }\n",
       "            /* Tooltip container */\n",
       "            .djtooltip {\n",
       "            }\n",
       "            /* Tooltip text */\n",
       "            .djtooltip .djtooltiptext {\n",
       "                visibility: hidden;\n",
       "                width: 120px;\n",
       "                background-color: black;\n",
       "                color: #fff;\n",
       "                text-align: center;\n",
       "                padding: 5px 0;\n",
       "                border-radius: 6px;\n",
       "                /* Position the tooltip text - see examples below! */\n",
       "                position: absolute;\n",
       "                z-index: 1;\n",
       "            }\n",
       "            #primary {\n",
       "                font-weight: bold;\n",
       "                color: black;\n",
       "            }\n",
       "\n",
       "            #nonprimary {\n",
       "                font-weight: normal;\n",
       "                color: white;\n",
       "            }\n",
       "\n",
       "            /* Show the tooltip text when you mouse over the tooltip container */\n",
       "            .djtooltip:hover .djtooltiptext {\n",
       "                visibility: visible;\n",
       "            }\n",
       "        </style>\n",
       "        \n",
       "        \n",
       "            <div style=\"max-height:1000px;max-width:1500px;overflow:auto;\">\n",
       "            <table border=\"1\" class=\"Relation\">\n",
       "                <thead> <tr style=\"text-align: right;\"> <th> <div class=\"djtooltip\">\n",
       "                                <p id=\"primary\">segment_id</p>\n",
       "                                <span class=\"djtooltiptext\">segment id unique within each Segmentation</span>\n",
       "                            </div> </th> </tr> </thead>\n",
       "                <tbody> <tr> <td>864691134988385914</td></tr><tr><td>864691134988386682</td></tr><tr><td>864691135012541942</td></tr><tr><td>864691135058565275</td></tr><tr><td>864691135058593947</td></tr><tr><td>864691135065011524</td></tr><tr><td>864691135099943968</td></tr><tr><td>864691135113167769</td></tr><tr><td>864691135210028736</td></tr><tr><td>864691135212632448</td></tr><tr><td>864691135212632704</td></tr><tr><td>864691135212690816</td> </tr> </tbody>\n",
       "            </table>\n",
       "            <p>...</p>\n",
       "            <p>Total: 127</p></div>\n",
       "            "
      ],
      "text/plain": [
       "*segment_id   \n",
       "+------------+\n",
       "86469113498838\n",
       "86469113498838\n",
       "86469113501254\n",
       "86469113505856\n",
       "86469113505859\n",
       "86469113506501\n",
       "86469113509994\n",
       "86469113511316\n",
       "86469113521002\n",
       "86469113521263\n",
       "86469113521263\n",
       "86469113521269\n",
       "   ...\n",
       " (Total: 127)"
      ]
     },
     "execution_count": 8,
     "metadata": {},
     "output_type": "execute_result"
    }
   ],
   "source": [
    "axon_segs = dj.U(\"segment_id\") & (minnie.DecompositionCellType() \n",
    "                      & minnie.AutoProofreadValidationSegment4() - minnie.AutoProofreadValidationSegmentExclude4() )\n",
    "axon_segs"
   ]
  },
  {
   "cell_type": "code",
   "execution_count": 9,
   "metadata": {},
   "outputs": [
    {
     "data": {
      "text/plain": [
       "'\\nPseudocode: \\n1) Find the coordinates of the nucleus for that new segment\\n2) Make sure that same number of DecompositionAxon objects as in Decomposition\\n3) Pick the neuron object that is closest and within a certain range of the nucleus\\n4) Download the neuron object\\n5) Run the proofreading\\n6) Save off the validation df\\n'"
      ]
     },
     "execution_count": 9,
     "metadata": {},
     "output_type": "execute_result"
    }
   ],
   "source": [
    "\"\"\"\n",
    "Pseudocode: \n",
    "1) Find the coordinates of the nucleus for that new segment\n",
    "2) Make sure that same number of DecompositionAxon objects as in Decomposition\n",
    "3) Pick the neuron object that is closest and within a certain range of the nucleus\n",
    "4) Download the neuron object\n",
    "5) Run the proofreading\n",
    "6) Save off the validation df\n",
    "\"\"\""
   ]
  },
  {
   "cell_type": "code",
   "execution_count": 10,
   "metadata": {},
   "outputs": [
    {
     "data": {
      "text/html": [
       "\n",
       "        \n",
       "        <style type=\"text/css\">\n",
       "            .Relation{\n",
       "                border-collapse:collapse;\n",
       "            }\n",
       "            .Relation th{\n",
       "                background: #A0A0A0; color: #ffffff; padding:4px; border:#f0e0e0 1px solid;\n",
       "                font-weight: normal; font-family: monospace; font-size: 100%;\n",
       "            }\n",
       "            .Relation td{\n",
       "                padding:4px; border:#f0e0e0 1px solid; font-size:100%;\n",
       "            }\n",
       "            .Relation tr:nth-child(odd){\n",
       "                background: #ffffff;\n",
       "            }\n",
       "            .Relation tr:nth-child(even){\n",
       "                background: #f3f1ff;\n",
       "            }\n",
       "            /* Tooltip container */\n",
       "            .djtooltip {\n",
       "            }\n",
       "            /* Tooltip text */\n",
       "            .djtooltip .djtooltiptext {\n",
       "                visibility: hidden;\n",
       "                width: 120px;\n",
       "                background-color: black;\n",
       "                color: #fff;\n",
       "                text-align: center;\n",
       "                padding: 5px 0;\n",
       "                border-radius: 6px;\n",
       "                /* Position the tooltip text - see examples below! */\n",
       "                position: absolute;\n",
       "                z-index: 1;\n",
       "            }\n",
       "            #primary {\n",
       "                font-weight: bold;\n",
       "                color: black;\n",
       "            }\n",
       "\n",
       "            #nonprimary {\n",
       "                font-weight: normal;\n",
       "                color: white;\n",
       "            }\n",
       "\n",
       "            /* Show the tooltip text when you mouse over the tooltip container */\n",
       "            .djtooltip:hover .djtooltiptext {\n",
       "                visibility: visible;\n",
       "            }\n",
       "        </style>\n",
       "        \n",
       "        \n",
       "            <div style=\"max-height:1000px;max-width:1500px;overflow:auto;\">\n",
       "            <table border=\"1\" class=\"Relation\">\n",
       "                <thead> <tr style=\"text-align: right;\"> <th> <div class=\"djtooltip\">\n",
       "                                <p id=\"primary\">ver</p>\n",
       "                                <span class=\"djtooltiptext\">materialization version</span>\n",
       "                            </div></th><th><div class=\"djtooltip\">\n",
       "                                <p id=\"primary\">nucleus_id</p>\n",
       "                                <span class=\"djtooltiptext\">nucleus id</span>\n",
       "                            </div></th><th><div class=\"djtooltip\">\n",
       "                                <p id=\"primary\">segment_id</p>\n",
       "                                <span class=\"djtooltiptext\">the segment id in the proofread version</span>\n",
       "                            </div></th><th><div class=\"djtooltip\">\n",
       "                                <p id=\"primary\">old_ver</p>\n",
       "                                <span class=\"djtooltiptext\">materialization version</span>\n",
       "                            </div></th><th><div class=\"djtooltip\">\n",
       "                                <p id=\"primary\">split_index</p>\n",
       "                                <span class=\"djtooltiptext\">the index of the neuron object that resulted AFTER THE SPLITTING ALGORITHM</span>\n",
       "                            </div></th><th><div class=\"djtooltip\">\n",
       "                                <p id=\"nonprimary\">decomposition</p>\n",
       "                                <span class=\"djtooltiptext\">saved neuron object with high fidelity axon</span>\n",
       "                            </div></th><th><div class=\"djtooltip\">\n",
       "                                <p id=\"nonprimary\">axon_length</p>\n",
       "                                <span class=\"djtooltiptext\">axon length of the filtered neuron</span>\n",
       "                            </div></th><th><div class=\"djtooltip\">\n",
       "                                <p id=\"nonprimary\">validation_df</p>\n",
       "                                <span class=\"djtooltiptext\"></span>\n",
       "                            </div></th><th><div class=\"djtooltip\">\n",
       "                                <p id=\"nonprimary\">validation_df_ext</p>\n",
       "                                <span class=\"djtooltiptext\"></span>\n",
       "                            </div></th><th><div class=\"djtooltip\">\n",
       "                                <p id=\"nonprimary\">pre_tp</p>\n",
       "                                <span class=\"djtooltiptext\"></span>\n",
       "                            </div></th><th><div class=\"djtooltip\">\n",
       "                                <p id=\"nonprimary\">pre_tn</p>\n",
       "                                <span class=\"djtooltiptext\"></span>\n",
       "                            </div></th><th><div class=\"djtooltip\">\n",
       "                                <p id=\"nonprimary\">pre_fp</p>\n",
       "                                <span class=\"djtooltiptext\"></span>\n",
       "                            </div></th><th><div class=\"djtooltip\">\n",
       "                                <p id=\"nonprimary\">pre_fn</p>\n",
       "                                <span class=\"djtooltiptext\"></span>\n",
       "                            </div></th><th><div class=\"djtooltip\">\n",
       "                                <p id=\"nonprimary\">pre_precision</p>\n",
       "                                <span class=\"djtooltiptext\"></span>\n",
       "                            </div></th><th><div class=\"djtooltip\">\n",
       "                                <p id=\"nonprimary\">pre_recall</p>\n",
       "                                <span class=\"djtooltiptext\"></span>\n",
       "                            </div></th><th><div class=\"djtooltip\">\n",
       "                                <p id=\"nonprimary\">pre_f1</p>\n",
       "                                <span class=\"djtooltiptext\"></span>\n",
       "                            </div></th><th><div class=\"djtooltip\">\n",
       "                                <p id=\"nonprimary\">post_tp</p>\n",
       "                                <span class=\"djtooltiptext\"></span>\n",
       "                            </div></th><th><div class=\"djtooltip\">\n",
       "                                <p id=\"nonprimary\">post_tn</p>\n",
       "                                <span class=\"djtooltiptext\"></span>\n",
       "                            </div></th><th><div class=\"djtooltip\">\n",
       "                                <p id=\"nonprimary\">post_fp</p>\n",
       "                                <span class=\"djtooltiptext\"></span>\n",
       "                            </div></th><th><div class=\"djtooltip\">\n",
       "                                <p id=\"nonprimary\">post_fn</p>\n",
       "                                <span class=\"djtooltiptext\"></span>\n",
       "                            </div></th><th><div class=\"djtooltip\">\n",
       "                                <p id=\"nonprimary\">post_precision</p>\n",
       "                                <span class=\"djtooltiptext\"></span>\n",
       "                            </div></th><th><div class=\"djtooltip\">\n",
       "                                <p id=\"nonprimary\">post_recall</p>\n",
       "                                <span class=\"djtooltiptext\"></span>\n",
       "                            </div></th><th><div class=\"djtooltip\">\n",
       "                                <p id=\"nonprimary\">post_f1</p>\n",
       "                                <span class=\"djtooltiptext\"></span>\n",
       "                            </div></th><th><div class=\"djtooltip\">\n",
       "                                <p id=\"nonprimary\">run_time</p>\n",
       "                                <span class=\"djtooltiptext\">the amount of time to run (seconds)</span>\n",
       "                            </div></th><th><div class=\"djtooltip\">\n",
       "                                <p id=\"nonprimary\">old_segment_id</p>\n",
       "                                <span class=\"djtooltiptext\">the segment id in the proofread version--</span>\n",
       "                            </div></th><th><div class=\"djtooltip\">\n",
       "                                <p id=\"nonprimary\">finished_dendrite</p>\n",
       "                                <span class=\"djtooltiptext\">whether axon was finished cleaning</span>\n",
       "                            </div></th><th><div class=\"djtooltip\">\n",
       "                                <p id=\"nonprimary\">finished_axon</p>\n",
       "                                <span class=\"djtooltiptext\">whether axon was finished cleaning</span>\n",
       "                            </div></th><th><div class=\"djtooltip\">\n",
       "                                <p id=\"nonprimary\">extension_type</p>\n",
       "                                <span class=\"djtooltiptext\"></span>\n",
       "                            </div></th><th><div class=\"djtooltip\">\n",
       "                                <p id=\"nonprimary\">n_somas</p>\n",
       "                                <span class=\"djtooltiptext\"></span>\n",
       "                            </div></th><th><div class=\"djtooltip\">\n",
       "                                <p id=\"nonprimary\">n_soma_mergers</p>\n",
       "                                <span class=\"djtooltiptext\"></span>\n",
       "                            </div></th><th><div class=\"djtooltip\">\n",
       "                                <p id=\"nonprimary\">n_glia</p>\n",
       "                                <span class=\"djtooltiptext\"></span>\n",
       "                            </div></th><th><div class=\"djtooltip\">\n",
       "                                <p id=\"nonprimary\">large_splits</p>\n",
       "                                <span class=\"djtooltiptext\"></span>\n",
       "                            </div></th><th><div class=\"djtooltip\">\n",
       "                                <p id=\"nonprimary\">notes</p>\n",
       "                                <span class=\"djtooltiptext\"></span>\n",
       "                            </div> </th> </tr> </thead>\n",
       "                <tbody> <tr> <td>88.00</td>\n",
       "<td>189149</td>\n",
       "<td>864691135855890478</td>\n",
       "<td>0.08</td>\n",
       "<td>0</td>\n",
       "<td>=BLOB=</td>\n",
       "<td>270.19864672128745</td>\n",
       "<td>=BLOB=</td>\n",
       "<td>=BLOB=</td>\n",
       "<td>3</td>\n",
       "<td>167</td>\n",
       "<td>4</td>\n",
       "<td>4</td>\n",
       "<td>0.42857142857142855</td>\n",
       "<td>0.42857142857142855</td>\n",
       "<td>0.42857142857142855</td>\n",
       "<td>5280</td>\n",
       "<td>7</td>\n",
       "<td>39</td>\n",
       "<td>4</td>\n",
       "<td>0.9926677946982515</td>\n",
       "<td>0.9992429977289932</td>\n",
       "<td>0.995944543996982</td>\n",
       "<td>381.56</td>\n",
       "<td>864691135585319036</td>\n",
       "<td>True</td>\n",
       "<td>True</td>\n",
       "<td>full</td>\n",
       "<td>1</td>\n",
       "<td>0</td>\n",
       "<td>0</td>\n",
       "<td>0</td>\n",
       "<td></td></tr><tr><td>88.00</td>\n",
       "<td>223037</td>\n",
       "<td>864691136227167569</td>\n",
       "<td>0.08</td>\n",
       "<td>0</td>\n",
       "<td>=BLOB=</td>\n",
       "<td>108.89085932495647</td>\n",
       "<td>=BLOB=</td>\n",
       "<td>=BLOB=</td>\n",
       "<td>0</td>\n",
       "<td>450</td>\n",
       "<td>0</td>\n",
       "<td>0</td>\n",
       "<td>nan</td>\n",
       "<td>nan</td>\n",
       "<td>nan</td>\n",
       "<td>1</td>\n",
       "<td>3416</td>\n",
       "<td>3853</td>\n",
       "<td>0</td>\n",
       "<td>0.0002594706798131811</td>\n",
       "<td>1.0</td>\n",
       "<td>0.0005188067444876783</td>\n",
       "<td>378.64</td>\n",
       "<td>864691135538120050</td>\n",
       "<td>True</td>\n",
       "<td>True</td>\n",
       "<td>full</td>\n",
       "<td>2</td>\n",
       "<td>0</td>\n",
       "<td>0</td>\n",
       "<td>0</td>\n",
       "<td></td></tr><tr><td>88.00</td>\n",
       "<td>225498</td>\n",
       "<td>864691135753932237</td>\n",
       "<td>0.08</td>\n",
       "<td>0</td>\n",
       "<td>=BLOB=</td>\n",
       "<td>287.0008022586593</td>\n",
       "<td>=BLOB=</td>\n",
       "<td>=BLOB=</td>\n",
       "<td>11</td>\n",
       "<td>72</td>\n",
       "<td>5</td>\n",
       "<td>0</td>\n",
       "<td>0.6875</td>\n",
       "<td>1.0</td>\n",
       "<td>0.8148148148148148</td>\n",
       "<td>1124</td>\n",
       "<td>0</td>\n",
       "<td>0</td>\n",
       "<td>9</td>\n",
       "<td>1.0</td>\n",
       "<td>0.9920564872021183</td>\n",
       "<td>0.9960124058484714</td>\n",
       "<td>197.92</td>\n",
       "<td>864691135564655959</td>\n",
       "<td>True</td>\n",
       "<td>True</td>\n",
       "<td>full</td>\n",
       "<td>1</td>\n",
       "<td>0</td>\n",
       "<td>0</td>\n",
       "<td>0</td>\n",
       "<td></td></tr><tr><td>88.00</td>\n",
       "<td>230236</td>\n",
       "<td>864691135609687047</td>\n",
       "<td>0.08</td>\n",
       "<td>0</td>\n",
       "<td>=BLOB=</td>\n",
       "<td>1343.99235047008</td>\n",
       "<td>=BLOB=</td>\n",
       "<td>=BLOB=</td>\n",
       "<td>27</td>\n",
       "<td>549</td>\n",
       "<td>12</td>\n",
       "<td>23</td>\n",
       "<td>0.6923076923076923</td>\n",
       "<td>0.54</td>\n",
       "<td>0.6067415730337079</td>\n",
       "<td>1960</td>\n",
       "<td>22</td>\n",
       "<td>1</td>\n",
       "<td>2</td>\n",
       "<td>0.9994900560938297</td>\n",
       "<td>0.9989806320081549</td>\n",
       "<td>0.99923527912312</td>\n",
       "<td>958.53</td>\n",
       "<td>864691135748568361</td>\n",
       "<td>True</td>\n",
       "<td>True</td>\n",
       "<td>full</td>\n",
       "<td>1</td>\n",
       "<td>0</td>\n",
       "<td>0</td>\n",
       "<td>0</td>\n",
       "<td></td></tr><tr><td>88.00</td>\n",
       "<td>236197</td>\n",
       "<td>864691136903144370</td>\n",
       "<td>0.08</td>\n",
       "<td>0</td>\n",
       "<td>=BLOB=</td>\n",
       "<td>40.753447012345966</td>\n",
       "<td>=BLOB=</td>\n",
       "<td>=BLOB=</td>\n",
       "<td>0</td>\n",
       "<td>974</td>\n",
       "<td>0</td>\n",
       "<td>6</td>\n",
       "<td>nan</td>\n",
       "<td>0.0</td>\n",
       "<td>nan</td>\n",
       "<td>2750</td>\n",
       "<td>2333</td>\n",
       "<td>3</td>\n",
       "<td>48</td>\n",
       "<td>0.9989102796948783</td>\n",
       "<td>0.9828448892065761</td>\n",
       "<td>0.9908124662223023</td>\n",
       "<td>452.21</td>\n",
       "<td>864691135758569550</td>\n",
       "<td>True</td>\n",
       "<td>True</td>\n",
       "<td>full</td>\n",
       "<td>2</td>\n",
       "<td>0</td>\n",
       "<td>2</td>\n",
       "<td>0</td>\n",
       "<td></td></tr><tr><td>88.00</td>\n",
       "<td>258307</td>\n",
       "<td>864691135293126156</td>\n",
       "<td>0.08</td>\n",
       "<td>0</td>\n",
       "<td>=BLOB=</td>\n",
       "<td>597.8867829872936</td>\n",
       "<td>=BLOB=</td>\n",
       "<td>=BLOB=</td>\n",
       "<td>7</td>\n",
       "<td>352</td>\n",
       "<td>0</td>\n",
       "<td>63</td>\n",
       "<td>1.0</td>\n",
       "<td>0.1</td>\n",
       "<td>0.18181818181818182</td>\n",
       "<td>2983</td>\n",
       "<td>8</td>\n",
       "<td>24</td>\n",
       "<td>20</td>\n",
       "<td>0.9920186232125041</td>\n",
       "<td>0.9933399933399933</td>\n",
       "<td>0.9926788685524126</td>\n",
       "<td>447.23</td>\n",
       "<td>864691136194042326</td>\n",
       "<td>True</td>\n",
       "<td>True</td>\n",
       "<td>full</td>\n",
       "<td>1</td>\n",
       "<td>0</td>\n",
       "<td>0</td>\n",
       "<td>0</td>\n",
       "<td></td></tr><tr><td>88.00</td>\n",
       "<td>262773</td>\n",
       "<td>864691136023889209</td>\n",
       "<td>0.08</td>\n",
       "<td>0</td>\n",
       "<td>=BLOB=</td>\n",
       "<td>199.5769705659838</td>\n",
       "<td>=BLOB=</td>\n",
       "<td>=BLOB=</td>\n",
       "<td>10</td>\n",
       "<td>47</td>\n",
       "<td>2</td>\n",
       "<td>0</td>\n",
       "<td>0.8333333333333334</td>\n",
       "<td>1.0</td>\n",
       "<td>0.9090909090909091</td>\n",
       "<td>724</td>\n",
       "<td>0</td>\n",
       "<td>2</td>\n",
       "<td>10</td>\n",
       "<td>0.9972451790633609</td>\n",
       "<td>0.9863760217983651</td>\n",
       "<td>0.9917808219178083</td>\n",
       "<td>122.48</td>\n",
       "<td>864691135233108569</td>\n",
       "<td>True</td>\n",
       "<td>True</td>\n",
       "<td>full</td>\n",
       "<td>1</td>\n",
       "<td>0</td>\n",
       "<td>0</td>\n",
       "<td>0</td>\n",
       "<td></td></tr><tr><td>88.00</td>\n",
       "<td>264870</td>\n",
       "<td>864691136951664863</td>\n",
       "<td>0.08</td>\n",
       "<td>0</td>\n",
       "<td>=BLOB=</td>\n",
       "<td>930.3046613475068</td>\n",
       "<td>=BLOB=</td>\n",
       "<td>=BLOB=</td>\n",
       "<td>28</td>\n",
       "<td>424</td>\n",
       "<td>0</td>\n",
       "<td>4</td>\n",
       "<td>1.0</td>\n",
       "<td>0.875</td>\n",
       "<td>0.9333333333333333</td>\n",
       "<td>2008</td>\n",
       "<td>26</td>\n",
       "<td>3</td>\n",
       "<td>33</td>\n",
       "<td>0.9985082048731975</td>\n",
       "<td>0.9838314551690348</td>\n",
       "<td>0.9911154985192497</td>\n",
       "<td>634.85</td>\n",
       "<td>864691135740225387</td>\n",
       "<td>True</td>\n",
       "<td>True</td>\n",
       "<td>full</td>\n",
       "<td>1</td>\n",
       "<td>0</td>\n",
       "<td>0</td>\n",
       "<td>0</td>\n",
       "<td></td></tr><tr><td>88.00</td>\n",
       "<td>269247</td>\n",
       "<td>864691135584074360</td>\n",
       "<td>0.08</td>\n",
       "<td>0</td>\n",
       "<td>=BLOB=</td>\n",
       "<td>886.6764688014647</td>\n",
       "<td>=BLOB=</td>\n",
       "<td>=BLOB=</td>\n",
       "<td>80</td>\n",
       "<td>14</td>\n",
       "<td>0</td>\n",
       "<td>190</td>\n",
       "<td>1.0</td>\n",
       "<td>0.2962962962962963</td>\n",
       "<td>0.45714285714285713</td>\n",
       "<td>802</td>\n",
       "<td>0</td>\n",
       "<td>7</td>\n",
       "<td>69</td>\n",
       "<td>0.9913473423980222</td>\n",
       "<td>0.9207807118254879</td>\n",
       "<td>0.9547619047619047</td>\n",
       "<td>481.19</td>\n",
       "<td>864691136105498585</td>\n",
       "<td>True</td>\n",
       "<td>True</td>\n",
       "<td>full</td>\n",
       "<td>1</td>\n",
       "<td>0</td>\n",
       "<td>0</td>\n",
       "<td>0</td>\n",
       "<td></td></tr><tr><td>88.00</td>\n",
       "<td>269380</td>\n",
       "<td>864691135974639471</td>\n",
       "<td>0.08</td>\n",
       "<td>0</td>\n",
       "<td>=BLOB=</td>\n",
       "<td>363.9333366753406</td>\n",
       "<td>=BLOB=</td>\n",
       "<td>=BLOB=</td>\n",
       "<td>14</td>\n",
       "<td>254</td>\n",
       "<td>7</td>\n",
       "<td>24</td>\n",
       "<td>0.6666666666666666</td>\n",
       "<td>0.3684210526315789</td>\n",
       "<td>0.4745762711864407</td>\n",
       "<td>1863</td>\n",
       "<td>4</td>\n",
       "<td>8</td>\n",
       "<td>3</td>\n",
       "<td>0.9957242116515232</td>\n",
       "<td>0.9983922829581994</td>\n",
       "<td>0.9970564624029972</td>\n",
       "<td>377.2</td>\n",
       "<td>864691134988386682</td>\n",
       "<td>True</td>\n",
       "<td>True</td>\n",
       "<td>full</td>\n",
       "<td>1</td>\n",
       "<td>0</td>\n",
       "<td>0</td>\n",
       "<td>0</td>\n",
       "<td></td></tr><tr><td>88.00</td>\n",
       "<td>271518</td>\n",
       "<td>864691136108768952</td>\n",
       "<td>0.08</td>\n",
       "<td>0</td>\n",
       "<td>=BLOB=</td>\n",
       "<td>319.36652534606304</td>\n",
       "<td>=BLOB=</td>\n",
       "<td>=BLOB=</td>\n",
       "<td>7</td>\n",
       "<td>43</td>\n",
       "<td>1</td>\n",
       "<td>0</td>\n",
       "<td>0.875</td>\n",
       "<td>1.0</td>\n",
       "<td>0.9333333333333333</td>\n",
       "<td>2030</td>\n",
       "<td>0</td>\n",
       "<td>4</td>\n",
       "<td>1</td>\n",
       "<td>0.9980334316617503</td>\n",
       "<td>0.999507631708518</td>\n",
       "<td>0.9987699876998771</td>\n",
       "<td>159.98</td>\n",
       "<td>864691136333776819</td>\n",
       "<td>True</td>\n",
       "<td>True</td>\n",
       "<td>full</td>\n",
       "<td>1</td>\n",
       "<td>0</td>\n",
       "<td>0</td>\n",
       "<td>0</td>\n",
       "<td></td></tr><tr><td>88.00</td>\n",
       "<td>294545</td>\n",
       "<td>864691135517422218</td>\n",
       "<td>0.08</td>\n",
       "<td>0</td>\n",
       "<td>=BLOB=</td>\n",
       "<td>837.3426351619582</td>\n",
       "<td>=BLOB=</td>\n",
       "<td>=BLOB=</td>\n",
       "<td>42</td>\n",
       "<td>166</td>\n",
       "<td>2</td>\n",
       "<td>80</td>\n",
       "<td>0.9545454545454546</td>\n",
       "<td>0.3442622950819672</td>\n",
       "<td>0.5060240963855422</td>\n",
       "<td>1464</td>\n",
       "<td>3</td>\n",
       "<td>2</td>\n",
       "<td>1</td>\n",
       "<td>0.9986357435197817</td>\n",
       "<td>0.9993174061433447</td>\n",
       "<td>0.9989764585465711</td>\n",
       "<td>445.06</td>\n",
       "<td>864691135771629819</td>\n",
       "<td>True</td>\n",
       "<td>True</td>\n",
       "<td>full</td>\n",
       "<td>1</td>\n",
       "<td>0</td>\n",
       "<td>0</td>\n",
       "<td>0</td>\n",
       "<td></td> </tr> </tbody>\n",
       "            </table>\n",
       "            <p>...</p>\n",
       "            <p>Total: 127</p></div>\n",
       "            "
      ],
      "text/plain": [
       "*ver      *nucleus_id    *segment_id    *old_ver    *split_index   decomposit axon_length    validation validation pre_tp     pre_tn     pre_fp     pre_fn     pre_precision  pre_recall     pre_f1         post_tp     post_tn     post_fp     post_fn     post_precision post_recall    post_f1        run_time     old_segment_id finished_dendr finished_axon  extension_type n_somas     n_soma_mergers n_glia     large_splits   notes    \n",
       "+-------+ +------------+ +------------+ +---------+ +------------+ +--------+ +------------+ +--------+ +--------+ +--------+ +--------+ +--------+ +--------+ +------------+ +------------+ +------------+ +---------+ +---------+ +---------+ +---------+ +------------+ +------------+ +------------+ +----------+ +------------+ +------------+ +------------+ +------------+ +---------+ +------------+ +--------+ +------------+ +-------+\n",
       "88.00     189149         86469113585589 0.08        0              =BLOB=     270.1986467212 =BLOB=     =BLOB=     3          167        4          4          0.428571428571 0.428571428571 0.428571428571 5280        7           39          4           0.992667794698 0.999242997728 0.995944543996 381.56       86469113558531 True           True           full           1           0              0          0                       \n",
       "88.00     223037         86469113622716 0.08        0              =BLOB=     108.8908593249 =BLOB=     =BLOB=     0          450        0          0          nan            nan            nan            1           3416        3853        0           0.000259470679 1.0            0.000518806744 378.64       86469113553812 True           True           full           2           0              0          0                       \n",
       "88.00     225498         86469113575393 0.08        0              =BLOB=     287.0008022586 =BLOB=     =BLOB=     11         72         5          0          0.6875         1.0            0.814814814814 1124        0           0           9           1.0            0.992056487202 0.996012405848 197.92       86469113556465 True           True           full           1           0              0          0                       \n",
       "88.00     230236         86469113560968 0.08        0              =BLOB=     1343.992350470 =BLOB=     =BLOB=     27         549        12         23         0.692307692307 0.54           0.606741573033 1960        22          1           2           0.999490056093 0.998980632008 0.999235279123 958.53       86469113574856 True           True           full           1           0              0          0                       \n",
       "88.00     236197         86469113690314 0.08        0              =BLOB=     40.75344701234 =BLOB=     =BLOB=     0          974        0          6          nan            0.0            nan            2750        2333        3           48          0.998910279694 0.982844889206 0.990812466222 452.21       86469113575856 True           True           full           2           0              2          0                       \n",
       "88.00     258307         86469113529312 0.08        0              =BLOB=     597.8867829872 =BLOB=     =BLOB=     7          352        0          63         1.0            0.1            0.181818181818 2983        8           24          20          0.992018623212 0.993339993339 0.992678868552 447.23       86469113619404 True           True           full           1           0              0          0                       \n",
       "88.00     262773         86469113602388 0.08        0              =BLOB=     199.5769705659 =BLOB=     =BLOB=     10         47         2          0          0.833333333333 1.0            0.909090909090 724         0           2           10          0.997245179063 0.986376021798 0.991780821917 122.48       86469113523310 True           True           full           1           0              0          0                       \n",
       "88.00     264870         86469113695166 0.08        0              =BLOB=     930.3046613475 =BLOB=     =BLOB=     28         424        0          4          1.0            0.875          0.933333333333 2008        26          3           33          0.998508204873 0.983831455169 0.991115498519 634.85       86469113574022 True           True           full           1           0              0          0                       \n",
       "88.00     269247         86469113558407 0.08        0              =BLOB=     886.6764688014 =BLOB=     =BLOB=     80         14         0          190        1.0            0.296296296296 0.457142857142 802         0           7           69          0.991347342398 0.920780711825 0.954761904761 481.19       86469113610549 True           True           full           1           0              0          0                       \n",
       "88.00     269380         86469113597463 0.08        0              =BLOB=     363.9333366753 =BLOB=     =BLOB=     14         254        7          24         0.666666666666 0.368421052631 0.474576271186 1863        4           8           3           0.995724211651 0.998392282958 0.997056462402 377.2        86469113498838 True           True           full           1           0              0          0                       \n",
       "88.00     271518         86469113610876 0.08        0              =BLOB=     319.3665253460 =BLOB=     =BLOB=     7          43         1          0          0.875          1.0            0.933333333333 2030        0           4           1           0.998033431661 0.999507631708 0.998769987699 159.98       86469113633377 True           True           full           1           0              0          0                       \n",
       "88.00     294545         86469113551742 0.08        0              =BLOB=     837.3426351619 =BLOB=     =BLOB=     42         166        2          80         0.954545454545 0.344262295081 0.506024096385 1464        3           2           1           0.998635743519 0.999317406143 0.998976458546 445.06       86469113577162 True           True           full           1           0              0          0                       \n",
       "   ...\n",
       " (Total: 127)"
      ]
     },
     "execution_count": 10,
     "metadata": {},
     "output_type": "execute_result"
    }
   ],
   "source": [
    "val_table = minnie.AutoProofreadValidationScore6() * minnie.AutoProofreadValidationSegmentMap4()\n",
    "val_table"
   ]
  },
  {
   "cell_type": "code",
   "execution_count": 11,
   "metadata": {},
   "outputs": [
    {
     "data": {
      "text/html": [
       "\n",
       "        \n",
       "        <style type=\"text/css\">\n",
       "            .Relation{\n",
       "                border-collapse:collapse;\n",
       "            }\n",
       "            .Relation th{\n",
       "                background: #A0A0A0; color: #ffffff; padding:4px; border:#f0e0e0 1px solid;\n",
       "                font-weight: normal; font-family: monospace; font-size: 100%;\n",
       "            }\n",
       "            .Relation td{\n",
       "                padding:4px; border:#f0e0e0 1px solid; font-size:100%;\n",
       "            }\n",
       "            .Relation tr:nth-child(odd){\n",
       "                background: #ffffff;\n",
       "            }\n",
       "            .Relation tr:nth-child(even){\n",
       "                background: #f3f1ff;\n",
       "            }\n",
       "            /* Tooltip container */\n",
       "            .djtooltip {\n",
       "            }\n",
       "            /* Tooltip text */\n",
       "            .djtooltip .djtooltiptext {\n",
       "                visibility: hidden;\n",
       "                width: 120px;\n",
       "                background-color: black;\n",
       "                color: #fff;\n",
       "                text-align: center;\n",
       "                padding: 5px 0;\n",
       "                border-radius: 6px;\n",
       "                /* Position the tooltip text - see examples below! */\n",
       "                position: absolute;\n",
       "                z-index: 1;\n",
       "            }\n",
       "            #primary {\n",
       "                font-weight: bold;\n",
       "                color: black;\n",
       "            }\n",
       "\n",
       "            #nonprimary {\n",
       "                font-weight: normal;\n",
       "                color: white;\n",
       "            }\n",
       "\n",
       "            /* Show the tooltip text when you mouse over the tooltip container */\n",
       "            .djtooltip:hover .djtooltiptext {\n",
       "                visibility: visible;\n",
       "            }\n",
       "        </style>\n",
       "        \n",
       "        <b></b>\n",
       "            <div style=\"max-height:1000px;max-width:1500px;overflow:auto;\">\n",
       "            <table border=\"1\" class=\"Relation\">\n",
       "                <thead> <tr style=\"text-align: right;\"> <th> <div class=\"djtooltip\">\n",
       "                                <p id=\"primary\">ver</p>\n",
       "                                <span class=\"djtooltiptext\">materialization version</span>\n",
       "                            </div></th><th><div class=\"djtooltip\">\n",
       "                                <p id=\"primary\">nucleus_id</p>\n",
       "                                <span class=\"djtooltiptext\">nucleus id</span>\n",
       "                            </div></th><th><div class=\"djtooltip\">\n",
       "                                <p id=\"primary\">segment_id</p>\n",
       "                                <span class=\"djtooltiptext\">the segment id in the proofread version</span>\n",
       "                            </div></th><th><div class=\"djtooltip\">\n",
       "                                <p id=\"primary\">old_ver</p>\n",
       "                                <span class=\"djtooltiptext\">materialization version</span>\n",
       "                            </div></th><th><div class=\"djtooltip\">\n",
       "                                <p id=\"primary\">split_index</p>\n",
       "                                <span class=\"djtooltiptext\">the index of the neuron object that resulted AFTER THE SPLITTING ALGORITHM</span>\n",
       "                            </div></th><th><div class=\"djtooltip\">\n",
       "                                <p id=\"nonprimary\">decomposition</p>\n",
       "                                <span class=\"djtooltiptext\">saved neuron object with high fidelity axon</span>\n",
       "                            </div></th><th><div class=\"djtooltip\">\n",
       "                                <p id=\"nonprimary\">axon_length</p>\n",
       "                                <span class=\"djtooltiptext\">axon length of the filtered neuron</span>\n",
       "                            </div></th><th><div class=\"djtooltip\">\n",
       "                                <p id=\"nonprimary\">validation_df</p>\n",
       "                                <span class=\"djtooltiptext\"></span>\n",
       "                            </div></th><th><div class=\"djtooltip\">\n",
       "                                <p id=\"nonprimary\">validation_df_ext</p>\n",
       "                                <span class=\"djtooltiptext\"></span>\n",
       "                            </div></th><th><div class=\"djtooltip\">\n",
       "                                <p id=\"nonprimary\">pre_tp</p>\n",
       "                                <span class=\"djtooltiptext\"></span>\n",
       "                            </div></th><th><div class=\"djtooltip\">\n",
       "                                <p id=\"nonprimary\">pre_tn</p>\n",
       "                                <span class=\"djtooltiptext\"></span>\n",
       "                            </div></th><th><div class=\"djtooltip\">\n",
       "                                <p id=\"nonprimary\">pre_fp</p>\n",
       "                                <span class=\"djtooltiptext\"></span>\n",
       "                            </div></th><th><div class=\"djtooltip\">\n",
       "                                <p id=\"nonprimary\">pre_fn</p>\n",
       "                                <span class=\"djtooltiptext\"></span>\n",
       "                            </div></th><th><div class=\"djtooltip\">\n",
       "                                <p id=\"nonprimary\">pre_precision</p>\n",
       "                                <span class=\"djtooltiptext\"></span>\n",
       "                            </div></th><th><div class=\"djtooltip\">\n",
       "                                <p id=\"nonprimary\">pre_recall</p>\n",
       "                                <span class=\"djtooltiptext\"></span>\n",
       "                            </div></th><th><div class=\"djtooltip\">\n",
       "                                <p id=\"nonprimary\">pre_f1</p>\n",
       "                                <span class=\"djtooltiptext\"></span>\n",
       "                            </div></th><th><div class=\"djtooltip\">\n",
       "                                <p id=\"nonprimary\">post_tp</p>\n",
       "                                <span class=\"djtooltiptext\"></span>\n",
       "                            </div></th><th><div class=\"djtooltip\">\n",
       "                                <p id=\"nonprimary\">post_tn</p>\n",
       "                                <span class=\"djtooltiptext\"></span>\n",
       "                            </div></th><th><div class=\"djtooltip\">\n",
       "                                <p id=\"nonprimary\">post_fp</p>\n",
       "                                <span class=\"djtooltiptext\"></span>\n",
       "                            </div></th><th><div class=\"djtooltip\">\n",
       "                                <p id=\"nonprimary\">post_fn</p>\n",
       "                                <span class=\"djtooltiptext\"></span>\n",
       "                            </div></th><th><div class=\"djtooltip\">\n",
       "                                <p id=\"nonprimary\">post_precision</p>\n",
       "                                <span class=\"djtooltiptext\"></span>\n",
       "                            </div></th><th><div class=\"djtooltip\">\n",
       "                                <p id=\"nonprimary\">post_recall</p>\n",
       "                                <span class=\"djtooltiptext\"></span>\n",
       "                            </div></th><th><div class=\"djtooltip\">\n",
       "                                <p id=\"nonprimary\">post_f1</p>\n",
       "                                <span class=\"djtooltiptext\"></span>\n",
       "                            </div></th><th><div class=\"djtooltip\">\n",
       "                                <p id=\"nonprimary\">run_time</p>\n",
       "                                <span class=\"djtooltiptext\">the amount of time to run (seconds)</span>\n",
       "                            </div> </th> </tr> </thead>\n",
       "                <tbody> <tr> <td>88.00</td>\n",
       "<td>493968</td>\n",
       "<td>864691135117980637</td>\n",
       "<td>0.08</td>\n",
       "<td>0</td>\n",
       "<td>=BLOB=</td>\n",
       "<td>1809.3865846190454</td>\n",
       "<td>=BLOB=</td>\n",
       "<td>=BLOB=</td>\n",
       "<td>46</td>\n",
       "<td>623</td>\n",
       "<td>24</td>\n",
       "<td>16</td>\n",
       "<td>0.6571428571428571</td>\n",
       "<td>0.7419354838709677</td>\n",
       "<td>0.6969696969696969</td>\n",
       "<td>3600</td>\n",
       "<td>2</td>\n",
       "<td>49</td>\n",
       "<td>3</td>\n",
       "<td>0.9865716634694437</td>\n",
       "<td>0.9991673605328892</td>\n",
       "<td>0.9928295642581357</td>\n",
       "<td>849.42</td></tr><tr><td>88.00</td>\n",
       "<td>518853</td>\n",
       "<td>864691135415666362</td>\n",
       "<td>0.08</td>\n",
       "<td>0</td>\n",
       "<td>=BLOB=</td>\n",
       "<td>3282.216896102451</td>\n",
       "<td>=BLOB=</td>\n",
       "<td>=BLOB=</td>\n",
       "<td>293</td>\n",
       "<td>475</td>\n",
       "<td>34</td>\n",
       "<td>42</td>\n",
       "<td>0.8960244648318043</td>\n",
       "<td>0.8746268656716418</td>\n",
       "<td>0.8851963746223565</td>\n",
       "<td>9304</td>\n",
       "<td>4</td>\n",
       "<td>3</td>\n",
       "<td>5</td>\n",
       "<td>0.9996776619748576</td>\n",
       "<td>0.99946288537974</td>\n",
       "<td>0.9995702621400945</td>\n",
       "<td>1287.22</td> </tr> </tbody>\n",
       "            </table>\n",
       "            \n",
       "            <p>Total: 2</p></div>\n",
       "            "
      ],
      "text/plain": [
       "*ver      *nucleus_id    *segment_id    *old_ver    *split_index   decomposit axon_length    validation validation pre_tp     pre_tn     pre_fp     pre_fn     pre_precision  pre_recall     pre_f1         post_tp     post_tn     post_fp     post_fn     post_precision post_recall    post_f1        run_time    \n",
       "+-------+ +------------+ +------------+ +---------+ +------------+ +--------+ +------------+ +--------+ +--------+ +--------+ +--------+ +--------+ +--------+ +------------+ +------------+ +------------+ +---------+ +---------+ +---------+ +---------+ +------------+ +------------+ +------------+ +----------+\n",
       "88.00     493968         86469113511798 0.08        0              =BLOB=     1809.386584619 =BLOB=     =BLOB=     46         623        24         16         0.657142857142 0.741935483870 0.696969696969 3600        2           49          3           0.986571663469 0.999167360532 0.992829564258 849.42      \n",
       "88.00     518853         86469113541566 0.08        0              =BLOB=     3282.216896102 =BLOB=     =BLOB=     293        475        34         42         0.896024464831 0.874626865671 0.885196374622 9304        4           3           5           0.999677661974 0.999462885379 0.999570262140 1287.22     \n",
       " (Total: 2)"
      ]
     },
     "execution_count": 11,
     "metadata": {},
     "output_type": "execute_result"
    }
   ],
   "source": [
    "bad_presyn_table = (minnie.AutoProofreadValidationScore6() & \"pre_fp>20\")\n",
    "bad_presyn_table"
   ]
  },
  {
   "cell_type": "code",
   "execution_count": null,
   "metadata": {},
   "outputs": [],
   "source": [
    "bad_presyn_table = (minnie.AutoProofreadValidationScore5() & \"pre_fp>100\")\n",
    "bad_postsyn_table_filt =  (bad_postsyn_table * minnie.AutoProofreadValidationSegmentMap4()) & axon_segs.proj(old_segment_id=\"segment_id\")\n",
    "#bad_postsyn_seg_ids = bad_postsyn_table.fetch(\"segment_id\")\n",
    "bad_postsyn_table_filt.proj(\"post_fn\")"
   ]
  },
  {
   "cell_type": "code",
   "execution_count": null,
   "metadata": {},
   "outputs": [],
   "source": [
    "bad_postsyn_table = (minnie.AutoProofreadValidationScore5() & \"post_fn>200\")\n",
    "bad_postsyn_table_filt =  (bad_postsyn_table * minnie.AutoProofreadValidationSegmentMap4()) & axon_segs.proj(old_segment_id=\"segment_id\")\n",
    "#bad_postsyn_seg_ids = bad_postsyn_table.fetch(\"segment_id\")\n",
    "bad_postsyn_table_filt.proj(\"post_fn\")"
   ]
  },
  {
   "cell_type": "code",
   "execution_count": null,
   "metadata": {},
   "outputs": [],
   "source": [
    "import datajoint as dj\n",
    "dj.config[\"display.limit\"] = 30\n",
    "bad_presyn_table = (minnie.AutoProofreadValidationScore5() & \"pre_fp>10\")\n",
    "bad_presyn_seg_ids = bad_presyn_table.fetch(\"segment_id\")\n",
    "bad_presyn_table"
   ]
  },
  {
   "cell_type": "code",
   "execution_count": null,
   "metadata": {},
   "outputs": [],
   "source": [
    "# multi_soma_keys = (minnie.AutoProofreadValidationSegmentMap4() & \"n_somas>1\"\n",
    "#                       & minnie.DecompositionAxon.proj(old_segment_id=\"segment_id\")\n",
    "#                   & dict(segment_id = 864691135415710906)).proj().fetch(as_dict=True)\n",
    "# key = multi_soma_keys[0]\n",
    "# key"
   ]
  },
  {
   "cell_type": "code",
   "execution_count": 93,
   "metadata": {},
   "outputs": [],
   "source": [
    "segment_id = 864691135584074360\n",
    "segment_id = 864691135517422218\n",
    "segment_id = 864691136951664863\n",
    "segment_id = 864691135446675028\n",
    "segment_id = 864691135367058169\n",
    "segment_id = 864691135117980637\n",
    "segment_id = 864691135761634358\n",
    "segment_id = 864691136334080435\n",
    "segment_id = 864691135593719339\n",
    "\n",
    "\n",
    "#deugging the version 6\n",
    "segment_id = 864691135117980637\n",
    "segment_id = 864691135415666362\n",
    "segment_id = 864691136227020113\n",
    "key = dict(segment_id=segment_id)"
   ]
  },
  {
   "cell_type": "code",
   "execution_count": 94,
   "metadata": {
    "scrolled": true
   },
   "outputs": [
    {
     "name": "stdout",
     "output_type": "stream",
     "text": [
      "\n",
      "-- Working on neuron 864691136227020113---\n",
      "nuc_center_coords = [1227456  854208  989480]\n",
      "old_segment_id = 864691135212632704\n",
      "# of somas = 1 and # of DecompositionCellType = 1\n",
      "**Using table __decomposition_cell_type for table_to_neuron_objs**\n",
      "Decompressing Neuron in minimal output mode...please wait\n",
      "Number of Neurons found = 1\n"
     ]
    }
   ],
   "source": [
    "verbose = True\n",
    "\n",
    "segment_id = key[\"segment_id\"]\n",
    "if verbose:\n",
    "    print(f\"\\n-- Working on neuron {segment_id}---\")\n",
    "\n",
    "segment_map_dict = (minnie.AutoProofreadValidationSegmentMap4() & dict(segment_id=segment_id)).fetch1()\n",
    "\n",
    "#1) Find the coordinates of the nucleus for that new segment\n",
    "nucleus_id = segment_map_dict[\"nucleus_id\"]\n",
    "nuc_center_coords = du.nuclei_id_to_nucleus_centers(nucleus_id)\n",
    "if verbose:\n",
    "    print(f\"nuc_center_coords = {nuc_center_coords}\")\n",
    "\n",
    "#2) Make sure that same number of DecompositionCellType objects as in Decomposition\n",
    "old_segment_id = segment_map_dict[\"old_segment_id\"]\n",
    "if verbose:\n",
    "    print(f\"old_segment_id = {old_segment_id}\")\n",
    "\n",
    "search_key = dict(segment_id=old_segment_id)\n",
    "n_somas = len(minnie.BaylorSegmentCentroid() & search_key)\n",
    "n_decomp_axon = len(minnie.DecompositionCellType() & search_key)\n",
    "if verbose:\n",
    "    print(f\"# of somas = {n_somas} and # of DecompositionCellType = {n_decomp_axon}\")\n",
    "\n",
    "\n",
    "if n_somas != n_decomp_axon:\n",
    "    raise Exception(f\"# of somas = {n_somas} NOT MATCH # of DecompositionCellType = {n_decomp_axon}\")\n",
    "\n",
    "#3) Pick the neuron object that is closest and within a certain range of the nucleus\n",
    "neuron_objs,split_idxs = du.decomposition_with_spine_recalculation(old_segment_id)\n",
    "if n_somas > 1:\n",
    "    \"\"\"\n",
    "    Finding the closest soma:\n",
    "    1) For each neuron object get the mesh center of the soma object\n",
    "    2) Find the distance of each from the nucleus center\n",
    "    3) Find the arg min distance and make sure within threshold\n",
    "    4) Mark the current neuron and the current split index\n",
    "    \"\"\"\n",
    "    nuclei_distance_threshold = 15000\n",
    "\n",
    "    soma_center_coords = [k[\"S0\"].mesh_center for k in neuron_objs]\n",
    "    soma_distances = [np.linalg.norm(k-nuc_center_coords) for k in soma_center_coords]\n",
    "    min_dist_arg = np.argmin(soma_distances)\n",
    "    min_dist = soma_distances[min_dist_arg]\n",
    "\n",
    "    if verbose:\n",
    "        print(f\"soma_distances = {soma_distances}\")\n",
    "        print(f\"min_dist_arg = {min_dist_arg}, with min distance = {min_dist}\")\n",
    "\n",
    "    if min_dist > nuclei_distance_threshold:\n",
    "        raise Exception(f\"min_dist ({min_dist}) larger than nuclei_distance_threshold ({nuclei_distance_threshold})\")\n",
    "\n",
    "    neuron_obj = neuron_objs[min_dist_arg]\n",
    "    split_index = split_idxs[min_dist_arg]\n",
    "\n",
    "    if verbose:\n",
    "        print(f\"Winning split_index = {split_index}\")\n",
    "else:\n",
    "    split_index = split_idxs[0]\n",
    "    neuron_obj = neuron_objs[0]\n",
    "    "
   ]
  },
  {
   "cell_type": "code",
   "execution_count": 88,
   "metadata": {},
   "outputs": [
    {
     "name": "stdout",
     "output_type": "stream",
     "text": [
      "\n",
      "*****Using v6 Filters!!!\n",
      "\n",
      "\n",
      "\n",
      "--- Working on filter 0:\n",
      "function = axon_on_dendrite_merges\n",
      "function __name__ = filter_away_axon_on_dendrite_merges\n",
      "function arguments = {'use_pre_existing_axon_labels': True}\n",
      "\n",
      "\n",
      "Recieved another instance of Neuron class in init -- so just copying data\n",
      "Recieved another instance of Neuron class in init -- so just copying data\n",
      "Recieved another instance of Neuron class in init -- so just copying data\n",
      "\n",
      "--- Working on filter 1:\n",
      "function = high_degree_branching\n",
      "function __name__ = filter_away_high_degree_branching\n",
      "function arguments = {}\n",
      "\n",
      "\n",
      "Recieved another instance of Neuron class in init -- so just copying data\n",
      "limb_branch_dict_to_cancel = {'L1': array([ 37,  50,  51,  47,  59,  65,  91,  92,  93, 119, 124, 106, 113,\n",
      "       130, 150, 149, 161, 163, 189, 195, 200, 179, 191, 166, 207, 222,\n",
      "       225, 255, 256, 257, 230, 268, 249, 301, 303, 309, 328, 333, 342,\n",
      "       343, 313, 332, 398, 404, 477, 480, 372, 381, 386, 417, 444, 414,\n",
      "       418, 457, 465, 468, 410, 435, 454, 431, 459, 493, 525, 528, 530,\n",
      "       535, 538, 539])}\n",
      "Recieved another instance of Neuron class in init -- so just copying data\n",
      "\n",
      "--- Working on filter 2:\n",
      "function = low_degree_branching\n",
      "function __name__ = filter_away_low_degree_branching\n",
      "function arguments = {}\n",
      "\n",
      "\n",
      "Recieved another instance of Neuron class in init -- so just copying data\n",
      "5 triggered min_synapse_dist_to_branch_point_filter\n",
      "41 triggered min_synapse_dist_to_branch_point_filter\n",
      "54 triggered min_synapse_dist_to_branch_point_filter\n",
      "72 triggered min_synapse_dist_to_branch_point_filter\n",
      "73 triggered fork_min_skeletal_distance_filter\n",
      "74 triggered min_synapse_dist_to_branch_point_filter\n",
      "112 triggered axon_double_back_filter\n",
      "126 triggered min_synapse_dist_to_branch_point_filter\n",
      "132 triggered axon_double_back_filter\n",
      "134 triggered min_synapse_dist_to_branch_point_filter\n",
      "149 triggered fork_min_skeletal_distance_filter\n",
      "186 triggered min_synapse_dist_to_branch_point_filter\n",
      "201 triggered min_synapse_dist_to_branch_point_filter\n",
      "221 triggered min_synapse_dist_to_branch_point_filter\n",
      "269 triggered min_synapse_dist_to_branch_point_filter\n",
      "limb_branch_dict_to_cancel = {'L1': array([ 19,  42,  43,  50,  55,  71,  59,  68,  70,  73, 118, 149, 103,\n",
      "       126, 141, 135, 154, 155, 259, 200, 225, 279, 281])}\n",
      "Recieved another instance of Neuron class in init -- so just copying data\n",
      "\n",
      "--- Working on filter 3:\n",
      "function = width_jump_up_dendrite\n",
      "function __name__ = filter_away_width_jump_up_dendrite\n",
      "function arguments = {}\n",
      "\n",
      "\n",
      "Recieved another instance of Neuron class in init -- so just copying data\n",
      "limb_branch_dict_to_cancel = {}\n",
      "\n",
      "--- Working on filter 4:\n",
      "function = width_jump_up_axon\n",
      "function __name__ = filter_away_width_jump_up_axon\n",
      "function arguments = {}\n",
      "\n",
      "\n",
      "Recieved another instance of Neuron class in init -- so just copying data\n",
      "limb_branch_dict_to_cancel = {}\n",
      "\n",
      "--- Working on filter 5:\n",
      "function = double_back_dendrite\n",
      "function __name__ = filter_away_double_back_dendrite\n",
      "function arguments = {}\n",
      "\n",
      "\n",
      "Recieved another instance of Neuron class in init -- so just copying data\n",
      "limb_branch_dict_to_cancel = {}\n",
      "\n",
      "\n",
      "\n",
      " ---- Total time for applying filter: 666.5039446353912 -----\n",
      "\n",
      "--- Finished Part 1: Filtering Neuron -----\n",
      "\n",
      "---Step 1: Computing synapse_dict---\n",
      "# of beginning_direct_connections = 10160 \n",
      "# of presyn: 844\n",
      "# of postsyn: 9316\n",
      "\n",
      "---Step 2: Computing mesh_label_dict---\n",
      "-- Working on presyn--\n",
      "Using original_mesh_method\n",
      "# of distance_errored_syn_idx = 0\n",
      "# of mesh_errored_syn_idx = 582\n",
      "# of valid_syn_idx = 262\n",
      "-- Working on postsyn--\n",
      "Using original_mesh_method\n",
      "# of distance_errored_syn_idx = 0\n",
      "# of mesh_errored_syn_idx = 10\n",
      "# of valid_syn_idx = 9306\n",
      "\n",
      "---Step 4: add_error_synapses_to_neuron_obj---\n",
      "Working on error_type = distance_errored\n",
      "Working on error_type = mesh_errored\n",
      "Total time for valid synapse objects = 0.010115385055541992\n",
      "\n",
      "--- Limb L0 soma calculation time = 1.642\n",
      "\n",
      "--- Limb L1 soma calculation time = 5.089\n",
      "\n",
      "--- Limb L2 soma calculation time = 0.327\n",
      "\n",
      "--- Limb L3 soma calculation time = 0.198\n",
      "\n",
      "--- Limb L4 soma calculation time = 0.146\n",
      "\n",
      "--- Limb L5 soma calculation time = 0.126\n",
      "\n",
      "--- Limb L6 soma calculation time = 0.102\n",
      "\n",
      "--- Limb L7 soma calculation time = 0.06\n",
      "\n",
      "--- Limb L8 soma calculation time = 0.043\n",
      "\n",
      "--- Limb L9 soma calculation time = 0.044\n",
      "\n",
      "--- Limb L10 soma calculation time = 0.0\n",
      "Putting Soma Placeholders\n",
      "\n",
      "--- Soma 0 soma calculation time = 0.0\n",
      "Putting Error Placeholders\n",
      "\n",
      "--- Error soma calculation time = 0.101\n",
      "Total soma distance calculation time = 7.8817298412323\n",
      "Time for 9549 synapse entries = 0.06904768943786621\n",
      "Time for 611 synapse entries = 0.002468585968017578\n",
      "# of synapses in query = 19\n",
      "# of total_error_synapse_ids = 611\n",
      "set_presyns_on_dendrite_as_errors to default of True\n",
      "presyn_error = [350124018 350124269 357942427 363248063 368910651 378588591 378243304\n",
      " 384060598 410563384 354265403 350988585 350988680 377706882 379694476\n",
      " 403913876 386764858 356579727 356637723 360238123]\n",
      "\n",
      "--- Finished Part 2: Filtering Synapses -----\n",
      "Synapsse Results:\n",
      "Total Number of Synapses = 10160\n",
      "n_valid_syn_ids_presyn = 243\n",
      "n_errored_syn_ids_presyn = 601\n",
      "n_valid_syn_ids_postsyn = 9306\n",
      "n_errored_syn_ids_postsyn = 10\n",
      "Synapsse Results:\n",
      "Total Number of Synapses = 10160\n",
      "n_valid_syn_ids_presyn = 243\n",
      "n_errored_syn_ids_presyn = 601\n",
      "n_valid_syn_ids_postsyn = 9306\n",
      "n_errored_syn_ids_postsyn = 10\n",
      "\n",
      "--- Finished Part 3: Generating Validation Dataframe -----\n"
     ]
    }
   ],
   "source": [
    "(filt_neuron,\n",
    "             return_synapse_df_revised,\n",
    "             return_synapse_df_errors,\n",
    "            return_validation_df_revised,\n",
    "            return_validation_df_extension) =  vu.filtered_neuron_score(neuron_obj = neuron_obj,   \n",
    "                                #filter_list = pru.v6_exc_filters(),\n",
    "                                filter_list = [pru.exc_high_degree_branching_filter_v6],\n",
    "                                plot_limb_branch_filter_with_disconnect_effect = False,\n",
    "                                verbose = True,\n",
    "                                plot_score=False,\n",
    "                                nucleus_id = nucleus_id,\n",
    "                                return_synapse_df_errors=True,\n",
    "                                return_validation_df_extension = True,                                        \n",
    "                                split_index=split_index)"
   ]
  },
  {
   "cell_type": "code",
   "execution_count": 89,
   "metadata": {},
   "outputs": [
    {
     "name": "stdout",
     "output_type": "stream",
     "text": [
      "Segment Id = 864691135866394390\n",
      "Postsyn counts:\n",
      "TP:9303\n",
      "TN:4\n",
      "FP:3\n",
      "FN:6\n",
      "Presyn counts:\n",
      "TP:240\n",
      "TN:506\n",
      "FP:3\n",
      "FN:95\n"
     ]
    },
    {
     "data": {
      "image/png": "[encoded data removed]",
      "text/plain": [
       "<Figure size 700x400 with 2 Axes>"
      ]
     },
     "metadata": {},
     "output_type": "display_data"
    }
   ],
   "source": [
    "vu.synapse_validation_df_to_score_plot(return_validation_df_revised)"
   ]
  },
  {
   "cell_type": "code",
   "execution_count": 90,
   "metadata": {},
   "outputs": [],
   "source": [
    "# nviz.plot_axon(filt_neuron)"
   ]
  },
  {
   "cell_type": "code",
   "execution_count": 91,
   "metadata": {},
   "outputs": [],
   "source": [
    "# import neuron_visualizations as nviz\n",
    "# nviz.visualize_neuron(filt_neuron,\n",
    "#                       limb_branch_dict=\"all\")"
   ]
  },
  {
   "cell_type": "code",
   "execution_count": 92,
   "metadata": {
    "scrolled": false
   },
   "outputs": [
    {
     "name": "stdout",
     "output_type": "stream",
     "text": [
      "Using the mesh from the neuron object\n"
     ]
    },
    {
     "data": {
      "application/vnd.jupyter.widget-view+json": {
       "model_id": "07d2401a2b0e43ca9c4525982aa959be",
       "version_major": 2,
       "version_minor": 0
      },
      "text/plain": [
       "VBox(children=(Figure(camera=PerspectiveCamera(fov=46.0, position=(0.0, 0.0, 2.0), projectionMatrix=(1.0, 0.0,…"
      ]
     },
     "metadata": {},
     "output_type": "display_data"
    },
    {
     "name": "stdout",
     "output_type": "stream",
     "text": [
      "TP:yellow\n",
      "TN:aqua\n",
      "FP:black\n",
      "FN:orange\n"
     ]
    }
   ],
   "source": [
    "vu.plot_validation_synapses(filt_neuron.segment_id,\n",
    "                            validation_df = return_validation_df_revised,\n",
    "                             synapse_dict = None,\n",
    "                             synapses_type_to_plot = None,\n",
    "                             synapses_type_to_not_plot = None,\n",
    "                             verbose=False,\n",
    "                             synapse_type = \"presyn\",\n",
    "                             TP_color=\"yellow\",\n",
    "                            TN_color=\"aqua\",\n",
    "                            FP_color=\"black\",\n",
    "                            FN_color=\"orange\",\n",
    "                             synapse_scatter_size = 0.15,\n",
    "                             \n",
    "                             #for plotting the actual mesh parts to go along\n",
    "                             \n",
    "                             neuron_obj = filt_neuron,\n",
    "                             plot_only_axon_skeleton = True,\n",
    "                             error_mesh_color = \"red\",\n",
    "                             valid_mesh_color = \"green\",\n",
    "                             valid_skeleton_color = \"black\",\n",
    "                             mesh_alpha = 0.3,)"
   ]
  },
  {
   "cell_type": "code",
   "execution_count": 78,
   "metadata": {
    "scrolled": false
   },
   "outputs": [
    {
     "name": "stdout",
     "output_type": "stream",
     "text": [
      "\n",
      "\n",
      " ----- Working on branch 10/217: 10--------\n",
      "downstream_branches = [8 9 4]\n",
      "skipped_nodes = []\n",
      "Total number of short_thick_endnodes_to_remove = 7\n",
      "downstream_branches after remove_short_thick_endnodes = [4 8 9]\n",
      "Total number of axon_spines = 29\n",
      "downstream_branches after remove_short_thick_endnodes = [4 8 9]\n",
      "widths_in_branches = [60.30983167 60.01975147 47.05432914 52.46872612]\n",
      "***Branch being considered after filters = 10***\n",
      "Group blue: [4]\n",
      "Group green: [8]\n",
      "Group red: [9]\n",
      "Group cyan: [10]\n"
     ]
    },
    {
     "data": {
      "application/vnd.jupyter.widget-view+json": {
       "model_id": "bf45a94979de444083bd7f262d771e8b",
       "version_major": 2,
       "version_minor": 0
      },
      "text/plain": [
       "VBox(children=(Figure(camera=PerspectiveCamera(fov=46.0, position=(0.0, 0.0, 2.0), projectionMatrix=(1.0, 0.0,…"
      ]
     },
     "metadata": {},
     "output_type": "display_data"
    },
    {
     "name": "stdout",
     "output_type": "stream",
     "text": [
      "branch_match_query = :\n",
      "(((width_diff < 75) or (width_diff_percentage < 0.6)) and (sk_angle < 65))and ((synapse_density_diff<0.00015) or (n_synapses_diff < 6))\n",
      "Performing Edge Query\n",
      "After edge filter, # of rows = 4\n",
      "\n",
      "--- Before Local Query ---\n",
      "   u   v  sk_angle  width_diff  width_diff_percentage  synapse_density_diff  \\\n",
      "0  4   8    124.64    0.290080               0.004810              0.000237   \n",
      "1  4   9     49.99   13.255503               0.219790              0.000060   \n",
      "2  4  10     21.42    7.841106               0.149443              0.000043   \n",
      "3  8   9      6.90   12.965422               0.216019              0.000297   \n",
      "4  8  10     43.17    7.551025               0.143915              0.000281   \n",
      "5  9  10    139.83    5.414397               0.103193              0.000016   \n",
      "\n",
      "   n_synapses_diff  \n",
      "0                8  \n",
      "1                9  \n",
      "2                8  \n",
      "3                1  \n",
      "4                0  \n",
      "5                1  \n",
      "Afer Local query: \n",
      "   u   v  sk_angle  width_diff  width_diff_percentage  synapse_density_diff  \\\n",
      "0  4   9     49.99   13.255503               0.219790              0.000060   \n",
      "1  4  10     21.42    7.841106               0.149443              0.000043   \n",
      "2  8   9      6.90   12.965422               0.216019              0.000297   \n",
      "3  8  10     43.17    7.551025               0.143915              0.000281   \n",
      "\n",
      "   n_synapses_diff  \n",
      "0                9  \n",
      "1                8  \n",
      "2                1  \n",
      "3                0  \n"
     ]
    },
    {
     "data": {
      "image/png": "[encoded data removed]",
      "text/plain": [
       "<Figure size 640x480 with 1 Axes>"
      ]
     },
     "metadata": {},
     "output_type": "display_data"
    },
    {
     "name": "stdout",
     "output_type": "stream",
     "text": [
      "Performing global features query\n",
      "Performing Edge Query\n",
      "After edge filter, # of rows = 2\n",
      "\n",
      "--- Before Global Query ---\n",
      "   u   v  sk_angle  width_diff  width_diff_percentage  synapse_density_diff  \\\n",
      "0  4   9     49.99   13.255503               0.219790              0.000060   \n",
      "1  4  10     21.42    7.841106               0.149443              0.000043   \n",
      "2  8   9      6.90   12.965422               0.216019              0.000297   \n",
      "3  8  10     43.17    7.551025               0.143915              0.000281   \n",
      "\n",
      "   n_synapses_diff definite_partner_sk_delete definite_partner_width_delete  \n",
      "0                9                       True                          None  \n",
      "1                8                       None                          None  \n",
      "2                1                      False                          None  \n",
      "3                0                       True                          None  \n",
      "Afer Global query: \n",
      "   u   v  sk_angle  width_diff  width_diff_percentage  synapse_density_diff  \\\n",
      "0  4  10     21.42    7.841106               0.149443              0.000043   \n",
      "1  8   9      6.90   12.965422               0.216019              0.000297   \n",
      "\n",
      "   n_synapses_diff definite_partner_sk_delete definite_partner_width_delete  \n",
      "0                8                       None                          None  \n",
      "1                1                      False                          None  \n"
     ]
    },
    {
     "data": {
      "image/png": "[encoded data removed]",
      "text/plain": [
       "<Figure size 640x480 with 1 Axes>"
      ]
     },
     "metadata": {},
     "output_type": "display_data"
    },
    {
     "name": "stdout",
     "output_type": "stream",
     "text": [
      "Performing node features query\n",
      "Performing Edge Query\n",
      "After edge filter, # of rows = 2\n",
      "\n",
      "--- Before Node Query ---\n",
      "   u   v  sk_angle  width_diff  width_diff_percentage  synapse_density_diff  \\\n",
      "0  4  10     21.42    7.841106               0.149443              0.000043   \n",
      "1  8   9      6.90   12.965422               0.216019              0.000297   \n",
      "\n",
      "   n_synapses_diff definite_partner_sk_delete definite_partner_width_delete  \\\n",
      "0                8                       None                          None   \n",
      "1                1                      False                          None   \n",
      "\n",
      "  above_threshold_delete  \n",
      "0                   None  \n",
      "1                   None  \n",
      "Afer Node query: \n",
      "   u   v  sk_angle  width_diff  width_diff_percentage  synapse_density_diff  \\\n",
      "0  4  10     21.42    7.841106               0.149443              0.000043   \n",
      "1  8   9      6.90   12.965422               0.216019              0.000297   \n",
      "\n",
      "   n_synapses_diff definite_partner_sk_delete definite_partner_width_delete  \\\n",
      "0                8                       None                          None   \n",
      "1                1                      False                          None   \n",
      "\n",
      "  above_threshold_delete  \n",
      "0                   None  \n",
      "1                   None  \n"
     ]
    },
    {
     "data": {
      "image/png": "[encoded data removed]",
      "text/plain": [
       "<Figure size 640x480 with 1 Axes>"
      ]
     },
     "metadata": {},
     "output_type": "display_data"
    },
    {
     "name": "stdout",
     "output_type": "stream",
     "text": [
      "for upstream node 10, winning_node = 4, error_branches = [8 9]\n",
      "Group blue: [10, 4]\n",
      "Group green: [8, 9]\n"
     ]
    },
    {
     "data": {
      "application/vnd.jupyter.widget-view+json": {
       "model_id": "47e9111e26d74a059c40b9c52df1a000",
       "version_major": 2,
       "version_minor": 0
      },
      "text/plain": [
       "VBox(children=(Figure(camera=PerspectiveCamera(fov=46.0, position=(0.0, 0.0, 2.0), projectionMatrix=(1.0, 0.0,…"
      ]
     },
     "metadata": {},
     "output_type": "display_data"
    },
    {
     "name": "stdout",
     "output_type": "stream",
     "text": [
      "winning_downstream = 4,error_downstream = [8 9] \n"
     ]
    },
    {
     "data": {
      "text/plain": [
       "{'L2': array([8, 9])}"
      ]
     },
     "execution_count": 78,
     "metadata": {},
     "output_type": "execute_result"
    }
   ],
   "source": [
    "ed.high_degree_branch_errors_limb_branch_dict(neuron_obj,debug_branches=[10])"
   ]
  },
  {
   "cell_type": "code",
   "execution_count": null,
   "metadata": {},
   "outputs": [],
   "source": [
    "nviz.visualize_neuron_specific_limb(neuron_obj,\n",
    "                                   \"axon\")"
   ]
  },
  {
   "cell_type": "code",
   "execution_count": null,
   "metadata": {},
   "outputs": [],
   "source": []
  },
  {
   "cell_type": "code",
   "execution_count": null,
   "metadata": {},
   "outputs": [],
   "source": []
  },
  {
   "cell_type": "markdown",
   "metadata": {},
   "source": [
    "# debugging the high degree crossover"
   ]
  },
  {
   "cell_type": "code",
   "execution_count": null,
   "metadata": {},
   "outputs": [],
   "source": [
    "import axon_utils as au\n",
    "axon_spines_limb_branch_dict = au.axon_spines_limb_branch_dict(neuron_obj)\n",
    "short_thick_endnodes_to_remove_limb_branch = au.short_thick_branches_limb_branch_dict(neuron_obj,\n",
    "                                                                                         verbose = False)\n",
    "limb_branch_dict = neuron_obj.axon_limb_branch_dict"
   ]
  },
  {
   "cell_type": "code",
   "execution_count": null,
   "metadata": {},
   "outputs": [],
   "source": [
    "branches_to_inspect = [40]"
   ]
  },
  {
   "cell_type": "code",
   "execution_count": null,
   "metadata": {
    "scrolled": false
   },
   "outputs": [],
   "source": [
    "import error_detection as ed\n",
    "min_upstream_skeletal_distance = 500\n",
    "kwargs = dict(plot_G_local_edge=True,\n",
    "             plot_G_global_edge=True,\n",
    "             plot_G_node_edge=True,\n",
    "             plot_starting_branches=True)\n",
    "skip_distance = None\n",
    "for limb_name,branch_list in limb_branch_dict.items():\n",
    "    if verbose:\n",
    "        print(f\"\\n\\n ----- Working on limb {limb_name}-------\")\n",
    "    limb_obj = neuron_obj[limb_name]\n",
    "#         short_thick_endnodes_to_remove = au.short_thick_branches_from_limb(limb_obj,\n",
    "#                                      verbose = False)\n",
    "\n",
    "    if limb_name in short_thick_endnodes_to_remove_limb_branch.keys():\n",
    "        #short_thick_endnodes_to_remove = short_thick_endnodes_to_remove_limb_branch[limb_name]\n",
    "        limb_obj.short_thick_endnodes = short_thick_endnodes_to_remove_limb_branch[limb_name]\n",
    "    else:\n",
    "        limb_obj.short_thick_endnodes = []\n",
    "\n",
    "\n",
    "    if limb_name in axon_spines_limb_branch_dict.keys():\n",
    "        limb_obj.axon_spines = axon_spines_limb_branch_dict[limb_name]\n",
    "    else:\n",
    "        limb_obj.axon_spines = []\n",
    "\n",
    "    error_branches = []\n",
    "    for j,b in enumerate(branch_list):\n",
    "        if b not in branches_to_inspect:\n",
    "            continue\n",
    "        if verbose:\n",
    "            print(f\"\\n\\n ----- Working on branch {j}/{len(branch_list)}: {b}--------\")\n",
    "        winning_downstream,error_downstream = ed.high_degree_upstream_match(limb_obj,\n",
    "                                                                            branch_idx=b,\n",
    "                                                                            skip_distance=skip_distance,\n",
    "                            short_thick_endnodes_to_remove = limb_obj.short_thick_endnodes,\n",
    "                                                                            verbose = True,\n",
    "                                                                            axon_spines = limb_obj.axon_spines,\n",
    "                                                                            min_upstream_skeletal_distance=min_upstream_skeletal_distance,\n",
    "                                                                           **kwargs)\n",
    "\n",
    "        #winning_downstream,error_downstream = [],[]\n",
    "\n",
    "        if verbose:\n",
    "            print(f\"winning_downstream = {winning_downstream},error_downstream = {error_downstream} \")\n",
    "        if len(error_downstream) > 0:\n",
    "            error_branches += list(error_downstream)"
   ]
  },
  {
   "cell_type": "code",
   "execution_count": null,
   "metadata": {},
   "outputs": [],
   "source": []
  },
  {
   "cell_type": "markdown",
   "metadata": {},
   "source": [
    "# Measuring the Downstream Synaptic Density"
   ]
  },
  {
   "cell_type": "code",
   "execution_count": null,
   "metadata": {},
   "outputs": [],
   "source": [
    "filt_neuron.axon_limb_name"
   ]
  },
  {
   "cell_type": "code",
   "execution_count": null,
   "metadata": {},
   "outputs": [],
   "source": [
    "nviz.visualize_neuron_specific_limb(filt_neuron,1)"
   ]
  },
  {
   "cell_type": "code",
   "execution_count": null,
   "metadata": {},
   "outputs": [],
   "source": [
    "nru.downstream_nodes(filt_neuron[1],31)"
   ]
  },
  {
   "cell_type": "code",
   "execution_count": null,
   "metadata": {},
   "outputs": [],
   "source": [
    "filt_neuron[1][43].synapse_density_pre"
   ]
  },
  {
   "cell_type": "code",
   "execution_count": null,
   "metadata": {},
   "outputs": [],
   "source": [
    "au.axon_width(filt_neuron[1][12])"
   ]
  },
  {
   "cell_type": "code",
   "execution_count": null,
   "metadata": {},
   "outputs": [],
   "source": [
    "import axon_utils as au\n",
    "curr_branch = filt_neuron[1][47]\n",
    "curr_web = curr_branch.web\n",
    "au.valid_web_for_t(curr_web,\n",
    "                                   size_threshold = 120,\n",
    "                                   size_type = \"ray_trace_median\",\n",
    "                                   above_threshold = True,\n",
    "                                       verbose=True)"
   ]
  },
  {
   "cell_type": "code",
   "execution_count": null,
   "metadata": {},
   "outputs": [],
   "source": [
    "nviz.plot_objects(curr_branch.mesh,\n",
    "                 meshes = [curr_web],\n",
    "                 meshes_colors=\"red\")"
   ]
  },
  {
   "cell_type": "code",
   "execution_count": null,
   "metadata": {},
   "outputs": [],
   "source": []
  },
  {
   "cell_type": "code",
   "execution_count": null,
   "metadata": {},
   "outputs": [],
   "source": [
    "limb_obj = filt_neuron[2]\n",
    "nru.upstream_node(limb_obj,57)"
   ]
  },
  {
   "cell_type": "code",
   "execution_count": null,
   "metadata": {},
   "outputs": [],
   "source": [
    "branch_obj = limb_obj[58]\n",
    "branch_obj.synapse_density_pre"
   ]
  },
  {
   "cell_type": "code",
   "execution_count": null,
   "metadata": {},
   "outputs": [],
   "source": [
    "branch_obj = limb_obj[57]\n",
    "print(branch_obj.synapse_density_pre*1000,branch_obj.n_synapses_pre)\n",
    "\n",
    "branch_obj = limb_obj[64]\n",
    "print(branch_obj.synapse_density_pre*1000,branch_obj.n_synapses_pre)"
   ]
  },
  {
   "cell_type": "code",
   "execution_count": null,
   "metadata": {},
   "outputs": [],
   "source": [
    "branch_obj = limb_obj[68]\n",
    "print(branch_obj.synapse_density_pre*1000,branch_obj.n_synapses_pre)\n",
    "\n",
    "branch_obj = limb_obj[69]\n",
    "print(branch_obj.synapse_density_pre*1000,branch_obj.n_synapses_pre)"
   ]
  },
  {
   "cell_type": "code",
   "execution_count": null,
   "metadata": {},
   "outputs": [],
   "source": [
    "nviz.plot_limb_path(limb_obj,[58,68,69])"
   ]
  },
  {
   "cell_type": "code",
   "execution_count": null,
   "metadata": {},
   "outputs": [],
   "source": [
    "nviz.plot_objects(filt_neuron[2][64].mesh)"
   ]
  },
  {
   "cell_type": "code",
   "execution_count": null,
   "metadata": {},
   "outputs": [],
   "source": []
  },
  {
   "cell_type": "code",
   "execution_count": null,
   "metadata": {},
   "outputs": [],
   "source": []
  },
  {
   "cell_type": "code",
   "execution_count": null,
   "metadata": {},
   "outputs": [],
   "source": [
    "import axon_utils as au\n",
    "\n",
    "curr_web = curr_branch.web\n",
    "au.valid_web_for_t(curr_web,\n",
    "                                   size_threshold = 120,\n",
    "                                   size_type = \"ray_trace_median\",\n",
    "                                   above_threshold = True,\n",
    "                                       verbose=True)"
   ]
  },
  {
   "cell_type": "code",
   "execution_count": null,
   "metadata": {},
   "outputs": [],
   "source": [
    "curr_branch = filt_neuron[0][4]\n",
    "nviz.plot_objects(curr_branch.mesh,\n",
    "                 meshes=[curr_branch.web],\n",
    "                 meshes_colors=\"red\")"
   ]
  },
  {
   "cell_type": "code",
   "execution_count": null,
   "metadata": {
    "scrolled": false
   },
   "outputs": [],
   "source": [
    "import error_detection as ed\n",
    "ed.webbing_t_errors_limb_branch_dict(filt_neuron,\n",
    "                                    plot_two_downstream_thin_axon_limb_branch  = True,\n",
    "                                    plot_wide_angled_children = True,\n",
    "                                    plot_web_errors=True, \n",
    "                                     child_skeletal_threshold = 2000,\n",
    "                                    verbose = True)"
   ]
  },
  {
   "cell_type": "code",
   "execution_count": null,
   "metadata": {},
   "outputs": [],
   "source": [
    "nviz.visualize_neuron_specific_limb(filt_neuron,0)"
   ]
  },
  {
   "cell_type": "code",
   "execution_count": null,
   "metadata": {},
   "outputs": [],
   "source": []
  },
  {
   "cell_type": "code",
   "execution_count": null,
   "metadata": {},
   "outputs": [],
   "source": []
  },
  {
   "cell_type": "markdown",
   "metadata": {},
   "source": [
    "# Debug 2: Looking at thick T errors"
   ]
  },
  {
   "cell_type": "code",
   "execution_count": null,
   "metadata": {},
   "outputs": [],
   "source": [
    "nru.downstream_nodes(neuron_obj[1],15)"
   ]
  },
  {
   "cell_type": "code",
   "execution_count": null,
   "metadata": {},
   "outputs": [],
   "source": [
    "ed.skip_distance_from_branch_width(neuron_obj[1][15].width)"
   ]
  },
  {
   "cell_type": "code",
   "execution_count": null,
   "metadata": {},
   "outputs": [],
   "source": [
    "neuron_obj[1][20].skeletal_length"
   ]
  },
  {
   "cell_type": "code",
   "execution_count": null,
   "metadata": {},
   "outputs": [],
   "source": [
    "nviz.plot_limb_branch_dict(neuron_obj,dict(L1=[15]))"
   ]
  },
  {
   "cell_type": "code",
   "execution_count": null,
   "metadata": {},
   "outputs": [],
   "source": []
  },
  {
   "cell_type": "code",
   "execution_count": null,
   "metadata": {},
   "outputs": [],
   "source": []
  },
  {
   "cell_type": "code",
   "execution_count": null,
   "metadata": {},
   "outputs": [],
   "source": []
  },
  {
   "cell_type": "code",
   "execution_count": null,
   "metadata": {},
   "outputs": [],
   "source": [
    "au.axon_width(filt_neuron[1][13]),au.axon_width(filt_neuron[1][14])"
   ]
  },
  {
   "cell_type": "code",
   "execution_count": null,
   "metadata": {
    "scrolled": false
   },
   "outputs": [],
   "source": [
    "import error_detection as ed\n",
    "ed.thick_t_errors_limb_branch_dict(neuron_obj,\n",
    "        axon_only = True,\n",
    "        parent_width_maximum = 70,\n",
    "        min_child_width_max = 80,\n",
    "        child_skeletal_threshold = 7000,\n",
    "        plot_two_downstream_thin_axon_limb_branch = False,\n",
    "        plot_wide_angled_children = True,\n",
    "        plot_thick_t_crossing_limb_branch = True,\n",
    "        plot_t_error_limb_branch = True,\n",
    "        verbose = True)"
   ]
  },
  {
   "cell_type": "markdown",
   "metadata": {},
   "source": [
    "# Debug 1: Looking through all of the high degree branching points"
   ]
  },
  {
   "cell_type": "code",
   "execution_count": null,
   "metadata": {},
   "outputs": [],
   "source": []
  },
  {
   "cell_type": "code",
   "execution_count": null,
   "metadata": {},
   "outputs": [],
   "source": []
  },
  {
   "cell_type": "code",
   "execution_count": null,
   "metadata": {
    "scrolled": true
   },
   "outputs": [],
   "source": [
    "ed.high_degree_branch_errors_limb_branch_dict(neuron_obj,\n",
    "                                              plot_limb_branch_errors=True,\n",
    "                                             high_degree_order_verbose=False)"
   ]
  },
  {
   "cell_type": "code",
   "execution_count": null,
   "metadata": {
    "scrolled": true
   },
   "outputs": [],
   "source": [
    "\"\"\"\n",
    "Pseudocode: \n",
    "1) Get the branch names of all those considered for the high degree branching points\n",
    "\n",
    "\"\"\"\n",
    "(filt_neuron,\n",
    "             return_synapse_df_revised,\n",
    "             return_synapse_df_errors,\n",
    "            return_validation_df_revised,\n",
    "            return_validation_df_extension) =  vu.filtered_neuron_score(neuron_obj = neuron_obj,   \n",
    "                                #filter_list = pru.v6_exc_filters(),\n",
    "                                filter_list = [pru.exc_high_degree_branching_filter_v6],\n",
    "                                plot_limb_branch_filter_with_disconnect_effect = False,\n",
    "                                verbose = True,\n",
    "                                plot_score=False,\n",
    "                                nucleus_id = nucleus_id,\n",
    "                                return_synapse_df_errors=True,\n",
    "                                return_validation_df_extension = True,                                        \n",
    "                                split_index=split_index)"
   ]
  },
  {
   "cell_type": "code",
   "execution_count": null,
   "metadata": {},
   "outputs": [],
   "source": [
    "nviz.visualize_neuron_specific_limb(filt_neuron,\n",
    "                                   2)"
   ]
  },
  {
   "cell_type": "code",
   "execution_count": null,
   "metadata": {},
   "outputs": [],
   "source": [
    "nru.upstream_node(limb_obj,24)"
   ]
  },
  {
   "cell_type": "code",
   "execution_count": null,
   "metadata": {},
   "outputs": [],
   "source": [
    "import axon_utils as au\n",
    "au.axon_width(limb_obj[25])"
   ]
  },
  {
   "cell_type": "code",
   "execution_count": null,
   "metadata": {},
   "outputs": [],
   "source": [
    "limb_obj = filt_neuron[2]\n",
    "nviz.plot_objects(limb_obj[25].mesh)"
   ]
  },
  {
   "cell_type": "code",
   "execution_count": null,
   "metadata": {},
   "outputs": [],
   "source": [
    "(filt_neuron_2,\n",
    "             return_synapse_df_revised,\n",
    "             return_synapse_df_errors,\n",
    "            return_validation_df_revised,\n",
    "            return_validation_df_extension) =  vu.filtered_neuron_score(neuron_obj = filt_neuron,   \n",
    "                                #filter_list = pru.v6_exc_filters(),\n",
    "                                filter_list = [pru.exc_high_degree_branching_filter_v6],\n",
    "                                plot_limb_branch_filter_with_disconnect_effect = False,\n",
    "                                verbose = True,\n",
    "                                plot_score=False,\n",
    "                                nucleus_id = nucleus_id,\n",
    "                                return_synapse_df_errors=True,\n",
    "                                return_validation_df_extension = True,                                        \n",
    "                                split_index=split_index)"
   ]
  },
  {
   "cell_type": "code",
   "execution_count": null,
   "metadata": {},
   "outputs": [],
   "source": []
  },
  {
   "cell_type": "code",
   "execution_count": null,
   "metadata": {},
   "outputs": [],
   "source": []
  },
  {
   "cell_type": "code",
   "execution_count": null,
   "metadata": {},
   "outputs": [],
   "source": [
    "nru.downstream_nodes(filt_neuron[1],9)"
   ]
  },
  {
   "cell_type": "code",
   "execution_count": null,
   "metadata": {},
   "outputs": [],
   "source": [
    "limb_obj = filt_neuron[1]\n",
    "nviz.plot_limb_path(limb_obj,[9,8,7])"
   ]
  },
  {
   "cell_type": "code",
   "execution_count": null,
   "metadata": {},
   "outputs": [],
   "source": [
    "[au.axon_width(limb_obj[k]) for k in [9,8,7]]"
   ]
  },
  {
   "cell_type": "code",
   "execution_count": null,
   "metadata": {},
   "outputs": [],
   "source": [
    "limb_obj[7].skeletal_length"
   ]
  },
  {
   "cell_type": "code",
   "execution_count": null,
   "metadata": {},
   "outputs": [],
   "source": [
    "nviz.plot_objects(filt_neuron[1][43].mesh)"
   ]
  },
  {
   "cell_type": "code",
   "execution_count": null,
   "metadata": {},
   "outputs": [],
   "source": []
  },
  {
   "cell_type": "code",
   "execution_count": null,
   "metadata": {},
   "outputs": [],
   "source": []
  },
  {
   "cell_type": "code",
   "execution_count": null,
   "metadata": {},
   "outputs": [],
   "source": [
    "#branches_to_check = [50,102,121,136,147,152,163,173,224,227,260]\n",
    "branches_to_check = [53,185,177,154,138,124,115,108,92,14]"
   ]
  },
  {
   "cell_type": "code",
   "execution_count": null,
   "metadata": {},
   "outputs": [],
   "source": [
    "curr_idx = 9\n",
    "\n",
    "limb_idx = 1\n",
    "limb_obj = neuron_obj[limb_idx]\n",
    "\n",
    "curr_branch = branches_to_check[curr_idx] \n",
    "nviz.visualize_branch_at_downstream_split(neuron_obj,\n",
    "                                          limb_idx,\n",
    "                                          curr_branch,\n",
    "                                          print_axon_border_info=False,\n",
    "                                         limb_branch_synapses=True)"
   ]
  },
  {
   "cell_type": "code",
   "execution_count": null,
   "metadata": {
    "scrolled": false
   },
   "outputs": [],
   "source": [
    "import error_detection as ed\n",
    "\n",
    "\n",
    "ed.high_degree_upstream_match(limb_obj,\n",
    "                             branch_idx = curr_branch,\n",
    "                              plot_starting_branches = True,\n",
    "                             plot_extracted_skeletons = False,\n",
    "                             plot_G_local_edge = True,\n",
    "                              plot_G_global_edge = True,\n",
    "                              plot_G_node_edge = True,\n",
    "                              plot_G_exclusive_partner_edge = True,\n",
    "                              plot_final_branch_matches = True\n",
    "                             )"
   ]
  },
  {
   "cell_type": "code",
   "execution_count": null,
   "metadata": {},
   "outputs": [],
   "source": []
  },
  {
   "cell_type": "code",
   "execution_count": null,
   "metadata": {},
   "outputs": [],
   "source": []
  }
 ],
 "metadata": {
  "kernelspec": {
   "display_name": "Python 3",
   "language": "python",
   "name": "python3"
  },
  "language_info": {
   "codemirror_mode": {
    "name": "ipython",
    "version": 3
   },
   "file_extension": ".py",
   "mimetype": "text/x-python",
   "name": "python",
   "nbconvert_exporter": "python",
   "pygments_lexer": "ipython3",
   "version": "3.6.9"
  }
 },
 "nbformat": 4,
 "nbformat_minor": 4
}
