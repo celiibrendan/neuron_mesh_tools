{
 "cells": [
  {
   "cell_type": "code",
   "execution_count": 1,
   "metadata": {},
   "outputs": [],
   "source": [
    "%load_ext autoreload\n",
    "%autoreload 2"
   ]
  },
  {
   "cell_type": "code",
   "execution_count": 2,
   "metadata": {},
   "outputs": [
    {
     "name": "stderr",
     "output_type": "stream",
     "text": [
      "INFO - 2021-05-24 15:23:13,874 - settings - Setting database.host to at-database.ad.bcm.edu\n",
      "INFO - 2021-05-24 15:23:13,876 - settings - Setting database.user to celiib\n",
      "INFO - 2021-05-24 15:23:13,877 - settings - Setting database.password to newceliipass\n",
      "INFO - 2021-05-24 15:23:13,882 - settings - Setting stores to {'minnie65': {'protocol': 'file', 'location': '/mnt/dj-stor01/platinum/minnie65', 'stage': '/mnt/dj-stor01/platinum/minnie65'}, 'meshes': {'protocol': 'file', 'location': '/mnt/dj-stor01/platinum/minnie65/02/meshes', 'stage': '/mnt/dj-stor01/platinum/minnie65/02/meshes'}, 'decimated_meshes': {'protocol': 'file', 'location': '/mnt/dj-stor01/platinum/minnie65/02/decimated_meshes', 'stage': '/mnt/dj-stor01/platinum/minnie65/02/decimated_meshes'}, 'skeletons': {'protocol': 'file', 'location': '/mnt/dj-stor01/platinum/minnie65/02/skeletons'}}\n",
      "INFO - 2021-05-24 15:23:13,883 - settings - Setting enable_python_native_blobs to True\n",
      "INFO - 2021-05-24 15:23:13,894 - connection - Connected celiib@at-database.ad.bcm.edu:3306\n"
     ]
    },
    {
     "name": "stdout",
     "output_type": "stream",
     "text": [
      "Connecting celiib@at-database.ad.bcm.edu:3306\n"
     ]
    },
    {
     "name": "stderr",
     "output_type": "stream",
     "text": [
      "INFO - 2021-05-24 15:23:14,356 - settings - Setting enable_python_native_blobs to True\n",
      "INFO - 2021-05-24 15:23:14,360 - settings - Setting database.host to at-database.ad.bcm.edu\n",
      "INFO - 2021-05-24 15:23:14,361 - settings - Setting database.user to celiib\n",
      "INFO - 2021-05-24 15:23:14,362 - settings - Setting database.password to newceliipass\n",
      "INFO - 2021-05-24 15:23:14,363 - settings - Setting database.host to at-database.ad.bcm.edu\n",
      "INFO - 2021-05-24 15:23:14,363 - settings - Setting database.user to celiib\n",
      "INFO - 2021-05-24 15:23:14,364 - settings - Setting database.password to newceliipass\n",
      "INFO - 2021-05-24 15:23:14,366 - settings - Setting enable_python_native_blobs to True\n",
      "INFO - 2021-05-24 15:23:14,838 - settings - Setting enable_python_native_blobs to True\n",
      "INFO - 2021-05-24 15:23:14,879 - settings - Setting database.host to at-database.ad.bcm.edu\n",
      "INFO - 2021-05-24 15:23:14,880 - settings - Setting database.user to celiib\n",
      "INFO - 2021-05-24 15:23:14,881 - settings - Setting database.password to newceliipass\n",
      "INFO - 2021-05-24 15:23:14,882 - settings - Setting enable_python_native_blobs to True\n",
      "INFO - 2021-05-24 15:23:15,396 - settings - Setting enable_python_native_blobs to True\n"
     ]
    }
   ],
   "source": [
    "from os import sys\n",
    "sys.path.append(\"/meshAfterParty/meshAfterParty/\")\n",
    "import datajoint as dj\n",
    "import datajoint_utils as du\n",
    "\n",
    "minnie,schema = du.configure_minnie_vm()\n",
    "m65mat = du.m65mat"
   ]
  },
  {
   "cell_type": "code",
   "execution_count": 3,
   "metadata": {},
   "outputs": [],
   "source": [
    "import validation_utils as vu"
   ]
  },
  {
   "cell_type": "code",
   "execution_count": 4,
   "metadata": {},
   "outputs": [],
   "source": [
    "# original_seg_ids = ((minnie.Decimation() & minnie.AutoProofreadValidationSegment4() & \"decimation_ratio=0.25\") \n",
    "#                     - minnie.AutoProofreadValidationSegmentExclude4()).fetch(\"segment_id\")\n",
    "# original_seg_ids"
   ]
  },
  {
   "cell_type": "code",
   "execution_count": 5,
   "metadata": {},
   "outputs": [],
   "source": [
    "import system_utils as su\n",
    "original_seg_ids = su.decompress_pickle(\"original_seg_ids\")"
   ]
  },
  {
   "cell_type": "code",
   "execution_count": 6,
   "metadata": {},
   "outputs": [
    {
     "data": {
      "text/plain": [
       "(138,)"
      ]
     },
     "execution_count": 6,
     "metadata": {},
     "output_type": "execute_result"
    }
   ],
   "source": [
    "original_seg_ids.shape"
   ]
  },
  {
   "cell_type": "code",
   "execution_count": 7,
   "metadata": {},
   "outputs": [
    {
     "name": "stdout",
     "output_type": "stream",
     "text": [
      "\n",
      "Working on neuron 84: 864691135974454895\n",
      "# of end nodes = 32\n",
      "last_datetime_edited = 2020-11-17 21:25:04.461000\n",
      "# of presyn = 1321, # of postsyn = 4570\n",
      "Total synapses BEFORE filtering = 5891\n",
      "Total synapses AFTER filtering = 5857\n",
      "4635 out of 5857 were within threshold of original mesh\n"
     ]
    },
    {
     "name": "stderr",
     "output_type": "stream",
     "text": [
      "/meshAfterParty/meshAfterParty/validation_utils.py:2432: SettingWithCopyWarning: \n",
      "A value is trying to be set on a copy of a slice from a DataFrame.\n",
      "Try using .loc[row_indexer,col_indexer] = value instead\n",
      "\n",
      "See the caveats in the documentation: https://pandas.pydata.org/pandas-docs/stable/user_guide/indexing.html#returning-a-view-versus-a-copy\n",
      "  syn_match[\"synapse_x\"] = np.array(list(syn_match[\"ctr_pt_position\"].to_numpy()))[:,0]\n",
      "/meshAfterParty/meshAfterParty/validation_utils.py:2433: SettingWithCopyWarning: \n",
      "A value is trying to be set on a copy of a slice from a DataFrame.\n",
      "Try using .loc[row_indexer,col_indexer] = value instead\n",
      "\n",
      "See the caveats in the documentation: https://pandas.pydata.org/pandas-docs/stable/user_guide/indexing.html#returning-a-view-versus-a-copy\n",
      "  syn_match[\"synapse_y\"] = np.array(list(syn_match[\"ctr_pt_position\"].to_numpy()))[:,1]\n",
      "/meshAfterParty/meshAfterParty/validation_utils.py:2434: SettingWithCopyWarning: \n",
      "A value is trying to be set on a copy of a slice from a DataFrame.\n",
      "Try using .loc[row_indexer,col_indexer] = value instead\n",
      "\n",
      "See the caveats in the documentation: https://pandas.pydata.org/pandas-docs/stable/user_guide/indexing.html#returning-a-view-versus-a-copy\n",
      "  syn_match[\"synapse_z\"] = np.array(list(syn_match[\"ctr_pt_position\"].to_numpy()))[:,2]\n"
     ]
    },
    {
     "name": "stdout",
     "output_type": "stream",
     "text": [
      "\n",
      "Working on neuron 85: 864691135993064394\n",
      "# of end nodes = 31\n",
      "last_datetime_edited = 2021-03-08 16:37:56.455000\n",
      "# of presyn = 606, # of postsyn = 5167\n",
      "Total synapses BEFORE filtering = 5773\n",
      "Total synapses AFTER filtering = 5729\n",
      "5458 out of 5729 were within threshold of original mesh\n"
     ]
    },
    {
     "name": "stderr",
     "output_type": "stream",
     "text": [
      "/meshAfterParty/meshAfterParty/validation_utils.py:2432: SettingWithCopyWarning: \n",
      "A value is trying to be set on a copy of a slice from a DataFrame.\n",
      "Try using .loc[row_indexer,col_indexer] = value instead\n",
      "\n",
      "See the caveats in the documentation: https://pandas.pydata.org/pandas-docs/stable/user_guide/indexing.html#returning-a-view-versus-a-copy\n",
      "  syn_match[\"synapse_x\"] = np.array(list(syn_match[\"ctr_pt_position\"].to_numpy()))[:,0]\n",
      "/meshAfterParty/meshAfterParty/validation_utils.py:2433: SettingWithCopyWarning: \n",
      "A value is trying to be set on a copy of a slice from a DataFrame.\n",
      "Try using .loc[row_indexer,col_indexer] = value instead\n",
      "\n",
      "See the caveats in the documentation: https://pandas.pydata.org/pandas-docs/stable/user_guide/indexing.html#returning-a-view-versus-a-copy\n",
      "  syn_match[\"synapse_y\"] = np.array(list(syn_match[\"ctr_pt_position\"].to_numpy()))[:,1]\n",
      "/meshAfterParty/meshAfterParty/validation_utils.py:2434: SettingWithCopyWarning: \n",
      "A value is trying to be set on a copy of a slice from a DataFrame.\n",
      "Try using .loc[row_indexer,col_indexer] = value instead\n",
      "\n",
      "See the caveats in the documentation: https://pandas.pydata.org/pandas-docs/stable/user_guide/indexing.html#returning-a-view-versus-a-copy\n",
      "  syn_match[\"synapse_z\"] = np.array(list(syn_match[\"ctr_pt_position\"].to_numpy()))[:,2]\n"
     ]
    },
    {
     "name": "stdout",
     "output_type": "stream",
     "text": [
      "\n",
      "Working on neuron 86: 864691135997475018\n",
      "# of end nodes = 18\n",
      "last_datetime_edited = 2021-02-03 14:20:12.862000\n",
      "# of presyn = 219, # of postsyn = 4534\n",
      "Total synapses BEFORE filtering = 4753\n",
      "Total synapses AFTER filtering = 4725\n",
      "4683 out of 4725 were within threshold of original mesh\n"
     ]
    },
    {
     "name": "stderr",
     "output_type": "stream",
     "text": [
      "/meshAfterParty/meshAfterParty/validation_utils.py:2432: SettingWithCopyWarning: \n",
      "A value is trying to be set on a copy of a slice from a DataFrame.\n",
      "Try using .loc[row_indexer,col_indexer] = value instead\n",
      "\n",
      "See the caveats in the documentation: https://pandas.pydata.org/pandas-docs/stable/user_guide/indexing.html#returning-a-view-versus-a-copy\n",
      "  syn_match[\"synapse_x\"] = np.array(list(syn_match[\"ctr_pt_position\"].to_numpy()))[:,0]\n",
      "/meshAfterParty/meshAfterParty/validation_utils.py:2433: SettingWithCopyWarning: \n",
      "A value is trying to be set on a copy of a slice from a DataFrame.\n",
      "Try using .loc[row_indexer,col_indexer] = value instead\n",
      "\n",
      "See the caveats in the documentation: https://pandas.pydata.org/pandas-docs/stable/user_guide/indexing.html#returning-a-view-versus-a-copy\n",
      "  syn_match[\"synapse_y\"] = np.array(list(syn_match[\"ctr_pt_position\"].to_numpy()))[:,1]\n",
      "/meshAfterParty/meshAfterParty/validation_utils.py:2434: SettingWithCopyWarning: \n",
      "A value is trying to be set on a copy of a slice from a DataFrame.\n",
      "Try using .loc[row_indexer,col_indexer] = value instead\n",
      "\n",
      "See the caveats in the documentation: https://pandas.pydata.org/pandas-docs/stable/user_guide/indexing.html#returning-a-view-versus-a-copy\n",
      "  syn_match[\"synapse_z\"] = np.array(list(syn_match[\"ctr_pt_position\"].to_numpy()))[:,2]\n"
     ]
    },
    {
     "name": "stdout",
     "output_type": "stream",
     "text": [
      "\n",
      "Working on neuron 87: 864691136003930314\n",
      "# of end nodes = 57\n",
      "last_datetime_edited = 2020-11-30 03:05:29.265000\n",
      "# of presyn = 566, # of postsyn = 4343\n",
      "Total synapses BEFORE filtering = 4909\n",
      "Total synapses AFTER filtering = 4871\n",
      "4020 out of 4871 were within threshold of original mesh\n"
     ]
    },
    {
     "name": "stderr",
     "output_type": "stream",
     "text": [
      "/meshAfterParty/meshAfterParty/validation_utils.py:2432: SettingWithCopyWarning: \n",
      "A value is trying to be set on a copy of a slice from a DataFrame.\n",
      "Try using .loc[row_indexer,col_indexer] = value instead\n",
      "\n",
      "See the caveats in the documentation: https://pandas.pydata.org/pandas-docs/stable/user_guide/indexing.html#returning-a-view-versus-a-copy\n",
      "  syn_match[\"synapse_x\"] = np.array(list(syn_match[\"ctr_pt_position\"].to_numpy()))[:,0]\n",
      "/meshAfterParty/meshAfterParty/validation_utils.py:2433: SettingWithCopyWarning: \n",
      "A value is trying to be set on a copy of a slice from a DataFrame.\n",
      "Try using .loc[row_indexer,col_indexer] = value instead\n",
      "\n",
      "See the caveats in the documentation: https://pandas.pydata.org/pandas-docs/stable/user_guide/indexing.html#returning-a-view-versus-a-copy\n",
      "  syn_match[\"synapse_y\"] = np.array(list(syn_match[\"ctr_pt_position\"].to_numpy()))[:,1]\n",
      "/meshAfterParty/meshAfterParty/validation_utils.py:2434: SettingWithCopyWarning: \n",
      "A value is trying to be set on a copy of a slice from a DataFrame.\n",
      "Try using .loc[row_indexer,col_indexer] = value instead\n",
      "\n",
      "See the caveats in the documentation: https://pandas.pydata.org/pandas-docs/stable/user_guide/indexing.html#returning-a-view-versus-a-copy\n",
      "  syn_match[\"synapse_z\"] = np.array(list(syn_match[\"ctr_pt_position\"].to_numpy()))[:,2]\n"
     ]
    },
    {
     "name": "stdout",
     "output_type": "stream",
     "text": [
      "\n",
      "Working on neuron 88: 864691136008425132\n",
      "# of end nodes = 22\n",
      "last_datetime_edited = 2020-11-27 03:46:12.790000\n",
      "# of presyn = 825, # of postsyn = 3676\n",
      "Total synapses BEFORE filtering = 4501\n",
      "Total synapses AFTER filtering = 4431\n",
      "3808 out of 4431 were within threshold of original mesh\n"
     ]
    },
    {
     "name": "stderr",
     "output_type": "stream",
     "text": [
      "/meshAfterParty/meshAfterParty/validation_utils.py:2432: SettingWithCopyWarning: \n",
      "A value is trying to be set on a copy of a slice from a DataFrame.\n",
      "Try using .loc[row_indexer,col_indexer] = value instead\n",
      "\n",
      "See the caveats in the documentation: https://pandas.pydata.org/pandas-docs/stable/user_guide/indexing.html#returning-a-view-versus-a-copy\n",
      "  syn_match[\"synapse_x\"] = np.array(list(syn_match[\"ctr_pt_position\"].to_numpy()))[:,0]\n",
      "/meshAfterParty/meshAfterParty/validation_utils.py:2433: SettingWithCopyWarning: \n",
      "A value is trying to be set on a copy of a slice from a DataFrame.\n",
      "Try using .loc[row_indexer,col_indexer] = value instead\n",
      "\n",
      "See the caveats in the documentation: https://pandas.pydata.org/pandas-docs/stable/user_guide/indexing.html#returning-a-view-versus-a-copy\n",
      "  syn_match[\"synapse_y\"] = np.array(list(syn_match[\"ctr_pt_position\"].to_numpy()))[:,1]\n",
      "/meshAfterParty/meshAfterParty/validation_utils.py:2434: SettingWithCopyWarning: \n",
      "A value is trying to be set on a copy of a slice from a DataFrame.\n",
      "Try using .loc[row_indexer,col_indexer] = value instead\n",
      "\n",
      "See the caveats in the documentation: https://pandas.pydata.org/pandas-docs/stable/user_guide/indexing.html#returning-a-view-versus-a-copy\n",
      "  syn_match[\"synapse_z\"] = np.array(list(syn_match[\"ctr_pt_position\"].to_numpy()))[:,2]\n"
     ]
    },
    {
     "name": "stdout",
     "output_type": "stream",
     "text": [
      "\n",
      "Working on neuron 89: 864691136008573614\n",
      "# of end nodes = 78\n",
      "last_datetime_edited = 2020-11-09 23:19:12.800000\n",
      "# of presyn = 1724, # of postsyn = 11489\n",
      "Total synapses BEFORE filtering = 13213\n",
      "Total synapses AFTER filtering = 13073\n",
      "10013 out of 13073 were within threshold of original mesh\n"
     ]
    },
    {
     "name": "stderr",
     "output_type": "stream",
     "text": [
      "/meshAfterParty/meshAfterParty/validation_utils.py:2432: SettingWithCopyWarning: \n",
      "A value is trying to be set on a copy of a slice from a DataFrame.\n",
      "Try using .loc[row_indexer,col_indexer] = value instead\n",
      "\n",
      "See the caveats in the documentation: https://pandas.pydata.org/pandas-docs/stable/user_guide/indexing.html#returning-a-view-versus-a-copy\n",
      "  syn_match[\"synapse_x\"] = np.array(list(syn_match[\"ctr_pt_position\"].to_numpy()))[:,0]\n",
      "/meshAfterParty/meshAfterParty/validation_utils.py:2433: SettingWithCopyWarning: \n",
      "A value is trying to be set on a copy of a slice from a DataFrame.\n",
      "Try using .loc[row_indexer,col_indexer] = value instead\n",
      "\n",
      "See the caveats in the documentation: https://pandas.pydata.org/pandas-docs/stable/user_guide/indexing.html#returning-a-view-versus-a-copy\n",
      "  syn_match[\"synapse_y\"] = np.array(list(syn_match[\"ctr_pt_position\"].to_numpy()))[:,1]\n",
      "/meshAfterParty/meshAfterParty/validation_utils.py:2434: SettingWithCopyWarning: \n",
      "A value is trying to be set on a copy of a slice from a DataFrame.\n",
      "Try using .loc[row_indexer,col_indexer] = value instead\n",
      "\n",
      "See the caveats in the documentation: https://pandas.pydata.org/pandas-docs/stable/user_guide/indexing.html#returning-a-view-versus-a-copy\n",
      "  syn_match[\"synapse_z\"] = np.array(list(syn_match[\"ctr_pt_position\"].to_numpy()))[:,2]\n"
     ]
    },
    {
     "name": "stdout",
     "output_type": "stream",
     "text": [
      "\n",
      "Working on neuron 90: 864691136050851571\n",
      "# of end nodes = 20\n",
      "last_datetime_edited = 2021-01-27 15:35:22.323000\n",
      "# of presyn = 333, # of postsyn = 10663\n",
      "Total synapses BEFORE filtering = 10996\n",
      "Total synapses AFTER filtering = 10892\n",
      "10880 out of 10892 were within threshold of original mesh\n"
     ]
    },
    {
     "name": "stderr",
     "output_type": "stream",
     "text": [
      "/meshAfterParty/meshAfterParty/validation_utils.py:2432: SettingWithCopyWarning: \n",
      "A value is trying to be set on a copy of a slice from a DataFrame.\n",
      "Try using .loc[row_indexer,col_indexer] = value instead\n",
      "\n",
      "See the caveats in the documentation: https://pandas.pydata.org/pandas-docs/stable/user_guide/indexing.html#returning-a-view-versus-a-copy\n",
      "  syn_match[\"synapse_x\"] = np.array(list(syn_match[\"ctr_pt_position\"].to_numpy()))[:,0]\n",
      "/meshAfterParty/meshAfterParty/validation_utils.py:2433: SettingWithCopyWarning: \n",
      "A value is trying to be set on a copy of a slice from a DataFrame.\n",
      "Try using .loc[row_indexer,col_indexer] = value instead\n",
      "\n",
      "See the caveats in the documentation: https://pandas.pydata.org/pandas-docs/stable/user_guide/indexing.html#returning-a-view-versus-a-copy\n",
      "  syn_match[\"synapse_y\"] = np.array(list(syn_match[\"ctr_pt_position\"].to_numpy()))[:,1]\n",
      "/meshAfterParty/meshAfterParty/validation_utils.py:2434: SettingWithCopyWarning: \n",
      "A value is trying to be set on a copy of a slice from a DataFrame.\n",
      "Try using .loc[row_indexer,col_indexer] = value instead\n",
      "\n",
      "See the caveats in the documentation: https://pandas.pydata.org/pandas-docs/stable/user_guide/indexing.html#returning-a-view-versus-a-copy\n",
      "  syn_match[\"synapse_z\"] = np.array(list(syn_match[\"ctr_pt_position\"].to_numpy()))[:,2]\n"
     ]
    },
    {
     "name": "stdout",
     "output_type": "stream",
     "text": [
      "\n",
      "Working on neuron 91: 864691136050853107\n",
      "# of end nodes = 8\n",
      "last_datetime_edited = 2021-01-08 16:33:28.692000\n",
      "# of presyn = 419, # of postsyn = 4114\n",
      "Total synapses BEFORE filtering = 4533\n",
      "Total synapses AFTER filtering = 4505\n",
      "3986 out of 4505 were within threshold of original mesh\n"
     ]
    },
    {
     "name": "stderr",
     "output_type": "stream",
     "text": [
      "/meshAfterParty/meshAfterParty/validation_utils.py:2432: SettingWithCopyWarning: \n",
      "A value is trying to be set on a copy of a slice from a DataFrame.\n",
      "Try using .loc[row_indexer,col_indexer] = value instead\n",
      "\n",
      "See the caveats in the documentation: https://pandas.pydata.org/pandas-docs/stable/user_guide/indexing.html#returning-a-view-versus-a-copy\n",
      "  syn_match[\"synapse_x\"] = np.array(list(syn_match[\"ctr_pt_position\"].to_numpy()))[:,0]\n",
      "/meshAfterParty/meshAfterParty/validation_utils.py:2433: SettingWithCopyWarning: \n",
      "A value is trying to be set on a copy of a slice from a DataFrame.\n",
      "Try using .loc[row_indexer,col_indexer] = value instead\n",
      "\n",
      "See the caveats in the documentation: https://pandas.pydata.org/pandas-docs/stable/user_guide/indexing.html#returning-a-view-versus-a-copy\n",
      "  syn_match[\"synapse_y\"] = np.array(list(syn_match[\"ctr_pt_position\"].to_numpy()))[:,1]\n",
      "/meshAfterParty/meshAfterParty/validation_utils.py:2434: SettingWithCopyWarning: \n",
      "A value is trying to be set on a copy of a slice from a DataFrame.\n",
      "Try using .loc[row_indexer,col_indexer] = value instead\n",
      "\n",
      "See the caveats in the documentation: https://pandas.pydata.org/pandas-docs/stable/user_guide/indexing.html#returning-a-view-versus-a-copy\n",
      "  syn_match[\"synapse_z\"] = np.array(list(syn_match[\"ctr_pt_position\"].to_numpy()))[:,2]\n"
     ]
    },
    {
     "name": "stdout",
     "output_type": "stream",
     "text": [
      "\n",
      "Working on neuron 92: 864691136056340440\n",
      "# of end nodes = 13\n",
      "last_datetime_edited = 2020-12-10 22:55:36.640000\n",
      "# of presyn = 451, # of postsyn = 5284\n",
      "Total synapses BEFORE filtering = 5735\n",
      "Total synapses AFTER filtering = 5683\n",
      "5362 out of 5683 were within threshold of original mesh\n"
     ]
    },
    {
     "name": "stderr",
     "output_type": "stream",
     "text": [
      "/meshAfterParty/meshAfterParty/validation_utils.py:2432: SettingWithCopyWarning: \n",
      "A value is trying to be set on a copy of a slice from a DataFrame.\n",
      "Try using .loc[row_indexer,col_indexer] = value instead\n",
      "\n",
      "See the caveats in the documentation: https://pandas.pydata.org/pandas-docs/stable/user_guide/indexing.html#returning-a-view-versus-a-copy\n",
      "  syn_match[\"synapse_x\"] = np.array(list(syn_match[\"ctr_pt_position\"].to_numpy()))[:,0]\n",
      "/meshAfterParty/meshAfterParty/validation_utils.py:2433: SettingWithCopyWarning: \n",
      "A value is trying to be set on a copy of a slice from a DataFrame.\n",
      "Try using .loc[row_indexer,col_indexer] = value instead\n",
      "\n",
      "See the caveats in the documentation: https://pandas.pydata.org/pandas-docs/stable/user_guide/indexing.html#returning-a-view-versus-a-copy\n",
      "  syn_match[\"synapse_y\"] = np.array(list(syn_match[\"ctr_pt_position\"].to_numpy()))[:,1]\n",
      "/meshAfterParty/meshAfterParty/validation_utils.py:2434: SettingWithCopyWarning: \n",
      "A value is trying to be set on a copy of a slice from a DataFrame.\n",
      "Try using .loc[row_indexer,col_indexer] = value instead\n",
      "\n",
      "See the caveats in the documentation: https://pandas.pydata.org/pandas-docs/stable/user_guide/indexing.html#returning-a-view-versus-a-copy\n",
      "  syn_match[\"synapse_z\"] = np.array(list(syn_match[\"ctr_pt_position\"].to_numpy()))[:,2]\n"
     ]
    },
    {
     "name": "stdout",
     "output_type": "stream",
     "text": [
      "\n",
      "Working on neuron 93: 864691136056391384\n",
      "# of end nodes = 23\n",
      "last_datetime_edited = 2020-12-09 23:33:44.586000\n",
      "# of presyn = 1263, # of postsyn = 3328\n",
      "Total synapses BEFORE filtering = 4591\n",
      "Total synapses AFTER filtering = 4549\n",
      "3429 out of 4549 were within threshold of original mesh\n"
     ]
    },
    {
     "name": "stderr",
     "output_type": "stream",
     "text": [
      "/meshAfterParty/meshAfterParty/validation_utils.py:2432: SettingWithCopyWarning: \n",
      "A value is trying to be set on a copy of a slice from a DataFrame.\n",
      "Try using .loc[row_indexer,col_indexer] = value instead\n",
      "\n",
      "See the caveats in the documentation: https://pandas.pydata.org/pandas-docs/stable/user_guide/indexing.html#returning-a-view-versus-a-copy\n",
      "  syn_match[\"synapse_x\"] = np.array(list(syn_match[\"ctr_pt_position\"].to_numpy()))[:,0]\n",
      "/meshAfterParty/meshAfterParty/validation_utils.py:2433: SettingWithCopyWarning: \n",
      "A value is trying to be set on a copy of a slice from a DataFrame.\n",
      "Try using .loc[row_indexer,col_indexer] = value instead\n",
      "\n",
      "See the caveats in the documentation: https://pandas.pydata.org/pandas-docs/stable/user_guide/indexing.html#returning-a-view-versus-a-copy\n",
      "  syn_match[\"synapse_y\"] = np.array(list(syn_match[\"ctr_pt_position\"].to_numpy()))[:,1]\n",
      "/meshAfterParty/meshAfterParty/validation_utils.py:2434: SettingWithCopyWarning: \n",
      "A value is trying to be set on a copy of a slice from a DataFrame.\n",
      "Try using .loc[row_indexer,col_indexer] = value instead\n",
      "\n",
      "See the caveats in the documentation: https://pandas.pydata.org/pandas-docs/stable/user_guide/indexing.html#returning-a-view-versus-a-copy\n",
      "  syn_match[\"synapse_z\"] = np.array(list(syn_match[\"ctr_pt_position\"].to_numpy()))[:,2]\n"
     ]
    },
    {
     "name": "stdout",
     "output_type": "stream",
     "text": [
      "\n",
      "Working on neuron 94: 864691136099807093\n",
      "# of end nodes = 34\n",
      "last_datetime_edited = 2020-11-03 18:39:23.697000\n",
      "# of presyn = 369, # of postsyn = 5142\n",
      "Total synapses BEFORE filtering = 5511\n",
      "Total synapses AFTER filtering = 5483\n",
      "4847 out of 5483 were within threshold of original mesh\n"
     ]
    },
    {
     "name": "stderr",
     "output_type": "stream",
     "text": [
      "/meshAfterParty/meshAfterParty/validation_utils.py:2432: SettingWithCopyWarning: \n",
      "A value is trying to be set on a copy of a slice from a DataFrame.\n",
      "Try using .loc[row_indexer,col_indexer] = value instead\n",
      "\n",
      "See the caveats in the documentation: https://pandas.pydata.org/pandas-docs/stable/user_guide/indexing.html#returning-a-view-versus-a-copy\n",
      "  syn_match[\"synapse_x\"] = np.array(list(syn_match[\"ctr_pt_position\"].to_numpy()))[:,0]\n",
      "/meshAfterParty/meshAfterParty/validation_utils.py:2433: SettingWithCopyWarning: \n",
      "A value is trying to be set on a copy of a slice from a DataFrame.\n",
      "Try using .loc[row_indexer,col_indexer] = value instead\n",
      "\n",
      "See the caveats in the documentation: https://pandas.pydata.org/pandas-docs/stable/user_guide/indexing.html#returning-a-view-versus-a-copy\n",
      "  syn_match[\"synapse_y\"] = np.array(list(syn_match[\"ctr_pt_position\"].to_numpy()))[:,1]\n",
      "/meshAfterParty/meshAfterParty/validation_utils.py:2434: SettingWithCopyWarning: \n",
      "A value is trying to be set on a copy of a slice from a DataFrame.\n",
      "Try using .loc[row_indexer,col_indexer] = value instead\n",
      "\n",
      "See the caveats in the documentation: https://pandas.pydata.org/pandas-docs/stable/user_guide/indexing.html#returning-a-view-versus-a-copy\n",
      "  syn_match[\"synapse_z\"] = np.array(list(syn_match[\"ctr_pt_position\"].to_numpy()))[:,2]\n"
     ]
    },
    {
     "name": "stdout",
     "output_type": "stream",
     "text": [
      "\n",
      "Working on neuron 95: 864691136105484249\n",
      "# of end nodes = 40\n",
      "last_datetime_edited = 2020-08-07 20:02:02.127000\n",
      "# of presyn = 529, # of postsyn = 2031\n",
      "Total synapses BEFORE filtering = 2560\n",
      "Total synapses AFTER filtering = 2548\n",
      "1992 out of 2548 were within threshold of original mesh\n"
     ]
    },
    {
     "name": "stderr",
     "output_type": "stream",
     "text": [
      "/meshAfterParty/meshAfterParty/validation_utils.py:2432: SettingWithCopyWarning: \n",
      "A value is trying to be set on a copy of a slice from a DataFrame.\n",
      "Try using .loc[row_indexer,col_indexer] = value instead\n",
      "\n",
      "See the caveats in the documentation: https://pandas.pydata.org/pandas-docs/stable/user_guide/indexing.html#returning-a-view-versus-a-copy\n",
      "  syn_match[\"synapse_x\"] = np.array(list(syn_match[\"ctr_pt_position\"].to_numpy()))[:,0]\n",
      "/meshAfterParty/meshAfterParty/validation_utils.py:2433: SettingWithCopyWarning: \n",
      "A value is trying to be set on a copy of a slice from a DataFrame.\n",
      "Try using .loc[row_indexer,col_indexer] = value instead\n",
      "\n",
      "See the caveats in the documentation: https://pandas.pydata.org/pandas-docs/stable/user_guide/indexing.html#returning-a-view-versus-a-copy\n",
      "  syn_match[\"synapse_y\"] = np.array(list(syn_match[\"ctr_pt_position\"].to_numpy()))[:,1]\n",
      "/meshAfterParty/meshAfterParty/validation_utils.py:2434: SettingWithCopyWarning: \n",
      "A value is trying to be set on a copy of a slice from a DataFrame.\n",
      "Try using .loc[row_indexer,col_indexer] = value instead\n",
      "\n",
      "See the caveats in the documentation: https://pandas.pydata.org/pandas-docs/stable/user_guide/indexing.html#returning-a-view-versus-a-copy\n",
      "  syn_match[\"synapse_z\"] = np.array(list(syn_match[\"ctr_pt_position\"].to_numpy()))[:,2]\n"
     ]
    },
    {
     "name": "stdout",
     "output_type": "stream",
     "text": [
      "\n",
      "Working on neuron 96: 864691136105491417\n",
      "# of end nodes = 24\n",
      "last_datetime_edited = 2020-10-28 16:20:33.450000\n",
      "# of presyn = 848, # of postsyn = 2467\n",
      "Total synapses BEFORE filtering = 3315\n",
      "Total synapses AFTER filtering = 3295\n",
      "2171 out of 3295 were within threshold of original mesh\n"
     ]
    },
    {
     "name": "stderr",
     "output_type": "stream",
     "text": [
      "/meshAfterParty/meshAfterParty/validation_utils.py:2432: SettingWithCopyWarning: \n",
      "A value is trying to be set on a copy of a slice from a DataFrame.\n",
      "Try using .loc[row_indexer,col_indexer] = value instead\n",
      "\n",
      "See the caveats in the documentation: https://pandas.pydata.org/pandas-docs/stable/user_guide/indexing.html#returning-a-view-versus-a-copy\n",
      "  syn_match[\"synapse_x\"] = np.array(list(syn_match[\"ctr_pt_position\"].to_numpy()))[:,0]\n",
      "/meshAfterParty/meshAfterParty/validation_utils.py:2433: SettingWithCopyWarning: \n",
      "A value is trying to be set on a copy of a slice from a DataFrame.\n",
      "Try using .loc[row_indexer,col_indexer] = value instead\n",
      "\n",
      "See the caveats in the documentation: https://pandas.pydata.org/pandas-docs/stable/user_guide/indexing.html#returning-a-view-versus-a-copy\n",
      "  syn_match[\"synapse_y\"] = np.array(list(syn_match[\"ctr_pt_position\"].to_numpy()))[:,1]\n",
      "/meshAfterParty/meshAfterParty/validation_utils.py:2434: SettingWithCopyWarning: \n",
      "A value is trying to be set on a copy of a slice from a DataFrame.\n",
      "Try using .loc[row_indexer,col_indexer] = value instead\n",
      "\n",
      "See the caveats in the documentation: https://pandas.pydata.org/pandas-docs/stable/user_guide/indexing.html#returning-a-view-versus-a-copy\n",
      "  syn_match[\"synapse_z\"] = np.array(list(syn_match[\"ctr_pt_position\"].to_numpy()))[:,2]\n"
     ]
    },
    {
     "name": "stdout",
     "output_type": "stream",
     "text": [
      "\n",
      "Working on neuron 97: 864691136105493209\n",
      "# of end nodes = 21\n",
      "last_datetime_edited = 2020-11-23 22:08:26.798000\n",
      "# of presyn = 480, # of postsyn = 3145\n",
      "Total synapses BEFORE filtering = 3625\n",
      "Total synapses AFTER filtering = 3603\n",
      "2983 out of 3603 were within threshold of original mesh\n"
     ]
    },
    {
     "name": "stderr",
     "output_type": "stream",
     "text": [
      "/meshAfterParty/meshAfterParty/validation_utils.py:2432: SettingWithCopyWarning: \n",
      "A value is trying to be set on a copy of a slice from a DataFrame.\n",
      "Try using .loc[row_indexer,col_indexer] = value instead\n",
      "\n",
      "See the caveats in the documentation: https://pandas.pydata.org/pandas-docs/stable/user_guide/indexing.html#returning-a-view-versus-a-copy\n",
      "  syn_match[\"synapse_x\"] = np.array(list(syn_match[\"ctr_pt_position\"].to_numpy()))[:,0]\n",
      "/meshAfterParty/meshAfterParty/validation_utils.py:2433: SettingWithCopyWarning: \n",
      "A value is trying to be set on a copy of a slice from a DataFrame.\n",
      "Try using .loc[row_indexer,col_indexer] = value instead\n",
      "\n",
      "See the caveats in the documentation: https://pandas.pydata.org/pandas-docs/stable/user_guide/indexing.html#returning-a-view-versus-a-copy\n",
      "  syn_match[\"synapse_y\"] = np.array(list(syn_match[\"ctr_pt_position\"].to_numpy()))[:,1]\n",
      "/meshAfterParty/meshAfterParty/validation_utils.py:2434: SettingWithCopyWarning: \n",
      "A value is trying to be set on a copy of a slice from a DataFrame.\n",
      "Try using .loc[row_indexer,col_indexer] = value instead\n",
      "\n",
      "See the caveats in the documentation: https://pandas.pydata.org/pandas-docs/stable/user_guide/indexing.html#returning-a-view-versus-a-copy\n",
      "  syn_match[\"synapse_z\"] = np.array(list(syn_match[\"ctr_pt_position\"].to_numpy()))[:,2]\n"
     ]
    },
    {
     "name": "stdout",
     "output_type": "stream",
     "text": [
      "\n",
      "Working on neuron 98: 864691136105498585\n",
      "# of end nodes = 67\n",
      "last_datetime_edited = 2021-05-02 05:26:41.259000\n",
      "# of presyn = 1196, # of postsyn = 898\n",
      "Total synapses BEFORE filtering = 2094\n",
      "Total synapses AFTER filtering = 2080\n",
      "1162 out of 2080 were within threshold of original mesh\n",
      "\n",
      "Working on neuron 99: 864691136108720056\n"
     ]
    },
    {
     "name": "stderr",
     "output_type": "stream",
     "text": [
      "/meshAfterParty/meshAfterParty/validation_utils.py:2432: SettingWithCopyWarning: \n",
      "A value is trying to be set on a copy of a slice from a DataFrame.\n",
      "Try using .loc[row_indexer,col_indexer] = value instead\n",
      "\n",
      "See the caveats in the documentation: https://pandas.pydata.org/pandas-docs/stable/user_guide/indexing.html#returning-a-view-versus-a-copy\n",
      "  syn_match[\"synapse_x\"] = np.array(list(syn_match[\"ctr_pt_position\"].to_numpy()))[:,0]\n",
      "/meshAfterParty/meshAfterParty/validation_utils.py:2433: SettingWithCopyWarning: \n",
      "A value is trying to be set on a copy of a slice from a DataFrame.\n",
      "Try using .loc[row_indexer,col_indexer] = value instead\n",
      "\n",
      "See the caveats in the documentation: https://pandas.pydata.org/pandas-docs/stable/user_guide/indexing.html#returning-a-view-versus-a-copy\n",
      "  syn_match[\"synapse_y\"] = np.array(list(syn_match[\"ctr_pt_position\"].to_numpy()))[:,1]\n",
      "/meshAfterParty/meshAfterParty/validation_utils.py:2434: SettingWithCopyWarning: \n",
      "A value is trying to be set on a copy of a slice from a DataFrame.\n",
      "Try using .loc[row_indexer,col_indexer] = value instead\n",
      "\n",
      "See the caveats in the documentation: https://pandas.pydata.org/pandas-docs/stable/user_guide/indexing.html#returning-a-view-versus-a-copy\n",
      "  syn_match[\"synapse_z\"] = np.array(list(syn_match[\"ctr_pt_position\"].to_numpy()))[:,2]\n"
     ]
    },
    {
     "name": "stdout",
     "output_type": "stream",
     "text": [
      "# of end nodes = 15\n",
      "last_datetime_edited = 2021-02-24 15:50:07.532000\n",
      "# of presyn = 173, # of postsyn = 4457\n",
      "Total synapses BEFORE filtering = 4630\n",
      "Total synapses AFTER filtering = 4612\n",
      "4561 out of 4612 were within threshold of original mesh\n"
     ]
    },
    {
     "name": "stderr",
     "output_type": "stream",
     "text": [
      "/meshAfterParty/meshAfterParty/validation_utils.py:2432: SettingWithCopyWarning: \n",
      "A value is trying to be set on a copy of a slice from a DataFrame.\n",
      "Try using .loc[row_indexer,col_indexer] = value instead\n",
      "\n",
      "See the caveats in the documentation: https://pandas.pydata.org/pandas-docs/stable/user_guide/indexing.html#returning-a-view-versus-a-copy\n",
      "  syn_match[\"synapse_x\"] = np.array(list(syn_match[\"ctr_pt_position\"].to_numpy()))[:,0]\n",
      "/meshAfterParty/meshAfterParty/validation_utils.py:2433: SettingWithCopyWarning: \n",
      "A value is trying to be set on a copy of a slice from a DataFrame.\n",
      "Try using .loc[row_indexer,col_indexer] = value instead\n",
      "\n",
      "See the caveats in the documentation: https://pandas.pydata.org/pandas-docs/stable/user_guide/indexing.html#returning-a-view-versus-a-copy\n",
      "  syn_match[\"synapse_y\"] = np.array(list(syn_match[\"ctr_pt_position\"].to_numpy()))[:,1]\n",
      "/meshAfterParty/meshAfterParty/validation_utils.py:2434: SettingWithCopyWarning: \n",
      "A value is trying to be set on a copy of a slice from a DataFrame.\n",
      "Try using .loc[row_indexer,col_indexer] = value instead\n",
      "\n",
      "See the caveats in the documentation: https://pandas.pydata.org/pandas-docs/stable/user_guide/indexing.html#returning-a-view-versus-a-copy\n",
      "  syn_match[\"synapse_z\"] = np.array(list(syn_match[\"ctr_pt_position\"].to_numpy()))[:,2]\n"
     ]
    },
    {
     "name": "stdout",
     "output_type": "stream",
     "text": [
      "\n",
      "Working on neuron 100: 864691136134446219\n",
      "# of end nodes = 73\n",
      "last_datetime_edited = 2020-09-24 20:49:32.183000\n",
      "# of presyn = 877, # of postsyn = 8369\n",
      "Total synapses BEFORE filtering = 9246\n",
      "Total synapses AFTER filtering = 9136\n",
      "8426 out of 9136 were within threshold of original mesh\n"
     ]
    },
    {
     "name": "stderr",
     "output_type": "stream",
     "text": [
      "/meshAfterParty/meshAfterParty/validation_utils.py:2432: SettingWithCopyWarning: \n",
      "A value is trying to be set on a copy of a slice from a DataFrame.\n",
      "Try using .loc[row_indexer,col_indexer] = value instead\n",
      "\n",
      "See the caveats in the documentation: https://pandas.pydata.org/pandas-docs/stable/user_guide/indexing.html#returning-a-view-versus-a-copy\n",
      "  syn_match[\"synapse_x\"] = np.array(list(syn_match[\"ctr_pt_position\"].to_numpy()))[:,0]\n",
      "/meshAfterParty/meshAfterParty/validation_utils.py:2433: SettingWithCopyWarning: \n",
      "A value is trying to be set on a copy of a slice from a DataFrame.\n",
      "Try using .loc[row_indexer,col_indexer] = value instead\n",
      "\n",
      "See the caveats in the documentation: https://pandas.pydata.org/pandas-docs/stable/user_guide/indexing.html#returning-a-view-versus-a-copy\n",
      "  syn_match[\"synapse_y\"] = np.array(list(syn_match[\"ctr_pt_position\"].to_numpy()))[:,1]\n",
      "/meshAfterParty/meshAfterParty/validation_utils.py:2434: SettingWithCopyWarning: \n",
      "A value is trying to be set on a copy of a slice from a DataFrame.\n",
      "Try using .loc[row_indexer,col_indexer] = value instead\n",
      "\n",
      "See the caveats in the documentation: https://pandas.pydata.org/pandas-docs/stable/user_guide/indexing.html#returning-a-view-versus-a-copy\n",
      "  syn_match[\"synapse_z\"] = np.array(list(syn_match[\"ctr_pt_position\"].to_numpy()))[:,2]\n"
     ]
    },
    {
     "name": "stdout",
     "output_type": "stream",
     "text": [
      "\n",
      "Working on neuron 101: 864691136143393332\n",
      "# of end nodes = 19\n",
      "last_datetime_edited = 2021-03-03 15:04:07.919000\n",
      "# of presyn = 273, # of postsyn = 6536\n",
      "Total synapses BEFORE filtering = 6809\n",
      "Total synapses AFTER filtering = 6757\n",
      "6649 out of 6757 were within threshold of original mesh\n"
     ]
    },
    {
     "name": "stderr",
     "output_type": "stream",
     "text": [
      "/meshAfterParty/meshAfterParty/validation_utils.py:2432: SettingWithCopyWarning: \n",
      "A value is trying to be set on a copy of a slice from a DataFrame.\n",
      "Try using .loc[row_indexer,col_indexer] = value instead\n",
      "\n",
      "See the caveats in the documentation: https://pandas.pydata.org/pandas-docs/stable/user_guide/indexing.html#returning-a-view-versus-a-copy\n",
      "  syn_match[\"synapse_x\"] = np.array(list(syn_match[\"ctr_pt_position\"].to_numpy()))[:,0]\n",
      "/meshAfterParty/meshAfterParty/validation_utils.py:2433: SettingWithCopyWarning: \n",
      "A value is trying to be set on a copy of a slice from a DataFrame.\n",
      "Try using .loc[row_indexer,col_indexer] = value instead\n",
      "\n",
      "See the caveats in the documentation: https://pandas.pydata.org/pandas-docs/stable/user_guide/indexing.html#returning-a-view-versus-a-copy\n",
      "  syn_match[\"synapse_y\"] = np.array(list(syn_match[\"ctr_pt_position\"].to_numpy()))[:,1]\n",
      "/meshAfterParty/meshAfterParty/validation_utils.py:2434: SettingWithCopyWarning: \n",
      "A value is trying to be set on a copy of a slice from a DataFrame.\n",
      "Try using .loc[row_indexer,col_indexer] = value instead\n",
      "\n",
      "See the caveats in the documentation: https://pandas.pydata.org/pandas-docs/stable/user_guide/indexing.html#returning-a-view-versus-a-copy\n",
      "  syn_match[\"synapse_z\"] = np.array(list(syn_match[\"ctr_pt_position\"].to_numpy()))[:,2]\n"
     ]
    },
    {
     "name": "stdout",
     "output_type": "stream",
     "text": [
      "\n",
      "Working on neuron 102: 864691136175008774\n",
      "# of end nodes = 29\n",
      "last_datetime_edited = 2020-12-01 19:49:25.248000\n",
      "# of presyn = 593, # of postsyn = 2707\n",
      "Total synapses BEFORE filtering = 3300\n",
      "Total synapses AFTER filtering = 3286\n",
      "2757 out of 3286 were within threshold of original mesh\n"
     ]
    },
    {
     "name": "stderr",
     "output_type": "stream",
     "text": [
      "/meshAfterParty/meshAfterParty/validation_utils.py:2432: SettingWithCopyWarning: \n",
      "A value is trying to be set on a copy of a slice from a DataFrame.\n",
      "Try using .loc[row_indexer,col_indexer] = value instead\n",
      "\n",
      "See the caveats in the documentation: https://pandas.pydata.org/pandas-docs/stable/user_guide/indexing.html#returning-a-view-versus-a-copy\n",
      "  syn_match[\"synapse_x\"] = np.array(list(syn_match[\"ctr_pt_position\"].to_numpy()))[:,0]\n",
      "/meshAfterParty/meshAfterParty/validation_utils.py:2433: SettingWithCopyWarning: \n",
      "A value is trying to be set on a copy of a slice from a DataFrame.\n",
      "Try using .loc[row_indexer,col_indexer] = value instead\n",
      "\n",
      "See the caveats in the documentation: https://pandas.pydata.org/pandas-docs/stable/user_guide/indexing.html#returning-a-view-versus-a-copy\n",
      "  syn_match[\"synapse_y\"] = np.array(list(syn_match[\"ctr_pt_position\"].to_numpy()))[:,1]\n",
      "/meshAfterParty/meshAfterParty/validation_utils.py:2434: SettingWithCopyWarning: \n",
      "A value is trying to be set on a copy of a slice from a DataFrame.\n",
      "Try using .loc[row_indexer,col_indexer] = value instead\n",
      "\n",
      "See the caveats in the documentation: https://pandas.pydata.org/pandas-docs/stable/user_guide/indexing.html#returning-a-view-versus-a-copy\n",
      "  syn_match[\"synapse_z\"] = np.array(list(syn_match[\"ctr_pt_position\"].to_numpy()))[:,2]\n"
     ]
    },
    {
     "name": "stdout",
     "output_type": "stream",
     "text": [
      "\n",
      "Working on neuron 103: 864691136194042326\n",
      "# of end nodes = 165\n",
      "last_datetime_edited = 2021-05-11 22:50:53.366000\n",
      "# of presyn = 3039, # of postsyn = 4676\n",
      "Total synapses BEFORE filtering = 7715\n",
      "Total synapses AFTER filtering = 7615\n",
      "3457 out of 7615 were within threshold of original mesh\n"
     ]
    },
    {
     "name": "stderr",
     "output_type": "stream",
     "text": [
      "/meshAfterParty/meshAfterParty/validation_utils.py:2432: SettingWithCopyWarning: \n",
      "A value is trying to be set on a copy of a slice from a DataFrame.\n",
      "Try using .loc[row_indexer,col_indexer] = value instead\n",
      "\n",
      "See the caveats in the documentation: https://pandas.pydata.org/pandas-docs/stable/user_guide/indexing.html#returning-a-view-versus-a-copy\n",
      "  syn_match[\"synapse_x\"] = np.array(list(syn_match[\"ctr_pt_position\"].to_numpy()))[:,0]\n",
      "/meshAfterParty/meshAfterParty/validation_utils.py:2433: SettingWithCopyWarning: \n",
      "A value is trying to be set on a copy of a slice from a DataFrame.\n",
      "Try using .loc[row_indexer,col_indexer] = value instead\n",
      "\n",
      "See the caveats in the documentation: https://pandas.pydata.org/pandas-docs/stable/user_guide/indexing.html#returning-a-view-versus-a-copy\n",
      "  syn_match[\"synapse_y\"] = np.array(list(syn_match[\"ctr_pt_position\"].to_numpy()))[:,1]\n",
      "/meshAfterParty/meshAfterParty/validation_utils.py:2434: SettingWithCopyWarning: \n",
      "A value is trying to be set on a copy of a slice from a DataFrame.\n",
      "Try using .loc[row_indexer,col_indexer] = value instead\n",
      "\n",
      "See the caveats in the documentation: https://pandas.pydata.org/pandas-docs/stable/user_guide/indexing.html#returning-a-view-versus-a-copy\n",
      "  syn_match[\"synapse_z\"] = np.array(list(syn_match[\"ctr_pt_position\"].to_numpy()))[:,2]\n"
     ]
    },
    {
     "name": "stdout",
     "output_type": "stream",
     "text": [
      "\n",
      "Working on neuron 104: 864691136194103510\n",
      "# of end nodes = 23\n",
      "last_datetime_edited = 2020-11-03 20:14:18.815000\n",
      "# of presyn = 923, # of postsyn = 3373\n",
      "Total synapses BEFORE filtering = 4296\n",
      "Total synapses AFTER filtering = 4274\n",
      "3350 out of 4274 were within threshold of original mesh\n"
     ]
    },
    {
     "name": "stderr",
     "output_type": "stream",
     "text": [
      "/meshAfterParty/meshAfterParty/validation_utils.py:2432: SettingWithCopyWarning: \n",
      "A value is trying to be set on a copy of a slice from a DataFrame.\n",
      "Try using .loc[row_indexer,col_indexer] = value instead\n",
      "\n",
      "See the caveats in the documentation: https://pandas.pydata.org/pandas-docs/stable/user_guide/indexing.html#returning-a-view-versus-a-copy\n",
      "  syn_match[\"synapse_x\"] = np.array(list(syn_match[\"ctr_pt_position\"].to_numpy()))[:,0]\n",
      "/meshAfterParty/meshAfterParty/validation_utils.py:2433: SettingWithCopyWarning: \n",
      "A value is trying to be set on a copy of a slice from a DataFrame.\n",
      "Try using .loc[row_indexer,col_indexer] = value instead\n",
      "\n",
      "See the caveats in the documentation: https://pandas.pydata.org/pandas-docs/stable/user_guide/indexing.html#returning-a-view-versus-a-copy\n",
      "  syn_match[\"synapse_y\"] = np.array(list(syn_match[\"ctr_pt_position\"].to_numpy()))[:,1]\n",
      "/meshAfterParty/meshAfterParty/validation_utils.py:2434: SettingWithCopyWarning: \n",
      "A value is trying to be set on a copy of a slice from a DataFrame.\n",
      "Try using .loc[row_indexer,col_indexer] = value instead\n",
      "\n",
      "See the caveats in the documentation: https://pandas.pydata.org/pandas-docs/stable/user_guide/indexing.html#returning-a-view-versus-a-copy\n",
      "  syn_match[\"synapse_z\"] = np.array(list(syn_match[\"ctr_pt_position\"].to_numpy()))[:,2]\n"
     ]
    },
    {
     "name": "stdout",
     "output_type": "stream",
     "text": [
      "\n",
      "Working on neuron 105: 864691136194198504\n",
      "# of end nodes = 23\n",
      "last_datetime_edited = 2021-02-03 06:54:34.823000\n",
      "# of presyn = 151, # of postsyn = 5434\n",
      "Total synapses BEFORE filtering = 5585\n",
      "Total synapses AFTER filtering = 5549\n",
      "5086 out of 5549 were within threshold of original mesh\n"
     ]
    },
    {
     "name": "stderr",
     "output_type": "stream",
     "text": [
      "/meshAfterParty/meshAfterParty/validation_utils.py:2432: SettingWithCopyWarning: \n",
      "A value is trying to be set on a copy of a slice from a DataFrame.\n",
      "Try using .loc[row_indexer,col_indexer] = value instead\n",
      "\n",
      "See the caveats in the documentation: https://pandas.pydata.org/pandas-docs/stable/user_guide/indexing.html#returning-a-view-versus-a-copy\n",
      "  syn_match[\"synapse_x\"] = np.array(list(syn_match[\"ctr_pt_position\"].to_numpy()))[:,0]\n",
      "/meshAfterParty/meshAfterParty/validation_utils.py:2433: SettingWithCopyWarning: \n",
      "A value is trying to be set on a copy of a slice from a DataFrame.\n",
      "Try using .loc[row_indexer,col_indexer] = value instead\n",
      "\n",
      "See the caveats in the documentation: https://pandas.pydata.org/pandas-docs/stable/user_guide/indexing.html#returning-a-view-versus-a-copy\n",
      "  syn_match[\"synapse_y\"] = np.array(list(syn_match[\"ctr_pt_position\"].to_numpy()))[:,1]\n",
      "/meshAfterParty/meshAfterParty/validation_utils.py:2434: SettingWithCopyWarning: \n",
      "A value is trying to be set on a copy of a slice from a DataFrame.\n",
      "Try using .loc[row_indexer,col_indexer] = value instead\n",
      "\n",
      "See the caveats in the documentation: https://pandas.pydata.org/pandas-docs/stable/user_guide/indexing.html#returning-a-view-versus-a-copy\n",
      "  syn_match[\"synapse_z\"] = np.array(list(syn_match[\"ctr_pt_position\"].to_numpy()))[:,2]\n"
     ]
    },
    {
     "name": "stdout",
     "output_type": "stream",
     "text": [
      "\n",
      "Working on neuron 106: 864691136201041854\n",
      "# of end nodes = 39\n",
      "last_datetime_edited = 2020-11-03 20:52:43.984000\n",
      "# of presyn = 518, # of postsyn = 5061\n",
      "Total synapses BEFORE filtering = 5579\n",
      "Total synapses AFTER filtering = 5551\n",
      "4712 out of 5551 were within threshold of original mesh\n"
     ]
    },
    {
     "name": "stderr",
     "output_type": "stream",
     "text": [
      "/meshAfterParty/meshAfterParty/validation_utils.py:2432: SettingWithCopyWarning: \n",
      "A value is trying to be set on a copy of a slice from a DataFrame.\n",
      "Try using .loc[row_indexer,col_indexer] = value instead\n",
      "\n",
      "See the caveats in the documentation: https://pandas.pydata.org/pandas-docs/stable/user_guide/indexing.html#returning-a-view-versus-a-copy\n",
      "  syn_match[\"synapse_x\"] = np.array(list(syn_match[\"ctr_pt_position\"].to_numpy()))[:,0]\n",
      "/meshAfterParty/meshAfterParty/validation_utils.py:2433: SettingWithCopyWarning: \n",
      "A value is trying to be set on a copy of a slice from a DataFrame.\n",
      "Try using .loc[row_indexer,col_indexer] = value instead\n",
      "\n",
      "See the caveats in the documentation: https://pandas.pydata.org/pandas-docs/stable/user_guide/indexing.html#returning-a-view-versus-a-copy\n",
      "  syn_match[\"synapse_y\"] = np.array(list(syn_match[\"ctr_pt_position\"].to_numpy()))[:,1]\n",
      "/meshAfterParty/meshAfterParty/validation_utils.py:2434: SettingWithCopyWarning: \n",
      "A value is trying to be set on a copy of a slice from a DataFrame.\n",
      "Try using .loc[row_indexer,col_indexer] = value instead\n",
      "\n",
      "See the caveats in the documentation: https://pandas.pydata.org/pandas-docs/stable/user_guide/indexing.html#returning-a-view-versus-a-copy\n",
      "  syn_match[\"synapse_z\"] = np.array(list(syn_match[\"ctr_pt_position\"].to_numpy()))[:,2]\n"
     ]
    },
    {
     "name": "stdout",
     "output_type": "stream",
     "text": [
      "\n",
      "Working on neuron 107: 864691136209021116\n",
      "# of end nodes = 72\n",
      "last_datetime_edited = 2021-02-04 19:14:18.959000\n",
      "# of presyn = 662, # of postsyn = 6251\n",
      "Total synapses BEFORE filtering = 6913\n",
      "Total synapses AFTER filtering = 6851\n",
      "6795 out of 6851 were within threshold of original mesh\n"
     ]
    },
    {
     "name": "stderr",
     "output_type": "stream",
     "text": [
      "/meshAfterParty/meshAfterParty/validation_utils.py:2432: SettingWithCopyWarning: \n",
      "A value is trying to be set on a copy of a slice from a DataFrame.\n",
      "Try using .loc[row_indexer,col_indexer] = value instead\n",
      "\n",
      "See the caveats in the documentation: https://pandas.pydata.org/pandas-docs/stable/user_guide/indexing.html#returning-a-view-versus-a-copy\n",
      "  syn_match[\"synapse_x\"] = np.array(list(syn_match[\"ctr_pt_position\"].to_numpy()))[:,0]\n",
      "/meshAfterParty/meshAfterParty/validation_utils.py:2433: SettingWithCopyWarning: \n",
      "A value is trying to be set on a copy of a slice from a DataFrame.\n",
      "Try using .loc[row_indexer,col_indexer] = value instead\n",
      "\n",
      "See the caveats in the documentation: https://pandas.pydata.org/pandas-docs/stable/user_guide/indexing.html#returning-a-view-versus-a-copy\n",
      "  syn_match[\"synapse_y\"] = np.array(list(syn_match[\"ctr_pt_position\"].to_numpy()))[:,1]\n",
      "/meshAfterParty/meshAfterParty/validation_utils.py:2434: SettingWithCopyWarning: \n",
      "A value is trying to be set on a copy of a slice from a DataFrame.\n",
      "Try using .loc[row_indexer,col_indexer] = value instead\n",
      "\n",
      "See the caveats in the documentation: https://pandas.pydata.org/pandas-docs/stable/user_guide/indexing.html#returning-a-view-versus-a-copy\n",
      "  syn_match[\"synapse_z\"] = np.array(list(syn_match[\"ctr_pt_position\"].to_numpy()))[:,2]\n"
     ]
    },
    {
     "name": "stdout",
     "output_type": "stream",
     "text": [
      "\n",
      "Working on neuron 108: 864691136273691661\n",
      "# of end nodes = 13\n",
      "last_datetime_edited = 2021-02-16 18:16:07.644000\n",
      "# of presyn = 407, # of postsyn = 6755\n",
      "Total synapses BEFORE filtering = 7162\n",
      "Total synapses AFTER filtering = 7140\n",
      "6852 out of 7140 were within threshold of original mesh\n"
     ]
    },
    {
     "name": "stderr",
     "output_type": "stream",
     "text": [
      "/meshAfterParty/meshAfterParty/validation_utils.py:2432: SettingWithCopyWarning: \n",
      "A value is trying to be set on a copy of a slice from a DataFrame.\n",
      "Try using .loc[row_indexer,col_indexer] = value instead\n",
      "\n",
      "See the caveats in the documentation: https://pandas.pydata.org/pandas-docs/stable/user_guide/indexing.html#returning-a-view-versus-a-copy\n",
      "  syn_match[\"synapse_x\"] = np.array(list(syn_match[\"ctr_pt_position\"].to_numpy()))[:,0]\n",
      "/meshAfterParty/meshAfterParty/validation_utils.py:2433: SettingWithCopyWarning: \n",
      "A value is trying to be set on a copy of a slice from a DataFrame.\n",
      "Try using .loc[row_indexer,col_indexer] = value instead\n",
      "\n",
      "See the caveats in the documentation: https://pandas.pydata.org/pandas-docs/stable/user_guide/indexing.html#returning-a-view-versus-a-copy\n",
      "  syn_match[\"synapse_y\"] = np.array(list(syn_match[\"ctr_pt_position\"].to_numpy()))[:,1]\n",
      "/meshAfterParty/meshAfterParty/validation_utils.py:2434: SettingWithCopyWarning: \n",
      "A value is trying to be set on a copy of a slice from a DataFrame.\n",
      "Try using .loc[row_indexer,col_indexer] = value instead\n",
      "\n",
      "See the caveats in the documentation: https://pandas.pydata.org/pandas-docs/stable/user_guide/indexing.html#returning-a-view-versus-a-copy\n",
      "  syn_match[\"synapse_z\"] = np.array(list(syn_match[\"ctr_pt_position\"].to_numpy()))[:,2]\n"
     ]
    },
    {
     "name": "stdout",
     "output_type": "stream",
     "text": [
      "\n",
      "Working on neuron 109: 864691136296650011\n",
      "# of end nodes = 42\n",
      "last_datetime_edited = 2021-01-25 22:21:13.535000\n",
      "# of presyn = 2079, # of postsyn = 3004\n",
      "Total synapses BEFORE filtering = 5083\n",
      "Total synapses AFTER filtering = 5039\n",
      "3315 out of 5039 were within threshold of original mesh\n"
     ]
    },
    {
     "name": "stderr",
     "output_type": "stream",
     "text": [
      "/meshAfterParty/meshAfterParty/validation_utils.py:2432: SettingWithCopyWarning: \n",
      "A value is trying to be set on a copy of a slice from a DataFrame.\n",
      "Try using .loc[row_indexer,col_indexer] = value instead\n",
      "\n",
      "See the caveats in the documentation: https://pandas.pydata.org/pandas-docs/stable/user_guide/indexing.html#returning-a-view-versus-a-copy\n",
      "  syn_match[\"synapse_x\"] = np.array(list(syn_match[\"ctr_pt_position\"].to_numpy()))[:,0]\n",
      "/meshAfterParty/meshAfterParty/validation_utils.py:2433: SettingWithCopyWarning: \n",
      "A value is trying to be set on a copy of a slice from a DataFrame.\n",
      "Try using .loc[row_indexer,col_indexer] = value instead\n",
      "\n",
      "See the caveats in the documentation: https://pandas.pydata.org/pandas-docs/stable/user_guide/indexing.html#returning-a-view-versus-a-copy\n",
      "  syn_match[\"synapse_y\"] = np.array(list(syn_match[\"ctr_pt_position\"].to_numpy()))[:,1]\n",
      "/meshAfterParty/meshAfterParty/validation_utils.py:2434: SettingWithCopyWarning: \n",
      "A value is trying to be set on a copy of a slice from a DataFrame.\n",
      "Try using .loc[row_indexer,col_indexer] = value instead\n",
      "\n",
      "See the caveats in the documentation: https://pandas.pydata.org/pandas-docs/stable/user_guide/indexing.html#returning-a-view-versus-a-copy\n",
      "  syn_match[\"synapse_z\"] = np.array(list(syn_match[\"ctr_pt_position\"].to_numpy()))[:,2]\n"
     ]
    },
    {
     "name": "stdout",
     "output_type": "stream",
     "text": [
      "\n",
      "Working on neuron 110: 864691136311740477\n",
      "# of end nodes = 19\n",
      "last_datetime_edited = 2020-10-26 17:53:17.732000\n",
      "# of presyn = 1189, # of postsyn = 3408\n",
      "Total synapses BEFORE filtering = 4597\n",
      "Total synapses AFTER filtering = 4565\n",
      "3329 out of 4565 were within threshold of original mesh\n"
     ]
    },
    {
     "name": "stderr",
     "output_type": "stream",
     "text": [
      "/meshAfterParty/meshAfterParty/validation_utils.py:2432: SettingWithCopyWarning: \n",
      "A value is trying to be set on a copy of a slice from a DataFrame.\n",
      "Try using .loc[row_indexer,col_indexer] = value instead\n",
      "\n",
      "See the caveats in the documentation: https://pandas.pydata.org/pandas-docs/stable/user_guide/indexing.html#returning-a-view-versus-a-copy\n",
      "  syn_match[\"synapse_x\"] = np.array(list(syn_match[\"ctr_pt_position\"].to_numpy()))[:,0]\n",
      "/meshAfterParty/meshAfterParty/validation_utils.py:2433: SettingWithCopyWarning: \n",
      "A value is trying to be set on a copy of a slice from a DataFrame.\n",
      "Try using .loc[row_indexer,col_indexer] = value instead\n",
      "\n",
      "See the caveats in the documentation: https://pandas.pydata.org/pandas-docs/stable/user_guide/indexing.html#returning-a-view-versus-a-copy\n",
      "  syn_match[\"synapse_y\"] = np.array(list(syn_match[\"ctr_pt_position\"].to_numpy()))[:,1]\n",
      "/meshAfterParty/meshAfterParty/validation_utils.py:2434: SettingWithCopyWarning: \n",
      "A value is trying to be set on a copy of a slice from a DataFrame.\n",
      "Try using .loc[row_indexer,col_indexer] = value instead\n",
      "\n",
      "See the caveats in the documentation: https://pandas.pydata.org/pandas-docs/stable/user_guide/indexing.html#returning-a-view-versus-a-copy\n",
      "  syn_match[\"synapse_z\"] = np.array(list(syn_match[\"ctr_pt_position\"].to_numpy()))[:,2]\n"
     ]
    },
    {
     "name": "stdout",
     "output_type": "stream",
     "text": [
      "\n",
      "Working on neuron 111: 864691136311785789\n",
      "# of end nodes = 14\n",
      "last_datetime_edited = 2020-10-06 21:23:08.108000\n",
      "# of presyn = 1382, # of postsyn = 9997\n",
      "Total synapses BEFORE filtering = 11379\n",
      "Total synapses AFTER filtering = 11323\n",
      "9325 out of 11323 were within threshold of original mesh\n"
     ]
    },
    {
     "name": "stderr",
     "output_type": "stream",
     "text": [
      "/meshAfterParty/meshAfterParty/validation_utils.py:2432: SettingWithCopyWarning: \n",
      "A value is trying to be set on a copy of a slice from a DataFrame.\n",
      "Try using .loc[row_indexer,col_indexer] = value instead\n",
      "\n",
      "See the caveats in the documentation: https://pandas.pydata.org/pandas-docs/stable/user_guide/indexing.html#returning-a-view-versus-a-copy\n",
      "  syn_match[\"synapse_x\"] = np.array(list(syn_match[\"ctr_pt_position\"].to_numpy()))[:,0]\n",
      "/meshAfterParty/meshAfterParty/validation_utils.py:2433: SettingWithCopyWarning: \n",
      "A value is trying to be set on a copy of a slice from a DataFrame.\n",
      "Try using .loc[row_indexer,col_indexer] = value instead\n",
      "\n",
      "See the caveats in the documentation: https://pandas.pydata.org/pandas-docs/stable/user_guide/indexing.html#returning-a-view-versus-a-copy\n",
      "  syn_match[\"synapse_y\"] = np.array(list(syn_match[\"ctr_pt_position\"].to_numpy()))[:,1]\n",
      "/meshAfterParty/meshAfterParty/validation_utils.py:2434: SettingWithCopyWarning: \n",
      "A value is trying to be set on a copy of a slice from a DataFrame.\n",
      "Try using .loc[row_indexer,col_indexer] = value instead\n",
      "\n",
      "See the caveats in the documentation: https://pandas.pydata.org/pandas-docs/stable/user_guide/indexing.html#returning-a-view-versus-a-copy\n",
      "  syn_match[\"synapse_z\"] = np.array(list(syn_match[\"ctr_pt_position\"].to_numpy()))[:,2]\n"
     ]
    }
   ],
   "source": [
    "idx = 3\n",
    "chunk_size = 28\n",
    "for i in range(idx*chunk_size,(idx+1)*chunk_size):\n",
    "    \n",
    "    if i >= len(original_seg_ids):\n",
    "        break\n",
    "        \n",
    "    segment_id = original_seg_ids[i]\n",
    "    print(f\"\\nWorking on neuron {i}: {segment_id}\")\n",
    "    \n",
    "    vu.old_segment_id_validation_synapses(segment_id = segment_id,\n",
    "    verbose = True,\n",
    "    plot_original_mesh = False,\n",
    "    plot_potential_synapses = False,\n",
    "    plot_matched_synapses = False)"
   ]
  },
  {
   "cell_type": "code",
   "execution_count": 8,
   "metadata": {},
   "outputs": [
    {
     "name": "stderr",
     "output_type": "stream",
     "text": [
      "INFO - 2021-05-24 18:29:00,473 - settings - Setting database.host to at-database.ad.bcm.edu\n",
      "INFO - 2021-05-24 18:29:00,478 - settings - Setting database.user to celiib\n",
      "INFO - 2021-05-24 18:29:00,486 - settings - Setting database.password to newceliipass\n",
      "INFO - 2021-05-24 18:29:00,494 - settings - Setting database.host to at-database.ad.bcm.edu\n",
      "INFO - 2021-05-24 18:29:00,496 - settings - Setting database.user to celiib\n",
      "INFO - 2021-05-24 18:29:00,497 - settings - Setting database.password to newceliipass\n",
      "INFO - 2021-05-24 18:29:00,500 - settings - Setting enable_python_native_blobs to True\n",
      "INFO - 2021-05-24 18:29:01,212 - settings - Setting enable_python_native_blobs to True\n"
     ]
    },
    {
     "data": {
      "text/html": [
       "\n",
       "        \n",
       "        <style type=\"text/css\">\n",
       "            .Relation{\n",
       "                border-collapse:collapse;\n",
       "            }\n",
       "            .Relation th{\n",
       "                background: #A0A0A0; color: #ffffff; padding:4px; border:#f0e0e0 1px solid;\n",
       "                font-weight: normal; font-family: monospace; font-size: 100%;\n",
       "            }\n",
       "            .Relation td{\n",
       "                padding:4px; border:#f0e0e0 1px solid; font-size:100%;\n",
       "            }\n",
       "            .Relation tr:nth-child(odd){\n",
       "                background: #ffffff;\n",
       "            }\n",
       "            .Relation tr:nth-child(even){\n",
       "                background: #f3f1ff;\n",
       "            }\n",
       "            /* Tooltip container */\n",
       "            .djtooltip {\n",
       "            }\n",
       "            /* Tooltip text */\n",
       "            .djtooltip .djtooltiptext {\n",
       "                visibility: hidden;\n",
       "                width: 120px;\n",
       "                background-color: black;\n",
       "                color: #fff;\n",
       "                text-align: center;\n",
       "                padding: 5px 0;\n",
       "                border-radius: 6px;\n",
       "                /* Position the tooltip text - see examples below! */\n",
       "                position: absolute;\n",
       "                z-index: 1;\n",
       "            }\n",
       "            #primary {\n",
       "                font-weight: bold;\n",
       "                color: black;\n",
       "            }\n",
       "\n",
       "            #nonprimary {\n",
       "                font-weight: normal;\n",
       "                color: white;\n",
       "            }\n",
       "\n",
       "            /* Show the tooltip text when you mouse over the tooltip container */\n",
       "            .djtooltip:hover .djtooltiptext {\n",
       "                visibility: visible;\n",
       "            }\n",
       "        </style>\n",
       "        \n",
       "        <b></b>\n",
       "            <div style=\"max-height:1000px;max-width:1500px;overflow:auto;\">\n",
       "            <table border=\"1\" class=\"Relation\">\n",
       "                <thead> <tr style=\"text-align: right;\"> <th> <div class=\"djtooltip\">\n",
       "                                <p id=\"primary\">segment_id</p>\n",
       "                                <span class=\"djtooltiptext\">segment id unique within each Segmentation</span>\n",
       "                            </div></th><th><div class=\"djtooltip\">\n",
       "                                <p id=\"primary\">decimation_version</p>\n",
       "                                <span class=\"djtooltiptext\"></span>\n",
       "                            </div></th><th><div class=\"djtooltip\">\n",
       "                                <p id=\"primary\">decimation_ratio</p>\n",
       "                                <span class=\"djtooltiptext\">ratio of remaining mesh vertices/faces (which ones depends on what metric the decimation technique uses)</span>\n",
       "                            </div></th><th><div class=\"djtooltip\">\n",
       "                                <p id=\"primary\">ver</p>\n",
       "                                <span class=\"djtooltiptext\">the version number of the materializaiton</span>\n",
       "                            </div></th><th><div class=\"djtooltip\">\n",
       "                                <p id=\"primary\">process_version</p>\n",
       "                                <span class=\"djtooltiptext\">the version of the preprocessing pipeline run</span>\n",
       "                            </div></th><th><div class=\"djtooltip\">\n",
       "                                <p id=\"primary\">index</p>\n",
       "                                <span class=\"djtooltiptext\">the index of the neuron object that resulted from that mesh (indexed starting at 0)</span>\n",
       "                            </div></th><th><div class=\"djtooltip\">\n",
       "                                <p id=\"nonprimary\">multiplicity</p>\n",
       "                                <span class=\"djtooltiptext\">the number of somas found for this base segment</span>\n",
       "                            </div></th><th><div class=\"djtooltip\">\n",
       "                                <p id=\"nonprimary\">decomposition</p>\n",
       "                                <span class=\"djtooltiptext\"></span>\n",
       "                            </div></th><th><div class=\"djtooltip\">\n",
       "                                <p id=\"nonprimary\">n_vertices</p>\n",
       "                                <span class=\"djtooltiptext\">number of vertices</span>\n",
       "                            </div></th><th><div class=\"djtooltip\">\n",
       "                                <p id=\"nonprimary\">n_faces</p>\n",
       "                                <span class=\"djtooltiptext\">number of faces</span>\n",
       "                            </div></th><th><div class=\"djtooltip\">\n",
       "                                <p id=\"nonprimary\">n_not_processed_soma_containing_meshes</p>\n",
       "                                <span class=\"djtooltiptext\">the number of meshes with somas that were not processed</span>\n",
       "                            </div></th><th><div class=\"djtooltip\">\n",
       "                                <p id=\"nonprimary\">n_error_limbs</p>\n",
       "                                <span class=\"djtooltiptext\">the number of limbs that are touching multiple somas or 1 soma in multiple places</span>\n",
       "                            </div></th><th><div class=\"djtooltip\">\n",
       "                                <p id=\"nonprimary\">n_same_soma_multi_touching_limbs</p>\n",
       "                                <span class=\"djtooltiptext\">number of limbs that touch the same soma multiple times</span>\n",
       "                            </div></th><th><div class=\"djtooltip\">\n",
       "                                <p id=\"nonprimary\">n_multi_soma_touching_limbs</p>\n",
       "                                <span class=\"djtooltiptext\">number of limbs that touch multiple somas</span>\n",
       "                            </div></th><th><div class=\"djtooltip\">\n",
       "                                <p id=\"nonprimary\">n_somas</p>\n",
       "                                <span class=\"djtooltiptext\">number of soma meshes detected</span>\n",
       "                            </div></th><th><div class=\"djtooltip\">\n",
       "                                <p id=\"nonprimary\">n_limbs</p>\n",
       "                                <span class=\"djtooltiptext\"></span>\n",
       "                            </div></th><th><div class=\"djtooltip\">\n",
       "                                <p id=\"nonprimary\">n_branches</p>\n",
       "                                <span class=\"djtooltiptext\"></span>\n",
       "                            </div></th><th><div class=\"djtooltip\">\n",
       "                                <p id=\"nonprimary\">max_limb_n_branches</p>\n",
       "                                <span class=\"djtooltiptext\"></span>\n",
       "                            </div></th><th><div class=\"djtooltip\">\n",
       "                                <p id=\"nonprimary\">skeletal_length</p>\n",
       "                                <span class=\"djtooltiptext\"></span>\n",
       "                            </div></th><th><div class=\"djtooltip\">\n",
       "                                <p id=\"nonprimary\">max_limb_skeletal_length</p>\n",
       "                                <span class=\"djtooltiptext\"></span>\n",
       "                            </div></th><th><div class=\"djtooltip\">\n",
       "                                <p id=\"nonprimary\">median_branch_length</p>\n",
       "                                <span class=\"djtooltiptext\">gives information on average skeletal length to next branch point</span>\n",
       "                            </div></th><th><div class=\"djtooltip\">\n",
       "                                <p id=\"nonprimary\">width_median</p>\n",
       "                                <span class=\"djtooltiptext\">median width from mesh center without spines removed</span>\n",
       "                            </div></th><th><div class=\"djtooltip\">\n",
       "                                <p id=\"nonprimary\">width_no_spine_median</p>\n",
       "                                <span class=\"djtooltiptext\">median width from mesh center with spines removed</span>\n",
       "                            </div></th><th><div class=\"djtooltip\">\n",
       "                                <p id=\"nonprimary\">width_90_perc</p>\n",
       "                                <span class=\"djtooltiptext\">90th percentile for width without spines removed</span>\n",
       "                            </div></th><th><div class=\"djtooltip\">\n",
       "                                <p id=\"nonprimary\">width_no_spine_90_perc</p>\n",
       "                                <span class=\"djtooltiptext\">90th percentile for width with spines removed</span>\n",
       "                            </div></th><th><div class=\"djtooltip\">\n",
       "                                <p id=\"nonprimary\">n_spines</p>\n",
       "                                <span class=\"djtooltiptext\"></span>\n",
       "                            </div></th><th><div class=\"djtooltip\">\n",
       "                                <p id=\"nonprimary\">spine_density</p>\n",
       "                                <span class=\"djtooltiptext\">n_spines/ skeletal_length</span>\n",
       "                            </div></th><th><div class=\"djtooltip\">\n",
       "                                <p id=\"nonprimary\">spines_per_branch</p>\n",
       "                                <span class=\"djtooltiptext\"></span>\n",
       "                            </div></th><th><div class=\"djtooltip\">\n",
       "                                <p id=\"nonprimary\">skeletal_length_eligible</p>\n",
       "                                <span class=\"djtooltiptext\">the skeletal length for all branches searched for spines</span>\n",
       "                            </div></th><th><div class=\"djtooltip\">\n",
       "                                <p id=\"nonprimary\">n_spine_eligible_branches</p>\n",
       "                                <span class=\"djtooltiptext\">the number of branches that were checked for spines because passed width threshold</span>\n",
       "                            </div></th><th><div class=\"djtooltip\">\n",
       "                                <p id=\"nonprimary\">spine_density_eligible</p>\n",
       "                                <span class=\"djtooltiptext\">n_spines/skeletal_length_eligible</span>\n",
       "                            </div></th><th><div class=\"djtooltip\">\n",
       "                                <p id=\"nonprimary\">spines_per_branch_eligible</p>\n",
       "                                <span class=\"djtooltiptext\">n_spines/n_spine_eligible_branches</span>\n",
       "                            </div></th><th><div class=\"djtooltip\">\n",
       "                                <p id=\"nonprimary\">total_spine_volume</p>\n",
       "                                <span class=\"djtooltiptext\">the sum of all spine volume</span>\n",
       "                            </div></th><th><div class=\"djtooltip\">\n",
       "                                <p id=\"nonprimary\">spine_volume_median</p>\n",
       "                                <span class=\"djtooltiptext\">median of the spine volume for those spines with able to calculate volume</span>\n",
       "                            </div></th><th><div class=\"djtooltip\">\n",
       "                                <p id=\"nonprimary\">spine_volume_density</p>\n",
       "                                <span class=\"djtooltiptext\">total_spine_volume/skeletal_length</span>\n",
       "                            </div></th><th><div class=\"djtooltip\">\n",
       "                                <p id=\"nonprimary\">spine_volume_density_eligible</p>\n",
       "                                <span class=\"djtooltiptext\">total_spine_volume/skeletal_length_eligible</span>\n",
       "                            </div></th><th><div class=\"djtooltip\">\n",
       "                                <p id=\"nonprimary\">spine_volume_per_branch_eligible</p>\n",
       "                                <span class=\"djtooltiptext\">total_spine_volume/n_spine_eligible_branches</span>\n",
       "                            </div></th><th><div class=\"djtooltip\">\n",
       "                                <p id=\"nonprimary\">run_time</p>\n",
       "                                <span class=\"djtooltiptext\">the amount of time to run (seconds)</span>\n",
       "                            </div> </th> </tr> </thead>\n",
       "                <tbody> <tr> <td>864691136333790899</td>\n",
       "<td>0</td>\n",
       "<td>0.25</td>\n",
       "<td>30.00</td>\n",
       "<td>7</td>\n",
       "<td>0</td>\n",
       "<td>1</td>\n",
       "<td>=BLOB=</td>\n",
       "<td>666268</td>\n",
       "<td>1355621</td>\n",
       "<td>0</td>\n",
       "<td>0</td>\n",
       "<td>0</td>\n",
       "<td>0</td>\n",
       "<td>1</td>\n",
       "<td>8</td>\n",
       "<td>154</td>\n",
       "<td>73</td>\n",
       "<td>8320949.633232569</td>\n",
       "<td>4059170.3819589703</td>\n",
       "<td>32831.173</td>\n",
       "<td>150.597</td>\n",
       "<td>150.748</td>\n",
       "<td>449.507</td>\n",
       "<td>428.001</td>\n",
       "<td>1925</td>\n",
       "<td>0.0002313437870494795</td>\n",
       "<td>12.5</td>\n",
       "<td>4994926.581</td>\n",
       "<td>83</td>\n",
       "<td>0.00038539105005515594</td>\n",
       "<td>23.193</td>\n",
       "<td>356032098262.84406</td>\n",
       "<td>111885288.2000122</td>\n",
       "<td>42787.43580431104</td>\n",
       "<td>71278.74504044568</td>\n",
       "<td>4289543352.5643864</td>\n",
       "<td>4571.3471</td> </tr> </tbody>\n",
       "            </table>\n",
       "            \n",
       "            <p>Total: 1</p></div>\n",
       "            "
      ],
      "text/plain": [
       "*segment_id    *decimation_ve *decimation_ra *ver      *process_versi *index    multiplicity   decomposit n_vertices     n_faces     n_not_processe n_error_limbs  n_same_soma_mu n_multi_soma_t n_somas     n_limbs     n_branches     max_limb_n_bra skeletal_lengt max_limb_skele median_branch_ width_median   width_no_spine width_90_perc  width_no_spine n_spines     spine_density  spines_per_bra skeletal_lengt n_spine_eligib spine_density_ spines_per_bra total_spine_vo spine_volume_m spine_volume_d spine_volume_d spine_volume_p run_time     \n",
       "+------------+ +------------+ +------------+ +-------+ +------------+ +-------+ +------------+ +--------+ +------------+ +---------+ +------------+ +------------+ +------------+ +------------+ +---------+ +---------+ +------------+ +------------+ +------------+ +------------+ +------------+ +------------+ +------------+ +------------+ +------------+ +----------+ +------------+ +------------+ +------------+ +------------+ +------------+ +------------+ +------------+ +------------+ +------------+ +------------+ +------------+ +-----------+\n",
       "86469113633379 0              0.25           30.00     7              0         1              =BLOB=     666268         1355621     0              0              0              0              1           8           154            73             8320949.633232 4059170.381958 32831.173      150.597        150.748        449.507        428.001        1925         0.000231343787 12.5           4994926.581    83             0.000385391050 23.193         356032098262.8 111885288.2000 42787.43580431 71278.74504044 4289543352.564 4571.3471    \n",
       " (Total: 1)"
      ]
     },
     "execution_count": 8,
     "metadata": {},
     "output_type": "execute_result"
    }
   ],
   "source": [
    "minnie.Decomposition() & dict(segment_id=864691136333790899)"
   ]
  },
  {
   "cell_type": "code",
   "execution_count": null,
   "metadata": {},
   "outputs": [],
   "source": []
  }
 ],
 "metadata": {
  "kernelspec": {
   "display_name": "Python 3",
   "language": "python",
   "name": "python3"
  },
  "language_info": {
   "codemirror_mode": {
    "name": "ipython",
    "version": 3
   },
   "file_extension": ".py",
   "mimetype": "text/x-python",
   "name": "python",
   "nbconvert_exporter": "python",
   "pygments_lexer": "ipython3",
   "version": "3.6.9"
  }
 },
 "nbformat": 4,
 "nbformat_minor": 4
}
