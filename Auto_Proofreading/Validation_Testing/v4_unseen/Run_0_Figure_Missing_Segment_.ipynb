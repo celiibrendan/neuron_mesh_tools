{
 "cells": [
  {
   "cell_type": "code",
   "execution_count": 1,
   "metadata": {},
   "outputs": [],
   "source": [
    "%load_ext autoreload\n",
    "%autoreload 2"
   ]
  },
  {
   "cell_type": "code",
   "execution_count": 2,
   "metadata": {},
   "outputs": [
    {
     "name": "stderr",
     "output_type": "stream",
     "text": [
      "INFO - 2021-05-19 18:21:06,633 - settings - Setting database.host to at-database.ad.bcm.edu\n",
      "INFO - 2021-05-19 18:21:06,635 - settings - Setting database.user to celiib\n",
      "INFO - 2021-05-19 18:21:06,636 - settings - Setting database.password to newceliipass\n",
      "INFO - 2021-05-19 18:21:06,640 - settings - Setting stores to {'minnie65': {'protocol': 'file', 'location': '/mnt/dj-stor01/platinum/minnie65', 'stage': '/mnt/dj-stor01/platinum/minnie65'}, 'meshes': {'protocol': 'file', 'location': '/mnt/dj-stor01/platinum/minnie65/02/meshes', 'stage': '/mnt/dj-stor01/platinum/minnie65/02/meshes'}, 'decimated_meshes': {'protocol': 'file', 'location': '/mnt/dj-stor01/platinum/minnie65/02/decimated_meshes', 'stage': '/mnt/dj-stor01/platinum/minnie65/02/decimated_meshes'}, 'skeletons': {'protocol': 'file', 'location': '/mnt/dj-stor01/platinum/minnie65/02/skeletons'}}\n",
      "INFO - 2021-05-19 18:21:06,641 - settings - Setting enable_python_native_blobs to True\n",
      "INFO - 2021-05-19 18:21:06,653 - connection - Connected celiib@at-database.ad.bcm.edu:3306\n"
     ]
    },
    {
     "name": "stdout",
     "output_type": "stream",
     "text": [
      "Connecting celiib@at-database.ad.bcm.edu:3306\n"
     ]
    },
    {
     "name": "stderr",
     "output_type": "stream",
     "text": [
      "INFO - 2021-05-19 18:21:07,113 - settings - Setting enable_python_native_blobs to True\n",
      "INFO - 2021-05-19 18:21:07,117 - settings - Setting database.host to at-database.ad.bcm.edu\n",
      "INFO - 2021-05-19 18:21:07,119 - settings - Setting database.user to celiib\n",
      "INFO - 2021-05-19 18:21:07,120 - settings - Setting database.password to newceliipass\n",
      "INFO - 2021-05-19 18:21:07,121 - settings - Setting database.host to at-database.ad.bcm.edu\n",
      "INFO - 2021-05-19 18:21:07,122 - settings - Setting database.user to celiib\n",
      "INFO - 2021-05-19 18:21:07,123 - settings - Setting database.password to newceliipass\n",
      "INFO - 2021-05-19 18:21:07,124 - settings - Setting enable_python_native_blobs to True\n",
      "INFO - 2021-05-19 18:21:07,641 - settings - Setting enable_python_native_blobs to True\n"
     ]
    }
   ],
   "source": [
    "import numpy as np\n",
    "import datajoint as dj\n",
    "import trimesh\n",
    "from tqdm.notebook import tqdm\n",
    "from pathlib import Path\n",
    "\n",
    "from os import sys\n",
    "sys.path.append(\"/meshAfterParty/\")\n",
    "sys.path.append(\"/meshAfterParty/meshAfterParty\")\n",
    "\n",
    "import datajoint_utils as du\n",
    "from importlib import reload"
   ]
  },
  {
   "cell_type": "code",
   "execution_count": 3,
   "metadata": {},
   "outputs": [
    {
     "name": "stderr",
     "output_type": "stream",
     "text": [
      "INFO - 2021-05-19 18:21:35,488 - settings - Setting database.host to at-database.ad.bcm.edu\n",
      "INFO - 2021-05-19 18:21:35,489 - settings - Setting database.user to celiib\n",
      "INFO - 2021-05-19 18:21:35,489 - settings - Setting database.password to newceliipass\n",
      "INFO - 2021-05-19 18:21:35,491 - settings - Setting enable_python_native_blobs to True\n",
      "INFO - 2021-05-19 18:21:36,074 - settings - Setting enable_python_native_blobs to True\n"
     ]
    }
   ],
   "source": [
    "minnie,schema = du.configure_minnie_vm()"
   ]
  },
  {
   "cell_type": "markdown",
   "metadata": {},
   "source": [
    "# Getting the Segment Ids to Download"
   ]
  },
  {
   "cell_type": "code",
   "execution_count": 4,
   "metadata": {},
   "outputs": [
    {
     "data": {
      "text/html": [
       "\n",
       "        \n",
       "        <style type=\"text/css\">\n",
       "            .Relation{\n",
       "                border-collapse:collapse;\n",
       "            }\n",
       "            .Relation th{\n",
       "                background: #A0A0A0; color: #ffffff; padding:4px; border:#f0e0e0 1px solid;\n",
       "                font-weight: normal; font-family: monospace; font-size: 100%;\n",
       "            }\n",
       "            .Relation td{\n",
       "                padding:4px; border:#f0e0e0 1px solid; font-size:100%;\n",
       "            }\n",
       "            .Relation tr:nth-child(odd){\n",
       "                background: #ffffff;\n",
       "            }\n",
       "            .Relation tr:nth-child(even){\n",
       "                background: #f3f1ff;\n",
       "            }\n",
       "            /* Tooltip container */\n",
       "            .djtooltip {\n",
       "            }\n",
       "            /* Tooltip text */\n",
       "            .djtooltip .djtooltiptext {\n",
       "                visibility: hidden;\n",
       "                width: 120px;\n",
       "                background-color: black;\n",
       "                color: #fff;\n",
       "                text-align: center;\n",
       "                padding: 5px 0;\n",
       "                border-radius: 6px;\n",
       "                /* Position the tooltip text - see examples below! */\n",
       "                position: absolute;\n",
       "                z-index: 1;\n",
       "            }\n",
       "            #primary {\n",
       "                font-weight: bold;\n",
       "                color: black;\n",
       "            }\n",
       "\n",
       "            #nonprimary {\n",
       "                font-weight: normal;\n",
       "                color: white;\n",
       "            }\n",
       "\n",
       "            /* Show the tooltip text when you mouse over the tooltip container */\n",
       "            .djtooltip:hover .djtooltiptext {\n",
       "                visibility: visible;\n",
       "            }\n",
       "        </style>\n",
       "        \n",
       "        <b></b>\n",
       "            <div style=\"max-height:1000px;max-width:1500px;overflow:auto;\">\n",
       "            <table border=\"1\" class=\"Relation\">\n",
       "                <thead> <tr style=\"text-align: right;\"> <th> <div class=\"djtooltip\">\n",
       "                                <p id=\"primary\">ver</p>\n",
       "                                <span class=\"djtooltiptext\">materialization version</span>\n",
       "                            </div></th><th><div class=\"djtooltip\">\n",
       "                                <p id=\"primary\">nucleus_id</p>\n",
       "                                <span class=\"djtooltiptext\">nucleus id</span>\n",
       "                            </div></th><th><div class=\"djtooltip\">\n",
       "                                <p id=\"primary\">segment_id</p>\n",
       "                                <span class=\"djtooltiptext\">the segment id in the proofread version</span>\n",
       "                            </div></th><th><div class=\"djtooltip\">\n",
       "                                <p id=\"primary\">old_ver</p>\n",
       "                                <span class=\"djtooltiptext\">materialization version</span>\n",
       "                            </div></th><th><div class=\"djtooltip\">\n",
       "                                <p id=\"primary\">old_segment_id</p>\n",
       "                                <span class=\"djtooltiptext\">the segment id in the proofread version--</span>\n",
       "                            </div></th><th><div class=\"djtooltip\">\n",
       "                                <p id=\"primary\">finished_dendrite</p>\n",
       "                                <span class=\"djtooltiptext\">whether axon was finished cleaning</span>\n",
       "                            </div></th><th><div class=\"djtooltip\">\n",
       "                                <p id=\"primary\">finished_axon</p>\n",
       "                                <span class=\"djtooltiptext\">whether axon was finished cleaning</span>\n",
       "                            </div></th><th><div class=\"djtooltip\">\n",
       "                                <p id=\"primary\">extension_type</p>\n",
       "                                <span class=\"djtooltiptext\"></span>\n",
       "                            </div> </th> </tr> </thead>\n",
       "                <tbody> <tr> <td>88.00</td>\n",
       "<td>189149</td>\n",
       "<td>864691135855890478</td>\n",
       "<td>0.08</td>\n",
       "<td>864691134965302020</td>\n",
       "<td>True</td>\n",
       "<td>True</td>\n",
       "<td>full</td></tr><tr><td>88.00</td>\n",
       "<td>223037</td>\n",
       "<td>864691136227167569</td>\n",
       "<td>0.08</td>\n",
       "<td>864691135538120050</td>\n",
       "<td>True</td>\n",
       "<td>True</td>\n",
       "<td>full</td></tr><tr><td>88.00</td>\n",
       "<td>225498</td>\n",
       "<td>864691135753932237</td>\n",
       "<td>0.08</td>\n",
       "<td>864691135564655959</td>\n",
       "<td>True</td>\n",
       "<td>True</td>\n",
       "<td>full</td></tr><tr><td>88.00</td>\n",
       "<td>230236</td>\n",
       "<td>864691135609687047</td>\n",
       "<td>0.08</td>\n",
       "<td>864691135748568361</td>\n",
       "<td>True</td>\n",
       "<td>True</td>\n",
       "<td>full</td></tr><tr><td>88.00</td>\n",
       "<td>236197</td>\n",
       "<td>864691136903144370</td>\n",
       "<td>0.08</td>\n",
       "<td>864691134753831925</td>\n",
       "<td>True</td>\n",
       "<td>True</td>\n",
       "<td>full</td></tr><tr><td>88.00</td>\n",
       "<td>258307</td>\n",
       "<td>864691135293126156</td>\n",
       "<td>0.08</td>\n",
       "<td>864691136194042326</td>\n",
       "<td>True</td>\n",
       "<td>True</td>\n",
       "<td>full</td></tr><tr><td>88.00</td>\n",
       "<td>259167</td>\n",
       "<td>864691134988722810</td>\n",
       "<td>0.08</td>\n",
       "<td>864691135700248187</td>\n",
       "<td>True</td>\n",
       "<td>True</td>\n",
       "<td>full</td></tr><tr><td>88.00</td>\n",
       "<td>262773</td>\n",
       "<td>864691136023889209</td>\n",
       "<td>0.08</td>\n",
       "<td>864691135233108569</td>\n",
       "<td>True</td>\n",
       "<td>True</td>\n",
       "<td>full</td></tr><tr><td>88.00</td>\n",
       "<td>264870</td>\n",
       "<td>864691136951664863</td>\n",
       "<td>0.08</td>\n",
       "<td>864691135740225387</td>\n",
       "<td>True</td>\n",
       "<td>True</td>\n",
       "<td>full</td></tr><tr><td>88.00</td>\n",
       "<td>269247</td>\n",
       "<td>864691135584074360</td>\n",
       "<td>0.08</td>\n",
       "<td>864691136105498585</td>\n",
       "<td>True</td>\n",
       "<td>True</td>\n",
       "<td>full</td></tr><tr><td>88.00</td>\n",
       "<td>269380</td>\n",
       "<td>864691135974639471</td>\n",
       "<td>0.08</td>\n",
       "<td>864691134988386682</td>\n",
       "<td>True</td>\n",
       "<td>True</td>\n",
       "<td>full</td></tr><tr><td>88.00</td>\n",
       "<td>271518</td>\n",
       "<td>864691136108768952</td>\n",
       "<td>0.08</td>\n",
       "<td>864691136333776819</td>\n",
       "<td>True</td>\n",
       "<td>True</td>\n",
       "<td>full</td> </tr> </tbody>\n",
       "            </table>\n",
       "            <p>...</p>\n",
       "            <p>Total: 138</p></div>\n",
       "            "
      ],
      "text/plain": [
       "*ver      *nucleus_id    *segment_id    *old_ver    *old_segment_i *finished_dend *finished_axon *extension_typ\n",
       "+-------+ +------------+ +------------+ +---------+ +------------+ +------------+ +------------+ +------------+\n",
       "88.00     189149         86469113585589 0.08        86469113496530 True           True           full          \n",
       "88.00     223037         86469113622716 0.08        86469113553812 True           True           full          \n",
       "88.00     225498         86469113575393 0.08        86469113556465 True           True           full          \n",
       "88.00     230236         86469113560968 0.08        86469113574856 True           True           full          \n",
       "88.00     236197         86469113690314 0.08        86469113475383 True           True           full          \n",
       "88.00     258307         86469113529312 0.08        86469113619404 True           True           full          \n",
       "88.00     259167         86469113498872 0.08        86469113570024 True           True           full          \n",
       "88.00     262773         86469113602388 0.08        86469113523310 True           True           full          \n",
       "88.00     264870         86469113695166 0.08        86469113574022 True           True           full          \n",
       "88.00     269247         86469113558407 0.08        86469113610549 True           True           full          \n",
       "88.00     269380         86469113597463 0.08        86469113498838 True           True           full          \n",
       "88.00     271518         86469113610876 0.08        86469113633377 True           True           full          \n",
       "   ...\n",
       " (Total: 138)"
      ]
     },
     "execution_count": 4,
     "metadata": {},
     "output_type": "execute_result"
    }
   ],
   "source": [
    "minnie.AutoProofreadValidationSegmentMap4()"
   ]
  },
  {
   "cell_type": "code",
   "execution_count": 10,
   "metadata": {},
   "outputs": [
    {
     "data": {
      "text/plain": [
       "array([], dtype=int64)"
      ]
     },
     "execution_count": 10,
     "metadata": {},
     "output_type": "execute_result"
    }
   ],
   "source": [
    "missing_ids = (minnie.AutoProofreadValidationSegment4() - minnie.Mesh()).fetch(\"segment_id\")"
   ]
  },
  {
   "cell_type": "code",
   "execution_count": 9,
   "metadata": {},
   "outputs": [
    {
     "name": "stdout",
     "output_type": "stream",
     "text": [
      "Done in 126.781070 seconds.\n"
     ]
    },
    {
     "data": {
      "application/vnd.jupyter.widget-view+json": {
       "model_id": "ac806dfa69b048f6b1960c5857452756",
       "version_major": 2,
       "version_minor": 0
      },
      "text/plain": [
       "  0%|          | 0/4 [00:00<?, ?it/s]"
      ]
     },
     "metadata": {},
     "output_type": "display_data"
    }
   ],
   "source": [
    "du.download_and_insert_allen_meshes(missing_ids,\n",
    "                                   n_threads=4)"
   ]
  },
  {
   "cell_type": "code",
   "execution_count": 11,
   "metadata": {},
   "outputs": [
    {
     "data": {
      "text/html": [
       "\n",
       "        \n",
       "        <style type=\"text/css\">\n",
       "            .Relation{\n",
       "                border-collapse:collapse;\n",
       "            }\n",
       "            .Relation th{\n",
       "                background: #A0A0A0; color: #ffffff; padding:4px; border:#f0e0e0 1px solid;\n",
       "                font-weight: normal; font-family: monospace; font-size: 100%;\n",
       "            }\n",
       "            .Relation td{\n",
       "                padding:4px; border:#f0e0e0 1px solid; font-size:100%;\n",
       "            }\n",
       "            .Relation tr:nth-child(odd){\n",
       "                background: #ffffff;\n",
       "            }\n",
       "            .Relation tr:nth-child(even){\n",
       "                background: #f3f1ff;\n",
       "            }\n",
       "            /* Tooltip container */\n",
       "            .djtooltip {\n",
       "            }\n",
       "            /* Tooltip text */\n",
       "            .djtooltip .djtooltiptext {\n",
       "                visibility: hidden;\n",
       "                width: 120px;\n",
       "                background-color: black;\n",
       "                color: #fff;\n",
       "                text-align: center;\n",
       "                padding: 5px 0;\n",
       "                border-radius: 6px;\n",
       "                /* Position the tooltip text - see examples below! */\n",
       "                position: absolute;\n",
       "                z-index: 1;\n",
       "            }\n",
       "            #primary {\n",
       "                font-weight: bold;\n",
       "                color: black;\n",
       "            }\n",
       "\n",
       "            #nonprimary {\n",
       "                font-weight: normal;\n",
       "                color: white;\n",
       "            }\n",
       "\n",
       "            /* Show the tooltip text when you mouse over the tooltip container */\n",
       "            .djtooltip:hover .djtooltiptext {\n",
       "                visibility: visible;\n",
       "            }\n",
       "        </style>\n",
       "        \n",
       "        <b></b>\n",
       "            <div style=\"max-height:1000px;max-width:1500px;overflow:auto;\">\n",
       "            <table border=\"1\" class=\"Relation\">\n",
       "                <thead> <tr style=\"text-align: right;\"> <th> <div class=\"djtooltip\">\n",
       "                                <p id=\"primary\">segment_id</p>\n",
       "                                <span class=\"djtooltiptext\">the segment id in the proofread version</span>\n",
       "                            </div> </th> </tr> </thead>\n",
       "                <tbody> <tr> <td>864691134602307367</td></tr><tr><td>864691134640069900</td></tr><tr><td>864691134753831925</td></tr><tr><td>864691134965302020</td></tr><tr><td>864691134988385914</td></tr><tr><td>864691134988386682</td></tr><tr><td>864691135012395766</td></tr><tr><td>864691135012541942</td></tr><tr><td>864691135058565275</td></tr><tr><td>864691135065011524</td></tr><tr><td>864691135113167769</td></tr><tr><td>864691135210028736</td> </tr> </tbody>\n",
       "            </table>\n",
       "            <p>...</p>\n",
       "            <p>Total: 138</p></div>\n",
       "            "
      ],
      "text/plain": [
       "*segment_id   \n",
       "+------------+\n",
       "86469113460230\n",
       "86469113464006\n",
       "86469113475383\n",
       "86469113496530\n",
       "86469113498838\n",
       "86469113498838\n",
       "86469113501239\n",
       "86469113501254\n",
       "86469113505856\n",
       "86469113506501\n",
       "86469113511316\n",
       "86469113521002\n",
       "   ...\n",
       " (Total: 138)"
      ]
     },
     "execution_count": 11,
     "metadata": {},
     "output_type": "execute_result"
    }
   ],
   "source": [
    "minnie.AutoProofreadValidationSegment4()"
   ]
  },
  {
   "cell_type": "code",
   "execution_count": null,
   "metadata": {},
   "outputs": [],
   "source": []
  }
 ],
 "metadata": {
  "kernelspec": {
   "display_name": "Python 3",
   "language": "python",
   "name": "python3"
  },
  "language_info": {
   "codemirror_mode": {
    "name": "ipython",
    "version": 3
   },
   "file_extension": ".py",
   "mimetype": "text/x-python",
   "name": "python",
   "nbconvert_exporter": "python",
   "pygments_lexer": "ipython3",
   "version": "3.6.9"
  }
 },
 "nbformat": 4,
 "nbformat_minor": 4
}
