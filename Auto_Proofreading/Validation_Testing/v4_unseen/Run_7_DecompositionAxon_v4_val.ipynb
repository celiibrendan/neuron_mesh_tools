{
 "cells": [
  {
   "cell_type": "code",
   "execution_count": null,
   "metadata": {},
   "outputs": [],
   "source": [
    "\"\"\"\n",
    "Purpose: To Create the table that\n",
    "will store the neuron objects that have finer\n",
    "axon preprocessing\n",
    "\n",
    "\"\"\""
   ]
  },
  {
   "cell_type": "code",
   "execution_count": null,
   "metadata": {},
   "outputs": [],
   "source": [
    "import numpy as np\n",
    "import datajoint as dj\n",
    "import trimesh\n",
    "from tqdm.notebook import tqdm\n",
    "from pathlib import Path\n",
    "\n",
    "from os import sys\n",
    "sys.path.append(\"/meshAfterParty/\")\n",
    "sys.path.append(\"/meshAfterParty/meshAfterParty\")\n",
    "\n",
    "import datajoint_utils as du\n",
    "from importlib import reload"
   ]
  },
  {
   "cell_type": "code",
   "execution_count": null,
   "metadata": {},
   "outputs": [],
   "source": [
    "#so that it will have the adapter defined\n",
    "from datajoint_utils import *"
   ]
  },
  {
   "cell_type": "code",
   "execution_count": null,
   "metadata": {},
   "outputs": [],
   "source": [
    "test_mode = False"
   ]
  },
  {
   "cell_type": "markdown",
   "metadata": {},
   "source": [
    "# Debugging the contains method"
   ]
  },
  {
   "cell_type": "code",
   "execution_count": null,
   "metadata": {},
   "outputs": [],
   "source": [
    "import system_utils as su"
   ]
  },
  {
   "cell_type": "code",
   "execution_count": null,
   "metadata": {},
   "outputs": [],
   "source": [
    "import minfig\n",
    "import time\n",
    "import numpy as np\n",
    "#want to add in a wait for the connection part\n",
    "random_sleep_sec = np.random.randint(0, 200)\n",
    "print(f\"Sleeping {random_sleep_sec} sec before conneting\")\n",
    "if not test_mode:\n",
    "    time.sleep(random_sleep_sec)\n",
    "print(\"Done sleeping\")\n",
    "\n",
    "du.config_celii()\n",
    "du.set_minnie65_config_segmentation(minfig)\n",
    "du.print_minnie65_config_paths(minfig)\n",
    "\n",
    "#configuring will include the adapters\n",
    "minnie,schema = du.configure_minnie_vm()"
   ]
  },
  {
   "cell_type": "code",
   "execution_count": null,
   "metadata": {},
   "outputs": [],
   "source": [
    "from importlib import reload\n",
    "\n",
    "import neuron_utils as nru\n",
    "\n",
    "import neuron\n",
    "\n",
    "import neuron_visualizations as nviz\n",
    "\n",
    "import time\n",
    "\n",
    "import datajoint_utils as du\n",
    "\n",
    "import numpy as np\n",
    "\n",
    "import proofreading_utils as pru\n",
    "\n",
    "import preprocessing_vp2 as pre\n",
    "\n",
    "# -- For the axon classification --\n",
    "\n",
    "import neuron_searching as ns\n",
    "\n",
    "import skeleton_utils as sk\n",
    "\n",
    "import numpy_utils as nu\n",
    "\n",
    "import networkx_utils as xu\n",
    "\n",
    "import system_utils as su\n",
    "\n",
    "import classification_utils as clu\n",
    "import proofreading_utils as pru\n",
    "\n",
    "import datajoint as dj\n",
    "\n",
    "from pykdtree.kdtree import KDTree\n",
    "import trimesh_utils as tu\n",
    "import proofreading_utils as pru\n",
    "import numpy as np"
   ]
  },
  {
   "cell_type": "markdown",
   "metadata": {},
   "source": [
    "# Defining the Table"
   ]
  },
  {
   "cell_type": "code",
   "execution_count": null,
   "metadata": {},
   "outputs": [],
   "source": [
    "import meshlab\n",
    "meshlab.set_meshlab_port(current_port=None)"
   ]
  },
  {
   "cell_type": "markdown",
   "metadata": {},
   "source": [
    "# Proofreading Version"
   ]
  },
  {
   "cell_type": "code",
   "execution_count": null,
   "metadata": {},
   "outputs": [],
   "source": [
    "@schema\n",
    "class DecompositonAxonVersion(dj.Manual):\n",
    "    definition=\"\"\"\n",
    "    axon_version      : tinyint unsigned  # key by which to lookup the finer axon processing method\n",
    "    ---\n",
    "    description          : varchar(256)    # new parts of the finer axon preprocessing\n",
    "    \"\"\"\n",
    "versions=[[0,\"axon with standard meshparty\"],\n",
    "          [2,\"axon with finer resolution\"],\n",
    "         [4,\"even more fine resoution, axon skeleton, boutons, webbing\"],\n",
    "         [5,\"filtered away floating pieces near soma for stitching\"],\n",
    "         [6, \"max stitch distance = 2000, face threshold = 50\"]]\n",
    "\n",
    "dict_to_write = [dict(axon_version=k,description=v) for k,v in versions]\n",
    "DecompositonAxonVersion.insert(dict_to_write,skip_duplicates=True)\n",
    "\n",
    "DecompositonAxonVersion()"
   ]
  },
  {
   "cell_type": "code",
   "execution_count": null,
   "metadata": {},
   "outputs": [],
   "source": [
    "#minnie,schema = du.configure_minnie_vm()\n",
    "#minnie.DecompositionAxon.delete()\n",
    "#minnie.schema.external['decomposition'].delete(delete_external_files=True)"
   ]
  },
  {
   "cell_type": "code",
   "execution_count": null,
   "metadata": {},
   "outputs": [],
   "source": [
    "import numpy as np\n",
    "import time\n",
    "import classification_utils as clu\n",
    "import proofreading_utils as pru\n",
    "import axon_utils as au\n",
    "\n",
    "axon_version = au.axon_version\n",
    "\n",
    "verbose = True\n",
    "\n",
    "@schema\n",
    "class DecompositionAxon(dj.Computed):\n",
    "    definition=\"\"\"\n",
    "    -> minnie.Decomposition()\n",
    "    split_index          : tinyint unsigned             # the index of the neuron object that resulted AFTER THE SPLITTING ALGORITHM\n",
    "    -> minnie.DecompositonAxonVersion()             # the version of code used for this cell typing classification\n",
    "    ---\n",
    "    decomposition        : <decomposition> # saved neuron object with high fidelity axon\n",
    "    axon_length: double  # length (in um) of the classified axon skeleton\n",
    "    run_time=NULL : double                   # the amount of time to run (seconds)\n",
    "    \"\"\"\n",
    "                             \n",
    "    \n",
    "    #key_source = minnie.Decomposition() & minnie.NucleiSegmentsRun2() & \"segment_id=864691136540183458\"\n",
    "    key_source = (minnie.Decomposition() & \n",
    "                  du.current_validation_segment_id_restriction\n",
    "                  - du.current_validation_segment_id_exclude)\n",
    "    \n",
    "    \n",
    "\n",
    "    def make(self,key):\n",
    "        \"\"\"\n",
    "        Pseudocode:\n",
    "        1) Pull Down all the Neuron Objects associated with a segment_id\n",
    "        \n",
    "        For each neuron:\n",
    "        2) Run the full axon preprocessing\n",
    "        3) Save off the neuron\n",
    "        4) Save dict entry to list\n",
    "        \n",
    "        \n",
    "        5) Write the new entry to the table\n",
    "\n",
    "        \"\"\"\n",
    "        \n",
    "        \n",
    "        # 1) Pull Down All of the Neurons\n",
    "        segment_id = key[\"segment_id\"]\n",
    "        \n",
    "        if verbose:\n",
    "            print(f\"------- Working on Neuron {segment_id} -----\")\n",
    "        \n",
    "        whole_pass_time = time.time()\n",
    "        \n",
    "        #1) Pull Down all the Neuron Objects associated with a segment_id\n",
    "        neuron_objs,neuron_split_idxs = du.decomposition_with_spine_recalculation(segment_id)\n",
    "\n",
    "        if verbose:\n",
    "            print(f\"Number of Neurons found ={len(neuron_objs)}\")\n",
    "\n",
    "        #For each neuron:\n",
    "        dict_to_write = []\n",
    "        for split_index,neuron_obj in zip(neuron_split_idxs,neuron_objs):\n",
    "            \n",
    "            if verbose:\n",
    "                print(f\"--> Working on Split Index {split_index} -----\")\n",
    "                \n",
    "            st = time.time()\n",
    "            #Run the Axon Decomposition\n",
    "            neuron_obj_with_web = au.complete_axon_processing(neuron_obj,\n",
    "                                     verbose=True)\n",
    "            \n",
    "            save_time = time.time()\n",
    "            ret_file_path = neuron_obj_with_web.save_compressed_neuron(\n",
    "                                            output_folder=str(du.get_decomposition_path()),\n",
    "                                            #output_folder = \"./\",\n",
    "            file_name=f\"{neuron_obj_with_web.segment_id}_{split_index}_split_axon_v{au.axon_version}\",\n",
    "                                              return_file_path=True,\n",
    "                                             export_mesh=False,\n",
    "                                             suppress_output=True)\n",
    "\n",
    "            ret_file_path_str = str(ret_file_path.absolute()) + \".pbz2\"\n",
    "            \n",
    "            if verbose:\n",
    "                print(f\"ret_file_path_str = {ret_file_path_str}\")\n",
    "                print(f\"Save time = {time.time() - save_time}\")\n",
    "            \n",
    "            n_dict = dict(key,\n",
    "              split_index = split_index,\n",
    "              axon_version = au.axon_version,\n",
    "             decomposition=ret_file_path_str,\n",
    "             axon_length=neuron_obj_with_web.axon_length,\n",
    "              run_time = np.round(time.time() - st,2)\n",
    "             )\n",
    "            \n",
    "            dict_to_write.append(n_dict)\n",
    "        \n",
    "        #write the\n",
    "        self.insert(dict_to_write,skip_duplicates=True,allow_direct_insert=True)\n",
    "\n",
    "        print(f\"\\n\\n ***------ Total time for {key['segment_id']} = {time.time() - whole_pass_time} ------ ***\")"
   ]
  },
  {
   "cell_type": "markdown",
   "metadata": {},
   "source": [
    "# Running the Populate"
   ]
  },
  {
   "cell_type": "code",
   "execution_count": null,
   "metadata": {},
   "outputs": [],
   "source": [
    "curr_table = (minnie.schema.jobs & \"table_name='__decomposition_axon'\")\n",
    "(curr_table)#.delete()# & \"status='error'\")\n",
    "#curr_table.delete()\n",
    "#(curr_table & \"status='error'\") #& \"error_message='IndexError: list index out of range'\""
   ]
  },
  {
   "cell_type": "code",
   "execution_count": null,
   "metadata": {},
   "outputs": [],
   "source": [
    "import time\n",
    "pru = reload(pru)\n",
    "nru = reload(nru)\n",
    "import neuron_searching as ns\n",
    "ns = reload(ns)\n",
    "clu = reload(clu)\n",
    "du = reload(du)\n",
    "import random\n",
    "\n",
    "start_time = time.time()\n",
    "if not test_mode:\n",
    "    time.sleep(random.randint(0, 800))\n",
    "print('Populate Started')\n",
    "if not test_mode:\n",
    "    DecompositionAxon.populate(reserve_jobs=True, suppress_errors=True, order=\"random\")\n",
    "else:\n",
    "    DecompositionAxon.populate(reserve_jobs=True, suppress_errors=False,)# order=\"random\")\n",
    "print('Populate Done')\n",
    "\n",
    "print(f\"Total time for DecompositionAxon populate = {time.time() - start_time}\")\n"
   ]
  },
  {
   "cell_type": "code",
   "execution_count": null,
   "metadata": {},
   "outputs": [],
   "source": []
  }
 ],
 "metadata": {
  "kernelspec": {
   "display_name": "Python 3",
   "language": "python",
   "name": "python3"
  },
  "language_info": {
   "codemirror_mode": {
    "name": "ipython",
    "version": 3
   },
   "file_extension": ".py",
   "mimetype": "text/x-python",
   "name": "python",
   "nbconvert_exporter": "python",
   "pygments_lexer": "ipython3",
   "version": "3.6.9"
  }
 },
 "nbformat": 4,
 "nbformat_minor": 4
}
