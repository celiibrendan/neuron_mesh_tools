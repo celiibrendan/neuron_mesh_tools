{
 "cells": [
  {
   "cell_type": "code",
   "execution_count": null,
   "metadata": {},
   "outputs": [],
   "source": [
    "\"\"\"\n",
    "Purpose: To Run the proofreading of neurons in the \n",
    "test set and measure the precision and recall of the new rules\n",
    "\n",
    "Segments to look out for that had no axon\n",
    "864691135012395766 # one of the split segments files not there (split index = 1)\n",
    "864691135865584005 #soma soma merger\n",
    "864691136451113215 #it was an inhibitory neuron (part of split)\n",
    "\n",
    "\"\"\""
   ]
  },
  {
   "cell_type": "code",
   "execution_count": 1,
   "metadata": {},
   "outputs": [],
   "source": [
    "%load_ext autoreload\n",
    "%autoreload 2"
   ]
  },
  {
   "cell_type": "code",
   "execution_count": 2,
   "metadata": {},
   "outputs": [
    {
     "name": "stderr",
     "output_type": "stream",
     "text": [
      "INFO - 2021-07-06 21:44:25,458 - settings - Setting database.host to at-database.ad.bcm.edu\n",
      "INFO - 2021-07-06 21:44:25,463 - settings - Setting database.user to celiib\n",
      "INFO - 2021-07-06 21:44:25,465 - settings - Setting database.password to newceliipass\n",
      "INFO - 2021-07-06 21:44:25,471 - settings - Setting database.host to at-database.ad.bcm.edu\n",
      "INFO - 2021-07-06 21:44:25,473 - settings - Setting database.user to celiib\n",
      "INFO - 2021-07-06 21:44:25,475 - settings - Setting database.password to newceliipass\n",
      "INFO - 2021-07-06 21:44:25,479 - settings - Setting stores to {'minnie65': {'protocol': 'file', 'location': '/mnt/dj-stor01/platinum/minnie65', 'stage': '/mnt/dj-stor01/platinum/minnie65'}, 'meshes': {'protocol': 'file', 'location': '/mnt/dj-stor01/platinum/minnie65/02/meshes', 'stage': '/mnt/dj-stor01/platinum/minnie65/02/meshes'}, 'decimated_meshes': {'protocol': 'file', 'location': '/mnt/dj-stor01/platinum/minnie65/02/decimated_meshes', 'stage': '/mnt/dj-stor01/platinum/minnie65/02/decimated_meshes'}, 'skeletons': {'protocol': 'file', 'location': '/mnt/dj-stor01/platinum/minnie65/02/skeletons'}}\n",
      "INFO - 2021-07-06 21:44:25,480 - settings - Setting enable_python_native_blobs to True\n",
      "INFO - 2021-07-06 21:44:25,490 - connection - Connected celiib@at-database.ad.bcm.edu:3306\n"
     ]
    },
    {
     "name": "stdout",
     "output_type": "stream",
     "text": [
      "Connecting celiib@at-database.ad.bcm.edu:3306\n"
     ]
    },
    {
     "name": "stderr",
     "output_type": "stream",
     "text": [
      "INFO - 2021-07-06 21:44:26,335 - settings - Setting enable_python_native_blobs to True\n",
      "INFO - 2021-07-06 21:44:26,404 - settings - Setting database.host to at-database.ad.bcm.edu\n",
      "INFO - 2021-07-06 21:44:26,407 - settings - Setting database.user to celiib\n",
      "INFO - 2021-07-06 21:44:26,411 - settings - Setting database.password to newceliipass\n",
      "INFO - 2021-07-06 21:44:26,412 - settings - Setting enable_python_native_blobs to True\n",
      "INFO - 2021-07-06 21:44:27,687 - settings - Setting enable_python_native_blobs to True\n",
      "INFO - 2021-07-06 21:44:27,862 - settings - Setting database.host to at-database.ad.bcm.edu\n",
      "INFO - 2021-07-06 21:44:27,871 - settings - Setting database.user to celiib\n",
      "INFO - 2021-07-06 21:44:27,876 - settings - Setting database.password to newceliipass\n",
      "INFO - 2021-07-06 21:44:27,880 - settings - Setting database.host to at-database.ad.bcm.edu\n",
      "INFO - 2021-07-06 21:44:27,881 - settings - Setting database.user to celiib\n",
      "INFO - 2021-07-06 21:44:27,882 - settings - Setting database.password to newceliipass\n",
      "INFO - 2021-07-06 21:44:27,903 - settings - Setting enable_python_native_blobs to True\n",
      "INFO - 2021-07-06 21:44:29,366 - settings - Setting enable_python_native_blobs to True\n"
     ]
    }
   ],
   "source": [
    "import numpy as np\n",
    "import datajoint as dj\n",
    "import trimesh\n",
    "from tqdm.notebook import tqdm\n",
    "from pathlib import Path\n",
    "\n",
    "from os import sys\n",
    "sys.path.append(\"/meshAfterParty/\")\n",
    "sys.path.append(\"/meshAfterParty/meshAfterParty\")\n",
    "\n",
    "import datajoint_utils as du\n",
    "from importlib import reload"
   ]
  },
  {
   "cell_type": "code",
   "execution_count": 3,
   "metadata": {},
   "outputs": [
    {
     "name": "stderr",
     "output_type": "stream",
     "text": [
      "INFO - 2021-07-06 21:44:29,526 - settings - Setting database.host to at-database.ad.bcm.edu\n",
      "INFO - 2021-07-06 21:44:29,527 - settings - Setting database.user to celiib\n",
      "INFO - 2021-07-06 21:44:29,528 - settings - Setting database.password to newceliipass\n",
      "INFO - 2021-07-06 21:44:29,547 - settings - Setting enable_python_native_blobs to True\n",
      "INFO - 2021-07-06 21:44:30,541 - settings - Setting enable_python_native_blobs to True\n"
     ]
    }
   ],
   "source": [
    "#configuring will include the adapters\n",
    "minnie,schema = du.configure_minnie_vm()"
   ]
  },
  {
   "cell_type": "code",
   "execution_count": 4,
   "metadata": {},
   "outputs": [],
   "source": [
    "import validation_utils as vu\n",
    "import neuron_visualizations as nviz\n",
    "import neuron_utils as nru\n",
    "import proofreading_utils as pru\n",
    "import time\n",
    "import system_utils as su"
   ]
  },
  {
   "cell_type": "markdown",
   "metadata": {},
   "source": []
  },
  {
   "cell_type": "code",
   "execution_count": 5,
   "metadata": {},
   "outputs": [
    {
     "data": {
      "text/html": [
       "\n",
       "        \n",
       "        <style type=\"text/css\">\n",
       "            .Relation{\n",
       "                border-collapse:collapse;\n",
       "            }\n",
       "            .Relation th{\n",
       "                background: #A0A0A0; color: #ffffff; padding:4px; border:#f0e0e0 1px solid;\n",
       "                font-weight: normal; font-family: monospace; font-size: 100%;\n",
       "            }\n",
       "            .Relation td{\n",
       "                padding:4px; border:#f0e0e0 1px solid; font-size:100%;\n",
       "            }\n",
       "            .Relation tr:nth-child(odd){\n",
       "                background: #ffffff;\n",
       "            }\n",
       "            .Relation tr:nth-child(even){\n",
       "                background: #f3f1ff;\n",
       "            }\n",
       "            /* Tooltip container */\n",
       "            .djtooltip {\n",
       "            }\n",
       "            /* Tooltip text */\n",
       "            .djtooltip .djtooltiptext {\n",
       "                visibility: hidden;\n",
       "                width: 120px;\n",
       "                background-color: black;\n",
       "                color: #fff;\n",
       "                text-align: center;\n",
       "                padding: 5px 0;\n",
       "                border-radius: 6px;\n",
       "                /* Position the tooltip text - see examples below! */\n",
       "                position: absolute;\n",
       "                z-index: 1;\n",
       "            }\n",
       "            #primary {\n",
       "                font-weight: bold;\n",
       "                color: black;\n",
       "            }\n",
       "\n",
       "            #nonprimary {\n",
       "                font-weight: normal;\n",
       "                color: white;\n",
       "            }\n",
       "\n",
       "            /* Show the tooltip text when you mouse over the tooltip container */\n",
       "            .djtooltip:hover .djtooltiptext {\n",
       "                visibility: visible;\n",
       "            }\n",
       "        </style>\n",
       "        \n",
       "        <b></b>\n",
       "            <div style=\"max-height:1000px;max-width:1500px;overflow:auto;\">\n",
       "            <table border=\"1\" class=\"Relation\">\n",
       "                <thead> <tr style=\"text-align: right;\"> <th> <div class=\"djtooltip\">\n",
       "                                <p id=\"primary\">ver</p>\n",
       "                                <span class=\"djtooltiptext\">materialization version</span>\n",
       "                            </div></th><th><div class=\"djtooltip\">\n",
       "                                <p id=\"primary\">nucleus_id</p>\n",
       "                                <span class=\"djtooltiptext\">nucleus id</span>\n",
       "                            </div></th><th><div class=\"djtooltip\">\n",
       "                                <p id=\"primary\">segment_id</p>\n",
       "                                <span class=\"djtooltiptext\">the segment id in the proofread version</span>\n",
       "                            </div></th><th><div class=\"djtooltip\">\n",
       "                                <p id=\"primary\">old_ver</p>\n",
       "                                <span class=\"djtooltiptext\">materialization version</span>\n",
       "                            </div></th><th><div class=\"djtooltip\">\n",
       "                                <p id=\"nonprimary\">old_segment_id</p>\n",
       "                                <span class=\"djtooltiptext\">the segment id in the proofread version--</span>\n",
       "                            </div></th><th><div class=\"djtooltip\">\n",
       "                                <p id=\"nonprimary\">finished_dendrite</p>\n",
       "                                <span class=\"djtooltiptext\">whether axon was finished cleaning</span>\n",
       "                            </div></th><th><div class=\"djtooltip\">\n",
       "                                <p id=\"nonprimary\">finished_axon</p>\n",
       "                                <span class=\"djtooltiptext\">whether axon was finished cleaning</span>\n",
       "                            </div></th><th><div class=\"djtooltip\">\n",
       "                                <p id=\"nonprimary\">extension_type</p>\n",
       "                                <span class=\"djtooltiptext\"></span>\n",
       "                            </div></th><th><div class=\"djtooltip\">\n",
       "                                <p id=\"nonprimary\">n_somas</p>\n",
       "                                <span class=\"djtooltiptext\"></span>\n",
       "                            </div></th><th><div class=\"djtooltip\">\n",
       "                                <p id=\"nonprimary\">n_soma_mergers</p>\n",
       "                                <span class=\"djtooltiptext\"></span>\n",
       "                            </div></th><th><div class=\"djtooltip\">\n",
       "                                <p id=\"nonprimary\">n_glia</p>\n",
       "                                <span class=\"djtooltiptext\"></span>\n",
       "                            </div></th><th><div class=\"djtooltip\">\n",
       "                                <p id=\"nonprimary\">large_splits</p>\n",
       "                                <span class=\"djtooltiptext\"></span>\n",
       "                            </div></th><th><div class=\"djtooltip\">\n",
       "                                <p id=\"nonprimary\">notes</p>\n",
       "                                <span class=\"djtooltiptext\"></span>\n",
       "                            </div> </th> </tr> </thead>\n",
       "                <tbody> <tr> <td>88.00</td>\n",
       "<td>554775</td>\n",
       "<td>864691135593719339</td>\n",
       "<td>0.08</td>\n",
       "<td>864691136108720056</td>\n",
       "<td>True</td>\n",
       "<td>True</td>\n",
       "<td>partial</td>\n",
       "<td>1</td>\n",
       "<td>0</td>\n",
       "<td>0</td>\n",
       "<td>0</td>\n",
       "<td></td> </tr> </tbody>\n",
       "            </table>\n",
       "            \n",
       "            <p>Total: 1</p></div>\n",
       "            "
      ],
      "text/plain": [
       "*ver      *nucleus_id    *segment_id    *old_ver    old_segment_id finished_dendr finished_axon  extension_type n_somas     n_soma_mergers n_glia     large_splits   notes    \n",
       "+-------+ +------------+ +------------+ +---------+ +------------+ +------------+ +------------+ +------------+ +---------+ +------------+ +--------+ +------------+ +-------+\n",
       "88.00     554775         86469113559371 0.08        86469113610872 True           True           partial        1           0              0          0                       \n",
       " (Total: 1)"
      ]
     },
     "execution_count": 5,
     "metadata": {},
     "output_type": "execute_result"
    }
   ],
   "source": [
    "minnie.AutoProofreadValidationSegmentMap4() & \"segment_id=864691135593719339\""
   ]
  },
  {
   "cell_type": "markdown",
   "metadata": {},
   "source": [
    "# Look at certain neuron after processing"
   ]
  },
  {
   "cell_type": "code",
   "execution_count": 6,
   "metadata": {},
   "outputs": [
    {
     "name": "stdout",
     "output_type": "stream",
     "text": [
      "Decompressing Neuron in minimal output mode...please wait\n"
     ]
    }
   ],
   "source": [
    "segment_id = 864691135593719339\n",
    "curr_table = (minnie.AutoProofreadValidationScore6() & dict(segment_id=segment_id))\n",
    "decomp_path,validation_df = curr_table.fetch1(\"decomposition\",\"validation_df\")\n",
    "neuron_obj = du.filepath_to_neuron_obj(decomp_path)"
   ]
  },
  {
   "cell_type": "code",
   "execution_count": 7,
   "metadata": {},
   "outputs": [
    {
     "name": "stdout",
     "output_type": "stream",
     "text": [
      "Recieved another instance of Neuron class in init -- so just copying data\n",
      "\n",
      " Working on visualization type: mesh\n",
      "\n",
      " Working on visualization type: skeleton\n",
      "No Synapses to plot\n"
     ]
    },
    {
     "data": {
      "application/vnd.jupyter.widget-view+json": {
       "model_id": "ef4c2aa6f59442e4ad250d98d331dbc5",
       "version_major": 2,
       "version_minor": 0
      },
      "text/plain": [
       "VBox(children=(Figure(camera=PerspectiveCamera(fov=46.0, position=(0.0, 0.0, 2.0), projectionMatrix=(1.0, 0.0,…"
      ]
     },
     "metadata": {},
     "output_type": "display_data"
    }
   ],
   "source": [
    "nviz.visualize_neuron(neuron_obj,\n",
    "                     limb_branch_dict=\"all\")"
   ]
  },
  {
   "cell_type": "code",
   "execution_count": 10,
   "metadata": {},
   "outputs": [
    {
     "data": {
      "text/html": [
       "<div>\n",
       "<style scoped>\n",
       "    .dataframe tbody tr th:only-of-type {\n",
       "        vertical-align: middle;\n",
       "    }\n",
       "\n",
       "    .dataframe tbody tr th {\n",
       "        vertical-align: top;\n",
       "    }\n",
       "\n",
       "    .dataframe thead th {\n",
       "        text-align: right;\n",
       "    }\n",
       "</style>\n",
       "<table border=\"1\" class=\"dataframe\">\n",
       "  <thead>\n",
       "    <tr style=\"text-align: right;\">\n",
       "      <th></th>\n",
       "      <th>synapse_id</th>\n",
       "      <th>synapse_type</th>\n",
       "      <th>auto_valid</th>\n",
       "      <th>synapse_x</th>\n",
       "      <th>synapse_y</th>\n",
       "      <th>synapse_z</th>\n",
       "      <th>manual_valid</th>\n",
       "      <th>category</th>\n",
       "      <th>old_segment_id</th>\n",
       "      <th>new_segment_id</th>\n",
       "      <th>euclidean_distance_to_nuclei</th>\n",
       "    </tr>\n",
       "  </thead>\n",
       "  <tbody>\n",
       "    <tr>\n",
       "      <th>0</th>\n",
       "      <td>384279448</td>\n",
       "      <td>presyn</td>\n",
       "      <td>True</td>\n",
       "      <td>1252136</td>\n",
       "      <td>633752</td>\n",
       "      <td>838680</td>\n",
       "      <td>True</td>\n",
       "      <td>TP</td>\n",
       "      <td>864691136108720056</td>\n",
       "      <td>864691135593719339</td>\n",
       "      <td>127582</td>\n",
       "    </tr>\n",
       "    <tr>\n",
       "      <th>1</th>\n",
       "      <td>386239539</td>\n",
       "      <td>presyn</td>\n",
       "      <td>True</td>\n",
       "      <td>1252308</td>\n",
       "      <td>642028</td>\n",
       "      <td>838800</td>\n",
       "      <td>False</td>\n",
       "      <td>FP</td>\n",
       "      <td>864691136108720056</td>\n",
       "      <td>864691135593719339</td>\n",
       "      <td>135572</td>\n",
       "    </tr>\n",
       "    <tr>\n",
       "      <th>2</th>\n",
       "      <td>386239683</td>\n",
       "      <td>presyn</td>\n",
       "      <td>True</td>\n",
       "      <td>1253080</td>\n",
       "      <td>641440</td>\n",
       "      <td>835600</td>\n",
       "      <td>False</td>\n",
       "      <td>FP</td>\n",
       "      <td>864691136108720056</td>\n",
       "      <td>864691135593719339</td>\n",
       "      <td>134203</td>\n",
       "    </tr>\n",
       "    <tr>\n",
       "      <th>3</th>\n",
       "      <td>386239701</td>\n",
       "      <td>presyn</td>\n",
       "      <td>True</td>\n",
       "      <td>1253272</td>\n",
       "      <td>641136</td>\n",
       "      <td>835960</td>\n",
       "      <td>False</td>\n",
       "      <td>FP</td>\n",
       "      <td>864691136108720056</td>\n",
       "      <td>864691135593719339</td>\n",
       "      <td>133967</td>\n",
       "    </tr>\n",
       "    <tr>\n",
       "      <th>4</th>\n",
       "      <td>386239821</td>\n",
       "      <td>presyn</td>\n",
       "      <td>True</td>\n",
       "      <td>1254072</td>\n",
       "      <td>640432</td>\n",
       "      <td>831480</td>\n",
       "      <td>False</td>\n",
       "      <td>FP</td>\n",
       "      <td>864691136108720056</td>\n",
       "      <td>864691135593719339</td>\n",
       "      <td>132297</td>\n",
       "    </tr>\n",
       "    <tr>\n",
       "      <th>...</th>\n",
       "      <td>...</td>\n",
       "      <td>...</td>\n",
       "      <td>...</td>\n",
       "      <td>...</td>\n",
       "      <td>...</td>\n",
       "      <td>...</td>\n",
       "      <td>...</td>\n",
       "      <td>...</td>\n",
       "      <td>...</td>\n",
       "      <td>...</td>\n",
       "      <td>...</td>\n",
       "    </tr>\n",
       "    <tr>\n",
       "      <th>4556</th>\n",
       "      <td>456449855</td>\n",
       "      <td>postsyn</td>\n",
       "      <td>True</td>\n",
       "      <td>1382776</td>\n",
       "      <td>343736</td>\n",
       "      <td>771440</td>\n",
       "      <td>True</td>\n",
       "      <td>TP</td>\n",
       "      <td>864691136108720056</td>\n",
       "      <td>864691135593719339</td>\n",
       "      <td>206931</td>\n",
       "    </tr>\n",
       "    <tr>\n",
       "      <th>4557</th>\n",
       "      <td>513330591</td>\n",
       "      <td>postsyn</td>\n",
       "      <td>True</td>\n",
       "      <td>1292592</td>\n",
       "      <td>327208</td>\n",
       "      <td>923080</td>\n",
       "      <td>True</td>\n",
       "      <td>TP</td>\n",
       "      <td>864691136108720056</td>\n",
       "      <td>864691135593719339</td>\n",
       "      <td>219138</td>\n",
       "    </tr>\n",
       "    <tr>\n",
       "      <th>4558</th>\n",
       "      <td>513330627</td>\n",
       "      <td>postsyn</td>\n",
       "      <td>True</td>\n",
       "      <td>1292476</td>\n",
       "      <td>326844</td>\n",
       "      <td>923560</td>\n",
       "      <td>True</td>\n",
       "      <td>TP</td>\n",
       "      <td>864691136108720056</td>\n",
       "      <td>864691135593719339</td>\n",
       "      <td>219685</td>\n",
       "    </tr>\n",
       "    <tr>\n",
       "      <th>4559</th>\n",
       "      <td>396860706</td>\n",
       "      <td>postsyn</td>\n",
       "      <td>False</td>\n",
       "      <td>1280592</td>\n",
       "      <td>512320</td>\n",
       "      <td>906920</td>\n",
       "      <td>True</td>\n",
       "      <td>FN</td>\n",
       "      <td>864691136108720056</td>\n",
       "      <td>864691135593719339</td>\n",
       "      <td>101207</td>\n",
       "    </tr>\n",
       "    <tr>\n",
       "      <th>4560</th>\n",
       "      <td>418986543</td>\n",
       "      <td>postsyn</td>\n",
       "      <td>False</td>\n",
       "      <td>1326496</td>\n",
       "      <td>659056</td>\n",
       "      <td>777880</td>\n",
       "      <td>False</td>\n",
       "      <td>TN</td>\n",
       "      <td>864691136108720056</td>\n",
       "      <td>864691135593719339</td>\n",
       "      <td>162406</td>\n",
       "    </tr>\n",
       "  </tbody>\n",
       "</table>\n",
       "<p>4561 rows × 11 columns</p>\n",
       "</div>"
      ],
      "text/plain": [
       "     synapse_id synapse_type auto_valid synapse_x synapse_y synapse_z  \\\n",
       "0     384279448       presyn       True   1252136    633752    838680   \n",
       "1     386239539       presyn       True   1252308    642028    838800   \n",
       "2     386239683       presyn       True   1253080    641440    835600   \n",
       "3     386239701       presyn       True   1253272    641136    835960   \n",
       "4     386239821       presyn       True   1254072    640432    831480   \n",
       "...         ...          ...        ...       ...       ...       ...   \n",
       "4556  456449855      postsyn       True   1382776    343736    771440   \n",
       "4557  513330591      postsyn       True   1292592    327208    923080   \n",
       "4558  513330627      postsyn       True   1292476    326844    923560   \n",
       "4559  396860706      postsyn      False   1280592    512320    906920   \n",
       "4560  418986543      postsyn      False   1326496    659056    777880   \n",
       "\n",
       "     manual_valid category      old_segment_id      new_segment_id  \\\n",
       "0            True       TP  864691136108720056  864691135593719339   \n",
       "1           False       FP  864691136108720056  864691135593719339   \n",
       "2           False       FP  864691136108720056  864691135593719339   \n",
       "3           False       FP  864691136108720056  864691135593719339   \n",
       "4           False       FP  864691136108720056  864691135593719339   \n",
       "...           ...      ...                 ...                 ...   \n",
       "4556         True       TP  864691136108720056  864691135593719339   \n",
       "4557         True       TP  864691136108720056  864691135593719339   \n",
       "4558         True       TP  864691136108720056  864691135593719339   \n",
       "4559         True       FN  864691136108720056  864691135593719339   \n",
       "4560        False       TN  864691136108720056  864691135593719339   \n",
       "\n",
       "     euclidean_distance_to_nuclei  \n",
       "0                          127582  \n",
       "1                          135572  \n",
       "2                          134203  \n",
       "3                          133967  \n",
       "4                          132297  \n",
       "...                           ...  \n",
       "4556                       206931  \n",
       "4557                       219138  \n",
       "4558                       219685  \n",
       "4559                       101207  \n",
       "4560                       162406  \n",
       "\n",
       "[4561 rows x 11 columns]"
      ]
     },
     "execution_count": 10,
     "metadata": {},
     "output_type": "execute_result"
    }
   ],
   "source": [
    "return_validation_df_revised"
   ]
  },
  {
   "cell_type": "code",
   "execution_count": 20,
   "metadata": {
    "scrolled": false
   },
   "outputs": [
    {
     "name": "stdout",
     "output_type": "stream",
     "text": [
      "Using the mesh from the neuron object\n"
     ]
    },
    {
     "data": {
      "application/vnd.jupyter.widget-view+json": {
       "model_id": "ffd56527b10e4605826831989bc9864c",
       "version_major": 2,
       "version_minor": 0
      },
      "text/plain": [
       "VBox(children=(Figure(camera=PerspectiveCamera(fov=46.0, position=(0.0, 0.0, 2.0), projectionMatrix=(1.0, 0.0,…"
      ]
     },
     "metadata": {},
     "output_type": "display_data"
    },
    {
     "name": "stdout",
     "output_type": "stream",
     "text": [
      "TP:yellow\n",
      "TN:aqua\n",
      "FP:black\n",
      "FN:orange\n"
     ]
    }
   ],
   "source": [
    "return_validation_df_revised = vu.load_df_val_from_numpy(validation_df)\n",
    "filt_neuron = neuron_obj\n",
    "vu.plot_validation_synapses(filt_neuron.segment_id,\n",
    "                            validation_df = return_validation_df_revised,\n",
    "                             synapse_dict = None,\n",
    "                             synapses_type_to_plot = None,\n",
    "                             synapses_type_to_not_plot = None,\n",
    "                             verbose=False,\n",
    "                             synapse_type = \"presyn\",\n",
    "                             TP_color=\"yellow\",\n",
    "                            TN_color=\"aqua\",\n",
    "                            FP_color=\"black\",\n",
    "                            FN_color=\"orange\",\n",
    "                             synapse_scatter_size = 0.07,\n",
    "                             \n",
    "                             #for plotting the actual mesh parts to go along\n",
    "                             \n",
    "                             neuron_obj = filt_neuron,\n",
    "                             plot_only_axon_skeleton = True,\n",
    "                             error_mesh_color = \"red\",\n",
    "                             valid_mesh_color = \"green\",\n",
    "                             valid_skeleton_color = \"black\",\n",
    "                             mesh_alpha = 0.3,)"
   ]
  },
  {
   "cell_type": "code",
   "execution_count": null,
   "metadata": {},
   "outputs": [],
   "source": [
    "nviz.plot_"
   ]
  },
  {
   "cell_type": "code",
   "execution_count": 14,
   "metadata": {},
   "outputs": [],
   "source": [
    "synapse_scatters = [np.array([[1252136, 633752, 838680],\n",
    "       [1242728, 631752, 837680],\n",
    "       [1287472, 635736, 722120],\n",
    "       [1282904, 634112, 746760],\n",
    "       [1300944, 641880, 705160],\n",
    "       [1305008, 640912, 700720],\n",
    "       [1307536, 645904, 693360],\n",
    "       [1307432, 645072, 693320],\n",
    "       [1318208, 651952, 675520],\n",
    "       [1322616, 654208, 669800],\n",
    "       [1314840, 650700, 679760],\n",
    "       [1316632, 703852, 819240],\n",
    "       [1328920, 657496, 659760],\n",
    "       [1325448, 663304, 644800],\n",
    "       [1326040, 662368, 647600],\n",
    "       [1338344, 711664, 805000],\n",
    "       [1325496, 706912, 812840],\n",
    "       [1349344, 701032, 840760],\n",
    "       [1350848, 703888, 829320],\n",
    "       [1345632, 711864, 809840],\n",
    "       [1347320, 708784, 819920],\n",
    "       [1371776, 729792, 787440],\n",
    "       [1358936, 721040, 796360],\n",
    "       [1367768, 723472, 792320],\n",
    "       [1395496, 738896, 775600],\n",
    "       [1410876, 738596, 761840],\n",
    "       [1425752, 738096, 758720],\n",
    "       [1427960, 737584, 757080],\n",
    "       [1447564, 737496, 750920]], dtype=object), np.array([[1207664, 512916, 816080],\n",
    "       [1201136, 513808, 787160],\n",
    "       [1193592, 565232, 762000],\n",
    "       [1212360, 516656, 789120],\n",
    "       [1225968, 518968, 789000],\n",
    "       [1242080, 416440, 778240],\n",
    "       [1240712, 524568, 757840],\n",
    "       [1237116, 379108, 791200],\n",
    "       [1252416, 426448, 780520],\n",
    "       [1254016, 426184, 781160],\n",
    "       [1275296, 494648, 789960],\n",
    "       [1272352, 586600, 814840],\n",
    "       [1271504, 595032, 823720],\n",
    "       [1273160, 590368, 821880],\n",
    "       [1274856, 581832, 817720],\n",
    "       [1275296, 581312, 817600],\n",
    "       [1265912, 603040, 826240],\n",
    "       [1282088, 501664, 857400],\n",
    "       [1280456, 503832, 848640],\n",
    "       [1287856, 522336, 823120],\n",
    "       [1291192, 567648, 817080],\n",
    "       [1284908, 510312, 826880],\n",
    "       [1287560, 518192, 826720],\n",
    "       [1290536, 573576, 814280],\n",
    "       [1285056, 578056, 822400],\n",
    "       [1277096, 461024, 781400],\n",
    "       [1285080, 632420, 792200],\n",
    "       [1285328, 633248, 790960],\n",
    "       [1285696, 624064, 792120],\n",
    "       [1285800, 627424, 791800],\n",
    "       [1285916, 624084, 792480],\n",
    "       [1286136, 629164, 792680],\n",
    "       [1278516, 611100, 793880],\n",
    "       [1279448, 615592, 797000],\n",
    "       [1288728, 582616, 884760],\n",
    "       [1281032, 604168, 801960],\n",
    "       [1281912, 605968, 800920],\n",
    "       [1282864, 609688, 800320],\n",
    "       [1291584, 579272, 874480],\n",
    "       [1286628, 526460, 814320],\n",
    "       [1286724, 526744, 815040],\n",
    "       [1280704, 504384, 836760],\n",
    "       [1291680, 586560, 808240],\n",
    "       [1304944, 505136, 799440],\n",
    "       [1292044, 572928, 816200],\n",
    "       [1293040, 570184, 815880],\n",
    "       [1306584, 582056, 812920],\n",
    "       [1322288, 511312, 781600],\n",
    "       [1315640, 621872, 793480],\n",
    "       [1316280, 621644, 793240],\n",
    "       [1316496, 628224, 792840],\n",
    "       [1318240, 627600, 791920],\n",
    "       [1318392, 628572, 790680],\n",
    "       [1310392, 607368, 795200],\n",
    "       [1314544, 617752, 793920],\n",
    "       [1315328, 589024, 811720],\n",
    "       [1319120, 589800, 810440],\n",
    "       [1324120, 677644, 771840],\n",
    "       [1327608, 595160, 807440],\n",
    "       [1327844, 595100, 807440],\n",
    "       [1328576, 595528, 806520],\n",
    "       [1333656, 597848, 805720],\n",
    "       [1337096, 598416, 804400],\n",
    "       [1337304, 597392, 804840],\n",
    "       [1344080, 532944, 743560],\n",
    "       [1348852, 603396, 804240],\n",
    "       [1368392, 365936, 787760],\n",
    "       [1362048, 605880, 799560],\n",
    "       [1363968, 605968, 799360],\n",
    "       [1382704, 333392, 788560],\n",
    "       [1374288, 611944, 797120],\n",
    "       [1374448, 612000, 796440],\n",
    "       [1384240, 622104, 796720]], dtype=object), np.array([[1252308, 642028, 838800],\n",
    "       [1253080, 641440, 835600],\n",
    "       [1253272, 641136, 835960],\n",
    "       [1254072, 640432, 831480],\n",
    "       [1255952, 639936, 829360],\n",
    "       [1278048, 509816, 804920],\n",
    "       [1288112, 530568, 821280],\n",
    "       [1287000, 557752, 817480],\n",
    "       [1287184, 517920, 824880],\n",
    "       [1288780, 555040, 798600],\n",
    "       [1280856, 572864, 808880],\n",
    "       [1281336, 578224, 811920],\n",
    "       [1281264, 575376, 812120],\n",
    "       [1281360, 576144, 811960],\n",
    "       [1281488, 581680, 823400],\n",
    "       [1284472, 582072, 820560],\n",
    "       [1287504, 573568, 820600],\n",
    "       [1278992, 500832, 798120],\n",
    "       [1282000, 521600, 813880],\n",
    "       [1287880, 566152, 818720],\n",
    "       [1411600, 737224, 750040]], dtype=object)]"
   ]
  },
  {
   "cell_type": "code",
   "execution_count": 16,
   "metadata": {},
   "outputs": [
    {
     "data": {
      "application/vnd.jupyter.widget-view+json": {
       "model_id": "ecb7b3fc3379464d85852f100185e70c",
       "version_major": 2,
       "version_minor": 0
      },
      "text/plain": [
       "VBox(children=(Figure(camera=PerspectiveCamera(fov=46.0, position=(0.0, 0.0, 2.0), projectionMatrix=(1.0, 0.0,…"
      ]
     },
     "metadata": {},
     "output_type": "display_data"
    }
   ],
   "source": [
    "nviz.plot_objects(scatters=synapse_scatters,\n",
    "                  scatters_colors=[\"red\",\"blue\",\"yellow\"])"
   ]
  },
  {
   "cell_type": "code",
   "execution_count": null,
   "metadata": {},
   "outputs": [],
   "source": []
  },
  {
   "cell_type": "code",
   "execution_count": null,
   "metadata": {},
   "outputs": [],
   "source": []
  },
  {
   "cell_type": "code",
   "execution_count": null,
   "metadata": {},
   "outputs": [],
   "source": []
  },
  {
   "cell_type": "code",
   "execution_count": null,
   "metadata": {},
   "outputs": [],
   "source": []
  },
  {
   "cell_type": "markdown",
   "metadata": {},
   "source": [
    "# Getting all of the scores"
   ]
  },
  {
   "cell_type": "code",
   "execution_count": null,
   "metadata": {},
   "outputs": [],
   "source": [
    "minnie.AutoProofreadValidationScore6()"
   ]
  },
  {
   "cell_type": "code",
   "execution_count": null,
   "metadata": {},
   "outputs": [],
   "source": [
    "minnie,_ = du.configure_minnie_vm()\n",
    "validation_dfs = minnie.AutoProofreadValidationScore6().fetch(\"validation_df\")\n",
    "validation_dfs = [vu.load_df_val_from_numpy(k) for k in validation_dfs]\n",
    "validation_dfs"
   ]
  },
  {
   "cell_type": "code",
   "execution_count": null,
   "metadata": {},
   "outputs": [],
   "source": [
    "import pandas_utils as pu\n",
    "total_validation_df = pu.concat(validation_dfs)\n",
    "total_validation_df\n",
    "vu.synapse_validation_df_to_score_plot(total_validation_df)"
   ]
  },
  {
   "cell_type": "markdown",
   "metadata": {},
   "source": [
    "# Looking at a certain neuron"
   ]
  },
  {
   "cell_type": "code",
   "execution_count": null,
   "metadata": {},
   "outputs": [],
   "source": [
    "#segment_id = 864691135945413668\n",
    "#segment_id = 864691136951664863\n",
    "segment_id = 864691135740225387\n",
    "segment_id = 864691136008425132\n",
    "\n",
    "segment_id = 864691136311791677\n",
    "neuron_objs,neuron_split_idxs = du.decomposition_with_spine_recalculation(segment_id)"
   ]
  },
  {
   "cell_type": "code",
   "execution_count": null,
   "metadata": {},
   "outputs": [],
   "source": [
    "neuron_obj = neuron_objs[0]\n",
    "print(neuron_obj.axon_limb_branch_dict)\n",
    "nviz.plot_axon(neuron_obj)"
   ]
  },
  {
   "cell_type": "code",
   "execution_count": null,
   "metadata": {
    "scrolled": false
   },
   "outputs": [],
   "source": [
    "inh_exc_class = \"excitatory\"\n",
    "plot_limb_branch_filter_with_disconnect_effect = True\n",
    "perform_axon_classification = False\n",
    "verbose = True\n",
    "filtered_neuron,filtering_info = pru.proofread_neuron_class_predetermined(neuron_obj,\n",
    "        inh_exc_class=inh_exc_class,\n",
    "        perform_axon_classification=False,\n",
    "\n",
    "        plot_limb_branch_filter_with_disconnect_effect = plot_limb_branch_filter_with_disconnect_effect,\n",
    "\n",
    "\n",
    "        plot_final_filtered_neuron = False,\n",
    "\n",
    "        #arguments for the axon high fidelity:\n",
    "        plot_new_axon_limb_correspondence = False,\n",
    "        plot_new_limb_object = False,\n",
    "        plot_final_revised_axon_branch = False,\n",
    "\n",
    "        verbose = False,\n",
    "        verbose_outline = verbose,\n",
    "        #filter_list = filter_list\n",
    "        filter_list = pru.v6_exc_filters(),\n",
    "        #filter_list = [pru.exc_high_degree_branching_filter_v6],\n",
    "        high_fidelity_axon_on_excitatory = perform_axon_classification,\n",
    "                                                                             )"
   ]
  },
  {
   "cell_type": "code",
   "execution_count": null,
   "metadata": {},
   "outputs": [],
   "source": [
    "debug"
   ]
  },
  {
   "cell_type": "code",
   "execution_count": null,
   "metadata": {},
   "outputs": [],
   "source": [
    "d_skeletons_resized = [sk.resize_skeleton_branch(k,segment_width=50)\n",
    "                          for k in downstream_skeletons]\n",
    "joining_endpoint_1 = np.array([822357. , 785765.2, 939390.7])\n",
    "joining_endpoint_1\n",
    "comparison_distance = 2000"
   ]
  },
  {
   "cell_type": "code",
   "execution_count": null,
   "metadata": {},
   "outputs": [],
   "source": [
    "d_skeletons_restricted = [sk.restrict_skeleton_to_distance_from_coordinate(k,\n",
    "                                             coordinate = joining_endpoint_1,\n",
    "                                             distance_threshold = comparison_distance+1,)\n",
    "                              for k in d_skeletons_resized]"
   ]
  },
  {
   "cell_type": "code",
   "execution_count": null,
   "metadata": {},
   "outputs": [],
   "source": []
  },
  {
   "cell_type": "code",
   "execution_count": null,
   "metadata": {},
   "outputs": [],
   "source": []
  },
  {
   "cell_type": "code",
   "execution_count": null,
   "metadata": {},
   "outputs": [],
   "source": [
    "import system_utils as su\n",
    "downstream_skeletons = su.decompress_pickle(\"downstream_skeletons\")"
   ]
  },
  {
   "cell_type": "code",
   "execution_count": null,
   "metadata": {},
   "outputs": [],
   "source": [
    "import skeleton_utils as sk\n",
    "sk.shared_coordiantes(list(downstream_skeletons),\n",
    "                             return_one=True)"
   ]
  },
  {
   "cell_type": "code",
   "execution_count": null,
   "metadata": {},
   "outputs": [],
   "source": [
    "nviz.plot_objects(skeletons=downstream_skeletons,\n",
    "                 scatters=[np.array([822357. , 785765.2, 939390.7])])"
   ]
  },
  {
   "cell_type": "code",
   "execution_count": null,
   "metadata": {},
   "outputs": [],
   "source": [
    "sk.find_skeleton_endpoint_coordinates(downstream_skeletons[0]),sk.find_skeleton_endpoint_coordinates(downstream_skeletons[1])"
   ]
  },
  {
   "cell_type": "code",
   "execution_count": null,
   "metadata": {},
   "outputs": [],
   "source": []
  },
  {
   "cell_type": "code",
   "execution_count": null,
   "metadata": {},
   "outputs": [],
   "source": [
    "limb_obj = neuron_obj[neuron_obj.axon_limb_idx]\n",
    "limb_obj"
   ]
  },
  {
   "cell_type": "code",
   "execution_count": null,
   "metadata": {},
   "outputs": [],
   "source": [
    "nru.upstream_endpoint(limb_obj,402)"
   ]
  },
  {
   "cell_type": "code",
   "execution_count": null,
   "metadata": {},
   "outputs": [],
   "source": [
    "nru.downstream_endpoint(limb_obj,402)"
   ]
  },
  {
   "cell_type": "code",
   "execution_count": null,
   "metadata": {},
   "outputs": [],
   "source": [
    "nru.restrict_skeleton_from_start_plus_offset_upstream(limb_obj,\n",
    "                                                      402,\n",
    "                                                      verbose=True\n",
    "                                                     )"
   ]
  },
  {
   "cell_type": "code",
   "execution_count": null,
   "metadata": {},
   "outputs": [],
   "source": []
  },
  {
   "cell_type": "code",
   "execution_count": null,
   "metadata": {},
   "outputs": [],
   "source": [
    "import system_utils as su"
   ]
  },
  {
   "cell_type": "code",
   "execution_count": null,
   "metadata": {},
   "outputs": [],
   "source": [
    "restrict_skeleton_from_start_plus_offset_downstream"
   ]
  },
  {
   "cell_type": "code",
   "execution_count": null,
   "metadata": {},
   "outputs": [],
   "source": [
    "test_sk = su.decompress_pickle(\"test_sk.pbz2\")"
   ]
  },
  {
   "cell_type": "code",
   "execution_count": null,
   "metadata": {},
   "outputs": [],
   "source": [
    ".endpoints"
   ]
  },
  {
   "cell_type": "code",
   "execution_count": null,
   "metadata": {},
   "outputs": [],
   "source": [
    "branch_obj = neuron_obj[0][20]\n",
    "nviz.plot_objects(skeletons=[branch_obj.skeleton],\n",
    "                  meshes=[branch_obj.mesh],\n",
    "                 scatters=[branch_obj.endpoints])"
   ]
  },
  {
   "cell_type": "code",
   "execution_count": null,
   "metadata": {},
   "outputs": [],
   "source": []
  },
  {
   "cell_type": "code",
   "execution_count": null,
   "metadata": {},
   "outputs": [],
   "source": []
  },
  {
   "cell_type": "code",
   "execution_count": null,
   "metadata": {},
   "outputs": [],
   "source": [
    "import error_detection as ed\n",
    "arg_dict = dict(child_width_maximum = 75,\n",
    "                                        parent_width_maximum = 75,\n",
    "                                         axon_only = True,\n",
    "                                         error_if_web_is_none=True,\n",
    "                                         web_size_threshold=120,\n",
    "                                        web_size_type=\"ray_trace_median\",\n",
    "                                        web_above_threshold = True,\n",
    "                                           ignore_if_child_mesh_not_touching = True )\n",
    "ed.webbing_t_errors_limb_branch_dict(neuron_obj,verbose = True,plot_web_errors = True,**arg_dict)"
   ]
  },
  {
   "cell_type": "code",
   "execution_count": null,
   "metadata": {},
   "outputs": [],
   "source": [
    "limb_obj = neuron_obj[0]"
   ]
  },
  {
   "cell_type": "code",
   "execution_count": null,
   "metadata": {},
   "outputs": [],
   "source": [
    "import trimesh_utils as tu\n",
    "import numpy_utils as nu"
   ]
  },
  {
   "cell_type": "code",
   "execution_count": null,
   "metadata": {},
   "outputs": [],
   "source": [
    "downstream_nodes = [10,148]\n",
    "upstream_node = 147\n",
    "\n",
    "upstream_node = 13\n",
    "\n",
    "\n",
    "downstream_nodes_mesh_connected(limb_obj,147,\n",
    "                               verbose=True)"
   ]
  },
  {
   "cell_type": "code",
   "execution_count": null,
   "metadata": {},
   "outputs": [],
   "source": [
    "intersect_array = nu.intersect2d([],np.array([[0,1],[0,2]]))\n",
    "intersect_array"
   ]
  },
  {
   "cell_type": "code",
   "execution_count": null,
   "metadata": {},
   "outputs": [],
   "source": [
    "downstream_nodes"
   ]
  },
  {
   "cell_type": "code",
   "execution_count": null,
   "metadata": {},
   "outputs": [],
   "source": [
    "meshes=[limb_obj[k].mesh for k in downstream_nodes + [upstream_node]]\n",
    "nviz.plot_objects(meshes=meshes)"
   ]
  },
  {
   "cell_type": "code",
   "execution_count": null,
   "metadata": {},
   "outputs": [],
   "source": [
    "nviz.plot_branch_groupings(limb_obj,\n",
    "                          [[upstream_node],downstream_nodes],)"
   ]
  },
  {
   "cell_type": "code",
   "execution_count": null,
   "metadata": {},
   "outputs": [],
   "source": [
    "minnie.AutoProofreadValidationSegmentMap4() & dict(segment_id=864691136951664863)"
   ]
  },
  {
   "cell_type": "code",
   "execution_count": null,
   "metadata": {},
   "outputs": [],
   "source": []
  },
  {
   "cell_type": "markdown",
   "metadata": {},
   "source": [
    "# Runnig the validation"
   ]
  },
  {
   "cell_type": "code",
   "execution_count": null,
   "metadata": {},
   "outputs": [],
   "source": [
    "\"\"\"\n",
    "Psueodocode: \n",
    "1) Pull down the segment ids of the valid neurons\n",
    "\n",
    "For each neuron\n",
    "1) Dwonload the neuron object\n",
    "2) Run the Proofreading\n",
    "3) Print out the validation plot\n",
    "4) Save the validation df\n",
    "\n",
    "\"\"\""
   ]
  },
  {
   "cell_type": "code",
   "execution_count": null,
   "metadata": {},
   "outputs": [],
   "source": [
    "\"\"\"\n",
    "Pseudocode: \n",
    "1) Check if there are multiple somas associated with that segment\n",
    "\n",
    "\"\"\""
   ]
  },
  {
   "cell_type": "code",
   "execution_count": null,
   "metadata": {},
   "outputs": [],
   "source": [
    "axon_segs = dj.U(\"segment_id\") & (minnie.DecompositionAxon() \n",
    "                      & minnie.AutoProofreadValidationSegment4() - minnie.AutoProofreadValidationSegmentExclude4() )\n",
    "axon_segs"
   ]
  },
  {
   "cell_type": "code",
   "execution_count": null,
   "metadata": {},
   "outputs": [],
   "source": [
    "\"\"\"\n",
    "Pseudocode: \n",
    "1) Find the coordinates of the nucleus for that new segment\n",
    "2) Make sure that same number of DecompositionAxon objects as in Decomposition\n",
    "3) Pick the neuron object that is closest and within a certain range of the nucleus\n",
    "4) Download the neuron object\n",
    "5) Run the proofreading\n",
    "6) Save off the validation df\n",
    "\"\"\""
   ]
  },
  {
   "cell_type": "code",
   "execution_count": null,
   "metadata": {},
   "outputs": [],
   "source": [
    "minnie.AutoProofreadValidationScore5()"
   ]
  },
  {
   "cell_type": "code",
   "execution_count": null,
   "metadata": {},
   "outputs": [],
   "source": [
    "bad_postsyn_table = (minnie.AutoProofreadValidationScore5() & \"post_fn>200\")\n",
    "bad_postsyn_table_filt =  (bad_postsyn_table * minnie.AutoProofreadValidationSegmentMap4()) & axon_segs.proj(old_segment_id=\"segment_id\")\n",
    "#bad_postsyn_seg_ids = bad_postsyn_table.fetch(\"segment_id\")\n",
    "bad_postsyn_table_filt.proj(\"post_fn\")"
   ]
  },
  {
   "cell_type": "code",
   "execution_count": null,
   "metadata": {},
   "outputs": [],
   "source": [
    "minnie.AutoProofreadValidationScore6()"
   ]
  },
  {
   "cell_type": "code",
   "execution_count": null,
   "metadata": {},
   "outputs": [],
   "source": [
    "import datajoint as dj\n",
    "dj.config[\"display.limit\"] = 30\n",
    "bad_presyn_table = (minnie.AutoProofreadValidationScore5() & \"pre_fp>10\")\n",
    "bad_presyn_seg_ids = bad_presyn_table.fetch(\"segment_id\")\n",
    "bad_presyn_table"
   ]
  },
  {
   "cell_type": "code",
   "execution_count": null,
   "metadata": {},
   "outputs": [],
   "source": [
    "# multi_soma_keys = (minnie.AutoProofreadValidationSegmentMap4() & \"n_somas>1\"\n",
    "#                       & minnie.DecompositionAxon.proj(old_segment_id=\"segment_id\")\n",
    "#                   & dict(segment_id = 864691135415710906)).proj().fetch(as_dict=True)\n",
    "# key = multi_soma_keys[0]\n",
    "# key"
   ]
  },
  {
   "cell_type": "code",
   "execution_count": null,
   "metadata": {},
   "outputs": [],
   "source": [
    "segment_id = 864691135117980637\n",
    "key = dict(segment_id=segment_id)"
   ]
  },
  {
   "cell_type": "code",
   "execution_count": null,
   "metadata": {
    "scrolled": false
   },
   "outputs": [],
   "source": [
    "verbose = True\n",
    "\n",
    "segment_id=key[\"segment_id\"]\n",
    "print(f\"\\n-- Working on neuron {segment_id}---\")\n",
    "\n",
    "segment_map_dict = (minnie.AutoProofreadValidationSegmentMap4() & key).fetch1()\n",
    "\n",
    "#1) Find the coordinates of the nucleus for that new segment\n",
    "nucleus_id = segment_map_dict[\"nucleus_id\"]\n",
    "nuc_center_coords = du.nuclei_id_to_nucleus_centers(nucleus_id)\n",
    "if verbose:\n",
    "    print(f\"nuc_center_coords = {nuc_center_coords}\")\n",
    "\n",
    "#2) Make sure that same number of DecompositionAxon objects as in Decomposition\n",
    "old_segment_id = segment_map_dict[\"old_segment_id\"]\n",
    "if verbose:\n",
    "    print(f\"old_segment_id = {old_segment_id}\")\n",
    "    \n",
    "search_key = dict(segment_id=old_segment_id)\n",
    "n_somas = len(minnie.BaylorSegmentCentroid() & search_key)\n",
    "n_decomp_axon = len(minnie.DecompositionAxon() & search_key)\n",
    "if verbose:\n",
    "    print(f\"# of somas = {n_somas} and # of DecompositionAxon = {n_decomp_axon}\")\n",
    "    \n",
    "\n",
    "if n_somas != n_decomp_axon:\n",
    "    raise Exception(f\"# of somas = {n_somas} NOT MATCH # of DecompositionAxon = {n_decomp_axon}\")\n",
    "    \n",
    "#3) Pick the neuron object that is closest and within a certain range of the nucleus\n",
    "neuron_objs,split_idxs = du.decomposition_with_spine_recalculation(old_segment_id)\n",
    "if n_somas > 1:\n",
    "    \"\"\"\n",
    "    Finding the closest soma:\n",
    "    1) For each neuron object get the mesh center of the soma object\n",
    "    2) Find the distance of each from the nucleus center\n",
    "    3) Find the arg min distance and make sure within threshold\n",
    "    4) Mark the current neuron and the current split index\n",
    "    \"\"\"\n",
    "    nuclei_distance_threshold = 15000\n",
    "\n",
    "    soma_center_coords = [k[\"S0\"].mesh_center for k in neuron_objs]\n",
    "    soma_distances = [np.linalg.norm(k-nuc_center_coords) for k in soma_center_coords]\n",
    "    min_dist_arg = np.argmin(soma_distances)\n",
    "    min_dist = soma_distances[min_dist_arg]\n",
    "\n",
    "    if verbose:\n",
    "        print(f\"soma_distances = {soma_distances}\")\n",
    "        print(f\"min_dist_arg = {min_dist_arg}, with min distance = {min_dist}\")\n",
    "\n",
    "    if min_dist > nuclei_distance_threshold:\n",
    "        raise Exception(f\"min_dist ({min_dist}) larger than nuclei_distance_threshold ({nuclei_distance_threshold})\")\n",
    "\n",
    "    neuron_obj = neuron_objs[min_dist_arg]\n",
    "    split_index = split_idxs[min_dist_arg]\n",
    "\n",
    "    if verbose:\n",
    "        print(f\"Winning split_index = {split_index}\")\n",
    "else:\n",
    "    split_index = split_idxs[0]\n",
    "    neuron_obj = neuron_objs[0]\n",
    "    \n",
    "    \n",
    "import proofreading_utils as pru\n",
    "import validation_utils as vu\n",
    "(filt_neuron,\n",
    "     return_synapse_df_revised,\n",
    "     return_synapse_df_errors,\n",
    "    return_validation_df_revised,\n",
    "    return_validation_df_extension) =  vu.filtered_neuron_score(neuron_obj = neuron_obj,   \n",
    "                        filter_list = pru.v5_exc_filters(),\n",
    "                        plot_limb_branch_filter_with_disconnect_effect = True,\n",
    "                        verbose = True,\n",
    "                        plot_score=False,\n",
    "                        nucleus_id = nucleus_id,\n",
    "                        return_synapse_df_errors=True,\n",
    "                        return_validation_df_extension = True,                                        \n",
    "                        split_index=split_index)\n",
    "    "
   ]
  },
  {
   "cell_type": "code",
   "execution_count": null,
   "metadata": {},
   "outputs": [],
   "source": [
    "vu.synapse_validation_df_to_score_plot(return_validation_df_revised)"
   ]
  },
  {
   "cell_type": "code",
   "execution_count": null,
   "metadata": {},
   "outputs": [],
   "source": [
    "nviz.plot_axon(filt_neuron)"
   ]
  },
  {
   "cell_type": "code",
   "execution_count": null,
   "metadata": {},
   "outputs": [],
   "source": [
    "# import neuron_visualizations as nviz\n",
    "# nviz.visualize_neuron(filt_neuron,\n",
    "#                       limb_branch_dict=\"all\")"
   ]
  },
  {
   "cell_type": "code",
   "execution_count": null,
   "metadata": {
    "scrolled": false
   },
   "outputs": [],
   "source": [
    "minnie.AutoProofreadValidationSegmentMap4() & key"
   ]
  },
  {
   "cell_type": "code",
   "execution_count": null,
   "metadata": {},
   "outputs": [],
   "source": [
    "filt_neuron.segment_id"
   ]
  },
  {
   "cell_type": "code",
   "execution_count": null,
   "metadata": {
    "scrolled": false
   },
   "outputs": [],
   "source": [
    "vu.plot_validation_synapses(filt_neuron.segment_id,\n",
    "                            validation_df = return_validation_df_revised,\n",
    "                             synapse_dict = None,\n",
    "                             synapses_type_to_plot = None,\n",
    "                             synapses_type_to_not_plot = None,\n",
    "                             verbose=False,\n",
    "                             synapse_type = \"presyn\",\n",
    "                             TP_color=\"yellow\",\n",
    "                            TN_color=\"aqua\",\n",
    "                            FP_color=\"black\",\n",
    "                            FN_color=\"orange\",\n",
    "                             synapse_scatter_size = 0.15,\n",
    "                             \n",
    "                             #for plotting the actual mesh parts to go along\n",
    "                             \n",
    "                             neuron_obj = filt_neuron,\n",
    "                             plot_only_axon_skeleton = True,\n",
    "                             error_mesh_color = \"red\",\n",
    "                             valid_mesh_color = \"green\",\n",
    "                             valid_skeleton_color = \"black\",\n",
    "                             mesh_alpha = 0.3,)"
   ]
  },
  {
   "cell_type": "markdown",
   "metadata": {},
   "source": [
    "# How to attach the synapses"
   ]
  },
  {
   "cell_type": "code",
   "execution_count": null,
   "metadata": {},
   "outputs": [],
   "source": [
    "beginning_direct_connections = du.segment_id_to_synapse_table(filt_neuron.segment_id,\n",
    "                                                                         validation=True)\n",
    "beginning_direct_connections"
   ]
  },
  {
   "cell_type": "code",
   "execution_count": null,
   "metadata": {},
   "outputs": [],
   "source": []
  },
  {
   "cell_type": "code",
   "execution_count": null,
   "metadata": {},
   "outputs": [],
   "source": [
    "864691135584074360"
   ]
  },
  {
   "cell_type": "code",
   "execution_count": null,
   "metadata": {},
   "outputs": [],
   "source": []
  },
  {
   "cell_type": "markdown",
   "metadata": {},
   "source": [
    "# Debugging the Stitch Distance"
   ]
  },
  {
   "cell_type": "code",
   "execution_count": null,
   "metadata": {},
   "outputs": [],
   "source": [
    "incorp_floating_pieces = nru.non_soma_touching_meshes_stitched(filt_neuron)\n",
    "incorp_floating_pieces"
   ]
  },
  {
   "cell_type": "code",
   "execution_count": null,
   "metadata": {},
   "outputs": [],
   "source": [
    "nviz.plot_objects(meshes = incorp_floating_pieces)"
   ]
  },
  {
   "cell_type": "code",
   "execution_count": null,
   "metadata": {},
   "outputs": [],
   "source": [
    "nru.filter_branches_by_restriction_mesh(filt_neuron[2],\n",
    "                                       restriction_mesh=incorp_floating_pieces[0])"
   ]
  },
  {
   "cell_type": "code",
   "execution_count": null,
   "metadata": {},
   "outputs": [],
   "source": [
    "[k for k in dir(nru) if \"mesh\" in k]"
   ]
  },
  {
   "cell_type": "code",
   "execution_count": null,
   "metadata": {},
   "outputs": [],
   "source": [
    "nru.find_parent_child_skeleton_angle(filt_neuron[2],68,\n",
    "                                     comparison_distance=5000,\n",
    "                                     offset=0,\n",
    "                                    plot_extracted_skeletons=True)"
   ]
  },
  {
   "cell_type": "code",
   "execution_count": null,
   "metadata": {},
   "outputs": [],
   "source": [
    "nru.upstream_node(filt_neuron[2],68)"
   ]
  },
  {
   "cell_type": "code",
   "execution_count": null,
   "metadata": {},
   "outputs": [],
   "source": [
    "nviz.plot_limb_path(filt_neuron[2],[68])"
   ]
  },
  {
   "cell_type": "code",
   "execution_count": null,
   "metadata": {},
   "outputs": [],
   "source": [
    "nviz.visualize_neuron_specific_limb(filt_neuron,\n",
    "                                   filt_neuron.axon_limb_idx)"
   ]
  },
  {
   "cell_type": "code",
   "execution_count": null,
   "metadata": {},
   "outputs": [],
   "source": [
    "minnie.AutoProofreadStats5()"
   ]
  },
  {
   "cell_type": "code",
   "execution_count": null,
   "metadata": {},
   "outputs": [],
   "source": [
    "du.plot_proofread_neuron(864691135517422218,\n",
    "                         plot_proofreading_synapses=True,\n",
    "                        plot_errored_faces=True)"
   ]
  },
  {
   "cell_type": "code",
   "execution_count": null,
   "metadata": {},
   "outputs": [],
   "source": []
  },
  {
   "cell_type": "markdown",
   "metadata": {},
   "source": [
    "# Checking the long Axons"
   ]
  },
  {
   "cell_type": "code",
   "execution_count": null,
   "metadata": {},
   "outputs": [],
   "source": [
    "du.proofreading_neurons_table() & \"axon_length>2000\" & \"spine_category='densely_spined'\""
   ]
  },
  {
   "cell_type": "code",
   "execution_count": null,
   "metadata": {},
   "outputs": [],
   "source": [
    "du.plot_proofread_neuron(864691134917429770,\n",
    "                        plot_proofreading_synapses=True)"
   ]
  },
  {
   "cell_type": "code",
   "execution_count": null,
   "metadata": {},
   "outputs": [],
   "source": [
    "import ipyvolume as ipv\n",
    "ipv.gcf()"
   ]
  },
  {
   "cell_type": "code",
   "execution_count": null,
   "metadata": {},
   "outputs": [],
   "source": [
    "ipv.pylab.save(\"864691134917429770_proof_v5.html\")"
   ]
  },
  {
   "cell_type": "code",
   "execution_count": null,
   "metadata": {},
   "outputs": [],
   "source": [
    "du.plot_proofread_mesh_skeleton(864691134917429770)"
   ]
  },
  {
   "cell_type": "code",
   "execution_count": null,
   "metadata": {},
   "outputs": [],
   "source": [
    "minnie,_ = du.configure_minnie_vm()\n",
    "from importlib import reload\n",
    "du = reload(du)"
   ]
  },
  {
   "cell_type": "code",
   "execution_count": null,
   "metadata": {},
   "outputs": [],
   "source": []
  },
  {
   "cell_type": "code",
   "execution_count": null,
   "metadata": {},
   "outputs": [],
   "source": []
  },
  {
   "cell_type": "code",
   "execution_count": null,
   "metadata": {},
   "outputs": [],
   "source": []
  },
  {
   "cell_type": "code",
   "execution_count": null,
   "metadata": {},
   "outputs": [],
   "source": []
  }
 ],
 "metadata": {
  "kernelspec": {
   "display_name": "Python 3",
   "language": "python",
   "name": "python3"
  },
  "language_info": {
   "codemirror_mode": {
    "name": "ipython",
    "version": 3
   },
   "file_extension": ".py",
   "mimetype": "text/x-python",
   "name": "python",
   "nbconvert_exporter": "python",
   "pygments_lexer": "ipython3",
   "version": "3.6.9"
  }
 },
 "nbformat": 4,
 "nbformat_minor": 4
}
