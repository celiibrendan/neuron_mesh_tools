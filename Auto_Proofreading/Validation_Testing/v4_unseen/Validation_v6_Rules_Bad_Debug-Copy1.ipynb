{
 "cells": [
  {
   "cell_type": "code",
   "execution_count": 1,
   "metadata": {},
   "outputs": [
    {
     "data": {
      "text/plain": [
       "'\\nPurpose: To Run the proofreading of neurons in the \\ntest set and measure the precision and recall of the new rules\\n\\nSegments to look out for that had no axon\\n864691135012395766 # one of the split segments files not there (split index = 1)\\n864691135865584005 #soma soma merger\\n864691136451113215 #it was an inhibitory neuron (part of split)\\n\\n'"
      ]
     },
     "execution_count": 1,
     "metadata": {},
     "output_type": "execute_result"
    }
   ],
   "source": [
    "\"\"\"\n",
    "Purpose: To Run the proofreading of neurons in the \n",
    "test set and measure the precision and recall of the new rules\n",
    "\n",
    "Segments to look out for that had no axon\n",
    "864691135012395766 # one of the split segments files not there (split index = 1)\n",
    "864691135865584005 #soma soma merger\n",
    "864691136451113215 #it was an inhibitory neuron (part of split)\n",
    "\n",
    "\"\"\""
   ]
  },
  {
   "cell_type": "code",
   "execution_count": 2,
   "metadata": {},
   "outputs": [],
   "source": [
    "%load_ext autoreload\n",
    "%autoreload 2"
   ]
  },
  {
   "cell_type": "code",
   "execution_count": 3,
   "metadata": {},
   "outputs": [
    {
     "name": "stderr",
     "output_type": "stream",
     "text": [
      "INFO - 2021-07-09 00:23:16,579 - settings - Setting database.host to at-database.ad.bcm.edu\n",
      "INFO - 2021-07-09 00:23:16,581 - settings - Setting database.user to celiib\n",
      "INFO - 2021-07-09 00:23:16,582 - settings - Setting database.password to newceliipass\n",
      "INFO - 2021-07-09 00:23:16,583 - settings - Setting database.host to at-database.ad.bcm.edu\n",
      "INFO - 2021-07-09 00:23:16,584 - settings - Setting database.user to celiib\n",
      "INFO - 2021-07-09 00:23:16,585 - settings - Setting database.password to newceliipass\n",
      "INFO - 2021-07-09 00:23:16,589 - settings - Setting stores to {'minnie65': {'protocol': 'file', 'location': '/mnt/dj-stor01/platinum/minnie65', 'stage': '/mnt/dj-stor01/platinum/minnie65'}, 'meshes': {'protocol': 'file', 'location': '/mnt/dj-stor01/platinum/minnie65/02/meshes', 'stage': '/mnt/dj-stor01/platinum/minnie65/02/meshes'}, 'decimated_meshes': {'protocol': 'file', 'location': '/mnt/dj-stor01/platinum/minnie65/02/decimated_meshes', 'stage': '/mnt/dj-stor01/platinum/minnie65/02/decimated_meshes'}, 'skeletons': {'protocol': 'file', 'location': '/mnt/dj-stor01/platinum/minnie65/02/skeletons'}}\n",
      "INFO - 2021-07-09 00:23:16,590 - settings - Setting enable_python_native_blobs to True\n",
      "INFO - 2021-07-09 00:23:16,600 - connection - Connected celiib@at-database.ad.bcm.edu:3306\n"
     ]
    },
    {
     "name": "stdout",
     "output_type": "stream",
     "text": [
      "Connecting celiib@at-database.ad.bcm.edu:3306\n"
     ]
    },
    {
     "name": "stderr",
     "output_type": "stream",
     "text": [
      "INFO - 2021-07-09 00:23:17,250 - settings - Setting enable_python_native_blobs to True\n",
      "INFO - 2021-07-09 00:23:17,302 - settings - Setting database.host to at-database.ad.bcm.edu\n",
      "INFO - 2021-07-09 00:23:17,303 - settings - Setting database.user to celiib\n",
      "INFO - 2021-07-09 00:23:17,304 - settings - Setting database.password to newceliipass\n",
      "INFO - 2021-07-09 00:23:17,305 - settings - Setting enable_python_native_blobs to True\n",
      "INFO - 2021-07-09 00:23:17,989 - settings - Setting enable_python_native_blobs to True\n",
      "INFO - 2021-07-09 00:23:18,185 - settings - Setting database.host to at-database.ad.bcm.edu\n",
      "INFO - 2021-07-09 00:23:18,186 - settings - Setting database.user to celiib\n",
      "INFO - 2021-07-09 00:23:18,187 - settings - Setting database.password to newceliipass\n",
      "INFO - 2021-07-09 00:23:18,188 - settings - Setting database.host to at-database.ad.bcm.edu\n",
      "INFO - 2021-07-09 00:23:18,189 - settings - Setting database.user to celiib\n",
      "INFO - 2021-07-09 00:23:18,190 - settings - Setting database.password to newceliipass\n",
      "INFO - 2021-07-09 00:23:18,193 - settings - Setting enable_python_native_blobs to True\n",
      "INFO - 2021-07-09 00:23:18,967 - settings - Setting enable_python_native_blobs to True\n"
     ]
    }
   ],
   "source": [
    "import numpy as np\n",
    "import datajoint as dj\n",
    "import trimesh\n",
    "from tqdm.notebook import tqdm\n",
    "from pathlib import Path\n",
    "\n",
    "from os import sys\n",
    "sys.path.append(\"/meshAfterParty/\")\n",
    "sys.path.append(\"/meshAfterParty/meshAfterParty\")\n",
    "\n",
    "import datajoint_utils as du\n",
    "from importlib import reload"
   ]
  },
  {
   "cell_type": "code",
   "execution_count": 4,
   "metadata": {},
   "outputs": [
    {
     "name": "stderr",
     "output_type": "stream",
     "text": [
      "INFO - 2021-07-09 00:23:19,136 - settings - Setting database.host to at-database.ad.bcm.edu\n",
      "INFO - 2021-07-09 00:23:19,138 - settings - Setting database.user to celiib\n",
      "INFO - 2021-07-09 00:23:19,139 - settings - Setting database.password to newceliipass\n",
      "INFO - 2021-07-09 00:23:19,142 - settings - Setting enable_python_native_blobs to True\n",
      "INFO - 2021-07-09 00:23:19,990 - settings - Setting enable_python_native_blobs to True\n"
     ]
    }
   ],
   "source": [
    "#configuring will include the adapters\n",
    "minnie,schema = du.configure_minnie_vm()"
   ]
  },
  {
   "cell_type": "code",
   "execution_count": 5,
   "metadata": {},
   "outputs": [],
   "source": [
    "import validation_utils as vu\n",
    "import neuron_visualizations as nviz\n",
    "import neuron_utils as nru\n",
    "import proofreading_utils as pru\n",
    "import time\n",
    "import system_utils as su"
   ]
  },
  {
   "cell_type": "markdown",
   "metadata": {},
   "source": []
  },
  {
   "cell_type": "code",
   "execution_count": 6,
   "metadata": {},
   "outputs": [
    {
     "data": {
      "text/html": [
       "\n",
       "        \n",
       "        <style type=\"text/css\">\n",
       "            .Relation{\n",
       "                border-collapse:collapse;\n",
       "            }\n",
       "            .Relation th{\n",
       "                background: #A0A0A0; color: #ffffff; padding:4px; border:#f0e0e0 1px solid;\n",
       "                font-weight: normal; font-family: monospace; font-size: 100%;\n",
       "            }\n",
       "            .Relation td{\n",
       "                padding:4px; border:#f0e0e0 1px solid; font-size:100%;\n",
       "            }\n",
       "            .Relation tr:nth-child(odd){\n",
       "                background: #ffffff;\n",
       "            }\n",
       "            .Relation tr:nth-child(even){\n",
       "                background: #f3f1ff;\n",
       "            }\n",
       "            /* Tooltip container */\n",
       "            .djtooltip {\n",
       "            }\n",
       "            /* Tooltip text */\n",
       "            .djtooltip .djtooltiptext {\n",
       "                visibility: hidden;\n",
       "                width: 120px;\n",
       "                background-color: black;\n",
       "                color: #fff;\n",
       "                text-align: center;\n",
       "                padding: 5px 0;\n",
       "                border-radius: 6px;\n",
       "                /* Position the tooltip text - see examples below! */\n",
       "                position: absolute;\n",
       "                z-index: 1;\n",
       "            }\n",
       "            #primary {\n",
       "                font-weight: bold;\n",
       "                color: black;\n",
       "            }\n",
       "\n",
       "            #nonprimary {\n",
       "                font-weight: normal;\n",
       "                color: white;\n",
       "            }\n",
       "\n",
       "            /* Show the tooltip text when you mouse over the tooltip container */\n",
       "            .djtooltip:hover .djtooltiptext {\n",
       "                visibility: visible;\n",
       "            }\n",
       "        </style>\n",
       "        \n",
       "        <b></b>\n",
       "            <div style=\"max-height:1000px;max-width:1500px;overflow:auto;\">\n",
       "            <table border=\"1\" class=\"Relation\">\n",
       "                <thead> <tr style=\"text-align: right;\"> <th> <div class=\"djtooltip\">\n",
       "                                <p id=\"primary\">ver</p>\n",
       "                                <span class=\"djtooltiptext\">materialization version</span>\n",
       "                            </div></th><th><div class=\"djtooltip\">\n",
       "                                <p id=\"primary\">nucleus_id</p>\n",
       "                                <span class=\"djtooltiptext\">nucleus id</span>\n",
       "                            </div></th><th><div class=\"djtooltip\">\n",
       "                                <p id=\"primary\">segment_id</p>\n",
       "                                <span class=\"djtooltiptext\">the segment id in the proofread version</span>\n",
       "                            </div></th><th><div class=\"djtooltip\">\n",
       "                                <p id=\"primary\">old_ver</p>\n",
       "                                <span class=\"djtooltiptext\">materialization version</span>\n",
       "                            </div></th><th><div class=\"djtooltip\">\n",
       "                                <p id=\"primary\">split_index</p>\n",
       "                                <span class=\"djtooltiptext\">the index of the neuron object that resulted AFTER THE SPLITTING ALGORITHM</span>\n",
       "                            </div></th><th><div class=\"djtooltip\">\n",
       "                                <p id=\"nonprimary\">decomposition</p>\n",
       "                                <span class=\"djtooltiptext\">saved neuron object with high fidelity axon</span>\n",
       "                            </div></th><th><div class=\"djtooltip\">\n",
       "                                <p id=\"nonprimary\">axon_length</p>\n",
       "                                <span class=\"djtooltiptext\">axon length of the filtered neuron</span>\n",
       "                            </div></th><th><div class=\"djtooltip\">\n",
       "                                <p id=\"nonprimary\">validation_df</p>\n",
       "                                <span class=\"djtooltiptext\"></span>\n",
       "                            </div></th><th><div class=\"djtooltip\">\n",
       "                                <p id=\"nonprimary\">validation_df_ext</p>\n",
       "                                <span class=\"djtooltiptext\"></span>\n",
       "                            </div></th><th><div class=\"djtooltip\">\n",
       "                                <p id=\"nonprimary\">pre_tp</p>\n",
       "                                <span class=\"djtooltiptext\"></span>\n",
       "                            </div></th><th><div class=\"djtooltip\">\n",
       "                                <p id=\"nonprimary\">pre_tn</p>\n",
       "                                <span class=\"djtooltiptext\"></span>\n",
       "                            </div></th><th><div class=\"djtooltip\">\n",
       "                                <p id=\"nonprimary\">pre_fp</p>\n",
       "                                <span class=\"djtooltiptext\"></span>\n",
       "                            </div></th><th><div class=\"djtooltip\">\n",
       "                                <p id=\"nonprimary\">pre_fn</p>\n",
       "                                <span class=\"djtooltiptext\"></span>\n",
       "                            </div></th><th><div class=\"djtooltip\">\n",
       "                                <p id=\"nonprimary\">pre_precision</p>\n",
       "                                <span class=\"djtooltiptext\"></span>\n",
       "                            </div></th><th><div class=\"djtooltip\">\n",
       "                                <p id=\"nonprimary\">pre_recall</p>\n",
       "                                <span class=\"djtooltiptext\"></span>\n",
       "                            </div></th><th><div class=\"djtooltip\">\n",
       "                                <p id=\"nonprimary\">pre_f1</p>\n",
       "                                <span class=\"djtooltiptext\"></span>\n",
       "                            </div></th><th><div class=\"djtooltip\">\n",
       "                                <p id=\"nonprimary\">post_tp</p>\n",
       "                                <span class=\"djtooltiptext\"></span>\n",
       "                            </div></th><th><div class=\"djtooltip\">\n",
       "                                <p id=\"nonprimary\">post_tn</p>\n",
       "                                <span class=\"djtooltiptext\"></span>\n",
       "                            </div></th><th><div class=\"djtooltip\">\n",
       "                                <p id=\"nonprimary\">post_fp</p>\n",
       "                                <span class=\"djtooltiptext\"></span>\n",
       "                            </div></th><th><div class=\"djtooltip\">\n",
       "                                <p id=\"nonprimary\">post_fn</p>\n",
       "                                <span class=\"djtooltiptext\"></span>\n",
       "                            </div></th><th><div class=\"djtooltip\">\n",
       "                                <p id=\"nonprimary\">post_precision</p>\n",
       "                                <span class=\"djtooltiptext\"></span>\n",
       "                            </div></th><th><div class=\"djtooltip\">\n",
       "                                <p id=\"nonprimary\">post_recall</p>\n",
       "                                <span class=\"djtooltiptext\"></span>\n",
       "                            </div></th><th><div class=\"djtooltip\">\n",
       "                                <p id=\"nonprimary\">post_f1</p>\n",
       "                                <span class=\"djtooltiptext\"></span>\n",
       "                            </div></th><th><div class=\"djtooltip\">\n",
       "                                <p id=\"nonprimary\">run_time</p>\n",
       "                                <span class=\"djtooltiptext\">the amount of time to run (seconds)</span>\n",
       "                            </div> </th> </tr> </thead>\n",
       "                <tbody> <tr> <td>88.00</td>\n",
       "<td>230236</td>\n",
       "<td>864691135609687047</td>\n",
       "<td>0.08</td>\n",
       "<td>0</td>\n",
       "<td>=BLOB=</td>\n",
       "<td>1343.99235047008</td>\n",
       "<td>=BLOB=</td>\n",
       "<td>=BLOB=</td>\n",
       "<td>27</td>\n",
       "<td>549</td>\n",
       "<td>12</td>\n",
       "<td>23</td>\n",
       "<td>0.6923076923076923</td>\n",
       "<td>0.54</td>\n",
       "<td>0.6067415730337079</td>\n",
       "<td>1960</td>\n",
       "<td>22</td>\n",
       "<td>1</td>\n",
       "<td>2</td>\n",
       "<td>0.9994900560938297</td>\n",
       "<td>0.9989806320081549</td>\n",
       "<td>0.99923527912312</td>\n",
       "<td>958.53</td></tr><tr><td>88.00</td>\n",
       "<td>301095</td>\n",
       "<td>864691135446675028</td>\n",
       "<td>0.08</td>\n",
       "<td>0</td>\n",
       "<td>=BLOB=</td>\n",
       "<td>875.6817477151404</td>\n",
       "<td>=BLOB=</td>\n",
       "<td>=BLOB=</td>\n",
       "<td>8</td>\n",
       "<td>390</td>\n",
       "<td>11</td>\n",
       "<td>7</td>\n",
       "<td>0.42105263157894735</td>\n",
       "<td>0.5333333333333333</td>\n",
       "<td>0.47058823529411764</td>\n",
       "<td>3322</td>\n",
       "<td>8</td>\n",
       "<td>6</td>\n",
       "<td>27</td>\n",
       "<td>0.9981971153846154</td>\n",
       "<td>0.9919378919080323</td>\n",
       "<td>0.9950576606260296</td>\n",
       "<td>423.79</td></tr><tr><td>88.00</td>\n",
       "<td>493968</td>\n",
       "<td>864691135117980637</td>\n",
       "<td>0.08</td>\n",
       "<td>0</td>\n",
       "<td>=BLOB=</td>\n",
       "<td>1809.3865846190454</td>\n",
       "<td>=BLOB=</td>\n",
       "<td>=BLOB=</td>\n",
       "<td>46</td>\n",
       "<td>623</td>\n",
       "<td>24</td>\n",
       "<td>16</td>\n",
       "<td>0.6571428571428571</td>\n",
       "<td>0.7419354838709677</td>\n",
       "<td>0.6969696969696969</td>\n",
       "<td>3600</td>\n",
       "<td>2</td>\n",
       "<td>49</td>\n",
       "<td>3</td>\n",
       "<td>0.9865716634694437</td>\n",
       "<td>0.9991673605328892</td>\n",
       "<td>0.9928295642581357</td>\n",
       "<td>849.42</td></tr><tr><td>88.00</td>\n",
       "<td>518853</td>\n",
       "<td>864691135415666362</td>\n",
       "<td>0.08</td>\n",
       "<td>0</td>\n",
       "<td>=BLOB=</td>\n",
       "<td>3282.216896102451</td>\n",
       "<td>=BLOB=</td>\n",
       "<td>=BLOB=</td>\n",
       "<td>293</td>\n",
       "<td>475</td>\n",
       "<td>34</td>\n",
       "<td>42</td>\n",
       "<td>0.8960244648318043</td>\n",
       "<td>0.8746268656716418</td>\n",
       "<td>0.8851963746223565</td>\n",
       "<td>9304</td>\n",
       "<td>4</td>\n",
       "<td>3</td>\n",
       "<td>5</td>\n",
       "<td>0.9996776619748576</td>\n",
       "<td>0.99946288537974</td>\n",
       "<td>0.9995702621400945</td>\n",
       "<td>1287.22</td></tr><tr><td>88.00</td>\n",
       "<td>533187</td>\n",
       "<td>864691136227020113</td>\n",
       "<td>0.08</td>\n",
       "<td>0</td>\n",
       "<td>=BLOB=</td>\n",
       "<td>713.7785339803089</td>\n",
       "<td>=BLOB=</td>\n",
       "<td>=BLOB=</td>\n",
       "<td>0</td>\n",
       "<td>113</td>\n",
       "<td>18</td>\n",
       "<td>0</td>\n",
       "<td>0.0</td>\n",
       "<td>nan</td>\n",
       "<td>nan</td>\n",
       "<td>1</td>\n",
       "<td>9</td>\n",
       "<td>2595</td>\n",
       "<td>0</td>\n",
       "<td>0.0003852080123266564</td>\n",
       "<td>1.0</td>\n",
       "<td>0.0007701193685021179</td>\n",
       "<td>602.7</td></tr><tr><td>88.00</td>\n",
       "<td>554775</td>\n",
       "<td>864691135593719339</td>\n",
       "<td>0.08</td>\n",
       "<td>0</td>\n",
       "<td>=BLOB=</td>\n",
       "<td>1138.6029649457212</td>\n",
       "<td>=BLOB=</td>\n",
       "<td>=BLOB=</td>\n",
       "<td>29</td>\n",
       "<td>82</td>\n",
       "<td>12</td>\n",
       "<td>0</td>\n",
       "<td>0.7073170731707317</td>\n",
       "<td>1.0</td>\n",
       "<td>0.8285714285714285</td>\n",
       "<td>4430</td>\n",
       "<td>2</td>\n",
       "<td>5</td>\n",
       "<td>1</td>\n",
       "<td>0.9988726042841037</td>\n",
       "<td>0.9997743173098623</td>\n",
       "<td>0.9993232573877736</td>\n",
       "<td>408.61</td></tr><tr><td>88.00</td>\n",
       "<td>558684</td>\n",
       "<td>864691136378859477</td>\n",
       "<td>0.08</td>\n",
       "<td>0</td>\n",
       "<td>=BLOB=</td>\n",
       "<td>1668.3578259229862</td>\n",
       "<td>=BLOB=</td>\n",
       "<td>=BLOB=</td>\n",
       "<td>4</td>\n",
       "<td>279</td>\n",
       "<td>13</td>\n",
       "<td>1</td>\n",
       "<td>0.23529411764705882</td>\n",
       "<td>0.8</td>\n",
       "<td>0.3636363636363636</td>\n",
       "<td>3465</td>\n",
       "<td>9</td>\n",
       "<td>1</td>\n",
       "<td>36</td>\n",
       "<td>0.9997114829774957</td>\n",
       "<td>0.9897172236503856</td>\n",
       "<td>0.9946892493182145</td>\n",
       "<td>5519.72</td></tr><tr><td>88.00</td>\n",
       "<td>582412</td>\n",
       "<td>864691135753917645</td>\n",
       "<td>0.08</td>\n",
       "<td>0</td>\n",
       "<td>=BLOB=</td>\n",
       "<td>511.48427849134845</td>\n",
       "<td>=BLOB=</td>\n",
       "<td>=BLOB=</td>\n",
       "<td>12</td>\n",
       "<td>151</td>\n",
       "<td>11</td>\n",
       "<td>32</td>\n",
       "<td>0.5217391304347826</td>\n",
       "<td>0.2727272727272727</td>\n",
       "<td>0.3582089552238806</td>\n",
       "<td>3048</td>\n",
       "<td>23</td>\n",
       "<td>622</td>\n",
       "<td>23</td>\n",
       "<td>0.8305177111716622</td>\n",
       "<td>0.9925105828720286</td>\n",
       "<td>0.9043168669336894</td>\n",
       "<td>1328.5</td></tr><tr><td>88.00</td>\n",
       "<td>582444</td>\n",
       "<td>864691135571017453</td>\n",
       "<td>0.08</td>\n",
       "<td>0</td>\n",
       "<td>=BLOB=</td>\n",
       "<td>1059.9712133374048</td>\n",
       "<td>=BLOB=</td>\n",
       "<td>=BLOB=</td>\n",
       "<td>18</td>\n",
       "<td>107</td>\n",
       "<td>18</td>\n",
       "<td>2</td>\n",
       "<td>0.5</td>\n",
       "<td>0.9</td>\n",
       "<td>0.6428571428571429</td>\n",
       "<td>6500</td>\n",
       "<td>1</td>\n",
       "<td>1</td>\n",
       "<td>2</td>\n",
       "<td>0.9998461775111521</td>\n",
       "<td>0.9996924023377423</td>\n",
       "<td>0.999769284011382</td>\n",
       "<td>512.39</td></tr><tr><td>88.00</td>\n",
       "<td>608166</td>\n",
       "<td>864691135864188286</td>\n",
       "<td>0.08</td>\n",
       "<td>0</td>\n",
       "<td>=BLOB=</td>\n",
       "<td>1418.571318717418</td>\n",
       "<td>=BLOB=</td>\n",
       "<td>=BLOB=</td>\n",
       "<td>39</td>\n",
       "<td>179</td>\n",
       "<td>12</td>\n",
       "<td>2</td>\n",
       "<td>0.7647058823529411</td>\n",
       "<td>0.9512195121951219</td>\n",
       "<td>0.8478260869565216</td>\n",
       "<td>6694</td>\n",
       "<td>15</td>\n",
       "<td>8</td>\n",
       "<td>11</td>\n",
       "<td>0.9988063264697106</td>\n",
       "<td>0.9983594332587621</td>\n",
       "<td>0.9985828298649959</td>\n",
       "<td>1671.66</td> </tr> </tbody>\n",
       "            </table>\n",
       "            \n",
       "            <p>Total: 10</p></div>\n",
       "            "
      ],
      "text/plain": [
       "*ver      *nucleus_id    *segment_id    *old_ver    *split_index   decomposit axon_length    validation validation pre_tp     pre_tn     pre_fp     pre_fn     pre_precision  pre_recall     pre_f1         post_tp     post_tn     post_fp     post_fn     post_precision post_recall    post_f1        run_time    \n",
       "+-------+ +------------+ +------------+ +---------+ +------------+ +--------+ +------------+ +--------+ +--------+ +--------+ +--------+ +--------+ +--------+ +------------+ +------------+ +------------+ +---------+ +---------+ +---------+ +---------+ +------------+ +------------+ +------------+ +----------+\n",
       "88.00     230236         86469113560968 0.08        0              =BLOB=     1343.992350470 =BLOB=     =BLOB=     27         549        12         23         0.692307692307 0.54           0.606741573033 1960        22          1           2           0.999490056093 0.998980632008 0.999235279123 958.53      \n",
       "88.00     301095         86469113544667 0.08        0              =BLOB=     875.6817477151 =BLOB=     =BLOB=     8          390        11         7          0.421052631578 0.533333333333 0.470588235294 3322        8           6           27          0.998197115384 0.991937891908 0.995057660626 423.79      \n",
       "88.00     493968         86469113511798 0.08        0              =BLOB=     1809.386584619 =BLOB=     =BLOB=     46         623        24         16         0.657142857142 0.741935483870 0.696969696969 3600        2           49          3           0.986571663469 0.999167360532 0.992829564258 849.42      \n",
       "88.00     518853         86469113541566 0.08        0              =BLOB=     3282.216896102 =BLOB=     =BLOB=     293        475        34         42         0.896024464831 0.874626865671 0.885196374622 9304        4           3           5           0.999677661974 0.999462885379 0.999570262140 1287.22     \n",
       "88.00     533187         86469113622702 0.08        0              =BLOB=     713.7785339803 =BLOB=     =BLOB=     0          113        18         0          0.0            nan            nan            1           9           2595        0           0.000385208012 1.0            0.000770119368 602.7       \n",
       "88.00     554775         86469113559371 0.08        0              =BLOB=     1138.602964945 =BLOB=     =BLOB=     29         82         12         0          0.707317073170 1.0            0.828571428571 4430        2           5           1           0.998872604284 0.999774317309 0.999323257387 408.61      \n",
       "88.00     558684         86469113637885 0.08        0              =BLOB=     1668.357825922 =BLOB=     =BLOB=     4          279        13         1          0.235294117647 0.8            0.363636363636 3465        9           1           36          0.999711482977 0.989717223650 0.994689249318 5519.72     \n",
       "88.00     582412         86469113575391 0.08        0              =BLOB=     511.4842784913 =BLOB=     =BLOB=     12         151        11         32         0.521739130434 0.272727272727 0.358208955223 3048        23          622         23          0.830517711171 0.992510582872 0.904316866933 1328.5      \n",
       "88.00     582444         86469113557101 0.08        0              =BLOB=     1059.971213337 =BLOB=     =BLOB=     18         107        18         2          0.5            0.9            0.642857142857 6500        1           1           2           0.999846177511 0.999692402337 0.999769284011 512.39      \n",
       "88.00     608166         86469113586418 0.08        0              =BLOB=     1418.571318717 =BLOB=     =BLOB=     39         179        12         2          0.764705882352 0.951219512195 0.847826086956 6694        15          8           11          0.998806326469 0.998359433258 0.998582829864 1671.66     \n",
       " (Total: 10)"
      ]
     },
     "execution_count": 6,
     "metadata": {},
     "output_type": "execute_result"
    }
   ],
   "source": [
    "bad_presyn_table = (minnie.AutoProofreadValidationScore6() & \"pre_fp>10\")\n",
    "bad_presyn_table"
   ]
  },
  {
   "cell_type": "markdown",
   "metadata": {},
   "source": [
    "# Look at certain neuron after processing"
   ]
  },
  {
   "cell_type": "code",
   "execution_count": 7,
   "metadata": {},
   "outputs": [
    {
     "name": "stdout",
     "output_type": "stream",
     "text": [
      "Decompressing Neuron in minimal output mode...please wait\n"
     ]
    }
   ],
   "source": [
    "segment_id = 864691135117980637\n",
    "segment_id = 864691135415666362\n",
    "segment_id = 864691136227020113\n",
    "segment_id = 864691135571017453\n",
    "segment_id = 864691135609687047\n",
    "segment_id = 864691136227020113\n",
    "curr_table = (minnie.AutoProofreadValidationScore6() & dict(segment_id=segment_id))\n",
    "decomp_path,validation_df = curr_table.fetch1(\"decomposition\",\"validation_df\")\n",
    "neuron_obj = du.filepath_to_neuron_obj(decomp_path)"
   ]
  },
  {
   "cell_type": "code",
   "execution_count": null,
   "metadata": {},
   "outputs": [],
   "source": [
    "curr_table"
   ]
  },
  {
   "cell_type": "code",
   "execution_count": null,
   "metadata": {},
   "outputs": [],
   "source": [
    "minnie.AutoProofreadValidationSegmentMap4 & dict(segment_id=864691135609687047)"
   ]
  },
  {
   "cell_type": "code",
   "execution_count": null,
   "metadata": {},
   "outputs": [],
   "source": [
    "# nviz.visualize_neuron(neuron_obj,\n",
    "#                      limb_branch_dict=\"all\")"
   ]
  },
  {
   "cell_type": "code",
   "execution_count": 8,
   "metadata": {
    "scrolled": false
   },
   "outputs": [
    {
     "name": "stdout",
     "output_type": "stream",
     "text": [
      "Using the mesh from the neuron object\n"
     ]
    },
    {
     "data": {
      "application/vnd.jupyter.widget-view+json": {
       "model_id": "bbc48a5cb9f148a6a68ec68320948881",
       "version_major": 2,
       "version_minor": 0
      },
      "text/plain": [
       "VBox(children=(Figure(camera=PerspectiveCamera(fov=46.0, position=(0.0, 0.0, 2.0), projectionMatrix=(1.0, 0.0,…"
      ]
     },
     "metadata": {},
     "output_type": "display_data"
    },
    {
     "name": "stdout",
     "output_type": "stream",
     "text": [
      "TP:yellow\n",
      "TN:aqua\n",
      "FP:black\n",
      "FN:orange\n"
     ]
    }
   ],
   "source": [
    "return_validation_df_revised = vu.load_df_val_from_numpy(validation_df)\n",
    "filt_neuron = neuron_obj\n",
    "vu.plot_validation_synapses(filt_neuron.segment_id,\n",
    "                            validation_df = return_validation_df_revised,\n",
    "                             synapse_dict = None,\n",
    "                             synapses_type_to_plot = None,\n",
    "                             synapses_type_to_not_plot = None,\n",
    "                             verbose=False,\n",
    "                             synapse_type = \"presyn\",\n",
    "                             TP_color=\"yellow\",\n",
    "                            TN_color=\"aqua\",\n",
    "                            FP_color=\"black\",\n",
    "                            FN_color=\"orange\",\n",
    "                             synapse_scatter_size = 0.15,\n",
    "                             \n",
    "                             #for plotting the actual mesh parts to go along\n",
    "                             \n",
    "                             neuron_obj = filt_neuron,\n",
    "                             plot_only_axon_skeleton = True,\n",
    "                             error_mesh_color = \"red\",\n",
    "                             valid_mesh_color = \"green\",\n",
    "                             valid_skeleton_color = \"black\",\n",
    "                             mesh_alpha = 0.3,)"
   ]
  },
  {
   "cell_type": "code",
   "execution_count": null,
   "metadata": {},
   "outputs": [],
   "source": [
    "import validation_utils as vu\n",
    "vu.FP_limb_branches_from_validation_df(\n",
    "    validation_df = return_validation_df_revised,\n",
    "    neuron_obj = neuron_obj,\n",
    "    )"
   ]
  },
  {
   "cell_type": "code",
   "execution_count": 11,
   "metadata": {},
   "outputs": [
    {
     "name": "stdout",
     "output_type": "stream",
     "text": [
      "\n",
      "\n",
      " ----- Working on branch 33/53: 33--------\n",
      "downstream_branches = [40 39]\n",
      "skipped_nodes = []\n",
      "Total number of short_thick_endnodes_to_remove = 13\n",
      "downstream_branches after remove_short_thick_endnodes = [39 40]\n",
      "Total number of axon_spines = 4\n",
      "downstream_branches after remove_short_thick_endnodes = [39 40]\n",
      "widths_in_branches = [61.03998036 59.14934871 54.12336194]\n",
      "Running local filtering for branch 33\n",
      "\n",
      "--- After Edge Attributes ---\n"
     ]
    },
    {
     "data": {
      "application/vnd.jupyter.widget-view+json": {
       "model_id": "ecaafab89d9d4de8a8bec920c1fc4ee5",
       "version_major": 2,
       "version_minor": 0
      },
      "text/plain": [
       "  0%|          | 0/3 [00:00<?, ?it/s]"
      ]
     },
     "metadata": {},
     "output_type": "display_data"
    },
    {
     "name": "stdout",
     "output_type": "stream",
     "text": [
      "    u   v  sk_angle  width_diff  width_diff_percentage  synapse_density_diff  \\\n",
      "0  39  40    158.94   10.819680               0.177256                   0.0   \n",
      "1  39  33     41.42    6.916618               0.127794                   0.0   \n",
      "2  40  33     32.90    3.903061               0.072114                   0.0   \n",
      "\n",
      "   n_synapses_diff  \n",
      "0                0  \n",
      "1                0  \n",
      "2                0  \n",
      "\n",
      "--- After node attributes ---\n",
      "    u   node_type  skeletal_length_downstream  \\\n",
      "0  39  downstream                 7040.510507   \n",
      "1  40  downstream                71303.960976   \n",
      "2  33    upstream                         NaN   \n",
      "\n",
      "   skeletal_length_downstream_total  width_downstream  n_synapses_downstream  \\\n",
      "0                       7040.510507         61.039980                    0.0   \n",
      "1                     219377.228289         59.149349                    0.0   \n",
      "2                               NaN               NaN                    NaN   \n",
      "\n",
      "   n_synapses_downstream_total  skeletal_length_upstream_total  \\\n",
      "0                          0.0                             NaN   \n",
      "1                          9.0                             NaN   \n",
      "2                          NaN                    79093.218928   \n",
      "\n",
      "   skeletal_length_upstream  width_upstream  n_synapses_upstream  \n",
      "0                       NaN             NaN                  NaN  \n",
      "1                       NaN             NaN                  NaN  \n",
      "2              29038.558025       54.123362                  0.0  \n",
      "motif_matches = [{'u': 33, 'd1': 40, 'd2': 39}, {'u': 33, 'd1': 39, 'd2': 40}]\n",
      "downstream_nodes = [39, 40]\n",
      "skeletal length = [ 7040.51050712 48798.72983743]\n",
      "downstream skeletal length = [  7040.51050712 231846.18036813]\n",
      "Min of 21 dist = 1411.6235378268677\n"
     ]
    },
    {
     "data": {
      "application/vnd.jupyter.widget-view+json": {
       "model_id": "b92173d69d88416f82e4fc08d5f1e4ee",
       "version_major": 2,
       "version_minor": 0
      },
      "text/plain": [
       "VBox(children=(Figure(camera=PerspectiveCamera(fov=46.0, position=(0.0, 0.0, 2.0), projectionMatrix=(1.0, 0.0,…"
      ]
     },
     "metadata": {},
     "output_type": "display_data"
    },
    {
     "name": "stdout",
     "output_type": "stream",
     "text": [
      "min_dist= 1411.6235378268677\n",
      "distances_between_skeletons = [1899.19202038 1920.44633413 1876.49120186 1949.42151185 1853.69430909\n",
      " 1998.89480144 2055.67344206 2102.656688   1814.06910983 1764.067166\n",
      " 1709.24223308 1649.96344416 1590.61384188 1533.84349631 1504.19146443\n",
      " 1480.69984986 1466.81288818 1432.91923843 1437.43233524 1411.62353783\n",
      " 1417.18836776]\n",
      "return_value = 1411.6235378268677\n",
      "div = 1411.6235378268677 with threshold set to 1500\n",
      "error_check = True\n",
      "error_branches = [39, 40]\n",
      "filter_triggered = fork_min_skeletal_distance_filter, error_branches = [39, 40]\n",
      "33 triggered fork_min_skeletal_distance_filter\n",
      "error_downstream = [39 40],triggered_filter = fork_min_skeletal_distance_filter \n"
     ]
    },
    {
     "data": {
      "text/plain": [
       "{'L2': array([39, 40])}"
      ]
     },
     "execution_count": 11,
     "metadata": {},
     "output_type": "execute_result"
    }
   ],
   "source": [
    "import error_detection as ed\n",
    "import graph_filters as gf\n",
    "ed.debug_branches_low_degree(neuron_obj,[33],filters_to_run=[gf.fork_min_skeletal_distance_filter])"
   ]
  },
  {
   "cell_type": "code",
   "execution_count": null,
   "metadata": {},
   "outputs": [],
   "source": [
    "neuron_obj.segment_id"
   ]
  },
  {
   "cell_type": "code",
   "execution_count": null,
   "metadata": {},
   "outputs": [],
   "source": [
    "nviz.plot_limb_path(neuron_obj[0],[28]\n",
    "                   )"
   ]
  },
  {
   "cell_type": "code",
   "execution_count": null,
   "metadata": {},
   "outputs": [],
   "source": [
    "nviz.visualize_neuron_specific_limb(neuron_obj,\n",
    "                                   \"axon\")"
   ]
  },
  {
   "cell_type": "markdown",
   "metadata": {},
   "source": [
    "# Debugging one of the divergences"
   ]
  },
  {
   "cell_type": "code",
   "execution_count": null,
   "metadata": {},
   "outputs": [],
   "source": [
    "import graph_filters as gf\n",
    "ed.low_degree_branch_errors_limb_branch_dict(neuron_obj,\n",
    "                                         filters_to_run = [gf.fork_min_skeletal_distance_filter],\n",
    "                                         #debug_branches=[68]\n",
    "                                            )"
   ]
  },
  {
   "cell_type": "markdown",
   "metadata": {},
   "source": [
    "# Getting all of the scores"
   ]
  },
  {
   "cell_type": "code",
   "execution_count": null,
   "metadata": {},
   "outputs": [],
   "source": [
    "minnie.AutoProofreadValidationScore6()"
   ]
  },
  {
   "cell_type": "code",
   "execution_count": null,
   "metadata": {},
   "outputs": [],
   "source": [
    "minnie,_ = du.configure_minnie_vm()\n",
    "validation_dfs = minnie.AutoProofreadValidationScore6().fetch(\"validation_df\")\n",
    "validation_dfs = [vu.load_df_val_from_numpy(k) for k in validation_dfs]\n",
    "validation_dfs"
   ]
  },
  {
   "cell_type": "code",
   "execution_count": null,
   "metadata": {},
   "outputs": [],
   "source": [
    "import pandas_utils as pu\n",
    "total_validation_df = pu.concat(validation_dfs)\n",
    "total_validation_df\n",
    "vu.synapse_validation_df_to_score_plot(total_validation_df)"
   ]
  },
  {
   "cell_type": "markdown",
   "metadata": {},
   "source": [
    "# Looking at a certain neuron"
   ]
  },
  {
   "cell_type": "code",
   "execution_count": null,
   "metadata": {},
   "outputs": [],
   "source": [
    "#segment_id = 864691135945413668\n",
    "#segment_id = 864691136951664863\n",
    "segment_id = 864691135740225387\n",
    "segment_id = 864691136008425132\n",
    "\n",
    "segment_id = 864691136311791677\n",
    "neuron_objs,neuron_split_idxs = du.decomposition_with_spine_recalculation(segment_id)"
   ]
  },
  {
   "cell_type": "code",
   "execution_count": null,
   "metadata": {},
   "outputs": [],
   "source": [
    "neuron_obj = neuron_objs[0]\n",
    "print(neuron_obj.axon_limb_branch_dict)\n",
    "nviz.plot_axon(neuron_obj)"
   ]
  },
  {
   "cell_type": "code",
   "execution_count": null,
   "metadata": {
    "scrolled": false
   },
   "outputs": [],
   "source": [
    "inh_exc_class = \"excitatory\"\n",
    "plot_limb_branch_filter_with_disconnect_effect = True\n",
    "perform_axon_classification = False\n",
    "verbose = True\n",
    "filtered_neuron,filtering_info = pru.proofread_neuron_class_predetermined(neuron_obj,\n",
    "        inh_exc_class=inh_exc_class,\n",
    "        perform_axon_classification=False,\n",
    "\n",
    "        plot_limb_branch_filter_with_disconnect_effect = plot_limb_branch_filter_with_disconnect_effect,\n",
    "\n",
    "\n",
    "        plot_final_filtered_neuron = False,\n",
    "\n",
    "        #arguments for the axon high fidelity:\n",
    "        plot_new_axon_limb_correspondence = False,\n",
    "        plot_new_limb_object = False,\n",
    "        plot_final_revised_axon_branch = False,\n",
    "\n",
    "        verbose = False,\n",
    "        verbose_outline = verbose,\n",
    "        #filter_list = filter_list\n",
    "        filter_list = pru.v6_exc_filters(),\n",
    "        #filter_list = [pru.exc_high_degree_branching_filter_v6],\n",
    "        high_fidelity_axon_on_excitatory = perform_axon_classification,\n",
    "                                                                             )"
   ]
  },
  {
   "cell_type": "code",
   "execution_count": null,
   "metadata": {},
   "outputs": [],
   "source": [
    "debug"
   ]
  },
  {
   "cell_type": "code",
   "execution_count": null,
   "metadata": {},
   "outputs": [],
   "source": [
    "d_skeletons_resized = [sk.resize_skeleton_branch(k,segment_width=50)\n",
    "                          for k in downstream_skeletons]\n",
    "joining_endpoint_1 = np.array([822357. , 785765.2, 939390.7])\n",
    "joining_endpoint_1\n",
    "comparison_distance = 2000"
   ]
  },
  {
   "cell_type": "code",
   "execution_count": null,
   "metadata": {},
   "outputs": [],
   "source": [
    "d_skeletons_restricted = [sk.restrict_skeleton_to_distance_from_coordinate(k,\n",
    "                                             coordinate = joining_endpoint_1,\n",
    "                                             distance_threshold = comparison_distance+1,)\n",
    "                              for k in d_skeletons_resized]"
   ]
  },
  {
   "cell_type": "code",
   "execution_count": null,
   "metadata": {},
   "outputs": [],
   "source": []
  },
  {
   "cell_type": "code",
   "execution_count": null,
   "metadata": {},
   "outputs": [],
   "source": []
  },
  {
   "cell_type": "code",
   "execution_count": null,
   "metadata": {},
   "outputs": [],
   "source": [
    "import system_utils as su\n",
    "downstream_skeletons = su.decompress_pickle(\"downstream_skeletons\")"
   ]
  },
  {
   "cell_type": "code",
   "execution_count": null,
   "metadata": {},
   "outputs": [],
   "source": [
    "import skeleton_utils as sk\n",
    "sk.shared_coordiantes(list(downstream_skeletons),\n",
    "                             return_one=True)"
   ]
  },
  {
   "cell_type": "code",
   "execution_count": null,
   "metadata": {},
   "outputs": [],
   "source": [
    "nviz.plot_objects(skeletons=downstream_skeletons,\n",
    "                 scatters=[np.array([822357. , 785765.2, 939390.7])])"
   ]
  },
  {
   "cell_type": "code",
   "execution_count": null,
   "metadata": {},
   "outputs": [],
   "source": [
    "sk.find_skeleton_endpoint_coordinates(downstream_skeletons[0]),sk.find_skeleton_endpoint_coordinates(downstream_skeletons[1])"
   ]
  },
  {
   "cell_type": "code",
   "execution_count": null,
   "metadata": {},
   "outputs": [],
   "source": []
  },
  {
   "cell_type": "code",
   "execution_count": null,
   "metadata": {},
   "outputs": [],
   "source": [
    "limb_obj = neuron_obj[neuron_obj.axon_limb_idx]\n",
    "limb_obj"
   ]
  },
  {
   "cell_type": "code",
   "execution_count": null,
   "metadata": {},
   "outputs": [],
   "source": [
    "nru.upstream_endpoint(limb_obj,402)"
   ]
  },
  {
   "cell_type": "code",
   "execution_count": null,
   "metadata": {},
   "outputs": [],
   "source": [
    "nru.downstream_endpoint(limb_obj,402)"
   ]
  },
  {
   "cell_type": "code",
   "execution_count": null,
   "metadata": {},
   "outputs": [],
   "source": [
    "nru.restrict_skeleton_from_start_plus_offset_upstream(limb_obj,\n",
    "                                                      402,\n",
    "                                                      verbose=True\n",
    "                                                     )"
   ]
  },
  {
   "cell_type": "code",
   "execution_count": null,
   "metadata": {},
   "outputs": [],
   "source": []
  },
  {
   "cell_type": "code",
   "execution_count": null,
   "metadata": {},
   "outputs": [],
   "source": [
    "import system_utils as su"
   ]
  },
  {
   "cell_type": "code",
   "execution_count": null,
   "metadata": {},
   "outputs": [],
   "source": [
    "restrict_skeleton_from_start_plus_offset_downstream"
   ]
  },
  {
   "cell_type": "code",
   "execution_count": null,
   "metadata": {},
   "outputs": [],
   "source": [
    "test_sk = su.decompress_pickle(\"test_sk.pbz2\")"
   ]
  },
  {
   "cell_type": "code",
   "execution_count": null,
   "metadata": {},
   "outputs": [],
   "source": [
    ".endpoints"
   ]
  },
  {
   "cell_type": "code",
   "execution_count": null,
   "metadata": {},
   "outputs": [],
   "source": [
    "branch_obj = neuron_obj[0][20]\n",
    "nviz.plot_objects(skeletons=[branch_obj.skeleton],\n",
    "                  meshes=[branch_obj.mesh],\n",
    "                 scatters=[branch_obj.endpoints])"
   ]
  },
  {
   "cell_type": "code",
   "execution_count": null,
   "metadata": {},
   "outputs": [],
   "source": []
  },
  {
   "cell_type": "code",
   "execution_count": null,
   "metadata": {},
   "outputs": [],
   "source": []
  },
  {
   "cell_type": "code",
   "execution_count": null,
   "metadata": {},
   "outputs": [],
   "source": [
    "import error_detection as ed\n",
    "arg_dict = dict(child_width_maximum = 75,\n",
    "                                        parent_width_maximum = 75,\n",
    "                                         axon_only = True,\n",
    "                                         error_if_web_is_none=True,\n",
    "                                         web_size_threshold=120,\n",
    "                                        web_size_type=\"ray_trace_median\",\n",
    "                                        web_above_threshold = True,\n",
    "                                           ignore_if_child_mesh_not_touching = True )\n",
    "ed.webbing_t_errors_limb_branch_dict(neuron_obj,verbose = True,plot_web_errors = True,**arg_dict)"
   ]
  },
  {
   "cell_type": "code",
   "execution_count": null,
   "metadata": {},
   "outputs": [],
   "source": [
    "limb_obj = neuron_obj[0]"
   ]
  },
  {
   "cell_type": "code",
   "execution_count": null,
   "metadata": {},
   "outputs": [],
   "source": [
    "import trimesh_utils as tu\n",
    "import numpy_utils as nu"
   ]
  },
  {
   "cell_type": "code",
   "execution_count": null,
   "metadata": {},
   "outputs": [],
   "source": [
    "downstream_nodes = [10,148]\n",
    "upstream_node = 147\n",
    "\n",
    "upstream_node = 13\n",
    "\n",
    "\n",
    "downstream_nodes_mesh_connected(limb_obj,147,\n",
    "                               verbose=True)"
   ]
  },
  {
   "cell_type": "code",
   "execution_count": null,
   "metadata": {},
   "outputs": [],
   "source": [
    "intersect_array = nu.intersect2d([],np.array([[0,1],[0,2]]))\n",
    "intersect_array"
   ]
  },
  {
   "cell_type": "code",
   "execution_count": null,
   "metadata": {},
   "outputs": [],
   "source": [
    "downstream_nodes"
   ]
  },
  {
   "cell_type": "code",
   "execution_count": null,
   "metadata": {},
   "outputs": [],
   "source": [
    "meshes=[limb_obj[k].mesh for k in downstream_nodes + [upstream_node]]\n",
    "nviz.plot_objects(meshes=meshes)"
   ]
  },
  {
   "cell_type": "code",
   "execution_count": null,
   "metadata": {},
   "outputs": [],
   "source": [
    "nviz.plot_branch_groupings(limb_obj,\n",
    "                          [[upstream_node],downstream_nodes],)"
   ]
  },
  {
   "cell_type": "code",
   "execution_count": null,
   "metadata": {},
   "outputs": [],
   "source": [
    "minnie.AutoProofreadValidationSegmentMap4() & dict(segment_id=864691136951664863)"
   ]
  },
  {
   "cell_type": "code",
   "execution_count": null,
   "metadata": {},
   "outputs": [],
   "source": []
  },
  {
   "cell_type": "markdown",
   "metadata": {},
   "source": [
    "# Runnig the validation"
   ]
  },
  {
   "cell_type": "code",
   "execution_count": null,
   "metadata": {},
   "outputs": [],
   "source": [
    "\"\"\"\n",
    "Psueodocode: \n",
    "1) Pull down the segment ids of the valid neurons\n",
    "\n",
    "For each neuron\n",
    "1) Dwonload the neuron object\n",
    "2) Run the Proofreading\n",
    "3) Print out the validation plot\n",
    "4) Save the validation df\n",
    "\n",
    "\"\"\""
   ]
  },
  {
   "cell_type": "code",
   "execution_count": null,
   "metadata": {},
   "outputs": [],
   "source": [
    "\"\"\"\n",
    "Pseudocode: \n",
    "1) Check if there are multiple somas associated with that segment\n",
    "\n",
    "\"\"\""
   ]
  },
  {
   "cell_type": "code",
   "execution_count": null,
   "metadata": {},
   "outputs": [],
   "source": [
    "axon_segs = dj.U(\"segment_id\") & (minnie.DecompositionAxon() \n",
    "                      & minnie.AutoProofreadValidationSegment4() - minnie.AutoProofreadValidationSegmentExclude4() )\n",
    "axon_segs"
   ]
  },
  {
   "cell_type": "code",
   "execution_count": null,
   "metadata": {},
   "outputs": [],
   "source": [
    "\"\"\"\n",
    "Pseudocode: \n",
    "1) Find the coordinates of the nucleus for that new segment\n",
    "2) Make sure that same number of DecompositionAxon objects as in Decomposition\n",
    "3) Pick the neuron object that is closest and within a certain range of the nucleus\n",
    "4) Download the neuron object\n",
    "5) Run the proofreading\n",
    "6) Save off the validation df\n",
    "\"\"\""
   ]
  },
  {
   "cell_type": "code",
   "execution_count": null,
   "metadata": {},
   "outputs": [],
   "source": [
    "minnie.AutoProofreadValidationScore5()"
   ]
  },
  {
   "cell_type": "code",
   "execution_count": null,
   "metadata": {},
   "outputs": [],
   "source": [
    "bad_postsyn_table = (minnie.AutoProofreadValidationScore5() & \"post_fn>200\")\n",
    "bad_postsyn_table_filt =  (bad_postsyn_table * minnie.AutoProofreadValidationSegmentMap4()) & axon_segs.proj(old_segment_id=\"segment_id\")\n",
    "#bad_postsyn_seg_ids = bad_postsyn_table.fetch(\"segment_id\")\n",
    "bad_postsyn_table_filt.proj(\"post_fn\")"
   ]
  },
  {
   "cell_type": "code",
   "execution_count": null,
   "metadata": {},
   "outputs": [],
   "source": [
    "minnie.AutoProofreadValidationScore6()"
   ]
  },
  {
   "cell_type": "code",
   "execution_count": null,
   "metadata": {},
   "outputs": [],
   "source": [
    "import datajoint as dj\n",
    "dj.config[\"display.limit\"] = 30\n",
    "bad_presyn_table = (minnie.AutoProofreadValidationScore5() & \"pre_fp>10\")\n",
    "bad_presyn_seg_ids = bad_presyn_table.fetch(\"segment_id\")\n",
    "bad_presyn_table"
   ]
  },
  {
   "cell_type": "code",
   "execution_count": null,
   "metadata": {},
   "outputs": [],
   "source": [
    "# multi_soma_keys = (minnie.AutoProofreadValidationSegmentMap4() & \"n_somas>1\"\n",
    "#                       & minnie.DecompositionAxon.proj(old_segment_id=\"segment_id\")\n",
    "#                   & dict(segment_id = 864691135415710906)).proj().fetch(as_dict=True)\n",
    "# key = multi_soma_keys[0]\n",
    "# key"
   ]
  },
  {
   "cell_type": "code",
   "execution_count": null,
   "metadata": {},
   "outputs": [],
   "source": [
    "segment_id = 864691135117980637\n",
    "key = dict(segment_id=segment_id)"
   ]
  },
  {
   "cell_type": "code",
   "execution_count": null,
   "metadata": {
    "scrolled": false
   },
   "outputs": [],
   "source": [
    "verbose = True\n",
    "\n",
    "segment_id=key[\"segment_id\"]\n",
    "print(f\"\\n-- Working on neuron {segment_id}---\")\n",
    "\n",
    "segment_map_dict = (minnie.AutoProofreadValidationSegmentMap4() & key).fetch1()\n",
    "\n",
    "#1) Find the coordinates of the nucleus for that new segment\n",
    "nucleus_id = segment_map_dict[\"nucleus_id\"]\n",
    "nuc_center_coords = du.nuclei_id_to_nucleus_centers(nucleus_id)\n",
    "if verbose:\n",
    "    print(f\"nuc_center_coords = {nuc_center_coords}\")\n",
    "\n",
    "#2) Make sure that same number of DecompositionAxon objects as in Decomposition\n",
    "old_segment_id = segment_map_dict[\"old_segment_id\"]\n",
    "if verbose:\n",
    "    print(f\"old_segment_id = {old_segment_id}\")\n",
    "    \n",
    "search_key = dict(segment_id=old_segment_id)\n",
    "n_somas = len(minnie.BaylorSegmentCentroid() & search_key)\n",
    "n_decomp_axon = len(minnie.DecompositionAxon() & search_key)\n",
    "if verbose:\n",
    "    print(f\"# of somas = {n_somas} and # of DecompositionAxon = {n_decomp_axon}\")\n",
    "    \n",
    "\n",
    "if n_somas != n_decomp_axon:\n",
    "    raise Exception(f\"# of somas = {n_somas} NOT MATCH # of DecompositionAxon = {n_decomp_axon}\")\n",
    "    \n",
    "#3) Pick the neuron object that is closest and within a certain range of the nucleus\n",
    "neuron_objs,split_idxs = du.decomposition_with_spine_recalculation(old_segment_id)\n",
    "if n_somas > 1:\n",
    "    \"\"\"\n",
    "    Finding the closest soma:\n",
    "    1) For each neuron object get the mesh center of the soma object\n",
    "    2) Find the distance of each from the nucleus center\n",
    "    3) Find the arg min distance and make sure within threshold\n",
    "    4) Mark the current neuron and the current split index\n",
    "    \"\"\"\n",
    "    nuclei_distance_threshold = 15000\n",
    "\n",
    "    soma_center_coords = [k[\"S0\"].mesh_center for k in neuron_objs]\n",
    "    soma_distances = [np.linalg.norm(k-nuc_center_coords) for k in soma_center_coords]\n",
    "    min_dist_arg = np.argmin(soma_distances)\n",
    "    min_dist = soma_distances[min_dist_arg]\n",
    "\n",
    "    if verbose:\n",
    "        print(f\"soma_distances = {soma_distances}\")\n",
    "        print(f\"min_dist_arg = {min_dist_arg}, with min distance = {min_dist}\")\n",
    "\n",
    "    if min_dist > nuclei_distance_threshold:\n",
    "        raise Exception(f\"min_dist ({min_dist}) larger than nuclei_distance_threshold ({nuclei_distance_threshold})\")\n",
    "\n",
    "    neuron_obj = neuron_objs[min_dist_arg]\n",
    "    split_index = split_idxs[min_dist_arg]\n",
    "\n",
    "    if verbose:\n",
    "        print(f\"Winning split_index = {split_index}\")\n",
    "else:\n",
    "    split_index = split_idxs[0]\n",
    "    neuron_obj = neuron_objs[0]\n",
    "    \n",
    "    \n",
    "import proofreading_utils as pru\n",
    "import validation_utils as vu\n",
    "(filt_neuron,\n",
    "     return_synapse_df_revised,\n",
    "     return_synapse_df_errors,\n",
    "    return_validation_df_revised,\n",
    "    return_validation_df_extension) =  vu.filtered_neuron_score(neuron_obj = neuron_obj,   \n",
    "                        filter_list = pru.v5_exc_filters(),\n",
    "                        plot_limb_branch_filter_with_disconnect_effect = True,\n",
    "                        verbose = True,\n",
    "                        plot_score=False,\n",
    "                        nucleus_id = nucleus_id,\n",
    "                        return_synapse_df_errors=True,\n",
    "                        return_validation_df_extension = True,                                        \n",
    "                        split_index=split_index)\n",
    "    "
   ]
  },
  {
   "cell_type": "code",
   "execution_count": null,
   "metadata": {},
   "outputs": [],
   "source": [
    "vu.synapse_validation_df_to_score_plot(return_validation_df_revised)"
   ]
  },
  {
   "cell_type": "code",
   "execution_count": null,
   "metadata": {},
   "outputs": [],
   "source": [
    "nviz.plot_axon(filt_neuron)"
   ]
  },
  {
   "cell_type": "code",
   "execution_count": null,
   "metadata": {},
   "outputs": [],
   "source": [
    "# import neuron_visualizations as nviz\n",
    "# nviz.visualize_neuron(filt_neuron,\n",
    "#                       limb_branch_dict=\"all\")"
   ]
  },
  {
   "cell_type": "code",
   "execution_count": null,
   "metadata": {
    "scrolled": false
   },
   "outputs": [],
   "source": [
    "minnie.AutoProofreadValidationSegmentMap4() & key"
   ]
  },
  {
   "cell_type": "code",
   "execution_count": null,
   "metadata": {},
   "outputs": [],
   "source": [
    "filt_neuron.segment_id"
   ]
  },
  {
   "cell_type": "code",
   "execution_count": null,
   "metadata": {
    "scrolled": false
   },
   "outputs": [],
   "source": [
    "vu.plot_validation_synapses(filt_neuron.segment_id,\n",
    "                            validation_df = return_validation_df_revised,\n",
    "                             synapse_dict = None,\n",
    "                             synapses_type_to_plot = None,\n",
    "                             synapses_type_to_not_plot = None,\n",
    "                             verbose=False,\n",
    "                             synapse_type = \"presyn\",\n",
    "                             TP_color=\"yellow\",\n",
    "                            TN_color=\"aqua\",\n",
    "                            FP_color=\"black\",\n",
    "                            FN_color=\"orange\",\n",
    "                             synapse_scatter_size = 0.15,\n",
    "                             \n",
    "                             #for plotting the actual mesh parts to go along\n",
    "                             \n",
    "                             neuron_obj = filt_neuron,\n",
    "                             plot_only_axon_skeleton = True,\n",
    "                             error_mesh_color = \"red\",\n",
    "                             valid_mesh_color = \"green\",\n",
    "                             valid_skeleton_color = \"black\",\n",
    "                             mesh_alpha = 0.3,)"
   ]
  },
  {
   "cell_type": "markdown",
   "metadata": {},
   "source": [
    "# How to attach the synapses"
   ]
  },
  {
   "cell_type": "code",
   "execution_count": null,
   "metadata": {},
   "outputs": [],
   "source": [
    "beginning_direct_connections = du.segment_id_to_synapse_table(filt_neuron.segment_id,\n",
    "                                                                         validation=True)\n",
    "beginning_direct_connections"
   ]
  },
  {
   "cell_type": "code",
   "execution_count": null,
   "metadata": {},
   "outputs": [],
   "source": []
  },
  {
   "cell_type": "code",
   "execution_count": null,
   "metadata": {},
   "outputs": [],
   "source": [
    "864691135584074360"
   ]
  },
  {
   "cell_type": "code",
   "execution_count": null,
   "metadata": {},
   "outputs": [],
   "source": []
  },
  {
   "cell_type": "markdown",
   "metadata": {},
   "source": [
    "# Debugging the Stitch Distance"
   ]
  },
  {
   "cell_type": "code",
   "execution_count": null,
   "metadata": {},
   "outputs": [],
   "source": [
    "incorp_floating_pieces = nru.non_soma_touching_meshes_stitched(filt_neuron)\n",
    "incorp_floating_pieces"
   ]
  },
  {
   "cell_type": "code",
   "execution_count": null,
   "metadata": {},
   "outputs": [],
   "source": [
    "nviz.plot_objects(meshes = incorp_floating_pieces)"
   ]
  },
  {
   "cell_type": "code",
   "execution_count": null,
   "metadata": {},
   "outputs": [],
   "source": [
    "nru.filter_branches_by_restriction_mesh(filt_neuron[2],\n",
    "                                       restriction_mesh=incorp_floating_pieces[0])"
   ]
  },
  {
   "cell_type": "code",
   "execution_count": null,
   "metadata": {},
   "outputs": [],
   "source": [
    "[k for k in dir(nru) if \"mesh\" in k]"
   ]
  },
  {
   "cell_type": "code",
   "execution_count": null,
   "metadata": {},
   "outputs": [],
   "source": [
    "nru.find_parent_child_skeleton_angle(filt_neuron[2],68,\n",
    "                                     comparison_distance=5000,\n",
    "                                     offset=0,\n",
    "                                    plot_extracted_skeletons=True)"
   ]
  },
  {
   "cell_type": "code",
   "execution_count": null,
   "metadata": {},
   "outputs": [],
   "source": [
    "nru.upstream_node(filt_neuron[2],68)"
   ]
  },
  {
   "cell_type": "code",
   "execution_count": null,
   "metadata": {},
   "outputs": [],
   "source": [
    "nviz.plot_limb_path(filt_neuron[2],[68])"
   ]
  },
  {
   "cell_type": "code",
   "execution_count": null,
   "metadata": {},
   "outputs": [],
   "source": [
    "nviz.visualize_neuron_specific_limb(filt_neuron,\n",
    "                                   filt_neuron.axon_limb_idx)"
   ]
  },
  {
   "cell_type": "code",
   "execution_count": null,
   "metadata": {},
   "outputs": [],
   "source": [
    "minnie.AutoProofreadStats5()"
   ]
  },
  {
   "cell_type": "code",
   "execution_count": null,
   "metadata": {},
   "outputs": [],
   "source": [
    "du.plot_proofread_neuron(864691135517422218,\n",
    "                         plot_proofreading_synapses=True,\n",
    "                        plot_errored_faces=True)"
   ]
  },
  {
   "cell_type": "code",
   "execution_count": null,
   "metadata": {},
   "outputs": [],
   "source": []
  },
  {
   "cell_type": "markdown",
   "metadata": {},
   "source": [
    "# Checking the long Axons"
   ]
  },
  {
   "cell_type": "code",
   "execution_count": null,
   "metadata": {},
   "outputs": [],
   "source": [
    "du.proofreading_neurons_table() & \"axon_length>2000\" & \"spine_category='densely_spined'\""
   ]
  },
  {
   "cell_type": "code",
   "execution_count": null,
   "metadata": {},
   "outputs": [],
   "source": [
    "du.plot_proofread_neuron(864691134917429770,\n",
    "                        plot_proofreading_synapses=True)"
   ]
  },
  {
   "cell_type": "code",
   "execution_count": null,
   "metadata": {},
   "outputs": [],
   "source": [
    "import ipyvolume as ipv\n",
    "ipv.gcf()"
   ]
  },
  {
   "cell_type": "code",
   "execution_count": null,
   "metadata": {},
   "outputs": [],
   "source": [
    "ipv.pylab.save(\"864691134917429770_proof_v5.html\")"
   ]
  },
  {
   "cell_type": "code",
   "execution_count": null,
   "metadata": {},
   "outputs": [],
   "source": [
    "du.plot_proofread_mesh_skeleton(864691134917429770)"
   ]
  },
  {
   "cell_type": "code",
   "execution_count": null,
   "metadata": {},
   "outputs": [],
   "source": [
    "minnie,_ = du.configure_minnie_vm()\n",
    "from importlib import reload\n",
    "du = reload(du)"
   ]
  },
  {
   "cell_type": "code",
   "execution_count": null,
   "metadata": {},
   "outputs": [],
   "source": []
  },
  {
   "cell_type": "code",
   "execution_count": null,
   "metadata": {},
   "outputs": [],
   "source": []
  },
  {
   "cell_type": "code",
   "execution_count": null,
   "metadata": {},
   "outputs": [],
   "source": []
  },
  {
   "cell_type": "code",
   "execution_count": null,
   "metadata": {},
   "outputs": [],
   "source": []
  }
 ],
 "metadata": {
  "kernelspec": {
   "display_name": "Python 3",
   "language": "python",
   "name": "python3"
  },
  "language_info": {
   "codemirror_mode": {
    "name": "ipython",
    "version": 3
   },
   "file_extension": ".py",
   "mimetype": "text/x-python",
   "name": "python",
   "nbconvert_exporter": "python",
   "pygments_lexer": "ipython3",
   "version": "3.6.9"
  }
 },
 "nbformat": 4,
 "nbformat_minor": 4
}
