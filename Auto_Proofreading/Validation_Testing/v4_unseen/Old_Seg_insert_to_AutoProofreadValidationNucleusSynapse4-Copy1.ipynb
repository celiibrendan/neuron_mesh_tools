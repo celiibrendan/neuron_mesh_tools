{
 "cells": [
  {
   "cell_type": "code",
   "execution_count": 1,
   "metadata": {},
   "outputs": [],
   "source": [
    "%load_ext autoreload\n",
    "%autoreload 2"
   ]
  },
  {
   "cell_type": "code",
   "execution_count": 2,
   "metadata": {},
   "outputs": [
    {
     "name": "stderr",
     "output_type": "stream",
     "text": [
      "INFO - 2021-05-24 15:22:42,231 - settings - Setting database.host to at-database.ad.bcm.edu\n",
      "INFO - 2021-05-24 15:22:42,232 - settings - Setting database.user to celiib\n",
      "INFO - 2021-05-24 15:22:42,232 - settings - Setting database.password to newceliipass\n",
      "INFO - 2021-05-24 15:22:42,236 - settings - Setting stores to {'minnie65': {'protocol': 'file', 'location': '/mnt/dj-stor01/platinum/minnie65', 'stage': '/mnt/dj-stor01/platinum/minnie65'}, 'meshes': {'protocol': 'file', 'location': '/mnt/dj-stor01/platinum/minnie65/02/meshes', 'stage': '/mnt/dj-stor01/platinum/minnie65/02/meshes'}, 'decimated_meshes': {'protocol': 'file', 'location': '/mnt/dj-stor01/platinum/minnie65/02/decimated_meshes', 'stage': '/mnt/dj-stor01/platinum/minnie65/02/decimated_meshes'}, 'skeletons': {'protocol': 'file', 'location': '/mnt/dj-stor01/platinum/minnie65/02/skeletons'}}\n",
      "INFO - 2021-05-24 15:22:42,236 - settings - Setting enable_python_native_blobs to True\n",
      "INFO - 2021-05-24 15:22:42,248 - connection - Connected celiib@at-database.ad.bcm.edu:3306\n"
     ]
    },
    {
     "name": "stdout",
     "output_type": "stream",
     "text": [
      "Connecting celiib@at-database.ad.bcm.edu:3306\n"
     ]
    },
    {
     "name": "stderr",
     "output_type": "stream",
     "text": [
      "INFO - 2021-05-24 15:22:42,704 - settings - Setting enable_python_native_blobs to True\n",
      "INFO - 2021-05-24 15:22:42,707 - settings - Setting database.host to at-database.ad.bcm.edu\n",
      "INFO - 2021-05-24 15:22:42,708 - settings - Setting database.user to celiib\n",
      "INFO - 2021-05-24 15:22:42,709 - settings - Setting database.password to newceliipass\n",
      "INFO - 2021-05-24 15:22:42,710 - settings - Setting database.host to at-database.ad.bcm.edu\n",
      "INFO - 2021-05-24 15:22:42,711 - settings - Setting database.user to celiib\n",
      "INFO - 2021-05-24 15:22:42,712 - settings - Setting database.password to newceliipass\n",
      "INFO - 2021-05-24 15:22:42,714 - settings - Setting enable_python_native_blobs to True\n",
      "INFO - 2021-05-24 15:22:43,208 - settings - Setting enable_python_native_blobs to True\n",
      "INFO - 2021-05-24 15:22:43,246 - settings - Setting database.host to at-database.ad.bcm.edu\n",
      "INFO - 2021-05-24 15:22:43,247 - settings - Setting database.user to celiib\n",
      "INFO - 2021-05-24 15:22:43,248 - settings - Setting database.password to newceliipass\n",
      "INFO - 2021-05-24 15:22:43,252 - settings - Setting enable_python_native_blobs to True\n",
      "INFO - 2021-05-24 15:22:43,804 - settings - Setting enable_python_native_blobs to True\n"
     ]
    }
   ],
   "source": [
    "from os import sys\n",
    "sys.path.append(\"/meshAfterParty/meshAfterParty/\")\n",
    "import datajoint as dj\n",
    "import datajoint_utils as du\n",
    "\n",
    "minnie,schema = du.configure_minnie_vm()\n",
    "m65mat = du.m65mat"
   ]
  },
  {
   "cell_type": "code",
   "execution_count": 3,
   "metadata": {},
   "outputs": [],
   "source": [
    "import validation_utils as vu"
   ]
  },
  {
   "cell_type": "code",
   "execution_count": 4,
   "metadata": {},
   "outputs": [],
   "source": [
    "# original_seg_ids = ((minnie.Decimation() & minnie.AutoProofreadValidationSegment4() & \"decimation_ratio=0.25\") \n",
    "#                     - minnie.AutoProofreadValidationSegmentExclude4()).fetch(\"segment_id\")\n",
    "# original_seg_ids"
   ]
  },
  {
   "cell_type": "code",
   "execution_count": 5,
   "metadata": {},
   "outputs": [],
   "source": [
    "import system_utils as su\n",
    "original_seg_ids = su.decompress_pickle(\"original_seg_ids\")"
   ]
  },
  {
   "cell_type": "code",
   "execution_count": 6,
   "metadata": {},
   "outputs": [
    {
     "data": {
      "text/plain": [
       "(138,)"
      ]
     },
     "execution_count": 6,
     "metadata": {},
     "output_type": "execute_result"
    }
   ],
   "source": [
    "original_seg_ids.shape"
   ]
  },
  {
   "cell_type": "code",
   "execution_count": 7,
   "metadata": {},
   "outputs": [
    {
     "name": "stdout",
     "output_type": "stream",
     "text": [
      "\n",
      "Working on neuron 28: 864691135407289801\n",
      "# of end nodes = 22\n",
      "last_datetime_edited = 2020-10-09 15:06:43.063000\n",
      "# of presyn = 863, # of postsyn = 3985\n",
      "Total synapses BEFORE filtering = 4848\n",
      "Total synapses AFTER filtering = 4830\n",
      "3612 out of 4830 were within threshold of original mesh\n"
     ]
    },
    {
     "name": "stderr",
     "output_type": "stream",
     "text": [
      "/meshAfterParty/meshAfterParty/validation_utils.py:2432: SettingWithCopyWarning: \n",
      "A value is trying to be set on a copy of a slice from a DataFrame.\n",
      "Try using .loc[row_indexer,col_indexer] = value instead\n",
      "\n",
      "See the caveats in the documentation: https://pandas.pydata.org/pandas-docs/stable/user_guide/indexing.html#returning-a-view-versus-a-copy\n",
      "  syn_match[\"synapse_x\"] = np.array(list(syn_match[\"ctr_pt_position\"].to_numpy()))[:,0]\n",
      "/meshAfterParty/meshAfterParty/validation_utils.py:2433: SettingWithCopyWarning: \n",
      "A value is trying to be set on a copy of a slice from a DataFrame.\n",
      "Try using .loc[row_indexer,col_indexer] = value instead\n",
      "\n",
      "See the caveats in the documentation: https://pandas.pydata.org/pandas-docs/stable/user_guide/indexing.html#returning-a-view-versus-a-copy\n",
      "  syn_match[\"synapse_y\"] = np.array(list(syn_match[\"ctr_pt_position\"].to_numpy()))[:,1]\n",
      "/meshAfterParty/meshAfterParty/validation_utils.py:2434: SettingWithCopyWarning: \n",
      "A value is trying to be set on a copy of a slice from a DataFrame.\n",
      "Try using .loc[row_indexer,col_indexer] = value instead\n",
      "\n",
      "See the caveats in the documentation: https://pandas.pydata.org/pandas-docs/stable/user_guide/indexing.html#returning-a-view-versus-a-copy\n",
      "  syn_match[\"synapse_z\"] = np.array(list(syn_match[\"ctr_pt_position\"].to_numpy()))[:,2]\n"
     ]
    },
    {
     "name": "stdout",
     "output_type": "stream",
     "text": [
      "\n",
      "Working on neuron 29: 864691135462735678\n",
      "# of end nodes = 62\n",
      "last_datetime_edited = 2020-11-30 00:47:12.697000\n",
      "# of presyn = 3356, # of postsyn = 20678\n",
      "Total synapses BEFORE filtering = 24034\n",
      "Total synapses AFTER filtering = 23854\n",
      "7109 out of 23854 were within threshold of original mesh\n"
     ]
    },
    {
     "name": "stderr",
     "output_type": "stream",
     "text": [
      "/meshAfterParty/meshAfterParty/validation_utils.py:2432: SettingWithCopyWarning: \n",
      "A value is trying to be set on a copy of a slice from a DataFrame.\n",
      "Try using .loc[row_indexer,col_indexer] = value instead\n",
      "\n",
      "See the caveats in the documentation: https://pandas.pydata.org/pandas-docs/stable/user_guide/indexing.html#returning-a-view-versus-a-copy\n",
      "  syn_match[\"synapse_x\"] = np.array(list(syn_match[\"ctr_pt_position\"].to_numpy()))[:,0]\n",
      "/meshAfterParty/meshAfterParty/validation_utils.py:2433: SettingWithCopyWarning: \n",
      "A value is trying to be set on a copy of a slice from a DataFrame.\n",
      "Try using .loc[row_indexer,col_indexer] = value instead\n",
      "\n",
      "See the caveats in the documentation: https://pandas.pydata.org/pandas-docs/stable/user_guide/indexing.html#returning-a-view-versus-a-copy\n",
      "  syn_match[\"synapse_y\"] = np.array(list(syn_match[\"ctr_pt_position\"].to_numpy()))[:,1]\n",
      "/meshAfterParty/meshAfterParty/validation_utils.py:2434: SettingWithCopyWarning: \n",
      "A value is trying to be set on a copy of a slice from a DataFrame.\n",
      "Try using .loc[row_indexer,col_indexer] = value instead\n",
      "\n",
      "See the caveats in the documentation: https://pandas.pydata.org/pandas-docs/stable/user_guide/indexing.html#returning-a-view-versus-a-copy\n",
      "  syn_match[\"synapse_z\"] = np.array(list(syn_match[\"ctr_pt_position\"].to_numpy()))[:,2]\n"
     ]
    },
    {
     "name": "stdout",
     "output_type": "stream",
     "text": [
      "\n",
      "Working on neuron 30: 864691135467605132\n",
      "# of end nodes = 26\n",
      "last_datetime_edited = 2021-01-12 17:52:40.842000\n",
      "# of presyn = 910, # of postsyn = 20420\n",
      "Total synapses BEFORE filtering = 21330\n",
      "Total synapses AFTER filtering = 21134\n",
      "20460 out of 21134 were within threshold of original mesh\n"
     ]
    },
    {
     "name": "stderr",
     "output_type": "stream",
     "text": [
      "/meshAfterParty/meshAfterParty/validation_utils.py:2432: SettingWithCopyWarning: \n",
      "A value is trying to be set on a copy of a slice from a DataFrame.\n",
      "Try using .loc[row_indexer,col_indexer] = value instead\n",
      "\n",
      "See the caveats in the documentation: https://pandas.pydata.org/pandas-docs/stable/user_guide/indexing.html#returning-a-view-versus-a-copy\n",
      "  syn_match[\"synapse_x\"] = np.array(list(syn_match[\"ctr_pt_position\"].to_numpy()))[:,0]\n",
      "/meshAfterParty/meshAfterParty/validation_utils.py:2433: SettingWithCopyWarning: \n",
      "A value is trying to be set on a copy of a slice from a DataFrame.\n",
      "Try using .loc[row_indexer,col_indexer] = value instead\n",
      "\n",
      "See the caveats in the documentation: https://pandas.pydata.org/pandas-docs/stable/user_guide/indexing.html#returning-a-view-versus-a-copy\n",
      "  syn_match[\"synapse_y\"] = np.array(list(syn_match[\"ctr_pt_position\"].to_numpy()))[:,1]\n",
      "/meshAfterParty/meshAfterParty/validation_utils.py:2434: SettingWithCopyWarning: \n",
      "A value is trying to be set on a copy of a slice from a DataFrame.\n",
      "Try using .loc[row_indexer,col_indexer] = value instead\n",
      "\n",
      "See the caveats in the documentation: https://pandas.pydata.org/pandas-docs/stable/user_guide/indexing.html#returning-a-view-versus-a-copy\n",
      "  syn_match[\"synapse_z\"] = np.array(list(syn_match[\"ctr_pt_position\"].to_numpy()))[:,2]\n"
     ]
    },
    {
     "name": "stdout",
     "output_type": "stream",
     "text": [
      "\n",
      "Working on neuron 31: 864691135474673984\n",
      "# of end nodes = 16\n",
      "last_datetime_edited = 2021-02-17 15:34:14.755000\n",
      "# of presyn = 168, # of postsyn = 5131\n",
      "Total synapses BEFORE filtering = 5299\n",
      "Total synapses AFTER filtering = 5279\n",
      "5267 out of 5279 were within threshold of original mesh\n"
     ]
    },
    {
     "name": "stderr",
     "output_type": "stream",
     "text": [
      "/meshAfterParty/meshAfterParty/validation_utils.py:2432: SettingWithCopyWarning: \n",
      "A value is trying to be set on a copy of a slice from a DataFrame.\n",
      "Try using .loc[row_indexer,col_indexer] = value instead\n",
      "\n",
      "See the caveats in the documentation: https://pandas.pydata.org/pandas-docs/stable/user_guide/indexing.html#returning-a-view-versus-a-copy\n",
      "  syn_match[\"synapse_x\"] = np.array(list(syn_match[\"ctr_pt_position\"].to_numpy()))[:,0]\n",
      "/meshAfterParty/meshAfterParty/validation_utils.py:2433: SettingWithCopyWarning: \n",
      "A value is trying to be set on a copy of a slice from a DataFrame.\n",
      "Try using .loc[row_indexer,col_indexer] = value instead\n",
      "\n",
      "See the caveats in the documentation: https://pandas.pydata.org/pandas-docs/stable/user_guide/indexing.html#returning-a-view-versus-a-copy\n",
      "  syn_match[\"synapse_y\"] = np.array(list(syn_match[\"ctr_pt_position\"].to_numpy()))[:,1]\n",
      "/meshAfterParty/meshAfterParty/validation_utils.py:2434: SettingWithCopyWarning: \n",
      "A value is trying to be set on a copy of a slice from a DataFrame.\n",
      "Try using .loc[row_indexer,col_indexer] = value instead\n",
      "\n",
      "See the caveats in the documentation: https://pandas.pydata.org/pandas-docs/stable/user_guide/indexing.html#returning-a-view-versus-a-copy\n",
      "  syn_match[\"synapse_z\"] = np.array(list(syn_match[\"ctr_pt_position\"].to_numpy()))[:,2]\n"
     ]
    },
    {
     "name": "stdout",
     "output_type": "stream",
     "text": [
      "\n",
      "Working on neuron 32: 864691135491233631\n",
      "# of end nodes = 56\n",
      "last_datetime_edited = 2020-08-18 19:34:17.224000\n",
      "# of presyn = 1325, # of postsyn = 1483\n",
      "Total synapses BEFORE filtering = 2808\n",
      "Total synapses AFTER filtering = 2790\n",
      "924 out of 2790 were within threshold of original mesh\n",
      "\n",
      "Working on neuron 33: 864691135497641235\n"
     ]
    },
    {
     "name": "stderr",
     "output_type": "stream",
     "text": [
      "/meshAfterParty/meshAfterParty/validation_utils.py:2432: SettingWithCopyWarning: \n",
      "A value is trying to be set on a copy of a slice from a DataFrame.\n",
      "Try using .loc[row_indexer,col_indexer] = value instead\n",
      "\n",
      "See the caveats in the documentation: https://pandas.pydata.org/pandas-docs/stable/user_guide/indexing.html#returning-a-view-versus-a-copy\n",
      "  syn_match[\"synapse_x\"] = np.array(list(syn_match[\"ctr_pt_position\"].to_numpy()))[:,0]\n",
      "/meshAfterParty/meshAfterParty/validation_utils.py:2433: SettingWithCopyWarning: \n",
      "A value is trying to be set on a copy of a slice from a DataFrame.\n",
      "Try using .loc[row_indexer,col_indexer] = value instead\n",
      "\n",
      "See the caveats in the documentation: https://pandas.pydata.org/pandas-docs/stable/user_guide/indexing.html#returning-a-view-versus-a-copy\n",
      "  syn_match[\"synapse_y\"] = np.array(list(syn_match[\"ctr_pt_position\"].to_numpy()))[:,1]\n",
      "/meshAfterParty/meshAfterParty/validation_utils.py:2434: SettingWithCopyWarning: \n",
      "A value is trying to be set on a copy of a slice from a DataFrame.\n",
      "Try using .loc[row_indexer,col_indexer] = value instead\n",
      "\n",
      "See the caveats in the documentation: https://pandas.pydata.org/pandas-docs/stable/user_guide/indexing.html#returning-a-view-versus-a-copy\n",
      "  syn_match[\"synapse_z\"] = np.array(list(syn_match[\"ctr_pt_position\"].to_numpy()))[:,2]\n"
     ]
    },
    {
     "name": "stdout",
     "output_type": "stream",
     "text": [
      "# of end nodes = 24\n",
      "last_datetime_edited = 2021-02-17 15:31:43.289000\n",
      "# of presyn = 325, # of postsyn = 5694\n",
      "Total synapses BEFORE filtering = 6019\n",
      "Total synapses AFTER filtering = 5979\n",
      "5894 out of 5979 were within threshold of original mesh\n"
     ]
    },
    {
     "name": "stderr",
     "output_type": "stream",
     "text": [
      "/meshAfterParty/meshAfterParty/validation_utils.py:2432: SettingWithCopyWarning: \n",
      "A value is trying to be set on a copy of a slice from a DataFrame.\n",
      "Try using .loc[row_indexer,col_indexer] = value instead\n",
      "\n",
      "See the caveats in the documentation: https://pandas.pydata.org/pandas-docs/stable/user_guide/indexing.html#returning-a-view-versus-a-copy\n",
      "  syn_match[\"synapse_x\"] = np.array(list(syn_match[\"ctr_pt_position\"].to_numpy()))[:,0]\n",
      "/meshAfterParty/meshAfterParty/validation_utils.py:2433: SettingWithCopyWarning: \n",
      "A value is trying to be set on a copy of a slice from a DataFrame.\n",
      "Try using .loc[row_indexer,col_indexer] = value instead\n",
      "\n",
      "See the caveats in the documentation: https://pandas.pydata.org/pandas-docs/stable/user_guide/indexing.html#returning-a-view-versus-a-copy\n",
      "  syn_match[\"synapse_y\"] = np.array(list(syn_match[\"ctr_pt_position\"].to_numpy()))[:,1]\n",
      "/meshAfterParty/meshAfterParty/validation_utils.py:2434: SettingWithCopyWarning: \n",
      "A value is trying to be set on a copy of a slice from a DataFrame.\n",
      "Try using .loc[row_indexer,col_indexer] = value instead\n",
      "\n",
      "See the caveats in the documentation: https://pandas.pydata.org/pandas-docs/stable/user_guide/indexing.html#returning-a-view-versus-a-copy\n",
      "  syn_match[\"synapse_z\"] = np.array(list(syn_match[\"ctr_pt_position\"].to_numpy()))[:,2]\n"
     ]
    },
    {
     "name": "stdout",
     "output_type": "stream",
     "text": [
      "\n",
      "Working on neuron 34: 864691135501578306\n",
      "# of end nodes = 45\n",
      "last_datetime_edited = 2020-09-16 15:09:42.162000\n",
      "# of presyn = 521, # of postsyn = 2991\n",
      "Total synapses BEFORE filtering = 3512\n",
      "Total synapses AFTER filtering = 3476\n",
      "2818 out of 3476 were within threshold of original mesh\n"
     ]
    },
    {
     "name": "stderr",
     "output_type": "stream",
     "text": [
      "/meshAfterParty/meshAfterParty/validation_utils.py:2432: SettingWithCopyWarning: \n",
      "A value is trying to be set on a copy of a slice from a DataFrame.\n",
      "Try using .loc[row_indexer,col_indexer] = value instead\n",
      "\n",
      "See the caveats in the documentation: https://pandas.pydata.org/pandas-docs/stable/user_guide/indexing.html#returning-a-view-versus-a-copy\n",
      "  syn_match[\"synapse_x\"] = np.array(list(syn_match[\"ctr_pt_position\"].to_numpy()))[:,0]\n",
      "/meshAfterParty/meshAfterParty/validation_utils.py:2433: SettingWithCopyWarning: \n",
      "A value is trying to be set on a copy of a slice from a DataFrame.\n",
      "Try using .loc[row_indexer,col_indexer] = value instead\n",
      "\n",
      "See the caveats in the documentation: https://pandas.pydata.org/pandas-docs/stable/user_guide/indexing.html#returning-a-view-versus-a-copy\n",
      "  syn_match[\"synapse_y\"] = np.array(list(syn_match[\"ctr_pt_position\"].to_numpy()))[:,1]\n",
      "/meshAfterParty/meshAfterParty/validation_utils.py:2434: SettingWithCopyWarning: \n",
      "A value is trying to be set on a copy of a slice from a DataFrame.\n",
      "Try using .loc[row_indexer,col_indexer] = value instead\n",
      "\n",
      "See the caveats in the documentation: https://pandas.pydata.org/pandas-docs/stable/user_guide/indexing.html#returning-a-view-versus-a-copy\n",
      "  syn_match[\"synapse_z\"] = np.array(list(syn_match[\"ctr_pt_position\"].to_numpy()))[:,2]\n"
     ]
    },
    {
     "name": "stdout",
     "output_type": "stream",
     "text": [
      "\n",
      "Working on neuron 35: 864691135501833053\n",
      "# of end nodes = 18\n",
      "last_datetime_edited = 2021-02-09 21:54:51.748000\n",
      "# of presyn = 326, # of postsyn = 6756\n",
      "Total synapses BEFORE filtering = 7082\n",
      "Total synapses AFTER filtering = 7030\n",
      "6960 out of 7030 were within threshold of original mesh\n"
     ]
    },
    {
     "name": "stderr",
     "output_type": "stream",
     "text": [
      "/meshAfterParty/meshAfterParty/validation_utils.py:2432: SettingWithCopyWarning: \n",
      "A value is trying to be set on a copy of a slice from a DataFrame.\n",
      "Try using .loc[row_indexer,col_indexer] = value instead\n",
      "\n",
      "See the caveats in the documentation: https://pandas.pydata.org/pandas-docs/stable/user_guide/indexing.html#returning-a-view-versus-a-copy\n",
      "  syn_match[\"synapse_x\"] = np.array(list(syn_match[\"ctr_pt_position\"].to_numpy()))[:,0]\n",
      "/meshAfterParty/meshAfterParty/validation_utils.py:2433: SettingWithCopyWarning: \n",
      "A value is trying to be set on a copy of a slice from a DataFrame.\n",
      "Try using .loc[row_indexer,col_indexer] = value instead\n",
      "\n",
      "See the caveats in the documentation: https://pandas.pydata.org/pandas-docs/stable/user_guide/indexing.html#returning-a-view-versus-a-copy\n",
      "  syn_match[\"synapse_y\"] = np.array(list(syn_match[\"ctr_pt_position\"].to_numpy()))[:,1]\n",
      "/meshAfterParty/meshAfterParty/validation_utils.py:2434: SettingWithCopyWarning: \n",
      "A value is trying to be set on a copy of a slice from a DataFrame.\n",
      "Try using .loc[row_indexer,col_indexer] = value instead\n",
      "\n",
      "See the caveats in the documentation: https://pandas.pydata.org/pandas-docs/stable/user_guide/indexing.html#returning-a-view-versus-a-copy\n",
      "  syn_match[\"synapse_z\"] = np.array(list(syn_match[\"ctr_pt_position\"].to_numpy()))[:,2]\n"
     ]
    },
    {
     "name": "stdout",
     "output_type": "stream",
     "text": [
      "\n",
      "Working on neuron 36: 864691135508704777\n",
      "# of end nodes = 7\n",
      "last_datetime_edited = 2021-01-26 23:35:57.366000\n",
      "# of presyn = 163, # of postsyn = 6457\n",
      "Total synapses BEFORE filtering = 6620\n",
      "Total synapses AFTER filtering = 6600\n",
      "5521 out of 6600 were within threshold of original mesh\n"
     ]
    },
    {
     "name": "stderr",
     "output_type": "stream",
     "text": [
      "/meshAfterParty/meshAfterParty/validation_utils.py:2432: SettingWithCopyWarning: \n",
      "A value is trying to be set on a copy of a slice from a DataFrame.\n",
      "Try using .loc[row_indexer,col_indexer] = value instead\n",
      "\n",
      "See the caveats in the documentation: https://pandas.pydata.org/pandas-docs/stable/user_guide/indexing.html#returning-a-view-versus-a-copy\n",
      "  syn_match[\"synapse_x\"] = np.array(list(syn_match[\"ctr_pt_position\"].to_numpy()))[:,0]\n",
      "/meshAfterParty/meshAfterParty/validation_utils.py:2433: SettingWithCopyWarning: \n",
      "A value is trying to be set on a copy of a slice from a DataFrame.\n",
      "Try using .loc[row_indexer,col_indexer] = value instead\n",
      "\n",
      "See the caveats in the documentation: https://pandas.pydata.org/pandas-docs/stable/user_guide/indexing.html#returning-a-view-versus-a-copy\n",
      "  syn_match[\"synapse_y\"] = np.array(list(syn_match[\"ctr_pt_position\"].to_numpy()))[:,1]\n",
      "/meshAfterParty/meshAfterParty/validation_utils.py:2434: SettingWithCopyWarning: \n",
      "A value is trying to be set on a copy of a slice from a DataFrame.\n",
      "Try using .loc[row_indexer,col_indexer] = value instead\n",
      "\n",
      "See the caveats in the documentation: https://pandas.pydata.org/pandas-docs/stable/user_guide/indexing.html#returning-a-view-versus-a-copy\n",
      "  syn_match[\"synapse_z\"] = np.array(list(syn_match[\"ctr_pt_position\"].to_numpy()))[:,2]\n"
     ]
    },
    {
     "name": "stdout",
     "output_type": "stream",
     "text": [
      "\n",
      "Working on neuron 37: 864691135508720393\n",
      "# of end nodes = 28\n",
      "last_datetime_edited = 2021-02-25 14:02:30.045000\n",
      "# of presyn = 223, # of postsyn = 5476\n",
      "Total synapses BEFORE filtering = 5699\n",
      "Total synapses AFTER filtering = 5653\n",
      "5575 out of 5653 were within threshold of original mesh\n"
     ]
    },
    {
     "name": "stderr",
     "output_type": "stream",
     "text": [
      "/meshAfterParty/meshAfterParty/validation_utils.py:2432: SettingWithCopyWarning: \n",
      "A value is trying to be set on a copy of a slice from a DataFrame.\n",
      "Try using .loc[row_indexer,col_indexer] = value instead\n",
      "\n",
      "See the caveats in the documentation: https://pandas.pydata.org/pandas-docs/stable/user_guide/indexing.html#returning-a-view-versus-a-copy\n",
      "  syn_match[\"synapse_x\"] = np.array(list(syn_match[\"ctr_pt_position\"].to_numpy()))[:,0]\n",
      "/meshAfterParty/meshAfterParty/validation_utils.py:2433: SettingWithCopyWarning: \n",
      "A value is trying to be set on a copy of a slice from a DataFrame.\n",
      "Try using .loc[row_indexer,col_indexer] = value instead\n",
      "\n",
      "See the caveats in the documentation: https://pandas.pydata.org/pandas-docs/stable/user_guide/indexing.html#returning-a-view-versus-a-copy\n",
      "  syn_match[\"synapse_y\"] = np.array(list(syn_match[\"ctr_pt_position\"].to_numpy()))[:,1]\n",
      "/meshAfterParty/meshAfterParty/validation_utils.py:2434: SettingWithCopyWarning: \n",
      "A value is trying to be set on a copy of a slice from a DataFrame.\n",
      "Try using .loc[row_indexer,col_indexer] = value instead\n",
      "\n",
      "See the caveats in the documentation: https://pandas.pydata.org/pandas-docs/stable/user_guide/indexing.html#returning-a-view-versus-a-copy\n",
      "  syn_match[\"synapse_z\"] = np.array(list(syn_match[\"ctr_pt_position\"].to_numpy()))[:,2]\n"
     ]
    },
    {
     "name": "stdout",
     "output_type": "stream",
     "text": [
      "\n",
      "Working on neuron 38: 864691135538120050\n",
      "# of end nodes = 44\n",
      "last_datetime_edited = 2021-04-28 18:09:16.226000\n",
      "# of presyn = 2086, # of postsyn = 12030\n",
      "Total synapses BEFORE filtering = 14116\n",
      "Total synapses AFTER filtering = 14060\n",
      "7720 out of 14060 were within threshold of original mesh\n"
     ]
    },
    {
     "name": "stderr",
     "output_type": "stream",
     "text": [
      "/meshAfterParty/meshAfterParty/validation_utils.py:2432: SettingWithCopyWarning: \n",
      "A value is trying to be set on a copy of a slice from a DataFrame.\n",
      "Try using .loc[row_indexer,col_indexer] = value instead\n",
      "\n",
      "See the caveats in the documentation: https://pandas.pydata.org/pandas-docs/stable/user_guide/indexing.html#returning-a-view-versus-a-copy\n",
      "  syn_match[\"synapse_x\"] = np.array(list(syn_match[\"ctr_pt_position\"].to_numpy()))[:,0]\n",
      "/meshAfterParty/meshAfterParty/validation_utils.py:2433: SettingWithCopyWarning: \n",
      "A value is trying to be set on a copy of a slice from a DataFrame.\n",
      "Try using .loc[row_indexer,col_indexer] = value instead\n",
      "\n",
      "See the caveats in the documentation: https://pandas.pydata.org/pandas-docs/stable/user_guide/indexing.html#returning-a-view-versus-a-copy\n",
      "  syn_match[\"synapse_y\"] = np.array(list(syn_match[\"ctr_pt_position\"].to_numpy()))[:,1]\n",
      "/meshAfterParty/meshAfterParty/validation_utils.py:2434: SettingWithCopyWarning: \n",
      "A value is trying to be set on a copy of a slice from a DataFrame.\n",
      "Try using .loc[row_indexer,col_indexer] = value instead\n",
      "\n",
      "See the caveats in the documentation: https://pandas.pydata.org/pandas-docs/stable/user_guide/indexing.html#returning-a-view-versus-a-copy\n",
      "  syn_match[\"synapse_z\"] = np.array(list(syn_match[\"ctr_pt_position\"].to_numpy()))[:,2]\n"
     ]
    },
    {
     "name": "stdout",
     "output_type": "stream",
     "text": [
      "\n",
      "Working on neuron 39: 864691135564655959\n",
      "# of end nodes = 28\n",
      "last_datetime_edited = 2021-04-02 19:22:35.179000\n",
      "# of presyn = 1050, # of postsyn = 9405\n",
      "Total synapses BEFORE filtering = 10455\n",
      "Total synapses AFTER filtering = 10367\n",
      "1221 out of 10367 were within threshold of original mesh\n",
      "\n",
      "Working on neuron 40: 864691135564677207\n"
     ]
    },
    {
     "name": "stderr",
     "output_type": "stream",
     "text": [
      "/meshAfterParty/meshAfterParty/validation_utils.py:2432: SettingWithCopyWarning: \n",
      "A value is trying to be set on a copy of a slice from a DataFrame.\n",
      "Try using .loc[row_indexer,col_indexer] = value instead\n",
      "\n",
      "See the caveats in the documentation: https://pandas.pydata.org/pandas-docs/stable/user_guide/indexing.html#returning-a-view-versus-a-copy\n",
      "  syn_match[\"synapse_x\"] = np.array(list(syn_match[\"ctr_pt_position\"].to_numpy()))[:,0]\n",
      "/meshAfterParty/meshAfterParty/validation_utils.py:2433: SettingWithCopyWarning: \n",
      "A value is trying to be set on a copy of a slice from a DataFrame.\n",
      "Try using .loc[row_indexer,col_indexer] = value instead\n",
      "\n",
      "See the caveats in the documentation: https://pandas.pydata.org/pandas-docs/stable/user_guide/indexing.html#returning-a-view-versus-a-copy\n",
      "  syn_match[\"synapse_y\"] = np.array(list(syn_match[\"ctr_pt_position\"].to_numpy()))[:,1]\n",
      "/meshAfterParty/meshAfterParty/validation_utils.py:2434: SettingWithCopyWarning: \n",
      "A value is trying to be set on a copy of a slice from a DataFrame.\n",
      "Try using .loc[row_indexer,col_indexer] = value instead\n",
      "\n",
      "See the caveats in the documentation: https://pandas.pydata.org/pandas-docs/stable/user_guide/indexing.html#returning-a-view-versus-a-copy\n",
      "  syn_match[\"synapse_z\"] = np.array(list(syn_match[\"ctr_pt_position\"].to_numpy()))[:,2]\n"
     ]
    },
    {
     "name": "stdout",
     "output_type": "stream",
     "text": [
      "# of end nodes = 25\n",
      "last_datetime_edited = 2021-01-26 23:31:42.343000\n",
      "# of presyn = 681, # of postsyn = 7961\n",
      "Total synapses BEFORE filtering = 8642\n",
      "Total synapses AFTER filtering = 8608\n",
      "5117 out of 8608 were within threshold of original mesh\n"
     ]
    },
    {
     "name": "stderr",
     "output_type": "stream",
     "text": [
      "/meshAfterParty/meshAfterParty/validation_utils.py:2432: SettingWithCopyWarning: \n",
      "A value is trying to be set on a copy of a slice from a DataFrame.\n",
      "Try using .loc[row_indexer,col_indexer] = value instead\n",
      "\n",
      "See the caveats in the documentation: https://pandas.pydata.org/pandas-docs/stable/user_guide/indexing.html#returning-a-view-versus-a-copy\n",
      "  syn_match[\"synapse_x\"] = np.array(list(syn_match[\"ctr_pt_position\"].to_numpy()))[:,0]\n",
      "/meshAfterParty/meshAfterParty/validation_utils.py:2433: SettingWithCopyWarning: \n",
      "A value is trying to be set on a copy of a slice from a DataFrame.\n",
      "Try using .loc[row_indexer,col_indexer] = value instead\n",
      "\n",
      "See the caveats in the documentation: https://pandas.pydata.org/pandas-docs/stable/user_guide/indexing.html#returning-a-view-versus-a-copy\n",
      "  syn_match[\"synapse_y\"] = np.array(list(syn_match[\"ctr_pt_position\"].to_numpy()))[:,1]\n",
      "/meshAfterParty/meshAfterParty/validation_utils.py:2434: SettingWithCopyWarning: \n",
      "A value is trying to be set on a copy of a slice from a DataFrame.\n",
      "Try using .loc[row_indexer,col_indexer] = value instead\n",
      "\n",
      "See the caveats in the documentation: https://pandas.pydata.org/pandas-docs/stable/user_guide/indexing.html#returning-a-view-versus-a-copy\n",
      "  syn_match[\"synapse_z\"] = np.array(list(syn_match[\"ctr_pt_position\"].to_numpy()))[:,2]\n"
     ]
    },
    {
     "name": "stdout",
     "output_type": "stream",
     "text": [
      "\n",
      "Working on neuron 41: 864691135570667757\n",
      "# of end nodes = 16\n",
      "last_datetime_edited = 2021-02-03 15:37:13.757000\n",
      "# of presyn = 402, # of postsyn = 6613\n",
      "Total synapses BEFORE filtering = 7015\n",
      "Total synapses AFTER filtering = 6981\n",
      "6263 out of 6981 were within threshold of original mesh\n"
     ]
    },
    {
     "name": "stderr",
     "output_type": "stream",
     "text": [
      "/meshAfterParty/meshAfterParty/validation_utils.py:2432: SettingWithCopyWarning: \n",
      "A value is trying to be set on a copy of a slice from a DataFrame.\n",
      "Try using .loc[row_indexer,col_indexer] = value instead\n",
      "\n",
      "See the caveats in the documentation: https://pandas.pydata.org/pandas-docs/stable/user_guide/indexing.html#returning-a-view-versus-a-copy\n",
      "  syn_match[\"synapse_x\"] = np.array(list(syn_match[\"ctr_pt_position\"].to_numpy()))[:,0]\n",
      "/meshAfterParty/meshAfterParty/validation_utils.py:2433: SettingWithCopyWarning: \n",
      "A value is trying to be set on a copy of a slice from a DataFrame.\n",
      "Try using .loc[row_indexer,col_indexer] = value instead\n",
      "\n",
      "See the caveats in the documentation: https://pandas.pydata.org/pandas-docs/stable/user_guide/indexing.html#returning-a-view-versus-a-copy\n",
      "  syn_match[\"synapse_y\"] = np.array(list(syn_match[\"ctr_pt_position\"].to_numpy()))[:,1]\n",
      "/meshAfterParty/meshAfterParty/validation_utils.py:2434: SettingWithCopyWarning: \n",
      "A value is trying to be set on a copy of a slice from a DataFrame.\n",
      "Try using .loc[row_indexer,col_indexer] = value instead\n",
      "\n",
      "See the caveats in the documentation: https://pandas.pydata.org/pandas-docs/stable/user_guide/indexing.html#returning-a-view-versus-a-copy\n",
      "  syn_match[\"synapse_z\"] = np.array(list(syn_match[\"ctr_pt_position\"].to_numpy()))[:,2]\n"
     ]
    },
    {
     "name": "stdout",
     "output_type": "stream",
     "text": [
      "\n",
      "Working on neuron 42: 864691135571244581\n",
      "# of end nodes = 17\n",
      "last_datetime_edited = 2021-03-12 17:24:54.802000\n",
      "# of presyn = 162, # of postsyn = 6341\n",
      "Total synapses BEFORE filtering = 6503\n",
      "Total synapses AFTER filtering = 6469\n",
      "4986 out of 6469 were within threshold of original mesh\n"
     ]
    },
    {
     "name": "stderr",
     "output_type": "stream",
     "text": [
      "/meshAfterParty/meshAfterParty/validation_utils.py:2432: SettingWithCopyWarning: \n",
      "A value is trying to be set on a copy of a slice from a DataFrame.\n",
      "Try using .loc[row_indexer,col_indexer] = value instead\n",
      "\n",
      "See the caveats in the documentation: https://pandas.pydata.org/pandas-docs/stable/user_guide/indexing.html#returning-a-view-versus-a-copy\n",
      "  syn_match[\"synapse_x\"] = np.array(list(syn_match[\"ctr_pt_position\"].to_numpy()))[:,0]\n",
      "/meshAfterParty/meshAfterParty/validation_utils.py:2433: SettingWithCopyWarning: \n",
      "A value is trying to be set on a copy of a slice from a DataFrame.\n",
      "Try using .loc[row_indexer,col_indexer] = value instead\n",
      "\n",
      "See the caveats in the documentation: https://pandas.pydata.org/pandas-docs/stable/user_guide/indexing.html#returning-a-view-versus-a-copy\n",
      "  syn_match[\"synapse_y\"] = np.array(list(syn_match[\"ctr_pt_position\"].to_numpy()))[:,1]\n",
      "/meshAfterParty/meshAfterParty/validation_utils.py:2434: SettingWithCopyWarning: \n",
      "A value is trying to be set on a copy of a slice from a DataFrame.\n",
      "Try using .loc[row_indexer,col_indexer] = value instead\n",
      "\n",
      "See the caveats in the documentation: https://pandas.pydata.org/pandas-docs/stable/user_guide/indexing.html#returning-a-view-versus-a-copy\n",
      "  syn_match[\"synapse_z\"] = np.array(list(syn_match[\"ctr_pt_position\"].to_numpy()))[:,2]\n"
     ]
    },
    {
     "name": "stdout",
     "output_type": "stream",
     "text": [
      "\n",
      "Working on neuron 43: 864691135585319036\n",
      "# of end nodes = 105\n",
      "last_datetime_edited = 2021-04-24 00:53:42.009000\n",
      "# of presyn = 1432, # of postsyn = 5653\n",
      "Total synapses BEFORE filtering = 7085\n",
      "Total synapses AFTER filtering = 7057\n",
      "5508 out of 7057 were within threshold of original mesh\n"
     ]
    },
    {
     "name": "stderr",
     "output_type": "stream",
     "text": [
      "/meshAfterParty/meshAfterParty/validation_utils.py:2432: SettingWithCopyWarning: \n",
      "A value is trying to be set on a copy of a slice from a DataFrame.\n",
      "Try using .loc[row_indexer,col_indexer] = value instead\n",
      "\n",
      "See the caveats in the documentation: https://pandas.pydata.org/pandas-docs/stable/user_guide/indexing.html#returning-a-view-versus-a-copy\n",
      "  syn_match[\"synapse_x\"] = np.array(list(syn_match[\"ctr_pt_position\"].to_numpy()))[:,0]\n",
      "/meshAfterParty/meshAfterParty/validation_utils.py:2433: SettingWithCopyWarning: \n",
      "A value is trying to be set on a copy of a slice from a DataFrame.\n",
      "Try using .loc[row_indexer,col_indexer] = value instead\n",
      "\n",
      "See the caveats in the documentation: https://pandas.pydata.org/pandas-docs/stable/user_guide/indexing.html#returning-a-view-versus-a-copy\n",
      "  syn_match[\"synapse_y\"] = np.array(list(syn_match[\"ctr_pt_position\"].to_numpy()))[:,1]\n",
      "/meshAfterParty/meshAfterParty/validation_utils.py:2434: SettingWithCopyWarning: \n",
      "A value is trying to be set on a copy of a slice from a DataFrame.\n",
      "Try using .loc[row_indexer,col_indexer] = value instead\n",
      "\n",
      "See the caveats in the documentation: https://pandas.pydata.org/pandas-docs/stable/user_guide/indexing.html#returning-a-view-versus-a-copy\n",
      "  syn_match[\"synapse_z\"] = np.array(list(syn_match[\"ctr_pt_position\"].to_numpy()))[:,2]\n"
     ]
    },
    {
     "name": "stdout",
     "output_type": "stream",
     "text": [
      "\n",
      "Working on neuron 44: 864691135589906955\n",
      "# of end nodes = 76\n",
      "last_datetime_edited = 2020-10-26 20:21:27.668000\n",
      "# of presyn = 1249, # of postsyn = 7073\n",
      "Total synapses BEFORE filtering = 8322\n",
      "Total synapses AFTER filtering = 8250\n",
      "6251 out of 8250 were within threshold of original mesh\n"
     ]
    },
    {
     "name": "stderr",
     "output_type": "stream",
     "text": [
      "/meshAfterParty/meshAfterParty/validation_utils.py:2432: SettingWithCopyWarning: \n",
      "A value is trying to be set on a copy of a slice from a DataFrame.\n",
      "Try using .loc[row_indexer,col_indexer] = value instead\n",
      "\n",
      "See the caveats in the documentation: https://pandas.pydata.org/pandas-docs/stable/user_guide/indexing.html#returning-a-view-versus-a-copy\n",
      "  syn_match[\"synapse_x\"] = np.array(list(syn_match[\"ctr_pt_position\"].to_numpy()))[:,0]\n",
      "/meshAfterParty/meshAfterParty/validation_utils.py:2433: SettingWithCopyWarning: \n",
      "A value is trying to be set on a copy of a slice from a DataFrame.\n",
      "Try using .loc[row_indexer,col_indexer] = value instead\n",
      "\n",
      "See the caveats in the documentation: https://pandas.pydata.org/pandas-docs/stable/user_guide/indexing.html#returning-a-view-versus-a-copy\n",
      "  syn_match[\"synapse_y\"] = np.array(list(syn_match[\"ctr_pt_position\"].to_numpy()))[:,1]\n",
      "/meshAfterParty/meshAfterParty/validation_utils.py:2434: SettingWithCopyWarning: \n",
      "A value is trying to be set on a copy of a slice from a DataFrame.\n",
      "Try using .loc[row_indexer,col_indexer] = value instead\n",
      "\n",
      "See the caveats in the documentation: https://pandas.pydata.org/pandas-docs/stable/user_guide/indexing.html#returning-a-view-versus-a-copy\n",
      "  syn_match[\"synapse_z\"] = np.array(list(syn_match[\"ctr_pt_position\"].to_numpy()))[:,2]\n"
     ]
    },
    {
     "name": "stdout",
     "output_type": "stream",
     "text": [
      "\n",
      "Working on neuron 45: 864691135589907979\n",
      "# of end nodes = 47\n",
      "last_datetime_edited = 2021-01-04 23:00:33.134000\n",
      "# of presyn = 1061, # of postsyn = 4178\n",
      "Total synapses BEFORE filtering = 5239\n",
      "Total synapses AFTER filtering = 5215\n",
      "4437 out of 5215 were within threshold of original mesh\n"
     ]
    },
    {
     "name": "stderr",
     "output_type": "stream",
     "text": [
      "/meshAfterParty/meshAfterParty/validation_utils.py:2432: SettingWithCopyWarning: \n",
      "A value is trying to be set on a copy of a slice from a DataFrame.\n",
      "Try using .loc[row_indexer,col_indexer] = value instead\n",
      "\n",
      "See the caveats in the documentation: https://pandas.pydata.org/pandas-docs/stable/user_guide/indexing.html#returning-a-view-versus-a-copy\n",
      "  syn_match[\"synapse_x\"] = np.array(list(syn_match[\"ctr_pt_position\"].to_numpy()))[:,0]\n",
      "/meshAfterParty/meshAfterParty/validation_utils.py:2433: SettingWithCopyWarning: \n",
      "A value is trying to be set on a copy of a slice from a DataFrame.\n",
      "Try using .loc[row_indexer,col_indexer] = value instead\n",
      "\n",
      "See the caveats in the documentation: https://pandas.pydata.org/pandas-docs/stable/user_guide/indexing.html#returning-a-view-versus-a-copy\n",
      "  syn_match[\"synapse_y\"] = np.array(list(syn_match[\"ctr_pt_position\"].to_numpy()))[:,1]\n",
      "/meshAfterParty/meshAfterParty/validation_utils.py:2434: SettingWithCopyWarning: \n",
      "A value is trying to be set on a copy of a slice from a DataFrame.\n",
      "Try using .loc[row_indexer,col_indexer] = value instead\n",
      "\n",
      "See the caveats in the documentation: https://pandas.pydata.org/pandas-docs/stable/user_guide/indexing.html#returning-a-view-versus-a-copy\n",
      "  syn_match[\"synapse_z\"] = np.array(list(syn_match[\"ctr_pt_position\"].to_numpy()))[:,2]\n"
     ]
    },
    {
     "name": "stdout",
     "output_type": "stream",
     "text": [
      "\n",
      "Working on neuron 46: 864691135644632047\n",
      "# of end nodes = 11\n",
      "last_datetime_edited = 2021-03-11 23:23:18.065000\n",
      "# of presyn = 222, # of postsyn = 4801\n",
      "Total synapses BEFORE filtering = 5023\n",
      "Total synapses AFTER filtering = 5005\n",
      "4903 out of 5005 were within threshold of original mesh\n"
     ]
    },
    {
     "name": "stderr",
     "output_type": "stream",
     "text": [
      "/meshAfterParty/meshAfterParty/validation_utils.py:2432: SettingWithCopyWarning: \n",
      "A value is trying to be set on a copy of a slice from a DataFrame.\n",
      "Try using .loc[row_indexer,col_indexer] = value instead\n",
      "\n",
      "See the caveats in the documentation: https://pandas.pydata.org/pandas-docs/stable/user_guide/indexing.html#returning-a-view-versus-a-copy\n",
      "  syn_match[\"synapse_x\"] = np.array(list(syn_match[\"ctr_pt_position\"].to_numpy()))[:,0]\n",
      "/meshAfterParty/meshAfterParty/validation_utils.py:2433: SettingWithCopyWarning: \n",
      "A value is trying to be set on a copy of a slice from a DataFrame.\n",
      "Try using .loc[row_indexer,col_indexer] = value instead\n",
      "\n",
      "See the caveats in the documentation: https://pandas.pydata.org/pandas-docs/stable/user_guide/indexing.html#returning-a-view-versus-a-copy\n",
      "  syn_match[\"synapse_y\"] = np.array(list(syn_match[\"ctr_pt_position\"].to_numpy()))[:,1]\n",
      "/meshAfterParty/meshAfterParty/validation_utils.py:2434: SettingWithCopyWarning: \n",
      "A value is trying to be set on a copy of a slice from a DataFrame.\n",
      "Try using .loc[row_indexer,col_indexer] = value instead\n",
      "\n",
      "See the caveats in the documentation: https://pandas.pydata.org/pandas-docs/stable/user_guide/indexing.html#returning-a-view-versus-a-copy\n",
      "  syn_match[\"synapse_z\"] = np.array(list(syn_match[\"ctr_pt_position\"].to_numpy()))[:,2]\n"
     ]
    },
    {
     "name": "stdout",
     "output_type": "stream",
     "text": [
      "\n",
      "Working on neuron 47: 864691135645592260\n",
      "# of end nodes = 30\n",
      "last_datetime_edited = 2020-08-14 19:48:32.764000\n",
      "# of presyn = 502, # of postsyn = 3287\n",
      "Total synapses BEFORE filtering = 3789\n",
      "Total synapses AFTER filtering = 3761\n",
      "3305 out of 3761 were within threshold of original mesh\n"
     ]
    },
    {
     "name": "stderr",
     "output_type": "stream",
     "text": [
      "/meshAfterParty/meshAfterParty/validation_utils.py:2432: SettingWithCopyWarning: \n",
      "A value is trying to be set on a copy of a slice from a DataFrame.\n",
      "Try using .loc[row_indexer,col_indexer] = value instead\n",
      "\n",
      "See the caveats in the documentation: https://pandas.pydata.org/pandas-docs/stable/user_guide/indexing.html#returning-a-view-versus-a-copy\n",
      "  syn_match[\"synapse_x\"] = np.array(list(syn_match[\"ctr_pt_position\"].to_numpy()))[:,0]\n",
      "/meshAfterParty/meshAfterParty/validation_utils.py:2433: SettingWithCopyWarning: \n",
      "A value is trying to be set on a copy of a slice from a DataFrame.\n",
      "Try using .loc[row_indexer,col_indexer] = value instead\n",
      "\n",
      "See the caveats in the documentation: https://pandas.pydata.org/pandas-docs/stable/user_guide/indexing.html#returning-a-view-versus-a-copy\n",
      "  syn_match[\"synapse_y\"] = np.array(list(syn_match[\"ctr_pt_position\"].to_numpy()))[:,1]\n",
      "/meshAfterParty/meshAfterParty/validation_utils.py:2434: SettingWithCopyWarning: \n",
      "A value is trying to be set on a copy of a slice from a DataFrame.\n",
      "Try using .loc[row_indexer,col_indexer] = value instead\n",
      "\n",
      "See the caveats in the documentation: https://pandas.pydata.org/pandas-docs/stable/user_guide/indexing.html#returning-a-view-versus-a-copy\n",
      "  syn_match[\"synapse_z\"] = np.array(list(syn_match[\"ctr_pt_position\"].to_numpy()))[:,2]\n"
     ]
    },
    {
     "name": "stdout",
     "output_type": "stream",
     "text": [
      "\n",
      "Working on neuron 48: 864691135654050754\n",
      "# of end nodes = 11\n",
      "last_datetime_edited = 2021-01-27 15:54:54.061000\n",
      "# of presyn = 226, # of postsyn = 6943\n",
      "Total synapses BEFORE filtering = 7169\n",
      "Total synapses AFTER filtering = 7135\n",
      "5977 out of 7135 were within threshold of original mesh\n"
     ]
    },
    {
     "name": "stderr",
     "output_type": "stream",
     "text": [
      "/meshAfterParty/meshAfterParty/validation_utils.py:2432: SettingWithCopyWarning: \n",
      "A value is trying to be set on a copy of a slice from a DataFrame.\n",
      "Try using .loc[row_indexer,col_indexer] = value instead\n",
      "\n",
      "See the caveats in the documentation: https://pandas.pydata.org/pandas-docs/stable/user_guide/indexing.html#returning-a-view-versus-a-copy\n",
      "  syn_match[\"synapse_x\"] = np.array(list(syn_match[\"ctr_pt_position\"].to_numpy()))[:,0]\n",
      "/meshAfterParty/meshAfterParty/validation_utils.py:2433: SettingWithCopyWarning: \n",
      "A value is trying to be set on a copy of a slice from a DataFrame.\n",
      "Try using .loc[row_indexer,col_indexer] = value instead\n",
      "\n",
      "See the caveats in the documentation: https://pandas.pydata.org/pandas-docs/stable/user_guide/indexing.html#returning-a-view-versus-a-copy\n",
      "  syn_match[\"synapse_y\"] = np.array(list(syn_match[\"ctr_pt_position\"].to_numpy()))[:,1]\n",
      "/meshAfterParty/meshAfterParty/validation_utils.py:2434: SettingWithCopyWarning: \n",
      "A value is trying to be set on a copy of a slice from a DataFrame.\n",
      "Try using .loc[row_indexer,col_indexer] = value instead\n",
      "\n",
      "See the caveats in the documentation: https://pandas.pydata.org/pandas-docs/stable/user_guide/indexing.html#returning-a-view-versus-a-copy\n",
      "  syn_match[\"synapse_z\"] = np.array(list(syn_match[\"ctr_pt_position\"].to_numpy()))[:,2]\n"
     ]
    },
    {
     "name": "stdout",
     "output_type": "stream",
     "text": [
      "\n",
      "Working on neuron 49: 864691135683764372\n",
      "# of end nodes = 20\n",
      "last_datetime_edited = 2021-04-20 22:25:10.210000\n",
      "# of presyn = 460, # of postsyn = 5471\n",
      "Total synapses BEFORE filtering = 5931\n",
      "Total synapses AFTER filtering = 5903\n",
      "5649 out of 5903 were within threshold of original mesh\n"
     ]
    },
    {
     "name": "stderr",
     "output_type": "stream",
     "text": [
      "/meshAfterParty/meshAfterParty/validation_utils.py:2432: SettingWithCopyWarning: \n",
      "A value is trying to be set on a copy of a slice from a DataFrame.\n",
      "Try using .loc[row_indexer,col_indexer] = value instead\n",
      "\n",
      "See the caveats in the documentation: https://pandas.pydata.org/pandas-docs/stable/user_guide/indexing.html#returning-a-view-versus-a-copy\n",
      "  syn_match[\"synapse_x\"] = np.array(list(syn_match[\"ctr_pt_position\"].to_numpy()))[:,0]\n",
      "/meshAfterParty/meshAfterParty/validation_utils.py:2433: SettingWithCopyWarning: \n",
      "A value is trying to be set on a copy of a slice from a DataFrame.\n",
      "Try using .loc[row_indexer,col_indexer] = value instead\n",
      "\n",
      "See the caveats in the documentation: https://pandas.pydata.org/pandas-docs/stable/user_guide/indexing.html#returning-a-view-versus-a-copy\n",
      "  syn_match[\"synapse_y\"] = np.array(list(syn_match[\"ctr_pt_position\"].to_numpy()))[:,1]\n",
      "/meshAfterParty/meshAfterParty/validation_utils.py:2434: SettingWithCopyWarning: \n",
      "A value is trying to be set on a copy of a slice from a DataFrame.\n",
      "Try using .loc[row_indexer,col_indexer] = value instead\n",
      "\n",
      "See the caveats in the documentation: https://pandas.pydata.org/pandas-docs/stable/user_guide/indexing.html#returning-a-view-versus-a-copy\n",
      "  syn_match[\"synapse_z\"] = np.array(list(syn_match[\"ctr_pt_position\"].to_numpy()))[:,2]\n"
     ]
    },
    {
     "name": "stdout",
     "output_type": "stream",
     "text": [
      "\n",
      "Working on neuron 50: 864691135699269154\n",
      "# of end nodes = 122\n",
      "last_datetime_edited = 2021-01-29 02:38:20.833000\n",
      "# of presyn = 1201, # of postsyn = 4928\n",
      "Total synapses BEFORE filtering = 6129\n",
      "Total synapses AFTER filtering = 6063\n",
      "4783 out of 6063 were within threshold of original mesh\n"
     ]
    },
    {
     "name": "stderr",
     "output_type": "stream",
     "text": [
      "/meshAfterParty/meshAfterParty/validation_utils.py:2432: SettingWithCopyWarning: \n",
      "A value is trying to be set on a copy of a slice from a DataFrame.\n",
      "Try using .loc[row_indexer,col_indexer] = value instead\n",
      "\n",
      "See the caveats in the documentation: https://pandas.pydata.org/pandas-docs/stable/user_guide/indexing.html#returning-a-view-versus-a-copy\n",
      "  syn_match[\"synapse_x\"] = np.array(list(syn_match[\"ctr_pt_position\"].to_numpy()))[:,0]\n",
      "/meshAfterParty/meshAfterParty/validation_utils.py:2433: SettingWithCopyWarning: \n",
      "A value is trying to be set on a copy of a slice from a DataFrame.\n",
      "Try using .loc[row_indexer,col_indexer] = value instead\n",
      "\n",
      "See the caveats in the documentation: https://pandas.pydata.org/pandas-docs/stable/user_guide/indexing.html#returning-a-view-versus-a-copy\n",
      "  syn_match[\"synapse_y\"] = np.array(list(syn_match[\"ctr_pt_position\"].to_numpy()))[:,1]\n",
      "/meshAfterParty/meshAfterParty/validation_utils.py:2434: SettingWithCopyWarning: \n",
      "A value is trying to be set on a copy of a slice from a DataFrame.\n",
      "Try using .loc[row_indexer,col_indexer] = value instead\n",
      "\n",
      "See the caveats in the documentation: https://pandas.pydata.org/pandas-docs/stable/user_guide/indexing.html#returning-a-view-versus-a-copy\n",
      "  syn_match[\"synapse_z\"] = np.array(list(syn_match[\"ctr_pt_position\"].to_numpy()))[:,2]\n"
     ]
    },
    {
     "name": "stdout",
     "output_type": "stream",
     "text": [
      "\n",
      "Working on neuron 51: 864691135700248187\n",
      "# of end nodes = 51\n",
      "last_datetime_edited = 2021-04-08 16:51:33.864000\n",
      "# of presyn = 2013, # of postsyn = 7722\n",
      "Total synapses BEFORE filtering = 9735\n",
      "Total synapses AFTER filtering = 9665\n",
      "8763 out of 9665 were within threshold of original mesh\n"
     ]
    },
    {
     "name": "stderr",
     "output_type": "stream",
     "text": [
      "/meshAfterParty/meshAfterParty/validation_utils.py:2432: SettingWithCopyWarning: \n",
      "A value is trying to be set on a copy of a slice from a DataFrame.\n",
      "Try using .loc[row_indexer,col_indexer] = value instead\n",
      "\n",
      "See the caveats in the documentation: https://pandas.pydata.org/pandas-docs/stable/user_guide/indexing.html#returning-a-view-versus-a-copy\n",
      "  syn_match[\"synapse_x\"] = np.array(list(syn_match[\"ctr_pt_position\"].to_numpy()))[:,0]\n",
      "/meshAfterParty/meshAfterParty/validation_utils.py:2433: SettingWithCopyWarning: \n",
      "A value is trying to be set on a copy of a slice from a DataFrame.\n",
      "Try using .loc[row_indexer,col_indexer] = value instead\n",
      "\n",
      "See the caveats in the documentation: https://pandas.pydata.org/pandas-docs/stable/user_guide/indexing.html#returning-a-view-versus-a-copy\n",
      "  syn_match[\"synapse_y\"] = np.array(list(syn_match[\"ctr_pt_position\"].to_numpy()))[:,1]\n",
      "/meshAfterParty/meshAfterParty/validation_utils.py:2434: SettingWithCopyWarning: \n",
      "A value is trying to be set on a copy of a slice from a DataFrame.\n",
      "Try using .loc[row_indexer,col_indexer] = value instead\n",
      "\n",
      "See the caveats in the documentation: https://pandas.pydata.org/pandas-docs/stable/user_guide/indexing.html#returning-a-view-versus-a-copy\n",
      "  syn_match[\"synapse_z\"] = np.array(list(syn_match[\"ctr_pt_position\"].to_numpy()))[:,2]\n"
     ]
    },
    {
     "name": "stdout",
     "output_type": "stream",
     "text": [
      "\n",
      "Working on neuron 52: 864691135716725908\n",
      "# of end nodes = 16\n",
      "last_datetime_edited = 2020-12-21 12:07:39.413000\n",
      "# of presyn = 428, # of postsyn = 5217\n",
      "Total synapses BEFORE filtering = 5645\n",
      "Total synapses AFTER filtering = 5615\n",
      "4331 out of 5615 were within threshold of original mesh\n"
     ]
    },
    {
     "name": "stderr",
     "output_type": "stream",
     "text": [
      "/meshAfterParty/meshAfterParty/validation_utils.py:2432: SettingWithCopyWarning: \n",
      "A value is trying to be set on a copy of a slice from a DataFrame.\n",
      "Try using .loc[row_indexer,col_indexer] = value instead\n",
      "\n",
      "See the caveats in the documentation: https://pandas.pydata.org/pandas-docs/stable/user_guide/indexing.html#returning-a-view-versus-a-copy\n",
      "  syn_match[\"synapse_x\"] = np.array(list(syn_match[\"ctr_pt_position\"].to_numpy()))[:,0]\n",
      "/meshAfterParty/meshAfterParty/validation_utils.py:2433: SettingWithCopyWarning: \n",
      "A value is trying to be set on a copy of a slice from a DataFrame.\n",
      "Try using .loc[row_indexer,col_indexer] = value instead\n",
      "\n",
      "See the caveats in the documentation: https://pandas.pydata.org/pandas-docs/stable/user_guide/indexing.html#returning-a-view-versus-a-copy\n",
      "  syn_match[\"synapse_y\"] = np.array(list(syn_match[\"ctr_pt_position\"].to_numpy()))[:,1]\n",
      "/meshAfterParty/meshAfterParty/validation_utils.py:2434: SettingWithCopyWarning: \n",
      "A value is trying to be set on a copy of a slice from a DataFrame.\n",
      "Try using .loc[row_indexer,col_indexer] = value instead\n",
      "\n",
      "See the caveats in the documentation: https://pandas.pydata.org/pandas-docs/stable/user_guide/indexing.html#returning-a-view-versus-a-copy\n",
      "  syn_match[\"synapse_z\"] = np.array(list(syn_match[\"ctr_pt_position\"].to_numpy()))[:,2]\n"
     ]
    },
    {
     "name": "stdout",
     "output_type": "stream",
     "text": [
      "\n",
      "Working on neuron 53: 864691135726145172\n",
      "# of end nodes = 41\n",
      "last_datetime_edited = 2021-03-30 16:26:19.614000\n",
      "# of presyn = 358, # of postsyn = 5375\n",
      "Total synapses BEFORE filtering = 5733\n",
      "Total synapses AFTER filtering = 5699\n",
      "5196 out of 5699 were within threshold of original mesh\n"
     ]
    },
    {
     "name": "stderr",
     "output_type": "stream",
     "text": [
      "/meshAfterParty/meshAfterParty/validation_utils.py:2432: SettingWithCopyWarning: \n",
      "A value is trying to be set on a copy of a slice from a DataFrame.\n",
      "Try using .loc[row_indexer,col_indexer] = value instead\n",
      "\n",
      "See the caveats in the documentation: https://pandas.pydata.org/pandas-docs/stable/user_guide/indexing.html#returning-a-view-versus-a-copy\n",
      "  syn_match[\"synapse_x\"] = np.array(list(syn_match[\"ctr_pt_position\"].to_numpy()))[:,0]\n",
      "/meshAfterParty/meshAfterParty/validation_utils.py:2433: SettingWithCopyWarning: \n",
      "A value is trying to be set on a copy of a slice from a DataFrame.\n",
      "Try using .loc[row_indexer,col_indexer] = value instead\n",
      "\n",
      "See the caveats in the documentation: https://pandas.pydata.org/pandas-docs/stable/user_guide/indexing.html#returning-a-view-versus-a-copy\n",
      "  syn_match[\"synapse_y\"] = np.array(list(syn_match[\"ctr_pt_position\"].to_numpy()))[:,1]\n",
      "/meshAfterParty/meshAfterParty/validation_utils.py:2434: SettingWithCopyWarning: \n",
      "A value is trying to be set on a copy of a slice from a DataFrame.\n",
      "Try using .loc[row_indexer,col_indexer] = value instead\n",
      "\n",
      "See the caveats in the documentation: https://pandas.pydata.org/pandas-docs/stable/user_guide/indexing.html#returning-a-view-versus-a-copy\n",
      "  syn_match[\"synapse_z\"] = np.array(list(syn_match[\"ctr_pt_position\"].to_numpy()))[:,2]\n"
     ]
    },
    {
     "name": "stdout",
     "output_type": "stream",
     "text": [
      "\n",
      "Working on neuron 54: 864691135732762772\n",
      "# of end nodes = 11\n",
      "last_datetime_edited = 2021-02-04 23:20:38.924000\n",
      "# of presyn = 219, # of postsyn = 7416\n",
      "Total synapses BEFORE filtering = 7635\n",
      "Total synapses AFTER filtering = 7601\n",
      "6221 out of 7601 were within threshold of original mesh\n"
     ]
    },
    {
     "name": "stderr",
     "output_type": "stream",
     "text": [
      "/meshAfterParty/meshAfterParty/validation_utils.py:2432: SettingWithCopyWarning: \n",
      "A value is trying to be set on a copy of a slice from a DataFrame.\n",
      "Try using .loc[row_indexer,col_indexer] = value instead\n",
      "\n",
      "See the caveats in the documentation: https://pandas.pydata.org/pandas-docs/stable/user_guide/indexing.html#returning-a-view-versus-a-copy\n",
      "  syn_match[\"synapse_x\"] = np.array(list(syn_match[\"ctr_pt_position\"].to_numpy()))[:,0]\n",
      "/meshAfterParty/meshAfterParty/validation_utils.py:2433: SettingWithCopyWarning: \n",
      "A value is trying to be set on a copy of a slice from a DataFrame.\n",
      "Try using .loc[row_indexer,col_indexer] = value instead\n",
      "\n",
      "See the caveats in the documentation: https://pandas.pydata.org/pandas-docs/stable/user_guide/indexing.html#returning-a-view-versus-a-copy\n",
      "  syn_match[\"synapse_y\"] = np.array(list(syn_match[\"ctr_pt_position\"].to_numpy()))[:,1]\n",
      "/meshAfterParty/meshAfterParty/validation_utils.py:2434: SettingWithCopyWarning: \n",
      "A value is trying to be set on a copy of a slice from a DataFrame.\n",
      "Try using .loc[row_indexer,col_indexer] = value instead\n",
      "\n",
      "See the caveats in the documentation: https://pandas.pydata.org/pandas-docs/stable/user_guide/indexing.html#returning-a-view-versus-a-copy\n",
      "  syn_match[\"synapse_z\"] = np.array(list(syn_match[\"ctr_pt_position\"].to_numpy()))[:,2]\n"
     ]
    },
    {
     "name": "stdout",
     "output_type": "stream",
     "text": [
      "\n",
      "Working on neuron 55: 864691135735426708\n",
      "# of end nodes = 29\n",
      "last_datetime_edited = 2021-04-13 14:08:09.532000\n",
      "# of presyn = 14874, # of postsyn = 16839\n",
      "Total synapses BEFORE filtering = 31713\n",
      "Total synapses AFTER filtering = 31551\n",
      "3716 out of 31551 were within threshold of original mesh\n"
     ]
    },
    {
     "name": "stderr",
     "output_type": "stream",
     "text": [
      "/meshAfterParty/meshAfterParty/validation_utils.py:2432: SettingWithCopyWarning: \n",
      "A value is trying to be set on a copy of a slice from a DataFrame.\n",
      "Try using .loc[row_indexer,col_indexer] = value instead\n",
      "\n",
      "See the caveats in the documentation: https://pandas.pydata.org/pandas-docs/stable/user_guide/indexing.html#returning-a-view-versus-a-copy\n",
      "  syn_match[\"synapse_x\"] = np.array(list(syn_match[\"ctr_pt_position\"].to_numpy()))[:,0]\n",
      "/meshAfterParty/meshAfterParty/validation_utils.py:2433: SettingWithCopyWarning: \n",
      "A value is trying to be set on a copy of a slice from a DataFrame.\n",
      "Try using .loc[row_indexer,col_indexer] = value instead\n",
      "\n",
      "See the caveats in the documentation: https://pandas.pydata.org/pandas-docs/stable/user_guide/indexing.html#returning-a-view-versus-a-copy\n",
      "  syn_match[\"synapse_y\"] = np.array(list(syn_match[\"ctr_pt_position\"].to_numpy()))[:,1]\n",
      "/meshAfterParty/meshAfterParty/validation_utils.py:2434: SettingWithCopyWarning: \n",
      "A value is trying to be set on a copy of a slice from a DataFrame.\n",
      "Try using .loc[row_indexer,col_indexer] = value instead\n",
      "\n",
      "See the caveats in the documentation: https://pandas.pydata.org/pandas-docs/stable/user_guide/indexing.html#returning-a-view-versus-a-copy\n",
      "  syn_match[\"synapse_z\"] = np.array(list(syn_match[\"ctr_pt_position\"].to_numpy()))[:,2]\n"
     ]
    }
   ],
   "source": [
    "idx = 1\n",
    "chunk_size = 28\n",
    "for i in range(idx*chunk_size,(idx+1)*chunk_size):\n",
    "    \n",
    "    if i >= len(original_seg_ids):\n",
    "        break\n",
    "        \n",
    "    segment_id = original_seg_ids[i]\n",
    "    print(f\"\\nWorking on neuron {i}: {segment_id}\")\n",
    "    \n",
    "    vu.old_segment_id_validation_synapses(segment_id = segment_id,\n",
    "    verbose = True,\n",
    "    plot_original_mesh = False,\n",
    "    plot_potential_synapses = False,\n",
    "    plot_matched_synapses = False)"
   ]
  },
  {
   "cell_type": "code",
   "execution_count": null,
   "metadata": {},
   "outputs": [],
   "source": []
  }
 ],
 "metadata": {
  "kernelspec": {
   "display_name": "Python 3",
   "language": "python",
   "name": "python3"
  },
  "language_info": {
   "codemirror_mode": {
    "name": "ipython",
    "version": 3
   },
   "file_extension": ".py",
   "mimetype": "text/x-python",
   "name": "python",
   "nbconvert_exporter": "python",
   "pygments_lexer": "ipython3",
   "version": "3.6.9"
  }
 },
 "nbformat": 4,
 "nbformat_minor": 4
}
