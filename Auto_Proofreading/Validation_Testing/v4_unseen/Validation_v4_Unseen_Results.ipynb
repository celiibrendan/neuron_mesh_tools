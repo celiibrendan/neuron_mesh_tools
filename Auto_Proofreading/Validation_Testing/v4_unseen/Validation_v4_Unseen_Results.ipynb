{
 "cells": [
  {
   "cell_type": "code",
   "execution_count": 1,
   "metadata": {},
   "outputs": [
    {
     "data": {
      "text/plain": [
       "'\\nPurpose: To Run the proofreading of neurons in the \\ntest set and measure the precision and recall of the new rules\\n\\nSegments to look out for that had no axon\\n864691135012395766 # one of the split segments files not there (split index = 1)\\n864691135865584005 #soma soma merger\\n864691136451113215 #it was an inhibitory neuron (part of split)\\n\\n'"
      ]
     },
     "execution_count": 1,
     "metadata": {},
     "output_type": "execute_result"
    }
   ],
   "source": [
    "\"\"\"\n",
    "Purpose: To Run the proofreading of neurons in the \n",
    "test set and measure the precision and recall of the new rules\n",
    "\n",
    "Segments to look out for that had no axon\n",
    "864691135012395766 # one of the split segments files not there (split index = 1)\n",
    "864691135865584005 #soma soma merger\n",
    "864691136451113215 #it was an inhibitory neuron (part of split)\n",
    "\n",
    "\"\"\""
   ]
  },
  {
   "cell_type": "code",
   "execution_count": 2,
   "metadata": {},
   "outputs": [],
   "source": [
    "%load_ext autoreload\n",
    "%autoreload 2"
   ]
  },
  {
   "cell_type": "code",
   "execution_count": 3,
   "metadata": {},
   "outputs": [
    {
     "name": "stderr",
     "output_type": "stream",
     "text": [
      "INFO - 2021-06-01 19:12:17,517 - settings - Setting database.host to at-database.ad.bcm.edu\n",
      "INFO - 2021-06-01 19:12:17,519 - settings - Setting database.user to celiib\n",
      "INFO - 2021-06-01 19:12:17,520 - settings - Setting database.password to newceliipass\n",
      "INFO - 2021-06-01 19:12:17,529 - settings - Setting stores to {'minnie65': {'protocol': 'file', 'location': '/mnt/dj-stor01/platinum/minnie65', 'stage': '/mnt/dj-stor01/platinum/minnie65'}, 'meshes': {'protocol': 'file', 'location': '/mnt/dj-stor01/platinum/minnie65/02/meshes', 'stage': '/mnt/dj-stor01/platinum/minnie65/02/meshes'}, 'decimated_meshes': {'protocol': 'file', 'location': '/mnt/dj-stor01/platinum/minnie65/02/decimated_meshes', 'stage': '/mnt/dj-stor01/platinum/minnie65/02/decimated_meshes'}, 'skeletons': {'protocol': 'file', 'location': '/mnt/dj-stor01/platinum/minnie65/02/skeletons'}}\n",
      "INFO - 2021-06-01 19:12:17,531 - settings - Setting enable_python_native_blobs to True\n",
      "INFO - 2021-06-01 19:12:17,548 - connection - Connected celiib@at-database.ad.bcm.edu:3306\n"
     ]
    },
    {
     "name": "stdout",
     "output_type": "stream",
     "text": [
      "Connecting celiib@at-database.ad.bcm.edu:3306\n"
     ]
    },
    {
     "name": "stderr",
     "output_type": "stream",
     "text": [
      "INFO - 2021-06-01 19:12:18,063 - settings - Setting enable_python_native_blobs to True\n",
      "INFO - 2021-06-01 19:12:18,066 - settings - Setting database.host to at-database.ad.bcm.edu\n",
      "INFO - 2021-06-01 19:12:18,067 - settings - Setting database.user to celiib\n",
      "INFO - 2021-06-01 19:12:18,068 - settings - Setting database.password to newceliipass\n",
      "INFO - 2021-06-01 19:12:18,069 - settings - Setting database.host to at-database.ad.bcm.edu\n",
      "INFO - 2021-06-01 19:12:18,070 - settings - Setting database.user to celiib\n",
      "INFO - 2021-06-01 19:12:18,071 - settings - Setting database.password to newceliipass\n",
      "INFO - 2021-06-01 19:12:18,073 - settings - Setting enable_python_native_blobs to True\n",
      "INFO - 2021-06-01 19:12:18,611 - settings - Setting enable_python_native_blobs to True\n"
     ]
    }
   ],
   "source": [
    "import numpy as np\n",
    "import datajoint as dj\n",
    "import trimesh\n",
    "from tqdm.notebook import tqdm\n",
    "from pathlib import Path\n",
    "\n",
    "from os import sys\n",
    "sys.path.append(\"/meshAfterParty/\")\n",
    "sys.path.append(\"/meshAfterParty/meshAfterParty\")\n",
    "\n",
    "import datajoint_utils as du\n",
    "from importlib import reload"
   ]
  },
  {
   "cell_type": "code",
   "execution_count": 4,
   "metadata": {},
   "outputs": [
    {
     "name": "stderr",
     "output_type": "stream",
     "text": [
      "INFO - 2021-06-01 19:12:18,803 - settings - Setting database.host to at-database.ad.bcm.edu\n",
      "INFO - 2021-06-01 19:12:18,804 - settings - Setting database.user to celiib\n",
      "INFO - 2021-06-01 19:12:18,805 - settings - Setting database.password to newceliipass\n",
      "INFO - 2021-06-01 19:12:18,808 - settings - Setting enable_python_native_blobs to True\n",
      "INFO - 2021-06-01 19:12:19,385 - settings - Setting enable_python_native_blobs to True\n"
     ]
    }
   ],
   "source": [
    "#configuring will include the adapters\n",
    "minnie,schema = du.configure_minnie_vm()"
   ]
  },
  {
   "cell_type": "code",
   "execution_count": 5,
   "metadata": {},
   "outputs": [],
   "source": [
    "import validation_utils as vu\n",
    "import neuron_visualizations as nviz\n",
    "import neuron_utils as nru\n",
    "import proofreading_utils as pru\n",
    "import time\n",
    "import system_utils as su"
   ]
  },
  {
   "cell_type": "code",
   "execution_count": null,
   "metadata": {},
   "outputs": [],
   "source": []
  },
  {
   "cell_type": "markdown",
   "metadata": {},
   "source": [
    "# Getting the Results of the Validation"
   ]
  },
  {
   "cell_type": "code",
   "execution_count": null,
   "metadata": {},
   "outputs": [],
   "source": [
    "pre_source = (minnie.AutoProofreadValidationSegmentMap4() & \n",
    "    (dj.U(\"old_segment_id\") & minnie.DecompositionAxon.proj(old_segment_id=\"segment_id\")))\n",
    "\n",
    "key_source = (pre_source - \n",
    "              du.current_validation_segment_id_exclude.proj(old_segment_id=\"segment_id\")\n",
    "              #& dict(old_segment_id=864691135373402824)\n",
    "             )\n",
    "key_source"
   ]
  },
  {
   "cell_type": "code",
   "execution_count": null,
   "metadata": {},
   "outputs": [],
   "source": [
    "#(schema.jobs & \"table_name = '__auto_proofread_validation_score4'\").delete()"
   ]
  },
  {
   "cell_type": "code",
   "execution_count": null,
   "metadata": {},
   "outputs": [],
   "source": [
    "minnie,_ = du.configure_minnie_vm()\n",
    "validation_dfs = minnie.AutoProofreadValidationScore4().fetch(\"validation_df\")\n",
    "validation_dfs = [vu.load_df_val_from_numpy(k) for k in validation_dfs]\n",
    "validation_dfs"
   ]
  },
  {
   "cell_type": "code",
   "execution_count": null,
   "metadata": {},
   "outputs": [],
   "source": [
    "import pandas_utils as pu\n",
    "total_validation_df = pu.concat(validation_dfs)\n",
    "total_validation_df"
   ]
  },
  {
   "cell_type": "code",
   "execution_count": null,
   "metadata": {},
   "outputs": [],
   "source": [
    "vu.synapse_validation_df_to_score_plot(total_validation_df)"
   ]
  },
  {
   "cell_type": "markdown",
   "metadata": {},
   "source": [
    "# Look at the Neurons That did Poorly"
   ]
  },
  {
   "cell_type": "code",
   "execution_count": null,
   "metadata": {},
   "outputs": [],
   "source": [
    "minnie.AutoProofreadValidationScore4() & "
   ]
  },
  {
   "cell_type": "code",
   "execution_count": null,
   "metadata": {},
   "outputs": [],
   "source": [
    "bad_seg_ids = (minnie.AutoProofreadValidationSegmentMap4() * (minnie.AutoProofreadValidationScore4() & \"pre_precision < 0.5\" & \"pre_fp > 15\")).fetch(\"segment_id\")\n",
    "bad_seg_ids"
   ]
  },
  {
   "cell_type": "code",
   "execution_count": null,
   "metadata": {},
   "outputs": [],
   "source": [
    "segment_id = bad_seg_ids[4]\n",
    "curr_table = (minnie.AutoProofreadValidationScore4() & dict(segment_id=segment_id))\n",
    "curr_table"
   ]
  },
  {
   "cell_type": "code",
   "execution_count": null,
   "metadata": {},
   "outputs": [],
   "source": [
    "segment_id = bad_seg_ids[4]\n",
    "curr_table = (minnie.AutoProofreadValidationScore4() & dict(segment_id=segment_id))\n",
    "decomp_path,validation_df = curr_table.fetch1(\"decomposition\",\"validation_df\")\n",
    "neuron_obj = du.filepath_to_neuron_obj(decomp_path)"
   ]
  },
  {
   "cell_type": "code",
   "execution_count": null,
   "metadata": {
    "scrolled": false
   },
   "outputs": [],
   "source": [
    "nviz.visualize_neuron(neuron_obj,\n",
    "                     limb_branch_dict=\"all\")"
   ]
  },
  {
   "cell_type": "code",
   "execution_count": null,
   "metadata": {},
   "outputs": [],
   "source": [
    "return_validation_df_revised = vu.load_df_val_from_numpy(validation_df)\n",
    "filt_neuron = neuron_obj\n",
    "vu.plot_validation_synapses(filt_neuron.segment_id,\n",
    "                            validation_df = return_validation_df_revised,\n",
    "                             synapse_dict = None,\n",
    "                             synapses_type_to_plot = None,\n",
    "                             synapses_type_to_not_plot = None,\n",
    "                             verbose=False,\n",
    "                             synapse_type = \"presyn\",\n",
    "                             TP_color=\"yellow\",\n",
    "                            TN_color=\"aqua\",\n",
    "                            FP_color=\"black\",\n",
    "                            FN_color=\"orange\",\n",
    "                             synapse_scatter_size = 0.05,\n",
    "                             \n",
    "                             #for plotting the actual mesh parts to go along\n",
    "                             \n",
    "                             neuron_obj = filt_neuron,\n",
    "                             plot_only_axon_skeleton = True,\n",
    "                             error_mesh_color = \"red\",\n",
    "                             valid_mesh_color = \"green\",\n",
    "                             valid_skeleton_color = \"black\",\n",
    "                             mesh_alpha = 0.3,)"
   ]
  },
  {
   "cell_type": "code",
   "execution_count": null,
   "metadata": {},
   "outputs": [],
   "source": [
    "import networkx_utils as xu\n",
    "xu.upstream_node(neuron_obj[0].concept_network_directional,70)"
   ]
  },
  {
   "cell_type": "code",
   "execution_count": null,
   "metadata": {},
   "outputs": [],
   "source": [
    "neuron_obj[0][86].skeletal_length"
   ]
  },
  {
   "cell_type": "code",
   "execution_count": null,
   "metadata": {},
   "outputs": [],
   "source": [
    "nviz.plot_limb_branch_dict(neuron_obj,\n",
    "                          {'L0': np.array([ 70])})"
   ]
  },
  {
   "cell_type": "code",
   "execution_count": null,
   "metadata": {},
   "outputs": [],
   "source": [
    "neuron_obj[0][70].width_new"
   ]
  },
  {
   "cell_type": "code",
   "execution_count": null,
   "metadata": {},
   "outputs": [],
   "source": [
    "axon_comparison_distance = 1000,"
   ]
  },
  {
   "cell_type": "code",
   "execution_count": null,
   "metadata": {},
   "outputs": [],
   "source": []
  },
  {
   "cell_type": "code",
   "execution_count": null,
   "metadata": {
    "scrolled": false
   },
   "outputs": [],
   "source": [
    "import neuron_searching as ns\n",
    "result_limb_branch = ns.query_neuron(neuron_obj,\n",
    "    functions_list=[\"parent_angle\",\"upstream_skeletal_length\",\"skeletal_length\",\"axon_width\"],\n",
    "    query=\"(parent_angle>110) and (skeletal_length>5000) and (upstream_skeletal_length>1000) and (axon_width>105)\",\n",
    "        function_kwargs=dict(comparison_distance=1000),\n",
    "    return_dataframe=False,\n",
    "    limbs_to_process=[neuron_obj.axon_limb_name])\n",
    "\n",
    "print(f\"result_limb_branch = {result_limb_branch}\")\n",
    "nviz.plot_limb_branch_dict(neuron_obj,\n",
    "                           result_limb_branch)"
   ]
  },
  {
   "cell_type": "code",
   "execution_count": null,
   "metadata": {},
   "outputs": [],
   "source": [
    "nviz.plot_limb_branch_dict(neuron_obj,\n",
    "                          {\"L0\":[17,23]})"
   ]
  },
  {
   "cell_type": "code",
   "execution_count": null,
   "metadata": {},
   "outputs": [],
   "source": [
    "xu.downstream_nodes(curr_limb.concept_network_directional,\n",
    "                   17)"
   ]
  },
  {
   "cell_type": "code",
   "execution_count": null,
   "metadata": {},
   "outputs": [],
   "source": [
    "import neuron_utils as nru\n",
    "curr_limb = neuron_obj[0]\n",
    "parent_angle = nru.find_parent_child_skeleton_angle(curr_limb,\n",
    "                                            23,\n",
    "                                                    comparison_distance=1000,\n",
    "                                            plot_extracted_skeletons=True)\n",
    "parent_angle"
   ]
  },
  {
   "cell_type": "code",
   "execution_count": null,
   "metadata": {},
   "outputs": [],
   "source": [
    "xu.upstream_node(curr_limb.concept_network_directional,23)"
   ]
  },
  {
   "cell_type": "code",
   "execution_count": null,
   "metadata": {},
   "outputs": [],
   "source": [
    "bs = [17,23]\n",
    "c = [\"red\",\"blue\"]\n",
    "nviz.plot_objects(meshes=[curr_limb[k].mesh for k in bs],\n",
    "                 meshes_colors=c,\n",
    "                 skeletons =[curr_limb[k].skeleton for k in bs],\n",
    "                 skeletons_colors=c)"
   ]
  },
  {
   "cell_type": "code",
   "execution_count": null,
   "metadata": {},
   "outputs": [],
   "source": [
    "nviz.plot_branches_with_spines(neuron_obj[0][17])"
   ]
  },
  {
   "cell_type": "code",
   "execution_count": null,
   "metadata": {},
   "outputs": [],
   "source": [
    "nviz.plot_branches_with_spines(neuron_obj[0][23])"
   ]
  },
  {
   "cell_type": "code",
   "execution_count": null,
   "metadata": {},
   "outputs": [],
   "source": [
    "nviz.plot_limb_branch_dict(neuron_obj,\n",
    "                           result_limb_branch)"
   ]
  },
  {
   "cell_type": "markdown",
   "metadata": {},
   "source": [
    "# Trying Out the New Error Function"
   ]
  },
  {
   "cell_type": "code",
   "execution_count": null,
   "metadata": {},
   "outputs": [],
   "source": [
    "curr_table = (minnie.AutoProofreadValidationScore4() & dict(segment_id=segment_id))\n",
    "curr_table*minnie.AutoProofreadValidationSegmentMap4()"
   ]
  },
  {
   "cell_type": "code",
   "execution_count": null,
   "metadata": {},
   "outputs": [],
   "source": [
    "decomp_path = (minnie.DecompositionAxon() & dict(segment_id=864691135462735678,\n",
    "                                  split_index = 0\n",
    "                                 )).fetch1(\"decomposition\")\n",
    "pre_filt_neuron = du.filepath_to_neuron_obj(decomp_path)"
   ]
  },
  {
   "cell_type": "code",
   "execution_count": null,
   "metadata": {},
   "outputs": [],
   "source": [
    "pre_filt_neuron"
   ]
  },
  {
   "cell_type": "code",
   "execution_count": null,
   "metadata": {},
   "outputs": [],
   "source": [
    "nviz.visualize_neuron(pre_filt_neuron,\n",
    "                     limb_branch_dict=\"all\")"
   ]
  },
  {
   "cell_type": "code",
   "execution_count": null,
   "metadata": {
    "scrolled": false
   },
   "outputs": [],
   "source": [
    "(filt_neuron,\n",
    "             return_synapse_df_revised,\n",
    "             return_synapse_df_errors,\n",
    "            return_validation_df_revised,\n",
    "            return_validation_df_extension) =  vu.filtered_neuron_score(neuron_obj = pre_filt_neuron,   \n",
    "                                filter_list = [pru.exc_double_back_and_width_change_filter],\n",
    "                                plot_limb_branch_filter_with_disconnect_effect = True,\n",
    "                                verbose = True,\n",
    "                                plot_score=False,\n",
    "                                nucleus_id = 560530,\n",
    "                                return_synapse_df_errors=True,\n",
    "                                return_validation_df_extension = True,                                        \n",
    "                                split_index=0)"
   ]
  },
  {
   "cell_type": "markdown",
   "metadata": {},
   "source": [
    "# Trying on the ALREADY Proofread Neuron"
   ]
  },
  {
   "cell_type": "code",
   "execution_count": null,
   "metadata": {},
   "outputs": [],
   "source": [
    "segment_id = bad_seg_ids[4]\n",
    "curr_table = (minnie.AutoProofreadValidationScore4() & dict(segment_id=segment_id))\n",
    "decomp_path,validation_df = curr_table.fetch1(\"decomposition\",\"validation_df\")\n",
    "neuron_obj = du.filepath_to_neuron_obj(decomp_path)"
   ]
  },
  {
   "cell_type": "code",
   "execution_count": null,
   "metadata": {},
   "outputs": [],
   "source": [
    "neuron_obj[0][70]"
   ]
  },
  {
   "cell_type": "code",
   "execution_count": null,
   "metadata": {},
   "outputs": [],
   "source": [
    "(filt_neuron,\n",
    "             return_synapse_df_revised,\n",
    "             return_synapse_df_errors,\n",
    "            return_validation_df_revised,\n",
    "            return_validation_df_extension) =  vu.filtered_neuron_score(neuron_obj = pre_filt_neuron,   \n",
    "                                filter_list = [pru.exc_double_back_and_width_change_filter],\n",
    "                                plot_limb_branch_filter_with_disconnect_effect = True,\n",
    "                                verbose = True,\n",
    "                                plot_score=False,\n",
    "                                nucleus_id = 560530,\n",
    "                                return_synapse_df_errors=True,\n",
    "                                return_validation_df_extension = True,                                        \n",
    "                                split_index=0)"
   ]
  }
 ],
 "metadata": {
  "kernelspec": {
   "display_name": "Python 3",
   "language": "python",
   "name": "python3"
  },
  "language_info": {
   "codemirror_mode": {
    "name": "ipython",
    "version": 3
   },
   "file_extension": ".py",
   "mimetype": "text/x-python",
   "name": "python",
   "nbconvert_exporter": "python",
   "pygments_lexer": "ipython3",
   "version": "3.6.9"
  }
 },
 "nbformat": 4,
 "nbformat_minor": 4
}
