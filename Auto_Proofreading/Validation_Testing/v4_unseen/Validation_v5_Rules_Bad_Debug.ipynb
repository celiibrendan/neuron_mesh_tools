{
 "cells": [
  {
   "cell_type": "code",
   "execution_count": null,
   "metadata": {},
   "outputs": [],
   "source": [
    "\"\"\"\n",
    "Purpose: To Run the proofreading of neurons in the \n",
    "test set and measure the precision and recall of the new rules\n",
    "\n",
    "Segments to look out for that had no axon\n",
    "864691135012395766 # one of the split segments files not there (split index = 1)\n",
    "864691135865584005 #soma soma merger\n",
    "864691136451113215 #it was an inhibitory neuron (part of split)\n",
    "\n",
    "\"\"\""
   ]
  },
  {
   "cell_type": "code",
   "execution_count": 1,
   "metadata": {},
   "outputs": [],
   "source": [
    "%load_ext autoreload\n",
    "%autoreload 2"
   ]
  },
  {
   "cell_type": "code",
   "execution_count": 2,
   "metadata": {},
   "outputs": [
    {
     "name": "stderr",
     "output_type": "stream",
     "text": [
      "INFO - 2021-06-22 06:00:58,048 - settings - Setting database.host to at-database.ad.bcm.edu\n",
      "INFO - 2021-06-22 06:00:58,050 - settings - Setting database.user to celiib\n",
      "INFO - 2021-06-22 06:00:58,051 - settings - Setting database.password to newceliipass\n",
      "INFO - 2021-06-22 06:00:58,051 - settings - Setting database.host to at-database.ad.bcm.edu\n",
      "INFO - 2021-06-22 06:00:58,052 - settings - Setting database.user to celiib\n",
      "INFO - 2021-06-22 06:00:58,053 - settings - Setting database.password to newceliipass\n",
      "INFO - 2021-06-22 06:00:58,066 - settings - Setting stores to {'minnie65': {'protocol': 'file', 'location': '/mnt/dj-stor01/platinum/minnie65', 'stage': '/mnt/dj-stor01/platinum/minnie65'}, 'meshes': {'protocol': 'file', 'location': '/mnt/dj-stor01/platinum/minnie65/02/meshes', 'stage': '/mnt/dj-stor01/platinum/minnie65/02/meshes'}, 'decimated_meshes': {'protocol': 'file', 'location': '/mnt/dj-stor01/platinum/minnie65/02/decimated_meshes', 'stage': '/mnt/dj-stor01/platinum/minnie65/02/decimated_meshes'}, 'skeletons': {'protocol': 'file', 'location': '/mnt/dj-stor01/platinum/minnie65/02/skeletons'}}\n",
      "INFO - 2021-06-22 06:00:58,068 - settings - Setting enable_python_native_blobs to True\n",
      "INFO - 2021-06-22 06:00:58,082 - connection - Connected celiib@at-database.ad.bcm.edu:3306\n"
     ]
    },
    {
     "name": "stdout",
     "output_type": "stream",
     "text": [
      "Connecting celiib@at-database.ad.bcm.edu:3306\n"
     ]
    },
    {
     "name": "stderr",
     "output_type": "stream",
     "text": [
      "INFO - 2021-06-22 06:00:58,684 - settings - Setting enable_python_native_blobs to True\n",
      "INFO - 2021-06-22 06:00:58,737 - settings - Setting database.host to at-database.ad.bcm.edu\n",
      "INFO - 2021-06-22 06:00:58,738 - settings - Setting database.user to celiib\n",
      "INFO - 2021-06-22 06:00:58,739 - settings - Setting database.password to newceliipass\n",
      "INFO - 2021-06-22 06:00:58,740 - settings - Setting enable_python_native_blobs to True\n",
      "INFO - 2021-06-22 06:00:59,368 - settings - Setting enable_python_native_blobs to True\n",
      "INFO - 2021-06-22 06:00:59,439 - settings - Setting database.host to at-database.ad.bcm.edu\n",
      "INFO - 2021-06-22 06:00:59,440 - settings - Setting database.user to celiib\n",
      "INFO - 2021-06-22 06:00:59,442 - settings - Setting database.password to newceliipass\n",
      "INFO - 2021-06-22 06:00:59,443 - settings - Setting database.host to at-database.ad.bcm.edu\n",
      "INFO - 2021-06-22 06:00:59,444 - settings - Setting database.user to celiib\n",
      "INFO - 2021-06-22 06:00:59,445 - settings - Setting database.password to newceliipass\n",
      "INFO - 2021-06-22 06:00:59,449 - settings - Setting enable_python_native_blobs to True\n",
      "INFO - 2021-06-22 06:01:00,127 - settings - Setting enable_python_native_blobs to True\n"
     ]
    }
   ],
   "source": [
    "import numpy as np\n",
    "import datajoint as dj\n",
    "import trimesh\n",
    "from tqdm.notebook import tqdm\n",
    "from pathlib import Path\n",
    "\n",
    "from os import sys\n",
    "sys.path.append(\"/meshAfterParty/\")\n",
    "sys.path.append(\"/meshAfterParty/meshAfterParty\")\n",
    "\n",
    "import datajoint_utils as du\n",
    "from importlib import reload"
   ]
  },
  {
   "cell_type": "code",
   "execution_count": 3,
   "metadata": {},
   "outputs": [
    {
     "name": "stderr",
     "output_type": "stream",
     "text": [
      "INFO - 2021-06-22 06:01:00,304 - settings - Setting database.host to at-database.ad.bcm.edu\n",
      "INFO - 2021-06-22 06:01:00,306 - settings - Setting database.user to celiib\n",
      "INFO - 2021-06-22 06:01:00,307 - settings - Setting database.password to newceliipass\n",
      "INFO - 2021-06-22 06:01:00,309 - settings - Setting enable_python_native_blobs to True\n",
      "INFO - 2021-06-22 06:01:01,032 - settings - Setting enable_python_native_blobs to True\n"
     ]
    }
   ],
   "source": [
    "#configuring will include the adapters\n",
    "minnie,schema = du.configure_minnie_vm()"
   ]
  },
  {
   "cell_type": "code",
   "execution_count": 4,
   "metadata": {},
   "outputs": [],
   "source": [
    "import validation_utils as vu\n",
    "import neuron_visualizations as nviz\n",
    "import neuron_utils as nru\n",
    "import proofreading_utils as pru\n",
    "import time\n",
    "import system_utils as su"
   ]
  },
  {
   "cell_type": "markdown",
   "metadata": {},
   "source": []
  },
  {
   "cell_type": "code",
   "execution_count": 10,
   "metadata": {},
   "outputs": [
    {
     "name": "stdout",
     "output_type": "stream",
     "text": [
      "**Using table __decomposition_axon for table_to_neuron_objs**\n",
      "Decompressing Neuron in minimal output mode...please wait\n",
      "Dont need spine recalculation\n",
      "**Using table __decomposition_axon for table_to_neuron_objs**\n",
      "Decompressing Neuron in minimal output mode...please wait\n",
      "Dont need spine recalculation\n",
      "Number of Neurons found = 2\n"
     ]
    }
   ],
   "source": [
    "neuron_objs,neuron_split_idxs = du.decomposition_with_spine_recalculation(864691135538120050)"
   ]
  },
  {
   "cell_type": "code",
   "execution_count": 6,
   "metadata": {},
   "outputs": [
    {
     "name": "stdout",
     "output_type": "stream",
     "text": [
      "Recieved another instance of Neuron class in init -- so just copying data\n",
      "\n",
      " Working on visualization type: mesh\n",
      "\n",
      " Working on visualization type: skeleton\n",
      "No Synapses to plot\n"
     ]
    },
    {
     "data": {
      "application/vnd.jupyter.widget-view+json": {
       "model_id": "1fe65af6d6a14790962944ff3118f702",
       "version_major": 2,
       "version_minor": 0
      },
      "text/plain": [
       "VBox(children=(Figure(camera=PerspectiveCamera(fov=46.0, position=(0.0, 0.0, 2.0), projectionMatrix=(1.0, 0.0,…"
      ]
     },
     "metadata": {},
     "output_type": "display_data"
    }
   ],
   "source": [
    "neuron_obj = neuron_objs[0]\n",
    "nviz.visualize_neuron(neuron_obj,\n",
    "                     limb_branch_dict=\"all\")"
   ]
  },
  {
   "cell_type": "code",
   "execution_count": null,
   "metadata": {},
   "outputs": [],
   "source": [
    "neuron_obj_with_web = au.complete_axon_processing(neuron_obj,\n",
    "                                     verbose=True)"
   ]
  },
  {
   "cell_type": "code",
   "execution_count": 7,
   "metadata": {
    "scrolled": false
   },
   "outputs": [
    {
     "name": "stdout",
     "output_type": "stream",
     "text": [
      "\n",
      "Part 1: Axon like branchese \n",
      "{'L0': array([44, 46, 47, 48, 49]), 'L1': array([14, 15, 16, 18, 19, 20, 21, 22]), 'L4': array([ 2,  5,  8,  9, 10]), 'L6': array([ 0,  1,  2,  3,  4,  5,  6,  7,  8,  9, 10, 11, 12, 13, 14, 15, 16,\n",
      "       17, 18, 19, 20, 21, 22]), 'L7': array([5, 6, 7])}\n",
      "Limb L0 soma angle: 15.25 \n",
      "Limb L1 soma angle: 136.8 \n",
      "Limb L2 soma angle: 126.49 \n",
      "Limb L3 soma angle: 80.02 \n",
      "Limb L4 soma angle: 144.06 \n",
      "Limb L5 soma angle: 42.49 \n",
      "Limb L6 soma angle: 162.32 \n",
      "Limb L7 soma angle: 134.41 \n",
      "\n",
      "Part 2: possible_axon_limbs = [1, 2, 3, 4, 6, 7]\n",
      "\n",
      "Phase 2: Working on Limb L1\n",
      "nodes_to_eliminate = [3 4]\n",
      "\n",
      "Phase 2: Working on Limb L2\n",
      "nodes_to_eliminate = [15 16 18]\n",
      "\n",
      "Phase 2: Working on Limb L3\n",
      "nodes_to_eliminate = [6 7 9]\n",
      "\n",
      "Phase 2: Working on Limb L4\n",
      "nodes_to_eliminate = [7]\n",
      "\n",
      "Phase 2: Working on Limb L6\n",
      "nodes_to_eliminate = []\n",
      "\n",
      "Phase 2: Working on Limb L7\n",
      "nodes_to_eliminate = [1]\n",
      "\n",
      "----Working on Limb L1-----\n",
      "No endpoints were eliminated so don't need to add back any candidates\n",
      "\n",
      "----Working on Limb L2-----\n",
      "No endpoints were eliminated so don't need to add back any candidates\n",
      "\n",
      "----Working on Limb L3-----\n",
      "No endpoints were eliminated so don't need to add back any candidates\n",
      "\n",
      "----Working on Limb L4-----\n",
      "No endpoints were eliminated so don't need to add back any candidates\n",
      "\n",
      "----Working on Limb L6-----\n",
      "No nodes were eliminated so don't need to add back any candidates\n",
      "\n",
      "----Working on Limb L7-----\n",
      "No endpoints were eliminated so don't need to add back any candidates\n",
      "Final Candidates\n",
      "\n",
      "Limb 1\n",
      "Candidate 0 (sandybrown): array([ 2,  8, 10, 11, 12, 13, 14])\n",
      "Candidate 1 (sandybrown): array([ 0,  1,  5,  6,  9, 15, 16, 17, 18, 19, 20, 21, 22])\n",
      "Candidate 2 (green): array([7])\n",
      "\n",
      "Limb 2\n",
      "Candidate 0 (cyan): array([ 5,  6,  7,  9, 10, 14, 17])\n",
      "Candidate 1 (gray): array([ 1,  3,  4,  8, 11])\n",
      "Candidate 2 (cyan): array([0])\n",
      "Candidate 3 (pink): array([ 2, 12, 13])\n",
      "\n",
      "Limb 3\n",
      "Candidate 0 (gray): array([8])\n",
      "Candidate 1 (olive): array([ 0,  1,  2,  3,  5, 13])\n",
      "Candidate 2 (magenta): array([4])\n",
      "Candidate 3 (gold): array([10, 11, 12])\n",
      "\n",
      "Limb 4\n",
      "Candidate 0 (cyan): array([0])\n",
      "Candidate 1 (olive): array([ 1,  2,  3,  4,  5,  6,  8,  9, 10])\n",
      "\n",
      "Limb 6\n",
      "Candidate 0 (tan): array([ 0,  1,  2,  3,  4,  5,  6,  7,  8,  9, 10, 11, 12, 13, 14, 15, 16,\n",
      "       17, 18, 19, 20, 21, 22])\n",
      "\n",
      "Limb 7\n",
      "Candidate 0 (cyan): array([0])\n",
      "Candidate 1 (blue): array([2, 3, 4, 5, 6, 7])\n",
      "Part 3: axon_subgraph_candidates = {1: [[2, 8, 10, 11, 12, 13, 14], [0, 1, 5, 6, 9, 15, 16, 17, 18, 19, 20, 21, 22], [7]], 2: [[5, 6, 7, 9, 10, 14, 17], [1, 3, 4, 8, 11], [0], [2, 12, 13]], 3: [[8], [0, 1, 2, 3, 5, 13], [4], [10, 11, 12]], 4: [[0], [1, 2, 3, 4, 5, 6, 8, 9, 10]], 6: [[0, 1, 2, 3, 4, 5, 6, 7, 8, 9, 10, 11, 12, 13, 14, 15, 16, 17, 18, 19, 20, 21, 22]], 7: [[0], [2, 3, 4, 5, 6, 7]]}\n",
      "\n",
      "\n",
      " --- Working on limb 1, candidate # 0\n",
      "1 out of 7 branches are axons\n",
      "Axon percentage = 0.14285714285714285\n",
      "curr_axon_angle_threshold = 120\n",
      "candidate_nodes = [ 2  3  8 10 11 12 13 14]\n",
      "non_axon_branches_on_subgraph = [ 2  3  8 10 11 12 13]\n",
      "endnodes_to_test = []\n",
      "Not adding candidate because no angles (None) passed the threhold 120 \n",
      "\n",
      "\n",
      " --- Working on limb 1, candidate # 1\n",
      "7 out of 13 branches are axons\n",
      "Axon percentage = 0.5384615384615384\n",
      "curr_axon_angle_threshold = 120\n",
      "candidate_nodes = [ 0  1  3  4  5  6  9 15 16 17 18 19 20 21 22]\n",
      "non_axon_branches_on_subgraph = [ 0  1  3  4  5  6  9 17]\n",
      "endnodes_to_test = []\n",
      "Not adding candidate because no angles (None) passed the threhold 120 \n",
      "\n",
      "\n",
      " --- Working on limb 1, candidate # 2\n",
      "0 out of 1 branches are axons\n",
      "Axon percentage = 0.0\n",
      "Not adding candidate no axon branches detected \n",
      "\n",
      "\n",
      " --- Working on limb 2, candidate # 0\n",
      "0 out of 7 branches are axons\n",
      "Axon percentage = 0.0\n",
      "Not adding candidate no axon branches detected \n",
      "\n",
      "\n",
      " --- Working on limb 2, candidate # 1\n",
      "0 out of 5 branches are axons\n",
      "Axon percentage = 0.0\n",
      "Not adding candidate no axon branches detected \n",
      "\n",
      "\n",
      " --- Working on limb 2, candidate # 2\n",
      "0 out of 1 branches are axons\n",
      "Axon percentage = 0.0\n",
      "Not adding candidate no axon branches detected \n",
      "\n",
      "\n",
      " --- Working on limb 2, candidate # 3\n",
      "0 out of 3 branches are axons\n",
      "Axon percentage = 0.0\n",
      "Not adding candidate no axon branches detected \n",
      "\n",
      "\n",
      " --- Working on limb 3, candidate # 0\n",
      "0 out of 1 branches are axons\n",
      "Axon percentage = 0.0\n",
      "Not adding candidate no axon branches detected \n",
      "\n",
      "\n",
      " --- Working on limb 3, candidate # 1\n",
      "0 out of 6 branches are axons\n",
      "Axon percentage = 0.0\n",
      "Not adding candidate no axon branches detected \n",
      "\n",
      "\n",
      " --- Working on limb 3, candidate # 2\n",
      "0 out of 1 branches are axons\n",
      "Axon percentage = 0.0\n",
      "Not adding candidate no axon branches detected \n",
      "\n",
      "\n",
      " --- Working on limb 3, candidate # 3\n",
      "0 out of 3 branches are axons\n",
      "Axon percentage = 0.0\n",
      "Not adding candidate no axon branches detected \n",
      "\n",
      "\n",
      " --- Working on limb 4, candidate # 0\n",
      "0 out of 1 branches are axons\n",
      "Axon percentage = 0.0\n",
      "Not adding candidate no axon branches detected \n",
      "\n",
      "\n",
      " --- Working on limb 4, candidate # 1\n",
      "5 out of 9 branches are axons\n",
      "Axon percentage = 0.5555555555555556\n",
      "curr_axon_angle_threshold = 120\n",
      "candidate_nodes = [ 1  2  3  4  5  6  7  8  9 10]\n",
      "non_axon_branches_on_subgraph = [1 3 4 6 7]\n",
      "endnodes_to_test = []\n",
      "Not adding candidate because no angles (None) passed the threhold 120 \n",
      "\n",
      "\n",
      " --- Working on limb 6, candidate # 0\n",
      "23 out of 23 branches are axons\n",
      "Axon percentage = 1.0\n",
      "curr_axon_angle_threshold = 95\n",
      "candidate_nodes = [ 0  1  2  3  4  5  6  7  8  9 10 11 12 13 14 15 16 17 18 19 20 21 22]\n",
      "non_axon_branches_on_subgraph = []\n",
      "endnodes_to_test = [4326]\n",
      "Skeleton paths distances = [24998.9960268]\n",
      "Filtered indexes = [0]\n",
      "len(filtered_skeletons) = 1\n",
      "sk_angles = [174.71975296]\n",
      "base_final_widths = [222.0898925  217.98148967]\n",
      "overall_ais_width = 208.09594979030666\n",
      "ais_width = 220.035691085479\n",
      "Adding the following branches as true axons: [ 0.  1.  2.  3.  4.  5.  6.  7.  8.  9. 10. 11. 12. 13. 14. 15. 16. 17.\n",
      " 18. 19. 20. 21. 22.]\n",
      "curr_soma_angle = 162.32\n",
      "max_axon_angle = 174.71975295828693\n",
      "Changing to a better axon candidate\n",
      "\n",
      "\n",
      " --- Working on limb 7, candidate # 0\n",
      "0 out of 1 branches are axons\n",
      "Axon percentage = 0.0\n",
      "Not adding candidate no axon branches detected \n",
      "\n",
      "\n",
      " --- Working on limb 7, candidate # 1\n",
      "3 out of 6 branches are axons\n",
      "Axon percentage = 0.5\n",
      "curr_axon_angle_threshold = 120\n",
      "candidate_nodes = [1 2 3 4 5 6 7]\n",
      "non_axon_branches_on_subgraph = [1 2 3 4]\n",
      "endnodes_to_test = []\n",
      "Not adding candidate because no angles (None) passed the threhold 120 \n",
      "Using the best axon approach\n",
      "Using True\n",
      "Limb L6: Axon branches before dendritic path filter = [ 0.  1.  2.  3.  4.  5.  6.  7.  8.  9. 10. 11. 12. 13. 14. 15. 16. 17.\n",
      " 18. 19. 20. 21. 22.]\n",
      "Limb L6: Axon branches AFTER dendritic path filter = [ 0.  1.  2.  3.  4.  5.  6.  7.  8.  9. 10. 11. 12. 13. 14. 15. 16. 17.\n",
      " 18. 19. 20. 21. 22.]\n",
      "\n",
      "\n",
      "Part 4: final_true_axons = {'L6': array([ 0.,  1.,  2.,  3.,  4.,  5.,  6.,  7.,  8.,  9., 10., 11., 12.,\n",
      "       13., 14., 15., 16., 17., 18., 19., 20., 21., 22.])}\n"
     ]
    },
    {
     "data": {
      "text/plain": [
       "({'L6': array([ 0.,  1.,  2.,  3.,  4.,  5.,  6.,  7.,  8.,  9., 10., 11., 12.,\n",
       "         13., 14., 15., 16., 17., 18., 19., 20., 21., 22.])},\n",
       " {'L0': array([44, 46, 47, 48, 49]),\n",
       "  'L1': array([14, 15, 16, 18, 19, 20, 21, 22]),\n",
       "  'L4': array([ 2,  5,  8,  9, 10]),\n",
       "  'L7': array([5, 6])})"
      ]
     },
     "execution_count": 7,
     "metadata": {},
     "output_type": "execute_result"
    }
   ],
   "source": [
    "import classification_utils as clu\n",
    "clu.axon_classification(neuron_obj,\n",
    "                       #plot_axons=True,\n",
    "                        #plot_axon_like_segments = True,\n",
    "                        #plot_candidates = True,\n",
    "                            #verbose=True,\n",
    "                       )"
   ]
  },
  {
   "cell_type": "markdown",
   "metadata": {},
   "source": [
    "# Runnig the validation"
   ]
  },
  {
   "cell_type": "code",
   "execution_count": null,
   "metadata": {},
   "outputs": [],
   "source": [
    "\"\"\"\n",
    "Psueodocode: \n",
    "1) Pull down the segment ids of the valid neurons\n",
    "\n",
    "For each neuron\n",
    "1) Dwonload the neuron object\n",
    "2) Run the Proofreading\n",
    "3) Print out the validation plot\n",
    "4) Save the validation df\n",
    "\n",
    "\"\"\""
   ]
  },
  {
   "cell_type": "code",
   "execution_count": null,
   "metadata": {},
   "outputs": [],
   "source": [
    "\"\"\"\n",
    "Pseudocode: \n",
    "1) Check if there are multiple somas associated with that segment\n",
    "\n",
    "\"\"\""
   ]
  },
  {
   "cell_type": "code",
   "execution_count": null,
   "metadata": {},
   "outputs": [],
   "source": [
    "axon_segs = dj.U(\"segment_id\") & (minnie.DecompositionAxon() \n",
    "                      & minnie.AutoProofreadValidationSegment4() - minnie.AutoProofreadValidationSegmentExclude4() )\n",
    "axon_segs"
   ]
  },
  {
   "cell_type": "code",
   "execution_count": null,
   "metadata": {},
   "outputs": [],
   "source": [
    "\"\"\"\n",
    "Pseudocode: \n",
    "1) Find the coordinates of the nucleus for that new segment\n",
    "2) Make sure that same number of DecompositionAxon objects as in Decomposition\n",
    "3) Pick the neuron object that is closest and within a certain range of the nucleus\n",
    "4) Download the neuron object\n",
    "5) Run the proofreading\n",
    "6) Save off the validation df\n",
    "\"\"\""
   ]
  },
  {
   "cell_type": "code",
   "execution_count": null,
   "metadata": {},
   "outputs": [],
   "source": [
    "minnie.AutoProofreadValidationScore5()"
   ]
  },
  {
   "cell_type": "code",
   "execution_count": null,
   "metadata": {},
   "outputs": [],
   "source": [
    "bad_postsyn_table = (minnie.AutoProofreadValidationScore5() & \"post_fn>200\")\n",
    "bad_postsyn_table_filt =  (bad_postsyn_table * minnie.AutoProofreadValidationSegmentMap4()) & axon_segs.proj(old_segment_id=\"segment_id\")\n",
    "#bad_postsyn_seg_ids = bad_postsyn_table.fetch(\"segment_id\")\n",
    "bad_postsyn_table_filt.proj(\"post_fn\")"
   ]
  },
  {
   "cell_type": "code",
   "execution_count": null,
   "metadata": {},
   "outputs": [],
   "source": [
    "minnie.AutoProofreadValidationScore5()"
   ]
  },
  {
   "cell_type": "code",
   "execution_count": null,
   "metadata": {},
   "outputs": [],
   "source": [
    "import datajoint as dj\n",
    "dj.config[\"display.limit\"] = 30\n",
    "bad_presyn_table = (minnie.AutoProofreadValidationScore5() & \"pre_fp>10\")\n",
    "bad_presyn_seg_ids = bad_presyn_table.fetch(\"segment_id\")\n",
    "bad_presyn_table"
   ]
  },
  {
   "cell_type": "code",
   "execution_count": null,
   "metadata": {},
   "outputs": [],
   "source": [
    "# multi_soma_keys = (minnie.AutoProofreadValidationSegmentMap4() & \"n_somas>1\"\n",
    "#                       & minnie.DecompositionAxon.proj(old_segment_id=\"segment_id\")\n",
    "#                   & dict(segment_id = 864691135415710906)).proj().fetch(as_dict=True)\n",
    "# key = multi_soma_keys[0]\n",
    "# key"
   ]
  },
  {
   "cell_type": "code",
   "execution_count": null,
   "metadata": {},
   "outputs": [],
   "source": [
    "segment_id = 864691135117980637\n",
    "key = dict(segment_id=segment_id)"
   ]
  },
  {
   "cell_type": "code",
   "execution_count": null,
   "metadata": {
    "scrolled": false
   },
   "outputs": [],
   "source": [
    "verbose = True\n",
    "\n",
    "segment_id=key[\"segment_id\"]\n",
    "print(f\"\\n-- Working on neuron {segment_id}---\")\n",
    "\n",
    "segment_map_dict = (minnie.AutoProofreadValidationSegmentMap4() & key).fetch1()\n",
    "\n",
    "#1) Find the coordinates of the nucleus for that new segment\n",
    "nucleus_id = segment_map_dict[\"nucleus_id\"]\n",
    "nuc_center_coords = du.nuclei_id_to_nucleus_centers(nucleus_id)\n",
    "if verbose:\n",
    "    print(f\"nuc_center_coords = {nuc_center_coords}\")\n",
    "\n",
    "#2) Make sure that same number of DecompositionAxon objects as in Decomposition\n",
    "old_segment_id = segment_map_dict[\"old_segment_id\"]\n",
    "if verbose:\n",
    "    print(f\"old_segment_id = {old_segment_id}\")\n",
    "    \n",
    "search_key = dict(segment_id=old_segment_id)\n",
    "n_somas = len(minnie.BaylorSegmentCentroid() & search_key)\n",
    "n_decomp_axon = len(minnie.DecompositionAxon() & search_key)\n",
    "if verbose:\n",
    "    print(f\"# of somas = {n_somas} and # of DecompositionAxon = {n_decomp_axon}\")\n",
    "    \n",
    "\n",
    "if n_somas != n_decomp_axon:\n",
    "    raise Exception(f\"# of somas = {n_somas} NOT MATCH # of DecompositionAxon = {n_decomp_axon}\")\n",
    "    \n",
    "#3) Pick the neuron object that is closest and within a certain range of the nucleus\n",
    "neuron_objs,split_idxs = du.decomposition_with_spine_recalculation(old_segment_id)\n",
    "if n_somas > 1:\n",
    "    \"\"\"\n",
    "    Finding the closest soma:\n",
    "    1) For each neuron object get the mesh center of the soma object\n",
    "    2) Find the distance of each from the nucleus center\n",
    "    3) Find the arg min distance and make sure within threshold\n",
    "    4) Mark the current neuron and the current split index\n",
    "    \"\"\"\n",
    "    nuclei_distance_threshold = 15000\n",
    "\n",
    "    soma_center_coords = [k[\"S0\"].mesh_center for k in neuron_objs]\n",
    "    soma_distances = [np.linalg.norm(k-nuc_center_coords) for k in soma_center_coords]\n",
    "    min_dist_arg = np.argmin(soma_distances)\n",
    "    min_dist = soma_distances[min_dist_arg]\n",
    "\n",
    "    if verbose:\n",
    "        print(f\"soma_distances = {soma_distances}\")\n",
    "        print(f\"min_dist_arg = {min_dist_arg}, with min distance = {min_dist}\")\n",
    "\n",
    "    if min_dist > nuclei_distance_threshold:\n",
    "        raise Exception(f\"min_dist ({min_dist}) larger than nuclei_distance_threshold ({nuclei_distance_threshold})\")\n",
    "\n",
    "    neuron_obj = neuron_objs[min_dist_arg]\n",
    "    split_index = split_idxs[min_dist_arg]\n",
    "\n",
    "    if verbose:\n",
    "        print(f\"Winning split_index = {split_index}\")\n",
    "else:\n",
    "    split_index = split_idxs[0]\n",
    "    neuron_obj = neuron_objs[0]\n",
    "    \n",
    "    \n",
    "import proofreading_utils as pru\n",
    "import validation_utils as vu\n",
    "(filt_neuron,\n",
    "     return_synapse_df_revised,\n",
    "     return_synapse_df_errors,\n",
    "    return_validation_df_revised,\n",
    "    return_validation_df_extension) =  vu.filtered_neuron_score(neuron_obj = neuron_obj,   \n",
    "                        filter_list = pru.v5_exc_filters(),\n",
    "                        plot_limb_branch_filter_with_disconnect_effect = True,\n",
    "                        verbose = True,\n",
    "                        plot_score=False,\n",
    "                        nucleus_id = nucleus_id,\n",
    "                        return_synapse_df_errors=True,\n",
    "                        return_validation_df_extension = True,                                        \n",
    "                        split_index=split_index)\n",
    "    "
   ]
  },
  {
   "cell_type": "code",
   "execution_count": null,
   "metadata": {},
   "outputs": [],
   "source": [
    "vu.synapse_validation_df_to_score_plot(return_validation_df_revised)"
   ]
  },
  {
   "cell_type": "code",
   "execution_count": null,
   "metadata": {},
   "outputs": [],
   "source": [
    "nviz.plot_axon(filt_neuron)"
   ]
  },
  {
   "cell_type": "code",
   "execution_count": null,
   "metadata": {},
   "outputs": [],
   "source": [
    "# import neuron_visualizations as nviz\n",
    "# nviz.visualize_neuron(filt_neuron,\n",
    "#                       limb_branch_dict=\"all\")"
   ]
  },
  {
   "cell_type": "code",
   "execution_count": null,
   "metadata": {
    "scrolled": false
   },
   "outputs": [],
   "source": [
    "minnie.AutoProofreadValidationSegmentMap4() & key"
   ]
  },
  {
   "cell_type": "code",
   "execution_count": null,
   "metadata": {},
   "outputs": [],
   "source": [
    "filt_neuron.segment_id"
   ]
  },
  {
   "cell_type": "code",
   "execution_count": null,
   "metadata": {
    "scrolled": false
   },
   "outputs": [],
   "source": [
    "vu.plot_validation_synapses(filt_neuron.segment_id,\n",
    "                            validation_df = return_validation_df_revised,\n",
    "                             synapse_dict = None,\n",
    "                             synapses_type_to_plot = None,\n",
    "                             synapses_type_to_not_plot = None,\n",
    "                             verbose=False,\n",
    "                             synapse_type = \"presyn\",\n",
    "                             TP_color=\"yellow\",\n",
    "                            TN_color=\"aqua\",\n",
    "                            FP_color=\"black\",\n",
    "                            FN_color=\"orange\",\n",
    "                             synapse_scatter_size = 0.15,\n",
    "                             \n",
    "                             #for plotting the actual mesh parts to go along\n",
    "                             \n",
    "                             neuron_obj = filt_neuron,\n",
    "                             plot_only_axon_skeleton = True,\n",
    "                             error_mesh_color = \"red\",\n",
    "                             valid_mesh_color = \"green\",\n",
    "                             valid_skeleton_color = \"black\",\n",
    "                             mesh_alpha = 0.3,)"
   ]
  },
  {
   "cell_type": "markdown",
   "metadata": {},
   "source": [
    "# How to attach the synapses"
   ]
  },
  {
   "cell_type": "code",
   "execution_count": null,
   "metadata": {},
   "outputs": [],
   "source": [
    "beginning_direct_connections = du.segment_id_to_synapse_table(filt_neuron.segment_id,\n",
    "                                                                         validation=True)\n",
    "beginning_direct_connections"
   ]
  },
  {
   "cell_type": "code",
   "execution_count": null,
   "metadata": {},
   "outputs": [],
   "source": []
  },
  {
   "cell_type": "code",
   "execution_count": null,
   "metadata": {},
   "outputs": [],
   "source": []
  },
  {
   "cell_type": "code",
   "execution_count": null,
   "metadata": {},
   "outputs": [],
   "source": []
  },
  {
   "cell_type": "markdown",
   "metadata": {},
   "source": [
    "# Debugging the Stitch Distance"
   ]
  },
  {
   "cell_type": "code",
   "execution_count": null,
   "metadata": {},
   "outputs": [],
   "source": [
    "incorp_floating_pieces = nru.non_soma_touching_meshes_stitched(filt_neuron)\n",
    "incorp_floating_pieces"
   ]
  },
  {
   "cell_type": "code",
   "execution_count": null,
   "metadata": {},
   "outputs": [],
   "source": [
    "nviz.plot_objects(meshes = incorp_floating_pieces)"
   ]
  },
  {
   "cell_type": "code",
   "execution_count": null,
   "metadata": {},
   "outputs": [],
   "source": [
    "nru.filter_branches_by_restriction_mesh(filt_neuron[2],\n",
    "                                       restriction_mesh=incorp_floating_pieces[0])"
   ]
  },
  {
   "cell_type": "code",
   "execution_count": null,
   "metadata": {},
   "outputs": [],
   "source": [
    "[k for k in dir(nru) if \"mesh\" in k]"
   ]
  },
  {
   "cell_type": "code",
   "execution_count": null,
   "metadata": {},
   "outputs": [],
   "source": [
    "nru.find_parent_child_skeleton_angle(filt_neuron[2],68,\n",
    "                                     comparison_distance=5000,\n",
    "                                     offset=0,\n",
    "                                    plot_extracted_skeletons=True)"
   ]
  },
  {
   "cell_type": "code",
   "execution_count": null,
   "metadata": {},
   "outputs": [],
   "source": [
    "nru.upstream_node(filt_neuron[2],68)"
   ]
  },
  {
   "cell_type": "code",
   "execution_count": null,
   "metadata": {},
   "outputs": [],
   "source": [
    "nviz.plot_limb_path(filt_neuron[2],[68])"
   ]
  },
  {
   "cell_type": "code",
   "execution_count": null,
   "metadata": {},
   "outputs": [],
   "source": [
    "nviz.visualize_neuron_specific_limb(filt_neuron,\n",
    "                                   filt_neuron.axon_limb_idx)"
   ]
  },
  {
   "cell_type": "code",
   "execution_count": null,
   "metadata": {},
   "outputs": [],
   "source": [
    "minnie.AutoProofreadStats5()"
   ]
  },
  {
   "cell_type": "code",
   "execution_count": null,
   "metadata": {},
   "outputs": [],
   "source": [
    "du.plot_proofread_neuron(864691135517422218,\n",
    "                         plot_proofreading_synapses=True,\n",
    "                        plot_errored_faces=True)"
   ]
  },
  {
   "cell_type": "code",
   "execution_count": null,
   "metadata": {},
   "outputs": [],
   "source": []
  },
  {
   "cell_type": "markdown",
   "metadata": {},
   "source": [
    "# Checking the long Axons"
   ]
  },
  {
   "cell_type": "code",
   "execution_count": null,
   "metadata": {},
   "outputs": [],
   "source": [
    "du.proofreading_neurons_table() & \"axon_length>2000\" & \"spine_category='densely_spined'\""
   ]
  },
  {
   "cell_type": "code",
   "execution_count": null,
   "metadata": {},
   "outputs": [],
   "source": [
    "du.plot_proofread_neuron(864691134917429770,\n",
    "                        plot_proofreading_synapses=True)"
   ]
  },
  {
   "cell_type": "code",
   "execution_count": null,
   "metadata": {},
   "outputs": [],
   "source": [
    "import ipyvolume as ipv\n",
    "ipv.gcf()"
   ]
  },
  {
   "cell_type": "code",
   "execution_count": null,
   "metadata": {},
   "outputs": [],
   "source": [
    "ipv.pylab.save(\"864691134917429770_proof_v5.html\")"
   ]
  },
  {
   "cell_type": "code",
   "execution_count": null,
   "metadata": {},
   "outputs": [],
   "source": [
    "du.plot_proofread_mesh_skeleton(864691134917429770)"
   ]
  },
  {
   "cell_type": "code",
   "execution_count": null,
   "metadata": {},
   "outputs": [],
   "source": [
    "minnie,_ = du.configure_minnie_vm()\n",
    "from importlib import reload\n",
    "du = reload(du)"
   ]
  },
  {
   "cell_type": "code",
   "execution_count": null,
   "metadata": {},
   "outputs": [],
   "source": []
  },
  {
   "cell_type": "code",
   "execution_count": null,
   "metadata": {},
   "outputs": [],
   "source": []
  },
  {
   "cell_type": "code",
   "execution_count": null,
   "metadata": {},
   "outputs": [],
   "source": []
  },
  {
   "cell_type": "code",
   "execution_count": null,
   "metadata": {},
   "outputs": [],
   "source": []
  }
 ],
 "metadata": {
  "kernelspec": {
   "display_name": "Python 3",
   "language": "python",
   "name": "python3"
  },
  "language_info": {
   "codemirror_mode": {
    "name": "ipython",
    "version": 3
   },
   "file_extension": ".py",
   "mimetype": "text/x-python",
   "name": "python",
   "nbconvert_exporter": "python",
   "pygments_lexer": "ipython3",
   "version": "3.6.9"
  }
 },
 "nbformat": 4,
 "nbformat_minor": 4
}
