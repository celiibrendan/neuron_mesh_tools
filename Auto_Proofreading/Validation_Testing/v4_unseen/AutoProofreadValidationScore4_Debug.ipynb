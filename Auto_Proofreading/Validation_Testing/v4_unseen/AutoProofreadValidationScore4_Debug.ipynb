{
 "cells": [
  {
   "cell_type": "code",
   "execution_count": null,
   "metadata": {},
   "outputs": [],
   "source": [
    "\"\"\"\n",
    "Purpose: To figure out why \n",
    "\"\"\""
   ]
  },
  {
   "cell_type": "code",
   "execution_count": 1,
   "metadata": {},
   "outputs": [],
   "source": [
    "%load_ext autoreload\n",
    "%autoreload 2"
   ]
  },
  {
   "cell_type": "code",
   "execution_count": 2,
   "metadata": {},
   "outputs": [
    {
     "name": "stderr",
     "output_type": "stream",
     "text": [
      "INFO - 2021-05-26 00:23:00,720 - settings - Setting database.host to at-database.ad.bcm.edu\n",
      "INFO - 2021-05-26 00:23:00,723 - settings - Setting database.user to celiib\n",
      "INFO - 2021-05-26 00:23:00,724 - settings - Setting database.password to newceliipass\n",
      "INFO - 2021-05-26 00:23:00,728 - settings - Setting stores to {'minnie65': {'protocol': 'file', 'location': '/mnt/dj-stor01/platinum/minnie65', 'stage': '/mnt/dj-stor01/platinum/minnie65'}, 'meshes': {'protocol': 'file', 'location': '/mnt/dj-stor01/platinum/minnie65/02/meshes', 'stage': '/mnt/dj-stor01/platinum/minnie65/02/meshes'}, 'decimated_meshes': {'protocol': 'file', 'location': '/mnt/dj-stor01/platinum/minnie65/02/decimated_meshes', 'stage': '/mnt/dj-stor01/platinum/minnie65/02/decimated_meshes'}, 'skeletons': {'protocol': 'file', 'location': '/mnt/dj-stor01/platinum/minnie65/02/skeletons'}}\n",
      "INFO - 2021-05-26 00:23:00,729 - settings - Setting enable_python_native_blobs to True\n",
      "INFO - 2021-05-26 00:23:00,745 - connection - Connected celiib@at-database.ad.bcm.edu:3306\n"
     ]
    },
    {
     "name": "stdout",
     "output_type": "stream",
     "text": [
      "Connecting celiib@at-database.ad.bcm.edu:3306\n"
     ]
    },
    {
     "name": "stderr",
     "output_type": "stream",
     "text": [
      "INFO - 2021-05-26 00:23:01,242 - settings - Setting enable_python_native_blobs to True\n",
      "INFO - 2021-05-26 00:23:01,246 - settings - Setting database.host to at-database.ad.bcm.edu\n",
      "INFO - 2021-05-26 00:23:01,247 - settings - Setting database.user to celiib\n",
      "INFO - 2021-05-26 00:23:01,248 - settings - Setting database.password to newceliipass\n",
      "INFO - 2021-05-26 00:23:01,249 - settings - Setting database.host to at-database.ad.bcm.edu\n",
      "INFO - 2021-05-26 00:23:01,249 - settings - Setting database.user to celiib\n",
      "INFO - 2021-05-26 00:23:01,250 - settings - Setting database.password to newceliipass\n",
      "INFO - 2021-05-26 00:23:01,253 - settings - Setting enable_python_native_blobs to True\n",
      "INFO - 2021-05-26 00:23:01,776 - settings - Setting enable_python_native_blobs to True\n"
     ]
    }
   ],
   "source": [
    "import numpy as np\n",
    "import datajoint as dj\n",
    "import trimesh\n",
    "from tqdm.notebook import tqdm\n",
    "from pathlib import Path\n",
    "\n",
    "from os import sys\n",
    "sys.path.append(\"/meshAfterParty/\")\n",
    "sys.path.append(\"/meshAfterParty/meshAfterParty\")\n",
    "\n",
    "import datajoint_utils as du\n",
    "from importlib import reload\n"
   ]
  },
  {
   "cell_type": "code",
   "execution_count": 3,
   "metadata": {},
   "outputs": [
    {
     "name": "stderr",
     "output_type": "stream",
     "text": [
      "INFO - 2021-05-26 00:23:03,605 - settings - Setting database.host to at-database.ad.bcm.edu\n",
      "INFO - 2021-05-26 00:23:03,607 - settings - Setting database.user to celiib\n",
      "INFO - 2021-05-26 00:23:03,608 - settings - Setting database.password to newceliipass\n",
      "INFO - 2021-05-26 00:23:03,612 - settings - Setting enable_python_native_blobs to True\n",
      "INFO - 2021-05-26 00:23:04,188 - settings - Setting enable_python_native_blobs to True\n"
     ]
    }
   ],
   "source": [
    "minnie,schema = du.configure_minnie_vm()"
   ]
  },
  {
   "cell_type": "markdown",
   "metadata": {},
   "source": [
    "# Finding the Jobs that Errored"
   ]
  },
  {
   "cell_type": "code",
   "execution_count": 4,
   "metadata": {},
   "outputs": [
    {
     "data": {
      "text/html": [
       "\n",
       "        \n",
       "        <style type=\"text/css\">\n",
       "            .Relation{\n",
       "                border-collapse:collapse;\n",
       "            }\n",
       "            .Relation th{\n",
       "                background: #A0A0A0; color: #ffffff; padding:4px; border:#f0e0e0 1px solid;\n",
       "                font-weight: normal; font-family: monospace; font-size: 100%;\n",
       "            }\n",
       "            .Relation td{\n",
       "                padding:4px; border:#f0e0e0 1px solid; font-size:100%;\n",
       "            }\n",
       "            .Relation tr:nth-child(odd){\n",
       "                background: #ffffff;\n",
       "            }\n",
       "            .Relation tr:nth-child(even){\n",
       "                background: #f3f1ff;\n",
       "            }\n",
       "            /* Tooltip container */\n",
       "            .djtooltip {\n",
       "            }\n",
       "            /* Tooltip text */\n",
       "            .djtooltip .djtooltiptext {\n",
       "                visibility: hidden;\n",
       "                width: 120px;\n",
       "                background-color: black;\n",
       "                color: #fff;\n",
       "                text-align: center;\n",
       "                padding: 5px 0;\n",
       "                border-radius: 6px;\n",
       "                /* Position the tooltip text - see examples below! */\n",
       "                position: absolute;\n",
       "                z-index: 1;\n",
       "            }\n",
       "            #primary {\n",
       "                font-weight: bold;\n",
       "                color: black;\n",
       "            }\n",
       "\n",
       "            #nonprimary {\n",
       "                font-weight: normal;\n",
       "                color: white;\n",
       "            }\n",
       "\n",
       "            /* Show the tooltip text when you mouse over the tooltip container */\n",
       "            .djtooltip:hover .djtooltiptext {\n",
       "                visibility: visible;\n",
       "            }\n",
       "        </style>\n",
       "        \n",
       "        <b>job reservation table for `microns_minnie65_02`</b>\n",
       "            <div style=\"max-height:1000px;max-width:1500px;overflow:auto;\">\n",
       "            <table border=\"1\" class=\"Relation\">\n",
       "                <thead> <tr style=\"text-align: right;\"> <th> <div class=\"djtooltip\">\n",
       "                                <p id=\"primary\">table_name</p>\n",
       "                                <span class=\"djtooltiptext\">className of the table</span>\n",
       "                            </div></th><th><div class=\"djtooltip\">\n",
       "                                <p id=\"primary\">key_hash</p>\n",
       "                                <span class=\"djtooltiptext\">key hash</span>\n",
       "                            </div></th><th><div class=\"djtooltip\">\n",
       "                                <p id=\"nonprimary\">status</p>\n",
       "                                <span class=\"djtooltiptext\">if tuple is missing, the job is available</span>\n",
       "                            </div></th><th><div class=\"djtooltip\">\n",
       "                                <p id=\"nonprimary\">key</p>\n",
       "                                <span class=\"djtooltiptext\">structure containing the key</span>\n",
       "                            </div></th><th><div class=\"djtooltip\">\n",
       "                                <p id=\"nonprimary\">error_message</p>\n",
       "                                <span class=\"djtooltiptext\">error message returned if failed</span>\n",
       "                            </div></th><th><div class=\"djtooltip\">\n",
       "                                <p id=\"nonprimary\">error_stack</p>\n",
       "                                <span class=\"djtooltiptext\">error stack if failed</span>\n",
       "                            </div></th><th><div class=\"djtooltip\">\n",
       "                                <p id=\"nonprimary\">user</p>\n",
       "                                <span class=\"djtooltiptext\">database user</span>\n",
       "                            </div></th><th><div class=\"djtooltip\">\n",
       "                                <p id=\"nonprimary\">host</p>\n",
       "                                <span class=\"djtooltiptext\">system hostname</span>\n",
       "                            </div></th><th><div class=\"djtooltip\">\n",
       "                                <p id=\"nonprimary\">pid</p>\n",
       "                                <span class=\"djtooltiptext\">system process id</span>\n",
       "                            </div></th><th><div class=\"djtooltip\">\n",
       "                                <p id=\"nonprimary\">connection_id</p>\n",
       "                                <span class=\"djtooltiptext\">connection_id()</span>\n",
       "                            </div></th><th><div class=\"djtooltip\">\n",
       "                                <p id=\"nonprimary\">timestamp</p>\n",
       "                                <span class=\"djtooltiptext\">automatic timestamp</span>\n",
       "                            </div> </th> </tr> </thead>\n",
       "                <tbody> <tr> <td>__auto_proofread_validation_score4</td>\n",
       "<td>1b3092a5085d29d975a3d278ccb49349</td>\n",
       "<td>error</td>\n",
       "<td>=BLOB=</td>\n",
       "<td>KeyError: 'synapse_id'</td>\n",
       "<td>=BLOB=</td>\n",
       "<td>celiib@10.28.0.171</td>\n",
       "<td>at-node44</td>\n",
       "<td>1</td>\n",
       "<td>458408</td>\n",
       "<td>2021-05-25 14:42:01</td></tr><tr><td>__auto_proofread_validation_score4</td>\n",
       "<td>2c18a09d3faf8e9ea3634dc3a0f173b6</td>\n",
       "<td>error</td>\n",
       "<td>=BLOB=</td>\n",
       "<td>Exception: min_dist (54910.81763562633) larger than nuclei_distance_threshold (15000)</td>\n",
       "<td>=BLOB=</td>\n",
       "<td>celiib@10.28.0.158</td>\n",
       "<td>at-node31</td>\n",
       "<td>1</td>\n",
       "<td>458384</td>\n",
       "<td>2021-05-25 14:27:12</td></tr><tr><td>__auto_proofread_validation_score4</td>\n",
       "<td>40a99bace81e99ae6d791efba1a4c8a1</td>\n",
       "<td>error</td>\n",
       "<td>=BLOB=</td>\n",
       "<td>KeyError: 'synapse_id'</td>\n",
       "<td>=BLOB=</td>\n",
       "<td>celiib@10.28.0.83</td>\n",
       "<td>at-compute004</td>\n",
       "<td>178484</td>\n",
       "<td>458517</td>\n",
       "<td>2021-05-25 14:54:03</td></tr><tr><td>__auto_proofread_validation_score4</td>\n",
       "<td>5db4edd72a93f64d8324510579dd4d3f</td>\n",
       "<td>error</td>\n",
       "<td>=BLOB=</td>\n",
       "<td>KeyError: 'synapse_id'</td>\n",
       "<td>=BLOB=</td>\n",
       "<td>celiib@10.28.0.145</td>\n",
       "<td>at-node18</td>\n",
       "<td>1</td>\n",
       "<td>458415</td>\n",
       "<td>2021-05-25 14:34:31</td></tr><tr><td>__auto_proofread_validation_score4</td>\n",
       "<td>68b7ec4205a75f6cbadd2757f884f451</td>\n",
       "<td>error</td>\n",
       "<td>=BLOB=</td>\n",
       "<td>KeyError: 'synapse_id'</td>\n",
       "<td>=BLOB=</td>\n",
       "<td>celiib@10.28.0.161</td>\n",
       "<td>at-node34</td>\n",
       "<td>1</td>\n",
       "<td>458383</td>\n",
       "<td>2021-05-25 14:38:32</td></tr><tr><td>__auto_proofread_validation_score4</td>\n",
       "<td>82f80606a7e35ce86abe6e15c9433611</td>\n",
       "<td>error</td>\n",
       "<td>=BLOB=</td>\n",
       "<td>KeyError: 'synapse_id'</td>\n",
       "<td>=BLOB=</td>\n",
       "<td>celiib@10.28.0.153</td>\n",
       "<td>at-node26</td>\n",
       "<td>1</td>\n",
       "<td>458423</td>\n",
       "<td>2021-05-25 14:35:59</td></tr><tr><td>__auto_proofread_validation_score4</td>\n",
       "<td>8b75e7e31cc1bff3885d635992976843</td>\n",
       "<td>error</td>\n",
       "<td>=BLOB=</td>\n",
       "<td>KeyError: 'synapse_id'</td>\n",
       "<td>=BLOB=</td>\n",
       "<td>celiib@10.28.0.133</td>\n",
       "<td>at-node6</td>\n",
       "<td>1</td>\n",
       "<td>458414</td>\n",
       "<td>2021-05-25 14:38:46</td></tr><tr><td>__auto_proofread_validation_score4</td>\n",
       "<td>9e77fcc57380988689907f4df10f18e4</td>\n",
       "<td>error</td>\n",
       "<td>=BLOB=</td>\n",
       "<td>TypeError: list indices must be integers or slices, not tuple</td>\n",
       "<td>=BLOB=</td>\n",
       "<td>celiib@10.28.0.175</td>\n",
       "<td>at-node48</td>\n",
       "<td>1</td>\n",
       "<td>458377</td>\n",
       "<td>2021-05-25 14:38:57</td></tr><tr><td>__auto_proofread_validation_score4</td>\n",
       "<td>bb32b23823ba2c90209be561a4f5f6a5</td>\n",
       "<td>error</td>\n",
       "<td>=BLOB=</td>\n",
       "<td>Exception: min_dist (41289.702023132195) larger than nuclei_distance_threshold (15000)</td>\n",
       "<td>=BLOB=</td>\n",
       "<td>celiib@10.28.0.148</td>\n",
       "<td>at-node21</td>\n",
       "<td>1</td>\n",
       "<td>458375</td>\n",
       "<td>2021-05-25 14:34:50</td></tr><tr><td>__auto_proofread_validation_score4</td>\n",
       "<td>d9c0c0615c5ac25b3402b5268c1a3443</td>\n",
       "<td>error</td>\n",
       "<td>=BLOB=</td>\n",
       "<td>KeyError: 'synapse_id'</td>\n",
       "<td>=BLOB=</td>\n",
       "<td>celiib@10.28.0.156</td>\n",
       "<td>at-node29</td>\n",
       "<td>1</td>\n",
       "<td>458405</td>\n",
       "<td>2021-05-25 14:35:38</td></tr><tr><td>__auto_proofread_validation_score4</td>\n",
       "<td>da5242461336f58fc0df576cbead8aca</td>\n",
       "<td>error</td>\n",
       "<td>=BLOB=</td>\n",
       "<td>KeyError: 'synapse_id'</td>\n",
       "<td>=BLOB=</td>\n",
       "<td>celiib@10.28.0.177</td>\n",
       "<td>at-node50</td>\n",
       "<td>1</td>\n",
       "<td>458371</td>\n",
       "<td>2021-05-25 14:32:02</td></tr><tr><td>__auto_proofread_validation_score4</td>\n",
       "<td>eadf2253e8359742c70f717a39776a77</td>\n",
       "<td>error</td>\n",
       "<td>=BLOB=</td>\n",
       "<td>KeyError: 'synapse_id'</td>\n",
       "<td>=BLOB=</td>\n",
       "<td>celiib@10.28.0.168</td>\n",
       "<td>at-node41</td>\n",
       "<td>1</td>\n",
       "<td>458404</td>\n",
       "<td>2021-05-25 14:30:17</td> </tr> </tbody>\n",
       "            </table>\n",
       "            <p>...</p>\n",
       "            <p>Total: 14</p></div>\n",
       "            "
      ],
      "text/plain": [
       "*table_name    *key_hash      status     key        error_message  error_stac user           host           pid        connection_id  timestamp     \n",
       "+------------+ +------------+ +--------+ +--------+ +------------+ +--------+ +------------+ +------------+ +--------+ +------------+ +------------+\n",
       "__auto_proofre 1b3092a5085d29 error      =BLOB=     KeyError: 'syn =BLOB=     celiib@10.28.0 at-node44      1          458408         2021-05-25 14:\n",
       "__auto_proofre 2c18a09d3faf8e error      =BLOB=     Exception: min =BLOB=     celiib@10.28.0 at-node31      1          458384         2021-05-25 14:\n",
       "__auto_proofre 40a99bace81e99 error      =BLOB=     KeyError: 'syn =BLOB=     celiib@10.28.0 at-compute004  178484     458517         2021-05-25 14:\n",
       "__auto_proofre 5db4edd72a93f6 error      =BLOB=     KeyError: 'syn =BLOB=     celiib@10.28.0 at-node18      1          458415         2021-05-25 14:\n",
       "__auto_proofre 68b7ec4205a75f error      =BLOB=     KeyError: 'syn =BLOB=     celiib@10.28.0 at-node34      1          458383         2021-05-25 14:\n",
       "__auto_proofre 82f80606a7e35c error      =BLOB=     KeyError: 'syn =BLOB=     celiib@10.28.0 at-node26      1          458423         2021-05-25 14:\n",
       "__auto_proofre 8b75e7e31cc1bf error      =BLOB=     KeyError: 'syn =BLOB=     celiib@10.28.0 at-node6       1          458414         2021-05-25 14:\n",
       "__auto_proofre 9e77fcc5738098 error      =BLOB=     TypeError: lis =BLOB=     celiib@10.28.0 at-node48      1          458377         2021-05-25 14:\n",
       "__auto_proofre bb32b23823ba2c error      =BLOB=     Exception: min =BLOB=     celiib@10.28.0 at-node21      1          458375         2021-05-25 14:\n",
       "__auto_proofre d9c0c0615c5ac2 error      =BLOB=     KeyError: 'syn =BLOB=     celiib@10.28.0 at-node29      1          458405         2021-05-25 14:\n",
       "__auto_proofre da5242461336f5 error      =BLOB=     KeyError: 'syn =BLOB=     celiib@10.28.0 at-node50      1          458371         2021-05-25 14:\n",
       "__auto_proofre eadf2253e83597 error      =BLOB=     KeyError: 'syn =BLOB=     celiib@10.28.0 at-node41      1          458404         2021-05-25 14:\n",
       "   ...\n",
       " (Total: 14)"
      ]
     },
     "execution_count": 4,
     "metadata": {},
     "output_type": "execute_result"
    }
   ],
   "source": [
    "curr_table = (minnie.schema.jobs & \"table_name='__auto_proofread_validation_score4'\")\n",
    "(curr_table)#.delete()"
   ]
  },
  {
   "cell_type": "code",
   "execution_count": 99,
   "metadata": {},
   "outputs": [
    {
     "data": {
      "text/plain": [
       "864691136664412413"
      ]
     },
     "execution_count": 99,
     "metadata": {},
     "output_type": "execute_result"
    }
   ],
   "source": [
    "neuron_obj_s.segment_id"
   ]
  },
  {
   "cell_type": "code",
   "execution_count": 103,
   "metadata": {},
   "outputs": [
    {
     "data": {
      "text/plain": [
       "864691136664412413"
      ]
     },
     "execution_count": 103,
     "metadata": {},
     "output_type": "execute_result"
    }
   ],
   "source": [
    "vu.new_to_old_segment_id(864691135367284729)"
   ]
  },
  {
   "cell_type": "code",
   "execution_count": 112,
   "metadata": {},
   "outputs": [
    {
     "name": "stdout",
     "output_type": "stream",
     "text": [
      "Found 2 matching entries with substring Exception\n"
     ]
    },
    {
     "data": {
      "text/plain": [
       "[864691135367284729, 864691135415710906]"
      ]
     },
     "execution_count": 112,
     "metadata": {},
     "output_type": "execute_result"
    }
   ],
   "source": [
    "errored_segs = [k[\"segment_id\"] for k in du.restrict_jobs_table_by_error_substring(curr_table,\"Exception\").fetch(\"key\")]\n",
    "errored_segs"
   ]
  },
  {
   "cell_type": "code",
   "execution_count": null,
   "metadata": {},
   "outputs": [],
   "source": [
    "[864691136227020113 864691135367284729, 864691135415710906]"
   ]
  },
  {
   "cell_type": "code",
   "execution_count": null,
   "metadata": {},
   "outputs": [],
   "source": []
  },
  {
   "cell_type": "code",
   "execution_count": 13,
   "metadata": {},
   "outputs": [
    {
     "data": {
      "text/html": [
       "\n",
       "        \n",
       "        <style type=\"text/css\">\n",
       "            .Relation{\n",
       "                border-collapse:collapse;\n",
       "            }\n",
       "            .Relation th{\n",
       "                background: #A0A0A0; color: #ffffff; padding:4px; border:#f0e0e0 1px solid;\n",
       "                font-weight: normal; font-family: monospace; font-size: 100%;\n",
       "            }\n",
       "            .Relation td{\n",
       "                padding:4px; border:#f0e0e0 1px solid; font-size:100%;\n",
       "            }\n",
       "            .Relation tr:nth-child(odd){\n",
       "                background: #ffffff;\n",
       "            }\n",
       "            .Relation tr:nth-child(even){\n",
       "                background: #f3f1ff;\n",
       "            }\n",
       "            /* Tooltip container */\n",
       "            .djtooltip {\n",
       "            }\n",
       "            /* Tooltip text */\n",
       "            .djtooltip .djtooltiptext {\n",
       "                visibility: hidden;\n",
       "                width: 120px;\n",
       "                background-color: black;\n",
       "                color: #fff;\n",
       "                text-align: center;\n",
       "                padding: 5px 0;\n",
       "                border-radius: 6px;\n",
       "                /* Position the tooltip text - see examples below! */\n",
       "                position: absolute;\n",
       "                z-index: 1;\n",
       "            }\n",
       "            #primary {\n",
       "                font-weight: bold;\n",
       "                color: black;\n",
       "            }\n",
       "\n",
       "            #nonprimary {\n",
       "                font-weight: normal;\n",
       "                color: white;\n",
       "            }\n",
       "\n",
       "            /* Show the tooltip text when you mouse over the tooltip container */\n",
       "            .djtooltip:hover .djtooltiptext {\n",
       "                visibility: visible;\n",
       "            }\n",
       "        </style>\n",
       "        \n",
       "        <b></b>\n",
       "            <div style=\"max-height:1000px;max-width:1500px;overflow:auto;\">\n",
       "            <table border=\"1\" class=\"Relation\">\n",
       "                <thead> <tr style=\"text-align: right;\"> <th> <div class=\"djtooltip\">\n",
       "                                <p id=\"primary\">ver</p>\n",
       "                                <span class=\"djtooltiptext\">materialization version</span>\n",
       "                            </div></th><th><div class=\"djtooltip\">\n",
       "                                <p id=\"primary\">nucleus_id</p>\n",
       "                                <span class=\"djtooltiptext\">nucleus id</span>\n",
       "                            </div></th><th><div class=\"djtooltip\">\n",
       "                                <p id=\"primary\">segment_id</p>\n",
       "                                <span class=\"djtooltiptext\">the segment id in the proofread version</span>\n",
       "                            </div></th><th><div class=\"djtooltip\">\n",
       "                                <p id=\"primary\">old_ver</p>\n",
       "                                <span class=\"djtooltiptext\">materialization version</span>\n",
       "                            </div></th><th><div class=\"djtooltip\">\n",
       "                                <p id=\"nonprimary\">old_segment_id</p>\n",
       "                                <span class=\"djtooltiptext\">the segment id in the proofread version--</span>\n",
       "                            </div></th><th><div class=\"djtooltip\">\n",
       "                                <p id=\"nonprimary\">finished_dendrite</p>\n",
       "                                <span class=\"djtooltiptext\">whether axon was finished cleaning</span>\n",
       "                            </div></th><th><div class=\"djtooltip\">\n",
       "                                <p id=\"nonprimary\">finished_axon</p>\n",
       "                                <span class=\"djtooltiptext\">whether axon was finished cleaning</span>\n",
       "                            </div></th><th><div class=\"djtooltip\">\n",
       "                                <p id=\"nonprimary\">extension_type</p>\n",
       "                                <span class=\"djtooltiptext\"></span>\n",
       "                            </div></th><th><div class=\"djtooltip\">\n",
       "                                <p id=\"nonprimary\">n_somas</p>\n",
       "                                <span class=\"djtooltiptext\"></span>\n",
       "                            </div></th><th><div class=\"djtooltip\">\n",
       "                                <p id=\"nonprimary\">n_soma_mergers</p>\n",
       "                                <span class=\"djtooltiptext\"></span>\n",
       "                            </div></th><th><div class=\"djtooltip\">\n",
       "                                <p id=\"nonprimary\">n_glia</p>\n",
       "                                <span class=\"djtooltiptext\"></span>\n",
       "                            </div></th><th><div class=\"djtooltip\">\n",
       "                                <p id=\"nonprimary\">large_splits</p>\n",
       "                                <span class=\"djtooltiptext\"></span>\n",
       "                            </div></th><th><div class=\"djtooltip\">\n",
       "                                <p id=\"nonprimary\">notes</p>\n",
       "                                <span class=\"djtooltiptext\"></span>\n",
       "                            </div> </th> </tr> </thead>\n",
       "                <tbody> <tr> <td>88.00</td>\n",
       "<td>582471</td>\n",
       "<td>864691136388458871</td>\n",
       "<td>0.08</td>\n",
       "<td>864691136811795059</td>\n",
       "<td>True</td>\n",
       "<td>True</td>\n",
       "<td>partial</td>\n",
       "<td>1</td>\n",
       "<td>0</td>\n",
       "<td>0</td>\n",
       "<td>0</td>\n",
       "<td></td> </tr> </tbody>\n",
       "            </table>\n",
       "            \n",
       "            <p>Total: 1</p></div>\n",
       "            "
      ],
      "text/plain": [
       "*ver      *nucleus_id    *segment_id    *old_ver    old_segment_id finished_dendr finished_axon  extension_type n_somas     n_soma_mergers n_glia     large_splits   notes    \n",
       "+-------+ +------------+ +------------+ +---------+ +------------+ +------------+ +------------+ +------------+ +---------+ +------------+ +--------+ +------------+ +-------+\n",
       "88.00     582471         86469113638845 0.08        86469113681179 True           True           partial        1           0              0          0                       \n",
       " (Total: 1)"
      ]
     },
     "execution_count": 13,
     "metadata": {},
     "output_type": "execute_result"
    }
   ],
   "source": [
    "(minnie.AutoProofreadValidationSegmentMap4() \n",
    "    & dict(segment_id=864691136388458871))"
   ]
  },
  {
   "cell_type": "code",
   "execution_count": 22,
   "metadata": {},
   "outputs": [
    {
     "data": {
      "text/html": [
       "\n",
       "        \n",
       "        <style type=\"text/css\">\n",
       "            .Relation{\n",
       "                border-collapse:collapse;\n",
       "            }\n",
       "            .Relation th{\n",
       "                background: #A0A0A0; color: #ffffff; padding:4px; border:#f0e0e0 1px solid;\n",
       "                font-weight: normal; font-family: monospace; font-size: 100%;\n",
       "            }\n",
       "            .Relation td{\n",
       "                padding:4px; border:#f0e0e0 1px solid; font-size:100%;\n",
       "            }\n",
       "            .Relation tr:nth-child(odd){\n",
       "                background: #ffffff;\n",
       "            }\n",
       "            .Relation tr:nth-child(even){\n",
       "                background: #f3f1ff;\n",
       "            }\n",
       "            /* Tooltip container */\n",
       "            .djtooltip {\n",
       "            }\n",
       "            /* Tooltip text */\n",
       "            .djtooltip .djtooltiptext {\n",
       "                visibility: hidden;\n",
       "                width: 120px;\n",
       "                background-color: black;\n",
       "                color: #fff;\n",
       "                text-align: center;\n",
       "                padding: 5px 0;\n",
       "                border-radius: 6px;\n",
       "                /* Position the tooltip text - see examples below! */\n",
       "                position: absolute;\n",
       "                z-index: 1;\n",
       "            }\n",
       "            #primary {\n",
       "                font-weight: bold;\n",
       "                color: black;\n",
       "            }\n",
       "\n",
       "            #nonprimary {\n",
       "                font-weight: normal;\n",
       "                color: white;\n",
       "            }\n",
       "\n",
       "            /* Show the tooltip text when you mouse over the tooltip container */\n",
       "            .djtooltip:hover .djtooltiptext {\n",
       "                visibility: visible;\n",
       "            }\n",
       "        </style>\n",
       "        \n",
       "        <b></b>\n",
       "            <div style=\"max-height:1000px;max-width:1500px;overflow:auto;\">\n",
       "            <table border=\"1\" class=\"Relation\">\n",
       "                <thead> <tr style=\"text-align: right;\"> <th> <div class=\"djtooltip\">\n",
       "                                <p id=\"primary\">ver</p>\n",
       "                                <span class=\"djtooltiptext\">materialization version</span>\n",
       "                            </div></th><th><div class=\"djtooltip\">\n",
       "                                <p id=\"primary\">nucleus_id</p>\n",
       "                                <span class=\"djtooltiptext\">nucleus id</span>\n",
       "                            </div></th><th><div class=\"djtooltip\">\n",
       "                                <p id=\"primary\">segment_id</p>\n",
       "                                <span class=\"djtooltiptext\">the segment id in the proofread version</span>\n",
       "                            </div></th><th><div class=\"djtooltip\">\n",
       "                                <p id=\"primary\">old_ver</p>\n",
       "                                <span class=\"djtooltiptext\">materialization version</span>\n",
       "                            </div></th><th><div class=\"djtooltip\">\n",
       "                                <p id=\"nonprimary\">old_segment_id</p>\n",
       "                                <span class=\"djtooltiptext\">the segment id in the proofread version--</span>\n",
       "                            </div></th><th><div class=\"djtooltip\">\n",
       "                                <p id=\"nonprimary\">finished_dendrite</p>\n",
       "                                <span class=\"djtooltiptext\">whether axon was finished cleaning</span>\n",
       "                            </div></th><th><div class=\"djtooltip\">\n",
       "                                <p id=\"nonprimary\">finished_axon</p>\n",
       "                                <span class=\"djtooltiptext\">whether axon was finished cleaning</span>\n",
       "                            </div></th><th><div class=\"djtooltip\">\n",
       "                                <p id=\"nonprimary\">extension_type</p>\n",
       "                                <span class=\"djtooltiptext\"></span>\n",
       "                            </div></th><th><div class=\"djtooltip\">\n",
       "                                <p id=\"nonprimary\">n_somas</p>\n",
       "                                <span class=\"djtooltiptext\"></span>\n",
       "                            </div></th><th><div class=\"djtooltip\">\n",
       "                                <p id=\"nonprimary\">n_soma_mergers</p>\n",
       "                                <span class=\"djtooltiptext\"></span>\n",
       "                            </div></th><th><div class=\"djtooltip\">\n",
       "                                <p id=\"nonprimary\">n_glia</p>\n",
       "                                <span class=\"djtooltiptext\"></span>\n",
       "                            </div></th><th><div class=\"djtooltip\">\n",
       "                                <p id=\"nonprimary\">large_splits</p>\n",
       "                                <span class=\"djtooltiptext\"></span>\n",
       "                            </div></th><th><div class=\"djtooltip\">\n",
       "                                <p id=\"nonprimary\">notes</p>\n",
       "                                <span class=\"djtooltiptext\"></span>\n",
       "                            </div> </th> </tr> </thead>\n",
       "                <tbody> <tr> <td>88.00</td>\n",
       "<td>518004</td>\n",
       "<td>864691135873703054</td>\n",
       "<td>0.08</td>\n",
       "<td>864691135961392330</td>\n",
       "<td>True</td>\n",
       "<td>True</td>\n",
       "<td>partial</td>\n",
       "<td>1</td>\n",
       "<td>0</td>\n",
       "<td>0</td>\n",
       "<td>0</td>\n",
       "<td></td> </tr> </tbody>\n",
       "            </table>\n",
       "            \n",
       "            <p>Total: 1</p></div>\n",
       "            "
      ],
      "text/plain": [
       "*ver      *nucleus_id    *segment_id    *old_ver    old_segment_id finished_dendr finished_axon  extension_type n_somas     n_soma_mergers n_glia     large_splits   notes    \n",
       "+-------+ +------------+ +------------+ +---------+ +------------+ +------------+ +------------+ +------------+ +---------+ +------------+ +--------+ +------------+ +-------+\n",
       "88.00     518004         86469113587370 0.08        86469113596139 True           True           partial        1           0              0          0                       \n",
       " (Total: 1)"
      ]
     },
     "execution_count": 22,
     "metadata": {},
     "output_type": "execute_result"
    }
   ],
   "source": [
    "minnie.AutoProofreadValidationSegmentMap4() & \"old_segment_id = 864691135961392330\""
   ]
  },
  {
   "cell_type": "code",
   "execution_count": 23,
   "metadata": {},
   "outputs": [
    {
     "name": "stdout",
     "output_type": "stream",
     "text": [
      "# of end nodes = 16\n",
      "last_datetime_edited = 2021-01-20 21:53:09.943000\n",
      "# of presyn = 99, # of postsyn = 4306\n",
      "Total synapses BEFORE filtering = 4405\n",
      "Total synapses AFTER filtering = 4385\n",
      "4302 out of 4385 were within threshold of original mesh\n"
     ]
    },
    {
     "name": "stderr",
     "output_type": "stream",
     "text": [
      "/meshAfterParty/meshAfterParty/validation_utils.py:2470: SettingWithCopyWarning: \n",
      "A value is trying to be set on a copy of a slice from a DataFrame.\n",
      "Try using .loc[row_indexer,col_indexer] = value instead\n",
      "\n",
      "See the caveats in the documentation: https://pandas.pydata.org/pandas-docs/stable/user_guide/indexing.html#returning-a-view-versus-a-copy\n",
      "  syn_match[\"synapse_x\"] = np.array(list(syn_match[\"ctr_pt_position\"].to_numpy()))[:,0]\n",
      "/meshAfterParty/meshAfterParty/validation_utils.py:2471: SettingWithCopyWarning: \n",
      "A value is trying to be set on a copy of a slice from a DataFrame.\n",
      "Try using .loc[row_indexer,col_indexer] = value instead\n",
      "\n",
      "See the caveats in the documentation: https://pandas.pydata.org/pandas-docs/stable/user_guide/indexing.html#returning-a-view-versus-a-copy\n",
      "  syn_match[\"synapse_y\"] = np.array(list(syn_match[\"ctr_pt_position\"].to_numpy()))[:,1]\n",
      "/meshAfterParty/meshAfterParty/validation_utils.py:2472: SettingWithCopyWarning: \n",
      "A value is trying to be set on a copy of a slice from a DataFrame.\n",
      "Try using .loc[row_indexer,col_indexer] = value instead\n",
      "\n",
      "See the caveats in the documentation: https://pandas.pydata.org/pandas-docs/stable/user_guide/indexing.html#returning-a-view-versus-a-copy\n",
      "  syn_match[\"synapse_z\"] = np.array(list(syn_match[\"ctr_pt_position\"].to_numpy()))[:,2]\n"
     ]
    }
   ],
   "source": [
    "vu.old_segment_id_validation_synapses(segment_id =864691135961392330,\n",
    "    verbose = True,\n",
    "    plot_original_mesh = False,\n",
    "    plot_potential_synapses = False,\n",
    "    plot_matched_synapses = False)"
   ]
  },
  {
   "cell_type": "markdown",
   "metadata": {},
   "source": [
    "# Debugging the creation of the synapses"
   ]
  },
  {
   "cell_type": "code",
   "execution_count": 106,
   "metadata": {},
   "outputs": [
    {
     "name": "stdout",
     "output_type": "stream",
     "text": [
      "\n",
      "\n",
      "----Working on 864691136227020113----\n",
      "# of end nodes = 38\n",
      "last_datetime_edited = 2020-09-03 14:35:51.939000\n",
      "# of presyn = 1185, # of postsyn = 2775\n",
      "Total synapses BEFORE filtering = 3960\n",
      "Total synapses AFTER filtering = 3918\n",
      "2736 out of 3918 were within threshold of original mesh\n"
     ]
    }
   ],
   "source": [
    "import validation_utils as vu\n",
    "for new_seg in errored_segs:\n",
    "    print(f\"\\n\\n----Working on {new_seg}----\")\n",
    "    if new_seg in [864691136573079970,\n",
    " 864691136105661657,\n",
    " 864691135117980637,\n",
    " 864691136388458871,\n",
    "                  864691135975633475,\n",
    "                  864691135272206865,\n",
    " 864691135915343462,\n",
    " 864691135440543560,]:\n",
    "        continue\n",
    "    \n",
    "    vu.old_segment_id_validation_synapses(segment_id = vu.new_to_old_segment_id(new_seg),\n",
    "    verbose = True,\n",
    "    plot_original_mesh = False,\n",
    "    plot_potential_synapses = False,\n",
    "    plot_matched_synapses = False)"
   ]
  },
  {
   "cell_type": "code",
   "execution_count": 27,
   "metadata": {},
   "outputs": [],
   "source": [
    "segs = [864691135975633475,864691135440543560]\n",
    "criteria = \"lineage graph wouldn't load to populate synapses\"\n",
    "\n",
    "minnie.AutoProofreadValidationSegmentExclude4.insert([dict(segment_id=vu.new_to_old_segment_id(s),\n",
    "                                                          criteria=criteria) for s in segs],skip_duplicates=True)"
   ]
  },
  {
   "cell_type": "code",
   "execution_count": null,
   "metadata": {},
   "outputs": [],
   "source": [
    "\"\"\"\n",
    "Solution: Some of the Segments just were\n",
    "\n",
    "\"\"\""
   ]
  },
  {
   "cell_type": "markdown",
   "metadata": {},
   "source": [
    "# Debugging the Nuclei Not being close enough"
   ]
  },
  {
   "cell_type": "code",
   "execution_count": 28,
   "metadata": {},
   "outputs": [
    {
     "data": {
      "text/html": [
       "\n",
       "        \n",
       "        <style type=\"text/css\">\n",
       "            .Relation{\n",
       "                border-collapse:collapse;\n",
       "            }\n",
       "            .Relation th{\n",
       "                background: #A0A0A0; color: #ffffff; padding:4px; border:#f0e0e0 1px solid;\n",
       "                font-weight: normal; font-family: monospace; font-size: 100%;\n",
       "            }\n",
       "            .Relation td{\n",
       "                padding:4px; border:#f0e0e0 1px solid; font-size:100%;\n",
       "            }\n",
       "            .Relation tr:nth-child(odd){\n",
       "                background: #ffffff;\n",
       "            }\n",
       "            .Relation tr:nth-child(even){\n",
       "                background: #f3f1ff;\n",
       "            }\n",
       "            /* Tooltip container */\n",
       "            .djtooltip {\n",
       "            }\n",
       "            /* Tooltip text */\n",
       "            .djtooltip .djtooltiptext {\n",
       "                visibility: hidden;\n",
       "                width: 120px;\n",
       "                background-color: black;\n",
       "                color: #fff;\n",
       "                text-align: center;\n",
       "                padding: 5px 0;\n",
       "                border-radius: 6px;\n",
       "                /* Position the tooltip text - see examples below! */\n",
       "                position: absolute;\n",
       "                z-index: 1;\n",
       "            }\n",
       "            #primary {\n",
       "                font-weight: bold;\n",
       "                color: black;\n",
       "            }\n",
       "\n",
       "            #nonprimary {\n",
       "                font-weight: normal;\n",
       "                color: white;\n",
       "            }\n",
       "\n",
       "            /* Show the tooltip text when you mouse over the tooltip container */\n",
       "            .djtooltip:hover .djtooltiptext {\n",
       "                visibility: visible;\n",
       "            }\n",
       "        </style>\n",
       "        \n",
       "        <b>job reservation table for `microns_minnie65_02`</b>\n",
       "            <div style=\"max-height:1000px;max-width:1500px;overflow:auto;\">\n",
       "            <table border=\"1\" class=\"Relation\">\n",
       "                <thead> <tr style=\"text-align: right;\"> <th> <div class=\"djtooltip\">\n",
       "                                <p id=\"primary\">table_name</p>\n",
       "                                <span class=\"djtooltiptext\">className of the table</span>\n",
       "                            </div></th><th><div class=\"djtooltip\">\n",
       "                                <p id=\"primary\">key_hash</p>\n",
       "                                <span class=\"djtooltiptext\">key hash</span>\n",
       "                            </div></th><th><div class=\"djtooltip\">\n",
       "                                <p id=\"nonprimary\">status</p>\n",
       "                                <span class=\"djtooltiptext\">if tuple is missing, the job is available</span>\n",
       "                            </div></th><th><div class=\"djtooltip\">\n",
       "                                <p id=\"nonprimary\">key</p>\n",
       "                                <span class=\"djtooltiptext\">structure containing the key</span>\n",
       "                            </div></th><th><div class=\"djtooltip\">\n",
       "                                <p id=\"nonprimary\">error_message</p>\n",
       "                                <span class=\"djtooltiptext\">error message returned if failed</span>\n",
       "                            </div></th><th><div class=\"djtooltip\">\n",
       "                                <p id=\"nonprimary\">error_stack</p>\n",
       "                                <span class=\"djtooltiptext\">error stack if failed</span>\n",
       "                            </div></th><th><div class=\"djtooltip\">\n",
       "                                <p id=\"nonprimary\">user</p>\n",
       "                                <span class=\"djtooltiptext\">database user</span>\n",
       "                            </div></th><th><div class=\"djtooltip\">\n",
       "                                <p id=\"nonprimary\">host</p>\n",
       "                                <span class=\"djtooltiptext\">system hostname</span>\n",
       "                            </div></th><th><div class=\"djtooltip\">\n",
       "                                <p id=\"nonprimary\">pid</p>\n",
       "                                <span class=\"djtooltiptext\">system process id</span>\n",
       "                            </div></th><th><div class=\"djtooltip\">\n",
       "                                <p id=\"nonprimary\">connection_id</p>\n",
       "                                <span class=\"djtooltiptext\">connection_id()</span>\n",
       "                            </div></th><th><div class=\"djtooltip\">\n",
       "                                <p id=\"nonprimary\">timestamp</p>\n",
       "                                <span class=\"djtooltiptext\">automatic timestamp</span>\n",
       "                            </div> </th> </tr> </thead>\n",
       "                <tbody> <tr> <td>__auto_proofread_validation_score4</td>\n",
       "<td>2c18a09d3faf8e9ea3634dc3a0f173b6</td>\n",
       "<td>error</td>\n",
       "<td>=BLOB=</td>\n",
       "<td>Exception: min_dist (54910.81763562633) larger than nuclei_distance_threshold (15000)</td>\n",
       "<td>=BLOB=</td>\n",
       "<td>celiib@10.28.0.158</td>\n",
       "<td>at-node31</td>\n",
       "<td>1</td>\n",
       "<td>458384</td>\n",
       "<td>2021-05-25 14:27:12</td></tr><tr><td>__auto_proofread_validation_score4</td>\n",
       "<td>40a99bace81e99ae6d791efba1a4c8a1</td>\n",
       "<td>reserved</td>\n",
       "<td>=BLOB=</td>\n",
       "<td></td>\n",
       "<td>=BLOB=</td>\n",
       "<td>celiib@10.28.0.83</td>\n",
       "<td>at-compute004</td>\n",
       "<td>180765</td>\n",
       "<td>459218</td>\n",
       "<td>2021-05-25 19:59:10</td></tr><tr><td>__auto_proofread_validation_score4</td>\n",
       "<td>68b7ec4205a75f6cbadd2757f884f451</td>\n",
       "<td>reserved</td>\n",
       "<td>=BLOB=</td>\n",
       "<td></td>\n",
       "<td>=BLOB=</td>\n",
       "<td>celiib@10.28.0.83</td>\n",
       "<td>at-compute004</td>\n",
       "<td>180448</td>\n",
       "<td>459216</td>\n",
       "<td>2021-05-25 19:58:22</td></tr><tr><td>__auto_proofread_validation_score4</td>\n",
       "<td>9e77fcc57380988689907f4df10f18e4</td>\n",
       "<td>error</td>\n",
       "<td>=BLOB=</td>\n",
       "<td>TypeError: list indices must be integers or slices, not tuple</td>\n",
       "<td>=BLOB=</td>\n",
       "<td>celiib@10.28.0.175</td>\n",
       "<td>at-node48</td>\n",
       "<td>1</td>\n",
       "<td>458377</td>\n",
       "<td>2021-05-25 14:38:57</td></tr><tr><td>__auto_proofread_validation_score4</td>\n",
       "<td>bb32b23823ba2c90209be561a4f5f6a5</td>\n",
       "<td>error</td>\n",
       "<td>=BLOB=</td>\n",
       "<td>Exception: min_dist (41289.702023132195) larger than nuclei_distance_threshold (15000)</td>\n",
       "<td>=BLOB=</td>\n",
       "<td>celiib@10.28.0.148</td>\n",
       "<td>at-node21</td>\n",
       "<td>1</td>\n",
       "<td>458375</td>\n",
       "<td>2021-05-25 14:34:50</td></tr><tr><td>__auto_proofread_validation_score4</td>\n",
       "<td>f246a78901778662a72ef6b62e6b8f61</td>\n",
       "<td>reserved</td>\n",
       "<td>=BLOB=</td>\n",
       "<td></td>\n",
       "<td>=BLOB=</td>\n",
       "<td>celiib@10.28.0.83</td>\n",
       "<td>at-compute004</td>\n",
       "<td>181017</td>\n",
       "<td>459219</td>\n",
       "<td>2021-05-25 19:59:28</td> </tr> </tbody>\n",
       "            </table>\n",
       "            \n",
       "            <p>Total: 6</p></div>\n",
       "            "
      ],
      "text/plain": [
       "*table_name    *key_hash      status       key        error_message  error_stac user           host           pid        connection_id  timestamp     \n",
       "+------------+ +------------+ +----------+ +--------+ +------------+ +--------+ +------------+ +------------+ +--------+ +------------+ +------------+\n",
       "__auto_proofre 2c18a09d3faf8e error        =BLOB=     Exception: min =BLOB=     celiib@10.28.0 at-node31      1          458384         2021-05-25 14:\n",
       "__auto_proofre 40a99bace81e99 reserved     =BLOB=                    =BLOB=     celiib@10.28.0 at-compute004  180765     459218         2021-05-25 19:\n",
       "__auto_proofre 68b7ec4205a75f reserved     =BLOB=                    =BLOB=     celiib@10.28.0 at-compute004  180448     459216         2021-05-25 19:\n",
       "__auto_proofre 9e77fcc5738098 error        =BLOB=     TypeError: lis =BLOB=     celiib@10.28.0 at-node48      1          458377         2021-05-25 14:\n",
       "__auto_proofre bb32b23823ba2c error        =BLOB=     Exception: min =BLOB=     celiib@10.28.0 at-node21      1          458375         2021-05-25 14:\n",
       "__auto_proofre f246a789017786 reserved     =BLOB=                    =BLOB=     celiib@10.28.0 at-compute004  181017     459219         2021-05-25 19:\n",
       " (Total: 6)"
      ]
     },
     "execution_count": 28,
     "metadata": {},
     "output_type": "execute_result"
    }
   ],
   "source": [
    "curr_table = (minnie.schema.jobs & \"table_name='__auto_proofread_validation_score4'\")\n",
    "curr_table"
   ]
  },
  {
   "cell_type": "code",
   "execution_count": 33,
   "metadata": {},
   "outputs": [
    {
     "data": {
      "text/plain": [
       "{'ver': Decimal('88.00'),\n",
       " 'nucleus_id': 533187,\n",
       " 'segment_id': 864691136227020113,\n",
       " 'old_ver': Decimal('0.08')}"
      ]
     },
     "execution_count": 33,
     "metadata": {},
     "output_type": "execute_result"
    }
   ],
   "source": [
    "(curr_table & \"key_hash='9e77fcc57380988689907f4df10f18e4'\").fetch1(\"key\")"
   ]
  },
  {
   "cell_type": "code",
   "execution_count": 34,
   "metadata": {},
   "outputs": [
    {
     "data": {
      "text/plain": [
       "864691136664412413"
      ]
     },
     "execution_count": 34,
     "metadata": {},
     "output_type": "execute_result"
    }
   ],
   "source": [
    "vu.new_to_old_segment_id(864691135367284729)"
   ]
  },
  {
   "cell_type": "code",
   "execution_count": 37,
   "metadata": {},
   "outputs": [
    {
     "data": {
      "text/plain": [
       "array([PosixPath('/mnt/dj-stor01/platinum/minnie65/02/decomposition/864691136664412413_0_25_soma_0_split.pbz2'),\n",
       "       PosixPath('/mnt/dj-stor01/platinum/minnie65/02/decomposition/864691136664412413_0_25_soma_1_split.pbz2')],\n",
       "      dtype=object)"
      ]
     },
     "execution_count": 37,
     "metadata": {},
     "output_type": "execute_result"
    }
   ],
   "source": [
    "decomp_paths = (minnie.DecompositionSplit() & dict(segment_id=864691136664412413)).fetch(\"decomposition\")\n",
    "split_"
   ]
  },
  {
   "cell_type": "code",
   "execution_count": 38,
   "metadata": {},
   "outputs": [
    {
     "name": "stdout",
     "output_type": "stream",
     "text": [
      "Decompressing Neuron in minimal output mode...please wait\n"
     ]
    }
   ],
   "source": [
    "neuron_obj = du.filepath_to_neuron_obj(decomp_paths[0])"
   ]
  },
  {
   "cell_type": "code",
   "execution_count": 39,
   "metadata": {},
   "outputs": [
    {
     "name": "stdout",
     "output_type": "stream",
     "text": [
      "\n",
      " Working on visualization type: mesh\n",
      "\n",
      " Working on visualization type: skeleton\n"
     ]
    },
    {
     "data": {
      "application/vnd.jupyter.widget-view+json": {
       "model_id": "b68cf191a45f4ea6ab61d3daccd0ba9e",
       "version_major": 2,
       "version_minor": 0
      },
      "text/plain": [
       "VBox(children=(Figure(camera=PerspectiveCamera(fov=46.0, position=(0.0, 0.0, 2.0), projectionMatrix=(1.0, 0.0,…"
      ]
     },
     "metadata": {},
     "output_type": "display_data"
    }
   ],
   "source": [
    "nviz.visualize_neuron(neuron_obj,\n",
    "                     limb_branch_dict=\"all\")"
   ]
  },
  {
   "cell_type": "markdown",
   "metadata": {},
   "source": [
    "# Testing why the DecompositionAxon Had Faces not saved correctly"
   ]
  },
  {
   "cell_type": "code",
   "execution_count": 46,
   "metadata": {},
   "outputs": [
    {
     "name": "stdout",
     "output_type": "stream",
     "text": [
      "**Using table __decomposition_split for table_to_neuron_objs**\n",
      "Decompressing Neuron in minimal output mode...please wait\n",
      "Dont need spine recalculation\n",
      "**Using table __decomposition_split for table_to_neuron_objs**\n",
      "Decompressing Neuron in minimal output mode...please wait\n",
      "Dont need spine recalculation\n",
      "Number of Neurons found = 2\n",
      "Number of Neurons found =2\n",
      "--> Working on Split Index 0 -----\n",
      "\n",
      "Part 1: Axon like branchese \n",
      "{'L0': array([ 9, 12, 38, 42]), 'L1': array([ 4, 11, 12, 13, 15, 16, 17, 18, 19, 20, 21, 22, 23, 24, 25, 26, 27,\n",
      "       28, 29, 30, 31, 32, 33, 34, 35, 36]), 'L2': array([ 0,  1,  2,  3,  4,  5,  6,  8,  9, 10, 11, 12, 13, 14, 15, 17, 18,\n",
      "       19, 21, 22, 23, 24, 25, 26, 27, 28, 29, 30, 31, 32, 33, 34]), 'L4': array([11])}\n",
      "Limb L0 soma angle: 33.22 \n",
      "Limb L1 soma angle: 123.47 \n",
      "Limb L2 soma angle: 143.58 \n",
      "Limb L3 soma angle: 96.14 \n",
      "Limb L4 soma angle: 92.06 \n",
      "Limb L5 soma angle: 81.68 \n",
      "Limb L6 soma angle: 164.01 \n",
      "\n",
      "Part 2: possible_axon_limbs = [1, 2, 3, 4, 5, 6]\n",
      "\n",
      "Phase 2: Working on Limb L1\n",
      "nodes_to_eliminate = [7]\n",
      "\n",
      "Phase 2: Working on Limb L2\n",
      "nodes_to_eliminate = []\n",
      "\n",
      "Phase 2: Working on Limb L3\n",
      "nodes_to_eliminate = [6]\n",
      "\n",
      "Phase 2: Working on Limb L4\n",
      "nodes_to_eliminate = [0 1 2 4 6]\n",
      "\n",
      "Phase 2: Working on Limb L5\n",
      "nodes_to_eliminate = [2]\n",
      "\n",
      "Phase 2: Working on Limb L6\n",
      "nodes_to_eliminate = []\n",
      "\n",
      "----Working on Limb L1-----\n",
      "No endpoints were eliminated so don't need to add back any candidates\n",
      "\n",
      "----Working on Limb L2-----\n",
      "No nodes were eliminated so don't need to add back any candidates\n",
      "\n",
      "----Working on Limb L3-----\n",
      "No endpoints were eliminated so don't need to add back any candidates\n",
      "\n",
      "----Working on Limb L4-----\n",
      "No endpoints were eliminated so don't need to add back any candidates\n",
      "\n",
      "----Working on Limb L5-----\n",
      "No endpoints were eliminated so don't need to add back any candidates\n",
      "\n",
      "----Working on Limb L6-----\n",
      "No nodes were eliminated so don't need to add back any candidates\n",
      "Final Candidates\n",
      "\n",
      "Limb 1\n",
      "Candidate 0 (cyan): array([0, 1, 2, 3, 5, 6, 9])\n",
      "Candidate 1 (pink): array([ 4,  8, 10, 11, 12, 13, 14, 15, 16, 17, 18, 19, 20, 21, 22, 23, 24,\n",
      "       25, 26, 27, 28, 29, 30, 31, 32, 33, 34, 35, 36])\n",
      "\n",
      "Limb 2\n",
      "Candidate 0 (magenta): array([ 0,  1,  2,  3,  4,  5,  6,  7,  8,  9, 10, 11, 12, 13, 14, 15, 16,\n",
      "       17, 18, 19, 20, 21, 22, 23, 24, 25, 26, 27, 28, 29, 30, 31, 32, 33,\n",
      "       34])\n",
      "\n",
      "Limb 3\n",
      "Candidate 0 (gold): array([1, 3, 4])\n",
      "Candidate 1 (forestgreen): array([0, 2, 5])\n",
      "\n",
      "Limb 4\n",
      "Candidate 0 (magenta): array([7])\n",
      "Candidate 1 (red): array([8])\n",
      "Candidate 2 (magenta): array([13,  5, 14])\n",
      "Candidate 3 (pink): array([ 9, 10,  3])\n",
      "Candidate 4 (olive): array([11])\n",
      "Candidate 5 (green): array([12])\n",
      "\n",
      "Limb 5\n",
      "Candidate 0 (palegreen): array([0])\n",
      "Candidate 1 (pink): array([1])\n",
      "\n",
      "Limb 6\n",
      "Candidate 0 (sandybrown): array([0])\n",
      "Part 3: axon_subgraph_candidates = {1: [[0, 1, 2, 3, 5, 6, 9], [4, 8, 10, 11, 12, 13, 14, 15, 16, 17, 18, 19, 20, 21, 22, 23, 24, 25, 26, 27, 28, 29, 30, 31, 32, 33, 34, 35, 36]], 2: [[0, 1, 2, 3, 4, 5, 6, 7, 8, 9, 10, 11, 12, 13, 14, 15, 16, 17, 18, 19, 20, 21, 22, 23, 24, 25, 26, 27, 28, 29, 30, 31, 32, 33, 34]], 3: [[1, 3, 4], [0, 2, 5]], 4: [[7], [8], [13, 5, 14], [9, 10, 3], [11], [12]], 5: [[0], [1]], 6: [[0]]}\n",
      "\n",
      "\n",
      " --- Working on limb 1, candidate # 0\n",
      "0 out of 7 branches are axons\n",
      "Axon percentage = 0.0\n",
      "Not adding candidate no axon branches detected \n",
      "\n",
      "\n",
      " --- Working on limb 1, candidate # 1\n",
      "26 out of 29 branches are axons\n",
      "Axon percentage = 0.896551724137931\n",
      "curr_axon_angle_threshold = 95\n",
      "candidate_nodes = [ 4  7  8 10 11 12 13 14 15 16 17 18 19 20 21 22 23 24 25 26 27 28 29 30\n",
      " 31 32 33 34 35 36]\n",
      "non_axon_branches_on_subgraph = [ 7  8 10 14]\n",
      "endnodes_to_test = []\n",
      "Not adding candidate because no angles (None) passed the threhold 95 \n",
      "\n",
      "\n",
      " --- Working on limb 2, candidate # 0\n",
      "32 out of 35 branches are axons\n",
      "Axon percentage = 0.9142857142857143\n",
      "curr_axon_angle_threshold = 95\n",
      "candidate_nodes = [ 0  1  2  3  4  5  6  7  8  9 10 11 12 13 14 15 16 17 18 19 20 21 22 23\n",
      " 24 25 26 27 28 29 30 31 32 33 34]\n",
      "non_axon_branches_on_subgraph = [ 7 16 20]\n",
      "endnodes_to_test = [4653]\n",
      "Skeleton paths distances = [24928.35836499]\n",
      "Filtered indexes = [0]\n",
      "len(filtered_skeletons) = 1\n",
      "sk_angles = [162.3671594]\n",
      "base_final_widths = [ 39.07535702 509.317415   485.30115201]\n",
      "overall_ais_width = 286.4971068035236\n",
      "ais_width = 344.56464134367457\n",
      "Adding the following branches as true axons: [ 0.  1.  2.  3.  4.  5.  6.  7.  8.  9. 10. 11. 12. 13. 14. 15. 16. 17.\n",
      " 18. 19. 20. 21. 22. 23. 24. 25. 26. 27. 28. 29. 30. 31. 32. 33. 34.]\n",
      "curr_soma_angle = 143.58\n",
      "max_axon_angle = 162.36715939951648\n",
      "Changing to a better axon candidate\n",
      "\n",
      "\n",
      " --- Working on limb 3, candidate # 0\n",
      "0 out of 3 branches are axons\n",
      "Axon percentage = 0.0\n",
      "Not adding candidate no axon branches detected \n",
      "\n",
      "\n",
      " --- Working on limb 3, candidate # 1\n",
      "0 out of 3 branches are axons\n",
      "Axon percentage = 0.0\n",
      "Not adding candidate no axon branches detected \n",
      "\n",
      "\n",
      " --- Working on limb 4, candidate # 0\n",
      "0 out of 1 branches are axons\n",
      "Axon percentage = 0.0\n",
      "Not adding candidate no axon branches detected \n",
      "\n",
      "\n",
      " --- Working on limb 4, candidate # 1\n",
      "0 out of 1 branches are axons\n",
      "Axon percentage = 0.0\n",
      "Not adding candidate no axon branches detected \n",
      "\n",
      "\n",
      " --- Working on limb 4, candidate # 2\n",
      "0 out of 3 branches are axons\n",
      "Axon percentage = 0.0\n",
      "Not adding candidate no axon branches detected \n",
      "\n",
      "\n",
      " --- Working on limb 4, candidate # 3\n",
      "0 out of 3 branches are axons\n",
      "Axon percentage = 0.0\n",
      "Not adding candidate no axon branches detected \n",
      "\n",
      "\n",
      " --- Working on limb 4, candidate # 4\n",
      "1 out of 1 branches are axons\n",
      "Axon percentage = 1.0\n",
      "curr_axon_angle_threshold = 95\n",
      "candidate_nodes = [ 0  2  6 11]\n",
      "non_axon_branches_on_subgraph = [0 2 6]\n",
      "endnodes_to_test = [111]\n",
      "Skeleton paths distances = [15883.00818887]\n",
      "Filtered indexes = []\n",
      "len(filtered_skeletons) = 1\n",
      "sk_angles = [117.1495631]\n",
      "base_final_widths = [250.21864977 215.77747744 246.48667656]\n",
      "overall_ais_width = 250.2186497680072\n",
      "ais_width = 237.49426792031716\n",
      "Adding the following branches as true axons: [11]\n",
      "curr_soma_angle = 92.06\n",
      "max_axon_angle = 117.14956309581821\n",
      "\n",
      "\n",
      " --- Working on limb 4, candidate # 5\n",
      "0 out of 1 branches are axons\n",
      "Axon percentage = 0.0\n",
      "Not adding candidate no axon branches detected \n",
      "\n",
      "\n",
      " --- Working on limb 5, candidate # 0\n",
      "0 out of 1 branches are axons\n",
      "Axon percentage = 0.0\n",
      "Not adding candidate no axon branches detected \n",
      "\n",
      "\n",
      " --- Working on limb 5, candidate # 1\n",
      "0 out of 1 branches are axons\n",
      "Axon percentage = 0.0\n",
      "Not adding candidate no axon branches detected \n",
      "\n",
      "\n",
      " --- Working on limb 6, candidate # 0\n",
      "0 out of 1 branches are axons\n",
      "Axon percentage = 0.0\n",
      "Not adding candidate no axon branches detected \n",
      "Using the best axon approach\n",
      "Using True\n",
      "Limb L2: Axon branches before dendritic path filter = [ 0.  1.  2.  3.  4.  5.  6.  7.  8.  9. 10. 11. 12. 13. 14. 15. 16. 17.\n",
      " 18. 19. 20. 21. 22. 23. 24. 25. 26. 27. 28. 29. 30. 31. 32. 33. 34.]\n",
      "Limb L2: Axon branches AFTER dendritic path filter = [ 0.  1.  2.  3.  4.  5.  6.  7.  8.  9. 10. 11. 12. 13. 14. 15. 16. 17.\n",
      " 18. 19. 20. 21. 22. 23. 24. 25. 26. 27. 28. 29. 30. 31. 32. 33. 34.]\n",
      "\n",
      "\n",
      "Part 4: final_true_axons = {'L2': array([ 0.,  1.,  2.,  3.,  4.,  5.,  6.,  7.,  8.,  9., 10., 11., 12.,\n",
      "       13., 14., 15., 16., 17., 18., 19., 20., 21., 22., 23., 24., 25.,\n",
      "       26., 27., 28., 29., 30., 31., 32., 33., 34.])}\n",
      "\n",
      "--- Working on filter 0:\n",
      "function = dendrite_on_axon_merges\n",
      "function __name__ = filter_away_dendrite_on_axon_merges\n",
      "function arguments = {'use_pre_existing_axon_labels': True}\n",
      "\n",
      "\n",
      "\n",
      "\n",
      "\n",
      " ---- Total time for applying filter: 18.926438093185425 -----\n",
      "Starting axon branch was the starting node so using border vertices and NOT computing upstream branch\n",
      "upstream_node_to_axon_starting_branch = None\n"
     ]
    },
    {
     "name": "stderr",
     "output_type": "stream",
     "text": [
      "\r",
      "  0%|          | 0/1 [00:00<?, ?it/s]"
     ]
    },
    {
     "name": "stdout",
     "output_type": "stream",
     "text": [
      "More than 1 seperated mesh (taking the top one): [<trimesh.Trimesh(vertices.shape=(46066, 3), faces.shape=(91864, 3))>\n",
      " <trimesh.Trimesh(vertices.shape=(394, 3), faces.shape=(768, 3))>]\n",
      "root_curr = [1393364.   505701.   823141.3]\n",
      "Time for preparing soma vertices and root: 0.00040841102600097656\n",
      "invalidation_d = 1500\n",
      "smooth_neighborhood = 0\n",
      "cc_vertex_thresh = 10\n"
     ]
    },
    {
     "name": "stderr",
     "output_type": "stream",
     "text": [
      "100%|██████████| 1/1 [00:00<00:00,  1.18it/s]\n"
     ]
    },
    {
     "name": "stdout",
     "output_type": "stream",
     "text": [
      "meshparty_segment_size = 100\n",
      "Time for 1st pass MP skeletonization: 1.4729013442993164\n",
      "branches_touching_root = [8, 26, 51]\n",
      "combining close nodes\n",
      "combine_threshold = 1300\n",
      "length of Graph = 12873\n",
      "After combining close endpoints max(kept_branches_idx) = 76, len(kept_branches_idx) = 73\n",
      "empty_indices % = 0.0\n",
      " conflict_indices % = 0.01939333122457216\n",
      "AFTER face_lookup_resolved_test\n",
      "Decomposing first pass: 5.5828070640563965\n",
      "Only Using MeshParty Skeletonization and Mesh Correspondence\n",
      "Another print\n",
      "Divinding into MP and MAP pieces: 1.9788742065429688e-05\n",
      "Total time for MAP sublimb processing 2.6226043701171875e-06\n",
      "---- Working on MP Decomposition #0 ----\n",
      "Using Quicker soma_to_piece_touching_vertices because no MAP and only one sublimb_mesh piece \n",
      "MP filtering soma verts: 0.0001990795135498047\n",
      "Fixing Possible Soma Extension Branch for Sublimb 0\n",
      "Total time for mesh KDTree = 0.004800558090209961\n",
      "sbv[0].reshape(-1,3) = [[1393364.   505701.   823141.3]]\n",
      "closest_sk_pt_coord BEFORE = [1393346.71583676  505967.72934159  822991.3751618 ]\n",
      "current_skeleton.shape = (62, 2, 3)\n",
      "node_for_stitch = 25: [1393346.71583676  505967.72934159  822991.3751618 ]\n",
      "node_for_stitch AFTER = 25: [1393346.71583676  505967.72934159  822991.3751618 ]\n",
      "possible_node_loc = [ 0 15 20]\n",
      "possible_node_loc AFTER = [ 0 15 20]\n",
      "curr_shortest_path = [25, 23.0, 21.0, 18.0, 17.0, 15.0]\n",
      "Current stitch point was not a branch or endpoint, shortest_path_length to one = 428.00232727477703\n",
      "Changing the stitch point becasue the distance to end or branch node was 428.00232727477703\n",
      "New stitch point has degree 1\n",
      "change_status for create soma extending pieces = True\n",
      "closest_sk_pt_coord AFTER = [1393148.   505609.1  822995.2]\n",
      "skipping soma 0 because closest skeleton node was already end node\n",
      "endpoints_must_keep = {0: array([[1393148. ,  505609.1,  822995.2]])}\n",
      "match_sk_branches = [47]\n",
      "The new branch info was none so skipping \n",
      "\n",
      "No soma extending branch was added for this sublimb even though it had a soma border (means they already existed)\n",
      "MP (because soma touching verts) soma extension add: 1.8293349742889404\n",
      "There were not both MAP and MP pieces so skipping the stitch resolving phase\n",
      "Time for decomp of Limb = 9.22795295715332\n",
      "Number of matching vertices = 27\n",
      "Only one endpoint after filtering away the endpoints that are not on the skeleton\n",
      "Using Distance measure skeletal_distance\n",
      "endpoints_must_keep = [[1393148.   505609.1  822995.2]]\n",
      "Number of end_nodes BEFORE filtering = 40\n",
      "all_single_nodes_to_eliminate = [22]\n",
      "no small end nodes to get rid of so returning whole skeleton\n",
      "Removed 0 skeletal branches\n",
      "91863 91864\n",
      "For marked faces: None\n",
      "empty_indices % = 0.0\n",
      " conflict_indices % = 0.0\n",
      "AFTER face_lookup_resolved_test\n",
      "Limb Correspondence before stitching = 73\n",
      "Filtering away non soma floating pieces near the soma\n",
      "Before filter # of pieces = 0\n",
      "AFTER filter # of pieces = 0\n",
      "Limb Correspondence AFTER stitching = 74\n",
      "Upstream node was None so don't have to adjust\n",
      "concept_network_dict = {0: [<networkx_utils.GraphOrderedEdges object at 0x7fddeec65f98>]}\n",
      "Assigning the old width calculation because no valid new widths\n",
      "\n",
      "\n",
      "----Working on seperate_graph 0----\n",
      "\n",
      "\n",
      "---------Working on soma_idx = 0, soma_group_idx 0, endpt = [1393148.   505609.1  822995.2]---------\n",
      "Starting_edge inside branches_to_conept = [[1393148.   505609.1  822995.2]\n",
      " [1393266.   505795.5  823053. ]]\n",
      "At the start, starting_node (in terms of the skeleton, that shouldn't match the starting edge) = [42]\n",
      "printing out current edge:\n",
      "[[1393148.   505609.1  822995.2]\n",
      " [1393266.   505795.5  823053. ]]\n",
      "edge_endpoints_to_process was empty so exiting loop after 74 iterations\n",
      "starting_node in concept map (that should match the starting edge) = 45\n",
      "Total time for branches to concept conversion = 0.6865956783294678\n",
      "\n",
      "Done generating concept network \n",
      "\n",
      "\n",
      "--> Working on Split Index 1 -----\n",
      "\n",
      "Part 1: Axon like branchese \n",
      "{}\n",
      "Limb L0 soma angle: 104.56 \n",
      "\n",
      "Part 2: possible_axon_limbs = [0]\n",
      "\n",
      "Phase 2: Working on Limb L0\n",
      "nodes_to_eliminate = [2]\n",
      "\n",
      "----Working on Limb L0-----\n",
      "No endpoints were eliminated so don't need to add back any candidates\n",
      "Final Candidates\n",
      "\n",
      "Limb 0\n",
      "Candidate 0 (forestgreen): array([0])\n",
      "Candidate 1 (red): array([1])\n",
      "Part 3: axon_subgraph_candidates = {0: [[0], [1]]}\n",
      "\n",
      "\n",
      " --- Working on limb 0, candidate # 0\n",
      "0 out of 1 branches are axons\n",
      "Axon percentage = 0.0\n",
      "Not adding candidate no axon branches detected \n",
      "\n",
      "\n",
      " --- Working on limb 0, candidate # 1\n",
      "0 out of 1 branches are axons\n",
      "Axon percentage = 0.0\n",
      "Not adding candidate no axon branches detected \n",
      "Using the best axon approach\n",
      "Using True\n",
      "\n",
      "\n",
      "Part 4: final_true_axons = {}\n",
      "\n",
      "***No axon found for this neuron ***\n"
     ]
    }
   ],
   "source": [
    "#1) Pull Down all the Neuron Objects associated with a segment_id\n",
    "segment_id = 864691136664412413\n",
    "verbose = True\n",
    "import time\n",
    "import axon_utils as au\n",
    "\n",
    "neuron_objs,neuron_split_idxs = du.decomposition_with_spine_recalculation(segment_id,\n",
    "                                                                         ignore_DecompositionAxon=True)\n",
    "\n",
    "if verbose:\n",
    "    print(f\"Number of Neurons found ={len(neuron_objs)}\")\n",
    "\n",
    "#For each neuron:\n",
    "dict_to_write = []\n",
    "n_obj_to_save = []\n",
    "for split_index,neuron_obj in zip(neuron_split_idxs,neuron_objs):\n",
    "\n",
    "    if verbose:\n",
    "        print(f\"--> Working on Split Index {split_index} -----\")\n",
    "\n",
    "    st = time.time()\n",
    "    #Run the Axon Decomposition\n",
    "    neuron_obj_with_web = au.complete_axon_processing(neuron_obj,\n",
    "                             verbose=True)\n",
    "    \n",
    "    n_obj_to_save.append(neuron_obj_with_web)\n",
    "\n",
    "#     save_time = time.time()\n",
    "#     ret_file_path = neuron_obj_with_web.save_compressed_neuron(\n",
    "#                                     output_folder=str(du.get_decomposition_path()),\n",
    "#                                     #output_folder = \"./\",\n",
    "#     file_name=f\"{neuron_obj_with_web.segment_id}_{split_index}_split_axon_v{au.axon_version}\",\n",
    "#                                       return_file_path=True,\n",
    "#                                      export_mesh=False,\n",
    "#                                      suppress_output=True)"
   ]
  },
  {
   "cell_type": "code",
   "execution_count": 49,
   "metadata": {},
   "outputs": [
    {
     "data": {
      "text/plain": [
       "<neuron.Neuron at 0x7fddef6be748>"
      ]
     },
     "execution_count": 49,
     "metadata": {},
     "output_type": "execute_result"
    }
   ],
   "source": [
    "neuron_obj = n_obj_to_save[0]\n",
    "neuron_obj"
   ]
  },
  {
   "cell_type": "code",
   "execution_count": 50,
   "metadata": {},
   "outputs": [
    {
     "name": "stdout",
     "output_type": "stream",
     "text": [
      "Saving Neuorn in suppress_output mode...please wait\n",
      "Saved File at location: 864691136664412413_0_25_soma_0_split_axon_v5\n"
     ]
    }
   ],
   "source": [
    "neuron_obj.save_compressed_neuron(\"./\",\n",
    "                                 export_mesh=True)"
   ]
  },
  {
   "cell_type": "code",
   "execution_count": 54,
   "metadata": {},
   "outputs": [
    {
     "data": {
      "application/vnd.jupyter.widget-view+json": {
       "model_id": "fbbc8bb81b9045b9806c85b36e848faf",
       "version_major": 2,
       "version_minor": 0
      },
      "text/plain": [
       "VBox(children=(Figure(camera=PerspectiveCamera(fov=46.0, position=(0.0, 0.0, 2.0), projectionMatrix=(1.0, 0.0,…"
      ]
     },
     "metadata": {},
     "output_type": "display_data"
    }
   ],
   "source": [
    "nviz.plot_objects(neuron_objs[0].mesh,\n",
    "                 meshes=[neuron_objs[1].mesh],\n",
    "                 meshes_colors=\"red\")"
   ]
  },
  {
   "cell_type": "code",
   "execution_count": 51,
   "metadata": {},
   "outputs": [
    {
     "data": {
      "application/vnd.jupyter.widget-view+json": {
       "model_id": "0e9e4b270e564034ad4660eba9d1f18e",
       "version_major": 2,
       "version_minor": 0
      },
      "text/plain": [
       "VBox(children=(Figure(camera=PerspectiveCamera(fov=46.0, position=(0.0, 0.0, 2.0), projectionMatrix=(1.0, 0.0,…"
      ]
     },
     "metadata": {},
     "output_type": "display_data"
    }
   ],
   "source": [
    "nviz.plot_objects(neuron_obj.mesh)"
   ]
  },
  {
   "cell_type": "code",
   "execution_count": 61,
   "metadata": {},
   "outputs": [
    {
     "data": {
      "application/vnd.jupyter.widget-view+json": {
       "model_id": "4a89487e6a694beb9d0e103f51f5fffe",
       "version_major": 2,
       "version_minor": 0
      },
      "text/plain": [
       "VBox(children=(Figure(camera=PerspectiveCamera(fov=46.0, position=(0.0, 0.0, 2.0), projectionMatrix=(1.0, 0.0,…"
      ]
     },
     "metadata": {},
     "output_type": "display_data"
    }
   ],
   "source": [
    "recovered_mesh = curr_mesh.submesh([neuron_obj.original_mesh_idx],append=True)\n",
    "nviz.plot_objects(recovered_mesh)"
   ]
  },
  {
   "cell_type": "code",
   "execution_count": 58,
   "metadata": {},
   "outputs": [
    {
     "data": {
      "application/vnd.jupyter.widget-view+json": {
       "model_id": "07bb41ebd7dc49bc8a5ebdcfb0b38ec2",
       "version_major": 2,
       "version_minor": 0
      },
      "text/plain": [
       "VBox(children=(Figure(camera=PerspectiveCamera(fov=46.0, position=(0.0, 0.0, 2.0), projectionMatrix=(1.0, 0.0,…"
      ]
     },
     "metadata": {},
     "output_type": "display_data"
    }
   ],
   "source": [
    "curr_mesh = du.fetch_segment_id_mesh(864691136664412413)\n",
    "nviz.plot_objects(curr_mesh)"
   ]
  },
  {
   "cell_type": "code",
   "execution_count": 56,
   "metadata": {},
   "outputs": [
    {
     "name": "stdout",
     "output_type": "stream",
     "text": [
      "Decompressing Neuron in minimal output mode...please wait\n"
     ]
    }
   ],
   "source": [
    "import neuron_utils as nru\n",
    "recov_neuron_obj = nru.decompress_neuron(\"864691136664412413_0_25_soma_0_split_axon_v5\",\n",
    "                     original_mesh=du.fetch_segment_id_mesh(864691136664412413))"
   ]
  },
  {
   "cell_type": "code",
   "execution_count": 57,
   "metadata": {},
   "outputs": [
    {
     "name": "stdout",
     "output_type": "stream",
     "text": [
      "\n",
      " Working on visualization type: mesh\n"
     ]
    },
    {
     "data": {
      "application/vnd.jupyter.widget-view+json": {
       "model_id": "c8c75ead683f4065bf6f6c70defc4b0b",
       "version_major": 2,
       "version_minor": 0
      },
      "text/plain": [
       "VBox(children=(Figure(camera=PerspectiveCamera(fov=46.0, position=(0.0, 0.0, 2.0), projectionMatrix=(1.0, 0.0,…"
      ]
     },
     "metadata": {},
     "output_type": "display_data"
    }
   ],
   "source": [
    "nviz.visualize_neuron(recov_neuron_obj,\n",
    "                     limb_branch_dict=\"all\")"
   ]
  },
  {
   "cell_type": "code",
   "execution_count": null,
   "metadata": {},
   "outputs": [],
   "source": []
  },
  {
   "cell_type": "code",
   "execution_count": 63,
   "metadata": {},
   "outputs": [
    {
     "data": {
      "text/plain": [
       "PosixPath('/mnt/dj-stor01/platinum/minnie65/02/decomposition/864691135585319036_0_25_soma_0_split_axon_v5_v4_val.pbz2')"
      ]
     },
     "execution_count": 63,
     "metadata": {},
     "output_type": "execute_result"
    }
   ],
   "source": [
    "decomp_path = (minnie.AutoProofreadValidationScore4() & dict(segment_id=864691135855890478)).fetch1(\"decomposition\")\n",
    "decomp_path"
   ]
  },
  {
   "cell_type": "code",
   "execution_count": 64,
   "metadata": {},
   "outputs": [
    {
     "name": "stdout",
     "output_type": "stream",
     "text": [
      "Decompressing Neuron in minimal output mode...please wait\n"
     ]
    },
    {
     "data": {
      "text/plain": [
       "<neuron.Neuron at 0x7fddeea44748>"
      ]
     },
     "execution_count": 64,
     "metadata": {},
     "output_type": "execute_result"
    }
   ],
   "source": [
    "rec_neuron = nru.decompress_neuron(decomp_path,\n",
    "                     original_mesh=du.fetch_segment_id_mesh(864691135585319036))\n",
    "rec_neuron"
   ]
  },
  {
   "cell_type": "markdown",
   "metadata": {},
   "source": [
    "# Trying the new saving method for original faces"
   ]
  },
  {
   "cell_type": "markdown",
   "metadata": {},
   "source": [
    "# -- Getting the Original Decomposed Neuron"
   ]
  },
  {
   "cell_type": "code",
   "execution_count": 78,
   "metadata": {},
   "outputs": [
    {
     "data": {
      "text/plain": [
       "PosixPath('/mnt/dj-stor01/platinum/minnie65/02/decomposition/864691136664412413_0_25.pbz2')"
      ]
     },
     "execution_count": 78,
     "metadata": {},
     "output_type": "execute_result"
    }
   ],
   "source": [
    "decomp_path = (minnie.Decomposition() & dict(segment_id=864691136664412413)).fetch1(\"decomposition\")\n",
    "decomp_path"
   ]
  },
  {
   "cell_type": "code",
   "execution_count": 79,
   "metadata": {},
   "outputs": [
    {
     "name": "stdout",
     "output_type": "stream",
     "text": [
      "Decompressing Neuron in minimal output mode...please wait\n"
     ]
    },
    {
     "data": {
      "text/plain": [
       "<neuron.Neuron at 0x7fdda8a4f358>"
      ]
     },
     "execution_count": 79,
     "metadata": {},
     "output_type": "execute_result"
    }
   ],
   "source": [
    "pre_split_neuron = du.filepath_to_neuron_obj(decomp_path)\n",
    "pre_split_neuron"
   ]
  },
  {
   "cell_type": "code",
   "execution_count": 80,
   "metadata": {},
   "outputs": [
    {
     "name": "stdout",
     "output_type": "stream",
     "text": [
      "\n",
      " Working on visualization type: mesh\n",
      "\n",
      " Working on visualization type: skeleton\n"
     ]
    },
    {
     "data": {
      "application/vnd.jupyter.widget-view+json": {
       "model_id": "1817d0699a8e4283b17a4da2456ea86f",
       "version_major": 2,
       "version_minor": 0
      },
      "text/plain": [
       "VBox(children=(Figure(camera=PerspectiveCamera(fov=46.0, position=(0.0, 0.0, 2.0), projectionMatrix=(1.0, 0.0,…"
      ]
     },
     "metadata": {},
     "output_type": "display_data"
    }
   ],
   "source": [
    "nviz.visualize_neuron(pre_split_neuron,\n",
    "                     limb_branch_dict=\"all\")"
   ]
  },
  {
   "cell_type": "markdown",
   "metadata": {},
   "source": [
    "# -- B) Splitting the Neuron"
   ]
  },
  {
   "cell_type": "code",
   "execution_count": 81,
   "metadata": {},
   "outputs": [
    {
     "data": {
      "image/png": "[encoded data removed]",
      "text/plain": [
       "<Figure size 432x288 with 1 Axes>"
      ]
     },
     "metadata": {},
     "output_type": "display_data"
    }
   ],
   "source": [
    "nviz.plot_soma_limb_concept_network(pre_split_neuron)"
   ]
  },
  {
   "cell_type": "code",
   "execution_count": 82,
   "metadata": {},
   "outputs": [
    {
     "name": "stdout",
     "output_type": "stream",
     "text": [
      "n_paths_cut = 1\n",
      "using precomputed split suggestions\n",
      "\n",
      "\n",
      "---Working on Splitting Limb 4 with 3 components----\n",
      "\n",
      "\n",
      "----Working on seperate_graph 0----\n",
      "\n",
      "\n",
      "---------Working on soma_idx = 0, soma_group_idx 0, endpt = [1398920.  499653.  833896.]---------\n",
      "Starting_edge inside branches_to_conept = [[1398920.  499653.  833896.]\n",
      " [1400640.  500497.  835953.]]\n",
      "At the start, starting_node (in terms of the skeleton, that shouldn't match the starting edge) = [0]\n",
      "printing out current edge:\n",
      "[[1398920.  499653.  833896.]\n",
      " [1400640.  500497.  835953.]]\n",
      "edge_endpoints_to_process was empty so exiting loop after 15 iterations\n",
      "starting_node in concept map (that should match the starting edge) = 0\n",
      "Total time for branches to concept conversion = 0.10135102272033691\n",
      "\n",
      "Done generating concept network \n",
      "\n",
      "\n",
      "\n",
      "\n",
      "----Working on seperate_graph 1----\n",
      "There was no starting information so doing to put dummy information and random starting endpoint = [1406330.5174637   460841.06520872  847093.8040529 ]\n",
      "\n",
      "\n",
      "---------Working on soma_idx = -1, soma_group_idx -1, endpt = [1406330.5174637   460841.06520872  847093.8040529 ]---------\n",
      "Starting_edge inside branches_to_conept = [[1406330.5174637   460841.06520872  847093.8040529 ]\n",
      " [1410560.          464697.          862229.        ]]\n",
      "Done generating concept network \n",
      "\n",
      "\n",
      "\n",
      "\n",
      "----Working on seperate_graph 2----\n",
      "\n",
      "\n",
      "---------Working on soma_idx = 1, soma_group_idx 0, endpt = [1431220.  467935.  853646.]---------\n",
      "Starting_edge inside branches_to_conept = [[1420270.  466277.  860265.]\n",
      " [1431220.  467935.  853646.]]\n",
      "At the start, starting_node (in terms of the skeleton, that shouldn't match the starting edge) = [3]\n",
      "printing out current edge:\n",
      "[[1431220.  467935.  853646.]\n",
      " [1420270.  466277.  860265.]]\n",
      "edge_endpoints_to_process was empty so exiting loop after 3 iterations\n",
      "starting_node in concept map (that should match the starting edge) = 2\n",
      "Total time for branches to concept conversion = 0.01757955551147461\n",
      "\n",
      "Done generating concept network \n",
      "\n",
      "\n",
      "\n",
      "\n",
      "------ Working on Soma 0 -------\n",
      "limb_neighbors = [0, 1, 2, 3, 4, 5, 6]\n",
      "limb_neighbors BEFORE error limbs removed = [0, 1, 2, 3, 4, 5, 6]\n",
      "limb_neighbors AFTER error limbs removed = [0 1 2 3 4 5 6]\n",
      "curr_n_multi_soma_limbs_cancelled = 0\n",
      "curr_n_same_soma_limbs_cancelled = 0\n",
      "n_errored_lims = 0\n",
      "curr_error_limbs_cancelled_area = []\n",
      "local_floating_meshes = [<trimesh.Trimesh(vertices.shape=(394, 3), faces.shape=(768, 3))>]\n",
      "Already have preprocessed data\n",
      "--- 1) Finished unpacking preprocessed materials: 0.0003299713134765625\n",
      "total_edges = [['S0', 'L0'], ['S0', 'L1'], ['S0', 'L2'], ['S0', 'L3'], ['S0', 'L4'], ['S0', 'L5'], ['S0', 'L6']]\n",
      "--- 2) Finished creating neuron connectivity graph: 0.00013685226440429688\n",
      "Having to generate soma_meshes_face_idx because none in preprocessed data\n",
      "--- 3a) Finshed generating soma_meshes_face_idx: 0.1412639617919922\n",
      "Using precomputed volume ratio\n",
      "--- 3b) Finished soma creation: 0.11879968643188477\n",
      "--- 3) Finshed generating soma objects and adding them to concept graph: 3.0994415283203125e-05\n",
      "Using already existing limb_mehses_face_idx in preprocessed data \n",
      "curr_limb_concept_networks= {0: [<networkx_utils.GraphOrderedEdges object at 0x7fddaa7362b0>]}\n",
      "curr_limb_concept_networks= {0: [<networkx_utils.GraphOrderedEdges object at 0x7fddaa736eb8>]}\n",
      "curr_limb_concept_networks= {0: [<networkx_utils.GraphOrderedEdges object at 0x7fddaa736208>]}\n",
      "curr_limb_concept_networks= {0: [<networkx_utils.GraphOrderedEdges object at 0x7fddf099e630>]}\n",
      "curr_limb_concept_networks= {0: [<networkx_utils.GraphOrderedEdges object at 0x7fddf099e470>]}\n",
      "curr_limb_concept_networks= {0: [<networkx_utils.GraphOrderedEdges object at 0x7fddf099e940>]}\n",
      "curr_limb_concept_networks= {0: [<networkx_utils.GraphOrderedEdges object at 0x7fddc647b3c8>]}\n",
      "--- 4) Finshed generating Limb objects and adding them to concept graph: 2.4460947513580322\n",
      "--- 5) SKIPPING Doing the adaptive mesh correspondence on the meshparty preprocessing ---\n",
      "--- 6) SKIPPING Using the computed_attribute_dict to populate neuron attributes ---\n",
      "self.n_limbs = 7\n",
      "7) Calculating the spines for the neuorn if do not already exist\n",
      "Total time for neuron instance creation = 5.0893824100494385\n",
      "\n",
      "\n",
      "------ Working on Soma 1 -------\n",
      "limb_neighbors = [8]\n",
      "limb_neighbors BEFORE error limbs removed = [8]\n",
      "limb_neighbors AFTER error limbs removed = [8]\n",
      "curr_n_multi_soma_limbs_cancelled = 0\n",
      "curr_n_same_soma_limbs_cancelled = 0\n",
      "n_errored_lims = 0\n",
      "curr_error_limbs_cancelled_area = []\n",
      "local_floating_meshes = []\n",
      "Already have preprocessed data\n",
      "--- 1) Finished unpacking preprocessed materials: 9.012222290039062e-05\n",
      "total_edges = [['S0', 'L0']]\n",
      "--- 2) Finished creating neuron connectivity graph: 0.00010037422180175781\n",
      "Having to generate soma_meshes_face_idx because none in preprocessed data\n",
      "--- 3a) Finshed generating soma_meshes_face_idx: 0.03088974952697754\n",
      "Using precomputed volume ratio\n",
      "--- 3b) Finished soma creation: 0.1132662296295166\n",
      "--- 3) Finshed generating soma objects and adding them to concept graph: 2.574920654296875e-05\n",
      "Using already existing limb_mehses_face_idx in preprocessed data \n",
      "curr_limb_concept_networks= {0: [<networkx_utils.GraphOrderedEdges object at 0x7fddacb7c8d0>]}\n",
      "--- 4) Finshed generating Limb objects and adding them to concept graph: 0.01605677604675293\n",
      "--- 5) SKIPPING Doing the adaptive mesh correspondence on the meshparty preprocessing ---\n",
      "--- 6) SKIPPING Using the computed_attribute_dict to populate neuron attributes ---\n",
      "self.n_limbs = 1\n",
      "7) Calculating the spines for the neuorn if do not already exist\n",
      "Total time for neuron instance creation = 0.1763463020324707\n",
      "\n",
      "\n",
      "Number of seperate neuron objects = 2\n"
     ]
    }
   ],
   "source": [
    "#3) Calculated the split results\n",
    "import proofreading_utils as pru\n",
    "neuron_obj = pre_split_neuron\n",
    "split_results = pru.multi_soma_split_suggestions(neuron_obj,plot_intermediates=False)\n",
    "\n",
    "# 4) Get the number of splits required for this neuron\n",
    "n_paths_cut = pru.get_n_paths_cut(split_results)\n",
    "\n",
    "if verbose:\n",
    "    print(f\"n_paths_cut = {n_paths_cut}\")\n",
    "\n",
    "\n",
    "# 5) Split the neuron into a list of neuron objects\n",
    "(neuron_list,\n",
    "neuron_list_errored_limbs_area,\n",
    " neuron_list_errored_limbs_skeletal_length,\n",
    "neuron_list_n_multi_soma_errors,\n",
    "neuron_list_n_same_soma_errors) = pru.split_neuron(neuron_obj,\n",
    "                limb_results=split_results,\n",
    "                               verbose=verbose,\n",
    "                                return_error_info=True\n",
    "                                    )"
   ]
  },
  {
   "cell_type": "code",
   "execution_count": 84,
   "metadata": {},
   "outputs": [
    {
     "name": "stdout",
     "output_type": "stream",
     "text": [
      "\n",
      " Working on visualization type: mesh\n",
      "\n",
      " Working on visualization type: skeleton\n"
     ]
    },
    {
     "data": {
      "application/vnd.jupyter.widget-view+json": {
       "model_id": "e3776c7e48cb48c0b8fd15391a0a6758",
       "version_major": 2,
       "version_minor": 0
      },
      "text/plain": [
       "VBox(children=(Figure(camera=PerspectiveCamera(fov=46.0, position=(0.0, 0.0, 2.0), projectionMatrix=(1.0, 0.0,…"
      ]
     },
     "metadata": {},
     "output_type": "display_data"
    }
   ],
   "source": [
    "neuron_obj_s = neuron_list[0]\n",
    "nviz.visualize_neuron(neuron_obj_s,\n",
    "                     limb_branch_dict=\"all\")"
   ]
  },
  {
   "cell_type": "code",
   "execution_count": 85,
   "metadata": {},
   "outputs": [
    {
     "name": "stdout",
     "output_type": "stream",
     "text": [
      "Saving Neuorn in suppress_output mode...please wait\n",
      "Saved File at location: 864691136664412413_0_25_soma_0_split\n"
     ]
    }
   ],
   "source": [
    "neuron_obj_s.save_compressed_neuron(\"./\",\n",
    "                                   export_mesh=False)"
   ]
  },
  {
   "cell_type": "code",
   "execution_count": 86,
   "metadata": {},
   "outputs": [
    {
     "name": "stdout",
     "output_type": "stream",
     "text": [
      "Decompressing Neuron in minimal output mode...please wait\n",
      "\n",
      " Working on visualization type: mesh\n",
      "\n",
      " Working on visualization type: skeleton\n"
     ]
    },
    {
     "data": {
      "application/vnd.jupyter.widget-view+json": {
       "model_id": "913d2a8172b74cbc96e7126d459f89b3",
       "version_major": 2,
       "version_minor": 0
      },
      "text/plain": [
       "VBox(children=(Figure(camera=PerspectiveCamera(fov=46.0, position=(0.0, 0.0, 2.0), projectionMatrix=(1.0, 0.0,…"
      ]
     },
     "metadata": {},
     "output_type": "display_data"
    }
   ],
   "source": [
    "neuron_obj_s_rec = nru.decompress_neuron(\"864691136664412413_0_25_soma_0_split\",\n",
    "                                        original_mesh=du.fetch_segment_id_mesh(864691136664412413))\n",
    "nviz.visualize_neuron(neuron_obj_s_rec,\n",
    "                     limb_branch_dict=\"all\")"
   ]
  },
  {
   "cell_type": "code",
   "execution_count": 87,
   "metadata": {},
   "outputs": [
    {
     "name": "stdout",
     "output_type": "stream",
     "text": [
      "\n",
      " Working on visualization type: mesh\n",
      "\n",
      " Working on visualization type: skeleton\n"
     ]
    },
    {
     "data": {
      "application/vnd.jupyter.widget-view+json": {
       "model_id": "81ab5bcfb8224da78f09083185a5109b",
       "version_major": 2,
       "version_minor": 0
      },
      "text/plain": [
       "VBox(children=(Figure(camera=PerspectiveCamera(fov=46.0, position=(0.0, 0.0, 2.0), projectionMatrix=(1.0, 0.0,…"
      ]
     },
     "metadata": {},
     "output_type": "display_data"
    }
   ],
   "source": []
  },
  {
   "cell_type": "markdown",
   "metadata": {},
   "source": [
    "# c) Doing the Axon Processing"
   ]
  },
  {
   "cell_type": "code",
   "execution_count": null,
   "metadata": {},
   "outputs": [],
   "source": [
    "import axon_utils as au"
   ]
  },
  {
   "cell_type": "code",
   "execution_count": 88,
   "metadata": {},
   "outputs": [
    {
     "name": "stdout",
     "output_type": "stream",
     "text": [
      "\n",
      "Part 1: Axon like branchese \n",
      "{'L0': array([ 9, 12, 38, 42]), 'L1': array([ 4, 11, 12, 13, 15, 16, 17, 18, 19, 20, 21, 22, 23, 24, 25, 26, 27,\n",
      "       28, 29, 30, 31, 32, 33, 34, 35, 36]), 'L2': array([ 0,  1,  2,  3,  4,  5,  6,  8,  9, 10, 11, 12, 13, 14, 15, 17, 18,\n",
      "       19, 21, 22, 23, 24, 25, 26, 27, 28, 29, 30, 31, 32, 33, 34]), 'L4': array([11])}\n",
      "Limb L0 soma angle: 33.22 \n",
      "Limb L1 soma angle: 123.47 \n",
      "Limb L2 soma angle: 143.58 \n",
      "Limb L3 soma angle: 96.14 \n",
      "Limb L4 soma angle: 92.06 \n",
      "Limb L5 soma angle: 81.68 \n",
      "Limb L6 soma angle: 164.01 \n",
      "\n",
      "Part 2: possible_axon_limbs = [1, 2, 3, 4, 5, 6]\n",
      "\n",
      "Phase 2: Working on Limb L1\n",
      "nodes_to_eliminate = [7]\n",
      "\n",
      "Phase 2: Working on Limb L2\n",
      "nodes_to_eliminate = []\n",
      "\n",
      "Phase 2: Working on Limb L3\n",
      "nodes_to_eliminate = [6]\n",
      "\n",
      "Phase 2: Working on Limb L4\n",
      "nodes_to_eliminate = [0 1 2 4 6]\n",
      "\n",
      "Phase 2: Working on Limb L5\n",
      "nodes_to_eliminate = [2]\n",
      "\n",
      "Phase 2: Working on Limb L6\n",
      "nodes_to_eliminate = []\n",
      "\n",
      "----Working on Limb L1-----\n",
      "No endpoints were eliminated so don't need to add back any candidates\n",
      "\n",
      "----Working on Limb L2-----\n",
      "No nodes were eliminated so don't need to add back any candidates\n",
      "\n",
      "----Working on Limb L3-----\n",
      "No endpoints were eliminated so don't need to add back any candidates\n",
      "\n",
      "----Working on Limb L4-----\n",
      "No endpoints were eliminated so don't need to add back any candidates\n",
      "\n",
      "----Working on Limb L5-----\n",
      "No endpoints were eliminated so don't need to add back any candidates\n",
      "\n",
      "----Working on Limb L6-----\n",
      "No nodes were eliminated so don't need to add back any candidates\n",
      "Final Candidates\n",
      "\n",
      "Limb 1\n",
      "Candidate 0 (orange): array([0, 1, 2, 3, 5, 6, 9])\n",
      "Candidate 1 (brown): array([ 4,  8, 10, 11, 12, 13, 14, 15, 16, 17, 18, 19, 20, 21, 22, 23, 24,\n",
      "       25, 26, 27, 28, 29, 30, 31, 32, 33, 34, 35, 36])\n",
      "\n",
      "Limb 2\n",
      "Candidate 0 (tan): array([ 0,  1,  2,  3,  4,  5,  6,  7,  8,  9, 10, 11, 12, 13, 14, 15, 16,\n",
      "       17, 18, 19, 20, 21, 22, 23, 24, 25, 26, 27, 28, 29, 30, 31, 32, 33,\n",
      "       34])\n",
      "\n",
      "Limb 3\n",
      "Candidate 0 (green): array([1, 3, 4])\n",
      "Candidate 1 (pink): array([0, 2, 5])\n",
      "\n",
      "Limb 4\n",
      "Candidate 0 (gray): array([7])\n",
      "Candidate 1 (olive): array([8])\n",
      "Candidate 2 (sandybrown): array([13,  5, 14])\n",
      "Candidate 3 (green): array([ 9, 10,  3])\n",
      "Candidate 4 (brown): array([11])\n",
      "Candidate 5 (forestgreen): array([12])\n",
      "\n",
      "Limb 5\n",
      "Candidate 0 (tan): array([0])\n",
      "Candidate 1 (orange): array([1])\n",
      "\n",
      "Limb 6\n",
      "Candidate 0 (green): array([0])\n",
      "Part 3: axon_subgraph_candidates = {1: [[0, 1, 2, 3, 5, 6, 9], [4, 8, 10, 11, 12, 13, 14, 15, 16, 17, 18, 19, 20, 21, 22, 23, 24, 25, 26, 27, 28, 29, 30, 31, 32, 33, 34, 35, 36]], 2: [[0, 1, 2, 3, 4, 5, 6, 7, 8, 9, 10, 11, 12, 13, 14, 15, 16, 17, 18, 19, 20, 21, 22, 23, 24, 25, 26, 27, 28, 29, 30, 31, 32, 33, 34]], 3: [[1, 3, 4], [0, 2, 5]], 4: [[7], [8], [13, 5, 14], [9, 10, 3], [11], [12]], 5: [[0], [1]], 6: [[0]]}\n",
      "\n",
      "\n",
      " --- Working on limb 1, candidate # 0\n",
      "0 out of 7 branches are axons\n",
      "Axon percentage = 0.0\n",
      "Not adding candidate no axon branches detected \n",
      "\n",
      "\n",
      " --- Working on limb 1, candidate # 1\n",
      "26 out of 29 branches are axons\n",
      "Axon percentage = 0.896551724137931\n",
      "curr_axon_angle_threshold = 95\n",
      "candidate_nodes = [ 4  7  8 10 11 12 13 14 15 16 17 18 19 20 21 22 23 24 25 26 27 28 29 30\n",
      " 31 32 33 34 35 36]\n",
      "non_axon_branches_on_subgraph = [ 7  8 10 14]\n",
      "endnodes_to_test = []\n",
      "Not adding candidate because no angles (None) passed the threhold 95 \n",
      "\n",
      "\n",
      " --- Working on limb 2, candidate # 0\n",
      "32 out of 35 branches are axons\n",
      "Axon percentage = 0.9142857142857143\n",
      "curr_axon_angle_threshold = 95\n",
      "candidate_nodes = [ 0  1  2  3  4  5  6  7  8  9 10 11 12 13 14 15 16 17 18 19 20 21 22 23\n",
      " 24 25 26 27 28 29 30 31 32 33 34]\n",
      "non_axon_branches_on_subgraph = [ 7 16 20]\n",
      "endnodes_to_test = [4653]\n",
      "Skeleton paths distances = [24928.35836499]\n",
      "Filtered indexes = [0]\n",
      "len(filtered_skeletons) = 1\n",
      "sk_angles = [162.3671594]\n",
      "base_final_widths = [ 39.07535702 509.317415   485.30115201]\n",
      "overall_ais_width = 286.4971068035236\n",
      "ais_width = 344.56464134367457\n",
      "Adding the following branches as true axons: [ 0.  1.  2.  3.  4.  5.  6.  7.  8.  9. 10. 11. 12. 13. 14. 15. 16. 17.\n",
      " 18. 19. 20. 21. 22. 23. 24. 25. 26. 27. 28. 29. 30. 31. 32. 33. 34.]\n",
      "curr_soma_angle = 143.58\n",
      "max_axon_angle = 162.36715939951648\n",
      "Changing to a better axon candidate\n",
      "\n",
      "\n",
      " --- Working on limb 3, candidate # 0\n",
      "0 out of 3 branches are axons\n",
      "Axon percentage = 0.0\n",
      "Not adding candidate no axon branches detected \n",
      "\n",
      "\n",
      " --- Working on limb 3, candidate # 1\n",
      "0 out of 3 branches are axons\n",
      "Axon percentage = 0.0\n",
      "Not adding candidate no axon branches detected \n",
      "\n",
      "\n",
      " --- Working on limb 4, candidate # 0\n",
      "0 out of 1 branches are axons\n",
      "Axon percentage = 0.0\n",
      "Not adding candidate no axon branches detected \n",
      "\n",
      "\n",
      " --- Working on limb 4, candidate # 1\n",
      "0 out of 1 branches are axons\n",
      "Axon percentage = 0.0\n",
      "Not adding candidate no axon branches detected \n",
      "\n",
      "\n",
      " --- Working on limb 4, candidate # 2\n",
      "0 out of 3 branches are axons\n",
      "Axon percentage = 0.0\n",
      "Not adding candidate no axon branches detected \n",
      "\n",
      "\n",
      " --- Working on limb 4, candidate # 3\n",
      "0 out of 3 branches are axons\n",
      "Axon percentage = 0.0\n",
      "Not adding candidate no axon branches detected \n",
      "\n",
      "\n",
      " --- Working on limb 4, candidate # 4\n",
      "1 out of 1 branches are axons\n",
      "Axon percentage = 1.0\n",
      "curr_axon_angle_threshold = 95\n",
      "candidate_nodes = [ 0  2  6 11]\n",
      "non_axon_branches_on_subgraph = [0 2 6]\n",
      "endnodes_to_test = [111]\n",
      "Skeleton paths distances = [15883.00818887]\n",
      "Filtered indexes = []\n",
      "len(filtered_skeletons) = 1\n",
      "sk_angles = [117.1495631]\n",
      "base_final_widths = [250.21864977 215.77747744 246.48667656]\n",
      "overall_ais_width = 250.2186497680072\n",
      "ais_width = 237.49426792031716\n",
      "Adding the following branches as true axons: [11]\n",
      "curr_soma_angle = 92.06\n",
      "max_axon_angle = 117.14956309581821\n",
      "\n",
      "\n",
      " --- Working on limb 4, candidate # 5\n",
      "0 out of 1 branches are axons\n",
      "Axon percentage = 0.0\n",
      "Not adding candidate no axon branches detected \n",
      "\n",
      "\n",
      " --- Working on limb 5, candidate # 0\n",
      "0 out of 1 branches are axons\n",
      "Axon percentage = 0.0\n",
      "Not adding candidate no axon branches detected \n",
      "\n",
      "\n",
      " --- Working on limb 5, candidate # 1\n",
      "0 out of 1 branches are axons\n",
      "Axon percentage = 0.0\n",
      "Not adding candidate no axon branches detected \n",
      "\n",
      "\n",
      " --- Working on limb 6, candidate # 0\n",
      "0 out of 1 branches are axons\n",
      "Axon percentage = 0.0\n",
      "Not adding candidate no axon branches detected \n",
      "Using the best axon approach\n",
      "Using True\n",
      "Limb L2: Axon branches before dendritic path filter = [ 0.  1.  2.  3.  4.  5.  6.  7.  8.  9. 10. 11. 12. 13. 14. 15. 16. 17.\n",
      " 18. 19. 20. 21. 22. 23. 24. 25. 26. 27. 28. 29. 30. 31. 32. 33. 34.]\n",
      "Limb L2: Axon branches AFTER dendritic path filter = [ 0.  1.  2.  3.  4.  5.  6.  7.  8.  9. 10. 11. 12. 13. 14. 15. 16. 17.\n",
      " 18. 19. 20. 21. 22. 23. 24. 25. 26. 27. 28. 29. 30. 31. 32. 33. 34.]\n",
      "\n",
      "\n",
      "Part 4: final_true_axons = {'L2': array([ 0.,  1.,  2.,  3.,  4.,  5.,  6.,  7.,  8.,  9., 10., 11., 12.,\n",
      "       13., 14., 15., 16., 17., 18., 19., 20., 21., 22., 23., 24., 25.,\n",
      "       26., 27., 28., 29., 30., 31., 32., 33., 34.])}\n",
      "\n",
      "--- Working on filter 0:\n",
      "function = dendrite_on_axon_merges\n",
      "function __name__ = filter_away_dendrite_on_axon_merges\n",
      "function arguments = {'use_pre_existing_axon_labels': True}\n",
      "\n",
      "\n",
      "\n",
      "\n",
      "\n",
      " ---- Total time for applying filter: 19.556753635406494 -----\n",
      "Starting axon branch was the starting node so using border vertices and NOT computing upstream branch\n",
      "upstream_node_to_axon_starting_branch = None\n"
     ]
    },
    {
     "name": "stderr",
     "output_type": "stream",
     "text": [
      "\r",
      "  0%|          | 0/1 [00:00<?, ?it/s]"
     ]
    },
    {
     "name": "stdout",
     "output_type": "stream",
     "text": [
      "More than 1 seperated mesh (taking the top one): [<trimesh.Trimesh(vertices.shape=(46066, 3), faces.shape=(91864, 3))>\n",
      " <trimesh.Trimesh(vertices.shape=(394, 3), faces.shape=(768, 3))>]\n",
      "root_curr = [1393364.   505701.   823141.3]\n",
      "Time for preparing soma vertices and root: 0.00038504600524902344\n",
      "invalidation_d = 1500\n",
      "smooth_neighborhood = 0\n",
      "cc_vertex_thresh = 10\n"
     ]
    },
    {
     "name": "stderr",
     "output_type": "stream",
     "text": [
      "100%|██████████| 1/1 [00:00<00:00,  1.24it/s]\n"
     ]
    },
    {
     "name": "stdout",
     "output_type": "stream",
     "text": [
      "meshparty_segment_size = 100\n",
      "Time for 1st pass MP skeletonization: 1.3437154293060303\n",
      "branches_touching_root = [8, 26, 51]\n",
      "combining close nodes\n",
      "combine_threshold = 1300\n",
      "length of Graph = 12873\n",
      "After combining close endpoints max(kept_branches_idx) = 76, len(kept_branches_idx) = 73\n",
      "empty_indices % = 0.0\n",
      " conflict_indices % = 0.01939333122457216\n",
      "AFTER face_lookup_resolved_test\n",
      "Decomposing first pass: 6.234182119369507\n",
      "Only Using MeshParty Skeletonization and Mesh Correspondence\n",
      "Another print\n",
      "Divinding into MP and MAP pieces: 2.1219253540039062e-05\n",
      "Total time for MAP sublimb processing 2.86102294921875e-06\n",
      "---- Working on MP Decomposition #0 ----\n",
      "Using Quicker soma_to_piece_touching_vertices because no MAP and only one sublimb_mesh piece \n",
      "MP filtering soma verts: 4.8160552978515625e-05\n",
      "Fixing Possible Soma Extension Branch for Sublimb 0\n",
      "Total time for mesh KDTree = 0.004918813705444336\n",
      "sbv[0].reshape(-1,3) = [[1393364.   505701.   823141.3]]\n",
      "closest_sk_pt_coord BEFORE = [1393346.71583676  505967.72934159  822991.3751618 ]\n",
      "current_skeleton.shape = (62, 2, 3)\n",
      "node_for_stitch = 25: [1393346.71583676  505967.72934159  822991.3751618 ]\n",
      "node_for_stitch AFTER = 25: [1393346.71583676  505967.72934159  822991.3751618 ]\n",
      "possible_node_loc = [ 0 15 20]\n",
      "possible_node_loc AFTER = [ 0 15 20]\n",
      "curr_shortest_path = [25, 23.0, 21.0, 18.0, 17.0, 15.0]\n",
      "Current stitch point was not a branch or endpoint, shortest_path_length to one = 428.00232727477703\n",
      "Changing the stitch point becasue the distance to end or branch node was 428.00232727477703\n",
      "New stitch point has degree 1\n",
      "change_status for create soma extending pieces = True\n",
      "closest_sk_pt_coord AFTER = [1393148.   505609.1  822995.2]\n",
      "skipping soma 0 because closest skeleton node was already end node\n",
      "endpoints_must_keep = {0: array([[1393148. ,  505609.1,  822995.2]])}\n",
      "match_sk_branches = [47]\n",
      "The new branch info was none so skipping \n",
      "\n",
      "No soma extending branch was added for this sublimb even though it had a soma border (means they already existed)\n",
      "MP (because soma touching verts) soma extension add: 1.8589529991149902\n",
      "There were not both MAP and MP pieces so skipping the stitch resolving phase\n",
      "Time for decomp of Limb = 9.827624559402466\n",
      "Number of matching vertices = 27\n",
      "Only one endpoint after filtering away the endpoints that are not on the skeleton\n",
      "Using Distance measure skeletal_distance\n",
      "endpoints_must_keep = [[1393148.   505609.1  822995.2]]\n",
      "Number of end_nodes BEFORE filtering = 40\n",
      "all_single_nodes_to_eliminate = [22]\n",
      "no small end nodes to get rid of so returning whole skeleton\n",
      "Removed 0 skeletal branches\n",
      "91863 91864\n",
      "For marked faces: None\n",
      "empty_indices % = 0.0\n",
      " conflict_indices % = 0.0\n",
      "AFTER face_lookup_resolved_test\n",
      "Limb Correspondence before stitching = 73\n",
      "Filtering away non soma floating pieces near the soma\n",
      "Before filter # of pieces = 0\n",
      "AFTER filter # of pieces = 0\n",
      "Limb Correspondence AFTER stitching = 74\n",
      "Upstream node was None so don't have to adjust\n",
      "concept_network_dict = {0: [<networkx_utils.GraphOrderedEdges object at 0x7fddad3c2198>]}\n",
      "Assigning the old width calculation because no valid new widths\n",
      "\n",
      "\n",
      "----Working on seperate_graph 0----\n",
      "\n",
      "\n",
      "---------Working on soma_idx = 0, soma_group_idx 0, endpt = [1393148.   505609.1  822995.2]---------\n",
      "Starting_edge inside branches_to_conept = [[1393148.   505609.1  822995.2]\n",
      " [1393266.   505795.5  823053. ]]\n",
      "At the start, starting_node (in terms of the skeleton, that shouldn't match the starting edge) = [42]\n",
      "printing out current edge:\n",
      "[[1393148.   505609.1  822995.2]\n",
      " [1393266.   505795.5  823053. ]]\n",
      "edge_endpoints_to_process was empty so exiting loop after 74 iterations\n",
      "starting_node in concept map (that should match the starting edge) = 45\n",
      "Total time for branches to concept conversion = 0.6653540134429932\n",
      "\n",
      "Done generating concept network \n",
      "\n",
      "\n"
     ]
    }
   ],
   "source": [
    "neuron_obj_s_ax = au.complete_axon_processing(neuron_obj_s,\n",
    "                                     verbose=True)"
   ]
  },
  {
   "cell_type": "code",
   "execution_count": 89,
   "metadata": {},
   "outputs": [
    {
     "name": "stdout",
     "output_type": "stream",
     "text": [
      "\n",
      " Working on visualization type: mesh\n",
      "\n",
      " Working on visualization type: skeleton\n"
     ]
    },
    {
     "data": {
      "application/vnd.jupyter.widget-view+json": {
       "model_id": "26ed5ac91f8245c585c74821846d8105",
       "version_major": 2,
       "version_minor": 0
      },
      "text/plain": [
       "VBox(children=(Figure(camera=PerspectiveCamera(fov=46.0, position=(0.0, 0.0, 2.0), projectionMatrix=(1.0, 0.0,…"
      ]
     },
     "metadata": {},
     "output_type": "display_data"
    }
   ],
   "source": [
    "nviz.visualize_neuron(neuron_obj_s_ax,\n",
    "                     limb_branch_dict=\"all\")"
   ]
  },
  {
   "cell_type": "code",
   "execution_count": 91,
   "metadata": {},
   "outputs": [
    {
     "name": "stdout",
     "output_type": "stream",
     "text": [
      "Saving Neuorn in suppress_output mode...please wait\n",
      "Saved File at location: 864691136664412413_0_25_soma_0_split_axon_v5\n"
     ]
    }
   ],
   "source": [
    "neuron_obj_s_ax.save_compressed_neuron(\"./\",\n",
    "                                   export_mesh=False)"
   ]
  },
  {
   "cell_type": "code",
   "execution_count": 93,
   "metadata": {},
   "outputs": [
    {
     "name": "stdout",
     "output_type": "stream",
     "text": [
      "Decompressing Neuron in minimal output mode...please wait\n",
      "\n",
      " Working on visualization type: mesh\n",
      "\n",
      " Working on visualization type: skeleton\n"
     ]
    },
    {
     "data": {
      "application/vnd.jupyter.widget-view+json": {
       "model_id": "31dfb377b9814a3ea3dc0cbe64f5c0fa",
       "version_major": 2,
       "version_minor": 0
      },
      "text/plain": [
       "VBox(children=(Figure(camera=PerspectiveCamera(fov=46.0, position=(0.0, 0.0, 2.0), projectionMatrix=(1.0, 0.0,…"
      ]
     },
     "metadata": {},
     "output_type": "display_data"
    }
   ],
   "source": [
    "neuron_obj_s_ax_rec = nru.decompress_neuron(\"864691136664412413_0_25_soma_0_split_axon_v5\",\n",
    "                                        original_mesh=du.fetch_segment_id_mesh(864691136664412413))\n",
    "nviz.visualize_neuron(neuron_obj_s_ax_rec,\n",
    "                     limb_branch_dict=\"all\")"
   ]
  },
  {
   "cell_type": "markdown",
   "metadata": {},
   "source": [
    "# D) Doing the Proofreading"
   ]
  },
  {
   "cell_type": "code",
   "execution_count": null,
   "metadata": {},
   "outputs": [],
   "source": []
  },
  {
   "cell_type": "code",
   "execution_count": 95,
   "metadata": {},
   "outputs": [
    {
     "data": {
      "text/html": [
       "\n",
       "        \n",
       "        <style type=\"text/css\">\n",
       "            .Relation{\n",
       "                border-collapse:collapse;\n",
       "            }\n",
       "            .Relation th{\n",
       "                background: #A0A0A0; color: #ffffff; padding:4px; border:#f0e0e0 1px solid;\n",
       "                font-weight: normal; font-family: monospace; font-size: 100%;\n",
       "            }\n",
       "            .Relation td{\n",
       "                padding:4px; border:#f0e0e0 1px solid; font-size:100%;\n",
       "            }\n",
       "            .Relation tr:nth-child(odd){\n",
       "                background: #ffffff;\n",
       "            }\n",
       "            .Relation tr:nth-child(even){\n",
       "                background: #f3f1ff;\n",
       "            }\n",
       "            /* Tooltip container */\n",
       "            .djtooltip {\n",
       "            }\n",
       "            /* Tooltip text */\n",
       "            .djtooltip .djtooltiptext {\n",
       "                visibility: hidden;\n",
       "                width: 120px;\n",
       "                background-color: black;\n",
       "                color: #fff;\n",
       "                text-align: center;\n",
       "                padding: 5px 0;\n",
       "                border-radius: 6px;\n",
       "                /* Position the tooltip text - see examples below! */\n",
       "                position: absolute;\n",
       "                z-index: 1;\n",
       "            }\n",
       "            #primary {\n",
       "                font-weight: bold;\n",
       "                color: black;\n",
       "            }\n",
       "\n",
       "            #nonprimary {\n",
       "                font-weight: normal;\n",
       "                color: white;\n",
       "            }\n",
       "\n",
       "            /* Show the tooltip text when you mouse over the tooltip container */\n",
       "            .djtooltip:hover .djtooltiptext {\n",
       "                visibility: visible;\n",
       "            }\n",
       "        </style>\n",
       "        \n",
       "        <b></b>\n",
       "            <div style=\"max-height:1000px;max-width:1500px;overflow:auto;\">\n",
       "            <table border=\"1\" class=\"Relation\">\n",
       "                <thead> <tr style=\"text-align: right;\"> <th> <div class=\"djtooltip\">\n",
       "                                <p id=\"primary\">ver</p>\n",
       "                                <span class=\"djtooltiptext\">materialization version</span>\n",
       "                            </div></th><th><div class=\"djtooltip\">\n",
       "                                <p id=\"primary\">nucleus_id</p>\n",
       "                                <span class=\"djtooltiptext\">nucleus id</span>\n",
       "                            </div></th><th><div class=\"djtooltip\">\n",
       "                                <p id=\"primary\">segment_id</p>\n",
       "                                <span class=\"djtooltiptext\">the segment id in the proofread version</span>\n",
       "                            </div></th><th><div class=\"djtooltip\">\n",
       "                                <p id=\"primary\">old_ver</p>\n",
       "                                <span class=\"djtooltiptext\">materialization version</span>\n",
       "                            </div></th><th><div class=\"djtooltip\">\n",
       "                                <p id=\"nonprimary\">old_segment_id</p>\n",
       "                                <span class=\"djtooltiptext\">the segment id in the proofread version--</span>\n",
       "                            </div></th><th><div class=\"djtooltip\">\n",
       "                                <p id=\"nonprimary\">finished_dendrite</p>\n",
       "                                <span class=\"djtooltiptext\">whether axon was finished cleaning</span>\n",
       "                            </div></th><th><div class=\"djtooltip\">\n",
       "                                <p id=\"nonprimary\">finished_axon</p>\n",
       "                                <span class=\"djtooltiptext\">whether axon was finished cleaning</span>\n",
       "                            </div></th><th><div class=\"djtooltip\">\n",
       "                                <p id=\"nonprimary\">extension_type</p>\n",
       "                                <span class=\"djtooltiptext\"></span>\n",
       "                            </div></th><th><div class=\"djtooltip\">\n",
       "                                <p id=\"nonprimary\">n_somas</p>\n",
       "                                <span class=\"djtooltiptext\"></span>\n",
       "                            </div></th><th><div class=\"djtooltip\">\n",
       "                                <p id=\"nonprimary\">n_soma_mergers</p>\n",
       "                                <span class=\"djtooltiptext\"></span>\n",
       "                            </div></th><th><div class=\"djtooltip\">\n",
       "                                <p id=\"nonprimary\">n_glia</p>\n",
       "                                <span class=\"djtooltiptext\"></span>\n",
       "                            </div></th><th><div class=\"djtooltip\">\n",
       "                                <p id=\"nonprimary\">large_splits</p>\n",
       "                                <span class=\"djtooltiptext\"></span>\n",
       "                            </div></th><th><div class=\"djtooltip\">\n",
       "                                <p id=\"nonprimary\">notes</p>\n",
       "                                <span class=\"djtooltiptext\"></span>\n",
       "                            </div> </th> </tr> </thead>\n",
       "                <tbody> <tr> <td>88.00</td>\n",
       "<td>610615</td>\n",
       "<td>864691135367284729</td>\n",
       "<td>0.08</td>\n",
       "<td>864691136664412413</td>\n",
       "<td>True</td>\n",
       "<td>True</td>\n",
       "<td>partial</td>\n",
       "<td>2</td>\n",
       "<td>0</td>\n",
       "<td>0</td>\n",
       "<td>0</td>\n",
       "<td>half soma merge</td> </tr> </tbody>\n",
       "            </table>\n",
       "            \n",
       "            <p>Total: 1</p></div>\n",
       "            "
      ],
      "text/plain": [
       "*ver      *nucleus_id    *segment_id    *old_ver    old_segment_id finished_dendr finished_axon  extension_type n_somas     n_soma_mergers n_glia     large_splits   notes         \n",
       "+-------+ +------------+ +------------+ +---------+ +------------+ +------------+ +------------+ +------------+ +---------+ +------------+ +--------+ +------------+ +------------+\n",
       "88.00     610615         86469113536728 0.08        86469113666441 True           True           partial        2           0              0          0              half soma merg\n",
       " (Total: 1)"
      ]
     },
     "execution_count": 95,
     "metadata": {},
     "output_type": "execute_result"
    }
   ],
   "source": [
    "minnie.AutoProofreadValidationSegmentMap4() & f\"old_segment_id={neuron_obj_s_ax_rec.segment_id}\""
   ]
  },
  {
   "cell_type": "code",
   "execution_count": 96,
   "metadata": {},
   "outputs": [],
   "source": [
    "import validation_utils as vu\n",
    "import proofreading_utils as pru"
   ]
  },
  {
   "cell_type": "code",
   "execution_count": 107,
   "metadata": {
    "scrolled": true
   },
   "outputs": [
    {
     "name": "stdout",
     "output_type": "stream",
     "text": [
      "\n",
      "*****Using v4 Filters!!!\n",
      "\n",
      "\n",
      "\n",
      "--- Working on filter 0:\n",
      "function = axon_on_dendrite_merges\n",
      "function __name__ = filter_away_axon_on_dendrite_merges\n",
      "function arguments = {'use_pre_existing_axon_labels': True}\n",
      "\n",
      "\n",
      "\n",
      "--- Working on filter 1:\n",
      "function = high_degree_branching\n",
      "function __name__ = filter_away_high_degree_branching\n",
      "function arguments = {'offset': 1500, 'comparison_distance': 2000, 'worst_case_match_threshold': 65, 'width_diff_max': 75, 'width_diff_perc': 60, 'match_threshold': 45, 'angle_buffer': 15, 'max_degree_to_resolve': 6, 'max_degree_to_resolve_wide': 8, 'match_method': 'best_match', 'kiss_check': True, 'kiss_check_bbox_longest_side_threshold': 450}\n",
      "\n",
      "\n",
      "\n",
      "\n",
      " ----- Working on coordinate 0: [1394939.91585558  655937.45908417  779524.11123894]--------\n",
      "kiss_check = True\n",
      "Working on Kissing check because possible upstream matches greater than 1: [40, 51]\n",
      "short_thick_endnodes_to_remove = [14 21 32 48 52]\n",
      "winning_downstream = 40,error_downstream = [51 57] \n",
      "coordinate [1394939.91585558  655937.45908417  779524.11123894] had error branches [51 57]--------\n",
      "\n",
      "\n",
      " ----- Working on coordinate 1: [1396757.35421907  562352.3151575   820944.66757196]--------\n",
      "kiss_check = True\n",
      "Working on Kissing check because possible upstream matches greater than 1: [61, 62]\n",
      "short_thick_endnodes_to_remove = [14 21 32 48 52]\n",
      "winning_downstream = 61,error_downstream = [56 62] \n",
      "coordinate [1396757.35421907  562352.3151575   820944.66757196] had error branches [56 62]--------\n",
      "\n",
      "\n",
      " ----- Working on coordinate 2: [1403818.76730342  637402.59127478  784177.72656763]--------\n",
      "kiss_check = True\n",
      "short_thick_endnodes_to_remove = [14 21 32 48 52]\n",
      "winning_downstream = 58,error_downstream = [59 68] \n",
      "coordinate [1403818.76730342  637402.59127478  784177.72656763] had error branches [59 68]--------\n",
      "\n",
      "\n",
      " ----- Working on coordinate 3: [1404225.07446173  618937.68723013  790038.85355178]--------\n",
      "kiss_check = True\n",
      "short_thick_endnodes_to_remove = [14 21 32 48 52]\n",
      "winning_downstream = None,error_downstream = [63 64 69] \n",
      "coordinate [1404225.07446173  618937.68723013  790038.85355178] had error branches [63 64 69]--------\n",
      "limb_branch_dict_to_cancel = {'L2': array([51, 57, 56, 62, 59, 68, 63, 64, 69])}\n",
      "\n",
      "--- Working on filter 2:\n",
      "function = axon_webbing_t_merges\n",
      "function __name__ = filter_away_webbing_t_merges\n",
      "function arguments = {'child_width_maximum': 75, 'parent_width_maximum': 75, 'axon_only': True, 'error_if_web_is_none': True, 'web_size_threshold': 120, 'web_size_type': 'ray_trace_median', 'web_above_threshold': True}\n",
      "\n",
      "\n",
      "limb_branch_dict_to_cancel = {}\n",
      "\n",
      "--- Working on filter 3:\n",
      "function = thick_t_merge\n",
      "function __name__ = filter_away_thick_t_merge\n",
      "function arguments = {}\n",
      "\n",
      "\n",
      "limb_branch_dict_to_cancel = {}\n",
      "\n",
      "--- Working on filter 4:\n",
      "function = double_back_and_width_change\n",
      "function __name__ = filter_away_large_double_back_or_width_changes\n",
      "function arguments = {'perform_double_back_errors': True, 'skip_double_back_errors_for_axon': False, 'width_jump_threshold': 250, 'running_width_jump_method': True, 'double_back_axon_like_threshold': 145, 'double_back_threshold': 120, 'allow_axon_double_back_angle_with_top': None, 'allow_axon_double_back_angle_with_top_width_min': 140, 'skeletal_length_to_skip': 4000, 'comparison_distance': 3000, 'perform_width_errors': True, 'perform_axon_width_errors': False}\n",
      "\n",
      "\n",
      "limb_branch_dict_to_cancel = {}\n",
      "\n",
      "--- Working on filter 5:\n",
      "function = axon_fork_divergence\n",
      "function __name__ = filter_away_small_axon_fork_divergence\n",
      "function arguments = {'divergence_threshold_mean': 165}\n",
      "\n",
      "\n",
      "limb_branch_dict_to_cancel = {}\n",
      "\n",
      "\n",
      "\n",
      " ---- Total time for applying filter: 52.823588132858276 -----\n",
      "\n",
      "--- Finished Part 1: Filtering Neuron -----\n",
      "Apply the presyn non_error\n",
      "For presyn: # valid synapses = 23, # error synapses  = 178, # error presyns = 22\n",
      "For postsyn: # valid synapses = 3293, # error synapses  = 137, # error presyns = 0\n",
      "presyn_error = [419362367 422808939 422809008 424140154 430109322 430109426 440968063\n",
      " 444674099 445528777 449652915 449652945 449653027 449986336 450160629\n",
      " 451371189 451471179 452118218 452118413 452118559 452118871 452641227\n",
      " 459058850]\n",
      "\n",
      "--- Finished Part 2: Filtering Synapses -----\n",
      "Synapsse Results:\n",
      "Total Number of Synapses = 3631\n",
      "n_valid_syn_ids_presyn = 23\n",
      "n_errored_syn_ids_presyn = 178\n",
      "n_valid_syn_ids_postsyn = 3293\n",
      "n_errored_syn_ids_postsyn = 137\n",
      "Synapsse Results:\n",
      "Total Number of Synapses = 3631\n",
      "n_valid_syn_ids_presyn = 23\n",
      "n_errored_syn_ids_presyn = 178\n",
      "n_valid_syn_ids_postsyn = 3293\n",
      "n_errored_syn_ids_postsyn = 137\n",
      "\n",
      "--- Finished Part 3: Generating Validation Dataframe -----\n"
     ]
    }
   ],
   "source": [
    "(filt_neuron,\n",
    " return_synapse_df_revised,\n",
    " return_synapse_df_errors,\n",
    "return_validation_df_revised,\n",
    "return_validation_df_extension) =  vu.filtered_neuron_score(neuron_obj = neuron_obj_s_ax_rec,   \n",
    "                    filter_list = pru.v4_exc_filters(),\n",
    "                    plot_limb_branch_filter_with_disconnect_effect = False,\n",
    "                    verbose = True,\n",
    "                    plot_score=False,\n",
    "                    nucleus_id = 610615,\n",
    "                    return_synapse_df_errors=True,\n",
    "                    return_validation_df_extension = True,                                        \n",
    "                    split_index=0)"
   ]
  },
  {
   "cell_type": "code",
   "execution_count": 110,
   "metadata": {},
   "outputs": [
    {
     "name": "stdout",
     "output_type": "stream",
     "text": [
      "\n",
      " Working on visualization type: mesh\n",
      "\n",
      " Working on visualization type: skeleton\n"
     ]
    },
    {
     "data": {
      "application/vnd.jupyter.widget-view+json": {
       "model_id": "cd675fddb57549d9836632f732bea438",
       "version_major": 2,
       "version_minor": 0
      },
      "text/plain": [
       "VBox(children=(Figure(camera=PerspectiveCamera(fov=46.0, position=(0.0, 0.0, 2.0), projectionMatrix=(1.0, 0.0,…"
      ]
     },
     "metadata": {},
     "output_type": "display_data"
    }
   ],
   "source": [
    "nviz.visualize_neuron(filt_neuron,\n",
    "                     limb_branch_dict=\"all\"\n",
    "                     )"
   ]
  },
  {
   "cell_type": "code",
   "execution_count": 111,
   "metadata": {},
   "outputs": [
    {
     "name": "stdout",
     "output_type": "stream",
     "text": [
      "Saving Neuorn in suppress_output mode...please wait\n",
      "Saved File at location: 864691136664412413_0_25_soma_0_split_axon_v5\n"
     ]
    }
   ],
   "source": [
    "filt_neuron.save_compressed_neuron(\"./\",\n",
    "                                   export_mesh=False)"
   ]
  },
  {
   "cell_type": "code",
   "execution_count": 113,
   "metadata": {},
   "outputs": [
    {
     "name": "stdout",
     "output_type": "stream",
     "text": [
      "Decompressing Neuron in minimal output mode...please wait\n",
      "\n",
      " Working on visualization type: mesh\n",
      "\n",
      " Working on visualization type: skeleton\n"
     ]
    },
    {
     "data": {
      "application/vnd.jupyter.widget-view+json": {
       "model_id": "fa63fae49d2c48af85215cc7f052ab00",
       "version_major": 2,
       "version_minor": 0
      },
      "text/plain": [
       "VBox(children=(Figure(camera=PerspectiveCamera(fov=46.0, position=(0.0, 0.0, 2.0), projectionMatrix=(1.0, 0.0,…"
      ]
     },
     "metadata": {},
     "output_type": "display_data"
    }
   ],
   "source": [
    "filt_neuron_rec = nru.decompress_neuron(\"864691136664412413_0_25_soma_0_split_axon_v5\",\n",
    "                                        original_mesh=du.fetch_segment_id_mesh(864691136664412413))\n",
    "nviz.visualize_neuron(filt_neuron_rec,\n",
    "                     limb_branch_dict=\"all\")"
   ]
  },
  {
   "cell_type": "code",
   "execution_count": 114,
   "metadata": {},
   "outputs": [
    {
     "data": {
      "text/html": [
       "\n",
       "        \n",
       "        <style type=\"text/css\">\n",
       "            .Relation{\n",
       "                border-collapse:collapse;\n",
       "            }\n",
       "            .Relation th{\n",
       "                background: #A0A0A0; color: #ffffff; padding:4px; border:#f0e0e0 1px solid;\n",
       "                font-weight: normal; font-family: monospace; font-size: 100%;\n",
       "            }\n",
       "            .Relation td{\n",
       "                padding:4px; border:#f0e0e0 1px solid; font-size:100%;\n",
       "            }\n",
       "            .Relation tr:nth-child(odd){\n",
       "                background: #ffffff;\n",
       "            }\n",
       "            .Relation tr:nth-child(even){\n",
       "                background: #f3f1ff;\n",
       "            }\n",
       "            /* Tooltip container */\n",
       "            .djtooltip {\n",
       "            }\n",
       "            /* Tooltip text */\n",
       "            .djtooltip .djtooltiptext {\n",
       "                visibility: hidden;\n",
       "                width: 120px;\n",
       "                background-color: black;\n",
       "                color: #fff;\n",
       "                text-align: center;\n",
       "                padding: 5px 0;\n",
       "                border-radius: 6px;\n",
       "                /* Position the tooltip text - see examples below! */\n",
       "                position: absolute;\n",
       "                z-index: 1;\n",
       "            }\n",
       "            #primary {\n",
       "                font-weight: bold;\n",
       "                color: black;\n",
       "            }\n",
       "\n",
       "            #nonprimary {\n",
       "                font-weight: normal;\n",
       "                color: white;\n",
       "            }\n",
       "\n",
       "            /* Show the tooltip text when you mouse over the tooltip container */\n",
       "            .djtooltip:hover .djtooltiptext {\n",
       "                visibility: visible;\n",
       "            }\n",
       "        </style>\n",
       "        \n",
       "        <b></b>\n",
       "            <div style=\"max-height:1000px;max-width:1500px;overflow:auto;\">\n",
       "            <table border=\"1\" class=\"Relation\">\n",
       "                <thead> <tr style=\"text-align: right;\"> <th> <div class=\"djtooltip\">\n",
       "                                <p id=\"primary\">segment_id</p>\n",
       "                                <span class=\"djtooltiptext\">segment id unique within each Segmentation</span>\n",
       "                            </div></th><th><div class=\"djtooltip\">\n",
       "                                <p id=\"primary\">decimation_version</p>\n",
       "                                <span class=\"djtooltiptext\"></span>\n",
       "                            </div></th><th><div class=\"djtooltip\">\n",
       "                                <p id=\"primary\">decimation_ratio</p>\n",
       "                                <span class=\"djtooltiptext\">ratio of remaining mesh vertices/faces (which ones depends on what metric the decimation technique uses)</span>\n",
       "                            </div></th><th><div class=\"djtooltip\">\n",
       "                                <p id=\"primary\">ver</p>\n",
       "                                <span class=\"djtooltiptext\">the version number of the materializaiton</span>\n",
       "                            </div></th><th><div class=\"djtooltip\">\n",
       "                                <p id=\"primary\">process_version</p>\n",
       "                                <span class=\"djtooltiptext\">the version of the preprocessing pipeline run</span>\n",
       "                            </div></th><th><div class=\"djtooltip\">\n",
       "                                <p id=\"primary\">index</p>\n",
       "                                <span class=\"djtooltiptext\">the index of the neuron object that resulted from that mesh (indexed starting at 0)</span>\n",
       "                            </div></th><th><div class=\"djtooltip\">\n",
       "                                <p id=\"primary\">split_index</p>\n",
       "                                <span class=\"djtooltiptext\">the index of the neuron object that resulted AFTER THE SPLITTING ALGORITHM</span>\n",
       "                            </div></th><th><div class=\"djtooltip\">\n",
       "                                <p id=\"primary\">axon_version</p>\n",
       "                                <span class=\"djtooltiptext\">key by which to lookup the finer axon processing method</span>\n",
       "                            </div></th><th><div class=\"djtooltip\">\n",
       "                                <p id=\"nonprimary\">decomposition</p>\n",
       "                                <span class=\"djtooltiptext\">saved neuron object with high fidelity axon</span>\n",
       "                            </div></th><th><div class=\"djtooltip\">\n",
       "                                <p id=\"nonprimary\">axon_length</p>\n",
       "                                <span class=\"djtooltiptext\">length (in um) of the classified axon skeleton</span>\n",
       "                            </div></th><th><div class=\"djtooltip\">\n",
       "                                <p id=\"nonprimary\">run_time</p>\n",
       "                                <span class=\"djtooltiptext\">the amount of time to run (seconds)</span>\n",
       "                            </div> </th> </tr> </thead>\n",
       "                <tbody> <tr>  </tr> </tbody>\n",
       "            </table>\n",
       "            \n",
       "            <p>Total: 0</p></div>\n",
       "            "
      ],
      "text/plain": [
       "*segment_id    *decimation_ve *decimation_ra *ver    *process_versi *index    *split_index   *axon_version  decomposit axon_length    run_time    \n",
       "+------------+ +------------+ +------------+ +-----+ +------------+ +-------+ +------------+ +------------+ +--------+ +------------+ +----------+\n",
       "\n",
       " (Total: 0)"
      ]
     },
     "execution_count": 114,
     "metadata": {},
     "output_type": "execute_result"
    }
   ],
   "source": [
    "minnie.DecompositionAxon() & dict(segment_id=864691135367284729)"
   ]
  },
  {
   "cell_type": "code",
   "execution_count": 116,
   "metadata": {},
   "outputs": [
    {
     "data": {
      "text/plain": [
       "[864691135212632704, 864691136664412413, 864691135945461284]"
      ]
     },
     "execution_count": 116,
     "metadata": {},
     "output_type": "execute_result"
    }
   ],
   "source": [
    "# Deleted these from the DecompositionAxon\n",
    "[vu.new_to_old_segment_id(k) for k in [864691136227020113, 864691135367284729, 864691135415710906]]"
   ]
  },
  {
   "cell_type": "code",
   "execution_count": 117,
   "metadata": {},
   "outputs": [
    {
     "data": {
      "text/html": [
       "\n",
       "        \n",
       "        <style type=\"text/css\">\n",
       "            .Relation{\n",
       "                border-collapse:collapse;\n",
       "            }\n",
       "            .Relation th{\n",
       "                background: #A0A0A0; color: #ffffff; padding:4px; border:#f0e0e0 1px solid;\n",
       "                font-weight: normal; font-family: monospace; font-size: 100%;\n",
       "            }\n",
       "            .Relation td{\n",
       "                padding:4px; border:#f0e0e0 1px solid; font-size:100%;\n",
       "            }\n",
       "            .Relation tr:nth-child(odd){\n",
       "                background: #ffffff;\n",
       "            }\n",
       "            .Relation tr:nth-child(even){\n",
       "                background: #f3f1ff;\n",
       "            }\n",
       "            /* Tooltip container */\n",
       "            .djtooltip {\n",
       "            }\n",
       "            /* Tooltip text */\n",
       "            .djtooltip .djtooltiptext {\n",
       "                visibility: hidden;\n",
       "                width: 120px;\n",
       "                background-color: black;\n",
       "                color: #fff;\n",
       "                text-align: center;\n",
       "                padding: 5px 0;\n",
       "                border-radius: 6px;\n",
       "                /* Position the tooltip text - see examples below! */\n",
       "                position: absolute;\n",
       "                z-index: 1;\n",
       "            }\n",
       "            #primary {\n",
       "                font-weight: bold;\n",
       "                color: black;\n",
       "            }\n",
       "\n",
       "            #nonprimary {\n",
       "                font-weight: normal;\n",
       "                color: white;\n",
       "            }\n",
       "\n",
       "            /* Show the tooltip text when you mouse over the tooltip container */\n",
       "            .djtooltip:hover .djtooltiptext {\n",
       "                visibility: visible;\n",
       "            }\n",
       "        </style>\n",
       "        \n",
       "        <b></b>\n",
       "            <div style=\"max-height:1000px;max-width:1500px;overflow:auto;\">\n",
       "            <table border=\"1\" class=\"Relation\">\n",
       "                <thead> <tr style=\"text-align: right;\"> <th> <div class=\"djtooltip\">\n",
       "                                <p id=\"primary\">segment_id</p>\n",
       "                                <span class=\"djtooltiptext\">segment id unique within each Segmentation</span>\n",
       "                            </div></th><th><div class=\"djtooltip\">\n",
       "                                <p id=\"primary\">decimation_version</p>\n",
       "                                <span class=\"djtooltiptext\"></span>\n",
       "                            </div></th><th><div class=\"djtooltip\">\n",
       "                                <p id=\"primary\">decimation_ratio</p>\n",
       "                                <span class=\"djtooltiptext\">ratio of remaining mesh vertices/faces (which ones depends on what metric the decimation technique uses)</span>\n",
       "                            </div></th><th><div class=\"djtooltip\">\n",
       "                                <p id=\"primary\">ver</p>\n",
       "                                <span class=\"djtooltiptext\">the version number of the materializaiton</span>\n",
       "                            </div></th><th><div class=\"djtooltip\">\n",
       "                                <p id=\"primary\">process_version</p>\n",
       "                                <span class=\"djtooltiptext\">the version of the preprocessing pipeline run</span>\n",
       "                            </div></th><th><div class=\"djtooltip\">\n",
       "                                <p id=\"primary\">index</p>\n",
       "                                <span class=\"djtooltiptext\">the index of the neuron object that resulted from that mesh (indexed starting at 0)</span>\n",
       "                            </div></th><th><div class=\"djtooltip\">\n",
       "                                <p id=\"primary\">split_index</p>\n",
       "                                <span class=\"djtooltiptext\">the index of the neuron object that resulted AFTER THE SPLITTING ALGORITHM</span>\n",
       "                            </div></th><th><div class=\"djtooltip\">\n",
       "                                <p id=\"primary\">axon_version</p>\n",
       "                                <span class=\"djtooltiptext\">key by which to lookup the finer axon processing method</span>\n",
       "                            </div></th><th><div class=\"djtooltip\">\n",
       "                                <p id=\"nonprimary\">decomposition</p>\n",
       "                                <span class=\"djtooltiptext\">saved neuron object with high fidelity axon</span>\n",
       "                            </div></th><th><div class=\"djtooltip\">\n",
       "                                <p id=\"nonprimary\">axon_length</p>\n",
       "                                <span class=\"djtooltiptext\">length (in um) of the classified axon skeleton</span>\n",
       "                            </div></th><th><div class=\"djtooltip\">\n",
       "                                <p id=\"nonprimary\">run_time</p>\n",
       "                                <span class=\"djtooltiptext\">the amount of time to run (seconds)</span>\n",
       "                            </div> </th> </tr> </thead>\n",
       "                <tbody> <tr> <td>864691136664412413</td>\n",
       "<td>0</td>\n",
       "<td>0.25</td>\n",
       "<td>30.00</td>\n",
       "<td>3</td>\n",
       "<td>0</td>\n",
       "<td>0</td>\n",
       "<td>5</td>\n",
       "<td>=BLOB=</td>\n",
       "<td>1286.2468253216814</td>\n",
       "<td>439.79</td></tr><tr><td>864691136664412413</td>\n",
       "<td>0</td>\n",
       "<td>0.25</td>\n",
       "<td>30.00</td>\n",
       "<td>3</td>\n",
       "<td>0</td>\n",
       "<td>1</td>\n",
       "<td>5</td>\n",
       "<td>=BLOB=</td>\n",
       "<td>0.0</td>\n",
       "<td>1.5</td> </tr> </tbody>\n",
       "            </table>\n",
       "            \n",
       "            <p>Total: 2</p></div>\n",
       "            "
      ],
      "text/plain": [
       "*segment_id    *decimation_ve *decimation_ra *ver      *process_versi *index    *split_index   *axon_version  decomposit axon_length    run_time    \n",
       "+------------+ +------------+ +------------+ +-------+ +------------+ +-------+ +------------+ +------------+ +--------+ +------------+ +----------+\n",
       "86469113666441 0              0.25           30.00     3              0         0              5              =BLOB=     1286.246825321 439.79      \n",
       "86469113666441 0              0.25           30.00     3              0         1              5              =BLOB=     0.0            1.5         \n",
       " (Total: 2)"
      ]
     },
     "execution_count": 117,
     "metadata": {},
     "output_type": "execute_result"
    }
   ],
   "source": [
    "minnie.DecompositionAxon() & dict(segment_id=864691136664412413)"
   ]
  },
  {
   "cell_type": "code",
   "execution_count": 118,
   "metadata": {},
   "outputs": [
    {
     "name": "stdout",
     "output_type": "stream",
     "text": [
      "**Using table __decomposition_axon for table_to_neuron_objs**\n",
      "Decompressing Neuron in minimal output mode...please wait\n",
      "Dont need spine recalculation\n",
      "**Using table __decomposition_axon for table_to_neuron_objs**\n",
      "Decompressing Neuron in minimal output mode...please wait\n",
      "Dont need spine recalculation\n",
      "Number of Neurons found = 2\n"
     ]
    }
   ],
   "source": [
    "neuron_objs,split_indexes = du.decomposition_with_spine_recalculation(864691136664412413)"
   ]
  },
  {
   "cell_type": "code",
   "execution_count": 122,
   "metadata": {},
   "outputs": [
    {
     "name": "stdout",
     "output_type": "stream",
     "text": [
      "\n",
      " Working on visualization type: mesh\n",
      "\n",
      " Working on visualization type: skeleton\n"
     ]
    },
    {
     "data": {
      "application/vnd.jupyter.widget-view+json": {
       "model_id": "12d41c3b6c784e53bed638fafbf305cb",
       "version_major": 2,
       "version_minor": 0
      },
      "text/plain": [
       "VBox(children=(Figure(camera=PerspectiveCamera(fov=46.0, position=(0.0, 0.0, 2.0), projectionMatrix=(1.0, 0.0,…"
      ]
     },
     "metadata": {},
     "output_type": "display_data"
    }
   ],
   "source": [
    "nviz.visualize_neuron(neuron_objs[0],\n",
    "                     limb_branch_dict=\"all\")"
   ]
  },
  {
   "cell_type": "code",
   "execution_count": null,
   "metadata": {},
   "outputs": [],
   "source": []
  }
 ],
 "metadata": {
  "kernelspec": {
   "display_name": "Python 3",
   "language": "python",
   "name": "python3"
  },
  "language_info": {
   "codemirror_mode": {
    "name": "ipython",
    "version": 3
   },
   "file_extension": ".py",
   "mimetype": "text/x-python",
   "name": "python",
   "nbconvert_exporter": "python",
   "pygments_lexer": "ipython3",
   "version": "3.6.9"
  }
 },
 "nbformat": 4,
 "nbformat_minor": 4
}
