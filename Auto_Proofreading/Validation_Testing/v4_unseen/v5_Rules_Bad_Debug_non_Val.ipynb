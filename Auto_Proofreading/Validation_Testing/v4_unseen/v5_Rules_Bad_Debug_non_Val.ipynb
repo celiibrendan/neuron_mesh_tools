{
 "cells": [
  {
   "cell_type": "code",
   "execution_count": null,
   "metadata": {},
   "outputs": [],
   "source": [
    "\"\"\"\n",
    "Purpose: To Run the proofreading of neurons in the \n",
    "test set and measure the precision and recall of the new rules\n",
    "\n",
    "Segments to look out for that had no axon\n",
    "864691135012395766 # one of the split segments files not there (split index = 1)\n",
    "864691135865584005 #soma soma merger\n",
    "864691136451113215 #it was an inhibitory neuron (part of split)\n",
    "\n",
    "\"\"\""
   ]
  },
  {
   "cell_type": "code",
   "execution_count": 1,
   "metadata": {},
   "outputs": [],
   "source": [
    "%load_ext autoreload\n",
    "%autoreload 2"
   ]
  },
  {
   "cell_type": "code",
   "execution_count": 2,
   "metadata": {},
   "outputs": [
    {
     "name": "stderr",
     "output_type": "stream",
     "text": [
      "INFO - 2021-06-03 17:36:18,914 - settings - Setting database.host to at-database.ad.bcm.edu\n",
      "INFO - 2021-06-03 17:36:18,916 - settings - Setting database.user to celiib\n",
      "INFO - 2021-06-03 17:36:18,917 - settings - Setting database.password to newceliipass\n",
      "INFO - 2021-06-03 17:36:18,930 - settings - Setting stores to {'minnie65': {'protocol': 'file', 'location': '/mnt/dj-stor01/platinum/minnie65', 'stage': '/mnt/dj-stor01/platinum/minnie65'}, 'meshes': {'protocol': 'file', 'location': '/mnt/dj-stor01/platinum/minnie65/02/meshes', 'stage': '/mnt/dj-stor01/platinum/minnie65/02/meshes'}, 'decimated_meshes': {'protocol': 'file', 'location': '/mnt/dj-stor01/platinum/minnie65/02/decimated_meshes', 'stage': '/mnt/dj-stor01/platinum/minnie65/02/decimated_meshes'}, 'skeletons': {'protocol': 'file', 'location': '/mnt/dj-stor01/platinum/minnie65/02/skeletons'}}\n",
      "INFO - 2021-06-03 17:36:18,931 - settings - Setting enable_python_native_blobs to True\n",
      "INFO - 2021-06-03 17:36:18,945 - connection - Connected celiib@at-database.ad.bcm.edu:3306\n"
     ]
    },
    {
     "name": "stdout",
     "output_type": "stream",
     "text": [
      "Connecting celiib@at-database.ad.bcm.edu:3306\n"
     ]
    },
    {
     "name": "stderr",
     "output_type": "stream",
     "text": [
      "INFO - 2021-06-03 17:36:19,506 - settings - Setting enable_python_native_blobs to True\n",
      "INFO - 2021-06-03 17:36:19,510 - settings - Setting database.host to at-database.ad.bcm.edu\n",
      "INFO - 2021-06-03 17:36:19,511 - settings - Setting database.user to celiib\n",
      "INFO - 2021-06-03 17:36:19,512 - settings - Setting database.password to newceliipass\n",
      "INFO - 2021-06-03 17:36:19,513 - settings - Setting database.host to at-database.ad.bcm.edu\n",
      "INFO - 2021-06-03 17:36:19,513 - settings - Setting database.user to celiib\n",
      "INFO - 2021-06-03 17:36:19,514 - settings - Setting database.password to newceliipass\n",
      "INFO - 2021-06-03 17:36:19,515 - settings - Setting enable_python_native_blobs to True\n",
      "INFO - 2021-06-03 17:36:20,117 - settings - Setting enable_python_native_blobs to True\n"
     ]
    }
   ],
   "source": [
    "import numpy as np\n",
    "import datajoint as dj\n",
    "import trimesh\n",
    "from tqdm.notebook import tqdm\n",
    "from pathlib import Path\n",
    "\n",
    "from os import sys\n",
    "sys.path.append(\"/meshAfterParty/\")\n",
    "sys.path.append(\"/meshAfterParty/meshAfterParty\")\n",
    "\n",
    "import datajoint_utils as du\n",
    "from importlib import reload"
   ]
  },
  {
   "cell_type": "code",
   "execution_count": 3,
   "metadata": {},
   "outputs": [
    {
     "name": "stderr",
     "output_type": "stream",
     "text": [
      "INFO - 2021-06-03 17:36:20,268 - settings - Setting database.host to at-database.ad.bcm.edu\n",
      "INFO - 2021-06-03 17:36:20,270 - settings - Setting database.user to celiib\n",
      "INFO - 2021-06-03 17:36:20,270 - settings - Setting database.password to newceliipass\n",
      "INFO - 2021-06-03 17:36:20,273 - settings - Setting enable_python_native_blobs to True\n",
      "INFO - 2021-06-03 17:36:20,916 - settings - Setting enable_python_native_blobs to True\n"
     ]
    }
   ],
   "source": [
    "#configuring will include the adapters\n",
    "minnie,schema = du.configure_minnie_vm()"
   ]
  },
  {
   "cell_type": "code",
   "execution_count": 4,
   "metadata": {},
   "outputs": [],
   "source": [
    "import validation_utils as vu\n",
    "import neuron_visualizations as nviz\n",
    "import neuron_utils as nru\n",
    "import proofreading_utils as pru\n",
    "import time\n",
    "import system_utils as su"
   ]
  },
  {
   "cell_type": "markdown",
   "metadata": {},
   "source": [
    "# Runnig the validation"
   ]
  },
  {
   "cell_type": "code",
   "execution_count": 5,
   "metadata": {},
   "outputs": [
    {
     "data": {
      "text/plain": [
       "'\\nPurpose: To pull down the neuron and \\ninvestigate what rules are not going well\\n\\n\\n\\n'"
      ]
     },
     "execution_count": 5,
     "metadata": {},
     "output_type": "execute_result"
    }
   ],
   "source": [
    "\"\"\"\n",
    "Purpose: To pull down the neuron and \n",
    "investigate what rules are not going well\n",
    "\n",
    "\n",
    "\n",
    "\"\"\""
   ]
  },
  {
   "cell_type": "code",
   "execution_count": 6,
   "metadata": {},
   "outputs": [
    {
     "data": {
      "text/plain": [
       "'\\nPseudocode: \\n1) Check if there are multiple somas associated with that segment\\n\\n'"
      ]
     },
     "execution_count": 6,
     "metadata": {},
     "output_type": "execute_result"
    }
   ],
   "source": [
    "\"\"\"\n",
    "Pseudocode: \n",
    "1) Check if there are multiple somas associated with that segment\n",
    "\n",
    "\"\"\""
   ]
  },
  {
   "cell_type": "code",
   "execution_count": 7,
   "metadata": {},
   "outputs": [
    {
     "name": "stdout",
     "output_type": "stream",
     "text": [
      "**Using table __decomposition_axon for table_to_neuron_objs**\n",
      "Decompressing Neuron in minimal output mode...please wait\n",
      "Dont need spine recalculation\n",
      "Number of Neurons found = 1\n"
     ]
    }
   ],
   "source": [
    "ret_info = du.decomposition_with_spine_recalculation(864691134917429770,0)"
   ]
  },
  {
   "cell_type": "code",
   "execution_count": null,
   "metadata": {
    "scrolled": false
   },
   "outputs": [],
   "source": [
    "\n",
    "filter_list = None\n",
    "inh_exc_class=\"excitatory\"\n",
    "perform_axon_classification = False\n",
    "plot_limb_branch_filter_with_disconnect_effect = True\n",
    "plot_score = True\n",
    "return_filtered_neuron = True\n",
    "return_synapse_df = True\n",
    "return_synapse_df_errors=False\n",
    "return_validation_df = True\n",
    "return_validation_df_extension=False\n",
    "verbose = False\n",
    "apply_non_axon_presyn_errors = True\n",
    "nucleus_id = None\n",
    "split_index=None\n",
    "\"\"\"\n",
    "Purpose: Given either a final neuron or a neuron and a filter list,\n",
    "will classify the synapses and then output a score for the filtered neuron\n",
    "\n",
    "Pseudocode: \n",
    "1) If a filter list is given then apply the filter list to proofread the neuron\n",
    "2) Do the final steps to filter the synapses\n",
    "3) Convert the synapse records to a validation dataframe\n",
    "4) Plot the score plot\n",
    "\n",
    "\"\"\"\n",
    "\n",
    "\n",
    "segment_id = neuron_obj.segment_id\n",
    "\n",
    "#1) If a filter list is given then apply the filter list to proofread the neuron\n",
    "\n",
    "filtered_neuron,filtering_info = pru.proofread_neuron_class_predetermined(neuron_obj,\n",
    "    inh_exc_class=inh_exc_class,\n",
    "    perform_axon_classification=False,\n",
    "\n",
    "    plot_limb_branch_filter_with_disconnect_effect = plot_limb_branch_filter_with_disconnect_effect,\n",
    "\n",
    "\n",
    "    plot_final_filtered_neuron = False,\n",
    "\n",
    "    #arguments for the axon high fidelity:\n",
    "    plot_new_axon_limb_correspondence = False,\n",
    "    plot_new_limb_object = False,\n",
    "    plot_final_revised_axon_branch = False,\n",
    "\n",
    "    verbose = False,\n",
    "    verbose_outline = verbose,\n",
    "    filter_list = filter_list,\n",
    "    high_fidelity_axon_on_excitatory = perform_axon_classification,\n",
    "                                                                         )"
   ]
  },
  {
   "cell_type": "code",
   "execution_count": null,
   "metadata": {},
   "outputs": [],
   "source": [
    "vu.synapse_validation_df_to_score_plot(return_validation_df_revised)"
   ]
  },
  {
   "cell_type": "code",
   "execution_count": null,
   "metadata": {},
   "outputs": [],
   "source": [
    "nviz.plot_axon(filt_neuron)"
   ]
  },
  {
   "cell_type": "code",
   "execution_count": null,
   "metadata": {},
   "outputs": [],
   "source": [
    "import neuron_visualizations as nviz\n",
    "nviz.visualize_neuron(filt_neuron,\n",
    "                      limb_branch_dict=\"all\")"
   ]
  },
  {
   "cell_type": "code",
   "execution_count": null,
   "metadata": {
    "scrolled": true
   },
   "outputs": [],
   "source": [
    "minnie.AutoProofreadValidationSegmentMap4() & key"
   ]
  },
  {
   "cell_type": "code",
   "execution_count": null,
   "metadata": {},
   "outputs": [],
   "source": [
    "vu.plot_validation_synapses(filt_neuron.segment_id,\n",
    "                            validation_df = return_validation_df_revised,\n",
    "                             synapse_dict = None,\n",
    "                             synapses_type_to_plot = None,\n",
    "                             synapses_type_to_not_plot = None,\n",
    "                             verbose=False,\n",
    "                             synapse_type = \"presyn\",\n",
    "                             TP_color=\"yellow\",\n",
    "                            TN_color=\"aqua\",\n",
    "                            FP_color=\"black\",\n",
    "                            FN_color=\"orange\",\n",
    "                             synapse_scatter_size = 0.15,\n",
    "                             \n",
    "                             #for plotting the actual mesh parts to go along\n",
    "                             \n",
    "                             neuron_obj = filt_neuron,\n",
    "                             plot_only_axon_skeleton = True,\n",
    "                             error_mesh_color = \"red\",\n",
    "                             valid_mesh_color = \"green\",\n",
    "                             valid_skeleton_color = \"black\",\n",
    "                             mesh_alpha = 0.3,)"
   ]
  },
  {
   "cell_type": "code",
   "execution_count": null,
   "metadata": {},
   "outputs": [],
   "source": [
    "minnie.AutoProofreadStats5()"
   ]
  },
  {
   "cell_type": "code",
   "execution_count": null,
   "metadata": {},
   "outputs": [],
   "source": [
    "du.plot_proofread_neuron(864691135517422218,\n",
    "                         plot_proofreading_synapses=True,\n",
    "                        plot_errored_faces=True)"
   ]
  },
  {
   "cell_type": "code",
   "execution_count": null,
   "metadata": {},
   "outputs": [],
   "source": []
  },
  {
   "cell_type": "markdown",
   "metadata": {},
   "source": [
    "# Checking the long Axons"
   ]
  },
  {
   "cell_type": "code",
   "execution_count": null,
   "metadata": {},
   "outputs": [],
   "source": [
    "du.proofreading_neurons_table() & \"axon_length>2000\" & \"spine_category='densely_spined'\""
   ]
  },
  {
   "cell_type": "code",
   "execution_count": null,
   "metadata": {},
   "outputs": [],
   "source": [
    "du.plot_proofread_neuron(864691134917429770,\n",
    "                        plot_proofreading_synapses=True)"
   ]
  },
  {
   "cell_type": "code",
   "execution_count": null,
   "metadata": {},
   "outputs": [],
   "source": [
    "import ipyvolume as ipv\n",
    "ipv.gcf()"
   ]
  },
  {
   "cell_type": "code",
   "execution_count": null,
   "metadata": {},
   "outputs": [],
   "source": [
    "ipv.pylab.save(\"864691134917429770_proof_v5.html\")"
   ]
  },
  {
   "cell_type": "code",
   "execution_count": null,
   "metadata": {},
   "outputs": [],
   "source": [
    "du.plot_proofread_mesh_skeleton(864691134917429770)"
   ]
  },
  {
   "cell_type": "code",
   "execution_count": null,
   "metadata": {},
   "outputs": [],
   "source": [
    "minnie,_ = du.configure_minnie_vm()\n",
    "from importlib import reload\n",
    "du = reload(du)"
   ]
  },
  {
   "cell_type": "code",
   "execution_count": null,
   "metadata": {},
   "outputs": [],
   "source": []
  },
  {
   "cell_type": "code",
   "execution_count": null,
   "metadata": {},
   "outputs": [],
   "source": []
  },
  {
   "cell_type": "code",
   "execution_count": null,
   "metadata": {},
   "outputs": [],
   "source": []
  },
  {
   "cell_type": "code",
   "execution_count": null,
   "metadata": {},
   "outputs": [],
   "source": []
  }
 ],
 "metadata": {
  "kernelspec": {
   "display_name": "Python 3",
   "language": "python",
   "name": "python3"
  },
  "language_info": {
   "codemirror_mode": {
    "name": "ipython",
    "version": 3
   },
   "file_extension": ".py",
   "mimetype": "text/x-python",
   "name": "python",
   "nbconvert_exporter": "python",
   "pygments_lexer": "ipython3",
   "version": "3.6.9"
  }
 },
 "nbformat": 4,
 "nbformat_minor": 4
}
