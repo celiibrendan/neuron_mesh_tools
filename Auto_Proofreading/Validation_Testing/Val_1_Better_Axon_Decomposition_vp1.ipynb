{
 "cells": [
  {
   "cell_type": "code",
   "execution_count": null,
   "metadata": {},
   "outputs": [],
   "source": [
    "\"\"\"\n",
    "To Make sure the Best Axon method works and also\n",
    "to see if can decompose the axon any better \n",
    "(especially if can help with crosses and parts that aren't skeletonized             )\n",
    "\n",
    "\"\"\""
   ]
  },
  {
   "cell_type": "code",
   "execution_count": 1,
   "metadata": {},
   "outputs": [],
   "source": [
    "%load_ext autoreload\n",
    "%autoreload 2"
   ]
  },
  {
   "cell_type": "code",
   "execution_count": 2,
   "metadata": {},
   "outputs": [],
   "source": [
    "from os import sys\n",
    "sys.path.append(\"/meshAfterParty/\")\n",
    "sys.path.append(\"/meshAfterParty/meshAfterParty/\")"
   ]
  },
  {
   "cell_type": "code",
   "execution_count": 3,
   "metadata": {},
   "outputs": [
    {
     "name": "stderr",
     "output_type": "stream",
     "text": [
      "INFO - 2021-02-20 20:51:57,210 - settings - Setting database.host to at-database.ad.bcm.edu\n",
      "INFO - 2021-02-20 20:51:57,211 - settings - Setting database.user to celiib\n",
      "INFO - 2021-02-20 20:51:57,212 - settings - Setting database.password to newceliipass\n",
      "INFO - 2021-02-20 20:51:57,224 - settings - Setting stores to {'minnie65': {'protocol': 'file', 'location': '/mnt/dj-stor01/platinum/minnie65', 'stage': '/mnt/dj-stor01/platinum/minnie65'}, 'meshes': {'protocol': 'file', 'location': '/mnt/dj-stor01/platinum/minnie65/02/meshes', 'stage': '/mnt/dj-stor01/platinum/minnie65/02/meshes'}, 'decimated_meshes': {'protocol': 'file', 'location': '/mnt/dj-stor01/platinum/minnie65/02/decimated_meshes', 'stage': '/mnt/dj-stor01/platinum/minnie65/02/decimated_meshes'}, 'skeletons': {'protocol': 'file', 'location': '/mnt/dj-stor01/platinum/minnie65/02/skeletons'}}\n",
      "INFO - 2021-02-20 20:51:57,226 - settings - Setting enable_python_native_blobs to True\n",
      "INFO - 2021-02-20 20:51:57,241 - connection - Connected celiib@at-database.ad.bcm.edu:3306\n"
     ]
    },
    {
     "name": "stdout",
     "output_type": "stream",
     "text": [
      "Connecting celiib@at-database.ad.bcm.edu:3306\n"
     ]
    },
    {
     "name": "stderr",
     "output_type": "stream",
     "text": [
      "INFO - 2021-02-20 20:51:57,564 - settings - Setting enable_python_native_blobs to True\n",
      "INFO - 2021-02-20 20:51:57,596 - settings - Setting enable_python_native_blobs to True\n",
      "INFO - 2021-02-20 20:51:57,947 - settings - Setting enable_python_native_blobs to True\n"
     ]
    }
   ],
   "source": [
    "import datajoint_utils as du\n",
    "minnie,schema = du.configure_minnie_vm()"
   ]
  },
  {
   "cell_type": "code",
   "execution_count": 4,
   "metadata": {},
   "outputs": [],
   "source": [
    "import pandas as pd\n",
    "import matplotlib.pyplot as plt\n",
    "import networkx as nx\n",
    "import numpy as np\n",
    "import networkx_utils as xu\n",
    "import datajoint as dj\n",
    "import neuron_visualizations as nviz\n",
    "import neuron\n",
    "import neuron_utils as nru\n",
    "import proofreading_utils as pru\n",
    "import classification_utils as clu\n",
    "import system_utils as su\n",
    "from importlib import reload"
   ]
  },
  {
   "cell_type": "markdown",
   "metadata": {},
   "source": [
    "# Checking the Double Axon Neurons"
   ]
  },
  {
   "cell_type": "code",
   "execution_count": 5,
   "metadata": {},
   "outputs": [],
   "source": [
    "multi_axon_segs,multi_axon_splits = (minnie.AutoProofreadNeurons2() & \"cell_type_predicted='excitatory'\"\n",
    " & \"n_axons>1\").fetch(\"segment_id\",\"split_index\")"
   ]
  },
  {
   "cell_type": "code",
   "execution_count": 6,
   "metadata": {},
   "outputs": [
    {
     "data": {
      "text/plain": [
       "9346"
      ]
     },
     "execution_count": 6,
     "metadata": {},
     "output_type": "execute_result"
    }
   ],
   "source": [
    "len(multi_axon_segs)"
   ]
  },
  {
   "cell_type": "code",
   "execution_count": 7,
   "metadata": {},
   "outputs": [],
   "source": [
    "segment_id,split_index = (864691134947394812, 0) #was good for testing the high fidelity"
   ]
  },
  {
   "cell_type": "code",
   "execution_count": 8,
   "metadata": {},
   "outputs": [
    {
     "ename": "SyntaxError",
     "evalue": "invalid syntax (<ipython-input-8-6624d1fa8bc3>, line 1)",
     "output_type": "error",
     "traceback": [
      "\u001b[0;36m  File \u001b[0;32m\"<ipython-input-8-6624d1fa8bc3>\"\u001b[0;36m, line \u001b[0;32m1\u001b[0m\n\u001b[0;31m    curr_index =\u001b[0m\n\u001b[0m                 ^\u001b[0m\n\u001b[0;31mSyntaxError\u001b[0m\u001b[0;31m:\u001b[0m invalid syntax\n"
     ]
    }
   ],
   "source": [
    "curr_index = \n",
    "segment_id = multi_axon_segs[curr_index]\n",
    "split_index = multi_axon_splits[curr_index]\n",
    "segment_id,split_index"
   ]
  },
  {
   "cell_type": "code",
   "execution_count": null,
   "metadata": {},
   "outputs": [],
   "source": [
    "du.plot_proofread_neuron(segment_id,\n",
    "                        split_index=split_index,\n",
    "                        plot_errored_faces=True,\n",
    "                        plot_synapses=True,\n",
    "                        plot_nuclei=True,\n",
    "                        plot_axon=True)"
   ]
  },
  {
   "cell_type": "code",
   "execution_count": null,
   "metadata": {},
   "outputs": [],
   "source": [
    "neuron_obj = du.decomposition_with_spine_recalculation(segment_id,\n",
    "                                                      split_index=split_index)"
   ]
  },
  {
   "cell_type": "code",
   "execution_count": null,
   "metadata": {},
   "outputs": [],
   "source": [
    "if type(neuron_obj) == tuple:\n",
    "    test_neuron = neuron_obj[0][split_index]\n",
    "else:\n",
    "    test_neuron = neuron_obj"
   ]
  },
  {
   "cell_type": "code",
   "execution_count": null,
   "metadata": {},
   "outputs": [],
   "source": [
    "nviz.visualize_neuron(test_neuron,\n",
    "                     limb_branch_dict=\"all\")"
   ]
  },
  {
   "cell_type": "code",
   "execution_count": null,
   "metadata": {
    "scrolled": false
   },
   "outputs": [],
   "source": [
    "true_axons,true_axon_angles,axon_like_errors = clu.axon_classification(test_neuron,\n",
    "                        return_axon_angles=True,\n",
    "                       plot_candidates=False,\n",
    "                       plot_axons=True,\n",
    "                        best_axon=True,\n",
    "                       verbose=True)"
   ]
  },
  {
   "cell_type": "code",
   "execution_count": null,
   "metadata": {},
   "outputs": [],
   "source": [
    "# \"\"\"\n",
    "# Pseudocode: \n",
    "# if there even is an axon\n",
    "# 1) Get the limb name of the best axon\n",
    "# 2) Get the concept network of the limb and the starting node\n",
    "# 3) Get the branches that would be axon\n",
    "# 4) Delete the branches from the concept network\n",
    "# 5) For each connected component in the leftover network\n",
    "# - if not have starting node and all in axon-like: \n",
    "# add to list to add to the true axon\n",
    "\n",
    "# 6) add the new nodes to the axon group\n",
    "# \"\"\"\n",
    "\n",
    "# neuron_obj = test_neuron\n",
    "\n",
    "# if len(best_limb_branch_dict) > 0:\n",
    "    \n",
    "#     #1) Get the limb name of the best axon\n",
    "#     limb_name_of_axon = list(best_limb_branch_dict.keys())\n",
    "#     if len(limb_name_of_axon) > 1:\n",
    "#         raise Excpetion(\"More than 1 axon key\")\n",
    "    \n",
    "#     limb_name_of_axon = limb_name_of_axon[0]\n",
    "    \n",
    "#     curr_limb = neuron_obj[limb_name_of_axon]\n",
    "#     #2) Get the concept network of the limb and the starting node\n",
    "#     conc_net = nx.Graph(curr_limb.concept_network)\n",
    "#     start_node = curr_limb.current_starting_node\n",
    "    \n",
    "#     #3) Get the branches that would be axon\n",
    "#     axon_branches = best_limb_branch_dict[limb_name_of_axon]\n",
    "#     axon_like_branches = axon_like_limb_branch_dict[limb_name_of_axon]\n",
    "    \n",
    "#     #4) Delete the branches from the concept network\n",
    "#     conc_net.remove_nodes_from(axon_branches)\n",
    "    \n",
    "    \n",
    "#     #5) For each connected component in the leftover network\n",
    "#     new_axon_branches = []\n",
    "#     for conn_comp in nx.connected_components(conc_net):\n",
    "#         conn_comp = list(conn_comp)\n",
    "        \n",
    "#         #- if not have starting node and all in axon-like: \n",
    "#         #add to list to add to the true axon\n",
    "#         axon_like_in_conn_comp = np.intersect1d(axon_like_branches,conn_comp)\n",
    "#         if start_node not in conn_comp and len(axon_like_in_conn_comp) == len(conn_comp):\n",
    "#             new_axon_branches += conn_comp\n",
    "    \n",
    "    \n",
    "        \n",
    "#     if len(new_axon_branches) > 0:\n",
    "#         best_limb_branch_dict[limb_name_of_axon] = np.array(list(axon_branches) + new_axon_branches)\n",
    "        \n",
    "# best_limb_branch_dict"
   ]
  },
  {
   "cell_type": "markdown",
   "metadata": {},
   "source": [
    "# Getting a more high fidelity axon skeleton"
   ]
  },
  {
   "cell_type": "code",
   "execution_count": null,
   "metadata": {},
   "outputs": [],
   "source": [
    "curr_index = 3010\n",
    "segment_id = multi_axon_segs[curr_index]\n",
    "split_index = multi_axon_splits[curr_index]\n",
    "segment_id,split_index"
   ]
  },
  {
   "cell_type": "code",
   "execution_count": null,
   "metadata": {},
   "outputs": [],
   "source": [
    "segment_id=864691135539149252\n",
    "split_index = 0"
   ]
  },
  {
   "cell_type": "code",
   "execution_count": null,
   "metadata": {},
   "outputs": [],
   "source": [
    "minnie.AutoProofreadNeurons2() & dict(segment_id = segment_id,\n",
    "                                      split_index=split_index)"
   ]
  },
  {
   "cell_type": "code",
   "execution_count": null,
   "metadata": {},
   "outputs": [],
   "source": [
    "du.plot_proofread_neuron(segment_id,\n",
    "                        split_index=split_index,\n",
    "                        plot_errored_faces=True,\n",
    "                        plot_synapses=True,\n",
    "                        plot_nuclei=True,\n",
    "                        plot_axon=True)"
   ]
  },
  {
   "cell_type": "code",
   "execution_count": null,
   "metadata": {},
   "outputs": [],
   "source": [
    "neuron_obj = du.decomposition_with_spine_recalculation(segment_id,\n",
    "                                                      split_index=split_index)"
   ]
  },
  {
   "cell_type": "code",
   "execution_count": null,
   "metadata": {},
   "outputs": [],
   "source": [
    "if type(neuron_obj) == tuple:\n",
    "    neuron_obj = neuron_obj[0][split_index]"
   ]
  },
  {
   "cell_type": "code",
   "execution_count": null,
   "metadata": {},
   "outputs": [],
   "source": [
    "neuron_obj.segment_id"
   ]
  },
  {
   "cell_type": "code",
   "execution_count": null,
   "metadata": {},
   "outputs": [],
   "source": [
    "nviz.visualize_neuron(neuron_obj,\n",
    "                     limb_branch_dict=\"all\")"
   ]
  },
  {
   "cell_type": "code",
   "execution_count": null,
   "metadata": {},
   "outputs": [],
   "source": [
    "print(\"hi\")"
   ]
  },
  {
   "cell_type": "code",
   "execution_count": null,
   "metadata": {
    "scrolled": true
   },
   "outputs": [],
   "source": [
    "clu.axon_classification(neuron_obj,\n",
    "                        plot_candidates=True,\n",
    "                       best_axon=True,\n",
    "                       plot_axons=True)"
   ]
  },
  {
   "cell_type": "markdown",
   "metadata": {},
   "source": [
    "# Should not be absolutely tiny at the start"
   ]
  },
  {
   "cell_type": "code",
   "execution_count": null,
   "metadata": {},
   "outputs": [],
   "source": [
    "\"\"\"\n",
    "may have to worry about the width array\n",
    "\n",
    "\"\"\""
   ]
  },
  {
   "cell_type": "code",
   "execution_count": null,
   "metadata": {},
   "outputs": [],
   "source": []
  },
  {
   "cell_type": "code",
   "execution_count": null,
   "metadata": {},
   "outputs": [],
   "source": []
  },
  {
   "cell_type": "code",
   "execution_count": null,
   "metadata": {},
   "outputs": [],
   "source": []
  },
  {
   "cell_type": "code",
   "execution_count": null,
   "metadata": {},
   "outputs": [],
   "source": []
  },
  {
   "cell_type": "code",
   "execution_count": null,
   "metadata": {},
   "outputs": [],
   "source": []
  },
  {
   "cell_type": "code",
   "execution_count": null,
   "metadata": {},
   "outputs": [],
   "source": []
  },
  {
   "cell_type": "code",
   "execution_count": null,
   "metadata": {},
   "outputs": [],
   "source": [
    "neuron_obj.axon_mesh, neuron_obj.axon_starting_coordinate"
   ]
  },
  {
   "cell_type": "code",
   "execution_count": null,
   "metadata": {
    "scrolled": true
   },
   "outputs": [],
   "source": [
    "verbose = True\n",
    "\n",
    "axon_limb_name = neuron_obj.axon_limb_name\n",
    "curr_limb = neuron_obj[axon_limb_name]\n",
    "axon_starting_branch = neuron_obj.axon_starting_branch\n",
    "axon_starting_branch_mesh = curr_limb[axon_starting_branch].mesh\n",
    "axon_starting_coordinate = neuron_obj.axon_starting_coordinate\n",
    "\n",
    "upstream_node_to_axon_starting_branch = None\n",
    "\n",
    "if axon_starting_branch != curr_limb.current_starting_node:\n",
    "    if verbose:\n",
    "        print(f\"Starting axon branch was not the limb starting node so generating border vertices and computing upstream branch\")\n",
    "    border_vertices_for_axon = tu.largest_border_to_coordinate(\n",
    "        mesh = axon_starting_branch_mesh,\n",
    "        coordinate =axon_starting_coordinate,\n",
    "        distance_threshold = 1000,\n",
    "        plot_border_vertices = False,\n",
    "        error_on_no_border = True,\n",
    "        plot_winning_border = False,\n",
    "        verbose = False)\n",
    "    \n",
    "    upstream_node_to_axon_starting_branch = xu.upstream_node(curr_limb.concept_network_directional,\n",
    "                                                             axon_starting_branch\n",
    "                                                               )\n",
    "    \n",
    "else:\n",
    "    if verbose:\n",
    "        print(f\"Starting axon branch was so using border vertices and NOT computing upstream branch\")\n",
    "    border_vertices_for_axon = curr_limb.current_touching_soma_vertices\n",
    "    upstream_node_to_axon_starting_branch = None\n",
    "\n",
    "soma_touching_vertices_dict = {0:[border_vertices_for_axon]}\n",
    "\n",
    "if verbose:\n",
    "    print(f\"upstream_node_to_axon_starting_branch = {upstream_node_to_axon_starting_branch}\")"
   ]
  },
  {
   "cell_type": "code",
   "execution_count": null,
   "metadata": {},
   "outputs": [],
   "source": [
    "# divide the meshes into the only big continuous one (because if disconnected probably)\n",
    "diff_meshes = tu.split_by_vertices(neuron_obj.axon_mesh)\n",
    "axon_mesh_filtered = tu.filter_meshes_by_containing_coordinates(diff_meshes,\n",
    "                                          nullifying_points=border_vertices_for_axon[0],\n",
    "                                           method=\"distance\",\n",
    "                                           distance_threshold = 0,\n",
    "                                          filter_away=False)[0]\n",
    "if verbose:\n",
    "    if len(diff_meshes) > 1:\n",
    "        print(f\"More than 1 seperated mesh (taking the top one): {diff_meshes}\")"
   ]
  },
  {
   "cell_type": "code",
   "execution_count": null,
   "metadata": {
    "scrolled": true
   },
   "outputs": [],
   "source": [
    "limb_correspondence_individual,concept_network = pre.preprocess_limb(axon_mesh_filtered,\n",
    "                   soma_touching_vertices_dict = soma_touching_vertices_dict,\n",
    "                    meshparty_segment_size = 100,\n",
    "                    combine_close_skeleton_nodes=True,\n",
    "                    #combine_close_skeleton_nodes_threshold=1200,\n",
    "                    combine_close_skeleton_nodes_threshold_meshparty = 1300,\n",
    "                    filter_end_node_length_meshparty = 1500,\n",
    "                    filter_end_node_length = 1500,\n",
    "                                                                     \n",
    "                    use_meshafterparty=False,\n",
    "                    perform_cleaning_checks = True,\n",
    "                    \n",
    "                    \n",
    "                    #concept_network parameters\n",
    "                    run_concept_network_checks = True,\n",
    "                    return_concept_network = True,\n",
    "                    return_concept_network_starting_info=False,\n",
    "                    \n",
    "                    #printing controls\n",
    "                    verbose = True,\n",
    "                    print_fusion_steps=True,\n",
    "                    \n",
    "                    check_correspondence_branches = True,\n",
    "                    filter_end_nodes_from_correspondence=True,\n",
    "                    error_on_no_starting_coordinates=True,\n",
    "                    invalidation_d=1200\n",
    "                                                                     \n",
    "                    \n",
    "                   )"
   ]
  },
  {
   "cell_type": "code",
   "execution_count": null,
   "metadata": {},
   "outputs": [],
   "source": [
    "limb_correspondence_individual[0].keys()"
   ]
  },
  {
   "cell_type": "code",
   "execution_count": null,
   "metadata": {},
   "outputs": [],
   "source": [
    "concept_network\n",
    "curr_concept_network = concept_network[0][0]\n",
    "curr_concept_network"
   ]
  },
  {
   "cell_type": "code",
   "execution_count": null,
   "metadata": {},
   "outputs": [],
   "source": [
    "starting_node = xu.get_starting_node(curr_concept_network,only_one=False)[0]\n",
    "\n",
    "starting_coordinate = curr_concept_network.nodes[starting_node][\"starting_coordinate\"]\n",
    "touching_soma_vertices = curr_concept_network.nodes[starting_node][\"touching_soma_vertices\"]\n",
    "\n",
    "nviz.plot_limb_correspondence(limb_correspondence_individual,\n",
    "                             scatters = [starting_coordinate],\n",
    "                             scatter_size=1)\n",
    "\n",
    "# nviz.plot_objects(skeletons=[k[\"branch_skeleton\"] for k in limb_correspondence_individual.values()],\n",
    "#                  scatters=[starting_coordinate],\n",
    "#                  scatters_colors=\"red\")"
   ]
  },
  {
   "cell_type": "markdown",
   "metadata": {},
   "source": [
    "# Adding the part that connects back to the original mesh connection point"
   ]
  },
  {
   "cell_type": "code",
   "execution_count": null,
   "metadata": {},
   "outputs": [],
   "source": [
    "\"\"\"\n",
    "Psuedocode: \n",
    "1) Get the starting axon branch and the upstream node\n",
    "2) Find the common endpoint\n",
    "3) Add a skeletal branch from starting_coordinate (new)\n",
    "and the common endpoint to the starting node of new\n",
    "axon decomposition\n",
    "\n",
    "\"\"\"\n",
    "verbose = True\n",
    "import numpy_utils as nu\n",
    "\n",
    "#1) Get the starting axon branch and the upstream node\n",
    "if upstream_node_to_axon_starting_branch is not None:\n",
    "    print(\"Readjusting starting axon branch skeleton\")\n",
    "    \n",
    "    #1) Get the starting axon branch and the upstream node\n",
    "    axon_starting_branch,upstream_node_to_axon_starting_branch\n",
    "    \n",
    "    #2) Find the common endpoint\n",
    "#     shared_endpoint = shared_skeleton_endpoints_for_connected_branches(neuron_obj[axon_limb_name],\n",
    "#                                                 axon_starting_branch,\n",
    "#                                                      upstream_node_to_axon_starting_branch,\n",
    "#                                                 verbose=False)\n",
    "    shared_endpoint = neuron_obj.axon_starting_coordinate\n",
    "    \n",
    "    if shared_endpoint.ndim > 1:\n",
    "        shared_endpoint = shared_endpoint[0]\n",
    "    \n",
    "    #3) Add a skeletal branch from starting_coordinate (new)\n",
    "    #and the common endpoint to the starting node of new\n",
    "    #axon decomposition\n",
    "    \n",
    "    curr_endpoints = sk.find_skeleton_endpoint_coordinates(limb_correspondence_individual[starting_node][\"branch_skeleton\"])\n",
    "    if len(nu.matching_rows(curr_endpoints,axon_starting_coordinate)) == 0:\n",
    "        print(\"Fixing the axon starting branch endpoint to align with upstream branch\")\n",
    "        \n",
    "        skeleton_pre_fix = limb_correspondence_individual[starting_node][\"branch_skeleton\"]\n",
    "        new_skeleton_segment = np.array([starting_coordinate,shared_endpoint]).reshape(-1,2,3)\n",
    "\n",
    "        limb_correspondence_individual[starting_node][\"branch_skeleton\"] = sk.stack_skeletons([skeleton_pre_fix,\n",
    "                                                                                               new_skeleton_segment\n",
    "                                                                                             ])\n",
    "        if verbose:\n",
    "            print(f\"Starting Branch {starting_node} skeleton before fix: {skeleton_pre_fix.shape}\")\n",
    "            print(f\"Starting Branch {starting_node} skeleton AFTER fix: {limb_correspondence_individual[starting_node]['branch_skeleton'].shape}\")\n",
    "    else:\n",
    "        if verbose:\n",
    "            print(\"Not attempting to fix the limb correspondence because the axon_starting_coordainte was already an endpoint\")\n",
    "    \n",
    "    plot_connecting_skeleton_fix = False\n",
    "    if plot_connecting_skeleton_fix:\n",
    "        upstream_branch = neuron_obj[axon_limb_name][upstream_node_to_axon_starting_branch]\n",
    "        nviz.plot_objects(meshes=meshes + [upstream_branch.mesh],\n",
    "                          meshes_colors=\"random\",\n",
    "                          skeletons=skeletons +  [upstream_branch.skeleton],\n",
    "                          skeletons_colors=\"random\",\n",
    "                                      scatters=[axon_starting_coordinate],\n",
    "                                     scatter_size=0.3)\n",
    "else:\n",
    "    if verbose:\n",
    "        print(f\"Upstream node was None so don't have to adjust\")"
   ]
  },
  {
   "cell_type": "markdown",
   "metadata": {},
   "source": [
    "# MAY HAVE TO WORRY ABOUT COMPUTING THE WIDTH ARRAY"
   ]
  },
  {
   "cell_type": "code",
   "execution_count": null,
   "metadata": {},
   "outputs": [],
   "source": [
    "nviz.plot_objects(meshes=[base_branch.mesh,neuron_obj[\"S0\"].mesh],\n",
    "                 skeletons=[base_branch.skeleton],\n",
    "                 scatters=[neuron_obj.axon_starting_coordinate],\n",
    "                 scatter_size=0.5)"
   ]
  },
  {
   "cell_type": "code",
   "execution_count": null,
   "metadata": {},
   "outputs": [],
   "source": [
    "(base_final_skeleton,\n",
    "    base_final_widths,\n",
    "    base_final_seg_lengths)"
   ]
  },
  {
   "cell_type": "code",
   "execution_count": null,
   "metadata": {},
   "outputs": [],
   "source": [
    "common_endpoint"
   ]
  },
  {
   "cell_type": "code",
   "execution_count": null,
   "metadata": {
    "scrolled": true
   },
   "outputs": [],
   "source": [
    "base_branch = neuron_obj[3][0]\n",
    "common_endpoint = neuron_obj.axon_starting_coordinate\n",
    "\n",
    "(base_final_skeleton,\n",
    "    base_final_widths,\n",
    "    base_final_seg_lengths) = nru.align_and_restrict_branch(base_branch,\n",
    "                              common_endpoint=common_endpoint,\n",
    "                             offset=0,\n",
    "                             comparison_distance=2000,\n",
    "                             skeleton_segment_size=1000,\n",
    "                              verbose=True,\n",
    "                             )\n",
    "base_final_widths"
   ]
  },
  {
   "cell_type": "code",
   "execution_count": null,
   "metadata": {},
   "outputs": [],
   "source": [
    "np.mean(base_final_widths)"
   ]
  },
  {
   "cell_type": "code",
   "execution_count": null,
   "metadata": {},
   "outputs": [],
   "source": [
    "restr_skeleton = sk.restrict_skeleton_to_distance_from_coordinate(neuron_obj[0].skeleton,\n",
    "                                                 neuron_obj[0].current_starting_coordinate,\n",
    "                                                 10000,)\n",
    "nviz.plot_objects(main_skeleton=neuron_obj[0].skeleton,\n",
    "                 skeletons=[restr_skeleton],\n",
    "                 skeletons_colors=\"red\")          "
   ]
  },
  {
   "cell_type": "code",
   "execution_count": null,
   "metadata": {},
   "outputs": [],
   "source": [
    "[k for k in dir(nru) if \"endpoint\" in k]"
   ]
  },
  {
   "cell_type": "code",
   "execution_count": null,
   "metadata": {},
   "outputs": [],
   "source": [
    "branches"
   ]
  },
  {
   "cell_type": "code",
   "execution_count": null,
   "metadata": {},
   "outputs": [],
   "source": [
    "\n",
    "\n",
    "axon_limb_dict = neuron_obj.axon_limb_branch_dict\n",
    "axon_limb_name = list(axon_limb_dict.keys())[0]\n",
    "\n",
    "limb_obj = neuron_obj[axon_limb_name]\n",
    "branches = axon_limb_dict[axon_limb_name]\n",
    "\n",
    "nru.closest_branch_endpoint_to_limb_starting_coordinate(limb_obj,\n",
    "                                                    branches,\n",
    "                                                       )\n"
   ]
  },
  {
   "cell_type": "code",
   "execution_count": null,
   "metadata": {},
   "outputs": [],
   "source": [
    "neuron_obj.axon_starting_coordinate"
   ]
  },
  {
   "cell_type": "code",
   "execution_count": null,
   "metadata": {},
   "outputs": [],
   "source": []
  },
  {
   "cell_type": "code",
   "execution_count": null,
   "metadata": {},
   "outputs": [],
   "source": []
  },
  {
   "cell_type": "code",
   "execution_count": null,
   "metadata": {},
   "outputs": [],
   "source": [
    "final_sk = sk.restrict_skeleton_from_start(neuron_obj[0].skeleton,\n",
    "                                 cutoff_distance=10000)"
   ]
  },
  {
   "cell_type": "code",
   "execution_count": null,
   "metadata": {},
   "outputs": [],
   "source": [
    "nviz.plot_objects(main_skeleton=neuron_obj[0].skeleton,\n",
    "                 skeletons=[final_sk[0]],\n",
    "                 skeletons_colors=\"red\")          "
   ]
  },
  {
   "cell_type": "code",
   "execution_count": null,
   "metadata": {},
   "outputs": [],
   "source": []
  }
 ],
 "metadata": {
  "kernelspec": {
   "display_name": "Python 3",
   "language": "python",
   "name": "python3"
  },
  "language_info": {
   "codemirror_mode": {
    "name": "ipython",
    "version": 3
   },
   "file_extension": ".py",
   "mimetype": "text/x-python",
   "name": "python",
   "nbconvert_exporter": "python",
   "pygments_lexer": "ipython3",
   "version": "3.6.9"
  }
 },
 "nbformat": 4,
 "nbformat_minor": 4
}
