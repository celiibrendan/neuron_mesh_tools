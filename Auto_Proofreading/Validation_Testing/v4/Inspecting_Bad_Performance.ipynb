{
 "cells": [
  {
   "cell_type": "code",
   "execution_count": null,
   "metadata": {},
   "outputs": [],
   "source": [
    "\"\"\"\n",
    "Purpose: To Inspect the Neurons that were really bad\n",
    "\n",
    "\"\"\""
   ]
  },
  {
   "cell_type": "code",
   "execution_count": 1,
   "metadata": {},
   "outputs": [],
   "source": [
    "%load_ext autoreload\n",
    "%autoreload 2"
   ]
  },
  {
   "cell_type": "code",
   "execution_count": 2,
   "metadata": {},
   "outputs": [
    {
     "name": "stderr",
     "output_type": "stream",
     "text": [
      "INFO - 2021-04-24 17:32:32,453 - settings - Setting database.host to at-database.ad.bcm.edu\n",
      "INFO - 2021-04-24 17:32:32,456 - settings - Setting database.user to celiib\n",
      "INFO - 2021-04-24 17:32:32,457 - settings - Setting database.password to newceliipass\n",
      "INFO - 2021-04-24 17:32:32,462 - settings - Setting stores to {'minnie65': {'protocol': 'file', 'location': '/mnt/dj-stor01/platinum/minnie65', 'stage': '/mnt/dj-stor01/platinum/minnie65'}, 'meshes': {'protocol': 'file', 'location': '/mnt/dj-stor01/platinum/minnie65/02/meshes', 'stage': '/mnt/dj-stor01/platinum/minnie65/02/meshes'}, 'decimated_meshes': {'protocol': 'file', 'location': '/mnt/dj-stor01/platinum/minnie65/02/decimated_meshes', 'stage': '/mnt/dj-stor01/platinum/minnie65/02/decimated_meshes'}, 'skeletons': {'protocol': 'file', 'location': '/mnt/dj-stor01/platinum/minnie65/02/skeletons'}}\n",
      "INFO - 2021-04-24 17:32:32,463 - settings - Setting enable_python_native_blobs to True\n",
      "INFO - 2021-04-24 17:32:32,475 - connection - Connected celiib@at-database.ad.bcm.edu:3306\n"
     ]
    },
    {
     "name": "stdout",
     "output_type": "stream",
     "text": [
      "Connecting celiib@at-database.ad.bcm.edu:3306\n"
     ]
    },
    {
     "name": "stderr",
     "output_type": "stream",
     "text": [
      "INFO - 2021-04-24 17:32:32,914 - settings - Setting enable_python_native_blobs to True\n",
      "INFO - 2021-04-24 17:32:32,918 - settings - Setting database.host to at-database.ad.bcm.edu\n",
      "INFO - 2021-04-24 17:32:32,920 - settings - Setting database.user to celiib\n",
      "INFO - 2021-04-24 17:32:32,920 - settings - Setting database.password to newceliipass\n",
      "INFO - 2021-04-24 17:32:32,921 - settings - Setting database.host to at-database.ad.bcm.edu\n",
      "INFO - 2021-04-24 17:32:32,922 - settings - Setting database.user to celiib\n",
      "INFO - 2021-04-24 17:32:32,923 - settings - Setting database.password to newceliipass\n",
      "INFO - 2021-04-24 17:32:32,925 - settings - Setting enable_python_native_blobs to True\n",
      "INFO - 2021-04-24 17:32:33,415 - settings - Setting enable_python_native_blobs to True\n"
     ]
    }
   ],
   "source": [
    "import numpy as np\n",
    "import datajoint as dj\n",
    "import trimesh\n",
    "from tqdm.notebook import tqdm\n",
    "from pathlib import Path\n",
    "\n",
    "from os import sys\n",
    "sys.path.append(\"/meshAfterParty/\")\n",
    "sys.path.append(\"/meshAfterParty/meshAfterParty\")\n",
    "\n",
    "import datajoint_utils as du\n",
    "from importlib import reload"
   ]
  },
  {
   "cell_type": "code",
   "execution_count": 3,
   "metadata": {},
   "outputs": [
    {
     "name": "stderr",
     "output_type": "stream",
     "text": [
      "INFO - 2021-04-24 17:32:33,564 - settings - Setting database.host to at-database.ad.bcm.edu\n",
      "INFO - 2021-04-24 17:32:33,566 - settings - Setting database.user to celiib\n",
      "INFO - 2021-04-24 17:32:33,567 - settings - Setting database.password to newceliipass\n",
      "INFO - 2021-04-24 17:32:33,572 - settings - Setting enable_python_native_blobs to True\n",
      "INFO - 2021-04-24 17:32:34,103 - settings - Setting enable_python_native_blobs to True\n"
     ]
    }
   ],
   "source": [
    "#configuring will include the adapters\n",
    "minnie,schema = du.configure_minnie_vm()"
   ]
  },
  {
   "cell_type": "code",
   "execution_count": 4,
   "metadata": {},
   "outputs": [],
   "source": [
    "import validation_utils as vu\n",
    "import neuron_visualizations as nviz\n",
    "import neuron_utils as nru\n",
    "import proofreading_utils as pru\n",
    "import time\n",
    "import system_utils as su"
   ]
  },
  {
   "cell_type": "markdown",
   "metadata": {},
   "source": [
    "# Downloading the Neuron"
   ]
  },
  {
   "cell_type": "code",
   "execution_count": 5,
   "metadata": {},
   "outputs": [],
   "source": [
    "seg_id = 864691136311791677\n",
    "seg_id = 864691135348272855\n",
    "seg_id = 864691135771629819"
   ]
  },
  {
   "cell_type": "code",
   "execution_count": 6,
   "metadata": {
    "scrolled": false
   },
   "outputs": [
    {
     "name": "stdout",
     "output_type": "stream",
     "text": [
      "Decompressing Neuron in minimal output mode...please wait\n"
     ]
    }
   ],
   "source": [
    "#1) Dwonload the neuron object\n",
    "neuron_obj = du.fetch_neuron_obj_manual(seg_id,\n",
    "                                   border_validation=True)"
   ]
  },
  {
   "cell_type": "code",
   "execution_count": 7,
   "metadata": {},
   "outputs": [
    {
     "name": "stdout",
     "output_type": "stream",
     "text": [
      "\n",
      "--- Working on filter 0:\n",
      "function = axon_on_dendrite_merges\n",
      "function __name__ = filter_away_axon_on_dendrite_merges\n",
      "function arguments = {'use_pre_existing_axon_labels': True}\n",
      "\n",
      "\n",
      "\n",
      "\n",
      "Branches Requested to Remove (WITH disconnect effect)\n",
      "\n",
      " Working on visualization type: mesh\n"
     ]
    },
    {
     "data": {
      "application/vnd.jupyter.widget-view+json": {
       "model_id": "2d7f7d868f1c424dacefb6699a4a0630",
       "version_major": 2,
       "version_minor": 0
      },
      "text/plain": [
       "VBox(children=(Figure(camera=PerspectiveCamera(fov=46.0, position=(0.0, 0.0, 2.0), projectionMatrix=(1.0, 0.0,…"
      ]
     },
     "metadata": {},
     "output_type": "display_data"
    },
    {
     "name": "stdout",
     "output_type": "stream",
     "text": [
      "\n",
      "--- Working on filter 1:\n",
      "function = high_degree_branching\n",
      "function __name__ = filter_away_high_degree_branching\n",
      "function arguments = {'offset': 1500, 'comparison_distance': 2000, 'worst_case_match_threshold': 65, 'width_diff_max': inf, 'match_threshold': 45, 'angle_buffer': 15, 'max_degree_to_resolve': 6, 'match_method': 'best_match'}\n",
      "\n",
      "\n",
      "\n",
      "\n",
      " ----- Working on coordinate [739362.2379257  755282.28049686 837120.94842382]--------\n",
      "coordinate [739362.2379257  755282.28049686 837120.94842382] had error branches []--------\n",
      "\n",
      "\n",
      " ----- Working on coordinate [757592.2 833732.6 895872.9]--------\n",
      "coordinate [757592.2 833732.6 895872.9] had error branches [21, 13]--------\n",
      "\n",
      "\n",
      " ----- Working on coordinate [787292.53025783 828441.87746682 905316.83792025]--------\n",
      "coordinate [787292.53025783 828441.87746682 905316.83792025] had error branches [21, 13, 54, 55]--------\n",
      "\n",
      "\n",
      " ----- Working on coordinate [799756.10234805 782527.18766394 914202.55136582]--------\n",
      "coordinate [799756.10234805 782527.18766394 914202.55136582] had error branches [21, 13, 54, 55, 93, 95]--------\n",
      "\n",
      "\n",
      " ----- Working on coordinate [803886.38038943 786535.47123104 914856.36410602]--------\n",
      "coordinate [803886.38038943 786535.47123104 914856.36410602] had error branches [21, 13, 54, 55, 93, 95, 102, 106]--------\n",
      "\n",
      "\n",
      " ----- Working on coordinate [819453.11381016 794624.32556351 907465.33672463]--------\n",
      "coordinate [819453.11381016 794624.32556351 907465.33672463] had error branches [21, 13, 54, 55, 93, 95, 102, 106, 109, 101]--------\n",
      "\n",
      "\n",
      " ----- Working on coordinate [826317.37548501 795791.15577087 907156.49690573]--------\n",
      "coordinate [826317.37548501 795791.15577087 907156.49690573] had error branches [21, 13, 54, 55, 93, 95, 102, 106, 109, 101, 117, 118, 107]--------\n",
      "\n",
      "\n",
      " ----- Working on coordinate [829643.66351225 796038.36993706 904979.77109465]--------\n",
      "coordinate [829643.66351225 796038.36993706 904979.77109465] had error branches [21, 13, 54, 55, 93, 95, 102, 106, 109, 101, 117, 118, 107, 128, 130]--------\n",
      "\n",
      "\n",
      " ----- Working on coordinate [838092.55811061 763729.2695726  940620.77990375]--------\n",
      "coordinate [838092.55811061 763729.2695726  940620.77990375] had error branches [21, 13, 54, 55, 93, 95, 102, 106, 109, 101, 117, 118, 107, 128, 130, 134, 127]--------\n",
      "\n",
      "\n",
      " ----- Working on coordinate [840173.08532844 857707.81483338 931799.56775638]--------\n",
      "coordinate [840173.08532844 857707.81483338 931799.56775638] had error branches [21, 13, 54, 55, 93, 95, 102, 106, 109, 101, 117, 118, 107, 128, 130, 134, 127, 151, 153]--------\n",
      "\n",
      "\n",
      " ----- Working on coordinate [873789.76567804 771542.96056816 895217.25287496]--------\n",
      "coordinate [873789.76567804 771542.96056816 895217.25287496] had error branches [21, 13, 54, 55, 93, 95, 102, 106, 109, 101, 117, 118, 107, 128, 130, 134, 127, 151, 153, 157, 159]--------\n",
      "\n",
      "\n",
      " ----- Working on coordinate [896481.14056421 813406.31397319 885522.61444459]--------\n",
      "coordinate [896481.14056421 813406.31397319 885522.61444459] had error branches [21, 13, 54, 55, 93, 95, 102, 106, 109, 101, 117, 118, 107, 128, 130, 134, 127, 151, 153, 157, 159, 178, 179]--------\n",
      "limb_branch_dict_to_cancel = {'L1': array([ 21,  13,  54,  55,  93,  95, 102, 106, 109, 101, 117, 118, 107,\n",
      "       128, 130, 134, 127, 151, 153, 157, 159, 178, 179, 191, 192])}\n",
      "\n",
      "\n",
      "Branches Requested to Remove (WITH disconnect effect)\n",
      "\n",
      " Working on visualization type: mesh\n"
     ]
    },
    {
     "data": {
      "application/vnd.jupyter.widget-view+json": {
       "model_id": "2efbf59917684a06a0a596aa97f76255",
       "version_major": 2,
       "version_minor": 0
      },
      "text/plain": [
       "VBox(children=(Figure(camera=PerspectiveCamera(fov=46.0, position=(0.0, 0.0, 2.0), projectionMatrix=(1.0, 0.0,…"
      ]
     },
     "metadata": {},
     "output_type": "display_data"
    },
    {
     "name": "stdout",
     "output_type": "stream",
     "text": [
      "\n",
      "--- Working on filter 2:\n",
      "function = axon_webbing_t_merges\n",
      "function __name__ = filter_away_webbing_t_merges\n",
      "function arguments = {'child_width_maximum': 75, 'parent_width_maximum': 75, 'axon_only': True, 'error_if_web_is_none': True, 'web_size_threshold': 120, 'web_size_type': 'ray_trace_median', 'web_above_threshold': True}\n",
      "\n",
      "\n",
      "limb_branch_dict_to_cancel = {}\n",
      "\n",
      "--- Working on filter 3:\n",
      "function = double_back_and_width_change\n",
      "function __name__ = filter_away_large_double_back_or_width_changes\n",
      "function arguments = {'perform_double_back_errors': True, 'skip_double_back_errors_for_axon': False, 'width_jump_threshold': 250, 'running_width_jump_method': True, 'double_back_axon_like_threshold': 145, 'double_back_threshold': 120, 'allow_axon_double_back_angle_with_top': 39, 'skeletal_length_to_skip': 4000, 'comparison_distance': 3000, 'perform_width_errors': True, 'perform_axon_width_errors': False}\n",
      "\n",
      "\n",
      "limb_branch_dict_to_cancel = {}\n",
      "\n",
      "--- Working on filter 4:\n",
      "function = axon_fork_divergence\n",
      "function __name__ = filter_away_small_axon_fork_divergence\n",
      "function arguments = {'divergence_threshold_mean': 165}\n",
      "\n",
      "\n",
      "limb_branch_dict_to_cancel = {}\n",
      "\n",
      "\n",
      "\n",
      " ---- Total time for applying filter: 65.89046788215637 -----\n",
      "\n",
      "--- Finished Part 1: Filtering Neuron -----\n",
      "Apply the presyn non_error\n",
      "For presyn: # valid synapses = 81, # error synapses  = 209, # error presyns = 8\n",
      "For postsyn: # valid synapses = 1467, # error synapses  = 3, # error presyns = 0\n",
      "\n",
      "--- Finished Part 2: Filtering Synapses -----\n",
      "Synapsse Results:\n",
      "Total Number of Synapses = 1760\n",
      "n_valid_syn_ids_presyn = 81\n",
      "n_errored_syn_ids_presyn = 209\n",
      "n_valid_syn_ids_postsyn = 1467\n",
      "n_errored_syn_ids_postsyn = 3\n",
      "\n",
      "--- Finished Part 3: Generating Validation Dataframe -----\n",
      "Segment Id = 864691135771629819\n",
      "Postsyn counts:\n",
      "TP:1465\n",
      "TN:3\n",
      "FP:2\n",
      "FN:0\n",
      "Presyn counts:\n",
      "TP:56\n",
      "TN:135\n",
      "FP:25\n",
      "FN:66\n"
     ]
    },
    {
     "data": {
      "image/png": "[encoded data removed]",
      "text/plain": [
       "<Figure size 700x400 with 2 Axes>"
      ]
     },
     "metadata": {},
     "output_type": "display_data"
    }
   ],
   "source": [
    "(filt_neuron,\n",
    " return_synapse_df_revised,\n",
    "return_validation_df_revised) =  vu.filtered_neuron_score(neuron_obj = neuron_obj,   \n",
    "                    filter_list = pru.v4_exc_filters(),\n",
    "                    plot_limb_branch_filter_with_disconnect_effect = True,\n",
    "                    verbose = True,\n",
    "                    plot_score=False)\n",
    "\n",
    "vu.synapse_validation_df_to_score_plot(return_validation_df_revised)"
   ]
  },
  {
   "cell_type": "code",
   "execution_count": 9,
   "metadata": {},
   "outputs": [
    {
     "name": "stdout",
     "output_type": "stream",
     "text": [
      "Using the mesh from the neuron object\n"
     ]
    },
    {
     "data": {
      "application/vnd.jupyter.widget-view+json": {
       "model_id": "8367758d65c9492f8da4c72d7bc9defc",
       "version_major": 2,
       "version_minor": 0
      },
      "text/plain": [
       "VBox(children=(Figure(camera=PerspectiveCamera(fov=46.0, position=(0.0, 0.0, 2.0), projectionMatrix=(1.0, 0.0,…"
      ]
     },
     "metadata": {},
     "output_type": "display_data"
    },
    {
     "name": "stdout",
     "output_type": "stream",
     "text": [
      "TP:yellow\n",
      "TN:aqua\n",
      "FP:black\n",
      "FN:orange\n"
     ]
    }
   ],
   "source": [
    "vu.plot_validation_synapses(seg_id,\n",
    "                            validation_df = return_validation_df_revised,\n",
    "                             synapse_dict = None,\n",
    "                             synapses_type_to_plot = None,\n",
    "                             synapses_type_to_not_plot = None,\n",
    "                             verbose=False,\n",
    "                             synapse_type = \"presyn\",\n",
    "                             TP_color=\"yellow\",\n",
    "                            TN_color=\"aqua\",\n",
    "                            FP_color=\"black\",\n",
    "                            FN_color=\"orange\",\n",
    "                             synapse_scatter_size = 0.15,\n",
    "                             \n",
    "                             #for plotting the actual mesh parts to go along\n",
    "                             \n",
    "                             neuron_obj = filt_neuron,\n",
    "                             plot_only_axon_skeleton = True,\n",
    "                             error_mesh_color = \"red\",\n",
    "                             valid_mesh_color = \"green\",\n",
    "                             valid_skeleton_color = \"black\",\n",
    "                             mesh_alpha = 0.3,)"
   ]
  },
  {
   "cell_type": "markdown",
   "metadata": {},
   "source": [
    "# Observations: The webbing not working"
   ]
  },
  {
   "cell_type": "code",
   "execution_count": 24,
   "metadata": {},
   "outputs": [
    {
     "name": "stdout",
     "output_type": "stream",
     "text": [
      "child_width_maximum= 200\n",
      "\n",
      " Working on visualization type: mesh\n"
     ]
    },
    {
     "data": {
      "application/vnd.jupyter.widget-view+json": {
       "model_id": "10d3d38b791f4d81bf1daaf13e052589",
       "version_major": 2,
       "version_minor": 0
      },
      "text/plain": [
       "VBox(children=(Figure(camera=PerspectiveCamera(fov=46.0, position=(0.0, 0.0, 2.0), projectionMatrix=(1.0, 0.0,…"
      ]
     },
     "metadata": {},
     "output_type": "display_data"
    },
    {
     "name": "stdout",
     "output_type": "stream",
     "text": [
      "two_downstream_thin_axon_limb_branch = {'L1': array([  1,   4,   6,   9,  10,  17,  23,  37,  41,  46,  51,  56,  94,\n",
      "       104, 109, 110, 112, 117, 118, 121, 122, 126, 127, 128, 130, 134,\n",
      "       140, 141, 144, 146, 151, 162, 163, 165, 166, 170, 171, 181, 184,\n",
      "       192, 195])}\n",
      "wide_angled_children= {'L1': array([ 17, 118, 121, 127])}\n",
      "Web size = 206.980246340241\n",
      "Web size = 78.12315262448463\n",
      "From limb L1, branch 118, Adding the downstream nodes [114, 124]  \n",
      "Web size = 497.39915913093483\n",
      "Web size = 280.570611038185\n",
      "Final web t error limb branch dict = {'L1': [114, 124]}\n",
      "\n",
      " Working on visualization type: mesh\n"
     ]
    },
    {
     "data": {
      "application/vnd.jupyter.widget-view+json": {
       "model_id": "8d20568ee3b74dd0b6e808ed609f86c0",
       "version_major": 2,
       "version_minor": 0
      },
      "text/plain": [
       "VBox(children=(Figure(camera=PerspectiveCamera(fov=46.0, position=(0.0, 0.0, 2.0), projectionMatrix=(1.0, 0.0,…"
      ]
     },
     "metadata": {},
     "output_type": "display_data"
    },
    {
     "data": {
      "text/plain": [
       "{'L1': [114, 124]}"
      ]
     },
     "execution_count": 24,
     "metadata": {},
     "output_type": "execute_result"
    }
   ],
   "source": [
    "import error_detection as ed\n",
    "ed.webbing_t_errors_limb_branch_dict(neuron_obj,\n",
    "                                     axon_only = True,\n",
    "                                #child_width_maximum = 75,\n",
    "                                parent_width_maximum = 75,\n",
    "                                plot_two_downstream_thin_axon_limb_branch = True,\n",
    "                                plot_wide_angled_children = False,\n",
    "                                error_if_web_is_none = True,\n",
    "                                verbose = True,\n",
    "\n",
    "                                #arguments for the web thresholding\n",
    "                                web_size_threshold=120,\n",
    "                                web_size_type=\"ray_trace_median\",\n",
    "                                web_above_threshold = True,\n",
    "\n",
    "                                plot_web_errors = True,\n",
    "                                    child_skeletal_threshold = 10000)"
   ]
  },
  {
   "cell_type": "code",
   "execution_count": 25,
   "metadata": {},
   "outputs": [
    {
     "data": {
      "text/plain": [
       "206.9857499827786"
      ]
     },
     "execution_count": 25,
     "metadata": {},
     "output_type": "execute_result"
    }
   ],
   "source": [
    "import trimesh_utils as tu\n",
    "tu.mesh_size(neuron_obj[1][17].web,size_type=\"ray_trace_median\")"
   ]
  },
  {
   "cell_type": "code",
   "execution_count": null,
   "metadata": {},
   "outputs": [],
   "source": []
  },
  {
   "cell_type": "code",
   "execution_count": null,
   "metadata": {},
   "outputs": [],
   "source": []
  },
  {
   "cell_type": "code",
   "execution_count": 17,
   "metadata": {},
   "outputs": [
    {
     "data": {
      "text/plain": [
       "(14, array([16, 21, 13]))"
      ]
     },
     "execution_count": 17,
     "metadata": {},
     "output_type": "execute_result"
    }
   ],
   "source": [
    "nru.classify_upstream_downsream(limb_obj,nru.find_branch_with_specific_coordinate(limb_obj,crossover_coordinates[0]))"
   ]
  },
  {
   "cell_type": "code",
   "execution_count": 19,
   "metadata": {},
   "outputs": [
    {
     "data": {
      "text/plain": [
       "17"
      ]
     },
     "execution_count": 19,
     "metadata": {},
     "output_type": "execute_result"
    }
   ],
   "source": [
    "import networkx_utils as xu\n",
    "xu.upstream_node(limb_obj.concept_network_directional,14)"
   ]
  },
  {
   "cell_type": "code",
   "execution_count": 20,
   "metadata": {},
   "outputs": [
    {
     "name": "stdout",
     "output_type": "stream",
     "text": [
      "\n",
      " Working on visualization type: mesh\n",
      "\n",
      " Working on visualization type: skeleton\n"
     ]
    },
    {
     "data": {
      "application/vnd.jupyter.widget-view+json": {
       "model_id": "99ed37c97bd84f62a0c00a587ecc33e3",
       "version_major": 2,
       "version_minor": 0
      },
      "text/plain": [
       "VBox(children=(Figure(camera=PerspectiveCamera(fov=46.0, position=(0.0, 0.0, 2.0), projectionMatrix=(1.0, 0.0,…"
      ]
     },
     "metadata": {},
     "output_type": "display_data"
    }
   ],
   "source": [
    "nviz.visualize_neuron(neuron_obj,\n",
    "                     limb_branch_dict=dict(L1 = [17]),\n",
    "                     mesh_whole_neuron=True)"
   ]
  },
  {
   "cell_type": "code",
   "execution_count": 23,
   "metadata": {},
   "outputs": [
    {
     "name": "stdout",
     "output_type": "stream",
     "text": [
      "Web Mesh = <trimesh.Trimesh(vertices.shape=(15, 3), faces.shape=(23, 3))>, web_cdf = 0.405784 \n",
      "web_bbox_rations = [1.3445139953170453, 1.5452721234491924, 1.1493165030869068], web_volume_ratio = 1.8406564072630354\n",
      "\n",
      "Parent Node 17, n_boutons = 6\n",
      "Parent_width (no_bouton_median)= 63.94886230101027\n",
      "Parent_width (no_spine_median_mesh_center) = 68.30869549834118\n",
      "\n",
      "Downstream Branch 14, n_boutons = 5\n",
      "\n",
      "Downstream branch 14 width (no_spine_median_mesh_center) = 92.11161096627852\n",
      "Downstream branch 14 width (no_bouton_median)= 88.95042864225928\n",
      "child_angle = 91.43\n",
      "\n",
      "Downstream Branch 15, n_boutons = 3\n",
      "\n",
      "Downstream branch 15 width (no_spine_median_mesh_center) = 79.76305144409866\n",
      "Downstream branch 15 width (no_bouton_median)= 75.25931090292309\n",
      "child_angle = 72.73\n",
      "\n",
      "sibling_angles = {15: 163.16}\n",
      "\n"
     ]
    },
    {
     "data": {
      "application/vnd.jupyter.widget-view+json": {
       "model_id": "97fc23362ed3414fae20c1a51844571d",
       "version_major": 2,
       "version_minor": 0
      },
      "text/plain": [
       "VBox(children=(Figure(camera=PerspectiveCamera(fov=46.0, position=(0.0, 0.0, 2.0), projectionMatrix=(1.0, 0.0,…"
      ]
     },
     "metadata": {},
     "output_type": "display_data"
    }
   ],
   "source": [
    "nviz.plot_web_intersection(neuron_obj,\n",
    "                           1,\n",
    "                          17)"
   ]
  },
  {
   "cell_type": "code",
   "execution_count": null,
   "metadata": {},
   "outputs": [],
   "source": []
  },
  {
   "cell_type": "markdown",
   "metadata": {},
   "source": [
    "# Inspecting why crossover did so poorly"
   ]
  },
  {
   "cell_type": "code",
   "execution_count": 10,
   "metadata": {},
   "outputs": [],
   "source": [
    "limb_obj = neuron_obj[neuron_obj.axon_limb_name]"
   ]
  },
  {
   "cell_type": "code",
   "execution_count": 11,
   "metadata": {},
   "outputs": [
    {
     "data": {
      "text/plain": [
       "array([[739362.2379257 , 755282.28049686, 837120.94842382],\n",
       "       [757592.2       , 833732.6       , 895872.9       ],\n",
       "       [787292.53025783, 828441.87746682, 905316.83792025],\n",
       "       [799756.10234805, 782527.18766394, 914202.55136582],\n",
       "       [803886.38038943, 786535.47123104, 914856.36410602],\n",
       "       [819453.11381016, 794624.32556351, 907465.33672463],\n",
       "       [826317.37548501, 795791.15577087, 907156.49690573],\n",
       "       [829643.66351225, 796038.36993706, 904979.77109465],\n",
       "       [838092.55811061, 763729.2695726 , 940620.77990375],\n",
       "       [840173.08532844, 857707.81483338, 931799.56775638],\n",
       "       [873789.76567804, 771542.96056816, 895217.25287496],\n",
       "       [896481.14056421, 813406.31397319, 885522.61444459]])"
      ]
     },
     "execution_count": 11,
     "metadata": {},
     "output_type": "execute_result"
    }
   ],
   "source": [
    "exactly_equal = False\n",
    "crossover_coordinates = nru.high_degree_branching_coordinates_on_limb(limb_obj,min_degree_to_find=4,\n",
    "                                                                         exactly_equal=exactly_equal,\n",
    "                                                                         )\n",
    "crossover_coordinates"
   ]
  },
  {
   "cell_type": "code",
   "execution_count": 13,
   "metadata": {},
   "outputs": [],
   "source": [
    "nviz.set_zoom(crossover_coordinates[0],\n",
    "             radius = 20000)"
   ]
  },
  {
   "cell_type": "code",
   "execution_count": null,
   "metadata": {},
   "outputs": [],
   "source": []
  },
  {
   "cell_type": "code",
   "execution_count": null,
   "metadata": {},
   "outputs": [],
   "source": [
    "winning_downstream,error_downstream = ed.high_degree_upstream_match(limb_obj,\n",
    "                          coordinate = crossover_coordinates[1],\n",
    "                        plot_intermediates = True,\n",
    "                        plot_match_intermediates = True,\n",
    "                          verbose=True)\n",
    "print(winning_downstream,error_downstream)"
   ]
  },
  {
   "cell_type": "code",
   "execution_count": null,
   "metadata": {},
   "outputs": [],
   "source": [
    "from importlib import reload\n",
    "ed = reload(ed)"
   ]
  },
  {
   "cell_type": "code",
   "execution_count": null,
   "metadata": {},
   "outputs": [],
   "source": [
    "import error_detection as ed\n",
    "err_dict = ed.high_degree_branch_errors_limb_branch_dict(neuron_obj,\n",
    "                                                        verbose = True,\n",
    "                                                        match_method=\"best_match\")"
   ]
  },
  {
   "cell_type": "code",
   "execution_count": null,
   "metadata": {},
   "outputs": [],
   "source": [
    "neuron_obj[\"L1\"][186]"
   ]
  },
  {
   "cell_type": "code",
   "execution_count": null,
   "metadata": {},
   "outputs": [],
   "source": [
    "nviz.visualize_neuron(neuron_obj,\n",
    "                     limb_branch_dict=err_dict,\n",
    "                     mesh_whole_neuron=True\n",
    "                     )"
   ]
  },
  {
   "cell_type": "code",
   "execution_count": null,
   "metadata": {},
   "outputs": [],
   "source": [
    "nviz.visualize_neuron_specific_limb(neuron_obj,1)"
   ]
  },
  {
   "cell_type": "code",
   "execution_count": null,
   "metadata": {},
   "outputs": [],
   "source": [
    "import networkx_utils as xu\n",
    "xu.downstream_nodes(neuron_obj[1].concept_network_directional,328)"
   ]
  },
  {
   "cell_type": "code",
   "execution_count": null,
   "metadata": {
    "scrolled": false
   },
   "outputs": [],
   "source": [
    "import numpy_utils as nu\n",
    "ed.high_degree_upstream_match(\n",
    "    limb_obj,\n",
    "    coordinate = None,\n",
    "    upstream_branch = 328,\n",
    "    downstream_branches = np.array([330, 331, 333]),\n",
    "\n",
    "    #arguments for the angle checking\n",
    "    offset=1500,\n",
    "    comparison_distance = 2000,\n",
    "    worst_case_match_threshold = 65,\n",
    "    plot_intermediates = True,\n",
    "    plot_match_intermediates = True,\n",
    "\n",
    "    #args for width matching\n",
    "    width_diff_max = np.inf,#100,\n",
    "\n",
    "    #args for definite pairs\n",
    "    match_threshold = 45,\n",
    "    angle_buffer = 15,\n",
    "    \n",
    "    max_degree_to_resolve = 6,\n",
    "    axon_dependent = True,\n",
    "\n",
    "    #args for picking the final winner\n",
    "    match_method = \"lowest_angle_sum\", #other option is \"best_match\"\n",
    "    verbose = True\n",
    "    )"
   ]
  },
  {
   "cell_type": "code",
   "execution_count": null,
   "metadata": {},
   "outputs": [],
   "source": [
    "import axon_utils as au\n",
    "au.axon_width(neuron_obj[1][333])"
   ]
  },
  {
   "cell_type": "code",
   "execution_count": null,
   "metadata": {},
   "outputs": [],
   "source": [
    "array([330, 331, 333])"
   ]
  }
 ],
 "metadata": {
  "kernelspec": {
   "display_name": "Python 3",
   "language": "python",
   "name": "python3"
  },
  "language_info": {
   "codemirror_mode": {
    "name": "ipython",
    "version": 3
   },
   "file_extension": ".py",
   "mimetype": "text/x-python",
   "name": "python",
   "nbconvert_exporter": "python",
   "pygments_lexer": "ipython3",
   "version": "3.6.9"
  }
 },
 "nbformat": 4,
 "nbformat_minor": 4
}
