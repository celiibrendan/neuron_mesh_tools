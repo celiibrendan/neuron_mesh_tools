{
 "cells": [
  {
   "cell_type": "code",
   "execution_count": null,
   "metadata": {},
   "outputs": [],
   "source": [
    "\"\"\"\n",
    "Purpose: To Inspect the Neurons that were really bad\n",
    "\n",
    "\"\"\""
   ]
  },
  {
   "cell_type": "code",
   "execution_count": 1,
   "metadata": {},
   "outputs": [],
   "source": [
    "%load_ext autoreload\n",
    "%autoreload 2"
   ]
  },
  {
   "cell_type": "code",
   "execution_count": 2,
   "metadata": {},
   "outputs": [
    {
     "name": "stderr",
     "output_type": "stream",
     "text": [
      "INFO - 2021-04-25 00:45:20,671 - settings - Setting database.host to at-database.ad.bcm.edu\n",
      "INFO - 2021-04-25 00:45:20,673 - settings - Setting database.user to celiib\n",
      "INFO - 2021-04-25 00:45:20,674 - settings - Setting database.password to newceliipass\n",
      "INFO - 2021-04-25 00:45:20,689 - settings - Setting stores to {'minnie65': {'protocol': 'file', 'location': '/mnt/dj-stor01/platinum/minnie65', 'stage': '/mnt/dj-stor01/platinum/minnie65'}, 'meshes': {'protocol': 'file', 'location': '/mnt/dj-stor01/platinum/minnie65/02/meshes', 'stage': '/mnt/dj-stor01/platinum/minnie65/02/meshes'}, 'decimated_meshes': {'protocol': 'file', 'location': '/mnt/dj-stor01/platinum/minnie65/02/decimated_meshes', 'stage': '/mnt/dj-stor01/platinum/minnie65/02/decimated_meshes'}, 'skeletons': {'protocol': 'file', 'location': '/mnt/dj-stor01/platinum/minnie65/02/skeletons'}}\n",
      "INFO - 2021-04-25 00:45:20,690 - settings - Setting enable_python_native_blobs to True\n",
      "INFO - 2021-04-25 00:45:20,702 - connection - Connected celiib@at-database.ad.bcm.edu:3306\n"
     ]
    },
    {
     "name": "stdout",
     "output_type": "stream",
     "text": [
      "Connecting celiib@at-database.ad.bcm.edu:3306\n"
     ]
    },
    {
     "name": "stderr",
     "output_type": "stream",
     "text": [
      "INFO - 2021-04-25 00:45:21,157 - settings - Setting enable_python_native_blobs to True\n",
      "INFO - 2021-04-25 00:45:21,161 - settings - Setting database.host to at-database.ad.bcm.edu\n",
      "INFO - 2021-04-25 00:45:21,162 - settings - Setting database.user to celiib\n",
      "INFO - 2021-04-25 00:45:21,163 - settings - Setting database.password to newceliipass\n",
      "INFO - 2021-04-25 00:45:21,164 - settings - Setting database.host to at-database.ad.bcm.edu\n",
      "INFO - 2021-04-25 00:45:21,165 - settings - Setting database.user to celiib\n",
      "INFO - 2021-04-25 00:45:21,165 - settings - Setting database.password to newceliipass\n",
      "INFO - 2021-04-25 00:45:21,168 - settings - Setting enable_python_native_blobs to True\n",
      "INFO - 2021-04-25 00:45:21,607 - settings - Setting enable_python_native_blobs to True\n"
     ]
    }
   ],
   "source": [
    "import numpy as np\n",
    "import datajoint as dj\n",
    "import trimesh\n",
    "from tqdm.notebook import tqdm\n",
    "from pathlib import Path\n",
    "\n",
    "from os import sys\n",
    "sys.path.append(\"/meshAfterParty/\")\n",
    "sys.path.append(\"/meshAfterParty/meshAfterParty\")\n",
    "\n",
    "import datajoint_utils as du\n",
    "from importlib import reload"
   ]
  },
  {
   "cell_type": "code",
   "execution_count": 3,
   "metadata": {},
   "outputs": [
    {
     "name": "stderr",
     "output_type": "stream",
     "text": [
      "INFO - 2021-04-25 00:45:21,729 - settings - Setting database.host to at-database.ad.bcm.edu\n",
      "INFO - 2021-04-25 00:45:21,731 - settings - Setting database.user to celiib\n",
      "INFO - 2021-04-25 00:45:21,732 - settings - Setting database.password to newceliipass\n",
      "INFO - 2021-04-25 00:45:21,736 - settings - Setting enable_python_native_blobs to True\n",
      "INFO - 2021-04-25 00:45:22,223 - settings - Setting enable_python_native_blobs to True\n"
     ]
    }
   ],
   "source": [
    "#configuring will include the adapters\n",
    "minnie,schema = du.configure_minnie_vm()"
   ]
  },
  {
   "cell_type": "code",
   "execution_count": 4,
   "metadata": {},
   "outputs": [],
   "source": [
    "import validation_utils as vu\n",
    "import neuron_visualizations as nviz\n",
    "import neuron_utils as nru\n",
    "import proofreading_utils as pru\n",
    "import time\n",
    "import system_utils as su"
   ]
  },
  {
   "cell_type": "markdown",
   "metadata": {},
   "source": [
    "# Downloading the Neuron"
   ]
  },
  {
   "cell_type": "code",
   "execution_count": 5,
   "metadata": {},
   "outputs": [],
   "source": [
    "seg_id = 864691136311791677\n",
    "seg_id = 864691135348272855\n",
    "seg_id = 864691135771629819\n",
    "seg_id = 864691136175008774\n",
    "seg_id = 864691136105493209"
   ]
  },
  {
   "cell_type": "code",
   "execution_count": 6,
   "metadata": {
    "scrolled": false
   },
   "outputs": [
    {
     "name": "stdout",
     "output_type": "stream",
     "text": [
      "Decompressing Neuron in minimal output mode...please wait\n"
     ]
    }
   ],
   "source": [
    "#1) Dwonload the neuron object\n",
    "neuron_obj = du.fetch_neuron_obj_manual(seg_id,\n",
    "                                   border_validation=True)"
   ]
  },
  {
   "cell_type": "code",
   "execution_count": 7,
   "metadata": {},
   "outputs": [
    {
     "name": "stdout",
     "output_type": "stream",
     "text": [
      "\n",
      "--- Working on filter 0:\n",
      "function = axon_on_dendrite_merges\n",
      "function __name__ = filter_away_axon_on_dendrite_merges\n",
      "function arguments = {'use_pre_existing_axon_labels': True}\n",
      "\n",
      "\n",
      "\n",
      "\n",
      "Branches Requested to Remove (WITH disconnect effect)\n",
      "\n",
      " Working on visualization type: mesh\n"
     ]
    },
    {
     "data": {
      "application/vnd.jupyter.widget-view+json": {
       "model_id": "038d50b4db364eb2a3285dfc16a73399",
       "version_major": 2,
       "version_minor": 0
      },
      "text/plain": [
       "VBox(children=(Figure(camera=PerspectiveCamera(fov=46.0, position=(0.0, 0.0, 2.0), projectionMatrix=(1.0, 0.0,…"
      ]
     },
     "metadata": {},
     "output_type": "display_data"
    },
    {
     "name": "stdout",
     "output_type": "stream",
     "text": [
      "\n",
      "--- Working on filter 1:\n",
      "function = high_degree_branching\n",
      "function __name__ = filter_away_high_degree_branching\n",
      "function arguments = {'offset': 1500, 'comparison_distance': 2000, 'worst_case_match_threshold': 65, 'width_diff_max': 60, 'match_threshold': 45, 'angle_buffer': 15, 'max_degree_to_resolve': 6, 'match_method': 'best_match'}\n",
      "\n",
      "\n",
      "\n",
      "\n",
      " ----- Working on coordinate [ 857274.3  735210.6 1094806. ]--------\n",
      "coordinate [ 857274.3  735210.6 1094806. ] had error branches [12 13]--------\n",
      "\n",
      "\n",
      " ----- Working on coordinate [ 877379.9  722813.8 1023782. ]--------\n",
      "coordinate [ 877379.9  722813.8 1023782. ] had error branches [19 20]--------\n",
      "\n",
      "\n",
      " ----- Working on coordinate [1071735.12377996 1055951.07117419 1053248.49149601]--------\n",
      "coordinate [1071735.12377996 1055951.07117419 1053248.49149601] had error branches [42 35]--------\n",
      "\n",
      "\n",
      " ----- Working on coordinate [1092707.99779616  868740.26117456  971322.63568793]--------\n",
      "coordinate [1092707.99779616  868740.26117456  971322.63568793] had error branches [54 61]--------\n",
      "\n",
      "\n",
      " ----- Working on coordinate [1094987.2996632   637384.02962001 1111629.0866347 ]--------\n",
      "coordinate [1094987.2996632   637384.02962001 1111629.0866347 ] had error branches [73 63]--------\n",
      "\n",
      "\n",
      " ----- Working on coordinate [1096345.96611615  633380.71366901 1107788.55209301]--------\n",
      "coordinate [1096345.96611615  633380.71366901 1107788.55209301] had error branches [71 74]--------\n",
      "\n",
      "\n",
      " ----- Working on coordinate [1098878.27604878  632728.01996498 1107374.93542621]--------\n",
      "coordinate [1098878.27604878  632728.01996498 1107374.93542621] had error branches [58 66 78 80 81 82 83 84 85 86]--------\n",
      "\n",
      "\n",
      " ----- Working on coordinate [1107621.41580987  716854.49616061  966298.56360391]--------\n",
      "coordinate [1107621.41580987  716854.49616061  966298.56360391] had error branches [102  75]--------\n",
      "\n",
      "\n",
      " ----- Working on coordinate [1122669.59342188  761460.39115589 1018620.1301714 ]--------\n",
      "coordinate [1122669.59342188  761460.39115589 1018620.1301714 ] had error branches [121  90]--------\n",
      "limb_branch_dict_to_cancel = {'L0': array([ 12,  13,  19,  20,  42,  35,  54,  61,  73,  63,  71,  74,  58,\n",
      "        66,  78,  80,  81,  82,  83,  84,  85,  86, 102,  75, 121,  90])}\n",
      "\n",
      "\n",
      "Branches Requested to Remove (WITH disconnect effect)\n",
      "\n",
      " Working on visualization type: mesh\n"
     ]
    },
    {
     "data": {
      "application/vnd.jupyter.widget-view+json": {
       "model_id": "e2050b44bf954fe7aeb1fbf46383dbfb",
       "version_major": 2,
       "version_minor": 0
      },
      "text/plain": [
       "VBox(children=(Figure(camera=PerspectiveCamera(fov=46.0, position=(0.0, 0.0, 2.0), projectionMatrix=(1.0, 0.0,…"
      ]
     },
     "metadata": {},
     "output_type": "display_data"
    },
    {
     "name": "stdout",
     "output_type": "stream",
     "text": [
      "\n",
      "--- Working on filter 2:\n",
      "function = axon_webbing_t_merges\n",
      "function __name__ = filter_away_webbing_t_merges\n",
      "function arguments = {'child_width_maximum': 75, 'parent_width_maximum': 75, 'axon_only': True, 'error_if_web_is_none': True, 'web_size_threshold': 120, 'web_size_type': 'ray_trace_median', 'web_above_threshold': True}\n",
      "\n",
      "\n",
      "limb_branch_dict_to_cancel = {'L0': [49, 51]}\n",
      "\n",
      "\n",
      "Branches Requested to Remove (WITH disconnect effect)\n",
      "\n",
      " Working on visualization type: mesh\n"
     ]
    },
    {
     "data": {
      "application/vnd.jupyter.widget-view+json": {
       "model_id": "ccf33d46a71847edada2ccfd4dbe6fc0",
       "version_major": 2,
       "version_minor": 0
      },
      "text/plain": [
       "VBox(children=(Figure(camera=PerspectiveCamera(fov=46.0, position=(0.0, 0.0, 2.0), projectionMatrix=(1.0, 0.0,…"
      ]
     },
     "metadata": {},
     "output_type": "display_data"
    },
    {
     "name": "stdout",
     "output_type": "stream",
     "text": [
      "\n",
      "--- Working on filter 3:\n",
      "function = double_back_and_width_change\n",
      "function __name__ = filter_away_large_double_back_or_width_changes\n",
      "function arguments = {'perform_double_back_errors': True, 'skip_double_back_errors_for_axon': False, 'width_jump_threshold': 250, 'running_width_jump_method': True, 'double_back_axon_like_threshold': 145, 'double_back_threshold': 120, 'allow_axon_double_back_angle_with_top': 39, 'allow_axon_double_back_angle_with_top_width_min': 140, 'skeletal_length_to_skip': 4000, 'comparison_distance': 3000, 'perform_width_errors': True, 'perform_axon_width_errors': False}\n",
      "\n",
      "\n",
      "limb_branch_dict_to_cancel = {}\n",
      "\n",
      "--- Working on filter 4:\n",
      "function = axon_fork_divergence\n",
      "function __name__ = filter_away_small_axon_fork_divergence\n",
      "function arguments = {'divergence_threshold_mean': 165}\n",
      "\n",
      "\n",
      "limb_branch_dict_to_cancel = {'L0': array([7, 8])}\n",
      "\n",
      "\n",
      "Branches Requested to Remove (WITH disconnect effect)\n",
      "\n",
      " Working on visualization type: mesh\n"
     ]
    },
    {
     "data": {
      "application/vnd.jupyter.widget-view+json": {
       "model_id": "1b014ade25114ad4af98f872fec84e06",
       "version_major": 2,
       "version_minor": 0
      },
      "text/plain": [
       "VBox(children=(Figure(camera=PerspectiveCamera(fov=46.0, position=(0.0, 0.0, 2.0), projectionMatrix=(1.0, 0.0,…"
      ]
     },
     "metadata": {},
     "output_type": "display_data"
    },
    {
     "name": "stdout",
     "output_type": "stream",
     "text": [
      "\n",
      "\n",
      "\n",
      " ---- Total time for applying filter: 93.29255795478821 -----\n",
      "\n",
      "--- Finished Part 1: Filtering Neuron -----\n",
      "Apply the presyn non_error\n",
      "For presyn: # valid synapses = 19, # error synapses  = 158, # error presyns = 8\n",
      "For postsyn: # valid synapses = 2798, # error synapses  = 3, # error presyns = 0\n",
      "\n",
      "--- Finished Part 2: Filtering Synapses -----\n",
      "Synapsse Results:\n",
      "Total Number of Synapses = 2978\n",
      "n_valid_syn_ids_presyn = 19\n",
      "n_errored_syn_ids_presyn = 158\n",
      "n_valid_syn_ids_postsyn = 2798\n",
      "n_errored_syn_ids_postsyn = 3\n",
      "\n",
      "--- Finished Part 3: Generating Validation Dataframe -----\n",
      "Segment Id = 864691136105493209\n",
      "Postsyn counts:\n",
      "TP:2796\n",
      "TN:2\n",
      "FP:2\n",
      "FN:1\n",
      "Presyn counts:\n",
      "TP:17\n",
      "TN:49\n",
      "FP:2\n",
      "FN:101\n"
     ]
    },
    {
     "data": {
      "image/png": "[encoded data removed]",
      "text/plain": [
       "<Figure size 700x400 with 2 Axes>"
      ]
     },
     "metadata": {},
     "output_type": "display_data"
    }
   ],
   "source": [
    "(filt_neuron,\n",
    " return_synapse_df_revised,\n",
    "return_validation_df_revised) =  vu.filtered_neuron_score(neuron_obj = neuron_obj,   \n",
    "                    filter_list = pru.v4_exc_filters(),\n",
    "                    plot_limb_branch_filter_with_disconnect_effect = True,\n",
    "                    verbose = True,\n",
    "                    plot_score=False)\n",
    "\n",
    "vu.synapse_validation_df_to_score_plot(return_validation_df_revised)"
   ]
  },
  {
   "cell_type": "code",
   "execution_count": 8,
   "metadata": {},
   "outputs": [
    {
     "name": "stdout",
     "output_type": "stream",
     "text": [
      "Using the mesh from the neuron object\n"
     ]
    },
    {
     "data": {
      "application/vnd.jupyter.widget-view+json": {
       "model_id": "16506273791d498f872350c5f23fee45",
       "version_major": 2,
       "version_minor": 0
      },
      "text/plain": [
       "VBox(children=(Figure(camera=PerspectiveCamera(fov=46.0, position=(0.0, 0.0, 2.0), projectionMatrix=(1.0, 0.0,…"
      ]
     },
     "metadata": {},
     "output_type": "display_data"
    },
    {
     "name": "stdout",
     "output_type": "stream",
     "text": [
      "TP:yellow\n",
      "TN:aqua\n",
      "FP:black\n",
      "FN:orange\n"
     ]
    }
   ],
   "source": [
    "vu.plot_validation_synapses(seg_id,\n",
    "                            validation_df = return_validation_df_revised,\n",
    "                             synapse_dict = None,\n",
    "                             synapses_type_to_plot = None,\n",
    "                             synapses_type_to_not_plot = None,\n",
    "                             verbose=False,\n",
    "                             synapse_type = \"presyn\",\n",
    "                             TP_color=\"yellow\",\n",
    "                            TN_color=\"aqua\",\n",
    "                            FP_color=\"black\",\n",
    "                            FN_color=\"orange\",\n",
    "                             synapse_scatter_size = 0.15,\n",
    "                             \n",
    "                             #for plotting the actual mesh parts to go along\n",
    "                             \n",
    "                             neuron_obj = filt_neuron,\n",
    "                             plot_only_axon_skeleton = True,\n",
    "                             error_mesh_color = \"red\",\n",
    "                             valid_mesh_color = \"green\",\n",
    "                             valid_skeleton_color = \"black\",\n",
    "                             mesh_alpha = 0.3,)"
   ]
  },
  {
   "cell_type": "code",
   "execution_count": 24,
   "metadata": {},
   "outputs": [
    {
     "name": "stdout",
     "output_type": "stream",
     "text": [
      "All sibling edges = [(14, 15), (2, 4), (4, 2), (23, 25), (25, 23)]\n"
     ]
    },
    {
     "data": {
      "text/plain": [
       "[[14], [2, 4], [25, 23]]"
      ]
     },
     "execution_count": 24,
     "metadata": {},
     "output_type": "execute_result"
    }
   ],
   "source": [
    "import networkx_utils as nx\n",
    "\n"
   ]
  },
  {
   "cell_type": "code",
   "execution_count": 25,
   "metadata": {},
   "outputs": [
    {
     "name": "stdout",
     "output_type": "stream",
     "text": [
      "All sibling edges = []\n"
     ]
    },
    {
     "data": {
      "text/plain": [
       "[]"
      ]
     },
     "execution_count": 25,
     "metadata": {},
     "output_type": "execute_result"
    }
   ],
   "source": [
    "xu.group_nodes_into_siblings(G = neuron_obj[0].concept_network_directional,\n",
    "    nodes = [],\n",
    "    verbose = True)"
   ]
  },
  {
   "cell_type": "code",
   "execution_count": 39,
   "metadata": {},
   "outputs": [
    {
     "name": "stdout",
     "output_type": "stream",
     "text": [
      "For L0 sib_groups= [[14, 15], [2, 4], [25, 23]]\n",
      "For sibling group [14, 15]: upstream node = 16\n",
      "Widths are [61.4905306  80.04047336], upstream_width = 61.53837721468874\n",
      "width_differences= [ 0.04784661 18.50209614]\n",
      "With min_idx= 0, 14 was a matching node to the upstream node\n",
      "For sibling group [2, 4]: upstream node = 5\n",
      "Widths are [ 58.67784076 169.70334389], upstream_width = 60.018024483855164\n",
      "width_differences= [  1.34018373 109.6853194 ]\n",
      "With min_idx= 0, 2 was a matching node to the upstream node\n",
      "For sibling group [25, 23]: upstream node = 26\n",
      "Widths are [51.38841105 77.9009854 ], upstream_width = 70.4597140721286\n",
      "width_differences= [19.07130303  7.44127133]\n",
      "With min_idx= 1, 23 was a matching node to the upstream node\n"
     ]
    },
    {
     "data": {
      "text/plain": [
       "{'L0': [15, 4, 25]}"
      ]
     },
     "execution_count": 39,
     "metadata": {},
     "output_type": "execute_result"
    }
   ],
   "source": [
    "import numpy as np\n",
    "\n",
    "\n",
    "verbose = True\n",
    "fork_div_limb_branch = {'L0': np.array([14,15,  2,  4, 23, 25])}\n",
    "width_match_threshold = 10\n",
    "width_match_buffer = 10\n",
    "\n",
    "ed.attempt_width_matching_for_fork_divergence(neuron_obj,\n",
    "                                              fork_div_limb_branch,\n",
    "                                              width_match_threshold = 10,\n",
    "                                              width_match_buffer = 10,\n",
    "                                              verbose = True)"
   ]
  },
  {
   "cell_type": "code",
   "execution_count": null,
   "metadata": {},
   "outputs": [],
   "source": []
  },
  {
   "cell_type": "code",
   "execution_count": null,
   "metadata": {},
   "outputs": [],
   "source": []
  },
  {
   "cell_type": "code",
   "execution_count": 40,
   "metadata": {},
   "outputs": [
    {
     "name": "stdout",
     "output_type": "stream",
     "text": [
      "\n",
      " Working on visualization type: mesh\n"
     ]
    },
    {
     "data": {
      "application/vnd.jupyter.widget-view+json": {
       "model_id": "e04821b7793e4945a6ea20666c439a26",
       "version_major": 2,
       "version_minor": 0
      },
      "text/plain": [
       "VBox(children=(Figure(camera=PerspectiveCamera(fov=46.0, position=(0.0, 0.0, 2.0), projectionMatrix=(1.0, 0.0,…"
      ]
     },
     "metadata": {},
     "output_type": "display_data"
    },
    {
     "name": "stdout",
     "output_type": "stream",
     "text": [
      "\n",
      " Working on visualization type: mesh\n"
     ]
    },
    {
     "data": {
      "application/vnd.jupyter.widget-view+json": {
       "model_id": "fc3b8cb5010a448eb672b6fdf3766a42",
       "version_major": 2,
       "version_minor": 0
      },
      "text/plain": [
       "VBox(children=(Figure(camera=PerspectiveCamera(fov=46.0, position=(0.0, 0.0, 2.0), projectionMatrix=(1.0, 0.0,…"
      ]
     },
     "metadata": {},
     "output_type": "display_data"
    },
    {
     "data": {
      "text/plain": [
       "{'L0': [25]}"
      ]
     },
     "execution_count": 40,
     "metadata": {},
     "output_type": "execute_result"
    }
   ],
   "source": [
    "import error_detection as ed\n",
    "ed.axon_fork_divergence_errors_limb_branch_dict(neuron_obj,\n",
    "                                               plot_two_downstream_thick_axon_limb_branch=True,\n",
    "                                               plot_fork_div_limb_branch=True)"
   ]
  },
  {
   "cell_type": "code",
   "execution_count": 11,
   "metadata": {},
   "outputs": [
    {
     "data": {
      "text/plain": [
       "26"
      ]
     },
     "execution_count": 11,
     "metadata": {},
     "output_type": "execute_result"
    }
   ],
   "source": [
    "import networkx_utils as xu\n",
    "xu.upstream_node(neuron_obj[0].concept_network_directional,23)"
   ]
  },
  {
   "cell_type": "code",
   "execution_count": 13,
   "metadata": {},
   "outputs": [
    {
     "data": {
      "text/plain": [
       "(70.4597140721286, 77.90098540302137, 51.388411045020064)"
      ]
     },
     "execution_count": 13,
     "metadata": {},
     "output_type": "execute_result"
    }
   ],
   "source": [
    "import axon_utils as au\n",
    "\n",
    "au.axon_width(neuron_obj[0][26]), au.axon_width(neuron_obj[0][23]), au.axon_width(neuron_obj[0][25])"
   ]
  },
  {
   "cell_type": "markdown",
   "metadata": {},
   "source": [
    "# Observations: The webbing not working"
   ]
  },
  {
   "cell_type": "code",
   "execution_count": null,
   "metadata": {},
   "outputs": [],
   "source": [
    "import error_detection as ed\n",
    "ed.webbing_t_errors_limb_branch_dict(neuron_obj,\n",
    "                                     axon_only = True,\n",
    "                                #child_width_maximum = 75,\n",
    "                                parent_width_maximum = 75,\n",
    "                                plot_two_downstream_thin_axon_limb_branch = True,\n",
    "                                plot_wide_angled_children = False,\n",
    "                                error_if_web_is_none = True,\n",
    "                                verbose = True,\n",
    "\n",
    "                                #arguments for the web thresholding\n",
    "                                web_size_threshold=120,\n",
    "                                web_size_type=\"ray_trace_median\",\n",
    "                                web_above_threshold = True,\n",
    "\n",
    "                                plot_web_errors = True,\n",
    "                                    child_skeletal_threshold = 10000)"
   ]
  },
  {
   "cell_type": "code",
   "execution_count": null,
   "metadata": {},
   "outputs": [],
   "source": [
    "import trimesh_utils as tu\n",
    "tu.mesh_size(neuron_obj[1][17].web,size_type=\"ray_trace_median\")"
   ]
  },
  {
   "cell_type": "code",
   "execution_count": null,
   "metadata": {},
   "outputs": [],
   "source": []
  },
  {
   "cell_type": "code",
   "execution_count": null,
   "metadata": {},
   "outputs": [],
   "source": []
  },
  {
   "cell_type": "code",
   "execution_count": null,
   "metadata": {},
   "outputs": [],
   "source": [
    "nru.classify_upstream_downsream(limb_obj,nru.find_branch_with_specific_coordinate(limb_obj,crossover_coordinates[0]))"
   ]
  },
  {
   "cell_type": "code",
   "execution_count": null,
   "metadata": {},
   "outputs": [],
   "source": [
    "import networkx_utils as xu\n",
    "xu.upstream_node(limb_obj.concept_network_directional,14)"
   ]
  },
  {
   "cell_type": "code",
   "execution_count": null,
   "metadata": {},
   "outputs": [],
   "source": [
    "nviz.visualize_neuron(neuron_obj,\n",
    "                     limb_branch_dict=dict(L1 = [17]),\n",
    "                     mesh_whole_neuron=True)"
   ]
  },
  {
   "cell_type": "code",
   "execution_count": null,
   "metadata": {},
   "outputs": [],
   "source": [
    "nviz.plot_web_intersection(neuron_obj,\n",
    "                           1,\n",
    "                          17)"
   ]
  },
  {
   "cell_type": "code",
   "execution_count": null,
   "metadata": {},
   "outputs": [],
   "source": []
  },
  {
   "cell_type": "markdown",
   "metadata": {},
   "source": [
    "# Inspecting why crossover did so poorly"
   ]
  },
  {
   "cell_type": "code",
   "execution_count": null,
   "metadata": {},
   "outputs": [],
   "source": [
    "limb_obj = neuron_obj[neuron_obj.axon_limb_name]"
   ]
  },
  {
   "cell_type": "code",
   "execution_count": null,
   "metadata": {},
   "outputs": [],
   "source": [
    "exactly_equal = False\n",
    "crossover_coordinates = nru.high_degree_branching_coordinates_on_limb(limb_obj,min_degree_to_find=4,\n",
    "                                                                         exactly_equal=exactly_equal,\n",
    "                                                                         )\n",
    "crossover_coordinates"
   ]
  },
  {
   "cell_type": "code",
   "execution_count": null,
   "metadata": {},
   "outputs": [],
   "source": [
    "nviz.set_zoom(crossover_coordinates[0],\n",
    "             radius = 20000)"
   ]
  },
  {
   "cell_type": "code",
   "execution_count": null,
   "metadata": {},
   "outputs": [],
   "source": []
  },
  {
   "cell_type": "code",
   "execution_count": null,
   "metadata": {},
   "outputs": [],
   "source": [
    "winning_downstream,error_downstream = ed.high_degree_upstream_match(limb_obj,\n",
    "                          coordinate = crossover_coordinates[1],\n",
    "                        plot_intermediates = True,\n",
    "                        plot_match_intermediates = True,\n",
    "                          verbose=True)\n",
    "print(winning_downstream,error_downstream)"
   ]
  },
  {
   "cell_type": "code",
   "execution_count": null,
   "metadata": {},
   "outputs": [],
   "source": [
    "from importlib import reload\n",
    "ed = reload(ed)"
   ]
  },
  {
   "cell_type": "code",
   "execution_count": null,
   "metadata": {},
   "outputs": [],
   "source": [
    "import error_detection as ed\n",
    "err_dict = ed.high_degree_branch_errors_limb_branch_dict(neuron_obj,\n",
    "                                                        verbose = True,\n",
    "                                                        match_method=\"best_match\")"
   ]
  },
  {
   "cell_type": "code",
   "execution_count": null,
   "metadata": {},
   "outputs": [],
   "source": [
    "neuron_obj[\"L1\"][186]"
   ]
  },
  {
   "cell_type": "code",
   "execution_count": null,
   "metadata": {},
   "outputs": [],
   "source": [
    "nviz.visualize_neuron(neuron_obj,\n",
    "                     limb_branch_dict=err_dict,\n",
    "                     mesh_whole_neuron=True\n",
    "                     )"
   ]
  },
  {
   "cell_type": "code",
   "execution_count": null,
   "metadata": {},
   "outputs": [],
   "source": [
    "nviz.visualize_neuron_specific_limb(neuron_obj,1)"
   ]
  },
  {
   "cell_type": "code",
   "execution_count": null,
   "metadata": {},
   "outputs": [],
   "source": [
    "import networkx_utils as xu\n",
    "xu.downstream_nodes(neuron_obj[1].concept_network_directional,328)"
   ]
  },
  {
   "cell_type": "code",
   "execution_count": null,
   "metadata": {
    "scrolled": false
   },
   "outputs": [],
   "source": [
    "import numpy_utils as nu\n",
    "ed.high_degree_upstream_match(\n",
    "    limb_obj,\n",
    "    coordinate = None,\n",
    "    upstream_branch = 328,\n",
    "    downstream_branches = np.array([330, 331, 333]),\n",
    "\n",
    "    #arguments for the angle checking\n",
    "    offset=1500,\n",
    "    comparison_distance = 2000,\n",
    "    worst_case_match_threshold = 65,\n",
    "    plot_intermediates = True,\n",
    "    plot_match_intermediates = True,\n",
    "\n",
    "    #args for width matching\n",
    "    width_diff_max = np.inf,#100,\n",
    "\n",
    "    #args for definite pairs\n",
    "    match_threshold = 45,\n",
    "    angle_buffer = 15,\n",
    "    \n",
    "    max_degree_to_resolve = 6,\n",
    "    axon_dependent = True,\n",
    "\n",
    "    #args for picking the final winner\n",
    "    match_method = \"lowest_angle_sum\", #other option is \"best_match\"\n",
    "    verbose = True\n",
    "    )"
   ]
  },
  {
   "cell_type": "code",
   "execution_count": null,
   "metadata": {},
   "outputs": [],
   "source": [
    "import axon_utils as au\n",
    "au.axon_width(neuron_obj[1][333])"
   ]
  },
  {
   "cell_type": "code",
   "execution_count": null,
   "metadata": {},
   "outputs": [],
   "source": [
    "array([330, 331, 333])"
   ]
  }
 ],
 "metadata": {
  "kernelspec": {
   "display_name": "Python 3",
   "language": "python",
   "name": "python3"
  },
  "language_info": {
   "codemirror_mode": {
    "name": "ipython",
    "version": 3
   },
   "file_extension": ".py",
   "mimetype": "text/x-python",
   "name": "python",
   "nbconvert_exporter": "python",
   "pygments_lexer": "ipython3",
   "version": "3.6.9"
  }
 },
 "nbformat": 4,
 "nbformat_minor": 4
}
