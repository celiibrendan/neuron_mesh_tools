{
 "cells": [
  {
   "cell_type": "code",
   "execution_count": null,
   "metadata": {},
   "outputs": [],
   "source": [
    "\"\"\"\n",
    "Purpose: To Inspect the Neurons that were really bad\n",
    "\n",
    "\"\"\""
   ]
  },
  {
   "cell_type": "code",
   "execution_count": 1,
   "metadata": {},
   "outputs": [],
   "source": [
    "%load_ext autoreload\n",
    "%autoreload 2"
   ]
  },
  {
   "cell_type": "code",
   "execution_count": 2,
   "metadata": {},
   "outputs": [
    {
     "name": "stderr",
     "output_type": "stream",
     "text": [
      "INFO - 2021-04-24 17:36:37,432 - settings - Setting database.host to at-database.ad.bcm.edu\n",
      "INFO - 2021-04-24 17:36:37,435 - settings - Setting database.user to celiib\n",
      "INFO - 2021-04-24 17:36:37,436 - settings - Setting database.password to newceliipass\n",
      "INFO - 2021-04-24 17:36:37,440 - settings - Setting stores to {'minnie65': {'protocol': 'file', 'location': '/mnt/dj-stor01/platinum/minnie65', 'stage': '/mnt/dj-stor01/platinum/minnie65'}, 'meshes': {'protocol': 'file', 'location': '/mnt/dj-stor01/platinum/minnie65/02/meshes', 'stage': '/mnt/dj-stor01/platinum/minnie65/02/meshes'}, 'decimated_meshes': {'protocol': 'file', 'location': '/mnt/dj-stor01/platinum/minnie65/02/decimated_meshes', 'stage': '/mnt/dj-stor01/platinum/minnie65/02/decimated_meshes'}, 'skeletons': {'protocol': 'file', 'location': '/mnt/dj-stor01/platinum/minnie65/02/skeletons'}}\n",
      "INFO - 2021-04-24 17:36:37,441 - settings - Setting enable_python_native_blobs to True\n",
      "INFO - 2021-04-24 17:36:37,456 - connection - Connected celiib@at-database.ad.bcm.edu:3306\n"
     ]
    },
    {
     "name": "stdout",
     "output_type": "stream",
     "text": [
      "Connecting celiib@at-database.ad.bcm.edu:3306\n"
     ]
    },
    {
     "name": "stderr",
     "output_type": "stream",
     "text": [
      "INFO - 2021-04-24 17:36:37,901 - settings - Setting enable_python_native_blobs to True\n",
      "INFO - 2021-04-24 17:36:37,905 - settings - Setting database.host to at-database.ad.bcm.edu\n",
      "INFO - 2021-04-24 17:36:37,906 - settings - Setting database.user to celiib\n",
      "INFO - 2021-04-24 17:36:37,907 - settings - Setting database.password to newceliipass\n",
      "INFO - 2021-04-24 17:36:37,907 - settings - Setting database.host to at-database.ad.bcm.edu\n",
      "INFO - 2021-04-24 17:36:37,908 - settings - Setting database.user to celiib\n",
      "INFO - 2021-04-24 17:36:37,909 - settings - Setting database.password to newceliipass\n",
      "INFO - 2021-04-24 17:36:37,911 - settings - Setting enable_python_native_blobs to True\n",
      "INFO - 2021-04-24 17:36:38,409 - settings - Setting enable_python_native_blobs to True\n"
     ]
    }
   ],
   "source": [
    "import numpy as np\n",
    "import datajoint as dj\n",
    "import trimesh\n",
    "from tqdm.notebook import tqdm\n",
    "from pathlib import Path\n",
    "\n",
    "from os import sys\n",
    "sys.path.append(\"/meshAfterParty/\")\n",
    "sys.path.append(\"/meshAfterParty/meshAfterParty\")\n",
    "\n",
    "import datajoint_utils as du\n",
    "from importlib import reload"
   ]
  },
  {
   "cell_type": "code",
   "execution_count": 3,
   "metadata": {},
   "outputs": [
    {
     "name": "stderr",
     "output_type": "stream",
     "text": [
      "INFO - 2021-04-24 17:36:38,552 - settings - Setting database.host to at-database.ad.bcm.edu\n",
      "INFO - 2021-04-24 17:36:38,553 - settings - Setting database.user to celiib\n",
      "INFO - 2021-04-24 17:36:38,554 - settings - Setting database.password to newceliipass\n",
      "INFO - 2021-04-24 17:36:38,558 - settings - Setting enable_python_native_blobs to True\n",
      "INFO - 2021-04-24 17:36:39,062 - settings - Setting enable_python_native_blobs to True\n"
     ]
    }
   ],
   "source": [
    "#configuring will include the adapters\n",
    "minnie,schema = du.configure_minnie_vm()"
   ]
  },
  {
   "cell_type": "code",
   "execution_count": 4,
   "metadata": {},
   "outputs": [],
   "source": [
    "import validation_utils as vu\n",
    "import neuron_visualizations as nviz\n",
    "import neuron_utils as nru\n",
    "import proofreading_utils as pru\n",
    "import time\n",
    "import system_utils as su"
   ]
  },
  {
   "cell_type": "markdown",
   "metadata": {},
   "source": [
    "# Downloading the Neuron"
   ]
  },
  {
   "cell_type": "code",
   "execution_count": 5,
   "metadata": {},
   "outputs": [],
   "source": [
    "seg_id = 864691136105498585\n",
    "seg_id = 864691135974454383"
   ]
  },
  {
   "cell_type": "code",
   "execution_count": 6,
   "metadata": {},
   "outputs": [
    {
     "name": "stdout",
     "output_type": "stream",
     "text": [
      "Decompressing Neuron in minimal output mode...please wait\n"
     ]
    }
   ],
   "source": [
    "#1) Dwonload the neuron object\n",
    "neuron_obj = du.fetch_neuron_obj_manual(seg_id,\n",
    "                                   border_validation=True)"
   ]
  },
  {
   "cell_type": "code",
   "execution_count": 7,
   "metadata": {},
   "outputs": [
    {
     "name": "stdout",
     "output_type": "stream",
     "text": [
      "\n",
      "--- Working on filter 0:\n",
      "function = axon_on_dendrite_merges\n",
      "function __name__ = filter_away_axon_on_dendrite_merges\n",
      "function arguments = {'use_pre_existing_axon_labels': True}\n",
      "\n",
      "\n",
      "\n",
      "--- Working on filter 1:\n",
      "function = high_degree_branching\n",
      "function __name__ = filter_away_high_degree_branching\n",
      "function arguments = {'offset': 1500, 'comparison_distance': 2000, 'worst_case_match_threshold': 65, 'width_diff_max': inf, 'match_threshold': 45, 'angle_buffer': 15, 'max_degree_to_resolve': 6, 'match_method': 'best_match'}\n",
      "\n",
      "\n",
      "\n",
      "\n",
      " ----- Working on coordinate [1126572.87699544  699073.01918174 1054412.97573984]--------\n",
      "coordinate [1126572.87699544  699073.01918174 1054412.97573984] had error branches []--------\n",
      "\n",
      "\n",
      " ----- Working on coordinate [1146270.69919383  918285.42265269 1086061.27120456]--------\n",
      "coordinate [1146270.69919383  918285.42265269 1086061.27120456] had error branches [8, 9]--------\n",
      "\n",
      "\n",
      " ----- Working on coordinate [1150781.88806206  674368.65250079 1113626.42267623]--------\n",
      "coordinate [1150781.88806206  674368.65250079 1113626.42267623] had error branches [8, 9, 14, 11]--------\n",
      "\n",
      "\n",
      " ----- Working on coordinate [1154039.60136973  677297.80755696 1111696.14586088]--------\n",
      "coordinate [1154039.60136973  677297.80755696 1111696.14586088] had error branches [8, 9, 14, 11, 18, 15]--------\n",
      "\n",
      "\n",
      " ----- Working on coordinate [1155713.03829534  863507.87850294 1082318.16092981]--------\n",
      "coordinate [1155713.03829534  863507.87850294 1082318.16092981] had error branches [8, 9, 14, 11, 18, 15, 24, 26, 27]--------\n",
      "\n",
      "\n",
      " ----- Working on coordinate [1159487.89507689  865892.62282957 1079459.61061662]--------\n",
      "coordinate [1159487.89507689  865892.62282957 1079459.61061662] had error branches [8, 9, 14, 11, 18, 15, 24, 26, 27, 29, 7]--------\n",
      "\n",
      "\n",
      " ----- Working on coordinate [1189161.54680911  786217.95838542 1030006.32298177]--------\n",
      "coordinate [1189161.54680911  786217.95838542 1030006.32298177] had error branches [8, 9, 14, 11, 18, 15, 24, 26, 27, 29, 7, 38, 28]--------\n",
      "\n",
      "\n",
      " ----- Working on coordinate [1193499.64138039  785074.26049882 1050082.77343583]--------\n",
      "coordinate [1193499.64138039  785074.26049882 1050082.77343583] had error branches [8, 9, 14, 11, 18, 15, 24, 26, 27, 29, 7, 38, 28, 96, 101]--------\n",
      "\n",
      "\n",
      " ----- Working on coordinate [1195056.39867893  784019.20383844 1046009.79458921]--------\n",
      "coordinate [1195056.39867893  784019.20383844 1046009.79458921] had error branches [8, 9, 14, 11, 18, 15, 24, 26, 27, 29, 7, 38, 28, 96, 101, 108, 103]--------\n",
      "\n",
      "\n",
      " ----- Working on coordinate [1201965.14501145  769071.51173912 1035061.41498704]--------\n",
      "coordinate [1201965.14501145  769071.51173912 1035061.41498704] had error branches [8, 9, 14, 11, 18, 15, 24, 26, 27, 29, 7, 38, 28, 96, 101, 108, 103, 115, 117]--------\n",
      "\n",
      "\n",
      " ----- Working on coordinate [1228530.04504283  743211.6564098  1020926.9338601 ]--------\n",
      "coordinate [1228530.04504283  743211.6564098  1020926.9338601 ] had error branches [8, 9, 14, 11, 18, 15, 24, 26, 27, 29, 7, 38, 28, 96, 101, 108, 103, 115, 117, 126, 127]--------\n",
      "\n",
      "\n",
      " ----- Working on coordinate [1234421.13933694  744582.04531751 1020070.47395685]--------\n",
      "coordinate [1234421.13933694  744582.04531751 1020070.47395685] had error branches [8, 9, 14, 11, 18, 15, 24, 26, 27, 29, 7, 38, 28, 96, 101, 108, 103, 115, 117, 126, 127, 144, 123]--------\n",
      "\n",
      "\n",
      " ----- Working on coordinate [1234800.32323617  733422.7660148  1013683.86544247]--------\n",
      "coordinate [1234800.32323617  733422.7660148  1013683.86544247] had error branches [8, 9, 14, 11, 18, 15, 24, 26, 27, 29, 7, 38, 28, 96, 101, 108, 103, 115, 117, 126, 127, 144, 123, 150, 138]--------\n",
      "\n",
      "\n",
      " ----- Working on coordinate [1318323.26034685  572030.04412171  888865.72341739]--------\n",
      "coordinate [1318323.26034685  572030.04412171  888865.72341739] had error branches [8, 9, 14, 11, 18, 15, 24, 26, 27, 29, 7, 38, 28, 96, 101, 108, 103, 115, 117, 126, 127, 144, 123, 150, 138, 146, 152, 154, 135]--------\n",
      "\n",
      "\n",
      " ----- Working on coordinate [1321330.62637547  612873.70401531  886450.28331658]--------\n",
      "coordinate [1321330.62637547  612873.70401531  886450.28331658] had error branches [8, 9, 14, 11, 18, 15, 24, 26, 27, 29, 7, 38, 28, 96, 101, 108, 103, 115, 117, 126, 127, 144, 123, 150, 138, 146, 152, 154, 135, 172, 173, 171]--------\n",
      "\n",
      "\n",
      " ----- Working on coordinate [1323016.67651946  613888.96240513  887789.80790899]--------\n",
      "coordinate [1323016.67651946  613888.96240513  887789.80790899] had error branches [8, 9, 14, 11, 18, 15, 24, 26, 27, 29, 7, 38, 28, 96, 101, 108, 103, 115, 117, 126, 127, 144, 123, 150, 138, 146, 152, 154, 135, 172, 173, 171, 178, 181]--------\n",
      "\n",
      "\n",
      " ----- Working on coordinate [1371959.12799909  628587.27272431  885727.16472421]--------\n",
      "coordinate [1371959.12799909  628587.27272431  885727.16472421] had error branches [8, 9, 14, 11, 18, 15, 24, 26, 27, 29, 7, 38, 28, 96, 101, 108, 103, 115, 117, 126, 127, 144, 123, 150, 138, 146, 152, 154, 135, 172, 173, 171, 178, 181, 182, 186, 175]--------\n",
      "\n",
      "\n",
      " ----- Working on coordinate [1372501.92296551  625152.99904395  891638.98679487]--------\n",
      "coordinate [1372501.92296551  625152.99904395  891638.98679487] had error branches [8, 9, 14, 11, 18, 15, 24, 26, 27, 29, 7, 38, 28, 96, 101, 108, 103, 115, 117, 126, 127, 144, 123, 150, 138, 146, 152, 154, 135, 172, 173, 171, 178, 181, 182, 186, 175, 209, 210]--------\n",
      "limb_branch_dict_to_cancel = {'L2': array([  8,   9,  14,  11,  18,  15,  24,  26,  27,  29,   7,  38,  28,\n",
      "        96, 101, 108, 103, 115, 117, 126, 127, 144, 123, 150, 138, 146,\n",
      "       152, 154, 135, 172, 173, 171, 178, 181, 182, 186, 175, 209, 210,\n",
      "       212, 207])}\n",
      "\n",
      "--- Working on filter 2:\n",
      "function = axon_webbing_t_merges\n",
      "function __name__ = filter_away_webbing_t_merges\n",
      "function arguments = {'child_width_maximum': 75, 'parent_width_maximum': 75, 'axon_only': True, 'error_if_web_is_none': True, 'web_size_threshold': 120, 'web_size_type': 'ray_trace_median', 'web_above_threshold': True}\n",
      "\n",
      "\n",
      "limb_branch_dict_to_cancel = {}\n",
      "\n",
      "--- Working on filter 3:\n",
      "function = double_back_and_width_change\n",
      "function __name__ = filter_away_large_double_back_or_width_changes\n",
      "function arguments = {'perform_double_back_errors': True, 'skip_double_back_errors_for_axon': False, 'width_jump_threshold': 250, 'running_width_jump_method': True, 'double_back_axon_like_threshold': 145, 'double_back_threshold': 120, 'allow_axon_double_back_angle_with_top': 39, 'skeletal_length_to_skip': 4000, 'comparison_distance': 3000, 'perform_width_errors': True, 'perform_axon_width_errors': False}\n",
      "\n",
      "\n",
      "limb_branch_dict_to_cancel = {}\n",
      "\n",
      "--- Working on filter 4:\n",
      "function = axon_fork_divergence\n",
      "function __name__ = filter_away_small_axon_fork_divergence\n",
      "function arguments = {'divergence_threshold_mean': 165}\n",
      "\n",
      "\n",
      "limb_branch_dict_to_cancel = {}\n",
      "\n",
      "\n",
      "\n",
      " ---- Total time for applying filter: 81.10607528686523 -----\n",
      "\n",
      "--- Finished Part 1: Filtering Neuron -----\n",
      "Apply the presyn non_error\n",
      "For presyn: # valid synapses = 87, # error synapses  = 620, # error presyns = 11\n",
      "For postsyn: # valid synapses = 3649, # error synapses  = 5, # error presyns = 0\n",
      "\n",
      "--- Finished Part 2: Filtering Synapses -----\n",
      "Synapsse Results:\n",
      "Total Number of Synapses = 4361\n",
      "n_valid_syn_ids_presyn = 87\n",
      "n_errored_syn_ids_presyn = 620\n",
      "n_valid_syn_ids_postsyn = 3649\n",
      "n_errored_syn_ids_postsyn = 5\n",
      "\n",
      "--- Finished Part 3: Generating Validation Dataframe -----\n",
      "Segment Id = 864691135974454383\n",
      "Postsyn counts:\n",
      "TP:3600\n",
      "TN:2\n",
      "FP:49\n",
      "FN:3\n",
      "Presyn counts:\n",
      "TP:59\n",
      "TN:609\n",
      "FP:28\n",
      "FN:0\n"
     ]
    },
    {
     "data": {
      "image/png": "[encoded data removed]",
      "text/plain": [
       "<Figure size 700x400 with 2 Axes>"
      ]
     },
     "metadata": {},
     "output_type": "display_data"
    }
   ],
   "source": [
    "(filt_neuron,\n",
    " return_synapse_df_revised,\n",
    "return_validation_df_revised) =  vu.filtered_neuron_score(neuron_obj = neuron_obj,   \n",
    "                    filter_list = pru.v4_exc_filters(),\n",
    "                    plot_limb_branch_filter_with_disconnect_effect = False,\n",
    "                    verbose = True,\n",
    "                    plot_score=False)\n",
    "\n",
    "vu.synapse_validation_df_to_score_plot(return_validation_df_revised)"
   ]
  },
  {
   "cell_type": "code",
   "execution_count": 13,
   "metadata": {},
   "outputs": [
    {
     "name": "stdout",
     "output_type": "stream",
     "text": [
      "Using the mesh from the neuron object\n"
     ]
    },
    {
     "data": {
      "application/vnd.jupyter.widget-view+json": {
       "model_id": "5f11fe9df36447c4adc92d5377ee4019",
       "version_major": 2,
       "version_minor": 0
      },
      "text/plain": [
       "VBox(children=(Figure(camera=PerspectiveCamera(fov=46.0, position=(0.0, 0.0, 2.0), projectionMatrix=(1.0, 0.0,…"
      ]
     },
     "metadata": {},
     "output_type": "display_data"
    },
    {
     "name": "stdout",
     "output_type": "stream",
     "text": [
      "TP:yellow\n",
      "TN:aqua\n",
      "FP:black\n",
      "FN:orange\n"
     ]
    }
   ],
   "source": [
    "vu.plot_validation_synapses(seg_id,\n",
    "                            validation_df = return_validation_df_revised,\n",
    "                             synapse_dict = None,\n",
    "                             synapses_type_to_plot = None,\n",
    "                             synapses_type_to_not_plot = None,\n",
    "                             verbose=False,\n",
    "                             synapse_type = \"presyn\",\n",
    "                             TP_color=\"yellow\",\n",
    "                            TN_color=\"aqua\",\n",
    "                            FP_color=\"black\",\n",
    "                            FN_color=\"orange\",\n",
    "                             synapse_scatter_size = 0.15,\n",
    "                             \n",
    "                             #for plotting the actual mesh parts to go along\n",
    "                             \n",
    "                             neuron_obj = filt_neuron,\n",
    "                             plot_only_axon_skeleton = True,\n",
    "                             error_mesh_color = \"red\",\n",
    "                             valid_mesh_color = \"green\",\n",
    "                             valid_skeleton_color = \"black\",\n",
    "                             mesh_alpha = 0.3,)"
   ]
  },
  {
   "cell_type": "code",
   "execution_count": 15,
   "metadata": {
    "scrolled": false
   },
   "outputs": [
    {
     "name": "stdout",
     "output_type": "stream",
     "text": [
      "\n",
      " Working on visualization type: mesh\n"
     ]
    },
    {
     "data": {
      "application/vnd.jupyter.widget-view+json": {
       "model_id": "8b1ed53c938040a8ad6bfa332d7637ab",
       "version_major": 2,
       "version_minor": 0
      },
      "text/plain": [
       "VBox(children=(Figure(camera=PerspectiveCamera(fov=46.0, position=(0.0, 0.0, 2.0), projectionMatrix=(1.0, 0.0,…"
      ]
     },
     "metadata": {},
     "output_type": "display_data"
    },
    {
     "name": "stdout",
     "output_type": "stream",
     "text": [
      "two_downstream_thin_axon_limb_branch = {'L2': array([ 8, 47, 54, 59, 65, 70, 71, 72])}\n",
      "wide_angled_children= {'L2': array([ 8, 72])}\n",
      "Web size = 182.2413024095692\n",
      "Web size = 219.3191332103299\n",
      "Final web t error limb branch dict = {}\n",
      "\n",
      " Working on visualization type: mesh\n"
     ]
    },
    {
     "data": {
      "application/vnd.jupyter.widget-view+json": {
       "model_id": "c535ef7690b84d8194d3e5aeed5d53c8",
       "version_major": 2,
       "version_minor": 0
      },
      "text/plain": [
       "VBox(children=(Figure(camera=PerspectiveCamera(fov=46.0, position=(0.0, 0.0, 2.0), projectionMatrix=(1.0, 0.0,…"
      ]
     },
     "metadata": {},
     "output_type": "display_data"
    },
    {
     "name": "stdout",
     "output_type": "stream",
     "text": [
      "No color dictionary to return because plot_items_order or color_list_correct_size empty\n"
     ]
    },
    {
     "data": {
      "text/plain": [
       "{}"
      ]
     },
     "execution_count": 15,
     "metadata": {},
     "output_type": "execute_result"
    }
   ],
   "source": [
    "ed.webbing_t_errors_limb_branch_dict(filt_neuron,\n",
    "                                     axon_only = True,\n",
    "                                #child_width_maximum = 75,\n",
    "                                parent_width_maximum = 75,\n",
    "                                plot_two_downstream_thin_axon_limb_branch = True,\n",
    "                                plot_wide_angled_children = False,\n",
    "                                error_if_web_is_none = True,\n",
    "                                verbose = True,\n",
    "\n",
    "                                #arguments for the web thresholding\n",
    "                                web_size_threshold=120,\n",
    "                                web_size_type=\"ray_trace_median\",\n",
    "                                web_above_threshold = True,\n",
    "\n",
    "                                plot_web_errors = True,\n",
    "                                    child_skeletal_threshold = 1000)"
   ]
  },
  {
   "cell_type": "code",
   "execution_count": null,
   "metadata": {},
   "outputs": [],
   "source": []
  }
 ],
 "metadata": {
  "kernelspec": {
   "display_name": "Python 3",
   "language": "python",
   "name": "python3"
  },
  "language_info": {
   "codemirror_mode": {
    "name": "ipython",
    "version": 3
   },
   "file_extension": ".py",
   "mimetype": "text/x-python",
   "name": "python",
   "nbconvert_exporter": "python",
   "pygments_lexer": "ipython3",
   "version": "3.6.9"
  }
 },
 "nbformat": 4,
 "nbformat_minor": 4
}
