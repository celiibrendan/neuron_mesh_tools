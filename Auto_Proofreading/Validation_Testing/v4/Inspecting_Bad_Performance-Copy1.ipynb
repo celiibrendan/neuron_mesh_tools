{
 "cells": [
  {
   "cell_type": "code",
   "execution_count": null,
   "metadata": {},
   "outputs": [],
   "source": [
    "\"\"\"\n",
    "Purpose: To Inspect the Neurons that were really bad\n",
    "\n",
    "\"\"\""
   ]
  },
  {
   "cell_type": "code",
   "execution_count": 1,
   "metadata": {},
   "outputs": [],
   "source": [
    "%load_ext autoreload\n",
    "%autoreload 2"
   ]
  },
  {
   "cell_type": "code",
   "execution_count": 2,
   "metadata": {},
   "outputs": [
    {
     "name": "stderr",
     "output_type": "stream",
     "text": [
      "INFO - 2021-04-29 13:26:25,650 - settings - Setting database.host to at-database.ad.bcm.edu\n",
      "INFO - 2021-04-29 13:26:25,652 - settings - Setting database.user to celiib\n",
      "INFO - 2021-04-29 13:26:25,653 - settings - Setting database.password to newceliipass\n",
      "INFO - 2021-04-29 13:26:25,745 - settings - Setting stores to {'minnie65': {'protocol': 'file', 'location': '/mnt/dj-stor01/platinum/minnie65', 'stage': '/mnt/dj-stor01/platinum/minnie65'}, 'meshes': {'protocol': 'file', 'location': '/mnt/dj-stor01/platinum/minnie65/02/meshes', 'stage': '/mnt/dj-stor01/platinum/minnie65/02/meshes'}, 'decimated_meshes': {'protocol': 'file', 'location': '/mnt/dj-stor01/platinum/minnie65/02/decimated_meshes', 'stage': '/mnt/dj-stor01/platinum/minnie65/02/decimated_meshes'}, 'skeletons': {'protocol': 'file', 'location': '/mnt/dj-stor01/platinum/minnie65/02/skeletons'}}\n",
      "INFO - 2021-04-29 13:26:25,747 - settings - Setting enable_python_native_blobs to True\n",
      "INFO - 2021-04-29 13:26:25,761 - connection - Connected celiib@at-database.ad.bcm.edu:3306\n"
     ]
    },
    {
     "name": "stdout",
     "output_type": "stream",
     "text": [
      "Connecting celiib@at-database.ad.bcm.edu:3306\n"
     ]
    },
    {
     "name": "stderr",
     "output_type": "stream",
     "text": [
      "INFO - 2021-04-29 13:26:26,194 - settings - Setting enable_python_native_blobs to True\n",
      "INFO - 2021-04-29 13:26:26,259 - settings - Setting database.host to at-database.ad.bcm.edu\n",
      "INFO - 2021-04-29 13:26:26,260 - settings - Setting database.user to celiib\n",
      "INFO - 2021-04-29 13:26:26,261 - settings - Setting database.password to newceliipass\n",
      "INFO - 2021-04-29 13:26:26,262 - settings - Setting database.host to at-database.ad.bcm.edu\n",
      "INFO - 2021-04-29 13:26:26,263 - settings - Setting database.user to celiib\n",
      "INFO - 2021-04-29 13:26:26,263 - settings - Setting database.password to newceliipass\n",
      "INFO - 2021-04-29 13:26:26,266 - settings - Setting enable_python_native_blobs to True\n",
      "INFO - 2021-04-29 13:26:26,724 - settings - Setting enable_python_native_blobs to True\n"
     ]
    }
   ],
   "source": [
    "import numpy as np\n",
    "import datajoint as dj\n",
    "import trimesh\n",
    "from tqdm.notebook import tqdm\n",
    "from pathlib import Path\n",
    "\n",
    "from os import sys\n",
    "sys.path.append(\"/meshAfterParty/\")\n",
    "sys.path.append(\"/meshAfterParty/meshAfterParty\")\n",
    "\n",
    "import datajoint_utils as du\n",
    "from importlib import reload"
   ]
  },
  {
   "cell_type": "code",
   "execution_count": 3,
   "metadata": {},
   "outputs": [
    {
     "name": "stderr",
     "output_type": "stream",
     "text": [
      "INFO - 2021-04-29 13:26:26,903 - settings - Setting database.host to at-database.ad.bcm.edu\n",
      "INFO - 2021-04-29 13:26:26,904 - settings - Setting database.user to celiib\n",
      "INFO - 2021-04-29 13:26:26,906 - settings - Setting database.password to newceliipass\n",
      "INFO - 2021-04-29 13:26:26,909 - settings - Setting enable_python_native_blobs to True\n",
      "INFO - 2021-04-29 13:26:27,421 - settings - Setting enable_python_native_blobs to True\n"
     ]
    }
   ],
   "source": [
    "#configuring will include the adapters\n",
    "minnie,schema = du.configure_minnie_vm()"
   ]
  },
  {
   "cell_type": "code",
   "execution_count": 4,
   "metadata": {},
   "outputs": [],
   "source": [
    "import validation_utils as vu\n",
    "import neuron_visualizations as nviz\n",
    "import neuron_utils as nru\n",
    "import proofreading_utils as pru\n",
    "import time\n",
    "import system_utils as su"
   ]
  },
  {
   "cell_type": "markdown",
   "metadata": {},
   "source": [
    "# Downloading the Neuron"
   ]
  },
  {
   "cell_type": "code",
   "execution_count": 100,
   "metadata": {},
   "outputs": [],
   "source": [
    "seg_id = 864691136105498585\n",
    "seg_id = 864691135974454383\n",
    "seg_id = 864691136105498585\n",
    "seg_id = 864691135974454383\n",
    "seg_id = 864691135736387732"
   ]
  },
  {
   "cell_type": "code",
   "execution_count": 101,
   "metadata": {},
   "outputs": [
    {
     "name": "stdout",
     "output_type": "stream",
     "text": [
      "Decompressing Neuron in minimal output mode...please wait\n"
     ]
    }
   ],
   "source": [
    "#1) Dwonload the neuron object\n",
    "neuron_obj = du.fetch_neuron_obj_manual(seg_id,\n",
    "                                   border_validation=True)"
   ]
  },
  {
   "cell_type": "code",
   "execution_count": 108,
   "metadata": {
    "scrolled": false
   },
   "outputs": [
    {
     "name": "stdout",
     "output_type": "stream",
     "text": [
      "\n",
      "--- Working on filter 0:\n",
      "function = axon_on_dendrite_merges\n",
      "function __name__ = filter_away_axon_on_dendrite_merges\n",
      "function arguments = {'use_pre_existing_axon_labels': True}\n",
      "\n",
      "\n",
      "\n",
      "\n",
      "Branches Requested to Remove (WITH disconnect effect)\n",
      "\n",
      " Working on visualization type: mesh\n"
     ]
    },
    {
     "data": {
      "application/vnd.jupyter.widget-view+json": {
       "model_id": "28f1bff2d9a844e5abd209014abd74e7",
       "version_major": 2,
       "version_minor": 0
      },
      "text/plain": [
       "VBox(children=(Figure(camera=PerspectiveCamera(fov=46.0, position=(0.0, 0.0, 2.0), projectionMatrix=(1.0, 0.0,…"
      ]
     },
     "metadata": {},
     "output_type": "display_data"
    },
    {
     "name": "stdout",
     "output_type": "stream",
     "text": [
      "\n",
      "--- Working on filter 1:\n",
      "function = high_degree_branching\n",
      "function __name__ = filter_away_high_degree_branching\n",
      "function arguments = {'offset': 1500, 'comparison_distance': 2000, 'worst_case_match_threshold': 65, 'width_diff_max': 75, 'width_diff_perc': 60, 'match_threshold': 45, 'angle_buffer': 15, 'max_degree_to_resolve': 6, 'max_degree_to_resolve_wide': 8, 'match_method': 'best_match'}\n",
      "\n",
      "\n",
      "\n",
      "\n",
      " ----- Working on coordinate 0: [1253813.37275036 1054311.12095475 1018928.10821021]--------\n",
      "winning_downstream = None,error_downstream = [] \n",
      "coordinate [1253813.37275036 1054311.12095475 1018928.10821021] had error branches []--------\n",
      "\n",
      "\n",
      " ----- Working on coordinate 1: [1256945.25646448 1054256.00841076 1015177.98894697]--------\n",
      "winning_downstream = None,error_downstream = [] \n",
      "coordinate [1256945.25646448 1054256.00841076 1015177.98894697] had error branches []--------\n",
      "\n",
      "\n",
      " ----- Working on coordinate 2: [1259833.07687104 1052966.23025988 1012409.5819424 ]--------\n",
      "winning_downstream = None,error_downstream = [] \n",
      "coordinate [1259833.07687104 1052966.23025988 1012409.5819424 ] had error branches []--------\n",
      "\n",
      "\n",
      " ----- Working on coordinate 3: [1268494.3221212  1050884.06344748 1034702.20080174]--------\n",
      "winning_downstream = None,error_downstream = [] \n",
      "coordinate [1268494.3221212  1050884.06344748 1034702.20080174] had error branches []--------\n",
      "\n",
      "\n",
      " ----- Working on coordinate 4: [1290864.96500251 1012087.14361996  972253.59283704]--------\n",
      "winning_downstream = None,error_downstream = [] \n",
      "coordinate [1290864.96500251 1012087.14361996  972253.59283704] had error branches []--------\n",
      "\n",
      "\n",
      " ----- Working on coordinate 5: [1297506.1169011   990019.21955557  954830.28648039]--------\n",
      "winning_downstream = None,error_downstream = [] \n",
      "coordinate [1297506.1169011   990019.21955557  954830.28648039] had error branches []--------\n",
      "\n",
      "\n",
      " ----- Working on coordinate 6: [1301359.35608024  965648.43123698  936820.1586147 ]--------\n",
      "winning_downstream = None,error_downstream = [] \n",
      "coordinate [1301359.35608024  965648.43123698  936820.1586147 ] had error branches []--------\n",
      "\n",
      "\n",
      " ----- Working on coordinate 7: [1303728.67322506  863209.46850922  896645.57702962]--------\n",
      "winning_downstream = None,error_downstream = [] \n",
      "coordinate [1303728.67322506  863209.46850922  896645.57702962] had error branches []--------\n",
      "\n",
      "\n",
      " ----- Working on coordinate 8: [1304029.87670019  936532.20511232  913958.00336334]--------\n",
      "Changing max_degree_to_resolve = 8 because upstream width was 266.09266379488145 \n",
      "winning_downstream = 158,error_downstream = [172 173 114] \n",
      "coordinate [1304029.87670019  936532.20511232  913958.00336334] had error branches [172 173 114]--------\n",
      "\n",
      "\n",
      " ----- Working on coordinate 9: [1304351.31923867  945182.07505138  920575.97105588]--------\n",
      "winning_downstream = None,error_downstream = [] \n",
      "coordinate [1304351.31923867  945182.07505138  920575.97105588] had error branches []--------\n",
      "\n",
      "\n",
      " ----- Working on coordinate 10: [1304504.62567556  920495.56378984  908286.17992286]--------\n",
      "winning_downstream = None,error_downstream = [] \n",
      "coordinate [1304504.62567556  920495.56378984  908286.17992286] had error branches []--------\n",
      "\n",
      "\n",
      " ----- Working on coordinate 11: [1305041.65066392  885051.00797131  897793.06605597]--------\n",
      "Changing max_degree_to_resolve = 8 because upstream width was 310.4782076060238 \n",
      "winning_downstream = 191,error_downstream = [134 170 189 190 110] \n",
      "coordinate [1305041.65066392  885051.00797131  897793.06605597] had error branches [134 170 189 190 110]--------\n",
      "\n",
      "\n",
      " ----- Working on coordinate 12: [1305384.99049238  886773.02401356  898741.00270817]--------\n",
      "Changing max_degree_to_resolve = 8 because upstream width was 358.3380003557318 \n",
      "winning_downstream = 192,error_downstream = [201  52] \n",
      "coordinate [1305384.99049238  886773.02401356  898741.00270817] had error branches [201  52]--------\n",
      "\n",
      "\n",
      " ----- Working on coordinate 13: [1307500.84096217 1054868.02624231 1039804.14976241]--------\n",
      "Changing max_degree_to_resolve = 8 because upstream width was 366.0622253956471 \n",
      "winning_downstream = 211,error_downstream = [208 210] \n",
      "coordinate [1307500.84096217 1054868.02624231 1039804.14976241] had error branches [208 210]--------\n",
      "\n",
      "\n",
      " ----- Working on coordinate 14: [1310590.58737944 1054912.37928009 1040087.57579764]--------\n",
      "Changing max_degree_to_resolve = 8 because upstream width was 282.2058676152586 \n",
      "winning_downstream = 214,error_downstream = [215 216] \n",
      "coordinate [1310590.58737944 1054912.37928009 1040087.57579764] had error branches [215 216]--------\n",
      "\n",
      "\n",
      " ----- Working on coordinate 15: [1311479.43843733 1053836.40192383 1040777.90085325]--------\n",
      "winning_downstream = 221,error_downstream = [217 219] \n",
      "coordinate [1311479.43843733 1053836.40192383 1040777.90085325] had error branches [217 219]--------\n",
      "\n",
      "\n",
      " ----- Working on coordinate 16: [1320293.13828889 1055629.296764   1040947.5320041 ]--------\n",
      "winning_downstream = None,error_downstream = [] \n",
      "coordinate [1320293.13828889 1055629.296764   1040947.5320041 ] had error branches []--------\n",
      "\n",
      "\n",
      " ----- Working on coordinate 17: [1328823.52149603 1055972.49511017 1042643.67364863]--------\n",
      "winning_downstream = None,error_downstream = [] \n",
      "coordinate [1328823.52149603 1055972.49511017 1042643.67364863] had error branches []--------\n",
      "\n",
      "\n",
      " ----- Working on coordinate 18: [1338584.22465928 1056257.0230169  1043112.51133021]--------\n",
      "winning_downstream = None,error_downstream = [] \n",
      "coordinate [1338584.22465928 1056257.0230169  1043112.51133021] had error branches []--------\n",
      "\n",
      "\n",
      " ----- Working on coordinate 19: [1345041.87371498 1058172.31228583 1044532.62457166]--------\n",
      "winning_downstream = None,error_downstream = [] \n",
      "coordinate [1345041.87371498 1058172.31228583 1044532.62457166] had error branches []--------\n",
      "\n",
      "\n",
      " ----- Working on coordinate 20: [1347878.74298446  857269.82586236  897241.0026337 ]--------\n",
      "winning_downstream = 270,error_downstream = [265 268] \n",
      "coordinate [1347878.74298446  857269.82586236  897241.0026337 ] had error branches [265 268]--------\n",
      "\n",
      "\n",
      " ----- Working on coordinate 21: [1367321.59051041  846157.32484188  885150.76065872]--------\n",
      "winning_downstream = 291,error_downstream = [287 292 280] \n",
      "coordinate [1367321.59051041  846157.32484188  885150.76065872] had error branches [287 292 280]--------\n",
      "\n",
      "\n",
      " ----- Working on coordinate 22: [1374419.17388745 1058980.17464671 1045734.4369964 ]--------\n",
      "winning_downstream = None,error_downstream = [] \n",
      "coordinate [1374419.17388745 1058980.17464671 1045734.4369964 ] had error branches []--------\n",
      "\n",
      "\n",
      " ----- Working on coordinate 23: [1376799.74877346 1059178.17719883 1046141.32170148]--------\n",
      "Changing max_degree_to_resolve = 8 because upstream width was 343.8887517267332 \n",
      "winning_downstream = 303,error_downstream = [302 304] \n",
      "coordinate [1376799.74877346 1059178.17719883 1046141.32170148] had error branches [302 304]--------\n",
      "\n",
      "\n",
      " ----- Working on coordinate 24: [1380951.9006438  1058425.53899552 1046008.51380927]--------\n",
      "winning_downstream = None,error_downstream = [] \n",
      "coordinate [1380951.9006438  1058425.53899552 1046008.51380927] had error branches []--------\n",
      "\n",
      "\n",
      " ----- Working on coordinate 25: [1387307.03786873 1058735.42447749 1045773.46099803]--------\n",
      "Changing max_degree_to_resolve = 8 because upstream width was 240.84530231545347 \n",
      "winning_downstream = 318,error_downstream = [316 317 309] \n",
      "coordinate [1387307.03786873 1058735.42447749 1045773.46099803] had error branches [316 317 309]--------\n",
      "\n",
      "\n",
      " ----- Working on coordinate 26: [1390408.10472708 1059266.9492501  1045960.23631579]--------\n",
      "winning_downstream = 322,error_downstream = [319 323] \n",
      "coordinate [1390408.10472708 1059266.9492501  1045960.23631579] had error branches [319 323]--------\n",
      "\n",
      "\n",
      " ----- Working on coordinate 27: [1390792.92778166  933560.51285148  855570.89031975]--------\n",
      "winning_downstream = 324,error_downstream = [282 325] \n",
      "coordinate [1390792.92778166  933560.51285148  855570.89031975] had error branches [282 325]--------\n",
      "\n",
      "\n",
      " ----- Working on coordinate 28: [1398066.6247149   934566.36231385  854003.33286508]--------\n",
      "winning_downstream = 334,error_downstream = [335 321] \n",
      "coordinate [1398066.6247149   934566.36231385  854003.33286508] had error branches [335 321]--------\n",
      "\n",
      "\n",
      " ----- Working on coordinate 29: [1406206.03209132  939125.64570968  856777.63086794]--------\n"
     ]
    },
    {
     "name": "stdout",
     "output_type": "stream",
     "text": [
      "winning_downstream = 341,error_downstream = [340 333] \n",
      "coordinate [1406206.03209132  939125.64570968  856777.63086794] had error branches [340 333]--------\n",
      "\n",
      "\n",
      " ----- Working on coordinate 30: [1424934.62884646  911707.09300846  793079.54868933]--------\n",
      "winning_downstream = 347,error_downstream = [350 344] \n",
      "coordinate [1424934.62884646  911707.09300846  793079.54868933] had error branches [350 344]--------\n",
      "\n",
      "\n",
      " ----- Working on coordinate 31: [1433537.   926814.1  836423.9]--------\n",
      "winning_downstream = 355,error_downstream = [348 354] \n",
      "coordinate [1433537.   926814.1  836423.9] had error branches [348 354]--------\n",
      "\n",
      "\n",
      " ----- Working on coordinate 32: [1448398.1710205   925786.32739855  831203.30229407]--------\n",
      "winning_downstream = 366,error_downstream = [360 361 362 363] \n",
      "coordinate [1448398.1710205   925786.32739855  831203.30229407] had error branches [360 361 362 363]--------\n",
      "\n",
      "\n",
      " ----- Working on coordinate 33: [1448416.   925826.8  827215.5]--------\n",
      "winning_downstream = 365,error_downstream = [364 356] \n",
      "coordinate [1448416.   925826.8  827215.5] had error branches [364 356]--------\n",
      "\n",
      "\n",
      " ----- Working on coordinate 34: [1451446.46293878  926012.30587276  828434.89940443]--------\n",
      "winning_downstream = 371,error_downstream = [367 368] \n",
      "coordinate [1451446.46293878  926012.30587276  828434.89940443] had error branches [367 368]--------\n",
      "\n",
      "\n",
      " ----- Working on coordinate 35: [1483742.26875339  882939.87920111  747770.92384418]--------\n",
      "winning_downstream = None,error_downstream = [] \n",
      "coordinate [1483742.26875339  882939.87920111  747770.92384418] had error branches []--------\n",
      "limb_branch_dict_to_cancel = {'L1': array([172, 173, 114, 134, 170, 189, 190, 110, 201,  52, 208, 210, 215,\n",
      "       216, 217, 219, 265, 268, 287, 292, 280, 302, 304, 316, 317, 309,\n",
      "       319, 323, 282, 325, 335, 321, 340, 333, 350, 344, 348, 354, 360,\n",
      "       361, 362, 363, 364, 356, 367, 368])}\n",
      "\n",
      "\n",
      "Branches Requested to Remove (WITH disconnect effect)\n",
      "\n",
      " Working on visualization type: mesh\n"
     ]
    },
    {
     "data": {
      "application/vnd.jupyter.widget-view+json": {
       "model_id": "a002838882fb4100bbe2ea5454e4bbb2",
       "version_major": 2,
       "version_minor": 0
      },
      "text/plain": [
       "VBox(children=(Figure(camera=PerspectiveCamera(fov=46.0, position=(0.0, 0.0, 2.0), projectionMatrix=(1.0, 0.0,…"
      ]
     },
     "metadata": {},
     "output_type": "display_data"
    },
    {
     "name": "stdout",
     "output_type": "stream",
     "text": [
      "\n",
      "--- Working on filter 2:\n",
      "function = axon_webbing_t_merges\n",
      "function __name__ = filter_away_webbing_t_merges\n",
      "function arguments = {'child_width_maximum': 75, 'parent_width_maximum': 75, 'axon_only': True, 'error_if_web_is_none': True, 'web_size_threshold': 120, 'web_size_type': 'ray_trace_median', 'web_above_threshold': True}\n",
      "\n",
      "\n",
      "limb_branch_dict_to_cancel = {}\n",
      "\n",
      "--- Working on filter 3:\n",
      "function = thick_t_merge\n",
      "function __name__ = filter_away_thick_t_merge\n",
      "function arguments = {}\n",
      "\n",
      "\n",
      "limb_branch_dict_to_cancel = {}\n",
      "\n",
      "--- Working on filter 4:\n",
      "function = double_back_and_width_change\n",
      "function __name__ = filter_away_large_double_back_or_width_changes\n",
      "function arguments = {'perform_double_back_errors': True, 'skip_double_back_errors_for_axon': False, 'width_jump_threshold': 250, 'running_width_jump_method': True, 'double_back_axon_like_threshold': 145, 'double_back_threshold': 120, 'allow_axon_double_back_angle_with_top': None, 'allow_axon_double_back_angle_with_top_width_min': 140, 'skeletal_length_to_skip': 4000, 'comparison_distance': 3000, 'perform_width_errors': True, 'perform_axon_width_errors': False}\n",
      "\n",
      "\n",
      "limb_branch_dict_to_cancel = {}\n",
      "\n",
      "--- Working on filter 5:\n",
      "function = axon_fork_divergence\n",
      "function __name__ = filter_away_small_axon_fork_divergence\n",
      "function arguments = {'divergence_threshold_mean': 165}\n",
      "\n",
      "\n",
      "limb_branch_dict_to_cancel = {}\n",
      "\n",
      "\n",
      "\n",
      " ---- Total time for applying filter: 158.6533796787262 -----\n",
      "\n",
      "--- Finished Part 1: Filtering Neuron -----\n",
      "Apply the presyn non_error\n",
      "For presyn: # valid synapses = 5, # error synapses  = 196, # error presyns = 24\n",
      "For postsyn: # valid synapses = 4159, # error synapses  = 17, # error presyns = 0\n",
      "\n",
      "--- Finished Part 2: Filtering Synapses -----\n",
      "Synapsse Results:\n",
      "Total Number of Synapses = 4377\n",
      "n_valid_syn_ids_presyn = 5\n",
      "n_errored_syn_ids_presyn = 196\n",
      "n_valid_syn_ids_postsyn = 4159\n",
      "n_errored_syn_ids_postsyn = 17\n",
      "\n",
      "--- Finished Part 3: Generating Validation Dataframe -----\n",
      "Segment Id = 864691135736387732\n",
      "Postsyn counts:\n",
      "TP:4157\n",
      "TN:4\n",
      "FP:2\n",
      "FN:13\n",
      "Presyn counts:\n",
      "TP:4\n",
      "TN:148\n",
      "FP:1\n",
      "FN:24\n"
     ]
    },
    {
     "data": {
      "image/png": "[encoded data removed]",
      "text/plain": [
       "<Figure size 700x400 with 2 Axes>"
      ]
     },
     "metadata": {},
     "output_type": "display_data"
    }
   ],
   "source": [
    "(filt_neuron,\n",
    " return_synapse_df_revised,\n",
    "return_validation_df_revised) =  vu.filtered_neuron_score(neuron_obj = neuron_obj,   \n",
    "                    filter_list = pru.v4_exc_filters(),\n",
    "                    plot_limb_branch_filter_with_disconnect_effect = True,\n",
    "                    verbose = True,\n",
    "                    plot_score=False)\n",
    "\n",
    "vu.synapse_validation_df_to_score_plot(return_validation_df_revised)"
   ]
  },
  {
   "cell_type": "code",
   "execution_count": 103,
   "metadata": {},
   "outputs": [
    {
     "name": "stdout",
     "output_type": "stream",
     "text": [
      "Using the mesh from the neuron object\n"
     ]
    },
    {
     "data": {
      "application/vnd.jupyter.widget-view+json": {
       "model_id": "9388e491426d4f1cb527bb21819d155a",
       "version_major": 2,
       "version_minor": 0
      },
      "text/plain": [
       "VBox(children=(Figure(camera=PerspectiveCamera(fov=46.0, position=(0.0, 0.0, 2.0), projectionMatrix=(1.0, 0.0,…"
      ]
     },
     "metadata": {},
     "output_type": "display_data"
    },
    {
     "name": "stdout",
     "output_type": "stream",
     "text": [
      "TP:yellow\n",
      "TN:aqua\n",
      "FP:black\n",
      "FN:orange\n"
     ]
    }
   ],
   "source": [
    "vu.plot_validation_synapses(seg_id,\n",
    "                            validation_df = return_validation_df_revised,\n",
    "                             synapse_dict = None,\n",
    "                             synapses_type_to_plot = None,\n",
    "                             synapses_type_to_not_plot = None,\n",
    "                             verbose=False,\n",
    "                             synapse_type = \"presyn\",\n",
    "                             TP_color=\"yellow\",\n",
    "                            TN_color=\"aqua\",\n",
    "                            FP_color=\"black\",\n",
    "                            FN_color=\"orange\",\n",
    "                             synapse_scatter_size = 0.15,\n",
    "                             \n",
    "                             #for plotting the actual mesh parts to go along\n",
    "                             \n",
    "                             neuron_obj = filt_neuron,\n",
    "                             plot_only_axon_skeleton = True,\n",
    "                             error_mesh_color = \"red\",\n",
    "                             valid_mesh_color = \"green\",\n",
    "                             valid_skeleton_color = \"black\",\n",
    "                             mesh_alpha = 0.3,)"
   ]
  },
  {
   "cell_type": "code",
   "execution_count": 106,
   "metadata": {},
   "outputs": [
    {
     "name": "stdout",
     "output_type": "stream",
     "text": [
      "For test node 110, sibling nodes were: [134 170 189 190 191]\n",
      "overlap = [134 170 189 190 191]\n",
      "With test node equal to the downstream node\n",
      "upstream = 175, downstream_nodes = [134 170 189 190 191 110]\n"
     ]
    }
   ],
   "source": [
    "branches_at_coord = nru.find_branch_with_specific_coordinate(limb_obj,crossover_coordinates[11])\n",
    "upstream_branch, downstream_branches = nru.classify_upstream_downsream(limb_obj,\n",
    "                                   branch_list = branches_at_coord,\n",
    "                                    verbose = True)"
   ]
  },
  {
   "cell_type": "code",
   "execution_count": 107,
   "metadata": {},
   "outputs": [
    {
     "data": {
      "text/plain": [
       "310.4782076060238"
      ]
     },
     "execution_count": 107,
     "metadata": {},
     "output_type": "execute_result"
    }
   ],
   "source": [
    "import axon_utils as au\n",
    "au.axon_width(limb_obj[upstream_branch])"
   ]
  },
  {
   "cell_type": "code",
   "execution_count": 93,
   "metadata": {},
   "outputs": [
    {
     "data": {
      "text/plain": [
       "(array([11, 12]),)"
      ]
     },
     "execution_count": 93,
     "metadata": {},
     "output_type": "execute_result"
    }
   ],
   "source": [
    "np.where(np.linalg.norm(crossover_coordinates - crossover_coordinates[12],axis=1)<20000)"
   ]
  },
  {
   "cell_type": "code",
   "execution_count": 92,
   "metadata": {},
   "outputs": [],
   "source": [
    "curr_coordinate = crossover_coordinates[7]\n",
    "nviz.set_zoom(curr_coordinate,\n",
    "             radius = 5000)"
   ]
  },
  {
   "cell_type": "code",
   "execution_count": 66,
   "metadata": {},
   "outputs": [
    {
     "data": {
      "text/plain": [
       "array([[1253813.37275036, 1054311.12095475, 1018928.10821021],\n",
       "       [1256945.25646448, 1054256.00841076, 1015177.98894697],\n",
       "       [1259833.07687104, 1052966.23025988, 1012409.5819424 ],\n",
       "       [1268494.3221212 , 1050884.06344748, 1034702.20080174],\n",
       "       [1290864.96500251, 1012087.14361996,  972253.59283704],\n",
       "       [1297506.1169011 ,  990019.21955557,  954830.28648039],\n",
       "       [1301359.35608024,  965648.43123698,  936820.1586147 ],\n",
       "       [1303728.67322506,  863209.46850922,  896645.57702962],\n",
       "       [1304029.87670019,  936532.20511232,  913958.00336334],\n",
       "       [1304351.31923867,  945182.07505138,  920575.97105588],\n",
       "       [1304504.62567556,  920495.56378984,  908286.17992286],\n",
       "       [1305041.65066392,  885051.00797131,  897793.06605597],\n",
       "       [1305384.99049238,  886773.02401356,  898741.00270817],\n",
       "       [1307500.84096217, 1054868.02624231, 1039804.14976241],\n",
       "       [1310590.58737944, 1054912.37928009, 1040087.57579764],\n",
       "       [1311479.43843733, 1053836.40192383, 1040777.90085325],\n",
       "       [1320293.13828889, 1055629.296764  , 1040947.5320041 ],\n",
       "       [1328823.52149603, 1055972.49511017, 1042643.67364863],\n",
       "       [1338584.22465928, 1056257.0230169 , 1043112.51133021],\n",
       "       [1345041.87371498, 1058172.31228583, 1044532.62457166],\n",
       "       [1347878.74298446,  857269.82586236,  897241.0026337 ],\n",
       "       [1367321.59051041,  846157.32484188,  885150.76065872],\n",
       "       [1374419.17388745, 1058980.17464671, 1045734.4369964 ],\n",
       "       [1376799.74877346, 1059178.17719883, 1046141.32170148],\n",
       "       [1380951.9006438 , 1058425.53899552, 1046008.51380927],\n",
       "       [1387307.03786873, 1058735.42447749, 1045773.46099803],\n",
       "       [1390408.10472708, 1059266.9492501 , 1045960.23631579],\n",
       "       [1390792.92778166,  933560.51285148,  855570.89031975],\n",
       "       [1398066.6247149 ,  934566.36231385,  854003.33286508],\n",
       "       [1406206.03209132,  939125.64570968,  856777.63086794],\n",
       "       [1424934.62884646,  911707.09300846,  793079.54868933],\n",
       "       [1433537.        ,  926814.1       ,  836423.9       ],\n",
       "       [1448398.1710205 ,  925786.32739855,  831203.30229407],\n",
       "       [1448416.        ,  925826.8       ,  827215.5       ],\n",
       "       [1451446.46293878,  926012.30587276,  828434.89940443],\n",
       "       [1483742.26875339,  882939.87920111,  747770.92384418]])"
      ]
     },
     "execution_count": 66,
     "metadata": {},
     "output_type": "execute_result"
    }
   ],
   "source": [
    "exactly_equal = False\n",
    "limb_obj = neuron_obj[neuron_obj.axon_limb_name]\n",
    "crossover_coordinates = nru.high_degree_branching_coordinates_on_limb(limb_obj,min_degree_to_find=4,\n",
    "                                                                         exactly_equal=exactly_equal,\n",
    "                                                                         )\n",
    "crossover_coordinatescurr_coordinate = crossover_coordinates[]\n",
    "nviz.set_zoom(curr_coordinate,\n",
    "             radius = 5000)"
   ]
  },
  {
   "cell_type": "code",
   "execution_count": 62,
   "metadata": {
    "scrolled": true
   },
   "outputs": [
    {
     "name": "stdout",
     "output_type": "stream",
     "text": [
      "\n",
      " Working on visualization type: mesh\n",
      "\n",
      " Working on visualization type: skeleton\n"
     ]
    },
    {
     "data": {
      "application/vnd.jupyter.widget-view+json": {
       "model_id": "1dd19ee699284d958652624c654c93d1",
       "version_major": 2,
       "version_minor": 0
      },
      "text/plain": [
       "VBox(children=(Figure(camera=PerspectiveCamera(fov=46.0, position=(0.0, 0.0, 2.0), projectionMatrix=(1.0, 0.0,…"
      ]
     },
     "metadata": {},
     "output_type": "display_data"
    }
   ],
   "source": [
    "# import neuron_searching as ns\n",
    "# l_b_dict = ns.query_neuron(neuron_obj,\n",
    "#                functions_list=[\"axon_width\"],\n",
    "#                query=\"axon_width > 140\",\n",
    "#                           limbs_to_process=[neuron_obj.axon_limb_name])\n",
    "# ret_col  = nviz.visualize_neuron(neuron_obj,\n",
    "#                      limb_branch_dict=l_b_dict,\n",
    "#                      mesh_whole_neuron=True,\n",
    "#                      return_color_dict=True)"
   ]
  },
  {
   "cell_type": "code",
   "execution_count": 95,
   "metadata": {},
   "outputs": [
    {
     "name": "stdout",
     "output_type": "stream",
     "text": [
      "\n",
      " Working on visualization type: mesh\n",
      "\n",
      " Working on visualization type: skeleton\n"
     ]
    },
    {
     "data": {
      "application/vnd.jupyter.widget-view+json": {
       "model_id": "6128e1968a9c4f1b8ecc0a5afa357c67",
       "version_major": 2,
       "version_minor": 0
      },
      "text/plain": [
       "VBox(children=(Figure(camera=PerspectiveCamera(fov=46.0, position=(0.0, 0.0, 2.0), projectionMatrix=(1.0, 0.0,…"
      ]
     },
     "metadata": {},
     "output_type": "display_data"
    }
   ],
   "source": [
    "nviz.visualize_neuron(neuron_obj,\n",
    "                     limb_branch_dict=\"axon\")"
   ]
  },
  {
   "cell_type": "code",
   "execution_count": 97,
   "metadata": {},
   "outputs": [],
   "source": [
    "curr_coordinate = crossover_coordinates[11]\n",
    "nviz.set_zoom(curr_coordinate,\n",
    "             radius = 5000)\n",
    "nviz.plot_objects(scatters=[curr_coordinate],\n",
    "                 append_figure=True,\n",
    "                 show_at_end=False)"
   ]
  },
  {
   "cell_type": "markdown",
   "metadata": {},
   "source": [
    "# Inspecting the Crossover"
   ]
  },
  {
   "cell_type": "code",
   "execution_count": 13,
   "metadata": {},
   "outputs": [
    {
     "data": {
      "text/plain": [
       "<neuron.Neuron at 0x7fe6486bea20>"
      ]
     },
     "execution_count": 13,
     "metadata": {},
     "output_type": "execute_result"
    }
   ],
   "source": [
    "neuron_obj"
   ]
  },
  {
   "cell_type": "code",
   "execution_count": 14,
   "metadata": {},
   "outputs": [],
   "source": [
    "limb_obj = neuron_obj[neuron_obj.axon_limb_name]"
   ]
  },
  {
   "cell_type": "code",
   "execution_count": 35,
   "metadata": {},
   "outputs": [
    {
     "data": {
      "text/plain": [
       "array([[619189.60858089, 909005.11752672, 921858.16539071],\n",
       "       [622150.46160674, 906032.29381224, 916506.374183  ],\n",
       "       [659580.21590418, 912086.0525754 , 858423.77709203],\n",
       "       [660978.7156057 , 915120.04602362, 855183.21397846],\n",
       "       [723707.35277656, 907290.46068265, 934200.62202314],\n",
       "       [724767.40149365, 906801.96173937, 936207.40879916],\n",
       "       [732182.62058889, 905122.91965181, 764268.82583381],\n",
       "       [737579.02790307, 896878.36911941, 981679.96715529],\n",
       "       [742759.22651393, 894365.87425227, 990108.9498083 ],\n",
       "       [744068.39538755, 914384.35822538, 856877.56600516],\n",
       "       [763641.68979726, 922313.33596652, 837602.43667948],\n",
       "       [801894.4       , 946952.6       , 805845.8       ],\n",
       "       [919920.5       , 875178.7       , 835225.3       ],\n",
       "       [947335.67433163, 851635.06187905, 833828.962783  ]])"
      ]
     },
     "execution_count": 35,
     "metadata": {},
     "output_type": "execute_result"
    }
   ],
   "source": [
    "exactly_equal = False\n",
    "crossover_coordinates = nru.high_degree_branching_coordinates_on_limb(limb_obj,min_degree_to_find=4,\n",
    "                                                                         exactly_equal=exactly_equal,\n",
    "                                                                         )\n",
    "crossover_coordinates\n",
    "\n",
    "curr_coordinate = crossover_coordinates[3]\n",
    "nviz.set_zoom(curr_coordinate,\n",
    "             radius = 5000)"
   ]
  },
  {
   "cell_type": "code",
   "execution_count": 94,
   "metadata": {
    "scrolled": false
   },
   "outputs": [
    {
     "name": "stdout",
     "output_type": "stream",
     "text": [
      "For test node 110, sibling nodes were: [134 170 189 190 191]\n",
      "overlap = [134 170 189 190 191]\n",
      "With test node equal to the downstream node\n",
      "upstream = 175, downstream_nodes = [134 170 189 190 191 110]\n",
      "branches_at_coord = [110 134 170 175 189 190 191]\n",
      "Number of branches (7) was more than max_degree_to_resolve (6) so returning all downstream as error branches\n",
      "None [110 134 170 175 189 190 191]\n"
     ]
    }
   ],
   "source": [
    "import error_detection as ed\n",
    "winning_downstream,error_downstream = ed.high_degree_upstream_match(limb_obj,\n",
    "                          coordinate = crossover_coordinates[11],\n",
    "                        plot_intermediates = True,\n",
    "                        plot_match_intermediates = True,\n",
    "                          verbose=True)\n",
    "print(winning_downstream,error_downstream)"
   ]
  },
  {
   "cell_type": "code",
   "execution_count": null,
   "metadata": {},
   "outputs": [],
   "source": []
  },
  {
   "cell_type": "code",
   "execution_count": null,
   "metadata": {},
   "outputs": [],
   "source": []
  },
  {
   "cell_type": "code",
   "execution_count": 10,
   "metadata": {},
   "outputs": [
    {
     "data": {
      "text/plain": [
       "864691135462463389"
      ]
     },
     "execution_count": 10,
     "metadata": {},
     "output_type": "execute_result"
    }
   ],
   "source": [
    "vu.old_to_new_segment_id(seg_id)"
   ]
  },
  {
   "cell_type": "code",
   "execution_count": 11,
   "metadata": {},
   "outputs": [
    {
     "data": {
      "text/plain": [
       "{'presyn': {'TP': 191, 'TN': 0, 'FP': 0, 'FN': 25},\n",
       " 'postsyn': {'TP': 805, 'TN': 0, 'FP': 7, 'FN': 66}}"
      ]
     },
     "execution_count": 11,
     "metadata": {},
     "output_type": "execute_result"
    }
   ],
   "source": [
    "vu.synapse_validation_df_to_category_counts(return_validation_df_revised)"
   ]
  },
  {
   "cell_type": "code",
   "execution_count": 8,
   "metadata": {},
   "outputs": [
    {
     "name": "stdout",
     "output_type": "stream",
     "text": [
      "Using the mesh from the neuron object\n"
     ]
    },
    {
     "data": {
      "application/vnd.jupyter.widget-view+json": {
       "model_id": "3bd1bf1e38064306b2b5fd0a337ddddc",
       "version_major": 2,
       "version_minor": 0
      },
      "text/plain": [
       "VBox(children=(Figure(camera=PerspectiveCamera(fov=46.0, position=(0.0, 0.0, 2.0), projectionMatrix=(1.0, 0.0,…"
      ]
     },
     "metadata": {},
     "output_type": "display_data"
    },
    {
     "name": "stdout",
     "output_type": "stream",
     "text": [
      "TP:yellow\n",
      "TN:aqua\n",
      "FP:black\n",
      "FN:orange\n"
     ]
    }
   ],
   "source": []
  },
  {
   "cell_type": "code",
   "execution_count": null,
   "metadata": {},
   "outputs": [],
   "source": []
  },
  {
   "cell_type": "code",
   "execution_count": null,
   "metadata": {},
   "outputs": [],
   "source": []
  },
  {
   "cell_type": "code",
   "execution_count": null,
   "metadata": {},
   "outputs": [],
   "source": []
  },
  {
   "cell_type": "code",
   "execution_count": null,
   "metadata": {},
   "outputs": [],
   "source": []
  },
  {
   "cell_type": "code",
   "execution_count": null,
   "metadata": {},
   "outputs": [],
   "source": []
  },
  {
   "cell_type": "code",
   "execution_count": null,
   "metadata": {},
   "outputs": [],
   "source": []
  },
  {
   "cell_type": "code",
   "execution_count": null,
   "metadata": {
    "scrolled": false
   },
   "outputs": [],
   "source": []
  },
  {
   "cell_type": "code",
   "execution_count": null,
   "metadata": {},
   "outputs": [],
   "source": []
  }
 ],
 "metadata": {
  "kernelspec": {
   "display_name": "Python 3",
   "language": "python",
   "name": "python3"
  },
  "language_info": {
   "codemirror_mode": {
    "name": "ipython",
    "version": 3
   },
   "file_extension": ".py",
   "mimetype": "text/x-python",
   "name": "python",
   "nbconvert_exporter": "python",
   "pygments_lexer": "ipython3",
   "version": "3.6.9"
  }
 },
 "nbformat": 4,
 "nbformat_minor": 4
}
