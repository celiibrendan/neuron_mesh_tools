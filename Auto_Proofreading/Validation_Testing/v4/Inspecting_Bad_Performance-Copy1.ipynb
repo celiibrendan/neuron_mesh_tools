{
 "cells": [
  {
   "cell_type": "code",
   "execution_count": null,
   "metadata": {},
   "outputs": [],
   "source": [
    "\"\"\"\n",
    "Purpose: To Inspect the Neurons that were really bad\n",
    "\n",
    "\"\"\""
   ]
  },
  {
   "cell_type": "code",
   "execution_count": 1,
   "metadata": {},
   "outputs": [],
   "source": [
    "%load_ext autoreload\n",
    "%autoreload 2"
   ]
  },
  {
   "cell_type": "code",
   "execution_count": 2,
   "metadata": {},
   "outputs": [
    {
     "name": "stderr",
     "output_type": "stream",
     "text": [
      "INFO - 2021-04-24 17:36:37,432 - settings - Setting database.host to at-database.ad.bcm.edu\n",
      "INFO - 2021-04-24 17:36:37,435 - settings - Setting database.user to celiib\n",
      "INFO - 2021-04-24 17:36:37,436 - settings - Setting database.password to newceliipass\n",
      "INFO - 2021-04-24 17:36:37,440 - settings - Setting stores to {'minnie65': {'protocol': 'file', 'location': '/mnt/dj-stor01/platinum/minnie65', 'stage': '/mnt/dj-stor01/platinum/minnie65'}, 'meshes': {'protocol': 'file', 'location': '/mnt/dj-stor01/platinum/minnie65/02/meshes', 'stage': '/mnt/dj-stor01/platinum/minnie65/02/meshes'}, 'decimated_meshes': {'protocol': 'file', 'location': '/mnt/dj-stor01/platinum/minnie65/02/decimated_meshes', 'stage': '/mnt/dj-stor01/platinum/minnie65/02/decimated_meshes'}, 'skeletons': {'protocol': 'file', 'location': '/mnt/dj-stor01/platinum/minnie65/02/skeletons'}}\n",
      "INFO - 2021-04-24 17:36:37,441 - settings - Setting enable_python_native_blobs to True\n",
      "INFO - 2021-04-24 17:36:37,456 - connection - Connected celiib@at-database.ad.bcm.edu:3306\n"
     ]
    },
    {
     "name": "stdout",
     "output_type": "stream",
     "text": [
      "Connecting celiib@at-database.ad.bcm.edu:3306\n"
     ]
    },
    {
     "name": "stderr",
     "output_type": "stream",
     "text": [
      "INFO - 2021-04-24 17:36:37,901 - settings - Setting enable_python_native_blobs to True\n",
      "INFO - 2021-04-24 17:36:37,905 - settings - Setting database.host to at-database.ad.bcm.edu\n",
      "INFO - 2021-04-24 17:36:37,906 - settings - Setting database.user to celiib\n",
      "INFO - 2021-04-24 17:36:37,907 - settings - Setting database.password to newceliipass\n",
      "INFO - 2021-04-24 17:36:37,907 - settings - Setting database.host to at-database.ad.bcm.edu\n",
      "INFO - 2021-04-24 17:36:37,908 - settings - Setting database.user to celiib\n",
      "INFO - 2021-04-24 17:36:37,909 - settings - Setting database.password to newceliipass\n",
      "INFO - 2021-04-24 17:36:37,911 - settings - Setting enable_python_native_blobs to True\n",
      "INFO - 2021-04-24 17:36:38,409 - settings - Setting enable_python_native_blobs to True\n"
     ]
    }
   ],
   "source": [
    "import numpy as np\n",
    "import datajoint as dj\n",
    "import trimesh\n",
    "from tqdm.notebook import tqdm\n",
    "from pathlib import Path\n",
    "\n",
    "from os import sys\n",
    "sys.path.append(\"/meshAfterParty/\")\n",
    "sys.path.append(\"/meshAfterParty/meshAfterParty\")\n",
    "\n",
    "import datajoint_utils as du\n",
    "from importlib import reload"
   ]
  },
  {
   "cell_type": "code",
   "execution_count": 3,
   "metadata": {},
   "outputs": [
    {
     "name": "stderr",
     "output_type": "stream",
     "text": [
      "INFO - 2021-04-24 17:36:38,552 - settings - Setting database.host to at-database.ad.bcm.edu\n",
      "INFO - 2021-04-24 17:36:38,553 - settings - Setting database.user to celiib\n",
      "INFO - 2021-04-24 17:36:38,554 - settings - Setting database.password to newceliipass\n",
      "INFO - 2021-04-24 17:36:38,558 - settings - Setting enable_python_native_blobs to True\n",
      "INFO - 2021-04-24 17:36:39,062 - settings - Setting enable_python_native_blobs to True\n"
     ]
    }
   ],
   "source": [
    "#configuring will include the adapters\n",
    "minnie,schema = du.configure_minnie_vm()"
   ]
  },
  {
   "cell_type": "code",
   "execution_count": 4,
   "metadata": {},
   "outputs": [],
   "source": [
    "import validation_utils as vu\n",
    "import neuron_visualizations as nviz\n",
    "import neuron_utils as nru\n",
    "import proofreading_utils as pru\n",
    "import time\n",
    "import system_utils as su"
   ]
  },
  {
   "cell_type": "markdown",
   "metadata": {},
   "source": [
    "# Downloading the Neuron"
   ]
  },
  {
   "cell_type": "code",
   "execution_count": 16,
   "metadata": {},
   "outputs": [],
   "source": [
    "seg_id = 864691136105498585\n",
    "seg_id = 864691135974454383\n",
    "seg_id = 864691135974454895"
   ]
  },
  {
   "cell_type": "code",
   "execution_count": 17,
   "metadata": {},
   "outputs": [
    {
     "name": "stdout",
     "output_type": "stream",
     "text": [
      "Decompressing Neuron in minimal output mode...please wait\n"
     ]
    }
   ],
   "source": [
    "#1) Dwonload the neuron object\n",
    "neuron_obj = du.fetch_neuron_obj_manual(seg_id,\n",
    "                                   border_validation=True)"
   ]
  },
  {
   "cell_type": "code",
   "execution_count": 18,
   "metadata": {},
   "outputs": [
    {
     "name": "stdout",
     "output_type": "stream",
     "text": [
      "\n",
      "--- Working on filter 0:\n",
      "function = axon_on_dendrite_merges\n",
      "function __name__ = filter_away_axon_on_dendrite_merges\n",
      "function arguments = {'use_pre_existing_axon_labels': True}\n",
      "\n",
      "\n",
      "\n",
      "--- Working on filter 1:\n",
      "function = high_degree_branching\n",
      "function __name__ = filter_away_high_degree_branching\n",
      "function arguments = {'offset': 1500, 'comparison_distance': 2000, 'worst_case_match_threshold': 65, 'width_diff_max': 60, 'match_threshold': 45, 'angle_buffer': 15, 'max_degree_to_resolve': 6, 'match_method': 'best_match'}\n",
      "\n",
      "\n",
      "\n",
      "\n",
      " ----- Working on coordinate [1114491.45069704  624186.47815901 1079363.35915717]--------\n",
      "coordinate [1114491.45069704  624186.47815901 1079363.35915717] had error branches [2 4]--------\n",
      "\n",
      "\n",
      " ----- Working on coordinate [1150585.94142523  679324.90843952 1016036.573792  ]--------\n",
      "coordinate [1150585.94142523  679324.90843952 1016036.573792  ] had error branches [24 25 29 21]--------\n",
      "\n",
      "\n",
      " ----- Working on coordinate [1155692.14327461  669701.01801971 1015130.67026831]--------\n",
      "coordinate [1155692.14327461  669701.01801971 1015130.67026831] had error branches [51 52 46]--------\n",
      "\n",
      "\n",
      " ----- Working on coordinate [1155698.40567762  665913.90073593 1016834.01720987]--------\n",
      "coordinate [1155698.40567762  665913.90073593 1016834.01720987] had error branches [54 39]--------\n",
      "\n",
      "\n",
      " ----- Working on coordinate [1250107.19005484  707708.46867272 1046559.29209154]--------\n",
      "coordinate [1250107.19005484  707708.46867272 1046559.29209154] had error branches []--------\n",
      "\n",
      "\n",
      " ----- Working on coordinate [1259645.   482452.9 1034744. ]--------\n",
      "coordinate [1259645.   482452.9 1034744. ] had error branches [ 98 101]--------\n",
      "\n",
      "\n",
      " ----- Working on coordinate [1265468.60800573  617840.51727242 1089116.95245069]--------\n",
      "coordinate [1265468.60800573  617840.51727242 1089116.95245069] had error branches [118 126 127]--------\n",
      "\n",
      "\n",
      " ----- Working on coordinate [1267889.78002564  578944.46970298 1094012.42351485]--------\n",
      "coordinate [1267889.78002564  578944.46970298 1094012.42351485] had error branches [131 132 103]--------\n",
      "\n",
      "\n",
      " ----- Working on coordinate [1275494.84248464  476085.06913975 1107848.91256116]--------\n",
      "coordinate [1275494.84248464  476085.06913975 1107848.91256116] had error branches [137 150 105]--------\n",
      "\n",
      "\n",
      " ----- Working on coordinate [1276831.76635911  430369.13325049 1090371.09272235]--------\n",
      "coordinate [1276831.76635911  430369.13325049 1090371.09272235] had error branches [162 163]--------\n",
      "\n",
      "\n",
      " ----- Working on coordinate [1278898.1788399   457138.53227999 1099471.18928635]--------\n",
      "coordinate [1278898.1788399   457138.53227999 1099471.18928635] had error branches [169 172 156]--------\n",
      "\n",
      "\n",
      " ----- Working on coordinate [1280648.   565620.9 1065872. ]--------\n",
      "coordinate [1280648.   565620.9 1065872. ] had error branches [174 181]--------\n",
      "\n",
      "\n",
      " ----- Working on coordinate [1334993.37027936  336529.44872671 1100009.19541536]--------\n",
      "coordinate [1334993.37027936  336529.44872671 1100009.19541536] had error branches [212 205]--------\n",
      "\n",
      "\n",
      " ----- Working on coordinate [1351718.21537161  343103.27105484 1062065.07903447]--------\n",
      "coordinate [1351718.21537161  343103.27105484 1062065.07903447] had error branches [214 218 219 220]--------\n",
      "\n",
      "\n",
      " ----- Working on coordinate [1406964.38326862  724093.0626479   985379.22283044]--------\n",
      "coordinate [1406964.38326862  724093.0626479   985379.22283044] had error branches [225 228]--------\n",
      "limb_branch_dict_to_cancel = {'L1': array([  2,   4,  24,  25,  29,  21,  51,  52,  46,  54,  39,  98, 101,\n",
      "       118, 126, 127, 131, 132, 103, 137, 150, 105, 162, 163, 169, 172,\n",
      "       156, 174, 181, 212, 205, 214, 218, 219, 220, 225, 228])}\n",
      "\n",
      "--- Working on filter 2:\n",
      "function = axon_webbing_t_merges\n",
      "function __name__ = filter_away_webbing_t_merges\n",
      "function arguments = {'child_width_maximum': 75, 'parent_width_maximum': 75, 'axon_only': True, 'error_if_web_is_none': True, 'web_size_threshold': 120, 'web_size_type': 'ray_trace_median', 'web_above_threshold': True}\n",
      "\n",
      "\n",
      "limb_branch_dict_to_cancel = {}\n",
      "\n",
      "--- Working on filter 3:\n",
      "function = double_back_and_width_change\n",
      "function __name__ = filter_away_large_double_back_or_width_changes\n",
      "function arguments = {'perform_double_back_errors': True, 'skip_double_back_errors_for_axon': False, 'width_jump_threshold': 250, 'running_width_jump_method': True, 'double_back_axon_like_threshold': 145, 'double_back_threshold': 120, 'allow_axon_double_back_angle_with_top': 39, 'allow_axon_double_back_angle_with_top_width_min': 140, 'skeletal_length_to_skip': 4000, 'comparison_distance': 3000, 'perform_width_errors': True, 'perform_axon_width_errors': False}\n",
      "\n",
      "\n",
      "limb_branch_dict_to_cancel = {}\n",
      "\n",
      "--- Working on filter 4:\n",
      "function = axon_fork_divergence\n",
      "function __name__ = filter_away_small_axon_fork_divergence\n",
      "function arguments = {'divergence_threshold_mean': 165}\n",
      "\n",
      "\n",
      "limb_branch_dict_to_cancel = {}\n",
      "\n",
      "\n",
      "\n",
      " ---- Total time for applying filter: 107.70253229141235 -----\n",
      "\n",
      "--- Finished Part 1: Filtering Neuron -----\n",
      "Apply the presyn non_error\n",
      "For presyn: # valid synapses = 118, # error synapses  = 173, # error presyns = 12\n",
      "For postsyn: # valid synapses = 4329, # error synapses  = 13, # error presyns = 0\n",
      "\n",
      "--- Finished Part 2: Filtering Synapses -----\n",
      "Synapsse Results:\n",
      "Total Number of Synapses = 4633\n",
      "n_valid_syn_ids_presyn = 118\n",
      "n_errored_syn_ids_presyn = 173\n",
      "n_valid_syn_ids_postsyn = 4329\n",
      "n_errored_syn_ids_postsyn = 13\n",
      "\n",
      "--- Finished Part 3: Generating Validation Dataframe -----\n",
      "Segment Id = 864691135974454895\n",
      "Postsyn counts:\n",
      "TP:4329\n",
      "TN:0\n",
      "FP:0\n",
      "FN:13\n",
      "Presyn counts:\n",
      "TP:104\n",
      "TN:123\n",
      "FP:14\n",
      "FN:38\n"
     ]
    },
    {
     "data": {
      "image/png": "[encoded data removed]",
      "text/plain": [
       "<Figure size 700x400 with 2 Axes>"
      ]
     },
     "metadata": {},
     "output_type": "display_data"
    }
   ],
   "source": [
    "(filt_neuron,\n",
    " return_synapse_df_revised,\n",
    "return_validation_df_revised) =  vu.filtered_neuron_score(neuron_obj = neuron_obj,   \n",
    "                    filter_list = pru.v4_exc_filters(),\n",
    "                    plot_limb_branch_filter_with_disconnect_effect = False,\n",
    "                    verbose = True,\n",
    "                    plot_score=False)\n",
    "\n",
    "vu.synapse_validation_df_to_score_plot(return_validation_df_revised)"
   ]
  },
  {
   "cell_type": "code",
   "execution_count": 19,
   "metadata": {},
   "outputs": [
    {
     "name": "stdout",
     "output_type": "stream",
     "text": [
      "Using the mesh from the neuron object\n"
     ]
    },
    {
     "data": {
      "application/vnd.jupyter.widget-view+json": {
       "model_id": "19fbb35bcb6940a2b6516adb814282dd",
       "version_major": 2,
       "version_minor": 0
      },
      "text/plain": [
       "VBox(children=(Figure(camera=PerspectiveCamera(fov=46.0, position=(0.0, 0.0, 2.0), projectionMatrix=(1.0, 0.0,…"
      ]
     },
     "metadata": {},
     "output_type": "display_data"
    },
    {
     "name": "stdout",
     "output_type": "stream",
     "text": [
      "TP:yellow\n",
      "TN:aqua\n",
      "FP:black\n",
      "FN:orange\n"
     ]
    }
   ],
   "source": [
    "vu.plot_validation_synapses(seg_id,\n",
    "                            validation_df = return_validation_df_revised,\n",
    "                             synapse_dict = None,\n",
    "                             synapses_type_to_plot = None,\n",
    "                             synapses_type_to_not_plot = None,\n",
    "                             verbose=False,\n",
    "                             synapse_type = \"presyn\",\n",
    "                             TP_color=\"yellow\",\n",
    "                            TN_color=\"aqua\",\n",
    "                            FP_color=\"black\",\n",
    "                            FN_color=\"orange\",\n",
    "                             synapse_scatter_size = 0.15,\n",
    "                             \n",
    "                             #for plotting the actual mesh parts to go along\n",
    "                             \n",
    "                             neuron_obj = filt_neuron,\n",
    "                             plot_only_axon_skeleton = True,\n",
    "                             error_mesh_color = \"red\",\n",
    "                             valid_mesh_color = \"green\",\n",
    "                             valid_skeleton_color = \"black\",\n",
    "                             mesh_alpha = 0.3,)"
   ]
  },
  {
   "cell_type": "code",
   "execution_count": null,
   "metadata": {},
   "outputs": [],
   "source": []
  },
  {
   "cell_type": "code",
   "execution_count": null,
   "metadata": {},
   "outputs": [],
   "source": []
  },
  {
   "cell_type": "code",
   "execution_count": null,
   "metadata": {},
   "outputs": [],
   "source": []
  },
  {
   "cell_type": "code",
   "execution_count": null,
   "metadata": {},
   "outputs": [],
   "source": []
  },
  {
   "cell_type": "code",
   "execution_count": null,
   "metadata": {},
   "outputs": [],
   "source": []
  },
  {
   "cell_type": "code",
   "execution_count": null,
   "metadata": {},
   "outputs": [],
   "source": []
  },
  {
   "cell_type": "code",
   "execution_count": 15,
   "metadata": {
    "scrolled": false
   },
   "outputs": [
    {
     "name": "stdout",
     "output_type": "stream",
     "text": [
      "\n",
      " Working on visualization type: mesh\n"
     ]
    },
    {
     "data": {
      "application/vnd.jupyter.widget-view+json": {
       "model_id": "8b1ed53c938040a8ad6bfa332d7637ab",
       "version_major": 2,
       "version_minor": 0
      },
      "text/plain": [
       "VBox(children=(Figure(camera=PerspectiveCamera(fov=46.0, position=(0.0, 0.0, 2.0), projectionMatrix=(1.0, 0.0,…"
      ]
     },
     "metadata": {},
     "output_type": "display_data"
    },
    {
     "name": "stdout",
     "output_type": "stream",
     "text": [
      "two_downstream_thin_axon_limb_branch = {'L2': array([ 8, 47, 54, 59, 65, 70, 71, 72])}\n",
      "wide_angled_children= {'L2': array([ 8, 72])}\n",
      "Web size = 182.2413024095692\n",
      "Web size = 219.3191332103299\n",
      "Final web t error limb branch dict = {}\n",
      "\n",
      " Working on visualization type: mesh\n"
     ]
    },
    {
     "data": {
      "application/vnd.jupyter.widget-view+json": {
       "model_id": "c535ef7690b84d8194d3e5aeed5d53c8",
       "version_major": 2,
       "version_minor": 0
      },
      "text/plain": [
       "VBox(children=(Figure(camera=PerspectiveCamera(fov=46.0, position=(0.0, 0.0, 2.0), projectionMatrix=(1.0, 0.0,…"
      ]
     },
     "metadata": {},
     "output_type": "display_data"
    },
    {
     "name": "stdout",
     "output_type": "stream",
     "text": [
      "No color dictionary to return because plot_items_order or color_list_correct_size empty\n"
     ]
    },
    {
     "data": {
      "text/plain": [
       "{}"
      ]
     },
     "execution_count": 15,
     "metadata": {},
     "output_type": "execute_result"
    }
   ],
   "source": [
    "ed.webbing_t_errors_limb_branch_dict(filt_neuron,\n",
    "                                     axon_only = True,\n",
    "                                #child_width_maximum = 75,\n",
    "                                parent_width_maximum = 75,\n",
    "                                plot_two_downstream_thin_axon_limb_branch = True,\n",
    "                                plot_wide_angled_children = False,\n",
    "                                error_if_web_is_none = True,\n",
    "                                verbose = True,\n",
    "\n",
    "                                #arguments for the web thresholding\n",
    "                                web_size_threshold=120,\n",
    "                                web_size_type=\"ray_trace_median\",\n",
    "                                web_above_threshold = True,\n",
    "\n",
    "                                plot_web_errors = True,\n",
    "                                    child_skeletal_threshold = 1000)"
   ]
  },
  {
   "cell_type": "code",
   "execution_count": null,
   "metadata": {},
   "outputs": [],
   "source": []
  }
 ],
 "metadata": {
  "kernelspec": {
   "display_name": "Python 3",
   "language": "python",
   "name": "python3"
  },
  "language_info": {
   "codemirror_mode": {
    "name": "ipython",
    "version": 3
   },
   "file_extension": ".py",
   "mimetype": "text/x-python",
   "name": "python",
   "nbconvert_exporter": "python",
   "pygments_lexer": "ipython3",
   "version": "3.6.9"
  }
 },
 "nbformat": 4,
 "nbformat_minor": 4
}
