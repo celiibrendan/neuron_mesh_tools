{
 "cells": [
  {
   "cell_type": "code",
   "execution_count": 1,
   "metadata": {},
   "outputs": [
    {
     "data": {
      "text/plain": [
       "'\\nTo Make sure the Best Axon method works and also\\nto see if can decompose the axon any better \\n(especially if can help with crosses)\\n\\n'"
      ]
     },
     "execution_count": 1,
     "metadata": {},
     "output_type": "execute_result"
    }
   ],
   "source": [
    "\"\"\"\n",
    "To Make sure the Best Axon method works and also\n",
    "to see if can decompose the axon any better \n",
    "(especially if can help with crosses and parts that aren't skeletonized             )\n",
    "\n",
    "\"\"\""
   ]
  },
  {
   "cell_type": "code",
   "execution_count": 2,
   "metadata": {},
   "outputs": [],
   "source": [
    "%load_ext autoreload\n",
    "%autoreload 2"
   ]
  },
  {
   "cell_type": "code",
   "execution_count": 5,
   "metadata": {},
   "outputs": [],
   "source": [
    "from os import sys\n",
    "sys.path.append(\"/meshAfterParty/\")\n",
    "sys.path.append(\"/meshAfterParty/meshAfterParty/\")"
   ]
  },
  {
   "cell_type": "code",
   "execution_count": 6,
   "metadata": {},
   "outputs": [
    {
     "name": "stderr",
     "output_type": "stream",
     "text": [
      "INFO - 2021-02-17 17:56:37,242 - settings - Setting database.host to at-database.ad.bcm.edu\n",
      "INFO - 2021-02-17 17:56:37,244 - settings - Setting database.user to celiib\n",
      "INFO - 2021-02-17 17:56:37,244 - settings - Setting database.password to newceliipass\n",
      "INFO - 2021-02-17 17:56:37,249 - settings - Setting stores to {'minnie65': {'protocol': 'file', 'location': '/mnt/dj-stor01/platinum/minnie65', 'stage': '/mnt/dj-stor01/platinum/minnie65'}, 'meshes': {'protocol': 'file', 'location': '/mnt/dj-stor01/platinum/minnie65/02/meshes', 'stage': '/mnt/dj-stor01/platinum/minnie65/02/meshes'}, 'decimated_meshes': {'protocol': 'file', 'location': '/mnt/dj-stor01/platinum/minnie65/02/decimated_meshes', 'stage': '/mnt/dj-stor01/platinum/minnie65/02/decimated_meshes'}, 'skeletons': {'protocol': 'file', 'location': '/mnt/dj-stor01/platinum/minnie65/02/skeletons'}}\n",
      "INFO - 2021-02-17 17:56:37,250 - settings - Setting enable_python_native_blobs to True\n",
      "INFO - 2021-02-17 17:56:37,264 - connection - Connected celiib@at-database.ad.bcm.edu:3306\n"
     ]
    },
    {
     "name": "stdout",
     "output_type": "stream",
     "text": [
      "Connecting celiib@at-database.ad.bcm.edu:3306\n"
     ]
    },
    {
     "name": "stderr",
     "output_type": "stream",
     "text": [
      "INFO - 2021-02-17 17:56:37,580 - settings - Setting enable_python_native_blobs to True\n",
      "INFO - 2021-02-17 17:56:37,613 - settings - Setting enable_python_native_blobs to True\n",
      "INFO - 2021-02-17 17:56:37,962 - settings - Setting enable_python_native_blobs to True\n"
     ]
    }
   ],
   "source": [
    "import datajoint_utils as du\n",
    "minnie,schema = du.configure_minnie_vm()"
   ]
  },
  {
   "cell_type": "code",
   "execution_count": 46,
   "metadata": {},
   "outputs": [],
   "source": [
    "import pandas as pd\n",
    "import matplotlib.pyplot as plt\n",
    "import networkx as nx\n",
    "import numpy as np\n",
    "import networkx_utils as xu\n",
    "import datajoint as dj\n",
    "import neuron_visualizations as nviz\n",
    "import neuron\n",
    "import neuron_utils as nru\n",
    "import proofreading_utils as pru\n",
    "import classification_utils as clu\n",
    "import system_utils as su"
   ]
  },
  {
   "cell_type": "markdown",
   "metadata": {},
   "source": [
    "# Checking the Double Axon Neurons"
   ]
  },
  {
   "cell_type": "code",
   "execution_count": 117,
   "metadata": {},
   "outputs": [],
   "source": [
    "multi_axon_segs,multi_axon_splits = (minnie.AutoProofreadNeurons2() & \"cell_type_predicted='excitatory'\"\n",
    " & \"n_axons>1\").fetch(\"segment_id\",\"split_index\")"
   ]
  },
  {
   "cell_type": "code",
   "execution_count": 118,
   "metadata": {},
   "outputs": [
    {
     "data": {
      "text/plain": [
       "9346"
      ]
     },
     "execution_count": 118,
     "metadata": {},
     "output_type": "execute_result"
    }
   ],
   "source": [
    "len(multi_axon_segs)"
   ]
  },
  {
   "cell_type": "code",
   "execution_count": 119,
   "metadata": {},
   "outputs": [
    {
     "data": {
      "text/plain": [
       "(864691134947394812, 0)"
      ]
     },
     "execution_count": 119,
     "metadata": {},
     "output_type": "execute_result"
    }
   ],
   "source": [
    "curr_index = 60\n",
    "segment_id = multi_axon_segs[curr_index]\n",
    "split_index = multi_axon_splits[curr_index]\n",
    "segment_id,split_index"
   ]
  },
  {
   "cell_type": "code",
   "execution_count": 109,
   "metadata": {},
   "outputs": [
    {
     "name": "stdout",
     "output_type": "stream",
     "text": [
      "Synapsse Results:\n",
      "Total Number of Synapses = 278\n",
      "n_valid_syn_centers_presyn = 0\n",
      "n_errored_syn_centers_presyn = 68\n",
      "n_valid_syn_centers_postsyn = 200\n",
      "n_errored_syn_centers_postsyn = 10\n",
      "Including axon mesh\n",
      "No axon to plot\n"
     ]
    },
    {
     "data": {
      "application/vnd.jupyter.widget-view+json": {
       "model_id": "4b83f263ba0d4e48a2861e0198f79aee",
       "version_major": 2,
       "version_minor": 0
      },
      "text/plain": [
       "VBox(children=(Figure(camera=PerspectiveCamera(fov=46.0, position=(0.0, 0.0, 2.0), projectionMatrix=(1.0, 0.0,…"
      ]
     },
     "metadata": {},
     "output_type": "display_data"
    }
   ],
   "source": [
    "du.plot_proofread_neuron(segment_id,\n",
    "                        split_index=split_index,\n",
    "                        plot_errored_faces=True,\n",
    "                        plot_synapses=True,\n",
    "                        plot_nuclei=True,\n",
    "                        plot_axon=True)"
   ]
  },
  {
   "cell_type": "code",
   "execution_count": 111,
   "metadata": {},
   "outputs": [
    {
     "name": "stdout",
     "output_type": "stream",
     "text": [
      "Decompressing Neuron in minimal output mode...please wait\n",
      "Pulled from Table Decomposition so setting split_index = 0\n",
      "Number of Neurons found = 1\n"
     ]
    }
   ],
   "source": [
    "neuron_obj = du.decomposition_with_spine_recalculation(segment_id,\n",
    "                                                      split_index=split_index)"
   ]
  },
  {
   "cell_type": "code",
   "execution_count": 112,
   "metadata": {},
   "outputs": [],
   "source": [
    "if type(neuron_obj) == tuple:\n",
    "    test_neuron = neuron_obj[0][split_index]\n",
    "else:\n",
    "    test_neuron = neuron_obj"
   ]
  },
  {
   "cell_type": "code",
   "execution_count": 113,
   "metadata": {},
   "outputs": [
    {
     "name": "stdout",
     "output_type": "stream",
     "text": [
      "\n",
      " Working on visualization type: mesh\n",
      "\n",
      " Working on visualization type: skeleton\n"
     ]
    },
    {
     "data": {
      "application/vnd.jupyter.widget-view+json": {
       "model_id": "851d76648ad04682abd329b14ffeb999",
       "version_major": 2,
       "version_minor": 0
      },
      "text/plain": [
       "VBox(children=(Figure(camera=PerspectiveCamera(fov=46.0, position=(0.0, 0.0, 2.0), projectionMatrix=(1.0, 0.0,…"
      ]
     },
     "metadata": {},
     "output_type": "display_data"
    }
   ],
   "source": [
    "nviz.visualize_neuron(test_neuron,\n",
    "                     limb_branch_dict=\"all\")"
   ]
  },
  {
   "cell_type": "code",
   "execution_count": 107,
   "metadata": {
    "scrolled": true
   },
   "outputs": [
    {
     "name": "stdout",
     "output_type": "stream",
     "text": [
      "\n",
      "Part 1: Axon like branchese \n",
      "{'L0': array([ 0,  1,  2,  5,  6,  7,  8,  9, 10, 11, 12, 13, 15, 16, 18, 20, 21,\n",
      "       25, 28, 30, 33, 34, 35, 36, 37, 39, 40, 41, 55, 56, 57, 58, 59, 60,\n",
      "       61, 62]), 'L1': array([ 4,  5,  6,  7, 16, 17, 18, 19, 20])}\n",
      "Limb L0 soma angle: 62.32 \n",
      "Limb L1 soma angle: 85.85 \n",
      "Limb L2 soma angle: 92.93 \n",
      "Limb L3 soma angle: 119.97 \n",
      "\n",
      "Part 2: possible_axon_limbs = [1, 2, 3]\n",
      "\n",
      "Phase 2: Working on Limb L1\n",
      "nodes_to_eliminate = [ 9 11 12]\n",
      "\n",
      "Phase 2: Working on Limb L2\n",
      "nodes_to_eliminate = [0]\n",
      "\n",
      "Phase 2: Working on Limb L3\n",
      "nodes_to_eliminate = []\n",
      "\n",
      "----Working on Limb L1-----\n",
      "No endpoints were eliminated so don't need to add back any candidates\n",
      "\n",
      "----Working on Limb L2-----\n",
      "No endpoints were eliminated so don't need to add back any candidates\n",
      "\n",
      "----Working on Limb L3-----\n",
      "No nodes were eliminated so don't need to add back any candidates\n",
      "Final Candidates\n",
      "\n",
      "Limb 1\n",
      "Candidate 0 (orange): array([1, 3, 4, 5, 6, 7, 8])\n",
      "Candidate 1 (crimson): array([10, 13, 14])\n",
      "Candidate 2 (palegreen): array([2])\n",
      "Candidate 3 (green): array([ 0, 15, 16, 17, 18, 19, 20])\n",
      "\n",
      "Limb 2\n",
      "Candidate 0 (pink): array([1])\n",
      "Candidate 1 (brown): array([2, 4, 5])\n",
      "Candidate 2 (forestgreen): array([3])\n",
      "\n",
      "Limb 3\n",
      "Candidate 0 (cyan): array([0])\n",
      "Part 3: axon_subgraph_candidates = {1: [[1, 3, 4, 5, 6, 7, 8], [10, 13, 14], [2], [0, 15, 16, 17, 18, 19, 20]], 2: [[1], [2, 4, 5], [3]], 3: [[0]]}\n",
      "\n",
      "\n",
      " --- Working on limb 1, candidate # 0\n",
      "4 out of 7 branches are axons\n",
      "Axon percentage = 0.5714285714285714\n",
      "curr_axon_angle_threshold = 120\n",
      "candidate_nodes = [1 3 4 5 6 7 8 9]\n",
      "non_axon_branches_on_subgraph = [1 3 8 9]\n",
      "endnodes_to_test = []\n",
      "Not adding candidate because no angles (None) passed the threhold 120 \n",
      "\n",
      "\n",
      " --- Working on limb 1, candidate # 1\n",
      "0 out of 3 branches are axons\n",
      "Axon percentage = 0.0\n",
      "Not adding candidate no axon branches detected \n",
      "\n",
      "\n",
      " --- Working on limb 1, candidate # 2\n",
      "0 out of 1 branches are axons\n",
      "Axon percentage = 0.0\n",
      "Not adding candidate no axon branches detected \n",
      "\n",
      "\n",
      " --- Working on limb 1, candidate # 3\n",
      "5 out of 7 branches are axons\n",
      "Axon percentage = 0.7142857142857143\n",
      "curr_axon_angle_threshold = 120\n",
      "candidate_nodes = [ 0  9 11 12 15 16 17 18 19 20]\n",
      "non_axon_branches_on_subgraph = [ 0  9 11 12 15]\n",
      "endnodes_to_test = []\n",
      "Not adding candidate because no angles (None) passed the threhold 120 \n",
      "\n",
      "\n",
      " --- Working on limb 2, candidate # 0\n",
      "0 out of 1 branches are axons\n",
      "Axon percentage = 0.0\n",
      "Not adding candidate no axon branches detected \n",
      "\n",
      "\n",
      " --- Working on limb 2, candidate # 1\n",
      "0 out of 3 branches are axons\n",
      "Axon percentage = 0.0\n",
      "Not adding candidate no axon branches detected \n",
      "\n",
      "\n",
      " --- Working on limb 2, candidate # 2\n",
      "0 out of 1 branches are axons\n",
      "Axon percentage = 0.0\n",
      "Not adding candidate no axon branches detected \n",
      "\n",
      "\n",
      " --- Working on limb 3, candidate # 0\n",
      "0 out of 1 branches are axons\n",
      "Axon percentage = 0.0\n",
      "Not adding candidate no axon branches detected \n",
      "Using the best axon approach\n",
      "final_true_axons = {}\n",
      "axon_angles = {}\n",
      "\n",
      "\n",
      "Part 4: final_true_axons = {}\n",
      "NO AXON DETECTED FOR PLOTTING\n"
     ]
    }
   ],
   "source": [
    "true_axons,true_axon_angles,axon_like_errors = clu.axon_classification(test_neuron,\n",
    "                        return_axon_angles=True,\n",
    "                       plot_candidates=False,\n",
    "                       plot_axons=True,\n",
    "                        best_axon=True,\n",
    "                       verbose=True)"
   ]
  },
  {
   "cell_type": "code",
   "execution_count": 67,
   "metadata": {},
   "outputs": [
    {
     "data": {
      "text/plain": [
       "{'L6': array([ 8,  9, 11, 13, 18, 20, 21, 22, 23, 24, 25, 26, 27, 15, 17, 12,  0,\n",
       "         1,  2,  3,  4,  5,  6,  7])}"
      ]
     },
     "execution_count": 67,
     "metadata": {},
     "output_type": "execute_result"
    }
   ],
   "source": [
    "# \"\"\"\n",
    "# Pseudocode: \n",
    "# if there even is an axon\n",
    "# 1) Get the limb name of the best axon\n",
    "# 2) Get the concept network of the limb and the starting node\n",
    "# 3) Get the branches that would be axon\n",
    "# 4) Delete the branches from the concept network\n",
    "# 5) For each connected component in the leftover network\n",
    "# - if not have starting node and all in axon-like: \n",
    "# add to list to add to the true axon\n",
    "\n",
    "# 6) add the new nodes to the axon group\n",
    "# \"\"\"\n",
    "\n",
    "# neuron_obj = test_neuron\n",
    "\n",
    "# if len(best_limb_branch_dict) > 0:\n",
    "    \n",
    "#     #1) Get the limb name of the best axon\n",
    "#     limb_name_of_axon = list(best_limb_branch_dict.keys())\n",
    "#     if len(limb_name_of_axon) > 1:\n",
    "#         raise Excpetion(\"More than 1 axon key\")\n",
    "    \n",
    "#     limb_name_of_axon = limb_name_of_axon[0]\n",
    "    \n",
    "#     curr_limb = neuron_obj[limb_name_of_axon]\n",
    "#     #2) Get the concept network of the limb and the starting node\n",
    "#     conc_net = nx.Graph(curr_limb.concept_network)\n",
    "#     start_node = curr_limb.current_starting_node\n",
    "    \n",
    "#     #3) Get the branches that would be axon\n",
    "#     axon_branches = best_limb_branch_dict[limb_name_of_axon]\n",
    "#     axon_like_branches = axon_like_limb_branch_dict[limb_name_of_axon]\n",
    "    \n",
    "#     #4) Delete the branches from the concept network\n",
    "#     conc_net.remove_nodes_from(axon_branches)\n",
    "    \n",
    "    \n",
    "#     #5) For each connected component in the leftover network\n",
    "#     new_axon_branches = []\n",
    "#     for conn_comp in nx.connected_components(conc_net):\n",
    "#         conn_comp = list(conn_comp)\n",
    "        \n",
    "#         #- if not have starting node and all in axon-like: \n",
    "#         #add to list to add to the true axon\n",
    "#         axon_like_in_conn_comp = np.intersect1d(axon_like_branches,conn_comp)\n",
    "#         if start_node not in conn_comp and len(axon_like_in_conn_comp) == len(conn_comp):\n",
    "#             new_axon_branches += conn_comp\n",
    "    \n",
    "    \n",
    "        \n",
    "#     if len(new_axon_branches) > 0:\n",
    "#         best_limb_branch_dict[limb_name_of_axon] = np.array(list(axon_branches) + new_axon_branches)\n",
    "        \n",
    "# best_limb_branch_dict"
   ]
  },
  {
   "cell_type": "markdown",
   "metadata": {},
   "source": [
    "# Getting a more high fidelity axon skeleton"
   ]
  },
  {
   "cell_type": "code",
   "execution_count": 120,
   "metadata": {},
   "outputs": [],
   "source": [
    "segment_id = 864691134947394812\n",
    "split_index = 0"
   ]
  },
  {
   "cell_type": "code",
   "execution_count": 121,
   "metadata": {},
   "outputs": [
    {
     "name": "stdout",
     "output_type": "stream",
     "text": [
      "Decompressing Neuron in minimal output mode...please wait\n",
      "Pulled from Table Decomposition so setting split_index = 0\n",
      "Number of Neurons found = 1\n"
     ]
    }
   ],
   "source": [
    "neuron_obj = du.decomposition_with_spine_recalculation(segment_id,\n",
    "                                                      split_index=split_index)"
   ]
  },
  {
   "cell_type": "code",
   "execution_count": 122,
   "metadata": {},
   "outputs": [
    {
     "name": "stdout",
     "output_type": "stream",
     "text": [
      "\n",
      " Working on visualization type: mesh\n",
      "\n",
      " Working on visualization type: skeleton\n"
     ]
    },
    {
     "data": {
      "application/vnd.jupyter.widget-view+json": {
       "model_id": "91634ce364ea4c77ad14135f21b9a35c",
       "version_major": 2,
       "version_minor": 0
      },
      "text/plain": [
       "VBox(children=(Figure(camera=PerspectiveCamera(fov=46.0, position=(0.0, 0.0, 2.0), projectionMatrix=(1.0, 0.0,…"
      ]
     },
     "metadata": {},
     "output_type": "display_data"
    }
   ],
   "source": [
    "nviz.visualize_neuron(neuron_obj,\n",
    "                     limb_branch_dict=\"all\")"
   ]
  },
  {
   "cell_type": "code",
   "execution_count": 127,
   "metadata": {},
   "outputs": [
    {
     "data": {
      "text/plain": [
       "<neuron.Neuron at 0x7ff75125e208>"
      ]
     },
     "execution_count": 127,
     "metadata": {},
     "output_type": "execute_result"
    }
   ],
   "source": [
    "neuron_obj"
   ]
  },
  {
   "cell_type": "code",
   "execution_count": 129,
   "metadata": {},
   "outputs": [
    {
     "name": "stdout",
     "output_type": "stream",
     "text": [
      "\n",
      "Part 1: Axon like branchese \n",
      "{'L3': array([3, 4]), 'L4': array([1]), 'L6': array([0, 1, 2, 3])}\n",
      "Limb L0 soma angle: 71.03 \n",
      "Limb L1 soma angle: 66.27 \n",
      "Limb L2 soma angle: 78.67 \n",
      "Limb L3 soma angle: 98.66 \n",
      "Limb L4 soma angle: 98.86 \n",
      "Limb L5 soma angle: 100.07 \n",
      "Limb L6 soma angle: 171.82 \n",
      "\n",
      "Part 2: possible_axon_limbs = [0, 2, 3, 4, 5, 6]\n",
      "\n",
      "Phase 2: Working on Limb L0\n",
      "nodes_to_eliminate = []\n",
      "\n",
      "Phase 2: Working on Limb L2\n",
      "nodes_to_eliminate = []\n",
      "\n",
      "Phase 2: Working on Limb L3\n",
      "nodes_to_eliminate = [0]\n",
      "\n",
      "Phase 2: Working on Limb L4\n",
      "nodes_to_eliminate = [0]\n",
      "\n",
      "Phase 2: Working on Limb L5\n",
      "nodes_to_eliminate = []\n",
      "\n",
      "Phase 2: Working on Limb L6\n",
      "nodes_to_eliminate = [1]\n",
      "\n",
      "----Working on Limb L0-----\n",
      "No nodes were eliminated so don't need to add back any candidates\n",
      "\n",
      "----Working on Limb L2-----\n",
      "No nodes were eliminated so don't need to add back any candidates\n",
      "\n",
      "----Working on Limb L3-----\n",
      "No endpoints were eliminated so don't need to add back any candidates\n",
      "\n",
      "----Working on Limb L4-----\n",
      "No endpoints were eliminated so don't need to add back any candidates\n",
      "\n",
      "----Working on Limb L5-----\n",
      "No nodes were eliminated so don't need to add back any candidates\n",
      "\n",
      "----Working on Limb L6-----\n",
      "No endpoints were eliminated so don't need to add back any candidates\n",
      "Final Candidates\n",
      "\n",
      "Limb 0\n",
      "Candidate 0 (green): array([0, 1, 2, 3, 4])\n",
      "\n",
      "Limb 2\n",
      "Candidate 0 (green): array([0, 1, 2])\n",
      "\n",
      "Limb 3\n",
      "Candidate 0 (sandybrown): array([1, 3, 4])\n",
      "Candidate 1 (green): array([2])\n",
      "\n",
      "Limb 4\n",
      "Candidate 0 (gold): array([1])\n",
      "Candidate 1 (cadetblue): array([2])\n",
      "\n",
      "Limb 5\n",
      "Candidate 0 (forestgreen): array([0])\n",
      "\n",
      "Limb 6\n",
      "Candidate 0 (forestgreen): array([0])\n",
      "Candidate 1 (red): array([2])\n",
      "Candidate 2 (blue): array([3])\n",
      "Part 3: axon_subgraph_candidates = {0: [[0, 1, 2, 3, 4]], 2: [[0, 1, 2]], 3: [[1, 3, 4], [2]], 4: [[1], [2]], 5: [[0]], 6: [[0], [2], [3]]}\n",
      "\n",
      "\n",
      " --- Working on limb 0, candidate # 0\n",
      "0 out of 5 branches are axons\n",
      "Axon percentage = 0.0\n",
      "Not adding candidate no axon branches detected \n",
      "\n",
      "\n",
      " --- Working on limb 2, candidate # 0\n",
      "0 out of 3 branches are axons\n",
      "Axon percentage = 0.0\n",
      "Not adding candidate no axon branches detected \n",
      "\n",
      "\n",
      " --- Working on limb 3, candidate # 0\n",
      "2 out of 3 branches are axons\n",
      "Axon percentage = 0.6666666666666666\n",
      "curr_axon_angle_threshold = 120\n",
      "candidate_nodes = [0 1 3 4]\n",
      "non_axon_branches_on_subgraph = [0 1]\n",
      "endnodes_to_test = []\n",
      "Not adding candidate because no angles (None) passed the threhold 120 \n",
      "\n",
      "\n",
      " --- Working on limb 3, candidate # 1\n",
      "0 out of 1 branches are axons\n",
      "Axon percentage = 0.0\n",
      "Not adding candidate no axon branches detected \n",
      "\n",
      "\n",
      " --- Working on limb 4, candidate # 0\n",
      "1 out of 1 branches are axons\n",
      "Axon percentage = 1.0\n",
      "curr_axon_angle_threshold = 95\n",
      "candidate_nodes = [0 1]\n",
      "non_axon_branches_on_subgraph = [0]\n",
      "endnodes_to_test = [117]\n",
      "Skeleton paths distances = [24924.70210851]\n",
      "Filtered indexes = [0]\n",
      "len(filtered_skeletons) = 1\n",
      "sk_angles = [142.62774395]\n",
      "Adding the following branches as true axons: [1]\n",
      "curr_soma_angle = 98.86\n",
      "max_axon_angle = 142.6277439549456\n",
      "Changing to a better axon candidate\n",
      "\n",
      "\n",
      " --- Working on limb 4, candidate # 1\n",
      "0 out of 1 branches are axons\n",
      "Axon percentage = 0.0\n",
      "Not adding candidate no axon branches detected \n",
      "\n",
      "\n",
      " --- Working on limb 5, candidate # 0\n",
      "0 out of 1 branches are axons\n",
      "Axon percentage = 0.0\n",
      "Not adding candidate no axon branches detected \n",
      "\n",
      "\n",
      " --- Working on limb 6, candidate # 0\n",
      "1 out of 1 branches are axons\n",
      "Axon percentage = 1.0\n",
      "curr_axon_angle_threshold = 95\n",
      "candidate_nodes = [0 1]\n",
      "non_axon_branches_on_subgraph = []\n",
      "endnodes_to_test = [370]\n",
      "Skeleton paths distances = [24915.35024899]\n",
      "Filtered indexes = [0]\n",
      "len(filtered_skeletons) = 1\n",
      "sk_angles = [104.33127832]\n",
      "Not adding candidate the because AIS width was not higher than threshold (85): 65.73297867601447 \n",
      "\n",
      "\n",
      " --- Working on limb 6, candidate # 1\n",
      "1 out of 1 branches are axons\n",
      "Axon percentage = 1.0\n",
      "curr_axon_angle_threshold = 95\n",
      "candidate_nodes = [1 2]\n",
      "non_axon_branches_on_subgraph = []\n",
      "endnodes_to_test = [252]\n",
      "Skeleton paths distances = [24962.2581202]\n",
      "Filtered indexes = [0]\n",
      "len(filtered_skeletons) = 1\n",
      "sk_angles = [141.67152193]\n",
      "Adding the following branches as true axons: [2 1]\n",
      "curr_soma_angle = 171.82\n",
      "max_axon_angle = 141.67152193405605\n",
      "Changing to a better axon candidate\n",
      "\n",
      "\n",
      " --- Working on limb 6, candidate # 2\n",
      "1 out of 1 branches are axons\n",
      "Axon percentage = 1.0\n",
      "curr_axon_angle_threshold = 95\n",
      "candidate_nodes = [1 3]\n",
      "non_axon_branches_on_subgraph = []\n",
      "endnodes_to_test = [245]\n",
      "Skeleton paths distances = [24976.4587591]\n",
      "Filtered indexes = [0]\n",
      "len(filtered_skeletons) = 1\n",
      "sk_angles = [133.12337861]\n",
      "Not adding candidate the because AIS width was not higher than threshold (85): 66.32621731013077 \n",
      "Using the best axon approach\n",
      "\n",
      "\n",
      "Part 4: final_true_axons = {'L6': array([2, 1, 0, 3])}\n"
     ]
    },
    {
     "data": {
      "text/plain": [
       "({'L6': array([2, 1, 0, 3])}, {'L3': array([4])})"
      ]
     },
     "execution_count": 129,
     "metadata": {},
     "output_type": "execute_result"
    }
   ],
   "source": [
    "clu.axon_classification(neuron_obj,\n",
    "                       best_axon=True)"
   ]
  },
  {
   "cell_type": "code",
   "execution_count": 130,
   "metadata": {},
   "outputs": [
    {
     "data": {
      "text/plain": [
       "{'L6': array([0, 1, 2, 3])}"
      ]
     },
     "execution_count": 130,
     "metadata": {},
     "output_type": "execute_result"
    }
   ],
   "source": [
    "clu.axon_limb_branch_dict(neuron_obj)"
   ]
  },
  {
   "cell_type": "code",
   "execution_count": null,
   "metadata": {},
   "outputs": [],
   "source": []
  }
 ],
 "metadata": {
  "kernelspec": {
   "display_name": "Python 3",
   "language": "python",
   "name": "python3"
  },
  "language_info": {
   "codemirror_mode": {
    "name": "ipython",
    "version": 3
   },
   "file_extension": ".py",
   "mimetype": "text/x-python",
   "name": "python",
   "nbconvert_exporter": "python",
   "pygments_lexer": "ipython3",
   "version": "3.6.9"
  }
 },
 "nbformat": 4,
 "nbformat_minor": 4
}
