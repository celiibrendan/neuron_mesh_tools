{
 "cells": [
  {
   "cell_type": "code",
   "execution_count": 1,
   "metadata": {},
   "outputs": [
    {
     "data": {
      "text/plain": [
       "'\\nTo Make sure the Best Axon method works and also\\nto see if can decompose the axon any better \\n(especially if can help with crosses)\\n\\n'"
      ]
     },
     "execution_count": 1,
     "metadata": {},
     "output_type": "execute_result"
    }
   ],
   "source": [
    "\"\"\"\n",
    "To Make sure the Best Axon method works and also\n",
    "to see if can decompose the axon any better \n",
    "(especially if can help with crosses and parts that aren't skeletonized             )\n",
    "\n",
    "\"\"\""
   ]
  },
  {
   "cell_type": "code",
   "execution_count": 2,
   "metadata": {},
   "outputs": [],
   "source": [
    "%load_ext autoreload\n",
    "%autoreload 2"
   ]
  },
  {
   "cell_type": "code",
   "execution_count": 5,
   "metadata": {},
   "outputs": [],
   "source": [
    "from os import sys\n",
    "sys.path.append(\"/meshAfterParty/\")\n",
    "sys.path.append(\"/meshAfterParty/meshAfterParty/\")"
   ]
  },
  {
   "cell_type": "code",
   "execution_count": 6,
   "metadata": {},
   "outputs": [
    {
     "name": "stderr",
     "output_type": "stream",
     "text": [
      "INFO - 2021-02-17 17:56:37,242 - settings - Setting database.host to at-database.ad.bcm.edu\n",
      "INFO - 2021-02-17 17:56:37,244 - settings - Setting database.user to celiib\n",
      "INFO - 2021-02-17 17:56:37,244 - settings - Setting database.password to newceliipass\n",
      "INFO - 2021-02-17 17:56:37,249 - settings - Setting stores to {'minnie65': {'protocol': 'file', 'location': '/mnt/dj-stor01/platinum/minnie65', 'stage': '/mnt/dj-stor01/platinum/minnie65'}, 'meshes': {'protocol': 'file', 'location': '/mnt/dj-stor01/platinum/minnie65/02/meshes', 'stage': '/mnt/dj-stor01/platinum/minnie65/02/meshes'}, 'decimated_meshes': {'protocol': 'file', 'location': '/mnt/dj-stor01/platinum/minnie65/02/decimated_meshes', 'stage': '/mnt/dj-stor01/platinum/minnie65/02/decimated_meshes'}, 'skeletons': {'protocol': 'file', 'location': '/mnt/dj-stor01/platinum/minnie65/02/skeletons'}}\n",
      "INFO - 2021-02-17 17:56:37,250 - settings - Setting enable_python_native_blobs to True\n",
      "INFO - 2021-02-17 17:56:37,264 - connection - Connected celiib@at-database.ad.bcm.edu:3306\n"
     ]
    },
    {
     "name": "stdout",
     "output_type": "stream",
     "text": [
      "Connecting celiib@at-database.ad.bcm.edu:3306\n"
     ]
    },
    {
     "name": "stderr",
     "output_type": "stream",
     "text": [
      "INFO - 2021-02-17 17:56:37,580 - settings - Setting enable_python_native_blobs to True\n",
      "INFO - 2021-02-17 17:56:37,613 - settings - Setting enable_python_native_blobs to True\n",
      "INFO - 2021-02-17 17:56:37,962 - settings - Setting enable_python_native_blobs to True\n"
     ]
    }
   ],
   "source": [
    "import datajoint_utils as du\n",
    "minnie,schema = du.configure_minnie_vm()"
   ]
  },
  {
   "cell_type": "code",
   "execution_count": 144,
   "metadata": {},
   "outputs": [],
   "source": [
    "import pandas as pd\n",
    "import matplotlib.pyplot as plt\n",
    "import networkx as nx\n",
    "import numpy as np\n",
    "import networkx_utils as xu\n",
    "import datajoint as dj\n",
    "import neuron_visualizations as nviz\n",
    "import neuron\n",
    "import neuron_utils as nru\n",
    "import proofreading_utils as pru\n",
    "import classification_utils as clu\n",
    "import system_utils as su\n",
    "from importlib import reload"
   ]
  },
  {
   "cell_type": "markdown",
   "metadata": {},
   "source": [
    "# Checking the Double Axon Neurons"
   ]
  },
  {
   "cell_type": "code",
   "execution_count": 117,
   "metadata": {},
   "outputs": [],
   "source": [
    "multi_axon_segs,multi_axon_splits = (minnie.AutoProofreadNeurons2() & \"cell_type_predicted='excitatory'\"\n",
    " & \"n_axons>1\").fetch(\"segment_id\",\"split_index\")"
   ]
  },
  {
   "cell_type": "code",
   "execution_count": 118,
   "metadata": {},
   "outputs": [
    {
     "data": {
      "text/plain": [
       "9346"
      ]
     },
     "execution_count": 118,
     "metadata": {},
     "output_type": "execute_result"
    }
   ],
   "source": [
    "len(multi_axon_segs)"
   ]
  },
  {
   "cell_type": "code",
   "execution_count": null,
   "metadata": {},
   "outputs": [],
   "source": [
    "segment_id,split_index = (864691134947394812, 0) #was good for testing the high fidelity"
   ]
  },
  {
   "cell_type": "code",
   "execution_count": 719,
   "metadata": {},
   "outputs": [
    {
     "data": {
      "text/plain": [
       "(864691135428517680, 0)"
      ]
     },
     "execution_count": 719,
     "metadata": {},
     "output_type": "execute_result"
    }
   ],
   "source": [
    "curr_index = \n",
    "segment_id = multi_axon_segs[curr_index]\n",
    "split_index = multi_axon_splits[curr_index]\n",
    "segment_id,split_index"
   ]
  },
  {
   "cell_type": "code",
   "execution_count": 720,
   "metadata": {},
   "outputs": [
    {
     "name": "stdout",
     "output_type": "stream",
     "text": [
      "Synapsse Results:\n",
      "Total Number of Synapses = 413\n",
      "n_valid_syn_centers_presyn = 16\n",
      "n_errored_syn_centers_presyn = 130\n",
      "n_valid_syn_centers_postsyn = 267\n",
      "n_errored_syn_centers_postsyn = 0\n",
      "Including axon mesh\n"
     ]
    },
    {
     "data": {
      "application/vnd.jupyter.widget-view+json": {
       "model_id": "f6a3659fbd224500bf9812b618472cc7",
       "version_major": 2,
       "version_minor": 0
      },
      "text/plain": [
       "VBox(children=(Figure(camera=PerspectiveCamera(fov=46.0, position=(0.0, 0.0, 2.0), projectionMatrix=(1.0, 0.0,…"
      ]
     },
     "metadata": {},
     "output_type": "display_data"
    }
   ],
   "source": [
    "du.plot_proofread_neuron(segment_id,\n",
    "                        split_index=split_index,\n",
    "                        plot_errored_faces=True,\n",
    "                        plot_synapses=True,\n",
    "                        plot_nuclei=True,\n",
    "                        plot_axon=True)"
   ]
  },
  {
   "cell_type": "code",
   "execution_count": 475,
   "metadata": {},
   "outputs": [
    {
     "name": "stdout",
     "output_type": "stream",
     "text": [
      "Decompressing Neuron in minimal output mode...please wait\n",
      "Pulled from Table Decomposition so setting split_index = 0\n",
      "Number of Neurons found = 1\n"
     ]
    }
   ],
   "source": [
    "neuron_obj = du.decomposition_with_spine_recalculation(segment_id,\n",
    "                                                      split_index=split_index)"
   ]
  },
  {
   "cell_type": "code",
   "execution_count": 476,
   "metadata": {},
   "outputs": [],
   "source": [
    "if type(neuron_obj) == tuple:\n",
    "    test_neuron = neuron_obj[0][split_index]\n",
    "else:\n",
    "    test_neuron = neuron_obj"
   ]
  },
  {
   "cell_type": "code",
   "execution_count": 477,
   "metadata": {},
   "outputs": [
    {
     "name": "stdout",
     "output_type": "stream",
     "text": [
      "\n",
      " Working on visualization type: mesh\n",
      "\n",
      " Working on visualization type: skeleton\n"
     ]
    },
    {
     "data": {
      "application/vnd.jupyter.widget-view+json": {
       "model_id": "fa5f50cac7094b228b9aa6f2b13f12d0",
       "version_major": 2,
       "version_minor": 0
      },
      "text/plain": [
       "VBox(children=(Figure(camera=PerspectiveCamera(fov=46.0, position=(0.0, 0.0, 2.0), projectionMatrix=(1.0, 0.0,…"
      ]
     },
     "metadata": {},
     "output_type": "display_data"
    }
   ],
   "source": [
    "nviz.visualize_neuron(test_neuron,\n",
    "                     limb_branch_dict=\"all\")"
   ]
  },
  {
   "cell_type": "code",
   "execution_count": 478,
   "metadata": {
    "scrolled": false
   },
   "outputs": [
    {
     "name": "stdout",
     "output_type": "stream",
     "text": [
      "\n",
      "Part 1: Axon like branchese \n",
      "{'L0': array([ 0,  1,  2,  3,  4,  5,  6,  7,  8,  9, 10, 11, 12, 13, 14, 15, 16,\n",
      "       17, 18, 19, 20, 21, 22, 23, 24, 25, 26, 27, 28, 29, 30, 31, 32, 33,\n",
      "       34, 35, 36, 37, 38, 39, 40, 41, 42, 43, 44, 45, 46, 47, 48, 49, 50,\n",
      "       51, 52, 53, 54, 55, 56, 57, 58, 59, 60, 61]), 'L1': array([ 1,  5, 15, 16, 17, 18, 19, 20, 21, 22, 23, 24, 25, 26]), 'L2': array([ 0,  3,  5,  9, 10, 11, 12, 13, 14, 18]), 'L3': array([ 5,  9, 12, 13, 14, 15, 16, 17, 18, 19, 20, 22, 23, 24, 25, 26, 27,\n",
      "       28, 29])}\n",
      "Limb L0 soma angle: 151.55 \n",
      "Limb L1 soma angle: 86.23 \n",
      "Limb L2 soma angle: 115.25 \n",
      "Limb L3 soma angle: 95.03 \n",
      "\n",
      "Part 2: possible_axon_limbs = [0, 1, 2, 3]\n",
      "\n",
      "Phase 2: Working on Limb L0\n",
      "nodes_to_eliminate = []\n",
      "\n",
      "Phase 2: Working on Limb L1\n",
      "nodes_to_eliminate = [2 3 4]\n",
      "\n",
      "Phase 2: Working on Limb L2\n",
      "nodes_to_eliminate = [15]\n",
      "\n",
      "Phase 2: Working on Limb L3\n",
      "nodes_to_eliminate = [10]\n",
      "\n",
      "----Working on Limb L0-----\n",
      "No nodes were eliminated so don't need to add back any candidates\n",
      "\n",
      "----Working on Limb L1-----\n",
      "No endpoints were eliminated so don't need to add back any candidates\n",
      "\n",
      "----Working on Limb L2-----\n",
      "No endpoints were eliminated so don't need to add back any candidates\n",
      "\n",
      "----Working on Limb L3-----\n",
      "No endpoints were eliminated so don't need to add back any candidates\n",
      "Final Candidates\n",
      "\n",
      "Limb 0\n",
      "Candidate 0 (tan): array([ 0,  1,  2,  3,  4,  5,  6,  7,  8,  9, 10, 11, 12, 13, 14, 15, 16,\n",
      "       17, 18, 19, 20, 21, 22, 23, 24, 25, 26, 27, 28, 29, 30, 31, 32, 33,\n",
      "       34, 35, 36, 37, 38, 39, 40, 41, 42, 43, 44, 45, 46, 47, 48, 49, 50,\n",
      "       51, 52, 53, 54, 55, 56, 57, 58, 59, 60, 61])\n",
      "\n",
      "Limb 1\n",
      "Candidate 0 (forestgreen): array([0])\n",
      "Candidate 1 (pink): array([1])\n",
      "Candidate 2 (darkslategray): array([5])\n",
      "Candidate 3 (tan): array([6])\n",
      "Candidate 4 (pink): array([ 7,  8,  9, 10, 11, 12, 13, 14, 15, 16, 17, 18, 19, 20, 21, 22, 23,\n",
      "       24, 25, 26])\n",
      "\n",
      "Limb 2\n",
      "Candidate 0 (tan): array([ 0,  1,  2,  3,  4,  5,  6,  7,  8,  9, 10, 11, 12, 13, 14, 17, 18])\n",
      "Candidate 1 (pink): array([16])\n",
      "\n",
      "Limb 3\n",
      "Candidate 0 (blue): array([ 0,  1,  2,  3,  4,  5,  6,  7,  8, 11, 12, 13, 14, 15, 16, 17, 18,\n",
      "       19, 20, 21, 22, 23, 24, 25, 26, 27, 28, 29])\n",
      "Candidate 1 (red): array([9])\n",
      "Part 3: axon_subgraph_candidates = {0: [[0, 1, 2, 3, 4, 5, 6, 7, 8, 9, 10, 11, 12, 13, 14, 15, 16, 17, 18, 19, 20, 21, 22, 23, 24, 25, 26, 27, 28, 29, 30, 31, 32, 33, 34, 35, 36, 37, 38, 39, 40, 41, 42, 43, 44, 45, 46, 47, 48, 49, 50, 51, 52, 53, 54, 55, 56, 57, 58, 59, 60, 61]], 1: [[0], [1], [5], [6], [7, 8, 9, 10, 11, 12, 13, 14, 15, 16, 17, 18, 19, 20, 21, 22, 23, 24, 25, 26]], 2: [[0, 1, 2, 3, 4, 5, 6, 7, 8, 9, 10, 11, 12, 13, 14, 17, 18], [16]], 3: [[0, 1, 2, 3, 4, 5, 6, 7, 8, 11, 12, 13, 14, 15, 16, 17, 18, 19, 20, 21, 22, 23, 24, 25, 26, 27, 28, 29], [9]]}\n",
      "\n",
      "\n",
      " --- Working on limb 0, candidate # 0\n",
      "62 out of 62 branches are axons\n",
      "Axon percentage = 1.0\n",
      "curr_axon_angle_threshold = 95\n",
      "candidate_nodes = [ 0  1  2  3  4  5  6  7  8  9 10 11 12 13 14 15 16 17 18 19 20 21 22 23\n",
      " 24 25 26 27 28 29 30 31 32 33 34 35 36 37 38 39 40 41 42 43 44 45 46 47\n",
      " 48 49 50 51 52 53 54 55 56 57 58 59 60 61]\n",
      "non_axon_branches_on_subgraph = []\n",
      "endnodes_to_test = [1272]\n",
      "Skeleton paths distances = [24999.9063088]\n",
      "Filtered indexes = [0]\n",
      "len(filtered_skeletons) = 1\n",
      "sk_angles = [172.23833704]\n",
      "Adding the following branches as true axons: [ 0.  1.  2.  3.  4.  5.  6.  7.  8.  9. 10. 11. 12. 13. 14. 15. 16. 17.\n",
      " 18. 19. 20. 21. 22. 23. 24. 25. 26. 27. 28. 29. 30. 31. 32. 33. 34. 35.\n",
      " 36. 37. 38. 39. 40. 41. 42. 43. 44. 45. 46. 47. 48. 49. 50. 51. 52. 53.\n",
      " 54. 55. 56. 57. 58. 59. 60. 61.]\n",
      "curr_soma_angle = 151.55\n",
      "max_axon_angle = 172.23833704237407\n",
      "Changing to a better axon candidate\n",
      "\n",
      "\n",
      " --- Working on limb 1, candidate # 0\n",
      "0 out of 1 branches are axons\n",
      "Axon percentage = 0.0\n",
      "Not adding candidate no axon branches detected \n",
      "\n",
      "\n",
      " --- Working on limb 1, candidate # 1\n",
      "1 out of 1 branches are axons\n",
      "Axon percentage = 1.0\n",
      "curr_axon_angle_threshold = 95\n",
      "candidate_nodes = [1 2 3]\n",
      "non_axon_branches_on_subgraph = [2 3]\n",
      "endnodes_to_test = [0]\n",
      "Skeleton paths distances = [15636.91700296]\n",
      "Filtered indexes = []\n",
      "len(filtered_skeletons) = 1\n",
      "sk_angles = [11.61527527]\n",
      "Not adding candidate because no angles ([11.61527527]) passed the threhold 95 \n",
      "\n",
      "\n",
      " --- Working on limb 1, candidate # 2\n",
      "1 out of 1 branches are axons\n",
      "Axon percentage = 1.0\n",
      "curr_axon_angle_threshold = 95\n",
      "candidate_nodes = [3 4 5]\n",
      "non_axon_branches_on_subgraph = [3 4]\n",
      "endnodes_to_test = [197]\n",
      "Skeleton paths distances = [24663.1392898]\n",
      "Filtered indexes = [0]\n",
      "len(filtered_skeletons) = 1\n",
      "sk_angles = [88.33756657]\n",
      "Not adding candidate because no angles ([88.33756657]) passed the threhold 95 \n",
      "\n",
      "\n",
      " --- Working on limb 1, candidate # 3\n",
      "0 out of 1 branches are axons\n",
      "Axon percentage = 0.0\n",
      "Not adding candidate no axon branches detected \n",
      "\n",
      "\n",
      " --- Working on limb 1, candidate # 4\n",
      "12 out of 20 branches are axons\n",
      "Axon percentage = 0.6\n",
      "curr_axon_angle_threshold = 120\n",
      "candidate_nodes = [ 3  4  7  8  9 10 11 12 13 14 15 16 17 18 19 20 21 22 23 24 25 26]\n",
      "non_axon_branches_on_subgraph = [ 3  4  7  8  9 10 11 12 13 14]\n",
      "endnodes_to_test = []\n",
      "Not adding candidate because no angles (None) passed the threhold 120 \n",
      "\n",
      "\n",
      " --- Working on limb 2, candidate # 0\n",
      "10 out of 17 branches are axons\n",
      "Axon percentage = 0.5882352941176471\n",
      "curr_axon_angle_threshold = 120\n",
      "candidate_nodes = [ 0  1  2  3  4  5  6  7  8  9 10 11 12 13 14 15 17 18]\n",
      "non_axon_branches_on_subgraph = [ 1  2  4  6  7  8 15 17]\n",
      "endnodes_to_test = []\n",
      "Not adding candidate because no angles (None) passed the threhold 120 \n",
      "\n",
      "\n",
      " --- Working on limb 2, candidate # 1\n",
      "0 out of 1 branches are axons\n",
      "Axon percentage = 0.0\n",
      "Not adding candidate no axon branches detected \n",
      "\n",
      "\n",
      " --- Working on limb 3, candidate # 0\n",
      "18 out of 28 branches are axons\n",
      "Axon percentage = 0.6428571428571429\n",
      "curr_axon_angle_threshold = 120\n",
      "candidate_nodes = [ 0  1  2  3  4  5  6  7  8 10 11 12 13 14 15 16 17 18 19 20 21 22 23 24\n",
      " 25 26 27 28 29]\n",
      "non_axon_branches_on_subgraph = [ 0  1  2  3  4  6  7  8 10 11 21]\n",
      "endnodes_to_test = [2521]\n",
      "Skeleton paths distances = [24979.95144304]\n",
      "Filtered indexes = [0]\n",
      "len(filtered_skeletons) = 1\n",
      "sk_angles = [79.20055296]\n",
      "Not adding candidate because no angles ([79.20055296]) passed the threhold 120 \n",
      "\n",
      "\n",
      " --- Working on limb 3, candidate # 1\n",
      "1 out of 1 branches are axons\n",
      "Axon percentage = 1.0\n",
      "curr_axon_angle_threshold = 95\n",
      "candidate_nodes = [ 9 10]\n",
      "non_axon_branches_on_subgraph = [10]\n",
      "endnodes_to_test = [0]\n",
      "Skeleton paths distances = [15721.58304516]\n",
      "Filtered indexes = []\n",
      "len(filtered_skeletons) = 1\n",
      "sk_angles = [96.85895645]\n",
      "Adding the following branches as true axons: [9]\n",
      "curr_soma_angle = 95.03\n",
      "max_axon_angle = 96.85895644544813\n",
      "Using the best axon approach\n",
      "\n",
      "\n",
      "Part 4: final_true_axons = {'L0': array([ 0.,  1.,  2.,  3.,  4.,  5.,  6.,  7.,  8.,  9., 10., 11., 12.,\n",
      "       13., 14., 15., 16., 17., 18., 19., 20., 21., 22., 23., 24., 25.,\n",
      "       26., 27., 28., 29., 30., 31., 32., 33., 34., 35., 36., 37., 38.,\n",
      "       39., 40., 41., 42., 43., 44., 45., 46., 47., 48., 49., 50., 51.,\n",
      "       52., 53., 54., 55., 56., 57., 58., 59., 60., 61.])}\n",
      "\n",
      " Working on visualization type: mesh\n"
     ]
    },
    {
     "data": {
      "application/vnd.jupyter.widget-view+json": {
       "model_id": "f4b7c98471fb449cbaf01afdc3b48afa",
       "version_major": 2,
       "version_minor": 0
      },
      "text/plain": [
       "VBox(children=(Figure(camera=PerspectiveCamera(fov=46.0, position=(0.0, 0.0, 2.0), projectionMatrix=(1.0, 0.0,…"
      ]
     },
     "metadata": {},
     "output_type": "display_data"
    }
   ],
   "source": [
    "true_axons,true_axon_angles,axon_like_errors = clu.axon_classification(test_neuron,\n",
    "                        return_axon_angles=True,\n",
    "                       plot_candidates=False,\n",
    "                       plot_axons=True,\n",
    "                        best_axon=True,\n",
    "                       verbose=True)"
   ]
  },
  {
   "cell_type": "code",
   "execution_count": 67,
   "metadata": {},
   "outputs": [
    {
     "data": {
      "text/plain": [
       "{'L6': array([ 8,  9, 11, 13, 18, 20, 21, 22, 23, 24, 25, 26, 27, 15, 17, 12,  0,\n",
       "         1,  2,  3,  4,  5,  6,  7])}"
      ]
     },
     "execution_count": 67,
     "metadata": {},
     "output_type": "execute_result"
    }
   ],
   "source": [
    "# \"\"\"\n",
    "# Pseudocode: \n",
    "# if there even is an axon\n",
    "# 1) Get the limb name of the best axon\n",
    "# 2) Get the concept network of the limb and the starting node\n",
    "# 3) Get the branches that would be axon\n",
    "# 4) Delete the branches from the concept network\n",
    "# 5) For each connected component in the leftover network\n",
    "# - if not have starting node and all in axon-like: \n",
    "# add to list to add to the true axon\n",
    "\n",
    "# 6) add the new nodes to the axon group\n",
    "# \"\"\"\n",
    "\n",
    "# neuron_obj = test_neuron\n",
    "\n",
    "# if len(best_limb_branch_dict) > 0:\n",
    "    \n",
    "#     #1) Get the limb name of the best axon\n",
    "#     limb_name_of_axon = list(best_limb_branch_dict.keys())\n",
    "#     if len(limb_name_of_axon) > 1:\n",
    "#         raise Excpetion(\"More than 1 axon key\")\n",
    "    \n",
    "#     limb_name_of_axon = limb_name_of_axon[0]\n",
    "    \n",
    "#     curr_limb = neuron_obj[limb_name_of_axon]\n",
    "#     #2) Get the concept network of the limb and the starting node\n",
    "#     conc_net = nx.Graph(curr_limb.concept_network)\n",
    "#     start_node = curr_limb.current_starting_node\n",
    "    \n",
    "#     #3) Get the branches that would be axon\n",
    "#     axon_branches = best_limb_branch_dict[limb_name_of_axon]\n",
    "#     axon_like_branches = axon_like_limb_branch_dict[limb_name_of_axon]\n",
    "    \n",
    "#     #4) Delete the branches from the concept network\n",
    "#     conc_net.remove_nodes_from(axon_branches)\n",
    "    \n",
    "    \n",
    "#     #5) For each connected component in the leftover network\n",
    "#     new_axon_branches = []\n",
    "#     for conn_comp in nx.connected_components(conc_net):\n",
    "#         conn_comp = list(conn_comp)\n",
    "        \n",
    "#         #- if not have starting node and all in axon-like: \n",
    "#         #add to list to add to the true axon\n",
    "#         axon_like_in_conn_comp = np.intersect1d(axon_like_branches,conn_comp)\n",
    "#         if start_node not in conn_comp and len(axon_like_in_conn_comp) == len(conn_comp):\n",
    "#             new_axon_branches += conn_comp\n",
    "    \n",
    "    \n",
    "        \n",
    "#     if len(new_axon_branches) > 0:\n",
    "#         best_limb_branch_dict[limb_name_of_axon] = np.array(list(axon_branches) + new_axon_branches)\n",
    "        \n",
    "# best_limb_branch_dict"
   ]
  },
  {
   "cell_type": "markdown",
   "metadata": {},
   "source": [
    "# Getting a more high fidelity axon skeleton"
   ]
  },
  {
   "cell_type": "code",
   "execution_count": 804,
   "metadata": {},
   "outputs": [
    {
     "data": {
      "text/plain": [
       "(864691135539149252, 1)"
      ]
     },
     "execution_count": 804,
     "metadata": {},
     "output_type": "execute_result"
    }
   ],
   "source": [
    "curr_index = 3010\n",
    "segment_id = multi_axon_segs[curr_index]\n",
    "split_index = multi_axon_splits[curr_index]\n",
    "segment_id,split_index"
   ]
  },
  {
   "cell_type": "code",
   "execution_count": 821,
   "metadata": {},
   "outputs": [],
   "source": [
    "segment_id=864691135539149252\n",
    "split_index = 0"
   ]
  },
  {
   "cell_type": "code",
   "execution_count": 822,
   "metadata": {},
   "outputs": [
    {
     "data": {
      "text/html": [
       "\n",
       "        \n",
       "        <style type=\"text/css\">\n",
       "            .Relation{\n",
       "                border-collapse:collapse;\n",
       "            }\n",
       "            .Relation th{\n",
       "                background: #A0A0A0; color: #ffffff; padding:4px; border:#f0e0e0 1px solid;\n",
       "                font-weight: normal; font-family: monospace; font-size: 100%;\n",
       "            }\n",
       "            .Relation td{\n",
       "                padding:4px; border:#f0e0e0 1px solid; font-size:100%;\n",
       "            }\n",
       "            .Relation tr:nth-child(odd){\n",
       "                background: #ffffff;\n",
       "            }\n",
       "            .Relation tr:nth-child(even){\n",
       "                background: #f3f1ff;\n",
       "            }\n",
       "            /* Tooltip container */\n",
       "            .djtooltip {\n",
       "            }\n",
       "            /* Tooltip text */\n",
       "            .djtooltip .djtooltiptext {\n",
       "                visibility: hidden;\n",
       "                width: 120px;\n",
       "                background-color: black;\n",
       "                color: #fff;\n",
       "                text-align: center;\n",
       "                padding: 5px 0;\n",
       "                border-radius: 6px;\n",
       "                /* Position the tooltip text - see examples below! */\n",
       "                position: absolute;\n",
       "                z-index: 1;\n",
       "            }\n",
       "            #primary {\n",
       "                font-weight: bold;\n",
       "                color: black;\n",
       "            }\n",
       "\n",
       "            #nonprimary {\n",
       "                font-weight: normal;\n",
       "                color: white;\n",
       "            }\n",
       "\n",
       "            /* Show the tooltip text when you mouse over the tooltip container */\n",
       "            .djtooltip:hover .djtooltiptext {\n",
       "                visibility: visible;\n",
       "            }\n",
       "        </style>\n",
       "        \n",
       "        <b></b>\n",
       "            <div style=\"max-height:1000px;max-width:1500px;overflow:auto;\">\n",
       "            <table border=\"1\" class=\"Relation\">\n",
       "                <thead> <tr style=\"text-align: right;\"> <th> <div class=\"djtooltip\">\n",
       "                                <p id=\"primary\">segment_id</p>\n",
       "                                <span class=\"djtooltiptext\">segment id unique within each Segmentation</span>\n",
       "                            </div></th><th><div class=\"djtooltip\">\n",
       "                                <p id=\"primary\">decimation_version</p>\n",
       "                                <span class=\"djtooltiptext\"></span>\n",
       "                            </div></th><th><div class=\"djtooltip\">\n",
       "                                <p id=\"primary\">decimation_ratio</p>\n",
       "                                <span class=\"djtooltiptext\">ratio of remaining mesh vertices/faces (which ones depends on what metric the decimation technique uses)</span>\n",
       "                            </div></th><th><div class=\"djtooltip\">\n",
       "                                <p id=\"primary\">ver</p>\n",
       "                                <span class=\"djtooltiptext\">the version number of the materializaiton</span>\n",
       "                            </div></th><th><div class=\"djtooltip\">\n",
       "                                <p id=\"primary\">process_version</p>\n",
       "                                <span class=\"djtooltiptext\">the version of the preprocessing pipeline run</span>\n",
       "                            </div></th><th><div class=\"djtooltip\">\n",
       "                                <p id=\"primary\">index</p>\n",
       "                                <span class=\"djtooltiptext\">the index of the neuron object that resulted from that mesh (indexed starting at 0)</span>\n",
       "                            </div></th><th><div class=\"djtooltip\">\n",
       "                                <p id=\"primary\">split_index</p>\n",
       "                                <span class=\"djtooltiptext\">the index of the neuron object that resulted AFTER THE SPLITTING ALGORITHM</span>\n",
       "                            </div></th><th><div class=\"djtooltip\">\n",
       "                                <p id=\"primary\">proof_version</p>\n",
       "                                <span class=\"djtooltiptext\">the version of code used for this cell typing classification</span>\n",
       "                            </div></th><th><div class=\"djtooltip\">\n",
       "                                <p id=\"nonprimary\">multiplicity</p>\n",
       "                                <span class=\"djtooltiptext\">the total number of neurons that came from the parent segment id</span>\n",
       "                            </div></th><th><div class=\"djtooltip\">\n",
       "                                <p id=\"nonprimary\">cell_type_predicted</p>\n",
       "                                <span class=\"djtooltiptext\">morphology predicted by classifier</span>\n",
       "                            </div></th><th><div class=\"djtooltip\">\n",
       "                                <p id=\"nonprimary\">spine_category</p>\n",
       "                                <span class=\"djtooltiptext\"></span>\n",
       "                            </div></th><th><div class=\"djtooltip\">\n",
       "                                <p id=\"nonprimary\">n_axons</p>\n",
       "                                <span class=\"djtooltiptext\">Number of axon candidates identified</span>\n",
       "                            </div></th><th><div class=\"djtooltip\">\n",
       "                                <p id=\"nonprimary\">n_apicals</p>\n",
       "                                <span class=\"djtooltiptext\">Number of apicals identified</span>\n",
       "                            </div></th><th><div class=\"djtooltip\">\n",
       "                                <p id=\"nonprimary\">axon_length</p>\n",
       "                                <span class=\"djtooltiptext\">length (in um) of the classified axon skeleton</span>\n",
       "                            </div></th><th><div class=\"djtooltip\">\n",
       "                                <p id=\"nonprimary\">axon_area</p>\n",
       "                                <span class=\"djtooltiptext\"># area (in um^2) of the classified axon</span>\n",
       "                            </div></th><th><div class=\"djtooltip\">\n",
       "                                <p id=\"nonprimary\">nucleus_id</p>\n",
       "                                <span class=\"djtooltiptext\">id of nucleus from the flat segmentation  Equivalent to Allen: 'id'.</span>\n",
       "                            </div></th><th><div class=\"djtooltip\">\n",
       "                                <p id=\"nonprimary\">nuclei_distance</p>\n",
       "                                <span class=\"djtooltiptext\">the distance to the closest nuclei (even if no matching nuclei found)</span>\n",
       "                            </div></th><th><div class=\"djtooltip\">\n",
       "                                <p id=\"nonprimary\">n_nuclei_in_radius</p>\n",
       "                                <span class=\"djtooltiptext\">the number of nuclei within the search radius of 15000 belonging to that segment</span>\n",
       "                            </div></th><th><div class=\"djtooltip\">\n",
       "                                <p id=\"nonprimary\">n_nuclei_in_bbox</p>\n",
       "                                <span class=\"djtooltiptext\">the number of nuclei within the bounding box of that soma</span>\n",
       "                            </div></th><th><div class=\"djtooltip\">\n",
       "                                <p id=\"nonprimary\">soma_x</p>\n",
       "                                <span class=\"djtooltiptext\">x coordinate of nucleus centroid in EM voxels (x: 4nm, y: 4nm, z: 40nm)</span>\n",
       "                            </div></th><th><div class=\"djtooltip\">\n",
       "                                <p id=\"nonprimary\">soma_y</p>\n",
       "                                <span class=\"djtooltiptext\">y coordinate of nucleus centroid in EM voxels (x: 4nm, y: 4nm, z: 40nm)</span>\n",
       "                            </div></th><th><div class=\"djtooltip\">\n",
       "                                <p id=\"nonprimary\">soma_z</p>\n",
       "                                <span class=\"djtooltiptext\">z coordinate of nucleus centroid in EM voxels (x: 4nm, y: 4nm, z: 40nm)</span>\n",
       "                            </div></th><th><div class=\"djtooltip\">\n",
       "                                <p id=\"nonprimary\">max_soma_n_faces</p>\n",
       "                                <span class=\"djtooltiptext\">The largest number of faces of the somas</span>\n",
       "                            </div></th><th><div class=\"djtooltip\">\n",
       "                                <p id=\"nonprimary\">max_soma_volume</p>\n",
       "                                <span class=\"djtooltiptext\">The largest volume of the somas the (volume in billions (10*9 nm^3))</span>\n",
       "                            </div></th><th><div class=\"djtooltip\">\n",
       "                                <p id=\"nonprimary\">n_vertices</p>\n",
       "                                <span class=\"djtooltiptext\">number of vertices</span>\n",
       "                            </div></th><th><div class=\"djtooltip\">\n",
       "                                <p id=\"nonprimary\">n_faces</p>\n",
       "                                <span class=\"djtooltiptext\">number of faces</span>\n",
       "                            </div></th><th><div class=\"djtooltip\">\n",
       "                                <p id=\"nonprimary\">n_not_processed_soma_containing_meshes</p>\n",
       "                                <span class=\"djtooltiptext\">the number of meshes with somas that were not processed</span>\n",
       "                            </div></th><th><div class=\"djtooltip\">\n",
       "                                <p id=\"nonprimary\">n_error_limbs</p>\n",
       "                                <span class=\"djtooltiptext\">the number of limbs that are touching multiple somas or 1 soma in multiple places</span>\n",
       "                            </div></th><th><div class=\"djtooltip\">\n",
       "                                <p id=\"nonprimary\">n_same_soma_multi_touching_limbs</p>\n",
       "                                <span class=\"djtooltiptext\">number of limbs that touch the same soma multiple times</span>\n",
       "                            </div></th><th><div class=\"djtooltip\">\n",
       "                                <p id=\"nonprimary\">n_multi_soma_touching_limbs</p>\n",
       "                                <span class=\"djtooltiptext\">number of limbs that touch multiple somas</span>\n",
       "                            </div></th><th><div class=\"djtooltip\">\n",
       "                                <p id=\"nonprimary\">n_somas</p>\n",
       "                                <span class=\"djtooltiptext\">number of soma meshes detected</span>\n",
       "                            </div></th><th><div class=\"djtooltip\">\n",
       "                                <p id=\"nonprimary\">n_limbs</p>\n",
       "                                <span class=\"djtooltiptext\"></span>\n",
       "                            </div></th><th><div class=\"djtooltip\">\n",
       "                                <p id=\"nonprimary\">n_branches</p>\n",
       "                                <span class=\"djtooltiptext\"></span>\n",
       "                            </div></th><th><div class=\"djtooltip\">\n",
       "                                <p id=\"nonprimary\">max_limb_n_branches</p>\n",
       "                                <span class=\"djtooltiptext\"></span>\n",
       "                            </div></th><th><div class=\"djtooltip\">\n",
       "                                <p id=\"nonprimary\">skeletal_length</p>\n",
       "                                <span class=\"djtooltiptext\"></span>\n",
       "                            </div></th><th><div class=\"djtooltip\">\n",
       "                                <p id=\"nonprimary\">max_limb_skeletal_length</p>\n",
       "                                <span class=\"djtooltiptext\"></span>\n",
       "                            </div></th><th><div class=\"djtooltip\">\n",
       "                                <p id=\"nonprimary\">median_branch_length</p>\n",
       "                                <span class=\"djtooltiptext\">gives information on average skeletal length to next branch point</span>\n",
       "                            </div></th><th><div class=\"djtooltip\">\n",
       "                                <p id=\"nonprimary\">width_median</p>\n",
       "                                <span class=\"djtooltiptext\">median width from mesh center without spines removed</span>\n",
       "                            </div></th><th><div class=\"djtooltip\">\n",
       "                                <p id=\"nonprimary\">width_no_spine_median</p>\n",
       "                                <span class=\"djtooltiptext\">median width from mesh center with spines removed</span>\n",
       "                            </div></th><th><div class=\"djtooltip\">\n",
       "                                <p id=\"nonprimary\">width_90_perc</p>\n",
       "                                <span class=\"djtooltiptext\">90th percentile for width without spines removed</span>\n",
       "                            </div></th><th><div class=\"djtooltip\">\n",
       "                                <p id=\"nonprimary\">width_no_spine_90_perc</p>\n",
       "                                <span class=\"djtooltiptext\">90th percentile for width with spines removed</span>\n",
       "                            </div></th><th><div class=\"djtooltip\">\n",
       "                                <p id=\"nonprimary\">n_spines</p>\n",
       "                                <span class=\"djtooltiptext\"></span>\n",
       "                            </div></th><th><div class=\"djtooltip\">\n",
       "                                <p id=\"nonprimary\">spine_density</p>\n",
       "                                <span class=\"djtooltiptext\">n_spines/ skeletal_length</span>\n",
       "                            </div></th><th><div class=\"djtooltip\">\n",
       "                                <p id=\"nonprimary\">spines_per_branch</p>\n",
       "                                <span class=\"djtooltiptext\"></span>\n",
       "                            </div></th><th><div class=\"djtooltip\">\n",
       "                                <p id=\"nonprimary\">skeletal_length_eligible</p>\n",
       "                                <span class=\"djtooltiptext\">the skeletal length for all branches searched for spines</span>\n",
       "                            </div></th><th><div class=\"djtooltip\">\n",
       "                                <p id=\"nonprimary\">n_spine_eligible_branches</p>\n",
       "                                <span class=\"djtooltiptext\">the number of branches that were checked for spines because passed width threshold</span>\n",
       "                            </div></th><th><div class=\"djtooltip\">\n",
       "                                <p id=\"nonprimary\">spine_density_eligible</p>\n",
       "                                <span class=\"djtooltiptext\">n_spines/skeletal_length_eligible</span>\n",
       "                            </div></th><th><div class=\"djtooltip\">\n",
       "                                <p id=\"nonprimary\">spines_per_branch_eligible</p>\n",
       "                                <span class=\"djtooltiptext\">n_spines/n_spine_eligible_branches</span>\n",
       "                            </div></th><th><div class=\"djtooltip\">\n",
       "                                <p id=\"nonprimary\">total_spine_volume</p>\n",
       "                                <span class=\"djtooltiptext\">the sum of all spine volume</span>\n",
       "                            </div></th><th><div class=\"djtooltip\">\n",
       "                                <p id=\"nonprimary\">spine_volume_median</p>\n",
       "                                <span class=\"djtooltiptext\">median of the spine volume for those spines with able to calculate volume</span>\n",
       "                            </div></th><th><div class=\"djtooltip\">\n",
       "                                <p id=\"nonprimary\">spine_volume_density</p>\n",
       "                                <span class=\"djtooltiptext\">total_spine_volume/skeletal_length</span>\n",
       "                            </div></th><th><div class=\"djtooltip\">\n",
       "                                <p id=\"nonprimary\">spine_volume_density_eligible</p>\n",
       "                                <span class=\"djtooltiptext\">total_spine_volume/skeletal_length_eligible</span>\n",
       "                            </div></th><th><div class=\"djtooltip\">\n",
       "                                <p id=\"nonprimary\">spine_volume_per_branch_eligible</p>\n",
       "                                <span class=\"djtooltiptext\">total_spine_volume/n_spine_eligible_branches</span>\n",
       "                            </div></th><th><div class=\"djtooltip\">\n",
       "                                <p id=\"nonprimary\">axon_angle_maximum</p>\n",
       "                                <span class=\"djtooltiptext\">the anlge of an identified axon</span>\n",
       "                            </div></th><th><div class=\"djtooltip\">\n",
       "                                <p id=\"nonprimary\">spine_density_classifier</p>\n",
       "                                <span class=\"djtooltiptext\">the number of spines divided by skeletal length for branches analyzed in classification</span>\n",
       "                            </div></th><th><div class=\"djtooltip\">\n",
       "                                <p id=\"nonprimary\">n_branches_processed</p>\n",
       "                                <span class=\"djtooltiptext\">the number branches used for the spine density analysis</span>\n",
       "                            </div></th><th><div class=\"djtooltip\">\n",
       "                                <p id=\"nonprimary\">skeletal_length_processed</p>\n",
       "                                <span class=\"djtooltiptext\">The total skeletal length of the viable branches used for the spine density analysis</span>\n",
       "                            </div></th><th><div class=\"djtooltip\">\n",
       "                                <p id=\"nonprimary\">n_branches_in_search_radius</p>\n",
       "                                <span class=\"djtooltiptext\">the number branches existing in the search radius used for spine density</span>\n",
       "                            </div></th><th><div class=\"djtooltip\">\n",
       "                                <p id=\"nonprimary\">skeletal_length_in_search_radius</p>\n",
       "                                <span class=\"djtooltiptext\">The total skeletal length of the branches existing in the search radius used for spine density</span>\n",
       "                            </div></th><th><div class=\"djtooltip\">\n",
       "                                <p id=\"nonprimary\">run_time</p>\n",
       "                                <span class=\"djtooltiptext\">the amount of time to run (seconds)</span>\n",
       "                            </div> </th> </tr> </thead>\n",
       "                <tbody> <tr> <td>864691135539149252</td>\n",
       "<td>0</td>\n",
       "<td>0.25</td>\n",
       "<td>30.00</td>\n",
       "<td>0</td>\n",
       "<td>0</td>\n",
       "<td>0</td>\n",
       "<td>1</td>\n",
       "<td>2</td>\n",
       "<td>excitatory</td>\n",
       "<td>densely_spined</td>\n",
       "<td>1</td>\n",
       "<td>1</td>\n",
       "<td>60.279630386873905</td>\n",
       "<td>110.77288794537196</td>\n",
       "<td>208310</td>\n",
       "<td>941.61</td>\n",
       "<td>1</td>\n",
       "<td>1</td>\n",
       "<td>145152</td>\n",
       "<td>264171</td>\n",
       "<td>25281</td>\n",
       "<td>29854</td>\n",
       "<td>529</td>\n",
       "<td>199286</td>\n",
       "<td>396826</td>\n",
       "<td>0</td>\n",
       "<td>0</td>\n",
       "<td>0</td>\n",
       "<td>0</td>\n",
       "<td>1</td>\n",
       "<td>5</td>\n",
       "<td>27</td>\n",
       "<td>14</td>\n",
       "<td>1752346.859931959</td>\n",
       "<td>1161173.6449789116</td>\n",
       "<td>49546.99</td>\n",
       "<td>288.055</td>\n",
       "<td>248.651</td>\n",
       "<td>540.261</td>\n",
       "<td>468.279</td>\n",
       "<td>727</td>\n",
       "<td>0.0004148722017444813</td>\n",
       "<td>26.925925925925927</td>\n",
       "<td>1692067.23</td>\n",
       "<td>25</td>\n",
       "<td>0.0004296519589236416</td>\n",
       "<td>29.08</td>\n",
       "<td>133859934220.01059</td>\n",
       "<td>111978539.45835367</td>\n",
       "<td>76388.948604164</td>\n",
       "<td>79110.29292849705</td>\n",
       "<td>5354397368.800424</td>\n",
       "<td>97.27948364510377</td>\n",
       "<td>0.0005323673057979549</td>\n",
       "<td>0</td>\n",
       "<td>811471.2624742485</td>\n",
       "<td>29</td>\n",
       "<td>1098016.915333378</td>\n",
       "<td>101.431</td> </tr> </tbody>\n",
       "            </table>\n",
       "            \n",
       "            <p>Total: 1</p></div>\n",
       "            "
      ],
      "text/plain": [
       "*segment_id    *decimation_ve *decimation_ra *ver      *process_versi *index    *split_index   *proof_version multiplicity   cell_type_pred spine_category n_axons     n_apicals     axon_length    axon_area      nucleus_id     nuclei_distanc n_nuclei_in_ra n_nuclei_in_bb soma_x     soma_y     soma_z     max_soma_n_fac max_soma_volum n_vertices     n_faces     n_not_processe n_error_limbs  n_same_soma_mu n_multi_soma_t n_somas     n_limbs     n_branches     max_limb_n_bra skeletal_lengt max_limb_skele median_branch_ width_median   width_no_spine width_90_perc  width_no_spine n_spines     spine_density  spines_per_bra skeletal_lengt n_spine_eligib spine_density_ spines_per_bra total_spine_vo spine_volume_m spine_volume_d spine_volume_d spine_volume_p axon_angle_max spine_density_ n_branches_pro skeletal_lengt n_branches_in_ skeletal_lengt run_time    \n",
       "+------------+ +------------+ +------------+ +-------+ +------------+ +-------+ +------------+ +------------+ +------------+ +------------+ +------------+ +---------+ +-----------+ +------------+ +------------+ +------------+ +------------+ +------------+ +------------+ +--------+ +--------+ +--------+ +------------+ +------------+ +------------+ +---------+ +------------+ +------------+ +------------+ +------------+ +---------+ +---------+ +------------+ +------------+ +------------+ +------------+ +------------+ +------------+ +------------+ +------------+ +------------+ +----------+ +------------+ +------------+ +------------+ +------------+ +------------+ +------------+ +------------+ +------------+ +------------+ +------------+ +------------+ +------------+ +------------+ +------------+ +------------+ +------------+ +------------+ +----------+\n",
       "86469113553914 0              0.25           30.00     0              0         0              1              2              excitatory     densely_spined 1           1             60.27963038687 110.7728879453 208310         941.61         1              1              145152     264171     25281      29854          529            199286         396826      0              0              0              0              1           5           27             14             1752346.859931 1161173.644978 49546.99       288.055        248.651        540.261        468.279        727          0.000414872201 26.92592592592 1692067.23     25             0.000429651958 29.08          133859934220.0 111978539.4583 76388.94860416 79110.29292849 5354397368.800 97.27948364510 0.000532367305 0              811471.2624742 29             1098016.915333 101.431     \n",
       " (Total: 1)"
      ]
     },
     "execution_count": 822,
     "metadata": {},
     "output_type": "execute_result"
    }
   ],
   "source": [
    "minnie.AutoProofreadNeurons2() & dict(segment_id = segment_id,\n",
    "                                      split_index=split_index)"
   ]
  },
  {
   "cell_type": "code",
   "execution_count": 823,
   "metadata": {},
   "outputs": [
    {
     "name": "stdout",
     "output_type": "stream",
     "text": [
      "Synapsse Results:\n",
      "Total Number of Synapses = 378\n",
      "n_valid_syn_centers_presyn = 0\n",
      "n_errored_syn_centers_presyn = 230\n",
      "n_valid_syn_centers_postsyn = 133\n",
      "n_errored_syn_centers_postsyn = 15\n",
      "Including axon mesh\n"
     ]
    },
    {
     "data": {
      "application/vnd.jupyter.widget-view+json": {
       "model_id": "b12c5f9319ca4216a7e80f3793ef33b6",
       "version_major": 2,
       "version_minor": 0
      },
      "text/plain": [
       "VBox(children=(Figure(camera=PerspectiveCamera(fov=46.0, position=(0.0, 0.0, 2.0), projectionMatrix=(1.0, 0.0,…"
      ]
     },
     "metadata": {},
     "output_type": "display_data"
    }
   ],
   "source": [
    "du.plot_proofread_neuron(segment_id,\n",
    "                        split_index=split_index,\n",
    "                        plot_errored_faces=True,\n",
    "                        plot_synapses=True,\n",
    "                        plot_nuclei=True,\n",
    "                        plot_axon=True)"
   ]
  },
  {
   "cell_type": "code",
   "execution_count": 824,
   "metadata": {},
   "outputs": [
    {
     "name": "stdout",
     "output_type": "stream",
     "text": [
      "Decompressing Neuron in minimal output mode...please wait\n",
      "Number of Neurons found = 1\n"
     ]
    }
   ],
   "source": [
    "neuron_obj = du.decomposition_with_spine_recalculation(segment_id,\n",
    "                                                      split_index=split_index)"
   ]
  },
  {
   "cell_type": "code",
   "execution_count": 825,
   "metadata": {},
   "outputs": [],
   "source": [
    "if type(neuron_obj) == tuple:\n",
    "    neuron_obj = neuron_obj[0][split_index]"
   ]
  },
  {
   "cell_type": "code",
   "execution_count": 829,
   "metadata": {},
   "outputs": [
    {
     "data": {
      "text/plain": [
       "864691135539149252"
      ]
     },
     "execution_count": 829,
     "metadata": {},
     "output_type": "execute_result"
    }
   ],
   "source": [
    "neuron_obj.segment_id"
   ]
  },
  {
   "cell_type": "code",
   "execution_count": 826,
   "metadata": {},
   "outputs": [
    {
     "name": "stdout",
     "output_type": "stream",
     "text": [
      "\n",
      " Working on visualization type: mesh\n",
      "\n",
      " Working on visualization type: skeleton\n"
     ]
    },
    {
     "data": {
      "application/vnd.jupyter.widget-view+json": {
       "model_id": "8aef3a117e74403fbd385e5038acc813",
       "version_major": 2,
       "version_minor": 0
      },
      "text/plain": [
       "VBox(children=(Figure(camera=PerspectiveCamera(fov=46.0, position=(0.0, 0.0, 2.0), projectionMatrix=(1.0, 0.0,…"
      ]
     },
     "metadata": {},
     "output_type": "display_data"
    }
   ],
   "source": [
    "nviz.visualize_neuron(neuron_obj,\n",
    "                     limb_branch_dict=\"all\")"
   ]
  },
  {
   "cell_type": "code",
   "execution_count": 827,
   "metadata": {},
   "outputs": [
    {
     "name": "stdout",
     "output_type": "stream",
     "text": [
      "hi\n"
     ]
    }
   ],
   "source": [
    "print(\"hi\")"
   ]
  },
  {
   "cell_type": "code",
   "execution_count": 828,
   "metadata": {
    "scrolled": true
   },
   "outputs": [
    {
     "name": "stdout",
     "output_type": "stream",
     "text": [
      "\n",
      "Part 1: Axon like branchese \n",
      "{'L0': array([2, 3, 5, 6, 7]), 'L3': array([0, 1, 2]), 'L4': array([ 0,  2,  4,  5,  6,  7,  8, 10, 11, 12, 13, 14, 15, 16, 17, 18])}\n",
      "Limb L0 soma angle: 7.19 \n",
      "Limb L1 soma angle: 74.47 \n",
      "Limb L2 soma angle: 134.1 \n",
      "Limb L3 soma angle: 101.19 \n",
      "Limb L4 soma angle: 94.79 \n",
      "\n",
      "Part 2: possible_axon_limbs = [1, 2, 3, 4]\n",
      "\n",
      "Phase 2: Working on Limb L1\n",
      "nodes_to_eliminate = [3]\n",
      "\n",
      "Phase 2: Working on Limb L2\n",
      "nodes_to_eliminate = []\n",
      "\n",
      "Phase 2: Working on Limb L3\n",
      "nodes_to_eliminate = [0]\n",
      "\n",
      "Phase 2: Working on Limb L4\n",
      "nodes_to_eliminate = []\n",
      "\n",
      "----Working on Limb L1-----\n",
      "No endpoints were eliminated so don't need to add back any candidates\n",
      "\n",
      "----Working on Limb L2-----\n",
      "No nodes were eliminated so don't need to add back any candidates\n",
      "\n",
      "----Working on Limb L3-----\n",
      "No endpoints were eliminated so don't need to add back any candidates\n",
      "\n",
      "----Working on Limb L4-----\n",
      "No nodes were eliminated so don't need to add back any candidates\n",
      "\n",
      " Working on visualization type: mesh\n"
     ]
    },
    {
     "data": {
      "application/vnd.jupyter.widget-view+json": {
       "model_id": "d591aeae66ba41c583ba5addf6dd34a7",
       "version_major": 2,
       "version_minor": 0
      },
      "text/plain": [
       "VBox(children=(Figure(camera=PerspectiveCamera(fov=46.0, position=(0.0, 0.0, 2.0), projectionMatrix=(1.0, 0.0,…"
      ]
     },
     "metadata": {},
     "output_type": "display_data"
    },
    {
     "name": "stdout",
     "output_type": "stream",
     "text": [
      "Final Candidates\n",
      "\n",
      "Limb 1\n",
      "Candidate 0 (crimson): array([0, 1, 2])\n",
      "Candidate 1 (gold): array([4])\n",
      "\n",
      "Limb 2\n",
      "Candidate 0 (blue): array([0, 1, 2])\n",
      "\n",
      "Limb 3\n",
      "Candidate 0 (gold): array([1])\n",
      "Candidate 1 (darkslategray): array([2])\n",
      "\n",
      "Limb 4\n",
      "Candidate 0 (sandybrown): array([ 0,  1,  2,  3,  4,  5,  6,  7,  8,  9, 10, 11, 12, 13, 14, 15, 16,\n",
      "       17, 18])\n",
      "Part 3: axon_subgraph_candidates = {1: [[0, 1, 2], [4]], 2: [[0, 1, 2]], 3: [[1], [2]], 4: [[0, 1, 2, 3, 4, 5, 6, 7, 8, 9, 10, 11, 12, 13, 14, 15, 16, 17, 18]]}\n",
      "\n",
      "\n",
      " --- Working on limb 1, candidate # 0\n",
      "0 out of 3 branches are axons\n",
      "Axon percentage = 0.0\n",
      "Not adding candidate no axon branches detected \n",
      "\n",
      "\n",
      " --- Working on limb 1, candidate # 1\n",
      "0 out of 1 branches are axons\n",
      "Axon percentage = 0.0\n",
      "Not adding candidate no axon branches detected \n",
      "\n",
      "\n",
      " --- Working on limb 2, candidate # 0\n",
      "0 out of 3 branches are axons\n",
      "Axon percentage = 0.0\n",
      "Not adding candidate no axon branches detected \n",
      "\n",
      "\n",
      " --- Working on limb 3, candidate # 0\n",
      "1 out of 1 branches are axons\n",
      "Axon percentage = 1.0\n",
      "curr_axon_angle_threshold = 95\n",
      "candidate_nodes = [0 1]\n",
      "non_axon_branches_on_subgraph = []\n",
      "endnodes_to_test = [160]\n",
      "Skeleton paths distances = [21881.98574118]\n",
      "Filtered indexes = [0]\n",
      "len(filtered_skeletons) = 1\n",
      "sk_angles = [64.92085716]\n",
      "Not adding candidate because no angles ([64.92085716]) passed the threhold 95 \n",
      "\n",
      "\n",
      " --- Working on limb 3, candidate # 1\n",
      "1 out of 1 branches are axons\n",
      "Axon percentage = 1.0\n",
      "curr_axon_angle_threshold = 95\n",
      "candidate_nodes = [0 2]\n",
      "non_axon_branches_on_subgraph = []\n",
      "endnodes_to_test = [191]\n",
      "Skeleton paths distances = [24979.15387371]\n",
      "Filtered indexes = [0]\n",
      "len(filtered_skeletons) = 1\n",
      "sk_angles = [97.27948365]\n",
      "base_final_widths = [94.8218637 94.8218637 94.8218637]\n",
      "overall_ais_width = 94.8218637043752\n",
      "ais_width = 94.82186370437519\n",
      "Not adding candidate the because AIS width was not higher than threshold (100): 94.82186370437519 \n",
      "\n",
      "\n",
      " --- Working on limb 4, candidate # 0\n",
      "16 out of 19 branches are axons\n",
      "Axon percentage = 0.8421052631578947\n",
      "curr_axon_angle_threshold = 120\n",
      "candidate_nodes = [ 0  1  2  3  4  5  6  7  8  9 10 11 12 13 14 15 16 17 18]\n",
      "non_axon_branches_on_subgraph = [1 3 9]\n",
      "endnodes_to_test = []\n",
      "Not adding candidate because no angles (None) passed the threhold 120 \n",
      "Using the best axon approach\n",
      "\n",
      "\n",
      "Part 4: final_true_axons = {}\n",
      "NO AXON DETECTED FOR PLOTTING\n"
     ]
    },
    {
     "data": {
      "text/plain": [
       "({},\n",
       " {'L0': array([2, 3, 5, 6, 7]),\n",
       "  'L3': array([0, 1, 2]),\n",
       "  'L4': array([ 0,  2,  4,  5,  6,  7,  8, 10, 11, 12, 13, 14, 15, 16, 17, 18])})"
      ]
     },
     "execution_count": 828,
     "metadata": {},
     "output_type": "execute_result"
    }
   ],
   "source": [
    "clu.axon_classification(neuron_obj,\n",
    "                        plot_candidates=True,\n",
    "                       best_axon=True,\n",
    "                       plot_axons=True)"
   ]
  },
  {
   "cell_type": "markdown",
   "metadata": {},
   "source": [
    "# Should not be absolutely tiny at the start"
   ]
  },
  {
   "cell_type": "code",
   "execution_count": null,
   "metadata": {},
   "outputs": [],
   "source": [
    "\"\"\"\n",
    "may have to worry about the width array\n",
    "\n",
    "\"\"\""
   ]
  },
  {
   "cell_type": "code",
   "execution_count": null,
   "metadata": {},
   "outputs": [],
   "source": []
  },
  {
   "cell_type": "code",
   "execution_count": null,
   "metadata": {},
   "outputs": [],
   "source": []
  },
  {
   "cell_type": "code",
   "execution_count": null,
   "metadata": {},
   "outputs": [],
   "source": []
  },
  {
   "cell_type": "code",
   "execution_count": null,
   "metadata": {},
   "outputs": [],
   "source": []
  },
  {
   "cell_type": "code",
   "execution_count": null,
   "metadata": {},
   "outputs": [],
   "source": []
  },
  {
   "cell_type": "code",
   "execution_count": null,
   "metadata": {},
   "outputs": [],
   "source": []
  },
  {
   "cell_type": "code",
   "execution_count": 665,
   "metadata": {},
   "outputs": [
    {
     "data": {
      "text/plain": [
       "(<trimesh.Trimesh(vertices.shape=(4778, 3), faces.shape=(9544, 3))>,\n",
       " array([1063610.48147194, 1014205.10564622,  652002.57828337]))"
      ]
     },
     "execution_count": 665,
     "metadata": {},
     "output_type": "execute_result"
    }
   ],
   "source": [
    "neuron_obj.axon_mesh, neuron_obj.axon_starting_coordinate"
   ]
  },
  {
   "cell_type": "code",
   "execution_count": 666,
   "metadata": {
    "scrolled": true
   },
   "outputs": [
    {
     "name": "stdout",
     "output_type": "stream",
     "text": [
      "Starting axon branch was so using border vertices and NOT computing upstream branch\n",
      "upstream_node_to_axon_starting_branch = None\n"
     ]
    }
   ],
   "source": [
    "verbose = True\n",
    "\n",
    "axon_limb_name = neuron_obj.axon_limb_name\n",
    "curr_limb = neuron_obj[axon_limb_name]\n",
    "axon_starting_branch = neuron_obj.axon_starting_branch\n",
    "axon_starting_branch_mesh = curr_limb[axon_starting_branch].mesh\n",
    "axon_starting_coordinate = neuron_obj.axon_starting_coordinate\n",
    "\n",
    "upstream_node_to_axon_starting_branch = None\n",
    "\n",
    "if axon_starting_branch != curr_limb.current_starting_node:\n",
    "    if verbose:\n",
    "        print(f\"Starting axon branch was not the limb starting node so generating border vertices and computing upstream branch\")\n",
    "    border_vertices_for_axon = tu.largest_border_to_coordinate(\n",
    "        mesh = axon_starting_branch_mesh,\n",
    "        coordinate =axon_starting_coordinate,\n",
    "        distance_threshold = 1000,\n",
    "        plot_border_vertices = False,\n",
    "        error_on_no_border = True,\n",
    "        plot_winning_border = False,\n",
    "        verbose = False)\n",
    "    \n",
    "    upstream_node_to_axon_starting_branch = xu.upstream_node(curr_limb.concept_network_directional,\n",
    "                                                             axon_starting_branch\n",
    "                                                               )\n",
    "    \n",
    "else:\n",
    "    if verbose:\n",
    "        print(f\"Starting axon branch was so using border vertices and NOT computing upstream branch\")\n",
    "    border_vertices_for_axon = curr_limb.current_touching_soma_vertices\n",
    "    upstream_node_to_axon_starting_branch = None\n",
    "\n",
    "soma_touching_vertices_dict = {0:[border_vertices_for_axon]}\n",
    "\n",
    "if verbose:\n",
    "    print(f\"upstream_node_to_axon_starting_branch = {upstream_node_to_axon_starting_branch}\")"
   ]
  },
  {
   "cell_type": "code",
   "execution_count": 667,
   "metadata": {},
   "outputs": [],
   "source": [
    "# divide the meshes into the only big continuous one (because if disconnected probably)\n",
    "diff_meshes = tu.split_by_vertices(neuron_obj.axon_mesh)\n",
    "axon_mesh_filtered = tu.filter_meshes_by_containing_coordinates(diff_meshes,\n",
    "                                          nullifying_points=border_vertices_for_axon[0],\n",
    "                                           method=\"distance\",\n",
    "                                           distance_threshold = 0,\n",
    "                                          filter_away=False)[0]\n",
    "if verbose:\n",
    "    if len(diff_meshes) > 1:\n",
    "        print(f\"More than 1 seperated mesh (taking the top one): {diff_meshes}\")"
   ]
  },
  {
   "cell_type": "code",
   "execution_count": 668,
   "metadata": {
    "scrolled": true
   },
   "outputs": [
    {
     "name": "stderr",
     "output_type": "stream",
     "text": [
      "\r",
      "  0%|          | 0/1 [00:00<?, ?it/s]"
     ]
    },
    {
     "name": "stdout",
     "output_type": "stream",
     "text": [
      "soma_touching_vertices_dict = {0: [TrackedArray([[1063992. , 1014538. ,  652499.2],\n",
      "              [1063883. , 1014418. ,  652506.8],\n",
      "              [1063847. , 1014525. ,  652427.1],\n",
      "              [1063912. , 1014539. ,  652256.2],\n",
      "              [1063917. , 1014304. ,  652426.2],\n",
      "              [1064028. , 1014342. ,  652029. ],\n",
      "              [1063830. , 1013944. ,  652112.4],\n",
      "              [1063991. , 1014069. ,  651947.2],\n",
      "              [1063932. , 1014190. ,  652328.9],\n",
      "              [1063906. , 1014197. ,  651976.1],\n",
      "              [1064022. , 1013920. ,  651980.4],\n",
      "              [1063818. , 1014339. ,  652030.6],\n",
      "              [1063881. , 1014006. ,  651987. ],\n",
      "              [1064036. , 1014629. ,  652369.3],\n",
      "              [1063983. , 1014025. ,  652180.2],\n",
      "              [1063921. , 1014431. ,  652134.6],\n",
      "              [1064070. , 1014483. ,  652165.3],\n",
      "              [1064062. , 1014280. ,  651954.9]])]}\n",
      "root_curr = [1063992.  1014538.   652499.2]\n",
      "Time for preparing soma vertices and root: 0.0004928112030029297\n",
      "invalidation_d = 1200\n",
      "cc_vertex_thresh = 10\n"
     ]
    },
    {
     "data": {
      "application/vnd.jupyter.widget-view+json": {
       "model_id": "0633b8ddde634a7397dff111bfc112aa",
       "version_major": 2,
       "version_minor": 0
      },
      "text/plain": [
       "HBox(children=(FloatProgress(value=0.0, max=4777.0), HTML(value='')))"
      ]
     },
     "metadata": {},
     "output_type": "display_data"
    },
    {
     "name": "stderr",
     "output_type": "stream",
     "text": [
      "100%|██████████| 1/1 [00:00<00:00,  8.31it/s]"
     ]
    },
    {
     "name": "stdout",
     "output_type": "stream",
     "text": [
      "\n"
     ]
    },
    {
     "name": "stderr",
     "output_type": "stream",
     "text": [
      "\n"
     ]
    },
    {
     "name": "stdout",
     "output_type": "stream",
     "text": [
      "meshparty_segment_size = 100\n",
      "Time for 1st pass MP skeletonization: 0.2685394287109375\n",
      "branches_touching_root = [12]\n",
      "combining close nodes\n",
      "combine_threshold = 1300\n",
      "length of Graph = 1315\n",
      "Working on path [335. 339. 342. 345. 349. 353. 359. 361.]\n",
      "path_degrees = [3, 2, 2, 2, 2, 2, 2, 3]\n",
      "Working on path [ 355.  358.  360. 1315.]\n",
      "path_degrees = [3, 2, 2, 4]\n",
      "Working on path [553. 554. 557.]\n",
      "path_degrees = [3, 2, 3]\n",
      "Working on path [888. 890. 892. 893.]\n",
      "path_degrees = [3, 2, 2, 3]\n",
      "Working on path [939. 941. 943. 945. 946.]\n",
      "path_degrees = [3, 2, 2, 2, 3]\n",
      "After combining close endpoints max(kept_branches_idx) = 38, len(kept_branches_idx) = 34\n",
      "empty_indices % = 0.0\n",
      " conflict_indices % = 0.0713308784850079\n"
     ]
    },
    {
     "data": {
      "application/vnd.jupyter.widget-view+json": {
       "model_id": "5eee633978e744e4bcaa0ec7d4b63f6a",
       "version_major": 2,
       "version_minor": 0
      },
      "text/plain": [
       "HBox(children=(FloatProgress(value=0.0, max=16.0), HTML(value='')))"
      ]
     },
     "metadata": {},
     "output_type": "display_data"
    },
    {
     "name": "stdout",
     "output_type": "stream",
     "text": [
      "\n",
      "AFTER face_lookup_resolved_test\n"
     ]
    },
    {
     "data": {
      "application/vnd.jupyter.widget-view+json": {
       "model_id": "1b6a962417a440409ad33cce63767d4c",
       "version_major": 2,
       "version_minor": 0
      },
      "text/plain": [
       "HBox(children=(FloatProgress(value=0.0, max=34.0), HTML(value='')))"
      ]
     },
     "metadata": {},
     "output_type": "display_data"
    },
    {
     "name": "stdout",
     "output_type": "stream",
     "text": [
      "\n",
      "Decomposing first pass: 0.8263804912567139\n",
      "Only Using MeshParty Skeletonization and Mesh Correspondence\n",
      "Another print\n",
      "Divinding into MP and MAP pieces: 2.7894973754882812e-05\n",
      "Total time for MAP sublimb processing 3.0994415283203125e-06\n",
      "---- Working on MP Decomposition #0 ----\n",
      "Using Quicker soma_to_piece_touching_vertices because no MAP and only one sublimb_mesh piece \n",
      "MP filtering soma verts: 4.363059997558594e-05\n",
      "Fixing Possible Soma Extension Branch for Sublimb 0\n",
      "Total time for mesh KDTree = 0.01119232177734375\n",
      "sbv[0].reshape(-1,3) = [[1063992.  1014538.   652499.2]]\n",
      "closest_sk_pt_coord BEFORE = [1063610.4813302  1014205.10531349  652002.5778974 ]\n",
      "current_skeleton.shape = (23, 2, 3)\n",
      "node_for_stitch = 23: [1063610.4813302  1014205.10531349  652002.5778974 ]\n",
      "node_for_stitch AFTER = 23: [1063610.4813302  1014205.10531349  652002.5778974 ]\n",
      "possible_node_loc = [ 0 23]\n",
      "possible_node_loc AFTER = [ 0 23]\n",
      "curr_shortest_path = [23]\n",
      "Current stitch point was a branch or endpoint\n",
      "change_status for create soma extending pieces = False\n",
      "closest_sk_pt_coord AFTER = [1063610.4813302  1014205.10531349  652002.5778974 ]\n",
      "skipping soma 0 because closest skeleton node was already end node\n",
      "endpoints_must_keep = {0: array([[1063610.4813302 , 1014205.10531349,  652002.5778974 ]])}\n",
      "match_sk_branches = [9]\n",
      "The new branch info was none so skipping \n",
      "\n",
      "No soma extending branch was added for this sublimb even though it had a soma border (means they already existed)\n",
      "MP (because soma touching verts) soma extension add: 0.888601541519165\n",
      "There were not both MAP and MP pieces so skipping the stitch resolving phase\n",
      "Time for decomp of Limb = 2.024548053741455\n",
      "Number of matching vertices = 18\n",
      "Only one endpoint after filtering away the endpoints that are not on the skeleton\n",
      "Using Distance measure skeletal_distance\n",
      "endpoints_must_keep = [[1063610.4813302  1014205.10531349  652002.5778974 ]]\n",
      "Number of end_nodes BEFORE filtering = 21\n",
      "all_single_nodes_to_eliminate = [20]\n"
     ]
    },
    {
     "data": {
      "application/vnd.jupyter.widget-view+json": {
       "model_id": "7f8f00518a004588896de5c46653dc56",
       "version_major": 2,
       "version_minor": 0
      },
      "text/plain": [
       "HBox(children=(FloatProgress(value=0.0, max=4.0), HTML(value='')))"
      ]
     },
     "metadata": {},
     "output_type": "display_data"
    },
    {
     "name": "stdout",
     "output_type": "stream",
     "text": [
      "\n",
      "Removed 4 skeletal branches\n"
     ]
    },
    {
     "data": {
      "application/vnd.jupyter.widget-view+json": {
       "model_id": "df9aaa2271f14147bb8b21a50cfa0b33",
       "version_major": 2,
       "version_minor": 0
      },
      "text/plain": [
       "HBox(children=(FloatProgress(value=0.0, max=34.0), HTML(value='')))"
      ]
     },
     "metadata": {},
     "output_type": "display_data"
    },
    {
     "name": "stdout",
     "output_type": "stream",
     "text": [
      "\n",
      "9543 9544\n",
      "For marked faces: None\n",
      "empty_indices % = 0.0\n",
      " conflict_indices % = 0.0\n"
     ]
    },
    {
     "data": {
      "application/vnd.jupyter.widget-view+json": {
       "model_id": "c21baa85b9a94c54871d4e39cde685b5",
       "version_major": 2,
       "version_minor": 0
      },
      "text/plain": [
       "HBox(children=(FloatProgress(value=1.0, bar_style='info', max=1.0), HTML(value='')))"
      ]
     },
     "metadata": {},
     "output_type": "display_data"
    },
    {
     "name": "stdout",
     "output_type": "stream",
     "text": [
      "\n",
      "AFTER face_lookup_resolved_test\n"
     ]
    },
    {
     "data": {
      "application/vnd.jupyter.widget-view+json": {
       "model_id": "d1a40f23d6404035b6749519315a8c6c",
       "version_major": 2,
       "version_minor": 0
      },
      "text/plain": [
       "HBox(children=(FloatProgress(value=0.0, max=26.0), HTML(value='')))"
      ]
     },
     "metadata": {},
     "output_type": "display_data"
    },
    {
     "name": "stdout",
     "output_type": "stream",
     "text": [
      "\n"
     ]
    }
   ],
   "source": [
    "limb_correspondence_individual,concept_network = pre.preprocess_limb(axon_mesh_filtered,\n",
    "                   soma_touching_vertices_dict = soma_touching_vertices_dict,\n",
    "                    meshparty_segment_size = 100,\n",
    "                    combine_close_skeleton_nodes=True,\n",
    "                    #combine_close_skeleton_nodes_threshold=1200,\n",
    "                    combine_close_skeleton_nodes_threshold_meshparty = 1300,\n",
    "                    filter_end_node_length_meshparty = 1500,\n",
    "                    filter_end_node_length = 1500,\n",
    "                                                                     \n",
    "                    use_meshafterparty=False,\n",
    "                    perform_cleaning_checks = True,\n",
    "                    \n",
    "                    \n",
    "                    #concept_network parameters\n",
    "                    run_concept_network_checks = True,\n",
    "                    return_concept_network = True,\n",
    "                    return_concept_network_starting_info=False,\n",
    "                    \n",
    "                    #printing controls\n",
    "                    verbose = True,\n",
    "                    print_fusion_steps=True,\n",
    "                    \n",
    "                    check_correspondence_branches = True,\n",
    "                    filter_end_nodes_from_correspondence=True,\n",
    "                    error_on_no_starting_coordinates=True,\n",
    "                    invalidation_d=1200\n",
    "                                                                     \n",
    "                    \n",
    "                   )"
   ]
  },
  {
   "cell_type": "code",
   "execution_count": 669,
   "metadata": {},
   "outputs": [
    {
     "data": {
      "text/plain": [
       "<networkx_utils.GraphOrderedEdges at 0x7ff485e34128>"
      ]
     },
     "execution_count": 669,
     "metadata": {},
     "output_type": "execute_result"
    }
   ],
   "source": [
    "concept_network\n",
    "curr_concept_network = concept_network[0][0]\n",
    "curr_concept_network"
   ]
  },
  {
   "cell_type": "code",
   "execution_count": 670,
   "metadata": {},
   "outputs": [
    {
     "data": {
      "application/vnd.jupyter.widget-view+json": {
       "model_id": "59368d039973499f8f3f9d1345b6bccf",
       "version_major": 2,
       "version_minor": 0
      },
      "text/plain": [
       "VBox(children=(Figure(camera=PerspectiveCamera(fov=46.0, position=(0.0, 0.0, 2.0), projectionMatrix=(1.0, 0.0,…"
      ]
     },
     "metadata": {},
     "output_type": "display_data"
    }
   ],
   "source": [
    "starting_node = xu.get_starting_node(curr_concept_network,only_one=False)[0]\n",
    "\n",
    "starting_coordinate = curr_concept_network.nodes[starting_node][\"starting_coordinate\"]\n",
    "touching_soma_vertices = curr_concept_network.nodes[starting_node][\"touching_soma_vertices\"]\n",
    "\n",
    "nviz.plot_limb_correspondence(limb_correspondence_individual,\n",
    "                             scatters = [starting_coordinate],\n",
    "                             scatter_size=1)\n",
    "\n",
    "# nviz.plot_objects(skeletons=[k[\"branch_skeleton\"] for k in limb_correspondence_individual.values()],\n",
    "#                  scatters=[starting_coordinate],\n",
    "#                  scatters_colors=\"red\")"
   ]
  },
  {
   "cell_type": "markdown",
   "metadata": {},
   "source": [
    "# Adding the part that connects back to the original mesh connection point"
   ]
  },
  {
   "cell_type": "code",
   "execution_count": 671,
   "metadata": {},
   "outputs": [
    {
     "name": "stdout",
     "output_type": "stream",
     "text": [
      "Upstream node was None so don't have to adjust\n"
     ]
    }
   ],
   "source": [
    "\"\"\"\n",
    "Psuedocode: \n",
    "1) Get the starting axon branch and the upstream node\n",
    "2) Find the common endpoint\n",
    "3) Add a skeletal branch from starting_coordinate (new)\n",
    "and the common endpoint to the starting node of new\n",
    "axon decomposition\n",
    "\n",
    "\"\"\"\n",
    "verbose = True\n",
    "import numpy_utils as nu\n",
    "\n",
    "#1) Get the starting axon branch and the upstream node\n",
    "if upstream_node_to_axon_starting_branch is not None:\n",
    "    print(\"Readjusting starting axon branch skeleton\")\n",
    "    \n",
    "    #1) Get the starting axon branch and the upstream node\n",
    "    axon_starting_branch,upstream_node_to_axon_starting_branch\n",
    "    \n",
    "    #2) Find the common endpoint\n",
    "#     shared_endpoint = shared_skeleton_endpoints_for_connected_branches(neuron_obj[axon_limb_name],\n",
    "#                                                 axon_starting_branch,\n",
    "#                                                      upstream_node_to_axon_starting_branch,\n",
    "#                                                 verbose=False)\n",
    "    shared_endpoint = neuron_obj.axon_starting_coordinate\n",
    "    \n",
    "    if shared_endpoint.ndim > 1:\n",
    "        shared_endpoint = shared_endpoint[0]\n",
    "    \n",
    "    #3) Add a skeletal branch from starting_coordinate (new)\n",
    "    #and the common endpoint to the starting node of new\n",
    "    #axon decomposition\n",
    "    \n",
    "    curr_endpoints = sk.find_skeleton_endpoint_coordinates(limb_correspondence_individual[starting_node][\"branch_skeleton\"])\n",
    "    if len(nu.matching_rows(curr_endpoints,axon_starting_coordinate)) == 0:\n",
    "        print(\"Fixing the axon starting branch endpoint to align with upstream branch\")\n",
    "        \n",
    "        skeleton_pre_fix = limb_correspondence_individual[starting_node][\"branch_skeleton\"]\n",
    "        new_skeleton_segment = np.array([starting_coordinate,shared_endpoint]).reshape(-1,2,3)\n",
    "\n",
    "        limb_correspondence_individual[starting_node][\"branch_skeleton\"] = sk.stack_skeletons([skeleton_pre_fix,\n",
    "                                                                                               new_skeleton_segment\n",
    "                                                                                             ])\n",
    "        if verbose:\n",
    "            print(f\"Starting Branch {starting_node} skeleton before fix: {skeleton_pre_fix.shape}\")\n",
    "            print(f\"Starting Branch {starting_node} skeleton AFTER fix: {limb_correspondence_individual[starting_node]['branch_skeleton'].shape}\")\n",
    "    else:\n",
    "        if verbose:\n",
    "            print(\"Not attempting to fix the limb correspondence because the axon_starting_coordainte was already an endpoint\")\n",
    "    \n",
    "    plot_connecting_skeleton_fix = False\n",
    "    if plot_connecting_skeleton_fix:\n",
    "        upstream_branch = neuron_obj[axon_limb_name][upstream_node_to_axon_starting_branch]\n",
    "        nviz.plot_objects(meshes=meshes + [upstream_branch.mesh],\n",
    "                          meshes_colors=\"random\",\n",
    "                          skeletons=skeletons +  [upstream_branch.skeleton],\n",
    "                          skeletons_colors=\"random\",\n",
    "                                      scatters=[axon_starting_coordinate],\n",
    "                                     scatter_size=0.3)\n",
    "else:\n",
    "    if verbose:\n",
    "        print(f\"Upstream node was None so don't have to adjust\")"
   ]
  },
  {
   "cell_type": "markdown",
   "metadata": {},
   "source": [
    "# MAY HAVE TO WORRY ABOUT COMPUTING THE WIDTH ARRAY"
   ]
  },
  {
   "cell_type": "code",
   "execution_count": 695,
   "metadata": {},
   "outputs": [
    {
     "data": {
      "application/vnd.jupyter.widget-view+json": {
       "model_id": "eb66845412a0417b90223e0af329129e",
       "version_major": 2,
       "version_minor": 0
      },
      "text/plain": [
       "VBox(children=(Figure(camera=PerspectiveCamera(fov=46.0, position=(0.0, 0.0, 2.0), projectionMatrix=(1.0, 0.0,…"
      ]
     },
     "metadata": {},
     "output_type": "display_data"
    }
   ],
   "source": [
    "nviz.plot_objects(meshes=[base_branch.mesh,neuron_obj[\"S0\"].mesh],\n",
    "                 skeletons=[base_branch.skeleton],\n",
    "                 scatters=[neuron_obj.axon_starting_coordinate],\n",
    "                 scatter_size=0.5)"
   ]
  },
  {
   "cell_type": "code",
   "execution_count": 688,
   "metadata": {},
   "outputs": [
    {
     "data": {
      "text/plain": [
       "(array([[[ 812911.15291954, 1023678.44823879,  683685.57828298],\n",
       "         [ 812580.08744052, 1024041.84340991,  684231.26977554]],\n",
       " \n",
       "        [[ 812580.08744052, 1024041.84340991,  684231.26977554],\n",
       "         [ 812096.77348479, 1024586.88844956,  684916.15709356]],\n",
       " \n",
       "        [[ 812096.77348479, 1024586.88844956,  684916.15709356],\n",
       "         [ 811647.95423419, 1025112.89966179,  685638.16443364]]]),\n",
       " array([ 91.54393304,  95.27527144, 103.01633192]),\n",
       " array([734.46552461, 999.86854808, 999.71051522]))"
      ]
     },
     "execution_count": 688,
     "metadata": {},
     "output_type": "execute_result"
    }
   ],
   "source": [
    "(base_final_skeleton,\n",
    "    base_final_widths,\n",
    "    base_final_seg_lengths)"
   ]
  },
  {
   "cell_type": "code",
   "execution_count": 698,
   "metadata": {},
   "outputs": [
    {
     "data": {
      "text/plain": [
       "array([ 812911.15291954, 1023678.44823879,  683685.57828298])"
      ]
     },
     "execution_count": 698,
     "metadata": {},
     "output_type": "execute_result"
    }
   ],
   "source": [
    "common_endpoint"
   ]
  },
  {
   "cell_type": "code",
   "execution_count": 705,
   "metadata": {
    "scrolled": true
   },
   "outputs": [
    {
     "name": "stdout",
     "output_type": "stream",
     "text": [
      "Base needs flipping\n",
      "Skeleton after flip = [[[ 812911.15291954 1023678.44823879  683685.57828298]\n",
      "  [ 812589.90816659 1024030.87496901  684216.29490847]]\n",
      "\n",
      " [[ 812589.90816659 1024030.87496901  684216.29490847]\n",
      "  [ 812106.14499027 1024575.83680895  684902.37173448]]\n",
      "\n",
      " [[ 812106.14499027 1024575.83680895  684902.37173448]\n",
      "  [ 811656.57782285 1025103.47194025  685624.10200906]]\n",
      "\n",
      " [[ 811656.57782285 1025103.47194025  685624.10200906]\n",
      "  [ 811195.38272902 1025634.94365143  686333.93652663]]\n",
      "\n",
      " [[ 811195.38272902 1025634.94365143  686333.93652663]\n",
      "  [ 810666.86509697 1026335.02397587  686803.68181199]]\n",
      "\n",
      " [[ 810666.86509697 1026335.02397587  686803.68181199]\n",
      "  [ 809968.70773916 1027014.83541978  687025.31665159]]\n",
      "\n",
      " [[ 809968.70773916 1027014.83541978  687025.31665159]\n",
      "  [ 809248.92550413 1027661.98930973  687273.90622514]]\n",
      "\n",
      " [[ 809248.92550413 1027661.98930973  687273.90622514]\n",
      "  [ 808588.1503902  1028324.74290517  687628.74399434]]\n",
      "\n",
      " [[ 808588.1503902  1028324.74290517  687628.74399434]\n",
      "  [ 807989.46368237 1029016.51982667  688033.70814738]]\n",
      "\n",
      " [[ 807989.46368237 1029016.51982667  688033.70814738]\n",
      "  [ 807276.08440647 1029615.69631855  688378.96067912]]\n",
      "\n",
      " [[ 807276.08440647 1029615.69631855  688378.96067912]\n",
      "  [ 806364.21997256 1030015.78892982  688439.91663475]]\n",
      "\n",
      " [[ 806364.21997256 1030015.78892982  688439.91663475]\n",
      "  [ 805564.12236987 1030532.01219026  688692.83148139]]\n",
      "\n",
      " [[ 805564.12236987 1030532.01219026  688692.83148139]\n",
      "  [ 805007.46238912 1031216.43812751  689164.4092189 ]]\n",
      "\n",
      " [[ 805007.46238912 1031216.43812751  689164.4092189 ]\n",
      "  [ 804332.40703714 1031770.60745858  689634.35753206]]\n",
      "\n",
      " [[ 804332.40703714 1031770.60745858  689634.35753206]\n",
      "  [ 803427.3136261  1031980.31833546  690000.74534588]]\n",
      "\n",
      " [[ 803427.3136261  1031980.31833546  690000.74534588]\n",
      "  [ 802526.04371769 1032136.20941253  690403.67705615]]\n",
      "\n",
      " [[ 802526.04371769 1032136.20941253  690403.67705615]\n",
      "  [ 801604.48075396 1032117.28848839  690788.53128354]]\n",
      "\n",
      " [[ 801604.48075396 1032117.28848839  690788.53128354]\n",
      "  [ 800622.24277414 1032023.46432259  690852.87566742]]\n",
      "\n",
      " [[ 800622.24277414 1032023.46432259  690852.87566742]\n",
      "  [ 799892.05010515 1032291.65034143  690345.52662371]]\n",
      "\n",
      " [[ 799892.05010515 1032291.65034143  690345.52662371]\n",
      "  [ 800133.80916773 1033119.84490335  690764.49557762]]\n",
      "\n",
      " [[ 800133.80916773 1033119.84490335  690764.49557762]\n",
      "  [ 800115.71130694 1033893.70497886  691375.18465941]]\n",
      "\n",
      " [[ 800115.71130694 1033893.70497886  691375.18465941]\n",
      "  [ 799675.8073391  1034512.72849065  692018.00896997]]]\n",
      "Base offset = 0\n",
      "Base: Long enough for offset and comparison length\n"
     ]
    },
    {
     "data": {
      "text/plain": [
       "array([ 91.54393304,  95.27527144, 103.01633192])"
      ]
     },
     "execution_count": 705,
     "metadata": {},
     "output_type": "execute_result"
    }
   ],
   "source": [
    "base_branch = neuron_obj[3][0]\n",
    "common_endpoint = neuron_obj.axon_starting_coordinate\n",
    "\n",
    "(base_final_skeleton,\n",
    "    base_final_widths,\n",
    "    base_final_seg_lengths) = nru.align_and_restrict_branch(base_branch,\n",
    "                              common_endpoint=common_endpoint,\n",
    "                             offset=0,\n",
    "                             comparison_distance=2000,\n",
    "                             skeleton_segment_size=1000,\n",
    "                              verbose=True,\n",
    "                             )\n",
    "base_final_widths"
   ]
  },
  {
   "cell_type": "code",
   "execution_count": 704,
   "metadata": {},
   "outputs": [
    {
     "data": {
      "text/plain": [
       "96.6118454688276"
      ]
     },
     "execution_count": 704,
     "metadata": {},
     "output_type": "execute_result"
    }
   ],
   "source": [
    "np.mean(base_final_widths)"
   ]
  },
  {
   "cell_type": "code",
   "execution_count": 708,
   "metadata": {},
   "outputs": [
    {
     "data": {
      "application/vnd.jupyter.widget-view+json": {
       "model_id": "92c3c7e11b0b4273a953e42098bf8cb0",
       "version_major": 2,
       "version_minor": 0
      },
      "text/plain": [
       "VBox(children=(Figure(camera=PerspectiveCamera(fov=46.0, position=(0.0, 0.0, 2.0), projectionMatrix=(1.0, 0.0,…"
      ]
     },
     "metadata": {},
     "output_type": "display_data"
    }
   ],
   "source": [
    "restr_skeleton = sk.restrict_skeleton_to_distance_from_coordinate(neuron_obj[0].skeleton,\n",
    "                                                 neuron_obj[0].current_starting_coordinate,\n",
    "                                                 10000,)\n",
    "nviz.plot_objects(main_skeleton=neuron_obj[0].skeleton,\n",
    "                 skeletons=[restr_skeleton],\n",
    "                 skeletons_colors=\"red\")          "
   ]
  },
  {
   "cell_type": "code",
   "execution_count": 715,
   "metadata": {},
   "outputs": [
    {
     "data": {
      "text/plain": [
       "['classify_endpoint_error_branches_from_limb_concept_network',\n",
       " 'ordered_endpoints_on_branch_path',\n",
       " 'shared_skeleton_endpoints_for_connected_branches']"
      ]
     },
     "execution_count": 715,
     "metadata": {},
     "output_type": "execute_result"
    }
   ],
   "source": [
    "[k for k in dir(nru) if \"endpoint\" in k]"
   ]
  },
  {
   "cell_type": "code",
   "execution_count": 718,
   "metadata": {},
   "outputs": [
    {
     "data": {
      "text/plain": [
       "array([0])"
      ]
     },
     "execution_count": 718,
     "metadata": {},
     "output_type": "execute_result"
    }
   ],
   "source": [
    "branches"
   ]
  },
  {
   "cell_type": "code",
   "execution_count": 735,
   "metadata": {},
   "outputs": [
    {
     "data": {
      "text/plain": [
       "array([1435895.68871823,  637786.35929307, 1107653.21407107])"
      ]
     },
     "execution_count": 735,
     "metadata": {},
     "output_type": "execute_result"
    }
   ],
   "source": [
    "\n",
    "\n",
    "axon_limb_dict = neuron_obj.axon_limb_branch_dict\n",
    "axon_limb_name = list(axon_limb_dict.keys())[0]\n",
    "\n",
    "limb_obj = neuron_obj[axon_limb_name]\n",
    "branches = axon_limb_dict[axon_limb_name]\n",
    "\n",
    "nru.closest_branch_endpoint_to_limb_starting_coordinate(limb_obj,\n",
    "                                                    branches,\n",
    "                                                       )\n"
   ]
  },
  {
   "cell_type": "code",
   "execution_count": 731,
   "metadata": {},
   "outputs": [
    {
     "data": {
      "text/plain": [
       "array([1435895.68871823,  637786.35929307, 1107653.21407107])"
      ]
     },
     "execution_count": 731,
     "metadata": {},
     "output_type": "execute_result"
    }
   ],
   "source": [
    "neuron_obj.axon_starting_coordinate"
   ]
  },
  {
   "cell_type": "code",
   "execution_count": null,
   "metadata": {},
   "outputs": [],
   "source": []
  },
  {
   "cell_type": "code",
   "execution_count": null,
   "metadata": {},
   "outputs": [],
   "source": []
  },
  {
   "cell_type": "code",
   "execution_count": 712,
   "metadata": {},
   "outputs": [],
   "source": [
    "final_sk = sk.restrict_skeleton_from_start(neuron_obj[0].skeleton,\n",
    "                                 cutoff_distance=10000)"
   ]
  },
  {
   "cell_type": "code",
   "execution_count": 714,
   "metadata": {},
   "outputs": [
    {
     "data": {
      "application/vnd.jupyter.widget-view+json": {
       "model_id": "5a4536d0968c4aa4abf431b633dfeb7c",
       "version_major": 2,
       "version_minor": 0
      },
      "text/plain": [
       "VBox(children=(Figure(camera=PerspectiveCamera(fov=46.0, position=(0.0, 0.0, 2.0), projectionMatrix=(1.0, 0.0,…"
      ]
     },
     "metadata": {},
     "output_type": "display_data"
    }
   ],
   "source": [
    "nviz.plot_objects(main_skeleton=neuron_obj[0].skeleton,\n",
    "                 skeletons=[final_sk[0]],\n",
    "                 skeletons_colors=\"red\")          "
   ]
  },
  {
   "cell_type": "code",
   "execution_count": null,
   "metadata": {},
   "outputs": [],
   "source": []
  }
 ],
 "metadata": {
  "kernelspec": {
   "display_name": "Python 3",
   "language": "python",
   "name": "python3"
  },
  "language_info": {
   "codemirror_mode": {
    "name": "ipython",
    "version": 3
   },
   "file_extension": ".py",
   "mimetype": "text/x-python",
   "name": "python",
   "nbconvert_exporter": "python",
   "pygments_lexer": "ipython3",
   "version": "3.6.9"
  }
 },
 "nbformat": 4,
 "nbformat_minor": 4
}
