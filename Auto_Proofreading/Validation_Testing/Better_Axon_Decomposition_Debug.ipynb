{
 "cells": [
  {
   "cell_type": "code",
   "execution_count": null,
   "metadata": {},
   "outputs": [],
   "source": [
    "\"\"\"\n",
    "Purpose: T check the errors with better axon decomposition\n",
    "\n",
    "\n",
    "\"\"\""
   ]
  },
  {
   "cell_type": "code",
   "execution_count": 30,
   "metadata": {},
   "outputs": [],
   "source": [
    "%load_ext autoreload\n",
    "%autoreload 2"
   ]
  },
  {
   "cell_type": "code",
   "execution_count": 1,
   "metadata": {},
   "outputs": [
    {
     "name": "stderr",
     "output_type": "stream",
     "text": [
      "INFO - 2021-02-28 19:57:21,542 - settings - Setting database.host to at-database.ad.bcm.edu\n",
      "INFO - 2021-02-28 19:57:21,544 - settings - Setting database.user to celiib\n",
      "INFO - 2021-02-28 19:57:21,545 - settings - Setting database.password to newceliipass\n",
      "INFO - 2021-02-28 19:57:21,558 - settings - Setting stores to {'minnie65': {'protocol': 'file', 'location': '/mnt/dj-stor01/platinum/minnie65', 'stage': '/mnt/dj-stor01/platinum/minnie65'}, 'meshes': {'protocol': 'file', 'location': '/mnt/dj-stor01/platinum/minnie65/02/meshes', 'stage': '/mnt/dj-stor01/platinum/minnie65/02/meshes'}, 'decimated_meshes': {'protocol': 'file', 'location': '/mnt/dj-stor01/platinum/minnie65/02/decimated_meshes', 'stage': '/mnt/dj-stor01/platinum/minnie65/02/decimated_meshes'}, 'skeletons': {'protocol': 'file', 'location': '/mnt/dj-stor01/platinum/minnie65/02/skeletons'}}\n",
      "INFO - 2021-02-28 19:57:21,559 - settings - Setting enable_python_native_blobs to True\n",
      "INFO - 2021-02-28 19:57:21,573 - connection - Connected celiib@at-database.ad.bcm.edu:3306\n"
     ]
    },
    {
     "name": "stdout",
     "output_type": "stream",
     "text": [
      "Connecting celiib@at-database.ad.bcm.edu:3306\n"
     ]
    },
    {
     "name": "stderr",
     "output_type": "stream",
     "text": [
      "INFO - 2021-02-28 19:57:21,990 - settings - Setting enable_python_native_blobs to True\n",
      "INFO - 2021-02-28 19:57:21,993 - settings - Setting database.host to at-database.ad.bcm.edu\n",
      "INFO - 2021-02-28 19:57:21,994 - settings - Setting database.user to celiib\n",
      "INFO - 2021-02-28 19:57:21,995 - settings - Setting database.password to newceliipass\n",
      "INFO - 2021-02-28 19:57:21,996 - settings - Setting database.host to at-database.ad.bcm.edu\n",
      "INFO - 2021-02-28 19:57:21,997 - settings - Setting database.user to celiib\n",
      "INFO - 2021-02-28 19:57:21,998 - settings - Setting database.password to newceliipass\n",
      "INFO - 2021-02-28 19:57:22,000 - settings - Setting enable_python_native_blobs to True\n",
      "INFO - 2021-02-28 19:57:22,422 - settings - Setting enable_python_native_blobs to True\n"
     ]
    }
   ],
   "source": [
    "import numpy as np\n",
    "import datajoint as dj\n",
    "import trimesh\n",
    "from tqdm.notebook import tqdm\n",
    "from pathlib import Path\n",
    "\n",
    "from os import sys\n",
    "sys.path.append(\"/meshAfterParty/\")\n",
    "sys.path.append(\"/meshAfterParty/meshAfterParty\")\n",
    "\n",
    "import datajoint_utils as du\n",
    "from importlib import reload"
   ]
  },
  {
   "cell_type": "code",
   "execution_count": 2,
   "metadata": {},
   "outputs": [],
   "source": [
    "#so that it will have the adapter defined\n",
    "from datajoint_utils import *"
   ]
  },
  {
   "cell_type": "code",
   "execution_count": 3,
   "metadata": {},
   "outputs": [],
   "source": [
    "import system_utils as su"
   ]
  },
  {
   "cell_type": "code",
   "execution_count": 4,
   "metadata": {},
   "outputs": [
    {
     "name": "stderr",
     "output_type": "stream",
     "text": [
      "INFO - 2021-02-28 19:58:06,611 - settings - Setting database.host to at-database.ad.bcm.edu\n",
      "INFO - 2021-02-28 19:58:06,613 - settings - Setting database.user to celiib\n",
      "INFO - 2021-02-28 19:58:06,614 - settings - Setting database.password to newceliipass\n",
      "INFO - 2021-02-28 19:58:06,615 - settings - Setting database.host to at-database.ad.bcm.edu\n",
      "INFO - 2021-02-28 19:58:06,616 - settings - Setting database.user to celiib\n",
      "INFO - 2021-02-28 19:58:06,617 - settings - Setting database.password to newceliipass\n",
      "INFO - 2021-02-28 19:58:06,621 - settings - Setting enable_python_native_blobs to True\n"
     ]
    },
    {
     "name": "stdout",
     "output_type": "stream",
     "text": [
      "Current path for external_segmentation_path = /mnt/dj-stor01/platinum/minnie65/02\n",
      "Current path for external_mesh_path = /mnt/dj-stor01/platinum/minnie65/02/meshes\n",
      "Current path for external_decimated_mesh_path = /mnt/dj-stor01/platinum/minnie65/02/decimated_meshes\n",
      "Current path for external_skeleton_path = /mnt/dj-stor01/platinum/minnie65/02/skeletons\n"
     ]
    },
    {
     "name": "stderr",
     "output_type": "stream",
     "text": [
      "INFO - 2021-02-28 19:58:07,092 - settings - Setting enable_python_native_blobs to True\n"
     ]
    }
   ],
   "source": [
    "import minfig\n",
    "import time\n",
    "import numpy as np\n",
    "#want to add in a wait for the connection part\n",
    "\n",
    "du.config_celii()\n",
    "du.set_minnie65_config_segmentation(minfig)\n",
    "du.print_minnie65_config_paths(minfig)\n",
    "\n",
    "#configuring will include the adapters\n",
    "minnie,schema = du.configure_minnie_vm()"
   ]
  },
  {
   "cell_type": "code",
   "execution_count": 6,
   "metadata": {},
   "outputs": [],
   "source": [
    "from importlib import reload\n",
    "\n",
    "import neuron_utils as nru\n",
    "\n",
    "import neuron\n",
    "\n",
    "import neuron_visualizations as nviz\n",
    "\n",
    "import time\n",
    "\n",
    "import datajoint_utils as du\n",
    "\n",
    "import numpy as np\n",
    "\n",
    "import proofreading_utils as pru\n",
    "\n",
    "import preprocessing_vp2 as pre\n",
    "\n",
    "# -- For the axon classification --\n",
    "\n",
    "import neuron_searching as ns\n",
    "\n",
    "import skeleton_utils as sk\n",
    "\n",
    "import numpy_utils as nu\n",
    "\n",
    "import networkx_utils as xu\n",
    "\n",
    "import system_utils as su\n",
    "\n",
    "import classification_utils as clu\n",
    "import proofreading_utils as pru\n",
    "\n",
    "import datajoint as dj\n",
    "\n",
    "from pykdtree.kdtree import KDTree\n",
    "import trimesh_utils as tu\n",
    "import proofreading_utils as pru\n",
    "import numpy as np\n",
    "\n",
    "import neuron_utils as nru\n",
    "import neuron\n",
    "import trimesh_utils as tu\n",
    "import numpy as np"
   ]
  },
  {
   "cell_type": "markdown",
   "metadata": {},
   "source": [
    "# Picking Out a Neuron"
   ]
  },
  {
   "cell_type": "code",
   "execution_count": 7,
   "metadata": {},
   "outputs": [],
   "source": [
    "proof_version = 3\n",
    "verbose = True\n",
    "import classification_utils as clu"
   ]
  },
  {
   "cell_type": "code",
   "execution_count": 11,
   "metadata": {},
   "outputs": [],
   "source": [
    "key = {\n",
    "    'segment_id': 864691135785243076,\n",
    " 'decimation_version': 0,\n",
    " 'decimation_ratio': 0.25,\n",
    " 'ver': 30.0,\n",
    " 'process_version': 1,\n",
    " 'index': 0}"
   ]
  },
  {
   "cell_type": "code",
   "execution_count": 129,
   "metadata": {},
   "outputs": [],
   "source": [
    "# trying new neurons\n",
    "key[\"segment_id\"] = 864691136944755679 #worked\n",
    "key[\"segment_id\"] = 864691135937203716 #worked\n",
    "key[\"segment_id\"] = 864691135494150800\n",
    "key[\"segment_id\"] = 864691135644621039\n",
    "key[\"segment_id\"] = 864691136020259576\n",
    "key[\"segment_id\"] = 864691136136609149\n",
    "key[\"segment_id\"] = 864691135366969081"
   ]
  },
  {
   "cell_type": "markdown",
   "metadata": {},
   "source": [
    "# Checking Out Neuron\n"
   ]
  },
  {
   "cell_type": "code",
   "execution_count": 130,
   "metadata": {},
   "outputs": [
    {
     "name": "stdout",
     "output_type": "stream",
     "text": [
      "Decompressing Neuron in minimal output mode...please wait\n",
      "Number of Neurons found = 1\n"
     ]
    }
   ],
   "source": [
    "segment_id = key[\"segment_id\"]\n",
    "neuron_objs,neuron_split_idxs = du.decomposition_with_spine_recalculation(segment_id)"
   ]
  },
  {
   "cell_type": "code",
   "execution_count": 131,
   "metadata": {},
   "outputs": [
    {
     "data": {
      "text/plain": [
       "<neuron.Neuron at 0x7f97e8769518>"
      ]
     },
     "execution_count": 131,
     "metadata": {},
     "output_type": "execute_result"
    }
   ],
   "source": [
    "neuron_obj = neuron_objs[0]\n",
    "neuron_obj"
   ]
  },
  {
   "cell_type": "code",
   "execution_count": null,
   "metadata": {
    "scrolled": true
   },
   "outputs": [
    {
     "name": "stdout",
     "output_type": "stream",
     "text": [
      "---- Part A: NOT Attempting to split neuron --------\n",
      "\n",
      "--- Working on Neuron 0 ---\n",
      "\n",
      "\n",
      " ------ Part B: Axon Classification ---- \n",
      "\n",
      "\n",
      "Assigning the old width calculation because no valid new widths\n",
      "Axon Classification = 58.35325002670288\n",
      "\n",
      "\n",
      " ------ Part C: Inhibitory Excitatory Classification ---- \n",
      "\n",
      "\n",
      "spine_category = no_spined\n",
      "spine_category was no_spined so determined as inhibitory\n",
      "Inhibitory Excitatory Classification = 32.420456409454346\n",
      "\n",
      " -- Cell Type Classification Results --\n",
      "inh_exc_class=inhibitory\n",
      "spine_category=no_spined\n",
      "axon_angles={}\n",
      "n_axons=0\n",
      "n_apicals=0\n",
      "neuron_spine_density=3.7653882849697075e-05\n",
      "n_branches_processed=11\n",
      "skeletal_length_processed=1572519.3903801774\n",
      "n_branches_in_search_radius=88\n",
      "skeletal_length_in_search_radius=4253954.619117511\n",
      "\n",
      "\n",
      " ------ Part D: Neuron Filtering ---- \n",
      "\n",
      " \n",
      "\n",
      "--- Working on filter 0:\n",
      "function = low_branch_clusters\n",
      "function __name__ = filter_away_low_branch_length_clusters\n",
      "function arguments = {}\n",
      "\n",
      "\n",
      "----------------------- Running Filter ------------------\n",
      "limb_branch_restriction = {'L0': array([  5,  11,  34,  88,  91, 104, 106, 107, 110, 112, 114, 124, 134,\n",
      "       160, 162, 167, 172, 176, 183, 185, 186, 204, 208, 215, 220, 226,\n",
      "       231, 233, 235, 243, 259, 261, 274, 275, 284, 297, 302, 318, 328,\n",
      "       335, 337, 353, 366, 380, 382, 386, 393, 394, 400, 407, 409, 415,\n",
      "       419, 426, 432, 453, 456, 464, 470, 471, 474, 480, 481, 488, 511,\n",
      "       525, 536, 553, 560]), 'L1': array([7]), 'L2': array([13]), 'L5': array([0, 5])}\n",
      "--- Working on Limb L0 ---\n",
      "nodes_to_keep = [  5  11  34  88  91 104 106 107 110 112 114 124 134 160 162 167 172 176\n",
      " 183 185 186 204 208 215 220 226 231 233 235 243 259 261 274 275 284 297\n",
      " 302 318 328 335 337 353 366 380 382 386 393 394 400 407 409 415 419 426\n",
      " 432 453 456 464 470 471 474 480 481 488 511 525 536 553 560]\n",
      "--- Working on Limb L1 ---\n",
      "nodes_to_keep = [7]\n",
      "--- Working on Limb L2 ---\n",
      "nodes_to_keep = [13]\n",
      "--- Working on Limb L5 ---\n",
      "nodes_to_keep = [0 5]\n",
      "After disconnecte effect, removed_limb_branch_dict = {'L0': [93, 97, 226, 227, 228, 180, 105, 81, 98, 109, 113, 156, 182, 104, 106, 107, 110, 112]}\n",
      "total_sk_distance = 388.24107144593154, total_area = 277.17392425118516\n"
     ]
    }
   ],
   "source": [
    "output_dict= pru.proofread_neuron(neuron_obj,\n",
    "                            plot_limb_branch_filter_with_disconnect_effect=False,\n",
    "                            plot_final_filtered_neuron=False,\n",
    "                            verbose=True)\n",
    "\n",
    "filtered_neuron = output_dict[\"filtered_neuron\"]\n",
    "cell_type_info = output_dict[\"cell_type_info\"]\n",
    "filtering_info = output_dict[\"filtering_info\"]"
   ]
  },
  {
   "cell_type": "code",
   "execution_count": 107,
   "metadata": {},
   "outputs": [
    {
     "name": "stdout",
     "output_type": "stream",
     "text": [
      "\n",
      " Working on visualization type: mesh\n",
      "\n",
      " Working on visualization type: skeleton\n"
     ]
    },
    {
     "data": {
      "application/vnd.jupyter.widget-view+json": {
       "model_id": "20a0c0563fdc43b2a090996178189714",
       "version_major": 2,
       "version_minor": 0
      },
      "text/plain": [
       "VBox(children=(Figure(camera=PerspectiveCamera(fov=46.0, position=(0.0, 0.0, 2.0), projectionMatrix=(1.0, 0.0,…"
      ]
     },
     "metadata": {},
     "output_type": "display_data"
    }
   ],
   "source": [
    "nviz.visualize_neuron(filtered_neuron,\n",
    "                     limb_branch_dict=\"all\")"
   ]
  },
  {
   "cell_type": "code",
   "execution_count": null,
   "metadata": {},
   "outputs": [],
   "source": []
  },
  {
   "cell_type": "code",
   "execution_count": null,
   "metadata": {},
   "outputs": [],
   "source": [
    "\"\"\"\n",
    "Pseudocode:\n",
    "1) Pull Down All of the Neurons\n",
    "2) Get the nucleus centers and the original mesh\n",
    "\n",
    "\"\"\"\n",
    "\n",
    "# 1) Pull Down All of the Neurons\n",
    "segment_id = key[\"segment_id\"]\n",
    "\n",
    "whole_pass_time = time.time()\n",
    "\n",
    "\n",
    "curr_output = pru.proofreading_table_processing(key,\n",
    "                          proof_version=proof_version,\n",
    "                          compute_synapse_to_soma_skeletal_distance=True,\n",
    "                         verbose=True,)    \n",
    "# ------ Writing the Data To the Tables ----- #\n",
    "\n",
    "\n",
    "AutoProofreadSynapse_keys = curr_output[\"AutoProofreadSynapse_keys\"]\n",
    "AutoProofreadNeurons_keys = curr_output[\"AutoProofreadNeurons_keys\"]\n",
    "filtering_info_list = curr_output[\"filtering_info_list\"]\n",
    "synapse_stats_list = curr_output[\"synapse_stats_list\"]\n",
    "total_error_synapse_ids_list = curr_output[\"total_error_synapse_ids_list\"]\n",
    "neuron_mesh_list = curr_output[\"neuron_mesh_list\"]\n",
    "axon_mesh_list = curr_output[\"axon_mesh_list\"]\n",
    "neuron_split_idxs = curr_output[\"neuron_split_idxs\"]\n",
    "\n",
    "axon_skeleton_list = curr_output[\"axon_skeleton_list\"]\n",
    "dendrite_skeleton_list = curr_output[\"dendrite_skeleton_list\"]"
   ]
  }
 ],
 "metadata": {
  "kernelspec": {
   "display_name": "Python 3",
   "language": "python",
   "name": "python3"
  },
  "language_info": {
   "codemirror_mode": {
    "name": "ipython",
    "version": 3
   },
   "file_extension": ".py",
   "mimetype": "text/x-python",
   "name": "python",
   "nbconvert_exporter": "python",
   "pygments_lexer": "ipython3",
   "version": "3.6.9"
  }
 },
 "nbformat": 4,
 "nbformat_minor": 4
}
