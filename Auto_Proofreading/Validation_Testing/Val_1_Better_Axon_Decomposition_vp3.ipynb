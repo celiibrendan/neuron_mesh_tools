{
 "cells": [
  {
   "cell_type": "code",
   "execution_count": null,
   "metadata": {},
   "outputs": [],
   "source": [
    "\"\"\"\n",
    "To Make sure the Best Axon method works and also\n",
    "to see if can decompose the axon any better \n",
    "(especially if can help with crosses and parts that aren't skeletonized             )\n",
    "\n",
    "\"\"\""
   ]
  },
  {
   "cell_type": "code",
   "execution_count": 1,
   "metadata": {},
   "outputs": [],
   "source": [
    "%load_ext autoreload\n",
    "%autoreload 2"
   ]
  },
  {
   "cell_type": "code",
   "execution_count": 2,
   "metadata": {},
   "outputs": [],
   "source": [
    "from os import sys\n",
    "sys.path.append(\"/meshAfterParty/\")\n",
    "sys.path.append(\"/meshAfterParty/meshAfterParty/\")"
   ]
  },
  {
   "cell_type": "code",
   "execution_count": 3,
   "metadata": {},
   "outputs": [
    {
     "name": "stderr",
     "output_type": "stream",
     "text": [
      "INFO - 2021-02-25 07:41:21,639 - settings - Setting database.host to at-database.ad.bcm.edu\n",
      "INFO - 2021-02-25 07:41:21,641 - settings - Setting database.user to celiib\n",
      "INFO - 2021-02-25 07:41:21,642 - settings - Setting database.password to newceliipass\n",
      "INFO - 2021-02-25 07:41:21,648 - settings - Setting stores to {'minnie65': {'protocol': 'file', 'location': '/mnt/dj-stor01/platinum/minnie65', 'stage': '/mnt/dj-stor01/platinum/minnie65'}, 'meshes': {'protocol': 'file', 'location': '/mnt/dj-stor01/platinum/minnie65/02/meshes', 'stage': '/mnt/dj-stor01/platinum/minnie65/02/meshes'}, 'decimated_meshes': {'protocol': 'file', 'location': '/mnt/dj-stor01/platinum/minnie65/02/decimated_meshes', 'stage': '/mnt/dj-stor01/platinum/minnie65/02/decimated_meshes'}, 'skeletons': {'protocol': 'file', 'location': '/mnt/dj-stor01/platinum/minnie65/02/skeletons'}}\n",
      "INFO - 2021-02-25 07:41:21,649 - settings - Setting enable_python_native_blobs to True\n",
      "INFO - 2021-02-25 07:41:21,664 - connection - Connected celiib@at-database.ad.bcm.edu:3306\n"
     ]
    },
    {
     "name": "stdout",
     "output_type": "stream",
     "text": [
      "Connecting celiib@at-database.ad.bcm.edu:3306\n"
     ]
    },
    {
     "name": "stderr",
     "output_type": "stream",
     "text": [
      "INFO - 2021-02-25 07:41:22,071 - settings - Setting enable_python_native_blobs to True\n",
      "INFO - 2021-02-25 07:41:22,111 - settings - Setting enable_python_native_blobs to True\n",
      "INFO - 2021-02-25 07:41:22,514 - settings - Setting enable_python_native_blobs to True\n"
     ]
    }
   ],
   "source": [
    "import datajoint_utils as du\n",
    "minnie,schema = du.configure_minnie_vm()"
   ]
  },
  {
   "cell_type": "code",
   "execution_count": 4,
   "metadata": {},
   "outputs": [],
   "source": [
    "import pandas as pd\n",
    "import matplotlib.pyplot as plt\n",
    "import networkx as nx\n",
    "import numpy as np\n",
    "import networkx_utils as xu\n",
    "import datajoint as dj\n",
    "import neuron_visualizations as nviz\n",
    "import neuron\n",
    "import neuron_utils as nru\n",
    "import proofreading_utils as pru\n",
    "import classification_utils as clu\n",
    "import system_utils as su\n",
    "from importlib import reload\n",
    "import trimesh_utils as tu"
   ]
  },
  {
   "cell_type": "markdown",
   "metadata": {},
   "source": [
    "# Getting a more high fidelity axon skeleton"
   ]
  },
  {
   "cell_type": "code",
   "execution_count": 5,
   "metadata": {},
   "outputs": [],
   "source": [
    "multi_axon_segs,multi_axon_splits = (minnie.AutoProofreadNeurons2() & \"cell_type_predicted='excitatory'\"\n",
    " & \"n_axons>1\").fetch(\"segment_id\",\"split_index\")"
   ]
  },
  {
   "cell_type": "code",
   "execution_count": 6,
   "metadata": {},
   "outputs": [],
   "source": [
    "segment_id,split_index = 864691135426651890,0 #long axon good for proofreading\n",
    "#segment_id, split_index = 864691135446640468,0 #comes off the side of dendrite"
   ]
  },
  {
   "cell_type": "code",
   "execution_count": 7,
   "metadata": {},
   "outputs": [
    {
     "data": {
      "text/html": [
       "\n",
       "        \n",
       "        <style type=\"text/css\">\n",
       "            .Relation{\n",
       "                border-collapse:collapse;\n",
       "            }\n",
       "            .Relation th{\n",
       "                background: #A0A0A0; color: #ffffff; padding:4px; border:#f0e0e0 1px solid;\n",
       "                font-weight: normal; font-family: monospace; font-size: 100%;\n",
       "            }\n",
       "            .Relation td{\n",
       "                padding:4px; border:#f0e0e0 1px solid; font-size:100%;\n",
       "            }\n",
       "            .Relation tr:nth-child(odd){\n",
       "                background: #ffffff;\n",
       "            }\n",
       "            .Relation tr:nth-child(even){\n",
       "                background: #f3f1ff;\n",
       "            }\n",
       "            /* Tooltip container */\n",
       "            .djtooltip {\n",
       "            }\n",
       "            /* Tooltip text */\n",
       "            .djtooltip .djtooltiptext {\n",
       "                visibility: hidden;\n",
       "                width: 120px;\n",
       "                background-color: black;\n",
       "                color: #fff;\n",
       "                text-align: center;\n",
       "                padding: 5px 0;\n",
       "                border-radius: 6px;\n",
       "                /* Position the tooltip text - see examples below! */\n",
       "                position: absolute;\n",
       "                z-index: 1;\n",
       "            }\n",
       "            #primary {\n",
       "                font-weight: bold;\n",
       "                color: black;\n",
       "            }\n",
       "\n",
       "            #nonprimary {\n",
       "                font-weight: normal;\n",
       "                color: white;\n",
       "            }\n",
       "\n",
       "            /* Show the tooltip text when you mouse over the tooltip container */\n",
       "            .djtooltip:hover .djtooltiptext {\n",
       "                visibility: visible;\n",
       "            }\n",
       "        </style>\n",
       "        \n",
       "        <b></b>\n",
       "            <div style=\"max-height:1000px;max-width:1500px;overflow:auto;\">\n",
       "            <table border=\"1\" class=\"Relation\">\n",
       "                <thead> <tr style=\"text-align: right;\"> <th> <div class=\"djtooltip\">\n",
       "                                <p id=\"primary\">segment_id</p>\n",
       "                                <span class=\"djtooltiptext\">segment id unique within each Segmentation</span>\n",
       "                            </div></th><th><div class=\"djtooltip\">\n",
       "                                <p id=\"primary\">decimation_version</p>\n",
       "                                <span class=\"djtooltiptext\"></span>\n",
       "                            </div></th><th><div class=\"djtooltip\">\n",
       "                                <p id=\"primary\">decimation_ratio</p>\n",
       "                                <span class=\"djtooltiptext\">ratio of remaining mesh vertices/faces (which ones depends on what metric the decimation technique uses)</span>\n",
       "                            </div></th><th><div class=\"djtooltip\">\n",
       "                                <p id=\"primary\">ver</p>\n",
       "                                <span class=\"djtooltiptext\">the version number of the materializaiton</span>\n",
       "                            </div></th><th><div class=\"djtooltip\">\n",
       "                                <p id=\"primary\">process_version</p>\n",
       "                                <span class=\"djtooltiptext\">the version of the preprocessing pipeline run</span>\n",
       "                            </div></th><th><div class=\"djtooltip\">\n",
       "                                <p id=\"primary\">index</p>\n",
       "                                <span class=\"djtooltiptext\">the index of the neuron object that resulted from that mesh (indexed starting at 0)</span>\n",
       "                            </div></th><th><div class=\"djtooltip\">\n",
       "                                <p id=\"primary\">split_index</p>\n",
       "                                <span class=\"djtooltiptext\">the index of the neuron object that resulted AFTER THE SPLITTING ALGORITHM</span>\n",
       "                            </div></th><th><div class=\"djtooltip\">\n",
       "                                <p id=\"primary\">proof_version</p>\n",
       "                                <span class=\"djtooltiptext\">the version of code used for this cell typing classification</span>\n",
       "                            </div></th><th><div class=\"djtooltip\">\n",
       "                                <p id=\"nonprimary\">multiplicity</p>\n",
       "                                <span class=\"djtooltiptext\">the total number of neurons that came from the parent segment id</span>\n",
       "                            </div></th><th><div class=\"djtooltip\">\n",
       "                                <p id=\"nonprimary\">cell_type_predicted</p>\n",
       "                                <span class=\"djtooltiptext\">morphology predicted by classifier</span>\n",
       "                            </div></th><th><div class=\"djtooltip\">\n",
       "                                <p id=\"nonprimary\">spine_category</p>\n",
       "                                <span class=\"djtooltiptext\"></span>\n",
       "                            </div></th><th><div class=\"djtooltip\">\n",
       "                                <p id=\"nonprimary\">n_axons</p>\n",
       "                                <span class=\"djtooltiptext\">Number of axon candidates identified</span>\n",
       "                            </div></th><th><div class=\"djtooltip\">\n",
       "                                <p id=\"nonprimary\">n_apicals</p>\n",
       "                                <span class=\"djtooltiptext\">Number of apicals identified</span>\n",
       "                            </div></th><th><div class=\"djtooltip\">\n",
       "                                <p id=\"nonprimary\">axon_length</p>\n",
       "                                <span class=\"djtooltiptext\">length (in um) of the classified axon skeleton</span>\n",
       "                            </div></th><th><div class=\"djtooltip\">\n",
       "                                <p id=\"nonprimary\">axon_area</p>\n",
       "                                <span class=\"djtooltiptext\"># area (in um^2) of the classified axon</span>\n",
       "                            </div></th><th><div class=\"djtooltip\">\n",
       "                                <p id=\"nonprimary\">nucleus_id</p>\n",
       "                                <span class=\"djtooltiptext\">id of nucleus from the flat segmentation  Equivalent to Allen: 'id'.</span>\n",
       "                            </div></th><th><div class=\"djtooltip\">\n",
       "                                <p id=\"nonprimary\">nuclei_distance</p>\n",
       "                                <span class=\"djtooltiptext\">the distance to the closest nuclei (even if no matching nuclei found)</span>\n",
       "                            </div></th><th><div class=\"djtooltip\">\n",
       "                                <p id=\"nonprimary\">n_nuclei_in_radius</p>\n",
       "                                <span class=\"djtooltiptext\">the number of nuclei within the search radius of 15000 belonging to that segment</span>\n",
       "                            </div></th><th><div class=\"djtooltip\">\n",
       "                                <p id=\"nonprimary\">n_nuclei_in_bbox</p>\n",
       "                                <span class=\"djtooltiptext\">the number of nuclei within the bounding box of that soma</span>\n",
       "                            </div></th><th><div class=\"djtooltip\">\n",
       "                                <p id=\"nonprimary\">soma_x</p>\n",
       "                                <span class=\"djtooltiptext\">x coordinate of nucleus centroid in EM voxels (x: 4nm, y: 4nm, z: 40nm)</span>\n",
       "                            </div></th><th><div class=\"djtooltip\">\n",
       "                                <p id=\"nonprimary\">soma_y</p>\n",
       "                                <span class=\"djtooltiptext\">y coordinate of nucleus centroid in EM voxels (x: 4nm, y: 4nm, z: 40nm)</span>\n",
       "                            </div></th><th><div class=\"djtooltip\">\n",
       "                                <p id=\"nonprimary\">soma_z</p>\n",
       "                                <span class=\"djtooltiptext\">z coordinate of nucleus centroid in EM voxels (x: 4nm, y: 4nm, z: 40nm)</span>\n",
       "                            </div></th><th><div class=\"djtooltip\">\n",
       "                                <p id=\"nonprimary\">max_soma_n_faces</p>\n",
       "                                <span class=\"djtooltiptext\">The largest number of faces of the somas</span>\n",
       "                            </div></th><th><div class=\"djtooltip\">\n",
       "                                <p id=\"nonprimary\">max_soma_volume</p>\n",
       "                                <span class=\"djtooltiptext\">The largest volume of the somas the (volume in billions (10*9 nm^3))</span>\n",
       "                            </div></th><th><div class=\"djtooltip\">\n",
       "                                <p id=\"nonprimary\">n_vertices</p>\n",
       "                                <span class=\"djtooltiptext\">number of vertices</span>\n",
       "                            </div></th><th><div class=\"djtooltip\">\n",
       "                                <p id=\"nonprimary\">n_faces</p>\n",
       "                                <span class=\"djtooltiptext\">number of faces</span>\n",
       "                            </div></th><th><div class=\"djtooltip\">\n",
       "                                <p id=\"nonprimary\">n_not_processed_soma_containing_meshes</p>\n",
       "                                <span class=\"djtooltiptext\">the number of meshes with somas that were not processed</span>\n",
       "                            </div></th><th><div class=\"djtooltip\">\n",
       "                                <p id=\"nonprimary\">n_error_limbs</p>\n",
       "                                <span class=\"djtooltiptext\">the number of limbs that are touching multiple somas or 1 soma in multiple places</span>\n",
       "                            </div></th><th><div class=\"djtooltip\">\n",
       "                                <p id=\"nonprimary\">n_same_soma_multi_touching_limbs</p>\n",
       "                                <span class=\"djtooltiptext\">number of limbs that touch the same soma multiple times</span>\n",
       "                            </div></th><th><div class=\"djtooltip\">\n",
       "                                <p id=\"nonprimary\">n_multi_soma_touching_limbs</p>\n",
       "                                <span class=\"djtooltiptext\">number of limbs that touch multiple somas</span>\n",
       "                            </div></th><th><div class=\"djtooltip\">\n",
       "                                <p id=\"nonprimary\">n_somas</p>\n",
       "                                <span class=\"djtooltiptext\">number of soma meshes detected</span>\n",
       "                            </div></th><th><div class=\"djtooltip\">\n",
       "                                <p id=\"nonprimary\">n_limbs</p>\n",
       "                                <span class=\"djtooltiptext\"></span>\n",
       "                            </div></th><th><div class=\"djtooltip\">\n",
       "                                <p id=\"nonprimary\">n_branches</p>\n",
       "                                <span class=\"djtooltiptext\"></span>\n",
       "                            </div></th><th><div class=\"djtooltip\">\n",
       "                                <p id=\"nonprimary\">max_limb_n_branches</p>\n",
       "                                <span class=\"djtooltiptext\"></span>\n",
       "                            </div></th><th><div class=\"djtooltip\">\n",
       "                                <p id=\"nonprimary\">skeletal_length</p>\n",
       "                                <span class=\"djtooltiptext\"></span>\n",
       "                            </div></th><th><div class=\"djtooltip\">\n",
       "                                <p id=\"nonprimary\">max_limb_skeletal_length</p>\n",
       "                                <span class=\"djtooltiptext\"></span>\n",
       "                            </div></th><th><div class=\"djtooltip\">\n",
       "                                <p id=\"nonprimary\">median_branch_length</p>\n",
       "                                <span class=\"djtooltiptext\">gives information on average skeletal length to next branch point</span>\n",
       "                            </div></th><th><div class=\"djtooltip\">\n",
       "                                <p id=\"nonprimary\">width_median</p>\n",
       "                                <span class=\"djtooltiptext\">median width from mesh center without spines removed</span>\n",
       "                            </div></th><th><div class=\"djtooltip\">\n",
       "                                <p id=\"nonprimary\">width_no_spine_median</p>\n",
       "                                <span class=\"djtooltiptext\">median width from mesh center with spines removed</span>\n",
       "                            </div></th><th><div class=\"djtooltip\">\n",
       "                                <p id=\"nonprimary\">width_90_perc</p>\n",
       "                                <span class=\"djtooltiptext\">90th percentile for width without spines removed</span>\n",
       "                            </div></th><th><div class=\"djtooltip\">\n",
       "                                <p id=\"nonprimary\">width_no_spine_90_perc</p>\n",
       "                                <span class=\"djtooltiptext\">90th percentile for width with spines removed</span>\n",
       "                            </div></th><th><div class=\"djtooltip\">\n",
       "                                <p id=\"nonprimary\">n_spines</p>\n",
       "                                <span class=\"djtooltiptext\"></span>\n",
       "                            </div></th><th><div class=\"djtooltip\">\n",
       "                                <p id=\"nonprimary\">spine_density</p>\n",
       "                                <span class=\"djtooltiptext\">n_spines/ skeletal_length</span>\n",
       "                            </div></th><th><div class=\"djtooltip\">\n",
       "                                <p id=\"nonprimary\">spines_per_branch</p>\n",
       "                                <span class=\"djtooltiptext\"></span>\n",
       "                            </div></th><th><div class=\"djtooltip\">\n",
       "                                <p id=\"nonprimary\">skeletal_length_eligible</p>\n",
       "                                <span class=\"djtooltiptext\">the skeletal length for all branches searched for spines</span>\n",
       "                            </div></th><th><div class=\"djtooltip\">\n",
       "                                <p id=\"nonprimary\">n_spine_eligible_branches</p>\n",
       "                                <span class=\"djtooltiptext\">the number of branches that were checked for spines because passed width threshold</span>\n",
       "                            </div></th><th><div class=\"djtooltip\">\n",
       "                                <p id=\"nonprimary\">spine_density_eligible</p>\n",
       "                                <span class=\"djtooltiptext\">n_spines/skeletal_length_eligible</span>\n",
       "                            </div></th><th><div class=\"djtooltip\">\n",
       "                                <p id=\"nonprimary\">spines_per_branch_eligible</p>\n",
       "                                <span class=\"djtooltiptext\">n_spines/n_spine_eligible_branches</span>\n",
       "                            </div></th><th><div class=\"djtooltip\">\n",
       "                                <p id=\"nonprimary\">total_spine_volume</p>\n",
       "                                <span class=\"djtooltiptext\">the sum of all spine volume</span>\n",
       "                            </div></th><th><div class=\"djtooltip\">\n",
       "                                <p id=\"nonprimary\">spine_volume_median</p>\n",
       "                                <span class=\"djtooltiptext\">median of the spine volume for those spines with able to calculate volume</span>\n",
       "                            </div></th><th><div class=\"djtooltip\">\n",
       "                                <p id=\"nonprimary\">spine_volume_density</p>\n",
       "                                <span class=\"djtooltiptext\">total_spine_volume/skeletal_length</span>\n",
       "                            </div></th><th><div class=\"djtooltip\">\n",
       "                                <p id=\"nonprimary\">spine_volume_density_eligible</p>\n",
       "                                <span class=\"djtooltiptext\">total_spine_volume/skeletal_length_eligible</span>\n",
       "                            </div></th><th><div class=\"djtooltip\">\n",
       "                                <p id=\"nonprimary\">spine_volume_per_branch_eligible</p>\n",
       "                                <span class=\"djtooltiptext\">total_spine_volume/n_spine_eligible_branches</span>\n",
       "                            </div></th><th><div class=\"djtooltip\">\n",
       "                                <p id=\"nonprimary\">axon_angle_maximum</p>\n",
       "                                <span class=\"djtooltiptext\">the anlge of an identified axon</span>\n",
       "                            </div></th><th><div class=\"djtooltip\">\n",
       "                                <p id=\"nonprimary\">spine_density_classifier</p>\n",
       "                                <span class=\"djtooltiptext\">the number of spines divided by skeletal length for branches analyzed in classification</span>\n",
       "                            </div></th><th><div class=\"djtooltip\">\n",
       "                                <p id=\"nonprimary\">n_branches_processed</p>\n",
       "                                <span class=\"djtooltiptext\">the number branches used for the spine density analysis</span>\n",
       "                            </div></th><th><div class=\"djtooltip\">\n",
       "                                <p id=\"nonprimary\">skeletal_length_processed</p>\n",
       "                                <span class=\"djtooltiptext\">The total skeletal length of the viable branches used for the spine density analysis</span>\n",
       "                            </div></th><th><div class=\"djtooltip\">\n",
       "                                <p id=\"nonprimary\">n_branches_in_search_radius</p>\n",
       "                                <span class=\"djtooltiptext\">the number branches existing in the search radius used for spine density</span>\n",
       "                            </div></th><th><div class=\"djtooltip\">\n",
       "                                <p id=\"nonprimary\">skeletal_length_in_search_radius</p>\n",
       "                                <span class=\"djtooltiptext\">The total skeletal length of the branches existing in the search radius used for spine density</span>\n",
       "                            </div></th><th><div class=\"djtooltip\">\n",
       "                                <p id=\"nonprimary\">run_time</p>\n",
       "                                <span class=\"djtooltiptext\">the amount of time to run (seconds)</span>\n",
       "                            </div> </th> </tr> </thead>\n",
       "                <tbody> <tr> <td>864691135426651890</td>\n",
       "<td>0</td>\n",
       "<td>0.25</td>\n",
       "<td>30.00</td>\n",
       "<td>0</td>\n",
       "<td>0</td>\n",
       "<td>0</td>\n",
       "<td>1</td>\n",
       "<td>1</td>\n",
       "<td>excitatory</td>\n",
       "<td>densely_spined</td>\n",
       "<td>2</td>\n",
       "<td>2</td>\n",
       "<td>1135.6141158087469</td>\n",
       "<td>1314.1385539441028</td>\n",
       "<td>334179</td>\n",
       "<td>1113.7</td>\n",
       "<td>1</td>\n",
       "<td>1</td>\n",
       "<td>197203</td>\n",
       "<td>187208</td>\n",
       "<td>15170</td>\n",
       "<td>36844</td>\n",
       "<td>0</td>\n",
       "<td>246618</td>\n",
       "<td>490630</td>\n",
       "<td>0</td>\n",
       "<td>0</td>\n",
       "<td>0</td>\n",
       "<td>0</td>\n",
       "<td>1</td>\n",
       "<td>9</td>\n",
       "<td>67</td>\n",
       "<td>33</td>\n",
       "<td>2710942.756842747</td>\n",
       "<td>1131347.3715695199</td>\n",
       "<td>25547.098</td>\n",
       "<td>218.031</td>\n",
       "<td>218.031</td>\n",
       "<td>467.057</td>\n",
       "<td>458.82</td>\n",
       "<td>795</td>\n",
       "<td>0.0002932559154904042</td>\n",
       "<td>11.865671641791044</td>\n",
       "<td>1961960.979</td>\n",
       "<td>40</td>\n",
       "<td>0.00040520683566561393</td>\n",
       "<td>19.875</td>\n",
       "<td>140518412072.4182</td>\n",
       "<td>115842454.78816223</td>\n",
       "<td>51833.78059818223</td>\n",
       "<td>71621.41019952376</td>\n",
       "<td>3512960301.8104553</td>\n",
       "<td>147.665545157858</td>\n",
       "<td>0.0005380310044851373</td>\n",
       "<td>0</td>\n",
       "<td>1399547.7601322262</td>\n",
       "<td>49</td>\n",
       "<td>1962542.2195552844</td>\n",
       "<td>122.4726</td> </tr> </tbody>\n",
       "            </table>\n",
       "            \n",
       "            <p>Total: 1</p></div>\n",
       "            "
      ],
      "text/plain": [
       "*segment_id    *decimation_ve *decimation_ra *ver      *process_versi *index    *split_index   *proof_version multiplicity   cell_type_pred spine_category n_axons     n_apicals     axon_length    axon_area      nucleus_id     nuclei_distanc n_nuclei_in_ra n_nuclei_in_bb soma_x     soma_y     soma_z     max_soma_n_fac max_soma_volum n_vertices     n_faces     n_not_processe n_error_limbs  n_same_soma_mu n_multi_soma_t n_somas     n_limbs     n_branches     max_limb_n_bra skeletal_lengt max_limb_skele median_branch_ width_median   width_no_spine width_90_perc  width_no_spine n_spines     spine_density  spines_per_bra skeletal_lengt n_spine_eligib spine_density_ spines_per_bra total_spine_vo spine_volume_m spine_volume_d spine_volume_d spine_volume_p axon_angle_max spine_density_ n_branches_pro skeletal_lengt n_branches_in_ skeletal_lengt run_time    \n",
       "+------------+ +------------+ +------------+ +-------+ +------------+ +-------+ +------------+ +------------+ +------------+ +------------+ +------------+ +---------+ +-----------+ +------------+ +------------+ +------------+ +------------+ +------------+ +------------+ +--------+ +--------+ +--------+ +------------+ +------------+ +------------+ +---------+ +------------+ +------------+ +------------+ +------------+ +---------+ +---------+ +------------+ +------------+ +------------+ +------------+ +------------+ +------------+ +------------+ +------------+ +------------+ +----------+ +------------+ +------------+ +------------+ +------------+ +------------+ +------------+ +------------+ +------------+ +------------+ +------------+ +------------+ +------------+ +------------+ +------------+ +------------+ +------------+ +------------+ +----------+\n",
       "86469113542665 0              0.25           30.00     0              0         0              1              1              excitatory     densely_spined 2           2             1135.614115808 1314.138553944 334179         1113.7         1              1              197203     187208     15170      36844          0              246618         490630      0              0              0              0              1           9           67             33             2710942.756842 1131347.371569 25547.098      218.031        218.031        467.057        458.82         795          0.000293255915 11.86567164179 1961960.979    40             0.000405206835 19.875         140518412072.4 115842454.7881 51833.78059818 71621.41019952 3512960301.810 147.6655451578 0.000538031004 0              1399547.760132 49             1962542.219555 122.4726    \n",
       " (Total: 1)"
      ]
     },
     "execution_count": 7,
     "metadata": {},
     "output_type": "execute_result"
    }
   ],
   "source": [
    "minnie.AutoProofreadNeurons2() & dict(segment_id = segment_id,\n",
    "                                      split_index=split_index)"
   ]
  },
  {
   "cell_type": "code",
   "execution_count": 8,
   "metadata": {},
   "outputs": [
    {
     "name": "stdout",
     "output_type": "stream",
     "text": [
      "Synapsse Results:\n",
      "Total Number of Synapses = 129\n",
      "n_valid_syn_centers_presyn = 28\n",
      "n_errored_syn_centers_presyn = 15\n",
      "n_valid_syn_centers_postsyn = 86\n",
      "n_errored_syn_centers_postsyn = 0\n",
      "Including axon mesh\n"
     ]
    },
    {
     "name": "stderr",
     "output_type": "stream",
     "text": [
      "/usr/local/lib/python3.6/dist-packages/traittypes/traittypes.py:101: UserWarning: Given trait value dtype \"float64\" does not match required type \"float64\". A coerced copy has been created.\n",
      "  np.dtype(self.dtype).name))\n"
     ]
    },
    {
     "data": {
      "application/vnd.jupyter.widget-view+json": {
       "model_id": "16451b0413a94b159120e3e96f47912b",
       "version_major": 2,
       "version_minor": 0
      },
      "text/plain": [
       "VBox(children=(Figure(camera=PerspectiveCamera(fov=46.0, position=(0.0, 0.0, 2.0), projectionMatrix=(1.0, 0.0,…"
      ]
     },
     "metadata": {},
     "output_type": "display_data"
    }
   ],
   "source": [
    "du.plot_proofread_neuron(segment_id,\n",
    "                        split_index=split_index,\n",
    "                        plot_errored_faces=True,\n",
    "                        plot_synapses=True,\n",
    "                        plot_nuclei=True,\n",
    "                        plot_axon=True)"
   ]
  },
  {
   "cell_type": "code",
   "execution_count": 9,
   "metadata": {},
   "outputs": [
    {
     "name": "stdout",
     "output_type": "stream",
     "text": [
      "Decompressing Neuron in minimal output mode...please wait\n",
      "Pulled from Table Decomposition so setting split_index = 0\n",
      "Number of Neurons found = 1\n"
     ]
    }
   ],
   "source": [
    "neuron_obj = du.decomposition_with_spine_recalculation(segment_id,\n",
    "                                                      split_index=split_index)"
   ]
  },
  {
   "cell_type": "code",
   "execution_count": 10,
   "metadata": {},
   "outputs": [],
   "source": [
    "if type(neuron_obj) == tuple:\n",
    "    neuron_obj = neuron_obj[0][split_index]"
   ]
  },
  {
   "cell_type": "code",
   "execution_count": 11,
   "metadata": {},
   "outputs": [
    {
     "data": {
      "text/plain": [
       "864691135426651890"
      ]
     },
     "execution_count": 11,
     "metadata": {},
     "output_type": "execute_result"
    }
   ],
   "source": [
    "neuron_obj.segment_id"
   ]
  },
  {
   "cell_type": "code",
   "execution_count": 12,
   "metadata": {},
   "outputs": [
    {
     "name": "stdout",
     "output_type": "stream",
     "text": [
      "\n",
      " Working on visualization type: mesh\n",
      "\n",
      " Working on visualization type: skeleton\n"
     ]
    },
    {
     "data": {
      "application/vnd.jupyter.widget-view+json": {
       "model_id": "7211df45dfff4e77b4f1719e1042b142",
       "version_major": 2,
       "version_minor": 0
      },
      "text/plain": [
       "VBox(children=(Figure(camera=PerspectiveCamera(fov=46.0, position=(0.0, 0.0, 2.0), projectionMatrix=(1.0, 0.0,…"
      ]
     },
     "metadata": {},
     "output_type": "display_data"
    }
   ],
   "source": [
    "nviz.visualize_neuron(neuron_obj,\n",
    "                     limb_branch_dict=\"all\")"
   ]
  },
  {
   "cell_type": "code",
   "execution_count": 13,
   "metadata": {
    "scrolled": true
   },
   "outputs": [
    {
     "name": "stdout",
     "output_type": "stream",
     "text": [
      "\n",
      "Part 1: Axon like branchese \n",
      "{'L0': array([ 0,  1,  2,  3,  4,  5,  6,  7,  8,  9, 10, 11, 12, 13, 14, 15, 16,\n",
      "       17, 18, 19, 20, 21, 22, 23, 24, 25, 26, 27, 28, 29, 30, 31, 32, 33,\n",
      "       34, 35, 36, 37]), 'L2': array([0]), 'L5': array([1]), 'L7': array([0]), 'L8': array([0])}\n",
      "Limb L0 soma angle: 164.26 \n",
      "Limb L1 soma angle: 106.84 \n",
      "Limb L2 soma angle: 17.13 \n",
      "Limb L3 soma angle: 49.37 \n",
      "Limb L4 soma angle: 136.14 \n",
      "Limb L5 soma angle: 160.68 \n",
      "Limb L6 soma angle: 85.6 \n",
      "Limb L7 soma angle: 81.61 \n",
      "Limb L8 soma angle: 95.44 \n",
      "\n",
      "Part 2: possible_axon_limbs = [0, 1, 4, 5, 6, 7, 8]\n",
      "\n",
      "Phase 2: Working on Limb L0\n",
      "nodes_to_eliminate = []\n",
      "\n",
      "Phase 2: Working on Limb L1\n",
      "nodes_to_eliminate = [6]\n",
      "\n",
      "Phase 2: Working on Limb L4\n",
      "nodes_to_eliminate = [0]\n",
      "\n",
      "Phase 2: Working on Limb L5\n",
      "nodes_to_eliminate = [2]\n",
      "\n",
      "Phase 2: Working on Limb L6\n",
      "nodes_to_eliminate = []\n",
      "\n",
      "Phase 2: Working on Limb L7\n",
      "nodes_to_eliminate = [0]\n",
      "The filtered network is empty so just leaving the candidates as empty lists\n",
      "\n",
      "Phase 2: Working on Limb L8\n",
      "nodes_to_eliminate = [0]\n",
      "The filtered network is empty so just leaving the candidates as empty lists\n",
      "\n",
      "----Working on Limb L0-----\n",
      "No nodes were eliminated so don't need to add back any candidates\n",
      "\n",
      "----Working on Limb L1-----\n",
      "No endpoints were eliminated so don't need to add back any candidates\n",
      "\n",
      "----Working on Limb L4-----\n",
      "No endpoints were eliminated so don't need to add back any candidates\n",
      "\n",
      "----Working on Limb L5-----\n",
      "No endpoints were eliminated so don't need to add back any candidates\n",
      "\n",
      "----Working on Limb L6-----\n",
      "No nodes were eliminated so don't need to add back any candidates\n",
      "\n",
      "----Working on Limb L7-----\n",
      "network was only of size 1 and that node was eliminated so returning that as the only candidate\n",
      "\n",
      "----Working on Limb L8-----\n",
      "network was only of size 1 and that node was eliminated so returning that as the only candidate\n",
      "\n",
      " Working on visualization type: mesh\n"
     ]
    },
    {
     "data": {
      "application/vnd.jupyter.widget-view+json": {
       "model_id": "5a57e8ffc357462aa86af3b15dcdc147",
       "version_major": 2,
       "version_minor": 0
      },
      "text/plain": [
       "VBox(children=(Figure(camera=PerspectiveCamera(fov=46.0, position=(0.0, 0.0, 2.0), projectionMatrix=(1.0, 0.0,…"
      ]
     },
     "metadata": {},
     "output_type": "display_data"
    },
    {
     "name": "stdout",
     "output_type": "stream",
     "text": [
      "Final Candidates\n",
      "\n",
      "Limb 0\n",
      "Candidate 0 (forestgreen): array([ 0,  1,  2,  3,  4,  5,  6,  7,  8,  9, 10, 11, 12, 13, 14, 15, 16,\n",
      "       17, 18, 19, 20, 21, 22, 23, 24, 25, 26, 27, 28, 29, 30, 31, 32, 33,\n",
      "       34, 35, 36, 37])\n",
      "\n",
      "Limb 1\n",
      "Candidate 0 (orange): array([4])\n",
      "Candidate 1 (cyan): array([0, 1, 2, 3, 5])\n",
      "\n",
      "Limb 4\n",
      "Candidate 0 (gold): array([1])\n",
      "Candidate 1 (brown): array([2, 3, 4])\n",
      "\n",
      "Limb 5\n",
      "Candidate 0 (cyan): array([0])\n",
      "Candidate 1 (blue): array([1])\n",
      "\n",
      "Limb 6\n",
      "Candidate 0 (orange): array([0, 1, 2])\n",
      "\n",
      "Limb 7\n",
      "Candidate 0 (olive): array([0])\n",
      "\n",
      "Limb 8\n",
      "Candidate 0 (brown): array([0])\n",
      "Part 3: axon_subgraph_candidates = {0: [[0, 1, 2, 3, 4, 5, 6, 7, 8, 9, 10, 11, 12, 13, 14, 15, 16, 17, 18, 19, 20, 21, 22, 23, 24, 25, 26, 27, 28, 29, 30, 31, 32, 33, 34, 35, 36, 37]], 1: [[4], [0, 1, 2, 3, 5]], 4: [[1], [2, 3, 4]], 5: [[0], [1]], 6: [[0, 1, 2]], 7: [[0]], 8: [[0]]}\n",
      "\n",
      "\n",
      " --- Working on limb 0, candidate # 0\n",
      "38 out of 38 branches are axons\n",
      "Axon percentage = 1.0\n",
      "curr_axon_angle_threshold = 95\n",
      "candidate_nodes = [ 0  1  2  3  4  5  6  7  8  9 10 11 12 13 14 15 16 17 18 19 20 21 22 23\n",
      " 24 25 26 27 28 29 30 31 32 33 34 35 36 37]\n",
      "non_axon_branches_on_subgraph = []\n",
      "endnodes_to_test = [5489]\n",
      "Skeleton paths distances = [24998.52998108]\n",
      "Filtered indexes = [0]\n",
      "len(filtered_skeletons) = 1\n",
      "sk_angles = [147.66554516]\n",
      "base_final_widths = [218.03017391 243.5590477 ]\n",
      "overall_ais_width = 213.30026019549257\n",
      "ais_width = 230.79461080739887\n",
      "Adding the following branches as true axons: [ 0.  1.  2.  3.  4.  5.  6.  7.  8.  9. 10. 11. 12. 13. 14. 15. 16. 17.\n",
      " 18. 19. 20. 21. 22. 23. 24. 25. 26. 27. 28. 29. 30. 31. 32. 33. 34. 35.\n",
      " 36. 37.]\n",
      "curr_soma_angle = 164.26\n",
      "max_axon_angle = 147.665545157858\n",
      "Changing to a better axon candidate\n",
      "\n",
      "\n",
      " --- Working on limb 1, candidate # 0\n",
      "0 out of 1 branches are axons\n",
      "Axon percentage = 0.0\n",
      "Not adding candidate no axon branches detected \n",
      "\n",
      "\n",
      " --- Working on limb 1, candidate # 1\n",
      "0 out of 5 branches are axons\n",
      "Axon percentage = 0.0\n",
      "Not adding candidate no axon branches detected \n",
      "\n",
      "\n",
      " --- Working on limb 4, candidate # 0\n",
      "0 out of 1 branches are axons\n",
      "Axon percentage = 0.0\n",
      "Not adding candidate no axon branches detected \n",
      "\n",
      "\n",
      " --- Working on limb 4, candidate # 1\n",
      "0 out of 3 branches are axons\n",
      "Axon percentage = 0.0\n",
      "Not adding candidate no axon branches detected \n",
      "\n",
      "\n",
      " --- Working on limb 5, candidate # 0\n",
      "0 out of 1 branches are axons\n",
      "Axon percentage = 0.0\n",
      "Not adding candidate no axon branches detected \n",
      "\n",
      "\n",
      " --- Working on limb 5, candidate # 1\n",
      "1 out of 1 branches are axons\n",
      "Axon percentage = 1.0\n",
      "curr_axon_angle_threshold = 95\n",
      "candidate_nodes = [1 2]\n",
      "non_axon_branches_on_subgraph = [2]\n",
      "endnodes_to_test = [0]\n",
      "Skeleton paths distances = [16066.74858607]\n",
      "Filtered indexes = []\n",
      "len(filtered_skeletons) = 1\n",
      "sk_angles = [124.35004368]\n",
      "base_final_widths = [325.38891954 237.69399071 339.07688401]\n",
      "overall_ais_width = 325.38891954105776\n",
      "ais_width = 300.71993141815307\n",
      "Adding the following branches as true axons: [1]\n",
      "curr_soma_angle = 160.68\n",
      "max_axon_angle = 124.35004368019995\n",
      "Not replacing best axon because angle (124.35004368019995) was less than the 147.665545157858 \n",
      "and/or skeletal_length_ratio (10.652760176990283) was not less than 1/best_axon_skeletal_legnth_ratio (0.05)\n",
      "\n",
      "\n",
      " --- Working on limb 6, candidate # 0\n",
      "0 out of 3 branches are axons\n",
      "Axon percentage = 0.0\n",
      "Not adding candidate no axon branches detected \n",
      "\n",
      "\n",
      " --- Working on limb 7, candidate # 0\n",
      "1 out of 1 branches are axons\n",
      "Axon percentage = 1.0\n",
      "curr_axon_angle_threshold = 95\n",
      "candidate_nodes = [0]\n",
      "non_axon_branches_on_subgraph = []\n",
      "endnodes_to_test = [81]\n",
      "Skeleton paths distances = [11922.33110165]\n",
      "Filtered indexes = []\n",
      "len(filtered_skeletons) = 1\n",
      "sk_angles = [94.38668164]\n",
      "Not adding candidate because no angles ([94.38668164]) passed the threhold 95 \n",
      "\n",
      "\n",
      " --- Working on limb 8, candidate # 0\n",
      "1 out of 1 branches are axons\n",
      "Axon percentage = 1.0\n",
      "curr_axon_angle_threshold = 95\n",
      "candidate_nodes = [0]\n",
      "non_axon_branches_on_subgraph = []\n",
      "endnodes_to_test = [0]\n",
      "Skeleton paths distances = [11753.84289471]\n",
      "Filtered indexes = []\n",
      "len(filtered_skeletons) = 1\n",
      "sk_angles = [93.83384575]\n",
      "Not adding candidate because no angles ([93.83384575]) passed the threhold 95 \n",
      "Using the best axon approach\n",
      "\n",
      "\n",
      "Part 4: final_true_axons = {'L0': array([ 0.,  1.,  2.,  3.,  4.,  5.,  6.,  7.,  8.,  9., 10., 11., 12.,\n",
      "       13., 14., 15., 16., 17., 18., 19., 20., 21., 22., 23., 24., 25.,\n",
      "       26., 27., 28., 29., 30., 31., 32., 33., 34., 35., 36., 37.])}\n",
      "\n",
      " Working on visualization type: mesh\n"
     ]
    },
    {
     "data": {
      "application/vnd.jupyter.widget-view+json": {
       "model_id": "068864bef045449e8626053bd056c0ef",
       "version_major": 2,
       "version_minor": 0
      },
      "text/plain": [
       "VBox(children=(Figure(camera=PerspectiveCamera(fov=46.0, position=(0.0, 0.0, 2.0), projectionMatrix=(1.0, 0.0,…"
      ]
     },
     "metadata": {},
     "output_type": "display_data"
    },
    {
     "data": {
      "text/plain": [
       "({'L0': array([ 0.,  1.,  2.,  3.,  4.,  5.,  6.,  7.,  8.,  9., 10., 11., 12.,\n",
       "         13., 14., 15., 16., 17., 18., 19., 20., 21., 22., 23., 24., 25.,\n",
       "         26., 27., 28., 29., 30., 31., 32., 33., 34., 35., 36., 37.])},\n",
       " {})"
      ]
     },
     "execution_count": 13,
     "metadata": {},
     "output_type": "execute_result"
    }
   ],
   "source": [
    "clu.axon_classification(neuron_obj,\n",
    "                        plot_candidates=True,\n",
    "                       best_axon=True,\n",
    "                       plot_axons=True)"
   ]
  },
  {
   "cell_type": "markdown",
   "metadata": {},
   "source": [
    "# Erasing the starting branch from the axon so can test if axon is not starter"
   ]
  },
  {
   "cell_type": "code",
   "execution_count": 15,
   "metadata": {},
   "outputs": [],
   "source": [
    "axon_limb_branch_dict= neuron_obj.axon_limb_branch_dict\n",
    "\n",
    "axon_limb_name = neuron_obj.axon_limb_name\n",
    "curr_limb = neuron_obj[axon_limb_name]\n",
    "axon_branches = axon_limb_branch_dict[axon_limb_name]\n",
    "curr_limb.current_starting_node,neuron_obj.axon_starting_branch\n",
    "\n",
    "neuron_obj[axon_limb_name][neuron_obj.axon_starting_branch].labels = []"
   ]
  },
  {
   "cell_type": "code",
   "execution_count": 16,
   "metadata": {},
   "outputs": [
    {
     "name": "stdout",
     "output_type": "stream",
     "text": [
      "\n",
      " Working on visualization type: mesh\n"
     ]
    },
    {
     "data": {
      "application/vnd.jupyter.widget-view+json": {
       "model_id": "15ff3ebdd33442c98b6a20cac52a3adb",
       "version_major": 2,
       "version_minor": 0
      },
      "text/plain": [
       "VBox(children=(Figure(camera=PerspectiveCamera(fov=46.0, position=(0.0, 0.0, 2.0), projectionMatrix=(1.0, 0.0,…"
      ]
     },
     "metadata": {},
     "output_type": "display_data"
    }
   ],
   "source": [
    "nviz.plot_axon(neuron_obj)"
   ]
  },
  {
   "cell_type": "markdown",
   "metadata": {},
   "source": [
    "# The whole process of replacing the axon with higher fidelity"
   ]
  },
  {
   "cell_type": "code",
   "execution_count": 23,
   "metadata": {
    "scrolled": true
   },
   "outputs": [
    {
     "name": "stdout",
     "output_type": "stream",
     "text": [
      "Starting axon branch was not the limb starting node so generating border vertices and computing upstream branch\n",
      "upstream_node_to_axon_starting_branch = 17\n"
     ]
    },
    {
     "name": "stderr",
     "output_type": "stream",
     "text": [
      "\r",
      "  0%|          | 0/1 [00:00<?, ?it/s]"
     ]
    },
    {
     "name": "stdout",
     "output_type": "stream",
     "text": [
      "root_curr = [790860.5 811995.9 608767.9]\n",
      "Time for preparing soma vertices and root: 0.0009968280792236328\n",
      "invalidation_d = 2000\n",
      "cc_vertex_thresh = 10\n"
     ]
    },
    {
     "data": {
      "application/vnd.jupyter.widget-view+json": {
       "model_id": "643cb78ef9f849b8ae92fc7658e9b216",
       "version_major": 2,
       "version_minor": 0
      },
      "text/plain": [
       "HBox(children=(FloatProgress(value=0.0, max=52559.0), HTML(value='')))"
      ]
     },
     "metadata": {},
     "output_type": "display_data"
    },
    {
     "name": "stderr",
     "output_type": "stream",
     "text": [
      "100%|██████████| 1/1 [00:01<00:00,  1.22s/it]"
     ]
    },
    {
     "name": "stdout",
     "output_type": "stream",
     "text": [
      "\n"
     ]
    },
    {
     "name": "stderr",
     "output_type": "stream",
     "text": [
      "\n"
     ]
    },
    {
     "name": "stdout",
     "output_type": "stream",
     "text": [
      "meshparty_segment_size = 100\n",
      "Time for 1st pass MP skeletonization: 1.8477072715759277\n",
      "connecting at the root\n",
      "branches_touching_root = [96]\n",
      "combining close nodes\n",
      "combine_threshold = 1300\n",
      "length of Graph = 13164\n",
      "Working on path [546. 548. 550. 551.]\n",
      "path_degrees = [3, 2, 2, 3]\n",
      "Working on path [2840. 2847. 2855. 2864. 2882. 2901. 2904.]\n",
      "path_degrees = [3, 2, 2, 2, 2, 2, 3]\n",
      "Working on path [5264. 5282. 5298. 5301.]\n",
      "path_degrees = [3, 2, 2, 3]\n",
      "Working on path [5352. 5367. 5376.]\n",
      "path_degrees = [3, 2, 3]\n",
      "Working on path [8430. 8435. 8441. 8446. 8450. 8452.]\n",
      "path_degrees = [3, 2, 2, 2, 2, 3]\n",
      "Working on path [11939. 11950. 11956.]\n",
      "path_degrees = [3, 2, 3]\n",
      "Working on path [13169. 11967. 11973. 11981. 11986. 11992.]\n",
      "path_degrees = [4, 2, 2, 2, 2, 3]\n",
      "Working on path [13170. 11997. 12004. 12012. 12018. 12029. 12035.]\n",
      "path_degrees = [5, 2, 2, 2, 2, 2, 3]\n",
      "Working on path [12024. 12026. 12032. 13171.]\n",
      "path_degrees = [3, 2, 2, 6]\n",
      "Working on path [12213. 12218. 12224. 12230. 12234. 12239.]\n",
      "path_degrees = [3, 2, 2, 2, 2, 3]\n",
      "Working on path [12695. 12697. 12699. 12701. 12703.]\n",
      "path_degrees = [3, 2, 2, 2, 3]\n",
      "Working on path [13174. 12704. 12705. 12706. 12707. 12708.]\n",
      "path_degrees = [4, 2, 2, 2, 2, 3]\n",
      "After combining close endpoints max(kept_branches_idx) = 96, len(kept_branches_idx) = 85\n",
      "empty_indices % = 0.0\n",
      " conflict_indices % = 0.019171647348622277\n"
     ]
    },
    {
     "data": {
      "application/vnd.jupyter.widget-view+json": {
       "model_id": "a8c5dcfe6f324a1dadae0b0ed2ecb516",
       "version_major": 2,
       "version_minor": 0
      },
      "text/plain": [
       "HBox(children=(FloatProgress(value=0.0, max=39.0), HTML(value='')))"
      ]
     },
     "metadata": {},
     "output_type": "display_data"
    },
    {
     "name": "stdout",
     "output_type": "stream",
     "text": [
      "\n",
      "AFTER face_lookup_resolved_test\n"
     ]
    },
    {
     "data": {
      "application/vnd.jupyter.widget-view+json": {
       "model_id": "d057d94f286f4950a87ab86231c830dd",
       "version_major": 2,
       "version_minor": 0
      },
      "text/plain": [
       "HBox(children=(FloatProgress(value=0.0, max=85.0), HTML(value='')))"
      ]
     },
     "metadata": {},
     "output_type": "display_data"
    },
    {
     "name": "stdout",
     "output_type": "stream",
     "text": [
      "\n",
      "Decomposing first pass: 7.274913311004639\n",
      "Only Using MeshParty Skeletonization and Mesh Correspondence\n",
      "Another print\n",
      "Divinding into MP and MAP pieces: 7.295608520507812e-05\n",
      "Total time for MAP sublimb processing 4.0531158447265625e-06\n",
      "---- Working on MP Decomposition #0 ----\n",
      "Using Quicker soma_to_piece_touching_vertices because no MAP and only one sublimb_mesh piece \n",
      "MP filtering soma verts: 0.0008726119995117188\n",
      "Fixing Possible Soma Extension Branch for Sublimb 0\n",
      "Total time for mesh KDTree = 0.05454730987548828\n",
      "sbv[0].reshape(-1,3) = [[790860.5 811995.9 608767.9]]\n",
      "closest_sk_pt_coord BEFORE = [790853.15182382 812466.53649434 608680.77565095]\n",
      "current_skeleton.shape = (323, 2, 3)\n",
      "node_for_stitch = 61: [790853.15182382 812466.53649434 608680.77565095]\n",
      "node_for_stitch AFTER = 61: [790853.15182382 812466.53649434 608680.77565095]\n",
      "possible_node_loc = [  0 323]\n",
      "possible_node_loc AFTER = [  0 323]\n",
      "curr_shortest_path = [61, 60.0, 59.0, 58.0, 57.0, 56.0, 55.0, 54.0, 53.0, 52.0, 51.0, 50.0, 49.0, 48.0, 47.0, 46.0, 45.0, 44.0, 43.0, 42.0, 41.0, 40.0, 39.0, 38.0, 37.0, 36.0, 35.0, 34.0, 33.0, 32.0, 31.0, 30.0, 29.0, 28.0, 27.0, 26.0, 25.0, 24.0, 23.0, 22.0, 21.0, 20.0, 19.0, 18.0, 17.0, 16.0, 15.0, 14.0, 13.0, 12.0, 11.0, 10.0, 9.0, 8.0, 7.0, 6.0, 5.0, 4.0, 3.0, 2.0, 1.0, 0.0]\n",
      "Current stitch point was not a branch or endpoint, shortest_path_length to one = 6099.182706806471\n",
      "change_status for create soma extending pieces = False\n",
      "closest_sk_pt_coord AFTER = [790853.15182382 812466.53649434 608680.77565095]\n",
      "Adding new branch to skeleton\n",
      "border_average_coordinate = [790859.8375 812153.725  608787.6   ]\n",
      "endpoints_must_keep = {0: array([[790859.8375, 812153.725 , 608787.6   ]])}\n",
      "match_sk_branches = []\n",
      "orig_vertex = [790853.15182382 812466.53649434 608680.77565095]\n",
      "match_sk_branches = [84]\n"
     ]
    },
    {
     "data": {
      "application/vnd.jupyter.widget-view+json": {
       "model_id": "075b3164e7fc4dcc9c1db143403d1e3f",
       "version_major": 2,
       "version_minor": 0
      },
      "text/plain": [
       "HBox(children=(FloatProgress(value=1.0, bar_style='info', max=1.0), HTML(value='')))"
      ]
     },
     "metadata": {},
     "output_type": "display_data"
    },
    {
     "name": "stdout",
     "output_type": "stream",
     "text": [
      "\n",
      "\n",
      "\n",
      "--- Working on 1-to-1 correspondence-----\n",
      "max(original_labels),len(original_labels) = (2, 3)\n",
      "empty_indices % = 0.13814180929095354\n",
      " conflict_indices % = 0.03863080684596577\n"
     ]
    },
    {
     "data": {
      "application/vnd.jupyter.widget-view+json": {
       "model_id": "0fe7805c82774e0ea8ae22bcc9ed7ea4",
       "version_major": 2,
       "version_minor": 0
      },
      "text/plain": [
       "HBox(children=(FloatProgress(value=0.0, max=7.0), HTML(value='')))"
      ]
     },
     "metadata": {},
     "output_type": "display_data"
    },
    {
     "name": "stdout",
     "output_type": "stream",
     "text": [
      "\n",
      "AFTER face_lookup_resolved_test\n",
      "Took 0 iterations to expand the label back\n",
      "empty_indices % = 0.0\n",
      " conflict_indices % = 0.0\n"
     ]
    },
    {
     "data": {
      "application/vnd.jupyter.widget-view+json": {
       "model_id": "ef7e2621bebc4f348f400a6985b823e8",
       "version_major": 2,
       "version_minor": 0
      },
      "text/plain": [
       "HBox(children=(FloatProgress(value=1.0, bar_style='info', max=1.0), HTML(value='')))"
      ]
     },
     "metadata": {},
     "output_type": "display_data"
    },
    {
     "name": "stdout",
     "output_type": "stream",
     "text": [
      "\n",
      "AFTER face_lookup_resolved_test\n"
     ]
    },
    {
     "data": {
      "application/vnd.jupyter.widget-view+json": {
       "model_id": "2e2a774fd8bf458f81cbe17597cab323",
       "version_major": 2,
       "version_minor": 0
      },
      "text/plain": [
       "HBox(children=(FloatProgress(value=0.0, max=3.0), HTML(value='')))"
      ]
     },
     "metadata": {},
     "output_type": "display_data"
    },
    {
     "name": "stdout",
     "output_type": "stream",
     "text": [
      "\n",
      "curr_width_median = 197.88097550436527\n",
      "curr_width_median = 519.9688317550754\n",
      "curr_width_median = 432.0143434871103\n",
      "checked segment branches after soma add on\n",
      "MP (because soma touching verts) soma extension add: 3.3198788166046143\n",
      "There were not both MAP and MP pieces so skipping the stitch resolving phase\n",
      "Time for decomp of Limb = 12.77604079246521\n",
      "Number of matching vertices = 8\n",
      "Only one endpoint after filtering away the endpoints that are not on the skeleton\n",
      "Using Distance measure skeletal_distance\n",
      "endpoints_must_keep = [[790859.8375 812153.725  608787.6   ]]\n",
      "Number of end_nodes BEFORE filtering = 51\n",
      "all_single_nodes_to_eliminate = [17]\n"
     ]
    },
    {
     "data": {
      "application/vnd.jupyter.widget-view+json": {
       "model_id": "da394fd7716b466d9581f15b53154114",
       "version_major": 2,
       "version_minor": 0
      },
      "text/plain": [
       "HBox(children=(FloatProgress(value=0.0, max=4.0), HTML(value='')))"
      ]
     },
     "metadata": {},
     "output_type": "display_data"
    },
    {
     "name": "stdout",
     "output_type": "stream",
     "text": [
      "\n",
      "Removed 3 skeletal branches\n"
     ]
    },
    {
     "data": {
      "application/vnd.jupyter.widget-view+json": {
       "model_id": "b517315257ca4f54a359a1d4d5424e91",
       "version_major": 2,
       "version_minor": 0
      },
      "text/plain": [
       "HBox(children=(FloatProgress(value=0.0, max=87.0), HTML(value='')))"
      ]
     },
     "metadata": {},
     "output_type": "display_data"
    },
    {
     "name": "stdout",
     "output_type": "stream",
     "text": [
      "\n",
      "104949 104950\n",
      "For marked faces: None\n",
      "empty_indices % = 0.0\n",
      " conflict_indices % = 0.0\n"
     ]
    },
    {
     "data": {
      "application/vnd.jupyter.widget-view+json": {
       "model_id": "91656c2a84044a438c87baf7cd2ab55c",
       "version_major": 2,
       "version_minor": 0
      },
      "text/plain": [
       "HBox(children=(FloatProgress(value=1.0, bar_style='info', max=1.0), HTML(value='')))"
      ]
     },
     "metadata": {},
     "output_type": "display_data"
    },
    {
     "name": "stdout",
     "output_type": "stream",
     "text": [
      "\n",
      "AFTER face_lookup_resolved_test\n"
     ]
    },
    {
     "data": {
      "application/vnd.jupyter.widget-view+json": {
       "model_id": "259fb5622a87439d9b93d2fc5eef74cd",
       "version_major": 2,
       "version_minor": 0
      },
      "text/plain": [
       "HBox(children=(FloatProgress(value=0.0, max=81.0), HTML(value='')))"
      ]
     },
     "metadata": {},
     "output_type": "display_data"
    },
    {
     "name": "stdout",
     "output_type": "stream",
     "text": [
      "\n",
      "Readjusting starting axon branch skeleton\n",
      "Fixing the axon starting branch endpoint to align with upstream branch\n",
      "Starting Branch 33 skeleton before fix: (1, 2, 3)\n",
      "Starting Branch 33 skeleton AFTER fix: (2, 2, 3)\n"
     ]
    },
    {
     "data": {
      "application/vnd.jupyter.widget-view+json": {
       "model_id": "6bd6a6212e2a498980fd51da9d9adb0c",
       "version_major": 2,
       "version_minor": 0
      },
      "text/plain": [
       "VBox(children=(Figure(camera=PerspectiveCamera(fov=46.0, position=(0.0, 0.0, 2.0), projectionMatrix=(1.0, 0.0,…"
      ]
     },
     "metadata": {},
     "output_type": "display_data"
    },
    {
     "name": "stdout",
     "output_type": "stream",
     "text": [
      "axon_limb_name= L0\n",
      "Limb starting node = 17\n",
      "Axon starting node = 15\n",
      "axon_branches = [ 0  1  2  3  4  5  6  7  8  9 10 11 12 13 14 15 16 18 19 20 21 22 23 24\n",
      " 25 26 27 28 29 30 31 32 33 34 35 36 37]\n",
      "Using Original Starting Info\n",
      "Leftover Nodes After Axon Deletion = [17]\n",
      "New Node names = [81]\n",
      "Leftover Nodes Mapping = {17: 81}\n",
      "concept_network_dict = {0: [<networkx_utils.GraphOrderedEdges object at 0x7efdea827748>]}\n",
      "New Limb Object\n"
     ]
    },
    {
     "data": {
      "application/vnd.jupyter.widget-view+json": {
       "model_id": "bf7bc5e71d87452d8b9519f57de01f28",
       "version_major": 2,
       "version_minor": 0
      },
      "text/plain": [
       "VBox(children=(Figure(camera=PerspectiveCamera(fov=46.0, position=(0.0, 0.0, 2.0), projectionMatrix=(1.0, 0.0,…"
      ]
     },
     "metadata": {},
     "output_type": "display_data"
    },
    {
     "name": "stdout",
     "output_type": "stream",
     "text": [
      "Working on limb L0 branch 33\n",
      "Working on limb L0 branch 29\n",
      "Working on limb L0 branch 34\n",
      "Working on limb L0 branch 13\n",
      "Working on limb L0 branch 28\n",
      "Working on limb L0 branch 40\n",
      "Working on limb L0 branch 50\n",
      "Working on limb L0 branch 7\n",
      "Working on limb L0 branch 12\n",
      "Working on limb L0 branch 26\n",
      "Working on limb L0 branch 30\n",
      "Working on limb L0 branch 47\n",
      "Working on limb L0 branch 51\n",
      "Working on limb L0 branch 32\n",
      "Working on limb L0 branch 35\n",
      "Working on limb L0 branch 38\n",
      "Working on limb L0 branch 48\n",
      "Working on limb L0 branch 44\n",
      "Working on limb L0 branch 52\n",
      "Working on limb L0 branch 24\n",
      "Working on limb L0 branch 31\n",
      "Working on limb L0 branch 22\n",
      "Working on limb L0 branch 37\n",
      "Working on limb L0 branch 55\n",
      "Working on limb L0 branch 56\n",
      "Working on limb L0 branch 27\n",
      "Working on limb L0 branch 41\n",
      "Working on limb L0 branch 45\n",
      "Working on limb L0 branch 54\n",
      "Working on limb L0 branch 57\n",
      "Working on limb L0 branch 10\n",
      "Working on limb L0 branch 20\n",
      "Working on limb L0 branch 25\n",
      "Working on limb L0 branch 11\n",
      "Working on limb L0 branch 19\n",
      "Working on limb L0 branch 42\n",
      "Working on limb L0 branch 46\n",
      "Working on limb L0 branch 60\n",
      "Working on limb L0 branch 61\n",
      "Working on limb L0 branch 53\n",
      "Working on limb L0 branch 58\n",
      "Working on limb L0 branch 59\n",
      "Working on limb L0 branch 36\n",
      "Working on limb L0 branch 49\n",
      "Working on limb L0 branch 0\n",
      "Working on limb L0 branch 6\n",
      "Working on limb L0 branch 15\n",
      "Working on limb L0 branch 16\n",
      "Working on limb L0 branch 23\n",
      "Working on limb L0 branch 39\n",
      "Working on limb L0 branch 43\n",
      "Working on limb L0 branch 75\n",
      "Working on limb L0 branch 76\n",
      "Working on limb L0 branch 77\n",
      "Working on limb L0 branch 78\n",
      "Working on limb L0 branch 62\n",
      "Working on limb L0 branch 63\n",
      "Working on limb L0 branch 5\n",
      "Working on limb L0 branch 14\n",
      "Working on limb L0 branch 17\n",
      "Working on limb L0 branch 21\n",
      "Working on limb L0 branch 79\n",
      "Working on limb L0 branch 80\n",
      "Working on limb L0 branch 65\n",
      "Working on limb L0 branch 66\n",
      "Working on limb L0 branch 67\n",
      "Working on limb L0 branch 69\n",
      "Working on limb L0 branch 70\n",
      "Working on limb L0 branch 71\n",
      "Working on limb L0 branch 8\n",
      "Working on limb L0 branch 9\n",
      "Working on limb L0 branch 4\n",
      "Working on limb L0 branch 18\n",
      "Working on limb L0 branch 64\n",
      "Working on limb L0 branch 68\n",
      "Working on limb L0 branch 72\n",
      "Working on limb L0 branch 73\n",
      "Working on limb L0 branch 74\n",
      "Working on limb L0 branch 1\n",
      "Working on limb L0 branch 2\n",
      "Working on limb L0 branch 3\n",
      "Working on limb L0 branch 33\n",
      "No spines and using precomputed width\n",
      "Working on limb L0 branch 29\n",
      "No spines and using precomputed width\n",
      "Working on limb L0 branch 34\n",
      "No spines and using precomputed width\n",
      "Working on limb L0 branch 13\n",
      "No spines and using precomputed width\n",
      "Working on limb L0 branch 28\n",
      "No spines and using precomputed width\n",
      "Working on limb L0 branch 40\n",
      "No spines and using precomputed width\n",
      "Working on limb L0 branch 50\n",
      "No spines and using precomputed width\n",
      "Working on limb L0 branch 7\n",
      "No spines and using precomputed width\n",
      "Working on limb L0 branch 12\n",
      "No spines and using precomputed width\n",
      "Working on limb L0 branch 26\n",
      "No spines and using precomputed width\n",
      "Working on limb L0 branch 30\n",
      "No spines and using precomputed width\n",
      "Working on limb L0 branch 47\n",
      "No spines and using precomputed width\n",
      "Working on limb L0 branch 51\n",
      "No spines and using precomputed width\n",
      "Working on limb L0 branch 32\n",
      "No spines and using precomputed width\n",
      "Working on limb L0 branch 35\n",
      "No spines and using precomputed width\n",
      "Working on limb L0 branch 38\n",
      "No spines and using precomputed width\n",
      "Working on limb L0 branch 48\n",
      "No spines and using precomputed width\n",
      "Working on limb L0 branch 44\n",
      "No spines and using precomputed width\n",
      "Working on limb L0 branch 52\n",
      "No spines and using precomputed width\n",
      "Working on limb L0 branch 24\n",
      "No spines and using precomputed width\n",
      "Working on limb L0 branch 31\n",
      "No spines and using precomputed width\n",
      "Working on limb L0 branch 22\n",
      "No spines and using precomputed width\n",
      "Working on limb L0 branch 37\n",
      "No spines and using precomputed width\n",
      "Working on limb L0 branch 55\n",
      "No spines and using precomputed width\n",
      "Working on limb L0 branch 56\n",
      "No spines and using precomputed width\n",
      "Working on limb L0 branch 27\n",
      "No spines and using precomputed width\n",
      "Working on limb L0 branch 41\n",
      "No spines and using precomputed width\n",
      "Working on limb L0 branch 45\n",
      "No spines and using precomputed width\n",
      "Working on limb L0 branch 54\n",
      "No spines and using precomputed width\n",
      "Working on limb L0 branch 57\n",
      "No spines and using precomputed width\n",
      "Working on limb L0 branch 10\n",
      "No spines and using precomputed width\n",
      "Working on limb L0 branch 20\n",
      "No spines and using precomputed width\n",
      "Working on limb L0 branch 25\n",
      "No spines and using precomputed width\n",
      "Working on limb L0 branch 11\n",
      "No spines and using precomputed width\n",
      "Working on limb L0 branch 19\n",
      "No spines and using precomputed width\n",
      "Working on limb L0 branch 42\n",
      "No spines and using precomputed width\n",
      "Working on limb L0 branch 46\n",
      "No spines and using precomputed width\n",
      "Working on limb L0 branch 60\n",
      "No spines and using precomputed width\n",
      "Working on limb L0 branch 61\n",
      "No spines and using precomputed width\n",
      "Working on limb L0 branch 53\n",
      "No spines and using precomputed width\n",
      "Working on limb L0 branch 58\n",
      "No spines and using precomputed width\n",
      "Working on limb L0 branch 59\n",
      "No spines and using precomputed width\n",
      "Working on limb L0 branch 36\n",
      "No spines and using precomputed width\n",
      "Working on limb L0 branch 49\n",
      "No spines and using precomputed width\n",
      "Working on limb L0 branch 0\n",
      "No spines and using precomputed width\n",
      "Working on limb L0 branch 6\n",
      "No spines and using precomputed width\n",
      "Working on limb L0 branch 15\n",
      "No spines and using precomputed width\n",
      "Working on limb L0 branch 16\n",
      "No spines and using precomputed width\n",
      "Working on limb L0 branch 23\n",
      "No spines and using precomputed width\n",
      "Working on limb L0 branch 39\n",
      "No spines and using precomputed width\n",
      "Working on limb L0 branch 43\n",
      "No spines and using precomputed width\n",
      "Working on limb L0 branch 75\n",
      "No spines and using precomputed width\n",
      "Working on limb L0 branch 76\n",
      "No spines and using precomputed width\n",
      "Working on limb L0 branch 77\n",
      "No spines and using precomputed width\n",
      "Working on limb L0 branch 78\n",
      "No spines and using precomputed width\n",
      "Working on limb L0 branch 62\n",
      "No spines and using precomputed width\n",
      "Working on limb L0 branch 63\n",
      "No spines and using precomputed width\n",
      "Working on limb L0 branch 5\n",
      "No spines and using precomputed width\n",
      "Working on limb L0 branch 14\n",
      "No spines and using precomputed width\n",
      "Working on limb L0 branch 17\n",
      "No spines and using precomputed width\n",
      "Working on limb L0 branch 21\n",
      "No spines and using precomputed width\n",
      "Working on limb L0 branch 79\n",
      "No spines and using precomputed width\n",
      "Working on limb L0 branch 80\n",
      "No spines and using precomputed width\n",
      "Working on limb L0 branch 65\n",
      "No spines and using precomputed width\n",
      "Working on limb L0 branch 66\n",
      "No spines and using precomputed width\n",
      "Working on limb L0 branch 67\n",
      "No spines and using precomputed width\n",
      "Working on limb L0 branch 69\n",
      "No spines and using precomputed width\n",
      "Working on limb L0 branch 70\n",
      "No spines and using precomputed width\n",
      "Working on limb L0 branch 71\n",
      "No spines and using precomputed width\n",
      "Working on limb L0 branch 8\n",
      "No spines and using precomputed width\n",
      "Working on limb L0 branch 9\n",
      "No spines and using precomputed width\n",
      "Working on limb L0 branch 4\n",
      "No spines and using precomputed width\n",
      "Working on limb L0 branch 18\n",
      "No spines and using precomputed width\n",
      "Working on limb L0 branch 64\n",
      "No spines and using precomputed width\n",
      "Working on limb L0 branch 68\n",
      "No spines and using precomputed width\n",
      "Working on limb L0 branch 72\n",
      "No spines and using precomputed width\n",
      "Working on limb L0 branch 73\n",
      "No spines and using precomputed width\n",
      "Working on limb L0 branch 74\n",
      "No spines and using precomputed width\n",
      "Working on limb L0 branch 1\n",
      "No spines and using precomputed width\n",
      "Working on limb L0 branch 2\n",
      "No spines and using precomputed width\n",
      "Working on limb L0 branch 3\n",
      "No spines and using precomputed width\n",
      "\n",
      "\n",
      "----Working on seperate_graph 0----\n",
      "\n",
      "\n",
      "---------Working on soma_idx = 0, soma_group_idx 0, endpt = [790137.51049628 756301.14481754 608453.20500677]---------\n",
      "Starting_edge inside branches_to_conept = [[790137.51049628 756301.14481754 608453.20500677]\n",
      " [790967.69167966 812245.34612964 608663.40676765]]\n",
      "At the start, starting_node (in terms of the skeleton, that shouldn't match the starting edge) = [28]\n",
      "printing out current edge:\n",
      "[[790137.51049628 756301.14481754 608453.20500677]\n",
      " [790967.69167966 812245.34612964 608663.40676765]]\n",
      "edge_endpoints_to_process was empty so exiting loop after 82 iterations\n",
      "starting_node in concept map (that should match the starting edge) = 81\n",
      "Total time for branches to concept conversion = 0.6544876098632812\n",
      "\n",
      "Done generating concept network \n",
      "\n",
      "\n"
     ]
    },
    {
     "name": "stdout",
     "output_type": "stream",
     "text": [
      "\n",
      " Working on visualization type: mesh\n",
      "\n",
      " Working on visualization type: skeleton\n"
     ]
    },
    {
     "data": {
      "application/vnd.jupyter.widget-view+json": {
       "model_id": "8ad0732e7079416ca46fa31482dab1e1",
       "version_major": 2,
       "version_minor": 0
      },
      "text/plain": [
       "VBox(children=(Figure(camera=PerspectiveCamera(fov=46.0, position=(0.0, 0.0, 2.0), projectionMatrix=(1.0, 0.0,…"
      ]
     },
     "metadata": {},
     "output_type": "display_data"
    }
   ],
   "source": [
    "new_neuron_obj = pru.refine_axon_for_high_fidelity_skeleton(neuron_obj=neuron_obj,\n",
    "    plot_new_axon_limb_correspondence = True,\n",
    "    plot_new_limb_object = True,\n",
    "    plot_final_revised_axon_branch=True,\n",
    "     verbose = True,)\n",
    "\n"
   ]
  },
  {
   "cell_type": "code",
   "execution_count": null,
   "metadata": {},
   "outputs": [],
   "source": [
    "pru.proofread_neuron(new_neuron_obj,\n",
    "                    plot_limb_branch_filter_with_disconnect_effect=True)"
   ]
  },
  {
   "cell_type": "code",
   "execution_count": null,
   "metadata": {},
   "outputs": [],
   "source": []
  }
 ],
 "metadata": {
  "kernelspec": {
   "display_name": "Python 3",
   "language": "python",
   "name": "python3"
  },
  "language_info": {
   "codemirror_mode": {
    "name": "ipython",
    "version": 3
   },
   "file_extension": ".py",
   "mimetype": "text/x-python",
   "name": "python",
   "nbconvert_exporter": "python",
   "pygments_lexer": "ipython3",
   "version": "3.6.9"
  }
 },
 "nbformat": 4,
 "nbformat_minor": 4
}
