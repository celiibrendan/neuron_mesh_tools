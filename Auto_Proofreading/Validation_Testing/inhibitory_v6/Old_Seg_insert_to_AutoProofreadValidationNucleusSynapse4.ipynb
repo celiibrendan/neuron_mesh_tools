{
 "cells": [
  {
   "cell_type": "code",
   "execution_count": 1,
   "metadata": {},
   "outputs": [],
   "source": [
    "%load_ext autoreload\n",
    "%autoreload 2"
   ]
  },
  {
   "cell_type": "code",
   "execution_count": 2,
   "metadata": {},
   "outputs": [
    {
     "name": "stderr",
     "output_type": "stream",
     "text": [
      "INFO - 2021-05-24 15:22:29,228 - settings - Setting database.host to at-database.ad.bcm.edu\n",
      "INFO - 2021-05-24 15:22:29,230 - settings - Setting database.user to celiib\n",
      "INFO - 2021-05-24 15:22:29,231 - settings - Setting database.password to newceliipass\n",
      "INFO - 2021-05-24 15:22:29,235 - settings - Setting stores to {'minnie65': {'protocol': 'file', 'location': '/mnt/dj-stor01/platinum/minnie65', 'stage': '/mnt/dj-stor01/platinum/minnie65'}, 'meshes': {'protocol': 'file', 'location': '/mnt/dj-stor01/platinum/minnie65/02/meshes', 'stage': '/mnt/dj-stor01/platinum/minnie65/02/meshes'}, 'decimated_meshes': {'protocol': 'file', 'location': '/mnt/dj-stor01/platinum/minnie65/02/decimated_meshes', 'stage': '/mnt/dj-stor01/platinum/minnie65/02/decimated_meshes'}, 'skeletons': {'protocol': 'file', 'location': '/mnt/dj-stor01/platinum/minnie65/02/skeletons'}}\n",
      "INFO - 2021-05-24 15:22:29,236 - settings - Setting enable_python_native_blobs to True\n",
      "INFO - 2021-05-24 15:22:29,248 - connection - Connected celiib@at-database.ad.bcm.edu:3306\n"
     ]
    },
    {
     "name": "stdout",
     "output_type": "stream",
     "text": [
      "Connecting celiib@at-database.ad.bcm.edu:3306\n"
     ]
    },
    {
     "name": "stderr",
     "output_type": "stream",
     "text": [
      "INFO - 2021-05-24 15:22:29,764 - settings - Setting enable_python_native_blobs to True\n",
      "INFO - 2021-05-24 15:22:29,768 - settings - Setting database.host to at-database.ad.bcm.edu\n",
      "INFO - 2021-05-24 15:22:29,769 - settings - Setting database.user to celiib\n",
      "INFO - 2021-05-24 15:22:29,770 - settings - Setting database.password to newceliipass\n",
      "INFO - 2021-05-24 15:22:29,770 - settings - Setting database.host to at-database.ad.bcm.edu\n",
      "INFO - 2021-05-24 15:22:29,771 - settings - Setting database.user to celiib\n",
      "INFO - 2021-05-24 15:22:29,772 - settings - Setting database.password to newceliipass\n",
      "INFO - 2021-05-24 15:22:29,773 - settings - Setting enable_python_native_blobs to True\n",
      "INFO - 2021-05-24 15:22:30,282 - settings - Setting enable_python_native_blobs to True\n",
      "INFO - 2021-05-24 15:22:30,332 - settings - Setting database.host to at-database.ad.bcm.edu\n",
      "INFO - 2021-05-24 15:22:30,333 - settings - Setting database.user to celiib\n",
      "INFO - 2021-05-24 15:22:30,334 - settings - Setting database.password to newceliipass\n",
      "INFO - 2021-05-24 15:22:30,336 - settings - Setting enable_python_native_blobs to True\n",
      "INFO - 2021-05-24 15:22:30,934 - settings - Setting enable_python_native_blobs to True\n"
     ]
    }
   ],
   "source": [
    "from os import sys\n",
    "sys.path.append(\"/meshAfterParty/meshAfterParty/\")\n",
    "import datajoint as dj\n",
    "import datajoint_utils as du\n",
    "\n",
    "minnie,schema = du.configure_minnie_vm()\n",
    "m65mat = du.m65mat"
   ]
  },
  {
   "cell_type": "code",
   "execution_count": 3,
   "metadata": {},
   "outputs": [],
   "source": [
    "import validation_utils as vu\n",
    "import system_utils as su"
   ]
  },
  {
   "cell_type": "code",
   "execution_count": 4,
   "metadata": {},
   "outputs": [],
   "source": [
    "# original_seg_ids = ((minnie.Decimation() & minnie.AutoProofreadValidationSegment4() & \"decimation_ratio=0.25\") \n",
    "#                     - minnie.AutoProofreadValidationSegmentExclude4()).fetch(\"segment_id\")\n",
    "# original_seg_ids"
   ]
  },
  {
   "cell_type": "code",
   "execution_count": 5,
   "metadata": {},
   "outputs": [],
   "source": [
    "\n",
    "original_seg_ids = su.decompress_pickle(\"original_seg_ids\")"
   ]
  },
  {
   "cell_type": "code",
   "execution_count": 6,
   "metadata": {},
   "outputs": [
    {
     "data": {
      "text/plain": [
       "(138,)"
      ]
     },
     "execution_count": 6,
     "metadata": {},
     "output_type": "execute_result"
    }
   ],
   "source": [
    "original_seg_ids.shape"
   ]
  },
  {
   "cell_type": "code",
   "execution_count": 7,
   "metadata": {},
   "outputs": [
    {
     "name": "stdout",
     "output_type": "stream",
     "text": [
      "\n",
      "Working on neuron 0: 864691134988385914\n",
      "# of end nodes = 25\n",
      "last_datetime_edited = 2021-01-29 07:24:32.323000\n",
      "# of presyn = 286, # of postsyn = 4848\n",
      "Total synapses BEFORE filtering = 5134\n",
      "Total synapses AFTER filtering = 5090\n",
      "3814 out of 5090 were within threshold of original mesh\n"
     ]
    },
    {
     "name": "stderr",
     "output_type": "stream",
     "text": [
      "/meshAfterParty/meshAfterParty/validation_utils.py:2432: SettingWithCopyWarning: \n",
      "A value is trying to be set on a copy of a slice from a DataFrame.\n",
      "Try using .loc[row_indexer,col_indexer] = value instead\n",
      "\n",
      "See the caveats in the documentation: https://pandas.pydata.org/pandas-docs/stable/user_guide/indexing.html#returning-a-view-versus-a-copy\n",
      "  syn_match[\"synapse_x\"] = np.array(list(syn_match[\"ctr_pt_position\"].to_numpy()))[:,0]\n",
      "/meshAfterParty/meshAfterParty/validation_utils.py:2433: SettingWithCopyWarning: \n",
      "A value is trying to be set on a copy of a slice from a DataFrame.\n",
      "Try using .loc[row_indexer,col_indexer] = value instead\n",
      "\n",
      "See the caveats in the documentation: https://pandas.pydata.org/pandas-docs/stable/user_guide/indexing.html#returning-a-view-versus-a-copy\n",
      "  syn_match[\"synapse_y\"] = np.array(list(syn_match[\"ctr_pt_position\"].to_numpy()))[:,1]\n",
      "/meshAfterParty/meshAfterParty/validation_utils.py:2434: SettingWithCopyWarning: \n",
      "A value is trying to be set on a copy of a slice from a DataFrame.\n",
      "Try using .loc[row_indexer,col_indexer] = value instead\n",
      "\n",
      "See the caveats in the documentation: https://pandas.pydata.org/pandas-docs/stable/user_guide/indexing.html#returning-a-view-versus-a-copy\n",
      "  syn_match[\"synapse_z\"] = np.array(list(syn_match[\"ctr_pt_position\"].to_numpy()))[:,2]\n"
     ]
    },
    {
     "name": "stdout",
     "output_type": "stream",
     "text": [
      "\n",
      "Working on neuron 1: 864691134988386682\n",
      "# of end nodes = 45\n",
      "last_datetime_edited = 2021-04-02 22:55:41.476000\n",
      "# of presyn = 3556, # of postsyn = 14364\n",
      "Total synapses BEFORE filtering = 17920\n",
      "Total synapses AFTER filtering = 17802\n",
      "2177 out of 17802 were within threshold of original mesh\n",
      "\n",
      "Working on neuron 2: 864691135012395766\n"
     ]
    },
    {
     "name": "stderr",
     "output_type": "stream",
     "text": [
      "/meshAfterParty/meshAfterParty/validation_utils.py:2432: SettingWithCopyWarning: \n",
      "A value is trying to be set on a copy of a slice from a DataFrame.\n",
      "Try using .loc[row_indexer,col_indexer] = value instead\n",
      "\n",
      "See the caveats in the documentation: https://pandas.pydata.org/pandas-docs/stable/user_guide/indexing.html#returning-a-view-versus-a-copy\n",
      "  syn_match[\"synapse_x\"] = np.array(list(syn_match[\"ctr_pt_position\"].to_numpy()))[:,0]\n",
      "/meshAfterParty/meshAfterParty/validation_utils.py:2433: SettingWithCopyWarning: \n",
      "A value is trying to be set on a copy of a slice from a DataFrame.\n",
      "Try using .loc[row_indexer,col_indexer] = value instead\n",
      "\n",
      "See the caveats in the documentation: https://pandas.pydata.org/pandas-docs/stable/user_guide/indexing.html#returning-a-view-versus-a-copy\n",
      "  syn_match[\"synapse_y\"] = np.array(list(syn_match[\"ctr_pt_position\"].to_numpy()))[:,1]\n",
      "/meshAfterParty/meshAfterParty/validation_utils.py:2434: SettingWithCopyWarning: \n",
      "A value is trying to be set on a copy of a slice from a DataFrame.\n",
      "Try using .loc[row_indexer,col_indexer] = value instead\n",
      "\n",
      "See the caveats in the documentation: https://pandas.pydata.org/pandas-docs/stable/user_guide/indexing.html#returning-a-view-versus-a-copy\n",
      "  syn_match[\"synapse_z\"] = np.array(list(syn_match[\"ctr_pt_position\"].to_numpy()))[:,2]\n"
     ]
    },
    {
     "name": "stdout",
     "output_type": "stream",
     "text": [
      "# of end nodes = 18\n",
      "last_datetime_edited = 2020-12-22 21:40:28.735000\n",
      "# of presyn = 1109, # of postsyn = 6472\n",
      "Total synapses BEFORE filtering = 7581\n",
      "Total synapses AFTER filtering = 7493\n",
      "6718 out of 7493 were within threshold of original mesh\n"
     ]
    },
    {
     "name": "stderr",
     "output_type": "stream",
     "text": [
      "/meshAfterParty/meshAfterParty/validation_utils.py:2432: SettingWithCopyWarning: \n",
      "A value is trying to be set on a copy of a slice from a DataFrame.\n",
      "Try using .loc[row_indexer,col_indexer] = value instead\n",
      "\n",
      "See the caveats in the documentation: https://pandas.pydata.org/pandas-docs/stable/user_guide/indexing.html#returning-a-view-versus-a-copy\n",
      "  syn_match[\"synapse_x\"] = np.array(list(syn_match[\"ctr_pt_position\"].to_numpy()))[:,0]\n",
      "/meshAfterParty/meshAfterParty/validation_utils.py:2433: SettingWithCopyWarning: \n",
      "A value is trying to be set on a copy of a slice from a DataFrame.\n",
      "Try using .loc[row_indexer,col_indexer] = value instead\n",
      "\n",
      "See the caveats in the documentation: https://pandas.pydata.org/pandas-docs/stable/user_guide/indexing.html#returning-a-view-versus-a-copy\n",
      "  syn_match[\"synapse_y\"] = np.array(list(syn_match[\"ctr_pt_position\"].to_numpy()))[:,1]\n",
      "/meshAfterParty/meshAfterParty/validation_utils.py:2434: SettingWithCopyWarning: \n",
      "A value is trying to be set on a copy of a slice from a DataFrame.\n",
      "Try using .loc[row_indexer,col_indexer] = value instead\n",
      "\n",
      "See the caveats in the documentation: https://pandas.pydata.org/pandas-docs/stable/user_guide/indexing.html#returning-a-view-versus-a-copy\n",
      "  syn_match[\"synapse_z\"] = np.array(list(syn_match[\"ctr_pt_position\"].to_numpy()))[:,2]\n"
     ]
    },
    {
     "name": "stdout",
     "output_type": "stream",
     "text": [
      "\n",
      "Working on neuron 3: 864691135012541942\n",
      "# of end nodes = 10\n",
      "last_datetime_edited = 2021-03-03 15:32:35.434000\n",
      "# of presyn = 373, # of postsyn = 3897\n",
      "Total synapses BEFORE filtering = 4270\n",
      "Total synapses AFTER filtering = 4240\n",
      "4138 out of 4240 were within threshold of original mesh\n"
     ]
    },
    {
     "name": "stderr",
     "output_type": "stream",
     "text": [
      "/meshAfterParty/meshAfterParty/validation_utils.py:2432: SettingWithCopyWarning: \n",
      "A value is trying to be set on a copy of a slice from a DataFrame.\n",
      "Try using .loc[row_indexer,col_indexer] = value instead\n",
      "\n",
      "See the caveats in the documentation: https://pandas.pydata.org/pandas-docs/stable/user_guide/indexing.html#returning-a-view-versus-a-copy\n",
      "  syn_match[\"synapse_x\"] = np.array(list(syn_match[\"ctr_pt_position\"].to_numpy()))[:,0]\n",
      "/meshAfterParty/meshAfterParty/validation_utils.py:2433: SettingWithCopyWarning: \n",
      "A value is trying to be set on a copy of a slice from a DataFrame.\n",
      "Try using .loc[row_indexer,col_indexer] = value instead\n",
      "\n",
      "See the caveats in the documentation: https://pandas.pydata.org/pandas-docs/stable/user_guide/indexing.html#returning-a-view-versus-a-copy\n",
      "  syn_match[\"synapse_y\"] = np.array(list(syn_match[\"ctr_pt_position\"].to_numpy()))[:,1]\n",
      "/meshAfterParty/meshAfterParty/validation_utils.py:2434: SettingWithCopyWarning: \n",
      "A value is trying to be set on a copy of a slice from a DataFrame.\n",
      "Try using .loc[row_indexer,col_indexer] = value instead\n",
      "\n",
      "See the caveats in the documentation: https://pandas.pydata.org/pandas-docs/stable/user_guide/indexing.html#returning-a-view-versus-a-copy\n",
      "  syn_match[\"synapse_z\"] = np.array(list(syn_match[\"ctr_pt_position\"].to_numpy()))[:,2]\n"
     ]
    },
    {
     "name": "stdout",
     "output_type": "stream",
     "text": [
      "\n",
      "Working on neuron 4: 864691135058565275\n",
      "# of end nodes = 16\n",
      "last_datetime_edited = 2021-02-17 19:19:41.711000\n",
      "# of presyn = 813, # of postsyn = 19749\n",
      "Total synapses BEFORE filtering = 20562\n",
      "Total synapses AFTER filtering = 20474\n",
      "19766 out of 20474 were within threshold of original mesh\n"
     ]
    },
    {
     "name": "stderr",
     "output_type": "stream",
     "text": [
      "/meshAfterParty/meshAfterParty/validation_utils.py:2432: SettingWithCopyWarning: \n",
      "A value is trying to be set on a copy of a slice from a DataFrame.\n",
      "Try using .loc[row_indexer,col_indexer] = value instead\n",
      "\n",
      "See the caveats in the documentation: https://pandas.pydata.org/pandas-docs/stable/user_guide/indexing.html#returning-a-view-versus-a-copy\n",
      "  syn_match[\"synapse_x\"] = np.array(list(syn_match[\"ctr_pt_position\"].to_numpy()))[:,0]\n",
      "/meshAfterParty/meshAfterParty/validation_utils.py:2433: SettingWithCopyWarning: \n",
      "A value is trying to be set on a copy of a slice from a DataFrame.\n",
      "Try using .loc[row_indexer,col_indexer] = value instead\n",
      "\n",
      "See the caveats in the documentation: https://pandas.pydata.org/pandas-docs/stable/user_guide/indexing.html#returning-a-view-versus-a-copy\n",
      "  syn_match[\"synapse_y\"] = np.array(list(syn_match[\"ctr_pt_position\"].to_numpy()))[:,1]\n",
      "/meshAfterParty/meshAfterParty/validation_utils.py:2434: SettingWithCopyWarning: \n",
      "A value is trying to be set on a copy of a slice from a DataFrame.\n",
      "Try using .loc[row_indexer,col_indexer] = value instead\n",
      "\n",
      "See the caveats in the documentation: https://pandas.pydata.org/pandas-docs/stable/user_guide/indexing.html#returning-a-view-versus-a-copy\n",
      "  syn_match[\"synapse_z\"] = np.array(list(syn_match[\"ctr_pt_position\"].to_numpy()))[:,2]\n"
     ]
    },
    {
     "name": "stdout",
     "output_type": "stream",
     "text": [
      "\n",
      "Working on neuron 5: 864691135058593947\n",
      "# of end nodes = 22\n",
      "last_datetime_edited = 2021-02-09 22:03:42.983000\n",
      "# of presyn = 790, # of postsyn = 7798\n",
      "Total synapses BEFORE filtering = 8588\n",
      "Total synapses AFTER filtering = 8544\n",
      "8482 out of 8544 were within threshold of original mesh\n"
     ]
    },
    {
     "name": "stderr",
     "output_type": "stream",
     "text": [
      "/meshAfterParty/meshAfterParty/validation_utils.py:2432: SettingWithCopyWarning: \n",
      "A value is trying to be set on a copy of a slice from a DataFrame.\n",
      "Try using .loc[row_indexer,col_indexer] = value instead\n",
      "\n",
      "See the caveats in the documentation: https://pandas.pydata.org/pandas-docs/stable/user_guide/indexing.html#returning-a-view-versus-a-copy\n",
      "  syn_match[\"synapse_x\"] = np.array(list(syn_match[\"ctr_pt_position\"].to_numpy()))[:,0]\n",
      "/meshAfterParty/meshAfterParty/validation_utils.py:2433: SettingWithCopyWarning: \n",
      "A value is trying to be set on a copy of a slice from a DataFrame.\n",
      "Try using .loc[row_indexer,col_indexer] = value instead\n",
      "\n",
      "See the caveats in the documentation: https://pandas.pydata.org/pandas-docs/stable/user_guide/indexing.html#returning-a-view-versus-a-copy\n",
      "  syn_match[\"synapse_y\"] = np.array(list(syn_match[\"ctr_pt_position\"].to_numpy()))[:,1]\n",
      "/meshAfterParty/meshAfterParty/validation_utils.py:2434: SettingWithCopyWarning: \n",
      "A value is trying to be set on a copy of a slice from a DataFrame.\n",
      "Try using .loc[row_indexer,col_indexer] = value instead\n",
      "\n",
      "See the caveats in the documentation: https://pandas.pydata.org/pandas-docs/stable/user_guide/indexing.html#returning-a-view-versus-a-copy\n",
      "  syn_match[\"synapse_z\"] = np.array(list(syn_match[\"ctr_pt_position\"].to_numpy()))[:,2]\n"
     ]
    },
    {
     "name": "stdout",
     "output_type": "stream",
     "text": [
      "\n",
      "Working on neuron 6: 864691135065011524\n",
      "# of end nodes = 14\n",
      "last_datetime_edited = 2021-03-10 15:33:35.257000\n",
      "# of presyn = 266, # of postsyn = 3735\n",
      "Total synapses BEFORE filtering = 4001\n",
      "Total synapses AFTER filtering = 3969\n",
      "3922 out of 3969 were within threshold of original mesh\n"
     ]
    },
    {
     "name": "stderr",
     "output_type": "stream",
     "text": [
      "/meshAfterParty/meshAfterParty/validation_utils.py:2432: SettingWithCopyWarning: \n",
      "A value is trying to be set on a copy of a slice from a DataFrame.\n",
      "Try using .loc[row_indexer,col_indexer] = value instead\n",
      "\n",
      "See the caveats in the documentation: https://pandas.pydata.org/pandas-docs/stable/user_guide/indexing.html#returning-a-view-versus-a-copy\n",
      "  syn_match[\"synapse_x\"] = np.array(list(syn_match[\"ctr_pt_position\"].to_numpy()))[:,0]\n",
      "/meshAfterParty/meshAfterParty/validation_utils.py:2433: SettingWithCopyWarning: \n",
      "A value is trying to be set on a copy of a slice from a DataFrame.\n",
      "Try using .loc[row_indexer,col_indexer] = value instead\n",
      "\n",
      "See the caveats in the documentation: https://pandas.pydata.org/pandas-docs/stable/user_guide/indexing.html#returning-a-view-versus-a-copy\n",
      "  syn_match[\"synapse_y\"] = np.array(list(syn_match[\"ctr_pt_position\"].to_numpy()))[:,1]\n",
      "/meshAfterParty/meshAfterParty/validation_utils.py:2434: SettingWithCopyWarning: \n",
      "A value is trying to be set on a copy of a slice from a DataFrame.\n",
      "Try using .loc[row_indexer,col_indexer] = value instead\n",
      "\n",
      "See the caveats in the documentation: https://pandas.pydata.org/pandas-docs/stable/user_guide/indexing.html#returning-a-view-versus-a-copy\n",
      "  syn_match[\"synapse_z\"] = np.array(list(syn_match[\"ctr_pt_position\"].to_numpy()))[:,2]\n"
     ]
    },
    {
     "name": "stdout",
     "output_type": "stream",
     "text": [
      "\n",
      "Working on neuron 7: 864691135099943968\n",
      "# of end nodes = 2\n",
      "last_datetime_edited = 2021-02-24 15:57:07.483000\n",
      "# of presyn = 97, # of postsyn = 5371\n",
      "Total synapses BEFORE filtering = 5468\n",
      "Total synapses AFTER filtering = 5438\n",
      "5376 out of 5438 were within threshold of original mesh\n"
     ]
    },
    {
     "name": "stderr",
     "output_type": "stream",
     "text": [
      "/meshAfterParty/meshAfterParty/validation_utils.py:2432: SettingWithCopyWarning: \n",
      "A value is trying to be set on a copy of a slice from a DataFrame.\n",
      "Try using .loc[row_indexer,col_indexer] = value instead\n",
      "\n",
      "See the caveats in the documentation: https://pandas.pydata.org/pandas-docs/stable/user_guide/indexing.html#returning-a-view-versus-a-copy\n",
      "  syn_match[\"synapse_x\"] = np.array(list(syn_match[\"ctr_pt_position\"].to_numpy()))[:,0]\n",
      "/meshAfterParty/meshAfterParty/validation_utils.py:2433: SettingWithCopyWarning: \n",
      "A value is trying to be set on a copy of a slice from a DataFrame.\n",
      "Try using .loc[row_indexer,col_indexer] = value instead\n",
      "\n",
      "See the caveats in the documentation: https://pandas.pydata.org/pandas-docs/stable/user_guide/indexing.html#returning-a-view-versus-a-copy\n",
      "  syn_match[\"synapse_y\"] = np.array(list(syn_match[\"ctr_pt_position\"].to_numpy()))[:,1]\n",
      "/meshAfterParty/meshAfterParty/validation_utils.py:2434: SettingWithCopyWarning: \n",
      "A value is trying to be set on a copy of a slice from a DataFrame.\n",
      "Try using .loc[row_indexer,col_indexer] = value instead\n",
      "\n",
      "See the caveats in the documentation: https://pandas.pydata.org/pandas-docs/stable/user_guide/indexing.html#returning-a-view-versus-a-copy\n",
      "  syn_match[\"synapse_z\"] = np.array(list(syn_match[\"ctr_pt_position\"].to_numpy()))[:,2]\n"
     ]
    },
    {
     "name": "stdout",
     "output_type": "stream",
     "text": [
      "\n",
      "Working on neuron 8: 864691135113167769\n",
      "# of end nodes = 71\n",
      "last_datetime_edited = 2020-09-21 20:57:42.646000\n",
      "# of presyn = 892, # of postsyn = 2651\n",
      "Total synapses BEFORE filtering = 3543\n",
      "Total synapses AFTER filtering = 3513\n",
      "2462 out of 3513 were within threshold of original mesh\n"
     ]
    },
    {
     "name": "stderr",
     "output_type": "stream",
     "text": [
      "/meshAfterParty/meshAfterParty/validation_utils.py:2432: SettingWithCopyWarning: \n",
      "A value is trying to be set on a copy of a slice from a DataFrame.\n",
      "Try using .loc[row_indexer,col_indexer] = value instead\n",
      "\n",
      "See the caveats in the documentation: https://pandas.pydata.org/pandas-docs/stable/user_guide/indexing.html#returning-a-view-versus-a-copy\n",
      "  syn_match[\"synapse_x\"] = np.array(list(syn_match[\"ctr_pt_position\"].to_numpy()))[:,0]\n",
      "/meshAfterParty/meshAfterParty/validation_utils.py:2433: SettingWithCopyWarning: \n",
      "A value is trying to be set on a copy of a slice from a DataFrame.\n",
      "Try using .loc[row_indexer,col_indexer] = value instead\n",
      "\n",
      "See the caveats in the documentation: https://pandas.pydata.org/pandas-docs/stable/user_guide/indexing.html#returning-a-view-versus-a-copy\n",
      "  syn_match[\"synapse_y\"] = np.array(list(syn_match[\"ctr_pt_position\"].to_numpy()))[:,1]\n",
      "/meshAfterParty/meshAfterParty/validation_utils.py:2434: SettingWithCopyWarning: \n",
      "A value is trying to be set on a copy of a slice from a DataFrame.\n",
      "Try using .loc[row_indexer,col_indexer] = value instead\n",
      "\n",
      "See the caveats in the documentation: https://pandas.pydata.org/pandas-docs/stable/user_guide/indexing.html#returning-a-view-versus-a-copy\n",
      "  syn_match[\"synapse_z\"] = np.array(list(syn_match[\"ctr_pt_position\"].to_numpy()))[:,2]\n"
     ]
    },
    {
     "name": "stdout",
     "output_type": "stream",
     "text": [
      "\n",
      "Working on neuron 9: 864691135210028736\n",
      "# of end nodes = 9\n",
      "last_datetime_edited = 2020-12-09 04:30:59.237000\n",
      "# of presyn = 611, # of postsyn = 3928\n",
      "Total synapses BEFORE filtering = 4539\n",
      "Total synapses AFTER filtering = 4523\n",
      "3931 out of 4523 were within threshold of original mesh\n"
     ]
    },
    {
     "name": "stderr",
     "output_type": "stream",
     "text": [
      "/meshAfterParty/meshAfterParty/validation_utils.py:2432: SettingWithCopyWarning: \n",
      "A value is trying to be set on a copy of a slice from a DataFrame.\n",
      "Try using .loc[row_indexer,col_indexer] = value instead\n",
      "\n",
      "See the caveats in the documentation: https://pandas.pydata.org/pandas-docs/stable/user_guide/indexing.html#returning-a-view-versus-a-copy\n",
      "  syn_match[\"synapse_x\"] = np.array(list(syn_match[\"ctr_pt_position\"].to_numpy()))[:,0]\n",
      "/meshAfterParty/meshAfterParty/validation_utils.py:2433: SettingWithCopyWarning: \n",
      "A value is trying to be set on a copy of a slice from a DataFrame.\n",
      "Try using .loc[row_indexer,col_indexer] = value instead\n",
      "\n",
      "See the caveats in the documentation: https://pandas.pydata.org/pandas-docs/stable/user_guide/indexing.html#returning-a-view-versus-a-copy\n",
      "  syn_match[\"synapse_y\"] = np.array(list(syn_match[\"ctr_pt_position\"].to_numpy()))[:,1]\n",
      "/meshAfterParty/meshAfterParty/validation_utils.py:2434: SettingWithCopyWarning: \n",
      "A value is trying to be set on a copy of a slice from a DataFrame.\n",
      "Try using .loc[row_indexer,col_indexer] = value instead\n",
      "\n",
      "See the caveats in the documentation: https://pandas.pydata.org/pandas-docs/stable/user_guide/indexing.html#returning-a-view-versus-a-copy\n",
      "  syn_match[\"synapse_z\"] = np.array(list(syn_match[\"ctr_pt_position\"].to_numpy()))[:,2]\n"
     ]
    },
    {
     "name": "stdout",
     "output_type": "stream",
     "text": [
      "\n",
      "Working on neuron 10: 864691135212632448\n",
      "# of end nodes = 78\n",
      "last_datetime_edited = 2020-08-24 19:45:56.422000\n",
      "# of presyn = 832, # of postsyn = 4046\n",
      "Total synapses BEFORE filtering = 4878\n",
      "Total synapses AFTER filtering = 4818\n",
      "3779 out of 4818 were within threshold of original mesh\n"
     ]
    },
    {
     "name": "stderr",
     "output_type": "stream",
     "text": [
      "/meshAfterParty/meshAfterParty/validation_utils.py:2432: SettingWithCopyWarning: \n",
      "A value is trying to be set on a copy of a slice from a DataFrame.\n",
      "Try using .loc[row_indexer,col_indexer] = value instead\n",
      "\n",
      "See the caveats in the documentation: https://pandas.pydata.org/pandas-docs/stable/user_guide/indexing.html#returning-a-view-versus-a-copy\n",
      "  syn_match[\"synapse_x\"] = np.array(list(syn_match[\"ctr_pt_position\"].to_numpy()))[:,0]\n",
      "/meshAfterParty/meshAfterParty/validation_utils.py:2433: SettingWithCopyWarning: \n",
      "A value is trying to be set on a copy of a slice from a DataFrame.\n",
      "Try using .loc[row_indexer,col_indexer] = value instead\n",
      "\n",
      "See the caveats in the documentation: https://pandas.pydata.org/pandas-docs/stable/user_guide/indexing.html#returning-a-view-versus-a-copy\n",
      "  syn_match[\"synapse_y\"] = np.array(list(syn_match[\"ctr_pt_position\"].to_numpy()))[:,1]\n",
      "/meshAfterParty/meshAfterParty/validation_utils.py:2434: SettingWithCopyWarning: \n",
      "A value is trying to be set on a copy of a slice from a DataFrame.\n",
      "Try using .loc[row_indexer,col_indexer] = value instead\n",
      "\n",
      "See the caveats in the documentation: https://pandas.pydata.org/pandas-docs/stable/user_guide/indexing.html#returning-a-view-versus-a-copy\n",
      "  syn_match[\"synapse_z\"] = np.array(list(syn_match[\"ctr_pt_position\"].to_numpy()))[:,2]\n"
     ]
    },
    {
     "name": "stdout",
     "output_type": "stream",
     "text": [
      "\n",
      "Working on neuron 11: 864691135212632704\n",
      "# of end nodes = 38\n",
      "last_datetime_edited = 2020-09-03 14:35:51.939000\n",
      "# of presyn = 1185, # of postsyn = 2775\n",
      "Total synapses BEFORE filtering = 3960\n",
      "Total synapses AFTER filtering = 3918\n",
      "2736 out of 3918 were within threshold of original mesh\n"
     ]
    },
    {
     "name": "stderr",
     "output_type": "stream",
     "text": [
      "/meshAfterParty/meshAfterParty/validation_utils.py:2432: SettingWithCopyWarning: \n",
      "A value is trying to be set on a copy of a slice from a DataFrame.\n",
      "Try using .loc[row_indexer,col_indexer] = value instead\n",
      "\n",
      "See the caveats in the documentation: https://pandas.pydata.org/pandas-docs/stable/user_guide/indexing.html#returning-a-view-versus-a-copy\n",
      "  syn_match[\"synapse_x\"] = np.array(list(syn_match[\"ctr_pt_position\"].to_numpy()))[:,0]\n",
      "/meshAfterParty/meshAfterParty/validation_utils.py:2433: SettingWithCopyWarning: \n",
      "A value is trying to be set on a copy of a slice from a DataFrame.\n",
      "Try using .loc[row_indexer,col_indexer] = value instead\n",
      "\n",
      "See the caveats in the documentation: https://pandas.pydata.org/pandas-docs/stable/user_guide/indexing.html#returning-a-view-versus-a-copy\n",
      "  syn_match[\"synapse_y\"] = np.array(list(syn_match[\"ctr_pt_position\"].to_numpy()))[:,1]\n",
      "/meshAfterParty/meshAfterParty/validation_utils.py:2434: SettingWithCopyWarning: \n",
      "A value is trying to be set on a copy of a slice from a DataFrame.\n",
      "Try using .loc[row_indexer,col_indexer] = value instead\n",
      "\n",
      "See the caveats in the documentation: https://pandas.pydata.org/pandas-docs/stable/user_guide/indexing.html#returning-a-view-versus-a-copy\n",
      "  syn_match[\"synapse_z\"] = np.array(list(syn_match[\"ctr_pt_position\"].to_numpy()))[:,2]\n"
     ]
    },
    {
     "name": "stdout",
     "output_type": "stream",
     "text": [
      "\n",
      "Working on neuron 12: 864691135212690816\n",
      "# of end nodes = 28\n",
      "last_datetime_edited = 2020-11-20 17:07:13.863000\n",
      "# of presyn = 393, # of postsyn = 2360\n",
      "Total synapses BEFORE filtering = 2753\n",
      "Total synapses AFTER filtering = 2725\n",
      "2385 out of 2725 were within threshold of original mesh\n"
     ]
    },
    {
     "name": "stderr",
     "output_type": "stream",
     "text": [
      "/meshAfterParty/meshAfterParty/validation_utils.py:2432: SettingWithCopyWarning: \n",
      "A value is trying to be set on a copy of a slice from a DataFrame.\n",
      "Try using .loc[row_indexer,col_indexer] = value instead\n",
      "\n",
      "See the caveats in the documentation: https://pandas.pydata.org/pandas-docs/stable/user_guide/indexing.html#returning-a-view-versus-a-copy\n",
      "  syn_match[\"synapse_x\"] = np.array(list(syn_match[\"ctr_pt_position\"].to_numpy()))[:,0]\n",
      "/meshAfterParty/meshAfterParty/validation_utils.py:2433: SettingWithCopyWarning: \n",
      "A value is trying to be set on a copy of a slice from a DataFrame.\n",
      "Try using .loc[row_indexer,col_indexer] = value instead\n",
      "\n",
      "See the caveats in the documentation: https://pandas.pydata.org/pandas-docs/stable/user_guide/indexing.html#returning-a-view-versus-a-copy\n",
      "  syn_match[\"synapse_y\"] = np.array(list(syn_match[\"ctr_pt_position\"].to_numpy()))[:,1]\n",
      "/meshAfterParty/meshAfterParty/validation_utils.py:2434: SettingWithCopyWarning: \n",
      "A value is trying to be set on a copy of a slice from a DataFrame.\n",
      "Try using .loc[row_indexer,col_indexer] = value instead\n",
      "\n",
      "See the caveats in the documentation: https://pandas.pydata.org/pandas-docs/stable/user_guide/indexing.html#returning-a-view-versus-a-copy\n",
      "  syn_match[\"synapse_z\"] = np.array(list(syn_match[\"ctr_pt_position\"].to_numpy()))[:,2]\n"
     ]
    },
    {
     "name": "stdout",
     "output_type": "stream",
     "text": [
      "\n",
      "Working on neuron 13: 864691135233108569\n",
      "# of end nodes = 18\n",
      "last_datetime_edited = 2020-10-25 01:59:34.456000\n",
      "# of presyn = 1137, # of postsyn = 1207\n",
      "Total synapses BEFORE filtering = 2344\n",
      "Total synapses AFTER filtering = 2326\n",
      "795 out of 2326 were within threshold of original mesh\n",
      "\n",
      "Working on neuron 14: 864691135256180143\n"
     ]
    },
    {
     "name": "stderr",
     "output_type": "stream",
     "text": [
      "/meshAfterParty/meshAfterParty/validation_utils.py:2432: SettingWithCopyWarning: \n",
      "A value is trying to be set on a copy of a slice from a DataFrame.\n",
      "Try using .loc[row_indexer,col_indexer] = value instead\n",
      "\n",
      "See the caveats in the documentation: https://pandas.pydata.org/pandas-docs/stable/user_guide/indexing.html#returning-a-view-versus-a-copy\n",
      "  syn_match[\"synapse_x\"] = np.array(list(syn_match[\"ctr_pt_position\"].to_numpy()))[:,0]\n",
      "/meshAfterParty/meshAfterParty/validation_utils.py:2433: SettingWithCopyWarning: \n",
      "A value is trying to be set on a copy of a slice from a DataFrame.\n",
      "Try using .loc[row_indexer,col_indexer] = value instead\n",
      "\n",
      "See the caveats in the documentation: https://pandas.pydata.org/pandas-docs/stable/user_guide/indexing.html#returning-a-view-versus-a-copy\n",
      "  syn_match[\"synapse_y\"] = np.array(list(syn_match[\"ctr_pt_position\"].to_numpy()))[:,1]\n",
      "/meshAfterParty/meshAfterParty/validation_utils.py:2434: SettingWithCopyWarning: \n",
      "A value is trying to be set on a copy of a slice from a DataFrame.\n",
      "Try using .loc[row_indexer,col_indexer] = value instead\n",
      "\n",
      "See the caveats in the documentation: https://pandas.pydata.org/pandas-docs/stable/user_guide/indexing.html#returning-a-view-versus-a-copy\n",
      "  syn_match[\"synapse_z\"] = np.array(list(syn_match[\"ctr_pt_position\"].to_numpy()))[:,2]\n"
     ]
    },
    {
     "name": "stdout",
     "output_type": "stream",
     "text": [
      "# of end nodes = 6\n",
      "last_datetime_edited = 2021-01-26 23:31:42.343000\n",
      "# of presyn = 354, # of postsyn = 9562\n",
      "Total synapses BEFORE filtering = 9916\n",
      "Total synapses AFTER filtering = 9896\n",
      "8554 out of 9896 were within threshold of original mesh\n"
     ]
    },
    {
     "name": "stderr",
     "output_type": "stream",
     "text": [
      "/meshAfterParty/meshAfterParty/validation_utils.py:2432: SettingWithCopyWarning: \n",
      "A value is trying to be set on a copy of a slice from a DataFrame.\n",
      "Try using .loc[row_indexer,col_indexer] = value instead\n",
      "\n",
      "See the caveats in the documentation: https://pandas.pydata.org/pandas-docs/stable/user_guide/indexing.html#returning-a-view-versus-a-copy\n",
      "  syn_match[\"synapse_x\"] = np.array(list(syn_match[\"ctr_pt_position\"].to_numpy()))[:,0]\n",
      "/meshAfterParty/meshAfterParty/validation_utils.py:2433: SettingWithCopyWarning: \n",
      "A value is trying to be set on a copy of a slice from a DataFrame.\n",
      "Try using .loc[row_indexer,col_indexer] = value instead\n",
      "\n",
      "See the caveats in the documentation: https://pandas.pydata.org/pandas-docs/stable/user_guide/indexing.html#returning-a-view-versus-a-copy\n",
      "  syn_match[\"synapse_y\"] = np.array(list(syn_match[\"ctr_pt_position\"].to_numpy()))[:,1]\n",
      "/meshAfterParty/meshAfterParty/validation_utils.py:2434: SettingWithCopyWarning: \n",
      "A value is trying to be set on a copy of a slice from a DataFrame.\n",
      "Try using .loc[row_indexer,col_indexer] = value instead\n",
      "\n",
      "See the caveats in the documentation: https://pandas.pydata.org/pandas-docs/stable/user_guide/indexing.html#returning-a-view-versus-a-copy\n",
      "  syn_match[\"synapse_z\"] = np.array(list(syn_match[\"ctr_pt_position\"].to_numpy()))[:,2]\n"
     ]
    },
    {
     "name": "stdout",
     "output_type": "stream",
     "text": [
      "\n",
      "Working on neuron 15: 864691135272164113\n",
      "# of end nodes = 55\n",
      "last_datetime_edited = 2021-02-16 22:05:01.868000\n",
      "# of presyn = 5700, # of postsyn = 15131\n",
      "Total synapses BEFORE filtering = 20831\n",
      "Total synapses AFTER filtering = 20727\n",
      "5885 out of 20727 were within threshold of original mesh\n"
     ]
    },
    {
     "name": "stderr",
     "output_type": "stream",
     "text": [
      "/meshAfterParty/meshAfterParty/validation_utils.py:2432: SettingWithCopyWarning: \n",
      "A value is trying to be set on a copy of a slice from a DataFrame.\n",
      "Try using .loc[row_indexer,col_indexer] = value instead\n",
      "\n",
      "See the caveats in the documentation: https://pandas.pydata.org/pandas-docs/stable/user_guide/indexing.html#returning-a-view-versus-a-copy\n",
      "  syn_match[\"synapse_x\"] = np.array(list(syn_match[\"ctr_pt_position\"].to_numpy()))[:,0]\n",
      "/meshAfterParty/meshAfterParty/validation_utils.py:2433: SettingWithCopyWarning: \n",
      "A value is trying to be set on a copy of a slice from a DataFrame.\n",
      "Try using .loc[row_indexer,col_indexer] = value instead\n",
      "\n",
      "See the caveats in the documentation: https://pandas.pydata.org/pandas-docs/stable/user_guide/indexing.html#returning-a-view-versus-a-copy\n",
      "  syn_match[\"synapse_y\"] = np.array(list(syn_match[\"ctr_pt_position\"].to_numpy()))[:,1]\n",
      "/meshAfterParty/meshAfterParty/validation_utils.py:2434: SettingWithCopyWarning: \n",
      "A value is trying to be set on a copy of a slice from a DataFrame.\n",
      "Try using .loc[row_indexer,col_indexer] = value instead\n",
      "\n",
      "See the caveats in the documentation: https://pandas.pydata.org/pandas-docs/stable/user_guide/indexing.html#returning-a-view-versus-a-copy\n",
      "  syn_match[\"synapse_z\"] = np.array(list(syn_match[\"ctr_pt_position\"].to_numpy()))[:,2]\n"
     ]
    },
    {
     "name": "stdout",
     "output_type": "stream",
     "text": [
      "\n",
      "Working on neuron 16: 864691135291760310\n",
      "# of end nodes = 13\n",
      "last_datetime_edited = 2021-02-02 23:16:35.474000\n",
      "# of presyn = 189, # of postsyn = 7758\n",
      "Total synapses BEFORE filtering = 7947\n",
      "Total synapses AFTER filtering = 7917\n",
      "7775 out of 7917 were within threshold of original mesh\n"
     ]
    },
    {
     "name": "stderr",
     "output_type": "stream",
     "text": [
      "/meshAfterParty/meshAfterParty/validation_utils.py:2432: SettingWithCopyWarning: \n",
      "A value is trying to be set on a copy of a slice from a DataFrame.\n",
      "Try using .loc[row_indexer,col_indexer] = value instead\n",
      "\n",
      "See the caveats in the documentation: https://pandas.pydata.org/pandas-docs/stable/user_guide/indexing.html#returning-a-view-versus-a-copy\n",
      "  syn_match[\"synapse_x\"] = np.array(list(syn_match[\"ctr_pt_position\"].to_numpy()))[:,0]\n",
      "/meshAfterParty/meshAfterParty/validation_utils.py:2433: SettingWithCopyWarning: \n",
      "A value is trying to be set on a copy of a slice from a DataFrame.\n",
      "Try using .loc[row_indexer,col_indexer] = value instead\n",
      "\n",
      "See the caveats in the documentation: https://pandas.pydata.org/pandas-docs/stable/user_guide/indexing.html#returning-a-view-versus-a-copy\n",
      "  syn_match[\"synapse_y\"] = np.array(list(syn_match[\"ctr_pt_position\"].to_numpy()))[:,1]\n",
      "/meshAfterParty/meshAfterParty/validation_utils.py:2434: SettingWithCopyWarning: \n",
      "A value is trying to be set on a copy of a slice from a DataFrame.\n",
      "Try using .loc[row_indexer,col_indexer] = value instead\n",
      "\n",
      "See the caveats in the documentation: https://pandas.pydata.org/pandas-docs/stable/user_guide/indexing.html#returning-a-view-versus-a-copy\n",
      "  syn_match[\"synapse_z\"] = np.array(list(syn_match[\"ctr_pt_position\"].to_numpy()))[:,2]\n"
     ]
    },
    {
     "name": "stdout",
     "output_type": "stream",
     "text": [
      "\n",
      "Working on neuron 17: 864691135307114822\n",
      "# of end nodes = 70\n",
      "last_datetime_edited = 2021-02-03 14:26:54.958000\n",
      "# of presyn = 1207, # of postsyn = 8545\n",
      "Total synapses BEFORE filtering = 9752\n",
      "Total synapses AFTER filtering = 9708\n",
      "8670 out of 9708 were within threshold of original mesh\n"
     ]
    },
    {
     "name": "stderr",
     "output_type": "stream",
     "text": [
      "/meshAfterParty/meshAfterParty/validation_utils.py:2432: SettingWithCopyWarning: \n",
      "A value is trying to be set on a copy of a slice from a DataFrame.\n",
      "Try using .loc[row_indexer,col_indexer] = value instead\n",
      "\n",
      "See the caveats in the documentation: https://pandas.pydata.org/pandas-docs/stable/user_guide/indexing.html#returning-a-view-versus-a-copy\n",
      "  syn_match[\"synapse_x\"] = np.array(list(syn_match[\"ctr_pt_position\"].to_numpy()))[:,0]\n",
      "/meshAfterParty/meshAfterParty/validation_utils.py:2433: SettingWithCopyWarning: \n",
      "A value is trying to be set on a copy of a slice from a DataFrame.\n",
      "Try using .loc[row_indexer,col_indexer] = value instead\n",
      "\n",
      "See the caveats in the documentation: https://pandas.pydata.org/pandas-docs/stable/user_guide/indexing.html#returning-a-view-versus-a-copy\n",
      "  syn_match[\"synapse_y\"] = np.array(list(syn_match[\"ctr_pt_position\"].to_numpy()))[:,1]\n",
      "/meshAfterParty/meshAfterParty/validation_utils.py:2434: SettingWithCopyWarning: \n",
      "A value is trying to be set on a copy of a slice from a DataFrame.\n",
      "Try using .loc[row_indexer,col_indexer] = value instead\n",
      "\n",
      "See the caveats in the documentation: https://pandas.pydata.org/pandas-docs/stable/user_guide/indexing.html#returning-a-view-versus-a-copy\n",
      "  syn_match[\"synapse_z\"] = np.array(list(syn_match[\"ctr_pt_position\"].to_numpy()))[:,2]\n"
     ]
    },
    {
     "name": "stdout",
     "output_type": "stream",
     "text": [
      "\n",
      "Working on neuron 18: 864691135334502633\n",
      "# of end nodes = 33\n",
      "last_datetime_edited = 2021-02-02 20:30:48.188000\n",
      "# of presyn = 630, # of postsyn = 6304\n",
      "Total synapses BEFORE filtering = 6934\n",
      "Total synapses AFTER filtering = 6910\n",
      "6098 out of 6910 were within threshold of original mesh\n"
     ]
    },
    {
     "name": "stderr",
     "output_type": "stream",
     "text": [
      "/meshAfterParty/meshAfterParty/validation_utils.py:2432: SettingWithCopyWarning: \n",
      "A value is trying to be set on a copy of a slice from a DataFrame.\n",
      "Try using .loc[row_indexer,col_indexer] = value instead\n",
      "\n",
      "See the caveats in the documentation: https://pandas.pydata.org/pandas-docs/stable/user_guide/indexing.html#returning-a-view-versus-a-copy\n",
      "  syn_match[\"synapse_x\"] = np.array(list(syn_match[\"ctr_pt_position\"].to_numpy()))[:,0]\n",
      "/meshAfterParty/meshAfterParty/validation_utils.py:2433: SettingWithCopyWarning: \n",
      "A value is trying to be set on a copy of a slice from a DataFrame.\n",
      "Try using .loc[row_indexer,col_indexer] = value instead\n",
      "\n",
      "See the caveats in the documentation: https://pandas.pydata.org/pandas-docs/stable/user_guide/indexing.html#returning-a-view-versus-a-copy\n",
      "  syn_match[\"synapse_y\"] = np.array(list(syn_match[\"ctr_pt_position\"].to_numpy()))[:,1]\n",
      "/meshAfterParty/meshAfterParty/validation_utils.py:2434: SettingWithCopyWarning: \n",
      "A value is trying to be set on a copy of a slice from a DataFrame.\n",
      "Try using .loc[row_indexer,col_indexer] = value instead\n",
      "\n",
      "See the caveats in the documentation: https://pandas.pydata.org/pandas-docs/stable/user_guide/indexing.html#returning-a-view-versus-a-copy\n",
      "  syn_match[\"synapse_z\"] = np.array(list(syn_match[\"ctr_pt_position\"].to_numpy()))[:,2]\n"
     ]
    },
    {
     "name": "stdout",
     "output_type": "stream",
     "text": [
      "\n",
      "Working on neuron 19: 864691135345149087\n",
      "# of end nodes = 19\n",
      "last_datetime_edited = 2021-02-02 23:24:34.440000\n",
      "# of presyn = 594, # of postsyn = 3127\n",
      "Total synapses BEFORE filtering = 3721\n",
      "Total synapses AFTER filtering = 3699\n",
      "3686 out of 3699 were within threshold of original mesh\n"
     ]
    },
    {
     "name": "stderr",
     "output_type": "stream",
     "text": [
      "/meshAfterParty/meshAfterParty/validation_utils.py:2432: SettingWithCopyWarning: \n",
      "A value is trying to be set on a copy of a slice from a DataFrame.\n",
      "Try using .loc[row_indexer,col_indexer] = value instead\n",
      "\n",
      "See the caveats in the documentation: https://pandas.pydata.org/pandas-docs/stable/user_guide/indexing.html#returning-a-view-versus-a-copy\n",
      "  syn_match[\"synapse_x\"] = np.array(list(syn_match[\"ctr_pt_position\"].to_numpy()))[:,0]\n",
      "/meshAfterParty/meshAfterParty/validation_utils.py:2433: SettingWithCopyWarning: \n",
      "A value is trying to be set on a copy of a slice from a DataFrame.\n",
      "Try using .loc[row_indexer,col_indexer] = value instead\n",
      "\n",
      "See the caveats in the documentation: https://pandas.pydata.org/pandas-docs/stable/user_guide/indexing.html#returning-a-view-versus-a-copy\n",
      "  syn_match[\"synapse_y\"] = np.array(list(syn_match[\"ctr_pt_position\"].to_numpy()))[:,1]\n",
      "/meshAfterParty/meshAfterParty/validation_utils.py:2434: SettingWithCopyWarning: \n",
      "A value is trying to be set on a copy of a slice from a DataFrame.\n",
      "Try using .loc[row_indexer,col_indexer] = value instead\n",
      "\n",
      "See the caveats in the documentation: https://pandas.pydata.org/pandas-docs/stable/user_guide/indexing.html#returning-a-view-versus-a-copy\n",
      "  syn_match[\"synapse_z\"] = np.array(list(syn_match[\"ctr_pt_position\"].to_numpy()))[:,2]\n"
     ]
    },
    {
     "name": "stdout",
     "output_type": "stream",
     "text": [
      "\n",
      "Working on neuron 20: 864691135345162399\n",
      "# of end nodes = 16\n",
      "last_datetime_edited = 2021-02-05 14:00:24.068000\n",
      "# of presyn = 196, # of postsyn = 5081\n",
      "Total synapses BEFORE filtering = 5277\n",
      "Total synapses AFTER filtering = 5243\n",
      "4738 out of 5243 were within threshold of original mesh\n"
     ]
    },
    {
     "name": "stderr",
     "output_type": "stream",
     "text": [
      "/meshAfterParty/meshAfterParty/validation_utils.py:2432: SettingWithCopyWarning: \n",
      "A value is trying to be set on a copy of a slice from a DataFrame.\n",
      "Try using .loc[row_indexer,col_indexer] = value instead\n",
      "\n",
      "See the caveats in the documentation: https://pandas.pydata.org/pandas-docs/stable/user_guide/indexing.html#returning-a-view-versus-a-copy\n",
      "  syn_match[\"synapse_x\"] = np.array(list(syn_match[\"ctr_pt_position\"].to_numpy()))[:,0]\n",
      "/meshAfterParty/meshAfterParty/validation_utils.py:2433: SettingWithCopyWarning: \n",
      "A value is trying to be set on a copy of a slice from a DataFrame.\n",
      "Try using .loc[row_indexer,col_indexer] = value instead\n",
      "\n",
      "See the caveats in the documentation: https://pandas.pydata.org/pandas-docs/stable/user_guide/indexing.html#returning-a-view-versus-a-copy\n",
      "  syn_match[\"synapse_y\"] = np.array(list(syn_match[\"ctr_pt_position\"].to_numpy()))[:,1]\n",
      "/meshAfterParty/meshAfterParty/validation_utils.py:2434: SettingWithCopyWarning: \n",
      "A value is trying to be set on a copy of a slice from a DataFrame.\n",
      "Try using .loc[row_indexer,col_indexer] = value instead\n",
      "\n",
      "See the caveats in the documentation: https://pandas.pydata.org/pandas-docs/stable/user_guide/indexing.html#returning-a-view-versus-a-copy\n",
      "  syn_match[\"synapse_z\"] = np.array(list(syn_match[\"ctr_pt_position\"].to_numpy()))[:,2]\n"
     ]
    },
    {
     "name": "stdout",
     "output_type": "stream",
     "text": [
      "\n",
      "Working on neuron 21: 864691135348272855\n",
      "# of end nodes = 42\n",
      "last_datetime_edited = 2020-12-09 19:17:09.789000\n",
      "# of presyn = 1065, # of postsyn = 6186\n",
      "Total synapses BEFORE filtering = 7251\n",
      "Total synapses AFTER filtering = 7219\n",
      "6476 out of 7219 were within threshold of original mesh\n"
     ]
    },
    {
     "name": "stderr",
     "output_type": "stream",
     "text": [
      "/meshAfterParty/meshAfterParty/validation_utils.py:2432: SettingWithCopyWarning: \n",
      "A value is trying to be set on a copy of a slice from a DataFrame.\n",
      "Try using .loc[row_indexer,col_indexer] = value instead\n",
      "\n",
      "See the caveats in the documentation: https://pandas.pydata.org/pandas-docs/stable/user_guide/indexing.html#returning-a-view-versus-a-copy\n",
      "  syn_match[\"synapse_x\"] = np.array(list(syn_match[\"ctr_pt_position\"].to_numpy()))[:,0]\n",
      "/meshAfterParty/meshAfterParty/validation_utils.py:2433: SettingWithCopyWarning: \n",
      "A value is trying to be set on a copy of a slice from a DataFrame.\n",
      "Try using .loc[row_indexer,col_indexer] = value instead\n",
      "\n",
      "See the caveats in the documentation: https://pandas.pydata.org/pandas-docs/stable/user_guide/indexing.html#returning-a-view-versus-a-copy\n",
      "  syn_match[\"synapse_y\"] = np.array(list(syn_match[\"ctr_pt_position\"].to_numpy()))[:,1]\n",
      "/meshAfterParty/meshAfterParty/validation_utils.py:2434: SettingWithCopyWarning: \n",
      "A value is trying to be set on a copy of a slice from a DataFrame.\n",
      "Try using .loc[row_indexer,col_indexer] = value instead\n",
      "\n",
      "See the caveats in the documentation: https://pandas.pydata.org/pandas-docs/stable/user_guide/indexing.html#returning-a-view-versus-a-copy\n",
      "  syn_match[\"synapse_z\"] = np.array(list(syn_match[\"ctr_pt_position\"].to_numpy()))[:,2]\n"
     ]
    },
    {
     "name": "stdout",
     "output_type": "stream",
     "text": [
      "\n",
      "Working on neuron 22: 864691135373402824\n",
      "# of end nodes = 35\n",
      "last_datetime_edited = 2020-11-17 22:49:54.943000\n",
      "# of presyn = 997, # of postsyn = 4996\n",
      "Total synapses BEFORE filtering = 5993\n",
      "Total synapses AFTER filtering = 5933\n",
      "5016 out of 5933 were within threshold of original mesh\n"
     ]
    },
    {
     "name": "stderr",
     "output_type": "stream",
     "text": [
      "/meshAfterParty/meshAfterParty/validation_utils.py:2432: SettingWithCopyWarning: \n",
      "A value is trying to be set on a copy of a slice from a DataFrame.\n",
      "Try using .loc[row_indexer,col_indexer] = value instead\n",
      "\n",
      "See the caveats in the documentation: https://pandas.pydata.org/pandas-docs/stable/user_guide/indexing.html#returning-a-view-versus-a-copy\n",
      "  syn_match[\"synapse_x\"] = np.array(list(syn_match[\"ctr_pt_position\"].to_numpy()))[:,0]\n",
      "/meshAfterParty/meshAfterParty/validation_utils.py:2433: SettingWithCopyWarning: \n",
      "A value is trying to be set on a copy of a slice from a DataFrame.\n",
      "Try using .loc[row_indexer,col_indexer] = value instead\n",
      "\n",
      "See the caveats in the documentation: https://pandas.pydata.org/pandas-docs/stable/user_guide/indexing.html#returning-a-view-versus-a-copy\n",
      "  syn_match[\"synapse_y\"] = np.array(list(syn_match[\"ctr_pt_position\"].to_numpy()))[:,1]\n",
      "/meshAfterParty/meshAfterParty/validation_utils.py:2434: SettingWithCopyWarning: \n",
      "A value is trying to be set on a copy of a slice from a DataFrame.\n",
      "Try using .loc[row_indexer,col_indexer] = value instead\n",
      "\n",
      "See the caveats in the documentation: https://pandas.pydata.org/pandas-docs/stable/user_guide/indexing.html#returning-a-view-versus-a-copy\n",
      "  syn_match[\"synapse_z\"] = np.array(list(syn_match[\"ctr_pt_position\"].to_numpy()))[:,2]\n"
     ]
    },
    {
     "name": "stdout",
     "output_type": "stream",
     "text": [
      "\n",
      "Working on neuron 23: 864691135373686345\n",
      "# of end nodes = 13\n",
      "last_datetime_edited = 2021-02-09 22:07:06.473000\n",
      "# of presyn = 519, # of postsyn = 10221\n",
      "Total synapses BEFORE filtering = 10740\n",
      "Total synapses AFTER filtering = 10660\n",
      "10603 out of 10660 were within threshold of original mesh\n"
     ]
    },
    {
     "name": "stderr",
     "output_type": "stream",
     "text": [
      "/meshAfterParty/meshAfterParty/validation_utils.py:2432: SettingWithCopyWarning: \n",
      "A value is trying to be set on a copy of a slice from a DataFrame.\n",
      "Try using .loc[row_indexer,col_indexer] = value instead\n",
      "\n",
      "See the caveats in the documentation: https://pandas.pydata.org/pandas-docs/stable/user_guide/indexing.html#returning-a-view-versus-a-copy\n",
      "  syn_match[\"synapse_x\"] = np.array(list(syn_match[\"ctr_pt_position\"].to_numpy()))[:,0]\n",
      "/meshAfterParty/meshAfterParty/validation_utils.py:2433: SettingWithCopyWarning: \n",
      "A value is trying to be set on a copy of a slice from a DataFrame.\n",
      "Try using .loc[row_indexer,col_indexer] = value instead\n",
      "\n",
      "See the caveats in the documentation: https://pandas.pydata.org/pandas-docs/stable/user_guide/indexing.html#returning-a-view-versus-a-copy\n",
      "  syn_match[\"synapse_y\"] = np.array(list(syn_match[\"ctr_pt_position\"].to_numpy()))[:,1]\n",
      "/meshAfterParty/meshAfterParty/validation_utils.py:2434: SettingWithCopyWarning: \n",
      "A value is trying to be set on a copy of a slice from a DataFrame.\n",
      "Try using .loc[row_indexer,col_indexer] = value instead\n",
      "\n",
      "See the caveats in the documentation: https://pandas.pydata.org/pandas-docs/stable/user_guide/indexing.html#returning-a-view-versus-a-copy\n",
      "  syn_match[\"synapse_z\"] = np.array(list(syn_match[\"ctr_pt_position\"].to_numpy()))[:,2]\n"
     ]
    },
    {
     "name": "stdout",
     "output_type": "stream",
     "text": [
      "\n",
      "Working on neuron 24: 864691135382947307\n",
      "# of end nodes = 16\n",
      "last_datetime_edited = 2020-09-30 17:26:25.630000\n",
      "# of presyn = 727, # of postsyn = 2758\n",
      "Total synapses BEFORE filtering = 3485\n",
      "Total synapses AFTER filtering = 3463\n",
      "2719 out of 3463 were within threshold of original mesh\n"
     ]
    },
    {
     "name": "stderr",
     "output_type": "stream",
     "text": [
      "/meshAfterParty/meshAfterParty/validation_utils.py:2432: SettingWithCopyWarning: \n",
      "A value is trying to be set on a copy of a slice from a DataFrame.\n",
      "Try using .loc[row_indexer,col_indexer] = value instead\n",
      "\n",
      "See the caveats in the documentation: https://pandas.pydata.org/pandas-docs/stable/user_guide/indexing.html#returning-a-view-versus-a-copy\n",
      "  syn_match[\"synapse_x\"] = np.array(list(syn_match[\"ctr_pt_position\"].to_numpy()))[:,0]\n",
      "/meshAfterParty/meshAfterParty/validation_utils.py:2433: SettingWithCopyWarning: \n",
      "A value is trying to be set on a copy of a slice from a DataFrame.\n",
      "Try using .loc[row_indexer,col_indexer] = value instead\n",
      "\n",
      "See the caveats in the documentation: https://pandas.pydata.org/pandas-docs/stable/user_guide/indexing.html#returning-a-view-versus-a-copy\n",
      "  syn_match[\"synapse_y\"] = np.array(list(syn_match[\"ctr_pt_position\"].to_numpy()))[:,1]\n",
      "/meshAfterParty/meshAfterParty/validation_utils.py:2434: SettingWithCopyWarning: \n",
      "A value is trying to be set on a copy of a slice from a DataFrame.\n",
      "Try using .loc[row_indexer,col_indexer] = value instead\n",
      "\n",
      "See the caveats in the documentation: https://pandas.pydata.org/pandas-docs/stable/user_guide/indexing.html#returning-a-view-versus-a-copy\n",
      "  syn_match[\"synapse_z\"] = np.array(list(syn_match[\"ctr_pt_position\"].to_numpy()))[:,2]\n"
     ]
    },
    {
     "name": "stdout",
     "output_type": "stream",
     "text": [
      "\n",
      "Working on neuron 25: 864691135385216341\n",
      "# of end nodes = 39\n",
      "last_datetime_edited = 2021-01-11 23:34:51.086000\n",
      "# of presyn = 736, # of postsyn = 7916\n",
      "Total synapses BEFORE filtering = 8652\n",
      "Total synapses AFTER filtering = 8602\n",
      "8541 out of 8602 were within threshold of original mesh\n"
     ]
    },
    {
     "name": "stderr",
     "output_type": "stream",
     "text": [
      "/meshAfterParty/meshAfterParty/validation_utils.py:2432: SettingWithCopyWarning: \n",
      "A value is trying to be set on a copy of a slice from a DataFrame.\n",
      "Try using .loc[row_indexer,col_indexer] = value instead\n",
      "\n",
      "See the caveats in the documentation: https://pandas.pydata.org/pandas-docs/stable/user_guide/indexing.html#returning-a-view-versus-a-copy\n",
      "  syn_match[\"synapse_x\"] = np.array(list(syn_match[\"ctr_pt_position\"].to_numpy()))[:,0]\n",
      "/meshAfterParty/meshAfterParty/validation_utils.py:2433: SettingWithCopyWarning: \n",
      "A value is trying to be set on a copy of a slice from a DataFrame.\n",
      "Try using .loc[row_indexer,col_indexer] = value instead\n",
      "\n",
      "See the caveats in the documentation: https://pandas.pydata.org/pandas-docs/stable/user_guide/indexing.html#returning-a-view-versus-a-copy\n",
      "  syn_match[\"synapse_y\"] = np.array(list(syn_match[\"ctr_pt_position\"].to_numpy()))[:,1]\n",
      "/meshAfterParty/meshAfterParty/validation_utils.py:2434: SettingWithCopyWarning: \n",
      "A value is trying to be set on a copy of a slice from a DataFrame.\n",
      "Try using .loc[row_indexer,col_indexer] = value instead\n",
      "\n",
      "See the caveats in the documentation: https://pandas.pydata.org/pandas-docs/stable/user_guide/indexing.html#returning-a-view-versus-a-copy\n",
      "  syn_match[\"synapse_z\"] = np.array(list(syn_match[\"ctr_pt_position\"].to_numpy()))[:,2]\n"
     ]
    },
    {
     "name": "stdout",
     "output_type": "stream",
     "text": [
      "\n",
      "Working on neuron 26: 864691135393954293\n",
      "# of end nodes = 28\n",
      "last_datetime_edited = 2021-01-27 15:33:03.799000\n",
      "# of presyn = 194, # of postsyn = 6101\n",
      "Total synapses BEFORE filtering = 6295\n",
      "Total synapses AFTER filtering = 6261\n",
      "6222 out of 6261 were within threshold of original mesh\n"
     ]
    },
    {
     "name": "stderr",
     "output_type": "stream",
     "text": [
      "/meshAfterParty/meshAfterParty/validation_utils.py:2432: SettingWithCopyWarning: \n",
      "A value is trying to be set on a copy of a slice from a DataFrame.\n",
      "Try using .loc[row_indexer,col_indexer] = value instead\n",
      "\n",
      "See the caveats in the documentation: https://pandas.pydata.org/pandas-docs/stable/user_guide/indexing.html#returning-a-view-versus-a-copy\n",
      "  syn_match[\"synapse_x\"] = np.array(list(syn_match[\"ctr_pt_position\"].to_numpy()))[:,0]\n",
      "/meshAfterParty/meshAfterParty/validation_utils.py:2433: SettingWithCopyWarning: \n",
      "A value is trying to be set on a copy of a slice from a DataFrame.\n",
      "Try using .loc[row_indexer,col_indexer] = value instead\n",
      "\n",
      "See the caveats in the documentation: https://pandas.pydata.org/pandas-docs/stable/user_guide/indexing.html#returning-a-view-versus-a-copy\n",
      "  syn_match[\"synapse_y\"] = np.array(list(syn_match[\"ctr_pt_position\"].to_numpy()))[:,1]\n",
      "/meshAfterParty/meshAfterParty/validation_utils.py:2434: SettingWithCopyWarning: \n",
      "A value is trying to be set on a copy of a slice from a DataFrame.\n",
      "Try using .loc[row_indexer,col_indexer] = value instead\n",
      "\n",
      "See the caveats in the documentation: https://pandas.pydata.org/pandas-docs/stable/user_guide/indexing.html#returning-a-view-versus-a-copy\n",
      "  syn_match[\"synapse_z\"] = np.array(list(syn_match[\"ctr_pt_position\"].to_numpy()))[:,2]\n"
     ]
    },
    {
     "name": "stdout",
     "output_type": "stream",
     "text": [
      "\n",
      "Working on neuron 27: 864691135393964789\n",
      "# of end nodes = 19\n",
      "last_datetime_edited = 2021-03-02 19:29:08.760000\n",
      "# of presyn = 528, # of postsyn = 1956\n",
      "Total synapses BEFORE filtering = 2484\n",
      "Total synapses AFTER filtering = 2442\n",
      "1921 out of 2442 were within threshold of original mesh\n"
     ]
    },
    {
     "name": "stderr",
     "output_type": "stream",
     "text": [
      "/meshAfterParty/meshAfterParty/validation_utils.py:2432: SettingWithCopyWarning: \n",
      "A value is trying to be set on a copy of a slice from a DataFrame.\n",
      "Try using .loc[row_indexer,col_indexer] = value instead\n",
      "\n",
      "See the caveats in the documentation: https://pandas.pydata.org/pandas-docs/stable/user_guide/indexing.html#returning-a-view-versus-a-copy\n",
      "  syn_match[\"synapse_x\"] = np.array(list(syn_match[\"ctr_pt_position\"].to_numpy()))[:,0]\n",
      "/meshAfterParty/meshAfterParty/validation_utils.py:2433: SettingWithCopyWarning: \n",
      "A value is trying to be set on a copy of a slice from a DataFrame.\n",
      "Try using .loc[row_indexer,col_indexer] = value instead\n",
      "\n",
      "See the caveats in the documentation: https://pandas.pydata.org/pandas-docs/stable/user_guide/indexing.html#returning-a-view-versus-a-copy\n",
      "  syn_match[\"synapse_y\"] = np.array(list(syn_match[\"ctr_pt_position\"].to_numpy()))[:,1]\n",
      "/meshAfterParty/meshAfterParty/validation_utils.py:2434: SettingWithCopyWarning: \n",
      "A value is trying to be set on a copy of a slice from a DataFrame.\n",
      "Try using .loc[row_indexer,col_indexer] = value instead\n",
      "\n",
      "See the caveats in the documentation: https://pandas.pydata.org/pandas-docs/stable/user_guide/indexing.html#returning-a-view-versus-a-copy\n",
      "  syn_match[\"synapse_z\"] = np.array(list(syn_match[\"ctr_pt_position\"].to_numpy()))[:,2]\n"
     ]
    }
   ],
   "source": [
    "idx = 0\n",
    "chunk_size = 28\n",
    "for i in range(idx*chunk_size,(idx+1)*chunk_size):\n",
    "    \n",
    "    if i >= len(original_seg_ids):\n",
    "        break\n",
    "        \n",
    "    segment_id = original_seg_ids[i]\n",
    "    print(f\"\\nWorking on neuron {i}: {segment_id}\")\n",
    "    \n",
    "    vu.old_segment_id_validation_synapses(segment_id = segment_id,\n",
    "    verbose = True,\n",
    "    plot_original_mesh = False,\n",
    "    plot_potential_synapses = False,\n",
    "    plot_matched_synapses = False)"
   ]
  },
  {
   "cell_type": "code",
   "execution_count": null,
   "metadata": {},
   "outputs": [],
   "source": []
  }
 ],
 "metadata": {
  "kernelspec": {
   "display_name": "Python 3",
   "language": "python",
   "name": "python3"
  },
  "language_info": {
   "codemirror_mode": {
    "name": "ipython",
    "version": 3
   },
   "file_extension": ".py",
   "mimetype": "text/x-python",
   "name": "python",
   "nbconvert_exporter": "python",
   "pygments_lexer": "ipython3",
   "version": "3.6.9"
  }
 },
 "nbformat": 4,
 "nbformat_minor": 4
}
