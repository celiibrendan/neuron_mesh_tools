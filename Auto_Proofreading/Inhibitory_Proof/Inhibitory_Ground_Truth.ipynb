{
 "cells": [
  {
   "cell_type": "code",
   "execution_count": null,
   "metadata": {},
   "outputs": [],
   "source": [
    "https://minniev1.microns-daf.com/annotation/views/aligned_volume/minnie65_phase3/table/allen_v1_column_proofreading\n",
    "https://minniev1.microns-daf.com/annotation/views/aligned_volume/minnie65_phase3/table/allen_v1_column_types_v2"
   ]
  }
 ],
 "metadata": {
  "kernelspec": {
   "display_name": "Python 3",
   "language": "python",
   "name": "python3"
  },
  "language_info": {
   "codemirror_mode": {
    "name": "ipython",
    "version": 3
   },
   "file_extension": ".py",
   "mimetype": "text/x-python",
   "name": "python",
   "nbconvert_exporter": "python",
   "pygments_lexer": "ipython3",
   "version": "3.6.9"
  }
 },
 "nbformat": 4,
 "nbformat_minor": 4
}
