{
 "cells": [
  {
   "cell_type": "code",
   "execution_count": null,
   "metadata": {},
   "outputs": [],
   "source": [
    "\"\"\"\n",
    "Purpose: To take in a whole neuron that could have any number of somas\n",
    "and then to split it into multiple neuron objects\n",
    "\n",
    "Pseudocode: \n",
    "1) Get all of the split suggestions\n",
    "2) Split all of the limbs that need splitting\n",
    "3) Once have split the limbs, split the neuron object into mutliple objects\n",
    "\n",
    "\n",
    "\"\"\""
   ]
  },
  {
   "cell_type": "code",
   "execution_count": 1,
   "metadata": {},
   "outputs": [],
   "source": [
    "%load_ext autoreload\n",
    "%autoreload 2"
   ]
  },
  {
   "cell_type": "code",
   "execution_count": 2,
   "metadata": {},
   "outputs": [],
   "source": [
    "from os import sys\n",
    "sys.path.append(\"/meshAfterParty/\")"
   ]
  },
  {
   "cell_type": "code",
   "execution_count": 32,
   "metadata": {},
   "outputs": [],
   "source": [
    "from importlib import reload\n",
    "\n",
    "import neuron_utils as nru\n",
    "\n",
    "import neuron\n",
    "\n",
    "import neuron_visualizations as nviz\n",
    "\n",
    "import time\n",
    "\n",
    "import datajoint_utils as du\n",
    "\n",
    "import numpy as np\n",
    "\n",
    "import system_utils as su"
   ]
  },
  {
   "cell_type": "code",
   "execution_count": 4,
   "metadata": {},
   "outputs": [
    {
     "name": "stderr",
     "output_type": "stream",
     "text": [
      "INFO - 2021-01-03 23:20:55,375 - settings - Setting enable_python_native_blobs to True\n",
      "INFO - 2021-01-03 23:20:55,615 - settings - Setting enable_python_native_blobs to True\n"
     ]
    }
   ],
   "source": [
    "minnie,schema = du.configure_minnie_vm()"
   ]
  },
  {
   "cell_type": "markdown",
   "metadata": {},
   "source": [
    "# Picking the Neuron"
   ]
  },
  {
   "cell_type": "code",
   "execution_count": 17,
   "metadata": {},
   "outputs": [
    {
     "data": {
      "text/html": [
       "\n",
       "        \n",
       "        <style type=\"text/css\">\n",
       "            .Relation{\n",
       "                border-collapse:collapse;\n",
       "            }\n",
       "            .Relation th{\n",
       "                background: #A0A0A0; color: #ffffff; padding:4px; border:#f0e0e0 1px solid;\n",
       "                font-weight: normal; font-family: monospace; font-size: 100%;\n",
       "            }\n",
       "            .Relation td{\n",
       "                padding:4px; border:#f0e0e0 1px solid; font-size:100%;\n",
       "            }\n",
       "            .Relation tr:nth-child(odd){\n",
       "                background: #ffffff;\n",
       "            }\n",
       "            .Relation tr:nth-child(even){\n",
       "                background: #f3f1ff;\n",
       "            }\n",
       "            /* Tooltip container */\n",
       "            .djtooltip {\n",
       "            }\n",
       "            /* Tooltip text */\n",
       "            .djtooltip .djtooltiptext {\n",
       "                visibility: hidden;\n",
       "                width: 120px;\n",
       "                background-color: black;\n",
       "                color: #fff;\n",
       "                text-align: center;\n",
       "                padding: 5px 0;\n",
       "                border-radius: 6px;\n",
       "                /* Position the tooltip text - see examples below! */\n",
       "                position: absolute;\n",
       "                z-index: 1;\n",
       "            }\n",
       "            #primary {\n",
       "                font-weight: bold;\n",
       "                color: black;\n",
       "            }\n",
       "\n",
       "            #nonprimary {\n",
       "                font-weight: normal;\n",
       "                color: white;\n",
       "            }\n",
       "\n",
       "            /* Show the tooltip text when you mouse over the tooltip container */\n",
       "            .djtooltip:hover .djtooltiptext {\n",
       "                visibility: visible;\n",
       "            }\n",
       "        </style>\n",
       "        \n",
       "        <b></b>\n",
       "            <div style=\"max-height:1000px;max-width:1500px;overflow:auto;\">\n",
       "            <table border=\"1\" class=\"Relation\">\n",
       "                <thead> <tr style=\"text-align: right;\"> <th> <div class=\"djtooltip\">\n",
       "                                <p id=\"primary\">segment_id</p>\n",
       "                                <span class=\"djtooltiptext\">segment id unique within each Segmentation</span>\n",
       "                            </div></th><th><div class=\"djtooltip\">\n",
       "                                <p id=\"primary\">decimation_version</p>\n",
       "                                <span class=\"djtooltiptext\"></span>\n",
       "                            </div></th><th><div class=\"djtooltip\">\n",
       "                                <p id=\"primary\">decimation_ratio</p>\n",
       "                                <span class=\"djtooltiptext\">ratio of remaining mesh vertices/faces (which ones depends on what metric the decimation technique uses)</span>\n",
       "                            </div></th><th><div class=\"djtooltip\">\n",
       "                                <p id=\"nonprimary\">decomposition</p>\n",
       "                                <span class=\"djtooltiptext\"></span>\n",
       "                            </div></th><th><div class=\"djtooltip\">\n",
       "                                <p id=\"nonprimary\">n_vertices</p>\n",
       "                                <span class=\"djtooltiptext\">number of vertices</span>\n",
       "                            </div></th><th><div class=\"djtooltip\">\n",
       "                                <p id=\"nonprimary\">n_faces</p>\n",
       "                                <span class=\"djtooltiptext\">number of faces</span>\n",
       "                            </div></th><th><div class=\"djtooltip\">\n",
       "                                <p id=\"nonprimary\">n_error_limbs</p>\n",
       "                                <span class=\"djtooltiptext\">the number of limbs that are touching multiple somas or 1 soma in multiple places</span>\n",
       "                            </div></th><th><div class=\"djtooltip\">\n",
       "                                <p id=\"nonprimary\">n_same_soma_multi_touching_limbs</p>\n",
       "                                <span class=\"djtooltiptext\">number of limbs that touch the same soma multiple times</span>\n",
       "                            </div></th><th><div class=\"djtooltip\">\n",
       "                                <p id=\"nonprimary\">n_multi_soma_touching_limbs</p>\n",
       "                                <span class=\"djtooltiptext\">number of limbs that touch multiple somas</span>\n",
       "                            </div></th><th><div class=\"djtooltip\">\n",
       "                                <p id=\"nonprimary\">n_somas</p>\n",
       "                                <span class=\"djtooltiptext\">number of soma meshes detected</span>\n",
       "                            </div></th><th><div class=\"djtooltip\">\n",
       "                                <p id=\"nonprimary\">n_limbs</p>\n",
       "                                <span class=\"djtooltiptext\"></span>\n",
       "                            </div></th><th><div class=\"djtooltip\">\n",
       "                                <p id=\"nonprimary\">n_branches</p>\n",
       "                                <span class=\"djtooltiptext\"></span>\n",
       "                            </div></th><th><div class=\"djtooltip\">\n",
       "                                <p id=\"nonprimary\">max_limb_n_branches</p>\n",
       "                                <span class=\"djtooltiptext\"></span>\n",
       "                            </div></th><th><div class=\"djtooltip\">\n",
       "                                <p id=\"nonprimary\">skeletal_length</p>\n",
       "                                <span class=\"djtooltiptext\"></span>\n",
       "                            </div></th><th><div class=\"djtooltip\">\n",
       "                                <p id=\"nonprimary\">max_limb_skeletal_length</p>\n",
       "                                <span class=\"djtooltiptext\"></span>\n",
       "                            </div></th><th><div class=\"djtooltip\">\n",
       "                                <p id=\"nonprimary\">median_branch_length</p>\n",
       "                                <span class=\"djtooltiptext\">gives information on average skeletal length to next branch point</span>\n",
       "                            </div></th><th><div class=\"djtooltip\">\n",
       "                                <p id=\"nonprimary\">width_median</p>\n",
       "                                <span class=\"djtooltiptext\">median width from mesh center without spines removed</span>\n",
       "                            </div></th><th><div class=\"djtooltip\">\n",
       "                                <p id=\"nonprimary\">width_no_spine_median</p>\n",
       "                                <span class=\"djtooltiptext\">median width from mesh center with spines removed</span>\n",
       "                            </div></th><th><div class=\"djtooltip\">\n",
       "                                <p id=\"nonprimary\">width_90_perc</p>\n",
       "                                <span class=\"djtooltiptext\">90th percentile for width without spines removed</span>\n",
       "                            </div></th><th><div class=\"djtooltip\">\n",
       "                                <p id=\"nonprimary\">width_no_spine_90_perc</p>\n",
       "                                <span class=\"djtooltiptext\">90th percentile for width with spines removed</span>\n",
       "                            </div></th><th><div class=\"djtooltip\">\n",
       "                                <p id=\"nonprimary\">n_spines</p>\n",
       "                                <span class=\"djtooltiptext\"></span>\n",
       "                            </div></th><th><div class=\"djtooltip\">\n",
       "                                <p id=\"nonprimary\">spine_density</p>\n",
       "                                <span class=\"djtooltiptext\">n_spines/ skeletal_length</span>\n",
       "                            </div></th><th><div class=\"djtooltip\">\n",
       "                                <p id=\"nonprimary\">spines_per_branch</p>\n",
       "                                <span class=\"djtooltiptext\"></span>\n",
       "                            </div></th><th><div class=\"djtooltip\">\n",
       "                                <p id=\"nonprimary\">skeletal_length_eligible</p>\n",
       "                                <span class=\"djtooltiptext\">the skeletal length for all branches searched for spines</span>\n",
       "                            </div></th><th><div class=\"djtooltip\">\n",
       "                                <p id=\"nonprimary\">n_spine_eligible_branches</p>\n",
       "                                <span class=\"djtooltiptext\">the number of branches that were checked for spines because passed width threshold</span>\n",
       "                            </div></th><th><div class=\"djtooltip\">\n",
       "                                <p id=\"nonprimary\">spine_density_eligible</p>\n",
       "                                <span class=\"djtooltiptext\">n_spines/skeletal_length_eligible</span>\n",
       "                            </div></th><th><div class=\"djtooltip\">\n",
       "                                <p id=\"nonprimary\">spines_per_branch_eligible</p>\n",
       "                                <span class=\"djtooltiptext\">n_spines/n_spine_eligible_branches</span>\n",
       "                            </div></th><th><div class=\"djtooltip\">\n",
       "                                <p id=\"nonprimary\">total_spine_volume</p>\n",
       "                                <span class=\"djtooltiptext\">the sum of all spine volume</span>\n",
       "                            </div></th><th><div class=\"djtooltip\">\n",
       "                                <p id=\"nonprimary\">spine_volume_median</p>\n",
       "                                <span class=\"djtooltiptext\">median of the spine volume for those spines with able to calculate volume</span>\n",
       "                            </div></th><th><div class=\"djtooltip\">\n",
       "                                <p id=\"nonprimary\">spine_volume_density</p>\n",
       "                                <span class=\"djtooltiptext\">total_spine_volume/skeletal_length</span>\n",
       "                            </div></th><th><div class=\"djtooltip\">\n",
       "                                <p id=\"nonprimary\">spine_volume_density_eligible</p>\n",
       "                                <span class=\"djtooltiptext\">total_spine_volume/skeletal_length_eligible</span>\n",
       "                            </div></th><th><div class=\"djtooltip\">\n",
       "                                <p id=\"nonprimary\">spine_volume_per_branch_eligible</p>\n",
       "                                <span class=\"djtooltiptext\">total_spine_volume/n_spine_eligible_branches</span>\n",
       "                            </div></th><th><div class=\"djtooltip\">\n",
       "                                <p id=\"nonprimary\">run_time</p>\n",
       "                                <span class=\"djtooltiptext\">the amount of time to run (seconds)</span>\n",
       "                            </div> </th> </tr> </thead>\n",
       "                <tbody> <tr> <td>864691135081644023</td>\n",
       "<td>0</td>\n",
       "<td>0.25</td>\n",
       "<td>=BLOB=</td>\n",
       "<td>853714</td>\n",
       "<td>1717788</td>\n",
       "<td>3</td>\n",
       "<td>2</td>\n",
       "<td>2</td>\n",
       "<td>2</td>\n",
       "<td>12</td>\n",
       "<td>274</td>\n",
       "<td>133</td>\n",
       "<td>9151050.956985964</td>\n",
       "<td>3241470.4075203836</td>\n",
       "<td>19951.921</td>\n",
       "<td>149.01</td>\n",
       "<td>148.057</td>\n",
       "<td>441.244</td>\n",
       "<td>416.737</td>\n",
       "<td>3461</td>\n",
       "<td>0.0003782079256544685</td>\n",
       "<td>12.63138686131387</td>\n",
       "<td>6071207.457</td>\n",
       "<td>136</td>\n",
       "<td>0.0005700678200362805</td>\n",
       "<td>25.449</td>\n",
       "<td>249095068700.38538</td>\n",
       "<td>44005779.70668538</td>\n",
       "<td>27220.37827908988</td>\n",
       "<td>41028.917305927826</td>\n",
       "<td>1831581387.5028336</td>\n",
       "<td>3155.4383</td></tr><tr><td>864691135758516046</td>\n",
       "<td>0</td>\n",
       "<td>0.25</td>\n",
       "<td>=BLOB=</td>\n",
       "<td>1389966</td>\n",
       "<td>2818295</td>\n",
       "<td>3</td>\n",
       "<td>2</td>\n",
       "<td>1</td>\n",
       "<td>2</td>\n",
       "<td>11</td>\n",
       "<td>385</td>\n",
       "<td>124</td>\n",
       "<td>12048282.425513012</td>\n",
       "<td>3777015.1847949876</td>\n",
       "<td>19466.141</td>\n",
       "<td>325.093</td>\n",
       "<td>276.177</td>\n",
       "<td>500.126</td>\n",
       "<td>461.272</td>\n",
       "<td>6929</td>\n",
       "<td>0.0005751027204780158</td>\n",
       "<td>17.997402597402598</td>\n",
       "<td>10410887.616</td>\n",
       "<td>290</td>\n",
       "<td>0.0006655532415267982</td>\n",
       "<td>23.893</td>\n",
       "<td>315066387747.27527</td>\n",
       "<td>20346954.5683492</td>\n",
       "<td>26150.31559022072</td>\n",
       "<td>30263.162889498937</td>\n",
       "<td>1086435819.8181906</td>\n",
       "<td>7949.779</td></tr><tr><td>864691136908675694</td>\n",
       "<td>0</td>\n",
       "<td>0.25</td>\n",
       "<td>=BLOB=</td>\n",
       "<td>427411</td>\n",
       "<td>852486</td>\n",
       "<td>3</td>\n",
       "<td>2</td>\n",
       "<td>1</td>\n",
       "<td>2</td>\n",
       "<td>9</td>\n",
       "<td>207</td>\n",
       "<td>85</td>\n",
       "<td>5270361.420245086</td>\n",
       "<td>2292993.4160426715</td>\n",
       "<td>15847.168</td>\n",
       "<td>143.142</td>\n",
       "<td>143.142</td>\n",
       "<td>393.741</td>\n",
       "<td>381.588</td>\n",
       "<td>888</td>\n",
       "<td>0.0001684893936474485</td>\n",
       "<td>4.2898550724637685</td>\n",
       "<td>3131177.509</td>\n",
       "<td>105</td>\n",
       "<td>0.00028359937992899017</td>\n",
       "<td>8.457</td>\n",
       "<td>60764077818.176926</td>\n",
       "<td>46366039.20999018</td>\n",
       "<td>11529.394850372753</td>\n",
       "<td>19406.14278287374</td>\n",
       "<td>578705503.0302564</td>\n",
       "<td>1383.9974</td> </tr> </tbody>\n",
       "            </table>\n",
       "            \n",
       "            <p>Total: 3</p></div>\n",
       "            "
      ],
      "text/plain": [
       "*segment_id    *decimation_ve *decimation_ra decomposit n_vertices     n_faces     n_error_limbs  n_same_soma_mu n_multi_soma_t n_somas     n_limbs     n_branches     max_limb_n_bra skeletal_lengt max_limb_skele median_branch_ width_median   width_no_spine width_90_perc  width_no_spine n_spines     spine_density  spines_per_bra skeletal_lengt n_spine_eligib spine_density_ spines_per_bra total_spine_vo spine_volume_m spine_volume_d spine_volume_d spine_volume_p run_time     \n",
       "+------------+ +------------+ +------------+ +--------+ +------------+ +---------+ +------------+ +------------+ +------------+ +---------+ +---------+ +------------+ +------------+ +------------+ +------------+ +------------+ +------------+ +------------+ +------------+ +------------+ +----------+ +------------+ +------------+ +------------+ +------------+ +------------+ +------------+ +------------+ +------------+ +------------+ +------------+ +------------+ +-----------+\n",
       "86469113508164 0              0.25           =BLOB=     853714         1717788     3              2              2              2           12          274            133            9151050.956985 3241470.407520 19951.921      149.01         148.057        441.244        416.737        3461         0.000378207925 12.63138686131 6071207.457    136            0.000570067820 25.449         249095068700.3 44005779.70668 27220.37827908 41028.91730592 1831581387.502 3155.4383    \n",
       "86469113575851 0              0.25           =BLOB=     1389966        2818295     3              2              1              2           11          385            124            12048282.42551 3777015.184794 19466.141      325.093        276.177        500.126        461.272        6929         0.000575102720 17.99740259740 10410887.616   290            0.000665553241 23.893         315066387747.2 20346954.56834 26150.31559022 30263.16288949 1086435819.818 7949.779     \n",
       "86469113690867 0              0.25           =BLOB=     427411         852486      3              2              1              2           9           207            85             5270361.420245 2292993.416042 15847.168      143.142        143.142        393.741        381.588        888          0.000168489393 4.289855072463 3131177.509    105            0.000283599379 8.457          60764077818.17 46366039.20999 11529.39485037 19406.14278287 578705503.0302 1383.9974    \n",
       " (Total: 3)"
      ]
     },
     "execution_count": 17,
     "metadata": {},
     "output_type": "execute_result"
    }
   ],
   "source": [
    "minnie.Decomposition() & \"n_error_limbs>2\""
   ]
  },
  {
   "cell_type": "code",
   "execution_count": 18,
   "metadata": {},
   "outputs": [],
   "source": [
    "segment_id = 864691136908675694 "
   ]
  },
  {
   "cell_type": "code",
   "execution_count": 19,
   "metadata": {},
   "outputs": [
    {
     "name": "stdout",
     "output_type": "stream",
     "text": [
      "Decompressing Neuron in minimal output mode...please wait\n"
     ]
    },
    {
     "data": {
      "text/plain": [
       "<neuron.Neuron at 0x7f66b6ae9d30>"
      ]
     },
     "execution_count": 19,
     "metadata": {},
     "output_type": "execute_result"
    }
   ],
   "source": [
    "neuron_obj = (minnie.Decomposition & dict(segment_id=segment_id)).fetch1(\"decomposition\")\n",
    "neuron_obj"
   ]
  },
  {
   "cell_type": "markdown",
   "metadata": {},
   "source": [
    "# Using a previously processed Neuron"
   ]
  },
  {
   "cell_type": "code",
   "execution_count": 20,
   "metadata": {},
   "outputs": [],
   "source": [
    "# file_loc = \"/notebooks/test_neurons/Segmentation_3/Multi_Soma/864691135207768697_0_25\"\n",
    "# neuron_obj = nru.decompress_neuron(file_loc,file_loc)"
   ]
  },
  {
   "cell_type": "markdown",
   "metadata": {},
   "source": [
    "# Visualizing the Neuron"
   ]
  },
  {
   "cell_type": "code",
   "execution_count": 21,
   "metadata": {
    "scrolled": false
   },
   "outputs": [
    {
     "name": "stdout",
     "output_type": "stream",
     "text": [
      "\n",
      " Working on visualization type: mesh\n",
      "\n",
      " Working on visualization type: skeleton\n"
     ]
    },
    {
     "data": {
      "application/vnd.jupyter.widget-view+json": {
       "model_id": "90a378360aaa400581d3aa3f84feda46",
       "version_major": 2,
       "version_minor": 0
      },
      "text/plain": [
       "VBox(children=(Figure(camera=PerspectiveCamera(fov=46.0, position=(0.0, 0.0, 2.0), quaternion=(0.0, 0.0, 0.0, …"
      ]
     },
     "metadata": {},
     "output_type": "display_data"
    }
   ],
   "source": [
    "nviz.visualize_neuron(neuron_obj,\n",
    "                     visualize_type=[\"mesh\",\"skeleton\"],\n",
    "                     limb_branch_dict=\"all\",\n",
    "                     mesh_whole_neuron=False)"
   ]
  },
  {
   "cell_type": "code",
   "execution_count": 22,
   "metadata": {},
   "outputs": [
    {
     "name": "stdout",
     "output_type": "stream",
     "text": [
      "\n",
      " Working on visualization type: mesh\n",
      "\n",
      " Working on visualization type: skeleton\n"
     ]
    },
    {
     "data": {
      "application/vnd.jupyter.widget-view+json": {
       "model_id": "4233c71111914e05987eacbc80874406",
       "version_major": 2,
       "version_minor": 0
      },
      "text/plain": [
       "VBox(children=(Figure(camera=PerspectiveCamera(fov=46.0, position=(0.0, 0.0, 2.0), quaternion=(0.0, 0.0, 0.0, …"
      ]
     },
     "metadata": {},
     "output_type": "display_data"
    }
   ],
   "source": [
    "nviz.visualize_neuron(neuron_obj,\n",
    "                     visualize_type=[\"mesh\",\"skeleton\"],\n",
    "                     limb_branch_dict=dict(),\n",
    "                     mesh_whole_neuron=True)"
   ]
  },
  {
   "cell_type": "markdown",
   "metadata": {},
   "source": [
    "# Preview of How th Neuron Will Need to be Split"
   ]
  },
  {
   "cell_type": "code",
   "execution_count": 27,
   "metadata": {},
   "outputs": [
    {
     "data": {
      "image/png": "[encoded data removed]",
      "text/plain": [
       "<Figure size 432x288 with 1 Axes>"
      ]
     },
     "metadata": {},
     "output_type": "display_data"
    }
   ],
   "source": [
    "nviz.plot_soma_limb_concept_network(neuron_obj)"
   ]
  },
  {
   "cell_type": "code",
   "execution_count": 26,
   "metadata": {},
   "outputs": [
    {
     "data": {
      "text/plain": [
       "array([4, 8])"
      ]
     },
     "execution_count": 26,
     "metadata": {},
     "output_type": "execute_result"
    }
   ],
   "source": [
    "neuron_obj.same_soma_multi_touching_limbs"
   ]
  },
  {
   "cell_type": "code",
   "execution_count": 28,
   "metadata": {},
   "outputs": [
    {
     "data": {
      "text/plain": [
       "array([1, 4, 8])"
      ]
     },
     "execution_count": 28,
     "metadata": {},
     "output_type": "execute_result"
    }
   ],
   "source": [
    "total_limbs_to_process = nru.error_limbs(neuron_obj)\n",
    "total_limbs_to_process"
   ]
  },
  {
   "cell_type": "markdown",
   "metadata": {},
   "source": [
    "# Getting the Split Suggestions"
   ]
  },
  {
   "cell_type": "code",
   "execution_count": 109,
   "metadata": {},
   "outputs": [
    {
     "name": "stdout",
     "output_type": "stream",
     "text": [
      "Recieved another instance of Neuron class in init -- so just copying data\n"
     ]
    }
   ],
   "source": [
    "neuron_obj = neuron.Neuron(neuron_obj)"
   ]
  },
  {
   "cell_type": "code",
   "execution_count": 140,
   "metadata": {
    "scrolled": true
   },
   "outputs": [
    {
     "name": "stdout",
     "output_type": "stream",
     "text": [
      "multi_soma_limbs = [1]\n",
      "multi_touch_limbs = [4 8]\n",
      "\n",
      "\n",
      " -------- Working on limb 1------------\n",
      "Starting combinations to process = [(10, 39)]\n",
      "\n",
      "\n",
      "---- working on disconnecting 10 and 39\n",
      "---- This disconnects S0_0 from S1_0  \n",
      " Cut iteration 0\n",
      "Starting_edge inside branches_to_conept = [[1097960.  576547.  608714.]\n",
      " [1100130.  593355.  611840.]]\n",
      "At the start, starting_node (in terms of the skeleton, that shouldn't match the starting edge) = [10]\n",
      "printing out current edge:\n",
      "[[1100130.  593355.  611840.]\n",
      " [1097960.  576547.  608714.]]\n",
      "edge_endpoints_to_process was empty so exiting loop after 42 iterations\n",
      "starting_node in concept map (that should match the starting edge) = 10\n",
      "Total time for branches to concept conversion = 0.5929865837097168\n",
      "\n",
      "Shortest path = [10, 11, 23, 24, 31, 37, 39]\n",
      "Short segments to combine = []\n",
      "Found 2 high degree coordinates to cut\n",
      "Picking [1097960.  576547.  608714.] high degree coordinates to cut\n",
      "coordinate_branches = [4, 6, 10, 11]\n",
      "4 = red\n",
      "6 = aqua\n",
      "10 = purple\n",
      "11 = green\n",
      "Angle between 4 and 6 = 88.88 \n",
      "Angle between 4 and 10 = 103.43 \n",
      "Angle between 4 and 11 = 63.57 \n",
      "Angle between 6 and 10 = 28.0 \n",
      "Angle between 6 and 11 = 127.56 \n",
      "Angle between 10 and 11 = 69.24 \n",
      "Final Matches = [[6, 10]]\n",
      "matched_branches_revised = [[6, 10]]\n",
      "Original graph\n"
     ]
    },
    {
     "data": {
      "image/png": "[encoded data removed]",
      "text/plain": [
       "<Figure size 432x288 with 1 Axes>"
      ]
     },
     "metadata": {},
     "output_type": "display_data"
    },
    {
     "name": "stdout",
     "output_type": "stream",
     "text": [
      "edges_to_delete = [array([ 4, 10]), array([10, 11])]\n",
      "edges_to_create = []\n",
      "Starting_edge inside branches_to_conept = [[1097960.  576547.  608714.]\n",
      " [1100130.  593355.  611840.]]\n",
      "At the start, starting_node (in terms of the skeleton, that shouldn't match the starting edge) = [10]\n",
      "printing out current edge:\n",
      "[[1100130.  593355.  611840.]\n",
      " [1097960.  576547.  608714.]]\n",
      "edge_endpoints_to_process was empty so exiting loop after 42 iterations\n",
      "starting_node in concept map (that should match the starting edge) = 10\n",
      "Total time for branches to concept conversion = 0.5856540203094482\n",
      "\n",
      "Skipping endnode 39 because skeletal distance was 168.36286511660626 and threshold was 2500\n",
      "skip_nodes = [39]\n",
      "edges_to_delete = [array([ 4, 10]), array([10, 11])]\n",
      "edges_to_create = []\n",
      "Number of connected components = 3\n",
      "Comp 0 = {1, 2, 3, 6, 7, 8, 9, 10, 12, 13, 14, 15, 29, 30}\n",
      "Comp 1 = {4}\n",
      "Comp 2 = {0, 5, 11, 16, 17, 18, 19, 20, 21, 22, 23, 24, 25, 26, 27, 28, 31, 32, 33, 34, 35, 36, 37, 38, 39, 40, 41}\n",
      "After get best cut: cut_edges = [array([ 4, 10]), array([10, 11])], added_edges = []\n",
      "-----------counter = 0------------\n",
      " Cut iteration 1\n",
      "Starting_edge inside branches_to_conept = [[1097960.  576547.  608714.]\n",
      " [1100130.  593355.  611840.]]\n",
      "At the start, starting_node (in terms of the skeleton, that shouldn't match the starting edge) = [10]\n",
      "printing out current edge:\n",
      "[[1100130.  593355.  611840.]\n",
      " [1097960.  576547.  608714.]]\n",
      "edge_endpoints_to_process was empty so exiting loop after 42 iterations\n",
      "starting_node in concept map (that should match the starting edge) = 10\n",
      "Total time for branches to concept conversion = 0.5873985290527344\n",
      "\n",
      "Shortest path = [10, 11, 23, 24, 31, 37, 39]\n",
      "Short segments to combine = []\n",
      "Found 2 high degree coordinates to cut\n",
      "Picking [1097960.  576547.  608714.] high degree coordinates to cut\n",
      "coordinate_branches = [4, 6, 10, 11]\n",
      "4 = red\n",
      "6 = aqua\n",
      "10 = purple\n",
      "11 = green\n",
      "Angle between 4 and 6 = 88.88 \n",
      "Angle between 4 and 10 = 103.43 \n",
      "Angle between 4 and 11 = 63.57 \n",
      "Angle between 6 and 10 = 28.0 \n",
      "Angle between 6 and 11 = 127.56 \n",
      "Angle between 10 and 11 = 69.24 \n",
      "Final Matches = [[6, 10]]\n",
      "matched_branches_revised = [[6, 10]]\n",
      "Original graph\n"
     ]
    },
    {
     "data": {
      "image/png": "[encoded data removed]",
      "text/plain": [
       "<Figure size 432x288 with 1 Axes>"
      ]
     },
     "metadata": {},
     "output_type": "display_data"
    },
    {
     "name": "stdout",
     "output_type": "stream",
     "text": [
      "edges_to_delete = [array([ 4, 10]), array([10, 11])]\n",
      "edges_to_create = []\n",
      "Starting_edge inside branches_to_conept = [[1097960.  576547.  608714.]\n",
      " [1100130.  593355.  611840.]]\n",
      "At the start, starting_node (in terms of the skeleton, that shouldn't match the starting edge) = [10]\n",
      "printing out current edge:\n",
      "[[1100130.  593355.  611840.]\n",
      " [1097960.  576547.  608714.]]\n",
      "edge_endpoints_to_process was empty so exiting loop after 42 iterations\n",
      "starting_node in concept map (that should match the starting edge) = 10\n",
      "Total time for branches to concept conversion = 0.7574725151062012\n",
      "\n",
      "Skipping endnode 39 because skeletal distance was 168.36286511660626 and threshold was 2500\n",
      "skip_nodes = [39]\n",
      "edges_to_delete = [array([ 4, 10]), array([10, 11])]\n",
      "edges_to_create = []\n",
      "Number of connected components = 3\n",
      "Comp 0 = {1, 2, 3, 6, 7, 8, 9, 10, 12, 13, 14, 15, 29, 30}\n",
      "Comp 1 = {4}\n",
      "Comp 2 = {0, 5, 11, 16, 17, 18, 19, 20, 21, 22, 23, 24, 25, 26, 27, 28, 31, 32, 33, 34, 35, 36, 37, 38, 39, 40, 41}\n",
      "After get best cut: cut_edges = [array([ 4, 10]), array([10, 11])], added_edges = []\n",
      "-----------counter = 1------------\n",
      " Cut iteration 2\n",
      "Starting_edge inside branches_to_conept = [[1097960.  576547.  608714.]\n",
      " [1100130.  593355.  611840.]]\n",
      "At the start, starting_node (in terms of the skeleton, that shouldn't match the starting edge) = [10]\n",
      "printing out current edge:\n",
      "[[1100130.  593355.  611840.]\n",
      " [1097960.  576547.  608714.]]\n",
      "edge_endpoints_to_process was empty so exiting loop after 42 iterations\n",
      "starting_node in concept map (that should match the starting edge) = 10\n",
      "Total time for branches to concept conversion = 0.7557098865509033\n",
      "\n",
      "Shortest path = [10, 11, 23, 24, 31, 37, 39]\n",
      "Short segments to combine = []\n",
      "Found 2 high degree coordinates to cut\n",
      "Picking [1097960.  576547.  608714.] high degree coordinates to cut\n",
      "coordinate_branches = [4, 6, 10, 11]\n",
      "4 = red\n",
      "6 = aqua\n",
      "10 = purple\n",
      "11 = green\n",
      "Angle between 4 and 6 = 88.88 \n",
      "Angle between 4 and 10 = 103.43 \n",
      "Angle between 4 and 11 = 63.57 \n",
      "Angle between 6 and 10 = 28.0 \n",
      "Angle between 6 and 11 = 127.56 \n",
      "Angle between 10 and 11 = 69.24 \n",
      "Final Matches = [[6, 10]]\n",
      "matched_branches_revised = [[6, 10]]\n",
      "Original graph\n"
     ]
    },
    {
     "data": {
      "image/png": "[encoded data removed]",
      "text/plain": [
       "<Figure size 432x288 with 1 Axes>"
      ]
     },
     "metadata": {},
     "output_type": "display_data"
    },
    {
     "name": "stdout",
     "output_type": "stream",
     "text": [
      "edges_to_delete = [array([ 4, 10]), array([10, 11])]\n",
      "edges_to_create = []\n",
      "Starting_edge inside branches_to_conept = [[1097960.  576547.  608714.]\n",
      " [1100130.  593355.  611840.]]\n",
      "At the start, starting_node (in terms of the skeleton, that shouldn't match the starting edge) = [10]\n",
      "printing out current edge:\n",
      "[[1100130.  593355.  611840.]\n",
      " [1097960.  576547.  608714.]]\n",
      "edge_endpoints_to_process was empty so exiting loop after 42 iterations\n",
      "starting_node in concept map (that should match the starting edge) = 10\n",
      "Total time for branches to concept conversion = 0.6595325469970703\n",
      "\n",
      "Skipping endnode 39 because skeletal distance was 168.36286511660626 and threshold was 2500\n",
      "skip_nodes = [39]\n",
      "edges_to_delete = [array([ 4, 10]), array([10, 11])]\n",
      "edges_to_create = []\n",
      "Number of connected components = 3\n",
      "Comp 0 = {1, 2, 3, 6, 7, 8, 9, 10, 12, 13, 14, 15, 29, 30}\n",
      "Comp 1 = {4}\n",
      "Comp 2 = {0, 5, 11, 16, 17, 18, 19, 20, 21, 22, 23, 24, 25, 26, 27, 28, 31, 32, 33, 34, 35, 36, 37, 38, 39, 40, 41}\n",
      "After get best cut: cut_edges = [array([ 4, 10]), array([10, 11])], added_edges = []\n",
      "-----------counter = 2------------\n",
      " Cut iteration 3\n",
      "Starting_edge inside branches_to_conept = [[1097960.  576547.  608714.]\n",
      " [1100130.  593355.  611840.]]\n",
      "At the start, starting_node (in terms of the skeleton, that shouldn't match the starting edge) = [10]\n",
      "printing out current edge:\n",
      "[[1100130.  593355.  611840.]\n",
      " [1097960.  576547.  608714.]]\n",
      "edge_endpoints_to_process was empty so exiting loop after 42 iterations\n",
      "starting_node in concept map (that should match the starting edge) = 10\n",
      "Total time for branches to concept conversion = 0.6029505729675293\n",
      "\n",
      "Shortest path = [10, 11, 23, 24, 31, 37, 39]\n",
      "Short segments to combine = []\n",
      "Found 2 high degree coordinates to cut\n",
      "Picking [1097960.  576547.  608714.] high degree coordinates to cut\n",
      "coordinate_branches = [4, 6, 10, 11]\n",
      "4 = red\n",
      "6 = aqua\n",
      "10 = purple\n",
      "11 = green\n",
      "Angle between 4 and 6 = 88.88 \n",
      "Angle between 4 and 10 = 103.43 \n",
      "Angle between 4 and 11 = 63.57 \n",
      "Angle between 6 and 10 = 28.0 \n",
      "Angle between 6 and 11 = 127.56 \n",
      "Angle between 10 and 11 = 69.24 \n",
      "Final Matches = [[6, 10]]\n",
      "matched_branches_revised = [[6, 10]]\n",
      "Original graph\n"
     ]
    },
    {
     "data": {
      "image/png": "[encoded data removed]",
      "text/plain": [
       "<Figure size 432x288 with 1 Axes>"
      ]
     },
     "metadata": {},
     "output_type": "display_data"
    },
    {
     "name": "stdout",
     "output_type": "stream",
     "text": [
      "edges_to_delete = [array([ 4, 10]), array([10, 11])]\n",
      "edges_to_create = []\n",
      "Starting_edge inside branches_to_conept = [[1097960.  576547.  608714.]\n",
      " [1100130.  593355.  611840.]]\n",
      "At the start, starting_node (in terms of the skeleton, that shouldn't match the starting edge) = [10]\n",
      "printing out current edge:\n",
      "[[1100130.  593355.  611840.]\n",
      " [1097960.  576547.  608714.]]\n",
      "edge_endpoints_to_process was empty so exiting loop after 42 iterations\n",
      "starting_node in concept map (that should match the starting edge) = 10\n",
      "Total time for branches to concept conversion = 0.5978591442108154\n",
      "\n",
      "Skipping endnode 39 because skeletal distance was 168.36286511660626 and threshold was 2500\n",
      "skip_nodes = [39]\n",
      "edges_to_delete = [array([ 4, 10]), array([10, 11])]\n",
      "edges_to_create = []\n",
      "Number of connected components = 3\n",
      "Comp 0 = {1, 2, 3, 6, 7, 8, 9, 10, 12, 13, 14, 15, 29, 30}\n",
      "Comp 1 = {4}\n",
      "Comp 2 = {0, 5, 11, 16, 17, 18, 19, 20, 21, 22, 23, 24, 25, 26, 27, 28, 31, 32, 33, 34, 35, 36, 37, 38, 39, 40, 41}\n",
      "After get best cut: cut_edges = [array([ 4, 10]), array([10, 11])], added_edges = []\n",
      "-----------counter = 3------------\n",
      " Cut iteration 4\n",
      "Starting_edge inside branches_to_conept = [[1097960.  576547.  608714.]\n",
      " [1100130.  593355.  611840.]]\n",
      "At the start, starting_node (in terms of the skeleton, that shouldn't match the starting edge) = [10]\n",
      "printing out current edge:\n",
      "[[1100130.  593355.  611840.]\n",
      " [1097960.  576547.  608714.]]\n",
      "edge_endpoints_to_process was empty so exiting loop after 42 iterations\n",
      "starting_node in concept map (that should match the starting edge) = 10\n",
      "Total time for branches to concept conversion = 0.6251521110534668\n",
      "\n",
      "Shortest path = [10, 11, 23, 24, 31, 37, 39]\n",
      "Short segments to combine = []\n",
      "Found 2 high degree coordinates to cut\n",
      "Picking [1097960.  576547.  608714.] high degree coordinates to cut\n",
      "coordinate_branches = [4, 6, 10, 11]\n",
      "4 = red\n",
      "6 = aqua\n",
      "10 = purple\n",
      "11 = green\n",
      "Angle between 4 and 6 = 88.88 \n",
      "Angle between 4 and 10 = 103.43 \n",
      "Angle between 4 and 11 = 63.57 \n",
      "Angle between 6 and 10 = 28.0 \n",
      "Angle between 6 and 11 = 127.56 \n",
      "Angle between 10 and 11 = 69.24 \n",
      "Final Matches = [[6, 10]]\n",
      "matched_branches_revised = [[6, 10]]\n",
      "Original graph\n"
     ]
    },
    {
     "data": {
      "image/png": "[encoded data removed]",
      "text/plain": [
       "<Figure size 432x288 with 1 Axes>"
      ]
     },
     "metadata": {},
     "output_type": "display_data"
    },
    {
     "name": "stdout",
     "output_type": "stream",
     "text": [
      "edges_to_delete = [array([ 4, 10]), array([10, 11])]\n",
      "edges_to_create = []\n",
      "Starting_edge inside branches_to_conept = [[1097960.  576547.  608714.]\n",
      " [1100130.  593355.  611840.]]\n",
      "At the start, starting_node (in terms of the skeleton, that shouldn't match the starting edge) = [10]\n",
      "printing out current edge:\n",
      "[[1100130.  593355.  611840.]\n",
      " [1097960.  576547.  608714.]]\n",
      "edge_endpoints_to_process was empty so exiting loop after 42 iterations\n",
      "starting_node in concept map (that should match the starting edge) = 10\n",
      "Total time for branches to concept conversion = 0.6524868011474609\n",
      "\n",
      "Skipping endnode 39 because skeletal distance was 168.36286511660626 and threshold was 2500\n",
      "skip_nodes = [39]\n",
      "edges_to_delete = [array([ 4, 10]), array([10, 11])]\n",
      "edges_to_create = []\n",
      "Number of connected components = 3\n",
      "Comp 0 = {1, 2, 3, 6, 7, 8, 9, 10, 12, 13, 14, 15, 29, 30}\n",
      "Comp 1 = {4}\n",
      "Comp 2 = {0, 5, 11, 16, 17, 18, 19, 20, 21, 22, 23, 24, 25, 26, 27, 28, 31, 32, 33, 34, 35, 36, 37, 38, 39, 40, 41}\n",
      "After get best cut: cut_edges = [array([ 4, 10]), array([10, 11])], added_edges = []\n",
      "-----------counter = 4------------\n",
      " Cut iteration 5\n",
      "Starting_edge inside branches_to_conept = [[1097960.  576547.  608714.]\n",
      " [1100130.  593355.  611840.]]\n",
      "At the start, starting_node (in terms of the skeleton, that shouldn't match the starting edge) = [10]\n",
      "printing out current edge:\n",
      "[[1100130.  593355.  611840.]\n",
      " [1097960.  576547.  608714.]]\n",
      "edge_endpoints_to_process was empty so exiting loop after 42 iterations\n",
      "starting_node in concept map (that should match the starting edge) = 10\n",
      "Total time for branches to concept conversion = 0.6295633316040039\n",
      "\n",
      "Shortest path = [10, 11, 23, 24, 31, 37, 39]\n",
      "Short segments to combine = []\n",
      "Found 2 high degree coordinates to cut\n",
      "Picking [1097960.  576547.  608714.] high degree coordinates to cut\n",
      "coordinate_branches = [4, 6, 10, 11]\n",
      "4 = red\n",
      "6 = aqua\n",
      "10 = purple\n",
      "11 = green\n",
      "Angle between 4 and 6 = 88.88 \n",
      "Angle between 4 and 10 = 103.43 \n",
      "Angle between 4 and 11 = 63.57 \n",
      "Angle between 6 and 10 = 28.0 \n",
      "Angle between 6 and 11 = 127.56 \n",
      "Angle between 10 and 11 = 69.24 \n",
      "Final Matches = [[6, 10]]\n",
      "matched_branches_revised = [[6, 10]]\n",
      "Original graph\n"
     ]
    },
    {
     "data": {
      "image/png": "[encoded data removed]",
      "text/plain": [
       "<Figure size 432x288 with 1 Axes>"
      ]
     },
     "metadata": {},
     "output_type": "display_data"
    },
    {
     "name": "stdout",
     "output_type": "stream",
     "text": [
      "edges_to_delete = [array([ 4, 10]), array([10, 11])]\n",
      "edges_to_create = []\n",
      "Starting_edge inside branches_to_conept = [[1097960.  576547.  608714.]\n",
      " [1100130.  593355.  611840.]]\n",
      "At the start, starting_node (in terms of the skeleton, that shouldn't match the starting edge) = [10]\n",
      "printing out current edge:\n",
      "[[1100130.  593355.  611840.]\n",
      " [1097960.  576547.  608714.]]\n",
      "edge_endpoints_to_process was empty so exiting loop after 42 iterations\n",
      "starting_node in concept map (that should match the starting edge) = 10\n",
      "Total time for branches to concept conversion = 0.5844259262084961\n",
      "\n",
      "Skipping endnode 39 because skeletal distance was 168.36286511660626 and threshold was 2500\n",
      "skip_nodes = [39]\n",
      "edges_to_delete = [array([ 4, 10]), array([10, 11])]\n",
      "edges_to_create = []\n",
      "Number of connected components = 3\n",
      "Comp 0 = {1, 2, 3, 6, 7, 8, 9, 10, 12, 13, 14, 15, 29, 30}\n",
      "Comp 1 = {4}\n",
      "Comp 2 = {0, 5, 11, 16, 17, 18, 19, 20, 21, 22, 23, 24, 25, 26, 27, 28, 31, 32, 33, 34, 35, 36, 37, 38, 39, 40, 41}\n",
      "After get best cut: cut_edges = [array([ 4, 10]), array([10, 11])], added_edges = []\n",
      "-----------counter = 5------------\n",
      " Cut iteration 6\n",
      "Starting_edge inside branches_to_conept = [[1097960.  576547.  608714.]\n",
      " [1100130.  593355.  611840.]]\n",
      "At the start, starting_node (in terms of the skeleton, that shouldn't match the starting edge) = [10]\n",
      "printing out current edge:\n",
      "[[1100130.  593355.  611840.]\n",
      " [1097960.  576547.  608714.]]\n",
      "edge_endpoints_to_process was empty so exiting loop after 42 iterations\n",
      "starting_node in concept map (that should match the starting edge) = 10\n",
      "Total time for branches to concept conversion = 0.5859570503234863\n",
      "\n",
      "Shortest path = [10, 11, 23, 24, 31, 37, 39]\n",
      "Short segments to combine = []\n",
      "Found 2 high degree coordinates to cut\n",
      "Picking [1097960.  576547.  608714.] high degree coordinates to cut\n",
      "coordinate_branches = [4, 6, 10, 11]\n",
      "4 = red\n",
      "6 = aqua\n",
      "10 = purple\n",
      "11 = green\n",
      "Angle between 4 and 6 = 88.88 \n",
      "Angle between 4 and 10 = 103.43 \n",
      "Angle between 4 and 11 = 63.57 \n",
      "Angle between 6 and 10 = 28.0 \n",
      "Angle between 6 and 11 = 127.56 \n",
      "Angle between 10 and 11 = 69.24 \n",
      "Final Matches = [[6, 10]]\n",
      "matched_branches_revised = [[6, 10]]\n",
      "Original graph\n"
     ]
    },
    {
     "data": {
      "image/png": "[encoded data removed]",
      "text/plain": [
       "<Figure size 432x288 with 1 Axes>"
      ]
     },
     "metadata": {},
     "output_type": "display_data"
    },
    {
     "name": "stdout",
     "output_type": "stream",
     "text": [
      "edges_to_delete = [array([ 4, 10]), array([10, 11])]\n",
      "edges_to_create = []\n",
      "Starting_edge inside branches_to_conept = [[1097960.  576547.  608714.]\n",
      " [1100130.  593355.  611840.]]\n",
      "At the start, starting_node (in terms of the skeleton, that shouldn't match the starting edge) = [10]\n",
      "printing out current edge:\n",
      "[[1100130.  593355.  611840.]\n",
      " [1097960.  576547.  608714.]]\n",
      "edge_endpoints_to_process was empty so exiting loop after 42 iterations\n",
      "starting_node in concept map (that should match the starting edge) = 10\n",
      "Total time for branches to concept conversion = 0.6028318405151367\n",
      "\n",
      "Skipping endnode 39 because skeletal distance was 168.36286511660626 and threshold was 2500\n",
      "skip_nodes = [39]\n",
      "edges_to_delete = [array([ 4, 10]), array([10, 11])]\n",
      "edges_to_create = []\n",
      "Number of connected components = 3\n",
      "Comp 0 = {1, 2, 3, 6, 7, 8, 9, 10, 12, 13, 14, 15, 29, 30}\n",
      "Comp 1 = {4}\n",
      "Comp 2 = {0, 5, 11, 16, 17, 18, 19, 20, 21, 22, 23, 24, 25, 26, 27, 28, 31, 32, 33, 34, 35, 36, 37, 38, 39, 40, 41}\n",
      "After get best cut: cut_edges = [array([ 4, 10]), array([10, 11])], added_edges = []\n",
      "-----------counter = 6------------\n",
      " Cut iteration 7\n",
      "Starting_edge inside branches_to_conept = [[1097960.  576547.  608714.]\n",
      " [1100130.  593355.  611840.]]\n",
      "At the start, starting_node (in terms of the skeleton, that shouldn't match the starting edge) = [10]\n",
      "printing out current edge:\n",
      "[[1100130.  593355.  611840.]\n",
      " [1097960.  576547.  608714.]]\n",
      "edge_endpoints_to_process was empty so exiting loop after 42 iterations\n",
      "starting_node in concept map (that should match the starting edge) = 10\n",
      "Total time for branches to concept conversion = 0.5985238552093506\n",
      "\n",
      "Shortest path = [10, 11, 23, 24, 31, 37, 39]\n",
      "Short segments to combine = []\n",
      "Found 2 high degree coordinates to cut\n",
      "Picking [1097960.  576547.  608714.] high degree coordinates to cut\n",
      "coordinate_branches = [4, 6, 10, 11]\n",
      "4 = red\n",
      "6 = aqua\n",
      "10 = purple\n",
      "11 = green\n",
      "Angle between 4 and 6 = 88.88 \n",
      "Angle between 4 and 10 = 103.43 \n",
      "Angle between 4 and 11 = 63.57 \n",
      "Angle between 6 and 10 = 28.0 \n",
      "Angle between 6 and 11 = 127.56 \n",
      "Angle between 10 and 11 = 69.24 \n",
      "Final Matches = [[6, 10]]\n",
      "matched_branches_revised = [[6, 10]]\n",
      "Original graph\n"
     ]
    },
    {
     "data": {
      "image/png": "[encoded data removed]",
      "text/plain": [
       "<Figure size 432x288 with 1 Axes>"
      ]
     },
     "metadata": {},
     "output_type": "display_data"
    },
    {
     "name": "stdout",
     "output_type": "stream",
     "text": [
      "edges_to_delete = [array([ 4, 10]), array([10, 11])]\n",
      "edges_to_create = []\n",
      "Starting_edge inside branches_to_conept = [[1097960.  576547.  608714.]\n",
      " [1100130.  593355.  611840.]]\n",
      "At the start, starting_node (in terms of the skeleton, that shouldn't match the starting edge) = [10]\n",
      "printing out current edge:\n",
      "[[1100130.  593355.  611840.]\n",
      " [1097960.  576547.  608714.]]\n",
      "edge_endpoints_to_process was empty so exiting loop after 42 iterations\n",
      "starting_node in concept map (that should match the starting edge) = 10\n",
      "Total time for branches to concept conversion = 0.60831618309021\n",
      "\n",
      "Skipping endnode 39 because skeletal distance was 168.36286511660626 and threshold was 2500\n",
      "skip_nodes = [39]\n",
      "edges_to_delete = [array([ 4, 10]), array([10, 11])]\n",
      "edges_to_create = []\n",
      "Number of connected components = 3\n",
      "Comp 0 = {1, 2, 3, 6, 7, 8, 9, 10, 12, 13, 14, 15, 29, 30}\n",
      "Comp 1 = {4}\n",
      "Comp 2 = {0, 5, 11, 16, 17, 18, 19, 20, 21, 22, 23, 24, 25, 26, 27, 28, 31, 32, 33, 34, 35, 36, 37, 38, 39, 40, 41}\n",
      "After get best cut: cut_edges = [array([ 4, 10]), array([10, 11])], added_edges = []\n",
      "-----------counter = 7------------\n",
      " Cut iteration 8\n",
      "Starting_edge inside branches_to_conept = [[1097960.  576547.  608714.]\n",
      " [1100130.  593355.  611840.]]\n",
      "At the start, starting_node (in terms of the skeleton, that shouldn't match the starting edge) = [10]\n",
      "printing out current edge:\n",
      "[[1100130.  593355.  611840.]\n",
      " [1097960.  576547.  608714.]]\n",
      "edge_endpoints_to_process was empty so exiting loop after 42 iterations\n",
      "starting_node in concept map (that should match the starting edge) = 10\n",
      "Total time for branches to concept conversion = 0.6027195453643799\n",
      "\n",
      "Shortest path = [10, 11, 23, 24, 31, 37, 39]\n",
      "Short segments to combine = []\n",
      "Found 2 high degree coordinates to cut\n",
      "Picking [1097960.  576547.  608714.] high degree coordinates to cut\n",
      "coordinate_branches = [4, 6, 10, 11]\n",
      "4 = red\n",
      "6 = aqua\n",
      "10 = purple\n",
      "11 = green\n",
      "Angle between 4 and 6 = 88.88 \n",
      "Angle between 4 and 10 = 103.43 \n",
      "Angle between 4 and 11 = 63.57 \n",
      "Angle between 6 and 10 = 28.0 \n",
      "Angle between 6 and 11 = 127.56 \n",
      "Angle between 10 and 11 = 69.24 \n",
      "Final Matches = [[6, 10]]\n",
      "matched_branches_revised = [[6, 10]]\n",
      "Original graph\n"
     ]
    },
    {
     "data": {
      "image/png": "[encoded data removed]",
      "text/plain": [
       "<Figure size 432x288 with 1 Axes>"
      ]
     },
     "metadata": {},
     "output_type": "display_data"
    },
    {
     "name": "stdout",
     "output_type": "stream",
     "text": [
      "edges_to_delete = [array([ 4, 10]), array([10, 11])]\n",
      "edges_to_create = []\n",
      "Starting_edge inside branches_to_conept = [[1097960.  576547.  608714.]\n",
      " [1100130.  593355.  611840.]]\n",
      "At the start, starting_node (in terms of the skeleton, that shouldn't match the starting edge) = [10]\n",
      "printing out current edge:\n",
      "[[1100130.  593355.  611840.]\n",
      " [1097960.  576547.  608714.]]\n",
      "edge_endpoints_to_process was empty so exiting loop after 42 iterations\n",
      "starting_node in concept map (that should match the starting edge) = 10\n",
      "Total time for branches to concept conversion = 0.603452205657959\n",
      "\n",
      "Skipping endnode 39 because skeletal distance was 168.36286511660626 and threshold was 2500\n",
      "skip_nodes = [39]\n",
      "edges_to_delete = [array([ 4, 10]), array([10, 11])]\n",
      "edges_to_create = []\n",
      "Number of connected components = 3\n",
      "Comp 0 = {1, 2, 3, 6, 7, 8, 9, 10, 12, 13, 14, 15, 29, 30}\n",
      "Comp 1 = {4}\n",
      "Comp 2 = {0, 5, 11, 16, 17, 18, 19, 20, 21, 22, 23, 24, 25, 26, 27, 28, 31, 32, 33, 34, 35, 36, 37, 38, 39, 40, 41}\n",
      "After get best cut: cut_edges = [array([ 4, 10]), array([10, 11])], added_edges = []\n",
      "-----------counter = 8------------\n",
      " Cut iteration 9\n",
      "Starting_edge inside branches_to_conept = [[1097960.  576547.  608714.]\n",
      " [1100130.  593355.  611840.]]\n",
      "At the start, starting_node (in terms of the skeleton, that shouldn't match the starting edge) = [10]\n",
      "printing out current edge:\n",
      "[[1100130.  593355.  611840.]\n",
      " [1097960.  576547.  608714.]]\n",
      "edge_endpoints_to_process was empty so exiting loop after 42 iterations\n",
      "starting_node in concept map (that should match the starting edge) = 10\n",
      "Total time for branches to concept conversion = 0.5698416233062744\n",
      "\n",
      "Shortest path = [10, 11, 23, 24, 31, 37, 39]\n",
      "Short segments to combine = []\n",
      "Found 2 high degree coordinates to cut\n",
      "Picking [1097960.  576547.  608714.] high degree coordinates to cut\n",
      "coordinate_branches = [4, 6, 10, 11]\n",
      "4 = red\n",
      "6 = aqua\n",
      "10 = purple\n",
      "11 = green\n",
      "Angle between 4 and 6 = 88.88 \n",
      "Angle between 4 and 10 = 103.43 \n",
      "Angle between 4 and 11 = 63.57 \n",
      "Angle between 6 and 10 = 28.0 \n",
      "Angle between 6 and 11 = 127.56 \n",
      "Angle between 10 and 11 = 69.24 \n",
      "Final Matches = [[6, 10]]\n",
      "matched_branches_revised = [[6, 10]]\n",
      "Original graph\n"
     ]
    },
    {
     "data": {
      "image/png": "[encoded data removed]",
      "text/plain": [
       "<Figure size 432x288 with 1 Axes>"
      ]
     },
     "metadata": {},
     "output_type": "display_data"
    },
    {
     "name": "stdout",
     "output_type": "stream",
     "text": [
      "edges_to_delete = [array([ 4, 10]), array([10, 11])]\n",
      "edges_to_create = []\n",
      "Starting_edge inside branches_to_conept = [[1097960.  576547.  608714.]\n",
      " [1100130.  593355.  611840.]]\n",
      "At the start, starting_node (in terms of the skeleton, that shouldn't match the starting edge) = [10]\n",
      "printing out current edge:\n",
      "[[1100130.  593355.  611840.]\n",
      " [1097960.  576547.  608714.]]\n",
      "edge_endpoints_to_process was empty so exiting loop after 42 iterations\n",
      "starting_node in concept map (that should match the starting edge) = 10\n",
      "Total time for branches to concept conversion = 0.5932731628417969\n",
      "\n",
      "Skipping endnode 39 because skeletal distance was 168.36286511660626 and threshold was 2500\n",
      "skip_nodes = [39]\n",
      "edges_to_delete = [array([ 4, 10]), array([10, 11])]\n",
      "edges_to_create = []\n",
      "Number of connected components = 3\n",
      "Comp 0 = {1, 2, 3, 6, 7, 8, 9, 10, 12, 13, 14, 15, 29, 30}\n",
      "Comp 1 = {4}\n",
      "Comp 2 = {0, 5, 11, 16, 17, 18, 19, 20, 21, 22, 23, 24, 25, 26, 27, 28, 31, 32, 33, 34, 35, 36, 37, 38, 39, 40, 41}\n",
      "After get best cut: cut_edges = [array([ 4, 10]), array([10, 11])], added_edges = []\n",
      "-----------counter = 9------------\n",
      " Cut iteration 10\n",
      "Starting_edge inside branches_to_conept = [[1097960.  576547.  608714.]\n",
      " [1100130.  593355.  611840.]]\n",
      "At the start, starting_node (in terms of the skeleton, that shouldn't match the starting edge) = [10]\n",
      "printing out current edge:\n",
      "[[1100130.  593355.  611840.]\n",
      " [1097960.  576547.  608714.]]\n",
      "edge_endpoints_to_process was empty so exiting loop after 42 iterations\n",
      "starting_node in concept map (that should match the starting edge) = 10\n",
      "Total time for branches to concept conversion = 0.6000051498413086\n",
      "\n",
      "Shortest path = [10, 11, 23, 24, 31, 37, 39]\n",
      "Short segments to combine = []\n",
      "Found 2 high degree coordinates to cut\n",
      "Picking [1097960.  576547.  608714.] high degree coordinates to cut\n",
      "coordinate_branches = [4, 6, 10, 11]\n",
      "4 = red\n",
      "6 = aqua\n",
      "10 = purple\n",
      "11 = green\n",
      "Angle between 4 and 6 = 88.88 \n",
      "Angle between 4 and 10 = 103.43 \n",
      "Angle between 4 and 11 = 63.57 \n",
      "Angle between 6 and 10 = 28.0 \n",
      "Angle between 6 and 11 = 127.56 \n",
      "Angle between 10 and 11 = 69.24 \n",
      "Final Matches = [[6, 10]]\n",
      "matched_branches_revised = [[6, 10]]\n",
      "Original graph\n"
     ]
    },
    {
     "data": {
      "image/png": "[encoded data removed]",
      "text/plain": [
       "<Figure size 432x288 with 1 Axes>"
      ]
     },
     "metadata": {},
     "output_type": "display_data"
    },
    {
     "name": "stdout",
     "output_type": "stream",
     "text": [
      "edges_to_delete = [array([ 4, 10]), array([10, 11])]\n",
      "edges_to_create = []\n",
      "Starting_edge inside branches_to_conept = [[1097960.  576547.  608714.]\n",
      " [1100130.  593355.  611840.]]\n",
      "At the start, starting_node (in terms of the skeleton, that shouldn't match the starting edge) = [10]\n",
      "printing out current edge:\n",
      "[[1100130.  593355.  611840.]\n",
      " [1097960.  576547.  608714.]]\n",
      "edge_endpoints_to_process was empty so exiting loop after 42 iterations\n",
      "starting_node in concept map (that should match the starting edge) = 10\n",
      "Total time for branches to concept conversion = 0.5833511352539062\n",
      "\n",
      "Skipping endnode 39 because skeletal distance was 168.36286511660626 and threshold was 2500\n",
      "skip_nodes = [39]\n",
      "edges_to_delete = [array([ 4, 10]), array([10, 11])]\n",
      "edges_to_create = []\n",
      "Number of connected components = 3\n",
      "Comp 0 = {1, 2, 3, 6, 7, 8, 9, 10, 12, 13, 14, 15, 29, 30}\n",
      "Comp 1 = {4}\n",
      "Comp 2 = {0, 5, 11, 16, 17, 18, 19, 20, 21, 22, 23, 24, 25, 26, 27, 28, 31, 32, 33, 34, 35, 36, 37, 38, 39, 40, 41}\n",
      "After get best cut: cut_edges = [array([ 4, 10]), array([10, 11])], added_edges = []\n",
      "-----------counter = 10------------\n",
      "Breaking because hit max iterations 10\n",
      "Total number of graphs at the end of the split = 3\n",
      "\n",
      "\n",
      " -------- Working on limb 4------------\n",
      "Starting combinations to process = [(1, 7)]\n",
      "\n",
      "\n",
      "---- working on disconnecting 1 and 7\n",
      "---- This disconnects S0_0 from S0_1  \n",
      " Cut iteration 0\n",
      "Starting_edge inside branches_to_conept = [[1104130.  593482.  615280.]\n",
      " [1109310.  575600.  614550.]]\n",
      "At the start, starting_node (in terms of the skeleton, that shouldn't match the starting edge) = [1]\n",
      "printing out current edge:\n",
      "[[1104130.  593482.  615280.]\n",
      " [1109310.  575600.  614550.]]\n",
      "edge_endpoints_to_process was empty so exiting loop after 17 iterations\n",
      "starting_node in concept map (that should match the starting edge) = 1\n",
      "Total time for branches to concept conversion = 0.3074958324432373\n",
      "\n",
      "Shortest path = [1, 3, 12, 6, 7]\n",
      "Short segments to combine = []\n",
      "Found 0 high degree coordinates to cut\n",
      "Starting_edge inside branches_to_conept = [[1104130.  593482.  615280.]\n",
      " [1109310.  575600.  614550.]]\n",
      "At the start, starting_node (in terms of the skeleton, that shouldn't match the starting edge) = [1]\n",
      "printing out current edge:\n",
      "[[1104130.  593482.  615280.]\n",
      " [1109310.  575600.  614550.]]\n",
      "edge_endpoints_to_process was empty so exiting loop after 17 iterations\n",
      "starting_node in concept map (that should match the starting edge) = 1\n",
      "Total time for branches to concept conversion = 0.3886682987213135\n",
      "\n",
      "skip_nodes = []\n",
      "\n",
      "Attempting the doubling back check (symmetrical so don't need to check from both sides)\n"
     ]
    },
    {
     "data": {
      "application/vnd.jupyter.widget-view+json": {
       "model_id": "c12f8c5b819f4fabaaba0b265c077ad6",
       "version_major": 2,
       "version_minor": 0
      },
      "text/plain": [
       "HBox(children=(FloatProgress(value=0.0, max=4.0), HTML(value='')))"
      ]
     },
     "metadata": {},
     "output_type": "display_data"
    },
    {
     "name": "stdout",
     "output_type": "stream",
     "text": [
      "  Edge: [1 3]: curr_angle = 52.92\n",
      "  Edge: [ 3 12]: curr_angle = 39.14\n",
      "  Edge: [12  6]: curr_angle = 119.76\n",
      "  Edge: [6 7]: curr_angle = 47.39\n",
      "\n",
      "Total time for doubling_back = 0.399658203125\n",
      "There were 1 edges that passed doubling back threshold of 100\n",
      "Winning edge [12  6] had a doubling back of 2\n",
      "coordinate_branches = [6, 12, 14]\n",
      "6 = red\n",
      "12 = aqua\n",
      "14 = purple\n",
      "Angle between 6 and 12 = 78.66 \n",
      "Angle between 6 and 14 = 25.95 \n",
      "Angle between 12 and 14 = 92.76 \n",
      "Final Matches = [[6, 14]]\n",
      "matched_branches_revised = [[6, 14]]\n",
      "Original graph\n"
     ]
    },
    {
     "data": {
      "image/png": "[encoded data removed]",
      "text/plain": [
       "<Figure size 432x288 with 1 Axes>"
      ]
     },
     "metadata": {},
     "output_type": "display_data"
    },
    {
     "name": "stdout",
     "output_type": "stream",
     "text": [
      "edges_to_delete = [array([ 6, 12]), array([12, 14])]\n",
      "edges_to_create = [array([ 6, 14])]\n",
      "edges_to_delete = [array([ 6, 12]), array([12, 14])]\n",
      "edges_to_create = [array([ 6, 14])]\n",
      "Accepted edge ((6, 14))\n",
      "Number of connected components = 2\n",
      "Comp 0 = {0, 1, 2, 3, 4, 5, 8, 9, 10, 12, 13, 15, 16}\n",
      "Comp 1 = {11, 7, 6, 14}\n",
      "After get best cut: cut_edges = [array([ 6, 12]), array([12, 14])], added_edges = [[6, 14]]\n",
      "-----------counter = 0------------\n",
      " Cut iteration 1\n",
      "Starting_edge inside branches_to_conept = [[1104130.  593482.  615280.]\n",
      " [1109310.  575600.  614550.]]\n",
      "At the start, starting_node (in terms of the skeleton, that shouldn't match the starting edge) = [1]\n",
      "printing out current edge:\n",
      "[[1104130.  593482.  615280.]\n",
      " [1109310.  575600.  614550.]]\n",
      "edge_endpoints_to_process was empty so exiting loop after 17 iterations\n",
      "starting_node in concept map (that should match the starting edge) = 1\n",
      "Total time for branches to concept conversion = 0.38279223442077637\n",
      "\n",
      "Shortest path = [1, 3, 12, 6, 7]\n",
      "Short segments to combine = []\n",
      "Found 0 high degree coordinates to cut\n",
      "Starting_edge inside branches_to_conept = [[1104130.  593482.  615280.]\n",
      " [1109310.  575600.  614550.]]\n",
      "At the start, starting_node (in terms of the skeleton, that shouldn't match the starting edge) = [1]\n",
      "printing out current edge:\n",
      "[[1104130.  593482.  615280.]\n",
      " [1109310.  575600.  614550.]]\n",
      "edge_endpoints_to_process was empty so exiting loop after 17 iterations\n",
      "starting_node in concept map (that should match the starting edge) = 1\n",
      "Total time for branches to concept conversion = 0.3197975158691406\n",
      "\n",
      "skip_nodes = []\n",
      "\n",
      "Attempting the doubling back check (symmetrical so don't need to check from both sides)\n"
     ]
    },
    {
     "data": {
      "application/vnd.jupyter.widget-view+json": {
       "model_id": "eb0b4df49edd4aa2b02ee95410b4ba8e",
       "version_major": 2,
       "version_minor": 0
      },
      "text/plain": [
       "HBox(children=(FloatProgress(value=0.0, max=4.0), HTML(value='')))"
      ]
     },
     "metadata": {},
     "output_type": "display_data"
    },
    {
     "name": "stdout",
     "output_type": "stream",
     "text": [
      "  Edge: [1 3]: curr_angle = 52.92\n",
      "  Edge: [ 3 12]: curr_angle = 39.14\n",
      "  Edge: [12  6]: curr_angle = 119.76\n",
      "  Edge: [6 7]: curr_angle = 47.39\n",
      "\n",
      "Total time for doubling_back = 0.3141348361968994\n",
      "There were 1 edges that passed doubling back threshold of 100\n",
      "Winning edge [12  6] had a doubling back of 2\n",
      "coordinate_branches = [6, 12, 14]\n",
      "6 = red\n",
      "12 = aqua\n",
      "14 = purple\n",
      "Angle between 6 and 12 = 78.66 \n",
      "Angle between 6 and 14 = 25.95 \n",
      "Angle between 12 and 14 = 92.76 \n",
      "Final Matches = [[6, 14]]\n",
      "matched_branches_revised = [[6, 14]]\n",
      "Original graph\n"
     ]
    },
    {
     "data": {
      "image/png": "[encoded data removed]",
      "text/plain": [
       "<Figure size 432x288 with 1 Axes>"
      ]
     },
     "metadata": {},
     "output_type": "display_data"
    },
    {
     "name": "stdout",
     "output_type": "stream",
     "text": [
      "edges_to_delete = [array([ 6, 12]), array([12, 14])]\n",
      "edges_to_create = [array([ 6, 14])]\n",
      "edges_to_delete = [array([ 6, 12]), array([12, 14])]\n",
      "edges_to_create = [array([ 6, 14])]\n",
      "Accepted edge ((6, 14))\n",
      "Number of connected components = 2\n",
      "Comp 0 = {0, 1, 2, 3, 4, 5, 8, 9, 10, 12, 13, 15, 16}\n",
      "Comp 1 = {11, 7, 6, 14}\n",
      "After get best cut: cut_edges = [array([ 6, 12]), array([12, 14])], added_edges = [[6, 14]]\n",
      "-----------counter = 1------------\n",
      " Cut iteration 2\n",
      "Starting_edge inside branches_to_conept = [[1104130.  593482.  615280.]\n",
      " [1109310.  575600.  614550.]]\n",
      "At the start, starting_node (in terms of the skeleton, that shouldn't match the starting edge) = [1]\n",
      "printing out current edge:\n",
      "[[1104130.  593482.  615280.]\n",
      " [1109310.  575600.  614550.]]\n",
      "edge_endpoints_to_process was empty so exiting loop after 17 iterations\n",
      "starting_node in concept map (that should match the starting edge) = 1\n",
      "Total time for branches to concept conversion = 0.34042811393737793\n",
      "\n",
      "Shortest path = [1, 3, 12, 6, 7]\n",
      "Short segments to combine = []\n",
      "Found 0 high degree coordinates to cut\n",
      "Starting_edge inside branches_to_conept = [[1104130.  593482.  615280.]\n",
      " [1109310.  575600.  614550.]]\n",
      "At the start, starting_node (in terms of the skeleton, that shouldn't match the starting edge) = [1]\n",
      "printing out current edge:\n",
      "[[1104130.  593482.  615280.]\n",
      " [1109310.  575600.  614550.]]\n",
      "edge_endpoints_to_process was empty so exiting loop after 17 iterations\n",
      "starting_node in concept map (that should match the starting edge) = 1\n",
      "Total time for branches to concept conversion = 0.33047938346862793\n",
      "\n",
      "skip_nodes = []\n",
      "\n",
      "Attempting the doubling back check (symmetrical so don't need to check from both sides)\n"
     ]
    },
    {
     "data": {
      "application/vnd.jupyter.widget-view+json": {
       "model_id": "bb6cbca870cc49518fbbd79c738c17d5",
       "version_major": 2,
       "version_minor": 0
      },
      "text/plain": [
       "HBox(children=(FloatProgress(value=0.0, max=4.0), HTML(value='')))"
      ]
     },
     "metadata": {},
     "output_type": "display_data"
    },
    {
     "name": "stdout",
     "output_type": "stream",
     "text": [
      "  Edge: [1 3]: curr_angle = 52.92\n",
      "  Edge: [ 3 12]: curr_angle = 39.14\n",
      "  Edge: [12  6]: curr_angle = 119.76\n",
      "  Edge: [6 7]: curr_angle = 47.39\n",
      "\n",
      "Total time for doubling_back = 0.30977916717529297\n",
      "There were 1 edges that passed doubling back threshold of 100\n",
      "Winning edge [12  6] had a doubling back of 2\n",
      "coordinate_branches = [6, 12, 14]\n",
      "6 = red\n",
      "12 = aqua\n",
      "14 = purple\n",
      "Angle between 6 and 12 = 78.66 \n",
      "Angle between 6 and 14 = 25.95 \n",
      "Angle between 12 and 14 = 92.76 \n",
      "Final Matches = [[6, 14]]\n",
      "matched_branches_revised = [[6, 14]]\n",
      "Original graph\n"
     ]
    },
    {
     "data": {
      "image/png": "[encoded data removed]",
      "text/plain": [
       "<Figure size 432x288 with 1 Axes>"
      ]
     },
     "metadata": {},
     "output_type": "display_data"
    },
    {
     "name": "stdout",
     "output_type": "stream",
     "text": [
      "edges_to_delete = [array([ 6, 12]), array([12, 14])]\n",
      "edges_to_create = [array([ 6, 14])]\n",
      "edges_to_delete = [array([ 6, 12]), array([12, 14])]\n",
      "edges_to_create = [array([ 6, 14])]\n",
      "Accepted edge ((6, 14))\n",
      "Number of connected components = 2\n",
      "Comp 0 = {0, 1, 2, 3, 4, 5, 8, 9, 10, 12, 13, 15, 16}\n",
      "Comp 1 = {11, 7, 6, 14}\n",
      "After get best cut: cut_edges = [array([ 6, 12]), array([12, 14])], added_edges = [[6, 14]]\n",
      "-----------counter = 2------------\n",
      " Cut iteration 3\n",
      "Starting_edge inside branches_to_conept = [[1104130.  593482.  615280.]\n",
      " [1109310.  575600.  614550.]]\n",
      "At the start, starting_node (in terms of the skeleton, that shouldn't match the starting edge) = [1]\n",
      "printing out current edge:\n",
      "[[1104130.  593482.  615280.]\n",
      " [1109310.  575600.  614550.]]\n",
      "edge_endpoints_to_process was empty so exiting loop after 17 iterations\n",
      "starting_node in concept map (that should match the starting edge) = 1\n",
      "Total time for branches to concept conversion = 0.3369312286376953\n",
      "\n",
      "Shortest path = [1, 3, 12, 6, 7]\n",
      "Short segments to combine = []\n",
      "Found 0 high degree coordinates to cut\n",
      "Starting_edge inside branches_to_conept = [[1104130.  593482.  615280.]\n",
      " [1109310.  575600.  614550.]]\n",
      "At the start, starting_node (in terms of the skeleton, that shouldn't match the starting edge) = [1]\n",
      "printing out current edge:\n",
      "[[1104130.  593482.  615280.]\n",
      " [1109310.  575600.  614550.]]\n",
      "edge_endpoints_to_process was empty so exiting loop after 17 iterations\n",
      "starting_node in concept map (that should match the starting edge) = 1\n",
      "Total time for branches to concept conversion = 0.3288719654083252\n",
      "\n",
      "skip_nodes = []\n",
      "\n",
      "Attempting the doubling back check (symmetrical so don't need to check from both sides)\n"
     ]
    },
    {
     "data": {
      "application/vnd.jupyter.widget-view+json": {
       "model_id": "f5ac27966973421b8265b2ae34252ee0",
       "version_major": 2,
       "version_minor": 0
      },
      "text/plain": [
       "HBox(children=(FloatProgress(value=0.0, max=4.0), HTML(value='')))"
      ]
     },
     "metadata": {},
     "output_type": "display_data"
    },
    {
     "name": "stdout",
     "output_type": "stream",
     "text": [
      "  Edge: [1 3]: curr_angle = 52.92\n",
      "  Edge: [ 3 12]: curr_angle = 39.14\n",
      "  Edge: [12  6]: curr_angle = 119.76\n",
      "  Edge: [6 7]: curr_angle = 47.39\n",
      "\n",
      "Total time for doubling_back = 0.40012550354003906\n",
      "There were 1 edges that passed doubling back threshold of 100\n",
      "Winning edge [12  6] had a doubling back of 2\n",
      "coordinate_branches = [6, 12, 14]\n",
      "6 = red\n",
      "12 = aqua\n",
      "14 = purple\n",
      "Angle between 6 and 12 = 78.66 \n",
      "Angle between 6 and 14 = 25.95 \n",
      "Angle between 12 and 14 = 92.76 \n",
      "Final Matches = [[6, 14]]\n",
      "matched_branches_revised = [[6, 14]]\n",
      "Original graph\n"
     ]
    },
    {
     "data": {
      "image/png": "[encoded data removed]",
      "text/plain": [
       "<Figure size 432x288 with 1 Axes>"
      ]
     },
     "metadata": {},
     "output_type": "display_data"
    },
    {
     "name": "stdout",
     "output_type": "stream",
     "text": [
      "edges_to_delete = [array([ 6, 12]), array([12, 14])]\n",
      "edges_to_create = [array([ 6, 14])]\n",
      "edges_to_delete = [array([ 6, 12]), array([12, 14])]\n",
      "edges_to_create = [array([ 6, 14])]\n",
      "Accepted edge ((6, 14))\n",
      "Number of connected components = 2\n",
      "Comp 0 = {0, 1, 2, 3, 4, 5, 8, 9, 10, 12, 13, 15, 16}\n",
      "Comp 1 = {11, 7, 6, 14}\n",
      "After get best cut: cut_edges = [array([ 6, 12]), array([12, 14])], added_edges = [[6, 14]]\n",
      "-----------counter = 3------------\n",
      " Cut iteration 4\n",
      "Starting_edge inside branches_to_conept = [[1104130.  593482.  615280.]\n",
      " [1109310.  575600.  614550.]]\n",
      "At the start, starting_node (in terms of the skeleton, that shouldn't match the starting edge) = [1]\n",
      "printing out current edge:\n",
      "[[1104130.  593482.  615280.]\n",
      " [1109310.  575600.  614550.]]\n",
      "edge_endpoints_to_process was empty so exiting loop after 17 iterations\n",
      "starting_node in concept map (that should match the starting edge) = 1\n",
      "Total time for branches to concept conversion = 0.32882142066955566\n",
      "\n",
      "Shortest path = [1, 3, 12, 6, 7]\n",
      "Short segments to combine = []\n",
      "Found 0 high degree coordinates to cut\n",
      "Starting_edge inside branches_to_conept = [[1104130.  593482.  615280.]\n",
      " [1109310.  575600.  614550.]]\n",
      "At the start, starting_node (in terms of the skeleton, that shouldn't match the starting edge) = [1]\n",
      "printing out current edge:\n",
      "[[1104130.  593482.  615280.]\n",
      " [1109310.  575600.  614550.]]\n",
      "edge_endpoints_to_process was empty so exiting loop after 17 iterations\n",
      "starting_node in concept map (that should match the starting edge) = 1\n",
      "Total time for branches to concept conversion = 0.3297688961029053\n",
      "\n",
      "skip_nodes = []\n",
      "\n",
      "Attempting the doubling back check (symmetrical so don't need to check from both sides)\n"
     ]
    },
    {
     "data": {
      "application/vnd.jupyter.widget-view+json": {
       "model_id": "ebdb79501950437d9bd8df253d3d0dbc",
       "version_major": 2,
       "version_minor": 0
      },
      "text/plain": [
       "HBox(children=(FloatProgress(value=0.0, max=4.0), HTML(value='')))"
      ]
     },
     "metadata": {},
     "output_type": "display_data"
    },
    {
     "name": "stdout",
     "output_type": "stream",
     "text": [
      "  Edge: [1 3]: curr_angle = 52.92\n",
      "  Edge: [ 3 12]: curr_angle = 39.14\n",
      "  Edge: [12  6]: curr_angle = 119.76\n",
      "  Edge: [6 7]: curr_angle = 47.39\n",
      "\n",
      "Total time for doubling_back = 0.3113224506378174\n",
      "There were 1 edges that passed doubling back threshold of 100\n",
      "Winning edge [12  6] had a doubling back of 2\n",
      "coordinate_branches = [6, 12, 14]\n",
      "6 = red\n",
      "12 = aqua\n",
      "14 = purple\n",
      "Angle between 6 and 12 = 78.66 \n",
      "Angle between 6 and 14 = 25.95 \n",
      "Angle between 12 and 14 = 92.76 \n",
      "Final Matches = [[6, 14]]\n",
      "matched_branches_revised = [[6, 14]]\n",
      "Original graph\n"
     ]
    },
    {
     "data": {
      "image/png": "[encoded data removed]",
      "text/plain": [
       "<Figure size 432x288 with 1 Axes>"
      ]
     },
     "metadata": {},
     "output_type": "display_data"
    },
    {
     "name": "stdout",
     "output_type": "stream",
     "text": [
      "edges_to_delete = [array([ 6, 12]), array([12, 14])]\n",
      "edges_to_create = [array([ 6, 14])]\n",
      "edges_to_delete = [array([ 6, 12]), array([12, 14])]\n",
      "edges_to_create = [array([ 6, 14])]\n",
      "Accepted edge ((6, 14))\n",
      "Number of connected components = 2\n",
      "Comp 0 = {0, 1, 2, 3, 4, 5, 8, 9, 10, 12, 13, 15, 16}\n",
      "Comp 1 = {11, 7, 6, 14}\n",
      "After get best cut: cut_edges = [array([ 6, 12]), array([12, 14])], added_edges = [[6, 14]]\n",
      "-----------counter = 4------------\n",
      " Cut iteration 5\n",
      "Starting_edge inside branches_to_conept = [[1104130.  593482.  615280.]\n",
      " [1109310.  575600.  614550.]]\n",
      "At the start, starting_node (in terms of the skeleton, that shouldn't match the starting edge) = [1]\n",
      "printing out current edge:\n",
      "[[1104130.  593482.  615280.]\n",
      " [1109310.  575600.  614550.]]\n",
      "edge_endpoints_to_process was empty so exiting loop after 17 iterations\n",
      "starting_node in concept map (that should match the starting edge) = 1\n",
      "Total time for branches to concept conversion = 0.31843042373657227\n",
      "\n",
      "Shortest path = [1, 3, 12, 6, 7]\n",
      "Short segments to combine = []\n",
      "Found 0 high degree coordinates to cut\n",
      "Starting_edge inside branches_to_conept = [[1104130.  593482.  615280.]\n",
      " [1109310.  575600.  614550.]]\n",
      "At the start, starting_node (in terms of the skeleton, that shouldn't match the starting edge) = [1]\n",
      "printing out current edge:\n",
      "[[1104130.  593482.  615280.]\n",
      " [1109310.  575600.  614550.]]\n",
      "edge_endpoints_to_process was empty so exiting loop after 17 iterations\n",
      "starting_node in concept map (that should match the starting edge) = 1\n",
      "Total time for branches to concept conversion = 0.3088557720184326\n",
      "\n",
      "skip_nodes = []\n",
      "\n",
      "Attempting the doubling back check (symmetrical so don't need to check from both sides)\n"
     ]
    },
    {
     "data": {
      "application/vnd.jupyter.widget-view+json": {
       "model_id": "e10a86cc51304274a2fcb7c81fa9ff76",
       "version_major": 2,
       "version_minor": 0
      },
      "text/plain": [
       "HBox(children=(FloatProgress(value=0.0, max=4.0), HTML(value='')))"
      ]
     },
     "metadata": {},
     "output_type": "display_data"
    },
    {
     "name": "stdout",
     "output_type": "stream",
     "text": [
      "  Edge: [1 3]: curr_angle = 52.92\n",
      "  Edge: [ 3 12]: curr_angle = 39.14\n",
      "  Edge: [12  6]: curr_angle = 119.76\n",
      "  Edge: [6 7]: curr_angle = 47.39\n",
      "\n",
      "Total time for doubling_back = 0.3207409381866455\n",
      "There were 1 edges that passed doubling back threshold of 100\n",
      "Winning edge [12  6] had a doubling back of 2\n",
      "coordinate_branches = [6, 12, 14]\n",
      "6 = red\n",
      "12 = aqua\n",
      "14 = purple\n",
      "Angle between 6 and 12 = 78.66 \n",
      "Angle between 6 and 14 = 25.95 \n",
      "Angle between 12 and 14 = 92.76 \n",
      "Final Matches = [[6, 14]]\n",
      "matched_branches_revised = [[6, 14]]\n",
      "Original graph\n"
     ]
    },
    {
     "data": {
      "image/png": "[encoded data removed]",
      "text/plain": [
       "<Figure size 432x288 with 1 Axes>"
      ]
     },
     "metadata": {},
     "output_type": "display_data"
    },
    {
     "name": "stdout",
     "output_type": "stream",
     "text": [
      "edges_to_delete = [array([ 6, 12]), array([12, 14])]\n",
      "edges_to_create = [array([ 6, 14])]\n",
      "edges_to_delete = [array([ 6, 12]), array([12, 14])]\n",
      "edges_to_create = [array([ 6, 14])]\n",
      "Accepted edge ((6, 14))\n",
      "Number of connected components = 2\n",
      "Comp 0 = {0, 1, 2, 3, 4, 5, 8, 9, 10, 12, 13, 15, 16}\n",
      "Comp 1 = {11, 7, 6, 14}\n",
      "After get best cut: cut_edges = [array([ 6, 12]), array([12, 14])], added_edges = [[6, 14]]\n",
      "-----------counter = 5------------\n",
      " Cut iteration 6\n",
      "Starting_edge inside branches_to_conept = [[1104130.  593482.  615280.]\n",
      " [1109310.  575600.  614550.]]\n",
      "At the start, starting_node (in terms of the skeleton, that shouldn't match the starting edge) = [1]\n",
      "printing out current edge:\n",
      "[[1104130.  593482.  615280.]\n",
      " [1109310.  575600.  614550.]]\n",
      "edge_endpoints_to_process was empty so exiting loop after 17 iterations\n",
      "starting_node in concept map (that should match the starting edge) = 1\n",
      "Total time for branches to concept conversion = 0.32669711112976074\n",
      "\n",
      "Shortest path = [1, 3, 12, 6, 7]\n",
      "Short segments to combine = []\n",
      "Found 0 high degree coordinates to cut\n",
      "Starting_edge inside branches_to_conept = [[1104130.  593482.  615280.]\n",
      " [1109310.  575600.  614550.]]\n",
      "At the start, starting_node (in terms of the skeleton, that shouldn't match the starting edge) = [1]\n",
      "printing out current edge:\n",
      "[[1104130.  593482.  615280.]\n",
      " [1109310.  575600.  614550.]]\n",
      "edge_endpoints_to_process was empty so exiting loop after 17 iterations\n",
      "starting_node in concept map (that should match the starting edge) = 1\n",
      "Total time for branches to concept conversion = 0.30701780319213867\n",
      "\n",
      "skip_nodes = []\n",
      "\n",
      "Attempting the doubling back check (symmetrical so don't need to check from both sides)\n"
     ]
    },
    {
     "data": {
      "application/vnd.jupyter.widget-view+json": {
       "model_id": "998ca84f9b9448008802b4388844fd03",
       "version_major": 2,
       "version_minor": 0
      },
      "text/plain": [
       "HBox(children=(FloatProgress(value=0.0, max=4.0), HTML(value='')))"
      ]
     },
     "metadata": {},
     "output_type": "display_data"
    },
    {
     "name": "stdout",
     "output_type": "stream",
     "text": [
      "  Edge: [1 3]: curr_angle = 52.92\n",
      "  Edge: [ 3 12]: curr_angle = 39.14\n",
      "  Edge: [12  6]: curr_angle = 119.76\n",
      "  Edge: [6 7]: curr_angle = 47.39\n",
      "\n",
      "Total time for doubling_back = 0.3123018741607666\n",
      "There were 1 edges that passed doubling back threshold of 100\n",
      "Winning edge [12  6] had a doubling back of 2\n",
      "coordinate_branches = [6, 12, 14]\n",
      "6 = red\n",
      "12 = aqua\n",
      "14 = purple\n",
      "Angle between 6 and 12 = 78.66 \n",
      "Angle between 6 and 14 = 25.95 \n",
      "Angle between 12 and 14 = 92.76 \n",
      "Final Matches = [[6, 14]]\n",
      "matched_branches_revised = [[6, 14]]\n",
      "Original graph\n"
     ]
    },
    {
     "data": {
      "image/png": "[encoded data removed]",
      "text/plain": [
       "<Figure size 432x288 with 1 Axes>"
      ]
     },
     "metadata": {},
     "output_type": "display_data"
    },
    {
     "name": "stdout",
     "output_type": "stream",
     "text": [
      "edges_to_delete = [array([ 6, 12]), array([12, 14])]\n",
      "edges_to_create = [array([ 6, 14])]\n",
      "edges_to_delete = [array([ 6, 12]), array([12, 14])]\n",
      "edges_to_create = [array([ 6, 14])]\n",
      "Accepted edge ((6, 14))\n",
      "Number of connected components = 2\n",
      "Comp 0 = {0, 1, 2, 3, 4, 5, 8, 9, 10, 12, 13, 15, 16}\n",
      "Comp 1 = {11, 7, 6, 14}\n",
      "After get best cut: cut_edges = [array([ 6, 12]), array([12, 14])], added_edges = [[6, 14]]\n",
      "-----------counter = 6------------\n",
      " Cut iteration 7\n",
      "Starting_edge inside branches_to_conept = [[1104130.  593482.  615280.]\n",
      " [1109310.  575600.  614550.]]\n",
      "At the start, starting_node (in terms of the skeleton, that shouldn't match the starting edge) = [1]\n",
      "printing out current edge:\n",
      "[[1104130.  593482.  615280.]\n",
      " [1109310.  575600.  614550.]]\n",
      "edge_endpoints_to_process was empty so exiting loop after 17 iterations\n",
      "starting_node in concept map (that should match the starting edge) = 1\n",
      "Total time for branches to concept conversion = 0.3199319839477539\n",
      "\n",
      "Shortest path = [1, 3, 12, 6, 7]\n",
      "Short segments to combine = []\n",
      "Found 0 high degree coordinates to cut\n",
      "Starting_edge inside branches_to_conept = [[1104130.  593482.  615280.]\n",
      " [1109310.  575600.  614550.]]\n",
      "At the start, starting_node (in terms of the skeleton, that shouldn't match the starting edge) = [1]\n",
      "printing out current edge:\n",
      "[[1104130.  593482.  615280.]\n",
      " [1109310.  575600.  614550.]]\n",
      "edge_endpoints_to_process was empty so exiting loop after 17 iterations\n",
      "starting_node in concept map (that should match the starting edge) = 1\n",
      "Total time for branches to concept conversion = 0.3113725185394287\n",
      "\n",
      "skip_nodes = []\n",
      "\n",
      "Attempting the doubling back check (symmetrical so don't need to check from both sides)\n"
     ]
    },
    {
     "data": {
      "application/vnd.jupyter.widget-view+json": {
       "model_id": "05373c9338dd4105947aec0c696abff0",
       "version_major": 2,
       "version_minor": 0
      },
      "text/plain": [
       "HBox(children=(FloatProgress(value=0.0, max=4.0), HTML(value='')))"
      ]
     },
     "metadata": {},
     "output_type": "display_data"
    },
    {
     "name": "stdout",
     "output_type": "stream",
     "text": [
      "  Edge: [1 3]: curr_angle = 52.92\n",
      "  Edge: [ 3 12]: curr_angle = 39.14\n",
      "  Edge: [12  6]: curr_angle = 119.76\n",
      "  Edge: [6 7]: curr_angle = 47.39\n",
      "\n",
      "Total time for doubling_back = 0.30737829208374023\n",
      "There were 1 edges that passed doubling back threshold of 100\n",
      "Winning edge [12  6] had a doubling back of 2\n",
      "coordinate_branches = [6, 12, 14]\n",
      "6 = red\n",
      "12 = aqua\n",
      "14 = purple\n",
      "Angle between 6 and 12 = 78.66 \n",
      "Angle between 6 and 14 = 25.95 \n",
      "Angle between 12 and 14 = 92.76 \n",
      "Final Matches = [[6, 14]]\n",
      "matched_branches_revised = [[6, 14]]\n",
      "Original graph\n"
     ]
    },
    {
     "data": {
      "image/png": "[encoded data removed]",
      "text/plain": [
       "<Figure size 432x288 with 1 Axes>"
      ]
     },
     "metadata": {},
     "output_type": "display_data"
    },
    {
     "name": "stdout",
     "output_type": "stream",
     "text": [
      "edges_to_delete = [array([ 6, 12]), array([12, 14])]\n",
      "edges_to_create = [array([ 6, 14])]\n",
      "edges_to_delete = [array([ 6, 12]), array([12, 14])]\n",
      "edges_to_create = [array([ 6, 14])]\n",
      "Accepted edge ((6, 14))\n",
      "Number of connected components = 2\n",
      "Comp 0 = {0, 1, 2, 3, 4, 5, 8, 9, 10, 12, 13, 15, 16}\n",
      "Comp 1 = {11, 7, 6, 14}\n",
      "After get best cut: cut_edges = [array([ 6, 12]), array([12, 14])], added_edges = [[6, 14]]\n",
      "-----------counter = 7------------\n",
      " Cut iteration 8\n",
      "Starting_edge inside branches_to_conept = [[1104130.  593482.  615280.]\n",
      " [1109310.  575600.  614550.]]\n",
      "At the start, starting_node (in terms of the skeleton, that shouldn't match the starting edge) = [1]\n",
      "printing out current edge:\n",
      "[[1104130.  593482.  615280.]\n",
      " [1109310.  575600.  614550.]]\n",
      "edge_endpoints_to_process was empty so exiting loop after 17 iterations\n",
      "starting_node in concept map (that should match the starting edge) = 1\n",
      "Total time for branches to concept conversion = 0.41066598892211914\n",
      "\n",
      "Shortest path = [1, 3, 12, 6, 7]\n",
      "Short segments to combine = []\n",
      "Found 0 high degree coordinates to cut\n",
      "Starting_edge inside branches_to_conept = [[1104130.  593482.  615280.]\n",
      " [1109310.  575600.  614550.]]\n",
      "At the start, starting_node (in terms of the skeleton, that shouldn't match the starting edge) = [1]\n",
      "printing out current edge:\n",
      "[[1104130.  593482.  615280.]\n",
      " [1109310.  575600.  614550.]]\n",
      "edge_endpoints_to_process was empty so exiting loop after 17 iterations\n",
      "starting_node in concept map (that should match the starting edge) = 1\n",
      "Total time for branches to concept conversion = 0.4084494113922119\n",
      "\n",
      "skip_nodes = []\n",
      "\n",
      "Attempting the doubling back check (symmetrical so don't need to check from both sides)\n"
     ]
    },
    {
     "data": {
      "application/vnd.jupyter.widget-view+json": {
       "model_id": "a9131ae62b1e47f7a9e121f2e907572e",
       "version_major": 2,
       "version_minor": 0
      },
      "text/plain": [
       "HBox(children=(FloatProgress(value=0.0, max=4.0), HTML(value='')))"
      ]
     },
     "metadata": {},
     "output_type": "display_data"
    },
    {
     "name": "stdout",
     "output_type": "stream",
     "text": [
      "  Edge: [1 3]: curr_angle = 52.92\n",
      "  Edge: [ 3 12]: curr_angle = 39.14\n",
      "  Edge: [12  6]: curr_angle = 119.76\n",
      "  Edge: [6 7]: curr_angle = 47.39\n",
      "\n",
      "Total time for doubling_back = 0.40918922424316406\n",
      "There were 1 edges that passed doubling back threshold of 100\n",
      "Winning edge [12  6] had a doubling back of 2\n",
      "coordinate_branches = [6, 12, 14]\n",
      "6 = red\n",
      "12 = aqua\n",
      "14 = purple\n",
      "Angle between 6 and 12 = 78.66 \n",
      "Angle between 6 and 14 = 25.95 \n",
      "Angle between 12 and 14 = 92.76 \n",
      "Final Matches = [[6, 14]]\n",
      "matched_branches_revised = [[6, 14]]\n",
      "Original graph\n"
     ]
    },
    {
     "data": {
      "image/png": "[encoded data removed]",
      "text/plain": [
       "<Figure size 432x288 with 1 Axes>"
      ]
     },
     "metadata": {},
     "output_type": "display_data"
    },
    {
     "name": "stdout",
     "output_type": "stream",
     "text": [
      "edges_to_delete = [array([ 6, 12]), array([12, 14])]\n",
      "edges_to_create = [array([ 6, 14])]\n",
      "edges_to_delete = [array([ 6, 12]), array([12, 14])]\n",
      "edges_to_create = [array([ 6, 14])]\n",
      "Accepted edge ((6, 14))\n",
      "Number of connected components = 2\n",
      "Comp 0 = {0, 1, 2, 3, 4, 5, 8, 9, 10, 12, 13, 15, 16}\n",
      "Comp 1 = {11, 7, 6, 14}\n",
      "After get best cut: cut_edges = [array([ 6, 12]), array([12, 14])], added_edges = [[6, 14]]\n",
      "-----------counter = 8------------\n",
      " Cut iteration 9\n",
      "Starting_edge inside branches_to_conept = [[1104130.  593482.  615280.]\n",
      " [1109310.  575600.  614550.]]\n",
      "At the start, starting_node (in terms of the skeleton, that shouldn't match the starting edge) = [1]\n",
      "printing out current edge:\n",
      "[[1104130.  593482.  615280.]\n",
      " [1109310.  575600.  614550.]]\n",
      "edge_endpoints_to_process was empty so exiting loop after 17 iterations\n",
      "starting_node in concept map (that should match the starting edge) = 1\n",
      "Total time for branches to concept conversion = 0.40947651863098145\n",
      "\n",
      "Shortest path = [1, 3, 12, 6, 7]\n",
      "Short segments to combine = []\n",
      "Found 0 high degree coordinates to cut\n",
      "Starting_edge inside branches_to_conept = [[1104130.  593482.  615280.]\n",
      " [1109310.  575600.  614550.]]\n",
      "At the start, starting_node (in terms of the skeleton, that shouldn't match the starting edge) = [1]\n",
      "printing out current edge:\n",
      "[[1104130.  593482.  615280.]\n",
      " [1109310.  575600.  614550.]]\n",
      "edge_endpoints_to_process was empty so exiting loop after 17 iterations\n",
      "starting_node in concept map (that should match the starting edge) = 1\n",
      "Total time for branches to concept conversion = 0.4133181571960449\n",
      "\n",
      "skip_nodes = []\n",
      "\n",
      "Attempting the doubling back check (symmetrical so don't need to check from both sides)\n"
     ]
    },
    {
     "data": {
      "application/vnd.jupyter.widget-view+json": {
       "model_id": "14e60556af4545b5b1793bddf9b943f4",
       "version_major": 2,
       "version_minor": 0
      },
      "text/plain": [
       "HBox(children=(FloatProgress(value=0.0, max=4.0), HTML(value='')))"
      ]
     },
     "metadata": {},
     "output_type": "display_data"
    },
    {
     "name": "stdout",
     "output_type": "stream",
     "text": [
      "  Edge: [1 3]: curr_angle = 52.92\n",
      "  Edge: [ 3 12]: curr_angle = 39.14\n",
      "  Edge: [12  6]: curr_angle = 119.76\n",
      "  Edge: [6 7]: curr_angle = 47.39\n",
      "\n",
      "Total time for doubling_back = 0.4022378921508789\n",
      "There were 1 edges that passed doubling back threshold of 100\n",
      "Winning edge [12  6] had a doubling back of 2\n",
      "coordinate_branches = [6, 12, 14]\n",
      "6 = red\n",
      "12 = aqua\n",
      "14 = purple\n",
      "Angle between 6 and 12 = 78.66 \n",
      "Angle between 6 and 14 = 25.95 \n",
      "Angle between 12 and 14 = 92.76 \n",
      "Final Matches = [[6, 14]]\n",
      "matched_branches_revised = [[6, 14]]\n",
      "Original graph\n"
     ]
    },
    {
     "data": {
      "image/png": "[encoded data removed]",
      "text/plain": [
       "<Figure size 432x288 with 1 Axes>"
      ]
     },
     "metadata": {},
     "output_type": "display_data"
    },
    {
     "name": "stdout",
     "output_type": "stream",
     "text": [
      "edges_to_delete = [array([ 6, 12]), array([12, 14])]\n",
      "edges_to_create = [array([ 6, 14])]\n",
      "edges_to_delete = [array([ 6, 12]), array([12, 14])]\n",
      "edges_to_create = [array([ 6, 14])]\n",
      "Accepted edge ((6, 14))\n",
      "Number of connected components = 2\n",
      "Comp 0 = {0, 1, 2, 3, 4, 5, 8, 9, 10, 12, 13, 15, 16}\n",
      "Comp 1 = {11, 7, 6, 14}\n",
      "After get best cut: cut_edges = [array([ 6, 12]), array([12, 14])], added_edges = [[6, 14]]\n",
      "-----------counter = 9------------\n",
      " Cut iteration 10\n",
      "Starting_edge inside branches_to_conept = [[1104130.  593482.  615280.]\n",
      " [1109310.  575600.  614550.]]\n",
      "At the start, starting_node (in terms of the skeleton, that shouldn't match the starting edge) = [1]\n",
      "printing out current edge:\n",
      "[[1104130.  593482.  615280.]\n",
      " [1109310.  575600.  614550.]]\n",
      "edge_endpoints_to_process was empty so exiting loop after 17 iterations\n",
      "starting_node in concept map (that should match the starting edge) = 1\n",
      "Total time for branches to concept conversion = 0.3300924301147461\n",
      "\n",
      "Shortest path = [1, 3, 12, 6, 7]\n",
      "Short segments to combine = []\n",
      "Found 0 high degree coordinates to cut\n",
      "Starting_edge inside branches_to_conept = [[1104130.  593482.  615280.]\n",
      " [1109310.  575600.  614550.]]\n",
      "At the start, starting_node (in terms of the skeleton, that shouldn't match the starting edge) = [1]\n",
      "printing out current edge:\n",
      "[[1104130.  593482.  615280.]\n",
      " [1109310.  575600.  614550.]]\n",
      "edge_endpoints_to_process was empty so exiting loop after 17 iterations\n",
      "starting_node in concept map (that should match the starting edge) = 1\n",
      "Total time for branches to concept conversion = 0.32415771484375\n",
      "\n",
      "skip_nodes = []\n",
      "\n",
      "Attempting the doubling back check (symmetrical so don't need to check from both sides)\n"
     ]
    },
    {
     "data": {
      "application/vnd.jupyter.widget-view+json": {
       "model_id": "bf4081a1b9c5442da5f0e618da5ccb08",
       "version_major": 2,
       "version_minor": 0
      },
      "text/plain": [
       "HBox(children=(FloatProgress(value=0.0, max=4.0), HTML(value='')))"
      ]
     },
     "metadata": {},
     "output_type": "display_data"
    },
    {
     "name": "stdout",
     "output_type": "stream",
     "text": [
      "  Edge: [1 3]: curr_angle = 52.92\n",
      "  Edge: [ 3 12]: curr_angle = 39.14\n",
      "  Edge: [12  6]: curr_angle = 119.76\n",
      "  Edge: [6 7]: curr_angle = 47.39\n",
      "\n",
      "Total time for doubling_back = 0.3300812244415283\n",
      "There were 1 edges that passed doubling back threshold of 100\n",
      "Winning edge [12  6] had a doubling back of 2\n",
      "coordinate_branches = [6, 12, 14]\n",
      "6 = red\n",
      "12 = aqua\n",
      "14 = purple\n",
      "Angle between 6 and 12 = 78.66 \n",
      "Angle between 6 and 14 = 25.95 \n",
      "Angle between 12 and 14 = 92.76 \n",
      "Final Matches = [[6, 14]]\n",
      "matched_branches_revised = [[6, 14]]\n",
      "Original graph\n"
     ]
    },
    {
     "data": {
      "image/png": "[encoded data removed]",
      "text/plain": [
       "<Figure size 432x288 with 1 Axes>"
      ]
     },
     "metadata": {},
     "output_type": "display_data"
    },
    {
     "name": "stdout",
     "output_type": "stream",
     "text": [
      "edges_to_delete = [array([ 6, 12]), array([12, 14])]\n",
      "edges_to_create = [array([ 6, 14])]\n",
      "edges_to_delete = [array([ 6, 12]), array([12, 14])]\n",
      "edges_to_create = [array([ 6, 14])]\n",
      "Accepted edge ((6, 14))\n",
      "Number of connected components = 2\n",
      "Comp 0 = {0, 1, 2, 3, 4, 5, 8, 9, 10, 12, 13, 15, 16}\n",
      "Comp 1 = {11, 7, 6, 14}\n",
      "After get best cut: cut_edges = [array([ 6, 12]), array([12, 14])], added_edges = [[6, 14]]\n",
      "-----------counter = 10------------\n",
      "Breaking because hit max iterations 10\n",
      "Total number of graphs at the end of the split = 2\n",
      "\n",
      "\n",
      " -------- Working on limb 8------------\n",
      "Starting combinations to process = [(2, 1), (2, 0), (1, 0)]\n",
      "\n",
      "\n",
      "---- working on disconnecting 2 and 1\n",
      "---- This disconnects S1_0 from S1_1  \n",
      " Cut iteration 0\n",
      "Starting_edge inside branches_to_conept = [[1128852.88825061  565209.63365708  595024.28706075]\n",
      " [1129176.6         564805.96        595736.94      ]]\n",
      "At the start, starting_node (in terms of the skeleton, that shouldn't match the starting edge) = [3]\n",
      "printing out current edge:\n",
      "[[1129176.6         564805.96        595736.94      ]\n",
      " [1128852.88825061  565209.63365708  595024.28706075]]\n",
      "edge_endpoints_to_process was empty so exiting loop after 3 iterations\n",
      "starting_node in concept map (that should match the starting edge) = 2\n",
      "Total time for branches to concept conversion = 0.007875680923461914\n",
      "\n",
      "Shortest path = [2, 1]\n",
      "Short segments to combine = []\n",
      "Found 0 high degree coordinates to cut\n",
      "Starting_edge inside branches_to_conept = [[1128852.88825061  565209.63365708  595024.28706075]\n",
      " [1129176.6         564805.96        595736.94      ]]\n",
      "At the start, starting_node (in terms of the skeleton, that shouldn't match the starting edge) = [3]\n",
      "printing out current edge:\n",
      "[[1129176.6         564805.96        595736.94      ]\n",
      " [1128852.88825061  565209.63365708  595024.28706075]]\n",
      "edge_endpoints_to_process was empty so exiting loop after 3 iterations\n",
      "starting_node in concept map (that should match the starting edge) = 2\n",
      "Total time for branches to concept conversion = 0.0072176456451416016\n",
      "\n",
      "Skipping endnode 2 because skeletal distance was 880.6905982958406 and threshold was 2500\n",
      "Skipping endnode 1 because skeletal distance was 1980.2430617399618 and threshold was 2500\n",
      "Could not used the revised endnodes path because empty\n",
      "skip_nodes = []\n",
      "\n",
      "Attempting the doubling back check (symmetrical so don't need to check from both sides)\n"
     ]
    },
    {
     "data": {
      "application/vnd.jupyter.widget-view+json": {
       "model_id": "330aa2bb98bc410aa7b82e60dcde5cce",
       "version_major": 2,
       "version_minor": 0
      },
      "text/plain": [
       "HBox(children=(FloatProgress(value=0.0, max=1.0), HTML(value='')))"
      ]
     },
     "metadata": {},
     "output_type": "display_data"
    },
    {
     "name": "stdout",
     "output_type": "stream",
     "text": [
      "No skeletons to stack so returning empty list\n",
      "No upstream skeletons so doing backup\n",
      "  Edge: [2 1]: curr_angle = 66.13\n",
      "\n",
      "Total time for doubling_back = 0.03277778625488281\n",
      "\n",
      "Attempting the width jump check (attempting from both sides)\n",
      "Starting_edge inside branches_to_conept = [[1128852.88825061  565209.63365708  595024.28706075]\n",
      " [1129176.6         564805.96        595736.94      ]]\n",
      "At the start, starting_node (in terms of the skeleton, that shouldn't match the starting edge) = [3]\n",
      "printing out current edge:\n",
      "[[1129176.6         564805.96        595736.94      ]\n",
      " [1128852.88825061  565209.63365708  595024.28706075]]\n",
      "edge_endpoints_to_process was empty so exiting loop after 3 iterations\n",
      "starting_node in concept map (that should match the starting edge) = 2\n",
      "Total time for branches to concept conversion = 0.007421255111694336\n",
      "\n",
      "No skeletons to stack so returning empty list\n",
      "No upstream skeletons so doing backup\n",
      "  Edge: [2 1]: jump = 97.27\n",
      "Total time for width = 0.013233661651611328\n",
      "Path starting at 2 had err_edges: []\n",
      "Starting_edge inside branches_to_conept = [[1128583.96620801  566490.41095622  595210.83180443]\n",
      " [1128852.88825061  565209.63365708  595024.28706075]]\n",
      "At the start, starting_node (in terms of the skeleton, that shouldn't match the starting edge) = [1]\n",
      "printing out current edge:\n",
      "[[1128583.96620801  566490.41095622  595210.83180443]\n",
      " [1128852.88825061  565209.63365708  595024.28706075]]\n",
      "edge_endpoints_to_process was empty so exiting loop after 3 iterations\n",
      "starting_node in concept map (that should match the starting edge) = 1\n",
      "Total time for branches to concept conversion = 0.006716728210449219\n",
      "\n",
      "No skeletons to stack so returning empty list\n",
      "No upstream skeletons so doing backup\n",
      "  Edge: [1 2]: jump = -97.27\n",
      "Total time for width = 0.013761281967163086\n",
      "Path starting at 1 had err_edges: []\n",
      "Did not find an error edge in either of the paths\n",
      "Number of connected components = 1\n",
      "Comp 0 = {0, 1, 2}\n",
      "After get best cut: cut_edges = None, added_edges = []\n",
      "***** there was no suggested cut for this limb even though it is still connnected***\n",
      "\n",
      "\n",
      "---- working on disconnecting 2 and 0\n",
      "---- This disconnects S1_0 from S1_2  \n",
      " Cut iteration 0\n",
      "Starting_edge inside branches_to_conept = [[1128852.88825061  565209.63365708  595024.28706075]\n",
      " [1129176.6         564805.96        595736.94      ]]\n",
      "At the start, starting_node (in terms of the skeleton, that shouldn't match the starting edge) = [3]\n",
      "printing out current edge:\n",
      "[[1129176.6         564805.96        595736.94      ]\n",
      " [1128852.88825061  565209.63365708  595024.28706075]]\n",
      "edge_endpoints_to_process was empty so exiting loop after 3 iterations\n",
      "starting_node in concept map (that should match the starting edge) = 2\n",
      "Total time for branches to concept conversion = 0.00773930549621582\n",
      "\n",
      "Shortest path = [2, 0]\n",
      "Short segments to combine = []\n",
      "Found 0 high degree coordinates to cut\n",
      "Starting_edge inside branches_to_conept = [[1128852.88825061  565209.63365708  595024.28706075]\n",
      " [1129176.6         564805.96        595736.94      ]]\n",
      "At the start, starting_node (in terms of the skeleton, that shouldn't match the starting edge) = [3]\n",
      "printing out current edge:\n",
      "[[1129176.6         564805.96        595736.94      ]\n",
      " [1128852.88825061  565209.63365708  595024.28706075]]\n",
      "edge_endpoints_to_process was empty so exiting loop after 3 iterations\n",
      "starting_node in concept map (that should match the starting edge) = 2\n",
      "Total time for branches to concept conversion = 0.00649571418762207\n",
      "\n",
      "Skipping endnode 2 because skeletal distance was 880.6905982958406 and threshold was 2500\n",
      "Skipping endnode 0 because skeletal distance was 1891.0745200668418 and threshold was 2500\n",
      "Could not used the revised endnodes path because empty\n",
      "skip_nodes = []\n",
      "\n",
      "Attempting the doubling back check (symmetrical so don't need to check from both sides)\n"
     ]
    },
    {
     "data": {
      "application/vnd.jupyter.widget-view+json": {
       "model_id": "54e84a7d59464de7aa197997928cb7fa",
       "version_major": 2,
       "version_minor": 0
      },
      "text/plain": [
       "HBox(children=(FloatProgress(value=0.0, max=1.0), HTML(value='')))"
      ]
     },
     "metadata": {},
     "output_type": "display_data"
    },
    {
     "name": "stdout",
     "output_type": "stream",
     "text": [
      "No skeletons to stack so returning empty list\n",
      "No upstream skeletons so doing backup\n",
      "  Edge: [2 0]: curr_angle = 64.51\n",
      "\n",
      "Total time for doubling_back = 0.035727500915527344\n",
      "\n",
      "Attempting the width jump check (attempting from both sides)\n",
      "Starting_edge inside branches_to_conept = [[1128852.88825061  565209.63365708  595024.28706075]\n",
      " [1129176.6         564805.96        595736.94      ]]\n",
      "At the start, starting_node (in terms of the skeleton, that shouldn't match the starting edge) = [3]\n",
      "printing out current edge:\n",
      "[[1129176.6         564805.96        595736.94      ]\n",
      " [1128852.88825061  565209.63365708  595024.28706075]]\n",
      "edge_endpoints_to_process was empty so exiting loop after 3 iterations\n",
      "starting_node in concept map (that should match the starting edge) = 2\n",
      "Total time for branches to concept conversion = 0.007180213928222656\n",
      "\n",
      "No skeletons to stack so returning empty list\n",
      "No upstream skeletons so doing backup\n",
      "  Edge: [2 0]: jump = -59.21\n",
      "Total time for width = 0.008121490478515625\n",
      "Path starting at 2 had err_edges: []\n",
      "Starting_edge inside branches_to_conept = [[1127244.          566166.8         595291.63333333]\n",
      " [1128852.88825061  565209.63365708  595024.28706075]]\n",
      "At the start, starting_node (in terms of the skeleton, that shouldn't match the starting edge) = [0]\n",
      "printing out current edge:\n",
      "[[1127244.          566166.8         595291.63333333]\n",
      " [1128852.88825061  565209.63365708  595024.28706075]]\n",
      "edge_endpoints_to_process was empty so exiting loop after 3 iterations\n",
      "starting_node in concept map (that should match the starting edge) = 0\n",
      "Total time for branches to concept conversion = 0.008928775787353516\n",
      "\n",
      "No skeletons to stack so returning empty list\n",
      "No upstream skeletons so doing backup\n",
      "  Edge: [0 2]: jump = 59.21\n",
      "Total time for width = 0.008973836898803711\n",
      "Path starting at 0 had err_edges: []\n",
      "Did not find an error edge in either of the paths\n",
      "Number of connected components = 1\n",
      "Comp 0 = {0, 1, 2}\n",
      "After get best cut: cut_edges = None, added_edges = []\n",
      "***** there was no suggested cut for this limb even though it is still connnected***\n",
      "\n",
      "\n",
      "---- working on disconnecting 1 and 0\n",
      "---- This disconnects S1_1 from S1_2  \n",
      " Cut iteration 0\n",
      "Starting_edge inside branches_to_conept = [[1128583.96620801  566490.41095622  595210.83180443]\n",
      " [1128852.88825061  565209.63365708  595024.28706075]]\n",
      "At the start, starting_node (in terms of the skeleton, that shouldn't match the starting edge) = [1]\n",
      "printing out current edge:\n",
      "[[1128583.96620801  566490.41095622  595210.83180443]\n",
      " [1128852.88825061  565209.63365708  595024.28706075]]\n",
      "edge_endpoints_to_process was empty so exiting loop after 3 iterations\n",
      "starting_node in concept map (that should match the starting edge) = 1\n",
      "Total time for branches to concept conversion = 0.012510538101196289\n",
      "\n",
      "Shortest path = [1, 0]\n",
      "Short segments to combine = []\n",
      "Found 0 high degree coordinates to cut\n",
      "Starting_edge inside branches_to_conept = [[1128583.96620801  566490.41095622  595210.83180443]\n",
      " [1128852.88825061  565209.63365708  595024.28706075]]\n",
      "At the start, starting_node (in terms of the skeleton, that shouldn't match the starting edge) = [1]\n",
      "printing out current edge:\n",
      "[[1128583.96620801  566490.41095622  595210.83180443]\n",
      " [1128852.88825061  565209.63365708  595024.28706075]]\n",
      "edge_endpoints_to_process was empty so exiting loop after 3 iterations\n",
      "starting_node in concept map (that should match the starting edge) = 1\n",
      "Total time for branches to concept conversion = 0.007906913757324219\n",
      "\n",
      "Skipping endnode 1 because skeletal distance was 1980.2430617399618 and threshold was 2500\n",
      "Skipping endnode 0 because skeletal distance was 1891.0745200668418 and threshold was 2500\n",
      "Could not used the revised endnodes path because empty\n",
      "skip_nodes = []\n",
      "\n",
      "Attempting the doubling back check (symmetrical so don't need to check from both sides)\n"
     ]
    },
    {
     "data": {
      "application/vnd.jupyter.widget-view+json": {
       "model_id": "9b31793882554c77a6d36298edd4a8c0",
       "version_major": 2,
       "version_minor": 0
      },
      "text/plain": [
       "HBox(children=(FloatProgress(value=0.0, max=1.0), HTML(value='')))"
      ]
     },
     "metadata": {},
     "output_type": "display_data"
    },
    {
     "name": "stdout",
     "output_type": "stream",
     "text": [
      "No skeletons to stack so returning empty list\n",
      "No upstream skeletons so doing backup\n",
      "  Edge: [1 0]: curr_angle = 133.11\n",
      "\n",
      "Total time for doubling_back = 0.04169011116027832\n",
      "There were 1 edges that passed doubling back threshold of 100\n",
      "Winning edge [1 0] had a doubling back of 0\n",
      "coordinate_branches = [0, 1, 2]\n",
      "0 = red\n",
      "1 = aqua\n",
      "2 = purple\n",
      "Angle between 0 and 1 = 132.38 \n",
      "Angle between 0 and 2 = 64.51 \n",
      "Angle between 1 and 2 = 78.21 \n",
      "Final Matches = []\n",
      "matched_branches_revised = []\n",
      "Original graph\n"
     ]
    },
    {
     "data": {
      "image/png": "[encoded data removed]",
      "text/plain": [
       "<Figure size 432x288 with 1 Axes>"
      ]
     },
     "metadata": {},
     "output_type": "display_data"
    },
    {
     "name": "stdout",
     "output_type": "stream",
     "text": [
      "edges_to_delete = [[1 2]\n",
      " [0 1]]\n",
      "edges_to_create = []\n",
      "edges_to_delete = [array([1, 1]), array([2, 2])]\n",
      "edges_to_create = []\n",
      "Number of connected components = 1\n",
      "Comp 0 = {0, 1, 2}\n",
      "After get best cut: cut_edges = [array([1, 1]), array([2, 2])], added_edges = []\n",
      "-----------counter = 0------------\n",
      " Cut iteration 1\n",
      "Starting_edge inside branches_to_conept = [[1128583.96620801  566490.41095622  595210.83180443]\n",
      " [1128852.88825061  565209.63365708  595024.28706075]]\n",
      "At the start, starting_node (in terms of the skeleton, that shouldn't match the starting edge) = [1]\n",
      "printing out current edge:\n",
      "[[1128583.96620801  566490.41095622  595210.83180443]\n",
      " [1128852.88825061  565209.63365708  595024.28706075]]\n",
      "edge_endpoints_to_process was empty so exiting loop after 3 iterations\n",
      "starting_node in concept map (that should match the starting edge) = 1\n",
      "Total time for branches to concept conversion = 0.00813603401184082\n",
      "\n",
      "Shortest path = [1, 0]\n",
      "Short segments to combine = []\n",
      "Found 0 high degree coordinates to cut\n",
      "Starting_edge inside branches_to_conept = [[1128583.96620801  566490.41095622  595210.83180443]\n",
      " [1128852.88825061  565209.63365708  595024.28706075]]\n",
      "At the start, starting_node (in terms of the skeleton, that shouldn't match the starting edge) = [1]\n",
      "printing out current edge:\n",
      "[[1128583.96620801  566490.41095622  595210.83180443]\n",
      " [1128852.88825061  565209.63365708  595024.28706075]]\n",
      "edge_endpoints_to_process was empty so exiting loop after 3 iterations\n",
      "starting_node in concept map (that should match the starting edge) = 1\n",
      "Total time for branches to concept conversion = 0.0071604251861572266\n",
      "\n",
      "Skipping endnode 1 because skeletal distance was 1980.2430617399618 and threshold was 2500\n",
      "Skipping endnode 0 because skeletal distance was 1891.0745200668418 and threshold was 2500\n",
      "Could not used the revised endnodes path because empty\n",
      "skip_nodes = []\n",
      "\n",
      "Attempting the doubling back check (symmetrical so don't need to check from both sides)\n"
     ]
    },
    {
     "data": {
      "application/vnd.jupyter.widget-view+json": {
       "model_id": "08dd0c78c20f4088bb33c8e45900e447",
       "version_major": 2,
       "version_minor": 0
      },
      "text/plain": [
       "HBox(children=(FloatProgress(value=0.0, max=1.0), HTML(value='')))"
      ]
     },
     "metadata": {},
     "output_type": "display_data"
    },
    {
     "name": "stdout",
     "output_type": "stream",
     "text": [
      "No skeletons to stack so returning empty list\n",
      "No upstream skeletons so doing backup\n",
      "  Edge: [1 0]: curr_angle = 133.11\n",
      "\n",
      "Total time for doubling_back = 0.039174556732177734\n",
      "There were 1 edges that passed doubling back threshold of 100\n",
      "Winning edge [1 0] had a doubling back of 0\n",
      "coordinate_branches = [0, 1, 2]\n",
      "0 = red\n",
      "1 = aqua\n",
      "2 = purple\n",
      "Angle between 0 and 1 = 132.38 \n",
      "Angle between 0 and 2 = 64.51 \n",
      "Angle between 1 and 2 = 78.21 \n",
      "Final Matches = []\n",
      "matched_branches_revised = []\n",
      "Original graph\n"
     ]
    },
    {
     "data": {
      "image/png": "[encoded data removed]",
      "text/plain": [
       "<Figure size 432x288 with 1 Axes>"
      ]
     },
     "metadata": {},
     "output_type": "display_data"
    },
    {
     "name": "stdout",
     "output_type": "stream",
     "text": [
      "edges_to_delete = [[1 2]\n",
      " [0 1]]\n",
      "edges_to_create = []\n",
      "edges_to_delete = [array([1, 1]), array([2, 2])]\n",
      "edges_to_create = []\n",
      "Number of connected components = 1\n",
      "Comp 0 = {0, 1, 2}\n",
      "After get best cut: cut_edges = [array([1, 1]), array([2, 2])], added_edges = []\n",
      "-----------counter = 1------------\n",
      " Cut iteration 2\n",
      "Starting_edge inside branches_to_conept = [[1128583.96620801  566490.41095622  595210.83180443]\n",
      " [1128852.88825061  565209.63365708  595024.28706075]]\n",
      "At the start, starting_node (in terms of the skeleton, that shouldn't match the starting edge) = [1]\n",
      "printing out current edge:\n",
      "[[1128583.96620801  566490.41095622  595210.83180443]\n",
      " [1128852.88825061  565209.63365708  595024.28706075]]\n",
      "edge_endpoints_to_process was empty so exiting loop after 3 iterations\n",
      "starting_node in concept map (that should match the starting edge) = 1\n",
      "Total time for branches to concept conversion = 0.00746464729309082\n",
      "\n",
      "Shortest path = [1, 0]\n",
      "Short segments to combine = []\n",
      "Found 0 high degree coordinates to cut\n",
      "Starting_edge inside branches_to_conept = [[1128583.96620801  566490.41095622  595210.83180443]\n",
      " [1128852.88825061  565209.63365708  595024.28706075]]\n",
      "At the start, starting_node (in terms of the skeleton, that shouldn't match the starting edge) = [1]\n",
      "printing out current edge:\n",
      "[[1128583.96620801  566490.41095622  595210.83180443]\n",
      " [1128852.88825061  565209.63365708  595024.28706075]]\n",
      "edge_endpoints_to_process was empty so exiting loop after 3 iterations\n",
      "starting_node in concept map (that should match the starting edge) = 1\n",
      "Total time for branches to concept conversion = 0.0070340633392333984\n",
      "\n",
      "Skipping endnode 1 because skeletal distance was 1980.2430617399618 and threshold was 2500\n",
      "Skipping endnode 0 because skeletal distance was 1891.0745200668418 and threshold was 2500\n",
      "Could not used the revised endnodes path because empty\n",
      "skip_nodes = []\n",
      "\n",
      "Attempting the doubling back check (symmetrical so don't need to check from both sides)\n"
     ]
    },
    {
     "data": {
      "application/vnd.jupyter.widget-view+json": {
       "model_id": "7c4305b1bbfe4fa9879ce7d8bbcce95a",
       "version_major": 2,
       "version_minor": 0
      },
      "text/plain": [
       "HBox(children=(FloatProgress(value=0.0, max=1.0), HTML(value='')))"
      ]
     },
     "metadata": {},
     "output_type": "display_data"
    },
    {
     "name": "stdout",
     "output_type": "stream",
     "text": [
      "No skeletons to stack so returning empty list\n",
      "No upstream skeletons so doing backup\n",
      "  Edge: [1 0]: curr_angle = 133.11\n",
      "\n",
      "Total time for doubling_back = 0.037250518798828125\n",
      "There were 1 edges that passed doubling back threshold of 100\n",
      "Winning edge [1 0] had a doubling back of 0\n",
      "coordinate_branches = [0, 1, 2]\n",
      "0 = red\n",
      "1 = aqua\n",
      "2 = purple\n",
      "Angle between 0 and 1 = 132.38 \n",
      "Angle between 0 and 2 = 64.51 \n",
      "Angle between 1 and 2 = 78.21 \n",
      "Final Matches = []\n",
      "matched_branches_revised = []\n",
      "Original graph\n"
     ]
    },
    {
     "data": {
      "image/png": "[encoded data removed]",
      "text/plain": [
       "<Figure size 432x288 with 1 Axes>"
      ]
     },
     "metadata": {},
     "output_type": "display_data"
    },
    {
     "name": "stdout",
     "output_type": "stream",
     "text": [
      "edges_to_delete = [[1 2]\n",
      " [0 1]]\n",
      "edges_to_create = []\n",
      "edges_to_delete = [array([1, 1]), array([2, 2])]\n",
      "edges_to_create = []\n",
      "Number of connected components = 1\n",
      "Comp 0 = {0, 1, 2}\n",
      "After get best cut: cut_edges = [array([1, 1]), array([2, 2])], added_edges = []\n",
      "-----------counter = 2------------\n",
      " Cut iteration 3\n",
      "Starting_edge inside branches_to_conept = [[1128583.96620801  566490.41095622  595210.83180443]\n",
      " [1128852.88825061  565209.63365708  595024.28706075]]\n",
      "At the start, starting_node (in terms of the skeleton, that shouldn't match the starting edge) = [1]\n",
      "printing out current edge:\n",
      "[[1128583.96620801  566490.41095622  595210.83180443]\n",
      " [1128852.88825061  565209.63365708  595024.28706075]]\n",
      "edge_endpoints_to_process was empty so exiting loop after 3 iterations\n",
      "starting_node in concept map (that should match the starting edge) = 1\n",
      "Total time for branches to concept conversion = 0.007673740386962891\n",
      "\n",
      "Shortest path = [1, 0]\n",
      "Short segments to combine = []\n",
      "Found 0 high degree coordinates to cut\n",
      "Starting_edge inside branches_to_conept = [[1128583.96620801  566490.41095622  595210.83180443]\n",
      " [1128852.88825061  565209.63365708  595024.28706075]]\n",
      "At the start, starting_node (in terms of the skeleton, that shouldn't match the starting edge) = [1]\n",
      "printing out current edge:\n",
      "[[1128583.96620801  566490.41095622  595210.83180443]\n",
      " [1128852.88825061  565209.63365708  595024.28706075]]\n",
      "edge_endpoints_to_process was empty so exiting loop after 3 iterations\n",
      "starting_node in concept map (that should match the starting edge) = 1\n",
      "Total time for branches to concept conversion = 0.007670402526855469\n",
      "\n",
      "Skipping endnode 1 because skeletal distance was 1980.2430617399618 and threshold was 2500\n",
      "Skipping endnode 0 because skeletal distance was 1891.0745200668418 and threshold was 2500\n",
      "Could not used the revised endnodes path because empty\n",
      "skip_nodes = []\n",
      "\n",
      "Attempting the doubling back check (symmetrical so don't need to check from both sides)\n"
     ]
    },
    {
     "data": {
      "application/vnd.jupyter.widget-view+json": {
       "model_id": "5198a4daa310458ab4109a4610f8a808",
       "version_major": 2,
       "version_minor": 0
      },
      "text/plain": [
       "HBox(children=(FloatProgress(value=0.0, max=1.0), HTML(value='')))"
      ]
     },
     "metadata": {},
     "output_type": "display_data"
    },
    {
     "name": "stdout",
     "output_type": "stream",
     "text": [
      "No skeletons to stack so returning empty list\n",
      "No upstream skeletons so doing backup\n",
      "  Edge: [1 0]: curr_angle = 133.11\n",
      "\n",
      "Total time for doubling_back = 0.04124093055725098\n",
      "There were 1 edges that passed doubling back threshold of 100\n",
      "Winning edge [1 0] had a doubling back of 0\n",
      "coordinate_branches = [0, 1, 2]\n",
      "0 = red\n",
      "1 = aqua\n",
      "2 = purple\n",
      "Angle between 0 and 1 = 132.38 \n",
      "Angle between 0 and 2 = 64.51 \n",
      "Angle between 1 and 2 = 78.21 \n",
      "Final Matches = []\n",
      "matched_branches_revised = []\n",
      "Original graph\n"
     ]
    },
    {
     "data": {
      "image/png": "[encoded data removed]",
      "text/plain": [
       "<Figure size 432x288 with 1 Axes>"
      ]
     },
     "metadata": {},
     "output_type": "display_data"
    },
    {
     "name": "stdout",
     "output_type": "stream",
     "text": [
      "edges_to_delete = [[1 2]\n",
      " [0 1]]\n",
      "edges_to_create = []\n",
      "edges_to_delete = [array([1, 1]), array([2, 2])]\n",
      "edges_to_create = []\n",
      "Number of connected components = 1\n",
      "Comp 0 = {0, 1, 2}\n",
      "After get best cut: cut_edges = [array([1, 1]), array([2, 2])], added_edges = []\n",
      "-----------counter = 3------------\n",
      " Cut iteration 4\n",
      "Starting_edge inside branches_to_conept = [[1128583.96620801  566490.41095622  595210.83180443]\n",
      " [1128852.88825061  565209.63365708  595024.28706075]]\n",
      "At the start, starting_node (in terms of the skeleton, that shouldn't match the starting edge) = [1]\n",
      "printing out current edge:\n",
      "[[1128583.96620801  566490.41095622  595210.83180443]\n",
      " [1128852.88825061  565209.63365708  595024.28706075]]\n",
      "edge_endpoints_to_process was empty so exiting loop after 3 iterations\n",
      "starting_node in concept map (that should match the starting edge) = 1\n",
      "Total time for branches to concept conversion = 0.007437944412231445\n",
      "\n",
      "Shortest path = [1, 0]\n",
      "Short segments to combine = []\n",
      "Found 0 high degree coordinates to cut\n",
      "Starting_edge inside branches_to_conept = [[1128583.96620801  566490.41095622  595210.83180443]\n",
      " [1128852.88825061  565209.63365708  595024.28706075]]\n",
      "At the start, starting_node (in terms of the skeleton, that shouldn't match the starting edge) = [1]\n",
      "printing out current edge:\n",
      "[[1128583.96620801  566490.41095622  595210.83180443]\n",
      " [1128852.88825061  565209.63365708  595024.28706075]]\n",
      "edge_endpoints_to_process was empty so exiting loop after 3 iterations\n",
      "starting_node in concept map (that should match the starting edge) = 1\n",
      "Total time for branches to concept conversion = 0.006953001022338867\n",
      "\n",
      "Skipping endnode 1 because skeletal distance was 1980.2430617399618 and threshold was 2500\n",
      "Skipping endnode 0 because skeletal distance was 1891.0745200668418 and threshold was 2500\n",
      "Could not used the revised endnodes path because empty\n",
      "skip_nodes = []\n",
      "\n",
      "Attempting the doubling back check (symmetrical so don't need to check from both sides)\n"
     ]
    },
    {
     "data": {
      "application/vnd.jupyter.widget-view+json": {
       "model_id": "f41dfb7c112b433da2c1797ad95042ed",
       "version_major": 2,
       "version_minor": 0
      },
      "text/plain": [
       "HBox(children=(FloatProgress(value=0.0, max=1.0), HTML(value='')))"
      ]
     },
     "metadata": {},
     "output_type": "display_data"
    },
    {
     "name": "stdout",
     "output_type": "stream",
     "text": [
      "No skeletons to stack so returning empty list\n",
      "No upstream skeletons so doing backup\n",
      "  Edge: [1 0]: curr_angle = 133.11\n",
      "\n",
      "Total time for doubling_back = 0.037105560302734375\n",
      "There were 1 edges that passed doubling back threshold of 100\n",
      "Winning edge [1 0] had a doubling back of 0\n",
      "coordinate_branches = [0, 1, 2]\n",
      "0 = red\n",
      "1 = aqua\n",
      "2 = purple\n",
      "Angle between 0 and 1 = 132.38 \n",
      "Angle between 0 and 2 = 64.51 \n",
      "Angle between 1 and 2 = 78.21 \n",
      "Final Matches = []\n",
      "matched_branches_revised = []\n",
      "Original graph\n"
     ]
    },
    {
     "data": {
      "image/png": "[encoded data removed]",
      "text/plain": [
       "<Figure size 432x288 with 1 Axes>"
      ]
     },
     "metadata": {},
     "output_type": "display_data"
    },
    {
     "name": "stdout",
     "output_type": "stream",
     "text": [
      "edges_to_delete = [[1 2]\n",
      " [0 1]]\n",
      "edges_to_create = []\n",
      "edges_to_delete = [array([1, 1]), array([2, 2])]\n",
      "edges_to_create = []\n",
      "Number of connected components = 1\n",
      "Comp 0 = {0, 1, 2}\n",
      "After get best cut: cut_edges = [array([1, 1]), array([2, 2])], added_edges = []\n",
      "-----------counter = 4------------\n",
      " Cut iteration 5\n",
      "Starting_edge inside branches_to_conept = [[1128583.96620801  566490.41095622  595210.83180443]\n",
      " [1128852.88825061  565209.63365708  595024.28706075]]\n",
      "At the start, starting_node (in terms of the skeleton, that shouldn't match the starting edge) = [1]\n",
      "printing out current edge:\n",
      "[[1128583.96620801  566490.41095622  595210.83180443]\n",
      " [1128852.88825061  565209.63365708  595024.28706075]]\n",
      "edge_endpoints_to_process was empty so exiting loop after 3 iterations\n",
      "starting_node in concept map (that should match the starting edge) = 1\n",
      "Total time for branches to concept conversion = 0.007978200912475586\n",
      "\n",
      "Shortest path = [1, 0]\n",
      "Short segments to combine = []\n",
      "Found 0 high degree coordinates to cut\n",
      "Starting_edge inside branches_to_conept = [[1128583.96620801  566490.41095622  595210.83180443]\n",
      " [1128852.88825061  565209.63365708  595024.28706075]]\n",
      "At the start, starting_node (in terms of the skeleton, that shouldn't match the starting edge) = [1]\n",
      "printing out current edge:\n",
      "[[1128583.96620801  566490.41095622  595210.83180443]\n",
      " [1128852.88825061  565209.63365708  595024.28706075]]\n",
      "edge_endpoints_to_process was empty so exiting loop after 3 iterations\n",
      "starting_node in concept map (that should match the starting edge) = 1\n",
      "Total time for branches to concept conversion = 0.00670313835144043\n",
      "\n",
      "Skipping endnode 1 because skeletal distance was 1980.2430617399618 and threshold was 2500\n",
      "Skipping endnode 0 because skeletal distance was 1891.0745200668418 and threshold was 2500\n",
      "Could not used the revised endnodes path because empty\n",
      "skip_nodes = []\n",
      "\n",
      "Attempting the doubling back check (symmetrical so don't need to check from both sides)\n"
     ]
    },
    {
     "data": {
      "application/vnd.jupyter.widget-view+json": {
       "model_id": "429e66835e414f93b2368dae1b725e72",
       "version_major": 2,
       "version_minor": 0
      },
      "text/plain": [
       "HBox(children=(FloatProgress(value=0.0, max=1.0), HTML(value='')))"
      ]
     },
     "metadata": {},
     "output_type": "display_data"
    },
    {
     "name": "stdout",
     "output_type": "stream",
     "text": [
      "No skeletons to stack so returning empty list\n",
      "No upstream skeletons so doing backup\n",
      "  Edge: [1 0]: curr_angle = 133.11\n",
      "\n",
      "Total time for doubling_back = 0.039273738861083984\n",
      "There were 1 edges that passed doubling back threshold of 100\n",
      "Winning edge [1 0] had a doubling back of 0\n",
      "coordinate_branches = [0, 1, 2]\n",
      "0 = red\n",
      "1 = aqua\n",
      "2 = purple\n",
      "Angle between 0 and 1 = 132.38 \n",
      "Angle between 0 and 2 = 64.51 \n",
      "Angle between 1 and 2 = 78.21 \n",
      "Final Matches = []\n",
      "matched_branches_revised = []\n",
      "Original graph\n"
     ]
    },
    {
     "data": {
      "image/png": "[encoded data removed]",
      "text/plain": [
       "<Figure size 432x288 with 1 Axes>"
      ]
     },
     "metadata": {},
     "output_type": "display_data"
    },
    {
     "name": "stdout",
     "output_type": "stream",
     "text": [
      "edges_to_delete = [[1 2]\n",
      " [0 1]]\n",
      "edges_to_create = []\n",
      "edges_to_delete = [array([1, 1]), array([2, 2])]\n",
      "edges_to_create = []\n",
      "Number of connected components = 1\n",
      "Comp 0 = {0, 1, 2}\n",
      "After get best cut: cut_edges = [array([1, 1]), array([2, 2])], added_edges = []\n",
      "-----------counter = 5------------\n",
      " Cut iteration 6\n",
      "Starting_edge inside branches_to_conept = [[1128583.96620801  566490.41095622  595210.83180443]\n",
      " [1128852.88825061  565209.63365708  595024.28706075]]\n",
      "At the start, starting_node (in terms of the skeleton, that shouldn't match the starting edge) = [1]\n",
      "printing out current edge:\n",
      "[[1128583.96620801  566490.41095622  595210.83180443]\n",
      " [1128852.88825061  565209.63365708  595024.28706075]]\n",
      "edge_endpoints_to_process was empty so exiting loop after 3 iterations\n",
      "starting_node in concept map (that should match the starting edge) = 1\n",
      "Total time for branches to concept conversion = 0.01008152961730957\n",
      "\n",
      "Shortest path = [1, 0]\n",
      "Short segments to combine = []\n",
      "Found 0 high degree coordinates to cut\n",
      "Starting_edge inside branches_to_conept = [[1128583.96620801  566490.41095622  595210.83180443]\n",
      " [1128852.88825061  565209.63365708  595024.28706075]]\n",
      "At the start, starting_node (in terms of the skeleton, that shouldn't match the starting edge) = [1]\n",
      "printing out current edge:\n",
      "[[1128583.96620801  566490.41095622  595210.83180443]\n",
      " [1128852.88825061  565209.63365708  595024.28706075]]\n",
      "edge_endpoints_to_process was empty so exiting loop after 3 iterations\n",
      "starting_node in concept map (that should match the starting edge) = 1\n",
      "Total time for branches to concept conversion = 0.0069692134857177734\n",
      "\n",
      "Skipping endnode 1 because skeletal distance was 1980.2430617399618 and threshold was 2500\n",
      "Skipping endnode 0 because skeletal distance was 1891.0745200668418 and threshold was 2500\n",
      "Could not used the revised endnodes path because empty\n",
      "skip_nodes = []\n",
      "\n",
      "Attempting the doubling back check (symmetrical so don't need to check from both sides)\n"
     ]
    },
    {
     "data": {
      "application/vnd.jupyter.widget-view+json": {
       "model_id": "cc19567b35224312805d267ed9090eba",
       "version_major": 2,
       "version_minor": 0
      },
      "text/plain": [
       "HBox(children=(FloatProgress(value=0.0, max=1.0), HTML(value='')))"
      ]
     },
     "metadata": {},
     "output_type": "display_data"
    },
    {
     "name": "stdout",
     "output_type": "stream",
     "text": [
      "No skeletons to stack so returning empty list\n",
      "No upstream skeletons so doing backup\n",
      "  Edge: [1 0]: curr_angle = 133.11\n",
      "\n",
      "Total time for doubling_back = 0.039414167404174805\n",
      "There were 1 edges that passed doubling back threshold of 100\n",
      "Winning edge [1 0] had a doubling back of 0\n",
      "coordinate_branches = [0, 1, 2]\n",
      "0 = red\n",
      "1 = aqua\n",
      "2 = purple\n",
      "Angle between 0 and 1 = 132.38 \n",
      "Angle between 0 and 2 = 64.51 \n",
      "Angle between 1 and 2 = 78.21 \n",
      "Final Matches = []\n",
      "matched_branches_revised = []\n",
      "Original graph\n"
     ]
    },
    {
     "data": {
      "image/png": "[encoded data removed]",
      "text/plain": [
       "<Figure size 432x288 with 1 Axes>"
      ]
     },
     "metadata": {},
     "output_type": "display_data"
    },
    {
     "name": "stdout",
     "output_type": "stream",
     "text": [
      "edges_to_delete = [[1 2]\n",
      " [0 1]]\n",
      "edges_to_create = []\n",
      "edges_to_delete = [array([1, 1]), array([2, 2])]\n",
      "edges_to_create = []\n",
      "Number of connected components = 1\n",
      "Comp 0 = {0, 1, 2}\n",
      "After get best cut: cut_edges = [array([1, 1]), array([2, 2])], added_edges = []\n",
      "-----------counter = 6------------\n",
      " Cut iteration 7\n",
      "Starting_edge inside branches_to_conept = [[1128583.96620801  566490.41095622  595210.83180443]\n",
      " [1128852.88825061  565209.63365708  595024.28706075]]\n",
      "At the start, starting_node (in terms of the skeleton, that shouldn't match the starting edge) = [1]\n",
      "printing out current edge:\n",
      "[[1128583.96620801  566490.41095622  595210.83180443]\n",
      " [1128852.88825061  565209.63365708  595024.28706075]]\n",
      "edge_endpoints_to_process was empty so exiting loop after 3 iterations\n",
      "starting_node in concept map (that should match the starting edge) = 1\n",
      "Total time for branches to concept conversion = 0.007612705230712891\n",
      "\n",
      "Shortest path = [1, 0]\n",
      "Short segments to combine = []\n",
      "Found 0 high degree coordinates to cut\n",
      "Starting_edge inside branches_to_conept = [[1128583.96620801  566490.41095622  595210.83180443]\n",
      " [1128852.88825061  565209.63365708  595024.28706075]]\n",
      "At the start, starting_node (in terms of the skeleton, that shouldn't match the starting edge) = [1]\n",
      "printing out current edge:\n",
      "[[1128583.96620801  566490.41095622  595210.83180443]\n",
      " [1128852.88825061  565209.63365708  595024.28706075]]\n",
      "edge_endpoints_to_process was empty so exiting loop after 3 iterations\n",
      "starting_node in concept map (that should match the starting edge) = 1\n",
      "Total time for branches to concept conversion = 0.007523775100708008\n",
      "\n",
      "Skipping endnode 1 because skeletal distance was 1980.2430617399618 and threshold was 2500\n",
      "Skipping endnode 0 because skeletal distance was 1891.0745200668418 and threshold was 2500\n",
      "Could not used the revised endnodes path because empty\n",
      "skip_nodes = []\n",
      "\n",
      "Attempting the doubling back check (symmetrical so don't need to check from both sides)\n"
     ]
    },
    {
     "data": {
      "application/vnd.jupyter.widget-view+json": {
       "model_id": "1cd617d600154a318d3badf380d0e339",
       "version_major": 2,
       "version_minor": 0
      },
      "text/plain": [
       "HBox(children=(FloatProgress(value=0.0, max=1.0), HTML(value='')))"
      ]
     },
     "metadata": {},
     "output_type": "display_data"
    },
    {
     "name": "stdout",
     "output_type": "stream",
     "text": [
      "No skeletons to stack so returning empty list\n",
      "No upstream skeletons so doing backup\n",
      "  Edge: [1 0]: curr_angle = 133.11\n",
      "\n",
      "Total time for doubling_back = 0.036754608154296875\n",
      "There were 1 edges that passed doubling back threshold of 100\n",
      "Winning edge [1 0] had a doubling back of 0\n",
      "coordinate_branches = [0, 1, 2]\n",
      "0 = red\n",
      "1 = aqua\n",
      "2 = purple\n",
      "Angle between 0 and 1 = 132.38 \n",
      "Angle between 0 and 2 = 64.51 \n",
      "Angle between 1 and 2 = 78.21 \n",
      "Final Matches = []\n",
      "matched_branches_revised = []\n",
      "Original graph\n"
     ]
    },
    {
     "data": {
      "image/png": "[encoded data removed]",
      "text/plain": [
       "<Figure size 432x288 with 1 Axes>"
      ]
     },
     "metadata": {},
     "output_type": "display_data"
    },
    {
     "name": "stdout",
     "output_type": "stream",
     "text": [
      "edges_to_delete = [[1 2]\n",
      " [0 1]]\n",
      "edges_to_create = []\n",
      "edges_to_delete = [array([1, 1]), array([2, 2])]\n",
      "edges_to_create = []\n",
      "Number of connected components = 1\n",
      "Comp 0 = {0, 1, 2}\n",
      "After get best cut: cut_edges = [array([1, 1]), array([2, 2])], added_edges = []\n",
      "-----------counter = 7------------\n",
      " Cut iteration 8\n",
      "Starting_edge inside branches_to_conept = [[1128583.96620801  566490.41095622  595210.83180443]\n",
      " [1128852.88825061  565209.63365708  595024.28706075]]\n",
      "At the start, starting_node (in terms of the skeleton, that shouldn't match the starting edge) = [1]\n",
      "printing out current edge:\n",
      "[[1128583.96620801  566490.41095622  595210.83180443]\n",
      " [1128852.88825061  565209.63365708  595024.28706075]]\n",
      "edge_endpoints_to_process was empty so exiting loop after 3 iterations\n",
      "starting_node in concept map (that should match the starting edge) = 1\n",
      "Total time for branches to concept conversion = 0.007557392120361328\n",
      "\n",
      "Shortest path = [1, 0]\n",
      "Short segments to combine = []\n",
      "Found 0 high degree coordinates to cut\n",
      "Starting_edge inside branches_to_conept = [[1128583.96620801  566490.41095622  595210.83180443]\n",
      " [1128852.88825061  565209.63365708  595024.28706075]]\n",
      "At the start, starting_node (in terms of the skeleton, that shouldn't match the starting edge) = [1]\n",
      "printing out current edge:\n",
      "[[1128583.96620801  566490.41095622  595210.83180443]\n",
      " [1128852.88825061  565209.63365708  595024.28706075]]\n",
      "edge_endpoints_to_process was empty so exiting loop after 3 iterations\n",
      "starting_node in concept map (that should match the starting edge) = 1\n",
      "Total time for branches to concept conversion = 0.007625579833984375\n",
      "\n",
      "Skipping endnode 1 because skeletal distance was 1980.2430617399618 and threshold was 2500\n",
      "Skipping endnode 0 because skeletal distance was 1891.0745200668418 and threshold was 2500\n",
      "Could not used the revised endnodes path because empty\n",
      "skip_nodes = []\n",
      "\n",
      "Attempting the doubling back check (symmetrical so don't need to check from both sides)\n"
     ]
    },
    {
     "data": {
      "application/vnd.jupyter.widget-view+json": {
       "model_id": "bf546827597e46bdb4c262bc9f78cf6c",
       "version_major": 2,
       "version_minor": 0
      },
      "text/plain": [
       "HBox(children=(FloatProgress(value=0.0, max=1.0), HTML(value='')))"
      ]
     },
     "metadata": {},
     "output_type": "display_data"
    },
    {
     "name": "stdout",
     "output_type": "stream",
     "text": [
      "No skeletons to stack so returning empty list\n",
      "No upstream skeletons so doing backup\n",
      "  Edge: [1 0]: curr_angle = 133.11\n",
      "\n",
      "Total time for doubling_back = 0.03831219673156738\n",
      "There were 1 edges that passed doubling back threshold of 100\n",
      "Winning edge [1 0] had a doubling back of 0\n",
      "coordinate_branches = [0, 1, 2]\n",
      "0 = red\n",
      "1 = aqua\n",
      "2 = purple\n",
      "Angle between 0 and 1 = 132.38 \n",
      "Angle between 0 and 2 = 64.51 \n",
      "Angle between 1 and 2 = 78.21 \n",
      "Final Matches = []\n",
      "matched_branches_revised = []\n",
      "Original graph\n"
     ]
    },
    {
     "data": {
      "image/png": "[encoded data removed]",
      "text/plain": [
       "<Figure size 432x288 with 1 Axes>"
      ]
     },
     "metadata": {},
     "output_type": "display_data"
    },
    {
     "name": "stdout",
     "output_type": "stream",
     "text": [
      "edges_to_delete = [[1 2]\n",
      " [0 1]]\n",
      "edges_to_create = []\n",
      "edges_to_delete = [array([1, 1]), array([2, 2])]\n",
      "edges_to_create = []\n",
      "Number of connected components = 1\n",
      "Comp 0 = {0, 1, 2}\n",
      "After get best cut: cut_edges = [array([1, 1]), array([2, 2])], added_edges = []\n",
      "-----------counter = 8------------\n",
      " Cut iteration 9\n",
      "Starting_edge inside branches_to_conept = [[1128583.96620801  566490.41095622  595210.83180443]\n",
      " [1128852.88825061  565209.63365708  595024.28706075]]\n",
      "At the start, starting_node (in terms of the skeleton, that shouldn't match the starting edge) = [1]\n",
      "printing out current edge:\n",
      "[[1128583.96620801  566490.41095622  595210.83180443]\n",
      " [1128852.88825061  565209.63365708  595024.28706075]]\n",
      "edge_endpoints_to_process was empty so exiting loop after 3 iterations\n",
      "starting_node in concept map (that should match the starting edge) = 1\n",
      "Total time for branches to concept conversion = 0.007669687271118164\n",
      "\n",
      "Shortest path = [1, 0]\n",
      "Short segments to combine = []\n",
      "Found 0 high degree coordinates to cut\n",
      "Starting_edge inside branches_to_conept = [[1128583.96620801  566490.41095622  595210.83180443]\n",
      " [1128852.88825061  565209.63365708  595024.28706075]]\n",
      "At the start, starting_node (in terms of the skeleton, that shouldn't match the starting edge) = [1]\n",
      "printing out current edge:\n",
      "[[1128583.96620801  566490.41095622  595210.83180443]\n",
      " [1128852.88825061  565209.63365708  595024.28706075]]\n",
      "edge_endpoints_to_process was empty so exiting loop after 3 iterations\n",
      "starting_node in concept map (that should match the starting edge) = 1\n",
      "Total time for branches to concept conversion = 0.006890535354614258\n",
      "\n",
      "Skipping endnode 1 because skeletal distance was 1980.2430617399618 and threshold was 2500\n",
      "Skipping endnode 0 because skeletal distance was 1891.0745200668418 and threshold was 2500\n",
      "Could not used the revised endnodes path because empty\n",
      "skip_nodes = []\n",
      "\n",
      "Attempting the doubling back check (symmetrical so don't need to check from both sides)\n"
     ]
    },
    {
     "data": {
      "application/vnd.jupyter.widget-view+json": {
       "model_id": "481ea4ddeef349fa98a7bf838ce2bffe",
       "version_major": 2,
       "version_minor": 0
      },
      "text/plain": [
       "HBox(children=(FloatProgress(value=0.0, max=1.0), HTML(value='')))"
      ]
     },
     "metadata": {},
     "output_type": "display_data"
    },
    {
     "name": "stdout",
     "output_type": "stream",
     "text": [
      "No skeletons to stack so returning empty list\n",
      "No upstream skeletons so doing backup\n",
      "  Edge: [1 0]: curr_angle = 133.11\n",
      "\n",
      "Total time for doubling_back = 0.03853440284729004\n",
      "There were 1 edges that passed doubling back threshold of 100\n",
      "Winning edge [1 0] had a doubling back of 0\n",
      "coordinate_branches = [0, 1, 2]\n",
      "0 = red\n",
      "1 = aqua\n",
      "2 = purple\n",
      "Angle between 0 and 1 = 132.38 \n",
      "Angle between 0 and 2 = 64.51 \n",
      "Angle between 1 and 2 = 78.21 \n",
      "Final Matches = []\n",
      "matched_branches_revised = []\n",
      "Original graph\n"
     ]
    },
    {
     "data": {
      "image/png": "[encoded data removed]",
      "text/plain": [
       "<Figure size 432x288 with 1 Axes>"
      ]
     },
     "metadata": {},
     "output_type": "display_data"
    },
    {
     "name": "stdout",
     "output_type": "stream",
     "text": [
      "edges_to_delete = [[1 2]\n",
      " [0 1]]\n",
      "edges_to_create = []\n",
      "edges_to_delete = [array([1, 1]), array([2, 2])]\n",
      "edges_to_create = []\n",
      "Number of connected components = 1\n",
      "Comp 0 = {0, 1, 2}\n",
      "After get best cut: cut_edges = [array([1, 1]), array([2, 2])], added_edges = []\n",
      "-----------counter = 9------------\n",
      " Cut iteration 10\n",
      "Starting_edge inside branches_to_conept = [[1128583.96620801  566490.41095622  595210.83180443]\n",
      " [1128852.88825061  565209.63365708  595024.28706075]]\n",
      "At the start, starting_node (in terms of the skeleton, that shouldn't match the starting edge) = [1]\n",
      "printing out current edge:\n",
      "[[1128583.96620801  566490.41095622  595210.83180443]\n",
      " [1128852.88825061  565209.63365708  595024.28706075]]\n",
      "edge_endpoints_to_process was empty so exiting loop after 3 iterations\n",
      "starting_node in concept map (that should match the starting edge) = 1\n",
      "Total time for branches to concept conversion = 0.0074977874755859375\n",
      "\n",
      "Shortest path = [1, 0]\n",
      "Short segments to combine = []\n",
      "Found 0 high degree coordinates to cut\n",
      "Starting_edge inside branches_to_conept = [[1128583.96620801  566490.41095622  595210.83180443]\n",
      " [1128852.88825061  565209.63365708  595024.28706075]]\n",
      "At the start, starting_node (in terms of the skeleton, that shouldn't match the starting edge) = [1]\n",
      "printing out current edge:\n",
      "[[1128583.96620801  566490.41095622  595210.83180443]\n",
      " [1128852.88825061  565209.63365708  595024.28706075]]\n",
      "edge_endpoints_to_process was empty so exiting loop after 3 iterations\n",
      "starting_node in concept map (that should match the starting edge) = 1\n",
      "Total time for branches to concept conversion = 0.007341146469116211\n",
      "\n",
      "Skipping endnode 1 because skeletal distance was 1980.2430617399618 and threshold was 2500\n",
      "Skipping endnode 0 because skeletal distance was 1891.0745200668418 and threshold was 2500\n",
      "Could not used the revised endnodes path because empty\n",
      "skip_nodes = []\n",
      "\n",
      "Attempting the doubling back check (symmetrical so don't need to check from both sides)\n"
     ]
    },
    {
     "data": {
      "application/vnd.jupyter.widget-view+json": {
       "model_id": "337f3b3784a3409093a63aff6b0e75d6",
       "version_major": 2,
       "version_minor": 0
      },
      "text/plain": [
       "HBox(children=(FloatProgress(value=0.0, max=1.0), HTML(value='')))"
      ]
     },
     "metadata": {},
     "output_type": "display_data"
    },
    {
     "name": "stdout",
     "output_type": "stream",
     "text": [
      "No skeletons to stack so returning empty list\n",
      "No upstream skeletons so doing backup\n",
      "  Edge: [1 0]: curr_angle = 133.11\n",
      "\n",
      "Total time for doubling_back = 0.036826133728027344\n",
      "There were 1 edges that passed doubling back threshold of 100\n",
      "Winning edge [1 0] had a doubling back of 0\n",
      "coordinate_branches = [0, 1, 2]\n",
      "0 = red\n",
      "1 = aqua\n",
      "2 = purple\n",
      "Angle between 0 and 1 = 132.38 \n",
      "Angle between 0 and 2 = 64.51 \n",
      "Angle between 1 and 2 = 78.21 \n",
      "Final Matches = []\n",
      "matched_branches_revised = []\n",
      "Original graph\n"
     ]
    },
    {
     "data": {
      "image/png": "[encoded data removed]",
      "text/plain": [
       "<Figure size 432x288 with 1 Axes>"
      ]
     },
     "metadata": {},
     "output_type": "display_data"
    },
    {
     "name": "stdout",
     "output_type": "stream",
     "text": [
      "edges_to_delete = [[1 2]\n",
      " [0 1]]\n",
      "edges_to_create = []\n",
      "edges_to_delete = [array([1, 1]), array([2, 2])]\n",
      "edges_to_create = []\n",
      "Number of connected components = 1\n",
      "Comp 0 = {0, 1, 2}\n",
      "After get best cut: cut_edges = [array([1, 1]), array([2, 2])], added_edges = []\n",
      "-----------counter = 10------------\n",
      "Breaking because hit max iterations 10\n"
     ]
    },
    {
     "ename": "Exception",
     "evalue": "Multiple endpoints matching: [[0 2]\n [1 3]]",
     "output_type": "error",
     "traceback": [
      "\u001b[0;31m---------------------------------------------------------------------------\u001b[0m",
      "\u001b[0;31mException\u001b[0m                                 Traceback (most recent call last)",
      "\u001b[0;32m<ipython-input-140-6c565eb438a0>\u001b[0m in \u001b[0;36m<module>\u001b[0;34m\u001b[0m\n\u001b[1;32m      1\u001b[0m \u001b[0;32mimport\u001b[0m \u001b[0mproofreading_utils\u001b[0m \u001b[0;32mas\u001b[0m \u001b[0mpru\u001b[0m\u001b[0;34m\u001b[0m\u001b[0;34m\u001b[0m\u001b[0m\n\u001b[1;32m      2\u001b[0m limb_results = pru.multi_soma_split_suggestions(neuron_obj,\n\u001b[0;32m----> 3\u001b[0;31m                                 \u001b[0mverbose\u001b[0m\u001b[0;34m=\u001b[0m\u001b[0;32mTrue\u001b[0m\u001b[0;34m,\u001b[0m\u001b[0;34m\u001b[0m\u001b[0;34m\u001b[0m\u001b[0m\n\u001b[0m\u001b[1;32m      4\u001b[0m                                 )\n",
      "\u001b[0;32m/meshAfterParty/proofreading_utils.py\u001b[0m in \u001b[0;36mmulti_soma_split_suggestions\u001b[0;34m(neuron_obj, verbose, max_iterations, plot_suggestions, plot_suggestions_scatter_size, remove_segment_threshold, **kwargs)\u001b[0m\n\u001b[1;32m    515\u001b[0m             suggested_cut_points = [sk.shared_endpoint(curr_limb_copy[cut_e[0]].skeleton,\n\u001b[1;32m    516\u001b[0m                                                 curr_limb_copy[cut_e[1]].skeleton)\n\u001b[0;32m--> 517\u001b[0;31m                                              for cut_e in total_soma_paths_to_cut]\n\u001b[0m\u001b[1;32m    518\u001b[0m \u001b[0;34m\u001b[0m\u001b[0m\n\u001b[1;32m    519\u001b[0m             \u001b[0mlocal_results\u001b[0m\u001b[0;34m[\u001b[0m\u001b[0;34m\"coordinate_suggestions\"\u001b[0m\u001b[0;34m]\u001b[0m \u001b[0;34m=\u001b[0m\u001b[0msuggested_cut_points\u001b[0m\u001b[0;34m\u001b[0m\u001b[0;34m\u001b[0m\u001b[0m\n",
      "\u001b[0;32m/meshAfterParty/proofreading_utils.py\u001b[0m in \u001b[0;36m<listcomp>\u001b[0;34m(.0)\u001b[0m\n\u001b[1;32m    515\u001b[0m             suggested_cut_points = [sk.shared_endpoint(curr_limb_copy[cut_e[0]].skeleton,\n\u001b[1;32m    516\u001b[0m                                                 curr_limb_copy[cut_e[1]].skeleton)\n\u001b[0;32m--> 517\u001b[0;31m                                              for cut_e in total_soma_paths_to_cut]\n\u001b[0m\u001b[1;32m    518\u001b[0m \u001b[0;34m\u001b[0m\u001b[0m\n\u001b[1;32m    519\u001b[0m             \u001b[0mlocal_results\u001b[0m\u001b[0;34m[\u001b[0m\u001b[0;34m\"coordinate_suggestions\"\u001b[0m\u001b[0;34m]\u001b[0m \u001b[0;34m=\u001b[0m\u001b[0msuggested_cut_points\u001b[0m\u001b[0;34m\u001b[0m\u001b[0;34m\u001b[0m\u001b[0m\n",
      "\u001b[0;32m/meshAfterParty/skeleton_utils.py\u001b[0m in \u001b[0;36mshared_endpoint\u001b[0;34m(skeleton_1, skeleton_2)\u001b[0m\n\u001b[1;32m   5376\u001b[0m     \u001b[0mend_1\u001b[0m \u001b[0;34m=\u001b[0m \u001b[0mfind_branch_endpoints\u001b[0m\u001b[0;34m(\u001b[0m\u001b[0mskeleton_1\u001b[0m\u001b[0;34m)\u001b[0m\u001b[0;34m\u001b[0m\u001b[0;34m\u001b[0m\u001b[0m\n\u001b[1;32m   5377\u001b[0m     \u001b[0mend_2\u001b[0m \u001b[0;34m=\u001b[0m \u001b[0mfind_branch_endpoints\u001b[0m\u001b[0;34m(\u001b[0m\u001b[0mskeleton_2\u001b[0m\u001b[0;34m)\u001b[0m\u001b[0;34m\u001b[0m\u001b[0;34m\u001b[0m\u001b[0m\n\u001b[0;32m-> 5378\u001b[0;31m     \u001b[0mnode_connectivity\u001b[0m \u001b[0;34m=\u001b[0m \u001b[0mendpoint_connectivity\u001b[0m\u001b[0;34m(\u001b[0m\u001b[0mend_1\u001b[0m\u001b[0;34m,\u001b[0m\u001b[0mend_2\u001b[0m\u001b[0;34m,\u001b[0m\u001b[0mprint_flag\u001b[0m\u001b[0;34m=\u001b[0m\u001b[0;32mFalse\u001b[0m\u001b[0;34m,\u001b[0m\u001b[0mreturn_coordinate\u001b[0m\u001b[0;34m=\u001b[0m\u001b[0;32mTrue\u001b[0m\u001b[0;34m)\u001b[0m\u001b[0;34m\u001b[0m\u001b[0;34m\u001b[0m\u001b[0m\n\u001b[0m\u001b[1;32m   5379\u001b[0m     \u001b[0;32mreturn\u001b[0m \u001b[0mnode_connectivity\u001b[0m\u001b[0;34m\u001b[0m\u001b[0;34m\u001b[0m\u001b[0m\n\u001b[1;32m   5380\u001b[0m \u001b[0;34m\u001b[0m\u001b[0m\n",
      "\u001b[0;32m/meshAfterParty/skeleton_utils.py\u001b[0m in \u001b[0;36mendpoint_connectivity\u001b[0;34m(endpoints_1, endpoints_2, exceptions_flag, return_coordinate, print_flag)\u001b[0m\n\u001b[1;32m   5340\u001b[0m         \u001b[0mprint_string\u001b[0m \u001b[0;34m=\u001b[0m \u001b[0;34mf\"Multiple endpoints matching: {endpoints_match}\"\u001b[0m\u001b[0;34m\u001b[0m\u001b[0;34m\u001b[0m\u001b[0m\n\u001b[1;32m   5341\u001b[0m         \u001b[0;32mif\u001b[0m \u001b[0mexceptions_flag\u001b[0m\u001b[0;34m:\u001b[0m\u001b[0;34m\u001b[0m\u001b[0;34m\u001b[0m\u001b[0m\n\u001b[0;32m-> 5342\u001b[0;31m             \u001b[0;32mraise\u001b[0m \u001b[0mException\u001b[0m\u001b[0;34m(\u001b[0m\u001b[0mprint_string\u001b[0m\u001b[0;34m)\u001b[0m\u001b[0;34m\u001b[0m\u001b[0;34m\u001b[0m\u001b[0m\n\u001b[0m\u001b[1;32m   5343\u001b[0m         \u001b[0;32melse\u001b[0m\u001b[0;34m:\u001b[0m\u001b[0;34m\u001b[0m\u001b[0;34m\u001b[0m\u001b[0m\n\u001b[1;32m   5344\u001b[0m             \u001b[0mprint\u001b[0m\u001b[0;34m(\u001b[0m\u001b[0mprint_string\u001b[0m\u001b[0;34m)\u001b[0m\u001b[0;34m\u001b[0m\u001b[0;34m\u001b[0m\u001b[0m\n",
      "\u001b[0;31mException\u001b[0m: Multiple endpoints matching: [[0 2]\n [1 3]]"
     ]
    }
   ],
   "source": [
    "import proofreading_utils as pru\n",
    "limb_results = pru.multi_soma_split_suggestions(neuron_obj,\n",
    "                                verbose=True,\n",
    "                                )"
   ]
  },
  {
   "cell_type": "code",
   "execution_count": 111,
   "metadata": {},
   "outputs": [
    {
     "name": "stdout",
     "output_type": "stream",
     "text": [
      "> \u001b[0;32m/usr/local/lib/python3.6/dist-packages/numpy/core/numeric.py\u001b[0m(1358)\u001b[0;36m<listcomp>\u001b[0;34m()\u001b[0m\n",
      "\u001b[0;32m   1356 \u001b[0;31m            \u001b[0;32mpass\u001b[0m\u001b[0;34m\u001b[0m\u001b[0;34m\u001b[0m\u001b[0m\n",
      "\u001b[0m\u001b[0;32m   1357 \u001b[0;31m    \u001b[0;31m# Going via an iterator directly is slower than via list comprehension.\u001b[0m\u001b[0;34m\u001b[0m\u001b[0;34m\u001b[0m\u001b[0;34m\u001b[0m\u001b[0m\n",
      "\u001b[0m\u001b[0;32m-> 1358 \u001b[0;31m    \u001b[0maxis\u001b[0m \u001b[0;34m=\u001b[0m \u001b[0mtuple\u001b[0m\u001b[0;34m(\u001b[0m\u001b[0;34m[\u001b[0m\u001b[0mnormalize_axis_index\u001b[0m\u001b[0;34m(\u001b[0m\u001b[0max\u001b[0m\u001b[0;34m,\u001b[0m \u001b[0mndim\u001b[0m\u001b[0;34m,\u001b[0m \u001b[0margname\u001b[0m\u001b[0;34m)\u001b[0m \u001b[0;32mfor\u001b[0m \u001b[0max\u001b[0m \u001b[0;32min\u001b[0m \u001b[0maxis\u001b[0m\u001b[0;34m]\u001b[0m\u001b[0;34m)\u001b[0m\u001b[0;34m\u001b[0m\u001b[0;34m\u001b[0m\u001b[0m\n",
      "\u001b[0m\u001b[0;32m   1359 \u001b[0;31m    \u001b[0;32mif\u001b[0m \u001b[0;32mnot\u001b[0m \u001b[0mallow_duplicate\u001b[0m \u001b[0;32mand\u001b[0m \u001b[0mlen\u001b[0m\u001b[0;34m(\u001b[0m\u001b[0mset\u001b[0m\u001b[0;34m(\u001b[0m\u001b[0maxis\u001b[0m\u001b[0;34m)\u001b[0m\u001b[0;34m)\u001b[0m \u001b[0;34m!=\u001b[0m \u001b[0mlen\u001b[0m\u001b[0;34m(\u001b[0m\u001b[0maxis\u001b[0m\u001b[0;34m)\u001b[0m\u001b[0;34m:\u001b[0m\u001b[0;34m\u001b[0m\u001b[0;34m\u001b[0m\u001b[0m\n",
      "\u001b[0m\u001b[0;32m   1360 \u001b[0;31m        \u001b[0;32mif\u001b[0m \u001b[0margname\u001b[0m\u001b[0;34m:\u001b[0m\u001b[0;34m\u001b[0m\u001b[0;34m\u001b[0m\u001b[0m\n",
      "\u001b[0m\n",
      "ipdb> u\n",
      "> \u001b[0;32m/usr/local/lib/python3.6/dist-packages/numpy/core/numeric.py\u001b[0m(1358)\u001b[0;36mnormalize_axis_tuple\u001b[0;34m()\u001b[0m\n",
      "\u001b[0;32m   1356 \u001b[0;31m            \u001b[0;32mpass\u001b[0m\u001b[0;34m\u001b[0m\u001b[0;34m\u001b[0m\u001b[0m\n",
      "\u001b[0m\u001b[0;32m   1357 \u001b[0;31m    \u001b[0;31m# Going via an iterator directly is slower than via list comprehension.\u001b[0m\u001b[0;34m\u001b[0m\u001b[0;34m\u001b[0m\u001b[0;34m\u001b[0m\u001b[0m\n",
      "\u001b[0m\u001b[0;32m-> 1358 \u001b[0;31m    \u001b[0maxis\u001b[0m \u001b[0;34m=\u001b[0m \u001b[0mtuple\u001b[0m\u001b[0;34m(\u001b[0m\u001b[0;34m[\u001b[0m\u001b[0mnormalize_axis_index\u001b[0m\u001b[0;34m(\u001b[0m\u001b[0max\u001b[0m\u001b[0;34m,\u001b[0m \u001b[0mndim\u001b[0m\u001b[0;34m,\u001b[0m \u001b[0margname\u001b[0m\u001b[0;34m)\u001b[0m \u001b[0;32mfor\u001b[0m \u001b[0max\u001b[0m \u001b[0;32min\u001b[0m \u001b[0maxis\u001b[0m\u001b[0;34m]\u001b[0m\u001b[0;34m)\u001b[0m\u001b[0;34m\u001b[0m\u001b[0;34m\u001b[0m\u001b[0m\n",
      "\u001b[0m\u001b[0;32m   1359 \u001b[0;31m    \u001b[0;32mif\u001b[0m \u001b[0;32mnot\u001b[0m \u001b[0mallow_duplicate\u001b[0m \u001b[0;32mand\u001b[0m \u001b[0mlen\u001b[0m\u001b[0;34m(\u001b[0m\u001b[0mset\u001b[0m\u001b[0;34m(\u001b[0m\u001b[0maxis\u001b[0m\u001b[0;34m)\u001b[0m\u001b[0;34m)\u001b[0m \u001b[0;34m!=\u001b[0m \u001b[0mlen\u001b[0m\u001b[0;34m(\u001b[0m\u001b[0maxis\u001b[0m\u001b[0;34m)\u001b[0m\u001b[0;34m:\u001b[0m\u001b[0;34m\u001b[0m\u001b[0;34m\u001b[0m\u001b[0m\n",
      "\u001b[0m\u001b[0;32m   1360 \u001b[0;31m        \u001b[0;32mif\u001b[0m \u001b[0margname\u001b[0m\u001b[0;34m:\u001b[0m\u001b[0;34m\u001b[0m\u001b[0;34m\u001b[0m\u001b[0m\n",
      "\u001b[0m\n",
      "ipdb> u\n",
      "> \u001b[0;32m/usr/local/lib/python3.6/dist-packages/numpy/lib/function_base.py\u001b[0m(236)\u001b[0;36mflip\u001b[0;34m()\u001b[0m\n",
      "\u001b[0;32m    234 \u001b[0;31m        \u001b[0mindexer\u001b[0m \u001b[0;34m=\u001b[0m \u001b[0;34m(\u001b[0m\u001b[0mnp\u001b[0m\u001b[0;34m.\u001b[0m\u001b[0ms_\u001b[0m\u001b[0;34m[\u001b[0m\u001b[0;34m:\u001b[0m\u001b[0;34m:\u001b[0m\u001b[0;34m-\u001b[0m\u001b[0;36m1\u001b[0m\u001b[0;34m]\u001b[0m\u001b[0;34m,\u001b[0m\u001b[0;34m)\u001b[0m \u001b[0;34m*\u001b[0m \u001b[0mm\u001b[0m\u001b[0;34m.\u001b[0m\u001b[0mndim\u001b[0m\u001b[0;34m\u001b[0m\u001b[0;34m\u001b[0m\u001b[0m\n",
      "\u001b[0m\u001b[0;32m    235 \u001b[0;31m    \u001b[0;32melse\u001b[0m\u001b[0;34m:\u001b[0m\u001b[0;34m\u001b[0m\u001b[0;34m\u001b[0m\u001b[0m\n",
      "\u001b[0m\u001b[0;32m--> 236 \u001b[0;31m        \u001b[0maxis\u001b[0m \u001b[0;34m=\u001b[0m \u001b[0m_nx\u001b[0m\u001b[0;34m.\u001b[0m\u001b[0mnormalize_axis_tuple\u001b[0m\u001b[0;34m(\u001b[0m\u001b[0maxis\u001b[0m\u001b[0;34m,\u001b[0m \u001b[0mm\u001b[0m\u001b[0;34m.\u001b[0m\u001b[0mndim\u001b[0m\u001b[0;34m)\u001b[0m\u001b[0;34m\u001b[0m\u001b[0;34m\u001b[0m\u001b[0m\n",
      "\u001b[0m\u001b[0;32m    237 \u001b[0;31m        \u001b[0mindexer\u001b[0m \u001b[0;34m=\u001b[0m \u001b[0;34m[\u001b[0m\u001b[0mnp\u001b[0m\u001b[0;34m.\u001b[0m\u001b[0ms_\u001b[0m\u001b[0;34m[\u001b[0m\u001b[0;34m:\u001b[0m\u001b[0;34m]\u001b[0m\u001b[0;34m]\u001b[0m \u001b[0;34m*\u001b[0m \u001b[0mm\u001b[0m\u001b[0;34m.\u001b[0m\u001b[0mndim\u001b[0m\u001b[0;34m\u001b[0m\u001b[0;34m\u001b[0m\u001b[0m\n",
      "\u001b[0m\u001b[0;32m    238 \u001b[0;31m        \u001b[0;32mfor\u001b[0m \u001b[0max\u001b[0m \u001b[0;32min\u001b[0m \u001b[0maxis\u001b[0m\u001b[0;34m:\u001b[0m\u001b[0;34m\u001b[0m\u001b[0;34m\u001b[0m\u001b[0m\n",
      "\u001b[0m\n",
      "ipdb> u\n",
      "> \u001b[0;32m<__array_function__ internals>\u001b[0m(6)\u001b[0;36mflip\u001b[0;34m()\u001b[0m\n",
      "\n",
      "ipdb> u\n",
      "> \u001b[0;32m/meshAfterParty/skeleton_utils.py\u001b[0m(5387)\u001b[0;36mflip_skeleton\u001b[0;34m()\u001b[0m\n",
      "\u001b[0;32m   5385 \u001b[0;31m    \"\"\"\n",
      "\u001b[0m\u001b[0;32m   5386 \u001b[0;31m    \u001b[0mnew_sk\u001b[0m \u001b[0;34m=\u001b[0m \u001b[0mnp\u001b[0m\u001b[0;34m.\u001b[0m\u001b[0mflip\u001b[0m\u001b[0;34m(\u001b[0m\u001b[0mcurrent_skeleton\u001b[0m\u001b[0;34m,\u001b[0m\u001b[0;36m0\u001b[0m\u001b[0;34m)\u001b[0m\u001b[0;34m\u001b[0m\u001b[0;34m\u001b[0m\u001b[0m\n",
      "\u001b[0m\u001b[0;32m-> 5387 \u001b[0;31m    \u001b[0;32mreturn\u001b[0m \u001b[0mnp\u001b[0m\u001b[0;34m.\u001b[0m\u001b[0mflip\u001b[0m\u001b[0;34m(\u001b[0m\u001b[0mnew_sk\u001b[0m\u001b[0;34m,\u001b[0m\u001b[0;36m1\u001b[0m\u001b[0;34m)\u001b[0m\u001b[0;34m\u001b[0m\u001b[0;34m\u001b[0m\u001b[0m\n",
      "\u001b[0m\u001b[0;32m   5388 \u001b[0;31m\u001b[0;34m\u001b[0m\u001b[0m\n",
      "\u001b[0m\u001b[0;32m   5389 \u001b[0;31m\u001b[0;34m\u001b[0m\u001b[0m\n",
      "\u001b[0m\n",
      "ipdb> current_skeleton\n",
      "[]\n",
      "ipdb> u\n",
      "> \u001b[0;32m/meshAfterParty/error_detection.py\u001b[0m(290)\u001b[0;36mdouble_back_edges_path\u001b[0;34m()\u001b[0m\n",
      "\u001b[0;32m    288 \u001b[0;31m\u001b[0;34m\u001b[0m\u001b[0m\n",
      "\u001b[0m\u001b[0;32m    289 \u001b[0;31m        \"\"\"\n",
      "\u001b[0m\u001b[0;32m--> 290 \u001b[0;31m        \u001b[0mup_sk_flipped\u001b[0m \u001b[0;34m=\u001b[0m \u001b[0msk\u001b[0m\u001b[0;34m.\u001b[0m\u001b[0mflip_skeleton\u001b[0m\u001b[0;34m(\u001b[0m\u001b[0mup_sk\u001b[0m\u001b[0;34m)\u001b[0m\u001b[0;34m\u001b[0m\u001b[0;34m\u001b[0m\u001b[0m\n",
      "\u001b[0m\u001b[0;32m    291 \u001b[0;31m\u001b[0;34m\u001b[0m\u001b[0m\n",
      "\u001b[0m\u001b[0;32m    292 \u001b[0;31m        \u001b[0mup_vec\u001b[0m \u001b[0;34m=\u001b[0m \u001b[0mup_sk_flipped\u001b[0m\u001b[0;34m[\u001b[0m\u001b[0;34m-\u001b[0m\u001b[0;36m1\u001b[0m\u001b[0;34m]\u001b[0m\u001b[0;34m[\u001b[0m\u001b[0;34m-\u001b[0m\u001b[0;36m1\u001b[0m\u001b[0;34m]\u001b[0m \u001b[0;34m-\u001b[0m \u001b[0mup_sk_flipped\u001b[0m\u001b[0;34m[\u001b[0m\u001b[0;36m0\u001b[0m\u001b[0;34m]\u001b[0m\u001b[0;34m[\u001b[0m\u001b[0;36m0\u001b[0m\u001b[0;34m]\u001b[0m\u001b[0;34m\u001b[0m\u001b[0;34m\u001b[0m\u001b[0m\n",
      "\u001b[0m\n",
      "ipdb> u\n",
      "> \u001b[0;32m/meshAfterParty/proofreading_utils.py\u001b[0m(157)\u001b[0;36mget_best_cut_edge\u001b[0;34m()\u001b[0m\n",
      "\u001b[0;32m    155 \u001b[0;31m                             \u001b[0moffset\u001b[0m\u001b[0;34m=\u001b[0m\u001b[0moffset\u001b[0m\u001b[0;34m,\u001b[0m\u001b[0;34m\u001b[0m\u001b[0;34m\u001b[0m\u001b[0m\n",
      "\u001b[0m\u001b[0;32m    156 \u001b[0;31m                            \u001b[0mverbose\u001b[0m \u001b[0;34m=\u001b[0m \u001b[0mverbose\u001b[0m\u001b[0;34m,\u001b[0m\u001b[0;34m\u001b[0m\u001b[0;34m\u001b[0m\u001b[0m\n",
      "\u001b[0m\u001b[0;32m--> 157 \u001b[0;31m                            skip_nodes=skip_nodes)\n",
      "\u001b[0m\u001b[0;32m    158 \u001b[0;31m\u001b[0;34m\u001b[0m\u001b[0m\n",
      "\u001b[0m\u001b[0;32m    159 \u001b[0;31m\u001b[0;34m\u001b[0m\u001b[0m\n",
      "\u001b[0m\n",
      "ipdb> u\n",
      "> \u001b[0;32m/meshAfterParty/proofreading_utils.py\u001b[0m(488)\u001b[0;36mmulti_soma_split_suggestions\u001b[0;34m()\u001b[0m\n",
      "\u001b[0;32m    486 \u001b[0;31m                                                                \u001b[0mremove_segment_threshold\u001b[0m\u001b[0;34m=\u001b[0m\u001b[0mremove_segment_threshold\u001b[0m\u001b[0;34m,\u001b[0m\u001b[0;34m\u001b[0m\u001b[0;34m\u001b[0m\u001b[0m\n",
      "\u001b[0m\u001b[0;32m    487 \u001b[0;31m                                                                               \u001b[0mverbose\u001b[0m\u001b[0;34m=\u001b[0m\u001b[0mverbose\u001b[0m\u001b[0;34m,\u001b[0m\u001b[0;34m\u001b[0m\u001b[0;34m\u001b[0m\u001b[0m\n",
      "\u001b[0m\u001b[0;32m--> 488 \u001b[0;31m                                                                              **kwargs)\n",
      "\u001b[0m\u001b[0;32m    489 \u001b[0;31m                \u001b[0;32mif\u001b[0m \u001b[0mverbose\u001b[0m\u001b[0;34m:\u001b[0m\u001b[0;34m\u001b[0m\u001b[0;34m\u001b[0m\u001b[0m\n",
      "\u001b[0m\u001b[0;32m    490 \u001b[0;31m                    \u001b[0mprint\u001b[0m\u001b[0;34m(\u001b[0m\u001b[0;34mf\"After get best cut: cut_edges = {cut_edges}, added_edges = {added_edges}\"\u001b[0m\u001b[0;34m)\u001b[0m\u001b[0;34m\u001b[0m\u001b[0;34m\u001b[0m\u001b[0m\n",
      "\u001b[0m\n",
      "ipdb> d\n",
      "> \u001b[0;32m/meshAfterParty/proofreading_utils.py\u001b[0m(157)\u001b[0;36mget_best_cut_edge\u001b[0;34m()\u001b[0m\n",
      "\u001b[0;32m    155 \u001b[0;31m                             \u001b[0moffset\u001b[0m\u001b[0;34m=\u001b[0m\u001b[0moffset\u001b[0m\u001b[0;34m,\u001b[0m\u001b[0;34m\u001b[0m\u001b[0;34m\u001b[0m\u001b[0m\n",
      "\u001b[0m\u001b[0;32m    156 \u001b[0;31m                            \u001b[0mverbose\u001b[0m \u001b[0;34m=\u001b[0m \u001b[0mverbose\u001b[0m\u001b[0;34m,\u001b[0m\u001b[0;34m\u001b[0m\u001b[0;34m\u001b[0m\u001b[0m\n",
      "\u001b[0m\u001b[0;32m--> 157 \u001b[0;31m                            skip_nodes=skip_nodes)\n",
      "\u001b[0m\u001b[0;32m    158 \u001b[0;31m\u001b[0;34m\u001b[0m\u001b[0m\n",
      "\u001b[0m\u001b[0;32m    159 \u001b[0;31m\u001b[0;34m\u001b[0m\u001b[0m\n",
      "\u001b[0m\n",
      "ipdb> d\n",
      "> \u001b[0;32m/meshAfterParty/error_detection.py\u001b[0m(290)\u001b[0;36mdouble_back_edges_path\u001b[0;34m()\u001b[0m\n",
      "\u001b[0;32m    288 \u001b[0;31m\u001b[0;34m\u001b[0m\u001b[0m\n",
      "\u001b[0m\u001b[0;32m    289 \u001b[0;31m        \"\"\"\n",
      "\u001b[0m\u001b[0;32m--> 290 \u001b[0;31m        \u001b[0mup_sk_flipped\u001b[0m \u001b[0;34m=\u001b[0m \u001b[0msk\u001b[0m\u001b[0;34m.\u001b[0m\u001b[0mflip_skeleton\u001b[0m\u001b[0;34m(\u001b[0m\u001b[0mup_sk\u001b[0m\u001b[0;34m)\u001b[0m\u001b[0;34m\u001b[0m\u001b[0;34m\u001b[0m\u001b[0m\n",
      "\u001b[0m\u001b[0;32m    291 \u001b[0;31m\u001b[0;34m\u001b[0m\u001b[0m\n",
      "\u001b[0m\u001b[0;32m    292 \u001b[0;31m        \u001b[0mup_vec\u001b[0m \u001b[0;34m=\u001b[0m \u001b[0mup_sk_flipped\u001b[0m\u001b[0;34m[\u001b[0m\u001b[0;34m-\u001b[0m\u001b[0;36m1\u001b[0m\u001b[0;34m]\u001b[0m\u001b[0;34m[\u001b[0m\u001b[0;34m-\u001b[0m\u001b[0;36m1\u001b[0m\u001b[0;34m]\u001b[0m \u001b[0;34m-\u001b[0m \u001b[0mup_sk_flipped\u001b[0m\u001b[0;34m[\u001b[0m\u001b[0;36m0\u001b[0m\u001b[0;34m]\u001b[0m\u001b[0;34m[\u001b[0m\u001b[0;36m0\u001b[0m\u001b[0;34m]\u001b[0m\u001b[0;34m\u001b[0m\u001b[0;34m\u001b[0m\u001b[0m\n",
      "\u001b[0m\n",
      "ipdb> current_nodes\n",
      "array([1, 0])\n",
      "ipdb> su.compressed_pickle(curr_limb,\"curr_limb\")\n",
      "*** NameError: name 'su' is not defined\n",
      "ipdb> import system_utils as su\n",
      "ipdb> su.compressed_pickle(curr_limb,\"curr_limb\")\n",
      "Saved object at /notebooks/Auto_Proofreading/Limb_Neuron_Splitting/curr_limb.pbz2\n",
      "File size is 0.052217 MB\n",
      "ipdb> v\n",
      "*** NameError: name 'v' is not defined\n",
      "ipdb> comparison_distance\n",
      "3000\n",
      "ipdb> offset\n",
      "1000\n",
      "ipdb> c\n"
     ]
    }
   ],
   "source": [
    "debug"
   ]
  },
  {
   "cell_type": "code",
   "execution_count": 101,
   "metadata": {},
   "outputs": [],
   "source": [
    "import system_utils as su"
   ]
  },
  {
   "cell_type": "code",
   "execution_count": 112,
   "metadata": {},
   "outputs": [],
   "source": [
    "curr_limb = su.decompress_pickle(\"curr_limb\")"
   ]
  },
  {
   "cell_type": "code",
   "execution_count": 115,
   "metadata": {},
   "outputs": [
    {
     "data": {
      "text/plain": [
       "OutEdgeView([(1, 2), (1, 0)])"
      ]
     },
     "execution_count": 115,
     "metadata": {},
     "output_type": "execute_result"
    }
   ],
   "source": [
    "curr_limb.concept_network_directional.edges()"
   ]
  },
  {
   "cell_type": "code",
   "execution_count": 123,
   "metadata": {},
   "outputs": [
    {
     "data": {
      "text/plain": [
       "(1980.2430617399618, 1891.0745200668418)"
      ]
     },
     "execution_count": 123,
     "metadata": {},
     "output_type": "execute_result"
    }
   ],
   "source": [
    "sk.calculate_skeleton_distance(curr_limb[1].skeleton),sk.calculate_skeleton_distance(curr_limb[0].skeleton)"
   ]
  },
  {
   "cell_type": "code",
   "execution_count": 121,
   "metadata": {},
   "outputs": [
    {
     "data": {
      "text/plain": [
       "[]"
      ]
     },
     "execution_count": 121,
     "metadata": {},
     "output_type": "execute_result"
    }
   ],
   "source": [
    "up_sk"
   ]
  },
  {
   "cell_type": "code",
   "execution_count": null,
   "metadata": {},
   "outputs": [],
   "source": [
    "curr_limb[]"
   ]
  },
  {
   "cell_type": "code",
   "execution_count": 136,
   "metadata": {},
   "outputs": [
    {
     "name": "stdout",
     "output_type": "stream",
     "text": [
      "common_endpoint = [1128852.88825061  565209.63365708  595024.28706075]\n",
      "Base needs flipping\n",
      "Skeleton after flip = [[[1128852.88825061  565209.63365708  595024.28706075]\n",
      "  [1128094.77993148  565660.65054224  595150.26065355]]\n",
      "\n",
      " [[1128094.77993148  565660.65054224  595150.26065355]\n",
      "  [1127244.          566166.8         595291.63333333]]]\n",
      "Base offset = 1000\n",
      "Base: Passed the offset phase but was not long enough for comparison\n",
      "Base: Not using offset \n",
      "--- Upstream iteration: 0 -----\n",
      "upstream_skeleton_ordered 1402.2317315098717 = [[[1128583.96620801  566490.41095622  595210.83180443]\n",
      "  [1128768.39626891  565593.02286676  594865.94165721]]\n",
      "\n",
      " [[1128768.39626891  565593.02286676  594865.94165721]\n",
      "  [1128852.88825061  565209.63365708  595024.28706075]]]\n",
      "flip_flag = True\n",
      "upstream_offset = 1000\n",
      "Restricting to offset\n",
      "skeleton_minus_buffer 0 = []\n",
      "After subtracting the offset the length is: 0\n",
      "Subtracting the comparison was not successful so changing to 3000 and reiterating\n",
      "New upstream_node = None\n",
      "Breaking because hit None upstream node\n",
      "No skeletons to stack so returning empty list\n",
      "upstream_final_skeleton = []\n",
      "No upstream skeletons so doing backup\n",
      "Base needs flipping\n",
      "Skeleton after flip = [[[1128852.88825061  565209.63365708  595024.28706075]\n",
      "  [1128768.39626891  565593.02286676  594865.94165721]]\n",
      "\n",
      " [[1128768.39626891  565593.02286676  594865.94165721]\n",
      "  [1128583.96620801  566490.41095622  595210.83180443]]]\n",
      "Base offset = 1000\n",
      "Base: Passed the offset phase but was not long enough for comparison\n",
      "Base: Not using offset \n"
     ]
    }
   ],
   "source": [
    "comparison_distance = 3000\n",
    "offset = 1000\n",
    "up_width,d_width,up_sk,d_sk = nru.branch_boundary_transition(curr_limb,\n",
    "                              edge=[1,0],\n",
    "                              comparison_distance = comparison_distance,\n",
    "                            offset=offset,\n",
    "                            verbose=True)"
   ]
  },
  {
   "cell_type": "code",
   "execution_count": 60,
   "metadata": {},
   "outputs": [],
   "source": [
    "curr_limb.set_concept_network_directional?"
   ]
  },
  {
   "cell_type": "code",
   "execution_count": 51,
   "metadata": {},
   "outputs": [],
   "source": [
    "curr_limb = su.decompress_pickle(\"curr_limb\")\n",
    "endpt = su.decompress_pickle(\"endpt\")\n",
    "divided_skeletons = su.decompress_pickle(\"divided_skeletons\")\n",
    "curr_limb_cp = su.decompress_pickle(\"curr_limb_cp\")"
   ]
  },
  {
   "cell_type": "code",
   "execution_count": 49,
   "metadata": {},
   "outputs": [
    {
     "data": {
      "text/plain": [
       "[array([[1127244.        ,  566166.8       ,  595291.63333333],\n",
       "        [1128852.88825061,  565209.63365708,  595024.28706075]]),\n",
       " array([[1128583.96620801,  566490.41095622,  595210.83180443],\n",
       "        [1128852.88825061,  565209.63365708,  595024.28706075]]),\n",
       " array([[1129066.16842105,  564937.47578947,  594995.56245614],\n",
       "        [1129071.40292105,  564942.71028947,  595000.79695614]])]"
      ]
     },
     "execution_count": 49,
     "metadata": {},
     "output_type": "execute_result"
    }
   ],
   "source": [
    "[sk.find_skeleton_endpoint_coordinates(k) for k in divided_skeletons]"
   ]
  },
  {
   "cell_type": "code",
   "execution_count": 45,
   "metadata": {},
   "outputs": [],
   "source": [
    "import skeleton_utils as sk"
   ]
  },
  {
   "cell_type": "code",
   "execution_count": 46,
   "metadata": {},
   "outputs": [
    {
     "data": {
      "text/plain": [
       "[array([[1127244.        ,  566166.8       ,  595291.63333333],\n",
       "        [1128852.88825061,  565209.63365708,  595024.28706075]]),\n",
       " array([[1128583.96620801,  566490.41095622,  595210.83180443],\n",
       "        [1128852.88825061,  565209.63365708,  595024.28706075]]),\n",
       " array([[1128852.88825061,  565209.63365708,  595024.28706075],\n",
       "        [1129176.6       ,  564805.96      ,  595736.94      ]])]"
      ]
     },
     "execution_count": 46,
     "metadata": {},
     "output_type": "execute_result"
    }
   ],
   "source": [
    "[sk.find_skeleton_endpoint_coordinates(k) for k in skeletons]"
   ]
  },
  {
   "cell_type": "code",
   "execution_count": 33,
   "metadata": {},
   "outputs": [],
   "source": []
  },
  {
   "cell_type": "code",
   "execution_count": 43,
   "metadata": {},
   "outputs": [
    {
     "data": {
      "text/plain": [
       "[array([1129176.6 ,  564805.96,  595736.94]),\n",
       " array([1128583.96620801,  566490.41095622,  595210.83180443]),\n",
       " TrackedArray([1127244.        ,  566166.8       ,  595291.63333333])]"
      ]
     },
     "execution_count": 43,
     "metadata": {},
     "output_type": "execute_result"
    }
   ],
   "source": [
    "soma_endpoints"
   ]
  },
  {
   "cell_type": "code",
   "execution_count": 52,
   "metadata": {},
   "outputs": [],
   "source": [
    "soma_endpoints = [k[\"starting_coordinate\"] for k in curr_limb_cp.all_concept_network_data]"
   ]
  },
  {
   "cell_type": "code",
   "execution_count": 53,
   "metadata": {},
   "outputs": [
    {
     "data": {
      "application/vnd.jupyter.widget-view+json": {
       "model_id": "32982f0b31bb43d6966ba3e9ab352bf4",
       "version_major": 2,
       "version_minor": 0
      },
      "text/plain": [
       "VBox(children=(Figure(camera=PerspectiveCamera(fov=46.0, position=(0.0, 0.0, 2.0), quaternion=(0.0, 0.0, 0.0, …"
      ]
     },
     "metadata": {},
     "output_type": "display_data"
    }
   ],
   "source": [
    "meshes,skeletons = nviz.limb_correspondence_plottable(curr_limb_cp.limb_correspondence)\n",
    "nviz.plot_objects(meshes=meshes,\n",
    "                 meshes_colors=\"random\",\n",
    "                 skeletons=skeletons,\n",
    "                 skeletons_colors=\"random\",\n",
    "                 scatters=soma_endpoints,\n",
    "                 scatter_size=0.4)"
   ]
  },
  {
   "cell_type": "code",
   "execution_count": null,
   "metadata": {},
   "outputs": [],
   "source": []
  },
  {
   "cell_type": "code",
   "execution_count": null,
   "metadata": {
    "scrolled": true
   },
   "outputs": [],
   "source": [
    "pru = reload(pru)\n",
    "nviz = reload(nviz)\n",
    "nviz.plot_split_suggestions_per_limb(neuron_obj,limb_results)"
   ]
  },
  {
   "cell_type": "markdown",
   "metadata": {},
   "source": [
    "# Practice Cleaning the Skeleton"
   ]
  },
  {
   "cell_type": "code",
   "execution_count": null,
   "metadata": {},
   "outputs": [],
   "source": [
    "ret_col = nviz.visualize_neuron(neuron_obj,\n",
    "                     visualize_type=[\"mesh\",\"skeleton\"],\n",
    "                     limb_branch_dict=dict(L0=\"all\"),\n",
    "                     return_color_dict=True)"
   ]
  },
  {
   "cell_type": "code",
   "execution_count": null,
   "metadata": {},
   "outputs": [],
   "source": [
    "# getting the skeleton widths for all the branches\n",
    "import matplotlib.pyplot as plt\n",
    "sk_list = [sk.calculate_skeleton_distance(curr_branch.skeleton) for curr_branch in neuron_obj[0]]\n",
    "plt.hist(sk_list)"
   ]
  },
  {
   "cell_type": "code",
   "execution_count": null,
   "metadata": {},
   "outputs": [],
   "source": [
    "curr_limb = neuron_obj[0]"
   ]
  },
  {
   "cell_type": "code",
   "execution_count": null,
   "metadata": {},
   "outputs": [],
   "source": []
  },
  {
   "cell_type": "code",
   "execution_count": null,
   "metadata": {},
   "outputs": [],
   "source": [
    "curr_limb_sk_cleaned,removed_sk = sk.clean_skeleton(neuron_obj[0].skeleton,\n",
    "                 distance_func=sk.skeletal_distance,\n",
    "                 min_distance_to_junction=4001,\n",
    "                 return_skeleton=True,\n",
    "                 endpoints_must_keep=[k[\"starting_coordinate\"] for k in curr_limb.all_concept_network_data],\n",
    "                 print_flag=True,\n",
    "                                        return_removed_skeletons=True)"
   ]
  },
  {
   "cell_type": "code",
   "execution_count": null,
   "metadata": {},
   "outputs": [],
   "source": [
    "removed_sk"
   ]
  },
  {
   "cell_type": "code",
   "execution_count": null,
   "metadata": {},
   "outputs": [],
   "source": [
    "nviz.plot_objects(curr_limb.mesh,\n",
    "                 skeletons=[curr_limb_sk_cleaned] + removed_sk,\n",
    "                 skeletons_colors=[\"black\",\"red\",\"red\"],\n",
    "                 #scatters=[k.reshape(-1,3) for k in removed_sk],\n",
    "                 #scatter_size=0.5\n",
    "                 )"
   ]
  },
  {
   "cell_type": "markdown",
   "metadata": {},
   "source": [
    "# how to figure out which of the branches still remain?"
   ]
  },
  {
   "cell_type": "code",
   "execution_count": null,
   "metadata": {},
   "outputs": [],
   "source": [
    "cleaned_branches = sk.decompose_skeleton_to_branches(curr_limb_sk_cleaned)\n",
    "original_branches = [k.skeleton for k in curr_limb]\n",
    "len(cleaned_branches),len(original_branches)"
   ]
  },
  {
   "cell_type": "code",
   "execution_count": null,
   "metadata": {},
   "outputs": [],
   "source": [
    "from tqdm_utils import tqdm\n",
    "from pykdtree.kdtree import KDTree\n",
    "\n",
    "def map_between_branches_lists(branches_1,branches_2):\n",
    "    \"\"\"\n",
    "    Purpose: \n",
    "    Will create a unique mapping of a branch\n",
    "    in the first list to the best fitting branch in the second\n",
    "    in terms of the most matching coordinates with a distance of 0\n",
    "    \n",
    "    Ex:\n",
    "    cleaned_branches = sk.decompose_skeleton_to_branches(curr_limb_sk_cleaned)\n",
    "    original_branches = [k.skeleton for k in curr_limb]\n",
    "    map_between_branches_lists(original_branches,cleaned_branches)\n",
    "    \"\"\"\n",
    "    old_to_new_branch_mapping = []\n",
    "\n",
    "    for o_br in tqdm(original_branches):\n",
    "        o_br_kd = KDTree(o_br.reshape(-1,3))\n",
    "\n",
    "        n_matches = [len(np.where(o_br_kd.query(c_br.reshape(-1,3))[0]==0)[0]) for c_br in cleaned_branches]\n",
    "        old_to_new_branch_mapping.append(np.argmax(n_matches))\n",
    "        \n",
    "    return np.array(old_to_new_branch_mapping)\n",
    "\n",
    "sk.map_between_branches_lists(original_branches,cleaned_branches)\n",
    "    "
   ]
  },
  {
   "cell_type": "code",
   "execution_count": null,
   "metadata": {},
   "outputs": [],
   "source": [
    "poisson_mesh = tu.poisson_surface_reconstruction(curr_branch.mesh)\n",
    "nviz.plot_objects(tu.split_significant_pieces(poisson_mesh)[0])"
   ]
  },
  {
   "cell_type": "code",
   "execution_count": null,
   "metadata": {},
   "outputs": [],
   "source": []
  },
  {
   "cell_type": "code",
   "execution_count": null,
   "metadata": {},
   "outputs": [],
   "source": [
    "curr_branch = neuron_obj[0][5]\n",
    "curr_branch.width_new"
   ]
  },
  {
   "cell_type": "code",
   "execution_count": null,
   "metadata": {},
   "outputs": [],
   "source": [
    "nviz.plot_limb_concept_network_2D(neuron_obj,\n",
    "                                 node_colors=ret_col)"
   ]
  },
  {
   "cell_type": "code",
   "execution_count": null,
   "metadata": {},
   "outputs": [],
   "source": []
  },
  {
   "cell_type": "markdown",
   "metadata": {},
   "source": [
    "# Split the Neuron"
   ]
  },
  {
   "cell_type": "code",
   "execution_count": null,
   "metadata": {},
   "outputs": [],
   "source": [
    "limb_results = pru.multi_soma_split_suggestions(neuron_obj,\n",
    "                                plot_suggestions=True)"
   ]
  },
  {
   "cell_type": "code",
   "execution_count": null,
   "metadata": {},
   "outputs": [],
   "source": [
    "limb_results"
   ]
  },
  {
   "cell_type": "code",
   "execution_count": null,
   "metadata": {},
   "outputs": [],
   "source": [
    "nviz.visualize_neuron(neuron_obj,\n",
    "                     limb_branch_dict=dict(),\n",
    "                     mesh_whole_neuron=True)"
   ]
  },
  {
   "cell_type": "code",
   "execution_count": null,
   "metadata": {},
   "outputs": [],
   "source": [
    "limb_results"
   ]
  },
  {
   "cell_type": "code",
   "execution_count": null,
   "metadata": {},
   "outputs": [],
   "source": [
    "nviz.plot_split_suggestions_per_limb(neuron_obj,\n",
    "                                    limb_results=limb_results,\n",
    "                                    scatter_size=0.7)"
   ]
  },
  {
   "cell_type": "code",
   "execution_count": null,
   "metadata": {},
   "outputs": [],
   "source": [
    "neuron_list = pru.split_neuron(neuron_obj,\n",
    "                plot_soma_limb_network=True,\n",
    "                 plot_seperated_neurons=True)"
   ]
  },
  {
   "cell_type": "code",
   "execution_count": null,
   "metadata": {},
   "outputs": [],
   "source": [
    "nviz.plot_soma_limb_concept_network(neuron_obj)"
   ]
  },
  {
   "cell_type": "code",
   "execution_count": null,
   "metadata": {},
   "outputs": [],
   "source": []
  }
 ],
 "metadata": {
  "kernelspec": {
   "display_name": "Python 3",
   "language": "python",
   "name": "python3"
  },
  "language_info": {
   "codemirror_mode": {
    "name": "ipython",
    "version": 3
   },
   "file_extension": ".py",
   "mimetype": "text/x-python",
   "name": "python",
   "nbconvert_exporter": "python",
   "pygments_lexer": "ipython3",
   "version": "3.6.9"
  }
 },
 "nbformat": 4,
 "nbformat_minor": 4
}
