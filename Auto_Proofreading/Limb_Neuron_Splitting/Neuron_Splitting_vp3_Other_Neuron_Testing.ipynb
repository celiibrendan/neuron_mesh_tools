{
 "cells": [
  {
   "cell_type": "code",
   "execution_count": null,
   "metadata": {},
   "outputs": [],
   "source": [
    "\"\"\"\n",
    "Purpose: To take in a whole neuron that could have any number of somas\n",
    "and then to split it into multiple neuron objects\n",
    "\n",
    "Pseudocode: \n",
    "1) Get all of the split suggestions\n",
    "2) Split all of the limbs that need splitting\n",
    "3) Once have split the limbs, split the neuron object into mutliple objects\n",
    "\n",
    "\n",
    "\"\"\""
   ]
  },
  {
   "cell_type": "code",
   "execution_count": 1,
   "metadata": {},
   "outputs": [],
   "source": [
    "%load_ext autoreload\n",
    "%autoreload 2"
   ]
  },
  {
   "cell_type": "code",
   "execution_count": 2,
   "metadata": {},
   "outputs": [],
   "source": [
    "from os import sys\n",
    "sys.path.append(\"/meshAfterParty/\")"
   ]
  },
  {
   "cell_type": "code",
   "execution_count": 32,
   "metadata": {},
   "outputs": [],
   "source": [
    "from importlib import reload\n",
    "\n",
    "import neuron_utils as nru\n",
    "\n",
    "import neuron\n",
    "\n",
    "import neuron_visualizations as nviz\n",
    "\n",
    "import time\n",
    "\n",
    "import datajoint_utils as du\n",
    "\n",
    "import numpy as np\n",
    "\n",
    "import system_utils as su"
   ]
  },
  {
   "cell_type": "code",
   "execution_count": 4,
   "metadata": {},
   "outputs": [
    {
     "name": "stderr",
     "output_type": "stream",
     "text": [
      "INFO - 2021-01-03 23:20:55,375 - settings - Setting enable_python_native_blobs to True\n",
      "INFO - 2021-01-03 23:20:55,615 - settings - Setting enable_python_native_blobs to True\n"
     ]
    }
   ],
   "source": [
    "minnie,schema = du.configure_minnie_vm()"
   ]
  },
  {
   "cell_type": "markdown",
   "metadata": {},
   "source": [
    "# Picking the Neuron"
   ]
  },
  {
   "cell_type": "code",
   "execution_count": 172,
   "metadata": {},
   "outputs": [
    {
     "data": {
      "text/html": [
       "\n",
       "        \n",
       "        <style type=\"text/css\">\n",
       "            .Relation{\n",
       "                border-collapse:collapse;\n",
       "            }\n",
       "            .Relation th{\n",
       "                background: #A0A0A0; color: #ffffff; padding:4px; border:#f0e0e0 1px solid;\n",
       "                font-weight: normal; font-family: monospace; font-size: 100%;\n",
       "            }\n",
       "            .Relation td{\n",
       "                padding:4px; border:#f0e0e0 1px solid; font-size:100%;\n",
       "            }\n",
       "            .Relation tr:nth-child(odd){\n",
       "                background: #ffffff;\n",
       "            }\n",
       "            .Relation tr:nth-child(even){\n",
       "                background: #f3f1ff;\n",
       "            }\n",
       "            /* Tooltip container */\n",
       "            .djtooltip {\n",
       "            }\n",
       "            /* Tooltip text */\n",
       "            .djtooltip .djtooltiptext {\n",
       "                visibility: hidden;\n",
       "                width: 120px;\n",
       "                background-color: black;\n",
       "                color: #fff;\n",
       "                text-align: center;\n",
       "                padding: 5px 0;\n",
       "                border-radius: 6px;\n",
       "                /* Position the tooltip text - see examples below! */\n",
       "                position: absolute;\n",
       "                z-index: 1;\n",
       "            }\n",
       "            #primary {\n",
       "                font-weight: bold;\n",
       "                color: black;\n",
       "            }\n",
       "\n",
       "            #nonprimary {\n",
       "                font-weight: normal;\n",
       "                color: white;\n",
       "            }\n",
       "\n",
       "            /* Show the tooltip text when you mouse over the tooltip container */\n",
       "            .djtooltip:hover .djtooltiptext {\n",
       "                visibility: visible;\n",
       "            }\n",
       "        </style>\n",
       "        \n",
       "        <b></b>\n",
       "            <div style=\"max-height:1000px;max-width:1500px;overflow:auto;\">\n",
       "            <table border=\"1\" class=\"Relation\">\n",
       "                <thead> <tr style=\"text-align: right;\"> <th> <div class=\"djtooltip\">\n",
       "                                <p id=\"primary\">segment_id</p>\n",
       "                                <span class=\"djtooltiptext\">segment id unique within each Segmentation</span>\n",
       "                            </div></th><th><div class=\"djtooltip\">\n",
       "                                <p id=\"primary\">decimation_version</p>\n",
       "                                <span class=\"djtooltiptext\"></span>\n",
       "                            </div></th><th><div class=\"djtooltip\">\n",
       "                                <p id=\"primary\">decimation_ratio</p>\n",
       "                                <span class=\"djtooltiptext\">ratio of remaining mesh vertices/faces (which ones depends on what metric the decimation technique uses)</span>\n",
       "                            </div></th><th><div class=\"djtooltip\">\n",
       "                                <p id=\"nonprimary\">decomposition</p>\n",
       "                                <span class=\"djtooltiptext\"></span>\n",
       "                            </div></th><th><div class=\"djtooltip\">\n",
       "                                <p id=\"nonprimary\">n_vertices</p>\n",
       "                                <span class=\"djtooltiptext\">number of vertices</span>\n",
       "                            </div></th><th><div class=\"djtooltip\">\n",
       "                                <p id=\"nonprimary\">n_faces</p>\n",
       "                                <span class=\"djtooltiptext\">number of faces</span>\n",
       "                            </div></th><th><div class=\"djtooltip\">\n",
       "                                <p id=\"nonprimary\">n_error_limbs</p>\n",
       "                                <span class=\"djtooltiptext\">the number of limbs that are touching multiple somas or 1 soma in multiple places</span>\n",
       "                            </div></th><th><div class=\"djtooltip\">\n",
       "                                <p id=\"nonprimary\">n_same_soma_multi_touching_limbs</p>\n",
       "                                <span class=\"djtooltiptext\">number of limbs that touch the same soma multiple times</span>\n",
       "                            </div></th><th><div class=\"djtooltip\">\n",
       "                                <p id=\"nonprimary\">n_multi_soma_touching_limbs</p>\n",
       "                                <span class=\"djtooltiptext\">number of limbs that touch multiple somas</span>\n",
       "                            </div></th><th><div class=\"djtooltip\">\n",
       "                                <p id=\"nonprimary\">n_somas</p>\n",
       "                                <span class=\"djtooltiptext\">number of soma meshes detected</span>\n",
       "                            </div></th><th><div class=\"djtooltip\">\n",
       "                                <p id=\"nonprimary\">n_limbs</p>\n",
       "                                <span class=\"djtooltiptext\"></span>\n",
       "                            </div></th><th><div class=\"djtooltip\">\n",
       "                                <p id=\"nonprimary\">n_branches</p>\n",
       "                                <span class=\"djtooltiptext\"></span>\n",
       "                            </div></th><th><div class=\"djtooltip\">\n",
       "                                <p id=\"nonprimary\">max_limb_n_branches</p>\n",
       "                                <span class=\"djtooltiptext\"></span>\n",
       "                            </div></th><th><div class=\"djtooltip\">\n",
       "                                <p id=\"nonprimary\">skeletal_length</p>\n",
       "                                <span class=\"djtooltiptext\"></span>\n",
       "                            </div></th><th><div class=\"djtooltip\">\n",
       "                                <p id=\"nonprimary\">max_limb_skeletal_length</p>\n",
       "                                <span class=\"djtooltiptext\"></span>\n",
       "                            </div></th><th><div class=\"djtooltip\">\n",
       "                                <p id=\"nonprimary\">median_branch_length</p>\n",
       "                                <span class=\"djtooltiptext\">gives information on average skeletal length to next branch point</span>\n",
       "                            </div></th><th><div class=\"djtooltip\">\n",
       "                                <p id=\"nonprimary\">width_median</p>\n",
       "                                <span class=\"djtooltiptext\">median width from mesh center without spines removed</span>\n",
       "                            </div></th><th><div class=\"djtooltip\">\n",
       "                                <p id=\"nonprimary\">width_no_spine_median</p>\n",
       "                                <span class=\"djtooltiptext\">median width from mesh center with spines removed</span>\n",
       "                            </div></th><th><div class=\"djtooltip\">\n",
       "                                <p id=\"nonprimary\">width_90_perc</p>\n",
       "                                <span class=\"djtooltiptext\">90th percentile for width without spines removed</span>\n",
       "                            </div></th><th><div class=\"djtooltip\">\n",
       "                                <p id=\"nonprimary\">width_no_spine_90_perc</p>\n",
       "                                <span class=\"djtooltiptext\">90th percentile for width with spines removed</span>\n",
       "                            </div></th><th><div class=\"djtooltip\">\n",
       "                                <p id=\"nonprimary\">n_spines</p>\n",
       "                                <span class=\"djtooltiptext\"></span>\n",
       "                            </div></th><th><div class=\"djtooltip\">\n",
       "                                <p id=\"nonprimary\">spine_density</p>\n",
       "                                <span class=\"djtooltiptext\">n_spines/ skeletal_length</span>\n",
       "                            </div></th><th><div class=\"djtooltip\">\n",
       "                                <p id=\"nonprimary\">spines_per_branch</p>\n",
       "                                <span class=\"djtooltiptext\"></span>\n",
       "                            </div></th><th><div class=\"djtooltip\">\n",
       "                                <p id=\"nonprimary\">skeletal_length_eligible</p>\n",
       "                                <span class=\"djtooltiptext\">the skeletal length for all branches searched for spines</span>\n",
       "                            </div></th><th><div class=\"djtooltip\">\n",
       "                                <p id=\"nonprimary\">n_spine_eligible_branches</p>\n",
       "                                <span class=\"djtooltiptext\">the number of branches that were checked for spines because passed width threshold</span>\n",
       "                            </div></th><th><div class=\"djtooltip\">\n",
       "                                <p id=\"nonprimary\">spine_density_eligible</p>\n",
       "                                <span class=\"djtooltiptext\">n_spines/skeletal_length_eligible</span>\n",
       "                            </div></th><th><div class=\"djtooltip\">\n",
       "                                <p id=\"nonprimary\">spines_per_branch_eligible</p>\n",
       "                                <span class=\"djtooltiptext\">n_spines/n_spine_eligible_branches</span>\n",
       "                            </div></th><th><div class=\"djtooltip\">\n",
       "                                <p id=\"nonprimary\">total_spine_volume</p>\n",
       "                                <span class=\"djtooltiptext\">the sum of all spine volume</span>\n",
       "                            </div></th><th><div class=\"djtooltip\">\n",
       "                                <p id=\"nonprimary\">spine_volume_median</p>\n",
       "                                <span class=\"djtooltiptext\">median of the spine volume for those spines with able to calculate volume</span>\n",
       "                            </div></th><th><div class=\"djtooltip\">\n",
       "                                <p id=\"nonprimary\">spine_volume_density</p>\n",
       "                                <span class=\"djtooltiptext\">total_spine_volume/skeletal_length</span>\n",
       "                            </div></th><th><div class=\"djtooltip\">\n",
       "                                <p id=\"nonprimary\">spine_volume_density_eligible</p>\n",
       "                                <span class=\"djtooltiptext\">total_spine_volume/skeletal_length_eligible</span>\n",
       "                            </div></th><th><div class=\"djtooltip\">\n",
       "                                <p id=\"nonprimary\">spine_volume_per_branch_eligible</p>\n",
       "                                <span class=\"djtooltiptext\">total_spine_volume/n_spine_eligible_branches</span>\n",
       "                            </div></th><th><div class=\"djtooltip\">\n",
       "                                <p id=\"nonprimary\">run_time</p>\n",
       "                                <span class=\"djtooltiptext\">the amount of time to run (seconds)</span>\n",
       "                            </div> </th> </tr> </thead>\n",
       "                <tbody> <tr> <td>864691135081644023</td>\n",
       "<td>0</td>\n",
       "<td>0.25</td>\n",
       "<td>=BLOB=</td>\n",
       "<td>853714</td>\n",
       "<td>1717788</td>\n",
       "<td>3</td>\n",
       "<td>2</td>\n",
       "<td>2</td>\n",
       "<td>2</td>\n",
       "<td>12</td>\n",
       "<td>274</td>\n",
       "<td>133</td>\n",
       "<td>9153647.235968873</td>\n",
       "<td>3241695.1367920083</td>\n",
       "<td>19845.782</td>\n",
       "<td>148.853</td>\n",
       "<td>147.244</td>\n",
       "<td>444.527</td>\n",
       "<td>417.096</td>\n",
       "<td>3462</td>\n",
       "<td>0.0003782098993717189</td>\n",
       "<td>12.635036496350365</td>\n",
       "<td>6075226.747</td>\n",
       "<td>137</td>\n",
       "<td>0.0005698552735845729</td>\n",
       "<td>25.27</td>\n",
       "<td>247942694346.279</td>\n",
       "<td>43604637.473335266</td>\n",
       "<td>27086.765302905555</td>\n",
       "<td>40812.088942806164</td>\n",
       "<td>1809800688.6589708</td>\n",
       "<td>3245.9033</td></tr><tr><td>864691135269718693</td>\n",
       "<td>0</td>\n",
       "<td>0.25</td>\n",
       "<td>=BLOB=</td>\n",
       "<td>1182832</td>\n",
       "<td>2399429</td>\n",
       "<td>5</td>\n",
       "<td>4</td>\n",
       "<td>1</td>\n",
       "<td>2</td>\n",
       "<td>19</td>\n",
       "<td>397</td>\n",
       "<td>137</td>\n",
       "<td>10407459.124297608</td>\n",
       "<td>3856704.1972677987</td>\n",
       "<td>13244.755</td>\n",
       "<td>129.46</td>\n",
       "<td>129.46</td>\n",
       "<td>599.187</td>\n",
       "<td>583.497</td>\n",
       "<td>3033</td>\n",
       "<td>0.0002914255981000257</td>\n",
       "<td>7.6397984886649875</td>\n",
       "<td>6526212.816</td>\n",
       "<td>184</td>\n",
       "<td>0.00046474120374440455</td>\n",
       "<td>16.484</td>\n",
       "<td>132060363163.22937</td>\n",
       "<td>27028301.798009235</td>\n",
       "<td>12689.010985872312</td>\n",
       "<td>20235.374923640764</td>\n",
       "<td>717719365.017551</td>\n",
       "<td>5913.3317</td></tr><tr><td>864691135307114822</td>\n",
       "<td>0</td>\n",
       "<td>0.25</td>\n",
       "<td>=BLOB=</td>\n",
       "<td>1206734</td>\n",
       "<td>2471803</td>\n",
       "<td>4</td>\n",
       "<td>4</td>\n",
       "<td>1</td>\n",
       "<td>2</td>\n",
       "<td>9</td>\n",
       "<td>444</td>\n",
       "<td>131</td>\n",
       "<td>13569727.507996578</td>\n",
       "<td>3796699.9968538154</td>\n",
       "<td>17976.693</td>\n",
       "<td>106.656</td>\n",
       "<td>106.656</td>\n",
       "<td>444.295</td>\n",
       "<td>365.512</td>\n",
       "<td>4965</td>\n",
       "<td>0.00036588796621554476</td>\n",
       "<td>11.182432432432432</td>\n",
       "<td>7454589.124</td>\n",
       "<td>213</td>\n",
       "<td>0.0006660326836814139</td>\n",
       "<td>23.31</td>\n",
       "<td>202705476814.51703</td>\n",
       "<td>15992281.517499287</td>\n",
       "<td>14938.065388200583</td>\n",
       "<td>27192.038815648215</td>\n",
       "<td>951668905.2324743</td>\n",
       "<td>4548.8046</td></tr><tr><td>864691135334512105</td>\n",
       "<td>0</td>\n",
       "<td>0.25</td>\n",
       "<td>=BLOB=</td>\n",
       "<td>1284668</td>\n",
       "<td>2592422</td>\n",
       "<td>3</td>\n",
       "<td>2</td>\n",
       "<td>2</td>\n",
       "<td>2</td>\n",
       "<td>14</td>\n",
       "<td>390</td>\n",
       "<td>135</td>\n",
       "<td>12118342.18634784</td>\n",
       "<td>4130159.9831832303</td>\n",
       "<td>17029.776</td>\n",
       "<td>179.18</td>\n",
       "<td>178.75</td>\n",
       "<td>511.307</td>\n",
       "<td>438.91</td>\n",
       "<td>5564</td>\n",
       "<td>0.0004591387101008119</td>\n",
       "<td>14.266666666666667</td>\n",
       "<td>7902876.052</td>\n",
       "<td>204</td>\n",
       "<td>0.0007040474839020036</td>\n",
       "<td>27.275</td>\n",
       "<td>365063326308.1942</td>\n",
       "<td>38873395.731487274</td>\n",
       "<td>30124.857071577295</td>\n",
       "<td>46193.730473073374</td>\n",
       "<td>1789526109.3538933</td>\n",
       "<td>5440.6827</td></tr><tr><td>864691135337716966</td>\n",
       "<td>0</td>\n",
       "<td>0.25</td>\n",
       "<td>=BLOB=</td>\n",
       "<td>901090</td>\n",
       "<td>1830584</td>\n",
       "<td>4</td>\n",
       "<td>2</td>\n",
       "<td>2</td>\n",
       "<td>2</td>\n",
       "<td>16</td>\n",
       "<td>322</td>\n",
       "<td>100</td>\n",
       "<td>10373163.969724864</td>\n",
       "<td>2639103.963311551</td>\n",
       "<td>16708.922</td>\n",
       "<td>116.589</td>\n",
       "<td>116.589</td>\n",
       "<td>459.545</td>\n",
       "<td>418.926</td>\n",
       "<td>3171</td>\n",
       "<td>0.0003056926516591164</td>\n",
       "<td>9.847826086956522</td>\n",
       "<td>6575944.137</td>\n",
       "<td>151</td>\n",
       "<td>0.0004822121255802876</td>\n",
       "<td>21.0</td>\n",
       "<td>160615334468.71616</td>\n",
       "<td>31605330.430010475</td>\n",
       "<td>15483.736200207417</td>\n",
       "<td>24424.680490365325</td>\n",
       "<td>1063677711.7133521</td>\n",
       "<td>3769.0997</td></tr><tr><td>864691135385256533</td>\n",
       "<td>0</td>\n",
       "<td>0.25</td>\n",
       "<td>=BLOB=</td>\n",
       "<td>1026242</td>\n",
       "<td>2084571</td>\n",
       "<td>3</td>\n",
       "<td>2</td>\n",
       "<td>1</td>\n",
       "<td>2</td>\n",
       "<td>14</td>\n",
       "<td>335</td>\n",
       "<td>98</td>\n",
       "<td>9823640.051968744</td>\n",
       "<td>2994725.227375103</td>\n",
       "<td>17055.651</td>\n",
       "<td>194.111</td>\n",
       "<td>191.0</td>\n",
       "<td>491.096</td>\n",
       "<td>394.241</td>\n",
       "<td>4901</td>\n",
       "<td>0.0004988985726342647</td>\n",
       "<td>14.629850746268657</td>\n",
       "<td>7183900.555</td>\n",
       "<td>195</td>\n",
       "<td>0.0006822199113807193</td>\n",
       "<td>25.133</td>\n",
       "<td>292604904227.00366</td>\n",
       "<td>35944362.30916786</td>\n",
       "<td>29785.792504517005</td>\n",
       "<td>40730.64514003475</td>\n",
       "<td>1500537970.3948905</td>\n",
       "<td>4003.6034</td></tr><tr><td>864691135758516046</td>\n",
       "<td>0</td>\n",
       "<td>0.25</td>\n",
       "<td>=BLOB=</td>\n",
       "<td>1389966</td>\n",
       "<td>2818295</td>\n",
       "<td>3</td>\n",
       "<td>2</td>\n",
       "<td>1</td>\n",
       "<td>2</td>\n",
       "<td>11</td>\n",
       "<td>388</td>\n",
       "<td>127</td>\n",
       "<td>12034808.273364484</td>\n",
       "<td>3767464.6397259166</td>\n",
       "<td>18770.024</td>\n",
       "<td>318.836</td>\n",
       "<td>274.846</td>\n",
       "<td>500.967</td>\n",
       "<td>461.257</td>\n",
       "<td>6919</td>\n",
       "<td>0.0005749156814831173</td>\n",
       "<td>17.832474226804123</td>\n",
       "<td>10394277.563</td>\n",
       "<td>290</td>\n",
       "<td>0.0006656547276194765</td>\n",
       "<td>23.859</td>\n",
       "<td>309593658488.9605</td>\n",
       "<td>20307542.71816506</td>\n",
       "<td>25724.85173479292</td>\n",
       "<td>29785.009743342423</td>\n",
       "<td>1067564339.6171052</td>\n",
       "<td>6119.5556</td></tr><tr><td>864691135939325185</td>\n",
       "<td>0</td>\n",
       "<td>0.25</td>\n",
       "<td>=BLOB=</td>\n",
       "<td>1929043</td>\n",
       "<td>3904396</td>\n",
       "<td>3</td>\n",
       "<td>3</td>\n",
       "<td>1</td>\n",
       "<td>2</td>\n",
       "<td>10</td>\n",
       "<td>614</td>\n",
       "<td>366</td>\n",
       "<td>17381658.970167365</td>\n",
       "<td>9919435.711672356</td>\n",
       "<td>14144.245</td>\n",
       "<td>171.089</td>\n",
       "<td>171.089</td>\n",
       "<td>520.201</td>\n",
       "<td>483.711</td>\n",
       "<td>7547</td>\n",
       "<td>0.0004341933076096551</td>\n",
       "<td>12.291530944625407</td>\n",
       "<td>13183136.687</td>\n",
       "<td>318</td>\n",
       "<td>0.0005724737730620785</td>\n",
       "<td>23.733</td>\n",
       "<td>337267859148.1704</td>\n",
       "<td>23019252.81318283</td>\n",
       "<td>19403.66335152662</td>\n",
       "<td>25583.278635103055</td>\n",
       "<td>1060590752.0382718</td>\n",
       "<td>11339.6883</td></tr><tr><td>864691136422852911</td>\n",
       "<td>0</td>\n",
       "<td>0.25</td>\n",
       "<td>=BLOB=</td>\n",
       "<td>786166</td>\n",
       "<td>1630259</td>\n",
       "<td>3</td>\n",
       "<td>2</td>\n",
       "<td>2</td>\n",
       "<td>2</td>\n",
       "<td>12</td>\n",
       "<td>324</td>\n",
       "<td>120</td>\n",
       "<td>9264054.425644975</td>\n",
       "<td>2965830.825182588</td>\n",
       "<td>15813.201</td>\n",
       "<td>98.157</td>\n",
       "<td>98.157</td>\n",
       "<td>392.686</td>\n",
       "<td>335.151</td>\n",
       "<td>3356</td>\n",
       "<td>0.0003622603933230186</td>\n",
       "<td>10.358024691358025</td>\n",
       "<td>5453644.051</td>\n",
       "<td>137</td>\n",
       "<td>0.0006153683607907325</td>\n",
       "<td>24.496</td>\n",
       "<td>188160042759.89798</td>\n",
       "<td>33025292.347836412</td>\n",
       "<td>20310.766119748703</td>\n",
       "<td>34501.709499246885</td>\n",
       "<td>1373430969.0503502</td>\n",
       "<td>2605.5783</td></tr><tr><td>864691136908675694</td>\n",
       "<td>0</td>\n",
       "<td>0.25</td>\n",
       "<td>=BLOB=</td>\n",
       "<td>427411</td>\n",
       "<td>852486</td>\n",
       "<td>3</td>\n",
       "<td>2</td>\n",
       "<td>1</td>\n",
       "<td>2</td>\n",
       "<td>9</td>\n",
       "<td>207</td>\n",
       "<td>85</td>\n",
       "<td>5269326.357139702</td>\n",
       "<td>2292982.1481972276</td>\n",
       "<td>15847.168</td>\n",
       "<td>143.908</td>\n",
       "<td>143.908</td>\n",
       "<td>394.905</td>\n",
       "<td>382.033</td>\n",
       "<td>891</td>\n",
       "<td>0.0001690918230549024</td>\n",
       "<td>4.304347826086956</td>\n",
       "<td>3140598.706</td>\n",
       "<td>105</td>\n",
       "<td>0.0002837038677681987</td>\n",
       "<td>8.486</td>\n",
       "<td>60871500463.24871</td>\n",
       "<td>46176382.081661224</td>\n",
       "<td>11552.04599934687</td>\n",
       "<td>19382.132568212524</td>\n",
       "<td>579728575.8404639</td>\n",
       "<td>1469.5107</td> </tr> </tbody>\n",
       "            </table>\n",
       "            \n",
       "            <p>Total: 10</p></div>\n",
       "            "
      ],
      "text/plain": [
       "*segment_id    *decimation_ve *decimation_ra decomposit n_vertices     n_faces     n_error_limbs  n_same_soma_mu n_multi_soma_t n_somas     n_limbs     n_branches     max_limb_n_bra skeletal_lengt max_limb_skele median_branch_ width_median   width_no_spine width_90_perc  width_no_spine n_spines     spine_density  spines_per_bra skeletal_lengt n_spine_eligib spine_density_ spines_per_bra total_spine_vo spine_volume_m spine_volume_d spine_volume_d spine_volume_p run_time      \n",
       "+------------+ +------------+ +------------+ +--------+ +------------+ +---------+ +------------+ +------------+ +------------+ +---------+ +---------+ +------------+ +------------+ +------------+ +------------+ +------------+ +------------+ +------------+ +------------+ +------------+ +----------+ +------------+ +------------+ +------------+ +------------+ +------------+ +------------+ +------------+ +------------+ +------------+ +------------+ +------------+ +------------+\n",
       "86469113508164 0              0.25           =BLOB=     853714         1717788     3              2              2              2           12          274            133            9153647.235968 3241695.136792 19845.782      148.853        147.244        444.527        417.096        3462         0.000378209899 12.63503649635 6075226.747    137            0.000569855273 25.27          247942694346.2 43604637.47333 27086.76530290 40812.08894280 1809800688.658 3245.9033     \n",
       "86469113526971 0              0.25           =BLOB=     1182832        2399429     5              4              1              2           19          397            137            10407459.12429 3856704.197267 13244.755      129.46         129.46         599.187        583.497        3033         0.000291425598 7.639798488664 6526212.816    184            0.000464741203 16.484         132060363163.2 27028301.79800 12689.01098587 20235.37492364 717719365.0175 5913.3317     \n",
       "86469113530711 0              0.25           =BLOB=     1206734        2471803     4              4              1              2           9           444            131            13569727.50799 3796699.996853 17976.693      106.656        106.656        444.295        365.512        4965         0.000365887966 11.18243243243 7454589.124    213            0.000666032683 23.31          202705476814.5 15992281.51749 14938.06538820 27192.03881564 951668905.2324 4548.8046     \n",
       "86469113533451 0              0.25           =BLOB=     1284668        2592422     3              2              2              2           14          390            135            12118342.18634 4130159.983183 17029.776      179.18         178.75         511.307        438.91         5564         0.000459138710 14.26666666666 7902876.052    204            0.000704047483 27.275         365063326308.1 38873395.73148 30124.85707157 46193.73047307 1789526109.353 5440.6827     \n",
       "86469113533771 0              0.25           =BLOB=     901090         1830584     4              2              2              2           16          322            100            10373163.96972 2639103.963311 16708.922      116.589        116.589        459.545        418.926        3171         0.000305692651 9.847826086956 6575944.137    151            0.000482212125 21.0           160615334468.7 31605330.43001 15483.73620020 24424.68049036 1063677711.713 3769.0997     \n",
       "86469113538525 0              0.25           =BLOB=     1026242        2084571     3              2              1              2           14          335            98             9823640.051968 2994725.227375 17055.651      194.111        191.0          491.096        394.241        4901         0.000498898572 14.62985074626 7183900.555    195            0.000682219911 25.133         292604904227.0 35944362.30916 29785.79250451 40730.64514003 1500537970.394 4003.6034     \n",
       "86469113575851 0              0.25           =BLOB=     1389966        2818295     3              2              1              2           11          388            127            12034808.27336 3767464.639725 18770.024      318.836        274.846        500.967        461.257        6919         0.000574915681 17.83247422680 10394277.563   290            0.000665654727 23.859         309593658488.9 20307542.71816 25724.85173479 29785.00974334 1067564339.617 6119.5556     \n",
       "86469113593932 0              0.25           =BLOB=     1929043        3904396     3              3              1              2           10          614            366            17381658.97016 9919435.711672 14144.245      171.089        171.089        520.201        483.711        7547         0.000434193307 12.29153094462 13183136.687   318            0.000572473773 23.733         337267859148.1 23019252.81318 19403.66335152 25583.27863510 1060590752.038 11339.6883    \n",
       "86469113642285 0              0.25           =BLOB=     786166         1630259     3              2              2              2           12          324            120            9264054.425644 2965830.825182 15813.201      98.157         98.157         392.686        335.151        3356         0.000362260393 10.35802469135 5453644.051    137            0.000615368360 24.496         188160042759.8 33025292.34783 20310.76611974 34501.70949924 1373430969.050 2605.5783     \n",
       "86469113690867 0              0.25           =BLOB=     427411         852486      3              2              1              2           9           207            85             5269326.357139 2292982.148197 15847.168      143.908        143.908        394.905        382.033        891          0.000169091823 4.304347826086 3140598.706    105            0.000283703867 8.486          60871500463.24 46176382.08166 11552.04599934 19382.13256821 579728575.8404 1469.5107     \n",
       " (Total: 10)"
      ]
     },
     "execution_count": 172,
     "metadata": {},
     "output_type": "execute_result"
    }
   ],
   "source": [
    "minnie.Decomposition() & \"n_error_limbs>2\""
   ]
  },
  {
   "cell_type": "code",
   "execution_count": 249,
   "metadata": {},
   "outputs": [],
   "source": [
    "segment_id = 864691135269718693 \n",
    "segment_id = 864691135939325185"
   ]
  },
  {
   "cell_type": "code",
   "execution_count": 250,
   "metadata": {},
   "outputs": [
    {
     "name": "stdout",
     "output_type": "stream",
     "text": [
      "Decompressing Neuron in minimal output mode...please wait\n"
     ]
    },
    {
     "data": {
      "text/plain": [
       "<neuron.Neuron at 0x7f663aeec748>"
      ]
     },
     "execution_count": 250,
     "metadata": {},
     "output_type": "execute_result"
    }
   ],
   "source": [
    "neuron = reload(neuron)\n",
    "neuron_obj = (minnie.Decomposition & dict(segment_id=segment_id)).fetch1(\"decomposition\")\n",
    "neuron_obj"
   ]
  },
  {
   "cell_type": "markdown",
   "metadata": {},
   "source": [
    "# Using a previously processed Neuron"
   ]
  },
  {
   "cell_type": "code",
   "execution_count": 20,
   "metadata": {},
   "outputs": [],
   "source": [
    "# file_loc = \"/notebooks/test_neurons/Segmentation_3/Multi_Soma/864691135207768697_0_25\"\n",
    "# neuron_obj = nru.decompress_neuron(file_loc,file_loc)"
   ]
  },
  {
   "cell_type": "markdown",
   "metadata": {},
   "source": [
    "# Visualizing the Neuron"
   ]
  },
  {
   "cell_type": "code",
   "execution_count": 175,
   "metadata": {
    "scrolled": false
   },
   "outputs": [
    {
     "name": "stdout",
     "output_type": "stream",
     "text": [
      "\n",
      " Working on visualization type: mesh\n",
      "\n",
      " Working on visualization type: skeleton\n"
     ]
    },
    {
     "data": {
      "application/vnd.jupyter.widget-view+json": {
       "model_id": "85c542b2d019429882d484cbe9defa01",
       "version_major": 2,
       "version_minor": 0
      },
      "text/plain": [
       "VBox(children=(Figure(camera=PerspectiveCamera(fov=46.0, position=(0.0, 0.0, 2.0), quaternion=(0.0, 0.0, 0.0, …"
      ]
     },
     "metadata": {},
     "output_type": "display_data"
    }
   ],
   "source": [
    "nviz.visualize_neuron(neuron_obj,\n",
    "                     visualize_type=[\"mesh\",\"skeleton\"],\n",
    "                     limb_branch_dict=\"all\",\n",
    "                     mesh_whole_neuron=False)"
   ]
  },
  {
   "cell_type": "code",
   "execution_count": 245,
   "metadata": {},
   "outputs": [
    {
     "name": "stdout",
     "output_type": "stream",
     "text": [
      "\n",
      " Working on visualization type: mesh\n",
      "\n",
      " Working on visualization type: skeleton\n"
     ]
    },
    {
     "data": {
      "application/vnd.jupyter.widget-view+json": {
       "model_id": "0f6ada440eb64a57977620b4b10ebdbf",
       "version_major": 2,
       "version_minor": 0
      },
      "text/plain": [
       "VBox(children=(Figure(camera=PerspectiveCamera(fov=46.0, position=(0.0, 0.0, 2.0), quaternion=(0.0, 0.0, 0.0, …"
      ]
     },
     "metadata": {},
     "output_type": "display_data"
    }
   ],
   "source": [
    "nviz.visualize_neuron(neuron_obj,\n",
    "                     visualize_type=[\"mesh\",\"skeleton\"],\n",
    "                     limb_branch_dict=dict(),\n",
    "                     mesh_whole_neuron=True)"
   ]
  },
  {
   "cell_type": "markdown",
   "metadata": {},
   "source": [
    "# Preview of How th Neuron Will Need to be Split"
   ]
  },
  {
   "cell_type": "code",
   "execution_count": 224,
   "metadata": {},
   "outputs": [
    {
     "data": {
      "image/png": "[encoded data removed]",
      "text/plain": [
       "<Figure size 432x288 with 1 Axes>"
      ]
     },
     "metadata": {},
     "output_type": "display_data"
    }
   ],
   "source": [
    "nviz.plot_soma_limb_concept_network(neuron_obj)"
   ]
  },
  {
   "cell_type": "code",
   "execution_count": 178,
   "metadata": {},
   "outputs": [
    {
     "data": {
      "text/plain": [
       "array([ 2, 10, 13, 18])"
      ]
     },
     "execution_count": 178,
     "metadata": {},
     "output_type": "execute_result"
    }
   ],
   "source": [
    "neuron_obj.same_soma_multi_touching_limbs"
   ]
  },
  {
   "cell_type": "code",
   "execution_count": 179,
   "metadata": {},
   "outputs": [
    {
     "data": {
      "text/plain": [
       "array([ 1,  2, 10, 13, 18])"
      ]
     },
     "execution_count": 179,
     "metadata": {},
     "output_type": "execute_result"
    }
   ],
   "source": [
    "total_limbs_to_process = nru.error_limbs(neuron_obj)\n",
    "total_limbs_to_process"
   ]
  },
  {
   "cell_type": "markdown",
   "metadata": {},
   "source": [
    "# Getting the Split Suggestions"
   ]
  },
  {
   "cell_type": "code",
   "execution_count": 225,
   "metadata": {},
   "outputs": [
    {
     "name": "stdout",
     "output_type": "stream",
     "text": [
      "Recieved another instance of Neuron class in init -- so just copying data\n"
     ]
    }
   ],
   "source": [
    "neuron_obj = neuron.Neuron(neuron_obj)"
   ]
  },
  {
   "cell_type": "code",
   "execution_count": 238,
   "metadata": {},
   "outputs": [
    {
     "data": {
      "text/plain": [
       "1"
      ]
     },
     "execution_count": 238,
     "metadata": {},
     "output_type": "execute_result"
    }
   ],
   "source": [
    "import networkx as nx\n",
    "nx.number_connected_components(neuron_obj[1].concept_network)"
   ]
  },
  {
   "cell_type": "code",
   "execution_count": 248,
   "metadata": {},
   "outputs": [
    {
     "name": "stdout",
     "output_type": "stream",
     "text": [
      "\n",
      " Working on visualization type: mesh\n",
      "\n",
      " Working on visualization type: skeleton\n"
     ]
    },
    {
     "data": {
      "application/vnd.jupyter.widget-view+json": {
       "model_id": "be1a5c28ab664dca9c8064e3e528bc74",
       "version_major": 2,
       "version_minor": 0
      },
      "text/plain": [
       "VBox(children=(Figure(camera=PerspectiveCamera(fov=46.0, position=(0.0, 0.0, 2.0), quaternion=(0.0, 0.0, 0.0, …"
      ]
     },
     "metadata": {},
     "output_type": "display_data"
    }
   ],
   "source": [
    "nviz.visualize_neuron(neuron_obj,\n",
    "                     visualize_type=[\"mesh\",\"skeleton\"],\n",
    "                     limb_branch_dict=dict(L1=[5, 7, 11]))"
   ]
  },
  {
   "cell_type": "code",
   "execution_count": 247,
   "metadata": {},
   "outputs": [
    {
     "data": {
      "application/vnd.jupyter.widget-view+json": {
       "model_id": "51384c557b7548aa8d7d084fcd5806f0",
       "version_major": 2,
       "version_minor": 0
      },
      "text/plain": [
       "VBox(children=(Figure(camera=PerspectiveCamera(fov=46.0, position=(0.0, 0.0, 2.0), quaternion=(0.0, 0.0, 0.0, …"
      ]
     },
     "metadata": {},
     "output_type": "display_data"
    }
   ],
   "source": [
    "nviz.plot_objects(neuron_obj[1][].mesh)"
   ]
  },
  {
   "cell_type": "code",
   "execution_count": 237,
   "metadata": {
    "scrolled": true
   },
   "outputs": [
    {
     "name": "stdout",
     "output_type": "stream",
     "text": [
      "multi_soma_limbs = [1]\n",
      "multi_touch_limbs = [ 2 10 13 18]\n",
      "\n",
      "\n",
      " -------- Working on limb 1------------\n",
      "Starting combinations to process = [(5, 48)]\n",
      "\n",
      "\n",
      "---- working on disconnecting 5 and 48\n",
      "---- This disconnects S0_0 from S1_0  \n",
      " Cut iteration 0\n",
      "Shortest path = [5, 7, 11, 48]\n",
      "\n",
      " --------- START OF GET BEST EDGE --------- \n",
      "Short segments to combine = []\n",
      "Found 1 high degree coordinates to cut\n",
      "Picking [871224. 833182. 653207.] high degree coordinates to cut\n",
      "coordinate_branches = [5, 7, 8, 9]\n",
      "5 = red\n",
      "7 = aqua\n",
      "8 = purple\n",
      "9 = green\n"
     ]
    },
    {
     "data": {
      "application/vnd.jupyter.widget-view+json": {
       "model_id": "7ca05d0af90f46f8a884540e1c86b44b",
       "version_major": 2,
       "version_minor": 0
      },
      "text/plain": [
       "VBox(children=(Figure(camera=PerspectiveCamera(fov=46.0, position=(0.0, 0.0, 2.0), quaternion=(0.0, 0.0, 0.0, …"
      ]
     },
     "metadata": {},
     "output_type": "display_data"
    },
    {
     "name": "stdout",
     "output_type": "stream",
     "text": [
      "Angle between 5 and 7 = 14.18 \n",
      "Angle between 5 and 8 = 28.17 \n",
      "Angle between 5 and 9 = 91.42 \n",
      "Angle between 7 and 8 = 137.7 \n",
      "Angle between 7 and 9 = 75.14 \n",
      "Angle between 8 and 9 = 116.08 \n",
      "Final Matches = [[5, 7], [5, 8]]\n",
      "matched_branches_revised = [[5, 7]]\n",
      "Aligned Skeleton Parts\n"
     ]
    },
    {
     "data": {
      "application/vnd.jupyter.widget-view+json": {
       "model_id": "c72328dd972c43b4b0e74a97b7e57969",
       "version_major": 2,
       "version_minor": 0
      },
      "text/plain": [
       "VBox(children=(Figure(camera=PerspectiveCamera(fov=46.0, position=(0.0, 0.0, 2.0), quaternion=(0.0, 0.0, 0.0, …"
      ]
     },
     "metadata": {},
     "output_type": "display_data"
    },
    {
     "data": {
      "application/vnd.jupyter.widget-view+json": {
       "model_id": "d9c7ff5dd08e443f9b84fe1cdbc29203",
       "version_major": 2,
       "version_minor": 0
      },
      "text/plain": [
       "VBox(children=(Figure(camera=PerspectiveCamera(fov=46.0, position=(0.0, 0.0, 2.0), quaternion=(0.0, 0.0, 0.0, …"
      ]
     },
     "metadata": {},
     "output_type": "display_data"
    },
    {
     "name": "stdout",
     "output_type": "stream",
     "text": [
      "Original graph\n"
     ]
    },
    {
     "data": {
      "image/png": "[encoded data removed]",
      "text/plain": [
       "<Figure size 432x288 with 1 Axes>"
      ]
     },
     "metadata": {},
     "output_type": "display_data"
    },
    {
     "name": "stdout",
     "output_type": "stream",
     "text": [
      "edges_to_delete (resolve crossover) = [array([5, 8]), array([5, 9])]\n",
      "edges_to_create (resolve crossover) = []\n",
      "Skipping endnode 48 because skeletal distance was 333.01628065675976 and threshold was 2500\n",
      "skip_nodes = [48]\n",
      "edges_to_delete (cut_limb_network) = [array([5, 8]), array([5, 9])]\n",
      "edges_to_create = []\n",
      "Number of connected components = 3\n",
      "Comp 0 = {1, 2, 3, 4, 5, 6, 7, 10, 11, 12, 13, 14, 15, 16, 19, 20, 48, 49, 52, 53, 54, 55, 56, 57, 58, 59, 60, 61, 62, 63, 64, 65, 66, 67, 68, 69, 70, 71, 72, 73, 74, 75, 76, 77, 78, 79, 80, 81, 82, 83, 84, 85, 86, 87, 88, 89, 90, 91, 92, 93, 94, 95, 96, 97, 98, 99, 100, 101, 102, 103, 104, 105, 106, 107, 108, 109, 110, 111, 112, 113, 114, 115, 116, 117, 118, 119, 120, 121, 122, 123, 124, 125, 126, 127, 128.0, 129, 130, 131, 132, 133, 134, 135, 136}\n",
      "Comp 1 = {0, 8, 43, 44, 47, 50, 51, 21, 22, 23, 24, 30}\n",
      "Comp 2 = {9, 17, 18, 25, 26, 27, 28, 29, 31, 32, 33, 34, 35, 36, 37, 38, 39, 40, 41, 42, 45, 46}\n",
      "After get best cut: cut_edges = [array([5, 8]), array([5, 9])], added_edges = []\n",
      "-----------counter = 0------------\n",
      " Cut iteration 1\n",
      "Shortest path = [5, 7, 11, 48]\n",
      "\n",
      " --------- START OF GET BEST EDGE --------- \n",
      "Short segments to combine = []\n",
      "Found 1 high degree coordinates to cut\n",
      "Picking [871224. 833182. 653207.] high degree coordinates to cut\n",
      "coordinate_branches = [5, 7, 8, 9]\n",
      "5 = red\n",
      "7 = aqua\n",
      "8 = purple\n",
      "9 = green\n"
     ]
    },
    {
     "data": {
      "application/vnd.jupyter.widget-view+json": {
       "model_id": "d2c0aaf5091a4ef4be27a02f50cde1a4",
       "version_major": 2,
       "version_minor": 0
      },
      "text/plain": [
       "VBox(children=(Figure(camera=PerspectiveCamera(fov=46.0, position=(0.0, 0.0, 2.0), quaternion=(0.0, 0.0, 0.0, …"
      ]
     },
     "metadata": {},
     "output_type": "display_data"
    },
    {
     "name": "stdout",
     "output_type": "stream",
     "text": [
      "Angle between 5 and 7 = 14.18 \n",
      "Angle between 5 and 8 = 28.17 \n",
      "Angle between 5 and 9 = 91.42 \n",
      "Angle between 7 and 8 = 137.7 \n",
      "Angle between 7 and 9 = 75.14 \n",
      "Angle between 8 and 9 = 116.08 \n",
      "Final Matches = [[5, 7], [5, 8]]\n",
      "matched_branches_revised = [[5, 7]]\n",
      "Aligned Skeleton Parts\n"
     ]
    },
    {
     "data": {
      "application/vnd.jupyter.widget-view+json": {
       "model_id": "e252ceeebe7b459081ae4416e7007050",
       "version_major": 2,
       "version_minor": 0
      },
      "text/plain": [
       "VBox(children=(Figure(camera=PerspectiveCamera(fov=46.0, position=(0.0, 0.0, 2.0), quaternion=(0.0, 0.0, 0.0, …"
      ]
     },
     "metadata": {},
     "output_type": "display_data"
    },
    {
     "data": {
      "application/vnd.jupyter.widget-view+json": {
       "model_id": "757d89256d1b4dc28b07b8ca84346e1f",
       "version_major": 2,
       "version_minor": 0
      },
      "text/plain": [
       "VBox(children=(Figure(camera=PerspectiveCamera(fov=46.0, position=(0.0, 0.0, 2.0), quaternion=(0.0, 0.0, 0.0, …"
      ]
     },
     "metadata": {},
     "output_type": "display_data"
    },
    {
     "name": "stdout",
     "output_type": "stream",
     "text": [
      "Original graph\n"
     ]
    },
    {
     "data": {
      "image/png": "[encoded data removed]",
      "text/plain": [
       "<Figure size 432x288 with 1 Axes>"
      ]
     },
     "metadata": {},
     "output_type": "display_data"
    },
    {
     "name": "stdout",
     "output_type": "stream",
     "text": [
      "edges_to_delete (resolve crossover) = []\n",
      "edges_to_create (resolve crossover) = []\n",
      "Skipping endnode 48 because skeletal distance was 333.01628065675976 and threshold was 2500\n",
      "skip_nodes = [48]\n",
      "\n",
      "Attempting the doubling back check (symmetrical so don't need to check from both sides)\n",
      "  Edge: [5 7]: curr_angle = 14.56\n",
      "  Edge: [ 7 11]: curr_angle = 27.35\n",
      "Total time for doubling_back = 0.3510103225708008\n",
      "\n",
      "Attempting the width jump check (attempting from both sides)\n",
      "  Edge: [5 7]: jump = -41.91\n",
      "  Edge: [ 7 11]: jump = -12.07\n",
      "Total time for width = 0.35141634941101074\n",
      "Path starting at 5 had err_edges: []\n",
      "  Edge: [11  7]: jump = 12.07\n",
      "  Edge: [7 5]: jump = 41.91\n",
      "Total time for width = 0.3511230945587158\n",
      "Path starting at 48 had err_edges: []\n",
      "Did not find an error edge in either of the paths\n",
      "Number of connected components = 1\n",
      "Comp 0 = {0, 1, 2, 3, 4, 5, 6, 7, 8, 9, 10, 11, 12, 13, 14, 15, 16, 17, 18, 19, 20, 21, 22, 23, 24, 25, 26, 27, 28, 29, 30, 31, 32, 33, 34, 35, 36, 37, 38, 39, 40, 41, 42, 43, 44, 45, 46, 47, 48, 49, 50, 51, 52, 53, 54, 55, 56, 57, 58, 59, 60, 61, 62, 63, 64, 65, 66, 67, 68, 69, 70, 71, 72, 73, 74, 75, 76, 77, 78, 79, 80, 81, 82, 83, 84, 85, 86, 87, 88, 89, 90, 91, 92, 93, 94, 95, 96, 97, 98, 99, 100, 101, 102, 103, 104, 105, 106, 107, 108, 109, 110, 111, 112, 113, 114, 115, 116, 117, 118, 119, 120, 121, 122, 123, 124, 125, 126, 127, 128.0, 129, 130, 131, 132, 133, 134, 135, 136}\n",
      "After get best cut: cut_edges = None, added_edges = []\n",
      "***** there was no suggested cut for this limb even though it is still connnected***\n",
      "Total number of graphs at the end of the split = 1\n",
      "\n",
      "\n",
      " -------- Working on limb 2------------\n",
      "Starting combinations to process = [(10, 14)]\n",
      "\n",
      "\n",
      "---- working on disconnecting 10 and 14\n",
      "---- This disconnects S0_0 from S0_1  \n",
      " Cut iteration 0\n",
      "Shortest path = [10, 11, 12, 20, 16, 14]\n",
      "\n",
      " --------- START OF GET BEST EDGE --------- \n",
      "Short segments to combine = []\n",
      "Found 0 high degree coordinates to cut\n",
      "skip_nodes = []\n",
      "\n",
      "Attempting the doubling back check (symmetrical so don't need to check from both sides)\n",
      "  Edge: [10 11]: curr_angle = 48.67\n",
      "  Edge: [11 12]: curr_angle = 12.85\n",
      "  Edge: [12 20]: curr_angle = 115.41\n",
      "  Edge: [20 16]: curr_angle = 117.81\n",
      "  Edge: [16 14]: curr_angle = 14.05\n",
      "Total time for doubling_back = 0.17905545234680176\n",
      "There were 2 edges that passed doubling back threshold of 100\n",
      "Winning edge [20 16] had a doubling back of 117.80897672027207\n",
      "coordinate_branches = [16, 20, 22]\n",
      "16 = red\n",
      "20 = aqua\n",
      "22 = purple\n",
      "Angle between 16 and 20 = 51.74 \n",
      "Angle between 16 and 22 = 45.64 \n",
      "Angle between 20 and 22 = 88.58 \n",
      "Final Matches = []\n",
      "matched_branches_revised = []\n",
      "Original graph\n"
     ]
    },
    {
     "data": {
      "image/png": "[encoded data removed]",
      "text/plain": [
       "<Figure size 432x288 with 1 Axes>"
      ]
     },
     "metadata": {},
     "output_type": "display_data"
    },
    {
     "name": "stdout",
     "output_type": "stream",
     "text": [
      "edges_to_delete (resolve crossover) = [[16 20]\n",
      " [20 22]]\n",
      "edges_to_create (resolve crossover) = []\n",
      "edges_to_delete (cut_limb_network) = [array([16, 20]), array([20, 22])]\n",
      "edges_to_create = []\n",
      "Number of connected components = 3\n",
      "Comp 0 = {0, 1, 2, 3, 4, 5, 6, 7, 8, 9, 10, 11, 12, 13, 15, 18, 19, 20, 21}\n",
      "Comp 1 = {16, 17, 14}\n",
      "Comp 2 = {22}\n",
      "After get best cut: cut_edges = [array([16, 20]), array([20, 22])], added_edges = []\n",
      "-----------counter = 0------------\n",
      " Cut iteration 1\n",
      "No valid path so moving onto the next connection\n",
      "Total number of graphs at the end of the split = 3\n",
      "\n",
      "\n",
      " -------- Working on limb 10------------\n",
      "Starting combinations to process = [(18, 18)]\n",
      "\n",
      "\n",
      "---- working on disconnecting 18 and 18\n",
      "---- This disconnects S1_1 from S1_1  \n",
      " Cut iteration 0\n",
      "Shortest path = [18]\n",
      "\n",
      " --------- START OF GET BEST EDGE --------- \n",
      "Short segments to combine = []\n",
      "Found 0 high degree coordinates to cut\n",
      "Skipping endnode 18 because skeletal distance was 666.2462022237575 and threshold was 2500\n",
      "Skipping endnode 18 because skeletal distance was 666.2462022237575 and threshold was 2500\n",
      "Could not used the revised endnodes path because empty\n",
      "skip_nodes = []\n",
      "\n",
      "Attempting the doubling back check (symmetrical so don't need to check from both sides)\n",
      "Total time for doubling_back = 0.00012731552124023438\n",
      "\n",
      "Attempting the width jump check (attempting from both sides)\n",
      "Total time for width = 2.4080276489257812e-05\n",
      "Path starting at 18 had err_edges: []\n",
      "Total time for width = 2.6464462280273438e-05\n",
      "Path starting at 18 had err_edges: []\n",
      "Did not find an error edge in either of the paths\n",
      "Number of connected components = 1\n",
      "Comp 0 = {0, 1, 2, 3, 4, 5, 6, 7, 8, 9, 10, 11, 12, 13, 14, 15, 16, 17, 18, 19, 20, 21, 22}\n",
      "After get best cut: cut_edges = None, added_edges = []\n",
      "***** there was no suggested cut for this limb even though it is still connnected***\n",
      "Total number of graphs at the end of the split = 1\n",
      "\n",
      "\n",
      " -------- Working on limb 13------------\n",
      "Starting combinations to process = [(0, 2)]\n",
      "\n",
      "\n",
      "---- working on disconnecting 0 and 2\n",
      "---- This disconnects S1_0 from S1_1  \n",
      " Cut iteration 0\n",
      "Shortest path = [0, 7, 9, 6, 2]\n",
      "\n",
      " --------- START OF GET BEST EDGE --------- \n",
      "Short segments to combine = [7]\n",
      "\n",
      "\n",
      "-------- Removing Segments -------------\n",
      "curr_short_seg_revised = 7\n",
      "np.sum(touch_len>0) = 2\n",
      "Using average stitch point\n",
      "touching_endpoints = [[ 946762.69705911 1052462.19009457  764232.27032829]\n",
      " [ 947559.58399079 1052572.59278488  764045.31253911]]\n",
      "new_stitch_point = [ 947161.14052495 1052517.39143973  764138.7914337 ]\n",
      "Angles for [0 4 8 9] are [27.06, 30.45, 78.13, 82.62]\n",
      "Branch that will absorb mesh of 7 is 0 \n",
      "\n",
      "-------- Done Removing Segments -------------\n",
      "\n",
      "\n",
      "Found 3 high degree coordinates to cut\n",
      "Picking [ 946334.97620223 1051472.06136683  761963.90181678] high degree coordinates to cut\n",
      "coordinate_branches = [1, 2, 5, 6]\n",
      "1 = red\n",
      "2 = aqua\n",
      "5 = purple\n",
      "6 = green\n"
     ]
    },
    {
     "data": {
      "application/vnd.jupyter.widget-view+json": {
       "model_id": "6f0587d329ee4230b2a6e90be7bf59ed",
       "version_major": 2,
       "version_minor": 0
      },
      "text/plain": [
       "VBox(children=(Figure(camera=PerspectiveCamera(fov=46.0, position=(0.0, 0.0, 2.0), quaternion=(0.0, 0.0, 0.0, …"
      ]
     },
     "metadata": {},
     "output_type": "display_data"
    },
    {
     "name": "stdout",
     "output_type": "stream",
     "text": [
      "Angle between 1 and 2 = 118.13 \n",
      "Angle between 1 and 5 = 37.86 \n",
      "Angle between 1 and 6 = 88.52 \n",
      "Angle between 2 and 5 = 98.77 \n",
      "Angle between 2 and 6 = 27.08 \n",
      "Angle between 5 and 6 = 54.18 \n",
      "Final Matches = [[2, 6]]\n",
      "matched_branches_revised = [[2, 6]]\n",
      "Aligned Skeleton Parts\n"
     ]
    },
    {
     "data": {
      "application/vnd.jupyter.widget-view+json": {
       "model_id": "93959ba8d8394339a7779a47a39b22d1",
       "version_major": 2,
       "version_minor": 0
      },
      "text/plain": [
       "VBox(children=(Figure(camera=PerspectiveCamera(fov=46.0, position=(0.0, 0.0, 2.0), quaternion=(0.0, 0.0, 0.0, …"
      ]
     },
     "metadata": {},
     "output_type": "display_data"
    },
    {
     "data": {
      "application/vnd.jupyter.widget-view+json": {
       "model_id": "971c96fff00b48e59fd6b7e70ccf7c15",
       "version_major": 2,
       "version_minor": 0
      },
      "text/plain": [
       "VBox(children=(Figure(camera=PerspectiveCamera(fov=46.0, position=(0.0, 0.0, 2.0), quaternion=(0.0, 0.0, 0.0, …"
      ]
     },
     "metadata": {},
     "output_type": "display_data"
    },
    {
     "name": "stdout",
     "output_type": "stream",
     "text": [
      "Original graph\n"
     ]
    },
    {
     "data": {
      "image/png": "[encoded data removed]",
      "text/plain": [
       "<Figure size 432x288 with 1 Axes>"
      ]
     },
     "metadata": {},
     "output_type": "display_data"
    },
    {
     "name": "stdout",
     "output_type": "stream",
     "text": [
      "edges_to_delete (resolve crossover) = [array([1, 6]), array([5, 6])]\n",
      "edges_to_create (resolve crossover) = []\n",
      "skip_nodes = []\n",
      "edges_to_delete (cut_limb_network) = [array([1, 6]), array([5, 6])]\n",
      "edges_to_create = []\n",
      "Number of connected components = 4\n",
      "Comp 0 = {0, 2, 3, 4, 6, 8, 9, 10}\n",
      "Comp 1 = {1}\n",
      "Comp 2 = {5}\n",
      "Comp 3 = {7}\n",
      "After get best cut: cut_edges = [array([1, 6]), array([5, 6])], added_edges = []\n",
      "-----------counter = 0------------\n",
      " Cut iteration 1\n",
      "Shortest path = [0, 9, 6, 2]\n",
      "\n",
      " --------- START OF GET BEST EDGE --------- \n",
      "Short segments to combine = []\n",
      "Found 3 high degree coordinates to cut\n",
      "Picking [ 946334.97620223 1051472.06136683  761963.90181678] high degree coordinates to cut\n",
      "coordinate_branches = [1, 2, 5, 6]\n",
      "1 = red\n",
      "2 = aqua\n",
      "5 = purple\n",
      "6 = green\n"
     ]
    },
    {
     "data": {
      "application/vnd.jupyter.widget-view+json": {
       "model_id": "4ce5a31709c3405d815a674820463798",
       "version_major": 2,
       "version_minor": 0
      },
      "text/plain": [
       "VBox(children=(Figure(camera=PerspectiveCamera(fov=46.0, position=(0.0, 0.0, 2.0), quaternion=(0.0, 0.0, 0.0, …"
      ]
     },
     "metadata": {},
     "output_type": "display_data"
    },
    {
     "name": "stdout",
     "output_type": "stream",
     "text": [
      "Angle between 1 and 2 = 118.13 \n",
      "Angle between 1 and 5 = 37.86 \n",
      "Angle between 1 and 6 = 88.52 \n",
      "Angle between 2 and 5 = 98.77 \n",
      "Angle between 2 and 6 = 27.08 \n",
      "Angle between 5 and 6 = 54.18 \n",
      "Final Matches = [[2, 6]]\n",
      "matched_branches_revised = [[2, 6]]\n",
      "Aligned Skeleton Parts\n"
     ]
    },
    {
     "data": {
      "application/vnd.jupyter.widget-view+json": {
       "model_id": "f9b5b3cfa74649eba60fb54b46023708",
       "version_major": 2,
       "version_minor": 0
      },
      "text/plain": [
       "VBox(children=(Figure(camera=PerspectiveCamera(fov=46.0, position=(0.0, 0.0, 2.0), quaternion=(0.0, 0.0, 0.0, …"
      ]
     },
     "metadata": {},
     "output_type": "display_data"
    },
    {
     "data": {
      "application/vnd.jupyter.widget-view+json": {
       "model_id": "d62e1206ceb14a359c69d58b0a24c43a",
       "version_major": 2,
       "version_minor": 0
      },
      "text/plain": [
       "VBox(children=(Figure(camera=PerspectiveCamera(fov=46.0, position=(0.0, 0.0, 2.0), quaternion=(0.0, 0.0, 0.0, …"
      ]
     },
     "metadata": {},
     "output_type": "display_data"
    },
    {
     "name": "stdout",
     "output_type": "stream",
     "text": [
      "Original graph\n"
     ]
    },
    {
     "data": {
      "image/png": "[encoded data removed]",
      "text/plain": [
       "<Figure size 432x288 with 1 Axes>"
      ]
     },
     "metadata": {},
     "output_type": "display_data"
    },
    {
     "name": "stdout",
     "output_type": "stream",
     "text": [
      "edges_to_delete (resolve crossover) = []\n",
      "edges_to_create (resolve crossover) = []\n",
      "skip_nodes = []\n",
      "\n",
      "Attempting the doubling back check (symmetrical so don't need to check from both sides)\n",
      "  Edge: [0 9]: curr_angle = 99.07\n",
      "  Edge: [9 6]: curr_angle = 149.24\n",
      "  Edge: [6 2]: curr_angle = 126.0\n",
      "Total time for doubling_back = 0.06084918975830078\n",
      "There were 2 edges that passed doubling back threshold of 100\n",
      "Winning edge [9 6] had a doubling back of 149.23997144805227\n",
      "edges_to_delete (cut_limb_network) = [array([9, 6])]\n",
      "Number of connected components = 5\n",
      "Comp 0 = {0, 3, 4, 8, 9, 10}\n",
      "Comp 1 = {2, 6}\n",
      "Comp 2 = {1}\n",
      "Comp 3 = {5}\n",
      "Comp 4 = {7}\n",
      "After get best cut: cut_edges = [array([9, 6])], added_edges = []\n",
      "-----------counter = 1------------\n",
      " Cut iteration 2\n",
      "No valid path so moving onto the next connection\n",
      "Total number of graphs at the end of the split = 5\n",
      "\n",
      "\n",
      " -------- Working on limb 18------------\n",
      "Starting combinations to process = [(0, 0)]\n",
      "\n",
      "\n",
      "---- working on disconnecting 0 and 0\n",
      "---- This disconnects S1_1 from S1_1  \n",
      " Cut iteration 0\n",
      "Shortest path = [0]\n",
      "\n",
      " --------- START OF GET BEST EDGE --------- \n",
      "Short segments to combine = []\n",
      "Found 0 high degree coordinates to cut\n",
      "Could not used the revised endnodes path because empty\n",
      "skip_nodes = []\n",
      "\n",
      "Attempting the doubling back check (symmetrical so don't need to check from both sides)\n",
      "Total time for doubling_back = 7.987022399902344e-05\n",
      "\n",
      "Attempting the width jump check (attempting from both sides)\n",
      "Total time for width = 2.86102294921875e-05\n",
      "Path starting at 0 had err_edges: []\n",
      "Total time for width = 2.8371810913085938e-05\n",
      "Path starting at 0 had err_edges: []\n",
      "Did not find an error edge in either of the paths\n",
      "Number of connected components = 1\n",
      "Comp 0 = {0}\n",
      "After get best cut: cut_edges = None, added_edges = []\n",
      "***** there was no suggested cut for this limb even though it is still connnected***\n",
      "Total number of graphs at the end of the split = 1\n"
     ]
    }
   ],
   "source": [
    "import proofreading_utils as pru\n",
    "limb_results = pru.multi_soma_split_suggestions(neuron_obj,\n",
    "                                verbose=True,\n",
    "                                plot_intermediates=True,\n",
    "                                )"
   ]
  },
  {
   "cell_type": "markdown",
   "metadata": {},
   "source": [
    "# Plotting the Results"
   ]
  },
  {
   "cell_type": "code",
   "execution_count": 240,
   "metadata": {},
   "outputs": [
    {
     "name": "stderr",
     "output_type": "stream",
     "text": [
      "[autoreload of neuron_visualizations failed: Traceback (most recent call last):\n",
      "  File \"/usr/local/lib/python3.6/dist-packages/IPython/extensions/autoreload.py\", line 245, in check\n",
      "    superreload(m, reload, self.old_objects)\n",
      "  File \"/usr/local/lib/python3.6/dist-packages/IPython/extensions/autoreload.py\", line 394, in superreload\n",
      "    module = reload(module)\n",
      "  File \"/usr/lib/python3.6/imp.py\", line 315, in reload\n",
      "    return importlib.reload(module)\n",
      "  File \"/usr/lib/python3.6/importlib/__init__.py\", line 166, in reload\n",
      "    _bootstrap._exec(spec, module)\n",
      "  File \"<frozen importlib._bootstrap>\", line 618, in _exec\n",
      "  File \"<frozen importlib._bootstrap_external>\", line 674, in exec_module\n",
      "  File \"<frozen importlib._bootstrap_external>\", line 781, in get_code\n",
      "  File \"<frozen importlib._bootstrap_external>\", line 741, in source_to_code\n",
      "  File \"<frozen importlib._bootstrap>\", line 219, in _call_with_frames_removed\n",
      "  File \"/meshAfterParty/neuron_visualizations.py\", line 1844\n",
      "    if\n",
      "      ^\n",
      "SyntaxError: invalid syntax\n",
      "]\n"
     ]
    },
    {
     "data": {
      "text/plain": [
       "{1: [{'starting_node_1': 5,\n",
       "   'starting_node_2': 48,\n",
       "   'title': 'S0_0 from S1_0 ',\n",
       "   'edges_to_delete': [array([5, 8]), array([5, 9])],\n",
       "   'edges_to_create': [],\n",
       "   'removed_branches': [],\n",
       "   'coordinate_suggestions': [array([871224., 833182., 653207.]),\n",
       "    array([871224., 833182., 653207.])],\n",
       "   'successful_disconnection': False}],\n",
       " 2: [{'starting_node_1': 10,\n",
       "   'starting_node_2': 14,\n",
       "   'title': 'S0_0 from S0_1 ',\n",
       "   'edges_to_delete': [array([16, 20]), array([20, 22])],\n",
       "   'edges_to_create': [],\n",
       "   'removed_branches': [],\n",
       "   'coordinate_suggestions': [array([879374., 775322., 664037.]),\n",
       "    array([879374., 775322., 664037.])],\n",
       "   'successful_disconnection': True}],\n",
       " 10: [{'starting_node_1': 18,\n",
       "   'starting_node_2': 18,\n",
       "   'title': 'S1_1 from S1_1 ',\n",
       "   'edges_to_delete': [],\n",
       "   'edges_to_create': [],\n",
       "   'removed_branches': [],\n",
       "   'coordinate_suggestions': [],\n",
       "   'successful_disconnection': False}],\n",
       " 13: [{'starting_node_1': 0,\n",
       "   'starting_node_2': 2,\n",
       "   'title': 'S1_0 from S1_1 ',\n",
       "   'edges_to_delete': [array([1, 6]), array([5, 6]), array([9, 6])],\n",
       "   'edges_to_create': [],\n",
       "   'removed_branches': [7],\n",
       "   'coordinate_suggestions': [array([ 946334.97620223, 1051472.06136683,  761963.90181678]),\n",
       "    array([ 946334.97620223, 1051472.06136683,  761963.90181678]),\n",
       "    array([ 947823.27197227, 1051437.27582444,  762451.76599916])],\n",
       "   'successful_disconnection': True}],\n",
       " 18: [{'starting_node_1': 0,\n",
       "   'starting_node_2': 0,\n",
       "   'title': 'S1_1 from S1_1 ',\n",
       "   'edges_to_delete': [],\n",
       "   'edges_to_create': [],\n",
       "   'removed_branches': [],\n",
       "   'coordinate_suggestions': [],\n",
       "   'successful_disconnection': False}]}"
      ]
     },
     "execution_count": 240,
     "metadata": {},
     "output_type": "execute_result"
    }
   ],
   "source": [
    "limb_results[]"
   ]
  },
  {
   "cell_type": "code",
   "execution_count": 244,
   "metadata": {
    "scrolled": false
   },
   "outputs": [
    {
     "name": "stdout",
     "output_type": "stream",
     "text": [
      "\n",
      "\n",
      "-------- Suggestions for Limb 1------\n",
      "\n",
      " Working on visualization type: mesh\n",
      "\n",
      " Working on visualization type: skeleton\n"
     ]
    },
    {
     "data": {
      "application/vnd.jupyter.widget-view+json": {
       "model_id": "4972a5a1d3ea44ca968932c44f0340fb",
       "version_major": 2,
       "version_minor": 0
      },
      "text/plain": [
       "VBox(children=(Figure(camera=PerspectiveCamera(fov=46.0, position=(0.0, 0.0, 2.0), quaternion=(0.0, 0.0, 0.0, …"
      ]
     },
     "metadata": {},
     "output_type": "display_data"
    },
    {
     "name": "stdout",
     "output_type": "stream",
     "text": [
      "\n",
      "\n",
      "-------- Suggestions for Limb 2------\n",
      "\n",
      " Working on visualization type: mesh\n",
      "\n",
      " Working on visualization type: skeleton\n"
     ]
    },
    {
     "data": {
      "application/vnd.jupyter.widget-view+json": {
       "model_id": "979c1811af2949358fff7e9b0d8c5c03",
       "version_major": 2,
       "version_minor": 0
      },
      "text/plain": [
       "VBox(children=(Figure(camera=PerspectiveCamera(fov=46.0, position=(0.0, 0.0, 2.0), quaternion=(0.0, 0.0, 0.0, …"
      ]
     },
     "metadata": {},
     "output_type": "display_data"
    },
    {
     "name": "stdout",
     "output_type": "stream",
     "text": [
      "\n",
      "\n",
      "-------- Suggestions for Limb 10------\n",
      "\n",
      "\n",
      " No suggested cuts for this limb!!\n",
      "\n",
      " Working on visualization type: mesh\n",
      "\n",
      " Working on visualization type: skeleton\n"
     ]
    },
    {
     "data": {
      "application/vnd.jupyter.widget-view+json": {
       "model_id": "53acb7fb6caf4a97b135ce1ab6e0c695",
       "version_major": 2,
       "version_minor": 0
      },
      "text/plain": [
       "VBox(children=(Figure(camera=PerspectiveCamera(fov=46.0, position=(0.0, 0.0, 2.0), quaternion=(0.0, 0.0, 0.0, …"
      ]
     },
     "metadata": {},
     "output_type": "display_data"
    },
    {
     "name": "stdout",
     "output_type": "stream",
     "text": [
      "\n",
      "\n",
      "-------- Suggestions for Limb 13------\n",
      "\n",
      " Working on visualization type: mesh\n",
      "\n",
      " Working on visualization type: skeleton\n"
     ]
    },
    {
     "data": {
      "application/vnd.jupyter.widget-view+json": {
       "model_id": "8fed84f0d14b4803856099a3297b3a32",
       "version_major": 2,
       "version_minor": 0
      },
      "text/plain": [
       "VBox(children=(Figure(camera=PerspectiveCamera(fov=46.0, position=(0.0, 0.0, 2.0), quaternion=(0.0, 0.0, 0.0, …"
      ]
     },
     "metadata": {},
     "output_type": "display_data"
    },
    {
     "name": "stdout",
     "output_type": "stream",
     "text": [
      "\n",
      "\n",
      "-------- Suggestions for Limb 18------\n",
      "\n",
      "\n",
      " No suggested cuts for this limb!!\n",
      "\n",
      " Working on visualization type: mesh\n",
      "\n",
      " Working on visualization type: skeleton\n"
     ]
    },
    {
     "data": {
      "application/vnd.jupyter.widget-view+json": {
       "model_id": "8b11f7551b1a429a9a6157c7af72deef",
       "version_major": 2,
       "version_minor": 0
      },
      "text/plain": [
       "VBox(children=(Figure(camera=PerspectiveCamera(fov=46.0, position=(0.0, 0.0, 2.0), quaternion=(0.0, 0.0, 0.0, …"
      ]
     },
     "metadata": {},
     "output_type": "display_data"
    }
   ],
   "source": [
    "pru = reload(pru)\n",
    "nviz = reload(nviz)\n",
    "nviz.plot_split_suggestions_per_limb(neuron_obj,limb_results)"
   ]
  },
  {
   "cell_type": "code",
   "execution_count": null,
   "metadata": {},
   "outputs": [],
   "source": []
  }
 ],
 "metadata": {
  "kernelspec": {
   "display_name": "Python 3",
   "language": "python",
   "name": "python3"
  },
  "language_info": {
   "codemirror_mode": {
    "name": "ipython",
    "version": 3
   },
   "file_extension": ".py",
   "mimetype": "text/x-python",
   "name": "python",
   "nbconvert_exporter": "python",
   "pygments_lexer": "ipython3",
   "version": "3.6.9"
  }
 },
 "nbformat": 4,
 "nbformat_minor": 4
}
