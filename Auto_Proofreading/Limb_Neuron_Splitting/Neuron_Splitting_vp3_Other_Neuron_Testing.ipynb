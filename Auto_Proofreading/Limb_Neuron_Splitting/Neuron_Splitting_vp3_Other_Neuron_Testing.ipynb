{
 "cells": [
  {
   "cell_type": "code",
   "execution_count": null,
   "metadata": {},
   "outputs": [],
   "source": [
    "\"\"\"\n",
    "Purpose: To take in a whole neuron that could have any number of somas\n",
    "and then to split it into multiple neuron objects\n",
    "\n",
    "Pseudocode: \n",
    "1) Get all of the split suggestions\n",
    "2) Split all of the limbs that need splitting\n",
    "3) Once have split the limbs, split the neuron object into mutliple objects\n",
    "\n",
    "\n",
    "\"\"\""
   ]
  },
  {
   "cell_type": "code",
   "execution_count": 1,
   "metadata": {},
   "outputs": [],
   "source": [
    "%load_ext autoreload\n",
    "%autoreload 2"
   ]
  },
  {
   "cell_type": "code",
   "execution_count": 2,
   "metadata": {},
   "outputs": [],
   "source": [
    "from os import sys\n",
    "sys.path.append(\"/meshAfterParty/\")"
   ]
  },
  {
   "cell_type": "code",
   "execution_count": 32,
   "metadata": {},
   "outputs": [],
   "source": [
    "from importlib import reload\n",
    "\n",
    "import neuron_utils as nru\n",
    "\n",
    "import neuron\n",
    "\n",
    "import neuron_visualizations as nviz\n",
    "\n",
    "import time\n",
    "\n",
    "import datajoint_utils as du\n",
    "\n",
    "import numpy as np\n",
    "\n",
    "import system_utils as su"
   ]
  },
  {
   "cell_type": "code",
   "execution_count": 4,
   "metadata": {},
   "outputs": [
    {
     "name": "stderr",
     "output_type": "stream",
     "text": [
      "INFO - 2021-01-03 23:20:55,375 - settings - Setting enable_python_native_blobs to True\n",
      "INFO - 2021-01-03 23:20:55,615 - settings - Setting enable_python_native_blobs to True\n"
     ]
    }
   ],
   "source": [
    "minnie,schema = du.configure_minnie_vm()"
   ]
  },
  {
   "cell_type": "markdown",
   "metadata": {},
   "source": [
    "# Picking the Neuron"
   ]
  },
  {
   "cell_type": "code",
   "execution_count": 17,
   "metadata": {},
   "outputs": [
    {
     "data": {
      "text/html": [
       "\n",
       "        \n",
       "        <style type=\"text/css\">\n",
       "            .Relation{\n",
       "                border-collapse:collapse;\n",
       "            }\n",
       "            .Relation th{\n",
       "                background: #A0A0A0; color: #ffffff; padding:4px; border:#f0e0e0 1px solid;\n",
       "                font-weight: normal; font-family: monospace; font-size: 100%;\n",
       "            }\n",
       "            .Relation td{\n",
       "                padding:4px; border:#f0e0e0 1px solid; font-size:100%;\n",
       "            }\n",
       "            .Relation tr:nth-child(odd){\n",
       "                background: #ffffff;\n",
       "            }\n",
       "            .Relation tr:nth-child(even){\n",
       "                background: #f3f1ff;\n",
       "            }\n",
       "            /* Tooltip container */\n",
       "            .djtooltip {\n",
       "            }\n",
       "            /* Tooltip text */\n",
       "            .djtooltip .djtooltiptext {\n",
       "                visibility: hidden;\n",
       "                width: 120px;\n",
       "                background-color: black;\n",
       "                color: #fff;\n",
       "                text-align: center;\n",
       "                padding: 5px 0;\n",
       "                border-radius: 6px;\n",
       "                /* Position the tooltip text - see examples below! */\n",
       "                position: absolute;\n",
       "                z-index: 1;\n",
       "            }\n",
       "            #primary {\n",
       "                font-weight: bold;\n",
       "                color: black;\n",
       "            }\n",
       "\n",
       "            #nonprimary {\n",
       "                font-weight: normal;\n",
       "                color: white;\n",
       "            }\n",
       "\n",
       "            /* Show the tooltip text when you mouse over the tooltip container */\n",
       "            .djtooltip:hover .djtooltiptext {\n",
       "                visibility: visible;\n",
       "            }\n",
       "        </style>\n",
       "        \n",
       "        <b></b>\n",
       "            <div style=\"max-height:1000px;max-width:1500px;overflow:auto;\">\n",
       "            <table border=\"1\" class=\"Relation\">\n",
       "                <thead> <tr style=\"text-align: right;\"> <th> <div class=\"djtooltip\">\n",
       "                                <p id=\"primary\">segment_id</p>\n",
       "                                <span class=\"djtooltiptext\">segment id unique within each Segmentation</span>\n",
       "                            </div></th><th><div class=\"djtooltip\">\n",
       "                                <p id=\"primary\">decimation_version</p>\n",
       "                                <span class=\"djtooltiptext\"></span>\n",
       "                            </div></th><th><div class=\"djtooltip\">\n",
       "                                <p id=\"primary\">decimation_ratio</p>\n",
       "                                <span class=\"djtooltiptext\">ratio of remaining mesh vertices/faces (which ones depends on what metric the decimation technique uses)</span>\n",
       "                            </div></th><th><div class=\"djtooltip\">\n",
       "                                <p id=\"nonprimary\">decomposition</p>\n",
       "                                <span class=\"djtooltiptext\"></span>\n",
       "                            </div></th><th><div class=\"djtooltip\">\n",
       "                                <p id=\"nonprimary\">n_vertices</p>\n",
       "                                <span class=\"djtooltiptext\">number of vertices</span>\n",
       "                            </div></th><th><div class=\"djtooltip\">\n",
       "                                <p id=\"nonprimary\">n_faces</p>\n",
       "                                <span class=\"djtooltiptext\">number of faces</span>\n",
       "                            </div></th><th><div class=\"djtooltip\">\n",
       "                                <p id=\"nonprimary\">n_error_limbs</p>\n",
       "                                <span class=\"djtooltiptext\">the number of limbs that are touching multiple somas or 1 soma in multiple places</span>\n",
       "                            </div></th><th><div class=\"djtooltip\">\n",
       "                                <p id=\"nonprimary\">n_same_soma_multi_touching_limbs</p>\n",
       "                                <span class=\"djtooltiptext\">number of limbs that touch the same soma multiple times</span>\n",
       "                            </div></th><th><div class=\"djtooltip\">\n",
       "                                <p id=\"nonprimary\">n_multi_soma_touching_limbs</p>\n",
       "                                <span class=\"djtooltiptext\">number of limbs that touch multiple somas</span>\n",
       "                            </div></th><th><div class=\"djtooltip\">\n",
       "                                <p id=\"nonprimary\">n_somas</p>\n",
       "                                <span class=\"djtooltiptext\">number of soma meshes detected</span>\n",
       "                            </div></th><th><div class=\"djtooltip\">\n",
       "                                <p id=\"nonprimary\">n_limbs</p>\n",
       "                                <span class=\"djtooltiptext\"></span>\n",
       "                            </div></th><th><div class=\"djtooltip\">\n",
       "                                <p id=\"nonprimary\">n_branches</p>\n",
       "                                <span class=\"djtooltiptext\"></span>\n",
       "                            </div></th><th><div class=\"djtooltip\">\n",
       "                                <p id=\"nonprimary\">max_limb_n_branches</p>\n",
       "                                <span class=\"djtooltiptext\"></span>\n",
       "                            </div></th><th><div class=\"djtooltip\">\n",
       "                                <p id=\"nonprimary\">skeletal_length</p>\n",
       "                                <span class=\"djtooltiptext\"></span>\n",
       "                            </div></th><th><div class=\"djtooltip\">\n",
       "                                <p id=\"nonprimary\">max_limb_skeletal_length</p>\n",
       "                                <span class=\"djtooltiptext\"></span>\n",
       "                            </div></th><th><div class=\"djtooltip\">\n",
       "                                <p id=\"nonprimary\">median_branch_length</p>\n",
       "                                <span class=\"djtooltiptext\">gives information on average skeletal length to next branch point</span>\n",
       "                            </div></th><th><div class=\"djtooltip\">\n",
       "                                <p id=\"nonprimary\">width_median</p>\n",
       "                                <span class=\"djtooltiptext\">median width from mesh center without spines removed</span>\n",
       "                            </div></th><th><div class=\"djtooltip\">\n",
       "                                <p id=\"nonprimary\">width_no_spine_median</p>\n",
       "                                <span class=\"djtooltiptext\">median width from mesh center with spines removed</span>\n",
       "                            </div></th><th><div class=\"djtooltip\">\n",
       "                                <p id=\"nonprimary\">width_90_perc</p>\n",
       "                                <span class=\"djtooltiptext\">90th percentile for width without spines removed</span>\n",
       "                            </div></th><th><div class=\"djtooltip\">\n",
       "                                <p id=\"nonprimary\">width_no_spine_90_perc</p>\n",
       "                                <span class=\"djtooltiptext\">90th percentile for width with spines removed</span>\n",
       "                            </div></th><th><div class=\"djtooltip\">\n",
       "                                <p id=\"nonprimary\">n_spines</p>\n",
       "                                <span class=\"djtooltiptext\"></span>\n",
       "                            </div></th><th><div class=\"djtooltip\">\n",
       "                                <p id=\"nonprimary\">spine_density</p>\n",
       "                                <span class=\"djtooltiptext\">n_spines/ skeletal_length</span>\n",
       "                            </div></th><th><div class=\"djtooltip\">\n",
       "                                <p id=\"nonprimary\">spines_per_branch</p>\n",
       "                                <span class=\"djtooltiptext\"></span>\n",
       "                            </div></th><th><div class=\"djtooltip\">\n",
       "                                <p id=\"nonprimary\">skeletal_length_eligible</p>\n",
       "                                <span class=\"djtooltiptext\">the skeletal length for all branches searched for spines</span>\n",
       "                            </div></th><th><div class=\"djtooltip\">\n",
       "                                <p id=\"nonprimary\">n_spine_eligible_branches</p>\n",
       "                                <span class=\"djtooltiptext\">the number of branches that were checked for spines because passed width threshold</span>\n",
       "                            </div></th><th><div class=\"djtooltip\">\n",
       "                                <p id=\"nonprimary\">spine_density_eligible</p>\n",
       "                                <span class=\"djtooltiptext\">n_spines/skeletal_length_eligible</span>\n",
       "                            </div></th><th><div class=\"djtooltip\">\n",
       "                                <p id=\"nonprimary\">spines_per_branch_eligible</p>\n",
       "                                <span class=\"djtooltiptext\">n_spines/n_spine_eligible_branches</span>\n",
       "                            </div></th><th><div class=\"djtooltip\">\n",
       "                                <p id=\"nonprimary\">total_spine_volume</p>\n",
       "                                <span class=\"djtooltiptext\">the sum of all spine volume</span>\n",
       "                            </div></th><th><div class=\"djtooltip\">\n",
       "                                <p id=\"nonprimary\">spine_volume_median</p>\n",
       "                                <span class=\"djtooltiptext\">median of the spine volume for those spines with able to calculate volume</span>\n",
       "                            </div></th><th><div class=\"djtooltip\">\n",
       "                                <p id=\"nonprimary\">spine_volume_density</p>\n",
       "                                <span class=\"djtooltiptext\">total_spine_volume/skeletal_length</span>\n",
       "                            </div></th><th><div class=\"djtooltip\">\n",
       "                                <p id=\"nonprimary\">spine_volume_density_eligible</p>\n",
       "                                <span class=\"djtooltiptext\">total_spine_volume/skeletal_length_eligible</span>\n",
       "                            </div></th><th><div class=\"djtooltip\">\n",
       "                                <p id=\"nonprimary\">spine_volume_per_branch_eligible</p>\n",
       "                                <span class=\"djtooltiptext\">total_spine_volume/n_spine_eligible_branches</span>\n",
       "                            </div></th><th><div class=\"djtooltip\">\n",
       "                                <p id=\"nonprimary\">run_time</p>\n",
       "                                <span class=\"djtooltiptext\">the amount of time to run (seconds)</span>\n",
       "                            </div> </th> </tr> </thead>\n",
       "                <tbody> <tr> <td>864691135081644023</td>\n",
       "<td>0</td>\n",
       "<td>0.25</td>\n",
       "<td>=BLOB=</td>\n",
       "<td>853714</td>\n",
       "<td>1717788</td>\n",
       "<td>3</td>\n",
       "<td>2</td>\n",
       "<td>2</td>\n",
       "<td>2</td>\n",
       "<td>12</td>\n",
       "<td>274</td>\n",
       "<td>133</td>\n",
       "<td>9151050.956985964</td>\n",
       "<td>3241470.4075203836</td>\n",
       "<td>19951.921</td>\n",
       "<td>149.01</td>\n",
       "<td>148.057</td>\n",
       "<td>441.244</td>\n",
       "<td>416.737</td>\n",
       "<td>3461</td>\n",
       "<td>0.0003782079256544685</td>\n",
       "<td>12.63138686131387</td>\n",
       "<td>6071207.457</td>\n",
       "<td>136</td>\n",
       "<td>0.0005700678200362805</td>\n",
       "<td>25.449</td>\n",
       "<td>249095068700.38538</td>\n",
       "<td>44005779.70668538</td>\n",
       "<td>27220.37827908988</td>\n",
       "<td>41028.917305927826</td>\n",
       "<td>1831581387.5028336</td>\n",
       "<td>3155.4383</td></tr><tr><td>864691135758516046</td>\n",
       "<td>0</td>\n",
       "<td>0.25</td>\n",
       "<td>=BLOB=</td>\n",
       "<td>1389966</td>\n",
       "<td>2818295</td>\n",
       "<td>3</td>\n",
       "<td>2</td>\n",
       "<td>1</td>\n",
       "<td>2</td>\n",
       "<td>11</td>\n",
       "<td>385</td>\n",
       "<td>124</td>\n",
       "<td>12048282.425513012</td>\n",
       "<td>3777015.1847949876</td>\n",
       "<td>19466.141</td>\n",
       "<td>325.093</td>\n",
       "<td>276.177</td>\n",
       "<td>500.126</td>\n",
       "<td>461.272</td>\n",
       "<td>6929</td>\n",
       "<td>0.0005751027204780158</td>\n",
       "<td>17.997402597402598</td>\n",
       "<td>10410887.616</td>\n",
       "<td>290</td>\n",
       "<td>0.0006655532415267982</td>\n",
       "<td>23.893</td>\n",
       "<td>315066387747.27527</td>\n",
       "<td>20346954.5683492</td>\n",
       "<td>26150.31559022072</td>\n",
       "<td>30263.162889498937</td>\n",
       "<td>1086435819.8181906</td>\n",
       "<td>7949.779</td></tr><tr><td>864691136908675694</td>\n",
       "<td>0</td>\n",
       "<td>0.25</td>\n",
       "<td>=BLOB=</td>\n",
       "<td>427411</td>\n",
       "<td>852486</td>\n",
       "<td>3</td>\n",
       "<td>2</td>\n",
       "<td>1</td>\n",
       "<td>2</td>\n",
       "<td>9</td>\n",
       "<td>207</td>\n",
       "<td>85</td>\n",
       "<td>5270361.420245086</td>\n",
       "<td>2292993.4160426715</td>\n",
       "<td>15847.168</td>\n",
       "<td>143.142</td>\n",
       "<td>143.142</td>\n",
       "<td>393.741</td>\n",
       "<td>381.588</td>\n",
       "<td>888</td>\n",
       "<td>0.0001684893936474485</td>\n",
       "<td>4.2898550724637685</td>\n",
       "<td>3131177.509</td>\n",
       "<td>105</td>\n",
       "<td>0.00028359937992899017</td>\n",
       "<td>8.457</td>\n",
       "<td>60764077818.176926</td>\n",
       "<td>46366039.20999018</td>\n",
       "<td>11529.394850372753</td>\n",
       "<td>19406.14278287374</td>\n",
       "<td>578705503.0302564</td>\n",
       "<td>1383.9974</td> </tr> </tbody>\n",
       "            </table>\n",
       "            \n",
       "            <p>Total: 3</p></div>\n",
       "            "
      ],
      "text/plain": [
       "*segment_id    *decimation_ve *decimation_ra decomposit n_vertices     n_faces     n_error_limbs  n_same_soma_mu n_multi_soma_t n_somas     n_limbs     n_branches     max_limb_n_bra skeletal_lengt max_limb_skele median_branch_ width_median   width_no_spine width_90_perc  width_no_spine n_spines     spine_density  spines_per_bra skeletal_lengt n_spine_eligib spine_density_ spines_per_bra total_spine_vo spine_volume_m spine_volume_d spine_volume_d spine_volume_p run_time     \n",
       "+------------+ +------------+ +------------+ +--------+ +------------+ +---------+ +------------+ +------------+ +------------+ +---------+ +---------+ +------------+ +------------+ +------------+ +------------+ +------------+ +------------+ +------------+ +------------+ +------------+ +----------+ +------------+ +------------+ +------------+ +------------+ +------------+ +------------+ +------------+ +------------+ +------------+ +------------+ +------------+ +-----------+\n",
       "86469113508164 0              0.25           =BLOB=     853714         1717788     3              2              2              2           12          274            133            9151050.956985 3241470.407520 19951.921      149.01         148.057        441.244        416.737        3461         0.000378207925 12.63138686131 6071207.457    136            0.000570067820 25.449         249095068700.3 44005779.70668 27220.37827908 41028.91730592 1831581387.502 3155.4383    \n",
       "86469113575851 0              0.25           =BLOB=     1389966        2818295     3              2              1              2           11          385            124            12048282.42551 3777015.184794 19466.141      325.093        276.177        500.126        461.272        6929         0.000575102720 17.99740259740 10410887.616   290            0.000665553241 23.893         315066387747.2 20346954.56834 26150.31559022 30263.16288949 1086435819.818 7949.779     \n",
       "86469113690867 0              0.25           =BLOB=     427411         852486      3              2              1              2           9           207            85             5270361.420245 2292993.416042 15847.168      143.142        143.142        393.741        381.588        888          0.000168489393 4.289855072463 3131177.509    105            0.000283599379 8.457          60764077818.17 46366039.20999 11529.39485037 19406.14278287 578705503.0302 1383.9974    \n",
       " (Total: 3)"
      ]
     },
     "execution_count": 17,
     "metadata": {},
     "output_type": "execute_result"
    }
   ],
   "source": [
    "minnie.Decomposition() & \"n_error_limbs>2\""
   ]
  },
  {
   "cell_type": "code",
   "execution_count": 18,
   "metadata": {},
   "outputs": [],
   "source": [
    "segment_id = 864691136908675694 "
   ]
  },
  {
   "cell_type": "code",
   "execution_count": 19,
   "metadata": {},
   "outputs": [
    {
     "name": "stdout",
     "output_type": "stream",
     "text": [
      "Decompressing Neuron in minimal output mode...please wait\n"
     ]
    },
    {
     "data": {
      "text/plain": [
       "<neuron.Neuron at 0x7f66b6ae9d30>"
      ]
     },
     "execution_count": 19,
     "metadata": {},
     "output_type": "execute_result"
    }
   ],
   "source": [
    "neuron_obj = (minnie.Decomposition & dict(segment_id=segment_id)).fetch1(\"decomposition\")\n",
    "neuron_obj"
   ]
  },
  {
   "cell_type": "markdown",
   "metadata": {},
   "source": [
    "# Using a previously processed Neuron"
   ]
  },
  {
   "cell_type": "code",
   "execution_count": 20,
   "metadata": {},
   "outputs": [],
   "source": [
    "# file_loc = \"/notebooks/test_neurons/Segmentation_3/Multi_Soma/864691135207768697_0_25\"\n",
    "# neuron_obj = nru.decompress_neuron(file_loc,file_loc)"
   ]
  },
  {
   "cell_type": "markdown",
   "metadata": {},
   "source": [
    "# Visualizing the Neuron"
   ]
  },
  {
   "cell_type": "code",
   "execution_count": 21,
   "metadata": {
    "scrolled": false
   },
   "outputs": [
    {
     "name": "stdout",
     "output_type": "stream",
     "text": [
      "\n",
      " Working on visualization type: mesh\n",
      "\n",
      " Working on visualization type: skeleton\n"
     ]
    },
    {
     "data": {
      "application/vnd.jupyter.widget-view+json": {
       "model_id": "90a378360aaa400581d3aa3f84feda46",
       "version_major": 2,
       "version_minor": 0
      },
      "text/plain": [
       "VBox(children=(Figure(camera=PerspectiveCamera(fov=46.0, position=(0.0, 0.0, 2.0), quaternion=(0.0, 0.0, 0.0, …"
      ]
     },
     "metadata": {},
     "output_type": "display_data"
    }
   ],
   "source": [
    "nviz.visualize_neuron(neuron_obj,\n",
    "                     visualize_type=[\"mesh\",\"skeleton\"],\n",
    "                     limb_branch_dict=\"all\",\n",
    "                     mesh_whole_neuron=False)"
   ]
  },
  {
   "cell_type": "code",
   "execution_count": 22,
   "metadata": {},
   "outputs": [
    {
     "name": "stdout",
     "output_type": "stream",
     "text": [
      "\n",
      " Working on visualization type: mesh\n",
      "\n",
      " Working on visualization type: skeleton\n"
     ]
    },
    {
     "data": {
      "application/vnd.jupyter.widget-view+json": {
       "model_id": "4233c71111914e05987eacbc80874406",
       "version_major": 2,
       "version_minor": 0
      },
      "text/plain": [
       "VBox(children=(Figure(camera=PerspectiveCamera(fov=46.0, position=(0.0, 0.0, 2.0), quaternion=(0.0, 0.0, 0.0, …"
      ]
     },
     "metadata": {},
     "output_type": "display_data"
    }
   ],
   "source": [
    "nviz.visualize_neuron(neuron_obj,\n",
    "                     visualize_type=[\"mesh\",\"skeleton\"],\n",
    "                     limb_branch_dict=dict(),\n",
    "                     mesh_whole_neuron=True)"
   ]
  },
  {
   "cell_type": "markdown",
   "metadata": {},
   "source": [
    "# Preview of How th Neuron Will Need to be Split"
   ]
  },
  {
   "cell_type": "code",
   "execution_count": 27,
   "metadata": {},
   "outputs": [
    {
     "data": {
      "image/png": "[encoded data removed]",
      "text/plain": [
       "<Figure size 432x288 with 1 Axes>"
      ]
     },
     "metadata": {},
     "output_type": "display_data"
    }
   ],
   "source": [
    "nviz.plot_soma_limb_concept_network(neuron_obj)"
   ]
  },
  {
   "cell_type": "code",
   "execution_count": 26,
   "metadata": {},
   "outputs": [
    {
     "data": {
      "text/plain": [
       "array([4, 8])"
      ]
     },
     "execution_count": 26,
     "metadata": {},
     "output_type": "execute_result"
    }
   ],
   "source": [
    "neuron_obj.same_soma_multi_touching_limbs"
   ]
  },
  {
   "cell_type": "code",
   "execution_count": 28,
   "metadata": {},
   "outputs": [
    {
     "data": {
      "text/plain": [
       "array([1, 4, 8])"
      ]
     },
     "execution_count": 28,
     "metadata": {},
     "output_type": "execute_result"
    }
   ],
   "source": [
    "total_limbs_to_process = nru.error_limbs(neuron_obj)\n",
    "total_limbs_to_process"
   ]
  },
  {
   "cell_type": "markdown",
   "metadata": {},
   "source": [
    "# Getting the Split Suggestions"
   ]
  },
  {
   "cell_type": "code",
   "execution_count": 142,
   "metadata": {},
   "outputs": [],
   "source": [
    "neuron = reload(neuron)"
   ]
  },
  {
   "cell_type": "code",
   "execution_count": 144,
   "metadata": {},
   "outputs": [
    {
     "name": "stdout",
     "output_type": "stream",
     "text": [
      "Recieved another instance of Neuron class in init -- so just copying data\n"
     ]
    }
   ],
   "source": [
    "neuron_obj = neuron.Neuron(neuron_obj)"
   ]
  },
  {
   "cell_type": "code",
   "execution_count": 155,
   "metadata": {
    "scrolled": true
   },
   "outputs": [
    {
     "name": "stdout",
     "output_type": "stream",
     "text": [
      "multi_soma_limbs = [1]\n",
      "multi_touch_limbs = [4 8]\n",
      "\n",
      "\n",
      " -------- Working on limb 1------------\n",
      "Starting combinations to process = [(10, 39)]\n",
      "\n",
      "\n",
      "---- working on disconnecting 10 and 39\n",
      "---- This disconnects S0_0 from S1_0  \n",
      " Cut iteration 0\n",
      "Starting_edge inside branches_to_conept = [[1097960.  576547.  608714.]\n",
      " [1100130.  593355.  611840.]]\n",
      "At the start, starting_node (in terms of the skeleton, that shouldn't match the starting edge) = [10]\n",
      "printing out current edge:\n",
      "[[1100130.  593355.  611840.]\n",
      " [1097960.  576547.  608714.]]\n",
      "edge_endpoints_to_process was empty so exiting loop after 42 iterations\n",
      "starting_node in concept map (that should match the starting edge) = 10\n",
      "Total time for branches to concept conversion = 0.5726439952850342\n",
      "\n",
      "Shortest path = [10, 11, 23, 24, 31, 37, 39]\n",
      "\n",
      " --------- START OF GET BEST EDGE --------- \n",
      "Short segments to combine = []\n",
      "Found 2 high degree coordinates to cut\n",
      "Picking [1097960.  576547.  608714.] high degree coordinates to cut\n",
      "coordinate_branches = [4, 6, 10, 11]\n",
      "4 = red\n",
      "6 = aqua\n",
      "10 = purple\n",
      "11 = green\n"
     ]
    },
    {
     "data": {
      "application/vnd.jupyter.widget-view+json": {
       "model_id": "8fcacc04fe1a4a56aa73291022b8d198",
       "version_major": 2,
       "version_minor": 0
      },
      "text/plain": [
       "VBox(children=(Figure(camera=PerspectiveCamera(fov=46.0, position=(0.0, 0.0, 2.0), quaternion=(0.0, 0.0, 0.0, …"
      ]
     },
     "metadata": {},
     "output_type": "display_data"
    },
    {
     "name": "stdout",
     "output_type": "stream",
     "text": [
      "Angle between 4 and 6 = 88.88 \n",
      "Angle between 4 and 10 = 103.43 \n",
      "Angle between 4 and 11 = 63.57 \n",
      "Angle between 6 and 10 = 28.0 \n",
      "Angle between 6 and 11 = 127.56 \n",
      "Angle between 10 and 11 = 69.24 \n",
      "Final Matches = [[6, 10]]\n",
      "matched_branches_revised = [[6, 10]]\n",
      "Aligned Skeleton Parts\n"
     ]
    },
    {
     "data": {
      "application/vnd.jupyter.widget-view+json": {
       "model_id": "f3f36a7021c345e693e6b47d11cfaad1",
       "version_major": 2,
       "version_minor": 0
      },
      "text/plain": [
       "VBox(children=(Figure(camera=PerspectiveCamera(fov=46.0, position=(0.0, 0.0, 2.0), quaternion=(0.0, 0.0, 0.0, …"
      ]
     },
     "metadata": {},
     "output_type": "display_data"
    },
    {
     "data": {
      "application/vnd.jupyter.widget-view+json": {
       "model_id": "b540b087617a48229f754da41c77ee70",
       "version_major": 2,
       "version_minor": 0
      },
      "text/plain": [
       "VBox(children=(Figure(camera=PerspectiveCamera(fov=46.0, position=(0.0, 0.0, 2.0), quaternion=(0.0, 0.0, 0.0, …"
      ]
     },
     "metadata": {},
     "output_type": "display_data"
    },
    {
     "name": "stdout",
     "output_type": "stream",
     "text": [
      "Original graph\n"
     ]
    },
    {
     "data": {
      "image/png": "[encoded data removed]",
      "text/plain": [
       "<Figure size 432x288 with 1 Axes>"
      ]
     },
     "metadata": {},
     "output_type": "display_data"
    },
    {
     "name": "stdout",
     "output_type": "stream",
     "text": [
      "edges_to_delete = [array([ 4, 10]), array([10, 11])]\n",
      "edges_to_create = []\n"
     ]
    },
    {
     "ename": "Exception",
     "evalue": "",
     "output_type": "error",
     "traceback": [
      "\u001b[0;31m---------------------------------------------------------------------------\u001b[0m",
      "\u001b[0;31mException\u001b[0m                                 Traceback (most recent call last)",
      "\u001b[0;32m<ipython-input-155-4186d6d9f2af>\u001b[0m in \u001b[0;36m<module>\u001b[0;34m\u001b[0m\n\u001b[1;32m      2\u001b[0m limb_results = pru.multi_soma_split_suggestions(neuron_obj,\n\u001b[1;32m      3\u001b[0m                                 \u001b[0mverbose\u001b[0m\u001b[0;34m=\u001b[0m\u001b[0;32mTrue\u001b[0m\u001b[0;34m,\u001b[0m\u001b[0;34m\u001b[0m\u001b[0;34m\u001b[0m\u001b[0m\n\u001b[0;32m----> 4\u001b[0;31m                                 \u001b[0mplot_intermediates\u001b[0m\u001b[0;34m=\u001b[0m\u001b[0;32mTrue\u001b[0m\u001b[0;34m,\u001b[0m\u001b[0;34m\u001b[0m\u001b[0;34m\u001b[0m\u001b[0m\n\u001b[0m\u001b[1;32m      5\u001b[0m                                 )\n",
      "\u001b[0;32m/meshAfterParty/proofreading_utils.py\u001b[0m in \u001b[0;36mmulti_soma_split_suggestions\u001b[0;34m(neuron_obj, verbose, max_iterations, plot_suggestions, plot_suggestions_scatter_size, remove_segment_threshold, **kwargs)\u001b[0m\n\u001b[1;32m    495\u001b[0m                                                                 \u001b[0mremove_segment_threshold\u001b[0m\u001b[0;34m=\u001b[0m\u001b[0mremove_segment_threshold\u001b[0m\u001b[0;34m,\u001b[0m\u001b[0;34m\u001b[0m\u001b[0;34m\u001b[0m\u001b[0m\n\u001b[1;32m    496\u001b[0m                                                                                \u001b[0mverbose\u001b[0m\u001b[0;34m=\u001b[0m\u001b[0mverbose\u001b[0m\u001b[0;34m,\u001b[0m\u001b[0;34m\u001b[0m\u001b[0;34m\u001b[0m\u001b[0m\n\u001b[0;32m--> 497\u001b[0;31m                                                                               **kwargs)\n\u001b[0m\u001b[1;32m    498\u001b[0m                 \u001b[0;32mif\u001b[0m \u001b[0mverbose\u001b[0m\u001b[0;34m:\u001b[0m\u001b[0;34m\u001b[0m\u001b[0;34m\u001b[0m\u001b[0m\n\u001b[1;32m    499\u001b[0m                     \u001b[0mprint\u001b[0m\u001b[0;34m(\u001b[0m\u001b[0;34mf\"After get best cut: cut_edges = {cut_edges}, added_edges = {added_edges}\"\u001b[0m\u001b[0;34m)\u001b[0m\u001b[0;34m\u001b[0m\u001b[0;34m\u001b[0m\u001b[0m\n",
      "\u001b[0;32m/meshAfterParty/proofreading_utils.py\u001b[0m in \u001b[0;36mget_best_cut_edge\u001b[0;34m(curr_limb, cut_path, remove_segment_threshold, high_degree_offset, comparison_distance, match_threshold, skip_small_soma_connectors, small_soma_connectors_skeletal_threshold, double_back_threshold, offset, width_jump_threshold, verbose, **kwargs)\u001b[0m\n\u001b[1;32m    113\u001b[0m                                                                           \u001b[0mmatch_threshold\u001b[0m \u001b[0;34m=\u001b[0m\u001b[0mmatch_threshold\u001b[0m\u001b[0;34m,\u001b[0m\u001b[0;34m\u001b[0m\u001b[0;34m\u001b[0m\u001b[0m\n\u001b[1;32m    114\u001b[0m                                                 \u001b[0mverbose\u001b[0m \u001b[0;34m=\u001b[0m \u001b[0mverbose\u001b[0m\u001b[0;34m,\u001b[0m\u001b[0;34m\u001b[0m\u001b[0;34m\u001b[0m\u001b[0m\n\u001b[0;32m--> 115\u001b[0;31m                                                 \u001b[0;34m**\u001b[0m\u001b[0mkwargs\u001b[0m\u001b[0;34m\u001b[0m\u001b[0;34m\u001b[0m\u001b[0m\n\u001b[0m\u001b[1;32m    116\u001b[0m                                )\n\u001b[1;32m    117\u001b[0m \u001b[0;34m\u001b[0m\u001b[0m\n",
      "\u001b[0;32m/meshAfterParty/error_detection.py\u001b[0m in \u001b[0;36mresolving_crossovers\u001b[0;34m(limb_obj, coordinate, match_threshold, verbose, return_new_edges, return_subgraph, plot_intermediates, offset, comparison_distance, best_singular_match, **kwargs)\u001b[0m\n\u001b[1;32m    509\u001b[0m \u001b[0;34m\u001b[0m\u001b[0m\n\u001b[1;32m    510\u001b[0m \u001b[0;34m\u001b[0m\u001b[0m\n\u001b[0;32m--> 511\u001b[0;31m     \u001b[0;32mraise\u001b[0m \u001b[0mException\u001b[0m\u001b[0;34m(\u001b[0m\u001b[0;34m\"\"\u001b[0m\u001b[0;34m)\u001b[0m\u001b[0;34m\u001b[0m\u001b[0;34m\u001b[0m\u001b[0m\n\u001b[0m\u001b[1;32m    512\u001b[0m     \u001b[0;32mreturn\u001b[0m \u001b[0mreturn_value\u001b[0m\u001b[0;34m\u001b[0m\u001b[0;34m\u001b[0m\u001b[0m\n\u001b[1;32m    513\u001b[0m \u001b[0;34m\u001b[0m\u001b[0m\n",
      "\u001b[0;31mException\u001b[0m: "
     ]
    }
   ],
   "source": [
    "import proofreading_utils as pru\n",
    "limb_results = pru.multi_soma_split_suggestions(neuron_obj,\n",
    "                                verbose=True,\n",
    "                                plot_intermediates=True,\n",
    "                                )"
   ]
  },
  {
   "cell_type": "code",
   "execution_count": 141,
   "metadata": {},
   "outputs": [
    {
     "name": "stdout",
     "output_type": "stream",
     "text": [
      "> \u001b[0;32m/meshAfterParty/skeleton_utils.py\u001b[0m(5342)\u001b[0;36mendpoint_connectivity\u001b[0;34m()\u001b[0m\n",
      "\u001b[0;32m   5340 \u001b[0;31m        \u001b[0mprint_string\u001b[0m \u001b[0;34m=\u001b[0m \u001b[0;34mf\"Multiple endpoints matching: {endpoints_match}\"\u001b[0m\u001b[0;34m\u001b[0m\u001b[0;34m\u001b[0m\u001b[0m\n",
      "\u001b[0m\u001b[0;32m   5341 \u001b[0;31m        \u001b[0;32mif\u001b[0m \u001b[0mexceptions_flag\u001b[0m\u001b[0;34m:\u001b[0m\u001b[0;34m\u001b[0m\u001b[0;34m\u001b[0m\u001b[0m\n",
      "\u001b[0m\u001b[0;32m-> 5342 \u001b[0;31m            \u001b[0;32mraise\u001b[0m \u001b[0mException\u001b[0m\u001b[0;34m(\u001b[0m\u001b[0mprint_string\u001b[0m\u001b[0;34m)\u001b[0m\u001b[0;34m\u001b[0m\u001b[0;34m\u001b[0m\u001b[0m\n",
      "\u001b[0m\u001b[0;32m   5343 \u001b[0;31m        \u001b[0;32melse\u001b[0m\u001b[0;34m:\u001b[0m\u001b[0;34m\u001b[0m\u001b[0;34m\u001b[0m\u001b[0m\n",
      "\u001b[0m\u001b[0;32m   5344 \u001b[0;31m            \u001b[0mprint\u001b[0m\u001b[0;34m(\u001b[0m\u001b[0mprint_string\u001b[0m\u001b[0;34m)\u001b[0m\u001b[0;34m\u001b[0m\u001b[0;34m\u001b[0m\u001b[0m\n",
      "\u001b[0m\n",
      "ipdb> u\n",
      "> \u001b[0;32m/meshAfterParty/skeleton_utils.py\u001b[0m(5378)\u001b[0;36mshared_endpoint\u001b[0;34m()\u001b[0m\n",
      "\u001b[0;32m   5376 \u001b[0;31m    \u001b[0mend_1\u001b[0m \u001b[0;34m=\u001b[0m \u001b[0mfind_branch_endpoints\u001b[0m\u001b[0;34m(\u001b[0m\u001b[0mskeleton_1\u001b[0m\u001b[0;34m)\u001b[0m\u001b[0;34m\u001b[0m\u001b[0;34m\u001b[0m\u001b[0m\n",
      "\u001b[0m\u001b[0;32m   5377 \u001b[0;31m    \u001b[0mend_2\u001b[0m \u001b[0;34m=\u001b[0m \u001b[0mfind_branch_endpoints\u001b[0m\u001b[0;34m(\u001b[0m\u001b[0mskeleton_2\u001b[0m\u001b[0;34m)\u001b[0m\u001b[0;34m\u001b[0m\u001b[0;34m\u001b[0m\u001b[0m\n",
      "\u001b[0m\u001b[0;32m-> 5378 \u001b[0;31m    \u001b[0mnode_connectivity\u001b[0m \u001b[0;34m=\u001b[0m \u001b[0mendpoint_connectivity\u001b[0m\u001b[0;34m(\u001b[0m\u001b[0mend_1\u001b[0m\u001b[0;34m,\u001b[0m\u001b[0mend_2\u001b[0m\u001b[0;34m,\u001b[0m\u001b[0mprint_flag\u001b[0m\u001b[0;34m=\u001b[0m\u001b[0;32mFalse\u001b[0m\u001b[0;34m,\u001b[0m\u001b[0mreturn_coordinate\u001b[0m\u001b[0;34m=\u001b[0m\u001b[0;32mTrue\u001b[0m\u001b[0;34m)\u001b[0m\u001b[0;34m\u001b[0m\u001b[0;34m\u001b[0m\u001b[0m\n",
      "\u001b[0m\u001b[0;32m   5379 \u001b[0;31m    \u001b[0;32mreturn\u001b[0m \u001b[0mnode_connectivity\u001b[0m\u001b[0;34m\u001b[0m\u001b[0;34m\u001b[0m\u001b[0m\n",
      "\u001b[0m\u001b[0;32m   5380 \u001b[0;31m\u001b[0;34m\u001b[0m\u001b[0m\n",
      "\u001b[0m\n",
      "ipdb> u\n",
      "> \u001b[0;32m/meshAfterParty/proofreading_utils.py\u001b[0m(517)\u001b[0;36m<listcomp>\u001b[0;34m()\u001b[0m\n",
      "\u001b[0;32m    515 \u001b[0;31m            suggested_cut_points = [sk.shared_endpoint(curr_limb_copy[cut_e[0]].skeleton,\n",
      "\u001b[0m\u001b[0;32m    516 \u001b[0;31m                                                curr_limb_copy[cut_e[1]].skeleton)\n",
      "\u001b[0m\u001b[0;32m--> 517 \u001b[0;31m                                             for cut_e in total_soma_paths_to_cut]\n",
      "\u001b[0m\u001b[0;32m    518 \u001b[0;31m\u001b[0;34m\u001b[0m\u001b[0m\n",
      "\u001b[0m\u001b[0;32m    519 \u001b[0;31m            \u001b[0mlocal_results\u001b[0m\u001b[0;34m[\u001b[0m\u001b[0;34m\"coordinate_suggestions\"\u001b[0m\u001b[0;34m]\u001b[0m \u001b[0;34m=\u001b[0m\u001b[0msuggested_cut_points\u001b[0m\u001b[0;34m\u001b[0m\u001b[0;34m\u001b[0m\u001b[0m\n",
      "\u001b[0m\n",
      "ipdb> total_soma_paths_to_cut\n",
      "*** NameError: name 'total_soma_paths_to_cut' is not defined\n",
      "ipdb> total_soma_paths_to_cut\n",
      "*** NameError: name 'total_soma_paths_to_cut' is not defined\n",
      "ipdb> u\n",
      "> \u001b[0;32m/meshAfterParty/proofreading_utils.py\u001b[0m(517)\u001b[0;36mmulti_soma_split_suggestions\u001b[0;34m()\u001b[0m\n",
      "\u001b[0;32m    515 \u001b[0;31m            suggested_cut_points = [sk.shared_endpoint(curr_limb_copy[cut_e[0]].skeleton,\n",
      "\u001b[0m\u001b[0;32m    516 \u001b[0;31m                                                curr_limb_copy[cut_e[1]].skeleton)\n",
      "\u001b[0m\u001b[0;32m--> 517 \u001b[0;31m                                             for cut_e in total_soma_paths_to_cut]\n",
      "\u001b[0m\u001b[0;32m    518 \u001b[0;31m\u001b[0;34m\u001b[0m\u001b[0m\n",
      "\u001b[0m\u001b[0;32m    519 \u001b[0;31m            \u001b[0mlocal_results\u001b[0m\u001b[0;34m[\u001b[0m\u001b[0;34m\"coordinate_suggestions\"\u001b[0m\u001b[0;34m]\u001b[0m \u001b[0;34m=\u001b[0m\u001b[0msuggested_cut_points\u001b[0m\u001b[0;34m\u001b[0m\u001b[0;34m\u001b[0m\u001b[0m\n",
      "\u001b[0m\n",
      "ipdb> total_soma_paths_to_cut\n",
      "[array([1, 1]), array([2, 2]), array([1, 1]), array([2, 2]), array([1, 1]), array([2, 2]), array([1, 1]), array([2, 2]), array([1, 1]), array([2, 2]), array([1, 1]), array([2, 2]), array([1, 1]), array([2, 2]), array([1, 1]), array([2, 2]), array([1, 1]), array([2, 2]), array([1, 1]), array([2, 2]), array([1, 1]), array([2, 2])]\n",
      "ipdb> c\n"
     ]
    }
   ],
   "source": [
    "debug"
   ]
  },
  {
   "cell_type": "code",
   "execution_count": 146,
   "metadata": {},
   "outputs": [
    {
     "name": "stdout",
     "output_type": "stream",
     "text": [
      "> \u001b[0;32m/meshAfterParty/skeleton_utils.py\u001b[0m(5342)\u001b[0;36mendpoint_connectivity\u001b[0;34m()\u001b[0m\n",
      "\u001b[0;32m   5340 \u001b[0;31m        \u001b[0mprint_string\u001b[0m \u001b[0;34m=\u001b[0m \u001b[0;34mf\"Multiple endpoints matching: {endpoints_match}\"\u001b[0m\u001b[0;34m\u001b[0m\u001b[0;34m\u001b[0m\u001b[0m\n",
      "\u001b[0m\u001b[0;32m   5341 \u001b[0;31m        \u001b[0;32mif\u001b[0m \u001b[0mexceptions_flag\u001b[0m\u001b[0;34m:\u001b[0m\u001b[0;34m\u001b[0m\u001b[0;34m\u001b[0m\u001b[0m\n",
      "\u001b[0m\u001b[0;32m-> 5342 \u001b[0;31m            \u001b[0;32mraise\u001b[0m \u001b[0mException\u001b[0m\u001b[0;34m(\u001b[0m\u001b[0mprint_string\u001b[0m\u001b[0;34m)\u001b[0m\u001b[0;34m\u001b[0m\u001b[0;34m\u001b[0m\u001b[0m\n",
      "\u001b[0m\u001b[0;32m   5343 \u001b[0;31m        \u001b[0;32melse\u001b[0m\u001b[0;34m:\u001b[0m\u001b[0;34m\u001b[0m\u001b[0;34m\u001b[0m\u001b[0m\n",
      "\u001b[0m\u001b[0;32m   5344 \u001b[0;31m            \u001b[0mprint\u001b[0m\u001b[0;34m(\u001b[0m\u001b[0mprint_string\u001b[0m\u001b[0;34m)\u001b[0m\u001b[0;34m\u001b[0m\u001b[0;34m\u001b[0m\u001b[0m\n",
      "\u001b[0m\n",
      "ipdb> u\n",
      "> \u001b[0;32m/meshAfterParty/skeleton_utils.py\u001b[0m(5378)\u001b[0;36mshared_endpoint\u001b[0;34m()\u001b[0m\n",
      "\u001b[0;32m   5376 \u001b[0;31m    \u001b[0mend_1\u001b[0m \u001b[0;34m=\u001b[0m \u001b[0mfind_branch_endpoints\u001b[0m\u001b[0;34m(\u001b[0m\u001b[0mskeleton_1\u001b[0m\u001b[0;34m)\u001b[0m\u001b[0;34m\u001b[0m\u001b[0;34m\u001b[0m\u001b[0m\n",
      "\u001b[0m\u001b[0;32m   5377 \u001b[0;31m    \u001b[0mend_2\u001b[0m \u001b[0;34m=\u001b[0m \u001b[0mfind_branch_endpoints\u001b[0m\u001b[0;34m(\u001b[0m\u001b[0mskeleton_2\u001b[0m\u001b[0;34m)\u001b[0m\u001b[0;34m\u001b[0m\u001b[0;34m\u001b[0m\u001b[0m\n",
      "\u001b[0m\u001b[0;32m-> 5378 \u001b[0;31m    \u001b[0mnode_connectivity\u001b[0m \u001b[0;34m=\u001b[0m \u001b[0mendpoint_connectivity\u001b[0m\u001b[0;34m(\u001b[0m\u001b[0mend_1\u001b[0m\u001b[0;34m,\u001b[0m\u001b[0mend_2\u001b[0m\u001b[0;34m,\u001b[0m\u001b[0mprint_flag\u001b[0m\u001b[0;34m=\u001b[0m\u001b[0;32mFalse\u001b[0m\u001b[0;34m,\u001b[0m\u001b[0mreturn_coordinate\u001b[0m\u001b[0;34m=\u001b[0m\u001b[0;32mTrue\u001b[0m\u001b[0;34m)\u001b[0m\u001b[0;34m\u001b[0m\u001b[0;34m\u001b[0m\u001b[0m\n",
      "\u001b[0m\u001b[0;32m   5379 \u001b[0;31m    \u001b[0;32mreturn\u001b[0m \u001b[0mnode_connectivity\u001b[0m\u001b[0;34m\u001b[0m\u001b[0;34m\u001b[0m\u001b[0m\n",
      "\u001b[0m\u001b[0;32m   5380 \u001b[0;31m\u001b[0;34m\u001b[0m\u001b[0m\n",
      "\u001b[0m\n",
      "ipdb> u\n",
      "> \u001b[0;32m/meshAfterParty/proofreading_utils.py\u001b[0m(525)\u001b[0;36m<listcomp>\u001b[0;34m()\u001b[0m\n",
      "\u001b[0;32m    523 \u001b[0;31m            suggested_cut_points = [sk.shared_endpoint(curr_limb_copy[cut_e[0]].skeleton,\n",
      "\u001b[0m\u001b[0;32m    524 \u001b[0;31m                                                curr_limb_copy[cut_e[1]].skeleton)\n",
      "\u001b[0m\u001b[0;32m--> 525 \u001b[0;31m                                             for cut_e in total_soma_paths_to_cut]\n",
      "\u001b[0m\u001b[0;32m    526 \u001b[0;31m\u001b[0;34m\u001b[0m\u001b[0m\n",
      "\u001b[0m\u001b[0;32m    527 \u001b[0;31m            \u001b[0mlocal_results\u001b[0m\u001b[0;34m[\u001b[0m\u001b[0;34m\"coordinate_suggestions\"\u001b[0m\u001b[0;34m]\u001b[0m \u001b[0;34m=\u001b[0m\u001b[0msuggested_cut_points\u001b[0m\u001b[0;34m\u001b[0m\u001b[0;34m\u001b[0m\u001b[0m\n",
      "\u001b[0m\n",
      "ipdb> u\n",
      "> \u001b[0;32m/meshAfterParty/proofreading_utils.py\u001b[0m(525)\u001b[0;36mmulti_soma_split_suggestions\u001b[0;34m()\u001b[0m\n",
      "\u001b[0;32m    523 \u001b[0;31m            suggested_cut_points = [sk.shared_endpoint(curr_limb_copy[cut_e[0]].skeleton,\n",
      "\u001b[0m\u001b[0;32m    524 \u001b[0;31m                                                curr_limb_copy[cut_e[1]].skeleton)\n",
      "\u001b[0m\u001b[0;32m--> 525 \u001b[0;31m                                             for cut_e in total_soma_paths_to_cut]\n",
      "\u001b[0m\u001b[0;32m    526 \u001b[0;31m\u001b[0;34m\u001b[0m\u001b[0m\n",
      "\u001b[0m\u001b[0;32m    527 \u001b[0;31m            \u001b[0mlocal_results\u001b[0m\u001b[0;34m[\u001b[0m\u001b[0;34m\"coordinate_suggestions\"\u001b[0m\u001b[0;34m]\u001b[0m \u001b[0;34m=\u001b[0m\u001b[0msuggested_cut_points\u001b[0m\u001b[0;34m\u001b[0m\u001b[0;34m\u001b[0m\u001b[0m\n",
      "\u001b[0m\n",
      "ipdb> total_soma_paths_to_cut\n",
      "[array([1, 1]), array([2, 2]), array([1, 1]), array([2, 2]), array([1, 1]), array([2, 2]), array([1, 1]), array([2, 2]), array([1, 1]), array([2, 2]), array([1, 1]), array([2, 2]), array([1, 1]), array([2, 2]), array([1, 1]), array([2, 2]), array([1, 1]), array([2, 2]), array([1, 1]), array([2, 2]), array([1, 1]), array([2, 2])]\n",
      "ipdb> curr_limb_copy.deleted_edges\n",
      "[array([1, 1]), array([2, 2]), array([1, 1]), array([2, 2]), array([1, 1]), array([2, 2]), array([1, 1]), array([2, 2]), array([1, 1]), array([2, 2]), array([1, 1]), array([2, 2]), array([1, 1]), array([2, 2]), array([1, 1]), array([2, 2]), array([1, 1]), array([2, 2]), array([1, 1]), array([2, 2]), array([1, 1]), array([2, 2])]\n",
      "ipdb> curr_limb_copy.concept_network.edges()\n",
      "EdgeView([(2, 1), (0, 1)])\n",
      "ipdb> c\n"
     ]
    }
   ],
   "source": [
    "debug"
   ]
  },
  {
   "cell_type": "code",
   "execution_count": null,
   "metadata": {},
   "outputs": [],
   "source": []
  },
  {
   "cell_type": "code",
   "execution_count": 101,
   "metadata": {},
   "outputs": [],
   "source": [
    "import system_utils as su"
   ]
  },
  {
   "cell_type": "code",
   "execution_count": 112,
   "metadata": {},
   "outputs": [],
   "source": [
    "curr_limb = su.decompress_pickle(\"curr_limb\")"
   ]
  },
  {
   "cell_type": "code",
   "execution_count": 115,
   "metadata": {},
   "outputs": [
    {
     "data": {
      "text/plain": [
       "OutEdgeView([(1, 2), (1, 0)])"
      ]
     },
     "execution_count": 115,
     "metadata": {},
     "output_type": "execute_result"
    }
   ],
   "source": [
    "curr_limb.concept_network_directional.edges()"
   ]
  },
  {
   "cell_type": "code",
   "execution_count": 123,
   "metadata": {},
   "outputs": [
    {
     "data": {
      "text/plain": [
       "(1980.2430617399618, 1891.0745200668418)"
      ]
     },
     "execution_count": 123,
     "metadata": {},
     "output_type": "execute_result"
    }
   ],
   "source": [
    "sk.calculate_skeleton_distance(curr_limb[1].skeleton),sk.calculate_skeleton_distance(curr_limb[0].skeleton)"
   ]
  },
  {
   "cell_type": "code",
   "execution_count": 121,
   "metadata": {},
   "outputs": [
    {
     "data": {
      "text/plain": [
       "[]"
      ]
     },
     "execution_count": 121,
     "metadata": {},
     "output_type": "execute_result"
    }
   ],
   "source": [
    "up_sk"
   ]
  },
  {
   "cell_type": "code",
   "execution_count": null,
   "metadata": {},
   "outputs": [],
   "source": [
    "curr_limb[]"
   ]
  },
  {
   "cell_type": "code",
   "execution_count": 136,
   "metadata": {},
   "outputs": [
    {
     "name": "stdout",
     "output_type": "stream",
     "text": [
      "common_endpoint = [1128852.88825061  565209.63365708  595024.28706075]\n",
      "Base needs flipping\n",
      "Skeleton after flip = [[[1128852.88825061  565209.63365708  595024.28706075]\n",
      "  [1128094.77993148  565660.65054224  595150.26065355]]\n",
      "\n",
      " [[1128094.77993148  565660.65054224  595150.26065355]\n",
      "  [1127244.          566166.8         595291.63333333]]]\n",
      "Base offset = 1000\n",
      "Base: Passed the offset phase but was not long enough for comparison\n",
      "Base: Not using offset \n",
      "--- Upstream iteration: 0 -----\n",
      "upstream_skeleton_ordered 1402.2317315098717 = [[[1128583.96620801  566490.41095622  595210.83180443]\n",
      "  [1128768.39626891  565593.02286676  594865.94165721]]\n",
      "\n",
      " [[1128768.39626891  565593.02286676  594865.94165721]\n",
      "  [1128852.88825061  565209.63365708  595024.28706075]]]\n",
      "flip_flag = True\n",
      "upstream_offset = 1000\n",
      "Restricting to offset\n",
      "skeleton_minus_buffer 0 = []\n",
      "After subtracting the offset the length is: 0\n",
      "Subtracting the comparison was not successful so changing to 3000 and reiterating\n",
      "New upstream_node = None\n",
      "Breaking because hit None upstream node\n",
      "No skeletons to stack so returning empty list\n",
      "upstream_final_skeleton = []\n",
      "No upstream skeletons so doing backup\n",
      "Base needs flipping\n",
      "Skeleton after flip = [[[1128852.88825061  565209.63365708  595024.28706075]\n",
      "  [1128768.39626891  565593.02286676  594865.94165721]]\n",
      "\n",
      " [[1128768.39626891  565593.02286676  594865.94165721]\n",
      "  [1128583.96620801  566490.41095622  595210.83180443]]]\n",
      "Base offset = 1000\n",
      "Base: Passed the offset phase but was not long enough for comparison\n",
      "Base: Not using offset \n"
     ]
    }
   ],
   "source": [
    "comparison_distance = 3000\n",
    "offset = 1000\n",
    "up_width,d_width,up_sk,d_sk = nru.branch_boundary_transition(curr_limb,\n",
    "                              edge=[1,0],\n",
    "                              comparison_distance = comparison_distance,\n",
    "                            offset=offset,\n",
    "                            verbose=True)"
   ]
  },
  {
   "cell_type": "code",
   "execution_count": 60,
   "metadata": {},
   "outputs": [],
   "source": [
    "curr_limb.set_concept_network_directional?"
   ]
  },
  {
   "cell_type": "code",
   "execution_count": 51,
   "metadata": {},
   "outputs": [],
   "source": [
    "curr_limb = su.decompress_pickle(\"curr_limb\")\n",
    "endpt = su.decompress_pickle(\"endpt\")\n",
    "divided_skeletons = su.decompress_pickle(\"divided_skeletons\")\n",
    "curr_limb_cp = su.decompress_pickle(\"curr_limb_cp\")"
   ]
  },
  {
   "cell_type": "code",
   "execution_count": 49,
   "metadata": {},
   "outputs": [
    {
     "data": {
      "text/plain": [
       "[array([[1127244.        ,  566166.8       ,  595291.63333333],\n",
       "        [1128852.88825061,  565209.63365708,  595024.28706075]]),\n",
       " array([[1128583.96620801,  566490.41095622,  595210.83180443],\n",
       "        [1128852.88825061,  565209.63365708,  595024.28706075]]),\n",
       " array([[1129066.16842105,  564937.47578947,  594995.56245614],\n",
       "        [1129071.40292105,  564942.71028947,  595000.79695614]])]"
      ]
     },
     "execution_count": 49,
     "metadata": {},
     "output_type": "execute_result"
    }
   ],
   "source": [
    "[sk.find_skeleton_endpoint_coordinates(k) for k in divided_skeletons]"
   ]
  },
  {
   "cell_type": "code",
   "execution_count": 45,
   "metadata": {},
   "outputs": [],
   "source": [
    "import skeleton_utils as sk"
   ]
  },
  {
   "cell_type": "code",
   "execution_count": 46,
   "metadata": {},
   "outputs": [
    {
     "data": {
      "text/plain": [
       "[array([[1127244.        ,  566166.8       ,  595291.63333333],\n",
       "        [1128852.88825061,  565209.63365708,  595024.28706075]]),\n",
       " array([[1128583.96620801,  566490.41095622,  595210.83180443],\n",
       "        [1128852.88825061,  565209.63365708,  595024.28706075]]),\n",
       " array([[1128852.88825061,  565209.63365708,  595024.28706075],\n",
       "        [1129176.6       ,  564805.96      ,  595736.94      ]])]"
      ]
     },
     "execution_count": 46,
     "metadata": {},
     "output_type": "execute_result"
    }
   ],
   "source": [
    "[sk.find_skeleton_endpoint_coordinates(k) for k in skeletons]"
   ]
  },
  {
   "cell_type": "code",
   "execution_count": 33,
   "metadata": {},
   "outputs": [],
   "source": []
  },
  {
   "cell_type": "code",
   "execution_count": 43,
   "metadata": {},
   "outputs": [
    {
     "data": {
      "text/plain": [
       "[array([1129176.6 ,  564805.96,  595736.94]),\n",
       " array([1128583.96620801,  566490.41095622,  595210.83180443]),\n",
       " TrackedArray([1127244.        ,  566166.8       ,  595291.63333333])]"
      ]
     },
     "execution_count": 43,
     "metadata": {},
     "output_type": "execute_result"
    }
   ],
   "source": [
    "soma_endpoints"
   ]
  },
  {
   "cell_type": "code",
   "execution_count": 52,
   "metadata": {},
   "outputs": [],
   "source": [
    "soma_endpoints = [k[\"starting_coordinate\"] for k in curr_limb_cp.all_concept_network_data]"
   ]
  },
  {
   "cell_type": "code",
   "execution_count": 53,
   "metadata": {},
   "outputs": [
    {
     "data": {
      "application/vnd.jupyter.widget-view+json": {
       "model_id": "32982f0b31bb43d6966ba3e9ab352bf4",
       "version_major": 2,
       "version_minor": 0
      },
      "text/plain": [
       "VBox(children=(Figure(camera=PerspectiveCamera(fov=46.0, position=(0.0, 0.0, 2.0), quaternion=(0.0, 0.0, 0.0, …"
      ]
     },
     "metadata": {},
     "output_type": "display_data"
    }
   ],
   "source": [
    "meshes,skeletons = nviz.limb_correspondence_plottable(curr_limb_cp.limb_correspondence)\n",
    "nviz.plot_objects(meshes=meshes,\n",
    "                 meshes_colors=\"random\",\n",
    "                 skeletons=skeletons,\n",
    "                 skeletons_colors=\"random\",\n",
    "                 scatters=soma_endpoints,\n",
    "                 scatter_size=0.4)"
   ]
  },
  {
   "cell_type": "code",
   "execution_count": null,
   "metadata": {},
   "outputs": [],
   "source": []
  },
  {
   "cell_type": "code",
   "execution_count": null,
   "metadata": {
    "scrolled": true
   },
   "outputs": [],
   "source": [
    "pru = reload(pru)\n",
    "nviz = reload(nviz)\n",
    "nviz.plot_split_suggestions_per_limb(neuron_obj,limb_results)"
   ]
  },
  {
   "cell_type": "markdown",
   "metadata": {},
   "source": [
    "# Practice Cleaning the Skeleton"
   ]
  },
  {
   "cell_type": "code",
   "execution_count": null,
   "metadata": {},
   "outputs": [],
   "source": [
    "ret_col = nviz.visualize_neuron(neuron_obj,\n",
    "                     visualize_type=[\"mesh\",\"skeleton\"],\n",
    "                     limb_branch_dict=dict(L0=\"all\"),\n",
    "                     return_color_dict=True)"
   ]
  },
  {
   "cell_type": "code",
   "execution_count": null,
   "metadata": {},
   "outputs": [],
   "source": [
    "# getting the skeleton widths for all the branches\n",
    "import matplotlib.pyplot as plt\n",
    "sk_list = [sk.calculate_skeleton_distance(curr_branch.skeleton) for curr_branch in neuron_obj[0]]\n",
    "plt.hist(sk_list)"
   ]
  },
  {
   "cell_type": "code",
   "execution_count": null,
   "metadata": {},
   "outputs": [],
   "source": [
    "curr_limb = neuron_obj[0]"
   ]
  },
  {
   "cell_type": "code",
   "execution_count": null,
   "metadata": {},
   "outputs": [],
   "source": []
  },
  {
   "cell_type": "code",
   "execution_count": null,
   "metadata": {},
   "outputs": [],
   "source": [
    "curr_limb_sk_cleaned,removed_sk = sk.clean_skeleton(neuron_obj[0].skeleton,\n",
    "                 distance_func=sk.skeletal_distance,\n",
    "                 min_distance_to_junction=4001,\n",
    "                 return_skeleton=True,\n",
    "                 endpoints_must_keep=[k[\"starting_coordinate\"] for k in curr_limb.all_concept_network_data],\n",
    "                 print_flag=True,\n",
    "                                        return_removed_skeletons=True)"
   ]
  },
  {
   "cell_type": "code",
   "execution_count": null,
   "metadata": {},
   "outputs": [],
   "source": [
    "removed_sk"
   ]
  },
  {
   "cell_type": "code",
   "execution_count": null,
   "metadata": {},
   "outputs": [],
   "source": [
    "nviz.plot_objects(curr_limb.mesh,\n",
    "                 skeletons=[curr_limb_sk_cleaned] + removed_sk,\n",
    "                 skeletons_colors=[\"black\",\"red\",\"red\"],\n",
    "                 #scatters=[k.reshape(-1,3) for k in removed_sk],\n",
    "                 #scatter_size=0.5\n",
    "                 )"
   ]
  },
  {
   "cell_type": "markdown",
   "metadata": {},
   "source": [
    "# how to figure out which of the branches still remain?"
   ]
  },
  {
   "cell_type": "code",
   "execution_count": null,
   "metadata": {},
   "outputs": [],
   "source": [
    "cleaned_branches = sk.decompose_skeleton_to_branches(curr_limb_sk_cleaned)\n",
    "original_branches = [k.skeleton for k in curr_limb]\n",
    "len(cleaned_branches),len(original_branches)"
   ]
  },
  {
   "cell_type": "code",
   "execution_count": null,
   "metadata": {},
   "outputs": [],
   "source": [
    "from tqdm_utils import tqdm\n",
    "from pykdtree.kdtree import KDTree\n",
    "\n",
    "def map_between_branches_lists(branches_1,branches_2):\n",
    "    \"\"\"\n",
    "    Purpose: \n",
    "    Will create a unique mapping of a branch\n",
    "    in the first list to the best fitting branch in the second\n",
    "    in terms of the most matching coordinates with a distance of 0\n",
    "    \n",
    "    Ex:\n",
    "    cleaned_branches = sk.decompose_skeleton_to_branches(curr_limb_sk_cleaned)\n",
    "    original_branches = [k.skeleton for k in curr_limb]\n",
    "    map_between_branches_lists(original_branches,cleaned_branches)\n",
    "    \"\"\"\n",
    "    old_to_new_branch_mapping = []\n",
    "\n",
    "    for o_br in tqdm(original_branches):\n",
    "        o_br_kd = KDTree(o_br.reshape(-1,3))\n",
    "\n",
    "        n_matches = [len(np.where(o_br_kd.query(c_br.reshape(-1,3))[0]==0)[0]) for c_br in cleaned_branches]\n",
    "        old_to_new_branch_mapping.append(np.argmax(n_matches))\n",
    "        \n",
    "    return np.array(old_to_new_branch_mapping)\n",
    "\n",
    "sk.map_between_branches_lists(original_branches,cleaned_branches)\n",
    "    "
   ]
  },
  {
   "cell_type": "code",
   "execution_count": null,
   "metadata": {},
   "outputs": [],
   "source": [
    "poisson_mesh = tu.poisson_surface_reconstruction(curr_branch.mesh)\n",
    "nviz.plot_objects(tu.split_significant_pieces(poisson_mesh)[0])"
   ]
  },
  {
   "cell_type": "code",
   "execution_count": null,
   "metadata": {},
   "outputs": [],
   "source": []
  },
  {
   "cell_type": "code",
   "execution_count": null,
   "metadata": {},
   "outputs": [],
   "source": [
    "curr_branch = neuron_obj[0][5]\n",
    "curr_branch.width_new"
   ]
  },
  {
   "cell_type": "code",
   "execution_count": null,
   "metadata": {},
   "outputs": [],
   "source": [
    "nviz.plot_limb_concept_network_2D(neuron_obj,\n",
    "                                 node_colors=ret_col)"
   ]
  },
  {
   "cell_type": "code",
   "execution_count": null,
   "metadata": {},
   "outputs": [],
   "source": []
  },
  {
   "cell_type": "markdown",
   "metadata": {},
   "source": [
    "# Split the Neuron"
   ]
  },
  {
   "cell_type": "code",
   "execution_count": null,
   "metadata": {},
   "outputs": [],
   "source": [
    "limb_results = pru.multi_soma_split_suggestions(neuron_obj,\n",
    "                                plot_suggestions=True)"
   ]
  },
  {
   "cell_type": "code",
   "execution_count": null,
   "metadata": {},
   "outputs": [],
   "source": [
    "limb_results"
   ]
  },
  {
   "cell_type": "code",
   "execution_count": null,
   "metadata": {},
   "outputs": [],
   "source": [
    "nviz.visualize_neuron(neuron_obj,\n",
    "                     limb_branch_dict=dict(),\n",
    "                     mesh_whole_neuron=True)"
   ]
  },
  {
   "cell_type": "code",
   "execution_count": null,
   "metadata": {},
   "outputs": [],
   "source": [
    "limb_results"
   ]
  },
  {
   "cell_type": "code",
   "execution_count": null,
   "metadata": {},
   "outputs": [],
   "source": [
    "nviz.plot_split_suggestions_per_limb(neuron_obj,\n",
    "                                    limb_results=limb_results,\n",
    "                                    scatter_size=0.7)"
   ]
  },
  {
   "cell_type": "code",
   "execution_count": null,
   "metadata": {},
   "outputs": [],
   "source": [
    "neuron_list = pru.split_neuron(neuron_obj,\n",
    "                plot_soma_limb_network=True,\n",
    "                 plot_seperated_neurons=True)"
   ]
  },
  {
   "cell_type": "code",
   "execution_count": null,
   "metadata": {},
   "outputs": [],
   "source": [
    "nviz.plot_soma_limb_concept_network(neuron_obj)"
   ]
  },
  {
   "cell_type": "code",
   "execution_count": null,
   "metadata": {},
   "outputs": [],
   "source": []
  }
 ],
 "metadata": {
  "kernelspec": {
   "display_name": "Python 3",
   "language": "python",
   "name": "python3"
  },
  "language_info": {
   "codemirror_mode": {
    "name": "ipython",
    "version": 3
   },
   "file_extension": ".py",
   "mimetype": "text/x-python",
   "name": "python",
   "nbconvert_exporter": "python",
   "pygments_lexer": "ipython3",
   "version": "3.6.9"
  }
 },
 "nbformat": 4,
 "nbformat_minor": 4
}
