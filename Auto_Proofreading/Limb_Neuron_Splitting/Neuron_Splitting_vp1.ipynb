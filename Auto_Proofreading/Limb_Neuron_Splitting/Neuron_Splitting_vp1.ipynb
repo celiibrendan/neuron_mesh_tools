{
 "cells": [
  {
   "cell_type": "code",
   "execution_count": null,
   "metadata": {},
   "outputs": [],
   "source": [
    "\"\"\"\n",
    "Purpose: To take in a whole neuron that could have any number of somas\n",
    "and then to split it into multiple neuron objects\n",
    "\n",
    "Pseudocode: \n",
    "1) Get all of the split suggestions\n",
    "2) Split all of the limbs that need splitting\n",
    "3) Once have split the limbs, split the neuron object into mutliple objects\n",
    "\n",
    "\n",
    "\"\"\""
   ]
  },
  {
   "cell_type": "code",
   "execution_count": 1,
   "metadata": {},
   "outputs": [],
   "source": [
    "%load_ext autoreload\n",
    "%autoreload 2"
   ]
  },
  {
   "cell_type": "code",
   "execution_count": 2,
   "metadata": {},
   "outputs": [],
   "source": [
    "from os import sys\n",
    "sys.path.append(\"/meshAfterParty/\")"
   ]
  },
  {
   "cell_type": "code",
   "execution_count": 3,
   "metadata": {},
   "outputs": [
    {
     "name": "stderr",
     "output_type": "stream",
     "text": [
      "INFO - 2020-12-27 23:09:14,641 - settings - Setting database.host to at-database.ad.bcm.edu\n",
      "INFO - 2020-12-27 23:09:14,642 - settings - Setting database.user to celiib\n",
      "INFO - 2020-12-27 23:09:14,643 - settings - Setting database.password to newceliipass\n",
      "INFO - 2020-12-27 23:09:14,698 - settings - Setting stores to {'minnie65': {'protocol': 'file', 'location': '/mnt/dj-stor01/platinum/minnie65', 'stage': '/mnt/dj-stor01/platinum/minnie65'}, 'meshes': {'protocol': 'file', 'location': '/mnt/dj-stor01/platinum/minnie65/02/meshes', 'stage': '/mnt/dj-stor01/platinum/minnie65/02/meshes'}, 'decimated_meshes': {'protocol': 'file', 'location': '/mnt/dj-stor01/platinum/minnie65/02/decimated_meshes', 'stage': '/mnt/dj-stor01/platinum/minnie65/02/decimated_meshes'}, 'skeletons': {'protocol': 'file', 'location': '/mnt/dj-stor01/platinum/minnie65/02/skeletons'}}\n",
      "INFO - 2020-12-27 23:09:14,699 - settings - Setting enable_python_native_blobs to True\n",
      "INFO - 2020-12-27 23:09:14,712 - connection - Connected celiib@at-database.ad.bcm.edu:3306\n"
     ]
    },
    {
     "name": "stdout",
     "output_type": "stream",
     "text": [
      "Connecting celiib@at-database.ad.bcm.edu:3306\n"
     ]
    },
    {
     "name": "stderr",
     "output_type": "stream",
     "text": [
      "INFO - 2020-12-27 23:09:14,938 - settings - Setting enable_python_native_blobs to True\n"
     ]
    }
   ],
   "source": [
    "from importlib import reload\n",
    "\n",
    "import neuron_utils as nru\n",
    "\n",
    "import neuron\n",
    "\n",
    "import neuron_visualizations as nviz\n",
    "\n",
    "import time\n",
    "\n",
    "import datajoint_utils as du\n",
    "\n",
    "import numpy as np"
   ]
  },
  {
   "cell_type": "markdown",
   "metadata": {},
   "source": [
    "# Picking the Neuron"
   ]
  },
  {
   "cell_type": "code",
   "execution_count": 4,
   "metadata": {},
   "outputs": [
    {
     "name": "stderr",
     "output_type": "stream",
     "text": [
      "INFO - 2020-12-27 23:09:16,559 - settings - Setting enable_python_native_blobs to True\n",
      "INFO - 2020-12-27 23:09:16,785 - settings - Setting enable_python_native_blobs to True\n"
     ]
    }
   ],
   "source": [
    "minnie,schema = du.configure_minnie_vm()"
   ]
  },
  {
   "cell_type": "code",
   "execution_count": 5,
   "metadata": {},
   "outputs": [
    {
     "data": {
      "text/html": [
       "\n",
       "        \n",
       "        <style type=\"text/css\">\n",
       "            .Relation{\n",
       "                border-collapse:collapse;\n",
       "            }\n",
       "            .Relation th{\n",
       "                background: #A0A0A0; color: #ffffff; padding:4px; border:#f0e0e0 1px solid;\n",
       "                font-weight: normal; font-family: monospace; font-size: 100%;\n",
       "            }\n",
       "            .Relation td{\n",
       "                padding:4px; border:#f0e0e0 1px solid; font-size:100%;\n",
       "            }\n",
       "            .Relation tr:nth-child(odd){\n",
       "                background: #ffffff;\n",
       "            }\n",
       "            .Relation tr:nth-child(even){\n",
       "                background: #f3f1ff;\n",
       "            }\n",
       "            /* Tooltip container */\n",
       "            .djtooltip {\n",
       "            }\n",
       "            /* Tooltip text */\n",
       "            .djtooltip .djtooltiptext {\n",
       "                visibility: hidden;\n",
       "                width: 120px;\n",
       "                background-color: black;\n",
       "                color: #fff;\n",
       "                text-align: center;\n",
       "                padding: 5px 0;\n",
       "                border-radius: 6px;\n",
       "                /* Position the tooltip text - see examples below! */\n",
       "                position: absolute;\n",
       "                z-index: 1;\n",
       "            }\n",
       "            #primary {\n",
       "                font-weight: bold;\n",
       "                color: black;\n",
       "            }\n",
       "\n",
       "            #nonprimary {\n",
       "                font-weight: normal;\n",
       "                color: white;\n",
       "            }\n",
       "\n",
       "            /* Show the tooltip text when you mouse over the tooltip container */\n",
       "            .djtooltip:hover .djtooltiptext {\n",
       "                visibility: visible;\n",
       "            }\n",
       "        </style>\n",
       "        \n",
       "        <b></b>\n",
       "            <div style=\"max-height:1000px;max-width:1500px;overflow:auto;\">\n",
       "            <table border=\"1\" class=\"Relation\">\n",
       "                <thead> <tr style=\"text-align: right;\"> <th> <div class=\"djtooltip\">\n",
       "                                <p id=\"primary\">segment_id</p>\n",
       "                                <span class=\"djtooltiptext\">segment id unique within each Segmentation</span>\n",
       "                            </div></th><th><div class=\"djtooltip\">\n",
       "                                <p id=\"primary\">decimation_version</p>\n",
       "                                <span class=\"djtooltiptext\"></span>\n",
       "                            </div></th><th><div class=\"djtooltip\">\n",
       "                                <p id=\"primary\">decimation_ratio</p>\n",
       "                                <span class=\"djtooltiptext\">ratio of remaining mesh vertices/faces (which ones depends on what metric the decimation technique uses)</span>\n",
       "                            </div></th><th><div class=\"djtooltip\">\n",
       "                                <p id=\"nonprimary\">decomposition</p>\n",
       "                                <span class=\"djtooltiptext\"></span>\n",
       "                            </div></th><th><div class=\"djtooltip\">\n",
       "                                <p id=\"nonprimary\">n_vertices</p>\n",
       "                                <span class=\"djtooltiptext\">number of vertices</span>\n",
       "                            </div></th><th><div class=\"djtooltip\">\n",
       "                                <p id=\"nonprimary\">n_faces</p>\n",
       "                                <span class=\"djtooltiptext\">number of faces</span>\n",
       "                            </div></th><th><div class=\"djtooltip\">\n",
       "                                <p id=\"nonprimary\">n_error_limbs</p>\n",
       "                                <span class=\"djtooltiptext\">the number of limbs that are touching multiple somas or 1 soma in multiple places</span>\n",
       "                            </div></th><th><div class=\"djtooltip\">\n",
       "                                <p id=\"nonprimary\">n_same_soma_multi_touching_limbs</p>\n",
       "                                <span class=\"djtooltiptext\">number of limbs that touch the same soma multiple times</span>\n",
       "                            </div></th><th><div class=\"djtooltip\">\n",
       "                                <p id=\"nonprimary\">n_multi_soma_touching_limbs</p>\n",
       "                                <span class=\"djtooltiptext\">number of limbs that touch multiple somas</span>\n",
       "                            </div></th><th><div class=\"djtooltip\">\n",
       "                                <p id=\"nonprimary\">n_somas</p>\n",
       "                                <span class=\"djtooltiptext\">number of soma meshes detected</span>\n",
       "                            </div></th><th><div class=\"djtooltip\">\n",
       "                                <p id=\"nonprimary\">n_limbs</p>\n",
       "                                <span class=\"djtooltiptext\"></span>\n",
       "                            </div></th><th><div class=\"djtooltip\">\n",
       "                                <p id=\"nonprimary\">n_branches</p>\n",
       "                                <span class=\"djtooltiptext\"></span>\n",
       "                            </div></th><th><div class=\"djtooltip\">\n",
       "                                <p id=\"nonprimary\">max_limb_n_branches</p>\n",
       "                                <span class=\"djtooltiptext\"></span>\n",
       "                            </div></th><th><div class=\"djtooltip\">\n",
       "                                <p id=\"nonprimary\">skeletal_length</p>\n",
       "                                <span class=\"djtooltiptext\"></span>\n",
       "                            </div></th><th><div class=\"djtooltip\">\n",
       "                                <p id=\"nonprimary\">max_limb_skeletal_length</p>\n",
       "                                <span class=\"djtooltiptext\"></span>\n",
       "                            </div></th><th><div class=\"djtooltip\">\n",
       "                                <p id=\"nonprimary\">median_branch_length</p>\n",
       "                                <span class=\"djtooltiptext\">gives information on average skeletal length to next branch point</span>\n",
       "                            </div></th><th><div class=\"djtooltip\">\n",
       "                                <p id=\"nonprimary\">width_median</p>\n",
       "                                <span class=\"djtooltiptext\">median width from mesh center without spines removed</span>\n",
       "                            </div></th><th><div class=\"djtooltip\">\n",
       "                                <p id=\"nonprimary\">width_no_spine_median</p>\n",
       "                                <span class=\"djtooltiptext\">median width from mesh center with spines removed</span>\n",
       "                            </div></th><th><div class=\"djtooltip\">\n",
       "                                <p id=\"nonprimary\">width_90_perc</p>\n",
       "                                <span class=\"djtooltiptext\">90th percentile for width without spines removed</span>\n",
       "                            </div></th><th><div class=\"djtooltip\">\n",
       "                                <p id=\"nonprimary\">width_no_spine_90_perc</p>\n",
       "                                <span class=\"djtooltiptext\">90th percentile for width with spines removed</span>\n",
       "                            </div></th><th><div class=\"djtooltip\">\n",
       "                                <p id=\"nonprimary\">n_spines</p>\n",
       "                                <span class=\"djtooltiptext\"></span>\n",
       "                            </div></th><th><div class=\"djtooltip\">\n",
       "                                <p id=\"nonprimary\">spine_density</p>\n",
       "                                <span class=\"djtooltiptext\">n_spines/ skeletal_length</span>\n",
       "                            </div></th><th><div class=\"djtooltip\">\n",
       "                                <p id=\"nonprimary\">spines_per_branch</p>\n",
       "                                <span class=\"djtooltiptext\"></span>\n",
       "                            </div></th><th><div class=\"djtooltip\">\n",
       "                                <p id=\"nonprimary\">skeletal_length_eligible</p>\n",
       "                                <span class=\"djtooltiptext\">the skeletal length for all branches searched for spines</span>\n",
       "                            </div></th><th><div class=\"djtooltip\">\n",
       "                                <p id=\"nonprimary\">n_spine_eligible_branches</p>\n",
       "                                <span class=\"djtooltiptext\">the number of branches that were checked for spines because passed width threshold</span>\n",
       "                            </div></th><th><div class=\"djtooltip\">\n",
       "                                <p id=\"nonprimary\">spine_density_eligible</p>\n",
       "                                <span class=\"djtooltiptext\">n_spines/skeletal_length_eligible</span>\n",
       "                            </div></th><th><div class=\"djtooltip\">\n",
       "                                <p id=\"nonprimary\">spines_per_branch_eligible</p>\n",
       "                                <span class=\"djtooltiptext\">n_spines/n_spine_eligible_branches</span>\n",
       "                            </div></th><th><div class=\"djtooltip\">\n",
       "                                <p id=\"nonprimary\">total_spine_volume</p>\n",
       "                                <span class=\"djtooltiptext\">the sum of all spine volume</span>\n",
       "                            </div></th><th><div class=\"djtooltip\">\n",
       "                                <p id=\"nonprimary\">spine_volume_median</p>\n",
       "                                <span class=\"djtooltiptext\">median of the spine volume for those spines with able to calculate volume</span>\n",
       "                            </div></th><th><div class=\"djtooltip\">\n",
       "                                <p id=\"nonprimary\">spine_volume_density</p>\n",
       "                                <span class=\"djtooltiptext\">total_spine_volume/skeletal_length</span>\n",
       "                            </div></th><th><div class=\"djtooltip\">\n",
       "                                <p id=\"nonprimary\">spine_volume_density_eligible</p>\n",
       "                                <span class=\"djtooltiptext\">total_spine_volume/skeletal_length_eligible</span>\n",
       "                            </div></th><th><div class=\"djtooltip\">\n",
       "                                <p id=\"nonprimary\">spine_volume_per_branch_eligible</p>\n",
       "                                <span class=\"djtooltiptext\">total_spine_volume/n_spine_eligible_branches</span>\n",
       "                            </div></th><th><div class=\"djtooltip\">\n",
       "                                <p id=\"nonprimary\">run_time</p>\n",
       "                                <span class=\"djtooltiptext\">the amount of time to run (seconds)</span>\n",
       "                            </div> </th> </tr> </thead>\n",
       "                <tbody> <tr> <td>864691134988402042</td>\n",
       "<td>0</td>\n",
       "<td>0.25</td>\n",
       "<td>=BLOB=</td>\n",
       "<td>939750</td>\n",
       "<td>1891203</td>\n",
       "<td>1</td>\n",
       "<td>0</td>\n",
       "<td>1</td>\n",
       "<td>2</td>\n",
       "<td>11</td>\n",
       "<td>260</td>\n",
       "<td>129</td>\n",
       "<td>9926423.076049272</td>\n",
       "<td>3837120.3077007174</td>\n",
       "<td>19498.793</td>\n",
       "<td>99.274</td>\n",
       "<td>99.274</td>\n",
       "<td>489.663</td>\n",
       "<td>475.385</td>\n",
       "<td>3464</td>\n",
       "<td>0.00034896759622890023</td>\n",
       "<td>13.323076923076924</td>\n",
       "<td>6602403.65</td>\n",
       "<td>127</td>\n",
       "<td>nan</td>\n",
       "<td>nan</td>\n",
       "<td>158333783964.6377</td>\n",
       "<td>22787252.596668243</td>\n",
       "<td>15950.739027703696</td>\n",
       "<td>23981.233556454503</td>\n",
       "<td>1246722708.382974</td>\n",
       "<td>2086.0103</td></tr><tr><td>864691134988472442</td>\n",
       "<td>0</td>\n",
       "<td>0.25</td>\n",
       "<td>=BLOB=</td>\n",
       "<td>760380</td>\n",
       "<td>1540479</td>\n",
       "<td>2</td>\n",
       "<td>2</td>\n",
       "<td>1</td>\n",
       "<td>2</td>\n",
       "<td>13</td>\n",
       "<td>363</td>\n",
       "<td>156</td>\n",
       "<td>8953235.669383887</td>\n",
       "<td>4544614.922947489</td>\n",
       "<td>14310.191</td>\n",
       "<td>84.402</td>\n",
       "<td>84.402</td>\n",
       "<td>468.087</td>\n",
       "<td>373.666</td>\n",
       "<td>2735</td>\n",
       "<td>0.0003054761542078572</td>\n",
       "<td>7.534435261707989</td>\n",
       "<td>3995011.885</td>\n",
       "<td>125</td>\n",
       "<td>nan</td>\n",
       "<td>nan</td>\n",
       "<td>141833693783.9872</td>\n",
       "<td>29636743.193003334</td>\n",
       "<td>15841.612911966098</td>\n",
       "<td>35502.696329021615</td>\n",
       "<td>1134669550.2718978</td>\n",
       "<td>2332.3713</td></tr><tr><td>864691135012400886</td>\n",
       "<td>0</td>\n",
       "<td>0.25</td>\n",
       "<td>=BLOB=</td>\n",
       "<td>802480</td>\n",
       "<td>1644474</td>\n",
       "<td>1</td>\n",
       "<td>1</td>\n",
       "<td>1</td>\n",
       "<td>2</td>\n",
       "<td>16</td>\n",
       "<td>269</td>\n",
       "<td>96</td>\n",
       "<td>7875858.169030763</td>\n",
       "<td>2360988.8843716034</td>\n",
       "<td>18603.612</td>\n",
       "<td>255.953</td>\n",
       "<td>230.461</td>\n",
       "<td>454.247</td>\n",
       "<td>405.981</td>\n",
       "<td>3810</td>\n",
       "<td>0.00048375680697013807</td>\n",
       "<td>14.1635687732342</td>\n",
       "<td>6797185.75</td>\n",
       "<td>192</td>\n",
       "<td>nan</td>\n",
       "<td>nan</td>\n",
       "<td>237479305298.37152</td>\n",
       "<td>35811946.28458786</td>\n",
       "<td>30152.816391765566</td>\n",
       "<td>34937.88665380691</td>\n",
       "<td>1236871381.7623518</td>\n",
       "<td>10256.3515</td></tr><tr><td>864691135081658359</td>\n",
       "<td>0</td>\n",
       "<td>0.25</td>\n",
       "<td>=BLOB=</td>\n",
       "<td>1607079</td>\n",
       "<td>3235599</td>\n",
       "<td>2</td>\n",
       "<td>2</td>\n",
       "<td>1</td>\n",
       "<td>2</td>\n",
       "<td>16</td>\n",
       "<td>566</td>\n",
       "<td>222</td>\n",
       "<td>17383118.66936267</td>\n",
       "<td>6172738.160942182</td>\n",
       "<td>16478.245</td>\n",
       "<td>104.692</td>\n",
       "<td>104.692</td>\n",
       "<td>487.313</td>\n",
       "<td>428.015</td>\n",
       "<td>6643</td>\n",
       "<td>0.000382152370144497</td>\n",
       "<td>11.736749116607774</td>\n",
       "<td>10212426.203</td>\n",
       "<td>268</td>\n",
       "<td>nan</td>\n",
       "<td>nan</td>\n",
       "<td>279434899541.12573</td>\n",
       "<td>20787632.10667928</td>\n",
       "<td>16075.072882843688</td>\n",
       "<td>27362.24419022377</td>\n",
       "<td>1042667535.6012154</td>\n",
       "<td>24169.9911</td></tr><tr><td>864691135103989069</td>\n",
       "<td>0</td>\n",
       "<td>0.25</td>\n",
       "<td>=BLOB=</td>\n",
       "<td>1245458</td>\n",
       "<td>2502307</td>\n",
       "<td>1</td>\n",
       "<td>0</td>\n",
       "<td>1</td>\n",
       "<td>2</td>\n",
       "<td>16</td>\n",
       "<td>331</td>\n",
       "<td>79</td>\n",
       "<td>11756897.144402271</td>\n",
       "<td>2465284.4707440175</td>\n",
       "<td>20465.579</td>\n",
       "<td>321.001</td>\n",
       "<td>265.448</td>\n",
       "<td>491.55</td>\n",
       "<td>445.508</td>\n",
       "<td>5678</td>\n",
       "<td>0.0004829505549177511</td>\n",
       "<td>17.154078549848943</td>\n",
       "<td>8429003.434</td>\n",
       "<td>209</td>\n",
       "<td>nan</td>\n",
       "<td>nan</td>\n",
       "<td>303415329029.90393</td>\n",
       "<td>27481356.392502148</td>\n",
       "<td>25807.432463110978</td>\n",
       "<td>35996.583867319365</td>\n",
       "<td>1451747985.789014</td>\n",
       "<td>7967.3317</td></tr><tr><td>864691135207768697</td>\n",
       "<td>0</td>\n",
       "<td>0.25</td>\n",
       "<td>=BLOB=</td>\n",
       "<td>1067465</td>\n",
       "<td>2149606</td>\n",
       "<td>2</td>\n",
       "<td>1</td>\n",
       "<td>1</td>\n",
       "<td>2</td>\n",
       "<td>17</td>\n",
       "<td>260</td>\n",
       "<td>85</td>\n",
       "<td>8946738.643342396</td>\n",
       "<td>2846658.3866573754</td>\n",
       "<td>23190.431</td>\n",
       "<td>358.987</td>\n",
       "<td>309.871</td>\n",
       "<td>566.021</td>\n",
       "<td>515.849</td>\n",
       "<td>4621</td>\n",
       "<td>0.0005165010608014865</td>\n",
       "<td>17.773076923076925</td>\n",
       "<td>7806528.505</td>\n",
       "<td>214</td>\n",
       "<td>nan</td>\n",
       "<td>nan</td>\n",
       "<td>294025101920.43787</td>\n",
       "<td>27074805.833293915</td>\n",
       "<td>32863.942229857465</td>\n",
       "<td>37664.0015766442</td>\n",
       "<td>1373949074.3945694</td>\n",
       "<td>19055.2293</td></tr><tr><td>864691135210033344</td>\n",
       "<td>0</td>\n",
       "<td>0.25</td>\n",
       "<td>=BLOB=</td>\n",
       "<td>1093479</td>\n",
       "<td>2238756</td>\n",
       "<td>2</td>\n",
       "<td>1</td>\n",
       "<td>1</td>\n",
       "<td>2</td>\n",
       "<td>11</td>\n",
       "<td>367</td>\n",
       "<td>186</td>\n",
       "<td>11431382.161309652</td>\n",
       "<td>5830748.601730345</td>\n",
       "<td>16936.767</td>\n",
       "<td>188.963</td>\n",
       "<td>185.938</td>\n",
       "<td>437.996</td>\n",
       "<td>402.889</td>\n",
       "<td>4500</td>\n",
       "<td>0.0003936531852841539</td>\n",
       "<td>12.26158038147139</td>\n",
       "<td>7261235.173</td>\n",
       "<td>202</td>\n",
       "<td>nan</td>\n",
       "<td>nan</td>\n",
       "<td>276047625630.4887</td>\n",
       "<td>31026774.45333735</td>\n",
       "<td>24148.228248793228</td>\n",
       "<td>38016.621009182774</td>\n",
       "<td>1366572404.1113303</td>\n",
       "<td>18653.8569</td></tr><tr><td>864691135212674944</td>\n",
       "<td>0</td>\n",
       "<td>0.25</td>\n",
       "<td>=BLOB=</td>\n",
       "<td>821891</td>\n",
       "<td>1661605</td>\n",
       "<td>2</td>\n",
       "<td>0</td>\n",
       "<td>2</td>\n",
       "<td>2</td>\n",
       "<td>13</td>\n",
       "<td>276</td>\n",
       "<td>50</td>\n",
       "<td>8901794.878945973</td>\n",
       "<td>2257632.407570495</td>\n",
       "<td>16481.263</td>\n",
       "<td>157.454</td>\n",
       "<td>157.454</td>\n",
       "<td>432.699</td>\n",
       "<td>398.887</td>\n",
       "<td>3040</td>\n",
       "<td>0.0003415041619516574</td>\n",
       "<td>11.014492753623188</td>\n",
       "<td>6168985.084</td>\n",
       "<td>144</td>\n",
       "<td>nan</td>\n",
       "<td>nan</td>\n",
       "<td>138354947342.73975</td>\n",
       "<td>25635010.61016337</td>\n",
       "<td>15542.365244785535</td>\n",
       "<td>22427.50557163444</td>\n",
       "<td>960798245.4356927</td>\n",
       "<td>14894.2093</td></tr><tr><td>864691135269687205</td>\n",
       "<td>0</td>\n",
       "<td>0.25</td>\n",
       "<td>=BLOB=</td>\n",
       "<td>1019758</td>\n",
       "<td>2051275</td>\n",
       "<td>1</td>\n",
       "<td>1</td>\n",
       "<td>1</td>\n",
       "<td>2</td>\n",
       "<td>11</td>\n",
       "<td>250</td>\n",
       "<td>93</td>\n",
       "<td>7764840.822271044</td>\n",
       "<td>2385639.2008542637</td>\n",
       "<td>19374.993</td>\n",
       "<td>337.392</td>\n",
       "<td>283.507</td>\n",
       "<td>506.0</td>\n",
       "<td>477.952</td>\n",
       "<td>5531</td>\n",
       "<td>0.0007123133785480878</td>\n",
       "<td>22.124</td>\n",
       "<td>6967621.577</td>\n",
       "<td>186</td>\n",
       "<td>nan</td>\n",
       "<td>nan</td>\n",
       "<td>362283816849.28394</td>\n",
       "<td>37982485.86582438</td>\n",
       "<td>46656.95345745979</td>\n",
       "<td>51995.33482776629</td>\n",
       "<td>1947762456.1789458</td>\n",
       "<td>7826.955</td></tr><tr><td>864691135269718693</td>\n",
       "<td>0</td>\n",
       "<td>0.25</td>\n",
       "<td>=BLOB=</td>\n",
       "<td>1182832</td>\n",
       "<td>2399429</td>\n",
       "<td>5</td>\n",
       "<td>4</td>\n",
       "<td>1</td>\n",
       "<td>2</td>\n",
       "<td>19</td>\n",
       "<td>409</td>\n",
       "<td>139</td>\n",
       "<td>10313003.383606318</td>\n",
       "<td>3864515.4201073176</td>\n",
       "<td>12568.514</td>\n",
       "<td>124.794</td>\n",
       "<td>124.794</td>\n",
       "<td>595.026</td>\n",
       "<td>583.156</td>\n",
       "<td>3012</td>\n",
       "<td>0.00029205847103550003</td>\n",
       "<td>7.364303178484108</td>\n",
       "<td>6419070.381</td>\n",
       "<td>189</td>\n",
       "<td>nan</td>\n",
       "<td>nan</td>\n",
       "<td>132626341838.59761</td>\n",
       "<td>27253644.292085804</td>\n",
       "<td>12860.108438383928</td>\n",
       "<td>20661.30046356281</td>\n",
       "<td>701726676.3946964</td>\n",
       "<td>5529.4041</td></tr><tr><td>864691135307114822</td>\n",
       "<td>0</td>\n",
       "<td>0.25</td>\n",
       "<td>=BLOB=</td>\n",
       "<td>1206734</td>\n",
       "<td>2471803</td>\n",
       "<td>4</td>\n",
       "<td>4</td>\n",
       "<td>1</td>\n",
       "<td>2</td>\n",
       "<td>9</td>\n",
       "<td>453</td>\n",
       "<td>135</td>\n",
       "<td>13588998.815251242</td>\n",
       "<td>3803983.1224135263</td>\n",
       "<td>17404.577</td>\n",
       "<td>107.908</td>\n",
       "<td>107.908</td>\n",
       "<td>435.905</td>\n",
       "<td>369.304</td>\n",
       "<td>4961</td>\n",
       "<td>0.0003650747245950273</td>\n",
       "<td>10.951434878587197</td>\n",
       "<td>7459549.906</td>\n",
       "<td>216</td>\n",
       "<td>nan</td>\n",
       "<td>nan</td>\n",
       "<td>202856160125.47086</td>\n",
       "<td>15989806.642501831</td>\n",
       "<td>14927.969520300552</td>\n",
       "<td>27194.155502908547</td>\n",
       "<td>939148889.4697725</td>\n",
       "<td>20512.182</td></tr><tr><td>864691135334512105</td>\n",
       "<td>0</td>\n",
       "<td>0.25</td>\n",
       "<td>=BLOB=</td>\n",
       "<td>1284668</td>\n",
       "<td>2592422</td>\n",
       "<td>3</td>\n",
       "<td>2</td>\n",
       "<td>2</td>\n",
       "<td>2</td>\n",
       "<td>14</td>\n",
       "<td>445</td>\n",
       "<td>135</td>\n",
       "<td>12205138.970568722</td>\n",
       "<td>4130415.356765807</td>\n",
       "<td>13120.188</td>\n",
       "<td>189.129</td>\n",
       "<td>187.597</td>\n",
       "<td>510.747</td>\n",
       "<td>436.715</td>\n",
       "<td>5468</td>\n",
       "<td>0.0004480080081992879</td>\n",
       "<td>12.287640449438202</td>\n",
       "<td>7828571.951</td>\n",
       "<td>234</td>\n",
       "<td>nan</td>\n",
       "<td>nan</td>\n",
       "<td>359272550796.48016</td>\n",
       "<td>38963331.42283535</td>\n",
       "<td>29436.17042483697</td>\n",
       "<td>45892.476053769635</td>\n",
       "<td>1535352781.181539</td>\n",
       "<td>7960.1836</td> </tr> </tbody>\n",
       "            </table>\n",
       "            <p>...</p>\n",
       "            <p>Total: 84</p></div>\n",
       "            "
      ],
      "text/plain": [
       "*segment_id    *decimation_ve *decimation_ra decomposit n_vertices     n_faces     n_error_limbs  n_same_soma_mu n_multi_soma_t n_somas     n_limbs     n_branches     max_limb_n_bra skeletal_lengt max_limb_skele median_branch_ width_median   width_no_spine width_90_perc  width_no_spine n_spines     spine_density  spines_per_bra skeletal_lengt n_spine_eligib spine_density_ spines_per_bra total_spine_vo spine_volume_m spine_volume_d spine_volume_d spine_volume_p run_time      \n",
       "+------------+ +------------+ +------------+ +--------+ +------------+ +---------+ +------------+ +------------+ +------------+ +---------+ +---------+ +------------+ +------------+ +------------+ +------------+ +------------+ +------------+ +------------+ +------------+ +------------+ +----------+ +------------+ +------------+ +------------+ +------------+ +------------+ +------------+ +------------+ +------------+ +------------+ +------------+ +------------+ +------------+\n",
       "86469113498840 0              0.25           =BLOB=     939750         1891203     1              0              1              2           11          260            129            9926423.076049 3837120.307700 19498.793      99.274         99.274         489.663        475.385        3464         0.000348967596 13.32307692307 6602403.65     127            nan            nan            158333783964.6 22787252.59666 15950.73902770 23981.23355645 1246722708.382 2086.0103     \n",
       "86469113498847 0              0.25           =BLOB=     760380         1540479     2              2              1              2           13          363            156            8953235.669383 4544614.922947 14310.191      84.402         84.402         468.087        373.666        2735         0.000305476154 7.534435261707 3995011.885    125            nan            nan            141833693783.9 29636743.19300 15841.61291196 35502.69632902 1134669550.271 2332.3713     \n",
       "86469113501240 0              0.25           =BLOB=     802480         1644474     1              1              1              2           16          269            96             7875858.169030 2360988.884371 18603.612      255.953        230.461        454.247        405.981        3810         0.000483756806 14.16356877323 6797185.75     192            nan            nan            237479305298.3 35811946.28458 30152.81639176 34937.88665380 1236871381.762 10256.3515    \n",
       "86469113508165 0              0.25           =BLOB=     1607079        3235599     2              2              1              2           16          566            222            17383118.66936 6172738.160942 16478.245      104.692        104.692        487.313        428.015        6643         0.000382152370 11.73674911660 10212426.203   268            nan            nan            279434899541.1 20787632.10667 16075.07288284 27362.24419022 1042667535.601 24169.9911    \n",
       "86469113510398 0              0.25           =BLOB=     1245458        2502307     1              0              1              2           16          331            79             11756897.14440 2465284.470744 20465.579      321.001        265.448        491.55         445.508        5678         0.000482950554 17.15407854984 8429003.434    209            nan            nan            303415329029.9 27481356.39250 25807.43246311 35996.58386731 1451747985.789 7967.3317     \n",
       "86469113520776 0              0.25           =BLOB=     1067465        2149606     2              1              1              2           17          260            85             8946738.643342 2846658.386657 23190.431      358.987        309.871        566.021        515.849        4621         0.000516501060 17.77307692307 7806528.505    214            nan            nan            294025101920.4 27074805.83329 32863.94222985 37664.00157664 1373949074.394 19055.2293    \n",
       "86469113521003 0              0.25           =BLOB=     1093479        2238756     2              1              1              2           11          367            186            11431382.16130 5830748.601730 16936.767      188.963        185.938        437.996        402.889        4500         0.000393653185 12.26158038147 7261235.173    202            nan            nan            276047625630.4 31026774.45333 24148.22824879 38016.62100918 1366572404.111 18653.8569    \n",
       "86469113521267 0              0.25           =BLOB=     821891         1661605     2              0              2              2           13          276            50             8901794.878945 2257632.407570 16481.263      157.454        157.454        432.699        398.887        3040         0.000341504161 11.01449275362 6168985.084    144            nan            nan            138354947342.7 25635010.61016 15542.36524478 22427.50557163 960798245.4356 14894.2093    \n",
       "86469113526968 0              0.25           =BLOB=     1019758        2051275     1              1              1              2           11          250            93             7764840.822271 2385639.200854 19374.993      337.392        283.507        506.0          477.952        5531         0.000712313378 22.124         6967621.577    186            nan            nan            362283816849.2 37982485.86582 46656.95345745 51995.33482776 1947762456.178 7826.955      \n",
       "86469113526971 0              0.25           =BLOB=     1182832        2399429     5              4              1              2           19          409            139            10313003.38360 3864515.420107 12568.514      124.794        124.794        595.026        583.156        3012         0.000292058471 7.364303178484 6419070.381    189            nan            nan            132626341838.5 27253644.29208 12860.10843838 20661.30046356 701726676.3946 5529.4041     \n",
       "86469113530711 0              0.25           =BLOB=     1206734        2471803     4              4              1              2           9           453            135            13588998.81525 3803983.122413 17404.577      107.908        107.908        435.905        369.304        4961         0.000365074724 10.95143487858 7459549.906    216            nan            nan            202856160125.4 15989806.64250 14927.96952030 27194.15550290 939148889.4697 20512.182     \n",
       "86469113533451 0              0.25           =BLOB=     1284668        2592422     3              2              2              2           14          445            135            12205138.97056 4130415.356765 13120.188      189.129        187.597        510.747        436.715        5468         0.000448008008 12.28764044943 7828571.951    234            nan            nan            359272550796.4 38963331.42283 29436.17042483 45892.47605376 1535352781.181 7960.1836     \n",
       "   ...\n",
       " (Total: 84)"
      ]
     },
     "execution_count": 5,
     "metadata": {},
     "output_type": "execute_result"
    }
   ],
   "source": [
    "minnie.DecompositionMultiSoma() & \"n_somas>=2\" & \"n_limbs>7\""
   ]
  },
  {
   "cell_type": "code",
   "execution_count": 6,
   "metadata": {},
   "outputs": [],
   "source": [
    "segment_id = 864691135012400886 "
   ]
  },
  {
   "cell_type": "code",
   "execution_count": 12,
   "metadata": {},
   "outputs": [
    {
     "name": "stdout",
     "output_type": "stream",
     "text": [
      "Decompressing Neuron in minimal output mode...please wait\n"
     ]
    },
    {
     "data": {
      "text/plain": [
       "<neuron.Neuron at 0x7fb261d32748>"
      ]
     },
     "execution_count": 12,
     "metadata": {},
     "output_type": "execute_result"
    }
   ],
   "source": [
    "neuron_obj = (minnie.DecompositionMultiSoma & dict(segment_id=segment_id)).fetch1(\"decomposition\")\n",
    "neuron_obj"
   ]
  },
  {
   "cell_type": "code",
   "execution_count": 13,
   "metadata": {},
   "outputs": [
    {
     "name": "stdout",
     "output_type": "stream",
     "text": [
      "\n",
      " Working on visualization type: mesh\n",
      "\n",
      " Working on visualization type: skeleton\n"
     ]
    },
    {
     "data": {
      "application/vnd.jupyter.widget-view+json": {
       "model_id": "a739c2a155f3440aa75668111969955a",
       "version_major": 2,
       "version_minor": 0
      },
      "text/plain": [
       "VBox(children=(Figure(camera=PerspectiveCamera(fov=46.0, position=(0.0, 0.0, 2.0), quaternion=(0.0, 0.0, 0.0, …"
      ]
     },
     "metadata": {},
     "output_type": "display_data"
    }
   ],
   "source": [
    "nviz.visualize_neuron(neuron_obj,\n",
    "                     visualize_type=[\"mesh\",\"skeleton\"],\n",
    "                     limb_branch_dict=dict(),\n",
    "                     mesh_whole_neuron=True)"
   ]
  },
  {
   "cell_type": "markdown",
   "metadata": {},
   "source": [
    "# Preview of How th Neuron Will Need to be Split"
   ]
  },
  {
   "cell_type": "code",
   "execution_count": 14,
   "metadata": {},
   "outputs": [
    {
     "data": {
      "image/png": "[encoded data removed]",
      "text/plain": [
       "<Figure size 432x288 with 1 Axes>"
      ]
     },
     "metadata": {},
     "output_type": "display_data"
    }
   ],
   "source": [
    "nviz.plot_soma_limb_concept_network(neuron_obj)"
   ]
  },
  {
   "cell_type": "code",
   "execution_count": 15,
   "metadata": {},
   "outputs": [
    {
     "data": {
      "text/plain": [
       "array([0])"
      ]
     },
     "execution_count": 15,
     "metadata": {},
     "output_type": "execute_result"
    }
   ],
   "source": [
    "total_limbs_to_process = nru.error_limbs(neuron_obj)\n",
    "total_limbs_to_process"
   ]
  },
  {
   "cell_type": "markdown",
   "metadata": {},
   "source": [
    "# Modules for functionality"
   ]
  },
  {
   "cell_type": "code",
   "execution_count": 49,
   "metadata": {},
   "outputs": [],
   "source": [
    "import networkx as nx\n",
    "import networkx_utils as xu\n",
    "import trimesh_utils as tu\n",
    "import preprocessing_vp2 as pre"
   ]
  },
  {
   "cell_type": "code",
   "execution_count": 33,
   "metadata": {},
   "outputs": [],
   "source": [
    "verbose = False"
   ]
  },
  {
   "cell_type": "markdown",
   "metadata": {},
   "source": [
    "# Part 1: Get the limb Splitting suggestions"
   ]
  },
  {
   "cell_type": "code",
   "execution_count": 36,
   "metadata": {},
   "outputs": [],
   "source": [
    "import proofreading_utils as pru\n",
    "limb_results = pru.multi_soma_split_suggestions(neuron_obj,plot_intermediates=False,\n",
    "                                               verbose = verbose)"
   ]
  },
  {
   "cell_type": "code",
   "execution_count": 17,
   "metadata": {},
   "outputs": [
    {
     "data": {
      "text/plain": [
       "{0: [{'starting_node_1': 7,\n",
       "   'starting_node_2': 30,\n",
       "   'title': 'S1_0 from S1_1 ',\n",
       "   'edges_to_cut': [array([10, 33]), array([10, 34])],\n",
       "   'edges_to_add': [array([33, 34])],\n",
       "   'coordinate_suggestions': [array([852649., 445385., 726053.]),\n",
       "    array([852649., 445385., 726053.])],\n",
       "   'successful_disconnection': True},\n",
       "  {'starting_node_1': 7,\n",
       "   'starting_node_2': 24,\n",
       "   'title': 'S1_0 from S0_0 ',\n",
       "   'edges_to_cut': [],\n",
       "   'edges_to_add': [],\n",
       "   'coordinate_suggestions': [],\n",
       "   'successful_disconnection': True},\n",
       "  {'starting_node_1': 30,\n",
       "   'starting_node_2': 24,\n",
       "   'title': 'S1_1 from S0_0 ',\n",
       "   'edges_to_cut': [array([54, 55])],\n",
       "   'edges_to_add': [],\n",
       "   'coordinate_suggestions': [array([851370.72587155, 480111.39970713, 696534.06737003])],\n",
       "   'successful_disconnection': True}]}"
      ]
     },
     "execution_count": 17,
     "metadata": {},
     "output_type": "execute_result"
    }
   ],
   "source": [
    "limb_results"
   ]
  },
  {
   "cell_type": "markdown",
   "metadata": {},
   "source": [
    "# Part 2: Split the limbs using the suggested splits"
   ]
  },
  {
   "cell_type": "code",
   "execution_count": 44,
   "metadata": {},
   "outputs": [],
   "source": [
    "nru = reload(nru)"
   ]
  },
  {
   "cell_type": "code",
   "execution_count": 46,
   "metadata": {},
   "outputs": [],
   "source": [
    "split_neuron_obj = neuron_obj\n",
    "new_concept_networks = pru.split_suggestions_to_concept_networks(neuron_obj,limb_results)\n",
    "\n",
    "for curr_limb_idx,curr_limb_nx in new_concept_networks.items():\n",
    "    curr_limb_idx = int(curr_limb_idx)\n",
    "\n",
    "    conn_comp = list(nx.connected_components(curr_limb_nx))\n",
    "    \n",
    "    if verbose:\n",
    "        print(f\"\\n\\n---Working on Splitting Limb {curr_limb_idx} with {len(conn_comp)} components----\")\n",
    "\n",
    "    split_neuron_obj = pru.split_neuron_limb(split_neuron_obj,conn_comp,\n",
    "                         curr_limb_idx = curr_limb_idx,\n",
    "                                            verbose=verbose)"
   ]
  },
  {
   "cell_type": "code",
   "execution_count": 23,
   "metadata": {},
   "outputs": [
    {
     "data": {
      "image/png": "[encoded data removed]",
      "text/plain": [
       "<Figure size 432x288 with 1 Axes>"
      ]
     },
     "metadata": {},
     "output_type": "display_data"
    }
   ],
   "source": [
    "# visualize the results\n",
    "nviz.plot_soma_limb_concept_network(split_neuron_obj)"
   ]
  },
  {
   "cell_type": "markdown",
   "metadata": {},
   "source": [
    "# Part 3: Split into Multiple Neuron Objects (BY THEIR SOMAS)"
   ]
  },
  {
   "cell_type": "code",
   "execution_count": 47,
   "metadata": {},
   "outputs": [],
   "source": [
    "curr_error_limbs = nru.error_limbs(split_neuron_obj)\n",
    "\n",
    "if len(curr_error_limbs) > 0:\n",
    "    raise Exception(f\"There were still error limbs before trying the neuron object split: error limbs = {curr_error_limbs}\")"
   ]
  },
  {
   "cell_type": "code",
   "execution_count": 27,
   "metadata": {},
   "outputs": [
    {
     "data": {
      "text/plain": [
       "['S0', 'S1']"
      ]
     },
     "execution_count": 27,
     "metadata": {},
     "output_type": "execute_result"
    }
   ],
   "source": [
    "soma_names = split_neuron_obj.get_soma_node_names()\n"
   ]
  },
  {
   "cell_type": "code",
   "execution_count": 56,
   "metadata": {},
   "outputs": [
    {
     "name": "stdout",
     "output_type": "stream",
     "text": [
      "\n",
      "\n",
      "------ Working on Soma 0 -------\n",
      "Processing Neuorn in minimal output mode...please wait\n",
      "Total time for neuron instance creation = 0.495466947555542\n",
      "\n",
      "\n",
      "------ Working on Soma 1 -------\n",
      "Processing Neuorn in minimal output mode...please wait\n",
      "Total time for neuron instance creation = 0.42835545539855957\n"
     ]
    }
   ],
   "source": [
    "neuron_obj_list = []\n",
    "\n",
    "for curr_soma_idx,curr_soma_name in enumerate(soma_names):\n",
    "    print(f\"\\n\\n------ Working on Soma {curr_soma_idx} -------\")\n",
    "    \n",
    "    neuron_cp = split_neuron_obj\n",
    "    \n",
    "    #getting all the soma information we will need for preprocessing\n",
    "    soma_obj = neuron_cp[curr_soma_name]\n",
    "    curr_soma_meshes = [soma_obj.mesh]\n",
    "    curr_soma_sdfs = [soma_obj.sdf]\n",
    "    curr_soma_volume_ratios = [soma_obj.volume_ratio]\n",
    "    \n",
    "    \n",
    "    \n",
    "    \n",
    "    \n",
    "    # getting the limb information and new soma connectivity\n",
    "    limb_neighbors = np.sort(xu.get_neighbors(neuron_cp.concept_network,curr_soma_name)).astype(\"int\")\n",
    "    limb_neighbors = [int(k) for k in limb_neighbors]\n",
    "    \n",
    "    soma_to_piece_connectivity = neuron_cp.preprocessed_data[\"soma_to_piece_connectivity\"][curr_soma_idx]\n",
    "\n",
    "    if len(np.intersect1d(limb_neighbors,soma_to_piece_connectivity)) < len(soma_to_piece_connectivity):\n",
    "        raise Exception(f\"piece connectivity ({soma_to_piece_connectivity}) not match limb neighbors ({limb_neighbors})\")\n",
    "\n",
    "    curr_soma_to_piece_connectivity = {0:np.arange(0,len(limb_neighbors))}\n",
    "    \n",
    "    \n",
    "    \n",
    "    \n",
    "    \n",
    "    \n",
    "    #getting the whole mesh and limb face correspondence\n",
    "    mesh_list_for_whole = [soma_obj.mesh]\n",
    "\n",
    "    #for the limb meshes\n",
    "    limb_meshes = []\n",
    "\n",
    "    #for the limb mesh faces idx\n",
    "    counter = len(curr_soma_meshes[0].faces)\n",
    "    face_idx_list = [np.arange(0,counter)]\n",
    "\n",
    "    old_node_to_new_node_mapping = dict()\n",
    "\n",
    "\n",
    "    for i,k in  enumerate(limb_neighbors):\n",
    "\n",
    "        #getting the name mapping\n",
    "        old_node_to_new_node_mapping[k] = i\n",
    "\n",
    "        #getting the meshes of the limbs\n",
    "        limb_mesh = neuron_cp[k].mesh\n",
    "        limb_meshes.append(limb_mesh)\n",
    "\n",
    "\n",
    "        mesh_list_for_whole.append(limb_mesh)\n",
    "        face_length = len(limb_mesh.faces)\n",
    "        face_idx_list.append(np.arange(counter,counter + face_length))\n",
    "        counter += face_length\n",
    "\n",
    "    whole_mesh = tu.combine_meshes(mesh_list_for_whole)\n",
    "\n",
    "    \n",
    "    \n",
    "    \n",
    "    \n",
    "    \n",
    "    # generating the new limb correspondence:\n",
    "    curr_limb_correspondence = dict([(i,neuron_cp.preprocessed_data[\"limb_correspondence\"][k]) for i,k in enumerate(limb_neighbors)])\n",
    "\n",
    "    \n",
    "    \n",
    "    \n",
    "    \n",
    "    \n",
    "    \n",
    "    \n",
    "    # concept network generation\n",
    "    curr_limb_network_stating_info = dict()\n",
    "\n",
    "\n",
    "    for k in limb_neighbors:\n",
    "\n",
    "        local_starting_info = neuron_cp.preprocessed_data[\"limb_network_stating_info\"][k]\n",
    "\n",
    "        #making sure the soma has the right name\n",
    "        soma_keys = list(local_starting_info.keys())\n",
    "        if len(soma_keys) > 1:\n",
    "            raise Exception(\"More than one soma connection\")\n",
    "        else:\n",
    "            soma_key = soma_keys[0]\n",
    "\n",
    "        if soma_key != 0:\n",
    "            local_starting_info = {0:local_starting_info[soma_key]}\n",
    "\n",
    "\n",
    "        #making sure the soma group has the right name\n",
    "        starting_group_keys = list(local_starting_info[0].keys())\n",
    "        if len(starting_group_keys) > 1 or starting_group_keys[0] != 0:\n",
    "            raise Exception(\"Touching group was not equal to 0\")\n",
    "\n",
    "        #save the new starting info\n",
    "        curr_limb_network_stating_info[old_node_to_new_node_mapping[k]] = local_starting_info\n",
    "\n",
    "    # creating the new concept networks from the starting info\n",
    "    curr_limb_concept_networks=dict()\n",
    "\n",
    "    for curr_limb_idx,new_limb_correspondence_indiv in curr_limb_correspondence.items():\n",
    "        limb_to_soma_concept_networks = pre.calculate_limb_concept_networks(new_limb_correspondence_indiv,\n",
    "                                                                            curr_limb_network_stating_info[curr_limb_idx],\n",
    "                                                                            run_concept_network_checks=True,\n",
    "                                                                           )   \n",
    "\n",
    "        curr_limb_concept_networks[curr_limb_idx] = limb_to_soma_concept_networks\n",
    "    \n",
    "    \n",
    "    \n",
    "    \n",
    "    \n",
    "    \n",
    "    \n",
    "    \n",
    "    #limb labels:\n",
    "    curr_limb_labels = dict()\n",
    "\n",
    "    for k in limb_neighbors:\n",
    "        local_limb_labels = neuron_cp.preprocessed_data[\"limb_labels\"][k]\n",
    "        if local_limb_labels is None or local_limb_labels == \"Unlabeled\":\n",
    "            local_limb_labels = []\n",
    "\n",
    "        local_limb_labels.append(f\"Soma_{curr_soma_idx}_originally\")\n",
    "        curr_limb_labels[old_node_to_new_node_mapping[k]] = local_limb_labels\n",
    "\n",
    "        \n",
    "        \n",
    "        \n",
    "        \n",
    "        \n",
    "        \n",
    "        \n",
    "        \n",
    "    #using all of the data to create new preprocessing info\n",
    "    new_preprocessed_data = preprocessed_data= dict(\n",
    "            #soma data\n",
    "            soma_meshes = curr_soma_meshes,\n",
    "            soma_sdfs = curr_soma_sdfs,\n",
    "            soma_volume_ratios=curr_soma_volume_ratios,\n",
    "\n",
    "            #soma connectivity\n",
    "            soma_to_piece_connectivity = curr_soma_to_piece_connectivity,\n",
    "\n",
    "            # limb info\n",
    "            limb_correspondence=curr_limb_correspondence,\n",
    "            limb_meshes=limb_meshes,\n",
    "            limb_mehses_face_idx = face_idx_list,\n",
    "            limb_labels=curr_limb_labels,\n",
    "\n",
    "            #concept network info\n",
    "            limb_concept_networks=curr_limb_concept_networks,\n",
    "            limb_network_stating_info=curr_limb_network_stating_info,\n",
    "\n",
    "\n",
    "            # the other mesh pieces that will not be included\n",
    "            insignificant_limbs=None,\n",
    "            not_processed_soma_containing_meshes=None,\n",
    "            non_soma_touching_meshes=None,\n",
    "            inside_pieces=None,\n",
    "\n",
    "\n",
    "            )\n",
    "\n",
    "    limb_to_branch_objects = dict()\n",
    "    for k in limb_neighbors:\n",
    "        limb_obj = neuron_cp[int(k)]\n",
    "        branch_dict = dict([(b,limb_obj[int(b)]) for b in limb_obj.get_branch_names()])\n",
    "        limb_to_branch_objects[old_node_to_new_node_mapping[k]] = branch_dict\n",
    "\n",
    "    segment_id = neuron_cp.segment_id\n",
    "    description = f\"{neuron_cp.description}_soma_{curr_soma_idx}_split\"\n",
    "    \n",
    "    \n",
    "    \n",
    "    \n",
    "    \n",
    "    # new neuron object:\n",
    "    \n",
    "    single_split_neuron_obj = neuron.Neuron(mesh=whole_mesh,\n",
    "             segment_id=segment_id,\n",
    "             description=description,\n",
    "             preprocessed_data=new_preprocessed_data,\n",
    "             limb_to_branch_objects=limb_to_branch_objects,\n",
    "             widths_to_calculate=[],\n",
    "            suppress_output=not verbose)\n",
    "    \n",
    "    \n",
    "    neuron_obj_list.append(single_split_neuron_obj)"
   ]
  },
  {
   "cell_type": "markdown",
   "metadata": {},
   "source": [
    "# Visualizing the results"
   ]
  },
  {
   "cell_type": "code",
   "execution_count": 57,
   "metadata": {},
   "outputs": [
    {
     "name": "stdout",
     "output_type": "stream",
     "text": [
      "Number of seperate neuron objects = 2\n"
     ]
    }
   ],
   "source": [
    "print(f\"Number of seperate neuron objects = {len(neuron_obj_list)}\")"
   ]
  },
  {
   "cell_type": "code",
   "execution_count": 58,
   "metadata": {},
   "outputs": [
    {
     "name": "stdout",
     "output_type": "stream",
     "text": [
      "\n",
      " Working on visualization type: mesh\n",
      "\n",
      " Working on visualization type: skeleton\n"
     ]
    },
    {
     "data": {
      "application/vnd.jupyter.widget-view+json": {
       "model_id": "04e83e934eb44c8c9d983c61ab205cd5",
       "version_major": 2,
       "version_minor": 0
      },
      "text/plain": [
       "VBox(children=(Figure(camera=PerspectiveCamera(fov=46.0, position=(0.0, 0.0, 2.0), quaternion=(0.0, 0.0, 0.0, …"
      ]
     },
     "metadata": {},
     "output_type": "display_data"
    },
    {
     "name": "stdout",
     "output_type": "stream",
     "text": [
      "\n",
      " Working on visualization type: mesh\n",
      "\n",
      " Working on visualization type: skeleton\n"
     ]
    },
    {
     "data": {
      "application/vnd.jupyter.widget-view+json": {
       "model_id": "5fb1625ca4ab421e8d73da47db064ee8",
       "version_major": 2,
       "version_minor": 0
      },
      "text/plain": [
       "VBox(children=(Figure(camera=PerspectiveCamera(fov=46.0, position=(0.0, 0.0, 2.0), quaternion=(0.0, 0.0, 0.0, …"
      ]
     },
     "metadata": {},
     "output_type": "display_data"
    }
   ],
   "source": [
    "for n_obj in neuron_obj_list:\n",
    "    nviz.visualize_neuron(n_obj,\n",
    "                         visualize_type=[\"mesh\",\"skeleton\"],\n",
    "                         limb_branch_dict=\"all\")"
   ]
  }
 ],
 "metadata": {
  "kernelspec": {
   "display_name": "Python 3",
   "language": "python",
   "name": "python3"
  },
  "language_info": {
   "codemirror_mode": {
    "name": "ipython",
    "version": 3
   },
   "file_extension": ".py",
   "mimetype": "text/x-python",
   "name": "python",
   "nbconvert_exporter": "python",
   "pygments_lexer": "ipython3",
   "version": "3.6.9"
  }
 },
 "nbformat": 4,
 "nbformat_minor": 4
}
