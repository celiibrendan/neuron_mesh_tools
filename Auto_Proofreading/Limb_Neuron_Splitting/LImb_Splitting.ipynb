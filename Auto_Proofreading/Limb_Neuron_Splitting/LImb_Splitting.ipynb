{
 "cells": [
  {
   "cell_type": "code",
   "execution_count": 1,
   "metadata": {},
   "outputs": [
    {
     "data": {
      "text/plain": [
       "'\\nPurpose: To practice splitting a limb from a multi soma\\nand then maybe export them into different neurons\\n\\n\\n'"
      ]
     },
     "execution_count": 1,
     "metadata": {},
     "output_type": "execute_result"
    }
   ],
   "source": [
    "\"\"\"\n",
    "Purpose: To practice splitting a limb from a multi soma\n",
    "and then maybe export them into different neurons\n",
    "\n",
    "\n",
    "\"\"\""
   ]
  },
  {
   "cell_type": "code",
   "execution_count": 2,
   "metadata": {},
   "outputs": [],
   "source": [
    "from os import sys\n",
    "sys.path.append(\"/meshAfterParty/\")"
   ]
  },
  {
   "cell_type": "code",
   "execution_count": 3,
   "metadata": {},
   "outputs": [
    {
     "name": "stderr",
     "output_type": "stream",
     "text": [
      "INFO - 2020-12-24 23:50:31,890 - settings - Setting database.host to at-database.ad.bcm.edu\n",
      "INFO - 2020-12-24 23:50:31,891 - settings - Setting database.user to celiib\n",
      "INFO - 2020-12-24 23:50:31,892 - settings - Setting database.password to newceliipass\n",
      "INFO - 2020-12-24 23:50:31,933 - settings - Setting stores to {'minnie65': {'protocol': 'file', 'location': '/mnt/dj-stor01/platinum/minnie65', 'stage': '/mnt/dj-stor01/platinum/minnie65'}, 'meshes': {'protocol': 'file', 'location': '/mnt/dj-stor01/platinum/minnie65/02/meshes', 'stage': '/mnt/dj-stor01/platinum/minnie65/02/meshes'}, 'decimated_meshes': {'protocol': 'file', 'location': '/mnt/dj-stor01/platinum/minnie65/02/decimated_meshes', 'stage': '/mnt/dj-stor01/platinum/minnie65/02/decimated_meshes'}, 'skeletons': {'protocol': 'file', 'location': '/mnt/dj-stor01/platinum/minnie65/02/skeletons'}}\n",
      "INFO - 2020-12-24 23:50:31,934 - settings - Setting enable_python_native_blobs to True\n",
      "INFO - 2020-12-24 23:50:31,949 - connection - Connected celiib@at-database.ad.bcm.edu:3306\n"
     ]
    },
    {
     "name": "stdout",
     "output_type": "stream",
     "text": [
      "Connecting celiib@at-database.ad.bcm.edu:3306\n"
     ]
    },
    {
     "name": "stderr",
     "output_type": "stream",
     "text": [
      "INFO - 2020-12-24 23:50:32,176 - settings - Setting enable_python_native_blobs to True\n"
     ]
    }
   ],
   "source": [
    "from importlib import reload\n",
    "\n",
    "import neuron_utils as nru\n",
    "\n",
    "import neuron\n",
    "\n",
    "import neuron_visualizations as nviz\n",
    "\n",
    "import time\n",
    "\n",
    "import datajoint_utils as du\n",
    "\n",
    "import numpy as np"
   ]
  },
  {
   "cell_type": "code",
   "execution_count": 4,
   "metadata": {},
   "outputs": [
    {
     "name": "stderr",
     "output_type": "stream",
     "text": [
      "INFO - 2020-12-24 23:50:33,939 - settings - Setting enable_python_native_blobs to True\n",
      "INFO - 2020-12-24 23:50:34,168 - settings - Setting enable_python_native_blobs to True\n"
     ]
    }
   ],
   "source": [
    "minnie,schema = du.configure_minnie_vm()"
   ]
  },
  {
   "cell_type": "markdown",
   "metadata": {},
   "source": [
    "# Getting the Neuron to Split"
   ]
  },
  {
   "cell_type": "code",
   "execution_count": 5,
   "metadata": {},
   "outputs": [],
   "source": [
    "segment_id = 864691134884782074 "
   ]
  },
  {
   "cell_type": "code",
   "execution_count": 6,
   "metadata": {},
   "outputs": [
    {
     "name": "stdout",
     "output_type": "stream",
     "text": [
      "Decompressing Neuron in minimal output mode...please wait\n"
     ]
    }
   ],
   "source": [
    "neuron_obj = (minnie.Decomposition & dict(segment_id=segment_id)).fetch1(\"decomposition\")"
   ]
  },
  {
   "cell_type": "code",
   "execution_count": 7,
   "metadata": {},
   "outputs": [
    {
     "name": "stdout",
     "output_type": "stream",
     "text": [
      "\n",
      " Working on visualization type: mesh\n",
      "\n",
      " Working on visualization type: skeleton\n"
     ]
    },
    {
     "data": {
      "application/vnd.jupyter.widget-view+json": {
       "model_id": "0f9f90b2aa8e43ac832af7811d361e47",
       "version_major": 2,
       "version_minor": 0
      },
      "text/plain": [
       "VBox(children=(Figure(camera=PerspectiveCamera(fov=46.0, position=(0.0, 0.0, 2.0), quaternion=(0.0, 0.0, 0.0, …"
      ]
     },
     "metadata": {},
     "output_type": "display_data"
    }
   ],
   "source": [
    "nviz.visualize_neuron(neuron_obj,\n",
    "                     visualize_type=[\"mesh\",\"skeleton\"],\n",
    "                     limb_branch_dict=dict(),\n",
    "                     mesh_whole_neuron=True)"
   ]
  },
  {
   "cell_type": "code",
   "execution_count": 8,
   "metadata": {},
   "outputs": [
    {
     "name": "stdout",
     "output_type": "stream",
     "text": [
      "\n",
      " Working on visualization type: mesh\n",
      "\n",
      " Working on visualization type: skeleton\n"
     ]
    },
    {
     "data": {
      "application/vnd.jupyter.widget-view+json": {
       "model_id": "9884e7d4b6c74bc08e75c562aad515a5",
       "version_major": 2,
       "version_minor": 0
      },
      "text/plain": [
       "VBox(children=(Figure(camera=PerspectiveCamera(fov=46.0, position=(0.0, 0.0, 2.0), quaternion=(0.0, 0.0, 0.0, …"
      ]
     },
     "metadata": {},
     "output_type": "display_data"
    }
   ],
   "source": [
    "nviz.visualize_neuron(neuron_obj,\n",
    "                     visualize_type=[\"mesh\",\"skeleton\"],\n",
    "                     limb_branch_dict=\"all\")"
   ]
  },
  {
   "cell_type": "markdown",
   "metadata": {},
   "source": [
    "# Preview of How th Neuron Will Need to be Split"
   ]
  },
  {
   "cell_type": "code",
   "execution_count": 9,
   "metadata": {},
   "outputs": [
    {
     "data": {
      "image/png": "[encoded data removed]",
      "text/plain": [
       "<Figure size 432x288 with 1 Axes>"
      ]
     },
     "metadata": {},
     "output_type": "display_data"
    }
   ],
   "source": [
    "nviz.plot_soma_limb_concept_network(neuron_obj)"
   ]
  },
  {
   "cell_type": "code",
   "execution_count": 10,
   "metadata": {},
   "outputs": [
    {
     "data": {
      "text/plain": [
       "array([3, 4])"
      ]
     },
     "execution_count": 10,
     "metadata": {},
     "output_type": "execute_result"
    }
   ],
   "source": [
    "multi_soma_limbs = nru.multi_soma_touching_limbs(neuron_obj)\n",
    "multi_soma_limbs\n",
    "multi_touch_limbs = nru.same_soma_multi_touching_limbs(neuron_obj)\n",
    "multi_touch_limbs\n",
    "total_limbs_to_process = np.unique(np.concatenate([multi_soma_limbs,multi_touch_limbs]))\n",
    "total_limbs_to_process"
   ]
  },
  {
   "cell_type": "markdown",
   "metadata": {},
   "source": [
    "# Function that will determine the splitting"
   ]
  },
  {
   "cell_type": "code",
   "execution_count": 15,
   "metadata": {},
   "outputs": [],
   "source": [
    "import proofreading_utils as pru\n",
    "import error_detection as ed"
   ]
  },
  {
   "cell_type": "code",
   "execution_count": 13,
   "metadata": {},
   "outputs": [
    {
     "name": "stdout",
     "output_type": "stream",
     "text": [
      "multi_soma_limbs = [3 4]\n",
      "multi_touch_limbs = [4]\n",
      "\n",
      "\n",
      " -------- Working on limb 3------------\n",
      "Starting combinations to process = [(2, 4)]\n",
      "\n",
      "\n",
      "---- working on disconnecting 2 and 4\n",
      "---- This disconnects S0_0 from S1_0  \n",
      " Cut iteration 0\n",
      "Shortest path = [2 1 7 4]\n",
      "Found 1 high degree coordinates to cut\n",
      "Picking [989865. 967476. 717657.] high degree coordinates to cut\n",
      "coordinate_branches = [1 3 7 9]\n",
      "Angle between 1 and 3 = 35.98 \n",
      "Angle between 1 and 7 = 131.43 \n",
      "Angle between 1 and 9 = 50.16 \n",
      "Angle between 3 and 7 = 79.78 \n",
      "Angle between 3 and 9 = 100.79 \n",
      "Angle between 7 and 9 = 5.65 \n",
      "Final Matches = [[1, 3], [7, 9]]\n",
      "Original graph\n"
     ]
    },
    {
     "data": {
      "image/png": "[encoded data removed]",
      "text/plain": [
       "<Figure size 432x288 with 1 Axes>"
      ]
     },
     "metadata": {},
     "output_type": "display_data"
    },
    {
     "name": "stdout",
     "output_type": "stream",
     "text": [
      "edges_to_delete = [array([1, 7]), array([1, 9])]\n",
      "edges_to_create = [array([7, 9])]\n",
      "edges_to_delete = [array([1, 7]), array([1, 9])]\n",
      "edges_to_create = [array([7, 9])]\n",
      " Cut iteration 1\n",
      "No valid path so moving onto the next connection\n",
      "Total number of graphs at the end of the split = 2\n",
      "\n",
      "\n",
      " -------- Working on limb 4------------\n",
      "Starting combinations to process = [(2, 24), (2, 0), (24, 0)]\n",
      "\n",
      "\n",
      "---- working on disconnecting 2 and 24\n",
      "---- This disconnects S0_0 from S0_1  \n",
      " Cut iteration 0\n",
      "Shortest path = [ 2  7 22 24]\n",
      "Found 1 high degree coordinates to cut\n",
      "Picking [998435.  976382.  751655.5] high degree coordinates to cut\n",
      "coordinate_branches = [2 3 4 7]\n",
      "Angle between 2 and 3 = 84.58 \n",
      "Angle between 2 and 4 = 23.24 \n",
      "Angle between 2 and 7 = 127.2 \n",
      "Angle between 3 and 4 = 75.29 \n",
      "Angle between 3 and 7 = 34.7 \n",
      "Angle between 4 and 7 = 70.5 \n",
      "Final Matches = [[2, 4], [3, 7]]\n",
      "Original graph\n"
     ]
    },
    {
     "data": {
      "image/png": "[encoded data removed]",
      "text/plain": [
       "<Figure size 432x288 with 1 Axes>"
      ]
     },
     "metadata": {},
     "output_type": "display_data"
    },
    {
     "name": "stdout",
     "output_type": "stream",
     "text": [
      "edges_to_delete = [array([2, 3]), array([2, 7])]\n",
      "edges_to_create = [array([3, 7])]\n",
      "edges_to_delete = [array([2, 3]), array([2, 7])]\n",
      "edges_to_create = [array([3, 7])]\n",
      " Cut iteration 1\n",
      "No valid path so moving onto the next connection\n",
      "\n",
      "\n",
      "---- working on disconnecting 2 and 0\n",
      "---- This disconnects S0_0 from S1_0  \n",
      " Cut iteration 0\n",
      "No valid path so moving onto the next connection\n",
      "\n",
      "\n",
      "---- working on disconnecting 24 and 0\n",
      "---- This disconnects S0_1 from S1_0  \n",
      " Cut iteration 0\n",
      "Shortest path = [24 22  7  0]\n",
      "Found 1 high degree coordinates to cut\n",
      "Picking [998435.  976382.  751655.5] high degree coordinates to cut\n",
      "coordinate_branches = [2 3 4 7]\n",
      "Angle between 2 and 3 = 84.58 \n",
      "Angle between 2 and 4 = 23.24 \n",
      "Angle between 2 and 7 = 127.2 \n",
      "Angle between 3 and 4 = 75.29 \n",
      "Angle between 3 and 7 = 34.7 \n",
      "Angle between 4 and 7 = 70.5 \n",
      "Final Matches = [[2, 4], [3, 7]]\n",
      "Original graph\n"
     ]
    },
    {
     "data": {
      "image/png": "[encoded data removed]",
      "text/plain": [
       "<Figure size 432x288 with 1 Axes>"
      ]
     },
     "metadata": {},
     "output_type": "display_data"
    },
    {
     "name": "stdout",
     "output_type": "stream",
     "text": [
      "edges_to_delete = []\n",
      "edges_to_create = []\n",
      "\n",
      "Attempting the doubling back check (symmetrical so don't need to check from both sides)\n"
     ]
    },
    {
     "data": {
      "application/vnd.jupyter.widget-view+json": {
       "model_id": "0fac6f390c6e44c79daeb7f043671509",
       "version_major": 2,
       "version_minor": 0
      },
      "text/plain": [
       "HBox(children=(FloatProgress(value=0.0, max=3.0), HTML(value='')))"
      ]
     },
     "metadata": {},
     "output_type": "display_data"
    },
    {
     "name": "stdout",
     "output_type": "stream",
     "text": [
      "  Edge: [24 22]\n",
      "  Edge: [22  7]\n",
      "  Edge: [7 0]\n",
      "\n",
      "Total time for doubling_back = 0.06654214859008789\n",
      "There were 1 edges that passed doubling back threshold of 130\n",
      "Winning edge [22  7] had a doubling back of 1\n",
      "edges_to_delete = [array([22,  7])]\n",
      " Cut iteration 1\n",
      "No valid path so moving onto the next connection\n",
      "Total number of graphs at the end of the split = 3\n"
     ]
    }
   ],
   "source": [
    "limb_results = pru.multi_soma_split_suggestions(neuron_obj)"
   ]
  },
  {
   "cell_type": "code",
   "execution_count": 14,
   "metadata": {},
   "outputs": [
    {
     "data": {
      "text/plain": [
       "{3: [{'starting_node_1': 2,\n",
       "   'starting_node_2': 4,\n",
       "   'title': 'S0_0 from S1_0 ',\n",
       "   'edges_to_cut': [array([1, 7]), array([1, 9])],\n",
       "   'coordinate_suggestions': [array([989865., 967476., 717657.]),\n",
       "    array([989865., 967476., 717657.])],\n",
       "   'successful_disconnection': True}],\n",
       " 4: [{'starting_node_1': 2,\n",
       "   'starting_node_2': 24,\n",
       "   'title': 'S0_0 from S0_1 ',\n",
       "   'edges_to_cut': [array([2, 3]), array([2, 7])],\n",
       "   'coordinate_suggestions': [array([998435. , 976382. , 751655.5]),\n",
       "    array([998435. , 976382. , 751655.5])],\n",
       "   'successful_disconnection': True},\n",
       "  {'starting_node_1': 2,\n",
       "   'starting_node_2': 0,\n",
       "   'title': 'S0_0 from S1_0 ',\n",
       "   'edges_to_cut': [],\n",
       "   'coordinate_suggestions': [],\n",
       "   'successful_disconnection': True},\n",
       "  {'starting_node_1': 24,\n",
       "   'starting_node_2': 0,\n",
       "   'title': 'S0_1 from S1_0 ',\n",
       "   'edges_to_cut': [array([22,  7])],\n",
       "   'coordinate_suggestions': [array([992144., 979056., 747836.])],\n",
       "   'successful_disconnection': True}]}"
      ]
     },
     "execution_count": 14,
     "metadata": {},
     "output_type": "execute_result"
    }
   ],
   "source": [
    "limb_results"
   ]
  },
  {
   "cell_type": "code",
   "execution_count": null,
   "metadata": {},
   "outputs": [],
   "source": [
    "revised_neuron = ed.split_neuron_limb(neuron_obj,\n",
    "                     seperated_graphs,\n",
    "                     curr_limb_idx,\n",
    "                     verbose = False)"
   ]
  }
 ],
 "metadata": {
  "kernelspec": {
   "display_name": "Python 3",
   "language": "python",
   "name": "python3"
  },
  "language_info": {
   "codemirror_mode": {
    "name": "ipython",
    "version": 3
   },
   "file_extension": ".py",
   "mimetype": "text/x-python",
   "name": "python",
   "nbconvert_exporter": "python",
   "pygments_lexer": "ipython3",
   "version": "3.6.9"
  }
 },
 "nbformat": 4,
 "nbformat_minor": 4
}
