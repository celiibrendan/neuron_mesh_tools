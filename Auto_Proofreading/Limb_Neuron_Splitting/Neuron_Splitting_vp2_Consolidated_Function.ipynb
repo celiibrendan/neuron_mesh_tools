{
 "cells": [
  {
   "cell_type": "code",
   "execution_count": null,
   "metadata": {},
   "outputs": [],
   "source": [
    "\"\"\"\n",
    "Purpose: To take in a whole neuron that could have any number of somas\n",
    "and then to split it into multiple neuron objects\n",
    "\n",
    "Pseudocode: \n",
    "1) Get all of the split suggestions\n",
    "2) Split all of the limbs that need splitting\n",
    "3) Once have split the limbs, split the neuron object into mutliple objects\n",
    "\n",
    "\n",
    "\"\"\""
   ]
  },
  {
   "cell_type": "code",
   "execution_count": 1,
   "metadata": {},
   "outputs": [],
   "source": [
    "%load_ext autoreload\n",
    "%autoreload 2"
   ]
  },
  {
   "cell_type": "code",
   "execution_count": 2,
   "metadata": {},
   "outputs": [],
   "source": [
    "from os import sys\n",
    "sys.path.append(\"/meshAfterParty/\")"
   ]
  },
  {
   "cell_type": "code",
   "execution_count": 3,
   "metadata": {},
   "outputs": [
    {
     "name": "stderr",
     "output_type": "stream",
     "text": [
      "INFO - 2020-12-28 00:53:16,578 - settings - Setting database.host to at-database.ad.bcm.edu\n",
      "INFO - 2020-12-28 00:53:16,579 - settings - Setting database.user to celiib\n",
      "INFO - 2020-12-28 00:53:16,580 - settings - Setting database.password to newceliipass\n",
      "INFO - 2020-12-28 00:53:16,597 - settings - Setting stores to {'minnie65': {'protocol': 'file', 'location': '/mnt/dj-stor01/platinum/minnie65', 'stage': '/mnt/dj-stor01/platinum/minnie65'}, 'meshes': {'protocol': 'file', 'location': '/mnt/dj-stor01/platinum/minnie65/02/meshes', 'stage': '/mnt/dj-stor01/platinum/minnie65/02/meshes'}, 'decimated_meshes': {'protocol': 'file', 'location': '/mnt/dj-stor01/platinum/minnie65/02/decimated_meshes', 'stage': '/mnt/dj-stor01/platinum/minnie65/02/decimated_meshes'}, 'skeletons': {'protocol': 'file', 'location': '/mnt/dj-stor01/platinum/minnie65/02/skeletons'}}\n",
      "INFO - 2020-12-28 00:53:16,598 - settings - Setting enable_python_native_blobs to True\n",
      "INFO - 2020-12-28 00:53:16,609 - connection - Connected celiib@at-database.ad.bcm.edu:3306\n"
     ]
    },
    {
     "name": "stdout",
     "output_type": "stream",
     "text": [
      "Connecting celiib@at-database.ad.bcm.edu:3306\n"
     ]
    },
    {
     "name": "stderr",
     "output_type": "stream",
     "text": [
      "INFO - 2020-12-28 00:53:16,833 - settings - Setting enable_python_native_blobs to True\n"
     ]
    }
   ],
   "source": [
    "from importlib import reload\n",
    "\n",
    "import neuron_utils as nru\n",
    "\n",
    "import neuron\n",
    "\n",
    "import neuron_visualizations as nviz\n",
    "\n",
    "import time\n",
    "\n",
    "import datajoint_utils as du\n",
    "\n",
    "import numpy as np"
   ]
  },
  {
   "cell_type": "markdown",
   "metadata": {},
   "source": [
    "# Picking the Neuron"
   ]
  },
  {
   "cell_type": "code",
   "execution_count": 4,
   "metadata": {},
   "outputs": [
    {
     "name": "stderr",
     "output_type": "stream",
     "text": [
      "INFO - 2020-12-28 00:53:16,927 - settings - Setting enable_python_native_blobs to True\n",
      "INFO - 2020-12-28 00:53:17,156 - settings - Setting enable_python_native_blobs to True\n"
     ]
    }
   ],
   "source": [
    "minnie,schema = du.configure_minnie_vm()"
   ]
  },
  {
   "cell_type": "code",
   "execution_count": 28,
   "metadata": {},
   "outputs": [
    {
     "data": {
      "text/html": [
       "\n",
       "        \n",
       "        <style type=\"text/css\">\n",
       "            .Relation{\n",
       "                border-collapse:collapse;\n",
       "            }\n",
       "            .Relation th{\n",
       "                background: #A0A0A0; color: #ffffff; padding:4px; border:#f0e0e0 1px solid;\n",
       "                font-weight: normal; font-family: monospace; font-size: 100%;\n",
       "            }\n",
       "            .Relation td{\n",
       "                padding:4px; border:#f0e0e0 1px solid; font-size:100%;\n",
       "            }\n",
       "            .Relation tr:nth-child(odd){\n",
       "                background: #ffffff;\n",
       "            }\n",
       "            .Relation tr:nth-child(even){\n",
       "                background: #f3f1ff;\n",
       "            }\n",
       "            /* Tooltip container */\n",
       "            .djtooltip {\n",
       "            }\n",
       "            /* Tooltip text */\n",
       "            .djtooltip .djtooltiptext {\n",
       "                visibility: hidden;\n",
       "                width: 120px;\n",
       "                background-color: black;\n",
       "                color: #fff;\n",
       "                text-align: center;\n",
       "                padding: 5px 0;\n",
       "                border-radius: 6px;\n",
       "                /* Position the tooltip text - see examples below! */\n",
       "                position: absolute;\n",
       "                z-index: 1;\n",
       "            }\n",
       "            #primary {\n",
       "                font-weight: bold;\n",
       "                color: black;\n",
       "            }\n",
       "\n",
       "            #nonprimary {\n",
       "                font-weight: normal;\n",
       "                color: white;\n",
       "            }\n",
       "\n",
       "            /* Show the tooltip text when you mouse over the tooltip container */\n",
       "            .djtooltip:hover .djtooltiptext {\n",
       "                visibility: visible;\n",
       "            }\n",
       "        </style>\n",
       "        \n",
       "        <b></b>\n",
       "            <div style=\"max-height:1000px;max-width:1500px;overflow:auto;\">\n",
       "            <table border=\"1\" class=\"Relation\">\n",
       "                <thead> <tr style=\"text-align: right;\"> <th> <div class=\"djtooltip\">\n",
       "                                <p id=\"primary\">segment_id</p>\n",
       "                                <span class=\"djtooltiptext\">segment id unique within each Segmentation</span>\n",
       "                            </div></th><th><div class=\"djtooltip\">\n",
       "                                <p id=\"primary\">decimation_version</p>\n",
       "                                <span class=\"djtooltiptext\"></span>\n",
       "                            </div></th><th><div class=\"djtooltip\">\n",
       "                                <p id=\"primary\">decimation_ratio</p>\n",
       "                                <span class=\"djtooltiptext\">ratio of remaining mesh vertices/faces (which ones depends on what metric the decimation technique uses)</span>\n",
       "                            </div></th><th><div class=\"djtooltip\">\n",
       "                                <p id=\"nonprimary\">decomposition</p>\n",
       "                                <span class=\"djtooltiptext\"></span>\n",
       "                            </div></th><th><div class=\"djtooltip\">\n",
       "                                <p id=\"nonprimary\">n_vertices</p>\n",
       "                                <span class=\"djtooltiptext\">number of vertices</span>\n",
       "                            </div></th><th><div class=\"djtooltip\">\n",
       "                                <p id=\"nonprimary\">n_faces</p>\n",
       "                                <span class=\"djtooltiptext\">number of faces</span>\n",
       "                            </div></th><th><div class=\"djtooltip\">\n",
       "                                <p id=\"nonprimary\">n_error_limbs</p>\n",
       "                                <span class=\"djtooltiptext\">the number of limbs that are touching multiple somas or 1 soma in multiple places</span>\n",
       "                            </div></th><th><div class=\"djtooltip\">\n",
       "                                <p id=\"nonprimary\">n_same_soma_multi_touching_limbs</p>\n",
       "                                <span class=\"djtooltiptext\">number of limbs that touch the same soma multiple times</span>\n",
       "                            </div></th><th><div class=\"djtooltip\">\n",
       "                                <p id=\"nonprimary\">n_multi_soma_touching_limbs</p>\n",
       "                                <span class=\"djtooltiptext\">number of limbs that touch multiple somas</span>\n",
       "                            </div></th><th><div class=\"djtooltip\">\n",
       "                                <p id=\"nonprimary\">n_somas</p>\n",
       "                                <span class=\"djtooltiptext\">number of soma meshes detected</span>\n",
       "                            </div></th><th><div class=\"djtooltip\">\n",
       "                                <p id=\"nonprimary\">n_limbs</p>\n",
       "                                <span class=\"djtooltiptext\"></span>\n",
       "                            </div></th><th><div class=\"djtooltip\">\n",
       "                                <p id=\"nonprimary\">n_branches</p>\n",
       "                                <span class=\"djtooltiptext\"></span>\n",
       "                            </div></th><th><div class=\"djtooltip\">\n",
       "                                <p id=\"nonprimary\">max_limb_n_branches</p>\n",
       "                                <span class=\"djtooltiptext\"></span>\n",
       "                            </div></th><th><div class=\"djtooltip\">\n",
       "                                <p id=\"nonprimary\">skeletal_length</p>\n",
       "                                <span class=\"djtooltiptext\"></span>\n",
       "                            </div></th><th><div class=\"djtooltip\">\n",
       "                                <p id=\"nonprimary\">max_limb_skeletal_length</p>\n",
       "                                <span class=\"djtooltiptext\"></span>\n",
       "                            </div></th><th><div class=\"djtooltip\">\n",
       "                                <p id=\"nonprimary\">median_branch_length</p>\n",
       "                                <span class=\"djtooltiptext\">gives information on average skeletal length to next branch point</span>\n",
       "                            </div></th><th><div class=\"djtooltip\">\n",
       "                                <p id=\"nonprimary\">width_median</p>\n",
       "                                <span class=\"djtooltiptext\">median width from mesh center without spines removed</span>\n",
       "                            </div></th><th><div class=\"djtooltip\">\n",
       "                                <p id=\"nonprimary\">width_no_spine_median</p>\n",
       "                                <span class=\"djtooltiptext\">median width from mesh center with spines removed</span>\n",
       "                            </div></th><th><div class=\"djtooltip\">\n",
       "                                <p id=\"nonprimary\">width_90_perc</p>\n",
       "                                <span class=\"djtooltiptext\">90th percentile for width without spines removed</span>\n",
       "                            </div></th><th><div class=\"djtooltip\">\n",
       "                                <p id=\"nonprimary\">width_no_spine_90_perc</p>\n",
       "                                <span class=\"djtooltiptext\">90th percentile for width with spines removed</span>\n",
       "                            </div></th><th><div class=\"djtooltip\">\n",
       "                                <p id=\"nonprimary\">n_spines</p>\n",
       "                                <span class=\"djtooltiptext\"></span>\n",
       "                            </div></th><th><div class=\"djtooltip\">\n",
       "                                <p id=\"nonprimary\">spine_density</p>\n",
       "                                <span class=\"djtooltiptext\">n_spines/ skeletal_length</span>\n",
       "                            </div></th><th><div class=\"djtooltip\">\n",
       "                                <p id=\"nonprimary\">spines_per_branch</p>\n",
       "                                <span class=\"djtooltiptext\"></span>\n",
       "                            </div></th><th><div class=\"djtooltip\">\n",
       "                                <p id=\"nonprimary\">skeletal_length_eligible</p>\n",
       "                                <span class=\"djtooltiptext\">the skeletal length for all branches searched for spines</span>\n",
       "                            </div></th><th><div class=\"djtooltip\">\n",
       "                                <p id=\"nonprimary\">n_spine_eligible_branches</p>\n",
       "                                <span class=\"djtooltiptext\">the number of branches that were checked for spines because passed width threshold</span>\n",
       "                            </div></th><th><div class=\"djtooltip\">\n",
       "                                <p id=\"nonprimary\">spine_density_eligible</p>\n",
       "                                <span class=\"djtooltiptext\">n_spines/skeletal_length_eligible</span>\n",
       "                            </div></th><th><div class=\"djtooltip\">\n",
       "                                <p id=\"nonprimary\">spines_per_branch_eligible</p>\n",
       "                                <span class=\"djtooltiptext\">n_spines/n_spine_eligible_branches</span>\n",
       "                            </div></th><th><div class=\"djtooltip\">\n",
       "                                <p id=\"nonprimary\">total_spine_volume</p>\n",
       "                                <span class=\"djtooltiptext\">the sum of all spine volume</span>\n",
       "                            </div></th><th><div class=\"djtooltip\">\n",
       "                                <p id=\"nonprimary\">spine_volume_median</p>\n",
       "                                <span class=\"djtooltiptext\">median of the spine volume for those spines with able to calculate volume</span>\n",
       "                            </div></th><th><div class=\"djtooltip\">\n",
       "                                <p id=\"nonprimary\">spine_volume_density</p>\n",
       "                                <span class=\"djtooltiptext\">total_spine_volume/skeletal_length</span>\n",
       "                            </div></th><th><div class=\"djtooltip\">\n",
       "                                <p id=\"nonprimary\">spine_volume_density_eligible</p>\n",
       "                                <span class=\"djtooltiptext\">total_spine_volume/skeletal_length_eligible</span>\n",
       "                            </div></th><th><div class=\"djtooltip\">\n",
       "                                <p id=\"nonprimary\">spine_volume_per_branch_eligible</p>\n",
       "                                <span class=\"djtooltiptext\">total_spine_volume/n_spine_eligible_branches</span>\n",
       "                            </div></th><th><div class=\"djtooltip\">\n",
       "                                <p id=\"nonprimary\">run_time</p>\n",
       "                                <span class=\"djtooltiptext\">the amount of time to run (seconds)</span>\n",
       "                            </div> </th> </tr> </thead>\n",
       "                <tbody> <tr>  </tr> </tbody>\n",
       "            </table>\n",
       "            \n",
       "            <p>Total: 0</p></div>\n",
       "            "
      ],
      "text/plain": [
       "*segment_id    *decimation_ve *decimation_ra decomposit n_vertices     n_faces     n_error_limbs  n_same_soma_mu n_multi_soma_t n_somas     n_limbs     n_branches     max_limb_n_bra skeletal_lengt max_limb_skele median_branch_ width_median   width_no_spine width_90_perc  width_no_spine n_spines     spine_density  spines_per_bra skeletal_lengt n_spine_eligib spine_density_ spines_per_bra total_spine_vo spine_volume_m spine_volume_d spine_volume_d spine_volume_p run_time    \n",
       "+------------+ +------------+ +------------+ +--------+ +------------+ +---------+ +------------+ +------------+ +------------+ +---------+ +---------+ +------------+ +------------+ +------------+ +------------+ +------------+ +------------+ +------------+ +------------+ +------------+ +----------+ +------------+ +------------+ +------------+ +------------+ +------------+ +------------+ +------------+ +------------+ +------------+ +------------+ +------------+ +----------+\n",
       "\n",
       " (Total: 0)"
      ]
     },
     "execution_count": 28,
     "metadata": {},
     "output_type": "execute_result"
    }
   ],
   "source": [
    "minnie.DecompositionMultiSoma() & \"n_somas>=3\"# & \"n_limbs>7\""
   ]
  },
  {
   "cell_type": "code",
   "execution_count": 6,
   "metadata": {},
   "outputs": [],
   "source": [
    "segment_id = 864691135012400886 "
   ]
  },
  {
   "cell_type": "code",
   "execution_count": 7,
   "metadata": {},
   "outputs": [
    {
     "name": "stdout",
     "output_type": "stream",
     "text": [
      "Decompressing Neuron in minimal output mode...please wait\n"
     ]
    },
    {
     "data": {
      "text/plain": [
       "<neuron.Neuron at 0x7f5b6c421048>"
      ]
     },
     "execution_count": 7,
     "metadata": {},
     "output_type": "execute_result"
    }
   ],
   "source": [
    "neuron_obj = (minnie.DecompositionMultiSoma & dict(segment_id=segment_id)).fetch1(\"decomposition\")\n",
    "neuron_obj"
   ]
  },
  {
   "cell_type": "code",
   "execution_count": 8,
   "metadata": {},
   "outputs": [
    {
     "name": "stdout",
     "output_type": "stream",
     "text": [
      "\n",
      " Working on visualization type: mesh\n",
      "\n",
      " Working on visualization type: skeleton\n"
     ]
    },
    {
     "data": {
      "application/vnd.jupyter.widget-view+json": {
       "model_id": "12feb11235dd40dbafb7dc9dfad50f1a",
       "version_major": 2,
       "version_minor": 0
      },
      "text/plain": [
       "VBox(children=(Figure(camera=PerspectiveCamera(fov=46.0, position=(0.0, 0.0, 2.0), quaternion=(0.0, 0.0, 0.0, …"
      ]
     },
     "metadata": {},
     "output_type": "display_data"
    }
   ],
   "source": [
    "nviz.visualize_neuron(neuron_obj,\n",
    "                     visualize_type=[\"mesh\",\"skeleton\"],\n",
    "                     limb_branch_dict=dict(),\n",
    "                     mesh_whole_neuron=True)"
   ]
  },
  {
   "cell_type": "markdown",
   "metadata": {},
   "source": [
    "# Preview of How th Neuron Will Need to be Split"
   ]
  },
  {
   "cell_type": "code",
   "execution_count": 9,
   "metadata": {},
   "outputs": [
    {
     "data": {
      "image/png": "[encoded data removed]",
      "text/plain": [
       "<Figure size 432x288 with 1 Axes>"
      ]
     },
     "metadata": {},
     "output_type": "display_data"
    }
   ],
   "source": [
    "nviz.plot_soma_limb_concept_network(neuron_obj)"
   ]
  },
  {
   "cell_type": "code",
   "execution_count": 10,
   "metadata": {},
   "outputs": [
    {
     "data": {
      "text/plain": [
       "array([0])"
      ]
     },
     "execution_count": 10,
     "metadata": {},
     "output_type": "execute_result"
    }
   ],
   "source": [
    "total_limbs_to_process = nru.error_limbs(neuron_obj)\n",
    "total_limbs_to_process"
   ]
  },
  {
   "cell_type": "markdown",
   "metadata": {},
   "source": [
    "# Split the Neuron"
   ]
  },
  {
   "cell_type": "code",
   "execution_count": 26,
   "metadata": {},
   "outputs": [
    {
     "data": {
      "application/vnd.jupyter.widget-view+json": {
       "model_id": "194085714c544d2b8df033f963cdc9e6",
       "version_major": 2,
       "version_minor": 0
      },
      "text/plain": [
       "HBox(children=(FloatProgress(value=0.0, max=6.0), HTML(value='')))"
      ]
     },
     "metadata": {},
     "output_type": "display_data"
    },
    {
     "name": "stdout",
     "output_type": "stream",
     "text": [
      "\n",
      "\n",
      "\n",
      "------ Working on Soma 0 -------\n",
      "Processing Neuorn in minimal output mode...please wait\n",
      "Total time for neuron instance creation = 2.3355579376220703\n",
      "\n",
      "\n",
      "------ Working on Soma 1 -------\n",
      "Processing Neuorn in minimal output mode...please wait\n",
      "Total time for neuron instance creation = 0.4698939323425293\n",
      "\n",
      "\n",
      "Number of seperate neuron objects = 2\n",
      "\n",
      " Working on visualization type: mesh\n",
      "\n",
      " Working on visualization type: skeleton\n"
     ]
    },
    {
     "data": {
      "application/vnd.jupyter.widget-view+json": {
       "model_id": "2acd3a0682704e02837e7cb85de1f02f",
       "version_major": 2,
       "version_minor": 0
      },
      "text/plain": [
       "VBox(children=(Figure(camera=PerspectiveCamera(fov=46.0, position=(0.0, 0.0, 2.0), quaternion=(0.0, 0.0, 0.0, …"
      ]
     },
     "metadata": {},
     "output_type": "display_data"
    },
    {
     "name": "stdout",
     "output_type": "stream",
     "text": [
      "\n",
      " Working on visualization type: mesh\n",
      "\n",
      " Working on visualization type: skeleton\n"
     ]
    },
    {
     "data": {
      "application/vnd.jupyter.widget-view+json": {
       "model_id": "ebed02b42032408fa46544e1189e29c5",
       "version_major": 2,
       "version_minor": 0
      },
      "text/plain": [
       "VBox(children=(Figure(camera=PerspectiveCamera(fov=46.0, position=(0.0, 0.0, 2.0), quaternion=(0.0, 0.0, 0.0, …"
      ]
     },
     "metadata": {},
     "output_type": "display_data"
    }
   ],
   "source": [
    "neuron_list = pru.split_neuron(neuron_obj,\n",
    "                 plot_seperated_neurons=True)"
   ]
  },
  {
   "cell_type": "code",
   "execution_count": null,
   "metadata": {},
   "outputs": [],
   "source": []
  },
  {
   "cell_type": "code",
   "execution_count": null,
   "metadata": {},
   "outputs": [],
   "source": []
  },
  {
   "cell_type": "code",
   "execution_count": null,
   "metadata": {},
   "outputs": [],
   "source": []
  },
  {
   "cell_type": "code",
   "execution_count": null,
   "metadata": {},
   "outputs": [],
   "source": []
  },
  {
   "cell_type": "code",
   "execution_count": null,
   "metadata": {},
   "outputs": [],
   "source": []
  },
  {
   "cell_type": "code",
   "execution_count": null,
   "metadata": {},
   "outputs": [],
   "source": []
  },
  {
   "cell_type": "code",
   "execution_count": null,
   "metadata": {},
   "outputs": [],
   "source": []
  },
  {
   "cell_type": "code",
   "execution_count": null,
   "metadata": {},
   "outputs": [],
   "source": []
  },
  {
   "cell_type": "code",
   "execution_count": null,
   "metadata": {},
   "outputs": [],
   "source": []
  },
  {
   "cell_type": "code",
   "execution_count": null,
   "metadata": {},
   "outputs": [],
   "source": []
  },
  {
   "cell_type": "markdown",
   "metadata": {},
   "source": [
    "# Modules for functionality"
   ]
  },
  {
   "cell_type": "code",
   "execution_count": 11,
   "metadata": {},
   "outputs": [],
   "source": [
    "import networkx as nx\n",
    "import networkx_utils as xu\n",
    "import trimesh_utils as tu\n",
    "import preprocessing_vp2 as pre\n",
    "import proofreading_utils as pru"
   ]
  },
  {
   "cell_type": "code",
   "execution_count": 13,
   "metadata": {},
   "outputs": [],
   "source": [
    "verbose = False"
   ]
  },
  {
   "cell_type": "markdown",
   "metadata": {},
   "source": [
    "# Function that will do neuron splitting"
   ]
  },
  {
   "cell_type": "code",
   "execution_count": null,
   "metadata": {},
   "outputs": [],
   "source": [
    "def split_neuron(neuron_obj,\n",
    "                 plot_soma_limb_network=False,\n",
    "                 plot_seperated_neurons=False,\n",
    "                verbose=False):\n",
    "    \"\"\"\n",
    "    Purpose: To take in a whole neuron that could have any number of somas\n",
    "    and then to split it into multiple neuron objects\n",
    "\n",
    "    Pseudocode: \n",
    "    1) Get all of the split suggestions\n",
    "    2) Split all of the limbs that need splitting\n",
    "    3) Once have split the limbs, split the neuron object into mutliple objects\n",
    "\n",
    "\n",
    "    \"\"\"\n",
    "    \n",
    "    #1) Get all of the split suggestions\n",
    "    limb_results = pru.multi_soma_split_suggestions(neuron_obj,plot_intermediates=False,\n",
    "                                               verbose = verbose)\n",
    "    \n",
    "    #2) Split all of the limbs that need splitting\n",
    "    split_neuron_obj = pru.split_neuron_by_suggestions(neuron_obj,\n",
    "                                split_suggestions=limb_results,\n",
    "                                plot_soma_limb_network=plot_soma_limb_network,\n",
    "                                verbose=verbose)\n",
    "        \n",
    "    #2b) Check that all the splits occured\n",
    "    curr_error_limbs = nru.error_limbs(split_neuron_obj)\n",
    "\n",
    "    if len(curr_error_limbs) > 0:\n",
    "        raise Exception(f\"There were still error limbs before trying the neuron object split: error limbs = {curr_error_limbs}\")\n",
    "    \n",
    "    #3) Once have split the limbs, split the neuron object into mutliple objects\n",
    "    neuron_list = pru.split_disconnected_neuron(split_neuron_obj,\n",
    "                         plot_seperated_neurons=True,\n",
    "                         verbose =verbose)"
   ]
  },
  {
   "cell_type": "code",
   "execution_count": null,
   "metadata": {},
   "outputs": [],
   "source": []
  },
  {
   "cell_type": "markdown",
   "metadata": {},
   "source": [
    "# Part 1: Get the limb Splitting suggestions"
   ]
  },
  {
   "cell_type": "code",
   "execution_count": 14,
   "metadata": {},
   "outputs": [
    {
     "data": {
      "application/vnd.jupyter.widget-view+json": {
       "model_id": "9c335fb41f9741d9a27fb83929e1cb64",
       "version_major": 2,
       "version_minor": 0
      },
      "text/plain": [
       "HBox(children=(FloatProgress(value=0.0, max=6.0), HTML(value='')))"
      ]
     },
     "metadata": {},
     "output_type": "display_data"
    },
    {
     "name": "stdout",
     "output_type": "stream",
     "text": [
      "\n"
     ]
    }
   ],
   "source": [
    "import proofreading_utils as pru\n",
    "limb_results = pru.multi_soma_split_suggestions(neuron_obj,plot_intermediates=False,\n",
    "                                               verbose = verbose)"
   ]
  },
  {
   "cell_type": "markdown",
   "metadata": {},
   "source": [
    "# Part 2: Split the limbs using the suggested splits"
   ]
  },
  {
   "cell_type": "code",
   "execution_count": null,
   "metadata": {},
   "outputs": [],
   "source": [
    "nru = reload(nru)"
   ]
  },
  {
   "cell_type": "code",
   "execution_count": 19,
   "metadata": {},
   "outputs": [
    {
     "data": {
      "image/png": "[encoded data removed]",
      "text/plain": [
       "<Figure size 432x288 with 1 Axes>"
      ]
     },
     "metadata": {},
     "output_type": "display_data"
    }
   ],
   "source": [
    "split_neuron_obj = pru.split_neuron_limbs_by_suggestions(neuron_obj,\n",
    "                                split_suggestions=limb_results,\n",
    "                                                         plot_soma_limb_network=True,\n",
    "                                verbose=verbose)"
   ]
  },
  {
   "cell_type": "markdown",
   "metadata": {},
   "source": [
    "# Part 3: Split into Multiple Neuron Objects (BY THEIR SOMAS)"
   ]
  },
  {
   "cell_type": "code",
   "execution_count": 21,
   "metadata": {},
   "outputs": [
    {
     "name": "stdout",
     "output_type": "stream",
     "text": [
      "\n",
      "\n",
      "------ Working on Soma 0 -------\n",
      "Processing Neuorn in minimal output mode...please wait\n",
      "Total time for neuron instance creation = 0.5001959800720215\n",
      "\n",
      "\n",
      "------ Working on Soma 1 -------\n",
      "Processing Neuorn in minimal output mode...please wait\n",
      "Total time for neuron instance creation = 0.4772498607635498\n",
      "\n",
      "\n",
      "Number of seperate neuron objects = 2\n",
      "\n",
      " Working on visualization type: mesh\n",
      "\n",
      " Working on visualization type: skeleton\n"
     ]
    },
    {
     "data": {
      "application/vnd.jupyter.widget-view+json": {
       "model_id": "494b8eed0c3548e6b6afd97eada3aae9",
       "version_major": 2,
       "version_minor": 0
      },
      "text/plain": [
       "VBox(children=(Figure(camera=PerspectiveCamera(fov=46.0, position=(0.0, 0.0, 2.0), quaternion=(0.0, 0.0, 0.0, …"
      ]
     },
     "metadata": {},
     "output_type": "display_data"
    },
    {
     "name": "stdout",
     "output_type": "stream",
     "text": [
      "\n",
      " Working on visualization type: mesh\n",
      "\n",
      " Working on visualization type: skeleton\n"
     ]
    },
    {
     "data": {
      "application/vnd.jupyter.widget-view+json": {
       "model_id": "c9a49614b0524f91827b52fee5f568a8",
       "version_major": 2,
       "version_minor": 0
      },
      "text/plain": [
       "VBox(children=(Figure(camera=PerspectiveCamera(fov=46.0, position=(0.0, 0.0, 2.0), quaternion=(0.0, 0.0, 0.0, …"
      ]
     },
     "metadata": {},
     "output_type": "display_data"
    }
   ],
   "source": [
    "neuron_list = pru.split_disconnected_neuron(split_neuron_obj,\n",
    "                         plot_seperated_neurons=True,\n",
    "                         verbose =verbose)"
   ]
  },
  {
   "cell_type": "code",
   "execution_count": null,
   "metadata": {},
   "outputs": [],
   "source": []
  },
  {
   "cell_type": "code",
   "execution_count": null,
   "metadata": {},
   "outputs": [],
   "source": [
    "curr_error_limbs = nru.error_limbs(split_neuron_obj)\n",
    "\n",
    "if len(curr_error_limbs) > 0:\n",
    "    raise Exception(f\"There were still error limbs before trying the neuron object split: error limbs = {curr_error_limbs}\")"
   ]
  },
  {
   "cell_type": "code",
   "execution_count": null,
   "metadata": {},
   "outputs": [],
   "source": [
    "soma_names = split_neuron_obj.get_soma_node_names()\n"
   ]
  },
  {
   "cell_type": "code",
   "execution_count": null,
   "metadata": {},
   "outputs": [],
   "source": [
    "neuron_obj_list = []\n",
    "\n",
    "for curr_soma_idx,curr_soma_name in enumerate(soma_names):\n",
    "    print(f\"\\n\\n------ Working on Soma {curr_soma_idx} -------\")\n",
    "    \n",
    "    neuron_cp = split_neuron_obj\n",
    "    \n",
    "    #getting all the soma information we will need for preprocessing\n",
    "    soma_obj = neuron_cp[curr_soma_name]\n",
    "    curr_soma_meshes = [soma_obj.mesh]\n",
    "    curr_soma_sdfs = [soma_obj.sdf]\n",
    "    curr_soma_volume_ratios = [soma_obj.volume_ratio]\n",
    "    \n",
    "    \n",
    "    \n",
    "    \n",
    "    \n",
    "    # getting the limb information and new soma connectivity\n",
    "    limb_neighbors = np.sort(xu.get_neighbors(neuron_cp.concept_network,curr_soma_name)).astype(\"int\")\n",
    "    limb_neighbors = [int(k) for k in limb_neighbors]\n",
    "    \n",
    "    soma_to_piece_connectivity = neuron_cp.preprocessed_data[\"soma_to_piece_connectivity\"][curr_soma_idx]\n",
    "\n",
    "    if len(np.intersect1d(limb_neighbors,soma_to_piece_connectivity)) < len(soma_to_piece_connectivity):\n",
    "        raise Exception(f\"piece connectivity ({soma_to_piece_connectivity}) not match limb neighbors ({limb_neighbors})\")\n",
    "\n",
    "    curr_soma_to_piece_connectivity = {0:np.arange(0,len(limb_neighbors))}\n",
    "    \n",
    "    \n",
    "    \n",
    "    \n",
    "    \n",
    "    \n",
    "    #getting the whole mesh and limb face correspondence\n",
    "    mesh_list_for_whole = [soma_obj.mesh]\n",
    "\n",
    "    #for the limb meshes\n",
    "    limb_meshes = []\n",
    "\n",
    "    #for the limb mesh faces idx\n",
    "    counter = len(curr_soma_meshes[0].faces)\n",
    "    face_idx_list = [np.arange(0,counter)]\n",
    "\n",
    "    old_node_to_new_node_mapping = dict()\n",
    "\n",
    "\n",
    "    for i,k in  enumerate(limb_neighbors):\n",
    "\n",
    "        #getting the name mapping\n",
    "        old_node_to_new_node_mapping[k] = i\n",
    "\n",
    "        #getting the meshes of the limbs\n",
    "        limb_mesh = neuron_cp[k].mesh\n",
    "        limb_meshes.append(limb_mesh)\n",
    "\n",
    "\n",
    "        mesh_list_for_whole.append(limb_mesh)\n",
    "        face_length = len(limb_mesh.faces)\n",
    "        face_idx_list.append(np.arange(counter,counter + face_length))\n",
    "        counter += face_length\n",
    "\n",
    "    whole_mesh = tu.combine_meshes(mesh_list_for_whole)\n",
    "\n",
    "    \n",
    "    \n",
    "    \n",
    "    \n",
    "    \n",
    "    # generating the new limb correspondence:\n",
    "    curr_limb_correspondence = dict([(i,neuron_cp.preprocessed_data[\"limb_correspondence\"][k]) for i,k in enumerate(limb_neighbors)])\n",
    "\n",
    "    \n",
    "    \n",
    "    \n",
    "    \n",
    "    \n",
    "    \n",
    "    \n",
    "    # concept network generation\n",
    "    curr_limb_network_stating_info = dict()\n",
    "\n",
    "\n",
    "    for k in limb_neighbors:\n",
    "\n",
    "        local_starting_info = neuron_cp.preprocessed_data[\"limb_network_stating_info\"][k]\n",
    "\n",
    "        #making sure the soma has the right name\n",
    "        soma_keys = list(local_starting_info.keys())\n",
    "        if len(soma_keys) > 1:\n",
    "            raise Exception(\"More than one soma connection\")\n",
    "        else:\n",
    "            soma_key = soma_keys[0]\n",
    "\n",
    "        if soma_key != 0:\n",
    "            local_starting_info = {0:local_starting_info[soma_key]}\n",
    "\n",
    "\n",
    "        #making sure the soma group has the right name\n",
    "        starting_group_keys = list(local_starting_info[0].keys())\n",
    "        if len(starting_group_keys) > 1 or starting_group_keys[0] != 0:\n",
    "            raise Exception(\"Touching group was not equal to 0\")\n",
    "\n",
    "        #save the new starting info\n",
    "        curr_limb_network_stating_info[old_node_to_new_node_mapping[k]] = local_starting_info\n",
    "\n",
    "    # creating the new concept networks from the starting info\n",
    "    curr_limb_concept_networks=dict()\n",
    "\n",
    "    for curr_limb_idx,new_limb_correspondence_indiv in curr_limb_correspondence.items():\n",
    "        limb_to_soma_concept_networks = pre.calculate_limb_concept_networks(new_limb_correspondence_indiv,\n",
    "                                                                            curr_limb_network_stating_info[curr_limb_idx],\n",
    "                                                                            run_concept_network_checks=True,\n",
    "                                                                           )   \n",
    "\n",
    "        curr_limb_concept_networks[curr_limb_idx] = limb_to_soma_concept_networks\n",
    "    \n",
    "    \n",
    "    \n",
    "    \n",
    "    \n",
    "    \n",
    "    \n",
    "    \n",
    "    #limb labels:\n",
    "    curr_limb_labels = dict()\n",
    "\n",
    "    for k in limb_neighbors:\n",
    "        local_limb_labels = neuron_cp.preprocessed_data[\"limb_labels\"][k]\n",
    "        if local_limb_labels is None or local_limb_labels == \"Unlabeled\":\n",
    "            local_limb_labels = []\n",
    "\n",
    "        local_limb_labels.append(f\"Soma_{curr_soma_idx}_originally\")\n",
    "        curr_limb_labels[old_node_to_new_node_mapping[k]] = local_limb_labels\n",
    "\n",
    "        \n",
    "        \n",
    "        \n",
    "        \n",
    "        \n",
    "        \n",
    "        \n",
    "        \n",
    "    #using all of the data to create new preprocessing info\n",
    "    new_preprocessed_data = preprocessed_data= dict(\n",
    "            #soma data\n",
    "            soma_meshes = curr_soma_meshes,\n",
    "            soma_sdfs = curr_soma_sdfs,\n",
    "            soma_volume_ratios=curr_soma_volume_ratios,\n",
    "\n",
    "            #soma connectivity\n",
    "            soma_to_piece_connectivity = curr_soma_to_piece_connectivity,\n",
    "\n",
    "            # limb info\n",
    "            limb_correspondence=curr_limb_correspondence,\n",
    "            limb_meshes=limb_meshes,\n",
    "            limb_mehses_face_idx = face_idx_list,\n",
    "            limb_labels=curr_limb_labels,\n",
    "\n",
    "            #concept network info\n",
    "            limb_concept_networks=curr_limb_concept_networks,\n",
    "            limb_network_stating_info=curr_limb_network_stating_info,\n",
    "\n",
    "\n",
    "            # the other mesh pieces that will not be included\n",
    "            insignificant_limbs=None,\n",
    "            not_processed_soma_containing_meshes=None,\n",
    "            non_soma_touching_meshes=None,\n",
    "            inside_pieces=None,\n",
    "\n",
    "\n",
    "            )\n",
    "\n",
    "    limb_to_branch_objects = dict()\n",
    "    for k in limb_neighbors:\n",
    "        limb_obj = neuron_cp[int(k)]\n",
    "        branch_dict = dict([(b,limb_obj[int(b)]) for b in limb_obj.get_branch_names()])\n",
    "        limb_to_branch_objects[old_node_to_new_node_mapping[k]] = branch_dict\n",
    "\n",
    "    segment_id = neuron_cp.segment_id\n",
    "    description = f\"{neuron_cp.description}_soma_{curr_soma_idx}_split\"\n",
    "    \n",
    "    \n",
    "    \n",
    "    \n",
    "    \n",
    "    # new neuron object:\n",
    "    \n",
    "    single_split_neuron_obj = neuron.Neuron(mesh=whole_mesh,\n",
    "             segment_id=segment_id,\n",
    "             description=description,\n",
    "             preprocessed_data=new_preprocessed_data,\n",
    "             limb_to_branch_objects=limb_to_branch_objects,\n",
    "             widths_to_calculate=[],\n",
    "            suppress_output=not verbose)\n",
    "    \n",
    "    \n",
    "    neuron_obj_list.append(single_split_neuron_obj)"
   ]
  },
  {
   "cell_type": "markdown",
   "metadata": {},
   "source": [
    "# Visualizing the results"
   ]
  },
  {
   "cell_type": "code",
   "execution_count": null,
   "metadata": {},
   "outputs": [],
   "source": [
    "print(f\"Number of seperate neuron objects = {len(neuron_obj_list)}\")"
   ]
  },
  {
   "cell_type": "code",
   "execution_count": null,
   "metadata": {},
   "outputs": [],
   "source": [
    "for n_obj in neuron_obj_list:\n",
    "    nviz.visualize_neuron(n_obj,\n",
    "                         visualize_type=[\"mesh\",\"skeleton\"],\n",
    "                         limb_branch_dict=\"all\")"
   ]
  }
 ],
 "metadata": {
  "kernelspec": {
   "display_name": "Python 3",
   "language": "python",
   "name": "python3"
  },
  "language_info": {
   "codemirror_mode": {
    "name": "ipython",
    "version": 3
   },
   "file_extension": ".py",
   "mimetype": "text/x-python",
   "name": "python",
   "nbconvert_exporter": "python",
   "pygments_lexer": "ipython3",
   "version": "3.6.9"
  }
 },
 "nbformat": 4,
 "nbformat_minor": 4
}
